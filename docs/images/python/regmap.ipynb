{
 "cells": [
  {
   "cell_type": "code",
   "execution_count": 2,
   "metadata": {
    "collapsed": false
   },
   "outputs": [],
   "source": [
    "import tes.registers as reg\n",
    "from collections import namedtuple"
   ]
  },
  {
   "cell_type": "code",
   "execution_count": 4,
   "metadata": {
    "collapsed": false
   },
   "outputs": [],
   "source": [
    "g = reg.global_map"
   ]
  },
  {
   "cell_type": "code",
   "execution_count": 5,
   "metadata": {
    "collapsed": false
   },
   "outputs": [
    {
     "data": {
      "text/plain": [
       "{'ad9510_status': reg_info(address=276824064, bit_field=(262144, 18), strobe=False, output_transform=<class 'bool'>),\n",
       " 'adc_chips': reg_info(address=276824064, bit_field=(65280, 8), strobe=False, output_transform=None),\n",
       " 'adc_enable': reg_info(address=268435584, bit_field=(255, 0), strobe=False, output_transform=None),\n",
       " 'channel_enable': reg_info(address=268435712, bit_field=(255, 0), strobe=False, output_transform=None),\n",
       " 'channels': reg_info(address=276824064, bit_field=(255, 0), strobe=False, output_transform=None),\n",
       " 'cpu_version': reg_info(address=268435456, bit_field=(), strobe=False, output_transform=<function _cpu_version at 0x0000000005AE8F28>),\n",
       " 'fmc': reg_info(address=276824064, bit_field=(65536, 16), strobe=False, output_transform=<class 'bool'>),\n",
       " 'fmc_internal_clk': reg_info(address=268435968, bit_field=(1, 0), strobe=False, output_transform=<class 'bool'>),\n",
       " 'fmc_power': reg_info(address=276824064, bit_field=(131072, 17), strobe=False, output_transform=<class 'bool'>),\n",
       " 'hdl_version': reg_info(address=268435457, bit_field=(), strobe=False, output_transform=<function <lambda> at 0x0000000005AEAC80>),\n",
       " 'iodelay_ready': reg_info(address=276824064, bit_field=(1048576, 20), strobe=False, output_transform=<class 'bool'>),\n",
       " 'mmcm_locked': reg_info(address=276824064, bit_field=(524288, 19), strobe=False, output_transform=<class 'bool'>),\n",
       " 'mtu': reg_info(address=268435472, bit_field=(), strobe=False, output_transform=None),\n",
       " 'tick_latency': reg_info(address=268435520, bit_field=(), strobe=False, output_transform=None),\n",
       " 'tick_period': reg_info(address=268435488, bit_field=(), strobe=False, output_transform=None),\n",
       " 'vco_power_en': reg_info(address=268435968, bit_field=(2, 1), strobe=False, output_transform=<class 'bool'>),\n",
       " 'window': reg_info(address=268436480, bit_field=(), strobe=False, output_transform=None)}"
      ]
     },
     "execution_count": 5,
     "metadata": {},
     "output_type": "execute_result"
    }
   ],
   "source": [
    "g"
   ]
  },
  {
   "cell_type": "code",
   "execution_count": null,
   "metadata": {
    "collapsed": true
   },
   "outputs": [],
   "source": []
  }
 ],
 "metadata": {
  "kernelspec": {
   "display_name": "Python 3",
   "language": "python",
   "name": "python3"
  },
  "language_info": {
   "codemirror_mode": {
    "name": "ipython",
    "version": 3
   },
   "file_extension": ".py",
   "mimetype": "text/x-python",
   "name": "python",
   "nbconvert_exporter": "python",
   "pygments_lexer": "ipython3",
   "version": "3.5.2"
  }
 },
 "nbformat": 4,
 "nbformat_minor": 0
}
