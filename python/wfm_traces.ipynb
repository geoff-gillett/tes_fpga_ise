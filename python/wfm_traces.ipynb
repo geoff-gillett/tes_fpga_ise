{
 "cells": [
  {
   "cell_type": "code",
   "execution_count": 1,
   "metadata": {
    "collapsed": true
   },
   "outputs": [],
   "source": [
    "import numpy as np\n",
    "import matplotlib.pyplot as plt"
   ]
  },
  {
   "cell_type": "code",
   "execution_count": 2,
   "metadata": {
    "collapsed": true
   },
   "outputs": [],
   "source": [
    "def fromwfm(file):\n",
    "    d = np.fromfile(file,np.int16)\n",
    "    return d[1100:]\n",
    "\n",
    "def tobin(data,file):\n",
    "    with open(file,'w') as f:\n",
    "        data.tofile(f)"
   ]
  },
  {
   "cell_type": "code",
   "execution_count": null,
   "metadata": {
    "collapsed": true
   },
   "outputs": [],
   "source": [
    "# darkold=fromwfm('../../new traces/50mvCh1on_amp_dark_burst_250.wfm')\n",
    "dark_minimal=fromwfm('../../new traces/feb10/5mv_minimal_dark.wfm')\n",
    "dark_usual=fromwfm('../../new traces/feb10/5mv_usual_dark.wfm')\n",
    "# dark_burst=fromwfm('../../new traces/feb10/5mv_usual_dark_bigburst.wfm')\n",
    "#diode=fromwfm('../../new traces/feb9/100mvCh1on_amp_100khzdiode_250-132mv.wfm')\n",
    "gt1=fromwfm('../../new traces/gt1_100khz.wfm')"
   ]
  },
  {
   "cell_type": "code",
   "execution_count": null,
   "metadata": {
    "collapsed": true
   },
   "outputs": [],
   "source": [
    "tobin(diode-1000,'../input_signals/100mvCh1on_amp_100khzdiode_250-132mv.bin')"
   ]
  },
  {
   "cell_type": "code",
   "execution_count": null,
   "metadata": {
    "collapsed": true
   },
   "outputs": [],
   "source": [
    "len(dark_minimal)"
   ]
  },
  {
   "cell_type": "code",
   "execution_count": null,
   "metadata": {
    "collapsed": true,
    "scrolled": false
   },
   "outputs": [],
   "source": [
    "%matplotlib notebook\n",
    "#diode=np.fromfile('../input_signals/50mvCh1on_amp_100khzdiode_250_1.bin',np.int32)\n",
    "plt.plot(dark_minimal[500000:700000])"
   ]
  },
  {
   "cell_type": "code",
   "execution_count": null,
   "metadata": {
    "collapsed": true
   },
   "outputs": [],
   "source": [
    "diode=np.float64(diode)\n",
    "diode-=np.mean(diode)"
   ]
  },
  {
   "cell_type": "code",
   "execution_count": null,
   "metadata": {
    "collapsed": true
   },
   "outputs": [],
   "source": [
    "diode=np.int32(np.round(diode/5))"
   ]
  },
  {
   "cell_type": "code",
   "execution_count": null,
   "metadata": {
    "collapsed": true
   },
   "outputs": [],
   "source": [
    "min(diode),max(diode),np.mean(diode)"
   ]
  },
  {
   "cell_type": "code",
   "execution_count": null,
   "metadata": {
    "collapsed": true
   },
   "outputs": [],
   "source": [
    "(max(diode)-min(diode))/2**16"
   ]
  },
  {
   "cell_type": "code",
   "execution_count": null,
   "metadata": {
    "collapsed": true
   },
   "outputs": [],
   "source": [
    "%matplotlib notebook\n",
    "plt.plot(dark)"
   ]
  },
  {
   "cell_type": "code",
   "execution_count": null,
   "metadata": {
    "collapsed": true
   },
   "outputs": [],
   "source": [
    "\n",
    "%matplotlib notebook\n",
    "plt.plot(darkold)"
   ]
  },
  {
   "cell_type": "code",
   "execution_count": null,
   "metadata": {
    "collapsed": true
   },
   "outputs": [],
   "source": [
    "np.mean(dark)/132"
   ]
  },
  {
   "cell_type": "code",
   "execution_count": null,
   "metadata": {
    "collapsed": true
   },
   "outputs": [],
   "source": [
    "np.mean(diode)/132"
   ]
  },
  {
   "cell_type": "code",
   "execution_count": null,
   "metadata": {
    "collapsed": true
   },
   "outputs": [],
   "source": [
    "%matplotlib notebook\n",
    "from scipy.signal import welch\n",
    "f_dm,pxx_dm = welch(dark_minimal-np.mean(dark_minimal),250,nperseg=1024*256)\n",
    "#plt.plot(f_dm,pxx_dm/sum(pxx_dm))"
   ]
  },
  {
   "cell_type": "code",
   "execution_count": null,
   "metadata": {
    "collapsed": true
   },
   "outputs": [],
   "source": [
    "%matplotlib notebook\n",
    "from scipy.signal import welch\n",
    "f_du,pxx_du = welch(dark_usual-np.mean(dark_usual),250,nperseg=1024*256)\n",
    "#plt.plot(f_du,pxx_du/sum(pxx_du))"
   ]
  },
  {
   "cell_type": "code",
   "execution_count": null,
   "metadata": {
    "collapsed": true
   },
   "outputs": [],
   "source": [
    "%matplotlib notebook\n",
    "from scipy.signal import welch\n",
    "f_dub,pxx_dub = welch(dark_burst-np.mean(dark_burst),250,nperseg=1024*2)\n",
    "plt.plot(f_dub,pxx_dub/sum(pxx_dub))"
   ]
  },
  {
   "cell_type": "code",
   "execution_count": null,
   "metadata": {
    "collapsed": true,
    "scrolled": false
   },
   "outputs": [],
   "source": [
    "%matplotlib notebook\n",
    "from scipy.signal import welch\n",
    "#fd,pdxx = welch(diode-np.mean(diode),250,nperseg=2048*256)\n",
    "plt.plot(f_dm,pxx_dm/sum(pxx_dm),'k',lw=1)\n",
    "plt.plot(f_du,pxx_du/sum(pxx_du),'r',lw=3,alpha=.5)"
   ]
  },
  {
   "cell_type": "code",
   "execution_count": null,
   "metadata": {
    "collapsed": true
   },
   "outputs": [],
   "source": [
    "%matplotlib notebook\n",
    "plt.plot(diode)"
   ]
  },
  {
   "cell_type": "code",
   "execution_count": null,
   "metadata": {
    "collapsed": true
   },
   "outputs": [],
   "source": [
    "1/160e-9\n"
   ]
  },
  {
   "cell_type": "code",
   "execution_count": null,
   "metadata": {
    "collapsed": true
   },
   "outputs": [],
   "source": [
    "d=np.fromfile('../../new traces/TES2_250MS.wfm',np.int16)\n",
    "e=np.fromfile('../../new traces/100mvCh1_250.wfm',np.int16)\n",
    "d=d[128+14:]"
   ]
  },
  {
   "cell_type": "code",
   "execution_count": null,
   "metadata": {
    "collapsed": true
   },
   "outputs": [],
   "source": [
    "p0=24000+4500-1000+100-14\n",
    "p=np.arange(p0,len(d),25000)\n",
    "t=np.arange(0,len(d))"
   ]
  },
  {
   "cell_type": "code",
   "execution_count": null,
   "metadata": {
    "collapsed": true
   },
   "outputs": [],
   "source": [
    "%matplotlib notebook\n",
    "plt.step(t,-d)\n",
    "plt.plot(p,2000*np.ones(len(p)),'or')"
   ]
  },
  {
   "cell_type": "code",
   "execution_count": null,
   "metadata": {
    "collapsed": true
   },
   "outputs": [],
   "source": [
    "%matplotlib notebook\n",
    "h=plt.plot(e[1000:])\n",
    "a=plt.gca()\n",
    "l=a.yaxis.get_ticklabels()"
   ]
  },
  {
   "cell_type": "code",
   "execution_count": null,
   "metadata": {
    "collapsed": true
   },
   "outputs": [],
   "source": [
    "diode=np.int32(diode[200:])\n"
   ]
  },
  {
   "cell_type": "code",
   "execution_count": null,
   "metadata": {
    "collapsed": true
   },
   "outputs": [],
   "source": [
    "min(diode)"
   ]
  },
  {
   "cell_type": "code",
   "execution_count": null,
   "metadata": {
    "collapsed": true
   },
   "outputs": [],
   "source": [
    "d=diode-min(diode)"
   ]
  },
  {
   "cell_type": "code",
   "execution_count": null,
   "metadata": {
    "collapsed": true
   },
   "outputs": [],
   "source": [
    "%matplotlib notebook\n",
    "plt.plot(d)"
   ]
  },
  {
   "cell_type": "code",
   "execution_count": null,
   "metadata": {
    "collapsed": true
   },
   "outputs": [],
   "source": [
    "max(d)"
   ]
  },
  {
   "cell_type": "code",
   "execution_count": null,
   "metadata": {
    "collapsed": true
   },
   "outputs": [],
   "source": [
    "ds=d/16\n",
    "r=np.around(ds-min(ds)+100)\n",
    "data=np.int32(r)"
   ]
  },
  {
   "cell_type": "code",
   "execution_count": null,
   "metadata": {
    "collapsed": true
   },
   "outputs": [],
   "source": [
    "%matplotlib notebook\n",
    "plt.plot(data)"
   ]
  },
  {
   "cell_type": "code",
   "execution_count": null,
   "metadata": {
    "collapsed": true
   },
   "outputs": [],
   "source": [
    "min(data)"
   ]
  },
  {
   "cell_type": "code",
   "execution_count": null,
   "metadata": {
    "collapsed": true
   },
   "outputs": [],
   "source": [
    "with open('../input_signals/50mvCh1on_amp_100khzdiode_250_1.bin','w') as f:\n",
    "    data.tofile(f)"
   ]
  },
  {
   "cell_type": "code",
   "execution_count": null,
   "metadata": {
    "collapsed": true
   },
   "outputs": [],
   "source": [
    "min(data)"
   ]
  },
  {
   "cell_type": "code",
   "execution_count": null,
   "metadata": {
    "collapsed": true
   },
   "outputs": [],
   "source": [
    "(-min(ds)+100)*4"
   ]
  },
  {
   "cell_type": "code",
   "execution_count": null,
   "metadata": {
    "collapsed": true
   },
   "outputs": [],
   "source": [
    "max(data)"
   ]
  },
  {
   "cell_type": "code",
   "execution_count": null,
   "metadata": {
    "collapsed": true
   },
   "outputs": [],
   "source": [
    "pwd"
   ]
  },
  {
   "cell_type": "code",
   "execution_count": null,
   "metadata": {
    "collapsed": true
   },
   "outputs": [],
   "source": [
    "%matplotlib notebook\n",
    "tes2_250_old=fromwfm('../../new traces/TES2_250MS.wfm')\n",
    "t = np.int32(np.round(-(tes2_250_old-np.mean(tes2_250_old))/8))\n",
    "plt.plot(t)\n",
    "tobin(t,'../input_signals/tes2_250_old.bin')"
   ]
  },
  {
   "cell_type": "code",
   "execution_count": null,
   "metadata": {
    "collapsed": true
   },
   "outputs": [],
   "source": [
    "%matplotlib notebook\n",
    "gt1_100khz = fromwfm('../../new traces/gt1_100khz.wfm')\n",
    "t = np.int32(np.round((gt1_100khz-np.mean(gt1_100khz))/8))\n",
    "plt.plot(t)\n",
    "# tobin(t,'../../bin_traces/july 10/gt1_100khz.bin')"
   ]
  },
  {
   "cell_type": "code",
   "execution_count": null,
   "metadata": {
    "collapsed": true
   },
   "outputs": [],
   "source": [
    "np.mean(t)"
   ]
  },
  {
   "cell_type": "code",
   "execution_count": 13,
   "metadata": {},
   "outputs": [
    {
     "data": {
      "application/javascript": [
       "/* Put everything inside the global mpl namespace */\n",
       "window.mpl = {};\n",
       "\n",
       "\n",
       "mpl.get_websocket_type = function() {\n",
       "    if (typeof(WebSocket) !== 'undefined') {\n",
       "        return WebSocket;\n",
       "    } else if (typeof(MozWebSocket) !== 'undefined') {\n",
       "        return MozWebSocket;\n",
       "    } else {\n",
       "        alert('Your browser does not have WebSocket support.' +\n",
       "              'Please try Chrome, Safari or Firefox ≥ 6. ' +\n",
       "              'Firefox 4 and 5 are also supported but you ' +\n",
       "              'have to enable WebSockets in about:config.');\n",
       "    };\n",
       "}\n",
       "\n",
       "mpl.figure = function(figure_id, websocket, ondownload, parent_element) {\n",
       "    this.id = figure_id;\n",
       "\n",
       "    this.ws = websocket;\n",
       "\n",
       "    this.supports_binary = (this.ws.binaryType != undefined);\n",
       "\n",
       "    if (!this.supports_binary) {\n",
       "        var warnings = document.getElementById(\"mpl-warnings\");\n",
       "        if (warnings) {\n",
       "            warnings.style.display = 'block';\n",
       "            warnings.textContent = (\n",
       "                \"This browser does not support binary websocket messages. \" +\n",
       "                    \"Performance may be slow.\");\n",
       "        }\n",
       "    }\n",
       "\n",
       "    this.imageObj = new Image();\n",
       "\n",
       "    this.context = undefined;\n",
       "    this.message = undefined;\n",
       "    this.canvas = undefined;\n",
       "    this.rubberband_canvas = undefined;\n",
       "    this.rubberband_context = undefined;\n",
       "    this.format_dropdown = undefined;\n",
       "\n",
       "    this.image_mode = 'full';\n",
       "\n",
       "    this.root = $('<div/>');\n",
       "    this._root_extra_style(this.root)\n",
       "    this.root.attr('style', 'display: inline-block');\n",
       "\n",
       "    $(parent_element).append(this.root);\n",
       "\n",
       "    this._init_header(this);\n",
       "    this._init_canvas(this);\n",
       "    this._init_toolbar(this);\n",
       "\n",
       "    var fig = this;\n",
       "\n",
       "    this.waiting = false;\n",
       "\n",
       "    this.ws.onopen =  function () {\n",
       "            fig.send_message(\"supports_binary\", {value: fig.supports_binary});\n",
       "            fig.send_message(\"send_image_mode\", {});\n",
       "            if (mpl.ratio != 1) {\n",
       "                fig.send_message(\"set_dpi_ratio\", {'dpi_ratio': mpl.ratio});\n",
       "            }\n",
       "            fig.send_message(\"refresh\", {});\n",
       "        }\n",
       "\n",
       "    this.imageObj.onload = function() {\n",
       "            if (fig.image_mode == 'full') {\n",
       "                // Full images could contain transparency (where diff images\n",
       "                // almost always do), so we need to clear the canvas so that\n",
       "                // there is no ghosting.\n",
       "                fig.context.clearRect(0, 0, fig.canvas.width, fig.canvas.height);\n",
       "            }\n",
       "            fig.context.drawImage(fig.imageObj, 0, 0);\n",
       "        };\n",
       "\n",
       "    this.imageObj.onunload = function() {\n",
       "        this.ws.close();\n",
       "    }\n",
       "\n",
       "    this.ws.onmessage = this._make_on_message_function(this);\n",
       "\n",
       "    this.ondownload = ondownload;\n",
       "}\n",
       "\n",
       "mpl.figure.prototype._init_header = function() {\n",
       "    var titlebar = $(\n",
       "        '<div class=\"ui-dialog-titlebar ui-widget-header ui-corner-all ' +\n",
       "        'ui-helper-clearfix\"/>');\n",
       "    var titletext = $(\n",
       "        '<div class=\"ui-dialog-title\" style=\"width: 100%; ' +\n",
       "        'text-align: center; padding: 3px;\"/>');\n",
       "    titlebar.append(titletext)\n",
       "    this.root.append(titlebar);\n",
       "    this.header = titletext[0];\n",
       "}\n",
       "\n",
       "\n",
       "\n",
       "mpl.figure.prototype._canvas_extra_style = function(canvas_div) {\n",
       "\n",
       "}\n",
       "\n",
       "\n",
       "mpl.figure.prototype._root_extra_style = function(canvas_div) {\n",
       "\n",
       "}\n",
       "\n",
       "mpl.figure.prototype._init_canvas = function() {\n",
       "    var fig = this;\n",
       "\n",
       "    var canvas_div = $('<div/>');\n",
       "\n",
       "    canvas_div.attr('style', 'position: relative; clear: both; outline: 0');\n",
       "\n",
       "    function canvas_keyboard_event(event) {\n",
       "        return fig.key_event(event, event['data']);\n",
       "    }\n",
       "\n",
       "    canvas_div.keydown('key_press', canvas_keyboard_event);\n",
       "    canvas_div.keyup('key_release', canvas_keyboard_event);\n",
       "    this.canvas_div = canvas_div\n",
       "    this._canvas_extra_style(canvas_div)\n",
       "    this.root.append(canvas_div);\n",
       "\n",
       "    var canvas = $('<canvas/>');\n",
       "    canvas.addClass('mpl-canvas');\n",
       "    canvas.attr('style', \"left: 0; top: 0; z-index: 0; outline: 0\")\n",
       "\n",
       "    this.canvas = canvas[0];\n",
       "    this.context = canvas[0].getContext(\"2d\");\n",
       "\n",
       "    var backingStore = this.context.backingStorePixelRatio ||\n",
       "\tthis.context.webkitBackingStorePixelRatio ||\n",
       "\tthis.context.mozBackingStorePixelRatio ||\n",
       "\tthis.context.msBackingStorePixelRatio ||\n",
       "\tthis.context.oBackingStorePixelRatio ||\n",
       "\tthis.context.backingStorePixelRatio || 1;\n",
       "\n",
       "    mpl.ratio = (window.devicePixelRatio || 1) / backingStore;\n",
       "\n",
       "    var rubberband = $('<canvas/>');\n",
       "    rubberband.attr('style', \"position: absolute; left: 0; top: 0; z-index: 1;\")\n",
       "\n",
       "    var pass_mouse_events = true;\n",
       "\n",
       "    canvas_div.resizable({\n",
       "        start: function(event, ui) {\n",
       "            pass_mouse_events = false;\n",
       "        },\n",
       "        resize: function(event, ui) {\n",
       "            fig.request_resize(ui.size.width, ui.size.height);\n",
       "        },\n",
       "        stop: function(event, ui) {\n",
       "            pass_mouse_events = true;\n",
       "            fig.request_resize(ui.size.width, ui.size.height);\n",
       "        },\n",
       "    });\n",
       "\n",
       "    function mouse_event_fn(event) {\n",
       "        if (pass_mouse_events)\n",
       "            return fig.mouse_event(event, event['data']);\n",
       "    }\n",
       "\n",
       "    rubberband.mousedown('button_press', mouse_event_fn);\n",
       "    rubberband.mouseup('button_release', mouse_event_fn);\n",
       "    // Throttle sequential mouse events to 1 every 20ms.\n",
       "    rubberband.mousemove('motion_notify', mouse_event_fn);\n",
       "\n",
       "    rubberband.mouseenter('figure_enter', mouse_event_fn);\n",
       "    rubberband.mouseleave('figure_leave', mouse_event_fn);\n",
       "\n",
       "    canvas_div.on(\"wheel\", function (event) {\n",
       "        event = event.originalEvent;\n",
       "        event['data'] = 'scroll'\n",
       "        if (event.deltaY < 0) {\n",
       "            event.step = 1;\n",
       "        } else {\n",
       "            event.step = -1;\n",
       "        }\n",
       "        mouse_event_fn(event);\n",
       "    });\n",
       "\n",
       "    canvas_div.append(canvas);\n",
       "    canvas_div.append(rubberband);\n",
       "\n",
       "    this.rubberband = rubberband;\n",
       "    this.rubberband_canvas = rubberband[0];\n",
       "    this.rubberband_context = rubberband[0].getContext(\"2d\");\n",
       "    this.rubberband_context.strokeStyle = \"#000000\";\n",
       "\n",
       "    this._resize_canvas = function(width, height) {\n",
       "        // Keep the size of the canvas, canvas container, and rubber band\n",
       "        // canvas in synch.\n",
       "        canvas_div.css('width', width)\n",
       "        canvas_div.css('height', height)\n",
       "\n",
       "        canvas.attr('width', width * mpl.ratio);\n",
       "        canvas.attr('height', height * mpl.ratio);\n",
       "        canvas.attr('style', 'width: ' + width + 'px; height: ' + height + 'px;');\n",
       "\n",
       "        rubberband.attr('width', width);\n",
       "        rubberband.attr('height', height);\n",
       "    }\n",
       "\n",
       "    // Set the figure to an initial 600x600px, this will subsequently be updated\n",
       "    // upon first draw.\n",
       "    this._resize_canvas(600, 600);\n",
       "\n",
       "    // Disable right mouse context menu.\n",
       "    $(this.rubberband_canvas).bind(\"contextmenu\",function(e){\n",
       "        return false;\n",
       "    });\n",
       "\n",
       "    function set_focus () {\n",
       "        canvas.focus();\n",
       "        canvas_div.focus();\n",
       "    }\n",
       "\n",
       "    window.setTimeout(set_focus, 100);\n",
       "}\n",
       "\n",
       "mpl.figure.prototype._init_toolbar = function() {\n",
       "    var fig = this;\n",
       "\n",
       "    var nav_element = $('<div/>')\n",
       "    nav_element.attr('style', 'width: 100%');\n",
       "    this.root.append(nav_element);\n",
       "\n",
       "    // Define a callback function for later on.\n",
       "    function toolbar_event(event) {\n",
       "        return fig.toolbar_button_onclick(event['data']);\n",
       "    }\n",
       "    function toolbar_mouse_event(event) {\n",
       "        return fig.toolbar_button_onmouseover(event['data']);\n",
       "    }\n",
       "\n",
       "    for(var toolbar_ind in mpl.toolbar_items) {\n",
       "        var name = mpl.toolbar_items[toolbar_ind][0];\n",
       "        var tooltip = mpl.toolbar_items[toolbar_ind][1];\n",
       "        var image = mpl.toolbar_items[toolbar_ind][2];\n",
       "        var method_name = mpl.toolbar_items[toolbar_ind][3];\n",
       "\n",
       "        if (!name) {\n",
       "            // put a spacer in here.\n",
       "            continue;\n",
       "        }\n",
       "        var button = $('<button/>');\n",
       "        button.addClass('ui-button ui-widget ui-state-default ui-corner-all ' +\n",
       "                        'ui-button-icon-only');\n",
       "        button.attr('role', 'button');\n",
       "        button.attr('aria-disabled', 'false');\n",
       "        button.click(method_name, toolbar_event);\n",
       "        button.mouseover(tooltip, toolbar_mouse_event);\n",
       "\n",
       "        var icon_img = $('<span/>');\n",
       "        icon_img.addClass('ui-button-icon-primary ui-icon');\n",
       "        icon_img.addClass(image);\n",
       "        icon_img.addClass('ui-corner-all');\n",
       "\n",
       "        var tooltip_span = $('<span/>');\n",
       "        tooltip_span.addClass('ui-button-text');\n",
       "        tooltip_span.html(tooltip);\n",
       "\n",
       "        button.append(icon_img);\n",
       "        button.append(tooltip_span);\n",
       "\n",
       "        nav_element.append(button);\n",
       "    }\n",
       "\n",
       "    var fmt_picker_span = $('<span/>');\n",
       "\n",
       "    var fmt_picker = $('<select/>');\n",
       "    fmt_picker.addClass('mpl-toolbar-option ui-widget ui-widget-content');\n",
       "    fmt_picker_span.append(fmt_picker);\n",
       "    nav_element.append(fmt_picker_span);\n",
       "    this.format_dropdown = fmt_picker[0];\n",
       "\n",
       "    for (var ind in mpl.extensions) {\n",
       "        var fmt = mpl.extensions[ind];\n",
       "        var option = $(\n",
       "            '<option/>', {selected: fmt === mpl.default_extension}).html(fmt);\n",
       "        fmt_picker.append(option)\n",
       "    }\n",
       "\n",
       "    // Add hover states to the ui-buttons\n",
       "    $( \".ui-button\" ).hover(\n",
       "        function() { $(this).addClass(\"ui-state-hover\");},\n",
       "        function() { $(this).removeClass(\"ui-state-hover\");}\n",
       "    );\n",
       "\n",
       "    var status_bar = $('<span class=\"mpl-message\"/>');\n",
       "    nav_element.append(status_bar);\n",
       "    this.message = status_bar[0];\n",
       "}\n",
       "\n",
       "mpl.figure.prototype.request_resize = function(x_pixels, y_pixels) {\n",
       "    // Request matplotlib to resize the figure. Matplotlib will then trigger a resize in the client,\n",
       "    // which will in turn request a refresh of the image.\n",
       "    this.send_message('resize', {'width': x_pixels, 'height': y_pixels});\n",
       "}\n",
       "\n",
       "mpl.figure.prototype.send_message = function(type, properties) {\n",
       "    properties['type'] = type;\n",
       "    properties['figure_id'] = this.id;\n",
       "    this.ws.send(JSON.stringify(properties));\n",
       "}\n",
       "\n",
       "mpl.figure.prototype.send_draw_message = function() {\n",
       "    if (!this.waiting) {\n",
       "        this.waiting = true;\n",
       "        this.ws.send(JSON.stringify({type: \"draw\", figure_id: this.id}));\n",
       "    }\n",
       "}\n",
       "\n",
       "\n",
       "mpl.figure.prototype.handle_save = function(fig, msg) {\n",
       "    var format_dropdown = fig.format_dropdown;\n",
       "    var format = format_dropdown.options[format_dropdown.selectedIndex].value;\n",
       "    fig.ondownload(fig, format);\n",
       "}\n",
       "\n",
       "\n",
       "mpl.figure.prototype.handle_resize = function(fig, msg) {\n",
       "    var size = msg['size'];\n",
       "    if (size[0] != fig.canvas.width || size[1] != fig.canvas.height) {\n",
       "        fig._resize_canvas(size[0], size[1]);\n",
       "        fig.send_message(\"refresh\", {});\n",
       "    };\n",
       "}\n",
       "\n",
       "mpl.figure.prototype.handle_rubberband = function(fig, msg) {\n",
       "    var x0 = msg['x0'] / mpl.ratio;\n",
       "    var y0 = (fig.canvas.height - msg['y0']) / mpl.ratio;\n",
       "    var x1 = msg['x1'] / mpl.ratio;\n",
       "    var y1 = (fig.canvas.height - msg['y1']) / mpl.ratio;\n",
       "    x0 = Math.floor(x0) + 0.5;\n",
       "    y0 = Math.floor(y0) + 0.5;\n",
       "    x1 = Math.floor(x1) + 0.5;\n",
       "    y1 = Math.floor(y1) + 0.5;\n",
       "    var min_x = Math.min(x0, x1);\n",
       "    var min_y = Math.min(y0, y1);\n",
       "    var width = Math.abs(x1 - x0);\n",
       "    var height = Math.abs(y1 - y0);\n",
       "\n",
       "    fig.rubberband_context.clearRect(\n",
       "        0, 0, fig.canvas.width, fig.canvas.height);\n",
       "\n",
       "    fig.rubberband_context.strokeRect(min_x, min_y, width, height);\n",
       "}\n",
       "\n",
       "mpl.figure.prototype.handle_figure_label = function(fig, msg) {\n",
       "    // Updates the figure title.\n",
       "    fig.header.textContent = msg['label'];\n",
       "}\n",
       "\n",
       "mpl.figure.prototype.handle_cursor = function(fig, msg) {\n",
       "    var cursor = msg['cursor'];\n",
       "    switch(cursor)\n",
       "    {\n",
       "    case 0:\n",
       "        cursor = 'pointer';\n",
       "        break;\n",
       "    case 1:\n",
       "        cursor = 'default';\n",
       "        break;\n",
       "    case 2:\n",
       "        cursor = 'crosshair';\n",
       "        break;\n",
       "    case 3:\n",
       "        cursor = 'move';\n",
       "        break;\n",
       "    }\n",
       "    fig.rubberband_canvas.style.cursor = cursor;\n",
       "}\n",
       "\n",
       "mpl.figure.prototype.handle_message = function(fig, msg) {\n",
       "    fig.message.textContent = msg['message'];\n",
       "}\n",
       "\n",
       "mpl.figure.prototype.handle_draw = function(fig, msg) {\n",
       "    // Request the server to send over a new figure.\n",
       "    fig.send_draw_message();\n",
       "}\n",
       "\n",
       "mpl.figure.prototype.handle_image_mode = function(fig, msg) {\n",
       "    fig.image_mode = msg['mode'];\n",
       "}\n",
       "\n",
       "mpl.figure.prototype.updated_canvas_event = function() {\n",
       "    // Called whenever the canvas gets updated.\n",
       "    this.send_message(\"ack\", {});\n",
       "}\n",
       "\n",
       "// A function to construct a web socket function for onmessage handling.\n",
       "// Called in the figure constructor.\n",
       "mpl.figure.prototype._make_on_message_function = function(fig) {\n",
       "    return function socket_on_message(evt) {\n",
       "        if (evt.data instanceof Blob) {\n",
       "            /* FIXME: We get \"Resource interpreted as Image but\n",
       "             * transferred with MIME type text/plain:\" errors on\n",
       "             * Chrome.  But how to set the MIME type?  It doesn't seem\n",
       "             * to be part of the websocket stream */\n",
       "            evt.data.type = \"image/png\";\n",
       "\n",
       "            /* Free the memory for the previous frames */\n",
       "            if (fig.imageObj.src) {\n",
       "                (window.URL || window.webkitURL).revokeObjectURL(\n",
       "                    fig.imageObj.src);\n",
       "            }\n",
       "\n",
       "            fig.imageObj.src = (window.URL || window.webkitURL).createObjectURL(\n",
       "                evt.data);\n",
       "            fig.updated_canvas_event();\n",
       "            fig.waiting = false;\n",
       "            return;\n",
       "        }\n",
       "        else if (typeof evt.data === 'string' && evt.data.slice(0, 21) == \"data:image/png;base64\") {\n",
       "            fig.imageObj.src = evt.data;\n",
       "            fig.updated_canvas_event();\n",
       "            fig.waiting = false;\n",
       "            return;\n",
       "        }\n",
       "\n",
       "        var msg = JSON.parse(evt.data);\n",
       "        var msg_type = msg['type'];\n",
       "\n",
       "        // Call the  \"handle_{type}\" callback, which takes\n",
       "        // the figure and JSON message as its only arguments.\n",
       "        try {\n",
       "            var callback = fig[\"handle_\" + msg_type];\n",
       "        } catch (e) {\n",
       "            console.log(\"No handler for the '\" + msg_type + \"' message type: \", msg);\n",
       "            return;\n",
       "        }\n",
       "\n",
       "        if (callback) {\n",
       "            try {\n",
       "                // console.log(\"Handling '\" + msg_type + \"' message: \", msg);\n",
       "                callback(fig, msg);\n",
       "            } catch (e) {\n",
       "                console.log(\"Exception inside the 'handler_\" + msg_type + \"' callback:\", e, e.stack, msg);\n",
       "            }\n",
       "        }\n",
       "    };\n",
       "}\n",
       "\n",
       "// from http://stackoverflow.com/questions/1114465/getting-mouse-location-in-canvas\n",
       "mpl.findpos = function(e) {\n",
       "    //this section is from http://www.quirksmode.org/js/events_properties.html\n",
       "    var targ;\n",
       "    if (!e)\n",
       "        e = window.event;\n",
       "    if (e.target)\n",
       "        targ = e.target;\n",
       "    else if (e.srcElement)\n",
       "        targ = e.srcElement;\n",
       "    if (targ.nodeType == 3) // defeat Safari bug\n",
       "        targ = targ.parentNode;\n",
       "\n",
       "    // jQuery normalizes the pageX and pageY\n",
       "    // pageX,Y are the mouse positions relative to the document\n",
       "    // offset() returns the position of the element relative to the document\n",
       "    var x = e.pageX - $(targ).offset().left;\n",
       "    var y = e.pageY - $(targ).offset().top;\n",
       "\n",
       "    return {\"x\": x, \"y\": y};\n",
       "};\n",
       "\n",
       "/*\n",
       " * return a copy of an object with only non-object keys\n",
       " * we need this to avoid circular references\n",
       " * http://stackoverflow.com/a/24161582/3208463\n",
       " */\n",
       "function simpleKeys (original) {\n",
       "  return Object.keys(original).reduce(function (obj, key) {\n",
       "    if (typeof original[key] !== 'object')\n",
       "        obj[key] = original[key]\n",
       "    return obj;\n",
       "  }, {});\n",
       "}\n",
       "\n",
       "mpl.figure.prototype.mouse_event = function(event, name) {\n",
       "    var canvas_pos = mpl.findpos(event)\n",
       "\n",
       "    if (name === 'button_press')\n",
       "    {\n",
       "        this.canvas.focus();\n",
       "        this.canvas_div.focus();\n",
       "    }\n",
       "\n",
       "    var x = canvas_pos.x * mpl.ratio;\n",
       "    var y = canvas_pos.y * mpl.ratio;\n",
       "\n",
       "    this.send_message(name, {x: x, y: y, button: event.button,\n",
       "                             step: event.step,\n",
       "                             guiEvent: simpleKeys(event)});\n",
       "\n",
       "    /* This prevents the web browser from automatically changing to\n",
       "     * the text insertion cursor when the button is pressed.  We want\n",
       "     * to control all of the cursor setting manually through the\n",
       "     * 'cursor' event from matplotlib */\n",
       "    event.preventDefault();\n",
       "    return false;\n",
       "}\n",
       "\n",
       "mpl.figure.prototype._key_event_extra = function(event, name) {\n",
       "    // Handle any extra behaviour associated with a key event\n",
       "}\n",
       "\n",
       "mpl.figure.prototype.key_event = function(event, name) {\n",
       "\n",
       "    // Prevent repeat events\n",
       "    if (name == 'key_press')\n",
       "    {\n",
       "        if (event.which === this._key)\n",
       "            return;\n",
       "        else\n",
       "            this._key = event.which;\n",
       "    }\n",
       "    if (name == 'key_release')\n",
       "        this._key = null;\n",
       "\n",
       "    var value = '';\n",
       "    if (event.ctrlKey && event.which != 17)\n",
       "        value += \"ctrl+\";\n",
       "    if (event.altKey && event.which != 18)\n",
       "        value += \"alt+\";\n",
       "    if (event.shiftKey && event.which != 16)\n",
       "        value += \"shift+\";\n",
       "\n",
       "    value += 'k';\n",
       "    value += event.which.toString();\n",
       "\n",
       "    this._key_event_extra(event, name);\n",
       "\n",
       "    this.send_message(name, {key: value,\n",
       "                             guiEvent: simpleKeys(event)});\n",
       "    return false;\n",
       "}\n",
       "\n",
       "mpl.figure.prototype.toolbar_button_onclick = function(name) {\n",
       "    if (name == 'download') {\n",
       "        this.handle_save(this, null);\n",
       "    } else {\n",
       "        this.send_message(\"toolbar_button\", {name: name});\n",
       "    }\n",
       "};\n",
       "\n",
       "mpl.figure.prototype.toolbar_button_onmouseover = function(tooltip) {\n",
       "    this.message.textContent = tooltip;\n",
       "};\n",
       "mpl.toolbar_items = [[\"Home\", \"Reset original view\", \"fa fa-home icon-home\", \"home\"], [\"Back\", \"Back to  previous view\", \"fa fa-arrow-left icon-arrow-left\", \"back\"], [\"Forward\", \"Forward to next view\", \"fa fa-arrow-right icon-arrow-right\", \"forward\"], [\"\", \"\", \"\", \"\"], [\"Pan\", \"Pan axes with left mouse, zoom with right\", \"fa fa-arrows icon-move\", \"pan\"], [\"Zoom\", \"Zoom to rectangle\", \"fa fa-square-o icon-check-empty\", \"zoom\"], [\"\", \"\", \"\", \"\"], [\"Download\", \"Download plot\", \"fa fa-floppy-o icon-save\", \"download\"]];\n",
       "\n",
       "mpl.extensions = [\"eps\", \"pdf\", \"png\", \"ps\", \"raw\", \"svg\"];\n",
       "\n",
       "mpl.default_extension = \"png\";var comm_websocket_adapter = function(comm) {\n",
       "    // Create a \"websocket\"-like object which calls the given IPython comm\n",
       "    // object with the appropriate methods. Currently this is a non binary\n",
       "    // socket, so there is still some room for performance tuning.\n",
       "    var ws = {};\n",
       "\n",
       "    ws.close = function() {\n",
       "        comm.close()\n",
       "    };\n",
       "    ws.send = function(m) {\n",
       "        //console.log('sending', m);\n",
       "        comm.send(m);\n",
       "    };\n",
       "    // Register the callback with on_msg.\n",
       "    comm.on_msg(function(msg) {\n",
       "        //console.log('receiving', msg['content']['data'], msg);\n",
       "        // Pass the mpl event to the overriden (by mpl) onmessage function.\n",
       "        ws.onmessage(msg['content']['data'])\n",
       "    });\n",
       "    return ws;\n",
       "}\n",
       "\n",
       "mpl.mpl_figure_comm = function(comm, msg) {\n",
       "    // This is the function which gets called when the mpl process\n",
       "    // starts-up an IPython Comm through the \"matplotlib\" channel.\n",
       "\n",
       "    var id = msg.content.data.id;\n",
       "    // Get hold of the div created by the display call when the Comm\n",
       "    // socket was opened in Python.\n",
       "    var element = $(\"#\" + id);\n",
       "    var ws_proxy = comm_websocket_adapter(comm)\n",
       "\n",
       "    function ondownload(figure, format) {\n",
       "        window.open(figure.imageObj.src);\n",
       "    }\n",
       "\n",
       "    var fig = new mpl.figure(id, ws_proxy,\n",
       "                           ondownload,\n",
       "                           element.get(0));\n",
       "\n",
       "    // Call onopen now - mpl needs it, as it is assuming we've passed it a real\n",
       "    // web socket which is closed, not our websocket->open comm proxy.\n",
       "    ws_proxy.onopen();\n",
       "\n",
       "    fig.parent_element = element.get(0);\n",
       "    fig.cell_info = mpl.find_output_cell(\"<div id='\" + id + \"'></div>\");\n",
       "    if (!fig.cell_info) {\n",
       "        console.error(\"Failed to find cell for figure\", id, fig);\n",
       "        return;\n",
       "    }\n",
       "\n",
       "    var output_index = fig.cell_info[2]\n",
       "    var cell = fig.cell_info[0];\n",
       "\n",
       "};\n",
       "\n",
       "mpl.figure.prototype.handle_close = function(fig, msg) {\n",
       "    var width = fig.canvas.width/mpl.ratio\n",
       "    fig.root.unbind('remove')\n",
       "\n",
       "    // Update the output cell to use the data from the current canvas.\n",
       "    fig.push_to_output();\n",
       "    var dataURL = fig.canvas.toDataURL();\n",
       "    // Re-enable the keyboard manager in IPython - without this line, in FF,\n",
       "    // the notebook keyboard shortcuts fail.\n",
       "    IPython.keyboard_manager.enable()\n",
       "    $(fig.parent_element).html('<img src=\"' + dataURL + '\" width=\"' + width + '\">');\n",
       "    fig.close_ws(fig, msg);\n",
       "}\n",
       "\n",
       "mpl.figure.prototype.close_ws = function(fig, msg){\n",
       "    fig.send_message('closing', msg);\n",
       "    // fig.ws.close()\n",
       "}\n",
       "\n",
       "mpl.figure.prototype.push_to_output = function(remove_interactive) {\n",
       "    // Turn the data on the canvas into data in the output cell.\n",
       "    var width = this.canvas.width/mpl.ratio\n",
       "    var dataURL = this.canvas.toDataURL();\n",
       "    this.cell_info[1]['text/html'] = '<img src=\"' + dataURL + '\" width=\"' + width + '\">';\n",
       "}\n",
       "\n",
       "mpl.figure.prototype.updated_canvas_event = function() {\n",
       "    // Tell IPython that the notebook contents must change.\n",
       "    IPython.notebook.set_dirty(true);\n",
       "    this.send_message(\"ack\", {});\n",
       "    var fig = this;\n",
       "    // Wait a second, then push the new image to the DOM so\n",
       "    // that it is saved nicely (might be nice to debounce this).\n",
       "    setTimeout(function () { fig.push_to_output() }, 1000);\n",
       "}\n",
       "\n",
       "mpl.figure.prototype._init_toolbar = function() {\n",
       "    var fig = this;\n",
       "\n",
       "    var nav_element = $('<div/>')\n",
       "    nav_element.attr('style', 'width: 100%');\n",
       "    this.root.append(nav_element);\n",
       "\n",
       "    // Define a callback function for later on.\n",
       "    function toolbar_event(event) {\n",
       "        return fig.toolbar_button_onclick(event['data']);\n",
       "    }\n",
       "    function toolbar_mouse_event(event) {\n",
       "        return fig.toolbar_button_onmouseover(event['data']);\n",
       "    }\n",
       "\n",
       "    for(var toolbar_ind in mpl.toolbar_items){\n",
       "        var name = mpl.toolbar_items[toolbar_ind][0];\n",
       "        var tooltip = mpl.toolbar_items[toolbar_ind][1];\n",
       "        var image = mpl.toolbar_items[toolbar_ind][2];\n",
       "        var method_name = mpl.toolbar_items[toolbar_ind][3];\n",
       "\n",
       "        if (!name) { continue; };\n",
       "\n",
       "        var button = $('<button class=\"btn btn-default\" href=\"#\" title=\"' + name + '\"><i class=\"fa ' + image + ' fa-lg\"></i></button>');\n",
       "        button.click(method_name, toolbar_event);\n",
       "        button.mouseover(tooltip, toolbar_mouse_event);\n",
       "        nav_element.append(button);\n",
       "    }\n",
       "\n",
       "    // Add the status bar.\n",
       "    var status_bar = $('<span class=\"mpl-message\" style=\"text-align:right; float: right;\"/>');\n",
       "    nav_element.append(status_bar);\n",
       "    this.message = status_bar[0];\n",
       "\n",
       "    // Add the close button to the window.\n",
       "    var buttongrp = $('<div class=\"btn-group inline pull-right\"></div>');\n",
       "    var button = $('<button class=\"btn btn-mini btn-primary\" href=\"#\" title=\"Stop Interaction\"><i class=\"fa fa-power-off icon-remove icon-large\"></i></button>');\n",
       "    button.click(function (evt) { fig.handle_close(fig, {}); } );\n",
       "    button.mouseover('Stop Interaction', toolbar_mouse_event);\n",
       "    buttongrp.append(button);\n",
       "    var titlebar = this.root.find($('.ui-dialog-titlebar'));\n",
       "    titlebar.prepend(buttongrp);\n",
       "}\n",
       "\n",
       "mpl.figure.prototype._root_extra_style = function(el){\n",
       "    var fig = this\n",
       "    el.on(\"remove\", function(){\n",
       "\tfig.close_ws(fig, {});\n",
       "    });\n",
       "}\n",
       "\n",
       "mpl.figure.prototype._canvas_extra_style = function(el){\n",
       "    // this is important to make the div 'focusable\n",
       "    el.attr('tabindex', 0)\n",
       "    // reach out to IPython and tell the keyboard manager to turn it's self\n",
       "    // off when our div gets focus\n",
       "\n",
       "    // location in version 3\n",
       "    if (IPython.notebook.keyboard_manager) {\n",
       "        IPython.notebook.keyboard_manager.register_events(el);\n",
       "    }\n",
       "    else {\n",
       "        // location in version 2\n",
       "        IPython.keyboard_manager.register_events(el);\n",
       "    }\n",
       "\n",
       "}\n",
       "\n",
       "mpl.figure.prototype._key_event_extra = function(event, name) {\n",
       "    var manager = IPython.notebook.keyboard_manager;\n",
       "    if (!manager)\n",
       "        manager = IPython.keyboard_manager;\n",
       "\n",
       "    // Check for shift+enter\n",
       "    if (event.shiftKey && event.which == 13) {\n",
       "        this.canvas_div.blur();\n",
       "        // select the cell after this one\n",
       "        var index = IPython.notebook.find_cell_index(this.cell_info[0]);\n",
       "        IPython.notebook.select(index + 1);\n",
       "    }\n",
       "}\n",
       "\n",
       "mpl.figure.prototype.handle_save = function(fig, msg) {\n",
       "    fig.ondownload(fig, null);\n",
       "}\n",
       "\n",
       "\n",
       "mpl.find_output_cell = function(html_output) {\n",
       "    // Return the cell and output element which can be found *uniquely* in the notebook.\n",
       "    // Note - this is a bit hacky, but it is done because the \"notebook_saving.Notebook\"\n",
       "    // IPython event is triggered only after the cells have been serialised, which for\n",
       "    // our purposes (turning an active figure into a static one), is too late.\n",
       "    var cells = IPython.notebook.get_cells();\n",
       "    var ncells = cells.length;\n",
       "    for (var i=0; i<ncells; i++) {\n",
       "        var cell = cells[i];\n",
       "        if (cell.cell_type === 'code'){\n",
       "            for (var j=0; j<cell.output_area.outputs.length; j++) {\n",
       "                var data = cell.output_area.outputs[j];\n",
       "                if (data.data) {\n",
       "                    // IPython >= 3 moved mimebundle to data attribute of output\n",
       "                    data = data.data;\n",
       "                }\n",
       "                if (data['text/html'] == html_output) {\n",
       "                    return [cell, data, j];\n",
       "                }\n",
       "            }\n",
       "        }\n",
       "    }\n",
       "}\n",
       "\n",
       "// Register the function which deals with the matplotlib target/channel.\n",
       "// The kernel may be null if the page has been refreshed.\n",
       "if (IPython.notebook.kernel != null) {\n",
       "    IPython.notebook.kernel.comm_manager.register_target('matplotlib', mpl.mpl_figure_comm);\n",
       "}\n"
      ],
      "text/plain": [
       "<IPython.core.display.Javascript object>"
      ]
     },
     "metadata": {},
     "output_type": "display_data"
    },
    {
     "data": {
      "text/html": [
       "<img src=\"data:image/png;base64,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\" width=\"640\">"
      ],
      "text/plain": [
       "<IPython.core.display.HTML object>"
      ]
     },
     "metadata": {},
     "output_type": "display_data"
    }
   ],
   "source": [
    "%matplotlib notebook\n",
    "t=np.int32(np.round(np.random.randn(4000000)*1000))\n",
    "plt.plot(t[:10000])\n",
    "# tobin(t,'../../bin_traces/july 10/randn2.bin')"
   ]
  },
  {
   "cell_type": "code",
   "execution_count": 12,
   "metadata": {},
   "outputs": [
    {
     "name": "stdout",
     "output_type": "stream",
     "text": [
      "5098 -4867 -0.8192135\n"
     ]
    }
   ],
   "source": [
    "print(max(t), min(t), np.mean(t))"
   ]
  },
  {
   "cell_type": "code",
   "execution_count": null,
   "metadata": {
    "collapsed": true
   },
   "outputs": [],
   "source": []
  }
 ],
 "metadata": {
  "anaconda-cloud": {},
  "kernelspec": {
   "display_name": "Python 3",
   "language": "python",
   "name": "python3"
  },
  "language_info": {
   "codemirror_mode": {
    "name": "ipython",
    "version": 3
   },
   "file_extension": ".py",
   "mimetype": "text/x-python",
   "name": "python",
   "nbconvert_exporter": "python",
   "pygments_lexer": "ipython3",
   "version": "3.6.1"
  }
 },
 "nbformat": 4,
 "nbformat_minor": 1
}
