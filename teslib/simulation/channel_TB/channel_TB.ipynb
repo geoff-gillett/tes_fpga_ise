{
 "cells": [
  {
   "cell_type": "code",
   "execution_count": 2,
   "metadata": {
    "collapsed": false
   },
   "outputs": [],
   "source": [
    "from tes.data import Data\n",
    "import numpy as np\n",
    "import matplotlib.pyplot as plt"
   ]
  },
  {
   "cell_type": "code",
   "execution_count": 3,
   "metadata": {
    "collapsed": false
   },
   "outputs": [],
   "source": [
    "trace_dt=np.dtype([('raw','i4'),('filtered','i4'),('slope','i4')])"
   ]
  },
  {
   "cell_type": "code",
   "execution_count": 4,
   "metadata": {
    "collapsed": true
   },
   "outputs": [],
   "source": [
    "traces=np.fromfile('data/traces',trace_dt)"
   ]
  },
  {
   "cell_type": "code",
   "execution_count": 19,
   "metadata": {
    "collapsed": true
   },
   "outputs": [],
   "source": [
    "traces=Data.fromfile('traces',trace_dt,'teslib','channel_TB',tool='vivado')"
   ]
  },
  {
   "cell_type": "code",
   "execution_count": 20,
   "metadata": {
    "collapsed": false
   },
   "outputs": [
    {
     "data": {
      "application/javascript": [
       "/* Put everything inside the global mpl namespace */\n",
       "window.mpl = {};\n",
       "\n",
       "\n",
       "mpl.get_websocket_type = function() {\n",
       "    if (typeof(WebSocket) !== 'undefined') {\n",
       "        return WebSocket;\n",
       "    } else if (typeof(MozWebSocket) !== 'undefined') {\n",
       "        return MozWebSocket;\n",
       "    } else {\n",
       "        alert('Your browser does not have WebSocket support.' +\n",
       "              'Please try Chrome, Safari or Firefox ≥ 6. ' +\n",
       "              'Firefox 4 and 5 are also supported but you ' +\n",
       "              'have to enable WebSockets in about:config.');\n",
       "    };\n",
       "}\n",
       "\n",
       "mpl.figure = function(figure_id, websocket, ondownload, parent_element) {\n",
       "    this.id = figure_id;\n",
       "\n",
       "    this.ws = websocket;\n",
       "\n",
       "    this.supports_binary = (this.ws.binaryType != undefined);\n",
       "\n",
       "    if (!this.supports_binary) {\n",
       "        var warnings = document.getElementById(\"mpl-warnings\");\n",
       "        if (warnings) {\n",
       "            warnings.style.display = 'block';\n",
       "            warnings.textContent = (\n",
       "                \"This browser does not support binary websocket messages. \" +\n",
       "                    \"Performance may be slow.\");\n",
       "        }\n",
       "    }\n",
       "\n",
       "    this.imageObj = new Image();\n",
       "\n",
       "    this.context = undefined;\n",
       "    this.message = undefined;\n",
       "    this.canvas = undefined;\n",
       "    this.rubberband_canvas = undefined;\n",
       "    this.rubberband_context = undefined;\n",
       "    this.format_dropdown = undefined;\n",
       "\n",
       "    this.image_mode = 'full';\n",
       "\n",
       "    this.root = $('<div/>');\n",
       "    this._root_extra_style(this.root)\n",
       "    this.root.attr('style', 'display: inline-block');\n",
       "\n",
       "    $(parent_element).append(this.root);\n",
       "\n",
       "    this._init_header(this);\n",
       "    this._init_canvas(this);\n",
       "    this._init_toolbar(this);\n",
       "\n",
       "    var fig = this;\n",
       "\n",
       "    this.waiting = false;\n",
       "\n",
       "    this.ws.onopen =  function () {\n",
       "            fig.send_message(\"supports_binary\", {value: fig.supports_binary});\n",
       "            fig.send_message(\"send_image_mode\", {});\n",
       "            if (mpl.ratio != 1) {\n",
       "                fig.send_message(\"set_dpi_ratio\", {'dpi_ratio': mpl.ratio});\n",
       "            }\n",
       "            fig.send_message(\"refresh\", {});\n",
       "        }\n",
       "\n",
       "    this.imageObj.onload = function() {\n",
       "            if (fig.image_mode == 'full') {\n",
       "                // Full images could contain transparency (where diff images\n",
       "                // almost always do), so we need to clear the canvas so that\n",
       "                // there is no ghosting.\n",
       "                fig.context.clearRect(0, 0, fig.canvas.width, fig.canvas.height);\n",
       "            }\n",
       "            fig.context.drawImage(fig.imageObj, 0, 0);\n",
       "        };\n",
       "\n",
       "    this.imageObj.onunload = function() {\n",
       "        this.ws.close();\n",
       "    }\n",
       "\n",
       "    this.ws.onmessage = this._make_on_message_function(this);\n",
       "\n",
       "    this.ondownload = ondownload;\n",
       "}\n",
       "\n",
       "mpl.figure.prototype._init_header = function() {\n",
       "    var titlebar = $(\n",
       "        '<div class=\"ui-dialog-titlebar ui-widget-header ui-corner-all ' +\n",
       "        'ui-helper-clearfix\"/>');\n",
       "    var titletext = $(\n",
       "        '<div class=\"ui-dialog-title\" style=\"width: 100%; ' +\n",
       "        'text-align: center; padding: 3px;\"/>');\n",
       "    titlebar.append(titletext)\n",
       "    this.root.append(titlebar);\n",
       "    this.header = titletext[0];\n",
       "}\n",
       "\n",
       "\n",
       "\n",
       "mpl.figure.prototype._canvas_extra_style = function(canvas_div) {\n",
       "\n",
       "}\n",
       "\n",
       "\n",
       "mpl.figure.prototype._root_extra_style = function(canvas_div) {\n",
       "\n",
       "}\n",
       "\n",
       "mpl.figure.prototype._init_canvas = function() {\n",
       "    var fig = this;\n",
       "\n",
       "    var canvas_div = $('<div/>');\n",
       "\n",
       "    canvas_div.attr('style', 'position: relative; clear: both; outline: 0');\n",
       "\n",
       "    function canvas_keyboard_event(event) {\n",
       "        return fig.key_event(event, event['data']);\n",
       "    }\n",
       "\n",
       "    canvas_div.keydown('key_press', canvas_keyboard_event);\n",
       "    canvas_div.keyup('key_release', canvas_keyboard_event);\n",
       "    this.canvas_div = canvas_div\n",
       "    this._canvas_extra_style(canvas_div)\n",
       "    this.root.append(canvas_div);\n",
       "\n",
       "    var canvas = $('<canvas/>');\n",
       "    canvas.addClass('mpl-canvas');\n",
       "    canvas.attr('style', \"left: 0; top: 0; z-index: 0; outline: 0\")\n",
       "\n",
       "    this.canvas = canvas[0];\n",
       "    this.context = canvas[0].getContext(\"2d\");\n",
       "\n",
       "    var backingStore = this.context.backingStorePixelRatio ||\n",
       "\tthis.context.webkitBackingStorePixelRatio ||\n",
       "\tthis.context.mozBackingStorePixelRatio ||\n",
       "\tthis.context.msBackingStorePixelRatio ||\n",
       "\tthis.context.oBackingStorePixelRatio ||\n",
       "\tthis.context.backingStorePixelRatio || 1;\n",
       "\n",
       "    mpl.ratio = (window.devicePixelRatio || 1) / backingStore;\n",
       "\n",
       "    var rubberband = $('<canvas/>');\n",
       "    rubberband.attr('style', \"position: absolute; left: 0; top: 0; z-index: 1;\")\n",
       "\n",
       "    var pass_mouse_events = true;\n",
       "\n",
       "    canvas_div.resizable({\n",
       "        start: function(event, ui) {\n",
       "            pass_mouse_events = false;\n",
       "        },\n",
       "        resize: function(event, ui) {\n",
       "            fig.request_resize(ui.size.width, ui.size.height);\n",
       "        },\n",
       "        stop: function(event, ui) {\n",
       "            pass_mouse_events = true;\n",
       "            fig.request_resize(ui.size.width, ui.size.height);\n",
       "        },\n",
       "    });\n",
       "\n",
       "    function mouse_event_fn(event) {\n",
       "        if (pass_mouse_events)\n",
       "            return fig.mouse_event(event, event['data']);\n",
       "    }\n",
       "\n",
       "    rubberband.mousedown('button_press', mouse_event_fn);\n",
       "    rubberband.mouseup('button_release', mouse_event_fn);\n",
       "    // Throttle sequential mouse events to 1 every 20ms.\n",
       "    rubberband.mousemove('motion_notify', mouse_event_fn);\n",
       "\n",
       "    rubberband.mouseenter('figure_enter', mouse_event_fn);\n",
       "    rubberband.mouseleave('figure_leave', mouse_event_fn);\n",
       "\n",
       "    canvas_div.on(\"wheel\", function (event) {\n",
       "        event = event.originalEvent;\n",
       "        event['data'] = 'scroll'\n",
       "        if (event.deltaY < 0) {\n",
       "            event.step = 1;\n",
       "        } else {\n",
       "            event.step = -1;\n",
       "        }\n",
       "        mouse_event_fn(event);\n",
       "    });\n",
       "\n",
       "    canvas_div.append(canvas);\n",
       "    canvas_div.append(rubberband);\n",
       "\n",
       "    this.rubberband = rubberband;\n",
       "    this.rubberband_canvas = rubberband[0];\n",
       "    this.rubberband_context = rubberband[0].getContext(\"2d\");\n",
       "    this.rubberband_context.strokeStyle = \"#000000\";\n",
       "\n",
       "    this._resize_canvas = function(width, height) {\n",
       "        // Keep the size of the canvas, canvas container, and rubber band\n",
       "        // canvas in synch.\n",
       "        canvas_div.css('width', width)\n",
       "        canvas_div.css('height', height)\n",
       "\n",
       "        canvas.attr('width', width * mpl.ratio);\n",
       "        canvas.attr('height', height * mpl.ratio);\n",
       "        canvas.attr('style', 'width: ' + width + 'px; height: ' + height + 'px;');\n",
       "\n",
       "        rubberband.attr('width', width);\n",
       "        rubberband.attr('height', height);\n",
       "    }\n",
       "\n",
       "    // Set the figure to an initial 600x600px, this will subsequently be updated\n",
       "    // upon first draw.\n",
       "    this._resize_canvas(600, 600);\n",
       "\n",
       "    // Disable right mouse context menu.\n",
       "    $(this.rubberband_canvas).bind(\"contextmenu\",function(e){\n",
       "        return false;\n",
       "    });\n",
       "\n",
       "    function set_focus () {\n",
       "        canvas.focus();\n",
       "        canvas_div.focus();\n",
       "    }\n",
       "\n",
       "    window.setTimeout(set_focus, 100);\n",
       "}\n",
       "\n",
       "mpl.figure.prototype._init_toolbar = function() {\n",
       "    var fig = this;\n",
       "\n",
       "    var nav_element = $('<div/>')\n",
       "    nav_element.attr('style', 'width: 100%');\n",
       "    this.root.append(nav_element);\n",
       "\n",
       "    // Define a callback function for later on.\n",
       "    function toolbar_event(event) {\n",
       "        return fig.toolbar_button_onclick(event['data']);\n",
       "    }\n",
       "    function toolbar_mouse_event(event) {\n",
       "        return fig.toolbar_button_onmouseover(event['data']);\n",
       "    }\n",
       "\n",
       "    for(var toolbar_ind in mpl.toolbar_items) {\n",
       "        var name = mpl.toolbar_items[toolbar_ind][0];\n",
       "        var tooltip = mpl.toolbar_items[toolbar_ind][1];\n",
       "        var image = mpl.toolbar_items[toolbar_ind][2];\n",
       "        var method_name = mpl.toolbar_items[toolbar_ind][3];\n",
       "\n",
       "        if (!name) {\n",
       "            // put a spacer in here.\n",
       "            continue;\n",
       "        }\n",
       "        var button = $('<button/>');\n",
       "        button.addClass('ui-button ui-widget ui-state-default ui-corner-all ' +\n",
       "                        'ui-button-icon-only');\n",
       "        button.attr('role', 'button');\n",
       "        button.attr('aria-disabled', 'false');\n",
       "        button.click(method_name, toolbar_event);\n",
       "        button.mouseover(tooltip, toolbar_mouse_event);\n",
       "\n",
       "        var icon_img = $('<span/>');\n",
       "        icon_img.addClass('ui-button-icon-primary ui-icon');\n",
       "        icon_img.addClass(image);\n",
       "        icon_img.addClass('ui-corner-all');\n",
       "\n",
       "        var tooltip_span = $('<span/>');\n",
       "        tooltip_span.addClass('ui-button-text');\n",
       "        tooltip_span.html(tooltip);\n",
       "\n",
       "        button.append(icon_img);\n",
       "        button.append(tooltip_span);\n",
       "\n",
       "        nav_element.append(button);\n",
       "    }\n",
       "\n",
       "    var fmt_picker_span = $('<span/>');\n",
       "\n",
       "    var fmt_picker = $('<select/>');\n",
       "    fmt_picker.addClass('mpl-toolbar-option ui-widget ui-widget-content');\n",
       "    fmt_picker_span.append(fmt_picker);\n",
       "    nav_element.append(fmt_picker_span);\n",
       "    this.format_dropdown = fmt_picker[0];\n",
       "\n",
       "    for (var ind in mpl.extensions) {\n",
       "        var fmt = mpl.extensions[ind];\n",
       "        var option = $(\n",
       "            '<option/>', {selected: fmt === mpl.default_extension}).html(fmt);\n",
       "        fmt_picker.append(option)\n",
       "    }\n",
       "\n",
       "    // Add hover states to the ui-buttons\n",
       "    $( \".ui-button\" ).hover(\n",
       "        function() { $(this).addClass(\"ui-state-hover\");},\n",
       "        function() { $(this).removeClass(\"ui-state-hover\");}\n",
       "    );\n",
       "\n",
       "    var status_bar = $('<span class=\"mpl-message\"/>');\n",
       "    nav_element.append(status_bar);\n",
       "    this.message = status_bar[0];\n",
       "}\n",
       "\n",
       "mpl.figure.prototype.request_resize = function(x_pixels, y_pixels) {\n",
       "    // Request matplotlib to resize the figure. Matplotlib will then trigger a resize in the client,\n",
       "    // which will in turn request a refresh of the image.\n",
       "    this.send_message('resize', {'width': x_pixels, 'height': y_pixels});\n",
       "}\n",
       "\n",
       "mpl.figure.prototype.send_message = function(type, properties) {\n",
       "    properties['type'] = type;\n",
       "    properties['figure_id'] = this.id;\n",
       "    this.ws.send(JSON.stringify(properties));\n",
       "}\n",
       "\n",
       "mpl.figure.prototype.send_draw_message = function() {\n",
       "    if (!this.waiting) {\n",
       "        this.waiting = true;\n",
       "        this.ws.send(JSON.stringify({type: \"draw\", figure_id: this.id}));\n",
       "    }\n",
       "}\n",
       "\n",
       "\n",
       "mpl.figure.prototype.handle_save = function(fig, msg) {\n",
       "    var format_dropdown = fig.format_dropdown;\n",
       "    var format = format_dropdown.options[format_dropdown.selectedIndex].value;\n",
       "    fig.ondownload(fig, format);\n",
       "}\n",
       "\n",
       "\n",
       "mpl.figure.prototype.handle_resize = function(fig, msg) {\n",
       "    var size = msg['size'];\n",
       "    if (size[0] != fig.canvas.width || size[1] != fig.canvas.height) {\n",
       "        fig._resize_canvas(size[0], size[1]);\n",
       "        fig.send_message(\"refresh\", {});\n",
       "    };\n",
       "}\n",
       "\n",
       "mpl.figure.prototype.handle_rubberband = function(fig, msg) {\n",
       "    var x0 = msg['x0'] / mpl.ratio;\n",
       "    var y0 = (fig.canvas.height - msg['y0']) / mpl.ratio;\n",
       "    var x1 = msg['x1'] / mpl.ratio;\n",
       "    var y1 = (fig.canvas.height - msg['y1']) / mpl.ratio;\n",
       "    x0 = Math.floor(x0) + 0.5;\n",
       "    y0 = Math.floor(y0) + 0.5;\n",
       "    x1 = Math.floor(x1) + 0.5;\n",
       "    y1 = Math.floor(y1) + 0.5;\n",
       "    var min_x = Math.min(x0, x1);\n",
       "    var min_y = Math.min(y0, y1);\n",
       "    var width = Math.abs(x1 - x0);\n",
       "    var height = Math.abs(y1 - y0);\n",
       "\n",
       "    fig.rubberband_context.clearRect(\n",
       "        0, 0, fig.canvas.width, fig.canvas.height);\n",
       "\n",
       "    fig.rubberband_context.strokeRect(min_x, min_y, width, height);\n",
       "}\n",
       "\n",
       "mpl.figure.prototype.handle_figure_label = function(fig, msg) {\n",
       "    // Updates the figure title.\n",
       "    fig.header.textContent = msg['label'];\n",
       "}\n",
       "\n",
       "mpl.figure.prototype.handle_cursor = function(fig, msg) {\n",
       "    var cursor = msg['cursor'];\n",
       "    switch(cursor)\n",
       "    {\n",
       "    case 0:\n",
       "        cursor = 'pointer';\n",
       "        break;\n",
       "    case 1:\n",
       "        cursor = 'default';\n",
       "        break;\n",
       "    case 2:\n",
       "        cursor = 'crosshair';\n",
       "        break;\n",
       "    case 3:\n",
       "        cursor = 'move';\n",
       "        break;\n",
       "    }\n",
       "    fig.rubberband_canvas.style.cursor = cursor;\n",
       "}\n",
       "\n",
       "mpl.figure.prototype.handle_message = function(fig, msg) {\n",
       "    fig.message.textContent = msg['message'];\n",
       "}\n",
       "\n",
       "mpl.figure.prototype.handle_draw = function(fig, msg) {\n",
       "    // Request the server to send over a new figure.\n",
       "    fig.send_draw_message();\n",
       "}\n",
       "\n",
       "mpl.figure.prototype.handle_image_mode = function(fig, msg) {\n",
       "    fig.image_mode = msg['mode'];\n",
       "}\n",
       "\n",
       "mpl.figure.prototype.updated_canvas_event = function() {\n",
       "    // Called whenever the canvas gets updated.\n",
       "    this.send_message(\"ack\", {});\n",
       "}\n",
       "\n",
       "// A function to construct a web socket function for onmessage handling.\n",
       "// Called in the figure constructor.\n",
       "mpl.figure.prototype._make_on_message_function = function(fig) {\n",
       "    return function socket_on_message(evt) {\n",
       "        if (evt.data instanceof Blob) {\n",
       "            /* FIXME: We get \"Resource interpreted as Image but\n",
       "             * transferred with MIME type text/plain:\" errors on\n",
       "             * Chrome.  But how to set the MIME type?  It doesn't seem\n",
       "             * to be part of the websocket stream */\n",
       "            evt.data.type = \"image/png\";\n",
       "\n",
       "            /* Free the memory for the previous frames */\n",
       "            if (fig.imageObj.src) {\n",
       "                (window.URL || window.webkitURL).revokeObjectURL(\n",
       "                    fig.imageObj.src);\n",
       "            }\n",
       "\n",
       "            fig.imageObj.src = (window.URL || window.webkitURL).createObjectURL(\n",
       "                evt.data);\n",
       "            fig.updated_canvas_event();\n",
       "            fig.waiting = false;\n",
       "            return;\n",
       "        }\n",
       "        else if (typeof evt.data === 'string' && evt.data.slice(0, 21) == \"data:image/png;base64\") {\n",
       "            fig.imageObj.src = evt.data;\n",
       "            fig.updated_canvas_event();\n",
       "            fig.waiting = false;\n",
       "            return;\n",
       "        }\n",
       "\n",
       "        var msg = JSON.parse(evt.data);\n",
       "        var msg_type = msg['type'];\n",
       "\n",
       "        // Call the  \"handle_{type}\" callback, which takes\n",
       "        // the figure and JSON message as its only arguments.\n",
       "        try {\n",
       "            var callback = fig[\"handle_\" + msg_type];\n",
       "        } catch (e) {\n",
       "            console.log(\"No handler for the '\" + msg_type + \"' message type: \", msg);\n",
       "            return;\n",
       "        }\n",
       "\n",
       "        if (callback) {\n",
       "            try {\n",
       "                // console.log(\"Handling '\" + msg_type + \"' message: \", msg);\n",
       "                callback(fig, msg);\n",
       "            } catch (e) {\n",
       "                console.log(\"Exception inside the 'handler_\" + msg_type + \"' callback:\", e, e.stack, msg);\n",
       "            }\n",
       "        }\n",
       "    };\n",
       "}\n",
       "\n",
       "// from http://stackoverflow.com/questions/1114465/getting-mouse-location-in-canvas\n",
       "mpl.findpos = function(e) {\n",
       "    //this section is from http://www.quirksmode.org/js/events_properties.html\n",
       "    var targ;\n",
       "    if (!e)\n",
       "        e = window.event;\n",
       "    if (e.target)\n",
       "        targ = e.target;\n",
       "    else if (e.srcElement)\n",
       "        targ = e.srcElement;\n",
       "    if (targ.nodeType == 3) // defeat Safari bug\n",
       "        targ = targ.parentNode;\n",
       "\n",
       "    // jQuery normalizes the pageX and pageY\n",
       "    // pageX,Y are the mouse positions relative to the document\n",
       "    // offset() returns the position of the element relative to the document\n",
       "    var x = e.pageX - $(targ).offset().left;\n",
       "    var y = e.pageY - $(targ).offset().top;\n",
       "\n",
       "    return {\"x\": x, \"y\": y};\n",
       "};\n",
       "\n",
       "/*\n",
       " * return a copy of an object with only non-object keys\n",
       " * we need this to avoid circular references\n",
       " * http://stackoverflow.com/a/24161582/3208463\n",
       " */\n",
       "function simpleKeys (original) {\n",
       "  return Object.keys(original).reduce(function (obj, key) {\n",
       "    if (typeof original[key] !== 'object')\n",
       "        obj[key] = original[key]\n",
       "    return obj;\n",
       "  }, {});\n",
       "}\n",
       "\n",
       "mpl.figure.prototype.mouse_event = function(event, name) {\n",
       "    var canvas_pos = mpl.findpos(event)\n",
       "\n",
       "    if (name === 'button_press')\n",
       "    {\n",
       "        this.canvas.focus();\n",
       "        this.canvas_div.focus();\n",
       "    }\n",
       "\n",
       "    var x = canvas_pos.x * mpl.ratio;\n",
       "    var y = canvas_pos.y * mpl.ratio;\n",
       "\n",
       "    this.send_message(name, {x: x, y: y, button: event.button,\n",
       "                             step: event.step,\n",
       "                             guiEvent: simpleKeys(event)});\n",
       "\n",
       "    /* This prevents the web browser from automatically changing to\n",
       "     * the text insertion cursor when the button is pressed.  We want\n",
       "     * to control all of the cursor setting manually through the\n",
       "     * 'cursor' event from matplotlib */\n",
       "    event.preventDefault();\n",
       "    return false;\n",
       "}\n",
       "\n",
       "mpl.figure.prototype._key_event_extra = function(event, name) {\n",
       "    // Handle any extra behaviour associated with a key event\n",
       "}\n",
       "\n",
       "mpl.figure.prototype.key_event = function(event, name) {\n",
       "\n",
       "    // Prevent repeat events\n",
       "    if (name == 'key_press')\n",
       "    {\n",
       "        if (event.which === this._key)\n",
       "            return;\n",
       "        else\n",
       "            this._key = event.which;\n",
       "    }\n",
       "    if (name == 'key_release')\n",
       "        this._key = null;\n",
       "\n",
       "    var value = '';\n",
       "    if (event.ctrlKey && event.which != 17)\n",
       "        value += \"ctrl+\";\n",
       "    if (event.altKey && event.which != 18)\n",
       "        value += \"alt+\";\n",
       "    if (event.shiftKey && event.which != 16)\n",
       "        value += \"shift+\";\n",
       "\n",
       "    value += 'k';\n",
       "    value += event.which.toString();\n",
       "\n",
       "    this._key_event_extra(event, name);\n",
       "\n",
       "    this.send_message(name, {key: value,\n",
       "                             guiEvent: simpleKeys(event)});\n",
       "    return false;\n",
       "}\n",
       "\n",
       "mpl.figure.prototype.toolbar_button_onclick = function(name) {\n",
       "    if (name == 'download') {\n",
       "        this.handle_save(this, null);\n",
       "    } else {\n",
       "        this.send_message(\"toolbar_button\", {name: name});\n",
       "    }\n",
       "};\n",
       "\n",
       "mpl.figure.prototype.toolbar_button_onmouseover = function(tooltip) {\n",
       "    this.message.textContent = tooltip;\n",
       "};\n",
       "mpl.toolbar_items = [[\"Home\", \"Reset original view\", \"fa fa-home icon-home\", \"home\"], [\"Back\", \"Back to  previous view\", \"fa fa-arrow-left icon-arrow-left\", \"back\"], [\"Forward\", \"Forward to next view\", \"fa fa-arrow-right icon-arrow-right\", \"forward\"], [\"\", \"\", \"\", \"\"], [\"Pan\", \"Pan axes with left mouse, zoom with right\", \"fa fa-arrows icon-move\", \"pan\"], [\"Zoom\", \"Zoom to rectangle\", \"fa fa-square-o icon-check-empty\", \"zoom\"], [\"\", \"\", \"\", \"\"], [\"Download\", \"Download plot\", \"fa fa-floppy-o icon-save\", \"download\"]];\n",
       "\n",
       "mpl.extensions = [\"eps\", \"jpeg\", \"pdf\", \"png\", \"ps\", \"raw\", \"svg\", \"tif\"];\n",
       "\n",
       "mpl.default_extension = \"png\";var comm_websocket_adapter = function(comm) {\n",
       "    // Create a \"websocket\"-like object which calls the given IPython comm\n",
       "    // object with the appropriate methods. Currently this is a non binary\n",
       "    // socket, so there is still some room for performance tuning.\n",
       "    var ws = {};\n",
       "\n",
       "    ws.close = function() {\n",
       "        comm.close()\n",
       "    };\n",
       "    ws.send = function(m) {\n",
       "        //console.log('sending', m);\n",
       "        comm.send(m);\n",
       "    };\n",
       "    // Register the callback with on_msg.\n",
       "    comm.on_msg(function(msg) {\n",
       "        //console.log('receiving', msg['content']['data'], msg);\n",
       "        // Pass the mpl event to the overriden (by mpl) onmessage function.\n",
       "        ws.onmessage(msg['content']['data'])\n",
       "    });\n",
       "    return ws;\n",
       "}\n",
       "\n",
       "mpl.mpl_figure_comm = function(comm, msg) {\n",
       "    // This is the function which gets called when the mpl process\n",
       "    // starts-up an IPython Comm through the \"matplotlib\" channel.\n",
       "\n",
       "    var id = msg.content.data.id;\n",
       "    // Get hold of the div created by the display call when the Comm\n",
       "    // socket was opened in Python.\n",
       "    var element = $(\"#\" + id);\n",
       "    var ws_proxy = comm_websocket_adapter(comm)\n",
       "\n",
       "    function ondownload(figure, format) {\n",
       "        window.open(figure.imageObj.src);\n",
       "    }\n",
       "\n",
       "    var fig = new mpl.figure(id, ws_proxy,\n",
       "                           ondownload,\n",
       "                           element.get(0));\n",
       "\n",
       "    // Call onopen now - mpl needs it, as it is assuming we've passed it a real\n",
       "    // web socket which is closed, not our websocket->open comm proxy.\n",
       "    ws_proxy.onopen();\n",
       "\n",
       "    fig.parent_element = element.get(0);\n",
       "    fig.cell_info = mpl.find_output_cell(\"<div id='\" + id + \"'></div>\");\n",
       "    if (!fig.cell_info) {\n",
       "        console.error(\"Failed to find cell for figure\", id, fig);\n",
       "        return;\n",
       "    }\n",
       "\n",
       "    var output_index = fig.cell_info[2]\n",
       "    var cell = fig.cell_info[0];\n",
       "\n",
       "};\n",
       "\n",
       "mpl.figure.prototype.handle_close = function(fig, msg) {\n",
       "    var width = fig.canvas.width/mpl.ratio\n",
       "    fig.root.unbind('remove')\n",
       "\n",
       "    // Update the output cell to use the data from the current canvas.\n",
       "    fig.push_to_output();\n",
       "    var dataURL = fig.canvas.toDataURL();\n",
       "    // Re-enable the keyboard manager in IPython - without this line, in FF,\n",
       "    // the notebook keyboard shortcuts fail.\n",
       "    IPython.keyboard_manager.enable()\n",
       "    $(fig.parent_element).html('<img src=\"' + dataURL + '\" width=\"' + width + '\">');\n",
       "    fig.close_ws(fig, msg);\n",
       "}\n",
       "\n",
       "mpl.figure.prototype.close_ws = function(fig, msg){\n",
       "    fig.send_message('closing', msg);\n",
       "    // fig.ws.close()\n",
       "}\n",
       "\n",
       "mpl.figure.prototype.push_to_output = function(remove_interactive) {\n",
       "    // Turn the data on the canvas into data in the output cell.\n",
       "    var width = this.canvas.width/mpl.ratio\n",
       "    var dataURL = this.canvas.toDataURL();\n",
       "    this.cell_info[1]['text/html'] = '<img src=\"' + dataURL + '\" width=\"' + width + '\">';\n",
       "}\n",
       "\n",
       "mpl.figure.prototype.updated_canvas_event = function() {\n",
       "    // Tell IPython that the notebook contents must change.\n",
       "    IPython.notebook.set_dirty(true);\n",
       "    this.send_message(\"ack\", {});\n",
       "    var fig = this;\n",
       "    // Wait a second, then push the new image to the DOM so\n",
       "    // that it is saved nicely (might be nice to debounce this).\n",
       "    setTimeout(function () { fig.push_to_output() }, 1000);\n",
       "}\n",
       "\n",
       "mpl.figure.prototype._init_toolbar = function() {\n",
       "    var fig = this;\n",
       "\n",
       "    var nav_element = $('<div/>')\n",
       "    nav_element.attr('style', 'width: 100%');\n",
       "    this.root.append(nav_element);\n",
       "\n",
       "    // Define a callback function for later on.\n",
       "    function toolbar_event(event) {\n",
       "        return fig.toolbar_button_onclick(event['data']);\n",
       "    }\n",
       "    function toolbar_mouse_event(event) {\n",
       "        return fig.toolbar_button_onmouseover(event['data']);\n",
       "    }\n",
       "\n",
       "    for(var toolbar_ind in mpl.toolbar_items){\n",
       "        var name = mpl.toolbar_items[toolbar_ind][0];\n",
       "        var tooltip = mpl.toolbar_items[toolbar_ind][1];\n",
       "        var image = mpl.toolbar_items[toolbar_ind][2];\n",
       "        var method_name = mpl.toolbar_items[toolbar_ind][3];\n",
       "\n",
       "        if (!name) { continue; };\n",
       "\n",
       "        var button = $('<button class=\"btn btn-default\" href=\"#\" title=\"' + name + '\"><i class=\"fa ' + image + ' fa-lg\"></i></button>');\n",
       "        button.click(method_name, toolbar_event);\n",
       "        button.mouseover(tooltip, toolbar_mouse_event);\n",
       "        nav_element.append(button);\n",
       "    }\n",
       "\n",
       "    // Add the status bar.\n",
       "    var status_bar = $('<span class=\"mpl-message\" style=\"text-align:right; float: right;\"/>');\n",
       "    nav_element.append(status_bar);\n",
       "    this.message = status_bar[0];\n",
       "\n",
       "    // Add the close button to the window.\n",
       "    var buttongrp = $('<div class=\"btn-group inline pull-right\"></div>');\n",
       "    var button = $('<button class=\"btn btn-mini btn-primary\" href=\"#\" title=\"Stop Interaction\"><i class=\"fa fa-power-off icon-remove icon-large\"></i></button>');\n",
       "    button.click(function (evt) { fig.handle_close(fig, {}); } );\n",
       "    button.mouseover('Stop Interaction', toolbar_mouse_event);\n",
       "    buttongrp.append(button);\n",
       "    var titlebar = this.root.find($('.ui-dialog-titlebar'));\n",
       "    titlebar.prepend(buttongrp);\n",
       "}\n",
       "\n",
       "mpl.figure.prototype._root_extra_style = function(el){\n",
       "    var fig = this\n",
       "    el.on(\"remove\", function(){\n",
       "\tfig.close_ws(fig, {});\n",
       "    });\n",
       "}\n",
       "\n",
       "mpl.figure.prototype._canvas_extra_style = function(el){\n",
       "    // this is important to make the div 'focusable\n",
       "    el.attr('tabindex', 0)\n",
       "    // reach out to IPython and tell the keyboard manager to turn it's self\n",
       "    // off when our div gets focus\n",
       "\n",
       "    // location in version 3\n",
       "    if (IPython.notebook.keyboard_manager) {\n",
       "        IPython.notebook.keyboard_manager.register_events(el);\n",
       "    }\n",
       "    else {\n",
       "        // location in version 2\n",
       "        IPython.keyboard_manager.register_events(el);\n",
       "    }\n",
       "\n",
       "}\n",
       "\n",
       "mpl.figure.prototype._key_event_extra = function(event, name) {\n",
       "    var manager = IPython.notebook.keyboard_manager;\n",
       "    if (!manager)\n",
       "        manager = IPython.keyboard_manager;\n",
       "\n",
       "    // Check for shift+enter\n",
       "    if (event.shiftKey && event.which == 13) {\n",
       "        this.canvas_div.blur();\n",
       "        // select the cell after this one\n",
       "        var index = IPython.notebook.find_cell_index(this.cell_info[0]);\n",
       "        IPython.notebook.select(index + 1);\n",
       "    }\n",
       "}\n",
       "\n",
       "mpl.figure.prototype.handle_save = function(fig, msg) {\n",
       "    fig.ondownload(fig, null);\n",
       "}\n",
       "\n",
       "\n",
       "mpl.find_output_cell = function(html_output) {\n",
       "    // Return the cell and output element which can be found *uniquely* in the notebook.\n",
       "    // Note - this is a bit hacky, but it is done because the \"notebook_saving.Notebook\"\n",
       "    // IPython event is triggered only after the cells have been serialised, which for\n",
       "    // our purposes (turning an active figure into a static one), is too late.\n",
       "    var cells = IPython.notebook.get_cells();\n",
       "    var ncells = cells.length;\n",
       "    for (var i=0; i<ncells; i++) {\n",
       "        var cell = cells[i];\n",
       "        if (cell.cell_type === 'code'){\n",
       "            for (var j=0; j<cell.output_area.outputs.length; j++) {\n",
       "                var data = cell.output_area.outputs[j];\n",
       "                if (data.data) {\n",
       "                    // IPython >= 3 moved mimebundle to data attribute of output\n",
       "                    data = data.data;\n",
       "                }\n",
       "                if (data['text/html'] == html_output) {\n",
       "                    return [cell, data, j];\n",
       "                }\n",
       "            }\n",
       "        }\n",
       "    }\n",
       "}\n",
       "\n",
       "// Register the function which deals with the matplotlib target/channel.\n",
       "// The kernel may be null if the page has been refreshed.\n",
       "if (IPython.notebook.kernel != null) {\n",
       "    IPython.notebook.kernel.comm_manager.register_target('matplotlib', mpl.mpl_figure_comm);\n",
       "}\n"
      ],
      "text/plain": [
       "<IPython.core.display.Javascript object>"
      ]
     },
     "metadata": {},
     "output_type": "display_data"
    },
    {
     "data": {
      "text/html": [
       "<img src=\"data:image/png;base64,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\" width=\"640\">"
      ],
      "text/plain": [
       "<IPython.core.display.HTML object>"
      ]
     },
     "metadata": {},
     "output_type": "display_data"
    },
    {
     "data": {
      "text/plain": [
       "[<matplotlib.lines.Line2D at 0xf43c630>]"
      ]
     },
     "execution_count": 20,
     "metadata": {},
     "output_type": "execute_result"
    }
   ],
   "source": [
    "%matplotlib notebook\n",
    "plt.plot(traces['filtered'][100:]/8)\n",
    "plt.plot(traces['slope'][100:]/64)"
   ]
  },
  {
   "cell_type": "code",
   "execution_count": 5,
   "metadata": {
    "collapsed": false
   },
   "outputs": [],
   "source": [
    "stream_dt=np.dtype([('data','u8'),('last','i4')])\n",
    "stream=np.fromfile('data/stream',stream_dt)"
   ]
  },
  {
   "cell_type": "code",
   "execution_count": 222,
   "metadata": {
    "collapsed": false
   },
   "outputs": [],
   "source": [
    "stream=Data.fromfile('stream',stream_dt,'teslib','channel_TB',tool='vivado')\n",
    "data=np.copy(stream['data'])"
   ]
  },
  {
   "cell_type": "code",
   "execution_count": 213,
   "metadata": {
    "collapsed": false
   },
   "outputs": [
    {
     "data": {
      "text/plain": [
       "'B4040600'"
      ]
     },
     "execution_count": 213,
     "metadata": {},
     "output_type": "execute_result"
    }
   ],
   "source": [
    "'{:08X}'.format(stream['data'][0])"
   ]
  },
  {
   "cell_type": "code",
   "execution_count": 214,
   "metadata": {
    "collapsed": false
   },
   "outputs": [],
   "source": [
    "event_dt=np.dtype([('rise','>i2'),('height','>i2'),('time','>i2'),('flags','>i2')])"
   ]
  },
  {
   "cell_type": "code",
   "execution_count": 215,
   "metadata": {
    "collapsed": false
   },
   "outputs": [],
   "source": [
    "events=stream['data'].view(event_dt)"
   ]
  },
  {
   "cell_type": "code",
   "execution_count": 216,
   "metadata": {
    "collapsed": false
   },
   "outputs": [
    {
     "data": {
      "text/plain": [
       "'0'"
      ]
     },
     "execution_count": 216,
     "metadata": {},
     "output_type": "execute_result"
    }
   ],
   "source": [
    "'{:X}'.format(events['flags'][0])"
   ]
  },
  {
   "cell_type": "code",
   "execution_count": 217,
   "metadata": {
    "collapsed": false
   },
   "outputs": [
    {
     "data": {
      "text/plain": [
       "array([ 6, 56,  6], dtype=int16)"
      ]
     },
     "execution_count": 217,
     "metadata": {},
     "output_type": "execute_result"
    }
   ],
   "source": [
    "events['rise']"
   ]
  },
  {
   "cell_type": "code",
   "execution_count": 218,
   "metadata": {
    "collapsed": false
   },
   "outputs": [
    {
     "data": {
      "text/plain": [
       "array([(6, 1204, 0, 0), (56, 1213, 0, 4096), (6, 1204, 0, 0)], \n",
       "      dtype=[('rise', '>i2'), ('height', '>i2'), ('time', '>i2'), ('flags', '>i2')])"
      ]
     },
     "execution_count": 218,
     "metadata": {},
     "output_type": "execute_result"
    }
   ],
   "source": [
    "events"
   ]
  },
  {
   "cell_type": "code",
   "execution_count": 206,
   "metadata": {
    "collapsed": false
   },
   "outputs": [
    {
     "data": {
      "text/plain": [
       "'1000'"
      ]
     },
     "execution_count": 206,
     "metadata": {},
     "output_type": "execute_result"
    }
   ],
   "source": [
    "'{:04X}'.format(events['flags'][1])"
   ]
  },
  {
   "cell_type": "code",
   "execution_count": 235,
   "metadata": {
    "collapsed": true
   },
   "outputs": [],
   "source": [
    "pulse_peak_dt=np.dtype([('time','>i2'),('minima','>i2'),('rise','>u2'),('height','>i2')])\n",
    "pulse_dt=np.dtype([('time','>i2'),('flags','>i2'),('resv','>i2'),('size','>u2'),\n",
    "                  ('offset','>i2'),('length','>i2'),('area','>i4'),('peaks',(pulse_peak_dt,1))])\n",
    "data=np.copy(stream['data'])"
   ]
  },
  {
   "cell_type": "code",
   "execution_count": 227,
   "metadata": {
    "collapsed": false
   },
   "outputs": [],
   "source": [
    "pulses=data.view(pulse_dt)"
   ]
  },
  {
   "cell_type": "code",
   "execution_count": 233,
   "metadata": {
    "collapsed": false
   },
   "outputs": [
    {
     "data": {
      "text/plain": [
       "array([1784, 1784, 1784, 1784, 1784, 1784, 1784, 1784, 1784, 1784, 1784,\n",
       "       1784, 1784, 1784, 1784, 1784, 1784, 1784, 1784, 1784, 1784], dtype=int16)"
      ]
     },
     "execution_count": 233,
     "metadata": {},
     "output_type": "execute_result"
    }
   ],
   "source": [
    "pulses['peaks']['height']-pulses['peaks']['minima']"
   ]
  },
  {
   "cell_type": "code",
   "execution_count": 229,
   "metadata": {
    "collapsed": false
   },
   "outputs": [
    {
     "data": {
      "text/plain": [
       "array([-613, -613, -613, -613, -613, -613, -613, -613, -613, -613, -613,\n",
       "       -613, -613, -613, -613, -613, -613, -613, -613, -613, -613], dtype=int16)"
      ]
     },
     "execution_count": 229,
     "metadata": {},
     "output_type": "execute_result"
    }
   ],
   "source": [
    "pulses['peaks']['minima']"
   ]
  },
  {
   "cell_type": "code",
   "execution_count": 231,
   "metadata": {
    "collapsed": false
   },
   "outputs": [],
   "source": [
    "peak_count=np.right_shift(np.bitwise_and(pulses['flags'],0xF000),12)\n",
    "peak_overflow=np.bitwise_and(pulses['flags'],0x0800)!=0\n",
    "channel=np.right_shift(np.bitwise_and(pulses['flags'],0x0700),8)\n",
    "timing_type=np.right_shift(np.bitwise_and(pulses['flags'],0x00C0),6)\n",
    "height_type=np.right_shift(np.bitwise_and(pulses['flags'],0x0030),4)\n",
    "event_type=np.right_shift(np.bitwise_and(pulses['flags'],0x000E),1)\n",
    "new_window=np.bitwise_and(pulses['flags'],0x0001)!=0"
   ]
  },
  {
   "cell_type": "code",
   "execution_count": 232,
   "metadata": {
    "collapsed": false
   },
   "outputs": [
    {
     "data": {
      "text/plain": [
       "array([ True,  True,  True,  True,  True,  True,  True,  True,  True,\n",
       "        True,  True,  True,  True,  True,  True,  True,  True,  True,\n",
       "        True,  True,  True], dtype=bool)"
      ]
     },
     "execution_count": 232,
     "metadata": {},
     "output_type": "execute_result"
    }
   ],
   "source": [
    "peak_overflow"
   ]
  },
  {
   "cell_type": "code",
   "execution_count": 249,
   "metadata": {
    "collapsed": true
   },
   "outputs": [],
   "source": [
    "test_dt=np.dtype(\n",
    "    [('time','i2'),('flags','i2'),('rise','u2'),('minima','i2'),('low','u8'),('high','u8')]\n",
    ")\n",
    "test=data.view(test_dt)"
   ]
  },
  {
   "cell_type": "code",
   "execution_count": 250,
   "metadata": {
    "collapsed": false
   },
   "outputs": [
    {
     "data": {
      "text/plain": [
       "array([(0, -26616, 0, 768, 12114965573155161344, 10593596624145810688),\n",
       "       (0, -26616, 0, 768, 12114965573155161344, 10593596624145810688),\n",
       "       (0, -26616, 0, 768, 12114965573155161344, 10593596624145810688),\n",
       "       (0, -26616, 0, 768, 12114965573155161344, 10593596624145810688),\n",
       "       (0, -26616, 0, 768, 12114965573155161344, 10593596624145810688),\n",
       "       (0, -26616, 0, 768, 12114965573155161344, 10593596624145810688),\n",
       "       (0, -26616, 0, 768, 12114965573155161344, 10593596624145810688),\n",
       "       (0, -26616, 0, 768, 12114965573155161344, 10593596624145810688),\n",
       "       (0, -26616, 0, 768, 12114965573155161344, 10593596624145810688),\n",
       "       (0, -26616, 0, 768, 12114965573155161344, 10593596624145810688),\n",
       "       (0, -26616, 0, 768, 12114965573155161344, 10593596624145810688),\n",
       "       (0, -26616, 0, 768, 12114965573155161344, 10593596624145810688),\n",
       "       (0, -26616, 0, 768, 12114965573155161344, 10593596624145810688),\n",
       "       (0, -26616, 0, 768, 12114965573155161344, 10593596624145810688),\n",
       "       (0, -26616, 0, 768, 12114965573155161344, 10593596624145810688),\n",
       "       (0, -26616, 0, 768, 12114965573155161344, 10593596624145810688),\n",
       "       (0, -26616, 0, 768, 12114965573155161344, 10593596624145810688),\n",
       "       (0, -26616, 0, 768, 12114965573155161344, 10593596624145810688),\n",
       "       (0, -26616, 0, 768, 12114965573155161344, 10593596624145810688),\n",
       "       (0, -26616, 0, 768, 12114965573155161344, 10593596624145810688),\n",
       "       (0, -26616, 0, 768, 12114965573155161344, 10593596624145810688)], \n",
       "      dtype=[('time', '<i2'), ('flags', '<i2'), ('rise', '<u2'), ('minima', '<i2'), ('low', '<u8'), ('high', '<u8')])"
      ]
     },
     "execution_count": 250,
     "metadata": {},
     "output_type": "execute_result"
    }
   ],
   "source": [
    "test"
   ]
  },
  {
   "cell_type": "code",
   "execution_count": 270,
   "metadata": {
    "collapsed": false
   },
   "outputs": [
    {
     "data": {
      "text/plain": [
       "array([768, 768, 768, 768, 768, 768, 768, 768, 768, 768, 768, 768, 768,\n",
       "       768, 768, 768, 768, 768, 768, 768, 768], dtype=int16)"
      ]
     },
     "execution_count": 270,
     "metadata": {},
     "output_type": "execute_result"
    }
   ],
   "source": [
    "test['minima']"
   ]
  },
  {
   "cell_type": "code",
   "execution_count": 262,
   "metadata": {
    "collapsed": false
   },
   "outputs": [],
   "source": [
    "low1=np.int32(np.right_shift(np.bitwise_and(test['low'],0x03FFFF000000000),36))\n",
    "s=(np.bitwise_and(low1,0x00020000)!=0)*0xFFFC0000\n",
    "low2=np.int32(np.right_shift(np.bitwise_and(test['low'],0x000000FFFFC0000),18))\n",
    "low_threshold=np.int32(np.bitwise_and(test['low'],0x00000000003FFFF))\n",
    "high1=np.int32(np.right_shift(np.bitwise_and(test['high'],0x03FFFF000000000),36))\n",
    "high2=np.int32(np.right_shift(np.bitwise_and(test['high'],0x000000FFFFC0000),18))\n",
    "high_threshold=np.int32(np.bitwise_and(test['high'],0x00000000003FFFF))"
   ]
  },
  {
   "cell_type": "code",
   "execution_count": 266,
   "metadata": {
    "collapsed": false
   },
   "outputs": [
    {
     "data": {
      "text/plain": [
       "array([-15870., -15870., -15870., -15870., -15870., -15870., -15870.,\n",
       "       -15870., -15870., -15870., -15870., -15870., -15870., -15870.,\n",
       "       -15870., -15870., -15870., -15870., -15870., -15870., -15870.])"
      ]
     },
     "execution_count": 266,
     "metadata": {},
     "output_type": "execute_result"
    }
   ],
   "source": [
    "np.int32(np.bitwise_or(low1,s))/8.0"
   ]
  },
  {
   "cell_type": "code",
   "execution_count": 269,
   "metadata": {
    "collapsed": false
   },
   "outputs": [
    {
     "data": {
      "text/plain": [
       "'21010'"
      ]
     },
     "execution_count": 269,
     "metadata": {},
     "output_type": "execute_result"
    }
   ],
   "source": [
    "'{:04X}'.format(low1[0])"
   ]
  },
  {
   "cell_type": "code",
   "execution_count": 243,
   "metadata": {
    "collapsed": false
   },
   "outputs": [
    {
     "data": {
      "text/plain": [
       "array([ 2056.,  2056.,  2056.,  2056.,  2056.,  2056.,  2056.,  2056.,\n",
       "        2056.,  2056.,  2056.,  2056.,  2056.,  2056.,  2056.,  2056.,\n",
       "        2056.,  2056.,  2056.,  2056.,  2056.])"
      ]
     },
     "execution_count": 243,
     "metadata": {},
     "output_type": "execute_result"
    }
   ],
   "source": [
    "high1/8.0"
   ]
  },
  {
   "cell_type": "code",
   "execution_count": 244,
   "metadata": {
    "collapsed": false
   },
   "outputs": [
    {
     "data": {
      "text/plain": [
       "array([ 1247.875,  1247.875,  1247.875,  1247.875,  1247.875,  1247.875,\n",
       "        1247.875,  1247.875,  1247.875,  1247.875,  1247.875,  1247.875,\n",
       "        1247.875,  1247.875,  1247.875,  1247.875,  1247.875,  1247.875,\n",
       "        1247.875,  1247.875,  1247.875])"
      ]
     },
     "execution_count": 244,
     "metadata": {},
     "output_type": "execute_result"
    }
   ],
   "source": [
    "high2/8.0"
   ]
  },
  {
   "cell_type": "code",
   "execution_count": 274,
   "metadata": {
    "collapsed": false
   },
   "outputs": [
    {
     "data": {
      "text/plain": [
       "'10500'"
      ]
     },
     "execution_count": 274,
     "metadata": {},
     "output_type": "execute_result"
    }
   ],
   "source": [
    "'{:04X}'.format(high_threshold[0])"
   ]
  },
  {
   "cell_type": "code",
   "execution_count": null,
   "metadata": {
    "collapsed": true
   },
   "outputs": [],
   "source": []
  }
 ],
 "metadata": {
  "anaconda-cloud": {},
  "kernelspec": {
   "display_name": "Python [default]",
   "language": "python",
   "name": "python3"
  },
  "language_info": {
   "codemirror_mode": {
    "name": "ipython",
    "version": 3
   },
   "file_extension": ".py",
   "mimetype": "text/x-python",
   "name": "python",
   "nbconvert_exporter": "python",
   "pygments_lexer": "ipython3",
   "version": "3.5.2"
  }
 },
 "nbformat": 4,
 "nbformat_minor": 1
}
