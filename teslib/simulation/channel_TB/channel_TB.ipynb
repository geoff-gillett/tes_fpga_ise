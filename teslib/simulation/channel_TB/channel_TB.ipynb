{
 "cells": [
  {
   "cell_type": "code",
   "execution_count": 2,
   "metadata": {
    "collapsed": false
   },
   "outputs": [],
   "source": [
    "from tes.data import Data\n",
    "import numpy as np\n",
    "import matplotlib.pyplot as plt"
   ]
  },
  {
   "cell_type": "code",
   "execution_count": 3,
   "metadata": {
    "collapsed": false
   },
   "outputs": [],
   "source": [
    "trace_dt=np.dtype([('raw','i4'),('filtered','i4'),('slope','i4')])"
   ]
  },
  {
   "cell_type": "code",
   "execution_count": 4,
   "metadata": {
    "collapsed": true
   },
   "outputs": [],
   "source": [
    "traces=np.fromfile('data/traces',trace_dt)"
   ]
  },
  {
   "cell_type": "code",
   "execution_count": 13,
   "metadata": {
    "collapsed": true
   },
   "outputs": [],
   "source": [
    "traces=Data.fromfile('traces',trace_dt,'teslib','channel_TB',tool='vivado')"
   ]
  },
  {
   "cell_type": "code",
   "execution_count": 14,
   "metadata": {
    "collapsed": false
   },
   "outputs": [
    {
     "data": {
      "application/javascript": [
       "/* Put everything inside the global mpl namespace */\n",
       "window.mpl = {};\n",
       "\n",
       "\n",
       "mpl.get_websocket_type = function() {\n",
       "    if (typeof(WebSocket) !== 'undefined') {\n",
       "        return WebSocket;\n",
       "    } else if (typeof(MozWebSocket) !== 'undefined') {\n",
       "        return MozWebSocket;\n",
       "    } else {\n",
       "        alert('Your browser does not have WebSocket support.' +\n",
       "              'Please try Chrome, Safari or Firefox ≥ 6. ' +\n",
       "              'Firefox 4 and 5 are also supported but you ' +\n",
       "              'have to enable WebSockets in about:config.');\n",
       "    };\n",
       "}\n",
       "\n",
       "mpl.figure = function(figure_id, websocket, ondownload, parent_element) {\n",
       "    this.id = figure_id;\n",
       "\n",
       "    this.ws = websocket;\n",
       "\n",
       "    this.supports_binary = (this.ws.binaryType != undefined);\n",
       "\n",
       "    if (!this.supports_binary) {\n",
       "        var warnings = document.getElementById(\"mpl-warnings\");\n",
       "        if (warnings) {\n",
       "            warnings.style.display = 'block';\n",
       "            warnings.textContent = (\n",
       "                \"This browser does not support binary websocket messages. \" +\n",
       "                    \"Performance may be slow.\");\n",
       "        }\n",
       "    }\n",
       "\n",
       "    this.imageObj = new Image();\n",
       "\n",
       "    this.context = undefined;\n",
       "    this.message = undefined;\n",
       "    this.canvas = undefined;\n",
       "    this.rubberband_canvas = undefined;\n",
       "    this.rubberband_context = undefined;\n",
       "    this.format_dropdown = undefined;\n",
       "\n",
       "    this.image_mode = 'full';\n",
       "\n",
       "    this.root = $('<div/>');\n",
       "    this._root_extra_style(this.root)\n",
       "    this.root.attr('style', 'display: inline-block');\n",
       "\n",
       "    $(parent_element).append(this.root);\n",
       "\n",
       "    this._init_header(this);\n",
       "    this._init_canvas(this);\n",
       "    this._init_toolbar(this);\n",
       "\n",
       "    var fig = this;\n",
       "\n",
       "    this.waiting = false;\n",
       "\n",
       "    this.ws.onopen =  function () {\n",
       "            fig.send_message(\"supports_binary\", {value: fig.supports_binary});\n",
       "            fig.send_message(\"send_image_mode\", {});\n",
       "            if (mpl.ratio != 1) {\n",
       "                fig.send_message(\"set_dpi_ratio\", {'dpi_ratio': mpl.ratio});\n",
       "            }\n",
       "            fig.send_message(\"refresh\", {});\n",
       "        }\n",
       "\n",
       "    this.imageObj.onload = function() {\n",
       "            if (fig.image_mode == 'full') {\n",
       "                // Full images could contain transparency (where diff images\n",
       "                // almost always do), so we need to clear the canvas so that\n",
       "                // there is no ghosting.\n",
       "                fig.context.clearRect(0, 0, fig.canvas.width, fig.canvas.height);\n",
       "            }\n",
       "            fig.context.drawImage(fig.imageObj, 0, 0);\n",
       "        };\n",
       "\n",
       "    this.imageObj.onunload = function() {\n",
       "        this.ws.close();\n",
       "    }\n",
       "\n",
       "    this.ws.onmessage = this._make_on_message_function(this);\n",
       "\n",
       "    this.ondownload = ondownload;\n",
       "}\n",
       "\n",
       "mpl.figure.prototype._init_header = function() {\n",
       "    var titlebar = $(\n",
       "        '<div class=\"ui-dialog-titlebar ui-widget-header ui-corner-all ' +\n",
       "        'ui-helper-clearfix\"/>');\n",
       "    var titletext = $(\n",
       "        '<div class=\"ui-dialog-title\" style=\"width: 100%; ' +\n",
       "        'text-align: center; padding: 3px;\"/>');\n",
       "    titlebar.append(titletext)\n",
       "    this.root.append(titlebar);\n",
       "    this.header = titletext[0];\n",
       "}\n",
       "\n",
       "\n",
       "\n",
       "mpl.figure.prototype._canvas_extra_style = function(canvas_div) {\n",
       "\n",
       "}\n",
       "\n",
       "\n",
       "mpl.figure.prototype._root_extra_style = function(canvas_div) {\n",
       "\n",
       "}\n",
       "\n",
       "mpl.figure.prototype._init_canvas = function() {\n",
       "    var fig = this;\n",
       "\n",
       "    var canvas_div = $('<div/>');\n",
       "\n",
       "    canvas_div.attr('style', 'position: relative; clear: both; outline: 0');\n",
       "\n",
       "    function canvas_keyboard_event(event) {\n",
       "        return fig.key_event(event, event['data']);\n",
       "    }\n",
       "\n",
       "    canvas_div.keydown('key_press', canvas_keyboard_event);\n",
       "    canvas_div.keyup('key_release', canvas_keyboard_event);\n",
       "    this.canvas_div = canvas_div\n",
       "    this._canvas_extra_style(canvas_div)\n",
       "    this.root.append(canvas_div);\n",
       "\n",
       "    var canvas = $('<canvas/>');\n",
       "    canvas.addClass('mpl-canvas');\n",
       "    canvas.attr('style', \"left: 0; top: 0; z-index: 0; outline: 0\")\n",
       "\n",
       "    this.canvas = canvas[0];\n",
       "    this.context = canvas[0].getContext(\"2d\");\n",
       "\n",
       "    var backingStore = this.context.backingStorePixelRatio ||\n",
       "\tthis.context.webkitBackingStorePixelRatio ||\n",
       "\tthis.context.mozBackingStorePixelRatio ||\n",
       "\tthis.context.msBackingStorePixelRatio ||\n",
       "\tthis.context.oBackingStorePixelRatio ||\n",
       "\tthis.context.backingStorePixelRatio || 1;\n",
       "\n",
       "    mpl.ratio = (window.devicePixelRatio || 1) / backingStore;\n",
       "\n",
       "    var rubberband = $('<canvas/>');\n",
       "    rubberband.attr('style', \"position: absolute; left: 0; top: 0; z-index: 1;\")\n",
       "\n",
       "    var pass_mouse_events = true;\n",
       "\n",
       "    canvas_div.resizable({\n",
       "        start: function(event, ui) {\n",
       "            pass_mouse_events = false;\n",
       "        },\n",
       "        resize: function(event, ui) {\n",
       "            fig.request_resize(ui.size.width, ui.size.height);\n",
       "        },\n",
       "        stop: function(event, ui) {\n",
       "            pass_mouse_events = true;\n",
       "            fig.request_resize(ui.size.width, ui.size.height);\n",
       "        },\n",
       "    });\n",
       "\n",
       "    function mouse_event_fn(event) {\n",
       "        if (pass_mouse_events)\n",
       "            return fig.mouse_event(event, event['data']);\n",
       "    }\n",
       "\n",
       "    rubberband.mousedown('button_press', mouse_event_fn);\n",
       "    rubberband.mouseup('button_release', mouse_event_fn);\n",
       "    // Throttle sequential mouse events to 1 every 20ms.\n",
       "    rubberband.mousemove('motion_notify', mouse_event_fn);\n",
       "\n",
       "    rubberband.mouseenter('figure_enter', mouse_event_fn);\n",
       "    rubberband.mouseleave('figure_leave', mouse_event_fn);\n",
       "\n",
       "    canvas_div.on(\"wheel\", function (event) {\n",
       "        event = event.originalEvent;\n",
       "        event['data'] = 'scroll'\n",
       "        if (event.deltaY < 0) {\n",
       "            event.step = 1;\n",
       "        } else {\n",
       "            event.step = -1;\n",
       "        }\n",
       "        mouse_event_fn(event);\n",
       "    });\n",
       "\n",
       "    canvas_div.append(canvas);\n",
       "    canvas_div.append(rubberband);\n",
       "\n",
       "    this.rubberband = rubberband;\n",
       "    this.rubberband_canvas = rubberband[0];\n",
       "    this.rubberband_context = rubberband[0].getContext(\"2d\");\n",
       "    this.rubberband_context.strokeStyle = \"#000000\";\n",
       "\n",
       "    this._resize_canvas = function(width, height) {\n",
       "        // Keep the size of the canvas, canvas container, and rubber band\n",
       "        // canvas in synch.\n",
       "        canvas_div.css('width', width)\n",
       "        canvas_div.css('height', height)\n",
       "\n",
       "        canvas.attr('width', width * mpl.ratio);\n",
       "        canvas.attr('height', height * mpl.ratio);\n",
       "        canvas.attr('style', 'width: ' + width + 'px; height: ' + height + 'px;');\n",
       "\n",
       "        rubberband.attr('width', width);\n",
       "        rubberband.attr('height', height);\n",
       "    }\n",
       "\n",
       "    // Set the figure to an initial 600x600px, this will subsequently be updated\n",
       "    // upon first draw.\n",
       "    this._resize_canvas(600, 600);\n",
       "\n",
       "    // Disable right mouse context menu.\n",
       "    $(this.rubberband_canvas).bind(\"contextmenu\",function(e){\n",
       "        return false;\n",
       "    });\n",
       "\n",
       "    function set_focus () {\n",
       "        canvas.focus();\n",
       "        canvas_div.focus();\n",
       "    }\n",
       "\n",
       "    window.setTimeout(set_focus, 100);\n",
       "}\n",
       "\n",
       "mpl.figure.prototype._init_toolbar = function() {\n",
       "    var fig = this;\n",
       "\n",
       "    var nav_element = $('<div/>')\n",
       "    nav_element.attr('style', 'width: 100%');\n",
       "    this.root.append(nav_element);\n",
       "\n",
       "    // Define a callback function for later on.\n",
       "    function toolbar_event(event) {\n",
       "        return fig.toolbar_button_onclick(event['data']);\n",
       "    }\n",
       "    function toolbar_mouse_event(event) {\n",
       "        return fig.toolbar_button_onmouseover(event['data']);\n",
       "    }\n",
       "\n",
       "    for(var toolbar_ind in mpl.toolbar_items) {\n",
       "        var name = mpl.toolbar_items[toolbar_ind][0];\n",
       "        var tooltip = mpl.toolbar_items[toolbar_ind][1];\n",
       "        var image = mpl.toolbar_items[toolbar_ind][2];\n",
       "        var method_name = mpl.toolbar_items[toolbar_ind][3];\n",
       "\n",
       "        if (!name) {\n",
       "            // put a spacer in here.\n",
       "            continue;\n",
       "        }\n",
       "        var button = $('<button/>');\n",
       "        button.addClass('ui-button ui-widget ui-state-default ui-corner-all ' +\n",
       "                        'ui-button-icon-only');\n",
       "        button.attr('role', 'button');\n",
       "        button.attr('aria-disabled', 'false');\n",
       "        button.click(method_name, toolbar_event);\n",
       "        button.mouseover(tooltip, toolbar_mouse_event);\n",
       "\n",
       "        var icon_img = $('<span/>');\n",
       "        icon_img.addClass('ui-button-icon-primary ui-icon');\n",
       "        icon_img.addClass(image);\n",
       "        icon_img.addClass('ui-corner-all');\n",
       "\n",
       "        var tooltip_span = $('<span/>');\n",
       "        tooltip_span.addClass('ui-button-text');\n",
       "        tooltip_span.html(tooltip);\n",
       "\n",
       "        button.append(icon_img);\n",
       "        button.append(tooltip_span);\n",
       "\n",
       "        nav_element.append(button);\n",
       "    }\n",
       "\n",
       "    var fmt_picker_span = $('<span/>');\n",
       "\n",
       "    var fmt_picker = $('<select/>');\n",
       "    fmt_picker.addClass('mpl-toolbar-option ui-widget ui-widget-content');\n",
       "    fmt_picker_span.append(fmt_picker);\n",
       "    nav_element.append(fmt_picker_span);\n",
       "    this.format_dropdown = fmt_picker[0];\n",
       "\n",
       "    for (var ind in mpl.extensions) {\n",
       "        var fmt = mpl.extensions[ind];\n",
       "        var option = $(\n",
       "            '<option/>', {selected: fmt === mpl.default_extension}).html(fmt);\n",
       "        fmt_picker.append(option)\n",
       "    }\n",
       "\n",
       "    // Add hover states to the ui-buttons\n",
       "    $( \".ui-button\" ).hover(\n",
       "        function() { $(this).addClass(\"ui-state-hover\");},\n",
       "        function() { $(this).removeClass(\"ui-state-hover\");}\n",
       "    );\n",
       "\n",
       "    var status_bar = $('<span class=\"mpl-message\"/>');\n",
       "    nav_element.append(status_bar);\n",
       "    this.message = status_bar[0];\n",
       "}\n",
       "\n",
       "mpl.figure.prototype.request_resize = function(x_pixels, y_pixels) {\n",
       "    // Request matplotlib to resize the figure. Matplotlib will then trigger a resize in the client,\n",
       "    // which will in turn request a refresh of the image.\n",
       "    this.send_message('resize', {'width': x_pixels, 'height': y_pixels});\n",
       "}\n",
       "\n",
       "mpl.figure.prototype.send_message = function(type, properties) {\n",
       "    properties['type'] = type;\n",
       "    properties['figure_id'] = this.id;\n",
       "    this.ws.send(JSON.stringify(properties));\n",
       "}\n",
       "\n",
       "mpl.figure.prototype.send_draw_message = function() {\n",
       "    if (!this.waiting) {\n",
       "        this.waiting = true;\n",
       "        this.ws.send(JSON.stringify({type: \"draw\", figure_id: this.id}));\n",
       "    }\n",
       "}\n",
       "\n",
       "\n",
       "mpl.figure.prototype.handle_save = function(fig, msg) {\n",
       "    var format_dropdown = fig.format_dropdown;\n",
       "    var format = format_dropdown.options[format_dropdown.selectedIndex].value;\n",
       "    fig.ondownload(fig, format);\n",
       "}\n",
       "\n",
       "\n",
       "mpl.figure.prototype.handle_resize = function(fig, msg) {\n",
       "    var size = msg['size'];\n",
       "    if (size[0] != fig.canvas.width || size[1] != fig.canvas.height) {\n",
       "        fig._resize_canvas(size[0], size[1]);\n",
       "        fig.send_message(\"refresh\", {});\n",
       "    };\n",
       "}\n",
       "\n",
       "mpl.figure.prototype.handle_rubberband = function(fig, msg) {\n",
       "    var x0 = msg['x0'] / mpl.ratio;\n",
       "    var y0 = (fig.canvas.height - msg['y0']) / mpl.ratio;\n",
       "    var x1 = msg['x1'] / mpl.ratio;\n",
       "    var y1 = (fig.canvas.height - msg['y1']) / mpl.ratio;\n",
       "    x0 = Math.floor(x0) + 0.5;\n",
       "    y0 = Math.floor(y0) + 0.5;\n",
       "    x1 = Math.floor(x1) + 0.5;\n",
       "    y1 = Math.floor(y1) + 0.5;\n",
       "    var min_x = Math.min(x0, x1);\n",
       "    var min_y = Math.min(y0, y1);\n",
       "    var width = Math.abs(x1 - x0);\n",
       "    var height = Math.abs(y1 - y0);\n",
       "\n",
       "    fig.rubberband_context.clearRect(\n",
       "        0, 0, fig.canvas.width, fig.canvas.height);\n",
       "\n",
       "    fig.rubberband_context.strokeRect(min_x, min_y, width, height);\n",
       "}\n",
       "\n",
       "mpl.figure.prototype.handle_figure_label = function(fig, msg) {\n",
       "    // Updates the figure title.\n",
       "    fig.header.textContent = msg['label'];\n",
       "}\n",
       "\n",
       "mpl.figure.prototype.handle_cursor = function(fig, msg) {\n",
       "    var cursor = msg['cursor'];\n",
       "    switch(cursor)\n",
       "    {\n",
       "    case 0:\n",
       "        cursor = 'pointer';\n",
       "        break;\n",
       "    case 1:\n",
       "        cursor = 'default';\n",
       "        break;\n",
       "    case 2:\n",
       "        cursor = 'crosshair';\n",
       "        break;\n",
       "    case 3:\n",
       "        cursor = 'move';\n",
       "        break;\n",
       "    }\n",
       "    fig.rubberband_canvas.style.cursor = cursor;\n",
       "}\n",
       "\n",
       "mpl.figure.prototype.handle_message = function(fig, msg) {\n",
       "    fig.message.textContent = msg['message'];\n",
       "}\n",
       "\n",
       "mpl.figure.prototype.handle_draw = function(fig, msg) {\n",
       "    // Request the server to send over a new figure.\n",
       "    fig.send_draw_message();\n",
       "}\n",
       "\n",
       "mpl.figure.prototype.handle_image_mode = function(fig, msg) {\n",
       "    fig.image_mode = msg['mode'];\n",
       "}\n",
       "\n",
       "mpl.figure.prototype.updated_canvas_event = function() {\n",
       "    // Called whenever the canvas gets updated.\n",
       "    this.send_message(\"ack\", {});\n",
       "}\n",
       "\n",
       "// A function to construct a web socket function for onmessage handling.\n",
       "// Called in the figure constructor.\n",
       "mpl.figure.prototype._make_on_message_function = function(fig) {\n",
       "    return function socket_on_message(evt) {\n",
       "        if (evt.data instanceof Blob) {\n",
       "            /* FIXME: We get \"Resource interpreted as Image but\n",
       "             * transferred with MIME type text/plain:\" errors on\n",
       "             * Chrome.  But how to set the MIME type?  It doesn't seem\n",
       "             * to be part of the websocket stream */\n",
       "            evt.data.type = \"image/png\";\n",
       "\n",
       "            /* Free the memory for the previous frames */\n",
       "            if (fig.imageObj.src) {\n",
       "                (window.URL || window.webkitURL).revokeObjectURL(\n",
       "                    fig.imageObj.src);\n",
       "            }\n",
       "\n",
       "            fig.imageObj.src = (window.URL || window.webkitURL).createObjectURL(\n",
       "                evt.data);\n",
       "            fig.updated_canvas_event();\n",
       "            fig.waiting = false;\n",
       "            return;\n",
       "        }\n",
       "        else if (typeof evt.data === 'string' && evt.data.slice(0, 21) == \"data:image/png;base64\") {\n",
       "            fig.imageObj.src = evt.data;\n",
       "            fig.updated_canvas_event();\n",
       "            fig.waiting = false;\n",
       "            return;\n",
       "        }\n",
       "\n",
       "        var msg = JSON.parse(evt.data);\n",
       "        var msg_type = msg['type'];\n",
       "\n",
       "        // Call the  \"handle_{type}\" callback, which takes\n",
       "        // the figure and JSON message as its only arguments.\n",
       "        try {\n",
       "            var callback = fig[\"handle_\" + msg_type];\n",
       "        } catch (e) {\n",
       "            console.log(\"No handler for the '\" + msg_type + \"' message type: \", msg);\n",
       "            return;\n",
       "        }\n",
       "\n",
       "        if (callback) {\n",
       "            try {\n",
       "                // console.log(\"Handling '\" + msg_type + \"' message: \", msg);\n",
       "                callback(fig, msg);\n",
       "            } catch (e) {\n",
       "                console.log(\"Exception inside the 'handler_\" + msg_type + \"' callback:\", e, e.stack, msg);\n",
       "            }\n",
       "        }\n",
       "    };\n",
       "}\n",
       "\n",
       "// from http://stackoverflow.com/questions/1114465/getting-mouse-location-in-canvas\n",
       "mpl.findpos = function(e) {\n",
       "    //this section is from http://www.quirksmode.org/js/events_properties.html\n",
       "    var targ;\n",
       "    if (!e)\n",
       "        e = window.event;\n",
       "    if (e.target)\n",
       "        targ = e.target;\n",
       "    else if (e.srcElement)\n",
       "        targ = e.srcElement;\n",
       "    if (targ.nodeType == 3) // defeat Safari bug\n",
       "        targ = targ.parentNode;\n",
       "\n",
       "    // jQuery normalizes the pageX and pageY\n",
       "    // pageX,Y are the mouse positions relative to the document\n",
       "    // offset() returns the position of the element relative to the document\n",
       "    var x = e.pageX - $(targ).offset().left;\n",
       "    var y = e.pageY - $(targ).offset().top;\n",
       "\n",
       "    return {\"x\": x, \"y\": y};\n",
       "};\n",
       "\n",
       "/*\n",
       " * return a copy of an object with only non-object keys\n",
       " * we need this to avoid circular references\n",
       " * http://stackoverflow.com/a/24161582/3208463\n",
       " */\n",
       "function simpleKeys (original) {\n",
       "  return Object.keys(original).reduce(function (obj, key) {\n",
       "    if (typeof original[key] !== 'object')\n",
       "        obj[key] = original[key]\n",
       "    return obj;\n",
       "  }, {});\n",
       "}\n",
       "\n",
       "mpl.figure.prototype.mouse_event = function(event, name) {\n",
       "    var canvas_pos = mpl.findpos(event)\n",
       "\n",
       "    if (name === 'button_press')\n",
       "    {\n",
       "        this.canvas.focus();\n",
       "        this.canvas_div.focus();\n",
       "    }\n",
       "\n",
       "    var x = canvas_pos.x * mpl.ratio;\n",
       "    var y = canvas_pos.y * mpl.ratio;\n",
       "\n",
       "    this.send_message(name, {x: x, y: y, button: event.button,\n",
       "                             step: event.step,\n",
       "                             guiEvent: simpleKeys(event)});\n",
       "\n",
       "    /* This prevents the web browser from automatically changing to\n",
       "     * the text insertion cursor when the button is pressed.  We want\n",
       "     * to control all of the cursor setting manually through the\n",
       "     * 'cursor' event from matplotlib */\n",
       "    event.preventDefault();\n",
       "    return false;\n",
       "}\n",
       "\n",
       "mpl.figure.prototype._key_event_extra = function(event, name) {\n",
       "    // Handle any extra behaviour associated with a key event\n",
       "}\n",
       "\n",
       "mpl.figure.prototype.key_event = function(event, name) {\n",
       "\n",
       "    // Prevent repeat events\n",
       "    if (name == 'key_press')\n",
       "    {\n",
       "        if (event.which === this._key)\n",
       "            return;\n",
       "        else\n",
       "            this._key = event.which;\n",
       "    }\n",
       "    if (name == 'key_release')\n",
       "        this._key = null;\n",
       "\n",
       "    var value = '';\n",
       "    if (event.ctrlKey && event.which != 17)\n",
       "        value += \"ctrl+\";\n",
       "    if (event.altKey && event.which != 18)\n",
       "        value += \"alt+\";\n",
       "    if (event.shiftKey && event.which != 16)\n",
       "        value += \"shift+\";\n",
       "\n",
       "    value += 'k';\n",
       "    value += event.which.toString();\n",
       "\n",
       "    this._key_event_extra(event, name);\n",
       "\n",
       "    this.send_message(name, {key: value,\n",
       "                             guiEvent: simpleKeys(event)});\n",
       "    return false;\n",
       "}\n",
       "\n",
       "mpl.figure.prototype.toolbar_button_onclick = function(name) {\n",
       "    if (name == 'download') {\n",
       "        this.handle_save(this, null);\n",
       "    } else {\n",
       "        this.send_message(\"toolbar_button\", {name: name});\n",
       "    }\n",
       "};\n",
       "\n",
       "mpl.figure.prototype.toolbar_button_onmouseover = function(tooltip) {\n",
       "    this.message.textContent = tooltip;\n",
       "};\n",
       "mpl.toolbar_items = [[\"Home\", \"Reset original view\", \"fa fa-home icon-home\", \"home\"], [\"Back\", \"Back to  previous view\", \"fa fa-arrow-left icon-arrow-left\", \"back\"], [\"Forward\", \"Forward to next view\", \"fa fa-arrow-right icon-arrow-right\", \"forward\"], [\"\", \"\", \"\", \"\"], [\"Pan\", \"Pan axes with left mouse, zoom with right\", \"fa fa-arrows icon-move\", \"pan\"], [\"Zoom\", \"Zoom to rectangle\", \"fa fa-square-o icon-check-empty\", \"zoom\"], [\"\", \"\", \"\", \"\"], [\"Download\", \"Download plot\", \"fa fa-floppy-o icon-save\", \"download\"]];\n",
       "\n",
       "mpl.extensions = [\"eps\", \"jpeg\", \"pdf\", \"png\", \"ps\", \"raw\", \"svg\", \"tif\"];\n",
       "\n",
       "mpl.default_extension = \"png\";var comm_websocket_adapter = function(comm) {\n",
       "    // Create a \"websocket\"-like object which calls the given IPython comm\n",
       "    // object with the appropriate methods. Currently this is a non binary\n",
       "    // socket, so there is still some room for performance tuning.\n",
       "    var ws = {};\n",
       "\n",
       "    ws.close = function() {\n",
       "        comm.close()\n",
       "    };\n",
       "    ws.send = function(m) {\n",
       "        //console.log('sending', m);\n",
       "        comm.send(m);\n",
       "    };\n",
       "    // Register the callback with on_msg.\n",
       "    comm.on_msg(function(msg) {\n",
       "        //console.log('receiving', msg['content']['data'], msg);\n",
       "        // Pass the mpl event to the overriden (by mpl) onmessage function.\n",
       "        ws.onmessage(msg['content']['data'])\n",
       "    });\n",
       "    return ws;\n",
       "}\n",
       "\n",
       "mpl.mpl_figure_comm = function(comm, msg) {\n",
       "    // This is the function which gets called when the mpl process\n",
       "    // starts-up an IPython Comm through the \"matplotlib\" channel.\n",
       "\n",
       "    var id = msg.content.data.id;\n",
       "    // Get hold of the div created by the display call when the Comm\n",
       "    // socket was opened in Python.\n",
       "    var element = $(\"#\" + id);\n",
       "    var ws_proxy = comm_websocket_adapter(comm)\n",
       "\n",
       "    function ondownload(figure, format) {\n",
       "        window.open(figure.imageObj.src);\n",
       "    }\n",
       "\n",
       "    var fig = new mpl.figure(id, ws_proxy,\n",
       "                           ondownload,\n",
       "                           element.get(0));\n",
       "\n",
       "    // Call onopen now - mpl needs it, as it is assuming we've passed it a real\n",
       "    // web socket which is closed, not our websocket->open comm proxy.\n",
       "    ws_proxy.onopen();\n",
       "\n",
       "    fig.parent_element = element.get(0);\n",
       "    fig.cell_info = mpl.find_output_cell(\"<div id='\" + id + \"'></div>\");\n",
       "    if (!fig.cell_info) {\n",
       "        console.error(\"Failed to find cell for figure\", id, fig);\n",
       "        return;\n",
       "    }\n",
       "\n",
       "    var output_index = fig.cell_info[2]\n",
       "    var cell = fig.cell_info[0];\n",
       "\n",
       "};\n",
       "\n",
       "mpl.figure.prototype.handle_close = function(fig, msg) {\n",
       "    var width = fig.canvas.width/mpl.ratio\n",
       "    fig.root.unbind('remove')\n",
       "\n",
       "    // Update the output cell to use the data from the current canvas.\n",
       "    fig.push_to_output();\n",
       "    var dataURL = fig.canvas.toDataURL();\n",
       "    // Re-enable the keyboard manager in IPython - without this line, in FF,\n",
       "    // the notebook keyboard shortcuts fail.\n",
       "    IPython.keyboard_manager.enable()\n",
       "    $(fig.parent_element).html('<img src=\"' + dataURL + '\" width=\"' + width + '\">');\n",
       "    fig.close_ws(fig, msg);\n",
       "}\n",
       "\n",
       "mpl.figure.prototype.close_ws = function(fig, msg){\n",
       "    fig.send_message('closing', msg);\n",
       "    // fig.ws.close()\n",
       "}\n",
       "\n",
       "mpl.figure.prototype.push_to_output = function(remove_interactive) {\n",
       "    // Turn the data on the canvas into data in the output cell.\n",
       "    var width = this.canvas.width/mpl.ratio\n",
       "    var dataURL = this.canvas.toDataURL();\n",
       "    this.cell_info[1]['text/html'] = '<img src=\"' + dataURL + '\" width=\"' + width + '\">';\n",
       "}\n",
       "\n",
       "mpl.figure.prototype.updated_canvas_event = function() {\n",
       "    // Tell IPython that the notebook contents must change.\n",
       "    IPython.notebook.set_dirty(true);\n",
       "    this.send_message(\"ack\", {});\n",
       "    var fig = this;\n",
       "    // Wait a second, then push the new image to the DOM so\n",
       "    // that it is saved nicely (might be nice to debounce this).\n",
       "    setTimeout(function () { fig.push_to_output() }, 1000);\n",
       "}\n",
       "\n",
       "mpl.figure.prototype._init_toolbar = function() {\n",
       "    var fig = this;\n",
       "\n",
       "    var nav_element = $('<div/>')\n",
       "    nav_element.attr('style', 'width: 100%');\n",
       "    this.root.append(nav_element);\n",
       "\n",
       "    // Define a callback function for later on.\n",
       "    function toolbar_event(event) {\n",
       "        return fig.toolbar_button_onclick(event['data']);\n",
       "    }\n",
       "    function toolbar_mouse_event(event) {\n",
       "        return fig.toolbar_button_onmouseover(event['data']);\n",
       "    }\n",
       "\n",
       "    for(var toolbar_ind in mpl.toolbar_items){\n",
       "        var name = mpl.toolbar_items[toolbar_ind][0];\n",
       "        var tooltip = mpl.toolbar_items[toolbar_ind][1];\n",
       "        var image = mpl.toolbar_items[toolbar_ind][2];\n",
       "        var method_name = mpl.toolbar_items[toolbar_ind][3];\n",
       "\n",
       "        if (!name) { continue; };\n",
       "\n",
       "        var button = $('<button class=\"btn btn-default\" href=\"#\" title=\"' + name + '\"><i class=\"fa ' + image + ' fa-lg\"></i></button>');\n",
       "        button.click(method_name, toolbar_event);\n",
       "        button.mouseover(tooltip, toolbar_mouse_event);\n",
       "        nav_element.append(button);\n",
       "    }\n",
       "\n",
       "    // Add the status bar.\n",
       "    var status_bar = $('<span class=\"mpl-message\" style=\"text-align:right; float: right;\"/>');\n",
       "    nav_element.append(status_bar);\n",
       "    this.message = status_bar[0];\n",
       "\n",
       "    // Add the close button to the window.\n",
       "    var buttongrp = $('<div class=\"btn-group inline pull-right\"></div>');\n",
       "    var button = $('<button class=\"btn btn-mini btn-primary\" href=\"#\" title=\"Stop Interaction\"><i class=\"fa fa-power-off icon-remove icon-large\"></i></button>');\n",
       "    button.click(function (evt) { fig.handle_close(fig, {}); } );\n",
       "    button.mouseover('Stop Interaction', toolbar_mouse_event);\n",
       "    buttongrp.append(button);\n",
       "    var titlebar = this.root.find($('.ui-dialog-titlebar'));\n",
       "    titlebar.prepend(buttongrp);\n",
       "}\n",
       "\n",
       "mpl.figure.prototype._root_extra_style = function(el){\n",
       "    var fig = this\n",
       "    el.on(\"remove\", function(){\n",
       "\tfig.close_ws(fig, {});\n",
       "    });\n",
       "}\n",
       "\n",
       "mpl.figure.prototype._canvas_extra_style = function(el){\n",
       "    // this is important to make the div 'focusable\n",
       "    el.attr('tabindex', 0)\n",
       "    // reach out to IPython and tell the keyboard manager to turn it's self\n",
       "    // off when our div gets focus\n",
       "\n",
       "    // location in version 3\n",
       "    if (IPython.notebook.keyboard_manager) {\n",
       "        IPython.notebook.keyboard_manager.register_events(el);\n",
       "    }\n",
       "    else {\n",
       "        // location in version 2\n",
       "        IPython.keyboard_manager.register_events(el);\n",
       "    }\n",
       "\n",
       "}\n",
       "\n",
       "mpl.figure.prototype._key_event_extra = function(event, name) {\n",
       "    var manager = IPython.notebook.keyboard_manager;\n",
       "    if (!manager)\n",
       "        manager = IPython.keyboard_manager;\n",
       "\n",
       "    // Check for shift+enter\n",
       "    if (event.shiftKey && event.which == 13) {\n",
       "        this.canvas_div.blur();\n",
       "        // select the cell after this one\n",
       "        var index = IPython.notebook.find_cell_index(this.cell_info[0]);\n",
       "        IPython.notebook.select(index + 1);\n",
       "    }\n",
       "}\n",
       "\n",
       "mpl.figure.prototype.handle_save = function(fig, msg) {\n",
       "    fig.ondownload(fig, null);\n",
       "}\n",
       "\n",
       "\n",
       "mpl.find_output_cell = function(html_output) {\n",
       "    // Return the cell and output element which can be found *uniquely* in the notebook.\n",
       "    // Note - this is a bit hacky, but it is done because the \"notebook_saving.Notebook\"\n",
       "    // IPython event is triggered only after the cells have been serialised, which for\n",
       "    // our purposes (turning an active figure into a static one), is too late.\n",
       "    var cells = IPython.notebook.get_cells();\n",
       "    var ncells = cells.length;\n",
       "    for (var i=0; i<ncells; i++) {\n",
       "        var cell = cells[i];\n",
       "        if (cell.cell_type === 'code'){\n",
       "            for (var j=0; j<cell.output_area.outputs.length; j++) {\n",
       "                var data = cell.output_area.outputs[j];\n",
       "                if (data.data) {\n",
       "                    // IPython >= 3 moved mimebundle to data attribute of output\n",
       "                    data = data.data;\n",
       "                }\n",
       "                if (data['text/html'] == html_output) {\n",
       "                    return [cell, data, j];\n",
       "                }\n",
       "            }\n",
       "        }\n",
       "    }\n",
       "}\n",
       "\n",
       "// Register the function which deals with the matplotlib target/channel.\n",
       "// The kernel may be null if the page has been refreshed.\n",
       "if (IPython.notebook.kernel != null) {\n",
       "    IPython.notebook.kernel.comm_manager.register_target('matplotlib', mpl.mpl_figure_comm);\n",
       "}\n"
      ],
      "text/plain": [
       "<IPython.core.display.Javascript object>"
      ]
     },
     "metadata": {},
     "output_type": "display_data"
    },
    {
     "data": {
      "text/html": [
       "<img src=\"data:image/png;base64,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\" width=\"640\">"
      ],
      "text/plain": [
       "<IPython.core.display.HTML object>"
      ]
     },
     "metadata": {},
     "output_type": "display_data"
    },
    {
     "data": {
      "text/plain": [
       "[<matplotlib.lines.Line2D at 0xdca7080>]"
      ]
     },
     "execution_count": 14,
     "metadata": {},
     "output_type": "execute_result"
    }
   ],
   "source": [
    "%matplotlib notebook\n",
    "plt.plot(traces['filtered'][100:]/8)\n",
    "plt.plot(traces['slope'][100:]/64)"
   ]
  },
  {
   "cell_type": "code",
   "execution_count": 5,
   "metadata": {
    "collapsed": false
   },
   "outputs": [],
   "source": [
    "stream_dt=np.dtype([('data','u8'),('last','i4')])\n",
    "stream=np.fromfile('data/stream',stream_dt)"
   ]
  },
  {
   "cell_type": "code",
   "execution_count": 222,
   "metadata": {
    "collapsed": false
   },
   "outputs": [],
   "source": [
    "stream=Data.fromfile('stream',stream_dt,'teslib','channel_TB',tool='vivado')\n",
    "data=np.copy(stream['data'])"
   ]
  },
  {
   "cell_type": "code",
   "execution_count": 213,
   "metadata": {
    "collapsed": false
   },
   "outputs": [
    {
     "data": {
      "text/plain": [
       "'B4040600'"
      ]
     },
     "execution_count": 213,
     "metadata": {},
     "output_type": "execute_result"
    }
   ],
   "source": [
    "'{:08X}'.format(stream['data'][0])"
   ]
  },
  {
   "cell_type": "code",
   "execution_count": 214,
   "metadata": {
    "collapsed": false
   },
   "outputs": [],
   "source": [
    "event_dt=np.dtype([('rise','>i2'),('height','>i2'),('time','>i2'),('flags','>i2')])"
   ]
  },
  {
   "cell_type": "code",
   "execution_count": 215,
   "metadata": {
    "collapsed": false
   },
   "outputs": [],
   "source": [
    "events=stream['data'].view(event_dt)"
   ]
  },
  {
   "cell_type": "code",
   "execution_count": 216,
   "metadata": {
    "collapsed": false
   },
   "outputs": [
    {
     "data": {
      "text/plain": [
       "'0'"
      ]
     },
     "execution_count": 216,
     "metadata": {},
     "output_type": "execute_result"
    }
   ],
   "source": [
    "'{:X}'.format(events['flags'][0])"
   ]
  },
  {
   "cell_type": "code",
   "execution_count": 217,
   "metadata": {
    "collapsed": false
   },
   "outputs": [
    {
     "data": {
      "text/plain": [
       "array([ 6, 56,  6], dtype=int16)"
      ]
     },
     "execution_count": 217,
     "metadata": {},
     "output_type": "execute_result"
    }
   ],
   "source": [
    "events['rise']"
   ]
  },
  {
   "cell_type": "code",
   "execution_count": 218,
   "metadata": {
    "collapsed": false
   },
   "outputs": [
    {
     "data": {
      "text/plain": [
       "array([(6, 1204, 0, 0), (56, 1213, 0, 4096), (6, 1204, 0, 0)], \n",
       "      dtype=[('rise', '>i2'), ('height', '>i2'), ('time', '>i2'), ('flags', '>i2')])"
      ]
     },
     "execution_count": 218,
     "metadata": {},
     "output_type": "execute_result"
    }
   ],
   "source": [
    "events"
   ]
  },
  {
   "cell_type": "code",
   "execution_count": 206,
   "metadata": {
    "collapsed": false
   },
   "outputs": [
    {
     "data": {
      "text/plain": [
       "'1000'"
      ]
     },
     "execution_count": 206,
     "metadata": {},
     "output_type": "execute_result"
    }
   ],
   "source": [
    "'{:04X}'.format(events['flags'][1])"
   ]
  },
  {
   "cell_type": "code",
   "execution_count": 235,
   "metadata": {
    "collapsed": true
   },
   "outputs": [],
   "source": [
    "pulse_peak_dt=np.dtype([('time','>i2'),('minima','>i2'),('rise','>u2'),('height','>i2')])\n",
    "pulse_dt=np.dtype([('time','>i2'),('flags','>i2'),('resv','>i2'),('size','>u2'),\n",
    "                  ('offset','>i2'),('length','>i2'),('area','>i4'),('peaks',(pulse_peak_dt,1))])\n",
    "data=np.copy(stream['data'])"
   ]
  },
  {
   "cell_type": "code",
   "execution_count": 227,
   "metadata": {
    "collapsed": false
   },
   "outputs": [],
   "source": [
    "pulses=data.view(pulse_dt)"
   ]
  },
  {
   "cell_type": "code",
   "execution_count": 233,
   "metadata": {
    "collapsed": false
   },
   "outputs": [
    {
     "data": {
      "text/plain": [
       "array([1784, 1784, 1784, 1784, 1784, 1784, 1784, 1784, 1784, 1784, 1784,\n",
       "       1784, 1784, 1784, 1784, 1784, 1784, 1784, 1784, 1784, 1784], dtype=int16)"
      ]
     },
     "execution_count": 233,
     "metadata": {},
     "output_type": "execute_result"
    }
   ],
   "source": [
    "pulses['peaks']['height']-pulses['peaks']['minima']"
   ]
  },
  {
   "cell_type": "code",
   "execution_count": 229,
   "metadata": {
    "collapsed": false
   },
   "outputs": [
    {
     "data": {
      "text/plain": [
       "array([-613, -613, -613, -613, -613, -613, -613, -613, -613, -613, -613,\n",
       "       -613, -613, -613, -613, -613, -613, -613, -613, -613, -613], dtype=int16)"
      ]
     },
     "execution_count": 229,
     "metadata": {},
     "output_type": "execute_result"
    }
   ],
   "source": [
    "pulses['peaks']['minima']"
   ]
  },
  {
   "cell_type": "code",
   "execution_count": 231,
   "metadata": {
    "collapsed": false
   },
   "outputs": [],
   "source": [
    "peak_count=np.right_shift(np.bitwise_and(pulses['flags'],0xF000),12)\n",
    "peak_overflow=np.bitwise_and(pulses['flags'],0x0800)!=0\n",
    "channel=np.right_shift(np.bitwise_and(pulses['flags'],0x0700),8)\n",
    "timing_type=np.right_shift(np.bitwise_and(pulses['flags'],0x00C0),6)\n",
    "height_type=np.right_shift(np.bitwise_and(pulses['flags'],0x0030),4)\n",
    "event_type=np.right_shift(np.bitwise_and(pulses['flags'],0x000E),1)\n",
    "new_window=np.bitwise_and(pulses['flags'],0x0001)!=0"
   ]
  },
  {
   "cell_type": "code",
   "execution_count": 232,
   "metadata": {
    "collapsed": false
   },
   "outputs": [
    {
     "data": {
      "text/plain": [
       "array([ True,  True,  True,  True,  True,  True,  True,  True,  True,\n",
       "        True,  True,  True,  True,  True,  True,  True,  True,  True,\n",
       "        True,  True,  True], dtype=bool)"
      ]
     },
     "execution_count": 232,
     "metadata": {},
     "output_type": "execute_result"
    }
   ],
   "source": [
    "peak_overflow"
   ]
  },
  {
   "cell_type": "code",
   "execution_count": 249,
   "metadata": {
    "collapsed": true
   },
   "outputs": [],
   "source": [
    "test_dt=np.dtype(\n",
    "    [('time','i2'),('flags','i2'),('rise','u2'),('minima','i2'),('low','u8'),('high','u8')]\n",
    ")\n",
    "test=data.view(test_dt)"
   ]
  },
  {
   "cell_type": "code",
   "execution_count": 250,
   "metadata": {
    "collapsed": false
   },
   "outputs": [
    {
     "data": {
      "text/plain": [
       "array([(0, -26616, 0, 768, 12114965573155161344, 10593596624145810688),\n",
       "       (0, -26616, 0, 768, 12114965573155161344, 10593596624145810688),\n",
       "       (0, -26616, 0, 768, 12114965573155161344, 10593596624145810688),\n",
       "       (0, -26616, 0, 768, 12114965573155161344, 10593596624145810688),\n",
       "       (0, -26616, 0, 768, 12114965573155161344, 10593596624145810688),\n",
       "       (0, -26616, 0, 768, 12114965573155161344, 10593596624145810688),\n",
       "       (0, -26616, 0, 768, 12114965573155161344, 10593596624145810688),\n",
       "       (0, -26616, 0, 768, 12114965573155161344, 10593596624145810688),\n",
       "       (0, -26616, 0, 768, 12114965573155161344, 10593596624145810688),\n",
       "       (0, -26616, 0, 768, 12114965573155161344, 10593596624145810688),\n",
       "       (0, -26616, 0, 768, 12114965573155161344, 10593596624145810688),\n",
       "       (0, -26616, 0, 768, 12114965573155161344, 10593596624145810688),\n",
       "       (0, -26616, 0, 768, 12114965573155161344, 10593596624145810688),\n",
       "       (0, -26616, 0, 768, 12114965573155161344, 10593596624145810688),\n",
       "       (0, -26616, 0, 768, 12114965573155161344, 10593596624145810688),\n",
       "       (0, -26616, 0, 768, 12114965573155161344, 10593596624145810688),\n",
       "       (0, -26616, 0, 768, 12114965573155161344, 10593596624145810688),\n",
       "       (0, -26616, 0, 768, 12114965573155161344, 10593596624145810688),\n",
       "       (0, -26616, 0, 768, 12114965573155161344, 10593596624145810688),\n",
       "       (0, -26616, 0, 768, 12114965573155161344, 10593596624145810688),\n",
       "       (0, -26616, 0, 768, 12114965573155161344, 10593596624145810688)], \n",
       "      dtype=[('time', '<i2'), ('flags', '<i2'), ('rise', '<u2'), ('minima', '<i2'), ('low', '<u8'), ('high', '<u8')])"
      ]
     },
     "execution_count": 250,
     "metadata": {},
     "output_type": "execute_result"
    }
   ],
   "source": [
    "test"
   ]
  },
  {
   "cell_type": "code",
   "execution_count": 270,
   "metadata": {
    "collapsed": false
   },
   "outputs": [
    {
     "data": {
      "text/plain": [
       "array([768, 768, 768, 768, 768, 768, 768, 768, 768, 768, 768, 768, 768,\n",
       "       768, 768, 768, 768, 768, 768, 768, 768], dtype=int16)"
      ]
     },
     "execution_count": 270,
     "metadata": {},
     "output_type": "execute_result"
    }
   ],
   "source": [
    "test['minima']"
   ]
  },
  {
   "cell_type": "code",
   "execution_count": 262,
   "metadata": {
    "collapsed": false
   },
   "outputs": [],
   "source": [
    "low1=np.int32(np.right_shift(np.bitwise_and(test['low'],0x03FFFF000000000),36))\n",
    "s=(np.bitwise_and(low1,0x00020000)!=0)*0xFFFC0000\n",
    "low2=np.int32(np.right_shift(np.bitwise_and(test['low'],0x000000FFFFC0000),18))\n",
    "low_threshold=np.int32(np.bitwise_and(test['low'],0x00000000003FFFF))\n",
    "high1=np.int32(np.right_shift(np.bitwise_and(test['high'],0x03FFFF000000000),36))\n",
    "high2=np.int32(np.right_shift(np.bitwise_and(test['high'],0x000000FFFFC0000),18))\n",
    "high_threshold=np.int32(np.bitwise_and(test['high'],0x00000000003FFFF))"
   ]
  },
  {
   "cell_type": "code",
   "execution_count": 266,
   "metadata": {
    "collapsed": false
   },
   "outputs": [
    {
     "data": {
      "text/plain": [
       "array([-15870., -15870., -15870., -15870., -15870., -15870., -15870.,\n",
       "       -15870., -15870., -15870., -15870., -15870., -15870., -15870.,\n",
       "       -15870., -15870., -15870., -15870., -15870., -15870., -15870.])"
      ]
     },
     "execution_count": 266,
     "metadata": {},
     "output_type": "execute_result"
    }
   ],
   "source": [
    "np.int32(np.bitwise_or(low1,s))/8.0"
   ]
  },
  {
   "cell_type": "code",
   "execution_count": 269,
   "metadata": {
    "collapsed": false
   },
   "outputs": [
    {
     "data": {
      "text/plain": [
       "'21010'"
      ]
     },
     "execution_count": 269,
     "metadata": {},
     "output_type": "execute_result"
    }
   ],
   "source": [
    "'{:04X}'.format(low1[0])"
   ]
  },
  {
   "cell_type": "code",
   "execution_count": 243,
   "metadata": {
    "collapsed": false
   },
   "outputs": [
    {
     "data": {
      "text/plain": [
       "array([ 2056.,  2056.,  2056.,  2056.,  2056.,  2056.,  2056.,  2056.,\n",
       "        2056.,  2056.,  2056.,  2056.,  2056.,  2056.,  2056.,  2056.,\n",
       "        2056.,  2056.,  2056.,  2056.,  2056.])"
      ]
     },
     "execution_count": 243,
     "metadata": {},
     "output_type": "execute_result"
    }
   ],
   "source": [
    "high1/8.0"
   ]
  },
  {
   "cell_type": "code",
   "execution_count": 244,
   "metadata": {
    "collapsed": false
   },
   "outputs": [
    {
     "data": {
      "text/plain": [
       "array([ 1247.875,  1247.875,  1247.875,  1247.875,  1247.875,  1247.875,\n",
       "        1247.875,  1247.875,  1247.875,  1247.875,  1247.875,  1247.875,\n",
       "        1247.875,  1247.875,  1247.875,  1247.875,  1247.875,  1247.875,\n",
       "        1247.875,  1247.875,  1247.875])"
      ]
     },
     "execution_count": 244,
     "metadata": {},
     "output_type": "execute_result"
    }
   ],
   "source": [
    "high2/8.0"
   ]
  },
  {
   "cell_type": "code",
   "execution_count": 274,
   "metadata": {
    "collapsed": false
   },
   "outputs": [
    {
     "data": {
      "text/plain": [
       "'10500'"
      ]
     },
     "execution_count": 274,
     "metadata": {},
     "output_type": "execute_result"
    }
   ],
   "source": [
    "'{:04X}'.format(high_threshold[0])"
   ]
  },
  {
   "cell_type": "code",
   "execution_count": null,
   "metadata": {
    "collapsed": true
   },
   "outputs": [],
   "source": []
  }
 ],
 "metadata": {
  "anaconda-cloud": {},
  "kernelspec": {
   "display_name": "Python [default]",
   "language": "python",
   "name": "python3"
  },
  "language_info": {
   "codemirror_mode": {
    "name": "ipython",
    "version": 3
   },
   "file_extension": ".py",
   "mimetype": "text/x-python",
   "name": "python",
   "nbconvert_exporter": "python",
   "pygments_lexer": "ipython3",
   "version": "3.5.2"
  }
 },
 "nbformat": 4,
 "nbformat_minor": 1
}
