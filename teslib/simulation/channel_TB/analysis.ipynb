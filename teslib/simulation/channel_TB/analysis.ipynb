{
 "cells": [
  {
   "cell_type": "code",
   "execution_count": 1,
   "metadata": {
    "collapsed": false
   },
   "outputs": [],
   "source": [
    "from tes.data import Data\n",
    "import numpy as np\n",
    "import matplotlib.pyplot as plt"
   ]
  },
  {
   "cell_type": "code",
   "execution_count": 2,
   "metadata": {
    "collapsed": false
   },
   "outputs": [],
   "source": [
    "trace_dt=np.dtype([('raw','i4'),('filtered','i4'),('slope','i4')])"
   ]
  },
  {
   "cell_type": "code",
   "execution_count": 89,
   "metadata": {
    "collapsed": true
   },
   "outputs": [],
   "source": [
    "traces=np.fromfile('data/traces',trace_dt)"
   ]
  },
  {
   "cell_type": "code",
   "execution_count": 3,
   "metadata": {
    "collapsed": true
   },
   "outputs": [],
   "source": [
    "traces=Data.fromfile('traces',trace_dt,'teslib','channel_TB',tool='vivado')"
   ]
  },
  {
   "cell_type": "code",
   "execution_count": 9,
   "metadata": {
    "collapsed": false
   },
   "outputs": [
    {
     "data": {
      "application/javascript": [
       "/* Put everything inside the global mpl namespace */\n",
       "window.mpl = {};\n",
       "\n",
       "mpl.get_websocket_type = function() {\n",
       "    if (typeof(WebSocket) !== 'undefined') {\n",
       "        return WebSocket;\n",
       "    } else if (typeof(MozWebSocket) !== 'undefined') {\n",
       "        return MozWebSocket;\n",
       "    } else {\n",
       "        alert('Your browser does not have WebSocket support.' +\n",
       "              'Please try Chrome, Safari or Firefox ≥ 6. ' +\n",
       "              'Firefox 4 and 5 are also supported but you ' +\n",
       "              'have to enable WebSockets in about:config.');\n",
       "    };\n",
       "}\n",
       "\n",
       "mpl.figure = function(figure_id, websocket, ondownload, parent_element) {\n",
       "    this.id = figure_id;\n",
       "\n",
       "    this.ws = websocket;\n",
       "\n",
       "    this.supports_binary = (this.ws.binaryType != undefined);\n",
       "\n",
       "    if (!this.supports_binary) {\n",
       "        var warnings = document.getElementById(\"mpl-warnings\");\n",
       "        if (warnings) {\n",
       "            warnings.style.display = 'block';\n",
       "            warnings.textContent = (\n",
       "                \"This browser does not support binary websocket messages. \" +\n",
       "                    \"Performance may be slow.\");\n",
       "        }\n",
       "    }\n",
       "\n",
       "    this.imageObj = new Image();\n",
       "\n",
       "    this.context = undefined;\n",
       "    this.message = undefined;\n",
       "    this.canvas = undefined;\n",
       "    this.rubberband_canvas = undefined;\n",
       "    this.rubberband_context = undefined;\n",
       "    this.format_dropdown = undefined;\n",
       "\n",
       "    this.image_mode = 'full';\n",
       "\n",
       "    this.root = $('<div/>');\n",
       "    this._root_extra_style(this.root)\n",
       "    this.root.attr('style', 'display: inline-block');\n",
       "\n",
       "    $(parent_element).append(this.root);\n",
       "\n",
       "    this._init_header(this);\n",
       "    this._init_canvas(this);\n",
       "    this._init_toolbar(this);\n",
       "\n",
       "    var fig = this;\n",
       "\n",
       "    this.waiting = false;\n",
       "\n",
       "    this.ws.onopen =  function () {\n",
       "            fig.send_message(\"supports_binary\", {value: fig.supports_binary});\n",
       "            fig.send_message(\"send_image_mode\", {});\n",
       "            fig.send_message(\"refresh\", {});\n",
       "        }\n",
       "\n",
       "    this.imageObj.onload = function() {\n",
       "            if (fig.image_mode == 'full') {\n",
       "                // Full images could contain transparency (where diff images\n",
       "                // almost always do), so we need to clear the canvas so that\n",
       "                // there is no ghosting.\n",
       "                fig.context.clearRect(0, 0, fig.canvas.width, fig.canvas.height);\n",
       "            }\n",
       "            fig.context.drawImage(fig.imageObj, 0, 0);\n",
       "        };\n",
       "\n",
       "    this.imageObj.onunload = function() {\n",
       "        this.ws.close();\n",
       "    }\n",
       "\n",
       "    this.ws.onmessage = this._make_on_message_function(this);\n",
       "\n",
       "    this.ondownload = ondownload;\n",
       "}\n",
       "\n",
       "mpl.figure.prototype._init_header = function() {\n",
       "    var titlebar = $(\n",
       "        '<div class=\"ui-dialog-titlebar ui-widget-header ui-corner-all ' +\n",
       "        'ui-helper-clearfix\"/>');\n",
       "    var titletext = $(\n",
       "        '<div class=\"ui-dialog-title\" style=\"width: 100%; ' +\n",
       "        'text-align: center; padding: 3px;\"/>');\n",
       "    titlebar.append(titletext)\n",
       "    this.root.append(titlebar);\n",
       "    this.header = titletext[0];\n",
       "}\n",
       "\n",
       "\n",
       "\n",
       "mpl.figure.prototype._canvas_extra_style = function(canvas_div) {\n",
       "\n",
       "}\n",
       "\n",
       "\n",
       "mpl.figure.prototype._root_extra_style = function(canvas_div) {\n",
       "\n",
       "}\n",
       "\n",
       "mpl.figure.prototype._init_canvas = function() {\n",
       "    var fig = this;\n",
       "\n",
       "    var canvas_div = $('<div/>');\n",
       "\n",
       "    canvas_div.attr('style', 'position: relative; clear: both; outline: 0');\n",
       "\n",
       "    function canvas_keyboard_event(event) {\n",
       "        return fig.key_event(event, event['data']);\n",
       "    }\n",
       "\n",
       "    canvas_div.keydown('key_press', canvas_keyboard_event);\n",
       "    canvas_div.keyup('key_release', canvas_keyboard_event);\n",
       "    this.canvas_div = canvas_div\n",
       "    this._canvas_extra_style(canvas_div)\n",
       "    this.root.append(canvas_div);\n",
       "\n",
       "    var canvas = $('<canvas/>');\n",
       "    canvas.addClass('mpl-canvas');\n",
       "    canvas.attr('style', \"left: 0; top: 0; z-index: 0; outline: 0\")\n",
       "\n",
       "    this.canvas = canvas[0];\n",
       "    this.context = canvas[0].getContext(\"2d\");\n",
       "\n",
       "    var rubberband = $('<canvas/>');\n",
       "    rubberband.attr('style', \"position: absolute; left: 0; top: 0; z-index: 1;\")\n",
       "\n",
       "    var pass_mouse_events = true;\n",
       "\n",
       "    canvas_div.resizable({\n",
       "        start: function(event, ui) {\n",
       "            pass_mouse_events = false;\n",
       "        },\n",
       "        resize: function(event, ui) {\n",
       "            fig.request_resize(ui.size.width, ui.size.height);\n",
       "        },\n",
       "        stop: function(event, ui) {\n",
       "            pass_mouse_events = true;\n",
       "            fig.request_resize(ui.size.width, ui.size.height);\n",
       "        },\n",
       "    });\n",
       "\n",
       "    function mouse_event_fn(event) {\n",
       "        if (pass_mouse_events)\n",
       "            return fig.mouse_event(event, event['data']);\n",
       "    }\n",
       "\n",
       "    rubberband.mousedown('button_press', mouse_event_fn);\n",
       "    rubberband.mouseup('button_release', mouse_event_fn);\n",
       "    // Throttle sequential mouse events to 1 every 20ms.\n",
       "    rubberband.mousemove('motion_notify', mouse_event_fn);\n",
       "\n",
       "    rubberband.mouseenter('figure_enter', mouse_event_fn);\n",
       "    rubberband.mouseleave('figure_leave', mouse_event_fn);\n",
       "\n",
       "    canvas_div.on(\"wheel\", function (event) {\n",
       "        event = event.originalEvent;\n",
       "        event['data'] = 'scroll'\n",
       "        if (event.deltaY < 0) {\n",
       "            event.step = 1;\n",
       "        } else {\n",
       "            event.step = -1;\n",
       "        }\n",
       "        mouse_event_fn(event);\n",
       "    });\n",
       "\n",
       "    canvas_div.append(canvas);\n",
       "    canvas_div.append(rubberband);\n",
       "\n",
       "    this.rubberband = rubberband;\n",
       "    this.rubberband_canvas = rubberband[0];\n",
       "    this.rubberband_context = rubberband[0].getContext(\"2d\");\n",
       "    this.rubberband_context.strokeStyle = \"#000000\";\n",
       "\n",
       "    this._resize_canvas = function(width, height) {\n",
       "        // Keep the size of the canvas, canvas container, and rubber band\n",
       "        // canvas in synch.\n",
       "        canvas_div.css('width', width)\n",
       "        canvas_div.css('height', height)\n",
       "\n",
       "        canvas.attr('width', width);\n",
       "        canvas.attr('height', height);\n",
       "\n",
       "        rubberband.attr('width', width);\n",
       "        rubberband.attr('height', height);\n",
       "    }\n",
       "\n",
       "    // Set the figure to an initial 600x600px, this will subsequently be updated\n",
       "    // upon first draw.\n",
       "    this._resize_canvas(600, 600);\n",
       "\n",
       "    // Disable right mouse context menu.\n",
       "    $(this.rubberband_canvas).bind(\"contextmenu\",function(e){\n",
       "        return false;\n",
       "    });\n",
       "\n",
       "    function set_focus () {\n",
       "        canvas.focus();\n",
       "        canvas_div.focus();\n",
       "    }\n",
       "\n",
       "    window.setTimeout(set_focus, 100);\n",
       "}\n",
       "\n",
       "mpl.figure.prototype._init_toolbar = function() {\n",
       "    var fig = this;\n",
       "\n",
       "    var nav_element = $('<div/>')\n",
       "    nav_element.attr('style', 'width: 100%');\n",
       "    this.root.append(nav_element);\n",
       "\n",
       "    // Define a callback function for later on.\n",
       "    function toolbar_event(event) {\n",
       "        return fig.toolbar_button_onclick(event['data']);\n",
       "    }\n",
       "    function toolbar_mouse_event(event) {\n",
       "        return fig.toolbar_button_onmouseover(event['data']);\n",
       "    }\n",
       "\n",
       "    for(var toolbar_ind in mpl.toolbar_items) {\n",
       "        var name = mpl.toolbar_items[toolbar_ind][0];\n",
       "        var tooltip = mpl.toolbar_items[toolbar_ind][1];\n",
       "        var image = mpl.toolbar_items[toolbar_ind][2];\n",
       "        var method_name = mpl.toolbar_items[toolbar_ind][3];\n",
       "\n",
       "        if (!name) {\n",
       "            // put a spacer in here.\n",
       "            continue;\n",
       "        }\n",
       "        var button = $('<button/>');\n",
       "        button.addClass('ui-button ui-widget ui-state-default ui-corner-all ' +\n",
       "                        'ui-button-icon-only');\n",
       "        button.attr('role', 'button');\n",
       "        button.attr('aria-disabled', 'false');\n",
       "        button.click(method_name, toolbar_event);\n",
       "        button.mouseover(tooltip, toolbar_mouse_event);\n",
       "\n",
       "        var icon_img = $('<span/>');\n",
       "        icon_img.addClass('ui-button-icon-primary ui-icon');\n",
       "        icon_img.addClass(image);\n",
       "        icon_img.addClass('ui-corner-all');\n",
       "\n",
       "        var tooltip_span = $('<span/>');\n",
       "        tooltip_span.addClass('ui-button-text');\n",
       "        tooltip_span.html(tooltip);\n",
       "\n",
       "        button.append(icon_img);\n",
       "        button.append(tooltip_span);\n",
       "\n",
       "        nav_element.append(button);\n",
       "    }\n",
       "\n",
       "    var fmt_picker_span = $('<span/>');\n",
       "\n",
       "    var fmt_picker = $('<select/>');\n",
       "    fmt_picker.addClass('mpl-toolbar-option ui-widget ui-widget-content');\n",
       "    fmt_picker_span.append(fmt_picker);\n",
       "    nav_element.append(fmt_picker_span);\n",
       "    this.format_dropdown = fmt_picker[0];\n",
       "\n",
       "    for (var ind in mpl.extensions) {\n",
       "        var fmt = mpl.extensions[ind];\n",
       "        var option = $(\n",
       "            '<option/>', {selected: fmt === mpl.default_extension}).html(fmt);\n",
       "        fmt_picker.append(option)\n",
       "    }\n",
       "\n",
       "    // Add hover states to the ui-buttons\n",
       "    $( \".ui-button\" ).hover(\n",
       "        function() { $(this).addClass(\"ui-state-hover\");},\n",
       "        function() { $(this).removeClass(\"ui-state-hover\");}\n",
       "    );\n",
       "\n",
       "    var status_bar = $('<span class=\"mpl-message\"/>');\n",
       "    nav_element.append(status_bar);\n",
       "    this.message = status_bar[0];\n",
       "}\n",
       "\n",
       "mpl.figure.prototype.request_resize = function(x_pixels, y_pixels) {\n",
       "    // Request matplotlib to resize the figure. Matplotlib will then trigger a resize in the client,\n",
       "    // which will in turn request a refresh of the image.\n",
       "    this.send_message('resize', {'width': x_pixels, 'height': y_pixels});\n",
       "}\n",
       "\n",
       "mpl.figure.prototype.send_message = function(type, properties) {\n",
       "    properties['type'] = type;\n",
       "    properties['figure_id'] = this.id;\n",
       "    this.ws.send(JSON.stringify(properties));\n",
       "}\n",
       "\n",
       "mpl.figure.prototype.send_draw_message = function() {\n",
       "    if (!this.waiting) {\n",
       "        this.waiting = true;\n",
       "        this.ws.send(JSON.stringify({type: \"draw\", figure_id: this.id}));\n",
       "    }\n",
       "}\n",
       "\n",
       "\n",
       "mpl.figure.prototype.handle_save = function(fig, msg) {\n",
       "    var format_dropdown = fig.format_dropdown;\n",
       "    var format = format_dropdown.options[format_dropdown.selectedIndex].value;\n",
       "    fig.ondownload(fig, format);\n",
       "}\n",
       "\n",
       "\n",
       "mpl.figure.prototype.handle_resize = function(fig, msg) {\n",
       "    var size = msg['size'];\n",
       "    if (size[0] != fig.canvas.width || size[1] != fig.canvas.height) {\n",
       "        fig._resize_canvas(size[0], size[1]);\n",
       "        fig.send_message(\"refresh\", {});\n",
       "    };\n",
       "}\n",
       "\n",
       "mpl.figure.prototype.handle_rubberband = function(fig, msg) {\n",
       "    var x0 = msg['x0'];\n",
       "    var y0 = fig.canvas.height - msg['y0'];\n",
       "    var x1 = msg['x1'];\n",
       "    var y1 = fig.canvas.height - msg['y1'];\n",
       "    x0 = Math.floor(x0) + 0.5;\n",
       "    y0 = Math.floor(y0) + 0.5;\n",
       "    x1 = Math.floor(x1) + 0.5;\n",
       "    y1 = Math.floor(y1) + 0.5;\n",
       "    var min_x = Math.min(x0, x1);\n",
       "    var min_y = Math.min(y0, y1);\n",
       "    var width = Math.abs(x1 - x0);\n",
       "    var height = Math.abs(y1 - y0);\n",
       "\n",
       "    fig.rubberband_context.clearRect(\n",
       "        0, 0, fig.canvas.width, fig.canvas.height);\n",
       "\n",
       "    fig.rubberband_context.strokeRect(min_x, min_y, width, height);\n",
       "}\n",
       "\n",
       "mpl.figure.prototype.handle_figure_label = function(fig, msg) {\n",
       "    // Updates the figure title.\n",
       "    fig.header.textContent = msg['label'];\n",
       "}\n",
       "\n",
       "mpl.figure.prototype.handle_cursor = function(fig, msg) {\n",
       "    var cursor = msg['cursor'];\n",
       "    switch(cursor)\n",
       "    {\n",
       "    case 0:\n",
       "        cursor = 'pointer';\n",
       "        break;\n",
       "    case 1:\n",
       "        cursor = 'default';\n",
       "        break;\n",
       "    case 2:\n",
       "        cursor = 'crosshair';\n",
       "        break;\n",
       "    case 3:\n",
       "        cursor = 'move';\n",
       "        break;\n",
       "    }\n",
       "    fig.rubberband_canvas.style.cursor = cursor;\n",
       "}\n",
       "\n",
       "mpl.figure.prototype.handle_message = function(fig, msg) {\n",
       "    fig.message.textContent = msg['message'];\n",
       "}\n",
       "\n",
       "mpl.figure.prototype.handle_draw = function(fig, msg) {\n",
       "    // Request the server to send over a new figure.\n",
       "    fig.send_draw_message();\n",
       "}\n",
       "\n",
       "mpl.figure.prototype.handle_image_mode = function(fig, msg) {\n",
       "    fig.image_mode = msg['mode'];\n",
       "}\n",
       "\n",
       "mpl.figure.prototype.updated_canvas_event = function() {\n",
       "    // Called whenever the canvas gets updated.\n",
       "    this.send_message(\"ack\", {});\n",
       "}\n",
       "\n",
       "// A function to construct a web socket function for onmessage handling.\n",
       "// Called in the figure constructor.\n",
       "mpl.figure.prototype._make_on_message_function = function(fig) {\n",
       "    return function socket_on_message(evt) {\n",
       "        if (evt.data instanceof Blob) {\n",
       "            /* FIXME: We get \"Resource interpreted as Image but\n",
       "             * transferred with MIME type text/plain:\" errors on\n",
       "             * Chrome.  But how to set the MIME type?  It doesn't seem\n",
       "             * to be part of the websocket stream */\n",
       "            evt.data.type = \"image/png\";\n",
       "\n",
       "            /* Free the memory for the previous frames */\n",
       "            if (fig.imageObj.src) {\n",
       "                (window.URL || window.webkitURL).revokeObjectURL(\n",
       "                    fig.imageObj.src);\n",
       "            }\n",
       "\n",
       "            fig.imageObj.src = (window.URL || window.webkitURL).createObjectURL(\n",
       "                evt.data);\n",
       "            fig.updated_canvas_event();\n",
       "            fig.waiting = false;\n",
       "            return;\n",
       "        }\n",
       "        else if (typeof evt.data === 'string' && evt.data.slice(0, 21) == \"data:image/png;base64\") {\n",
       "            fig.imageObj.src = evt.data;\n",
       "            fig.updated_canvas_event();\n",
       "            fig.waiting = false;\n",
       "            return;\n",
       "        }\n",
       "\n",
       "        var msg = JSON.parse(evt.data);\n",
       "        var msg_type = msg['type'];\n",
       "\n",
       "        // Call the  \"handle_{type}\" callback, which takes\n",
       "        // the figure and JSON message as its only arguments.\n",
       "        try {\n",
       "            var callback = fig[\"handle_\" + msg_type];\n",
       "        } catch (e) {\n",
       "            console.log(\"No handler for the '\" + msg_type + \"' message type: \", msg);\n",
       "            return;\n",
       "        }\n",
       "\n",
       "        if (callback) {\n",
       "            try {\n",
       "                // console.log(\"Handling '\" + msg_type + \"' message: \", msg);\n",
       "                callback(fig, msg);\n",
       "            } catch (e) {\n",
       "                console.log(\"Exception inside the 'handler_\" + msg_type + \"' callback:\", e, e.stack, msg);\n",
       "            }\n",
       "        }\n",
       "    };\n",
       "}\n",
       "\n",
       "// from http://stackoverflow.com/questions/1114465/getting-mouse-location-in-canvas\n",
       "mpl.findpos = function(e) {\n",
       "    //this section is from http://www.quirksmode.org/js/events_properties.html\n",
       "    var targ;\n",
       "    if (!e)\n",
       "        e = window.event;\n",
       "    if (e.target)\n",
       "        targ = e.target;\n",
       "    else if (e.srcElement)\n",
       "        targ = e.srcElement;\n",
       "    if (targ.nodeType == 3) // defeat Safari bug\n",
       "        targ = targ.parentNode;\n",
       "\n",
       "    // jQuery normalizes the pageX and pageY\n",
       "    // pageX,Y are the mouse positions relative to the document\n",
       "    // offset() returns the position of the element relative to the document\n",
       "    var x = e.pageX - $(targ).offset().left;\n",
       "    var y = e.pageY - $(targ).offset().top;\n",
       "\n",
       "    return {\"x\": x, \"y\": y};\n",
       "};\n",
       "\n",
       "/*\n",
       " * return a copy of an object with only non-object keys\n",
       " * we need this to avoid circular references\n",
       " * http://stackoverflow.com/a/24161582/3208463\n",
       " */\n",
       "function simpleKeys (original) {\n",
       "  return Object.keys(original).reduce(function (obj, key) {\n",
       "    if (typeof original[key] !== 'object')\n",
       "        obj[key] = original[key]\n",
       "    return obj;\n",
       "  }, {});\n",
       "}\n",
       "\n",
       "mpl.figure.prototype.mouse_event = function(event, name) {\n",
       "    var canvas_pos = mpl.findpos(event)\n",
       "\n",
       "    if (name === 'button_press')\n",
       "    {\n",
       "        this.canvas.focus();\n",
       "        this.canvas_div.focus();\n",
       "    }\n",
       "\n",
       "    var x = canvas_pos.x;\n",
       "    var y = canvas_pos.y;\n",
       "\n",
       "    this.send_message(name, {x: x, y: y, button: event.button,\n",
       "                             step: event.step,\n",
       "                             guiEvent: simpleKeys(event)});\n",
       "\n",
       "    /* This prevents the web browser from automatically changing to\n",
       "     * the text insertion cursor when the button is pressed.  We want\n",
       "     * to control all of the cursor setting manually through the\n",
       "     * 'cursor' event from matplotlib */\n",
       "    event.preventDefault();\n",
       "    return false;\n",
       "}\n",
       "\n",
       "mpl.figure.prototype._key_event_extra = function(event, name) {\n",
       "    // Handle any extra behaviour associated with a key event\n",
       "}\n",
       "\n",
       "mpl.figure.prototype.key_event = function(event, name) {\n",
       "\n",
       "    // Prevent repeat events\n",
       "    if (name == 'key_press')\n",
       "    {\n",
       "        if (event.which === this._key)\n",
       "            return;\n",
       "        else\n",
       "            this._key = event.which;\n",
       "    }\n",
       "    if (name == 'key_release')\n",
       "        this._key = null;\n",
       "\n",
       "    var value = '';\n",
       "    if (event.ctrlKey && event.which != 17)\n",
       "        value += \"ctrl+\";\n",
       "    if (event.altKey && event.which != 18)\n",
       "        value += \"alt+\";\n",
       "    if (event.shiftKey && event.which != 16)\n",
       "        value += \"shift+\";\n",
       "\n",
       "    value += 'k';\n",
       "    value += event.which.toString();\n",
       "\n",
       "    this._key_event_extra(event, name);\n",
       "\n",
       "    this.send_message(name, {key: value,\n",
       "                             guiEvent: simpleKeys(event)});\n",
       "    return false;\n",
       "}\n",
       "\n",
       "mpl.figure.prototype.toolbar_button_onclick = function(name) {\n",
       "    if (name == 'download') {\n",
       "        this.handle_save(this, null);\n",
       "    } else {\n",
       "        this.send_message(\"toolbar_button\", {name: name});\n",
       "    }\n",
       "};\n",
       "\n",
       "mpl.figure.prototype.toolbar_button_onmouseover = function(tooltip) {\n",
       "    this.message.textContent = tooltip;\n",
       "};\n",
       "mpl.toolbar_items = [[\"Home\", \"Reset original view\", \"fa fa-home icon-home\", \"home\"], [\"Back\", \"Back to  previous view\", \"fa fa-arrow-left icon-arrow-left\", \"back\"], [\"Forward\", \"Forward to next view\", \"fa fa-arrow-right icon-arrow-right\", \"forward\"], [\"\", \"\", \"\", \"\"], [\"Pan\", \"Pan axes with left mouse, zoom with right\", \"fa fa-arrows icon-move\", \"pan\"], [\"Zoom\", \"Zoom to rectangle\", \"fa fa-square-o icon-check-empty\", \"zoom\"], [\"\", \"\", \"\", \"\"], [\"Download\", \"Download plot\", \"fa fa-floppy-o icon-save\", \"download\"]];\n",
       "\n",
       "mpl.extensions = [\"eps\", \"jpeg\", \"pdf\", \"png\", \"ps\", \"raw\", \"svg\", \"tif\"];\n",
       "\n",
       "mpl.default_extension = \"png\";var comm_websocket_adapter = function(comm) {\n",
       "    // Create a \"websocket\"-like object which calls the given IPython comm\n",
       "    // object with the appropriate methods. Currently this is a non binary\n",
       "    // socket, so there is still some room for performance tuning.\n",
       "    var ws = {};\n",
       "\n",
       "    ws.close = function() {\n",
       "        comm.close()\n",
       "    };\n",
       "    ws.send = function(m) {\n",
       "        //console.log('sending', m);\n",
       "        comm.send(m);\n",
       "    };\n",
       "    // Register the callback with on_msg.\n",
       "    comm.on_msg(function(msg) {\n",
       "        //console.log('receiving', msg['content']['data'], msg);\n",
       "        // Pass the mpl event to the overriden (by mpl) onmessage function.\n",
       "        ws.onmessage(msg['content']['data'])\n",
       "    });\n",
       "    return ws;\n",
       "}\n",
       "\n",
       "mpl.mpl_figure_comm = function(comm, msg) {\n",
       "    // This is the function which gets called when the mpl process\n",
       "    // starts-up an IPython Comm through the \"matplotlib\" channel.\n",
       "\n",
       "    var id = msg.content.data.id;\n",
       "    // Get hold of the div created by the display call when the Comm\n",
       "    // socket was opened in Python.\n",
       "    var element = $(\"#\" + id);\n",
       "    var ws_proxy = comm_websocket_adapter(comm)\n",
       "\n",
       "    function ondownload(figure, format) {\n",
       "        window.open(figure.imageObj.src);\n",
       "    }\n",
       "\n",
       "    var fig = new mpl.figure(id, ws_proxy,\n",
       "                           ondownload,\n",
       "                           element.get(0));\n",
       "\n",
       "    // Call onopen now - mpl needs it, as it is assuming we've passed it a real\n",
       "    // web socket which is closed, not our websocket->open comm proxy.\n",
       "    ws_proxy.onopen();\n",
       "\n",
       "    fig.parent_element = element.get(0);\n",
       "    fig.cell_info = mpl.find_output_cell(\"<div id='\" + id + \"'></div>\");\n",
       "    if (!fig.cell_info) {\n",
       "        console.error(\"Failed to find cell for figure\", id, fig);\n",
       "        return;\n",
       "    }\n",
       "\n",
       "    var output_index = fig.cell_info[2]\n",
       "    var cell = fig.cell_info[0];\n",
       "\n",
       "};\n",
       "\n",
       "mpl.figure.prototype.handle_close = function(fig, msg) {\n",
       "    fig.root.unbind('remove')\n",
       "\n",
       "    // Update the output cell to use the data from the current canvas.\n",
       "    fig.push_to_output();\n",
       "    var dataURL = fig.canvas.toDataURL();\n",
       "    // Re-enable the keyboard manager in IPython - without this line, in FF,\n",
       "    // the notebook keyboard shortcuts fail.\n",
       "    IPython.keyboard_manager.enable()\n",
       "    $(fig.parent_element).html('<img src=\"' + dataURL + '\">');\n",
       "    fig.close_ws(fig, msg);\n",
       "}\n",
       "\n",
       "mpl.figure.prototype.close_ws = function(fig, msg){\n",
       "    fig.send_message('closing', msg);\n",
       "    // fig.ws.close()\n",
       "}\n",
       "\n",
       "mpl.figure.prototype.push_to_output = function(remove_interactive) {\n",
       "    // Turn the data on the canvas into data in the output cell.\n",
       "    var dataURL = this.canvas.toDataURL();\n",
       "    this.cell_info[1]['text/html'] = '<img src=\"' + dataURL + '\">';\n",
       "}\n",
       "\n",
       "mpl.figure.prototype.updated_canvas_event = function() {\n",
       "    // Tell IPython that the notebook contents must change.\n",
       "    IPython.notebook.set_dirty(true);\n",
       "    this.send_message(\"ack\", {});\n",
       "    var fig = this;\n",
       "    // Wait a second, then push the new image to the DOM so\n",
       "    // that it is saved nicely (might be nice to debounce this).\n",
       "    setTimeout(function () { fig.push_to_output() }, 1000);\n",
       "}\n",
       "\n",
       "mpl.figure.prototype._init_toolbar = function() {\n",
       "    var fig = this;\n",
       "\n",
       "    var nav_element = $('<div/>')\n",
       "    nav_element.attr('style', 'width: 100%');\n",
       "    this.root.append(nav_element);\n",
       "\n",
       "    // Define a callback function for later on.\n",
       "    function toolbar_event(event) {\n",
       "        return fig.toolbar_button_onclick(event['data']);\n",
       "    }\n",
       "    function toolbar_mouse_event(event) {\n",
       "        return fig.toolbar_button_onmouseover(event['data']);\n",
       "    }\n",
       "\n",
       "    for(var toolbar_ind in mpl.toolbar_items){\n",
       "        var name = mpl.toolbar_items[toolbar_ind][0];\n",
       "        var tooltip = mpl.toolbar_items[toolbar_ind][1];\n",
       "        var image = mpl.toolbar_items[toolbar_ind][2];\n",
       "        var method_name = mpl.toolbar_items[toolbar_ind][3];\n",
       "\n",
       "        if (!name) { continue; };\n",
       "\n",
       "        var button = $('<button class=\"btn btn-default\" href=\"#\" title=\"' + name + '\"><i class=\"fa ' + image + ' fa-lg\"></i></button>');\n",
       "        button.click(method_name, toolbar_event);\n",
       "        button.mouseover(tooltip, toolbar_mouse_event);\n",
       "        nav_element.append(button);\n",
       "    }\n",
       "\n",
       "    // Add the status bar.\n",
       "    var status_bar = $('<span class=\"mpl-message\" style=\"text-align:right; float: right;\"/>');\n",
       "    nav_element.append(status_bar);\n",
       "    this.message = status_bar[0];\n",
       "\n",
       "    // Add the close button to the window.\n",
       "    var buttongrp = $('<div class=\"btn-group inline pull-right\"></div>');\n",
       "    var button = $('<button class=\"btn btn-mini btn-primary\" href=\"#\" title=\"Stop Interaction\"><i class=\"fa fa-power-off icon-remove icon-large\"></i></button>');\n",
       "    button.click(function (evt) { fig.handle_close(fig, {}); } );\n",
       "    button.mouseover('Stop Interaction', toolbar_mouse_event);\n",
       "    buttongrp.append(button);\n",
       "    var titlebar = this.root.find($('.ui-dialog-titlebar'));\n",
       "    titlebar.prepend(buttongrp);\n",
       "}\n",
       "\n",
       "mpl.figure.prototype._root_extra_style = function(el){\n",
       "    var fig = this\n",
       "    el.on(\"remove\", function(){\n",
       "\tfig.close_ws(fig, {});\n",
       "    });\n",
       "}\n",
       "\n",
       "mpl.figure.prototype._canvas_extra_style = function(el){\n",
       "    // this is important to make the div 'focusable\n",
       "    el.attr('tabindex', 0)\n",
       "    // reach out to IPython and tell the keyboard manager to turn it's self\n",
       "    // off when our div gets focus\n",
       "\n",
       "    // location in version 3\n",
       "    if (IPython.notebook.keyboard_manager) {\n",
       "        IPython.notebook.keyboard_manager.register_events(el);\n",
       "    }\n",
       "    else {\n",
       "        // location in version 2\n",
       "        IPython.keyboard_manager.register_events(el);\n",
       "    }\n",
       "\n",
       "}\n",
       "\n",
       "mpl.figure.prototype._key_event_extra = function(event, name) {\n",
       "    var manager = IPython.notebook.keyboard_manager;\n",
       "    if (!manager)\n",
       "        manager = IPython.keyboard_manager;\n",
       "\n",
       "    // Check for shift+enter\n",
       "    if (event.shiftKey && event.which == 13) {\n",
       "        this.canvas_div.blur();\n",
       "        // select the cell after this one\n",
       "        var index = IPython.notebook.find_cell_index(this.cell_info[0]);\n",
       "        IPython.notebook.select(index + 1);\n",
       "    }\n",
       "}\n",
       "\n",
       "mpl.figure.prototype.handle_save = function(fig, msg) {\n",
       "    fig.ondownload(fig, null);\n",
       "}\n",
       "\n",
       "\n",
       "mpl.find_output_cell = function(html_output) {\n",
       "    // Return the cell and output element which can be found *uniquely* in the notebook.\n",
       "    // Note - this is a bit hacky, but it is done because the \"notebook_saving.Notebook\"\n",
       "    // IPython event is triggered only after the cells have been serialised, which for\n",
       "    // our purposes (turning an active figure into a static one), is too late.\n",
       "    var cells = IPython.notebook.get_cells();\n",
       "    var ncells = cells.length;\n",
       "    for (var i=0; i<ncells; i++) {\n",
       "        var cell = cells[i];\n",
       "        if (cell.cell_type === 'code'){\n",
       "            for (var j=0; j<cell.output_area.outputs.length; j++) {\n",
       "                var data = cell.output_area.outputs[j];\n",
       "                if (data.data) {\n",
       "                    // IPython >= 3 moved mimebundle to data attribute of output\n",
       "                    data = data.data;\n",
       "                }\n",
       "                if (data['text/html'] == html_output) {\n",
       "                    return [cell, data, j];\n",
       "                }\n",
       "            }\n",
       "        }\n",
       "    }\n",
       "}\n",
       "\n",
       "// Register the function which deals with the matplotlib target/channel.\n",
       "// The kernel may be null if the page has been refreshed.\n",
       "if (IPython.notebook.kernel != null) {\n",
       "    IPython.notebook.kernel.comm_manager.register_target('matplotlib', mpl.mpl_figure_comm);\n",
       "}\n"
      ],
      "text/plain": [
       "<IPython.core.display.Javascript object>"
      ]
     },
     "metadata": {},
     "output_type": "display_data"
    },
    {
     "data": {
      "text/html": [
       "<img src=\"data:image/png;base64,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\">"
      ],
      "text/plain": [
       "<IPython.core.display.HTML object>"
      ]
     },
     "metadata": {},
     "output_type": "display_data"
    },
    {
     "data": {
      "text/plain": [
       "[<matplotlib.lines.Line2D at 0x77ccbe0>]"
      ]
     },
     "execution_count": 9,
     "metadata": {},
     "output_type": "execute_result"
    }
   ],
   "source": [
    "%matplotlib notebook\n",
    "plt.plot(traces['filtered'][100:])"
   ]
  },
  {
   "cell_type": "code",
   "execution_count": 5,
   "metadata": {
    "collapsed": false
   },
   "outputs": [],
   "source": [
    "stream_dt=np.dtype([('data','u8'),('last','i4')])\n",
    "stream=np.fromfile('data/stream',stream_dt)"
   ]
  },
  {
   "cell_type": "code",
   "execution_count": 127,
   "metadata": {
    "collapsed": false
   },
   "outputs": [
    {
     "data": {
      "text/plain": [
       "array([(2348627205724045312, 2670), (4467576330730406144, 2671),\n",
       "       (11240145745011278848, -2672), (2348627205724045312, 2798),\n",
       "       (4467576330730406144, 2799), (11240145745011278848, -2800),\n",
       "       (2348627205724045312, 2926), (4467576330730406144, 2927),\n",
       "       (11240145745011278848, -2928), (2348627205724045312, 3054),\n",
       "       (4467576330730406144, 3055), (11240145745011278848, -3056),\n",
       "       (2348627205724045312, 3182), (4467576330730406144, 3183),\n",
       "       (11240145745011278848, -3184), (2348627205724045312, 3310),\n",
       "       (4467576330730406144, 3311), (11240145745011278848, -3312),\n",
       "       (2348627205724045312, 3438), (4467576330730406144, 3439),\n",
       "       (11240145745011278848, -3440), (2348627205724045312, 3566),\n",
       "       (4467576330730406144, 3567), (11240145745011278848, -3568),\n",
       "       (2348627205724045312, 3694), (4467576330730406144, 3695),\n",
       "       (11240145745011278848, -3696), (2348627205724045312, 3822),\n",
       "       (4467576330730406144, 3823), (11240145745011278848, -3824),\n",
       "       (2348627205724045312, 3950), (4467576330730406144, 3951),\n",
       "       (11240145745011278848, -3952), (2348627205724045312, 4078),\n",
       "       (4467576330730406144, 4079), (11240145745011278848, -4080),\n",
       "       (2348627205724045312, 4206), (4467576330730406144, 4207),\n",
       "       (11240145745011278848, -4208), (2348627205724045312, 4334),\n",
       "       (4467576330730406144, 4335), (11240145745011278848, -4336),\n",
       "       (2348627205724045312, 4462), (4467576330730406144, 4463),\n",
       "       (11240145745011278848, -4464), (2348627205724045312, 4590),\n",
       "       (4467576330730406144, 4591), (11240145745011278848, -4592),\n",
       "       (2348627205724045312, 4718), (4467576330730406144, 4719),\n",
       "       (11240145745011278848, -4720), (2348627205724045312, 4846),\n",
       "       (4467576330730406144, 4847), (11240145745011278848, -4848),\n",
       "       (2348627205724045312, 4974), (4467576330730406144, 4975),\n",
       "       (11240145745011278848, -4976), (2348627205724045312, 5102),\n",
       "       (4467576330730406144, 5103), (11240145745011278848, -5104),\n",
       "       (2348627205724045312, 5230), (4467576330730406144, 5231),\n",
       "       (11240145745011278848, -5232)], \n",
       "      dtype=[('data', '<u8'), ('last', '<i4')])"
      ]
     },
     "execution_count": 127,
     "metadata": {},
     "output_type": "execute_result"
    }
   ],
   "source": [
    "stream=Data.fromfile('stream',stream_dt,'teslib','channel_TB',tool='vivado')\n",
    "stream"
   ]
  },
  {
   "cell_type": "code",
   "execution_count": 213,
   "metadata": {
    "collapsed": false
   },
   "outputs": [
    {
     "data": {
      "text/plain": [
       "'B4040600'"
      ]
     },
     "execution_count": 213,
     "metadata": {},
     "output_type": "execute_result"
    }
   ],
   "source": [
    "'{:08X}'.format(stream['data'][0])"
   ]
  },
  {
   "cell_type": "code",
   "execution_count": 214,
   "metadata": {
    "collapsed": false
   },
   "outputs": [],
   "source": [
    "event_dt=np.dtype([('rise','>i2'),('height','>i2'),('time','>i2'),('flags','>i2')])"
   ]
  },
  {
   "cell_type": "code",
   "execution_count": 215,
   "metadata": {
    "collapsed": false
   },
   "outputs": [],
   "source": [
    "events=stream['data'].view(event_dt)"
   ]
  },
  {
   "cell_type": "code",
   "execution_count": 216,
   "metadata": {
    "collapsed": false
   },
   "outputs": [
    {
     "data": {
      "text/plain": [
       "'0'"
      ]
     },
     "execution_count": 216,
     "metadata": {},
     "output_type": "execute_result"
    }
   ],
   "source": [
    "'{:X}'.format(events['flags'][0])"
   ]
  },
  {
   "cell_type": "code",
   "execution_count": 217,
   "metadata": {
    "collapsed": false
   },
   "outputs": [
    {
     "data": {
      "text/plain": [
       "array([ 6, 56,  6], dtype=int16)"
      ]
     },
     "execution_count": 217,
     "metadata": {},
     "output_type": "execute_result"
    }
   ],
   "source": [
    "events['rise']"
   ]
  },
  {
   "cell_type": "code",
   "execution_count": 218,
   "metadata": {
    "collapsed": false
   },
   "outputs": [
    {
     "data": {
      "text/plain": [
       "array([(6, 1204, 0, 0), (56, 1213, 0, 4096), (6, 1204, 0, 0)], \n",
       "      dtype=[('rise', '>i2'), ('height', '>i2'), ('time', '>i2'), ('flags', '>i2')])"
      ]
     },
     "execution_count": 218,
     "metadata": {},
     "output_type": "execute_result"
    }
   ],
   "source": [
    "events"
   ]
  },
  {
   "cell_type": "code",
   "execution_count": 206,
   "metadata": {
    "collapsed": false
   },
   "outputs": [
    {
     "data": {
      "text/plain": [
       "'1000'"
      ]
     },
     "execution_count": 206,
     "metadata": {},
     "output_type": "execute_result"
    }
   ],
   "source": [
    "'{:04X}'.format(events['flags'][1])"
   ]
  },
  {
   "cell_type": "code",
   "execution_count": 128,
   "metadata": {
    "collapsed": true
   },
   "outputs": [],
   "source": [
    "pulse_peak_dt=np.dtype([('rise','>i2'),('height','>i2'),('time','>i2'),('minima','>i2')])\n",
    "pulse_dt=np.dtype([('reserved','>i2'),('size','>i2'),('time','>i2'),('flags','>i2'),\n",
    "                  ('area','>i4'),('offset','>i2'),('length','>i2'),('peaks',(pulse_peak_dt,2))])\n",
    "data=np.copy(stream['data'])"
   ]
  },
  {
   "cell_type": "code",
   "execution_count": 123,
   "metadata": {
    "collapsed": false
   },
   "outputs": [],
   "source": [
    "pulses=data.view(pulse_dt)"
   ]
  },
  {
   "cell_type": "code",
   "execution_count": 129,
   "metadata": {
    "collapsed": false
   },
   "outputs": [
    {
     "data": {
      "text/plain": [
       "array([[1875,   13],\n",
       "       [1875,   13],\n",
       "       [1875,   13],\n",
       "       [1875,   13],\n",
       "       [1875,   13],\n",
       "       [1875,   13],\n",
       "       [1875,   13],\n",
       "       [1875,   13],\n",
       "       [1875,   13],\n",
       "       [1875,   13],\n",
       "       [1875,   13],\n",
       "       [1875,   13],\n",
       "       [1875,   13],\n",
       "       [1875,   13],\n",
       "       [1875,   13],\n",
       "       [1875,   13],\n",
       "       [1875,   13],\n",
       "       [1875,   13],\n",
       "       [1875,   13],\n",
       "       [1875,   13],\n",
       "       [1875,   13],\n",
       "       [1875,   13],\n",
       "       [1875,   13],\n",
       "       [1875,   13],\n",
       "       [1875,   13],\n",
       "       [1875,   13],\n",
       "       [1875,   13],\n",
       "       [1875,   13],\n",
       "       [1875,   13],\n",
       "       [1875,   13],\n",
       "       [1875,   13],\n",
       "       [1875,   13],\n",
       "       [1875,   13],\n",
       "       [1875,   13],\n",
       "       [1875,   13],\n",
       "       [1875,   13],\n",
       "       [1875,   13],\n",
       "       [1875,   13],\n",
       "       [1875,   13],\n",
       "       [1875,   13],\n",
       "       [1875,   13],\n",
       "       [1875,   13],\n",
       "       [1875,   13],\n",
       "       [1875,   13],\n",
       "       [1875,   13],\n",
       "       [1875,   13],\n",
       "       [1875,   13],\n",
       "       [1875,   13],\n",
       "       [1875,   13],\n",
       "       [1875,   13],\n",
       "       [1875,   13],\n",
       "       [1875,   13],\n",
       "       [1875,   13],\n",
       "       [1875,   13],\n",
       "       [1875,   13],\n",
       "       [1875,   13],\n",
       "       [1875,   13],\n",
       "       [1875,   13],\n",
       "       [1875,   13],\n",
       "       [1875,   13]], dtype=int16)"
      ]
     },
     "execution_count": 129,
     "metadata": {},
     "output_type": "execute_result"
    }
   ],
   "source": [
    "pulses['peaks']['height']-pulses['peaks']['minima']"
   ]
  },
  {
   "cell_type": "code",
   "execution_count": 120,
   "metadata": {
    "collapsed": false
   },
   "outputs": [
    {
     "data": {
      "text/plain": [
       "array([4, 4, 4, 4, 4, 4, 4, 4, 4, 4, 4, 4, 4, 4, 4, 4, 4, 4, 4, 4, 4], dtype=int16)"
      ]
     },
     "execution_count": 120,
     "metadata": {},
     "output_type": "execute_result"
    }
   ],
   "source": [
    "pulses['offset']"
   ]
  },
  {
   "cell_type": "code",
   "execution_count": 66,
   "metadata": {
    "collapsed": false
   },
   "outputs": [
    {
     "ename": "ValueError",
     "evalue": "new type not compatible with array.",
     "output_type": "error",
     "traceback": [
      "\u001b[0;31m---------------------------------------------------------------------------\u001b[0m",
      "\u001b[0;31mValueError\u001b[0m                                Traceback (most recent call last)",
      "\u001b[0;32m<ipython-input-66-c992d7f9bdf2>\u001b[0m in \u001b[0;36m<module>\u001b[0;34m()\u001b[0m\n\u001b[0;32m----> 1\u001b[0;31m \u001b[0mstream\u001b[0m\u001b[1;33m[\u001b[0m\u001b[1;34m'data'\u001b[0m\u001b[1;33m]\u001b[0m\u001b[1;33m[\u001b[0m\u001b[1;33m:\u001b[0m\u001b[1;36m3\u001b[0m\u001b[1;33m]\u001b[0m\u001b[1;33m.\u001b[0m\u001b[0mview\u001b[0m\u001b[1;33m(\u001b[0m\u001b[0mpulse_dt\u001b[0m\u001b[1;33m)\u001b[0m\u001b[1;33m\u001b[0m\u001b[0m\n\u001b[0m",
      "\u001b[0;31mValueError\u001b[0m: new type not compatible with array."
     ]
    }
   ],
   "source": [
    "stream['data'][:3].view(pulse_dt)"
   ]
  },
  {
   "cell_type": "code",
   "execution_count": 77,
   "metadata": {
    "collapsed": true
   },
   "outputs": [],
   "source": [
    "pulse0_dt=np.dtype([('reserved','>i2'),('size','>i2'),('time','>i2'),('flags','>i2')])\n",
    "pulse1_dt=np.dtype([('area','>i4'),('offset','>i2'),('length','>i2')])\n",
    "pulseh_dt=np.dtype([('reserved','>i2'),('size','>i2'),('time','>i2'),('flags','>i2'),\n",
    "                    ('area','>i4'),('offset','>i2'),('length','>i2')])"
   ]
  },
  {
   "cell_type": "code",
   "execution_count": 67,
   "metadata": {
    "collapsed": false
   },
   "outputs": [
    {
     "data": {
      "text/plain": [
       "(0, 3, 0, 2080)"
      ]
     },
     "execution_count": 67,
     "metadata": {},
     "output_type": "execute_result"
    }
   ],
   "source": [
    "stream[0]['data'].view(pulse0_dt)"
   ]
  },
  {
   "cell_type": "code",
   "execution_count": 78,
   "metadata": {
    "collapsed": false
   },
   "outputs": [
    {
     "ename": "ValueError",
     "evalue": "new type not compatible with array.",
     "output_type": "error",
     "traceback": [
      "\u001b[0;31m---------------------------------------------------------------------------\u001b[0m",
      "\u001b[0;31mValueError\u001b[0m                                Traceback (most recent call last)",
      "\u001b[0;32m<ipython-input-78-dc698f9e0e1c>\u001b[0m in \u001b[0;36m<module>\u001b[0;34m()\u001b[0m\n\u001b[0;32m----> 1\u001b[0;31m \u001b[0mstream\u001b[0m\u001b[1;33m[\u001b[0m\u001b[1;33m:\u001b[0m\u001b[1;36m2\u001b[0m\u001b[1;33m]\u001b[0m\u001b[1;33m[\u001b[0m\u001b[1;34m'data'\u001b[0m\u001b[1;33m]\u001b[0m\u001b[1;33m.\u001b[0m\u001b[0mview\u001b[0m\u001b[1;33m(\u001b[0m\u001b[0mpulseh_dt\u001b[0m\u001b[1;33m)\u001b[0m\u001b[1;33m\u001b[0m\u001b[0m\n\u001b[0m",
      "\u001b[0;31mValueError\u001b[0m: new type not compatible with array."
     ]
    }
   ],
   "source": [
    "stream[:2]['data'].view(pulseh_dt)"
   ]
  },
  {
   "cell_type": "code",
   "execution_count": 76,
   "metadata": {
    "collapsed": false
   },
   "outputs": [
    {
     "data": {
      "text/plain": [
       "array([2308094809077710848, 4467579629265289472], dtype=uint64)"
      ]
     },
     "execution_count": 76,
     "metadata": {},
     "output_type": "execute_result"
    }
   ],
   "source": [
    "stream[:2]['data']"
   ]
  },
  {
   "cell_type": "code",
   "execution_count": null,
   "metadata": {
    "collapsed": true
   },
   "outputs": [],
   "source": []
  }
 ],
 "metadata": {
  "anaconda-cloud": {},
  "kernelspec": {
   "display_name": "Python [default]",
   "language": "python",
   "name": "python3"
  },
  "language_info": {
   "codemirror_mode": {
    "name": "ipython",
    "version": 3
   },
   "file_extension": ".py",
   "mimetype": "text/x-python",
   "name": "python",
   "nbconvert_exporter": "python",
   "pygments_lexer": "ipython3",
   "version": "3.5.2"
  }
 },
 "nbformat": 4,
 "nbformat_minor": 1
}
