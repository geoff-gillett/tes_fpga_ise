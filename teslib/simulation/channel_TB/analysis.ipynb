{
 "cells": [
  {
   "cell_type": "code",
   "execution_count": 1,
   "metadata": {
    "collapsed": false
   },
   "outputs": [],
   "source": [
    "from tes.data import Data\n",
    "import numpy as np\n",
    "import matplotlib.pyplot as plt"
   ]
  },
  {
   "cell_type": "code",
   "execution_count": 2,
   "metadata": {
    "collapsed": false
   },
   "outputs": [],
   "source": [
    "trace_dt=np.dtype([('raw','i4'),('filtered','i4'),('slope','i4')])"
   ]
  },
  {
   "cell_type": "code",
   "execution_count": 89,
   "metadata": {
    "collapsed": true
   },
   "outputs": [],
   "source": [
    "traces=np.fromfile('data/traces',trace_dt)"
   ]
  },
  {
   "cell_type": "code",
   "execution_count": 220,
   "metadata": {
    "collapsed": true
   },
   "outputs": [],
   "source": [
    "traces=Data.fromfile('traces',trace_dt,'teslib','channel_TB',tool='vivado')"
   ]
  },
  {
   "cell_type": "code",
   "execution_count": 221,
   "metadata": {
    "collapsed": false
   },
   "outputs": [
    {
     "data": {
      "application/javascript": [
       "/* Put everything inside the global mpl namespace */\n",
       "window.mpl = {};\n",
       "\n",
       "mpl.get_websocket_type = function() {\n",
       "    if (typeof(WebSocket) !== 'undefined') {\n",
       "        return WebSocket;\n",
       "    } else if (typeof(MozWebSocket) !== 'undefined') {\n",
       "        return MozWebSocket;\n",
       "    } else {\n",
       "        alert('Your browser does not have WebSocket support.' +\n",
       "              'Please try Chrome, Safari or Firefox ≥ 6. ' +\n",
       "              'Firefox 4 and 5 are also supported but you ' +\n",
       "              'have to enable WebSockets in about:config.');\n",
       "    };\n",
       "}\n",
       "\n",
       "mpl.figure = function(figure_id, websocket, ondownload, parent_element) {\n",
       "    this.id = figure_id;\n",
       "\n",
       "    this.ws = websocket;\n",
       "\n",
       "    this.supports_binary = (this.ws.binaryType != undefined);\n",
       "\n",
       "    if (!this.supports_binary) {\n",
       "        var warnings = document.getElementById(\"mpl-warnings\");\n",
       "        if (warnings) {\n",
       "            warnings.style.display = 'block';\n",
       "            warnings.textContent = (\n",
       "                \"This browser does not support binary websocket messages. \" +\n",
       "                    \"Performance may be slow.\");\n",
       "        }\n",
       "    }\n",
       "\n",
       "    this.imageObj = new Image();\n",
       "\n",
       "    this.context = undefined;\n",
       "    this.message = undefined;\n",
       "    this.canvas = undefined;\n",
       "    this.rubberband_canvas = undefined;\n",
       "    this.rubberband_context = undefined;\n",
       "    this.format_dropdown = undefined;\n",
       "\n",
       "    this.image_mode = 'full';\n",
       "\n",
       "    this.root = $('<div/>');\n",
       "    this._root_extra_style(this.root)\n",
       "    this.root.attr('style', 'display: inline-block');\n",
       "\n",
       "    $(parent_element).append(this.root);\n",
       "\n",
       "    this._init_header(this);\n",
       "    this._init_canvas(this);\n",
       "    this._init_toolbar(this);\n",
       "\n",
       "    var fig = this;\n",
       "\n",
       "    this.waiting = false;\n",
       "\n",
       "    this.ws.onopen =  function () {\n",
       "            fig.send_message(\"supports_binary\", {value: fig.supports_binary});\n",
       "            fig.send_message(\"send_image_mode\", {});\n",
       "            fig.send_message(\"refresh\", {});\n",
       "        }\n",
       "\n",
       "    this.imageObj.onload = function() {\n",
       "            if (fig.image_mode == 'full') {\n",
       "                // Full images could contain transparency (where diff images\n",
       "                // almost always do), so we need to clear the canvas so that\n",
       "                // there is no ghosting.\n",
       "                fig.context.clearRect(0, 0, fig.canvas.width, fig.canvas.height);\n",
       "            }\n",
       "            fig.context.drawImage(fig.imageObj, 0, 0);\n",
       "        };\n",
       "\n",
       "    this.imageObj.onunload = function() {\n",
       "        this.ws.close();\n",
       "    }\n",
       "\n",
       "    this.ws.onmessage = this._make_on_message_function(this);\n",
       "\n",
       "    this.ondownload = ondownload;\n",
       "}\n",
       "\n",
       "mpl.figure.prototype._init_header = function() {\n",
       "    var titlebar = $(\n",
       "        '<div class=\"ui-dialog-titlebar ui-widget-header ui-corner-all ' +\n",
       "        'ui-helper-clearfix\"/>');\n",
       "    var titletext = $(\n",
       "        '<div class=\"ui-dialog-title\" style=\"width: 100%; ' +\n",
       "        'text-align: center; padding: 3px;\"/>');\n",
       "    titlebar.append(titletext)\n",
       "    this.root.append(titlebar);\n",
       "    this.header = titletext[0];\n",
       "}\n",
       "\n",
       "\n",
       "\n",
       "mpl.figure.prototype._canvas_extra_style = function(canvas_div) {\n",
       "\n",
       "}\n",
       "\n",
       "\n",
       "mpl.figure.prototype._root_extra_style = function(canvas_div) {\n",
       "\n",
       "}\n",
       "\n",
       "mpl.figure.prototype._init_canvas = function() {\n",
       "    var fig = this;\n",
       "\n",
       "    var canvas_div = $('<div/>');\n",
       "\n",
       "    canvas_div.attr('style', 'position: relative; clear: both; outline: 0');\n",
       "\n",
       "    function canvas_keyboard_event(event) {\n",
       "        return fig.key_event(event, event['data']);\n",
       "    }\n",
       "\n",
       "    canvas_div.keydown('key_press', canvas_keyboard_event);\n",
       "    canvas_div.keyup('key_release', canvas_keyboard_event);\n",
       "    this.canvas_div = canvas_div\n",
       "    this._canvas_extra_style(canvas_div)\n",
       "    this.root.append(canvas_div);\n",
       "\n",
       "    var canvas = $('<canvas/>');\n",
       "    canvas.addClass('mpl-canvas');\n",
       "    canvas.attr('style', \"left: 0; top: 0; z-index: 0; outline: 0\")\n",
       "\n",
       "    this.canvas = canvas[0];\n",
       "    this.context = canvas[0].getContext(\"2d\");\n",
       "\n",
       "    var rubberband = $('<canvas/>');\n",
       "    rubberband.attr('style', \"position: absolute; left: 0; top: 0; z-index: 1;\")\n",
       "\n",
       "    var pass_mouse_events = true;\n",
       "\n",
       "    canvas_div.resizable({\n",
       "        start: function(event, ui) {\n",
       "            pass_mouse_events = false;\n",
       "        },\n",
       "        resize: function(event, ui) {\n",
       "            fig.request_resize(ui.size.width, ui.size.height);\n",
       "        },\n",
       "        stop: function(event, ui) {\n",
       "            pass_mouse_events = true;\n",
       "            fig.request_resize(ui.size.width, ui.size.height);\n",
       "        },\n",
       "    });\n",
       "\n",
       "    function mouse_event_fn(event) {\n",
       "        if (pass_mouse_events)\n",
       "            return fig.mouse_event(event, event['data']);\n",
       "    }\n",
       "\n",
       "    rubberband.mousedown('button_press', mouse_event_fn);\n",
       "    rubberband.mouseup('button_release', mouse_event_fn);\n",
       "    // Throttle sequential mouse events to 1 every 20ms.\n",
       "    rubberband.mousemove('motion_notify', mouse_event_fn);\n",
       "\n",
       "    rubberband.mouseenter('figure_enter', mouse_event_fn);\n",
       "    rubberband.mouseleave('figure_leave', mouse_event_fn);\n",
       "\n",
       "    canvas_div.on(\"wheel\", function (event) {\n",
       "        event = event.originalEvent;\n",
       "        event['data'] = 'scroll'\n",
       "        if (event.deltaY < 0) {\n",
       "            event.step = 1;\n",
       "        } else {\n",
       "            event.step = -1;\n",
       "        }\n",
       "        mouse_event_fn(event);\n",
       "    });\n",
       "\n",
       "    canvas_div.append(canvas);\n",
       "    canvas_div.append(rubberband);\n",
       "\n",
       "    this.rubberband = rubberband;\n",
       "    this.rubberband_canvas = rubberband[0];\n",
       "    this.rubberband_context = rubberband[0].getContext(\"2d\");\n",
       "    this.rubberband_context.strokeStyle = \"#000000\";\n",
       "\n",
       "    this._resize_canvas = function(width, height) {\n",
       "        // Keep the size of the canvas, canvas container, and rubber band\n",
       "        // canvas in synch.\n",
       "        canvas_div.css('width', width)\n",
       "        canvas_div.css('height', height)\n",
       "\n",
       "        canvas.attr('width', width);\n",
       "        canvas.attr('height', height);\n",
       "\n",
       "        rubberband.attr('width', width);\n",
       "        rubberband.attr('height', height);\n",
       "    }\n",
       "\n",
       "    // Set the figure to an initial 600x600px, this will subsequently be updated\n",
       "    // upon first draw.\n",
       "    this._resize_canvas(600, 600);\n",
       "\n",
       "    // Disable right mouse context menu.\n",
       "    $(this.rubberband_canvas).bind(\"contextmenu\",function(e){\n",
       "        return false;\n",
       "    });\n",
       "\n",
       "    function set_focus () {\n",
       "        canvas.focus();\n",
       "        canvas_div.focus();\n",
       "    }\n",
       "\n",
       "    window.setTimeout(set_focus, 100);\n",
       "}\n",
       "\n",
       "mpl.figure.prototype._init_toolbar = function() {\n",
       "    var fig = this;\n",
       "\n",
       "    var nav_element = $('<div/>')\n",
       "    nav_element.attr('style', 'width: 100%');\n",
       "    this.root.append(nav_element);\n",
       "\n",
       "    // Define a callback function for later on.\n",
       "    function toolbar_event(event) {\n",
       "        return fig.toolbar_button_onclick(event['data']);\n",
       "    }\n",
       "    function toolbar_mouse_event(event) {\n",
       "        return fig.toolbar_button_onmouseover(event['data']);\n",
       "    }\n",
       "\n",
       "    for(var toolbar_ind in mpl.toolbar_items) {\n",
       "        var name = mpl.toolbar_items[toolbar_ind][0];\n",
       "        var tooltip = mpl.toolbar_items[toolbar_ind][1];\n",
       "        var image = mpl.toolbar_items[toolbar_ind][2];\n",
       "        var method_name = mpl.toolbar_items[toolbar_ind][3];\n",
       "\n",
       "        if (!name) {\n",
       "            // put a spacer in here.\n",
       "            continue;\n",
       "        }\n",
       "        var button = $('<button/>');\n",
       "        button.addClass('ui-button ui-widget ui-state-default ui-corner-all ' +\n",
       "                        'ui-button-icon-only');\n",
       "        button.attr('role', 'button');\n",
       "        button.attr('aria-disabled', 'false');\n",
       "        button.click(method_name, toolbar_event);\n",
       "        button.mouseover(tooltip, toolbar_mouse_event);\n",
       "\n",
       "        var icon_img = $('<span/>');\n",
       "        icon_img.addClass('ui-button-icon-primary ui-icon');\n",
       "        icon_img.addClass(image);\n",
       "        icon_img.addClass('ui-corner-all');\n",
       "\n",
       "        var tooltip_span = $('<span/>');\n",
       "        tooltip_span.addClass('ui-button-text');\n",
       "        tooltip_span.html(tooltip);\n",
       "\n",
       "        button.append(icon_img);\n",
       "        button.append(tooltip_span);\n",
       "\n",
       "        nav_element.append(button);\n",
       "    }\n",
       "\n",
       "    var fmt_picker_span = $('<span/>');\n",
       "\n",
       "    var fmt_picker = $('<select/>');\n",
       "    fmt_picker.addClass('mpl-toolbar-option ui-widget ui-widget-content');\n",
       "    fmt_picker_span.append(fmt_picker);\n",
       "    nav_element.append(fmt_picker_span);\n",
       "    this.format_dropdown = fmt_picker[0];\n",
       "\n",
       "    for (var ind in mpl.extensions) {\n",
       "        var fmt = mpl.extensions[ind];\n",
       "        var option = $(\n",
       "            '<option/>', {selected: fmt === mpl.default_extension}).html(fmt);\n",
       "        fmt_picker.append(option)\n",
       "    }\n",
       "\n",
       "    // Add hover states to the ui-buttons\n",
       "    $( \".ui-button\" ).hover(\n",
       "        function() { $(this).addClass(\"ui-state-hover\");},\n",
       "        function() { $(this).removeClass(\"ui-state-hover\");}\n",
       "    );\n",
       "\n",
       "    var status_bar = $('<span class=\"mpl-message\"/>');\n",
       "    nav_element.append(status_bar);\n",
       "    this.message = status_bar[0];\n",
       "}\n",
       "\n",
       "mpl.figure.prototype.request_resize = function(x_pixels, y_pixels) {\n",
       "    // Request matplotlib to resize the figure. Matplotlib will then trigger a resize in the client,\n",
       "    // which will in turn request a refresh of the image.\n",
       "    this.send_message('resize', {'width': x_pixels, 'height': y_pixels});\n",
       "}\n",
       "\n",
       "mpl.figure.prototype.send_message = function(type, properties) {\n",
       "    properties['type'] = type;\n",
       "    properties['figure_id'] = this.id;\n",
       "    this.ws.send(JSON.stringify(properties));\n",
       "}\n",
       "\n",
       "mpl.figure.prototype.send_draw_message = function() {\n",
       "    if (!this.waiting) {\n",
       "        this.waiting = true;\n",
       "        this.ws.send(JSON.stringify({type: \"draw\", figure_id: this.id}));\n",
       "    }\n",
       "}\n",
       "\n",
       "\n",
       "mpl.figure.prototype.handle_save = function(fig, msg) {\n",
       "    var format_dropdown = fig.format_dropdown;\n",
       "    var format = format_dropdown.options[format_dropdown.selectedIndex].value;\n",
       "    fig.ondownload(fig, format);\n",
       "}\n",
       "\n",
       "\n",
       "mpl.figure.prototype.handle_resize = function(fig, msg) {\n",
       "    var size = msg['size'];\n",
       "    if (size[0] != fig.canvas.width || size[1] != fig.canvas.height) {\n",
       "        fig._resize_canvas(size[0], size[1]);\n",
       "        fig.send_message(\"refresh\", {});\n",
       "    };\n",
       "}\n",
       "\n",
       "mpl.figure.prototype.handle_rubberband = function(fig, msg) {\n",
       "    var x0 = msg['x0'];\n",
       "    var y0 = fig.canvas.height - msg['y0'];\n",
       "    var x1 = msg['x1'];\n",
       "    var y1 = fig.canvas.height - msg['y1'];\n",
       "    x0 = Math.floor(x0) + 0.5;\n",
       "    y0 = Math.floor(y0) + 0.5;\n",
       "    x1 = Math.floor(x1) + 0.5;\n",
       "    y1 = Math.floor(y1) + 0.5;\n",
       "    var min_x = Math.min(x0, x1);\n",
       "    var min_y = Math.min(y0, y1);\n",
       "    var width = Math.abs(x1 - x0);\n",
       "    var height = Math.abs(y1 - y0);\n",
       "\n",
       "    fig.rubberband_context.clearRect(\n",
       "        0, 0, fig.canvas.width, fig.canvas.height);\n",
       "\n",
       "    fig.rubberband_context.strokeRect(min_x, min_y, width, height);\n",
       "}\n",
       "\n",
       "mpl.figure.prototype.handle_figure_label = function(fig, msg) {\n",
       "    // Updates the figure title.\n",
       "    fig.header.textContent = msg['label'];\n",
       "}\n",
       "\n",
       "mpl.figure.prototype.handle_cursor = function(fig, msg) {\n",
       "    var cursor = msg['cursor'];\n",
       "    switch(cursor)\n",
       "    {\n",
       "    case 0:\n",
       "        cursor = 'pointer';\n",
       "        break;\n",
       "    case 1:\n",
       "        cursor = 'default';\n",
       "        break;\n",
       "    case 2:\n",
       "        cursor = 'crosshair';\n",
       "        break;\n",
       "    case 3:\n",
       "        cursor = 'move';\n",
       "        break;\n",
       "    }\n",
       "    fig.rubberband_canvas.style.cursor = cursor;\n",
       "}\n",
       "\n",
       "mpl.figure.prototype.handle_message = function(fig, msg) {\n",
       "    fig.message.textContent = msg['message'];\n",
       "}\n",
       "\n",
       "mpl.figure.prototype.handle_draw = function(fig, msg) {\n",
       "    // Request the server to send over a new figure.\n",
       "    fig.send_draw_message();\n",
       "}\n",
       "\n",
       "mpl.figure.prototype.handle_image_mode = function(fig, msg) {\n",
       "    fig.image_mode = msg['mode'];\n",
       "}\n",
       "\n",
       "mpl.figure.prototype.updated_canvas_event = function() {\n",
       "    // Called whenever the canvas gets updated.\n",
       "    this.send_message(\"ack\", {});\n",
       "}\n",
       "\n",
       "// A function to construct a web socket function for onmessage handling.\n",
       "// Called in the figure constructor.\n",
       "mpl.figure.prototype._make_on_message_function = function(fig) {\n",
       "    return function socket_on_message(evt) {\n",
       "        if (evt.data instanceof Blob) {\n",
       "            /* FIXME: We get \"Resource interpreted as Image but\n",
       "             * transferred with MIME type text/plain:\" errors on\n",
       "             * Chrome.  But how to set the MIME type?  It doesn't seem\n",
       "             * to be part of the websocket stream */\n",
       "            evt.data.type = \"image/png\";\n",
       "\n",
       "            /* Free the memory for the previous frames */\n",
       "            if (fig.imageObj.src) {\n",
       "                (window.URL || window.webkitURL).revokeObjectURL(\n",
       "                    fig.imageObj.src);\n",
       "            }\n",
       "\n",
       "            fig.imageObj.src = (window.URL || window.webkitURL).createObjectURL(\n",
       "                evt.data);\n",
       "            fig.updated_canvas_event();\n",
       "            fig.waiting = false;\n",
       "            return;\n",
       "        }\n",
       "        else if (typeof evt.data === 'string' && evt.data.slice(0, 21) == \"data:image/png;base64\") {\n",
       "            fig.imageObj.src = evt.data;\n",
       "            fig.updated_canvas_event();\n",
       "            fig.waiting = false;\n",
       "            return;\n",
       "        }\n",
       "\n",
       "        var msg = JSON.parse(evt.data);\n",
       "        var msg_type = msg['type'];\n",
       "\n",
       "        // Call the  \"handle_{type}\" callback, which takes\n",
       "        // the figure and JSON message as its only arguments.\n",
       "        try {\n",
       "            var callback = fig[\"handle_\" + msg_type];\n",
       "        } catch (e) {\n",
       "            console.log(\"No handler for the '\" + msg_type + \"' message type: \", msg);\n",
       "            return;\n",
       "        }\n",
       "\n",
       "        if (callback) {\n",
       "            try {\n",
       "                // console.log(\"Handling '\" + msg_type + \"' message: \", msg);\n",
       "                callback(fig, msg);\n",
       "            } catch (e) {\n",
       "                console.log(\"Exception inside the 'handler_\" + msg_type + \"' callback:\", e, e.stack, msg);\n",
       "            }\n",
       "        }\n",
       "    };\n",
       "}\n",
       "\n",
       "// from http://stackoverflow.com/questions/1114465/getting-mouse-location-in-canvas\n",
       "mpl.findpos = function(e) {\n",
       "    //this section is from http://www.quirksmode.org/js/events_properties.html\n",
       "    var targ;\n",
       "    if (!e)\n",
       "        e = window.event;\n",
       "    if (e.target)\n",
       "        targ = e.target;\n",
       "    else if (e.srcElement)\n",
       "        targ = e.srcElement;\n",
       "    if (targ.nodeType == 3) // defeat Safari bug\n",
       "        targ = targ.parentNode;\n",
       "\n",
       "    // jQuery normalizes the pageX and pageY\n",
       "    // pageX,Y are the mouse positions relative to the document\n",
       "    // offset() returns the position of the element relative to the document\n",
       "    var x = e.pageX - $(targ).offset().left;\n",
       "    var y = e.pageY - $(targ).offset().top;\n",
       "\n",
       "    return {\"x\": x, \"y\": y};\n",
       "};\n",
       "\n",
       "/*\n",
       " * return a copy of an object with only non-object keys\n",
       " * we need this to avoid circular references\n",
       " * http://stackoverflow.com/a/24161582/3208463\n",
       " */\n",
       "function simpleKeys (original) {\n",
       "  return Object.keys(original).reduce(function (obj, key) {\n",
       "    if (typeof original[key] !== 'object')\n",
       "        obj[key] = original[key]\n",
       "    return obj;\n",
       "  }, {});\n",
       "}\n",
       "\n",
       "mpl.figure.prototype.mouse_event = function(event, name) {\n",
       "    var canvas_pos = mpl.findpos(event)\n",
       "\n",
       "    if (name === 'button_press')\n",
       "    {\n",
       "        this.canvas.focus();\n",
       "        this.canvas_div.focus();\n",
       "    }\n",
       "\n",
       "    var x = canvas_pos.x;\n",
       "    var y = canvas_pos.y;\n",
       "\n",
       "    this.send_message(name, {x: x, y: y, button: event.button,\n",
       "                             step: event.step,\n",
       "                             guiEvent: simpleKeys(event)});\n",
       "\n",
       "    /* This prevents the web browser from automatically changing to\n",
       "     * the text insertion cursor when the button is pressed.  We want\n",
       "     * to control all of the cursor setting manually through the\n",
       "     * 'cursor' event from matplotlib */\n",
       "    event.preventDefault();\n",
       "    return false;\n",
       "}\n",
       "\n",
       "mpl.figure.prototype._key_event_extra = function(event, name) {\n",
       "    // Handle any extra behaviour associated with a key event\n",
       "}\n",
       "\n",
       "mpl.figure.prototype.key_event = function(event, name) {\n",
       "\n",
       "    // Prevent repeat events\n",
       "    if (name == 'key_press')\n",
       "    {\n",
       "        if (event.which === this._key)\n",
       "            return;\n",
       "        else\n",
       "            this._key = event.which;\n",
       "    }\n",
       "    if (name == 'key_release')\n",
       "        this._key = null;\n",
       "\n",
       "    var value = '';\n",
       "    if (event.ctrlKey && event.which != 17)\n",
       "        value += \"ctrl+\";\n",
       "    if (event.altKey && event.which != 18)\n",
       "        value += \"alt+\";\n",
       "    if (event.shiftKey && event.which != 16)\n",
       "        value += \"shift+\";\n",
       "\n",
       "    value += 'k';\n",
       "    value += event.which.toString();\n",
       "\n",
       "    this._key_event_extra(event, name);\n",
       "\n",
       "    this.send_message(name, {key: value,\n",
       "                             guiEvent: simpleKeys(event)});\n",
       "    return false;\n",
       "}\n",
       "\n",
       "mpl.figure.prototype.toolbar_button_onclick = function(name) {\n",
       "    if (name == 'download') {\n",
       "        this.handle_save(this, null);\n",
       "    } else {\n",
       "        this.send_message(\"toolbar_button\", {name: name});\n",
       "    }\n",
       "};\n",
       "\n",
       "mpl.figure.prototype.toolbar_button_onmouseover = function(tooltip) {\n",
       "    this.message.textContent = tooltip;\n",
       "};\n",
       "mpl.toolbar_items = [[\"Home\", \"Reset original view\", \"fa fa-home icon-home\", \"home\"], [\"Back\", \"Back to  previous view\", \"fa fa-arrow-left icon-arrow-left\", \"back\"], [\"Forward\", \"Forward to next view\", \"fa fa-arrow-right icon-arrow-right\", \"forward\"], [\"\", \"\", \"\", \"\"], [\"Pan\", \"Pan axes with left mouse, zoom with right\", \"fa fa-arrows icon-move\", \"pan\"], [\"Zoom\", \"Zoom to rectangle\", \"fa fa-square-o icon-check-empty\", \"zoom\"], [\"\", \"\", \"\", \"\"], [\"Download\", \"Download plot\", \"fa fa-floppy-o icon-save\", \"download\"]];\n",
       "\n",
       "mpl.extensions = [\"eps\", \"jpeg\", \"pdf\", \"png\", \"ps\", \"raw\", \"svg\", \"tif\"];\n",
       "\n",
       "mpl.default_extension = \"png\";var comm_websocket_adapter = function(comm) {\n",
       "    // Create a \"websocket\"-like object which calls the given IPython comm\n",
       "    // object with the appropriate methods. Currently this is a non binary\n",
       "    // socket, so there is still some room for performance tuning.\n",
       "    var ws = {};\n",
       "\n",
       "    ws.close = function() {\n",
       "        comm.close()\n",
       "    };\n",
       "    ws.send = function(m) {\n",
       "        //console.log('sending', m);\n",
       "        comm.send(m);\n",
       "    };\n",
       "    // Register the callback with on_msg.\n",
       "    comm.on_msg(function(msg) {\n",
       "        //console.log('receiving', msg['content']['data'], msg);\n",
       "        // Pass the mpl event to the overriden (by mpl) onmessage function.\n",
       "        ws.onmessage(msg['content']['data'])\n",
       "    });\n",
       "    return ws;\n",
       "}\n",
       "\n",
       "mpl.mpl_figure_comm = function(comm, msg) {\n",
       "    // This is the function which gets called when the mpl process\n",
       "    // starts-up an IPython Comm through the \"matplotlib\" channel.\n",
       "\n",
       "    var id = msg.content.data.id;\n",
       "    // Get hold of the div created by the display call when the Comm\n",
       "    // socket was opened in Python.\n",
       "    var element = $(\"#\" + id);\n",
       "    var ws_proxy = comm_websocket_adapter(comm)\n",
       "\n",
       "    function ondownload(figure, format) {\n",
       "        window.open(figure.imageObj.src);\n",
       "    }\n",
       "\n",
       "    var fig = new mpl.figure(id, ws_proxy,\n",
       "                           ondownload,\n",
       "                           element.get(0));\n",
       "\n",
       "    // Call onopen now - mpl needs it, as it is assuming we've passed it a real\n",
       "    // web socket which is closed, not our websocket->open comm proxy.\n",
       "    ws_proxy.onopen();\n",
       "\n",
       "    fig.parent_element = element.get(0);\n",
       "    fig.cell_info = mpl.find_output_cell(\"<div id='\" + id + \"'></div>\");\n",
       "    if (!fig.cell_info) {\n",
       "        console.error(\"Failed to find cell for figure\", id, fig);\n",
       "        return;\n",
       "    }\n",
       "\n",
       "    var output_index = fig.cell_info[2]\n",
       "    var cell = fig.cell_info[0];\n",
       "\n",
       "};\n",
       "\n",
       "mpl.figure.prototype.handle_close = function(fig, msg) {\n",
       "    fig.root.unbind('remove')\n",
       "\n",
       "    // Update the output cell to use the data from the current canvas.\n",
       "    fig.push_to_output();\n",
       "    var dataURL = fig.canvas.toDataURL();\n",
       "    // Re-enable the keyboard manager in IPython - without this line, in FF,\n",
       "    // the notebook keyboard shortcuts fail.\n",
       "    IPython.keyboard_manager.enable()\n",
       "    $(fig.parent_element).html('<img src=\"' + dataURL + '\">');\n",
       "    fig.close_ws(fig, msg);\n",
       "}\n",
       "\n",
       "mpl.figure.prototype.close_ws = function(fig, msg){\n",
       "    fig.send_message('closing', msg);\n",
       "    // fig.ws.close()\n",
       "}\n",
       "\n",
       "mpl.figure.prototype.push_to_output = function(remove_interactive) {\n",
       "    // Turn the data on the canvas into data in the output cell.\n",
       "    var dataURL = this.canvas.toDataURL();\n",
       "    this.cell_info[1]['text/html'] = '<img src=\"' + dataURL + '\">';\n",
       "}\n",
       "\n",
       "mpl.figure.prototype.updated_canvas_event = function() {\n",
       "    // Tell IPython that the notebook contents must change.\n",
       "    IPython.notebook.set_dirty(true);\n",
       "    this.send_message(\"ack\", {});\n",
       "    var fig = this;\n",
       "    // Wait a second, then push the new image to the DOM so\n",
       "    // that it is saved nicely (might be nice to debounce this).\n",
       "    setTimeout(function () { fig.push_to_output() }, 1000);\n",
       "}\n",
       "\n",
       "mpl.figure.prototype._init_toolbar = function() {\n",
       "    var fig = this;\n",
       "\n",
       "    var nav_element = $('<div/>')\n",
       "    nav_element.attr('style', 'width: 100%');\n",
       "    this.root.append(nav_element);\n",
       "\n",
       "    // Define a callback function for later on.\n",
       "    function toolbar_event(event) {\n",
       "        return fig.toolbar_button_onclick(event['data']);\n",
       "    }\n",
       "    function toolbar_mouse_event(event) {\n",
       "        return fig.toolbar_button_onmouseover(event['data']);\n",
       "    }\n",
       "\n",
       "    for(var toolbar_ind in mpl.toolbar_items){\n",
       "        var name = mpl.toolbar_items[toolbar_ind][0];\n",
       "        var tooltip = mpl.toolbar_items[toolbar_ind][1];\n",
       "        var image = mpl.toolbar_items[toolbar_ind][2];\n",
       "        var method_name = mpl.toolbar_items[toolbar_ind][3];\n",
       "\n",
       "        if (!name) { continue; };\n",
       "\n",
       "        var button = $('<button class=\"btn btn-default\" href=\"#\" title=\"' + name + '\"><i class=\"fa ' + image + ' fa-lg\"></i></button>');\n",
       "        button.click(method_name, toolbar_event);\n",
       "        button.mouseover(tooltip, toolbar_mouse_event);\n",
       "        nav_element.append(button);\n",
       "    }\n",
       "\n",
       "    // Add the status bar.\n",
       "    var status_bar = $('<span class=\"mpl-message\" style=\"text-align:right; float: right;\"/>');\n",
       "    nav_element.append(status_bar);\n",
       "    this.message = status_bar[0];\n",
       "\n",
       "    // Add the close button to the window.\n",
       "    var buttongrp = $('<div class=\"btn-group inline pull-right\"></div>');\n",
       "    var button = $('<button class=\"btn btn-mini btn-primary\" href=\"#\" title=\"Stop Interaction\"><i class=\"fa fa-power-off icon-remove icon-large\"></i></button>');\n",
       "    button.click(function (evt) { fig.handle_close(fig, {}); } );\n",
       "    button.mouseover('Stop Interaction', toolbar_mouse_event);\n",
       "    buttongrp.append(button);\n",
       "    var titlebar = this.root.find($('.ui-dialog-titlebar'));\n",
       "    titlebar.prepend(buttongrp);\n",
       "}\n",
       "\n",
       "mpl.figure.prototype._root_extra_style = function(el){\n",
       "    var fig = this\n",
       "    el.on(\"remove\", function(){\n",
       "\tfig.close_ws(fig, {});\n",
       "    });\n",
       "}\n",
       "\n",
       "mpl.figure.prototype._canvas_extra_style = function(el){\n",
       "    // this is important to make the div 'focusable\n",
       "    el.attr('tabindex', 0)\n",
       "    // reach out to IPython and tell the keyboard manager to turn it's self\n",
       "    // off when our div gets focus\n",
       "\n",
       "    // location in version 3\n",
       "    if (IPython.notebook.keyboard_manager) {\n",
       "        IPython.notebook.keyboard_manager.register_events(el);\n",
       "    }\n",
       "    else {\n",
       "        // location in version 2\n",
       "        IPython.keyboard_manager.register_events(el);\n",
       "    }\n",
       "\n",
       "}\n",
       "\n",
       "mpl.figure.prototype._key_event_extra = function(event, name) {\n",
       "    var manager = IPython.notebook.keyboard_manager;\n",
       "    if (!manager)\n",
       "        manager = IPython.keyboard_manager;\n",
       "\n",
       "    // Check for shift+enter\n",
       "    if (event.shiftKey && event.which == 13) {\n",
       "        this.canvas_div.blur();\n",
       "        // select the cell after this one\n",
       "        var index = IPython.notebook.find_cell_index(this.cell_info[0]);\n",
       "        IPython.notebook.select(index + 1);\n",
       "    }\n",
       "}\n",
       "\n",
       "mpl.figure.prototype.handle_save = function(fig, msg) {\n",
       "    fig.ondownload(fig, null);\n",
       "}\n",
       "\n",
       "\n",
       "mpl.find_output_cell = function(html_output) {\n",
       "    // Return the cell and output element which can be found *uniquely* in the notebook.\n",
       "    // Note - this is a bit hacky, but it is done because the \"notebook_saving.Notebook\"\n",
       "    // IPython event is triggered only after the cells have been serialised, which for\n",
       "    // our purposes (turning an active figure into a static one), is too late.\n",
       "    var cells = IPython.notebook.get_cells();\n",
       "    var ncells = cells.length;\n",
       "    for (var i=0; i<ncells; i++) {\n",
       "        var cell = cells[i];\n",
       "        if (cell.cell_type === 'code'){\n",
       "            for (var j=0; j<cell.output_area.outputs.length; j++) {\n",
       "                var data = cell.output_area.outputs[j];\n",
       "                if (data.data) {\n",
       "                    // IPython >= 3 moved mimebundle to data attribute of output\n",
       "                    data = data.data;\n",
       "                }\n",
       "                if (data['text/html'] == html_output) {\n",
       "                    return [cell, data, j];\n",
       "                }\n",
       "            }\n",
       "        }\n",
       "    }\n",
       "}\n",
       "\n",
       "// Register the function which deals with the matplotlib target/channel.\n",
       "// The kernel may be null if the page has been refreshed.\n",
       "if (IPython.notebook.kernel != null) {\n",
       "    IPython.notebook.kernel.comm_manager.register_target('matplotlib', mpl.mpl_figure_comm);\n",
       "}\n"
      ],
      "text/plain": [
       "<IPython.core.display.Javascript object>"
      ]
     },
     "metadata": {},
     "output_type": "display_data"
    },
    {
     "data": {
      "text/html": [
       "<img src=\"data:image/png;base64,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\">"
      ],
      "text/plain": [
       "<IPython.core.display.HTML object>"
      ]
     },
     "metadata": {},
     "output_type": "display_data"
    },
    {
     "data": {
      "text/plain": [
       "[<matplotlib.lines.Line2D at 0xa2852b0>]"
      ]
     },
     "execution_count": 221,
     "metadata": {},
     "output_type": "execute_result"
    }
   ],
   "source": [
    "%matplotlib notebook\n",
    "plt.plot(traces['filtered'][100:])"
   ]
  },
  {
   "cell_type": "code",
   "execution_count": 5,
   "metadata": {
    "collapsed": false
   },
   "outputs": [],
   "source": [
    "stream_dt=np.dtype([('data','u8'),('last','i4')])\n",
    "stream=np.fromfile('data/stream',stream_dt)"
   ]
  },
  {
   "cell_type": "code",
   "execution_count": 222,
   "metadata": {
    "collapsed": false
   },
   "outputs": [],
   "source": [
    "stream=Data.fromfile('stream',stream_dt,'teslib','channel_TB',tool='vivado')\n",
    "data=np.copy(stream['data'])"
   ]
  },
  {
   "cell_type": "code",
   "execution_count": 213,
   "metadata": {
    "collapsed": false
   },
   "outputs": [
    {
     "data": {
      "text/plain": [
       "'B4040600'"
      ]
     },
     "execution_count": 213,
     "metadata": {},
     "output_type": "execute_result"
    }
   ],
   "source": [
    "'{:08X}'.format(stream['data'][0])"
   ]
  },
  {
   "cell_type": "code",
   "execution_count": 214,
   "metadata": {
    "collapsed": false
   },
   "outputs": [],
   "source": [
    "event_dt=np.dtype([('rise','>i2'),('height','>i2'),('time','>i2'),('flags','>i2')])"
   ]
  },
  {
   "cell_type": "code",
   "execution_count": 215,
   "metadata": {
    "collapsed": false
   },
   "outputs": [],
   "source": [
    "events=stream['data'].view(event_dt)"
   ]
  },
  {
   "cell_type": "code",
   "execution_count": 216,
   "metadata": {
    "collapsed": false
   },
   "outputs": [
    {
     "data": {
      "text/plain": [
       "'0'"
      ]
     },
     "execution_count": 216,
     "metadata": {},
     "output_type": "execute_result"
    }
   ],
   "source": [
    "'{:X}'.format(events['flags'][0])"
   ]
  },
  {
   "cell_type": "code",
   "execution_count": 217,
   "metadata": {
    "collapsed": false
   },
   "outputs": [
    {
     "data": {
      "text/plain": [
       "array([ 6, 56,  6], dtype=int16)"
      ]
     },
     "execution_count": 217,
     "metadata": {},
     "output_type": "execute_result"
    }
   ],
   "source": [
    "events['rise']"
   ]
  },
  {
   "cell_type": "code",
   "execution_count": 218,
   "metadata": {
    "collapsed": false
   },
   "outputs": [
    {
     "data": {
      "text/plain": [
       "array([(6, 1204, 0, 0), (56, 1213, 0, 4096), (6, 1204, 0, 0)], \n",
       "      dtype=[('rise', '>i2'), ('height', '>i2'), ('time', '>i2'), ('flags', '>i2')])"
      ]
     },
     "execution_count": 218,
     "metadata": {},
     "output_type": "execute_result"
    }
   ],
   "source": [
    "events"
   ]
  },
  {
   "cell_type": "code",
   "execution_count": 206,
   "metadata": {
    "collapsed": false
   },
   "outputs": [
    {
     "data": {
      "text/plain": [
       "'1000'"
      ]
     },
     "execution_count": 206,
     "metadata": {},
     "output_type": "execute_result"
    }
   ],
   "source": [
    "'{:04X}'.format(events['flags'][1])"
   ]
  },
  {
   "cell_type": "code",
   "execution_count": 235,
   "metadata": {
    "collapsed": true
   },
   "outputs": [],
   "source": [
    "pulse_peak_dt=np.dtype([('time','>i2'),('minima','>i2'),('rise','>u2'),('height','>i2')])\n",
    "pulse_dt=np.dtype([('time','>i2'),('flags','>i2'),('resv','>i2'),('size','>u2'),\n",
    "                  ('offset','>i2'),('length','>i2'),('area','>i4'),('peaks',(pulse_peak_dt,1))])\n",
    "data=np.copy(stream['data'])"
   ]
  },
  {
   "cell_type": "code",
   "execution_count": 227,
   "metadata": {
    "collapsed": false
   },
   "outputs": [],
   "source": [
    "pulses=data.view(pulse_dt)"
   ]
  },
  {
   "cell_type": "code",
   "execution_count": 233,
   "metadata": {
    "collapsed": false
   },
   "outputs": [
    {
     "data": {
      "text/plain": [
       "array([1784, 1784, 1784, 1784, 1784, 1784, 1784, 1784, 1784, 1784, 1784,\n",
       "       1784, 1784, 1784, 1784, 1784, 1784, 1784, 1784, 1784, 1784], dtype=int16)"
      ]
     },
     "execution_count": 233,
     "metadata": {},
     "output_type": "execute_result"
    }
   ],
   "source": [
    "pulses['peaks']['height']-pulses['peaks']['minima']"
   ]
  },
  {
   "cell_type": "code",
   "execution_count": 229,
   "metadata": {
    "collapsed": false
   },
   "outputs": [
    {
     "data": {
      "text/plain": [
       "array([-613, -613, -613, -613, -613, -613, -613, -613, -613, -613, -613,\n",
       "       -613, -613, -613, -613, -613, -613, -613, -613, -613, -613], dtype=int16)"
      ]
     },
     "execution_count": 229,
     "metadata": {},
     "output_type": "execute_result"
    }
   ],
   "source": [
    "pulses['peaks']['minima']"
   ]
  },
  {
   "cell_type": "code",
   "execution_count": 231,
   "metadata": {
    "collapsed": false
   },
   "outputs": [],
   "source": [
    "peak_count=np.right_shift(np.bitwise_and(pulses['flags'],0xF000),12)\n",
    "peak_overflow=np.bitwise_and(pulses['flags'],0x0800)!=0\n",
    "channel=np.right_shift(np.bitwise_and(pulses['flags'],0x0700),8)\n",
    "timing_type=np.right_shift(np.bitwise_and(pulses['flags'],0x00C0),6)\n",
    "height_type=np.right_shift(np.bitwise_and(pulses['flags'],0x0030),4)\n",
    "event_type=np.right_shift(np.bitwise_and(pulses['flags'],0x000E),1)\n",
    "new_window=np.bitwise_and(pulses['flags'],0x0001)!=0"
   ]
  },
  {
   "cell_type": "code",
   "execution_count": 232,
   "metadata": {
    "collapsed": false
   },
   "outputs": [
    {
     "data": {
      "text/plain": [
       "array([ True,  True,  True,  True,  True,  True,  True,  True,  True,\n",
       "        True,  True,  True,  True,  True,  True,  True,  True,  True,\n",
       "        True,  True,  True], dtype=bool)"
      ]
     },
     "execution_count": 232,
     "metadata": {},
     "output_type": "execute_result"
    }
   ],
   "source": [
    "peak_overflow"
   ]
  },
  {
   "cell_type": "code",
   "execution_count": 249,
   "metadata": {
    "collapsed": true
   },
   "outputs": [],
   "source": [
    "test_dt=np.dtype(\n",
    "    [('time','i2'),('flags','i2'),('rise','u2'),('minima','i2'),('low','u8'),('high','u8')]\n",
    ")\n",
    "test=data.view(test_dt)"
   ]
  },
  {
   "cell_type": "code",
   "execution_count": 250,
   "metadata": {
    "collapsed": false
   },
   "outputs": [
    {
     "data": {
      "text/plain": [
       "array([(0, -26616, 0, 768, 12114965573155161344, 10593596624145810688),\n",
       "       (0, -26616, 0, 768, 12114965573155161344, 10593596624145810688),\n",
       "       (0, -26616, 0, 768, 12114965573155161344, 10593596624145810688),\n",
       "       (0, -26616, 0, 768, 12114965573155161344, 10593596624145810688),\n",
       "       (0, -26616, 0, 768, 12114965573155161344, 10593596624145810688),\n",
       "       (0, -26616, 0, 768, 12114965573155161344, 10593596624145810688),\n",
       "       (0, -26616, 0, 768, 12114965573155161344, 10593596624145810688),\n",
       "       (0, -26616, 0, 768, 12114965573155161344, 10593596624145810688),\n",
       "       (0, -26616, 0, 768, 12114965573155161344, 10593596624145810688),\n",
       "       (0, -26616, 0, 768, 12114965573155161344, 10593596624145810688),\n",
       "       (0, -26616, 0, 768, 12114965573155161344, 10593596624145810688),\n",
       "       (0, -26616, 0, 768, 12114965573155161344, 10593596624145810688),\n",
       "       (0, -26616, 0, 768, 12114965573155161344, 10593596624145810688),\n",
       "       (0, -26616, 0, 768, 12114965573155161344, 10593596624145810688),\n",
       "       (0, -26616, 0, 768, 12114965573155161344, 10593596624145810688),\n",
       "       (0, -26616, 0, 768, 12114965573155161344, 10593596624145810688),\n",
       "       (0, -26616, 0, 768, 12114965573155161344, 10593596624145810688),\n",
       "       (0, -26616, 0, 768, 12114965573155161344, 10593596624145810688),\n",
       "       (0, -26616, 0, 768, 12114965573155161344, 10593596624145810688),\n",
       "       (0, -26616, 0, 768, 12114965573155161344, 10593596624145810688),\n",
       "       (0, -26616, 0, 768, 12114965573155161344, 10593596624145810688)], \n",
       "      dtype=[('time', '<i2'), ('flags', '<i2'), ('rise', '<u2'), ('minima', '<i2'), ('low', '<u8'), ('high', '<u8')])"
      ]
     },
     "execution_count": 250,
     "metadata": {},
     "output_type": "execute_result"
    }
   ],
   "source": [
    "test"
   ]
  },
  {
   "cell_type": "code",
   "execution_count": 270,
   "metadata": {
    "collapsed": false
   },
   "outputs": [
    {
     "data": {
      "text/plain": [
       "array([768, 768, 768, 768, 768, 768, 768, 768, 768, 768, 768, 768, 768,\n",
       "       768, 768, 768, 768, 768, 768, 768, 768], dtype=int16)"
      ]
     },
     "execution_count": 270,
     "metadata": {},
     "output_type": "execute_result"
    }
   ],
   "source": [
    "test['minima']"
   ]
  },
  {
   "cell_type": "code",
   "execution_count": 262,
   "metadata": {
    "collapsed": false
   },
   "outputs": [],
   "source": [
    "low1=np.int32(np.right_shift(np.bitwise_and(test['low'],0x03FFFF000000000),36))\n",
    "s=(np.bitwise_and(low1,0x00020000)!=0)*0xFFFC0000\n",
    "low2=np.int32(np.right_shift(np.bitwise_and(test['low'],0x000000FFFFC0000),18))\n",
    "low_threshold=np.int32(np.bitwise_and(test['low'],0x00000000003FFFF))\n",
    "high1=np.int32(np.right_shift(np.bitwise_and(test['high'],0x03FFFF000000000),36))\n",
    "high2=np.int32(np.right_shift(np.bitwise_and(test['high'],0x000000FFFFC0000),18))\n",
    "high_threshold=np.int32(np.bitwise_and(test['high'],0x00000000003FFFF))"
   ]
  },
  {
   "cell_type": "code",
   "execution_count": 266,
   "metadata": {
    "collapsed": false
   },
   "outputs": [
    {
     "data": {
      "text/plain": [
       "array([-15870., -15870., -15870., -15870., -15870., -15870., -15870.,\n",
       "       -15870., -15870., -15870., -15870., -15870., -15870., -15870.,\n",
       "       -15870., -15870., -15870., -15870., -15870., -15870., -15870.])"
      ]
     },
     "execution_count": 266,
     "metadata": {},
     "output_type": "execute_result"
    }
   ],
   "source": [
    "np.int32(np.bitwise_or(low1,s))/8.0"
   ]
  },
  {
   "cell_type": "code",
   "execution_count": 269,
   "metadata": {
    "collapsed": false
   },
   "outputs": [
    {
     "data": {
      "text/plain": [
       "'21010'"
      ]
     },
     "execution_count": 269,
     "metadata": {},
     "output_type": "execute_result"
    }
   ],
   "source": [
    "'{:04X}'.format(low1[0])"
   ]
  },
  {
   "cell_type": "code",
   "execution_count": 243,
   "metadata": {
    "collapsed": false
   },
   "outputs": [
    {
     "data": {
      "text/plain": [
       "array([ 2056.,  2056.,  2056.,  2056.,  2056.,  2056.,  2056.,  2056.,\n",
       "        2056.,  2056.,  2056.,  2056.,  2056.,  2056.,  2056.,  2056.,\n",
       "        2056.,  2056.,  2056.,  2056.,  2056.])"
      ]
     },
     "execution_count": 243,
     "metadata": {},
     "output_type": "execute_result"
    }
   ],
   "source": [
    "high1/8.0"
   ]
  },
  {
   "cell_type": "code",
   "execution_count": 244,
   "metadata": {
    "collapsed": false
   },
   "outputs": [
    {
     "data": {
      "text/plain": [
       "array([ 1247.875,  1247.875,  1247.875,  1247.875,  1247.875,  1247.875,\n",
       "        1247.875,  1247.875,  1247.875,  1247.875,  1247.875,  1247.875,\n",
       "        1247.875,  1247.875,  1247.875,  1247.875,  1247.875,  1247.875,\n",
       "        1247.875,  1247.875,  1247.875])"
      ]
     },
     "execution_count": 244,
     "metadata": {},
     "output_type": "execute_result"
    }
   ],
   "source": [
    "high2/8.0"
   ]
  },
  {
   "cell_type": "code",
   "execution_count": 272,
   "metadata": {
    "collapsed": false
   },
   "outputs": [
    {
     "data": {
      "text/plain": [
       "array([1280, 1280, 1280, 1280, 1280, 1280, 1280, 1280, 1280, 1280, 1280,\n",
       "       1280, 1280, 1280, 1280, 1280, 1280, 1280, 1280, 1280, 1280])"
      ]
     },
     "execution_count": 272,
     "metadata": {},
     "output_type": "execute_result"
    }
   ],
   "source": [
    "low_threshold[0]"
   ]
  },
  {
   "cell_type": "code",
   "execution_count": null,
   "metadata": {
    "collapsed": true
   },
   "outputs": [],
   "source": []
  }
 ],
 "metadata": {
  "anaconda-cloud": {},
  "kernelspec": {
   "display_name": "Python [default]",
   "language": "python",
   "name": "python3"
  },
  "language_info": {
   "codemirror_mode": {
    "name": "ipython",
    "version": 3
   },
   "file_extension": ".py",
   "mimetype": "text/x-python",
   "name": "python",
   "nbconvert_exporter": "python",
   "pygments_lexer": "ipython3",
   "version": "3.5.2"
  }
 },
 "nbformat": 4,
 "nbformat_minor": 1
}
