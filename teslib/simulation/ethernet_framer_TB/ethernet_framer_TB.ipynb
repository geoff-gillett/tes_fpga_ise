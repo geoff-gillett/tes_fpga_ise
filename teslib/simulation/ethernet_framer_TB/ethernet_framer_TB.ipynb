{
 "cells": [
  {
   "cell_type": "code",
   "execution_count": 40,
   "metadata": {
    "collapsed": false
   },
   "outputs": [],
   "source": [
    "import tes.mca as mca\n",
    "from tes.base import Timing, Event, Height\n",
    "import numpy as np\n",
    "import matplotlib.pyplot as plt\n",
    "from tes.data import Data,PacketStream,Packet,Payload,EventFlags,Event\n",
    "stream_dt=np.dtype([('data','i4'),('last','i4')])"
   ]
  },
  {
   "cell_type": "code",
   "execution_count": 82,
   "metadata": {
    "collapsed": false
   },
   "outputs": [],
   "source": [
    "stream=Data.fromfile('bytestream',stream_dt,'teslib','ethernet_framer_TB',tool='vivado')"
   ]
  },
  {
   "cell_type": "code",
   "execution_count": 83,
   "metadata": {
    "collapsed": false
   },
   "outputs": [],
   "source": [
    "ps=PacketStream(stream)"
   ]
  },
  {
   "cell_type": "code",
   "execution_count": 84,
   "metadata": {
    "collapsed": false
   },
   "outputs": [
    {
     "data": {
      "text/plain": [
       "[ethertype:88B6 length:128 Payload:MCA frame:0 protocol:0,\n",
       " ethertype:88B6 length:1496 Payload:MCA frame:1 protocol:1,\n",
       " ethertype:88B6 length:1496 Payload:MCA frame:2 protocol:2,\n",
       " ethertype:88B6 length:1496 Payload:MCA frame:3 protocol:3,\n",
       " ethertype:88B6 length:1496 Payload:MCA frame:4 protocol:4,\n",
       " ethertype:88B6 length:1496 Payload:MCA frame:5 protocol:5,\n",
       " ethertype:88B6 length:1496 Payload:MCA frame:6 protocol:6,\n",
       " ethertype:88B6 length:1496 Payload:MCA frame:7 protocol:7,\n",
       " ethertype:88B6 length:1496 Payload:MCA frame:8 protocol:8,\n",
       " ethertype:88B6 length:1496 Payload:MCA frame:9 protocol:9,\n",
       " ethertype:88B6 length:1496 Payload:MCA frame:10 protocol:10,\n",
       " ethertype:88B6 length:1496 Payload:MCA frame:11 protocol:11,\n",
       " ethertype:88B6 length:120 Payload:MCA frame:12 protocol:12,\n",
       " ethertype:88B6 length:1496 Payload:MCA frame:13 protocol:0,\n",
       " ethertype:88B6 length:1496 Payload:MCA frame:14 protocol:1,\n",
       " ethertype:88B6 length:1496 Payload:MCA frame:15 protocol:2,\n",
       " ethertype:88B6 length:1496 Payload:MCA frame:16 protocol:3,\n",
       " ethertype:88B6 length:1432 Payload:MCA frame:17 protocol:4,\n",
       " ethertype:88B5 length:48 Payload:tick frame:18 protocol:0,\n",
       " ethertype:88B5 length:1496 Payload:peak frame:19 protocol:1,\n",
       " ethertype:88B5 length:1496 Payload:peak frame:20 protocol:2,\n",
       " ethertype:88B5 length:1496 Payload:peak frame:21 protocol:3,\n",
       " ethertype:88B5 length:1496 Payload:peak frame:22 protocol:4,\n",
       " ethertype:88B5 length:1496 Payload:peak frame:23 protocol:5,\n",
       " ethertype:88B5 length:1496 Payload:peak frame:24 protocol:6,\n",
       " ethertype:88B5 length:1496 Payload:peak frame:25 protocol:7,\n",
       " ethertype:88B5 length:1496 Payload:peak frame:26 protocol:8,\n",
       " ethertype:88B5 length:1112 Payload:peak frame:27 protocol:9,\n",
       " ethertype:88B5 length:48 Payload:tick frame:28 protocol:10,\n",
       " ethertype:88B5 length:1496 Payload:peak frame:29 protocol:11,\n",
       " ethertype:88B5 length:1496 Payload:peak frame:30 protocol:12,\n",
       " ethertype:88B5 length:1496 Payload:peak frame:31 protocol:13,\n",
       " ethertype:88B5 length:1496 Payload:peak frame:32 protocol:14,\n",
       " ethertype:88B5 length:1496 Payload:peak frame:33 protocol:15,\n",
       " ethertype:88B5 length:1496 Payload:peak frame:34 protocol:16,\n",
       " ethertype:88B5 length:1496 Payload:peak frame:35 protocol:17,\n",
       " ethertype:88B5 length:1496 Payload:peak frame:36 protocol:18,\n",
       " ethertype:88B5 length:504 Payload:peak frame:37 protocol:19,\n",
       " ethertype:88B5 length:48 Payload:tick frame:38 protocol:20,\n",
       " ethertype:88B5 length:1496 Payload:peak frame:39 protocol:21,\n",
       " ethertype:88B5 length:1496 Payload:peak frame:40 protocol:22,\n",
       " ethertype:88B5 length:1496 Payload:peak frame:41 protocol:23,\n",
       " ethertype:88B5 length:1496 Payload:peak frame:42 protocol:24,\n",
       " ethertype:88B5 length:1496 Payload:peak frame:43 protocol:25,\n",
       " ethertype:88B5 length:1496 Payload:peak frame:44 protocol:26,\n",
       " ethertype:88B5 length:1496 Payload:peak frame:45 protocol:27,\n",
       " ethertype:88B5 length:1496 Payload:peak frame:46 protocol:28,\n",
       " ethertype:88B5 length:488 Payload:peak frame:47 protocol:29,\n",
       " ethertype:88B5 length:48 Payload:tick frame:48 protocol:30,\n",
       " ethertype:88B5 length:1496 Payload:peak frame:49 protocol:31,\n",
       " ethertype:88B5 length:1496 Payload:peak frame:50 protocol:32,\n",
       " ethertype:88B5 length:1496 Payload:peak frame:51 protocol:33,\n",
       " ethertype:88B5 length:1496 Payload:peak frame:52 protocol:34,\n",
       " ethertype:88B5 length:1496 Payload:peak frame:53 protocol:35,\n",
       " ethertype:88B5 length:1496 Payload:peak frame:54 protocol:36,\n",
       " ethertype:88B5 length:1496 Payload:peak frame:55 protocol:37,\n",
       " ethertype:88B5 length:1496 Payload:peak frame:56 protocol:38,\n",
       " ethertype:88B5 length:480 Payload:peak frame:57 protocol:39,\n",
       " ethertype:88B5 length:48 Payload:tick frame:58 protocol:40,\n",
       " ethertype:88B5 length:1496 Payload:peak frame:59 protocol:41,\n",
       " ethertype:88B5 length:1496 Payload:peak frame:60 protocol:42,\n",
       " ethertype:88B5 length:1496 Payload:peak frame:61 protocol:43,\n",
       " ethertype:88B5 length:1496 Payload:peak frame:62 protocol:44,\n",
       " ethertype:88B5 length:1496 Payload:peak frame:63 protocol:45,\n",
       " ethertype:88B5 length:1496 Payload:peak frame:64 protocol:46,\n",
       " ethertype:88B5 length:1496 Payload:peak frame:65 protocol:47,\n",
       " ethertype:88B5 length:1496 Payload:peak frame:66 protocol:48,\n",
       " ethertype:88B5 length:488 Payload:peak frame:67 protocol:49,\n",
       " ethertype:88B5 length:48 Payload:tick frame:68 protocol:50,\n",
       " ethertype:88B5 length:1496 Payload:peak frame:69 protocol:51,\n",
       " ethertype:88B5 length:1496 Payload:peak frame:70 protocol:52,\n",
       " ethertype:88B5 length:1496 Payload:peak frame:71 protocol:53,\n",
       " ethertype:88B5 length:1496 Payload:peak frame:72 protocol:54,\n",
       " ethertype:88B5 length:1496 Payload:peak frame:73 protocol:55,\n",
       " ethertype:88B5 length:1496 Payload:peak frame:74 protocol:56,\n",
       " ethertype:88B5 length:1496 Payload:peak frame:75 protocol:57,\n",
       " ethertype:88B5 length:1496 Payload:peak frame:76 protocol:58,\n",
       " ethertype:88B5 length:488 Payload:peak frame:77 protocol:59,\n",
       " ethertype:88B5 length:48 Payload:tick frame:78 protocol:60,\n",
       " ethertype:88B5 length:1496 Payload:peak frame:79 protocol:61,\n",
       " ethertype:88B5 length:1496 Payload:peak frame:80 protocol:62,\n",
       " ethertype:88B5 length:1496 Payload:peak frame:81 protocol:63,\n",
       " ethertype:88B5 length:1496 Payload:peak frame:82 protocol:64,\n",
       " ethertype:88B5 length:1496 Payload:peak frame:83 protocol:65,\n",
       " ethertype:88B5 length:1496 Payload:peak frame:84 protocol:66,\n",
       " ethertype:88B5 length:1496 Payload:peak frame:85 protocol:67,\n",
       " ethertype:88B5 length:1496 Payload:peak frame:86 protocol:68,\n",
       " ethertype:88B5 length:480 Payload:peak frame:87 protocol:69,\n",
       " ethertype:88B5 length:48 Payload:tick frame:88 protocol:70,\n",
       " ethertype:88B5 length:1496 Payload:peak frame:89 protocol:71,\n",
       " ethertype:88B5 length:1496 Payload:peak frame:90 protocol:72,\n",
       " ethertype:88B5 length:1496 Payload:peak frame:91 protocol:73,\n",
       " ethertype:88B5 length:1496 Payload:peak frame:92 protocol:74,\n",
       " ethertype:88B5 length:1496 Payload:peak frame:93 protocol:75,\n",
       " ethertype:88B5 length:1496 Payload:peak frame:94 protocol:76,\n",
       " ethertype:88B5 length:1496 Payload:peak frame:95 protocol:77,\n",
       " ethertype:88B5 length:1496 Payload:peak frame:96 protocol:78,\n",
       " ethertype:88B5 length:480 Payload:peak frame:97 protocol:79,\n",
       " ethertype:88B5 length:48 Payload:tick frame:98 protocol:80,\n",
       " ethertype:88B5 length:1496 Payload:peak frame:99 protocol:81,\n",
       " ethertype:88B5 length:1496 Payload:peak frame:100 protocol:82,\n",
       " ethertype:88B5 length:1496 Payload:peak frame:101 protocol:83,\n",
       " ethertype:88B5 length:1496 Payload:peak frame:102 protocol:84,\n",
       " ethertype:88B5 length:1496 Payload:peak frame:103 protocol:85,\n",
       " ethertype:88B5 length:1496 Payload:peak frame:104 protocol:86,\n",
       " ethertype:88B5 length:1496 Payload:peak frame:105 protocol:87,\n",
       " ethertype:88B5 length:1496 Payload:peak frame:106 protocol:88,\n",
       " ethertype:88B5 length:488 Payload:peak frame:107 protocol:89,\n",
       " ethertype:88B5 length:48 Payload:tick frame:108 protocol:90,\n",
       " ethertype:88B5 length:1496 Payload:peak frame:109 protocol:91,\n",
       " ethertype:88B5 length:1496 Payload:peak frame:110 protocol:92,\n",
       " ethertype:88B5 length:1496 Payload:peak frame:111 protocol:93,\n",
       " ethertype:88B5 length:1496 Payload:peak frame:112 protocol:94,\n",
       " ethertype:88B5 length:1496 Payload:peak frame:113 protocol:95,\n",
       " ethertype:88B5 length:1496 Payload:peak frame:114 protocol:96,\n",
       " ethertype:88B5 length:1496 Payload:peak frame:115 protocol:97,\n",
       " ethertype:88B5 length:1496 Payload:peak frame:116 protocol:98,\n",
       " ethertype:88B5 length:480 Payload:peak frame:117 protocol:99,\n",
       " ethertype:88B5 length:48 Payload:tick frame:118 protocol:100,\n",
       " ethertype:88B5 length:1496 Payload:peak frame:119 protocol:101,\n",
       " ethertype:88B5 length:1496 Payload:peak frame:120 protocol:102,\n",
       " ethertype:88B5 length:1496 Payload:peak frame:121 protocol:103,\n",
       " ethertype:88B5 length:1496 Payload:peak frame:122 protocol:104,\n",
       " ethertype:88B5 length:1496 Payload:peak frame:123 protocol:105,\n",
       " ethertype:88B5 length:1496 Payload:peak frame:124 protocol:106,\n",
       " ethertype:88B5 length:1496 Payload:peak frame:125 protocol:107,\n",
       " ethertype:88B5 length:1496 Payload:peak frame:126 protocol:108,\n",
       " ethertype:88B5 length:488 Payload:peak frame:127 protocol:109,\n",
       " ethertype:88B5 length:48 Payload:tick frame:128 protocol:110,\n",
       " ethertype:88B5 length:1496 Payload:peak frame:129 protocol:111,\n",
       " ethertype:88B5 length:1496 Payload:peak frame:130 protocol:112,\n",
       " ethertype:88B5 length:1496 Payload:peak frame:131 protocol:113,\n",
       " ethertype:88B5 length:1496 Payload:peak frame:132 protocol:114,\n",
       " ethertype:88B5 length:1496 Payload:peak frame:133 protocol:115,\n",
       " ethertype:88B5 length:1496 Payload:peak frame:134 protocol:116,\n",
       " ethertype:88B5 length:1496 Payload:peak frame:135 protocol:117,\n",
       " ethertype:88B5 length:1496 Payload:peak frame:136 protocol:118,\n",
       " ethertype:88B5 length:488 Payload:peak frame:137 protocol:119,\n",
       " ethertype:88B5 length:48 Payload:tick frame:138 protocol:120,\n",
       " ethertype:88B5 length:1496 Payload:peak frame:139 protocol:121,\n",
       " ethertype:88B5 length:1496 Payload:peak frame:140 protocol:122,\n",
       " ethertype:88B5 length:1496 Payload:peak frame:141 protocol:123,\n",
       " ethertype:88B5 length:1496 Payload:peak frame:142 protocol:124,\n",
       " ethertype:88B5 length:1496 Payload:peak frame:143 protocol:125,\n",
       " ethertype:88B5 length:1496 Payload:peak frame:144 protocol:126,\n",
       " ethertype:88B5 length:1496 Payload:peak frame:145 protocol:127,\n",
       " ethertype:88B5 length:1496 Payload:peak frame:146 protocol:128,\n",
       " ethertype:88B5 length:480 Payload:peak frame:147 protocol:129,\n",
       " ethertype:88B5 length:48 Payload:tick frame:148 protocol:130,\n",
       " ethertype:88B5 length:1496 Payload:peak frame:149 protocol:131,\n",
       " ethertype:88B5 length:1496 Payload:peak frame:150 protocol:132,\n",
       " ethertype:88B5 length:1496 Payload:peak frame:151 protocol:133,\n",
       " ethertype:88B5 length:1496 Payload:peak frame:152 protocol:134,\n",
       " ethertype:88B5 length:1496 Payload:peak frame:153 protocol:135,\n",
       " ethertype:88B5 length:1496 Payload:peak frame:154 protocol:136,\n",
       " ethertype:88B5 length:1496 Payload:peak frame:155 protocol:137,\n",
       " ethertype:88B5 length:1496 Payload:peak frame:156 protocol:138,\n",
       " ethertype:88B5 length:480 Payload:peak frame:157 protocol:139,\n",
       " ethertype:88B5 length:48 Payload:tick frame:158 protocol:140,\n",
       " ethertype:88B5 length:1496 Payload:peak frame:159 protocol:141,\n",
       " ethertype:88B5 length:1496 Payload:peak frame:160 protocol:142,\n",
       " ethertype:88B5 length:1496 Payload:peak frame:161 protocol:143,\n",
       " ethertype:88B5 length:1496 Payload:peak frame:162 protocol:144,\n",
       " ethertype:88B5 length:1496 Payload:peak frame:163 protocol:145,\n",
       " ethertype:88B5 length:1496 Payload:peak frame:164 protocol:146,\n",
       " ethertype:88B5 length:1496 Payload:peak frame:165 protocol:147,\n",
       " ethertype:88B5 length:1496 Payload:peak frame:166 protocol:148,\n",
       " ethertype:88B5 length:488 Payload:peak frame:167 protocol:149,\n",
       " ethertype:88B5 length:48 Payload:tick frame:168 protocol:150,\n",
       " ethertype:88B5 length:1496 Payload:peak frame:169 protocol:151,\n",
       " ethertype:88B5 length:1496 Payload:peak frame:170 protocol:152,\n",
       " ethertype:88B5 length:1496 Payload:peak frame:171 protocol:153,\n",
       " ethertype:88B5 length:1496 Payload:peak frame:172 protocol:154,\n",
       " ethertype:88B5 length:1496 Payload:peak frame:173 protocol:155,\n",
       " ethertype:88B5 length:1496 Payload:peak frame:174 protocol:156,\n",
       " ethertype:88B5 length:1496 Payload:peak frame:175 protocol:157,\n",
       " ethertype:88B5 length:1496 Payload:peak frame:176 protocol:158,\n",
       " ethertype:88B5 length:480 Payload:peak frame:177 protocol:159,\n",
       " ethertype:88B5 length:48 Payload:tick frame:178 protocol:160,\n",
       " ethertype:88B5 length:1496 Payload:peak frame:179 protocol:161,\n",
       " ethertype:88B5 length:1496 Payload:peak frame:180 protocol:162,\n",
       " ethertype:88B5 length:1496 Payload:peak frame:181 protocol:163,\n",
       " ethertype:88B5 length:1496 Payload:peak frame:182 protocol:164,\n",
       " ethertype:88B5 length:1496 Payload:peak frame:183 protocol:165,\n",
       " ethertype:88B5 length:1496 Payload:peak frame:184 protocol:166,\n",
       " ethertype:88B5 length:1496 Payload:peak frame:185 protocol:167,\n",
       " ethertype:88B5 length:1496 Payload:peak frame:186 protocol:168,\n",
       " ethertype:88B5 length:488 Payload:peak frame:187 protocol:169,\n",
       " ethertype:88B5 length:48 Payload:tick frame:188 protocol:170,\n",
       " ethertype:88B5 length:1496 Payload:peak frame:189 protocol:171,\n",
       " ethertype:88B5 length:1496 Payload:peak frame:190 protocol:172,\n",
       " ethertype:88B5 length:1496 Payload:peak frame:191 protocol:173,\n",
       " ethertype:88B5 length:1496 Payload:peak frame:192 protocol:174,\n",
       " ethertype:88B5 length:1496 Payload:peak frame:193 protocol:175,\n",
       " ethertype:88B5 length:1496 Payload:peak frame:194 protocol:176,\n",
       " ethertype:88B5 length:1496 Payload:peak frame:195 protocol:177,\n",
       " ethertype:88B5 length:1496 Payload:peak frame:196 protocol:178,\n",
       " ethertype:88B5 length:488 Payload:peak frame:197 protocol:179,\n",
       " ethertype:88B5 length:48 Payload:tick frame:198 protocol:180]"
      ]
     },
     "execution_count": 84,
     "metadata": {},
     "output_type": "execute_result"
    }
   ],
   "source": [
    "ps.packets"
   ]
  },
  {
   "cell_type": "code",
   "execution_count": 57,
   "metadata": {
    "collapsed": false
   },
   "outputs": [
    {
     "name": "stdout",
     "output_type": "stream",
     "text": [
      "Unknown ethertype:300\n",
      "Unknown ethertype:300\n",
      "Unknown ethertype:300\n",
      "Unknown ethertype:300\n",
      "Unknown ethertype:300\n",
      "Unknown ethertype:300\n",
      "Unknown ethertype:300\n",
      "Unknown ethertype:300\n",
      "Unknown ethertype:300\n",
      "Unknown ethertype:300\n",
      "Unknown ethertype:300\n",
      "Unknown ethertype:300\n"
     ]
    }
   ],
   "source": [
    "ops=PacketStream('../../../../new traces/feb10/pulse_feb10.pcapng')"
   ]
  },
  {
   "cell_type": "code",
   "execution_count": 97,
   "metadata": {
    "collapsed": false
   },
   "outputs": [
    {
     "data": {
      "text/plain": [
       "ethertype:88B5 length:32 Payload:peak frame:17997 protocol:341"
      ]
     },
     "execution_count": 97,
     "metadata": {},
     "output_type": "execute_result"
    }
   ],
   "source": [
    "ops.packets[42873]"
   ]
  },
  {
   "cell_type": "code",
   "execution_count": 5,
   "metadata": {
    "collapsed": false
   },
   "outputs": [
    {
     "ename": "TypeError",
     "evalue": "'NoneType' object is not iterable",
     "output_type": "error",
     "traceback": [
      "\u001b[0;31m---------------------------------------------------------------------------\u001b[0m",
      "\u001b[0;31mTypeError\u001b[0m                                 Traceback (most recent call last)",
      "\u001b[0;32m<ipython-input-5-4e18c66a7c08>\u001b[0m in \u001b[0;36m<module>\u001b[0;34m()\u001b[0m\n\u001b[0;32m----> 1\u001b[0;31m \u001b[1;32mfor\u001b[0m \u001b[0mp\u001b[0m \u001b[1;32min\u001b[0m \u001b[0mps\u001b[0m\u001b[1;33m.\u001b[0m\u001b[0mpackets\u001b[0m\u001b[1;33m:\u001b[0m\u001b[1;33m\u001b[0m\u001b[0m\n\u001b[0m\u001b[1;32m      2\u001b[0m     \u001b[1;32mif\u001b[0m \u001b[0mp\u001b[0m\u001b[1;33m.\u001b[0m\u001b[0mlength\u001b[0m \u001b[1;33m!=\u001b[0m \u001b[0mlen\u001b[0m\u001b[1;33m(\u001b[0m\u001b[0mp\u001b[0m\u001b[1;33m.\u001b[0m\u001b[0mpayload\u001b[0m\u001b[1;33m)\u001b[0m\u001b[1;33m+\u001b[0m\u001b[1;36m24\u001b[0m\u001b[1;33m:\u001b[0m\u001b[1;33m\u001b[0m\u001b[0m\n\u001b[1;32m      3\u001b[0m         print('frame:{:} len:{:} payload:{:} prot:{:}'.format(\n\u001b[1;32m      4\u001b[0m             p.frame_sequence,p.length,len(p.payload)+24,p.protocol_sequence))\n",
      "\u001b[0;31mTypeError\u001b[0m: 'NoneType' object is not iterable"
     ]
    }
   ],
   "source": [
    "\n",
    "for p in ps.packets:\n",
    "    if p.length != len(p.payload)+24:\n",
    "        print('frame:{:} len:{:} payload:{:} prot:{:}'.format(\n",
    "            p.frame_sequence,p.length,len(p.payload)+24,p.protocol_sequence))"
   ]
  },
  {
   "cell_type": "code",
   "execution_count": null,
   "metadata": {
    "collapsed": false
   },
   "outputs": [],
   "source": [
    "last_seq=-1\n",
    "for p in ps.packets:\n",
    "    if p.frame_sequence != last_seq+1:\n",
    "        print('sequence error:{:}'.format(last_seq+1))\n",
    "    last_seq=p.frame_sequence\n"
   ]
  },
  {
   "cell_type": "code",
   "execution_count": null,
   "metadata": {
    "collapsed": false
   },
   "outputs": [],
   "source": [
    "ps.packets[82].payload.view(np.uint64).byteswap()"
   ]
  },
  {
   "cell_type": "code",
   "execution_count": null,
   "metadata": {
    "collapsed": false
   },
   "outputs": [],
   "source": [
    "len(ps.packets[770].payload)"
   ]
  },
  {
   "cell_type": "code",
   "execution_count": null,
   "metadata": {
    "collapsed": true
   },
   "outputs": [],
   "source": []
  }
 ],
 "metadata": {
  "kernelspec": {
   "display_name": "Python [default]",
   "language": "python",
   "name": "python3"
  },
  "language_info": {
   "codemirror_mode": {
    "name": "ipython",
    "version": 3
   },
   "file_extension": ".py",
   "mimetype": "text/x-python",
   "name": "python",
   "nbconvert_exporter": "python",
   "pygments_lexer": "ipython3",
   "version": "3.5.2"
  }
 },
 "nbformat": 4,
 "nbformat_minor": 0
}
