{
 "cells": [
  {
   "cell_type": "code",
   "execution_count": 124,
   "metadata": {
    "collapsed": false
   },
   "outputs": [],
   "source": [
    "import sys\n",
    "import tes.simulation.data as sim\n",
    "from tes.simulation.data import PacketStream, Data, Distribution\n",
    "from tes.simulation.filesets import measurement_overflow_TB as fileset\n",
    "import tes.simulation.plot as splt\n",
    "import numpy as np\n",
    "import matplotlib.pyplot as plt\n",
    "import math\n",
    "import collections"
   ]
  },
  {
   "cell_type": "code",
   "execution_count": 125,
   "metadata": {
    "collapsed": false
   },
   "outputs": [],
   "source": [
    "data=Data(fileset, 8, 'teslib','measurement_overflow_TB')\n",
    "enet=PacketStream(data.byte_stream)\n",
    "dists=enet.distributions"
   ]
  },
  {
   "cell_type": "code",
   "execution_count": null,
   "metadata": {
    "collapsed": false
   },
   "outputs": [],
   "source": [
    "# compare transmitted distributions with the data\n",
    "failed=False\n",
    "if dists == []:\n",
    "    print('No distributions')\n",
    "else:\n",
    "    for dist in dists:\n",
    "        dif = (dist.counts - dist.data_counts(data))[0].nonzero()\n",
    "        if dif[0].size:\n",
    "            print('{:}\\nDoes not reconcile with the data, Differences at {:d} indexs:\\n{:}\\n'.format(\n",
    "                    dist, dif[0].size, dif[0]))\n",
    "            failed=True\n",
    "    if not failed:\n",
    "        print('Distributions agree with data')\n",
    "    \n"
   ]
  },
  {
   "cell_type": "markdown",
   "metadata": {},
   "source": [
    " ## work area"
   ]
  },
  {
   "cell_type": "code",
   "execution_count": 126,
   "metadata": {
    "collapsed": false,
    "scrolled": false
   },
   "outputs": [
    {
     "data": {
      "text/plain": [
       "[ethertype:88B5 length:48 Payload:tick frame:0 protocol:0,\n",
       " ethertype:88B5 length:216 Payload:area frame:1 protocol:1,\n",
       " ethertype:88B5 length:48 Payload:tick frame:2 protocol:2,\n",
       " ethertype:88B5 length:216 Payload:area frame:3 protocol:3,\n",
       " ethertype:88B5 length:48 Payload:tick frame:4 protocol:4,\n",
       " ethertype:88B5 length:248 Payload:area frame:5 protocol:5,\n",
       " ethertype:88B5 length:48 Payload:tick frame:6 protocol:6,\n",
       " ethertype:88B5 length:184 Payload:area frame:7 protocol:7,\n",
       " ethertype:88B5 length:48 Payload:tick frame:8 protocol:8,\n",
       " ethertype:88B5 length:224 Payload:area frame:9 protocol:9,\n",
       " ethertype:88B5 length:48 Payload:tick frame:10 protocol:10]"
      ]
     },
     "execution_count": 126,
     "metadata": {},
     "output_type": "execute_result"
    }
   ],
   "source": [
    "enet.packets"
   ]
  },
  {
   "cell_type": "code",
   "execution_count": 131,
   "metadata": {
    "collapsed": false
   },
   "outputs": [
    {
     "name": "stderr",
     "output_type": "stream",
     "text": [
      "C:\\Miniconda3\\lib\\site-packages\\ipykernel\\__main__.py:1: VisibleDeprecationWarning: boolean index did not match indexed array along dimension 0; dimension is 24 but corresponding boolean dimension is 25\n",
      "  if __name__ == '__main__':\n"
     ]
    },
    {
     "data": {
      "text/plain": [
       "array([ 1064,  1084,  3010,  3051,  3805,  6055, 10754, 12154, 12374,\n",
       "       13386, 15094, 16267], dtype=uint32)"
      ]
     },
     "execution_count": 131,
     "metadata": {},
     "output_type": "execute_result"
    }
   ],
   "source": [
    "(np.cumsum(enet.packets[1].events['time'])+2)[chan_mask]"
   ]
  },
  {
   "cell_type": "code",
   "execution_count": 132,
   "metadata": {
    "collapsed": false
   },
   "outputs": [
    {
     "name": "stderr",
     "output_type": "stream",
     "text": [
      "C:\\Miniconda3\\lib\\site-packages\\ipykernel\\__main__.py:1: VisibleDeprecationWarning: boolean index did not match indexed array along dimension 0; dimension is 24 but corresponding boolean dimension is 25\n",
      "  if __name__ == '__main__':\n"
     ]
    },
    {
     "data": {
      "text/plain": [
       "array([ 607937,  638376,  342406,  495549,  945941,  434191,  812937,\n",
       "        643708, 1110337,  314593,  555769,  648803], dtype=uint32)"
      ]
     },
     "execution_count": 132,
     "metadata": {},
     "output_type": "execute_result"
    }
   ],
   "source": [
    "enet.packets[1].events['area'][chan_mask]"
   ]
  },
  {
   "cell_type": "code",
   "execution_count": 130,
   "metadata": {
    "collapsed": false
   },
   "outputs": [
    {
     "name": "stdout",
     "output_type": "stream",
     "text": [
      "2\n"
     ]
    },
    {
     "data": {
      "application/javascript": [
       "/* Put everything inside the global mpl namespace */\n",
       "window.mpl = {};\n",
       "\n",
       "mpl.get_websocket_type = function() {\n",
       "    if (typeof(WebSocket) !== 'undefined') {\n",
       "        return WebSocket;\n",
       "    } else if (typeof(MozWebSocket) !== 'undefined') {\n",
       "        return MozWebSocket;\n",
       "    } else {\n",
       "        alert('Your browser does not have WebSocket support.' +\n",
       "              'Please try Chrome, Safari or Firefox ≥ 6. ' +\n",
       "              'Firefox 4 and 5 are also supported but you ' +\n",
       "              'have to enable WebSockets in about:config.');\n",
       "    };\n",
       "}\n",
       "\n",
       "mpl.figure = function(figure_id, websocket, ondownload, parent_element) {\n",
       "    this.id = figure_id;\n",
       "\n",
       "    this.ws = websocket;\n",
       "\n",
       "    this.supports_binary = (this.ws.binaryType != undefined);\n",
       "\n",
       "    if (!this.supports_binary) {\n",
       "        var warnings = document.getElementById(\"mpl-warnings\");\n",
       "        if (warnings) {\n",
       "            warnings.style.display = 'block';\n",
       "            warnings.textContent = (\n",
       "                \"This browser does not support binary websocket messages. \" +\n",
       "                    \"Performance may be slow.\");\n",
       "        }\n",
       "    }\n",
       "\n",
       "    this.imageObj = new Image();\n",
       "\n",
       "    this.context = undefined;\n",
       "    this.message = undefined;\n",
       "    this.canvas = undefined;\n",
       "    this.rubberband_canvas = undefined;\n",
       "    this.rubberband_context = undefined;\n",
       "    this.format_dropdown = undefined;\n",
       "\n",
       "    this.image_mode = 'full';\n",
       "\n",
       "    this.root = $('<div/>');\n",
       "    this._root_extra_style(this.root)\n",
       "    this.root.attr('style', 'display: inline-block');\n",
       "\n",
       "    $(parent_element).append(this.root);\n",
       "\n",
       "    this._init_header(this);\n",
       "    this._init_canvas(this);\n",
       "    this._init_toolbar(this);\n",
       "\n",
       "    var fig = this;\n",
       "\n",
       "    this.waiting = false;\n",
       "\n",
       "    this.ws.onopen =  function () {\n",
       "            fig.send_message(\"supports_binary\", {value: fig.supports_binary});\n",
       "            fig.send_message(\"send_image_mode\", {});\n",
       "            fig.send_message(\"refresh\", {});\n",
       "        }\n",
       "\n",
       "    this.imageObj.onload = function() {\n",
       "            if (fig.image_mode == 'full') {\n",
       "                // Full images could contain transparency (where diff images\n",
       "                // almost always do), so we need to clear the canvas so that\n",
       "                // there is no ghosting.\n",
       "                fig.context.clearRect(0, 0, fig.canvas.width, fig.canvas.height);\n",
       "            }\n",
       "            fig.context.drawImage(fig.imageObj, 0, 0);\n",
       "        };\n",
       "\n",
       "    this.imageObj.onunload = function() {\n",
       "        this.ws.close();\n",
       "    }\n",
       "\n",
       "    this.ws.onmessage = this._make_on_message_function(this);\n",
       "\n",
       "    this.ondownload = ondownload;\n",
       "}\n",
       "\n",
       "mpl.figure.prototype._init_header = function() {\n",
       "    var titlebar = $(\n",
       "        '<div class=\"ui-dialog-titlebar ui-widget-header ui-corner-all ' +\n",
       "        'ui-helper-clearfix\"/>');\n",
       "    var titletext = $(\n",
       "        '<div class=\"ui-dialog-title\" style=\"width: 100%; ' +\n",
       "        'text-align: center; padding: 3px;\"/>');\n",
       "    titlebar.append(titletext)\n",
       "    this.root.append(titlebar);\n",
       "    this.header = titletext[0];\n",
       "}\n",
       "\n",
       "\n",
       "\n",
       "mpl.figure.prototype._canvas_extra_style = function(canvas_div) {\n",
       "\n",
       "}\n",
       "\n",
       "\n",
       "mpl.figure.prototype._root_extra_style = function(canvas_div) {\n",
       "\n",
       "}\n",
       "\n",
       "mpl.figure.prototype._init_canvas = function() {\n",
       "    var fig = this;\n",
       "\n",
       "    var canvas_div = $('<div/>');\n",
       "\n",
       "    canvas_div.attr('style', 'position: relative; clear: both; outline: 0');\n",
       "\n",
       "    function canvas_keyboard_event(event) {\n",
       "        return fig.key_event(event, event['data']);\n",
       "    }\n",
       "\n",
       "    canvas_div.keydown('key_press', canvas_keyboard_event);\n",
       "    canvas_div.keyup('key_release', canvas_keyboard_event);\n",
       "    this.canvas_div = canvas_div\n",
       "    this._canvas_extra_style(canvas_div)\n",
       "    this.root.append(canvas_div);\n",
       "\n",
       "    var canvas = $('<canvas/>');\n",
       "    canvas.addClass('mpl-canvas');\n",
       "    canvas.attr('style', \"left: 0; top: 0; z-index: 0; outline: 0\")\n",
       "\n",
       "    this.canvas = canvas[0];\n",
       "    this.context = canvas[0].getContext(\"2d\");\n",
       "\n",
       "    var rubberband = $('<canvas/>');\n",
       "    rubberband.attr('style', \"position: absolute; left: 0; top: 0; z-index: 1;\")\n",
       "\n",
       "    var pass_mouse_events = true;\n",
       "\n",
       "    canvas_div.resizable({\n",
       "        start: function(event, ui) {\n",
       "            pass_mouse_events = false;\n",
       "        },\n",
       "        resize: function(event, ui) {\n",
       "            fig.request_resize(ui.size.width, ui.size.height);\n",
       "        },\n",
       "        stop: function(event, ui) {\n",
       "            pass_mouse_events = true;\n",
       "            fig.request_resize(ui.size.width, ui.size.height);\n",
       "        },\n",
       "    });\n",
       "\n",
       "    function mouse_event_fn(event) {\n",
       "        if (pass_mouse_events)\n",
       "            return fig.mouse_event(event, event['data']);\n",
       "    }\n",
       "\n",
       "    rubberband.mousedown('button_press', mouse_event_fn);\n",
       "    rubberband.mouseup('button_release', mouse_event_fn);\n",
       "    // Throttle sequential mouse events to 1 every 20ms.\n",
       "    rubberband.mousemove('motion_notify', mouse_event_fn);\n",
       "\n",
       "    rubberband.mouseenter('figure_enter', mouse_event_fn);\n",
       "    rubberband.mouseleave('figure_leave', mouse_event_fn);\n",
       "\n",
       "    canvas_div.on(\"wheel\", function (event) {\n",
       "        event = event.originalEvent;\n",
       "        event['data'] = 'scroll'\n",
       "        if (event.deltaY < 0) {\n",
       "            event.step = 1;\n",
       "        } else {\n",
       "            event.step = -1;\n",
       "        }\n",
       "        mouse_event_fn(event);\n",
       "    });\n",
       "\n",
       "    canvas_div.append(canvas);\n",
       "    canvas_div.append(rubberband);\n",
       "\n",
       "    this.rubberband = rubberband;\n",
       "    this.rubberband_canvas = rubberband[0];\n",
       "    this.rubberband_context = rubberband[0].getContext(\"2d\");\n",
       "    this.rubberband_context.strokeStyle = \"#000000\";\n",
       "\n",
       "    this._resize_canvas = function(width, height) {\n",
       "        // Keep the size of the canvas, canvas container, and rubber band\n",
       "        // canvas in synch.\n",
       "        canvas_div.css('width', width)\n",
       "        canvas_div.css('height', height)\n",
       "\n",
       "        canvas.attr('width', width);\n",
       "        canvas.attr('height', height);\n",
       "\n",
       "        rubberband.attr('width', width);\n",
       "        rubberband.attr('height', height);\n",
       "    }\n",
       "\n",
       "    // Set the figure to an initial 600x600px, this will subsequently be updated\n",
       "    // upon first draw.\n",
       "    this._resize_canvas(600, 600);\n",
       "\n",
       "    // Disable right mouse context menu.\n",
       "    $(this.rubberband_canvas).bind(\"contextmenu\",function(e){\n",
       "        return false;\n",
       "    });\n",
       "\n",
       "    function set_focus () {\n",
       "        canvas.focus();\n",
       "        canvas_div.focus();\n",
       "    }\n",
       "\n",
       "    window.setTimeout(set_focus, 100);\n",
       "}\n",
       "\n",
       "mpl.figure.prototype._init_toolbar = function() {\n",
       "    var fig = this;\n",
       "\n",
       "    var nav_element = $('<div/>')\n",
       "    nav_element.attr('style', 'width: 100%');\n",
       "    this.root.append(nav_element);\n",
       "\n",
       "    // Define a callback function for later on.\n",
       "    function toolbar_event(event) {\n",
       "        return fig.toolbar_button_onclick(event['data']);\n",
       "    }\n",
       "    function toolbar_mouse_event(event) {\n",
       "        return fig.toolbar_button_onmouseover(event['data']);\n",
       "    }\n",
       "\n",
       "    for(var toolbar_ind in mpl.toolbar_items) {\n",
       "        var name = mpl.toolbar_items[toolbar_ind][0];\n",
       "        var tooltip = mpl.toolbar_items[toolbar_ind][1];\n",
       "        var image = mpl.toolbar_items[toolbar_ind][2];\n",
       "        var method_name = mpl.toolbar_items[toolbar_ind][3];\n",
       "\n",
       "        if (!name) {\n",
       "            // put a spacer in here.\n",
       "            continue;\n",
       "        }\n",
       "        var button = $('<button/>');\n",
       "        button.addClass('ui-button ui-widget ui-state-default ui-corner-all ' +\n",
       "                        'ui-button-icon-only');\n",
       "        button.attr('role', 'button');\n",
       "        button.attr('aria-disabled', 'false');\n",
       "        button.click(method_name, toolbar_event);\n",
       "        button.mouseover(tooltip, toolbar_mouse_event);\n",
       "\n",
       "        var icon_img = $('<span/>');\n",
       "        icon_img.addClass('ui-button-icon-primary ui-icon');\n",
       "        icon_img.addClass(image);\n",
       "        icon_img.addClass('ui-corner-all');\n",
       "\n",
       "        var tooltip_span = $('<span/>');\n",
       "        tooltip_span.addClass('ui-button-text');\n",
       "        tooltip_span.html(tooltip);\n",
       "\n",
       "        button.append(icon_img);\n",
       "        button.append(tooltip_span);\n",
       "\n",
       "        nav_element.append(button);\n",
       "    }\n",
       "\n",
       "    var fmt_picker_span = $('<span/>');\n",
       "\n",
       "    var fmt_picker = $('<select/>');\n",
       "    fmt_picker.addClass('mpl-toolbar-option ui-widget ui-widget-content');\n",
       "    fmt_picker_span.append(fmt_picker);\n",
       "    nav_element.append(fmt_picker_span);\n",
       "    this.format_dropdown = fmt_picker[0];\n",
       "\n",
       "    for (var ind in mpl.extensions) {\n",
       "        var fmt = mpl.extensions[ind];\n",
       "        var option = $(\n",
       "            '<option/>', {selected: fmt === mpl.default_extension}).html(fmt);\n",
       "        fmt_picker.append(option)\n",
       "    }\n",
       "\n",
       "    // Add hover states to the ui-buttons\n",
       "    $( \".ui-button\" ).hover(\n",
       "        function() { $(this).addClass(\"ui-state-hover\");},\n",
       "        function() { $(this).removeClass(\"ui-state-hover\");}\n",
       "    );\n",
       "\n",
       "    var status_bar = $('<span class=\"mpl-message\"/>');\n",
       "    nav_element.append(status_bar);\n",
       "    this.message = status_bar[0];\n",
       "}\n",
       "\n",
       "mpl.figure.prototype.request_resize = function(x_pixels, y_pixels) {\n",
       "    // Request matplotlib to resize the figure. Matplotlib will then trigger a resize in the client,\n",
       "    // which will in turn request a refresh of the image.\n",
       "    this.send_message('resize', {'width': x_pixels, 'height': y_pixels});\n",
       "}\n",
       "\n",
       "mpl.figure.prototype.send_message = function(type, properties) {\n",
       "    properties['type'] = type;\n",
       "    properties['figure_id'] = this.id;\n",
       "    this.ws.send(JSON.stringify(properties));\n",
       "}\n",
       "\n",
       "mpl.figure.prototype.send_draw_message = function() {\n",
       "    if (!this.waiting) {\n",
       "        this.waiting = true;\n",
       "        this.ws.send(JSON.stringify({type: \"draw\", figure_id: this.id}));\n",
       "    }\n",
       "}\n",
       "\n",
       "\n",
       "mpl.figure.prototype.handle_save = function(fig, msg) {\n",
       "    var format_dropdown = fig.format_dropdown;\n",
       "    var format = format_dropdown.options[format_dropdown.selectedIndex].value;\n",
       "    fig.ondownload(fig, format);\n",
       "}\n",
       "\n",
       "\n",
       "mpl.figure.prototype.handle_resize = function(fig, msg) {\n",
       "    var size = msg['size'];\n",
       "    if (size[0] != fig.canvas.width || size[1] != fig.canvas.height) {\n",
       "        fig._resize_canvas(size[0], size[1]);\n",
       "        fig.send_message(\"refresh\", {});\n",
       "    };\n",
       "}\n",
       "\n",
       "mpl.figure.prototype.handle_rubberband = function(fig, msg) {\n",
       "    var x0 = msg['x0'];\n",
       "    var y0 = fig.canvas.height - msg['y0'];\n",
       "    var x1 = msg['x1'];\n",
       "    var y1 = fig.canvas.height - msg['y1'];\n",
       "    x0 = Math.floor(x0) + 0.5;\n",
       "    y0 = Math.floor(y0) + 0.5;\n",
       "    x1 = Math.floor(x1) + 0.5;\n",
       "    y1 = Math.floor(y1) + 0.5;\n",
       "    var min_x = Math.min(x0, x1);\n",
       "    var min_y = Math.min(y0, y1);\n",
       "    var width = Math.abs(x1 - x0);\n",
       "    var height = Math.abs(y1 - y0);\n",
       "\n",
       "    fig.rubberband_context.clearRect(\n",
       "        0, 0, fig.canvas.width, fig.canvas.height);\n",
       "\n",
       "    fig.rubberband_context.strokeRect(min_x, min_y, width, height);\n",
       "}\n",
       "\n",
       "mpl.figure.prototype.handle_figure_label = function(fig, msg) {\n",
       "    // Updates the figure title.\n",
       "    fig.header.textContent = msg['label'];\n",
       "}\n",
       "\n",
       "mpl.figure.prototype.handle_cursor = function(fig, msg) {\n",
       "    var cursor = msg['cursor'];\n",
       "    switch(cursor)\n",
       "    {\n",
       "    case 0:\n",
       "        cursor = 'pointer';\n",
       "        break;\n",
       "    case 1:\n",
       "        cursor = 'default';\n",
       "        break;\n",
       "    case 2:\n",
       "        cursor = 'crosshair';\n",
       "        break;\n",
       "    case 3:\n",
       "        cursor = 'move';\n",
       "        break;\n",
       "    }\n",
       "    fig.rubberband_canvas.style.cursor = cursor;\n",
       "}\n",
       "\n",
       "mpl.figure.prototype.handle_message = function(fig, msg) {\n",
       "    fig.message.textContent = msg['message'];\n",
       "}\n",
       "\n",
       "mpl.figure.prototype.handle_draw = function(fig, msg) {\n",
       "    // Request the server to send over a new figure.\n",
       "    fig.send_draw_message();\n",
       "}\n",
       "\n",
       "mpl.figure.prototype.handle_image_mode = function(fig, msg) {\n",
       "    fig.image_mode = msg['mode'];\n",
       "}\n",
       "\n",
       "mpl.figure.prototype.updated_canvas_event = function() {\n",
       "    // Called whenever the canvas gets updated.\n",
       "    this.send_message(\"ack\", {});\n",
       "}\n",
       "\n",
       "// A function to construct a web socket function for onmessage handling.\n",
       "// Called in the figure constructor.\n",
       "mpl.figure.prototype._make_on_message_function = function(fig) {\n",
       "    return function socket_on_message(evt) {\n",
       "        if (evt.data instanceof Blob) {\n",
       "            /* FIXME: We get \"Resource interpreted as Image but\n",
       "             * transferred with MIME type text/plain:\" errors on\n",
       "             * Chrome.  But how to set the MIME type?  It doesn't seem\n",
       "             * to be part of the websocket stream */\n",
       "            evt.data.type = \"image/png\";\n",
       "\n",
       "            /* Free the memory for the previous frames */\n",
       "            if (fig.imageObj.src) {\n",
       "                (window.URL || window.webkitURL).revokeObjectURL(\n",
       "                    fig.imageObj.src);\n",
       "            }\n",
       "\n",
       "            fig.imageObj.src = (window.URL || window.webkitURL).createObjectURL(\n",
       "                evt.data);\n",
       "            fig.updated_canvas_event();\n",
       "            fig.waiting = false;\n",
       "            return;\n",
       "        }\n",
       "        else if (typeof evt.data === 'string' && evt.data.slice(0, 21) == \"data:image/png;base64\") {\n",
       "            fig.imageObj.src = evt.data;\n",
       "            fig.updated_canvas_event();\n",
       "            fig.waiting = false;\n",
       "            return;\n",
       "        }\n",
       "\n",
       "        var msg = JSON.parse(evt.data);\n",
       "        var msg_type = msg['type'];\n",
       "\n",
       "        // Call the  \"handle_{type}\" callback, which takes\n",
       "        // the figure and JSON message as its only arguments.\n",
       "        try {\n",
       "            var callback = fig[\"handle_\" + msg_type];\n",
       "        } catch (e) {\n",
       "            console.log(\"No handler for the '\" + msg_type + \"' message type: \", msg);\n",
       "            return;\n",
       "        }\n",
       "\n",
       "        if (callback) {\n",
       "            try {\n",
       "                // console.log(\"Handling '\" + msg_type + \"' message: \", msg);\n",
       "                callback(fig, msg);\n",
       "            } catch (e) {\n",
       "                console.log(\"Exception inside the 'handler_\" + msg_type + \"' callback:\", e, e.stack, msg);\n",
       "            }\n",
       "        }\n",
       "    };\n",
       "}\n",
       "\n",
       "// from http://stackoverflow.com/questions/1114465/getting-mouse-location-in-canvas\n",
       "mpl.findpos = function(e) {\n",
       "    //this section is from http://www.quirksmode.org/js/events_properties.html\n",
       "    var targ;\n",
       "    if (!e)\n",
       "        e = window.event;\n",
       "    if (e.target)\n",
       "        targ = e.target;\n",
       "    else if (e.srcElement)\n",
       "        targ = e.srcElement;\n",
       "    if (targ.nodeType == 3) // defeat Safari bug\n",
       "        targ = targ.parentNode;\n",
       "\n",
       "    // jQuery normalizes the pageX and pageY\n",
       "    // pageX,Y are the mouse positions relative to the document\n",
       "    // offset() returns the position of the element relative to the document\n",
       "    var x = e.pageX - $(targ).offset().left;\n",
       "    var y = e.pageY - $(targ).offset().top;\n",
       "\n",
       "    return {\"x\": x, \"y\": y};\n",
       "};\n",
       "\n",
       "/*\n",
       " * return a copy of an object with only non-object keys\n",
       " * we need this to avoid circular references\n",
       " * http://stackoverflow.com/a/24161582/3208463\n",
       " */\n",
       "function simpleKeys (original) {\n",
       "  return Object.keys(original).reduce(function (obj, key) {\n",
       "    if (typeof original[key] !== 'object')\n",
       "        obj[key] = original[key]\n",
       "    return obj;\n",
       "  }, {});\n",
       "}\n",
       "\n",
       "mpl.figure.prototype.mouse_event = function(event, name) {\n",
       "    var canvas_pos = mpl.findpos(event)\n",
       "\n",
       "    if (name === 'button_press')\n",
       "    {\n",
       "        this.canvas.focus();\n",
       "        this.canvas_div.focus();\n",
       "    }\n",
       "\n",
       "    var x = canvas_pos.x;\n",
       "    var y = canvas_pos.y;\n",
       "\n",
       "    this.send_message(name, {x: x, y: y, button: event.button,\n",
       "                             step: event.step,\n",
       "                             guiEvent: simpleKeys(event)});\n",
       "\n",
       "    /* This prevents the web browser from automatically changing to\n",
       "     * the text insertion cursor when the button is pressed.  We want\n",
       "     * to control all of the cursor setting manually through the\n",
       "     * 'cursor' event from matplotlib */\n",
       "    event.preventDefault();\n",
       "    return false;\n",
       "}\n",
       "\n",
       "mpl.figure.prototype._key_event_extra = function(event, name) {\n",
       "    // Handle any extra behaviour associated with a key event\n",
       "}\n",
       "\n",
       "mpl.figure.prototype.key_event = function(event, name) {\n",
       "\n",
       "    // Prevent repeat events\n",
       "    if (name == 'key_press')\n",
       "    {\n",
       "        if (event.which === this._key)\n",
       "            return;\n",
       "        else\n",
       "            this._key = event.which;\n",
       "    }\n",
       "    if (name == 'key_release')\n",
       "        this._key = null;\n",
       "\n",
       "    var value = '';\n",
       "    if (event.ctrlKey && event.which != 17)\n",
       "        value += \"ctrl+\";\n",
       "    if (event.altKey && event.which != 18)\n",
       "        value += \"alt+\";\n",
       "    if (event.shiftKey && event.which != 16)\n",
       "        value += \"shift+\";\n",
       "\n",
       "    value += 'k';\n",
       "    value += event.which.toString();\n",
       "\n",
       "    this._key_event_extra(event, name);\n",
       "\n",
       "    this.send_message(name, {key: value,\n",
       "                             guiEvent: simpleKeys(event)});\n",
       "    return false;\n",
       "}\n",
       "\n",
       "mpl.figure.prototype.toolbar_button_onclick = function(name) {\n",
       "    if (name == 'download') {\n",
       "        this.handle_save(this, null);\n",
       "    } else {\n",
       "        this.send_message(\"toolbar_button\", {name: name});\n",
       "    }\n",
       "};\n",
       "\n",
       "mpl.figure.prototype.toolbar_button_onmouseover = function(tooltip) {\n",
       "    this.message.textContent = tooltip;\n",
       "};\n",
       "mpl.toolbar_items = [[\"Home\", \"Reset original view\", \"fa fa-home icon-home\", \"home\"], [\"Back\", \"Back to  previous view\", \"fa fa-arrow-left icon-arrow-left\", \"back\"], [\"Forward\", \"Forward to next view\", \"fa fa-arrow-right icon-arrow-right\", \"forward\"], [\"\", \"\", \"\", \"\"], [\"Pan\", \"Pan axes with left mouse, zoom with right\", \"fa fa-arrows icon-move\", \"pan\"], [\"Zoom\", \"Zoom to rectangle\", \"fa fa-square-o icon-check-empty\", \"zoom\"], [\"\", \"\", \"\", \"\"], [\"Download\", \"Download plot\", \"fa fa-floppy-o icon-save\", \"download\"]];\n",
       "\n",
       "mpl.extensions = [\"eps\", \"jpeg\", \"pdf\", \"png\", \"ps\", \"raw\", \"svg\", \"tif\"];\n",
       "\n",
       "mpl.default_extension = \"png\";var comm_websocket_adapter = function(comm) {\n",
       "    // Create a \"websocket\"-like object which calls the given IPython comm\n",
       "    // object with the appropriate methods. Currently this is a non binary\n",
       "    // socket, so there is still some room for performance tuning.\n",
       "    var ws = {};\n",
       "\n",
       "    ws.close = function() {\n",
       "        comm.close()\n",
       "    };\n",
       "    ws.send = function(m) {\n",
       "        //console.log('sending', m);\n",
       "        comm.send(m);\n",
       "    };\n",
       "    // Register the callback with on_msg.\n",
       "    comm.on_msg(function(msg) {\n",
       "        //console.log('receiving', msg['content']['data'], msg);\n",
       "        // Pass the mpl event to the overriden (by mpl) onmessage function.\n",
       "        ws.onmessage(msg['content']['data'])\n",
       "    });\n",
       "    return ws;\n",
       "}\n",
       "\n",
       "mpl.mpl_figure_comm = function(comm, msg) {\n",
       "    // This is the function which gets called when the mpl process\n",
       "    // starts-up an IPython Comm through the \"matplotlib\" channel.\n",
       "\n",
       "    var id = msg.content.data.id;\n",
       "    // Get hold of the div created by the display call when the Comm\n",
       "    // socket was opened in Python.\n",
       "    var element = $(\"#\" + id);\n",
       "    var ws_proxy = comm_websocket_adapter(comm)\n",
       "\n",
       "    function ondownload(figure, format) {\n",
       "        window.open(figure.imageObj.src);\n",
       "    }\n",
       "\n",
       "    var fig = new mpl.figure(id, ws_proxy,\n",
       "                           ondownload,\n",
       "                           element.get(0));\n",
       "\n",
       "    // Call onopen now - mpl needs it, as it is assuming we've passed it a real\n",
       "    // web socket which is closed, not our websocket->open comm proxy.\n",
       "    ws_proxy.onopen();\n",
       "\n",
       "    fig.parent_element = element.get(0);\n",
       "    fig.cell_info = mpl.find_output_cell(\"<div id='\" + id + \"'></div>\");\n",
       "    if (!fig.cell_info) {\n",
       "        console.error(\"Failed to find cell for figure\", id, fig);\n",
       "        return;\n",
       "    }\n",
       "\n",
       "    var output_index = fig.cell_info[2]\n",
       "    var cell = fig.cell_info[0];\n",
       "\n",
       "};\n",
       "\n",
       "mpl.figure.prototype.handle_close = function(fig, msg) {\n",
       "    fig.root.unbind('remove')\n",
       "\n",
       "    // Update the output cell to use the data from the current canvas.\n",
       "    fig.push_to_output();\n",
       "    var dataURL = fig.canvas.toDataURL();\n",
       "    // Re-enable the keyboard manager in IPython - without this line, in FF,\n",
       "    // the notebook keyboard shortcuts fail.\n",
       "    IPython.keyboard_manager.enable()\n",
       "    $(fig.parent_element).html('<img src=\"' + dataURL + '\">');\n",
       "    fig.close_ws(fig, msg);\n",
       "}\n",
       "\n",
       "mpl.figure.prototype.close_ws = function(fig, msg){\n",
       "    fig.send_message('closing', msg);\n",
       "    // fig.ws.close()\n",
       "}\n",
       "\n",
       "mpl.figure.prototype.push_to_output = function(remove_interactive) {\n",
       "    // Turn the data on the canvas into data in the output cell.\n",
       "    var dataURL = this.canvas.toDataURL();\n",
       "    this.cell_info[1]['text/html'] = '<img src=\"' + dataURL + '\">';\n",
       "}\n",
       "\n",
       "mpl.figure.prototype.updated_canvas_event = function() {\n",
       "    // Tell IPython that the notebook contents must change.\n",
       "    IPython.notebook.set_dirty(true);\n",
       "    this.send_message(\"ack\", {});\n",
       "    var fig = this;\n",
       "    // Wait a second, then push the new image to the DOM so\n",
       "    // that it is saved nicely (might be nice to debounce this).\n",
       "    setTimeout(function () { fig.push_to_output() }, 1000);\n",
       "}\n",
       "\n",
       "mpl.figure.prototype._init_toolbar = function() {\n",
       "    var fig = this;\n",
       "\n",
       "    var nav_element = $('<div/>')\n",
       "    nav_element.attr('style', 'width: 100%');\n",
       "    this.root.append(nav_element);\n",
       "\n",
       "    // Define a callback function for later on.\n",
       "    function toolbar_event(event) {\n",
       "        return fig.toolbar_button_onclick(event['data']);\n",
       "    }\n",
       "    function toolbar_mouse_event(event) {\n",
       "        return fig.toolbar_button_onmouseover(event['data']);\n",
       "    }\n",
       "\n",
       "    for(var toolbar_ind in mpl.toolbar_items){\n",
       "        var name = mpl.toolbar_items[toolbar_ind][0];\n",
       "        var tooltip = mpl.toolbar_items[toolbar_ind][1];\n",
       "        var image = mpl.toolbar_items[toolbar_ind][2];\n",
       "        var method_name = mpl.toolbar_items[toolbar_ind][3];\n",
       "\n",
       "        if (!name) { continue; };\n",
       "\n",
       "        var button = $('<button class=\"btn btn-default\" href=\"#\" title=\"' + name + '\"><i class=\"fa ' + image + ' fa-lg\"></i></button>');\n",
       "        button.click(method_name, toolbar_event);\n",
       "        button.mouseover(tooltip, toolbar_mouse_event);\n",
       "        nav_element.append(button);\n",
       "    }\n",
       "\n",
       "    // Add the status bar.\n",
       "    var status_bar = $('<span class=\"mpl-message\" style=\"text-align:right; float: right;\"/>');\n",
       "    nav_element.append(status_bar);\n",
       "    this.message = status_bar[0];\n",
       "\n",
       "    // Add the close button to the window.\n",
       "    var buttongrp = $('<div class=\"btn-group inline pull-right\"></div>');\n",
       "    var button = $('<button class=\"btn btn-mini btn-primary\" href=\"#\" title=\"Stop Interaction\"><i class=\"fa fa-power-off icon-remove icon-large\"></i></button>');\n",
       "    button.click(function (evt) { fig.handle_close(fig, {}); } );\n",
       "    button.mouseover('Stop Interaction', toolbar_mouse_event);\n",
       "    buttongrp.append(button);\n",
       "    var titlebar = this.root.find($('.ui-dialog-titlebar'));\n",
       "    titlebar.prepend(buttongrp);\n",
       "}\n",
       "\n",
       "mpl.figure.prototype._root_extra_style = function(el){\n",
       "    var fig = this\n",
       "    el.on(\"remove\", function(){\n",
       "\tfig.close_ws(fig, {});\n",
       "    });\n",
       "}\n",
       "\n",
       "mpl.figure.prototype._canvas_extra_style = function(el){\n",
       "    // this is important to make the div 'focusable\n",
       "    el.attr('tabindex', 0)\n",
       "    // reach out to IPython and tell the keyboard manager to turn it's self\n",
       "    // off when our div gets focus\n",
       "\n",
       "    // location in version 3\n",
       "    if (IPython.notebook.keyboard_manager) {\n",
       "        IPython.notebook.keyboard_manager.register_events(el);\n",
       "    }\n",
       "    else {\n",
       "        // location in version 2\n",
       "        IPython.keyboard_manager.register_events(el);\n",
       "    }\n",
       "\n",
       "}\n",
       "\n",
       "mpl.figure.prototype._key_event_extra = function(event, name) {\n",
       "    var manager = IPython.notebook.keyboard_manager;\n",
       "    if (!manager)\n",
       "        manager = IPython.keyboard_manager;\n",
       "\n",
       "    // Check for shift+enter\n",
       "    if (event.shiftKey && event.which == 13) {\n",
       "        this.canvas_div.blur();\n",
       "        event.shiftKey = false;\n",
       "        // Send a \"J\" for go to next cell\n",
       "        event.which = 74;\n",
       "        event.keyCode = 74;\n",
       "        manager.command_mode();\n",
       "        manager.handle_keydown(event);\n",
       "    }\n",
       "}\n",
       "\n",
       "mpl.figure.prototype.handle_save = function(fig, msg) {\n",
       "    fig.ondownload(fig, null);\n",
       "}\n",
       "\n",
       "\n",
       "mpl.find_output_cell = function(html_output) {\n",
       "    // Return the cell and output element which can be found *uniquely* in the notebook.\n",
       "    // Note - this is a bit hacky, but it is done because the \"notebook_saving.Notebook\"\n",
       "    // IPython event is triggered only after the cells have been serialised, which for\n",
       "    // our purposes (turning an active figure into a static one), is too late.\n",
       "    var cells = IPython.notebook.get_cells();\n",
       "    var ncells = cells.length;\n",
       "    for (var i=0; i<ncells; i++) {\n",
       "        var cell = cells[i];\n",
       "        if (cell.cell_type === 'code'){\n",
       "            for (var j=0; j<cell.output_area.outputs.length; j++) {\n",
       "                var data = cell.output_area.outputs[j];\n",
       "                if (data.data) {\n",
       "                    // IPython >= 3 moved mimebundle to data attribute of output\n",
       "                    data = data.data;\n",
       "                }\n",
       "                if (data['text/html'] == html_output) {\n",
       "                    return [cell, data, j];\n",
       "                }\n",
       "            }\n",
       "        }\n",
       "    }\n",
       "}\n",
       "\n",
       "// Register the function which deals with the matplotlib target/channel.\n",
       "// The kernel may be null if the page has been refreshed.\n",
       "if (IPython.notebook.kernel != null) {\n",
       "    IPython.notebook.kernel.comm_manager.register_target('matplotlib', mpl.mpl_figure_comm);\n",
       "}\n"
      ],
      "text/plain": [
       "<IPython.core.display.Javascript object>"
      ]
     },
     "metadata": {},
     "output_type": "display_data"
    },
    {
     "data": {
      "text/html": [
       "<img src=\"data:image/png;base64,iVBORw0KGgoAAAANSUhEUgAAAoAAAAHgCAYAAAA10dzkAAAgAElEQVR4XuydCbwV4//HP+17SJZWkUpREtmyRkop4keLyBIhoZ38kKSUSgmt2lSyi5/ob8uWfU3FVZFQpHTScrvV7f/63Oc898yZO+fMzJmZs9zzfV4vvx81M+ec7/PMM+/5fLcSkCEWEAuIBcQCYgGxgFhALJBVFiiRVb9WfqxYQCwgFhALiAXEAmIBsQAEAGURiAXEAmIBsYBYQCwgFsgyCwgAZtmEy88VC4gFxAJiAbGAWEAsIAAoa0AsIBYQC4gFxAJiAbFAlllAADDLJlx+rlhALCAWEAuIBcQCYgEBQFkDYgGxgFhALCAWEAuIBbLMAgKAWTbh8nPFAmIBsYBYQCwgFhALCADKGhALiAXEAmIBsYBYQCyQZRYQAMyyCZefKxYQC4gFxAJiAbGAWEAAUNaAWEAsIBYQC4gFxAJigSyzgABglk24/FyxgFhALCAWEAuIBcQCAoCyBsQCYgGxgFhALCAWEAtkmQUEALNswuXnigXEAmIBsYBYQCwgFhAAlDUgFhALiAXEAmIBsYBYIMssIACYZRMuP1csIBYQC4gFxAJiAbGAAKCsAbGAWEAsIBYQC4gFxAJZZgEBwCybcPm5YgGxgFhALCAWEAuIBQQAZQ2IBcQCYgGxgFhALCAWyDILCABm2YTLzxULiAXEAmIBsYBYQCwgAChrQCwgFhALiAXEAmIBsUCWWUAAMMsmXH6uWEAsIBYQC4gFxAJiAQFAWQNiAbGAWEAsIBYQC4gFsswCAoBZNuHyc8UCYgGxgFhALCAWEAsIAMoaEAuIBcQCYgGxgFhALJBlFhAAzLIJl58rFhALiAXEAmIBsYBYQABQ1oBYQCwgFhALiAXEAmKBLLOAAGCWTbj8XLGAWEAsIBYQC4gFxAICgLIGxAJiAbGAWEAsIBYQC2SZBQQAs2zC5eeKBcQCYgGxgFhALCAWEACUNSAWEAuIBcQCYgGxgFggyywgAJhlEy4/VywgFhALiAXEAmIBsYAAoKwBsYBYQCwgFhALiAXEAllmAQHALJtw+bliAbGAWEAsIBYQC4gFBABlDYgFxAJiAbGAWEAsIBbIMgsIAGbZhMvPFQuIBcQCYgGxgFhALCAAKGtALCAWEAuIBcQCYgGxQJZZQAAwyyZcfq5YQCwgFhALiAXEAmIBAUBZA2IBsYBYQCwgFhALiAWyzAICgFk24fJzxQJiAbGAWEAsIBYQCwgAyhoQC4gFxAJiAbGAWEAskGUWEADMsgmXnysWEAuIBcQCYgGxgFhAAFDWgFhALCAWEAuIBcQCYoEss4BfANgFQB8AxwOoDKAMgHwLW54I4GMAnwA4y/T39wPoBaAqgC/D11thOKYZgEkAeI2tAKYD4DnGkYxrZNkSkZ8rFhALiAXEAmIBsUBxs4BfANgGQDUAFQHMiAGA5QB8DmAjgPImABwE4FYAFwJYA+A+AFcDaAhgZxgqcwDMBDA8/OevAxgLYGJ4UpJxjeI2//J7xAJiAbGAWEAsIBbIQgv4BYDadGcDeCcGABLWSgIIATjPBIBrAYwH8Fj4QqUA/AGgP4D5AHoCGA2gpkFZvA1AXwANwuck4xpZuETkJ4sFxAJiAbGAWEAsUNwskCwApLt3KoATAAwxASBdvnTpngbgU4OBlwBYDmBgGA4bhxVCfQiP/xDAAWGwTMY1itv8y+8RC4gFxAJiAbGAWCALLZAMAKwE4BsA1wD4KOzeNSqAtQH8CoCA96NhDhYC2AbgxrBbmdfpZvj7YwAwRrBOGACTcQ3zEqH9qEr+m4VrR36yWEAsIBYQC4gFMtkCVcLexv2Z/CMS/e7JAMApAHIB3BH+kozvMwJgJiuAtQD8lqjx5TyxgFhALCAWEAuIBVJqAYpQv6f0G6Tow5MBgD+H3bT7wr+RiSLMEqbL9lQAjN2zit/bEIbGBeGEkDGmGMDbw4kj8WIA/bpGv3AsonmaCK+h9evXo2pV/mvxGkOHDsXIkSOjf1Tv3sDChcDmzUDp0pG/GzsWyMkBHnkEqFkT+OUX4KCD0tYglr8tbb+tuy8mv82dvdLpaJm7dJoN599F5s25rdLlyG3btqFOHToQC8LI6G3MuuEXADK5g1DHJBBm51JWJfDlATgEgIEUMABAKwCdAfwZTupgnB+zgDuEYfBeAD0ANDJkAdM9zCzgB8OJH68BGGfIAk7GNSwBMBQKFUsA7N+/P8aPZ26OYfTsCcydC+zZEw2ABMUffgAmTwYqVwa2bElrALT8bcXk9pfflrkTKXOXmXMn85Z580YAPOAAsp8AoNfZY5buLADaj06w5L+fC+B908XNLmD918MA9A7D4xcWdQCPA/BEuA4gM4knA3jAdO1kXMP4kQUKoAAgAAFAr/eQb+fLw8g3Uyb9QjJ3STe5Lx8o8+aLGZN6EQFAwC8FMKkTl0YfVqwBcMmSJWjbtm2xVAAtf1saLSwvX0V+mxfrpfZcmbvU2j/RT5d5S9RyqTtPAFAA0OvqK9YAaGmcYuIC9jrxcr5YQCwgFhALZK4FBAAFAL2uXgFAbcEMcwF7nXg5XywgFhALiAUy1wICgAKAXldv8QfA/ftVwkeZMkCJEoAogF7XjJwvFhALiAXEAim2gACgAKDXJVj8AfCee4ARI4A77wRGjRIA9Lpi5HyxgFhALCAWSLkFBAAFAL0uwuIPgDfdBEydCvTqBUyfLgDodcXI+WIBsYBYQCyQcgsIAAoAel2ExR8Ab74ZmDLFHgAffBD48ceMqQPodeLlfLGAWEAsIBbIXAsIAAoAel292QuAeXkqLlAPMwCyU0i1al7tK+eLBcQCYgGxgFjAdwsIAAoAel1U2QeA11wDzJkDCAB6XTtyvlhALCAWEAukyAICgAKAXpeeAKBZAaS7uFIl1StYFECv60vOFwuIBYK0wJNPAu3aAbVqBfkpcu00tIAAoACg12UpACgA6HUNpdf5r78OPPOMKvlTurTKAD/ssPT6jvJtxAJ+WCA/HyhVSq3xu+/244pyjQyygACgAKDX5SoAKADodQ2l1/k33AC89hrA5J8JE4DnngNat06v7yjfRizghwU0AN5/P3DvvX5cUa6RQRYQABQA9LpcBQAFAL2uofQ6/8YbgcMPB4YPBxo2VBngAoDpNUfybfyxQCIAyKL4O3YAFSoA5cr58z3kKimxgACgAKDXhScAKADodQ2p83fuBG6/HcjNjb5ey5bAbbf58xlOriIA6MRKcoxfFlizBqACx45D550HMMksWSMRAOzUCXj1VaBpU+C775L1TeVzArCAAKAAoNdlVfwB0FwI2i4LWJJAEltTOTlAo0YAy+nosWoVsHw58M03iV0zkbMEABOxWurPWbFCFWln3KYeJ50EPPZY6r9bvG+wcCHQrRvQuTOwfTvwf/+XvO+bCACedRZwxBHA++8D69Yl77vKJ/luAQFAAUCviyp7APD664EZM4COHYH//a9oGZiBA4E//1RdQyQL2P26IgA2b66UQD2oNLAVnwCge3tm2xmLFgGXXKJiNjn44vD00wDXVToPAiAh9dprVfJRugPgueeq0Ig33hAATOd15eC7CQAKADpYJnEPyT4AvOoqYN68ogD4wAPAF1+oh44AoPt1JQDo3mZyRsQCBEDGbX75pfqzd94BqN4LAMZeJYkogAKAxeauEwAUAPS6mAUAtQUJgGvXAo8/LgCYyKrKZAD89Vdg6dLIr6Ybki49BsrLSI4FBACd2fn334HLL1cvsATAr79WMYhOs4AFAJ3ZOQOOEgAUAPS6TLMXAHfvBsqWjdhPANDbWspkALzrLuChhwA+HDk+/RR46SXgggu82UTOdm4BAUBntvrkE6B9e4AFoOkup8dCANCZ7YrZUQKAAoBel3T2AeDVVwNPPQXYAeDffwMHH+zVvtlzfiYD4JAhKnZx0iQ1X8ceC4wfD7Rtmz3zl+pfKgDobAYIgJddBlAJZMLVf/8rAOjMcsXuKAFAAUCvi1oAUFtQK4BPPAFUrAgIALpbW+kCgCwEXaOGuzqAAoDu5jqIowUAnVnVCgCHDQPuu8/Z+eICdmanDDhKAFAA0OsyFQAUAPS6htT56QqAkyer+mzxhgCgP2vAy1UEAJ1ZTwDQmZ2y4CgBQAFAr8tcAFAA0OsaEgD0x4LZfRUCIGPZvvpK2UGygK3Xg1cAPOccVa9TysBk/P0mACgA6HURF38AvOIKFSyt6wDaxQCKCzixNZWOCiAfdJxPUQATm9NknsW4XMaz6eLEmQKATMJg5QDWAWRNwDffDNZqAoDB2jeDri4AKADodbkWfwBkTBgLQAsAel0r8c+PBYB8qH/7bbCfbby6MQZQADB5dvf6SS++qJIaMq0OYKYC4OuvAyx/JCNjLSAAKADodfEWfwBka7Dp0wUAva4Uu/MFAO0sJH8fzwIEwFGjgM8/j7iAe/cGfvopve2mAfC661RJlkxQAI85Bli8OLkAyCS7zz4DSpVS89mqFTBoUHrPbZp/OwFAAUCvSzR7AJAbNGtniQvY65qxPt8KANly7+67RQEMxuLF66oCgLHnk1DcpQtQvjzA/toc+/dHysC4yQJmDGAqAJD9h084ATj/fLUfsD2khv3itZKT9msEAAUAvS627ANA3QrOXAeQbah+/lnFjCVSBubff1XpGD1q1wbKlPE6P5lzvgBg5sxVOn5TMwC++y5A9V4UQKUs0hbPP6/a4/3yS+YBYOPGwMSJqrg6i6yPHCkA6PE+FAAUAPS4hCAAqC1IAOTGyoDuRADw7LOB998H2EZs3z5Vh47xb9kyihsAjhsHtGuXLbOX+t8pABh7DrSb+cMPVUITE2SMCiDbwDGD2slIlQIoAOhkdlwdIwAoAOhqwVgcLADoFwCefjpw++3KVXPLLcCBB6q33GwZ6QKA7JJw9NHA6NGq3EWiWcACgMlduQKA7gFwxAjgnnvUyyb/38kQAHRipYw4RgBQANDrQs1eAMzNBcqVi9jPrABu2gRUr+7cvgKAQPPmqqWaHqmIAWSs5yGHeAPA444Dxo4VBdD56vd+pABg4gDIBAun3gYBQO9rNU2uIAAoAOh1KWYfAOokkFgASMWoQgVAANDd2qIC2KwZQLumEgBZ7qduXdUaK1EFUADQ3dz7cXQmAyB7SPfqFVwWcCwXcCIK4PHHA6edFmwWcP/+akWwn7YeblzAy5YBW7cCPOfII/1YXcXyGgKAAoBeF7YAoLagVgAFABNbU8uXKwBkbFI6ASBjOpl5GG+YW8EJACa2BryclakAOGUK8OijwMCBmQGALL9CqGK8clB1AEuUUCvBuBc4BUB6ECpVAqpWBahWskOMDEsLCAD6B4BdAPQBcDyAygCYvpkftvrJABjN3xJABQDrADwCYLZpVhiF2wsoSKz4Mny9FYZjmgGYBOBEAFsBTAdgjtxNxjWMX1sAUAAw8e2VWc8685kKYNeuqXcBmxVAAcDE5zeZZ2YqAM6fD0ydClxzDbBgAfDWW/5bzU8F8KyzgKZNgVdfTU8A3L4dqFJF1YRk0gvDSGQIAMZYA+FXDc8rpA2AagAqAphhAsALARwCYDEA1vk4BwBfS64C8Er4k1nR8lYAPHYNgPsAXA2gIQAGRREqcwDMBDA8/OevAxgLYGISr2E2VPEHQN0JxFwHUFzAnm8aHHWUKp3DrGkd+5dOCiDrnT32mCiA3mc6+Cu88IKK22SxYI5MKQNDAJw2TQEg/10AEPCiAAoAOr7XRAH0TwHURj+bbchNAGg1IS8B+AVAv/BfrmXEA4DHwv/Ncud/AGAwxHwAPQGMBlDToCzeBqAvgAZJvEZ6AODSparlE2PtWO1fV4d3vPRdHCgA6MJYLg9t2BCgC6x1awWBu3YVdQEPHQp8953LC3s43KgAOgXAwYMVwBIWOcQF7GECEjxVADC24fxWABmqQdfq+vUJTpbNabEAkK7yNm3i1wEUAHQ8JwKAqQFAqmY/ABgC4Kmwy5cu3dMAfGqYvSUAlgMYGIbDxmGFUB/C4z8EcACAkmG3cNDXSA8AZBzKjz8CW7YAq1ejQEkKaggABmVZwA4AX3sNuOuu9AdABvDn5QFz5woABrda4l/ZCgB573J/SOeRLAWQsckffBBdBzCRJBC6gNMBANn3+Ysvis6sAKDj1S4AmHwAZGwg3b78/wvCal5tAOyqTcD70TB7CwFsA3Bj2K1cCUA3w98fA4AxgnXCAJiMa6QHALJoMivbX3st8MMPyQFAftbMmZFWcOICdrzRxDywuAAgA/jZGYbZnKIAel8XiVzBDID0EhDMBQBVcklxAsCXXwYIrwKAidwphecIACYXAJkAQtdvaQCdwrF9nAwqgqIAulnKqQRA3QrODICspL9undpo/SgDc8ABKpA5E8frrwPM6jWPtm0BlpHQwwCA+ytWRIldu5C3ezfKli2rjsgUBZAAuGePalUlAJiaFSsAGNvuRgBkRvvbb6tQi0xVAAUAfbnHBACTB4AH8nEWTgL5D4A9phm0igHcAOAOAAvCCSFjTDGAt4cTR+LFAPp1DcYqMhbRPAqSQPr06VP40G7bti34T6AjXQGQZRGYNZrtAMiSDYyJo6teDzZvZ1kGArIBAPOfeAIDF3+NBycMRYX9e9Go4a3o0KEuxo4dgJIEyUxwAVsB4MMPAxcyp0tGUiwgAOgMAI2t4AQAk7I00+lDlixZAv7DkZeXh8f5vFJhZPQ2Zt3wKwuYMXh06zIJhNm5VQDso40BHArgzbC7tkf4z82GZpwfs4A7ACAM3guAxzYyZAHTPcws4AfDiR8EynGGLOBkXMMSAEOhEKqy7lKyRnEHwD59VB2rTFUATzhBtZfq2DGyIghyoVARAHyi2bkY8Fo3bM5tj4rYhRLYj/Lll+Lmmz/H+POaJB8Ame19xBGqELTTJBAzALJMxpgxAoDJ2g/4OQKAiQOgm04g6RADKAqgL3eWKID+KYDM0p3F0pXhmSFY8t/PDZd9YVkX3eNKH/NBGPj0ZA4D0DsMj4xuZV1BYx3A4wBQPmEdwBCAyQAeMK2EZFzD+JGpKQOTDgDIjNXy5SO2oAvYqAD+9ZdqKeZ0GFvBZTgA5jdvjq39+qFyt24Rd64FAO5v0ADX5B6Hub+9hB2oWAiANFnDhrfi+9Hnowwb1SczC5gAWK8ewM8VAHS6elN/nABg4gDophdwugPgv/9GXp6lDmDc+1IA0D8ATP0GmJpvkH0AqFvBCQAWWXH5+fkYOHAcej0xBg9V6IBPD60ScefefXcRBTC/WjX0QGc8/c+TRQCwRo3RWDGmFg6ikiYAmJq7O5M+NVMBcN48YPr04OsA+pUEcuaZKo43lWVg4imARgBk1jPjiGVYWkAAUADQ660hAKgtqBVAbrRUBrNQAezf/2FMntwSy3L74V4Mx//QMeLOLbelCADur1UL15ZoiTm/v4ydqIAKyC1wASsFsC++H31e6hVAZvay9li8IS5gr/uI9/OLAwASBpmg4ffwMwuYANi8OUAIS2YdwMMOA2bPVmEVTgDwoYdUuzoBwJirSQBQANDrVpMaAKQbggWgU1kGJpYCmKUAyIDipk0HICdnEr7CCYUAqN25Ky+uiFKs0WVMAqlfH4+3aIOB/+uKLbkXFgJgymMAtQuYySy6+Gw6AyBL0JQpA5RkKHKWjkwGwBkzlAL41FPBACCLrfMfJmI5SQIZO1bF3h50kFpMnToB/I4cqQJA3pPcO9q3FwD06RYXABQA9LqUUg+Aq1YB9et7/R2xz2ctsSefVLBprAPoNwA2aaISD7p0ATIwBnDDhg1o0eIpbNw4uAgA0p2bc9lvqLxvXxEAzJ8+HQP/92VhFvDR9QeiU6dDU5cFbIwBzBQAZOcEvhDxIZ+t4/nnAWZefxqupZ8pdQCp+gUNgPwMdqn55BNnAMi19PvvKpHrjTcAZuPTnWoEwJdeAn77LZjVZtUJpFEjtXcQYEUB9MXuAoACgF4XkgCgtqBXF/CJJwK33AKwFVkGAmB8BbAvVl5cwVIBLIDrc86BrgP496bdqF7dUAfwzjutawp6Xbmxzs9UADz55Aj8BGWbdL6uFQDyXlrD1uppPJIFgIwzfO89ZwB4003AwQcD7LZhdB9rAGSW/4svphYAmbnMdqDmoWMAxQVsu+gFAAUAbReJzQGpBUA+rFeuLB4K4KmnAowl+89/MhIAuU50DODHuXfgHjxgGwNYoNyaAHBbaH9BBZyCsXgxMGRI+gPggAEA1c0JE9T3TnYZGComp5yiFJ5sHQKAsWdeJ5oIAGbr3WH5uwUABQC93hDpDYDsFdyvn+rSYBws1EyXCP/fbmgXMGN0Zs2KtILz2wVsBsAqVQC+xWbQKMwCfvxhDMl7Eqvqvx9x5zILeOtWYDKrF4WHAKA/sysACJgBkLDDF0RRAAEjADrpBJLuCiAzkOmeFgXQ0/4hACgA6GkBhdvYhZJeCFongdgpgJ9/DtA1Nnp09O9kgPNPPznrIWwGQN0KTgAw5trZe9zx6LxiBGZtahtx59LmAoBe7zfr8wUABQDjrazipgDGA8Bt2wDdRlPKwMTdbwQABQC9PpDSWwEkADKDbQM74hkGe83+8INzAGTyR8+eSgGMBYDDhqmyCIlmARsVwFtvBSpXzjgFUFt4X7PmuGT5A5gf6hhx5w4dCvzzT/YogHzpYMZiMoYAoACgAKCyALsNHXigSgh6910pAxNnXQgACgB6fTwJAGoLEgCZFcfeionUARQARIldu5DyGEBmex95pOoE4jQL2BwD2KyZgncBQK/7i/PzxQUc21Z2CqC5FVwmu4AFAB3fMwKAAoCOF0uMA1MDgISlvn1VjE+8JJAgFcCdO6NjCAUAC5eIYwXwqKNUaR1DFnBaACC/1z33CAB63R2Seb4AYOIAaG4FV1wA8J13VCKZDEsLCAAKAHq9NawBcNky4NVX1bXpnuKGUreu18+KnE+FhSVTbr89LgDuWbYMJTt3xr716yM9aXkVLy5g3QrODgD//BM49FDnvzkbFUCCFt3qZ59dWAZGAND5kik8UlzAmesCZvFnZsIHWQjaTgF0A4BnnAG0aJH8MjANG6rwEdYBjBcDaFQABQDjbiYCgAKACTxtok6xBsAbb1T1owhLvFnpYqBrza/BTYhxcozLs1AAdTbqry98jsd/ewNnHd0z0pOW3RKCBEDGAJYrBwgA2scAGgGwQgWUyM1NDxewUQGcOBG44IL4K1dcwH7d2YlfJ1MVQA2A3B/nzAEILX6PRACwenVgxAi1jzOs5cMP1bfi3suapey8ksxC0G4BkN1M2FZPFMCYq0kAUADQ61YTGwAPP1yl6rOPavfuwQHgihXA0UdH/Q5dj+643Ep4BZ1QExsiPWnHD0pPAGQdt0GDVB3ATE8CadQYl+SMyXwAZHcW1vbLBADM9kLQzz0HjBsXqYWYKWVgCIAMg6ACGBQA8jPYbcRNHUANgAsXqpJZ6QCA7HTTurUzBVAA0PbZLgAoAGi7SGwOSDsANHakOAmfFwIgf0fDhrdi+fLxKMsM20SzgO1cwIkqgEEC4NdfAwsWRE8la/DRNR/AyK9TF91/G4Npoa7xs4CduIAHDwa+/z6AbxnjklRitAIoAJg8u3v9pOIGgHv3An/8oazCpDI34SRmW2qVke3xnPQC5r4QDwBPOgmgvdkuLohh1QqOCqARANl56auvin66dgELANrOjACgAKDtIklrAORbM+HAoAAae9KaAZA9ab/6qicOZzyiUwBkOynGqekyMEECIGHnssv8VwBZhHnMGODmm9V0/vWXcjXx/wMY+45rho4rHsLCUPvsAMD+/YH8/EgnkFRkAYsCWFQBJMyvXRvACvfxkrEUQIbNMBNdD7chJcavmCwAZH9gqpmlSqlP54vU+PHujSUA6N5mCZwhACgAmMCyiToltQqgBQDGVwD7YvnycUoBXLXKWQs5AuDs2Sqe0dgJJFYSiBcFMEgAZFcU3YWDb87t2iUfAPkd+Bavh50CyCb0dIunuwJIANy/H3jkEfXLBAC97ivuz7dSADMZANkDe/t25X5l3PIvvySeSJcsAOzdG3jrLdV9ieol90IWf3c77ADwlVcAVl0QBdCtZaOOFwAUAPS0gGJ2AmESSDJiAAmAbAdUsWLkd5Qpg/7jn8bkyS0RNwbQLQCyALQGQW6oQQNgpUpFO5gkOltUAAUAnVkvERewAKAz2wZ5lBkA339fxdVlqgIYFAA6bQWXiAvY6DrmSxsTRpINgPy8gw4CxAVse7cJAAoA2i4SmwNSrwAyyeS11yJuh717kf/xxxj47Af4+dlv8cTvb+PM+j0iPWn5Ns0s3Xj1A40/WiuAyQRA1jgk1Jpb2CU6W+kAgPwOmzdnjwI4ahTQoUOiM+buPCom4gKOdgELAEbWkFsFkEreIYeoLGCrJJBYMYDpBIBMCKIaKVnAMfcSAUABQHcPmqJHpx4AW7UCTj9dlZrhYHID62qdcw62vrkMuy64DGU2rYv0pOUxbgGQ2Xk9eigFULeCMyuA992ngqL9cAELAKq5zGQXsACg173F3fmiAMa2l1sA7NJFJYGw/IsAoLt1mEFHCwAKAHpdrtYAeMMNQI0awZeBoYsnDgBuf/dz/Nu6EyqFNkSSEYIEQMa9cNNMpA4gs4B1DKAAYOoAkGuKLxHsBOI0C9jsAj7+eGDkyOQqgPzMb77xej9n7vkCgP4BIPdvhvDwpTqTAfDNN9VLpAxLCwgACgB6vTWcAWC3bqptm1+D0EdIEgB0ZtF0dQGz5y7V1bPOsu4EkgoFkGuKWeX//W9mAeBppwHswJOtI1MBcO5clVzG2FN6GHQh6KBiAJ2UgTHGcBMAJ00CPvpIrSzG9aXCBdygATB1qqoDGC8JRMcA0gUsABh3NxAAFAD0+riwB0AW0e3a1X8AvO02VZrFRgHc3rojKoY2+q8A7tgRnXxCF7BRAdy4ETjsMOf2zUYF0AiAVo4dx3oAACAASURBVJ1ABACdrR/GALKV4McfOzu+OB5VHACQIPjuu2p20hUAud+2bGldBzDIGEC3AMjyM//3f6IAxrnXBQAFAL0+ClIPgIz/46ZkEQO4Y/F7qNThnOj2Yl5dwLoOYCwAZAwgW825BUAG8Q8ZouoA+u0CHjoU+Oef6DIwbdsCmzZ5nX/L8y3rAFolgWQCALK0C20Vb6SDC1gAMDOTQKgAUvmj8hwUAPIzWJ/PaSFoowL4zDPAo49GFEDutdyrnn22aCHooAFw2jTg3HOdKYACgLZ7uwCgAKDtIrE5IL0B8O1P8O/5l/irAAoA2q6Zfcc2RceVo6MLQdsBYMWKKLFrVzSsp1oBPPZYVchWANB2zlN+AIGEsK5V0EzJAnYKgD//DBxxRGJm1m5mqotuXcBWAEhvBf/c3AlEADCx+UnRWQKAAoBel15qAZBvzYx9iqUAvv0Jtp5/GaqEfvfPBRwkANLtc+mlwSuAbA1H13xQCuCxTXHRyjF4JnRhxO6JAuDAgQD7PSdrGGMABQCTZXXvnyMAGNuGQQAgYwN1qzr9yWYA5L7M1mxuh1UhaLqAjQogQ264j5mHjgEUBdDW6gKAAoC2iyStFUAvAEioMLSQi/k7mbzCDVSXgREAtF0zVAAtAfDvv1Ugtx5OkkAyAQDZ+YAPLd32KhVZwNnuArYCQMYIUzlL5+FEAWRrNRa0TicF0A4Aub8yPCcIAHz1VdUmTwDQ08oWABQA9LSAYnYCITTVrq3KwASZBEIA5IOPmWnGGMAZMwpiRXbEUgDZXN3UQzguALKO1pVXRncCCSIG0KgAVqig+vf6McwxgKlSAN0C4BtvAAMGpL8CKADoxyr1dg0zAH7wgWrfKACoXmB1fKGTTiB2MYB0AQsAeluvaXC2AKAAoNdlaO0CvvxyVQeQwcPJAMAzz1SwycEabkEAYPfuqmRJMhRAZjgTUosTALKsCl3ObhRAAUBn96dkAaukBGMMoABgZO24BUBjHddYMYDpCoBMdqtWTanxkgUcd/8QABQAdPaAiX2UNQBSAaxbVzXsTjYA0q07fXriCuDy5cDEiZFfzK4ipUsDAoCO14qlCzjbAPDBB4GLLnJsM08HCgAKAMZbQG5jAIsDAPJlYMkSKQMTZ10IAAoAenruxHQBs39unToRAGRrIf6ZX4PBxVTJtAvYqAB6BUDC3x13qBgTlnJh4HGZMgCLWVMB1K3ggnQB+60AsqzMnj2RPrypcAFnEwA2b676qAoA+nXH219HFMDYNkoEAGvWBO6/X2X7ck/URca596azC1grgARAehD4jwxLCwgACgB6vTWsFcCgAZDBxbffHhwAvvce8OKLqrXWCSc4A0AC44YNqhdwonUAdQyg3wDIRAqWbHj6aTXf6QKA9eoBjK8880zrTiCpcAEzcYAZhwRWp1nA5hjAVABgtncCyXQAZCcQ1urThaCpwuXnq77myU4C4WcnAoB80ee9w5cfv5NADC/2iJcEIgDo+JkuACgA6HixxDjQHgBZQ+2KK/xVAAmAVOn4sObb6FlnRWIA/VAAEwVAKobsBZxuAGjsKqABsE0bgEkZAQzHLuB0BcCGDQGWrckkAJQs4MyMAaRXgf8QAAl7LNbMMWiQyqClByJTALBXLxW7/NhjqQfACROU+1cUwJg7vACgAKDXx396A+BbH+OfNpejaui36DqA8bKA6e5wAoDbtwOVKkXsp13GGgCpBrKhutPB9kp33aXqAPqtAAoAOp0F9VIhAOjcXulyZKYqgPEAcPdulUhHAFyzBuALUyKDn8FuI04LQRsVQNqVMKVdwHz55suGVRKIMXYwCAWQyX3nnANHCqAAoO1KEQD0DwC7AOgD4HgAlQGUAZBvmIFmACYBOBHAVgDTAdxvmiH+d69wXN2X4esZK+CmyzWMXzv7AFBnAQsAxtxg9jU5Dheteji6ELRVDGAmKIBsKt+uXfzNNB1cwKIARoNKpmQBE84Yo8d4ZrMC6CcA8nPeecdZJxA7AGS4AcNJzIWgzQDI47ZtswWRIgdYFYKmZ0cA0L0t45whAOgfALYBUA1ARQAzTABIIMwBMBMAa5U0BPA6gLEAdLrpIAC3ArgQwBoA9wG4OnzszjBUpsM1zMsptQDITZN9KWO5gOMpgMz2ZbyKedgpgHYAyBhAJo0kogCyXl/nzsErgIxtZD2woFzATY5Dh1Vj8WyoXUR5zUQAPO44YOxYAUBfHzsBXcycrFCcAJBVCFav9qYA+gmAVAEXLIgPgCtXKqUwKAC85x4Vo20eOgZQFEDbG00A0D8A1MY+G8A7JgDsCWA0gJoGVfA2AH0BaAJZC2A8gMfCFyoF4A8A/QHMB5Au10g/AKTr9Oyzo2MAGTfTujV2CACq+TK7gFMFgH/9pWKa9HCiAPbvD/BhkqxhdAG7AcCSJQGqhRypSALJdgVQADD2HaLdzH4pgATA+fPVS65xGBVAAcBk7VgJf44AYHIAkGDXOKzu6ck6DcCHAA4AUDLsFuaffWqYzSUAlgMYGIbDdLiGMwA01gEMMgmECiABkHEhLFnAQVeBHQCyy8Z336W3AliuHPDwwwnf3FEnZioAso4X3avpDoBMSGKclgCgP+s1katYASBLNv3ySyJXS945TlzAfiqATjqB2LmAUw2A//ufytIXBdDTOhUATA4A0iXMbIFuhtk6BgDj++qEAfDXMCT+aDhmIQAGUNwYdiunwzWcAyD7VrJhd7IBkG5ddpuIpwDaAeD77wMvvBApA8Os3q5dozuBxIoB9MsFXNwAkC6bP/90pwAKADrb4KUQNPbOn4981n5btgxleb9++KHq3y0AqPYt7QJ2AoDM5q1VS71UWyWBpDMAbtkCHHywigeVLOC4+4cAYHIAsNgrgH369FGbLsh7bdGWb+PFDQBZ44rB2smIAWSNQ9rTiQLImliMe9GDnVfM2cfpoABmGwCyN3XHjs4AzutRWQyA+fn5GDhwHPIXvo0r/16FHkd2QocOdTH2klNQkveqAGA0AJ53nkoG2b9f1evjfck2mvx/PYoDADKWe/FiKQNj2luWLFkC/sORl5eHx1m1QnkiE8jW8bpxpf78Ej5/BasYQCZzjDHFAN4eTvqIFwPIAIs7ACwIJ4Sk8hr9wrGIiSmA7A3MTcWvoesAWrmA/VQAv/1WxXMRxtIRAHfuVKVoTjwRBdkWLL0wYAAweHC0pYcMAdi5hPW5OFIRAxgLAOfNA844w7oQdCYrgMkGwCwtBN2//8OYPLklOuX+idsxEa2wDOXLL8WYTs+i76eLMxcAWbw9L0+VgfHTBWwEQLYrpCvVCgBr11adnMzldbj3ZoICSAB87TXVDk6GpQVEAfRPAWQcH0u/EACZ4VsFwD5Cdtj9S9cus4AfDCd+vAaAEeM6C5hxfswC7gCACSH3AugBoBEAnQWcDtdwD4AsofGf//gLgHzYMTYsWQBIdyyLWaebAkioq1wZoNvjoIOAK68EmjUDCHzGwf8mLE5iJaIwAPJBsHlzIFsjy8AUyQK2AkCqxAwmL24AyO4xfKgmUwHMQgCkgtG06QDk5EzCFXimEAC5qLvVuRTzS36FEpmiALIQNMuc6ELQBEC2byTIBAWA8RTARACQL/nsIMK173cSSP36qkwO473jxQBqF7AAoO3eLgDoHwAyS3cWgP1hq1NZ5L+fC+B9AMcBeCJcBzAEYDKAB0wzNAxA7zA8fmFRBzBdrmH82tZlYJgEol3AQQEgs0OZsXnSScC550aSQIwK4JvL8M8FVxQtBO00BlArgEYA1L2AzTGAGnD8iAF06gIWALTd5FwfQLdho0aqE4jTLGBzEkgqADALs4A3bNiAFi2ewsaNg4sA4MUH34wXKvwPpdavd70EknoCCzSzHSIBcPp0VYSewwyAP/0EHHlkYl/NbRYwQU4D4HPPAePHAx9/rD47ngJodB2nGgCpnBIURQGMuWYEAP0DwMRuzMw/K+0BcMsFXXBAaH10J5CgAJBlThhTkUgdQIIsoYN1AAUA1Z2RChcwAfCYYwDWZBQATOsdKr4CeBnml/wy/RXA4gyAbNP577/u15BVIWi3CqAAoK3dBQAFAG0Xic0BxQ8AH3oI+PRT4KWXgHgKIDc2ul/1oAKYKQDI39W6dXAu4MbHosMP46ILQWeKC9gMgEzEuZD12eMMUQC97iMJn5/xMYBOAJAvlDk5iSuA/AyGrzitAxhPAWSowRlnAIzdNdcBNCuAfgPgzJmq5qsTF7AAoO09JQAoAGi7SNIaABkD2KKFghldB5Au4ClTCloe7XhzGWIqgIQg9nw1j1GjgLfeAt5+2xoAdRawHQCyTVKNGs7tSwWQAdmXXBK8ApgEAGz/w3g8F2obUV4FAJ2vBbdHShYw9i54D13+/Ac965+OTp0OzZwsYMIZYYp7WSwXsB8ASDcz9zSnWcCxXMAEwDPPVG7reAC4apXq0uSnAmgEQHpLuI+Zh44BFAC03UUEAAUAbRdJRgAgNzVmrHE4AcCKFVUmrBUA6ngXxr5YKYB2AMgYQAZtCwAWBcCNG9VDTo90TAIxKoBNmwJjxjhTADnnbBvHITGAXvcV1+dvmz4Py2+cjEab3kX16mleB5BQpEs3MT6PiR/xYgDTEQCpKPJ+Ng6jAigA6HoNJ/sEAUABQK9rztoFzM2MAcv33qv6qAaRBcwkEK0AGgGQUDd5cnwFMBMAkJu+BopYs8RElCpV3GcBp0oBTAQA6V7lwySIwcLU338ffWWqsMzeZQygUwBkzKZxvgQAg5ituNfcOXMhvr5+EpqGPlKqMwtBMyt+3bqkfxfbD2RsKUs2GQeB6pZbVO9cKrrGJJBkA+D11wN16qiXanMSiFYAUwmALO/C+1MUQNulFu8AAUABQE8LCIAAoLagjgH0SwFMFAAJLSz8bBzmMjCpAEC+DNBl5EYB/L//U+7woACQLa9YekMrwcyq/v13gPXRBAC97g1JPT+jAPDYY1XbQL4c64QH7h+sHUlgrVs3OAB00gkkkwGQpa2qV1f1EyULOO49KAAoAOh1k3YGgJddBvBh69fgW2gyFED2Cz7+eKB8eYDFrI11AGPFAPoBgFS9jC5FNwqgFQCyMPSuXZE6gAKAyqJUqo86KtIF4Y03lLtXANCvOzVp1ykCgB99BHTvnp4KoBUA8qWNCWhr1qg1GZQC6BQACaFs5UkFkLD6ySdqLtNdAdQAyJqn7JIkZWBi3oMCgAKAXjdoAcAgFMBEAZC9T+leMiuABMDcXPVWzEEAZO1EBkwHMPY1PhZFkkBiKYALFgCtWll3AglaAQwSAJmU1KlTANa1uCRVpEwrBE3YYc27UqXUmuV/exgZD4B33QUwAU0DIDv67NunetqmwgWcCABSOWTyCNd+kDGA8VzAAoCO7yIBQAFAx4slxoH2AEhF5dJL/VUAWfSWG2TQMYBGBZBxjMx8S0YSSLYAIB8yTz9d/ACQmemMn0omAGZaIWhCH+e/SRPVbuzXXz3tRcUeAH/8USmDiQxdasacBRyrFRxBLlEA1LGDfgMgf/usWaoMjFMAfOUVgC+RMiwtIAAoAOj11kgdANJFwk4gDLinW0NnARuTQP7vI2xu2w0Hhn6NLgTtNAlEAyALR9ONLQDoaL04VgAFAB3Z0/agTCwDo8seHXoo0LWrAKCdAhgEAMZqBWcEwOefV8loTlzAxthBAmDLlgAT1dwOq0LQbgGQfc8XLRIAjGN7AUABQLe3pvn47ANA3QrOHAPI7NFNm4BEYwBPPFHForEOYNAKIMGWPTUTdQGz28nLL6s4RY7evdX3Dg8BwBQogLQ9lRGOkiWBs84C+KKTriObAZDlj6ZOjU4CEQCMrFQBwKTctQKAAoBeF1rqAbB5c6BNG/cK4Ndfq56v5qEDnhn8bKUAxgPAv/9WreASqQOYCAASQlnzgnEv1aoBTmMAvQIgsxf52XTB031Hd94jj0QA8JgmaP/jI9F1AK1iAI0KYKVKKLFzJ7aF9kfU2lTFAI4cCfCBnGgZmFS4gGl9fl8OxpExu7lbN6/3d3DnZzMAct0zto+hMRp24gFg2bLADz8k7gKm65TFpp0Wgo6nADLUgG5Y1i801wE0KoD8vpxjPxVAurL5YuPEBSwKoO29KwAoAGi7SGwOSC0AEkCYpXvBBSpjjYMuYKpw55+PHfFcwPEAkK3gCDbJBkBC0sUXO1cAWTPsgANUUdkDD0weAHbooOLbqPwxFjM/vwgAXvjjBDwfuiACc3YAWLEiSuzalVwA5Pphj1Eqrxw6C9gIgKNHA+3bx78NzHUAUwWA+/er78kHNLPu+UKQriMAAPzq+sfQLPShWnPpnAXcuLFKyOKLa7IAcP581eHISScQOwCk94AwJgCYrneXo+8lACgA6GihxDnIGgCND9agkkAYA2gFgFT1qMLFA8BKlYCvvoqtADoBQMIXizDrQRewUQFkPbmaNZ3blwpgogC4dasCQT7wWWKCaoJxmLOAvSqAiQIgu6NQmdIj1TGAAoDO16ffRwoARgOgLgOzerV6KTFmAfuhABY3AOQex33MPHQWsCiAtnesAKAAoO0isTmgeAPg8uVAs2aAVRJILACk+sjSFgKA0QogFVraxC0A3nabcn8FMewAkHPP8iROFEA+pB9+WH1LUQDtZ0uHPPiWBPI0vrr+8cxVANMJAK+7DmCcIu9ZcxIIXcBUAOlWZicd40iWC3jxYlXqSgDQ/j6Lc4QAoACgpwUUsxOIWQHs3Bm48UZnn8Vq+L/9plwjVIjYkcE8uAklQwFMJQASIhmPGG9oF7BWABmfyLIaJgVw34AByN26FWUmT0ZZgkoqFMBMAEAWjWV8o3YBOwTAfX36YFd+PspOnKjsKwBof68bAbBLF2D9evtz4hyxc6YFADIG0mN5GU9fKtbJVi7gZAGgk0LQZgDkiw29IhzpDoD0whxyCCAKoO3SFQAUALRdJL4ogG4AkODHjZuBPHRbMNkg2wCwXz+VyekRAPPz8zFw4DgcO/tp7N9dAQ/XboEOHepi7NVtUJKFoHVDererIBEXcCIA+OabQN++yVMAXQKgtm/zWfOwPe9ATKzdrMC+45Y+jRLJrgPIOcykGMCgAXDZMl/Ky7i9NRwd7wQA2emI88nkKj9dwE4BsF49FZJCBTATAVBXKpA6gDGXpACgAKCj/SrOQfYuYLrPWCLEqQLIzY41pPLygJNPTg8AZDkNZuwZ6wAG6QL2CQD7938Ykye3xPDc11AWebgDE1G+/FIM/88rGPS/WYkDIOeUySpukkBiAeDChcDpp1t3AklzANT2HZ37InajHAbj4QL7/lT1StSePjm5haAzFQAPOwy44gr/FUA/AZD7EduKcbDuKJM3vIx4SSA6BtAMgPwOjA1MZNBdq2MAgwRAo3IYZBZwPBewVgAFAG1XigCgAKDtIvGsAAYBgKecAgwapJJA6KZr2zaSBWxKAvm7bXccFFoXXQjaaRKIdgFnIADm5eWhadMByMmZhDEYVAiAnM+OR3TFotASlEhUATQDoG5ZFV4s+45pgiJZwFYAyK4BzzyTkQBotO9E3FYIgDTB9+UOQcN5k1GG3WOSMcx10zIhC1grgJkAgEOGAGPGFKzTAlWOcOllpBIAnWQBE+QSUQDTDQBfegngS6QMSwsIAAoAer01UqMAEgCZ2cpOIPEAcMmH+Lvdle4AkFXvP/tMlYExAiDd2KylpVvB+a0AMm6MkERlzQcFcMOGDWjR4ils3Di4CACeW70f3tozCyUZO5jIKC4AyFI2xxyjHu4cLlzARvuaAfDb0rVRZ/oIHMQXlGQMKwDs1QtgTGi6jkwDwJ07gTPOACZO9A6AXHOTJlmXgQlaATQCoG4Fx969dPfqYQTAF15Q94eTGEAzAHKOd+xwvwKtCkEfeaSqPcg6gE4UQCbjvfiiAGAc6wsACgC6vzmjz0g9ALL4LQP3dR1AowLoFwBSMaQbO90AMBRS9f8skkDiKYAXHdENr4Te8EcBZDLO3r2qsG14ZIwCSEBq0CDy8HMBgPEUwOXlDkWjeU+kTgFkliYzMgUA/UkCoQLoNwAySYHuWHMdQCsALFcOWLnSHxewlQIYBACydR1fagUAvT5jAztfAFAA0OviSg8AZK1B/QZLAOTm2qYNdsQDwC+/VOqPeVAB/Pxz5ZrUCqARAHUnkGQqgPw9X3wReViw0wj7eJYvrwCQIMikGX43upfCmdMxYwAvfwWDXvUpBtAKABs1xoU5E+3LwBhdwFadQIKOAaSayzWgM81dACCXTawYwJyqPVBn2uNKzU3GMCsmQQPgunWq+4wetKHbtnNUdMaPBw4/PP1jAJMBgDoL+KefgKOP5uKKJIF4BcCZM4EFC5wXgvZDARQATMad7+kzBAAFAD0toLhlYLiJsThyUDGAdAHTxcY2ZEYANLhXYgJg5coKqPwEwLvvVg/FROsAGkuHmF3AVKlYVJqKAQczA+ma4TlxAFBnqTae+Sx2hk7HpPpl0anToRjb8wKUJCT4EQMYAwDb5TyKF0JtIrGXdjGA6QSAo0apOmM2ZWC0fY+f+TT+Cp2HqfWZ93Eoxr23ECV0Ue9E7rD33gP4EGZLNycj2QBYpoxSfVlug1n6tJVW4J18Xx7D+5b3DGPN0j0JpDgA4NNPK3eo2xhAswuY4TetWwOESnMdQKMLOAgAnDsXOPNMcQE7vcdsjhMAFAD0upSsFUDG5hFaEgVAZpDt3g20bGndS1LHAAYNgN9/r/qrOlEA+TDbskV1IUmkEHQ8ADSDCG07bZotAOrJ3Xlrf0x/fB+u3PQwqlcvq5RNxtIkGwBZ3/HJJyNrLtVJIGYFkCUjmFBkBED+O8vexBm7buiDx2ZUxLWbHlT2NXZ1SeQOo7rL9nS6rIvdNZINgHzp+PBDBXE33wwcdJCqnehmMJt2+HCgenXg8stV7U8Pg3UAv7z+CRwf+kC9dPiZBZxtAHjttQAVWr7EWAEgIZL3cSoBkHPCfcw8dBawxADa3k0CgAKAtovE5oDsBUDtdtUGMgMgH2i1ajm3rx8AaAaa8Kfvvm0QpkzKw7Whierh6BUAWQy2e3eAXTqcKoCsi8div5kEgOwzTbCxAcDdN92GiVPL46bQGGVfAUD7dZ9JAEhvw65d/iaBmGMAg3YBu1EABQDt128xOEIAUADQ6zJ2BoC6ZpyTT9NFT1kHkP1Ct28velYqFUCdBRw0AFLVYYwUh1MFMBYA9h2IKY/tiQZAulISzQK+4AKgY0dVpDloALz1VoDupCCGnQIoAGhtdT8VQLqRWS7HqwL45AJ82WtyMAqgEQCZ7PTxx95WI0NP7ACQYSB6D/AjBlADoJM6gGYAHD1aVUbg4N5LBZAtHf/6K9oOyXIBv/66qgJhpQBu2gSwvaAogLZrVABQANB2kXhWAI1dI5x8WqYDIDcedvHwogAyAJzDRwCc/NheXBeaEFEAvQAgs6750GapEQLgnj2qPEZ47GvUGEViABNVADMAAPN698WEaRVEAXRyf+tjtAIYJAD60GKu4OumAwCuWKGSQxIZjNdzC4BHHaXCEOgC1gDIou3s0sRWk1YAaATHIGMAnQDg5Mnqu0sdwJgrRgBQADCR7cR4jr0CKADozMZGF3A2ASDrLZ52mnUnkLfeAvr0CU4BNGVNwxwD6FABTEsApBpDhTOIkQkKIFU6H5JLogCQL01MwPKqABpKVRUpA6OzgM0KYDoAoLFkjQBgEHdWUq8pACgA6HXBpQYA2SKOQcBMAjn2WJVprMvAGLOA3/gAmy68CtVCv0R3AomXBcy+l8wQZhkYnQTC4+nGNtYBjOUCDkIBZCIK38L5Ozl0EghVFAbg6+/CB/4ffxR58OcPG45Hf74oGAWQHVnork9EAaxdG3juudQCYJMmStHg8BMAqZ6wdmQiw2sSCPs8U40JCgAPOAD46CN/kkCCUgDTHQC5T9CVqqHKHAMYFAA6yQLm2rFSAN0CIPcn1k90O2IVgtZZwE4VQPYx5kukDEsLCAAKAHq9NfwHQN78OTkA24vFigEkAHLDZLYxH+BUGf0EQNYIpLsjmQDIzZIFWdmdwqwAWgHg1KkqC5gAqGsS6vjEunUjRWNZruODDzAbPXFpaLYCYf4udjVINAbQ6AIWAISlAphNAEhFkNnSbkbQLuBMBUDufXzBMwIg633ynvXDBWzVCYTZ2FyvehgBkN00HnpIxQC6AUD+jubNfQPA/fXqYfOECajavj3Kvv22fQzglCnq5VIAMOZdKQAoAOhmy7Y6NgKAzJKj+4LjlluU+4VlYNy6gLnJ/PwzkJvrHAAvuiiygVEBfPRR4IILsCOeAshizyyabB5UAK0AkGDGhup2SSCJKoB+AuA33wB0X3IwiaZKFczB1egcmiMAaJxvuoCDUAD54sK1ny0KYCIASDh44AFVSzCIJBA/AZAvOdzfWDrJLxdwLAUwFQBo7gSSRgCoa232n/QAbq16JVZVL40BTXbihtWfoUS8JBABQNtnuwCgAKDtIrE5IAKAN96o3KZUn379FbjjDrVZugVA1tBjAVwCYKxekmYF0AiAhDq6I/0EwCpVVNZrugBgw4YAN7hYCmCqAbDhMWj306ToQtBWSSBGF7BVIehkxAAaAZAB48xw1nUAE40BzCYA5MseXcJuFUACIF3drAN42WXA77972ot2mrOA/QRAJjsxzIH7THECQB1qkMYAqLvtrMq9BlfhKXyIM9GpzGhMqToBNf7eUHTN6CxgAUDb+0kAUADQdpE4BkAGnbdqpUqDsFMAszfZ8DxIAGQMIIHPLQAS6OjSsFMAGXjNYreZAoB0iTNOJmgAZLFkFu/lg9HKBdzwGLT96TG8GDo/EnuZSQBIlxdjTAUArW9/YwxgpgAgi7TzpdI4WC6EbRXtBjPdCYAMm8hEAGTtTYa0OO0EkiYKYN7u3WjadABycibhZ9RDD8zDRzgD5AfltAAAIABJREFU7fA6JpTtgSP/3YCyrBphHEECIJsTGFsgskEA74UMHQKAAoBel25EAfQbAHmzxWomrhXAVACg7gVsTgJhP1l21vDiAmYsDpVGuxjAWApgMgGQLv7rr3cHgFSGWZJCj3RLAtEKoABg/H3BTwCkC/jSS31RAL/oNQXNQ++rlw6jAshYV8bKmgfBjiEfdkPXujz9dFWa6ZNP7M6I//fMAk6mC5gASO8Mk5ycJIFwX61fX4XVWMUAcq+bPr1oHUBjGRgfYgA3/PEHWrR4Chs3Di4CgI+UvhYHrv8Gh7OXdLIAsEcP5QXSo1q1aCD0tiqSfrYAYHIB8FAAEwC0BsDXllUAmH74fnjmmwGYxD4CALYCmA7gftOq4H/3Cvfg/RJAHwArDMck6xr6I50BIKHmppucLXDtAs5EAOSDhq3gEqkDqIPirQCQLdOY9KGzgP0AQKq1hNhEBhVAIwByrhh3GR77rBRAupnWrfMHAOkaZguyChUi357rhg3vrVTdWL/RHANoBYAPPqgU5jiDSSCPTKuIm0OjFXyIC9h+VWkXcNAAyBdTqnbsWcx1qhU/QgyTpwhidiNVAMh9ZNw4wGsSiFcApHufMdM6CYRdj9iK0lwI2mcAjKcATizbA/WSrQB27gycfbbqgLR6tSrQb1aV7dZSGv29AGByAfAFANUBdAbwD4B+AIYBqAtgL4AcAJRHhgNoCOB1AGMB6Aq7gwDcCuBCAOwSfx8AFvriscy1r5ykaxiXcPYCIGHPKP/zgeInALIPLB9cHHwbZxkYBstzJACARbKAMxkACZu0B1UIPQiEhGRmKDsddgCoISUTAZAqDhXhIAZB4KuvAL60eHUB+wWAM+bjixumFlUAmVH77rvKCixYrgGQpX/4AuQGAHnPEMiSoQAyhpovNRoAmfDA35LIMAKgk04gZgXQKQAaz/NBAWQvbGMMoHYBdywzBlOrjkeNvzcWtUaQLmAq1eecEwFAhgcJACayItPmnBJJ/CbfAHgyrPLxYysB+JfNdQAwHXUMgJoA8sPf6TYAfVn1Lfzfa9kbAsBj4f8uBeAPAGwbQV2au/3oJFzDHQDy4cl/iosCqLOA7QCQfW/p4nQ6zAqgEQBZ65CuJypvGgBZ6Z5JMsYyMG5cwH4BILskcBMMSgEkYPBhYhz8LD7UX3op8qfcjMeOdQeAdOnQtroOoFkBdAqAN96KR6ZXSh8FsHVrBX9BASCVVwIg1VbOD2VPus3dDL8VQCsAZJwqk3x0N4h0AUC+wPH+taoDqLOAUw2ALDnDTHa6gK0AkC9bhC3jCAAAI1nAI9B172vYWH8RBjf7BzfkfIISLI1jHlQlDztMJcn5XQZGANDNHZ4RxyYTALsBuAFAdwCbw+B2HTu9AmARLUIg1T09TgPwIQBGmZYMu4X5Z58ajlkCYDmAgWE4DPoa5sa89gqgWwCk22PtWuWucRIDyLIvdJvqOlamLOC/LrwaB4d+ji4EHS8JZMwY9XBj0HS8JJBYAEhFgQqJFwAcMADIz48ogLEAkPZhHArdWyxWbQWAO3YU/F2RMjDpAoAs1nrqqdadQFjvi8pekABIcGRNSQ4BQGebtvH+EQB0ZjPjUVrBJ6ibC0GzhRr/vjgAIJOoWD7H7bAoBL2vbj2cvX4eXt50Mqp/8Y5qQRkPAAmo7DLkZx1AAUC3M5n2xycTAOnqnQKAPiq6fLeE3cHsLD4jrAgSEvU4JhzfVycMgL+GIfFHwzELAWwDcGOSrkHF0TiiAZBZcsz+ZRYwW3ix4bkdAHKD2GiQ8lmB/pdflKoUCwBbtlSqDd84GVDNGn1WAPj6+/irfU/3APj116p3ZroCoA4iTxQA+bsY0O5HDKAXBbBWLdWvUwAw+q7y2gkkaAXQCIC8z/nfbhVAwgHjK4NyAdNNy5CJdFUAqVA5BUAqrt99l1wXsFYAqbKPHFk0BtCJAugjAOYfUQ9n/ToPi0NnoOqyN5wBIBNf+BLp1+Bzhi50HQMoLmC/LJuy6yQLAPk5qwEsDSt/dP0ysnwugLMAXJPJCmCfPn1QdskSoFYttB08GG1Z+sUpADJwePZsFZtD1Yv/aACM1UqIAMiYOypehCG2aaO7goMK4IQJBe7SHX4BIF1cBFljHUC/FUBdGJdqpp0CKADonwvYqABSLWjTRsEMy8B4cQEzUJ5B44mMbAFAggXrANJObGHoYew0u4D9BEDej+xM5FcMoFsF0E8AdJoF7BUA2RSASRI+KYD5dY/AWevnOwdAJqnQi+MnABLYGQPIrlNMAslAAFyyZAn4D0deXh4eZ9Ki8jJSSMq6kSwArAbgbwAnAPjWYGVm8lLF+9MiBvD2cNJHvBhAVsK8A8CCcEKIOY4wiGvEVwBZB5Aw5xQAu3ZVWZOU9OkOZNwOAZAu4FithPwAwE8/VeqAedAFbFYAMwUAqYjOmRNdB9DKBexVAWSx5C5dVBmY4qQA+gWAen0KAMZ+oOgai6kEQL7EMRbPbugXMqrmfiSBpAsAUoHli7O5EDT3EQHAoquCnX2oANLLRQBkaA6fUxk6JAs4uVnAjFhdBmAAG3QB6ADgOQDtAXwOgK5dZgE/GE78eA3AOEMWMOP8mAXM85gQci+AHgAaGbKAk3ENZwCoC0HbuYD9BkBCHbNn4ymABDoqBHYAuHKlusl5PFVNlhmxSwJJNAbQDwUwmQDIeWOJDSsAbNAIbVc/Hl0I2qoMjNEFbNUJxG0MIGu6XWgMo42/M+/r3h076tVD+WHDVEFZAUBnjzK/XMBUAOkC5oM1FQpgIgDIRCO+PHoZAoDxrWcRA5gWCqAAoJdVn5bnJksB5I+vHy7rcjqAcgDWh+sCMjOY4zgALErFOoAs0MZX0wdMVmPZmN4AqgD4wqIOYLKuob9W0RhArQAmAwAJPNxMjS7gIACQ5V5Ygy9VAGj4TQWGj+UC1gD4xRcqQ5gjKAXQCIB087DrS3jsa9AIF6x+Ai+Fzosk3/gNgEuXqgxFPeiOcQiAOrPwnBkzsHz/UZhb82h06FAXY9sdj5LMtPbqAhYF0H6z1wpgqgBQF253owDSBcw1lmkAOGOGSoiIVQjarAAytIYlZ6gOJhoDGIAL+Mz1C/B6qJWzGMAgXMBGAGS7Uu7LogDa3+tpfEQyATCNzZDwV4sAIN1djF9LMgDmN2iAHeedh3IPPKBUnEwGQMZ+UTE1xwDyNzGuka5XBwC46Z13cECrVsoeYQCci6twSWiuAjK6gE87TRXCTWTweyQCgHTtz5oV+UQvCqAZAJs2Bei+d6AAsrbYlCdOxPTdT2I5mmI07kT58ksxvv0C3PzidFVjkMpmojGA6QCAVKr5QhDEYMY5CwMz3pahHvxv2szNCAAAP79hGk4IvafWuF0MYCYAIENpqDh6jQEkALIkCmO/nMQACgBar2QBQDd3eEYcKwDobZoiAMiiusxK5VsjNy6jAkj3Kct5WI0EXcD5d96J3d17YHWJqlhcpjlm1mxYoOKMe2MWSvjtAjYqgLoVnDkJxFhYNpEyMEbYcAKADN6lyhcuA5NfsSK+aHoyTl75Jc45uB82HLxHqVrDb0bJKlUQGAAyWWLnTnsFkG3ufv45NgBWrIgSu3ZhW2h/RDWM5wJOEAAZ+HzqsX3x1eppBavxTowqAECOnrUuxuzfX8l8AORDnus0SACkyswSTAKA7ndQqmvMojVmAfM+IkTrMjC3366qKRAA2QmE2fIsCH/EEdEdcJx8ulcAZKwg51u7ZrnHM4vZXAfQCI5BK4DcI/kiax66DqAogLYrQ2IAkxsDaDshGXhABAB58597rnogGJNAqArSfRoLAJlMQMXEZRLIrBpNcOmrLyAHjbEIF+NB/LdAxfm5YhccvmCuvzGATgGQihrBzA8AZNYhVT8OKwWQn0PgPvhgYPt29L/nCZww8W1clb8Ex2E5VuC4Anvc1usjjH7sv9F1AP1UADMMADds2IALjn8CyzeNKDDtEDyEMRhS8O9XVOuFZ7Y8GQ2ADzyglG09WKD7nXcU9IbH3gdGYuznZ+OW0EMKXlOtACYTAPmiV6mSKIBuNm8CIAGF+6WGqngAqI/hvsoSJExEcTMSAUCG1jCTnS5gMwCy5BZd56kCwI+XqH7pAoBuVkGRYwUABQA9LaBwT+JQKBRCVT8BkD1jWQcwRhZw/kknoe8fh2Lkho+Qg4aFAMgf81PZajjihbkoc9FFBWVg/mx/DaqH1kYXgo6XBMK38G++UXUAdRJIugEglRfWWAwDYN6WLWh66r24K+dfXIM5hQBIezQ7uje+XT0tfQGQcXynnOKuEDRdvcuWAS+/HFm/Dl3AVADPaXwzlq1lvlU0APasdQlm/74oAoDG7iz6k37/XXV44drkIAjm5OAhDBEAdLObsEQIO0wwBpAxvBtY0CDxsWv6PHx24/SiLuB69YCPPlIX3rtXtVfjSKUL2AoAWYycsac//KBifI0KIAGQkM3wGv2S6cZURgB00gqOe7kdADLZ7W8WtjAMswLIezKRVmkxkkAKYwDjAeCffwKHH64A2+8yMFynLBPFlx6JAXSzAtP2WHEBe5uaogogbw5usroMjBsFkG4OFm/VABijkGhe8+a4aV0zPLJ1EX5CA7yMSwoUQI4fSx+G6nMnoFq3btix+D382eFa9wD47bcq4SMeAP7zD3DggRHr0QVsVAB//RWoUwf48svonrX6DEIcq/2HR/7xx2PrgAGo3LUryvLhxIdVLAXQBIAbV6/GCWe8gFEbVxYBwKMOfwBrNt4bDYD8Xaee6k8MoFcF0A4A2UKQ7iTjIDiwaweVOD0cAiAPv7f3vRg+TeVXaQWwIAawwwLc/IIhBtAKALk2jzxS1avkoGusZUsBQLcxgARAAg/LwAQFgJddBtStG+ndS1WdnYY0AG7ZolyZdoNqE5Vfv5JABADjW9wPAGSfcL7E+1kHkOuU8c98thEAGQObl2e3etL270UBFAXQ6+IMDgCZXRWjkGj+iSei74bDChTA1TgaL+JSjMTdBb+lQAF8fg7KdOwYDADqMjBOAZDuE8a/DRoUsTXbxBFe1q+Hzki94YkxGFnhInx2aGVMqfIdzmnVHCUmTlTnmF3ArhTAm/Dt6qn+AiDfgrt1U2VgggRA2qh376IAyBhPqjqsG2kEQEIIww1sRv6GDShZk223FQC+UP9vdOp0KMZe2BwlucHrJBABQGtLMulDxwAm6gJOFgDyXtEvCl4AkJZgHUA/soAzCQCpsjM5zRgDSBewnQLopVCyXwDIl3jjS6LdxmD39wKAdhbKuL8XBdDblKUEAFk4embNY3HZqy9gNRoVAmBhDOD8OUC7dt4BcNUqBV9WZWAcAuDe4cOR9/33KD1vnsrK5aD7krGP69eDGamTJ7fEJ7m34248iNdwER4p1QUtmv2Bs776wBEA6hjA5o++g6v3vWEfA+hVASQAdu8OsIuLFwAkhDHGKJYLOCAAhHYThQFw0KZ+qF69rFIL6CLzAwCpCLN3aCLDayeQTIgB1ABIFzBbbPntAmapFto/FgAyvm3zZucKoAZAhh989lkisxo5J9MAkBUeeE/wXudIBQDWqYszf3talYFx4gKm25udm4ICQPar59oSBdDbvZDiswUAvU1AbADUWcCJuoDjKIAEwPyhQ7G725VYg6p4Ou82PFN/a4GKM27JbJRgkLQdAH78sSrybB7c6LQLWAMgXb0sL2KsA2gDgPm//IKBE59FnbkvotaOPNxT93SVlTt2AEqyREWXLshbswZNmw5ATs4kfIPjCwHwYQzEIQe+iW5/fq6gka4GqoG6DIxJASQA5leogC+anoKTV36BY/E9dtefrVStcBbwHFyNzqE5KhbSbwBkqRnGJIbHvqMb4oI1k6PrAFplAfsJgBooHCiAZgC8OzRE2UUA0NluwHg0hjZwHfI+r1hRleBxMzIRAOkC5v6QyQBoLAOjO4Hw3tS91DmHxhhAKoDmjjYCgIAAoJu7PW2PFQD0NjURAKRrlGUNdAygUwCkmkTVhW+XxhhAGwAsKDfTsyf21quP+767DP02DVIqDqHODgCp6FGFCxAAh/cailHz2qB/7kdoiJyC2DwqlDff/DnG/6dVAQBu+OwztGjxFDZuHFwEAA+o+Ak6rnkehzOgmQD46KMqAJmDD14WXmYZmHAWcEGQeLivMgHwvU0NlD2YpFCpUnQZmCQAYJs1U/ByqHUk+cYOAK06gbhRANMJAE8+GWBQfyoVwB491HoIYnCtffWVSlYQAHRv4VQqgFYAaC4Ezb2cc0uVVAMgwz1mqsQpUQD7CAC6X/VpeYYAoLdpiQZAbi4MkGUSiFMAZNIHH95ssO0WAK+5Bvvq1ce9316KIaG7FWwEBYDt2qmgYocxgGcf2RPv/zwbQ/FgIQDS1A0b3orvp12OMj162CiAb6Hbn59FFECXAPhx6FhlD3bpqFixKACecgrw77+Jzb7RBUzQ2b69iAIoAJhCAOQL1ZVXJgcAmZnKQsWiADq/l9hnl0kKVmVgjFnAVP8Zc8iYOMZdck8NhVT8nZvBz2K8rLkQdKxewAKA1tY1xgCKAuhmBabtsQKA3qYmNgAas4DpPr3lFutPuvxyFVzdr1/6AuBBBxXUFXQDgCceche+2sTUlBFogJ8KFECOGjVGY/nUJjiY9jDFAA7FSCxGh6IxgGYFUP+3VgDpgqUbzqAApiUActOcPTuyDowu4BQpgIMxGv8NDXbnAj7qKIAJBRxWWcCpVgAFAFW7Nr9jAP1yARMAGaN2zjlF6wBqAGS9v3LlIgBI1ZV/xgL0iQAgX67feMO6E4ifCqAuH+N3Ekidujjjt4V4I3R66mIAGavK5wCfbQKA3sghTc4WAPQ2EUUBkG+pLLWgAZA3DdUzDYAsb/LKK5HgWbp+WQ6FAMiSICzdwBIqrB8VIwuYMYAFLuBkKYAJAKBWAM0A2LBhX3w/7T8oQ4Xmt98iWcCPP4yBebPwY/2lmH7gZ9FZwLEAkHUAWUbDAQAWiQFMtgLIgsosneAHAI4fr1z4xizgBF3AlgBINYtZ27GygI0AyFi4k06KLgMjAGi/q7BsD+PpmATCOOGNG+3PiXME6wB+euMMtAgtVTCvAZCuzHffVWeydI/OMHWTBMK9ieclAwAZd8wQj2QCoCkGcF+PHthZuzbKDR+OsosXqxhAowuY3hoWojfVAYw6j3s4+3P7VQfQDICcE4aymIdO8AoiCcT4LBMA9HS/psvJAoDeZsI9AIYVkwLVj2+zvIn5QLcCwFiFRF0A4MYO1+GQ0JroQtDxYgBZm+y771TCh04CSQAAdQzggNwPCxXAqBjAK64oAEA99h7XDBevGIU5m9qg+kOmOoDZAIBWreBixQByvTCJh/1N9fADAPl5DGNIAABH4U70CY1S68wrAGrXHGvPORnmshmZoADquo18gUkVABJg2JLNbnBv4kst9yw/kkDiKYApBEBdkuqsGU9i1f56mF2zAYY02obrXp0bFwCN5/2wvx5m1WyAnq0q4q4FE1GiOAMgXy727LFbPWn791IHUOoAel2c7gGQGXRsqv3HH6qYLzNbrQCQSSCx3iCNAHjEUbj3u8tixgAmBIDLl6sSAlYAqHsBm7OAGQvHmLpwKzidBVx7ziIcvKU+Hqh/qMrKZRYw1Qm6vg0AuK/p8ej0/Ug8HeqAqsMHqo1F1wFMNwA0AobTGEALBXB/zZrYPGMGqp5/PsoceGDRXsBuAZAFotl32m7obh4AohRAKwCke4xv/nqwELSFAugrAHotAyMAaK8A0oPAVmZuAZAviJ9/brfC4v+9FQDqTiCxAJDxgOx/69UFHKcTiC5JNTV3Jn7AMRiFobi8zAg8u+ce4PrrgSefVL/rvvtUzG9YATSe9yMaFdRkbVJ2Pr7d1xOl6fFxO6zqABoVwE/+T3mNrBRAKsk1aigXu99lYIwKIPua090tAOh2dtPqeFEAvU1H6gGw7pG4Z/nluDM0tGgSyGtLsfGi690rgIkCoE6G4AYW7gSy46778fxDa9Fh03SVlctB9SoeAD4wSLnI3QIg3TSzZqEJVuCTUJOoJJAoFzAfMlSpEk0C4UOEWabXXKOyXZ0kgRgAUCsGdz46DD0PuA5rqwPL105F2b17sC20P6LWEshuvBFgPJFh7B0zBns++AClXnghUluRXWNGjnQGgHz5qFWr4IpxAZAu9mHDogHwl19UJxCtzoVdwAKALsvAaAWQLuCLLvLuAp72FD7t/WRcF3Bebi7KMq6OI9MAkN+ZtSUDAsC8IUMKS1Jxr9AAeDFexsvojH3XXotSs2ZFAJBVCDZvBlsr6lJWPE8D4FFYg1UlGgK5uyL3qNNnjR8ASFidN8/fOoACgE5nMGOOEwD0NlURAKQyRjCwiwH0QwFk8gNrUTEG0AoAx44tqNu3wysAMiCb6pvRBawVQLaR4p/rYQQhbmBUiurWRe49I/DMiJ8iNfhiAeBxzdBpxSilAJoBUJd90WVgdF1A2sEYAxgHAOfiKlwSmqvgym8A1Mpn2BasA1gkC9gAgFoxWJPbHZfgZXyOk7ED5VERu+MCoAbHQ+YtwnHbtmHgEWdHaisyXi8ZAEgYZRmPZAAgYxwZjsDBeWbGrdVItguYCUdff61KhfA7lS+vkhXcjCQA4P7OnbG6dEU0WL+m4Js1atAHHS46QqnwjGNzqwAyBpAqcyoUwCpV1N4aEABu6NWrsCSVEQA7YREW4RLs7N4dFRkWw0EFMAyAGzZsiDrPCIAr0Qj/bPhNlbJyM/wCwKeeisR/uvn8WMcKAPphxbS6hgCgt+mIBkACCpM/GC+jy8CYk0CsAJCtvSjpG5NA4rmACT7cwHv2LAqAdBvzYWQHgGwlxmPNgy4erQBaAaAuA+MQAHf3HYCXH/sNF4aeiShbVgqgHQDS5ULA5nADgIzBqVAhugxMCgEwb9q0QsXgD9TAxVgUBsCKqIhd+HvT7ohSyuB9JgW99lrBz544cT5eeqkxeuV9jPLIxeV4PlJb8e15vgHgtv/+F+XvuQdl2S/ZrAAy+NsY+xOkAkhXIUsqcb3z4ct7QneTMa5bKwBkpxa+EAQxCIDffKNcYMZkBTefFTQAfvYZQq3Px9e7jsY5+V8XfLMSyEf58u+pWpwVQ5kJgAw9mTzZjaVVyRmdBRzDBRxLAdQAuO+661BK1wE0AGDSFMDadXDG78+oLGAnLmB+17lz/QVAxqrqihbiAna3BtP0aAFAbxMTGwBjZQEz/o1ZZcYYwGQDIDt7fPhhcABIAKarkArg3cPx8siVaB9aWDwBkG6pbdtU7GN47KvfAG3WTo0uBB1WADeMGlWoGFgB4E85G9GgwWHqSgRAFhcHsL9WLfz551bs3XsgauN3fItmaI5vC/6OtRVXlXsfJZ3GAFq4gCtXzseUK27GLS9Mw/Aq7TG/xlF4e+uLqDn1cZRkzKoeTgGQ2e2E10SGjgEkJPGFhABIFcUpABp7NSfy+XbnZAAA7vnoI/xz9gX4ft8paA2VBUwA5P9yvay8tApK8SXOTQxgkAog1wsTTGLFAFIBpNrK7xwAANKjYhUD+J8yI/AcYwB79VJxdRwGAOR/WsUANi47H9/5GQMoAGh3V7r+e0kCkSQQ14vGdEJRAKTyR0VCALAQABeM/AX/Cc2MBkAWwGYygoYmNwog+xNPmKDAwM4FHEsBbNlSxe4lMowxgDEA8Py107AodG7kN4cBMJYCuB2VUAk7iyqABMD778eGG24oBMf9KIGVaIxjocpAsLbiuoPmogyzd50kgRgAcBDG4J7QIAwb9jBWPlYKb+wZAP7ZWAzCVyUa4quOp+P6RYbahWYAZEeME09EVAwgS+wMHiwAGG9tBawA/r14MfZ27IpV+SfiXCwNA6DKquZ6ybliAyqzSHoqALB+fZVQYVUH0AiAdK1zTXM/9QsA43QCKczmnT4Ln23vgWfr/4O7jt2E61+Zo2qMWsQA0p76vDOnz8YX27sXtOW89qxSGDr/EZTgS4vbYeUCThcAZKvJm28GRAF0O6tpebwogN6mxRkA6uKZ/CwnCuD69ap+FLt6WG0g2gXMGMA69aKTQJy4gN0qgNWqqWxlYyeQeC5gkwJYBADZC5jqkFcAZJICg+jZ7o3dGKxiANMJABk/N2dOoWKwNrdboQt4OyqgEnKjYwC1Anj//ci7885C1zEBcAWa4DisKFi9rK24qtx7CSmAhL0hm25Hq1YDUCunM97BeYUA+CVaYHrNGpj480uRQHYBQFV03KsLWN+nXL+EdtZv8zB2mZJAtAK4Yt/JRQCQ62XlpZVRavNmYNo0+09leApd8X4pgARAuijPPrtoIWhmtjLEg651IwCyEwj/zKMCmH/uuSi5dCnydu9GWYbKMBlGF4LesIFyHrBwIe7DMPTddBeqf/S6qtrAkAKLGECj8XK79MDwZ5ug/6aBqB5aD/BFtTgDIGOBE8lytl9xSTlCFEBRAL0uNG8A+NZbqr+t2QWcjgDI77lwYaQVXAAA2HHFQ1gYam+dBGKMAdQKoJ8AyGSDbt2U0vDqqwosY41EFcAwAEaygO/HRfvewZb6z2HFukdRbm9eTABkzKd2Ne3KPbcQAAtrKzIGkPXzmFFqNwxlYAiAN/zYA2ef/RSO2dgS76J1FAA+elBTPLRydCSQXQDQPwBkshYV7AAAEOEYwG921cfZ+d8UKoCF66XSNgWdTgGwdGlVB9CPJBAnAGhssadbwSUIgHufeAJ7n30WQ45vh67TH8dpu35Do4a34pHqP6H9siURANRlkAA8gjtwfegRVH13kQJAZuNrW5lcwPp2y+t6FYY901hVZNi0xncAbPX7s1gSOi21MYBaAWSID2N0BQDtdtu0/ntRAL1Njz0AGvsnmhXAeADIN8dYb5BBKoDc4L//XtWQ0kkgBx+sEjAyGACLlIExu4CZgNO1K8AHHRN1rBJk9FoorsBdAAAgAElEQVShG4nZ0CwD49QFzLi2n34qUAD1yD+sBk79axEWb2qOg484CCV27owLgBocxz8yuAAAL67fPlJbkTDMz0gAALUCWDPn0iIAOL1mTUz8+cXUKICcA8aFFccYQP42nwHwk94zcWLoXRV28Nln2H/JJVhTqgKO/m1twZI7uv7AyHohxCQCgMw0ZzF7LyNJAKjvl0rzF+PMv39A2/w5eAujcR7eQQnsx32lr8ewvTOjAZD39Pr1RQGwd++Iu5yJUexNTgXVMAQAvSyK5J8rCqAogF5XXWIAyDdKuht8AcAjcM/yKyJ1AE0u4A0X9cKhodXRnUDiuYAJgCtWqBpS6QKAzDplkoXOArZRABtjJT4NNVa/OewCdgSATDj48UcgVoa0EQCZDd2zpzcAPLwGTv1zEd4KnYwqNSrZAmDhYi2hXMCHbfo6kjHcvHnCAKhjAFc8VhpL9vTHQDyMcRhoHQPIdnYsy6MLwIZjAEfiLtwaGqls7lcMoBkAOZe6jp3xzjXHTCU7CYSZyYQ5N0MDIJVmqio+uIDNAFigXPHeWapiAKMyzFlGKp0AUBeC1i5gswKoYwAJXVOmOLK0Vsyvyl2JzhiN9liHt3BeIQCyTeUI3IO9992H0oQ6KoBhAByPfugVGh9RABMBQLqyWc/U7YgRAxilAN5+u0qYMQ9dCDqoLGBRAN3OZlofLwqgt+mJACALA+tYP2MSiFkB5GbMwH725dQAyIQG3tC6DAxdwE4VwNp18d/vu+Ku0F3q4ZtuADj0fiwYtS46CSRGDGCUC5i/n2/ZHHyIsQE8lTcOAiDd5lSGjDGArNY/cyaiAJDXKV8+ugwMwZbdVIxJILR9ogAYCkU1qGcWcJEkECsF8PAaOOXPV/B2qCWqHF6xaCcQHQNo6lXKoHgmgdQOrYyAvUcALMgC7nIzbnl+WgEAvlz/Tyz9dwFqTnkMJZm1rgcB0PhgSwYAcq4OO0zBfDoAIONNv/1WlYHhfVumTEYAYFSR8UQAkDGADDMIQgH0GQCN5VluwMPojJloj1V4E+fjfLxdoABqAPx30CBUYbKJnwD491r1ohQEAH76poqHtAJACgs1a6oYS8ZEc43qe4YtQN9+27qUkpPnIL0LDFdgEoi4gJ1YLO2PEQD0NkXuAZA18HQGbFAAyM2sfXvs+N+72NDxhsQVQKph3MSMLuBYhaBZxmHHDtUiyZgEMvR+zB/1Ky4PPRmBFTsAHDFYPezDALi/YUNsGTECVS65RLkiBQB9B8CCl4cwcBIA79x0G6pfcKoqecGXmEwDQLrz+UIQxCAAMmaUQfACgO4tbOUCdgKAhB62X3OgABoLNN+AJ9AZr6I9XrcEwLgK4NJX1Po3KoBMGmGXongu4FQDIDOWmbnM/Zide5gox+5LLKRNEExkCAAmYrW0PkcA0Nv0JAaAV1xREGeSsALIeC8+mJkFbFYAWV6CcVNJBsB9Awcid8sWlJkyBWWZvafrAMYCwEsvVbUQw2PfsU3RceVolQQSBsD8CRMwcOA49H1sJAZXvhzfHVKuoPPFuDdmoUS6KIBDhxbpTpCJCqAZAO8NDUTVc8MFx+MBIDtitGiBQF3AbhVAZqx36ZJdADh1Lj65aVZUDKDZBZzWCqCuAxjPBewCAKMVwGnojJfQHkPxJu4vVAALYwC1wm6lAMYCQHptmAhnGFExgOkCgEzaIgCyVinBzysAEgJvukkUQG/ckDZnCwB6mwpvAEg5nnFtZhfwb78pBSxWEoju0cpOIIkC4AcfAIRF8zDGAMZTAPn2W61aYQ2sxrMXouTu8hhTuwVW5TwO/LwWJevVQ64VABpL4cQBwP6l62Dy5Jb4Jrc3bsETBSVKmMX4c8WuOHzBHH9dwOwUQHDmb2aRbCvbaFvRFa1jAL0A4GGH45S/Xo3tAma4wLnnAgG6gKn2FcCeSQEs+LMjD1YPObp89eADhW513QouSACsXVsF3gsA2u5Su6wAkODO8In33is4vwgAMl6MXTLsBsvAMDnKLxfwUUepmnrxysBYxQC6AED+pEgMYE4YANvhTTyM8/F7QULMo4ctV1nARgCkavbrr5EkEA2AhB6tPFIBTDYA1qqNVn88p7KAnbiAtQIYJABSyd23z271pO3fSxKIJIF4XZzBAmCsIGKvAMgevu+/nxgA6lZwYQDUm+yw3NdRETtxGyZhH0riwevvxD0zRiYMgPt27ECTt0oiJ2cSfkCjQgDkhOWUrYZ6L8xFGbYqYwwgC9pSdXQTA8j4Qbqs9fARAPOPOhrn/Tw9uhC0ZRZw4gDIJJA6oRXRMYAsNs12TXaDLxh16hQcFRcADwi/H77xRuSKLJXDdlzJAEA+YBiXedZZ7mIAM0EBZI3PcePU+mV7rb/+spu1uH9fBADZr5dtKP0AQO3m9hMAZ89W86oTHrQCyAQ0vvgSAFlvkS9luhC0SwDUWcAV5r2JMzaVQt/6x+HV3EVo/PtPKiFmyhjVU90IgIybW7cu8wGQ9mVCiwBgzPtGAFAA0NOmC6DYAeDeESOw5+uvUerpp1GW1d7NMYAGAMyrXLmwOPFDGFIIgHtRCucfeSWW/DAD+cNGFY0BdKAA7ti8GUcvboSNGwcXAcAfSh+GQ+ZOQOWzzkLZ2rWRFwqhLCUsPwAwJweIpY46VAAJgK1/noFXQudEAM0OAK2ygLUCyOK0hAU9wlnAUQB4wgnqQRYEAGrY4+czqJzlbOwAcNAgFeuayNCt4AgC48cD/G1MAtGgb76mOWsyUwCQv411AFMBgOwlzoQBJwogAZCxt6wD6EcSCBXAJACgXib/jn8CHw54FS03LcKBl12I0u+/o9TQR0c4B0AmPugWdHEUwPueaaIS8vx2AbtVAIMGwHXrAM6jKICJ7HBpc464gL1NhTMAZFkKtojjYBKIjgGM5wKmmy1WFplWABkDWKtOdBawkxhACwVQvy3XeupF1Nu+G0PrtsI1p5XHXXPGRieBGABww+7dhe3JzAB46iGD8Op3d+DAR6cmBIB2CuBbF16COctL4pO1T6Lp0TehTcejMG7rKpSYNQvHYBU+Cx2j4CtWFnAsBdAJADKLmyVg+I+FCzgmAPLabNAeHvlGF3A8ACQQ3X13FAAWyQL2AwDDwFmoCmoF0C0AUpkdODBxACRksENDpgAg3aNGQHeyp1ABzEQA5Fr88ksnvzD2MU4AkPtlpUpFFcBNm5y1rzN8+q6J07D0jpfQKvQ6KnY8LwKAk8LrTHcCYQxgLAXQCQB26YH7nj02vQGQ6j3LgCUyGP+nYwAFABOxYNqdIwDobUoiAHjllepN/pZbonsBsxYX4/w0AC5bpgLUmQSSRgCoXbn9cpehCVbiKsxD07Jz8V1eT6VSMO7NWAh682bEVwB7YMkP07H/vpGY99D66CzgGArgRSvH4JnQhYVJIDoG8NvcG3EzJhfGAH6Pi9Fv3934eM+12IRDUR67UKL8J1hafzBOWfF5NACyDEO5ckXLwHgFQLpXCMMCgEWTQLwCoFkB5AvPoYemjwLIcIPly1UWsG6TligA0gXcrl3yXcCJKIB0ATPMINMAcMJULO33sj0AsgMQAfDvv4u6gAUAVQkYehgYDykA6I0c0uRsAUBvE5EYALJExa+/RgCQJQUY36LrADJGy6kCWLM2/ruiW6QOoEkB/KPjjTgs9FN0IWiTAmjMmLsLI9EYq3A1nkJD/IgfcQz2V6+OEuwHzMxbtkRiK7E4MYB0AY+8fkhBDODuu4bhqYd+wxWhGZHvQADUxbDD9mcWsBkAI1nAo3D9nufxa/3X0aFDNdw65WH0zVuAL3FiIQDuRnk8W7UJLt+2KjEAZNA0481YHNfOBUwF0AiAfKvW7iE2h7dyAVPVYoJJcVMA2RP3hBOis4CzAQDZLYetsAQA3e+giSqAdEUzVpKJQS7GrglT8W6/RTgjtDi+AsiyXNybN2/2BwAZf6kLprv4voVxkQblPb9WbZz+x/P4v9CpzpJAzC7gf/9FwQbsRQEUAHQzixlxrACgt2mKDYBUAtm9wkoB9BkA717RHUNDdyrASgAAjTWzrABw38EHq8bxbMiuiyebsoAbzXoOeVtPwcT65ZGzdhywZg1KHnmkJwDUdQBZVqXN2ql4dtMZ2LNnM7bVbY7b984pAoDzK7RE911f2AMgQYyqkjEJ5P/ZOw/oKMr2i99QAlKCQuhSAwERUEEUVJqKiiIW7FT/UqT3Lr13kC5Fqo0mICKgIHZRsaACoaMCGkAHEJIA4X/uvPPuzs7O7M7u7G4Sv33P5/mOJrvZnfqb+zz3PqtWiTmnbJqOAqBwBtspAQcCgLyh6cvJPPfYvyd7+OS5GAoFkG0Wbds6O7utXk0FMBMC4JcvL8HtynZxHfBnAslsCqDMAZQmELMScKgBUPYAyhIwAZAPuEeO+AZA9tryYdgYA2MsAYcTAGmSYaC9cckg6HABII1FzESMKoDhubZE+F0jDYB1AIwGUAsA/eO/ALhH+87VAcwEUBPAPwCYTzDCsD3477yq8xLHRpTO2nvIX4vUe8i/ZwmA/7ZujZyvvYZY3oiMJWAJgHL4uBMFsHhJDP61uScAUsl65BH8u3E7TjTtELQCWBFJSEIlXCtcGDHsvWHph6VTLg0A5Ya42K0PFs1MxfPJUxBf9DoBUmXKmAMgZ+0yooIXKysFkA3/M3k4AFcrJKLRoXl4V7kXuXOn4Wj+4uiWttJEAbwZT5/7NXgAZE8W0/XpkK7OQ8li6RVA9ubxRhCkAnjHX+9hu3K7+Sg4rSfvfP/+yDVypHser9kkkBD2APbGZAxTegcEgGMwCF2VMQI+rBRAThR5913Pjdqvn+jz0i8JgHTB80YbaAmYE3kYehsFQGHa4fFsjIEhADKHc+FC/7ccaQLJ6BJwuABQuoAJgISbw4e9AZAP9JxGxGUHAM8cEds+HArgrg9FS5EZAHKfliwpTDZ6F7CmAF564gnEFimC7Nmzu/c7cwLZs+tvUQHUAyBfx4lWWXRFXcCRdQET/t4HQDfEagCXNdj7BkA+pnsAWMzTi15DAJsBcMDmDO346qu9tjGAQwCGAWil/e7FCL6H/nD3AMD0hx5Cn0MXMXVaPyzOUwcTbqyJ1Vd34ObuHZCNT2xc7AH0B4AssTIH0I4JxAiABBcqWQEAID+WvgdQloCrxi7HnrRWIqrCDwCm9uiP12ZcRGtlJuJuyB42ACRgnIwvhg7nenn1AO6o0A+1f7bRA2ilABIAeVFlblqkAdAwCo6mnLnPdkLn1fMxPt+DeL1ERTUEe/Lk3siWPbs6C9jLBUwlgxdof4v9p6VLq7/lEQOjAadPAKSqQTOLVPI0BdAWABIMCWaMkuFi3xxLUhxbZQWAzFsj3NroAUxLTRWQHAVAtwKYGQGQ4LB0qe8YmHApgE3vR46dH5m7gM0AcOdGcU7pAZB9kLxW+FIAMxoAuX1pUjt4EOnlymFwtzEYN3uoepbNv6EGKlQogHvvvUM82LP1iOehvxUFQH9bKMv9PJIKIB9DvwZAkDOu1gAoA5RgC5X2w24ASE0VtX8/DGAqgFnav/MRhqMkegFYCSBS72EJgKsv5kDLL7rjUkpDzEJndMUsbMh2Dy7Xj8eT2zXlIxAAtCoh6F3AwQKgAXJcLuClG1DkbFmMSCiGl+rGYOCSSZEBwCpV0WTvJGECGdNfjC4yUQAJgNeqVsWCxNpY+H0sdh2diyrle+Chx0pgirIPMYsXO1MAMwkAEsh/npUTWy/3xCCMwTgMUkOwO3b8Rn3A8AJAeUwECIAu2OOjjB0ANMbABAKA99wDdO7sBkACK0tJdgGQxwTHsGlLHrPcHlyVEruISTE/b0NMZi8By3GGfLgisPJG7GAxB9C0BGwFgJwkxAdNOwog+5M5TzZUCiABkL2wdet65wCytE6HtBEAeeLzczjtAQwWAHncsqWHKysB4LFj6DX9bSyfczOSUx/BZjykjsRzXUvaPCgCuQMFQPawly0bVQAdnLOZ4aWRAkBetc/zmR9AAwAJAI4AGAdgrQZ2HDdAdU8uKoafAeDgwmxaWZj/jRAp1xYAe1QhQ8BhuN/jgmGnuRTAfM8/j1Hf/ovhf32Ma4hxAeA6PI6fCp/FgN8/FOrE55+LGyBPIKsSMC/MNIFYlRCoiPDmyRiYEAGg/F7/Dh6FtWOT0Dh5EeLPHhVBsnYUwO798Nqrl4JXAAMAQFStCkyejDNlqqJQlVI4/fs5xJfML0p+ixbZA0BuQwKFXOwBjLQCWKQo7kjeJErAOgWQZe5q1XqjeFIzfIyGLgDkR01M7IL9SbO9ZwH/lwGQ343HoAEApWrNBy6uGFxTb2zfF+2Ayq/0jVwJmLOveewEsgiAVDfpsA8FAM5bii87LvXsAaRjk+evWQk4UABk3yNzAANwAdNcdubMGRQqVMjdvsBtZBcA2XPMdhYZBM0SME1ar70WyJaGhwnEFwBu2yYcrvoSsFQAjQAo1WvdJ0nT9wCGWgEsURJ3nVwjTCB2SsCaAph24ACqPTIDJ5LG4jziXAAoryU/v/EicrJFKQqA5wI6qP4jvxwpACwJ4DcAfwJ4BMAPADhh/i0A9bW+vrwAtNqQunUra/19HFlAADyuAd5+3bbn67nj2gNgM0u438M9vFZ8CBcAxjZrhmG78mHiuXVeAPhN3DV03T8fxYoVEwD4wgtC+XACgOxD4Si4YACQjl6qPSZlzpShY7Fq1F48pixH3KmkgABw/qspaKO86lkCHjAMyyf84ekCNusBDBQAJ03C+cSayF+hKM79lYK4wrlcAFgJ+/CNUkn0o7EHJzYWy9FCfCf+N5aAjQD4zjui3ywUCmC5BNx7dJFnELSZC9gCAP/996Sar5h46k7sRAMPACxefAJOnBwQHgCkKtygAcLWA2hXAZQ5gOwBJCSZAKDeuc4HLgmA/P9P8pRGnSmDkIM383AsvQmkZ08BKP8rAMjrzu7dPreqVGY/25CEqmdScd11p3H77YXRunVTZCMscw44odSfAmgEQDquOb4uEwPg0Heqin7sjAZAKqytWuHPXbtwa9MdOH+qEy4gvwcA8lry04paiG/WzB4APvyw6N1mn2RUAQzHlSXi7xkpAORtl8aO8QAG6b4lZ0x9DyBXBNS7UKiI1grgc89h5HcXMcJEAdxT+Cz66xVAIwC++qoYfSRjYOwogOECwCFjsGr0Pv8AePq0CIjWVmr3fvAAwEOH1BJB6oBhWDbhBJ5VFrhjYAiALFXyYq6tq74AUHMB0wSiAhwVwHAAIGGDJhB/PYCcz8uZocwBNDOBlEtAw6OLsVGp7/7O/gBQFwQtFcBiSU95AWBiYlfsT5qVeQDwxx+BW2+FVw9g796i30+/7AKg3gRiAYB657oRAHfEJuK2sR1QgJ8hHIvlULpVGQOTWQHw229FaG8oFUCWgFl58AOAUpntnPItJqMvvkVNxMScR5HC/6JU0YIiQ9EfAFJxy5/fUwGMBAAy7+/QIUxHd/yfMh1xASqAmQ0ApQL4R9I4LwDkteTnN9rYVwCjABiOq0mGvmekAJBf8gCAVRYAuBfAREMPYHfN9OGrB5A20h4A3tAMIZF4D/0OUxXAzp07I/b995F0JRu2nmqPtMv9MRud0AWzRQ9gvXg8uUPrAdQrgDt2AHSUBguALAEXK+HpArZjAvGlAA4Zg3dG78fjyjLfCqAvACyYQ20+DiUA3n/4Nfds3SAAcBlaiu/kSwGUAEh19JZbrE9MAiADY1u2FABIR7QcFM8mVisApLq4fLnrfdP1CqBhEghvontm58S2NPMeQK9JIKEoAQejAJoBYJ06dBWZAyB7u2iC4iJMHD0KMINRvyQA0gRFh3xmUwAJgL/+CnBWsVMAZGmbo+uc9gAaS8AZBIB6ZbYfJqA6fkILtUVbtC/s2dwLsdxuGQWAviaBsARsBYA8bmdp7ecsg5uUgC8/0xxDVlXLVAogK03sAVw2pypOp7L7z6QHkDOZ/6E+42cRABlrxqicLKoAbtmyBfyHi8fqbNHXyTazaAnY3/53+HOaOgZofX4/AeDUepZw6wFgoBFLu7QDjtGMH5u0nkHpAmafHx3ELCHTEEJLUwv2fgOQLuBIvIcXACqKgrgXXkB648YuFzABcFpCHqzDZtzcrT2ysYGZyxcArlsnyiN2FUACYNHiGLy3hTsGxgCAfzR9GcWUJM8g6IwGQGaUsT/JoAA+sncy3lEe8jaBJFSELQBs105tajcrAdsGQEIawTyDAVB1AT/XCZ1XzVdLwO8k/I2mTYu4XMAZBoBGF7ATAKSKzXnTvgCQD0cs1wfaAzi4D8DjIRwrKwEg+4iZa2mMgQmmB9CGAqhXZo0AyJLjD+81QhFGSWVWAKTb9+BBbwUwCwNg+o03YlC3sRg/e4gKgF0TqrqvJTTd/A8BoP5yEI2BiWwMDLd9fy27j8RNRXA4gPe0nVIVAIOWGDSnAJhLv5Xh+s3f7wAgP4BvTXIAI/Ue8mO5Y2BY1qVNnk+QMTGqAvhs8jTEt3tWqHwyBibUCmDR4hi0tyUGK/0F5IUDABnBQfedPgfQiQLoFAAZdj1xoncPoF0AZIzJrbd6mkDYA0gFMFAA5Mxabgt/CuDYsaK8bFMBVA8wTZEjAPZK7oP4+Fhx3MXEmLuAeVNnj46/xaf3MmXU3/JwAdtRADMSABncnSeP69sZXcAVEvqoNzbpCgZ7brn4sBFg35jPTfhfAUBOHFq0yN/RIty37Hu0AYC+FcCu2LO5Z+QVwGnzsKPXBv+TQKgAagA4DT3wkjLNXQLm9VtLJVCNMHYUQI4KvHLF//Y1/oYMRtdPAilREnVOrsU25U57JhCtB1BV6kqVEgH++UUPYK3k9e5rCcvx7MUMRgHkNcQY7B74t82wV0QBMPIAmGE7O0x/2CcAtlRmI671E4EDIMM8mQPoywVM9URTAL0AkLDRpIkaBO1IAfzzgPgMEgC//BJgeY8rCoCiBBwBAOR0loHKQLeKaxYETVWF4b7hBkBjDEwkFUADALrOae2GeTo5VdzY5A2UvaYs93zwAfAZAwVCtEINgI0aifPJwbo0bym+6LgMtZSPxHEiS8BWCuDw4WIeeYgBkF9B9gB2S/naVQJ2xY70el4ASaAKIL8UXcDBmECmzcP2XhtRV9nkOQrOOAlk61YRU3TwoDsIWvYA6gGQLQqTJ3sZJzxKwExQYI9ouACQn5NmNuOSQdBGAOS5ky8fPsCDuEv5wH0tCRYAZZZoFAAdnLUZ/9JI9gBm/LcN/SewBEDmALZSZnkDIG9EzZsLF7BVD6AEQKsnSDn1gQBYpBgG7WvlVgBZuqThgAC44SP88VjH4EvAEgCLFhXxC8x8o3IWCAD2H4plE096mkDsKIC8YGk9NxwF51ECNiqAyamI443fiQL49tui3yzCCmCt5PexQ6lpPglEU+TCCYC9MAXDlV7ihmBHAbQAwNEYjG7KaPE+Vj2AjD4ZNAhowc4NbaKCnRIwewAZl+IHAM8p18Tf1ysob74p8tvCCYD8LnSQB7JkDAxL25kdAAk/zF+0oQByE0hltvjSDShxtjSGJZRwlxx5bfMFgAQS9vgaTSASADk9aAGHRNlfl/wBoJwEEggA8sHv9tuBgQNF2w4DB/Q9gOEEwG8+EkplEAC4BQ+gjrIlOABs3BjgNB/2AOoA0DLux/4uypDfjCqAUQXQ6YHnCYB03TF6IkbkAFoCIG+AbH73BYDMAbR6gsxiALh04ik8p7zmvuiEGQATsR/fKoni7/EJPGdOePQAmpWAMxoADZNA1AMzgwDQBYUms4CvVayImIMH4Zq6oSmAtgDwjjvEjYsjqv7XAZARN3zgyCoAyNI7cwBpApg0CaAjN0cOn9fPf4eMwbujf8WDya+7S44sO5cqhdPr1iHu4YcRSzWVq39/MRLQFwDybxIgnQCgrxxAAiB7/Q4ccPcAfvKeaCEwKoAEQPm5mVWYWQCQ/eM33iiCtplSIEvAmgL4Fe5EFeWrkAFgr54TsWnTcZw7Vwpxcb+5pxUx7ieTrygARgHQ6SHqBkCGO/NCEQwAsreEFx4ZA8OLXLgB0MLokKJ3AYdIATQFQMIyVUVtXb3pZjyyb4owgYwdIHpWNAUwvXwF3HdkgdsFTAVwwgTRA1ixGM4ZFEAzAPTIASQAUinlvGG5CIA0HLBPj/mMUuk0OULSGzTAuWbNkKdDB8RSPXDQA+hSADMDALIsV78+jABI2MuRIwf69JmCrrPGoNxlxTV1Y3KrRsh2222wBYAECN7EOaVDAiBnRnNuqX7JHEC6gLlPMrMCSLczy2CBKoAEQH43KptZQQHUAyD3FWOeypf3ef1MGT4ea0bswaPKShU4qAyOenkohi0Yg8cLvoy98TnUSCNLAOSLONZSBkHTcZ0ZAJDHJ93/mRkA2WvMFhUDAG7Cw2opXH045iJwM55JYdu9n2WiAF6XewdSUjjbQSxXqX+q2cAvf38gsj+PAmAUAJ0ecZYASBOIaQ8gS1FSAdRGb6nNxYEAIOGEjcjBloCZ30fIMXG6RgQA2Z9Ew0wAAHjvkYXuYOUMAkBZ2np23nSsiK2LrUULY9b1v+L+WysgZv5817FkGgNjZgIpXAS1Tm8WJeBMBoCpnbJj9hwmLIkRa3nz/oW9e1/GDykvoxKSXFM3Rj61AX1XTAsOAHkMEySMAChjYGg44bmRyQDwWmwsknfuxPU1ayJ2wIDMAYBzl+CLTsvD0wNI9YsAyBKw7DENAgDZG7h+TlkcSn0GdfEJPkNdNTQ/UwEgv2tSkrcCSCMMgZ3LBwC+sqq6aMcJdQm4eAnUObVOmEB8lYClAmgXAOkC5n61AYDpDz6Ic40aIQ+3xW+/IbZCBfU6YFxq3M+eqZ7TX5zeacPw+igARgHQ6WEVWgCUMTD+FEACIG+SnAQSTA8gSzcs5XDmJvtYqFxqK2XIaLwzOklk5gWiACMNgqgAACAASURBVHbri/kzU8UkEH0OYP+h8FIAMzMAsgfwo49MFUDZ3L45ZTgWoi1WogXGZW+J+lUOoM5PX7kBsGx5NDz2umcQdBYDwDm5aiEllQlNvEikAugIYBH2oZILAPmzR8s8hw3H3g4fAFIFZssDlTKqwnk57MewtJ4/yx5Avgfd9w6XfAAYP20A6sb3wT8FL2J+vh9Rv24NxNBBHsiSCiBLwBzF5dQEYgaAfMhiz6bW/+jaPvycgZhAggTA1B79sWbGb2iivAEZbn4haQD+wI1eAHi1Tx9kp7FCXwLOCAXwvwKAK1YIoYG9eiwJayVgLwXQBgDK4/7x+bOwIcft2FisBB6vGYMJb840BUDG/eze3VpMvsrEKwqAUQB0enjaA0AGB8scQF8KYKQAUDbJ83PRbfzFFx4A+PboA3hCWRowAM6bmYYXlRnhB0BG3Ywf710CZnPyggVwVAK2AEB9vMUONHAB4Ci8ggoF1uHJv753PfGmly2PBseW4D2lnrvU4g8ADUHQ6g7RSrIDMM6d86gSWYz3JBC6gIcMEWDvb9GAxEHudGzqTSC6EvA09HKpMzHgBEQGWPfzAsB743vgo9MzMi8AvvWWUBFDAIDyAUBJeQCVsQ9HUB4zsj+NW6qfQv3dImvP9go3ADKyicG9vgCQ5cHFjF71s4IEQI6V/HDUF6invAc53jDbqeamAHihSxfkI6hLAGSvaIECkS8BWwEgHcjs2eSyUgCffgGvrL4lcyiARgDkHO28efE+GqtxOK4SsA0AlMf92pQJWIsnsRDtkBC7EgfTWlgogF2xZ8+UqALo77zKBD+PuoCd7QT/ANjmSXW+qgsAGcrK3gyaQJyUgKkAsgQcXwSD9rcOzAUsAZA3R17U7AIgG/5l2ZiTC6jKaCu1W194AOCBA+rQ99RwKIBBAKCXCcTYAyhBwQIA9QG3egAciSEom2crGh1a73ritQRATo/ghVlb6foSsFMApJLLxvSwACAVQI5Vm4n9SEQiDrgu/I+WeR4bjr3lDYDs15K9fvIL0x2s/+92SsCEApaA2bYQjAIYIgDUPwCkItYFgFPQCwWv344X/twV2A0vowGQU1j4IBBmAHxn1D61mmBUAOthJz5FPddDxtXevZGd2XoaAF7t0AGXYmMRO2WKMIqQWMJtAmFkEB/UzUrAVgDYr58wr9AE8h8EQP1xT3iUAFgSv+N3lMJ1ubcjJaWh65oW7QF0BhSRfnUUAJ1t8eAAkO4sxl9YASCjDqjMWbmAZQlYA8CB+9vgFaWfeKozxMD8/lgnFFf2e04CsQuAfx0EGEUjY2CCAcB+Q7B00p+eLmCLEvDD+6ZilfKgqQnEowcwAwDQSgEkAFZUFcDdvhVANrNzfmyWBED2+UziwYX96OICQF7sTXsAjWYPPQDqR8QRADkycOlSz7NQ3wOYSQBQ/wBgBMD8eXbh0UOrAyt56QHwvvvEOEEH65KxBOxPAQwEANmfzNK7vgeQ+40j3XwsKoASAHlt0vcAGgEQBKmJE5H+44/os2QLbl+8DGeuxGNWyaqqUeRaXBxiCIDscVu4MKAtZRkDM3OMeGjitmCGJgGQoLd/v3cPYDAAyO1z9WpAn1X9ZbMg6EB7AEOkAOqPe4ZIr0EzVQGUANih/TB89NEFHDo0GQkJfd1xP1EXcOD7PQNeEQVAZxvdEwCbNgU6dHBNAlFNIGYKoF0AtLqA+ANA3kAffVTNAcwQACyUU32KVhXAfkOwZNJfeF6Z74bQUAPg6TTE8W9qJeCKSMJ3SkXx93gBzpHDMwaG6iQhUu8CplJE2KAL+MMPRd+ZYZn1AI7N3goNqiR59QB6lYAzKQD2xFSMUHqKbaUrAXv2AF5DrlzbUaXKfKz5eRvKXf4bcuqGqQvYLgDyOOW+yAIA6EsBLHT9djzvRAHMCgCYL5+IgZEmkCAAkL1kI18eiuELxoAAeCJhIw4emizOMi0GZlLLnhi6qimmpLwDBQUwCONUlfBSbG5cN7A/wBiZQAFw6lxs7/2edxB0OAHw72PCJR1CAKx96l18qNxhzwRiAYCmPYDcr+fMR+Hqj3szAGRCAF9auHAskpPT3HE/zu6rEXl1tAcw2gPo9EBzAyAH3PPiqAGgKwfQFwBqOW8qeDD4VMbAUAFkDIzVBUQPgIUKY2DSi54KYKgBkM28TOC3qwDaAUD2J3G8nLYYAxOQAjhuHM5Xul3EwNgAQI8YmCAB0OUCnvsqZqaMw1cJP2JO/PdoVL08YnSjxkxLwFkMAPUuYBfsTe6N9MTKyHHoAFxTN1iyq17dswQcKgBk/xpDnJ2WgOne1LU5BHvSm/UATs/+DG6rfhL1Au0BZMQNexNpAnEKgF99hSu9++HoFydQRDkoYD7UCmAIAFDd7tqkCrqA1yXfifjCnjmANBW9d+xNdZSmHgDPZ4tFnkH9kJ3XxiAA8KPem9RexDyP3occn2yHaogxA0CqjPv2+VYA2c/LQHMuqxJwRgOgdAFLE4jWA+gFgKxKsDXDAgD5FeVxvy5lvEsBTMi1CgdTn1Ed8Hwp2zVpJHb1FgZ7kkXwdVEAjAKg08Mt8wGgjIihArj+Q/z+eGffJWC6FzniTVt0AbtMILIEHGoA5M2JmVJ2AbBcAu49usgdA6PNO1ZzABOLhxYA2QPImaAmCqDcRpfvro8Xv2iH6cnPIH7GKPE99DEwZiYQCwC8/fQH+FipYT4JJBATSJA9gB4KIPtT69XzygF0wR4F1YqVkP1gkriB8ujXAJBmmO7KKPHfnAKgzAEkAM6ZI/YFewAJ7nwoMpaXfLmAqeyGCADlA8CEaQNQCQeQLWEuFhb4GvXvuQ0x0iBg94pCAOSDH/tonQIgtw+n9ADu/RIOAGQJmFUOLjsKoD5TVObO6QBwk1IXcTJsXFMAGxbqgY/PTPMCwHMxuZCtVxfk48zaUAGgcRQcS8BGAPx0kzpVSf3v0umdGQCQM+dZZTEuYwwMFdOSJcXc87x5EQwAulzA8+Zg2aXB+DhhP1o2jMWwhWOjAGj3fM+kvxctATvbMZYA6MoBDEQBlC5gJwpgIADI8GMG2PoDwOLFAX6mUCmAdgDw/Hmh/nC0VLkENDy62B2rEgoAZJYg+yzlkiVgGwB45Z76aPN5O8xRWiBu0pCwA2B/jHebfPh5zVzAgQAgDUjlyqnf3A4A6uNDMhQA+YF5E2Y/ln75AkA54SUECqD8k9dy5kT5K0n4Jrkk4scNFGW+QGNgQgmAnLDC6TpmAMgeXs0B7REDE2gPIBXAIADw7dFJIlHAJgDqFcB/cD0GY6xaAr6QLSeuG9TfuQJoNgmEG47j3FiRyZ1b7TOcju74P2U64vwBYN++au8il4cJJBAFkEHiX30lqj5cTGfg0s3ZTS9eAq4S8LfbxcABMwDUJq1AKoASANnukiePtwvYhgIoj/u0ex9Apx3PYHxyK8Sn/CVG+kUVQGcEkcGvjgKgsx3wvwWAP/0keue4fLmA/ZWAzQCwchU8vH+aMIHwpsq6QiQBUM6MtQmArT9vj7lKcwGADLQOsgTsUgDNgqA1BdA2AHI6AWd1+lt+ANAFhZo6EzIArF0b6N0bePpp8Qn99QBKBZAl4IIFxWuoDsrym/yeGQSAPyrlEDeitzMAZAn43nudmUCCBUAeB6+/Lrbi+vXiQebBB4HSpT2PIJpAjABINZYmNR+LofJWAMgeQDUmyaAA6nsA9QCYEpsLuQcO8OwBJNRwigXBSa8KM7SaKn7+/OqnuzR1LlwlYCsA5IMwHeo8lq5d8wZA/kxOe9ErgAYAHLz6VtGOEwgAEsI4/5jq9t9/i3+cAqDsAQwhAF65/yG8/NFTmKq0Rdw5MdIP6ek4dz4mWgL2d83NpD+PAqCzHRM4APKm3rq1cAEbewDtKoDS6UsXsLEH0KkC+MoovD3moHhqlyVgqQBmFgDk9x87VuQA6kvA7L987TWYmUC8egCNCqAdAOQT+R9/4OoDD6HV3oHOATC+MG4/s0WUgLMKAFZIRPZDB4IrARMA+/QBnnrKDYBUMTi3VL+kCzgKgPauTsEAIEcY8hokAZDgw4B4umKHDQsfALKSUKKEagLxAEDpAv7hB/RZuhU1F63EsXMPY3HCZdUoorqACWF6EwiBlQkFvG7Gxro/MwOwGXGjgawtAOS5zW1AkExP9w2AbOcYOFD8vVAAIMv3MgyckTKcLmMEwGLFUfvP9cIEYkcBtADAYErAcsN6AOB5beZwFADtnaOZ9LeiAOhsx9gDwPr13WUrAmCbNgBnoGoAqIwZg+v69EHse+8BzZqJcqsvE4gGQOokkDAA4FtjDuFJZUloALDvK1gyOdnTBexUAQwXALLfjC5gqx7Ad991KWxt8DpeVdogbvJQYZDRK4BlyqHB8aWeQdBmPYChBMBatYQyFm4F0AEApt95J5S2bZG3dWsRmUM1b//+rA+AV664Q4LtXk9kCdioAFJZY0CzfjG021fkCvc9nfWBlIDNAPCBB4QhgFNC9CuUCqAfAAQfMqtVw6UX22Pakni0Tx4ujCKsIRMAaWpYtEh8OgmAvFbqAZAg5xAAZ6CbCLWXJWC9AmgFgE89j8FrbgtcAQwHAK5cCTRvLoCZPYBaCdgLAJlNeuedAFtu/Kwr9z2Il7c/LRTAKAD621xZ4udRAHS2mzwBkCG8jCKJiVGbmNUYmBebqY31rr4lDQDTDx7E3Oc6ofOq+RiY/zGsLV4KAxIVvPjecgEU7E9jn1Z6uvcn1ANgwXgMPPB/bhdwoArg1Kmi/0RbKa+MQlAA2LUP5s26LC6a+hJw31fw+uTTeEGZ5+4DIgA+9JAoI2vraiAl4EAAkNsve3bvGBgzBVAC4NatwnlqXLyosvzz6694CQsxTXnJEgDrH18Gtcld9j75A0AfQdC2SsCRAsAgTCCyibzV3CmYlft+fFrkBjzySGlMLpiKbJFQAA1GJ2enPCB7AF0lYKcAyJ6vs2fFx6pSRTyEUP3k4o25TBmPPl2vz28FgDRa8X3MegADAUAmFLCcqu8BDLYEbAGAriBoDQDTXuqIyYtvQBdlrCgTiyBBAccaAKb9/jtiS5VC2vnziGWJWi4nAJg9u1rSz+oAeGXpUuRo3Rpphw8jlveRKAB6nTZRF3DUBez0XuAGwGefFeqLEQAfaygiKHgR5cWFzfoDB6LX4x3x0+xYfJjWA50wG3PRCc/mHIm3Lg+zD4AsAd9QCAMOvIQhSl8BGwYA/O3xLiih7DMPgn7nHYDp+1YAmHxI9PnYKQF37YO5s66IxulIAOCYMSIGhiXgM5fF+DmtBFwBB7BbqSC+swaAtkrABED2ANINGA4A5NglQqS20vUKoBkAaq7coACQsz91LmsVImSflK4HsAemYaTSQ2wr7e8F1API71StGrxcwDRq8JzQxUjsSBmAyeiDNXgKDJFeU2M8Hk4oYq0A0sAwd67YF7IHkOVh9jrql68eQB7jBqOT05PeAwBH9gEuX3amAOoBUDM4gWVMLpY3+dChmTxMP7sZAO7eLR6yQgWAPEDo7pYuYFsAqEsUkA9COgCs1ul7zJ7TQ/1KC26ogXZ/70b6Dz8g2y23wBcApi9YgD59puDr9Xvx+eHXUbViRzzQpBwmT+6NbDzGnQCgVgIOCQBaPcAbd2IIFcD048eRrUwZ9CnWCJNPbUPdcm1Q6/EqmDyqE7Lly+ftAo4qgNwbBSieO70uZMXXRxVAZ3vNPwCWuQFgdAFLCFpfxrV161A5tgmKJj2NT1DfBYBP4B2sxbP499Ah5GU/Dks/vhRAKwDk033TpmoMTNgAkHDB8pW2UgMBQN6c2GxuUAAb75+O1coD/k0gWg9k0ADICAs2XetdwOwBDCcAjh8vIlMiBYBUo9nYz+OIChVjavhwwhVBANQHyX6FOzEJfVUA5JpaqDa6PVQB2XXTUdQfyB5AAuC8eSIG5r8GgJUqCZMTz6H/MAC+NfqgaCcxAcBduWKQklpP3eUT0A/9MRGTWvRE3+VTfQJgrwKVMXduLVyfUgknUQI5kYYcuT9Hx47fYOrUvgIAeYzzocdoAjHLAeQvGXoAvQCQ6iOrJVz6EjB7WidxSg5wWV8C/ue49fU7jAA4ot1gNZ6lOVZgJVqgBP7A37mT0LXdF5g4c7C3CzhAAOyw/RlR+YiWgJ2RQyZ5dRQAne0I+wDIC0zNmkD9+riyZg1KpXVGxVO1dQB4GY9jC9ZhM+4o3QpNGpXEkMXjEZOZAJAAw9Iply8AZMmGwFu+PNJHjMTS04+gmfK6+yYQKACWLY+Gx153x8CEAwDfeEOoTeFSAB0AYD9McJf4ue1jYrAXlVFS2evepsYSMMt/jLZo1070ldatK7LMuNj8T8chAA8F8LPP1N9zrACyVMiZqs8+C/0oKSMAjsv3ILo/FIfrVq3yPAtlDmBmBcAcOVD+6gGoJeBgFUACIB84mAPoFAC5nfhQo+8BDEYB5EMZ+8EYEaNfrF6Q4LhfH31U/ISle/5dH4uZor4AUD8LeDz6YwAmoGmZZ7E6aRnQsbtpCfjq0aOo8kU+JCXNRDGcVAEwBy7jKnIgMbEL9uyZKmYH6wFwyhx81Od96yBoEwD0ioGhe53VknADICNlmIkoP5O2fdNtmED4sHV/5Q745MgSDwDkNqpa4WXsOTg/CoC64zVaAo6WgJ3hHxA4ANarh2vvvmuiAFbD4ziNdXgSRXEKBXJ9jH2pzyPbNR89gFQAry+IAQfbukvAVEt4AacC+O42/PZE19CVgAMBQG5ZTkZZvx7foQYqKt85AkCP0WoSAOkCrlQi8BKwmQKYQQBY88xW7FRuMw+C1kqytgGQzkRCH1cmAUCjAjgR/bAWzdSPOKVQHXR/sDyy61RR9QdGAGQJ+IYbxPd66SXhkmTTv4wriXQJOEcOlLt6ED8pZSMDgNwemsnD9ILFhzKW4s0AkJCmZSB65ACySkAj2pIl4i25DVkypqM4nADI/ubixVUXsBkA3hffHSv3DEDBwSNMAfDivn1I+Pg2nDrVzwsAixefgN27W6NYiRLiIUcqgFPm4MM+m1Ff2Wg+CSSLAOCdf27AR0otSxcwH7YeuWUmdieP8wLAssVG48ipIeYlYO7zCxf83gtpAvFSAK9exbkL2aIxMH63Xub8hagC6Gy/BAWA2LABvR572asH8HGscwFgLqTiKMrgSmqqcEzqlzSBhAIAJ08Gvv7a9e4eJhDZA8gLKhP8AwHA558HCFUxMZkTAG++2R28ym/Pz8pyIxvwffUAamYODxMI+5oWLHBtw/Qy5eBlArFQAIMFwF9xE25UfvVUADMQAEdiCHooI8Xn0SmA3ChylNTHKSzyCQBkD+DqmhPwSLl4qKG1+mUsAesBkL9HhYfOT+an0TThDwANRifTU55K+44d4n15bGjwYPa710IJgCwBN2jgNoGwB5DHCkclctF5zu3hCwBZWaDi9x8AwKZlnsPqpKWqAjhpcUF0VcZ4mECuHjmCKl/mt1AAu2LPnimIZZhzsABoNIF89j7Ufky9Asj9I6NaQlEC5r5jniGndfhQAD0AkP3O7MPULd8KYEfsOTjPGwB5vWP1IAqA0R5AZyz0P/nqwAGQpbiNG5F+4ADmPNcZXVbNc/UAegNgWfx18gSKcRRbOACQpTf2r2QGAKx0ExonzXD3AHKwJEtk9HEYR6tps5DVHMBgFUBfAPjBB6Jcb1xUqjIrAPIpnjclqQBSzWHpN0IlYF8A6HIBz5mKUamz8GPCV2jatAgmF0pDNpbcAwVAtlMw/+3998V+CgUAsheKxwTPNbr2OUHEYv0nAHDUKODQoQxVAP31AJoBIONdel1/k0cPIEvAOXN/5u4BpJHDDgDKUXDcz7IH0CEADlpTQ1RjAukB5PWXBhtOlLEDgN/tEP28BgDk1xjZbjCG+ugB9IqBMQFAguSZM2dQqFAhD/Hhyr0PoMOOZ0UP4IUTIl4mqgBmafCJKoDOdl/QAKhefLUSn3QBP4G1qjrCEnBEFEAzABw8Em+NPSwat6UCyBOdMyaDVAC/RU0kKt96loCZOXb6tGvrX9UD4PhBwjgTKAByPNL8+fBwAfPCni0bPFzALAFbASCBZPNmcwCkkYKO0v373TEwU4YJdTSjFUB/AEiFgX2ZXKHsAdSmGPgCQLmTL9e8A8/t7o/5yY8iPj5WuFt5A7ICQDrQuc2NCmAgAMhj3OB0Nz3lGT/CvE6GILMXcvVq+wCYlibmDQewriUm4uzo0YhLSEDORo0irwDqAVBzyqvGrFD2AOojpaQJRFcC1ruA519fCx3++Qbp33+PbLfeqppAvACQKtzRo0hfuFB1AX+19hC+ODYflcr3wiOPFXO7gAmALG/TREcTiL4EbDUJJFgA5GdiFUUzgQQFgPpcVIcAmH7sGLKVLYveRRpjyl+bcVeZl1H7yfKYPLozspnNAtYBoHxQ27TpOM6dK4W4uN9EXJPmro4CYAAneBb51SgAOttRngAom+71OYDSBcwLDCNgeCPeuFE8fWsA2BFz8Hquqng4NVkFwCL4E9fn2oGk1Oc85kG6PqqMinBaArYAwDfHHhGmjRABoGkPYBgBMAEH8b2SIIAzlADIqQlDhqgw7CoBhwoAzSaB+OgB9CoB+wJATt5gWdYmALqMIXZGwQUAgFdr3oFndvfH60ozsW/sACADttnXKnsApVpjVwEMNwCO6ivKxjYBUN5ku84ai375nkZq3Hm8dWo9cl+8ICJMOF6L0KsvARPWCAlWK5gSsBkA8m/yvdgfqF+dOkFt8tKbQBjgLbMKLT4X20neHHPY0wCmAWB9fCxMXdoxdrFrb+SZOUXMG69eHWn/9zImvV7IswSsASAWL1b/4tmfj6JgtXI4feoi4ote5/4UVPF4fQ0lALLUq4GeWqKn2k7lme7gUAIgKzKciiKPc+1bpRcthjv/2ih6AH0ogGpQdunSOD/ndeTv9CLO7DmKQlXLiGM0d25vE4gOAGWrRkpKA9e2ZKuGdFdHAdAZLGTGV0cB0NlecQPgM8+4S25BAGC2Tmm4tmY75vy5AXeU6Ygm91+PoYvGWQMgL0KcBFLgBgw41C44E0igAMhGc8ancPlzAb/wgog8MesB/P57gKqHEwVw1CiRA6gvAWsKYFAAyM/KG68vBZAjy3ix37MHbbFAJOKbAmBZ1D++3DMI2qwHsFA8ap7dJkwgPgCwLya69y+3vZkLOAqA7vF0WklYhf9MBoDyJvtDSgd0whwkozB24m6M6jlURJgQqmj6kPOSGeVDIPMFgFRIeU4F0gNoBoDsdeN7mQHg9deLMqV0AQcLgJybXawYjACY2r0fcs2YGBAAnt9/Avkrl8S5s1cQd0P2yAEgx7XRqWsEwGbPYdDamoGXgPUKYIgA8OKCFcjTrgXUbZRY3C8App09i2rVequ9lbfgB2zFA7iIPOo2zZHjLEqWLIiYY8cwDMPRWxkWLQE744ZM8+ooADrbFZYAOAcd0UKZgziWuhgU60cBnKB0BNatQlybZ3Dm199QKN814XLk64xLNoprANj/UHsMVfoIVcXgAj7+RDfPuBANINS35M2RJYddu1x/IWXwSLgUwNOHxQgqWQLOKAA0jlbTwq5dAChvAJEAQJYTf/rJLwDWO74C7yv3uMve/gDQRxB0UADIUh4ds+wVMiqALI9po8W6YzpGKd3F59RiYMKpAD69ewCWKE+Kv2cyHUU9EKUJhCVgKoCEEgKIXLIEvGmTUNV99QAGA4BUXtessbwyePQABqAA6h3R+5GIjpirAWB91E5sLiJM+F35kMEeTq7/KAAaZwG7AJChyAyCtqEARhQAOfNXy/uDXQCkkcjs+m08siIIgF49gHzgrVkTJw8eRI0ay1V3dRNsxNt4Fg9gq/pJ4wutxKJFD6HQ44+7J1xFewCdkUMmeXUUAJ3tCP8AWKoAcO6cGwBZRuHMX0MJmACYY+M65GnxJM4f/BP5Y1P9AyBLwHHXI2gAZJ8TL2ZZAAA9XLVOAZDbnu5RlkXksqsAOgFA9pnRbaytdL0CaAaAGpDZBkCqEjR+cN13H9CkiSj72gVAjgy75x53NmAYSsC2AFDGwPgCQJo1eB7ZAUCD0930lNf3APoDwOzZUS79kIiBCQAA9ZmIBMCXMQ+nEY+dqI+biw8QESb33x86AGRPH2NgvvxS/coeMTBUANkLu3Spa1qO6nb1pQDy2sVjisuhAphpAVALTn8VXdFGeRVx0gUcTgCkw5vld1ZVwqwAWgFg2t9/uxRAAuAoDMFt+EHd1YmJmrs6Vy5vALxyBef+zR6NgXHGERn26igAOtv0gQMgyyh0L/Liq+sBDCkAcpj7Y4+pOYA+FcCQAmBvzJ11VYyCIzhwLN7ataEpARtjVSQA0gWsLwHZVQCtAJBqE3tiuH8IFsbFEnCwAEjQZn9TiADQtAdQD4DssXzuOeD//k8AII879itxWSmAoQTArl3F39ct9gBGHAB5jBuc7j4BkOcO53X7UgCzZ0fZ9MPYo5QJCACNCqAeAGsnthARJmYKIHP5tJgX089uVgJmSZjHgB0ApPuU4BNqANRXE6QJRCsBBwyA7EHk8UsDE3txOSZ53x/If9ON5iVgXl85ii1IE4gtAGTPJsPVtYDoy/oSsCJ68WwpgARAbntumwwCQPz7ryuu6f6U8y4A1PcAesy4lwpgFACdEUQGvzoKgM52gP8eQL0CyLylOnVCB4DNm6tuWY+gYN4M6GTMAACcMysdLynTBAASOlh+C6AH8KGkV7FGaYQ4owvYCIAsc48cCTUGJtQAyJKILC0ajw2qJcyUM5aA6ZBeuND12+llysKrBBxuAGTJl83jUgHUAyD7yXjcRQoAaXTq0sUbAGvUwtPfD/RfAg6lApiJAJAHiOwB/DGlvaoAsgfwE9zl7gGkO51AIUvAGzYAhNJQAyDL7IwR4TEtAZDqnpwlrj/2aQJhCV6v3WEJagAAIABJREFUAPI84TQTH4vtJG+MPYqnlMXuVggrAOzRH7mmTwCsSsC+APDvq4i7Ppv7kxBm+d3MANDfKDirGBgzBZAAyBBuLYoofe069P97gOgBDBYAqVbzb3HpyseBmkAuvbYc17Vv6dUDaKUAEgClQenCm1+g06kjeCqhkYhr0s1Yno1OaKnMRty/JwHmw0YB0BlBZPCrowDobAc4A0CtxEcXcFAKoDYw/gM8iLuUD8RFVg+A67bi+JPdrXsAA1UA6fjkDYqLF/IiRVxbL7Vrb3gAIOGUM16tAJClrjNnXK9nDExYAJB/ISbGMwaGCuBNNwGM75CLJWAqgP4AkDEwP/7o2QPoAABrnP0Qnyi3mk8C8VEC9lIAMwoAtfw8jxgYpwAoewDZp8h4HbMeQLslYLsA+M03YgrG9OmBK4CcKT1zpq0ridsFPA4vXV6N3Dcuw+rkd1wu4PQqVfDPK68g31NPiQw2OwDIByKCk77M608BNANAGjwYMs/ycJgB0NIEogPAia/Ho5sy2h0ETScu1WujAugXAGfjwz4f2JsEEggAar+LQoWAypWBzz+Hq10jDAB4x1/vYbtyuy0XsAsAk04if8Vi4lqXK5e3C1jrASQAynVu5VocajEKpZK/FnFNcsXEwNXbLgHw4Ydx7o33UOD6GDC61TXz2dbZkLG/FB0FFx0F5/QI9ARAql5t26rA4XpSujEOOH9ePM0ZFUDtBv8y5mKi8jJybFiLPC2b2e8B1ABwBxqgprIjOACkOYE3P235NIGECgB5kWePWqgBsGNHdZqHhwvYLgASVgkb/gCQgPDDD24AbPuMUDr1Yd2nTuEefOppArFQAMMGgHRZcxoLS8DhVAADBMCnvh+EpcoTbhMIjUXGUXB6AKSySsAxmkC4vRmnxHPKlwnELgDymOREDpZbd+4U7QsW65q+BDy6H3Dpkm0AlG95NaEiGh2ejzU7r8cNj92H9DNn1Gy7jrPHY2jex7G7cB6RwVavIrLRletLAQwGAPk9qSxSbaUCOHSocPiGGwDZ51a0qLULOEwAuK3PFjRQNvgfBWcEwM83i/48qus0zHHx//nvEgClI3j8ePTBJGHICzcAMuBdm//scZhqMTBOAPDi2xux/7mhSFC+9wQ6MwDkQ8fZKyhQMHsUAJ3SRAa8PqoAOtvoLgDM16wZzj34IPJ066YOI7cEwNq1RdAwT14rADz0F/LnTLHsIUmvVg3/9O+Pgi1bqp8+aABknxOdmHoAHDQCb447KrK7pAv4xhuB338Xo7dCoQCaAWBiZTx0YKa7BPz338Dcuer38xqtpjmdVRewvgSsAWB5HMIPSnn3xSsmBivQHE2VFeK/mSmAwQLgI3XFfpRGGgJRmzYhBUDXTUX2UZnFwBgVQAIgo3hefDEiADgCQ9FTGSG2rw8F0AMATZzR6g43AiAVQJYA5eLDVPHiQh2zA4AGp7vpKc9jkqo0cx4jAYAVEtHo0Dxs+KIw8jWui17/N1idbvFtSmf0wlRsxYPquLxZDyzBS8d/dMW8mH72YACQD6qLFgEtWohZwVTWrACQ5xVzGENRAo4CoPcu5PWX5XdWVXyUgF0K4O6PhdBgBoDHj6tjDK0A0KsETDMPjx+OodOWLwD0KgFHAdAZQWTwq6MA6GwHqADYqdNIPLdkAd7NcQfeK1Yc+5NmuaVyowLIGzVHjZkBoHQBEwDpAmYorL4PJD1dVQk6zJ6AkXmbYuXfohk61AD4xrhjom8nowBwwmAxGSErAaDcT2zorlUr8wEgHzwYpMtFAKbDFoBHDEwwJhBNAfzPACCVsI8/Dr8CqAPAvI3ronLRlmoG28+42QWA3D8dSjyCOYX/QDatxBtyAORxy7mybH/wBYAFCwojkXQBB9sDaAcAq1bFlbvqYvyue32XgPf+jvxVSuGcWQk4KQkoX17dXJemzIZLAQx0EohUAKnyUcXnkgqg5hh2ZQIGqwASALntGZIdCgAsWxaX5i8TPYCGErAtAFz0Bo63HYkSyj4vBTAKgM6AIbO9OqMAcB2AxwDcD2C7tlGqA2AjDYew/gNgAYARhg3Gf28LgODFaPzOAH7R/U6k3kP+SRUAc+V6D+tTX8UqPI1FaItr0PVK6AGQPUb8Z8sW0aRsVAD9AKBsIN+V0hX9MQHv45HIACBBlKWFQBRAKgsc8RUTg924DRWU3e6LiT8F0AsADcHKRgVQ3gCcKoAsN9IFzHgRKkvGtWSJmPjw/fdoh9cwRWmHOKkAZmYAZEg5HzxMALAbZmC00k3sm/8iAFLlNkQdmV6EpQJoBwCzZUPZa0eEC9hhCZgKYJ6H7kHJPIPVDLZfUAU9MU1VALla3dAaC0vuRk6OYbRavhRAgv5XX6mv9IiBkQqgHgCbNhWmBiqw+sXzKhgAHDQCrodJqV77A0D2LjK2plMnjMZgewD4T7prooj6sXPmFDE1DgDQ5QK2A4CcCsIVCgCkAYi9jlz6h/8iRXFH8ibRA+hPAXQKgG+uxx8v9EFR5UAUADMbsYX482QEALYC8AKARto/BMB8AJIAcMYP5xAlAtgMgEMWZ2jfmdaoLgAaU8MAMIzXR+13qV9H6j30u0AFQP7vAzztBYDPJE9HfEJhdw6gAwDUR0j8hGroh4nYjIddAFgteYto2DWYQI492QM3Kr96ncjqCy1KwK6L9pkj4iKaCQDQw1UbBAB6zAK2KgFHGgALFkKNvz/yawIxKwGbmkDoHmQfKpe+BBwgALpUQTs5gIEogLfdjqd+GOzuAbQqAUsXME0g3CdWJWCGJPOc8tUDaBcA5XQaAuCOHcA6PqOar2vZsqHMtaP4WSntCADvP/waNn4RD70CaATADiWaYE7h330rgHTuMmLIzAQSCAA+9piY9GMFgCwBa33H6oMSjQ8+VsqgEVg57jieVha5rz92AJAPyAMGeAIgWwD4AMNzlw9ijIGRCmBGASBBkyH/cizcuHHB9QDqFcBMAoB7XxiJisp39noAz1xGgUI5oj2AIYazSLxdpAHwRs4bYJcQgOM6BbA1AOrrJdjypX3xbgC6Aqio/fthAFMBzNL+nbN/TjBZAcBKAJF6D9sA2ChpGCrWrOg2gdxxB67WrIlrW7Ygfd8+xPLEv+ceuEwgPhRAfYisGQDemPQWKlYsGjgAch4ry5ba4kXbEgB5s2eAMpc/F7BOAfSaBRyEAhhSAGS/E29eehcwewAJGyxtSXOB8QzkjYduz9273Qrgw/cI5cygAN6Nz7BZudt9AaUKxRsF4ZXuTq6vv8at+D40AMgSL5UDCYDsZ6MTmz2AdgGQvWB33+0uC2c0APLhg31qkQJARuewBzDCAKjvAfwupRN6YDq24QG1B3DmA0vR9tj3Lpev6U0hGACkiYDHu14BzCwA+NFH6rHsoQASAHl8s3UmowGQWX182MoKAHjgFPJXKCpANTbW2wVs1gP45nr4BcCLp0QfLh86ogAYCVYLy9+INABuAfAOgEUa6MkSMMHuJk3dk1+0jgaL7P5myBPLwvxvX+u2BN+PtRFq5pF4jwuGveBfASwfrwJg+tWr+L1EWXyacj3qXDiBxgnPo/Ot6ej2zhxbABiQAkgV4/HH8e+6rfCpANLpSLUlIwDw3ntFn5+2rupNICYlYA8AJBAMHy5yABkEa6ME7KEAhgAAXbOAjQDIsU633w5LAKSjkxE0VL+++y68AEgIb9NGACCVMlla0vUAepSAgwFAKkFVqsBWD+Btt6PZD69gmfK4AGMJxVTw9C5fGoC4CICLFwtoNppAmEH27ruhVQAJgDx3tm8PTAFkA/0s+Vxq7zpNF7CqAH5ZGPkeugfpZ8+q/b2dZo1Hp8tv4nDCNpHB1qASsvEz+eoBtAJAqsAMgjYrAWcUACYnq/FRljEwVGLZg9mzZ9YBQOkI1iuA53736uG2PDJoIGP5nT2AoVYA/QEgeyV5/OhNIFEAtHcS/wd+K5IA2Enr+xPNLULpkwDIFN28AJ7XbVPWF9jfV0oDQCqGhMT9ut95iw8gANoDiMR7UHHUL48ewHfwDBbjJbUH0OgC7tVzIl6YvhhfX7tXnbGYiANoGDsT29O6oQPmYZLSwT0KzsIEou8BNJaAXTEwDCWlipGJANCrB5DlqoYNMxcAsl+RapNNBTBgAGTjOBvJqaISAHnB37jRNwBqPXm9MRnDlN4erua9qOyZ72imAGYVACQ80TksF29IoQRAQ9SR6XVb5uYFCoBj+kPNUHMIgAx057pS6SY8nDQDbyQ3EC0d7Ed95ZXAAVD2NGZFAGRvdNeu/gHw19+Q/+bSOGdWAuZ5rM27DsgEwnDn9HR49QBSvedxxBvOkCGIY1YilXxWETp3FgF4TgCQ6uvJk44BMO3gQeRMTMSF2YuRv9OLOG8AQC8TCAGQ0T+MMtLWxTfexd7mo3yXgKMK4H8A/yKXA0g7Fku/dwL4zQQAI6HehUJFNFUAb7mlDir9/DN+uVobZ4vH4cTJNV4AWCmxC5Yl7cK3uN0FgHfhc3yOe2wDoAyR7TB7InqkLXP1AH6M+qihfCwAQQ+Aa7fgWLOe1j2AoVQAu/TCnNnX3JNAGFHD0WlmJhALAHzwwCysVe5HnB0FcNgwqDEwJgpgORzGj0o56xgYKoCcYsCyiFx2AJABtLNnq8qdpQnESgHMSAB89llhaomkAsibInMIdeuqlQLIkYh6ANR6+lwKIBVffcIsy5Z2FUAe44aoI9MrN3P2ODs3gwGQgeiNk2ZgtfKA+MrhAkC2BrCUqi8BP/64aPFgVUC/pAkkFD2AdhRAzQQyCq+guzLKHQTNsqu+BCwBULnm2atGMKMy7QAAZ6AbXlRmIE4zgVwbMAAxGgCOyP8whp1/H1eyZ0cOZigOGiS2YygAkJOGpFkrABOIvDfsfvcXbD+yDH2LNMaUv96Hsv8ECiQWd5WA7QLgr81HI1H51roHUA+Ap9NQID5nlugB3LJlC/gPF6tqs3k9B1hlpJD0P7cipQCyP2++tpHl3ywkDBR4G8AXACYBYFOB7AHsrpk+fPUAngTQA8AbmiGESZ36PsJwvIf+IHHlAOZ+7El0/Ph5TEhuifjC3jmAxYtNwLun1uA71EQjbFMVQEsAPJwscgBpvkhPdzW5yz98pUpVPLp3UqYDQJ5LbZWp4oKdEQDIkVVz5yJoAGS5kTcO5suxZGpcZgBotwRsAYC34Ad8qtxiPgkkVAqgEQB5E6UyBCDgEnBiZWQ/sN/tKDUrAdetq7o47QLg6XXrEPfww2LyBZddAKRRg+5mXyaQYACQPWgsL1ssDxNIKBTAB++GevcEYAqAgwe7TB6mH4kKzk8/qT9yOX39KYAvvSTK63oA5PxuqtNGAOSMbU670AOgVLJ93DJTBw7HivG/eZpA7AAge6Pbt0fIAHDyLGzruzWgIGijAvhhrYa4/5sd6relKWsy+iIVOZELlwUAco0dC5daH2gJWCqAQQKgrA4VTimPoyiLVliGFWiJAW1GYfzrr0QB0OQ4jU4CiZwCmBtAQcM++B3AswC2sfKhlXbpAubjJ+9OmwBM0bmA2edHFzCzT2gIGQqgBQAOpJQuYJaHw/0epgCY5/Gn0GHHs5imvKQCkGtkTsn8wIULkAogAfB+fIhKSPINgMwBZACzCQBevbkamvzqdgE7UgDp+KNqpS1etFeOPy5yAI0uYL0JhP0qRYu6X9ellyqOuQDQVwxMuBTASADgnDlqz6RLAQwUAKV7UisBhw0AOWmFEM4ewFACYMVKyH4wKTgAvLUmmv04RO0BzJcvHe/Xb4Imn23GYwVfxr74HGLyBeeOcsICl+wBtFIAQw2AnL/L9okMBkDXSESpADoBQLqAvxZt0x4xMAEA4NV27XAxb17kbtgQOakSctkEwOXjf8czykK3kqQBYAPswAalgSu+JbV7P+SaMVEEXmsl4FAC4Na+29BQWW97EogLAL/4AGjcGPMK1sTLZ8V1UgJgCnIhN1JxtX9/ZOcxG2YArJX8PnYoNb1iYPT94aVwXAXA1liK5WiFO8u8jE+TZiCWD0mxsfhfVwD1N+8oAEYOAM2eE6/qYmD486oA5mg5gHwc5hgIw1BKDGc2KoD8AGhdNeYARuo95PdxKYD+AJA9gM9PX4xvrzXAffhIBcAGsbOwI62rdwmYCqAEwMRE4ezUPZWHDAB5A2UviwEAXU/tRgAkvFAh4Ao1AFashAcPzjYvAZcug3q/rXSPVtOiblwlYNkDFAoAZO+QjBcxHrVUAP0BIEuJNWt6m0CkAigBkE/8GzYgWAD0ioGRQc8c+8ZFAGzVCmjdWgDg7be7h8zrFMCueBVjlK7iBu3ABDIcw9BLGS7ex0oB1AHg8OGTkGfmQYy+8poams1WCLpeO3b8BlOn9RPfoVw5MffVDABLlhRhzaFUAAmALAF/+KFPBZCKY2kcEzEwQSqA6eUr4L4jC4QJxKAAegDgpk1CYdJiXswupGoPl5UC6AAAZVnxjsVLcepKUfxyfV4s+GOjMwA8fRooXBiWAMjzh/+0beupAEoXMPNTly5VP8N5uyXgybPgFABfzdsQ3f4VCiBVvinoAwmAF7p1Q758+YIHQAI61dcTJwAfCqAHABLgaeYCWwdPokaN5WqOJI/LIyjnAsCqhUfgw5/ao1h8vOpatgWAK9fh1xZj/pMl4CgAel5BIlUCNr1u/Qf+o20ApAv4t5Ll8NnFG1Dr3EU8nPAYut1+Ed3enuMbAOmOrF5djKfSVsQA8OxRcRMuXRrgiKFQAiDnrkq3J0tfRgDknOB589RvnF66DOr+9oY7ViUKgPACwDp1gF69xNi3TAyAT/44FIuSG+Puu3vjsaRSmIj+LgDkx05M7IL9SWpfDq6VLYuzU6cif716iOUNTC6WLQMBQEPUkel1h9ARAABSaflFKeUIAO89shDvfRmfMQBoFgRtKAHLsuK0lLdwGvH4HHe72k6CVgA1ALR0AfsCQPYA0rQgAfCX48hftYynssmdy1YCKpTatJtLegDUTwKZOUYYbNSD7ZpoJTCaQEwUQCMAXh0wANn5umAVwEAB8PudYsa3BoB6BZAAeBjl0QZLVAXwjjId8VnSdMTy85kBIIGa4d8pKa7T4qIdALz0p2v++bks1AMYBcAoAIaSO/0DoH4SSO3auHRTdfy25GMUTP4Z8Unfqn01Xi5gvQJIUGIZWA+AVaqiSSh6AP0pgE4A0F8PoC8AnPgKwBuFFQDS6DJ0qNsEYkMB9IqBMZpAaFih2uRLAWTPFD/TN99Yl4D9KYCc6MCw3QAUwF6YguFKL98uYF8A+NxzwhzEGyiXlQLI5vu77gosB5Db66abYFcBJABO2n8n6tdfhpan4AWAxYtPwImTYrLCbznj0C3/8zhW8Bp2H3wtvABIFbxxY6EAbtsmVGCrFRMDDwC8cEGYgwJYVABNAVAfh8SrCxXAgQNdCp/pnwiVAvjkk8IcNXas2iBfrVpvdTzdXLzsBYBpP/yAWP5dH4vtJF4l4EgAYK5cYmqRPwB8dbQo+dsAQH0PoATAS4jFdUgDWKLnGjMmuB5AOwBYuAhqnd4sSsAGAOSflrBeJIUd0G4A7N9mFCawB/DKlYAA8JcWY1FJ+cbLBMJjobkyF3F6AExORYHCsVnCBBIFwCgABnCZ9vurHgDYfsdzmK78n2cPoAEA026+DUcXf4RiShLifhbBu+0xH5OV9u4YGBsA+MjeyfhAHYoC+OoBPNqsF0opv5hPArELgGXKAMeOBaYA+gJAlqvq17dWAO0CIHMAOQs0KwEgg1dZ1v8fBkCjAngfPsR23Kcey4mJXdVZ2lyHUU5VMnajBi6oXR/akgogp3yw9O3LBMJj3JB1aXpWEwAfflgAQSAAOHaACHoPFgC/Kox8D9zlNoEEA4CsEGij4rxMIIGUgJs1E8fm2LEeZUUzAEzeuROF69XzDYADhmH5hD88ewCzKABeGzgQMXST60rAl7PnQM6rV3wDoEkPt9dG0wPgtGlCyZdQqv1yuh8AlOX6b9ccwI7ji9CncBNMS94AJekkClQsFgVAkyM12gOYsT2AfukqC/yCfwDUTCBqiaF2bQQFgIwa+OQT1+a4WqUqfAIgyxpPPIF/126BXwBkMDFVK215OPekAvhfA8AjR8SNTh8DQwWQsRgsc1v1AFIBnD8f2LXLWgFkE3uNGqrB5wPlLjd4yx5ACYBspl+/3lYPYFAKIIO22f/HfwJUAF3OYLNJIEYXcCAK4C018ORPw7BceQzsAbxu5kGMufIa6uALfIU6ag9g+/ZfYsarwlXpEwBpkFq9+j8JgK44JF5d3n9fTJDRevxMr4lOAZAuXx7XOgAMiQI4YBiWTTiBZ5UF7vPAqgewW1/kenWSuBZZ9QDaLQE7UQBp5rh6FTPRBa2VmYjTSsCqyqf1YfN8nIrewHXXifw8MwXw/B+WJr5wAKB8z7PfH0CBGpVxZuoiFOn1Is4f/BP5E4qEDABd5saoApgF8MT/R4z2APrfRr5+ww2AjzVD+4+fdymAriBoIwBWuRVHX9/uWwE8clrEwPAmx8Bkyvd2AZDN/rwg2QFARl2MGJE1AXDIEFECNlEAy+IIflLKWucA+gNAbheaC4wrlADIqRPbtoUXAOkAphGEAMi+SU4s4GLfDwFYnbWoM4FoJeCQACBvpPnzA9LRyz+2fj0ew7sqANIFvKn+o3j0s/dVAExOWKtOvujd+wWU5HGfUQDIEvDWrfZLwM8/IiCNii4X1chhw8R0BR/LVQKmAtiojpgXzl7YxMqIOAB26AC89poHAPKzyLLi9JQ3kYzCnj2ALLHKsZAW3zP1fwUA+cDNB3x9CTgQAOSkFsL3H38AQSqAchec//kY8lQrD2X6EhTs0coNgBQRcuTwNoGY9QCuWItfWo4zLQFHAdAZMGS2V0cB0NkesQRAYwyMeoGoUwdplavjyJKPUVzZb10CzqwASLVHDoD35wLWlYC/x61IUL53A1koSsBmAMjw4TlzYAsAmYNHsJZLKoD8jjJeJJQAyPmhBDCpAGplSzsu4KAVwHAAoDEGxkoBZJQHsxR5HHARqjZudAGg6hbWtgkBcGNyTXXyBZWnWCo4WQUAOX/7r7/EjGguloIZ5EuTRagAkBNktBKv6VtaKYB0gvM4N4uBoYmAPa/6HECdAsi/I8uKtRatwMFzTXGk2K9YfGqt+AjBAiDNXfHxtlzAIzEEPZSRIiqGLmCjAvjzMeSvVtbbBMLj5+efXVmXliaQAHoAfSqA4QJAmbjA7b13L2riW8seQEsA5FSp8oVVVdMUANkPzJ5kvQlkxVr83HI8Kiu7rIOg9QrgXykoUCRXtAfQGUtkyKujAOhsszsDwF9E071XDyABkDEwdDraUAB3oh5uU3aKk9VDAfwAR5v1tu4BNFMABwzDigm/i/BWYwk4EACk8kS3XkwM7ALgAwfnYJ1yH+KMPYClSqPu72+6XcDatBMvBTDcAMhRcQsWqDdUuc/iGt8t4lNkar9VCVgCIF2MvCnbAUAtlsU2APbsKeb+crEELAGQEzk4TzcUCmAgAMiyYntOaYQYozVwIJpiPVYoTcWxqgPALUodD8WWLzmi5ZmZ9gDaKAGnpaYiliYKQ9al6SnPediPPCJMIJwUwDBwq6U3gUgAlPufTmLGNgULgHo3vCwBBwOAjI3hMcAeQM6aNeYAmgEgPzd/X+t1k1//Uuu2mLysOLq9WQsFnteUTiMAEoDvukuYjbRlqgA6BUA+QPFhjTEwPx9D3mrlcEFJ9wSV3LkFMGth52EDwDx5xAxd6SQePRquczUUCiDVQEIgVbquXcMHgDffDKSmuvbbRR8AaGoCiQKgM4rIwFdHAdDZxg8/APKCyl4TjsvSlrEHMNQA6GrcDhEAes0CpgLIBnJt/im/FmNgPACQ/Ta8mbKEuGmTZ0+dEQDlKCgnAEhY5T++FEA7AMgJDLfd5t0DaAGA1fEjPlOqm08C8QGAXjEwvPn26BEwAHbBTIxVuogbqJ0SsBEAeUOuXNnTBcx9y+PVJgDWxpfYqtT2AsDfcsThhSvvQSm3Gj8dedV9phK2CICrVqmquoTpf/6+ipEjp7hyBBm+3r/SObz4x8+I0WVdWgJgkybCBBIJACyXgHuPLsJ7xhKwEQA3bxbgHqgC6A8AzYKgGSHE8WkGAEx7sQMmLCmCXmvuRt5mwnjmpQDygYZ9rVTPnQAg9xMfotq2hZcCyO3A8zNQAJw0E1v7fWgvCNoYA/PlFnEdMusBDAcATp8O8EGOi6VhtqJo4yXDpgAGA4Apf7kGAZyLAqAzisjAV0cB0NnG9w+AJfKJYfFmJWA7CiDLOHw6CxcADh8uLri6i3ZQANi5J2bPiXFPAtEpgF4AyJsZw4L9AWDz5gIAly3LPAC4cKF6YZYKYL6H7kK2L7+EqjYxfywMANgTUzFC6ek7BsYIgFSOOe+V+8GHApiZAfBq6TJocHw51h2tiviyukFCPJc4JvGddzwAsHOn6Vi8+BZcSmmoHs0xuIanc47GlBvmodSfHDzkY1EBJABSAfzgA78K4I34Db8qNyLOTAFkKbVdO59/Lr1cAhoeXYxNX8V79gDqH4R4dbEDgMxxY8lTr/IFAoDSBBIIAPLvERzkIgBy+23UgqIBpPYfimUTT3qaQDQF0DIHMEwAuKXfR7hXedf/JBArAKTKRyWZvZHSBBJhAKyB7/CxUsM0BkbuBq8eQDslYCMALl+Dn1tNMC0BuxTAKAA6I4dM8uooADrbER4A2O7jFzBDedEzBsYIgJWq4cjSnaIHUANAOVYsx8Z1yNPiSZzXl4Dvv1/0Z4QDAOl2ZcO6FQD+fQwoWxaQLmBfJeDOPTFrTja0U6aInh1fJWAzAKyQiAcOzXWXgKkA8jsfPqw6WT1ctSxzv/KK2wQSSQVQB4A5O13CS4vHo0bKKXXUnzrKrMV9yFazZkgVwKABkGU+9uDepY3rAAAgAElEQVQRAGlKYCmRS2cC8QBAKg516rjnA9txAWsK4DAMR29lmIBUqQDSWCBByEcJ2EoBTC9dFvWPL8OmEzUQx/NILgsArJDQB4cOTcI1iMsaAZCmk9G52iPx3O/uWcNm53xmBkD2vmmAZ3q5CgYAzUrAYQDApRNP4TnlNffDi78ScEYDoNEFLBVAHQDyfJyGXkDevOLhnqoxj8lgS8BU3rntf/8d8KEAegAgH+54bTSs83uOIk/1BLcJJAqAlnf4aAxMNAbGGf4BgQHgXXchreLNOLLsk6wPgCdPupLguRFTMzkAegRB0wVsNIGw/MvSEmNgOGKM+XLGxRKwDgCX5boJH6UOwN34QoUNxpiMarYefVZOtwZAwhf7rLQeQDslYMcA+MILUMeFZSQATpigxpmY9QCGCgCLFpmGv/7q4QGAT2EVVuEZpNavj1xspeCSqqh+/37zDfDoo84VQIZJM1DZrgL4dWHku7+22wWsfxCSCmBWAUBuT5ZL5frgA7yGdp4AePYsUKiQtQkkEADccxR5q5f37gHkfqYCqjndL02aCZcCaHMSiCsGRgIgIY9jMwGYAiB/MGpUcD2AgQLgD5+I/l4LALyuegWcm/66cAFLAGQeYfbs3i5gmkBMFMA9rSbiJuVr6yBovQL45yUUKJo7agJxShMZ8PqoAuhso7sBsOmTaLezubcCqI+B0QDw8LJPUULZZ18BZNYUXZXaunrTzXhk3xRXELSvHsAjzfqgtPKzeRC0XQWQKuDRo8LBykkBXOEEwElDRLnFlwI4eLBQAG8u7XYBaj2AZXAUe5QyvmNgrACQKqcMGDYeG4Q/RsF8+aVaAl6A9vgMd7sAkL/etPSzWH/8ncwNgDSiaPsxrAqgvgfQDAAnT1adnXfiK2xT7vTqAQyFAvh/WIRFaIsrU6YgB2NpaO4oWlSAvBUAsuyqK2V6XSJiYmBZAg41ALIc3adPZBRAGog4+pFqrW6Z9gCalYD5Gqq+8vowbJh9AJQ5gP4AkCPeZA8gAfDWChkHgJz/yykwcpqIGQDSfcuysq9lBYB0b9NJr00XcimAoQRAjpNjnI/eBLJ8DaIA6AwMssqrowDobE85A8BfRcnNWAI+d+QM4mJThAu4USPhNDMA4MP7pmILxNO2FwByePyTT+LftR8gCoAim20FmqOpskJABmGWKpw+BkYqgA4B8L747vjw9KsZD4Ask3fvLkrARgXQCQBamEBMS8BTprinGmgA+Cg2YKXyqNgPfgGwDOofX25dAn77beE81dRUsx7ADjn6Yt6VyeIcojLEnleW2swAsGlTcTN3CoCcqSvdzxbXF1cPIBXA++4U00RohjIqgJEAQNkD+OyzouXDCIBt2mPC0qKeJhArAJRuaC0eyLYC6A8AOROdx/GcOV5b1DX9RP7ErgLoIwbGlgLoCwAvnBDX70ABcMYMYebiCgUAcqpUuXgxTtRMASQA0mmclubarhejAOiMCrLQq6MA6Gxn+QdAfQ+gUQEMBwDWqiVmh9oFQDa907igLUY3uEwgsgeQqgDLphmhAPLvtmrl3QPoRAE0A0BOAVm+XLgMfSmAzE774gtLBfDRMs9jw7G31HBjj2gT6QIOZwmYwMebODMaixcXN8uOHQMGQFc4tFkPYCAASMii25QrSACsd3wF3j9xm3cPYOnSwFtveQCg0QXMnsDR5Y/huW2r7AMgzwcGO9tVACsUAZKT3TFAVAAdAmCjQ/PwrnKvgGQCIHMFGbtitZjjpv3cBUPSBEJXL8vbvmJgbADg+KXF0HvNXW4XsJxpLT+TBuGuOKRwACBjelauFIHJbDsZNxW5Zk3xzgH8XwXA3buR/uRTyHbsCM5OXyZKwMEA4LLV2NN6UrQE7IwNssSrowDobDcFDoAVquDw8s9ECdgXAOZKBUqUCFwBzCoAeM89rvmnXsqHLAF/+CFw4oR9AOzSRQ3i9VsCJgDyxsinc7mCAEDTHsCn1qPPiukhBcAemIaRSg/fLuC77wa6dRMAKE0ebCgnFFI5YVgwR4px+VEAAwJA7b1MFUA9AGqj8AJVAAMBQBf8aDByOjkV8euXi0w+vQL4228A+zn1i5BEBdAKADkykduTZeTjx90lYCMAcp4w41AcKIARB0A5CcSHApgRADgCQ9FTGeEOgmaP5ooVLthOGTIGuUe/EnEA5Pk4HT3FsUDllscMlU99CTgQBZBxT9z2PC7NFEAtW9RvCZjHtJY/GVEAPHURBYpdF+0BdMYSGfLqKAA62+yBAeDddyMt4abAAZBOs88/d31S9gDqS8CfoC5uVT4RgBAIALIfiiUvvQLYfyiWTzwhBrg7UQA5g5ZQZRYEzfIRgUVR3N9JX/rS9wBqCqCHoqaFXXv1AEYQADtgHnJ0SsFLiyagRupJUG3iKLPJLe9Htho1vAFQK3eCTdeEzwBMII4BkHE6dIqGAgCNs4BDAIB34Gt8qNxh0gNYBioAnqyBuOJ53Wcqb7YmCqARANV/X6XdFNlHy4BgloDNAJBhyRznxps5w6Pfe8/zysCQZP5dnmRLlqAkfsdepSTiQg2ACRXR6PB8twLITMJevcKrANoGQOYAaiYPmwrgfLTH88p8977VTCANsR3rlYYC7qjmde+HXDMmAnRj83rUti38A+Bo5B49xBsAGc9CaNL6XC1NIHYmgUgTCI8LPgQAMAVA/mDkSNUgokY2hQIAeUzyep4BAPhT68moonzl1Ts+Dx3wgjIPcanJQJEiQlmOAqAzisjAV0cB0NnG9wDAtjtb4FWljXUMjAUAtsUCTFXaQsbAqD2AUgHkzFg2GgcBgBfXbMbhp/pam0AsANCV3RVhAHQpHxIA+Z3pdGvZ0hOowgWAVBfoAl69WuTLGRengLBX8PPPQQCcpHTAdffXQc5vvoKqNsXHAgy5vuWWLAOAnTEL45TO4kKvxcD4VAADAUAqEowb4TJTANkj2KcPggbAN98UDxIaTNsCQM6+Pn7cWwH0B4A0SDCUlzN7R470DYAESUKVj5VetjwaHnsdm4w9gKEEQGZBstfVbgmYM6MJ1izX61Zam/YQCmAAAKjFA3kB4N9/AwULIrMDoFcPIOOyeOxkVQDkw0u2bN4uYLMewGWrEQVAZ2CQVV4dBUBneypwACxfGYdXfO5RAvYJgA8+KMoMmQEAqfZo0Qp+XcBBKIC2AZBPxYMGebuAnSqABED2LskJEzYAME+ju5Bj15duFSJAAKyGn/C5Us18Eog2mSOcCqAHALLpvHZthAUAtR5IjxJwRgHgsWPCza1fBECWbqmImymAzONs0AC4fDlkANjg2BK8/3W8pwnEDAA5GYLuV6tl1gPI45CfNxAAZF4kA7YjAIANsAMblAYOFUCLEnAIFEAXAH61FeA12AwA+dTEBwKqg6FSAF99VbRtcDlRAKctRcGerd09gFYAyAdsznfXm0CWrsJPbaaYKoCuIOioAuiMHDLJq6MA6GxH+AdAlq7Yf8QTkApg+Uo4tOJLlFT2unoAXQD43rvI0/wJeCiA4QZABpyyYVxbHun9/xwXIdDSBBIkAP6AW1Be+cFdTjArAetvfP4UQK3Mfb5yLc8YGA0AS+MYflZKW8fAWPUA2gFARlB89plrEkiWBEBNneEuDwsA1q8PfPKJUNmkAqgBYBNsxBtKE7FvnAAgj8s33ghOAfQFgLyZs/xrLAEz24/HHUPZfSmANCqwl9CGAqgC4K7CyHfvHW4XcEJF3H/4NVEe5TZiCdgfADLHTQNElwrqDwAZJMwWDV6XpAkkswMgr4Wc/qI5jS17AA0AmDLxVXzQf3tAk0ACAkDCIT9TKErAegCkcstqhzZd6Dbsxk7lNsRZxcDoewAlAHKoQNlC4vOZKYAEQJbK+WCjrYuBAuDJf1GgeJ5oD6AzlsiQV0cB0NlmdwPgo0+g7SctvUvAvgBwr1BcnCqAHjEwuh5AWyXgUAFgpx6YNTe7exKITgEMGgDZHM0ShbEELAGQOYBVy7jVNycASHcvHYb+FEAjAD5wN3J8/YV9BZDfp3x5V9kyLAog+wyZcyhNIOwBpEpEdziXEwA0uoDNegBDBYClSqPebyvNewADBUCCW65coo+LDwBWCqAVALIHUPatjhhhXQIONQBu3SpiQXwpgE4BUPYABgKABEz2lcpldAFrx4VVCdhLAZQxMFY9gIyBocOaZf8gAHBz/x24T1lnexScLwDsjumYgR5AgQKij5kAyDViRPA9gCy/szXBLgDy+sr+aP3SGUjOOgTAH9tMxc3Kl9ZB0HoFMAqAzigiA18dBUBnG98SAF1SuT4G5p57kFYu0a0AWgHg0bMiB5AuYCbr8yJDGNKWXRMIAfDQU/1QRtljHgTNqAsOOQ+FAtipB2bOzYH2ymRR1mFSPaEqJgaOAJBPqC1aePbUZQIAlD2AASuAQQAgbzijlO7+XcBduwK8kRhdwC1aiLT/MALgUIxAH2Wo+IwSAAlZVJq4fCiAtbALHym1vE0gpUqj7m9vYPPJ27xNIKEGQJa/Gd9CAOR5wTKwfgUCgHSrUlXzsdgD6FIAG9YSfb4A0stXwH1HFrgVQCcAyOkvuuWRl6dXAP0BYOt2GL+suGcPoE0AdJkGeFxwWfUAhhIAOaKN4cmaCYQKoG0AJMheu4aQASCzRjleztdiew/h2y4A/vipmGZjBEDGPjEMH0C4ANDUBBIFQGcUkYGvjgKgs42fMQBYuQoe3j/NFQTt5QKm27NZM4QVABnPwqw5baUaAdBfDyADfNk/I6FWXwKePFSMXSL0hgMAWQKkCqePgbGjAHLKAcvEn37qMoF4ASDdkdWrW5tAwgWAjNWhAhpuADSaQDTY9AuAmgvarATsFwBP1UBcsTzuM5UKEAGQii2/tx0TiFQA2cjPnL+5cz3PfCpPhD+6hM0AsFkz8bf4MKZXABMKA6dPu3MAqQCGGgDZE0ZzktWyUgDtAqAsATMuiOHFNOzoVlrrdhi3rAT6qDmAmgs4IwCQETss+/tTAAmAnCjC3jYAHgDobxRcVgZAXp+01oMoAPq/sUdnAUdnAfs/Snz/hv8ScLAKIF3ABCwzBbByFTTePx1b8aD66cIOgIQlgpi+B9AJADK0li7bUAMgFbBZs+C3B9AKAHlz4Y2WfUYEVOPKKgBoLAGHUgEMJQBOnaqGHIcVAN9ZKObySgDktiA4Fi7suXcZ5sw1b54YF2dUAAmAdesC//zjGwCbNAH4TygVwEgBIFsFWHUIJwBy+91wg7cLONQKYLAAyLFt6emYhc5opcxCnDSB8MGA/wBwlYBZlub3MSsB/3tSbMtAFcCZM0WeJxcfSmrWFBWaW2+FqwfQSgHUA6AMgpY9gHy/mBhvFzBVRBr79D2AS97Bjy9OMy0BuxTAtNOuc+hcVAF0yhEZ9vqoAuhs03sA4EuftMJMpbVnDIy+B5Al4LIVcWjlV8IEopWAX8JCTFNecsfAsAQcLABydmT//vYVQI6N49O8tkxNIBIADxzAsoojkR/n8cSJOR4K4AdNZ2P1xlhMVdqJErCvHkC7AEgXLBWzFi1QG19iq1LbI+tQzQHU9wAGAoA0tnA8klxUAO0AIOHhk0/8KoAen5d/Q+YAEqT5tzXVytUDWCIfYv791zPTTHMB2yoB6xXATAyAj+A9vKk8IvajEwDkyDKqsf4UQAmAnHUaGws8/bSI+ZEjy+T+lz1sNgGwBP7APqUE4owKYAgA8N4jC4VDltto2zYBBL4UQM5y1X7uYQIJVAH0B4Br70beJ8VDp3rN8NUDqCnDXiVgfwCoux4PxzD0Uoa7g6CpANrpAbSrAPrIAfQCQCrHGuh5ASDBkMeTvgcwIwCQs7e1Bw8vBdAXABrmol8MFABPXECBEnmjJhBnLJEhr44CoLPNHjgAlqmAg2/swo3Kr/YAkI3P7JshDGjrqkEB/BT34BblU3HDcAqA/YZg2aRTeFZZgLh/juPvMrcgV7mSyHPkF7W3LKZiBfVTXDtx0gMA5f2TFbKQAiCBqXlzTwDkdxwwQI2ByVu1rHsYfCgAkCYQOWPWeGzwCdsIgPfXQY5vvnKDm1YCDhgAi+dFzMWL4QNAQgJhn0tnAumE2RivdBLHjhYD0wUzMVbp4oro0PeOXQ1EASRUsxdUB8BmAHg7vsF25XbrHkCzErBdAJRB0IEA4Pr1okysX3QB16vnUgBdAGgMgiYAsgzMEXw+VnqZcmhwfKlwARt6ALMEAFKV4nQZI0BLsA4UAGUQNFXWTz9V39UvAA4di9yjBnsHQWcEAKofeLgaEq1O7QkUAFl+Z2XCiQJoAoBqokTZgmIvWSmAJgD4w4vTUVX5wjoIWq8ARgHQGUVk4KujAOhs4wcGgHXrIq10ghsA9+1Sw2VdCqCMgdErgHzqZXp+MAC4+n0cerq/tQmEURc0BugVwH5DsHTSn3hOeU0FwJgypdEg91fYkVInMAD0ZQIJRAGMFADSsEB1wR8AUiXcudOtABoBkBE31ap5AiuPMS3yRC2lmymA4QBAugKpHrVsKQa+SwDU5rTyY3kA4K5dSLmzHnphCsYzHNpsFnCwAKh9/4AA8MZSqPv7m9jsBACNCiDNHJz17EsBtAJAmlv4MDZiBCwVQPb/8Zy1AYD1jy/D5l3xngBYLgH3Hv1/9s4CPGq0e/t3cCktRZYa7r646+6+LIv74iy7uLu7Luyixd19cVtcirbF3angklIKFOh818mTZJKZZJzCfv95rlegdNpMkkl+ue9z7rNIrQDSgw0dM731NRRAJwFQNweQ7G46b50BQA8PZp9aqwGcMRY3hq1Abtxk5wM9xerVACoUwO6YjhnoIVjZwvkgWsMOA+Dx48JDrhsAnbsZ2/tqdw2guwbQ3nPG9PuNAFizLn4/1tqyBfwfBUDvBK/xMs7btQBIKh51vYkrLl9+/PB0Det+lJpAaDIFWcBaCuCAAaAcQC0FMCMe4gqfUaUorUIz1OJXsa/Rk7apBWwLANITNkGiCwGwAC7hBF8An3z8MeNdO2Z5SR2TrrKA7QBArlRJZMdthPI5vgkALB++FnseFzFvAiEFcMUKVpdnqQlEAkAKuk2cGHAWAMnCHDnSdQB4Nj08Khc3dgE7CIBPrr3ATeQyOgFiILnygqXbBSw1gVB9pI8P69hWLLkJRGkB2wiAchqCdE6bWMB3vb7HORRBsx7fsVFwegBoTwwMASBl6NFDj4UmkDdjpyNgcg+8QBqkMby0CQBJHafvX4PmXx4AqY6xaFF5upDVGkBXKYBL1uF82+luBdBZOvgPvN6tADp3kHQBUL7wKWsArQHg9s1I0aI+or4VBZAPA5cpI5wFwHP4Htn5c0awIQWQculMVgNsxBK+wX8LAE0ngTioAK5M1wNdPk5X19GIo9lIcRjLd7ccA0O1cBQBQXESpjWAdgJgcrzFYz6lzQDYMtcp3EYO7OXLqGNglBawlgI4daow51bXAg7ICAEAnxSFZ4bkxrOF1BoCeMpktBcArdUA0k10yxZtC5gUwPgGwP37WXe3FQWw/LX5CEJ54/ljDQBJoaexhsogaDpPMmRwDQCK56AZAFKNSOrUchNIJa9zOI8ieN+9P5LOmPzFAfBA2WGof2WMsJ+ejZyFHFO74BF84GN4rA2Ap/cBNI5TVAA5GJAXV3AVBYSRdoI7Q/9G+9FRC1ipAAYGAqT40rIXAKl+VVSepRpAhyxgewEw4g28/D3cNYDOscRXebUbAJ3b7dYBkOIraBA9XSAIADNmw+01Z1kNoKkFLAHgg1csB5C6gKmeiGImCAbEZVoDqOoCVtYA2mIBU2QM1a2J64PSAhYBMHUCHq/iUgtgweXILnyn1RpAaxYwAWD//sw+MRjwJmUGdMQczOFbqAGQLNNmzcxrAEkBpBrAglnNagC/qAK4di1w+LB+E4g1AKSuO1KvTJpAnAZAAqHOndUAqLSAyQ6jzEdaFixgUgDtAkA6J8S6UKH+U5kDSJMmqBmIlgUALIZgHOKLmdcAfksASBmBNFrNFgCkul06FtIaN44px8mSGb8WEoIKOIrdpACWyMtyGunfQ0JQCYexna/E9octAJg3L6pcn43DqGK8CYu1qMrLm0oBtAcAW/2BCSv80dceBdBGAKzsFYpzKGoEQAq9pgBzUwtYSwHUqwE0UQAfDF2AdeNuoiM/GSPyb8C08EbCfno+ahayTzEBQNMuYAkAKUB8+HDoAiBt8IgRjtUA2gCAfxdehqVojSC+EDz1uoAdAUAKRadxgdStLK4YNwA6RwX/oVe7AdC5g/XlAJC6gMmOsQEAdZtAXASAXgmi8DrOy3UASFMN6IZHXXUiAHIJOJTEaezjS30RAFyJ5qjNr7RsARPcUTcl/T9NfTBdpA6ZAqBpDaCobpo1gUg1gAoAfIdkKIkzwizgVem6o/PHGY4rgC4FwBg85lPYpgBqASCB0pEjbNSYBIBix+8v2Im1/C/sOIgK4DcHgJs3A7t3q48+AWCVKnLNl24NII2Bo+gmJQDSHGEaTyaFYlMJQq9eagCkJoC0aYUmADMAJGWXGnf0liMAqDUKTk8BbPUHxq8IQL9/yhq7gK1ZwDYCYBWvEISimCYAjsJw9OJHsfOQAJD2K33+pBxAGwGwbJZInHzgx4Z25NuAaREMAF+MCkS2KV0RCV/4Gh6xhzI9AKRc0mHDvhwAkv1OMBYYiMBu1/E7FiF5SJBsAXOFC8EP4bjGB1gEwLhOnbEJDfDDlJpI07sNGyuqaALZgRqoyO8wPmxpjMUkADzXdgYK8kFmTSDyZJePL4B06YQzMsqtADpHEV/x1W4AdG7nqwCw7bE2CORbCRcsTQu4YkXE+mfB7bXBKgWwLRZhGt/WGANDCqAFAPw+2XUk+hCNYJQQtt4SAN5uNBBZ+Ivak0Ao64wiY6wogPQ7DODsA0C6wVBdndYkEB0AzINrOM3nNQIgdaVSDWCzZiiFUwwOFZ3OZgogNTzMnAktBdBmACR1jNQaPQCkDuFDhwS1chLfESk0APBigaZoh/nYJ8XWKBQwIb1fVABJTciCu7jAZ3MtANI+o6d6SQGkqQE0FcFmBfD/QwCknLNEiazHwBDkuxoACVyo9vCPP9jVRlTnVAogZU+SU9C6tWUAJHvw0SMGKtLasEGwVO1SAB0BwM3lkLLe/9hvpfm0ypgZ01Fw4jlozQL+IgCYKhVw5oxcA/i931NcePSdGQC+HB2IrH93RQT84GeIVFnAcgyMpAAqADAPruIa8jNgf/GCWcC0tBRA6byzdJ+hrmeCbxEAuW5dsQa/4tfQAUCRIsL5whUqqAZA6fuVP3fuXJzttAglcRZPJi/Hd/1as3KizN7su7S6gN0ASHvGizjWORT4b77aDYDOHTddAJyNTmjBz2YjrGJi2FOrCIC31oYgI39FtoDtBUC61vojHOHIqA2AZK02bIiYjbvgCgBMxUUjypDK9QBI6p84SJ0UwNy4jjN8Hnj+PYLNbCUAJAu4aVPXAiA1nxCEKXMAaZA6wZ0lACSLhW7UVgCQK5AfmXEPF/msRvDWUAAJAOk4XuUDsDpdN3T6ONM1CqAEgKSwkaVmJwAmwGe84hN++wog1bBVrIgHXGZkxkNjHIiyKURqAnExAPoiEjd4X/McQC0FsFo1Bp6OAOCBA0xNlBRAem90TAMC2JWLHqYWL7YfALUsYDpPKCCbMisVK1ZSAL8AAFb1CkYIihsVwF69mDJMo3UdVQAJAOnaQd3RAIr4P8X5SBEAFRawBIBhCECAIVwGwOuGXPgH9dCVnwBPDQCk69R1sAYTYdGDJ8GgEgBjHrMSHgcBcDWaomlofxUA+gjnnB88Lx4XslEFYFSuOXNwpvMSlMIZ5wBw8Vqc+32mpgIo5zq6FUDnyOEbebUbAJ07EM4B4I2zQm6fDIBSDIxSAaRcsadP2QVNXBYBsFQpoF8/AQBvzDmIvzvfxl98e6cUQE0AjIhkSfeKbaI/yjmAihrACyiErPwF4zZICqAEgOzhFNlwB+f47NYBkN5j//5CDWCKgtnwlv/MfratCiABII0SU0aBuBgAAxCm7kSWAJAu2vS7OU6wkyQAXJauN7p/nOIaACRozp6d3Ui1AJBsbvHm2Amz8Sffie2/M2dANYDJ8A5P+OTOAyABGkEFLUcsYP8AlI9Yp90EQuHkZDFXrCicO4dRCUX4I+x9WAJAa13AlPX4zz/mFnDdusAPP7Ci/5EjYREACfjEmazCe3c1AIaFGQGQopxq1XINAJJdT7aeCwFQfhCWuoBNmkBKeN3ATeS2rQbQVgvYRgB8PWYmMv/VDaYAyBni8B2e4BafQRMAqUv+NnIa7xw0fpE6jl0BgLNmgevaBVoA6CuEj/tbBMCznRc7rwDaCYCx7bqg9oKaWM//rL7POHdv/eKvdsfAuGNgnD3JFABYB22P/SZYwIO8ZiEKqTCL7GBlEwgpgH6ZcWtdKFMAbQFAyhV78sQMAKkeJEJLAVQAYO+6dzB1a3bz7izJriELmNRCalwQ14d+Q7Hsr6csB1BsAvliAEhP+wQG4j3bZgVQfI8UA6MFgARfpKpJcSrPuPTCE31Tek90xJwBwA0bgIMHjRbwD6WRKPi0UX26cgWkAPoL26CIotEBQKmuZ136LmgfO0sTALthBsbx3VRNEteRG378dePXlDWAWgBI456GDmVHWQ8Az54FV7LElwFAsd5PVQNIxf69eqEoQnCYL2reBOIfgHIR67H3SRHzLmCqqaMGJgLAKpWxCfXxI/+POQCuWwC0b29UYmwBQMoJ3LNHfW2QAJBy30aM0AfAOnVY16gSAOnYEFxJCqDYKFQex7DnbDrWBELKMo2ra9UKFXEEO/iK7L2QAkidnTSGkRTrhAlZjFGmTGz7/msASOMfvbzkLuAfvc7gLEqaAWA0UmICBmIAP9T+GkATACwa8ATnIjIIn62R+ddjanhj4c+vRs9Elr+1Aeut5r8AACAASURBVDAF3uIRdcLbogASAObLhw/Dx6IvJmMcdew7qgCKAEixVc1C+5lYwBG4ZiMAPv5rBTL0bWXdAtYYixmzeC1Cfw9EIf64fhC0QgGk03A7aqISv90NgM4SRTy/Pj4VwAkAagDIDCAawBEA/QGEK94zRcvPBFAMwGsACwQnQL3o71RMQ5fHEABdAFz5Cj+DfqUmAHp50T/wCOO91ABYqRJifTO5CAAjEIEATEZfxCEBOvF/sg+fAgD71L2DKQ4A4NK/nqEpP88cAO/cAZc9m7CrDXYogOdRGNn48+YKINm8w4bJAJgL13FWaQFTHQ/ZmaYWsJ0AmJD7DA9Es+PxpQHw6lVw+fPJyp6c6acLgOyivjZ9V3SIDXQOAAkUqJlAsoAJsChXjVS4/zIAPi0Kz+8UHbRSaC+dOR4e4KLfWAdAaSartRgYUgDtAcBs6VgdmKQmawEgRfTQJJHevdllSgmAwenhUTwPq5elGkVLAPj5M/ueiAij+v6tAqD4EGKmAFoDQNEC9sJrJMV73CYVzt4mEBMAzJn+FW4/92Y1gAoLWBMAEyQAF/cZdgFgkyZCU1ui4YOQGfdxjjI07QVA+oxSfbAIgEvQBm3O9RRmANP5whUsIGRPWgTA2bMR3GUxSiAYjyavhE+/li4HQK0mkE8ly2D3mbRuAIxneHPFr4tPABwHYCOVQANIAWAOACrSKCK+EQ+AItmxGMBoALkAUCseFaSwaHigH4CuAKoDuENltwDIY6LvjaHbQTz9DGnfuxYAlTEwUhOIjgL4HR7jCXwFGzE1XuEB720GgL3r3MHUbRYUQBp3RXaxiQIoA2BUOLiMAZAVQHsA0FITiKRA2QKAdCP59Vd1DaCdAKgaU2cJAEmFoW2jaR900zZdVANIc2QPHNBvAhEBUL5YS9aXaIEKdTsaFvDa9F3QwRkFkMaUUaCvFgCS+kTjnr6EAkjnhBgNJMfASF3ASgtYVACrYxfW8dXZuaqjAL7jkuMyCqCY/2OmAOoBINXbpUsHbvEibEQD/MRv0reAJQB0VAEksKNuXlMF0BYA/OkndlykLmAtACTofPvWHAAPHmTHlRRALQAkFb9mTVTFARxCVediYOyxgM+dY3AiLdMmECcBkK5rtOSSEq0u4BETkGz0YPNRcHRyUWyWWOZQLOMThIYzBVAJgK9Hz0Dmv7trWsBmADh2rPD5oe0yqwEUAZAbPsyontsDgEePMoVYAYDL0AqtzvV2GADDJ66E/0BzADTrAtYIxbekALoB0BXY9e38jPgEQNN3XRhAKAAaVMgDoMCwPwFQYVmc+M3dAVAqplRwcZeqiQAEiv+eEEAkAHq0XhWPP8MqAKZCFMJ5T3MF0Ccjbq0/p20BSwD48DXLAaQYGLrJUdcfqWHiomst1YNEIkC4IHnhFR5qAGDP2ncwfbt9ALj4l43YtjsRlvN14SkBYIJoRMWlEpQlmxXA+ABAqgEslN2sBtDUArYLAKkJhOb9agHgnDlMHbIBAOV6HVMAlOw7kxpAewHwGvLAn79mVFWVAChZwJIC+LUAkIKaqVuRlh0AOIibgIkYhM/+GS0DID0cpU8vAOA6NMbP/HrnAXDBAgb5phYwASCBHNUAKi1gLQCk76PwZmmZAqAYFSRYwJICSOcVNYu1bKm2gJUASBBL00yUCqArAZDqdincmNRqxYpt+TvGr8yIfsomEBcB4A9eZ4U0AzkIWlQAbQJAvRgYAkCaokNRU2QnKQBQaQFLABgOf/gbIuQmEKoB5BCH13wCeJ7Zz447ZTkOGaINgKIFTAAoN1A5CYAr0AItzvW1GwBDuyxEMYRCBkCqJ8+Umh1NrS5gTQBcg9DfZ2lawDIAfnrJGl8AkAK450wadbzMt8M4ulvirgH8ujWAZP92BNX+s0VgR61VpO5JqwyA42KbNuUekC1MXzN2RAB7RVWxbzz9DLKvpaVSAH871haz+JZU4gJLAHhz/Xlk4i+b1wAqAZAUQErltwkAX+Mhn9pMAexf/zYmb86hXwOooQAmTvgZn+ISste4SAE0awKRFECKVhBVKYI0sxpAGudEdqaeAuhKAFy4EKD6PhcBoJzZ5QZA9lkR1T4tBVAecSXuqy7cLMxGF7sAkGqmavKr9WsAbVUAnQVAqhUkpVAJgPR3mvUqKYDOAmBkJOswpeVKAKTto/m2GgA4bmUm9N9c1hgDYyMAzkJntORnGR9URAuYFMstfFXYBYDUTEOd+tZyAE0AsHjGxwgJ9zGrAbSkAMqNULYAICmABQqAGzYUiRGL53wS+yxgpQI4eza4Lp2hAkCxrtgWC1gCwLCJKxFACmB8AGCpsthz2tsNgP8B6DXdxK+lAP4IYDOA+gD2iRu1EEBKAE0VG5lHrO+jvBMCQBoeS5CoTEVdK2b4tAcQHz+DFEerACg/CSqbQCpVwscMAbix4QIDwJvBQIkS+A2LMZ3/zZgDSAqgCwBwQINbmPRPTssA2LcvQDckcSVJ+Akf4xJ9cwBIIdH7+ZIqyL3pXQq5f8woiDJ035K6gB1SAG0FQOoQ3b9fvwnk2jVw+fIaM7usAiBrFtFUAKnzu3RpaDWBWFQATXMASQGkXECx3tKlTSCWLGClAugIAPoFoFzkBssWMCmAixbqK4BSEwjZp5SdZ60GkACQHgT20nOlYpkogD54hJu8DzxNFUA9AKTYDlLYaGkBIJ1XZAG3bCkERO/kK7BznRTADh2EOdzCtAZSAJUASA9xNWqYW8Cizax8C1YngVgDwC3lkLLuT+xHWgNAsjOzZYMZAL55I4yL0QVAqpOcMkVQ2mipLGAHAVBPAbTUBJIcYhamnQCYBB/wjE/qGgA8349lLdoKgLNmIbTrIkEBdBYAQ36fbZwrLZ1EHAdNBdANgP9B9GOb/DUAsCaAFaJdu02x5/6zCmCXLl2QaMtW7I3Ij3GbeqFBg2pIiWhE8h5qC7hyZXz8zl8fAKUYGDsBUG44MWkCsUkBNAFAlV0azwqgWRMIKYBkZzZpIkwJkQGwdGmgb18c+VQWlZv64dkzMZSeGh5mzEB8AKAUn5LCtAs4ngDQrAtYqwZQCoI2BUAxhofqjLaiNpbS/GU6dxzpAtYCQJqYcfgwm9UrWcBaAEjb17MndBVAvwCUjdyIf58W0W4CIXXcXgC0VgOoB4D0uwhAqOFjxAg4BYBXr+JF/gqoja3YK1nABIBkAbdooQbAQ4dYFzMBIGXKJUnynwfAHz1P4y1SCrOjJQUwot1ILF/wHgN7f7QdAPVqAMmCOXHCaAEHPEZohLkCGC8AGBvLoN3SIgWQHg7oWqdUAE0A0GoMjAIAH05YhYyDWlhXADUyUWMWr4FdAFi6HPae8kIFfuc33wW8d+9e0H9pxcbGYtasWfRHdxB0PCFsc7F+rxFNuTT5ndTMMcmkBrCH2PRhqQbwEYCeAFaLDSHx8TOsKoAuA0BSHqjmh2BIXKY1gLLdLAEgQV2jRrAKgDTuqk8flQKYLNFHfPicWFsBvHsXXLaswlZY7QJu2xagbD2Og64FTIXV4nQKXQvYAgAe/VwWlX5VAKCYA2gVAClHjWI0lDmAtiqAmzdj9L7SuIQCWMQ3RnwAYFfMxHi+q+UYGK0aQAkA6eZCuYCSAigCIKksqocHVwPgihUssJaWHQDYlQvELHTFZwkAnxWFZ/qkxsuF1AWsAMCyCMJuvpy+BSwpgM4CIMnNw4dbBkDKC6SJHdKivxMISwqg2CiUAzdxLtjAuoDtAUCqCab6YFqOKoD0UECATvuSmkxoAoo9CmBoKIsoUV6UhAsDU+6EhgYdBZDzTAV67yF8LkgxMOPL7cTgoBow9O6jDYAk8VO8jtICdhIALeUAWlIA6UH1hjIIWmEBywrguyfsGEkAGB0NrFypmrkr7Cf6Hgrfpn1vDwBSSQHV7ymXqwBw0WqE/DHHdgWwTHnsPen5nwBA5e5y1wDGrwJIVdHU3VsLQJAGcFIHL1m71AVMHcMEfTtpjLyiC5jq/OjnUJwMNYQMB0B3mNyKLuD4+BnmAFijNn47/rtcA+gIABq2bEWW1hVx+WoC+KcVawDJUqKaOYp7kAAwZw5VEwh9We7AJHWMoO4bAkCzGBipBtAaAAYHsxpALQWwTx8cjSsnACDlZNM1VLKAKVxZiEsQ7VezJhA9AKTif9o2ulBTdpvpmj0b2LIF3L5/hbiHi3wW+wGQnrgzZlQEQVu3gG0GQLIK6cYgNYHYAICqh4fgYHAlituXA0gPBWI0kHwOSgqgEgBFte9n7DYGxopf+x7ncJT/Xj5edgHgd9+BW0hpUYrPgDIIWrKAKUOPvm7NAqYHAeoGN7WAJQXQGgDSzOCqVc0BkGI+pLnIIgDSg8q14BgGgDR+jixgWxRAJQDSQ9wvv9hvAWsBID20kXomZnNKp//5WsOwaEd6TNySz2gBWwNA6nbPmlXTAiYAzI5bCOVzygrghPI7MOh4TX0ApC5gWy1geg9BQUJdHq1iOgqgBIBaTSAuB8B9+xjA0gO9tOh408xs+jdLACieL7ICeCmIdZVrAGBI18UojhA8HL8SGQeb1wCadQFrZKLG2AuA/yEF0A2A6ptafFrA1Nn7EcAHiWOEEbOs6UMCQvrEzhZzAKkzmKJixpjch0cC6ADqswCCNXIA4+tn0GYZm0D0ADBDchbwSk/GVizg6HU74d++Bs4efIPi+d+xJhACwC1b2C5ImlSIguA+fVQBoAfeIIJPxW6g3yAAmimA1GhByfl6ADhlJJuvKQJgqSaZEYPkCOILqd6jBICPH7Nd5RIApG0jcLECgNIED7sVQBMADMBDXOEzWawBtAkAK1ViVqEbANWTQEwB0JoCSABIKtO//6ovOwoArDG8KM6iOMuoy5qWdQZLypctACiWCdA0kZsh0fAolpsBIFnAzZubW8Dt2gljGAU1ia4BXwoAf/9dqM8zBUDiZuqKfbPl4BcDwInltmNgUK0vDoCj8q/HFDEI2i4FcPx4YPBgoTZRUwEsWBDc0CHQVQDpfKKpPKS+S4se1PLkUQPgnDngOndiTSAX+gOFCgmvoWxRqwAYGIiQbksEAHwwfiUyEQBSOVFGcjh1uoBdAYBlyuPfk6lQnt/1zVvAbgD8egBorqj8978iA2BstWbocepXzOFbCA/RsgJoCoDp/XBj40XNJpC367bDr30tnNr3BqUKmQAg2an0hH7gALgffxAmEUTCX7ggeSAKERQ54wgAUtG14qKkZQF7JngDPs5TUJZcYgFLAEjRCoMHS9cm5MY1nOHzwlMJgPQ7GzeCBErK93jcUA4VmvgZ74fdu2PezA/CDFFhZJI9CiDVflEUhzUA3LoV3L975aBnMwC8fh1c3jzG0FbTJhBdANQIghabQLQA0KwJxBoA0ui04SSYi/Nj8+cXzh35hkXb+X9BAXQUAClypnp1oQaQ4j688QL3+bS2ASApgqS4SQqgCIA0LeZ6yDszAKR4mF18eXb+Ui0lTRBRAqD8xENJqS5UAC0AIJ020Vv22w2AgeiCVnygEQzevIGWAvhn+e0YcNxOALRkAesogEoAtKsGcMIEcIMGCh8fMwBs3FgANQJACq9+yieDp6kFTIoyRdyYAmDu3EJTmawAOgmAod0WC00gDyasQiaqAXQQAIP/mIvv+aNmk0Dmox2bEqWMgSlbAf+e8HAD4H+QZ+JTAfwP7h6rmywDoJeXp1zXoguAVargY1ofXN90GZn5S2ZdwDHrtsO3fS2c+DcaZQrHMFmLFAVSB74GAL6JABfgD00ADI8A/P3lHaSyWSm531INoEMAqJitK6qcQSiH8o39jE2R3buDmzkDafEMd/n0XxQAM+EBLvGZzS3geADA41x5hKIo2vAzjBdoLQCcMYNZkWQvZc2qCYDyg8qXAECy0kmRpKVlAdP29egBXQvY1x9lH23Cv3o1gGSnkQW8YL7wK2QLWmkBr53PumglC9hJADS8eIkEw4daBkCywKkeVVoEgFT/J81F1gJAUvnJEmzeHCoAJHCgGbidOzMFkBRKJQBSXmH16roWMHXhFsBl1Mc/uEfAKj2QaFnA8QGA0dHgUnnIc7+lJpBJFbaj/zErAEgWKtnzUgyMHgCSXXz8uKYF7AoANAuCdgUA0vWSyl1cBID3x69C5sE2AKBGOQxZwFoA+Au3C5nwEJP4jvD8/IplRlIOoBsArYLCt/oNbgB07sioADA9nuI2/52+AmgKgLdC0Kz4DUTCF9v4Kni3fjt82tXCyX3RKF34nXBzkwGQRkXRjdwuBfAWJm+2EANDNw+Tp1KVAvi1ATAkhIVPCwqgBgAayqJ8E//4BcBt28Dt3QOHAZAuuAEBcg2g0QK2XQFMyn1ALJKq432UACjFwOgBoBhDwtRjRfmALQpg7rxIePO6cfqCpRpAJQCKsKeqARS/VhjncYwvLMNJW24xlqAtPvv6o8yjf7DvWRH9JpAMGWwDQMmidRYAn79AghEKBdA0BoZGvtEkFEsAKD4kqBRAAkCygJs1UwMgfe4JzGjuMR1XiqixAwDpGFM92zukUJ8vXxoAqT4tSxaYKYAiAJo2gcgA2KevkEOoGQPjYgDUzAEUojHYPnvMpzAGQSsUQM1JIKIFrKsAUpMPzV0nJVdaYqOMULO9dCnw/Lk2AMolAxHM2dCrAZw5E6HdlwgKoFMAuHAVgtvNM1MAVY16JgC470RKlON3uy1g53gi3l/tBkDndrkKANPhKe7YCYBc8WJIi+e4y6dDzPod8G1X0zIAHjwI7oeqJhawXg2gawBQHgV37x64rFmEPWawUQGM5PxwBflRit9nvDhICiDV1QwapG8BKwDQB5G4wfupbO4gXQBk+9PlFjBFBmzf/oUAUGMUnGgBd0EgJvBd5PeTjHuPD0jmMADe3XMT2avT9ESanWgfAD7PXhKj7rbEOL4b254vAIDduJkIRDcjAD4vCs90SYyfVGUXsDUAlGoAbQVAUtrXrjWvAaxZU8jbi3v6HAlHDjOOX7QFAEkRpIc3SQF0BABp+ykTkDqKnzxhD4e0RAXwB+zHQfxgPCfEHEC7AJCsZg8PNrVFsSR1P3rrAaSsQxGuNIU9BCha1PhdpqPgbARASQGcXGEb+h2rDYMGAB71qoklidtjU71VtimAtC0EuAULCttXYsj/EPyhoLBvVDWA4ig4VROIKQCePcCCvS0BICmAhQuDGzJY3wImq572LyU6mAKg9Hc6xkoF8OIA9h4cAMB741cjy+Dm1i1gLQXQAgDmxA0E87nVCmC5itgXlMINgM6xxFd5tRsAndvtKgD0xGuE8akFBVC+sSprAKtUQWwaH1z85yZy8SHwvBUCAsA0eI571gBQ6uj8GgAojYJzAACTc+/wHsnVsGIPABJgNGqoDlYuUwbo3RsSAMqTsUQLWNqfdgMgPaVTFzDFY1CsiulSAeB9XOKzIGXVUkgYcsaoiN24AS5Pbv0aQF0F0HYA1NyndljAu+Y8QI3OmR0CwBU+fdHqyV/G42knAFbDHmzgqzF41FEAbQZAsoAJAOfPE96LpgXsCACuWcMK85XLDABf4gGfxrwGUEsBJAAki0/KRNQCwK1bmQWspwDqAaBoETsFgJ06ATTnmppNUqb8KgD4V8Wt6Hu0jiYANvDah/34CYbGTWwHQDp21PEdF4cSmwYI4+bo/OiXZzvmP6ol/NnSJBBZATzLaq5XNN6OluspwIJqAG/gBmhGgbhsBUBSAC9dMr5O7JSWv0DHeO5ccJ06siaQLwCAZl3AdgJgVtzFeT6bGwCd44Zv5tVuAHTuUKgAUFLyLAHgojeN8EdIZ3azEgFQymLTVADphkJgQhYBPdV+BQCUawAdAECzCBba37oAeB1n+DzGJhCKmiALWAsAe/WCUAPYxN84GlUGwBeqeiebYmCoCYT2M23bsmX6ALhjB7g9u5EJdgIgjdeifEY7AfBZ6ZoYgrH4i++gr2jSPiUApBs45e5JMTBKCzhLFiHAmNbuuQ/wSycGgCnxBpFSB7kNFvBKn75oqQRAOifEbEizGBiaqUxxFbRmzhRsUVsAUIqB2endHCNe9cCB50W0FUBbAFCqAZQUQGsxMKQAWgDAz89eItGIIUgNCwBIx4JCyaVlCoDiQ4LKAiYAJAu4aVOUw3FjpqFkATsBgNJmyMeHvkBqJHW7K3MAXQmAYnepngWcEzcRzOcyj4HRUAAbev2LffiffQBIkTGkjn76hBKJz8kAOCL/BkwLbyRcf21qAhEB8LdiF7EkpJD9APjhAwvvprzGAQO+OACGdF8qdAHfG7cKWYY4WAO4cBXOtpuPIvwRlaVL11HpuqeqASxfCfuPJ0NZfo/bAnaOJ+L91W4AdG6XmwAgaz7QBcCqVdEnvCem3KqtAkAvvMJD3lvbAm7QgHWnSgB46BC4qlUsx8BQZ2/jxuhf3wYLmKIJSPUSl8UaQHsAkOqWFi4UotdoqW4+N26w+IMJE1htE0soMO8CthEAw8PFfhRbAZBeQFl8iiDos4M349Cml+gfO/bLAqC0sRwn1BpZjIE5cwZcqZJyvaGkaKbgNGq6lAAo1QASdNFMWlKfMmd2CQCu8u2DFo//Nh7PLwiAdF5kxANcfu7nOgC0VgNoBQA/PX2JxCMtACB9Xkk9VgIg1QTS50FSAGUADMf1kBjWBawHgLQ9ZB0qAVAOvgTLK/z5Z5gpgIo6T80awHgCwJnoitb8TCMYiDWApgA4pdIW9D5SV1MBbOS1F/+i2hcDQMkCPsRVwWgMx2FUMdYAigDYutglLAthlrJmF7CpBfz+KWviUwIgXesuXjTecWxVAEXF2GoMzIwZCOmxjAHg2FVIM7QTEBYOzwBjHMJO/KIObNZQAN8tWIkz7RdoAmAO3EIIn1OtAFaojP3HkroB0DmW+CqvdgOgc7vdbgDsG94Df9+qowJAb7zEfT6NZQAkVYou2tYAkOxRauywBQDp5kE3qm8EAPPgGk4rY2AIAMlibNjA3AJWKIASUxm6dUeCwBlIAysKoASAUmcogIo5H+HYbV8YsmS1DIA7d4LbTd1wrAvYZgtYUgBNADAjHuKyXg6gCICqsGZS7bi3iEFKNVQTZBAokAJo2gRiAoC6FnAIK0lIhnd4wifHc69sWI1m6M6PlW/gy337o/XjSZYBkLpeaYSZNQVQVAUL4QKOSxmPlPQuTgKhj6bQ/PPcRx8AfXzAzZurfsjQ6gK2pwZQSwGsUQOoVQufnrxwDAClY0NbqgTA0HfwKJoL2LaNWcCmCqA1AKR8uWrV/jsA+PYtOI+UcmKCVAM4peIW9D6qDYC/eB1HEMqbA+DIiUg2apCx/EK6ltPxp85pqrszVQDzbcC0CKYAmgZBt+GWYhnYvGZTC7he/pvYfIXVzdpkAdsCgGKdpHwLMrWALw1kncwiAMp10NQE0rQpQCqrcs2YgdAeS4UmkIvD1qPQmMa4EfwGuYpRZK5ODqDGw7DdAOhWAJ2jiK/4ajcAOrfz7bOAq1ZFj4d9MONODXYDvR0KrlhRSAAo5wDuj2Y5gFToLSmAEgAePgyuSmV9BdBJAEya6BNiPydi26foAq4cdxDLLhSBd+FMwh6Tm0Aow2r4cHAnTxhvwhQD44AC6CgASq6qMwBYKVckjt7yswyAgYGClWMRAG/eBJc7l3kNoBMAqGrUsAUATS1gEwD8d/59VOvAmnlUP9sEAAd6zcYciOUKooiwxq83mj2a4hAA7u6+C5PRF1v4HxhQ2gCAQuD28wyOA6C9NYBkuRK40nmtXCIAfnz6CklGDNK3gOnzSiHipKxLSwnn9DXxHKH3dl0JgGQB//qrdQtYqQA6CoBaXcAUJJ48ORvbp1iaTSAU0l6smPG7TJtARAvYTAHUAcCpFTej19F6mgrgr167sBu/2KcAli3LpoF8/owSiUKNFrAFAPyNW4Kl+E0TAFsWvYwVoWyyiCYAfv89uMGDjE0gpgC4cydreFMqgI4C4OUTwnliCQCDB21C8QkNEHIkGkUr0pAt4B6XFf/iJzSlHD8pDshRAIx7DdB4PoqBcSuAzlHEV3y1GwCd2/nWAfC7ZMwGoKe7qlXRL7w7/rpV1zIAHniLUgVjrACgMgha0cn5hQAwKi4V9i5/gmqtaOSGAgD//JPN7nz6xHUAOHUUMHIkcO4cqwG0ogBKABjXrQcSBk53SAGsnDsSR27aA4A6NYB6APjXX0C/foADCqAqrNkWALSiAO6ddx8/d7QOgIO8ZmE2uqiURrsAcPVqplTQCgwE162r2s7WAcAuHPu9tPwQgWvPv7MLAD9zCWEAhxj+EzxNawCtWcDfGgBqKYDPngHp0rH96goAlJpAKC8xWTLXAGBYGDZl6onNqIfZfAsjcFgDwL79gL/+UsXANPHajT2oDkOjxiwGx1oOIMHoTz+xfWMKgIoaQHsUQIsASHWlRYpYB0AKvb9wwXjH0QLAefPAdezAmkBMFEAK/79OSQh6ADh9OkJ7LhMUwJDBG1FsfEMEH45GsUoMADXjozTcEFIAT7dfiKL8YbMaQNkCVgFgFRw4lhhl+L3uGkDneCLeX+0GQOd2ud0AOCCiGybdrKcJgNIouFMEgKQA0oBbumHRjFrqTKUaIlkBNAKgKsy3ZEkWW9CwIQZ0e4tJJyqorUJ6v9LTuoYFrFIAoyPB+fsJQdAEgLuXPkH1NiYASHUtDx6AW7vGfgCcOJEVRoubJCuAmgAYYZzvK0Ku0AX8a4DwIEwlfc4AYPHMzxDyML11BXD3bnC7duo3gYgAKNfrSE/aEgBKLctiDaBQ48Znxtr0GjmAogVstwKoBYCZMjGoprIxZwDQtxeaPZ5qmwKoAYCqiS42AKCgAL7wgWfaxMZPqhQDQ2MSyQKeSxMjjXWmNbidCEZx3KJRba4CwF9+Eea4xj56gaSjBusrgPR5LV9erQAq6zNpQ60ogGURhD18WXYztQaA4oxZl9QAWgPAW2LcXwAAIABJREFUbQdxpvYYZMYDZAveYFkBDAsDlymj6rgIf9EBwGmVNqPnkXow2AOAlixgmtpCjRfUBZwwRLMJxBQAm3GrsQasacnUAjYFwKo4iJqgntpdrNvYEQCUxrBJZzad11oAKJYM2AOAoUM2oei4BixS7EcGgJr12HYCYHbcRiifA55uAHSOHL6RV7sB0LkDYR8A/vADBoR3dQ4AjxwBV7mSKgdQBYDSpzx9egx51gPjMcQMAOdz7dEB82HY+y8LrKXOV3FZAsAt85+ibnuWPyZbwNTIERQEbucONQBSzdOCBZabQGwBQKoBbFBfbanqAODnrj2QaJYdCiBZWDRbFUDVE2NwCFUZAFLDDd20TRdZwCIAZsZ9XNSKgdEDQMkCjg8ANLWAyY4nQrYTAHt7LcQi/KFWAJ0EQFWeowiABXERQXxBWT1QKoCOAGBi7iM+ITHb7i8EgFLjltksYD0AlOY00zl16xa4XDmFcYKyBbx9O+sCbtIEVgGQAoPTpmVn57594P/XUJj0ocoBVDSBUE2nWRSTVhOIDQDoUbsqqIHjZvAbpwDQtAnkWwDA37lFWIzfbQLAm8iNUjiFUygj1FvDmgW8YwcwZIhaAbQGgJcHAfnzyzWjdgHg4I0oOr4hTh+IRsmqdgLg/BU43WGRpgLoBkDngOFbe7UbAJ07ItabQJQWsBUAfLNuJwLa14BFBdBWADQYMNhzJia86WYGgC25FViJljD8u4+NCrMRAHcsfoqabUUADAtnEy0IAGlY+coVagC0VAN48yZAMzAdBUCq7+nRg8XA/BpAAiRI4LIbAGmUHSlzAKo0zSB0/xmyZgOWLNEEwKcTFuHR7vP4/thM/F8AwKFeMzAT3S0D4P37cji43OktNYFoKIAUfXKVz8hgj4C6WzfYAoBj0k7FVeTDTtRkFiA96JAC6OsLbs5s47nnCagAcM08oGNHY8e3NQuYjj1NMDGtARQVwA+PXyHZyIGQATBLGuDVK/XPL1eONWJJS5nRaAUA7zYZiOZYib2WFEATAOT+95P8q+RjoAGAr19DSCgQlgIAP7XvjL4LcuHvdjeQMEVSfQt420EQAGbDHdwJfu0YAMbEgEuZQoBIZQyMDID9+gOTJ9tkAUcOmIb2k3JgNV/TbGYt6HhR3Z3BgBIJgmUFcGT+9Zga3ljVBOKF13htSA3LAHgFK0LzC7uOagAJAEvgDM6gFFMAixYVZgXLk0BMawAJAIcOBc6fN54XYgfuFeRDZ8zGEUMltQJoCQDpHKN4GfmAAnj2DCEoKnQBh0oAePAtSlZJKfxOTQWQHkjpOp4woTzajX4OrSjeYGYBawJgxao4eDQhSvP/ui1g53gi3l/tBkDndrlVANyati1afVrMylYIAMO6YNKt+iYWMBssH7V2JzJ2MAFAurhQ3QtldlGH59Gj4CpVtK4AWgDAVtxyrEAr1wAgTfOgpHoFAO7waoYsNQui7PZB2hcdCQCpfpDCUfUsYLpYUg2gqQKoA4CfuvZE4lnTjHNajekHKkAQ6vBIEWvShE19IADkDlkFwHLZInHinp/w/TIAVimJhKFnjRdLUd0xs4B1FUCpC9gFFrAUNXLnDgJyJMWfLa+g+fJqrCHHAQVQEwBNm0AsASB101KxOq1Zs8B17QJbALAzx5pPaEkKYNq0BkHVoxtcUUOoRQBMwsXiI5Kwz5iNABjHJcADZEbWJSPYZ+3AAfWVwRkApFgYUtekucgWFECuSWPIN1k9C1gJgPv3g/tJnM6hjFvSiIHRA8DwloOQceUEhLUYhIA0MWxus2LJTSAiAKbGK7wKvmsZAMPDwWUMUH/u6G/WANAOC3hdk3/w63rxWiqVWkgXEx0AVOYASkHQ9BK6PmsCYDCbvNSyqDkAUj3cLeSyDQBJ4R02TBMAR2E4RmIUu0coLWBrAEjHicoNpFWsmAyAUg3gaVsBkO4zYiSX1NzjBkDn4OC/8Go3ADp3lKwCYHfvFVgW19JxACR7gQaguxAAG3EbsBGNXAeAFFOwYrl8saeH0vTJovD0nWe8ACDFaVHM3ccuPZFkth0ASBc92rc2AmBBv+e4/IgV39sNgFZqANek74qOsYFqtdaeGkBl2DBBc47sqF/4Njadz+EwAA7xYiPZlBmOZk0gXxwAw3D1hS/SpY0ToE66WVtSAFUAaKMFvJhri9+xGIYlS7UBkGrK6tXD+8iXSD7KggJI5xQ9oCgVQAJAUiGlUOzbt8HlzCFEG92QuoBJISI4atxI3SizcCEL+FbmAL54YVRr7ABAEipTpxYveAoFMLLVQPivmIgHLYYgU5poqwBI5/79s8+B4sWNV0/TLmArACjNApZiYKZX3oweh+2rAdzUdCMarm2oXeMcDwBYDExZVCqAcu2gpAC+f8/KTAgAhw9njW3SEhXAMRiK4RjD7hHz54Pr0J41gUgAKJeVKJpASAGk+k+q95YWxyEURVRNIDYDIMEfuTkAznFFsBvV0ZUfr6EA3kIo5QAqawDdCqBzFPEVX+0GQOd2vlUA7OG9HEvjWmkD4J1z4IoWkRUrfs1OZOpoogBKAEi2FCkICgWwC2ZhKMZBswZQUAADMeFNV7MLZFtuMZagrWsAcNw4VqNiAoDJEsbi3ackzgMg1QDWr6fOATRRAO0GQMn2aNOG2b02AmDWtDzuv2QemgSAD0o3waZredGbH8kulnoKoASAkZGCbUk7hoKgpSYQlwKgOJ6tXqE7+OdCdgaAZPOMGiVsu24TSCiLJZJyAL8MAIbjKh+gsoAL4BJO8AXkm00nbg7mopOwrQRJ1174wCttIvmTKtwoJQvYzw/c7FnywwcdA0cAcCI3EIMw0SoAvnv0GilG9te3gO0EwOuh75GqaE5AAYDCe5b20RcCwOim7TBzbToMMkzAo5b94bdyEu40H4ZsaaOsAmAW3MO9sy+cBEAWKCwDYKV/0ONIfRj69cfnyX8jET7Lx1SvC/ifZhvQYA3L9JNjTehVdG5IAAigOBeMEBQXvk9lAYuzgKWHCnsVQALAVHiDkrmj8Geba4IF7IEoRPCe8LQFAEUnYhhGYyyGmQPglcFAvnxy05CqBpAA8MQJgOqhNQBQioE5c+gtSlS2wQJWzGX/hWOxO6b7lXZrdogAaODRP/U8pMcz9Kp0DoeOcOp5787dV+Pl1VFRUfBiFjr9T1S8/NJv7Je4AdC5A2K1CaS993qsi2vMPtw//ogBDzsbLWAZAFkQtCYAShawBIDHjoGrWEGwgHl4CYHATgEgTYqgyRzistQEolkDSABIT6jLl8kXbPpMpUz0HtEfk1kGwEmTWDSKJQvYDgCM7dILSWdPtW4BOwiA3wc8w4WI9CoA7Jh1D9a8/Nl4sdQBwLhJfyHrgEa4eD0pvHL7mAHg2vQas4AdVQBFAKxb6A42EwBSQw7VO0oAOPcefu6UVXgfqg5jEwD8MhawGgD7dnsPmk5wms+nD4AvfeGT5gPeIYWwzTIA1qsHg48vEsxRA6Aq7sJGC/hPbgAG4k/XAKA4q1r+UFEuIEWtaCiAWgCo6pS2BoAH2KxaaVmqAXz5Uo5uw8ryc9EyqKOwLx+36g/fFZNwr/lQZEn7xioA2qQARkSAC/BXgbnwF9ECluJEtABwwuSEGAymRtH7kQGwYSOWiCDGwDgLgNIoOEcBsDjOCgqgR6J3eDN2BriBA4wA+OEZi/GSFEAK+qZRjEoFUATA8RiEIRjvUgA8O2gTSkxoAJsVQEU9NnXR74KYVauw1hkAil3ABh5cavYw/LxcHfwdVBID+SHuGkDneCLeX+0GQOd2uVUA7OW9FIvj2sgA2P9BZ0y+LdatmADg6zW7kLnjLzh1MEbIAWyafh+6Vr2GcgfHsMJ0UgAVABgFT7yFhz4AegViQpS5AigFnhr27Qe6dPkiAOid9C1evk/pHABSZhbZmVYUwHv3ABp16zIApCw4Cu81WVoA2CnLbqx+Vd0IgKK9Z1oD+PHPKUgysDfO7n6O4j+nsw0Az54FV7KEGtL0cgA1LGBnAVBTATTtAtaygH/4QZhZLdRXUp0lrdmzwXXpzGr6FAogZQOq6gIBmCmAdgJgMu49PiCZXTWAE7hBAnQYli5jk2Bo+5WLLOD69RET/hIpRw+wrABqAWDnzsZMRNGiJ6VPBkBqWCA4atRQHg8oqFpaAKgkOT0AvHpV6CAllVnqAla+bFX5OWgR1IkBYOsB8F3+ZzwD4E2EKGYBT1cogB0mZ8d8dHAOACm4m1RVACU4BmqmCqCzAEgKICmLAkBO/FMEQDGTVQsAqQufphtJy1YAFB8q5Q56ygEkBfDkSaB0aePPU1jAZwZsQsk/7QBART12TW6H0GylrQCaA+A/+Yfh1ytD8YxP6gZA53gi3l/tBkDndrlLAfDV6l3I0kkEwELvwKVLi6aZgrD6YXnjWC0FAL5BKkQjlS4AUpDvxCh1kC+9XXsBMFWCaLyJ84CmAjh2LLM9TRRAZwHwyMiDqHBuJhLckwBQkQMoW8CUA5gREgB+6NIbyWZPcU4BzJadZa+5GgAn/o0kg/rgzK7nKFE9HeZxHdAR8+R6L00F0EkArFPwDrZcNFcA98y5h+qdrSuAzgBg/oMzMLLnazSaWk4fAOXGEAUU6gBghjSxQpSJpNYITxb16iHO1x8JZ8+UYYGg6YsAII0Wa9BAAYCv8ZBPjQ2+3XE4pgRWGFqy90klG3RTpnnc0iIF0BUASOP1qMPaTgCUZgErSwdXl5+N5kGdBQB81GoA/Fb8iXsthiGLNw/MmKG6KspNINsPwaNWFaH8wbQGcBnXGi2wEgkNzLqFngL47h24FMnNRsHNqPwPuh9mFnDHydkwDx3NAdAkCNqiAmgDAL4cHYisf3eVzylbLeCcuIFbyA0JAJMn/ICYcdPsB0DRidBSAGmjHh25CZ+KueSyEnsA8FT/TSg9qQHOHH6LEpUsWMBUkkLugAIApYY4WwFwU4HhGHC5JZsRrGzGce7e+sVf7baAATcAOneaWQXA3t6LsSiurdECftAJk243YE9XJgqgFgD+mikIa5QAePw4uArlBQv4EVhHagq8xSM+JfvwKYqxnQbAt4/A+fnCg4tGtMEDO5c8RY3fTGJgCABJ9Vq2VL5gkwVsEQBv3QJy5RLiHtC3r/A62mw5CHraaHAjhmP95AdolOMcuHp11TmA9PTbvTuCoAbA9516IflcOyzg334DSO1T1gBaAMAiAc9w3sQC7px1F1a9VNTL6CiAsRP+RtLBfXB86wuUq50WvtwjPIavDICaNYA6AJiCixHsUNUFWqkAihawswBokwVMIeBZMqsAjLrduYMHULdEODafYZ2gmgqgCICmamlHbq4MAEI93EtfOAqAb+asRMDAFpJryILVN20yxraIn//JXD/0x2QYFi9h0Uh79qiuDM9q/w7PMf3w6dkreIzqB4oOIQD83vs+7sVlMf58LQCkTk1S2qWpKI4qgFoAeJB1qUpLPicUCqAWAK4oNxetTjALWAbAlsORJfVrqwAo1ACeeQ6UKCH/XtMeEIcBsP8AtJmUV57Jq7SAX9T5DfO2+gh1i7TiFQCLXcGKEBYDIwGgZAHbBIBbt7ISDKUCKALgOAwWarkFZ5uyU9u3E37PpunhqN89wBwAr5xkjUYmCuAzLj3240c0wxo4A4C1uW3Yjto2K4CbCozAgMst3ADoHEt8lVe7AdC53W43APa/3wmT72gD4MtVu5C1s1oBrOZzHnseFzEqgAoAfIfkeA3veANATQVwzBhm034BAFw2Ngyt8odoA2C3bgjiKAfQqABKAJgaL/GATyM/jZrlX0k1gAoArMwdxhFUhsFOAGyd6RC28FU0LGCxY098Iv4wYQqSDe6NE9tfoExNLQDsho6xM9UXXXsBkN5Pq1Yw3L6DBDmzo1KOcBy+FcBqAP38gNGjhbPdGQVwtW8fNH/8t3E7LQBgpbxPcfgqe2CwBIDCuDfeXz5e9gDgZx9/JJqjVgCVx/v0sB3434yaVgHwL64v+uEvGHr0ZDVw1FauWNyD+2hTMBiB9Q+pALCo913cicumBsBSpYA+fYyvJgCkWlspEkcEdJUFTFMryAJu2AABCMMVKStRaQFLAKhs57UAgO/yF0MK0FWCPTAo02PWVpiFpse7MAAUm0DuuRIAI9kUIVqqBxVrCmD/AegyKZM8CpBe29hrD/biZ0wtvAS9Lvwm72sJAFXxNtLTpEIB1GsCMVUApeY4+hFyN68UA1PsKlaE5HMOAOnzFxJiPC9E9U0PADdMDUfDnhYA8NQpgM41cRXlQnEORYW/ney/GWUm1bNdAVTUY7sB0Dko+C+92g2Azh0tqwDYy3sJFseJF62ffkL/ex2NAHj3PLgi38MbrAlECwAbZjyFDWFlAClUl6ZulC8nKIASAOo1gdikAJI1Rbl84lI1gZgogDuWPEPN31gThEEKgiYApBvaUtZNSxdsxxXAq6wZQFQA5w6LQIeiZ60CIA2+yJoVeNe5D1LM+ds4pksvB1ACwLZtmd0LQAZASRRPwRoOhEXqzaRJUCuA93CRz4oOWfZi7atq1gFw4lQkG9RLBkA/jim4mfAAl/RGwdkDgGQNUldzq1Y4vSkcpRsGoGb+e9h+OSuLEaHO43gGwFrFIrAtmDUCYM4ccJ07qWsARQXQYQCsXx8CAM5mlqUEGsomkFPDdqLajBo0EUxQmU9UGYJyh0W1RfHZlwGwU2dhW41Ex76JXlva9z72tduAVKONCmAx7zu4HZfd+O1U80jjGF0FgAsWADRFhEjNTgDk8jNg+dIASJuWIAHbT2J/BuAgAJ5vMw3zlybWBMDJBZej3yUxUQHA5uYbUH91IyGHW463kQ6WDQD4YlQgsk0xWsBOAeD46eAG9DfW65rWAJICqAOAKgtYoQCumBiBFgP8mcOSMwdkC1hSAE0AMCMXhnCw8XtB/Taj3GQ3ACo+4mZ/dFvAbgvY0vlhy7/ZDYAD7nc0WsAmAPhi1W5k61ydNYGINYANM57GhrDSFgHQYQt4/wHWnWgFAFNyb/HWkBI7lz5DjTYmAEgXtXv37AbAtLnSoFHpcMw9WVi+webFVZxSAOCSMWFoUzAUXN065hawQgF0BQDKQdAEgDSlZMsWdvzJIqaRTWvXQt0EwgDQrAlEtPfkyAYRQt+Pn4LkQ4wKoCkArknvpAKoAMAjayJRuZmfLgDudWUXsAUF0FEA7MDNk5sABDh85YsM3h80awA/+waYAaDSIj8zfAd+ml4Tnz8zSJlQYBUGX2luynewBQBL+jzA/g4b4Tmqj2wBF/e+jVtxOSwCYAXPCxjY8TVqTBLHC8oKYIQwCq5s0XeYOzka5bJGmiuACgA0HDyETT/MQoOXC8F5i4F+hw6Bq1pFvlYpLWBTAKQBD+lYjCVUCqBUA+igAkhwTYMkXAGArQsEI+Xl0yoAlLqAZ3y/CN3P/y7va4sAWLMmy96zEANjCoCaNYAhbP+21FAAaYLNJRSCYAFbA0C6ntDDsoYCqAeA66ZEoHEvCwB4+jR72BCXPxeBSLAHrqB+W1Bucl2HFMBa3HbsQC3LFjCiwHmxi9vGgiMx6FIzYbKLuwbQFmz4dr7HrQA6dywsACDLg7JHAXy+cjeyd6mO04feomTB90ITiAyA0lQFDQVQHwBnY2JUZ7MPstwEYiMAJufe4Z0huRoAH4ax6RIEgNQJuoTV0tmqANIs1ACvNwh7ncppALxzB8iWDYjp1Acp59qhAIrj6mgDVApgnTpGAKT8vrNngXXr8L3/M1yIVMfA2AqA78ZPRYohvXBix0uUqZEGXxMA98y5i+qdswn7XRUDc47lUlrKAbTHArYKgGJnsKkCaAsAVuKOoNn31/B72WtIPJtNrpDgRwsAP31ikDKx4EoMuqyoCRQ//7YAYN40j3G62yoVAJb0vokbcbksAiCph/VLhmHTaabOCIp59mzCQw0BoGfRHOhZ9z6mtgixCIAP155A5qZlEXEtCn55xCcLOwDw6VMgPTt9tQGw1Qhk8XwJ0IxmxTJtAjGtASS4TiTGNDqqAM6svAndDjdAg1yX4HPzCGaBKXNKC3hm4YXoduEPIwA224D6axqpemLki4kNAPh81Cxkn9JFeAltt6YCaAEApV1kMwBSvXRwsHHPPnoklGYoAdAwfwESdGA1gPYCYHruGZ6DHeDjfTaj/N82KIDiNpDDIUVyWQLAbLiNc3wOeCoAsPF3h3HuqZ8bAJ1jia/yajcAOrfbXQSAbBScDICHY1CyAOsCJgv4t7DRKDnvD6RrX18I/+TKlVVZwPYCYBtuqVBkbfjKAJg88UfExCaWr9mmTSBLxoSjTcEQqwrgfwEAY8ZNRcqhlgBQYxKIgxbw0TURqNTMHzXy3cOOK6IF7OPDFAihBjC+ADAS24JZHZimBSwCoGkTSHtuPhagvfAyPQWQoKR46ts42TxQGP8nwQIpEEoAPDtiB36cVhMfPzJI+bPgSgzUAEC5CaRjJ2DuXF0LeG+7TfAabVQA86aORKTBTw2A1BwhNjfRdtG2Vs3/BAcuZ2D7ghTzbFkZAJ57D88i2dH2f+FY1OGMMPZQVQOoUAAlAHx4OQoZ838BAGw9EllSvbANAE8/k9UnguvE7GNs3A+PWAOZ8rgIf3n/HlzyZGZdwBIAtswfAs8rJzUBcEbhReh+wagAbmm+HvVWN4ayu1m+mCgAUBkDMyr/ekwRZwE/HxmI7FOtWMAiALYqfgXLg9VNIDYB4Lt3QLJkODHhCBb8zWPJ89pmAKisATQsWIgE7f+wDQDPnFE14mTl7uE+WHf/sT5bUOHvujhzJAYlKrJyFs1ZwBIAKhry7AXAAh738CH6oxsAnWOJr/JqNwA6t9utTgLp6b0US6QcwP/9D/3vdtCoAWQA+GzFbuToWh2nCQBJAUybRlAAN4aVQvNy97HyeJYvDoBJEn7Cx7hETE0RawAtKoDU2UY2oAMKoE+qaDyK8lAAoLoG0FYAvH0byJ4deNupLzzm/mW9BlCKPlAogCoLWKkA0gxfslrWrzdRAJkFbNYFrGMBvx03DR5De2oogPdxic8Cp7uAFRawBIC/5LuHnV8aAB8+BJc5k/pGL3YB1yqmAMC5c8F16qiuAXQSAIsRADYLFMb/WQPA2FgGKa4GwNLe13EtLo8RfKjRg0akmQBgneLh2HJW7IjWAMButR9gRusQAQBVuYgKAIxYH4SAJuVw93wUshYWAfDwYXBVjJmVlizgJ09YNjGtNeVnoVkQawKRRsHdbz0CmVPZqAAqAJDgOgmb0uc0ALbIFwqvqye0AVDHAlY2t9A2zOS6IaCYD+oFDxG2Sa8JxB4AbFn8KlYES00gN9kMYHGRAhg1diYSD2KJBsIxiH3O5FYRABuXC8eGEwHq0oNHj1DML1J4TSiKCf8WN38hEnYwAUDxmmJWA2gBAI/23oKKUxwDQEtNIFoKYP6U9xD71g2AzqHE13m1GwCd2+8OAGB7TL4jzq+UawD1AbBRplPY8LA0fi78CLvP+wqt/1zZMoICGENRIEit6gKO5PxwGzlQ0XAUg1LPxkTe3AJWKYA0o5RiWcSlBYCUq/bekEzTAu5R+jSePzNg9V0WSGqTBSwVNdsCgIVCwdWpDZVKRDEwihpACQCjO/RBqvk2WMCRkbjjXwGGRk2QY/14YbtVFnDdusDmzWyPTJkCULG1HgBm2YVVrxQxMKK9Z1oDGD12GlINMwKgVK+TCV8AANdGolJTP1TPex+7rmZhTQQZMtitAGrFwEgWsNx5+RUBsGjqOzjVbKZNAPjhA4MUZwFwT7t/kHp0b3jiNcL41CjjfQ1X4/LaAIAR2HJWbIixAwCvj16HvCOaMFDbEAT/xuVw7+IbZCnISifgAgCMaDkQASsn4p41BXDHYXjUrIysuIu7p5/LCiDBNY27dQUANs93DqmvBtkFgMraRtoGUrqSJPiID5+ZLKkHgM9GzkKOqTZawFYA8PWYQCHmSQ8AG5SJwD+n/NUA+PgxOF8f+dprBoBTI9G4px9LWciRXdUEcrtsS2Q/sxZcCeM8ZqUCeKT3FlSaUhdnj8SguBUFMNKvGLzGDUDKwT2EbXEDoHNQ8F96tRsAnTtaLgbAPcjR9WeVAigBYIOSYdhINURWAFBWsgzQBUC5BvDAQaBDB6sASF2VHwxJsXPZc9RozarIDWINoGQrSLsxXgBQzFUTYmCaZhL4NUcOwAiAr/CA99aPgVF0KEo1SxYBkPK2NmzQVAC7ZNmJla8UY5N0APDNmGnwHG4nAAYHCxd4VZ0e5T5q5QCSAti6tfBfSQH8Oe997HYCALWCoJ0FQNWcW5sUwHBce+WH77xjhekeEmTQeUcAeLL5LCSdNcV44zWxgIOHb8MP02tLQgzGFViNoVea6TeBWLCAy/jew+52m1UAWNb7Gq7YC4Di9BSlBSwogG1Chak3SgVw1e8H0WJxVRbXsjEIfo3K4e6FN8hayAoAXrsGLl9eYb9IXcCPH7PnAFpKBTC85SBkXDnBZgAUagAVCiDBdTJ2aIz7VQE3qhgYPQu4yiZ0O9QAzfKdQ5qrxxGIbvIxlWJgzC3gDai3uhGUtY0SACq3RQmASgvYcQBkQdDSIgXQGgA2KhuOjSdNFEANAPw8fxESdfhd+NHrTAAwAx7hJu8rWOQkAuyZcRPVuhmVSCUAHu61FZWn1rHJAiarvm7+W9h8OaeDAHgfH99+wFk+t7sJxDmeiPdXuwHQuV1uAQBZE4i5BaxQAO9dAPd9YXlyxbMVzgOglAVFN4xBqedgIt/JrAlEVgCtAWAMe0JNwsUi1pDELgBMkzQaL957aNedSGHJntGI5C1YwGMjWA2gqQKoA4BvOvSF53yygB0HwC4IRL1yz/DD8VHszJg6lQ1ddxIAo0ZPg9cIIwCSrU6TLSwqgPYAII1fa9VKBYDV8jzAnmuZGRhSpzeNoqIawA3KZARqAAAgAElEQVRRqL6okfBnR5tA5OgNLQXwxx/BHdiP2sUjsfWsWAMoWsBaAChbW6Kr2Y5bgIVghfCC8vvKVxMAi3jdxakWgTYBYEwMkDw5QFEi/S8bo0Skj7/UBLKr+kz8srubGSAScBIA7vpjM7zHGBVATQAsVkwuqJeApE5xhQJoBwCu/uMgmi9iAPh4UxB8G5oA4JEj4CqL3cXKzD07ADCs5WBkWjke99qMQpaUz4DAQNVVUW4CERVAUwCkcbe0b+0BwJy4KdSMSbOAZ4oA2DTveaS7dhQz0d0pAEyAz/hsYK3JegD4dORs5JzaWd5ui00gVhTAl6NnCV3+tLQs4OYVH2L1sUzq8+rJE3A+IpGL8GwPAC4adg9tR7OaP1pKADzYcxuqTqttMwAGeEUh7DX7ANrbBZwn5UPEvX3nBkDnWOKrvNoNgM7tdqsA2Cv1Eiw2iDmAVAN4pz0m3xUtYBMAfLp8D3J2M1UAT2PDw1JoUCoMG09lFOxIrkxpwQ4QpkGYWMDluCCcQDnhQvOtA6BPqrd4FGUcUyTHwEwfA274MCz5CgBIp0MBT5bNJywCwKAgYQi9uguY1QDaqgDyo6Yh9UgjAEqTQDKD/RzNGkAnAfB/eR5g77XMeO5TAHeepESpvG+Et7TnWiZUB5t0YQkALVnA8jQyWwFw3jxwHTtABYBiNqBVAHzth+9SfzBTAL8nAGweKIz/k2+8Ogrg27cARTv+VXAZ+l1ubQZ4UhNI/8J7MelCNX0AbLcF3qN7yRZwOe8ruByX3/j9NO2jaFH7AbAO1QCaK4Br/jiAZot+UAHgnQvRyFaIPTjBDgCken/qBaKlVAAfthiMzKvG41KJtkh49iTy5opTXRW5mzeEv0frACCVuUmxmXIXsJ4C+OEDuGRJYQqAgVU2ouuhhrAEgNMLL0aPC+JUJQBbmjMFUFnbSNtJwBrfAPhi9Gyhy18+D01qAG0FwE/zFyNxh7bCz5EVQNFVkBXAq+wesGzkPbQaYQTALNx9PEAW4bUHem7DD9NqW7eAxeOU97sXuPokrVUAzIY7OMdnhyf3BpwnU6GzJX+ERO+i3ADoHEt8lVe7AdC53W61C7hn6qVYYmjDbhDVqqH/7XYaAMiCoJ8s24Nc3bUBsGGpMGywAQArckdxDBVtBkBD+w7gbuvUAIoKYGLE4iPsUwAtjoKTawBtAECqAaxdS10DaKIAkriVMycQ1bE/vOZNckoBpNOhbJrrCHqRh50Z06YBx44J48NsAkCxvssUal6Pmg7vkT3kJhBzANTIAdQBQEk9VFlrCgXwyOoIVG7ujx9zPcS+G5lQM+m/2Bn7PxlS9hQZhOrn2TgtRxVARwHQH4q5vzYAoNAFrAOAhb3u4XSLQCSb9bcuAIaM3I6qU2shOhpImVJfAZQAsHehfZhy8SddANzZbgvSKACwvPcVXLIXAMXsRJUFTADYho09VFrAa9sdQNOFDACf/BMEnwbl4AoAlHIAKcOPFEACwHJJgxH0oThLB5AWfVY7dlABoFADeOqZPIUi5q0BKT3YrcRhAKy6CV0PNsCvec8jvY4CaAqAW1tsQN1VjaC0tr8WAD4bPRceQ1gNnZYC2KzCQ6w5bl0BdBUA7u+xDT9Or42zR9+heAUmz2p2AbsAAPN73MfHaLcF7BxKfJ1XuwHQuf0efwBYOgwbTqoVQLIQTUfBVeCO4Tgq2ASAJ2YEo2z34qqbnaoJRATARPiIT0issoD/mf8c9dqlky8q0m60rwbw2wTAMmmu44QIgJ+nTMexLS9Q+ehoFPZ/hotyDiBT7rpm3YEVL2sabXYdAHw1cjrSjDICoA/3GE/gA6MC6DoAPLYmHBWbBcgAWD7RSQR9LmMdAM+zyTS25ADK0RsWFEBVF7CDCqDTADiCWWFv3gAeHtYBcGjRnRgbWkMXAHf8sRVpx/SUFUBbAbBuiQhsPiM2gYgASPb2DTEGpnvdB5jeWgJAIySva7cfvy78kQHgpuPwaVget89HI3thUQE8ehRcpYryVUx+KNCwgKn5nQbC0FpbPhBNg7oKAdlhrYYgy6pxyJnoHm59yqp+7+I5Qa+RFED6855p11GtB3tIehttgEcqEwBU2JuqBxUrCmCTPBfw3fUjmhawHgAqlU17APDJiNnINc1oAUu10fQzpM+Ap5QDaMUCfjpqLlINVQNgVPpsSPLqKZKlTgZNAHz6FFwGsS1bhGd7AHD56PtoOYwpfrSUCuC+7tvx04xaNgNgvgzPceUxq++2HANjrgASAH6Kfo8zfB53DaBzPBHvr3YDoHO7XADA8HAeAQGeSIvnuMunE0aheUCsAVQogB9/+gVdb3bD/IfVGTDIFjBTAB8v24vc3avh9OF3KFnwnRAD0ygTs4AbSgB4+jS40qUEC9gaAA70noM/X+vXAC4feBWtJuZzCADrVovB5j0pnAJAX5MawLy4glN8fngqLWAbFMAbN4BcuQC+Q3+knu+8AljK+yZOvWTF1atb7UHzFT8L+8gZAHw5cgbSjuqOk7teoXR1b0gAaKwBdA4A0yd5jYbln2DOwdwwBcCfEh3E/s+sjozW7iKD8ct51v2sUgBtAMBVvn3Q4vHfxuy1sDBwmVjAsXyjF2sAaxWPxDapBnD+fHAd2ttkAf/BLcQisCgMSwBYyOu+oAAmn/WX6vcrm2RCR25Dlam1ERUFpEoF/FVIPU5M+vhLCuCwojswJlQxO1j8BqkG0BQAK3hfxsW4AvK+3Vh+KsK8C6PX9qrylYVeqwuA5z/A8/ts0APA9e33o8kCBoBSDeDtC2+RvRArnYCTAEgZfgSAWVePQ45E93H7UxY1AF5gdcq0lACYOFEcYj+y+W/RbwxI5WkfAObATYQoagAlC7hxngvIYAKAjbz24l9UgxkAttyAuisb0dQ5GWxpe2y1gG0CwFAWs9OqxFUsP6sdA5Mi4Xs8GjkfXsOMdYsUA8OlT4cqlT7j4OGEaFb+IdYEmSiAGgD4cd5iJOlomwVsCQD/7b4d/4snAMyX8j4+v3UDoHMo8XVe7QZA/f1OXQB0FyLIownelBdwxeTbBQBMmJDH5886AKjIAeyUcQfmhtc03qx0APDU4XcoVeg9uDTeFgFQqwZQaQFbA8BVQ66g+ThF/RIALQUwIT7hMxKpFMAW9d5ixT8pHQNAKSvPDADFUXCaABiJ67yf8IQZV64CXrbqiRteJYQuYAkAX3cYAO/5fzptAZfwvoUzL1lH3KKm+/HHWnYD/t7/KS5Esid2SbnrlnUHltugAL4YMQPpRpsDoKkCqBpsb4cFTDe9ZIk/4V1sIhkAq+YMw4GbGfFT4sPY/6mySwFQzl7TAMCbZVsj98llcBQAm3GrsQbNrAJgQc8HONMqEMkDJ6sAUGl1nRvJuiElOLVWAzi86A6M1gHAsr53se33bUg31qgAVvS+hAtxBeV9K/1u2QoVgUQFgKJqKiiAMgA+xHSygOvWUWUlKgHw0aYT8GtYFrfOv0WOwvYDII3A9hN7cqQaQALAh62GItvqsXYBYOpUn/Aqio3/eBNlgKeXcwA4q8oGdDnUCI3yXITv9UOYAaOaZg0Ale/LHgB8PGIOck/rJLwH3UkgIgC2LHENK86yrmqqX1TmABIARo6Yj9TDzQFQ+tmaAPjsGbjvxNEs4jZoAqDoKpjWAFoCwL3dtqPazFo4c+QdSlS0bgErFUDLMTDmCmDelA+EJhC3Avh1IM6Z3+oGQO291w8QZhFVB3AHwAgArQAh/TNG8RIBAIX/wBQA3yCCTwVlDWARz9s4/yaH8WZ1/yK4woXgDaYAPlq6F3l6VMPJQ+9QurAIgJlPY8MDUgDDseFkAHDmDLhSJXWbQJQW8EDvufjzdUfdLuCVg6+ixXjrCiAVVMchIXYtf45fWjGb4EsAYB6IQdBKACx8DlytmkLuoQSA07NNR897PXB8zUMBAK9fZ+N7X7fvD+8FNiiAiikF0o2aRosdBeumpPmuZ1+y42QNAG21gJ+PmIn0o7uZKYCOAKBWDAyBR1qP93j+JhmOrg5DpeYZoQuARYfgl3PjhPfnqAJoCQB9k77A49i0VgHQMGcuEnTuaMw3E7uAf+XWYh1+tQqA1KxzptUspAicpAJAyq2kyBiCPgkAJbDWA0CpC3hE0e0YFVpL1wLe/vtWAQBTgUc474UvDYAb2u9D4wWsJjFy4wn4NzIBwGPHwFWsIF+SLFnA4eGAv+hCSwBIIc4PWw9D9tVjkD3RfdwxVQAvsmsUreidR+BRg31GvD0/4SXPADDqdRy8vJkaKIOvnRawTQBYaBF6XDROApFqAF0FgEoLmKJzHvMp4GkjAIaPWIg0w43j6zw/vhAmOXl4GPDmDaetAGoAYOz8pUjaoY2wL9dNe4TGPXzlyTHWAFDZBbyn2w78PLOmQwBoyQLOijs4b9IE4gZAZxDs677WDYDa+/8uRQADkPIQKE+AItupz3+VLQCYClEI5z3RI/UyLDWwrsPKaS7iyCt2MRUu1CIApsEL3OPTInLJXuTtGX8AuH74ZTQeXQCGD7HyW0qSPIFxEohYA8ghDgYksEsBtBgDo6sAMgs41bQxSDBiGJaMi0QbsoBNALC9zzYseFIbQWseoFzTzDIAvmrXH2kWToIXXuGhpRxAKwBYLPUdBL/KLuyTBb8eQPt1rAi/sN8zXHzEntgpCuMC1QBm2YEVrxQ1gGLEh2kTyLNhM/DdWEsKIBsF54wC6J3yA15GJ40XAJTDdzUUQMpFex+XVAcAI3CN92dK7uy5SNjFHACbcmuwFk2F/SwFgKf3+oBYsLRhOhYEvAIAtp6NFDP/VAGgsknm/KitqDSlDqTYmpH51mPUtca6XcCjim3FiJA6ugBICmD6sT1kAKzkfRHn4wq5VAFUdkpvbP8vGi1gDTwSAN48H4Ochdl4L2pQcggAywWi2YmuoBBnAsAca8YI+ZIxhhTq964DgGk8P+IFz4KW+VdxSJ3GBAAV9qaqBjA2FlzSJGZdwBIANsx9CX43DmorgDoAqARb2h5bLeDHw2cj93TtGkBTAGxV4hqWW1AAw0YsQtrhLFRaeL8iAKZKZUBUlGsA0AePcINyAMUu4OVjHqDlUDGtwCQGZk+X7fh5Vi1WTlTJggIognq+DC9w5bH1LmAtAKQYGMPbGLcC+HVZzqHf7gZA891GOsRrAGUAnFb8814AlwCweT9s6SqAWgBYKc1FHNUAQEkBlADwxMF3KPP9l1MAW3PLsBytsbFXEBpOLQcDjKdBEnwQOn6Fi9g7llMV3wDoMXUMEo7UB8Ce/usxPbKxDIDXrgF58gCuAsAiqe8i9FU24QDPbHgE3TdV0gXAblm2Y/mrWkaVVQcAnw6biQxju+Hk7tco/XNquQbQNAZGztejX26nBeyVPBavY5LgyKpwVG4RgDJZInHinh9+THwYB5QWsAsUQDl8VwMAfZK+xJPYNKhV/BG2nRW7DhYsANe+HavpEwHw8+x5SNSlg0UF0BIA5vd8KCiAKQPVAKhUACUAlJpW/iywAgOvtNQFwNHFtmK4JQD8YzvSj+luPwCWjMDm06L8Ju4zMwv4t/NC5qUSAJUKYMSGEwhoXBaOAmBYGBAgTqNbIwIghTg/bDMcOdeMRo5E93DbtAnk0iVwhQoKnwWlAqgEwNcv4+Cd1jUA2CD3ZfjfOGATAG5ruQF1VjaC8n3ZA4CPhs1GnhmuAcAHwxYh/UhzAPT0NIDnOTQt9xBrT5jUAD5ndYLSIsj/MG8pknVkCuD66Y/QqLtRAZQAMNWVU0hQtjQsAeDuLjtQfVZNnD7yHiUr/j/2zgKsquTv499LKiEgYgsWirq2rrq61uranbvmKhjY3Y1irYJJ2B1gYwcYa1NKmGAr3Q3nfWbmnnPPTS7g/nf3eZnn2fUC99TMnDmf8/0Vy9KtMgr4OwEgUlPxMLFOcRBIoTDsn9uoGACV+54ske8BEIcPlgCLtWPE2gFIq9QXAgDbln6GO/FsMRUrgDwAftp7FXWn/wp5AHyEk+9+lJmAHz+G5Mfmak3AbSR3cQ9t6ANufmk3rItXNgHzAHhq4jX039kZ3NdvwkUalLdQAkD+j2IT8IhmYTiwMJxWLhA3Pgq4KAqg0SYn6K9YzBRAYgLu2UPOBKwOAOMc5sFy17oiK4CNzCIQkMDya+0edgP2R9QrgNoC4LfFW1F+tTIA8koinwdQNQCygCKimpGmKg0MWdxNSmQjOV1fAMAOth9w82UV/KLvh5s5DGJJu9R0Mbr7O9HPhTUBFx4APyIssTK9lpzt7tCfPB6CaUt6fYMlJ3ASg+n5aQLAuqYf8HjUNq0AkDdZr69/APNUJILmg0BWNT2DJU/7qlUAz449T5Vc3gTc3iIIAXkN81cACwmAZydeRl+3rjRa97P3fVQZ3AovAtJQq5FUAbx7F5Kf2wi3oCYTsBwASmsBkyTOBABrHVMDgM+fQ1L/B7p/MQBammUjJoEpgPGxeShdpmgAuKPjSTjeHIT+tZ+jcgEB8P17oAqLQ6JNWwWwIACoyQeQKN7vFu9C2RV/EwAKL5VMATR+9gB6bVrigNN7jFjE6nCTJo4C9nH0QY8dPfDANwMt2v0NAKiTAokpi0SvbfwBktSUYgCUTcH/zKdiAFQeqkIrgGRXpCQZqU1Lb4zaoAEKpFWvDrwlhmVps7EBstOy8TmaLaJVqwKRkeyPBvocqlfNQ/grlsmeb2R/uWkZeP1BWndJ9DeyPanHyR9PfB7W1qxUk54e+y84WP6iyeKpr8/+RnLqkVatGmCol4PwV8zPR1WrafgerzNlCxD5DlHiiE8eaeJzIMfgj5+TkY2ID+y6ST/o6sr6huTzE5Umhp5uHnJy2cOF9CG5jtBQ+bMhb9kVKkiEa2f9ycHQUEKv6/lz2TWRigW6eVl4Fs6q19eowa6dP2d+z9WqcdDR5fDmNTs26UPyoBG36jU4vH3DbiGirJDry8vKwvvPbN+0D0vkQV8PePaM7Ydec9U8vIuU/Vyrdh5evmA/k34qWZKDnn4e0hNyEPGJmT2rWOfBwEACPV3ZdZLflTDUoefP94mNDYd372S3dfXqeXj7lu2bzBEd3Vy8fSM/r/i5k56Yhfdf2bnb1cpD+EvptVfhoKfLQc9Agpcv2b4rlOdo8l9JXg5eR7KxrFEtF0YmunhGdHJps7bmoKsrQUSE7HdkzEldXvE4k+sm80BXh8Obt/LLEtnvmwjZOVe14RApukahX204lCwpEcZS/D0LCw5mphwi38v6WUeSBx0dCXR0JaTcqlwj50jnq04e9A0keB6ivFTK32Py12ldJQ86ujogChtJU0JazZrSOYksBIawfq5aORuRH1n/mRtnISGV/d7ahoOhgUToI5tqHJJichCfrE/nR+UqrA/TYjMR8UW2HpCxJHM8Nz0TLyOlBXqlV2ZlRYI1yPoiAVHN6ThW5PDls/y1VbEm4y2h1y/Jlu3H3DgbCansXOk5VsmjYxYbJ6FmTtL4cdRBDt5GsrWDrS8cJLqAvg4Q/oJ9t4YthzevND+CatXm8FL6ff64lel8lAjrZenSoJkXyLmQc+bvZXJvkzWRvzdsa3J49Vp67Boc3kjvXXouNWjJXblma8shKToL3xLk+1H+W8o/2dbgUNIwF8Gh7PrF85CsCeR+1dfjaMBdwDNZf1aryiEiUr4/yP2cl52LD5/ZvmrZckiIyUZUPJsn1aty0DdkYxWiGKII0h8cSJA+mcP8s6FyJQ4GhqS/JNDhcvDiNds36QMyp/i5Qb6nqyeBjg6gI5Hdl2QdJtcXEia/jsiZ+vPrpH/B35OSkmBGJg5A/kfEnf93rRgAVQ+5Kh9AsoyTVO8qfADJm58BrBCFCg1GIDi4C+wQhkUH62DECHaAW7eADh1kB/PxAc7uiYWHtyVa4AGWXGgJ51kxuPeiDH5smIHaNfNw0NsI5O0yPdcQnS0eY/ax5jixIxq7z1qBVM0IA0tLQI47ZHJZWrHM358d48YNgOQGJo0ci9zYe/eCZs0nfyOtve0n+L6qhMuX2UJJIgI7d2Z/O3cOCHmYjAWrpTVHAVw/FoNOQ5nJYpTtPYx0ay0cg7+yPXuAMWOARnrPMdTpB8yfz/4ybRorqOHsDFz3SsA6d3P8rPsX7Pf8ROuTdu0KNII/LH9pIpzfuW3vMWqyMeJhiep4DZdzNeni2Y2E5gDo3zkZp66Z4tcV6zG71Vz8+iv7vdmQtvAYcgkWJsY0XQkpztDA4C6cvNrQ7S+cjcR2t6oYXfsvjHL7ifpBdekiG5se5Z+i3cZcbHvohox92xCVbEQKLqCdrOIWmuApWm3+hu0zutMNSR+SB++gxcsQdWcFquIttpyrjuNhBxGVHI9rTixC8Mqpz+hy7jdgnx/9mVxX1YUXcHPNdPrzxYvAp5RITPWZje4fPOF90wKtcQdp88+gY9WO6FK9h3Cd1lNGYXfv/SCO/N27A8YlorB8dyR8PevCx9cEI348g7Bf/sITZxYkQa6h6/5eSN9zXrhYMvcWn29J58ehrXE4eKE0JmAHunfMRO+brLLBJa9UlBjYAzlnfNC5L4s+vfHrOuoecK9sPyzZaIZfcA3zS25B5snz6MkC3THXai96ji6DvB690KdbJhLTDeGGcaji40HnW6dO7Htd4YNpl3rQ/ss774OOf/YQzo9UHlhZYg2GZ+wWfuc3ei/a7fsDP5cJxZ0Ydg+QduFEKvTNjIWxvPLbPqx50hl+ryrhzoEI5I53RKeM88jh9HD3LpA3Yxby2nVAXveeIKWUSSPpeb5y5Ul2FXo/5Iy2R47DRHRf0hS/136CIy+a0e8RBfDAaTP0kwrgt/dHINe6mnCP3+mxFrlz5tP7aNMm4ABGoNI5N2TqGePZ3QTMW2OO4TgAqz96Y/Nec+yZHQrPC+VxP7w0aja7j+qOFTHPxgbOkz7ienhl4M9AjL1VBrsvVIbflQw4f4xCaRgg84AevP1kZsTz5xkEndqTAM+T5kLfkA8rTyZhd9QnuNeoQ+830mzcQvFugqwPye+a73mN9dVqUtXR/+JXzN1UHi0M78G0Xh1c9y9Nt6uB19iH0ciFLrwxQMjbR3Kmk+TSKy++xo11NenatvxSS3zh0jEp/DW2GdfB2PF6qIsQGGwrgcDJzNe2RqUMvPlUAq1t/XDvFbvRfsQDfFpfGp/m1gKfi5Se397X2FCtJuYO/4RHH9n6RV4MyfmSqiRk/tmZfMD2s1Vo/se+fYHy+IoVv2Rh/A32wnrqSC76/y4DmJs3IcwB8vd6eI6lrjWwYUYsnuRVxrBm4Tj8hOU9bIlgPADz5SbNTicC4XnMYkBcHOZVSUZCuzJYdqgMJo3PQQfTBAzcyMbI1xf0fvXv/Rx6Eypi1mbWn6Tt7/4Ok25UREomg8KN8EWTi23w4FYyFm6wwDA8RYchleD1rgQuPzDH+SVheLsxG3XONqBzlawBfKtsnoKPCSbwXhqNr/tjUGZ9HQwZwq5rsrUOKk6qDKMmpRB0NxmzV5himuU19DnZma6F/Nw4554O8zol6Xh+2vMFww5UoNs7n/sB70PSMHmBVIWWHvS/AIBXrlwB+Y+0rKwsbN++nXwsBkDZ1Cn+JPXzIyFd5ElEYHApCXwlop6mKOAPrt4wGDqAAs2Jjm4YcG0CfSsli8InrpLggzGlzBG4Rv0OtyUf4bi6MqJdD8NyyjDM7f8KG8/YIjkqHSGB2Wj5ayl0rxSIi58aIe3QKZQc1h+eiyIxbk1VfDvui3JD2tPBGmRxHQe/dKKLAEl2Owr7sI8bLRyP3MDELELUCLL4kHxo7hiPoHZTscOvHr3Bef8Q8m8Hgzu4kfEz/E7HocOA0iA+VRlcCXCfPkNSieWRCJiwE412TqTbLavkiRWfHGBv4Q3nlwNgZQVc/NUFnX2mU+CaUXofnD+PpudHqjF47/iGgZPKIXrlTlgsnEjPiTz8vcb4oNvWHvQ7pOWFhuOPyUbYf9MaybcDYNymMT0e+W9Y6wg0bG2CueutkJqZDiODksI1fAp5g/J21am6Q0x/5Hwu/bwSXfyW0u9cORaNrr9ZIXrUbJTZx3LIURMqkpECUzjXP4zZgUOQkZOBLnbJ+CuiAriTXpAMGghbo094lVYJ96cfQ+MN/WGsT2Kk9YQ+PLUrEgMcquL9hSBU7t4QWbmZyOPyUMWcQ2yaEfKiopFcyhBmJZi9881Jf5TvXQfGhiXRFn7wzWuHPC4Xqdmp2DE7CQu2VUaaiwdyJwyDgZ4+DHQN6Lk6W27ApE8TYWooq6Xcp8lbeD22xorJiXDaaYlz9qfQcXsXmBiyDiUm4KTMJFiVLEFrO5MWvXE/LGeOovt0mfMJMzZWQtqGbSjhOBY6xiXxG47gcO5vkKQk04kj0ZHQqPXY1JKQ6OrgyskkdB1hhU+z/0SFxQ6QmJUSxuHp6stoMrsjfftoVCUWQR8tkXLiIowGdqffqWGViLcxZkh+EALjH+ux7aRBAvwqlOznjxgLW1RrIHsR4TJYObHFdl5wCh8oLFh5uRw9P7pvvMar9CqY9Osr7LzzA7icXBA/pRoV0/A2tTwz2ZL6cGSCGrA+bY9byLSqjPvRtjITMCkhUqIEJPp62NbuJDYEdca7BHMkRcTCxMaSqiO0b8n+dXXpfsoap+BbtC6d1AcPshLNeQcOQTJ8GJ1oD89HoWXvsnhz5AGexlXD4MnlkHzeF7O2VYPHFRvE3XwEw5+bwkhPFzM7BWPzjQZIzM7B6SUvMZrk7UxNQ7qhIXQkErhMeo/5brJkwPy9vGvVFzgslfpfSoEtLLc6MvPyYKKnB0vDZMRlmSI5OwemRKIWtZScXBiThYu8NOyPRPvRVfFxzib8GTkIm08yW6t7peUYFzSFfvZY8BbjPZsLc4x8eHA9Bq06l8Hr3xaj+mEnGkaWmpuLby851KqnjxD3u7Ae0wqm+ro0IKRO71oUlj26nQqVrr0AACAASURBVMS4S6xOdfiYdSizdRbKGOthv7EjpmWtR0K2Cfjz+6PZM+x7Wl9u/SJrHIHBg002Y/jTGRQIiVJ9osos9Atfj/LmKYjNNkNuLodmlb4i4GsFlEE0ojkrOnbLsQzLsQKnO+9A74sTMWPAB2w5Z439w69h1CH2dnxg5A2MPCB9uwawru5+rI0YjPj0klhv64kZT//AozvJaN3DAp/fpKNcZUPoGupgtJUP9kaxl5ucpBy8epaMum0shJ7PSctFc7sEBLxnwRhRvi9Rpq0trh6MQtdR5RB5PgSVO9XBikmfsWpPZeT5ByG3Rj3olWLjx6/h5HPfxu9wJsAGuYmpyNMxRFyaHn0u3Wg+D21vrIZOSR3o6Ong3oV4tOllgc+L3VBh1QRhP1XwHpHZVaCjxzSivMw86JbQwfKGp7E0oB+eP0pFg5ZsXbHUT0Jsdim5cZCbUP/SH4oVQIi8//+lg/QPntZyAKQGEnnyPNGUB5BPA5O63wvcgIEUwk796oZ+VybQm1IRAKdZHYFL1O/YsegTJq2pBO7QYWDYMMzt9wobztiCS0uH/6McNG1vih6VAuHzqRE471NAfxkA5t7whe4vUgAsfR0nYpmcQo6nCIDinGTkLZkoBAQAn7Wfgm2+siS2/PYdDO7iZmYb+J5SD4DPxm3FD+5T2KJZyRPLPznAobQXnF8ORJkywNUeruh8YRr9+yzLfdgYwxybSfPa/g2DJpdDyoadMJ49kb51EkXowkTmtyLkUgsLh8N0I+y6Yg0uIBBo1Ei4RgKAjdqYYM46K2X/q29RQFmWr48ogOR8bnRwQsebi+nvrh+PReehloj5Yw4s97AccooAOD94GP1960qR+OtzVXAtWkLy8AFqSV7iJVcLAfOOodHaodCTsByJfB9f3v8N3UaXQ7xvEMzbsQS6pJUxTqMAyMXEApaWwjV+9XmKct2b0p8JAPpxMplx7ZSPFAA5D0/AwUHYF/nuujIbMDeaZCtijfyuf9NIeD+pimWTY7FyuyUujjuDbu59Zf0p9QE00MlGNsdUhtTt+2DkyMaGB0DOzR0YP55uRwDwCMdy8vHHIQAYxzHl4vLBaHQbaYW4JZtpjVz+O+TfpxtuMgAE0Ng6BoEfyoC7KZPCa5ZNxJtoM3AvXrJM3qJj8J85/wC8t2xMXQWE30mjgBUBkB8DHgBfczUxqd1z7Lgtm+M1TL7KAFC2SwEAs8pWwV9RNVX6AG5t54WNFADNwMXGAaVLK/UtObaVcSqiUtjDkQdA/v4lv+MB8JvPE9yOqMLuhfO3MHNbdQqA3OMnQDOmNM7qFIRNN5iP4cGFYRjpXIeuD/SNicDHxEg5AOT7QBUAkv7gG/HRjc8yESKqRV0hd+08ACYs3YSV4YOx6QSLIvGstgb2bxfSz+5TQzBhaz36mT9+4M04NP6lND6OXIhK+1nScdJeh2XDtq4+Ig/dhc2wNrT/xAC4p4cXxvgwqI+cuA4VXObRtYEA4NSsDUjMNhaOMaZ5MPY+kUVgk234tYQHQB4IvWxmYUDknyhjkEgBkJxnk4pfEfClvBwArsBSLMNKXOi2HT0uTsL0gR/h6l0Z+4Zfx+hDbI09Pv4mhrjLEn2v/+EAnN8MogC4yc4dM8LG48GVRLTqaoYvz2JQ3saQ1s0VAyDZz8tHCajdQqbS0nOyiRUAMP7pW5g3qY6rB7+hy8hyiP8rDOat6mDp2I8UALmgYKCBTIkUA2C/Ju9w2t9GmCskap8siX4t56HtfRY0RdpfPnFo3bM0vq70QLkl4+jvyH4IAL7n5N17yO9XNmE+siGP0/DDj0wBLGuQgKgsc6V7Rjyn/o2fiwGwGACLOi/looAzD51Edt9B+QLgZKtj2Bo1VCMABjzOQZN2puhZORAXPjYCd+o0iL3Jc/E7jFttg7ybvtDpyABwoMUNnIxjb6T5ASBRCMjLvSYAbG9wD7cyWwsASIIO0rmScgrg8+m7UG+zvRIArn01kPCNVgCYunEnjGYxBZCYIM9PvIieO5g6RB8m4S9gP9UIu69WUQbAnyLwSy8jjFlQThkAo6KZ7FdIAFzzwxEseMag56eKkbj/hVVHIOdVCy/xEjIA1JfkIEcFACb4BsKsHQNW0tQC4EV/lOvWRCUArpvyEfMLAoDVA+F9Mg/LV+tjxan6WgFg2o59KDmRAaDr3E+YvqESCgOA8Us2wXwlyZIkUyIC/7yBhjPZvFQFgLwC+F8BQNe23tgU3KlwACi9f0lfPDgXhVZ9yiL60hP4va1C1XBSZWPG1mrw1ACAhxaFYcQa7QBwt9MX2C+RVwALBYAH3qH9KBskL9uIZWFDZQBYZxPsQ9l4u00NwURFALwVj8YdLfBp1EJU3CcDwDfh2ahZRxkA6/aphbNnATEAvpu4FhVc59O1QRUAjm0ejD0KAMivJQebumD4k+nC2uJlMxMDIjeBVMyJyWaw0rTSF/h/llcAtQHAExNuYLCbTAEUA+BmO3dMFwMgyqM8vkECDqN1D2JvjtQniMDwkwTYNpcHwKZVY+D/jpmL4/0jYN64mgCACffDYNayDpbZf8TK3ZXBBT8D6rOgQvF9Rz73axKJ0/5VBQDkLSF+Leei7X3mEkIarwB+W+WBsou1AcDTWPK0nxwAlteLxtcc2Yu4sPN/+YdiACwGwKJOUTkAzDt6HOm9h1ATpiYF0MPaCQ7vFmPn4k9wXK1ZAexVJQDnPzT+9wHgjN2ot2msFAA9sPzTODhYeGHt6/wBkDcB8wDIq5LnJlxEr53aA+D+3Tl43nAYGmY+klsAOREAxsVRwU1eATwRh85DSiP2j9kovUfZBCwPgBG4/4XVRyUAWBvheAE7QQFUB4CJfoEo1TZ/APx2yR9lu6oGwIIqgP1wCqesJmBl9ASqYlwefxpd3PrR8yapfPI4Zq8UK4BFBcArh6KpCVgRAInPVpb3BSFKnDcBixVAbQHwQ5nGNAiHb/xYFEYBrG78DRFpspcG8cOTmIA1KYCubb2w6VlnvIvXXgHcvRuwt4dw/4oBMObyE/i+YQCY6uOL6VtUAOAvgdh0sxGdf4cXSRO3ixVAx3eYv1Mmj/IK3PcGwNTlG7Ak9DcZANbdDPsQpvjunBIKx23Mj1BQAKUA+HnUAlTY5yyM3dsX2ahhp493h+/A+vefBQWwXt9aOHOGAKA3xvgMoN9/77gW5V2kAGg0EdOyN1ATMH+MsT8GY89jeQWQuJkQqz4PgPzPqgCwIAqg2ASsSQF0sXPDtLAJggL4tfsYlDu8CRILc8Eyw3fGm6cJqNlMPQAmBETArJEMABMfhKFUiwICYHoGtYnnB4BRTh6wWpQ/AK5ofAZL/fsi9Ekq6jVnKnclfMQnVC5WAItKE//A9sVBIEXrdAEAN5ZYj1n7GyCt52CNANjKPBT3qo2AxP+pTAE8fAT4/XeVJuDeVQJwTgUAcrdYjUrSBljchFccM0nkpwCSxZP4LTEFcDK2+crKWPHbt9W/D7+sVoICKCSI/fwFkopMVXguAsC5FQ5g/ZeRWgMgbwJO27gDJWc5Ut8RokqenXAJvXd201oBPLQ3G2jYkHl+i5SnogKgc/0jmB/MFMBWFSPxQKQAtsBDPEQLBMw9ikbrfoMSAB6IQrdRZZF0OxCmP2sBgBefomy372MC7md0GadSu+Lr+gOoMG8krow/hV/d+msEwPSdsrxjRVEAiYnQbIVMAeyNszh7mmMe+AAaWcci6IOlnAk4PwD8ZPEDKt44iI9WjeXSfPAAuMjOG6vDGSyI4UOTCTg/AMwuVxn3vol8AKX7pj6SP3vD5fkviIw312wCRhSiVrrTLWNSS2LBOjN4nipDFXzSeAUw7vIj3HxjoxkAp2Rh0zYD+nA9sjgUw1bXBSd9qJN9rZ34Dgvc/n4AzFi5Hguf/y4AoEddFziEsMClTeNfYJYHcY9WBsCvo+ej3N61whipA8Af+tXC6dPyAPjB0RnlXRdQoNuvAgDtfwzGbgUA5F8meQDk1xYv65kY8E5eAVQFgCuxBEuxqtAmYJc67pgWKjMBf7VfjHKeTvQeXIe5mMvJ1Lc3/omo2ZRGoQp9J1YAEwPe0jrRVw9FocuIskh6GAbTH0UA+Ow58ANL0SNe/8hnQQGUzhXeFUadAhjt5I4yi4jHk2YT8PLGZ7HMvw9Cn6ShXnNmAi6FRCSBmdX/S61YASxWAIs6XykAOutPg4PhGVjuXo/0XoOp07E6BZAkg/at+gfwtIAAePoMfZjyJmAxAPa3uAXvOBZi/D0AcHLJ3diaNha+p+PRob+FrEKACABDZu1B3Y1jYC15jzP1FqNpyAEKgOveDCSuUVqZgNM37USJGRPpwkGg9Mz4S+jj9n0BkOTVI+cj5wMoVQDjxsyCxe4/hX4jybuTUQrqAPCNpAYNLKme9zpfAEy+EwiTNioAUMF37Nt3BcArOJXaBalbdsNk2lhcm3gKnXYoA6DYVyhj514YTviD9kFRADBxyUaUWslypJP9qwXAW75Ae/biIvgAvnwFkPw/Cg+yVEtrGF07qx4A63hjdVjBADA/H0BNALj551MUAPNVAAkAjp7HrubrVxYiTuhGCsMPzkejVW8rxF95hOuvbKgPYNolP0xzIQqgNbgnT4GmTenms2cDf/7JwOro0lD8vko7AMzPB5APAuFhWrwQih/kN/d/wC+jqyB71VrMezZcBoD1XOHwnNXrjfe+idID2Qsov22QbzwadbDAt9HzUHavzOcs4mU2qtfWx/tDt1FlWFs6V2riFer3s6VdtLvHKYz16U/39XGSM8q5SAFQFATCH8PhxyDseizLwUi24YGPB0B+bdEWAFdhMZbAqUAAuK7eAax9y3wA19Xeg7nhYwQF8NvE5Si7YzmyJAbQRzYkos59/TQRts3kAVDsA8gD4BUSBDKyLFIehcK4eV2ZD2ABAJC3hKjzASwoAIY9TUPdZgwAixXAomLEP7d9sQJYtL6nAJhoYoJShGA8PZHRezD1z1YLgBbB8K1WeAD0WPwO41fboLAAyD+g1SmAGZISMLAyh07UVwEAjSWpSOWMwakAQLqC//gjJI8eag2AvAmYB0D+nE6Pu4S+7iIAfPESDlNLYtcV1T6AVAEkgSFprDyz4DsoMgGT0moWFvIAeONkHDoNLo24MbNhsVtmAuYBcE39o1gQzEqR/VDmC0JiK7AHm0SCKJ3yKJf3JV8ATLkbCOPW+QNg1KWnsOr6vRRABoBpW3fDeOpYXHc8hV+2MwAUP5yrGX1FZHp5+ruiAuCVwzHoOrwMkpZuhOmKggFgDaskvI0pBU4NAKaVroyS18/jU9nGQgUL/jrINWmjAE5u/wzb/WQqd1EUwE1tTsE1REsA5FgQEs0nQ/IHqQDAhKuPcO0lA8D0y36YulkzAB5bGorfvhMAahsE8tjrHX4cZANujTNmBY6QmYDrucD+OVMAcfUqJF1YDibBBOybgMYdzBH1xzxY7ZEBYOTrHFSz1dMKAD85rka5LYto0No+40mYnrVOzgSsDQDy64JXlRkY8H6znA9gk4pfEPBF3gfQCYuwGKuVAHD/yBsYJY38VTQBiwFwa90dmBziiIdXE9Gyixl4AFS6CYkPYD4AmBQUAdMG1cADYOrjUBg1EwHg8xCgHgu+Ea9/5LOiAsi/CCsCIO8DGLPGA5YLZCZga7zDO04UeSVdX5c1Pofl/r0R7p+GOk0ZAFbGB3xElWIFsGgs8Y9sXQyARet2BoBGRihFws8OH84fAEsFwNfWgZb52rH4MyatrghOkwnYOgDn3jcGd+Ys0KcPPBa/x/jV1nIA2M/iFk5pqQDyC4W7ZAKet3PEVl95Hxq6UJEAiqgojQAYOms36mwcy6ireXNIHj/SGgB5E3DGph0wnMFKMZHdeDtcRn+PrrK18l8AgM3KfcDTKOniRgBQUg7luK/wn3sMjdcNVWsCTr0bAKPWjYXZJQSBKCiAfwcApm/bDaMpY3HD0Qsdtw9UevZEdR6Gg9fLYzb+pKWnDMZJo4DnfsaMDRXBuXsA48ZpFwV8KAbdRvw9AJiOEigR8ACfyzZCJWkVNTEALrQ7hTXhTC0SwwevKr3ibFFQAMwpVwl3v9VSGQW8uuV5eLxoq50CyAMgSYzXtq1KAEy69hBXXlQtOABmZLKweQ0m4PwUQG0BkGSGf1m7J2qt+UM9AF67BsmvLEWKIgBG/zEXZfbIzJ7v3uSgak15ACRRwPX718KpU/IK4OdJq1HWVQMAtgjCrkfyCiCv+PEKYEEBcDUWYhHW4ELXbehxabIQBSwHgBNuYYibLKnr+nr74fyWpYHZUXcbJoZM1goA3wQkoWYTafkbad+JFUAeAHkTcNqTUJRs+vcAYOwad5ReIDMBqwPApY3OYUWAPACSiOEPUChzV7Tn6v9k62ITcLEJuKgTjQGgtCgwjh9HZp/BNA+VWgUQvvAt0Y36rakFwPQM+D/Mpmlg+lj74+z7JgIAei55j3FO8gDY18IXp+OYWY08/EZiP/ZzLLebeFHmL5b8XiMAkrwp0dGaAXD2HtTZMEYJANe/HUgVt2s9XNDpwnR6DurSwGS67ITBtInCeXvZX8YAT3kAtJ9SUm0UsDYKIBkcc3PVCmC8/RyYe8rSwOiCpXRxbnAE84OYD+DDoZvx1/H3mMFtptcaDSuURZR6AJSmRUm7F4CSP+UPgCQStEzXZiqjgIUgEM9dLJJA2qg/kYo0MP2Mr+BUShfwAHjT0QsdVAAgevXCiQslMQQnkOW+F/rjmAnYpQgAmLx0A0xWsLQ0ggn4DOhLC2mNrWMRSHwARSbg/BRAHgC/lGuEiiz9pDCfyTEKA4DVjL8hUkMQiDoANJUk497QbehzZaJ2PoA8AJKM0z//DBrhIO2LBxdi0KpXGSRff4jLL6ph0KSyyLjihymbNCuAJ5aFYMjKeiB5EP9nAEjKtZAUPc7OmBUgMwF7/uAK+2fMBIzr1yHpzFKkKAKgONCK/P392xzY1NDDhyN3UPk3WRCIKgD8MskJZbcspv7BqhTAcS2C4KkAgPz8UwJAlT6AygrgGizAQjgXCADFCuDOetsw4bkMAKMmrYDVtmUi84TMUe61fxJsm6oHwOTgCJjUr4arh6PQZXhZpPuHoURjURoYTQpg40icDqgq+IvylhB1PoBxzu6wmC8DQDMkIIGTTyRO7rliACwqMvy7ti9WAIs2HoUDQHSgK6UiAM7r/xLrT9eiN23Ao2yaBqavtT/OiABQUAB9/SBpz3LGqQNAQ50smvBX0TlXAMC2jtjqp0IBVABAE0kKUjgTORNw6Jy9qLP+DzkAHG52Hlsje1EA1JQHkDcBKwLgybGXMXCXAgBOLYndxAQcGMQCPqSAMeynCGgDgElJrEyU2AeQNwErAiCpThCKehCbgDFjBuDiwp5sEgliUAZWiIb/nKNovF5FEIgUANP/CkCJVioAMC6e2qR5ONcMgJ+wYFslcCoAcG2ZjZgXzUyufJ/wAJixbRdKTrHHrUleaL9NWQFE7944ed4Qg3HyuwFgyvKNMF6mYALOBwDz8wHMgCEMAx7i3wCAdMAmT0bVw05MAVQYR/4eowI68QHkAZCUv2nTRiUApt58iIthKgDwqT/QpAkdV7EP4MnlIRi8oh64zCyWN4kogI7vsWCnLERaiAJe/RX2i5mZnzRSUeUNx6pukKa1AqgGAD1+2AKHZ6y6jUoA9EtE4/ZmEPvZkq8WBAC/TnaClat6ABzfMggeD+UVQP5eUATAY1VmY8j7jQomYOU8gM6YjwVYW2gAdK+3BeOeTxUUwKjJK2G1dalqAAxIhm0TUYJzkgewaiwC3rFE0IoAmBEQBsNGIgAMCQXqyqq4iH17+/EAKH1Z4F+EFQHwL594tO5pAUUA7A9veHMy/1q+X5c0OoeVxQqgcB/91z8UA2DRRlAJALP6DqYv56c670S/q6xShjgRdDuiAEoBcOeSz3B0UmECFimAAgCePQfy4N467yOmrq8MTgSAfcz9cCaewaBYAYy07Yzs15Gw5V7JXWW+AEjypsTECAqgqSQFyQQAv3yFpAJ7qITN3Qu7dVIAbNYMTZ64w6WqKxoG7qeKmxwAlt6LjbFMZSKNNwFnue6E/lSZAnhi7BUM2tVFply+fAX7KSUKDoDRMSz7MynwqAEAE+xnw8yT+QC+l1jDBCmwRBzWNDiGBUFD2ckqAGAsSqMMYtX7AEoBMONBIAxbqPAB/FsB8CpOpfwKHgB9J3uh3VbNAJjtsRd6DkVXAPMDQCEK2FdWU08AwFevWeFoaeMfZJkwgEHAI3wt3wgVZCnthJQ8WimA7Z5h+23tfQBzy1XCHRUmYDopJ01C1SOr8wVAvrIEvRwNAJh28wF8wqpTBTDzqh8m/ylVAEUAOGcOsHEje/84siQMw5zqfBcA1DYIhBY2JwE6CgpgfgAYdDsRjdqZIX7MLJhLA63EAPjx6B1UGqqsAO7qcRr2Pixa+tvkVbDasoQGiKlSADUB4IGmrhjxhCmU1L2kynT0f++iPQAqJILWZAIWK4AeP7jC4dk0AQCjp6xEmS3aA2DTqrHwlwJgyvNIGNerKiiAmQGhMGhETMCfsGpPJXAKABgtsUIvnMdDtJT5AEoBkF8HfVvOR7v7sqhsHgDjnd1gPp9VAkmQmKMk0mHIZSo9N3gAfBGQBrsmzAeQmIvfw6bYB1Cut/4bPxQDYNHGSR4AT5ygiaDJy7k2ACgogEeO0oK1QiUQEQD2s/HH6XdNwEkBcO+K9xiz3FoOAHub38bZ+LbCYsebgKmDMKmEriABUgDEeDxvN0m1AkjCZmNjCwSAxKeRHC/x3nOtATB7y07oTZEB4PExVzB49/cFQFILtFQp1QpggsMcmHkwEzBPnSRhqyYAjIMFhUS1aWCkAJj5MBAGP+YPgFEXn8CqmzoTsHoFULUJmAFg5vZdKDHZHmpNwCIFsDAAWBqxiOWYSnFZ6gNI8sQZLVNvAlYFgIIJWA0AZkEf+gGP8a1CI5SXiVkCAC6wOw3ncGkxXpH5Uc4HUAEA8zMB55ariDvfais/zAoLgKRAd+vWoFmOe/emffbAJxateloi49Z9nA+twQDw2m1M/rMqPC9bg1MDgOdWP0OfxfXlANBp/Acs8WDl2UhTpwCS0niFSQSNN28YnCuagOtvgX2wVAG8cQOSTiwxsmACliqACWNnwWwXi7Qn7UNEDqyr6+Hjkduo9BuLAhb7AIoBMGrKKpRxVQ+AE1oGwv0hy5EobmSfYgCcLNmGNXYHUSrsYb4AuBbzMB/rZEEggz7C1asytAXAU41XoZ//EhkATmXXoMof58WTZNg1N8UY7EZTPIUjtwNiAEwNiYRRXRkAZgWEQL9RPSyz/4SVuyuBCw0D6tSRXbpEgp9wD/fxk9YAeM8nAW16miNhnTvM5jITsDrfIdKvixuex6rAXggPSEedJqwajQ0i8Q4sWf5/qRX7ABb7ABZ1vqoHQDWl4MQKoCIAzuv/CutP21ITMO8D2L/qU5yKbCoAYPaTINxtPh0dfJcLJuBe5rdxThUAkhxRISFqATCkvSO2+CqYUMhdrgCApXSSkZRnKq8AztsHu7Wj2WJBUlY8fUrNEYl/hSgDoEIpON4ErAiAx/64giF75AGQRgFfrqzaBLwnC2jcWDkKWKQAagLAxHFzUMpdGQCdGx7F/EAWBYzp0wFXV8EEHA9zlEZ8vgCY9cAf+i2YGY80IQhEQQH8OwAwa8cuGE6yx72px/GT6xDl9VwEgDmee6FrXzAFUA4AD8ei23BLpC1fj5LL5grPjz44gzMnc4CBrKzXPwWAU9o/wzZRFHB+AJhXriJuawDAakecmA+gBhOwnAJ4/z7w009yAHjvXCza9LFEpu99nAthAJh1/TZGrqqJY34V5QBw7lxgwwY2/Uj1nwe/LMRPWX4s2zGAFQ4fsXwXK89GGv8Q3uX0FQ5LvoMJWBsAvHkTkl/k08AESgEwaewMmO7aLJzfh8hcWFfTxYfDt1H5dxkANhhQC97egCIAEgWQLDHiWsD8NWoEwGZbMOKxFFDJDsjL8PPn+QIgydU3D+sLBIAr6xzF5si+NAgkr1sPSC76CAAYM20VLF1UA2BmdBLGlD2PAxgJXeTRwVMNgNHoMtwK2YEh0GuoGQBb4y7+QmslAOTXQaUoYCkAJq5zQ6m5TAHUBICLGl6AU2DPYgAsKjn8S7YvVgCLNhBKAJjTbxBdm9UFgdB6r2hPb3bBBCxVAFUB4ICqT+Ad2QzcufMgzvsICmKpT3x9iwaAkgkIaTfxuwNg0v0Q6nN3racrOp1ntYBnW+7FhhiRCXhHFH3o5WzdCd3JMgXw0KhrGLavs4IJmPgAKgPg703CcHjjV6BjR+GpJwS9iAAwJQUwNVXIA3gyHp0HW0AdAMopgAoAmAAzWCBBBIDZyIG+8ODla+NmP/SH3o/5AyCpB1u2e8EVQFU+gH2Nr+F0SmfwAPjXtONo5aICAPv0wclzBtQHMNdzD3Tsx9C7oFBBIJoA8FgmMGRIoQEwG3rQC3iCqIqNaCF7MeSQsSYKoK5FKTjdl1ef5BRAhTQwRQVAbUzAcj6ADx4ArVrJAeCdM7Fo288SeXfu4dQzWwx0ZAA4bm117LteWQ4AxR4I8PNjORRJxgEpAP459R1mb1VOBJ0fAGptAn77FqhRQ1kBbLAV9kFT2JDcugVJRxYVKyiAt5PQuF0pJNvPgImnDAA/vstFlaraAWD8tOUwd1muFgAntgqE2wPVCuDBZq4Y/lgapFIAAFyPOZiLDcoAOOomRu1nkHtcIQqY+BtODR1PAZDr3gPw8cGDq0lo1aUUNAGg4J8imthiAEwLjUTJOlVx7Ug0fh1mhZygEOg2EAFgWDhgZye7MTQogPw6qA4Akza4w3R2/gogD4AvAtNh15gpgHYIQzjqFCuARWOJf2TrYgAsWrcXCQB3LPmMScQHUAMAhzmblQAAIABJREFUDqz2BF4RmgGwp9kdnE/4WXh5E0zApE7k8+eqFUDJBIS2mwBXX4UFlCyWJIojLg6+ZxLQoZ85VCqA8/fDznmUvAJYpw6SHoRqDYC523ZCZ5IMAH0mXkD3HT1lAPjqNewnEx9AFQCIwziM4XKyhyoATE0Frc18vcNq/HJzEf3+dSkAJo2bDVN35gOo1gSsAICJKAVzJIqCQFQDYM4jf+g2lwGgpVE64sgDIj6BhiXz5/rV5ynKdVeXB1BqAt61Gxg7VpipZFuVAGhyDaeTOyN75y4YONrjwfRjaLF5qPILfd++OHlW/7sCYPrydSixjCU/JudHFcAj6dS1gbTGNrEIfG9JXRdoXjxxIujXbxhkSBvfNznQhW6gP6IrNqSF7EXPSXoMAoBrej+A6frFSIGp8AAqrAm4GR7DqFwp9QqgoyNsjjjjfUIp7YNAHj4EWrYEzp1jL3DEx+plFLrVfoP7d/PgHcwAMPvGbQQ808PW6a9xwL8+U7YBTJsGbNkivYVVAGDmnUd43HYmfsZd+n11CmChTcAREUD16so+gPW3wiFYPQAG3UlCo7alkGI/HcaeLsLY8QComAi64QBbJQUwYfoymG1eoRYAHX8KwM77jVWagJUAkARLhISgrEE8orMt6DaqKoEIAMingeFNwBoAMK9PP1hePaISAGOnr0LpzaoVQFUAKA4CSQt7h5J2NgIA5gaHQKd+PZkPoCYAVAgC4ddB3xbz0O6BLC/jXxcT0LqHObQFwIUNLmB1kLwCeBdtkAcJfubuFO1p+j/eutgEXGwCLuqUUwLA3P6DaOJSsQJIMqV/5CrLUn1IFUBlAJRFAfMm4IHVnsIroim48xeAnj2B4GAWDStSALub3YVPQpsCA2BI2wnY4qcCAEkUR3y8AIBmOklIzCslZwIOX7AftdcoA2Dyw1Dqc3etlys6nWMK4CzFIBCpAigGwFcSW9TcOh2SyZO0AsBhOIRDm2NYkIb0qVdgABw/B6ZuBTMBJ8EUZkjKFwBzH/tDp1n+APjl/BOU75mPAqgCAFX5APYVANATBo4OeDTjKJpv+k0lAJ44a0DTwOTt3gvJGGklkHmfMH19pXzzAKoyAWesWAfDpTIApJVAjqRpBEDBB7CQADif+AD2eQjTdYvUAuCU9sHYJop0tzBIkUsmzC8A3SSXMA4ecC3nDL9vdqp9AB0dYbZnE5IyDLU3AT96BLRoIQeA+PYN1Knx3j14B9UUAFAvKw3o1g3w9xcAUBwFLCiA2dmgiwxp0v0T39X/KQA22AaHoMnsHDQogKn202Dk6Sqss5/e56KyjS7eHboD62EsCIRUAhED4CufF1iH+UicthSlXFaqBcCRTUNw0L/edwXADZiNOdgoiwLWAgC5vv1Q+ooaAJzhhNKbFqs2q/J2WdGbjRgA08PfoURtG1w9zEzAecHPIan/gwwAw18AtVkJPn7xr4fnNJOBEAUsjRhXB4C8D2DyRneYzMpfAVQFgC8kdqjFvVASGor6cP27ty8GwGIALOocUwLAvAGDaN4qbQBQ2QQsBcCMTAQ8zKJpYAQFUBMAGvvBJ0U5ChgNGgDPnqlVANUCILHhJiQoA+DXb5CUZ7a4sIUHYbd6BFvYSMoK8tCqUwc8AF7tuQWdz0/VCIB523dC4sgUQPrFbdtopKUAcq9eY8hYE5y4XR5cUDDo9fBpYAgAusYxiUQDAJIiIcbGqk3AyeNnw8RNhQLY8DgWBDLTpZwEI5EgGSYoheR808DkPX4KSTNWzos0dQrg53NPUKFXwQFQswLIADB4zkHUXz9CGQD79cOJM/oUALk9e4E/eAD8jOnr808ErTUAHk6lNa5Jq2aVjMgYU3B+t1liZAD5AWAudKATGICYSg1pbnLRc5JekyYAJIEFL7laUATAKkYx+JheRhnwSKgpx6F9uTCNADjo7lR4BdfWHgAfP6aVcsQKoACAd+/CK7gWBjlaIefmbehmfj8A3C1NA0OUGR1wKLQCGBkJVKsGrF2LWf7DZJVAGm6DfaAUAMnLqLQuOa9APr2VhGYdSyFj3FQYum8Rxk4bAGzhswT18RxJ05bA1GWVAICkEkh8tkzpLZACSIIlQkPzVQA3YhZNkC4kgi4iAMbNdILFn4UDwIzwSBjWropLB2PQfWQZcNLSb0IUsAoAHIiT8MZAJQDk10F1JuCUjW4wnpW/D+CCBj5YE9RDzgewGACLihH/3PbFJuCi9b16ABSlgSmwAkgAkOQBbGuCbpWf4dLH+hoVwG5mf+Fiwk8CHAkm4HwAMLTtBLiqUgAVANBcJxEJeWbgxAAoTgNDzFUBAfIA+OtGdL4yWyMAcjvdgAmiRWfrVpprTQDA128wd4EONpysphoAt8QDU6cqA2BMLEBS2YDm26a1meVqAUtNwMkT5sBkp4oo4KIAoDQqVlzPlQFgGuLSjZRMwN8uPEbZHs1l6jDHQJ60tVMKagK+jtPJnQAPD9wfvxetNg+hQSxCf/JRev374+RpXWoCLioAXjkSi67DLJG5Yi0Mls4X5iA1AR9KBYYNo7+rXzkezz9ZyANg2SS8jS4FTo0CSOBFEhiI2MoN+aw+dF98/dr5dmfg3OdBgRTAPU234y9/Q+ziZIm16U61BMBs6xrInr8YRvGf5Uz54jyA+mD5N2kj0fHNm8sDYFQUqFOjCABzb92GTmY60LXrd1EAeQDkSB+CK3weQDEAkkTQx1lJFk8xAPrJcpLy/RAfmYia1XIQPWEpdHZulwHghzxUttZRUgAbDbSFlxfg2eMMCAA2wLN8ATBuxVbcW34Vvbjzcqs4me8Hm7ti+CORD6BKAFROBP0nZmIWNv1vAJB3zBO92YgVwIwX72BYy6ZAAJgCY8TCEjMa+7FE0FIFkF8HlQDwYiLa9DBD6p9uMJqZPwDOr+8D52AFAERt1MLLYgWwaCzxj2xdDIBF63Z5ADx5EtyAgfRZIk4Dky8AHj0GDB0KIRG0CAD7V/XHqcgm4C74AD16MEWPgJ3IBNzV7D4uJbT6fgBIbLiJiYICaC5hWeHlAFDsAygCQFKwnARdXOu+GZ18ZhQZADPCIhDRawrqBB2XUwB/Jz6AW+OBKVMKDYApE+fAeEfBAJAssKZIUR8EogYAhSjghESamZqHsqzbD6D/c8sCA6BqE7AUAD09aSk3bNpETeSqAPDEaT0lBVAIAvHwBBwc6Ha/4QiOcEzFI40GiYvTwEiDQLJWroX+EgUAPJAMjBhBtzs8/jYuenzAYb8qggIo5AF885b5mYmOQUEPEiAwEHFVGvI8rwyAfR/CdO1CrU3AGDAAtOaYYs4KKQB2KB8K368qHNrJhTs6MjWMJOcjxVVFvpz87rpKLqMtbmMht4ZdDYmOb9YMOH+euXCQpgoAfe9AJyNNCQBnzWLDSPfP+wDm5ICaGUiTKoyKJuD8AFDrIJB374CqVZkCKAJAj4bb4MArgH5+8G2/DJkwRBfuCjsvvvTExInAjh3C2H7+mIdKVTQD4I8+S9EQwUievgQmm9UrgDRBIhkLFWmuDihGARcSAKcN/IQt3pWwX4MPoCYTcPzs1TDfsEi1CTgfAMx8+Q4GtjZICP2M8fXu4PizesAPIhPwi5esSovijQOgf+MIOQDMyACtUa+UB/BSIlp3N0PqJncYzcjfBMwD4IugDNg1KkGPXKwAyobgv/apGACLNmIFBkCViaAFAJSmgcnIZGlg2pngTu/1OHVOD5su1JYHQPLW3Y6Z0n4yCca9ZJl5VHsFcDxc/RScqMmDjhBcUpIAgBY6CYjP0wIA7eyQ8jjsuwIgzUPWpQuLfhaZgCkAbk+kJmMlE7BIAeQXvuvtnfDLrcW0v/ggEHUA6NzoOOYHqDYBp8IIJkhFwJwjaLT+d+hL5INALuyPRa/RllBUAFUBoAR5yLv3gKYJId1OI8TFCuCkD1iwowo4rYNAvj8A0n7mmIpHmhIAHolDt2GlkR8AYv9+YPRoBjG8CZhXAAsJgPPszmBtnwcwWbcYqTCRCwJRZwJWC4AEqPLyUFQAVKJt4hpB0iSpAsA7d+D1rDY1Aef53YEkXQqARE0nkf4ACguAfC1gXgEstAn4/XvAxkYFAG6HQ+AkNilu3xYCe4RB4AGQKPw7dyoBYOTBO7AZLvMBFCuAzX2WoRGCkDxtMUxcnJgJ2MQR0zPlTcA0Pw7Jk1MQANSPQ3ROaRYEUv4TAr5VAp+2hxxnE2ZgJjYLCqAAgKNvYtQ+aRSwoy+G7GClN0kjAKhz9hQ4TqIUBRw/Zw3M1y/UGgCbVouFfySzXvAAiE+fgMqV2cs/AcDR77FqvzU4TQDY6C1OB1YTFEB1AHhPqgCmbXJDyRn5K4Dz6l/E2uDuCA/MQJ3GDADDdOrBLk8532zRHq1//9bFPoDFPoBFnWVKAEjynpGFRJ0CKJcHcMkXTHKqAE4DAMaNmgGL/S7AhQsMAElUL4nuFQFgd/N78IlvLTygtQJAjENo24lwvV1IABTnAeQVQDs7pD4Jo1G3crWAFYNAdkbThx7n5g6MF711knDHKVPkTMAgaSh+/VUJAGkQyI5kpsoo+gBqCYCpjnNgtL1gCmAaSsIYaYIPoIFONrI5WRoYAQBFyXzJwJQxSkVsujE4qQK4QTIHNfAG/e/NVguAzlO/YOHWCuB27wHGsFQtPISp9AE0vY7TSZ0AXgHcvLlAJmBVCmB+AHjlaCy6/m6J7JXO0FuyQDg/agLenwSMHMlOugAAOERyHCcwhCmAQUGIr9KApqYUHrisKh+0AcCp7YPlk50XRQEkahZRKjUogEoASGCO+MiKATA6GjSsWREAM9LZy873AMDV3+CwuBztwyKZgNUBYKMdcAhwVA+AfO0xLQCQwHrDgbWYCbjnGfx6YSps8B4ZMxbAcJMzA0CjCZievUHOB7BQAGiQgOhsc7pkNK74FYFfyssB4GZMxwy4yACw33tsOWON/aNvYdQ+lurmmONtDN3BXr55ADS7dBRJmSXA9ehJ12o+DUzC3DUwW6cGAPnIDNHEFgNg1qt30K9pA3z+DFSqJANA+89YtbsiuJevWJUW8cIg/dy/4RucDqouAGBmJmiNeqVawFIATHdxR4lp+SuAc+pfwvrgbnIA+HrUKtTIDgcOHy7q8/R/un0xABYDYFEnnHoAFCWCFpuASab2e2jDagFrAYDxo6bDfL8rzS2F7t1VAuDkWlex9cWvygBIooVJ1LDKSiDj8LTFJOVamioUwNI68YjLs1DvA0jUisBAGpGW+jRcCQAnWhzDjjhpaTVSCk5bACTKEFEA1QHgzhSAPJQ1ACC/8KnyAUydMAtGO6VVCqR2UloJROwDSHwMiW+i1PEsHSVghHS1AJjx9jNca7hi3pPBTPmRNkUFUAAFUipMjQJYcAC8gdNJv8jMb+oAcMAAnDilq5UJOD8AvCxVAHNWOUN3sQIA7ksERo0qMACelAxi/olSAEywbkAzEykC4OSal7F1oB9M1i5SqwAWFACblI5AQJyKqgZkfpC5RtLVkNBcNSZgtQDIv8CRi1ABgNyduyyhuTYAmJvLfBZJk/oYKkUBFwAAnw9ZhawTp9EU/gxoxBUdPnwArK2pAjjTfzg2n2A+gB5/IwDaX+gH4mphMncSsG4dA0ADB0znNskDYEFMwCRfXlgYyuYDgC6YhulwlQHgoM/Y4lUxXwBclzEVgZe/4miPw/IAONsJZhvUBIH8jQBIooDPBNiAy8qmOSNJ6khSolQxDQyvAGa4uMFwWv4K4NQ61+Aa2lkAwIYIxMNDr2E4jCV8/y+1YgAsBsCiztcCA2ALPMADtGKJoJd+geMqzQpg/OgZMN/nohYAl5ZYj4Vfp8LQjMnxZLEUFMB8APD5z47YekdFGhgi4SUnw/dsIjr0NYMAgN+iICnHErLJ1QLOBwDnW3rCOcZB6Ov/JQDyC58cAHonovNAM6Q5zkbJ7SqigBudwIKAwex8FQCQVwCfzj6KJht+g6ICKLytkwezKgBMTGK16XjHPFIqrFUrlSZgTQCo0gewxGWcTu/Kzpvas9T4AA4ciBPeOloBYL4+gJoAcG8CM/uSxiuAxFz4M8tZWbNsEt6QIJC3Ecy3Ttq0BcDVPxzFwp7B3wcApSbgtmXDcSdKTSm4wgAgeTEiCnkhAXD1amDxYgUfwEIAoCYTMFXRd+6kSqESAH78CFSpogSAno13wN5fqgDeuSOY9QV65BVABR/AL5/yULGyDiIP3IbNCFklkEaDauHkScCz03HYX5e+LBLzLg+ARhMxPXu91gDo2XQn7J+IMgxoCYBCKThpHsBpKgDwuKMfhuyQBWsREzCN9F64kFlpiAJ4PQWtOpsgcY4TSq3XHgCrl01GRLQpHYfsV5HQq1lVpgCSl/n69bHM4TNW7qoITqGEorCmADQKWAyAJHMQKVGq5AN4OQmtu5WCtgB4sfNmdLs6QwDAGFjC8oQbMGhQUZ+l//PtiwGwGACLOukKBICNJQGYgc0YiYMqFcD5/V9i3ela4EQ+gAmjp8Fs3xbg4kWWI4yUdiMl3qQmYLfyyzH+y3LhOuQAkIAZ8Z1TVwu47URsva0CAEnelJQU+J5LQoc+pQoEgGn+4TTtCm8CPiL5Hd1qR8Ai/P53BUCqTLmnMhOyBgWwMAAo5wOoBgBfLDqAWk4jYSDJQjYMZF3Mm2sUAFBIA6MIgN9RAexjcgNnkllVDDEAOuq6o3reK8zmpLA7cCBOekuYyrZ3nwBpLrM/YsaflcEVIAiENwHnrloDncULhUNTE/CeeCHFDA4cYGqgFgB4QjKYwalUAUy0aUDLC/KNDPc9SWs0G1gNhjWrfFcADOy5GHcvxGMyt01+beAVwIKagPnKPWIAjIkBzWtDTMAkDcyksqAKIAnVJGq3yARM5m94uNT9lQ8C0QIAd6/5BvtF6k3A4iAQbQFQLghErADevStAvRIAKpiAv3zmULGSBBH7b6PqSAaAJA9g40G2DAC7n4b9xf6s74sAgEd+dMFvD6fL7gWSLy88HGUNExCdpd4EvA2TMBnb4dNtG7pfnAytALBPX5brURUAzl2NUuvUBIHwuVlEE7uBdTyefWByd87Lt9C1rQ58+QJUrMisOfXrYylvAi4AAJK4IVI8Rh0AZrq6wWCqZgWQDhZJGbVnD/ggkGIALCpC/LPbFweBFK3/1QNgO1f082WJkHkTsPgNTbUJWJoHMDML/o9y0PRnIySOmopS+7f+PQD480TVCqACAFrqxCE2rzQ4sQI4Zw/s1o9hoEGURvKgq1ULaQEv5ACQ/l0agcd3taAAunuwaFUeWBR9AIkJmPgAdu4sLH78VykAeqSx7TUAIP/me731MvxydwU91HWpApg+aTZKbCuYAki2f4KmaOY6kqqD2iqAhQHAtdO+YMEW7X0A+5jewBliAlYAQGr7ISTBvwgMGoQTXhIGWWIAnP8VM9aVLxAA8ibgPKc1kCxSAMDdcTLfRRUAWIMPAlFQAI9LhmAojgsAmFS1Aa0u0wE30Qr3sZqTPlBJmbnq1WHivFCtCXjsT2HYc18U1avOB1CqAFKfRXKuilHCZB4TmCEmYOIDSIIcRNHcwtcVQ675xO28CwcZGxEAeofWwcDxluDu3mMmYAKARDUk95Ri4wEwL0+mIEujjDvhGiJQDW84VlElPwAsbZiC+Cxp4AxR6dzccNeqH7joaPmKDnwAgrMzZj39HZu8rOn+tzX0xKRAqapPXmLasET0Qr8lJdH+oX0mCgL5+oVDhYoSvN1/B9VGyoJAeAD06H4GDhf7sX2Rfl6/XuoDqL0COFOyCcv6BMHszP4CAeDPkjvYj1GogbcaTcBKCiABQKIALlqkpAAmzVsN07XaA+CNBdcxc60VgtEwfwBUSJ+kSQHkAVApDcylJLTpXgpZW92hP1mzD6AYAPkgkFiURukT7sUKYNE44h/buhgAi9b18gBIvJgHDGBBIJ12oN81R40AKJiAjx2nNVPn9QnH+nN21HE34HEOmrRRAYChoaywuVQBdC+/DOO+MLDhn/uCCZiYnsjDRIUC6IFxiOw0Fmuut5D/Mzl5kjgvNVVQAAsFgNJawCoBcPs3DJpcTqg4IZy4IgASMCA+gOoA0DOdpitRAsDYOPBRA/zCJxcFXBAAJGlmSIJqPvkc39GurpoBkKTnIOk/pK0wAFhQE7ASAEp9AKnth5Dw3wGA0jQw3ConZqsUl4LbFSsrYacCAC1NMhCXWkLJBKwOAJ/hB/yAENlYaAGAk9o+w4479WVzPD8AJGlrDjKFXq7xAFizJvMB1BYA+bRNqgDw9m14h9XVHgD5aFsVAEhyJhLFVJfL1Q4ADZJl5lQpANJAAwJ84msXA2DQSGw6VpHuXy7PXgEA8PMnDpUqFxIASSLonFKy01PjA0jXnIEDQSVFfkKSdCkvXmhUAHmAIj3JJ4IWFEBRGhilIBBNADh/DUyd1QSB8Mn5+IlG+v3QIXiPOI2B8EbuyzfQsa2hXgEsAAAS0ZgUj1FUAO/4JKFtz1LI3uoGvclaKICDBwPHjyM8OAt1GhqgGACLBhD/9NbFAFi0ESgSAO5Y9AmT1lQCJwXA+QNfY513TQqAvAKYNHoqTPdtBS5dYjnCFAGwwnKM+6zGBJwPAA4/1hPPhjrhR+6RrBfI4kkSRqWlCQBYRicOMYoK4OzdsNswVl4BtLVFetBLyo/XxAAorcPJH8TbPQYDJ5QpOgDuygDs7bUCwBvtV6HjrSX0FHgFMGPybBhuVaEA1juMBc+lqU8KCoC8ueZvBsC1pqsxL4nVNhagy/QmziSxVBViE3BRADC/IJArx+LR9TcLqARAzxg2PqSpAMCqZZLxLtZUawAMRn1aIUKAcS0A8NCoaxhxoLMMGvr3B06fVgY8XgH83gDIR+2LATA2FjSztSIAEiAgLzsFUQD5NDNiiACwqwBBILwJWCUA8i4Na9ZgZtAobD5eET7ojs79TKF/6jg7agEA8OMHDlWsJVCsBZyvAmjsCMVKIOryAGoLgE0qfUXAZ1kUsBwAdtyEHjdmykzAY/wwag/z++MB8DgGIwUmGNMnTq0JOHnBGpisKSQAhr+CTm1bGQBKU2EJJmCNABiBMyQRtDQIhLwzkCnu23QW2j2RBr6RDD4XktCuVykoVWUiF6r4EkSeC4cOUZGDB8A4WMDihEexAlg0jvjHti4GwKJ1vXoTsBYK4I6lXzFpVXkZAA56g3VeNeQB8I9pMN27pXAASNJPEH8iNQqgA+dBEz5TU42YJEi+gPR0AQCtdGIRnWcpbwKetQt2G+0LBYBe7rEYNMFSMDUKwCJV1QQrGlEAiQm4UyclEzBNA7Mnm5kYFU3AIgWQf/NVpQCqBUBxEMj3BsCkZJZnkb9I4j/VurXmIBBRuTae7dZabsC8mDnyAFjqJs4kqgBA4vxDpFB+HgwejBMnoZUJWBUA6iIHORyrRXv5aDy6/a4GAD2imUJLGlHViHlV5APYsFI0gj9bgYuIZMmGpe2YZCh+wzFmAg4ORnLV+jRuRiUA1qgBkzUL1JqAsX07rS4jXHt+ADh8OHvIfS8FkPfZ5X14yTWKANArtC67F+79xUzA2gCg+Ny0BEBtgkConxkBPvH++RcaEQDScSH+yOSaSCOBTK1ZGqr8TMC5ORyW6zth+flm0O3ZTfABbDLYFidOAB49zsLBpy/bl9gEXFAAJEEJZIf8DVNQBfDXLehxZaoMAO3vYNQuFrzEAyDtB9L69FFrAi4KAOaFv4Skdi3g61egQgUhFZYAgAr5M+VNwFIAzM6h0h8ZUhI4fuPHBej40Fm41x5dS0SLX83AbdvOcqry/SUeS+Hbsg/FAKiiU/6DvyoGwKINmlIpOBINpa0JWAkAB7/FupMsdxOvACaPmQaTPSIADAsDiKLGm4A1KYDaAKDi9ZOTVweAUdGYUNYb7piAMDEAkgTNxNfJ1hYZwS+pgCinAJIkpiSdhLRpDYAEDIgJWAUAUjDZm82ckjUAIP/mqwoAM6fMhsEWZQVwaYPTWBEk9UNSB4AkCe3s2co+gPkpgN8JAJdZbMHyuKlCn5Jh66MOABX90gYPxsmTnFIQiOuCr5i+Vt4HUBUAlsU3fONYTWiNAOgeJfPx5AGQRIxK/cW+bD6GmJmrUT/ivBwAHpX8ht9xVADAJJv69B0lCA1oiTA5BVANANbCC7zgarNIaJJNmYea/EzA5O/e3qoBkAQcEZAg+9PWBMwr9qoA0M8PXmH1tAdA3gSsDQCuiYLDorJa5QEUFEAS/U+qU6gCwNWrMTN4NFUAKfj068cqqpB2/z5NZUQbv21yMot2V/ABFABDatHgg0BUAiAxtW/YwHwAKQCSKGBZwm/8+Sczx6uCdWk0riIAljOMR1SWBd1EMQ+gWAE803kb+lwVBYGMu4dRHgxyCwKAKYucYey0QHUiaD47M38Xk5PauRPejtepCVhI9PwdAfBuy9lofV+65pHhik9AYOkOaLzdgeVULQbAohHBf2zrYgAs2oDJA+Dx48DgwVoD4Ob53zBzXTmZAjgkAutOsOztPACmjJkK4z1bgcuXWY4wHgBv34ak7c9wLywASsbDIc9d+erJakuCBjIylBXAqGhEl62LsohG2ExP2P3pwBY2kpia+DqpA0BpCgb+YN4esczvSRptKiw6igpgfgC4L4dFsBYQAG+cSkSnAWbInDoHBq7KiaA3NDmK2U9/Y6dL1COiIin6AJKHz8yZ6gHw0SNWA1baBB/A7wSAGyzXYnYMK73Gr9l9St3CmUSWrFbOBKwIgEOG4MQJTr0C6LmLmm7JZooAeNlmPCq9/wv1uWf0MIIJ2Gk1c4IX+wC6fZMl+lYBgNi7lym4EREaATChSn2aBzAEdVEXYbKx6NuXvgypUgAFAHRzk8sVmV8lEI1BIIUBQP5+FQNgXByrVa0IgMQETF52RFVv5G5QVQDIJ5oWQwQxARcEAIkTcdcSAAAgAElEQVQyS8aHvKiRtC9ioOLhw8kJM5/9IQNAonqdOcOOWhgAlPaHIgC69ziHcT592H5FALjPeBJmZK+TBa6QvxfCB1BbALzc1QVdLk0XFMC94+7jDw9WblMlAJKXcmdnpSCQlMVrYbxqvvYAePgwvIefYgAY/oLmVhUUQD4K2OEzVpE0MArBUyqDQKQKIH9fvmk/FtVv7ZZNK75iCynXR3xB+S+SfxXBWjQZ5RTAIzuA36TrpdyE/Xf/UJwGpjgNTFFnqDwAHjtGgzkUFcDK+IAPXBXZIiC9ubYu/oapq0UAODQS646zAt4CAA4bD+PDHjIAJDkhSFTt/xAAy+rGICq3DLj8ALBmTWQ8e8UUwF6u6HRuGrtmBQA8ui0Wv0+xBCcFDWHRcXEBprHIadpFBACJCY3UUJUufvz6RMFECwDkTR9iBVATAJJKAKOHZMDimLR8lToAVKcA8hGe5KHYsqUwvyyN0hCXbgROEQClpdHINSuWghOCQFSYgE+Un4JBX7YK+2cKoBoAJFHdxLzIL+hDh+LocQlT2VRFAWsAQBqARFQt6b58DsWj5wgLcKoAcOdXpgCRRh4wxMQkUgALCoAvYQtbvC4aAKozAUtrAdPaxeqCQAoDgPz9yvvwkr74twEguS4PD5bwmVT+ED/4v30DypcHnJww6/kfNAiEKoC9egHnzrGxffCA5rJkN600eIZXAEmUvrvCiyaZrFKfSCUAnPIc47bWZ/sSmYAJAP6RuhUcdAoXBEIqZrx8CW0AsA3u4NwIL5Q+4CIA4C6Hh7D3bEFPSyUAkpc9EgRF1qrz5/HgRipadTJG6pK1MFqpBgD5LPX8XUz67sgReA/zZgAYGsbWeh7Cpb6hSwsJgLkSXeh278r6nm/fAwCPudHn3n+tFQNgMQAWdc4WCQBv7X+PjqOtBQVwav8P2Hq6CgPAx7lo2qYkUsfNgJGHC3DlCksR8b8AQBI1mpkpKIAqAXCGB+w2jZNXAGvWRObzV9SCrAkAj++IxdBJKhRAVQD4+rX6KOADecyvTIMCKPi+iIJAeADMmjYH+i7yCiCdEGSfJHExaeoAcO1aYN48ZQWQX1Clvn38BBMAMDkFtFQKT7mFAMBoiRXK1DCH5PUreQA0u4UzCSoUQOJzKDbtDR0KEndE/ez27ReqdbjwaWAKAIAXD8ejx3A1ALjji0xVIGWiiH+dKgCMjGT1ZqVtv2QURmO/YAImCvNNSUd0xC0ZZJD+I35etrYFUwBJIBW5l1SZDcneiUsBUSZV/Z3ADPHFWrFCexPwixfsBUgVAPr6wiv8B5kJ+H+oAMrlASRgTgCdjMG7d2oBUE4BFJtYVQEgX+WC+IASuBQ3MnbSvIjkIykF13hwLeqyR1hx3HjpG6ACAE7N2oCkbCPZ0Dg5AUuWqB4rxSjgAgAgPVXpefNRwLsnPMZYN6boKwEgWZfbt2d5AKUA+PBmKlr+YozUpetgtGKeagVQDQB6DTuFQfACFxLK3H14n1GS8qdJEywb9xkrPSsq+c7mpwDSv4t9N8nF8OsVSdXDv6wpWgxUPCVfPMuCXQMD0CCQYgWwqBzxj21fbAIuWtfLA+DRo8DQoVorgCQtAX04SE3Hc4a+x8bj1jRyi6aBaa0CAPmoQm0UQFKJgjiJqwoC0WQCVgDAcrrR/9femUDZVdRp/OsEEiKCIAkQFDmKIi4ojKiDM6AQNKOODKgjAYWoQGBEhTAaFSVEAnFYRBYRI6AoEWEIhigzGmR3REBBVlEWlX0PIrKkQ3hzfvfeel398t7r9+69ed2389U5OTTdt+pWfVW36qv/qodXTEokgI9t+DpN0mO67eD52vIb+w8mgJtsomV/un9IAvizsx7T+/aeuLIKuJEA/uXu1Alkp53qeTCZLvanxAnkLCmR2DQSwKVPKM4dxvPNbAALEUBSNBx66MoEEKIF4br8cumdA9kCyiSACQDZgRaWL79691uW6qLfZklz+UWWCSSJooyzT1gHe+yhs8/p00d1dmECeOGCv+oDe63XXAJ4ygMDdkVdEMCz+vZKgqUHJ5DExCAcSgw4qOMJSTFxol78raNXcgJpqQKeNi393hoJXvAC5rAliDeHeiNpgQDyvR5ySIrnuusOSKtD1JjGw7MZAQwx8i69VAtvf9MAAeQwhli1UgHjoIGkidAsoWBqQBDiULJxnfG1h7XvoQOBoDfR/bq/lqZxo4zpe2FAmhYIII44kPEYm0cekTbaSJo7V4fc8skBFXBMJK65ZkDaHeoORQCz3MhBAviW3V+TTMsgAtigAv5M/3F6avmEge412nfGH0MjASSbyT33dCQBbEYAbzruIr3pc+maWIkAcqnYYYfmBPDwY/SiObOaE8AQpT6eu7PPVp0A3nRzal4TsqpkZiWdEcDBTiDJK0okgLfd2K/Xb52FgTn7FKuAi/GIYattAlgM+sEE8Oyzkw+B7+zcnebrI5fsn/zcSgXcSAA/N+1eff3cTRMCmKiA/3mCntl/pibMjySAt9+e2oV0QgAhCUjQuiWAeI3299clgEMSQDKTQExf9jL1/+m+xIRwkASwIRB07d779PtXTNUbTps5ECYk0Zv/ODEur5+hbQhgogJeoFSq1AEB/PkO8zT1ijRQcQgDs3zmLK1x/DHpCogJRiwBzNJkrWQDeMQRifRhpUDQIbbXxRdLU7KgzJJaEsCMKLZVAUdq2npfmxDATPgwMJ7MTjEhw5CLiADedc61epNu0tNnLiwkAey/7xF9d9PZOuDITVe2Afzm/QOehV0QwB/07a3p+kFKALEtZX01I4ConV7zGq195Bf1jNauD49HWxLAPfeUuKg1EsBGT+nGfSG5dXw0Te/XDQEM32uw4aXdsEaWLNHCP78lJYBX/TqRumvHHVsTwGZ7Vcg00kAAG20AN9U9uqeWBnGmrDfuaT25PMMsEEDS8WGPGWMT8hY3EkAIMpJUSh4CGEkAyQTSCQF8ydteqz9d9hcdUjs+fS9xLpmLZtLaRgJIBpe77tJG4/+qR1pkAhm0xhokgLUfL9KxH7xKs3RsVxLAZ+YcowmHtyCAIUp9PHc/+pEW7nl+KgG85dY05mu4VGZpI+sEkP0xkpw39QJ+fkUa/6VkAvj7G/v1hq3H6a96iV7yw1MlvquKFauArQIuumQHE0AOuT33TL7Dxe85RbssObArAnjrWddr3t636Yf9H6kTwGf3P1hrzT9RuuiiVBXaDQEkNAObRrcEEFRqtToB3HjsI3poxYaqPfqYHp/0Wk3U44MlgEF1tPHG6r/7wYQAXvyBEzUl2AA2EMDE0Jwb+WmnDRBApBuo1/r6BhNADiQOxUAEMq72IS3Uwh/2p4dyBwTwsh2P0Lsund09AdxnnyT10UoE8PDDpTlzViaAYVMPKvtshbUkgJddlqiPyiCAmLfhwFrf7AMBxOEAu7OwDt73vlQlSTnzzEIEUEFChDoucgLZVYu06OT7UxU6JRDAWDUenEAaVMClEkBESqi2wti5MNCXPASQtcCB3A0BvOOO1HM4JoAhOvmFF2rhff+4MgGM7F2H3KA6JICv1R/0h9qW9ebWXfMZPfV8pk4Nl5x2BHDOHB106wyddN7klJjjrPKLX6TtxVLIgGtIc9bKBjAHAZz+kWcHq+fRGMyc2ZwANoaBIYPLnXfmJ4AXLNYJu16mmTphZQKIhoLLHuu/wQbwma8eqwmzP99cAtgpAQzewlkIpboNYB4CyLffzAawSxXwLb9brq3+YU39TetonQXfTvfhihUTQBPAokt2MAHEePxjH0sO8+t3m6ttfnxYVwSwHk+rv1/XXfO8tt1+gp49YKbW+vYJrQngJl/VjPsPr4+Dd9czgbAxQTBWNQHETgXHgPXXV/9DS1MCuMtJmrL4s+nG1wkBjGZikASwBQHcXefonB8pVT10QACv3GmOtr8kDZgdJIDPz/y8xh6f2QAGCRAPkLMWYkThgOGgCWrH0E8MvufO1Zpj0ph4dYhD3Jk48G8sAfz700py5YVBlkgAQ+KPOgEMKuANN5SQ5IROBinYqiaAX/9zSpaGIoDYneGAkJWuCOAWW2jtuV/oXAIYPF7zEEA8zknRxproVAXcTAIYDFMXLdL5j2yfesTHEsCSCeDFmqJX6s/avHZXHeMF252iP169VHNrh6VqeggAUjJMLmJsgv3ZnDn61I3769RFG6cEEMKDlDsvAcyhAp6++3MDlzHe20sC+NMLdfwHLtV/6viVCSDqXyI0NCGAzx5xrNY6rAUBDBeBMCvgHksAb74llX4HopjtFSOBAD79RL/+6aW/13V6i8ae9f1UE1OxYgLYOwK4lyQSDb5O0gsSwbxE3qirojVDuvdTJL0/ewZXJcQHT0bPfFjSXEmcFn/J2lg0DG2EVw4mgCefnEg8nu2boAm7vTdRaXakAiZUBZ54wZi6v1+/vfp5vXWHCer/+AyteeZpacgFQi+EA+Wii9T3nndr/tj/0IznM4/VTDo2XWfqzNrH08whTQze6dN3tJ/2q5228icb2TBd/pO/acd/W1eT+x7Ug7XJgyWAB31bW55wQEpkQvwwScv7a0niiYt3OEJTrpid/p14YByYoQQJIGETvjgQyiT8uSkBjLIj8PdkjOdMSGwuhyKAC/s+rA9u95DGXPV/ySvqBHDXD2vsooXpaxkDdkuUmAAS8w0i1UgAv/Qlad68lW3AqE8H8ZDEUzIrdQlgIwG89NJEwtlWAnjscWlIjBggvFaJct2q0GCQyuHFiTdnONi5rWOuQCGUBmPkPA1OIEfNS+yZaKIxDExilE5ok9BWkACyflnH2fATCeDRd0izZqXvCRLASy5JbTopLSSAg5xAwrw3UwEz96iAmxDAjZWu2aRPhLcI/YXE4eDTygaw8fcx5pBHsut0QwC5wECsMvOGQXN43nk65+EdtcenN1DtiislLg9IuwntsvXWrec2/ksHEsD64/HYuDgRtYDfBQKIlIy4m/FzwWN5n3100N/mDkgA6SdrlxKCXfNzowQwfi7GsgUBTLbCAzLLpCztGFN/pqZr+r7jpNNPH3gHYaMOPri5BBD7W8wrwoLM+taxCpgQQ4sW1b2AawvP180fnqP36X913L5/1LTTd06JMIUYiEjWuBTy869+VfcCfvYzs7TWScc0lwAORQCDDWC4VCJx3XlnFSKAWUDs+poITiDz5knsaQ14tVyEsf0iWX6wxa5YMQHsHQEkwNCdGeF7LiN2EDl0Eg9k6wbCt6ZIUJD2izxDnMhZWHhh6cwXTcChnxJ/XRJWYGQhv76HbcTLfDABDB5v7FjZxteWAAY1SbA5C6qU/n5de91YvX27MVrxmYM15uQTpczmrG4/dMIJ6jv4IM3XDM0go0dW6uQIArjLLklIgqYSwE4I4CUrtOPOYzVZD+hBbaLaPfdq6SverA20VLfFBDBCJBDAX2x1iHa+6fh048MGhc0ulLB5cGtGNdZQ6gTw+t8ldoWJEXpEqA7o+7b213xts+BzzW0AH3o4rRODwv8TTgECuGSF3v0vY7VizbU0pp/lqNRxA1sbCiQBckKBwBDypZEAEiD6pJM0tm+FXtDYwRAzgCwkUOjCBuss09K/j1et0Qs4I0RNCeCcZTr0q+NVe/+/pl6T8Xj4uRVZ4W80iEQCEgiGcYaHcODzXGQ4+F9H9OtLh49Tbacp0iWXNCeAqP7oc3h3OMQwA0CVGxPAr1yfSEmTgi0qdovkVQ4ZBwJ5wVEJYpWVM/s+rk/ozPSADfPejABCYvbeW2u/d/uVJICv1626tfaG1KsgVgETd7CZly8mCY0x8OJ1yfs55LA7BDOI0frrJz4ZTzyRDq8++Hhugvpu9uzUeziew+9/X/+9xp7a/aNrqHb6GemFgXUaLnvx+1v9HMKthL9n83L6t/q134HjBkhK43rhksPBzfMhnh55jhtthkMqnc0201c+dJuOOn5C2iYEFaJKCZfS+B1BytlsnUYXJH6cpEc0ZdqGySdDyM1PzcouY5njRp0A7j8hnc+w9toRwLh/0aV247We0MPLskDQr3hMN9w7URP1qB6tTRpsZ0qw8l/+Ugft/6xO+s4E1bgUZSYO505bpGnn7DqALVJhPIBZGwTfv+46XX3VC9run8boue121PirLmtOAGOMAk633KKFW81JbQBvvEkiyH74qDJP8tkzn9LcE9ZR7YYbU4l0vKayn3d72/264NpNVGu0AWycjzC/XKawjQ3vajZv8RqM+86FijOsYsUEsHcEsNnSeIKjVtLiSKLHar8le5ifb8j+dp+k70oiZ9mHosYIRf84TvuSiCPxZ0mruo14LIMJ4Gc/K7EpseFkN8hBBJDNHYlJ/HHxQJCekD/2bW9LgjD/ffl47bLOpbrkqGvU9+VDE2nToBvaiSeq76DPav64T2vGsm8O2gPqEkA2JGIrNFMBtyOASMOeeiq5QMNjJ6/5qB5cPkm1O+/S0le/NSWAn/+utjzmk4M3zc020/N3/kVoU3+x3WztfNUR6d+xLUK1FBd+HxtqR3+r79fXXJviwS/iQzFINjmsMHyDSER+HBDVxMYw3hijAwHNFeaUK9YYrzHLl6VPhfh2/BwTQG7FhHwBQ5xvOOwobPhHHTXYmzJ+H7hjh5SVDdZboaVPjlUteCiHQWbOIk0J4NfS19Sm7TGwOdMeKmRINd6krQoNzpkjYavYKLVD3Rei/kcbfz2xwq67JdKPphLAo49OpbbxmuJB5glngJgAfuGaFLsYlzjgbCCP1KN+Vr438fP65OPHpgdsmHcSTOM8QQlkHFX2/Plae52+lQjgG3Wzbq5tlYYg4fsK/eWSFkuRwksPOigh9C1JdSCAkDgkelwmNtoo0c5RWPP1wYc+xuMOF7j4dwsW6Nw1PpoKsSGA2BjyHnIVs390WhrJMYGgT08jmSQYYltLhpp4zpC+J4urlgSkTsKYsL7xWm68WGTz++zl1+jWF22rbXVdms2FkD4UiD/feLNxc/mAWMelgQBin7jNtC0TApjcDy7/d2nhQmnbbaXf/CaBJJEAfurFabia0D/mi3lr1t9YRR2t/43W+qseWbZeUmWbVz+lG+5aZ4AAomEJsQ2zi1F9WXw9yyiDZGKvCzXtrPcPEEBUwBBTTF223z5x0AvKnOfe/k6Nv/qKVEWMHXezvgZs+Nvy5Vo4bo+UAMYEL8Js9pdXaO68sar99rrUKSkUAnlnHuK7vfNxXXDFS1WLAkEnQJLuL/Yipy6/z6StSVOMAVvddhfMUI//RnbEnS7ZkfCcCeDwEUCkeeweW2Sq3F3wrpf0ooaFgXgGtS/iD6R8SAWPjp5BZg0h3DaTCHKFWdVtxF1MCeDixVqX+HxICNhskbphu/HKV6Yq4A2e1b2PTUjJA9IOTgtSTlGw2idgMBsltzGkTV/I4kahNiPcAjc//vvSLMQHN/dddlHf+utp/qy7NOPozet94n17T31Y3//5RqnUBycQiFZUeOY7B96o/b4Z3R7D37NDnNASgQBustHzeuDhNVRb8YKeWHylXvrBd+m2a/6mLd+2bmoATuA/VLwvfrGe32qbZHgX/+ABTdlrkzT3KyrgRpUWGy232ygHbOhCnQCGzQtnEWxMiDBNYQOD9KF2aRgX/0s/k8SXoSCxQg0KyUMCmBHAF26+VX1vTH+XxFckCC4kAzXOpEnp7xkXGzdkDk9nbOk4/JGETZqkXy96SEtveUDvP+wfBt7H6Qs5gbRkZYMNalq6tE+1F2rphotTC4cZZgNrrJGqgLd8WFfcNiC5rJ/RjcbeYI5aKAo0PQgI/gcVL56aEyemKlvs7CDOFKRGHLCsJyRvmf1dnQBmGQYSArj9vfrhlRGZRmXE+o5VPgDK+uUADARw85u16OrJ6ftDQVIAsYlzT4MBjgJrpLmFKd879jF9clYWJijMO+sS9SQhbZh31g/jnzRJa49frmeWj6ufVxefeoc2f/kyvfIDb0znE/VrMFInUDeHWyPBQkXOgm8V0Da8j/GEoNYx8Qqdp5/MO+E7QmEuIAA444RyxhmJ+cLVN6+dxFCuBwhvXOsrTWyTX+CkhOSJuYHISaL5ffeVasd9Pd1rGBsXm1AQWyJVZh5hsaxZ+giZCyr68CyqR8gF8wshB0PWVrDbhCiwZyHBhDyE8qtfpd8sfYsL64DvY801UxPhVzytN79j7YQAJn5h77kn3QdR3b/+9SkBPOQmTf/i5PTjDVkn0KDQn0YPVPZLpJlInCmoqPlmp0zRRpNW6JHHUon9Nlu/oBtuHKOJ6y7To0+OT8eO/SV7B6TxVa9K+GVyL+DiRpyaceN0rnbXtH3WVu3a36RBw7n4cymANMJgX/WqOgFcdvvdGveazdILMHbSPBMXpG7sg/QRElar6bz9LtJHzpg6eB/j0ob0evx4zT6sprlH9g2W7tEm5hIIGO6+W7v9zz66YPGYgf2GvzMf7NUxaeT3rAPINnskBcclLtecOe0K64J1RSxG2q1YMQEsTgDRk03nzM3Uto1LAJVtZvBT/xOnyZWSfiApeC9gQYo1/uSGBtDZYUWOwRJKFp6Jw8qTZoC/QyR71UbcxZQAPvmk1oXkNCkJAXz5oFS4pX0mtJ3EzZox0GRCAKM4xq36hGAECUG7Am+C53C2w7nYNDk34A1wCkKiNZYg1GmIgtLVmOsEMMRW67B2p/XqBPCFwQLMDl+T67FGR9zGRhICuEMqjAklFtLkemmXlTCBhOeE8zUhgHum5nvdFOplAvBuqtWfDaaBQwkgQoUgHOz0+VydWoWViP6C41SZpS4B7PIbKrMPnbR1zDGp8Jd9DALYzPwxIYADzuqdNNvymdgclrsPnAlOz72uWYHbcUeL1xY8MDI9blovSACZW2yiuynnnVfngk2rYU2AZUW79U6qZrhxVb+JbvDK+6wJYHECiIijHfVHQfJUNEGvlnRRJsnLLE6Tv7aTACIqwz5wKAngqm4jSCLj9ZYQwAMPPFDjsq986tSp4l8oqxsBDCYlw0EAEd4guOMS3q4EAtjLzbEKBLARs+EigAi00IZ2Oj9VJ4B5D7B29apCAMMYYp+UZuuwqgQQc+e6eUCHE20C2CFQOR5bsmSJ+Efp7+/XKRidpqZlbexpcryoIlV6GQga2zws/jme5zXgg1cv9nvoJIMNID9D+rDtCzaAEK5YnxnbAPaqjZUI4EiTAKLxQcPXqiQq4A4kgIEoxRLA4DTWSgI4nASw02+O7x9taKcEo9N22z2XhwBi9ondeS/7GY9huAhgXX3ZofTKBHDllVc1AtgqPjcja6bpyPtNliEBRFIZRZ9q2hW0rZhJrgoCiFkvJqWWAOZdBWk9SwCLSwA7nYF3ZJ67uMGd1KISnr2YUhNREmKKPR9umbtlz2M3SDJQvICRCOIFjBoZo5PgBdyLNromgDiYtrPX7xTEZjfjZipgTEU4RNsRwMZ6zZ7FVIw4vkR7CA6SgQBizpKZfA2qWgUCiEkfQtpeEivU5qjPW72zmQp4dSWAmMxF8b2H/DxMAEc/AcxCrA65FoZ6oNcEkP0wNkceqn/83RLATlAq/owJYO8IIAGjdpD0TGQryP0eSWBwEyQOINJBrGT5G2SOOICxaBZ18JGZVJCYE+T2uiBaCr1qI7yyIxvAKEJG8VUbtdDKBhD1GRKAdgQwjsYxVKfiCBlDEcAQsmo4VMBDjSP8fTgkgHkIYK9tAJtdMIbDBpBDEwkKNpGdlE5tPztpa7Q8M9okgAsWlJNsIiaA+KXhS9bOBjBOBBTWRic2gPgZ4Q/DftjMV6jdOiOAAOYsrS6LndgAYoO7eHFvL7lV+3ZMAHtHAKu2Njrtb0cEsFkUlE5f0O45NpYQQzo8h8ca0QziFJHNDnYkhEgKOynNCGArFXAVCGCIttNLCSBSAN7XjQRwdSWAnazJ+BkcKFC19XI+u+1jr58fbQQwy4JWGMZuCSAaEMzEunUCwWEdR+Q8a9IEsPA0d9SACaAJYEcLpc1DQxJAwobhdd/o/V/0xdSHAGbJR7pqjnp4WsZRIdo1EMJLsZkNJQHkGcjOSJYAMlaiQoSoB12Bl/NhopcQUaYdAcQrkShBoZgAdgY2/ldEMslz2Hb2huo91a0d5XCPsJ0NIKYomNGUUbolgMQsj0MP0odOJIBF+hqS5hSRABIGEdMdfxOtZ8IE0ASwyHdK3SEJYNEXtKsPketGkhfaQv37iU+k8YQ7KaORAHYy7jKfIfQddqDtCCDh1wi9E8rqagPYLe5k/SL8Hkk3XFIEqiYBbJG0qPTpJFwdoVn4DjtRAXOBJ556/N124gRSpOOEBoQQt9oryApJzM525K5XeBYZ53DXNQE0ASy6BoedAHYjycs7WBPAvMgN1CO29K9/3Z4AxskLqFllAsgBhA1SLwoHOvEnO73Q9KJPw/2OqhFA4uohWVvVEqsNN0xj/vEeYjeTqrmdDSCmBcRQDzGlmddVTQCHcoIiMgB7QzusiMlNfOdVjedwr/Mi7zcBNAEssn6oO6wE8O1vTz3GQkD+ooNpVb8bAkgbSCZHugp4VWHVql3SDENU4mQQ8bNgRtreLN1o8qdOjL1X5TiKhIEhUUQWbmtVdtFtt0AAuzXs16pCAFpkrSx9fokTSiITcCGNLok/2hHAZh3AI5lg+6sK26EIJhn8MA9p9/52cRVLB7WiDZoAmgAWXbrDSgCLdr7T+tjfQGBiG8BWTiBlEECyWS1dmm7Oq3OBEJJlaVUdNENhCwHEoYiMAt0U6g0Vi7Kb9vxs9wgQ5umAA4Zv7XTb414RwDgtNhnYyMiIDSmXs07LUBK6Tttp9RxSR6TnUSrxQY+yJ7A3tNsXsNUmmxsZ3lyaI2ACaAJY9NtYLQgg+cNDLvmhnEDKIIBhY+s2fELRyRxp9Un3hBRwOAkgqWJJPd1NYd44vPBmdBkeBIgOQCrd4Vo73Y6aNLhoM1Z1f0mVizMWKpupbyIAABB/SURBVF3StZOCF8cQ9rdOy1BOGp22k/c5nGIuuyxJB+9SAAETQBPAAssnqbpaEMDJk1OvWTbnkAuYjZPbdLMCAUD9hxrQJT8CzQzQ87fWfU3mcfr0NA9rNwVbxlmz0mDbLsODAKSduVvVhKqs0XFhIHtRL/t74onSwQdL7G8PPND5SFa1CrjznvjJIgiYAJoAFlk/qw0BjEMnPP54ajPzxz9KW2zRmgByQ0WV65IfAbyGf/rTcgLg5ukFBPDUU1NVoku1ECCY9rXXStttV41+n3aaNGNGbwkgyLDGSQv5s591jhNaEJwwjjmm8zp+cuQhYAJoAlh0Va4WEkBu5+efn0a1x4AaQ+rbbx/sGRcDyaZ6+eUS4TlcjIARMAIjFQHIHKFh+OeyeiFgAmgCWHTFrxYEkBAbSBTIuEAIBUIp3HFHGum+WYEAXnFF56m8ik6C6xsBI2AEjIAR6AYBE0ATwG7WS7NnVwsCGA8cKeARR6TeqWPHNoeP2ISESWj196Kgu74RMAJGwAgYgSIImACaABZZP9Rd7QhgUcBc3wgYASNgBIzAcCNgAmgCWHQNmgAWRdD1jYARMAJGwAj0GAETQBPAokvOBLAogq5vBIyAETACRqDHCJgAmgAWXXImgEURdH0jYASMgBEwAj1GwATQBLDokjMBLIqg6xsBI2AEjIAR6DECJoAmgEWXnAlgUQRd3wgYASNgBIxAjxEwATQBLLrkTACLIuj6RsAIGAEjYAR6jIAJoAlg0SVnAlgUQdc3AkbACBgBI9BjBEwATQCLLjkTwKIIur4RMAJGwAgYgR4jYAJoAlh0yZkAFkXQ9Y2AETACRsAI9BgBE0ATwKJLzgSwKIKubwSMgBEwAkagxwiYAJoAFl1yJoBFEXR9I2AEjIARMAI9RsAE0ASw6JIzASyKoOsbASNgBIyAEegxAiaAJoBFl5wJYFEEXd8IGAEjYASMQI8RMAE0ASy65EwAiyLo+kbACBgBI2AEeoyACaAJYNElZwJYFEHXNwJGwAgYASPQYwRMAE0Aiy45E8CiCLq+ETACRsAIGIEeI2ACaAJYdMmZABZF0PWNgBEwAkbACPQYARNAE8CiS84EsCiCrm8EjIARMAJGoMcImACaABZdciaARRF0fSNgBIyAETACPUbABNAEsOiSMwEsiqDrGwEjYASMgBHoMQImgCaARZecCWBRBF3fCBgBI2AEjECPETABHB4CeJCkb0g6UtLsaM7Xk3SKpPdLekHS/0j6tKQno2c+LGmupFdI+oukr0haNAxthFeaAPb4o/XrjIARMAJGwAgURcAEsPcE8LWS/lfSU5J+0kAAIXxrStpdab/OlfS0pF2ziX67pMsl7SHpp5L+TdICSf8s6frsmV60Ea+7UU0AlyxZoqlTpxb9zkZkfY9tRE7LkJ0azfPG4Efz+Dy2IZf3iHxgtM6bCWBvCeAYSVdJmidppqRfRgQwSPTeJOmW7Cvg5xsyad99kr4r6SWSPhR9JT+W9Lik/SRtJunPklZ1G6sNATzkkEN0/PHHj8hNqWinPLaiCA5P/dE8byA6msfnsQ3PN1P0raN13kwAe0sAUdciAdxL0mUNBHAXSedIelHDYn1OEmrfCzMpH1LBo6NnvpQRwm0zieCPetCGCWDRHWUE1B+tm5pJxAhYXAW64HVZALxhrOp5G0bwc77aBLA4AfyepOmSapnatnEqUNnuJGlrSRdk//1rEwL4MUnHSprc0MBDXIolnS3pzuyZ+dEzB2R/30JSr9pYiQDee++9WnddtMGjqxx66KGaNw+B7egrHls153Q0zxszMprH57H5mxtJCEAAN910U7qEZvFvI6lvveoLtnZFChK7tdo0sFzSs5Kuk3R4RgJ5vBsJICpfbPuw82snAWwnRSyjjSCJjIf7Mkmop12MgBEwAkbACBiB6iHwckn3V6/bxXtclAB20gNs8/6U2eqF98G4IYf8fqvMzg/7vTdHNoD8DOmjfrABRMwGEQsltgHEjrAXbcRjZjybZE4tnWDhZ4yAETACRsAIGIGRgcA6kh7ItJgjo0c97EUvCCDvaFTtLpR0jaT/kvRwNl48e/EC/mimTsae7++Sdsv+jhcwkkO8gJEI4gX8A0nbR17AvWijh9PjVxkBI2AEjIARMAJGoHwEekEAm/X6Ukn/1yQO4Dcl/WvGxiFzxAGMdfOocokfiFSQOICHRmpl3kMswV60Uf5MuEUjYASMgBEwAkbACPQIgeEigD0anl9jBIyAETACRsAIGAEj0IiACWCxNfFVSftKwjYRR5cDJd1arMlCtQmiTR+wn3xxplInq0ooxEg8WdJbJOGNfZokxhCXocZURht5Bvm1LEsM0l9MA66QNKvBCaeMvpXRRrfjIyPO3pImSurP1tIXJd04SuYuxoPMPZhv7CwJTQClDMzLaKPbecOx7TBJz2RmK0RDQHOBGUuVxxXjsF2mdXmrpBXZ/kbw/aqPj3iz2I2HMlbShMzkaHGF12QYz4aSTsiicIyTdJskwqZdOQrmDk0f4eDIGsbZ+2tJn5X0x1Ewtm73oELPmwDmh+/zmYr6vZLuyrycOcQJScOBMBzl3ZJemsVCPL2BAEIIb88Cah+R9fNnko6TdGLW2aHGVEYbeXE5ShK2ozdn4ztV0uslbZM1WEbfymgjz/heI+mRLO3hGtlmBrnFdhZSUUa/ymgjz9jiOnwfe0pinfIPAlhGv8poI8/YIIBTJO3QpHIZfSqjjTzjCnUgf2RuwhSHbw/HPS6Pv6n4vDXD5DMZmccjFMJU5b2S8Z2fXSixoX8iS74wJyO9z1d8fBB05oi9hGxhkEHMw4gzDJGv+twV+Wa7qmsC2BVcgx7Gg5k0GdgcUlh4eBMRt/CH+ZstpeY7s8MVp5ogASReIx8KXsvhd9ya2PggIJShxlRGG6UMMJNy4iUO4SVfdBl9K6ONouMbL+k/JH1dErd4Mt2U0a8y2igyNg5W7H6RHt0TSQDL6FcZbeQZWzsCWEafymgjz7hCHaRFOOtxMWwsZfStjDaKjC+u+/vMnhy78jL6VUYbRcZGFq0zMo0P7aydRavAmfJ1ko6p6FlA6Dn8At4h6doMIPZMtEJcMDnzqjq2IvOdq64JYC7YErEzKlRuyGyQoSzJJFSfy9dsabWaEUDIKh8+EstQ6D+HMmF5SNU31JjKaKOsQSIhIxD4q7IGy+hbGW3kHd/7sosDcwFB/0Z08JbRrzLayDs26vFt/Hd2KDG+oAIuo19ltJFnbBBAvnUk/vwj1eWXMwe1MvpURht5xkUd1KHkbOci8i5Jm2dhtjDFIPxWGX0ro42844vrkayA9ckYuZyU0a8y2igyNqJlkCIVKRmXSAQTn8xU28xhVc8CCCDrEgIYzt6wVtkzEcRUdWxF5jtXXRPAXLAJaQYbBQst2B3QEunsuJ3MyNdsabWaEUBUwtwC2RhC2TKz6SEcOgRwqDGV0UYZg4Q8YEv2QUm/yBoso29ltFF0fNi3ID0g9iVqHEoZ/Sqjjbxj+1Rm9zc1ayAmgGX0q4w28owNEwQOo3szdT3ZjJCwYIN7UsW/N4LcMy7CdGFrhUQJ2032OPYXbJ9Hy35yXpbQ4AOj5HtjGNg3flvSv0hC5bs0s2/EXq6M76WMNvJ8c+EyyX9JK4sKmHByaE2QeEIAR8u6zItPx/VMADuGatCDlgAOwNGtFDEf4gO1CBN0VkaSfhI1VsaNu4w2io6P+nyX2O0Q4xKbxzL6VUYbecaGhBYpM8QIQkEZLRLARjywS8IcASKBRLfKkoiwx3G4ohYN5eeSficJtVuVxxfGg53t3ZLIJMXYKGV8K2W0ked7C/sHqVNJxYrkj0sK+yZxc7FX/XjF5w5nOS5bCAIQXODM+O+ZCh9p4GhYl3nnvqt6JoBdwTXo4Wb2cg9mxrYj0QYQ+4hG24iDMgPvdjaAjOngLB9zkTZmlmAbiXclNpd87Bc3TF2Rvo2U8YUh4QgCkeCGi7qtymNDmkn+biTjYb/ZIBsfqR1Rm4Y84ME2tWrrMsxbIICQCYhF1b+3OyQhHWtGAPEqrfr4mDccI8gj/+poP6ny98YwsIt+LHOQiyMJEKkCCS5S3dEwd2HKJmUkHpKLdm40jS0/Q+mgpglgByC1eATbH7zjUI9ABgnlwUaCJ9JweQFzG8IIFhUNHr6kuSF0A6FFEIujrv6uJDxqIX1kVMHGJ3gBDzUmvBKLtpEXcbDGexnpyq+aNFJG38poI8/4cMZhY8YTmM2M+SHlITdZNusy+lVGG3nGRq5wDqS4oN4mZBHqe9RTRdfUcI2NiwiezNhYbZQRWZxcSG/J3lrVcYW5Yl0Sjgi74Zuyb491ihTpD6NgfKgLkf4RLoVoCKGUsZ7KaCPP9xbqEOaGy9V/Zg4SnFOQeSTTeHFXeW0SaQMNyaMZcf+WpOcyKW4ZuJfRRpG561ldE8BiUHN73D8jWr8dAXEAkbZ8L8pryPwSRmTHLP7TGyXxsRDKAQkToVTmNkAw1JjKaCMP6kiHCEOxLKscxsbhFAhhGX0ro41ux0fsuG0zooekjA0asouXcyhl9KuMNrodW7PnuZSEMDD8vYx+ldFGt2MjHMU/ZpcrDiS8ZokLyIWwyuOKcfhCtq/hnIREkP3hwlEyPmyIF2RSI2zk4lLGeiqjjW7XZHgehxZILc4SqOsxv4DoYidX9bX5iWx/XD+7fJ2dhWFD0FH1seWd71z1TABzweZKRsAIGAEjYASMgBGoLgImgNWdO/fcCBgBI2AEjIARMAK5EDABzAWbKxkBI2AEjIARMAJGoLoImABWd+7ccyNgBIyAETACRsAI5ELABDAXbK5kBIyAETACRsAIGIHqImACWN25c8+NgBEwAkbACBgBI5ALARPAXLC5khEwAkbACBgBI2AEqouACWB15849NwJGwAgYASNgBIxALgRMAHPB5kpGwAgYASNgBIyAEaguAiaA1Z0799wIGAEjYASMgBEwArkQMAHMBZsrGQEjYASMgBEwAkagugiYAFZ37txzI2AEjIARMAJGwAjkQsAEMBdsrmQEjIARMAJGwAgYgeoiYAJY3blzz42AETACRsAIGAEjkAsBE8BcsLmSETACRsAIGAEjYASqi4AJYHXnzj03AkbACBgBI2AEjEAuBEwAc8HmSkbACBgBI2AEjIARqC4CJoDVnTv33AgYASNgBIyAETACuRAwAcwFmysZASNgBIyAETACRqC6CJgAVnfu3HMjYASMgBEwAkbACORCwAQwF2yuZASMgBEwAkbACBiB6iJgAljduXPPjYARMAJGwAgYASOQCwETwFywuZIRMAJGwAgYASNgBKqLgAlgdefOPTcCRsAIGAEjYASMQC4ETABzweZKRsAIGAEjYASMgBGoLgImgNWdO/fcCBgBI2AEjIARMAK5EDABzAWbKxkBI2AEjIARMAJGoLoImABWd+7ccyNgBIyAETACRsAI5ELABDAXbK5kBIyAETACRsAIGIHqImACWN25c8+NgBEwAkbACBgBI5ALARPAXLC5khEwAkbACBgBI2AEqouACWB15849NwJGwAgYASNgBIxALgRMAHPB5kpGwAgYASNgBIyAEaguAiaA1Z0799wIGAEjYASMgBEwArkQ+H8O0mhg6M82rQAAAABJRU5ErkJggg==\">"
      ],
      "text/plain": [
       "<IPython.core.display.HTML object>"
      ]
     },
     "metadata": {},
     "output_type": "display_data"
    },
    {
     "name": "stdout",
     "output_type": "stream",
     "text": [
      "16386\n",
      "32770\n",
      "49154\n",
      "65538\n",
      "81922\n"
     ]
    },
    {
     "data": {
      "text/plain": [
       "[<matplotlib.lines.Line2D at 0x10b0a8d0>]"
      ]
     },
     "execution_count": 130,
     "metadata": {},
     "output_type": "execute_result"
    }
   ],
   "source": [
    "%matplotlib notebook\n",
    "channel=1\n",
    "abstime = 2\n",
    "#for p in enet.packets:\n",
    "p=enet.packets[1]\n",
    "if p.payload_type == sim.PayloadType.tick:\n",
    "    abstime = p.events['timestamp'][0]\n",
    "    print(abstime)\n",
    "elif p.payload_type == sim.PayloadType.area:\n",
    "    e = p.events\n",
    "    times = np.cumsum(e['time'])+abstime\n",
    "    chan_mask = np.bitwise_and(e['flags'][:, 0], 0x07) == channel\n",
    "    plt.stem(times[chan_mask],e['area'][chan_mask],basefmt=':')\n",
    "    abstime = times[-1]\n",
    "        \n",
    "s=data.slice((0,times[chan_mask][-1]))\n",
    "plt.step(np.arange(s.bounds[0],s.bounds[1]),np.int32(s.trace[channel]['filtered'])*1000,'r')\n",
    "plt.step(np.arange(s.bounds[0],s.bounds[1]),np.int32(s.trace[channel]['slope'])*100,'b')\n"
   ]
  },
  {
   "cell_type": "code",
   "execution_count": 27,
   "metadata": {
    "collapsed": false
   },
   "outputs": [
    {
     "data": {
      "text/plain": [
       "array([ 186785,  156168,   44438,  638364,    2447,   83167,  342395,\n",
       "        945920,  393592,  434179,  118885,  890854,  280071,  104289,\n",
       "        106702,  156381,  812927,  220881, 1110323,  314581,  287620,\n",
       "        555757, 1274229,  478560,  154884,  347451,  822668,  299471,\n",
       "         79341,  770670,  364239,  246003,    7669,  602890,  351819,\n",
       "        322509,  570318,  116869,  633833, 1163279,  747100,  118891,\n",
       "        110590,  479312,  234304,   36317,  163876,   34173,   62222,\n",
       "        546441,  597641,  332824,   51737,  467994,    7965,  376991,\n",
       "        249243,  418838, 1295331,  568441,  193991,  642708,  268514,\n",
       "         25757,  624603,  325763,  916097,  818014,  544652,  477634,\n",
       "       1011104,  780373,  211055,   42507,   10634,   46401,   28881,\n",
       "        336464,   82629,  924529,  836589,  428653,  144612,  884066,\n",
       "        726067,  272664,   11244,  972121,  975716,   33078,  756545,\n",
       "         57165,  232025,  144068,  736998,  929110,  717672,  852828,\n",
       "         33491,  291581,   92643,   43345,  109994,  595997,  770785,\n",
       "        409810,   98658,  160407,  429398,  374308,  421041,  561085,\n",
       "        169080,  291491,  345130,  221613,  895502,   62494,  306531,\n",
       "        633025,  171887,  546955,  336690,  394254,  826531,  524970,\n",
       "         21228,   32874,  629707,  464836,  164193,  438134,  447313,\n",
       "        262875,  130412,  711707,   83765,  625464,   86911,  112537,\n",
       "        331196,   24418,   59434,   89849,  550604,   68675,  159199], dtype=uint32)"
      ]
     },
     "execution_count": 27,
     "metadata": {},
     "output_type": "execute_result"
    }
   ],
   "source": [
    "areas=np.zeros(len(pos_xings)-1,np.uint32)\n",
    "for i in range(len(pos_xings)-1):\n",
    "    areas[i] = sum(data.trace[0]['filtered'][pos_xings[i]+1:neg_xings[i]+1])\n",
    "areas"
   ]
  },
  {
   "cell_type": "code",
   "execution_count": 32,
   "metadata": {
    "collapsed": false
   },
   "outputs": [
    {
     "data": {
      "text/plain": [
       "array([ 186797,  156181,   44448,  638376,    2453,   83172,  342406,\n",
       "        945941,  393604,  434191,  118893,  890869,  280080,  104295,\n",
       "        106713,  156391,  812937,  220891, 1110337,  314593,  287628,\n",
       "        555769, 1274245,  478570], dtype=uint32)"
      ]
     },
     "execution_count": 32,
     "metadata": {},
     "output_type": "execute_result"
    }
   ],
   "source": [
    "chan_mask = np.bitwise_and(e['flags'][:, 0], 0x07) == 0\n",
    "enet.packets[1].events['area'][chan_mask]"
   ]
  },
  {
   "cell_type": "code",
   "execution_count": 30,
   "metadata": {
    "collapsed": false,
    "scrolled": false
   },
   "outputs": [
    {
     "data": {
      "application/javascript": [
       "/* Put everything inside the global mpl namespace */\n",
       "window.mpl = {};\n",
       "\n",
       "mpl.get_websocket_type = function() {\n",
       "    if (typeof(WebSocket) !== 'undefined') {\n",
       "        return WebSocket;\n",
       "    } else if (typeof(MozWebSocket) !== 'undefined') {\n",
       "        return MozWebSocket;\n",
       "    } else {\n",
       "        alert('Your browser does not have WebSocket support.' +\n",
       "              'Please try Chrome, Safari or Firefox ≥ 6. ' +\n",
       "              'Firefox 4 and 5 are also supported but you ' +\n",
       "              'have to enable WebSockets in about:config.');\n",
       "    };\n",
       "}\n",
       "\n",
       "mpl.figure = function(figure_id, websocket, ondownload, parent_element) {\n",
       "    this.id = figure_id;\n",
       "\n",
       "    this.ws = websocket;\n",
       "\n",
       "    this.supports_binary = (this.ws.binaryType != undefined);\n",
       "\n",
       "    if (!this.supports_binary) {\n",
       "        var warnings = document.getElementById(\"mpl-warnings\");\n",
       "        if (warnings) {\n",
       "            warnings.style.display = 'block';\n",
       "            warnings.textContent = (\n",
       "                \"This browser does not support binary websocket messages. \" +\n",
       "                    \"Performance may be slow.\");\n",
       "        }\n",
       "    }\n",
       "\n",
       "    this.imageObj = new Image();\n",
       "\n",
       "    this.context = undefined;\n",
       "    this.message = undefined;\n",
       "    this.canvas = undefined;\n",
       "    this.rubberband_canvas = undefined;\n",
       "    this.rubberband_context = undefined;\n",
       "    this.format_dropdown = undefined;\n",
       "\n",
       "    this.image_mode = 'full';\n",
       "\n",
       "    this.root = $('<div/>');\n",
       "    this._root_extra_style(this.root)\n",
       "    this.root.attr('style', 'display: inline-block');\n",
       "\n",
       "    $(parent_element).append(this.root);\n",
       "\n",
       "    this._init_header(this);\n",
       "    this._init_canvas(this);\n",
       "    this._init_toolbar(this);\n",
       "\n",
       "    var fig = this;\n",
       "\n",
       "    this.waiting = false;\n",
       "\n",
       "    this.ws.onopen =  function () {\n",
       "            fig.send_message(\"supports_binary\", {value: fig.supports_binary});\n",
       "            fig.send_message(\"send_image_mode\", {});\n",
       "            fig.send_message(\"refresh\", {});\n",
       "        }\n",
       "\n",
       "    this.imageObj.onload = function() {\n",
       "            if (fig.image_mode == 'full') {\n",
       "                // Full images could contain transparency (where diff images\n",
       "                // almost always do), so we need to clear the canvas so that\n",
       "                // there is no ghosting.\n",
       "                fig.context.clearRect(0, 0, fig.canvas.width, fig.canvas.height);\n",
       "            }\n",
       "            fig.context.drawImage(fig.imageObj, 0, 0);\n",
       "        };\n",
       "\n",
       "    this.imageObj.onunload = function() {\n",
       "        this.ws.close();\n",
       "    }\n",
       "\n",
       "    this.ws.onmessage = this._make_on_message_function(this);\n",
       "\n",
       "    this.ondownload = ondownload;\n",
       "}\n",
       "\n",
       "mpl.figure.prototype._init_header = function() {\n",
       "    var titlebar = $(\n",
       "        '<div class=\"ui-dialog-titlebar ui-widget-header ui-corner-all ' +\n",
       "        'ui-helper-clearfix\"/>');\n",
       "    var titletext = $(\n",
       "        '<div class=\"ui-dialog-title\" style=\"width: 100%; ' +\n",
       "        'text-align: center; padding: 3px;\"/>');\n",
       "    titlebar.append(titletext)\n",
       "    this.root.append(titlebar);\n",
       "    this.header = titletext[0];\n",
       "}\n",
       "\n",
       "\n",
       "\n",
       "mpl.figure.prototype._canvas_extra_style = function(canvas_div) {\n",
       "\n",
       "}\n",
       "\n",
       "\n",
       "mpl.figure.prototype._root_extra_style = function(canvas_div) {\n",
       "\n",
       "}\n",
       "\n",
       "mpl.figure.prototype._init_canvas = function() {\n",
       "    var fig = this;\n",
       "\n",
       "    var canvas_div = $('<div/>');\n",
       "\n",
       "    canvas_div.attr('style', 'position: relative; clear: both; outline: 0');\n",
       "\n",
       "    function canvas_keyboard_event(event) {\n",
       "        return fig.key_event(event, event['data']);\n",
       "    }\n",
       "\n",
       "    canvas_div.keydown('key_press', canvas_keyboard_event);\n",
       "    canvas_div.keyup('key_release', canvas_keyboard_event);\n",
       "    this.canvas_div = canvas_div\n",
       "    this._canvas_extra_style(canvas_div)\n",
       "    this.root.append(canvas_div);\n",
       "\n",
       "    var canvas = $('<canvas/>');\n",
       "    canvas.addClass('mpl-canvas');\n",
       "    canvas.attr('style', \"left: 0; top: 0; z-index: 0; outline: 0\")\n",
       "\n",
       "    this.canvas = canvas[0];\n",
       "    this.context = canvas[0].getContext(\"2d\");\n",
       "\n",
       "    var rubberband = $('<canvas/>');\n",
       "    rubberband.attr('style', \"position: absolute; left: 0; top: 0; z-index: 1;\")\n",
       "\n",
       "    var pass_mouse_events = true;\n",
       "\n",
       "    canvas_div.resizable({\n",
       "        start: function(event, ui) {\n",
       "            pass_mouse_events = false;\n",
       "        },\n",
       "        resize: function(event, ui) {\n",
       "            fig.request_resize(ui.size.width, ui.size.height);\n",
       "        },\n",
       "        stop: function(event, ui) {\n",
       "            pass_mouse_events = true;\n",
       "            fig.request_resize(ui.size.width, ui.size.height);\n",
       "        },\n",
       "    });\n",
       "\n",
       "    function mouse_event_fn(event) {\n",
       "        if (pass_mouse_events)\n",
       "            return fig.mouse_event(event, event['data']);\n",
       "    }\n",
       "\n",
       "    rubberband.mousedown('button_press', mouse_event_fn);\n",
       "    rubberband.mouseup('button_release', mouse_event_fn);\n",
       "    // Throttle sequential mouse events to 1 every 20ms.\n",
       "    rubberband.mousemove('motion_notify', mouse_event_fn);\n",
       "\n",
       "    rubberband.mouseenter('figure_enter', mouse_event_fn);\n",
       "    rubberband.mouseleave('figure_leave', mouse_event_fn);\n",
       "\n",
       "    canvas_div.on(\"wheel\", function (event) {\n",
       "        event = event.originalEvent;\n",
       "        event['data'] = 'scroll'\n",
       "        if (event.deltaY < 0) {\n",
       "            event.step = 1;\n",
       "        } else {\n",
       "            event.step = -1;\n",
       "        }\n",
       "        mouse_event_fn(event);\n",
       "    });\n",
       "\n",
       "    canvas_div.append(canvas);\n",
       "    canvas_div.append(rubberband);\n",
       "\n",
       "    this.rubberband = rubberband;\n",
       "    this.rubberband_canvas = rubberband[0];\n",
       "    this.rubberband_context = rubberband[0].getContext(\"2d\");\n",
       "    this.rubberband_context.strokeStyle = \"#000000\";\n",
       "\n",
       "    this._resize_canvas = function(width, height) {\n",
       "        // Keep the size of the canvas, canvas container, and rubber band\n",
       "        // canvas in synch.\n",
       "        canvas_div.css('width', width)\n",
       "        canvas_div.css('height', height)\n",
       "\n",
       "        canvas.attr('width', width);\n",
       "        canvas.attr('height', height);\n",
       "\n",
       "        rubberband.attr('width', width);\n",
       "        rubberband.attr('height', height);\n",
       "    }\n",
       "\n",
       "    // Set the figure to an initial 600x600px, this will subsequently be updated\n",
       "    // upon first draw.\n",
       "    this._resize_canvas(600, 600);\n",
       "\n",
       "    // Disable right mouse context menu.\n",
       "    $(this.rubberband_canvas).bind(\"contextmenu\",function(e){\n",
       "        return false;\n",
       "    });\n",
       "\n",
       "    function set_focus () {\n",
       "        canvas.focus();\n",
       "        canvas_div.focus();\n",
       "    }\n",
       "\n",
       "    window.setTimeout(set_focus, 100);\n",
       "}\n",
       "\n",
       "mpl.figure.prototype._init_toolbar = function() {\n",
       "    var fig = this;\n",
       "\n",
       "    var nav_element = $('<div/>')\n",
       "    nav_element.attr('style', 'width: 100%');\n",
       "    this.root.append(nav_element);\n",
       "\n",
       "    // Define a callback function for later on.\n",
       "    function toolbar_event(event) {\n",
       "        return fig.toolbar_button_onclick(event['data']);\n",
       "    }\n",
       "    function toolbar_mouse_event(event) {\n",
       "        return fig.toolbar_button_onmouseover(event['data']);\n",
       "    }\n",
       "\n",
       "    for(var toolbar_ind in mpl.toolbar_items) {\n",
       "        var name = mpl.toolbar_items[toolbar_ind][0];\n",
       "        var tooltip = mpl.toolbar_items[toolbar_ind][1];\n",
       "        var image = mpl.toolbar_items[toolbar_ind][2];\n",
       "        var method_name = mpl.toolbar_items[toolbar_ind][3];\n",
       "\n",
       "        if (!name) {\n",
       "            // put a spacer in here.\n",
       "            continue;\n",
       "        }\n",
       "        var button = $('<button/>');\n",
       "        button.addClass('ui-button ui-widget ui-state-default ui-corner-all ' +\n",
       "                        'ui-button-icon-only');\n",
       "        button.attr('role', 'button');\n",
       "        button.attr('aria-disabled', 'false');\n",
       "        button.click(method_name, toolbar_event);\n",
       "        button.mouseover(tooltip, toolbar_mouse_event);\n",
       "\n",
       "        var icon_img = $('<span/>');\n",
       "        icon_img.addClass('ui-button-icon-primary ui-icon');\n",
       "        icon_img.addClass(image);\n",
       "        icon_img.addClass('ui-corner-all');\n",
       "\n",
       "        var tooltip_span = $('<span/>');\n",
       "        tooltip_span.addClass('ui-button-text');\n",
       "        tooltip_span.html(tooltip);\n",
       "\n",
       "        button.append(icon_img);\n",
       "        button.append(tooltip_span);\n",
       "\n",
       "        nav_element.append(button);\n",
       "    }\n",
       "\n",
       "    var fmt_picker_span = $('<span/>');\n",
       "\n",
       "    var fmt_picker = $('<select/>');\n",
       "    fmt_picker.addClass('mpl-toolbar-option ui-widget ui-widget-content');\n",
       "    fmt_picker_span.append(fmt_picker);\n",
       "    nav_element.append(fmt_picker_span);\n",
       "    this.format_dropdown = fmt_picker[0];\n",
       "\n",
       "    for (var ind in mpl.extensions) {\n",
       "        var fmt = mpl.extensions[ind];\n",
       "        var option = $(\n",
       "            '<option/>', {selected: fmt === mpl.default_extension}).html(fmt);\n",
       "        fmt_picker.append(option)\n",
       "    }\n",
       "\n",
       "    // Add hover states to the ui-buttons\n",
       "    $( \".ui-button\" ).hover(\n",
       "        function() { $(this).addClass(\"ui-state-hover\");},\n",
       "        function() { $(this).removeClass(\"ui-state-hover\");}\n",
       "    );\n",
       "\n",
       "    var status_bar = $('<span class=\"mpl-message\"/>');\n",
       "    nav_element.append(status_bar);\n",
       "    this.message = status_bar[0];\n",
       "}\n",
       "\n",
       "mpl.figure.prototype.request_resize = function(x_pixels, y_pixels) {\n",
       "    // Request matplotlib to resize the figure. Matplotlib will then trigger a resize in the client,\n",
       "    // which will in turn request a refresh of the image.\n",
       "    this.send_message('resize', {'width': x_pixels, 'height': y_pixels});\n",
       "}\n",
       "\n",
       "mpl.figure.prototype.send_message = function(type, properties) {\n",
       "    properties['type'] = type;\n",
       "    properties['figure_id'] = this.id;\n",
       "    this.ws.send(JSON.stringify(properties));\n",
       "}\n",
       "\n",
       "mpl.figure.prototype.send_draw_message = function() {\n",
       "    if (!this.waiting) {\n",
       "        this.waiting = true;\n",
       "        this.ws.send(JSON.stringify({type: \"draw\", figure_id: this.id}));\n",
       "    }\n",
       "}\n",
       "\n",
       "\n",
       "mpl.figure.prototype.handle_save = function(fig, msg) {\n",
       "    var format_dropdown = fig.format_dropdown;\n",
       "    var format = format_dropdown.options[format_dropdown.selectedIndex].value;\n",
       "    fig.ondownload(fig, format);\n",
       "}\n",
       "\n",
       "\n",
       "mpl.figure.prototype.handle_resize = function(fig, msg) {\n",
       "    var size = msg['size'];\n",
       "    if (size[0] != fig.canvas.width || size[1] != fig.canvas.height) {\n",
       "        fig._resize_canvas(size[0], size[1]);\n",
       "        fig.send_message(\"refresh\", {});\n",
       "    };\n",
       "}\n",
       "\n",
       "mpl.figure.prototype.handle_rubberband = function(fig, msg) {\n",
       "    var x0 = msg['x0'];\n",
       "    var y0 = fig.canvas.height - msg['y0'];\n",
       "    var x1 = msg['x1'];\n",
       "    var y1 = fig.canvas.height - msg['y1'];\n",
       "    x0 = Math.floor(x0) + 0.5;\n",
       "    y0 = Math.floor(y0) + 0.5;\n",
       "    x1 = Math.floor(x1) + 0.5;\n",
       "    y1 = Math.floor(y1) + 0.5;\n",
       "    var min_x = Math.min(x0, x1);\n",
       "    var min_y = Math.min(y0, y1);\n",
       "    var width = Math.abs(x1 - x0);\n",
       "    var height = Math.abs(y1 - y0);\n",
       "\n",
       "    fig.rubberband_context.clearRect(\n",
       "        0, 0, fig.canvas.width, fig.canvas.height);\n",
       "\n",
       "    fig.rubberband_context.strokeRect(min_x, min_y, width, height);\n",
       "}\n",
       "\n",
       "mpl.figure.prototype.handle_figure_label = function(fig, msg) {\n",
       "    // Updates the figure title.\n",
       "    fig.header.textContent = msg['label'];\n",
       "}\n",
       "\n",
       "mpl.figure.prototype.handle_cursor = function(fig, msg) {\n",
       "    var cursor = msg['cursor'];\n",
       "    switch(cursor)\n",
       "    {\n",
       "    case 0:\n",
       "        cursor = 'pointer';\n",
       "        break;\n",
       "    case 1:\n",
       "        cursor = 'default';\n",
       "        break;\n",
       "    case 2:\n",
       "        cursor = 'crosshair';\n",
       "        break;\n",
       "    case 3:\n",
       "        cursor = 'move';\n",
       "        break;\n",
       "    }\n",
       "    fig.rubberband_canvas.style.cursor = cursor;\n",
       "}\n",
       "\n",
       "mpl.figure.prototype.handle_message = function(fig, msg) {\n",
       "    fig.message.textContent = msg['message'];\n",
       "}\n",
       "\n",
       "mpl.figure.prototype.handle_draw = function(fig, msg) {\n",
       "    // Request the server to send over a new figure.\n",
       "    fig.send_draw_message();\n",
       "}\n",
       "\n",
       "mpl.figure.prototype.handle_image_mode = function(fig, msg) {\n",
       "    fig.image_mode = msg['mode'];\n",
       "}\n",
       "\n",
       "mpl.figure.prototype.updated_canvas_event = function() {\n",
       "    // Called whenever the canvas gets updated.\n",
       "    this.send_message(\"ack\", {});\n",
       "}\n",
       "\n",
       "// A function to construct a web socket function for onmessage handling.\n",
       "// Called in the figure constructor.\n",
       "mpl.figure.prototype._make_on_message_function = function(fig) {\n",
       "    return function socket_on_message(evt) {\n",
       "        if (evt.data instanceof Blob) {\n",
       "            /* FIXME: We get \"Resource interpreted as Image but\n",
       "             * transferred with MIME type text/plain:\" errors on\n",
       "             * Chrome.  But how to set the MIME type?  It doesn't seem\n",
       "             * to be part of the websocket stream */\n",
       "            evt.data.type = \"image/png\";\n",
       "\n",
       "            /* Free the memory for the previous frames */\n",
       "            if (fig.imageObj.src) {\n",
       "                (window.URL || window.webkitURL).revokeObjectURL(\n",
       "                    fig.imageObj.src);\n",
       "            }\n",
       "\n",
       "            fig.imageObj.src = (window.URL || window.webkitURL).createObjectURL(\n",
       "                evt.data);\n",
       "            fig.updated_canvas_event();\n",
       "            fig.waiting = false;\n",
       "            return;\n",
       "        }\n",
       "        else if (typeof evt.data === 'string' && evt.data.slice(0, 21) == \"data:image/png;base64\") {\n",
       "            fig.imageObj.src = evt.data;\n",
       "            fig.updated_canvas_event();\n",
       "            fig.waiting = false;\n",
       "            return;\n",
       "        }\n",
       "\n",
       "        var msg = JSON.parse(evt.data);\n",
       "        var msg_type = msg['type'];\n",
       "\n",
       "        // Call the  \"handle_{type}\" callback, which takes\n",
       "        // the figure and JSON message as its only arguments.\n",
       "        try {\n",
       "            var callback = fig[\"handle_\" + msg_type];\n",
       "        } catch (e) {\n",
       "            console.log(\"No handler for the '\" + msg_type + \"' message type: \", msg);\n",
       "            return;\n",
       "        }\n",
       "\n",
       "        if (callback) {\n",
       "            try {\n",
       "                // console.log(\"Handling '\" + msg_type + \"' message: \", msg);\n",
       "                callback(fig, msg);\n",
       "            } catch (e) {\n",
       "                console.log(\"Exception inside the 'handler_\" + msg_type + \"' callback:\", e, e.stack, msg);\n",
       "            }\n",
       "        }\n",
       "    };\n",
       "}\n",
       "\n",
       "// from http://stackoverflow.com/questions/1114465/getting-mouse-location-in-canvas\n",
       "mpl.findpos = function(e) {\n",
       "    //this section is from http://www.quirksmode.org/js/events_properties.html\n",
       "    var targ;\n",
       "    if (!e)\n",
       "        e = window.event;\n",
       "    if (e.target)\n",
       "        targ = e.target;\n",
       "    else if (e.srcElement)\n",
       "        targ = e.srcElement;\n",
       "    if (targ.nodeType == 3) // defeat Safari bug\n",
       "        targ = targ.parentNode;\n",
       "\n",
       "    // jQuery normalizes the pageX and pageY\n",
       "    // pageX,Y are the mouse positions relative to the document\n",
       "    // offset() returns the position of the element relative to the document\n",
       "    var x = e.pageX - $(targ).offset().left;\n",
       "    var y = e.pageY - $(targ).offset().top;\n",
       "\n",
       "    return {\"x\": x, \"y\": y};\n",
       "};\n",
       "\n",
       "/*\n",
       " * return a copy of an object with only non-object keys\n",
       " * we need this to avoid circular references\n",
       " * http://stackoverflow.com/a/24161582/3208463\n",
       " */\n",
       "function simpleKeys (original) {\n",
       "  return Object.keys(original).reduce(function (obj, key) {\n",
       "    if (typeof original[key] !== 'object')\n",
       "        obj[key] = original[key]\n",
       "    return obj;\n",
       "  }, {});\n",
       "}\n",
       "\n",
       "mpl.figure.prototype.mouse_event = function(event, name) {\n",
       "    var canvas_pos = mpl.findpos(event)\n",
       "\n",
       "    if (name === 'button_press')\n",
       "    {\n",
       "        this.canvas.focus();\n",
       "        this.canvas_div.focus();\n",
       "    }\n",
       "\n",
       "    var x = canvas_pos.x;\n",
       "    var y = canvas_pos.y;\n",
       "\n",
       "    this.send_message(name, {x: x, y: y, button: event.button,\n",
       "                             step: event.step,\n",
       "                             guiEvent: simpleKeys(event)});\n",
       "\n",
       "    /* This prevents the web browser from automatically changing to\n",
       "     * the text insertion cursor when the button is pressed.  We want\n",
       "     * to control all of the cursor setting manually through the\n",
       "     * 'cursor' event from matplotlib */\n",
       "    event.preventDefault();\n",
       "    return false;\n",
       "}\n",
       "\n",
       "mpl.figure.prototype._key_event_extra = function(event, name) {\n",
       "    // Handle any extra behaviour associated with a key event\n",
       "}\n",
       "\n",
       "mpl.figure.prototype.key_event = function(event, name) {\n",
       "\n",
       "    // Prevent repeat events\n",
       "    if (name == 'key_press')\n",
       "    {\n",
       "        if (event.which === this._key)\n",
       "            return;\n",
       "        else\n",
       "            this._key = event.which;\n",
       "    }\n",
       "    if (name == 'key_release')\n",
       "        this._key = null;\n",
       "\n",
       "    var value = '';\n",
       "    if (event.ctrlKey && event.which != 17)\n",
       "        value += \"ctrl+\";\n",
       "    if (event.altKey && event.which != 18)\n",
       "        value += \"alt+\";\n",
       "    if (event.shiftKey && event.which != 16)\n",
       "        value += \"shift+\";\n",
       "\n",
       "    value += 'k';\n",
       "    value += event.which.toString();\n",
       "\n",
       "    this._key_event_extra(event, name);\n",
       "\n",
       "    this.send_message(name, {key: value,\n",
       "                             guiEvent: simpleKeys(event)});\n",
       "    return false;\n",
       "}\n",
       "\n",
       "mpl.figure.prototype.toolbar_button_onclick = function(name) {\n",
       "    if (name == 'download') {\n",
       "        this.handle_save(this, null);\n",
       "    } else {\n",
       "        this.send_message(\"toolbar_button\", {name: name});\n",
       "    }\n",
       "};\n",
       "\n",
       "mpl.figure.prototype.toolbar_button_onmouseover = function(tooltip) {\n",
       "    this.message.textContent = tooltip;\n",
       "};\n",
       "mpl.toolbar_items = [[\"Home\", \"Reset original view\", \"fa fa-home icon-home\", \"home\"], [\"Back\", \"Back to  previous view\", \"fa fa-arrow-left icon-arrow-left\", \"back\"], [\"Forward\", \"Forward to next view\", \"fa fa-arrow-right icon-arrow-right\", \"forward\"], [\"\", \"\", \"\", \"\"], [\"Pan\", \"Pan axes with left mouse, zoom with right\", \"fa fa-arrows icon-move\", \"pan\"], [\"Zoom\", \"Zoom to rectangle\", \"fa fa-square-o icon-check-empty\", \"zoom\"], [\"\", \"\", \"\", \"\"], [\"Download\", \"Download plot\", \"fa fa-floppy-o icon-save\", \"download\"]];\n",
       "\n",
       "mpl.extensions = [\"eps\", \"jpeg\", \"pdf\", \"png\", \"ps\", \"raw\", \"svg\", \"tif\"];\n",
       "\n",
       "mpl.default_extension = \"png\";var comm_websocket_adapter = function(comm) {\n",
       "    // Create a \"websocket\"-like object which calls the given IPython comm\n",
       "    // object with the appropriate methods. Currently this is a non binary\n",
       "    // socket, so there is still some room for performance tuning.\n",
       "    var ws = {};\n",
       "\n",
       "    ws.close = function() {\n",
       "        comm.close()\n",
       "    };\n",
       "    ws.send = function(m) {\n",
       "        //console.log('sending', m);\n",
       "        comm.send(m);\n",
       "    };\n",
       "    // Register the callback with on_msg.\n",
       "    comm.on_msg(function(msg) {\n",
       "        //console.log('receiving', msg['content']['data'], msg);\n",
       "        // Pass the mpl event to the overriden (by mpl) onmessage function.\n",
       "        ws.onmessage(msg['content']['data'])\n",
       "    });\n",
       "    return ws;\n",
       "}\n",
       "\n",
       "mpl.mpl_figure_comm = function(comm, msg) {\n",
       "    // This is the function which gets called when the mpl process\n",
       "    // starts-up an IPython Comm through the \"matplotlib\" channel.\n",
       "\n",
       "    var id = msg.content.data.id;\n",
       "    // Get hold of the div created by the display call when the Comm\n",
       "    // socket was opened in Python.\n",
       "    var element = $(\"#\" + id);\n",
       "    var ws_proxy = comm_websocket_adapter(comm)\n",
       "\n",
       "    function ondownload(figure, format) {\n",
       "        window.open(figure.imageObj.src);\n",
       "    }\n",
       "\n",
       "    var fig = new mpl.figure(id, ws_proxy,\n",
       "                           ondownload,\n",
       "                           element.get(0));\n",
       "\n",
       "    // Call onopen now - mpl needs it, as it is assuming we've passed it a real\n",
       "    // web socket which is closed, not our websocket->open comm proxy.\n",
       "    ws_proxy.onopen();\n",
       "\n",
       "    fig.parent_element = element.get(0);\n",
       "    fig.cell_info = mpl.find_output_cell(\"<div id='\" + id + \"'></div>\");\n",
       "    if (!fig.cell_info) {\n",
       "        console.error(\"Failed to find cell for figure\", id, fig);\n",
       "        return;\n",
       "    }\n",
       "\n",
       "    var output_index = fig.cell_info[2]\n",
       "    var cell = fig.cell_info[0];\n",
       "\n",
       "};\n",
       "\n",
       "mpl.figure.prototype.handle_close = function(fig, msg) {\n",
       "    fig.root.unbind('remove')\n",
       "\n",
       "    // Update the output cell to use the data from the current canvas.\n",
       "    fig.push_to_output();\n",
       "    var dataURL = fig.canvas.toDataURL();\n",
       "    // Re-enable the keyboard manager in IPython - without this line, in FF,\n",
       "    // the notebook keyboard shortcuts fail.\n",
       "    IPython.keyboard_manager.enable()\n",
       "    $(fig.parent_element).html('<img src=\"' + dataURL + '\">');\n",
       "    fig.close_ws(fig, msg);\n",
       "}\n",
       "\n",
       "mpl.figure.prototype.close_ws = function(fig, msg){\n",
       "    fig.send_message('closing', msg);\n",
       "    // fig.ws.close()\n",
       "}\n",
       "\n",
       "mpl.figure.prototype.push_to_output = function(remove_interactive) {\n",
       "    // Turn the data on the canvas into data in the output cell.\n",
       "    var dataURL = this.canvas.toDataURL();\n",
       "    this.cell_info[1]['text/html'] = '<img src=\"' + dataURL + '\">';\n",
       "}\n",
       "\n",
       "mpl.figure.prototype.updated_canvas_event = function() {\n",
       "    // Tell IPython that the notebook contents must change.\n",
       "    IPython.notebook.set_dirty(true);\n",
       "    this.send_message(\"ack\", {});\n",
       "    var fig = this;\n",
       "    // Wait a second, then push the new image to the DOM so\n",
       "    // that it is saved nicely (might be nice to debounce this).\n",
       "    setTimeout(function () { fig.push_to_output() }, 1000);\n",
       "}\n",
       "\n",
       "mpl.figure.prototype._init_toolbar = function() {\n",
       "    var fig = this;\n",
       "\n",
       "    var nav_element = $('<div/>')\n",
       "    nav_element.attr('style', 'width: 100%');\n",
       "    this.root.append(nav_element);\n",
       "\n",
       "    // Define a callback function for later on.\n",
       "    function toolbar_event(event) {\n",
       "        return fig.toolbar_button_onclick(event['data']);\n",
       "    }\n",
       "    function toolbar_mouse_event(event) {\n",
       "        return fig.toolbar_button_onmouseover(event['data']);\n",
       "    }\n",
       "\n",
       "    for(var toolbar_ind in mpl.toolbar_items){\n",
       "        var name = mpl.toolbar_items[toolbar_ind][0];\n",
       "        var tooltip = mpl.toolbar_items[toolbar_ind][1];\n",
       "        var image = mpl.toolbar_items[toolbar_ind][2];\n",
       "        var method_name = mpl.toolbar_items[toolbar_ind][3];\n",
       "\n",
       "        if (!name) { continue; };\n",
       "\n",
       "        var button = $('<button class=\"btn btn-default\" href=\"#\" title=\"' + name + '\"><i class=\"fa ' + image + ' fa-lg\"></i></button>');\n",
       "        button.click(method_name, toolbar_event);\n",
       "        button.mouseover(tooltip, toolbar_mouse_event);\n",
       "        nav_element.append(button);\n",
       "    }\n",
       "\n",
       "    // Add the status bar.\n",
       "    var status_bar = $('<span class=\"mpl-message\" style=\"text-align:right; float: right;\"/>');\n",
       "    nav_element.append(status_bar);\n",
       "    this.message = status_bar[0];\n",
       "\n",
       "    // Add the close button to the window.\n",
       "    var buttongrp = $('<div class=\"btn-group inline pull-right\"></div>');\n",
       "    var button = $('<button class=\"btn btn-mini btn-primary\" href=\"#\" title=\"Stop Interaction\"><i class=\"fa fa-power-off icon-remove icon-large\"></i></button>');\n",
       "    button.click(function (evt) { fig.handle_close(fig, {}); } );\n",
       "    button.mouseover('Stop Interaction', toolbar_mouse_event);\n",
       "    buttongrp.append(button);\n",
       "    var titlebar = this.root.find($('.ui-dialog-titlebar'));\n",
       "    titlebar.prepend(buttongrp);\n",
       "}\n",
       "\n",
       "mpl.figure.prototype._root_extra_style = function(el){\n",
       "    var fig = this\n",
       "    el.on(\"remove\", function(){\n",
       "\tfig.close_ws(fig, {});\n",
       "    });\n",
       "}\n",
       "\n",
       "mpl.figure.prototype._canvas_extra_style = function(el){\n",
       "    // this is important to make the div 'focusable\n",
       "    el.attr('tabindex', 0)\n",
       "    // reach out to IPython and tell the keyboard manager to turn it's self\n",
       "    // off when our div gets focus\n",
       "\n",
       "    // location in version 3\n",
       "    if (IPython.notebook.keyboard_manager) {\n",
       "        IPython.notebook.keyboard_manager.register_events(el);\n",
       "    }\n",
       "    else {\n",
       "        // location in version 2\n",
       "        IPython.keyboard_manager.register_events(el);\n",
       "    }\n",
       "\n",
       "}\n",
       "\n",
       "mpl.figure.prototype._key_event_extra = function(event, name) {\n",
       "    var manager = IPython.notebook.keyboard_manager;\n",
       "    if (!manager)\n",
       "        manager = IPython.keyboard_manager;\n",
       "\n",
       "    // Check for shift+enter\n",
       "    if (event.shiftKey && event.which == 13) {\n",
       "        this.canvas_div.blur();\n",
       "        event.shiftKey = false;\n",
       "        // Send a \"J\" for go to next cell\n",
       "        event.which = 74;\n",
       "        event.keyCode = 74;\n",
       "        manager.command_mode();\n",
       "        manager.handle_keydown(event);\n",
       "    }\n",
       "}\n",
       "\n",
       "mpl.figure.prototype.handle_save = function(fig, msg) {\n",
       "    fig.ondownload(fig, null);\n",
       "}\n",
       "\n",
       "\n",
       "mpl.find_output_cell = function(html_output) {\n",
       "    // Return the cell and output element which can be found *uniquely* in the notebook.\n",
       "    // Note - this is a bit hacky, but it is done because the \"notebook_saving.Notebook\"\n",
       "    // IPython event is triggered only after the cells have been serialised, which for\n",
       "    // our purposes (turning an active figure into a static one), is too late.\n",
       "    var cells = IPython.notebook.get_cells();\n",
       "    var ncells = cells.length;\n",
       "    for (var i=0; i<ncells; i++) {\n",
       "        var cell = cells[i];\n",
       "        if (cell.cell_type === 'code'){\n",
       "            for (var j=0; j<cell.output_area.outputs.length; j++) {\n",
       "                var data = cell.output_area.outputs[j];\n",
       "                if (data.data) {\n",
       "                    // IPython >= 3 moved mimebundle to data attribute of output\n",
       "                    data = data.data;\n",
       "                }\n",
       "                if (data['text/html'] == html_output) {\n",
       "                    return [cell, data, j];\n",
       "                }\n",
       "            }\n",
       "        }\n",
       "    }\n",
       "}\n",
       "\n",
       "// Register the function which deals with the matplotlib target/channel.\n",
       "// The kernel may be null if the page has been refreshed.\n",
       "if (IPython.notebook.kernel != null) {\n",
       "    IPython.notebook.kernel.comm_manager.register_target('matplotlib', mpl.mpl_figure_comm);\n",
       "}\n"
      ],
      "text/plain": [
       "<IPython.core.display.Javascript object>"
      ]
     },
     "metadata": {},
     "output_type": "display_data"
    },
    {
     "data": {
      "text/html": [
       "<img src=\"data:image/png;base64,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\">"
      ],
      "text/plain": [
       "<IPython.core.display.HTML object>"
      ]
     },
     "metadata": {},
     "output_type": "display_data"
    },
    {
     "data": {
      "text/plain": [
       "[<matplotlib.lines.Line2D at 0x9755cf8>]"
      ]
     },
     "execution_count": 30,
     "metadata": {},
     "output_type": "execute_result"
    }
   ],
   "source": [
    "%matplotlib notebook\n",
    "threshold=0\n",
    "chan=0\n",
    "f=data.trace[chan]['filtered']\n",
    "above_threshold=f>threshold\n",
    "above=above_threshold[1:]\n",
    "was_above=above_threshold[0:-1]\n",
    "\n",
    "pos_xings=np.logical_and(~was_above,above).nonzero()[0]\n",
    "neg_xings=np.logical_and(~above,was_above).nonzero()[0]\n",
    "plt.step(np.arange(len(f)),f,'r')\n",
    "plt.plot(pos_xings,np.zeros(len(pos_xings)),'ob')\n",
    "plt.plot(neg_xings,np.zeros(len(neg_xings)),'sk')"
   ]
  },
  {
   "cell_type": "code",
   "execution_count": null,
   "metadata": {
    "collapsed": false
   },
   "outputs": [],
   "source": [
    "abstime = 0\n",
    "for p in enet.packets:\n",
    "#p=enet.packets[1]\n",
    "    if p.payload_type == sim.PayloadType.tick:\n",
    "        abstime = p.events['timestamp'][0]\n",
    "    elif p.payload_type == sim.PayloadType.area:\n",
    "        e = p.events\n",
    "        times = np.cumsum(e['time'])+abstime\n",
    "        \n",
    "        chan_mask = np.bitwise_and(e['flags'][:, 0], 0x07) == channel\n",
    "        abstime = times[-1]\n",
    "\n"
   ]
  },
  {
   "cell_type": "code",
   "execution_count": null,
   "metadata": {
    "collapsed": false,
    "scrolled": false
   },
   "outputs": [],
   "source": [
    "%matplotlib notebook\n",
    "c=1\n",
    "#plt.plot(data.trace[c]['raw']/2,'k',lw=1)\n",
    "plt.plot(data.trace[c]['filtered'][0:10000],'r',lw=1)\n",
    "#plt.plot(data.trace[c]['slope']/8,'b',lw=2)"
   ]
  },
  {
   "cell_type": "code",
   "execution_count": null,
   "metadata": {
    "collapsed": false
   },
   "outputs": [],
   "source": [
    "enet.packets[4].payload[40:].view(np.uint32).size"
   ]
  },
  {
   "cell_type": "code",
   "execution_count": null,
   "metadata": {
    "collapsed": false
   },
   "outputs": [],
   "source": [
    "enet.packets[4].length"
   ]
  },
  {
   "cell_type": "code",
   "execution_count": null,
   "metadata": {
    "collapsed": false
   },
   "outputs": [],
   "source": [
    "dist=dists[1]\n",
    "c=check_distribution(dist,data)\n",
    "(c-dist.counts).nonzero()[0].size"
   ]
  },
  {
   "cell_type": "code",
   "execution_count": null,
   "metadata": {
    "collapsed": false
   },
   "outputs": [],
   "source": [
    "start=dist.start_time\n",
    "stop=dist.stop_time+np.uint64(1)\n",
    "s=data.slice((start, stop))\n",
    "f = s.trace[dist.channel]['filtered']\n",
    "fd = data.trace[dist.channel]['filtered'][start:stop]\n",
    "(f-fd).nonzero()"
   ]
  },
  {
   "cell_type": "code",
   "execution_count": null,
   "metadata": {
    "collapsed": false
   },
   "outputs": [],
   "source": [
    "np.uint64(1)+np.uint64(-1)"
   ]
  },
  {
   "cell_type": "code",
   "execution_count": null,
   "metadata": {
    "collapsed": false
   },
   "outputs": [],
   "source": [
    "event_dt=np.dtype(\n",
    "    (np.uint64, \n",
    "        [\n",
    "            ('data', np.uint32),\n",
    "            ('flags0', np.uint8),\n",
    "            ('flags1', np.uint8),\n",
    "            ('time',np.uint16)\n",
    "        ] \n",
    "    )\n",
    ")\n",
    "\n",
    "peak_dt=np.dtype(\n",
    "    (\n",
    "        [\n",
    "            ('height', np.int16),\n",
    "            ('minima', np.int16),\n",
    "            ('flags0', np.uint8),\n",
    "            ('flags1', np.uint8),\n",
    "            ('time',np.uint16)\n",
    "        ] \n",
    "    )\n",
    ")\n",
    "\n",
    "tick_dt=np.dtype(\n",
    "    ( \n",
    "        [\n",
    "            ('period', np.uint32),\n",
    "            ('flags0', np.uint8),\n",
    "            ('flags1', np.uint8),\n",
    "            ('time', np.uint16),\n",
    "            ('timestamp', np.uint64)\n",
    "        ]\n",
    "    )\n",
    ")\n",
    "\n",
    "e = sim.EventStream('teslib','measurement_subsystem_TB')\n",
    "\n",
    "events=e._stream64.view(dtype=event_dt)\n",
    "\n",
    "#type_flags = np.bitwise_and(events['flags'],0x000f)\n",
    "tick = np.bitwise_and(events['flags1'],0x02)!=0\n",
    "window_start = np.bitwise_and(events['flags1'],0x01)!=0\n",
    "\n",
    "tick_mask=np.zeros(len(tick),dtype=bool)\n",
    "i=0\n",
    "while (i < len(tick)):\n",
    "    if tick[i]!=0:\n",
    "        tick_mask[i:i+2]=True\n",
    "        i+=1\n",
    "    i+=1\n",
    "    \n",
    "peaks=e._stream64[~tick_mask].view(dtype=peak_dt)\n",
    "\n",
    "ticks=e._stream64[tick_mask].view(dtype=tick_dt)"
   ]
  },
  {
   "cell_type": "code",
   "execution_count": null,
   "metadata": {
    "collapsed": false
   },
   "outputs": [],
   "source": [
    "d=distributions[0]\n",
    "\n",
    "\n",
    "d.value.trace"
   ]
  },
  {
   "cell_type": "code",
   "execution_count": null,
   "metadata": {
    "collapsed": true
   },
   "outputs": [],
   "source": [
    "%matplotlib notebook\n",
    "stop=distributions[0].stop_time\n",
    "start=distributions[0].start_time\n",
    "plt.plot(data.trace[0]['filtered'][start:stop])"
   ]
  },
  {
   "cell_type": "code",
   "execution_count": null,
   "metadata": {
    "collapsed": false
   },
   "outputs": [],
   "source": [
    "%matplotlib notebook\n",
    "d=0\n",
    "plt.plot(distributions[d].counts)"
   ]
  },
  {
   "cell_type": "code",
   "execution_count": null,
   "metadata": {
    "collapsed": false,
    "scrolled": true
   },
   "outputs": [],
   "source": [
    "p=1\n",
    "lasts=enet['last'].nonzero()[0]+1\n",
    "packets = []\n",
    "prev=0\n",
    "for last in lasts:\n",
    "    packets.append(sim.Packet( np.copy(enet['data'][prev:last]).view(np.uint8)))\n",
    "    prev=last\n",
    "\n",
    "packets[:]"
   ]
  },
  {
   "cell_type": "code",
   "execution_count": null,
   "metadata": {
    "collapsed": false
   },
   "outputs": [],
   "source": [
    "packets[4]"
   ]
  },
  {
   "cell_type": "code",
   "execution_count": null,
   "metadata": {
    "collapsed": false
   },
   "outputs": [],
   "source": [
    "def get_distributions(packets):\n",
    "    for packet in packets:\n",
    "        if packet.payload_type == PayloadType.mca:\n",
    "            \n",
    "        \n",
    "    \n",
    "    \n",
    "    \n",
    "packets[4].payload[0:8].view(mca_header_dt)"
   ]
  },
  {
   "cell_type": "code",
   "execution_count": null,
   "metadata": {
    "collapsed": false
   },
   "outputs": [],
   "source": [
    "peaks=packets[1].payload.view(peak_dt)\n",
    "peaks"
   ]
  },
  {
   "cell_type": "code",
   "execution_count": null,
   "metadata": {
    "collapsed": false
   },
   "outputs": [],
   "source": [
    "\n",
    "time=0\n",
    "times=[]\n",
    "heights=[]\n",
    "minimas=[]\n",
    "\n",
    "for p in packets:\n",
    "    if p.payload_type==sim.EventType.tick:\n",
    "        tick=p.payload.view(tick_dt)\n",
    "        time=tick[0]['timestamp']\n",
    "    elif p.payload_type==sim.EventType.peak:\n",
    "        peaks=p.payload.view(peak_dt)\n",
    "        for peak in peaks:\n",
    "            time+=peak['time']\n",
    "            times.append(time)\n",
    "            heights.append(peak['height'])\n",
    "            minimas.append(peak['minima'])\n",
    "            "
   ]
  },
  {
   "cell_type": "code",
   "execution_count": null,
   "metadata": {
    "collapsed": false
   },
   "outputs": [],
   "source": [
    "times"
   ]
  },
  {
   "cell_type": "code",
   "execution_count": null,
   "metadata": {
    "collapsed": false
   },
   "outputs": [],
   "source": [
    "packets[1].payload.view(peak_dt)"
   ]
  },
  {
   "cell_type": "code",
   "execution_count": null,
   "metadata": {
    "collapsed": false
   },
   "outputs": [],
   "source": [
    "heights[0]"
   ]
  },
  {
   "cell_type": "code",
   "execution_count": null,
   "metadata": {
    "collapsed": false,
    "scrolled": false
   },
   "outputs": [],
   "source": [
    "%matplotlib notebook\n",
    "p=3\n",
    "x=np.arange(times[p]-300,times[p]+1000,dtype=np.uint64)\n",
    "plt.plot([times[p], times[p]],[minimas[p], heights[p]],'r',lw=2)\n",
    "plt.step(x,data.trace['filtered'][x])\n",
    "plt.plot(data.peak[p/2],data.trace['filtered'][data.peak[p/2]],'ro')\n",
    "plt.plot(\n",
    "    [data.peak_start[p/2],times[p]],\n",
    "    [data.trace['filtered'][data.peak_start[p/2]],data.trace['filtered'][data.peak_start[p/2]]],\n",
    "    'k'\n",
    ")\n",
    "plt.plot(\n",
    "    [times[p],data.peak[p/2]],\n",
    "    [data.trace['filtered'][data.peak[p/2]],data.trace['filtered'][data.peak[p/2]]],\n",
    "    'k'\n",
    ")"
   ]
  },
  {
   "cell_type": "code",
   "execution_count": null,
   "metadata": {
    "collapsed": false
   },
   "outputs": [],
   "source": [
    "%matplotlib notebook\n",
    "fig=simplt.plot_slice(data.slice((data.peak[0]-1000,data.peak[0]+1000)))\n",
    "data.trace['filtered'][data.peak[0]]"
   ]
  },
  {
   "cell_type": "code",
   "execution_count": null,
   "metadata": {
    "collapsed": false,
    "scrolled": false
   },
   "outputs": [],
   "source": [
    "data.cfd_low"
   ]
  },
  {
   "cell_type": "code",
   "execution_count": null,
   "metadata": {
    "collapsed": false
   },
   "outputs": [],
   "source": [
    "packet_bytes=packet.view(np.uint8)"
   ]
  },
  {
   "cell_type": "code",
   "execution_count": null,
   "metadata": {
    "collapsed": false
   },
   "outputs": [],
   "source": [
    "packet_bytes"
   ]
  },
  {
   "cell_type": "code",
   "execution_count": null,
   "metadata": {
    "collapsed": false
   },
   "outputs": [],
   "source": []
  },
  {
   "cell_type": "code",
   "execution_count": null,
   "metadata": {
    "collapsed": false
   },
   "outputs": [],
   "source": [
    "\n",
    "payload"
   ]
  },
  {
   "cell_type": "code",
   "execution_count": null,
   "metadata": {
    "collapsed": false,
    "scrolled": false
   },
   "outputs": [],
   "source": [
    "\n",
    "payload_type"
   ]
  },
  {
   "cell_type": "code",
   "execution_count": null,
   "metadata": {
    "collapsed": false
   },
   "outputs": [],
   "source": [
    "time=payload[6:8].view(np.uint16)\n",
    "time"
   ]
  },
  {
   "cell_type": "code",
   "execution_count": null,
   "metadata": {
    "collapsed": false
   },
   "outputs": [],
   "source": [
    "\n",
    "peaks"
   ]
  },
  {
   "cell_type": "code",
   "execution_count": null,
   "metadata": {
    "collapsed": false
   },
   "outputs": [],
   "source": [
    "payload[4+8:6+8]"
   ]
  },
  {
   "cell_type": "code",
   "execution_count": null,
   "metadata": {
    "collapsed": false
   },
   "outputs": [],
   "source": [
    "%matplotlib notebook\n",
    "fig=simplt.plot_pulse(1,data)"
   ]
  },
  {
   "cell_type": "code",
   "execution_count": null,
   "metadata": {
    "collapsed": false
   },
   "outputs": [],
   "source": [
    "fig._axstack.as_list()[0]"
   ]
  },
  {
   "cell_type": "code",
   "execution_count": null,
   "metadata": {
    "collapsed": false,
    "scrolled": true
   },
   "outputs": [],
   "source": [
    "tick"
   ]
  },
  {
   "cell_type": "code",
   "execution_count": null,
   "metadata": {
    "collapsed": false
   },
   "outputs": [],
   "source": [
    "ticks"
   ]
  },
  {
   "cell_type": "code",
   "execution_count": null,
   "metadata": {
    "collapsed": false
   },
   "outputs": [],
   "source": [
    "window_start"
   ]
  },
  {
   "cell_type": "code",
   "execution_count": null,
   "metadata": {
    "collapsed": false
   },
   "outputs": [],
   "source": [
    "tick_mask"
   ]
  },
  {
   "cell_type": "code",
   "execution_count": null,
   "metadata": {
    "collapsed": false
   },
   "outputs": [],
   "source": [
    "e._stream64[tick_mask]"
   ]
  },
  {
   "cell_type": "code",
   "execution_count": null,
   "metadata": {
    "collapsed": false
   },
   "outputs": [],
   "source": [
    "type_flags[~tick_mask]"
   ]
  },
  {
   "cell_type": "code",
   "execution_count": null,
   "metadata": {
    "collapsed": false
   },
   "outputs": [],
   "source": [
    "type_flags = np.bitwise_and(events['flags'],0x000f)\n",
    "peak_num = np.right_shift(np.bitwise_and(events['flags'],0x00f0),4)\n",
    "channel = np.right_shift(np.bitwise_and(events['flags'],0x0f00),8)\n",
    "event_type = np.right_shift(np.bitwise_and(events['flags'],0x3000),12)\n",
    "tick=np.bitwise_and(type_flags,0x0002)"
   ]
  },
  {
   "cell_type": "code",
   "execution_count": null,
   "metadata": {
    "collapsed": false
   },
   "outputs": [],
   "source": [
    "ticks"
   ]
  },
  {
   "cell_type": "code",
   "execution_count": null,
   "metadata": {
    "collapsed": false
   },
   "outputs": [],
   "source": []
  },
  {
   "cell_type": "code",
   "execution_count": null,
   "metadata": {
    "collapsed": false
   },
   "outputs": [],
   "source": [
    "tick_mask"
   ]
  },
  {
   "cell_type": "code",
   "execution_count": null,
   "metadata": {
    "collapsed": false
   },
   "outputs": [],
   "source": [
    "events[tick_mask]"
   ]
  },
  {
   "cell_type": "code",
   "execution_count": null,
   "metadata": {
    "collapsed": false
   },
   "outputs": [],
   "source": [
    "time=np.bitwise_and(events[~tick_mask]['time'],0x7fff)\n",
    "c_start=np.bitwise_and(events[~tick_mask]['time'],0x8000)!=0"
   ]
  },
  {
   "cell_type": "code",
   "execution_count": null,
   "metadata": {
    "collapsed": false
   },
   "outputs": [],
   "source": [
    "events[tick_mask]['time']"
   ]
  },
  {
   "cell_type": "code",
   "execution_count": null,
   "metadata": {
    "collapsed": false
   },
   "outputs": [],
   "source": [
    "time"
   ]
  },
  {
   "cell_type": "code",
   "execution_count": null,
   "metadata": {
    "collapsed": false
   },
   "outputs": [],
   "source": [
    "np.binary_repr(time[0],width=16)"
   ]
  },
  {
   "cell_type": "code",
   "execution_count": null,
   "metadata": {
    "collapsed": false
   },
   "outputs": [],
   "source": [
    "events[~tick_mask]['min']"
   ]
  },
  {
   "cell_type": "code",
   "execution_count": null,
   "metadata": {
    "collapsed": false
   },
   "outputs": [],
   "source": [
    "events[~tick_mask]['height']"
   ]
  },
  {
   "cell_type": "code",
   "execution_count": null,
   "metadata": {
    "collapsed": false
   },
   "outputs": [],
   "source": [
    "%matplotlib notebook\n",
    "fig = simplt.plot_pulse(1,data,pre=500,length=3000)\n"
   ]
  },
  {
   "cell_type": "code",
   "execution_count": null,
   "metadata": {
    "collapsed": true
   },
   "outputs": [],
   "source": [
    "import pickle\n",
    "\n",
    "# An arbitrary collection of objects supported by pickle.\n",
    "\n",
    "pickler = pickle.Pickler(open('long.pickle', 'wb'),pickle.HIGHEST_PROTOCOL)\n",
    "pickler.dump(data)\n"
   ]
  },
  {
   "cell_type": "code",
   "execution_count": null,
   "metadata": {
    "collapsed": true
   },
   "outputs": [],
   "source": [
    "unpickler = pickle.Unpickler(open('long.pickle', 'rb'))\n",
    "reg2=unpickler.load()\n",
    "data2=unpickler.load()"
   ]
  },
  {
   "cell_type": "code",
   "execution_count": null,
   "metadata": {
    "collapsed": false
   },
   "outputs": [],
   "source": [
    "data2.trace['slope']"
   ]
  },
  {
   "cell_type": "code",
   "execution_count": null,
   "metadata": {
    "collapsed": false
   },
   "outputs": [],
   "source": [
    "reg2"
   ]
  },
  {
   "cell_type": "code",
   "execution_count": null,
   "metadata": {
    "collapsed": false,
    "scrolled": false
   },
   "outputs": [],
   "source": [
    "axs = fig.get_axes()\n",
    "pax=axs[0].parasites\n",
    "pax[0]._label\n",
    "f_ins_ax=axs[1]\n",
    "s_ins_ax=f_ins_ax.parasites[0]"
   ]
  },
  {
   "cell_type": "code",
   "execution_count": null,
   "metadata": {
    "collapsed": false,
    "scrolled": false
   },
   "outputs": [],
   "source": [
    "es=sim.Data.fromfile('eventstream',np.int32,'teslib','measurement_unit_TB')"
   ]
  },
  {
   "cell_type": "code",
   "execution_count": null,
   "metadata": {
    "collapsed": false
   },
   "outputs": [],
   "source": [
    "es"
   ]
  },
  {
   "cell_type": "code",
   "execution_count": null,
   "metadata": {
    "collapsed": false
   },
   "outputs": [],
   "source": [
    "data.peak[-1]"
   ]
  },
  {
   "cell_type": "code",
   "execution_count": null,
   "metadata": {
    "collapsed": false
   },
   "outputs": [],
   "source": [
    "s.peak"
   ]
  },
  {
   "cell_type": "code",
   "execution_count": null,
   "metadata": {
    "collapsed": false
   },
   "outputs": [],
   "source": [
    "isinstance(r,sim.DataRegion)"
   ]
  },
  {
   "cell_type": "code",
   "execution_count": null,
   "metadata": {
    "collapsed": false
   },
   "outputs": [],
   "source": [
    "r.peak"
   ]
  },
  {
   "cell_type": "code",
   "execution_count": null,
   "metadata": {
    "collapsed": false
   },
   "outputs": [],
   "source": [
    "i"
   ]
  },
  {
   "cell_type": "code",
   "execution_count": null,
   "metadata": {
    "collapsed": false
   },
   "outputs": [],
   "source": [
    "%matplotlib notebook\n",
    "import matplotlib.pyplot as plt\n",
    "\n",
    "plt.plot(data.trace['filtered'])"
   ]
  },
  {
   "cell_type": "code",
   "execution_count": null,
   "metadata": {
    "collapsed": false
   },
   "outputs": [],
   "source": [
    "ax=plt.gca()\n",
    "t=ax.transData\n",
    "t.transform([[0.1,0.2],[1,3]])"
   ]
  },
  {
   "cell_type": "code",
   "execution_count": null,
   "metadata": {
    "collapsed": true
   },
   "outputs": [],
   "source": [
    "x=np.array([0,1,2,3])\n",
    "y=np.array([3,4,5,6])\n",
    "\n",
    "xy=np.empty(shape=(4,2))"
   ]
  },
  {
   "cell_type": "code",
   "execution_count": null,
   "metadata": {
    "collapsed": false
   },
   "outputs": [],
   "source": [
    "xy[:,0]=x\n",
    "xy[:,1]=y\n",
    "t.transform(xy)"
   ]
  },
  {
   "cell_type": "code",
   "execution_count": null,
   "metadata": {
    "collapsed": true
   },
   "outputs": [],
   "source": []
  },
  {
   "cell_type": "code",
   "execution_count": null,
   "metadata": {
    "collapsed": false
   },
   "outputs": [],
   "source": [
    "# run to import isim data files\n",
    "\n",
    "import numpy as np\n",
    "import os\n",
    "import matplotlib.pyplot as plt\n",
    "import math\n",
    "from enum import Enum\n",
    "\n",
    "plt.rcParams[\"figure.figsize\"]=[800./80,600./80]\n",
    "\n",
    "repo='c:\\\\TES_project\\\\fpga_ise\\\\'\n",
    "project='teslib'\n",
    "testbench='measurement_unit_TB'\n",
    "datafile='traces'\n",
    "path=repo+project+'\\\\PlanAhead\\\\'+project+'.sim\\\\'+testbench+'\\\\'\n",
    "\n",
    "traces_dt = np.dtype([('input', np.int32),('raw',np.int32),('filtered',np.int32),('slope',np.int32)])\n",
    "traces=np.fromfile(path+'traces',traces_dt)\n",
    "trigger=np.fromfile(path+'triggers',np.int32)\n",
    "settings=np.fromfile(path+'settings',np.int32)\n",
    "cfd_low=np.fromfile(path+'cfdlow',np.int32)\n",
    "cfd_high=np.fromfile(path+'cfdhigh',np.int32)\n",
    "peaks=np.fromfile(path+'peaks',np.int32)\n",
    "peaks.shape=(-1,2)\n",
    "peak_starts=np.fromfile(path+'peak_starts',np.int32)\n",
    "#peak_starts.shape=(-1,2)\n",
    "pulse_starts=np.fromfile(path+'peak_starts',np.int32)\n",
    "settings=np.fromfile(path+'settings',np.int32)\n",
    "cfd_low=np.fromfile(path+'cfdlow',np.int32)\n",
    "cfd_high=np.fromfile(path+'cfdhigh',np.int32)\n",
    "slope_xing=np.fromfile(path+'slopethreshxings',np.int32)\n"
   ]
  },
  {
   "cell_type": "code",
   "execution_count": null,
   "metadata": {
    "collapsed": false
   },
   "outputs": [],
   "source": [
    "settings[13]"
   ]
  },
  {
   "cell_type": "code",
   "execution_count": null,
   "metadata": {
    "collapsed": false
   },
   "outputs": [],
   "source": [
    "#create register dict from settings array\n",
    "\n",
    "class height_type(Enum):\n",
    "    def from_int(value):\n",
    "        if value == 0:\n",
    "            return height_type.peak_height\n",
    "        elif value == 1:\n",
    "            return height_type.cfd_high\n",
    "        elif value == 2:\n",
    "            return height_type.slope_integral\n",
    "        else:\n",
    "            raise AttributeError()\n",
    "    peak_height=0\n",
    "    cfd_high=1\n",
    "    slope_integral=2\n",
    "\n",
    "class trigger_type(Enum):\n",
    "    def from_int(value):\n",
    "        if value == 0:\n",
    "            return trigger_type.pulse_threshold\n",
    "        elif value == 1:\n",
    "            return trigger_type.slope_threshold\n",
    "        elif value == 2:\n",
    "            return trigger_type.cfd_low\n",
    "        else:\n",
    "            raise AttributeError()\n",
    "    pulse_threshold=0\n",
    "    slope_threshold=1\n",
    "    cfd_low=2\n",
    "\n",
    "class event_type(Enum):\n",
    "    def from_int(value):\n",
    "        if value == 0:\n",
    "            return event_type.peak\n",
    "        elif value == 1:\n",
    "            return event_type.area\n",
    "        elif value == 2:\n",
    "            return event_type.pulse\n",
    "        elif value == 3:\n",
    "            return event_type.trace\n",
    "        else:\n",
    "            raise AttributeError()\n",
    "    peak=0\n",
    "    area=1\n",
    "    pulse=2\n",
    "    trace=3\n",
    "\n",
    "\n",
    "def read_registers(settings):\n",
    "    registers = dict()\n",
    "    registers['baseline'] = dict()\n",
    "    registers['baseline']['offset'] = settings[0]\n",
    "    registers['baseline']['subtraction'] = settings[1]!=0\n",
    "    registers['baseline']['timeconstant'] = settings[2]\n",
    "    registers['baseline']['threshold'] = settings[3]\n",
    "    registers['baseline']['count_threshold'] = settings[4]\n",
    "    registers['generic'] = dict()\n",
    "    registers['baseline']['average_order'] = settings[5]\n",
    "    registers['capture'] = dict()\n",
    "    registers['capture']['cfd_relative'] = settings[6]!=0\n",
    "    registers['capture']['constant_fraction'] = settings[7]\n",
    "    registers['capture']['pulse_threshold'] = settings[8]\n",
    "    registers['capture']['slope_threshold'] = settings[9]\n",
    "    registers['capture']['pulse_area_threshold'] = settings[10]\n",
    "    registers['capture']['height_type'] = height_type.from_int(settings[11])\n",
    "    registers['capture']['threshold_rel2min'] = settings[12]!=0\n",
    "    registers['capture']['trigger_type'] = trigger_type.from_int(settings[13])\n",
    "    registers['capture']['event_type'] = event_type.from_int(settings[14])\n",
    "    return registers\n"
   ]
  },
  {
   "cell_type": "code",
   "execution_count": null,
   "metadata": {
    "collapsed": false
   },
   "outputs": [],
   "source": [
    "%matplotlib notebook\n",
    "x=np.arange(len(traces['filtered']))\n",
    "fig=plt.figure()\n",
    "\n",
    "ax=fig.add_axes([0.15,0.1,0.8,0.8])\n",
    "mV=1.0/math.pow(2,14)*1000\n",
    "nS=4\n",
    "\n",
    "\n",
    "i_trace, =ax.step(x*nS/1000000,(traces['input']+1800)*mV*2,'k',label='raw input')\n",
    "f_trace, =ax.step(x*nS/1000000,traces['filtered']*mV,'b',label='processed')\n",
    "fig.suptitle('Digital Signal Processing',fontsize=24)\n",
    "plt.xlabel('time (ms)',fontsize=18)\n",
    "plt.ylabel('Voltage (mV)',fontsize=18)\n",
    "plt.legend(handles=[i_trace,f_trace])\n",
    "\n",
    "fig.savefig('trace.png')\n",
    "plt.show()"
   ]
  },
  {
   "cell_type": "code",
   "execution_count": null,
   "metadata": {
    "collapsed": true
   },
   "outputs": [],
   "source": []
  },
  {
   "cell_type": "code",
   "execution_count": null,
   "metadata": {
    "collapsed": false
   },
   "outputs": [],
   "source": [
    "%matplotlib notebook\n",
    "import math\n",
    "\n",
    "def align_yaxis(ax1, v1, ax2, v2):\n",
    "    \"\"\"adjust ax2 ylimit so that v2 in ax2 is aligned to v1 in ax1\"\"\"\n",
    "    _, y1 = ax1.transData.transform((0, v1))\n",
    "    _, y2 = ax2.transData.transform((0, v2))\n",
    "    adjust_yaxis(ax2,(y1-y2)/2,v2)\n",
    "    adjust_yaxis(ax1,(y2-y1)/2,v1)\n",
    "\n",
    "def adjust_yaxis(ax,ydif,v):\n",
    "    \"\"\"shift axis ax by ydiff, maintaining point v at the same location\"\"\"\n",
    "    inv = ax.transData.inverted()\n",
    "    _, dy = inv.transform((0, 0)) - inv.transform((0, ydif))\n",
    "    miny, maxy = ax.get_ylim()\n",
    "    miny, maxy = miny - v, maxy - v\n",
    "    if -miny>maxy or (-miny==maxy and dy > 0):\n",
    "        nminy = miny\n",
    "        nmaxy = miny*(maxy+dy)/(miny+dy)\n",
    "    else:\n",
    "        nmaxy = maxy\n",
    "        nminy = maxy*(miny+dy)/(maxy+dy)\n",
    "    ax.set_ylim(nminy+v, nmaxy+v)\n",
    "    \n",
    "x=np.arange(len(traces['filtered']))\n",
    "fig=plt.figure()\n",
    "ax=fig.add_axes([0.1,0.1,0.8,0.8])\n",
    "plt.ylim(-10,120)\n",
    "v=math.pow(2,13)/1000\n",
    "t=x*4\n",
    "ax.plot([0,t[-1]],[0,0],'k')\n",
    "raw, = ax.step(t,traces['raw']/2/v,'k',lw=1,label='raw')\n",
    "processed, = ax.step(t,traces['filtered']/2/v,'r',lw=2,label='processed')\n",
    "ax.plot(trigger,traces['filtered'][trigger+1]/2,'kx')\n",
    "ax.plot(peaks[:,0],traces['filtered'][peaks[:,0]+1]/2,'ro')\n",
    "ax.plot(peak_starts,traces['filtered'][peak_starts+1]/2,'ro')\n",
    "ax.plot(cfd_high,traces['filtered'][cfd_high+1]/2,'bs')\n",
    "ax.plot(cfd_low,traces['filtered'][cfd_low+1]/2,'bs')\n",
    "plt.xlabel('time (ns)',fontsize=18)\n",
    "plt.ylabel('Voltage (mV)',fontsize=18,color='r')\n",
    "\n",
    "ax2=ax.twinx()\n",
    "slope, = ax2.step(t,traces['slope']/256/v/4,'b',lw=2,label='slope')\n",
    "plt.xlim([1292000,1297500])\n",
    "plt.ylim(-0.2,1)\n",
    "align_yaxis(ax,0,ax2,0)\n",
    "plt.ylabel('slope (mV/ns)',color='b',fontsize=18)\n",
    "fig.suptitle('Digital signal processing',fontsize=24)\n",
    "plt.legend(handles=[raw,processed,slope])\n",
    "fig.savefig('dsp.png')\n",
    "plt.show()"
   ]
  },
  {
   "cell_type": "code",
   "execution_count": null,
   "metadata": {
    "collapsed": false
   },
   "outputs": [],
   "source": [
    "%matplotlib notebook\n",
    "\n",
    "#plot pulse\n",
    "from mpl_toolkits.axes_grid1 import host_subplot\n",
    "from mpl_toolkits.axes_grid1.inset_locator import zoomed_inset_axes\n",
    "from mpl_toolkits.axes_grid1.inset_locator import mark_inset\n",
    "\n",
    "pulse=7\n",
    "length=2000\n",
    "pre=100\n",
    "\n",
    "def align_yaxis(ax1, v1, ax2, v2):\n",
    "    \"\"\"adjust ax2 ylimit so that v2 in ax2 is aligned to v1 in ax1\"\"\"\n",
    "    _, y1 = ax1.transData.transform((0, v1))\n",
    "    _, y2 = ax2.transData.transform((0, v2))\n",
    "    adjust_yaxis(ax2,(y1-y2)/2,v2)\n",
    "    adjust_yaxis(ax1,(y2-y1)/2,v1)\n",
    "\n",
    "def adjust_yaxis(ax,ydif,v):\n",
    "    \"\"\"shift axis ax by ydiff, maintaining point v at the same location\"\"\"\n",
    "    inv = ax.transData.inverted()\n",
    "    _, dy = inv.transform((0, 0)) - inv.transform((0, ydif))\n",
    "    miny, maxy = ax.get_ylim()\n",
    "    miny, maxy = miny - v, maxy - v\n",
    "    if -miny>maxy or (-miny==maxy and dy > 0):\n",
    "        nminy = miny\n",
    "        nmaxy = miny*(maxy+dy)/(miny+dy)\n",
    "    else:\n",
    "        nmaxy = maxy\n",
    "        nminy = maxy*(miny+dy)/(maxy+dy)\n",
    "    ax.set_ylim(nminy+v, nmaxy+v)\n",
    "    \n",
    "start=pulse_starts[pulse]-pre\n",
    "stop=start+length\n",
    "x=np.arange(0,len(traces['filtered']))\n",
    "fig=plt.figure()\n",
    "\n",
    "f_ax = host_subplot(111)\n",
    "s_ax = f_ax.twinx()\n",
    "\n",
    "f_ax.set_xlabel(\"Time (ns)\",fontsize=18)\n",
    "f_ax.set_ylabel(\"Voltage (mV)\",fontsize=18,color='r')\n",
    "s_ax.set_ylabel(\"Slope (mv/ns)\",fontsize=18,color='b')\n",
    "\n",
    "mV=1.0/math.pow(2,14)*1000\n",
    "nS=4\n",
    "t=x*nS\n",
    "\n",
    "f_sig = traces['filtered']*mV\n",
    "s_sig = traces['slope']*mV/nS\n",
    "\n",
    "f_ax.plot([t[start],t[stop]],[0,0],'k') # zero line\n",
    "f_trace, = f_ax.step(t[start:stop],f_sig[start:stop],'r',lw=2,label='processed')\n",
    "f_ax.set_ylim(-10,180)\n",
    "\n",
    "s_trace, = s_ax.step(t[start:stop],s_sig[start:stop],'b',lw=1,label='slope')\n",
    "s_ax.set_ylim(-15,50)\n",
    "#s_threshold = 6\n",
    "#s_ax.set_yticks(np.concatenate((s_ax.get_yticks(),[s_threshold])))\n",
    "#labels=[label.get_text() for label in s_ax.get_yticklabels()]\n",
    "#labels[6]='Threshold'\n",
    "\n",
    "#s_ax.set_yticklabels(labels)\n",
    "plt.xlim(t[start],t[stop])\n",
    "align_yaxis(f_ax,0,s_ax,0)\n",
    "fig.suptitle('Measurement:First pass',fontsize=24)\n",
    "#plt.legend(handles=[f_trace,s_trace])\n",
    "\n",
    "starts_mask = np.logical_and(peak_starts >= start,peak_starts <= stop)\n",
    "peaks_mask = np.logical_and(peaks[:,0] >= start, peaks[:,0] <= stop)\n",
    "peak_starts_inwin = peak_starts[starts_mask]\n",
    "\n",
    "for pstart in peak_starts_inwin:\n",
    "    peak_start_t=t[pstart]-2\n",
    "    peak_start_f=f_sig[pstart]\n",
    "    peak_start_s=s_sig[pstart]\n",
    "\n",
    "    f_ax.plot(peak_start_t,peak_start_f,'ro')\n",
    "    s_ax.plot(peak_start_t,peak_start_s,'bo')\n",
    "    \n",
    "    f_trans = f_ax.transData\n",
    "    s_trans = s_ax.transData.inverted()\n",
    "    trans = s_trans+f_trans\n",
    "    f_point=f_trans.transform((peak_start_t,peak_start_f))\n",
    "    s_point=s_trans.transform((f_point[0],f_point[1]))\n",
    "\n",
    "    s_ax.plot([peak_start_t,peak_start_t],[peak_start_s, s_point[1]],'k')\n",
    "\n",
    "#for p in peaks[0][peaks_inwin]\n",
    "peaks_inwin = peaks[peaks_mask,0]\n",
    "for p in peaks_inwin:\n",
    "    peak_t=t[p]-2\n",
    "    peak_f=f_sig[p]\n",
    "    peak_s=s_sig[p]\n",
    "\n",
    "    f_ax.plot(peak_t,peak_f,'ro')\n",
    "    s_ax.plot(peak_t,peak_s,'bo')\n",
    "    \n",
    "    f_trans = f_ax.transData\n",
    "    s_trans = s_ax.transData.inverted()\n",
    "    trans = s_trans+f_trans\n",
    "    f_point=f_trans.transform((peak_t,peak_f))\n",
    "    s_point=s_trans.transform((f_point[0],f_point[1]))\n",
    "\n",
    "    s_ax.plot([peak_t,peak_t],[peak_s, s_point[1]],'k')\n",
    "\n",
    "ins_start = peak_starts_inwin[0]-5\n",
    "ins_stop = peak_starts_inwin[0]+5\n",
    "f_ins_ax = zoomed_inset_axes(f_ax, 50, loc=1)  # zoom = 6\n",
    "f_ins_ax.step(t[ins_start:ins_stop],f_sig[ins_start:ins_stop],'r')\n",
    "f_ins_ax.set_ylim(-0.5,2)\n",
    "f_ins_ax.set_xlim(ins_start,ins_stop)\n",
    "f_ins_ax.set_yticks([])\n",
    "f_ins_ax.set_xticks([])\n",
    "\n",
    "f_ins_ax.plot([t[ins_start],t[ins_stop]],[0,0],'k') # zero line\n",
    "\n",
    "#plt.xticks(visible=False)\n",
    "#plt.yticks(visible=False)\n",
    "mark_inset(f_ax, f_ins_ax, loc1=2, loc2=4, fc=\"none\", ec=\"0.5\")\n",
    "\n",
    "s_ins_ax = f_ins_ax.twinx()\n",
    "s_ins_ax.set_yticks([])\n",
    "s_ins_ax.set_xticks([])\n",
    "\n",
    "s_ins_ax.step(t[ins_start:ins_stop],s_sig[ins_start:ins_stop],'b')\n",
    "\n",
    "s_ins_ax.set_ylim(-1,1)\n",
    "align_yaxis(f_ins_ax,0,s_ins_ax,0)\n",
    "\n",
    "pstart = peak_starts_inwin[0]\n",
    "peak_start_t=t[pstart]-2\n",
    "peak_start_f=f_sig[pstart]\n",
    "peak_start_s=s_sig[pstart]\n",
    "\n",
    "f_ins_ax.plot(peak_start_t,peak_start_f,'ro')\n",
    "s_ins_ax.plot(peak_start_t,peak_start_s,'bo')\n",
    "    \n",
    "f_trans = f_ins_ax.transData\n",
    "s_trans = s_ins_ax.transData.inverted()\n",
    "trans = s_trans+f_trans\n",
    "f_point=f_trans.transform((peak_start_t,peak_start_f))\n",
    "s_point=s_trans.transform((f_point[0],f_point[1]))\n",
    "\n",
    "s_ins_ax.plot([peak_start_t,peak_start_t],[peak_start_s, s_point[1]],'k')\n",
    "\n",
    "s_ax.plot([t[start],t[stop]],[s_threshold,s_threshold],ls='dashed')\n",
    "\n",
    "fig.savefig('measurement1.png')\n",
    "plt.draw()\n",
    "plt.show()"
   ]
  },
  {
   "cell_type": "code",
   "execution_count": null,
   "metadata": {
    "collapsed": false
   },
   "outputs": [],
   "source": [
    "%matplotlib notebook\n",
    "from mpl_toolkits.axes_grid1 import host_subplot\n",
    "from mpl_toolkits.axes_grid1.inset_locator import zoomed_inset_axes\n",
    "from mpl_toolkits.axes_grid1.inset_locator import mark_inset\n",
    "\n",
    "pulse=7\n",
    "length=2000\n",
    "pre=100\n",
    "\n",
    "def align_yaxis(ax1, v1, ax2, v2):\n",
    "    \"\"\"adjust ax2 ylimit so that v2 in ax2 is aligned to v1 in ax1\"\"\"\n",
    "    _, y1 = ax1.transData.transform((0, v1))\n",
    "    _, y2 = ax2.transData.transform((0, v2))\n",
    "    adjust_yaxis(ax2,(y1-y2)/2,v2)\n",
    "    adjust_yaxis(ax1,(y2-y1)/2,v1)\n",
    "\n",
    "def adjust_yaxis(ax,ydif,v):\n",
    "    \"\"\"shift axis ax by ydiff, maintaining point v at the same location\"\"\"\n",
    "    inv = ax.transData.inverted()\n",
    "    _, dy = inv.transform((0, 0)) - inv.transform((0, ydif))\n",
    "    miny, maxy = ax.get_ylim()\n",
    "    miny, maxy = miny - v, maxy - v\n",
    "    if -miny>maxy or (-miny==maxy and dy > 0):\n",
    "        nminy = miny\n",
    "        nmaxy = miny*(maxy+dy)/(miny+dy)\n",
    "    else:\n",
    "        nmaxy = maxy\n",
    "        nminy = maxy*(miny+dy)/(maxy+dy)\n",
    "    ax.set_ylim(nminy+v, nmaxy+v)\n",
    "    \n",
    "start=pulse_starts[pulse]-pre\n",
    "stop=start+length\n",
    "x=np.arange(0,len(traces['filtered']))\n",
    "fig=plt.figure()\n",
    "\n",
    "f_ax = host_subplot(111)\n",
    "s_ax = f_ax.twinx()\n",
    "\n",
    "f_ax.set_xlabel(\"Time (ns)\",fontsize=18)\n",
    "f_ax.set_ylabel(\"Voltage (mV)\",fontsize=18,color='r')\n",
    "s_ax.set_ylabel(\"Slope (mv/ns)\",fontsize=18,color='b')\n",
    "\n",
    "mV=1.0/math.pow(2,14)*1000\n",
    "nS=4\n",
    "t=x*nS\n",
    "\n",
    "f_sig = traces['filtered']*mV\n",
    "s_sig = traces['slope']*mV/nS\n",
    "\n",
    "f_ax.plot([t[start],t[stop]],[0,0],'k') # zero line\n",
    "f_trace, = f_ax.step(t[start:stop],f_sig[start:stop],'r',lw=2,label='processed')\n",
    "f_ax.set_ylim(-10,180)\n",
    "\n",
    "s_trace, = s_ax.step(t[start:stop],s_sig[start:stop],'b',lw=1,label='slope')\n",
    "s_ax.set_ylim(-15,50)\n",
    "#s_threshold = 6\n",
    "#s_ax.set_yticks(np.concatenate((s_ax.get_yticks(),[s_threshold])))\n",
    "#labels=[label.get_text() for label in s_ax.get_yticklabels()]\n",
    "#labels[6]='Threshold'\n",
    "\n",
    "#s_ax.set_yticklabels(labels)\n",
    "plt.xlim(t[start],t[stop])\n",
    "align_yaxis(f_ax,0,s_ax,0)\n",
    "fig.suptitle('Measurement:Second pass',fontsize=24)\n",
    "#plt.legend(handles=[f_trace,s_trace])\n",
    "\n",
    "starts_mask = np.logical_and(peak_starts >= start,peak_starts <= stop)\n",
    "peaks_mask = np.logical_and(peaks[:,0] >= start, peaks[:,0] <= stop)\n",
    "peak_starts_inwin = peak_starts[starts_mask]\n",
    "\n",
    "\n",
    "#for pstart in peak_starts_inwin:\n",
    "#    peak_start_t=t[pstart]-2\n",
    "#    peak_start_f=f_sig[pstart]\n",
    "#    peak_start_s=s_sig[pstart]\n",
    "#\n",
    "#    f_ax.plot(peak_start_t,peak_start_f,'ro')\n",
    "#    s_ax.plot(peak_start_t,peak_start_s,'bo')\n",
    "    \n",
    "#    f_trans = f_ax.transData\n",
    "#    s_trans = s_ax.transData.inverted()\n",
    "#    trans = s_trans+f_trans\n",
    "#    f_point=f_trans.transform((peak_start_t,peak_start_f))\n",
    "#    s_point=s_trans.transform((f_point[0],f_point[1]))\n",
    "\n",
    "#    s_ax.plot([peak_start_t,peak_start_t],[peak_start_s, s_point[1]],'k')\n",
    "\n",
    "#for p in peaks[0][peaks_inwin]\n",
    "peaks_inwin = peaks[peaks_mask,0]\n",
    "x_s=peak_starts_inwin\n",
    "x_p=peaks_inwin\n",
    "y_s=f_sig[x_s]\n",
    "y_p=f_sig[x_p]\n",
    "\n",
    "f_ax.plot(t[peak_starts_inwin],f_sig[peak_starts_inwin],'or')\n",
    "f_ax.plot(t[peaks_inwin],f_sig[peaks_inwin],'or')\n",
    "\n",
    "\n",
    "f_ax.plot([t[x_s[0]],t[x_p[0]]],[y_s[0],y_s[0]],'k')\n",
    "f_ax.plot([t[x_p[0]],t[x_p[0]]],[y_s[0],y_p[0]],'k')\n",
    "\n",
    "f_ax.plot([t[x_s[1]],t[x_p[1]]],[y_s[1],y_s[1]],'k')\n",
    "f_ax.plot([t[x_p[1]],t[x_p[1]]],[y_s[1],y_p[1]],'k')\n",
    "\n",
    "\n",
    "#for p in peaks_inwin:\n",
    "#    peak_t=t[p]-2\n",
    "#    peak_f=f_sig[p]\n",
    "#    peak_s=s_sig[p]\n",
    "\n",
    "#    f_ax.plot(peak_t,peak_f,'ro')\n",
    "#    s_ax.plot(peak_t,peak_s,'bo')\n",
    "    \n",
    "#    f_trans = f_ax.transData\n",
    "#    s_trans = s_ax.transata.inverted()\n",
    "#    trans = s_trans+f_trans\n",
    "#    f_point=f_trans.transform((peak_t,peak_f))\n",
    "#    s_point=s_trans.transform((f_point[0],f_point[1]))\n",
    "\n",
    "#    s_ax.plot([peak_t,peak_t],[peak_s, s_point[1]],'k')\n",
    "\n",
    "ins_start = peak_starts_inwin[1]-300\n",
    "ins_stop = peak_starts_inwin[1]+500\n",
    "f_ins_ax = zoomed_inset_axes(f_ax, 1.5, loc=1)  # zoom = 6\n",
    "f_ins_ax.step(t[ins_start:ins_stop],f_sig[ins_start:ins_stop],'r')\n",
    "f_ins_ax.set_ylim(60,180)\n",
    "f_ins_ax.set_xlim(t[ins_start],t[ins_stop])\n",
    "f_ins_ax.set_yticks([])\n",
    "f_ins_ax.set_xticks([])\n",
    "\n",
    "low_mask = np.logical_and(cfd_low >= start, cfd_low <= stop)\n",
    "low_inwin = cfd_low[low_mask]\n",
    "high_mask = np.logical_and(cfd_high >= start, cfd_high <= stop)\n",
    "high_inwin = cfd_high[high_mask]\n",
    "thresh_mask = np.logical_and(slope_xing >= start, slope_xing <= stop)\n",
    "thresh_inwin = slope_xing[thresh_mask]\n",
    "\n",
    "f_ins_ax.plot(t[peak_starts_inwin],f_sig[peak_starts_inwin],'or')\n",
    "f_ins_ax.plot(t[peaks_inwin],f_sig[peaks_inwin],'or')\n",
    "\n",
    "f_ins_ax.plot(t[low_inwin],f_sig[low_inwin],'ok')\n",
    "f_ins_ax.plot(t[high_inwin],f_sig[high_inwin],'ok')\n",
    "f_ax.plot(t[low_inwin],f_sig[low_inwin],'ok')\n",
    "f_ax.plot(t[high_inwin],f_sig[high_inwin],'ok')\n",
    "#f_ax.plot(t[thresh_inwin],f_sig[thresh_inwin],'ow')\n",
    "f_ins_ax.plot(t[thresh_inwin],f_sig[thresh_inwin],'ow')\n",
    "\n",
    "\n",
    "f_ins_ax.plot([t[x_s[0]],t[x_p[0]]],[y_s[0],y_s[0]],'k')\n",
    "f_ins_ax.plot([t[x_p[0]],t[x_p[0]]],[y_s[0],y_p[0]],'k')\n",
    "\n",
    "f_ins_ax.plot([t[x_s[1]],t[x_p[1]]],[y_s[1],y_s[1]],'k')\n",
    "f_ins_ax.plot([t[x_p[1]],t[x_p[1]]],[y_s[1],y_p[1]],'k')\n",
    "\n",
    "#f_ins_ax.plot([t[ins_start],t[ins_stop]],[0,0],'k') # zero line\n",
    "\n",
    "#plt.xticks(visible=False)\n",
    "#plt.yticks(visible=False)\n",
    "#mark_inset(f_ax, f_ins_ax, loc1=2, loc2=4, fc=\"none\", ec=\"0.5\")\n",
    "\n",
    "pstart = peak_starts_inwin[1]\n",
    "peak_start_t=t[pstart]-2\n",
    "peak_start_f=f_sig[pstart]\n",
    "peak_start_s=s_sig[pstart]\n",
    "\n",
    "f_ins_ax.plot(peak_start_t,peak_start_f,'ro')\n",
    "\n",
    "\n",
    "f_trans = f_ins_ax.transData\n",
    "s_trans = s_ins_ax.transData.inverted()\n",
    "trans = s_trans+f_trans\n",
    "f_point=f_trans.transform((peak_start_t,peak_start_f))\n",
    "s_point=s_trans.transform((f_point[0],f_point[1]))\n",
    "\n",
    "s_ins_ax.plot([peak_start_t,peak_start_t],[peak_start_s, s_point[1]],'k')\n",
    "\n",
    "s_ax.plot([t[start],t[stop]],[s_threshold,s_threshold],ls='dashed')\n",
    "\n",
    "fig.savefig('measurement2.png')\n",
    "plt.draw()\n",
    "plt.show()"
   ]
  },
  {
   "cell_type": "code",
   "execution_count": null,
   "metadata": {
    "collapsed": false
   },
   "outputs": [],
   "source": [
    "from mpl_toolkits.axes_grid1.inset_locator import inset_axes\n",
    "\n",
    "fig=plt.figure()\n",
    "fig.suptitle('Multi Channel Analyser',fontsize=24)\n",
    "\n",
    "h_ax = host_subplot(111)\n",
    "\n",
    "h_ins_ax = inset_axes(h_ax, width=\"80%\",height=1., loc=1)  # zoom = 6\n",
    "h_ins_ax.set_xlim(-25,160)\n",
    "h_ins_ax.set_ylim(0,0.002)\n",
    "h_ax.hist((traces['input']+200)*2*mV,math.pow(2,14),normed=1,facecolor='k',edgecolor='k')\n",
    "h_ax.hist(f_sig,math.pow(2,14),normed=1,facecolor='r',edgecolor='r')\n",
    "h_ins_ax.hist(f_sig,math.pow(2,14),normed=1,facecolor='r',edgecolor='r')\n",
    "h_ins_ax.set_xticks([])\n",
    "h_ins_ax.set_yticks([])\n",
    "h_ax.set_xlim(-30,100)\n",
    "h_ax.set_ylim(0,0.8)\n",
    "\n",
    "mark_inset(h_ax, h_ins_ax, loc1=2, loc2=4, fc=\"none\", ec=\"0.5\")\n",
    "\n",
    "h_ax.set_xlabel('Voltage (mV)')\n",
    "h_ax.set_ylabel('Probability')\n",
    "fig.savefig('hist.png')\n",
    "plt.show()"
   ]
  },
  {
   "cell_type": "code",
   "execution_count": null,
   "metadata": {
    "collapsed": true
   },
   "outputs": [],
   "source": [
    "peak_dt=np.dtype([('time',np.uint16),('flags',np.uint16),('minima',np.uint16),('height',np.uint16)])"
   ]
  },
  {
   "cell_type": "code",
   "execution_count": null,
   "metadata": {
    "collapsed": true
   },
   "outputs": [],
   "source": [
    "area_dt=np.dtype([('time',np.uint16),('flags',np.uint16),('area',np.uint32)])"
   ]
  },
  {
   "cell_type": "code",
   "execution_count": null,
   "metadata": {
    "collapsed": true
   },
   "outputs": [],
   "source": [
    "pulse_peak_dt=np.dtype([('trigger',np.uint16),('rise',np.uint16),('minima',np.uint16),('height',np.uint16)])\n",
    "pulse_header_dt=np.dtype([('time',np.uint16),('flags',np.uint16),('res1',np.uint16),('size',np.uint16),\n",
    "                    ('length',np.uint16),('res2',np.uint16),('area',np.int32)])"
   ]
  },
  {
   "cell_type": "code",
   "execution_count": null,
   "metadata": {
    "collapsed": false
   },
   "outputs": [],
   "source": [
    "pulse2_dt=np.dtype([('time',np.uint16),('flags',np.uint16),('res1',np.uint16),('size',np.uint16),\n",
    "                    ('length',np.uint16),('res2',np.uint16),('area',np.int32),\n",
    "                    ('trigger0',np.uint16),('rise0',np.uint16),('minima0',np.uint16),('height0',np.uint16),\n",
    "                    ('trigger1',np.uint16),('rise1',np.uint16),('minima1',np.uint16),('height1',np.uint16)])"
   ]
  },
  {
   "cell_type": "code",
   "execution_count": null,
   "metadata": {
    "collapsed": false
   },
   "outputs": [],
   "source": [
    "pulse2_subarray_dt=np.dtype([('header',pulse_header_dt,('peaks', (pulse_peak_dt,(1,2)) ))])"
   ]
  },
  {
   "cell_type": "code",
   "execution_count": null,
   "metadata": {
    "collapsed": true
   },
   "outputs": [],
   "source": [
    "eventstream=np.fromfile(path+'eventstream',peak_dt)"
   ]
  },
  {
   "cell_type": "code",
   "execution_count": null,
   "metadata": {
    "collapsed": true
   },
   "outputs": [],
   "source": [
    "eventstream=np.fromfile(path+'eventstream',area_dt)"
   ]
  },
  {
   "cell_type": "code",
   "execution_count": null,
   "metadata": {
    "collapsed": true
   },
   "outputs": [],
   "source": [
    "eventstream=np.fromfile(path+'eventstream',pulse2_dt)"
   ]
  },
  {
   "cell_type": "code",
   "execution_count": null,
   "metadata": {
    "collapsed": false
   },
   "outputs": [],
   "source": [
    "eventstream"
   ]
  },
  {
   "cell_type": "code",
   "execution_count": null,
   "metadata": {
    "collapsed": false
   },
   "outputs": [],
   "source": [
    "flags=eventstream['flags']\n",
    "print(np.binary_repr(flags[0],16))"
   ]
  },
  {
   "cell_type": "code",
   "execution_count": null,
   "metadata": {
    "collapsed": false
   },
   "outputs": [],
   "source": [
    "print(\"flags:{:016b}\\nsize:{}\\nlength:{}\\narea:{}\\ntrigger:{} rise:{} minima:{} height:{}\\ntrigger:{} rise:{} minima:{} height:{}\\n\"  \n",
    "      .format(eventstream['flags'][0],eventstream['size'][0],eventstream['length'][0],eventstream['area'][0],\n",
    "        eventstream['trigger0'][0],eventstream['rise0'][0],eventstream['minima0'][0],eventstream['height0'][0],\n",
    "        eventstream['trigger1'][0],eventstream['rise1'][0],eventstream['minima1'][0],eventstream['height1'][0]))"
   ]
  },
  {
   "cell_type": "code",
   "execution_count": null,
   "metadata": {
    "collapsed": false
   },
   "outputs": [],
   "source": [
    "print(np.binary_repr(flags[1],16))"
   ]
  },
  {
   "cell_type": "code",
   "execution_count": null,
   "metadata": {
    "collapsed": true
   },
   "outputs": [],
   "source": [
    "rel_to_min=np.right_shift(np.bitwise_and(flags,0x8000),15).astype(np.bool)\n",
    "channel=np.right_shift(np.bitwise_and(flags,0x0F00),8).astype(np.uint8)\n",
    "threshold_rel2min=np.right_shift(np.bitwise_and(flags,0x4000),14).astype(np.bool)\n",
    "peak_count=np.right_shift(np.bitwise_and(flags,0x00F0),4).astype(np.uint8)\n",
    "tick=np.bitwise_and(flags,0x0001).astype(bool)\n",
    "area=np.right_shift(np.bitwise_and(flags,0x0002),1).astype(np.bool)\n",
    "trace=np.right_shift(np.bitwise_and(flags,0x0004),2).astype(np.bool)\n",
    "fixed=np.right_shift(np.bitwise_and(flags,0x0008),3).astype(np.bool)\n",
    "event_type=np.right_shift(np.bitwise_and(flags,0x3000),12).astype(np.uint8)"
   ]
  },
  {
   "cell_type": "code",
   "execution_count": null,
   "metadata": {
    "collapsed": false
   },
   "outputs": [],
   "source": [
    "flags"
   ]
  },
  {
   "cell_type": "code",
   "execution_count": null,
   "metadata": {
    "collapsed": false
   },
   "outputs": [],
   "source": [
    "eventstream"
   ]
  },
  {
   "cell_type": "code",
   "execution_count": null,
   "metadata": {
    "collapsed": true
   },
   "outputs": [],
   "source": []
  },
  {
   "cell_type": "code",
   "execution_count": null,
   "metadata": {
    "collapsed": true
   },
   "outputs": [],
   "source": []
  }
 ],
 "metadata": {
  "kernelspec": {
   "display_name": "Python 3",
   "language": "python",
   "name": "python3"
  },
  "language_info": {
   "codemirror_mode": {
    "name": "ipython",
    "version": 3
   },
   "file_extension": ".py",
   "mimetype": "text/x-python",
   "name": "python",
   "nbconvert_exporter": "python",
   "pygments_lexer": "ipython3",
   "version": "3.5.1"
  }
 },
 "nbformat": 4,
 "nbformat_minor": 0
}
