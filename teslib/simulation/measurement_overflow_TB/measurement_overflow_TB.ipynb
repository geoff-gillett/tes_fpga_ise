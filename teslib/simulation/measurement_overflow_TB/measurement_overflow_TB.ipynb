{
 "cells": [
  {
   "cell_type": "code",
   "execution_count": 1,
   "metadata": {
    "collapsed": false
   },
   "outputs": [],
   "source": [
    "import sys\n",
    "import tes.simulation.data as sim\n",
    "from tes.simulation.data import PacketStream, Data, Distribution\n",
    "from tes.simulation.filesets import measurement_overflow_TB as fileset\n",
    "import tes.simulation.plot as splt\n",
    "import numpy as np\n",
    "import matplotlib.pyplot as plt\n",
    "import math\n",
    "import collections"
   ]
  },
  {
   "cell_type": "code",
   "execution_count": 2,
   "metadata": {
    "collapsed": false
   },
   "outputs": [],
   "source": [
    "data=Data(fileset, 8, 'teslib','measurement_overflow_TB')\n",
    "enet=PacketStream(data.byte_stream)\n",
    "dists=enet.distributions"
   ]
  },
  {
   "cell_type": "code",
   "execution_count": null,
   "metadata": {
    "collapsed": false
   },
   "outputs": [],
   "source": [
    "# compare transmitted distributions with the data\n",
    "failed=False\n",
    "if dists == []:\n",
    "    print('No distributions')\n",
    "else:\n",
    "    for dist in dists:\n",
    "        dif = (dist.counts - dist.data_counts(data))[0].nonzero()\n",
    "        if dif[0].size:\n",
    "            print('{:}\\nDoes not reconcile with the data, Differences at {:d} indexs:\\n{:}\\n'.format(\n",
    "                    dist, dif[0].size, dif[0]))\n",
    "            failed=True\n",
    "    if not failed:\n",
    "        print('Distributions agree with data')"
   ]
  },
  {
   "cell_type": "markdown",
   "metadata": {},
   "source": [
    " ## work area"
   ]
  },
  {
   "cell_type": "code",
   "execution_count": 3,
   "metadata": {
    "collapsed": false,
    "scrolled": false
   },
   "outputs": [
    {
     "data": {
      "text/plain": [
       "[ethertype:88B5 length:48 Payload:tick frame:0 protocol:0,\n",
       " ethertype:88B5 length:56 Payload:area frame:1 protocol:1,\n",
       " ethertype:88B5 length:48 Payload:tick frame:2 protocol:2,\n",
       " ethertype:88B5 length:56 Payload:area frame:3 protocol:3,\n",
       " ethertype:88B5 length:48 Payload:tick frame:4 protocol:4,\n",
       " ethertype:88B5 length:40 Payload:area frame:5 protocol:5,\n",
       " ethertype:88B5 length:48 Payload:tick frame:6 protocol:6,\n",
       " ethertype:88B5 length:40 Payload:area frame:7 protocol:7,\n",
       " ethertype:88B5 length:48 Payload:tick frame:8 protocol:8,\n",
       " ethertype:88B5 length:32 Payload:area frame:9 protocol:9,\n",
       " ethertype:88B5 length:48 Payload:tick frame:10 protocol:10]"
      ]
     },
     "execution_count": 3,
     "metadata": {},
     "output_type": "execute_result"
    }
   ],
   "source": [
    "enet.packets"
   ]
  },
  {
   "cell_type": "code",
   "execution_count": 131,
   "metadata": {
    "collapsed": false
   },
   "outputs": [
    {
     "name": "stderr",
     "output_type": "stream",
     "text": [
      "C:\\Miniconda3\\lib\\site-packages\\ipykernel\\__main__.py:1: VisibleDeprecationWarning: boolean index did not match indexed array along dimension 0; dimension is 24 but corresponding boolean dimension is 25\n",
      "  if __name__ == '__main__':\n"
     ]
    },
    {
     "data": {
      "text/plain": [
       "array([ 1064,  1084,  3010,  3051,  3805,  6055, 10754, 12154, 12374,\n",
       "       13386, 15094, 16267], dtype=uint32)"
      ]
     },
     "execution_count": 131,
     "metadata": {},
     "output_type": "execute_result"
    }
   ],
   "source": [
    "(np.cumsum(enet.packets[1].events['time'])+2)[chan_mask]"
   ]
  },
  {
   "cell_type": "code",
   "execution_count": 132,
   "metadata": {
    "collapsed": false
   },
   "outputs": [
    {
     "name": "stderr",
     "output_type": "stream",
     "text": [
      "C:\\Miniconda3\\lib\\site-packages\\ipykernel\\__main__.py:1: VisibleDeprecationWarning: boolean index did not match indexed array along dimension 0; dimension is 24 but corresponding boolean dimension is 25\n",
      "  if __name__ == '__main__':\n"
     ]
    },
    {
     "data": {
      "text/plain": [
       "array([ 607937,  638376,  342406,  495549,  945941,  434191,  812937,\n",
       "        643708, 1110337,  314593,  555769,  648803], dtype=uint32)"
      ]
     },
     "execution_count": 132,
     "metadata": {},
     "output_type": "execute_result"
    }
   ],
   "source": [
    "enet.packets[1].events['area'][chan_mask]"
   ]
  },
  {
   "cell_type": "code",
   "execution_count": 5,
   "metadata": {
    "collapsed": false
   },
   "outputs": [
    {
     "name": "stdout",
     "output_type": "stream",
     "text": [
      "2\n",
      "[False  True False  True]\n"
     ]
    },
    {
     "data": {
      "application/javascript": [
       "/* Put everything inside the global mpl namespace */\n",
       "window.mpl = {};\n",
       "\n",
       "mpl.get_websocket_type = function() {\n",
       "    if (typeof(WebSocket) !== 'undefined') {\n",
       "        return WebSocket;\n",
       "    } else if (typeof(MozWebSocket) !== 'undefined') {\n",
       "        return MozWebSocket;\n",
       "    } else {\n",
       "        alert('Your browser does not have WebSocket support.' +\n",
       "              'Please try Chrome, Safari or Firefox ≥ 6. ' +\n",
       "              'Firefox 4 and 5 are also supported but you ' +\n",
       "              'have to enable WebSockets in about:config.');\n",
       "    };\n",
       "}\n",
       "\n",
       "mpl.figure = function(figure_id, websocket, ondownload, parent_element) {\n",
       "    this.id = figure_id;\n",
       "\n",
       "    this.ws = websocket;\n",
       "\n",
       "    this.supports_binary = (this.ws.binaryType != undefined);\n",
       "\n",
       "    if (!this.supports_binary) {\n",
       "        var warnings = document.getElementById(\"mpl-warnings\");\n",
       "        if (warnings) {\n",
       "            warnings.style.display = 'block';\n",
       "            warnings.textContent = (\n",
       "                \"This browser does not support binary websocket messages. \" +\n",
       "                    \"Performance may be slow.\");\n",
       "        }\n",
       "    }\n",
       "\n",
       "    this.imageObj = new Image();\n",
       "\n",
       "    this.context = undefined;\n",
       "    this.message = undefined;\n",
       "    this.canvas = undefined;\n",
       "    this.rubberband_canvas = undefined;\n",
       "    this.rubberband_context = undefined;\n",
       "    this.format_dropdown = undefined;\n",
       "\n",
       "    this.image_mode = 'full';\n",
       "\n",
       "    this.root = $('<div/>');\n",
       "    this._root_extra_style(this.root)\n",
       "    this.root.attr('style', 'display: inline-block');\n",
       "\n",
       "    $(parent_element).append(this.root);\n",
       "\n",
       "    this._init_header(this);\n",
       "    this._init_canvas(this);\n",
       "    this._init_toolbar(this);\n",
       "\n",
       "    var fig = this;\n",
       "\n",
       "    this.waiting = false;\n",
       "\n",
       "    this.ws.onopen =  function () {\n",
       "            fig.send_message(\"supports_binary\", {value: fig.supports_binary});\n",
       "            fig.send_message(\"send_image_mode\", {});\n",
       "            fig.send_message(\"refresh\", {});\n",
       "        }\n",
       "\n",
       "    this.imageObj.onload = function() {\n",
       "            if (fig.image_mode == 'full') {\n",
       "                // Full images could contain transparency (where diff images\n",
       "                // almost always do), so we need to clear the canvas so that\n",
       "                // there is no ghosting.\n",
       "                fig.context.clearRect(0, 0, fig.canvas.width, fig.canvas.height);\n",
       "            }\n",
       "            fig.context.drawImage(fig.imageObj, 0, 0);\n",
       "        };\n",
       "\n",
       "    this.imageObj.onunload = function() {\n",
       "        this.ws.close();\n",
       "    }\n",
       "\n",
       "    this.ws.onmessage = this._make_on_message_function(this);\n",
       "\n",
       "    this.ondownload = ondownload;\n",
       "}\n",
       "\n",
       "mpl.figure.prototype._init_header = function() {\n",
       "    var titlebar = $(\n",
       "        '<div class=\"ui-dialog-titlebar ui-widget-header ui-corner-all ' +\n",
       "        'ui-helper-clearfix\"/>');\n",
       "    var titletext = $(\n",
       "        '<div class=\"ui-dialog-title\" style=\"width: 100%; ' +\n",
       "        'text-align: center; padding: 3px;\"/>');\n",
       "    titlebar.append(titletext)\n",
       "    this.root.append(titlebar);\n",
       "    this.header = titletext[0];\n",
       "}\n",
       "\n",
       "\n",
       "\n",
       "mpl.figure.prototype._canvas_extra_style = function(canvas_div) {\n",
       "\n",
       "}\n",
       "\n",
       "\n",
       "mpl.figure.prototype._root_extra_style = function(canvas_div) {\n",
       "\n",
       "}\n",
       "\n",
       "mpl.figure.prototype._init_canvas = function() {\n",
       "    var fig = this;\n",
       "\n",
       "    var canvas_div = $('<div/>');\n",
       "\n",
       "    canvas_div.attr('style', 'position: relative; clear: both; outline: 0');\n",
       "\n",
       "    function canvas_keyboard_event(event) {\n",
       "        return fig.key_event(event, event['data']);\n",
       "    }\n",
       "\n",
       "    canvas_div.keydown('key_press', canvas_keyboard_event);\n",
       "    canvas_div.keyup('key_release', canvas_keyboard_event);\n",
       "    this.canvas_div = canvas_div\n",
       "    this._canvas_extra_style(canvas_div)\n",
       "    this.root.append(canvas_div);\n",
       "\n",
       "    var canvas = $('<canvas/>');\n",
       "    canvas.addClass('mpl-canvas');\n",
       "    canvas.attr('style', \"left: 0; top: 0; z-index: 0; outline: 0\")\n",
       "\n",
       "    this.canvas = canvas[0];\n",
       "    this.context = canvas[0].getContext(\"2d\");\n",
       "\n",
       "    var rubberband = $('<canvas/>');\n",
       "    rubberband.attr('style', \"position: absolute; left: 0; top: 0; z-index: 1;\")\n",
       "\n",
       "    var pass_mouse_events = true;\n",
       "\n",
       "    canvas_div.resizable({\n",
       "        start: function(event, ui) {\n",
       "            pass_mouse_events = false;\n",
       "        },\n",
       "        resize: function(event, ui) {\n",
       "            fig.request_resize(ui.size.width, ui.size.height);\n",
       "        },\n",
       "        stop: function(event, ui) {\n",
       "            pass_mouse_events = true;\n",
       "            fig.request_resize(ui.size.width, ui.size.height);\n",
       "        },\n",
       "    });\n",
       "\n",
       "    function mouse_event_fn(event) {\n",
       "        if (pass_mouse_events)\n",
       "            return fig.mouse_event(event, event['data']);\n",
       "    }\n",
       "\n",
       "    rubberband.mousedown('button_press', mouse_event_fn);\n",
       "    rubberband.mouseup('button_release', mouse_event_fn);\n",
       "    // Throttle sequential mouse events to 1 every 20ms.\n",
       "    rubberband.mousemove('motion_notify', mouse_event_fn);\n",
       "\n",
       "    rubberband.mouseenter('figure_enter', mouse_event_fn);\n",
       "    rubberband.mouseleave('figure_leave', mouse_event_fn);\n",
       "\n",
       "    canvas_div.on(\"wheel\", function (event) {\n",
       "        event = event.originalEvent;\n",
       "        event['data'] = 'scroll'\n",
       "        if (event.deltaY < 0) {\n",
       "            event.step = 1;\n",
       "        } else {\n",
       "            event.step = -1;\n",
       "        }\n",
       "        mouse_event_fn(event);\n",
       "    });\n",
       "\n",
       "    canvas_div.append(canvas);\n",
       "    canvas_div.append(rubberband);\n",
       "\n",
       "    this.rubberband = rubberband;\n",
       "    this.rubberband_canvas = rubberband[0];\n",
       "    this.rubberband_context = rubberband[0].getContext(\"2d\");\n",
       "    this.rubberband_context.strokeStyle = \"#000000\";\n",
       "\n",
       "    this._resize_canvas = function(width, height) {\n",
       "        // Keep the size of the canvas, canvas container, and rubber band\n",
       "        // canvas in synch.\n",
       "        canvas_div.css('width', width)\n",
       "        canvas_div.css('height', height)\n",
       "\n",
       "        canvas.attr('width', width);\n",
       "        canvas.attr('height', height);\n",
       "\n",
       "        rubberband.attr('width', width);\n",
       "        rubberband.attr('height', height);\n",
       "    }\n",
       "\n",
       "    // Set the figure to an initial 600x600px, this will subsequently be updated\n",
       "    // upon first draw.\n",
       "    this._resize_canvas(600, 600);\n",
       "\n",
       "    // Disable right mouse context menu.\n",
       "    $(this.rubberband_canvas).bind(\"contextmenu\",function(e){\n",
       "        return false;\n",
       "    });\n",
       "\n",
       "    function set_focus () {\n",
       "        canvas.focus();\n",
       "        canvas_div.focus();\n",
       "    }\n",
       "\n",
       "    window.setTimeout(set_focus, 100);\n",
       "}\n",
       "\n",
       "mpl.figure.prototype._init_toolbar = function() {\n",
       "    var fig = this;\n",
       "\n",
       "    var nav_element = $('<div/>')\n",
       "    nav_element.attr('style', 'width: 100%');\n",
       "    this.root.append(nav_element);\n",
       "\n",
       "    // Define a callback function for later on.\n",
       "    function toolbar_event(event) {\n",
       "        return fig.toolbar_button_onclick(event['data']);\n",
       "    }\n",
       "    function toolbar_mouse_event(event) {\n",
       "        return fig.toolbar_button_onmouseover(event['data']);\n",
       "    }\n",
       "\n",
       "    for(var toolbar_ind in mpl.toolbar_items) {\n",
       "        var name = mpl.toolbar_items[toolbar_ind][0];\n",
       "        var tooltip = mpl.toolbar_items[toolbar_ind][1];\n",
       "        var image = mpl.toolbar_items[toolbar_ind][2];\n",
       "        var method_name = mpl.toolbar_items[toolbar_ind][3];\n",
       "\n",
       "        if (!name) {\n",
       "            // put a spacer in here.\n",
       "            continue;\n",
       "        }\n",
       "        var button = $('<button/>');\n",
       "        button.addClass('ui-button ui-widget ui-state-default ui-corner-all ' +\n",
       "                        'ui-button-icon-only');\n",
       "        button.attr('role', 'button');\n",
       "        button.attr('aria-disabled', 'false');\n",
       "        button.click(method_name, toolbar_event);\n",
       "        button.mouseover(tooltip, toolbar_mouse_event);\n",
       "\n",
       "        var icon_img = $('<span/>');\n",
       "        icon_img.addClass('ui-button-icon-primary ui-icon');\n",
       "        icon_img.addClass(image);\n",
       "        icon_img.addClass('ui-corner-all');\n",
       "\n",
       "        var tooltip_span = $('<span/>');\n",
       "        tooltip_span.addClass('ui-button-text');\n",
       "        tooltip_span.html(tooltip);\n",
       "\n",
       "        button.append(icon_img);\n",
       "        button.append(tooltip_span);\n",
       "\n",
       "        nav_element.append(button);\n",
       "    }\n",
       "\n",
       "    var fmt_picker_span = $('<span/>');\n",
       "\n",
       "    var fmt_picker = $('<select/>');\n",
       "    fmt_picker.addClass('mpl-toolbar-option ui-widget ui-widget-content');\n",
       "    fmt_picker_span.append(fmt_picker);\n",
       "    nav_element.append(fmt_picker_span);\n",
       "    this.format_dropdown = fmt_picker[0];\n",
       "\n",
       "    for (var ind in mpl.extensions) {\n",
       "        var fmt = mpl.extensions[ind];\n",
       "        var option = $(\n",
       "            '<option/>', {selected: fmt === mpl.default_extension}).html(fmt);\n",
       "        fmt_picker.append(option)\n",
       "    }\n",
       "\n",
       "    // Add hover states to the ui-buttons\n",
       "    $( \".ui-button\" ).hover(\n",
       "        function() { $(this).addClass(\"ui-state-hover\");},\n",
       "        function() { $(this).removeClass(\"ui-state-hover\");}\n",
       "    );\n",
       "\n",
       "    var status_bar = $('<span class=\"mpl-message\"/>');\n",
       "    nav_element.append(status_bar);\n",
       "    this.message = status_bar[0];\n",
       "}\n",
       "\n",
       "mpl.figure.prototype.request_resize = function(x_pixels, y_pixels) {\n",
       "    // Request matplotlib to resize the figure. Matplotlib will then trigger a resize in the client,\n",
       "    // which will in turn request a refresh of the image.\n",
       "    this.send_message('resize', {'width': x_pixels, 'height': y_pixels});\n",
       "}\n",
       "\n",
       "mpl.figure.prototype.send_message = function(type, properties) {\n",
       "    properties['type'] = type;\n",
       "    properties['figure_id'] = this.id;\n",
       "    this.ws.send(JSON.stringify(properties));\n",
       "}\n",
       "\n",
       "mpl.figure.prototype.send_draw_message = function() {\n",
       "    if (!this.waiting) {\n",
       "        this.waiting = true;\n",
       "        this.ws.send(JSON.stringify({type: \"draw\", figure_id: this.id}));\n",
       "    }\n",
       "}\n",
       "\n",
       "\n",
       "mpl.figure.prototype.handle_save = function(fig, msg) {\n",
       "    var format_dropdown = fig.format_dropdown;\n",
       "    var format = format_dropdown.options[format_dropdown.selectedIndex].value;\n",
       "    fig.ondownload(fig, format);\n",
       "}\n",
       "\n",
       "\n",
       "mpl.figure.prototype.handle_resize = function(fig, msg) {\n",
       "    var size = msg['size'];\n",
       "    if (size[0] != fig.canvas.width || size[1] != fig.canvas.height) {\n",
       "        fig._resize_canvas(size[0], size[1]);\n",
       "        fig.send_message(\"refresh\", {});\n",
       "    };\n",
       "}\n",
       "\n",
       "mpl.figure.prototype.handle_rubberband = function(fig, msg) {\n",
       "    var x0 = msg['x0'];\n",
       "    var y0 = fig.canvas.height - msg['y0'];\n",
       "    var x1 = msg['x1'];\n",
       "    var y1 = fig.canvas.height - msg['y1'];\n",
       "    x0 = Math.floor(x0) + 0.5;\n",
       "    y0 = Math.floor(y0) + 0.5;\n",
       "    x1 = Math.floor(x1) + 0.5;\n",
       "    y1 = Math.floor(y1) + 0.5;\n",
       "    var min_x = Math.min(x0, x1);\n",
       "    var min_y = Math.min(y0, y1);\n",
       "    var width = Math.abs(x1 - x0);\n",
       "    var height = Math.abs(y1 - y0);\n",
       "\n",
       "    fig.rubberband_context.clearRect(\n",
       "        0, 0, fig.canvas.width, fig.canvas.height);\n",
       "\n",
       "    fig.rubberband_context.strokeRect(min_x, min_y, width, height);\n",
       "}\n",
       "\n",
       "mpl.figure.prototype.handle_figure_label = function(fig, msg) {\n",
       "    // Updates the figure title.\n",
       "    fig.header.textContent = msg['label'];\n",
       "}\n",
       "\n",
       "mpl.figure.prototype.handle_cursor = function(fig, msg) {\n",
       "    var cursor = msg['cursor'];\n",
       "    switch(cursor)\n",
       "    {\n",
       "    case 0:\n",
       "        cursor = 'pointer';\n",
       "        break;\n",
       "    case 1:\n",
       "        cursor = 'default';\n",
       "        break;\n",
       "    case 2:\n",
       "        cursor = 'crosshair';\n",
       "        break;\n",
       "    case 3:\n",
       "        cursor = 'move';\n",
       "        break;\n",
       "    }\n",
       "    fig.rubberband_canvas.style.cursor = cursor;\n",
       "}\n",
       "\n",
       "mpl.figure.prototype.handle_message = function(fig, msg) {\n",
       "    fig.message.textContent = msg['message'];\n",
       "}\n",
       "\n",
       "mpl.figure.prototype.handle_draw = function(fig, msg) {\n",
       "    // Request the server to send over a new figure.\n",
       "    fig.send_draw_message();\n",
       "}\n",
       "\n",
       "mpl.figure.prototype.handle_image_mode = function(fig, msg) {\n",
       "    fig.image_mode = msg['mode'];\n",
       "}\n",
       "\n",
       "mpl.figure.prototype.updated_canvas_event = function() {\n",
       "    // Called whenever the canvas gets updated.\n",
       "    this.send_message(\"ack\", {});\n",
       "}\n",
       "\n",
       "// A function to construct a web socket function for onmessage handling.\n",
       "// Called in the figure constructor.\n",
       "mpl.figure.prototype._make_on_message_function = function(fig) {\n",
       "    return function socket_on_message(evt) {\n",
       "        if (evt.data instanceof Blob) {\n",
       "            /* FIXME: We get \"Resource interpreted as Image but\n",
       "             * transferred with MIME type text/plain:\" errors on\n",
       "             * Chrome.  But how to set the MIME type?  It doesn't seem\n",
       "             * to be part of the websocket stream */\n",
       "            evt.data.type = \"image/png\";\n",
       "\n",
       "            /* Free the memory for the previous frames */\n",
       "            if (fig.imageObj.src) {\n",
       "                (window.URL || window.webkitURL).revokeObjectURL(\n",
       "                    fig.imageObj.src);\n",
       "            }\n",
       "\n",
       "            fig.imageObj.src = (window.URL || window.webkitURL).createObjectURL(\n",
       "                evt.data);\n",
       "            fig.updated_canvas_event();\n",
       "            fig.waiting = false;\n",
       "            return;\n",
       "        }\n",
       "        else if (typeof evt.data === 'string' && evt.data.slice(0, 21) == \"data:image/png;base64\") {\n",
       "            fig.imageObj.src = evt.data;\n",
       "            fig.updated_canvas_event();\n",
       "            fig.waiting = false;\n",
       "            return;\n",
       "        }\n",
       "\n",
       "        var msg = JSON.parse(evt.data);\n",
       "        var msg_type = msg['type'];\n",
       "\n",
       "        // Call the  \"handle_{type}\" callback, which takes\n",
       "        // the figure and JSON message as its only arguments.\n",
       "        try {\n",
       "            var callback = fig[\"handle_\" + msg_type];\n",
       "        } catch (e) {\n",
       "            console.log(\"No handler for the '\" + msg_type + \"' message type: \", msg);\n",
       "            return;\n",
       "        }\n",
       "\n",
       "        if (callback) {\n",
       "            try {\n",
       "                // console.log(\"Handling '\" + msg_type + \"' message: \", msg);\n",
       "                callback(fig, msg);\n",
       "            } catch (e) {\n",
       "                console.log(\"Exception inside the 'handler_\" + msg_type + \"' callback:\", e, e.stack, msg);\n",
       "            }\n",
       "        }\n",
       "    };\n",
       "}\n",
       "\n",
       "// from http://stackoverflow.com/questions/1114465/getting-mouse-location-in-canvas\n",
       "mpl.findpos = function(e) {\n",
       "    //this section is from http://www.quirksmode.org/js/events_properties.html\n",
       "    var targ;\n",
       "    if (!e)\n",
       "        e = window.event;\n",
       "    if (e.target)\n",
       "        targ = e.target;\n",
       "    else if (e.srcElement)\n",
       "        targ = e.srcElement;\n",
       "    if (targ.nodeType == 3) // defeat Safari bug\n",
       "        targ = targ.parentNode;\n",
       "\n",
       "    // jQuery normalizes the pageX and pageY\n",
       "    // pageX,Y are the mouse positions relative to the document\n",
       "    // offset() returns the position of the element relative to the document\n",
       "    var x = e.pageX - $(targ).offset().left;\n",
       "    var y = e.pageY - $(targ).offset().top;\n",
       "\n",
       "    return {\"x\": x, \"y\": y};\n",
       "};\n",
       "\n",
       "/*\n",
       " * return a copy of an object with only non-object keys\n",
       " * we need this to avoid circular references\n",
       " * http://stackoverflow.com/a/24161582/3208463\n",
       " */\n",
       "function simpleKeys (original) {\n",
       "  return Object.keys(original).reduce(function (obj, key) {\n",
       "    if (typeof original[key] !== 'object')\n",
       "        obj[key] = original[key]\n",
       "    return obj;\n",
       "  }, {});\n",
       "}\n",
       "\n",
       "mpl.figure.prototype.mouse_event = function(event, name) {\n",
       "    var canvas_pos = mpl.findpos(event)\n",
       "\n",
       "    if (name === 'button_press')\n",
       "    {\n",
       "        this.canvas.focus();\n",
       "        this.canvas_div.focus();\n",
       "    }\n",
       "\n",
       "    var x = canvas_pos.x;\n",
       "    var y = canvas_pos.y;\n",
       "\n",
       "    this.send_message(name, {x: x, y: y, button: event.button,\n",
       "                             step: event.step,\n",
       "                             guiEvent: simpleKeys(event)});\n",
       "\n",
       "    /* This prevents the web browser from automatically changing to\n",
       "     * the text insertion cursor when the button is pressed.  We want\n",
       "     * to control all of the cursor setting manually through the\n",
       "     * 'cursor' event from matplotlib */\n",
       "    event.preventDefault();\n",
       "    return false;\n",
       "}\n",
       "\n",
       "mpl.figure.prototype._key_event_extra = function(event, name) {\n",
       "    // Handle any extra behaviour associated with a key event\n",
       "}\n",
       "\n",
       "mpl.figure.prototype.key_event = function(event, name) {\n",
       "\n",
       "    // Prevent repeat events\n",
       "    if (name == 'key_press')\n",
       "    {\n",
       "        if (event.which === this._key)\n",
       "            return;\n",
       "        else\n",
       "            this._key = event.which;\n",
       "    }\n",
       "    if (name == 'key_release')\n",
       "        this._key = null;\n",
       "\n",
       "    var value = '';\n",
       "    if (event.ctrlKey && event.which != 17)\n",
       "        value += \"ctrl+\";\n",
       "    if (event.altKey && event.which != 18)\n",
       "        value += \"alt+\";\n",
       "    if (event.shiftKey && event.which != 16)\n",
       "        value += \"shift+\";\n",
       "\n",
       "    value += 'k';\n",
       "    value += event.which.toString();\n",
       "\n",
       "    this._key_event_extra(event, name);\n",
       "\n",
       "    this.send_message(name, {key: value,\n",
       "                             guiEvent: simpleKeys(event)});\n",
       "    return false;\n",
       "}\n",
       "\n",
       "mpl.figure.prototype.toolbar_button_onclick = function(name) {\n",
       "    if (name == 'download') {\n",
       "        this.handle_save(this, null);\n",
       "    } else {\n",
       "        this.send_message(\"toolbar_button\", {name: name});\n",
       "    }\n",
       "};\n",
       "\n",
       "mpl.figure.prototype.toolbar_button_onmouseover = function(tooltip) {\n",
       "    this.message.textContent = tooltip;\n",
       "};\n",
       "mpl.toolbar_items = [[\"Home\", \"Reset original view\", \"fa fa-home icon-home\", \"home\"], [\"Back\", \"Back to  previous view\", \"fa fa-arrow-left icon-arrow-left\", \"back\"], [\"Forward\", \"Forward to next view\", \"fa fa-arrow-right icon-arrow-right\", \"forward\"], [\"\", \"\", \"\", \"\"], [\"Pan\", \"Pan axes with left mouse, zoom with right\", \"fa fa-arrows icon-move\", \"pan\"], [\"Zoom\", \"Zoom to rectangle\", \"fa fa-square-o icon-check-empty\", \"zoom\"], [\"\", \"\", \"\", \"\"], [\"Download\", \"Download plot\", \"fa fa-floppy-o icon-save\", \"download\"]];\n",
       "\n",
       "mpl.extensions = [\"eps\", \"jpeg\", \"pdf\", \"png\", \"ps\", \"raw\", \"svg\", \"tif\"];\n",
       "\n",
       "mpl.default_extension = \"png\";var comm_websocket_adapter = function(comm) {\n",
       "    // Create a \"websocket\"-like object which calls the given IPython comm\n",
       "    // object with the appropriate methods. Currently this is a non binary\n",
       "    // socket, so there is still some room for performance tuning.\n",
       "    var ws = {};\n",
       "\n",
       "    ws.close = function() {\n",
       "        comm.close()\n",
       "    };\n",
       "    ws.send = function(m) {\n",
       "        //console.log('sending', m);\n",
       "        comm.send(m);\n",
       "    };\n",
       "    // Register the callback with on_msg.\n",
       "    comm.on_msg(function(msg) {\n",
       "        //console.log('receiving', msg['content']['data'], msg);\n",
       "        // Pass the mpl event to the overriden (by mpl) onmessage function.\n",
       "        ws.onmessage(msg['content']['data'])\n",
       "    });\n",
       "    return ws;\n",
       "}\n",
       "\n",
       "mpl.mpl_figure_comm = function(comm, msg) {\n",
       "    // This is the function which gets called when the mpl process\n",
       "    // starts-up an IPython Comm through the \"matplotlib\" channel.\n",
       "\n",
       "    var id = msg.content.data.id;\n",
       "    // Get hold of the div created by the display call when the Comm\n",
       "    // socket was opened in Python.\n",
       "    var element = $(\"#\" + id);\n",
       "    var ws_proxy = comm_websocket_adapter(comm)\n",
       "\n",
       "    function ondownload(figure, format) {\n",
       "        window.open(figure.imageObj.src);\n",
       "    }\n",
       "\n",
       "    var fig = new mpl.figure(id, ws_proxy,\n",
       "                           ondownload,\n",
       "                           element.get(0));\n",
       "\n",
       "    // Call onopen now - mpl needs it, as it is assuming we've passed it a real\n",
       "    // web socket which is closed, not our websocket->open comm proxy.\n",
       "    ws_proxy.onopen();\n",
       "\n",
       "    fig.parent_element = element.get(0);\n",
       "    fig.cell_info = mpl.find_output_cell(\"<div id='\" + id + \"'></div>\");\n",
       "    if (!fig.cell_info) {\n",
       "        console.error(\"Failed to find cell for figure\", id, fig);\n",
       "        return;\n",
       "    }\n",
       "\n",
       "    var output_index = fig.cell_info[2]\n",
       "    var cell = fig.cell_info[0];\n",
       "\n",
       "};\n",
       "\n",
       "mpl.figure.prototype.handle_close = function(fig, msg) {\n",
       "    fig.root.unbind('remove')\n",
       "\n",
       "    // Update the output cell to use the data from the current canvas.\n",
       "    fig.push_to_output();\n",
       "    var dataURL = fig.canvas.toDataURL();\n",
       "    // Re-enable the keyboard manager in IPython - without this line, in FF,\n",
       "    // the notebook keyboard shortcuts fail.\n",
       "    IPython.keyboard_manager.enable()\n",
       "    $(fig.parent_element).html('<img src=\"' + dataURL + '\">');\n",
       "    fig.close_ws(fig, msg);\n",
       "}\n",
       "\n",
       "mpl.figure.prototype.close_ws = function(fig, msg){\n",
       "    fig.send_message('closing', msg);\n",
       "    // fig.ws.close()\n",
       "}\n",
       "\n",
       "mpl.figure.prototype.push_to_output = function(remove_interactive) {\n",
       "    // Turn the data on the canvas into data in the output cell.\n",
       "    var dataURL = this.canvas.toDataURL();\n",
       "    this.cell_info[1]['text/html'] = '<img src=\"' + dataURL + '\">';\n",
       "}\n",
       "\n",
       "mpl.figure.prototype.updated_canvas_event = function() {\n",
       "    // Tell IPython that the notebook contents must change.\n",
       "    IPython.notebook.set_dirty(true);\n",
       "    this.send_message(\"ack\", {});\n",
       "    var fig = this;\n",
       "    // Wait a second, then push the new image to the DOM so\n",
       "    // that it is saved nicely (might be nice to debounce this).\n",
       "    setTimeout(function () { fig.push_to_output() }, 1000);\n",
       "}\n",
       "\n",
       "mpl.figure.prototype._init_toolbar = function() {\n",
       "    var fig = this;\n",
       "\n",
       "    var nav_element = $('<div/>')\n",
       "    nav_element.attr('style', 'width: 100%');\n",
       "    this.root.append(nav_element);\n",
       "\n",
       "    // Define a callback function for later on.\n",
       "    function toolbar_event(event) {\n",
       "        return fig.toolbar_button_onclick(event['data']);\n",
       "    }\n",
       "    function toolbar_mouse_event(event) {\n",
       "        return fig.toolbar_button_onmouseover(event['data']);\n",
       "    }\n",
       "\n",
       "    for(var toolbar_ind in mpl.toolbar_items){\n",
       "        var name = mpl.toolbar_items[toolbar_ind][0];\n",
       "        var tooltip = mpl.toolbar_items[toolbar_ind][1];\n",
       "        var image = mpl.toolbar_items[toolbar_ind][2];\n",
       "        var method_name = mpl.toolbar_items[toolbar_ind][3];\n",
       "\n",
       "        if (!name) { continue; };\n",
       "\n",
       "        var button = $('<button class=\"btn btn-default\" href=\"#\" title=\"' + name + '\"><i class=\"fa ' + image + ' fa-lg\"></i></button>');\n",
       "        button.click(method_name, toolbar_event);\n",
       "        button.mouseover(tooltip, toolbar_mouse_event);\n",
       "        nav_element.append(button);\n",
       "    }\n",
       "\n",
       "    // Add the status bar.\n",
       "    var status_bar = $('<span class=\"mpl-message\" style=\"text-align:right; float: right;\"/>');\n",
       "    nav_element.append(status_bar);\n",
       "    this.message = status_bar[0];\n",
       "\n",
       "    // Add the close button to the window.\n",
       "    var buttongrp = $('<div class=\"btn-group inline pull-right\"></div>');\n",
       "    var button = $('<button class=\"btn btn-mini btn-primary\" href=\"#\" title=\"Stop Interaction\"><i class=\"fa fa-power-off icon-remove icon-large\"></i></button>');\n",
       "    button.click(function (evt) { fig.handle_close(fig, {}); } );\n",
       "    button.mouseover('Stop Interaction', toolbar_mouse_event);\n",
       "    buttongrp.append(button);\n",
       "    var titlebar = this.root.find($('.ui-dialog-titlebar'));\n",
       "    titlebar.prepend(buttongrp);\n",
       "}\n",
       "\n",
       "mpl.figure.prototype._root_extra_style = function(el){\n",
       "    var fig = this\n",
       "    el.on(\"remove\", function(){\n",
       "\tfig.close_ws(fig, {});\n",
       "    });\n",
       "}\n",
       "\n",
       "mpl.figure.prototype._canvas_extra_style = function(el){\n",
       "    // this is important to make the div 'focusable\n",
       "    el.attr('tabindex', 0)\n",
       "    // reach out to IPython and tell the keyboard manager to turn it's self\n",
       "    // off when our div gets focus\n",
       "\n",
       "    // location in version 3\n",
       "    if (IPython.notebook.keyboard_manager) {\n",
       "        IPython.notebook.keyboard_manager.register_events(el);\n",
       "    }\n",
       "    else {\n",
       "        // location in version 2\n",
       "        IPython.keyboard_manager.register_events(el);\n",
       "    }\n",
       "\n",
       "}\n",
       "\n",
       "mpl.figure.prototype._key_event_extra = function(event, name) {\n",
       "    var manager = IPython.notebook.keyboard_manager;\n",
       "    if (!manager)\n",
       "        manager = IPython.keyboard_manager;\n",
       "\n",
       "    // Check for shift+enter\n",
       "    if (event.shiftKey && event.which == 13) {\n",
       "        this.canvas_div.blur();\n",
       "        event.shiftKey = false;\n",
       "        // Send a \"J\" for go to next cell\n",
       "        event.which = 74;\n",
       "        event.keyCode = 74;\n",
       "        manager.command_mode();\n",
       "        manager.handle_keydown(event);\n",
       "    }\n",
       "}\n",
       "\n",
       "mpl.figure.prototype.handle_save = function(fig, msg) {\n",
       "    fig.ondownload(fig, null);\n",
       "}\n",
       "\n",
       "\n",
       "mpl.find_output_cell = function(html_output) {\n",
       "    // Return the cell and output element which can be found *uniquely* in the notebook.\n",
       "    // Note - this is a bit hacky, but it is done because the \"notebook_saving.Notebook\"\n",
       "    // IPython event is triggered only after the cells have been serialised, which for\n",
       "    // our purposes (turning an active figure into a static one), is too late.\n",
       "    var cells = IPython.notebook.get_cells();\n",
       "    var ncells = cells.length;\n",
       "    for (var i=0; i<ncells; i++) {\n",
       "        var cell = cells[i];\n",
       "        if (cell.cell_type === 'code'){\n",
       "            for (var j=0; j<cell.output_area.outputs.length; j++) {\n",
       "                var data = cell.output_area.outputs[j];\n",
       "                if (data.data) {\n",
       "                    // IPython >= 3 moved mimebundle to data attribute of output\n",
       "                    data = data.data;\n",
       "                }\n",
       "                if (data['text/html'] == html_output) {\n",
       "                    return [cell, data, j];\n",
       "                }\n",
       "            }\n",
       "        }\n",
       "    }\n",
       "}\n",
       "\n",
       "// Register the function which deals with the matplotlib target/channel.\n",
       "// The kernel may be null if the page has been refreshed.\n",
       "if (IPython.notebook.kernel != null) {\n",
       "    IPython.notebook.kernel.comm_manager.register_target('matplotlib', mpl.mpl_figure_comm);\n",
       "}\n"
      ],
      "text/plain": [
       "<IPython.core.display.Javascript object>"
      ]
     },
     "metadata": {},
     "output_type": "display_data"
    },
    {
     "data": {
      "text/html": [
       "<img src=\"data:image/png;base64,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\">"
      ],
      "text/plain": [
       "<IPython.core.display.HTML object>"
      ]
     },
     "metadata": {},
     "output_type": "display_data"
    },
    {
     "name": "stdout",
     "output_type": "stream",
     "text": [
      "16386\n",
      "[False False  True False]\n",
      "32770\n",
      "[False False]\n",
      "49154\n",
      "[ True  True]\n",
      "65538\n",
      "[False]\n",
      "81922\n"
     ]
    },
    {
     "data": {
      "text/plain": [
       "[<matplotlib.lines.Line2D at 0x75ae438>]"
      ]
     },
     "execution_count": 5,
     "metadata": {},
     "output_type": "execute_result"
    }
   ],
   "source": [
    "%matplotlib notebook\n",
    "channel=1\n",
    "abstime = 2\n",
    "for p in enet.packets:\n",
    "#p=enet.packets[1]\n",
    "    if p.payload_type == sim.PayloadType.tick:\n",
    "        abstime = p.events['timestamp'][0]\n",
    "        print(abstime)\n",
    "    elif p.payload_type == sim.PayloadType.area:\n",
    "        e = p.events\n",
    "        times = np.cumsum(e['time'])+abstime\n",
    "        chan_mask = np.bitwise_and(e['flags'][:, 0], 0x07) == channel\n",
    "        print(chan_mask)\n",
    "        if len(times[chan_mask]):\n",
    "            plt.stem(times[chan_mask],e['area'][chan_mask],basefmt=':')\n",
    "        abstime = times[-1]\n",
    "        \n",
    "s=data.slice((0,times[-1]))\n",
    "plt.step(np.arange(s.bounds[0],s.bounds[1]),np.int32(s.trace[channel]['filtered'])*1000,'r')\n",
    "plt.step(np.arange(s.bounds[0],s.bounds[1]),np.int32(s.trace[channel]['slope'])*100,'b')\n"
   ]
  },
  {
   "cell_type": "code",
   "execution_count": 27,
   "metadata": {
    "collapsed": false
   },
   "outputs": [
    {
     "data": {
      "text/plain": [
       "array([ 186785,  156168,   44438,  638364,    2447,   83167,  342395,\n",
       "        945920,  393592,  434179,  118885,  890854,  280071,  104289,\n",
       "        106702,  156381,  812927,  220881, 1110323,  314581,  287620,\n",
       "        555757, 1274229,  478560,  154884,  347451,  822668,  299471,\n",
       "         79341,  770670,  364239,  246003,    7669,  602890,  351819,\n",
       "        322509,  570318,  116869,  633833, 1163279,  747100,  118891,\n",
       "        110590,  479312,  234304,   36317,  163876,   34173,   62222,\n",
       "        546441,  597641,  332824,   51737,  467994,    7965,  376991,\n",
       "        249243,  418838, 1295331,  568441,  193991,  642708,  268514,\n",
       "         25757,  624603,  325763,  916097,  818014,  544652,  477634,\n",
       "       1011104,  780373,  211055,   42507,   10634,   46401,   28881,\n",
       "        336464,   82629,  924529,  836589,  428653,  144612,  884066,\n",
       "        726067,  272664,   11244,  972121,  975716,   33078,  756545,\n",
       "         57165,  232025,  144068,  736998,  929110,  717672,  852828,\n",
       "         33491,  291581,   92643,   43345,  109994,  595997,  770785,\n",
       "        409810,   98658,  160407,  429398,  374308,  421041,  561085,\n",
       "        169080,  291491,  345130,  221613,  895502,   62494,  306531,\n",
       "        633025,  171887,  546955,  336690,  394254,  826531,  524970,\n",
       "         21228,   32874,  629707,  464836,  164193,  438134,  447313,\n",
       "        262875,  130412,  711707,   83765,  625464,   86911,  112537,\n",
       "        331196,   24418,   59434,   89849,  550604,   68675,  159199], dtype=uint32)"
      ]
     },
     "execution_count": 27,
     "metadata": {},
     "output_type": "execute_result"
    }
   ],
   "source": [
    "areas=np.zeros(len(pos_xings)-1,np.uint32)\n",
    "for i in range(len(pos_xings)-1):\n",
    "    areas[i] = sum(data.trace[0]['filtered'][pos_xings[i]+1:neg_xings[i]+1])\n",
    "areas"
   ]
  },
  {
   "cell_type": "code",
   "execution_count": 32,
   "metadata": {
    "collapsed": false
   },
   "outputs": [
    {
     "data": {
      "text/plain": [
       "array([ 186797,  156181,   44448,  638376,    2453,   83172,  342406,\n",
       "        945941,  393604,  434191,  118893,  890869,  280080,  104295,\n",
       "        106713,  156391,  812937,  220891, 1110337,  314593,  287628,\n",
       "        555769, 1274245,  478570], dtype=uint32)"
      ]
     },
     "execution_count": 32,
     "metadata": {},
     "output_type": "execute_result"
    }
   ],
   "source": [
    "chan_mask = np.bitwise_and(e['flags'][:, 0], 0x07) == 0\n",
    "enet.packets[1].events['area'][chan_mask]"
   ]
  },
  {
   "cell_type": "code",
   "execution_count": 30,
   "metadata": {
    "collapsed": false,
    "scrolled": false
   },
   "outputs": [
    {
     "data": {
      "application/javascript": [
       "/* Put everything inside the global mpl namespace */\n",
       "window.mpl = {};\n",
       "\n",
       "mpl.get_websocket_type = function() {\n",
       "    if (typeof(WebSocket) !== 'undefined') {\n",
       "        return WebSocket;\n",
       "    } else if (typeof(MozWebSocket) !== 'undefined') {\n",
       "        return MozWebSocket;\n",
       "    } else {\n",
       "        alert('Your browser does not have WebSocket support.' +\n",
       "              'Please try Chrome, Safari or Firefox ≥ 6. ' +\n",
       "              'Firefox 4 and 5 are also supported but you ' +\n",
       "              'have to enable WebSockets in about:config.');\n",
       "    };\n",
       "}\n",
       "\n",
       "mpl.figure = function(figure_id, websocket, ondownload, parent_element) {\n",
       "    this.id = figure_id;\n",
       "\n",
       "    this.ws = websocket;\n",
       "\n",
       "    this.supports_binary = (this.ws.binaryType != undefined);\n",
       "\n",
       "    if (!this.supports_binary) {\n",
       "        var warnings = document.getElementById(\"mpl-warnings\");\n",
       "        if (warnings) {\n",
       "            warnings.style.display = 'block';\n",
       "            warnings.textContent = (\n",
       "                \"This browser does not support binary websocket messages. \" +\n",
       "                    \"Performance may be slow.\");\n",
       "        }\n",
       "    }\n",
       "\n",
       "    this.imageObj = new Image();\n",
       "\n",
       "    this.context = undefined;\n",
       "    this.message = undefined;\n",
       "    this.canvas = undefined;\n",
       "    this.rubberband_canvas = undefined;\n",
       "    this.rubberband_context = undefined;\n",
       "    this.format_dropdown = undefined;\n",
       "\n",
       "    this.image_mode = 'full';\n",
       "\n",
       "    this.root = $('<div/>');\n",
       "    this._root_extra_style(this.root)\n",
       "    this.root.attr('style', 'display: inline-block');\n",
       "\n",
       "    $(parent_element).append(this.root);\n",
       "\n",
       "    this._init_header(this);\n",
       "    this._init_canvas(this);\n",
       "    this._init_toolbar(this);\n",
       "\n",
       "    var fig = this;\n",
       "\n",
       "    this.waiting = false;\n",
       "\n",
       "    this.ws.onopen =  function () {\n",
       "            fig.send_message(\"supports_binary\", {value: fig.supports_binary});\n",
       "            fig.send_message(\"send_image_mode\", {});\n",
       "            fig.send_message(\"refresh\", {});\n",
       "        }\n",
       "\n",
       "    this.imageObj.onload = function() {\n",
       "            if (fig.image_mode == 'full') {\n",
       "                // Full images could contain transparency (where diff images\n",
       "                // almost always do), so we need to clear the canvas so that\n",
       "                // there is no ghosting.\n",
       "                fig.context.clearRect(0, 0, fig.canvas.width, fig.canvas.height);\n",
       "            }\n",
       "            fig.context.drawImage(fig.imageObj, 0, 0);\n",
       "        };\n",
       "\n",
       "    this.imageObj.onunload = function() {\n",
       "        this.ws.close();\n",
       "    }\n",
       "\n",
       "    this.ws.onmessage = this._make_on_message_function(this);\n",
       "\n",
       "    this.ondownload = ondownload;\n",
       "}\n",
       "\n",
       "mpl.figure.prototype._init_header = function() {\n",
       "    var titlebar = $(\n",
       "        '<div class=\"ui-dialog-titlebar ui-widget-header ui-corner-all ' +\n",
       "        'ui-helper-clearfix\"/>');\n",
       "    var titletext = $(\n",
       "        '<div class=\"ui-dialog-title\" style=\"width: 100%; ' +\n",
       "        'text-align: center; padding: 3px;\"/>');\n",
       "    titlebar.append(titletext)\n",
       "    this.root.append(titlebar);\n",
       "    this.header = titletext[0];\n",
       "}\n",
       "\n",
       "\n",
       "\n",
       "mpl.figure.prototype._canvas_extra_style = function(canvas_div) {\n",
       "\n",
       "}\n",
       "\n",
       "\n",
       "mpl.figure.prototype._root_extra_style = function(canvas_div) {\n",
       "\n",
       "}\n",
       "\n",
       "mpl.figure.prototype._init_canvas = function() {\n",
       "    var fig = this;\n",
       "\n",
       "    var canvas_div = $('<div/>');\n",
       "\n",
       "    canvas_div.attr('style', 'position: relative; clear: both; outline: 0');\n",
       "\n",
       "    function canvas_keyboard_event(event) {\n",
       "        return fig.key_event(event, event['data']);\n",
       "    }\n",
       "\n",
       "    canvas_div.keydown('key_press', canvas_keyboard_event);\n",
       "    canvas_div.keyup('key_release', canvas_keyboard_event);\n",
       "    this.canvas_div = canvas_div\n",
       "    this._canvas_extra_style(canvas_div)\n",
       "    this.root.append(canvas_div);\n",
       "\n",
       "    var canvas = $('<canvas/>');\n",
       "    canvas.addClass('mpl-canvas');\n",
       "    canvas.attr('style', \"left: 0; top: 0; z-index: 0; outline: 0\")\n",
       "\n",
       "    this.canvas = canvas[0];\n",
       "    this.context = canvas[0].getContext(\"2d\");\n",
       "\n",
       "    var rubberband = $('<canvas/>');\n",
       "    rubberband.attr('style', \"position: absolute; left: 0; top: 0; z-index: 1;\")\n",
       "\n",
       "    var pass_mouse_events = true;\n",
       "\n",
       "    canvas_div.resizable({\n",
       "        start: function(event, ui) {\n",
       "            pass_mouse_events = false;\n",
       "        },\n",
       "        resize: function(event, ui) {\n",
       "            fig.request_resize(ui.size.width, ui.size.height);\n",
       "        },\n",
       "        stop: function(event, ui) {\n",
       "            pass_mouse_events = true;\n",
       "            fig.request_resize(ui.size.width, ui.size.height);\n",
       "        },\n",
       "    });\n",
       "\n",
       "    function mouse_event_fn(event) {\n",
       "        if (pass_mouse_events)\n",
       "            return fig.mouse_event(event, event['data']);\n",
       "    }\n",
       "\n",
       "    rubberband.mousedown('button_press', mouse_event_fn);\n",
       "    rubberband.mouseup('button_release', mouse_event_fn);\n",
       "    // Throttle sequential mouse events to 1 every 20ms.\n",
       "    rubberband.mousemove('motion_notify', mouse_event_fn);\n",
       "\n",
       "    rubberband.mouseenter('figure_enter', mouse_event_fn);\n",
       "    rubberband.mouseleave('figure_leave', mouse_event_fn);\n",
       "\n",
       "    canvas_div.on(\"wheel\", function (event) {\n",
       "        event = event.originalEvent;\n",
       "        event['data'] = 'scroll'\n",
       "        if (event.deltaY < 0) {\n",
       "            event.step = 1;\n",
       "        } else {\n",
       "            event.step = -1;\n",
       "        }\n",
       "        mouse_event_fn(event);\n",
       "    });\n",
       "\n",
       "    canvas_div.append(canvas);\n",
       "    canvas_div.append(rubberband);\n",
       "\n",
       "    this.rubberband = rubberband;\n",
       "    this.rubberband_canvas = rubberband[0];\n",
       "    this.rubberband_context = rubberband[0].getContext(\"2d\");\n",
       "    this.rubberband_context.strokeStyle = \"#000000\";\n",
       "\n",
       "    this._resize_canvas = function(width, height) {\n",
       "        // Keep the size of the canvas, canvas container, and rubber band\n",
       "        // canvas in synch.\n",
       "        canvas_div.css('width', width)\n",
       "        canvas_div.css('height', height)\n",
       "\n",
       "        canvas.attr('width', width);\n",
       "        canvas.attr('height', height);\n",
       "\n",
       "        rubberband.attr('width', width);\n",
       "        rubberband.attr('height', height);\n",
       "    }\n",
       "\n",
       "    // Set the figure to an initial 600x600px, this will subsequently be updated\n",
       "    // upon first draw.\n",
       "    this._resize_canvas(600, 600);\n",
       "\n",
       "    // Disable right mouse context menu.\n",
       "    $(this.rubberband_canvas).bind(\"contextmenu\",function(e){\n",
       "        return false;\n",
       "    });\n",
       "\n",
       "    function set_focus () {\n",
       "        canvas.focus();\n",
       "        canvas_div.focus();\n",
       "    }\n",
       "\n",
       "    window.setTimeout(set_focus, 100);\n",
       "}\n",
       "\n",
       "mpl.figure.prototype._init_toolbar = function() {\n",
       "    var fig = this;\n",
       "\n",
       "    var nav_element = $('<div/>')\n",
       "    nav_element.attr('style', 'width: 100%');\n",
       "    this.root.append(nav_element);\n",
       "\n",
       "    // Define a callback function for later on.\n",
       "    function toolbar_event(event) {\n",
       "        return fig.toolbar_button_onclick(event['data']);\n",
       "    }\n",
       "    function toolbar_mouse_event(event) {\n",
       "        return fig.toolbar_button_onmouseover(event['data']);\n",
       "    }\n",
       "\n",
       "    for(var toolbar_ind in mpl.toolbar_items) {\n",
       "        var name = mpl.toolbar_items[toolbar_ind][0];\n",
       "        var tooltip = mpl.toolbar_items[toolbar_ind][1];\n",
       "        var image = mpl.toolbar_items[toolbar_ind][2];\n",
       "        var method_name = mpl.toolbar_items[toolbar_ind][3];\n",
       "\n",
       "        if (!name) {\n",
       "            // put a spacer in here.\n",
       "            continue;\n",
       "        }\n",
       "        var button = $('<button/>');\n",
       "        button.addClass('ui-button ui-widget ui-state-default ui-corner-all ' +\n",
       "                        'ui-button-icon-only');\n",
       "        button.attr('role', 'button');\n",
       "        button.attr('aria-disabled', 'false');\n",
       "        button.click(method_name, toolbar_event);\n",
       "        button.mouseover(tooltip, toolbar_mouse_event);\n",
       "\n",
       "        var icon_img = $('<span/>');\n",
       "        icon_img.addClass('ui-button-icon-primary ui-icon');\n",
       "        icon_img.addClass(image);\n",
       "        icon_img.addClass('ui-corner-all');\n",
       "\n",
       "        var tooltip_span = $('<span/>');\n",
       "        tooltip_span.addClass('ui-button-text');\n",
       "        tooltip_span.html(tooltip);\n",
       "\n",
       "        button.append(icon_img);\n",
       "        button.append(tooltip_span);\n",
       "\n",
       "        nav_element.append(button);\n",
       "    }\n",
       "\n",
       "    var fmt_picker_span = $('<span/>');\n",
       "\n",
       "    var fmt_picker = $('<select/>');\n",
       "    fmt_picker.addClass('mpl-toolbar-option ui-widget ui-widget-content');\n",
       "    fmt_picker_span.append(fmt_picker);\n",
       "    nav_element.append(fmt_picker_span);\n",
       "    this.format_dropdown = fmt_picker[0];\n",
       "\n",
       "    for (var ind in mpl.extensions) {\n",
       "        var fmt = mpl.extensions[ind];\n",
       "        var option = $(\n",
       "            '<option/>', {selected: fmt === mpl.default_extension}).html(fmt);\n",
       "        fmt_picker.append(option)\n",
       "    }\n",
       "\n",
       "    // Add hover states to the ui-buttons\n",
       "    $( \".ui-button\" ).hover(\n",
       "        function() { $(this).addClass(\"ui-state-hover\");},\n",
       "        function() { $(this).removeClass(\"ui-state-hover\");}\n",
       "    );\n",
       "\n",
       "    var status_bar = $('<span class=\"mpl-message\"/>');\n",
       "    nav_element.append(status_bar);\n",
       "    this.message = status_bar[0];\n",
       "}\n",
       "\n",
       "mpl.figure.prototype.request_resize = function(x_pixels, y_pixels) {\n",
       "    // Request matplotlib to resize the figure. Matplotlib will then trigger a resize in the client,\n",
       "    // which will in turn request a refresh of the image.\n",
       "    this.send_message('resize', {'width': x_pixels, 'height': y_pixels});\n",
       "}\n",
       "\n",
       "mpl.figure.prototype.send_message = function(type, properties) {\n",
       "    properties['type'] = type;\n",
       "    properties['figure_id'] = this.id;\n",
       "    this.ws.send(JSON.stringify(properties));\n",
       "}\n",
       "\n",
       "mpl.figure.prototype.send_draw_message = function() {\n",
       "    if (!this.waiting) {\n",
       "        this.waiting = true;\n",
       "        this.ws.send(JSON.stringify({type: \"draw\", figure_id: this.id}));\n",
       "    }\n",
       "}\n",
       "\n",
       "\n",
       "mpl.figure.prototype.handle_save = function(fig, msg) {\n",
       "    var format_dropdown = fig.format_dropdown;\n",
       "    var format = format_dropdown.options[format_dropdown.selectedIndex].value;\n",
       "    fig.ondownload(fig, format);\n",
       "}\n",
       "\n",
       "\n",
       "mpl.figure.prototype.handle_resize = function(fig, msg) {\n",
       "    var size = msg['size'];\n",
       "    if (size[0] != fig.canvas.width || size[1] != fig.canvas.height) {\n",
       "        fig._resize_canvas(size[0], size[1]);\n",
       "        fig.send_message(\"refresh\", {});\n",
       "    };\n",
       "}\n",
       "\n",
       "mpl.figure.prototype.handle_rubberband = function(fig, msg) {\n",
       "    var x0 = msg['x0'];\n",
       "    var y0 = fig.canvas.height - msg['y0'];\n",
       "    var x1 = msg['x1'];\n",
       "    var y1 = fig.canvas.height - msg['y1'];\n",
       "    x0 = Math.floor(x0) + 0.5;\n",
       "    y0 = Math.floor(y0) + 0.5;\n",
       "    x1 = Math.floor(x1) + 0.5;\n",
       "    y1 = Math.floor(y1) + 0.5;\n",
       "    var min_x = Math.min(x0, x1);\n",
       "    var min_y = Math.min(y0, y1);\n",
       "    var width = Math.abs(x1 - x0);\n",
       "    var height = Math.abs(y1 - y0);\n",
       "\n",
       "    fig.rubberband_context.clearRect(\n",
       "        0, 0, fig.canvas.width, fig.canvas.height);\n",
       "\n",
       "    fig.rubberband_context.strokeRect(min_x, min_y, width, height);\n",
       "}\n",
       "\n",
       "mpl.figure.prototype.handle_figure_label = function(fig, msg) {\n",
       "    // Updates the figure title.\n",
       "    fig.header.textContent = msg['label'];\n",
       "}\n",
       "\n",
       "mpl.figure.prototype.handle_cursor = function(fig, msg) {\n",
       "    var cursor = msg['cursor'];\n",
       "    switch(cursor)\n",
       "    {\n",
       "    case 0:\n",
       "        cursor = 'pointer';\n",
       "        break;\n",
       "    case 1:\n",
       "        cursor = 'default';\n",
       "        break;\n",
       "    case 2:\n",
       "        cursor = 'crosshair';\n",
       "        break;\n",
       "    case 3:\n",
       "        cursor = 'move';\n",
       "        break;\n",
       "    }\n",
       "    fig.rubberband_canvas.style.cursor = cursor;\n",
       "}\n",
       "\n",
       "mpl.figure.prototype.handle_message = function(fig, msg) {\n",
       "    fig.message.textContent = msg['message'];\n",
       "}\n",
       "\n",
       "mpl.figure.prototype.handle_draw = function(fig, msg) {\n",
       "    // Request the server to send over a new figure.\n",
       "    fig.send_draw_message();\n",
       "}\n",
       "\n",
       "mpl.figure.prototype.handle_image_mode = function(fig, msg) {\n",
       "    fig.image_mode = msg['mode'];\n",
       "}\n",
       "\n",
       "mpl.figure.prototype.updated_canvas_event = function() {\n",
       "    // Called whenever the canvas gets updated.\n",
       "    this.send_message(\"ack\", {});\n",
       "}\n",
       "\n",
       "// A function to construct a web socket function for onmessage handling.\n",
       "// Called in the figure constructor.\n",
       "mpl.figure.prototype._make_on_message_function = function(fig) {\n",
       "    return function socket_on_message(evt) {\n",
       "        if (evt.data instanceof Blob) {\n",
       "            /* FIXME: We get \"Resource interpreted as Image but\n",
       "             * transferred with MIME type text/plain:\" errors on\n",
       "             * Chrome.  But how to set the MIME type?  It doesn't seem\n",
       "             * to be part of the websocket stream */\n",
       "            evt.data.type = \"image/png\";\n",
       "\n",
       "            /* Free the memory for the previous frames */\n",
       "            if (fig.imageObj.src) {\n",
       "                (window.URL || window.webkitURL).revokeObjectURL(\n",
       "                    fig.imageObj.src);\n",
       "            }\n",
       "\n",
       "            fig.imageObj.src = (window.URL || window.webkitURL).createObjectURL(\n",
       "                evt.data);\n",
       "            fig.updated_canvas_event();\n",
       "            fig.waiting = false;\n",
       "            return;\n",
       "        }\n",
       "        else if (typeof evt.data === 'string' && evt.data.slice(0, 21) == \"data:image/png;base64\") {\n",
       "            fig.imageObj.src = evt.data;\n",
       "            fig.updated_canvas_event();\n",
       "            fig.waiting = false;\n",
       "            return;\n",
       "        }\n",
       "\n",
       "        var msg = JSON.parse(evt.data);\n",
       "        var msg_type = msg['type'];\n",
       "\n",
       "        // Call the  \"handle_{type}\" callback, which takes\n",
       "        // the figure and JSON message as its only arguments.\n",
       "        try {\n",
       "            var callback = fig[\"handle_\" + msg_type];\n",
       "        } catch (e) {\n",
       "            console.log(\"No handler for the '\" + msg_type + \"' message type: \", msg);\n",
       "            return;\n",
       "        }\n",
       "\n",
       "        if (callback) {\n",
       "            try {\n",
       "                // console.log(\"Handling '\" + msg_type + \"' message: \", msg);\n",
       "                callback(fig, msg);\n",
       "            } catch (e) {\n",
       "                console.log(\"Exception inside the 'handler_\" + msg_type + \"' callback:\", e, e.stack, msg);\n",
       "            }\n",
       "        }\n",
       "    };\n",
       "}\n",
       "\n",
       "// from http://stackoverflow.com/questions/1114465/getting-mouse-location-in-canvas\n",
       "mpl.findpos = function(e) {\n",
       "    //this section is from http://www.quirksmode.org/js/events_properties.html\n",
       "    var targ;\n",
       "    if (!e)\n",
       "        e = window.event;\n",
       "    if (e.target)\n",
       "        targ = e.target;\n",
       "    else if (e.srcElement)\n",
       "        targ = e.srcElement;\n",
       "    if (targ.nodeType == 3) // defeat Safari bug\n",
       "        targ = targ.parentNode;\n",
       "\n",
       "    // jQuery normalizes the pageX and pageY\n",
       "    // pageX,Y are the mouse positions relative to the document\n",
       "    // offset() returns the position of the element relative to the document\n",
       "    var x = e.pageX - $(targ).offset().left;\n",
       "    var y = e.pageY - $(targ).offset().top;\n",
       "\n",
       "    return {\"x\": x, \"y\": y};\n",
       "};\n",
       "\n",
       "/*\n",
       " * return a copy of an object with only non-object keys\n",
       " * we need this to avoid circular references\n",
       " * http://stackoverflow.com/a/24161582/3208463\n",
       " */\n",
       "function simpleKeys (original) {\n",
       "  return Object.keys(original).reduce(function (obj, key) {\n",
       "    if (typeof original[key] !== 'object')\n",
       "        obj[key] = original[key]\n",
       "    return obj;\n",
       "  }, {});\n",
       "}\n",
       "\n",
       "mpl.figure.prototype.mouse_event = function(event, name) {\n",
       "    var canvas_pos = mpl.findpos(event)\n",
       "\n",
       "    if (name === 'button_press')\n",
       "    {\n",
       "        this.canvas.focus();\n",
       "        this.canvas_div.focus();\n",
       "    }\n",
       "\n",
       "    var x = canvas_pos.x;\n",
       "    var y = canvas_pos.y;\n",
       "\n",
       "    this.send_message(name, {x: x, y: y, button: event.button,\n",
       "                             step: event.step,\n",
       "                             guiEvent: simpleKeys(event)});\n",
       "\n",
       "    /* This prevents the web browser from automatically changing to\n",
       "     * the text insertion cursor when the button is pressed.  We want\n",
       "     * to control all of the cursor setting manually through the\n",
       "     * 'cursor' event from matplotlib */\n",
       "    event.preventDefault();\n",
       "    return false;\n",
       "}\n",
       "\n",
       "mpl.figure.prototype._key_event_extra = function(event, name) {\n",
       "    // Handle any extra behaviour associated with a key event\n",
       "}\n",
       "\n",
       "mpl.figure.prototype.key_event = function(event, name) {\n",
       "\n",
       "    // Prevent repeat events\n",
       "    if (name == 'key_press')\n",
       "    {\n",
       "        if (event.which === this._key)\n",
       "            return;\n",
       "        else\n",
       "            this._key = event.which;\n",
       "    }\n",
       "    if (name == 'key_release')\n",
       "        this._key = null;\n",
       "\n",
       "    var value = '';\n",
       "    if (event.ctrlKey && event.which != 17)\n",
       "        value += \"ctrl+\";\n",
       "    if (event.altKey && event.which != 18)\n",
       "        value += \"alt+\";\n",
       "    if (event.shiftKey && event.which != 16)\n",
       "        value += \"shift+\";\n",
       "\n",
       "    value += 'k';\n",
       "    value += event.which.toString();\n",
       "\n",
       "    this._key_event_extra(event, name);\n",
       "\n",
       "    this.send_message(name, {key: value,\n",
       "                             guiEvent: simpleKeys(event)});\n",
       "    return false;\n",
       "}\n",
       "\n",
       "mpl.figure.prototype.toolbar_button_onclick = function(name) {\n",
       "    if (name == 'download') {\n",
       "        this.handle_save(this, null);\n",
       "    } else {\n",
       "        this.send_message(\"toolbar_button\", {name: name});\n",
       "    }\n",
       "};\n",
       "\n",
       "mpl.figure.prototype.toolbar_button_onmouseover = function(tooltip) {\n",
       "    this.message.textContent = tooltip;\n",
       "};\n",
       "mpl.toolbar_items = [[\"Home\", \"Reset original view\", \"fa fa-home icon-home\", \"home\"], [\"Back\", \"Back to  previous view\", \"fa fa-arrow-left icon-arrow-left\", \"back\"], [\"Forward\", \"Forward to next view\", \"fa fa-arrow-right icon-arrow-right\", \"forward\"], [\"\", \"\", \"\", \"\"], [\"Pan\", \"Pan axes with left mouse, zoom with right\", \"fa fa-arrows icon-move\", \"pan\"], [\"Zoom\", \"Zoom to rectangle\", \"fa fa-square-o icon-check-empty\", \"zoom\"], [\"\", \"\", \"\", \"\"], [\"Download\", \"Download plot\", \"fa fa-floppy-o icon-save\", \"download\"]];\n",
       "\n",
       "mpl.extensions = [\"eps\", \"jpeg\", \"pdf\", \"png\", \"ps\", \"raw\", \"svg\", \"tif\"];\n",
       "\n",
       "mpl.default_extension = \"png\";var comm_websocket_adapter = function(comm) {\n",
       "    // Create a \"websocket\"-like object which calls the given IPython comm\n",
       "    // object with the appropriate methods. Currently this is a non binary\n",
       "    // socket, so there is still some room for performance tuning.\n",
       "    var ws = {};\n",
       "\n",
       "    ws.close = function() {\n",
       "        comm.close()\n",
       "    };\n",
       "    ws.send = function(m) {\n",
       "        //console.log('sending', m);\n",
       "        comm.send(m);\n",
       "    };\n",
       "    // Register the callback with on_msg.\n",
       "    comm.on_msg(function(msg) {\n",
       "        //console.log('receiving', msg['content']['data'], msg);\n",
       "        // Pass the mpl event to the overriden (by mpl) onmessage function.\n",
       "        ws.onmessage(msg['content']['data'])\n",
       "    });\n",
       "    return ws;\n",
       "}\n",
       "\n",
       "mpl.mpl_figure_comm = function(comm, msg) {\n",
       "    // This is the function which gets called when the mpl process\n",
       "    // starts-up an IPython Comm through the \"matplotlib\" channel.\n",
       "\n",
       "    var id = msg.content.data.id;\n",
       "    // Get hold of the div created by the display call when the Comm\n",
       "    // socket was opened in Python.\n",
       "    var element = $(\"#\" + id);\n",
       "    var ws_proxy = comm_websocket_adapter(comm)\n",
       "\n",
       "    function ondownload(figure, format) {\n",
       "        window.open(figure.imageObj.src);\n",
       "    }\n",
       "\n",
       "    var fig = new mpl.figure(id, ws_proxy,\n",
       "                           ondownload,\n",
       "                           element.get(0));\n",
       "\n",
       "    // Call onopen now - mpl needs it, as it is assuming we've passed it a real\n",
       "    // web socket which is closed, not our websocket->open comm proxy.\n",
       "    ws_proxy.onopen();\n",
       "\n",
       "    fig.parent_element = element.get(0);\n",
       "    fig.cell_info = mpl.find_output_cell(\"<div id='\" + id + \"'></div>\");\n",
       "    if (!fig.cell_info) {\n",
       "        console.error(\"Failed to find cell for figure\", id, fig);\n",
       "        return;\n",
       "    }\n",
       "\n",
       "    var output_index = fig.cell_info[2]\n",
       "    var cell = fig.cell_info[0];\n",
       "\n",
       "};\n",
       "\n",
       "mpl.figure.prototype.handle_close = function(fig, msg) {\n",
       "    fig.root.unbind('remove')\n",
       "\n",
       "    // Update the output cell to use the data from the current canvas.\n",
       "    fig.push_to_output();\n",
       "    var dataURL = fig.canvas.toDataURL();\n",
       "    // Re-enable the keyboard manager in IPython - without this line, in FF,\n",
       "    // the notebook keyboard shortcuts fail.\n",
       "    IPython.keyboard_manager.enable()\n",
       "    $(fig.parent_element).html('<img src=\"' + dataURL + '\">');\n",
       "    fig.close_ws(fig, msg);\n",
       "}\n",
       "\n",
       "mpl.figure.prototype.close_ws = function(fig, msg){\n",
       "    fig.send_message('closing', msg);\n",
       "    // fig.ws.close()\n",
       "}\n",
       "\n",
       "mpl.figure.prototype.push_to_output = function(remove_interactive) {\n",
       "    // Turn the data on the canvas into data in the output cell.\n",
       "    var dataURL = this.canvas.toDataURL();\n",
       "    this.cell_info[1]['text/html'] = '<img src=\"' + dataURL + '\">';\n",
       "}\n",
       "\n",
       "mpl.figure.prototype.updated_canvas_event = function() {\n",
       "    // Tell IPython that the notebook contents must change.\n",
       "    IPython.notebook.set_dirty(true);\n",
       "    this.send_message(\"ack\", {});\n",
       "    var fig = this;\n",
       "    // Wait a second, then push the new image to the DOM so\n",
       "    // that it is saved nicely (might be nice to debounce this).\n",
       "    setTimeout(function () { fig.push_to_output() }, 1000);\n",
       "}\n",
       "\n",
       "mpl.figure.prototype._init_toolbar = function() {\n",
       "    var fig = this;\n",
       "\n",
       "    var nav_element = $('<div/>')\n",
       "    nav_element.attr('style', 'width: 100%');\n",
       "    this.root.append(nav_element);\n",
       "\n",
       "    // Define a callback function for later on.\n",
       "    function toolbar_event(event) {\n",
       "        return fig.toolbar_button_onclick(event['data']);\n",
       "    }\n",
       "    function toolbar_mouse_event(event) {\n",
       "        return fig.toolbar_button_onmouseover(event['data']);\n",
       "    }\n",
       "\n",
       "    for(var toolbar_ind in mpl.toolbar_items){\n",
       "        var name = mpl.toolbar_items[toolbar_ind][0];\n",
       "        var tooltip = mpl.toolbar_items[toolbar_ind][1];\n",
       "        var image = mpl.toolbar_items[toolbar_ind][2];\n",
       "        var method_name = mpl.toolbar_items[toolbar_ind][3];\n",
       "\n",
       "        if (!name) { continue; };\n",
       "\n",
       "        var button = $('<button class=\"btn btn-default\" href=\"#\" title=\"' + name + '\"><i class=\"fa ' + image + ' fa-lg\"></i></button>');\n",
       "        button.click(method_name, toolbar_event);\n",
       "        button.mouseover(tooltip, toolbar_mouse_event);\n",
       "        nav_element.append(button);\n",
       "    }\n",
       "\n",
       "    // Add the status bar.\n",
       "    var status_bar = $('<span class=\"mpl-message\" style=\"text-align:right; float: right;\"/>');\n",
       "    nav_element.append(status_bar);\n",
       "    this.message = status_bar[0];\n",
       "\n",
       "    // Add the close button to the window.\n",
       "    var buttongrp = $('<div class=\"btn-group inline pull-right\"></div>');\n",
       "    var button = $('<button class=\"btn btn-mini btn-primary\" href=\"#\" title=\"Stop Interaction\"><i class=\"fa fa-power-off icon-remove icon-large\"></i></button>');\n",
       "    button.click(function (evt) { fig.handle_close(fig, {}); } );\n",
       "    button.mouseover('Stop Interaction', toolbar_mouse_event);\n",
       "    buttongrp.append(button);\n",
       "    var titlebar = this.root.find($('.ui-dialog-titlebar'));\n",
       "    titlebar.prepend(buttongrp);\n",
       "}\n",
       "\n",
       "mpl.figure.prototype._root_extra_style = function(el){\n",
       "    var fig = this\n",
       "    el.on(\"remove\", function(){\n",
       "\tfig.close_ws(fig, {});\n",
       "    });\n",
       "}\n",
       "\n",
       "mpl.figure.prototype._canvas_extra_style = function(el){\n",
       "    // this is important to make the div 'focusable\n",
       "    el.attr('tabindex', 0)\n",
       "    // reach out to IPython and tell the keyboard manager to turn it's self\n",
       "    // off when our div gets focus\n",
       "\n",
       "    // location in version 3\n",
       "    if (IPython.notebook.keyboard_manager) {\n",
       "        IPython.notebook.keyboard_manager.register_events(el);\n",
       "    }\n",
       "    else {\n",
       "        // location in version 2\n",
       "        IPython.keyboard_manager.register_events(el);\n",
       "    }\n",
       "\n",
       "}\n",
       "\n",
       "mpl.figure.prototype._key_event_extra = function(event, name) {\n",
       "    var manager = IPython.notebook.keyboard_manager;\n",
       "    if (!manager)\n",
       "        manager = IPython.keyboard_manager;\n",
       "\n",
       "    // Check for shift+enter\n",
       "    if (event.shiftKey && event.which == 13) {\n",
       "        this.canvas_div.blur();\n",
       "        event.shiftKey = false;\n",
       "        // Send a \"J\" for go to next cell\n",
       "        event.which = 74;\n",
       "        event.keyCode = 74;\n",
       "        manager.command_mode();\n",
       "        manager.handle_keydown(event);\n",
       "    }\n",
       "}\n",
       "\n",
       "mpl.figure.prototype.handle_save = function(fig, msg) {\n",
       "    fig.ondownload(fig, null);\n",
       "}\n",
       "\n",
       "\n",
       "mpl.find_output_cell = function(html_output) {\n",
       "    // Return the cell and output element which can be found *uniquely* in the notebook.\n",
       "    // Note - this is a bit hacky, but it is done because the \"notebook_saving.Notebook\"\n",
       "    // IPython event is triggered only after the cells have been serialised, which for\n",
       "    // our purposes (turning an active figure into a static one), is too late.\n",
       "    var cells = IPython.notebook.get_cells();\n",
       "    var ncells = cells.length;\n",
       "    for (var i=0; i<ncells; i++) {\n",
       "        var cell = cells[i];\n",
       "        if (cell.cell_type === 'code'){\n",
       "            for (var j=0; j<cell.output_area.outputs.length; j++) {\n",
       "                var data = cell.output_area.outputs[j];\n",
       "                if (data.data) {\n",
       "                    // IPython >= 3 moved mimebundle to data attribute of output\n",
       "                    data = data.data;\n",
       "                }\n",
       "                if (data['text/html'] == html_output) {\n",
       "                    return [cell, data, j];\n",
       "                }\n",
       "            }\n",
       "        }\n",
       "    }\n",
       "}\n",
       "\n",
       "// Register the function which deals with the matplotlib target/channel.\n",
       "// The kernel may be null if the page has been refreshed.\n",
       "if (IPython.notebook.kernel != null) {\n",
       "    IPython.notebook.kernel.comm_manager.register_target('matplotlib', mpl.mpl_figure_comm);\n",
       "}\n"
      ],
      "text/plain": [
       "<IPython.core.display.Javascript object>"
      ]
     },
     "metadata": {},
     "output_type": "display_data"
    },
    {
     "data": {
      "text/html": [
       "<img src=\"data:image/png;base64,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\">"
      ],
      "text/plain": [
       "<IPython.core.display.HTML object>"
      ]
     },
     "metadata": {},
     "output_type": "display_data"
    },
    {
     "data": {
      "text/plain": [
       "[<matplotlib.lines.Line2D at 0x9755cf8>]"
      ]
     },
     "execution_count": 30,
     "metadata": {},
     "output_type": "execute_result"
    }
   ],
   "source": [
    "%matplotlib notebook\n",
    "threshold=0\n",
    "chan=0\n",
    "f=data.trace[chan]['filtered']\n",
    "above_threshold=f>threshold\n",
    "above=above_threshold[1:]\n",
    "was_above=above_threshold[0:-1]\n",
    "\n",
    "pos_xings=np.logical_and(~was_above,above).nonzero()[0]\n",
    "neg_xings=np.logical_and(~above,was_above).nonzero()[0]\n",
    "plt.step(np.arange(len(f)),f,'r')\n",
    "plt.plot(pos_xings,np.zeros(len(pos_xings)),'ob')\n",
    "plt.plot(neg_xings,np.zeros(len(neg_xings)),'sk')"
   ]
  },
  {
   "cell_type": "code",
   "execution_count": null,
   "metadata": {
    "collapsed": false
   },
   "outputs": [],
   "source": [
    "abstime = 0\n",
    "for p in enet.packets:\n",
    "#p=enet.packets[1]\n",
    "    if p.payload_type == sim.PayloadType.tick:\n",
    "        abstime = p.events['timestamp'][0]\n",
    "    elif p.payload_type == sim.PayloadType.area:\n",
    "        e = p.events\n",
    "        times = np.cumsum(e['time'])+abstime\n",
    "        \n",
    "        chan_mask = np.bitwise_and(e['flags'][:, 0], 0x07) == channel\n",
    "        abstime = times[-1]\n",
    "\n"
   ]
  },
  {
   "cell_type": "code",
   "execution_count": null,
   "metadata": {
    "collapsed": false,
    "scrolled": false
   },
   "outputs": [],
   "source": [
    "%matplotlib notebook\n",
    "c=1\n",
    "#plt.plot(data.trace[c]['raw']/2,'k',lw=1)\n",
    "plt.plot(data.trace[c]['filtered'][0:10000],'r',lw=1)\n",
    "#plt.plot(data.trace[c]['slope']/8,'b',lw=2)"
   ]
  },
  {
   "cell_type": "code",
   "execution_count": null,
   "metadata": {
    "collapsed": false
   },
   "outputs": [],
   "source": [
    "enet.packets[4].payload[40:].view(np.uint32).size"
   ]
  },
  {
   "cell_type": "code",
   "execution_count": null,
   "metadata": {
    "collapsed": false
   },
   "outputs": [],
   "source": [
    "enet.packets[4].length"
   ]
  },
  {
   "cell_type": "code",
   "execution_count": null,
   "metadata": {
    "collapsed": false
   },
   "outputs": [],
   "source": [
    "dist=dists[1]\n",
    "c=check_distribution(dist,data)\n",
    "(c-dist.counts).nonzero()[0].size"
   ]
  },
  {
   "cell_type": "code",
   "execution_count": null,
   "metadata": {
    "collapsed": false
   },
   "outputs": [],
   "source": [
    "start=dist.start_time\n",
    "stop=dist.stop_time+np.uint64(1)\n",
    "s=data.slice((start, stop))\n",
    "f = s.trace[dist.channel]['filtered']\n",
    "fd = data.trace[dist.channel]['filtered'][start:stop]\n",
    "(f-fd).nonzero()"
   ]
  },
  {
   "cell_type": "code",
   "execution_count": null,
   "metadata": {
    "collapsed": false
   },
   "outputs": [],
   "source": [
    "np.uint64(1)+np.uint64(-1)"
   ]
  },
  {
   "cell_type": "code",
   "execution_count": null,
   "metadata": {
    "collapsed": false
   },
   "outputs": [],
   "source": [
    "event_dt=np.dtype(\n",
    "    (np.uint64, \n",
    "        [\n",
    "            ('data', np.uint32),\n",
    "            ('flags0', np.uint8),\n",
    "            ('flags1', np.uint8),\n",
    "            ('time',np.uint16)\n",
    "        ] \n",
    "    )\n",
    ")\n",
    "\n",
    "peak_dt=np.dtype(\n",
    "    (\n",
    "        [\n",
    "            ('height', np.int16),\n",
    "            ('minima', np.int16),\n",
    "            ('flags0', np.uint8),\n",
    "            ('flags1', np.uint8),\n",
    "            ('time',np.uint16)\n",
    "        ] \n",
    "    )\n",
    ")\n",
    "\n",
    "tick_dt=np.dtype(\n",
    "    ( \n",
    "        [\n",
    "            ('period', np.uint32),\n",
    "            ('flags0', np.uint8),\n",
    "            ('flags1', np.uint8),\n",
    "            ('time', np.uint16),\n",
    "            ('timestamp', np.uint64)\n",
    "        ]\n",
    "    )\n",
    ")\n",
    "\n",
    "e = sim.EventStream('teslib','measurement_subsystem_TB')\n",
    "\n",
    "events=e._stream64.view(dtype=event_dt)\n",
    "\n",
    "#type_flags = np.bitwise_and(events['flags'],0x000f)\n",
    "tick = np.bitwise_and(events['flags1'],0x02)!=0\n",
    "window_start = np.bitwise_and(events['flags1'],0x01)!=0\n",
    "\n",
    "tick_mask=np.zeros(len(tick),dtype=bool)\n",
    "i=0\n",
    "while (i < len(tick)):\n",
    "    if tick[i]!=0:\n",
    "        tick_mask[i:i+2]=True\n",
    "        i+=1\n",
    "    i+=1\n",
    "    \n",
    "peaks=e._stream64[~tick_mask].view(dtype=peak_dt)\n",
    "\n",
    "ticks=e._stream64[tick_mask].view(dtype=tick_dt)"
   ]
  },
  {
   "cell_type": "code",
   "execution_count": null,
   "metadata": {
    "collapsed": false
   },
   "outputs": [],
   "source": [
    "d=distributions[0]\n",
    "\n",
    "\n",
    "d.value.trace"
   ]
  },
  {
   "cell_type": "code",
   "execution_count": null,
   "metadata": {
    "collapsed": true
   },
   "outputs": [],
   "source": [
    "%matplotlib notebook\n",
    "stop=distributions[0].stop_time\n",
    "start=distributions[0].start_time\n",
    "plt.plot(data.trace[0]['filtered'][start:stop])"
   ]
  },
  {
   "cell_type": "code",
   "execution_count": null,
   "metadata": {
    "collapsed": false
   },
   "outputs": [],
   "source": [
    "%matplotlib notebook\n",
    "d=0\n",
    "plt.plot(distributions[d].counts)"
   ]
  },
  {
   "cell_type": "code",
   "execution_count": null,
   "metadata": {
    "collapsed": false,
    "scrolled": true
   },
   "outputs": [],
   "source": [
    "p=1\n",
    "lasts=enet['last'].nonzero()[0]+1\n",
    "packets = []\n",
    "prev=0\n",
    "for last in lasts:\n",
    "    packets.append(sim.Packet( np.copy(enet['data'][prev:last]).view(np.uint8)))\n",
    "    prev=last\n",
    "\n",
    "packets[:]"
   ]
  },
  {
   "cell_type": "code",
   "execution_count": null,
   "metadata": {
    "collapsed": false
   },
   "outputs": [],
   "source": [
    "packets[4]"
   ]
  },
  {
   "cell_type": "code",
   "execution_count": null,
   "metadata": {
    "collapsed": false
   },
   "outputs": [],
   "source": [
    "def get_distributions(packets):\n",
    "    for packet in packets:\n",
    "        if packet.payload_type == PayloadType.mca:\n",
    "            \n",
    "        \n",
    "    \n",
    "    \n",
    "    \n",
    "packets[4].payload[0:8].view(mca_header_dt)"
   ]
  },
  {
   "cell_type": "code",
   "execution_count": null,
   "metadata": {
    "collapsed": false
   },
   "outputs": [],
   "source": [
    "peaks=packets[1].payload.view(peak_dt)\n",
    "peaks"
   ]
  },
  {
   "cell_type": "code",
   "execution_count": null,
   "metadata": {
    "collapsed": false
   },
   "outputs": [],
   "source": [
    "\n",
    "time=0\n",
    "times=[]\n",
    "heights=[]\n",
    "minimas=[]\n",
    "\n",
    "for p in packets:\n",
    "    if p.payload_type==sim.EventType.tick:\n",
    "        tick=p.payload.view(tick_dt)\n",
    "        time=tick[0]['timestamp']\n",
    "    elif p.payload_type==sim.EventType.peak:\n",
    "        peaks=p.payload.view(peak_dt)\n",
    "        for peak in peaks:\n",
    "            time+=peak['time']\n",
    "            times.append(time)\n",
    "            heights.append(peak['height'])\n",
    "            minimas.append(peak['minima'])\n",
    "            "
   ]
  },
  {
   "cell_type": "code",
   "execution_count": null,
   "metadata": {
    "collapsed": false
   },
   "outputs": [],
   "source": [
    "times"
   ]
  },
  {
   "cell_type": "code",
   "execution_count": null,
   "metadata": {
    "collapsed": false
   },
   "outputs": [],
   "source": [
    "packets[1].payload.view(peak_dt)"
   ]
  },
  {
   "cell_type": "code",
   "execution_count": null,
   "metadata": {
    "collapsed": false
   },
   "outputs": [],
   "source": [
    "heights[0]"
   ]
  },
  {
   "cell_type": "code",
   "execution_count": null,
   "metadata": {
    "collapsed": false,
    "scrolled": false
   },
   "outputs": [],
   "source": [
    "%matplotlib notebook\n",
    "p=3\n",
    "x=np.arange(times[p]-300,times[p]+1000,dtype=np.uint64)\n",
    "plt.plot([times[p], times[p]],[minimas[p], heights[p]],'r',lw=2)\n",
    "plt.step(x,data.trace['filtered'][x])\n",
    "plt.plot(data.peak[p/2],data.trace['filtered'][data.peak[p/2]],'ro')\n",
    "plt.plot(\n",
    "    [data.peak_start[p/2],times[p]],\n",
    "    [data.trace['filtered'][data.peak_start[p/2]],data.trace['filtered'][data.peak_start[p/2]]],\n",
    "    'k'\n",
    ")\n",
    "plt.plot(\n",
    "    [times[p],data.peak[p/2]],\n",
    "    [data.trace['filtered'][data.peak[p/2]],data.trace['filtered'][data.peak[p/2]]],\n",
    "    'k'\n",
    ")"
   ]
  },
  {
   "cell_type": "code",
   "execution_count": null,
   "metadata": {
    "collapsed": false
   },
   "outputs": [],
   "source": [
    "%matplotlib notebook\n",
    "fig=simplt.plot_slice(data.slice((data.peak[0]-1000,data.peak[0]+1000)))\n",
    "data.trace['filtered'][data.peak[0]]"
   ]
  },
  {
   "cell_type": "code",
   "execution_count": null,
   "metadata": {
    "collapsed": false,
    "scrolled": false
   },
   "outputs": [],
   "source": [
    "data.cfd_low"
   ]
  },
  {
   "cell_type": "code",
   "execution_count": null,
   "metadata": {
    "collapsed": false
   },
   "outputs": [],
   "source": [
    "packet_bytes=packet.view(np.uint8)"
   ]
  },
  {
   "cell_type": "code",
   "execution_count": null,
   "metadata": {
    "collapsed": false
   },
   "outputs": [],
   "source": [
    "packet_bytes"
   ]
  },
  {
   "cell_type": "code",
   "execution_count": null,
   "metadata": {
    "collapsed": false
   },
   "outputs": [],
   "source": []
  },
  {
   "cell_type": "code",
   "execution_count": null,
   "metadata": {
    "collapsed": false
   },
   "outputs": [],
   "source": [
    "\n",
    "payload"
   ]
  },
  {
   "cell_type": "code",
   "execution_count": null,
   "metadata": {
    "collapsed": false,
    "scrolled": false
   },
   "outputs": [],
   "source": [
    "\n",
    "payload_type"
   ]
  },
  {
   "cell_type": "code",
   "execution_count": null,
   "metadata": {
    "collapsed": false
   },
   "outputs": [],
   "source": [
    "time=payload[6:8].view(np.uint16)\n",
    "time"
   ]
  },
  {
   "cell_type": "code",
   "execution_count": null,
   "metadata": {
    "collapsed": false
   },
   "outputs": [],
   "source": [
    "\n",
    "peaks"
   ]
  },
  {
   "cell_type": "code",
   "execution_count": null,
   "metadata": {
    "collapsed": false
   },
   "outputs": [],
   "source": [
    "payload[4+8:6+8]"
   ]
  },
  {
   "cell_type": "code",
   "execution_count": null,
   "metadata": {
    "collapsed": false
   },
   "outputs": [],
   "source": [
    "%matplotlib notebook\n",
    "fig=simplt.plot_pulse(1,data)"
   ]
  },
  {
   "cell_type": "code",
   "execution_count": null,
   "metadata": {
    "collapsed": false
   },
   "outputs": [],
   "source": [
    "fig._axstack.as_list()[0]"
   ]
  },
  {
   "cell_type": "code",
   "execution_count": null,
   "metadata": {
    "collapsed": false,
    "scrolled": true
   },
   "outputs": [],
   "source": [
    "tick"
   ]
  },
  {
   "cell_type": "code",
   "execution_count": null,
   "metadata": {
    "collapsed": false
   },
   "outputs": [],
   "source": [
    "ticks"
   ]
  },
  {
   "cell_type": "code",
   "execution_count": null,
   "metadata": {
    "collapsed": false
   },
   "outputs": [],
   "source": [
    "window_start"
   ]
  },
  {
   "cell_type": "code",
   "execution_count": null,
   "metadata": {
    "collapsed": false
   },
   "outputs": [],
   "source": [
    "tick_mask"
   ]
  },
  {
   "cell_type": "code",
   "execution_count": null,
   "metadata": {
    "collapsed": false
   },
   "outputs": [],
   "source": [
    "e._stream64[tick_mask]"
   ]
  },
  {
   "cell_type": "code",
   "execution_count": null,
   "metadata": {
    "collapsed": false
   },
   "outputs": [],
   "source": [
    "type_flags[~tick_mask]"
   ]
  },
  {
   "cell_type": "code",
   "execution_count": null,
   "metadata": {
    "collapsed": false
   },
   "outputs": [],
   "source": [
    "type_flags = np.bitwise_and(events['flags'],0x000f)\n",
    "peak_num = np.right_shift(np.bitwise_and(events['flags'],0x00f0),4)\n",
    "channel = np.right_shift(np.bitwise_and(events['flags'],0x0f00),8)\n",
    "event_type = np.right_shift(np.bitwise_and(events['flags'],0x3000),12)\n",
    "tick=np.bitwise_and(type_flags,0x0002)"
   ]
  },
  {
   "cell_type": "code",
   "execution_count": null,
   "metadata": {
    "collapsed": false
   },
   "outputs": [],
   "source": [
    "ticks"
   ]
  },
  {
   "cell_type": "code",
   "execution_count": null,
   "metadata": {
    "collapsed": false
   },
   "outputs": [],
   "source": []
  },
  {
   "cell_type": "code",
   "execution_count": null,
   "metadata": {
    "collapsed": false
   },
   "outputs": [],
   "source": [
    "tick_mask"
   ]
  },
  {
   "cell_type": "code",
   "execution_count": null,
   "metadata": {
    "collapsed": false
   },
   "outputs": [],
   "source": [
    "events[tick_mask]"
   ]
  },
  {
   "cell_type": "code",
   "execution_count": null,
   "metadata": {
    "collapsed": false
   },
   "outputs": [],
   "source": [
    "time=np.bitwise_and(events[~tick_mask]['time'],0x7fff)\n",
    "c_start=np.bitwise_and(events[~tick_mask]['time'],0x8000)!=0"
   ]
  },
  {
   "cell_type": "code",
   "execution_count": null,
   "metadata": {
    "collapsed": false
   },
   "outputs": [],
   "source": [
    "events[tick_mask]['time']"
   ]
  },
  {
   "cell_type": "code",
   "execution_count": null,
   "metadata": {
    "collapsed": false
   },
   "outputs": [],
   "source": [
    "time"
   ]
  },
  {
   "cell_type": "code",
   "execution_count": null,
   "metadata": {
    "collapsed": false
   },
   "outputs": [],
   "source": [
    "np.binary_repr(time[0],width=16)"
   ]
  },
  {
   "cell_type": "code",
   "execution_count": null,
   "metadata": {
    "collapsed": false
   },
   "outputs": [],
   "source": [
    "events[~tick_mask]['min']"
   ]
  },
  {
   "cell_type": "code",
   "execution_count": null,
   "metadata": {
    "collapsed": false
   },
   "outputs": [],
   "source": [
    "events[~tick_mask]['height']"
   ]
  },
  {
   "cell_type": "code",
   "execution_count": null,
   "metadata": {
    "collapsed": false
   },
   "outputs": [],
   "source": [
    "%matplotlib notebook\n",
    "fig = simplt.plot_pulse(1,data,pre=500,length=3000)\n"
   ]
  },
  {
   "cell_type": "code",
   "execution_count": null,
   "metadata": {
    "collapsed": true
   },
   "outputs": [],
   "source": [
    "import pickle\n",
    "\n",
    "# An arbitrary collection of objects supported by pickle.\n",
    "\n",
    "pickler = pickle.Pickler(open('long.pickle', 'wb'),pickle.HIGHEST_PROTOCOL)\n",
    "pickler.dump(data)\n"
   ]
  },
  {
   "cell_type": "code",
   "execution_count": null,
   "metadata": {
    "collapsed": true
   },
   "outputs": [],
   "source": [
    "unpickler = pickle.Unpickler(open('long.pickle', 'rb'))\n",
    "reg2=unpickler.load()\n",
    "data2=unpickler.load()"
   ]
  },
  {
   "cell_type": "code",
   "execution_count": null,
   "metadata": {
    "collapsed": false
   },
   "outputs": [],
   "source": [
    "data2.trace['slope']"
   ]
  },
  {
   "cell_type": "code",
   "execution_count": null,
   "metadata": {
    "collapsed": false
   },
   "outputs": [],
   "source": [
    "reg2"
   ]
  },
  {
   "cell_type": "code",
   "execution_count": null,
   "metadata": {
    "collapsed": false,
    "scrolled": false
   },
   "outputs": [],
   "source": [
    "axs = fig.get_axes()\n",
    "pax=axs[0].parasites\n",
    "pax[0]._label\n",
    "f_ins_ax=axs[1]\n",
    "s_ins_ax=f_ins_ax.parasites[0]"
   ]
  },
  {
   "cell_type": "code",
   "execution_count": null,
   "metadata": {
    "collapsed": false,
    "scrolled": false
   },
   "outputs": [],
   "source": [
    "es=sim.Data.fromfile('eventstream',np.int32,'teslib','measurement_unit_TB')"
   ]
  },
  {
   "cell_type": "code",
   "execution_count": null,
   "metadata": {
    "collapsed": false
   },
   "outputs": [],
   "source": [
    "es"
   ]
  },
  {
   "cell_type": "code",
   "execution_count": null,
   "metadata": {
    "collapsed": false
   },
   "outputs": [],
   "source": [
    "data.peak[-1]"
   ]
  },
  {
   "cell_type": "code",
   "execution_count": null,
   "metadata": {
    "collapsed": false
   },
   "outputs": [],
   "source": [
    "s.peak"
   ]
  },
  {
   "cell_type": "code",
   "execution_count": null,
   "metadata": {
    "collapsed": false
   },
   "outputs": [],
   "source": [
    "isinstance(r,sim.DataRegion)"
   ]
  },
  {
   "cell_type": "code",
   "execution_count": null,
   "metadata": {
    "collapsed": false
   },
   "outputs": [],
   "source": [
    "r.peak"
   ]
  },
  {
   "cell_type": "code",
   "execution_count": null,
   "metadata": {
    "collapsed": false
   },
   "outputs": [],
   "source": [
    "i"
   ]
  },
  {
   "cell_type": "code",
   "execution_count": null,
   "metadata": {
    "collapsed": false
   },
   "outputs": [],
   "source": [
    "%matplotlib notebook\n",
    "import matplotlib.pyplot as plt\n",
    "\n",
    "plt.plot(data.trace['filtered'])"
   ]
  },
  {
   "cell_type": "code",
   "execution_count": null,
   "metadata": {
    "collapsed": false
   },
   "outputs": [],
   "source": [
    "ax=plt.gca()\n",
    "t=ax.transData\n",
    "t.transform([[0.1,0.2],[1,3]])"
   ]
  },
  {
   "cell_type": "code",
   "execution_count": null,
   "metadata": {
    "collapsed": true
   },
   "outputs": [],
   "source": [
    "x=np.array([0,1,2,3])\n",
    "y=np.array([3,4,5,6])\n",
    "\n",
    "xy=np.empty(shape=(4,2))"
   ]
  },
  {
   "cell_type": "code",
   "execution_count": null,
   "metadata": {
    "collapsed": false
   },
   "outputs": [],
   "source": [
    "xy[:,0]=x\n",
    "xy[:,1]=y\n",
    "t.transform(xy)"
   ]
  },
  {
   "cell_type": "code",
   "execution_count": null,
   "metadata": {
    "collapsed": true
   },
   "outputs": [],
   "source": []
  },
  {
   "cell_type": "code",
   "execution_count": null,
   "metadata": {
    "collapsed": false
   },
   "outputs": [],
   "source": [
    "# run to import isim data files\n",
    "\n",
    "import numpy as np\n",
    "import os\n",
    "import matplotlib.pyplot as plt\n",
    "import math\n",
    "from enum import Enum\n",
    "\n",
    "plt.rcParams[\"figure.figsize\"]=[800./80,600./80]\n",
    "\n",
    "repo='c:\\\\TES_project\\\\fpga_ise\\\\'\n",
    "project='teslib'\n",
    "testbench='measurement_unit_TB'\n",
    "datafile='traces'\n",
    "path=repo+project+'\\\\PlanAhead\\\\'+project+'.sim\\\\'+testbench+'\\\\'\n",
    "\n",
    "traces_dt = np.dtype([('input', np.int32),('raw',np.int32),('filtered',np.int32),('slope',np.int32)])\n",
    "traces=np.fromfile(path+'traces',traces_dt)\n",
    "trigger=np.fromfile(path+'triggers',np.int32)\n",
    "settings=np.fromfile(path+'settings',np.int32)\n",
    "cfd_low=np.fromfile(path+'cfdlow',np.int32)\n",
    "cfd_high=np.fromfile(path+'cfdhigh',np.int32)\n",
    "peaks=np.fromfile(path+'peaks',np.int32)\n",
    "peaks.shape=(-1,2)\n",
    "peak_starts=np.fromfile(path+'peak_starts',np.int32)\n",
    "#peak_starts.shape=(-1,2)\n",
    "pulse_starts=np.fromfile(path+'peak_starts',np.int32)\n",
    "settings=np.fromfile(path+'settings',np.int32)\n",
    "cfd_low=np.fromfile(path+'cfdlow',np.int32)\n",
    "cfd_high=np.fromfile(path+'cfdhigh',np.int32)\n",
    "slope_xing=np.fromfile(path+'slopethreshxings',np.int32)\n"
   ]
  },
  {
   "cell_type": "code",
   "execution_count": null,
   "metadata": {
    "collapsed": false
   },
   "outputs": [],
   "source": [
    "settings[13]"
   ]
  },
  {
   "cell_type": "code",
   "execution_count": null,
   "metadata": {
    "collapsed": false
   },
   "outputs": [],
   "source": [
    "#create register dict from settings array\n",
    "\n",
    "class height_type(Enum):\n",
    "    def from_int(value):\n",
    "        if value == 0:\n",
    "            return height_type.peak_height\n",
    "        elif value == 1:\n",
    "            return height_type.cfd_high\n",
    "        elif value == 2:\n",
    "            return height_type.slope_integral\n",
    "        else:\n",
    "            raise AttributeError()\n",
    "    peak_height=0\n",
    "    cfd_high=1\n",
    "    slope_integral=2\n",
    "\n",
    "class trigger_type(Enum):\n",
    "    def from_int(value):\n",
    "        if value == 0:\n",
    "            return trigger_type.pulse_threshold\n",
    "        elif value == 1:\n",
    "            return trigger_type.slope_threshold\n",
    "        elif value == 2:\n",
    "            return trigger_type.cfd_low\n",
    "        else:\n",
    "            raise AttributeError()\n",
    "    pulse_threshold=0\n",
    "    slope_threshold=1\n",
    "    cfd_low=2\n",
    "\n",
    "class event_type(Enum):\n",
    "    def from_int(value):\n",
    "        if value == 0:\n",
    "            return event_type.peak\n",
    "        elif value == 1:\n",
    "            return event_type.area\n",
    "        elif value == 2:\n",
    "            return event_type.pulse\n",
    "        elif value == 3:\n",
    "            return event_type.trace\n",
    "        else:\n",
    "            raise AttributeError()\n",
    "    peak=0\n",
    "    area=1\n",
    "    pulse=2\n",
    "    trace=3\n",
    "\n",
    "\n",
    "def read_registers(settings):\n",
    "    registers = dict()\n",
    "    registers['baseline'] = dict()\n",
    "    registers['baseline']['offset'] = settings[0]\n",
    "    registers['baseline']['subtraction'] = settings[1]!=0\n",
    "    registers['baseline']['timeconstant'] = settings[2]\n",
    "    registers['baseline']['threshold'] = settings[3]\n",
    "    registers['baseline']['count_threshold'] = settings[4]\n",
    "    registers['generic'] = dict()\n",
    "    registers['baseline']['average_order'] = settings[5]\n",
    "    registers['capture'] = dict()\n",
    "    registers['capture']['cfd_relative'] = settings[6]!=0\n",
    "    registers['capture']['constant_fraction'] = settings[7]\n",
    "    registers['capture']['pulse_threshold'] = settings[8]\n",
    "    registers['capture']['slope_threshold'] = settings[9]\n",
    "    registers['capture']['pulse_area_threshold'] = settings[10]\n",
    "    registers['capture']['height_type'] = height_type.from_int(settings[11])\n",
    "    registers['capture']['threshold_rel2min'] = settings[12]!=0\n",
    "    registers['capture']['trigger_type'] = trigger_type.from_int(settings[13])\n",
    "    registers['capture']['event_type'] = event_type.from_int(settings[14])\n",
    "    return registers\n"
   ]
  },
  {
   "cell_type": "code",
   "execution_count": null,
   "metadata": {
    "collapsed": false
   },
   "outputs": [],
   "source": [
    "%matplotlib notebook\n",
    "x=np.arange(len(traces['filtered']))\n",
    "fig=plt.figure()\n",
    "\n",
    "ax=fig.add_axes([0.15,0.1,0.8,0.8])\n",
    "mV=1.0/math.pow(2,14)*1000\n",
    "nS=4\n",
    "\n",
    "\n",
    "i_trace, =ax.step(x*nS/1000000,(traces['input']+1800)*mV*2,'k',label='raw input')\n",
    "f_trace, =ax.step(x*nS/1000000,traces['filtered']*mV,'b',label='processed')\n",
    "fig.suptitle('Digital Signal Processing',fontsize=24)\n",
    "plt.xlabel('time (ms)',fontsize=18)\n",
    "plt.ylabel('Voltage (mV)',fontsize=18)\n",
    "plt.legend(handles=[i_trace,f_trace])\n",
    "\n",
    "fig.savefig('trace.png')\n",
    "plt.show()"
   ]
  },
  {
   "cell_type": "code",
   "execution_count": null,
   "metadata": {
    "collapsed": true
   },
   "outputs": [],
   "source": []
  },
  {
   "cell_type": "code",
   "execution_count": null,
   "metadata": {
    "collapsed": false
   },
   "outputs": [],
   "source": [
    "%matplotlib notebook\n",
    "import math\n",
    "\n",
    "def align_yaxis(ax1, v1, ax2, v2):\n",
    "    \"\"\"adjust ax2 ylimit so that v2 in ax2 is aligned to v1 in ax1\"\"\"\n",
    "    _, y1 = ax1.transData.transform((0, v1))\n",
    "    _, y2 = ax2.transData.transform((0, v2))\n",
    "    adjust_yaxis(ax2,(y1-y2)/2,v2)\n",
    "    adjust_yaxis(ax1,(y2-y1)/2,v1)\n",
    "\n",
    "def adjust_yaxis(ax,ydif,v):\n",
    "    \"\"\"shift axis ax by ydiff, maintaining point v at the same location\"\"\"\n",
    "    inv = ax.transData.inverted()\n",
    "    _, dy = inv.transform((0, 0)) - inv.transform((0, ydif))\n",
    "    miny, maxy = ax.get_ylim()\n",
    "    miny, maxy = miny - v, maxy - v\n",
    "    if -miny>maxy or (-miny==maxy and dy > 0):\n",
    "        nminy = miny\n",
    "        nmaxy = miny*(maxy+dy)/(miny+dy)\n",
    "    else:\n",
    "        nmaxy = maxy\n",
    "        nminy = maxy*(miny+dy)/(maxy+dy)\n",
    "    ax.set_ylim(nminy+v, nmaxy+v)\n",
    "    \n",
    "x=np.arange(len(traces['filtered']))\n",
    "fig=plt.figure()\n",
    "ax=fig.add_axes([0.1,0.1,0.8,0.8])\n",
    "plt.ylim(-10,120)\n",
    "v=math.pow(2,13)/1000\n",
    "t=x*4\n",
    "ax.plot([0,t[-1]],[0,0],'k')\n",
    "raw, = ax.step(t,traces['raw']/2/v,'k',lw=1,label='raw')\n",
    "processed, = ax.step(t,traces['filtered']/2/v,'r',lw=2,label='processed')\n",
    "ax.plot(trigger,traces['filtered'][trigger+1]/2,'kx')\n",
    "ax.plot(peaks[:,0],traces['filtered'][peaks[:,0]+1]/2,'ro')\n",
    "ax.plot(peak_starts,traces['filtered'][peak_starts+1]/2,'ro')\n",
    "ax.plot(cfd_high,traces['filtered'][cfd_high+1]/2,'bs')\n",
    "ax.plot(cfd_low,traces['filtered'][cfd_low+1]/2,'bs')\n",
    "plt.xlabel('time (ns)',fontsize=18)\n",
    "plt.ylabel('Voltage (mV)',fontsize=18,color='r')\n",
    "\n",
    "ax2=ax.twinx()\n",
    "slope, = ax2.step(t,traces['slope']/256/v/4,'b',lw=2,label='slope')\n",
    "plt.xlim([1292000,1297500])\n",
    "plt.ylim(-0.2,1)\n",
    "align_yaxis(ax,0,ax2,0)\n",
    "plt.ylabel('slope (mV/ns)',color='b',fontsize=18)\n",
    "fig.suptitle('Digital signal processing',fontsize=24)\n",
    "plt.legend(handles=[raw,processed,slope])\n",
    "fig.savefig('dsp.png')\n",
    "plt.show()"
   ]
  },
  {
   "cell_type": "code",
   "execution_count": null,
   "metadata": {
    "collapsed": false
   },
   "outputs": [],
   "source": [
    "%matplotlib notebook\n",
    "\n",
    "#plot pulse\n",
    "from mpl_toolkits.axes_grid1 import host_subplot\n",
    "from mpl_toolkits.axes_grid1.inset_locator import zoomed_inset_axes\n",
    "from mpl_toolkits.axes_grid1.inset_locator import mark_inset\n",
    "\n",
    "pulse=7\n",
    "length=2000\n",
    "pre=100\n",
    "\n",
    "def align_yaxis(ax1, v1, ax2, v2):\n",
    "    \"\"\"adjust ax2 ylimit so that v2 in ax2 is aligned to v1 in ax1\"\"\"\n",
    "    _, y1 = ax1.transData.transform((0, v1))\n",
    "    _, y2 = ax2.transData.transform((0, v2))\n",
    "    adjust_yaxis(ax2,(y1-y2)/2,v2)\n",
    "    adjust_yaxis(ax1,(y2-y1)/2,v1)\n",
    "\n",
    "def adjust_yaxis(ax,ydif,v):\n",
    "    \"\"\"shift axis ax by ydiff, maintaining point v at the same location\"\"\"\n",
    "    inv = ax.transData.inverted()\n",
    "    _, dy = inv.transform((0, 0)) - inv.transform((0, ydif))\n",
    "    miny, maxy = ax.get_ylim()\n",
    "    miny, maxy = miny - v, maxy - v\n",
    "    if -miny>maxy or (-miny==maxy and dy > 0):\n",
    "        nminy = miny\n",
    "        nmaxy = miny*(maxy+dy)/(miny+dy)\n",
    "    else:\n",
    "        nmaxy = maxy\n",
    "        nminy = maxy*(miny+dy)/(maxy+dy)\n",
    "    ax.set_ylim(nminy+v, nmaxy+v)\n",
    "    \n",
    "start=pulse_starts[pulse]-pre\n",
    "stop=start+length\n",
    "x=np.arange(0,len(traces['filtered']))\n",
    "fig=plt.figure()\n",
    "\n",
    "f_ax = host_subplot(111)\n",
    "s_ax = f_ax.twinx()\n",
    "\n",
    "f_ax.set_xlabel(\"Time (ns)\",fontsize=18)\n",
    "f_ax.set_ylabel(\"Voltage (mV)\",fontsize=18,color='r')\n",
    "s_ax.set_ylabel(\"Slope (mv/ns)\",fontsize=18,color='b')\n",
    "\n",
    "mV=1.0/math.pow(2,14)*1000\n",
    "nS=4\n",
    "t=x*nS\n",
    "\n",
    "f_sig = traces['filtered']*mV\n",
    "s_sig = traces['slope']*mV/nS\n",
    "\n",
    "f_ax.plot([t[start],t[stop]],[0,0],'k') # zero line\n",
    "f_trace, = f_ax.step(t[start:stop],f_sig[start:stop],'r',lw=2,label='processed')\n",
    "f_ax.set_ylim(-10,180)\n",
    "\n",
    "s_trace, = s_ax.step(t[start:stop],s_sig[start:stop],'b',lw=1,label='slope')\n",
    "s_ax.set_ylim(-15,50)\n",
    "#s_threshold = 6\n",
    "#s_ax.set_yticks(np.concatenate((s_ax.get_yticks(),[s_threshold])))\n",
    "#labels=[label.get_text() for label in s_ax.get_yticklabels()]\n",
    "#labels[6]='Threshold'\n",
    "\n",
    "#s_ax.set_yticklabels(labels)\n",
    "plt.xlim(t[start],t[stop])\n",
    "align_yaxis(f_ax,0,s_ax,0)\n",
    "fig.suptitle('Measurement:First pass',fontsize=24)\n",
    "#plt.legend(handles=[f_trace,s_trace])\n",
    "\n",
    "starts_mask = np.logical_and(peak_starts >= start,peak_starts <= stop)\n",
    "peaks_mask = np.logical_and(peaks[:,0] >= start, peaks[:,0] <= stop)\n",
    "peak_starts_inwin = peak_starts[starts_mask]\n",
    "\n",
    "for pstart in peak_starts_inwin:\n",
    "    peak_start_t=t[pstart]-2\n",
    "    peak_start_f=f_sig[pstart]\n",
    "    peak_start_s=s_sig[pstart]\n",
    "\n",
    "    f_ax.plot(peak_start_t,peak_start_f,'ro')\n",
    "    s_ax.plot(peak_start_t,peak_start_s,'bo')\n",
    "    \n",
    "    f_trans = f_ax.transData\n",
    "    s_trans = s_ax.transData.inverted()\n",
    "    trans = s_trans+f_trans\n",
    "    f_point=f_trans.transform((peak_start_t,peak_start_f))\n",
    "    s_point=s_trans.transform((f_point[0],f_point[1]))\n",
    "\n",
    "    s_ax.plot([peak_start_t,peak_start_t],[peak_start_s, s_point[1]],'k')\n",
    "\n",
    "#for p in peaks[0][peaks_inwin]\n",
    "peaks_inwin = peaks[peaks_mask,0]\n",
    "for p in peaks_inwin:\n",
    "    peak_t=t[p]-2\n",
    "    peak_f=f_sig[p]\n",
    "    peak_s=s_sig[p]\n",
    "\n",
    "    f_ax.plot(peak_t,peak_f,'ro')\n",
    "    s_ax.plot(peak_t,peak_s,'bo')\n",
    "    \n",
    "    f_trans = f_ax.transData\n",
    "    s_trans = s_ax.transData.inverted()\n",
    "    trans = s_trans+f_trans\n",
    "    f_point=f_trans.transform((peak_t,peak_f))\n",
    "    s_point=s_trans.transform((f_point[0],f_point[1]))\n",
    "\n",
    "    s_ax.plot([peak_t,peak_t],[peak_s, s_point[1]],'k')\n",
    "\n",
    "ins_start = peak_starts_inwin[0]-5\n",
    "ins_stop = peak_starts_inwin[0]+5\n",
    "f_ins_ax = zoomed_inset_axes(f_ax, 50, loc=1)  # zoom = 6\n",
    "f_ins_ax.step(t[ins_start:ins_stop],f_sig[ins_start:ins_stop],'r')\n",
    "f_ins_ax.set_ylim(-0.5,2)\n",
    "f_ins_ax.set_xlim(ins_start,ins_stop)\n",
    "f_ins_ax.set_yticks([])\n",
    "f_ins_ax.set_xticks([])\n",
    "\n",
    "f_ins_ax.plot([t[ins_start],t[ins_stop]],[0,0],'k') # zero line\n",
    "\n",
    "#plt.xticks(visible=False)\n",
    "#plt.yticks(visible=False)\n",
    "mark_inset(f_ax, f_ins_ax, loc1=2, loc2=4, fc=\"none\", ec=\"0.5\")\n",
    "\n",
    "s_ins_ax = f_ins_ax.twinx()\n",
    "s_ins_ax.set_yticks([])\n",
    "s_ins_ax.set_xticks([])\n",
    "\n",
    "s_ins_ax.step(t[ins_start:ins_stop],s_sig[ins_start:ins_stop],'b')\n",
    "\n",
    "s_ins_ax.set_ylim(-1,1)\n",
    "align_yaxis(f_ins_ax,0,s_ins_ax,0)\n",
    "\n",
    "pstart = peak_starts_inwin[0]\n",
    "peak_start_t=t[pstart]-2\n",
    "peak_start_f=f_sig[pstart]\n",
    "peak_start_s=s_sig[pstart]\n",
    "\n",
    "f_ins_ax.plot(peak_start_t,peak_start_f,'ro')\n",
    "s_ins_ax.plot(peak_start_t,peak_start_s,'bo')\n",
    "    \n",
    "f_trans = f_ins_ax.transData\n",
    "s_trans = s_ins_ax.transData.inverted()\n",
    "trans = s_trans+f_trans\n",
    "f_point=f_trans.transform((peak_start_t,peak_start_f))\n",
    "s_point=s_trans.transform((f_point[0],f_point[1]))\n",
    "\n",
    "s_ins_ax.plot([peak_start_t,peak_start_t],[peak_start_s, s_point[1]],'k')\n",
    "\n",
    "s_ax.plot([t[start],t[stop]],[s_threshold,s_threshold],ls='dashed')\n",
    "\n",
    "fig.savefig('measurement1.png')\n",
    "plt.draw()\n",
    "plt.show()"
   ]
  },
  {
   "cell_type": "code",
   "execution_count": null,
   "metadata": {
    "collapsed": false
   },
   "outputs": [],
   "source": [
    "%matplotlib notebook\n",
    "from mpl_toolkits.axes_grid1 import host_subplot\n",
    "from mpl_toolkits.axes_grid1.inset_locator import zoomed_inset_axes\n",
    "from mpl_toolkits.axes_grid1.inset_locator import mark_inset\n",
    "\n",
    "pulse=7\n",
    "length=2000\n",
    "pre=100\n",
    "\n",
    "def align_yaxis(ax1, v1, ax2, v2):\n",
    "    \"\"\"adjust ax2 ylimit so that v2 in ax2 is aligned to v1 in ax1\"\"\"\n",
    "    _, y1 = ax1.transData.transform((0, v1))\n",
    "    _, y2 = ax2.transData.transform((0, v2))\n",
    "    adjust_yaxis(ax2,(y1-y2)/2,v2)\n",
    "    adjust_yaxis(ax1,(y2-y1)/2,v1)\n",
    "\n",
    "def adjust_yaxis(ax,ydif,v):\n",
    "    \"\"\"shift axis ax by ydiff, maintaining point v at the same location\"\"\"\n",
    "    inv = ax.transData.inverted()\n",
    "    _, dy = inv.transform((0, 0)) - inv.transform((0, ydif))\n",
    "    miny, maxy = ax.get_ylim()\n",
    "    miny, maxy = miny - v, maxy - v\n",
    "    if -miny>maxy or (-miny==maxy and dy > 0):\n",
    "        nminy = miny\n",
    "        nmaxy = miny*(maxy+dy)/(miny+dy)\n",
    "    else:\n",
    "        nmaxy = maxy\n",
    "        nminy = maxy*(miny+dy)/(maxy+dy)\n",
    "    ax.set_ylim(nminy+v, nmaxy+v)\n",
    "    \n",
    "start=pulse_starts[pulse]-pre\n",
    "stop=start+length\n",
    "x=np.arange(0,len(traces['filtered']))\n",
    "fig=plt.figure()\n",
    "\n",
    "f_ax = host_subplot(111)\n",
    "s_ax = f_ax.twinx()\n",
    "\n",
    "f_ax.set_xlabel(\"Time (ns)\",fontsize=18)\n",
    "f_ax.set_ylabel(\"Voltage (mV)\",fontsize=18,color='r')\n",
    "s_ax.set_ylabel(\"Slope (mv/ns)\",fontsize=18,color='b')\n",
    "\n",
    "mV=1.0/math.pow(2,14)*1000\n",
    "nS=4\n",
    "t=x*nS\n",
    "\n",
    "f_sig = traces['filtered']*mV\n",
    "s_sig = traces['slope']*mV/nS\n",
    "\n",
    "f_ax.plot([t[start],t[stop]],[0,0],'k') # zero line\n",
    "f_trace, = f_ax.step(t[start:stop],f_sig[start:stop],'r',lw=2,label='processed')\n",
    "f_ax.set_ylim(-10,180)\n",
    "\n",
    "s_trace, = s_ax.step(t[start:stop],s_sig[start:stop],'b',lw=1,label='slope')\n",
    "s_ax.set_ylim(-15,50)\n",
    "#s_threshold = 6\n",
    "#s_ax.set_yticks(np.concatenate((s_ax.get_yticks(),[s_threshold])))\n",
    "#labels=[label.get_text() for label in s_ax.get_yticklabels()]\n",
    "#labels[6]='Threshold'\n",
    "\n",
    "#s_ax.set_yticklabels(labels)\n",
    "plt.xlim(t[start],t[stop])\n",
    "align_yaxis(f_ax,0,s_ax,0)\n",
    "fig.suptitle('Measurement:Second pass',fontsize=24)\n",
    "#plt.legend(handles=[f_trace,s_trace])\n",
    "\n",
    "starts_mask = np.logical_and(peak_starts >= start,peak_starts <= stop)\n",
    "peaks_mask = np.logical_and(peaks[:,0] >= start, peaks[:,0] <= stop)\n",
    "peak_starts_inwin = peak_starts[starts_mask]\n",
    "\n",
    "\n",
    "#for pstart in peak_starts_inwin:\n",
    "#    peak_start_t=t[pstart]-2\n",
    "#    peak_start_f=f_sig[pstart]\n",
    "#    peak_start_s=s_sig[pstart]\n",
    "#\n",
    "#    f_ax.plot(peak_start_t,peak_start_f,'ro')\n",
    "#    s_ax.plot(peak_start_t,peak_start_s,'bo')\n",
    "    \n",
    "#    f_trans = f_ax.transData\n",
    "#    s_trans = s_ax.transData.inverted()\n",
    "#    trans = s_trans+f_trans\n",
    "#    f_point=f_trans.transform((peak_start_t,peak_start_f))\n",
    "#    s_point=s_trans.transform((f_point[0],f_point[1]))\n",
    "\n",
    "#    s_ax.plot([peak_start_t,peak_start_t],[peak_start_s, s_point[1]],'k')\n",
    "\n",
    "#for p in peaks[0][peaks_inwin]\n",
    "peaks_inwin = peaks[peaks_mask,0]\n",
    "x_s=peak_starts_inwin\n",
    "x_p=peaks_inwin\n",
    "y_s=f_sig[x_s]\n",
    "y_p=f_sig[x_p]\n",
    "\n",
    "f_ax.plot(t[peak_starts_inwin],f_sig[peak_starts_inwin],'or')\n",
    "f_ax.plot(t[peaks_inwin],f_sig[peaks_inwin],'or')\n",
    "\n",
    "\n",
    "f_ax.plot([t[x_s[0]],t[x_p[0]]],[y_s[0],y_s[0]],'k')\n",
    "f_ax.plot([t[x_p[0]],t[x_p[0]]],[y_s[0],y_p[0]],'k')\n",
    "\n",
    "f_ax.plot([t[x_s[1]],t[x_p[1]]],[y_s[1],y_s[1]],'k')\n",
    "f_ax.plot([t[x_p[1]],t[x_p[1]]],[y_s[1],y_p[1]],'k')\n",
    "\n",
    "\n",
    "#for p in peaks_inwin:\n",
    "#    peak_t=t[p]-2\n",
    "#    peak_f=f_sig[p]\n",
    "#    peak_s=s_sig[p]\n",
    "\n",
    "#    f_ax.plot(peak_t,peak_f,'ro')\n",
    "#    s_ax.plot(peak_t,peak_s,'bo')\n",
    "    \n",
    "#    f_trans = f_ax.transData\n",
    "#    s_trans = s_ax.transata.inverted()\n",
    "#    trans = s_trans+f_trans\n",
    "#    f_point=f_trans.transform((peak_t,peak_f))\n",
    "#    s_point=s_trans.transform((f_point[0],f_point[1]))\n",
    "\n",
    "#    s_ax.plot([peak_t,peak_t],[peak_s, s_point[1]],'k')\n",
    "\n",
    "ins_start = peak_starts_inwin[1]-300\n",
    "ins_stop = peak_starts_inwin[1]+500\n",
    "f_ins_ax = zoomed_inset_axes(f_ax, 1.5, loc=1)  # zoom = 6\n",
    "f_ins_ax.step(t[ins_start:ins_stop],f_sig[ins_start:ins_stop],'r')\n",
    "f_ins_ax.set_ylim(60,180)\n",
    "f_ins_ax.set_xlim(t[ins_start],t[ins_stop])\n",
    "f_ins_ax.set_yticks([])\n",
    "f_ins_ax.set_xticks([])\n",
    "\n",
    "low_mask = np.logical_and(cfd_low >= start, cfd_low <= stop)\n",
    "low_inwin = cfd_low[low_mask]\n",
    "high_mask = np.logical_and(cfd_high >= start, cfd_high <= stop)\n",
    "high_inwin = cfd_high[high_mask]\n",
    "thresh_mask = np.logical_and(slope_xing >= start, slope_xing <= stop)\n",
    "thresh_inwin = slope_xing[thresh_mask]\n",
    "\n",
    "f_ins_ax.plot(t[peak_starts_inwin],f_sig[peak_starts_inwin],'or')\n",
    "f_ins_ax.plot(t[peaks_inwin],f_sig[peaks_inwin],'or')\n",
    "\n",
    "f_ins_ax.plot(t[low_inwin],f_sig[low_inwin],'ok')\n",
    "f_ins_ax.plot(t[high_inwin],f_sig[high_inwin],'ok')\n",
    "f_ax.plot(t[low_inwin],f_sig[low_inwin],'ok')\n",
    "f_ax.plot(t[high_inwin],f_sig[high_inwin],'ok')\n",
    "#f_ax.plot(t[thresh_inwin],f_sig[thresh_inwin],'ow')\n",
    "f_ins_ax.plot(t[thresh_inwin],f_sig[thresh_inwin],'ow')\n",
    "\n",
    "\n",
    "f_ins_ax.plot([t[x_s[0]],t[x_p[0]]],[y_s[0],y_s[0]],'k')\n",
    "f_ins_ax.plot([t[x_p[0]],t[x_p[0]]],[y_s[0],y_p[0]],'k')\n",
    "\n",
    "f_ins_ax.plot([t[x_s[1]],t[x_p[1]]],[y_s[1],y_s[1]],'k')\n",
    "f_ins_ax.plot([t[x_p[1]],t[x_p[1]]],[y_s[1],y_p[1]],'k')\n",
    "\n",
    "#f_ins_ax.plot([t[ins_start],t[ins_stop]],[0,0],'k') # zero line\n",
    "\n",
    "#plt.xticks(visible=False)\n",
    "#plt.yticks(visible=False)\n",
    "#mark_inset(f_ax, f_ins_ax, loc1=2, loc2=4, fc=\"none\", ec=\"0.5\")\n",
    "\n",
    "pstart = peak_starts_inwin[1]\n",
    "peak_start_t=t[pstart]-2\n",
    "peak_start_f=f_sig[pstart]\n",
    "peak_start_s=s_sig[pstart]\n",
    "\n",
    "f_ins_ax.plot(peak_start_t,peak_start_f,'ro')\n",
    "\n",
    "\n",
    "f_trans = f_ins_ax.transData\n",
    "s_trans = s_ins_ax.transData.inverted()\n",
    "trans = s_trans+f_trans\n",
    "f_point=f_trans.transform((peak_start_t,peak_start_f))\n",
    "s_point=s_trans.transform((f_point[0],f_point[1]))\n",
    "\n",
    "s_ins_ax.plot([peak_start_t,peak_start_t],[peak_start_s, s_point[1]],'k')\n",
    "\n",
    "s_ax.plot([t[start],t[stop]],[s_threshold,s_threshold],ls='dashed')\n",
    "\n",
    "fig.savefig('measurement2.png')\n",
    "plt.draw()\n",
    "plt.show()"
   ]
  },
  {
   "cell_type": "code",
   "execution_count": null,
   "metadata": {
    "collapsed": false
   },
   "outputs": [],
   "source": [
    "from mpl_toolkits.axes_grid1.inset_locator import inset_axes\n",
    "\n",
    "fig=plt.figure()\n",
    "fig.suptitle('Multi Channel Analyser',fontsize=24)\n",
    "\n",
    "h_ax = host_subplot(111)\n",
    "\n",
    "h_ins_ax = inset_axes(h_ax, width=\"80%\",height=1., loc=1)  # zoom = 6\n",
    "h_ins_ax.set_xlim(-25,160)\n",
    "h_ins_ax.set_ylim(0,0.002)\n",
    "h_ax.hist((traces['input']+200)*2*mV,math.pow(2,14),normed=1,facecolor='k',edgecolor='k')\n",
    "h_ax.hist(f_sig,math.pow(2,14),normed=1,facecolor='r',edgecolor='r')\n",
    "h_ins_ax.hist(f_sig,math.pow(2,14),normed=1,facecolor='r',edgecolor='r')\n",
    "h_ins_ax.set_xticks([])\n",
    "h_ins_ax.set_yticks([])\n",
    "h_ax.set_xlim(-30,100)\n",
    "h_ax.set_ylim(0,0.8)\n",
    "\n",
    "mark_inset(h_ax, h_ins_ax, loc1=2, loc2=4, fc=\"none\", ec=\"0.5\")\n",
    "\n",
    "h_ax.set_xlabel('Voltage (mV)')\n",
    "h_ax.set_ylabel('Probability')\n",
    "fig.savefig('hist.png')\n",
    "plt.show()"
   ]
  },
  {
   "cell_type": "code",
   "execution_count": null,
   "metadata": {
    "collapsed": true
   },
   "outputs": [],
   "source": [
    "peak_dt=np.dtype([('time',np.uint16),('flags',np.uint16),('minima',np.uint16),('height',np.uint16)])"
   ]
  },
  {
   "cell_type": "code",
   "execution_count": null,
   "metadata": {
    "collapsed": true
   },
   "outputs": [],
   "source": [
    "area_dt=np.dtype([('time',np.uint16),('flags',np.uint16),('area',np.uint32)])"
   ]
  },
  {
   "cell_type": "code",
   "execution_count": null,
   "metadata": {
    "collapsed": true
   },
   "outputs": [],
   "source": [
    "pulse_peak_dt=np.dtype([('trigger',np.uint16),('rise',np.uint16),('minima',np.uint16),('height',np.uint16)])\n",
    "pulse_header_dt=np.dtype([('time',np.uint16),('flags',np.uint16),('res1',np.uint16),('size',np.uint16),\n",
    "                    ('length',np.uint16),('res2',np.uint16),('area',np.int32)])"
   ]
  },
  {
   "cell_type": "code",
   "execution_count": null,
   "metadata": {
    "collapsed": false
   },
   "outputs": [],
   "source": [
    "pulse2_dt=np.dtype([('time',np.uint16),('flags',np.uint16),('res1',np.uint16),('size',np.uint16),\n",
    "                    ('length',np.uint16),('res2',np.uint16),('area',np.int32),\n",
    "                    ('trigger0',np.uint16),('rise0',np.uint16),('minima0',np.uint16),('height0',np.uint16),\n",
    "                    ('trigger1',np.uint16),('rise1',np.uint16),('minima1',np.uint16),('height1',np.uint16)])"
   ]
  },
  {
   "cell_type": "code",
   "execution_count": null,
   "metadata": {
    "collapsed": false
   },
   "outputs": [],
   "source": [
    "pulse2_subarray_dt=np.dtype([('header',pulse_header_dt,('peaks', (pulse_peak_dt,(1,2)) ))])"
   ]
  },
  {
   "cell_type": "code",
   "execution_count": null,
   "metadata": {
    "collapsed": true
   },
   "outputs": [],
   "source": [
    "eventstream=np.fromfile(path+'eventstream',peak_dt)"
   ]
  },
  {
   "cell_type": "code",
   "execution_count": null,
   "metadata": {
    "collapsed": true
   },
   "outputs": [],
   "source": [
    "eventstream=np.fromfile(path+'eventstream',area_dt)"
   ]
  },
  {
   "cell_type": "code",
   "execution_count": null,
   "metadata": {
    "collapsed": true
   },
   "outputs": [],
   "source": [
    "eventstream=np.fromfile(path+'eventstream',pulse2_dt)"
   ]
  },
  {
   "cell_type": "code",
   "execution_count": null,
   "metadata": {
    "collapsed": false
   },
   "outputs": [],
   "source": [
    "eventstream"
   ]
  },
  {
   "cell_type": "code",
   "execution_count": null,
   "metadata": {
    "collapsed": false
   },
   "outputs": [],
   "source": [
    "flags=eventstream['flags']\n",
    "print(np.binary_repr(flags[0],16))"
   ]
  },
  {
   "cell_type": "code",
   "execution_count": null,
   "metadata": {
    "collapsed": false
   },
   "outputs": [],
   "source": [
    "print(\"flags:{:016b}\\nsize:{}\\nlength:{}\\narea:{}\\ntrigger:{} rise:{} minima:{} height:{}\\ntrigger:{} rise:{} minima:{} height:{}\\n\"  \n",
    "      .format(eventstream['flags'][0],eventstream['size'][0],eventstream['length'][0],eventstream['area'][0],\n",
    "        eventstream['trigger0'][0],eventstream['rise0'][0],eventstream['minima0'][0],eventstream['height0'][0],\n",
    "        eventstream['trigger1'][0],eventstream['rise1'][0],eventstream['minima1'][0],eventstream['height1'][0]))"
   ]
  },
  {
   "cell_type": "code",
   "execution_count": null,
   "metadata": {
    "collapsed": false
   },
   "outputs": [],
   "source": [
    "print(np.binary_repr(flags[1],16))"
   ]
  },
  {
   "cell_type": "code",
   "execution_count": null,
   "metadata": {
    "collapsed": true
   },
   "outputs": [],
   "source": [
    "rel_to_min=np.right_shift(np.bitwise_and(flags,0x8000),15).astype(np.bool)\n",
    "channel=np.right_shift(np.bitwise_and(flags,0x0F00),8).astype(np.uint8)\n",
    "threshold_rel2min=np.right_shift(np.bitwise_and(flags,0x4000),14).astype(np.bool)\n",
    "peak_count=np.right_shift(np.bitwise_and(flags,0x00F0),4).astype(np.uint8)\n",
    "tick=np.bitwise_and(flags,0x0001).astype(bool)\n",
    "area=np.right_shift(np.bitwise_and(flags,0x0002),1).astype(np.bool)\n",
    "trace=np.right_shift(np.bitwise_and(flags,0x0004),2).astype(np.bool)\n",
    "fixed=np.right_shift(np.bitwise_and(flags,0x0008),3).astype(np.bool)\n",
    "event_type=np.right_shift(np.bitwise_and(flags,0x3000),12).astype(np.uint8)"
   ]
  },
  {
   "cell_type": "code",
   "execution_count": null,
   "metadata": {
    "collapsed": false
   },
   "outputs": [],
   "source": [
    "flags"
   ]
  },
  {
   "cell_type": "code",
   "execution_count": null,
   "metadata": {
    "collapsed": false
   },
   "outputs": [],
   "source": [
    "eventstream"
   ]
  },
  {
   "cell_type": "code",
   "execution_count": null,
   "metadata": {
    "collapsed": true
   },
   "outputs": [],
   "source": []
  },
  {
   "cell_type": "code",
   "execution_count": null,
   "metadata": {
    "collapsed": true
   },
   "outputs": [],
   "source": []
  }
 ],
 "metadata": {
  "kernelspec": {
   "display_name": "Python 3",
   "language": "python",
   "name": "python3"
  },
  "language_info": {
   "codemirror_mode": {
    "name": "ipython",
    "version": 3
   },
   "file_extension": ".py",
   "mimetype": "text/x-python",
   "name": "python",
   "nbconvert_exporter": "python",
   "pygments_lexer": "ipython3",
   "version": "3.5.1"
  }
 },
 "nbformat": 4,
 "nbformat_minor": 0
}
