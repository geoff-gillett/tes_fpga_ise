{
 "cells": [
  {
   "cell_type": "code",
   "execution_count": 177,
   "metadata": {
    "collapsed": false,
    "scrolled": false
   },
   "outputs": [
    {
     "data": {
      "text/plain": [
       "array([], \n",
       "      dtype=[('data', '>u8'), ('last', '?')])"
      ]
     },
     "execution_count": 177,
     "metadata": {},
     "output_type": "execute_result"
    }
   ],
   "source": [
    "import sys\n",
    "import simulation.data as sim\n",
    "import simulation.plot as simplt\n",
    "import numpy as np\n",
    "import matplotlib.pyplot as plt\n",
    "from simulation.filesets import measurement_unit_TB as fileset\n",
    "\n",
    "data = sim.Data(fileset, 1, 'teslib','measurement_unit_TB')\n",
    "data.event_stream"
   ]
  },
  {
   "cell_type": "code",
   "execution_count": 144,
   "metadata": {
    "collapsed": false
   },
   "outputs": [
    {
     "data": {
      "text/plain": [
       "1392"
      ]
     },
     "execution_count": 144,
     "metadata": {},
     "output_type": "execute_result"
    }
   ],
   "source": [
    "len(data.event_stream)*8"
   ]
  },
  {
   "cell_type": "code",
   "execution_count": 171,
   "metadata": {
    "collapsed": false
   },
   "outputs": [],
   "source": [
    "es=sim.EventStream(data.event_stream)"
   ]
  },
  {
   "cell_type": "code",
   "execution_count": 172,
   "metadata": {
    "collapsed": false
   },
   "outputs": [
    {
     "data": {
      "text/plain": [
       "<PayloadType.trace: 3>"
      ]
     },
     "execution_count": 172,
     "metadata": {},
     "output_type": "execute_result"
    }
   ],
   "source": [
    "sim.PayloadType.from_int(np.right_shift(np.bitwise_and(es.bytestream[5], 0x000C), 2))"
   ]
  },
  {
   "cell_type": "code",
   "execution_count": 173,
   "metadata": {
    "collapsed": false
   },
   "outputs": [
    {
     "data": {
      "text/plain": [
       "140"
      ]
     },
     "execution_count": 173,
     "metadata": {},
     "output_type": "execute_result"
    }
   ],
   "source": [
    "es.bytestream[5]"
   ]
  },
  {
   "cell_type": "code",
   "execution_count": 174,
   "metadata": {
    "collapsed": false
   },
   "outputs": [
    {
     "data": {
      "text/plain": [
       "peak count:1\n",
       "height_rel2min:False\n",
       "HeightType.peak_height\n",
       "TriggerType.cfd_low\n",
       "channel:7\n",
       "PayloadType.trace\n",
       "tick:False\n",
       "new_window:False"
      ]
     },
     "execution_count": 174,
     "metadata": {},
     "output_type": "execute_result"
    }
   ],
   "source": [
    "sim.EventStream.Flags(es.bytestream[4:6])"
   ]
  },
  {
   "cell_type": "code",
   "execution_count": 175,
   "metadata": {
    "collapsed": false
   },
   "outputs": [
    {
     "data": {
      "text/plain": [
       "array([(681, [1, 129], [23, 140], 0, 275, 0, 0, 677, [0, 0], 996009)], \n",
       "      dtype=[('size', '<u2'), ('tflags', 'u1', (2,)), ('dflags', 'u1', (2,)), ('time', '<u2'), ('offset', '<u2'), ('p_thresh', '<u2'), ('s_thresh', '<u2'), ('length', '<u2'), ('resvd', '<u2', (2,)), ('area', '<u4')])"
      ]
     },
     "execution_count": 175,
     "metadata": {},
     "output_type": "execute_result"
    }
   ],
   "source": [
    "trace_header_dt = np.dtype(\n",
    "    ([\n",
    "            ('size',np.uint16),('tflags',np.uint8,(2,)),('dflags',np.uint8,(2,)),\n",
    "            ('time',np.uint16),('offset',np.uint16),('p_thresh',np.uint16),\n",
    "            ('s_thresh',np.uint16),('length',np.uint16),('resvd',np.uint16,(2,)),\n",
    "            ('area',np.uint32)\n",
    "     ])\n",
    ")\n",
    "trace_peak_dt = np.dtype(\n",
    "    ([\n",
    "            ('min',np.uint16),('height',np.uint16),('max',np.uint16),('time',np.uint16)\n",
    "            \n",
    "    ])\n",
    ")\n",
    "trace_dt = np.dtype(\n",
    "    [('header',trace_header_dt),('peaks',trace_peak_dt,(1,)),('data',np.uint16,(600,))]\n",
    ")\n",
    "\n",
    "h=es.bytestream[0:24].view(trace_header_dt)\n",
    "max_peaks=np.bitwise_and(h['tflags'][0][1],0x0F)\n",
    "p=es.bytestream[24:24+(max_peaks+1)*8].view(trace_peak_dt)\n",
    "d=es.bytestream[24+(max_peaks+1)*8:].view(np.int16)\n",
    "h"
   ]
  },
  {
   "cell_type": "code",
   "execution_count": 176,
   "metadata": {
    "collapsed": false
   },
   "outputs": [
    {
     "data": {
      "text/plain": [
       "array([(681, [1, 129], [23, 140], 0, 275, 0, 0, 677, [0, 0], 996009)], \n",
       "      dtype=[('size', '<u2'), ('tflags', 'u1', (2,)), ('dflags', 'u1', (2,)), ('time', '<u2'), ('offset', '<u2'), ('p_thresh', '<u2'), ('s_thresh', '<u2'), ('length', '<u2'), ('resvd', '<u2', (2,)), ('area', '<u4')])"
      ]
     },
     "execution_count": 176,
     "metadata": {},
     "output_type": "execute_result"
    }
   ],
   "source": [
    "h"
   ]
  },
  {
   "cell_type": "code",
   "execution_count": 167,
   "metadata": {
    "collapsed": false
   },
   "outputs": [
    {
     "data": {
      "application/javascript": [
       "/* Put everything inside the global mpl namespace */\n",
       "window.mpl = {};\n",
       "\n",
       "mpl.get_websocket_type = function() {\n",
       "    if (typeof(WebSocket) !== 'undefined') {\n",
       "        return WebSocket;\n",
       "    } else if (typeof(MozWebSocket) !== 'undefined') {\n",
       "        return MozWebSocket;\n",
       "    } else {\n",
       "        alert('Your browser does not have WebSocket support.' +\n",
       "              'Please try Chrome, Safari or Firefox ≥ 6. ' +\n",
       "              'Firefox 4 and 5 are also supported but you ' +\n",
       "              'have to enable WebSockets in about:config.');\n",
       "    };\n",
       "}\n",
       "\n",
       "mpl.figure = function(figure_id, websocket, ondownload, parent_element) {\n",
       "    this.id = figure_id;\n",
       "\n",
       "    this.ws = websocket;\n",
       "\n",
       "    this.supports_binary = (this.ws.binaryType != undefined);\n",
       "\n",
       "    if (!this.supports_binary) {\n",
       "        var warnings = document.getElementById(\"mpl-warnings\");\n",
       "        if (warnings) {\n",
       "            warnings.style.display = 'block';\n",
       "            warnings.textContent = (\n",
       "                \"This browser does not support binary websocket messages. \" +\n",
       "                    \"Performance may be slow.\");\n",
       "        }\n",
       "    }\n",
       "\n",
       "    this.imageObj = new Image();\n",
       "\n",
       "    this.context = undefined;\n",
       "    this.message = undefined;\n",
       "    this.canvas = undefined;\n",
       "    this.rubberband_canvas = undefined;\n",
       "    this.rubberband_context = undefined;\n",
       "    this.format_dropdown = undefined;\n",
       "\n",
       "    this.image_mode = 'full';\n",
       "\n",
       "    this.root = $('<div/>');\n",
       "    this._root_extra_style(this.root)\n",
       "    this.root.attr('style', 'display: inline-block');\n",
       "\n",
       "    $(parent_element).append(this.root);\n",
       "\n",
       "    this._init_header(this);\n",
       "    this._init_canvas(this);\n",
       "    this._init_toolbar(this);\n",
       "\n",
       "    var fig = this;\n",
       "\n",
       "    this.waiting = false;\n",
       "\n",
       "    this.ws.onopen =  function () {\n",
       "            fig.send_message(\"supports_binary\", {value: fig.supports_binary});\n",
       "            fig.send_message(\"send_image_mode\", {});\n",
       "            fig.send_message(\"refresh\", {});\n",
       "        }\n",
       "\n",
       "    this.imageObj.onload = function() {\n",
       "            if (fig.image_mode == 'full') {\n",
       "                // Full images could contain transparency (where diff images\n",
       "                // almost always do), so we need to clear the canvas so that\n",
       "                // there is no ghosting.\n",
       "                fig.context.clearRect(0, 0, fig.canvas.width, fig.canvas.height);\n",
       "            }\n",
       "            fig.context.drawImage(fig.imageObj, 0, 0);\n",
       "        };\n",
       "\n",
       "    this.imageObj.onunload = function() {\n",
       "        this.ws.close();\n",
       "    }\n",
       "\n",
       "    this.ws.onmessage = this._make_on_message_function(this);\n",
       "\n",
       "    this.ondownload = ondownload;\n",
       "}\n",
       "\n",
       "mpl.figure.prototype._init_header = function() {\n",
       "    var titlebar = $(\n",
       "        '<div class=\"ui-dialog-titlebar ui-widget-header ui-corner-all ' +\n",
       "        'ui-helper-clearfix\"/>');\n",
       "    var titletext = $(\n",
       "        '<div class=\"ui-dialog-title\" style=\"width: 100%; ' +\n",
       "        'text-align: center; padding: 3px;\"/>');\n",
       "    titlebar.append(titletext)\n",
       "    this.root.append(titlebar);\n",
       "    this.header = titletext[0];\n",
       "}\n",
       "\n",
       "\n",
       "\n",
       "mpl.figure.prototype._canvas_extra_style = function(canvas_div) {\n",
       "\n",
       "}\n",
       "\n",
       "\n",
       "mpl.figure.prototype._root_extra_style = function(canvas_div) {\n",
       "\n",
       "}\n",
       "\n",
       "mpl.figure.prototype._init_canvas = function() {\n",
       "    var fig = this;\n",
       "\n",
       "    var canvas_div = $('<div/>');\n",
       "\n",
       "    canvas_div.attr('style', 'position: relative; clear: both; outline: 0');\n",
       "\n",
       "    function canvas_keyboard_event(event) {\n",
       "        return fig.key_event(event, event['data']);\n",
       "    }\n",
       "\n",
       "    canvas_div.keydown('key_press', canvas_keyboard_event);\n",
       "    canvas_div.keyup('key_release', canvas_keyboard_event);\n",
       "    this.canvas_div = canvas_div\n",
       "    this._canvas_extra_style(canvas_div)\n",
       "    this.root.append(canvas_div);\n",
       "\n",
       "    var canvas = $('<canvas/>');\n",
       "    canvas.addClass('mpl-canvas');\n",
       "    canvas.attr('style', \"left: 0; top: 0; z-index: 0; outline: 0\")\n",
       "\n",
       "    this.canvas = canvas[0];\n",
       "    this.context = canvas[0].getContext(\"2d\");\n",
       "\n",
       "    var rubberband = $('<canvas/>');\n",
       "    rubberband.attr('style', \"position: absolute; left: 0; top: 0; z-index: 1;\")\n",
       "\n",
       "    var pass_mouse_events = true;\n",
       "\n",
       "    canvas_div.resizable({\n",
       "        start: function(event, ui) {\n",
       "            pass_mouse_events = false;\n",
       "        },\n",
       "        resize: function(event, ui) {\n",
       "            fig.request_resize(ui.size.width, ui.size.height);\n",
       "        },\n",
       "        stop: function(event, ui) {\n",
       "            pass_mouse_events = true;\n",
       "            fig.request_resize(ui.size.width, ui.size.height);\n",
       "        },\n",
       "    });\n",
       "\n",
       "    function mouse_event_fn(event) {\n",
       "        if (pass_mouse_events)\n",
       "            return fig.mouse_event(event, event['data']);\n",
       "    }\n",
       "\n",
       "    rubberband.mousedown('button_press', mouse_event_fn);\n",
       "    rubberband.mouseup('button_release', mouse_event_fn);\n",
       "    // Throttle sequential mouse events to 1 every 20ms.\n",
       "    rubberband.mousemove('motion_notify', mouse_event_fn);\n",
       "\n",
       "    rubberband.mouseenter('figure_enter', mouse_event_fn);\n",
       "    rubberband.mouseleave('figure_leave', mouse_event_fn);\n",
       "\n",
       "    canvas_div.on(\"wheel\", function (event) {\n",
       "        event = event.originalEvent;\n",
       "        event['data'] = 'scroll'\n",
       "        if (event.deltaY < 0) {\n",
       "            event.step = 1;\n",
       "        } else {\n",
       "            event.step = -1;\n",
       "        }\n",
       "        mouse_event_fn(event);\n",
       "    });\n",
       "\n",
       "    canvas_div.append(canvas);\n",
       "    canvas_div.append(rubberband);\n",
       "\n",
       "    this.rubberband = rubberband;\n",
       "    this.rubberband_canvas = rubberband[0];\n",
       "    this.rubberband_context = rubberband[0].getContext(\"2d\");\n",
       "    this.rubberband_context.strokeStyle = \"#000000\";\n",
       "\n",
       "    this._resize_canvas = function(width, height) {\n",
       "        // Keep the size of the canvas, canvas container, and rubber band\n",
       "        // canvas in synch.\n",
       "        canvas_div.css('width', width)\n",
       "        canvas_div.css('height', height)\n",
       "\n",
       "        canvas.attr('width', width);\n",
       "        canvas.attr('height', height);\n",
       "\n",
       "        rubberband.attr('width', width);\n",
       "        rubberband.attr('height', height);\n",
       "    }\n",
       "\n",
       "    // Set the figure to an initial 600x600px, this will subsequently be updated\n",
       "    // upon first draw.\n",
       "    this._resize_canvas(600, 600);\n",
       "\n",
       "    // Disable right mouse context menu.\n",
       "    $(this.rubberband_canvas).bind(\"contextmenu\",function(e){\n",
       "        return false;\n",
       "    });\n",
       "\n",
       "    function set_focus () {\n",
       "        canvas.focus();\n",
       "        canvas_div.focus();\n",
       "    }\n",
       "\n",
       "    window.setTimeout(set_focus, 100);\n",
       "}\n",
       "\n",
       "mpl.figure.prototype._init_toolbar = function() {\n",
       "    var fig = this;\n",
       "\n",
       "    var nav_element = $('<div/>')\n",
       "    nav_element.attr('style', 'width: 100%');\n",
       "    this.root.append(nav_element);\n",
       "\n",
       "    // Define a callback function for later on.\n",
       "    function toolbar_event(event) {\n",
       "        return fig.toolbar_button_onclick(event['data']);\n",
       "    }\n",
       "    function toolbar_mouse_event(event) {\n",
       "        return fig.toolbar_button_onmouseover(event['data']);\n",
       "    }\n",
       "\n",
       "    for(var toolbar_ind in mpl.toolbar_items) {\n",
       "        var name = mpl.toolbar_items[toolbar_ind][0];\n",
       "        var tooltip = mpl.toolbar_items[toolbar_ind][1];\n",
       "        var image = mpl.toolbar_items[toolbar_ind][2];\n",
       "        var method_name = mpl.toolbar_items[toolbar_ind][3];\n",
       "\n",
       "        if (!name) {\n",
       "            // put a spacer in here.\n",
       "            continue;\n",
       "        }\n",
       "        var button = $('<button/>');\n",
       "        button.addClass('ui-button ui-widget ui-state-default ui-corner-all ' +\n",
       "                        'ui-button-icon-only');\n",
       "        button.attr('role', 'button');\n",
       "        button.attr('aria-disabled', 'false');\n",
       "        button.click(method_name, toolbar_event);\n",
       "        button.mouseover(tooltip, toolbar_mouse_event);\n",
       "\n",
       "        var icon_img = $('<span/>');\n",
       "        icon_img.addClass('ui-button-icon-primary ui-icon');\n",
       "        icon_img.addClass(image);\n",
       "        icon_img.addClass('ui-corner-all');\n",
       "\n",
       "        var tooltip_span = $('<span/>');\n",
       "        tooltip_span.addClass('ui-button-text');\n",
       "        tooltip_span.html(tooltip);\n",
       "\n",
       "        button.append(icon_img);\n",
       "        button.append(tooltip_span);\n",
       "\n",
       "        nav_element.append(button);\n",
       "    }\n",
       "\n",
       "    var fmt_picker_span = $('<span/>');\n",
       "\n",
       "    var fmt_picker = $('<select/>');\n",
       "    fmt_picker.addClass('mpl-toolbar-option ui-widget ui-widget-content');\n",
       "    fmt_picker_span.append(fmt_picker);\n",
       "    nav_element.append(fmt_picker_span);\n",
       "    this.format_dropdown = fmt_picker[0];\n",
       "\n",
       "    for (var ind in mpl.extensions) {\n",
       "        var fmt = mpl.extensions[ind];\n",
       "        var option = $(\n",
       "            '<option/>', {selected: fmt === mpl.default_extension}).html(fmt);\n",
       "        fmt_picker.append(option)\n",
       "    }\n",
       "\n",
       "    // Add hover states to the ui-buttons\n",
       "    $( \".ui-button\" ).hover(\n",
       "        function() { $(this).addClass(\"ui-state-hover\");},\n",
       "        function() { $(this).removeClass(\"ui-state-hover\");}\n",
       "    );\n",
       "\n",
       "    var status_bar = $('<span class=\"mpl-message\"/>');\n",
       "    nav_element.append(status_bar);\n",
       "    this.message = status_bar[0];\n",
       "}\n",
       "\n",
       "mpl.figure.prototype.request_resize = function(x_pixels, y_pixels) {\n",
       "    // Request matplotlib to resize the figure. Matplotlib will then trigger a resize in the client,\n",
       "    // which will in turn request a refresh of the image.\n",
       "    this.send_message('resize', {'width': x_pixels, 'height': y_pixels});\n",
       "}\n",
       "\n",
       "mpl.figure.prototype.send_message = function(type, properties) {\n",
       "    properties['type'] = type;\n",
       "    properties['figure_id'] = this.id;\n",
       "    this.ws.send(JSON.stringify(properties));\n",
       "}\n",
       "\n",
       "mpl.figure.prototype.send_draw_message = function() {\n",
       "    if (!this.waiting) {\n",
       "        this.waiting = true;\n",
       "        this.ws.send(JSON.stringify({type: \"draw\", figure_id: this.id}));\n",
       "    }\n",
       "}\n",
       "\n",
       "\n",
       "mpl.figure.prototype.handle_save = function(fig, msg) {\n",
       "    var format_dropdown = fig.format_dropdown;\n",
       "    var format = format_dropdown.options[format_dropdown.selectedIndex].value;\n",
       "    fig.ondownload(fig, format);\n",
       "}\n",
       "\n",
       "\n",
       "mpl.figure.prototype.handle_resize = function(fig, msg) {\n",
       "    var size = msg['size'];\n",
       "    if (size[0] != fig.canvas.width || size[1] != fig.canvas.height) {\n",
       "        fig._resize_canvas(size[0], size[1]);\n",
       "        fig.send_message(\"refresh\", {});\n",
       "    };\n",
       "}\n",
       "\n",
       "mpl.figure.prototype.handle_rubberband = function(fig, msg) {\n",
       "    var x0 = msg['x0'];\n",
       "    var y0 = fig.canvas.height - msg['y0'];\n",
       "    var x1 = msg['x1'];\n",
       "    var y1 = fig.canvas.height - msg['y1'];\n",
       "    x0 = Math.floor(x0) + 0.5;\n",
       "    y0 = Math.floor(y0) + 0.5;\n",
       "    x1 = Math.floor(x1) + 0.5;\n",
       "    y1 = Math.floor(y1) + 0.5;\n",
       "    var min_x = Math.min(x0, x1);\n",
       "    var min_y = Math.min(y0, y1);\n",
       "    var width = Math.abs(x1 - x0);\n",
       "    var height = Math.abs(y1 - y0);\n",
       "\n",
       "    fig.rubberband_context.clearRect(\n",
       "        0, 0, fig.canvas.width, fig.canvas.height);\n",
       "\n",
       "    fig.rubberband_context.strokeRect(min_x, min_y, width, height);\n",
       "}\n",
       "\n",
       "mpl.figure.prototype.handle_figure_label = function(fig, msg) {\n",
       "    // Updates the figure title.\n",
       "    fig.header.textContent = msg['label'];\n",
       "}\n",
       "\n",
       "mpl.figure.prototype.handle_cursor = function(fig, msg) {\n",
       "    var cursor = msg['cursor'];\n",
       "    switch(cursor)\n",
       "    {\n",
       "    case 0:\n",
       "        cursor = 'pointer';\n",
       "        break;\n",
       "    case 1:\n",
       "        cursor = 'default';\n",
       "        break;\n",
       "    case 2:\n",
       "        cursor = 'crosshair';\n",
       "        break;\n",
       "    case 3:\n",
       "        cursor = 'move';\n",
       "        break;\n",
       "    }\n",
       "    fig.rubberband_canvas.style.cursor = cursor;\n",
       "}\n",
       "\n",
       "mpl.figure.prototype.handle_message = function(fig, msg) {\n",
       "    fig.message.textContent = msg['message'];\n",
       "}\n",
       "\n",
       "mpl.figure.prototype.handle_draw = function(fig, msg) {\n",
       "    // Request the server to send over a new figure.\n",
       "    fig.send_draw_message();\n",
       "}\n",
       "\n",
       "mpl.figure.prototype.handle_image_mode = function(fig, msg) {\n",
       "    fig.image_mode = msg['mode'];\n",
       "}\n",
       "\n",
       "mpl.figure.prototype.updated_canvas_event = function() {\n",
       "    // Called whenever the canvas gets updated.\n",
       "    this.send_message(\"ack\", {});\n",
       "}\n",
       "\n",
       "// A function to construct a web socket function for onmessage handling.\n",
       "// Called in the figure constructor.\n",
       "mpl.figure.prototype._make_on_message_function = function(fig) {\n",
       "    return function socket_on_message(evt) {\n",
       "        if (evt.data instanceof Blob) {\n",
       "            /* FIXME: We get \"Resource interpreted as Image but\n",
       "             * transferred with MIME type text/plain:\" errors on\n",
       "             * Chrome.  But how to set the MIME type?  It doesn't seem\n",
       "             * to be part of the websocket stream */\n",
       "            evt.data.type = \"image/png\";\n",
       "\n",
       "            /* Free the memory for the previous frames */\n",
       "            if (fig.imageObj.src) {\n",
       "                (window.URL || window.webkitURL).revokeObjectURL(\n",
       "                    fig.imageObj.src);\n",
       "            }\n",
       "\n",
       "            fig.imageObj.src = (window.URL || window.webkitURL).createObjectURL(\n",
       "                evt.data);\n",
       "            fig.updated_canvas_event();\n",
       "            fig.waiting = false;\n",
       "            return;\n",
       "        }\n",
       "        else if (typeof evt.data === 'string' && evt.data.slice(0, 21) == \"data:image/png;base64\") {\n",
       "            fig.imageObj.src = evt.data;\n",
       "            fig.updated_canvas_event();\n",
       "            fig.waiting = false;\n",
       "            return;\n",
       "        }\n",
       "\n",
       "        var msg = JSON.parse(evt.data);\n",
       "        var msg_type = msg['type'];\n",
       "\n",
       "        // Call the  \"handle_{type}\" callback, which takes\n",
       "        // the figure and JSON message as its only arguments.\n",
       "        try {\n",
       "            var callback = fig[\"handle_\" + msg_type];\n",
       "        } catch (e) {\n",
       "            console.log(\"No handler for the '\" + msg_type + \"' message type: \", msg);\n",
       "            return;\n",
       "        }\n",
       "\n",
       "        if (callback) {\n",
       "            try {\n",
       "                // console.log(\"Handling '\" + msg_type + \"' message: \", msg);\n",
       "                callback(fig, msg);\n",
       "            } catch (e) {\n",
       "                console.log(\"Exception inside the 'handler_\" + msg_type + \"' callback:\", e, e.stack, msg);\n",
       "            }\n",
       "        }\n",
       "    };\n",
       "}\n",
       "\n",
       "// from http://stackoverflow.com/questions/1114465/getting-mouse-location-in-canvas\n",
       "mpl.findpos = function(e) {\n",
       "    //this section is from http://www.quirksmode.org/js/events_properties.html\n",
       "    var targ;\n",
       "    if (!e)\n",
       "        e = window.event;\n",
       "    if (e.target)\n",
       "        targ = e.target;\n",
       "    else if (e.srcElement)\n",
       "        targ = e.srcElement;\n",
       "    if (targ.nodeType == 3) // defeat Safari bug\n",
       "        targ = targ.parentNode;\n",
       "\n",
       "    // jQuery normalizes the pageX and pageY\n",
       "    // pageX,Y are the mouse positions relative to the document\n",
       "    // offset() returns the position of the element relative to the document\n",
       "    var x = e.pageX - $(targ).offset().left;\n",
       "    var y = e.pageY - $(targ).offset().top;\n",
       "\n",
       "    return {\"x\": x, \"y\": y};\n",
       "};\n",
       "\n",
       "/*\n",
       " * return a copy of an object with only non-object keys\n",
       " * we need this to avoid circular references\n",
       " * http://stackoverflow.com/a/24161582/3208463\n",
       " */\n",
       "function simpleKeys (original) {\n",
       "  return Object.keys(original).reduce(function (obj, key) {\n",
       "    if (typeof original[key] !== 'object')\n",
       "        obj[key] = original[key]\n",
       "    return obj;\n",
       "  }, {});\n",
       "}\n",
       "\n",
       "mpl.figure.prototype.mouse_event = function(event, name) {\n",
       "    var canvas_pos = mpl.findpos(event)\n",
       "\n",
       "    if (name === 'button_press')\n",
       "    {\n",
       "        this.canvas.focus();\n",
       "        this.canvas_div.focus();\n",
       "    }\n",
       "\n",
       "    var x = canvas_pos.x;\n",
       "    var y = canvas_pos.y;\n",
       "\n",
       "    this.send_message(name, {x: x, y: y, button: event.button,\n",
       "                             step: event.step,\n",
       "                             guiEvent: simpleKeys(event)});\n",
       "\n",
       "    /* This prevents the web browser from automatically changing to\n",
       "     * the text insertion cursor when the button is pressed.  We want\n",
       "     * to control all of the cursor setting manually through the\n",
       "     * 'cursor' event from matplotlib */\n",
       "    event.preventDefault();\n",
       "    return false;\n",
       "}\n",
       "\n",
       "mpl.figure.prototype._key_event_extra = function(event, name) {\n",
       "    // Handle any extra behaviour associated with a key event\n",
       "}\n",
       "\n",
       "mpl.figure.prototype.key_event = function(event, name) {\n",
       "\n",
       "    // Prevent repeat events\n",
       "    if (name == 'key_press')\n",
       "    {\n",
       "        if (event.which === this._key)\n",
       "            return;\n",
       "        else\n",
       "            this._key = event.which;\n",
       "    }\n",
       "    if (name == 'key_release')\n",
       "        this._key = null;\n",
       "\n",
       "    var value = '';\n",
       "    if (event.ctrlKey && event.which != 17)\n",
       "        value += \"ctrl+\";\n",
       "    if (event.altKey && event.which != 18)\n",
       "        value += \"alt+\";\n",
       "    if (event.shiftKey && event.which != 16)\n",
       "        value += \"shift+\";\n",
       "\n",
       "    value += 'k';\n",
       "    value += event.which.toString();\n",
       "\n",
       "    this._key_event_extra(event, name);\n",
       "\n",
       "    this.send_message(name, {key: value,\n",
       "                             guiEvent: simpleKeys(event)});\n",
       "    return false;\n",
       "}\n",
       "\n",
       "mpl.figure.prototype.toolbar_button_onclick = function(name) {\n",
       "    if (name == 'download') {\n",
       "        this.handle_save(this, null);\n",
       "    } else {\n",
       "        this.send_message(\"toolbar_button\", {name: name});\n",
       "    }\n",
       "};\n",
       "\n",
       "mpl.figure.prototype.toolbar_button_onmouseover = function(tooltip) {\n",
       "    this.message.textContent = tooltip;\n",
       "};\n",
       "mpl.toolbar_items = [[\"Home\", \"Reset original view\", \"fa fa-home icon-home\", \"home\"], [\"Back\", \"Back to  previous view\", \"fa fa-arrow-left icon-arrow-left\", \"back\"], [\"Forward\", \"Forward to next view\", \"fa fa-arrow-right icon-arrow-right\", \"forward\"], [\"\", \"\", \"\", \"\"], [\"Pan\", \"Pan axes with left mouse, zoom with right\", \"fa fa-arrows icon-move\", \"pan\"], [\"Zoom\", \"Zoom to rectangle\", \"fa fa-square-o icon-check-empty\", \"zoom\"], [\"\", \"\", \"\", \"\"], [\"Download\", \"Download plot\", \"fa fa-floppy-o icon-save\", \"download\"]];\n",
       "\n",
       "mpl.extensions = [\"eps\", \"jpeg\", \"pdf\", \"png\", \"ps\", \"raw\", \"svg\", \"tif\"];\n",
       "\n",
       "mpl.default_extension = \"png\";var comm_websocket_adapter = function(comm) {\n",
       "    // Create a \"websocket\"-like object which calls the given IPython comm\n",
       "    // object with the appropriate methods. Currently this is a non binary\n",
       "    // socket, so there is still some room for performance tuning.\n",
       "    var ws = {};\n",
       "\n",
       "    ws.close = function() {\n",
       "        comm.close()\n",
       "    };\n",
       "    ws.send = function(m) {\n",
       "        //console.log('sending', m);\n",
       "        comm.send(m);\n",
       "    };\n",
       "    // Register the callback with on_msg.\n",
       "    comm.on_msg(function(msg) {\n",
       "        //console.log('receiving', msg['content']['data'], msg);\n",
       "        // Pass the mpl event to the overriden (by mpl) onmessage function.\n",
       "        ws.onmessage(msg['content']['data'])\n",
       "    });\n",
       "    return ws;\n",
       "}\n",
       "\n",
       "mpl.mpl_figure_comm = function(comm, msg) {\n",
       "    // This is the function which gets called when the mpl process\n",
       "    // starts-up an IPython Comm through the \"matplotlib\" channel.\n",
       "\n",
       "    var id = msg.content.data.id;\n",
       "    // Get hold of the div created by the display call when the Comm\n",
       "    // socket was opened in Python.\n",
       "    var element = $(\"#\" + id);\n",
       "    var ws_proxy = comm_websocket_adapter(comm)\n",
       "\n",
       "    function ondownload(figure, format) {\n",
       "        window.open(figure.imageObj.src);\n",
       "    }\n",
       "\n",
       "    var fig = new mpl.figure(id, ws_proxy,\n",
       "                           ondownload,\n",
       "                           element.get(0));\n",
       "\n",
       "    // Call onopen now - mpl needs it, as it is assuming we've passed it a real\n",
       "    // web socket which is closed, not our websocket->open comm proxy.\n",
       "    ws_proxy.onopen();\n",
       "\n",
       "    fig.parent_element = element.get(0);\n",
       "    fig.cell_info = mpl.find_output_cell(\"<div id='\" + id + \"'></div>\");\n",
       "    if (!fig.cell_info) {\n",
       "        console.error(\"Failed to find cell for figure\", id, fig);\n",
       "        return;\n",
       "    }\n",
       "\n",
       "    var output_index = fig.cell_info[2]\n",
       "    var cell = fig.cell_info[0];\n",
       "\n",
       "};\n",
       "\n",
       "mpl.figure.prototype.handle_close = function(fig, msg) {\n",
       "    fig.root.unbind('remove')\n",
       "\n",
       "    // Update the output cell to use the data from the current canvas.\n",
       "    fig.push_to_output();\n",
       "    var dataURL = fig.canvas.toDataURL();\n",
       "    // Re-enable the keyboard manager in IPython - without this line, in FF,\n",
       "    // the notebook keyboard shortcuts fail.\n",
       "    IPython.keyboard_manager.enable()\n",
       "    $(fig.parent_element).html('<img src=\"' + dataURL + '\">');\n",
       "    fig.close_ws(fig, msg);\n",
       "}\n",
       "\n",
       "mpl.figure.prototype.close_ws = function(fig, msg){\n",
       "    fig.send_message('closing', msg);\n",
       "    // fig.ws.close()\n",
       "}\n",
       "\n",
       "mpl.figure.prototype.push_to_output = function(remove_interactive) {\n",
       "    // Turn the data on the canvas into data in the output cell.\n",
       "    var dataURL = this.canvas.toDataURL();\n",
       "    this.cell_info[1]['text/html'] = '<img src=\"' + dataURL + '\">';\n",
       "}\n",
       "\n",
       "mpl.figure.prototype.updated_canvas_event = function() {\n",
       "    // Tell IPython that the notebook contents must change.\n",
       "    IPython.notebook.set_dirty(true);\n",
       "    this.send_message(\"ack\", {});\n",
       "    var fig = this;\n",
       "    // Wait a second, then push the new image to the DOM so\n",
       "    // that it is saved nicely (might be nice to debounce this).\n",
       "    setTimeout(function () { fig.push_to_output() }, 1000);\n",
       "}\n",
       "\n",
       "mpl.figure.prototype._init_toolbar = function() {\n",
       "    var fig = this;\n",
       "\n",
       "    var nav_element = $('<div/>')\n",
       "    nav_element.attr('style', 'width: 100%');\n",
       "    this.root.append(nav_element);\n",
       "\n",
       "    // Define a callback function for later on.\n",
       "    function toolbar_event(event) {\n",
       "        return fig.toolbar_button_onclick(event['data']);\n",
       "    }\n",
       "    function toolbar_mouse_event(event) {\n",
       "        return fig.toolbar_button_onmouseover(event['data']);\n",
       "    }\n",
       "\n",
       "    for(var toolbar_ind in mpl.toolbar_items){\n",
       "        var name = mpl.toolbar_items[toolbar_ind][0];\n",
       "        var tooltip = mpl.toolbar_items[toolbar_ind][1];\n",
       "        var image = mpl.toolbar_items[toolbar_ind][2];\n",
       "        var method_name = mpl.toolbar_items[toolbar_ind][3];\n",
       "\n",
       "        if (!name) { continue; };\n",
       "\n",
       "        var button = $('<button class=\"btn btn-default\" href=\"#\" title=\"' + name + '\"><i class=\"fa ' + image + ' fa-lg\"></i></button>');\n",
       "        button.click(method_name, toolbar_event);\n",
       "        button.mouseover(tooltip, toolbar_mouse_event);\n",
       "        nav_element.append(button);\n",
       "    }\n",
       "\n",
       "    // Add the status bar.\n",
       "    var status_bar = $('<span class=\"mpl-message\" style=\"text-align:right; float: right;\"/>');\n",
       "    nav_element.append(status_bar);\n",
       "    this.message = status_bar[0];\n",
       "\n",
       "    // Add the close button to the window.\n",
       "    var buttongrp = $('<div class=\"btn-group inline pull-right\"></div>');\n",
       "    var button = $('<button class=\"btn btn-mini btn-primary\" href=\"#\" title=\"Stop Interaction\"><i class=\"fa fa-power-off icon-remove icon-large\"></i></button>');\n",
       "    button.click(function (evt) { fig.handle_close(fig, {}); } );\n",
       "    button.mouseover('Stop Interaction', toolbar_mouse_event);\n",
       "    buttongrp.append(button);\n",
       "    var titlebar = this.root.find($('.ui-dialog-titlebar'));\n",
       "    titlebar.prepend(buttongrp);\n",
       "}\n",
       "\n",
       "mpl.figure.prototype._root_extra_style = function(el){\n",
       "    var fig = this\n",
       "    el.on(\"remove\", function(){\n",
       "\tfig.close_ws(fig, {});\n",
       "    });\n",
       "}\n",
       "\n",
       "mpl.figure.prototype._canvas_extra_style = function(el){\n",
       "    // this is important to make the div 'focusable\n",
       "    el.attr('tabindex', 0)\n",
       "    // reach out to IPython and tell the keyboard manager to turn it's self\n",
       "    // off when our div gets focus\n",
       "\n",
       "    // location in version 3\n",
       "    if (IPython.notebook.keyboard_manager) {\n",
       "        IPython.notebook.keyboard_manager.register_events(el);\n",
       "    }\n",
       "    else {\n",
       "        // location in version 2\n",
       "        IPython.keyboard_manager.register_events(el);\n",
       "    }\n",
       "\n",
       "}\n",
       "\n",
       "mpl.figure.prototype._key_event_extra = function(event, name) {\n",
       "    var manager = IPython.notebook.keyboard_manager;\n",
       "    if (!manager)\n",
       "        manager = IPython.keyboard_manager;\n",
       "\n",
       "    // Check for shift+enter\n",
       "    if (event.shiftKey && event.which == 13) {\n",
       "        this.canvas_div.blur();\n",
       "        event.shiftKey = false;\n",
       "        // Send a \"J\" for go to next cell\n",
       "        event.which = 74;\n",
       "        event.keyCode = 74;\n",
       "        manager.command_mode();\n",
       "        manager.handle_keydown(event);\n",
       "    }\n",
       "}\n",
       "\n",
       "mpl.figure.prototype.handle_save = function(fig, msg) {\n",
       "    fig.ondownload(fig, null);\n",
       "}\n",
       "\n",
       "\n",
       "mpl.find_output_cell = function(html_output) {\n",
       "    // Return the cell and output element which can be found *uniquely* in the notebook.\n",
       "    // Note - this is a bit hacky, but it is done because the \"notebook_saving.Notebook\"\n",
       "    // IPython event is triggered only after the cells have been serialised, which for\n",
       "    // our purposes (turning an active figure into a static one), is too late.\n",
       "    var cells = IPython.notebook.get_cells();\n",
       "    var ncells = cells.length;\n",
       "    for (var i=0; i<ncells; i++) {\n",
       "        var cell = cells[i];\n",
       "        if (cell.cell_type === 'code'){\n",
       "            for (var j=0; j<cell.output_area.outputs.length; j++) {\n",
       "                var data = cell.output_area.outputs[j];\n",
       "                if (data.data) {\n",
       "                    // IPython >= 3 moved mimebundle to data attribute of output\n",
       "                    data = data.data;\n",
       "                }\n",
       "                if (data['text/html'] == html_output) {\n",
       "                    return [cell, data, j];\n",
       "                }\n",
       "            }\n",
       "        }\n",
       "    }\n",
       "}\n",
       "\n",
       "// Register the function which deals with the matplotlib target/channel.\n",
       "// The kernel may be null if the page has been refreshed.\n",
       "if (IPython.notebook.kernel != null) {\n",
       "    IPython.notebook.kernel.comm_manager.register_target('matplotlib', mpl.mpl_figure_comm);\n",
       "}\n"
      ],
      "text/plain": [
       "<IPython.core.display.Javascript object>"
      ]
     },
     "metadata": {},
     "output_type": "display_data"
    },
    {
     "data": {
      "text/html": [
       "<img src=\"data:image/png;base64,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\">"
      ],
      "text/plain": [
       "<IPython.core.display.HTML object>"
      ]
     },
     "metadata": {},
     "output_type": "display_data"
    },
    {
     "data": {
      "text/plain": [
       "[<matplotlib.lines.Line2D at 0xa3cf860>]"
      ]
     },
     "execution_count": 167,
     "metadata": {},
     "output_type": "execute_result"
    }
   ],
   "source": [
    "%matplotlib notebook\n",
    "plt.step(np.arange(len(d)),d/2)"
   ]
  },
  {
   "cell_type": "code",
   "execution_count": 136,
   "metadata": {
    "collapsed": false
   },
   "outputs": [
    {
     "data": {
      "text/plain": [
       "array([  15,   15,   16,   18,   20,   22,   27,   34,   44,   52,   59,\n",
       "         67,   75,   85,   97,  107,  118,  132,  145,  157,  171,  188,\n",
       "        207,  223,  243,  262,  280,  298,  318,  335,  353,  370,  390,\n",
       "        408,  430,  453,  473,  494,  518,  539,  560,  583,  604,  629,\n",
       "        651,  674,  701,  725,  752,  778,  805,  830,  857,  885,  911,\n",
       "        937,  967,  992, 1018, 1047, 1074, 1102, 1133, 1162, 1191, 1219,\n",
       "       1246, 1274, 1300, 1326, 1353, 1379, 1406, 1432, 1459, 1482, 1505,\n",
       "       1528, 1550, 1569, 1590, 1610, 1626, 1644, 1659, 1673, 1687, 1698,\n",
       "       1712, 1722, 1733, 1746, 1758, 1768, 1779, 1790, 1798, 1805, 1815,\n",
       "       1822, 1831, 1836, 1840, 1843, 1845, 1847, 1850, 1850, 1850, 1850,\n",
       "       1851, 1850, 1851, 1852, 1852, 1850, 1852, 1851, 1853, 1859, 1863,\n",
       "       1865, 1868, 1869, 1875, 1879, 1883, 1887, 1891, 1894, 1897, 1898,\n",
       "       1898, 1900, 1901, 1900, 1896, 1890, 1886, 1881, 1877, 1870, 1862,\n",
       "       1852, 1846, 1837, 1828, 1814, 1803, 1791, 1779, 1766, 1754, 1744,\n",
       "       1733, 1720, 1708, 1696, 1686, 1677, 1671, 1664, 1657, 1649, 1645,\n",
       "       1637, 1632, 1627, 1624, 1619, 1618, 1616, 1613, 1612, 1608, 1604,\n",
       "       1600, 1598, 1597, 1594, 1593, 1587, 1580, 1572, 1566, 1558, 1551,\n",
       "       1540, 1533, 1526, 1515, 1503, 1495, 1486, 1475, 1464, 1453, 1443,\n",
       "       1432, 1419, 1406, 1392, 1382, 1370, 1359, 1348, 1340, 1328, 1318,\n",
       "       1307, 1298, 1286, 1277, 1268, 1258, 1248, 1237, 1230, 1225, 1217,\n",
       "       1210, 1205, 1203, 1199, 1195, 1190, 1187, 1182, 1180, 1176, 1174,\n",
       "       1170, 1168, 1166, 1164, 1162, 1162, 1159, 1158, 1158, 1158, 1153,\n",
       "       1155, 1155, 1155, 1155, 1157, 1159, 1162, 1167, 1176, 1182, 1187,\n",
       "       1193, 1201, 1211, 1221, 1230, 1241, 1251, 1264, 1275, 1288, 1298,\n",
       "       1314, 1328, 1343, 1358, 1373, 1385, 1400, 1412, 1427, 1441, 1457,\n",
       "       1474, 1493, 1513, 1530, 1550, 1573, 1595, 1619, 1643, 1668, 1691,\n",
       "       1717, 1742, 1767, 1790, 1816, 1842, 1868, 1893, 1919, 1944, 1966,\n",
       "       1993, 2016, 2035, 2055, 2077, 2096, 2115, 2137, 2154, 2171, 2188,\n",
       "       2205, 2222, 2241, 2257, 2275, 2289, 2303, 2317, 2332, 2348, 2362,\n",
       "       2374, 2385, 2401, 2416, 2429, 2443, 2459, 2472, 2482, 2497, 2511,\n",
       "       2527, 2538, 2551, 2561, 2573, 2585, 2597, 2610, 2624, 2634, 2643,\n",
       "       2652, 2664, 2673, 2680, 2688, 2696, 2702, 2706, 2711, 2717, 2721,\n",
       "       2724, 2725, 2727, 2726, 2726, 2723, 2721, 2720, 2716, 2710, 2708,\n",
       "       2705, 2702, 2697, 2694, 2688, 2684, 2678, 2673, 2669, 2665, 2660,\n",
       "       2655, 2649, 2644, 2639, 2634, 2627, 2621, 2611, 2603, 2593, 2583,\n",
       "       2572, 2561, 2549, 2538, 2527, 2518, 2506, 2498, 2487, 2476, 2463,\n",
       "       2454, 2445, 2438, 2430, 2421, 2412, 2403, 2394, 2385, 2375, 2366,\n",
       "       2357, 2347, 2335, 2326, 2317, 2306, 2294, 2286, 2276, 2268, 2259,\n",
       "       2252, 2244, 2235, 2225, 2217, 2209, 2203, 2195, 2188, 2180, 2176,\n",
       "       2170, 2161, 2152, 2145, 2136, 2127, 2116, 2105, 2091, 2078, 2065,\n",
       "       2052, 2038, 2023, 2009, 1997, 1983, 1971, 1956, 1945, 1931, 1919,\n",
       "       1904, 1890, 1879, 1870, 1859, 1850, 1839, 1832, 1823, 1817, 1810,\n",
       "       1803, 1798, 1793, 1786, 1778, 1770, 1764, 1754, 1746, 1734, 1723,\n",
       "       1710, 1701, 1688, 1675, 1659, 1646, 1633, 1620, 1606, 1594, 1579,\n",
       "       1566, 1549, 1534, 1520, 1507, 1495, 1483, 1469, 1457, 1445, 1435,\n",
       "       1422, 1413, 1399, 1389, 1378, 1368, 1354, 1341, 1330, 1320, 1310,\n",
       "       1301, 1290, 1284, 1276, 1267, 1258, 1250, 1242, 1235, 1229, 1221,\n",
       "       1212, 1206, 1199, 1193, 1186, 1179, 1173, 1170, 1163, 1157, 1150,\n",
       "       1144, 1137, 1133, 1125, 1122, 1118, 1115, 1112, 1108, 1104, 1101,\n",
       "       1097, 1097, 1094, 1090, 1086, 1084, 1080, 1076, 1072, 1069, 1064,\n",
       "       1060, 1054, 1050, 1046, 1043, 1038, 1034, 1030, 1027, 1024, 1022,\n",
       "       1020, 1020, 1018, 1019, 1019, 1020, 1021, 1023, 1022, 1023, 1022,\n",
       "       1024, 1023, 1023, 1021, 1019, 1015, 1010, 1007, 1002,  995,  988,\n",
       "        981,  975,  966,  957,  947,  939,  930,  921,  912,  907,  899,\n",
       "        893,  883,  878,  870,  863,  855,  848,  842,  834,  828,  822,\n",
       "        816,  809,  801,  796,  792,  786,  781,  775,  771,  767,  760,\n",
       "        758,  753,  750,  746,  744,  741,  739,  735,  734,  731,  728,\n",
       "        726,  724,  721,  716,  710,  704,  700,  697,  693,  690,  684,\n",
       "        682,  678,  677,  674,  672,  672,  672,  670,  672,  672,  673,\n",
       "        674,  675,  675,  677,  679,  684,  684,  685,  683,  684,  682,\n",
       "        680,  677,  673,  668,  664,  659,  653,  646,  641,  634,  630,\n",
       "        624,  600,  614,  609,  605], dtype=int16)"
      ]
     },
     "execution_count": 136,
     "metadata": {},
     "output_type": "execute_result"
    }
   ],
   "source": [
    "d"
   ]
  },
  {
   "cell_type": "code",
   "execution_count": null,
   "metadata": {
    "collapsed": false
   },
   "outputs": [],
   "source": [
    "data.event_stream['last'].nonzero()"
   ]
  },
  {
   "cell_type": "code",
   "execution_count": null,
   "metadata": {
    "collapsed": false
   },
   "outputs": [],
   "source": [
    "peak_dt = np.dtype(\n",
    "    ([ ('height', np.int16), ('minima', np.int16), ('flags', np.uint16), ('time',np.uint16)])\n",
    ")\n",
    "events = data.event_stream['data'].view(peak_dt)"
   ]
  },
  {
   "cell_type": "code",
   "execution_count": null,
   "metadata": {
    "collapsed": false
   },
   "outputs": [],
   "source": [
    "pulse_peak_dt = np.dtype(\n",
    "    ([('height',np.uint16),('minima',np.uint16),('rise_time',np.uint16),('time',np.uint16)])\n",
    ")\n",
    "pulse_dt = np.dtype(\n",
    "    ([('size',np.uint16),('length',np.uint16),('flags',np.uint16),('time',np.uint16),\n",
    "     ('area',np.int32),('pulse_threshold',np.uint16),('slope_threshold',np.uint16),\n",
    "     ('peak',pulse_peak_dt)])\n",
    ")"
   ]
  },
  {
   "cell_type": "code",
   "execution_count": null,
   "metadata": {
    "collapsed": false
   },
   "outputs": [],
   "source": [
    "bytestream=np.copy(data.event_stream['data']).view(np.uint8)\n",
    "bytestream"
   ]
  },
  {
   "cell_type": "code",
   "execution_count": null,
   "metadata": {
    "collapsed": false
   },
   "outputs": [],
   "source": [
    "events=bytestream.view(pulse_dt)\n",
    "events"
   ]
  },
  {
   "cell_type": "code",
   "execution_count": null,
   "metadata": {
    "collapsed": false
   },
   "outputs": [],
   "source": [
    "events"
   ]
  },
  {
   "cell_type": "code",
   "execution_count": null,
   "metadata": {
    "collapsed": false
   },
   "outputs": [],
   "source": [
    "flags=sim.DetectionFlags(events['flags'][0])\n",
    "flags\n"
   ]
  },
  {
   "cell_type": "code",
   "execution_count": null,
   "metadata": {
    "collapsed": false
   },
   "outputs": [],
   "source": [
    "bs=np.copy(data.event_stream['data']).view(np.uint8)"
   ]
  },
  {
   "cell_type": "code",
   "execution_count": null,
   "metadata": {
    "collapsed": false
   },
   "outputs": [],
   "source": [
    "event_size=bs[0:2].view(np.uint16)[0]\n",
    "event_size\n",
    "pulse_peaks=event_size-2\n",
    "pulse_peak_dt = np.dtype(\n",
    "    ([('height',np.uint16),('minima',np.uint16),('rise_time',np.uint16),('time',np.uint16)])\n",
    ")\n",
    "pulse_dt = np.dtype(\n",
    "    ([('size',np.uint16),('length',np.uint16),('flags',np.uint8,(2,)),('time',np.uint16),\n",
    "     ('area',np.int32),('pulse_threshold',np.uint16),('slope_threshold',np.uint16),\n",
    "     ('peaks',pulse_peak_dt,(pulse_peaks))])\n",
    ")"
   ]
  },
  {
   "cell_type": "code",
   "execution_count": null,
   "metadata": {
    "collapsed": false
   },
   "outputs": [],
   "source": [
    "bs.view(pulse_dt)['flags']"
   ]
  },
  {
   "cell_type": "code",
   "execution_count": null,
   "metadata": {
    "collapsed": false
   },
   "outputs": [],
   "source": [
    "es=sim.EventStream(data.event_stream)"
   ]
  },
  {
   "cell_type": "code",
   "execution_count": null,
   "metadata": {
    "collapsed": false
   },
   "outputs": [],
   "source": [
    "es.bytestream\n"
   ]
  },
  {
   "cell_type": "code",
   "execution_count": null,
   "metadata": {
    "collapsed": false
   },
   "outputs": [],
   "source": [
    "type_flags = np.bitwise_and(events['flags'],0x000f)\n",
    "peak_num = np.right_shift(np.bitwise_and(events['flags'],0x00f0),4)\n",
    "channel = np.right_shift(np.bitwise_and(events['flags'],0x0f00),8)\n",
    "event_type = np.right_shift(np.bitwise_and(events['flags'],0x3000),12)\n",
    "\n",
    "event_type\n"
   ]
  },
  {
   "cell_type": "code",
   "execution_count": null,
   "metadata": {
    "collapsed": false
   },
   "outputs": [],
   "source": [
    "%matplotlib notebook\n",
    "fig = simplt.plot_pulse(8,data,pre=500,length=3000)\n"
   ]
  },
  {
   "cell_type": "code",
   "execution_count": null,
   "metadata": {
    "collapsed": true
   },
   "outputs": [],
   "source": [
    "import pickle\n",
    "\n",
    "# An arbitrary collection of objects supported by pickle.\n",
    "\n",
    "pickler = pickle.Pickler(open('short.pickle', 'wb'),pickle.HIGHEST_PROTOCOL)\n",
    "pickler.dump(data)\n"
   ]
  },
  {
   "cell_type": "code",
   "execution_count": null,
   "metadata": {
    "collapsed": false
   },
   "outputs": [],
   "source": [
    "import pickle\n",
    "unpickler = pickle.Unpickler(open('short.pickle', 'rb'))\n",
    "data2=unpickler.load()"
   ]
  },
  {
   "cell_type": "code",
   "execution_count": null,
   "metadata": {
    "collapsed": false
   },
   "outputs": [],
   "source": [
    "data2.trace['slope']"
   ]
  },
  {
   "cell_type": "code",
   "execution_count": null,
   "metadata": {
    "collapsed": false
   },
   "outputs": [],
   "source": [
    "reg2"
   ]
  },
  {
   "cell_type": "code",
   "execution_count": null,
   "metadata": {
    "collapsed": false,
    "scrolled": false
   },
   "outputs": [],
   "source": [
    "axs = fig.get_axes()\n",
    "pax=axs[0].parasites\n",
    "pax[0]._label\n",
    "f_ins_ax=axs[1]\n",
    "s_ins_ax=f_ins_ax.parasites[0]"
   ]
  },
  {
   "cell_type": "code",
   "execution_count": null,
   "metadata": {
    "collapsed": false,
    "scrolled": false
   },
   "outputs": [],
   "source": [
    "es=sim.Data.fromfile('eventstream',np.int32,'teslib','measurement_unit_TB')"
   ]
  },
  {
   "cell_type": "code",
   "execution_count": null,
   "metadata": {
    "collapsed": false
   },
   "outputs": [],
   "source": [
    "es"
   ]
  },
  {
   "cell_type": "code",
   "execution_count": null,
   "metadata": {
    "collapsed": false
   },
   "outputs": [],
   "source": [
    "data.peak[-1]"
   ]
  },
  {
   "cell_type": "code",
   "execution_count": null,
   "metadata": {
    "collapsed": false
   },
   "outputs": [],
   "source": [
    "s.peak"
   ]
  },
  {
   "cell_type": "code",
   "execution_count": null,
   "metadata": {
    "collapsed": false
   },
   "outputs": [],
   "source": [
    "isinstance(r,sim.DataRegion)"
   ]
  },
  {
   "cell_type": "code",
   "execution_count": null,
   "metadata": {
    "collapsed": false
   },
   "outputs": [],
   "source": [
    "r.peak"
   ]
  },
  {
   "cell_type": "code",
   "execution_count": null,
   "metadata": {
    "collapsed": false
   },
   "outputs": [],
   "source": [
    "i"
   ]
  },
  {
   "cell_type": "code",
   "execution_count": null,
   "metadata": {
    "collapsed": false
   },
   "outputs": [],
   "source": [
    "%matplotlib notebook\n",
    "import matplotlib.pyplot as plt\n",
    "\n",
    "plt.plot(data.trace['filtered'])"
   ]
  },
  {
   "cell_type": "code",
   "execution_count": null,
   "metadata": {
    "collapsed": false
   },
   "outputs": [],
   "source": [
    "ax=plt.gca()\n",
    "t=ax.transData\n",
    "t.transform([[0.1,0.2],[1,3]])"
   ]
  },
  {
   "cell_type": "code",
   "execution_count": null,
   "metadata": {
    "collapsed": true
   },
   "outputs": [],
   "source": [
    "x=np.array([0,1,2,3])\n",
    "y=np.array([3,4,5,6])\n",
    "\n",
    "xy=np.empty(shape=(4,2))"
   ]
  },
  {
   "cell_type": "code",
   "execution_count": null,
   "metadata": {
    "collapsed": false
   },
   "outputs": [],
   "source": [
    "xy[:,0]=x\n",
    "xy[:,1]=y\n",
    "t.transform(xy)"
   ]
  },
  {
   "cell_type": "code",
   "execution_count": null,
   "metadata": {
    "collapsed": true
   },
   "outputs": [],
   "source": []
  },
  {
   "cell_type": "code",
   "execution_count": null,
   "metadata": {
    "collapsed": false
   },
   "outputs": [],
   "source": [
    "# run to import isim data files\n",
    "\n",
    "import numpy as np\n",
    "import os\n",
    "import matplotlib.pyplot as plt\n",
    "import math\n",
    "from enum import Enum\n",
    "\n",
    "plt.rcParams[\"figure.figsize\"]=[800./80,600./80]\n",
    "\n",
    "repo='c:\\\\TES_project\\\\fpga_ise\\\\'\n",
    "project='teslib'\n",
    "testbench='measurement_unit_TB'\n",
    "datafile='traces'\n",
    "path=repo+project+'\\\\PlanAhead\\\\'+project+'.sim\\\\'+testbench+'\\\\'\n",
    "\n",
    "traces_dt = np.dtype([('input', np.int32),('raw',np.int32),('filtered',np.int32),('slope',np.int32)])\n",
    "traces=np.fromfile(path+'traces',traces_dt)\n",
    "trigger=np.fromfile(path+'triggers',np.int32)\n",
    "settings=np.fromfile(path+'settings',np.int32)\n",
    "cfd_low=np.fromfile(path+'cfdlow',np.int32)\n",
    "cfd_high=np.fromfile(path+'cfdhigh',np.int32)\n",
    "peaks=np.fromfile(path+'peaks',np.int32)\n",
    "peaks.shape=(-1,2)\n",
    "peak_starts=np.fromfile(path+'peak_starts',np.int32)\n",
    "#peak_starts.shape=(-1,2)\n",
    "pulse_starts=np.fromfile(path+'peak_starts',np.int32)\n",
    "settings=np.fromfile(path+'settings',np.int32)\n",
    "cfd_low=np.fromfile(path+'cfdlow',np.int32)\n",
    "cfd_high=np.fromfile(path+'cfdhigh',np.int32)\n",
    "slope_xing=np.fromfile(path+'slopethreshxings',np.int32)\n"
   ]
  },
  {
   "cell_type": "code",
   "execution_count": null,
   "metadata": {
    "collapsed": false
   },
   "outputs": [],
   "source": [
    "settings[13]"
   ]
  },
  {
   "cell_type": "code",
   "execution_count": null,
   "metadata": {
    "collapsed": false
   },
   "outputs": [],
   "source": [
    "#create register dict from settings array\n",
    "\n",
    "class height_type(Enum):\n",
    "    def from_int(value):\n",
    "        if value == 0:\n",
    "            return height_type.peak_height\n",
    "        elif value == 1:\n",
    "            return height_type.cfd_high\n",
    "        elif value == 2:\n",
    "            return height_type.slope_integral\n",
    "        else:\n",
    "            raise AttributeError()\n",
    "    peak_height=0\n",
    "    cfd_high=1\n",
    "    slope_integral=2\n",
    "\n",
    "class trigger_type(Enum):\n",
    "    def from_int(value):\n",
    "        if value == 0:\n",
    "            return trigger_type.pulse_threshold\n",
    "        elif value == 1:\n",
    "            return trigger_type.slope_threshold\n",
    "        elif value == 2:\n",
    "            return trigger_type.cfd_low\n",
    "        else:\n",
    "            raise AttributeError()\n",
    "    pulse_threshold=0\n",
    "    slope_threshold=1\n",
    "    cfd_low=2\n",
    "\n",
    "class event_type(Enum):\n",
    "    def from_int(value):\n",
    "        if value == 0:\n",
    "            return event_type.peak\n",
    "        elif value == 1:\n",
    "            return event_type.area\n",
    "        elif value == 2:\n",
    "            return event_type.pulse\n",
    "        elif value == 3:\n",
    "            return event_type.trace\n",
    "        else:\n",
    "            raise AttributeError()\n",
    "    peak=0\n",
    "    area=1\n",
    "    pulse=2\n",
    "    trace=3\n",
    "\n",
    "\n",
    "def read_registers(settings):\n",
    "    registers = dict()\n",
    "    registers['baseline'] = dict()\n",
    "    registers['baseline']['offset'] = settings[0]\n",
    "    registers['baseline']['subtraction'] = settings[1]!=0\n",
    "    registers['baseline']['timeconstant'] = settings[2]\n",
    "    registers['baseline']['threshold'] = settings[3]\n",
    "    registers['baseline']['count_threshold'] = settings[4]\n",
    "    registers['generic'] = dict()\n",
    "    registers['baseline']['average_order'] = settings[5]\n",
    "    registers['capture'] = dict()\n",
    "    registers['capture']['cfd_relative'] = settings[6]!=0\n",
    "    registers['capture']['constant_fraction'] = settings[7]\n",
    "    registers['capture']['pulse_threshold'] = settings[8]\n",
    "    registers['capture']['slope_threshold'] = settings[9]\n",
    "    registers['capture']['pulse_area_threshold'] = settings[10]\n",
    "    registers['capture']['height_type'] = height_type.from_int(settings[11])\n",
    "    registers['capture']['threshold_rel2min'] = settings[12]!=0\n",
    "    registers['capture']['trigger_type'] = trigger_type.from_int(settings[13])\n",
    "    registers['capture']['event_type'] = event_type.from_int(settings[14])\n",
    "    return registers\n"
   ]
  },
  {
   "cell_type": "code",
   "execution_count": null,
   "metadata": {
    "collapsed": false
   },
   "outputs": [],
   "source": [
    "%matplotlib notebook\n",
    "x=np.arange(len(traces['filtered']))\n",
    "fig=plt.figure()\n",
    "\n",
    "ax=fig.add_axes([0.15,0.1,0.8,0.8])\n",
    "mV=1.0/math.pow(2,14)*1000\n",
    "nS=4\n",
    "\n",
    "\n",
    "i_trace, =ax.step(x*nS/1000000,(traces['input']+1800)*mV*2,'k',label='raw input')\n",
    "f_trace, =ax.step(x*nS/1000000,traces['filtered']*mV,'b',label='processed')\n",
    "fig.suptitle('Digital Signal Processing',fontsize=24)\n",
    "plt.xlabel('time (ms)',fontsize=18)\n",
    "plt.ylabel('Voltage (mV)',fontsize=18)\n",
    "plt.legend(handles=[i_trace,f_trace])\n",
    "\n",
    "fig.savefig('trace.png')\n",
    "plt.show()"
   ]
  },
  {
   "cell_type": "code",
   "execution_count": null,
   "metadata": {
    "collapsed": true
   },
   "outputs": [],
   "source": []
  },
  {
   "cell_type": "code",
   "execution_count": null,
   "metadata": {
    "collapsed": false
   },
   "outputs": [],
   "source": [
    "%matplotlib notebook\n",
    "import math\n",
    "\n",
    "def align_yaxis(ax1, v1, ax2, v2):\n",
    "    \"\"\"adjust ax2 ylimit so that v2 in ax2 is aligned to v1 in ax1\"\"\"\n",
    "    _, y1 = ax1.transData.transform((0, v1))\n",
    "    _, y2 = ax2.transData.transform((0, v2))\n",
    "    adjust_yaxis(ax2,(y1-y2)/2,v2)\n",
    "    adjust_yaxis(ax1,(y2-y1)/2,v1)\n",
    "\n",
    "def adjust_yaxis(ax,ydif,v):\n",
    "    \"\"\"shift axis ax by ydiff, maintaining point v at the same location\"\"\"\n",
    "    inv = ax.transData.inverted()\n",
    "    _, dy = inv.transform((0, 0)) - inv.transform((0, ydif))\n",
    "    miny, maxy = ax.get_ylim()\n",
    "    miny, maxy = miny - v, maxy - v\n",
    "    if -miny>maxy or (-miny==maxy and dy > 0):\n",
    "        nminy = miny\n",
    "        nmaxy = miny*(maxy+dy)/(miny+dy)\n",
    "    else:\n",
    "        nmaxy = maxy\n",
    "        nminy = maxy*(miny+dy)/(maxy+dy)\n",
    "    ax.set_ylim(nminy+v, nmaxy+v)\n",
    "    \n",
    "x=np.arange(len(traces['filtered']))\n",
    "fig=plt.figure()\n",
    "ax=fig.add_axes([0.1,0.1,0.8,0.8])\n",
    "plt.ylim(-10,120)\n",
    "v=math.pow(2,13)/1000\n",
    "t=x*4\n",
    "ax.plot([0,t[-1]],[0,0],'k')\n",
    "raw, = ax.step(t,traces['raw']/2/v,'k',lw=1,label='raw')\n",
    "processed, = ax.step(t,traces['filtered']/2/v,'r',lw=2,label='processed')\n",
    "ax.plot(trigger,traces['filtered'][trigger+1]/2,'kx')\n",
    "ax.plot(peaks[:,0],traces['filtered'][peaks[:,0]+1]/2,'ro')\n",
    "ax.plot(peak_starts,traces['filtered'][peak_starts+1]/2,'ro')\n",
    "ax.plot(cfd_high,traces['filtered'][cfd_high+1]/2,'bs')\n",
    "ax.plot(cfd_low,traces['filtered'][cfd_low+1]/2,'bs')\n",
    "plt.xlabel('time (ns)',fontsize=18)\n",
    "plt.ylabel('Voltage (mV)',fontsize=18,color='r')\n",
    "\n",
    "ax2=ax.twinx()\n",
    "slope, = ax2.step(t,traces['slope']/256/v/4,'b',lw=2,label='slope')\n",
    "plt.xlim([1292000,1297500])\n",
    "plt.ylim(-0.2,1)\n",
    "align_yaxis(ax,0,ax2,0)\n",
    "plt.ylabel('slope (mV/ns)',color='b',fontsize=18)\n",
    "fig.suptitle('Digital signal processing',fontsize=24)\n",
    "plt.legend(handles=[raw,processed,slope])\n",
    "fig.savefig('dsp.png')\n",
    "plt.show()"
   ]
  },
  {
   "cell_type": "code",
   "execution_count": null,
   "metadata": {
    "collapsed": false
   },
   "outputs": [],
   "source": [
    "%matplotlib notebook\n",
    "\n",
    "#plot pulse\n",
    "from mpl_toolkits.axes_grid1 import host_subplot\n",
    "from mpl_toolkits.axes_grid1.inset_locator import zoomed_inset_axes\n",
    "from mpl_toolkits.axes_grid1.inset_locator import mark_inset\n",
    "\n",
    "pulse=7\n",
    "length=2000\n",
    "pre=100\n",
    "\n",
    "def align_yaxis(ax1, v1, ax2, v2):\n",
    "    \"\"\"adjust ax2 ylimit so that v2 in ax2 is aligned to v1 in ax1\"\"\"\n",
    "    _, y1 = ax1.transData.transform((0, v1))\n",
    "    _, y2 = ax2.transData.transform((0, v2))\n",
    "    adjust_yaxis(ax2,(y1-y2)/2,v2)\n",
    "    adjust_yaxis(ax1,(y2-y1)/2,v1)\n",
    "\n",
    "def adjust_yaxis(ax,ydif,v):\n",
    "    \"\"\"shift axis ax by ydiff, maintaining point v at the same location\"\"\"\n",
    "    inv = ax.transData.inverted()\n",
    "    _, dy = inv.transform((0, 0)) - inv.transform((0, ydif))\n",
    "    miny, maxy = ax.get_ylim()\n",
    "    miny, maxy = miny - v, maxy - v\n",
    "    if -miny>maxy or (-miny==maxy and dy > 0):\n",
    "        nminy = miny\n",
    "        nmaxy = miny*(maxy+dy)/(miny+dy)\n",
    "    else:\n",
    "        nmaxy = maxy\n",
    "        nminy = maxy*(miny+dy)/(maxy+dy)\n",
    "    ax.set_ylim(nminy+v, nmaxy+v)\n",
    "    \n",
    "start=pulse_starts[pulse]-pre\n",
    "stop=start+length\n",
    "x=np.arange(0,len(traces['filtered']))\n",
    "fig=plt.figure()\n",
    "\n",
    "f_ax = host_subplot(111)\n",
    "s_ax = f_ax.twinx()\n",
    "\n",
    "f_ax.set_xlabel(\"Time (ns)\",fontsize=18)\n",
    "f_ax.set_ylabel(\"Voltage (mV)\",fontsize=18,color='r')\n",
    "s_ax.set_ylabel(\"Slope (mv/ns)\",fontsize=18,color='b')\n",
    "\n",
    "mV=1.0/math.pow(2,14)*1000\n",
    "nS=4\n",
    "t=x*nS\n",
    "\n",
    "f_sig = traces['filtered']*mV\n",
    "s_sig = traces['slope']*mV/nS\n",
    "\n",
    "f_ax.plot([t[start],t[stop]],[0,0],'k') # zero line\n",
    "f_trace, = f_ax.step(t[start:stop],f_sig[start:stop],'r',lw=2,label='processed')\n",
    "f_ax.set_ylim(-10,180)\n",
    "\n",
    "s_trace, = s_ax.step(t[start:stop],s_sig[start:stop],'b',lw=1,label='slope')\n",
    "s_ax.set_ylim(-15,50)\n",
    "#s_threshold = 6\n",
    "#s_ax.set_yticks(np.concatenate((s_ax.get_yticks(),[s_threshold])))\n",
    "#labels=[label.get_text() for label in s_ax.get_yticklabels()]\n",
    "#labels[6]='Threshold'\n",
    "\n",
    "#s_ax.set_yticklabels(labels)\n",
    "plt.xlim(t[start],t[stop])\n",
    "align_yaxis(f_ax,0,s_ax,0)\n",
    "fig.suptitle('Measurement:First pass',fontsize=24)\n",
    "#plt.legend(handles=[f_trace,s_trace])\n",
    "\n",
    "starts_mask = np.logical_and(peak_starts >= start,peak_starts <= stop)\n",
    "peaks_mask = np.logical_and(peaks[:,0] >= start, peaks[:,0] <= stop)\n",
    "peak_starts_inwin = peak_starts[starts_mask]\n",
    "\n",
    "for pstart in peak_starts_inwin:\n",
    "    peak_start_t=t[pstart]-2\n",
    "    peak_start_f=f_sig[pstart]\n",
    "    peak_start_s=s_sig[pstart]\n",
    "\n",
    "    f_ax.plot(peak_start_t,peak_start_f,'ro')\n",
    "    s_ax.plot(peak_start_t,peak_start_s,'bo')\n",
    "    \n",
    "    f_trans = f_ax.transData\n",
    "    s_trans = s_ax.transData.inverted()\n",
    "    trans = s_trans+f_trans\n",
    "    f_point=f_trans.transform((peak_start_t,peak_start_f))\n",
    "    s_point=s_trans.transform((f_point[0],f_point[1]))\n",
    "\n",
    "    s_ax.plot([peak_start_t,peak_start_t],[peak_start_s, s_point[1]],'k')\n",
    "\n",
    "#for p in peaks[0][peaks_inwin]\n",
    "peaks_inwin = peaks[peaks_mask,0]\n",
    "for p in peaks_inwin:\n",
    "    peak_t=t[p]-2\n",
    "    peak_f=f_sig[p]\n",
    "    peak_s=s_sig[p]\n",
    "\n",
    "    f_ax.plot(peak_t,peak_f,'ro')\n",
    "    s_ax.plot(peak_t,peak_s,'bo')\n",
    "    \n",
    "    f_trans = f_ax.transData\n",
    "    s_trans = s_ax.transData.inverted()\n",
    "    trans = s_trans+f_trans\n",
    "    f_point=f_trans.transform((peak_t,peak_f))\n",
    "    s_point=s_trans.transform((f_point[0],f_point[1]))\n",
    "\n",
    "    s_ax.plot([peak_t,peak_t],[peak_s, s_point[1]],'k')\n",
    "\n",
    "ins_start = peak_starts_inwin[0]-5\n",
    "ins_stop = peak_starts_inwin[0]+5\n",
    "f_ins_ax = zoomed_inset_axes(f_ax, 50, loc=1)  # zoom = 6\n",
    "f_ins_ax.step(t[ins_start:ins_stop],f_sig[ins_start:ins_stop],'r')\n",
    "f_ins_ax.set_ylim(-0.5,2)\n",
    "f_ins_ax.set_xlim(ins_start,ins_stop)\n",
    "f_ins_ax.set_yticks([])\n",
    "f_ins_ax.set_xticks([])\n",
    "\n",
    "f_ins_ax.plot([t[ins_start],t[ins_stop]],[0,0],'k') # zero line\n",
    "\n",
    "#plt.xticks(visible=False)\n",
    "#plt.yticks(visible=False)\n",
    "mark_inset(f_ax, f_ins_ax, loc1=2, loc2=4, fc=\"none\", ec=\"0.5\")\n",
    "\n",
    "s_ins_ax = f_ins_ax.twinx()\n",
    "s_ins_ax.set_yticks([])\n",
    "s_ins_ax.set_xticks([])\n",
    "\n",
    "s_ins_ax.step(t[ins_start:ins_stop],s_sig[ins_start:ins_stop],'b')\n",
    "\n",
    "s_ins_ax.set_ylim(-1,1)\n",
    "align_yaxis(f_ins_ax,0,s_ins_ax,0)\n",
    "\n",
    "pstart = peak_starts_inwin[0]\n",
    "peak_start_t=t[pstart]-2\n",
    "peak_start_f=f_sig[pstart]\n",
    "peak_start_s=s_sig[pstart]\n",
    "\n",
    "f_ins_ax.plot(peak_start_t,peak_start_f,'ro')\n",
    "s_ins_ax.plot(peak_start_t,peak_start_s,'bo')\n",
    "    \n",
    "f_trans = f_ins_ax.transData\n",
    "s_trans = s_ins_ax.transData.inverted()\n",
    "trans = s_trans+f_trans\n",
    "f_point=f_trans.transform((peak_start_t,peak_start_f))\n",
    "s_point=s_trans.transform((f_point[0],f_point[1]))\n",
    "\n",
    "s_ins_ax.plot([peak_start_t,peak_start_t],[peak_start_s, s_point[1]],'k')\n",
    "\n",
    "s_ax.plot([t[start],t[stop]],[s_threshold,s_threshold],ls='dashed')\n",
    "\n",
    "fig.savefig('measurement1.png')\n",
    "plt.draw()\n",
    "plt.show()"
   ]
  },
  {
   "cell_type": "code",
   "execution_count": null,
   "metadata": {
    "collapsed": false
   },
   "outputs": [],
   "source": [
    "%matplotlib notebook\n",
    "from mpl_toolkits.axes_grid1 import host_subplot\n",
    "from mpl_toolkits.axes_grid1.inset_locator import zoomed_inset_axes\n",
    "from mpl_toolkits.axes_grid1.inset_locator import mark_inset\n",
    "\n",
    "pulse=7\n",
    "length=2000\n",
    "pre=100\n",
    "\n",
    "def align_yaxis(ax1, v1, ax2, v2):\n",
    "    \"\"\"adjust ax2 ylimit so that v2 in ax2 is aligned to v1 in ax1\"\"\"\n",
    "    _, y1 = ax1.transData.transform((0, v1))\n",
    "    _, y2 = ax2.transData.transform((0, v2))\n",
    "    adjust_yaxis(ax2,(y1-y2)/2,v2)\n",
    "    adjust_yaxis(ax1,(y2-y1)/2,v1)\n",
    "\n",
    "def adjust_yaxis(ax,ydif,v):\n",
    "    \"\"\"shift axis ax by ydiff, maintaining point v at the same location\"\"\"\n",
    "    inv = ax.transData.inverted()\n",
    "    _, dy = inv.transform((0, 0)) - inv.transform((0, ydif))\n",
    "    miny, maxy = ax.get_ylim()\n",
    "    miny, maxy = miny - v, maxy - v\n",
    "    if -miny>maxy or (-miny==maxy and dy > 0):\n",
    "        nminy = miny\n",
    "        nmaxy = miny*(maxy+dy)/(miny+dy)\n",
    "    else:\n",
    "        nmaxy = maxy\n",
    "        nminy = maxy*(miny+dy)/(maxy+dy)\n",
    "    ax.set_ylim(nminy+v, nmaxy+v)\n",
    "    \n",
    "start=pulse_starts[pulse]-pre\n",
    "stop=start+length\n",
    "x=np.arange(0,len(traces['filtered']))\n",
    "fig=plt.figure()\n",
    "\n",
    "f_ax = host_subplot(111)\n",
    "s_ax = f_ax.twinx()\n",
    "\n",
    "f_ax.set_xlabel(\"Time (ns)\",fontsize=18)\n",
    "f_ax.set_ylabel(\"Voltage (mV)\",fontsize=18,color='r')\n",
    "s_ax.set_ylabel(\"Slope (mv/ns)\",fontsize=18,color='b')\n",
    "\n",
    "mV=1.0/math.pow(2,14)*1000\n",
    "nS=4\n",
    "t=x*nS\n",
    "\n",
    "f_sig = traces['filtered']*mV\n",
    "s_sig = traces['slope']*mV/nS\n",
    "\n",
    "f_ax.plot([t[start],t[stop]],[0,0],'k') # zero line\n",
    "f_trace, = f_ax.step(t[start:stop],f_sig[start:stop],'r',lw=2,label='processed')\n",
    "f_ax.set_ylim(-10,180)\n",
    "\n",
    "s_trace, = s_ax.step(t[start:stop],s_sig[start:stop],'b',lw=1,label='slope')\n",
    "s_ax.set_ylim(-15,50)\n",
    "#s_threshold = 6\n",
    "#s_ax.set_yticks(np.concatenate((s_ax.get_yticks(),[s_threshold])))\n",
    "#labels=[label.get_text() for label in s_ax.get_yticklabels()]\n",
    "#labels[6]='Threshold'\n",
    "\n",
    "#s_ax.set_yticklabels(labels)\n",
    "plt.xlim(t[start],t[stop])\n",
    "align_yaxis(f_ax,0,s_ax,0)\n",
    "fig.suptitle('Measurement:Second pass',fontsize=24)\n",
    "#plt.legend(handles=[f_trace,s_trace])\n",
    "\n",
    "starts_mask = np.logical_and(peak_starts >= start,peak_starts <= stop)\n",
    "peaks_mask = np.logical_and(peaks[:,0] >= start, peaks[:,0] <= stop)\n",
    "peak_starts_inwin = peak_starts[starts_mask]\n",
    "\n",
    "\n",
    "#for pstart in peak_starts_inwin:\n",
    "#    peak_start_t=t[pstart]-2\n",
    "#    peak_start_f=f_sig[pstart]\n",
    "#    peak_start_s=s_sig[pstart]\n",
    "#\n",
    "#    f_ax.plot(peak_start_t,peak_start_f,'ro')\n",
    "#    s_ax.plot(peak_start_t,peak_start_s,'bo')\n",
    "    \n",
    "#    f_trans = f_ax.transData\n",
    "#    s_trans = s_ax.transData.inverted()\n",
    "#    trans = s_trans+f_trans\n",
    "#    f_point=f_trans.transform((peak_start_t,peak_start_f))\n",
    "#    s_point=s_trans.transform((f_point[0],f_point[1]))\n",
    "\n",
    "#    s_ax.plot([peak_start_t,peak_start_t],[peak_start_s, s_point[1]],'k')\n",
    "\n",
    "#for p in peaks[0][peaks_inwin]\n",
    "peaks_inwin = peaks[peaks_mask,0]\n",
    "x_s=peak_starts_inwin\n",
    "x_p=peaks_inwin\n",
    "y_s=f_sig[x_s]\n",
    "y_p=f_sig[x_p]\n",
    "\n",
    "f_ax.plot(t[peak_starts_inwin],f_sig[peak_starts_inwin],'or')\n",
    "f_ax.plot(t[peaks_inwin],f_sig[peaks_inwin],'or')\n",
    "\n",
    "\n",
    "f_ax.plot([t[x_s[0]],t[x_p[0]]],[y_s[0],y_s[0]],'k')\n",
    "f_ax.plot([t[x_p[0]],t[x_p[0]]],[y_s[0],y_p[0]],'k')\n",
    "\n",
    "f_ax.plot([t[x_s[1]],t[x_p[1]]],[y_s[1],y_s[1]],'k')\n",
    "f_ax.plot([t[x_p[1]],t[x_p[1]]],[y_s[1],y_p[1]],'k')\n",
    "\n",
    "\n",
    "#for p in peaks_inwin:\n",
    "#    peak_t=t[p]-2\n",
    "#    peak_f=f_sig[p]\n",
    "#    peak_s=s_sig[p]\n",
    "\n",
    "#    f_ax.plot(peak_t,peak_f,'ro')\n",
    "#    s_ax.plot(peak_t,peak_s,'bo')\n",
    "    \n",
    "#    f_trans = f_ax.transData\n",
    "#    s_trans = s_ax.transata.inverted()\n",
    "#    trans = s_trans+f_trans\n",
    "#    f_point=f_trans.transform((peak_t,peak_f))\n",
    "#    s_point=s_trans.transform((f_point[0],f_point[1]))\n",
    "\n",
    "#    s_ax.plot([peak_t,peak_t],[peak_s, s_point[1]],'k')\n",
    "\n",
    "ins_start = peak_starts_inwin[1]-300\n",
    "ins_stop = peak_starts_inwin[1]+500\n",
    "f_ins_ax = zoomed_inset_axes(f_ax, 1.5, loc=1)  # zoom = 6\n",
    "f_ins_ax.step(t[ins_start:ins_stop],f_sig[ins_start:ins_stop],'r')\n",
    "f_ins_ax.set_ylim(60,180)\n",
    "f_ins_ax.set_xlim(t[ins_start],t[ins_stop])\n",
    "f_ins_ax.set_yticks([])\n",
    "f_ins_ax.set_xticks([])\n",
    "\n",
    "low_mask = np.logical_and(cfd_low >= start, cfd_low <= stop)\n",
    "low_inwin = cfd_low[low_mask]\n",
    "high_mask = np.logical_and(cfd_high >= start, cfd_high <= stop)\n",
    "high_inwin = cfd_high[high_mask]\n",
    "thresh_mask = np.logical_and(slope_xing >= start, slope_xing <= stop)\n",
    "thresh_inwin = slope_xing[thresh_mask]\n",
    "\n",
    "f_ins_ax.plot(t[peak_starts_inwin],f_sig[peak_starts_inwin],'or')\n",
    "f_ins_ax.plot(t[peaks_inwin],f_sig[peaks_inwin],'or')\n",
    "\n",
    "f_ins_ax.plot(t[low_inwin],f_sig[low_inwin],'ok')\n",
    "f_ins_ax.plot(t[high_inwin],f_sig[high_inwin],'ok')\n",
    "f_ax.plot(t[low_inwin],f_sig[low_inwin],'ok')\n",
    "f_ax.plot(t[high_inwin],f_sig[high_inwin],'ok')\n",
    "#f_ax.plot(t[thresh_inwin],f_sig[thresh_inwin],'ow')\n",
    "f_ins_ax.plot(t[thresh_inwin],f_sig[thresh_inwin],'ow')\n",
    "\n",
    "\n",
    "f_ins_ax.plot([t[x_s[0]],t[x_p[0]]],[y_s[0],y_s[0]],'k')\n",
    "f_ins_ax.plot([t[x_p[0]],t[x_p[0]]],[y_s[0],y_p[0]],'k')\n",
    "\n",
    "f_ins_ax.plot([t[x_s[1]],t[x_p[1]]],[y_s[1],y_s[1]],'k')\n",
    "f_ins_ax.plot([t[x_p[1]],t[x_p[1]]],[y_s[1],y_p[1]],'k')\n",
    "\n",
    "#f_ins_ax.plot([t[ins_start],t[ins_stop]],[0,0],'k') # zero line\n",
    "\n",
    "#plt.xticks(visible=False)\n",
    "#plt.yticks(visible=False)\n",
    "#mark_inset(f_ax, f_ins_ax, loc1=2, loc2=4, fc=\"none\", ec=\"0.5\")\n",
    "\n",
    "pstart = peak_starts_inwin[1]\n",
    "peak_start_t=t[pstart]-2\n",
    "peak_start_f=f_sig[pstart]\n",
    "peak_start_s=s_sig[pstart]\n",
    "\n",
    "f_ins_ax.plot(peak_start_t,peak_start_f,'ro')\n",
    "\n",
    "\n",
    "f_trans = f_ins_ax.transData\n",
    "s_trans = s_ins_ax.transData.inverted()\n",
    "trans = s_trans+f_trans\n",
    "f_point=f_trans.transform((peak_start_t,peak_start_f))\n",
    "s_point=s_trans.transform((f_point[0],f_point[1]))\n",
    "\n",
    "s_ins_ax.plot([peak_start_t,peak_start_t],[peak_start_s, s_point[1]],'k')\n",
    "\n",
    "s_ax.plot([t[start],t[stop]],[s_threshold,s_threshold],ls='dashed')\n",
    "\n",
    "fig.savefig('measurement2.png')\n",
    "plt.draw()\n",
    "plt.show()"
   ]
  },
  {
   "cell_type": "code",
   "execution_count": null,
   "metadata": {
    "collapsed": false
   },
   "outputs": [],
   "source": [
    "from mpl_toolkits.axes_grid1.inset_locator import inset_axes\n",
    "\n",
    "fig=plt.figure()\n",
    "fig.suptitle('Multi Channel Analyser',fontsize=24)\n",
    "\n",
    "h_ax = host_subplot(111)\n",
    "\n",
    "h_ins_ax = inset_axes(h_ax, width=\"80%\",height=1., loc=1)  # zoom = 6\n",
    "h_ins_ax.set_xlim(-25,160)\n",
    "h_ins_ax.set_ylim(0,0.002)\n",
    "h_ax.hist((traces['input']+200)*2*mV,math.pow(2,14),normed=1,facecolor='k',edgecolor='k')\n",
    "h_ax.hist(f_sig,math.pow(2,14),normed=1,facecolor='r',edgecolor='r')\n",
    "h_ins_ax.hist(f_sig,math.pow(2,14),normed=1,facecolor='r',edgecolor='r')\n",
    "h_ins_ax.set_xticks([])\n",
    "h_ins_ax.set_yticks([])\n",
    "h_ax.set_xlim(-30,100)\n",
    "h_ax.set_ylim(0,0.8)\n",
    "\n",
    "mark_inset(h_ax, h_ins_ax, loc1=2, loc2=4, fc=\"none\", ec=\"0.5\")\n",
    "\n",
    "h_ax.set_xlabel('Voltage (mV)')\n",
    "h_ax.set_ylabel('Probability')\n",
    "fig.savefig('hist.png')\n",
    "plt.show()"
   ]
  },
  {
   "cell_type": "code",
   "execution_count": null,
   "metadata": {
    "collapsed": true
   },
   "outputs": [],
   "source": [
    "peak_dt=np.dtype([('time',np.uint16),('flags',np.uint16),('minima',np.uint16),('height',np.uint16)])"
   ]
  },
  {
   "cell_type": "code",
   "execution_count": null,
   "metadata": {
    "collapsed": true
   },
   "outputs": [],
   "source": [
    "area_dt=np.dtype([('time',np.uint16),('flags',np.uint16),('area',np.uint32)])"
   ]
  },
  {
   "cell_type": "code",
   "execution_count": null,
   "metadata": {
    "collapsed": true
   },
   "outputs": [],
   "source": [
    "pulse_peak_dt=np.dtype([('trigger',np.uint16),('rise',np.uint16),('minima',np.uint16),('height',np.uint16)])\n",
    "pulse_header_dt=np.dtype([('time',np.uint16),('flags',np.uint16),('res1',np.uint16),('size',np.uint16),\n",
    "                    ('length',np.uint16),('res2',np.uint16),('area',np.int32)])"
   ]
  },
  {
   "cell_type": "code",
   "execution_count": null,
   "metadata": {
    "collapsed": false
   },
   "outputs": [],
   "source": [
    "pulse2_dt=np.dtype([('time',np.uint16),('flags',np.uint16),('res1',np.uint16),('size',np.uint16),\n",
    "                    ('length',np.uint16),('res2',np.uint16),('area',np.int32),\n",
    "                    ('trigger0',np.uint16),('rise0',np.uint16),('minima0',np.uint16),('height0',np.uint16),\n",
    "                    ('trigger1',np.uint16),('rise1',np.uint16),('minima1',np.uint16),('height1',np.uint16)])"
   ]
  },
  {
   "cell_type": "code",
   "execution_count": null,
   "metadata": {
    "collapsed": false
   },
   "outputs": [],
   "source": [
    "pulse2_subarray_dt=np.dtype([('header',pulse_header_dt,('peaks', (pulse_peak_dt,(1,2)) ))])"
   ]
  },
  {
   "cell_type": "code",
   "execution_count": null,
   "metadata": {
    "collapsed": true
   },
   "outputs": [],
   "source": [
    "eventstream=np.fromfile(path+'eventstream',peak_dt)"
   ]
  },
  {
   "cell_type": "code",
   "execution_count": null,
   "metadata": {
    "collapsed": true
   },
   "outputs": [],
   "source": [
    "eventstream=np.fromfile(path+'eventstream',area_dt)"
   ]
  },
  {
   "cell_type": "code",
   "execution_count": null,
   "metadata": {
    "collapsed": true
   },
   "outputs": [],
   "source": [
    "eventstream=np.fromfile(path+'eventstream',pulse2_dt)"
   ]
  },
  {
   "cell_type": "code",
   "execution_count": null,
   "metadata": {
    "collapsed": false
   },
   "outputs": [],
   "source": [
    "eventstream"
   ]
  },
  {
   "cell_type": "code",
   "execution_count": null,
   "metadata": {
    "collapsed": false
   },
   "outputs": [],
   "source": [
    "flags=eventstream['flags']\n",
    "print(np.binary_repr(flags[0],16))"
   ]
  },
  {
   "cell_type": "code",
   "execution_count": null,
   "metadata": {
    "collapsed": false
   },
   "outputs": [],
   "source": [
    "print(\"flags:{:016b}\\nsize:{}\\nlength:{}\\narea:{}\\ntrigger:{} rise:{} minima:{} height:{}\\ntrigger:{} rise:{} minima:{} height:{}\\n\"  \n",
    "      .format(eventstream['flags'][0],eventstream['size'][0],eventstream['length'][0],eventstream['area'][0],\n",
    "        eventstream['trigger0'][0],eventstream['rise0'][0],eventstream['minima0'][0],eventstream['height0'][0],\n",
    "        eventstream['trigger1'][0],eventstream['rise1'][0],eventstream['minima1'][0],eventstream['height1'][0]))"
   ]
  },
  {
   "cell_type": "code",
   "execution_count": null,
   "metadata": {
    "collapsed": false
   },
   "outputs": [],
   "source": [
    "print(np.binary_repr(flags[1],16))"
   ]
  },
  {
   "cell_type": "code",
   "execution_count": null,
   "metadata": {
    "collapsed": true
   },
   "outputs": [],
   "source": [
    "rel_to_min=np.right_shift(np.bitwise_and(flags,0x8000),15).astype(np.bool)\n",
    "channel=np.right_shift(np.bitwise_and(flags,0x0F00),8).astype(np.uint8)\n",
    "threshold_rel2min=np.right_shift(np.bitwise_and(flags,0x4000),14).astype(np.bool)\n",
    "peak_count=np.right_shift(np.bitwise_and(flags,0x00F0),4).astype(np.uint8)\n",
    "tick=np.bitwise_and(flags,0x0001).astype(bool)\n",
    "area=np.right_shift(np.bitwise_and(flags,0x0002),1).astype(np.bool)\n",
    "trace=np.right_shift(np.bitwise_and(flags,0x0004),2).astype(np.bool)\n",
    "fixed=np.right_shift(np.bitwise_and(flags,0x0008),3).astype(np.bool)\n",
    "event_type=np.right_shift(np.bitwise_and(flags,0x3000),12).astype(np.uint8)"
   ]
  },
  {
   "cell_type": "code",
   "execution_count": null,
   "metadata": {
    "collapsed": false
   },
   "outputs": [],
   "source": [
    "flags"
   ]
  },
  {
   "cell_type": "code",
   "execution_count": null,
   "metadata": {
    "collapsed": false
   },
   "outputs": [],
   "source": [
    "eventstream"
   ]
  },
  {
   "cell_type": "code",
   "execution_count": null,
   "metadata": {
    "collapsed": true
   },
   "outputs": [],
   "source": []
  },
  {
   "cell_type": "code",
   "execution_count": null,
   "metadata": {
    "collapsed": true
   },
   "outputs": [],
   "source": []
  }
 ],
 "metadata": {
  "kernelspec": {
   "display_name": "Python 3",
   "language": "python",
   "name": "python3"
  },
  "language_info": {
   "codemirror_mode": {
    "name": "ipython",
    "version": 3
   },
   "file_extension": ".py",
   "mimetype": "text/x-python",
   "name": "python",
   "nbconvert_exporter": "python",
   "pygments_lexer": "ipython3",
   "version": "3.5.1"
  }
 },
 "nbformat": 4,
 "nbformat_minor": 0
}
