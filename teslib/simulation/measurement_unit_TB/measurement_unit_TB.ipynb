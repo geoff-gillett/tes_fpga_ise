{
 "cells": [
  {
   "cell_type": "code",
   "execution_count": 224,
   "metadata": {
    "collapsed": false,
    "scrolled": false
   },
   "outputs": [
    {
     "data": {
      "application/javascript": [
       "/* Put everything inside the global mpl namespace */\n",
       "window.mpl = {};\n",
       "\n",
       "mpl.get_websocket_type = function() {\n",
       "    if (typeof(WebSocket) !== 'undefined') {\n",
       "        return WebSocket;\n",
       "    } else if (typeof(MozWebSocket) !== 'undefined') {\n",
       "        return MozWebSocket;\n",
       "    } else {\n",
       "        alert('Your browser does not have WebSocket support.' +\n",
       "              'Please try Chrome, Safari or Firefox ≥ 6. ' +\n",
       "              'Firefox 4 and 5 are also supported but you ' +\n",
       "              'have to enable WebSockets in about:config.');\n",
       "    };\n",
       "}\n",
       "\n",
       "mpl.figure = function(figure_id, websocket, ondownload, parent_element) {\n",
       "    this.id = figure_id;\n",
       "\n",
       "    this.ws = websocket;\n",
       "\n",
       "    this.supports_binary = (this.ws.binaryType != undefined);\n",
       "\n",
       "    if (!this.supports_binary) {\n",
       "        var warnings = document.getElementById(\"mpl-warnings\");\n",
       "        if (warnings) {\n",
       "            warnings.style.display = 'block';\n",
       "            warnings.textContent = (\n",
       "                \"This browser does not support binary websocket messages. \" +\n",
       "                    \"Performance may be slow.\");\n",
       "        }\n",
       "    }\n",
       "\n",
       "    this.imageObj = new Image();\n",
       "\n",
       "    this.context = undefined;\n",
       "    this.message = undefined;\n",
       "    this.canvas = undefined;\n",
       "    this.rubberband_canvas = undefined;\n",
       "    this.rubberband_context = undefined;\n",
       "    this.format_dropdown = undefined;\n",
       "\n",
       "    this.image_mode = 'full';\n",
       "\n",
       "    this.root = $('<div/>');\n",
       "    this._root_extra_style(this.root)\n",
       "    this.root.attr('style', 'display: inline-block');\n",
       "\n",
       "    $(parent_element).append(this.root);\n",
       "\n",
       "    this._init_header(this);\n",
       "    this._init_canvas(this);\n",
       "    this._init_toolbar(this);\n",
       "\n",
       "    var fig = this;\n",
       "\n",
       "    this.waiting = false;\n",
       "\n",
       "    this.ws.onopen =  function () {\n",
       "            fig.send_message(\"supports_binary\", {value: fig.supports_binary});\n",
       "            fig.send_message(\"send_image_mode\", {});\n",
       "            fig.send_message(\"refresh\", {});\n",
       "        }\n",
       "\n",
       "    this.imageObj.onload = function() {\n",
       "            if (fig.image_mode == 'full') {\n",
       "                // Full images could contain transparency (where diff images\n",
       "                // almost always do), so we need to clear the canvas so that\n",
       "                // there is no ghosting.\n",
       "                fig.context.clearRect(0, 0, fig.canvas.width, fig.canvas.height);\n",
       "            }\n",
       "            fig.context.drawImage(fig.imageObj, 0, 0);\n",
       "        };\n",
       "\n",
       "    this.imageObj.onunload = function() {\n",
       "        this.ws.close();\n",
       "    }\n",
       "\n",
       "    this.ws.onmessage = this._make_on_message_function(this);\n",
       "\n",
       "    this.ondownload = ondownload;\n",
       "}\n",
       "\n",
       "mpl.figure.prototype._init_header = function() {\n",
       "    var titlebar = $(\n",
       "        '<div class=\"ui-dialog-titlebar ui-widget-header ui-corner-all ' +\n",
       "        'ui-helper-clearfix\"/>');\n",
       "    var titletext = $(\n",
       "        '<div class=\"ui-dialog-title\" style=\"width: 100%; ' +\n",
       "        'text-align: center; padding: 3px;\"/>');\n",
       "    titlebar.append(titletext)\n",
       "    this.root.append(titlebar);\n",
       "    this.header = titletext[0];\n",
       "}\n",
       "\n",
       "\n",
       "\n",
       "mpl.figure.prototype._canvas_extra_style = function(canvas_div) {\n",
       "\n",
       "}\n",
       "\n",
       "\n",
       "mpl.figure.prototype._root_extra_style = function(canvas_div) {\n",
       "\n",
       "}\n",
       "\n",
       "mpl.figure.prototype._init_canvas = function() {\n",
       "    var fig = this;\n",
       "\n",
       "    var canvas_div = $('<div/>');\n",
       "\n",
       "    canvas_div.attr('style', 'position: relative; clear: both; outline: 0');\n",
       "\n",
       "    function canvas_keyboard_event(event) {\n",
       "        return fig.key_event(event, event['data']);\n",
       "    }\n",
       "\n",
       "    canvas_div.keydown('key_press', canvas_keyboard_event);\n",
       "    canvas_div.keyup('key_release', canvas_keyboard_event);\n",
       "    this.canvas_div = canvas_div\n",
       "    this._canvas_extra_style(canvas_div)\n",
       "    this.root.append(canvas_div);\n",
       "\n",
       "    var canvas = $('<canvas/>');\n",
       "    canvas.addClass('mpl-canvas');\n",
       "    canvas.attr('style', \"left: 0; top: 0; z-index: 0; outline: 0\")\n",
       "\n",
       "    this.canvas = canvas[0];\n",
       "    this.context = canvas[0].getContext(\"2d\");\n",
       "\n",
       "    var rubberband = $('<canvas/>');\n",
       "    rubberband.attr('style', \"position: absolute; left: 0; top: 0; z-index: 1;\")\n",
       "\n",
       "    var pass_mouse_events = true;\n",
       "\n",
       "    canvas_div.resizable({\n",
       "        start: function(event, ui) {\n",
       "            pass_mouse_events = false;\n",
       "        },\n",
       "        resize: function(event, ui) {\n",
       "            fig.request_resize(ui.size.width, ui.size.height);\n",
       "        },\n",
       "        stop: function(event, ui) {\n",
       "            pass_mouse_events = true;\n",
       "            fig.request_resize(ui.size.width, ui.size.height);\n",
       "        },\n",
       "    });\n",
       "\n",
       "    function mouse_event_fn(event) {\n",
       "        if (pass_mouse_events)\n",
       "            return fig.mouse_event(event, event['data']);\n",
       "    }\n",
       "\n",
       "    rubberband.mousedown('button_press', mouse_event_fn);\n",
       "    rubberband.mouseup('button_release', mouse_event_fn);\n",
       "    // Throttle sequential mouse events to 1 every 20ms.\n",
       "    rubberband.mousemove('motion_notify', mouse_event_fn);\n",
       "\n",
       "    rubberband.mouseenter('figure_enter', mouse_event_fn);\n",
       "    rubberband.mouseleave('figure_leave', mouse_event_fn);\n",
       "\n",
       "    canvas_div.on(\"wheel\", function (event) {\n",
       "        event = event.originalEvent;\n",
       "        event['data'] = 'scroll'\n",
       "        if (event.deltaY < 0) {\n",
       "            event.step = 1;\n",
       "        } else {\n",
       "            event.step = -1;\n",
       "        }\n",
       "        mouse_event_fn(event);\n",
       "    });\n",
       "\n",
       "    canvas_div.append(canvas);\n",
       "    canvas_div.append(rubberband);\n",
       "\n",
       "    this.rubberband = rubberband;\n",
       "    this.rubberband_canvas = rubberband[0];\n",
       "    this.rubberband_context = rubberband[0].getContext(\"2d\");\n",
       "    this.rubberband_context.strokeStyle = \"#000000\";\n",
       "\n",
       "    this._resize_canvas = function(width, height) {\n",
       "        // Keep the size of the canvas, canvas container, and rubber band\n",
       "        // canvas in synch.\n",
       "        canvas_div.css('width', width)\n",
       "        canvas_div.css('height', height)\n",
       "\n",
       "        canvas.attr('width', width);\n",
       "        canvas.attr('height', height);\n",
       "\n",
       "        rubberband.attr('width', width);\n",
       "        rubberband.attr('height', height);\n",
       "    }\n",
       "\n",
       "    // Set the figure to an initial 600x600px, this will subsequently be updated\n",
       "    // upon first draw.\n",
       "    this._resize_canvas(600, 600);\n",
       "\n",
       "    // Disable right mouse context menu.\n",
       "    $(this.rubberband_canvas).bind(\"contextmenu\",function(e){\n",
       "        return false;\n",
       "    });\n",
       "\n",
       "    function set_focus () {\n",
       "        canvas.focus();\n",
       "        canvas_div.focus();\n",
       "    }\n",
       "\n",
       "    window.setTimeout(set_focus, 100);\n",
       "}\n",
       "\n",
       "mpl.figure.prototype._init_toolbar = function() {\n",
       "    var fig = this;\n",
       "\n",
       "    var nav_element = $('<div/>')\n",
       "    nav_element.attr('style', 'width: 100%');\n",
       "    this.root.append(nav_element);\n",
       "\n",
       "    // Define a callback function for later on.\n",
       "    function toolbar_event(event) {\n",
       "        return fig.toolbar_button_onclick(event['data']);\n",
       "    }\n",
       "    function toolbar_mouse_event(event) {\n",
       "        return fig.toolbar_button_onmouseover(event['data']);\n",
       "    }\n",
       "\n",
       "    for(var toolbar_ind in mpl.toolbar_items) {\n",
       "        var name = mpl.toolbar_items[toolbar_ind][0];\n",
       "        var tooltip = mpl.toolbar_items[toolbar_ind][1];\n",
       "        var image = mpl.toolbar_items[toolbar_ind][2];\n",
       "        var method_name = mpl.toolbar_items[toolbar_ind][3];\n",
       "\n",
       "        if (!name) {\n",
       "            // put a spacer in here.\n",
       "            continue;\n",
       "        }\n",
       "        var button = $('<button/>');\n",
       "        button.addClass('ui-button ui-widget ui-state-default ui-corner-all ' +\n",
       "                        'ui-button-icon-only');\n",
       "        button.attr('role', 'button');\n",
       "        button.attr('aria-disabled', 'false');\n",
       "        button.click(method_name, toolbar_event);\n",
       "        button.mouseover(tooltip, toolbar_mouse_event);\n",
       "\n",
       "        var icon_img = $('<span/>');\n",
       "        icon_img.addClass('ui-button-icon-primary ui-icon');\n",
       "        icon_img.addClass(image);\n",
       "        icon_img.addClass('ui-corner-all');\n",
       "\n",
       "        var tooltip_span = $('<span/>');\n",
       "        tooltip_span.addClass('ui-button-text');\n",
       "        tooltip_span.html(tooltip);\n",
       "\n",
       "        button.append(icon_img);\n",
       "        button.append(tooltip_span);\n",
       "\n",
       "        nav_element.append(button);\n",
       "    }\n",
       "\n",
       "    var fmt_picker_span = $('<span/>');\n",
       "\n",
       "    var fmt_picker = $('<select/>');\n",
       "    fmt_picker.addClass('mpl-toolbar-option ui-widget ui-widget-content');\n",
       "    fmt_picker_span.append(fmt_picker);\n",
       "    nav_element.append(fmt_picker_span);\n",
       "    this.format_dropdown = fmt_picker[0];\n",
       "\n",
       "    for (var ind in mpl.extensions) {\n",
       "        var fmt = mpl.extensions[ind];\n",
       "        var option = $(\n",
       "            '<option/>', {selected: fmt === mpl.default_extension}).html(fmt);\n",
       "        fmt_picker.append(option)\n",
       "    }\n",
       "\n",
       "    // Add hover states to the ui-buttons\n",
       "    $( \".ui-button\" ).hover(\n",
       "        function() { $(this).addClass(\"ui-state-hover\");},\n",
       "        function() { $(this).removeClass(\"ui-state-hover\");}\n",
       "    );\n",
       "\n",
       "    var status_bar = $('<span class=\"mpl-message\"/>');\n",
       "    nav_element.append(status_bar);\n",
       "    this.message = status_bar[0];\n",
       "}\n",
       "\n",
       "mpl.figure.prototype.request_resize = function(x_pixels, y_pixels) {\n",
       "    // Request matplotlib to resize the figure. Matplotlib will then trigger a resize in the client,\n",
       "    // which will in turn request a refresh of the image.\n",
       "    this.send_message('resize', {'width': x_pixels, 'height': y_pixels});\n",
       "}\n",
       "\n",
       "mpl.figure.prototype.send_message = function(type, properties) {\n",
       "    properties['type'] = type;\n",
       "    properties['figure_id'] = this.id;\n",
       "    this.ws.send(JSON.stringify(properties));\n",
       "}\n",
       "\n",
       "mpl.figure.prototype.send_draw_message = function() {\n",
       "    if (!this.waiting) {\n",
       "        this.waiting = true;\n",
       "        this.ws.send(JSON.stringify({type: \"draw\", figure_id: this.id}));\n",
       "    }\n",
       "}\n",
       "\n",
       "\n",
       "mpl.figure.prototype.handle_save = function(fig, msg) {\n",
       "    var format_dropdown = fig.format_dropdown;\n",
       "    var format = format_dropdown.options[format_dropdown.selectedIndex].value;\n",
       "    fig.ondownload(fig, format);\n",
       "}\n",
       "\n",
       "\n",
       "mpl.figure.prototype.handle_resize = function(fig, msg) {\n",
       "    var size = msg['size'];\n",
       "    if (size[0] != fig.canvas.width || size[1] != fig.canvas.height) {\n",
       "        fig._resize_canvas(size[0], size[1]);\n",
       "        fig.send_message(\"refresh\", {});\n",
       "    };\n",
       "}\n",
       "\n",
       "mpl.figure.prototype.handle_rubberband = function(fig, msg) {\n",
       "    var x0 = msg['x0'];\n",
       "    var y0 = fig.canvas.height - msg['y0'];\n",
       "    var x1 = msg['x1'];\n",
       "    var y1 = fig.canvas.height - msg['y1'];\n",
       "    x0 = Math.floor(x0) + 0.5;\n",
       "    y0 = Math.floor(y0) + 0.5;\n",
       "    x1 = Math.floor(x1) + 0.5;\n",
       "    y1 = Math.floor(y1) + 0.5;\n",
       "    var min_x = Math.min(x0, x1);\n",
       "    var min_y = Math.min(y0, y1);\n",
       "    var width = Math.abs(x1 - x0);\n",
       "    var height = Math.abs(y1 - y0);\n",
       "\n",
       "    fig.rubberband_context.clearRect(\n",
       "        0, 0, fig.canvas.width, fig.canvas.height);\n",
       "\n",
       "    fig.rubberband_context.strokeRect(min_x, min_y, width, height);\n",
       "}\n",
       "\n",
       "mpl.figure.prototype.handle_figure_label = function(fig, msg) {\n",
       "    // Updates the figure title.\n",
       "    fig.header.textContent = msg['label'];\n",
       "}\n",
       "\n",
       "mpl.figure.prototype.handle_cursor = function(fig, msg) {\n",
       "    var cursor = msg['cursor'];\n",
       "    switch(cursor)\n",
       "    {\n",
       "    case 0:\n",
       "        cursor = 'pointer';\n",
       "        break;\n",
       "    case 1:\n",
       "        cursor = 'default';\n",
       "        break;\n",
       "    case 2:\n",
       "        cursor = 'crosshair';\n",
       "        break;\n",
       "    case 3:\n",
       "        cursor = 'move';\n",
       "        break;\n",
       "    }\n",
       "    fig.rubberband_canvas.style.cursor = cursor;\n",
       "}\n",
       "\n",
       "mpl.figure.prototype.handle_message = function(fig, msg) {\n",
       "    fig.message.textContent = msg['message'];\n",
       "}\n",
       "\n",
       "mpl.figure.prototype.handle_draw = function(fig, msg) {\n",
       "    // Request the server to send over a new figure.\n",
       "    fig.send_draw_message();\n",
       "}\n",
       "\n",
       "mpl.figure.prototype.handle_image_mode = function(fig, msg) {\n",
       "    fig.image_mode = msg['mode'];\n",
       "}\n",
       "\n",
       "mpl.figure.prototype.updated_canvas_event = function() {\n",
       "    // Called whenever the canvas gets updated.\n",
       "    this.send_message(\"ack\", {});\n",
       "}\n",
       "\n",
       "// A function to construct a web socket function for onmessage handling.\n",
       "// Called in the figure constructor.\n",
       "mpl.figure.prototype._make_on_message_function = function(fig) {\n",
       "    return function socket_on_message(evt) {\n",
       "        if (evt.data instanceof Blob) {\n",
       "            /* FIXME: We get \"Resource interpreted as Image but\n",
       "             * transferred with MIME type text/plain:\" errors on\n",
       "             * Chrome.  But how to set the MIME type?  It doesn't seem\n",
       "             * to be part of the websocket stream */\n",
       "            evt.data.type = \"image/png\";\n",
       "\n",
       "            /* Free the memory for the previous frames */\n",
       "            if (fig.imageObj.src) {\n",
       "                (window.URL || window.webkitURL).revokeObjectURL(\n",
       "                    fig.imageObj.src);\n",
       "            }\n",
       "\n",
       "            fig.imageObj.src = (window.URL || window.webkitURL).createObjectURL(\n",
       "                evt.data);\n",
       "            fig.updated_canvas_event();\n",
       "            fig.waiting = false;\n",
       "            return;\n",
       "        }\n",
       "        else if (typeof evt.data === 'string' && evt.data.slice(0, 21) == \"data:image/png;base64\") {\n",
       "            fig.imageObj.src = evt.data;\n",
       "            fig.updated_canvas_event();\n",
       "            fig.waiting = false;\n",
       "            return;\n",
       "        }\n",
       "\n",
       "        var msg = JSON.parse(evt.data);\n",
       "        var msg_type = msg['type'];\n",
       "\n",
       "        // Call the  \"handle_{type}\" callback, which takes\n",
       "        // the figure and JSON message as its only arguments.\n",
       "        try {\n",
       "            var callback = fig[\"handle_\" + msg_type];\n",
       "        } catch (e) {\n",
       "            console.log(\"No handler for the '\" + msg_type + \"' message type: \", msg);\n",
       "            return;\n",
       "        }\n",
       "\n",
       "        if (callback) {\n",
       "            try {\n",
       "                // console.log(\"Handling '\" + msg_type + \"' message: \", msg);\n",
       "                callback(fig, msg);\n",
       "            } catch (e) {\n",
       "                console.log(\"Exception inside the 'handler_\" + msg_type + \"' callback:\", e, e.stack, msg);\n",
       "            }\n",
       "        }\n",
       "    };\n",
       "}\n",
       "\n",
       "// from http://stackoverflow.com/questions/1114465/getting-mouse-location-in-canvas\n",
       "mpl.findpos = function(e) {\n",
       "    //this section is from http://www.quirksmode.org/js/events_properties.html\n",
       "    var targ;\n",
       "    if (!e)\n",
       "        e = window.event;\n",
       "    if (e.target)\n",
       "        targ = e.target;\n",
       "    else if (e.srcElement)\n",
       "        targ = e.srcElement;\n",
       "    if (targ.nodeType == 3) // defeat Safari bug\n",
       "        targ = targ.parentNode;\n",
       "\n",
       "    // jQuery normalizes the pageX and pageY\n",
       "    // pageX,Y are the mouse positions relative to the document\n",
       "    // offset() returns the position of the element relative to the document\n",
       "    var x = e.pageX - $(targ).offset().left;\n",
       "    var y = e.pageY - $(targ).offset().top;\n",
       "\n",
       "    return {\"x\": x, \"y\": y};\n",
       "};\n",
       "\n",
       "/*\n",
       " * return a copy of an object with only non-object keys\n",
       " * we need this to avoid circular references\n",
       " * http://stackoverflow.com/a/24161582/3208463\n",
       " */\n",
       "function simpleKeys (original) {\n",
       "  return Object.keys(original).reduce(function (obj, key) {\n",
       "    if (typeof original[key] !== 'object')\n",
       "        obj[key] = original[key]\n",
       "    return obj;\n",
       "  }, {});\n",
       "}\n",
       "\n",
       "mpl.figure.prototype.mouse_event = function(event, name) {\n",
       "    var canvas_pos = mpl.findpos(event)\n",
       "\n",
       "    if (name === 'button_press')\n",
       "    {\n",
       "        this.canvas.focus();\n",
       "        this.canvas_div.focus();\n",
       "    }\n",
       "\n",
       "    var x = canvas_pos.x;\n",
       "    var y = canvas_pos.y;\n",
       "\n",
       "    this.send_message(name, {x: x, y: y, button: event.button,\n",
       "                             step: event.step,\n",
       "                             guiEvent: simpleKeys(event)});\n",
       "\n",
       "    /* This prevents the web browser from automatically changing to\n",
       "     * the text insertion cursor when the button is pressed.  We want\n",
       "     * to control all of the cursor setting manually through the\n",
       "     * 'cursor' event from matplotlib */\n",
       "    event.preventDefault();\n",
       "    return false;\n",
       "}\n",
       "\n",
       "mpl.figure.prototype._key_event_extra = function(event, name) {\n",
       "    // Handle any extra behaviour associated with a key event\n",
       "}\n",
       "\n",
       "mpl.figure.prototype.key_event = function(event, name) {\n",
       "\n",
       "    // Prevent repeat events\n",
       "    if (name == 'key_press')\n",
       "    {\n",
       "        if (event.which === this._key)\n",
       "            return;\n",
       "        else\n",
       "            this._key = event.which;\n",
       "    }\n",
       "    if (name == 'key_release')\n",
       "        this._key = null;\n",
       "\n",
       "    var value = '';\n",
       "    if (event.ctrlKey && event.which != 17)\n",
       "        value += \"ctrl+\";\n",
       "    if (event.altKey && event.which != 18)\n",
       "        value += \"alt+\";\n",
       "    if (event.shiftKey && event.which != 16)\n",
       "        value += \"shift+\";\n",
       "\n",
       "    value += 'k';\n",
       "    value += event.which.toString();\n",
       "\n",
       "    this._key_event_extra(event, name);\n",
       "\n",
       "    this.send_message(name, {key: value,\n",
       "                             guiEvent: simpleKeys(event)});\n",
       "    return false;\n",
       "}\n",
       "\n",
       "mpl.figure.prototype.toolbar_button_onclick = function(name) {\n",
       "    if (name == 'download') {\n",
       "        this.handle_save(this, null);\n",
       "    } else {\n",
       "        this.send_message(\"toolbar_button\", {name: name});\n",
       "    }\n",
       "};\n",
       "\n",
       "mpl.figure.prototype.toolbar_button_onmouseover = function(tooltip) {\n",
       "    this.message.textContent = tooltip;\n",
       "};\n",
       "mpl.toolbar_items = [[\"Home\", \"Reset original view\", \"fa fa-home icon-home\", \"home\"], [\"Back\", \"Back to  previous view\", \"fa fa-arrow-left icon-arrow-left\", \"back\"], [\"Forward\", \"Forward to next view\", \"fa fa-arrow-right icon-arrow-right\", \"forward\"], [\"\", \"\", \"\", \"\"], [\"Pan\", \"Pan axes with left mouse, zoom with right\", \"fa fa-arrows icon-move\", \"pan\"], [\"Zoom\", \"Zoom to rectangle\", \"fa fa-square-o icon-check-empty\", \"zoom\"], [\"\", \"\", \"\", \"\"], [\"Download\", \"Download plot\", \"fa fa-floppy-o icon-save\", \"download\"]];\n",
       "\n",
       "mpl.extensions = [\"eps\", \"jpeg\", \"pdf\", \"png\", \"ps\", \"raw\", \"svg\", \"tif\"];\n",
       "\n",
       "mpl.default_extension = \"png\";var comm_websocket_adapter = function(comm) {\n",
       "    // Create a \"websocket\"-like object which calls the given IPython comm\n",
       "    // object with the appropriate methods. Currently this is a non binary\n",
       "    // socket, so there is still some room for performance tuning.\n",
       "    var ws = {};\n",
       "\n",
       "    ws.close = function() {\n",
       "        comm.close()\n",
       "    };\n",
       "    ws.send = function(m) {\n",
       "        //console.log('sending', m);\n",
       "        comm.send(m);\n",
       "    };\n",
       "    // Register the callback with on_msg.\n",
       "    comm.on_msg(function(msg) {\n",
       "        //console.log('receiving', msg['content']['data'], msg);\n",
       "        // Pass the mpl event to the overriden (by mpl) onmessage function.\n",
       "        ws.onmessage(msg['content']['data'])\n",
       "    });\n",
       "    return ws;\n",
       "}\n",
       "\n",
       "mpl.mpl_figure_comm = function(comm, msg) {\n",
       "    // This is the function which gets called when the mpl process\n",
       "    // starts-up an IPython Comm through the \"matplotlib\" channel.\n",
       "\n",
       "    var id = msg.content.data.id;\n",
       "    // Get hold of the div created by the display call when the Comm\n",
       "    // socket was opened in Python.\n",
       "    var element = $(\"#\" + id);\n",
       "    var ws_proxy = comm_websocket_adapter(comm)\n",
       "\n",
       "    function ondownload(figure, format) {\n",
       "        window.open(figure.imageObj.src);\n",
       "    }\n",
       "\n",
       "    var fig = new mpl.figure(id, ws_proxy,\n",
       "                           ondownload,\n",
       "                           element.get(0));\n",
       "\n",
       "    // Call onopen now - mpl needs it, as it is assuming we've passed it a real\n",
       "    // web socket which is closed, not our websocket->open comm proxy.\n",
       "    ws_proxy.onopen();\n",
       "\n",
       "    fig.parent_element = element.get(0);\n",
       "    fig.cell_info = mpl.find_output_cell(\"<div id='\" + id + \"'></div>\");\n",
       "    if (!fig.cell_info) {\n",
       "        console.error(\"Failed to find cell for figure\", id, fig);\n",
       "        return;\n",
       "    }\n",
       "\n",
       "    var output_index = fig.cell_info[2]\n",
       "    var cell = fig.cell_info[0];\n",
       "\n",
       "};\n",
       "\n",
       "mpl.figure.prototype.handle_close = function(fig, msg) {\n",
       "    fig.root.unbind('remove')\n",
       "\n",
       "    // Update the output cell to use the data from the current canvas.\n",
       "    fig.push_to_output();\n",
       "    var dataURL = fig.canvas.toDataURL();\n",
       "    // Re-enable the keyboard manager in IPython - without this line, in FF,\n",
       "    // the notebook keyboard shortcuts fail.\n",
       "    IPython.keyboard_manager.enable()\n",
       "    $(fig.parent_element).html('<img src=\"' + dataURL + '\">');\n",
       "    fig.close_ws(fig, msg);\n",
       "}\n",
       "\n",
       "mpl.figure.prototype.close_ws = function(fig, msg){\n",
       "    fig.send_message('closing', msg);\n",
       "    // fig.ws.close()\n",
       "}\n",
       "\n",
       "mpl.figure.prototype.push_to_output = function(remove_interactive) {\n",
       "    // Turn the data on the canvas into data in the output cell.\n",
       "    var dataURL = this.canvas.toDataURL();\n",
       "    this.cell_info[1]['text/html'] = '<img src=\"' + dataURL + '\">';\n",
       "}\n",
       "\n",
       "mpl.figure.prototype.updated_canvas_event = function() {\n",
       "    // Tell IPython that the notebook contents must change.\n",
       "    IPython.notebook.set_dirty(true);\n",
       "    this.send_message(\"ack\", {});\n",
       "    var fig = this;\n",
       "    // Wait a second, then push the new image to the DOM so\n",
       "    // that it is saved nicely (might be nice to debounce this).\n",
       "    setTimeout(function () { fig.push_to_output() }, 1000);\n",
       "}\n",
       "\n",
       "mpl.figure.prototype._init_toolbar = function() {\n",
       "    var fig = this;\n",
       "\n",
       "    var nav_element = $('<div/>')\n",
       "    nav_element.attr('style', 'width: 100%');\n",
       "    this.root.append(nav_element);\n",
       "\n",
       "    // Define a callback function for later on.\n",
       "    function toolbar_event(event) {\n",
       "        return fig.toolbar_button_onclick(event['data']);\n",
       "    }\n",
       "    function toolbar_mouse_event(event) {\n",
       "        return fig.toolbar_button_onmouseover(event['data']);\n",
       "    }\n",
       "\n",
       "    for(var toolbar_ind in mpl.toolbar_items){\n",
       "        var name = mpl.toolbar_items[toolbar_ind][0];\n",
       "        var tooltip = mpl.toolbar_items[toolbar_ind][1];\n",
       "        var image = mpl.toolbar_items[toolbar_ind][2];\n",
       "        var method_name = mpl.toolbar_items[toolbar_ind][3];\n",
       "\n",
       "        if (!name) { continue; };\n",
       "\n",
       "        var button = $('<button class=\"btn btn-default\" href=\"#\" title=\"' + name + '\"><i class=\"fa ' + image + ' fa-lg\"></i></button>');\n",
       "        button.click(method_name, toolbar_event);\n",
       "        button.mouseover(tooltip, toolbar_mouse_event);\n",
       "        nav_element.append(button);\n",
       "    }\n",
       "\n",
       "    // Add the status bar.\n",
       "    var status_bar = $('<span class=\"mpl-message\" style=\"text-align:right; float: right;\"/>');\n",
       "    nav_element.append(status_bar);\n",
       "    this.message = status_bar[0];\n",
       "\n",
       "    // Add the close button to the window.\n",
       "    var buttongrp = $('<div class=\"btn-group inline pull-right\"></div>');\n",
       "    var button = $('<button class=\"btn btn-mini btn-primary\" href=\"#\" title=\"Stop Interaction\"><i class=\"fa fa-power-off icon-remove icon-large\"></i></button>');\n",
       "    button.click(function (evt) { fig.handle_close(fig, {}); } );\n",
       "    button.mouseover('Stop Interaction', toolbar_mouse_event);\n",
       "    buttongrp.append(button);\n",
       "    var titlebar = this.root.find($('.ui-dialog-titlebar'));\n",
       "    titlebar.prepend(buttongrp);\n",
       "}\n",
       "\n",
       "mpl.figure.prototype._root_extra_style = function(el){\n",
       "    var fig = this\n",
       "    el.on(\"remove\", function(){\n",
       "\tfig.close_ws(fig, {});\n",
       "    });\n",
       "}\n",
       "\n",
       "mpl.figure.prototype._canvas_extra_style = function(el){\n",
       "    // this is important to make the div 'focusable\n",
       "    el.attr('tabindex', 0)\n",
       "    // reach out to IPython and tell the keyboard manager to turn it's self\n",
       "    // off when our div gets focus\n",
       "\n",
       "    // location in version 3\n",
       "    if (IPython.notebook.keyboard_manager) {\n",
       "        IPython.notebook.keyboard_manager.register_events(el);\n",
       "    }\n",
       "    else {\n",
       "        // location in version 2\n",
       "        IPython.keyboard_manager.register_events(el);\n",
       "    }\n",
       "\n",
       "}\n",
       "\n",
       "mpl.figure.prototype._key_event_extra = function(event, name) {\n",
       "    var manager = IPython.notebook.keyboard_manager;\n",
       "    if (!manager)\n",
       "        manager = IPython.keyboard_manager;\n",
       "\n",
       "    // Check for shift+enter\n",
       "    if (event.shiftKey && event.which == 13) {\n",
       "        this.canvas_div.blur();\n",
       "        event.shiftKey = false;\n",
       "        // Send a \"J\" for go to next cell\n",
       "        event.which = 74;\n",
       "        event.keyCode = 74;\n",
       "        manager.command_mode();\n",
       "        manager.handle_keydown(event);\n",
       "    }\n",
       "}\n",
       "\n",
       "mpl.figure.prototype.handle_save = function(fig, msg) {\n",
       "    fig.ondownload(fig, null);\n",
       "}\n",
       "\n",
       "\n",
       "mpl.find_output_cell = function(html_output) {\n",
       "    // Return the cell and output element which can be found *uniquely* in the notebook.\n",
       "    // Note - this is a bit hacky, but it is done because the \"notebook_saving.Notebook\"\n",
       "    // IPython event is triggered only after the cells have been serialised, which for\n",
       "    // our purposes (turning an active figure into a static one), is too late.\n",
       "    var cells = IPython.notebook.get_cells();\n",
       "    var ncells = cells.length;\n",
       "    for (var i=0; i<ncells; i++) {\n",
       "        var cell = cells[i];\n",
       "        if (cell.cell_type === 'code'){\n",
       "            for (var j=0; j<cell.output_area.outputs.length; j++) {\n",
       "                var data = cell.output_area.outputs[j];\n",
       "                if (data.data) {\n",
       "                    // IPython >= 3 moved mimebundle to data attribute of output\n",
       "                    data = data.data;\n",
       "                }\n",
       "                if (data['text/html'] == html_output) {\n",
       "                    return [cell, data, j];\n",
       "                }\n",
       "            }\n",
       "        }\n",
       "    }\n",
       "}\n",
       "\n",
       "// Register the function which deals with the matplotlib target/channel.\n",
       "// The kernel may be null if the page has been refreshed.\n",
       "if (IPython.notebook.kernel != null) {\n",
       "    IPython.notebook.kernel.comm_manager.register_target('matplotlib', mpl.mpl_figure_comm);\n",
       "}\n"
      ],
      "text/plain": [
       "<IPython.core.display.Javascript object>"
      ]
     },
     "metadata": {},
     "output_type": "display_data"
    },
    {
     "data": {
      "text/html": [
       "<img src=\"data:image/png;base64,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\">"
      ],
      "text/plain": [
       "<IPython.core.display.HTML object>"
      ]
     },
     "metadata": {},
     "output_type": "display_data"
    },
    {
     "data": {
      "text/plain": [
       "peak count:0\n",
       "height_rel2min:False\n",
       "HeightType.peak_height\n",
       "TriggerType.cfd_low\n",
       "channel:7\n",
       "PayloadType.pulse\n",
       "tick:False\n",
       "new_window:False"
      ]
     },
     "execution_count": 224,
     "metadata": {},
     "output_type": "execute_result"
    }
   ],
   "source": [
    "%matplotlib notebook\n",
    "import sys\n",
    "import tes.simulation.data as sim\n",
    "import tes.simulation.plot as simplt\n",
    "import numpy as np\n",
    "import matplotlib.pyplot as plt\n",
    "from tes.simulation.filesets import measurement_unit_TB as fileset\n",
    "\n",
    "data = sim.Data(fileset, 1, 'teslib','measurement_unit_TB')\n",
    "plt.plot(data.trace['filtered'])\n",
    "\n",
    "es=sim.EventStream(data.event_stream)\n",
    "sim.EventStream.Flags(es.bytestream[4:6])"
   ]
  },
  {
   "cell_type": "code",
   "execution_count": 225,
   "metadata": {
    "collapsed": false,
    "scrolled": true
   },
   "outputs": [
    {
     "data": {
      "text/plain": [
       "array([(288301848828837888, False), (2584226159227043840, False),\n",
       "       (43980465118976, False), (0, True), (288332635154415616, False),\n",
       "       (15643258803229556736, False), (10995116289280, False), (0, True),\n",
       "       (288344729782321152, False), (5239379614538661888, False),\n",
       "       (230893146881280, False), (0, True)], \n",
       "      dtype=[('data', '>u8'), ('last', '?')])"
      ]
     },
     "execution_count": 225,
     "metadata": {},
     "output_type": "execute_result"
    }
   ],
   "source": [
    "data.event_stream"
   ]
  },
  {
   "cell_type": "code",
   "execution_count": 215,
   "metadata": {
    "collapsed": false
   },
   "outputs": [
    {
     "data": {
      "text/plain": [
       "array([(4, 321, [7, 136], 0, 318755, 0, 0, [(0, 40, 0, 31), (0, 0, 0, 0)]),\n",
       "       (4, 349, [7, 136], 0, 334041, 0, 0, [(0, 10, 0, 45), (0, 0, 0, 0)])], \n",
       "      dtype=[('size', '<u2'), ('length', '<u2'), ('flags', 'u1', (2,)), ('time', '<u2'), ('area', '<i4'), ('pulse_threshold', '<u2'), ('slope_threshold', '<u2'), ('peaks', [('height', '<u2'), ('minima', '<i2'), ('rise_time', '<u2'), ('time', '<u2')], (2,))])"
      ]
     },
     "execution_count": 215,
     "metadata": {},
     "output_type": "execute_result"
    }
   ],
   "source": [
    "es.events"
   ]
  },
  {
   "cell_type": "code",
   "execution_count": null,
   "metadata": {
    "collapsed": false
   },
   "outputs": [],
   "source": [
    "trace_header_dt = np.dtype(\n",
    "    ([\n",
    "            ('size',np.uint16),('tflags',np.uint8,(2,)),('dflags',np.uint8,(2,)),\n",
    "            ('time',np.uint16),('offset',np.uint16),('p_thresh',np.uint16),\n",
    "            ('s_thresh',np.uint16),('length',np.uint16),('resvd',np.uint16,(2,)),\n",
    "            ('area',np.uint32)\n",
    "     ])\n",
    ")\n",
    "trace_peak_dt = np.dtype(\n",
    "    ([\n",
    "            ('min',np.uint16),('height',np.uint16),('max',np.uint16),('time',np.uint16)\n",
    "            \n",
    "    ])\n",
    ")\n",
    "trace_dt = np.dtype(\n",
    "    [('header',trace_header_dt),('peaks',trace_peak_dt,(1,)),('data',np.uint16,(600,))]\n",
    ")\n",
    "\n",
    "h=es.bytestream[0:24].view(trace_header_dt)\n",
    "max_peaks=np.bitwise_and(h['tflags'][0][1],0x0F)\n",
    "p=es.bytestream[24:24+(max_peaks+1)*8].view(trace_peak_dt)\n",
    "t=es.bytestream[24+(max_peaks+1)*8:].view(np.int16)\n",
    "t.shape=(-1,2)\n",
    "h"
   ]
  },
  {
   "cell_type": "code",
   "execution_count": null,
   "metadata": {
    "collapsed": false
   },
   "outputs": [],
   "source": [
    "data.pulse_stop[0][0]"
   ]
  },
  {
   "cell_type": "code",
   "execution_count": null,
   "metadata": {
    "collapsed": false
   },
   "outputs": [],
   "source": [
    "%matplotlib notebook\n",
    "starts=data.peak_start\n",
    "stops=data.peak\n",
    "\n",
    "eventstream_traces = []\n",
    "data_traces = []\n",
    "\n",
    "s=0\n",
    "for peak in p:\n",
    "    l=peak[2]-peak[0]+1\n",
    "    eventstream_traces.append(t[s:s+l])\n",
    "    \n",
    "    plt.step(np.arange(peak[0],peak[2]+1),t[s:s+l,0]/2,'b')\n",
    "    plt.step(np.arange(peak[0],peak[2]+1),t[s:s+l,1]/2,'r')\n",
    "    s=l\n",
    "\n",
    "plt.plot(data.trace['filtered'][data.event_start[0][0]:data.pulse_stop[0][0]]/2,':b')\n",
    "plt.plot(data.trace['slope'][data.event_start[0][0]:data.pulse_stop[0][0]]/2,':r')"
   ]
  },
  {
   "cell_type": "code",
   "execution_count": null,
   "metadata": {
    "collapsed": false
   },
   "outputs": [],
   "source": [
    "eventstream_traces[0]"
   ]
  },
  {
   "cell_type": "code",
   "execution_count": 2,
   "metadata": {
    "collapsed": false
   },
   "outputs": [
    {
     "ename": "NameError",
     "evalue": "name 't' is not defined",
     "output_type": "error",
     "traceback": [
      "\u001b[1;31m---------------------------------------------------------------------------\u001b[0m",
      "\u001b[1;31mNameError\u001b[0m                                 Traceback (most recent call last)",
      "\u001b[1;32m<ipython-input-2-e26bc54977af>\u001b[0m in \u001b[0;36m<module>\u001b[1;34m()\u001b[0m\n\u001b[0;32m      1\u001b[0m \u001b[0mget_ipython\u001b[0m\u001b[1;33m(\u001b[0m\u001b[1;33m)\u001b[0m\u001b[1;33m.\u001b[0m\u001b[0mmagic\u001b[0m\u001b[1;33m(\u001b[0m\u001b[1;34m'matplotlib notebook'\u001b[0m\u001b[1;33m)\u001b[0m\u001b[1;33m\u001b[0m\u001b[0m\n\u001b[1;32m----> 2\u001b[1;33m \u001b[0mplt\u001b[0m\u001b[1;33m.\u001b[0m\u001b[0mstep\u001b[0m\u001b[1;33m(\u001b[0m\u001b[0mnp\u001b[0m\u001b[1;33m.\u001b[0m\u001b[0marange\u001b[0m\u001b[1;33m(\u001b[0m\u001b[0mlen\u001b[0m\u001b[1;33m(\u001b[0m\u001b[0mt\u001b[0m\u001b[1;33m[\u001b[0m\u001b[1;33m:\u001b[0m\u001b[1;33m,\u001b[0m\u001b[1;36m0\u001b[0m\u001b[1;33m]\u001b[0m\u001b[1;33m)\u001b[0m\u001b[1;33m)\u001b[0m\u001b[1;33m,\u001b[0m\u001b[0mt\u001b[0m\u001b[1;33m[\u001b[0m\u001b[1;33m:\u001b[0m\u001b[1;33m,\u001b[0m\u001b[1;36m0\u001b[0m\u001b[1;33m]\u001b[0m\u001b[1;33m/\u001b[0m\u001b[1;36m2\u001b[0m\u001b[1;33m)\u001b[0m\u001b[1;33m\u001b[0m\u001b[0m\n\u001b[0m\u001b[0;32m      3\u001b[0m \u001b[0mplt\u001b[0m\u001b[1;33m.\u001b[0m\u001b[0mstep\u001b[0m\u001b[1;33m(\u001b[0m\u001b[0mnp\u001b[0m\u001b[1;33m.\u001b[0m\u001b[0marange\u001b[0m\u001b[1;33m(\u001b[0m\u001b[0mlen\u001b[0m\u001b[1;33m(\u001b[0m\u001b[0mt\u001b[0m\u001b[1;33m[\u001b[0m\u001b[1;33m:\u001b[0m\u001b[1;33m,\u001b[0m\u001b[1;36m1\u001b[0m\u001b[1;33m]\u001b[0m\u001b[1;33m)\u001b[0m\u001b[1;33m)\u001b[0m\u001b[1;33m,\u001b[0m\u001b[0mt\u001b[0m\u001b[1;33m[\u001b[0m\u001b[1;33m:\u001b[0m\u001b[1;33m,\u001b[0m\u001b[1;36m1\u001b[0m\u001b[1;33m]\u001b[0m\u001b[1;33m/\u001b[0m\u001b[1;36m2\u001b[0m\u001b[1;33m,\u001b[0m\u001b[1;34m'r'\u001b[0m\u001b[1;33m)\u001b[0m\u001b[1;33m\u001b[0m\u001b[0m\n",
      "\u001b[1;31mNameError\u001b[0m: name 't' is not defined"
     ]
    }
   ],
   "source": [
    "%matplotlib notebook\n",
    "plt.step(np.arange(len(t[:,0])),t[:,0]/2)\n",
    "plt.step(np.arange(len(t[:,1])),t[:,1]/2,'r')"
   ]
  },
  {
   "cell_type": "code",
   "execution_count": null,
   "metadata": {
    "collapsed": false
   },
   "outputs": [],
   "source": [
    "d"
   ]
  },
  {
   "cell_type": "code",
   "execution_count": 151,
   "metadata": {
    "collapsed": false
   },
   "outputs": [
    {
     "data": {
      "text/plain": [
       "(array([ 3,  7, 11, 15, 19, 23, 27], dtype=int64),)"
      ]
     },
     "execution_count": 151,
     "metadata": {},
     "output_type": "execute_result"
    }
   ],
   "source": [
    "data.event_stream['last'].nonzero()"
   ]
  },
  {
   "cell_type": "code",
   "execution_count": 52,
   "metadata": {
    "collapsed": false
   },
   "outputs": [],
   "source": [
    "peak_dt = np.dtype(\n",
    "    ([ ('height', np.int16), ('minima', np.int16), ('flags', np.uint16), ('time',np.uint16)])\n",
    ")\n",
    "events = data.event_stream['data'].view(peak_dt)"
   ]
  },
  {
   "cell_type": "code",
   "execution_count": 152,
   "metadata": {
    "collapsed": false
   },
   "outputs": [],
   "source": [
    "pulse_peak_dt = np.dtype(\n",
    "    ([('height',np.uint16),('minima',np.uint16),('rise_time',np.uint16),('time',np.uint16)])\n",
    ")\n",
    "pulse_dt = np.dtype(\n",
    "    ([('size',np.uint16),('length',np.uint16),('flags',np.uint16),('time',np.uint16),\n",
    "     ('area',np.int32),('pulse_threshold',np.uint16),('slope_threshold',np.uint16),\n",
    "     ('peak',pulse_peak_dt)])\n",
    ")"
   ]
  },
  {
   "cell_type": "code",
   "execution_count": 153,
   "metadata": {
    "collapsed": false
   },
   "outputs": [
    {
     "data": {
      "text/plain": [
       "array([  4,   0,  65,   1,   7, 136,   0,   0,  35, 221,   4,   0,   0,\n",
       "         0,   0,   0,   0,   0,  40,   0,   0,   0,  31,   0,   0,   0,\n",
       "         0,   0,   0,   0,   0,   0,   4,   0,  93,   1,   7, 136,   0,\n",
       "         0, 217,  24,   5,   0,   0,   0,   0,   0,  58,   6,  40,   0,\n",
       "        82,   0,  31,   0,   0,   0,   0,   0,   0,   0,   0,   0,   4,\n",
       "         0, 104,   1,   7, 136,   0,   0,  72, 182,   4,   0,   0,   0,\n",
       "         0,   0,  58,   6,  40,   0,  82,   0,  31,   0,   0,   0,   0,\n",
       "         0,   0,   0,   0,   0,   4,   0,  32,   1,   7, 136,   0,   0,\n",
       "       121,  46,   4,   0,   0,   0,   0,   0,  58,   6,  40,   0,  82,\n",
       "         0,  31,   0,   0,   0,   0,   0,   0,   0,   0,   0,   4,   0,\n",
       "        90,   1,   7, 136,   0,   0, 242,  77,   5,   0,   0,   0,   0,\n",
       "         0,  58,   6,  40,   0,  82,   0,  31,   0,   0,   0,   0,   0,\n",
       "         0,   0,   0,   0,   4,   0,  45,   1,   7, 136,   0,   0, 172,\n",
       "        57,   4,   0,   0,   0,   0,   0,  58,   6,  40,   0,  82,   0,\n",
       "        31,   0,   0,   0,   0,   0,   0,   0,   0,   0,   4,   0, 100,\n",
       "         1,   7, 136,   0,   0, 104, 173,   4,   0,   0,   0,   0,   0,\n",
       "        58,   6,  40,   0,  82,   0,  31,   0,   0,   0,   0,   0,   0,\n",
       "         0,   0,   0], dtype=uint8)"
      ]
     },
     "execution_count": 153,
     "metadata": {},
     "output_type": "execute_result"
    }
   ],
   "source": [
    "bytestream=np.copy(data.event_stream['data']).view(np.uint8)\n",
    "bytestream"
   ]
  },
  {
   "cell_type": "code",
   "execution_count": 154,
   "metadata": {
    "collapsed": false
   },
   "outputs": [
    {
     "ename": "ValueError",
     "evalue": "new type not compatible with array.",
     "output_type": "error",
     "traceback": [
      "\u001b[1;31m---------------------------------------------------------------------------\u001b[0m",
      "\u001b[1;31mValueError\u001b[0m                                Traceback (most recent call last)",
      "\u001b[1;32m<ipython-input-154-02f58dc4e569>\u001b[0m in \u001b[0;36m<module>\u001b[1;34m()\u001b[0m\n\u001b[1;32m----> 1\u001b[1;33m \u001b[0mevents\u001b[0m\u001b[1;33m=\u001b[0m\u001b[0mbytestream\u001b[0m\u001b[1;33m.\u001b[0m\u001b[0mview\u001b[0m\u001b[1;33m(\u001b[0m\u001b[0mpulse_dt\u001b[0m\u001b[1;33m)\u001b[0m\u001b[1;33m\u001b[0m\u001b[0m\n\u001b[0m\u001b[0;32m      2\u001b[0m \u001b[0mevents\u001b[0m\u001b[1;33m\u001b[0m\u001b[0m\n",
      "\u001b[1;31mValueError\u001b[0m: new type not compatible with array."
     ]
    }
   ],
   "source": [
    "events=bytestream.view(pulse_dt)\n",
    "events"
   ]
  },
  {
   "cell_type": "code",
   "execution_count": 155,
   "metadata": {
    "collapsed": false
   },
   "outputs": [
    {
     "data": {
      "text/plain": [
       "array([(1594, 40, 33015, 0), (1631, 10, 33015, 0), (1578, -47, 33015, 0),\n",
       "       (1418, -95, 33015, 0), (1728, -97, 33015, 0), (1490, -21, 33015, 0),\n",
       "       (1500, -141, 33015, 0), (1900, 15, 33015, 0), (2726, 1155, 32775, 0)], \n",
       "      dtype=[('height', '<i2'), ('minima', '<i2'), ('flags', '<u2'), ('time', '<u2')])"
      ]
     },
     "execution_count": 155,
     "metadata": {},
     "output_type": "execute_result"
    }
   ],
   "source": [
    "events"
   ]
  },
  {
   "cell_type": "code",
   "execution_count": 54,
   "metadata": {
    "collapsed": false
   },
   "outputs": [
    {
     "ename": "AttributeError",
     "evalue": "module 'tes.simulation.data' has no attribute 'DetectionFlags'",
     "output_type": "error",
     "traceback": [
      "\u001b[1;31m---------------------------------------------------------------------------\u001b[0m",
      "\u001b[1;31mAttributeError\u001b[0m                            Traceback (most recent call last)",
      "\u001b[1;32m<ipython-input-54-ab8ece74e739>\u001b[0m in \u001b[0;36m<module>\u001b[1;34m()\u001b[0m\n\u001b[1;32m----> 1\u001b[1;33m \u001b[0mflags\u001b[0m\u001b[1;33m=\u001b[0m\u001b[0msim\u001b[0m\u001b[1;33m.\u001b[0m\u001b[0mDetectionFlags\u001b[0m\u001b[1;33m(\u001b[0m\u001b[0mevents\u001b[0m\u001b[1;33m[\u001b[0m\u001b[1;34m'flags'\u001b[0m\u001b[1;33m]\u001b[0m\u001b[1;33m[\u001b[0m\u001b[1;36m0\u001b[0m\u001b[1;33m]\u001b[0m\u001b[1;33m)\u001b[0m\u001b[1;33m\u001b[0m\u001b[0m\n\u001b[0m\u001b[0;32m      2\u001b[0m \u001b[0mflags\u001b[0m\u001b[1;33m\u001b[0m\u001b[0m\n",
      "\u001b[1;31mAttributeError\u001b[0m: module 'tes.simulation.data' has no attribute 'DetectionFlags'"
     ]
    }
   ],
   "source": [
    "flags=sim.DetectionFlags(events['flags'][0])\n",
    "flags\n"
   ]
  },
  {
   "cell_type": "code",
   "execution_count": null,
   "metadata": {
    "collapsed": false
   },
   "outputs": [],
   "source": [
    "bs=np.copy(data.event_stream['data']).view(np.uint8)"
   ]
  },
  {
   "cell_type": "code",
   "execution_count": null,
   "metadata": {
    "collapsed": false
   },
   "outputs": [],
   "source": [
    "event_size=bs[0:2].view(np.uint16)[0]\n",
    "event_size\n",
    "pulse_peaks=event_size-2\n",
    "pulse_peak_dt = np.dtype(\n",
    "    ([('height',np.uint16),('minima',np.uint16),('rise_time',np.uint16),('time',np.uint16)])\n",
    ")\n",
    "pulse_dt = np.dtype(\n",
    "    ([('size',np.uint16),('length',np.uint16),('flags',np.uint8,(2,)),('time',np.uint16),\n",
    "     ('area',np.int32),('pulse_threshold',np.uint16),('slope_threshold',np.uint16),\n",
    "     ('peaks',pulse_peak_dt,(pulse_peaks))])\n",
    ")"
   ]
  },
  {
   "cell_type": "code",
   "execution_count": null,
   "metadata": {
    "collapsed": false
   },
   "outputs": [],
   "source": [
    "bs.view(pulse_dt)['flags']"
   ]
  },
  {
   "cell_type": "code",
   "execution_count": 55,
   "metadata": {
    "collapsed": false
   },
   "outputs": [],
   "source": [
    "es=sim.EventStream(data.event_stream)"
   ]
  },
  {
   "cell_type": "code",
   "execution_count": 56,
   "metadata": {
    "collapsed": false
   },
   "outputs": [
    {
     "data": {
      "text/plain": [
       "array([ 58,   6,  40,   0, 247, 128,   0,   0,  95,   6,  10,   0, 247,\n",
       "       128,   0,   0,  42,   6, 209, 255, 247, 128,   0,   0, 138,   5,\n",
       "       161, 255, 247, 128,   0,   0, 192,   6, 159, 255, 247, 128,   0,\n",
       "         0, 210,   5, 235, 255, 247, 128,   0,   0, 220,   5, 115, 255,\n",
       "       247, 128,   0,   0, 108,   7,  15,   0, 247, 128,   0,   0, 166,\n",
       "        10, 131,   4,   7, 128,   0,   0], dtype=uint8)"
      ]
     },
     "execution_count": 56,
     "metadata": {},
     "output_type": "execute_result"
    }
   ],
   "source": [
    "es.bytestream\n"
   ]
  },
  {
   "cell_type": "code",
   "execution_count": 57,
   "metadata": {
    "collapsed": false
   },
   "outputs": [
    {
     "data": {
      "text/plain": [
       "array([0, 0, 0, 0, 0, 0, 0, 0, 0], dtype=uint16)"
      ]
     },
     "execution_count": 57,
     "metadata": {},
     "output_type": "execute_result"
    }
   ],
   "source": [
    "type_flags = np.bitwise_and(events['flags'],0x000f)\n",
    "peak_num = np.right_shift(np.bitwise_and(events['flags'],0x00f0),4)\n",
    "channel = np.right_shift(np.bitwise_and(events['flags'],0x0f00),8)\n",
    "event_type = np.right_shift(np.bitwise_and(events['flags'],0x3000),12)\n",
    "\n",
    "event_type\n"
   ]
  },
  {
   "cell_type": "code",
   "execution_count": null,
   "metadata": {
    "collapsed": false
   },
   "outputs": [],
   "source": [
    "%matplotlib notebook\n",
    "fig = simplt.plot_pulse(8,data,pre=500,length=3000)\n"
   ]
  },
  {
   "cell_type": "code",
   "execution_count": null,
   "metadata": {
    "collapsed": true
   },
   "outputs": [],
   "source": [
    "import pickle\n",
    "\n",
    "# An arbitrary collection of objects supported by pickle.\n",
    "\n",
    "pickler = pickle.Pickler(open('short.pickle', 'wb'),pickle.HIGHEST_PROTOCOL)\n",
    "pickler.dump(data)\n"
   ]
  },
  {
   "cell_type": "code",
   "execution_count": null,
   "metadata": {
    "collapsed": false
   },
   "outputs": [],
   "source": [
    "import pickle\n",
    "unpickler = pickle.Unpickler(open('short.pickle', 'rb'))\n",
    "data2=unpickler.load()"
   ]
  },
  {
   "cell_type": "code",
   "execution_count": null,
   "metadata": {
    "collapsed": false
   },
   "outputs": [],
   "source": [
    "data2.trace['slope']"
   ]
  },
  {
   "cell_type": "code",
   "execution_count": null,
   "metadata": {
    "collapsed": false
   },
   "outputs": [],
   "source": [
    "reg2"
   ]
  },
  {
   "cell_type": "code",
   "execution_count": null,
   "metadata": {
    "collapsed": false,
    "scrolled": false
   },
   "outputs": [],
   "source": [
    "axs = fig.get_axes()\n",
    "pax=axs[0].parasites\n",
    "pax[0]._label\n",
    "f_ins_ax=axs[1]\n",
    "s_ins_ax=f_ins_ax.parasites[0]"
   ]
  },
  {
   "cell_type": "code",
   "execution_count": null,
   "metadata": {
    "collapsed": false,
    "scrolled": false
   },
   "outputs": [],
   "source": [
    "es=sim.Data.fromfile('eventstream',np.int32,'teslib','measurement_unit_TB')"
   ]
  },
  {
   "cell_type": "code",
   "execution_count": null,
   "metadata": {
    "collapsed": false
   },
   "outputs": [],
   "source": [
    "es"
   ]
  },
  {
   "cell_type": "code",
   "execution_count": null,
   "metadata": {
    "collapsed": false
   },
   "outputs": [],
   "source": [
    "data.peak[-1]"
   ]
  },
  {
   "cell_type": "code",
   "execution_count": null,
   "metadata": {
    "collapsed": false
   },
   "outputs": [],
   "source": [
    "s.peak"
   ]
  },
  {
   "cell_type": "code",
   "execution_count": null,
   "metadata": {
    "collapsed": false
   },
   "outputs": [],
   "source": [
    "isinstance(r,sim.DataRegion)"
   ]
  },
  {
   "cell_type": "code",
   "execution_count": null,
   "metadata": {
    "collapsed": false
   },
   "outputs": [],
   "source": [
    "r.peak"
   ]
  },
  {
   "cell_type": "code",
   "execution_count": null,
   "metadata": {
    "collapsed": false
   },
   "outputs": [],
   "source": [
    "i"
   ]
  },
  {
   "cell_type": "code",
   "execution_count": null,
   "metadata": {
    "collapsed": false
   },
   "outputs": [],
   "source": [
    "ax=plt.gca()\n",
    "t=ax.transData\n",
    "t.transform([[0.1,0.2],[1,3]])"
   ]
  },
  {
   "cell_type": "code",
   "execution_count": null,
   "metadata": {
    "collapsed": true
   },
   "outputs": [],
   "source": [
    "x=np.array([0,1,2,3])\n",
    "y=np.array([3,4,5,6])\n",
    "\n",
    "xy=np.empty(shape=(4,2))"
   ]
  },
  {
   "cell_type": "code",
   "execution_count": null,
   "metadata": {
    "collapsed": false
   },
   "outputs": [],
   "source": [
    "xy[:,0]=x\n",
    "xy[:,1]=y\n",
    "t.transform(xy)"
   ]
  },
  {
   "cell_type": "code",
   "execution_count": null,
   "metadata": {
    "collapsed": true
   },
   "outputs": [],
   "source": []
  },
  {
   "cell_type": "code",
   "execution_count": null,
   "metadata": {
    "collapsed": false
   },
   "outputs": [],
   "source": [
    "# run to import isim data files\n",
    "\n",
    "import numpy as np\n",
    "import os\n",
    "import matplotlib.pyplot as plt\n",
    "import math\n",
    "from enum import Enum\n",
    "\n",
    "plt.rcParams[\"figure.figsize\"]=[800./80,600./80]\n",
    "\n",
    "repo='c:\\\\TES_project\\\\fpga_ise\\\\'\n",
    "project='teslib'\n",
    "testbench='measurement_unit_TB'\n",
    "datafile='traces'\n",
    "path=repo+project+'\\\\PlanAhead\\\\'+project+'.sim\\\\'+testbench+'\\\\'\n",
    "\n",
    "traces_dt = np.dtype([('input', np.int32),('raw',np.int32),('filtered',np.int32),('slope',np.int32)])\n",
    "traces=np.fromfile(path+'traces',traces_dt)\n",
    "trigger=np.fromfile(path+'triggers',np.int32)\n",
    "settings=np.fromfile(path+'settings',np.int32)\n",
    "cfd_low=np.fromfile(path+'cfdlow',np.int32)\n",
    "cfd_high=np.fromfile(path+'cfdhigh',np.int32)\n",
    "peaks=np.fromfile(path+'peaks',np.int32)\n",
    "peaks.shape=(-1,2)\n",
    "peak_starts=np.fromfile(path+'peak_starts',np.int32)\n",
    "#peak_starts.shape=(-1,2)\n",
    "pulse_starts=np.fromfile(path+'peak_starts',np.int32)\n",
    "settings=np.fromfile(path+'settings',np.int32)\n",
    "cfd_low=np.fromfile(path+'cfdlow',np.int32)\n",
    "cfd_high=np.fromfile(path+'cfdhigh',np.int32)\n",
    "slope_xing=np.fromfile(path+'slopethreshxings',np.int32)\n"
   ]
  },
  {
   "cell_type": "code",
   "execution_count": null,
   "metadata": {
    "collapsed": false
   },
   "outputs": [],
   "source": [
    "settings[13]"
   ]
  },
  {
   "cell_type": "code",
   "execution_count": null,
   "metadata": {
    "collapsed": false
   },
   "outputs": [],
   "source": [
    "#create register dict from settings array\n",
    "\n",
    "class height_type(Enum):\n",
    "    def from_int(value):\n",
    "        if value == 0:\n",
    "            return height_type.peak_height\n",
    "        elif value == 1:\n",
    "            return height_type.cfd_high\n",
    "        elif value == 2:\n",
    "            return height_type.slope_integral\n",
    "        else:\n",
    "            raise AttributeError()\n",
    "    peak_height=0\n",
    "    cfd_high=1\n",
    "    slope_integral=2\n",
    "\n",
    "class trigger_type(Enum):\n",
    "    def from_int(value):\n",
    "        if value == 0:\n",
    "            return trigger_type.pulse_threshold\n",
    "        elif value == 1:\n",
    "            return trigger_type.slope_threshold\n",
    "        elif value == 2:\n",
    "            return trigger_type.cfd_low\n",
    "        else:\n",
    "            raise AttributeError()\n",
    "    pulse_threshold=0\n",
    "    slope_threshold=1\n",
    "    cfd_low=2\n",
    "\n",
    "class event_type(Enum):\n",
    "    def from_int(value):\n",
    "        if value == 0:\n",
    "            return event_type.peak\n",
    "        elif value == 1:\n",
    "            return event_type.area\n",
    "        elif value == 2:\n",
    "            return event_type.pulse\n",
    "        elif value == 3:\n",
    "            return event_type.trace\n",
    "        else:\n",
    "            raise AttributeError()\n",
    "    peak=0\n",
    "    area=1\n",
    "    pulse=2\n",
    "    trace=3\n",
    "\n",
    "\n",
    "def read_registers(settings):\n",
    "    registers = dict()\n",
    "    registers['baseline'] = dict()\n",
    "    registers['baseline']['offset'] = settings[0]\n",
    "    registers['baseline']['subtraction'] = settings[1]!=0\n",
    "    registers['baseline']['timeconstant'] = settings[2]\n",
    "    registers['baseline']['threshold'] = settings[3]\n",
    "    registers['baseline']['count_threshold'] = settings[4]\n",
    "    registers['generic'] = dict()\n",
    "    registers['baseline']['average_order'] = settings[5]\n",
    "    registers['capture'] = dict()\n",
    "    registers['capture']['cfd_relative'] = settings[6]!=0\n",
    "    registers['capture']['constant_fraction'] = settings[7]\n",
    "    registers['capture']['pulse_threshold'] = settings[8]\n",
    "    registers['capture']['slope_threshold'] = settings[9]\n",
    "    registers['capture']['pulse_area_threshold'] = settings[10]\n",
    "    registers['capture']['height_type'] = height_type.from_int(settings[11])\n",
    "    registers['capture']['threshold_rel2min'] = settings[12]!=0\n",
    "    registers['capture']['trigger_type'] = trigger_type.from_int(settings[13])\n",
    "    registers['capture']['event_type'] = event_type.from_int(settings[14])\n",
    "    return registers\n"
   ]
  },
  {
   "cell_type": "code",
   "execution_count": null,
   "metadata": {
    "collapsed": false
   },
   "outputs": [],
   "source": [
    "%matplotlib notebook\n",
    "x=np.arange(len(traces['filtered']))\n",
    "fig=plt.figure()\n",
    "\n",
    "ax=fig.add_axes([0.15,0.1,0.8,0.8])\n",
    "mV=1.0/math.pow(2,14)*1000\n",
    "nS=4\n",
    "\n",
    "\n",
    "i_trace, =ax.step(x*nS/1000000,(traces['input']+1800)*mV*2,'k',label='raw input')\n",
    "f_trace, =ax.step(x*nS/1000000,traces['filtered']*mV,'b',label='processed')\n",
    "fig.suptitle('Digital Signal Processing',fontsize=24)\n",
    "plt.xlabel('time (ms)',fontsize=18)\n",
    "plt.ylabel('Voltage (mV)',fontsize=18)\n",
    "plt.legend(handles=[i_trace,f_trace])\n",
    "\n",
    "fig.savefig('trace.png')\n",
    "plt.show()"
   ]
  },
  {
   "cell_type": "code",
   "execution_count": null,
   "metadata": {
    "collapsed": true
   },
   "outputs": [],
   "source": []
  },
  {
   "cell_type": "code",
   "execution_count": null,
   "metadata": {
    "collapsed": false
   },
   "outputs": [],
   "source": [
    "%matplotlib notebook\n",
    "import math\n",
    "\n",
    "def align_yaxis(ax1, v1, ax2, v2):\n",
    "    \"\"\"adjust ax2 ylimit so that v2 in ax2 is aligned to v1 in ax1\"\"\"\n",
    "    _, y1 = ax1.transData.transform((0, v1))\n",
    "    _, y2 = ax2.transData.transform((0, v2))\n",
    "    adjust_yaxis(ax2,(y1-y2)/2,v2)\n",
    "    adjust_yaxis(ax1,(y2-y1)/2,v1)\n",
    "\n",
    "def adjust_yaxis(ax,ydif,v):\n",
    "    \"\"\"shift axis ax by ydiff, maintaining point v at the same location\"\"\"\n",
    "    inv = ax.transData.inverted()\n",
    "    _, dy = inv.transform((0, 0)) - inv.transform((0, ydif))\n",
    "    miny, maxy = ax.get_ylim()\n",
    "    miny, maxy = miny - v, maxy - v\n",
    "    if -miny>maxy or (-miny==maxy and dy > 0):\n",
    "        nminy = miny\n",
    "        nmaxy = miny*(maxy+dy)/(miny+dy)\n",
    "    else:\n",
    "        nmaxy = maxy\n",
    "        nminy = maxy*(miny+dy)/(maxy+dy)\n",
    "    ax.set_ylim(nminy+v, nmaxy+v)\n",
    "    \n",
    "x=np.arange(len(traces['filtered']))\n",
    "fig=plt.figure()\n",
    "ax=fig.add_axes([0.1,0.1,0.8,0.8])\n",
    "plt.ylim(-10,120)\n",
    "v=math.pow(2,13)/1000\n",
    "t=x*4\n",
    "ax.plot([0,t[-1]],[0,0],'k')\n",
    "raw, = ax.step(t,traces['raw']/2/v,'k',lw=1,label='raw')\n",
    "processed, = ax.step(t,traces['filtered']/2/v,'r',lw=2,label='processed')\n",
    "ax.plot(trigger,traces['filtered'][trigger+1]/2,'kx')\n",
    "ax.plot(peaks[:,0],traces['filtered'][peaks[:,0]+1]/2,'ro')\n",
    "ax.plot(peak_starts,traces['filtered'][peak_starts+1]/2,'ro')\n",
    "ax.plot(cfd_high,traces['filtered'][cfd_high+1]/2,'bs')\n",
    "ax.plot(cfd_low,traces['filtered'][cfd_low+1]/2,'bs')\n",
    "plt.xlabel('time (ns)',fontsize=18)\n",
    "plt.ylabel('Voltage (mV)',fontsize=18,color='r')\n",
    "\n",
    "ax2=ax.twinx()\n",
    "slope, = ax2.step(t,traces['slope']/256/v/4,'b',lw=2,label='slope')\n",
    "plt.xlim([1292000,1297500])\n",
    "plt.ylim(-0.2,1)\n",
    "align_yaxis(ax,0,ax2,0)\n",
    "plt.ylabel('slope (mV/ns)',color='b',fontsize=18)\n",
    "fig.suptitle('Digital signal processing',fontsize=24)\n",
    "plt.legend(handles=[raw,processed,slope])\n",
    "fig.savefig('dsp.png')\n",
    "plt.show()"
   ]
  },
  {
   "cell_type": "code",
   "execution_count": null,
   "metadata": {
    "collapsed": false
   },
   "outputs": [],
   "source": [
    "%matplotlib notebook\n",
    "\n",
    "#plot pulse\n",
    "from mpl_toolkits.axes_grid1 import host_subplot\n",
    "from mpl_toolkits.axes_grid1.inset_locator import zoomed_inset_axes\n",
    "from mpl_toolkits.axes_grid1.inset_locator import mark_inset\n",
    "\n",
    "pulse=7\n",
    "length=2000\n",
    "pre=100\n",
    "\n",
    "def align_yaxis(ax1, v1, ax2, v2):\n",
    "    \"\"\"adjust ax2 ylimit so that v2 in ax2 is aligned to v1 in ax1\"\"\"\n",
    "    _, y1 = ax1.transData.transform((0, v1))\n",
    "    _, y2 = ax2.transData.transform((0, v2))\n",
    "    adjust_yaxis(ax2,(y1-y2)/2,v2)\n",
    "    adjust_yaxis(ax1,(y2-y1)/2,v1)\n",
    "\n",
    "def adjust_yaxis(ax,ydif,v):\n",
    "    \"\"\"shift axis ax by ydiff, maintaining point v at the same location\"\"\"\n",
    "    inv = ax.transData.inverted()\n",
    "    _, dy = inv.transform((0, 0)) - inv.transform((0, ydif))\n",
    "    miny, maxy = ax.get_ylim()\n",
    "    miny, maxy = miny - v, maxy - v\n",
    "    if -miny>maxy or (-miny==maxy and dy > 0):\n",
    "        nminy = miny\n",
    "        nmaxy = miny*(maxy+dy)/(miny+dy)\n",
    "    else:\n",
    "        nmaxy = maxy\n",
    "        nminy = maxy*(miny+dy)/(maxy+dy)\n",
    "    ax.set_ylim(nminy+v, nmaxy+v)\n",
    "    \n",
    "start=pulse_starts[pulse]-pre\n",
    "stop=start+length\n",
    "x=np.arange(0,len(traces['filtered']))\n",
    "fig=plt.figure()\n",
    "\n",
    "f_ax = host_subplot(111)\n",
    "s_ax = f_ax.twinx()\n",
    "\n",
    "f_ax.set_xlabel(\"Time (ns)\",fontsize=18)\n",
    "f_ax.set_ylabel(\"Voltage (mV)\",fontsize=18,color='r')\n",
    "s_ax.set_ylabel(\"Slope (mv/ns)\",fontsize=18,color='b')\n",
    "\n",
    "mV=1.0/math.pow(2,14)*1000\n",
    "nS=4\n",
    "t=x*nS\n",
    "\n",
    "f_sig = traces['filtered']*mV\n",
    "s_sig = traces['slope']*mV/nS\n",
    "\n",
    "f_ax.plot([t[start],t[stop]],[0,0],'k') # zero line\n",
    "f_trace, = f_ax.step(t[start:stop],f_sig[start:stop],'r',lw=2,label='processed')\n",
    "f_ax.set_ylim(-10,180)\n",
    "\n",
    "s_trace, = s_ax.step(t[start:stop],s_sig[start:stop],'b',lw=1,label='slope')\n",
    "s_ax.set_ylim(-15,50)\n",
    "#s_threshold = 6\n",
    "#s_ax.set_yticks(np.concatenate((s_ax.get_yticks(),[s_threshold])))\n",
    "#labels=[label.get_text() for label in s_ax.get_yticklabels()]\n",
    "#labels[6]='Threshold'\n",
    "\n",
    "#s_ax.set_yticklabels(labels)\n",
    "plt.xlim(t[start],t[stop])\n",
    "align_yaxis(f_ax,0,s_ax,0)\n",
    "fig.suptitle('Measurement:First pass',fontsize=24)\n",
    "#plt.legend(handles=[f_trace,s_trace])\n",
    "\n",
    "starts_mask = np.logical_and(peak_starts >= start,peak_starts <= stop)\n",
    "peaks_mask = np.logical_and(peaks[:,0] >= start, peaks[:,0] <= stop)\n",
    "peak_starts_inwin = peak_starts[starts_mask]\n",
    "\n",
    "for pstart in peak_starts_inwin:\n",
    "    peak_start_t=t[pstart]-2\n",
    "    peak_start_f=f_sig[pstart]\n",
    "    peak_start_s=s_sig[pstart]\n",
    "\n",
    "    f_ax.plot(peak_start_t,peak_start_f,'ro')\n",
    "    s_ax.plot(peak_start_t,peak_start_s,'bo')\n",
    "    \n",
    "    f_trans = f_ax.transData\n",
    "    s_trans = s_ax.transData.inverted()\n",
    "    trans = s_trans+f_trans\n",
    "    f_point=f_trans.transform((peak_start_t,peak_start_f))\n",
    "    s_point=s_trans.transform((f_point[0],f_point[1]))\n",
    "\n",
    "    s_ax.plot([peak_start_t,peak_start_t],[peak_start_s, s_point[1]],'k')\n",
    "\n",
    "#for p in peaks[0][peaks_inwin]\n",
    "peaks_inwin = peaks[peaks_mask,0]\n",
    "for p in peaks_inwin:\n",
    "    peak_t=t[p]-2\n",
    "    peak_f=f_sig[p]\n",
    "    peak_s=s_sig[p]\n",
    "\n",
    "    f_ax.plot(peak_t,peak_f,'ro')\n",
    "    s_ax.plot(peak_t,peak_s,'bo')\n",
    "    \n",
    "    f_trans = f_ax.transData\n",
    "    s_trans = s_ax.transData.inverted()\n",
    "    trans = s_trans+f_trans\n",
    "    f_point=f_trans.transform((peak_t,peak_f))\n",
    "    s_point=s_trans.transform((f_point[0],f_point[1]))\n",
    "\n",
    "    s_ax.plot([peak_t,peak_t],[peak_s, s_point[1]],'k')\n",
    "\n",
    "ins_start = peak_starts_inwin[0]-5\n",
    "ins_stop = peak_starts_inwin[0]+5\n",
    "f_ins_ax = zoomed_inset_axes(f_ax, 50, loc=1)  # zoom = 6\n",
    "f_ins_ax.step(t[ins_start:ins_stop],f_sig[ins_start:ins_stop],'r')\n",
    "f_ins_ax.set_ylim(-0.5,2)\n",
    "f_ins_ax.set_xlim(ins_start,ins_stop)\n",
    "f_ins_ax.set_yticks([])\n",
    "f_ins_ax.set_xticks([])\n",
    "\n",
    "f_ins_ax.plot([t[ins_start],t[ins_stop]],[0,0],'k') # zero line\n",
    "\n",
    "#plt.xticks(visible=False)\n",
    "#plt.yticks(visible=False)\n",
    "mark_inset(f_ax, f_ins_ax, loc1=2, loc2=4, fc=\"none\", ec=\"0.5\")\n",
    "\n",
    "s_ins_ax = f_ins_ax.twinx()\n",
    "s_ins_ax.set_yticks([])\n",
    "s_ins_ax.set_xticks([])\n",
    "\n",
    "s_ins_ax.step(t[ins_start:ins_stop],s_sig[ins_start:ins_stop],'b')\n",
    "\n",
    "s_ins_ax.set_ylim(-1,1)\n",
    "align_yaxis(f_ins_ax,0,s_ins_ax,0)\n",
    "\n",
    "pstart = peak_starts_inwin[0]\n",
    "peak_start_t=t[pstart]-2\n",
    "peak_start_f=f_sig[pstart]\n",
    "peak_start_s=s_sig[pstart]\n",
    "\n",
    "f_ins_ax.plot(peak_start_t,peak_start_f,'ro')\n",
    "s_ins_ax.plot(peak_start_t,peak_start_s,'bo')\n",
    "    \n",
    "f_trans = f_ins_ax.transData\n",
    "s_trans = s_ins_ax.transData.inverted()\n",
    "trans = s_trans+f_trans\n",
    "f_point=f_trans.transform((peak_start_t,peak_start_f))\n",
    "s_point=s_trans.transform((f_point[0],f_point[1]))\n",
    "\n",
    "s_ins_ax.plot([peak_start_t,peak_start_t],[peak_start_s, s_point[1]],'k')\n",
    "\n",
    "s_ax.plot([t[start],t[stop]],[s_threshold,s_threshold],ls='dashed')\n",
    "\n",
    "fig.savefig('measurement1.png')\n",
    "plt.draw()\n",
    "plt.show()"
   ]
  },
  {
   "cell_type": "code",
   "execution_count": null,
   "metadata": {
    "collapsed": false
   },
   "outputs": [],
   "source": [
    "%matplotlib notebook\n",
    "from mpl_toolkits.axes_grid1 import host_subplot\n",
    "from mpl_toolkits.axes_grid1.inset_locator import zoomed_inset_axes\n",
    "from mpl_toolkits.axes_grid1.inset_locator import mark_inset\n",
    "\n",
    "pulse=7\n",
    "length=2000\n",
    "pre=100\n",
    "\n",
    "def align_yaxis(ax1, v1, ax2, v2):\n",
    "    \"\"\"adjust ax2 ylimit so that v2 in ax2 is aligned to v1 in ax1\"\"\"\n",
    "    _, y1 = ax1.transData.transform((0, v1))\n",
    "    _, y2 = ax2.transData.transform((0, v2))\n",
    "    adjust_yaxis(ax2,(y1-y2)/2,v2)\n",
    "    adjust_yaxis(ax1,(y2-y1)/2,v1)\n",
    "\n",
    "def adjust_yaxis(ax,ydif,v):\n",
    "    \"\"\"shift axis ax by ydiff, maintaining point v at the same location\"\"\"\n",
    "    inv = ax.transData.inverted()\n",
    "    _, dy = inv.transform((0, 0)) - inv.transform((0, ydif))\n",
    "    miny, maxy = ax.get_ylim()\n",
    "    miny, maxy = miny - v, maxy - v\n",
    "    if -miny>maxy or (-miny==maxy and dy > 0):\n",
    "        nminy = miny\n",
    "        nmaxy = miny*(maxy+dy)/(miny+dy)\n",
    "    else:\n",
    "        nmaxy = maxy\n",
    "        nminy = maxy*(miny+dy)/(maxy+dy)\n",
    "    ax.set_ylim(nminy+v, nmaxy+v)\n",
    "    \n",
    "start=pulse_starts[pulse]-pre\n",
    "stop=start+length\n",
    "x=np.arange(0,len(traces['filtered']))\n",
    "fig=plt.figure()\n",
    "\n",
    "f_ax = host_subplot(111)\n",
    "s_ax = f_ax.twinx()\n",
    "\n",
    "f_ax.set_xlabel(\"Time (ns)\",fontsize=18)\n",
    "f_ax.set_ylabel(\"Voltage (mV)\",fontsize=18,color='r')\n",
    "s_ax.set_ylabel(\"Slope (mv/ns)\",fontsize=18,color='b')\n",
    "\n",
    "mV=1.0/math.pow(2,14)*1000\n",
    "nS=4\n",
    "t=x*nS\n",
    "\n",
    "f_sig = traces['filtered']*mV\n",
    "s_sig = traces['slope']*mV/nS\n",
    "\n",
    "f_ax.plot([t[start],t[stop]],[0,0],'k') # zero line\n",
    "f_trace, = f_ax.step(t[start:stop],f_sig[start:stop],'r',lw=2,label='processed')\n",
    "f_ax.set_ylim(-10,180)\n",
    "\n",
    "s_trace, = s_ax.step(t[start:stop],s_sig[start:stop],'b',lw=1,label='slope')\n",
    "s_ax.set_ylim(-15,50)\n",
    "#s_threshold = 6\n",
    "#s_ax.set_yticks(np.concatenate((s_ax.get_yticks(),[s_threshold])))\n",
    "#labels=[label.get_text() for label in s_ax.get_yticklabels()]\n",
    "#labels[6]='Threshold'\n",
    "\n",
    "#s_ax.set_yticklabels(labels)\n",
    "plt.xlim(t[start],t[stop])\n",
    "align_yaxis(f_ax,0,s_ax,0)\n",
    "fig.suptitle('Measurement:Second pass',fontsize=24)\n",
    "#plt.legend(handles=[f_trace,s_trace])\n",
    "\n",
    "starts_mask = np.logical_and(peak_starts >= start,peak_starts <= stop)\n",
    "peaks_mask = np.logical_and(peaks[:,0] >= start, peaks[:,0] <= stop)\n",
    "peak_starts_inwin = peak_starts[starts_mask]\n",
    "\n",
    "\n",
    "#for pstart in peak_starts_inwin:\n",
    "#    peak_start_t=t[pstart]-2\n",
    "#    peak_start_f=f_sig[pstart]\n",
    "#    peak_start_s=s_sig[pstart]\n",
    "#\n",
    "#    f_ax.plot(peak_start_t,peak_start_f,'ro')\n",
    "#    s_ax.plot(peak_start_t,peak_start_s,'bo')\n",
    "    \n",
    "#    f_trans = f_ax.transData\n",
    "#    s_trans = s_ax.transData.inverted()\n",
    "#    trans = s_trans+f_trans\n",
    "#    f_point=f_trans.transform((peak_start_t,peak_start_f))\n",
    "#    s_point=s_trans.transform((f_point[0],f_point[1]))\n",
    "\n",
    "#    s_ax.plot([peak_start_t,peak_start_t],[peak_start_s, s_point[1]],'k')\n",
    "\n",
    "#for p in peaks[0][peaks_inwin]\n",
    "peaks_inwin = peaks[peaks_mask,0]\n",
    "x_s=peak_starts_inwin\n",
    "x_p=peaks_inwin\n",
    "y_s=f_sig[x_s]\n",
    "y_p=f_sig[x_p]\n",
    "\n",
    "f_ax.plot(t[peak_starts_inwin],f_sig[peak_starts_inwin],'or')\n",
    "f_ax.plot(t[peaks_inwin],f_sig[peaks_inwin],'or')\n",
    "\n",
    "\n",
    "f_ax.plot([t[x_s[0]],t[x_p[0]]],[y_s[0],y_s[0]],'k')\n",
    "f_ax.plot([t[x_p[0]],t[x_p[0]]],[y_s[0],y_p[0]],'k')\n",
    "\n",
    "f_ax.plot([t[x_s[1]],t[x_p[1]]],[y_s[1],y_s[1]],'k')\n",
    "f_ax.plot([t[x_p[1]],t[x_p[1]]],[y_s[1],y_p[1]],'k')\n",
    "\n",
    "\n",
    "#for p in peaks_inwin:\n",
    "#    peak_t=t[p]-2\n",
    "#    peak_f=f_sig[p]\n",
    "#    peak_s=s_sig[p]\n",
    "\n",
    "#    f_ax.plot(peak_t,peak_f,'ro')\n",
    "#    s_ax.plot(peak_t,peak_s,'bo')\n",
    "    \n",
    "#    f_trans = f_ax.transData\n",
    "#    s_trans = s_ax.transata.inverted()\n",
    "#    trans = s_trans+f_trans\n",
    "#    f_point=f_trans.transform((peak_t,peak_f))\n",
    "#    s_point=s_trans.transform((f_point[0],f_point[1]))\n",
    "\n",
    "#    s_ax.plot([peak_t,peak_t],[peak_s, s_point[1]],'k')\n",
    "\n",
    "ins_start = peak_starts_inwin[1]-300\n",
    "ins_stop = peak_starts_inwin[1]+500\n",
    "f_ins_ax = zoomed_inset_axes(f_ax, 1.5, loc=1)  # zoom = 6\n",
    "f_ins_ax.step(t[ins_start:ins_stop],f_sig[ins_start:ins_stop],'r')\n",
    "f_ins_ax.set_ylim(60,180)\n",
    "f_ins_ax.set_xlim(t[ins_start],t[ins_stop])\n",
    "f_ins_ax.set_yticks([])\n",
    "f_ins_ax.set_xticks([])\n",
    "\n",
    "low_mask = np.logical_and(cfd_low >= start, cfd_low <= stop)\n",
    "low_inwin = cfd_low[low_mask]\n",
    "high_mask = np.logical_and(cfd_high >= start, cfd_high <= stop)\n",
    "high_inwin = cfd_high[high_mask]\n",
    "thresh_mask = np.logical_and(slope_xing >= start, slope_xing <= stop)\n",
    "thresh_inwin = slope_xing[thresh_mask]\n",
    "\n",
    "f_ins_ax.plot(t[peak_starts_inwin],f_sig[peak_starts_inwin],'or')\n",
    "f_ins_ax.plot(t[peaks_inwin],f_sig[peaks_inwin],'or')\n",
    "\n",
    "f_ins_ax.plot(t[low_inwin],f_sig[low_inwin],'ok')\n",
    "f_ins_ax.plot(t[high_inwin],f_sig[high_inwin],'ok')\n",
    "f_ax.plot(t[low_inwin],f_sig[low_inwin],'ok')\n",
    "f_ax.plot(t[high_inwin],f_sig[high_inwin],'ok')\n",
    "#f_ax.plot(t[thresh_inwin],f_sig[thresh_inwin],'ow')\n",
    "f_ins_ax.plot(t[thresh_inwin],f_sig[thresh_inwin],'ow')\n",
    "\n",
    "\n",
    "f_ins_ax.plot([t[x_s[0]],t[x_p[0]]],[y_s[0],y_s[0]],'k')\n",
    "f_ins_ax.plot([t[x_p[0]],t[x_p[0]]],[y_s[0],y_p[0]],'k')\n",
    "\n",
    "f_ins_ax.plot([t[x_s[1]],t[x_p[1]]],[y_s[1],y_s[1]],'k')\n",
    "f_ins_ax.plot([t[x_p[1]],t[x_p[1]]],[y_s[1],y_p[1]],'k')\n",
    "\n",
    "#f_ins_ax.plot([t[ins_start],t[ins_stop]],[0,0],'k') # zero line\n",
    "\n",
    "#plt.xticks(visible=False)\n",
    "#plt.yticks(visible=False)\n",
    "#mark_inset(f_ax, f_ins_ax, loc1=2, loc2=4, fc=\"none\", ec=\"0.5\")\n",
    "\n",
    "pstart = peak_starts_inwin[1]\n",
    "peak_start_t=t[pstart]-2\n",
    "peak_start_f=f_sig[pstart]\n",
    "peak_start_s=s_sig[pstart]\n",
    "\n",
    "f_ins_ax.plot(peak_start_t,peak_start_f,'ro')\n",
    "\n",
    "\n",
    "f_trans = f_ins_ax.transData\n",
    "s_trans = s_ins_ax.transData.inverted()\n",
    "trans = s_trans+f_trans\n",
    "f_point=f_trans.transform((peak_start_t,peak_start_f))\n",
    "s_point=s_trans.transform((f_point[0],f_point[1]))\n",
    "\n",
    "s_ins_ax.plot([peak_start_t,peak_start_t],[peak_start_s, s_point[1]],'k')\n",
    "\n",
    "s_ax.plot([t[start],t[stop]],[s_threshold,s_threshold],ls='dashed')\n",
    "\n",
    "fig.savefig('measurement2.png')\n",
    "plt.draw()\n",
    "plt.show()"
   ]
  },
  {
   "cell_type": "code",
   "execution_count": null,
   "metadata": {
    "collapsed": false
   },
   "outputs": [],
   "source": [
    "from mpl_toolkits.axes_grid1.inset_locator import inset_axes\n",
    "\n",
    "fig=plt.figure()\n",
    "fig.suptitle('Multi Channel Analyser',fontsize=24)\n",
    "\n",
    "h_ax = host_subplot(111)\n",
    "\n",
    "h_ins_ax = inset_axes(h_ax, width=\"80%\",height=1., loc=1)  # zoom = 6\n",
    "h_ins_ax.set_xlim(-25,160)\n",
    "h_ins_ax.set_ylim(0,0.002)\n",
    "h_ax.hist((traces['input']+200)*2*mV,math.pow(2,14),normed=1,facecolor='k',edgecolor='k')\n",
    "h_ax.hist(f_sig,math.pow(2,14),normed=1,facecolor='r',edgecolor='r')\n",
    "h_ins_ax.hist(f_sig,math.pow(2,14),normed=1,facecolor='r',edgecolor='r')\n",
    "h_ins_ax.set_xticks([])\n",
    "h_ins_ax.set_yticks([])\n",
    "h_ax.set_xlim(-30,100)\n",
    "h_ax.set_ylim(0,0.8)\n",
    "\n",
    "mark_inset(h_ax, h_ins_ax, loc1=2, loc2=4, fc=\"none\", ec=\"0.5\")\n",
    "\n",
    "h_ax.set_xlabel('Voltage (mV)')\n",
    "h_ax.set_ylabel('Probability')\n",
    "fig.savefig('hist.png')\n",
    "plt.show()"
   ]
  },
  {
   "cell_type": "code",
   "execution_count": null,
   "metadata": {
    "collapsed": true
   },
   "outputs": [],
   "source": [
    "peak_dt=np.dtype([('time',np.uint16),('flags',np.uint16),('minima',np.uint16),('height',np.uint16)])"
   ]
  },
  {
   "cell_type": "code",
   "execution_count": null,
   "metadata": {
    "collapsed": true
   },
   "outputs": [],
   "source": [
    "area_dt=np.dtype([('time',np.uint16),('flags',np.uint16),('area',np.uint32)])"
   ]
  },
  {
   "cell_type": "code",
   "execution_count": null,
   "metadata": {
    "collapsed": true
   },
   "outputs": [],
   "source": [
    "pulse_peak_dt=np.dtype([('trigger',np.uint16),('rise',np.uint16),('minima',np.uint16),('height',np.uint16)])\n",
    "pulse_header_dt=np.dtype([('time',np.uint16),('flags',np.uint16),('res1',np.uint16),('size',np.uint16),\n",
    "                    ('length',np.uint16),('res2',np.uint16),('area',np.int32)])"
   ]
  },
  {
   "cell_type": "code",
   "execution_count": null,
   "metadata": {
    "collapsed": false
   },
   "outputs": [],
   "source": [
    "pulse2_dt=np.dtype([('time',np.uint16),('flags',np.uint16),('res1',np.uint16),('size',np.uint16),\n",
    "                    ('length',np.uint16),('res2',np.uint16),('area',np.int32),\n",
    "                    ('trigger0',np.uint16),('rise0',np.uint16),('minima0',np.uint16),('height0',np.uint16),\n",
    "                    ('trigger1',np.uint16),('rise1',np.uint16),('minima1',np.uint16),('height1',np.uint16)])"
   ]
  },
  {
   "cell_type": "code",
   "execution_count": null,
   "metadata": {
    "collapsed": false
   },
   "outputs": [],
   "source": [
    "pulse2_subarray_dt=np.dtype([('header',pulse_header_dt,('peaks', (pulse_peak_dt,(1,2)) ))])"
   ]
  },
  {
   "cell_type": "code",
   "execution_count": null,
   "metadata": {
    "collapsed": true
   },
   "outputs": [],
   "source": [
    "eventstream=np.fromfile(path+'eventstream',peak_dt)"
   ]
  },
  {
   "cell_type": "code",
   "execution_count": null,
   "metadata": {
    "collapsed": true
   },
   "outputs": [],
   "source": [
    "eventstream=np.fromfile(path+'eventstream',area_dt)"
   ]
  },
  {
   "cell_type": "code",
   "execution_count": null,
   "metadata": {
    "collapsed": true
   },
   "outputs": [],
   "source": [
    "eventstream=np.fromfile(path+'eventstream',pulse2_dt)"
   ]
  },
  {
   "cell_type": "code",
   "execution_count": null,
   "metadata": {
    "collapsed": false
   },
   "outputs": [],
   "source": [
    "eventstream"
   ]
  },
  {
   "cell_type": "code",
   "execution_count": null,
   "metadata": {
    "collapsed": false
   },
   "outputs": [],
   "source": [
    "flags=eventstream['flags']\n",
    "print(np.binary_repr(flags[0],16))"
   ]
  },
  {
   "cell_type": "code",
   "execution_count": null,
   "metadata": {
    "collapsed": false
   },
   "outputs": [],
   "source": [
    "print(\"flags:{:016b}\\nsize:{}\\nlength:{}\\narea:{}\\ntrigger:{} rise:{} minima:{} height:{}\\ntrigger:{} rise:{} minima:{} height:{}\\n\"  \n",
    "      .format(eventstream['flags'][0],eventstream['size'][0],eventstream['length'][0],eventstream['area'][0],\n",
    "        eventstream['trigger0'][0],eventstream['rise0'][0],eventstream['minima0'][0],eventstream['height0'][0],\n",
    "        eventstream['trigger1'][0],eventstream['rise1'][0],eventstream['minima1'][0],eventstream['height1'][0]))"
   ]
  },
  {
   "cell_type": "code",
   "execution_count": null,
   "metadata": {
    "collapsed": false
   },
   "outputs": [],
   "source": [
    "print(np.binary_repr(flags[1],16))"
   ]
  },
  {
   "cell_type": "code",
   "execution_count": null,
   "metadata": {
    "collapsed": true
   },
   "outputs": [],
   "source": [
    "rel_to_min=np.right_shift(np.bitwise_and(flags,0x8000),15).astype(np.bool)\n",
    "channel=np.right_shift(np.bitwise_and(flags,0x0F00),8).astype(np.uint8)\n",
    "threshold_rel2min=np.right_shift(np.bitwise_and(flags,0x4000),14).astype(np.bool)\n",
    "peak_count=np.right_shift(np.bitwise_and(flags,0x00F0),4).astype(np.uint8)\n",
    "tick=np.bitwise_and(flags,0x0001).astype(bool)\n",
    "area=np.right_shift(np.bitwise_and(flags,0x0002),1).astype(np.bool)\n",
    "trace=np.right_shift(np.bitwise_and(flags,0x0004),2).astype(np.bool)\n",
    "fixed=np.right_shift(np.bitwise_and(flags,0x0008),3).astype(np.bool)\n",
    "event_type=np.right_shift(np.bitwise_and(flags,0x3000),12).astype(np.uint8)"
   ]
  },
  {
   "cell_type": "code",
   "execution_count": null,
   "metadata": {
    "collapsed": false
   },
   "outputs": [],
   "source": [
    "flags"
   ]
  },
  {
   "cell_type": "code",
   "execution_count": null,
   "metadata": {
    "collapsed": false
   },
   "outputs": [],
   "source": [
    "eventstream"
   ]
  },
  {
   "cell_type": "code",
   "execution_count": null,
   "metadata": {
    "collapsed": true
   },
   "outputs": [],
   "source": []
  },
  {
   "cell_type": "code",
   "execution_count": null,
   "metadata": {
    "collapsed": true
   },
   "outputs": [],
   "source": []
  }
 ],
 "metadata": {
  "kernelspec": {
   "display_name": "Python 3",
   "language": "python",
   "name": "python3"
  },
  "language_info": {
   "codemirror_mode": {
    "name": "ipython",
    "version": 3
   },
   "file_extension": ".py",
   "mimetype": "text/x-python",
   "name": "python",
   "nbconvert_exporter": "python",
   "pygments_lexer": "ipython3",
   "version": "3.5.1"
  }
 },
 "nbformat": 4,
 "nbformat_minor": 0
}
