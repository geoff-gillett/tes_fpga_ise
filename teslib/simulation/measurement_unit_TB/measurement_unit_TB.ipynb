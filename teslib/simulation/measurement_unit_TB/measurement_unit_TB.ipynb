{
 "cells": [
  {
   "cell_type": "code",
   "execution_count": 236,
   "metadata": {
    "collapsed": false,
    "scrolled": false
   },
   "outputs": [
    {
     "data": {
      "application/javascript": [
       "/* Put everything inside the global mpl namespace */\n",
       "window.mpl = {};\n",
       "\n",
       "mpl.get_websocket_type = function() {\n",
       "    if (typeof(WebSocket) !== 'undefined') {\n",
       "        return WebSocket;\n",
       "    } else if (typeof(MozWebSocket) !== 'undefined') {\n",
       "        return MozWebSocket;\n",
       "    } else {\n",
       "        alert('Your browser does not have WebSocket support.' +\n",
       "              'Please try Chrome, Safari or Firefox ≥ 6. ' +\n",
       "              'Firefox 4 and 5 are also supported but you ' +\n",
       "              'have to enable WebSockets in about:config.');\n",
       "    };\n",
       "}\n",
       "\n",
       "mpl.figure = function(figure_id, websocket, ondownload, parent_element) {\n",
       "    this.id = figure_id;\n",
       "\n",
       "    this.ws = websocket;\n",
       "\n",
       "    this.supports_binary = (this.ws.binaryType != undefined);\n",
       "\n",
       "    if (!this.supports_binary) {\n",
       "        var warnings = document.getElementById(\"mpl-warnings\");\n",
       "        if (warnings) {\n",
       "            warnings.style.display = 'block';\n",
       "            warnings.textContent = (\n",
       "                \"This browser does not support binary websocket messages. \" +\n",
       "                    \"Performance may be slow.\");\n",
       "        }\n",
       "    }\n",
       "\n",
       "    this.imageObj = new Image();\n",
       "\n",
       "    this.context = undefined;\n",
       "    this.message = undefined;\n",
       "    this.canvas = undefined;\n",
       "    this.rubberband_canvas = undefined;\n",
       "    this.rubberband_context = undefined;\n",
       "    this.format_dropdown = undefined;\n",
       "\n",
       "    this.image_mode = 'full';\n",
       "\n",
       "    this.root = $('<div/>');\n",
       "    this._root_extra_style(this.root)\n",
       "    this.root.attr('style', 'display: inline-block');\n",
       "\n",
       "    $(parent_element).append(this.root);\n",
       "\n",
       "    this._init_header(this);\n",
       "    this._init_canvas(this);\n",
       "    this._init_toolbar(this);\n",
       "\n",
       "    var fig = this;\n",
       "\n",
       "    this.waiting = false;\n",
       "\n",
       "    this.ws.onopen =  function () {\n",
       "            fig.send_message(\"supports_binary\", {value: fig.supports_binary});\n",
       "            fig.send_message(\"send_image_mode\", {});\n",
       "            fig.send_message(\"refresh\", {});\n",
       "        }\n",
       "\n",
       "    this.imageObj.onload = function() {\n",
       "            if (fig.image_mode == 'full') {\n",
       "                // Full images could contain transparency (where diff images\n",
       "                // almost always do), so we need to clear the canvas so that\n",
       "                // there is no ghosting.\n",
       "                fig.context.clearRect(0, 0, fig.canvas.width, fig.canvas.height);\n",
       "            }\n",
       "            fig.context.drawImage(fig.imageObj, 0, 0);\n",
       "        };\n",
       "\n",
       "    this.imageObj.onunload = function() {\n",
       "        this.ws.close();\n",
       "    }\n",
       "\n",
       "    this.ws.onmessage = this._make_on_message_function(this);\n",
       "\n",
       "    this.ondownload = ondownload;\n",
       "}\n",
       "\n",
       "mpl.figure.prototype._init_header = function() {\n",
       "    var titlebar = $(\n",
       "        '<div class=\"ui-dialog-titlebar ui-widget-header ui-corner-all ' +\n",
       "        'ui-helper-clearfix\"/>');\n",
       "    var titletext = $(\n",
       "        '<div class=\"ui-dialog-title\" style=\"width: 100%; ' +\n",
       "        'text-align: center; padding: 3px;\"/>');\n",
       "    titlebar.append(titletext)\n",
       "    this.root.append(titlebar);\n",
       "    this.header = titletext[0];\n",
       "}\n",
       "\n",
       "\n",
       "\n",
       "mpl.figure.prototype._canvas_extra_style = function(canvas_div) {\n",
       "\n",
       "}\n",
       "\n",
       "\n",
       "mpl.figure.prototype._root_extra_style = function(canvas_div) {\n",
       "\n",
       "}\n",
       "\n",
       "mpl.figure.prototype._init_canvas = function() {\n",
       "    var fig = this;\n",
       "\n",
       "    var canvas_div = $('<div/>');\n",
       "\n",
       "    canvas_div.attr('style', 'position: relative; clear: both; outline: 0');\n",
       "\n",
       "    function canvas_keyboard_event(event) {\n",
       "        return fig.key_event(event, event['data']);\n",
       "    }\n",
       "\n",
       "    canvas_div.keydown('key_press', canvas_keyboard_event);\n",
       "    canvas_div.keyup('key_release', canvas_keyboard_event);\n",
       "    this.canvas_div = canvas_div\n",
       "    this._canvas_extra_style(canvas_div)\n",
       "    this.root.append(canvas_div);\n",
       "\n",
       "    var canvas = $('<canvas/>');\n",
       "    canvas.addClass('mpl-canvas');\n",
       "    canvas.attr('style', \"left: 0; top: 0; z-index: 0; outline: 0\")\n",
       "\n",
       "    this.canvas = canvas[0];\n",
       "    this.context = canvas[0].getContext(\"2d\");\n",
       "\n",
       "    var rubberband = $('<canvas/>');\n",
       "    rubberband.attr('style', \"position: absolute; left: 0; top: 0; z-index: 1;\")\n",
       "\n",
       "    var pass_mouse_events = true;\n",
       "\n",
       "    canvas_div.resizable({\n",
       "        start: function(event, ui) {\n",
       "            pass_mouse_events = false;\n",
       "        },\n",
       "        resize: function(event, ui) {\n",
       "            fig.request_resize(ui.size.width, ui.size.height);\n",
       "        },\n",
       "        stop: function(event, ui) {\n",
       "            pass_mouse_events = true;\n",
       "            fig.request_resize(ui.size.width, ui.size.height);\n",
       "        },\n",
       "    });\n",
       "\n",
       "    function mouse_event_fn(event) {\n",
       "        if (pass_mouse_events)\n",
       "            return fig.mouse_event(event, event['data']);\n",
       "    }\n",
       "\n",
       "    rubberband.mousedown('button_press', mouse_event_fn);\n",
       "    rubberband.mouseup('button_release', mouse_event_fn);\n",
       "    // Throttle sequential mouse events to 1 every 20ms.\n",
       "    rubberband.mousemove('motion_notify', mouse_event_fn);\n",
       "\n",
       "    rubberband.mouseenter('figure_enter', mouse_event_fn);\n",
       "    rubberband.mouseleave('figure_leave', mouse_event_fn);\n",
       "\n",
       "    canvas_div.on(\"wheel\", function (event) {\n",
       "        event = event.originalEvent;\n",
       "        event['data'] = 'scroll'\n",
       "        if (event.deltaY < 0) {\n",
       "            event.step = 1;\n",
       "        } else {\n",
       "            event.step = -1;\n",
       "        }\n",
       "        mouse_event_fn(event);\n",
       "    });\n",
       "\n",
       "    canvas_div.append(canvas);\n",
       "    canvas_div.append(rubberband);\n",
       "\n",
       "    this.rubberband = rubberband;\n",
       "    this.rubberband_canvas = rubberband[0];\n",
       "    this.rubberband_context = rubberband[0].getContext(\"2d\");\n",
       "    this.rubberband_context.strokeStyle = \"#000000\";\n",
       "\n",
       "    this._resize_canvas = function(width, height) {\n",
       "        // Keep the size of the canvas, canvas container, and rubber band\n",
       "        // canvas in synch.\n",
       "        canvas_div.css('width', width)\n",
       "        canvas_div.css('height', height)\n",
       "\n",
       "        canvas.attr('width', width);\n",
       "        canvas.attr('height', height);\n",
       "\n",
       "        rubberband.attr('width', width);\n",
       "        rubberband.attr('height', height);\n",
       "    }\n",
       "\n",
       "    // Set the figure to an initial 600x600px, this will subsequently be updated\n",
       "    // upon first draw.\n",
       "    this._resize_canvas(600, 600);\n",
       "\n",
       "    // Disable right mouse context menu.\n",
       "    $(this.rubberband_canvas).bind(\"contextmenu\",function(e){\n",
       "        return false;\n",
       "    });\n",
       "\n",
       "    function set_focus () {\n",
       "        canvas.focus();\n",
       "        canvas_div.focus();\n",
       "    }\n",
       "\n",
       "    window.setTimeout(set_focus, 100);\n",
       "}\n",
       "\n",
       "mpl.figure.prototype._init_toolbar = function() {\n",
       "    var fig = this;\n",
       "\n",
       "    var nav_element = $('<div/>')\n",
       "    nav_element.attr('style', 'width: 100%');\n",
       "    this.root.append(nav_element);\n",
       "\n",
       "    // Define a callback function for later on.\n",
       "    function toolbar_event(event) {\n",
       "        return fig.toolbar_button_onclick(event['data']);\n",
       "    }\n",
       "    function toolbar_mouse_event(event) {\n",
       "        return fig.toolbar_button_onmouseover(event['data']);\n",
       "    }\n",
       "\n",
       "    for(var toolbar_ind in mpl.toolbar_items) {\n",
       "        var name = mpl.toolbar_items[toolbar_ind][0];\n",
       "        var tooltip = mpl.toolbar_items[toolbar_ind][1];\n",
       "        var image = mpl.toolbar_items[toolbar_ind][2];\n",
       "        var method_name = mpl.toolbar_items[toolbar_ind][3];\n",
       "\n",
       "        if (!name) {\n",
       "            // put a spacer in here.\n",
       "            continue;\n",
       "        }\n",
       "        var button = $('<button/>');\n",
       "        button.addClass('ui-button ui-widget ui-state-default ui-corner-all ' +\n",
       "                        'ui-button-icon-only');\n",
       "        button.attr('role', 'button');\n",
       "        button.attr('aria-disabled', 'false');\n",
       "        button.click(method_name, toolbar_event);\n",
       "        button.mouseover(tooltip, toolbar_mouse_event);\n",
       "\n",
       "        var icon_img = $('<span/>');\n",
       "        icon_img.addClass('ui-button-icon-primary ui-icon');\n",
       "        icon_img.addClass(image);\n",
       "        icon_img.addClass('ui-corner-all');\n",
       "\n",
       "        var tooltip_span = $('<span/>');\n",
       "        tooltip_span.addClass('ui-button-text');\n",
       "        tooltip_span.html(tooltip);\n",
       "\n",
       "        button.append(icon_img);\n",
       "        button.append(tooltip_span);\n",
       "\n",
       "        nav_element.append(button);\n",
       "    }\n",
       "\n",
       "    var fmt_picker_span = $('<span/>');\n",
       "\n",
       "    var fmt_picker = $('<select/>');\n",
       "    fmt_picker.addClass('mpl-toolbar-option ui-widget ui-widget-content');\n",
       "    fmt_picker_span.append(fmt_picker);\n",
       "    nav_element.append(fmt_picker_span);\n",
       "    this.format_dropdown = fmt_picker[0];\n",
       "\n",
       "    for (var ind in mpl.extensions) {\n",
       "        var fmt = mpl.extensions[ind];\n",
       "        var option = $(\n",
       "            '<option/>', {selected: fmt === mpl.default_extension}).html(fmt);\n",
       "        fmt_picker.append(option)\n",
       "    }\n",
       "\n",
       "    // Add hover states to the ui-buttons\n",
       "    $( \".ui-button\" ).hover(\n",
       "        function() { $(this).addClass(\"ui-state-hover\");},\n",
       "        function() { $(this).removeClass(\"ui-state-hover\");}\n",
       "    );\n",
       "\n",
       "    var status_bar = $('<span class=\"mpl-message\"/>');\n",
       "    nav_element.append(status_bar);\n",
       "    this.message = status_bar[0];\n",
       "}\n",
       "\n",
       "mpl.figure.prototype.request_resize = function(x_pixels, y_pixels) {\n",
       "    // Request matplotlib to resize the figure. Matplotlib will then trigger a resize in the client,\n",
       "    // which will in turn request a refresh of the image.\n",
       "    this.send_message('resize', {'width': x_pixels, 'height': y_pixels});\n",
       "}\n",
       "\n",
       "mpl.figure.prototype.send_message = function(type, properties) {\n",
       "    properties['type'] = type;\n",
       "    properties['figure_id'] = this.id;\n",
       "    this.ws.send(JSON.stringify(properties));\n",
       "}\n",
       "\n",
       "mpl.figure.prototype.send_draw_message = function() {\n",
       "    if (!this.waiting) {\n",
       "        this.waiting = true;\n",
       "        this.ws.send(JSON.stringify({type: \"draw\", figure_id: this.id}));\n",
       "    }\n",
       "}\n",
       "\n",
       "\n",
       "mpl.figure.prototype.handle_save = function(fig, msg) {\n",
       "    var format_dropdown = fig.format_dropdown;\n",
       "    var format = format_dropdown.options[format_dropdown.selectedIndex].value;\n",
       "    fig.ondownload(fig, format);\n",
       "}\n",
       "\n",
       "\n",
       "mpl.figure.prototype.handle_resize = function(fig, msg) {\n",
       "    var size = msg['size'];\n",
       "    if (size[0] != fig.canvas.width || size[1] != fig.canvas.height) {\n",
       "        fig._resize_canvas(size[0], size[1]);\n",
       "        fig.send_message(\"refresh\", {});\n",
       "    };\n",
       "}\n",
       "\n",
       "mpl.figure.prototype.handle_rubberband = function(fig, msg) {\n",
       "    var x0 = msg['x0'];\n",
       "    var y0 = fig.canvas.height - msg['y0'];\n",
       "    var x1 = msg['x1'];\n",
       "    var y1 = fig.canvas.height - msg['y1'];\n",
       "    x0 = Math.floor(x0) + 0.5;\n",
       "    y0 = Math.floor(y0) + 0.5;\n",
       "    x1 = Math.floor(x1) + 0.5;\n",
       "    y1 = Math.floor(y1) + 0.5;\n",
       "    var min_x = Math.min(x0, x1);\n",
       "    var min_y = Math.min(y0, y1);\n",
       "    var width = Math.abs(x1 - x0);\n",
       "    var height = Math.abs(y1 - y0);\n",
       "\n",
       "    fig.rubberband_context.clearRect(\n",
       "        0, 0, fig.canvas.width, fig.canvas.height);\n",
       "\n",
       "    fig.rubberband_context.strokeRect(min_x, min_y, width, height);\n",
       "}\n",
       "\n",
       "mpl.figure.prototype.handle_figure_label = function(fig, msg) {\n",
       "    // Updates the figure title.\n",
       "    fig.header.textContent = msg['label'];\n",
       "}\n",
       "\n",
       "mpl.figure.prototype.handle_cursor = function(fig, msg) {\n",
       "    var cursor = msg['cursor'];\n",
       "    switch(cursor)\n",
       "    {\n",
       "    case 0:\n",
       "        cursor = 'pointer';\n",
       "        break;\n",
       "    case 1:\n",
       "        cursor = 'default';\n",
       "        break;\n",
       "    case 2:\n",
       "        cursor = 'crosshair';\n",
       "        break;\n",
       "    case 3:\n",
       "        cursor = 'move';\n",
       "        break;\n",
       "    }\n",
       "    fig.rubberband_canvas.style.cursor = cursor;\n",
       "}\n",
       "\n",
       "mpl.figure.prototype.handle_message = function(fig, msg) {\n",
       "    fig.message.textContent = msg['message'];\n",
       "}\n",
       "\n",
       "mpl.figure.prototype.handle_draw = function(fig, msg) {\n",
       "    // Request the server to send over a new figure.\n",
       "    fig.send_draw_message();\n",
       "}\n",
       "\n",
       "mpl.figure.prototype.handle_image_mode = function(fig, msg) {\n",
       "    fig.image_mode = msg['mode'];\n",
       "}\n",
       "\n",
       "mpl.figure.prototype.updated_canvas_event = function() {\n",
       "    // Called whenever the canvas gets updated.\n",
       "    this.send_message(\"ack\", {});\n",
       "}\n",
       "\n",
       "// A function to construct a web socket function for onmessage handling.\n",
       "// Called in the figure constructor.\n",
       "mpl.figure.prototype._make_on_message_function = function(fig) {\n",
       "    return function socket_on_message(evt) {\n",
       "        if (evt.data instanceof Blob) {\n",
       "            /* FIXME: We get \"Resource interpreted as Image but\n",
       "             * transferred with MIME type text/plain:\" errors on\n",
       "             * Chrome.  But how to set the MIME type?  It doesn't seem\n",
       "             * to be part of the websocket stream */\n",
       "            evt.data.type = \"image/png\";\n",
       "\n",
       "            /* Free the memory for the previous frames */\n",
       "            if (fig.imageObj.src) {\n",
       "                (window.URL || window.webkitURL).revokeObjectURL(\n",
       "                    fig.imageObj.src);\n",
       "            }\n",
       "\n",
       "            fig.imageObj.src = (window.URL || window.webkitURL).createObjectURL(\n",
       "                evt.data);\n",
       "            fig.updated_canvas_event();\n",
       "            fig.waiting = false;\n",
       "            return;\n",
       "        }\n",
       "        else if (typeof evt.data === 'string' && evt.data.slice(0, 21) == \"data:image/png;base64\") {\n",
       "            fig.imageObj.src = evt.data;\n",
       "            fig.updated_canvas_event();\n",
       "            fig.waiting = false;\n",
       "            return;\n",
       "        }\n",
       "\n",
       "        var msg = JSON.parse(evt.data);\n",
       "        var msg_type = msg['type'];\n",
       "\n",
       "        // Call the  \"handle_{type}\" callback, which takes\n",
       "        // the figure and JSON message as its only arguments.\n",
       "        try {\n",
       "            var callback = fig[\"handle_\" + msg_type];\n",
       "        } catch (e) {\n",
       "            console.log(\"No handler for the '\" + msg_type + \"' message type: \", msg);\n",
       "            return;\n",
       "        }\n",
       "\n",
       "        if (callback) {\n",
       "            try {\n",
       "                // console.log(\"Handling '\" + msg_type + \"' message: \", msg);\n",
       "                callback(fig, msg);\n",
       "            } catch (e) {\n",
       "                console.log(\"Exception inside the 'handler_\" + msg_type + \"' callback:\", e, e.stack, msg);\n",
       "            }\n",
       "        }\n",
       "    };\n",
       "}\n",
       "\n",
       "// from http://stackoverflow.com/questions/1114465/getting-mouse-location-in-canvas\n",
       "mpl.findpos = function(e) {\n",
       "    //this section is from http://www.quirksmode.org/js/events_properties.html\n",
       "    var targ;\n",
       "    if (!e)\n",
       "        e = window.event;\n",
       "    if (e.target)\n",
       "        targ = e.target;\n",
       "    else if (e.srcElement)\n",
       "        targ = e.srcElement;\n",
       "    if (targ.nodeType == 3) // defeat Safari bug\n",
       "        targ = targ.parentNode;\n",
       "\n",
       "    // jQuery normalizes the pageX and pageY\n",
       "    // pageX,Y are the mouse positions relative to the document\n",
       "    // offset() returns the position of the element relative to the document\n",
       "    var x = e.pageX - $(targ).offset().left;\n",
       "    var y = e.pageY - $(targ).offset().top;\n",
       "\n",
       "    return {\"x\": x, \"y\": y};\n",
       "};\n",
       "\n",
       "/*\n",
       " * return a copy of an object with only non-object keys\n",
       " * we need this to avoid circular references\n",
       " * http://stackoverflow.com/a/24161582/3208463\n",
       " */\n",
       "function simpleKeys (original) {\n",
       "  return Object.keys(original).reduce(function (obj, key) {\n",
       "    if (typeof original[key] !== 'object')\n",
       "        obj[key] = original[key]\n",
       "    return obj;\n",
       "  }, {});\n",
       "}\n",
       "\n",
       "mpl.figure.prototype.mouse_event = function(event, name) {\n",
       "    var canvas_pos = mpl.findpos(event)\n",
       "\n",
       "    if (name === 'button_press')\n",
       "    {\n",
       "        this.canvas.focus();\n",
       "        this.canvas_div.focus();\n",
       "    }\n",
       "\n",
       "    var x = canvas_pos.x;\n",
       "    var y = canvas_pos.y;\n",
       "\n",
       "    this.send_message(name, {x: x, y: y, button: event.button,\n",
       "                             step: event.step,\n",
       "                             guiEvent: simpleKeys(event)});\n",
       "\n",
       "    /* This prevents the web browser from automatically changing to\n",
       "     * the text insertion cursor when the button is pressed.  We want\n",
       "     * to control all of the cursor setting manually through the\n",
       "     * 'cursor' event from matplotlib */\n",
       "    event.preventDefault();\n",
       "    return false;\n",
       "}\n",
       "\n",
       "mpl.figure.prototype._key_event_extra = function(event, name) {\n",
       "    // Handle any extra behaviour associated with a key event\n",
       "}\n",
       "\n",
       "mpl.figure.prototype.key_event = function(event, name) {\n",
       "\n",
       "    // Prevent repeat events\n",
       "    if (name == 'key_press')\n",
       "    {\n",
       "        if (event.which === this._key)\n",
       "            return;\n",
       "        else\n",
       "            this._key = event.which;\n",
       "    }\n",
       "    if (name == 'key_release')\n",
       "        this._key = null;\n",
       "\n",
       "    var value = '';\n",
       "    if (event.ctrlKey && event.which != 17)\n",
       "        value += \"ctrl+\";\n",
       "    if (event.altKey && event.which != 18)\n",
       "        value += \"alt+\";\n",
       "    if (event.shiftKey && event.which != 16)\n",
       "        value += \"shift+\";\n",
       "\n",
       "    value += 'k';\n",
       "    value += event.which.toString();\n",
       "\n",
       "    this._key_event_extra(event, name);\n",
       "\n",
       "    this.send_message(name, {key: value,\n",
       "                             guiEvent: simpleKeys(event)});\n",
       "    return false;\n",
       "}\n",
       "\n",
       "mpl.figure.prototype.toolbar_button_onclick = function(name) {\n",
       "    if (name == 'download') {\n",
       "        this.handle_save(this, null);\n",
       "    } else {\n",
       "        this.send_message(\"toolbar_button\", {name: name});\n",
       "    }\n",
       "};\n",
       "\n",
       "mpl.figure.prototype.toolbar_button_onmouseover = function(tooltip) {\n",
       "    this.message.textContent = tooltip;\n",
       "};\n",
       "mpl.toolbar_items = [[\"Home\", \"Reset original view\", \"fa fa-home icon-home\", \"home\"], [\"Back\", \"Back to  previous view\", \"fa fa-arrow-left icon-arrow-left\", \"back\"], [\"Forward\", \"Forward to next view\", \"fa fa-arrow-right icon-arrow-right\", \"forward\"], [\"\", \"\", \"\", \"\"], [\"Pan\", \"Pan axes with left mouse, zoom with right\", \"fa fa-arrows icon-move\", \"pan\"], [\"Zoom\", \"Zoom to rectangle\", \"fa fa-square-o icon-check-empty\", \"zoom\"], [\"\", \"\", \"\", \"\"], [\"Download\", \"Download plot\", \"fa fa-floppy-o icon-save\", \"download\"]];\n",
       "\n",
       "mpl.extensions = [\"eps\", \"jpeg\", \"pdf\", \"png\", \"ps\", \"raw\", \"svg\", \"tif\"];\n",
       "\n",
       "mpl.default_extension = \"png\";var comm_websocket_adapter = function(comm) {\n",
       "    // Create a \"websocket\"-like object which calls the given IPython comm\n",
       "    // object with the appropriate methods. Currently this is a non binary\n",
       "    // socket, so there is still some room for performance tuning.\n",
       "    var ws = {};\n",
       "\n",
       "    ws.close = function() {\n",
       "        comm.close()\n",
       "    };\n",
       "    ws.send = function(m) {\n",
       "        //console.log('sending', m);\n",
       "        comm.send(m);\n",
       "    };\n",
       "    // Register the callback with on_msg.\n",
       "    comm.on_msg(function(msg) {\n",
       "        //console.log('receiving', msg['content']['data'], msg);\n",
       "        // Pass the mpl event to the overriden (by mpl) onmessage function.\n",
       "        ws.onmessage(msg['content']['data'])\n",
       "    });\n",
       "    return ws;\n",
       "}\n",
       "\n",
       "mpl.mpl_figure_comm = function(comm, msg) {\n",
       "    // This is the function which gets called when the mpl process\n",
       "    // starts-up an IPython Comm through the \"matplotlib\" channel.\n",
       "\n",
       "    var id = msg.content.data.id;\n",
       "    // Get hold of the div created by the display call when the Comm\n",
       "    // socket was opened in Python.\n",
       "    var element = $(\"#\" + id);\n",
       "    var ws_proxy = comm_websocket_adapter(comm)\n",
       "\n",
       "    function ondownload(figure, format) {\n",
       "        window.open(figure.imageObj.src);\n",
       "    }\n",
       "\n",
       "    var fig = new mpl.figure(id, ws_proxy,\n",
       "                           ondownload,\n",
       "                           element.get(0));\n",
       "\n",
       "    // Call onopen now - mpl needs it, as it is assuming we've passed it a real\n",
       "    // web socket which is closed, not our websocket->open comm proxy.\n",
       "    ws_proxy.onopen();\n",
       "\n",
       "    fig.parent_element = element.get(0);\n",
       "    fig.cell_info = mpl.find_output_cell(\"<div id='\" + id + \"'></div>\");\n",
       "    if (!fig.cell_info) {\n",
       "        console.error(\"Failed to find cell for figure\", id, fig);\n",
       "        return;\n",
       "    }\n",
       "\n",
       "    var output_index = fig.cell_info[2]\n",
       "    var cell = fig.cell_info[0];\n",
       "\n",
       "};\n",
       "\n",
       "mpl.figure.prototype.handle_close = function(fig, msg) {\n",
       "    fig.root.unbind('remove')\n",
       "\n",
       "    // Update the output cell to use the data from the current canvas.\n",
       "    fig.push_to_output();\n",
       "    var dataURL = fig.canvas.toDataURL();\n",
       "    // Re-enable the keyboard manager in IPython - without this line, in FF,\n",
       "    // the notebook keyboard shortcuts fail.\n",
       "    IPython.keyboard_manager.enable()\n",
       "    $(fig.parent_element).html('<img src=\"' + dataURL + '\">');\n",
       "    fig.close_ws(fig, msg);\n",
       "}\n",
       "\n",
       "mpl.figure.prototype.close_ws = function(fig, msg){\n",
       "    fig.send_message('closing', msg);\n",
       "    // fig.ws.close()\n",
       "}\n",
       "\n",
       "mpl.figure.prototype.push_to_output = function(remove_interactive) {\n",
       "    // Turn the data on the canvas into data in the output cell.\n",
       "    var dataURL = this.canvas.toDataURL();\n",
       "    this.cell_info[1]['text/html'] = '<img src=\"' + dataURL + '\">';\n",
       "}\n",
       "\n",
       "mpl.figure.prototype.updated_canvas_event = function() {\n",
       "    // Tell IPython that the notebook contents must change.\n",
       "    IPython.notebook.set_dirty(true);\n",
       "    this.send_message(\"ack\", {});\n",
       "    var fig = this;\n",
       "    // Wait a second, then push the new image to the DOM so\n",
       "    // that it is saved nicely (might be nice to debounce this).\n",
       "    setTimeout(function () { fig.push_to_output() }, 1000);\n",
       "}\n",
       "\n",
       "mpl.figure.prototype._init_toolbar = function() {\n",
       "    var fig = this;\n",
       "\n",
       "    var nav_element = $('<div/>')\n",
       "    nav_element.attr('style', 'width: 100%');\n",
       "    this.root.append(nav_element);\n",
       "\n",
       "    // Define a callback function for later on.\n",
       "    function toolbar_event(event) {\n",
       "        return fig.toolbar_button_onclick(event['data']);\n",
       "    }\n",
       "    function toolbar_mouse_event(event) {\n",
       "        return fig.toolbar_button_onmouseover(event['data']);\n",
       "    }\n",
       "\n",
       "    for(var toolbar_ind in mpl.toolbar_items){\n",
       "        var name = mpl.toolbar_items[toolbar_ind][0];\n",
       "        var tooltip = mpl.toolbar_items[toolbar_ind][1];\n",
       "        var image = mpl.toolbar_items[toolbar_ind][2];\n",
       "        var method_name = mpl.toolbar_items[toolbar_ind][3];\n",
       "\n",
       "        if (!name) { continue; };\n",
       "\n",
       "        var button = $('<button class=\"btn btn-default\" href=\"#\" title=\"' + name + '\"><i class=\"fa ' + image + ' fa-lg\"></i></button>');\n",
       "        button.click(method_name, toolbar_event);\n",
       "        button.mouseover(tooltip, toolbar_mouse_event);\n",
       "        nav_element.append(button);\n",
       "    }\n",
       "\n",
       "    // Add the status bar.\n",
       "    var status_bar = $('<span class=\"mpl-message\" style=\"text-align:right; float: right;\"/>');\n",
       "    nav_element.append(status_bar);\n",
       "    this.message = status_bar[0];\n",
       "\n",
       "    // Add the close button to the window.\n",
       "    var buttongrp = $('<div class=\"btn-group inline pull-right\"></div>');\n",
       "    var button = $('<button class=\"btn btn-mini btn-primary\" href=\"#\" title=\"Stop Interaction\"><i class=\"fa fa-power-off icon-remove icon-large\"></i></button>');\n",
       "    button.click(function (evt) { fig.handle_close(fig, {}); } );\n",
       "    button.mouseover('Stop Interaction', toolbar_mouse_event);\n",
       "    buttongrp.append(button);\n",
       "    var titlebar = this.root.find($('.ui-dialog-titlebar'));\n",
       "    titlebar.prepend(buttongrp);\n",
       "}\n",
       "\n",
       "mpl.figure.prototype._root_extra_style = function(el){\n",
       "    var fig = this\n",
       "    el.on(\"remove\", function(){\n",
       "\tfig.close_ws(fig, {});\n",
       "    });\n",
       "}\n",
       "\n",
       "mpl.figure.prototype._canvas_extra_style = function(el){\n",
       "    // this is important to make the div 'focusable\n",
       "    el.attr('tabindex', 0)\n",
       "    // reach out to IPython and tell the keyboard manager to turn it's self\n",
       "    // off when our div gets focus\n",
       "\n",
       "    // location in version 3\n",
       "    if (IPython.notebook.keyboard_manager) {\n",
       "        IPython.notebook.keyboard_manager.register_events(el);\n",
       "    }\n",
       "    else {\n",
       "        // location in version 2\n",
       "        IPython.keyboard_manager.register_events(el);\n",
       "    }\n",
       "\n",
       "}\n",
       "\n",
       "mpl.figure.prototype._key_event_extra = function(event, name) {\n",
       "    var manager = IPython.notebook.keyboard_manager;\n",
       "    if (!manager)\n",
       "        manager = IPython.keyboard_manager;\n",
       "\n",
       "    // Check for shift+enter\n",
       "    if (event.shiftKey && event.which == 13) {\n",
       "        this.canvas_div.blur();\n",
       "        event.shiftKey = false;\n",
       "        // Send a \"J\" for go to next cell\n",
       "        event.which = 74;\n",
       "        event.keyCode = 74;\n",
       "        manager.command_mode();\n",
       "        manager.handle_keydown(event);\n",
       "    }\n",
       "}\n",
       "\n",
       "mpl.figure.prototype.handle_save = function(fig, msg) {\n",
       "    fig.ondownload(fig, null);\n",
       "}\n",
       "\n",
       "\n",
       "mpl.find_output_cell = function(html_output) {\n",
       "    // Return the cell and output element which can be found *uniquely* in the notebook.\n",
       "    // Note - this is a bit hacky, but it is done because the \"notebook_saving.Notebook\"\n",
       "    // IPython event is triggered only after the cells have been serialised, which for\n",
       "    // our purposes (turning an active figure into a static one), is too late.\n",
       "    var cells = IPython.notebook.get_cells();\n",
       "    var ncells = cells.length;\n",
       "    for (var i=0; i<ncells; i++) {\n",
       "        var cell = cells[i];\n",
       "        if (cell.cell_type === 'code'){\n",
       "            for (var j=0; j<cell.output_area.outputs.length; j++) {\n",
       "                var data = cell.output_area.outputs[j];\n",
       "                if (data.data) {\n",
       "                    // IPython >= 3 moved mimebundle to data attribute of output\n",
       "                    data = data.data;\n",
       "                }\n",
       "                if (data['text/html'] == html_output) {\n",
       "                    return [cell, data, j];\n",
       "                }\n",
       "            }\n",
       "        }\n",
       "    }\n",
       "}\n",
       "\n",
       "// Register the function which deals with the matplotlib target/channel.\n",
       "// The kernel may be null if the page has been refreshed.\n",
       "if (IPython.notebook.kernel != null) {\n",
       "    IPython.notebook.kernel.comm_manager.register_target('matplotlib', mpl.mpl_figure_comm);\n",
       "}\n"
      ],
      "text/plain": [
       "<IPython.core.display.Javascript object>"
      ]
     },
     "metadata": {},
     "output_type": "display_data"
    },
    {
     "data": {
      "text/html": [
       "<img src=\"data:image/png;base64,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\">"
      ],
      "text/plain": [
       "<IPython.core.display.HTML object>"
      ]
     },
     "metadata": {},
     "output_type": "display_data"
    },
    {
     "data": {
      "text/plain": [
       "peak count:0\n",
       "height_rel2min:False\n",
       "HeightType.peak_height\n",
       "TriggerType.pulse_threshold\n",
       "channel:0\n",
       "PayloadType.peak\n",
       "tick:False\n",
       "new_window:False"
      ]
     },
     "execution_count": 236,
     "metadata": {},
     "output_type": "execute_result"
    }
   ],
   "source": [
    "%matplotlib notebook\n",
    "import sys\n",
    "import tes.simulation.data as sim\n",
    "import tes.simulation.plot as simplt\n",
    "import numpy as np\n",
    "import matplotlib.pyplot as plt\n",
    "from tes.simulation.filesets import measurement_unit_TB as fileset\n",
    "\n",
    "data = sim.Data(fileset, 1, 'teslib','measurement_unit_TB')\n",
    "plt.plot(data.trace['filtered'])\n",
    "\n",
    "es=sim.EventStream(data.event_stream)\n",
    "sim.EventStream.Flags(es.bytestream[4:6])"
   ]
  },
  {
   "cell_type": "code",
   "execution_count": 237,
   "metadata": {
    "collapsed": false,
    "scrolled": true
   },
   "outputs": [
    {
     "data": {
      "text/plain": [
       "array([(2584226159227043840, True), (15643258803229556736, True),\n",
       "       (5239379614538661888, True), (8731921125564481536, True),\n",
       "       (17459616827943419904, True), (12409954646242623488, True),\n",
       "       (7542689348961959936, True), (12191823633919770624, True)], \n",
       "      dtype=[('data', '>u8'), ('last', '?')])"
      ]
     },
     "execution_count": 237,
     "metadata": {},
     "output_type": "execute_result"
    }
   ],
   "source": [
    "data.event_stream"
   ]
  },
  {
   "cell_type": "code",
   "execution_count": 238,
   "metadata": {
    "collapsed": false
   },
   "outputs": [],
   "source": [
    "es.events"
   ]
  },
  {
   "cell_type": "code",
   "execution_count": 232,
   "metadata": {
    "collapsed": true
   },
   "outputs": [],
   "source": [
    "data.save('peak_detection.pickle')"
   ]
  },
  {
   "cell_type": "code",
   "execution_count": null,
   "metadata": {
    "collapsed": false
   },
   "outputs": [],
   "source": [
    "trace_header_dt = np.dtype(\n",
    "    ([\n",
    "            ('size',np.uint16),('tflags',np.uint8,(2,)),('dflags',np.uint8,(2,)),\n",
    "            ('time',np.uint16),('offset',np.uint16),('p_thresh',np.uint16),\n",
    "            ('s_thresh',np.uint16),('length',np.uint16),('resvd',np.uint16,(2,)),\n",
    "            ('area',np.uint32)\n",
    "     ])\n",
    ")\n",
    "trace_peak_dt = np.dtype(\n",
    "    ([\n",
    "            ('min',np.uint16),('height',np.uint16),('max',np.uint16),('time',np.uint16)\n",
    "            \n",
    "    ])\n",
    ")\n",
    "trace_dt = np.dtype(\n",
    "    [('header',trace_header_dt),('peaks',trace_peak_dt,(1,)),('data',np.uint16,(600,))]\n",
    ")\n",
    "\n",
    "h=es.bytestream[0:24].view(trace_header_dt)\n",
    "max_peaks=np.bitwise_and(h['tflags'][0][1],0x0F)\n",
    "p=es.bytestream[24:24+(max_peaks+1)*8].view(trace_peak_dt)\n",
    "t=es.bytestream[24+(max_peaks+1)*8:].view(np.int16)\n",
    "t.shape=(-1,2)\n",
    "h"
   ]
  },
  {
   "cell_type": "code",
   "execution_count": null,
   "metadata": {
    "collapsed": false
   },
   "outputs": [],
   "source": [
    "data.pulse_stop[0][0]"
   ]
  },
  {
   "cell_type": "code",
   "execution_count": null,
   "metadata": {
    "collapsed": false
   },
   "outputs": [],
   "source": [
    "%matplotlib notebook\n",
    "starts=data.peak_start\n",
    "stops=data.peak\n",
    "\n",
    "eventstream_traces = []\n",
    "data_traces = []\n",
    "\n",
    "s=0\n",
    "for peak in p:\n",
    "    l=peak[2]-peak[0]+1\n",
    "    eventstream_traces.append(t[s:s+l])\n",
    "    \n",
    "    plt.step(np.arange(peak[0],peak[2]+1),t[s:s+l,0]/2,'b')\n",
    "    plt.step(np.arange(peak[0],peak[2]+1),t[s:s+l,1]/2,'r')\n",
    "    s=l\n",
    "\n",
    "plt.plot(data.trace['filtered'][data.event_start[0][0]:data.pulse_stop[0][0]]/2,':b')\n",
    "plt.plot(data.trace['slope'][data.event_start[0][0]:data.pulse_stop[0][0]]/2,':r')"
   ]
  },
  {
   "cell_type": "code",
   "execution_count": null,
   "metadata": {
    "collapsed": false
   },
   "outputs": [],
   "source": [
    "eventstream_traces[0]"
   ]
  },
  {
   "cell_type": "code",
   "execution_count": 2,
   "metadata": {
    "collapsed": false
   },
   "outputs": [
    {
     "ename": "NameError",
     "evalue": "name 't' is not defined",
     "output_type": "error",
     "traceback": [
      "\u001b[1;31m---------------------------------------------------------------------------\u001b[0m",
      "\u001b[1;31mNameError\u001b[0m                                 Traceback (most recent call last)",
      "\u001b[1;32m<ipython-input-2-e26bc54977af>\u001b[0m in \u001b[0;36m<module>\u001b[1;34m()\u001b[0m\n\u001b[0;32m      1\u001b[0m \u001b[0mget_ipython\u001b[0m\u001b[1;33m(\u001b[0m\u001b[1;33m)\u001b[0m\u001b[1;33m.\u001b[0m\u001b[0mmagic\u001b[0m\u001b[1;33m(\u001b[0m\u001b[1;34m'matplotlib notebook'\u001b[0m\u001b[1;33m)\u001b[0m\u001b[1;33m\u001b[0m\u001b[0m\n\u001b[1;32m----> 2\u001b[1;33m \u001b[0mplt\u001b[0m\u001b[1;33m.\u001b[0m\u001b[0mstep\u001b[0m\u001b[1;33m(\u001b[0m\u001b[0mnp\u001b[0m\u001b[1;33m.\u001b[0m\u001b[0marange\u001b[0m\u001b[1;33m(\u001b[0m\u001b[0mlen\u001b[0m\u001b[1;33m(\u001b[0m\u001b[0mt\u001b[0m\u001b[1;33m[\u001b[0m\u001b[1;33m:\u001b[0m\u001b[1;33m,\u001b[0m\u001b[1;36m0\u001b[0m\u001b[1;33m]\u001b[0m\u001b[1;33m)\u001b[0m\u001b[1;33m)\u001b[0m\u001b[1;33m,\u001b[0m\u001b[0mt\u001b[0m\u001b[1;33m[\u001b[0m\u001b[1;33m:\u001b[0m\u001b[1;33m,\u001b[0m\u001b[1;36m0\u001b[0m\u001b[1;33m]\u001b[0m\u001b[1;33m/\u001b[0m\u001b[1;36m2\u001b[0m\u001b[1;33m)\u001b[0m\u001b[1;33m\u001b[0m\u001b[0m\n\u001b[0m\u001b[0;32m      3\u001b[0m \u001b[0mplt\u001b[0m\u001b[1;33m.\u001b[0m\u001b[0mstep\u001b[0m\u001b[1;33m(\u001b[0m\u001b[0mnp\u001b[0m\u001b[1;33m.\u001b[0m\u001b[0marange\u001b[0m\u001b[1;33m(\u001b[0m\u001b[0mlen\u001b[0m\u001b[1;33m(\u001b[0m\u001b[0mt\u001b[0m\u001b[1;33m[\u001b[0m\u001b[1;33m:\u001b[0m\u001b[1;33m,\u001b[0m\u001b[1;36m1\u001b[0m\u001b[1;33m]\u001b[0m\u001b[1;33m)\u001b[0m\u001b[1;33m)\u001b[0m\u001b[1;33m,\u001b[0m\u001b[0mt\u001b[0m\u001b[1;33m[\u001b[0m\u001b[1;33m:\u001b[0m\u001b[1;33m,\u001b[0m\u001b[1;36m1\u001b[0m\u001b[1;33m]\u001b[0m\u001b[1;33m/\u001b[0m\u001b[1;36m2\u001b[0m\u001b[1;33m,\u001b[0m\u001b[1;34m'r'\u001b[0m\u001b[1;33m)\u001b[0m\u001b[1;33m\u001b[0m\u001b[0m\n",
      "\u001b[1;31mNameError\u001b[0m: name 't' is not defined"
     ]
    }
   ],
   "source": [
    "%matplotlib notebook\n",
    "plt.step(np.arange(len(t[:,0])),t[:,0]/2)\n",
    "plt.step(np.arange(len(t[:,1])),t[:,1]/2,'r')"
   ]
  },
  {
   "cell_type": "code",
   "execution_count": null,
   "metadata": {
    "collapsed": false
   },
   "outputs": [],
   "source": [
    "d"
   ]
  },
  {
   "cell_type": "code",
   "execution_count": 151,
   "metadata": {
    "collapsed": false
   },
   "outputs": [
    {
     "data": {
      "text/plain": [
       "(array([ 3,  7, 11, 15, 19, 23, 27], dtype=int64),)"
      ]
     },
     "execution_count": 151,
     "metadata": {},
     "output_type": "execute_result"
    }
   ],
   "source": [
    "data.event_stream['last'].nonzero()"
   ]
  },
  {
   "cell_type": "code",
   "execution_count": 52,
   "metadata": {
    "collapsed": false
   },
   "outputs": [],
   "source": [
    "peak_dt = np.dtype(\n",
    "    ([ ('height', np.int16), ('minima', np.int16), ('flags', np.uint16), ('time',np.uint16)])\n",
    ")\n",
    "events = data.event_stream['data'].view(peak_dt)"
   ]
  },
  {
   "cell_type": "code",
   "execution_count": 152,
   "metadata": {
    "collapsed": false
   },
   "outputs": [],
   "source": [
    "pulse_peak_dt = np.dtype(\n",
    "    ([('height',np.uint16),('minima',np.uint16),('rise_time',np.uint16),('time',np.uint16)])\n",
    ")\n",
    "pulse_dt = np.dtype(\n",
    "    ([('size',np.uint16),('length',np.uint16),('flags',np.uint16),('time',np.uint16),\n",
    "     ('area',np.int32),('pulse_threshold',np.uint16),('slope_threshold',np.uint16),\n",
    "     ('peak',pulse_peak_dt)])\n",
    ")"
   ]
  },
  {
   "cell_type": "code",
   "execution_count": 153,
   "metadata": {
    "collapsed": false
   },
   "outputs": [
    {
     "data": {
      "text/plain": [
       "array([  4,   0,  65,   1,   7, 136,   0,   0,  35, 221,   4,   0,   0,\n",
       "         0,   0,   0,   0,   0,  40,   0,   0,   0,  31,   0,   0,   0,\n",
       "         0,   0,   0,   0,   0,   0,   4,   0,  93,   1,   7, 136,   0,\n",
       "         0, 217,  24,   5,   0,   0,   0,   0,   0,  58,   6,  40,   0,\n",
       "        82,   0,  31,   0,   0,   0,   0,   0,   0,   0,   0,   0,   4,\n",
       "         0, 104,   1,   7, 136,   0,   0,  72, 182,   4,   0,   0,   0,\n",
       "         0,   0,  58,   6,  40,   0,  82,   0,  31,   0,   0,   0,   0,\n",
       "         0,   0,   0,   0,   0,   4,   0,  32,   1,   7, 136,   0,   0,\n",
       "       121,  46,   4,   0,   0,   0,   0,   0,  58,   6,  40,   0,  82,\n",
       "         0,  31,   0,   0,   0,   0,   0,   0,   0,   0,   0,   4,   0,\n",
       "        90,   1,   7, 136,   0,   0, 242,  77,   5,   0,   0,   0,   0,\n",
       "         0,  58,   6,  40,   0,  82,   0,  31,   0,   0,   0,   0,   0,\n",
       "         0,   0,   0,   0,   4,   0,  45,   1,   7, 136,   0,   0, 172,\n",
       "        57,   4,   0,   0,   0,   0,   0,  58,   6,  40,   0,  82,   0,\n",
       "        31,   0,   0,   0,   0,   0,   0,   0,   0,   0,   4,   0, 100,\n",
       "         1,   7, 136,   0,   0, 104, 173,   4,   0,   0,   0,   0,   0,\n",
       "        58,   6,  40,   0,  82,   0,  31,   0,   0,   0,   0,   0,   0,\n",
       "         0,   0,   0], dtype=uint8)"
      ]
     },
     "execution_count": 153,
     "metadata": {},
     "output_type": "execute_result"
    }
   ],
   "source": [
    "bytestream=np.copy(data.event_stream['data']).view(np.uint8)\n",
    "bytestream"
   ]
  },
  {
   "cell_type": "code",
   "execution_count": 154,
   "metadata": {
    "collapsed": false
   },
   "outputs": [
    {
     "ename": "ValueError",
     "evalue": "new type not compatible with array.",
     "output_type": "error",
     "traceback": [
      "\u001b[1;31m---------------------------------------------------------------------------\u001b[0m",
      "\u001b[1;31mValueError\u001b[0m                                Traceback (most recent call last)",
      "\u001b[1;32m<ipython-input-154-02f58dc4e569>\u001b[0m in \u001b[0;36m<module>\u001b[1;34m()\u001b[0m\n\u001b[1;32m----> 1\u001b[1;33m \u001b[0mevents\u001b[0m\u001b[1;33m=\u001b[0m\u001b[0mbytestream\u001b[0m\u001b[1;33m.\u001b[0m\u001b[0mview\u001b[0m\u001b[1;33m(\u001b[0m\u001b[0mpulse_dt\u001b[0m\u001b[1;33m)\u001b[0m\u001b[1;33m\u001b[0m\u001b[0m\n\u001b[0m\u001b[0;32m      2\u001b[0m \u001b[0mevents\u001b[0m\u001b[1;33m\u001b[0m\u001b[0m\n",
      "\u001b[1;31mValueError\u001b[0m: new type not compatible with array."
     ]
    }
   ],
   "source": [
    "events=bytestream.view(pulse_dt)\n",
    "events"
   ]
  },
  {
   "cell_type": "code",
   "execution_count": 155,
   "metadata": {
    "collapsed": false
   },
   "outputs": [
    {
     "data": {
      "text/plain": [
       "array([(1594, 40, 33015, 0), (1631, 10, 33015, 0), (1578, -47, 33015, 0),\n",
       "       (1418, -95, 33015, 0), (1728, -97, 33015, 0), (1490, -21, 33015, 0),\n",
       "       (1500, -141, 33015, 0), (1900, 15, 33015, 0), (2726, 1155, 32775, 0)], \n",
       "      dtype=[('height', '<i2'), ('minima', '<i2'), ('flags', '<u2'), ('time', '<u2')])"
      ]
     },
     "execution_count": 155,
     "metadata": {},
     "output_type": "execute_result"
    }
   ],
   "source": [
    "events"
   ]
  },
  {
   "cell_type": "code",
   "execution_count": 54,
   "metadata": {
    "collapsed": false
   },
   "outputs": [
    {
     "ename": "AttributeError",
     "evalue": "module 'tes.simulation.data' has no attribute 'DetectionFlags'",
     "output_type": "error",
     "traceback": [
      "\u001b[1;31m---------------------------------------------------------------------------\u001b[0m",
      "\u001b[1;31mAttributeError\u001b[0m                            Traceback (most recent call last)",
      "\u001b[1;32m<ipython-input-54-ab8ece74e739>\u001b[0m in \u001b[0;36m<module>\u001b[1;34m()\u001b[0m\n\u001b[1;32m----> 1\u001b[1;33m \u001b[0mflags\u001b[0m\u001b[1;33m=\u001b[0m\u001b[0msim\u001b[0m\u001b[1;33m.\u001b[0m\u001b[0mDetectionFlags\u001b[0m\u001b[1;33m(\u001b[0m\u001b[0mevents\u001b[0m\u001b[1;33m[\u001b[0m\u001b[1;34m'flags'\u001b[0m\u001b[1;33m]\u001b[0m\u001b[1;33m[\u001b[0m\u001b[1;36m0\u001b[0m\u001b[1;33m]\u001b[0m\u001b[1;33m)\u001b[0m\u001b[1;33m\u001b[0m\u001b[0m\n\u001b[0m\u001b[0;32m      2\u001b[0m \u001b[0mflags\u001b[0m\u001b[1;33m\u001b[0m\u001b[0m\n",
      "\u001b[1;31mAttributeError\u001b[0m: module 'tes.simulation.data' has no attribute 'DetectionFlags'"
     ]
    }
   ],
   "source": [
    "flags=sim.DetectionFlags(events['flags'][0])\n",
    "flags\n"
   ]
  },
  {
   "cell_type": "code",
   "execution_count": null,
   "metadata": {
    "collapsed": false
   },
   "outputs": [],
   "source": [
    "bs=np.copy(data.event_stream['data']).view(np.uint8)"
   ]
  },
  {
   "cell_type": "code",
   "execution_count": null,
   "metadata": {
    "collapsed": false
   },
   "outputs": [],
   "source": [
    "event_size=bs[0:2].view(np.uint16)[0]\n",
    "event_size\n",
    "pulse_peaks=event_size-2\n",
    "pulse_peak_dt = np.dtype(\n",
    "    ([('height',np.uint16),('minima',np.uint16),('rise_time',np.uint16),('time',np.uint16)])\n",
    ")\n",
    "pulse_dt = np.dtype(\n",
    "    ([('size',np.uint16),('length',np.uint16),('flags',np.uint8,(2,)),('time',np.uint16),\n",
    "     ('area',np.int32),('pulse_threshold',np.uint16),('slope_threshold',np.uint16),\n",
    "     ('peaks',pulse_peak_dt,(pulse_peaks))])\n",
    ")"
   ]
  },
  {
   "cell_type": "code",
   "execution_count": null,
   "metadata": {
    "collapsed": false
   },
   "outputs": [],
   "source": [
    "bs.view(pulse_dt)['flags']"
   ]
  },
  {
   "cell_type": "code",
   "execution_count": 55,
   "metadata": {
    "collapsed": false
   },
   "outputs": [],
   "source": [
    "es=sim.EventStream(data.event_stream)"
   ]
  },
  {
   "cell_type": "code",
   "execution_count": 56,
   "metadata": {
    "collapsed": false
   },
   "outputs": [
    {
     "data": {
      "text/plain": [
       "array([ 58,   6,  40,   0, 247, 128,   0,   0,  95,   6,  10,   0, 247,\n",
       "       128,   0,   0,  42,   6, 209, 255, 247, 128,   0,   0, 138,   5,\n",
       "       161, 255, 247, 128,   0,   0, 192,   6, 159, 255, 247, 128,   0,\n",
       "         0, 210,   5, 235, 255, 247, 128,   0,   0, 220,   5, 115, 255,\n",
       "       247, 128,   0,   0, 108,   7,  15,   0, 247, 128,   0,   0, 166,\n",
       "        10, 131,   4,   7, 128,   0,   0], dtype=uint8)"
      ]
     },
     "execution_count": 56,
     "metadata": {},
     "output_type": "execute_result"
    }
   ],
   "source": [
    "es.bytestream\n"
   ]
  },
  {
   "cell_type": "code",
   "execution_count": 57,
   "metadata": {
    "collapsed": false
   },
   "outputs": [
    {
     "data": {
      "text/plain": [
       "array([0, 0, 0, 0, 0, 0, 0, 0, 0], dtype=uint16)"
      ]
     },
     "execution_count": 57,
     "metadata": {},
     "output_type": "execute_result"
    }
   ],
   "source": [
    "type_flags = np.bitwise_and(events['flags'],0x000f)\n",
    "peak_num = np.right_shift(np.bitwise_and(events['flags'],0x00f0),4)\n",
    "channel = np.right_shift(np.bitwise_and(events['flags'],0x0f00),8)\n",
    "event_type = np.right_shift(np.bitwise_and(events['flags'],0x3000),12)\n",
    "\n",
    "event_type\n"
   ]
  },
  {
   "cell_type": "code",
   "execution_count": null,
   "metadata": {
    "collapsed": false
   },
   "outputs": [],
   "source": [
    "%matplotlib notebook\n",
    "fig = simplt.plot_pulse(8,data,pre=500,length=3000)\n"
   ]
  },
  {
   "cell_type": "code",
   "execution_count": null,
   "metadata": {
    "collapsed": true
   },
   "outputs": [],
   "source": [
    "import pickle\n",
    "\n",
    "# An arbitrary collection of objects supported by pickle.\n",
    "\n",
    "pickler = pickle.Pickler(open('short.pickle', 'wb'),pickle.HIGHEST_PROTOCOL)\n",
    "pickler.dump(data)\n"
   ]
  },
  {
   "cell_type": "code",
   "execution_count": null,
   "metadata": {
    "collapsed": false
   },
   "outputs": [],
   "source": [
    "import pickle\n",
    "unpickler = pickle.Unpickler(open('short.pickle', 'rb'))\n",
    "data2=unpickler.load()"
   ]
  },
  {
   "cell_type": "code",
   "execution_count": null,
   "metadata": {
    "collapsed": false
   },
   "outputs": [],
   "source": [
    "data2.trace['slope']"
   ]
  },
  {
   "cell_type": "code",
   "execution_count": null,
   "metadata": {
    "collapsed": false
   },
   "outputs": [],
   "source": [
    "reg2"
   ]
  },
  {
   "cell_type": "code",
   "execution_count": null,
   "metadata": {
    "collapsed": false,
    "scrolled": false
   },
   "outputs": [],
   "source": [
    "axs = fig.get_axes()\n",
    "pax=axs[0].parasites\n",
    "pax[0]._label\n",
    "f_ins_ax=axs[1]\n",
    "s_ins_ax=f_ins_ax.parasites[0]"
   ]
  },
  {
   "cell_type": "code",
   "execution_count": null,
   "metadata": {
    "collapsed": false,
    "scrolled": false
   },
   "outputs": [],
   "source": [
    "es=sim.Data.fromfile('eventstream',np.int32,'teslib','measurement_unit_TB')"
   ]
  },
  {
   "cell_type": "code",
   "execution_count": null,
   "metadata": {
    "collapsed": false
   },
   "outputs": [],
   "source": [
    "es"
   ]
  },
  {
   "cell_type": "code",
   "execution_count": null,
   "metadata": {
    "collapsed": false
   },
   "outputs": [],
   "source": [
    "data.peak[-1]"
   ]
  },
  {
   "cell_type": "code",
   "execution_count": null,
   "metadata": {
    "collapsed": false
   },
   "outputs": [],
   "source": [
    "s.peak"
   ]
  },
  {
   "cell_type": "code",
   "execution_count": null,
   "metadata": {
    "collapsed": false
   },
   "outputs": [],
   "source": [
    "isinstance(r,sim.DataRegion)"
   ]
  },
  {
   "cell_type": "code",
   "execution_count": null,
   "metadata": {
    "collapsed": false
   },
   "outputs": [],
   "source": [
    "r.peak"
   ]
  },
  {
   "cell_type": "code",
   "execution_count": null,
   "metadata": {
    "collapsed": false
   },
   "outputs": [],
   "source": [
    "i"
   ]
  },
  {
   "cell_type": "code",
   "execution_count": null,
   "metadata": {
    "collapsed": false
   },
   "outputs": [],
   "source": [
    "ax=plt.gca()\n",
    "t=ax.transData\n",
    "t.transform([[0.1,0.2],[1,3]])"
   ]
  },
  {
   "cell_type": "code",
   "execution_count": null,
   "metadata": {
    "collapsed": true
   },
   "outputs": [],
   "source": [
    "x=np.array([0,1,2,3])\n",
    "y=np.array([3,4,5,6])\n",
    "\n",
    "xy=np.empty(shape=(4,2))"
   ]
  },
  {
   "cell_type": "code",
   "execution_count": null,
   "metadata": {
    "collapsed": false
   },
   "outputs": [],
   "source": [
    "xy[:,0]=x\n",
    "xy[:,1]=y\n",
    "t.transform(xy)"
   ]
  },
  {
   "cell_type": "code",
   "execution_count": null,
   "metadata": {
    "collapsed": true
   },
   "outputs": [],
   "source": []
  },
  {
   "cell_type": "code",
   "execution_count": null,
   "metadata": {
    "collapsed": false
   },
   "outputs": [],
   "source": [
    "# run to import isim data files\n",
    "\n",
    "import numpy as np\n",
    "import os\n",
    "import matplotlib.pyplot as plt\n",
    "import math\n",
    "from enum import Enum\n",
    "\n",
    "plt.rcParams[\"figure.figsize\"]=[800./80,600./80]\n",
    "\n",
    "repo='c:\\\\TES_project\\\\fpga_ise\\\\'\n",
    "project='teslib'\n",
    "testbench='measurement_unit_TB'\n",
    "datafile='traces'\n",
    "path=repo+project+'\\\\PlanAhead\\\\'+project+'.sim\\\\'+testbench+'\\\\'\n",
    "\n",
    "traces_dt = np.dtype([('input', np.int32),('raw',np.int32),('filtered',np.int32),('slope',np.int32)])\n",
    "traces=np.fromfile(path+'traces',traces_dt)\n",
    "trigger=np.fromfile(path+'triggers',np.int32)\n",
    "settings=np.fromfile(path+'settings',np.int32)\n",
    "cfd_low=np.fromfile(path+'cfdlow',np.int32)\n",
    "cfd_high=np.fromfile(path+'cfdhigh',np.int32)\n",
    "peaks=np.fromfile(path+'peaks',np.int32)\n",
    "peaks.shape=(-1,2)\n",
    "peak_starts=np.fromfile(path+'peak_starts',np.int32)\n",
    "#peak_starts.shape=(-1,2)\n",
    "pulse_starts=np.fromfile(path+'peak_starts',np.int32)\n",
    "settings=np.fromfile(path+'settings',np.int32)\n",
    "cfd_low=np.fromfile(path+'cfdlow',np.int32)\n",
    "cfd_high=np.fromfile(path+'cfdhigh',np.int32)\n",
    "slope_xing=np.fromfile(path+'slopethreshxings',np.int32)\n"
   ]
  },
  {
   "cell_type": "code",
   "execution_count": null,
   "metadata": {
    "collapsed": false
   },
   "outputs": [],
   "source": [
    "settings[13]"
   ]
  },
  {
   "cell_type": "code",
   "execution_count": null,
   "metadata": {
    "collapsed": false
   },
   "outputs": [],
   "source": [
    "#create register dict from settings array\n",
    "\n",
    "class height_type(Enum):\n",
    "    def from_int(value):\n",
    "        if value == 0:\n",
    "            return height_type.peak_height\n",
    "        elif value == 1:\n",
    "            return height_type.cfd_high\n",
    "        elif value == 2:\n",
    "            return height_type.slope_integral\n",
    "        else:\n",
    "            raise AttributeError()\n",
    "    peak_height=0\n",
    "    cfd_high=1\n",
    "    slope_integral=2\n",
    "\n",
    "class trigger_type(Enum):\n",
    "    def from_int(value):\n",
    "        if value == 0:\n",
    "            return trigger_type.pulse_threshold\n",
    "        elif value == 1:\n",
    "            return trigger_type.slope_threshold\n",
    "        elif value == 2:\n",
    "            return trigger_type.cfd_low\n",
    "        else:\n",
    "            raise AttributeError()\n",
    "    pulse_threshold=0\n",
    "    slope_threshold=1\n",
    "    cfd_low=2\n",
    "\n",
    "class event_type(Enum):\n",
    "    def from_int(value):\n",
    "        if value == 0:\n",
    "            return event_type.peak\n",
    "        elif value == 1:\n",
    "            return event_type.area\n",
    "        elif value == 2:\n",
    "            return event_type.pulse\n",
    "        elif value == 3:\n",
    "            return event_type.trace\n",
    "        else:\n",
    "            raise AttributeError()\n",
    "    peak=0\n",
    "    area=1\n",
    "    pulse=2\n",
    "    trace=3\n",
    "\n",
    "\n",
    "def read_registers(settings):\n",
    "    registers = dict()\n",
    "    registers['baseline'] = dict()\n",
    "    registers['baseline']['offset'] = settings[0]\n",
    "    registers['baseline']['subtraction'] = settings[1]!=0\n",
    "    registers['baseline']['timeconstant'] = settings[2]\n",
    "    registers['baseline']['threshold'] = settings[3]\n",
    "    registers['baseline']['count_threshold'] = settings[4]\n",
    "    registers['generic'] = dict()\n",
    "    registers['baseline']['average_order'] = settings[5]\n",
    "    registers['capture'] = dict()\n",
    "    registers['capture']['cfd_relative'] = settings[6]!=0\n",
    "    registers['capture']['constant_fraction'] = settings[7]\n",
    "    registers['capture']['pulse_threshold'] = settings[8]\n",
    "    registers['capture']['slope_threshold'] = settings[9]\n",
    "    registers['capture']['pulse_area_threshold'] = settings[10]\n",
    "    registers['capture']['height_type'] = height_type.from_int(settings[11])\n",
    "    registers['capture']['threshold_rel2min'] = settings[12]!=0\n",
    "    registers['capture']['trigger_type'] = trigger_type.from_int(settings[13])\n",
    "    registers['capture']['event_type'] = event_type.from_int(settings[14])\n",
    "    return registers\n"
   ]
  },
  {
   "cell_type": "code",
   "execution_count": null,
   "metadata": {
    "collapsed": false
   },
   "outputs": [],
   "source": [
    "%matplotlib notebook\n",
    "x=np.arange(len(traces['filtered']))\n",
    "fig=plt.figure()\n",
    "\n",
    "ax=fig.add_axes([0.15,0.1,0.8,0.8])\n",
    "mV=1.0/math.pow(2,14)*1000\n",
    "nS=4\n",
    "\n",
    "\n",
    "i_trace, =ax.step(x*nS/1000000,(traces['input']+1800)*mV*2,'k',label='raw input')\n",
    "f_trace, =ax.step(x*nS/1000000,traces['filtered']*mV,'b',label='processed')\n",
    "fig.suptitle('Digital Signal Processing',fontsize=24)\n",
    "plt.xlabel('time (ms)',fontsize=18)\n",
    "plt.ylabel('Voltage (mV)',fontsize=18)\n",
    "plt.legend(handles=[i_trace,f_trace])\n",
    "\n",
    "fig.savefig('trace.png')\n",
    "plt.show()"
   ]
  },
  {
   "cell_type": "code",
   "execution_count": null,
   "metadata": {
    "collapsed": true
   },
   "outputs": [],
   "source": []
  },
  {
   "cell_type": "code",
   "execution_count": null,
   "metadata": {
    "collapsed": false
   },
   "outputs": [],
   "source": [
    "%matplotlib notebook\n",
    "import math\n",
    "\n",
    "def align_yaxis(ax1, v1, ax2, v2):\n",
    "    \"\"\"adjust ax2 ylimit so that v2 in ax2 is aligned to v1 in ax1\"\"\"\n",
    "    _, y1 = ax1.transData.transform((0, v1))\n",
    "    _, y2 = ax2.transData.transform((0, v2))\n",
    "    adjust_yaxis(ax2,(y1-y2)/2,v2)\n",
    "    adjust_yaxis(ax1,(y2-y1)/2,v1)\n",
    "\n",
    "def adjust_yaxis(ax,ydif,v):\n",
    "    \"\"\"shift axis ax by ydiff, maintaining point v at the same location\"\"\"\n",
    "    inv = ax.transData.inverted()\n",
    "    _, dy = inv.transform((0, 0)) - inv.transform((0, ydif))\n",
    "    miny, maxy = ax.get_ylim()\n",
    "    miny, maxy = miny - v, maxy - v\n",
    "    if -miny>maxy or (-miny==maxy and dy > 0):\n",
    "        nminy = miny\n",
    "        nmaxy = miny*(maxy+dy)/(miny+dy)\n",
    "    else:\n",
    "        nmaxy = maxy\n",
    "        nminy = maxy*(miny+dy)/(maxy+dy)\n",
    "    ax.set_ylim(nminy+v, nmaxy+v)\n",
    "    \n",
    "x=np.arange(len(traces['filtered']))\n",
    "fig=plt.figure()\n",
    "ax=fig.add_axes([0.1,0.1,0.8,0.8])\n",
    "plt.ylim(-10,120)\n",
    "v=math.pow(2,13)/1000\n",
    "t=x*4\n",
    "ax.plot([0,t[-1]],[0,0],'k')\n",
    "raw, = ax.step(t,traces['raw']/2/v,'k',lw=1,label='raw')\n",
    "processed, = ax.step(t,traces['filtered']/2/v,'r',lw=2,label='processed')\n",
    "ax.plot(trigger,traces['filtered'][trigger+1]/2,'kx')\n",
    "ax.plot(peaks[:,0],traces['filtered'][peaks[:,0]+1]/2,'ro')\n",
    "ax.plot(peak_starts,traces['filtered'][peak_starts+1]/2,'ro')\n",
    "ax.plot(cfd_high,traces['filtered'][cfd_high+1]/2,'bs')\n",
    "ax.plot(cfd_low,traces['filtered'][cfd_low+1]/2,'bs')\n",
    "plt.xlabel('time (ns)',fontsize=18)\n",
    "plt.ylabel('Voltage (mV)',fontsize=18,color='r')\n",
    "\n",
    "ax2=ax.twinx()\n",
    "slope, = ax2.step(t,traces['slope']/256/v/4,'b',lw=2,label='slope')\n",
    "plt.xlim([1292000,1297500])\n",
    "plt.ylim(-0.2,1)\n",
    "align_yaxis(ax,0,ax2,0)\n",
    "plt.ylabel('slope (mV/ns)',color='b',fontsize=18)\n",
    "fig.suptitle('Digital signal processing',fontsize=24)\n",
    "plt.legend(handles=[raw,processed,slope])\n",
    "fig.savefig('dsp.png')\n",
    "plt.show()"
   ]
  },
  {
   "cell_type": "code",
   "execution_count": null,
   "metadata": {
    "collapsed": false
   },
   "outputs": [],
   "source": [
    "%matplotlib notebook\n",
    "\n",
    "#plot pulse\n",
    "from mpl_toolkits.axes_grid1 import host_subplot\n",
    "from mpl_toolkits.axes_grid1.inset_locator import zoomed_inset_axes\n",
    "from mpl_toolkits.axes_grid1.inset_locator import mark_inset\n",
    "\n",
    "pulse=7\n",
    "length=2000\n",
    "pre=100\n",
    "\n",
    "def align_yaxis(ax1, v1, ax2, v2):\n",
    "    \"\"\"adjust ax2 ylimit so that v2 in ax2 is aligned to v1 in ax1\"\"\"\n",
    "    _, y1 = ax1.transData.transform((0, v1))\n",
    "    _, y2 = ax2.transData.transform((0, v2))\n",
    "    adjust_yaxis(ax2,(y1-y2)/2,v2)\n",
    "    adjust_yaxis(ax1,(y2-y1)/2,v1)\n",
    "\n",
    "def adjust_yaxis(ax,ydif,v):\n",
    "    \"\"\"shift axis ax by ydiff, maintaining point v at the same location\"\"\"\n",
    "    inv = ax.transData.inverted()\n",
    "    _, dy = inv.transform((0, 0)) - inv.transform((0, ydif))\n",
    "    miny, maxy = ax.get_ylim()\n",
    "    miny, maxy = miny - v, maxy - v\n",
    "    if -miny>maxy or (-miny==maxy and dy > 0):\n",
    "        nminy = miny\n",
    "        nmaxy = miny*(maxy+dy)/(miny+dy)\n",
    "    else:\n",
    "        nmaxy = maxy\n",
    "        nminy = maxy*(miny+dy)/(maxy+dy)\n",
    "    ax.set_ylim(nminy+v, nmaxy+v)\n",
    "    \n",
    "start=pulse_starts[pulse]-pre\n",
    "stop=start+length\n",
    "x=np.arange(0,len(traces['filtered']))\n",
    "fig=plt.figure()\n",
    "\n",
    "f_ax = host_subplot(111)\n",
    "s_ax = f_ax.twinx()\n",
    "\n",
    "f_ax.set_xlabel(\"Time (ns)\",fontsize=18)\n",
    "f_ax.set_ylabel(\"Voltage (mV)\",fontsize=18,color='r')\n",
    "s_ax.set_ylabel(\"Slope (mv/ns)\",fontsize=18,color='b')\n",
    "\n",
    "mV=1.0/math.pow(2,14)*1000\n",
    "nS=4\n",
    "t=x*nS\n",
    "\n",
    "f_sig = traces['filtered']*mV\n",
    "s_sig = traces['slope']*mV/nS\n",
    "\n",
    "f_ax.plot([t[start],t[stop]],[0,0],'k') # zero line\n",
    "f_trace, = f_ax.step(t[start:stop],f_sig[start:stop],'r',lw=2,label='processed')\n",
    "f_ax.set_ylim(-10,180)\n",
    "\n",
    "s_trace, = s_ax.step(t[start:stop],s_sig[start:stop],'b',lw=1,label='slope')\n",
    "s_ax.set_ylim(-15,50)\n",
    "#s_threshold = 6\n",
    "#s_ax.set_yticks(np.concatenate((s_ax.get_yticks(),[s_threshold])))\n",
    "#labels=[label.get_text() for label in s_ax.get_yticklabels()]\n",
    "#labels[6]='Threshold'\n",
    "\n",
    "#s_ax.set_yticklabels(labels)\n",
    "plt.xlim(t[start],t[stop])\n",
    "align_yaxis(f_ax,0,s_ax,0)\n",
    "fig.suptitle('Measurement:First pass',fontsize=24)\n",
    "#plt.legend(handles=[f_trace,s_trace])\n",
    "\n",
    "starts_mask = np.logical_and(peak_starts >= start,peak_starts <= stop)\n",
    "peaks_mask = np.logical_and(peaks[:,0] >= start, peaks[:,0] <= stop)\n",
    "peak_starts_inwin = peak_starts[starts_mask]\n",
    "\n",
    "for pstart in peak_starts_inwin:\n",
    "    peak_start_t=t[pstart]-2\n",
    "    peak_start_f=f_sig[pstart]\n",
    "    peak_start_s=s_sig[pstart]\n",
    "\n",
    "    f_ax.plot(peak_start_t,peak_start_f,'ro')\n",
    "    s_ax.plot(peak_start_t,peak_start_s,'bo')\n",
    "    \n",
    "    f_trans = f_ax.transData\n",
    "    s_trans = s_ax.transData.inverted()\n",
    "    trans = s_trans+f_trans\n",
    "    f_point=f_trans.transform((peak_start_t,peak_start_f))\n",
    "    s_point=s_trans.transform((f_point[0],f_point[1]))\n",
    "\n",
    "    s_ax.plot([peak_start_t,peak_start_t],[peak_start_s, s_point[1]],'k')\n",
    "\n",
    "#for p in peaks[0][peaks_inwin]\n",
    "peaks_inwin = peaks[peaks_mask,0]\n",
    "for p in peaks_inwin:\n",
    "    peak_t=t[p]-2\n",
    "    peak_f=f_sig[p]\n",
    "    peak_s=s_sig[p]\n",
    "\n",
    "    f_ax.plot(peak_t,peak_f,'ro')\n",
    "    s_ax.plot(peak_t,peak_s,'bo')\n",
    "    \n",
    "    f_trans = f_ax.transData\n",
    "    s_trans = s_ax.transData.inverted()\n",
    "    trans = s_trans+f_trans\n",
    "    f_point=f_trans.transform((peak_t,peak_f))\n",
    "    s_point=s_trans.transform((f_point[0],f_point[1]))\n",
    "\n",
    "    s_ax.plot([peak_t,peak_t],[peak_s, s_point[1]],'k')\n",
    "\n",
    "ins_start = peak_starts_inwin[0]-5\n",
    "ins_stop = peak_starts_inwin[0]+5\n",
    "f_ins_ax = zoomed_inset_axes(f_ax, 50, loc=1)  # zoom = 6\n",
    "f_ins_ax.step(t[ins_start:ins_stop],f_sig[ins_start:ins_stop],'r')\n",
    "f_ins_ax.set_ylim(-0.5,2)\n",
    "f_ins_ax.set_xlim(ins_start,ins_stop)\n",
    "f_ins_ax.set_yticks([])\n",
    "f_ins_ax.set_xticks([])\n",
    "\n",
    "f_ins_ax.plot([t[ins_start],t[ins_stop]],[0,0],'k') # zero line\n",
    "\n",
    "#plt.xticks(visible=False)\n",
    "#plt.yticks(visible=False)\n",
    "mark_inset(f_ax, f_ins_ax, loc1=2, loc2=4, fc=\"none\", ec=\"0.5\")\n",
    "\n",
    "s_ins_ax = f_ins_ax.twinx()\n",
    "s_ins_ax.set_yticks([])\n",
    "s_ins_ax.set_xticks([])\n",
    "\n",
    "s_ins_ax.step(t[ins_start:ins_stop],s_sig[ins_start:ins_stop],'b')\n",
    "\n",
    "s_ins_ax.set_ylim(-1,1)\n",
    "align_yaxis(f_ins_ax,0,s_ins_ax,0)\n",
    "\n",
    "pstart = peak_starts_inwin[0]\n",
    "peak_start_t=t[pstart]-2\n",
    "peak_start_f=f_sig[pstart]\n",
    "peak_start_s=s_sig[pstart]\n",
    "\n",
    "f_ins_ax.plot(peak_start_t,peak_start_f,'ro')\n",
    "s_ins_ax.plot(peak_start_t,peak_start_s,'bo')\n",
    "    \n",
    "f_trans = f_ins_ax.transData\n",
    "s_trans = s_ins_ax.transData.inverted()\n",
    "trans = s_trans+f_trans\n",
    "f_point=f_trans.transform((peak_start_t,peak_start_f))\n",
    "s_point=s_trans.transform((f_point[0],f_point[1]))\n",
    "\n",
    "s_ins_ax.plot([peak_start_t,peak_start_t],[peak_start_s, s_point[1]],'k')\n",
    "\n",
    "s_ax.plot([t[start],t[stop]],[s_threshold,s_threshold],ls='dashed')\n",
    "\n",
    "fig.savefig('measurement1.png')\n",
    "plt.draw()\n",
    "plt.show()"
   ]
  },
  {
   "cell_type": "code",
   "execution_count": null,
   "metadata": {
    "collapsed": false
   },
   "outputs": [],
   "source": [
    "%matplotlib notebook\n",
    "from mpl_toolkits.axes_grid1 import host_subplot\n",
    "from mpl_toolkits.axes_grid1.inset_locator import zoomed_inset_axes\n",
    "from mpl_toolkits.axes_grid1.inset_locator import mark_inset\n",
    "\n",
    "pulse=7\n",
    "length=2000\n",
    "pre=100\n",
    "\n",
    "def align_yaxis(ax1, v1, ax2, v2):\n",
    "    \"\"\"adjust ax2 ylimit so that v2 in ax2 is aligned to v1 in ax1\"\"\"\n",
    "    _, y1 = ax1.transData.transform((0, v1))\n",
    "    _, y2 = ax2.transData.transform((0, v2))\n",
    "    adjust_yaxis(ax2,(y1-y2)/2,v2)\n",
    "    adjust_yaxis(ax1,(y2-y1)/2,v1)\n",
    "\n",
    "def adjust_yaxis(ax,ydif,v):\n",
    "    \"\"\"shift axis ax by ydiff, maintaining point v at the same location\"\"\"\n",
    "    inv = ax.transData.inverted()\n",
    "    _, dy = inv.transform((0, 0)) - inv.transform((0, ydif))\n",
    "    miny, maxy = ax.get_ylim()\n",
    "    miny, maxy = miny - v, maxy - v\n",
    "    if -miny>maxy or (-miny==maxy and dy > 0):\n",
    "        nminy = miny\n",
    "        nmaxy = miny*(maxy+dy)/(miny+dy)\n",
    "    else:\n",
    "        nmaxy = maxy\n",
    "        nminy = maxy*(miny+dy)/(maxy+dy)\n",
    "    ax.set_ylim(nminy+v, nmaxy+v)\n",
    "    \n",
    "start=pulse_starts[pulse]-pre\n",
    "stop=start+length\n",
    "x=np.arange(0,len(traces['filtered']))\n",
    "fig=plt.figure()\n",
    "\n",
    "f_ax = host_subplot(111)\n",
    "s_ax = f_ax.twinx()\n",
    "\n",
    "f_ax.set_xlabel(\"Time (ns)\",fontsize=18)\n",
    "f_ax.set_ylabel(\"Voltage (mV)\",fontsize=18,color='r')\n",
    "s_ax.set_ylabel(\"Slope (mv/ns)\",fontsize=18,color='b')\n",
    "\n",
    "mV=1.0/math.pow(2,14)*1000\n",
    "nS=4\n",
    "t=x*nS\n",
    "\n",
    "f_sig = traces['filtered']*mV\n",
    "s_sig = traces['slope']*mV/nS\n",
    "\n",
    "f_ax.plot([t[start],t[stop]],[0,0],'k') # zero line\n",
    "f_trace, = f_ax.step(t[start:stop],f_sig[start:stop],'r',lw=2,label='processed')\n",
    "f_ax.set_ylim(-10,180)\n",
    "\n",
    "s_trace, = s_ax.step(t[start:stop],s_sig[start:stop],'b',lw=1,label='slope')\n",
    "s_ax.set_ylim(-15,50)\n",
    "#s_threshold = 6\n",
    "#s_ax.set_yticks(np.concatenate((s_ax.get_yticks(),[s_threshold])))\n",
    "#labels=[label.get_text() for label in s_ax.get_yticklabels()]\n",
    "#labels[6]='Threshold'\n",
    "\n",
    "#s_ax.set_yticklabels(labels)\n",
    "plt.xlim(t[start],t[stop])\n",
    "align_yaxis(f_ax,0,s_ax,0)\n",
    "fig.suptitle('Measurement:Second pass',fontsize=24)\n",
    "#plt.legend(handles=[f_trace,s_trace])\n",
    "\n",
    "starts_mask = np.logical_and(peak_starts >= start,peak_starts <= stop)\n",
    "peaks_mask = np.logical_and(peaks[:,0] >= start, peaks[:,0] <= stop)\n",
    "peak_starts_inwin = peak_starts[starts_mask]\n",
    "\n",
    "\n",
    "#for pstart in peak_starts_inwin:\n",
    "#    peak_start_t=t[pstart]-2\n",
    "#    peak_start_f=f_sig[pstart]\n",
    "#    peak_start_s=s_sig[pstart]\n",
    "#\n",
    "#    f_ax.plot(peak_start_t,peak_start_f,'ro')\n",
    "#    s_ax.plot(peak_start_t,peak_start_s,'bo')\n",
    "    \n",
    "#    f_trans = f_ax.transData\n",
    "#    s_trans = s_ax.transData.inverted()\n",
    "#    trans = s_trans+f_trans\n",
    "#    f_point=f_trans.transform((peak_start_t,peak_start_f))\n",
    "#    s_point=s_trans.transform((f_point[0],f_point[1]))\n",
    "\n",
    "#    s_ax.plot([peak_start_t,peak_start_t],[peak_start_s, s_point[1]],'k')\n",
    "\n",
    "#for p in peaks[0][peaks_inwin]\n",
    "peaks_inwin = peaks[peaks_mask,0]\n",
    "x_s=peak_starts_inwin\n",
    "x_p=peaks_inwin\n",
    "y_s=f_sig[x_s]\n",
    "y_p=f_sig[x_p]\n",
    "\n",
    "f_ax.plot(t[peak_starts_inwin],f_sig[peak_starts_inwin],'or')\n",
    "f_ax.plot(t[peaks_inwin],f_sig[peaks_inwin],'or')\n",
    "\n",
    "\n",
    "f_ax.plot([t[x_s[0]],t[x_p[0]]],[y_s[0],y_s[0]],'k')\n",
    "f_ax.plot([t[x_p[0]],t[x_p[0]]],[y_s[0],y_p[0]],'k')\n",
    "\n",
    "f_ax.plot([t[x_s[1]],t[x_p[1]]],[y_s[1],y_s[1]],'k')\n",
    "f_ax.plot([t[x_p[1]],t[x_p[1]]],[y_s[1],y_p[1]],'k')\n",
    "\n",
    "\n",
    "#for p in peaks_inwin:\n",
    "#    peak_t=t[p]-2\n",
    "#    peak_f=f_sig[p]\n",
    "#    peak_s=s_sig[p]\n",
    "\n",
    "#    f_ax.plot(peak_t,peak_f,'ro')\n",
    "#    s_ax.plot(peak_t,peak_s,'bo')\n",
    "    \n",
    "#    f_trans = f_ax.transData\n",
    "#    s_trans = s_ax.transata.inverted()\n",
    "#    trans = s_trans+f_trans\n",
    "#    f_point=f_trans.transform((peak_t,peak_f))\n",
    "#    s_point=s_trans.transform((f_point[0],f_point[1]))\n",
    "\n",
    "#    s_ax.plot([peak_t,peak_t],[peak_s, s_point[1]],'k')\n",
    "\n",
    "ins_start = peak_starts_inwin[1]-300\n",
    "ins_stop = peak_starts_inwin[1]+500\n",
    "f_ins_ax = zoomed_inset_axes(f_ax, 1.5, loc=1)  # zoom = 6\n",
    "f_ins_ax.step(t[ins_start:ins_stop],f_sig[ins_start:ins_stop],'r')\n",
    "f_ins_ax.set_ylim(60,180)\n",
    "f_ins_ax.set_xlim(t[ins_start],t[ins_stop])\n",
    "f_ins_ax.set_yticks([])\n",
    "f_ins_ax.set_xticks([])\n",
    "\n",
    "low_mask = np.logical_and(cfd_low >= start, cfd_low <= stop)\n",
    "low_inwin = cfd_low[low_mask]\n",
    "high_mask = np.logical_and(cfd_high >= start, cfd_high <= stop)\n",
    "high_inwin = cfd_high[high_mask]\n",
    "thresh_mask = np.logical_and(slope_xing >= start, slope_xing <= stop)\n",
    "thresh_inwin = slope_xing[thresh_mask]\n",
    "\n",
    "f_ins_ax.plot(t[peak_starts_inwin],f_sig[peak_starts_inwin],'or')\n",
    "f_ins_ax.plot(t[peaks_inwin],f_sig[peaks_inwin],'or')\n",
    "\n",
    "f_ins_ax.plot(t[low_inwin],f_sig[low_inwin],'ok')\n",
    "f_ins_ax.plot(t[high_inwin],f_sig[high_inwin],'ok')\n",
    "f_ax.plot(t[low_inwin],f_sig[low_inwin],'ok')\n",
    "f_ax.plot(t[high_inwin],f_sig[high_inwin],'ok')\n",
    "#f_ax.plot(t[thresh_inwin],f_sig[thresh_inwin],'ow')\n",
    "f_ins_ax.plot(t[thresh_inwin],f_sig[thresh_inwin],'ow')\n",
    "\n",
    "\n",
    "f_ins_ax.plot([t[x_s[0]],t[x_p[0]]],[y_s[0],y_s[0]],'k')\n",
    "f_ins_ax.plot([t[x_p[0]],t[x_p[0]]],[y_s[0],y_p[0]],'k')\n",
    "\n",
    "f_ins_ax.plot([t[x_s[1]],t[x_p[1]]],[y_s[1],y_s[1]],'k')\n",
    "f_ins_ax.plot([t[x_p[1]],t[x_p[1]]],[y_s[1],y_p[1]],'k')\n",
    "\n",
    "#f_ins_ax.plot([t[ins_start],t[ins_stop]],[0,0],'k') # zero line\n",
    "\n",
    "#plt.xticks(visible=False)\n",
    "#plt.yticks(visible=False)\n",
    "#mark_inset(f_ax, f_ins_ax, loc1=2, loc2=4, fc=\"none\", ec=\"0.5\")\n",
    "\n",
    "pstart = peak_starts_inwin[1]\n",
    "peak_start_t=t[pstart]-2\n",
    "peak_start_f=f_sig[pstart]\n",
    "peak_start_s=s_sig[pstart]\n",
    "\n",
    "f_ins_ax.plot(peak_start_t,peak_start_f,'ro')\n",
    "\n",
    "\n",
    "f_trans = f_ins_ax.transData\n",
    "s_trans = s_ins_ax.transData.inverted()\n",
    "trans = s_trans+f_trans\n",
    "f_point=f_trans.transform((peak_start_t,peak_start_f))\n",
    "s_point=s_trans.transform((f_point[0],f_point[1]))\n",
    "\n",
    "s_ins_ax.plot([peak_start_t,peak_start_t],[peak_start_s, s_point[1]],'k')\n",
    "\n",
    "s_ax.plot([t[start],t[stop]],[s_threshold,s_threshold],ls='dashed')\n",
    "\n",
    "fig.savefig('measurement2.png')\n",
    "plt.draw()\n",
    "plt.show()"
   ]
  },
  {
   "cell_type": "code",
   "execution_count": null,
   "metadata": {
    "collapsed": false
   },
   "outputs": [],
   "source": [
    "from mpl_toolkits.axes_grid1.inset_locator import inset_axes\n",
    "\n",
    "fig=plt.figure()\n",
    "fig.suptitle('Multi Channel Analyser',fontsize=24)\n",
    "\n",
    "h_ax = host_subplot(111)\n",
    "\n",
    "h_ins_ax = inset_axes(h_ax, width=\"80%\",height=1., loc=1)  # zoom = 6\n",
    "h_ins_ax.set_xlim(-25,160)\n",
    "h_ins_ax.set_ylim(0,0.002)\n",
    "h_ax.hist((traces['input']+200)*2*mV,math.pow(2,14),normed=1,facecolor='k',edgecolor='k')\n",
    "h_ax.hist(f_sig,math.pow(2,14),normed=1,facecolor='r',edgecolor='r')\n",
    "h_ins_ax.hist(f_sig,math.pow(2,14),normed=1,facecolor='r',edgecolor='r')\n",
    "h_ins_ax.set_xticks([])\n",
    "h_ins_ax.set_yticks([])\n",
    "h_ax.set_xlim(-30,100)\n",
    "h_ax.set_ylim(0,0.8)\n",
    "\n",
    "mark_inset(h_ax, h_ins_ax, loc1=2, loc2=4, fc=\"none\", ec=\"0.5\")\n",
    "\n",
    "h_ax.set_xlabel('Voltage (mV)')\n",
    "h_ax.set_ylabel('Probability')\n",
    "fig.savefig('hist.png')\n",
    "plt.show()"
   ]
  },
  {
   "cell_type": "code",
   "execution_count": null,
   "metadata": {
    "collapsed": true
   },
   "outputs": [],
   "source": [
    "peak_dt=np.dtype([('time',np.uint16),('flags',np.uint16),('minima',np.uint16),('height',np.uint16)])"
   ]
  },
  {
   "cell_type": "code",
   "execution_count": null,
   "metadata": {
    "collapsed": true
   },
   "outputs": [],
   "source": [
    "area_dt=np.dtype([('time',np.uint16),('flags',np.uint16),('area',np.uint32)])"
   ]
  },
  {
   "cell_type": "code",
   "execution_count": null,
   "metadata": {
    "collapsed": true
   },
   "outputs": [],
   "source": [
    "pulse_peak_dt=np.dtype([('trigger',np.uint16),('rise',np.uint16),('minima',np.uint16),('height',np.uint16)])\n",
    "pulse_header_dt=np.dtype([('time',np.uint16),('flags',np.uint16),('res1',np.uint16),('size',np.uint16),\n",
    "                    ('length',np.uint16),('res2',np.uint16),('area',np.int32)])"
   ]
  },
  {
   "cell_type": "code",
   "execution_count": null,
   "metadata": {
    "collapsed": false
   },
   "outputs": [],
   "source": [
    "pulse2_dt=np.dtype([('time',np.uint16),('flags',np.uint16),('res1',np.uint16),('size',np.uint16),\n",
    "                    ('length',np.uint16),('res2',np.uint16),('area',np.int32),\n",
    "                    ('trigger0',np.uint16),('rise0',np.uint16),('minima0',np.uint16),('height0',np.uint16),\n",
    "                    ('trigger1',np.uint16),('rise1',np.uint16),('minima1',np.uint16),('height1',np.uint16)])"
   ]
  },
  {
   "cell_type": "code",
   "execution_count": null,
   "metadata": {
    "collapsed": false
   },
   "outputs": [],
   "source": [
    "pulse2_subarray_dt=np.dtype([('header',pulse_header_dt,('peaks', (pulse_peak_dt,(1,2)) ))])"
   ]
  },
  {
   "cell_type": "code",
   "execution_count": null,
   "metadata": {
    "collapsed": true
   },
   "outputs": [],
   "source": [
    "eventstream=np.fromfile(path+'eventstream',peak_dt)"
   ]
  },
  {
   "cell_type": "code",
   "execution_count": null,
   "metadata": {
    "collapsed": true
   },
   "outputs": [],
   "source": [
    "eventstream=np.fromfile(path+'eventstream',area_dt)"
   ]
  },
  {
   "cell_type": "code",
   "execution_count": null,
   "metadata": {
    "collapsed": true
   },
   "outputs": [],
   "source": [
    "eventstream=np.fromfile(path+'eventstream',pulse2_dt)"
   ]
  },
  {
   "cell_type": "code",
   "execution_count": null,
   "metadata": {
    "collapsed": false
   },
   "outputs": [],
   "source": [
    "eventstream"
   ]
  },
  {
   "cell_type": "code",
   "execution_count": null,
   "metadata": {
    "collapsed": false
   },
   "outputs": [],
   "source": [
    "flags=eventstream['flags']\n",
    "print(np.binary_repr(flags[0],16))"
   ]
  },
  {
   "cell_type": "code",
   "execution_count": null,
   "metadata": {
    "collapsed": false
   },
   "outputs": [],
   "source": [
    "print(\"flags:{:016b}\\nsize:{}\\nlength:{}\\narea:{}\\ntrigger:{} rise:{} minima:{} height:{}\\ntrigger:{} rise:{} minima:{} height:{}\\n\"  \n",
    "      .format(eventstream['flags'][0],eventstream['size'][0],eventstream['length'][0],eventstream['area'][0],\n",
    "        eventstream['trigger0'][0],eventstream['rise0'][0],eventstream['minima0'][0],eventstream['height0'][0],\n",
    "        eventstream['trigger1'][0],eventstream['rise1'][0],eventstream['minima1'][0],eventstream['height1'][0]))"
   ]
  },
  {
   "cell_type": "code",
   "execution_count": null,
   "metadata": {
    "collapsed": false
   },
   "outputs": [],
   "source": [
    "print(np.binary_repr(flags[1],16))"
   ]
  },
  {
   "cell_type": "code",
   "execution_count": null,
   "metadata": {
    "collapsed": true
   },
   "outputs": [],
   "source": [
    "rel_to_min=np.right_shift(np.bitwise_and(flags,0x8000),15).astype(np.bool)\n",
    "channel=np.right_shift(np.bitwise_and(flags,0x0F00),8).astype(np.uint8)\n",
    "threshold_rel2min=np.right_shift(np.bitwise_and(flags,0x4000),14).astype(np.bool)\n",
    "peak_count=np.right_shift(np.bitwise_and(flags,0x00F0),4).astype(np.uint8)\n",
    "tick=np.bitwise_and(flags,0x0001).astype(bool)\n",
    "area=np.right_shift(np.bitwise_and(flags,0x0002),1).astype(np.bool)\n",
    "trace=np.right_shift(np.bitwise_and(flags,0x0004),2).astype(np.bool)\n",
    "fixed=np.right_shift(np.bitwise_and(flags,0x0008),3).astype(np.bool)\n",
    "event_type=np.right_shift(np.bitwise_and(flags,0x3000),12).astype(np.uint8)"
   ]
  },
  {
   "cell_type": "code",
   "execution_count": null,
   "metadata": {
    "collapsed": false
   },
   "outputs": [],
   "source": [
    "flags"
   ]
  },
  {
   "cell_type": "code",
   "execution_count": null,
   "metadata": {
    "collapsed": false
   },
   "outputs": [],
   "source": [
    "eventstream"
   ]
  },
  {
   "cell_type": "code",
   "execution_count": null,
   "metadata": {
    "collapsed": true
   },
   "outputs": [],
   "source": []
  },
  {
   "cell_type": "code",
   "execution_count": null,
   "metadata": {
    "collapsed": true
   },
   "outputs": [],
   "source": []
  }
 ],
 "metadata": {
  "kernelspec": {
   "display_name": "Python 3",
   "language": "python",
   "name": "python3"
  },
  "language_info": {
   "codemirror_mode": {
    "name": "ipython",
    "version": 3
   },
   "file_extension": ".py",
   "mimetype": "text/x-python",
   "name": "python",
   "nbconvert_exporter": "python",
   "pygments_lexer": "ipython3",
   "version": "3.5.1"
  }
 },
 "nbformat": 4,
 "nbformat_minor": 0
}
