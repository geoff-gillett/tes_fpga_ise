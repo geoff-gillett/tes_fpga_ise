{
 "cells": [
  {
   "cell_type": "code",
   "execution_count": 206,
   "metadata": {
    "collapsed": false,
    "scrolled": true
   },
   "outputs": [
    {
     "data": {
      "text/plain": [
       "array([(6197236422354403328, False), (1369375761697383938, False),\n",
       "       (2838630144, False), (146237277872128, False),\n",
       "       (17438046614785692417, False), (1081134386386045952, False),\n",
       "       (1152964385862337536, False), (1441262931802098176, False),\n",
       "       (1945747454129393664, False), (3170790324750580736, False),\n",
       "       (4251410148284701441, False), (5404369036588892673, False),\n",
       "       (6989682285280783617, False), (8502939039496706305, False),\n",
       "       (10448546855498338049, False), (12322109172190546690, False),\n",
       "       (14915963759624206594, False), (17510071226209487618, False),\n",
       "       (1729747304065354498, False), (4467933679104117506, False),\n",
       "       (6989957167600196866, False), (9656120033478279426, False),\n",
       "       (12538464477680607746, False), (15636969609301701890, False),\n",
       "       (433114131898482946, False), (3459547375880818946, False),\n",
       "       (6630104604065590274, False), (10016845609463581955, False),\n",
       "       (13619481224929225987, False), (17294448204271796995, False),\n",
       "       (2667057881630855683, False), (6414065966665391107, False),\n",
       "       (10305183742167310339, False), (14340413407260534275, False),\n",
       "       (18015363893962242307, False), (3604151851043557123, False),\n",
       "       (7855565293450727683, False), (12034894753490566403, False),\n",
       "       (15998034938708648963, False), (1442659324857242627, False),\n",
       "       (5261696416593822979, False), (9080726911260633091, False),\n",
       "       (12899736515156244226, False), (16214606839214882306, False),\n",
       "       (1010673296418964738, False), (3892911087926265602, False),\n",
       "       (6486913005606273794, False), (8865022512258794497, False),\n",
       "       (10882572473577411841, False), (12683973842021284865, False),\n",
       "       (14197162426499492865, False), (15998580287584227841, False),\n",
       "       (17511755677889342977, False), (434346679903652353, False),\n",
       "       (1659565468073582336, False), (2812430897822278656, False),\n",
       "       (3460882174071761408, False), (3821114069235482112, False),\n",
       "       (4181360258033589760, False), (4181331670731263232, False),\n",
       "       (4253378269652912128, False), (4253376070663211008, False),\n",
       "       (4325439162225726464, False), (4325464451009951232, False),\n",
       "       (4397563826623960832, False), (5118165055871345920, False),\n",
       "       (5478462921732746752, False), (5982878174793922304, False),\n",
       "       (6559341126254817280, False), (7135782087466374144, False),\n",
       "       (7568089168854068480, False), (7640099483925609471, False),\n",
       "       (7856492164069965055, False), (7496132725456732415, False),\n",
       "       (6775498510810173951, False), (6126930686261011455, False),\n",
       "       (5046016197855278846, False), (3893327785166883070, False),\n",
       "       (2596240514563415806, False), (794762184617265150, False),\n",
       "       (17511830431392499198, False), (15710396077633342974, False),\n",
       "       (14197195398527228414, False), (12395778636920568574, False),\n",
       "       (10810561045790649854, False), (9729469540391589631, False),\n",
       "       (8720699507492664063, False), (7856038065650159871, False),\n",
       "       (6919326726384678399, False), (6342907755388901631, False),\n",
       "       (5910591877924956415, False), (5550308305714717951, False),\n",
       "       (5190014837832721407, False), (4613557383963518463, False),\n",
       "       (4397376905201225215, False), (4109101448955320575, False),\n",
       "       (3172292253071059199, False), (2163443055351696127, False),\n",
       "       (1082832027860267518, False), (18232231549691353854, False),\n",
       "       (16935171766878587134, False), (15494002293648767486, False),\n",
       "       (14052835019358317054, False), (12467545959939019774, False),\n",
       "       (10954312295484064254, False), (9080806053951931902, False),\n",
       "       (7351440289346984702, False), (5694138715849731326, False),\n",
       "       (4325057622933091326, False), (2739796051304495102, False),\n",
       "       (1298650767263383550, False), (18231914890308930558, False),\n",
       "       (16862838195438806014, False), (15349665004223991039, False),\n",
       "       (14484741882892270335, False), (13403926350633657087, False),\n",
       "       (12899559476151220991, False), (12323116315882850047, False),\n",
       "       (11746667658073117183, False), (11242277693846494975, False),\n",
       "       (10809947522681056767, False), (10377619550572428543, False),\n",
       "       (10089405667028028415, False), (9945304772553004799, False),\n",
       "       (9657085391500796159, False), (9657097486044819199, False),\n",
       "       (9440945594685458432, False), (9440699308375814144, False),\n",
       "       (9584867273076926464, False), (9945221214098465280, False),\n",
       "       (10954083605974141952, False), (11746758922017764096, False),\n",
       "       (12755329947657314049, False), (14196526908711388161, False),\n",
       "       (15637716173217620737, False), (17295074921353085697, False),\n",
       "       (578031959016842753, False), (2451565688390009345, False),\n",
       "       (4541254607690909441, False), (6702978031235219713, False),\n",
       "       (8648533070712261633, False), (10594116697525187841, False),\n",
       "       (12755621322651152130, False), (15349757380833666818, False),\n",
       "       (18015949929214025474, False), (2668025447518229762, False),\n",
       "       (5982727550626364162, False), (9513300074445541379, False),\n",
       "       (13044137576322439683, False), (16647026075117167107, False),\n",
       "       (1731395476424960259, False), (5478391466764476931, False),\n",
       "       (9153311171368388611, False), (12540261079747910914, False),\n",
       "       (16143085806767549186, False), (506819893900379650, False),\n",
       "       (3461147165232490498, False), (6415474436581378050, False),\n",
       "       (8865398549580885762, False), (11315338055743185154, False),\n",
       "       (13909393849509743362, False), (16359601632180759297, False),\n",
       "       (18377182375580390145, False), (2020366914723365121, False),\n",
       "       (4182078243622991617, False), (5839400707925064705, False),\n",
       "       (8073192720640359937, False), (10018743362121217281, False),\n",
       "       (12108404793513979649, False), (13909839147390576641, False),\n",
       "       (16071551575818605569, False), (17800910739075662849, False),\n",
       "       (939705313975238657, False), (2669083173258425345, False),\n",
       "       (4614614023429314305, False), (5983673126079837953, False),\n",
       "       (7496846317344920321, False), (8650005312420112384, False),\n",
       "       (9802878438750207488, False), (10523410398815360512, False),\n",
       "       (11315997753911961600, False), (11820343737639906816, False),\n",
       "       (12036451648584480767, False), (11964620549596563967, False),\n",
       "       (11604289698403101183, False), (11243974240254990079, False),\n",
       "       (10667498094704888575, False), (10235137137180310271, False),\n",
       "       (9658659892051471871, False), (8938074055899769343, False),\n",
       "       (8145439421819939071, False), (7568974271319007743, False),\n",
       "       (6848388435150526463, False), (6055740606914380799, False),\n",
       "       (5335133880008187647, False), (4398337878246748670, False),\n",
       "       (3101533177920538878, False), (1660342813902679550, False),\n",
       "       (75057057279616510, False), (16864196092282645758, False),\n",
       "       (15423051907753161214, False), (13981902225699091198, False),\n",
       "       (12396642853043421950, False), (10811402172186091006, False),\n",
       "       (9658504856583400190, False), (8433527956659889406, False),\n",
       "       (7136482467582172158, False), (5839435878976049918, False),\n",
       "       (4470330596837148926, False), (3101225314631139326, False),\n",
       "       (1588009242462895870, False), (146862863171504638, False),\n",
       "       (17152192272541474814, False), (15855178669317746686, False),\n",
       "       (14702268159575520254, False), (13477292359146862846, False),\n",
       "       (12180266661311940863, False), (11171199764585257983, False),\n",
       "       (10090352346439099135, False), (9225659018792932863, False),\n",
       "       (8144768719643015166, False), (6992090202542493438, False),\n",
       "       (5695004031500984062, False), (4109685285200622846, False),\n",
       "       (2164091762833381630, False), (290571231944985598, False),\n",
       "       (16647358105533239038, False), (14773869456203929598, False),\n",
       "       (12900380806857842174, False), (11026886659987169534, False),\n",
       "       (9153398010641084926, False), (7063759668958959870, False),\n",
       "       (5622652867841605886, False), (4181542768189367806, False),\n",
       "       (2884547856680029183, False), (1803440958118242559, False),\n",
       "       (794656631618482175, False), (74075197774635263, False),\n",
       "       (17439647497391047423, False), (16431084168366447358, False),\n",
       "       (15134000196348194558, False), (13476629353584822782, False),\n",
       "       (11891324900985957118, False), (10017798868210964478, False),\n",
       "       (7928116546046939902, False), (6054615802072943614, False),\n",
       "       (4181105162494295294, False), (2163478235277834494, False),\n",
       "       (18304106624698371070, False), (16358579073045586942, False),\n",
       "       (14629219905443297022, False), (12755743350775449854, False),\n",
       "       (11170492774229578750, False), (9585231202567427326, False),\n",
       "       (7855846746281578494, False), (6342631773524299774, False),\n",
       "       (4397087729213875454, False), (2883911239430686462, False),\n",
       "       (1514854335769863422, False), (289900529952552190, False),\n",
       "       (17511396124366536190, False), (16286145450376169727, False),\n",
       "       (15205293634217054975, False), (14196497213005503743, False),\n",
       "       (13115646496358017535, False), (12178912067298014975, False),\n",
       "       (11170118944688455679, False), (10521607195249099007, False),\n",
       "       (9584855174003048191, False), (8648109749826767359, False),\n",
       "       (7855498205440795903, False), (7062897656254988543, False),\n",
       "       (6558518687144644607, False), (6054127623372839167, False),\n",
       "       (5549734360594555391, False), (5261509481950650623, False),\n",
       "       (4757099726481168127, False), (4324742067525029119, False),\n",
       "       (3748270319971107327, False), (3243855066943485951, False),\n",
       "       (2595327924341339391, False), (1874755282362727423, False),\n",
       "       (1370360920056038655, False), (721856867231635199, False),\n",
       "       (217480097144550655, False), (18303689914287641855, False),\n",
       "       (18159609910550328063, False), (18087582003343067392, False),\n",
       "       (18159374619407225344, False), (18375549600561040640, False),\n",
       "       (18375539704956387584, False), (1397479262381823, False),\n",
       "       (18375764001016757759, False), (18087483047229492991, False),\n",
       "       (17438914123219034623, False), (16862406091714279679, False),\n",
       "       (15853557993506543103, False), (14916775185901419262, False),\n",
       "       (13619995774325878270, False), (12322954683311453182, False),\n",
       "       (11025934483001116159, False), (10016865387267953663, False),\n",
       "       (9008068966073177855, False), (7927206154797783039, False),\n",
       "       (6846344443000462847, False), (5765489328306464511, False),\n",
       "       (4756692907145244415, False), (3892009475070178559, False),\n",
       "       (2955270647930110463, False), (2018538417960473087, False),\n",
       "       (1297977870559436031, False), (505355331090736895, False),\n",
       "       (18375370375770043647, False), (17726870721008929023, False),\n",
       "       (17150431958820625407, False), (16718105086206847231, False),\n",
       "       (16357827011521195775, False), (15997541240287702271, False),\n",
       "       (15565187979394850559, False), (15276934513415062783, False),\n",
       "       (14700445173624763135, False), (13835747447932090623, False),\n",
       "       (13331357483688691199, False), (12826968618923365119, False),\n",
       "       (12250527657728584447, False), (11890269374285793535, False),\n",
       "       (11530016588434695935, False), (11530047374726660096, False),\n",
       "       (11529787894311031296, False), (11601863080568561920, False),\n",
       "       (11745994761335615232, False), (11890122044106486016, False),\n",
       "       (12394513107827955968, False), (12466531119430561535, False),\n",
       "       (12394707717057594111, False), (12106430061821991167, False),\n",
       "       (11601984022452008191, False), (10953429392075938047, False),\n",
       "       (10160771668184812543, False), (9296076141481840383, False),\n",
       "       (8503450303478257663, False), (7710828863521186815, False),\n",
       "       (6990266117130448383, False), (6341755467219497471, True)], \n",
       "      dtype=[('data', '>u8'), ('last', '?')])"
      ]
     },
     "execution_count": 206,
     "metadata": {},
     "output_type": "execute_result"
    }
   ],
   "source": [
    "import sys\n",
    "import simulation.data as sim\n",
    "import simulation.plot as simplt\n",
    "import numpy as np\n",
    "import matplotlib.pyplot as plt\n",
    "from simulation.filesets import measurement_unit_TB as fileset\n",
    "\n",
    "data = sim.Data(fileset, 1, 'teslib','measurement_unit_TB')\n",
    "data.event_stream"
   ]
  },
  {
   "cell_type": "code",
   "execution_count": 209,
   "metadata": {
    "collapsed": false
   },
   "outputs": [
    {
     "data": {
      "text/plain": [
       "678"
      ]
     },
     "execution_count": 209,
     "metadata": {},
     "output_type": "execute_result"
    }
   ],
   "source": [
    "(len(data.event_stream)-5)*2"
   ]
  },
  {
   "cell_type": "code",
   "execution_count": 211,
   "metadata": {
    "collapsed": false
   },
   "outputs": [],
   "source": [
    "start=data.peak_start[0][0]\n",
    "stop=data.pulse_stop[0][0]\n",
    "f=data.trace['filtered'][start:stop+1]\n",
    "s=data.trace['slope'][start:stop+1]\n"
   ]
  },
  {
   "cell_type": "code",
   "execution_count": 115,
   "metadata": {
    "collapsed": false
   },
   "outputs": [
    {
     "data": {
      "text/plain": [
       "1400"
      ]
     },
     "execution_count": 115,
     "metadata": {},
     "output_type": "execute_result"
    }
   ],
   "source": [
    "len(data.event_stream)*8"
   ]
  },
  {
   "cell_type": "code",
   "execution_count": 212,
   "metadata": {
    "collapsed": false
   },
   "outputs": [],
   "source": [
    "es=sim.EventStream(data.event_stream)\n",
    "trace_header_dt = np.dtype(\n",
    "    ([\n",
    "            ('size',np.uint16),('tflags',np.uint8,(2,)),('dflags',np.uint8,(2,)),\n",
    "            ('time',np.uint16),('offset',np.uint16),('p_thresh',np.uint16),\n",
    "            ('s_thresh',np.uint16),('length',np.uint16),('resvd',np.uint16,(2,)),\n",
    "            ('area',np.uint32)\n",
    "     ])\n",
    ")\n",
    "trace_peak_dt = np.dtype(\n",
    "    ([\n",
    "            ('min',np.uint16),('height',np.uint16),('max',np.uint16),('time',np.uint16)\n",
    "            \n",
    "    ])\n",
    ")\n",
    "single_trace_dt = np.dtype([('trace',np.int16)])\n",
    "dual_trace_dt = np.dtype([('traces',np.int16,(2,))])\n",
    "\n",
    "\n",
    "h=es.bytestream[0:24].view(trace_header_dt)\n",
    "max_peaks=np.bitwise_and(h['tflags'][0][1],0x0F)\n",
    "p=es.bytestream[24:24+(max_peaks+1)*8].view(trace_peak_dt)\n",
    "t=es.bytestream[24+(max_peaks+1)*8:].view(dual_trace_dt)[0:h['length'][0]]\n"
   ]
  },
  {
   "cell_type": "code",
   "execution_count": 213,
   "metadata": {
    "collapsed": false
   },
   "outputs": [
    {
     "data": {
      "text/plain": [
       "<PayloadType.trace: 3>"
      ]
     },
     "execution_count": 213,
     "metadata": {},
     "output_type": "execute_result"
    }
   ],
   "source": [
    "sim.PayloadType.from_int(np.right_shift(np.bitwise_and(es.bytestream[5], 0x000C), 2))"
   ]
  },
  {
   "cell_type": "code",
   "execution_count": 214,
   "metadata": {
    "collapsed": false
   },
   "outputs": [
    {
     "data": {
      "text/plain": [
       "140"
      ]
     },
     "execution_count": 214,
     "metadata": {},
     "output_type": "execute_result"
    }
   ],
   "source": [
    "es.bytestream[5]"
   ]
  },
  {
   "cell_type": "code",
   "execution_count": 215,
   "metadata": {
    "collapsed": false
   },
   "outputs": [
    {
     "data": {
      "text/plain": [
       "peak count:1\n",
       "height_rel2min:False\n",
       "HeightType.peak_height\n",
       "TriggerType.cfd_low\n",
       "channel:7\n",
       "PayloadType.trace\n",
       "tick:False\n",
       "new_window:False"
      ]
     },
     "execution_count": 215,
     "metadata": {},
     "output_type": "execute_result"
    }
   ],
   "source": [
    "sim.EventStream.Flags(es.bytestream[4:6])"
   ]
  },
  {
   "cell_type": "code",
   "execution_count": 222,
   "metadata": {
    "collapsed": false
   },
   "outputs": [
    {
     "data": {
      "text/plain": [
       "array([(342, [1, 177], [23, 140], 0, 275, 0, 0, 678, [0, 0], 996009)], \n",
       "      dtype=[('size', '<u2'), ('tflags', 'u1', (2,)), ('dflags', 'u1', (2,)), ('time', '<u2'), ('offset', '<u2'), ('p_thresh', '<u2'), ('s_thresh', '<u2'), ('length', '<u2'), ('resvd', '<u2', (2,)), ('area', '<u4')])"
      ]
     },
     "execution_count": 222,
     "metadata": {},
     "output_type": "execute_result"
    }
   ],
   "source": [
    "trace_header_dt = np.dtype(\n",
    "    ([\n",
    "            ('size',np.uint16),('tflags',np.uint8,(2,)),('dflags',np.uint8,(2,)),\n",
    "            ('time',np.uint16),('offset',np.uint16),('p_thresh',np.uint16),\n",
    "            ('s_thresh',np.uint16),('length',np.uint16),('resvd',np.uint16,(2,)),\n",
    "            ('area',np.uint32)\n",
    "     ])\n",
    ")\n",
    "trace_peak_dt = np.dtype(\n",
    "    ([\n",
    "            ('min',np.uint16),('height',np.uint16),('max',np.uint16),('time',np.uint16)\n",
    "            \n",
    "    ])\n",
    ")\n",
    "trace_dt = np.dtype(\n",
    "    [('header',trace_header_dt),('peaks',trace_peak_dt,(1,)),('data',np.uint16,(600,))]\n",
    ")\n",
    "\n",
    "h=es.bytestream[0:24].view(trace_header_dt)\n",
    "max_peaks=np.bitwise_and(h['tflags'][0][1],0x0F)\n",
    "p=es.bytestream[24:24+(max_peaks+1)*8].view(trace_peak_dt)\n",
    "t=es.bytestream[24+(max_peaks+1)*8:].view(np.int16)\n",
    "h"
   ]
  },
  {
   "cell_type": "code",
   "execution_count": 217,
   "metadata": {
    "collapsed": false
   },
   "outputs": [
    {
     "data": {
      "text/plain": [
       "array([(0, 133, 133, 32), (242, 355, 355, 275)], \n",
       "      dtype=[('min', '<u2'), ('height', '<u2'), ('max', '<u2'), ('time', '<u2')])"
      ]
     },
     "execution_count": 217,
     "metadata": {},
     "output_type": "execute_result"
    }
   ],
   "source": [
    "p"
   ]
  },
  {
   "cell_type": "code",
   "execution_count": 223,
   "metadata": {
    "collapsed": false
   },
   "outputs": [
    {
     "data": {
      "text/plain": [
       "1356"
      ]
     },
     "execution_count": 223,
     "metadata": {},
     "output_type": "execute_result"
    }
   ],
   "source": [
    "len(t)"
   ]
  },
  {
   "cell_type": "code",
   "execution_count": 238,
   "metadata": {
    "collapsed": false
   },
   "outputs": [],
   "source": [
    "t.shape=(-1,2)"
   ]
  },
  {
   "cell_type": "code",
   "execution_count": 247,
   "metadata": {
    "collapsed": false
   },
   "outputs": [
    {
     "data": {
      "text/plain": [
       "(array([], dtype=int64),)"
      ]
     },
     "execution_count": 247,
     "metadata": {},
     "output_type": "execute_result"
    }
   ],
   "source": [
    "(t[:,0]-f).nonzero()\n"
   ]
  },
  {
   "cell_type": "code",
   "execution_count": 248,
   "metadata": {
    "collapsed": false
   },
   "outputs": [
    {
     "data": {
      "text/plain": [
       "(array([], dtype=int64),)"
      ]
     },
     "execution_count": 248,
     "metadata": {},
     "output_type": "execute_result"
    }
   ],
   "source": [
    "(t[:,1]-s).nonzero()"
   ]
  },
  {
   "cell_type": "code",
   "execution_count": 255,
   "metadata": {
    "collapsed": false
   },
   "outputs": [
    {
     "data": {
      "application/javascript": [
       "/* Put everything inside the global mpl namespace */\n",
       "window.mpl = {};\n",
       "\n",
       "mpl.get_websocket_type = function() {\n",
       "    if (typeof(WebSocket) !== 'undefined') {\n",
       "        return WebSocket;\n",
       "    } else if (typeof(MozWebSocket) !== 'undefined') {\n",
       "        return MozWebSocket;\n",
       "    } else {\n",
       "        alert('Your browser does not have WebSocket support.' +\n",
       "              'Please try Chrome, Safari or Firefox ≥ 6. ' +\n",
       "              'Firefox 4 and 5 are also supported but you ' +\n",
       "              'have to enable WebSockets in about:config.');\n",
       "    };\n",
       "}\n",
       "\n",
       "mpl.figure = function(figure_id, websocket, ondownload, parent_element) {\n",
       "    this.id = figure_id;\n",
       "\n",
       "    this.ws = websocket;\n",
       "\n",
       "    this.supports_binary = (this.ws.binaryType != undefined);\n",
       "\n",
       "    if (!this.supports_binary) {\n",
       "        var warnings = document.getElementById(\"mpl-warnings\");\n",
       "        if (warnings) {\n",
       "            warnings.style.display = 'block';\n",
       "            warnings.textContent = (\n",
       "                \"This browser does not support binary websocket messages. \" +\n",
       "                    \"Performance may be slow.\");\n",
       "        }\n",
       "    }\n",
       "\n",
       "    this.imageObj = new Image();\n",
       "\n",
       "    this.context = undefined;\n",
       "    this.message = undefined;\n",
       "    this.canvas = undefined;\n",
       "    this.rubberband_canvas = undefined;\n",
       "    this.rubberband_context = undefined;\n",
       "    this.format_dropdown = undefined;\n",
       "\n",
       "    this.image_mode = 'full';\n",
       "\n",
       "    this.root = $('<div/>');\n",
       "    this._root_extra_style(this.root)\n",
       "    this.root.attr('style', 'display: inline-block');\n",
       "\n",
       "    $(parent_element).append(this.root);\n",
       "\n",
       "    this._init_header(this);\n",
       "    this._init_canvas(this);\n",
       "    this._init_toolbar(this);\n",
       "\n",
       "    var fig = this;\n",
       "\n",
       "    this.waiting = false;\n",
       "\n",
       "    this.ws.onopen =  function () {\n",
       "            fig.send_message(\"supports_binary\", {value: fig.supports_binary});\n",
       "            fig.send_message(\"send_image_mode\", {});\n",
       "            fig.send_message(\"refresh\", {});\n",
       "        }\n",
       "\n",
       "    this.imageObj.onload = function() {\n",
       "            if (fig.image_mode == 'full') {\n",
       "                // Full images could contain transparency (where diff images\n",
       "                // almost always do), so we need to clear the canvas so that\n",
       "                // there is no ghosting.\n",
       "                fig.context.clearRect(0, 0, fig.canvas.width, fig.canvas.height);\n",
       "            }\n",
       "            fig.context.drawImage(fig.imageObj, 0, 0);\n",
       "        };\n",
       "\n",
       "    this.imageObj.onunload = function() {\n",
       "        this.ws.close();\n",
       "    }\n",
       "\n",
       "    this.ws.onmessage = this._make_on_message_function(this);\n",
       "\n",
       "    this.ondownload = ondownload;\n",
       "}\n",
       "\n",
       "mpl.figure.prototype._init_header = function() {\n",
       "    var titlebar = $(\n",
       "        '<div class=\"ui-dialog-titlebar ui-widget-header ui-corner-all ' +\n",
       "        'ui-helper-clearfix\"/>');\n",
       "    var titletext = $(\n",
       "        '<div class=\"ui-dialog-title\" style=\"width: 100%; ' +\n",
       "        'text-align: center; padding: 3px;\"/>');\n",
       "    titlebar.append(titletext)\n",
       "    this.root.append(titlebar);\n",
       "    this.header = titletext[0];\n",
       "}\n",
       "\n",
       "\n",
       "\n",
       "mpl.figure.prototype._canvas_extra_style = function(canvas_div) {\n",
       "\n",
       "}\n",
       "\n",
       "\n",
       "mpl.figure.prototype._root_extra_style = function(canvas_div) {\n",
       "\n",
       "}\n",
       "\n",
       "mpl.figure.prototype._init_canvas = function() {\n",
       "    var fig = this;\n",
       "\n",
       "    var canvas_div = $('<div/>');\n",
       "\n",
       "    canvas_div.attr('style', 'position: relative; clear: both; outline: 0');\n",
       "\n",
       "    function canvas_keyboard_event(event) {\n",
       "        return fig.key_event(event, event['data']);\n",
       "    }\n",
       "\n",
       "    canvas_div.keydown('key_press', canvas_keyboard_event);\n",
       "    canvas_div.keyup('key_release', canvas_keyboard_event);\n",
       "    this.canvas_div = canvas_div\n",
       "    this._canvas_extra_style(canvas_div)\n",
       "    this.root.append(canvas_div);\n",
       "\n",
       "    var canvas = $('<canvas/>');\n",
       "    canvas.addClass('mpl-canvas');\n",
       "    canvas.attr('style', \"left: 0; top: 0; z-index: 0; outline: 0\")\n",
       "\n",
       "    this.canvas = canvas[0];\n",
       "    this.context = canvas[0].getContext(\"2d\");\n",
       "\n",
       "    var rubberband = $('<canvas/>');\n",
       "    rubberband.attr('style', \"position: absolute; left: 0; top: 0; z-index: 1;\")\n",
       "\n",
       "    var pass_mouse_events = true;\n",
       "\n",
       "    canvas_div.resizable({\n",
       "        start: function(event, ui) {\n",
       "            pass_mouse_events = false;\n",
       "        },\n",
       "        resize: function(event, ui) {\n",
       "            fig.request_resize(ui.size.width, ui.size.height);\n",
       "        },\n",
       "        stop: function(event, ui) {\n",
       "            pass_mouse_events = true;\n",
       "            fig.request_resize(ui.size.width, ui.size.height);\n",
       "        },\n",
       "    });\n",
       "\n",
       "    function mouse_event_fn(event) {\n",
       "        if (pass_mouse_events)\n",
       "            return fig.mouse_event(event, event['data']);\n",
       "    }\n",
       "\n",
       "    rubberband.mousedown('button_press', mouse_event_fn);\n",
       "    rubberband.mouseup('button_release', mouse_event_fn);\n",
       "    // Throttle sequential mouse events to 1 every 20ms.\n",
       "    rubberband.mousemove('motion_notify', mouse_event_fn);\n",
       "\n",
       "    rubberband.mouseenter('figure_enter', mouse_event_fn);\n",
       "    rubberband.mouseleave('figure_leave', mouse_event_fn);\n",
       "\n",
       "    canvas_div.on(\"wheel\", function (event) {\n",
       "        event = event.originalEvent;\n",
       "        event['data'] = 'scroll'\n",
       "        if (event.deltaY < 0) {\n",
       "            event.step = 1;\n",
       "        } else {\n",
       "            event.step = -1;\n",
       "        }\n",
       "        mouse_event_fn(event);\n",
       "    });\n",
       "\n",
       "    canvas_div.append(canvas);\n",
       "    canvas_div.append(rubberband);\n",
       "\n",
       "    this.rubberband = rubberband;\n",
       "    this.rubberband_canvas = rubberband[0];\n",
       "    this.rubberband_context = rubberband[0].getContext(\"2d\");\n",
       "    this.rubberband_context.strokeStyle = \"#000000\";\n",
       "\n",
       "    this._resize_canvas = function(width, height) {\n",
       "        // Keep the size of the canvas, canvas container, and rubber band\n",
       "        // canvas in synch.\n",
       "        canvas_div.css('width', width)\n",
       "        canvas_div.css('height', height)\n",
       "\n",
       "        canvas.attr('width', width);\n",
       "        canvas.attr('height', height);\n",
       "\n",
       "        rubberband.attr('width', width);\n",
       "        rubberband.attr('height', height);\n",
       "    }\n",
       "\n",
       "    // Set the figure to an initial 600x600px, this will subsequently be updated\n",
       "    // upon first draw.\n",
       "    this._resize_canvas(600, 600);\n",
       "\n",
       "    // Disable right mouse context menu.\n",
       "    $(this.rubberband_canvas).bind(\"contextmenu\",function(e){\n",
       "        return false;\n",
       "    });\n",
       "\n",
       "    function set_focus () {\n",
       "        canvas.focus();\n",
       "        canvas_div.focus();\n",
       "    }\n",
       "\n",
       "    window.setTimeout(set_focus, 100);\n",
       "}\n",
       "\n",
       "mpl.figure.prototype._init_toolbar = function() {\n",
       "    var fig = this;\n",
       "\n",
       "    var nav_element = $('<div/>')\n",
       "    nav_element.attr('style', 'width: 100%');\n",
       "    this.root.append(nav_element);\n",
       "\n",
       "    // Define a callback function for later on.\n",
       "    function toolbar_event(event) {\n",
       "        return fig.toolbar_button_onclick(event['data']);\n",
       "    }\n",
       "    function toolbar_mouse_event(event) {\n",
       "        return fig.toolbar_button_onmouseover(event['data']);\n",
       "    }\n",
       "\n",
       "    for(var toolbar_ind in mpl.toolbar_items) {\n",
       "        var name = mpl.toolbar_items[toolbar_ind][0];\n",
       "        var tooltip = mpl.toolbar_items[toolbar_ind][1];\n",
       "        var image = mpl.toolbar_items[toolbar_ind][2];\n",
       "        var method_name = mpl.toolbar_items[toolbar_ind][3];\n",
       "\n",
       "        if (!name) {\n",
       "            // put a spacer in here.\n",
       "            continue;\n",
       "        }\n",
       "        var button = $('<button/>');\n",
       "        button.addClass('ui-button ui-widget ui-state-default ui-corner-all ' +\n",
       "                        'ui-button-icon-only');\n",
       "        button.attr('role', 'button');\n",
       "        button.attr('aria-disabled', 'false');\n",
       "        button.click(method_name, toolbar_event);\n",
       "        button.mouseover(tooltip, toolbar_mouse_event);\n",
       "\n",
       "        var icon_img = $('<span/>');\n",
       "        icon_img.addClass('ui-button-icon-primary ui-icon');\n",
       "        icon_img.addClass(image);\n",
       "        icon_img.addClass('ui-corner-all');\n",
       "\n",
       "        var tooltip_span = $('<span/>');\n",
       "        tooltip_span.addClass('ui-button-text');\n",
       "        tooltip_span.html(tooltip);\n",
       "\n",
       "        button.append(icon_img);\n",
       "        button.append(tooltip_span);\n",
       "\n",
       "        nav_element.append(button);\n",
       "    }\n",
       "\n",
       "    var fmt_picker_span = $('<span/>');\n",
       "\n",
       "    var fmt_picker = $('<select/>');\n",
       "    fmt_picker.addClass('mpl-toolbar-option ui-widget ui-widget-content');\n",
       "    fmt_picker_span.append(fmt_picker);\n",
       "    nav_element.append(fmt_picker_span);\n",
       "    this.format_dropdown = fmt_picker[0];\n",
       "\n",
       "    for (var ind in mpl.extensions) {\n",
       "        var fmt = mpl.extensions[ind];\n",
       "        var option = $(\n",
       "            '<option/>', {selected: fmt === mpl.default_extension}).html(fmt);\n",
       "        fmt_picker.append(option)\n",
       "    }\n",
       "\n",
       "    // Add hover states to the ui-buttons\n",
       "    $( \".ui-button\" ).hover(\n",
       "        function() { $(this).addClass(\"ui-state-hover\");},\n",
       "        function() { $(this).removeClass(\"ui-state-hover\");}\n",
       "    );\n",
       "\n",
       "    var status_bar = $('<span class=\"mpl-message\"/>');\n",
       "    nav_element.append(status_bar);\n",
       "    this.message = status_bar[0];\n",
       "}\n",
       "\n",
       "mpl.figure.prototype.request_resize = function(x_pixels, y_pixels) {\n",
       "    // Request matplotlib to resize the figure. Matplotlib will then trigger a resize in the client,\n",
       "    // which will in turn request a refresh of the image.\n",
       "    this.send_message('resize', {'width': x_pixels, 'height': y_pixels});\n",
       "}\n",
       "\n",
       "mpl.figure.prototype.send_message = function(type, properties) {\n",
       "    properties['type'] = type;\n",
       "    properties['figure_id'] = this.id;\n",
       "    this.ws.send(JSON.stringify(properties));\n",
       "}\n",
       "\n",
       "mpl.figure.prototype.send_draw_message = function() {\n",
       "    if (!this.waiting) {\n",
       "        this.waiting = true;\n",
       "        this.ws.send(JSON.stringify({type: \"draw\", figure_id: this.id}));\n",
       "    }\n",
       "}\n",
       "\n",
       "\n",
       "mpl.figure.prototype.handle_save = function(fig, msg) {\n",
       "    var format_dropdown = fig.format_dropdown;\n",
       "    var format = format_dropdown.options[format_dropdown.selectedIndex].value;\n",
       "    fig.ondownload(fig, format);\n",
       "}\n",
       "\n",
       "\n",
       "mpl.figure.prototype.handle_resize = function(fig, msg) {\n",
       "    var size = msg['size'];\n",
       "    if (size[0] != fig.canvas.width || size[1] != fig.canvas.height) {\n",
       "        fig._resize_canvas(size[0], size[1]);\n",
       "        fig.send_message(\"refresh\", {});\n",
       "    };\n",
       "}\n",
       "\n",
       "mpl.figure.prototype.handle_rubberband = function(fig, msg) {\n",
       "    var x0 = msg['x0'];\n",
       "    var y0 = fig.canvas.height - msg['y0'];\n",
       "    var x1 = msg['x1'];\n",
       "    var y1 = fig.canvas.height - msg['y1'];\n",
       "    x0 = Math.floor(x0) + 0.5;\n",
       "    y0 = Math.floor(y0) + 0.5;\n",
       "    x1 = Math.floor(x1) + 0.5;\n",
       "    y1 = Math.floor(y1) + 0.5;\n",
       "    var min_x = Math.min(x0, x1);\n",
       "    var min_y = Math.min(y0, y1);\n",
       "    var width = Math.abs(x1 - x0);\n",
       "    var height = Math.abs(y1 - y0);\n",
       "\n",
       "    fig.rubberband_context.clearRect(\n",
       "        0, 0, fig.canvas.width, fig.canvas.height);\n",
       "\n",
       "    fig.rubberband_context.strokeRect(min_x, min_y, width, height);\n",
       "}\n",
       "\n",
       "mpl.figure.prototype.handle_figure_label = function(fig, msg) {\n",
       "    // Updates the figure title.\n",
       "    fig.header.textContent = msg['label'];\n",
       "}\n",
       "\n",
       "mpl.figure.prototype.handle_cursor = function(fig, msg) {\n",
       "    var cursor = msg['cursor'];\n",
       "    switch(cursor)\n",
       "    {\n",
       "    case 0:\n",
       "        cursor = 'pointer';\n",
       "        break;\n",
       "    case 1:\n",
       "        cursor = 'default';\n",
       "        break;\n",
       "    case 2:\n",
       "        cursor = 'crosshair';\n",
       "        break;\n",
       "    case 3:\n",
       "        cursor = 'move';\n",
       "        break;\n",
       "    }\n",
       "    fig.rubberband_canvas.style.cursor = cursor;\n",
       "}\n",
       "\n",
       "mpl.figure.prototype.handle_message = function(fig, msg) {\n",
       "    fig.message.textContent = msg['message'];\n",
       "}\n",
       "\n",
       "mpl.figure.prototype.handle_draw = function(fig, msg) {\n",
       "    // Request the server to send over a new figure.\n",
       "    fig.send_draw_message();\n",
       "}\n",
       "\n",
       "mpl.figure.prototype.handle_image_mode = function(fig, msg) {\n",
       "    fig.image_mode = msg['mode'];\n",
       "}\n",
       "\n",
       "mpl.figure.prototype.updated_canvas_event = function() {\n",
       "    // Called whenever the canvas gets updated.\n",
       "    this.send_message(\"ack\", {});\n",
       "}\n",
       "\n",
       "// A function to construct a web socket function for onmessage handling.\n",
       "// Called in the figure constructor.\n",
       "mpl.figure.prototype._make_on_message_function = function(fig) {\n",
       "    return function socket_on_message(evt) {\n",
       "        if (evt.data instanceof Blob) {\n",
       "            /* FIXME: We get \"Resource interpreted as Image but\n",
       "             * transferred with MIME type text/plain:\" errors on\n",
       "             * Chrome.  But how to set the MIME type?  It doesn't seem\n",
       "             * to be part of the websocket stream */\n",
       "            evt.data.type = \"image/png\";\n",
       "\n",
       "            /* Free the memory for the previous frames */\n",
       "            if (fig.imageObj.src) {\n",
       "                (window.URL || window.webkitURL).revokeObjectURL(\n",
       "                    fig.imageObj.src);\n",
       "            }\n",
       "\n",
       "            fig.imageObj.src = (window.URL || window.webkitURL).createObjectURL(\n",
       "                evt.data);\n",
       "            fig.updated_canvas_event();\n",
       "            fig.waiting = false;\n",
       "            return;\n",
       "        }\n",
       "        else if (typeof evt.data === 'string' && evt.data.slice(0, 21) == \"data:image/png;base64\") {\n",
       "            fig.imageObj.src = evt.data;\n",
       "            fig.updated_canvas_event();\n",
       "            fig.waiting = false;\n",
       "            return;\n",
       "        }\n",
       "\n",
       "        var msg = JSON.parse(evt.data);\n",
       "        var msg_type = msg['type'];\n",
       "\n",
       "        // Call the  \"handle_{type}\" callback, which takes\n",
       "        // the figure and JSON message as its only arguments.\n",
       "        try {\n",
       "            var callback = fig[\"handle_\" + msg_type];\n",
       "        } catch (e) {\n",
       "            console.log(\"No handler for the '\" + msg_type + \"' message type: \", msg);\n",
       "            return;\n",
       "        }\n",
       "\n",
       "        if (callback) {\n",
       "            try {\n",
       "                // console.log(\"Handling '\" + msg_type + \"' message: \", msg);\n",
       "                callback(fig, msg);\n",
       "            } catch (e) {\n",
       "                console.log(\"Exception inside the 'handler_\" + msg_type + \"' callback:\", e, e.stack, msg);\n",
       "            }\n",
       "        }\n",
       "    };\n",
       "}\n",
       "\n",
       "// from http://stackoverflow.com/questions/1114465/getting-mouse-location-in-canvas\n",
       "mpl.findpos = function(e) {\n",
       "    //this section is from http://www.quirksmode.org/js/events_properties.html\n",
       "    var targ;\n",
       "    if (!e)\n",
       "        e = window.event;\n",
       "    if (e.target)\n",
       "        targ = e.target;\n",
       "    else if (e.srcElement)\n",
       "        targ = e.srcElement;\n",
       "    if (targ.nodeType == 3) // defeat Safari bug\n",
       "        targ = targ.parentNode;\n",
       "\n",
       "    // jQuery normalizes the pageX and pageY\n",
       "    // pageX,Y are the mouse positions relative to the document\n",
       "    // offset() returns the position of the element relative to the document\n",
       "    var x = e.pageX - $(targ).offset().left;\n",
       "    var y = e.pageY - $(targ).offset().top;\n",
       "\n",
       "    return {\"x\": x, \"y\": y};\n",
       "};\n",
       "\n",
       "/*\n",
       " * return a copy of an object with only non-object keys\n",
       " * we need this to avoid circular references\n",
       " * http://stackoverflow.com/a/24161582/3208463\n",
       " */\n",
       "function simpleKeys (original) {\n",
       "  return Object.keys(original).reduce(function (obj, key) {\n",
       "    if (typeof original[key] !== 'object')\n",
       "        obj[key] = original[key]\n",
       "    return obj;\n",
       "  }, {});\n",
       "}\n",
       "\n",
       "mpl.figure.prototype.mouse_event = function(event, name) {\n",
       "    var canvas_pos = mpl.findpos(event)\n",
       "\n",
       "    if (name === 'button_press')\n",
       "    {\n",
       "        this.canvas.focus();\n",
       "        this.canvas_div.focus();\n",
       "    }\n",
       "\n",
       "    var x = canvas_pos.x;\n",
       "    var y = canvas_pos.y;\n",
       "\n",
       "    this.send_message(name, {x: x, y: y, button: event.button,\n",
       "                             step: event.step,\n",
       "                             guiEvent: simpleKeys(event)});\n",
       "\n",
       "    /* This prevents the web browser from automatically changing to\n",
       "     * the text insertion cursor when the button is pressed.  We want\n",
       "     * to control all of the cursor setting manually through the\n",
       "     * 'cursor' event from matplotlib */\n",
       "    event.preventDefault();\n",
       "    return false;\n",
       "}\n",
       "\n",
       "mpl.figure.prototype._key_event_extra = function(event, name) {\n",
       "    // Handle any extra behaviour associated with a key event\n",
       "}\n",
       "\n",
       "mpl.figure.prototype.key_event = function(event, name) {\n",
       "\n",
       "    // Prevent repeat events\n",
       "    if (name == 'key_press')\n",
       "    {\n",
       "        if (event.which === this._key)\n",
       "            return;\n",
       "        else\n",
       "            this._key = event.which;\n",
       "    }\n",
       "    if (name == 'key_release')\n",
       "        this._key = null;\n",
       "\n",
       "    var value = '';\n",
       "    if (event.ctrlKey && event.which != 17)\n",
       "        value += \"ctrl+\";\n",
       "    if (event.altKey && event.which != 18)\n",
       "        value += \"alt+\";\n",
       "    if (event.shiftKey && event.which != 16)\n",
       "        value += \"shift+\";\n",
       "\n",
       "    value += 'k';\n",
       "    value += event.which.toString();\n",
       "\n",
       "    this._key_event_extra(event, name);\n",
       "\n",
       "    this.send_message(name, {key: value,\n",
       "                             guiEvent: simpleKeys(event)});\n",
       "    return false;\n",
       "}\n",
       "\n",
       "mpl.figure.prototype.toolbar_button_onclick = function(name) {\n",
       "    if (name == 'download') {\n",
       "        this.handle_save(this, null);\n",
       "    } else {\n",
       "        this.send_message(\"toolbar_button\", {name: name});\n",
       "    }\n",
       "};\n",
       "\n",
       "mpl.figure.prototype.toolbar_button_onmouseover = function(tooltip) {\n",
       "    this.message.textContent = tooltip;\n",
       "};\n",
       "mpl.toolbar_items = [[\"Home\", \"Reset original view\", \"fa fa-home icon-home\", \"home\"], [\"Back\", \"Back to  previous view\", \"fa fa-arrow-left icon-arrow-left\", \"back\"], [\"Forward\", \"Forward to next view\", \"fa fa-arrow-right icon-arrow-right\", \"forward\"], [\"\", \"\", \"\", \"\"], [\"Pan\", \"Pan axes with left mouse, zoom with right\", \"fa fa-arrows icon-move\", \"pan\"], [\"Zoom\", \"Zoom to rectangle\", \"fa fa-square-o icon-check-empty\", \"zoom\"], [\"\", \"\", \"\", \"\"], [\"Download\", \"Download plot\", \"fa fa-floppy-o icon-save\", \"download\"]];\n",
       "\n",
       "mpl.extensions = [\"eps\", \"jpeg\", \"pdf\", \"png\", \"ps\", \"raw\", \"svg\", \"tif\"];\n",
       "\n",
       "mpl.default_extension = \"png\";var comm_websocket_adapter = function(comm) {\n",
       "    // Create a \"websocket\"-like object which calls the given IPython comm\n",
       "    // object with the appropriate methods. Currently this is a non binary\n",
       "    // socket, so there is still some room for performance tuning.\n",
       "    var ws = {};\n",
       "\n",
       "    ws.close = function() {\n",
       "        comm.close()\n",
       "    };\n",
       "    ws.send = function(m) {\n",
       "        //console.log('sending', m);\n",
       "        comm.send(m);\n",
       "    };\n",
       "    // Register the callback with on_msg.\n",
       "    comm.on_msg(function(msg) {\n",
       "        //console.log('receiving', msg['content']['data'], msg);\n",
       "        // Pass the mpl event to the overriden (by mpl) onmessage function.\n",
       "        ws.onmessage(msg['content']['data'])\n",
       "    });\n",
       "    return ws;\n",
       "}\n",
       "\n",
       "mpl.mpl_figure_comm = function(comm, msg) {\n",
       "    // This is the function which gets called when the mpl process\n",
       "    // starts-up an IPython Comm through the \"matplotlib\" channel.\n",
       "\n",
       "    var id = msg.content.data.id;\n",
       "    // Get hold of the div created by the display call when the Comm\n",
       "    // socket was opened in Python.\n",
       "    var element = $(\"#\" + id);\n",
       "    var ws_proxy = comm_websocket_adapter(comm)\n",
       "\n",
       "    function ondownload(figure, format) {\n",
       "        window.open(figure.imageObj.src);\n",
       "    }\n",
       "\n",
       "    var fig = new mpl.figure(id, ws_proxy,\n",
       "                           ondownload,\n",
       "                           element.get(0));\n",
       "\n",
       "    // Call onopen now - mpl needs it, as it is assuming we've passed it a real\n",
       "    // web socket which is closed, not our websocket->open comm proxy.\n",
       "    ws_proxy.onopen();\n",
       "\n",
       "    fig.parent_element = element.get(0);\n",
       "    fig.cell_info = mpl.find_output_cell(\"<div id='\" + id + \"'></div>\");\n",
       "    if (!fig.cell_info) {\n",
       "        console.error(\"Failed to find cell for figure\", id, fig);\n",
       "        return;\n",
       "    }\n",
       "\n",
       "    var output_index = fig.cell_info[2]\n",
       "    var cell = fig.cell_info[0];\n",
       "\n",
       "};\n",
       "\n",
       "mpl.figure.prototype.handle_close = function(fig, msg) {\n",
       "    fig.root.unbind('remove')\n",
       "\n",
       "    // Update the output cell to use the data from the current canvas.\n",
       "    fig.push_to_output();\n",
       "    var dataURL = fig.canvas.toDataURL();\n",
       "    // Re-enable the keyboard manager in IPython - without this line, in FF,\n",
       "    // the notebook keyboard shortcuts fail.\n",
       "    IPython.keyboard_manager.enable()\n",
       "    $(fig.parent_element).html('<img src=\"' + dataURL + '\">');\n",
       "    fig.close_ws(fig, msg);\n",
       "}\n",
       "\n",
       "mpl.figure.prototype.close_ws = function(fig, msg){\n",
       "    fig.send_message('closing', msg);\n",
       "    // fig.ws.close()\n",
       "}\n",
       "\n",
       "mpl.figure.prototype.push_to_output = function(remove_interactive) {\n",
       "    // Turn the data on the canvas into data in the output cell.\n",
       "    var dataURL = this.canvas.toDataURL();\n",
       "    this.cell_info[1]['text/html'] = '<img src=\"' + dataURL + '\">';\n",
       "}\n",
       "\n",
       "mpl.figure.prototype.updated_canvas_event = function() {\n",
       "    // Tell IPython that the notebook contents must change.\n",
       "    IPython.notebook.set_dirty(true);\n",
       "    this.send_message(\"ack\", {});\n",
       "    var fig = this;\n",
       "    // Wait a second, then push the new image to the DOM so\n",
       "    // that it is saved nicely (might be nice to debounce this).\n",
       "    setTimeout(function () { fig.push_to_output() }, 1000);\n",
       "}\n",
       "\n",
       "mpl.figure.prototype._init_toolbar = function() {\n",
       "    var fig = this;\n",
       "\n",
       "    var nav_element = $('<div/>')\n",
       "    nav_element.attr('style', 'width: 100%');\n",
       "    this.root.append(nav_element);\n",
       "\n",
       "    // Define a callback function for later on.\n",
       "    function toolbar_event(event) {\n",
       "        return fig.toolbar_button_onclick(event['data']);\n",
       "    }\n",
       "    function toolbar_mouse_event(event) {\n",
       "        return fig.toolbar_button_onmouseover(event['data']);\n",
       "    }\n",
       "\n",
       "    for(var toolbar_ind in mpl.toolbar_items){\n",
       "        var name = mpl.toolbar_items[toolbar_ind][0];\n",
       "        var tooltip = mpl.toolbar_items[toolbar_ind][1];\n",
       "        var image = mpl.toolbar_items[toolbar_ind][2];\n",
       "        var method_name = mpl.toolbar_items[toolbar_ind][3];\n",
       "\n",
       "        if (!name) { continue; };\n",
       "\n",
       "        var button = $('<button class=\"btn btn-default\" href=\"#\" title=\"' + name + '\"><i class=\"fa ' + image + ' fa-lg\"></i></button>');\n",
       "        button.click(method_name, toolbar_event);\n",
       "        button.mouseover(tooltip, toolbar_mouse_event);\n",
       "        nav_element.append(button);\n",
       "    }\n",
       "\n",
       "    // Add the status bar.\n",
       "    var status_bar = $('<span class=\"mpl-message\" style=\"text-align:right; float: right;\"/>');\n",
       "    nav_element.append(status_bar);\n",
       "    this.message = status_bar[0];\n",
       "\n",
       "    // Add the close button to the window.\n",
       "    var buttongrp = $('<div class=\"btn-group inline pull-right\"></div>');\n",
       "    var button = $('<button class=\"btn btn-mini btn-primary\" href=\"#\" title=\"Stop Interaction\"><i class=\"fa fa-power-off icon-remove icon-large\"></i></button>');\n",
       "    button.click(function (evt) { fig.handle_close(fig, {}); } );\n",
       "    button.mouseover('Stop Interaction', toolbar_mouse_event);\n",
       "    buttongrp.append(button);\n",
       "    var titlebar = this.root.find($('.ui-dialog-titlebar'));\n",
       "    titlebar.prepend(buttongrp);\n",
       "}\n",
       "\n",
       "mpl.figure.prototype._root_extra_style = function(el){\n",
       "    var fig = this\n",
       "    el.on(\"remove\", function(){\n",
       "\tfig.close_ws(fig, {});\n",
       "    });\n",
       "}\n",
       "\n",
       "mpl.figure.prototype._canvas_extra_style = function(el){\n",
       "    // this is important to make the div 'focusable\n",
       "    el.attr('tabindex', 0)\n",
       "    // reach out to IPython and tell the keyboard manager to turn it's self\n",
       "    // off when our div gets focus\n",
       "\n",
       "    // location in version 3\n",
       "    if (IPython.notebook.keyboard_manager) {\n",
       "        IPython.notebook.keyboard_manager.register_events(el);\n",
       "    }\n",
       "    else {\n",
       "        // location in version 2\n",
       "        IPython.keyboard_manager.register_events(el);\n",
       "    }\n",
       "\n",
       "}\n",
       "\n",
       "mpl.figure.prototype._key_event_extra = function(event, name) {\n",
       "    var manager = IPython.notebook.keyboard_manager;\n",
       "    if (!manager)\n",
       "        manager = IPython.keyboard_manager;\n",
       "\n",
       "    // Check for shift+enter\n",
       "    if (event.shiftKey && event.which == 13) {\n",
       "        this.canvas_div.blur();\n",
       "        event.shiftKey = false;\n",
       "        // Send a \"J\" for go to next cell\n",
       "        event.which = 74;\n",
       "        event.keyCode = 74;\n",
       "        manager.command_mode();\n",
       "        manager.handle_keydown(event);\n",
       "    }\n",
       "}\n",
       "\n",
       "mpl.figure.prototype.handle_save = function(fig, msg) {\n",
       "    fig.ondownload(fig, null);\n",
       "}\n",
       "\n",
       "\n",
       "mpl.find_output_cell = function(html_output) {\n",
       "    // Return the cell and output element which can be found *uniquely* in the notebook.\n",
       "    // Note - this is a bit hacky, but it is done because the \"notebook_saving.Notebook\"\n",
       "    // IPython event is triggered only after the cells have been serialised, which for\n",
       "    // our purposes (turning an active figure into a static one), is too late.\n",
       "    var cells = IPython.notebook.get_cells();\n",
       "    var ncells = cells.length;\n",
       "    for (var i=0; i<ncells; i++) {\n",
       "        var cell = cells[i];\n",
       "        if (cell.cell_type === 'code'){\n",
       "            for (var j=0; j<cell.output_area.outputs.length; j++) {\n",
       "                var data = cell.output_area.outputs[j];\n",
       "                if (data.data) {\n",
       "                    // IPython >= 3 moved mimebundle to data attribute of output\n",
       "                    data = data.data;\n",
       "                }\n",
       "                if (data['text/html'] == html_output) {\n",
       "                    return [cell, data, j];\n",
       "                }\n",
       "            }\n",
       "        }\n",
       "    }\n",
       "}\n",
       "\n",
       "// Register the function which deals with the matplotlib target/channel.\n",
       "// The kernel may be null if the page has been refreshed.\n",
       "if (IPython.notebook.kernel != null) {\n",
       "    IPython.notebook.kernel.comm_manager.register_target('matplotlib', mpl.mpl_figure_comm);\n",
       "}\n"
      ],
      "text/plain": [
       "<IPython.core.display.Javascript object>"
      ]
     },
     "metadata": {},
     "output_type": "display_data"
    },
    {
     "data": {
      "text/html": [
       "<img src=\"data:image/png;base64,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\">"
      ],
      "text/plain": [
       "<IPython.core.display.HTML object>"
      ]
     },
     "metadata": {},
     "output_type": "display_data"
    },
    {
     "data": {
      "text/plain": [
       "[<matplotlib.lines.Line2D at 0xa129b70>]"
      ]
     },
     "execution_count": 255,
     "metadata": {},
     "output_type": "execute_result"
    }
   ],
   "source": [
    "%matplotlib notebook\n",
    "plt.step(np.arange(len(t[:,0])),t[:,0]/2)\n",
    "plt.step(np.arange(len(t[:,1])),t[:,1]/2,'r')"
   ]
  },
  {
   "cell_type": "code",
   "execution_count": null,
   "metadata": {
    "collapsed": false
   },
   "outputs": [],
   "source": [
    "d"
   ]
  },
  {
   "cell_type": "code",
   "execution_count": null,
   "metadata": {
    "collapsed": false
   },
   "outputs": [],
   "source": [
    "data.event_stream['last'].nonzero()"
   ]
  },
  {
   "cell_type": "code",
   "execution_count": null,
   "metadata": {
    "collapsed": false
   },
   "outputs": [],
   "source": [
    "peak_dt = np.dtype(\n",
    "    ([ ('height', np.int16), ('minima', np.int16), ('flags', np.uint16), ('time',np.uint16)])\n",
    ")\n",
    "events = data.event_stream['data'].view(peak_dt)"
   ]
  },
  {
   "cell_type": "code",
   "execution_count": null,
   "metadata": {
    "collapsed": false
   },
   "outputs": [],
   "source": [
    "pulse_peak_dt = np.dtype(\n",
    "    ([('height',np.uint16),('minima',np.uint16),('rise_time',np.uint16),('time',np.uint16)])\n",
    ")\n",
    "pulse_dt = np.dtype(\n",
    "    ([('size',np.uint16),('length',np.uint16),('flags',np.uint16),('time',np.uint16),\n",
    "     ('area',np.int32),('pulse_threshold',np.uint16),('slope_threshold',np.uint16),\n",
    "     ('peak',pulse_peak_dt)])\n",
    ")"
   ]
  },
  {
   "cell_type": "code",
   "execution_count": null,
   "metadata": {
    "collapsed": false
   },
   "outputs": [],
   "source": [
    "bytestream=np.copy(data.event_stream['data']).view(np.uint8)\n",
    "bytestream"
   ]
  },
  {
   "cell_type": "code",
   "execution_count": null,
   "metadata": {
    "collapsed": false
   },
   "outputs": [],
   "source": [
    "events=bytestream.view(pulse_dt)\n",
    "events"
   ]
  },
  {
   "cell_type": "code",
   "execution_count": null,
   "metadata": {
    "collapsed": false
   },
   "outputs": [],
   "source": [
    "events"
   ]
  },
  {
   "cell_type": "code",
   "execution_count": null,
   "metadata": {
    "collapsed": false
   },
   "outputs": [],
   "source": [
    "flags=sim.DetectionFlags(events['flags'][0])\n",
    "flags\n"
   ]
  },
  {
   "cell_type": "code",
   "execution_count": null,
   "metadata": {
    "collapsed": false
   },
   "outputs": [],
   "source": [
    "bs=np.copy(data.event_stream['data']).view(np.uint8)"
   ]
  },
  {
   "cell_type": "code",
   "execution_count": null,
   "metadata": {
    "collapsed": false
   },
   "outputs": [],
   "source": [
    "event_size=bs[0:2].view(np.uint16)[0]\n",
    "event_size\n",
    "pulse_peaks=event_size-2\n",
    "pulse_peak_dt = np.dtype(\n",
    "    ([('height',np.uint16),('minima',np.uint16),('rise_time',np.uint16),('time',np.uint16)])\n",
    ")\n",
    "pulse_dt = np.dtype(\n",
    "    ([('size',np.uint16),('length',np.uint16),('flags',np.uint8,(2,)),('time',np.uint16),\n",
    "     ('area',np.int32),('pulse_threshold',np.uint16),('slope_threshold',np.uint16),\n",
    "     ('peaks',pulse_peak_dt,(pulse_peaks))])\n",
    ")"
   ]
  },
  {
   "cell_type": "code",
   "execution_count": null,
   "metadata": {
    "collapsed": false
   },
   "outputs": [],
   "source": [
    "bs.view(pulse_dt)['flags']"
   ]
  },
  {
   "cell_type": "code",
   "execution_count": null,
   "metadata": {
    "collapsed": false
   },
   "outputs": [],
   "source": [
    "es=sim.EventStream(data.event_stream)"
   ]
  },
  {
   "cell_type": "code",
   "execution_count": null,
   "metadata": {
    "collapsed": false
   },
   "outputs": [],
   "source": [
    "es.bytestream\n"
   ]
  },
  {
   "cell_type": "code",
   "execution_count": null,
   "metadata": {
    "collapsed": false
   },
   "outputs": [],
   "source": [
    "type_flags = np.bitwise_and(events['flags'],0x000f)\n",
    "peak_num = np.right_shift(np.bitwise_and(events['flags'],0x00f0),4)\n",
    "channel = np.right_shift(np.bitwise_and(events['flags'],0x0f00),8)\n",
    "event_type = np.right_shift(np.bitwise_and(events['flags'],0x3000),12)\n",
    "\n",
    "event_type\n"
   ]
  },
  {
   "cell_type": "code",
   "execution_count": null,
   "metadata": {
    "collapsed": false
   },
   "outputs": [],
   "source": [
    "%matplotlib notebook\n",
    "fig = simplt.plot_pulse(8,data,pre=500,length=3000)\n"
   ]
  },
  {
   "cell_type": "code",
   "execution_count": null,
   "metadata": {
    "collapsed": true
   },
   "outputs": [],
   "source": [
    "import pickle\n",
    "\n",
    "# An arbitrary collection of objects supported by pickle.\n",
    "\n",
    "pickler = pickle.Pickler(open('short.pickle', 'wb'),pickle.HIGHEST_PROTOCOL)\n",
    "pickler.dump(data)\n"
   ]
  },
  {
   "cell_type": "code",
   "execution_count": null,
   "metadata": {
    "collapsed": false
   },
   "outputs": [],
   "source": [
    "import pickle\n",
    "unpickler = pickle.Unpickler(open('short.pickle', 'rb'))\n",
    "data2=unpickler.load()"
   ]
  },
  {
   "cell_type": "code",
   "execution_count": null,
   "metadata": {
    "collapsed": false
   },
   "outputs": [],
   "source": [
    "data2.trace['slope']"
   ]
  },
  {
   "cell_type": "code",
   "execution_count": null,
   "metadata": {
    "collapsed": false
   },
   "outputs": [],
   "source": [
    "reg2"
   ]
  },
  {
   "cell_type": "code",
   "execution_count": null,
   "metadata": {
    "collapsed": false,
    "scrolled": false
   },
   "outputs": [],
   "source": [
    "axs = fig.get_axes()\n",
    "pax=axs[0].parasites\n",
    "pax[0]._label\n",
    "f_ins_ax=axs[1]\n",
    "s_ins_ax=f_ins_ax.parasites[0]"
   ]
  },
  {
   "cell_type": "code",
   "execution_count": null,
   "metadata": {
    "collapsed": false,
    "scrolled": false
   },
   "outputs": [],
   "source": [
    "es=sim.Data.fromfile('eventstream',np.int32,'teslib','measurement_unit_TB')"
   ]
  },
  {
   "cell_type": "code",
   "execution_count": null,
   "metadata": {
    "collapsed": false
   },
   "outputs": [],
   "source": [
    "es"
   ]
  },
  {
   "cell_type": "code",
   "execution_count": null,
   "metadata": {
    "collapsed": false
   },
   "outputs": [],
   "source": [
    "data.peak[-1]"
   ]
  },
  {
   "cell_type": "code",
   "execution_count": null,
   "metadata": {
    "collapsed": false
   },
   "outputs": [],
   "source": [
    "s.peak"
   ]
  },
  {
   "cell_type": "code",
   "execution_count": null,
   "metadata": {
    "collapsed": false
   },
   "outputs": [],
   "source": [
    "isinstance(r,sim.DataRegion)"
   ]
  },
  {
   "cell_type": "code",
   "execution_count": null,
   "metadata": {
    "collapsed": false
   },
   "outputs": [],
   "source": [
    "r.peak"
   ]
  },
  {
   "cell_type": "code",
   "execution_count": null,
   "metadata": {
    "collapsed": false
   },
   "outputs": [],
   "source": [
    "i"
   ]
  },
  {
   "cell_type": "code",
   "execution_count": null,
   "metadata": {
    "collapsed": false
   },
   "outputs": [],
   "source": [
    "%matplotlib notebook\n",
    "import matplotlib.pyplot as plt\n",
    "\n",
    "plt.plot(data.trace['filtered'])"
   ]
  },
  {
   "cell_type": "code",
   "execution_count": null,
   "metadata": {
    "collapsed": false
   },
   "outputs": [],
   "source": [
    "ax=plt.gca()\n",
    "t=ax.transData\n",
    "t.transform([[0.1,0.2],[1,3]])"
   ]
  },
  {
   "cell_type": "code",
   "execution_count": null,
   "metadata": {
    "collapsed": true
   },
   "outputs": [],
   "source": [
    "x=np.array([0,1,2,3])\n",
    "y=np.array([3,4,5,6])\n",
    "\n",
    "xy=np.empty(shape=(4,2))"
   ]
  },
  {
   "cell_type": "code",
   "execution_count": null,
   "metadata": {
    "collapsed": false
   },
   "outputs": [],
   "source": [
    "xy[:,0]=x\n",
    "xy[:,1]=y\n",
    "t.transform(xy)"
   ]
  },
  {
   "cell_type": "code",
   "execution_count": null,
   "metadata": {
    "collapsed": true
   },
   "outputs": [],
   "source": []
  },
  {
   "cell_type": "code",
   "execution_count": null,
   "metadata": {
    "collapsed": false
   },
   "outputs": [],
   "source": [
    "# run to import isim data files\n",
    "\n",
    "import numpy as np\n",
    "import os\n",
    "import matplotlib.pyplot as plt\n",
    "import math\n",
    "from enum import Enum\n",
    "\n",
    "plt.rcParams[\"figure.figsize\"]=[800./80,600./80]\n",
    "\n",
    "repo='c:\\\\TES_project\\\\fpga_ise\\\\'\n",
    "project='teslib'\n",
    "testbench='measurement_unit_TB'\n",
    "datafile='traces'\n",
    "path=repo+project+'\\\\PlanAhead\\\\'+project+'.sim\\\\'+testbench+'\\\\'\n",
    "\n",
    "traces_dt = np.dtype([('input', np.int32),('raw',np.int32),('filtered',np.int32),('slope',np.int32)])\n",
    "traces=np.fromfile(path+'traces',traces_dt)\n",
    "trigger=np.fromfile(path+'triggers',np.int32)\n",
    "settings=np.fromfile(path+'settings',np.int32)\n",
    "cfd_low=np.fromfile(path+'cfdlow',np.int32)\n",
    "cfd_high=np.fromfile(path+'cfdhigh',np.int32)\n",
    "peaks=np.fromfile(path+'peaks',np.int32)\n",
    "peaks.shape=(-1,2)\n",
    "peak_starts=np.fromfile(path+'peak_starts',np.int32)\n",
    "#peak_starts.shape=(-1,2)\n",
    "pulse_starts=np.fromfile(path+'peak_starts',np.int32)\n",
    "settings=np.fromfile(path+'settings',np.int32)\n",
    "cfd_low=np.fromfile(path+'cfdlow',np.int32)\n",
    "cfd_high=np.fromfile(path+'cfdhigh',np.int32)\n",
    "slope_xing=np.fromfile(path+'slopethreshxings',np.int32)\n"
   ]
  },
  {
   "cell_type": "code",
   "execution_count": null,
   "metadata": {
    "collapsed": false
   },
   "outputs": [],
   "source": [
    "settings[13]"
   ]
  },
  {
   "cell_type": "code",
   "execution_count": null,
   "metadata": {
    "collapsed": false
   },
   "outputs": [],
   "source": [
    "#create register dict from settings array\n",
    "\n",
    "class height_type(Enum):\n",
    "    def from_int(value):\n",
    "        if value == 0:\n",
    "            return height_type.peak_height\n",
    "        elif value == 1:\n",
    "            return height_type.cfd_high\n",
    "        elif value == 2:\n",
    "            return height_type.slope_integral\n",
    "        else:\n",
    "            raise AttributeError()\n",
    "    peak_height=0\n",
    "    cfd_high=1\n",
    "    slope_integral=2\n",
    "\n",
    "class trigger_type(Enum):\n",
    "    def from_int(value):\n",
    "        if value == 0:\n",
    "            return trigger_type.pulse_threshold\n",
    "        elif value == 1:\n",
    "            return trigger_type.slope_threshold\n",
    "        elif value == 2:\n",
    "            return trigger_type.cfd_low\n",
    "        else:\n",
    "            raise AttributeError()\n",
    "    pulse_threshold=0\n",
    "    slope_threshold=1\n",
    "    cfd_low=2\n",
    "\n",
    "class event_type(Enum):\n",
    "    def from_int(value):\n",
    "        if value == 0:\n",
    "            return event_type.peak\n",
    "        elif value == 1:\n",
    "            return event_type.area\n",
    "        elif value == 2:\n",
    "            return event_type.pulse\n",
    "        elif value == 3:\n",
    "            return event_type.trace\n",
    "        else:\n",
    "            raise AttributeError()\n",
    "    peak=0\n",
    "    area=1\n",
    "    pulse=2\n",
    "    trace=3\n",
    "\n",
    "\n",
    "def read_registers(settings):\n",
    "    registers = dict()\n",
    "    registers['baseline'] = dict()\n",
    "    registers['baseline']['offset'] = settings[0]\n",
    "    registers['baseline']['subtraction'] = settings[1]!=0\n",
    "    registers['baseline']['timeconstant'] = settings[2]\n",
    "    registers['baseline']['threshold'] = settings[3]\n",
    "    registers['baseline']['count_threshold'] = settings[4]\n",
    "    registers['generic'] = dict()\n",
    "    registers['baseline']['average_order'] = settings[5]\n",
    "    registers['capture'] = dict()\n",
    "    registers['capture']['cfd_relative'] = settings[6]!=0\n",
    "    registers['capture']['constant_fraction'] = settings[7]\n",
    "    registers['capture']['pulse_threshold'] = settings[8]\n",
    "    registers['capture']['slope_threshold'] = settings[9]\n",
    "    registers['capture']['pulse_area_threshold'] = settings[10]\n",
    "    registers['capture']['height_type'] = height_type.from_int(settings[11])\n",
    "    registers['capture']['threshold_rel2min'] = settings[12]!=0\n",
    "    registers['capture']['trigger_type'] = trigger_type.from_int(settings[13])\n",
    "    registers['capture']['event_type'] = event_type.from_int(settings[14])\n",
    "    return registers\n"
   ]
  },
  {
   "cell_type": "code",
   "execution_count": null,
   "metadata": {
    "collapsed": false
   },
   "outputs": [],
   "source": [
    "%matplotlib notebook\n",
    "x=np.arange(len(traces['filtered']))\n",
    "fig=plt.figure()\n",
    "\n",
    "ax=fig.add_axes([0.15,0.1,0.8,0.8])\n",
    "mV=1.0/math.pow(2,14)*1000\n",
    "nS=4\n",
    "\n",
    "\n",
    "i_trace, =ax.step(x*nS/1000000,(traces['input']+1800)*mV*2,'k',label='raw input')\n",
    "f_trace, =ax.step(x*nS/1000000,traces['filtered']*mV,'b',label='processed')\n",
    "fig.suptitle('Digital Signal Processing',fontsize=24)\n",
    "plt.xlabel('time (ms)',fontsize=18)\n",
    "plt.ylabel('Voltage (mV)',fontsize=18)\n",
    "plt.legend(handles=[i_trace,f_trace])\n",
    "\n",
    "fig.savefig('trace.png')\n",
    "plt.show()"
   ]
  },
  {
   "cell_type": "code",
   "execution_count": null,
   "metadata": {
    "collapsed": true
   },
   "outputs": [],
   "source": []
  },
  {
   "cell_type": "code",
   "execution_count": null,
   "metadata": {
    "collapsed": false
   },
   "outputs": [],
   "source": [
    "%matplotlib notebook\n",
    "import math\n",
    "\n",
    "def align_yaxis(ax1, v1, ax2, v2):\n",
    "    \"\"\"adjust ax2 ylimit so that v2 in ax2 is aligned to v1 in ax1\"\"\"\n",
    "    _, y1 = ax1.transData.transform((0, v1))\n",
    "    _, y2 = ax2.transData.transform((0, v2))\n",
    "    adjust_yaxis(ax2,(y1-y2)/2,v2)\n",
    "    adjust_yaxis(ax1,(y2-y1)/2,v1)\n",
    "\n",
    "def adjust_yaxis(ax,ydif,v):\n",
    "    \"\"\"shift axis ax by ydiff, maintaining point v at the same location\"\"\"\n",
    "    inv = ax.transData.inverted()\n",
    "    _, dy = inv.transform((0, 0)) - inv.transform((0, ydif))\n",
    "    miny, maxy = ax.get_ylim()\n",
    "    miny, maxy = miny - v, maxy - v\n",
    "    if -miny>maxy or (-miny==maxy and dy > 0):\n",
    "        nminy = miny\n",
    "        nmaxy = miny*(maxy+dy)/(miny+dy)\n",
    "    else:\n",
    "        nmaxy = maxy\n",
    "        nminy = maxy*(miny+dy)/(maxy+dy)\n",
    "    ax.set_ylim(nminy+v, nmaxy+v)\n",
    "    \n",
    "x=np.arange(len(traces['filtered']))\n",
    "fig=plt.figure()\n",
    "ax=fig.add_axes([0.1,0.1,0.8,0.8])\n",
    "plt.ylim(-10,120)\n",
    "v=math.pow(2,13)/1000\n",
    "t=x*4\n",
    "ax.plot([0,t[-1]],[0,0],'k')\n",
    "raw, = ax.step(t,traces['raw']/2/v,'k',lw=1,label='raw')\n",
    "processed, = ax.step(t,traces['filtered']/2/v,'r',lw=2,label='processed')\n",
    "ax.plot(trigger,traces['filtered'][trigger+1]/2,'kx')\n",
    "ax.plot(peaks[:,0],traces['filtered'][peaks[:,0]+1]/2,'ro')\n",
    "ax.plot(peak_starts,traces['filtered'][peak_starts+1]/2,'ro')\n",
    "ax.plot(cfd_high,traces['filtered'][cfd_high+1]/2,'bs')\n",
    "ax.plot(cfd_low,traces['filtered'][cfd_low+1]/2,'bs')\n",
    "plt.xlabel('time (ns)',fontsize=18)\n",
    "plt.ylabel('Voltage (mV)',fontsize=18,color='r')\n",
    "\n",
    "ax2=ax.twinx()\n",
    "slope, = ax2.step(t,traces['slope']/256/v/4,'b',lw=2,label='slope')\n",
    "plt.xlim([1292000,1297500])\n",
    "plt.ylim(-0.2,1)\n",
    "align_yaxis(ax,0,ax2,0)\n",
    "plt.ylabel('slope (mV/ns)',color='b',fontsize=18)\n",
    "fig.suptitle('Digital signal processing',fontsize=24)\n",
    "plt.legend(handles=[raw,processed,slope])\n",
    "fig.savefig('dsp.png')\n",
    "plt.show()"
   ]
  },
  {
   "cell_type": "code",
   "execution_count": null,
   "metadata": {
    "collapsed": false
   },
   "outputs": [],
   "source": [
    "%matplotlib notebook\n",
    "\n",
    "#plot pulse\n",
    "from mpl_toolkits.axes_grid1 import host_subplot\n",
    "from mpl_toolkits.axes_grid1.inset_locator import zoomed_inset_axes\n",
    "from mpl_toolkits.axes_grid1.inset_locator import mark_inset\n",
    "\n",
    "pulse=7\n",
    "length=2000\n",
    "pre=100\n",
    "\n",
    "def align_yaxis(ax1, v1, ax2, v2):\n",
    "    \"\"\"adjust ax2 ylimit so that v2 in ax2 is aligned to v1 in ax1\"\"\"\n",
    "    _, y1 = ax1.transData.transform((0, v1))\n",
    "    _, y2 = ax2.transData.transform((0, v2))\n",
    "    adjust_yaxis(ax2,(y1-y2)/2,v2)\n",
    "    adjust_yaxis(ax1,(y2-y1)/2,v1)\n",
    "\n",
    "def adjust_yaxis(ax,ydif,v):\n",
    "    \"\"\"shift axis ax by ydiff, maintaining point v at the same location\"\"\"\n",
    "    inv = ax.transData.inverted()\n",
    "    _, dy = inv.transform((0, 0)) - inv.transform((0, ydif))\n",
    "    miny, maxy = ax.get_ylim()\n",
    "    miny, maxy = miny - v, maxy - v\n",
    "    if -miny>maxy or (-miny==maxy and dy > 0):\n",
    "        nminy = miny\n",
    "        nmaxy = miny*(maxy+dy)/(miny+dy)\n",
    "    else:\n",
    "        nmaxy = maxy\n",
    "        nminy = maxy*(miny+dy)/(maxy+dy)\n",
    "    ax.set_ylim(nminy+v, nmaxy+v)\n",
    "    \n",
    "start=pulse_starts[pulse]-pre\n",
    "stop=start+length\n",
    "x=np.arange(0,len(traces['filtered']))\n",
    "fig=plt.figure()\n",
    "\n",
    "f_ax = host_subplot(111)\n",
    "s_ax = f_ax.twinx()\n",
    "\n",
    "f_ax.set_xlabel(\"Time (ns)\",fontsize=18)\n",
    "f_ax.set_ylabel(\"Voltage (mV)\",fontsize=18,color='r')\n",
    "s_ax.set_ylabel(\"Slope (mv/ns)\",fontsize=18,color='b')\n",
    "\n",
    "mV=1.0/math.pow(2,14)*1000\n",
    "nS=4\n",
    "t=x*nS\n",
    "\n",
    "f_sig = traces['filtered']*mV\n",
    "s_sig = traces['slope']*mV/nS\n",
    "\n",
    "f_ax.plot([t[start],t[stop]],[0,0],'k') # zero line\n",
    "f_trace, = f_ax.step(t[start:stop],f_sig[start:stop],'r',lw=2,label='processed')\n",
    "f_ax.set_ylim(-10,180)\n",
    "\n",
    "s_trace, = s_ax.step(t[start:stop],s_sig[start:stop],'b',lw=1,label='slope')\n",
    "s_ax.set_ylim(-15,50)\n",
    "#s_threshold = 6\n",
    "#s_ax.set_yticks(np.concatenate((s_ax.get_yticks(),[s_threshold])))\n",
    "#labels=[label.get_text() for label in s_ax.get_yticklabels()]\n",
    "#labels[6]='Threshold'\n",
    "\n",
    "#s_ax.set_yticklabels(labels)\n",
    "plt.xlim(t[start],t[stop])\n",
    "align_yaxis(f_ax,0,s_ax,0)\n",
    "fig.suptitle('Measurement:First pass',fontsize=24)\n",
    "#plt.legend(handles=[f_trace,s_trace])\n",
    "\n",
    "starts_mask = np.logical_and(peak_starts >= start,peak_starts <= stop)\n",
    "peaks_mask = np.logical_and(peaks[:,0] >= start, peaks[:,0] <= stop)\n",
    "peak_starts_inwin = peak_starts[starts_mask]\n",
    "\n",
    "for pstart in peak_starts_inwin:\n",
    "    peak_start_t=t[pstart]-2\n",
    "    peak_start_f=f_sig[pstart]\n",
    "    peak_start_s=s_sig[pstart]\n",
    "\n",
    "    f_ax.plot(peak_start_t,peak_start_f,'ro')\n",
    "    s_ax.plot(peak_start_t,peak_start_s,'bo')\n",
    "    \n",
    "    f_trans = f_ax.transData\n",
    "    s_trans = s_ax.transData.inverted()\n",
    "    trans = s_trans+f_trans\n",
    "    f_point=f_trans.transform((peak_start_t,peak_start_f))\n",
    "    s_point=s_trans.transform((f_point[0],f_point[1]))\n",
    "\n",
    "    s_ax.plot([peak_start_t,peak_start_t],[peak_start_s, s_point[1]],'k')\n",
    "\n",
    "#for p in peaks[0][peaks_inwin]\n",
    "peaks_inwin = peaks[peaks_mask,0]\n",
    "for p in peaks_inwin:\n",
    "    peak_t=t[p]-2\n",
    "    peak_f=f_sig[p]\n",
    "    peak_s=s_sig[p]\n",
    "\n",
    "    f_ax.plot(peak_t,peak_f,'ro')\n",
    "    s_ax.plot(peak_t,peak_s,'bo')\n",
    "    \n",
    "    f_trans = f_ax.transData\n",
    "    s_trans = s_ax.transData.inverted()\n",
    "    trans = s_trans+f_trans\n",
    "    f_point=f_trans.transform((peak_t,peak_f))\n",
    "    s_point=s_trans.transform((f_point[0],f_point[1]))\n",
    "\n",
    "    s_ax.plot([peak_t,peak_t],[peak_s, s_point[1]],'k')\n",
    "\n",
    "ins_start = peak_starts_inwin[0]-5\n",
    "ins_stop = peak_starts_inwin[0]+5\n",
    "f_ins_ax = zoomed_inset_axes(f_ax, 50, loc=1)  # zoom = 6\n",
    "f_ins_ax.step(t[ins_start:ins_stop],f_sig[ins_start:ins_stop],'r')\n",
    "f_ins_ax.set_ylim(-0.5,2)\n",
    "f_ins_ax.set_xlim(ins_start,ins_stop)\n",
    "f_ins_ax.set_yticks([])\n",
    "f_ins_ax.set_xticks([])\n",
    "\n",
    "f_ins_ax.plot([t[ins_start],t[ins_stop]],[0,0],'k') # zero line\n",
    "\n",
    "#plt.xticks(visible=False)\n",
    "#plt.yticks(visible=False)\n",
    "mark_inset(f_ax, f_ins_ax, loc1=2, loc2=4, fc=\"none\", ec=\"0.5\")\n",
    "\n",
    "s_ins_ax = f_ins_ax.twinx()\n",
    "s_ins_ax.set_yticks([])\n",
    "s_ins_ax.set_xticks([])\n",
    "\n",
    "s_ins_ax.step(t[ins_start:ins_stop],s_sig[ins_start:ins_stop],'b')\n",
    "\n",
    "s_ins_ax.set_ylim(-1,1)\n",
    "align_yaxis(f_ins_ax,0,s_ins_ax,0)\n",
    "\n",
    "pstart = peak_starts_inwin[0]\n",
    "peak_start_t=t[pstart]-2\n",
    "peak_start_f=f_sig[pstart]\n",
    "peak_start_s=s_sig[pstart]\n",
    "\n",
    "f_ins_ax.plot(peak_start_t,peak_start_f,'ro')\n",
    "s_ins_ax.plot(peak_start_t,peak_start_s,'bo')\n",
    "    \n",
    "f_trans = f_ins_ax.transData\n",
    "s_trans = s_ins_ax.transData.inverted()\n",
    "trans = s_trans+f_trans\n",
    "f_point=f_trans.transform((peak_start_t,peak_start_f))\n",
    "s_point=s_trans.transform((f_point[0],f_point[1]))\n",
    "\n",
    "s_ins_ax.plot([peak_start_t,peak_start_t],[peak_start_s, s_point[1]],'k')\n",
    "\n",
    "s_ax.plot([t[start],t[stop]],[s_threshold,s_threshold],ls='dashed')\n",
    "\n",
    "fig.savefig('measurement1.png')\n",
    "plt.draw()\n",
    "plt.show()"
   ]
  },
  {
   "cell_type": "code",
   "execution_count": null,
   "metadata": {
    "collapsed": false
   },
   "outputs": [],
   "source": [
    "%matplotlib notebook\n",
    "from mpl_toolkits.axes_grid1 import host_subplot\n",
    "from mpl_toolkits.axes_grid1.inset_locator import zoomed_inset_axes\n",
    "from mpl_toolkits.axes_grid1.inset_locator import mark_inset\n",
    "\n",
    "pulse=7\n",
    "length=2000\n",
    "pre=100\n",
    "\n",
    "def align_yaxis(ax1, v1, ax2, v2):\n",
    "    \"\"\"adjust ax2 ylimit so that v2 in ax2 is aligned to v1 in ax1\"\"\"\n",
    "    _, y1 = ax1.transData.transform((0, v1))\n",
    "    _, y2 = ax2.transData.transform((0, v2))\n",
    "    adjust_yaxis(ax2,(y1-y2)/2,v2)\n",
    "    adjust_yaxis(ax1,(y2-y1)/2,v1)\n",
    "\n",
    "def adjust_yaxis(ax,ydif,v):\n",
    "    \"\"\"shift axis ax by ydiff, maintaining point v at the same location\"\"\"\n",
    "    inv = ax.transData.inverted()\n",
    "    _, dy = inv.transform((0, 0)) - inv.transform((0, ydif))\n",
    "    miny, maxy = ax.get_ylim()\n",
    "    miny, maxy = miny - v, maxy - v\n",
    "    if -miny>maxy or (-miny==maxy and dy > 0):\n",
    "        nminy = miny\n",
    "        nmaxy = miny*(maxy+dy)/(miny+dy)\n",
    "    else:\n",
    "        nmaxy = maxy\n",
    "        nminy = maxy*(miny+dy)/(maxy+dy)\n",
    "    ax.set_ylim(nminy+v, nmaxy+v)\n",
    "    \n",
    "start=pulse_starts[pulse]-pre\n",
    "stop=start+length\n",
    "x=np.arange(0,len(traces['filtered']))\n",
    "fig=plt.figure()\n",
    "\n",
    "f_ax = host_subplot(111)\n",
    "s_ax = f_ax.twinx()\n",
    "\n",
    "f_ax.set_xlabel(\"Time (ns)\",fontsize=18)\n",
    "f_ax.set_ylabel(\"Voltage (mV)\",fontsize=18,color='r')\n",
    "s_ax.set_ylabel(\"Slope (mv/ns)\",fontsize=18,color='b')\n",
    "\n",
    "mV=1.0/math.pow(2,14)*1000\n",
    "nS=4\n",
    "t=x*nS\n",
    "\n",
    "f_sig = traces['filtered']*mV\n",
    "s_sig = traces['slope']*mV/nS\n",
    "\n",
    "f_ax.plot([t[start],t[stop]],[0,0],'k') # zero line\n",
    "f_trace, = f_ax.step(t[start:stop],f_sig[start:stop],'r',lw=2,label='processed')\n",
    "f_ax.set_ylim(-10,180)\n",
    "\n",
    "s_trace, = s_ax.step(t[start:stop],s_sig[start:stop],'b',lw=1,label='slope')\n",
    "s_ax.set_ylim(-15,50)\n",
    "#s_threshold = 6\n",
    "#s_ax.set_yticks(np.concatenate((s_ax.get_yticks(),[s_threshold])))\n",
    "#labels=[label.get_text() for label in s_ax.get_yticklabels()]\n",
    "#labels[6]='Threshold'\n",
    "\n",
    "#s_ax.set_yticklabels(labels)\n",
    "plt.xlim(t[start],t[stop])\n",
    "align_yaxis(f_ax,0,s_ax,0)\n",
    "fig.suptitle('Measurement:Second pass',fontsize=24)\n",
    "#plt.legend(handles=[f_trace,s_trace])\n",
    "\n",
    "starts_mask = np.logical_and(peak_starts >= start,peak_starts <= stop)\n",
    "peaks_mask = np.logical_and(peaks[:,0] >= start, peaks[:,0] <= stop)\n",
    "peak_starts_inwin = peak_starts[starts_mask]\n",
    "\n",
    "\n",
    "#for pstart in peak_starts_inwin:\n",
    "#    peak_start_t=t[pstart]-2\n",
    "#    peak_start_f=f_sig[pstart]\n",
    "#    peak_start_s=s_sig[pstart]\n",
    "#\n",
    "#    f_ax.plot(peak_start_t,peak_start_f,'ro')\n",
    "#    s_ax.plot(peak_start_t,peak_start_s,'bo')\n",
    "    \n",
    "#    f_trans = f_ax.transData\n",
    "#    s_trans = s_ax.transData.inverted()\n",
    "#    trans = s_trans+f_trans\n",
    "#    f_point=f_trans.transform((peak_start_t,peak_start_f))\n",
    "#    s_point=s_trans.transform((f_point[0],f_point[1]))\n",
    "\n",
    "#    s_ax.plot([peak_start_t,peak_start_t],[peak_start_s, s_point[1]],'k')\n",
    "\n",
    "#for p in peaks[0][peaks_inwin]\n",
    "peaks_inwin = peaks[peaks_mask,0]\n",
    "x_s=peak_starts_inwin\n",
    "x_p=peaks_inwin\n",
    "y_s=f_sig[x_s]\n",
    "y_p=f_sig[x_p]\n",
    "\n",
    "f_ax.plot(t[peak_starts_inwin],f_sig[peak_starts_inwin],'or')\n",
    "f_ax.plot(t[peaks_inwin],f_sig[peaks_inwin],'or')\n",
    "\n",
    "\n",
    "f_ax.plot([t[x_s[0]],t[x_p[0]]],[y_s[0],y_s[0]],'k')\n",
    "f_ax.plot([t[x_p[0]],t[x_p[0]]],[y_s[0],y_p[0]],'k')\n",
    "\n",
    "f_ax.plot([t[x_s[1]],t[x_p[1]]],[y_s[1],y_s[1]],'k')\n",
    "f_ax.plot([t[x_p[1]],t[x_p[1]]],[y_s[1],y_p[1]],'k')\n",
    "\n",
    "\n",
    "#for p in peaks_inwin:\n",
    "#    peak_t=t[p]-2\n",
    "#    peak_f=f_sig[p]\n",
    "#    peak_s=s_sig[p]\n",
    "\n",
    "#    f_ax.plot(peak_t,peak_f,'ro')\n",
    "#    s_ax.plot(peak_t,peak_s,'bo')\n",
    "    \n",
    "#    f_trans = f_ax.transData\n",
    "#    s_trans = s_ax.transata.inverted()\n",
    "#    trans = s_trans+f_trans\n",
    "#    f_point=f_trans.transform((peak_t,peak_f))\n",
    "#    s_point=s_trans.transform((f_point[0],f_point[1]))\n",
    "\n",
    "#    s_ax.plot([peak_t,peak_t],[peak_s, s_point[1]],'k')\n",
    "\n",
    "ins_start = peak_starts_inwin[1]-300\n",
    "ins_stop = peak_starts_inwin[1]+500\n",
    "f_ins_ax = zoomed_inset_axes(f_ax, 1.5, loc=1)  # zoom = 6\n",
    "f_ins_ax.step(t[ins_start:ins_stop],f_sig[ins_start:ins_stop],'r')\n",
    "f_ins_ax.set_ylim(60,180)\n",
    "f_ins_ax.set_xlim(t[ins_start],t[ins_stop])\n",
    "f_ins_ax.set_yticks([])\n",
    "f_ins_ax.set_xticks([])\n",
    "\n",
    "low_mask = np.logical_and(cfd_low >= start, cfd_low <= stop)\n",
    "low_inwin = cfd_low[low_mask]\n",
    "high_mask = np.logical_and(cfd_high >= start, cfd_high <= stop)\n",
    "high_inwin = cfd_high[high_mask]\n",
    "thresh_mask = np.logical_and(slope_xing >= start, slope_xing <= stop)\n",
    "thresh_inwin = slope_xing[thresh_mask]\n",
    "\n",
    "f_ins_ax.plot(t[peak_starts_inwin],f_sig[peak_starts_inwin],'or')\n",
    "f_ins_ax.plot(t[peaks_inwin],f_sig[peaks_inwin],'or')\n",
    "\n",
    "f_ins_ax.plot(t[low_inwin],f_sig[low_inwin],'ok')\n",
    "f_ins_ax.plot(t[high_inwin],f_sig[high_inwin],'ok')\n",
    "f_ax.plot(t[low_inwin],f_sig[low_inwin],'ok')\n",
    "f_ax.plot(t[high_inwin],f_sig[high_inwin],'ok')\n",
    "#f_ax.plot(t[thresh_inwin],f_sig[thresh_inwin],'ow')\n",
    "f_ins_ax.plot(t[thresh_inwin],f_sig[thresh_inwin],'ow')\n",
    "\n",
    "\n",
    "f_ins_ax.plot([t[x_s[0]],t[x_p[0]]],[y_s[0],y_s[0]],'k')\n",
    "f_ins_ax.plot([t[x_p[0]],t[x_p[0]]],[y_s[0],y_p[0]],'k')\n",
    "\n",
    "f_ins_ax.plot([t[x_s[1]],t[x_p[1]]],[y_s[1],y_s[1]],'k')\n",
    "f_ins_ax.plot([t[x_p[1]],t[x_p[1]]],[y_s[1],y_p[1]],'k')\n",
    "\n",
    "#f_ins_ax.plot([t[ins_start],t[ins_stop]],[0,0],'k') # zero line\n",
    "\n",
    "#plt.xticks(visible=False)\n",
    "#plt.yticks(visible=False)\n",
    "#mark_inset(f_ax, f_ins_ax, loc1=2, loc2=4, fc=\"none\", ec=\"0.5\")\n",
    "\n",
    "pstart = peak_starts_inwin[1]\n",
    "peak_start_t=t[pstart]-2\n",
    "peak_start_f=f_sig[pstart]\n",
    "peak_start_s=s_sig[pstart]\n",
    "\n",
    "f_ins_ax.plot(peak_start_t,peak_start_f,'ro')\n",
    "\n",
    "\n",
    "f_trans = f_ins_ax.transData\n",
    "s_trans = s_ins_ax.transData.inverted()\n",
    "trans = s_trans+f_trans\n",
    "f_point=f_trans.transform((peak_start_t,peak_start_f))\n",
    "s_point=s_trans.transform((f_point[0],f_point[1]))\n",
    "\n",
    "s_ins_ax.plot([peak_start_t,peak_start_t],[peak_start_s, s_point[1]],'k')\n",
    "\n",
    "s_ax.plot([t[start],t[stop]],[s_threshold,s_threshold],ls='dashed')\n",
    "\n",
    "fig.savefig('measurement2.png')\n",
    "plt.draw()\n",
    "plt.show()"
   ]
  },
  {
   "cell_type": "code",
   "execution_count": null,
   "metadata": {
    "collapsed": false
   },
   "outputs": [],
   "source": [
    "from mpl_toolkits.axes_grid1.inset_locator import inset_axes\n",
    "\n",
    "fig=plt.figure()\n",
    "fig.suptitle('Multi Channel Analyser',fontsize=24)\n",
    "\n",
    "h_ax = host_subplot(111)\n",
    "\n",
    "h_ins_ax = inset_axes(h_ax, width=\"80%\",height=1., loc=1)  # zoom = 6\n",
    "h_ins_ax.set_xlim(-25,160)\n",
    "h_ins_ax.set_ylim(0,0.002)\n",
    "h_ax.hist((traces['input']+200)*2*mV,math.pow(2,14),normed=1,facecolor='k',edgecolor='k')\n",
    "h_ax.hist(f_sig,math.pow(2,14),normed=1,facecolor='r',edgecolor='r')\n",
    "h_ins_ax.hist(f_sig,math.pow(2,14),normed=1,facecolor='r',edgecolor='r')\n",
    "h_ins_ax.set_xticks([])\n",
    "h_ins_ax.set_yticks([])\n",
    "h_ax.set_xlim(-30,100)\n",
    "h_ax.set_ylim(0,0.8)\n",
    "\n",
    "mark_inset(h_ax, h_ins_ax, loc1=2, loc2=4, fc=\"none\", ec=\"0.5\")\n",
    "\n",
    "h_ax.set_xlabel('Voltage (mV)')\n",
    "h_ax.set_ylabel('Probability')\n",
    "fig.savefig('hist.png')\n",
    "plt.show()"
   ]
  },
  {
   "cell_type": "code",
   "execution_count": null,
   "metadata": {
    "collapsed": true
   },
   "outputs": [],
   "source": [
    "peak_dt=np.dtype([('time',np.uint16),('flags',np.uint16),('minima',np.uint16),('height',np.uint16)])"
   ]
  },
  {
   "cell_type": "code",
   "execution_count": null,
   "metadata": {
    "collapsed": true
   },
   "outputs": [],
   "source": [
    "area_dt=np.dtype([('time',np.uint16),('flags',np.uint16),('area',np.uint32)])"
   ]
  },
  {
   "cell_type": "code",
   "execution_count": null,
   "metadata": {
    "collapsed": true
   },
   "outputs": [],
   "source": [
    "pulse_peak_dt=np.dtype([('trigger',np.uint16),('rise',np.uint16),('minima',np.uint16),('height',np.uint16)])\n",
    "pulse_header_dt=np.dtype([('time',np.uint16),('flags',np.uint16),('res1',np.uint16),('size',np.uint16),\n",
    "                    ('length',np.uint16),('res2',np.uint16),('area',np.int32)])"
   ]
  },
  {
   "cell_type": "code",
   "execution_count": null,
   "metadata": {
    "collapsed": false
   },
   "outputs": [],
   "source": [
    "pulse2_dt=np.dtype([('time',np.uint16),('flags',np.uint16),('res1',np.uint16),('size',np.uint16),\n",
    "                    ('length',np.uint16),('res2',np.uint16),('area',np.int32),\n",
    "                    ('trigger0',np.uint16),('rise0',np.uint16),('minima0',np.uint16),('height0',np.uint16),\n",
    "                    ('trigger1',np.uint16),('rise1',np.uint16),('minima1',np.uint16),('height1',np.uint16)])"
   ]
  },
  {
   "cell_type": "code",
   "execution_count": null,
   "metadata": {
    "collapsed": false
   },
   "outputs": [],
   "source": [
    "pulse2_subarray_dt=np.dtype([('header',pulse_header_dt,('peaks', (pulse_peak_dt,(1,2)) ))])"
   ]
  },
  {
   "cell_type": "code",
   "execution_count": null,
   "metadata": {
    "collapsed": true
   },
   "outputs": [],
   "source": [
    "eventstream=np.fromfile(path+'eventstream',peak_dt)"
   ]
  },
  {
   "cell_type": "code",
   "execution_count": null,
   "metadata": {
    "collapsed": true
   },
   "outputs": [],
   "source": [
    "eventstream=np.fromfile(path+'eventstream',area_dt)"
   ]
  },
  {
   "cell_type": "code",
   "execution_count": null,
   "metadata": {
    "collapsed": true
   },
   "outputs": [],
   "source": [
    "eventstream=np.fromfile(path+'eventstream',pulse2_dt)"
   ]
  },
  {
   "cell_type": "code",
   "execution_count": null,
   "metadata": {
    "collapsed": false
   },
   "outputs": [],
   "source": [
    "eventstream"
   ]
  },
  {
   "cell_type": "code",
   "execution_count": null,
   "metadata": {
    "collapsed": false
   },
   "outputs": [],
   "source": [
    "flags=eventstream['flags']\n",
    "print(np.binary_repr(flags[0],16))"
   ]
  },
  {
   "cell_type": "code",
   "execution_count": null,
   "metadata": {
    "collapsed": false
   },
   "outputs": [],
   "source": [
    "print(\"flags:{:016b}\\nsize:{}\\nlength:{}\\narea:{}\\ntrigger:{} rise:{} minima:{} height:{}\\ntrigger:{} rise:{} minima:{} height:{}\\n\"  \n",
    "      .format(eventstream['flags'][0],eventstream['size'][0],eventstream['length'][0],eventstream['area'][0],\n",
    "        eventstream['trigger0'][0],eventstream['rise0'][0],eventstream['minima0'][0],eventstream['height0'][0],\n",
    "        eventstream['trigger1'][0],eventstream['rise1'][0],eventstream['minima1'][0],eventstream['height1'][0]))"
   ]
  },
  {
   "cell_type": "code",
   "execution_count": null,
   "metadata": {
    "collapsed": false
   },
   "outputs": [],
   "source": [
    "print(np.binary_repr(flags[1],16))"
   ]
  },
  {
   "cell_type": "code",
   "execution_count": null,
   "metadata": {
    "collapsed": true
   },
   "outputs": [],
   "source": [
    "rel_to_min=np.right_shift(np.bitwise_and(flags,0x8000),15).astype(np.bool)\n",
    "channel=np.right_shift(np.bitwise_and(flags,0x0F00),8).astype(np.uint8)\n",
    "threshold_rel2min=np.right_shift(np.bitwise_and(flags,0x4000),14).astype(np.bool)\n",
    "peak_count=np.right_shift(np.bitwise_and(flags,0x00F0),4).astype(np.uint8)\n",
    "tick=np.bitwise_and(flags,0x0001).astype(bool)\n",
    "area=np.right_shift(np.bitwise_and(flags,0x0002),1).astype(np.bool)\n",
    "trace=np.right_shift(np.bitwise_and(flags,0x0004),2).astype(np.bool)\n",
    "fixed=np.right_shift(np.bitwise_and(flags,0x0008),3).astype(np.bool)\n",
    "event_type=np.right_shift(np.bitwise_and(flags,0x3000),12).astype(np.uint8)"
   ]
  },
  {
   "cell_type": "code",
   "execution_count": null,
   "metadata": {
    "collapsed": false
   },
   "outputs": [],
   "source": [
    "flags"
   ]
  },
  {
   "cell_type": "code",
   "execution_count": null,
   "metadata": {
    "collapsed": false
   },
   "outputs": [],
   "source": [
    "eventstream"
   ]
  },
  {
   "cell_type": "code",
   "execution_count": null,
   "metadata": {
    "collapsed": true
   },
   "outputs": [],
   "source": []
  },
  {
   "cell_type": "code",
   "execution_count": null,
   "metadata": {
    "collapsed": true
   },
   "outputs": [],
   "source": []
  }
 ],
 "metadata": {
  "kernelspec": {
   "display_name": "Python 3",
   "language": "python",
   "name": "python3"
  },
  "language_info": {
   "codemirror_mode": {
    "name": "ipython",
    "version": 3
   },
   "file_extension": ".py",
   "mimetype": "text/x-python",
   "name": "python",
   "nbconvert_exporter": "python",
   "pygments_lexer": "ipython3",
   "version": "3.5.1"
  }
 },
 "nbformat": 4,
 "nbformat_minor": 0
}
