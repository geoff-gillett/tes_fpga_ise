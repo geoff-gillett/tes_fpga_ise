{
 "cells": [
  {
   "cell_type": "code",
   "execution_count": 1,
   "metadata": {
    "collapsed": false,
    "scrolled": false
   },
   "outputs": [
    {
     "data": {
      "application/javascript": [
       "/* Put everything inside the global mpl namespace */\n",
       "window.mpl = {};\n",
       "\n",
       "mpl.get_websocket_type = function() {\n",
       "    if (typeof(WebSocket) !== 'undefined') {\n",
       "        return WebSocket;\n",
       "    } else if (typeof(MozWebSocket) !== 'undefined') {\n",
       "        return MozWebSocket;\n",
       "    } else {\n",
       "        alert('Your browser does not have WebSocket support.' +\n",
       "              'Please try Chrome, Safari or Firefox ≥ 6. ' +\n",
       "              'Firefox 4 and 5 are also supported but you ' +\n",
       "              'have to enable WebSockets in about:config.');\n",
       "    };\n",
       "}\n",
       "\n",
       "mpl.figure = function(figure_id, websocket, ondownload, parent_element) {\n",
       "    this.id = figure_id;\n",
       "\n",
       "    this.ws = websocket;\n",
       "\n",
       "    this.supports_binary = (this.ws.binaryType != undefined);\n",
       "\n",
       "    if (!this.supports_binary) {\n",
       "        var warnings = document.getElementById(\"mpl-warnings\");\n",
       "        if (warnings) {\n",
       "            warnings.style.display = 'block';\n",
       "            warnings.textContent = (\n",
       "                \"This browser does not support binary websocket messages. \" +\n",
       "                    \"Performance may be slow.\");\n",
       "        }\n",
       "    }\n",
       "\n",
       "    this.imageObj = new Image();\n",
       "\n",
       "    this.context = undefined;\n",
       "    this.message = undefined;\n",
       "    this.canvas = undefined;\n",
       "    this.rubberband_canvas = undefined;\n",
       "    this.rubberband_context = undefined;\n",
       "    this.format_dropdown = undefined;\n",
       "\n",
       "    this.image_mode = 'full';\n",
       "\n",
       "    this.root = $('<div/>');\n",
       "    this._root_extra_style(this.root)\n",
       "    this.root.attr('style', 'display: inline-block');\n",
       "\n",
       "    $(parent_element).append(this.root);\n",
       "\n",
       "    this._init_header(this);\n",
       "    this._init_canvas(this);\n",
       "    this._init_toolbar(this);\n",
       "\n",
       "    var fig = this;\n",
       "\n",
       "    this.waiting = false;\n",
       "\n",
       "    this.ws.onopen =  function () {\n",
       "            fig.send_message(\"supports_binary\", {value: fig.supports_binary});\n",
       "            fig.send_message(\"send_image_mode\", {});\n",
       "            fig.send_message(\"refresh\", {});\n",
       "        }\n",
       "\n",
       "    this.imageObj.onload = function() {\n",
       "            if (fig.image_mode == 'full') {\n",
       "                // Full images could contain transparency (where diff images\n",
       "                // almost always do), so we need to clear the canvas so that\n",
       "                // there is no ghosting.\n",
       "                fig.context.clearRect(0, 0, fig.canvas.width, fig.canvas.height);\n",
       "            }\n",
       "            fig.context.drawImage(fig.imageObj, 0, 0);\n",
       "        };\n",
       "\n",
       "    this.imageObj.onunload = function() {\n",
       "        this.ws.close();\n",
       "    }\n",
       "\n",
       "    this.ws.onmessage = this._make_on_message_function(this);\n",
       "\n",
       "    this.ondownload = ondownload;\n",
       "}\n",
       "\n",
       "mpl.figure.prototype._init_header = function() {\n",
       "    var titlebar = $(\n",
       "        '<div class=\"ui-dialog-titlebar ui-widget-header ui-corner-all ' +\n",
       "        'ui-helper-clearfix\"/>');\n",
       "    var titletext = $(\n",
       "        '<div class=\"ui-dialog-title\" style=\"width: 100%; ' +\n",
       "        'text-align: center; padding: 3px;\"/>');\n",
       "    titlebar.append(titletext)\n",
       "    this.root.append(titlebar);\n",
       "    this.header = titletext[0];\n",
       "}\n",
       "\n",
       "\n",
       "\n",
       "mpl.figure.prototype._canvas_extra_style = function(canvas_div) {\n",
       "\n",
       "}\n",
       "\n",
       "\n",
       "mpl.figure.prototype._root_extra_style = function(canvas_div) {\n",
       "\n",
       "}\n",
       "\n",
       "mpl.figure.prototype._init_canvas = function() {\n",
       "    var fig = this;\n",
       "\n",
       "    var canvas_div = $('<div/>');\n",
       "\n",
       "    canvas_div.attr('style', 'position: relative; clear: both; outline: 0');\n",
       "\n",
       "    function canvas_keyboard_event(event) {\n",
       "        return fig.key_event(event, event['data']);\n",
       "    }\n",
       "\n",
       "    canvas_div.keydown('key_press', canvas_keyboard_event);\n",
       "    canvas_div.keyup('key_release', canvas_keyboard_event);\n",
       "    this.canvas_div = canvas_div\n",
       "    this._canvas_extra_style(canvas_div)\n",
       "    this.root.append(canvas_div);\n",
       "\n",
       "    var canvas = $('<canvas/>');\n",
       "    canvas.addClass('mpl-canvas');\n",
       "    canvas.attr('style', \"left: 0; top: 0; z-index: 0; outline: 0\")\n",
       "\n",
       "    this.canvas = canvas[0];\n",
       "    this.context = canvas[0].getContext(\"2d\");\n",
       "\n",
       "    var rubberband = $('<canvas/>');\n",
       "    rubberband.attr('style', \"position: absolute; left: 0; top: 0; z-index: 1;\")\n",
       "\n",
       "    var pass_mouse_events = true;\n",
       "\n",
       "    canvas_div.resizable({\n",
       "        start: function(event, ui) {\n",
       "            pass_mouse_events = false;\n",
       "        },\n",
       "        resize: function(event, ui) {\n",
       "            fig.request_resize(ui.size.width, ui.size.height);\n",
       "        },\n",
       "        stop: function(event, ui) {\n",
       "            pass_mouse_events = true;\n",
       "            fig.request_resize(ui.size.width, ui.size.height);\n",
       "        },\n",
       "    });\n",
       "\n",
       "    function mouse_event_fn(event) {\n",
       "        if (pass_mouse_events)\n",
       "            return fig.mouse_event(event, event['data']);\n",
       "    }\n",
       "\n",
       "    rubberband.mousedown('button_press', mouse_event_fn);\n",
       "    rubberband.mouseup('button_release', mouse_event_fn);\n",
       "    // Throttle sequential mouse events to 1 every 20ms.\n",
       "    rubberband.mousemove('motion_notify', mouse_event_fn);\n",
       "\n",
       "    rubberband.mouseenter('figure_enter', mouse_event_fn);\n",
       "    rubberband.mouseleave('figure_leave', mouse_event_fn);\n",
       "\n",
       "    canvas_div.on(\"wheel\", function (event) {\n",
       "        event = event.originalEvent;\n",
       "        event['data'] = 'scroll'\n",
       "        if (event.deltaY < 0) {\n",
       "            event.step = 1;\n",
       "        } else {\n",
       "            event.step = -1;\n",
       "        }\n",
       "        mouse_event_fn(event);\n",
       "    });\n",
       "\n",
       "    canvas_div.append(canvas);\n",
       "    canvas_div.append(rubberband);\n",
       "\n",
       "    this.rubberband = rubberband;\n",
       "    this.rubberband_canvas = rubberband[0];\n",
       "    this.rubberband_context = rubberband[0].getContext(\"2d\");\n",
       "    this.rubberband_context.strokeStyle = \"#000000\";\n",
       "\n",
       "    this._resize_canvas = function(width, height) {\n",
       "        // Keep the size of the canvas, canvas container, and rubber band\n",
       "        // canvas in synch.\n",
       "        canvas_div.css('width', width)\n",
       "        canvas_div.css('height', height)\n",
       "\n",
       "        canvas.attr('width', width);\n",
       "        canvas.attr('height', height);\n",
       "\n",
       "        rubberband.attr('width', width);\n",
       "        rubberband.attr('height', height);\n",
       "    }\n",
       "\n",
       "    // Set the figure to an initial 600x600px, this will subsequently be updated\n",
       "    // upon first draw.\n",
       "    this._resize_canvas(600, 600);\n",
       "\n",
       "    // Disable right mouse context menu.\n",
       "    $(this.rubberband_canvas).bind(\"contextmenu\",function(e){\n",
       "        return false;\n",
       "    });\n",
       "\n",
       "    function set_focus () {\n",
       "        canvas.focus();\n",
       "        canvas_div.focus();\n",
       "    }\n",
       "\n",
       "    window.setTimeout(set_focus, 100);\n",
       "}\n",
       "\n",
       "mpl.figure.prototype._init_toolbar = function() {\n",
       "    var fig = this;\n",
       "\n",
       "    var nav_element = $('<div/>')\n",
       "    nav_element.attr('style', 'width: 100%');\n",
       "    this.root.append(nav_element);\n",
       "\n",
       "    // Define a callback function for later on.\n",
       "    function toolbar_event(event) {\n",
       "        return fig.toolbar_button_onclick(event['data']);\n",
       "    }\n",
       "    function toolbar_mouse_event(event) {\n",
       "        return fig.toolbar_button_onmouseover(event['data']);\n",
       "    }\n",
       "\n",
       "    for(var toolbar_ind in mpl.toolbar_items) {\n",
       "        var name = mpl.toolbar_items[toolbar_ind][0];\n",
       "        var tooltip = mpl.toolbar_items[toolbar_ind][1];\n",
       "        var image = mpl.toolbar_items[toolbar_ind][2];\n",
       "        var method_name = mpl.toolbar_items[toolbar_ind][3];\n",
       "\n",
       "        if (!name) {\n",
       "            // put a spacer in here.\n",
       "            continue;\n",
       "        }\n",
       "        var button = $('<button/>');\n",
       "        button.addClass('ui-button ui-widget ui-state-default ui-corner-all ' +\n",
       "                        'ui-button-icon-only');\n",
       "        button.attr('role', 'button');\n",
       "        button.attr('aria-disabled', 'false');\n",
       "        button.click(method_name, toolbar_event);\n",
       "        button.mouseover(tooltip, toolbar_mouse_event);\n",
       "\n",
       "        var icon_img = $('<span/>');\n",
       "        icon_img.addClass('ui-button-icon-primary ui-icon');\n",
       "        icon_img.addClass(image);\n",
       "        icon_img.addClass('ui-corner-all');\n",
       "\n",
       "        var tooltip_span = $('<span/>');\n",
       "        tooltip_span.addClass('ui-button-text');\n",
       "        tooltip_span.html(tooltip);\n",
       "\n",
       "        button.append(icon_img);\n",
       "        button.append(tooltip_span);\n",
       "\n",
       "        nav_element.append(button);\n",
       "    }\n",
       "\n",
       "    var fmt_picker_span = $('<span/>');\n",
       "\n",
       "    var fmt_picker = $('<select/>');\n",
       "    fmt_picker.addClass('mpl-toolbar-option ui-widget ui-widget-content');\n",
       "    fmt_picker_span.append(fmt_picker);\n",
       "    nav_element.append(fmt_picker_span);\n",
       "    this.format_dropdown = fmt_picker[0];\n",
       "\n",
       "    for (var ind in mpl.extensions) {\n",
       "        var fmt = mpl.extensions[ind];\n",
       "        var option = $(\n",
       "            '<option/>', {selected: fmt === mpl.default_extension}).html(fmt);\n",
       "        fmt_picker.append(option)\n",
       "    }\n",
       "\n",
       "    // Add hover states to the ui-buttons\n",
       "    $( \".ui-button\" ).hover(\n",
       "        function() { $(this).addClass(\"ui-state-hover\");},\n",
       "        function() { $(this).removeClass(\"ui-state-hover\");}\n",
       "    );\n",
       "\n",
       "    var status_bar = $('<span class=\"mpl-message\"/>');\n",
       "    nav_element.append(status_bar);\n",
       "    this.message = status_bar[0];\n",
       "}\n",
       "\n",
       "mpl.figure.prototype.request_resize = function(x_pixels, y_pixels) {\n",
       "    // Request matplotlib to resize the figure. Matplotlib will then trigger a resize in the client,\n",
       "    // which will in turn request a refresh of the image.\n",
       "    this.send_message('resize', {'width': x_pixels, 'height': y_pixels});\n",
       "}\n",
       "\n",
       "mpl.figure.prototype.send_message = function(type, properties) {\n",
       "    properties['type'] = type;\n",
       "    properties['figure_id'] = this.id;\n",
       "    this.ws.send(JSON.stringify(properties));\n",
       "}\n",
       "\n",
       "mpl.figure.prototype.send_draw_message = function() {\n",
       "    if (!this.waiting) {\n",
       "        this.waiting = true;\n",
       "        this.ws.send(JSON.stringify({type: \"draw\", figure_id: this.id}));\n",
       "    }\n",
       "}\n",
       "\n",
       "\n",
       "mpl.figure.prototype.handle_save = function(fig, msg) {\n",
       "    var format_dropdown = fig.format_dropdown;\n",
       "    var format = format_dropdown.options[format_dropdown.selectedIndex].value;\n",
       "    fig.ondownload(fig, format);\n",
       "}\n",
       "\n",
       "\n",
       "mpl.figure.prototype.handle_resize = function(fig, msg) {\n",
       "    var size = msg['size'];\n",
       "    if (size[0] != fig.canvas.width || size[1] != fig.canvas.height) {\n",
       "        fig._resize_canvas(size[0], size[1]);\n",
       "        fig.send_message(\"refresh\", {});\n",
       "    };\n",
       "}\n",
       "\n",
       "mpl.figure.prototype.handle_rubberband = function(fig, msg) {\n",
       "    var x0 = msg['x0'];\n",
       "    var y0 = fig.canvas.height - msg['y0'];\n",
       "    var x1 = msg['x1'];\n",
       "    var y1 = fig.canvas.height - msg['y1'];\n",
       "    x0 = Math.floor(x0) + 0.5;\n",
       "    y0 = Math.floor(y0) + 0.5;\n",
       "    x1 = Math.floor(x1) + 0.5;\n",
       "    y1 = Math.floor(y1) + 0.5;\n",
       "    var min_x = Math.min(x0, x1);\n",
       "    var min_y = Math.min(y0, y1);\n",
       "    var width = Math.abs(x1 - x0);\n",
       "    var height = Math.abs(y1 - y0);\n",
       "\n",
       "    fig.rubberband_context.clearRect(\n",
       "        0, 0, fig.canvas.width, fig.canvas.height);\n",
       "\n",
       "    fig.rubberband_context.strokeRect(min_x, min_y, width, height);\n",
       "}\n",
       "\n",
       "mpl.figure.prototype.handle_figure_label = function(fig, msg) {\n",
       "    // Updates the figure title.\n",
       "    fig.header.textContent = msg['label'];\n",
       "}\n",
       "\n",
       "mpl.figure.prototype.handle_cursor = function(fig, msg) {\n",
       "    var cursor = msg['cursor'];\n",
       "    switch(cursor)\n",
       "    {\n",
       "    case 0:\n",
       "        cursor = 'pointer';\n",
       "        break;\n",
       "    case 1:\n",
       "        cursor = 'default';\n",
       "        break;\n",
       "    case 2:\n",
       "        cursor = 'crosshair';\n",
       "        break;\n",
       "    case 3:\n",
       "        cursor = 'move';\n",
       "        break;\n",
       "    }\n",
       "    fig.rubberband_canvas.style.cursor = cursor;\n",
       "}\n",
       "\n",
       "mpl.figure.prototype.handle_message = function(fig, msg) {\n",
       "    fig.message.textContent = msg['message'];\n",
       "}\n",
       "\n",
       "mpl.figure.prototype.handle_draw = function(fig, msg) {\n",
       "    // Request the server to send over a new figure.\n",
       "    fig.send_draw_message();\n",
       "}\n",
       "\n",
       "mpl.figure.prototype.handle_image_mode = function(fig, msg) {\n",
       "    fig.image_mode = msg['mode'];\n",
       "}\n",
       "\n",
       "mpl.figure.prototype.updated_canvas_event = function() {\n",
       "    // Called whenever the canvas gets updated.\n",
       "    this.send_message(\"ack\", {});\n",
       "}\n",
       "\n",
       "// A function to construct a web socket function for onmessage handling.\n",
       "// Called in the figure constructor.\n",
       "mpl.figure.prototype._make_on_message_function = function(fig) {\n",
       "    return function socket_on_message(evt) {\n",
       "        if (evt.data instanceof Blob) {\n",
       "            /* FIXME: We get \"Resource interpreted as Image but\n",
       "             * transferred with MIME type text/plain:\" errors on\n",
       "             * Chrome.  But how to set the MIME type?  It doesn't seem\n",
       "             * to be part of the websocket stream */\n",
       "            evt.data.type = \"image/png\";\n",
       "\n",
       "            /* Free the memory for the previous frames */\n",
       "            if (fig.imageObj.src) {\n",
       "                (window.URL || window.webkitURL).revokeObjectURL(\n",
       "                    fig.imageObj.src);\n",
       "            }\n",
       "\n",
       "            fig.imageObj.src = (window.URL || window.webkitURL).createObjectURL(\n",
       "                evt.data);\n",
       "            fig.updated_canvas_event();\n",
       "            fig.waiting = false;\n",
       "            return;\n",
       "        }\n",
       "        else if (typeof evt.data === 'string' && evt.data.slice(0, 21) == \"data:image/png;base64\") {\n",
       "            fig.imageObj.src = evt.data;\n",
       "            fig.updated_canvas_event();\n",
       "            fig.waiting = false;\n",
       "            return;\n",
       "        }\n",
       "\n",
       "        var msg = JSON.parse(evt.data);\n",
       "        var msg_type = msg['type'];\n",
       "\n",
       "        // Call the  \"handle_{type}\" callback, which takes\n",
       "        // the figure and JSON message as its only arguments.\n",
       "        try {\n",
       "            var callback = fig[\"handle_\" + msg_type];\n",
       "        } catch (e) {\n",
       "            console.log(\"No handler for the '\" + msg_type + \"' message type: \", msg);\n",
       "            return;\n",
       "        }\n",
       "\n",
       "        if (callback) {\n",
       "            try {\n",
       "                // console.log(\"Handling '\" + msg_type + \"' message: \", msg);\n",
       "                callback(fig, msg);\n",
       "            } catch (e) {\n",
       "                console.log(\"Exception inside the 'handler_\" + msg_type + \"' callback:\", e, e.stack, msg);\n",
       "            }\n",
       "        }\n",
       "    };\n",
       "}\n",
       "\n",
       "// from http://stackoverflow.com/questions/1114465/getting-mouse-location-in-canvas\n",
       "mpl.findpos = function(e) {\n",
       "    //this section is from http://www.quirksmode.org/js/events_properties.html\n",
       "    var targ;\n",
       "    if (!e)\n",
       "        e = window.event;\n",
       "    if (e.target)\n",
       "        targ = e.target;\n",
       "    else if (e.srcElement)\n",
       "        targ = e.srcElement;\n",
       "    if (targ.nodeType == 3) // defeat Safari bug\n",
       "        targ = targ.parentNode;\n",
       "\n",
       "    // jQuery normalizes the pageX and pageY\n",
       "    // pageX,Y are the mouse positions relative to the document\n",
       "    // offset() returns the position of the element relative to the document\n",
       "    var x = e.pageX - $(targ).offset().left;\n",
       "    var y = e.pageY - $(targ).offset().top;\n",
       "\n",
       "    return {\"x\": x, \"y\": y};\n",
       "};\n",
       "\n",
       "/*\n",
       " * return a copy of an object with only non-object keys\n",
       " * we need this to avoid circular references\n",
       " * http://stackoverflow.com/a/24161582/3208463\n",
       " */\n",
       "function simpleKeys (original) {\n",
       "  return Object.keys(original).reduce(function (obj, key) {\n",
       "    if (typeof original[key] !== 'object')\n",
       "        obj[key] = original[key]\n",
       "    return obj;\n",
       "  }, {});\n",
       "}\n",
       "\n",
       "mpl.figure.prototype.mouse_event = function(event, name) {\n",
       "    var canvas_pos = mpl.findpos(event)\n",
       "\n",
       "    if (name === 'button_press')\n",
       "    {\n",
       "        this.canvas.focus();\n",
       "        this.canvas_div.focus();\n",
       "    }\n",
       "\n",
       "    var x = canvas_pos.x;\n",
       "    var y = canvas_pos.y;\n",
       "\n",
       "    this.send_message(name, {x: x, y: y, button: event.button,\n",
       "                             step: event.step,\n",
       "                             guiEvent: simpleKeys(event)});\n",
       "\n",
       "    /* This prevents the web browser from automatically changing to\n",
       "     * the text insertion cursor when the button is pressed.  We want\n",
       "     * to control all of the cursor setting manually through the\n",
       "     * 'cursor' event from matplotlib */\n",
       "    event.preventDefault();\n",
       "    return false;\n",
       "}\n",
       "\n",
       "mpl.figure.prototype._key_event_extra = function(event, name) {\n",
       "    // Handle any extra behaviour associated with a key event\n",
       "}\n",
       "\n",
       "mpl.figure.prototype.key_event = function(event, name) {\n",
       "\n",
       "    // Prevent repeat events\n",
       "    if (name == 'key_press')\n",
       "    {\n",
       "        if (event.which === this._key)\n",
       "            return;\n",
       "        else\n",
       "            this._key = event.which;\n",
       "    }\n",
       "    if (name == 'key_release')\n",
       "        this._key = null;\n",
       "\n",
       "    var value = '';\n",
       "    if (event.ctrlKey && event.which != 17)\n",
       "        value += \"ctrl+\";\n",
       "    if (event.altKey && event.which != 18)\n",
       "        value += \"alt+\";\n",
       "    if (event.shiftKey && event.which != 16)\n",
       "        value += \"shift+\";\n",
       "\n",
       "    value += 'k';\n",
       "    value += event.which.toString();\n",
       "\n",
       "    this._key_event_extra(event, name);\n",
       "\n",
       "    this.send_message(name, {key: value,\n",
       "                             guiEvent: simpleKeys(event)});\n",
       "    return false;\n",
       "}\n",
       "\n",
       "mpl.figure.prototype.toolbar_button_onclick = function(name) {\n",
       "    if (name == 'download') {\n",
       "        this.handle_save(this, null);\n",
       "    } else {\n",
       "        this.send_message(\"toolbar_button\", {name: name});\n",
       "    }\n",
       "};\n",
       "\n",
       "mpl.figure.prototype.toolbar_button_onmouseover = function(tooltip) {\n",
       "    this.message.textContent = tooltip;\n",
       "};\n",
       "mpl.toolbar_items = [[\"Home\", \"Reset original view\", \"fa fa-home icon-home\", \"home\"], [\"Back\", \"Back to  previous view\", \"fa fa-arrow-left icon-arrow-left\", \"back\"], [\"Forward\", \"Forward to next view\", \"fa fa-arrow-right icon-arrow-right\", \"forward\"], [\"\", \"\", \"\", \"\"], [\"Pan\", \"Pan axes with left mouse, zoom with right\", \"fa fa-arrows icon-move\", \"pan\"], [\"Zoom\", \"Zoom to rectangle\", \"fa fa-square-o icon-check-empty\", \"zoom\"], [\"\", \"\", \"\", \"\"], [\"Download\", \"Download plot\", \"fa fa-floppy-o icon-save\", \"download\"]];\n",
       "\n",
       "mpl.extensions = [\"eps\", \"jpeg\", \"pdf\", \"png\", \"ps\", \"raw\", \"svg\", \"tif\"];\n",
       "\n",
       "mpl.default_extension = \"png\";var comm_websocket_adapter = function(comm) {\n",
       "    // Create a \"websocket\"-like object which calls the given IPython comm\n",
       "    // object with the appropriate methods. Currently this is a non binary\n",
       "    // socket, so there is still some room for performance tuning.\n",
       "    var ws = {};\n",
       "\n",
       "    ws.close = function() {\n",
       "        comm.close()\n",
       "    };\n",
       "    ws.send = function(m) {\n",
       "        //console.log('sending', m);\n",
       "        comm.send(m);\n",
       "    };\n",
       "    // Register the callback with on_msg.\n",
       "    comm.on_msg(function(msg) {\n",
       "        //console.log('receiving', msg['content']['data'], msg);\n",
       "        // Pass the mpl event to the overriden (by mpl) onmessage function.\n",
       "        ws.onmessage(msg['content']['data'])\n",
       "    });\n",
       "    return ws;\n",
       "}\n",
       "\n",
       "mpl.mpl_figure_comm = function(comm, msg) {\n",
       "    // This is the function which gets called when the mpl process\n",
       "    // starts-up an IPython Comm through the \"matplotlib\" channel.\n",
       "\n",
       "    var id = msg.content.data.id;\n",
       "    // Get hold of the div created by the display call when the Comm\n",
       "    // socket was opened in Python.\n",
       "    var element = $(\"#\" + id);\n",
       "    var ws_proxy = comm_websocket_adapter(comm)\n",
       "\n",
       "    function ondownload(figure, format) {\n",
       "        window.open(figure.imageObj.src);\n",
       "    }\n",
       "\n",
       "    var fig = new mpl.figure(id, ws_proxy,\n",
       "                           ondownload,\n",
       "                           element.get(0));\n",
       "\n",
       "    // Call onopen now - mpl needs it, as it is assuming we've passed it a real\n",
       "    // web socket which is closed, not our websocket->open comm proxy.\n",
       "    ws_proxy.onopen();\n",
       "\n",
       "    fig.parent_element = element.get(0);\n",
       "    fig.cell_info = mpl.find_output_cell(\"<div id='\" + id + \"'></div>\");\n",
       "    if (!fig.cell_info) {\n",
       "        console.error(\"Failed to find cell for figure\", id, fig);\n",
       "        return;\n",
       "    }\n",
       "\n",
       "    var output_index = fig.cell_info[2]\n",
       "    var cell = fig.cell_info[0];\n",
       "\n",
       "};\n",
       "\n",
       "mpl.figure.prototype.handle_close = function(fig, msg) {\n",
       "    fig.root.unbind('remove')\n",
       "\n",
       "    // Update the output cell to use the data from the current canvas.\n",
       "    fig.push_to_output();\n",
       "    var dataURL = fig.canvas.toDataURL();\n",
       "    // Re-enable the keyboard manager in IPython - without this line, in FF,\n",
       "    // the notebook keyboard shortcuts fail.\n",
       "    IPython.keyboard_manager.enable()\n",
       "    $(fig.parent_element).html('<img src=\"' + dataURL + '\">');\n",
       "    fig.close_ws(fig, msg);\n",
       "}\n",
       "\n",
       "mpl.figure.prototype.close_ws = function(fig, msg){\n",
       "    fig.send_message('closing', msg);\n",
       "    // fig.ws.close()\n",
       "}\n",
       "\n",
       "mpl.figure.prototype.push_to_output = function(remove_interactive) {\n",
       "    // Turn the data on the canvas into data in the output cell.\n",
       "    var dataURL = this.canvas.toDataURL();\n",
       "    this.cell_info[1]['text/html'] = '<img src=\"' + dataURL + '\">';\n",
       "}\n",
       "\n",
       "mpl.figure.prototype.updated_canvas_event = function() {\n",
       "    // Tell IPython that the notebook contents must change.\n",
       "    IPython.notebook.set_dirty(true);\n",
       "    this.send_message(\"ack\", {});\n",
       "    var fig = this;\n",
       "    // Wait a second, then push the new image to the DOM so\n",
       "    // that it is saved nicely (might be nice to debounce this).\n",
       "    setTimeout(function () { fig.push_to_output() }, 1000);\n",
       "}\n",
       "\n",
       "mpl.figure.prototype._init_toolbar = function() {\n",
       "    var fig = this;\n",
       "\n",
       "    var nav_element = $('<div/>')\n",
       "    nav_element.attr('style', 'width: 100%');\n",
       "    this.root.append(nav_element);\n",
       "\n",
       "    // Define a callback function for later on.\n",
       "    function toolbar_event(event) {\n",
       "        return fig.toolbar_button_onclick(event['data']);\n",
       "    }\n",
       "    function toolbar_mouse_event(event) {\n",
       "        return fig.toolbar_button_onmouseover(event['data']);\n",
       "    }\n",
       "\n",
       "    for(var toolbar_ind in mpl.toolbar_items){\n",
       "        var name = mpl.toolbar_items[toolbar_ind][0];\n",
       "        var tooltip = mpl.toolbar_items[toolbar_ind][1];\n",
       "        var image = mpl.toolbar_items[toolbar_ind][2];\n",
       "        var method_name = mpl.toolbar_items[toolbar_ind][3];\n",
       "\n",
       "        if (!name) { continue; };\n",
       "\n",
       "        var button = $('<button class=\"btn btn-default\" href=\"#\" title=\"' + name + '\"><i class=\"fa ' + image + ' fa-lg\"></i></button>');\n",
       "        button.click(method_name, toolbar_event);\n",
       "        button.mouseover(tooltip, toolbar_mouse_event);\n",
       "        nav_element.append(button);\n",
       "    }\n",
       "\n",
       "    // Add the status bar.\n",
       "    var status_bar = $('<span class=\"mpl-message\" style=\"text-align:right; float: right;\"/>');\n",
       "    nav_element.append(status_bar);\n",
       "    this.message = status_bar[0];\n",
       "\n",
       "    // Add the close button to the window.\n",
       "    var buttongrp = $('<div class=\"btn-group inline pull-right\"></div>');\n",
       "    var button = $('<button class=\"btn btn-mini btn-primary\" href=\"#\" title=\"Stop Interaction\"><i class=\"fa fa-power-off icon-remove icon-large\"></i></button>');\n",
       "    button.click(function (evt) { fig.handle_close(fig, {}); } );\n",
       "    button.mouseover('Stop Interaction', toolbar_mouse_event);\n",
       "    buttongrp.append(button);\n",
       "    var titlebar = this.root.find($('.ui-dialog-titlebar'));\n",
       "    titlebar.prepend(buttongrp);\n",
       "}\n",
       "\n",
       "mpl.figure.prototype._root_extra_style = function(el){\n",
       "    var fig = this\n",
       "    el.on(\"remove\", function(){\n",
       "\tfig.close_ws(fig, {});\n",
       "    });\n",
       "}\n",
       "\n",
       "mpl.figure.prototype._canvas_extra_style = function(el){\n",
       "    // this is important to make the div 'focusable\n",
       "    el.attr('tabindex', 0)\n",
       "    // reach out to IPython and tell the keyboard manager to turn it's self\n",
       "    // off when our div gets focus\n",
       "\n",
       "    // location in version 3\n",
       "    if (IPython.notebook.keyboard_manager) {\n",
       "        IPython.notebook.keyboard_manager.register_events(el);\n",
       "    }\n",
       "    else {\n",
       "        // location in version 2\n",
       "        IPython.keyboard_manager.register_events(el);\n",
       "    }\n",
       "\n",
       "}\n",
       "\n",
       "mpl.figure.prototype._key_event_extra = function(event, name) {\n",
       "    var manager = IPython.notebook.keyboard_manager;\n",
       "    if (!manager)\n",
       "        manager = IPython.keyboard_manager;\n",
       "\n",
       "    // Check for shift+enter\n",
       "    if (event.shiftKey && event.which == 13) {\n",
       "        this.canvas_div.blur();\n",
       "        event.shiftKey = false;\n",
       "        // Send a \"J\" for go to next cell\n",
       "        event.which = 74;\n",
       "        event.keyCode = 74;\n",
       "        manager.command_mode();\n",
       "        manager.handle_keydown(event);\n",
       "    }\n",
       "}\n",
       "\n",
       "mpl.figure.prototype.handle_save = function(fig, msg) {\n",
       "    fig.ondownload(fig, null);\n",
       "}\n",
       "\n",
       "\n",
       "mpl.find_output_cell = function(html_output) {\n",
       "    // Return the cell and output element which can be found *uniquely* in the notebook.\n",
       "    // Note - this is a bit hacky, but it is done because the \"notebook_saving.Notebook\"\n",
       "    // IPython event is triggered only after the cells have been serialised, which for\n",
       "    // our purposes (turning an active figure into a static one), is too late.\n",
       "    var cells = IPython.notebook.get_cells();\n",
       "    var ncells = cells.length;\n",
       "    for (var i=0; i<ncells; i++) {\n",
       "        var cell = cells[i];\n",
       "        if (cell.cell_type === 'code'){\n",
       "            for (var j=0; j<cell.output_area.outputs.length; j++) {\n",
       "                var data = cell.output_area.outputs[j];\n",
       "                if (data.data) {\n",
       "                    // IPython >= 3 moved mimebundle to data attribute of output\n",
       "                    data = data.data;\n",
       "                }\n",
       "                if (data['text/html'] == html_output) {\n",
       "                    return [cell, data, j];\n",
       "                }\n",
       "            }\n",
       "        }\n",
       "    }\n",
       "}\n",
       "\n",
       "// Register the function which deals with the matplotlib target/channel.\n",
       "// The kernel may be null if the page has been refreshed.\n",
       "if (IPython.notebook.kernel != null) {\n",
       "    IPython.notebook.kernel.comm_manager.register_target('matplotlib', mpl.mpl_figure_comm);\n",
       "}\n"
      ],
      "text/plain": [
       "<IPython.core.display.Javascript object>"
      ]
     },
     "metadata": {},
     "output_type": "display_data"
    },
    {
     "data": {
      "text/html": [
       "<div id='50193011-4401-4a50-baf6-1ef0f2e2b855'></div>"
      ],
      "text/plain": [
       "<IPython.core.display.HTML object>"
      ]
     },
     "metadata": {},
     "output_type": "display_data"
    },
    {
     "ename": "IndexError",
     "evalue": "index 5 is out of bounds for axis 0 with size 0",
     "output_type": "error",
     "traceback": [
      "\u001b[1;31m---------------------------------------------------------------------------\u001b[0m",
      "\u001b[1;31mIndexError\u001b[0m                                Traceback (most recent call last)",
      "\u001b[1;32m<ipython-input-1-8c604f8e4dea>\u001b[0m in \u001b[0;36m<module>\u001b[1;34m()\u001b[0m\n\u001b[0;32m     10\u001b[0m \u001b[0mplt\u001b[0m\u001b[1;33m.\u001b[0m\u001b[0mplot\u001b[0m\u001b[1;33m(\u001b[0m\u001b[0mdata\u001b[0m\u001b[1;33m.\u001b[0m\u001b[0mtrace\u001b[0m\u001b[1;33m[\u001b[0m\u001b[1;34m'filtered'\u001b[0m\u001b[1;33m]\u001b[0m\u001b[1;33m)\u001b[0m\u001b[1;33m\u001b[0m\u001b[0m\n\u001b[0;32m     11\u001b[0m \u001b[1;33m\u001b[0m\u001b[0m\n\u001b[1;32m---> 12\u001b[1;33m \u001b[0mes\u001b[0m\u001b[1;33m=\u001b[0m\u001b[0msim\u001b[0m\u001b[1;33m.\u001b[0m\u001b[0mEventStream\u001b[0m\u001b[1;33m(\u001b[0m\u001b[0mdata\u001b[0m\u001b[1;33m.\u001b[0m\u001b[0mevent_stream\u001b[0m\u001b[1;33m)\u001b[0m\u001b[1;33m\u001b[0m\u001b[0m\n\u001b[0m\u001b[0;32m     13\u001b[0m \u001b[0msim\u001b[0m\u001b[1;33m.\u001b[0m\u001b[0mEventStream\u001b[0m\u001b[1;33m.\u001b[0m\u001b[0mFlags\u001b[0m\u001b[1;33m(\u001b[0m\u001b[0mes\u001b[0m\u001b[1;33m.\u001b[0m\u001b[0mbytestream\u001b[0m\u001b[1;33m[\u001b[0m\u001b[1;36m4\u001b[0m\u001b[1;33m:\u001b[0m\u001b[1;36m6\u001b[0m\u001b[1;33m]\u001b[0m\u001b[1;33m)\u001b[0m\u001b[1;33m\u001b[0m\u001b[0m\n",
      "\u001b[1;32mc:\\TES_project\\fpga_ise\\python\\tes\\simulation\\data.py\u001b[0m in \u001b[0;36m__init__\u001b[1;34m(self, stream64)\u001b[0m\n\u001b[0;32m    189\u001b[0m         \u001b[0mself\u001b[0m\u001b[1;33m.\u001b[0m\u001b[0mbytestream\u001b[0m \u001b[1;33m=\u001b[0m \u001b[0mnp\u001b[0m\u001b[1;33m.\u001b[0m\u001b[0mcopy\u001b[0m\u001b[1;33m(\u001b[0m\u001b[0mstream64\u001b[0m\u001b[1;33m[\u001b[0m\u001b[1;34m'data'\u001b[0m\u001b[1;33m]\u001b[0m\u001b[1;33m)\u001b[0m\u001b[1;33m.\u001b[0m\u001b[0mview\u001b[0m\u001b[1;33m(\u001b[0m\u001b[0mnp\u001b[0m\u001b[1;33m.\u001b[0m\u001b[0muint8\u001b[0m\u001b[1;33m)\u001b[0m\u001b[1;33m\u001b[0m\u001b[0m\n\u001b[0;32m    190\u001b[0m \u001b[1;33m\u001b[0m\u001b[0m\n\u001b[1;32m--> 191\u001b[1;33m         \u001b[0mtick\u001b[0m \u001b[1;33m=\u001b[0m \u001b[0mnp\u001b[0m\u001b[1;33m.\u001b[0m\u001b[0mbitwise_and\u001b[0m\u001b[1;33m(\u001b[0m\u001b[0mself\u001b[0m\u001b[1;33m.\u001b[0m\u001b[0mbytestream\u001b[0m\u001b[1;33m[\u001b[0m\u001b[1;36m5\u001b[0m\u001b[1;33m]\u001b[0m\u001b[1;33m,\u001b[0m \u001b[1;36m0x02\u001b[0m\u001b[1;33m)\u001b[0m \u001b[1;33m!=\u001b[0m \u001b[1;36m0\u001b[0m\u001b[1;33m\u001b[0m\u001b[0m\n\u001b[0m\u001b[0;32m    192\u001b[0m         \u001b[0mpayload\u001b[0m \u001b[1;33m=\u001b[0m \u001b[0mPayloadType\u001b[0m\u001b[1;33m.\u001b[0m\u001b[0mfrom_int\u001b[0m\u001b[1;33m(\u001b[0m\u001b[0mnp\u001b[0m\u001b[1;33m.\u001b[0m\u001b[0mright_shift\u001b[0m\u001b[1;33m(\u001b[0m\u001b[0mnp\u001b[0m\u001b[1;33m.\u001b[0m\u001b[0mbitwise_and\u001b[0m\u001b[1;33m(\u001b[0m\u001b[0mself\u001b[0m\u001b[1;33m.\u001b[0m\u001b[0mbytestream\u001b[0m\u001b[1;33m[\u001b[0m\u001b[1;36m5\u001b[0m\u001b[1;33m]\u001b[0m\u001b[1;33m,\u001b[0m \u001b[1;36m0x000C\u001b[0m\u001b[1;33m)\u001b[0m\u001b[1;33m,\u001b[0m \u001b[1;36m2\u001b[0m\u001b[1;33m)\u001b[0m\u001b[1;33m)\u001b[0m\u001b[1;33m\u001b[0m\u001b[0m\n\u001b[0;32m    193\u001b[0m         \u001b[0mevent_size\u001b[0m \u001b[1;33m=\u001b[0m \u001b[0mself\u001b[0m\u001b[1;33m.\u001b[0m\u001b[0mbytestream\u001b[0m\u001b[1;33m[\u001b[0m\u001b[1;36m0\u001b[0m\u001b[1;33m:\u001b[0m\u001b[1;36m2\u001b[0m\u001b[1;33m]\u001b[0m\u001b[1;33m.\u001b[0m\u001b[0mview\u001b[0m\u001b[1;33m(\u001b[0m\u001b[0mnp\u001b[0m\u001b[1;33m.\u001b[0m\u001b[0muint16\u001b[0m\u001b[1;33m)\u001b[0m\u001b[1;33m\u001b[0m\u001b[0m\n",
      "\u001b[1;31mIndexError\u001b[0m: index 5 is out of bounds for axis 0 with size 0"
     ]
    }
   ],
   "source": [
    "%matplotlib notebook\n",
    "import sys\n",
    "import tes.simulation.data as sim\n",
    "import tes.simulation.plot as simplt\n",
    "import numpy as np\n",
    "import matplotlib.pyplot as plt\n",
    "from tes.simulation.filesets import measurement_unit_TB as fileset\n",
    "\n",
    "data = sim.Data(fileset, 1, 'teslib','measurement_unit_TB','Vivado')\n",
    "plt.plot(data.trace['filtered'])\n",
    "\n",
    "es=sim.EventStream(data.event_stream)\n",
    "sim.EventStream.Flags(es.bytestream[4:6])"
   ]
  },
  {
   "cell_type": "code",
   "execution_count": 4,
   "metadata": {
    "collapsed": false
   },
   "outputs": [],
   "source": [
    "d=sim.Data.fromfile('test',np.dtype(\">u8\"),'teslib','measurement_unit_TB','Vivado')"
   ]
  },
  {
   "cell_type": "code",
   "execution_count": 5,
   "metadata": {
    "collapsed": false
   },
   "outputs": [
    {
     "data": {
      "text/plain": [
       "array([18446744073709551615], dtype=uint64)"
      ]
     },
     "execution_count": 5,
     "metadata": {},
     "output_type": "execute_result"
    }
   ],
   "source": [
    "d"
   ]
  },
  {
   "cell_type": "code",
   "execution_count": null,
   "metadata": {
    "collapsed": false,
    "scrolled": true
   },
   "outputs": [],
   "source": [
    "data.event_stream"
   ]
  },
  {
   "cell_type": "code",
   "execution_count": null,
   "metadata": {
    "collapsed": false
   },
   "outputs": [],
   "source": [
    "es.events"
   ]
  },
  {
   "cell_type": "code",
   "execution_count": null,
   "metadata": {
    "collapsed": true
   },
   "outputs": [],
   "source": [
    "data.save('peak_detection.pickle')"
   ]
  },
  {
   "cell_type": "code",
   "execution_count": null,
   "metadata": {
    "collapsed": false
   },
   "outputs": [],
   "source": [
    "trace_header_dt = np.dtype(\n",
    "    ([\n",
    "            ('size',np.uint16),('tflags',np.uint8,(2,)),('dflags',np.uint8,(2,)),\n",
    "            ('time',np.uint16),('offset',np.uint16),('p_thresh',np.uint16),\n",
    "            ('s_thresh',np.uint16),('length',np.uint16),('resvd',np.uint16,(2,)),\n",
    "            ('area',np.uint32)\n",
    "     ])\n",
    ")\n",
    "trace_peak_dt = np.dtype(\n",
    "    ([\n",
    "            ('min',np.uint16),('height',np.uint16),('max',np.uint16),('time',np.uint16)\n",
    "            \n",
    "    ])\n",
    ")\n",
    "trace_dt = np.dtype(\n",
    "    [('header',trace_header_dt),('peaks',trace_peak_dt,(1,)),('data',np.uint16,(600,))]\n",
    ")\n",
    "\n",
    "h=es.bytestream[0:24].view(trace_header_dt)\n",
    "max_peaks=np.bitwise_and(h['tflags'][0][1],0x0F)\n",
    "p=es.bytestream[24:24+(max_peaks+1)*8].view(trace_peak_dt)\n",
    "t=es.bytestream[24+(max_peaks+1)*8:].view(np.int16)\n",
    "t.shape=(-1,2)\n",
    "h"
   ]
  },
  {
   "cell_type": "code",
   "execution_count": null,
   "metadata": {
    "collapsed": false
   },
   "outputs": [],
   "source": [
    "data.pulse_stop[0][0]"
   ]
  },
  {
   "cell_type": "code",
   "execution_count": null,
   "metadata": {
    "collapsed": false
   },
   "outputs": [],
   "source": [
    "%matplotlib notebook\n",
    "starts=data.peak_start\n",
    "stops=data.peak\n",
    "\n",
    "eventstream_traces = []\n",
    "data_traces = []\n",
    "\n",
    "s=0\n",
    "for peak in p:\n",
    "    l=peak[2]-peak[0]+1\n",
    "    eventstream_traces.append(t[s:s+l])\n",
    "    \n",
    "    plt.step(np.arange(peak[0],peak[2]+1),t[s:s+l,0]/2,'b')\n",
    "    plt.step(np.arange(peak[0],peak[2]+1),t[s:s+l,1]/2,'r')\n",
    "    s=l\n",
    "\n",
    "plt.plot(data.trace['filtered'][data.event_start[0][0]:data.pulse_stop[0][0]]/2,':b')\n",
    "plt.plot(data.trace['slope'][data.event_start[0][0]:data.pulse_stop[0][0]]/2,':r')"
   ]
  },
  {
   "cell_type": "code",
   "execution_count": null,
   "metadata": {
    "collapsed": false
   },
   "outputs": [],
   "source": [
    "eventstream_traces[0]"
   ]
  },
  {
   "cell_type": "code",
   "execution_count": null,
   "metadata": {
    "collapsed": false
   },
   "outputs": [],
   "source": [
    "%matplotlib notebook\n",
    "plt.step(np.arange(len(t[:,0])),t[:,0]/2)\n",
    "plt.step(np.arange(len(t[:,1])),t[:,1]/2,'r')"
   ]
  },
  {
   "cell_type": "code",
   "execution_count": null,
   "metadata": {
    "collapsed": false
   },
   "outputs": [],
   "source": [
    "d"
   ]
  },
  {
   "cell_type": "code",
   "execution_count": null,
   "metadata": {
    "collapsed": false
   },
   "outputs": [],
   "source": [
    "data.event_stream['last'].nonzero()"
   ]
  },
  {
   "cell_type": "code",
   "execution_count": null,
   "metadata": {
    "collapsed": false
   },
   "outputs": [],
   "source": [
    "peak_dt = np.dtype(\n",
    "    ([ ('height', np.int16), ('minima', np.int16), ('flags', np.uint16), ('time',np.uint16)])\n",
    ")\n",
    "events = data.event_stream['data'].view(peak_dt)"
   ]
  },
  {
   "cell_type": "code",
   "execution_count": null,
   "metadata": {
    "collapsed": false
   },
   "outputs": [],
   "source": [
    "pulse_peak_dt = np.dtype(\n",
    "    ([('height',np.uint16),('minima',np.uint16),('rise_time',np.uint16),('time',np.uint16)])\n",
    ")\n",
    "pulse_dt = np.dtype(\n",
    "    ([('size',np.uint16),('length',np.uint16),('flags',np.uint16),('time',np.uint16),\n",
    "     ('area',np.int32),('pulse_threshold',np.uint16),('slope_threshold',np.uint16),\n",
    "     ('peak',pulse_peak_dt)])\n",
    ")"
   ]
  },
  {
   "cell_type": "code",
   "execution_count": null,
   "metadata": {
    "collapsed": false
   },
   "outputs": [],
   "source": [
    "bytestream=np.copy(data.event_stream['data']).view(np.uint8)\n",
    "bytestream"
   ]
  },
  {
   "cell_type": "code",
   "execution_count": null,
   "metadata": {
    "collapsed": false
   },
   "outputs": [],
   "source": [
    "events=bytestream.view(pulse_dt)\n",
    "events"
   ]
  },
  {
   "cell_type": "code",
   "execution_count": null,
   "metadata": {
    "collapsed": false
   },
   "outputs": [],
   "source": [
    "events"
   ]
  },
  {
   "cell_type": "code",
   "execution_count": null,
   "metadata": {
    "collapsed": false
   },
   "outputs": [],
   "source": [
    "flags=sim.DetectionFlags(events['flags'][0])\n",
    "flags\n"
   ]
  },
  {
   "cell_type": "code",
   "execution_count": null,
   "metadata": {
    "collapsed": false
   },
   "outputs": [],
   "source": [
    "bs=np.copy(data.event_stream['data']).view(np.uint8)"
   ]
  },
  {
   "cell_type": "code",
   "execution_count": null,
   "metadata": {
    "collapsed": false
   },
   "outputs": [],
   "source": [
    "event_size=bs[0:2].view(np.uint16)[0]\n",
    "event_size\n",
    "pulse_peaks=event_size-2\n",
    "pulse_peak_dt = np.dtype(\n",
    "    ([('height',np.uint16),('minima',np.uint16),('rise_time',np.uint16),('time',np.uint16)])\n",
    ")\n",
    "pulse_dt = np.dtype(\n",
    "    ([('size',np.uint16),('length',np.uint16),('flags',np.uint8,(2,)),('time',np.uint16),\n",
    "     ('area',np.int32),('pulse_threshold',np.uint16),('slope_threshold',np.uint16),\n",
    "     ('peaks',pulse_peak_dt,(pulse_peaks))])\n",
    ")"
   ]
  },
  {
   "cell_type": "code",
   "execution_count": null,
   "metadata": {
    "collapsed": false
   },
   "outputs": [],
   "source": [
    "bs.view(pulse_dt)['flags']"
   ]
  },
  {
   "cell_type": "code",
   "execution_count": null,
   "metadata": {
    "collapsed": false
   },
   "outputs": [],
   "source": [
    "es=sim.EventStream(data.event_stream)"
   ]
  },
  {
   "cell_type": "code",
   "execution_count": null,
   "metadata": {
    "collapsed": false
   },
   "outputs": [],
   "source": [
    "es.bytestream\n"
   ]
  },
  {
   "cell_type": "code",
   "execution_count": null,
   "metadata": {
    "collapsed": false
   },
   "outputs": [],
   "source": [
    "type_flags = np.bitwise_and(events['flags'],0x000f)\n",
    "peak_num = np.right_shift(np.bitwise_and(events['flags'],0x00f0),4)\n",
    "channel = np.right_shift(np.bitwise_and(events['flags'],0x0f00),8)\n",
    "event_type = np.right_shift(np.bitwise_and(events['flags'],0x3000),12)\n",
    "\n",
    "event_type\n"
   ]
  },
  {
   "cell_type": "code",
   "execution_count": null,
   "metadata": {
    "collapsed": false
   },
   "outputs": [],
   "source": [
    "%matplotlib notebook\n",
    "fig = simplt.plot_pulse(8,data,pre=500,length=3000)\n"
   ]
  },
  {
   "cell_type": "code",
   "execution_count": null,
   "metadata": {
    "collapsed": true
   },
   "outputs": [],
   "source": [
    "import pickle\n",
    "\n",
    "# An arbitrary collection of objects supported by pickle.\n",
    "\n",
    "pickler = pickle.Pickler(open('short.pickle', 'wb'),pickle.HIGHEST_PROTOCOL)\n",
    "pickler.dump(data)\n"
   ]
  },
  {
   "cell_type": "code",
   "execution_count": null,
   "metadata": {
    "collapsed": false
   },
   "outputs": [],
   "source": [
    "import pickle\n",
    "unpickler = pickle.Unpickler(open('short.pickle', 'rb'))\n",
    "data2=unpickler.load()"
   ]
  },
  {
   "cell_type": "code",
   "execution_count": null,
   "metadata": {
    "collapsed": false
   },
   "outputs": [],
   "source": [
    "data2.trace['slope']"
   ]
  },
  {
   "cell_type": "code",
   "execution_count": null,
   "metadata": {
    "collapsed": false
   },
   "outputs": [],
   "source": [
    "reg2"
   ]
  },
  {
   "cell_type": "code",
   "execution_count": null,
   "metadata": {
    "collapsed": false,
    "scrolled": false
   },
   "outputs": [],
   "source": [
    "axs = fig.get_axes()\n",
    "pax=axs[0].parasites\n",
    "pax[0]._label\n",
    "f_ins_ax=axs[1]\n",
    "s_ins_ax=f_ins_ax.parasites[0]"
   ]
  },
  {
   "cell_type": "code",
   "execution_count": null,
   "metadata": {
    "collapsed": false,
    "scrolled": false
   },
   "outputs": [],
   "source": [
    "es=sim.Data.fromfile('eventstream',np.int32,'teslib','measurement_unit_TB')"
   ]
  },
  {
   "cell_type": "code",
   "execution_count": null,
   "metadata": {
    "collapsed": false
   },
   "outputs": [],
   "source": [
    "es"
   ]
  },
  {
   "cell_type": "code",
   "execution_count": null,
   "metadata": {
    "collapsed": false
   },
   "outputs": [],
   "source": [
    "data.peak[-1]"
   ]
  },
  {
   "cell_type": "code",
   "execution_count": null,
   "metadata": {
    "collapsed": false
   },
   "outputs": [],
   "source": [
    "s.peak"
   ]
  },
  {
   "cell_type": "code",
   "execution_count": null,
   "metadata": {
    "collapsed": false
   },
   "outputs": [],
   "source": [
    "isinstance(r,sim.DataRegion)"
   ]
  },
  {
   "cell_type": "code",
   "execution_count": null,
   "metadata": {
    "collapsed": false
   },
   "outputs": [],
   "source": [
    "r.peak"
   ]
  },
  {
   "cell_type": "code",
   "execution_count": null,
   "metadata": {
    "collapsed": false
   },
   "outputs": [],
   "source": [
    "i"
   ]
  },
  {
   "cell_type": "code",
   "execution_count": null,
   "metadata": {
    "collapsed": false
   },
   "outputs": [],
   "source": [
    "ax=plt.gca()\n",
    "t=ax.transData\n",
    "t.transform([[0.1,0.2],[1,3]])"
   ]
  },
  {
   "cell_type": "code",
   "execution_count": null,
   "metadata": {
    "collapsed": true
   },
   "outputs": [],
   "source": [
    "x=np.array([0,1,2,3])\n",
    "y=np.array([3,4,5,6])\n",
    "\n",
    "xy=np.empty(shape=(4,2))"
   ]
  },
  {
   "cell_type": "code",
   "execution_count": null,
   "metadata": {
    "collapsed": false
   },
   "outputs": [],
   "source": [
    "xy[:,0]=x\n",
    "xy[:,1]=y\n",
    "t.transform(xy)"
   ]
  },
  {
   "cell_type": "code",
   "execution_count": null,
   "metadata": {
    "collapsed": true
   },
   "outputs": [],
   "source": []
  },
  {
   "cell_type": "code",
   "execution_count": null,
   "metadata": {
    "collapsed": false
   },
   "outputs": [],
   "source": [
    "# run to import isim data files\n",
    "\n",
    "import numpy as np\n",
    "import os\n",
    "import matplotlib.pyplot as plt\n",
    "import math\n",
    "from enum import Enum\n",
    "\n",
    "plt.rcParams[\"figure.figsize\"]=[800./80,600./80]\n",
    "\n",
    "repo='c:\\\\TES_project\\\\fpga_ise\\\\'\n",
    "project='teslib'\n",
    "testbench='measurement_unit_TB'\n",
    "datafile='traces'\n",
    "path=repo+project+'\\\\PlanAhead\\\\'+project+'.sim\\\\'+testbench+'\\\\'\n",
    "\n",
    "traces_dt = np.dtype([('input', np.int32),('raw',np.int32),('filtered',np.int32),('slope',np.int32)])\n",
    "traces=np.fromfile(path+'traces',traces_dt)\n",
    "trigger=np.fromfile(path+'triggers',np.int32)\n",
    "settings=np.fromfile(path+'settings',np.int32)\n",
    "cfd_low=np.fromfile(path+'cfdlow',np.int32)\n",
    "cfd_high=np.fromfile(path+'cfdhigh',np.int32)\n",
    "peaks=np.fromfile(path+'peaks',np.int32)\n",
    "peaks.shape=(-1,2)\n",
    "peak_starts=np.fromfile(path+'peak_starts',np.int32)\n",
    "#peak_starts.shape=(-1,2)\n",
    "pulse_starts=np.fromfile(path+'peak_starts',np.int32)\n",
    "settings=np.fromfile(path+'settings',np.int32)\n",
    "cfd_low=np.fromfile(path+'cfdlow',np.int32)\n",
    "cfd_high=np.fromfile(path+'cfdhigh',np.int32)\n",
    "slope_xing=np.fromfile(path+'slopethreshxings',np.int32)\n"
   ]
  },
  {
   "cell_type": "code",
   "execution_count": null,
   "metadata": {
    "collapsed": false
   },
   "outputs": [],
   "source": [
    "settings[13]"
   ]
  },
  {
   "cell_type": "code",
   "execution_count": null,
   "metadata": {
    "collapsed": false
   },
   "outputs": [],
   "source": [
    "#create register dict from settings array\n",
    "\n",
    "class height_type(Enum):\n",
    "    def from_int(value):\n",
    "        if value == 0:\n",
    "            return height_type.peak_height\n",
    "        elif value == 1:\n",
    "            return height_type.cfd_high\n",
    "        elif value == 2:\n",
    "            return height_type.slope_integral\n",
    "        else:\n",
    "            raise AttributeError()\n",
    "    peak_height=0\n",
    "    cfd_high=1\n",
    "    slope_integral=2\n",
    "\n",
    "class trigger_type(Enum):\n",
    "    def from_int(value):\n",
    "        if value == 0:\n",
    "            return trigger_type.pulse_threshold\n",
    "        elif value == 1:\n",
    "            return trigger_type.slope_threshold\n",
    "        elif value == 2:\n",
    "            return trigger_type.cfd_low\n",
    "        else:\n",
    "            raise AttributeError()\n",
    "    pulse_threshold=0\n",
    "    slope_threshold=1\n",
    "    cfd_low=2\n",
    "\n",
    "class event_type(Enum):\n",
    "    def from_int(value):\n",
    "        if value == 0:\n",
    "            return event_type.peak\n",
    "        elif value == 1:\n",
    "            return event_type.area\n",
    "        elif value == 2:\n",
    "            return event_type.pulse\n",
    "        elif value == 3:\n",
    "            return event_type.trace\n",
    "        else:\n",
    "            raise AttributeError()\n",
    "    peak=0\n",
    "    area=1\n",
    "    pulse=2\n",
    "    trace=3\n",
    "\n",
    "\n",
    "def read_registers(settings):\n",
    "    registers = dict()\n",
    "    registers['baseline'] = dict()\n",
    "    registers['baseline']['offset'] = settings[0]\n",
    "    registers['baseline']['subtraction'] = settings[1]!=0\n",
    "    registers['baseline']['timeconstant'] = settings[2]\n",
    "    registers['baseline']['threshold'] = settings[3]\n",
    "    registers['baseline']['count_threshold'] = settings[4]\n",
    "    registers['generic'] = dict()\n",
    "    registers['baseline']['average_order'] = settings[5]\n",
    "    registers['capture'] = dict()\n",
    "    registers['capture']['cfd_relative'] = settings[6]!=0\n",
    "    registers['capture']['constant_fraction'] = settings[7]\n",
    "    registers['capture']['pulse_threshold'] = settings[8]\n",
    "    registers['capture']['slope_threshold'] = settings[9]\n",
    "    registers['capture']['pulse_area_threshold'] = settings[10]\n",
    "    registers['capture']['height_type'] = height_type.from_int(settings[11])\n",
    "    registers['capture']['threshold_rel2min'] = settings[12]!=0\n",
    "    registers['capture']['trigger_type'] = trigger_type.from_int(settings[13])\n",
    "    registers['capture']['event_type'] = event_type.from_int(settings[14])\n",
    "    return registers\n"
   ]
  },
  {
   "cell_type": "code",
   "execution_count": null,
   "metadata": {
    "collapsed": false
   },
   "outputs": [],
   "source": [
    "%matplotlib notebook\n",
    "x=np.arange(len(traces['filtered']))\n",
    "fig=plt.figure()\n",
    "\n",
    "ax=fig.add_axes([0.15,0.1,0.8,0.8])\n",
    "mV=1.0/math.pow(2,14)*1000\n",
    "nS=4\n",
    "\n",
    "\n",
    "i_trace, =ax.step(x*nS/1000000,(traces['input']+1800)*mV*2,'k',label='raw input')\n",
    "f_trace, =ax.step(x*nS/1000000,traces['filtered']*mV,'b',label='processed')\n",
    "fig.suptitle('Digital Signal Processing',fontsize=24)\n",
    "plt.xlabel('time (ms)',fontsize=18)\n",
    "plt.ylabel('Voltage (mV)',fontsize=18)\n",
    "plt.legend(handles=[i_trace,f_trace])\n",
    "\n",
    "fig.savefig('trace.png')\n",
    "plt.show()"
   ]
  },
  {
   "cell_type": "code",
   "execution_count": null,
   "metadata": {
    "collapsed": true
   },
   "outputs": [],
   "source": []
  },
  {
   "cell_type": "code",
   "execution_count": null,
   "metadata": {
    "collapsed": false
   },
   "outputs": [],
   "source": [
    "%matplotlib notebook\n",
    "import math\n",
    "\n",
    "def align_yaxis(ax1, v1, ax2, v2):\n",
    "    \"\"\"adjust ax2 ylimit so that v2 in ax2 is aligned to v1 in ax1\"\"\"\n",
    "    _, y1 = ax1.transData.transform((0, v1))\n",
    "    _, y2 = ax2.transData.transform((0, v2))\n",
    "    adjust_yaxis(ax2,(y1-y2)/2,v2)\n",
    "    adjust_yaxis(ax1,(y2-y1)/2,v1)\n",
    "\n",
    "def adjust_yaxis(ax,ydif,v):\n",
    "    \"\"\"shift axis ax by ydiff, maintaining point v at the same location\"\"\"\n",
    "    inv = ax.transData.inverted()\n",
    "    _, dy = inv.transform((0, 0)) - inv.transform((0, ydif))\n",
    "    miny, maxy = ax.get_ylim()\n",
    "    miny, maxy = miny - v, maxy - v\n",
    "    if -miny>maxy or (-miny==maxy and dy > 0):\n",
    "        nminy = miny\n",
    "        nmaxy = miny*(maxy+dy)/(miny+dy)\n",
    "    else:\n",
    "        nmaxy = maxy\n",
    "        nminy = maxy*(miny+dy)/(maxy+dy)\n",
    "    ax.set_ylim(nminy+v, nmaxy+v)\n",
    "    \n",
    "x=np.arange(len(traces['filtered']))\n",
    "fig=plt.figure()\n",
    "ax=fig.add_axes([0.1,0.1,0.8,0.8])\n",
    "plt.ylim(-10,120)\n",
    "v=math.pow(2,13)/1000\n",
    "t=x*4\n",
    "ax.plot([0,t[-1]],[0,0],'k')\n",
    "raw, = ax.step(t,traces['raw']/2/v,'k',lw=1,label='raw')\n",
    "processed, = ax.step(t,traces['filtered']/2/v,'r',lw=2,label='processed')\n",
    "ax.plot(trigger,traces['filtered'][trigger+1]/2,'kx')\n",
    "ax.plot(peaks[:,0],traces['filtered'][peaks[:,0]+1]/2,'ro')\n",
    "ax.plot(peak_starts,traces['filtered'][peak_starts+1]/2,'ro')\n",
    "ax.plot(cfd_high,traces['filtered'][cfd_high+1]/2,'bs')\n",
    "ax.plot(cfd_low,traces['filtered'][cfd_low+1]/2,'bs')\n",
    "plt.xlabel('time (ns)',fontsize=18)\n",
    "plt.ylabel('Voltage (mV)',fontsize=18,color='r')\n",
    "\n",
    "ax2=ax.twinx()\n",
    "slope, = ax2.step(t,traces['slope']/256/v/4,'b',lw=2,label='slope')\n",
    "plt.xlim([1292000,1297500])\n",
    "plt.ylim(-0.2,1)\n",
    "align_yaxis(ax,0,ax2,0)\n",
    "plt.ylabel('slope (mV/ns)',color='b',fontsize=18)\n",
    "fig.suptitle('Digital signal processing',fontsize=24)\n",
    "plt.legend(handles=[raw,processed,slope])\n",
    "fig.savefig('dsp.png')\n",
    "plt.show()"
   ]
  },
  {
   "cell_type": "code",
   "execution_count": null,
   "metadata": {
    "collapsed": false
   },
   "outputs": [],
   "source": [
    "%matplotlib notebook\n",
    "\n",
    "#plot pulse\n",
    "from mpl_toolkits.axes_grid1 import host_subplot\n",
    "from mpl_toolkits.axes_grid1.inset_locator import zoomed_inset_axes\n",
    "from mpl_toolkits.axes_grid1.inset_locator import mark_inset\n",
    "\n",
    "pulse=7\n",
    "length=2000\n",
    "pre=100\n",
    "\n",
    "def align_yaxis(ax1, v1, ax2, v2):\n",
    "    \"\"\"adjust ax2 ylimit so that v2 in ax2 is aligned to v1 in ax1\"\"\"\n",
    "    _, y1 = ax1.transData.transform((0, v1))\n",
    "    _, y2 = ax2.transData.transform((0, v2))\n",
    "    adjust_yaxis(ax2,(y1-y2)/2,v2)\n",
    "    adjust_yaxis(ax1,(y2-y1)/2,v1)\n",
    "\n",
    "def adjust_yaxis(ax,ydif,v):\n",
    "    \"\"\"shift axis ax by ydiff, maintaining point v at the same location\"\"\"\n",
    "    inv = ax.transData.inverted()\n",
    "    _, dy = inv.transform((0, 0)) - inv.transform((0, ydif))\n",
    "    miny, maxy = ax.get_ylim()\n",
    "    miny, maxy = miny - v, maxy - v\n",
    "    if -miny>maxy or (-miny==maxy and dy > 0):\n",
    "        nminy = miny\n",
    "        nmaxy = miny*(maxy+dy)/(miny+dy)\n",
    "    else:\n",
    "        nmaxy = maxy\n",
    "        nminy = maxy*(miny+dy)/(maxy+dy)\n",
    "    ax.set_ylim(nminy+v, nmaxy+v)\n",
    "    \n",
    "start=pulse_starts[pulse]-pre\n",
    "stop=start+length\n",
    "x=np.arange(0,len(traces['filtered']))\n",
    "fig=plt.figure()\n",
    "\n",
    "f_ax = host_subplot(111)\n",
    "s_ax = f_ax.twinx()\n",
    "\n",
    "f_ax.set_xlabel(\"Time (ns)\",fontsize=18)\n",
    "f_ax.set_ylabel(\"Voltage (mV)\",fontsize=18,color='r')\n",
    "s_ax.set_ylabel(\"Slope (mv/ns)\",fontsize=18,color='b')\n",
    "\n",
    "mV=1.0/math.pow(2,14)*1000\n",
    "nS=4\n",
    "t=x*nS\n",
    "\n",
    "f_sig = traces['filtered']*mV\n",
    "s_sig = traces['slope']*mV/nS\n",
    "\n",
    "f_ax.plot([t[start],t[stop]],[0,0],'k') # zero line\n",
    "f_trace, = f_ax.step(t[start:stop],f_sig[start:stop],'r',lw=2,label='processed')\n",
    "f_ax.set_ylim(-10,180)\n",
    "\n",
    "s_trace, = s_ax.step(t[start:stop],s_sig[start:stop],'b',lw=1,label='slope')\n",
    "s_ax.set_ylim(-15,50)\n",
    "#s_threshold = 6\n",
    "#s_ax.set_yticks(np.concatenate((s_ax.get_yticks(),[s_threshold])))\n",
    "#labels=[label.get_text() for label in s_ax.get_yticklabels()]\n",
    "#labels[6]='Threshold'\n",
    "\n",
    "#s_ax.set_yticklabels(labels)\n",
    "plt.xlim(t[start],t[stop])\n",
    "align_yaxis(f_ax,0,s_ax,0)\n",
    "fig.suptitle('Measurement:First pass',fontsize=24)\n",
    "#plt.legend(handles=[f_trace,s_trace])\n",
    "\n",
    "starts_mask = np.logical_and(peak_starts >= start,peak_starts <= stop)\n",
    "peaks_mask = np.logical_and(peaks[:,0] >= start, peaks[:,0] <= stop)\n",
    "peak_starts_inwin = peak_starts[starts_mask]\n",
    "\n",
    "for pstart in peak_starts_inwin:\n",
    "    peak_start_t=t[pstart]-2\n",
    "    peak_start_f=f_sig[pstart]\n",
    "    peak_start_s=s_sig[pstart]\n",
    "\n",
    "    f_ax.plot(peak_start_t,peak_start_f,'ro')\n",
    "    s_ax.plot(peak_start_t,peak_start_s,'bo')\n",
    "    \n",
    "    f_trans = f_ax.transData\n",
    "    s_trans = s_ax.transData.inverted()\n",
    "    trans = s_trans+f_trans\n",
    "    f_point=f_trans.transform((peak_start_t,peak_start_f))\n",
    "    s_point=s_trans.transform((f_point[0],f_point[1]))\n",
    "\n",
    "    s_ax.plot([peak_start_t,peak_start_t],[peak_start_s, s_point[1]],'k')\n",
    "\n",
    "#for p in peaks[0][peaks_inwin]\n",
    "peaks_inwin = peaks[peaks_mask,0]\n",
    "for p in peaks_inwin:\n",
    "    peak_t=t[p]-2\n",
    "    peak_f=f_sig[p]\n",
    "    peak_s=s_sig[p]\n",
    "\n",
    "    f_ax.plot(peak_t,peak_f,'ro')\n",
    "    s_ax.plot(peak_t,peak_s,'bo')\n",
    "    \n",
    "    f_trans = f_ax.transData\n",
    "    s_trans = s_ax.transData.inverted()\n",
    "    trans = s_trans+f_trans\n",
    "    f_point=f_trans.transform((peak_t,peak_f))\n",
    "    s_point=s_trans.transform((f_point[0],f_point[1]))\n",
    "\n",
    "    s_ax.plot([peak_t,peak_t],[peak_s, s_point[1]],'k')\n",
    "\n",
    "ins_start = peak_starts_inwin[0]-5\n",
    "ins_stop = peak_starts_inwin[0]+5\n",
    "f_ins_ax = zoomed_inset_axes(f_ax, 50, loc=1)  # zoom = 6\n",
    "f_ins_ax.step(t[ins_start:ins_stop],f_sig[ins_start:ins_stop],'r')\n",
    "f_ins_ax.set_ylim(-0.5,2)\n",
    "f_ins_ax.set_xlim(ins_start,ins_stop)\n",
    "f_ins_ax.set_yticks([])\n",
    "f_ins_ax.set_xticks([])\n",
    "\n",
    "f_ins_ax.plot([t[ins_start],t[ins_stop]],[0,0],'k') # zero line\n",
    "\n",
    "#plt.xticks(visible=False)\n",
    "#plt.yticks(visible=False)\n",
    "mark_inset(f_ax, f_ins_ax, loc1=2, loc2=4, fc=\"none\", ec=\"0.5\")\n",
    "\n",
    "s_ins_ax = f_ins_ax.twinx()\n",
    "s_ins_ax.set_yticks([])\n",
    "s_ins_ax.set_xticks([])\n",
    "\n",
    "s_ins_ax.step(t[ins_start:ins_stop],s_sig[ins_start:ins_stop],'b')\n",
    "\n",
    "s_ins_ax.set_ylim(-1,1)\n",
    "align_yaxis(f_ins_ax,0,s_ins_ax,0)\n",
    "\n",
    "pstart = peak_starts_inwin[0]\n",
    "peak_start_t=t[pstart]-2\n",
    "peak_start_f=f_sig[pstart]\n",
    "peak_start_s=s_sig[pstart]\n",
    "\n",
    "f_ins_ax.plot(peak_start_t,peak_start_f,'ro')\n",
    "s_ins_ax.plot(peak_start_t,peak_start_s,'bo')\n",
    "    \n",
    "f_trans = f_ins_ax.transData\n",
    "s_trans = s_ins_ax.transData.inverted()\n",
    "trans = s_trans+f_trans\n",
    "f_point=f_trans.transform((peak_start_t,peak_start_f))\n",
    "s_point=s_trans.transform((f_point[0],f_point[1]))\n",
    "\n",
    "s_ins_ax.plot([peak_start_t,peak_start_t],[peak_start_s, s_point[1]],'k')\n",
    "\n",
    "s_ax.plot([t[start],t[stop]],[s_threshold,s_threshold],ls='dashed')\n",
    "\n",
    "fig.savefig('measurement1.png')\n",
    "plt.draw()\n",
    "plt.show()"
   ]
  },
  {
   "cell_type": "code",
   "execution_count": null,
   "metadata": {
    "collapsed": false
   },
   "outputs": [],
   "source": [
    "%matplotlib notebook\n",
    "from mpl_toolkits.axes_grid1 import host_subplot\n",
    "from mpl_toolkits.axes_grid1.inset_locator import zoomed_inset_axes\n",
    "from mpl_toolkits.axes_grid1.inset_locator import mark_inset\n",
    "\n",
    "pulse=7\n",
    "length=2000\n",
    "pre=100\n",
    "\n",
    "def align_yaxis(ax1, v1, ax2, v2):\n",
    "    \"\"\"adjust ax2 ylimit so that v2 in ax2 is aligned to v1 in ax1\"\"\"\n",
    "    _, y1 = ax1.transData.transform((0, v1))\n",
    "    _, y2 = ax2.transData.transform((0, v2))\n",
    "    adjust_yaxis(ax2,(y1-y2)/2,v2)\n",
    "    adjust_yaxis(ax1,(y2-y1)/2,v1)\n",
    "\n",
    "def adjust_yaxis(ax,ydif,v):\n",
    "    \"\"\"shift axis ax by ydiff, maintaining point v at the same location\"\"\"\n",
    "    inv = ax.transData.inverted()\n",
    "    _, dy = inv.transform((0, 0)) - inv.transform((0, ydif))\n",
    "    miny, maxy = ax.get_ylim()\n",
    "    miny, maxy = miny - v, maxy - v\n",
    "    if -miny>maxy or (-miny==maxy and dy > 0):\n",
    "        nminy = miny\n",
    "        nmaxy = miny*(maxy+dy)/(miny+dy)\n",
    "    else:\n",
    "        nmaxy = maxy\n",
    "        nminy = maxy*(miny+dy)/(maxy+dy)\n",
    "    ax.set_ylim(nminy+v, nmaxy+v)\n",
    "    \n",
    "start=pulse_starts[pulse]-pre\n",
    "stop=start+length\n",
    "x=np.arange(0,len(traces['filtered']))\n",
    "fig=plt.figure()\n",
    "\n",
    "f_ax = host_subplot(111)\n",
    "s_ax = f_ax.twinx()\n",
    "\n",
    "f_ax.set_xlabel(\"Time (ns)\",fontsize=18)\n",
    "f_ax.set_ylabel(\"Voltage (mV)\",fontsize=18,color='r')\n",
    "s_ax.set_ylabel(\"Slope (mv/ns)\",fontsize=18,color='b')\n",
    "\n",
    "mV=1.0/math.pow(2,14)*1000\n",
    "nS=4\n",
    "t=x*nS\n",
    "\n",
    "f_sig = traces['filtered']*mV\n",
    "s_sig = traces['slope']*mV/nS\n",
    "\n",
    "f_ax.plot([t[start],t[stop]],[0,0],'k') # zero line\n",
    "f_trace, = f_ax.step(t[start:stop],f_sig[start:stop],'r',lw=2,label='processed')\n",
    "f_ax.set_ylim(-10,180)\n",
    "\n",
    "s_trace, = s_ax.step(t[start:stop],s_sig[start:stop],'b',lw=1,label='slope')\n",
    "s_ax.set_ylim(-15,50)\n",
    "#s_threshold = 6\n",
    "#s_ax.set_yticks(np.concatenate((s_ax.get_yticks(),[s_threshold])))\n",
    "#labels=[label.get_text() for label in s_ax.get_yticklabels()]\n",
    "#labels[6]='Threshold'\n",
    "\n",
    "#s_ax.set_yticklabels(labels)\n",
    "plt.xlim(t[start],t[stop])\n",
    "align_yaxis(f_ax,0,s_ax,0)\n",
    "fig.suptitle('Measurement:Second pass',fontsize=24)\n",
    "#plt.legend(handles=[f_trace,s_trace])\n",
    "\n",
    "starts_mask = np.logical_and(peak_starts >= start,peak_starts <= stop)\n",
    "peaks_mask = np.logical_and(peaks[:,0] >= start, peaks[:,0] <= stop)\n",
    "peak_starts_inwin = peak_starts[starts_mask]\n",
    "\n",
    "\n",
    "#for pstart in peak_starts_inwin:\n",
    "#    peak_start_t=t[pstart]-2\n",
    "#    peak_start_f=f_sig[pstart]\n",
    "#    peak_start_s=s_sig[pstart]\n",
    "#\n",
    "#    f_ax.plot(peak_start_t,peak_start_f,'ro')\n",
    "#    s_ax.plot(peak_start_t,peak_start_s,'bo')\n",
    "    \n",
    "#    f_trans = f_ax.transData\n",
    "#    s_trans = s_ax.transData.inverted()\n",
    "#    trans = s_trans+f_trans\n",
    "#    f_point=f_trans.transform((peak_start_t,peak_start_f))\n",
    "#    s_point=s_trans.transform((f_point[0],f_point[1]))\n",
    "\n",
    "#    s_ax.plot([peak_start_t,peak_start_t],[peak_start_s, s_point[1]],'k')\n",
    "\n",
    "#for p in peaks[0][peaks_inwin]\n",
    "peaks_inwin = peaks[peaks_mask,0]\n",
    "x_s=peak_starts_inwin\n",
    "x_p=peaks_inwin\n",
    "y_s=f_sig[x_s]\n",
    "y_p=f_sig[x_p]\n",
    "\n",
    "f_ax.plot(t[peak_starts_inwin],f_sig[peak_starts_inwin],'or')\n",
    "f_ax.plot(t[peaks_inwin],f_sig[peaks_inwin],'or')\n",
    "\n",
    "\n",
    "f_ax.plot([t[x_s[0]],t[x_p[0]]],[y_s[0],y_s[0]],'k')\n",
    "f_ax.plot([t[x_p[0]],t[x_p[0]]],[y_s[0],y_p[0]],'k')\n",
    "\n",
    "f_ax.plot([t[x_s[1]],t[x_p[1]]],[y_s[1],y_s[1]],'k')\n",
    "f_ax.plot([t[x_p[1]],t[x_p[1]]],[y_s[1],y_p[1]],'k')\n",
    "\n",
    "\n",
    "#for p in peaks_inwin:\n",
    "#    peak_t=t[p]-2\n",
    "#    peak_f=f_sig[p]\n",
    "#    peak_s=s_sig[p]\n",
    "\n",
    "#    f_ax.plot(peak_t,peak_f,'ro')\n",
    "#    s_ax.plot(peak_t,peak_s,'bo')\n",
    "    \n",
    "#    f_trans = f_ax.transData\n",
    "#    s_trans = s_ax.transata.inverted()\n",
    "#    trans = s_trans+f_trans\n",
    "#    f_point=f_trans.transform((peak_t,peak_f))\n",
    "#    s_point=s_trans.transform((f_point[0],f_point[1]))\n",
    "\n",
    "#    s_ax.plot([peak_t,peak_t],[peak_s, s_point[1]],'k')\n",
    "\n",
    "ins_start = peak_starts_inwin[1]-300\n",
    "ins_stop = peak_starts_inwin[1]+500\n",
    "f_ins_ax = zoomed_inset_axes(f_ax, 1.5, loc=1)  # zoom = 6\n",
    "f_ins_ax.step(t[ins_start:ins_stop],f_sig[ins_start:ins_stop],'r')\n",
    "f_ins_ax.set_ylim(60,180)\n",
    "f_ins_ax.set_xlim(t[ins_start],t[ins_stop])\n",
    "f_ins_ax.set_yticks([])\n",
    "f_ins_ax.set_xticks([])\n",
    "\n",
    "low_mask = np.logical_and(cfd_low >= start, cfd_low <= stop)\n",
    "low_inwin = cfd_low[low_mask]\n",
    "high_mask = np.logical_and(cfd_high >= start, cfd_high <= stop)\n",
    "high_inwin = cfd_high[high_mask]\n",
    "thresh_mask = np.logical_and(slope_xing >= start, slope_xing <= stop)\n",
    "thresh_inwin = slope_xing[thresh_mask]\n",
    "\n",
    "f_ins_ax.plot(t[peak_starts_inwin],f_sig[peak_starts_inwin],'or')\n",
    "f_ins_ax.plot(t[peaks_inwin],f_sig[peaks_inwin],'or')\n",
    "\n",
    "f_ins_ax.plot(t[low_inwin],f_sig[low_inwin],'ok')\n",
    "f_ins_ax.plot(t[high_inwin],f_sig[high_inwin],'ok')\n",
    "f_ax.plot(t[low_inwin],f_sig[low_inwin],'ok')\n",
    "f_ax.plot(t[high_inwin],f_sig[high_inwin],'ok')\n",
    "#f_ax.plot(t[thresh_inwin],f_sig[thresh_inwin],'ow')\n",
    "f_ins_ax.plot(t[thresh_inwin],f_sig[thresh_inwin],'ow')\n",
    "\n",
    "\n",
    "f_ins_ax.plot([t[x_s[0]],t[x_p[0]]],[y_s[0],y_s[0]],'k')\n",
    "f_ins_ax.plot([t[x_p[0]],t[x_p[0]]],[y_s[0],y_p[0]],'k')\n",
    "\n",
    "f_ins_ax.plot([t[x_s[1]],t[x_p[1]]],[y_s[1],y_s[1]],'k')\n",
    "f_ins_ax.plot([t[x_p[1]],t[x_p[1]]],[y_s[1],y_p[1]],'k')\n",
    "\n",
    "#f_ins_ax.plot([t[ins_start],t[ins_stop]],[0,0],'k') # zero line\n",
    "\n",
    "#plt.xticks(visible=False)\n",
    "#plt.yticks(visible=False)\n",
    "#mark_inset(f_ax, f_ins_ax, loc1=2, loc2=4, fc=\"none\", ec=\"0.5\")\n",
    "\n",
    "pstart = peak_starts_inwin[1]\n",
    "peak_start_t=t[pstart]-2\n",
    "peak_start_f=f_sig[pstart]\n",
    "peak_start_s=s_sig[pstart]\n",
    "\n",
    "f_ins_ax.plot(peak_start_t,peak_start_f,'ro')\n",
    "\n",
    "\n",
    "f_trans = f_ins_ax.transData\n",
    "s_trans = s_ins_ax.transData.inverted()\n",
    "trans = s_trans+f_trans\n",
    "f_point=f_trans.transform((peak_start_t,peak_start_f))\n",
    "s_point=s_trans.transform((f_point[0],f_point[1]))\n",
    "\n",
    "s_ins_ax.plot([peak_start_t,peak_start_t],[peak_start_s, s_point[1]],'k')\n",
    "\n",
    "s_ax.plot([t[start],t[stop]],[s_threshold,s_threshold],ls='dashed')\n",
    "\n",
    "fig.savefig('measurement2.png')\n",
    "plt.draw()\n",
    "plt.show()"
   ]
  },
  {
   "cell_type": "code",
   "execution_count": null,
   "metadata": {
    "collapsed": false
   },
   "outputs": [],
   "source": [
    "from mpl_toolkits.axes_grid1.inset_locator import inset_axes\n",
    "\n",
    "fig=plt.figure()\n",
    "fig.suptitle('Multi Channel Analyser',fontsize=24)\n",
    "\n",
    "h_ax = host_subplot(111)\n",
    "\n",
    "h_ins_ax = inset_axes(h_ax, width=\"80%\",height=1., loc=1)  # zoom = 6\n",
    "h_ins_ax.set_xlim(-25,160)\n",
    "h_ins_ax.set_ylim(0,0.002)\n",
    "h_ax.hist((traces['input']+200)*2*mV,math.pow(2,14),normed=1,facecolor='k',edgecolor='k')\n",
    "h_ax.hist(f_sig,math.pow(2,14),normed=1,facecolor='r',edgecolor='r')\n",
    "h_ins_ax.hist(f_sig,math.pow(2,14),normed=1,facecolor='r',edgecolor='r')\n",
    "h_ins_ax.set_xticks([])\n",
    "h_ins_ax.set_yticks([])\n",
    "h_ax.set_xlim(-30,100)\n",
    "h_ax.set_ylim(0,0.8)\n",
    "\n",
    "mark_inset(h_ax, h_ins_ax, loc1=2, loc2=4, fc=\"none\", ec=\"0.5\")\n",
    "\n",
    "h_ax.set_xlabel('Voltage (mV)')\n",
    "h_ax.set_ylabel('Probability')\n",
    "fig.savefig('hist.png')\n",
    "plt.show()"
   ]
  },
  {
   "cell_type": "code",
   "execution_count": null,
   "metadata": {
    "collapsed": true
   },
   "outputs": [],
   "source": [
    "peak_dt=np.dtype([('time',np.uint16),('flags',np.uint16),('minima',np.uint16),('height',np.uint16)])"
   ]
  },
  {
   "cell_type": "code",
   "execution_count": null,
   "metadata": {
    "collapsed": true
   },
   "outputs": [],
   "source": [
    "area_dt=np.dtype([('time',np.uint16),('flags',np.uint16),('area',np.uint32)])"
   ]
  },
  {
   "cell_type": "code",
   "execution_count": null,
   "metadata": {
    "collapsed": true
   },
   "outputs": [],
   "source": [
    "pulse_peak_dt=np.dtype([('trigger',np.uint16),('rise',np.uint16),('minima',np.uint16),('height',np.uint16)])\n",
    "pulse_header_dt=np.dtype([('time',np.uint16),('flags',np.uint16),('res1',np.uint16),('size',np.uint16),\n",
    "                    ('length',np.uint16),('res2',np.uint16),('area',np.int32)])"
   ]
  },
  {
   "cell_type": "code",
   "execution_count": null,
   "metadata": {
    "collapsed": false
   },
   "outputs": [],
   "source": [
    "pulse2_dt=np.dtype([('time',np.uint16),('flags',np.uint16),('res1',np.uint16),('size',np.uint16),\n",
    "                    ('length',np.uint16),('res2',np.uint16),('area',np.int32),\n",
    "                    ('trigger0',np.uint16),('rise0',np.uint16),('minima0',np.uint16),('height0',np.uint16),\n",
    "                    ('trigger1',np.uint16),('rise1',np.uint16),('minima1',np.uint16),('height1',np.uint16)])"
   ]
  },
  {
   "cell_type": "code",
   "execution_count": null,
   "metadata": {
    "collapsed": false
   },
   "outputs": [],
   "source": [
    "pulse2_subarray_dt=np.dtype([('header',pulse_header_dt,('peaks', (pulse_peak_dt,(1,2)) ))])"
   ]
  },
  {
   "cell_type": "code",
   "execution_count": null,
   "metadata": {
    "collapsed": true
   },
   "outputs": [],
   "source": [
    "eventstream=np.fromfile(path+'eventstream',peak_dt)"
   ]
  },
  {
   "cell_type": "code",
   "execution_count": null,
   "metadata": {
    "collapsed": true
   },
   "outputs": [],
   "source": [
    "eventstream=np.fromfile(path+'eventstream',area_dt)"
   ]
  },
  {
   "cell_type": "code",
   "execution_count": null,
   "metadata": {
    "collapsed": true
   },
   "outputs": [],
   "source": [
    "eventstream=np.fromfile(path+'eventstream',pulse2_dt)"
   ]
  },
  {
   "cell_type": "code",
   "execution_count": null,
   "metadata": {
    "collapsed": false
   },
   "outputs": [],
   "source": [
    "eventstream"
   ]
  },
  {
   "cell_type": "code",
   "execution_count": null,
   "metadata": {
    "collapsed": false
   },
   "outputs": [],
   "source": [
    "flags=eventstream['flags']\n",
    "print(np.binary_repr(flags[0],16))"
   ]
  },
  {
   "cell_type": "code",
   "execution_count": null,
   "metadata": {
    "collapsed": false
   },
   "outputs": [],
   "source": [
    "print(\"flags:{:016b}\\nsize:{}\\nlength:{}\\narea:{}\\ntrigger:{} rise:{} minima:{} height:{}\\ntrigger:{} rise:{} minima:{} height:{}\\n\"  \n",
    "      .format(eventstream['flags'][0],eventstream['size'][0],eventstream['length'][0],eventstream['area'][0],\n",
    "        eventstream['trigger0'][0],eventstream['rise0'][0],eventstream['minima0'][0],eventstream['height0'][0],\n",
    "        eventstream['trigger1'][0],eventstream['rise1'][0],eventstream['minima1'][0],eventstream['height1'][0]))"
   ]
  },
  {
   "cell_type": "code",
   "execution_count": null,
   "metadata": {
    "collapsed": false
   },
   "outputs": [],
   "source": [
    "print(np.binary_repr(flags[1],16))"
   ]
  },
  {
   "cell_type": "code",
   "execution_count": null,
   "metadata": {
    "collapsed": true
   },
   "outputs": [],
   "source": [
    "rel_to_min=np.right_shift(np.bitwise_and(flags,0x8000),15).astype(np.bool)\n",
    "channel=np.right_shift(np.bitwise_and(flags,0x0F00),8).astype(np.uint8)\n",
    "threshold_rel2min=np.right_shift(np.bitwise_and(flags,0x4000),14).astype(np.bool)\n",
    "peak_count=np.right_shift(np.bitwise_and(flags,0x00F0),4).astype(np.uint8)\n",
    "tick=np.bitwise_and(flags,0x0001).astype(bool)\n",
    "area=np.right_shift(np.bitwise_and(flags,0x0002),1).astype(np.bool)\n",
    "trace=np.right_shift(np.bitwise_and(flags,0x0004),2).astype(np.bool)\n",
    "fixed=np.right_shift(np.bitwise_and(flags,0x0008),3).astype(np.bool)\n",
    "event_type=np.right_shift(np.bitwise_and(flags,0x3000),12).astype(np.uint8)"
   ]
  },
  {
   "cell_type": "code",
   "execution_count": null,
   "metadata": {
    "collapsed": false
   },
   "outputs": [],
   "source": [
    "flags"
   ]
  },
  {
   "cell_type": "code",
   "execution_count": null,
   "metadata": {
    "collapsed": false
   },
   "outputs": [],
   "source": [
    "eventstream"
   ]
  },
  {
   "cell_type": "code",
   "execution_count": null,
   "metadata": {
    "collapsed": true
   },
   "outputs": [],
   "source": []
  },
  {
   "cell_type": "code",
   "execution_count": null,
   "metadata": {
    "collapsed": true
   },
   "outputs": [],
   "source": []
  }
 ],
 "metadata": {
  "kernelspec": {
   "display_name": "Python 3",
   "language": "python",
   "name": "python3"
  },
  "language_info": {
   "codemirror_mode": {
    "name": "ipython",
    "version": 3
   },
   "file_extension": ".py",
   "mimetype": "text/x-python",
   "name": "python",
   "nbconvert_exporter": "python",
   "pygments_lexer": "ipython3",
   "version": "3.5.1"
  }
 },
 "nbformat": 4,
 "nbformat_minor": 0
}
