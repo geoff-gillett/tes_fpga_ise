{
 "cells": [
  {
   "cell_type": "code",
   "execution_count": 169,
   "metadata": {
    "collapsed": true
   },
   "outputs": [],
   "source": [
    "from tes.data import Data,PacketStream,Packet,Payload,EventFlags\n",
    "from tes.hdf5 import _PacketData, _import\n",
    "from tes.base import Detection, Height, Timing, event_dt\n",
    "import numpy as np\n",
    "import matplotlib.pyplot as plt\n",
    "from subprocess import Popen\n",
    "\n",
    "import logging\n",
    "import sys\n",
    "logger = logging.getLogger('tes')\n",
    "logger.setLevel(logging.DEBUG)\n",
    "handler = logging.StreamHandler(sys.stderr)\n",
    "formatter = logging.Formatter('%(name)s:%(levelname)s %(message)s')\n",
    "handler.setFormatter(formatter)\n",
    "logger.handlers = [handler]\n",
    "\n",
    "trace_dt=np.dtype([('raw','i4'), ('f','i4'), ('s','i4')])\n",
    "flags_dt = (np.int32, {'f0':(np.uint8,0),'f1':(np.uint8,1),'f2':(np.uint8,2), 'f3':(np.uint8,3)})\n",
    "\n",
    "min_dt=np.dtype([\n",
    "    ('clk','i4'),('f','i4'),('s','i4'),('low','i4'),('high','i4'),('flags',flags_dt),\n",
    "    ('max_slope','i4'),('minima','i4'),('s_area','i4'),('s_extrema','i4')\n",
    "])\n",
    "max_dt=np.dtype([\n",
    "    ('clk','i4'),('f','i4'),('s','i4'),('flags',flags_dt),('s_area','i4'),('s_extrema','i4'),\n",
    "    ('peak_height','i4')\n",
    "])\n",
    "f0_xing_dt=np.dtype([\n",
    "    ('clk','i4'),('f_area','i4'),('f_exrema','i4')\n",
    "])\n",
    "ptn_xing_dt=np.dtype([\n",
    "    ('clk','i4'),('pulse_area','i4'),('pulse_length','i4'),('pulse_timer','i4')\n",
    "])\n",
    "rise_start_dt=np.dtype([\n",
    "    ('clk','i4'),('pulse_timer','i4'),('rise_number','i4'),('rise_address','i4')\n",
    "])\n",
    "rise_dt=np.dtype([\n",
    "    ('clk','i4'),('pulse_timer','i4'),('rise_number','i4'),('rise_address','i4'),\n",
    "    ('rise_timer','i4'),('peak_height','i4')\n",
    "])\n",
    "pulse_start_dt=np.dtype([\n",
    "    ('clk','i4'),('enabled','i4'),('area_threshold','i4'),('cfd_rel2min','i4'),\n",
    "    ('constant_fraction','i4'), ('detection','i4'),('height','i4'),('max_peaks','i4'),\n",
    "    ('pulse_threshold','i4'),('slope_threshold','i4'),('timing','i4'),('trace_type','i4'),\n",
    "    ('trace_signal','i4'),('trace_length','i4'),('trace_stride','i4')\n",
    "])\n",
    "stamp_dt=np.dtype([('clk','i4'),('pulse_timer','i4')])\n",
    "f0_dt=np.dtype([\n",
    "    ('rise0','u1'),('rise_start','u1'),('pulse_start','u1'),('will_cross','u1'),('will_arm','u1'),\n",
    "    ('cfd_error','u1'),('cfd_overrun','u1'),('cfd_valid','u1')\n",
    "])\n",
    "f1_dt=np.dtype([\n",
    "    ('b0','u1'),('b1','u1'),('b2','u1'),('b3','u1'),('b4','u1'),\n",
    "    ('rise2','u1'),('rise1','u1'),('valid_rise','u1')\n",
    "])\n",
    "\n",
    "xing_dt=np.dtype([('clk','i4')])\n",
    "stream_dt=np.dtype([('clk','i4'),('data','u8')])\n",
    "\n",
    "def xings(s, thresh):\n",
    "    xing = np.zeros_like(s)\n",
    "    i=0\n",
    "    was_above = s[0] > thresh\n",
    "    for i in range(1, len(s)):\n",
    "        if s[i] > thresh:\n",
    "            if not was_above:\n",
    "                xing[i] = 1\n",
    "            was_above = True\n",
    "        if s[i] < thresh:\n",
    "            if was_above:\n",
    "                xing[i] = -1\n",
    "            was_above = False\n",
    "            \n",
    "    return np.where(xing==1)[0], np.where(xing==-1)[0]"
   ]
  },
  {
   "cell_type": "code",
   "execution_count": 170,
   "metadata": {
    "collapsed": true
   },
   "outputs": [],
   "source": [
    "traces=Data.fromfile('traces',trace_dt,'teslib','measurement_framer_TB',tool='vivado')\n",
    "min_data=Data.fromfile('min_data',min_dt,'teslib','measurement_framer_TB',tool='vivado')\n",
    "max_data=Data.fromfile('max_data',max_dt,'teslib','measurement_framer_TB',tool='vivado')\n",
    "f0p_xings=Data.fromfile('f0p_xings',f0_xing_dt,'teslib','measurement_framer_TB',tool='vivado')\n",
    "f0n_xings=Data.fromfile('f0n_xings',f0_xing_dt,'teslib','measurement_framer_TB',tool='vivado')\n",
    "ptn_xings=Data.fromfile('ptn_xings',ptn_xing_dt,'teslib','measurement_framer_TB',tool='vivado')\n",
    "rise_starts=Data.fromfile('rise_start',rise_start_dt,'teslib','measurement_framer_TB',tool='vivado')\n",
    "rise_stops=Data.fromfile('rise_stop',rise_dt,'teslib','measurement_framer_TB',tool='vivado')\n",
    "height_valids=Data.fromfile('height_valid',rise_dt,'teslib','measurement_framer_TB',tool='vivado')\n",
    "init_reg=Data.fromfile('init_reg',pulse_start_dt,'teslib','measurement_framer_TB',tool='vivado')\n",
    "pulse_starts=Data.fromfile('pulse_start',pulse_start_dt,'teslib','measurement_framer_TB',tool='vivado')\n",
    "stamp_rises=Data.fromfile('stamp_rise',stamp_dt,'teslib','measurement_framer_TB',tool='vivado')\n",
    "stamp_pulses=Data.fromfile('stamp_pulse',stamp_dt,'teslib','measurement_framer_TB',tool='vivado')\n",
    "framer_errors=Data.fromfile('framer_error',xing_dt,'teslib','measurement_framer_TB',tool='vivado')\n",
    "framer_overflows=Data.fromfile('framer_overflow',xing_dt,'teslib','measurement_framer_TB',tool='vivado')\n",
    "commits=Data.fromfile('commit',xing_dt,'teslib','measurement_framer_TB',tool='vivado')\n",
    "dumps=Data.fromfile('dump',xing_dt,'teslib','measurement_framer_TB',tool='vivado')\n",
    "starts=Data.fromfile('start',xing_dt,'teslib','measurement_framer_TB',tool='vivado')\n",
    "stream=Data.fromfile('stream',stream_dt,'teslib','measurement_framer_TB',tool='vivado')\n",
    "stream_data=np.copy(stream['data'].byteswap()).view(np.uint8)\n",
    "stream_lasts=np.where(stream['clk']<0)[0]\n",
    "raw=traces['raw']\n",
    "f=traces['f']\n",
    "s=traces['s']\n",
    "mins, maxs = xings(s, 0)\n",
    "f0p, f0n = xings(f,0)"
   ]
  },
  {
   "cell_type": "code",
   "execution_count": 5,
   "metadata": {},
   "outputs": [
    {
     "data": {
      "text/plain": [
       "(array([32,  0,  0,  0, 48,  8,  0,  0], dtype=uint8),\n",
       " array([ 3,  7, 11, 15, 19, 23, 27, 31], dtype=int64))"
      ]
     },
     "execution_count": 5,
     "metadata": {},
     "output_type": "execute_result"
    }
   ],
   "source": [
    "stream_data[:8],stream_lasts[:8]"
   ]
  },
  {
   "cell_type": "code",
   "execution_count": 171,
   "metadata": {},
   "outputs": [
    {
     "ename": "IndexError",
     "evalue": "index 13557 is out of bounds for axis 0 with size 13557",
     "output_type": "error",
     "traceback": [
      "\u001b[1;31m---------------------------------------------------------------------------\u001b[0m",
      "\u001b[1;31mIndexError\u001b[0m                                Traceback (most recent call last)",
      "\u001b[1;32m<ipython-input-171-5b50d0d69da7>\u001b[0m in \u001b[0;36m<module>\u001b[1;34m()\u001b[0m\n\u001b[0;32m     22\u001b[0m         \u001b[0mprint\u001b[0m\u001b[1;33m(\u001b[0m\u001b[1;34m'index mismatch for minima i={}'\u001b[0m\u001b[1;33m.\u001b[0m\u001b[0mformat\u001b[0m\u001b[1;33m(\u001b[0m\u001b[0mi\u001b[0m\u001b[1;33m)\u001b[0m\u001b[1;33m)\u001b[0m\u001b[1;33m\u001b[0m\u001b[0m\n\u001b[0;32m     23\u001b[0m         \u001b[1;32mbreak\u001b[0m\u001b[1;33m\u001b[0m\u001b[0m\n\u001b[1;32m---> 24\u001b[1;33m     \u001b[1;32mif\u001b[0m \u001b[0mmaxs\u001b[0m\u001b[1;33m[\u001b[0m\u001b[0mi\u001b[0m\u001b[1;33m]\u001b[0m \u001b[1;33m!=\u001b[0m \u001b[0mmax_data\u001b[0m\u001b[1;33m[\u001b[0m\u001b[1;34m'clk'\u001b[0m\u001b[1;33m]\u001b[0m\u001b[1;33m[\u001b[0m\u001b[0mi\u001b[0m\u001b[1;33m]\u001b[0m\u001b[1;33m:\u001b[0m\u001b[1;33m\u001b[0m\u001b[0m\n\u001b[0m\u001b[0;32m     25\u001b[0m         \u001b[0mprint\u001b[0m\u001b[1;33m(\u001b[0m\u001b[1;34m'index mismatch for maxima i={}'\u001b[0m\u001b[1;33m.\u001b[0m\u001b[0mformat\u001b[0m\u001b[1;33m(\u001b[0m\u001b[0mi\u001b[0m\u001b[1;33m)\u001b[0m\u001b[1;33m)\u001b[0m\u001b[1;33m\u001b[0m\u001b[0m\n\u001b[0;32m     26\u001b[0m         \u001b[1;32mbreak\u001b[0m\u001b[1;33m\u001b[0m\u001b[0m\n",
      "\u001b[1;31mIndexError\u001b[0m: index 13557 is out of bounds for axis 0 with size 13557"
     ]
    }
   ],
   "source": [
    "# check basic measurements against calculation from traces\n",
    "from decimal import Decimal\n",
    "if maxs[0] < mins[0]:\n",
    "    maxs = maxs[1:] #start with a min\n",
    "    max_data=max_data[1:]\n",
    "#     max_data=max_data[1:]\n",
    "if f0n[0] < f0p[0]:\n",
    "    f0n = f0n[1:]\n",
    "    f0n_xings=fon_xings[1:]\n",
    "\n",
    "#get initial registers\n",
    "reg = init_reg[0]\n",
    "\n",
    "# flags\n",
    "min_f0=np.unpackbits(min_data['flags']['f0']).view(f0_dt)\n",
    "min_f1=np.unpackbits(min_data['flags']['f1']).view(f1_dt)\n",
    "max_f0=np.unpackbits(max_data['flags']['f0']).view(f0_dt)\n",
    "max_f1=np.unpackbits(max_data['flags']['f1']).view(f1_dt)\n",
    "\n",
    "# iterate over minima found by looking at traces\n",
    "for i in range(len(mins)):\n",
    "    if mins[i] != min_data['clk'][i]:\n",
    "        print('index mismatch for minima i={}'.format(i))\n",
    "        break\n",
    "    if maxs[i] != max_data['clk'][i]:\n",
    "        print('index mismatch for maxima i={}'.format(i))\n",
    "        break\n",
    "        \n",
    "    #look for a pulse start at same clk index as this min\n",
    "    ps = np.where(pulse_starts['clk']==mins[i])[0]\n",
    "    if len(ps):\n",
    "        reg = pulse_starts[ps[0]]\n",
    "        packet_dt = event_dt(reg['detection'], reg['trace_type'],reg['max_peaks'])\n",
    "        \n",
    "    maxima = f[maxs[i]]\n",
    "    minima = f[mins[i]]\n",
    "    will_cross = maxima > reg['pulse_threshold']\n",
    "    will_arm = len(np.where(s[mins[i]:maxs[i]+1] > reg['slope_threshold']))!=0\n",
    "    first_rise = minima < reg['pulse_threshold']\n",
    "    \n",
    "    if will_cross != (min_f0['will_cross'][i]==1):\n",
    "        print('will_cross mismatch @ min i={} '.format(i))\n",
    "    if will_cross != (max_f0['will_cross'][i]==1):\n",
    "        print('will_cross mismatch @ max i={}'.format(i))\n",
    "        \n",
    "    if will_arm != (min_f0['will_arm'][i]==1):\n",
    "        print('will_arm mismatch @ min i={} '.format(i))\n",
    "    if will_arm != (max_f0['will_arm'][i]==1):\n",
    "        print('will_arm mismatch @ max i={}'.format(i))\n",
    "    \n",
    "    if first_rise != (min_f0['rise0'][i]==1):\n",
    "        print('first_rist mismatch @ min i={}'.format(i))\n",
    "    if first_rise != (max_f0['rise0'][i]==1):\n",
    "        print('first_rise mismatch @ max i={}'.format(i))\n",
    "    \n",
    "    if first_rise:\n",
    "        cfi = maxima*reg['constant_fraction']\n",
    "        cf_min = 0\n",
    "    else:\n",
    "        cfi = (maxima-minima)*reg['constant_fraction']\n",
    "        cf_min = minima\n",
    "        \n",
    "    cfi_f,_ = np.modf(cfi)\n",
    "    cfi_i = np.right_shift(cfi,17)\n",
    "    cfd_high = maxima - cfi_i\n",
    "    cfd_low = cf_min + cfi_i\n",
    "\n",
    "    if min_data['high'][i] != cfd_high:\n",
    "        print('cfd_high mismatch i={} min_data={} cfd_high={}'.format(i,min_data['high'][i],cfd_high))\n",
    "    if min_data['low'][i] != cfd_low:\n",
    "        print('cfd_low mismatch i={} min_data={} cfd_high={}'.format(i,min_data['low'][i],cfd_low))\n",
    "    cfd_error = cfd_low < minima\n",
    "    if cfd_error != (min_f0['cfd_error'][i]=='1'):\n",
    "        print('cfd_error mismatch i={}'.format(i))\n",
    "    if cfd_error != (min_f0['cfd_valid'][i]=='0'):\n",
    "        print('cfd_valid mismatch @ min i={}'.format(i))\n",
    "    if cfd_error != (max_f0['cfd_valid'][i]=='0'):\n",
    "        print('cfd_valid mismatch @ max i={}'.format(i))\n",
    "    \n",
    "    detection=Detection(reg['detection'])\n",
    "    timing=Timing(reg['timing'])\n",
    "    height=Height(reg['height'])\n",
    "    if timing==Timing.cfd_low or height==Height.cfd_high or height==Height.cfd_height:\n",
    "        valid_rise = will_arm and will_cross and cfd_valid\n",
    "    else:\n",
    "        valid_rise = will_arm and will_cross\n",
    "    if valid_rise != min_f1['valid_rise'][i]:\n",
    "        print('valid_rise mismatch @ min i={}'.format(i))\n",
    "    if valid_rise != max_f1['valid_rise'][i]:\n",
    "        print('valid_rise mismatch @ max i={}'.format(i))\n",
    "    \n",
    "    if valid_rise != min_f0['rise_start'][i]==1:\n",
    "        print('rise_start missing @ min i={}'.format(i))\n",
    "    if (valid_rise and first_rise) != min_f0['pulse_start'][i]==1:\n",
    "        print('pulse_start missing @ min i={}'.format(i))\n",
    "        \n",
    "    # slope measurements\n",
    "    if i > 0:\n",
    "        s_a_min =  sum(s[maxs[i-1]:mins[i]])/4\n",
    "        s_area_min = int(Decimal(s_a_min).to_integral_value(rounding=decimal.ROUND_HALF_UP))\n",
    "        if s_area_min != min_data['s_area'][i]:\n",
    "            print(\n",
    "                'slope_area mismatch @ min i={} data={} calc={}'\n",
    "                .format(i,min_data['s_area'][i],s_a_min)\n",
    "            )\n",
    "        s_a_max = sum(s[mins[i]:maxs[i]])/4\n",
    "        s_area_max = int(Decimal(s_a_max).to_integral_value(rounding=decimal.ROUND_HALF_UP))\n",
    "        if s_area_max != max_data['s_area'][i]:\n",
    "            print(\n",
    "                'slope_area mismatch @ max i={} data={} calc={}'\n",
    "                .format(i,max_data['s_area'][i],s_area_max)\n",
    "            )\n",
    "    \n",
    "    \n",
    "    \n",
    "    \n",
    "for i in range(len(f0p)):\n",
    "    f0p_a=sum(f[f0n[j-1]:f0p[j]])/4\n",
    "    f0p_area = int(Decimal(f0p_a).to_integral_value(rounding=decimal.ROUND_HALF_UP))\n",
    "    if f0p_area != f0p_xing['f_area'][i]:\n",
    "        print(\n",
    "            'f_area mismatch @ f0p i={} data={} calc={}'\n",
    "            .format(i,f0p_xing['f_area'][i],f0p_area)\n",
    "        )\n",
    "    f0n_a = sum(f[f0p[j]:f0n[j]])/4\n",
    "    f0n_area = int(Decimal(f0n_a).to_integral_value(rounding=decimal.ROUND_HALF_UP))\n",
    "    if f0n_area != f0n_xing['f_area'][i]:\n",
    "        print(\n",
    "            'f_area mismatch @ f0n i={} data={} calc={}'\n",
    "            .format(i,f0n_xing['f_area'][i],f0n_area)\n",
    "        )\n",
    "    \n",
    "       "
   ]
  },
  {
   "cell_type": "code",
   "execution_count": 160,
   "metadata": {},
   "outputs": [
    {
     "data": {
      "text/plain": [
       "-5365"
      ]
     },
     "execution_count": 160,
     "metadata": {},
     "output_type": "execute_result"
    }
   ],
   "source": [
    "f0p_xings['f_area'][1]"
   ]
  },
  {
   "cell_type": "code",
   "execution_count": 161,
   "metadata": {},
   "outputs": [
    {
     "data": {
      "text/plain": [
       "(-5364.5, -5365)"
      ]
     },
     "execution_count": 161,
     "metadata": {},
     "output_type": "execute_result"
    }
   ],
   "source": [
    "j=1\n",
    "sum(f[f0n[j-1]:f0p[j]])/4,f0p_xings['f_area'][j]"
   ]
  },
  {
   "cell_type": "code",
   "execution_count": 162,
   "metadata": {},
   "outputs": [
    {
     "data": {
      "text/plain": [
       "(522.5, 523)"
      ]
     },
     "execution_count": 162,
     "metadata": {},
     "output_type": "execute_result"
    }
   ],
   "source": [
    "\n",
    "sum(f[f0p[j]:f0n[j]])/4,f0n_xings['f_area'][j]"
   ]
  },
  {
   "cell_type": "code",
   "execution_count": 122,
   "metadata": {},
   "outputs": [
    {
     "data": {
      "text/plain": [
       "-5243"
      ]
     },
     "execution_count": 122,
     "metadata": {},
     "output_type": "execute_result"
    }
   ],
   "source": [
    "sum(s[maxs[j-1]:mins[j]])"
   ]
  },
  {
   "cell_type": "code",
   "execution_count": 136,
   "metadata": {},
   "outputs": [
    {
     "data": {
      "text/plain": [
       "(1, 967, 967)"
      ]
     },
     "execution_count": 136,
     "metadata": {},
     "output_type": "execute_result"
    }
   ],
   "source": [
    "j=0\n",
    "max_data['s_area'][j],max_data['clk'][j],maxs[j]"
   ]
  },
  {
   "cell_type": "code",
   "execution_count": 137,
   "metadata": {},
   "outputs": [
    {
     "data": {
      "text/plain": [
       "(967, 967, 964, 964)"
      ]
     },
     "execution_count": 137,
     "metadata": {},
     "output_type": "execute_result"
    }
   ],
   "source": [
    "maxs[j],max_data['clk'][j],mins[j],min_data['clk'][j]"
   ]
  },
  {
   "cell_type": "code",
   "execution_count": 80,
   "metadata": {},
   "outputs": [
    {
     "data": {
      "text/plain": [
       "-1"
      ]
     },
     "execution_count": 80,
     "metadata": {},
     "output_type": "execute_result"
    }
   ],
   "source": [
    "fl=-.5\n",
    "int(Decimal(fl).to_integral_value(rounding=decimal.ROUND_HALF_UP))"
   ]
  },
  {
   "cell_type": "code",
   "execution_count": null,
   "metadata": {
    "collapsed": true
   },
   "outputs": [],
   "source": [
    "j=0\n",
    "mins[j],min_data['clk'][j],maxs[j],max_data['clk'][j]"
   ]
  },
  {
   "cell_type": "code",
   "execution_count": null,
   "metadata": {
    "collapsed": true
   },
   "outputs": [],
   "source": [
    "init_reg=Data.fromfile('init_reg',pulse_start_dt,'teslib','measurement_framer_TB',tool='vivado')\n",
    "init_reg['pulse_threshold']"
   ]
  },
  {
   "cell_type": "code",
   "execution_count": null,
   "metadata": {
    "collapsed": true
   },
   "outputs": [],
   "source": [
    "pulse_starts['clk']"
   ]
  },
  {
   "cell_type": "code",
   "execution_count": null,
   "metadata": {
    "collapsed": true
   },
   "outputs": [],
   "source": [
    "min_data['f'][i],f[mins[i]:mins[i]+10]"
   ]
  },
  {
   "cell_type": "code",
   "execution_count": null,
   "metadata": {
    "collapsed": true
   },
   "outputs": [],
   "source": [
    "min_data['s'][i]"
   ]
  },
  {
   "cell_type": "code",
   "execution_count": null,
   "metadata": {
    "collapsed": true
   },
   "outputs": [],
   "source": [
    "min_data['clk'][i],mins[i]"
   ]
  },
  {
   "cell_type": "code",
   "execution_count": null,
   "metadata": {
    "collapsed": true
   },
   "outputs": [],
   "source": [
    "%matplotlib notebook\n",
    "for k in range(1, 1000):\n",
    "#     plt.plot([0,l],[0,0],':k')\n",
    "#     plt.plot(s[mins[k]:maxs[k]+1],'r')\n",
    "    plt.plot(f[mins[k]:maxs[k]+1],'b')"
   ]
  },
  {
   "cell_type": "code",
   "execution_count": null,
   "metadata": {
    "collapsed": true
   },
   "outputs": [],
   "source": []
  }
 ],
 "metadata": {
  "kernelspec": {
   "display_name": "Python 3",
   "language": "python",
   "name": "python3"
  },
  "language_info": {
   "codemirror_mode": {
    "name": "ipython",
    "version": 3
   },
   "file_extension": ".py",
   "mimetype": "text/x-python",
   "name": "python",
   "nbconvert_exporter": "python",
   "pygments_lexer": "ipython3",
   "version": "3.6.1"
  }
 },
 "nbformat": 4,
 "nbformat_minor": 2
}
