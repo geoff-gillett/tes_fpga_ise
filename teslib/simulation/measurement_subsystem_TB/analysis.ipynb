{
 "cells": [
  {
   "cell_type": "code",
   "execution_count": 2,
   "metadata": {
    "collapsed": false
   },
   "outputs": [],
   "source": [
    "from tes.data import Data,PacketStream,Packet\n",
    "import numpy as np\n",
    "import matplotlib.pyplot as plt"
   ]
  },
  {
   "cell_type": "code",
   "execution_count": 5,
   "metadata": {
    "collapsed": false
   },
   "outputs": [],
   "source": [
    "trace_dt=np.dtype([('raw','i4'),('filtered','i4'),('slope','i4'),('filteredL','i4')])"
   ]
  },
  {
   "cell_type": "code",
   "execution_count": 6,
   "metadata": {
    "collapsed": false
   },
   "outputs": [],
   "source": [
    "traces=np.fromfile('data/traces',trace_dt)"
   ]
  },
  {
   "cell_type": "code",
   "execution_count": 35,
   "metadata": {
    "collapsed": true
   },
   "outputs": [],
   "source": [
    "traces=Data.fromfile('traces',trace_dt,'teslib','measurement_subsystem_TB',tool='vivado')"
   ]
  },
  {
   "cell_type": "code",
   "execution_count": 36,
   "metadata": {
    "collapsed": false
   },
   "outputs": [
    {
     "data": {
      "application/javascript": [
       "/* Put everything inside the global mpl namespace */\n",
       "window.mpl = {};\n",
       "\n",
       "mpl.get_websocket_type = function() {\n",
       "    if (typeof(WebSocket) !== 'undefined') {\n",
       "        return WebSocket;\n",
       "    } else if (typeof(MozWebSocket) !== 'undefined') {\n",
       "        return MozWebSocket;\n",
       "    } else {\n",
       "        alert('Your browser does not have WebSocket support.' +\n",
       "              'Please try Chrome, Safari or Firefox ≥ 6. ' +\n",
       "              'Firefox 4 and 5 are also supported but you ' +\n",
       "              'have to enable WebSockets in about:config.');\n",
       "    };\n",
       "}\n",
       "\n",
       "mpl.figure = function(figure_id, websocket, ondownload, parent_element) {\n",
       "    this.id = figure_id;\n",
       "\n",
       "    this.ws = websocket;\n",
       "\n",
       "    this.supports_binary = (this.ws.binaryType != undefined);\n",
       "\n",
       "    if (!this.supports_binary) {\n",
       "        var warnings = document.getElementById(\"mpl-warnings\");\n",
       "        if (warnings) {\n",
       "            warnings.style.display = 'block';\n",
       "            warnings.textContent = (\n",
       "                \"This browser does not support binary websocket messages. \" +\n",
       "                    \"Performance may be slow.\");\n",
       "        }\n",
       "    }\n",
       "\n",
       "    this.imageObj = new Image();\n",
       "\n",
       "    this.context = undefined;\n",
       "    this.message = undefined;\n",
       "    this.canvas = undefined;\n",
       "    this.rubberband_canvas = undefined;\n",
       "    this.rubberband_context = undefined;\n",
       "    this.format_dropdown = undefined;\n",
       "\n",
       "    this.image_mode = 'full';\n",
       "\n",
       "    this.root = $('<div/>');\n",
       "    this._root_extra_style(this.root)\n",
       "    this.root.attr('style', 'display: inline-block');\n",
       "\n",
       "    $(parent_element).append(this.root);\n",
       "\n",
       "    this._init_header(this);\n",
       "    this._init_canvas(this);\n",
       "    this._init_toolbar(this);\n",
       "\n",
       "    var fig = this;\n",
       "\n",
       "    this.waiting = false;\n",
       "\n",
       "    this.ws.onopen =  function () {\n",
       "            fig.send_message(\"supports_binary\", {value: fig.supports_binary});\n",
       "            fig.send_message(\"send_image_mode\", {});\n",
       "            fig.send_message(\"refresh\", {});\n",
       "        }\n",
       "\n",
       "    this.imageObj.onload = function() {\n",
       "            if (fig.image_mode == 'full') {\n",
       "                // Full images could contain transparency (where diff images\n",
       "                // almost always do), so we need to clear the canvas so that\n",
       "                // there is no ghosting.\n",
       "                fig.context.clearRect(0, 0, fig.canvas.width, fig.canvas.height);\n",
       "            }\n",
       "            fig.context.drawImage(fig.imageObj, 0, 0);\n",
       "        };\n",
       "\n",
       "    this.imageObj.onunload = function() {\n",
       "        this.ws.close();\n",
       "    }\n",
       "\n",
       "    this.ws.onmessage = this._make_on_message_function(this);\n",
       "\n",
       "    this.ondownload = ondownload;\n",
       "}\n",
       "\n",
       "mpl.figure.prototype._init_header = function() {\n",
       "    var titlebar = $(\n",
       "        '<div class=\"ui-dialog-titlebar ui-widget-header ui-corner-all ' +\n",
       "        'ui-helper-clearfix\"/>');\n",
       "    var titletext = $(\n",
       "        '<div class=\"ui-dialog-title\" style=\"width: 100%; ' +\n",
       "        'text-align: center; padding: 3px;\"/>');\n",
       "    titlebar.append(titletext)\n",
       "    this.root.append(titlebar);\n",
       "    this.header = titletext[0];\n",
       "}\n",
       "\n",
       "\n",
       "\n",
       "mpl.figure.prototype._canvas_extra_style = function(canvas_div) {\n",
       "\n",
       "}\n",
       "\n",
       "\n",
       "mpl.figure.prototype._root_extra_style = function(canvas_div) {\n",
       "\n",
       "}\n",
       "\n",
       "mpl.figure.prototype._init_canvas = function() {\n",
       "    var fig = this;\n",
       "\n",
       "    var canvas_div = $('<div/>');\n",
       "\n",
       "    canvas_div.attr('style', 'position: relative; clear: both; outline: 0');\n",
       "\n",
       "    function canvas_keyboard_event(event) {\n",
       "        return fig.key_event(event, event['data']);\n",
       "    }\n",
       "\n",
       "    canvas_div.keydown('key_press', canvas_keyboard_event);\n",
       "    canvas_div.keyup('key_release', canvas_keyboard_event);\n",
       "    this.canvas_div = canvas_div\n",
       "    this._canvas_extra_style(canvas_div)\n",
       "    this.root.append(canvas_div);\n",
       "\n",
       "    var canvas = $('<canvas/>');\n",
       "    canvas.addClass('mpl-canvas');\n",
       "    canvas.attr('style', \"left: 0; top: 0; z-index: 0; outline: 0\")\n",
       "\n",
       "    this.canvas = canvas[0];\n",
       "    this.context = canvas[0].getContext(\"2d\");\n",
       "\n",
       "    var rubberband = $('<canvas/>');\n",
       "    rubberband.attr('style', \"position: absolute; left: 0; top: 0; z-index: 1;\")\n",
       "\n",
       "    var pass_mouse_events = true;\n",
       "\n",
       "    canvas_div.resizable({\n",
       "        start: function(event, ui) {\n",
       "            pass_mouse_events = false;\n",
       "        },\n",
       "        resize: function(event, ui) {\n",
       "            fig.request_resize(ui.size.width, ui.size.height);\n",
       "        },\n",
       "        stop: function(event, ui) {\n",
       "            pass_mouse_events = true;\n",
       "            fig.request_resize(ui.size.width, ui.size.height);\n",
       "        },\n",
       "    });\n",
       "\n",
       "    function mouse_event_fn(event) {\n",
       "        if (pass_mouse_events)\n",
       "            return fig.mouse_event(event, event['data']);\n",
       "    }\n",
       "\n",
       "    rubberband.mousedown('button_press', mouse_event_fn);\n",
       "    rubberband.mouseup('button_release', mouse_event_fn);\n",
       "    // Throttle sequential mouse events to 1 every 20ms.\n",
       "    rubberband.mousemove('motion_notify', mouse_event_fn);\n",
       "\n",
       "    rubberband.mouseenter('figure_enter', mouse_event_fn);\n",
       "    rubberband.mouseleave('figure_leave', mouse_event_fn);\n",
       "\n",
       "    canvas_div.on(\"wheel\", function (event) {\n",
       "        event = event.originalEvent;\n",
       "        event['data'] = 'scroll'\n",
       "        if (event.deltaY < 0) {\n",
       "            event.step = 1;\n",
       "        } else {\n",
       "            event.step = -1;\n",
       "        }\n",
       "        mouse_event_fn(event);\n",
       "    });\n",
       "\n",
       "    canvas_div.append(canvas);\n",
       "    canvas_div.append(rubberband);\n",
       "\n",
       "    this.rubberband = rubberband;\n",
       "    this.rubberband_canvas = rubberband[0];\n",
       "    this.rubberband_context = rubberband[0].getContext(\"2d\");\n",
       "    this.rubberband_context.strokeStyle = \"#000000\";\n",
       "\n",
       "    this._resize_canvas = function(width, height) {\n",
       "        // Keep the size of the canvas, canvas container, and rubber band\n",
       "        // canvas in synch.\n",
       "        canvas_div.css('width', width)\n",
       "        canvas_div.css('height', height)\n",
       "\n",
       "        canvas.attr('width', width);\n",
       "        canvas.attr('height', height);\n",
       "\n",
       "        rubberband.attr('width', width);\n",
       "        rubberband.attr('height', height);\n",
       "    }\n",
       "\n",
       "    // Set the figure to an initial 600x600px, this will subsequently be updated\n",
       "    // upon first draw.\n",
       "    this._resize_canvas(600, 600);\n",
       "\n",
       "    // Disable right mouse context menu.\n",
       "    $(this.rubberband_canvas).bind(\"contextmenu\",function(e){\n",
       "        return false;\n",
       "    });\n",
       "\n",
       "    function set_focus () {\n",
       "        canvas.focus();\n",
       "        canvas_div.focus();\n",
       "    }\n",
       "\n",
       "    window.setTimeout(set_focus, 100);\n",
       "}\n",
       "\n",
       "mpl.figure.prototype._init_toolbar = function() {\n",
       "    var fig = this;\n",
       "\n",
       "    var nav_element = $('<div/>')\n",
       "    nav_element.attr('style', 'width: 100%');\n",
       "    this.root.append(nav_element);\n",
       "\n",
       "    // Define a callback function for later on.\n",
       "    function toolbar_event(event) {\n",
       "        return fig.toolbar_button_onclick(event['data']);\n",
       "    }\n",
       "    function toolbar_mouse_event(event) {\n",
       "        return fig.toolbar_button_onmouseover(event['data']);\n",
       "    }\n",
       "\n",
       "    for(var toolbar_ind in mpl.toolbar_items) {\n",
       "        var name = mpl.toolbar_items[toolbar_ind][0];\n",
       "        var tooltip = mpl.toolbar_items[toolbar_ind][1];\n",
       "        var image = mpl.toolbar_items[toolbar_ind][2];\n",
       "        var method_name = mpl.toolbar_items[toolbar_ind][3];\n",
       "\n",
       "        if (!name) {\n",
       "            // put a spacer in here.\n",
       "            continue;\n",
       "        }\n",
       "        var button = $('<button/>');\n",
       "        button.addClass('ui-button ui-widget ui-state-default ui-corner-all ' +\n",
       "                        'ui-button-icon-only');\n",
       "        button.attr('role', 'button');\n",
       "        button.attr('aria-disabled', 'false');\n",
       "        button.click(method_name, toolbar_event);\n",
       "        button.mouseover(tooltip, toolbar_mouse_event);\n",
       "\n",
       "        var icon_img = $('<span/>');\n",
       "        icon_img.addClass('ui-button-icon-primary ui-icon');\n",
       "        icon_img.addClass(image);\n",
       "        icon_img.addClass('ui-corner-all');\n",
       "\n",
       "        var tooltip_span = $('<span/>');\n",
       "        tooltip_span.addClass('ui-button-text');\n",
       "        tooltip_span.html(tooltip);\n",
       "\n",
       "        button.append(icon_img);\n",
       "        button.append(tooltip_span);\n",
       "\n",
       "        nav_element.append(button);\n",
       "    }\n",
       "\n",
       "    var fmt_picker_span = $('<span/>');\n",
       "\n",
       "    var fmt_picker = $('<select/>');\n",
       "    fmt_picker.addClass('mpl-toolbar-option ui-widget ui-widget-content');\n",
       "    fmt_picker_span.append(fmt_picker);\n",
       "    nav_element.append(fmt_picker_span);\n",
       "    this.format_dropdown = fmt_picker[0];\n",
       "\n",
       "    for (var ind in mpl.extensions) {\n",
       "        var fmt = mpl.extensions[ind];\n",
       "        var option = $(\n",
       "            '<option/>', {selected: fmt === mpl.default_extension}).html(fmt);\n",
       "        fmt_picker.append(option)\n",
       "    }\n",
       "\n",
       "    // Add hover states to the ui-buttons\n",
       "    $( \".ui-button\" ).hover(\n",
       "        function() { $(this).addClass(\"ui-state-hover\");},\n",
       "        function() { $(this).removeClass(\"ui-state-hover\");}\n",
       "    );\n",
       "\n",
       "    var status_bar = $('<span class=\"mpl-message\"/>');\n",
       "    nav_element.append(status_bar);\n",
       "    this.message = status_bar[0];\n",
       "}\n",
       "\n",
       "mpl.figure.prototype.request_resize = function(x_pixels, y_pixels) {\n",
       "    // Request matplotlib to resize the figure. Matplotlib will then trigger a resize in the client,\n",
       "    // which will in turn request a refresh of the image.\n",
       "    this.send_message('resize', {'width': x_pixels, 'height': y_pixels});\n",
       "}\n",
       "\n",
       "mpl.figure.prototype.send_message = function(type, properties) {\n",
       "    properties['type'] = type;\n",
       "    properties['figure_id'] = this.id;\n",
       "    this.ws.send(JSON.stringify(properties));\n",
       "}\n",
       "\n",
       "mpl.figure.prototype.send_draw_message = function() {\n",
       "    if (!this.waiting) {\n",
       "        this.waiting = true;\n",
       "        this.ws.send(JSON.stringify({type: \"draw\", figure_id: this.id}));\n",
       "    }\n",
       "}\n",
       "\n",
       "\n",
       "mpl.figure.prototype.handle_save = function(fig, msg) {\n",
       "    var format_dropdown = fig.format_dropdown;\n",
       "    var format = format_dropdown.options[format_dropdown.selectedIndex].value;\n",
       "    fig.ondownload(fig, format);\n",
       "}\n",
       "\n",
       "\n",
       "mpl.figure.prototype.handle_resize = function(fig, msg) {\n",
       "    var size = msg['size'];\n",
       "    if (size[0] != fig.canvas.width || size[1] != fig.canvas.height) {\n",
       "        fig._resize_canvas(size[0], size[1]);\n",
       "        fig.send_message(\"refresh\", {});\n",
       "    };\n",
       "}\n",
       "\n",
       "mpl.figure.prototype.handle_rubberband = function(fig, msg) {\n",
       "    var x0 = msg['x0'];\n",
       "    var y0 = fig.canvas.height - msg['y0'];\n",
       "    var x1 = msg['x1'];\n",
       "    var y1 = fig.canvas.height - msg['y1'];\n",
       "    x0 = Math.floor(x0) + 0.5;\n",
       "    y0 = Math.floor(y0) + 0.5;\n",
       "    x1 = Math.floor(x1) + 0.5;\n",
       "    y1 = Math.floor(y1) + 0.5;\n",
       "    var min_x = Math.min(x0, x1);\n",
       "    var min_y = Math.min(y0, y1);\n",
       "    var width = Math.abs(x1 - x0);\n",
       "    var height = Math.abs(y1 - y0);\n",
       "\n",
       "    fig.rubberband_context.clearRect(\n",
       "        0, 0, fig.canvas.width, fig.canvas.height);\n",
       "\n",
       "    fig.rubberband_context.strokeRect(min_x, min_y, width, height);\n",
       "}\n",
       "\n",
       "mpl.figure.prototype.handle_figure_label = function(fig, msg) {\n",
       "    // Updates the figure title.\n",
       "    fig.header.textContent = msg['label'];\n",
       "}\n",
       "\n",
       "mpl.figure.prototype.handle_cursor = function(fig, msg) {\n",
       "    var cursor = msg['cursor'];\n",
       "    switch(cursor)\n",
       "    {\n",
       "    case 0:\n",
       "        cursor = 'pointer';\n",
       "        break;\n",
       "    case 1:\n",
       "        cursor = 'default';\n",
       "        break;\n",
       "    case 2:\n",
       "        cursor = 'crosshair';\n",
       "        break;\n",
       "    case 3:\n",
       "        cursor = 'move';\n",
       "        break;\n",
       "    }\n",
       "    fig.rubberband_canvas.style.cursor = cursor;\n",
       "}\n",
       "\n",
       "mpl.figure.prototype.handle_message = function(fig, msg) {\n",
       "    fig.message.textContent = msg['message'];\n",
       "}\n",
       "\n",
       "mpl.figure.prototype.handle_draw = function(fig, msg) {\n",
       "    // Request the server to send over a new figure.\n",
       "    fig.send_draw_message();\n",
       "}\n",
       "\n",
       "mpl.figure.prototype.handle_image_mode = function(fig, msg) {\n",
       "    fig.image_mode = msg['mode'];\n",
       "}\n",
       "\n",
       "mpl.figure.prototype.updated_canvas_event = function() {\n",
       "    // Called whenever the canvas gets updated.\n",
       "    this.send_message(\"ack\", {});\n",
       "}\n",
       "\n",
       "// A function to construct a web socket function for onmessage handling.\n",
       "// Called in the figure constructor.\n",
       "mpl.figure.prototype._make_on_message_function = function(fig) {\n",
       "    return function socket_on_message(evt) {\n",
       "        if (evt.data instanceof Blob) {\n",
       "            /* FIXME: We get \"Resource interpreted as Image but\n",
       "             * transferred with MIME type text/plain:\" errors on\n",
       "             * Chrome.  But how to set the MIME type?  It doesn't seem\n",
       "             * to be part of the websocket stream */\n",
       "            evt.data.type = \"image/png\";\n",
       "\n",
       "            /* Free the memory for the previous frames */\n",
       "            if (fig.imageObj.src) {\n",
       "                (window.URL || window.webkitURL).revokeObjectURL(\n",
       "                    fig.imageObj.src);\n",
       "            }\n",
       "\n",
       "            fig.imageObj.src = (window.URL || window.webkitURL).createObjectURL(\n",
       "                evt.data);\n",
       "            fig.updated_canvas_event();\n",
       "            fig.waiting = false;\n",
       "            return;\n",
       "        }\n",
       "        else if (typeof evt.data === 'string' && evt.data.slice(0, 21) == \"data:image/png;base64\") {\n",
       "            fig.imageObj.src = evt.data;\n",
       "            fig.updated_canvas_event();\n",
       "            fig.waiting = false;\n",
       "            return;\n",
       "        }\n",
       "\n",
       "        var msg = JSON.parse(evt.data);\n",
       "        var msg_type = msg['type'];\n",
       "\n",
       "        // Call the  \"handle_{type}\" callback, which takes\n",
       "        // the figure and JSON message as its only arguments.\n",
       "        try {\n",
       "            var callback = fig[\"handle_\" + msg_type];\n",
       "        } catch (e) {\n",
       "            console.log(\"No handler for the '\" + msg_type + \"' message type: \", msg);\n",
       "            return;\n",
       "        }\n",
       "\n",
       "        if (callback) {\n",
       "            try {\n",
       "                // console.log(\"Handling '\" + msg_type + \"' message: \", msg);\n",
       "                callback(fig, msg);\n",
       "            } catch (e) {\n",
       "                console.log(\"Exception inside the 'handler_\" + msg_type + \"' callback:\", e, e.stack, msg);\n",
       "            }\n",
       "        }\n",
       "    };\n",
       "}\n",
       "\n",
       "// from http://stackoverflow.com/questions/1114465/getting-mouse-location-in-canvas\n",
       "mpl.findpos = function(e) {\n",
       "    //this section is from http://www.quirksmode.org/js/events_properties.html\n",
       "    var targ;\n",
       "    if (!e)\n",
       "        e = window.event;\n",
       "    if (e.target)\n",
       "        targ = e.target;\n",
       "    else if (e.srcElement)\n",
       "        targ = e.srcElement;\n",
       "    if (targ.nodeType == 3) // defeat Safari bug\n",
       "        targ = targ.parentNode;\n",
       "\n",
       "    // jQuery normalizes the pageX and pageY\n",
       "    // pageX,Y are the mouse positions relative to the document\n",
       "    // offset() returns the position of the element relative to the document\n",
       "    var x = e.pageX - $(targ).offset().left;\n",
       "    var y = e.pageY - $(targ).offset().top;\n",
       "\n",
       "    return {\"x\": x, \"y\": y};\n",
       "};\n",
       "\n",
       "/*\n",
       " * return a copy of an object with only non-object keys\n",
       " * we need this to avoid circular references\n",
       " * http://stackoverflow.com/a/24161582/3208463\n",
       " */\n",
       "function simpleKeys (original) {\n",
       "  return Object.keys(original).reduce(function (obj, key) {\n",
       "    if (typeof original[key] !== 'object')\n",
       "        obj[key] = original[key]\n",
       "    return obj;\n",
       "  }, {});\n",
       "}\n",
       "\n",
       "mpl.figure.prototype.mouse_event = function(event, name) {\n",
       "    var canvas_pos = mpl.findpos(event)\n",
       "\n",
       "    if (name === 'button_press')\n",
       "    {\n",
       "        this.canvas.focus();\n",
       "        this.canvas_div.focus();\n",
       "    }\n",
       "\n",
       "    var x = canvas_pos.x;\n",
       "    var y = canvas_pos.y;\n",
       "\n",
       "    this.send_message(name, {x: x, y: y, button: event.button,\n",
       "                             step: event.step,\n",
       "                             guiEvent: simpleKeys(event)});\n",
       "\n",
       "    /* This prevents the web browser from automatically changing to\n",
       "     * the text insertion cursor when the button is pressed.  We want\n",
       "     * to control all of the cursor setting manually through the\n",
       "     * 'cursor' event from matplotlib */\n",
       "    event.preventDefault();\n",
       "    return false;\n",
       "}\n",
       "\n",
       "mpl.figure.prototype._key_event_extra = function(event, name) {\n",
       "    // Handle any extra behaviour associated with a key event\n",
       "}\n",
       "\n",
       "mpl.figure.prototype.key_event = function(event, name) {\n",
       "\n",
       "    // Prevent repeat events\n",
       "    if (name == 'key_press')\n",
       "    {\n",
       "        if (event.which === this._key)\n",
       "            return;\n",
       "        else\n",
       "            this._key = event.which;\n",
       "    }\n",
       "    if (name == 'key_release')\n",
       "        this._key = null;\n",
       "\n",
       "    var value = '';\n",
       "    if (event.ctrlKey && event.which != 17)\n",
       "        value += \"ctrl+\";\n",
       "    if (event.altKey && event.which != 18)\n",
       "        value += \"alt+\";\n",
       "    if (event.shiftKey && event.which != 16)\n",
       "        value += \"shift+\";\n",
       "\n",
       "    value += 'k';\n",
       "    value += event.which.toString();\n",
       "\n",
       "    this._key_event_extra(event, name);\n",
       "\n",
       "    this.send_message(name, {key: value,\n",
       "                             guiEvent: simpleKeys(event)});\n",
       "    return false;\n",
       "}\n",
       "\n",
       "mpl.figure.prototype.toolbar_button_onclick = function(name) {\n",
       "    if (name == 'download') {\n",
       "        this.handle_save(this, null);\n",
       "    } else {\n",
       "        this.send_message(\"toolbar_button\", {name: name});\n",
       "    }\n",
       "};\n",
       "\n",
       "mpl.figure.prototype.toolbar_button_onmouseover = function(tooltip) {\n",
       "    this.message.textContent = tooltip;\n",
       "};\n",
       "mpl.toolbar_items = [[\"Home\", \"Reset original view\", \"fa fa-home icon-home\", \"home\"], [\"Back\", \"Back to  previous view\", \"fa fa-arrow-left icon-arrow-left\", \"back\"], [\"Forward\", \"Forward to next view\", \"fa fa-arrow-right icon-arrow-right\", \"forward\"], [\"\", \"\", \"\", \"\"], [\"Pan\", \"Pan axes with left mouse, zoom with right\", \"fa fa-arrows icon-move\", \"pan\"], [\"Zoom\", \"Zoom to rectangle\", \"fa fa-square-o icon-check-empty\", \"zoom\"], [\"\", \"\", \"\", \"\"], [\"Download\", \"Download plot\", \"fa fa-floppy-o icon-save\", \"download\"]];\n",
       "\n",
       "mpl.extensions = [\"eps\", \"jpeg\", \"pdf\", \"png\", \"ps\", \"raw\", \"svg\", \"tif\"];\n",
       "\n",
       "mpl.default_extension = \"png\";var comm_websocket_adapter = function(comm) {\n",
       "    // Create a \"websocket\"-like object which calls the given IPython comm\n",
       "    // object with the appropriate methods. Currently this is a non binary\n",
       "    // socket, so there is still some room for performance tuning.\n",
       "    var ws = {};\n",
       "\n",
       "    ws.close = function() {\n",
       "        comm.close()\n",
       "    };\n",
       "    ws.send = function(m) {\n",
       "        //console.log('sending', m);\n",
       "        comm.send(m);\n",
       "    };\n",
       "    // Register the callback with on_msg.\n",
       "    comm.on_msg(function(msg) {\n",
       "        //console.log('receiving', msg['content']['data'], msg);\n",
       "        // Pass the mpl event to the overriden (by mpl) onmessage function.\n",
       "        ws.onmessage(msg['content']['data'])\n",
       "    });\n",
       "    return ws;\n",
       "}\n",
       "\n",
       "mpl.mpl_figure_comm = function(comm, msg) {\n",
       "    // This is the function which gets called when the mpl process\n",
       "    // starts-up an IPython Comm through the \"matplotlib\" channel.\n",
       "\n",
       "    var id = msg.content.data.id;\n",
       "    // Get hold of the div created by the display call when the Comm\n",
       "    // socket was opened in Python.\n",
       "    var element = $(\"#\" + id);\n",
       "    var ws_proxy = comm_websocket_adapter(comm)\n",
       "\n",
       "    function ondownload(figure, format) {\n",
       "        window.open(figure.imageObj.src);\n",
       "    }\n",
       "\n",
       "    var fig = new mpl.figure(id, ws_proxy,\n",
       "                           ondownload,\n",
       "                           element.get(0));\n",
       "\n",
       "    // Call onopen now - mpl needs it, as it is assuming we've passed it a real\n",
       "    // web socket which is closed, not our websocket->open comm proxy.\n",
       "    ws_proxy.onopen();\n",
       "\n",
       "    fig.parent_element = element.get(0);\n",
       "    fig.cell_info = mpl.find_output_cell(\"<div id='\" + id + \"'></div>\");\n",
       "    if (!fig.cell_info) {\n",
       "        console.error(\"Failed to find cell for figure\", id, fig);\n",
       "        return;\n",
       "    }\n",
       "\n",
       "    var output_index = fig.cell_info[2]\n",
       "    var cell = fig.cell_info[0];\n",
       "\n",
       "};\n",
       "\n",
       "mpl.figure.prototype.handle_close = function(fig, msg) {\n",
       "    fig.root.unbind('remove')\n",
       "\n",
       "    // Update the output cell to use the data from the current canvas.\n",
       "    fig.push_to_output();\n",
       "    var dataURL = fig.canvas.toDataURL();\n",
       "    // Re-enable the keyboard manager in IPython - without this line, in FF,\n",
       "    // the notebook keyboard shortcuts fail.\n",
       "    IPython.keyboard_manager.enable()\n",
       "    $(fig.parent_element).html('<img src=\"' + dataURL + '\">');\n",
       "    fig.close_ws(fig, msg);\n",
       "}\n",
       "\n",
       "mpl.figure.prototype.close_ws = function(fig, msg){\n",
       "    fig.send_message('closing', msg);\n",
       "    // fig.ws.close()\n",
       "}\n",
       "\n",
       "mpl.figure.prototype.push_to_output = function(remove_interactive) {\n",
       "    // Turn the data on the canvas into data in the output cell.\n",
       "    var dataURL = this.canvas.toDataURL();\n",
       "    this.cell_info[1]['text/html'] = '<img src=\"' + dataURL + '\">';\n",
       "}\n",
       "\n",
       "mpl.figure.prototype.updated_canvas_event = function() {\n",
       "    // Tell IPython that the notebook contents must change.\n",
       "    IPython.notebook.set_dirty(true);\n",
       "    this.send_message(\"ack\", {});\n",
       "    var fig = this;\n",
       "    // Wait a second, then push the new image to the DOM so\n",
       "    // that it is saved nicely (might be nice to debounce this).\n",
       "    setTimeout(function () { fig.push_to_output() }, 1000);\n",
       "}\n",
       "\n",
       "mpl.figure.prototype._init_toolbar = function() {\n",
       "    var fig = this;\n",
       "\n",
       "    var nav_element = $('<div/>')\n",
       "    nav_element.attr('style', 'width: 100%');\n",
       "    this.root.append(nav_element);\n",
       "\n",
       "    // Define a callback function for later on.\n",
       "    function toolbar_event(event) {\n",
       "        return fig.toolbar_button_onclick(event['data']);\n",
       "    }\n",
       "    function toolbar_mouse_event(event) {\n",
       "        return fig.toolbar_button_onmouseover(event['data']);\n",
       "    }\n",
       "\n",
       "    for(var toolbar_ind in mpl.toolbar_items){\n",
       "        var name = mpl.toolbar_items[toolbar_ind][0];\n",
       "        var tooltip = mpl.toolbar_items[toolbar_ind][1];\n",
       "        var image = mpl.toolbar_items[toolbar_ind][2];\n",
       "        var method_name = mpl.toolbar_items[toolbar_ind][3];\n",
       "\n",
       "        if (!name) { continue; };\n",
       "\n",
       "        var button = $('<button class=\"btn btn-default\" href=\"#\" title=\"' + name + '\"><i class=\"fa ' + image + ' fa-lg\"></i></button>');\n",
       "        button.click(method_name, toolbar_event);\n",
       "        button.mouseover(tooltip, toolbar_mouse_event);\n",
       "        nav_element.append(button);\n",
       "    }\n",
       "\n",
       "    // Add the status bar.\n",
       "    var status_bar = $('<span class=\"mpl-message\" style=\"text-align:right; float: right;\"/>');\n",
       "    nav_element.append(status_bar);\n",
       "    this.message = status_bar[0];\n",
       "\n",
       "    // Add the close button to the window.\n",
       "    var buttongrp = $('<div class=\"btn-group inline pull-right\"></div>');\n",
       "    var button = $('<button class=\"btn btn-mini btn-primary\" href=\"#\" title=\"Stop Interaction\"><i class=\"fa fa-power-off icon-remove icon-large\"></i></button>');\n",
       "    button.click(function (evt) { fig.handle_close(fig, {}); } );\n",
       "    button.mouseover('Stop Interaction', toolbar_mouse_event);\n",
       "    buttongrp.append(button);\n",
       "    var titlebar = this.root.find($('.ui-dialog-titlebar'));\n",
       "    titlebar.prepend(buttongrp);\n",
       "}\n",
       "\n",
       "mpl.figure.prototype._root_extra_style = function(el){\n",
       "    var fig = this\n",
       "    el.on(\"remove\", function(){\n",
       "\tfig.close_ws(fig, {});\n",
       "    });\n",
       "}\n",
       "\n",
       "mpl.figure.prototype._canvas_extra_style = function(el){\n",
       "    // this is important to make the div 'focusable\n",
       "    el.attr('tabindex', 0)\n",
       "    // reach out to IPython and tell the keyboard manager to turn it's self\n",
       "    // off when our div gets focus\n",
       "\n",
       "    // location in version 3\n",
       "    if (IPython.notebook.keyboard_manager) {\n",
       "        IPython.notebook.keyboard_manager.register_events(el);\n",
       "    }\n",
       "    else {\n",
       "        // location in version 2\n",
       "        IPython.keyboard_manager.register_events(el);\n",
       "    }\n",
       "\n",
       "}\n",
       "\n",
       "mpl.figure.prototype._key_event_extra = function(event, name) {\n",
       "    var manager = IPython.notebook.keyboard_manager;\n",
       "    if (!manager)\n",
       "        manager = IPython.keyboard_manager;\n",
       "\n",
       "    // Check for shift+enter\n",
       "    if (event.shiftKey && event.which == 13) {\n",
       "        this.canvas_div.blur();\n",
       "        // select the cell after this one\n",
       "        var index = IPython.notebook.find_cell_index(this.cell_info[0]);\n",
       "        IPython.notebook.select(index + 1);\n",
       "    }\n",
       "}\n",
       "\n",
       "mpl.figure.prototype.handle_save = function(fig, msg) {\n",
       "    fig.ondownload(fig, null);\n",
       "}\n",
       "\n",
       "\n",
       "mpl.find_output_cell = function(html_output) {\n",
       "    // Return the cell and output element which can be found *uniquely* in the notebook.\n",
       "    // Note - this is a bit hacky, but it is done because the \"notebook_saving.Notebook\"\n",
       "    // IPython event is triggered only after the cells have been serialised, which for\n",
       "    // our purposes (turning an active figure into a static one), is too late.\n",
       "    var cells = IPython.notebook.get_cells();\n",
       "    var ncells = cells.length;\n",
       "    for (var i=0; i<ncells; i++) {\n",
       "        var cell = cells[i];\n",
       "        if (cell.cell_type === 'code'){\n",
       "            for (var j=0; j<cell.output_area.outputs.length; j++) {\n",
       "                var data = cell.output_area.outputs[j];\n",
       "                if (data.data) {\n",
       "                    // IPython >= 3 moved mimebundle to data attribute of output\n",
       "                    data = data.data;\n",
       "                }\n",
       "                if (data['text/html'] == html_output) {\n",
       "                    return [cell, data, j];\n",
       "                }\n",
       "            }\n",
       "        }\n",
       "    }\n",
       "}\n",
       "\n",
       "// Register the function which deals with the matplotlib target/channel.\n",
       "// The kernel may be null if the page has been refreshed.\n",
       "if (IPython.notebook.kernel != null) {\n",
       "    IPython.notebook.kernel.comm_manager.register_target('matplotlib', mpl.mpl_figure_comm);\n",
       "}\n"
      ],
      "text/plain": [
       "<IPython.core.display.Javascript object>"
      ]
     },
     "metadata": {},
     "output_type": "display_data"
    },
    {
     "data": {
      "text/html": [
       "<img src=\"data:image/png;base64,iVBORw0KGgoAAAANSUhEUgAAAoAAAAHgCAYAAAA10dzkAAAgAElEQVR4XuydBbgcVbaFF+4JLsEtEJwBJjhBg9sAgcF9IGgIDoNbcHcb3DVABvfBJWjQQYINEpxg7/tzbr/07bRU96nbVmt/L49Mbp2qU3+fvrVqny1jyWYCJmACJmACJmACJpApAmNl6m59syZgAiZgAiZgAiZgArIA9CIwARMwARMwARMwgYwRsADM2Afu2zUBEzABEzABEzABC0CvARMwARMwARMwARPIGAELwIx94L5dEzABEzABEzABE7AA9BowARMwARMwARMwgYwRsADM2Afu2zUBEzABEzABEzABC0CvARMwARMwARMwARPIGAELwIx94L5dEzABEzABEzABE7AA9BowARMwARMwARMwgYwRsADM2Afu2zUBEzABEzABEzABC0CvARMwARMwARMwARPIGAELwIx94L5dEzABEzABEzABE7AA9BowARMwARMwARMwgYwRsADM2Afu2zUBEzABEzABEzABC0CvARMwARMwARMwARPIGAELwIx94L5dEzABEzABEzABE7AA9BowARMwARMwARMwgYwRsADM2Afu2zUBEzABEzABEzABC0CvARMwARMwARMwARPIGAELwIx94L5dEzABEzABEzABE7AA9BowARMwARMwARMwgYwRsADM2Afu2zUBEzABEzABEzABC0CvARMwARMwARMwARPIGAELwIx94L5dEzABEzABEzABE7AA9BowARMwARMwARMwgYwRsADM2Afu2zUBEzABEzABEzABC0CvARMwARMwARMwARPIGAELwIx94L5dEzABEzABEzABE7AA9BowARMwARMwARMwgYwRsADM2Afu2zUBEzABEzABEzABC0CvARMwARMwARMwARPIGAELwIx94L5dEzABEzABEzABE7AA9BowARMwARMwARMwgYwRsADM2Afu2zUBEzABEzABEzABC0CvARMwARMwARMwARPIGAELwIx94L5dEzABEzABEzABE7AA9BowARMwARMwARMwgYwRsADM2Afu2zUBEzABEzABEzABC0CvARMwARMwARMwARPIGAELwIx94L5dEzABEzABEzABE7AA9BowARMwARMwARMwgYwRaDcB2E9Sf0kLS5pU0niS/sj7TBeSdKakxSR9I+lCSUcUfOb87x0kdZP0XMf5Xs3YuvDtmoAJmIAJmIAJtDGBdhOAq0qaUtLEki4qEIAIwmGSLpF0pKSeku6WdJKk0zs+430l7SZpDUnvSDpM0lYdx/7YxuvAt2YCJmACJmACJpAhAu0mAHMf3QqSHigQgFtLOkFSjzyv4B6Sdpc0d8fAdyWdIumsjv89jqThkgZIuipD68K3agImYAImYAIm0MYEsiQAEXa9Orx7uY90KUmPSeouaeyObWH+7am8z3yIpKGSBrbxOvCtmYAJmIAJmIAJZIhAlgQgW8KTSNos7/OdVxLxfTN3CMAPOkTim3nHXCvpW0k7FVkX8MOj+F2G1oxv1QRMwARMwATagcBkHbt8f7bDzVR7D1kSgF3hAZxR0kfVQvfxJmACJmACJmACTUFgJkkfN8VM6jyJLAlAkjkGFcQA7tmR9FEuBvATSXuXiAEkU3jEhx9+qG7d+KsthsBBBx2kY489NuYUHivJHNNbBmZplukRSOdMXpPpcPz2228188xs/o0KAWOXL3PWbgKQOD5Kv5AEQoYv7t3fJY3s2P5la5cs4GM6Ej8GSzo5LwuYOD+ygNeSRELIPyVtIWkeScWygEcJwBEjRlgApvDVGTBggE45BUetLYaAOcbQ6zzWLM0yPQLpnMlrMh2OCMDu3dF+FoDpEG38Wcj0vVRSbj8fgcvfV5T0iKQFJJ3TUQdwhKRzJR1VMO3DJe3cIR6frVAH0AIwxc/cv9jSgWmO6XDkLGZplukRSOdMXpPpcLQAlNrNA5jOykh+FgvA5KwqHjlkyBD17du34nE+oDwBc0xvhZilWaZHIJ0zeU2mw9EC0AIwdiVZAMYS9HgTMAETMAETqDMBC0ALwNglZwEYS9DjTcAETMAETKDOBCwALQBjl5wFYCxBjzcBEzABEzCBOhOwALQAjF1yFoCxBD3eBEzABEzABOpMwALQAjB2yVkAxhL0eBMwARMwAROoMwELQAvA2CVnARhL0ONNwARMwARMoM4ELAAtAGOXnAVgLEGPNwETMAETMIE6E7AAtACMXXIWgLEEPd4ETMAETMAE6kzAAtACMHbJWQDGEvR4EzABEzABE6gzAQtAC8DYJWcBGEvQ403ABEzABEygzgQsAC0AY5ecBWAsQY83ARMwARMwgToTsAC0AIxdchaAsQQ93gRMwARMwATqTMAC0AIwdslZAMYS9HgTMAETMAETqDMBC0ALwNglZwEYS9DjTcAETMAETKDOBCwALQBjl5wFYCxBjzcBEzABEzCBOhOwALQAjF1yFoCxBD3eBEzABEzABOpMwALQAjB2yVkAxhL0eBMwARMwAROoMwELQAvA2CVnARhL0ONNwARMwARMoM4ELAAtAGOXnAVgLEGPNwETMAETMIE6E7AAtACMXXIWgLEEPd4ETMAETMAE6kzAAtACMHbJWQDGEvR4EzABEzABE6gzAQtAC8DYJWcBGEvQ403ABEzABEygzgQsAC0AY5ecBWAsQY83ARMwARMwgToTsAC0AIxdchaAsQQ93gRMwARMwATqTMAC0AIwdslZAMYS9HgTMAETMAETqDMBC0ALwNglZwEYS9DjTcAETMAETKDOBCwALQBjl5wFYCxBjzcBEzABEzCBOhOwALQAjF1yFoCxBD3eBEzABEzABOpMwALQAjB2yVkAxhL0eBMwARMwAROoMwELQAvA2CVnARhL0ONNwARMwARMoM4ELAAtAGOXnAVgLME2Hv/uu9Lss0tjjdXGN+lbMwETMIEWJGABaAEYu2wtAGMJtun4kSOlSSeVjjlG2nffNr1J35YJmIAJtCgBC8BsCsBpJZ0maSVJ40t6XdKBkh7pWMcLSTpT0mKSvpF0oaQjSqxxC8AW/fJ39bTx/vXsKU0wgTR4sNSnT1df0ec3ARMwARNISsACMJsC8CZJU0vaQNLXkvaWdLikWST9JmmYpEskHSmpp6S7JZ0k6fQiC8sCMOm3LWPHPfigtP320q67SjffLD3xRMYA+HZNwARMoIkJWABmUwC+KOniDi8fy3MSSd9J6i2pl6RBknpI+qNj7e4haXdJc1sANvG3ucmmdtll0uWXS0ccIW21lfT++002QU/HBEzABDJMwAIwmwJwM0k7Svq7pC8lDZC0nSS2fo/rEIFr5H0vlpL0mKTukr4v+L7YA5jhXyDlbv3II6V33pH2319aYgnphx8MygRMwARMoFkIWABmUwCy1XuepNU7tny/6tgOflLSRR0eQURizuaV9KqkmSUNtwBslq9vc8+D7d8ZZ5R2312adtogACeeuLnn7NmZgAmYQFYIWABmTwBSkONtSQ91eP7Y+l1b0r8kLS9pG3sAs/L179r7XHVVqV8/adttpfHGC1vAs/DqYTMBEzABE2g4AQvA7AnAKSX9T9Kikl7KW4HPSbpW0mdFYgD3lLRbuRjA/v37a/zxSSiW+vbtO+qPLdsEyAA++2wJITjNNNI990iLkVduMwETMAETaAiBIUOGiD/YyJEjdTa/pEN417cNmVCDL5rFErWvSCInc5+OmL61JN0gaU1Jz0h6syML+JgO0TdY0snOAm7wSm2hy//5pzTRRNLLL4dSMPPNJ51yirQ6QQc2EzABEzCBhhOwBzB7HkAW3ZwdZV2WljSBpA876gKSGYwtIOmcjjqAIySdK+moEqvVSSAN/xo33wQ++0yafnrpxx+DEFxhBWmHHaQtt2y+uXpGJmACJpBFAhaA2RSAaa51C8A0abbJuZ55Rlp7bQkhiG20kbT00tIA8s1tJmACJmACDSdgAWgBGLsILQBjCbbh+BtvlE44QUIIYv/4hzTFFNJxFBmymYAJmIAJNJyABaAFYOwitACMJdiG44n3o/MHQhA79FDpk0+kiygyZDMBEzABE2g4AQtAC8DYRWgBGEuwDcfvuac0zjgh8QM74wzpgQekW29tw5v1LZmACZhACxKwALQAjF22FoCxBNtw/CabSH/9qzRwYLi5a66RzjpLevzxNrxZ35IJmIAJtCABC0ALwNhlawEYS7ANx6+yirT55qEINHbffdKuu0rDhrXhzfqWTMAETKAFCVgAWgDGLlsLwFiCbTj+L3+RDjtMWm+9cHMvvST16SN9/XUb3qxvyQRMwARakIAFoAVg7LK1AIwl2IbjZ5tNuuIKabnlws0NHx76Ao8cGdrC2UzABEzABBpLwALQAjB2BVoAxhJsw/HduklPPinNP3+4uV9+kSacMAjBGWZowxv2LZmACZhAixGwALQAjF2yFoCxBNts/K+/SrSFLhR73btLjz4qLbRQm92wb8cETMAEWpCABaAFYOyytQCMJdhm4z//XJpuOumnn4LXL2dzzSWdf7608sptdsO+HRMwARNoQQIWgBaAscvWAjCWYJuNf/11afHFpR9+6HxjSy0l7bWX1K9fm92wb8cETMAEWpCABaAFYOyytQCMJdhm46n1t+mm0ocfdr6xddeVVltN2m23Nrth344JmIAJtCABC0ALwNhlawEYS7DNxt9xh3TIIaH0S75ttZU0zzzSwQe32Q37dkzABEygBQlYAFoAxi5bC8BYgm02/vLLpcsukx58sPON4fmbeGJp0KA2u2HfjgmYgAm0IAELQAvA2GVrARhLsM3Gn3pqaPl2442dbwzP35dfSued12Y37NsxARMwgRYkYAFoARi7bC0AYwm22fhDD5U++0y64ILON3bCCdKLL4a+wDYTMAETMIHGErAAtACMXYEWgLEE22x8//7SZJNJxx/f+cbw/BEfOHhwm92wb8cETMAEWpCABaAFYOyytQCMJdhm4zfbTFp0UWm//Trf2NVXS+eeG4pB20zABEzABBpLwALQAjB2BVoAxhJss/F9+0obbyztsEPnG7vzTumgg6SXX26zG/btmIAJmEALErAAtACMXbYWgLEE22z8EktIBx4obbhh5xvD87flltL777fZDft2TMAETKAFCVgAWgDGLlsLwFiCbTZ+zjmliy+W+vTpfGPUBeTfvv66zW7Yt2MCJmACLUjAAtACMHbZWgDGEmyz8VNMIT38sLTQQp1vDM8f4vC336Sxxmqzm/btmIAJmECLEbAAtACMXbIWgLEE22j8779L444b2sDNNFPnG/vqK2mqqaTvvpMmnbSNbtq3YgImYAItSMAC0AIwdtlaAMYSbKPxFHqeemrphx9C1498w/M33njSxx9LPXq00U37VkzABEygBQlYAFoAxi5bC8BYgm00/q23pAUXlH76qfg27ySTSM8+K/Xq1UY37VsxARMwgRYkYAFoARi7bC0AYwm20finnpI22EAaPrz4Tc0wg3TrrVLv3m10074VEzABE2hBAhaAFoCxy9YCMJZgE4ynfdv//hcKNcfYXXdJ++4rvfpq8bPMO6905pnSqqvGXMVjTcAETMAEYglYAFoAxq4hC8BYgg0ef+ON0vbbSyNHSnjwCrN3q5neFVdIF10UsoCL2V//GjqEbLRRNWf1sSZgAiZgAmkTsAC0AIxdUxaAsQQbOJ7M3Nlnly6/XHrwQemDD6Rbbql9QqeeKj32mHTTTcXPgeePVnHbbVf7NTzSBEzABEwgnoAFoAVg7CqyAIwl2MDxeOq22kr673+lTz8Ndfoef1xaZJHaJnXwwWEr+fzzi4//29+kZZeV9t67tvN7lAmYgAmYQDoELAAtAGNXkgVgLMEGjqdjx9VXS/ffHybRr1/I4j3kkNomtfPOoQzMMccUH4/nb9ZZpcMOq+38HmUCJmACJpAOAQtAC8DYlWQBGEuwgePp2cs2cM5jx3+vu0564IHaJkVs3zLLlPbw7bWXNPbY0imn1HZ+jzIBEzABE0iHgAWgBWDsSrIAjCXYwPEbbyyRmEHmLpar40e/3okmqn5i9PoloWTLLYuPxfNHIWgSRWwmYAImYAKNI2ABmF0BuJSkoyUtIel3SRTuWLZjKdLF9UxJi0n6RtKFko4osUwtABv3/Y2+8qKLhu3Y9dcPp/rzT2mWWaTLLpNWXrn60y+wgHTiidIaaxQfe/LJIdP4+uurP7dHmIAJmIAJpEfAAjCbAhDxd5ek3STdKOnXDrH3jCS6tA6TdImkIyX1lHS3pJMknV5k6VkApvd9rOuZEHvduklPPikh3HK29dahj2+pOL5yk5x+eun224NXsZhdeKFE2ZkhQ+p6q76YCZiACZhAAQELwGwKwEckPSWpY+Ov06rYWtIJkujW+kfHT/aQtLukuS0A2+d3yGefSQi2wr69lIQ577wgDKsxBOX440tvvinNMUfxkXj+KBVT7bmrmYePNQETMAETqEzAAjB7ApDIru8knSypj6Q5Jb0n6ThJN0siPJ9OrfmbeHgMH5PUXdL3BcvKHsDK37OmPIJyL2T9fvRR5+kRo0emLmVhyOhNaiNGSJNPLvFfPIvF7J57pAEDpNdeS3pWH2cCJmACJtAVBCwAsycAZ5T0oaTPJK0l6UVJ60m6VtIKknaQNImkzfIW3LwdMYIzSyrs8moB2BXfzDqcE0/fpZdKDz005sUWX1zafXeJ7eCk9s47Uq9e0i+/SGONVXwUnj8STwpFZ9Jr+DgTMAETMIF0CFgAZk8AIthI7Dhe0kF5y+geSS9ImqAWD2D//v01Pvt/kvr27Tvqj625CdD/95NPimfkHn209Pzz0s34hBMayR0bbCANL3xFyBtPj+All5S+wwdtMwETMAETqCuBIUOGiD/YyJEjdfbZZ/NXdve+retEmuRiJXwVTTK7rpnGW5JuKCEAX5c0qCAGcM+OhBHHAHbN59GQs9KSbeGFpQMOGPPyQ4cGoUZXj6TlYAYPlqgr+PLLpW8Hz9/MM0u//SaNM05DbtsXNQETMAETQPF9+626d0f7WQBmaUGQ1MFjnzg/HtfrdGwBLy/pDUlvdmQB088B0Te4I2bQWcBttEp695b22UfaZJMxb4qEDtrCnX66tA6rI4GxpcyfckWkv/1W4vcNdQaJF7SZgAmYgAk0hoAFYPa2gHMrbX9J/TuUPx7BwyXd2fFDioKc01EaZoSkcyUdVWKJOgawMd/d6KvOPnuo97cCkZ9FjGQNEjpoF5fE6O5BjN8N+JZL2B9/SOOOK73/fqg3aDMBEzABE2gMAQvA7ArAtFacBWBaJOt8nkknlZ5+WppvvuIXfvjhkLBBnGCS7dqDDgqevXN5XShjeADJQM6vPVjnW/flTMAETCDzBCwALQBjvwQWgLEEGzD+p5+kiSeWPv9cmmaa4hMgTm+66UJhZ/r7VrKddgrHH1XKV9xxAmIAr7022TkrXdM/NwETMAETqI2ABaAFYG0rZ/QoC8BYgg0Y/+GHodbfr7+W9+5ts00QiLR3q2Qbbhi2k/ckZaiMVWoXV+k6/rkJmIAJmEA8AQtAC8DYVWQBGEuwAeMp8UKlni++KH/xW26R9t8/dPcoVdsvd4bll5d23lnafPPy51x6aWmPPaRNN23AjfuSJmACJmACowhYAFoAxn4VLABjCTZgPGWg9t67ckcO2sTRDeTZZ6X55y8/UX5OIkilEpBrrBHqBbJlbDMBEzABE2gMAQtAC8DYlWcBmIDg999LgwZJu+4a+u822q68UrrgAukRukJXMNrFzTabdAIdossY8X/UAqSLSDnjfByzb7FO1JUm45+bgAmYgAmkQsAC0AIwdiFZACYgSEcNCi9PMol0zTWVvWQJThl1yKmnSo89Jt10U+XT/Pvf0lZbScQNjjde8ePxFJJV/Nln0rTTlj9n0mSRyjPzESZgAiZgArUSsAC0AKx17eTGWQAmILjbbiHZolu30CnjttsSDOrCQyjZ8tVX0nnnVb4ItfuoGXjGGdJ6dI0uYi+8IK28svTll5VjBQcOpAVROJ/NBEzABEygMQQsAC0AY1eeBWACgr16SccfL004YUiAIKmikbbjjmErulLJltwcDz9ceu456Y47is8ar+aZZ0pPPFH5ro48Unr33VCE2mYCJmACJtAYAhaAFoCxK88CsALB4cND/1u8Y998I809t/Tjj6W3U2M/kCTj119fWmmlIEaTGD18mfczzxQv4HzYYdIHH0iXXlr5bLSXo8g02+I2EzABEzCBxhCwALQAjF15FoAVCF51lXTaaUE8sZ1KHCBbpvPOG4u+9vEUdmZbmrjEpLb77tLHHxcXbpR0WXTRUDKmkiESSUK5//5KR/rnJmACJmACXUXAAtACMHZtWQBWILj99qGYMlvA2CKLSGyp4oVrlPXsKZ19trTqqslnQEu4OeeUHn1UWmyxzuO4pyOOKB0jmH80nr/jjguC2GYCJmACJtAYAhaAFoCxK88CsAJBRBNia/XVw4GUQfnLX5J5y2I/nFLjp5xSeuCBIEarMUq3vPqqdNddo0dV69W8775QDmfYsGqu7GNNwARMwATSJGABaAEYu54sAMsQpNcuyRZk3E4+eTiwmni52A+n2Hjav40/vkRc34wzVneF//0vZATfc8/oXr7vv19dXCOev3XWkT79tLpr+2gTMAETMIH0CFgAWgDGriYLwDIEb79dOuCAzh03yJilBMqTT8air208wmuGGaSff5YmmKD6c/zzn6GA9IMPhpIvdBWh/+8bbyQ7FxnQeB5/+inZ8T7KBEzABEwgfQIWgBaAsavKArAMwQMPlPACXnzx6INIACEDF69gpf66sR9OsfFDh0rLLiuNGFHb2clkxgt4442h9h9ZvWwnJ61tSCxhjx7SL78ET6TNBEzABEyg/gQsAC0AY1edBWAZgn36SFtsIe2ww+iDqumaEfvhFBuPWKMbx9tv1372Y48NNQGp+7f22tLCC0v8WxKjBA6Z0GwnTzVVkhE+xgRMwARMIG0CFoAWgLFrygKwBMHffpO6d5eeemrM2nnUBaQ8zPLLx+Kvfvx114WyNDFb0PQ2nmOOEAf47LPS88+HTOck9uefoQYiSSCcw2YCJmACJlB/AhaAFoCxq84CsARBtnrxAH79tTT22J0PWm456R//kDbfPBZ/9ePJSCaJo1RXj6RnpJ8wdf8oC9O7d9JR4Tg8f9QBrDYLubqr+GgTMAETMIFSBCwALQBjvx0WgCUI0hqNJJB77x3zAAows21Kgki97eijpbfeki6/PO7Kv/8eWrrRIaRaI4aQVnArrFDtSB9vAiZgAiaQBgELQAvA2HVkAViC4FJLhfi//v3HPGC//UI7uLPOisVf/fiBAyVKwZC80SjD80cfYsrB2EzABEzABOpPwALQAjB21VkASvrPf6THHgu9dclspVjy4otL9AGeYooxEVMGhmSMW2+NxV/9eBJSqP9H545GGbGPJKIgkG0mYAImYAL1J2ABaAEYu+oyLwDpj0tnjwknlLp1ky66SCLRgvIv9LwtZrRDO+YY6bnnYvFXP36jjULyxt57Vz82rRF4/tZYI3QEsZmACZiACdSfgAWgBWDsqsu0AKQNGt4s4uAuuEA68USJGDts8GBpxRWL43366bD9+dlnsfirH7/KKiH5ZNttqx+b1giuv8ACEnUSbSZgAiZgAvUnYAFoARi76jItAF95RVpySemLL6SJJgoo6Yhx/fXSIYeMmf2bg50rhlxrN46YD42t6YMOkjbcMOYscWN32SW0xjvuuLjzeLQJmIAJmEBtBCwALQBrWzmjR2VaAP7rX8HzR/xfNUYGLVvGtEWrdy28ueYKc6YbSaOM7OfvvpMoSWMzARMwAROoPwELQAvA2FWXaQG4114SYo6SL9XarLNKV1xR/2LQU08t/fvfIW6xUUbXkNdeKx0j2ah5+bomYAImkBUCFoAWgLFrPdMCkDp222xTWzwd/XhJgvj732M/guTj6cJBlnIjPI/5s8TzN2RIqJNoMwETMAETqD8BC0ALwNhVl1kBSAIIcWx0wqCoc7W26abSoouGbhr1slwf4i+/lKacsl5XHfM6ZEeff35gZzMBEzABE6g/AQtAC8DYVZdZAfj229L880v0xaW3bbVGQeZffqlt+7jaa+WOp2TNTDOFQtDjjlvrWeLHsQVNzUQSZmwmYAImYAL1J2ABaAEYu+oyKwDJ9B00SHr22doQ0onjoYekW26pbXwtoyhQTYeSb7+tZXR6Y158MSShfPVVeuf0mUzABEzABJITsAC0AEy+WoofmVkBSA07tlLJqK3FbroplEGpVUDWcs3HH5foQ/zBB7WMTm8MHVLoRoIHlJhEmwmYgAmYQH0JWABaAMauuMwKwDXXlNZeu/ZuFhSDXmutUEOwXkZxakqwDB1arysWvw5b0Ag/tqR79GjsXHx1EzABE8giAQtAC8DYdZ9ZATjffNLJJ4eWZrUY27Ddu4eWcdNMU8sZqh9z1VXSeec1R/LFVFNJ998vLbJI9ffhESZgAiZgAnEELAAtAIlAW0/SKpIe6FhOC0mist1ikr6RdKGkI0ostcwKQPr+PvFEaGlWq1EL8PLLpT59aj1DdeMov3LPPdIdd1Q3riuO7tVLIg5ytdW64uw+pwmYgAmYQDkCFoDZFoBbSaIK3aodfxCAk0oaJukSSUdK6inpbkknSTq9yGLKpADMee++/jqUgqnV2ALGg7jbbmOe4aefpB12kD76aPTP2L6t1ePIWSjA/PrroQB1o40aijvuKG2xRaNn4uubgAmYQPYIWABmVwDOJIkGZstKIiUg5wHcWtIJkojM+qPjK7GHpN0lzW0BGAiQTdu7d2hnNtZYtf/ioAbgiBFhWzbfKNi83XahYHP//uEnxAzScu6552q/3n77SQjLWjqX1H7V4iM33jhkJA8YkPaZfT4TMAETMIFKBCwAsysAh0i6XtLFHUIvJwBPkZNwwjoAACAASURBVNRLUn5k21IdYrG7pO8LFlUmPYB0saANHN60GMMTR0Hkwl7CbAsj1p5/PmTLYojNGWYI8XsUkK7FdtpJmm466aijahmd7hiE7WSTSccfn+55fTYTMAETMIHKBCwAsykAd+2I++vbsUTw9OUE4EWSJpG0Wd7ymRenl6SZJQ23AJQuvli69lrp3nsrf8nKHfHCC9KKK0psJec8iXj/iI875JAxt0fxCk48sXTWWbVdd5NNgudyn31qG5/mqCOOkP77X+kSgg1sJmACJmACdSVgAZg9AThHhzevt6QPiwjAmjyA/fv31/gdBd369u0r/rSzHX54EC+XXhp3l2zHTjqp9P770szIa0nU6ltnHYlaeRNO2Pn8/IzSM598MubPksyEhIt+/aTtt09ydNcec+65EmVp7ryza6/js5uACZiACQQCQ4YMGfUHGzlypM4mM1Bid6/B7QEa8wlFRHA1ZsKRVyXG7/yODzt371NJGiHpOklPSDpR0gx5MYB7SiJNwTGAHfBJzqB+3ZGkyUTaPPNIp502Orlj222DKCwWp4d3EKFIL91aMof/+tewtbzRRpGTTmE4hbBPOCHENtpMwAQCAboDLb20C6R7PXQ9AXsAs+cBxKc0ZcHSIs+0nyQ2NH+T9GZHFvAxHaJvsKSTnQU8mtrqq0sbbigRUxdrf/tb2JZFmJFdTJwfnr5S9fFInvjLXyQ6kVRrPXtK55wjrcKGf4ONWMYttwzeT5sJtBoBuunQyWbuYq/FNd4MCWFUFaAqQDMkatV4Gx7WIgQsALMnAIstzd/zysDwcyrbndNRBxDP4LmSSqUNZDIJZP75pRNPlOgGEmu0kjvmmJDwMXBgEEQPPlj6rKecErwEt99e/ZWnnVa66y5p8cWrH5v2CDKcSWb54YfaM6l//z3wmnPOtGfn85lAcQJ44RFnvICxC/Daa9J446VD6+GHJV4I//gjxPn+nSJdNhPoIgIWgBaAsUsrkwKQDh5k7i64YCw+iQcK3sSXX5a+/75z5m+xs1N8ev31pc8+q044cR1iCilhM9dc8fOOPQOJL1NOGbKb2fKuxUiUQYjTTo/C3DYT6GoCiDS+fzfcENpA4rknJCQNO/XU8HLH74OTTmp8y8Y07snnaF4CFoAWgLGrM3MCMFcE+quvpCmmiMUXxrP1w5s/gqZSbN/PPwexQwmaajxfJJyQQYxYmnrqdOYdcxYEKXlDeALnIDWpSiN5ZLPNwmfAw5IMZ5sJdDUBwhb4/iDWrrlGopbnW29JE0wQf+WttgrfaWJ0idflhTCmzmj8jHyGdiZgAWgBGLu+MycA2fJZYonG/nJecklp992lzTdP/vGROcyW1ciR6W1ZJb968SOpcUgyCPdTrRF7xTbcO++EbWD6HNtMoCsJfPNNiNF95pnQApKtWnqCUxVg003jr8w56dZDjO4kkwQvP2EbNhPoCgIWgBaAsesqcwLw3/8O4gvPVaOMItS//VZdPUA8hjnh2qh5F16XGEDqAa67bnUzym0f/+9/0rvvSquuGjybacViVTcbH50VApQuokj7f/4z+o6J22VXgFjeGPvxx1AYnfJSM80kTT+9dNttIUHMZgJdQcAC0AIwdl1lTgBSuBhv0/33x6KrfTxbT5SOeeqp5Od48kmJDOL83sLJR3fNkfQ1Xm896R//qO78JMlss014WOKFoTQOD+ZmyG6u7k58dCsRWH75kJiRv15JquKFEE90jPFdpsbn55+HbV/aJO65ZzqexZh5eWz7ErAAtACMXd2ZE4Bk7L7xhkQbt0YZ/YCptY0HLKndfbe0777SK68kHdH1x+29dxBwp59e3bVOPjkk4dxySxjHA5kEF0SxLZsEiCm98Ubpn/8MnjNKHqVpnJ/kL8oXLbzw6DOTxEQyE3GAs81W+xXxLt56K4V6wzkQmmwJH3RQ7ef0SBMoR8AC0AIw9huSOQFIja6JJgrZp40yElCmmiokjyTNfsVrSGkJagw2i9FSD2/qAw9UN6MttggPeB72GPdGeRxis2zZJEAiEIXF+T6wLbvLLulywNtMggZliwoTPpZZJmQCU8S9Vtt555DQlOuNffDBwRt44YW1ntHjTKA8AQtAC8DY70jmBCDZuvzCHzAgFl3t4/FGUDD2kUc6eyPKnREPA5mztF9rFmPbi7Z3POiqMQLvBw0KW2YYSSAkhRCLhTi3ZY/AWmuFupyffipRpJmQgDSN7w0edJLACu3QQ8MajNkVWHnlkNRFv2/sootCv/H77kvzLnwuExhNwALQAjD2+5A5AUibJmJ+KEHSSKNTCNmH1CRLYscdF7Z/mylblu0zPDbVZDvigWEMD3myiDEEMdmZ1GZbbrkkNHxMuxHAO0ciBt05SJIaNizdO8S7SOjF9dePeV5iUvFKE19ba9kWSiHhEV9xxXB+YozpNBQbW5guBZ+tnQhYAFoAxq7nzAlAflGTCFKpXl8s2ErjN9hAIiidOLokdsABoehy6P3dPDb77OHBt9JKyeZEMguiF09P/sMWHohzvDSNMGK3yERGCNjqS4DamJRN4aWAWFDq9KVd75L6f3iZc2EH+XdIBi/xgbXGAZLRz7zffnt0HCHZ7fQJ597GGae+PH21bBCwALQAjF3pmRKAeJoopvzii+GXcyONLWgeHGeckWwWJEoQN0gSSzMZW8CUcdljj2SzQsDecYd0zz2dj2dLmPIcN9+c7DxpHkWJHQr38hD/+ONQ4NpWPwJ4tsmaJQSAlwK+m8SEsi2cllGyiK1eunQUM9orEntYSz3A994L4hKxN+644ey//hrWE0Jw1lnTugufxwRGE7AAtACM/T5kSgBSCJZA7WqSL2IBlxpPP1JqEiKGkhgPpsUWa5yHrNQcKeb85ZfJ66ghFHlI8oDPN7Iz6QYyfHjt23BJOBYeQ4cVuCJk2YImOYg4UVv9CJD9S/LEs8+Ga1IiiFp6Rx+dzhx40aJdIe0aS2UXExYy9tjVZ7QzQ5KgSCJB7OUbWcWXXdb43YZ0KPoszUbAAtACMHZNZkoA4unhYU8cWq2xPrHAc+NJ6GBbN2lZl9VXD8Jkxx3TmkE65yEmEa8ePY6TGEJrtdVCHGa+xW7DJbl2sWMoSXPllSEDGRHCfVAbzlY/Agg9SjPxOWDnnRfEeFq1Oin6TukXvveltmNZx5Qzevrp6u+bEIirrx5zvsQD0h4uJru4+tl4RFYIWABaAMau9UwJQN7UEVDNEJj96qvV9Qul3do++4Ri0M1kL70UEjfwruJBqWTURkNo5TKA84/ngYlArFeGNjGVxISScUoGKkkA/G88OXigbPUhQHwenjm2aDHEOEXGq6mTWW6mtCskdOL550sflYvZqyUTnR7gxLSS+ZtvW28dSs8UizusD1lfpZ0JWABaAMau70wJQN7SzzknFCFutOGNYFsqaQbtvPOGeEG8Z81k9CaeZRbp/PNDV5ByRgwm94yXZf75xzySMhyIQ7yi9fDQkoXNNjy1FXPXIzGHB/f22zcT5faeCy0O99tv9MsNIoykjLQSQRB/vHDx/S9lrE3atxGDSpmoaozyL5Q2ovZfvnFPfM+bLXGrmnvzsc1LwALQAjB2dWZKALLdR6IB20vNYNNNJ91+e7J+oTycOJZkhWYz4hkpeEtyTTkvIPUCuefvvw9Zn4XGNjDlYMjIxQNHzBb9gamxlsS7mJQLvYhp00XHCZJRSEDIGVnZBPBTdNvW9QQQXpQFYut9wQVHX48SQZRsqVaMFZsx8Xl8fyrFFPICgzebZJBqjOx1CszT/SPfiHPlvohxtJlA2gQsAC0AY9dUpgQgv9jxWCXNvI2FW2k827rUPEuSeUhGYbkg9krX6sqfU7uNLEgSKPr1K30lCkfzkGW7rJTRAQKRnivJwXY9RXyTlpmpdJ8kBOBFRVCy9ZurRZgbhxeSGLRm6rhS6Z5a+eck/SD28ZTlFwFH9COo0vDEJj0Xmeh87rwYVGO8tOA5zH+RYDxxhRRwb4Ydh2rux8e2BgELQAvA2JWaKQHIVg1bj83SnxPhR0FokkHKGeUleDgm3S6OXRS1jGebiyB+6vyVMjojEGhf7hi2f2mrdeyx0gorBHGMZ6hwe62WOTIG1nhS2YZmO7rQuH7v3qEkieu31Uo5+biHHw6JErRqy7dddw1e4jRaNhLXSXxepZcIspBXWSVktSf97Mkip7TUJ58EL2O+0QWEFxpeZmwmkDYBC0ALwNg1lSkByAOAgPNmycojqQOPFKKonCH8eLggBAv7mMYugLTGM0e8aR9+GLZxixmiDoFVLharcNxpp4V2WmRNxxpJHhSuHjpUIqaymPF5TDaZ9MILpY+JnYfHjybASwPxo5QByje89HzuiPUYyxVpRoTx2Zez338PtTa5LnUBk1i5ygKsdbaHeZmwmUDaBCwALQBj11SmBCCB2sTlUFKlGeykkyS2RSvFJFLGgkK2xMg1sy27bPDm0AKrmJGBPe201RWzhg8FgUkIiE0MIaaMJJNy2aDMGw8gMYKFMV3NzL5V58bnQWhD4UsByTnE1cW2hKPH71xzdS7SXI4VXWoQbSRwJDHCEziWJJNCY82y3tnexktoM4E0CVgAWgDGrqdMCUCKQD/0UKgJ1gyWNCsZEUSrNOKlmtnYrqOvaqk6emyvsaVLUH5SI2aTJAG8dsQZxhgJHpyvUlYm23ZsD6ex/Rgz3yyMReQhjoi/yze2hCmhgniK8XqzHrfbTqJbRxLD88j6LexUU2osL5TE+BXrYPPHH6GrTBLvY5K5+RgTyCdgAWgBGPuNyIwAzMXqNFMcHQ8ngtwLOwgUfqhkxSJeXnst9uPu2vF4a4jXo34b26iFxgP9ggtCVm81hkeGVnh4F2OMIH1iywgDKGdkNBOvmFYh4pg5t/tYkoJYD4WtBBFPiHDi8vDc12r0/WabmRqgSSwXA0qmeJKWgHi76V1MeEMx69EjiEMSvmwmkCYBC0ALwNj1lBkBmOvXiQcozZIiMR9ArkMB4rTc9uZ114U4waTdNmLmFDu2Vy/pqKOkjTbqfCbiq8hk5p4Jyq/GiJVk+5uMylqNTGU8iWzVsSVYzhAdZAqTDBC77VzrfLMyjs48FFLGw11ohD1QRLnYz5Lyobg0nnO6dSSxXD3Aa66pnDTC+UhUwsNI7chixj0cdpjE1rLNBNIkYAFoARi7njIjAMk8RZR8/HEssvTG04kCUfLVV6FHcSkjSP7WW6W7707v2l11JsraILYKxVouFguxS22/aowYyeOOqxy7V+6cfP7rritRi7CSqGOOZKCS0FJYJqaaefvYygSoC0mCD8WgC22zzYJHOSZrf4stQjIPIjOp4Y0kcYM+vpWsUi1P4o0RsGS220wgTQIWgBaAsespMwKQbRi2aXIN52PBpTWebS5i/Ip1xshd44QTQpFlvBLNbmRt7rtv8PTlG//Ogzxp7+P8sYxhCw3BXEm8leJz6qlhG/COO5IRpDUZBa779k12vI+qngAvCniF8dAVyxzHk8w6yvUIrv4KoZA02/6UgEpqJKUQLkBpF17QShnbxFNOKfHfyScvftQ224TsY7yANhNIk4AFoAVg7HrKjAAk8J/A7qQCIBZs0vEIDdrTkSBRyg48MPTajdkCTTqf2ONGjAgPRYL48/vp0naNWMd//av6K9A5hJhCvHfTTFP9eEZQoJrkn6TepA03DOKB7Wdb1xDI9d9FCBYLy7jlFumII8LLT61GDB6dOIgjrcbwSJK1XiqjnXNRsJyt3XKFzfffP7y48B23mUCaBCwALQBj11NmBCBbQAgIkhCayYghIhGkXIIDHgx6o7IN2gpGGRWyO/OTLQj279MnJLPUYpTTYKuw1lZ4FNxGTFTqV5ybG7FnbAFfemkts/WYJAQeeSSse8IDihnZswssEDKBxx03yRk7H5MroF7Kw1jujHSD4XfFM8+ULgrNFjF/qCxQysgSprvITTdVP3+PMIFyBCwALQBjvyGZEYCILOK5jjwyFlm644lzwjNVrhsI9eg4Bm9CKxgeS7wi+eJp5pnDVh6CtxZDVA4YUL7VXLnzEmPJFjBB+UmMmoGUgUEA2LqGQKVWaSQOESJRa1HumNABvM5/+UuoBYn3upjxncUzj1gsZZR6YvfBrQW7Zg1l+awWgBaAses/MwKQYsJrrx1aMzWTJekGsuaawXPVKoHk994bvJpsAxOzlyuIy8MST2YtlrRtXrFzE9DPdcnqZXs6iVFyh24QCIFmyRpPMu9WOiZJbCtZwrxQFGaVJ7lPtn4pNF1r3C8CklhAXgbWWGPMK7L9ywtNOa82pYT43r79dpIZ+xgTSE7AAtACMPlqKX5kZgQgb/Ns6zVbOYYk3UBIgOAhQxxbKxhZtLSuo34hc6erA9vYMQ9BRADZ0mREV2u1eIJ+/TV4nxCC1C+0pU9g991DEki5gtskUcw2W2kvXLlZHX20RKs2PI21GmPJCn7uuTCPfKPkEVu8xcRh7riciCQO0GYCaRKwALQAjF1PmRGAZBlSSoWtxGayJN1AqFtHPFKlZvbNdF94WunDSlHlXPs1PCm1GuehHAxislqjswOZycXadZU7F9vuhAwkjRusdl5ZP56XsRVXDG33ShkvSCRb4M2r1ohBJcmKWoAxRjwrc6DjB4IVI26RcxMnSimYUkZRdBKX8CRTWshmAmkRsAC0AIxdS5kQgMQSUdWfYtCzzBKLLN3xSbqBUGKCgPmFFkr32l15NrbdeLhTSoNCucTe4cWr1e67L2zfkxhQrZE9TRmaausoUjoEL081NeSqnVuWj2eLnaxsMq5LGZn7CMTCskJJuJHJS5/ejTdOcnTpY8hSZquXF4KcB5qyLmQn33Zb+XPT0YRWdngiKxUgj5ulR2eNgAWgBWDsms+EAESEUA6CrMCYvqKxsIuN58FGhiqdLorVuGMrEvFKAWvuoVWMjgrcF9uoPCgffTQE1ddq77wTxBjby+OMU91ZEJ7UaisXrF/sjMccE7yGeGlt6RMgTABhXi6z+6OPpFlnDR60iSZKPgfWHzX86J5DMelYw9PH+qVnMZnL1PY766xQXLyS8dLJVvJyy1U60j83geQELACzKQApBrKWpFklfS/pYUn7Sfoob+ngKzpT0mKSvpF0oaQjiiytTAhAsgips0cSQLNZpW4g9C7mQdmM4rUSSx569NQ97bT4ODqEMNtvtXhxyeSknEjSGoC5+2LL+uSTQ6FuW7oEckWgK73YIOQoAUQh92oEFKVfqENJCZlqhGO5uyShA8FHOaPnnw/bv0nK05BIgheTRCabCaRFwAIwmwLwGElExAyVNLEkOqTSLj1X4GJSScMkXSKJoic9JdFE7CRJpxcsvkwIQGLA2AqqpQtFWl/Wcucp1w0EDxQPEDJZs254gigkXW0pmWWXDdvH1XSDgDUP+VVXbc4Xh1ZfCwh5Yuh4sank0d12W2nqqcsnixTyoOTPDjuE4uNp2rBhUv/+0sorly/dlH/Nv/0tFBWnjJHNBNIiYAGYTQFYuH4W5lkliQIXIyTRlvwESWwY/tFx8B6Sdpc0dxYFII3g8URRnqQZrVw3kIcflsiE5IGZdcPzAgv+VGPUIGQbtxoPEuenqwnxl9WUj6lmXlk+lpAA+vRSKqiSkbzFCxzhEklbAdJ5g8LhvPw12sgipv813mSbCaRFwALQApC1xPbvPyTN0bGwTpHUS1J+5aqlJD0miSpsbBvnLBMeQMpB8OZeSxuytL6s5c6DsCFRolg3EDoIkEXrgsQSniDiqejokdRito65RmwHkqTzzNpx1RRIZhsXDyAeWeJAkxhbrngWKdPSaOP7+9JLrdHLu9GsfP3kBCwALQDpIHuLJPLocv6tiyRRcGCzvKU0r6RXJc0saXjWBCBlHCjBQOHZZjS6gZAwUazTB+Vf6IlabQZrM95n7Jyo40jMGB7dpEa5DrIv2WpMEq9VeF56yLJ+iCO0pUeAZAoEHZ75JEYpHmpKJs0kZ+ue7N9yvXyTXDeNY664QrroIglvvs0E0iJgAZhtAbi2pCs6tnxvz1tU9gAWfMMoM8H2X619aNP6wpY6T7luIMceG0pI8BDJuiGG8YhSYDqpUT6HenBJthqLnROvLAIS8WlLjwDbomS3U+cvidFW8PTTQ1u4StvAlF6h4wtxgDGZ50nmleQYdwNJQsnHVEvAAjC7AnBzSWdJosLVfQULZytJgwpiACm1ulupGMD+/ftrfH4bS+rbt++oP+1kPASo5Vau3lgj77dcNxACx8mEPPXURs6wOa6NFxSxTHeOpEb/YWq3EXNWi1EImg4mzRo+UMs9NcOYDTYIyTx77ZVsNmwD05GFl4BKpVdInKK0DDGctXh9k80o+VFvvBGEKPdQSbwmP6uPzCKBIUOGiD/YyJEjdTaNpkNoVybTBMfK4CJAyJHdu46kx4vcP1nAb3ZkAZMxTOLHYEmEIGcyC3iKKYI3gGLEzWjluoHggZpnHungg5tx5vWd09ChIZuymozoarcaC++Iz4Z6b9STs6VHgCLNBxwgkSGb1M44I2z/4wUs15+ZY/CYP/RQ0jN37XG5XtS0MuR3kc0E0iBgD2A2PYBk9v4q6ZeORYQI/rMj6SMnCBeQdE5HHUAygykVc1SRRdf2SSDffBN+6VIImIzOZjQeVCSBFCtZseaawePxD9J8Mm58hmzt4dmhyG8SY9sfDyq1CGuxp5+W1l5b+vzzWkZ7TCkCtbRmpHbg3HNLJHUVS5jKXYvyLySNkHzRLDbZZKGd3PzzN8uMPI9WJ2ABmE0BmOa6bXsBiLeAHrqIh2a1ct1A6F1MH9uNNmrW2ddvXgg5aiYiypI+SCm+i+e3WIJNkpnjtZlqKokXie5stNiiCYwcGYp6U0h5xhmrOx2dQygfQ1Y8nvFixtogdraZejgzVzzJJKfYTCANAhaAFoCx66jtBSAdBGjp9dxzsai6bny5biDEPbGlRakYmzTvvCEZIGmYKnFm229f3mNUiSteR2pILkZfHVs0gVxmNh69SkWgi12MreM77ggdWnghyDeEOp8X7R+nmy56qqmdgJdQvJbV1rBMbQI+UdsRsAC0AIxd1G0vACm++uST0o30TmliK9UNBK/T44+HVma20NKPsjmIuiRGkW3ipGM8L5Qfoa4c17XFE3jssVBW54MPajvXb7+Fz5NtZNoN5idWkChEp460O4DUNtPRo/Bazjdf9e0IY6/r8e1LwALQAjB2dbe9AKSGG71ATzwxFlXXji/WDYStsgkmCN4M+gHbggdlttmkww9PRoNYQRI4YgR0tddMNrPsHnXNNdKZZ8Yl1tAjm8xasogHDgwikCxbQibIMD6qWMRzA5ETgvD99+FlxGYCaRCwALQAjF1HbS8A11pL4s+uu8ai6trxxbqBIPx69CDdP7SSskmHHhoEMYV1KxmCAM/q//4X4vhqteOOC50ckhYtrvU6WRnHy9izz0rXXRd3xyRVEOdHyZd+/UKNSGJ977uvOcq/5N8dYQske1HU3WYCaRCwALQAjF1HbS8A2XZhG3iN/MZ4sdS6YHyxbiCvvCItu2xIQLAFAtT04yF6zz2ViVC/j8+fWLOY+mtcj/ZzL75Y+Zo+ojIBvPIkgSQtAl3ujPRppsYntSHx9l54YXN6yxGnvEggfG0mkAYBC0ALwNh11NYCkKxRWsDRcorkgWa2Yt1A8BgQ6/bOO8088/rObfBgab/9JIr9VjKKP2++ee2xZrnz04mFBBC28MrVn6s0H/88EFh99bBNu/PO2SHC7yDiFhGsNhNIg4AFoAVg7DpqawH46achUPynn4LHoZmtWDcQElfYLiPb0RYIvPxyaOtHLcBKdsMNwcsUy48t+IknDkJ81lkrXdU/r0SA1np4cldeudKR7fPzWmpYts/d+066goAFoAVg7LrqEgFIll4ztGAi+J/6ecOHx2Lq+vHEl1GsmLimnFE3jK4/lLywBQK5unxJikHTOYIOMLfeGk+PJB0SF5KWn4m/Ynue4ddfQ1JWFsU0hegfflhaeOH2/Gx9V/UlYAFoARi74lIXgGxx4CWhcwV9VPGcNMpoIM+fRx5p1AySX5ctIkqcwC8Xr7b77hItmolhtAUC1RSDPvDAED95Ln1wIo1uLHisKAdjq50AcZkUav7xx9pqANZ+5caPpCD5YYdJ66/f+Ll4Bq1PwALQAjB2FacuAIlbIyOPUh0UMaaXaqNs662lmWcOraOa3Ygvo10U5S2mnTbMlpihTTaRdtyx2Wdf3/kttFD4TBFl5YzyLXPMIf3zn/HzI+6Qz+gcGizaaiZA8g7t+YirzJptuGEIX+D+bSYQS8AC0AIwdg2lLgDZtqQYK2VXkgbrx95EsfF4imaZRbr88tAKrhWM+VLYlocEVvi/W+Ee6jFHHqRkRw8YUP5qbNcSApCGgKYbC58NW8q22gmwjf7vf2czrIFEL+JJYWAzgVgCFoAWgLFrKHUByNYv3Svwvi2xRPCaxJTgqHSDn38eMgrpLLDLLqOzNN96S1pwwVAXjJijVrB8j18xj2Ar3EM95khRXdrnVfLGEWuFp3CddeJnRTcWxCQ1CG21E2ALnUzqU0+t/RytOpKXYzygd97ZqnfgeTcTAQtAC8DY9Zi6AMQzgwjES0MJFjJxu6onJ8kmq60WYomILaLhOgkTFE0+7zzp+utby2OTH/NXLCYw9sNul/HUeuOzpT9vOWMr/a67pMUXj7/zXBYnMZr0mk1qrFGSeygkTTxqMyRHJZ17VxxHUfY11wzt2rJm1ZQwyhob32/1BCwALQCrXzWdR6QqANl2nWKKUPF+kUVCQVYyMOml2hVGYdUrrpCefjqcfemlgyCk9Aexc8SKUSS2VYw2UQgWHhRptMtqlfuudp4PPihtt5303nulR5JtShu9Dz+UZpyx2isUP36mmcLnktuir3RWvLgk9pCIghecmMUTThhz1BdfSHvs8S1HJAAAIABJREFUIVEgeZllKp21tX/OSxpboHxPs2bEPfIy0tW7IlnjmtX7tQC0AIxd+6kKQB62JH/Qgou6e0stFR5sdLlI2xCblOYYNChsAWNs+7LtjBCkCDAlVPh7qxgtrPCe4s0kW/CDD4LXyNaZQG6dkUmKyCtm774bin9TAxIPcRpGAWNajxFqUMlYn5tuGtrQIej/+9/Qsuyyy0avV87x+++hMDIeRgQCCStscbej4Q2lKsAbb4TknKwZa5H778pdkawxzfL9WgBaAMau/1QFIMkfZLjxCx4jLm+BBaSDDoqd5pjjaf3E2zQP2PxSM2ydUv+PfyMLtJU6N3z0USihg4AmhpJm9+0qBmJWxB9/hM+XbVU8SsXs/vtDpwnEdFo2cGAQlHhqKxmlZ445JnShyWV10w4MzyXtwOaeO5wBDzUFv595Jniy8VyTCd6OW8V4bHlpg2E73l+lNcHPKUxPa8Gu2hVJMgcf0x4ELAAtAGNXcqoCMNe1ggcadvDBEkkaxGylbWz/UjT5ttvSPnPjzofXiFIw3NcWW4T+s3icbGMSoJYc3l9iyorZRRdJ111XOU6wGrZklF9ySSjmW8l48WH9F3q/EZF4pkkGeOGF8JLE503PYryBPXqE+MYVVqh0hdb7OeENZMJmsQRM7tNiR4JY367YFWm9FeEZxxCwALQAjFk/jE1VAOK1mn126fDDw7R4CNPhgq3NtK1377Bduu22aZ+5seej5yxiABGNQGj2HsaNooUwprxPqcLMeJ3xDl9wQXozfO65ELvGectlttPlolevcFw3vmF5xjYoZWluvjmcg2QltopztsMO4SWgHbNkEex4PxG4WTV2JQiTyf2OzCoH33c8AQtAC8DYVZSqACQDmPiozTcP02IbbqedQtunNI3WbtTIoyTHNNOkeebGn4tacwhmhAMdQLK6VVbpk6hUUw0PC0lAdANJy4g5nHRS6eOPw1ZeKTvllFDrDi9fKeNnxClSLzPfKBFC3Czfma4sn5QWk2rOs+WWYes7jcLc1Vy3mY4lQQ2Pb26XpJnm5rm0FgELQAvA2BWbqgDE+0fSQp8+YVo84IjR+vnn9ALxOS+ZmDxkiZuyZZMAMXa33x6KjhczYqz22quzdy0NUggY6g9Ss7GULb982OJLkixSeA7i46aeOogE6li2k9EK7dBDQ4morBrCn3WZi5POKgffdzwBC0ALwNhVlJoAJH6NzN9XXhkd4E4pDv4NIUhyQ1q2776hEDDbZ7ZsEqC/MwkTeIGLecqoPYlAJFQgTSPjHIFXqp0XJV3wDpL1W2v5GeIa6WKCJ7BdjK1vvKcvvxwSQbJquUQvSsG0SoH6rH5WzX7fFoAWgLFrNDUBSLwT27H8YqMAdM6Id6H0Rc4rGDthxlNbjYc/28u2bBL45Rdp8skl4vKImcw3sqgRG/l9ldOiRHkeXmioP1nM8IDjnczVpqzlumxbf/WVdP75tYxuzjFvvinRmYXPJq2yPM15p+VnlauVSi1LPKI2E6iVgAWgBWCtayc3LjUByJs9nhGK3uYbwo9EDRJE0jB+gU41VYixSqPDQxpz8jkaQ4BtWJJBKKCcb6++GmrudUXBXbac8cxRc7KYrb9+qEVJBnCtRhwo28y0n2sXowROrixOu9xTrfdBrDQlioiJtJlArQQsAC0Aa107qQtAHowE5lOfL9/69QtCjW3bNOz996W55goPd7aXbdklQCkg4kDJqM03EikOOCCEI6RteOZ4AaG8UWECEkkixO8xJ8rU1GrUN8y9TLVLIggljUhs+de/aqXSPuNy/dKLdYVpn7v0nXQ1AQtAC8DYNZaaB/Dii0PJl8L+rNS8QqhRIzCJ4eEr99CjiColFHhI2rJN4KmnpDXWkIi7y99WpNUYHmL6QneFUZqHbM611+58dmpS8hKEdzBGuLG9TRgFhZNnnrkr7qD+59x44+AZ3W+/+l+72a6Y3/Kx2ebm+bQOAQtAC8DY1ZqaADzqqNB1gWK5+Vbq34tNnLp3FEAmrquUd48sQlqBEVdoyzYBEgvwxhFPRdeUnA0YIPGzM87oGj6ENFCwmS3NfKPLx5RTBnEYa8Q1UgYIgdsORjUAahuuuWY73E3cPVBIfKutQqKQzQRqJWABaAFY69rJjUtNALKtMcUUEtty+UYg+623li7XkX8sSR10DaHMS35x3Pxj8LpQjLedMiRjP8Qsj1933dBWK7/dICKDLNpSRaJjeVFcGm/3Aw+MPtPIkSHrl+3o5ZaLvUJIcsJjllboRPyMaj8D4RrUtaxUP7H2K7TWyC+/DKEC/JcXBpsJ1ELAAtACsJZ1kz8mNQHIgxhhVhiQz5bt0UcHr145IzuQ8hk8uEkkKdxKzo3NtcoikNpmAggxMnOpq8a2a1pxeOXIkvBESy/Waa5QN8KPNm94wdPoP33kkeFc7RAzRzLLRhuFkj22QAAP77HHSiQN2UygFgIWgBaAtaybLhGAtDAj87GwyCu//PHmsW1bztjSZYuIQqnUDBw2LLRMyrdPPw1bbyNGhHZZNhOgyDhrgvg7PG9pxeGVI0vPXrzdxBnifcTwOiIKDzkknc8EQcmL0/PPp3O+Rp6FmEy+14MHN3IWzXVtXpR5UeiqMIXmulvPpisIWABaAMauq9Q8gHjv2OotLLxLQPwCC4RuIOUC41dcUaLILlu7lPYgpgvPTr6RaUwVfWqK2UwgR4CtXl4KeIlIMw6vHGGuSQwXa57ivnPMEeoDzjRTOp8LL0C0smP7tNXbAfKZINIRtLZAAIFPS7yuyFQ342wQsAC0AIxd6akIQDp+TDBBeCAWZi3yYKZgL9tl3buXni7B/PTApTjqRRdJV14pPfRQ5+MJuh86NMRf2UwgR4At2aWWCjF5xIimFYdXjjDe6DnnDF5Aij/Tn/quu9L7TPAyEjdHSZnCQtfpXaU+Z1pkkSB2stwCrpA08X/TThvWDV1rbCZQLQELQAvAatdM4fGpCEA8ILPMIlG+YrzxOl+iWIu4wkng5WBLl24iCEHeivEkIh7zvR/EEVHg16UkYj/29ht//PGhPBDrCHFWj24T1Bok45eaf7yU9OqVLtdllgn9hMmMb1XjdwJdWfBo0ivcNpoAuxz8LiuV8GZWJlCOgAWgBWDsNyQVAUg9NrZtefAWM7yCPCB5oBUzikcj7OjvyzbxH3+EGKvC8h5ss5GBSSs4mwkUEnj99bAdS4eQeti334Yt4M02G/PFJ43rEyc2/vjSKaekcbbGnIPkL76vFNCOqY3YmNl37VVJGuIll8oHNhOoloAFoAVguTVzhKQdJCHyyMHtL+nVggGpCMBKmb4kiBAcT4xfMSvWRYSMYjLkdt01jPj661AyIeclrPbL4uNNoNUIUFydUAhehFrVCOegrNP997fqHXTdvKl0sM02IUEujczxrpupz9yMBCwALQBLrUsar9EhlTKy70ginWIrST0l/Zg3KBUBWKnzAsVsEXP0vyxmxWoFEjNEJ4QrrggjeAjyy9LFU5vxV5Hn1BUEKIxOL21eflpVIFCUm3jG00/vCkKtfU5qR9JOkNhnaj7aTKAaAhaAFoCl1su7ktg4OqvjgHEkDZc0QNJVaQvA/fcP27c0sC9mW28d+vfSxaOYUcSXoGiEYM7wCtJGjlpoGF0RHn00bLnZTCALBBAIxM+xtU3CSStaqfqgrXgvXTFnwgf4bJ0h3RV02/ucFoAWgMVWOF69byQtJempvAOGSBoqaWDaAnDzzUOplwMPLP6Fo5vBTz9JZ+XkaMFhBLmT6ZjfzQGvBwkhn30W3pKJ66JINHEzNhPICgESBfhekADVikZiDPU9V1+9FWff9XO+7jqJdpkuB9P1rNvtChaAFoDF1jSVyD6QRE5ifsU8iqd8K2mntAXgCitIO+wgbbll8a/YiSeGchbXX1/85xTwZXu4MNtx8cVDz0y8CD17Sh98IE0/fbt9jX0/JlCawPbbhzIhdI1oNWPrd+KJpVdfDTsAtjEJkEhEW7hW9vL6c20MAQtAC8BiK69qD2D//v01PumGwsvWd9SfaozsXALWKeZczGhndcklY9b1yx1L5w+C3Qt7qNLVAWGIsKSMBP/bZgJZIkBYBWEP1BtsNSNel+1NvP+F5aFa7V66cr4kvFG/0v3Nu5Jye5x7yJAh4g82cuRInX322fyVCrs4dzJnY2XujpPdcLEYQDpx7p12DCAlWyaaqPxbPm2gCAan3Euh/fabNOGE0jvvhBZw+UYNQcrDPPtsEH94Am0mkCUCtILjxaoVE0HI/OUFLhfHm6XPrZp7HTRIeuIJxzdXw8zHSvYA2gNY6ntApBxZwGtJQgz+UxLlZOdJOwv488/DFtWPPwYhWMx4iPGWSwmXQmNblwKxFIwt1vKKhwjikXpird4Sy7+0TKBaArwg0UHn6adDwelWMpK6KBHFC6CtNAFecKmVSCJcPQqY+7NoDwIWgBaA5Vby4ZIovDKZpGe7qg4gwowd42LiLjc5ivNSDJqsxsKtIDJ7SSJBCJYyPIEuItsev7R8F9UToBQM8bHE2baSVUr+aqV76cq5EiuZa4VJ3LPNBJIQsAC0AEyyTsodE10HkK1ZWnBRs6yUIfzoFYwQnHHGzkdddZV03nmhxIvNBExgTAK0nOMFi6LKrWQUfidBbK+9WmnWjZkrdVKXXtptLhtDvzWvagFoARi7cqMFIDGobPHccUf5qVDKhdp+hW+4xx0XSiAgBG0mYAJjEuAli1IwZNO2ki24oMT3mwQHW3kCZ5wh3XWXt8u9TpITsAC0AEy+WoofGS0A8U7Qz/Lcc8tPZaGFpGOOkdZZp/Nx9DudZBLphBNib8XjTaA9CRBnS/kj+ulOPnlr3CPJYRSxJv533nlbY86NnCUvwb17h2SfjoIMjZyOr90CBCwALQBjl2m0ACxWxLnYpEgC2XhjaccdO/+UbSJinPbcM/ZWPN4E2pcA5VQoCVNlhaaGAfn44xD3SwkYwj9s5QkQ54zIv/HGMcthpcXuqadCua3TTnOySVpMG3keC0ALwNj1Fy0AEW/bbRcKNpcz2sHxEKPHb77x1kuweKt2Ooj9ADzeBJIQ2HZbaYYZWqcgNGKDuLZPKD5lS0SAtnB4Sw+jc3vKRkcluspQrYFdF7qP2FqbgAWgBWDsCo4WgIi6Cy+UVlqp/FRKbRXPNFPoEEIAtM0ETKA4gSuuCK0UEVatYJR/ob8tVQJsyQjwexQP3cMPJzueowideeMNae65QyvOYtUS8C7SSnPaaaWDD5aWXFK6+ebwb7bWJWABaAEYu3qjBCC/WKj9N3Ro+AVUzk4/XXrwwc7FTil/wPZQsSLQsTfm8SbQTgTYUqVQOrXiqAvY7JY0OazZ76Oe8+P3IL2Tv/kmtNCrZGSGs21MghAvBzfcIK288pijbr9d2mmnUJCbuEyqNvA7+6abKl3BP29mAhaAFoCx6zNKAL77btiy+O67ynE+ePlOPrmzB4PtoR49pJ9/rjw+9kY93gRanQDfNfpqFyZSNeN9HXKIRPLKBRc04+yac068UM82Wyj3k8Q7d9llIS6UIuFkW5Mt/uSTnb2AJOMsumioIbn77uG+X3457Lh88UXp4v3NScizyidgAWgBGPuNiBKAvEGS2UumXyWjzh8JI/QHzRnbQ6uvHn4R2UzABMoT2HXX8KJ06qnNT4q44FlmCd4mW3ICxHri1UPQVTJiLGmViQfw++9DjDU92fPL7lx3XYixfuut0S/ZCE36t595pkv0VGLczD+3ALQAjF2fUQKQeJJPPw2/dCoZv4AWWCB4+3JxKmxNkBTy4ouVRvvnJmACZIgSvP/SS83PYo01QhIIvYBtyQkQ64kww6tXzkjmmHpq6ZlnRrcIJLv38stD3OXYY0u0EeR37j77jFl9Ye+9g2gk7tDWmgQsAC0AY1dulADklzxvm/37V54Gv2wmmyx0NKDtEUYHEEQgBVBtJmAC5QlQB5BMYGrGVYq5bTTLhRcOSSCtsF3daFb51yfWE88psZ7laj7ye5Me6bxY516oebmea67gIabkFlvEvDCQJFLYgvOhh6R+/aThw10Sppk+/2rmYgFoAVjNeil2bM0CMFe3imy/pBm8CEBiVHgrxQ49NHgQ/RYa+zF6fFYI8GDnIZ9ki7CRTOj8Q4egxRZr5Cxa89rEeg4aJK27bun589I97rgSyXX5xks1/8auDD3WjzxS2nLLMc+Dd5AXcYQgMYK21iNgAWgBGLtqEwlAthv4ZZNfoZ43R0q4kABCJ48k1rNnCFpeZZVw9Pbbh3MccUSS0T7GBEwAUUV83QcfhO9kM1qu9zfeLJK8bNURINaT37Vs6ZYyavpRWmuTTTofAXuKhedCbgYPLu3hozg/2/Rcz9Z6BCwALQBjV20iAcg275tvBk8dhZ8xfrEMHCi9/nryKdAYnmy03BspCSAbbhhKFNhMwAQqE6B00uyzS5RZadbtVcQpc/zll+YVqZVJN+4IYj3x3JGtW8x++CGUAnrvvdBtpVaj4DSVHIg7tLUeAQtAC8DYVVtRAPLLnC0nEj7Ylrj6amm99UbHllx1VfIpbLppqEa/335hDP2Bjz3WmWjJCfpIEwiZtU88If37381Jw11A4j4X4qQp2kx4DP8tNLZt2d796KPihZ+TXv3uu6U99gjeQlvrEbAAtACMXbUVBSBvomSk3Xln6NiBt44sNep8UV6AtkJJba+9wi+sXBkLYlDuu88xKEn5+TgTgAAJAnjY8MIvt1zzMXEXkPjPhLg8XpRpD1doxx8vPfts6BscY19/HeIAaRNHzKattQhYAFoAxq7YsgKQIqLUlkKwESuCkXl2/vmh/h+FRccZJ/kUKGKLd4BfXGSs0UWEt9zppkt+Dh9pAiYQvIAPPBDahhVr/9VIRu4CEk+fBDk6d1xzzZjnYgdm+eVDeZdYo/MIOzvNGk4Qe3/tPN4C0AIwdn2XFYCPPCJttJFEMHeujADZvyNGlC9RUGpS994b6lG9/740bNjouoDUrLKZgAkkJ8B3kJczkgVy3x+KApMBGhMXlnwGpY90F5B4inj4aOtGkfz85Dt+//LCjJd1mWXir0NCEaWFeKG3tRYBC0ALwNgVW1YA4vlDBPLLJg379tsgHBGUZDOSVEIsk80ETKB6AmTi5zrr4K3n+3TzzWF7kIz7Rpm7gMSTR+gh5C+5RCJbN2ck4y24oMTv0gknjL8OrfquvTZ4k22tRcAC0AIwdsWWFYD8Ip9xxpDwkZbxy4u4Qh5U9L1M89xpzdHnMYFWJUBxdv4Q3N8ocxeQdMjnCuyzpZ4ztoaHDpVuvTWda7zwgrTiihLxgM0WSpDOHbbvWSwALQBjV3dZAciWEnEmVIxPy0giwQtI9vCVV4ZfPjYTMIF0CPBC9dprxWPH0rlC5bO4C0hlRkmOIMubl3BCZqj5SAkgXprPPTe9ygnUDZx00tAthP7AttYhYAFoARi7WksKQLaU6NxBBvD888deZvT4Sy8NHUAodfDNN+lsY6Q3O5/JBFqbQH6cbaPuhIxSSowsvnijZtAe16VbB0kalODaZpvAlOL5aRcBpzQX1/jb39qDW1buwgLQAjB2rZcUgBQIpSURPXzzg5BjL0jh6Pnmk1ZaSbr//tizebwJmEA+gfw4W4L7623uApIucXZKSKqhKDQJeYjqtBM2EJXTT5/+edMl4bMVErAAtACM/VaUFIA0G+etkHiTNA3PIrWnqCF40EFpntnnMgETgEAuznaDDerPw11A0mXOti8F8ymXxfYv9VjTFvbEGHJePIy21iFgAWgBGLtaSwpAOnQg/orVoYq96EUXSauuKs06a+yZPN4ETKCQQC7Olvpu9bb//EdCeH7ySb2v3L7Xo1LC889L//hH17TW4/x8ZohMJ4Kkv47I6KZeJ61Qq+HL57LIItLEExefkwWgBWDsai0pAP/+9xD7hxfQZgIm0DoEKB1CrO2jj9Z/zu4CUn/msVektzDx3rSW69Ej9mweX0iApCyepTfdJG24YTI+eNLnnluieUKpjH4LQAvAZKup9FElBSDbSEcfHfr+2kzABFqHwIsvBm8DxaLrbWwnspXIlqKtdQiQbHLSSdJaa7XOnFtlpmedFdr6kWX90kvJumfhxb/hBokEnVKx8haAFoCx34GiApC4E9zOr7wS3kJsJmACrUOA7PoppghZ9t2713fe7gJSX95pXY2ew7z0Oy47LaKjz4PXj61cPPOEVrG7Vs5oAbjAAtIdd0hrrhl6NU855ZgjLAAtAGNXa1EBSN2pueaSfvppdAu42At5vAmYQP0IIPzYAiaBoJ7mLiD1pJ3etSjO/8470uWXp3dOnynUbqQs0pAhoaTaddeF7lrlDBH+3nsh/n7RRUMt3i22sAAsxmwsL7IoAkUF4H33hYBj3kRsJmACrUcAb85xx6VXMDgpgdVXDwkFO++cdISPawYCCJNTTpGeeqoZZtM+cyB5h5Jn1L199VVp2WVDaEauf3exO+3TJwi+HXaQDj88jGM7uNDsAbQHMPabUlQAnndeaDVEv16bCZhA6xFYe+3QEi7XTqxed+AuIPUine51iE1bfvkQNlBNpmq6s2i/sxFXiSf+ttukX38NXVfKhVZR/Bvvfa4BwzPPhIoZxVr1WQBaAMZ+Y4oKwIEDpZ9/lghetZmACbQegV13DQ+bepeCcReQ1lsrzPjHH8N6GT48FIW2pUNg3XUlPHoDBoTzUcibGril2qvSm5njEXx4CSnsjiD86qsQ15tvFoAWgLGrtKgAXH/9sAj32iv29B5vAibQCAInnCDxMLn22vpd3V1A6se6K65EoenLLgu/+23pEKDrFV5AkjkwsntJ6Dj++OLnP+ecsPtGH+icIfwefDAkklgAdmbgGMC4dVpUAJKBxAPEJQHi4Hq0CTSKAAHkZ5whPflk/WbgLiD1Y90VVyJ+k5d/4r9t8QQoAD3JJKGIN21VsXPPlaiVmS/w8q+05ZahXMwRR4z+V8IqjjpKwptoAZhtAbilJMKre0n6QxKN2g6R9EQelsklnS2Jik4cM1jSbpKKVQUbQwDSqo1FSy2xeeaJ/xL4DCZgAvUnQBeBjTeWPv64ftd2F5D6se6KK7HjQ/zfqad2xdmzd046q9C2j2oaE04Y7p8kG+JzP/+8eKwlZdd4cSN+N2cIP+IAd9/dArBwFWXNA7iLJHJzEXw/dwi7oyTxfjG8Aw6CbzxJ/RS2yK+T9IOk9Yt8BccQgFSDp0UbMSETTJC9L63v2ATagQDf41lmCbG8449fnztyF5D6cO6qq5D8R7KCewKnQxjv+9/+FuIqc4YYpOsKZV5mnrnzdb74QppuupAxnF/3b7fdgoBkKznfHAPoGEDWw9eStpF0m6RZJL0viepfr3QsFv7+YsfPPipY2mMIQGINqOXFArWZgAm0JgHqj/HQePPNsKVUD3MXkHpQ7rprVPrdT4YwpYW22iq0NrOVJ3D11RLficcf73wcIVZ02WK7Pd9uvFGiHuPLL3f+d9rBkQ18/fUWgIXEs+YBLLz/3pLo+NmzQ/gRJUDYd2H7aLyFG0kqbNA0hgC88MKw0O69119vEzCBViYw++yh+8CKK9bnLmh39f33EoHsttYj8Mkn0owzhs+QTlD5RkgQiQxkpe69d4hJs5UncMwx0uuvS1de2fk4EkHwAp58cud/32WXsOt22mmd/53nMccW1mi0B7B9PICXStpa0p8d27aFK+shSSsV/CMOZGqK/0vSYR0/o174iZJmKDj2U0kkol9d8O9jCMD99w9fcoJVbSZgAq1LgGzObbeVtuY3Sx2MmMO//jWUubC1HgGSFigBw1b+0kt3nv/224cetnSmuPnmbDoIcI7wMkWXrCQGsx49xhTLZObnsvTzz0PMPd6+wmSPUrG1FoDtIwB53+oIEy26tH6V9F3eT1iCJIoT33dg3r/X5AHs37+/xu8IFHryyb7q16+vS8Ak+Yb7GBNoYgJs1fGw+uc/6zNJapwdcIC0EXsNtpYksN56oSA07cdyRjgByQxsUXbrFn5OnToEYVaMpA3E8UQThSQZvHiVjA4gdPQgpCrf6O2LMOScU00VfpKLvafeX2H/bjyzHE/84MMPD9EQ+spJGjlypM5mj1mi4/e3lebTjj/P4hYwMX306KBM87EFHyoxgETvLZwXA8jfn5c0K+us4PgxPIBzzildcIG08srtuFx8TyaQHQKHHirx8LjoovrcMw8zylsstlh9ruerpE+A+nTPPde59dhjj4V4NbJascknl/BKEcuWFWMb9thjpcMOCy3aSNSo1DGlXAgGrRpp80aSCHbFFaHxQrFWfFTmQHjSEi7f+2gPYPt4AJN+j3DM3yGJKkFnlBjEz8kC3rxjO/kaSd9L2qDI8aME4Pvvj9Css3bTDz+EavB80clGspmACbQugXrG8+Y6Fnz5ZecMxtall82ZP/RQ8FrhkcoZW/oInksJVFLYBv3736Udd8wOI2ojEheJCCR+7+23Q7WMUkZLN5KwOI4C24W2554SxwQHXgjVwMNIkk0xQ/idf35nx4wFYPYE4AOSlqdzT16sIHGDeAJztcWpA4h3cO2OmEIEIXUAi7mIRwnABx8coT59uo3qP0jx51I1irLzdfedmkDrE8AbR+0wMoHTMrwRr702pvfHvWTTItzY8+AEYAsyV6aEuMCePUNsWi5r9aCDgpOABKOsGPX5SM7g+UhhZrx3GxRzqXQAgR9jKMM07rhjUqLcDuESJImw7Yu38J57pKWWKk602HayBWD2BGDa37dRAvDii0dou+26jfpC44qmHIDNBEygtQm88UYI2qemZ6XtqiR3ijeDwPZHHgmiEmGQM9pX0b2A9nO21ibwl78EcbLJJqGLBTF/xK3RIAC7/fbwc14EsmB0uKGUEkKNGEi8ddTwo2RLKXvggbBV/O67xY8YMSKIvjPPlF55JXDuCO2ES3kRAAAgAElEQVQrOoBr4nFEeObMAtACMPb7N0oAHnzwCB19dLdRDat//TUsSpsJmEBrE0D48dDm4T3ttPH3QoYv9d94INI2LD/b95RTJGLFyBC1tTaBXXcN5UhIduDvv/wiXXzx6HvKJSXgLSwsF9Pad1589pdfLlEkO9dWkU4deNfvLCyqljccZ8pVV0n331+ayF13Sf36SXhZEYx8v0oZiVxsy+d7XS0ALQBjv2+jBOBmm43Q1Vd302qrhaDUnWk2ZzMBE2h5Agi/wYOlJZaIu5UPPwweC7b+EHn/+lcQfDljq5lCAoW1zeKu6tGNIHDTTdIeewTBs9BCEkIlvywMgoVYcYoTzzdfI2ZY32vyPGRbfNCgcF3WPcKtXJtFPHW8KFXaJiemcNgw6bLLyt8TAhTPK59FziwALQBjvwmjBGDv3iP0n/90G5VqfsMN0jLLxJ7W403ABJqBAKVZDjxwdLZhrXMiWJ3fDSQJ4AFiC4wHYC5ZjP6meAVpW2VrbQIIPLZ/ETpTTBGyTwtDCPAEI4iIiWt3W2UVadNNw5Yu9t13QRDS4o3EjWJWbMs2hlOxEAsLQAvAmDXF2FECcJppRuj117tp6qlDfSfS/G0mYAKtTwCPPi90hHfEGLsDNKinCwRGsDoPRGICsSwJghiOrTIWkcNnTPZrMVGfJcFfrDQaRZtJCuE7UcxI2thyyxAvmIZRHoYajblSPJzTAtACMHZtjRKA/N+OO3bTffeVDlqNvZDHm4AJ1J8Agg2PTmF7qWpmQg9YtpJJKsn1FaaTwcMPhy2prG0JVsOulY+lTAnFnoslEGVly79UT208gmQD410vZsXKtsSsBbaTKSczcuTorGILQAvAmDXF2FECcKqpRqhnz26jCsZmIaYjFprHm0CrEED4IdRo71WrXXddaF4/dOjoM/BA4iFHuQtKXVDyolgP2Vqv6XHNTYAEkUcfbf+kn//+N7z0sMbHo7puh5WL8StVuDnmEyURh7qCbDvTlQWzALQAjFlT/y8A33hjhOaaq1umWvvEgvN4E2gFAiRs0JSe7g61GgV/iXk66aTOZ2D7a7nlgggk45isR1s2CGSl7A8xr9tsI73/fufP9corQ8csSiIVWn7rNkRbWkannXvvlSjTYwEYGGSxFVxa6+n/BeCIESPUjQJHNhMwgbYigPDr2zd0cqjViIGiTVVhvBO9YckWpT7ayy93rgtY67U8rjUIUPh7hRUkwgPa2eh+QsZ7YW1cWuFtuGHwyBUaP6NINEIwTaP1HqEXucQbewAtAGPX1xi9gGNP6PEmYALNQ+CLL0L8HtuzuUK+1cwOzwfbu4g8WmDlG/FIM84orbtu5zpx1Zzfx7YmgVzrP9YFmcLtasXq73GvvFBNM03ICKYkTr7RN5hySMX6+sZwWnXVUH4ml41sAWgBGLOeGGsBGEvQ402giQmQoIHwwxPYq1f1E8UDQmzw448XH/vssxIewnYWAdVTy8aIwi3JdrxrMnnJ+D3kkM53x/eKNU98Lckg+UbbPGokIgTTtK22Ci9jhx4azmoBaAEYu74sAGMJerwJNDmBBRcMTezXWaf6ifIAJPvwqKOqH+sR7U0grRqTzUxp2WWlXXaRNt98zFmWun8ypOmkUhgzG3uf++8fPPnU5LQADAwcAxi3qiwA4/h5tAk0PYGNNw5tpvJbtyWZNF6OmWYKyR19+iQZ4WOyRIB11bu3NHBg+941IQ4UQM/vhJK7W0rB0GsbYZZvhERQPJr42DStMPPaHkALwNj1ZQEYS9DjTaDJCbB9RUB6fj/XJFOmEwQPM8bi0bCZQD6B/faT6Aec80i1Gx1Kv0w0UefSK/n3yPeKPtsXXtj5zhdZRDriiFC4OU279lrp9NNH9yS2ALQAjF1fFoCxBD3eBJqcACUr6CWa37s3yZTpYkCA+5lnJjnax2SNwDnnhD7T/GlHe/NNCTFHiaNixbDp33v55WNmCBMb+MADwTuYphFvuPXWo0vSWABaAMauLwvAWIIebwJNToBEDfr0VlMKhixPCs6S/MFD0GYChQQQfmx/vvJKe7Kh5l7//tKwYcXvjxeqzTaTPvxw9M+//FJd1lKVeRDPi2cSQWoBaAEY+82zAIwl6PEm0OQEciU7KAlDv+8kRpHb88+PKyCd5Do+pnUJ0BmG2DjWVzEPWeveWZg59f8uuUSiGHQxoy8vL0l4CNkqxigMTcJIvihMiwMlZyjXmyu9YwFoARi7tiwAYwl6vAm0AAGC2SlLscwylSdL/1NKW5DNuPPOlY/3Edkk0O61ACm6/OKL0jXXFP98c6Vg2O7NdedgW/yOO6S7705/TRT23LYAtACMXWUWgLEEPd4EWoDAyitLf/+7tP32lSd79dWhyT1bTk7+qMwry0cQ74aHrLAWXjsw2XvvcBdk35ay1VaT1l9f2nXXcAT/pe4mtQC7wqgDiMikKLQFoAVg7BqzAIwl6PEm0AIEiGWaeOLKD6bffgsFow84IJlYbIFb9xS7kADCjxqRZIu3m1HmBc8e2c6ljE4hdMthuxhbfvnQqYOizV1hvMixxbzddhaA8HUdwLhVZgEYx8+jTaAlCJxxRmgkz/ZUOaNUzPHHS6+/Lo07bkvcmifZQAIIP7xgu+3WwEl00aXpdYyYoxh6KWOrl3p/b70lsUVLd5T77hu9JZz21MjMn2WWUGbGHkALwNj1ZQEYS9DjTaAFCPBQ4uHx3/9KY49dfMK//CL17Ckdd1zYLraZQCUCCD8SILpqy7PS9bvy53wX2G6lqHMp+/rrIPqoB0hv7JlnDrURc0khac/v8MPDd5gWjRaAFoCx68sCMJagx5tACxBA3JEIcuONpbt6UND33HOll16SxhmnBW7KU2w4AYQfZYauu67hU0l9ApNNJv3nP9L885c/NSETgwZJ448fEqdKlY1JY4JkJVPXk8QTC0ALwNg1ZQEYS9DjTaBFCAwYIH3+eXiAFBo1AqkxhgjccMMWuSFPs+EEEH4kSSCU2snouYsA5HuBh6+c4VmnHAzHUTfz5pu7jsT994fM/LfftgCEsmMA49aaBWAcP482gZYh8OqrEg3sae02+eSjp03ZlzXXDNmLN93UnjXdWuZDarGJIvx4YRg+vMUmXmG6CCw8f7miy+UOpxXcQQeFjHmSM448sutYEGu4wALSTz9J33//rbp3787F+H/fdt1Vm/fMFoBxn40FYBw/jzaBliKw5JKhFiA1zu66S6KdFQWiiWF65hkpPE9sJpCMAC8TPXoEodROJYMefVTaYosQb1fJ8BaSXPXHH6E8y7TTVhpR+8/z+xNPMokFoAVg7WuJkRaAcfw82gRaisDzz4f2VXQvIFidbWG8gWuvLc02W0vdiifbBAQQPSQ8vPaaNOecTTChlKZA0fRTTmnOrW22m2+5RZpvPgtAC8C4BW8BGMfPo02g5QjgReABR/mO6advuel7wk1GYK65JFoHrrRSk00sYjqnnx4KXCO0ms1695b22Yf+3haAFoBxq9MCMI6fR5uACZhApgnwIrHxxtKOO7YPBgqhjxgRsuKbzTbZRFpiCZJBLAAtAONWpwVgHD+PNgETMIFME6AQ8njjSSef3D4Ytt46bGnT6aPZbOBAibJOxxxjAWgBGLc6LQDj+Hm0CZiACWSaAKWDSCgaPLh9MPTtK220UXN6Nc88M3T1ufJKC0ALwLjvnAVgHD+PNgETMIFME6A23U47Se+80z4YFlpIOvbYkBzVbHbbbdJhh0mPPGIBaAEYtzotAOP4ebQJmIAJZJrAxx+H/rRklU84YXugoJQLXk3qZjabvfJK6Dhy220WgFkWgHtKOlXS0ZLyIxUo8Xq2pLUk/SEJxzytukcUWcgWgM327fZ8TMAETKCFCPz5p9Stm/Tkk6FIcasbhdFp6/bee0HYNqu5FVx2O4HMI+kuSd9Jur1AACL4xpPUr6NTCl0af5C0vgVgs36VPS8TMAETaF0CeMrInCVurtWNwuh4AKmVSY3DZjULwGwKwLElPSHpWEl7S3o0TwDyvvK+pIUkvdKxcPn7i5L42UcFi9kewGb9dnteJmACJtAiBOia0auXdPDBLTLhMtOkqPVf/0qrtea+FwvAbArAQyThAdxS0oMFAnBdSddKmrhg6f4siXezOy0Am/tL7dmZgAmYQKsROOooadgw6YorWm3mY86XAtD09H333ea+FwvA9hGAl0raWtKfHdu2hSvvIUnUWV9E0q0d//2miADcQtKJkmYoOMGnkgZIutoCsLm/1J6dCZiACbQagRtukAYNCv2ky9mdd1K/LnTZaNbewdzLSSdJTz3V3J+CBWD7CEA8duXyp36V9JOk5yQd1iECWZ32ADb3d9SzMwETMIG2JzB0qLT00tI330jjjFP8dvGoLbZYKBpNgeXdSE1sQqOu4T33SHfc0YSTy5uSBWD7CMAkK21WSTilv8zzEnaXhDjk3xfsiPN7T9LCeTGA/P15SYwvGgPYv39/jU/ak6S+ffuO+mMzARMwARMwgSQEfvtNmnpqiZqAiLxCI1N4ySWlpZaS+vSRdtkl1A2cuDBYKcnFuviYww+XPvhAuuSSLr5QDacfMmSI+IONHDlSZ6NWJXTAtzWcruWHZKkMDPdauLV7oyQc1cdL+qzj0+S9hSzgzTuE4jWSCGfdoMin7SSQlv8K+AZMwARMoPEE1ltPWvb/2jsXcFvHao//knCccqkjkXucJLl0epKEytGuk0S5PrknEal2EYpIqKPkWuQgcqvcpQ7tRBfJRjlEUmm7E7kLlc7z39+32rO551rz8s4991pr/sbz7Kfd9o53ft/vG99a//m+7xjjTbDXXrNfy9VXZ3EB7r23yqxNkkUSRz6SYmbjzD70oaqszefzW3UcmyuAw7UC2CoULwd+0qIO4LFAapjnTGEEYRbbW31DUACO4xfcS5OABCQwUQgcfXRVPDnbp832gQ/AvPPCV79a/ZeMzULWeGwft/nm1Wrlxz8+vskrABWApRGqACwlqL8EJCABCZAOFWutBQ8/XBVSHrGUU1liCfjhD2d11kiyyNvfDg8+CM8bZ/t42aJ+//th29TZGMemAFQAloanArCUoP4SkIAEJEDO+S2+OJx3XrUVPGI5S5cVv1/8YpbYe/ZZWHhh+OUv4ZUpajaObJVV4IgjKoE6nk0BqAAsjU8FYClB/SUgAQlIYCaBrbaqCkJ/JrUqgCSHvPrV1bnAnXf+Z0gRifm3HXYYX/AWW6zaxm6VzDKerlQBqAAsjUcFYClB/SUgAQlIYCaBc86Bj30MbrsNFlgAvv51+Nzn4JZbqvIvjRZR+NhjcMIJ4wde+gDnOmfMgKWXHj/X1epKFIAKwNIIVQCWEtRfAhKQgARmEnjuOVhzzaqTRlb3Vl0V0iUkGb/Ndu658NnPwg03jB94DzxQbWP/+c+VgB3PpgBUAJbGpwKwlKD+EpCABCTwDwIXXVSJvxe9CJZdFr7//dbFoe+5p1plS/HojO3FnnoK/vjH6nP6YUlkSUHrrEyOd1MAKgBLY1QBWEpQfwlIQAIS+AeBJIPkXN/rXge77w7zzDM6nCWXhLReW2ed3gAefnjlf801vfk3eyVTOeI1RarHuykAFYClMaoALCWovwQkIAEJ9ERg3XXhgx9svUXcyYTJ1E33kazYpcB0qX3zm3DkkfCzn5XONOf9FYAKwNIoUwCWEtRfAhKQgAR6IrDddrDSSrD//t27p5TMootWmcYRgY2lZ7qfrfI49li47DLINvZ4NwWgArA0RhWApQT1l4AEJCCBngikXMydd/bWd/fHP4bNNqv6C2cLuVULum4v6oAD4O674aSTuvUc/HgFoAKwNOoUgKUE9ZeABCQggZ4IpEzMqadWXUK6tYMOgl//uso6/vnPIVnFpbbbbrDIInDYYaUzzXl/BaACsDTKFIClBPWXgAQkIIGeCFx5JWy/PfzhD927r7de1a5t5ZVhyy2rlbvStnLvfW+1mjh1avfXM2gPBaACsDTmFIClBPWXgAQkIIGeCNxxByy/PDz99OyFosea8JlnqtIxN98MySROW7nf/ra8HExE5S679J6U0hOEHp0UgArAHkPnH24KwFKC+ktAAhKQQE8E0nkj2bvZyl1hhc6niNhLi7kUbE6ZmbRt++QnYYstOp+j1ci0sUsW8JQpZfMMwlsBqAAsjTMFYClB/SUgAQlIoGcCK65YtYPbYIPOp0jWb8rHRAjGtt4aVl8d9tmn8zlajXzJS2DatOpc4Xg3BaACsDRGFYClBPWXgAQkIIGeCWy4YXWGLwWYO7VTToHTT6/Kv8T23hvSFSRlXHq1lJNJH+BkJS+1VK+zDM5PAagALI02BWApQf0lIAEJSKBnAjlzt9hicMghnU9x4IEwYwZECMaOProSgxde2PkczSPvuw+WWKI6jzj//L3PMyhPBaACsDTWFIClBPWXgAQkIIGeCaTkyo03wplndj7FTjvBMstAhGDs/PPhc5+D667rfI7mkbmGFJN+9NHe5xikpwJQAVgabwrAUoL6S0ACEpBAzwTOPhuOOqq79ms5L/i+90GEYGz6dNhoI7j//p4vY+YKYuO5wt5nGoynAlABWBppCsBSgvpLQAISkEDPBK6+GjbdFO69t/Mp0j7u+ONnJY7EN+VgSrZvI0SzlXzVVZ1fx9wcqQBUAJbGnwKwlKD+EpCABCTQM4ER8ZaSLgss0H6a556rSsfcdFPVRziWf8u5vVtv7a6cTOOn9eMcYfur798IBaACsDSaFIClBPWXgAQkIIGeCYwIul/9ClISpp2NJGs0C8blloPTToMUc+7F9t8fMveJJ/biPXgfBaACsDTqFIClBPWXgAQkIIEiAt3UAkzf33e/uxJrjbbuurDrrtXZwF4s5/9SB/DQQ3vxHryPAlABWBp1CsBSgvpLQAISkEARgbe+terru+OO7af59rfhi1+ECMFGSzHoNdaoOoL0Yu95T7V6+NGP9uI9eB8FoAKwNOoUgKUE9ZeABCQggSICEX7LLjurrMtYk42IvwjBRttrryoJ5JhjeruUlIDZbbfeVxB7+9TevRSACsDeo6fyVACWEtRfAhKQgASKCHzmM1UHjpNPbj/NnnvCfPNVq4CNliSOyy+HCy5oP0erEa98ZSUe3/a23vwH7aUAVACWxpwCsJSg/hKQgAQkUEQgwu+MM2a1dhtrspz/Sx3ACMFGO++86vzetdf2dikvfnElILONPBFMAagALI1TBWApQf0lIAEJSKCIwLRp1fbrbbe1n2bNNaut4gjBRrvmGth449mTQ9rPCH/5S7WqeNdd8PKXd+Ix98coABWApVGoACwlqL8EJCABCRQRiPBbdVVIaZd55hl7qqzUpWtHhGCjlRSDHvF95plKCE4EUwAqAEvjVAFYSlB/CUhAAhIoIpDkjRR3jhB72ctGn+rxx2GhheChhyBCsNFSTzCFpG+5BV7xiu4u54YbYP314ZFHuvObm6MVgArA0vhTAJYS1F8CEpCABIoJRPhdeCGstdboU6VY9BveAI89Bs973uzjIvxSyDllZbqxyy6DD3+46iQyUUwBqAAsjVUFYClB/SUgAQlIoJjA618PKeWy+eajT/Xd71ZjIgRbWYTfdtvBDjt0dznf+EYlHH/0o+785uZoBaACsDT+FIClBPWXgAQkIIFiAhF+Wf37xCdGn+r44+GiiyBCsJVF+C2/PKSsTDd2+OEwfTp861vdeM3dsQpABWBpBCoASwnqLwEJSEACxQSyspckkGOPHX2qffeFhx+GCMFWFuGXTN6TTuruciI6kwDSaxHp7j6tP6MVgMMpAJOk/gXg7UDylWYAWwM31WG1CHAc8E7gOeASYA/g0RZhpwDsz7voLBKQgAQkUEDgK1+BSy6p/oxm6fObbOEIwVYW4XfWWZCyMt1Y2tClEPSnP92N19wdqwAcPgG4KHA9kCY4aVmdnKXkO0XcPViHY16fFwBbUvH5JvAksIkCcO6+sH66BCQgAQm0JvC978HHPw433zw6oXbt2iL8PvQh+M1vuqOc7h9bbAE779yd39wcrQAcPgF4MDAFeP0ogbcM8AdgtYYVwfz9l0D+211Nfq4Azs032M+WgAQkIIGZBH7966q231NPtc7wzZhlloEzz4QIwVYW4bfaatUc7eoJNvrH55BD4F3vmjgPQwE4fALwZ/WWb7Z+1wceAM4ADgH+DmwMnA0s2BTGTwObAd9RAE6cF9wrlYAEJDAsBEZqAd5zDyyxxOx3nW4dqfN3++2VEGxlOUO44IJVN5DFF++cXMZefDEkE3mimAJw8gjAU4DtaxHXoroRVwCpbJRGOcsD2wLJV3p1LeqOAQ4Htqn/t/n1uQ+YCpypAJwor7fXKQEJSGC4CCy5JJxzDrzxjbPf94wZVYHnCMV55x2dS7di7m9/q7p/jCUsx+NTUABOHgGYFbsFxgiyvwCPA9cBzwJrN4zdB0hXxPxbTyuAu+++O/PV/W+mTJlC/mgSkIAEJCCBQRJYZ53qDF+SPZotNfqSrBEhOJZlFW/vvWGz7HnVli4hyfJNt5Fmy2phVhyzepgVxvFsl156KfkTe/bZZznuuOR7sjDw2Hi+7jl1ba1Wy+bUZ42HeU+sV/0avx81CsAsjN8OrN5wBjB/T+LIsp4BHA+P0GuQgAQkIIFWBLbZBlZeuXU27qmnwsknw5VXjs0uwm/ttauEkhFLl4/f/a51/cCJ2AYu9+UK4ORZAez0p8FrgauA7YBzgFfVZV6OBPIndnGdBZzvUBHIZwFPAJu2+BCTQDol7zgJSEACEpijBA44AO6+u3Udv9QJfPJJSLmYsSzC769/haOOqkZla3eVVSBbvUkSWW65f/aeiG3gFIDVMxy2FcDcc+r7HVafBczZvq/V5/5Gojp1AFNKc6P6TGEEYeoAtloiVgDO0R9nTi4BCUhAAp0SOOUUSFu2yy+f3eMd76iydLNFPJZlV/S88+AHP6hG7bRTJf4eeQTWWAMOOuifvU87rRKc7VYWO72HQY1zBXA4BWA/40sB2E+aziUBCUhAAj0TuOIK2HHHatWu2ZZeGs44A9Zbb+zps4KYdnDZ8k05mIi+m26q+gfvsUc19/OfP2uOidgGLlevAFQA9vyi1Y4KwFKC+ktAAhKQQF8IJMFjhRWqTN8XpJ1BbVm9W3RRePBBeMlL2n/URhtVJV1uuQUWWghOOKHaFh4RkW9NTY3aJmIbOAVg9fCGcQu4ffR3PkIB2DkrR0pAAhKQwBwkkK3aZOqmG8iKK876oJ/+FDbfHFIjsBM7/3zYZRd44onq3F+EXyxJJpn3wANnzZJ/e9Wr4FOf6mTm8TPGFUAFYGk0KgBLCeovAQlIQAJ9I5AM3l13he1TGbe2rOCdey4kYaMTS9HopZaCrbaalQwSv5wPvOgiqCupzJxqww1hyy0nVhu4XLcCUAHYybsw1hgFYClB/SUgAQlIoG8EshJ3112Qsi8jljIu2RI+4ojOPyat5dIxJJ1BRuz66yHbv3/606xWca95DRx66MRqA6cArJ6oW8Cdvw+tRioAy/jpLQEJSEACfSSQ7N0ddoA77pjVE/gtb6mKQCejt8SyMrjwwnDttVVpmJw1zBnBnBVMl5GJZK4AKgBL41UBWEpQfwlIQAIS6BuBdORYZJEqc3ellSBdPF760qqIcz969a6/frW9HDF51VWwySZw//2zxGbfbmQOT6QAVACWhpgCsJSg/hKQgAQk0FcCWfHLubycBczZvz33hN//Huafv/xj9tkHHnoITjwRvvSlqv5fzgVONFMAKgBLY1YBWEpQfwlIQAIS6CuBgw+G6dMh2byrrVbV79ttt/58xAUXVK3mssKYzOLXvhb23bc/cw9yFgWgArA03hSApQT1l4AEJCCBvhK47TZ485ur83rZEr71Vphvvv58RBJAkhwybRqkb/Dpp1efNdFMAagALI1ZBWApQf0lIAEJSKDvBFL8OfX6Ntig/xm6++1XnSm88UZ49FF44Qv7fvlzfEIFoAKwNMgUgKUE9ZeABCQggQlF4OGHq3Zx+fOLX0yoS//HxSoAFYClkasALCWovwQkIAEJTDgCKS795JMwdeqEu/SZF6wAVACWRq4CsJSg/hKQgAQkIIEBE1AAKgBLQ04BWEpQfwlIQAISkMCACSgAFYClIacALCWovwQkIAEJSGDABBSACsDSkFMAlhLUXwISkIAEJDBgAgpABWBpyCkASwnqLwEJSEACEhgwAQWgArA05BSApQT1l4AEJCABCQyYgAJQAVgacgrAUoL6S0ACEpCABAZMQAGoACwNOQVgKUH9JSABCUhAAgMmoABUAJaGnAKwlKD+EpCABCQggQETUAAqAEtDTgFYSlB/CUhAAhKQwIAJKAAVgKUhpwAsJai/BCQgAQlIYMAEFIAKwNKQUwCWEtRfAhKQgAQkMGACCkAFYGnIKQBLCeovAQlIQAISGDABBaACsDTkFIClBPWXgAQkIAEJDJiAAlABWBpyCsBSgvpLQAISkIAEBkxAAagALA05BWApQf0lIAEJSEACAyagAFQAloacArCUoP4SkIAEJCCBARNQACoAS0NOAVhKUH8JSEACEpDAgAkoABWApSGnACwlqL8EJCABCUhgwAQUgArA0pBTAJYS1F8CEpCABCQwYAIKQAVgacgpAEsJ6i8BCUhAAhIYMAEF4PAJwHmAg4H3AYsC9wBfBr7WEHuLAMcB7wSeAy4B9gAebRGfCsABv7R+nAQkIAEJSKCUgAJw+ATgh4FPA28BbgbWA/4X2BiYVgdUBN8LgC2p+HwTeBLYRAFY+sqN7X/ppZcyZcqUOfshQzC7HPv3kGUpy/4R6M9MxmR/OCoAh08AHgksDby3IYSmA98CDgeWBW4HVgNuqsfk778ElgHuago9VwD78y7OnGXq1KkcccQRfZxxOKeSY/+euyxl2T8C/ZnJmKWH4/AAAAhkSURBVOwPRwXg8AnAVeoVvW2BG4C31uIvK4G/qlcCzwYWbAqxp4HNgO8oAPvz8rWaxR9s/WErx/5w9EtJ/zjKsn8sfb/7w1IBOHkE4CnA9sDf623b5gi5ohZ7/wIcAuxZn+/LGb+PAsfXDtvUK4FLNE1wXxaogDNbCcA777yThRbKYqBWQmC//fbj0EMPLZlCX0CO/QsDWcqyfwT6M5Mx2R+OEYBLL50NQRYGHuvPrBNrlpxxmwyWFbsFxriRvwCPAxGKqwJb1Fu9+fuFwBfqRJCcBexmBfDlLbaFJwNP70ECEpCABCQwDASWAu4ehhttvsfJIgA7fXb/B5wEHNXg8CVg5TrrN+f8cgZw9YYzgPn79fX5wOYzgOG3ZC0uO70Gx0lAAhKQgAQkMPcJvKiuBpLdw6GzYROAKe/yH/UK4B3Aq4CLgTOAz9RPP/8/WcApFRM+ZwFPAJsOXXR4wxKQgAQkIAEJTEoCwyYAs1X8+bqkS+r9PQSck2NTQLaJY/n3Y4GN6jOFEYSpAziUZwQmZdR7UxKQgAQkIIEhJzBsAnDIH7e3LwEJSEACEpCABCZPFvDcepYHATsDSQG+Dti9Liczt65nvH9uttn3B56qt9dz7iIrrNluj6Xm4jH1Nv0jwIlAGGtVYfLEV86kvrA+ppAs9hHrhJ3xWtFqxzJcU/rprw1xunbTuy1LOKw+O536qTkmcyWwd1NinHHZ2U+vTlgal+1ZHgBsB/wb8Gz9e3mfuuybPyub+LkC2D6gRhuxV701/A7gd/UZwgTev9cCp/eZJ69nBOAGdQeW5ruMqPkNcDLw2Zrj94AvNiXtTF46Y9/ZhsCL6xqV/9MkADthZ7zO4jsWy4zKL9rE6Q9HeSSyrMCkpFaO0NxYx+VXgdRaXbPmZlx2/tOqHUvjsjOWKwEP1K1b561LvuVLSUq7ZcHBmGzgqADsLKhajfo9kLYVOS8Ye36dTZR6gUkq0WYnMJYATB3HlONJVvXIylbqNaZ9X15qrSKwPnB5kwDshJ3xOnsEtWI58ov2P2vOvvudv3kjFRPyRSW9043Lztk1j2xmaVx2z3J+YDcglT5eWp/5NyYVgN1HUpNHtnyzRZltoZ83/LdL62/Dnyj+hMk5QQRg2GQLOH+uAj4F/KEW08nKzorqiIXvT+pCndli0loLwHwRGYvdPMZry9AZSwCm+HuqAcyoC8Vn1TXmuz/6W5iVll2BFeohxmXvP7GaWY4IQOOyPdP/qhdhUuA5iwlfBrJqHzMmFYDtI6jNiBSOHCkjc2vD2BSRTrbwLsWfMDknyPZQCnLfWS/Jp//yWvW5tqOBfwW2brj11GdMi76Ua79nciLp+q5aiZaIk7HYRQAar7OjHk0AvqX+cvI3INvFWdHfFzgB8N1vHbJZMT0feA/w/XqIcdn16z3ToRXL/Ltx2R3PVPTIil/q955rTM4Ozy3g7gJqZLSrAL1xa/aar94qeheQb22uALbn2kq0+K22PbdWI0YTgM1jc7D8bcCbXAFsCTols75R/7K9qGGEcdl9XI7GstVMxmV7vtE4DwPr1rtzxqQrgO2jpoMRrc5U3Qt8zDOAHdCrhowIwLTgyyHd/246A/iROtHGM4CzkLYSLUk+asfOeO18BbCVAJwCrFP/B1nOIpQM/pyD3hyY1gTOuOz4R+HMgWOxHE0AGpdjM04iSM6jbgucV2cI+7OyZuYKYHcvaOPonGVLgeh3AvmFkG9j2wCvNAt4VKj5JZEEhhTgXhzIFnBWVV5Tl9vIdnqygJMRF9F3SX2At7F1X+9PbGJ7Zhs3Z9IiAJMdnRZG2aJMqYNs/7ZjZ7zOev5jsVyjjsVkto5kA6cbUN7vdBKKybLikJ9/ydjPCv5PW7xeybg0Ljv7udOOZTKr8/vauBybZxIHcxQrmcCL1b9LNqt3l+6vs4CNSQVgZ29lm1EHAh+sfxlfax3AtkwvBN5QC5Ysy/+orgsYAR1bFfhKXQcw39pSVuLgtrMOx4CcZTmlLmWQO84vg5Q1yLmgcOyEnfFaxcpYLHO8IysEOeuXOoBJAklMpiZlo8myEsjpoPRMw++TxGQSuUYEoXHZ2c+ndiyzNWxctmeZurKvq4VezuNPr7+kXN/gakwqANtHkiMkIAEJSEACEpDAZCTgFvBkfKrekwQkIAEJSEACEhiDgALQ8JCABCQgAQlIQAJDRkABOGQP3NuVgAQkIAEJSEACCkBjQAISkIAEJCABCQwZAQXgkD1wb1cCEpCABCQgAQkoAI0BCUhAAhKQgAQkMGQEFIBD9sC9XQlIQAISkIAEJKAANAYkIAEJSEACEpDAkBFQAA7ZA/d2JSABCUhAAhKQgALQGJCABCQgAQlIQAJDRkABOGQP3NuVgAQkIAEJSEACCkBjQAISkIAEJCABCQwZAQXgkD1wb1cCEpCABCQgAQkoAI0BCUhAAhKQgAQkMGQEFIBD9sC9XQlIQAISkIAEJKAANAYkIAEJSEACEpDAkBFQAA7ZA/d2JSABCUhAAhKQgALQGJCABCQgAQlIQAJDRkABOGQP3NuVgAQkIAEJSEACCkBjQAISkIAEJCABCQwZAQXgkD1wb1cCEpCABCQgAQkoAI0BCUhAAhKQgAQkMGQEFIBD9sC9XQlIQAISkIAEJKAANAYkIAEJSEACEpDAkBFQAA7ZA/d2JSABCUhAAhKQgALQGJCABCQgAQlIQAJDRkABOGQP3NuVgAQkIAEJSEACCkBjQAISkIAEJCABCQwZAQXgkD1wb1cCEpCABCQgAQkoAI0BCUhAAhKQgAQkMGQEFIBD9sC9XQlIQAISkIAEJKAANAYkIAEJSEACEpDAkBFQAA7ZA/d2JSABCUhAAhKQwP8DwiddhFFX5PEAAAAASUVORK5CYII=\">"
      ],
      "text/plain": [
       "<IPython.core.display.HTML object>"
      ]
     },
     "metadata": {},
     "output_type": "display_data"
    },
    {
     "data": {
      "text/plain": [
       "[<matplotlib.lines.Line2D at 0x22fadc18>]"
      ]
     },
     "execution_count": 36,
     "metadata": {},
     "output_type": "execute_result"
    }
   ],
   "source": [
    "%matplotlib notebook\n",
    "start=467000\n",
    "width=300\n",
    "plt.plot(traces['filtered'][start:start+width]/2)"
   ]
  },
  {
   "cell_type": "code",
   "execution_count": null,
   "metadata": {
    "collapsed": false
   },
   "outputs": [],
   "source": [
    "filtered=traces['filtered'][1100:]\n",
    "filteredL=traces['filteredL'][1100:]"
   ]
  },
  {
   "cell_type": "code",
   "execution_count": null,
   "metadata": {
    "collapsed": false
   },
   "outputs": [],
   "source": [
    "filtered[:10]"
   ]
  },
  {
   "cell_type": "code",
   "execution_count": null,
   "metadata": {
    "collapsed": false
   },
   "outputs": [],
   "source": [
    "filteredL[:10]/4"
   ]
  },
  {
   "cell_type": "code",
   "execution_count": null,
   "metadata": {
    "collapsed": false
   },
   "outputs": [],
   "source": [
    "minmax_dt=np.dtype([('filtered','i4'),('low','i4'),('high','i4'),('clk','i4')])\n",
    "minmax=Data.fromfile('minmax',minmax_dt,'teslib','measurement_subsystem_TB',tool='vivado')\n",
    "fxing_dt=np.dtype([('extrema','i4'),('area','i4'),('clk','i4')])\n",
    "fxing=Data.fromfile('filteredxing',fxing_dt,'teslib','measurement_subsystem_TB',tool='vivado')"
   ]
  },
  {
   "cell_type": "code",
   "execution_count": null,
   "metadata": {
    "collapsed": false
   },
   "outputs": [],
   "source": [
    "minmax"
   ]
  },
  {
   "cell_type": "code",
   "execution_count": null,
   "metadata": {
    "collapsed": false
   },
   "outputs": [],
   "source": [
    "fxing"
   ]
  },
  {
   "cell_type": "code",
   "execution_count": null,
   "metadata": {
    "collapsed": false
   },
   "outputs": [],
   "source": [
    "np.where(fxing['area']==0)"
   ]
  },
  {
   "cell_type": "code",
   "execution_count": null,
   "metadata": {
    "collapsed": false
   },
   "outputs": [],
   "source": [
    "np.where(fxing['extrema']==0)"
   ]
  },
  {
   "cell_type": "code",
   "execution_count": null,
   "metadata": {
    "collapsed": false
   },
   "outputs": [],
   "source": [
    "fxing[30]"
   ]
  },
  {
   "cell_type": "code",
   "execution_count": null,
   "metadata": {
    "collapsed": false
   },
   "outputs": [],
   "source": [
    "exn=np.where(fxing['extrema']<0)\n",
    "clkn=np.where(fxing['clk']>0)"
   ]
  },
  {
   "cell_type": "code",
   "execution_count": null,
   "metadata": {
    "collapsed": true
   },
   "outputs": [],
   "source": []
  },
  {
   "cell_type": "code",
   "execution_count": null,
   "metadata": {
    "collapsed": false
   },
   "outputs": [],
   "source": [
    "fxing[374]"
   ]
  },
  {
   "cell_type": "code",
   "execution_count": null,
   "metadata": {
    "collapsed": false
   },
   "outputs": [],
   "source": [
    "clkn"
   ]
  },
  {
   "cell_type": "code",
   "execution_count": null,
   "metadata": {
    "collapsed": false
   },
   "outputs": [],
   "source": [
    "np.where(minmax[maxs[0]-1]['min']!=1)"
   ]
  },
  {
   "cell_type": "code",
   "execution_count": null,
   "metadata": {
    "collapsed": false
   },
   "outputs": [],
   "source": [
    "minmax[maxs[0]-1][65]"
   ]
  },
  {
   "cell_type": "code",
   "execution_count": null,
   "metadata": {
    "collapsed": false
   },
   "outputs": [],
   "source": [
    "2290-925"
   ]
  },
  {
   "cell_type": "code",
   "execution_count": null,
   "metadata": {
    "collapsed": false
   },
   "outputs": [],
   "source": [
    "0.375*4"
   ]
  },
  {
   "cell_type": "code",
   "execution_count": null,
   "metadata": {
    "collapsed": false
   },
   "outputs": [],
   "source": [
    "np.where(minmax['clock']==2290)"
   ]
  },
  {
   "cell_type": "code",
   "execution_count": null,
   "metadata": {
    "collapsed": false
   },
   "outputs": [],
   "source": [
    "minmax[120:140]"
   ]
  },
  {
   "cell_type": "code",
   "execution_count": null,
   "metadata": {
    "collapsed": false
   },
   "outputs": [],
   "source": [
    "stream_dt=np.dtype([('data','>i4'),('last','i4')])\n",
    "#stream=np.fromfile('data/stream',stream_dt)"
   ]
  },
  {
   "cell_type": "markdown",
   "metadata": {},
   "source": [
    "### bytestream stuff"
   ]
  },
  {
   "cell_type": "code",
   "execution_count": 37,
   "metadata": {
    "collapsed": false
   },
   "outputs": [],
   "source": [
    "stream_dt=np.dtype([('data','i4'),('last','i4')])\n",
    "stream=Data.fromfile('bytestream',stream_dt,'teslib','measurement_subsystem_TB',tool='vivado')\n",
    "lasts=np.where(stream['last']<=0)[0]+1\n",
    "#data=np.copy(stream['data'])"
   ]
  },
  {
   "cell_type": "code",
   "execution_count": 18,
   "metadata": {
    "collapsed": false
   },
   "outputs": [
    {
     "data": {
      "text/plain": [
       "array([(90, 69), (1, 71), (2, 73), ..., (0, 1000245), (0, 1000247),\n",
       "       (0, 1000249)], \n",
       "      dtype=[('data', '<i4'), ('last', '<i4')])"
      ]
     },
     "execution_count": 18,
     "metadata": {},
     "output_type": "execute_result"
    }
   ],
   "source": [
    "stream"
   ]
  },
  {
   "cell_type": "code",
   "execution_count": null,
   "metadata": {
    "collapsed": true
   },
   "outputs": [],
   "source": []
  },
  {
   "cell_type": "code",
   "execution_count": null,
   "metadata": {
    "collapsed": true
   },
   "outputs": [],
   "source": [
    "stream=np.fromfile('data/bytestream',stream_dt)"
   ]
  },
  {
   "cell_type": "code",
   "execution_count": 38,
   "metadata": {
    "collapsed": false
   },
   "outputs": [],
   "source": [
    "bs=PacketStream(stream)"
   ]
  },
  {
   "cell_type": "code",
   "execution_count": 39,
   "metadata": {
    "collapsed": false
   },
   "outputs": [
    {
     "data": {
      "text/plain": [
       "[ethertype:88B5 length:48 Payload:tick frame:0 protocol:0,\n",
       " ethertype:88B5 length:32 Payload:peak frame:1 protocol:1,\n",
       " ethertype:88B5 length:56 Payload:pulse frame:2 protocol:2,\n",
       " ethertype:0300 length:512 Payload:UNKNOWN frame:0 protocol:1,\n",
       " ethertype:88B5 length:32 Payload:peak frame:4 protocol:4,\n",
       " ethertype:88B5 length:56 Payload:pulse frame:5 protocol:5,\n",
       " ethertype:88B5 length:32 Payload:peak frame:6 protocol:6,\n",
       " ethertype:88B5 length:56 Payload:pulse frame:7 protocol:7,\n",
       " ethertype:88B6 length:1496 Payload:mca frame:8 protocol:0,\n",
       " ethertype:88B5 length:48 Payload:tick frame:9 protocol:8,\n",
       " ethertype:88B6 length:1496 Payload:mca frame:10 protocol:1,\n",
       " ethertype:88B6 length:1496 Payload:mca frame:11 protocol:2,\n",
       " ethertype:88B6 length:1496 Payload:mca frame:12 protocol:3,\n",
       " ethertype:88B6 length:1496 Payload:mca frame:13 protocol:4,\n",
       " ethertype:88B6 length:1496 Payload:mca frame:14 protocol:5,\n",
       " ethertype:88B6 length:1496 Payload:mca frame:15 protocol:6,\n",
       " ethertype:88B6 length:1496 Payload:mca frame:16 protocol:7,\n",
       " ethertype:88B6 length:1496 Payload:mca frame:17 protocol:8,\n",
       " ethertype:88B6 length:1496 Payload:mca frame:18 protocol:9,\n",
       " ethertype:88B6 length:1496 Payload:mca frame:19 protocol:10,\n",
       " ethertype:88B6 length:1496 Payload:mca frame:20 protocol:11,\n",
       " ethertype:88B6 length:1496 Payload:mca frame:21 protocol:12,\n",
       " ethertype:88B6 length:1496 Payload:mca frame:22 protocol:13,\n",
       " ethertype:88B6 length:1496 Payload:mca frame:23 protocol:14,\n",
       " ethertype:88B6 length:1496 Payload:mca frame:24 protocol:15,\n",
       " ethertype:88B6 length:1496 Payload:mca frame:25 protocol:16,\n",
       " ethertype:88B6 length:1496 Payload:mca frame:26 protocol:17,\n",
       " ethertype:88B6 length:1496 Payload:mca frame:27 protocol:18,\n",
       " ethertype:88B6 length:1496 Payload:mca frame:28 protocol:19,\n",
       " ethertype:88B6 length:1496 Payload:mca frame:29 protocol:20,\n",
       " ethertype:88B6 length:1496 Payload:mca frame:30 protocol:21,\n",
       " ethertype:88B6 length:1496 Payload:mca frame:31 protocol:22,\n",
       " ethertype:88B6 length:1496 Payload:mca frame:32 protocol:23,\n",
       " ethertype:88B6 length:1496 Payload:mca frame:33 protocol:24,\n",
       " ethertype:88B6 length:1496 Payload:mca frame:34 protocol:25,\n",
       " ethertype:88B6 length:1496 Payload:mca frame:35 protocol:26,\n",
       " ethertype:88B6 length:1496 Payload:mca frame:36 protocol:27,\n",
       " ethertype:88B6 length:1496 Payload:mca frame:37 protocol:28,\n",
       " ethertype:88B6 length:1496 Payload:mca frame:38 protocol:29,\n",
       " ethertype:88B6 length:1496 Payload:mca frame:39 protocol:30,\n",
       " ethertype:88B6 length:1496 Payload:mca frame:40 protocol:31,\n",
       " ethertype:88B6 length:1496 Payload:mca frame:41 protocol:32,\n",
       " ethertype:88B5 length:48 Payload:tick frame:42 protocol:9,\n",
       " ethertype:88B6 length:1496 Payload:mca frame:43 protocol:33,\n",
       " ethertype:88B6 length:1496 Payload:mca frame:44 protocol:34,\n",
       " ethertype:88B6 length:1496 Payload:mca frame:45 protocol:35,\n",
       " ethertype:88B6 length:1496 Payload:mca frame:46 protocol:36,\n",
       " ethertype:88B6 length:1496 Payload:mca frame:47 protocol:37,\n",
       " ethertype:88B6 length:1496 Payload:mca frame:48 protocol:38,\n",
       " ethertype:88B6 length:1496 Payload:mca frame:49 protocol:39,\n",
       " ethertype:88B6 length:1496 Payload:mca frame:50 protocol:40,\n",
       " ethertype:88B6 length:1496 Payload:mca frame:51 protocol:41,\n",
       " ethertype:88B6 length:1496 Payload:mca frame:52 protocol:42,\n",
       " ethertype:88B6 length:1496 Payload:mca frame:53 protocol:43,\n",
       " ethertype:88B6 length:832 Payload:mca frame:54 protocol:44,\n",
       " ethertype:88B5 length:32 Payload:peak frame:55 protocol:10,\n",
       " ethertype:88B5 length:56 Payload:pulse frame:56 protocol:11,\n",
       " ethertype:88B6 length:1496 Payload:mca frame:57 protocol:0,\n",
       " ethertype:88B6 length:1496 Payload:mca frame:58 protocol:1,\n",
       " ethertype:88B6 length:1496 Payload:mca frame:59 protocol:2,\n",
       " ethertype:88B5 length:48 Payload:tick frame:60 protocol:12,\n",
       " ethertype:88B6 length:1496 Payload:mca frame:61 protocol:3,\n",
       " ethertype:88B6 length:1496 Payload:mca frame:62 protocol:4,\n",
       " ethertype:88B6 length:1496 Payload:mca frame:63 protocol:5,\n",
       " ethertype:88B6 length:1496 Payload:mca frame:64 protocol:6,\n",
       " ethertype:88B6 length:1496 Payload:mca frame:65 protocol:7,\n",
       " ethertype:88B6 length:1496 Payload:mca frame:66 protocol:8,\n",
       " ethertype:88B6 length:1496 Payload:mca frame:67 protocol:9,\n",
       " ethertype:88B6 length:1496 Payload:mca frame:68 protocol:10,\n",
       " ethertype:88B6 length:1496 Payload:mca frame:69 protocol:11,\n",
       " ethertype:88B6 length:1496 Payload:mca frame:70 protocol:12,\n",
       " ethertype:88B6 length:1496 Payload:mca frame:71 protocol:13,\n",
       " ethertype:88B6 length:1496 Payload:mca frame:72 protocol:14,\n",
       " ethertype:88B6 length:1496 Payload:mca frame:73 protocol:15,\n",
       " ethertype:88B6 length:1496 Payload:mca frame:74 protocol:16,\n",
       " ethertype:88B6 length:1496 Payload:mca frame:75 protocol:17,\n",
       " ethertype:88B6 length:1496 Payload:mca frame:76 protocol:18,\n",
       " ethertype:88B6 length:1496 Payload:mca frame:77 protocol:19,\n",
       " ethertype:88B6 length:1496 Payload:mca frame:78 protocol:20,\n",
       " ethertype:88B6 length:1496 Payload:mca frame:79 protocol:21,\n",
       " ethertype:88B6 length:1496 Payload:mca frame:80 protocol:22,\n",
       " ethertype:88B6 length:1496 Payload:mca frame:81 protocol:23,\n",
       " ethertype:88B6 length:1496 Payload:mca frame:82 protocol:24,\n",
       " ethertype:88B6 length:1496 Payload:mca frame:83 protocol:25,\n",
       " ethertype:88B6 length:1496 Payload:mca frame:84 protocol:26,\n",
       " ethertype:88B6 length:1496 Payload:mca frame:85 protocol:27,\n",
       " ethertype:88B6 length:1496 Payload:mca frame:86 protocol:28,\n",
       " ethertype:88B6 length:1496 Payload:mca frame:87 protocol:29,\n",
       " ethertype:88B6 length:1496 Payload:mca frame:88 protocol:30,\n",
       " ethertype:88B6 length:1496 Payload:mca frame:89 protocol:31,\n",
       " ethertype:88B6 length:1496 Payload:mca frame:90 protocol:32,\n",
       " ethertype:88B5 length:32 Payload:peak frame:91 protocol:13,\n",
       " ethertype:88B5 length:56 Payload:pulse frame:92 protocol:14,\n",
       " ethertype:88B5 length:48 Payload:tick frame:93 protocol:15,\n",
       " ethertype:88B6 length:1496 Payload:mca frame:94 protocol:33,\n",
       " ethertype:88B6 length:1496 Payload:mca frame:95 protocol:34,\n",
       " ethertype:88B6 length:1496 Payload:mca frame:96 protocol:35,\n",
       " ethertype:88B6 length:1496 Payload:mca frame:97 protocol:36,\n",
       " ethertype:88B6 length:1496 Payload:mca frame:98 protocol:37,\n",
       " ethertype:88B6 length:1496 Payload:mca frame:99 protocol:38,\n",
       " ethertype:88B6 length:1496 Payload:mca frame:100 protocol:39,\n",
       " ethertype:88B6 length:1496 Payload:mca frame:101 protocol:40,\n",
       " ethertype:88B6 length:1496 Payload:mca frame:102 protocol:41,\n",
       " ethertype:88B6 length:1496 Payload:mca frame:103 protocol:42,\n",
       " ethertype:88B6 length:1496 Payload:mca frame:104 protocol:43,\n",
       " ethertype:88B6 length:832 Payload:mca frame:105 protocol:44,\n",
       " ethertype:88B5 length:32 Payload:peak frame:106 protocol:16,\n",
       " ethertype:88B5 length:56 Payload:pulse frame:107 protocol:17,\n",
       " ethertype:88B5 length:32 Payload:peak frame:108 protocol:18,\n",
       " ethertype:88B5 length:56 Payload:pulse frame:109 protocol:19,\n",
       " ethertype:88B6 length:1496 Payload:mca frame:110 protocol:0,\n",
       " ethertype:88B6 length:1496 Payload:mca frame:111 protocol:1,\n",
       " ethertype:88B6 length:1496 Payload:mca frame:112 protocol:2,\n",
       " ethertype:88B6 length:1496 Payload:mca frame:113 protocol:3,\n",
       " ethertype:88B6 length:1496 Payload:mca frame:114 protocol:4,\n",
       " ethertype:88B6 length:1496 Payload:mca frame:115 protocol:5,\n",
       " ethertype:88B6 length:1496 Payload:mca frame:116 protocol:6,\n",
       " ethertype:88B6 length:1496 Payload:mca frame:117 protocol:7,\n",
       " ethertype:88B6 length:1496 Payload:mca frame:118 protocol:8,\n",
       " ethertype:88B6 length:1496 Payload:mca frame:119 protocol:9,\n",
       " ethertype:88B6 length:1496 Payload:mca frame:120 protocol:10,\n",
       " ethertype:88B5 length:48 Payload:tick frame:121 protocol:20,\n",
       " ethertype:88B6 length:1496 Payload:mca frame:122 protocol:11,\n",
       " ethertype:88B6 length:1496 Payload:mca frame:123 protocol:12,\n",
       " ethertype:88B6 length:1496 Payload:mca frame:124 protocol:13,\n",
       " ethertype:88B6 length:1496 Payload:mca frame:125 protocol:14,\n",
       " ethertype:88B6 length:1496 Payload:mca frame:126 protocol:15,\n",
       " ethertype:88B6 length:1496 Payload:mca frame:127 protocol:16,\n",
       " ethertype:88B6 length:1496 Payload:mca frame:128 protocol:17,\n",
       " ethertype:88B6 length:1496 Payload:mca frame:129 protocol:18,\n",
       " ethertype:88B6 length:1496 Payload:mca frame:130 protocol:19,\n",
       " ethertype:88B6 length:1496 Payload:mca frame:131 protocol:20,\n",
       " ethertype:88B6 length:1496 Payload:mca frame:132 protocol:21,\n",
       " ethertype:88B6 length:1496 Payload:mca frame:133 protocol:22,\n",
       " ethertype:88B6 length:1496 Payload:mca frame:134 protocol:23,\n",
       " ethertype:88B6 length:1496 Payload:mca frame:135 protocol:24,\n",
       " ethertype:88B6 length:1496 Payload:mca frame:136 protocol:25,\n",
       " ethertype:88B6 length:1496 Payload:mca frame:137 protocol:26,\n",
       " ethertype:88B6 length:1496 Payload:mca frame:138 protocol:27,\n",
       " ethertype:88B6 length:1496 Payload:mca frame:139 protocol:28,\n",
       " ethertype:88B6 length:1496 Payload:mca frame:140 protocol:29,\n",
       " ethertype:88B6 length:1496 Payload:mca frame:141 protocol:30,\n",
       " ethertype:88B6 length:1496 Payload:mca frame:142 protocol:31,\n",
       " ethertype:88B6 length:1496 Payload:mca frame:143 protocol:32,\n",
       " ethertype:88B5 length:48 Payload:tick frame:144 protocol:21]"
      ]
     },
     "execution_count": 39,
     "metadata": {},
     "output_type": "execute_result"
    }
   ],
   "source": [
    "bs.packets"
   ]
  },
  {
   "cell_type": "code",
   "execution_count": null,
   "metadata": {
    "collapsed": false
   },
   "outputs": [],
   "source": [
    "bs.packets[4]"
   ]
  },
  {
   "cell_type": "code",
   "execution_count": null,
   "metadata": {
    "collapsed": true
   },
   "outputs": [],
   "source": [
    "eheader_dt=[('etype','<u2'),('length','u2'),()]"
   ]
  },
  {
   "cell_type": "code",
   "execution_count": null,
   "metadata": {
    "collapsed": false
   },
   "outputs": [],
   "source": [
    "'{:X}'.format(bs.packets[1].bytes[23])\n"
   ]
  },
  {
   "cell_type": "code",
   "execution_count": null,
   "metadata": {
    "collapsed": false
   },
   "outputs": [],
   "source": [
    "'{:X}'.format(bs.packets[0].bytes[28:30].view(np.uint16)[0])"
   ]
  },
  {
   "cell_type": "code",
   "execution_count": 6,
   "metadata": {
    "collapsed": true
   },
   "outputs": [],
   "source": [
    "pulse_peak_dt=np.dtype([('height','i2'),('rise','i2'),('minima','u2'),('time','i2')])\n",
    "pulse_dt=np.dtype([('size','i2'),('resv','i2'),('flags','i2'),('time','u2'),\n",
    "                  ('area','i4'),('length','i2'),('offset','i2'),('peaks',(pulse_peak_dt,2))])"
   ]
  },
  {
   "cell_type": "code",
   "execution_count": 7,
   "metadata": {
    "collapsed": false
   },
   "outputs": [],
   "source": [
    "pulses=bs.packets[3].payload.view(pulse_dt)"
   ]
  },
  {
   "cell_type": "code",
   "execution_count": 8,
   "metadata": {
    "collapsed": false
   },
   "outputs": [
    {
     "data": {
      "text/plain": [
       "array([[(1746, 47, 50, 30), (2626, 70, 1186, 253)]], \n",
       "      dtype=[('height', '<i2'), ('rise', '<i2'), ('minima', '<u2'), ('time', '<i2')])"
      ]
     },
     "execution_count": 8,
     "metadata": {},
     "output_type": "execute_result"
    }
   ],
   "source": [
    "pulses['peaks']"
   ]
  },
  {
   "cell_type": "code",
   "execution_count": 9,
   "metadata": {
    "collapsed": false
   },
   "outputs": [
    {
     "data": {
      "text/plain": [
       "array([30], dtype=int16)"
      ]
     },
     "execution_count": 9,
     "metadata": {},
     "output_type": "execute_result"
    }
   ],
   "source": [
    "pulses['offset']"
   ]
  },
  {
   "cell_type": "code",
   "execution_count": 10,
   "metadata": {
    "collapsed": false
   },
   "outputs": [
    {
     "data": {
      "text/plain": [
       "array([648], dtype=int16)"
      ]
     },
     "execution_count": 10,
     "metadata": {},
     "output_type": "execute_result"
    }
   ],
   "source": [
    "pulses['length']"
   ]
  },
  {
   "cell_type": "code",
   "execution_count": null,
   "metadata": {
    "collapsed": false
   },
   "outputs": [],
   "source": [
    "class eflags:\n",
    "    def __init__(self,uint16):\n",
    "        self.new_window=np.bitwise_and(uint16,0x00000001)!=0\n",
    "        self.tick=np.bitwise_and(uint16,0x00000002)!=0\n",
    "        self.type=np.right_shift(np.bitwise_and(uint16,0x0000000c),2)\n",
    "        \n",
    "    def __repr__(self):\n",
    "        return 'New window:{:}\\n'.format(self.new_window) + \\\n",
    "               'Tick:{:}\\n'.format(self.tick) + \\\n",
    "               'Type:{:}\\n'.format(self.type) "
   ]
  },
  {
   "cell_type": "code",
   "execution_count": null,
   "metadata": {
    "collapsed": false
   },
   "outputs": [],
   "source": [
    "f=eflags(pulses[0]['flags'])\n",
    "f"
   ]
  },
  {
   "cell_type": "code",
   "execution_count": null,
   "metadata": {
    "collapsed": false
   },
   "outputs": [],
   "source": [
    "'{:X}'.format(bs.packets[3].bytes[13:14].view(np.uint16))"
   ]
  },
  {
   "cell_type": "code",
   "execution_count": null,
   "metadata": {
    "collapsed": true
   },
   "outputs": [],
   "source": []
  },
  {
   "cell_type": "code",
   "execution_count": null,
   "metadata": {
    "collapsed": false
   },
   "outputs": [],
   "source": [
    "'{:X}'.format(bs.packets[3].bytes[14:16].view(np.uint16)[0])"
   ]
  },
  {
   "cell_type": "code",
   "execution_count": null,
   "metadata": {
    "collapsed": false
   },
   "outputs": [],
   "source": [
    "bs.packets[3].bytes[14:16].view(np.uint16)[0]"
   ]
  },
  {
   "cell_type": "code",
   "execution_count": null,
   "metadata": {
    "collapsed": false
   },
   "outputs": [],
   "source": [
    "bs=np.uint8(stream['data'][:48])"
   ]
  },
  {
   "cell_type": "code",
   "execution_count": null,
   "metadata": {
    "collapsed": false
   },
   "outputs": [],
   "source": [
    "bs"
   ]
  },
  {
   "cell_type": "code",
   "execution_count": null,
   "metadata": {
    "collapsed": false
   },
   "outputs": [],
   "source": [
    "events=stream['data'].view(event_dt)"
   ]
  },
  {
   "cell_type": "code",
   "execution_count": null,
   "metadata": {
    "collapsed": false
   },
   "outputs": [],
   "source": [
    "'{:X}'.format(events['flags'][0])"
   ]
  },
  {
   "cell_type": "code",
   "execution_count": null,
   "metadata": {
    "collapsed": false
   },
   "outputs": [],
   "source": [
    "events['rise']"
   ]
  },
  {
   "cell_type": "code",
   "execution_count": null,
   "metadata": {
    "collapsed": false
   },
   "outputs": [],
   "source": [
    "events"
   ]
  },
  {
   "cell_type": "code",
   "execution_count": null,
   "metadata": {
    "collapsed": false
   },
   "outputs": [],
   "source": [
    "'{:04X}'.format(events['flags'][1])"
   ]
  },
  {
   "cell_type": "code",
   "execution_count": null,
   "metadata": {
    "collapsed": true
   },
   "outputs": [],
   "source": [
    "pulse_peak_dt=np.dtype([('time','>i2'),('minima','>i2'),('rise','>u2'),('height','>i2')])\n",
    "pulse_dt=np.dtype([('time','>i2'),('flags','>i2'),('resv','>i2'),('size','>u2'),\n",
    "                  ('offset','>i2'),('length','>i2'),('area','>i4'),('peaks',(pulse_peak_dt,1))])\n",
    "data=np.copy(stream['data'])"
   ]
  },
  {
   "cell_type": "code",
   "execution_count": null,
   "metadata": {
    "collapsed": false
   },
   "outputs": [],
   "source": [
    "pulses=data.view(pulse_dt)"
   ]
  },
  {
   "cell_type": "code",
   "execution_count": null,
   "metadata": {
    "collapsed": false
   },
   "outputs": [],
   "source": [
    "pulses['peaks']['height']-pulses['peaks']['minima']"
   ]
  },
  {
   "cell_type": "code",
   "execution_count": null,
   "metadata": {
    "collapsed": false
   },
   "outputs": [],
   "source": [
    "pulses['peaks']['minima']"
   ]
  },
  {
   "cell_type": "code",
   "execution_count": null,
   "metadata": {
    "collapsed": false
   },
   "outputs": [],
   "source": [
    "peak_count=np.right_shift(np.bitwise_and(pulses['flags'],0xF000),12)\n",
    "peak_overflow=np.bitwise_and(pulses['flags'],0x0800)!=0\n",
    "channel=np.right_shift(np.bitwise_and(pulses['flags'],0x0700),8)\n",
    "timing_type=np.right_shift(np.bitwise_and(pulses['flags'],0x00C0),6)\n",
    "height_type=np.right_shift(np.bitwise_and(pulses['flags'],0x0030),4)\n",
    "event_type=np.right_shift(np.bitwise_and(pulses['flags'],0x000E),1)\n",
    "new_window=np.bitwise_and(pulses['flags'],0x0001)!=0"
   ]
  },
  {
   "cell_type": "code",
   "execution_count": null,
   "metadata": {
    "collapsed": false
   },
   "outputs": [],
   "source": [
    "peak_overflow"
   ]
  },
  {
   "cell_type": "code",
   "execution_count": null,
   "metadata": {
    "collapsed": true
   },
   "outputs": [],
   "source": [
    "test_dt=np.dtype(\n",
    "    [('time','i2'),('flags','i2'),('rise','u2'),('minima','i2'),('low','u8'),('high','u8')]\n",
    ")\n",
    "test=data.view(test_dt)"
   ]
  },
  {
   "cell_type": "code",
   "execution_count": null,
   "metadata": {
    "collapsed": false
   },
   "outputs": [],
   "source": [
    "test"
   ]
  },
  {
   "cell_type": "code",
   "execution_count": null,
   "metadata": {
    "collapsed": false
   },
   "outputs": [],
   "source": [
    "test['minima']"
   ]
  },
  {
   "cell_type": "code",
   "execution_count": null,
   "metadata": {
    "collapsed": false
   },
   "outputs": [],
   "source": [
    "low1=np.int32(np.right_shift(np.bitwise_and(test['low'],0x03FFFF000000000),36))\n",
    "s=(np.bitwise_and(low1,0x00020000)!=0)*0xFFFC0000\n",
    "low2=np.int32(np.right_shift(np.bitwise_and(test['low'],0x000000FFFFC0000),18))\n",
    "low_threshold=np.int32(np.bitwise_and(test['low'],0x00000000003FFFF))\n",
    "high1=np.int32(np.right_shift(np.bitwise_and(test['high'],0x03FFFF000000000),36))\n",
    "high2=np.int32(np.right_shift(np.bitwise_and(test['high'],0x000000FFFFC0000),18))\n",
    "high_threshold=np.int32(np.bitwise_and(test['high'],0x00000000003FFFF))"
   ]
  },
  {
   "cell_type": "code",
   "execution_count": null,
   "metadata": {
    "collapsed": false
   },
   "outputs": [],
   "source": [
    "np.int32(np.bitwise_or(low1,s))/8.0"
   ]
  },
  {
   "cell_type": "code",
   "execution_count": null,
   "metadata": {
    "collapsed": false
   },
   "outputs": [],
   "source": [
    "'{:04X}'.format(low1[0])"
   ]
  },
  {
   "cell_type": "code",
   "execution_count": null,
   "metadata": {
    "collapsed": false
   },
   "outputs": [],
   "source": [
    "high1/8.0"
   ]
  },
  {
   "cell_type": "code",
   "execution_count": null,
   "metadata": {
    "collapsed": false
   },
   "outputs": [],
   "source": [
    "high2/8.0"
   ]
  },
  {
   "cell_type": "code",
   "execution_count": null,
   "metadata": {
    "collapsed": false
   },
   "outputs": [],
   "source": [
    "'{:04X}'.format(high_threshold[0])"
   ]
  },
  {
   "cell_type": "code",
   "execution_count": null,
   "metadata": {
    "collapsed": true
   },
   "outputs": [],
   "source": []
  }
 ],
 "metadata": {
  "anaconda-cloud": {},
  "kernelspec": {
   "display_name": "Python [default]",
   "language": "python",
   "name": "python3"
  },
  "language_info": {
   "codemirror_mode": {
    "name": "ipython",
    "version": 3
   },
   "file_extension": ".py",
   "mimetype": "text/x-python",
   "name": "python",
   "nbconvert_exporter": "python",
   "pygments_lexer": "ipython3",
   "version": "3.5.2"
  }
 },
 "nbformat": 4,
 "nbformat_minor": 1
}
