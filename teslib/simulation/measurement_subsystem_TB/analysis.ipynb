{
 "cells": [
  {
   "cell_type": "code",
   "execution_count": 1,
   "metadata": {
    "collapsed": false
   },
   "outputs": [],
   "source": [
    "from tes.data import Data\n",
    "import numpy as np\n",
    "import matplotlib.pyplot as plt"
   ]
  },
  {
   "cell_type": "code",
   "execution_count": 2,
   "metadata": {
    "collapsed": false
   },
   "outputs": [],
   "source": [
    "trace_dt=np.dtype([('raw','i4'),('filtered','i4'),('slope','i4')])"
   ]
  },
  {
   "cell_type": "code",
   "execution_count": 89,
   "metadata": {
    "collapsed": true
   },
   "outputs": [],
   "source": [
    "traces=np.fromfile('data/traces',trace_dt)"
   ]
  },
  {
   "cell_type": "code",
   "execution_count": 3,
   "metadata": {
    "collapsed": true
   },
   "outputs": [],
   "source": [
    "traces=Data.fromfile('traces',trace_dt,'teslib','measurement_subsystem_TB',tool='vivado')"
   ]
  },
  {
   "cell_type": "code",
   "execution_count": 12,
   "metadata": {
    "collapsed": false
   },
   "outputs": [
    {
     "data": {
      "application/javascript": [
       "/* Put everything inside the global mpl namespace */\n",
       "window.mpl = {};\n",
       "\n",
       "mpl.get_websocket_type = function() {\n",
       "    if (typeof(WebSocket) !== 'undefined') {\n",
       "        return WebSocket;\n",
       "    } else if (typeof(MozWebSocket) !== 'undefined') {\n",
       "        return MozWebSocket;\n",
       "    } else {\n",
       "        alert('Your browser does not have WebSocket support.' +\n",
       "              'Please try Chrome, Safari or Firefox ≥ 6. ' +\n",
       "              'Firefox 4 and 5 are also supported but you ' +\n",
       "              'have to enable WebSockets in about:config.');\n",
       "    };\n",
       "}\n",
       "\n",
       "mpl.figure = function(figure_id, websocket, ondownload, parent_element) {\n",
       "    this.id = figure_id;\n",
       "\n",
       "    this.ws = websocket;\n",
       "\n",
       "    this.supports_binary = (this.ws.binaryType != undefined);\n",
       "\n",
       "    if (!this.supports_binary) {\n",
       "        var warnings = document.getElementById(\"mpl-warnings\");\n",
       "        if (warnings) {\n",
       "            warnings.style.display = 'block';\n",
       "            warnings.textContent = (\n",
       "                \"This browser does not support binary websocket messages. \" +\n",
       "                    \"Performance may be slow.\");\n",
       "        }\n",
       "    }\n",
       "\n",
       "    this.imageObj = new Image();\n",
       "\n",
       "    this.context = undefined;\n",
       "    this.message = undefined;\n",
       "    this.canvas = undefined;\n",
       "    this.rubberband_canvas = undefined;\n",
       "    this.rubberband_context = undefined;\n",
       "    this.format_dropdown = undefined;\n",
       "\n",
       "    this.image_mode = 'full';\n",
       "\n",
       "    this.root = $('<div/>');\n",
       "    this._root_extra_style(this.root)\n",
       "    this.root.attr('style', 'display: inline-block');\n",
       "\n",
       "    $(parent_element).append(this.root);\n",
       "\n",
       "    this._init_header(this);\n",
       "    this._init_canvas(this);\n",
       "    this._init_toolbar(this);\n",
       "\n",
       "    var fig = this;\n",
       "\n",
       "    this.waiting = false;\n",
       "\n",
       "    this.ws.onopen =  function () {\n",
       "            fig.send_message(\"supports_binary\", {value: fig.supports_binary});\n",
       "            fig.send_message(\"send_image_mode\", {});\n",
       "            fig.send_message(\"refresh\", {});\n",
       "        }\n",
       "\n",
       "    this.imageObj.onload = function() {\n",
       "            if (fig.image_mode == 'full') {\n",
       "                // Full images could contain transparency (where diff images\n",
       "                // almost always do), so we need to clear the canvas so that\n",
       "                // there is no ghosting.\n",
       "                fig.context.clearRect(0, 0, fig.canvas.width, fig.canvas.height);\n",
       "            }\n",
       "            fig.context.drawImage(fig.imageObj, 0, 0);\n",
       "        };\n",
       "\n",
       "    this.imageObj.onunload = function() {\n",
       "        this.ws.close();\n",
       "    }\n",
       "\n",
       "    this.ws.onmessage = this._make_on_message_function(this);\n",
       "\n",
       "    this.ondownload = ondownload;\n",
       "}\n",
       "\n",
       "mpl.figure.prototype._init_header = function() {\n",
       "    var titlebar = $(\n",
       "        '<div class=\"ui-dialog-titlebar ui-widget-header ui-corner-all ' +\n",
       "        'ui-helper-clearfix\"/>');\n",
       "    var titletext = $(\n",
       "        '<div class=\"ui-dialog-title\" style=\"width: 100%; ' +\n",
       "        'text-align: center; padding: 3px;\"/>');\n",
       "    titlebar.append(titletext)\n",
       "    this.root.append(titlebar);\n",
       "    this.header = titletext[0];\n",
       "}\n",
       "\n",
       "\n",
       "\n",
       "mpl.figure.prototype._canvas_extra_style = function(canvas_div) {\n",
       "\n",
       "}\n",
       "\n",
       "\n",
       "mpl.figure.prototype._root_extra_style = function(canvas_div) {\n",
       "\n",
       "}\n",
       "\n",
       "mpl.figure.prototype._init_canvas = function() {\n",
       "    var fig = this;\n",
       "\n",
       "    var canvas_div = $('<div/>');\n",
       "\n",
       "    canvas_div.attr('style', 'position: relative; clear: both; outline: 0');\n",
       "\n",
       "    function canvas_keyboard_event(event) {\n",
       "        return fig.key_event(event, event['data']);\n",
       "    }\n",
       "\n",
       "    canvas_div.keydown('key_press', canvas_keyboard_event);\n",
       "    canvas_div.keyup('key_release', canvas_keyboard_event);\n",
       "    this.canvas_div = canvas_div\n",
       "    this._canvas_extra_style(canvas_div)\n",
       "    this.root.append(canvas_div);\n",
       "\n",
       "    var canvas = $('<canvas/>');\n",
       "    canvas.addClass('mpl-canvas');\n",
       "    canvas.attr('style', \"left: 0; top: 0; z-index: 0; outline: 0\")\n",
       "\n",
       "    this.canvas = canvas[0];\n",
       "    this.context = canvas[0].getContext(\"2d\");\n",
       "\n",
       "    var rubberband = $('<canvas/>');\n",
       "    rubberband.attr('style', \"position: absolute; left: 0; top: 0; z-index: 1;\")\n",
       "\n",
       "    var pass_mouse_events = true;\n",
       "\n",
       "    canvas_div.resizable({\n",
       "        start: function(event, ui) {\n",
       "            pass_mouse_events = false;\n",
       "        },\n",
       "        resize: function(event, ui) {\n",
       "            fig.request_resize(ui.size.width, ui.size.height);\n",
       "        },\n",
       "        stop: function(event, ui) {\n",
       "            pass_mouse_events = true;\n",
       "            fig.request_resize(ui.size.width, ui.size.height);\n",
       "        },\n",
       "    });\n",
       "\n",
       "    function mouse_event_fn(event) {\n",
       "        if (pass_mouse_events)\n",
       "            return fig.mouse_event(event, event['data']);\n",
       "    }\n",
       "\n",
       "    rubberband.mousedown('button_press', mouse_event_fn);\n",
       "    rubberband.mouseup('button_release', mouse_event_fn);\n",
       "    // Throttle sequential mouse events to 1 every 20ms.\n",
       "    rubberband.mousemove('motion_notify', mouse_event_fn);\n",
       "\n",
       "    rubberband.mouseenter('figure_enter', mouse_event_fn);\n",
       "    rubberband.mouseleave('figure_leave', mouse_event_fn);\n",
       "\n",
       "    canvas_div.on(\"wheel\", function (event) {\n",
       "        event = event.originalEvent;\n",
       "        event['data'] = 'scroll'\n",
       "        if (event.deltaY < 0) {\n",
       "            event.step = 1;\n",
       "        } else {\n",
       "            event.step = -1;\n",
       "        }\n",
       "        mouse_event_fn(event);\n",
       "    });\n",
       "\n",
       "    canvas_div.append(canvas);\n",
       "    canvas_div.append(rubberband);\n",
       "\n",
       "    this.rubberband = rubberband;\n",
       "    this.rubberband_canvas = rubberband[0];\n",
       "    this.rubberband_context = rubberband[0].getContext(\"2d\");\n",
       "    this.rubberband_context.strokeStyle = \"#000000\";\n",
       "\n",
       "    this._resize_canvas = function(width, height) {\n",
       "        // Keep the size of the canvas, canvas container, and rubber band\n",
       "        // canvas in synch.\n",
       "        canvas_div.css('width', width)\n",
       "        canvas_div.css('height', height)\n",
       "\n",
       "        canvas.attr('width', width);\n",
       "        canvas.attr('height', height);\n",
       "\n",
       "        rubberband.attr('width', width);\n",
       "        rubberband.attr('height', height);\n",
       "    }\n",
       "\n",
       "    // Set the figure to an initial 600x600px, this will subsequently be updated\n",
       "    // upon first draw.\n",
       "    this._resize_canvas(600, 600);\n",
       "\n",
       "    // Disable right mouse context menu.\n",
       "    $(this.rubberband_canvas).bind(\"contextmenu\",function(e){\n",
       "        return false;\n",
       "    });\n",
       "\n",
       "    function set_focus () {\n",
       "        canvas.focus();\n",
       "        canvas_div.focus();\n",
       "    }\n",
       "\n",
       "    window.setTimeout(set_focus, 100);\n",
       "}\n",
       "\n",
       "mpl.figure.prototype._init_toolbar = function() {\n",
       "    var fig = this;\n",
       "\n",
       "    var nav_element = $('<div/>')\n",
       "    nav_element.attr('style', 'width: 100%');\n",
       "    this.root.append(nav_element);\n",
       "\n",
       "    // Define a callback function for later on.\n",
       "    function toolbar_event(event) {\n",
       "        return fig.toolbar_button_onclick(event['data']);\n",
       "    }\n",
       "    function toolbar_mouse_event(event) {\n",
       "        return fig.toolbar_button_onmouseover(event['data']);\n",
       "    }\n",
       "\n",
       "    for(var toolbar_ind in mpl.toolbar_items) {\n",
       "        var name = mpl.toolbar_items[toolbar_ind][0];\n",
       "        var tooltip = mpl.toolbar_items[toolbar_ind][1];\n",
       "        var image = mpl.toolbar_items[toolbar_ind][2];\n",
       "        var method_name = mpl.toolbar_items[toolbar_ind][3];\n",
       "\n",
       "        if (!name) {\n",
       "            // put a spacer in here.\n",
       "            continue;\n",
       "        }\n",
       "        var button = $('<button/>');\n",
       "        button.addClass('ui-button ui-widget ui-state-default ui-corner-all ' +\n",
       "                        'ui-button-icon-only');\n",
       "        button.attr('role', 'button');\n",
       "        button.attr('aria-disabled', 'false');\n",
       "        button.click(method_name, toolbar_event);\n",
       "        button.mouseover(tooltip, toolbar_mouse_event);\n",
       "\n",
       "        var icon_img = $('<span/>');\n",
       "        icon_img.addClass('ui-button-icon-primary ui-icon');\n",
       "        icon_img.addClass(image);\n",
       "        icon_img.addClass('ui-corner-all');\n",
       "\n",
       "        var tooltip_span = $('<span/>');\n",
       "        tooltip_span.addClass('ui-button-text');\n",
       "        tooltip_span.html(tooltip);\n",
       "\n",
       "        button.append(icon_img);\n",
       "        button.append(tooltip_span);\n",
       "\n",
       "        nav_element.append(button);\n",
       "    }\n",
       "\n",
       "    var fmt_picker_span = $('<span/>');\n",
       "\n",
       "    var fmt_picker = $('<select/>');\n",
       "    fmt_picker.addClass('mpl-toolbar-option ui-widget ui-widget-content');\n",
       "    fmt_picker_span.append(fmt_picker);\n",
       "    nav_element.append(fmt_picker_span);\n",
       "    this.format_dropdown = fmt_picker[0];\n",
       "\n",
       "    for (var ind in mpl.extensions) {\n",
       "        var fmt = mpl.extensions[ind];\n",
       "        var option = $(\n",
       "            '<option/>', {selected: fmt === mpl.default_extension}).html(fmt);\n",
       "        fmt_picker.append(option)\n",
       "    }\n",
       "\n",
       "    // Add hover states to the ui-buttons\n",
       "    $( \".ui-button\" ).hover(\n",
       "        function() { $(this).addClass(\"ui-state-hover\");},\n",
       "        function() { $(this).removeClass(\"ui-state-hover\");}\n",
       "    );\n",
       "\n",
       "    var status_bar = $('<span class=\"mpl-message\"/>');\n",
       "    nav_element.append(status_bar);\n",
       "    this.message = status_bar[0];\n",
       "}\n",
       "\n",
       "mpl.figure.prototype.request_resize = function(x_pixels, y_pixels) {\n",
       "    // Request matplotlib to resize the figure. Matplotlib will then trigger a resize in the client,\n",
       "    // which will in turn request a refresh of the image.\n",
       "    this.send_message('resize', {'width': x_pixels, 'height': y_pixels});\n",
       "}\n",
       "\n",
       "mpl.figure.prototype.send_message = function(type, properties) {\n",
       "    properties['type'] = type;\n",
       "    properties['figure_id'] = this.id;\n",
       "    this.ws.send(JSON.stringify(properties));\n",
       "}\n",
       "\n",
       "mpl.figure.prototype.send_draw_message = function() {\n",
       "    if (!this.waiting) {\n",
       "        this.waiting = true;\n",
       "        this.ws.send(JSON.stringify({type: \"draw\", figure_id: this.id}));\n",
       "    }\n",
       "}\n",
       "\n",
       "\n",
       "mpl.figure.prototype.handle_save = function(fig, msg) {\n",
       "    var format_dropdown = fig.format_dropdown;\n",
       "    var format = format_dropdown.options[format_dropdown.selectedIndex].value;\n",
       "    fig.ondownload(fig, format);\n",
       "}\n",
       "\n",
       "\n",
       "mpl.figure.prototype.handle_resize = function(fig, msg) {\n",
       "    var size = msg['size'];\n",
       "    if (size[0] != fig.canvas.width || size[1] != fig.canvas.height) {\n",
       "        fig._resize_canvas(size[0], size[1]);\n",
       "        fig.send_message(\"refresh\", {});\n",
       "    };\n",
       "}\n",
       "\n",
       "mpl.figure.prototype.handle_rubberband = function(fig, msg) {\n",
       "    var x0 = msg['x0'];\n",
       "    var y0 = fig.canvas.height - msg['y0'];\n",
       "    var x1 = msg['x1'];\n",
       "    var y1 = fig.canvas.height - msg['y1'];\n",
       "    x0 = Math.floor(x0) + 0.5;\n",
       "    y0 = Math.floor(y0) + 0.5;\n",
       "    x1 = Math.floor(x1) + 0.5;\n",
       "    y1 = Math.floor(y1) + 0.5;\n",
       "    var min_x = Math.min(x0, x1);\n",
       "    var min_y = Math.min(y0, y1);\n",
       "    var width = Math.abs(x1 - x0);\n",
       "    var height = Math.abs(y1 - y0);\n",
       "\n",
       "    fig.rubberband_context.clearRect(\n",
       "        0, 0, fig.canvas.width, fig.canvas.height);\n",
       "\n",
       "    fig.rubberband_context.strokeRect(min_x, min_y, width, height);\n",
       "}\n",
       "\n",
       "mpl.figure.prototype.handle_figure_label = function(fig, msg) {\n",
       "    // Updates the figure title.\n",
       "    fig.header.textContent = msg['label'];\n",
       "}\n",
       "\n",
       "mpl.figure.prototype.handle_cursor = function(fig, msg) {\n",
       "    var cursor = msg['cursor'];\n",
       "    switch(cursor)\n",
       "    {\n",
       "    case 0:\n",
       "        cursor = 'pointer';\n",
       "        break;\n",
       "    case 1:\n",
       "        cursor = 'default';\n",
       "        break;\n",
       "    case 2:\n",
       "        cursor = 'crosshair';\n",
       "        break;\n",
       "    case 3:\n",
       "        cursor = 'move';\n",
       "        break;\n",
       "    }\n",
       "    fig.rubberband_canvas.style.cursor = cursor;\n",
       "}\n",
       "\n",
       "mpl.figure.prototype.handle_message = function(fig, msg) {\n",
       "    fig.message.textContent = msg['message'];\n",
       "}\n",
       "\n",
       "mpl.figure.prototype.handle_draw = function(fig, msg) {\n",
       "    // Request the server to send over a new figure.\n",
       "    fig.send_draw_message();\n",
       "}\n",
       "\n",
       "mpl.figure.prototype.handle_image_mode = function(fig, msg) {\n",
       "    fig.image_mode = msg['mode'];\n",
       "}\n",
       "\n",
       "mpl.figure.prototype.updated_canvas_event = function() {\n",
       "    // Called whenever the canvas gets updated.\n",
       "    this.send_message(\"ack\", {});\n",
       "}\n",
       "\n",
       "// A function to construct a web socket function for onmessage handling.\n",
       "// Called in the figure constructor.\n",
       "mpl.figure.prototype._make_on_message_function = function(fig) {\n",
       "    return function socket_on_message(evt) {\n",
       "        if (evt.data instanceof Blob) {\n",
       "            /* FIXME: We get \"Resource interpreted as Image but\n",
       "             * transferred with MIME type text/plain:\" errors on\n",
       "             * Chrome.  But how to set the MIME type?  It doesn't seem\n",
       "             * to be part of the websocket stream */\n",
       "            evt.data.type = \"image/png\";\n",
       "\n",
       "            /* Free the memory for the previous frames */\n",
       "            if (fig.imageObj.src) {\n",
       "                (window.URL || window.webkitURL).revokeObjectURL(\n",
       "                    fig.imageObj.src);\n",
       "            }\n",
       "\n",
       "            fig.imageObj.src = (window.URL || window.webkitURL).createObjectURL(\n",
       "                evt.data);\n",
       "            fig.updated_canvas_event();\n",
       "            fig.waiting = false;\n",
       "            return;\n",
       "        }\n",
       "        else if (typeof evt.data === 'string' && evt.data.slice(0, 21) == \"data:image/png;base64\") {\n",
       "            fig.imageObj.src = evt.data;\n",
       "            fig.updated_canvas_event();\n",
       "            fig.waiting = false;\n",
       "            return;\n",
       "        }\n",
       "\n",
       "        var msg = JSON.parse(evt.data);\n",
       "        var msg_type = msg['type'];\n",
       "\n",
       "        // Call the  \"handle_{type}\" callback, which takes\n",
       "        // the figure and JSON message as its only arguments.\n",
       "        try {\n",
       "            var callback = fig[\"handle_\" + msg_type];\n",
       "        } catch (e) {\n",
       "            console.log(\"No handler for the '\" + msg_type + \"' message type: \", msg);\n",
       "            return;\n",
       "        }\n",
       "\n",
       "        if (callback) {\n",
       "            try {\n",
       "                // console.log(\"Handling '\" + msg_type + \"' message: \", msg);\n",
       "                callback(fig, msg);\n",
       "            } catch (e) {\n",
       "                console.log(\"Exception inside the 'handler_\" + msg_type + \"' callback:\", e, e.stack, msg);\n",
       "            }\n",
       "        }\n",
       "    };\n",
       "}\n",
       "\n",
       "// from http://stackoverflow.com/questions/1114465/getting-mouse-location-in-canvas\n",
       "mpl.findpos = function(e) {\n",
       "    //this section is from http://www.quirksmode.org/js/events_properties.html\n",
       "    var targ;\n",
       "    if (!e)\n",
       "        e = window.event;\n",
       "    if (e.target)\n",
       "        targ = e.target;\n",
       "    else if (e.srcElement)\n",
       "        targ = e.srcElement;\n",
       "    if (targ.nodeType == 3) // defeat Safari bug\n",
       "        targ = targ.parentNode;\n",
       "\n",
       "    // jQuery normalizes the pageX and pageY\n",
       "    // pageX,Y are the mouse positions relative to the document\n",
       "    // offset() returns the position of the element relative to the document\n",
       "    var x = e.pageX - $(targ).offset().left;\n",
       "    var y = e.pageY - $(targ).offset().top;\n",
       "\n",
       "    return {\"x\": x, \"y\": y};\n",
       "};\n",
       "\n",
       "/*\n",
       " * return a copy of an object with only non-object keys\n",
       " * we need this to avoid circular references\n",
       " * http://stackoverflow.com/a/24161582/3208463\n",
       " */\n",
       "function simpleKeys (original) {\n",
       "  return Object.keys(original).reduce(function (obj, key) {\n",
       "    if (typeof original[key] !== 'object')\n",
       "        obj[key] = original[key]\n",
       "    return obj;\n",
       "  }, {});\n",
       "}\n",
       "\n",
       "mpl.figure.prototype.mouse_event = function(event, name) {\n",
       "    var canvas_pos = mpl.findpos(event)\n",
       "\n",
       "    if (name === 'button_press')\n",
       "    {\n",
       "        this.canvas.focus();\n",
       "        this.canvas_div.focus();\n",
       "    }\n",
       "\n",
       "    var x = canvas_pos.x;\n",
       "    var y = canvas_pos.y;\n",
       "\n",
       "    this.send_message(name, {x: x, y: y, button: event.button,\n",
       "                             step: event.step,\n",
       "                             guiEvent: simpleKeys(event)});\n",
       "\n",
       "    /* This prevents the web browser from automatically changing to\n",
       "     * the text insertion cursor when the button is pressed.  We want\n",
       "     * to control all of the cursor setting manually through the\n",
       "     * 'cursor' event from matplotlib */\n",
       "    event.preventDefault();\n",
       "    return false;\n",
       "}\n",
       "\n",
       "mpl.figure.prototype._key_event_extra = function(event, name) {\n",
       "    // Handle any extra behaviour associated with a key event\n",
       "}\n",
       "\n",
       "mpl.figure.prototype.key_event = function(event, name) {\n",
       "\n",
       "    // Prevent repeat events\n",
       "    if (name == 'key_press')\n",
       "    {\n",
       "        if (event.which === this._key)\n",
       "            return;\n",
       "        else\n",
       "            this._key = event.which;\n",
       "    }\n",
       "    if (name == 'key_release')\n",
       "        this._key = null;\n",
       "\n",
       "    var value = '';\n",
       "    if (event.ctrlKey && event.which != 17)\n",
       "        value += \"ctrl+\";\n",
       "    if (event.altKey && event.which != 18)\n",
       "        value += \"alt+\";\n",
       "    if (event.shiftKey && event.which != 16)\n",
       "        value += \"shift+\";\n",
       "\n",
       "    value += 'k';\n",
       "    value += event.which.toString();\n",
       "\n",
       "    this._key_event_extra(event, name);\n",
       "\n",
       "    this.send_message(name, {key: value,\n",
       "                             guiEvent: simpleKeys(event)});\n",
       "    return false;\n",
       "}\n",
       "\n",
       "mpl.figure.prototype.toolbar_button_onclick = function(name) {\n",
       "    if (name == 'download') {\n",
       "        this.handle_save(this, null);\n",
       "    } else {\n",
       "        this.send_message(\"toolbar_button\", {name: name});\n",
       "    }\n",
       "};\n",
       "\n",
       "mpl.figure.prototype.toolbar_button_onmouseover = function(tooltip) {\n",
       "    this.message.textContent = tooltip;\n",
       "};\n",
       "mpl.toolbar_items = [[\"Home\", \"Reset original view\", \"fa fa-home icon-home\", \"home\"], [\"Back\", \"Back to  previous view\", \"fa fa-arrow-left icon-arrow-left\", \"back\"], [\"Forward\", \"Forward to next view\", \"fa fa-arrow-right icon-arrow-right\", \"forward\"], [\"\", \"\", \"\", \"\"], [\"Pan\", \"Pan axes with left mouse, zoom with right\", \"fa fa-arrows icon-move\", \"pan\"], [\"Zoom\", \"Zoom to rectangle\", \"fa fa-square-o icon-check-empty\", \"zoom\"], [\"\", \"\", \"\", \"\"], [\"Download\", \"Download plot\", \"fa fa-floppy-o icon-save\", \"download\"]];\n",
       "\n",
       "mpl.extensions = [\"eps\", \"jpeg\", \"pdf\", \"png\", \"ps\", \"raw\", \"svg\", \"tif\"];\n",
       "\n",
       "mpl.default_extension = \"png\";var comm_websocket_adapter = function(comm) {\n",
       "    // Create a \"websocket\"-like object which calls the given IPython comm\n",
       "    // object with the appropriate methods. Currently this is a non binary\n",
       "    // socket, so there is still some room for performance tuning.\n",
       "    var ws = {};\n",
       "\n",
       "    ws.close = function() {\n",
       "        comm.close()\n",
       "    };\n",
       "    ws.send = function(m) {\n",
       "        //console.log('sending', m);\n",
       "        comm.send(m);\n",
       "    };\n",
       "    // Register the callback with on_msg.\n",
       "    comm.on_msg(function(msg) {\n",
       "        //console.log('receiving', msg['content']['data'], msg);\n",
       "        // Pass the mpl event to the overriden (by mpl) onmessage function.\n",
       "        ws.onmessage(msg['content']['data'])\n",
       "    });\n",
       "    return ws;\n",
       "}\n",
       "\n",
       "mpl.mpl_figure_comm = function(comm, msg) {\n",
       "    // This is the function which gets called when the mpl process\n",
       "    // starts-up an IPython Comm through the \"matplotlib\" channel.\n",
       "\n",
       "    var id = msg.content.data.id;\n",
       "    // Get hold of the div created by the display call when the Comm\n",
       "    // socket was opened in Python.\n",
       "    var element = $(\"#\" + id);\n",
       "    var ws_proxy = comm_websocket_adapter(comm)\n",
       "\n",
       "    function ondownload(figure, format) {\n",
       "        window.open(figure.imageObj.src);\n",
       "    }\n",
       "\n",
       "    var fig = new mpl.figure(id, ws_proxy,\n",
       "                           ondownload,\n",
       "                           element.get(0));\n",
       "\n",
       "    // Call onopen now - mpl needs it, as it is assuming we've passed it a real\n",
       "    // web socket which is closed, not our websocket->open comm proxy.\n",
       "    ws_proxy.onopen();\n",
       "\n",
       "    fig.parent_element = element.get(0);\n",
       "    fig.cell_info = mpl.find_output_cell(\"<div id='\" + id + \"'></div>\");\n",
       "    if (!fig.cell_info) {\n",
       "        console.error(\"Failed to find cell for figure\", id, fig);\n",
       "        return;\n",
       "    }\n",
       "\n",
       "    var output_index = fig.cell_info[2]\n",
       "    var cell = fig.cell_info[0];\n",
       "\n",
       "};\n",
       "\n",
       "mpl.figure.prototype.handle_close = function(fig, msg) {\n",
       "    fig.root.unbind('remove')\n",
       "\n",
       "    // Update the output cell to use the data from the current canvas.\n",
       "    fig.push_to_output();\n",
       "    var dataURL = fig.canvas.toDataURL();\n",
       "    // Re-enable the keyboard manager in IPython - without this line, in FF,\n",
       "    // the notebook keyboard shortcuts fail.\n",
       "    IPython.keyboard_manager.enable()\n",
       "    $(fig.parent_element).html('<img src=\"' + dataURL + '\">');\n",
       "    fig.close_ws(fig, msg);\n",
       "}\n",
       "\n",
       "mpl.figure.prototype.close_ws = function(fig, msg){\n",
       "    fig.send_message('closing', msg);\n",
       "    // fig.ws.close()\n",
       "}\n",
       "\n",
       "mpl.figure.prototype.push_to_output = function(remove_interactive) {\n",
       "    // Turn the data on the canvas into data in the output cell.\n",
       "    var dataURL = this.canvas.toDataURL();\n",
       "    this.cell_info[1]['text/html'] = '<img src=\"' + dataURL + '\">';\n",
       "}\n",
       "\n",
       "mpl.figure.prototype.updated_canvas_event = function() {\n",
       "    // Tell IPython that the notebook contents must change.\n",
       "    IPython.notebook.set_dirty(true);\n",
       "    this.send_message(\"ack\", {});\n",
       "    var fig = this;\n",
       "    // Wait a second, then push the new image to the DOM so\n",
       "    // that it is saved nicely (might be nice to debounce this).\n",
       "    setTimeout(function () { fig.push_to_output() }, 1000);\n",
       "}\n",
       "\n",
       "mpl.figure.prototype._init_toolbar = function() {\n",
       "    var fig = this;\n",
       "\n",
       "    var nav_element = $('<div/>')\n",
       "    nav_element.attr('style', 'width: 100%');\n",
       "    this.root.append(nav_element);\n",
       "\n",
       "    // Define a callback function for later on.\n",
       "    function toolbar_event(event) {\n",
       "        return fig.toolbar_button_onclick(event['data']);\n",
       "    }\n",
       "    function toolbar_mouse_event(event) {\n",
       "        return fig.toolbar_button_onmouseover(event['data']);\n",
       "    }\n",
       "\n",
       "    for(var toolbar_ind in mpl.toolbar_items){\n",
       "        var name = mpl.toolbar_items[toolbar_ind][0];\n",
       "        var tooltip = mpl.toolbar_items[toolbar_ind][1];\n",
       "        var image = mpl.toolbar_items[toolbar_ind][2];\n",
       "        var method_name = mpl.toolbar_items[toolbar_ind][3];\n",
       "\n",
       "        if (!name) { continue; };\n",
       "\n",
       "        var button = $('<button class=\"btn btn-default\" href=\"#\" title=\"' + name + '\"><i class=\"fa ' + image + ' fa-lg\"></i></button>');\n",
       "        button.click(method_name, toolbar_event);\n",
       "        button.mouseover(tooltip, toolbar_mouse_event);\n",
       "        nav_element.append(button);\n",
       "    }\n",
       "\n",
       "    // Add the status bar.\n",
       "    var status_bar = $('<span class=\"mpl-message\" style=\"text-align:right; float: right;\"/>');\n",
       "    nav_element.append(status_bar);\n",
       "    this.message = status_bar[0];\n",
       "\n",
       "    // Add the close button to the window.\n",
       "    var buttongrp = $('<div class=\"btn-group inline pull-right\"></div>');\n",
       "    var button = $('<button class=\"btn btn-mini btn-primary\" href=\"#\" title=\"Stop Interaction\"><i class=\"fa fa-power-off icon-remove icon-large\"></i></button>');\n",
       "    button.click(function (evt) { fig.handle_close(fig, {}); } );\n",
       "    button.mouseover('Stop Interaction', toolbar_mouse_event);\n",
       "    buttongrp.append(button);\n",
       "    var titlebar = this.root.find($('.ui-dialog-titlebar'));\n",
       "    titlebar.prepend(buttongrp);\n",
       "}\n",
       "\n",
       "mpl.figure.prototype._root_extra_style = function(el){\n",
       "    var fig = this\n",
       "    el.on(\"remove\", function(){\n",
       "\tfig.close_ws(fig, {});\n",
       "    });\n",
       "}\n",
       "\n",
       "mpl.figure.prototype._canvas_extra_style = function(el){\n",
       "    // this is important to make the div 'focusable\n",
       "    el.attr('tabindex', 0)\n",
       "    // reach out to IPython and tell the keyboard manager to turn it's self\n",
       "    // off when our div gets focus\n",
       "\n",
       "    // location in version 3\n",
       "    if (IPython.notebook.keyboard_manager) {\n",
       "        IPython.notebook.keyboard_manager.register_events(el);\n",
       "    }\n",
       "    else {\n",
       "        // location in version 2\n",
       "        IPython.keyboard_manager.register_events(el);\n",
       "    }\n",
       "\n",
       "}\n",
       "\n",
       "mpl.figure.prototype._key_event_extra = function(event, name) {\n",
       "    var manager = IPython.notebook.keyboard_manager;\n",
       "    if (!manager)\n",
       "        manager = IPython.keyboard_manager;\n",
       "\n",
       "    // Check for shift+enter\n",
       "    if (event.shiftKey && event.which == 13) {\n",
       "        this.canvas_div.blur();\n",
       "        // select the cell after this one\n",
       "        var index = IPython.notebook.find_cell_index(this.cell_info[0]);\n",
       "        IPython.notebook.select(index + 1);\n",
       "    }\n",
       "}\n",
       "\n",
       "mpl.figure.prototype.handle_save = function(fig, msg) {\n",
       "    fig.ondownload(fig, null);\n",
       "}\n",
       "\n",
       "\n",
       "mpl.find_output_cell = function(html_output) {\n",
       "    // Return the cell and output element which can be found *uniquely* in the notebook.\n",
       "    // Note - this is a bit hacky, but it is done because the \"notebook_saving.Notebook\"\n",
       "    // IPython event is triggered only after the cells have been serialised, which for\n",
       "    // our purposes (turning an active figure into a static one), is too late.\n",
       "    var cells = IPython.notebook.get_cells();\n",
       "    var ncells = cells.length;\n",
       "    for (var i=0; i<ncells; i++) {\n",
       "        var cell = cells[i];\n",
       "        if (cell.cell_type === 'code'){\n",
       "            for (var j=0; j<cell.output_area.outputs.length; j++) {\n",
       "                var data = cell.output_area.outputs[j];\n",
       "                if (data.data) {\n",
       "                    // IPython >= 3 moved mimebundle to data attribute of output\n",
       "                    data = data.data;\n",
       "                }\n",
       "                if (data['text/html'] == html_output) {\n",
       "                    return [cell, data, j];\n",
       "                }\n",
       "            }\n",
       "        }\n",
       "    }\n",
       "}\n",
       "\n",
       "// Register the function which deals with the matplotlib target/channel.\n",
       "// The kernel may be null if the page has been refreshed.\n",
       "if (IPython.notebook.kernel != null) {\n",
       "    IPython.notebook.kernel.comm_manager.register_target('matplotlib', mpl.mpl_figure_comm);\n",
       "}\n"
      ],
      "text/plain": [
       "<IPython.core.display.Javascript object>"
      ]
     },
     "metadata": {},
     "output_type": "display_data"
    },
    {
     "data": {
      "text/html": [
       "<img src=\"data:image/png;base64,iVBORw0KGgoAAAANSUhEUgAAAoAAAAHgCAYAAAA10dzkAAAgAElEQVR4XuydB7glRZn+X4JDzqICAgqSFAQkDgiICEMUJAoiiGSGLCCgZAGJigQDiLquiGsOLI66rroYWEFE/qwRVFBQV5RBRB0Q/s87fWpvTdN9Tp9Tp+69fc+vHuZh5t6u0L+uqn77q6++mk8kCEAAAhCAAAQgAIGRIjDfSN0tNwsBCEAAAhCAAAQgIAQgnQACEIAABCAAAQiMGAEE4Ig9cG4XAhCAAAQgAAEIIADpAxCAAAQgAAEIQGDECCAAR+yBc7sQgAAEIAABCEAAAUgfgAAEIAABCEAAAiNGAAE4Yg+c24UABCAAAQhAAAIIQPoABCAAAQhAAAIQGDECCMARe+DcLgQgAAEIQAACEEAA0gcgAAEIQAACEIDAiBFAAI7YA+d2IQABCEAAAhCAAAKQPgABCEAAAhCAAARGjAACcMQeOLcLAQhAAAIQgAAEEID0AQhAAAIQgAAEIDBiBBCAI/bAuV0IQAACEIAABCCAAKQPQAACEIAABCAAgREjgAAcsQfO7UIAAhCAAAQgAAEEIH0AAhCAAAQgAAEIjBgBBOCIPXBuFwIQgAAEIAABCCAA6QMQgAAEIAABCEBgxAggAEfsgXO7EIAABCAAAQhAAAFIH4AABCAAAQhAAAIjRgABOGIPnNuFAAQgAAEIQAACCED6AAQgAAEIQAACEBgxAgjAEXvg3C4EIAABCEAAAhBAANIHIAABCEAAAhCAwIgRQACO2APndiEAAQhAAAIQgAACkD4AAQhAAAIQgAAERowAAnDEHji3CwEIQAACEIAABBCA9AEIQAACEIAABCAwYgQQgCP2wLldCEAAAhCAAAQggACkD0AAAhCAAAQgAIERI4AAHLEHzu1CAAIQgAAEIAABBCB9AAIQgAAEIAABCIwYAQTgiD1wbhcCEIAABCAAAQggAOkDEIAABCAAAQhAYMQIIABH7IFzuxCAAAQgAAEIQAABSB+AAAQgAAEIQAACI0YAAThiD5zbhQAEIAABCEAAAghA+gAEIAABCEAAAhAYMQIIwBF74NwuBCAAAQhAAAIQQADSByAAAQhAAAIQgMCIEWibADxb0kGSnitpjqQ7JZ0u6e7oub1c0tWSNpL0qKTrJZ1Xeq7+92GSluyUMVPSvX2WMWJdhduFAAQgAAEIQGCqEGibAFxD0h8kzZa0oKTjJZ0maQVJz0haXNLPJN0o6XxJa0q6VdLlkq7qPLRTJR0raSdJ90k6pyMqfe0TDcuYKs+f+4AABCAAAQhAYAQJtE0Axo9oIUlHS7pC0vMkPSLpYEmXSFpR0tOdiy0Sj5Nk8eh0v6QrJV3T+fcCkh6SdLKkjzUsYwS7CrcMAQhAAAIQgMBUIdBGAbhzR6gt1RF575Jkq56Thd06HeteeEbTJd0mydfP31kW9s9ujx7iLEn3SDqlQRmPT5WHz31AAAIQgAAEIDCaBNooAMOTWrpjrfuNpE93fniDpMUk7R89zrU7/n0rdwTgAx2R+NPompslPSbpCEm9yrC1MCTzs7XxL6PZfbhrCEAAAhCAQGsJLNFZAbQL2cilNgtAPyy3/8+StupY8MbbAriSJAtQEgQgAAEIQAAC7SPwQkm/bV+z01vcdgHojSDeEPJGSZ/pbOa4tOQDeEJn00c3H8CHJZ0o6aaGZQTy3kU8+8EHH9SSS/qvo5POPPNMXXTRRaNzw5075b5H65HzvHneo0BgFPv5Y489ppVX9sLgXPcwrwCOXGqbAPSGDi/Xeifw8pIulLR3Z0n3950dvF7a9S5g/86i75bORpGwC9h+ft4FvEtnQ4hDyxwoaa1oF3CvMuYRgLNnzx45AXjyySfryittcB2txH3zvEeBAP18FJ7y2D2O4vO2AFxqKWs/BGBbevsXJW3cEXpW7N/vhHv5QXQD60q6rhMH0NbB90q6oHSD50o6UpLX/++QVI4D2KQMFznXAogAbEv3SW/nKE6UpsZ9p/edNpXA827T00pv6yg+bwRg4UNHGpzAyArAWbNmacaMGYOTa2lO7rulD27AZvO8BwTX0mw875Y+uAGajQBEAA7QbebJMrICMBUc+SEAAQhAAAITRQABiABM7XsIwFSC5IcABCAAAQiMMwEEIAIwtcshAFMJkh8CEIAABCAwzgQQgAjA1C6HAEwlSH4IQAACEIDAOBNAACIAU7scAjCVIPkhAAEIQAAC40wAAYgATO1yCMBUguSHAAQgAAEIjDMBBCACMLXLIQBTCZIfAhCAAAQgMM4EEIAIwNQuhwBMJUh+CEAAAhCAwDgTQAAiAFO7HAIwlSD5IQABCEAAAuNMAAGIAEztcgjAVILkhwAEIAABCIwzAQQgAjC1yyEAUwmSHwIQgAAEIDDOBBCACMDULocATCVIfghAAAIQgMA4E0AAIgBTuxwCMJUg+SEAAQhAAALjTAABiABM7XIIwFSC5IcABCAAAQiMMwEEIAIwtcshAFMJkh8CEIAABCAwzgQQgAjA1C6HAEwlSH4IQAACEIDAOBNAACIAU7scAjCVIPkhAAEIQAAC40wAAYgATO1yCMBUguSHAAQgAAEIjDMBBCACMLXLIQBTCZIfAhCAAASyEzjiCOmQQ6Tp07NX1YoKEIAIwNSOigBMJUh+CEAAAhDITmC++aQ995Q+/ensVbWiAgQgAjC1oyIAUwmSHwIQgAAEshNAAM6LGAGIAEwddAjAVILkhwAEIACB7AQsAF/3Oukzn8leVSsqQAAiAFM7KgIwlSD5IQABCEAgOwEEIBbAciebL3uvm9oVIACn9vPl7iAAAQhMCQIWgHvsIX32s1PidpJvAgsgFsDUToQATCVIfghAAAIQyE4AAYgFEAvgcIcZAnC4PCkNAhCAAAQyELAA3H136XOfy1B4C4vEAogFMLXbIgBTCZIfAhCAAASyE0AAYgHEAjjcYYYAHC5PSoMABCAAgQwELABf+1rp85/PUHgLi8QCiAUwtdsiAFMJkh8CEIAABLITQABiAcQCONxhhgAcLk9KgwAEIACBDAQsAHfbTfrCFzIU3sIisQBiAUzttgjAVILkhwAEIACB7AQQgFgAsQAOd5ghAIfLk9IgAAEIQCADAQvAXXeVvvjFDIW3sEgsgFgAU7stAjCVIPkhAAEIQCA7AQQgFkAsgMMdZgjA4fKkNAhAAAIQyEDAAnCXXaQvfSlD4S0sEgsgFsDUbosATCVIfghAAAIQyE7AAnDnnaVbbsleVSsqQAAiAFM7KgIwlSD5IQABCEAgOwEEIEvALAEPd5ghAIfLk9IgAAEIQCADAQvAnXaS/v3fMxTewiKxAGIBTO22CMBUguSHAAQgAIHsBBCAWACxAA53mCEAh8uT0iAAAQhAIAMBC8Add5RuvTVD4S0sEgsgFsDUbosATCVIfghAAAIQyE4AAYgFEAvgcIcZAnC4PCkNAhCAAAQyELAAnDFD+vKXMxTewiKxAGIBTO22CMBUguSHAAQgAIHsBBCAWACxAA53mCEAh8uT0iAAAQhAIAMBC8AddpBmzcpQeAuLxAKIBTC12yIAUwmSHwIQgAAEshNAAGIBbLsF8GJJu0haVdLjkr4p6TRJv4lu7GlJf5f0lAqB+4yk6ZLuja45T9Jhkizg7pQ0s/T7l0u6WtJGkh6VdL0k5yknBGD2aYsKIAABCEAglYAF4PbbS1/5SmpJUyM/FsD2WQAvlPQpSfdIWlTSeyW9VNKGJQG4naT/rOmmp0o6VtJOku6TdI6kgyStKekJSYtL+pmkGyWd3/m5N85fLumqUpkIwKkxF3AXEIAABKY0AQQgFsC2WwDL7V9f0g8kLStpdueXtgC+RtLXa0bz/ZKulHRN5/cLSHpI0smSPibpYEmXSFpRkstyOl7ScZLWQABO6TmSm4MABCAwJQlYAL7mNdJXvzolb6/vm8IC2D4LYPkhe/n3KEmrlSyAv5P0HEm/lvQ+STd0fm+LnZd0vSR8e5THbrG2Kp7SEYfrdCyE4RJff5ukpTpLz+HnWAD7HnZkgAAEIACB8SZgAbjddtLXvjbeNU/O+hCA7RaAtvJ9VtKekuJvmm0lfUfSPyVt37HqnSHp/ZJeKOkBSRZ4P4265c2SHpN0REcsLiZp/+j3a3d8BFfuWAsRgJNzTNMqCEAAAhCoIIAFcF4oCMD2CsBdJX20s1z7hR6j/WxJO0h6ZWfTBxZApkcIQAACEBgpAlgAEYDlDu9dsm1Lb+j47+0jqYkx2wJwhqQtOzda5QP4sKQTJd3U2RByackH8ITOxpFKH8CZM2dq2rRpc4ufMWPG3D8kCEAAAhCAwGQhgAB0DMRZc/84zZkzR9dee63/atcurwCOXGqbAPTuXe/M3U3StyuelncD+57sz+cNHN4N/HFJFoFzn3THz8/lOJyMxaB/d6CktaJdwF4e9i5g7zq26LtF0hXsAh658cENQwACEJgSBCwAX/1q6T/+Y0rcTvJNsATcviVgi7onJf2j8/RDnD+HdLEg9NKwrXf29XMcQG8Cua4Txy/uMOdKOlLSEpLuqIgDuG4nn+MAenexw81cUNHj2ASSPAwpAAIQgAAEchOwANx2W+nrdfExcjdgkpWPAGyfAJxkXWhuIOnZs2fP1pJL+q8kCEAAAhCAwOQjYAH4qldJ/1kXIXfyNTlrixCACMDUDoYATCVIfghAAAIQyE7AAnCbbaRvfCN7Va2oAAGIAEztqAjAVILkhwAEIACB7AQsALfeWvqmD1AlCQGIAEwdBgjAVILkhwAEIACB7AQQgPMiRgAiAFMHHQIwlSD5IQABCEAgOwELwK22kr71rexVtaICBCACMLWjIgBTCZIfAhCAAASyE7AA3HJL6TYfakpiCbgTM4+uMDgBBODg7MgJAQhAAALjRAAByBJwuau1LRD0OA2VxtUgABuj4kIIQAACEJgoAhaAW2whfbvqCIWJatQE1ssSMEvAqd0PAZhKkPwQgAAEIJCdgAXg9OnSd76TvapWVIAARACmdlQEYCpB8kMAAhCAQHYCFoCbby5997vZq2pFBQhABGBqR0UAphIkPwQgAAEIZCdgAbjZZtL3vpe9qlZUgABEAKZ2VARgKkHyQwACEIBAdgIIwHkRIwARgKmDDgGYSpD8EIAABCCQnYAF4KabSrffnr2qVlSAAEQApnZUBGAqQfJDAAIQgEBWAs88I80/v7TxxtL3v5+1qtYUjgBEAKZ2VgRgKkHyQwACEIBAVgJPPy0tsAACMIaMAEQApg46BGAqQfJDAAIQgEBWAkEAbrSRdMcdWatqTeEIQARgamdFAKYSJD8EIAABCGQl8M9/SgsuKG24ofSDH2StqjWFIwARgKmdFQGYSpD8EIAABCCQlcBTT0nPeQ4CkCXgebsZR8GlDTsEYBo/ckMAAhCAQGYCTz4pTZsmbbCBdNddmStrSfFYALEApnZVBGAqQfJDAAIQgEBWAkEArr++9MMfZq2qNYUjABGAqZ0VAZhKkPwQgAAEIJCVwJw50kILSS9/uXT33Vmrak3hCEAEYGpnRQCmEiQ/BCAAAQhkJfCPf0gLLyytt570ox9lrao1hSMAEYCpnRUBmEqQ/BCAAAQgkJVAEICrrSbdd1/WqlpTOAIQAZjaWRGAqQTJDwEIQAACWQn8/e/SIosUVfhUEJKEAEQApo4DBGAqQfJDAAIQgEBWAn/7m7ToogjAGDICEAGYOugQgKkEyQ8BCEAAAlkJPPGEtNhi0uqrS7/4RdaqWlM4AhABmNpZEYCpBMkPAQhAAAJZCQQBiA/gGGYEIAIwddAhAFMJkh8CEIAABLIS+OtfpcUXlxCACMC4o3ESSNqwQwCm8SM3BCAAAQhkJvD449ISS0gvfrF0//2ZK2tJ8VgAsQCmdlUEYCpB8kMAAhCAQFYCf/mLtOSS0oteJP3yl1mrak3hCEAEYGpnRQCmEiQ/BCAAAQhkJYAAfDZeBCACMHXQIQBTCZIfAhCAAASyEnjsMWmppaRVV5V+9ausVbWmcAQgAjC1syIAUwmSHwIQgAAEshKYPVtaemkEYAwZAYgATB10CMBUguSHAAQgAIGsBIIAXGUV6de/zlpVawpHACIAUzsrAjCVIPkhAAEIQCArgUcflZZZRlp5ZemBB7JW1ZrCEYAIwNTOigBMJUh+CEAAAhDISuDPf5aWXRYByBLwvN2MOIBpww4BmMaP3BCAAAQgkJnAn/4kLbccAhABiAAc5lBDAA6TJmVBAAIQgMDQCQQB+MIXSg8+OPTiW1kgS8AsAad2XARgKkHyQwACEIBAVgKPPCI997nSSitJv/lN1qpaUzgCEAGY2lkRgKkEyQ8BCEAAAlkJ/PGP0vLLIwBZAmYJeJgDDQE4TJqUBQEIQAACQyfwv/8rPe950oorSr/97dCLb2WBWACxAKZ2XARgKkHyQwACEIBAVgJBAK6wgvTQQ1mrak3hCEAEYGpnRQCmEiQ/BCAAAQhkJfCHP0jPf76EABzDjABEAKYOOgRgKkHyQwACEIBAVgK//730ghcUfx5+OGtVrSkcAYgATO2sCMBUguSHAAQgAIGsBIIAtBXwd7/LWlVrCkcAIgBTOysCMJUg+SEAAQhAICsBiz4v/yIAWQKOO1rbTgK5WNIuklaV9Likb0o6TVIc2ejlkq6WtJGkRyVdL+m80ujyvw+TZAF3p6SZku6NrmlShi9HAGadtigcAhCAAARSCXjZ1zuAvRPY1kCShAWwfRbACyV9StI9khaV9F5JL5W0YadDLy7pZ5JulHS+pDUl3SrpcklXda45VdKxknaSdJ+kcyQd1Ln2CUlNygjjBwHITAIBCEAAApOagHf+Ogg0AhALYJstgOVBtr6kH0haVtJsSQdLukTSipKe7lx8vKTjJK3R+ff9kq6UdE3n3wtI8sb4kyV9rGEZCMBJPd3ROAhAAAIQCASCAHQwaO8IJmEBdB9o2xJwud96+fcoSat1fmFht07HuheunS7pNklLSZq/syzsn90eFTarY1U8pSMOu5XhpWcEIDMIBCAAAQi0goCDP/scYB8H55iAJARg2wXgayR9VtKekr7a6dA3SFpM0v5RB1+749+3ckcAPtARiT+NrrlZ0mOSjpDUq4w4jCZLwMwkEIAABCAwqQn4/N+VV0YAxg8JH8D2WgB3lfTRznLtF6KHigVwUk9DNA4CEIAABMabwIMPSqusIi23nORzgUlYANtqAXxDx39vH0lfK3Vkb+a4tOQDeEJn00c3H0CHxjxR0k2dDSG9ygjVzrUAzpw5U9OmTZv7sxkzZsz9Q4IABCAAAQhMBgJBAC67rPTII5OhRRPThlmzZsl/nObMmaNrr73Wf7V7mFcARy61zQfQu3e9u3c3Sd+ueFreweulXe8C9o5hi75bJF0R7QK2n5/LcTgZbwg5W9KBktaSFHYB9ypjHgE4e/ZsLbmktSAJAhCAAAQgMLkIPPCAtOqq0jLLSH/60+Rq20S1hiXg9i0Be2fvk5L+0ek0FrDPdDZ9BEG4rqTrOnEAvTPYoWIuKHWycyUdKWkJSXdUxAFsUoaLxAdwokYv9UIAAhCAQCMCt98ubb65tNRS0qOOjksiDuAU2AU80d0YATjRT4D6IQABCECglsA3viFtu23xay9UzbZZhIQARAAmjwIEYDJCCoAABCAAgVwEPvlJad99i9KXWMKbH3LV1K5yWQJu3xLwZOthCMDJ9kRoDwQgAAEI/B+BT3xCev3ri38utpj0eBzJdoQ5IQARgKndHwGYSpD8EIAABCCQjcAaa0i/+EVR/KKLSn/9a7aqWlUwAhABmNphEYCpBMkPAQhAAALZCCy8sPSPzrbJRRaRnnCsCxI+gPgAJo8CBGAyQgqAAAQgAIFcBCz6/v73ovSFFhr7e6762lIuFkAsgKl9FQGYSpD8EIAABCCQjYCXff/2t6J4n1cQrIHZKmxJwQhABGBqV0UAphIkPwQgAAEIZCPgjR9h2fc5z/EJGNmqalXBCEAEYGqHRQCmEiQ/BCAAAQhkI7D44mMbPxZYQHrqqWxVtapgBCACMLXDIgBTCZIfAhCAAASyEXDsvxD6Zf75pX/+M1tVrSoYAYgATO2wCMBUguSHAAQgAIFsBHz8Wwj+PN980tM+UJXELmB2ASePAgRgMkIKgAAEIACBXASWXnre49+eeSZXTe0qFwsgFsDUHosATCVIfghAAAIQyEbgkEOkD394rHhbAG0JHPWEAEQApo4BBGAqQfJDAAIQgEA2Ah/4gHTkkWPF2wfQvoCjnhCACMDUMYAATCVIfghAAAIQyEbg+uulI44YK/7JJ6UFF8xWXWsKRgAiAFM7KwIwlSD5IQABCEAgG4GyAHQcQMcDHPWEAEQApo4BBGAqQfJDAAIQgEA2AjfcIB1++FjxPgnEJ4KMekIAIgBTxwACMJUg+SEAAQhAIBuBG2+UDj10rHgfC7fwwtmqa03BCEAEYGpnRQCmEiQ/BCAAAQhkI/ChD0lvfvNY8Y88Ii27bLbqWlMwAhABmNpZEYCpBMkPAQhAAALZCJQtgPfcI627brbqWlMwAhABmNpZEYCpBMkPAQhAAALZCJQF4AMPSCuvnK261hSMAEQApnZWBGAqQfJDAAIQgEA2Ah/8oHTYYWPF//730vOel6261hSMAEQApnZWBGAqQfJDAAIQgEA2AuVdwL/7nfT852errjUFIwARgKmdFQGYSpD8EIAABCCQjUBZAD70kLTCCtmqa03BCEAEYGpnRQCmEiQ/BCAAAQhkI1AOBP3b30orrpitutYUjABEAKZ2VgRgKkHyQwACEIBANgLls4B/8xtppZWyVdeaghGACMDUzooATCVIfghAAAIQyEbg/e+XjjpqrHh2ARcsEIAIwNRBhwBMJUh+CEAAAhDIRqAsAH/9a2mVVbJV15qCEYAIwNTOigBMJUh+CEAAAhDIRuB975OOProofr75pPvvl170omzVtaZgBCACMLWzIgBTCZIfAhCAAASyEXjve6VjjimKX2AB6ec/l1784mzVtaZgBCACMLWzIgBTCZIfAhCAAASyEYgF4IILSj/5ibT66tmqa03BCEAEYGpnRQCmEiQ/BCAAAQhkI3DdddLMmUXx06ZJ994rveQl2aprTcEIQARgamdFAKYSJD8EIAABCGQjcO210rHHFsUvtJD0ox9Ja66ZrbrWFIwARACmdlYEYCpB8kMAAhCAQDYCsQBcZBHprruktdbKVl1rCkYAIgBTOysCMJUg+SEAAQhAIBuBa66RjjuuKH7RRaU775TWXjtbda0pGAGIAEztrAjAVILkhwAEIACBbASuvlo6/vii+MUXl26/XXrpS7NV15qCEYAIwNTOigBMJUh+CEAAAhDIRiAWgEssIX33u9LLXpatutYUjABEAKZ2VgRgKkHyQwACEIBANgLveY90wglF8UsuKd12m7Teetmqa03BCEAEYGpnRQCmEiQ/BCAAAQhkI3DVVdKJJxbFL7209M1vSi9/ebbqWlMwAhABmNpZEYCpBMkPAQhAAALZCLz73dJJJxXFL7OM9PWvSxtskK261hSMAEQApnZWBGAqQfJDAAIQgEA2ArEAXG456atflTbcMFt1rSkYAYgATO2sCMBUguSHAAQgAIFsBN71Lunkk4vin/tc6ctfljbaKFt1rSkYAYgATO2sCMBUguSHAAQgAIFsBK68UnrLW4rin/c86ZZbpI03zlZdawpGACIAUzsrAjCVIPkhAAEIQCAbgVgAPv/50he+IG26abbqWlMwAhABmNpZEYCpBMkPAQhAAALZCFxxhXTKKUXxK6wgffaz0mabZauuNQUjABGAqZ0VAZhKkPwQgAAEIJCNwOWXS6eeWhS/4orSpz8tbb55tupaUzACsH0CcD9JMyWt71NtJD1H0tNRj/Pf/y7pKRX39oyk6ZLuja45T9Jhjokp6c5OefHvHSHpakl2k31U0vWSnKcqIQBbM9xpKAQgAIHRIxALwBe+UPrEJ6Qtthg9DuU7RgC2TwBuL2lZn2kt6YYaAbidpP+s6d7+DjpW0k6S7pN0jqSDJK0p6YmOqPyZpBslnd/5+a2SLpd0VUWZCEDmEQhAAAIQmLQELrtMOu20onkrryx9/OPSlltO2uaOW8MQgO0TgKFzbCPp6zUC8DWd31V1pPslXSnpms4vF5D0kCRvkv+YpIMlXWJLeWRZ9DHax0laAwE4bmOTiiAAAQhAYAgELr1Ueutbi4JWXVX66EelrbYaQsEtLwIBODUF4O86wvDXkt7XsRS6q9pa5yVdLwnfHvXdWZLukWQ3WYvDdToWwnCJr79N0lKSHi/1eSyALZ8EaD4EIACBqUwgFoAvepH0kY9IW289le+42b0hAKeeANxW0nck/VOSl4tt1TtD0vslvVDSAx2B99Ooi9ws6TFJR3TE4mKS9o9+v3bHh3DljrUw7l0IwGZjjasgAAEIQGACCFxyiXT66UXFq60mffCD0qteNQENmWRVIgCnngAsd7GzJe0g6ZVYACfZ6KM5EIAABCCQncA73ymdYTOIpNVXl66/XtrWppIRTwjA0RCAMyQFl9cqH8CHJZ0o6abOhpBLSz6AJ3Q2jtT6AM6cOVPTpk2bO5xmzJgx9w8JAhCAAAQgMNEELr5YOvPMohUveYn0vvdJ23mr5AimWbNmyX+c5syZo2uvvdZ/tXuXVwFHLjlUSpvS/B3/Pm8C8e7cJTrLvXMkbdAJ/WJ/PoeDcRf/uCRbAec+5Y6fn3cB7yLJYtC/O1DSWtEuYC8PexfwhZ2NH7dIuoJdwG3qJrQVAhCAAARMIBaAa64pWfO8xlslRzxhAWyfBdC7dD/Uie/n7hti/dmgbX88W+/s6+c4gN4Ecl0njl/c1c+VdGRHPN5REQdw3U4+xwGcLem9ki6oGSv4AI74JMLtQwACEJjMBC66SHrb24oWrrWWdPXV0vb2kB/xhABsnwCcbF0WATjZngjtgQAEIACB/0M/C6YAACAASURBVCNw4YXS299e/HOddaR3vcuuSgBCACIAU0cBAjCVIPkhAAEIQCAbgVgAvvSlks8G3nHHbNW1pmAEIAIwtbMiAFMJkh8CEIAABLIReMc7pLPOKopfd13JYWF23jlbda0pGAGIAEztrAjAVILkhwAEIACBbAQuuEA629sdJa23XrEpZBdvgxzxhABEAKYOAQRgKkHyQwACEIBANgKxAFx/fcn/3m23bNW1pmAEIAIwtbMiAFMJkh8CEIAABLIROP986ZxziuI32EA67zzpta/NVl1rCkYAIgBTOysCMJUg+SEAAQhAIBsBC75zHfxM0iteUfgD7rFHtupaUzACEAGY2lkRgKkEyQ8BCEAAAtkIxAJwo42KmICve1226lpTMAIQAZjaWRGAqQTJDwEIQAAC2QjY+mcR6LTJJtJb3yrttVe26lpTMAIQAZjaWRGAqQTJDwEIQAAC2QjY/89+gE6bbiqdeqq0997ZqmtNwQhABGBqZ0UAphIkPwQgAAEIZCPgEDDe+eu0+ebSySdL++yTrbrWFIwARACmdlYEYCpB8kMAAhCAQDYCsQCcPl064QRpv/2yVdeaghGACMDUzooATCVIfghAAAIQyEbAu359GojTFltIxx0nvf712aprTcEIQARgamdFAKYSJD8EIAABCGQj8Pa3Sz4P2OmVr5SOPlo64IBs1bWmYAQgAjC1syIAUwmSHwIQgAAEshGIBeBWW0lHHim94Q3ZqmtNwQhABGBqZ0UAphIkPwQgAAEIZCPguH8XXVQUv8020qGHSm98Y7bqWlMwAhABmNpZEYCpBMkPAQhAAALZCJx5pnTxxUXxr3qVdMgh0kEHZauuNQUjABGAqZ0VAZhKkPwQgAAEIJCNQCwAX/3qwvr3pjdlq641BSMAEYCpnRUBmEqQ/BCAAAQgkI3AGWdI73xnUfx22xX+f7YCjnpCACIAU8cAAjCVIPkhAAEIQCAbgdNPly65pCh+++2LGID2Axz1hABEAKaOAQRgKkHyQwACEIBANgI++/fSS4vid9ihOAXksMOyVdeaghGACMDUzooATCVIfghAAAIQyEYgFoA77ijtuad0+OHZqmtNwQhABGBqZ0UAphIkPwQgAAEIZCNw2mnSZZcVxe+0k7T77kUswFFPCEAEYOoYQACmEiQ/BCAAAQhkI3DqqdLllxfF77KLtOuu0lFHZauuNQUjABGAqZ0VAZhKkPwQgAAEIJCNQCwALf5sBTzmmGzVtaZgBCACMLWzIgBTCZIfAhCAAASyETjlFOmKK4rid9tNmjFDmjkzW3WtKRgBiABM7awIwFSC5IcABCAAgWwE3vIW6cori+Lt/+dYgMcdl6261hSMAEQApnZWBGAqQfJDAAIQgEA2ArEA3GMPadttpeOPz1ZdawpGACIAUzsrAjCVIPkhAAEIQCAbgZNPlt71rqJ4h4DZaivpxBOzVdeaghGACMDUzooATCVIfghAAAIQyEbgpJOkd7+7KH6vvaQtt5T8s1FPCEAEYOoYQACmEiQ/BCAAAQhkIxALQJ8Csvnmkq2Co54QgAjA1DGAAEwlSH4IQAACEMhGwMu9V11VFL/vvtImm0jeGTzqCQGIAEwdAwjAVILkhwAEIACBbAROOEF69FHpHe+QfCrIK14hOTbgqCcEIAIwdQwgAFMJkh8CEIAABLIR8I7fhRYqjoM74ABp/fUlnw886gkBiABMHQMIwFSC5IcABCAAgWwELAAXXli69FLpwAOlddeVTj89W3WtKRgBiABM7awIwFSC5IcABCAAgWwEHPR5kUUKAehNIBaA55yTrbrWFIwARACmdlYEYCpB8kMAAhCAQDYCxx4rLbaYdMkl0nzzFdU880y26lpTMAIQAZjaWRGAqQTJDwEIQAAC2QhYAC6+uPTOdyIAY8gIQARg6qBDAKYSJD8EIAABCGQjMHOmtMQShQB885ulZZaRrrgiW3WtKRgBiABM7awIwFSC5IcABCAAgWwEjjlGWmop6eKLpdgfMFuFLSkYAYgATO2qCMBUguSHAAQgAIFsBCwAl15auugiaffdpV/9Srr77mzVtaZgBCACMLWzIgBTCZIfAhCAAASyETj66GLZ1wKQTSBjmBGACMDUQYcATCVIfghAAAIQyEbgqKOk5ZaTLrwQARhDRgAiAFMHHQIwlSD5IQABCEAgGwELwOc+tzgKDgsgFsC4o3WiAmXre1O9YATgVH/C3B8EIACBFhM48khp+eURgOVHiAUQC2DqsEYAphIkPwQgAAEIZCNwxBHS858vXXABFkCWgOftZm2zAO4naaak9SUtLuk5kp6Obunlkq6WtJGkRyVdL+m80sjyvw+TZPF2Z6e8e/ssI1yOAMw2bVEwBCAAAQikEjj8cGmFFaTzz0cAIgDbLQC3l7SspEUl3VASgBaEP5N0o6TzJa0p6VZJl0u6qnPbp0o6VtJOku6T5BMRD+pc+0RHVPYqIyaIAEydncgPAQhAAALZCFgArriidN55CEAEYLsFYGj9NpK+XhKAB0u6RNKKkVXweEnHSVqjk/F+SVdKuqbz7wUkPSTpZEkfk9SkDARgtqmKgiEAAQhAYJgEDjtMWmmlQgDuu6/0yU9yFrD54gPYXh/AKgFoYbdOx7oXxs90SbdJWkrS/J1lYf/s9miAzZJ0j6RTOuKwWxmPlwYmFsBhzlSUBQEIQAACQyVw6KHSyitL554r3XST9L73Sd/61lCraGVhCMCpJQC9JLyYpP2j3ri2JPv3rdwRgA90ROJPo2tu9seApCM6y8rdyrC1EAtgK4c7jYYABCAwegQsAFdZRTrnHOnmm6VrrpFus1lkxBMCcGoJwAmzAM6cOVPTpk2bO5xmzJgx9w8JAhCAAAQgMNEE3vxmadVVCwH4b/8mvfvd0ne+M9Gtmpj6Z82aJf9xmjNnjq699lr/1SuENgKNXGrbLuDwgKqWgL2Z49KSD+AJnU0f3XwAH5Z0oqSbOhtCepWBBXDkhgk3DAEIQKCdBA45RHrxi6Wzzy78/664Qvre99p5L8NsNRbA9lkA7cfn0C8WgN7hu4Skf1rMd5Z/vbTrXcAXdjZ+3CLpimgXsP38vAt4F0neEHK2pAMlrSUp7ALuVQYCcJijkLIgAAEIQCAbAQvA1VaTzjpL+vSnpUsukf77v7NV15qCEYDtE4DepfshSc90epktmP77tpLs1rqupOs6cQBnS3qvpAtKPfJcSUd2xOMdFXEAm5QRimQTSGuGOw2FAAQgMHoE3vQmafXVCwH42c8WZwLf4TffiCcEYPsE4GTrsgjAyfZEaA8EIAABCPwfgYMPltZYQ3r726XPf74IB/ODHwAIAYgATB0FCMBUguSHAAQgAIFsBA46SFprLeltb5O++MXCF/Cuu7JV15qCEYAIwNTOigBMJUh+CEAAAhDIRsACcO21pTPPlG65pfj/3Xdnq641BSMAEYCpnRUBmEqQ/BCAAAQgkI3AG98orbNOIfxuvVU67TTpHh99MOIJAYgATB0CCMBUguSHAAQgAIFsBA48UHrZy6QzzpAcAu/kk6V7fTzCiCcEIAIwdQggAFMJkh8CEIAABLIRsABcd13p9NOlr3xFOuEE6cc/zlZdawpGACIAUzsrAjCVIPkhAAEIQCAbgTe8QVpvvUIAfu1r0syZ0k/jw1Cz1Ty5C0YAIgBTeygCMJUg+SEAAQhAIBuBAw6Q1l9feutbpa9/XTrySOnnP89WXWsKRgAiAFM7KwIwlSD5IQABCEAgGwELwA02KDZ/fOMb0qGHSvfdl6261hSMAEQApnZWBGAqQfJDAAIQgEA2AvvvL224YSEAv/UtyYGhf/nLbNW1pmAEIAIwtbMiAFMJkh8CEIAABLIReP3rpY02kk49VbrtNsk+gb/+dbbqWlMwAhABmNpZEYCpBMkPAQhAAALZCFgAbryxdMop0ne+I/nfDzyQrbrWFIwARACmdlYEYCpB8kMAAhCAQDYC++0nbbJJIQC/9z1p772l3/wmW3WtKRgBiABM7awIwFSC5IcABCAAgWwE9t1X2mwz6S1vkW6/XXrd66SHHspWXWsKRgAiAFM7KwIwlSD5IQABCEAgG4F99pGmTy9OAPn+96XddpN+97ts1bWmYAQgAjC1syIAUwmSHwIQgAAEshGwANxiC+mkk6Q775R22kn6wx+yVdeaghGACMDUzooATCVIfghAAAIQyEbAPn9bblkIwLvukrbfXvrjH7NV15qCEYAIwNTOigBMJUh+CEAAAhDIRmCvvaSttpJOPFG6+25p222lP/0pW3WtKRgBiABM7awIwFSC5IcABCAAgWwELAC33lo64YTCAviKV0jPPJOtutYUjABEAKZ2VgRgKkHyQwACEIBANgJ77ilts00hAK+6qrAEIgAlBCACMHXQIQBTCZIfAhCAAASyEXDYFy/7Hn+8dPXVxf8RgAhAd7j5svW60SgYATgaz5m7hAAEINBKAhaAr361dNxx0v33S6uvLj39tDTfiL/9sQAiAFMHNAIwlSD5IQABCEAgG4E99pC2264QgA8/LK24ovTkk9KCC2arshUFIwARgKkdFQGYSpD8EIAABCCQjcDuuxehX449Vvr976UXvED6xz+kadOyVdmKghGACMDUjooATCVIfghAAAIQyEbAAnCHHaSZM4v4f8svL913n7TaatmqbEXBCEAEYGpHRQCmEiQ/BCAAAQhkI/Da10ozZhQC0PH/lltOuvzy4mzgUU4IQARgav9HAKYSJD8EIAABCGQj4LN/ffzbMcdIs2dLSy8tHXaYdP312apsRcEIQARgakdFAKYSJD8EIAABCGQjsOuu0i67SEcfLT3+uLTEEtKb3yx98IPZqmxFwQhABGBqR0UAphIkPwQgAAEIZCNgAeg/Rx0lPfGEtNhi0jnnSOeem63KVhSMAEQApnZUBGAqQfJDAAIQgEA2Arb+eRnYAtC7fxdeWDrrLOn887NV2YqCEYAIwNSOigBMJUh+CEAAAhDIRmDnnSXvBD7yyCL+n8O/vO1t0jveka3KVhSMAEQApnZUBGAqQfJDAAIQgEA2AhaADgZ9xBHFCSALLCCdcYZ00UXZqmxFwQhABGBqR0UAphIkPwQgAAEIZCPgHcA+Ds4C0GcAzz+/dN11xaaQUU4IQARgav9HAKYSJD8EIAABCGQjsOOO0l57SYcfXlSx0UbS2WcXy8KjnBCACMDU/o8ATCVIfghAAAIQyEbAAnDvvYvYf06bbCKdeWZhFRzlhABEAKb2fwRgKkHyQwACEIBANgI+BWSffcYE4GabSaedVlgFRzkhABGAqf0fAZhKkPwQgAAEIJCNgM8B3m8/6dBDiyqmT5dOPrkQhaOcEIAIwNT+jwBMJUh+CEAAAhDIRmD77aX99y9O/3Dackvp+OMLUTjKCQGIAEzt/wjAVILkhwAEIACBbAQsAA84QDrkkKKKrbYqzgW2KBzlhABEAKb2fwRgKkHyQwACEIBANgKveY30hjeMCcBttilCwvhno5wQgAjA1P6PAEwlSH4IQAACEMhGYLvtpDe+UXrTm4oq5puv+L9jAo5yQgAiAFP7PwIwlSD5IQABCEAgGwELwIMOkg4+GAEYQ0YAIgBTBx0CMJUg+SEAAQhAIBuBV7+6EH8IwHkRIwARgKmDDgGYSpD8EIAABCCQjcC22xb+f7YCOrEEXHBAACIAUwcdAjCVIPkhAAEIQCAbAQtAh4CxHyACcAwzAhABmDroEICpBMkPAQhAAALZCLzqVUUQaATgvIgRgFNPAJ4j6SxJT9jS7Y1Okr4oKWx4f7mkq30etqRHJV0v6bzSyPO/fWqixd2dkmZKurdmdCIAs01bFAwBCEAAAqkEHPbl8MOlAw/EAhizRABOTQG4naStKwbN4pJ+JulGSedLWlPSrZIul3RV5/pTJR0raSdJ90myoLTnhK+1qCwnBGDq7ER+CEAAAhDIRqAc9w8fwAI1AnC0BKA3wV8iaUVJT3dG2/GSjpO0Ruff90u6UtI1nX8vIOkhSSdL+hgCMNscRcEQgAAEIJCBwNZbS0ceORb4GQGIAAzdrBMSMkOvm5gibbE7pWOts8XuO5LeJulXHWG3Tse6F1o3XdJtkpaSNH9nWdg/uz1q/ixJ93TKxQI4Mc+VWiEAAQhAYAACPvrt6KOL4+CcEIAIwKkqAF8q6S+SHpS0gqTLJG0maX1J75G0mKT4BMS1O/59K3cE4AOSLBJ/Go2zm20tlnQEFsABZh+yQAACEIDAhBF45SulmTPHzv5FACIAp6oALA+yaZJmS9pN0s4dcWf/vqFaAGfOnKlp01yVNGPGjLl/SBCAAAQgAIGJJmABeOyx0utfP68F8C9/kRa3Z/wIpVmzZsl/nObMmaNrr73Wf/UKoI08I5em2hJwnQB8bccieGnJB/CEzqaPbj6AD0s6CR/AkRsb3DAEIACB1hPYckvpuOOeLQBvumnMKtj6mxzgBtgEMvU2gewj6euSHpH0/M4S8CslrdcJC+OlXe8CvrCz8eMWSVdEu4DtP+hdwLtI8oaQsyV58/xa7AIeYISRBQIQgAAEJpTAFltIJ5wg7bdf0YwHH5RWWUX62MfG/AIntIETVDkCcOoJwM9L2rzj6/dnSd/qxAW0mHNaV9J1nTiAXhp+r6QLSv3vXElHSlpC0h3EAZyg0Um1EIAABCCQTMAC8MQTpX33LYp66CFppZWkj350LDZgciUtLAABOPUE4Hh3Q+IAjjdx6oMABCAAgcYEpk+XTjppTAD+/vfSC14gffjD0sEOjjaiCQGIAEzt+gjAVILkhwAEIACBbAQ231x6y1ukfewgJemPf5SWX1764AeLM4JHNSEAEYCpfR8BmEqQ/BCAAAQgkI2ABeApp0h7711U8ec/S8suW/z9qaekBXzcwQgmBCACMLXbIwBTCZIfAhCAAASyEdhsM+nUU8cE4GOPSUs58ImkG26QDj00W9WTumAEIAIwtYMiAFMJkh8CEIAABLIR2HRT6a1vlfbaq6jir38di/937rnSOT4/awQTAhABmNrtEYCpBMkPAQhAAALZCFgAnn66tOeeRRVPPCEt5jOxOumZZ7JVPakLRgAiAFM7KAIwlSD5IQABCEAgG4FNNpHOOGNMAP7979IiiyAAEYAIwNRBhwBMJUh+CEAAAhDIRmDjjaW3vU163euKKubMkRZaCAGIAEQApg46BGAqQfJDAAIQgEA2AhttJJ11lrTHHkUVTz4pdY6un/tvloA5Czhb55viBSMAp/gD5vYgAAEItJmABeDZZ0u7717chQXf/PNjAcQCiAUwdVwjAFMJkh8CEIAABLIReMUrip2+QQC6ovnmQwAiABGAqYMOAZhKkPwQgAAEIJCNwIYbSuedJ732tWNVxALwJz+R1lorW/WTtmAEIAIwtXMiAFMJkh8CEIAABLIRsAA8/3xpt92qBWBYFs7WgElaMAIQAZjaNRGAqQTJDwEIQAAC2QhssIF0wQUIwDJgBCACMHXQIQBTCZIfAhCAAASyEVh/fenCC6Vdd8UCGENGACIAUwcdAjCVIPkhAAEIQCAbAQvAiy6SdtkFAYgAnLebRXuBsvW/qVwwAnAqP13uDQIQgEDLCbz85dLFFyMAWQJ+dkdGAKYNbgRgGj9yQwACEIBARgLrrSddcom0885YALEAYgEc5lBDAA6TJmVBAAIQgMBQCay7rnTZZdJOOw0mAN/3PukPfyiCSU+lhA8gPoCp/RkBmEqQ/BCAAAQgkI2ABeDll0s77thcAF55pbTpptIrXzkWNHqqHRmHAEQApg46BGAqQfJDAAIQgEA2Ai97mXTFFf0JQAeKtu/g3XcjALM9mElQMD6AaQ8BAZjGj9wQgAAEagl86UvSdttJiywCpEEJvPSl0rveJc2Y0dwCaAHo3cM//CECcFDubciHAEx7SgjANH7khgAEIFBLwELk0kulU08F0qAELADf/W5phx3GSrBV8H/+Z+zf5eXdcFScfx7/fdA2TMZ8LAGzBJzaLxGAqQTJDwEIQKCGgMWHY9idcQaIBiWwzjrSVVfNKwBdVnweMAJQjw3Kt835sACmPT0EYBo/ckMAAhDoagH0L6faBoTxfORrry1dfbW0/fbz1rrootLf/lb8DAGIABzPPjlV6kIATpUnyX1AAAKTjkDd8uNTT0kLLjjpmjspG2QBeM010mteM2/z7Ff5978XP/vqVwtfS/P+9a+lF71oTBiyBDwpH+tQGoUFMA0jAjCNX+ty2yn6H/+QVl1VesELWtd8GgyBVhGIlylvvlnabz/pU5+S9tlneFbBP/5R+uY3pb32ahWaxo1day3p2mufLQBjC6AL+8//lDbbTPLPQ5oIH0BvVtl7b+nwwxvf4kAX4gOID+BAHSfKhABMJThJ8//5z9Kjj0ovfrH09NPS734nrbjivH4z//ynNP/8k/QGaBYEpgCBWAD6dixIHJD4ggsGE4D2hTvzTOmvfx2Dc9RR0vvfP1h5bUC85prSe99bWPjitPXW0n/919hPbAV8xSuk5ZabOAHouIPf/vZYCBpbKBdeOA9lBCACMLVnIQBTCY5D/s03l17yEulf/7V5ZS98ofTb3xYvBX89H3ts8ff4hTRsAThnTlH+c57TvJ2T9Uov0ZnPQgtN1ha2r13uf+95jzRz5ugsfw5bANoP7mtfm1fsHXmk9IEPTG0B6NM8Xv3qefv85z8v7bHHvAJwgw2k5ZefOAEYnnccgubOOwthOuyEAEQApvYpBOCABD2oPciH6cfzi19Ia6zR3aG5SXNvv12yaAwWB0+IXiYqC0CLnAUWqC7xL3+RPvxh6bjjmtRYXLPSStLqq0vf+lbzPBN5Zbd73G23Yknp8ccnsoUTX/dDD0nuJ6uskt4WW0Pst3XXXZJf1OOZTj65sICfcsp41jrvB1cYj2edJb3jHYMJNvvB/cd/zJt3qlsAPSfawlkWgF/8ovTa184rAL1cHPfV8V4CrhKAX/iC5Plk2AkBiABM7VMIwAEJeqDbsnbMMQMWUJHNE7sn+HhHm3e/HX/8mJhrUtutt44dnF6eAGOLxJNP1gvY664rLDVNdy96mTmIyaZ5mtxLzmue+1zpkUeq73GqOo73y3OxxaQnnmjeD7qV73Jcnv1Q/fE0aHrnO4uwKv30s7rn+ctfFv6wKa4QLvueeyQfWRan3/xGWnnleX/mNr/97dKFF46131xmz5ZWWKE3EXP70Y9GSwB69eP666Vtt52Xz223SVttNfYzW0Y/+9liXg4pnv/MuVtAbn/seWn9+c/v/Rzqrgj9zLEL7723+ABAAA7Os1dONoH0ItT99wjAAfl5YPtF9Na31hfgSd5fqd/7Xu9KHnusuM4OxPGLrVusq7pSZ80aOzapmwD0km3dcm28bNy79dIPfiBttFF/QrVJuTmv6SbypoIAtMXNzz/lFIphcrjvvsKVwcdz+ZiuQZMtQbbODkMA+v5sXTriiLHWOOiwxZg3bFQlu1c4tt9BBxW/dRne1PFv/zbv1XYf8BiLUzwefb3zefPGZz7T7H6qnsfRR0teIu2HR9wmC0qLlf33H/SJDDffLbdIu+46dj9eVfjgB6VXverZ9Xz0o2PPwXOtVy0+/emx67zhLbhxeK4rP4+4xLJ11YLRvtRe2WiawvOxJfInP0EANuU26HUIwEHJFfkQgAPy80C/+GLp9NOLAsrLq/6ZQxE4JEE8Mf/855Itb/5CjJPLe97zpD/8obAGLOknUwp26sloiSUKq52dwYNl0Nd5idfJVq2vfGXs2KRuAtCT47Rp1QD6FYB33CFtsskYiwGxZs9mi19wEp8oAegl+vXWm3e3YrjxZZctnu0b39gbxZ/+JPn6urThhtLDDxcbgKqSfUT9kvMSW10apgC04Amiys+hW9u73b2FgHe99iN46u7DPz//fMnLsiGFa+ss5P69BYoFR7B8L7VUsemqPKbL9xGPR49j1+G+8P/+X7P7qboPr0J4k0Q/POJ2eS768Y8Hzx+XZSuaN2O87nW9+2/dFV4e9/MI92MBeOON0jbbPDvH17/+7M0h8VX+oPYHcUihzJ/+VPLmkvgD29ZaW23DNd7JazH5q18VVuImKZTnDx3P9VgAm1Ab/BoE4ODsnBMB2IVfsGpVTaxlAeh/e+KLY1VVTdbhZ7F4dBPiieg735GmTy8aFv/c/7ZV8W1vK34Xt8tLa16CtSXR7QjHJnUTgA6iWrdDzc76J5zQ/KXg+/HuxHK76vB6p9xHPlI4r/dKYenQLxff56DJX+Q+VcAvbXMNbD/xCWnffecttZvwcf63vEW65JJ6Ad2tjS7blmNbkEOyGLNPotvnF88nP9n9Lu+/v/C37GbF7SXe/MHxv//b/Rn3KsP+gYccUlhe6vxJw53cdJP0hjcU//Lz32KLwZ5k2P3Zj+DpJgDPO6/YmRv6blgO/tnPqsWxy/Jz8lFktrzZArfMMpIFeZzKYzeUH34eBGAvxqFMLyXuvvuzx1iqAPS9eGz0w7PuycXL8+7PtpL6GLx+nnWZx2qrSR/6ULUA9BnB9u+sS57fQqzAeG5yHf5QjoNLxxvnfG38/JqyCXncZlu8EYCDjfGmuRCATUlVX4cA7MLPoRr8YqgTgK9/vfTxjxcFeKBbNMWbJroJwHgyKk823/3u2CaO8kvEfjBe/qrL77bWCUBb6TbeeOyGu/nE7Lhj8eXcdOLzRO/lGCfH4uq17L3LLtK//3vv8m3Z/Jd/KQSXRY/D2gyaLKy33LLY1GCx0m2C7/ZStoV26aWLZbOyJbeqbRZpZnPooWN9xS9tl+H+4niM4eXjKyxGLUq7JfvR2cJX9wx///uxOI91z7CJ8Oh1TbDq2XId776sanvM2/6uZaf+ps/Vfl/2/2raN+PxVc7jNp17rnTOOUXt3vkdNnaVl4ZD+5zHlnh/jPi+/UFga6atmnHqWdNEUQAAIABJREFUJQB97U47SfbZLY/nKhbu+7ZGla+1r659dvvhEco/6aTinN0m9Td5Pl5m9fhyW2w988dMv2WX+5z/bYuvhX85XXllMTc0TW6XP6Lth+llfm9ycrIVOPQBX+MyXXZI7nOed70UbcFZtzkstN2rP/YvRQA2fTKDXYcAHIxbyIUArOEXrEV1k1fVJOUNGw63EtKgAjBMdraSOK5UnJoIwGCVCG2vehH5d90saq7nG99o/lJ585uLr/SQer2MegmLMkP/27ukbfUaNFlY2xIRwjIMKgBtZfWSn5ftfCh9rxTfaxCPfmkHZ3Wziv3F4g+LurK96cB+dLayLL74s69qYr1o8gx6XRM2KZmF/Z667YqP2xRbXxzLzX32Yx/rRbL4fYi11quPxaXV3Yd/HlsAvSQb3CLsYuHl+HJyHotXLz+GZLeC4IZR1XfjcVE3HrttynJ+72L2kn4Y1+6H9t/zR2idALRV0mLHYqbK2t+knzR7KsVVMedhCEBbxv1xZB/JqmXlK67ob2d32VUn9KEyh7pnVDW/ffnLhZD3vBL8oL0T2e4/CMB+ek//1yIA+2cW50AA1vAL1qIw2Va9BOLfeaD7uCK/2MsvgPhFVTfhxj+35c1LuH75nHjivDX75355ltsVT7xNJzO/QGzJqEq24v33fxcC0MLOzupVQiPk9SkHsRN5r5dzL2FR9RKtW5JrOgTK4XH6FYBe5rTDvpfGzSRYAL2UbvFy2GHVLQn12LrkmG033FD0kyAAy8eCBQfyqtK8S9EWRQsmL7l/7nNjy4Lx9XX3FvJ7ybLJMwjX+J7dJ8obBUJIE9dt/z73g7oUt+nyy8csN+5bPh2jV58J5VrEW8zH11sQewdoWMrtNV7j/hX7ANovNggl+xoGa3u43n5d9h2zRSgOQmzrp62Bdc8g/NzPrs7v1oIy7HQNbg/x5pLyMw3hX0LZVfwsYi3SL720WIqt41KeT5qOqbryzMZW6H4tgPajdN8M7QmuDmHDTLm+WGQ2aXMTAehn3M0vNmbl8RTmRX8U+gMvfh4IwCZPZfBrEICDs3NOBGANvzjEgJcJyiEayi9P/zuEhbGD8YEHSl5ydfISUdgk0UQA2iJhJ3Nb4Lotb3gy8zK1HZ39cnYqi4nyhBffridbT1pVKSzluO32ibLw8Uu6Lnk518u68eTnv3//+2ObQ+K8TcSHry9/ids3LrxU+u36FrSBU92LIJRZ1T7/7LLLxl6kwY8v7EQML2BvugjH7cX3YNFjK4EtNrEA9IaPsHwe6ndbw6aa+D4d39FC1sLd1j/7UFYdOdWrn5V9Q8ss/eL1M/dSc0g+Yis+gaLq+XQTcXGbvDPZIsepXwFo/1i7GLgu90/76lr4eSm113J32e/VbYoFYDm0SLk8xzB0UF/3Iz+HkIIAtHCwOPW9VW0c8Lj+0peqe67FZtjp6qXe4O5gK5g3J4S+69xul/tNHBze1r4gnkIN/oD0h6Q3VgTf4apxGMrsd0yVr4+fseeLfgVgiFnqcv1s3Q+9ocJlVR11V44F2Kv9TQSgV2CqNpzEZYd+EZ87XK7bKywWh01cOnq1u+r3xAEkDuAg/SbOgwCsIegv2NjnpMp3KJ40Y8FQ9kvxy8ovbvuExD5sdZbBpg81TGbxcpS/+O2LGFI3AVj1wgj5LPqc11ar4NzvDQNeiolDZvh6v9A8UdtKFNcbltNsnbEA9maB8pKLBYbb4SXQKkfxqqWYqpe8l8YcG85WurpU3qnc1AIYBLxfwLaknHZaUUPY6WdroJfAQ7vCbkL7CsV+RLaQuU5byWIBWNVei/+ql1A5tIjLtx9XtxdxVT/rJQDt/2YLUznVjYP4udfxj3n7PoJzfj8CsOzfGm8+isdjHQ/XGZ/uUhaA5f4WNgyF8rzkWhXD0Btq3Ac9Vjz+4h36Tcdz/MztBhD8QP0h4A+pOPk5eEONN9aUfx7/233QGyVsebbVuGk/qWtzsNAFjhbE3phiC53nuJifN4TEURK6cfBcYYthHDfR49V+sh5ndUvAnnv6CbLsD+Z4x3fVErAt8P6I75ZCvliol6931IYgyN1+c0qJN1kuHwGIAGw6t9RdhwCsIePTLOIXcAj7EC6vsgCGF5AtPfFyiwOUxruDq16WVUKn18MNL3GfkWmneqdNNy2WbkOyb1BdsGr7LMXnZsb1hfZ4Ug6BUW3x8s7XXiIgcPByl1+2fnk5TIVDOVRNuFU8ypy7veT8Oy+/e0NFNwuUrW9hE0w/FsD4Zez7j2M/WiDb/8fL8t3uzW20D5OX//xi985RM6lLsTWo6rmEn7k9QZCGn8VBucOzKPP0i/bBB4ufVjEbVACWBVNd22MLoLl4KTu0w8LGz8p+uOVUFu1BPNb1obBxKLx4qyyAFgX2k3Mqj0PHLHRIJvuh2b/Ry/7lgM/O548wWyDd323BDxsK6p/ws39ji2HY5NFrPjArC5+yNbH8LMNmBl/rXcRxCv513cZfuZXhtCLPCxa9oZ32ffZSc127u41L1xGCY8f1eR6zgLJV1cv78bFv4br4o64f1uFaj1+Lem+o6ieFzVf+qPeO36pUXv1I2fhUVT4CEAHYT5+tuhYBWEMwnMoR/7rOkhK/OHyNrUSxSPCLwSKhnEJ5O+88thOwnwcaRIzjiNnK5uSXlX37mqS6nZv+cg0x2uzzFXY6W2j43poKQC+FeuncS2X2bYpPlGhq2Wt6XVkA2p/KAtS7mUMKy3f+d1MBaJ+eeJk8tmq4HC/3hZA9vQSgl8i9c7QcMLjqWcX+YPHvyzy8ozGE3wnXhfNiw797WZqrXs5eWrbVKE6xQAk/L7fHVmLHooyTRYMFn0VUSBYPFhHlsVP177r7d7tDrLaqe/WSpwM2+09gFO+adn4Lw3h5tE7AhGtsGVp77Wc/MW/IsWCx/6DFjK8fJPXqQ/F9VrXVAtXLqGFHdhDI9lksH9EYYn1Wsatruz8awlFrsaUzVQDayuewKXGyuPN8Zp9Ln/sbH/vWbUz0w92WR28se+CBfnKN7foOwc2rcpeXkr1ZxO46w0oIQARgal9CANYQ7CU86iyAFju23oSlj24PqOlkX1eGl2Hq4vg16RgWaLbuebnbIsYWDi9XB0HjMuJNJ54oPeG53eGPX6BVrGxpCSdQhCVwl+d8VUdkhd+V293rOVig2TfNFitbAP1FH7cpFjeDCEB/3duKFFK8C9s/805th5ZxCjzrRIRZWkz2ivHnsuLjo0J5XsIrL8tW+XaV6w/PytZP+8uVU1MB6B3P3u3r5Dr8Ug5x6UKZQdS5r3hZ3P5nvtaCxOIwTo4/5wDEIdmfzda/8tiyL5Vj7tm6Hd+bf+br/VxD6iV27cPo/uJkf1n7ugaGDtNjK3VdctkhhEjVNe4n7i/2yfTRZYMk1xFvhOjWlrp+Zk6eh7xcbt9Ijz/vnI43rbjc8NFUxa6uXosxb5JwstUssPfYsyAc1AIYYlLG9doKbF9X11m3hB364iCsnccfie6rwRreTzl+Vt0EYLksn3Dij/1hJQQgAjC1L01ZAeivXfukVO24s8+ZX1x+eXjpzv4Z5VQ1kcU+c3UC0OXEFoduDyhVANqi5Ell0BQ2t/hewmYCC8LybsZQvv1x/HJyu+1rZ58+L59UHevleFkh7l1YOnY5zuty4t1y3V5AvQRg+H1YBg+7HcvPx3XEAtC+mF6+qas75LcltBzgN+ZtkROLhrJlMb7WDv5+0TWxAIYlr/JybvlZWxTaydxiO3wMVAnAOL5duYwqAVi2DpU5uY6qpU73KQsQi/zwvHstZ8btCZuOQl7/3+LCYqXM1sLA1u74pJNeAtAW7eA3F3b8Og6gRUCv01e6PVu30wLLljb7sjqKwCDJdVRZX6ueWR1X34utrvHvqyyAIdh7t/HXbV50n/OHnpPnWt9znY9b/FzcFz2PxO4njoUZPh5CnRaAtmg6xmi30Ej99K/y/bgPmFfor/08M99TWBJvks/xFmM/6SZ5ul2DAEQApvahxgLQoSv8xR6sHakV587vSaF8XFqoMxyVFqw7tmp4ac6iwJONT6iomlTiQ+zD70PIlvj6psIsVQCmMvSk53Mu3fYwOXWbTMPystvtJZ/40PVubbHFJez47HZdlRCpao9f4CEcSfn3dpj3UlwsAC0q/MfL5N7BWZXKdYf85dAOKcxtQfNyfbdQKaH8EN4lxPurq9cfOLZihA0pvq5KAAZrV5N79zUWceWNB/553GfNsmxR9Ng5+OCxWnyvfnk3TfEu9lBXOGmkSoA5Nl4I5us6LAotRCwuqvpOHK8vhPCwT1+wbPbqnyliowkD32Mcx7MuTzcxGp9CEfJXhRaq6ie92tjt/v0xGkcCiMvyh5I/Cp2qAuzHMQ5DPo9j90Mnf6zHO57jslOeiQWsBWDch3oxCL/vVwDG46dpHd2uQwAiAFP7UWMB6EEWopunVjqM/PEh31Xlub1Vsa9slbKQseAJAtBLn/a5Crt+6yZXb+ZwOAI778eTTi/LQLdJ3L9LmcBSWDpUjcOPNBWA8cTXjwBs2kZb5CwU49M16th4yddLbVUWh9gy5Wfj6/wBY7HSRACGIwCbtruf6w444Nk7N6vye6z5ZeqlryoLa1Weug8KL9nZf68u/lxT4R2/wOqei3die2duSPa9s0W8aYpf+qFdYRNOvKsylFcWgOHnVaF14v7rv/tjth9LXdWSd9P7anqd+TnUkIVwt9SvAKwSH3UCMMQX9MeHrfd2XQiWq5S5KjxPzzuOmxlOJrIfnpfiu6UwV9XN9U35lq/zfGMBGAJs91OO76fOJ7SunKqx1k+d8bUIQATgoH0n5OtLAFZNInEDvATisBRevmqSLKQsyOpeTHVlhA0a3QaTJypPpKecMlaKv/Js8QopCEBPPl4yjp35u0109s+KHZIHFYCOOeaXUMqk2oTzoC+Sunx+SXsJ2DuMcyQLFi8RO6p+NzbdBF1ol5+NdxF6qaZbsj+lrUDxUXk57m3PPatdDurqcpuqdp1WXd/NotzNXzQeRx4j/uNl0Sr3gl5Wa+9+97gLyUuDvY4FjO/FHxZe7o3nGo81x3vzR1s5MPogz6jXPQxS5njn6TXnVAWcdh6PWS+1+iOpTgCGn3szkf0I4w//lLmqLACDm0gcaaCOY/ns7Pi6lDZ57rcAHSTZ19t926K9aUIANiXV7DoCQddzOk+SzyawyLtTks+ouLd0eSMB6E4bLC3dOnCISxVfE4Lvhp85cGYIkOqB6y9BW0X6SSFERdWOQ5cTnJvLITLKxwbZ8ucvbQtQ79hqKgDLbe01GXe7N4eZqIor1g+PlGsHabs3MXh3Ye7Uq23247RVpltqKgC9GcFO7fHB8bnvr0n5/QjAIJqqXojxppyq/ht+tsEGkvtkXbLPnT+WHBapSXJYFFvrm6Y4PE6YM0KYmKZl9LrO5XbzieyVfzL8vtfSumNTeuk8TvF4qhpbIUxJVf8ZhmgOZYT3hK3yPj3HPrYh6kAdW2+2qooT6uvr3BVCWeM1XzXpFwjAJpSaX4MArGblQ398Kq2Dj3hzvY86P8guMpI68ffnZmwkAGNH9H4FYNgsEE8gttz4ZeuJxn9cvp2Cw6HqvR5/EIC2pvgooHIqL8+G33c7N9Jxu/xV7NRLeJTrix3Xe7W9/PuqnZ39lpFyfZOv73L5jmPnoMa5k63JDmRbl2w99YuhW+r3Wea+p37Lr9tkU1dO3f16qSvsfi3njce0l8PiXc/9tjf1+tiv0OPKcfEcfqjbKTT91un7LZ9d3W8ZE319vAGjqi3ehVw+IcbLlfYF7DbH1fWfYQlAl2MB6NBSoY2PPFIfjzTcm5fq4+gE8T3bWh3m7ioW3nTljVKTISEAh/sUEIDVPB244kobwzq/XkDSQ5L8Oo2PXJ8rAKdPn63PfGZJeSdWVYodyLt1YPsq2W8kvsZO4W96UxGN3ss3sW9eEGrxxOS6wskTdV0lCEDH1vMRZE526PauNpvjBxGAcV3+Evau0qapfPxa03y+zk7pngAnKpWd9pu0w+IvnFLQ5PqJvKbtAtA+mr12p8Z8fUqLd5GWk8eHNzpVJYfAcOw+7yJOWU4b9nP2BivHTYtPuhlGHe4T9jONQ9AMo9zJVIYDz9tnuS51E3o5LICOx+l4qLbwlk8k8UpOiFtY195uAtAuOeVwRPZjDPUgACdTzxxuWxCAz+ZpUfeopOmSotMqNUuSwwVHXnGFBdD/rbnmkpXH39iXxLHPgrN08Fureoxh4ogFYIhEH87K9DX2C7LlJgi98lFm3r3bLYWwEF7CDf4bHuQWJuWJLW5L+YSOYXXFbge8D6MOO9X342fST52OgRZOQegnX1uubbJM3JZ7SWmnzw12TLW65KU4uyJ4bE2WlOKf1e0evJnEcfEcYmRUU50A9HF04TzimI193bxqEx+j1w87x7+zT2mVuHTYKYdH6pYccN3vjboUl+uPJm8aCT/zu8GbPIYZgqWfe4+vxQI4KLnqfAjAZ3NxvH3HNV9HUnyi4c2SfEbEEVGW/xOAXg2u6pwWCPHZiQ7xUD5v1V/Sju3mHXlOoRxb6Bz93MnhNDzx2pfQzv0e0GHzhyccTzxOnmTKoSU8kB1Y2ULIx5fFX4uhLlukvFuwmwC0c3r52KxhdEdPLj7xIlcaxIrleH7luFqhfd2Oh8t1D5Q7sQTsu+fd76QiILU/apuEfpmqvAaZU1JYeEe7j62rEoCO41i3+hTq9Bzb7Zq4XG8u8RJ/+JnfDd5IFALTp9xHal4EYCrBefMjAJ/NcwALoPeHTJu7RLvppjO0//5j59WUz5v0cq4djOPUazeZr/Xyk19CtvrZz8cWwDAgy47i5UESWxar6vIEcv75RXgW7yD1rs+Q4rK8KaTJCR39dtEQALbffFXXx9H143vod2kunEpQVcd4T/7D4EIZaQSaONqn1dAst/24/PE3kamJxWki2zcedY/3HNBNADa5317CKT5JxL6FtmiHOdM7yL1pqd85tEm7qq6pC03ka3vdR686Z82aJf9xmjNnjq4tgrEu1THu9Mo+5X6PAKx+pFU+gA9LOqnKB3DuKrCWnLss4iVeh8ywM7iTz30sH5PjnbzhPEhf00QA+rpwJJgtgN51u/ji1Y23mPOypM34Dpwblj+rNlv0msjiAed4ZD4fdNipbtlkkHpC6IU4r++h352Q3fxqejEbpN1tzePA3//yL21tffva7eDj8ZnAE3EHXsHwh+xkT8ssU6ya5EjjPQc4lIw/znvF+6u7117CyR+84Z1l3z/HzwzvJb83wobDflkOcqxf05BL/balfD1xAIkDWNeH7OfnXcC7SLIYPFvSgZK8B+xZu4CDAAyF+aQMCxEvIVaZ3f1F5d8Hf5CmAjCU74Fqq1lYMq66ibIlz9f87GdFpP+yOOr1ZecdhHvtJcVL0k0Gn/M53EmvyccbUYZ1xmM40qx8j73OKS3fj5fK7dhflcZ78m/Cutc14RSSXtf1+3v3ZVu5SeNDIGXH/Pi0sL9amowl+755N/NML7R0UhP/xqkkAH3b3gh4kk0QA6Rec7CLDKeJ2MXFm03KPuk+JcjBp/tJnnf9rvK7p1fywQN2MerWJ5rcR696wu8RgAjAbn3lXElHSrLrt7t9bRzAOgFoy19s6QuVhSj7oTOXBZi/Wu0T2EuYdWt8lQB0/LFwWkfI22QC9pKwB3C/7bG1wgLYm03GK9k3yQFG4+R7dGBkM22aui1zNWHWtJ7xuq7XmbyDtqOqTw1aVr/5bOW2j21I9n21L2lOf9J+2zjs6yey78UxBnvdl2PLOYZpr9TkfsrzpF1hHNz7AXtqd0nh7O1ebRjk9z75yJvvxjN5Wdax/wZJTYSTA/v7NCG7AnkXcFkAxrEfbSF0NIleyQGoHWImnLNt657DKflDppx8AIJXahCAvagO7/csAaexnGcTSCjKLgYWWnVOsyFWV50AdHBen9voAJyDpioBaMvhfY5qGKUmE7AvH8TvJz4rd9D7qMq39971cc3iDTEhb+DsANq9XhohT3kJ2Evu22xT/LYps0HueZhn58b1Vz37QdpXzlNnkfJB9HZVyJm8ucrnopafc78fKjnb2KRsB3N3bLcmKWff61V/HBqk17X+4HJfrkrhBKEmY2mPPcZORgrP1TEZfS60xUq3lNMC2Ov+J9vvmwhAh0Cy/1953o7zhmfgc65tEeyWHJ7Mc643LnrDoq2Xjk1qFyXHjY2Tf+f51c8bATh+vQcBmMa6VgB6F9Vvf9u9cHd0d/jyaQz9vBDqaqgSgFXX5nyh2AJqf6Vhv5C9HF0VwNr3Z+Ftq1ScwgTmSPhNHejLS8B33VXssG7y0hq0S/mYPb80/+d/Bi2hPl/V0vgwaqnrP/FZ01VW2X7rdiBah6OI09lnFy+TkOo+qPqta7yvd5+0VaTJiTY5x2uv+/YGNFuB4uTlf7sBlFO3dnoj2Tvf2WwsWeSHZxwiFYTzrr0sHFI8PsPPJsOGmV5Mx+v3TQSgDReON+iYl+6PVWHJws9uv13abLNnt94Bqv3u88k5oc5gOQyuRBde+OzQWb42xCNEAI5Xr2AJOJV0pQD8zGckn7LRK9V19GFYa3yGr+P29Uo5Xyi5BGC382C9Ecc+J7HoDBPR5z5XLDE0SWXLlgN0e0ONUy9m3jHnkA39prXXLsL59Arp0G+5vt4BgTub3wbJXpunjkX8816nLjRpUNXGg/j0mfBc/P+VVy6sGKnJy1bjcbRdiNHW5EOpV98b5J7t6+oPnkFSnQtAt3Y69mjYzBBfV9WOWAD+8IfFR5gFoMdKbM2v+uCd6FOCBuGZK08/AtDiLQ5qXmUBdFzbqqPlfK2XfH26SMjn/9sK6I92z90OR3bmmfPeqa/xnOkPirq+YzeWYQb9xwcQAZg63ioFYNNCc0zmoW7vEH788Xlb4i82f7nFKWcbggD0ySCOrD+s1E0A+qvfk1OVAHQsrG4bZ8pc7AwdHM+bHAMV8g960oePmfrJT+Ztu59h3W7vfnhOpADsp51113qnsXccx8kvGf8JKbxwqk5LGKQNwxobvcrxx4V92poKQN9Lk2ub3nPwvep2fTh3tnxNnSWolxUnti55E5jDnMQC0GLP5yrHAtBnLPtnFoD+wPX4DMmuLWEXa/iZV2BsVY+Tlxq9mWKYqdfzHWZdTcsqW2abCEDHnPVGPwfmt0DvZgGsEoDBwlcWgKG/BgHozR72DSzPt56fLfAdlqyqf7t/2DVnWAkBiABM7UuTVgBW3Vh8Tmj80hzmyySuNwjAus0wg8K/+ur6Excsch0up0oAemJpskEgTFTefWhrnuM22rfwxS8uWtxrwo+XuPq9x3LZ8b/j48h8QozPZm6a/IL1/VSlsEHEYX7KX+a9ym9iAexVRpPfVwlAv2hiX6LwkvPyYurJLwccINkVozw2vBzpped+Uq/+Etod6rKV2qKsKpWv7acdddfa8uJ+3i15Ga/qiMkqXzBHN7DltGpe8fKf+1hZXPj0Ilu+HYzeyaeM2M/PfTI8y1gA2j/aQfVDqhKAZuUPqnUc0r+Tqp5FldtIzKLbDnovdzpwcq45tOq+mjzz8lnGTQSgj5pzNAY/a1vsugnAqv4Q6gjzZtlyGOZV+wF6/opTuX1VPB2rsC44fxMm5WsQgAjAQfrNPHNDOArOcQD7Tb1eDP2W1+v6qnNzc4bxCALQ7RrWBOnjjLxLLfjjhXu+6SbJL207Jnv3YZUAjMPyOJD2lltWEwuTUZgQDzmk2G0arAm9npu/Ur3cXD5Mvtfz8e+rBGAIvxP/rl8B+KMfST5ruiqFU08cEzUOtdHt2m4v1PIuwnI5fja20sUWnG5svJnEQdbjM32POaYIGeH4aHFb/HcvMYZTcpowr7qmbAXpdr/d6vBuWFvJuvX/sqhzrE0Lpao0LAFodwZbHp0ctmqHHbqTqtvs49NAbL2MU7c22spka3SVuHAZ4ejLYL3zZriwQSYWgO7P8dFmVUvAoR3xh188hhyv9SUvKU41KUcOiO+n28Ysjxn3xWHNb+Wn4I8+C9Cy72W3p+UxYZHtTR3h466JAAyW2HCt/W69YSf4a7rO+LmV77lbHb7WrlH+uLEF9uSTq/tM+GkVT39sbLzxoCP62fkQgAjA1N7UKgtg6s32mz9FAHqC8JdiOdn64kkkFoC2FPhF5EnDVk7vQO0mAH3WpZeLqnxYXF9ZAFrI2RIRjtDrJQCbvqQfffTZoWmc1z5hrst/dwgeL3n5j5dAbF30iSyBj5e0bb35wAe6Px2X5ZdpLKJCDlte/JJsYgly6AeHgOgmiCzG99+//qVoIW5BEVtjLZi9IaoquTw/V/t9xfXGLyRvNooDrqe+kOueoX/uAOu2DjZJoRx/aPk4rapUrqtbiI2mfatX2+KYcra+9Trnta7PV/28WxvDMqGfT3B5iNvqIPkWMBbxFnx+7uFZxgLQfqUeE77elklfUxXjNBYUL31pYVkM5dmfzB/FdRtZQt5uArAcM68X935/b388i55+zl229dgfoRaAwXrZRABWWe7K7U0RgG6Xx7hXLryEH6cqC6CtkP6A8oqOU/BN7Jdh3fUIQARgal9CAHYhGMIJxC/qpsDLAtBWOC/FegnOgscvBqfjjiusSV7msYXOf3d8uDjkS9kS4GUVCx5bAKtim4Xr/XV/7LFFMGv7QPlFYN8k79ZsYtFx+faViZN32YXzncsvz2C97MbI1iGL0WABDKEVegmeJgLwqad6x2x0OT4F4iMfKVpZJQAsjmyNrWuT88QxxVyOY/iFZ1q+f+8s9NJglagPPzNn+3/GL/w6jt6h7NiUjm0ZLw9WvZD88onL7VeAxS+2bjziMdLt9IR+669jEB9t5xdyeUmunK+bALRY8w5t7xwNwqNuzAcrkFmEzS/luuId5PHvggU/WGfj35WXekPfDNfcfHNheXRomPCgVNBWAAAgAElEQVQcHG/V+WwFjM9HL7eniQWwKrSJP0qqNiPZYmi/aPsVVyXvdnYbbYHrdipG3bO1NdNHh1o8ea7w2GoSUix8pPSy5FWNez/3usD5oS/4I2/33ZsJQLvy2N/Tll4EYLc3QtrvCAOTxi9JAE61qP5llCkCMHbWtqO/fb3sC2TB55iEtgCGcAVVj/Dd7y7iTlk43nhjcYXb4x2ithpYMNhKZYF3zTXzllAWgF6CsgC01cHWxdgqUVV3yG/h4MnLbfESppN9bLzUUp5ELUr9cvKfbskWUMe+CwLZL27v9u4mAG09sPXDS17xOc+ux9Ys57VlxhaVJkLSfk/hPOsqYWALayi3jo/z+Qs/pKowHuF34WjFKgFoXydbOnwEY7yk30SghxdTt2dYXk7uV4B1E4Bhd3S4xrta/eFitu633doV7q/XiRgWuhb2cSrfQ9mnNowJW4TsOxrGsQWerTBVZVW1teoZONSHLW4WcanL9HGd7uN1S9HltoV2OVahLWTd+oF/1y2gtNmZ13veM68V1f6JX/tadSgw8+9mEXZ/tx+l56p+3hHBgm9x32seqXpewcKaQwB6F78/Cv3Mg2tNk34Uh+6qEv7dZ8vuv8UCiAUwpf84b5IA9JdgUz+o1IZORP5uAtATnL/065IFk4WTk8VfvNvTk6I3BXiSrXvR27/Jse8sFkMKy0tul31j/EKzqHRYgqrJKFgAbfGyo7eXmrzU7CXnEDTV+crx0cIE6q9Y+yP6xR5OhIk3Y8TiKThe93pOXq4zG/u/+eXlnbF+UTQVPOZhn7+Q3DZbTt2WsJTWrQ2+zhaqcCJBlQC0ddDtamrxcn11mwxspQuitUoA2tposenwOSFQd68Xej9WOYun+PzVYQrAsFM/lOlQLLZE2UJsS3FVKtff6yzmKn/Cchl2H3B/Dsnnwtr3y7sy45BEPonC4yAkB0cvnywUtzl+Xh5DFgHBPaBXP+/3974nW5fimIR1Qia0yzvsbSnr1V883uuWYMPHicVJONrT5fkINK8yVG28cruCv53nIH94Vc0/4WdV46hqV3834daUZ69VgLol4F4WwHL95Xuqa3ssAIdxf3E7EIAIwKbjou66JAHYpPLJGsvKy6D+YnSq+0KOBWAQX+Ge7cAdTPsxB/sFeWnEPkkWO05lAdiEW9U1trJ5uccTs5crbB2xs7SXSaomYFsGbXEMO/1+/OOxJcNYBMXLui4nTFT23bHF0By8HOQUx7OLxVM4cL3XvYWlU79Y4vOT4wnVu+VslQi7VcsTp4+xsjh2KjtW27/SSzXlZAudLXbeSOITIcIxUFUCsBzXzgLOTvpOsa+el9Z8rFdgVvWiCy9YX1MlAL306LA7traEeypfW76XfgSgn0u8+zUWT+U4hFXPrltdbq+Fa7DQBXFed8xYsPbG9+e+aQt3ndWw7LMZ98/A03n9MWUh4g8nf1D4OXnJ1X0pJPeBeJm+1ws5fl7BOnX88WPjuldf7/f3bo//2CLue/J4rUre0W/x6vsNpzV5h78DS9vaX/bvtAh56KHi9+Vk0W4/wnKfswXXm6G8ShF+72tsmbOFzhtvLOI8B8abWeLnE+qqGhc+DclzQbxbvNfz6Jdn1fWxAPS5wOE0kNwC0O8C951hJgQgAjC1P2UXgJ5AHJSzKgRDSuPLYQL6LSvsoHPbPInan6acYgEYJshwokOVAPSmCPsI+aUWXq4WI35RDiMWXlgC9aRt0WoB2M1C4penxY43o5QPYY8FYDnESpiIwxKwNyf4perkl0jYuRqLp9TJuyyO7PcTjmKrKjtc7+vKO6rDsmoc5DcuwzuFg+XaPw9niPr+7H/kF2z8QozDmsTl2BIZLLQxC+969jKRk61RIfxONwug27rVVvP2wF4WyFC+l/GCtTmUENrp/8dL1bEAdBvd1m6pTgCaiX0bLf6CFcrLzf6YsLi3iC6fNWuxEE5fCPcWrHc+PcbL/OVUFoC2Ztpa5WTLlvOFJfs4b3z0YfzzqmdQd/++1mPXO+g9ts3KH3Zl1v3OPanXB/Fl/7pgtQtL257P4uftuhxc3vNP8N2N64+FT8wmfJCULci22nvpOcRGDZb/MFe47PJ4revHttDGG6lS55AmXGMBGAJzO5/HcTc/ynLZ8T11W/3wfOJx8NWvDjeWrNuDAEQANunz3a7JLgDLUdlTGxzyNwn90K2uEM3fE6MnUe+o8zJnHJ2/LAAtZu0DYt87W20sBuPkCcwWEYdl8MTqXX3+Wh5Wcvm2GLleW3Z6CcAQCNqWwHJ4FB/fF3at2q/JOzxPPbUQruGF7lAWPq/US6wWSU7xGcM5BaDriifrugm4mwB0+xzA20Ilntz9JW7RFF5WtkKEk29sfQkbCkL9/QjAYCEMp3lYMNsvLr6f+CXpJXmHNKmyoDYRgC4rCF7fl325yi/hUI77Y+y47z7fzfG9rhz/vIk/U7n9sbXWv7OgsrXK7gyxddrlBwt9+NALm4b8IRksjrb62ZUixGdrMs76EYAWKBY8Hg/+QHQ7wwahJnXlusZiwmFv6p5Bmbs/LOxyYd/FcrIFe4kl5u2fsTtCWQCGPhHmudBvg0tLuc/433YjqTp2LY4LWpUvB794TglHt7mepi4soU2OXuD+0US0OmSXrbB143nQ+0QAIgAH7TshX3YBaD85iyZ/NXsZxV+Ow0jlI5wsUnqdXRzXG3xFPDHZN8jLQ/aZi5cXYx+bqjaHF2/4XZgM/vKXsUl1GPdaVUaw7MTnLputfXLCkoxFjkVBiPVVLse77PxSDv5rtiba2lFO8fJ3WfR1E2n93HvVi7lb2UHcWtCUw2d4x6RFet3kbB9EL8mEpV4LCC9JOfmZuj84hfotlMOyclxmbEEIXCz8gs+kLaf+e7CeOgyM2xuLzG6MykzqeNjNwrvBHSbH/oS+v/i0iDoB6I+TeHmv3BYL13jZMDj+BytQr+cb6vVSrK2lYQNSYOud0V7+dZ+1BSZerg1HF3pc2uXBViwLFZdp0eHkj8vg12fLV5PUjwCMy/Nyq4Vg2EXfpK5c19g6t/32hRCuWlkJ9xjiptrP0RbRKveIKgtv/LOyADRvjxGvQlikhzk37ktV485zUq9TnJqIqVSm8RgKR7e5zH7r9hzvOcQRGyYqIQARgKl9L7sAjL9S7eTsr65hpLLvSbxTtUn5Fj3+qrf1r7w824+oGfSF0qSNva5x3SHSvq2BtmrGKewk9kvUIQnKyfftr/AgXnwyRdUpEVUCMJyI4OVzL0X1O4GW2xI4hg0YQSTUTc72kfJSu33z7BcZJwsEWwbrgq56B7IFktnZsukQE8GaG+K8uTy/1Gw5tMi29SRYieO6/CK0FcXl2NpovyhbUr3pxzxjy0IIINt0I0FgYuHjOnoJQI+1vfYqhGDYHRpzjHeUh/srC8A4qHC8yzTcs9sQP6NufTS0NxwHGPdD/85WdIv1uOzw9xAY2eIvbPrxs7DosAAaNA06Xi02LVQngwAsL7+WWdhPz0vW9vuzpcouDV6KNH9bu70LP6ReAtC/93MKYVjqnr37p31i68Zr+NiM2xp/TNblG/Q51+WLx1DYyDJedQ/7XhCACMDUPjWuAtDLjPEut7jxDvBrX56mqXy0lq1dFgLBp8kTjpce6lI3wRJ8i5qImkFfKE3vs8l1boO/sG3RilPYBFJ3H/Fk6M0dXgaNhUMoKz6D2GVZkNhSagdqCyOHpEk95NxtKVucugnxsGwbLMxNOIVrHMTVseMCF8ctC0d4xQKwnzKbXGurgfk2XUYM9+8Xq1/odTyCr2fdcw47EcsWoyoLoMWCl/fqXopug3mV3R+q7j+01+LJHwpBcPvaKgHonach5JE/Otwf3K+89OpkgWv/Nn/sDJoGHa8hnE5s0R20Dan5wipF3fMOFsLgY2droV1mQqpj0G28hd/VhWixyPe8ULfaENfpdnhZ2qs4gz6PQRmG+KpmF/zzwlnWg5Y5UfkQgAjA1L43VwAef/xsvec99UfBOdiolxq8pFV27HYD6nbEll8i3QSgB6R9oewT1SR5GS2Oxu4lQW8a8JKurS9+2XY7a7abuPPE5GU1W2p6pTCBxc7pvfIM+/dug61OPqQ8ThZH//Vf9c7Hg1g6y9xs4fLPUl7KQRDYB9Mv/pD8/PzCL29g8e/Dwe9NRHqZt1m5/4S8YcnY1/XjTzbIczTz+HiwbmVY0Fu8eenOm4ssTi3Qyn57vQSgWXkzUHkXaPABtJC3K4BTfK5sFVu3PwTE7XX/cf8K1qhYhFx22bxjOFhNw7xha1uV5bpXvd1+nyI46gI8p7RnkLx+jt5YVNf3LVbDTnfPS95tH4dzqWPg+dOW87rnHiyJVW0OS+ThtIzyNWUBGJalPRa9G9dhmXy6Ue5kC73FsO/Rc5c/OAY58jJ3O5uUjwBEADbpJ92umSsAd9tttr74xXoBGE8IVY7jXv7ybseqFOetWwJ2flsHHAi16ZFBjq8W+375JeglP09i9hdyfDzvbq1LgwiHqrLCxObdbH7JTUQKlp3yJNurLf0IQPtx+sUyLG5VL4hgFejVbv/ey7y2dPQ6A7aqrLIADLH4fK1fRmH3cZN29HuNLddeUotjrvUSLN4gER8jV77ey3KOU9fvswkheWw9t6i036SfgT8anKrK8wYEfwQ22dUfNhpVleO+5I+GuM/anyyEG+r3Xpo+hxQB2LSOyXSd79cf3n4WIdUxsCC3X1vV6R/233OIK0cfqEp2A7GVt+7joDw3OXxV3XnROfnFAjBnPeNRNgIQAZjaz+YKwC23nK1vf7uZAOzmOO4lAFve4tREANqS58mnHwEYgr2GumzG91KZrUjBYmLLhl/ocXIdtjIO6wUTJjaf4uDTHNqU+hGA3kziuIl2Js+RbF328mjwI8pRRyjTwtEi0D5RTmFJrc6pPmdbhlG2223RZv+9fpP7gOO9eQncvmP+eAr9OHWMzJpVhIXppxzn8UqAfddypNDnbVm2AJ7qyfdr1w5btkPKIYLDErmFZtWZ0XGd3qnuOJ/9frAO41mFTUP99Mlh1JujDAQgAjC1X80VgHvvPVuf+lQzARjCIZQrdngST9p+gcQpHmghbEM5r5f67JjvF1jwP+p1Y3E8Ol/r5RlPKLZUhZhL4cgvhzbxz+xj5Jh4tjIOawIIk1iVw3yve5jo39t6Zi7DYvH/2zsPmMuKKo7/7X0xWMCCJnaMJUaI2Ltrwa4xdmNUEBV1VcC1i34UFQUrUSRR7F2xbBRbxBILimKvrD2Krr2Amv++Gbh7ee/d9+6c+/zmfr+bkJD93pw35zdz7/vfmXPO/L/9Kfl+r2zPy4gtsb2e23r+Om7LBYS9uuMtZ69S+gXLsWMlVx8BWPJ9i7S1X95q3EgCMJ+3nfk4492CMB8Dtwi3rs/k1eQuAejVdr+g5wLWXXaj/+54VGel51qm0fZXaQ8BiAAsnW87BeDa2g5t3ToRgF4dcTbjLBE3TQD6h9PZkL6ab3XO1PTWVL6cKWYB5uzI5pXFU7NA7zzHvAppW82bONcG87ZSLqrroq1+22xWzM+rjFGix/469s4rSrVd5uTjx6JY1OY//Z3cr46BdDKPy5y48HFJlm2TqWOH9957/c0vh4Y4fKRZKmesc8ExtQ5PaZ9b7HFvluUp9d/PEIvqLgG4bL290n6NuT0CEAFYOr93CsDjjtuhgw+eCMCcsTdLADobsX1Qd3OLoWt7oVl7KX+Ht41dksS1zJx80XX5YZMDofNnHRPmf2+ed+s3X5dCaQocb/96BdBxWBGX++4fznb1/Qjb2IDA0ARyZq7vWycLHHnk5Lg8rnET8Av0tIz/Eq89h7oEIC+bJYR3bYsARACWzqadAvCss3Zo990nAtA3qLMUXZYlX82bdtoKYLN+XN72ybbaHWz+vS0ADzhA8tFQzcsPFMf1NY/7miYAcx99ckU+emuaACwFRnsIQAACEDg/AQtA13mdduLIMvHGsF2MAAIQAbjYTJn9qZ0CcMeOHdptt/MEoD+eb9icUJFN+CiwZsV+//va2iTrNl9+AHilb9rbngPMnWnoeLwTTpi0yCdu+GxSB+k2s2mzDW9juChsFpbtFcBp3+Wzc10extvOXBCAAAQgMBwBBOBwbKdZRgAiAEtn3FwB2DwWK3+RT45on5xxxBHSYYed15V5b3uOxzvooEncnOPzXAqgfeTatG3kQw+dtHGxZ58S4JW+fD5tFoWlMGgPAQhAAAL9CCAA+3Hr2woBiADsO3dyu5kCsMtwU6Q5bsgCLV8WaY4t6or3cOkWxxu1BaCL9OakimzDxxf5mDJvBbtYaS47kL+z67u6/OHvEIAABCDQn4DrsPp4tfYOkS3mCg88p/vzbbdEACIAS2fTLgJwzz0lHx+0yNUUgC7d4mzSfO2//6TyfNfNnrME2wLQJQpcqsBXtpHP4nSZilNPnfytK+FkET/4DAQgAAEIDEvAxcN99FrXb8KwvRiXdQQgArB0Ru8iAJc5zWKe+HI2oeP5um52/z0X4W06ks9MbQrALPiaJVcQgKXDT3sIQAACwxNwabFTTun+TRi+J+P5BgQgArB0Nu8iAJ09O+tIt/YXzRNf+czfLgE4r/PT4gj9b7lotNvmw7zbQrEUCu0hAAEIQCCOwJiOYIujUmYJAYgALJtB0rkC8IwzNslbwLmESpdhx+45hm+a+HKlddfa87J/32uWAGwfNn7UUZMElBKx2bePtIMABCAAgW4CPurzkEN4TneTWvwTCEAE4OKzZfonzxWAm5asCnrggdLxx08XgKWdcvtpAnBa8dL99pN8UDkCMII6NiAAAQhAoAYCCEAEYOk87S0Am1m4Q4ivRQuH5tNDhuhDKVzaQwACEIAABIYggABEAJbOq94CMJ/96A4MIb4WFYBnnjmJCzz22FIUtIcABCAAAQjUQQABiAAsnam9BeCsbdrSDuX2iwrAqO/DDgQgAAEIQKAWAghABGDpXC0WgE7tL0n2mOXAaadJZ58t7btvqYu0hwAEIAABCIyLAAIQAVg6o4sEYOmX0x4CEIAABCAAgeUJIAARgMvPml1bIABLCdIeAhCAAAQgsGICCEAEYOmUQwCWEqQ9BCAAAQhAYMUEEIAIwNIphwAsJUh7CEAAAhCAwIoJIAARgKVTDgFYSpD2EIAABCAAgRUTQAAiAEunHAKwlCDtIQABCEAAAismgABEAJZOOQRgKUHaQwACEIAABFZMAAGIACydcgjAUoK0hwAEIAABCKyYAAIQAVg65RCApQRpDwEIQAACEFgxAQQgArB0yiEASwnSHgIQgAAEILBiAghABGDplEMAlhKkPQQgAAEIQGDFBBCA4xKAt5X0KUl/SfPoApL+IOlqjXl1WUmvlnQPSf+R9GFJT5S0o/GZB0g6PLX7qaRnS3rfjLmJAFzxTcvXQQACEIAABEoJIADHJwA/KenCkv47Y3JY8F1E0oM08f0dkv4q6T7p8zeT9GlJD5b0IUn3lnSSpFtJ+toUmxtWAG7btk2bN28uvQera4/f1Q1ZUYcZ7yJ81TVmvKsbst4dRgCOUwBeVNI5U2aFVwK9oncjSd9Kf/f/fz2t9v1c0hsl7Sbp/o3275X0e0mPRQCeR2DLli065phjet98tTbE71pHrl+/Ge9+3GptxXjXOnLL9xsBOE4BaCF3MUnfTFu5n01T416S3i7pkq2p8g9J3vY9Oa3yeVXwqMZnnpkE4T4IQAQgPxDLP2hrbsF41zx6y/ed8V6eWa0tEIB1CMATJT0ybet627Z9ecv2DpL2kHRFSWdIuoSkAyW9SJK3dU+X9DBJL5F0pZaBX0vaIumtkn6YPnN84zO2479fZ5YA3L59uzZt8m7wxrm2bt2qtbW1jeNw8hS/N9aQM96M90YgsBHnuQXgXnvt5eH1rt+fNsI4t32cJqjWGwev2F18Tqf+LenPM/7umMDPp0SOeSuA3vJ1fKDj/JZZAbyKJK84ckEAAhCAAAQgUB+Bq0r6RX3dLu9xDQKwxMtTJH1R0rNSnN9PJN24EQPo/7fou3oSco4B9FKet4TzNS8G0PyuPEeAlvSdthCAAAQgAAEIDEfgMpJ+OSdxdLhvXgeWxyQA7yLp+5J+llYMD5B0hKRbNjJ4ndnrLOCHpizgt6WyMfdNY+HtYpeScRawVwSdBfwmSbeekQW8DoaQLkAAAhCAAAQgAIHlCIxJALpenzN1d5f095QE8kJJn2kgcR3AV0naPyl+C0LXAWzu/3s72LGDXhV01vBWSe9fDiufhgAEIAABCEAAAuuXwJgE4PqlTM8gAAEIQAACEIDAOiKAACwbjBdIekyKG/yqpCekLOQyq8O0dvFr989xj5dOW+E+DSVfron4Skk3lfRHSa+XZP+aV5e/ETaivXcYgE9+8YquT4nxivAhreSdiH5H2Ij0/bmSHiHp8pL+Jcnz8zBJ39gAY55d9Ak+DuO4kyQnhPmKGKcIG5FjbVvPk/QcSX9L4S0uhu8dDoe7jNnvzPHmaedm31QH1tUgXMB/rL67lm3zlKsLpeoXDmf6wIjnucfT1T5ekap/uO7vdyS5XFsu+RZxf0bYiL7Hw+0hAPsjfUbaPr6bpB+lB7B/cF0uxg/h9XbdOW2PO6v6DS0BaEHo+EknwXjb3D58VNJLJR2bHOnyN8LGEMxeLOndKSTAvr9W0vUl3SR9WUS/I2xE+35tSb9Nxxz6dJyDk/B1GSSLg4g+R9iI9jvb8734EEme9/7PAjCivxE2hvDZAvCOkm4zxXhEnyNsDOG3bVr8fSQ9j32vuzKEX2S/PPIxb/J8UnoBcEarRdFYn+f2+T3pxdZi18e9PlXS85MgPnvkvofeQwjA/jh/LMlHYTim0JffwJxN5JqBb+lvdvCWPjPZP4ZOhskrgK6z6OLXzmjO/2bB4IeKhYSvLn8jbAzufFoBdea3Y0V9BnREvyNsDOm7C6M/XtLL0tuzT7aJ6HOEjSH89o/g59IK0JmNFcCI/kbYGMLneQIwos8RNobw2za98vMlSX5JbV8R/Y6wMZTv2e63U6y6Y9Yj+hthYyiffXrXCWnHyt9xqVSJw0mce0s6eoP8lhXzRQD2Q+hSMd4m9ZunHzz52pZWmp7ez+xKWk0TgBayvnG8mpkv++YfURfJvOAC/kbYWAUAb/+6uPc10pdF9DvCxhC+3z29jHgMLexf3viRjOhzhI0h/PZ9+M70I2G/8xZwRH8jbAzhswWgnzveffB/rn/q8ldOZIvoc4SNIfx20X/XgfXLze0kXVOSy3059MMlvCL6HWFjCN+zTR+E4Dlv3/3CE9HfCBtD+ewqHU749Aq/X2a96PLotO3tcd8ov2XFfBGA/RB6hcE3mifa9xomfNScM4of18/sSlpNE4DeEvZblG+sfF0vxTO6VLoFYJe/ETaGBmAh4Liw+0n6ePqyiH5H2BjSd2e/+43eRcu9feIros8RNqL9PijF/W1OhpsCMKK/ETaifbY9hzVYCG1Ppx351COviDjm97gR398uxm+ff5Nifb065LhPP4v9rHOM9tifbe9Kpc/uOfJ7O983jn18naS7SvKW71mSvB38hRE/14Z4ZggB2A8rK4ATbs0Vz/X8xui+uvTPm5MQ+mBj2CP6HWGj30xcvJXvdcfLuKalz8mO6HOEjcU96P6kV3W9am3hY1Hga6OsALbpOA7MIQ4WBV4JHuuqSH4WH5lKdmUOH5N0WjoXfqy+21fH9Lr2rU+6ss++Iu7LCBvdd+zyn/BzzEe2+ghYr/z5pcfPdtfrdfzro0Y815en1dECAdgf6bSYuF+lgNTaYgAdMN+Om3hyCqqeFwNof5+SzlEuseEg3iGZORPSsZoPlPSJ1pCX9LsG37O7TgSxIHh42hobo99e5fQ53l6Fz8+2yyW/fcSjt0XzeeA51nVM87w5tbMAtDCwSBjz/f0DSV4Fc/xbWwA6Q3TMvjv5wefcX6vh+xjv7eyeY7d/l5L4mhUNXOXAq75eCR7zePdXLFNaIgD743S8jYtIu8SIxaDLbvhGvO46zQL2Nq4TP7wt4gxfH4FzTioR4i0Sb2U7C9hZsxZ9PgnFcTU5C7jLX2cJltroPxqzW3qMnNnslZBTp3wsot8RNqJ9dxKPH4jOBL5CGlcfcejVED8kI/ocYSPSb58Z7h+I5uVtb5dA8pa/t4tK5+h68zn76pcbJ3c5JmqPJHRdBuWGSQyP1W/777nuEkeOYT493eue+14R+u6Ix9yJh179c0kUV2zIV8QcjbAReW83bbkEjl/mnpZKe/k32C8AXul25veY53ooUwRgGU6/ffnIOYupr6zzOoBeHTmxceahx97lQG6fsuhuIOk1qXyCV4pcLuXwFp4ufyNslI3I+Vt7pcdlIf6Z/pT99o9FFoQR/Y6wEem7a8Dtk4SeV8T8YLQQdgZ0viL6HGEj0u+2Lb/k5DIw/ltEfyNsRPvs2m/7pXg3b/U7M9Z1Af1yOma/M8dD0/PXCU9eEfSz6uSR++5Y5pMkOSbdcXDNK2KORtiInue252QXC95bpC1+h3tYBDszeCPM9TCmCMAwlBiCAAQgAAEIQAACdRBAANYxTvQSAhCAAAQgAAEIhBFAAIahxBAEIAABCEAAAhCogwACsI5xopcQgAAEIAABCEAgjAACMAwlhiAAAQhAAAIQgEAdBBCAdYwTvYQABCAAAQhAAAJhBBCAYSgxBAEIQAACEIAABOoggACsY5zoJQQgAAEIQAACEAgjgAAMQ4khCEAAAhCAAAQgUAcBBGAd40QvIQABCEAAAhCAQBgBBGAYSgxBAAIQgAAEIACBOgggAOsYJ3oJAQhAAAIQgAAEwgggAMNQYggCEIAABCAAAQjUQQABWMc40UsIQAACEIAABCAQRgABGIYSQxCAAAQgAAEIQKAOAgjAOsaJXkIAAhCAAAQgAIEwAgjAMJQYggAEIAABCEAAApnGgUoAAAE1SURBVHUQQADWMU70EgIQgAAEIAABCIQRQACGocQQBCAAAQhAAAIQqIMAArCOcaKXEIAABCAAAQhAIIwAAjAMJYYgAAEIQAACEIBAHQQQgHWME72EAAQgAAEIQAACYQQQgGEoMQQBCEAAAhCAAATqIIAArGOc6CUEIAABCEAAAhAII4AADEOJIQhAAAIQgAAEIFAHAQRgHeNELyEAAQhAAAIQgEAYAQRgGEoMQQACEIAABCAAgToIIADrGCd6CQEIQAACEIAABMIIIADDUGIIAhCAAAQgAAEI1EEAAVjHONFLCEAAAhCAAAQgEEYAARiGEkMQgAAEIAABCECgDgIIwDrGiV5CAAIQgAAEIACBMAIIwDCUGIIABCAAAQhAAAJ1EEAA1jFO9BICEIAABCAAAQiEEfgfU8e1wB+tJr8AAAAASUVORK5CYII=\">"
      ],
      "text/plain": [
       "<IPython.core.display.HTML object>"
      ]
     },
     "metadata": {},
     "output_type": "display_data"
    },
    {
     "data": {
      "text/plain": [
       "[<matplotlib.lines.Line2D at 0xb7db4e0>]"
      ]
     },
     "execution_count": 12,
     "metadata": {},
     "output_type": "execute_result"
    }
   ],
   "source": [
    "%matplotlib notebook\n",
    "plt.plot(traces['filtered'][1100:])"
   ]
  },
  {
   "cell_type": "code",
   "execution_count": 56,
   "metadata": {
    "collapsed": true
   },
   "outputs": [],
   "source": [
    "minmax_dt=np.dtype([('min','i4'),('max','i4'),('clock','i4')])\n",
    "minmax=Data.fromfile('minmax',minmax_dt,'teslib','measurement_subsystem_TB',tool='vivado')"
   ]
  },
  {
   "cell_type": "code",
   "execution_count": 57,
   "metadata": {
    "collapsed": false
   },
   "outputs": [],
   "source": [
    "maxs=np.where(minmax['max']==1)"
   ]
  },
  {
   "cell_type": "code",
   "execution_count": 58,
   "metadata": {
    "collapsed": false
   },
   "outputs": [
    {
     "data": {
      "text/plain": [
       "(array([  65,   80,  213,  507,  740,  860, 1219, 1336, 1576, 1731, 1935,\n",
       "        2082, 2096, 2124, 2160, 2246, 2411, 2511, 3215, 3974, 4189], dtype=int64),)"
      ]
     },
     "execution_count": 58,
     "metadata": {},
     "output_type": "execute_result"
    }
   ],
   "source": [
    "np.where(minmax[maxs[0]-1]['min']!=1)"
   ]
  },
  {
   "cell_type": "code",
   "execution_count": 59,
   "metadata": {
    "collapsed": false
   },
   "outputs": [
    {
     "data": {
      "text/plain": [
       "(0, 1, 2290)"
      ]
     },
     "execution_count": 59,
     "metadata": {},
     "output_type": "execute_result"
    }
   ],
   "source": [
    "minmax[maxs[0]-1][65]"
   ]
  },
  {
   "cell_type": "code",
   "execution_count": 62,
   "metadata": {
    "collapsed": false
   },
   "outputs": [
    {
     "data": {
      "text/plain": [
       "1365"
      ]
     },
     "execution_count": 62,
     "metadata": {},
     "output_type": "execute_result"
    }
   ],
   "source": [
    "2290-925"
   ]
  },
  {
   "cell_type": "code",
   "execution_count": 63,
   "metadata": {
    "collapsed": false
   },
   "outputs": [
    {
     "data": {
      "text/plain": [
       "1.5"
      ]
     },
     "execution_count": 63,
     "metadata": {},
     "output_type": "execute_result"
    }
   ],
   "source": [
    "0.375*4"
   ]
  },
  {
   "cell_type": "code",
   "execution_count": 60,
   "metadata": {
    "collapsed": false
   },
   "outputs": [
    {
     "data": {
      "text/plain": [
       "(array([129], dtype=int64),)"
      ]
     },
     "execution_count": 60,
     "metadata": {},
     "output_type": "execute_result"
    }
   ],
   "source": [
    "np.where(minmax['clock']==2290)"
   ]
  },
  {
   "cell_type": "code",
   "execution_count": 61,
   "metadata": {
    "collapsed": false
   },
   "outputs": [
    {
     "data": {
      "text/plain": [
       "array([(1, 0, 2166), (0, 1, 2184), (1, 0, 2189), (0, 1, 2197),\n",
       "       (1, 0, 2206), (0, 1, 2208), (1, 0, 2234), (0, 1, 2258),\n",
       "       (1, 0, 2273), (0, 1, 2290), (0, 1, 2310), (1, 0, 2321),\n",
       "       (0, 1, 2330), (1, 0, 2336), (0, 1, 2344), (1, 0, 2348),\n",
       "       (0, 1, 2359), (1, 0, 2369), (0, 1, 2379), (1, 0, 2391)], \n",
       "      dtype=[('min', '<i4'), ('max', '<i4'), ('clock', '<i4')])"
      ]
     },
     "execution_count": 61,
     "metadata": {},
     "output_type": "execute_result"
    }
   ],
   "source": [
    "minmax[120:140]"
   ]
  },
  {
   "cell_type": "code",
   "execution_count": 5,
   "metadata": {
    "collapsed": false
   },
   "outputs": [],
   "source": [
    "stream_dt=np.dtype([('data','u8'),('last','i4')])\n",
    "stream=np.fromfile('data/stream',stream_dt)"
   ]
  },
  {
   "cell_type": "code",
   "execution_count": 222,
   "metadata": {
    "collapsed": false
   },
   "outputs": [],
   "source": [
    "stream=Data.fromfile('stream',stream_dt,'teslib','channel_TB',tool='vivado')\n",
    "data=np.copy(stream['data'])"
   ]
  },
  {
   "cell_type": "code",
   "execution_count": 213,
   "metadata": {
    "collapsed": false
   },
   "outputs": [
    {
     "data": {
      "text/plain": [
       "'B4040600'"
      ]
     },
     "execution_count": 213,
     "metadata": {},
     "output_type": "execute_result"
    }
   ],
   "source": [
    "'{:08X}'.format(stream['data'][0])"
   ]
  },
  {
   "cell_type": "code",
   "execution_count": 214,
   "metadata": {
    "collapsed": false
   },
   "outputs": [],
   "source": [
    "event_dt=np.dtype([('rise','>i2'),('height','>i2'),('time','>i2'),('flags','>i2')])"
   ]
  },
  {
   "cell_type": "code",
   "execution_count": 215,
   "metadata": {
    "collapsed": false
   },
   "outputs": [],
   "source": [
    "events=stream['data'].view(event_dt)"
   ]
  },
  {
   "cell_type": "code",
   "execution_count": 216,
   "metadata": {
    "collapsed": false
   },
   "outputs": [
    {
     "data": {
      "text/plain": [
       "'0'"
      ]
     },
     "execution_count": 216,
     "metadata": {},
     "output_type": "execute_result"
    }
   ],
   "source": [
    "'{:X}'.format(events['flags'][0])"
   ]
  },
  {
   "cell_type": "code",
   "execution_count": 217,
   "metadata": {
    "collapsed": false
   },
   "outputs": [
    {
     "data": {
      "text/plain": [
       "array([ 6, 56,  6], dtype=int16)"
      ]
     },
     "execution_count": 217,
     "metadata": {},
     "output_type": "execute_result"
    }
   ],
   "source": [
    "events['rise']"
   ]
  },
  {
   "cell_type": "code",
   "execution_count": 218,
   "metadata": {
    "collapsed": false
   },
   "outputs": [
    {
     "data": {
      "text/plain": [
       "array([(6, 1204, 0, 0), (56, 1213, 0, 4096), (6, 1204, 0, 0)], \n",
       "      dtype=[('rise', '>i2'), ('height', '>i2'), ('time', '>i2'), ('flags', '>i2')])"
      ]
     },
     "execution_count": 218,
     "metadata": {},
     "output_type": "execute_result"
    }
   ],
   "source": [
    "events"
   ]
  },
  {
   "cell_type": "code",
   "execution_count": 206,
   "metadata": {
    "collapsed": false
   },
   "outputs": [
    {
     "data": {
      "text/plain": [
       "'1000'"
      ]
     },
     "execution_count": 206,
     "metadata": {},
     "output_type": "execute_result"
    }
   ],
   "source": [
    "'{:04X}'.format(events['flags'][1])"
   ]
  },
  {
   "cell_type": "code",
   "execution_count": 235,
   "metadata": {
    "collapsed": true
   },
   "outputs": [],
   "source": [
    "pulse_peak_dt=np.dtype([('time','>i2'),('minima','>i2'),('rise','>u2'),('height','>i2')])\n",
    "pulse_dt=np.dtype([('time','>i2'),('flags','>i2'),('resv','>i2'),('size','>u2'),\n",
    "                  ('offset','>i2'),('length','>i2'),('area','>i4'),('peaks',(pulse_peak_dt,1))])\n",
    "data=np.copy(stream['data'])"
   ]
  },
  {
   "cell_type": "code",
   "execution_count": 227,
   "metadata": {
    "collapsed": false
   },
   "outputs": [],
   "source": [
    "pulses=data.view(pulse_dt)"
   ]
  },
  {
   "cell_type": "code",
   "execution_count": 233,
   "metadata": {
    "collapsed": false
   },
   "outputs": [
    {
     "data": {
      "text/plain": [
       "array([1784, 1784, 1784, 1784, 1784, 1784, 1784, 1784, 1784, 1784, 1784,\n",
       "       1784, 1784, 1784, 1784, 1784, 1784, 1784, 1784, 1784, 1784], dtype=int16)"
      ]
     },
     "execution_count": 233,
     "metadata": {},
     "output_type": "execute_result"
    }
   ],
   "source": [
    "pulses['peaks']['height']-pulses['peaks']['minima']"
   ]
  },
  {
   "cell_type": "code",
   "execution_count": 229,
   "metadata": {
    "collapsed": false
   },
   "outputs": [
    {
     "data": {
      "text/plain": [
       "array([-613, -613, -613, -613, -613, -613, -613, -613, -613, -613, -613,\n",
       "       -613, -613, -613, -613, -613, -613, -613, -613, -613, -613], dtype=int16)"
      ]
     },
     "execution_count": 229,
     "metadata": {},
     "output_type": "execute_result"
    }
   ],
   "source": [
    "pulses['peaks']['minima']"
   ]
  },
  {
   "cell_type": "code",
   "execution_count": 231,
   "metadata": {
    "collapsed": false
   },
   "outputs": [],
   "source": [
    "peak_count=np.right_shift(np.bitwise_and(pulses['flags'],0xF000),12)\n",
    "peak_overflow=np.bitwise_and(pulses['flags'],0x0800)!=0\n",
    "channel=np.right_shift(np.bitwise_and(pulses['flags'],0x0700),8)\n",
    "timing_type=np.right_shift(np.bitwise_and(pulses['flags'],0x00C0),6)\n",
    "height_type=np.right_shift(np.bitwise_and(pulses['flags'],0x0030),4)\n",
    "event_type=np.right_shift(np.bitwise_and(pulses['flags'],0x000E),1)\n",
    "new_window=np.bitwise_and(pulses['flags'],0x0001)!=0"
   ]
  },
  {
   "cell_type": "code",
   "execution_count": 232,
   "metadata": {
    "collapsed": false
   },
   "outputs": [
    {
     "data": {
      "text/plain": [
       "array([ True,  True,  True,  True,  True,  True,  True,  True,  True,\n",
       "        True,  True,  True,  True,  True,  True,  True,  True,  True,\n",
       "        True,  True,  True], dtype=bool)"
      ]
     },
     "execution_count": 232,
     "metadata": {},
     "output_type": "execute_result"
    }
   ],
   "source": [
    "peak_overflow"
   ]
  },
  {
   "cell_type": "code",
   "execution_count": 249,
   "metadata": {
    "collapsed": true
   },
   "outputs": [],
   "source": [
    "test_dt=np.dtype(\n",
    "    [('time','i2'),('flags','i2'),('rise','u2'),('minima','i2'),('low','u8'),('high','u8')]\n",
    ")\n",
    "test=data.view(test_dt)"
   ]
  },
  {
   "cell_type": "code",
   "execution_count": 250,
   "metadata": {
    "collapsed": false
   },
   "outputs": [
    {
     "data": {
      "text/plain": [
       "array([(0, -26616, 0, 768, 12114965573155161344, 10593596624145810688),\n",
       "       (0, -26616, 0, 768, 12114965573155161344, 10593596624145810688),\n",
       "       (0, -26616, 0, 768, 12114965573155161344, 10593596624145810688),\n",
       "       (0, -26616, 0, 768, 12114965573155161344, 10593596624145810688),\n",
       "       (0, -26616, 0, 768, 12114965573155161344, 10593596624145810688),\n",
       "       (0, -26616, 0, 768, 12114965573155161344, 10593596624145810688),\n",
       "       (0, -26616, 0, 768, 12114965573155161344, 10593596624145810688),\n",
       "       (0, -26616, 0, 768, 12114965573155161344, 10593596624145810688),\n",
       "       (0, -26616, 0, 768, 12114965573155161344, 10593596624145810688),\n",
       "       (0, -26616, 0, 768, 12114965573155161344, 10593596624145810688),\n",
       "       (0, -26616, 0, 768, 12114965573155161344, 10593596624145810688),\n",
       "       (0, -26616, 0, 768, 12114965573155161344, 10593596624145810688),\n",
       "       (0, -26616, 0, 768, 12114965573155161344, 10593596624145810688),\n",
       "       (0, -26616, 0, 768, 12114965573155161344, 10593596624145810688),\n",
       "       (0, -26616, 0, 768, 12114965573155161344, 10593596624145810688),\n",
       "       (0, -26616, 0, 768, 12114965573155161344, 10593596624145810688),\n",
       "       (0, -26616, 0, 768, 12114965573155161344, 10593596624145810688),\n",
       "       (0, -26616, 0, 768, 12114965573155161344, 10593596624145810688),\n",
       "       (0, -26616, 0, 768, 12114965573155161344, 10593596624145810688),\n",
       "       (0, -26616, 0, 768, 12114965573155161344, 10593596624145810688),\n",
       "       (0, -26616, 0, 768, 12114965573155161344, 10593596624145810688)], \n",
       "      dtype=[('time', '<i2'), ('flags', '<i2'), ('rise', '<u2'), ('minima', '<i2'), ('low', '<u8'), ('high', '<u8')])"
      ]
     },
     "execution_count": 250,
     "metadata": {},
     "output_type": "execute_result"
    }
   ],
   "source": [
    "test"
   ]
  },
  {
   "cell_type": "code",
   "execution_count": 270,
   "metadata": {
    "collapsed": false
   },
   "outputs": [
    {
     "data": {
      "text/plain": [
       "array([768, 768, 768, 768, 768, 768, 768, 768, 768, 768, 768, 768, 768,\n",
       "       768, 768, 768, 768, 768, 768, 768, 768], dtype=int16)"
      ]
     },
     "execution_count": 270,
     "metadata": {},
     "output_type": "execute_result"
    }
   ],
   "source": [
    "test['minima']"
   ]
  },
  {
   "cell_type": "code",
   "execution_count": 262,
   "metadata": {
    "collapsed": false
   },
   "outputs": [],
   "source": [
    "low1=np.int32(np.right_shift(np.bitwise_and(test['low'],0x03FFFF000000000),36))\n",
    "s=(np.bitwise_and(low1,0x00020000)!=0)*0xFFFC0000\n",
    "low2=np.int32(np.right_shift(np.bitwise_and(test['low'],0x000000FFFFC0000),18))\n",
    "low_threshold=np.int32(np.bitwise_and(test['low'],0x00000000003FFFF))\n",
    "high1=np.int32(np.right_shift(np.bitwise_and(test['high'],0x03FFFF000000000),36))\n",
    "high2=np.int32(np.right_shift(np.bitwise_and(test['high'],0x000000FFFFC0000),18))\n",
    "high_threshold=np.int32(np.bitwise_and(test['high'],0x00000000003FFFF))"
   ]
  },
  {
   "cell_type": "code",
   "execution_count": 266,
   "metadata": {
    "collapsed": false
   },
   "outputs": [
    {
     "data": {
      "text/plain": [
       "array([-15870., -15870., -15870., -15870., -15870., -15870., -15870.,\n",
       "       -15870., -15870., -15870., -15870., -15870., -15870., -15870.,\n",
       "       -15870., -15870., -15870., -15870., -15870., -15870., -15870.])"
      ]
     },
     "execution_count": 266,
     "metadata": {},
     "output_type": "execute_result"
    }
   ],
   "source": [
    "np.int32(np.bitwise_or(low1,s))/8.0"
   ]
  },
  {
   "cell_type": "code",
   "execution_count": 269,
   "metadata": {
    "collapsed": false
   },
   "outputs": [
    {
     "data": {
      "text/plain": [
       "'21010'"
      ]
     },
     "execution_count": 269,
     "metadata": {},
     "output_type": "execute_result"
    }
   ],
   "source": [
    "'{:04X}'.format(low1[0])"
   ]
  },
  {
   "cell_type": "code",
   "execution_count": 243,
   "metadata": {
    "collapsed": false
   },
   "outputs": [
    {
     "data": {
      "text/plain": [
       "array([ 2056.,  2056.,  2056.,  2056.,  2056.,  2056.,  2056.,  2056.,\n",
       "        2056.,  2056.,  2056.,  2056.,  2056.,  2056.,  2056.,  2056.,\n",
       "        2056.,  2056.,  2056.,  2056.,  2056.])"
      ]
     },
     "execution_count": 243,
     "metadata": {},
     "output_type": "execute_result"
    }
   ],
   "source": [
    "high1/8.0"
   ]
  },
  {
   "cell_type": "code",
   "execution_count": 244,
   "metadata": {
    "collapsed": false
   },
   "outputs": [
    {
     "data": {
      "text/plain": [
       "array([ 1247.875,  1247.875,  1247.875,  1247.875,  1247.875,  1247.875,\n",
       "        1247.875,  1247.875,  1247.875,  1247.875,  1247.875,  1247.875,\n",
       "        1247.875,  1247.875,  1247.875,  1247.875,  1247.875,  1247.875,\n",
       "        1247.875,  1247.875,  1247.875])"
      ]
     },
     "execution_count": 244,
     "metadata": {},
     "output_type": "execute_result"
    }
   ],
   "source": [
    "high2/8.0"
   ]
  },
  {
   "cell_type": "code",
   "execution_count": 274,
   "metadata": {
    "collapsed": false
   },
   "outputs": [
    {
     "data": {
      "text/plain": [
       "'10500'"
      ]
     },
     "execution_count": 274,
     "metadata": {},
     "output_type": "execute_result"
    }
   ],
   "source": [
    "'{:04X}'.format(high_threshold[0])"
   ]
  },
  {
   "cell_type": "code",
   "execution_count": null,
   "metadata": {
    "collapsed": true
   },
   "outputs": [],
   "source": []
  }
 ],
 "metadata": {
  "anaconda-cloud": {},
  "kernelspec": {
   "display_name": "Python [default]",
   "language": "python",
   "name": "python3"
  },
  "language_info": {
   "codemirror_mode": {
    "name": "ipython",
    "version": 3
   },
   "file_extension": ".py",
   "mimetype": "text/x-python",
   "name": "python",
   "nbconvert_exporter": "python",
   "pygments_lexer": "ipython3",
   "version": "3.5.2"
  }
 },
 "nbformat": 4,
 "nbformat_minor": 1
}
