{
 "cells": [
  {
   "cell_type": "code",
   "execution_count": 27,
   "metadata": {
    "collapsed": false
   },
   "outputs": [],
   "source": [
    "from tes.data import Data,PacketStream,Packet\n",
    "import numpy as np\n",
    "import matplotlib.pyplot as plt"
   ]
  },
  {
   "cell_type": "code",
   "execution_count": 28,
   "metadata": {
    "collapsed": false
   },
   "outputs": [],
   "source": [
    "trace_dt=np.dtype([('raw','i4'),('filtered','i4'),('slope','i4'),('filteredL','i4')])"
   ]
  },
  {
   "cell_type": "code",
   "execution_count": 29,
   "metadata": {
    "collapsed": false
   },
   "outputs": [],
   "source": [
    "traces=np.fromfile('data/traces',trace_dt)"
   ]
  },
  {
   "cell_type": "code",
   "execution_count": 22,
   "metadata": {
    "collapsed": true
   },
   "outputs": [],
   "source": [
    "traces=Data.fromfile('traces',trace_dt,'teslib','measurement_subsystem_TB',tool='vivado')"
   ]
  },
  {
   "cell_type": "code",
   "execution_count": 30,
   "metadata": {
    "collapsed": false
   },
   "outputs": [
    {
     "data": {
      "application/javascript": [
       "/* Put everything inside the global mpl namespace */\n",
       "window.mpl = {};\n",
       "\n",
       "mpl.get_websocket_type = function() {\n",
       "    if (typeof(WebSocket) !== 'undefined') {\n",
       "        return WebSocket;\n",
       "    } else if (typeof(MozWebSocket) !== 'undefined') {\n",
       "        return MozWebSocket;\n",
       "    } else {\n",
       "        alert('Your browser does not have WebSocket support.' +\n",
       "              'Please try Chrome, Safari or Firefox ≥ 6. ' +\n",
       "              'Firefox 4 and 5 are also supported but you ' +\n",
       "              'have to enable WebSockets in about:config.');\n",
       "    };\n",
       "}\n",
       "\n",
       "mpl.figure = function(figure_id, websocket, ondownload, parent_element) {\n",
       "    this.id = figure_id;\n",
       "\n",
       "    this.ws = websocket;\n",
       "\n",
       "    this.supports_binary = (this.ws.binaryType != undefined);\n",
       "\n",
       "    if (!this.supports_binary) {\n",
       "        var warnings = document.getElementById(\"mpl-warnings\");\n",
       "        if (warnings) {\n",
       "            warnings.style.display = 'block';\n",
       "            warnings.textContent = (\n",
       "                \"This browser does not support binary websocket messages. \" +\n",
       "                    \"Performance may be slow.\");\n",
       "        }\n",
       "    }\n",
       "\n",
       "    this.imageObj = new Image();\n",
       "\n",
       "    this.context = undefined;\n",
       "    this.message = undefined;\n",
       "    this.canvas = undefined;\n",
       "    this.rubberband_canvas = undefined;\n",
       "    this.rubberband_context = undefined;\n",
       "    this.format_dropdown = undefined;\n",
       "\n",
       "    this.image_mode = 'full';\n",
       "\n",
       "    this.root = $('<div/>');\n",
       "    this._root_extra_style(this.root)\n",
       "    this.root.attr('style', 'display: inline-block');\n",
       "\n",
       "    $(parent_element).append(this.root);\n",
       "\n",
       "    this._init_header(this);\n",
       "    this._init_canvas(this);\n",
       "    this._init_toolbar(this);\n",
       "\n",
       "    var fig = this;\n",
       "\n",
       "    this.waiting = false;\n",
       "\n",
       "    this.ws.onopen =  function () {\n",
       "            fig.send_message(\"supports_binary\", {value: fig.supports_binary});\n",
       "            fig.send_message(\"send_image_mode\", {});\n",
       "            fig.send_message(\"refresh\", {});\n",
       "        }\n",
       "\n",
       "    this.imageObj.onload = function() {\n",
       "            if (fig.image_mode == 'full') {\n",
       "                // Full images could contain transparency (where diff images\n",
       "                // almost always do), so we need to clear the canvas so that\n",
       "                // there is no ghosting.\n",
       "                fig.context.clearRect(0, 0, fig.canvas.width, fig.canvas.height);\n",
       "            }\n",
       "            fig.context.drawImage(fig.imageObj, 0, 0);\n",
       "        };\n",
       "\n",
       "    this.imageObj.onunload = function() {\n",
       "        this.ws.close();\n",
       "    }\n",
       "\n",
       "    this.ws.onmessage = this._make_on_message_function(this);\n",
       "\n",
       "    this.ondownload = ondownload;\n",
       "}\n",
       "\n",
       "mpl.figure.prototype._init_header = function() {\n",
       "    var titlebar = $(\n",
       "        '<div class=\"ui-dialog-titlebar ui-widget-header ui-corner-all ' +\n",
       "        'ui-helper-clearfix\"/>');\n",
       "    var titletext = $(\n",
       "        '<div class=\"ui-dialog-title\" style=\"width: 100%; ' +\n",
       "        'text-align: center; padding: 3px;\"/>');\n",
       "    titlebar.append(titletext)\n",
       "    this.root.append(titlebar);\n",
       "    this.header = titletext[0];\n",
       "}\n",
       "\n",
       "\n",
       "\n",
       "mpl.figure.prototype._canvas_extra_style = function(canvas_div) {\n",
       "\n",
       "}\n",
       "\n",
       "\n",
       "mpl.figure.prototype._root_extra_style = function(canvas_div) {\n",
       "\n",
       "}\n",
       "\n",
       "mpl.figure.prototype._init_canvas = function() {\n",
       "    var fig = this;\n",
       "\n",
       "    var canvas_div = $('<div/>');\n",
       "\n",
       "    canvas_div.attr('style', 'position: relative; clear: both; outline: 0');\n",
       "\n",
       "    function canvas_keyboard_event(event) {\n",
       "        return fig.key_event(event, event['data']);\n",
       "    }\n",
       "\n",
       "    canvas_div.keydown('key_press', canvas_keyboard_event);\n",
       "    canvas_div.keyup('key_release', canvas_keyboard_event);\n",
       "    this.canvas_div = canvas_div\n",
       "    this._canvas_extra_style(canvas_div)\n",
       "    this.root.append(canvas_div);\n",
       "\n",
       "    var canvas = $('<canvas/>');\n",
       "    canvas.addClass('mpl-canvas');\n",
       "    canvas.attr('style', \"left: 0; top: 0; z-index: 0; outline: 0\")\n",
       "\n",
       "    this.canvas = canvas[0];\n",
       "    this.context = canvas[0].getContext(\"2d\");\n",
       "\n",
       "    var rubberband = $('<canvas/>');\n",
       "    rubberband.attr('style', \"position: absolute; left: 0; top: 0; z-index: 1;\")\n",
       "\n",
       "    var pass_mouse_events = true;\n",
       "\n",
       "    canvas_div.resizable({\n",
       "        start: function(event, ui) {\n",
       "            pass_mouse_events = false;\n",
       "        },\n",
       "        resize: function(event, ui) {\n",
       "            fig.request_resize(ui.size.width, ui.size.height);\n",
       "        },\n",
       "        stop: function(event, ui) {\n",
       "            pass_mouse_events = true;\n",
       "            fig.request_resize(ui.size.width, ui.size.height);\n",
       "        },\n",
       "    });\n",
       "\n",
       "    function mouse_event_fn(event) {\n",
       "        if (pass_mouse_events)\n",
       "            return fig.mouse_event(event, event['data']);\n",
       "    }\n",
       "\n",
       "    rubberband.mousedown('button_press', mouse_event_fn);\n",
       "    rubberband.mouseup('button_release', mouse_event_fn);\n",
       "    // Throttle sequential mouse events to 1 every 20ms.\n",
       "    rubberband.mousemove('motion_notify', mouse_event_fn);\n",
       "\n",
       "    rubberband.mouseenter('figure_enter', mouse_event_fn);\n",
       "    rubberband.mouseleave('figure_leave', mouse_event_fn);\n",
       "\n",
       "    canvas_div.on(\"wheel\", function (event) {\n",
       "        event = event.originalEvent;\n",
       "        event['data'] = 'scroll'\n",
       "        if (event.deltaY < 0) {\n",
       "            event.step = 1;\n",
       "        } else {\n",
       "            event.step = -1;\n",
       "        }\n",
       "        mouse_event_fn(event);\n",
       "    });\n",
       "\n",
       "    canvas_div.append(canvas);\n",
       "    canvas_div.append(rubberband);\n",
       "\n",
       "    this.rubberband = rubberband;\n",
       "    this.rubberband_canvas = rubberband[0];\n",
       "    this.rubberband_context = rubberband[0].getContext(\"2d\");\n",
       "    this.rubberband_context.strokeStyle = \"#000000\";\n",
       "\n",
       "    this._resize_canvas = function(width, height) {\n",
       "        // Keep the size of the canvas, canvas container, and rubber band\n",
       "        // canvas in synch.\n",
       "        canvas_div.css('width', width)\n",
       "        canvas_div.css('height', height)\n",
       "\n",
       "        canvas.attr('width', width);\n",
       "        canvas.attr('height', height);\n",
       "\n",
       "        rubberband.attr('width', width);\n",
       "        rubberband.attr('height', height);\n",
       "    }\n",
       "\n",
       "    // Set the figure to an initial 600x600px, this will subsequently be updated\n",
       "    // upon first draw.\n",
       "    this._resize_canvas(600, 600);\n",
       "\n",
       "    // Disable right mouse context menu.\n",
       "    $(this.rubberband_canvas).bind(\"contextmenu\",function(e){\n",
       "        return false;\n",
       "    });\n",
       "\n",
       "    function set_focus () {\n",
       "        canvas.focus();\n",
       "        canvas_div.focus();\n",
       "    }\n",
       "\n",
       "    window.setTimeout(set_focus, 100);\n",
       "}\n",
       "\n",
       "mpl.figure.prototype._init_toolbar = function() {\n",
       "    var fig = this;\n",
       "\n",
       "    var nav_element = $('<div/>')\n",
       "    nav_element.attr('style', 'width: 100%');\n",
       "    this.root.append(nav_element);\n",
       "\n",
       "    // Define a callback function for later on.\n",
       "    function toolbar_event(event) {\n",
       "        return fig.toolbar_button_onclick(event['data']);\n",
       "    }\n",
       "    function toolbar_mouse_event(event) {\n",
       "        return fig.toolbar_button_onmouseover(event['data']);\n",
       "    }\n",
       "\n",
       "    for(var toolbar_ind in mpl.toolbar_items) {\n",
       "        var name = mpl.toolbar_items[toolbar_ind][0];\n",
       "        var tooltip = mpl.toolbar_items[toolbar_ind][1];\n",
       "        var image = mpl.toolbar_items[toolbar_ind][2];\n",
       "        var method_name = mpl.toolbar_items[toolbar_ind][3];\n",
       "\n",
       "        if (!name) {\n",
       "            // put a spacer in here.\n",
       "            continue;\n",
       "        }\n",
       "        var button = $('<button/>');\n",
       "        button.addClass('ui-button ui-widget ui-state-default ui-corner-all ' +\n",
       "                        'ui-button-icon-only');\n",
       "        button.attr('role', 'button');\n",
       "        button.attr('aria-disabled', 'false');\n",
       "        button.click(method_name, toolbar_event);\n",
       "        button.mouseover(tooltip, toolbar_mouse_event);\n",
       "\n",
       "        var icon_img = $('<span/>');\n",
       "        icon_img.addClass('ui-button-icon-primary ui-icon');\n",
       "        icon_img.addClass(image);\n",
       "        icon_img.addClass('ui-corner-all');\n",
       "\n",
       "        var tooltip_span = $('<span/>');\n",
       "        tooltip_span.addClass('ui-button-text');\n",
       "        tooltip_span.html(tooltip);\n",
       "\n",
       "        button.append(icon_img);\n",
       "        button.append(tooltip_span);\n",
       "\n",
       "        nav_element.append(button);\n",
       "    }\n",
       "\n",
       "    var fmt_picker_span = $('<span/>');\n",
       "\n",
       "    var fmt_picker = $('<select/>');\n",
       "    fmt_picker.addClass('mpl-toolbar-option ui-widget ui-widget-content');\n",
       "    fmt_picker_span.append(fmt_picker);\n",
       "    nav_element.append(fmt_picker_span);\n",
       "    this.format_dropdown = fmt_picker[0];\n",
       "\n",
       "    for (var ind in mpl.extensions) {\n",
       "        var fmt = mpl.extensions[ind];\n",
       "        var option = $(\n",
       "            '<option/>', {selected: fmt === mpl.default_extension}).html(fmt);\n",
       "        fmt_picker.append(option)\n",
       "    }\n",
       "\n",
       "    // Add hover states to the ui-buttons\n",
       "    $( \".ui-button\" ).hover(\n",
       "        function() { $(this).addClass(\"ui-state-hover\");},\n",
       "        function() { $(this).removeClass(\"ui-state-hover\");}\n",
       "    );\n",
       "\n",
       "    var status_bar = $('<span class=\"mpl-message\"/>');\n",
       "    nav_element.append(status_bar);\n",
       "    this.message = status_bar[0];\n",
       "}\n",
       "\n",
       "mpl.figure.prototype.request_resize = function(x_pixels, y_pixels) {\n",
       "    // Request matplotlib to resize the figure. Matplotlib will then trigger a resize in the client,\n",
       "    // which will in turn request a refresh of the image.\n",
       "    this.send_message('resize', {'width': x_pixels, 'height': y_pixels});\n",
       "}\n",
       "\n",
       "mpl.figure.prototype.send_message = function(type, properties) {\n",
       "    properties['type'] = type;\n",
       "    properties['figure_id'] = this.id;\n",
       "    this.ws.send(JSON.stringify(properties));\n",
       "}\n",
       "\n",
       "mpl.figure.prototype.send_draw_message = function() {\n",
       "    if (!this.waiting) {\n",
       "        this.waiting = true;\n",
       "        this.ws.send(JSON.stringify({type: \"draw\", figure_id: this.id}));\n",
       "    }\n",
       "}\n",
       "\n",
       "\n",
       "mpl.figure.prototype.handle_save = function(fig, msg) {\n",
       "    var format_dropdown = fig.format_dropdown;\n",
       "    var format = format_dropdown.options[format_dropdown.selectedIndex].value;\n",
       "    fig.ondownload(fig, format);\n",
       "}\n",
       "\n",
       "\n",
       "mpl.figure.prototype.handle_resize = function(fig, msg) {\n",
       "    var size = msg['size'];\n",
       "    if (size[0] != fig.canvas.width || size[1] != fig.canvas.height) {\n",
       "        fig._resize_canvas(size[0], size[1]);\n",
       "        fig.send_message(\"refresh\", {});\n",
       "    };\n",
       "}\n",
       "\n",
       "mpl.figure.prototype.handle_rubberband = function(fig, msg) {\n",
       "    var x0 = msg['x0'];\n",
       "    var y0 = fig.canvas.height - msg['y0'];\n",
       "    var x1 = msg['x1'];\n",
       "    var y1 = fig.canvas.height - msg['y1'];\n",
       "    x0 = Math.floor(x0) + 0.5;\n",
       "    y0 = Math.floor(y0) + 0.5;\n",
       "    x1 = Math.floor(x1) + 0.5;\n",
       "    y1 = Math.floor(y1) + 0.5;\n",
       "    var min_x = Math.min(x0, x1);\n",
       "    var min_y = Math.min(y0, y1);\n",
       "    var width = Math.abs(x1 - x0);\n",
       "    var height = Math.abs(y1 - y0);\n",
       "\n",
       "    fig.rubberband_context.clearRect(\n",
       "        0, 0, fig.canvas.width, fig.canvas.height);\n",
       "\n",
       "    fig.rubberband_context.strokeRect(min_x, min_y, width, height);\n",
       "}\n",
       "\n",
       "mpl.figure.prototype.handle_figure_label = function(fig, msg) {\n",
       "    // Updates the figure title.\n",
       "    fig.header.textContent = msg['label'];\n",
       "}\n",
       "\n",
       "mpl.figure.prototype.handle_cursor = function(fig, msg) {\n",
       "    var cursor = msg['cursor'];\n",
       "    switch(cursor)\n",
       "    {\n",
       "    case 0:\n",
       "        cursor = 'pointer';\n",
       "        break;\n",
       "    case 1:\n",
       "        cursor = 'default';\n",
       "        break;\n",
       "    case 2:\n",
       "        cursor = 'crosshair';\n",
       "        break;\n",
       "    case 3:\n",
       "        cursor = 'move';\n",
       "        break;\n",
       "    }\n",
       "    fig.rubberband_canvas.style.cursor = cursor;\n",
       "}\n",
       "\n",
       "mpl.figure.prototype.handle_message = function(fig, msg) {\n",
       "    fig.message.textContent = msg['message'];\n",
       "}\n",
       "\n",
       "mpl.figure.prototype.handle_draw = function(fig, msg) {\n",
       "    // Request the server to send over a new figure.\n",
       "    fig.send_draw_message();\n",
       "}\n",
       "\n",
       "mpl.figure.prototype.handle_image_mode = function(fig, msg) {\n",
       "    fig.image_mode = msg['mode'];\n",
       "}\n",
       "\n",
       "mpl.figure.prototype.updated_canvas_event = function() {\n",
       "    // Called whenever the canvas gets updated.\n",
       "    this.send_message(\"ack\", {});\n",
       "}\n",
       "\n",
       "// A function to construct a web socket function for onmessage handling.\n",
       "// Called in the figure constructor.\n",
       "mpl.figure.prototype._make_on_message_function = function(fig) {\n",
       "    return function socket_on_message(evt) {\n",
       "        if (evt.data instanceof Blob) {\n",
       "            /* FIXME: We get \"Resource interpreted as Image but\n",
       "             * transferred with MIME type text/plain:\" errors on\n",
       "             * Chrome.  But how to set the MIME type?  It doesn't seem\n",
       "             * to be part of the websocket stream */\n",
       "            evt.data.type = \"image/png\";\n",
       "\n",
       "            /* Free the memory for the previous frames */\n",
       "            if (fig.imageObj.src) {\n",
       "                (window.URL || window.webkitURL).revokeObjectURL(\n",
       "                    fig.imageObj.src);\n",
       "            }\n",
       "\n",
       "            fig.imageObj.src = (window.URL || window.webkitURL).createObjectURL(\n",
       "                evt.data);\n",
       "            fig.updated_canvas_event();\n",
       "            fig.waiting = false;\n",
       "            return;\n",
       "        }\n",
       "        else if (typeof evt.data === 'string' && evt.data.slice(0, 21) == \"data:image/png;base64\") {\n",
       "            fig.imageObj.src = evt.data;\n",
       "            fig.updated_canvas_event();\n",
       "            fig.waiting = false;\n",
       "            return;\n",
       "        }\n",
       "\n",
       "        var msg = JSON.parse(evt.data);\n",
       "        var msg_type = msg['type'];\n",
       "\n",
       "        // Call the  \"handle_{type}\" callback, which takes\n",
       "        // the figure and JSON message as its only arguments.\n",
       "        try {\n",
       "            var callback = fig[\"handle_\" + msg_type];\n",
       "        } catch (e) {\n",
       "            console.log(\"No handler for the '\" + msg_type + \"' message type: \", msg);\n",
       "            return;\n",
       "        }\n",
       "\n",
       "        if (callback) {\n",
       "            try {\n",
       "                // console.log(\"Handling '\" + msg_type + \"' message: \", msg);\n",
       "                callback(fig, msg);\n",
       "            } catch (e) {\n",
       "                console.log(\"Exception inside the 'handler_\" + msg_type + \"' callback:\", e, e.stack, msg);\n",
       "            }\n",
       "        }\n",
       "    };\n",
       "}\n",
       "\n",
       "// from http://stackoverflow.com/questions/1114465/getting-mouse-location-in-canvas\n",
       "mpl.findpos = function(e) {\n",
       "    //this section is from http://www.quirksmode.org/js/events_properties.html\n",
       "    var targ;\n",
       "    if (!e)\n",
       "        e = window.event;\n",
       "    if (e.target)\n",
       "        targ = e.target;\n",
       "    else if (e.srcElement)\n",
       "        targ = e.srcElement;\n",
       "    if (targ.nodeType == 3) // defeat Safari bug\n",
       "        targ = targ.parentNode;\n",
       "\n",
       "    // jQuery normalizes the pageX and pageY\n",
       "    // pageX,Y are the mouse positions relative to the document\n",
       "    // offset() returns the position of the element relative to the document\n",
       "    var x = e.pageX - $(targ).offset().left;\n",
       "    var y = e.pageY - $(targ).offset().top;\n",
       "\n",
       "    return {\"x\": x, \"y\": y};\n",
       "};\n",
       "\n",
       "/*\n",
       " * return a copy of an object with only non-object keys\n",
       " * we need this to avoid circular references\n",
       " * http://stackoverflow.com/a/24161582/3208463\n",
       " */\n",
       "function simpleKeys (original) {\n",
       "  return Object.keys(original).reduce(function (obj, key) {\n",
       "    if (typeof original[key] !== 'object')\n",
       "        obj[key] = original[key]\n",
       "    return obj;\n",
       "  }, {});\n",
       "}\n",
       "\n",
       "mpl.figure.prototype.mouse_event = function(event, name) {\n",
       "    var canvas_pos = mpl.findpos(event)\n",
       "\n",
       "    if (name === 'button_press')\n",
       "    {\n",
       "        this.canvas.focus();\n",
       "        this.canvas_div.focus();\n",
       "    }\n",
       "\n",
       "    var x = canvas_pos.x;\n",
       "    var y = canvas_pos.y;\n",
       "\n",
       "    this.send_message(name, {x: x, y: y, button: event.button,\n",
       "                             step: event.step,\n",
       "                             guiEvent: simpleKeys(event)});\n",
       "\n",
       "    /* This prevents the web browser from automatically changing to\n",
       "     * the text insertion cursor when the button is pressed.  We want\n",
       "     * to control all of the cursor setting manually through the\n",
       "     * 'cursor' event from matplotlib */\n",
       "    event.preventDefault();\n",
       "    return false;\n",
       "}\n",
       "\n",
       "mpl.figure.prototype._key_event_extra = function(event, name) {\n",
       "    // Handle any extra behaviour associated with a key event\n",
       "}\n",
       "\n",
       "mpl.figure.prototype.key_event = function(event, name) {\n",
       "\n",
       "    // Prevent repeat events\n",
       "    if (name == 'key_press')\n",
       "    {\n",
       "        if (event.which === this._key)\n",
       "            return;\n",
       "        else\n",
       "            this._key = event.which;\n",
       "    }\n",
       "    if (name == 'key_release')\n",
       "        this._key = null;\n",
       "\n",
       "    var value = '';\n",
       "    if (event.ctrlKey && event.which != 17)\n",
       "        value += \"ctrl+\";\n",
       "    if (event.altKey && event.which != 18)\n",
       "        value += \"alt+\";\n",
       "    if (event.shiftKey && event.which != 16)\n",
       "        value += \"shift+\";\n",
       "\n",
       "    value += 'k';\n",
       "    value += event.which.toString();\n",
       "\n",
       "    this._key_event_extra(event, name);\n",
       "\n",
       "    this.send_message(name, {key: value,\n",
       "                             guiEvent: simpleKeys(event)});\n",
       "    return false;\n",
       "}\n",
       "\n",
       "mpl.figure.prototype.toolbar_button_onclick = function(name) {\n",
       "    if (name == 'download') {\n",
       "        this.handle_save(this, null);\n",
       "    } else {\n",
       "        this.send_message(\"toolbar_button\", {name: name});\n",
       "    }\n",
       "};\n",
       "\n",
       "mpl.figure.prototype.toolbar_button_onmouseover = function(tooltip) {\n",
       "    this.message.textContent = tooltip;\n",
       "};\n",
       "mpl.toolbar_items = [[\"Home\", \"Reset original view\", \"fa fa-home icon-home\", \"home\"], [\"Back\", \"Back to  previous view\", \"fa fa-arrow-left icon-arrow-left\", \"back\"], [\"Forward\", \"Forward to next view\", \"fa fa-arrow-right icon-arrow-right\", \"forward\"], [\"\", \"\", \"\", \"\"], [\"Pan\", \"Pan axes with left mouse, zoom with right\", \"fa fa-arrows icon-move\", \"pan\"], [\"Zoom\", \"Zoom to rectangle\", \"fa fa-square-o icon-check-empty\", \"zoom\"], [\"\", \"\", \"\", \"\"], [\"Download\", \"Download plot\", \"fa fa-floppy-o icon-save\", \"download\"]];\n",
       "\n",
       "mpl.extensions = [\"eps\", \"jpeg\", \"pdf\", \"png\", \"ps\", \"raw\", \"svg\", \"tif\"];\n",
       "\n",
       "mpl.default_extension = \"png\";var comm_websocket_adapter = function(comm) {\n",
       "    // Create a \"websocket\"-like object which calls the given IPython comm\n",
       "    // object with the appropriate methods. Currently this is a non binary\n",
       "    // socket, so there is still some room for performance tuning.\n",
       "    var ws = {};\n",
       "\n",
       "    ws.close = function() {\n",
       "        comm.close()\n",
       "    };\n",
       "    ws.send = function(m) {\n",
       "        //console.log('sending', m);\n",
       "        comm.send(m);\n",
       "    };\n",
       "    // Register the callback with on_msg.\n",
       "    comm.on_msg(function(msg) {\n",
       "        //console.log('receiving', msg['content']['data'], msg);\n",
       "        // Pass the mpl event to the overriden (by mpl) onmessage function.\n",
       "        ws.onmessage(msg['content']['data'])\n",
       "    });\n",
       "    return ws;\n",
       "}\n",
       "\n",
       "mpl.mpl_figure_comm = function(comm, msg) {\n",
       "    // This is the function which gets called when the mpl process\n",
       "    // starts-up an IPython Comm through the \"matplotlib\" channel.\n",
       "\n",
       "    var id = msg.content.data.id;\n",
       "    // Get hold of the div created by the display call when the Comm\n",
       "    // socket was opened in Python.\n",
       "    var element = $(\"#\" + id);\n",
       "    var ws_proxy = comm_websocket_adapter(comm)\n",
       "\n",
       "    function ondownload(figure, format) {\n",
       "        window.open(figure.imageObj.src);\n",
       "    }\n",
       "\n",
       "    var fig = new mpl.figure(id, ws_proxy,\n",
       "                           ondownload,\n",
       "                           element.get(0));\n",
       "\n",
       "    // Call onopen now - mpl needs it, as it is assuming we've passed it a real\n",
       "    // web socket which is closed, not our websocket->open comm proxy.\n",
       "    ws_proxy.onopen();\n",
       "\n",
       "    fig.parent_element = element.get(0);\n",
       "    fig.cell_info = mpl.find_output_cell(\"<div id='\" + id + \"'></div>\");\n",
       "    if (!fig.cell_info) {\n",
       "        console.error(\"Failed to find cell for figure\", id, fig);\n",
       "        return;\n",
       "    }\n",
       "\n",
       "    var output_index = fig.cell_info[2]\n",
       "    var cell = fig.cell_info[0];\n",
       "\n",
       "};\n",
       "\n",
       "mpl.figure.prototype.handle_close = function(fig, msg) {\n",
       "    fig.root.unbind('remove')\n",
       "\n",
       "    // Update the output cell to use the data from the current canvas.\n",
       "    fig.push_to_output();\n",
       "    var dataURL = fig.canvas.toDataURL();\n",
       "    // Re-enable the keyboard manager in IPython - without this line, in FF,\n",
       "    // the notebook keyboard shortcuts fail.\n",
       "    IPython.keyboard_manager.enable()\n",
       "    $(fig.parent_element).html('<img src=\"' + dataURL + '\">');\n",
       "    fig.close_ws(fig, msg);\n",
       "}\n",
       "\n",
       "mpl.figure.prototype.close_ws = function(fig, msg){\n",
       "    fig.send_message('closing', msg);\n",
       "    // fig.ws.close()\n",
       "}\n",
       "\n",
       "mpl.figure.prototype.push_to_output = function(remove_interactive) {\n",
       "    // Turn the data on the canvas into data in the output cell.\n",
       "    var dataURL = this.canvas.toDataURL();\n",
       "    this.cell_info[1]['text/html'] = '<img src=\"' + dataURL + '\">';\n",
       "}\n",
       "\n",
       "mpl.figure.prototype.updated_canvas_event = function() {\n",
       "    // Tell IPython that the notebook contents must change.\n",
       "    IPython.notebook.set_dirty(true);\n",
       "    this.send_message(\"ack\", {});\n",
       "    var fig = this;\n",
       "    // Wait a second, then push the new image to the DOM so\n",
       "    // that it is saved nicely (might be nice to debounce this).\n",
       "    setTimeout(function () { fig.push_to_output() }, 1000);\n",
       "}\n",
       "\n",
       "mpl.figure.prototype._init_toolbar = function() {\n",
       "    var fig = this;\n",
       "\n",
       "    var nav_element = $('<div/>')\n",
       "    nav_element.attr('style', 'width: 100%');\n",
       "    this.root.append(nav_element);\n",
       "\n",
       "    // Define a callback function for later on.\n",
       "    function toolbar_event(event) {\n",
       "        return fig.toolbar_button_onclick(event['data']);\n",
       "    }\n",
       "    function toolbar_mouse_event(event) {\n",
       "        return fig.toolbar_button_onmouseover(event['data']);\n",
       "    }\n",
       "\n",
       "    for(var toolbar_ind in mpl.toolbar_items){\n",
       "        var name = mpl.toolbar_items[toolbar_ind][0];\n",
       "        var tooltip = mpl.toolbar_items[toolbar_ind][1];\n",
       "        var image = mpl.toolbar_items[toolbar_ind][2];\n",
       "        var method_name = mpl.toolbar_items[toolbar_ind][3];\n",
       "\n",
       "        if (!name) { continue; };\n",
       "\n",
       "        var button = $('<button class=\"btn btn-default\" href=\"#\" title=\"' + name + '\"><i class=\"fa ' + image + ' fa-lg\"></i></button>');\n",
       "        button.click(method_name, toolbar_event);\n",
       "        button.mouseover(tooltip, toolbar_mouse_event);\n",
       "        nav_element.append(button);\n",
       "    }\n",
       "\n",
       "    // Add the status bar.\n",
       "    var status_bar = $('<span class=\"mpl-message\" style=\"text-align:right; float: right;\"/>');\n",
       "    nav_element.append(status_bar);\n",
       "    this.message = status_bar[0];\n",
       "\n",
       "    // Add the close button to the window.\n",
       "    var buttongrp = $('<div class=\"btn-group inline pull-right\"></div>');\n",
       "    var button = $('<button class=\"btn btn-mini btn-primary\" href=\"#\" title=\"Stop Interaction\"><i class=\"fa fa-power-off icon-remove icon-large\"></i></button>');\n",
       "    button.click(function (evt) { fig.handle_close(fig, {}); } );\n",
       "    button.mouseover('Stop Interaction', toolbar_mouse_event);\n",
       "    buttongrp.append(button);\n",
       "    var titlebar = this.root.find($('.ui-dialog-titlebar'));\n",
       "    titlebar.prepend(buttongrp);\n",
       "}\n",
       "\n",
       "mpl.figure.prototype._root_extra_style = function(el){\n",
       "    var fig = this\n",
       "    el.on(\"remove\", function(){\n",
       "\tfig.close_ws(fig, {});\n",
       "    });\n",
       "}\n",
       "\n",
       "mpl.figure.prototype._canvas_extra_style = function(el){\n",
       "    // this is important to make the div 'focusable\n",
       "    el.attr('tabindex', 0)\n",
       "    // reach out to IPython and tell the keyboard manager to turn it's self\n",
       "    // off when our div gets focus\n",
       "\n",
       "    // location in version 3\n",
       "    if (IPython.notebook.keyboard_manager) {\n",
       "        IPython.notebook.keyboard_manager.register_events(el);\n",
       "    }\n",
       "    else {\n",
       "        // location in version 2\n",
       "        IPython.keyboard_manager.register_events(el);\n",
       "    }\n",
       "\n",
       "}\n",
       "\n",
       "mpl.figure.prototype._key_event_extra = function(event, name) {\n",
       "    var manager = IPython.notebook.keyboard_manager;\n",
       "    if (!manager)\n",
       "        manager = IPython.keyboard_manager;\n",
       "\n",
       "    // Check for shift+enter\n",
       "    if (event.shiftKey && event.which == 13) {\n",
       "        this.canvas_div.blur();\n",
       "        // select the cell after this one\n",
       "        var index = IPython.notebook.find_cell_index(this.cell_info[0]);\n",
       "        IPython.notebook.select(index + 1);\n",
       "    }\n",
       "}\n",
       "\n",
       "mpl.figure.prototype.handle_save = function(fig, msg) {\n",
       "    fig.ondownload(fig, null);\n",
       "}\n",
       "\n",
       "\n",
       "mpl.find_output_cell = function(html_output) {\n",
       "    // Return the cell and output element which can be found *uniquely* in the notebook.\n",
       "    // Note - this is a bit hacky, but it is done because the \"notebook_saving.Notebook\"\n",
       "    // IPython event is triggered only after the cells have been serialised, which for\n",
       "    // our purposes (turning an active figure into a static one), is too late.\n",
       "    var cells = IPython.notebook.get_cells();\n",
       "    var ncells = cells.length;\n",
       "    for (var i=0; i<ncells; i++) {\n",
       "        var cell = cells[i];\n",
       "        if (cell.cell_type === 'code'){\n",
       "            for (var j=0; j<cell.output_area.outputs.length; j++) {\n",
       "                var data = cell.output_area.outputs[j];\n",
       "                if (data.data) {\n",
       "                    // IPython >= 3 moved mimebundle to data attribute of output\n",
       "                    data = data.data;\n",
       "                }\n",
       "                if (data['text/html'] == html_output) {\n",
       "                    return [cell, data, j];\n",
       "                }\n",
       "            }\n",
       "        }\n",
       "    }\n",
       "}\n",
       "\n",
       "// Register the function which deals with the matplotlib target/channel.\n",
       "// The kernel may be null if the page has been refreshed.\n",
       "if (IPython.notebook.kernel != null) {\n",
       "    IPython.notebook.kernel.comm_manager.register_target('matplotlib', mpl.mpl_figure_comm);\n",
       "}\n"
      ],
      "text/plain": [
       "<IPython.core.display.Javascript object>"
      ]
     },
     "metadata": {},
     "output_type": "display_data"
    },
    {
     "data": {
      "text/html": [
       "<img src=\"data:image/png;base64,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\">"
      ],
      "text/plain": [
       "<IPython.core.display.HTML object>"
      ]
     },
     "metadata": {},
     "output_type": "display_data"
    },
    {
     "data": {
      "text/plain": [
       "[<matplotlib.lines.Line2D at 0x8c3fda0>]"
      ]
     },
     "execution_count": 30,
     "metadata": {},
     "output_type": "execute_result"
    }
   ],
   "source": [
    "%matplotlib notebook\n",
    "start=467000\n",
    "width=300\n",
    "plt.plot(traces['filtered'][start:start+width]/2)"
   ]
  },
  {
   "cell_type": "code",
   "execution_count": null,
   "metadata": {
    "collapsed": false
   },
   "outputs": [],
   "source": [
    "filtered=traces['filtered'][1100:]\n",
    "filteredL=traces['filteredL'][1100:]"
   ]
  },
  {
   "cell_type": "code",
   "execution_count": null,
   "metadata": {
    "collapsed": false
   },
   "outputs": [],
   "source": [
    "filtered[:10]"
   ]
  },
  {
   "cell_type": "code",
   "execution_count": null,
   "metadata": {
    "collapsed": false
   },
   "outputs": [],
   "source": [
    "filteredL[:10]/4"
   ]
  },
  {
   "cell_type": "code",
   "execution_count": null,
   "metadata": {
    "collapsed": false
   },
   "outputs": [],
   "source": [
    "minmax_dt=np.dtype([('filtered','i4'),('low','i4'),('high','i4'),('clk','i4')])\n",
    "minmax=Data.fromfile('minmax',minmax_dt,'teslib','measurement_subsystem_TB',tool='vivado')\n",
    "fxing_dt=np.dtype([('extrema','i4'),('area','i4'),('clk','i4')])\n",
    "fxing=Data.fromfile('filteredxing',fxing_dt,'teslib','measurement_subsystem_TB',tool='vivado')"
   ]
  },
  {
   "cell_type": "code",
   "execution_count": null,
   "metadata": {
    "collapsed": false
   },
   "outputs": [],
   "source": [
    "minmax"
   ]
  },
  {
   "cell_type": "code",
   "execution_count": null,
   "metadata": {
    "collapsed": false
   },
   "outputs": [],
   "source": [
    "fxing"
   ]
  },
  {
   "cell_type": "code",
   "execution_count": null,
   "metadata": {
    "collapsed": false
   },
   "outputs": [],
   "source": [
    "np.where(fxing['area']==0)"
   ]
  },
  {
   "cell_type": "code",
   "execution_count": null,
   "metadata": {
    "collapsed": false
   },
   "outputs": [],
   "source": [
    "np.where(fxing['extrema']==0)"
   ]
  },
  {
   "cell_type": "code",
   "execution_count": null,
   "metadata": {
    "collapsed": false
   },
   "outputs": [],
   "source": [
    "fxing[30]"
   ]
  },
  {
   "cell_type": "code",
   "execution_count": null,
   "metadata": {
    "collapsed": false
   },
   "outputs": [],
   "source": [
    "exn=np.where(fxing['extrema']<0)\n",
    "clkn=np.where(fxing['clk']>0)"
   ]
  },
  {
   "cell_type": "code",
   "execution_count": null,
   "metadata": {
    "collapsed": true
   },
   "outputs": [],
   "source": []
  },
  {
   "cell_type": "code",
   "execution_count": null,
   "metadata": {
    "collapsed": false
   },
   "outputs": [],
   "source": [
    "fxing[374]"
   ]
  },
  {
   "cell_type": "code",
   "execution_count": null,
   "metadata": {
    "collapsed": false
   },
   "outputs": [],
   "source": [
    "clkn"
   ]
  },
  {
   "cell_type": "code",
   "execution_count": null,
   "metadata": {
    "collapsed": false
   },
   "outputs": [],
   "source": [
    "np.where(minmax[maxs[0]-1]['min']!=1)"
   ]
  },
  {
   "cell_type": "code",
   "execution_count": null,
   "metadata": {
    "collapsed": false
   },
   "outputs": [],
   "source": [
    "minmax[maxs[0]-1][65]"
   ]
  },
  {
   "cell_type": "code",
   "execution_count": null,
   "metadata": {
    "collapsed": false
   },
   "outputs": [],
   "source": [
    "2290-925"
   ]
  },
  {
   "cell_type": "code",
   "execution_count": null,
   "metadata": {
    "collapsed": false
   },
   "outputs": [],
   "source": [
    "0.375*4"
   ]
  },
  {
   "cell_type": "code",
   "execution_count": null,
   "metadata": {
    "collapsed": false
   },
   "outputs": [],
   "source": [
    "np.where(minmax['clock']==2290)"
   ]
  },
  {
   "cell_type": "code",
   "execution_count": null,
   "metadata": {
    "collapsed": false
   },
   "outputs": [],
   "source": [
    "minmax[120:140]"
   ]
  },
  {
   "cell_type": "code",
   "execution_count": null,
   "metadata": {
    "collapsed": false
   },
   "outputs": [],
   "source": [
    "stream_dt=np.dtype([('data','>i4'),('last','i4')])\n",
    "#stream=np.fromfile('data/stream',stream_dt)"
   ]
  },
  {
   "cell_type": "markdown",
   "metadata": {},
   "source": [
    "### bytestream stuff"
   ]
  },
  {
   "cell_type": "code",
   "execution_count": 24,
   "metadata": {
    "collapsed": false
   },
   "outputs": [],
   "source": [
    "stream_dt=np.dtype([('data','i4'),('last','i4')])\n",
    "stream=Data.fromfile('bytestream',stream_dt,'teslib','measurement_subsystem_TB',tool='vivado')\n",
    "lasts=np.where(stream['last']<=0)[0]+1\n",
    "#data=np.copy(stream['data'])"
   ]
  },
  {
   "cell_type": "code",
   "execution_count": 14,
   "metadata": {
    "collapsed": false
   },
   "outputs": [
    {
     "data": {
      "text/plain": [
       "array([(90, 69), (1, 71), (2, 73), ..., (0, 349943), (0, 349945),\n",
       "       (0, 349947)], \n",
       "      dtype=[('data', '<i4'), ('last', '<i4')])"
      ]
     },
     "execution_count": 14,
     "metadata": {},
     "output_type": "execute_result"
    }
   ],
   "source": [
    "stream"
   ]
  },
  {
   "cell_type": "code",
   "execution_count": null,
   "metadata": {
    "collapsed": true
   },
   "outputs": [],
   "source": []
  },
  {
   "cell_type": "code",
   "execution_count": 17,
   "metadata": {
    "collapsed": true
   },
   "outputs": [],
   "source": [
    "stream=np.fromfile('data/bytestream',stream_dt)"
   ]
  },
  {
   "cell_type": "code",
   "execution_count": 25,
   "metadata": {
    "collapsed": false
   },
   "outputs": [],
   "source": [
    "bs=PacketStream(stream)"
   ]
  },
  {
   "cell_type": "code",
   "execution_count": 26,
   "metadata": {
    "collapsed": false
   },
   "outputs": [
    {
     "data": {
      "text/plain": [
       "[ethertype:88B5 length:48 Payload:tick frame:0 protocol:0,\n",
       " ethertype:88B5 length:32 Payload:peak frame:1 protocol:1,\n",
       " ethertype:88B5 length:56 Payload:pulse frame:2 protocol:2,\n",
       " ethertype:88B5 length:48 Payload:tick frame:3 protocol:3,\n",
       " ethertype:88B5 length:32 Payload:peak frame:4 protocol:4,\n",
       " ethertype:88B5 length:56 Payload:pulse frame:5 protocol:5,\n",
       " ethertype:88B5 length:32 Payload:peak frame:6 protocol:6,\n",
       " ethertype:88B5 length:56 Payload:pulse frame:7 protocol:7,\n",
       " ethertype:88B6 length:1496 Payload:mca frame:8 protocol:0,\n",
       " ethertype:88B5 length:48 Payload:tick frame:9 protocol:8,\n",
       " ethertype:88B6 length:1496 Payload:mca frame:10 protocol:1,\n",
       " ethertype:88B6 length:1496 Payload:mca frame:11 protocol:2,\n",
       " ethertype:88B6 length:1496 Payload:mca frame:12 protocol:3,\n",
       " ethertype:88B6 length:1496 Payload:mca frame:13 protocol:4,\n",
       " ethertype:88B6 length:1496 Payload:mca frame:14 protocol:5,\n",
       " ethertype:88B6 length:1496 Payload:mca frame:15 protocol:6,\n",
       " ethertype:88B6 length:1496 Payload:mca frame:16 protocol:7,\n",
       " ethertype:88B6 length:1496 Payload:mca frame:17 protocol:8,\n",
       " ethertype:88B6 length:1496 Payload:mca frame:18 protocol:9,\n",
       " ethertype:88B6 length:1496 Payload:mca frame:19 protocol:10,\n",
       " ethertype:88B6 length:1496 Payload:mca frame:20 protocol:11,\n",
       " ethertype:88B6 length:1496 Payload:mca frame:21 protocol:12,\n",
       " ethertype:88B6 length:1496 Payload:mca frame:22 protocol:13,\n",
       " ethertype:88B6 length:1496 Payload:mca frame:23 protocol:14,\n",
       " ethertype:88B6 length:1496 Payload:mca frame:24 protocol:15,\n",
       " ethertype:88B6 length:1496 Payload:mca frame:25 protocol:16,\n",
       " ethertype:88B6 length:1496 Payload:mca frame:26 protocol:17,\n",
       " ethertype:88B6 length:1496 Payload:mca frame:27 protocol:18,\n",
       " ethertype:88B6 length:1496 Payload:mca frame:28 protocol:19,\n",
       " ethertype:88B6 length:1496 Payload:mca frame:29 protocol:20,\n",
       " ethertype:88B6 length:1496 Payload:mca frame:30 protocol:21,\n",
       " ethertype:88B6 length:1496 Payload:mca frame:31 protocol:22,\n",
       " ethertype:88B6 length:1496 Payload:mca frame:32 protocol:23,\n",
       " ethertype:88B6 length:1496 Payload:mca frame:33 protocol:24,\n",
       " ethertype:88B6 length:1496 Payload:mca frame:34 protocol:25,\n",
       " ethertype:88B6 length:1496 Payload:mca frame:35 protocol:26,\n",
       " ethertype:88B6 length:1496 Payload:mca frame:36 protocol:27,\n",
       " ethertype:88B6 length:1496 Payload:mca frame:37 protocol:28,\n",
       " ethertype:88B6 length:1496 Payload:mca frame:38 protocol:29,\n",
       " ethertype:88B6 length:1496 Payload:mca frame:39 protocol:30,\n",
       " ethertype:88B6 length:1496 Payload:mca frame:40 protocol:31,\n",
       " ethertype:88B6 length:1496 Payload:mca frame:41 protocol:32,\n",
       " ethertype:88B5 length:48 Payload:tick frame:42 protocol:9,\n",
       " ethertype:88B6 length:1496 Payload:mca frame:43 protocol:33,\n",
       " ethertype:88B6 length:1496 Payload:mca frame:44 protocol:34,\n",
       " ethertype:88B6 length:1496 Payload:mca frame:45 protocol:35,\n",
       " ethertype:88B6 length:1496 Payload:mca frame:46 protocol:36,\n",
       " ethertype:88B6 length:1496 Payload:mca frame:47 protocol:37,\n",
       " ethertype:88B6 length:1496 Payload:mca frame:48 protocol:38,\n",
       " ethertype:88B6 length:1496 Payload:mca frame:49 protocol:39,\n",
       " ethertype:88B6 length:1496 Payload:mca frame:50 protocol:40,\n",
       " ethertype:88B6 length:1496 Payload:mca frame:51 protocol:41,\n",
       " ethertype:88B6 length:1496 Payload:mca frame:52 protocol:42,\n",
       " ethertype:88B6 length:1496 Payload:mca frame:53 protocol:43,\n",
       " ethertype:88B6 length:832 Payload:mca frame:54 protocol:44,\n",
       " ethertype:88B5 length:32 Payload:peak frame:55 protocol:10,\n",
       " ethertype:88B5 length:56 Payload:pulse frame:56 protocol:11,\n",
       " ethertype:88B6 length:1496 Payload:mca frame:57 protocol:0,\n",
       " ethertype:88B6 length:1496 Payload:mca frame:58 protocol:1,\n",
       " ethertype:88B6 length:1496 Payload:mca frame:59 protocol:2,\n",
       " ethertype:88B5 length:48 Payload:tick frame:60 protocol:12,\n",
       " ethertype:88B6 length:1496 Payload:mca frame:61 protocol:3,\n",
       " ethertype:88B6 length:1496 Payload:mca frame:62 protocol:4,\n",
       " ethertype:88B6 length:1496 Payload:mca frame:63 protocol:5,\n",
       " ethertype:88B6 length:1496 Payload:mca frame:64 protocol:6,\n",
       " ethertype:88B6 length:1496 Payload:mca frame:65 protocol:7,\n",
       " ethertype:88B6 length:1496 Payload:mca frame:66 protocol:8,\n",
       " ethertype:88B6 length:1496 Payload:mca frame:67 protocol:9,\n",
       " ethertype:88B6 length:1496 Payload:mca frame:68 protocol:10,\n",
       " ethertype:88B6 length:1496 Payload:mca frame:69 protocol:11,\n",
       " ethertype:88B6 length:1496 Payload:mca frame:70 protocol:12,\n",
       " ethertype:88B6 length:1496 Payload:mca frame:71 protocol:13,\n",
       " ethertype:88B6 length:1496 Payload:mca frame:72 protocol:14,\n",
       " ethertype:88B6 length:1496 Payload:mca frame:73 protocol:15,\n",
       " ethertype:88B6 length:1496 Payload:mca frame:74 protocol:16,\n",
       " ethertype:88B6 length:1496 Payload:mca frame:75 protocol:17,\n",
       " ethertype:88B6 length:1496 Payload:mca frame:76 protocol:18,\n",
       " ethertype:88B6 length:1496 Payload:mca frame:77 protocol:19,\n",
       " ethertype:88B6 length:1496 Payload:mca frame:78 protocol:20,\n",
       " ethertype:88B6 length:1496 Payload:mca frame:79 protocol:21,\n",
       " ethertype:88B6 length:1496 Payload:mca frame:80 protocol:22,\n",
       " ethertype:88B6 length:1496 Payload:mca frame:81 protocol:23,\n",
       " ethertype:88B6 length:1496 Payload:mca frame:82 protocol:24,\n",
       " ethertype:88B6 length:1496 Payload:mca frame:83 protocol:25,\n",
       " ethertype:88B6 length:1496 Payload:mca frame:84 protocol:26,\n",
       " ethertype:88B6 length:1496 Payload:mca frame:85 protocol:27,\n",
       " ethertype:88B6 length:1496 Payload:mca frame:86 protocol:28,\n",
       " ethertype:88B6 length:1496 Payload:mca frame:87 protocol:29,\n",
       " ethertype:88B6 length:1496 Payload:mca frame:88 protocol:30,\n",
       " ethertype:88B6 length:1496 Payload:mca frame:89 protocol:31,\n",
       " ethertype:88B6 length:1496 Payload:mca frame:90 protocol:32,\n",
       " ethertype:88B5 length:32 Payload:peak frame:91 protocol:13,\n",
       " ethertype:88B5 length:56 Payload:pulse frame:92 protocol:14,\n",
       " ethertype:88B5 length:48 Payload:tick frame:93 protocol:15,\n",
       " ethertype:88B6 length:1496 Payload:mca frame:94 protocol:33,\n",
       " ethertype:88B6 length:1496 Payload:mca frame:95 protocol:34,\n",
       " ethertype:88B6 length:1496 Payload:mca frame:96 protocol:35,\n",
       " ethertype:88B6 length:1496 Payload:mca frame:97 protocol:36,\n",
       " ethertype:88B6 length:1496 Payload:mca frame:98 protocol:37,\n",
       " ethertype:88B6 length:1496 Payload:mca frame:99 protocol:38,\n",
       " ethertype:88B6 length:1496 Payload:mca frame:100 protocol:39,\n",
       " ethertype:88B6 length:1496 Payload:mca frame:101 protocol:40,\n",
       " ethertype:88B6 length:1496 Payload:mca frame:102 protocol:41,\n",
       " ethertype:88B6 length:1496 Payload:mca frame:103 protocol:42,\n",
       " ethertype:88B6 length:1496 Payload:mca frame:104 protocol:43,\n",
       " ethertype:88B6 length:832 Payload:mca frame:105 protocol:44,\n",
       " ethertype:88B5 length:32 Payload:peak frame:106 protocol:16,\n",
       " ethertype:88B5 length:56 Payload:pulse frame:107 protocol:17,\n",
       " ethertype:88B5 length:32 Payload:peak frame:108 protocol:18,\n",
       " ethertype:88B5 length:56 Payload:pulse frame:109 protocol:19,\n",
       " ethertype:88B6 length:1496 Payload:mca frame:110 protocol:0,\n",
       " ethertype:88B6 length:1496 Payload:mca frame:111 protocol:1,\n",
       " ethertype:88B6 length:1496 Payload:mca frame:112 protocol:2,\n",
       " ethertype:88B6 length:1496 Payload:mca frame:113 protocol:3,\n",
       " ethertype:88B6 length:1496 Payload:mca frame:114 protocol:4,\n",
       " ethertype:88B6 length:1496 Payload:mca frame:115 protocol:5,\n",
       " ethertype:88B6 length:1496 Payload:mca frame:116 protocol:6,\n",
       " ethertype:88B6 length:1496 Payload:mca frame:117 protocol:7,\n",
       " ethertype:88B6 length:1496 Payload:mca frame:118 protocol:8,\n",
       " ethertype:88B6 length:1496 Payload:mca frame:119 protocol:9,\n",
       " ethertype:88B6 length:1496 Payload:mca frame:120 protocol:10,\n",
       " ethertype:88B5 length:48 Payload:tick frame:121 protocol:20,\n",
       " ethertype:88B6 length:1496 Payload:mca frame:122 protocol:11,\n",
       " ethertype:88B6 length:1496 Payload:mca frame:123 protocol:12,\n",
       " ethertype:88B6 length:1496 Payload:mca frame:124 protocol:13,\n",
       " ethertype:88B6 length:1496 Payload:mca frame:125 protocol:14,\n",
       " ethertype:88B6 length:1496 Payload:mca frame:126 protocol:15,\n",
       " ethertype:88B6 length:1496 Payload:mca frame:127 protocol:16,\n",
       " ethertype:88B6 length:1496 Payload:mca frame:128 protocol:17,\n",
       " ethertype:88B6 length:1496 Payload:mca frame:129 protocol:18,\n",
       " ethertype:88B6 length:1496 Payload:mca frame:130 protocol:19,\n",
       " ethertype:88B6 length:1496 Payload:mca frame:131 protocol:20,\n",
       " ethertype:88B6 length:1496 Payload:mca frame:132 protocol:21,\n",
       " ethertype:88B6 length:1496 Payload:mca frame:133 protocol:22,\n",
       " ethertype:88B6 length:1496 Payload:mca frame:134 protocol:23,\n",
       " ethertype:88B6 length:1496 Payload:mca frame:135 protocol:24,\n",
       " ethertype:88B6 length:1496 Payload:mca frame:136 protocol:25,\n",
       " ethertype:88B6 length:1496 Payload:mca frame:137 protocol:26,\n",
       " ethertype:88B6 length:1496 Payload:mca frame:138 protocol:27,\n",
       " ethertype:88B6 length:1496 Payload:mca frame:139 protocol:28,\n",
       " ethertype:88B6 length:1496 Payload:mca frame:140 protocol:29,\n",
       " ethertype:88B6 length:1496 Payload:mca frame:141 protocol:30,\n",
       " ethertype:88B6 length:1496 Payload:mca frame:142 protocol:31,\n",
       " ethertype:88B6 length:1496 Payload:mca frame:143 protocol:32,\n",
       " ethertype:88B5 length:48 Payload:tick frame:144 protocol:21]"
      ]
     },
     "execution_count": 26,
     "metadata": {},
     "output_type": "execute_result"
    }
   ],
   "source": [
    "bs.packets"
   ]
  },
  {
   "cell_type": "code",
   "execution_count": 12,
   "metadata": {
    "collapsed": false
   },
   "outputs": [
    {
     "data": {
      "text/plain": [
       "ethertype:88B5 length:56 Payload:pulse frame:2 protocol:2"
      ]
     },
     "execution_count": 12,
     "metadata": {},
     "output_type": "execute_result"
    }
   ],
   "source": [
    "bs.packets[2]"
   ]
  },
  {
   "cell_type": "code",
   "execution_count": null,
   "metadata": {
    "collapsed": true
   },
   "outputs": [],
   "source": [
    "eheader_dt=[('etype','<u2'),('length','u2'),()]"
   ]
  },
  {
   "cell_type": "code",
   "execution_count": null,
   "metadata": {
    "collapsed": false
   },
   "outputs": [],
   "source": [
    "'{:X}'.format(bs.packets[1].bytes[23])\n"
   ]
  },
  {
   "cell_type": "code",
   "execution_count": null,
   "metadata": {
    "collapsed": false
   },
   "outputs": [],
   "source": [
    "'{:X}'.format(bs.packets[0].bytes[28:30].view(np.uint16)[0])"
   ]
  },
  {
   "cell_type": "code",
   "execution_count": 13,
   "metadata": {
    "collapsed": true
   },
   "outputs": [],
   "source": [
    "pulse_peak_dt=np.dtype([('height','i2'),('rise','i2'),('minima','u2'),('time','i2')])\n",
    "pulse_dt=np.dtype([('size','i2'),('resv','i2'),('flags','i2'),('time','u2'),\n",
    "                  ('area','i4'),('length','i2'),('offset','i2'),('peaks',(pulse_peak_dt,2))])"
   ]
  },
  {
   "cell_type": "code",
   "execution_count": 14,
   "metadata": {
    "collapsed": false
   },
   "outputs": [],
   "source": [
    "pulses=bs.packets[2].payload.view(pulse_dt)"
   ]
  },
  {
   "cell_type": "code",
   "execution_count": 15,
   "metadata": {
    "collapsed": false
   },
   "outputs": [
    {
     "data": {
      "text/plain": [
       "array([[(1329, 41, 65485, 40), (0, 0, 0, 0)]], \n",
       "      dtype=[('height', '<i2'), ('rise', '<i2'), ('minima', '<u2'), ('time', '<i2')])"
      ]
     },
     "execution_count": 15,
     "metadata": {},
     "output_type": "execute_result"
    }
   ],
   "source": [
    "pulses['peaks']"
   ]
  },
  {
   "cell_type": "code",
   "execution_count": 9,
   "metadata": {
    "collapsed": false
   },
   "outputs": [
    {
     "data": {
      "text/plain": [
       "array([30], dtype=int16)"
      ]
     },
     "execution_count": 9,
     "metadata": {},
     "output_type": "execute_result"
    }
   ],
   "source": [
    "pulses['offset']"
   ]
  },
  {
   "cell_type": "code",
   "execution_count": 10,
   "metadata": {
    "collapsed": false
   },
   "outputs": [
    {
     "data": {
      "text/plain": [
       "array([648], dtype=int16)"
      ]
     },
     "execution_count": 10,
     "metadata": {},
     "output_type": "execute_result"
    }
   ],
   "source": [
    "pulses['length']"
   ]
  },
  {
   "cell_type": "code",
   "execution_count": null,
   "metadata": {
    "collapsed": false
   },
   "outputs": [],
   "source": [
    "class eflags:\n",
    "    def __init__(self,uint16):\n",
    "        self.new_window=np.bitwise_and(uint16,0x00000001)!=0\n",
    "        self.tick=np.bitwise_and(uint16,0x00000002)!=0\n",
    "        self.type=np.right_shift(np.bitwise_and(uint16,0x0000000c),2)\n",
    "        \n",
    "    def __repr__(self):\n",
    "        return 'New window:{:}\\n'.format(self.new_window) + \\\n",
    "               'Tick:{:}\\n'.format(self.tick) + \\\n",
    "               'Type:{:}\\n'.format(self.type) "
   ]
  },
  {
   "cell_type": "code",
   "execution_count": null,
   "metadata": {
    "collapsed": false
   },
   "outputs": [],
   "source": [
    "f=eflags(pulses[0]['flags'])\n",
    "f"
   ]
  },
  {
   "cell_type": "code",
   "execution_count": null,
   "metadata": {
    "collapsed": false
   },
   "outputs": [],
   "source": [
    "'{:X}'.format(bs.packets[3].bytes[13:14].view(np.uint16))"
   ]
  },
  {
   "cell_type": "code",
   "execution_count": null,
   "metadata": {
    "collapsed": true
   },
   "outputs": [],
   "source": []
  },
  {
   "cell_type": "code",
   "execution_count": null,
   "metadata": {
    "collapsed": false
   },
   "outputs": [],
   "source": [
    "'{:X}'.format(bs.packets[3].bytes[14:16].view(np.uint16)[0])"
   ]
  },
  {
   "cell_type": "code",
   "execution_count": null,
   "metadata": {
    "collapsed": false
   },
   "outputs": [],
   "source": [
    "bs.packets[3].bytes[14:16].view(np.uint16)[0]"
   ]
  },
  {
   "cell_type": "code",
   "execution_count": null,
   "metadata": {
    "collapsed": false
   },
   "outputs": [],
   "source": [
    "bs=np.uint8(stream['data'][:48])"
   ]
  },
  {
   "cell_type": "code",
   "execution_count": null,
   "metadata": {
    "collapsed": false
   },
   "outputs": [],
   "source": [
    "bs"
   ]
  },
  {
   "cell_type": "code",
   "execution_count": null,
   "metadata": {
    "collapsed": false
   },
   "outputs": [],
   "source": [
    "events=stream['data'].view(event_dt)"
   ]
  },
  {
   "cell_type": "code",
   "execution_count": null,
   "metadata": {
    "collapsed": false
   },
   "outputs": [],
   "source": [
    "'{:X}'.format(events['flags'][0])"
   ]
  },
  {
   "cell_type": "code",
   "execution_count": null,
   "metadata": {
    "collapsed": false
   },
   "outputs": [],
   "source": [
    "events['rise']"
   ]
  },
  {
   "cell_type": "code",
   "execution_count": null,
   "metadata": {
    "collapsed": false
   },
   "outputs": [],
   "source": [
    "events"
   ]
  },
  {
   "cell_type": "code",
   "execution_count": null,
   "metadata": {
    "collapsed": false
   },
   "outputs": [],
   "source": [
    "'{:04X}'.format(events['flags'][1])"
   ]
  },
  {
   "cell_type": "code",
   "execution_count": null,
   "metadata": {
    "collapsed": true
   },
   "outputs": [],
   "source": [
    "pulse_peak_dt=np.dtype([('time','>i2'),('minima','>i2'),('rise','>u2'),('height','>i2')])\n",
    "pulse_dt=np.dtype([('time','>i2'),('flags','>i2'),('resv','>i2'),('size','>u2'),\n",
    "                  ('offset','>i2'),('length','>i2'),('area','>i4'),('peaks',(pulse_peak_dt,1))])\n",
    "data=np.copy(stream['data'])"
   ]
  },
  {
   "cell_type": "code",
   "execution_count": null,
   "metadata": {
    "collapsed": false
   },
   "outputs": [],
   "source": [
    "pulses=data.view(pulse_dt)"
   ]
  },
  {
   "cell_type": "code",
   "execution_count": null,
   "metadata": {
    "collapsed": false
   },
   "outputs": [],
   "source": [
    "pulses['peaks']['height']-pulses['peaks']['minima']"
   ]
  },
  {
   "cell_type": "code",
   "execution_count": null,
   "metadata": {
    "collapsed": false
   },
   "outputs": [],
   "source": [
    "pulses['peaks']['minima']"
   ]
  },
  {
   "cell_type": "code",
   "execution_count": null,
   "metadata": {
    "collapsed": false
   },
   "outputs": [],
   "source": [
    "peak_count=np.right_shift(np.bitwise_and(pulses['flags'],0xF000),12)\n",
    "peak_overflow=np.bitwise_and(pulses['flags'],0x0800)!=0\n",
    "channel=np.right_shift(np.bitwise_and(pulses['flags'],0x0700),8)\n",
    "timing_type=np.right_shift(np.bitwise_and(pulses['flags'],0x00C0),6)\n",
    "height_type=np.right_shift(np.bitwise_and(pulses['flags'],0x0030),4)\n",
    "event_type=np.right_shift(np.bitwise_and(pulses['flags'],0x000E),1)\n",
    "new_window=np.bitwise_and(pulses['flags'],0x0001)!=0"
   ]
  },
  {
   "cell_type": "code",
   "execution_count": null,
   "metadata": {
    "collapsed": false
   },
   "outputs": [],
   "source": [
    "peak_overflow"
   ]
  },
  {
   "cell_type": "code",
   "execution_count": null,
   "metadata": {
    "collapsed": true
   },
   "outputs": [],
   "source": [
    "test_dt=np.dtype(\n",
    "    [('time','i2'),('flags','i2'),('rise','u2'),('minima','i2'),('low','u8'),('high','u8')]\n",
    ")\n",
    "test=data.view(test_dt)"
   ]
  },
  {
   "cell_type": "code",
   "execution_count": null,
   "metadata": {
    "collapsed": false
   },
   "outputs": [],
   "source": [
    "test"
   ]
  },
  {
   "cell_type": "code",
   "execution_count": null,
   "metadata": {
    "collapsed": false
   },
   "outputs": [],
   "source": [
    "test['minima']"
   ]
  },
  {
   "cell_type": "code",
   "execution_count": null,
   "metadata": {
    "collapsed": false
   },
   "outputs": [],
   "source": [
    "low1=np.int32(np.right_shift(np.bitwise_and(test['low'],0x03FFFF000000000),36))\n",
    "s=(np.bitwise_and(low1,0x00020000)!=0)*0xFFFC0000\n",
    "low2=np.int32(np.right_shift(np.bitwise_and(test['low'],0x000000FFFFC0000),18))\n",
    "low_threshold=np.int32(np.bitwise_and(test['low'],0x00000000003FFFF))\n",
    "high1=np.int32(np.right_shift(np.bitwise_and(test['high'],0x03FFFF000000000),36))\n",
    "high2=np.int32(np.right_shift(np.bitwise_and(test['high'],0x000000FFFFC0000),18))\n",
    "high_threshold=np.int32(np.bitwise_and(test['high'],0x00000000003FFFF))"
   ]
  },
  {
   "cell_type": "code",
   "execution_count": null,
   "metadata": {
    "collapsed": false
   },
   "outputs": [],
   "source": [
    "np.int32(np.bitwise_or(low1,s))/8.0"
   ]
  },
  {
   "cell_type": "code",
   "execution_count": null,
   "metadata": {
    "collapsed": false
   },
   "outputs": [],
   "source": [
    "'{:04X}'.format(low1[0])"
   ]
  },
  {
   "cell_type": "code",
   "execution_count": null,
   "metadata": {
    "collapsed": false
   },
   "outputs": [],
   "source": [
    "high1/8.0"
   ]
  },
  {
   "cell_type": "code",
   "execution_count": null,
   "metadata": {
    "collapsed": false
   },
   "outputs": [],
   "source": [
    "high2/8.0"
   ]
  },
  {
   "cell_type": "code",
   "execution_count": null,
   "metadata": {
    "collapsed": false
   },
   "outputs": [],
   "source": [
    "'{:04X}'.format(high_threshold[0])"
   ]
  },
  {
   "cell_type": "code",
   "execution_count": null,
   "metadata": {
    "collapsed": true
   },
   "outputs": [],
   "source": []
  }
 ],
 "metadata": {
  "anaconda-cloud": {},
  "kernelspec": {
   "display_name": "Python [default]",
   "language": "python",
   "name": "python3"
  },
  "language_info": {
   "codemirror_mode": {
    "name": "ipython",
    "version": 3
   },
   "file_extension": ".py",
   "mimetype": "text/x-python",
   "name": "python",
   "nbconvert_exporter": "python",
   "pygments_lexer": "ipython3",
   "version": "3.5.2"
  }
 },
 "nbformat": 4,
 "nbformat_minor": 1
}
