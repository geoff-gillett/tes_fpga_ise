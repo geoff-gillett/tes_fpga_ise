{
 "cells": [
  {
   "cell_type": "code",
   "execution_count": 1,
   "metadata": {
    "collapsed": false
   },
   "outputs": [],
   "source": [
    "from tes.data import Data,PacketStream,Packet\n",
    "import numpy as np\n",
    "import matplotlib.pyplot as plt"
   ]
  },
  {
   "cell_type": "code",
   "execution_count": 2,
   "metadata": {
    "collapsed": false
   },
   "outputs": [],
   "source": [
    "trace_dt=np.dtype([('raw','i4'),('filtered','i4'),('slope','i4'),('filteredL','i4')])"
   ]
  },
  {
   "cell_type": "code",
   "execution_count": 29,
   "metadata": {
    "collapsed": false
   },
   "outputs": [],
   "source": [
    "traces=np.fromfile('data/traces',trace_dt)"
   ]
  },
  {
   "cell_type": "code",
   "execution_count": 27,
   "metadata": {
    "collapsed": true
   },
   "outputs": [],
   "source": [
    "traces=Data.fromfile('traces',trace_dt,'teslib','measurement_subsystem_TB',tool='vivado')"
   ]
  },
  {
   "cell_type": "code",
   "execution_count": 28,
   "metadata": {
    "collapsed": false
   },
   "outputs": [
    {
     "data": {
      "application/javascript": [
       "/* Put everything inside the global mpl namespace */\n",
       "window.mpl = {};\n",
       "\n",
       "mpl.get_websocket_type = function() {\n",
       "    if (typeof(WebSocket) !== 'undefined') {\n",
       "        return WebSocket;\n",
       "    } else if (typeof(MozWebSocket) !== 'undefined') {\n",
       "        return MozWebSocket;\n",
       "    } else {\n",
       "        alert('Your browser does not have WebSocket support.' +\n",
       "              'Please try Chrome, Safari or Firefox ≥ 6. ' +\n",
       "              'Firefox 4 and 5 are also supported but you ' +\n",
       "              'have to enable WebSockets in about:config.');\n",
       "    };\n",
       "}\n",
       "\n",
       "mpl.figure = function(figure_id, websocket, ondownload, parent_element) {\n",
       "    this.id = figure_id;\n",
       "\n",
       "    this.ws = websocket;\n",
       "\n",
       "    this.supports_binary = (this.ws.binaryType != undefined);\n",
       "\n",
       "    if (!this.supports_binary) {\n",
       "        var warnings = document.getElementById(\"mpl-warnings\");\n",
       "        if (warnings) {\n",
       "            warnings.style.display = 'block';\n",
       "            warnings.textContent = (\n",
       "                \"This browser does not support binary websocket messages. \" +\n",
       "                    \"Performance may be slow.\");\n",
       "        }\n",
       "    }\n",
       "\n",
       "    this.imageObj = new Image();\n",
       "\n",
       "    this.context = undefined;\n",
       "    this.message = undefined;\n",
       "    this.canvas = undefined;\n",
       "    this.rubberband_canvas = undefined;\n",
       "    this.rubberband_context = undefined;\n",
       "    this.format_dropdown = undefined;\n",
       "\n",
       "    this.image_mode = 'full';\n",
       "\n",
       "    this.root = $('<div/>');\n",
       "    this._root_extra_style(this.root)\n",
       "    this.root.attr('style', 'display: inline-block');\n",
       "\n",
       "    $(parent_element).append(this.root);\n",
       "\n",
       "    this._init_header(this);\n",
       "    this._init_canvas(this);\n",
       "    this._init_toolbar(this);\n",
       "\n",
       "    var fig = this;\n",
       "\n",
       "    this.waiting = false;\n",
       "\n",
       "    this.ws.onopen =  function () {\n",
       "            fig.send_message(\"supports_binary\", {value: fig.supports_binary});\n",
       "            fig.send_message(\"send_image_mode\", {});\n",
       "            fig.send_message(\"refresh\", {});\n",
       "        }\n",
       "\n",
       "    this.imageObj.onload = function() {\n",
       "            if (fig.image_mode == 'full') {\n",
       "                // Full images could contain transparency (where diff images\n",
       "                // almost always do), so we need to clear the canvas so that\n",
       "                // there is no ghosting.\n",
       "                fig.context.clearRect(0, 0, fig.canvas.width, fig.canvas.height);\n",
       "            }\n",
       "            fig.context.drawImage(fig.imageObj, 0, 0);\n",
       "        };\n",
       "\n",
       "    this.imageObj.onunload = function() {\n",
       "        this.ws.close();\n",
       "    }\n",
       "\n",
       "    this.ws.onmessage = this._make_on_message_function(this);\n",
       "\n",
       "    this.ondownload = ondownload;\n",
       "}\n",
       "\n",
       "mpl.figure.prototype._init_header = function() {\n",
       "    var titlebar = $(\n",
       "        '<div class=\"ui-dialog-titlebar ui-widget-header ui-corner-all ' +\n",
       "        'ui-helper-clearfix\"/>');\n",
       "    var titletext = $(\n",
       "        '<div class=\"ui-dialog-title\" style=\"width: 100%; ' +\n",
       "        'text-align: center; padding: 3px;\"/>');\n",
       "    titlebar.append(titletext)\n",
       "    this.root.append(titlebar);\n",
       "    this.header = titletext[0];\n",
       "}\n",
       "\n",
       "\n",
       "\n",
       "mpl.figure.prototype._canvas_extra_style = function(canvas_div) {\n",
       "\n",
       "}\n",
       "\n",
       "\n",
       "mpl.figure.prototype._root_extra_style = function(canvas_div) {\n",
       "\n",
       "}\n",
       "\n",
       "mpl.figure.prototype._init_canvas = function() {\n",
       "    var fig = this;\n",
       "\n",
       "    var canvas_div = $('<div/>');\n",
       "\n",
       "    canvas_div.attr('style', 'position: relative; clear: both; outline: 0');\n",
       "\n",
       "    function canvas_keyboard_event(event) {\n",
       "        return fig.key_event(event, event['data']);\n",
       "    }\n",
       "\n",
       "    canvas_div.keydown('key_press', canvas_keyboard_event);\n",
       "    canvas_div.keyup('key_release', canvas_keyboard_event);\n",
       "    this.canvas_div = canvas_div\n",
       "    this._canvas_extra_style(canvas_div)\n",
       "    this.root.append(canvas_div);\n",
       "\n",
       "    var canvas = $('<canvas/>');\n",
       "    canvas.addClass('mpl-canvas');\n",
       "    canvas.attr('style', \"left: 0; top: 0; z-index: 0; outline: 0\")\n",
       "\n",
       "    this.canvas = canvas[0];\n",
       "    this.context = canvas[0].getContext(\"2d\");\n",
       "\n",
       "    var rubberband = $('<canvas/>');\n",
       "    rubberband.attr('style', \"position: absolute; left: 0; top: 0; z-index: 1;\")\n",
       "\n",
       "    var pass_mouse_events = true;\n",
       "\n",
       "    canvas_div.resizable({\n",
       "        start: function(event, ui) {\n",
       "            pass_mouse_events = false;\n",
       "        },\n",
       "        resize: function(event, ui) {\n",
       "            fig.request_resize(ui.size.width, ui.size.height);\n",
       "        },\n",
       "        stop: function(event, ui) {\n",
       "            pass_mouse_events = true;\n",
       "            fig.request_resize(ui.size.width, ui.size.height);\n",
       "        },\n",
       "    });\n",
       "\n",
       "    function mouse_event_fn(event) {\n",
       "        if (pass_mouse_events)\n",
       "            return fig.mouse_event(event, event['data']);\n",
       "    }\n",
       "\n",
       "    rubberband.mousedown('button_press', mouse_event_fn);\n",
       "    rubberband.mouseup('button_release', mouse_event_fn);\n",
       "    // Throttle sequential mouse events to 1 every 20ms.\n",
       "    rubberband.mousemove('motion_notify', mouse_event_fn);\n",
       "\n",
       "    rubberband.mouseenter('figure_enter', mouse_event_fn);\n",
       "    rubberband.mouseleave('figure_leave', mouse_event_fn);\n",
       "\n",
       "    canvas_div.on(\"wheel\", function (event) {\n",
       "        event = event.originalEvent;\n",
       "        event['data'] = 'scroll'\n",
       "        if (event.deltaY < 0) {\n",
       "            event.step = 1;\n",
       "        } else {\n",
       "            event.step = -1;\n",
       "        }\n",
       "        mouse_event_fn(event);\n",
       "    });\n",
       "\n",
       "    canvas_div.append(canvas);\n",
       "    canvas_div.append(rubberband);\n",
       "\n",
       "    this.rubberband = rubberband;\n",
       "    this.rubberband_canvas = rubberband[0];\n",
       "    this.rubberband_context = rubberband[0].getContext(\"2d\");\n",
       "    this.rubberband_context.strokeStyle = \"#000000\";\n",
       "\n",
       "    this._resize_canvas = function(width, height) {\n",
       "        // Keep the size of the canvas, canvas container, and rubber band\n",
       "        // canvas in synch.\n",
       "        canvas_div.css('width', width)\n",
       "        canvas_div.css('height', height)\n",
       "\n",
       "        canvas.attr('width', width);\n",
       "        canvas.attr('height', height);\n",
       "\n",
       "        rubberband.attr('width', width);\n",
       "        rubberband.attr('height', height);\n",
       "    }\n",
       "\n",
       "    // Set the figure to an initial 600x600px, this will subsequently be updated\n",
       "    // upon first draw.\n",
       "    this._resize_canvas(600, 600);\n",
       "\n",
       "    // Disable right mouse context menu.\n",
       "    $(this.rubberband_canvas).bind(\"contextmenu\",function(e){\n",
       "        return false;\n",
       "    });\n",
       "\n",
       "    function set_focus () {\n",
       "        canvas.focus();\n",
       "        canvas_div.focus();\n",
       "    }\n",
       "\n",
       "    window.setTimeout(set_focus, 100);\n",
       "}\n",
       "\n",
       "mpl.figure.prototype._init_toolbar = function() {\n",
       "    var fig = this;\n",
       "\n",
       "    var nav_element = $('<div/>')\n",
       "    nav_element.attr('style', 'width: 100%');\n",
       "    this.root.append(nav_element);\n",
       "\n",
       "    // Define a callback function for later on.\n",
       "    function toolbar_event(event) {\n",
       "        return fig.toolbar_button_onclick(event['data']);\n",
       "    }\n",
       "    function toolbar_mouse_event(event) {\n",
       "        return fig.toolbar_button_onmouseover(event['data']);\n",
       "    }\n",
       "\n",
       "    for(var toolbar_ind in mpl.toolbar_items) {\n",
       "        var name = mpl.toolbar_items[toolbar_ind][0];\n",
       "        var tooltip = mpl.toolbar_items[toolbar_ind][1];\n",
       "        var image = mpl.toolbar_items[toolbar_ind][2];\n",
       "        var method_name = mpl.toolbar_items[toolbar_ind][3];\n",
       "\n",
       "        if (!name) {\n",
       "            // put a spacer in here.\n",
       "            continue;\n",
       "        }\n",
       "        var button = $('<button/>');\n",
       "        button.addClass('ui-button ui-widget ui-state-default ui-corner-all ' +\n",
       "                        'ui-button-icon-only');\n",
       "        button.attr('role', 'button');\n",
       "        button.attr('aria-disabled', 'false');\n",
       "        button.click(method_name, toolbar_event);\n",
       "        button.mouseover(tooltip, toolbar_mouse_event);\n",
       "\n",
       "        var icon_img = $('<span/>');\n",
       "        icon_img.addClass('ui-button-icon-primary ui-icon');\n",
       "        icon_img.addClass(image);\n",
       "        icon_img.addClass('ui-corner-all');\n",
       "\n",
       "        var tooltip_span = $('<span/>');\n",
       "        tooltip_span.addClass('ui-button-text');\n",
       "        tooltip_span.html(tooltip);\n",
       "\n",
       "        button.append(icon_img);\n",
       "        button.append(tooltip_span);\n",
       "\n",
       "        nav_element.append(button);\n",
       "    }\n",
       "\n",
       "    var fmt_picker_span = $('<span/>');\n",
       "\n",
       "    var fmt_picker = $('<select/>');\n",
       "    fmt_picker.addClass('mpl-toolbar-option ui-widget ui-widget-content');\n",
       "    fmt_picker_span.append(fmt_picker);\n",
       "    nav_element.append(fmt_picker_span);\n",
       "    this.format_dropdown = fmt_picker[0];\n",
       "\n",
       "    for (var ind in mpl.extensions) {\n",
       "        var fmt = mpl.extensions[ind];\n",
       "        var option = $(\n",
       "            '<option/>', {selected: fmt === mpl.default_extension}).html(fmt);\n",
       "        fmt_picker.append(option)\n",
       "    }\n",
       "\n",
       "    // Add hover states to the ui-buttons\n",
       "    $( \".ui-button\" ).hover(\n",
       "        function() { $(this).addClass(\"ui-state-hover\");},\n",
       "        function() { $(this).removeClass(\"ui-state-hover\");}\n",
       "    );\n",
       "\n",
       "    var status_bar = $('<span class=\"mpl-message\"/>');\n",
       "    nav_element.append(status_bar);\n",
       "    this.message = status_bar[0];\n",
       "}\n",
       "\n",
       "mpl.figure.prototype.request_resize = function(x_pixels, y_pixels) {\n",
       "    // Request matplotlib to resize the figure. Matplotlib will then trigger a resize in the client,\n",
       "    // which will in turn request a refresh of the image.\n",
       "    this.send_message('resize', {'width': x_pixels, 'height': y_pixels});\n",
       "}\n",
       "\n",
       "mpl.figure.prototype.send_message = function(type, properties) {\n",
       "    properties['type'] = type;\n",
       "    properties['figure_id'] = this.id;\n",
       "    this.ws.send(JSON.stringify(properties));\n",
       "}\n",
       "\n",
       "mpl.figure.prototype.send_draw_message = function() {\n",
       "    if (!this.waiting) {\n",
       "        this.waiting = true;\n",
       "        this.ws.send(JSON.stringify({type: \"draw\", figure_id: this.id}));\n",
       "    }\n",
       "}\n",
       "\n",
       "\n",
       "mpl.figure.prototype.handle_save = function(fig, msg) {\n",
       "    var format_dropdown = fig.format_dropdown;\n",
       "    var format = format_dropdown.options[format_dropdown.selectedIndex].value;\n",
       "    fig.ondownload(fig, format);\n",
       "}\n",
       "\n",
       "\n",
       "mpl.figure.prototype.handle_resize = function(fig, msg) {\n",
       "    var size = msg['size'];\n",
       "    if (size[0] != fig.canvas.width || size[1] != fig.canvas.height) {\n",
       "        fig._resize_canvas(size[0], size[1]);\n",
       "        fig.send_message(\"refresh\", {});\n",
       "    };\n",
       "}\n",
       "\n",
       "mpl.figure.prototype.handle_rubberband = function(fig, msg) {\n",
       "    var x0 = msg['x0'];\n",
       "    var y0 = fig.canvas.height - msg['y0'];\n",
       "    var x1 = msg['x1'];\n",
       "    var y1 = fig.canvas.height - msg['y1'];\n",
       "    x0 = Math.floor(x0) + 0.5;\n",
       "    y0 = Math.floor(y0) + 0.5;\n",
       "    x1 = Math.floor(x1) + 0.5;\n",
       "    y1 = Math.floor(y1) + 0.5;\n",
       "    var min_x = Math.min(x0, x1);\n",
       "    var min_y = Math.min(y0, y1);\n",
       "    var width = Math.abs(x1 - x0);\n",
       "    var height = Math.abs(y1 - y0);\n",
       "\n",
       "    fig.rubberband_context.clearRect(\n",
       "        0, 0, fig.canvas.width, fig.canvas.height);\n",
       "\n",
       "    fig.rubberband_context.strokeRect(min_x, min_y, width, height);\n",
       "}\n",
       "\n",
       "mpl.figure.prototype.handle_figure_label = function(fig, msg) {\n",
       "    // Updates the figure title.\n",
       "    fig.header.textContent = msg['label'];\n",
       "}\n",
       "\n",
       "mpl.figure.prototype.handle_cursor = function(fig, msg) {\n",
       "    var cursor = msg['cursor'];\n",
       "    switch(cursor)\n",
       "    {\n",
       "    case 0:\n",
       "        cursor = 'pointer';\n",
       "        break;\n",
       "    case 1:\n",
       "        cursor = 'default';\n",
       "        break;\n",
       "    case 2:\n",
       "        cursor = 'crosshair';\n",
       "        break;\n",
       "    case 3:\n",
       "        cursor = 'move';\n",
       "        break;\n",
       "    }\n",
       "    fig.rubberband_canvas.style.cursor = cursor;\n",
       "}\n",
       "\n",
       "mpl.figure.prototype.handle_message = function(fig, msg) {\n",
       "    fig.message.textContent = msg['message'];\n",
       "}\n",
       "\n",
       "mpl.figure.prototype.handle_draw = function(fig, msg) {\n",
       "    // Request the server to send over a new figure.\n",
       "    fig.send_draw_message();\n",
       "}\n",
       "\n",
       "mpl.figure.prototype.handle_image_mode = function(fig, msg) {\n",
       "    fig.image_mode = msg['mode'];\n",
       "}\n",
       "\n",
       "mpl.figure.prototype.updated_canvas_event = function() {\n",
       "    // Called whenever the canvas gets updated.\n",
       "    this.send_message(\"ack\", {});\n",
       "}\n",
       "\n",
       "// A function to construct a web socket function for onmessage handling.\n",
       "// Called in the figure constructor.\n",
       "mpl.figure.prototype._make_on_message_function = function(fig) {\n",
       "    return function socket_on_message(evt) {\n",
       "        if (evt.data instanceof Blob) {\n",
       "            /* FIXME: We get \"Resource interpreted as Image but\n",
       "             * transferred with MIME type text/plain:\" errors on\n",
       "             * Chrome.  But how to set the MIME type?  It doesn't seem\n",
       "             * to be part of the websocket stream */\n",
       "            evt.data.type = \"image/png\";\n",
       "\n",
       "            /* Free the memory for the previous frames */\n",
       "            if (fig.imageObj.src) {\n",
       "                (window.URL || window.webkitURL).revokeObjectURL(\n",
       "                    fig.imageObj.src);\n",
       "            }\n",
       "\n",
       "            fig.imageObj.src = (window.URL || window.webkitURL).createObjectURL(\n",
       "                evt.data);\n",
       "            fig.updated_canvas_event();\n",
       "            fig.waiting = false;\n",
       "            return;\n",
       "        }\n",
       "        else if (typeof evt.data === 'string' && evt.data.slice(0, 21) == \"data:image/png;base64\") {\n",
       "            fig.imageObj.src = evt.data;\n",
       "            fig.updated_canvas_event();\n",
       "            fig.waiting = false;\n",
       "            return;\n",
       "        }\n",
       "\n",
       "        var msg = JSON.parse(evt.data);\n",
       "        var msg_type = msg['type'];\n",
       "\n",
       "        // Call the  \"handle_{type}\" callback, which takes\n",
       "        // the figure and JSON message as its only arguments.\n",
       "        try {\n",
       "            var callback = fig[\"handle_\" + msg_type];\n",
       "        } catch (e) {\n",
       "            console.log(\"No handler for the '\" + msg_type + \"' message type: \", msg);\n",
       "            return;\n",
       "        }\n",
       "\n",
       "        if (callback) {\n",
       "            try {\n",
       "                // console.log(\"Handling '\" + msg_type + \"' message: \", msg);\n",
       "                callback(fig, msg);\n",
       "            } catch (e) {\n",
       "                console.log(\"Exception inside the 'handler_\" + msg_type + \"' callback:\", e, e.stack, msg);\n",
       "            }\n",
       "        }\n",
       "    };\n",
       "}\n",
       "\n",
       "// from http://stackoverflow.com/questions/1114465/getting-mouse-location-in-canvas\n",
       "mpl.findpos = function(e) {\n",
       "    //this section is from http://www.quirksmode.org/js/events_properties.html\n",
       "    var targ;\n",
       "    if (!e)\n",
       "        e = window.event;\n",
       "    if (e.target)\n",
       "        targ = e.target;\n",
       "    else if (e.srcElement)\n",
       "        targ = e.srcElement;\n",
       "    if (targ.nodeType == 3) // defeat Safari bug\n",
       "        targ = targ.parentNode;\n",
       "\n",
       "    // jQuery normalizes the pageX and pageY\n",
       "    // pageX,Y are the mouse positions relative to the document\n",
       "    // offset() returns the position of the element relative to the document\n",
       "    var x = e.pageX - $(targ).offset().left;\n",
       "    var y = e.pageY - $(targ).offset().top;\n",
       "\n",
       "    return {\"x\": x, \"y\": y};\n",
       "};\n",
       "\n",
       "/*\n",
       " * return a copy of an object with only non-object keys\n",
       " * we need this to avoid circular references\n",
       " * http://stackoverflow.com/a/24161582/3208463\n",
       " */\n",
       "function simpleKeys (original) {\n",
       "  return Object.keys(original).reduce(function (obj, key) {\n",
       "    if (typeof original[key] !== 'object')\n",
       "        obj[key] = original[key]\n",
       "    return obj;\n",
       "  }, {});\n",
       "}\n",
       "\n",
       "mpl.figure.prototype.mouse_event = function(event, name) {\n",
       "    var canvas_pos = mpl.findpos(event)\n",
       "\n",
       "    if (name === 'button_press')\n",
       "    {\n",
       "        this.canvas.focus();\n",
       "        this.canvas_div.focus();\n",
       "    }\n",
       "\n",
       "    var x = canvas_pos.x;\n",
       "    var y = canvas_pos.y;\n",
       "\n",
       "    this.send_message(name, {x: x, y: y, button: event.button,\n",
       "                             step: event.step,\n",
       "                             guiEvent: simpleKeys(event)});\n",
       "\n",
       "    /* This prevents the web browser from automatically changing to\n",
       "     * the text insertion cursor when the button is pressed.  We want\n",
       "     * to control all of the cursor setting manually through the\n",
       "     * 'cursor' event from matplotlib */\n",
       "    event.preventDefault();\n",
       "    return false;\n",
       "}\n",
       "\n",
       "mpl.figure.prototype._key_event_extra = function(event, name) {\n",
       "    // Handle any extra behaviour associated with a key event\n",
       "}\n",
       "\n",
       "mpl.figure.prototype.key_event = function(event, name) {\n",
       "\n",
       "    // Prevent repeat events\n",
       "    if (name == 'key_press')\n",
       "    {\n",
       "        if (event.which === this._key)\n",
       "            return;\n",
       "        else\n",
       "            this._key = event.which;\n",
       "    }\n",
       "    if (name == 'key_release')\n",
       "        this._key = null;\n",
       "\n",
       "    var value = '';\n",
       "    if (event.ctrlKey && event.which != 17)\n",
       "        value += \"ctrl+\";\n",
       "    if (event.altKey && event.which != 18)\n",
       "        value += \"alt+\";\n",
       "    if (event.shiftKey && event.which != 16)\n",
       "        value += \"shift+\";\n",
       "\n",
       "    value += 'k';\n",
       "    value += event.which.toString();\n",
       "\n",
       "    this._key_event_extra(event, name);\n",
       "\n",
       "    this.send_message(name, {key: value,\n",
       "                             guiEvent: simpleKeys(event)});\n",
       "    return false;\n",
       "}\n",
       "\n",
       "mpl.figure.prototype.toolbar_button_onclick = function(name) {\n",
       "    if (name == 'download') {\n",
       "        this.handle_save(this, null);\n",
       "    } else {\n",
       "        this.send_message(\"toolbar_button\", {name: name});\n",
       "    }\n",
       "};\n",
       "\n",
       "mpl.figure.prototype.toolbar_button_onmouseover = function(tooltip) {\n",
       "    this.message.textContent = tooltip;\n",
       "};\n",
       "mpl.toolbar_items = [[\"Home\", \"Reset original view\", \"fa fa-home icon-home\", \"home\"], [\"Back\", \"Back to  previous view\", \"fa fa-arrow-left icon-arrow-left\", \"back\"], [\"Forward\", \"Forward to next view\", \"fa fa-arrow-right icon-arrow-right\", \"forward\"], [\"\", \"\", \"\", \"\"], [\"Pan\", \"Pan axes with left mouse, zoom with right\", \"fa fa-arrows icon-move\", \"pan\"], [\"Zoom\", \"Zoom to rectangle\", \"fa fa-square-o icon-check-empty\", \"zoom\"], [\"\", \"\", \"\", \"\"], [\"Download\", \"Download plot\", \"fa fa-floppy-o icon-save\", \"download\"]];\n",
       "\n",
       "mpl.extensions = [\"eps\", \"jpeg\", \"pdf\", \"png\", \"ps\", \"raw\", \"svg\", \"tif\"];\n",
       "\n",
       "mpl.default_extension = \"png\";var comm_websocket_adapter = function(comm) {\n",
       "    // Create a \"websocket\"-like object which calls the given IPython comm\n",
       "    // object with the appropriate methods. Currently this is a non binary\n",
       "    // socket, so there is still some room for performance tuning.\n",
       "    var ws = {};\n",
       "\n",
       "    ws.close = function() {\n",
       "        comm.close()\n",
       "    };\n",
       "    ws.send = function(m) {\n",
       "        //console.log('sending', m);\n",
       "        comm.send(m);\n",
       "    };\n",
       "    // Register the callback with on_msg.\n",
       "    comm.on_msg(function(msg) {\n",
       "        //console.log('receiving', msg['content']['data'], msg);\n",
       "        // Pass the mpl event to the overriden (by mpl) onmessage function.\n",
       "        ws.onmessage(msg['content']['data'])\n",
       "    });\n",
       "    return ws;\n",
       "}\n",
       "\n",
       "mpl.mpl_figure_comm = function(comm, msg) {\n",
       "    // This is the function which gets called when the mpl process\n",
       "    // starts-up an IPython Comm through the \"matplotlib\" channel.\n",
       "\n",
       "    var id = msg.content.data.id;\n",
       "    // Get hold of the div created by the display call when the Comm\n",
       "    // socket was opened in Python.\n",
       "    var element = $(\"#\" + id);\n",
       "    var ws_proxy = comm_websocket_adapter(comm)\n",
       "\n",
       "    function ondownload(figure, format) {\n",
       "        window.open(figure.imageObj.src);\n",
       "    }\n",
       "\n",
       "    var fig = new mpl.figure(id, ws_proxy,\n",
       "                           ondownload,\n",
       "                           element.get(0));\n",
       "\n",
       "    // Call onopen now - mpl needs it, as it is assuming we've passed it a real\n",
       "    // web socket which is closed, not our websocket->open comm proxy.\n",
       "    ws_proxy.onopen();\n",
       "\n",
       "    fig.parent_element = element.get(0);\n",
       "    fig.cell_info = mpl.find_output_cell(\"<div id='\" + id + \"'></div>\");\n",
       "    if (!fig.cell_info) {\n",
       "        console.error(\"Failed to find cell for figure\", id, fig);\n",
       "        return;\n",
       "    }\n",
       "\n",
       "    var output_index = fig.cell_info[2]\n",
       "    var cell = fig.cell_info[0];\n",
       "\n",
       "};\n",
       "\n",
       "mpl.figure.prototype.handle_close = function(fig, msg) {\n",
       "    fig.root.unbind('remove')\n",
       "\n",
       "    // Update the output cell to use the data from the current canvas.\n",
       "    fig.push_to_output();\n",
       "    var dataURL = fig.canvas.toDataURL();\n",
       "    // Re-enable the keyboard manager in IPython - without this line, in FF,\n",
       "    // the notebook keyboard shortcuts fail.\n",
       "    IPython.keyboard_manager.enable()\n",
       "    $(fig.parent_element).html('<img src=\"' + dataURL + '\">');\n",
       "    fig.close_ws(fig, msg);\n",
       "}\n",
       "\n",
       "mpl.figure.prototype.close_ws = function(fig, msg){\n",
       "    fig.send_message('closing', msg);\n",
       "    // fig.ws.close()\n",
       "}\n",
       "\n",
       "mpl.figure.prototype.push_to_output = function(remove_interactive) {\n",
       "    // Turn the data on the canvas into data in the output cell.\n",
       "    var dataURL = this.canvas.toDataURL();\n",
       "    this.cell_info[1]['text/html'] = '<img src=\"' + dataURL + '\">';\n",
       "}\n",
       "\n",
       "mpl.figure.prototype.updated_canvas_event = function() {\n",
       "    // Tell IPython that the notebook contents must change.\n",
       "    IPython.notebook.set_dirty(true);\n",
       "    this.send_message(\"ack\", {});\n",
       "    var fig = this;\n",
       "    // Wait a second, then push the new image to the DOM so\n",
       "    // that it is saved nicely (might be nice to debounce this).\n",
       "    setTimeout(function () { fig.push_to_output() }, 1000);\n",
       "}\n",
       "\n",
       "mpl.figure.prototype._init_toolbar = function() {\n",
       "    var fig = this;\n",
       "\n",
       "    var nav_element = $('<div/>')\n",
       "    nav_element.attr('style', 'width: 100%');\n",
       "    this.root.append(nav_element);\n",
       "\n",
       "    // Define a callback function for later on.\n",
       "    function toolbar_event(event) {\n",
       "        return fig.toolbar_button_onclick(event['data']);\n",
       "    }\n",
       "    function toolbar_mouse_event(event) {\n",
       "        return fig.toolbar_button_onmouseover(event['data']);\n",
       "    }\n",
       "\n",
       "    for(var toolbar_ind in mpl.toolbar_items){\n",
       "        var name = mpl.toolbar_items[toolbar_ind][0];\n",
       "        var tooltip = mpl.toolbar_items[toolbar_ind][1];\n",
       "        var image = mpl.toolbar_items[toolbar_ind][2];\n",
       "        var method_name = mpl.toolbar_items[toolbar_ind][3];\n",
       "\n",
       "        if (!name) { continue; };\n",
       "\n",
       "        var button = $('<button class=\"btn btn-default\" href=\"#\" title=\"' + name + '\"><i class=\"fa ' + image + ' fa-lg\"></i></button>');\n",
       "        button.click(method_name, toolbar_event);\n",
       "        button.mouseover(tooltip, toolbar_mouse_event);\n",
       "        nav_element.append(button);\n",
       "    }\n",
       "\n",
       "    // Add the status bar.\n",
       "    var status_bar = $('<span class=\"mpl-message\" style=\"text-align:right; float: right;\"/>');\n",
       "    nav_element.append(status_bar);\n",
       "    this.message = status_bar[0];\n",
       "\n",
       "    // Add the close button to the window.\n",
       "    var buttongrp = $('<div class=\"btn-group inline pull-right\"></div>');\n",
       "    var button = $('<button class=\"btn btn-mini btn-primary\" href=\"#\" title=\"Stop Interaction\"><i class=\"fa fa-power-off icon-remove icon-large\"></i></button>');\n",
       "    button.click(function (evt) { fig.handle_close(fig, {}); } );\n",
       "    button.mouseover('Stop Interaction', toolbar_mouse_event);\n",
       "    buttongrp.append(button);\n",
       "    var titlebar = this.root.find($('.ui-dialog-titlebar'));\n",
       "    titlebar.prepend(buttongrp);\n",
       "}\n",
       "\n",
       "mpl.figure.prototype._root_extra_style = function(el){\n",
       "    var fig = this\n",
       "    el.on(\"remove\", function(){\n",
       "\tfig.close_ws(fig, {});\n",
       "    });\n",
       "}\n",
       "\n",
       "mpl.figure.prototype._canvas_extra_style = function(el){\n",
       "    // this is important to make the div 'focusable\n",
       "    el.attr('tabindex', 0)\n",
       "    // reach out to IPython and tell the keyboard manager to turn it's self\n",
       "    // off when our div gets focus\n",
       "\n",
       "    // location in version 3\n",
       "    if (IPython.notebook.keyboard_manager) {\n",
       "        IPython.notebook.keyboard_manager.register_events(el);\n",
       "    }\n",
       "    else {\n",
       "        // location in version 2\n",
       "        IPython.keyboard_manager.register_events(el);\n",
       "    }\n",
       "\n",
       "}\n",
       "\n",
       "mpl.figure.prototype._key_event_extra = function(event, name) {\n",
       "    var manager = IPython.notebook.keyboard_manager;\n",
       "    if (!manager)\n",
       "        manager = IPython.keyboard_manager;\n",
       "\n",
       "    // Check for shift+enter\n",
       "    if (event.shiftKey && event.which == 13) {\n",
       "        this.canvas_div.blur();\n",
       "        // select the cell after this one\n",
       "        var index = IPython.notebook.find_cell_index(this.cell_info[0]);\n",
       "        IPython.notebook.select(index + 1);\n",
       "    }\n",
       "}\n",
       "\n",
       "mpl.figure.prototype.handle_save = function(fig, msg) {\n",
       "    fig.ondownload(fig, null);\n",
       "}\n",
       "\n",
       "\n",
       "mpl.find_output_cell = function(html_output) {\n",
       "    // Return the cell and output element which can be found *uniquely* in the notebook.\n",
       "    // Note - this is a bit hacky, but it is done because the \"notebook_saving.Notebook\"\n",
       "    // IPython event is triggered only after the cells have been serialised, which for\n",
       "    // our purposes (turning an active figure into a static one), is too late.\n",
       "    var cells = IPython.notebook.get_cells();\n",
       "    var ncells = cells.length;\n",
       "    for (var i=0; i<ncells; i++) {\n",
       "        var cell = cells[i];\n",
       "        if (cell.cell_type === 'code'){\n",
       "            for (var j=0; j<cell.output_area.outputs.length; j++) {\n",
       "                var data = cell.output_area.outputs[j];\n",
       "                if (data.data) {\n",
       "                    // IPython >= 3 moved mimebundle to data attribute of output\n",
       "                    data = data.data;\n",
       "                }\n",
       "                if (data['text/html'] == html_output) {\n",
       "                    return [cell, data, j];\n",
       "                }\n",
       "            }\n",
       "        }\n",
       "    }\n",
       "}\n",
       "\n",
       "// Register the function which deals with the matplotlib target/channel.\n",
       "// The kernel may be null if the page has been refreshed.\n",
       "if (IPython.notebook.kernel != null) {\n",
       "    IPython.notebook.kernel.comm_manager.register_target('matplotlib', mpl.mpl_figure_comm);\n",
       "}\n"
      ],
      "text/plain": [
       "<IPython.core.display.Javascript object>"
      ]
     },
     "metadata": {},
     "output_type": "display_data"
    },
    {
     "data": {
      "text/html": [
       "<img src=\"data:image/png;base64,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\">"
      ],
      "text/plain": [
       "<IPython.core.display.HTML object>"
      ]
     },
     "metadata": {},
     "output_type": "display_data"
    },
    {
     "data": {
      "text/plain": [
       "[<matplotlib.lines.Line2D at 0x12d02160>]"
      ]
     },
     "execution_count": 28,
     "metadata": {},
     "output_type": "execute_result"
    }
   ],
   "source": [
    "%matplotlib notebook\n",
    "start=467000\n",
    "width=300\n",
    "plt.plot(traces['filtered'][21300:21800]/2)"
   ]
  },
  {
   "cell_type": "code",
   "execution_count": null,
   "metadata": {
    "collapsed": false
   },
   "outputs": [],
   "source": [
    "filtered=traces['filtered'][1100:]\n",
    "filteredL=traces['filteredL'][1100:]"
   ]
  },
  {
   "cell_type": "code",
   "execution_count": null,
   "metadata": {
    "collapsed": false
   },
   "outputs": [],
   "source": [
    "filtered[:10]"
   ]
  },
  {
   "cell_type": "code",
   "execution_count": null,
   "metadata": {
    "collapsed": false
   },
   "outputs": [],
   "source": [
    "filteredL[:10]/4"
   ]
  },
  {
   "cell_type": "code",
   "execution_count": 36,
   "metadata": {
    "collapsed": false
   },
   "outputs": [],
   "source": [
    "minmax_dt=np.dtype([('filtered','i4'),('low','i4'),('high','i4'),('clk','i4')])\n",
    "minmax=Data.fromfile('minmax',minmax_dt,'teslib','measurement_subsystem_TB',tool='vivado')\n",
    "fxing_dt=np.dtype([('extrema','i4'),('area','i4'),('clk','i4')])\n",
    "fxing=Data.fromfile('filteredxing',fxing_dt,'teslib','measurement_subsystem_TB',tool='vivado')"
   ]
  },
  {
   "cell_type": "code",
   "execution_count": 37,
   "metadata": {
    "collapsed": false
   },
   "outputs": [
    {
     "data": {
      "text/plain": [
       "array([(-1013, -3800, -1783, 1207), (-383, -3800, -1783, -1231),\n",
       "       (-715, -2704, -1444, 1248), ..., (93, 436, 945, 500176),\n",
       "       (252, 436, 945, -500199), (-84, 182, 4337, 500218)], \n",
       "      dtype=[('filtered', '<i4'), ('low', '<i4'), ('high', '<i4'), ('clk', '<i4')])"
      ]
     },
     "execution_count": 37,
     "metadata": {},
     "output_type": "execute_result"
    }
   ],
   "source": [
    "minmax"
   ]
  },
  {
   "cell_type": "code",
   "execution_count": null,
   "metadata": {
    "collapsed": false
   },
   "outputs": [],
   "source": [
    "fxing"
   ]
  },
  {
   "cell_type": "code",
   "execution_count": null,
   "metadata": {
    "collapsed": false
   },
   "outputs": [],
   "source": [
    "np.where(fxing['area']==0)"
   ]
  },
  {
   "cell_type": "code",
   "execution_count": null,
   "metadata": {
    "collapsed": false
   },
   "outputs": [],
   "source": [
    "np.where(fxing['extrema']==0)"
   ]
  },
  {
   "cell_type": "code",
   "execution_count": null,
   "metadata": {
    "collapsed": false
   },
   "outputs": [],
   "source": [
    "fxing[30]"
   ]
  },
  {
   "cell_type": "code",
   "execution_count": null,
   "metadata": {
    "collapsed": false
   },
   "outputs": [],
   "source": [
    "exn=np.where(fxing['extrema']<0)\n",
    "clkn=np.where(fxing['clk']>0)"
   ]
  },
  {
   "cell_type": "code",
   "execution_count": null,
   "metadata": {
    "collapsed": true
   },
   "outputs": [],
   "source": []
  },
  {
   "cell_type": "code",
   "execution_count": null,
   "metadata": {
    "collapsed": false
   },
   "outputs": [],
   "source": [
    "fxing[374]"
   ]
  },
  {
   "cell_type": "code",
   "execution_count": null,
   "metadata": {
    "collapsed": false
   },
   "outputs": [],
   "source": [
    "clkn"
   ]
  },
  {
   "cell_type": "code",
   "execution_count": null,
   "metadata": {
    "collapsed": false
   },
   "outputs": [],
   "source": [
    "np.where(minmax[maxs[0]-1]['min']!=1)"
   ]
  },
  {
   "cell_type": "code",
   "execution_count": null,
   "metadata": {
    "collapsed": false
   },
   "outputs": [],
   "source": [
    "minmax[maxs[0]-1][65]"
   ]
  },
  {
   "cell_type": "code",
   "execution_count": null,
   "metadata": {
    "collapsed": false
   },
   "outputs": [],
   "source": [
    "2290-925"
   ]
  },
  {
   "cell_type": "code",
   "execution_count": null,
   "metadata": {
    "collapsed": false
   },
   "outputs": [],
   "source": [
    "0.375*4"
   ]
  },
  {
   "cell_type": "code",
   "execution_count": null,
   "metadata": {
    "collapsed": false
   },
   "outputs": [],
   "source": [
    "np.where(minmax['clock']==2290)"
   ]
  },
  {
   "cell_type": "code",
   "execution_count": null,
   "metadata": {
    "collapsed": false
   },
   "outputs": [],
   "source": [
    "minmax[120:140]"
   ]
  },
  {
   "cell_type": "code",
   "execution_count": null,
   "metadata": {
    "collapsed": false
   },
   "outputs": [],
   "source": [
    "stream_dt=np.dtype([('data','>i4'),('last','i4')])\n",
    "#stream=np.fromfile('data/stream',stream_dt)"
   ]
  },
  {
   "cell_type": "markdown",
   "metadata": {},
   "source": [
    "### bytestream stuff"
   ]
  },
  {
   "cell_type": "code",
   "execution_count": 38,
   "metadata": {
    "collapsed": false
   },
   "outputs": [],
   "source": [
    "stream_dt=np.dtype([('data','i4'),('last','i4')])\n",
    "stream=Data.fromfile('bytestream',stream_dt,'teslib','measurement_subsystem_TB',tool='vivado')\n",
    "lasts=np.where(stream['last']<=0)[0]+1\n",
    "#data=np.copy(stream['data'])"
   ]
  },
  {
   "cell_type": "code",
   "execution_count": 14,
   "metadata": {
    "collapsed": false
   },
   "outputs": [
    {
     "data": {
      "text/plain": [
       "array([(90, 69), (1, 71), (2, 73), ..., (0, 349943), (0, 349945),\n",
       "       (0, 349947)], \n",
       "      dtype=[('data', '<i4'), ('last', '<i4')])"
      ]
     },
     "execution_count": 14,
     "metadata": {},
     "output_type": "execute_result"
    }
   ],
   "source": [
    "stream"
   ]
  },
  {
   "cell_type": "code",
   "execution_count": null,
   "metadata": {
    "collapsed": true
   },
   "outputs": [],
   "source": []
  },
  {
   "cell_type": "code",
   "execution_count": 17,
   "metadata": {
    "collapsed": true
   },
   "outputs": [],
   "source": [
    "stream=np.fromfile('data/bytestream',stream_dt)"
   ]
  },
  {
   "cell_type": "code",
   "execution_count": 39,
   "metadata": {
    "collapsed": false
   },
   "outputs": [],
   "source": [
    "bs=PacketStream(stream)"
   ]
  },
  {
   "cell_type": "code",
   "execution_count": 40,
   "metadata": {
    "collapsed": false
   },
   "outputs": [
    {
     "data": {
      "text/plain": [
       "[ethertype:88B5 length:48 Payload:tick frame:0 protocol:0,\n",
       " ethertype:88B5 length:232 Payload:peak frame:1 protocol:1]"
      ]
     },
     "execution_count": 40,
     "metadata": {},
     "output_type": "execute_result"
    }
   ],
   "source": [
    "bs.packets"
   ]
  },
  {
   "cell_type": "code",
   "execution_count": 12,
   "metadata": {
    "collapsed": false
   },
   "outputs": [
    {
     "data": {
      "text/plain": [
       "ethertype:88B5 length:56 Payload:pulse frame:2 protocol:2"
      ]
     },
     "execution_count": 12,
     "metadata": {},
     "output_type": "execute_result"
    }
   ],
   "source": [
    "bs.packets[2]"
   ]
  },
  {
   "cell_type": "code",
   "execution_count": null,
   "metadata": {
    "collapsed": true
   },
   "outputs": [],
   "source": [
    "eheader_dt=[('etype','<u2'),('length','u2'),()]"
   ]
  },
  {
   "cell_type": "code",
   "execution_count": null,
   "metadata": {
    "collapsed": false
   },
   "outputs": [],
   "source": [
    "'{:X}'.format(bs.packets[1].bytes[23])\n"
   ]
  },
  {
   "cell_type": "code",
   "execution_count": null,
   "metadata": {
    "collapsed": false
   },
   "outputs": [],
   "source": [
    "'{:X}'.format(bs.packets[0].bytes[28:30].view(np.uint16)[0])"
   ]
  },
  {
   "cell_type": "code",
   "execution_count": 13,
   "metadata": {
    "collapsed": true
   },
   "outputs": [],
   "source": [
    "pulse_peak_dt=np.dtype([('height','i2'),('rise','i2'),('minima','u2'),('time','i2')])\n",
    "pulse_dt=np.dtype([('size','i2'),('resv','i2'),('flags','i2'),('time','u2'),\n",
    "                  ('area','i4'),('length','i2'),('offset','i2'),('peaks',(pulse_peak_dt,2))])"
   ]
  },
  {
   "cell_type": "code",
   "execution_count": 14,
   "metadata": {
    "collapsed": false
   },
   "outputs": [],
   "source": [
    "pulses=bs.packets[2].payload.view(pulse_dt)"
   ]
  },
  {
   "cell_type": "code",
   "execution_count": 15,
   "metadata": {
    "collapsed": false
   },
   "outputs": [
    {
     "data": {
      "text/plain": [
       "array([[(1329, 41, 65485, 40), (0, 0, 0, 0)]], \n",
       "      dtype=[('height', '<i2'), ('rise', '<i2'), ('minima', '<u2'), ('time', '<i2')])"
      ]
     },
     "execution_count": 15,
     "metadata": {},
     "output_type": "execute_result"
    }
   ],
   "source": [
    "pulses['peaks']"
   ]
  },
  {
   "cell_type": "code",
   "execution_count": 9,
   "metadata": {
    "collapsed": false
   },
   "outputs": [
    {
     "data": {
      "text/plain": [
       "array([30], dtype=int16)"
      ]
     },
     "execution_count": 9,
     "metadata": {},
     "output_type": "execute_result"
    }
   ],
   "source": [
    "pulses['offset']"
   ]
  },
  {
   "cell_type": "code",
   "execution_count": 10,
   "metadata": {
    "collapsed": false
   },
   "outputs": [
    {
     "data": {
      "text/plain": [
       "array([648], dtype=int16)"
      ]
     },
     "execution_count": 10,
     "metadata": {},
     "output_type": "execute_result"
    }
   ],
   "source": [
    "pulses['length']"
   ]
  },
  {
   "cell_type": "code",
   "execution_count": null,
   "metadata": {
    "collapsed": false
   },
   "outputs": [],
   "source": [
    "class eflags:\n",
    "    def __init__(self,uint16):\n",
    "        self.new_window=np.bitwise_and(uint16,0x00000001)!=0\n",
    "        self.tick=np.bitwise_and(uint16,0x00000002)!=0\n",
    "        self.type=np.right_shift(np.bitwise_and(uint16,0x0000000c),2)\n",
    "        \n",
    "    def __repr__(self):\n",
    "        return 'New window:{:}\\n'.format(self.new_window) + \\\n",
    "               'Tick:{:}\\n'.format(self.tick) + \\\n",
    "               'Type:{:}\\n'.format(self.type) "
   ]
  },
  {
   "cell_type": "code",
   "execution_count": null,
   "metadata": {
    "collapsed": false
   },
   "outputs": [],
   "source": [
    "f=eflags(pulses[0]['flags'])\n",
    "f"
   ]
  },
  {
   "cell_type": "code",
   "execution_count": null,
   "metadata": {
    "collapsed": false
   },
   "outputs": [],
   "source": [
    "'{:X}'.format(bs.packets[3].bytes[13:14].view(np.uint16))"
   ]
  },
  {
   "cell_type": "code",
   "execution_count": null,
   "metadata": {
    "collapsed": true
   },
   "outputs": [],
   "source": []
  },
  {
   "cell_type": "code",
   "execution_count": null,
   "metadata": {
    "collapsed": false
   },
   "outputs": [],
   "source": [
    "'{:X}'.format(bs.packets[3].bytes[14:16].view(np.uint16)[0])"
   ]
  },
  {
   "cell_type": "code",
   "execution_count": null,
   "metadata": {
    "collapsed": false
   },
   "outputs": [],
   "source": [
    "bs.packets[3].bytes[14:16].view(np.uint16)[0]"
   ]
  },
  {
   "cell_type": "code",
   "execution_count": null,
   "metadata": {
    "collapsed": false
   },
   "outputs": [],
   "source": [
    "bs=np.uint8(stream['data'][:48])"
   ]
  },
  {
   "cell_type": "code",
   "execution_count": null,
   "metadata": {
    "collapsed": false
   },
   "outputs": [],
   "source": [
    "bs"
   ]
  },
  {
   "cell_type": "code",
   "execution_count": null,
   "metadata": {
    "collapsed": false
   },
   "outputs": [],
   "source": [
    "events=stream['data'].view(event_dt)"
   ]
  },
  {
   "cell_type": "code",
   "execution_count": null,
   "metadata": {
    "collapsed": false
   },
   "outputs": [],
   "source": [
    "'{:X}'.format(events['flags'][0])"
   ]
  },
  {
   "cell_type": "code",
   "execution_count": null,
   "metadata": {
    "collapsed": false
   },
   "outputs": [],
   "source": [
    "events['rise']"
   ]
  },
  {
   "cell_type": "code",
   "execution_count": null,
   "metadata": {
    "collapsed": false
   },
   "outputs": [],
   "source": [
    "events"
   ]
  },
  {
   "cell_type": "code",
   "execution_count": null,
   "metadata": {
    "collapsed": false
   },
   "outputs": [],
   "source": [
    "'{:04X}'.format(events['flags'][1])"
   ]
  },
  {
   "cell_type": "code",
   "execution_count": null,
   "metadata": {
    "collapsed": true
   },
   "outputs": [],
   "source": [
    "pulse_peak_dt=np.dtype([('time','>i2'),('minima','>i2'),('rise','>u2'),('height','>i2')])\n",
    "pulse_dt=np.dtype([('time','>i2'),('flags','>i2'),('resv','>i2'),('size','>u2'),\n",
    "                  ('offset','>i2'),('length','>i2'),('area','>i4'),('peaks',(pulse_peak_dt,1))])\n",
    "data=np.copy(stream['data'])"
   ]
  },
  {
   "cell_type": "code",
   "execution_count": null,
   "metadata": {
    "collapsed": false
   },
   "outputs": [],
   "source": [
    "pulses=data.view(pulse_dt)"
   ]
  },
  {
   "cell_type": "code",
   "execution_count": null,
   "metadata": {
    "collapsed": false
   },
   "outputs": [],
   "source": [
    "pulses['peaks']['height']-pulses['peaks']['minima']"
   ]
  },
  {
   "cell_type": "code",
   "execution_count": null,
   "metadata": {
    "collapsed": false
   },
   "outputs": [],
   "source": [
    "pulses['peaks']['minima']"
   ]
  },
  {
   "cell_type": "code",
   "execution_count": null,
   "metadata": {
    "collapsed": false
   },
   "outputs": [],
   "source": [
    "peak_count=np.right_shift(np.bitwise_and(pulses['flags'],0xF000),12)\n",
    "peak_overflow=np.bitwise_and(pulses['flags'],0x0800)!=0\n",
    "channel=np.right_shift(np.bitwise_and(pulses['flags'],0x0700),8)\n",
    "timing_type=np.right_shift(np.bitwise_and(pulses['flags'],0x00C0),6)\n",
    "height_type=np.right_shift(np.bitwise_and(pulses['flags'],0x0030),4)\n",
    "event_type=np.right_shift(np.bitwise_and(pulses['flags'],0x000E),1)\n",
    "new_window=np.bitwise_and(pulses['flags'],0x0001)!=0"
   ]
  },
  {
   "cell_type": "code",
   "execution_count": null,
   "metadata": {
    "collapsed": false
   },
   "outputs": [],
   "source": [
    "peak_overflow"
   ]
  },
  {
   "cell_type": "code",
   "execution_count": null,
   "metadata": {
    "collapsed": true
   },
   "outputs": [],
   "source": [
    "test_dt=np.dtype(\n",
    "    [('time','i2'),('flags','i2'),('rise','u2'),('minima','i2'),('low','u8'),('high','u8')]\n",
    ")\n",
    "test=data.view(test_dt)"
   ]
  },
  {
   "cell_type": "code",
   "execution_count": null,
   "metadata": {
    "collapsed": false
   },
   "outputs": [],
   "source": [
    "test"
   ]
  },
  {
   "cell_type": "code",
   "execution_count": null,
   "metadata": {
    "collapsed": false
   },
   "outputs": [],
   "source": [
    "test['minima']"
   ]
  },
  {
   "cell_type": "code",
   "execution_count": null,
   "metadata": {
    "collapsed": false
   },
   "outputs": [],
   "source": [
    "low1=np.int32(np.right_shift(np.bitwise_and(test['low'],0x03FFFF000000000),36))\n",
    "s=(np.bitwise_and(low1,0x00020000)!=0)*0xFFFC0000\n",
    "low2=np.int32(np.right_shift(np.bitwise_and(test['low'],0x000000FFFFC0000),18))\n",
    "low_threshold=np.int32(np.bitwise_and(test['low'],0x00000000003FFFF))\n",
    "high1=np.int32(np.right_shift(np.bitwise_and(test['high'],0x03FFFF000000000),36))\n",
    "high2=np.int32(np.right_shift(np.bitwise_and(test['high'],0x000000FFFFC0000),18))\n",
    "high_threshold=np.int32(np.bitwise_and(test['high'],0x00000000003FFFF))"
   ]
  },
  {
   "cell_type": "code",
   "execution_count": null,
   "metadata": {
    "collapsed": false
   },
   "outputs": [],
   "source": [
    "np.int32(np.bitwise_or(low1,s))/8.0"
   ]
  },
  {
   "cell_type": "code",
   "execution_count": null,
   "metadata": {
    "collapsed": false
   },
   "outputs": [],
   "source": [
    "'{:04X}'.format(low1[0])"
   ]
  },
  {
   "cell_type": "code",
   "execution_count": null,
   "metadata": {
    "collapsed": false
   },
   "outputs": [],
   "source": [
    "high1/8.0"
   ]
  },
  {
   "cell_type": "code",
   "execution_count": null,
   "metadata": {
    "collapsed": false
   },
   "outputs": [],
   "source": [
    "high2/8.0"
   ]
  },
  {
   "cell_type": "code",
   "execution_count": null,
   "metadata": {
    "collapsed": false
   },
   "outputs": [],
   "source": [
    "'{:04X}'.format(high_threshold[0])"
   ]
  },
  {
   "cell_type": "code",
   "execution_count": null,
   "metadata": {
    "collapsed": true
   },
   "outputs": [],
   "source": []
  }
 ],
 "metadata": {
  "anaconda-cloud": {},
  "kernelspec": {
   "display_name": "Python [default]",
   "language": "python",
   "name": "python3"
  },
  "language_info": {
   "codemirror_mode": {
    "name": "ipython",
    "version": 3
   },
   "file_extension": ".py",
   "mimetype": "text/x-python",
   "name": "python",
   "nbconvert_exporter": "python",
   "pygments_lexer": "ipython3",
   "version": "3.5.2"
  }
 },
 "nbformat": 4,
 "nbformat_minor": 1
}
