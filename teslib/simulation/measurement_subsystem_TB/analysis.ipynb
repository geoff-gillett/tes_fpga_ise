{
 "cells": [
  {
   "cell_type": "code",
   "execution_count": 1,
   "metadata": {
    "collapsed": false
   },
   "outputs": [],
   "source": [
    "from tes.data import Data,PacketStream,Packet\n",
    "import numpy as np\n",
    "import matplotlib.pyplot as plt"
   ]
  },
  {
   "cell_type": "code",
   "execution_count": 7,
   "metadata": {
    "collapsed": false
   },
   "outputs": [],
   "source": [
    "trace_dt=np.dtype([('raw','i4'),('filtered','i4'),('slope','i4'),('filteredL','i4')])"
   ]
  },
  {
   "cell_type": "code",
   "execution_count": null,
   "metadata": {
    "collapsed": true
   },
   "outputs": [],
   "source": [
    "traces=np.fromfile('data/traces',trace_dt)"
   ]
  },
  {
   "cell_type": "code",
   "execution_count": 8,
   "metadata": {
    "collapsed": true
   },
   "outputs": [],
   "source": [
    "traces=Data.fromfile('traces',trace_dt,'teslib','measurement_subsystem_TB',tool='vivado')"
   ]
  },
  {
   "cell_type": "code",
   "execution_count": 9,
   "metadata": {
    "collapsed": false
   },
   "outputs": [
    {
     "data": {
      "application/javascript": [
       "/* Put everything inside the global mpl namespace */\n",
       "window.mpl = {};\n",
       "\n",
       "mpl.get_websocket_type = function() {\n",
       "    if (typeof(WebSocket) !== 'undefined') {\n",
       "        return WebSocket;\n",
       "    } else if (typeof(MozWebSocket) !== 'undefined') {\n",
       "        return MozWebSocket;\n",
       "    } else {\n",
       "        alert('Your browser does not have WebSocket support.' +\n",
       "              'Please try Chrome, Safari or Firefox ≥ 6. ' +\n",
       "              'Firefox 4 and 5 are also supported but you ' +\n",
       "              'have to enable WebSockets in about:config.');\n",
       "    };\n",
       "}\n",
       "\n",
       "mpl.figure = function(figure_id, websocket, ondownload, parent_element) {\n",
       "    this.id = figure_id;\n",
       "\n",
       "    this.ws = websocket;\n",
       "\n",
       "    this.supports_binary = (this.ws.binaryType != undefined);\n",
       "\n",
       "    if (!this.supports_binary) {\n",
       "        var warnings = document.getElementById(\"mpl-warnings\");\n",
       "        if (warnings) {\n",
       "            warnings.style.display = 'block';\n",
       "            warnings.textContent = (\n",
       "                \"This browser does not support binary websocket messages. \" +\n",
       "                    \"Performance may be slow.\");\n",
       "        }\n",
       "    }\n",
       "\n",
       "    this.imageObj = new Image();\n",
       "\n",
       "    this.context = undefined;\n",
       "    this.message = undefined;\n",
       "    this.canvas = undefined;\n",
       "    this.rubberband_canvas = undefined;\n",
       "    this.rubberband_context = undefined;\n",
       "    this.format_dropdown = undefined;\n",
       "\n",
       "    this.image_mode = 'full';\n",
       "\n",
       "    this.root = $('<div/>');\n",
       "    this._root_extra_style(this.root)\n",
       "    this.root.attr('style', 'display: inline-block');\n",
       "\n",
       "    $(parent_element).append(this.root);\n",
       "\n",
       "    this._init_header(this);\n",
       "    this._init_canvas(this);\n",
       "    this._init_toolbar(this);\n",
       "\n",
       "    var fig = this;\n",
       "\n",
       "    this.waiting = false;\n",
       "\n",
       "    this.ws.onopen =  function () {\n",
       "            fig.send_message(\"supports_binary\", {value: fig.supports_binary});\n",
       "            fig.send_message(\"send_image_mode\", {});\n",
       "            fig.send_message(\"refresh\", {});\n",
       "        }\n",
       "\n",
       "    this.imageObj.onload = function() {\n",
       "            if (fig.image_mode == 'full') {\n",
       "                // Full images could contain transparency (where diff images\n",
       "                // almost always do), so we need to clear the canvas so that\n",
       "                // there is no ghosting.\n",
       "                fig.context.clearRect(0, 0, fig.canvas.width, fig.canvas.height);\n",
       "            }\n",
       "            fig.context.drawImage(fig.imageObj, 0, 0);\n",
       "        };\n",
       "\n",
       "    this.imageObj.onunload = function() {\n",
       "        this.ws.close();\n",
       "    }\n",
       "\n",
       "    this.ws.onmessage = this._make_on_message_function(this);\n",
       "\n",
       "    this.ondownload = ondownload;\n",
       "}\n",
       "\n",
       "mpl.figure.prototype._init_header = function() {\n",
       "    var titlebar = $(\n",
       "        '<div class=\"ui-dialog-titlebar ui-widget-header ui-corner-all ' +\n",
       "        'ui-helper-clearfix\"/>');\n",
       "    var titletext = $(\n",
       "        '<div class=\"ui-dialog-title\" style=\"width: 100%; ' +\n",
       "        'text-align: center; padding: 3px;\"/>');\n",
       "    titlebar.append(titletext)\n",
       "    this.root.append(titlebar);\n",
       "    this.header = titletext[0];\n",
       "}\n",
       "\n",
       "\n",
       "\n",
       "mpl.figure.prototype._canvas_extra_style = function(canvas_div) {\n",
       "\n",
       "}\n",
       "\n",
       "\n",
       "mpl.figure.prototype._root_extra_style = function(canvas_div) {\n",
       "\n",
       "}\n",
       "\n",
       "mpl.figure.prototype._init_canvas = function() {\n",
       "    var fig = this;\n",
       "\n",
       "    var canvas_div = $('<div/>');\n",
       "\n",
       "    canvas_div.attr('style', 'position: relative; clear: both; outline: 0');\n",
       "\n",
       "    function canvas_keyboard_event(event) {\n",
       "        return fig.key_event(event, event['data']);\n",
       "    }\n",
       "\n",
       "    canvas_div.keydown('key_press', canvas_keyboard_event);\n",
       "    canvas_div.keyup('key_release', canvas_keyboard_event);\n",
       "    this.canvas_div = canvas_div\n",
       "    this._canvas_extra_style(canvas_div)\n",
       "    this.root.append(canvas_div);\n",
       "\n",
       "    var canvas = $('<canvas/>');\n",
       "    canvas.addClass('mpl-canvas');\n",
       "    canvas.attr('style', \"left: 0; top: 0; z-index: 0; outline: 0\")\n",
       "\n",
       "    this.canvas = canvas[0];\n",
       "    this.context = canvas[0].getContext(\"2d\");\n",
       "\n",
       "    var rubberband = $('<canvas/>');\n",
       "    rubberband.attr('style', \"position: absolute; left: 0; top: 0; z-index: 1;\")\n",
       "\n",
       "    var pass_mouse_events = true;\n",
       "\n",
       "    canvas_div.resizable({\n",
       "        start: function(event, ui) {\n",
       "            pass_mouse_events = false;\n",
       "        },\n",
       "        resize: function(event, ui) {\n",
       "            fig.request_resize(ui.size.width, ui.size.height);\n",
       "        },\n",
       "        stop: function(event, ui) {\n",
       "            pass_mouse_events = true;\n",
       "            fig.request_resize(ui.size.width, ui.size.height);\n",
       "        },\n",
       "    });\n",
       "\n",
       "    function mouse_event_fn(event) {\n",
       "        if (pass_mouse_events)\n",
       "            return fig.mouse_event(event, event['data']);\n",
       "    }\n",
       "\n",
       "    rubberband.mousedown('button_press', mouse_event_fn);\n",
       "    rubberband.mouseup('button_release', mouse_event_fn);\n",
       "    // Throttle sequential mouse events to 1 every 20ms.\n",
       "    rubberband.mousemove('motion_notify', mouse_event_fn);\n",
       "\n",
       "    rubberband.mouseenter('figure_enter', mouse_event_fn);\n",
       "    rubberband.mouseleave('figure_leave', mouse_event_fn);\n",
       "\n",
       "    canvas_div.on(\"wheel\", function (event) {\n",
       "        event = event.originalEvent;\n",
       "        event['data'] = 'scroll'\n",
       "        if (event.deltaY < 0) {\n",
       "            event.step = 1;\n",
       "        } else {\n",
       "            event.step = -1;\n",
       "        }\n",
       "        mouse_event_fn(event);\n",
       "    });\n",
       "\n",
       "    canvas_div.append(canvas);\n",
       "    canvas_div.append(rubberband);\n",
       "\n",
       "    this.rubberband = rubberband;\n",
       "    this.rubberband_canvas = rubberband[0];\n",
       "    this.rubberband_context = rubberband[0].getContext(\"2d\");\n",
       "    this.rubberband_context.strokeStyle = \"#000000\";\n",
       "\n",
       "    this._resize_canvas = function(width, height) {\n",
       "        // Keep the size of the canvas, canvas container, and rubber band\n",
       "        // canvas in synch.\n",
       "        canvas_div.css('width', width)\n",
       "        canvas_div.css('height', height)\n",
       "\n",
       "        canvas.attr('width', width);\n",
       "        canvas.attr('height', height);\n",
       "\n",
       "        rubberband.attr('width', width);\n",
       "        rubberband.attr('height', height);\n",
       "    }\n",
       "\n",
       "    // Set the figure to an initial 600x600px, this will subsequently be updated\n",
       "    // upon first draw.\n",
       "    this._resize_canvas(600, 600);\n",
       "\n",
       "    // Disable right mouse context menu.\n",
       "    $(this.rubberband_canvas).bind(\"contextmenu\",function(e){\n",
       "        return false;\n",
       "    });\n",
       "\n",
       "    function set_focus () {\n",
       "        canvas.focus();\n",
       "        canvas_div.focus();\n",
       "    }\n",
       "\n",
       "    window.setTimeout(set_focus, 100);\n",
       "}\n",
       "\n",
       "mpl.figure.prototype._init_toolbar = function() {\n",
       "    var fig = this;\n",
       "\n",
       "    var nav_element = $('<div/>')\n",
       "    nav_element.attr('style', 'width: 100%');\n",
       "    this.root.append(nav_element);\n",
       "\n",
       "    // Define a callback function for later on.\n",
       "    function toolbar_event(event) {\n",
       "        return fig.toolbar_button_onclick(event['data']);\n",
       "    }\n",
       "    function toolbar_mouse_event(event) {\n",
       "        return fig.toolbar_button_onmouseover(event['data']);\n",
       "    }\n",
       "\n",
       "    for(var toolbar_ind in mpl.toolbar_items) {\n",
       "        var name = mpl.toolbar_items[toolbar_ind][0];\n",
       "        var tooltip = mpl.toolbar_items[toolbar_ind][1];\n",
       "        var image = mpl.toolbar_items[toolbar_ind][2];\n",
       "        var method_name = mpl.toolbar_items[toolbar_ind][3];\n",
       "\n",
       "        if (!name) {\n",
       "            // put a spacer in here.\n",
       "            continue;\n",
       "        }\n",
       "        var button = $('<button/>');\n",
       "        button.addClass('ui-button ui-widget ui-state-default ui-corner-all ' +\n",
       "                        'ui-button-icon-only');\n",
       "        button.attr('role', 'button');\n",
       "        button.attr('aria-disabled', 'false');\n",
       "        button.click(method_name, toolbar_event);\n",
       "        button.mouseover(tooltip, toolbar_mouse_event);\n",
       "\n",
       "        var icon_img = $('<span/>');\n",
       "        icon_img.addClass('ui-button-icon-primary ui-icon');\n",
       "        icon_img.addClass(image);\n",
       "        icon_img.addClass('ui-corner-all');\n",
       "\n",
       "        var tooltip_span = $('<span/>');\n",
       "        tooltip_span.addClass('ui-button-text');\n",
       "        tooltip_span.html(tooltip);\n",
       "\n",
       "        button.append(icon_img);\n",
       "        button.append(tooltip_span);\n",
       "\n",
       "        nav_element.append(button);\n",
       "    }\n",
       "\n",
       "    var fmt_picker_span = $('<span/>');\n",
       "\n",
       "    var fmt_picker = $('<select/>');\n",
       "    fmt_picker.addClass('mpl-toolbar-option ui-widget ui-widget-content');\n",
       "    fmt_picker_span.append(fmt_picker);\n",
       "    nav_element.append(fmt_picker_span);\n",
       "    this.format_dropdown = fmt_picker[0];\n",
       "\n",
       "    for (var ind in mpl.extensions) {\n",
       "        var fmt = mpl.extensions[ind];\n",
       "        var option = $(\n",
       "            '<option/>', {selected: fmt === mpl.default_extension}).html(fmt);\n",
       "        fmt_picker.append(option)\n",
       "    }\n",
       "\n",
       "    // Add hover states to the ui-buttons\n",
       "    $( \".ui-button\" ).hover(\n",
       "        function() { $(this).addClass(\"ui-state-hover\");},\n",
       "        function() { $(this).removeClass(\"ui-state-hover\");}\n",
       "    );\n",
       "\n",
       "    var status_bar = $('<span class=\"mpl-message\"/>');\n",
       "    nav_element.append(status_bar);\n",
       "    this.message = status_bar[0];\n",
       "}\n",
       "\n",
       "mpl.figure.prototype.request_resize = function(x_pixels, y_pixels) {\n",
       "    // Request matplotlib to resize the figure. Matplotlib will then trigger a resize in the client,\n",
       "    // which will in turn request a refresh of the image.\n",
       "    this.send_message('resize', {'width': x_pixels, 'height': y_pixels});\n",
       "}\n",
       "\n",
       "mpl.figure.prototype.send_message = function(type, properties) {\n",
       "    properties['type'] = type;\n",
       "    properties['figure_id'] = this.id;\n",
       "    this.ws.send(JSON.stringify(properties));\n",
       "}\n",
       "\n",
       "mpl.figure.prototype.send_draw_message = function() {\n",
       "    if (!this.waiting) {\n",
       "        this.waiting = true;\n",
       "        this.ws.send(JSON.stringify({type: \"draw\", figure_id: this.id}));\n",
       "    }\n",
       "}\n",
       "\n",
       "\n",
       "mpl.figure.prototype.handle_save = function(fig, msg) {\n",
       "    var format_dropdown = fig.format_dropdown;\n",
       "    var format = format_dropdown.options[format_dropdown.selectedIndex].value;\n",
       "    fig.ondownload(fig, format);\n",
       "}\n",
       "\n",
       "\n",
       "mpl.figure.prototype.handle_resize = function(fig, msg) {\n",
       "    var size = msg['size'];\n",
       "    if (size[0] != fig.canvas.width || size[1] != fig.canvas.height) {\n",
       "        fig._resize_canvas(size[0], size[1]);\n",
       "        fig.send_message(\"refresh\", {});\n",
       "    };\n",
       "}\n",
       "\n",
       "mpl.figure.prototype.handle_rubberband = function(fig, msg) {\n",
       "    var x0 = msg['x0'];\n",
       "    var y0 = fig.canvas.height - msg['y0'];\n",
       "    var x1 = msg['x1'];\n",
       "    var y1 = fig.canvas.height - msg['y1'];\n",
       "    x0 = Math.floor(x0) + 0.5;\n",
       "    y0 = Math.floor(y0) + 0.5;\n",
       "    x1 = Math.floor(x1) + 0.5;\n",
       "    y1 = Math.floor(y1) + 0.5;\n",
       "    var min_x = Math.min(x0, x1);\n",
       "    var min_y = Math.min(y0, y1);\n",
       "    var width = Math.abs(x1 - x0);\n",
       "    var height = Math.abs(y1 - y0);\n",
       "\n",
       "    fig.rubberband_context.clearRect(\n",
       "        0, 0, fig.canvas.width, fig.canvas.height);\n",
       "\n",
       "    fig.rubberband_context.strokeRect(min_x, min_y, width, height);\n",
       "}\n",
       "\n",
       "mpl.figure.prototype.handle_figure_label = function(fig, msg) {\n",
       "    // Updates the figure title.\n",
       "    fig.header.textContent = msg['label'];\n",
       "}\n",
       "\n",
       "mpl.figure.prototype.handle_cursor = function(fig, msg) {\n",
       "    var cursor = msg['cursor'];\n",
       "    switch(cursor)\n",
       "    {\n",
       "    case 0:\n",
       "        cursor = 'pointer';\n",
       "        break;\n",
       "    case 1:\n",
       "        cursor = 'default';\n",
       "        break;\n",
       "    case 2:\n",
       "        cursor = 'crosshair';\n",
       "        break;\n",
       "    case 3:\n",
       "        cursor = 'move';\n",
       "        break;\n",
       "    }\n",
       "    fig.rubberband_canvas.style.cursor = cursor;\n",
       "}\n",
       "\n",
       "mpl.figure.prototype.handle_message = function(fig, msg) {\n",
       "    fig.message.textContent = msg['message'];\n",
       "}\n",
       "\n",
       "mpl.figure.prototype.handle_draw = function(fig, msg) {\n",
       "    // Request the server to send over a new figure.\n",
       "    fig.send_draw_message();\n",
       "}\n",
       "\n",
       "mpl.figure.prototype.handle_image_mode = function(fig, msg) {\n",
       "    fig.image_mode = msg['mode'];\n",
       "}\n",
       "\n",
       "mpl.figure.prototype.updated_canvas_event = function() {\n",
       "    // Called whenever the canvas gets updated.\n",
       "    this.send_message(\"ack\", {});\n",
       "}\n",
       "\n",
       "// A function to construct a web socket function for onmessage handling.\n",
       "// Called in the figure constructor.\n",
       "mpl.figure.prototype._make_on_message_function = function(fig) {\n",
       "    return function socket_on_message(evt) {\n",
       "        if (evt.data instanceof Blob) {\n",
       "            /* FIXME: We get \"Resource interpreted as Image but\n",
       "             * transferred with MIME type text/plain:\" errors on\n",
       "             * Chrome.  But how to set the MIME type?  It doesn't seem\n",
       "             * to be part of the websocket stream */\n",
       "            evt.data.type = \"image/png\";\n",
       "\n",
       "            /* Free the memory for the previous frames */\n",
       "            if (fig.imageObj.src) {\n",
       "                (window.URL || window.webkitURL).revokeObjectURL(\n",
       "                    fig.imageObj.src);\n",
       "            }\n",
       "\n",
       "            fig.imageObj.src = (window.URL || window.webkitURL).createObjectURL(\n",
       "                evt.data);\n",
       "            fig.updated_canvas_event();\n",
       "            fig.waiting = false;\n",
       "            return;\n",
       "        }\n",
       "        else if (typeof evt.data === 'string' && evt.data.slice(0, 21) == \"data:image/png;base64\") {\n",
       "            fig.imageObj.src = evt.data;\n",
       "            fig.updated_canvas_event();\n",
       "            fig.waiting = false;\n",
       "            return;\n",
       "        }\n",
       "\n",
       "        var msg = JSON.parse(evt.data);\n",
       "        var msg_type = msg['type'];\n",
       "\n",
       "        // Call the  \"handle_{type}\" callback, which takes\n",
       "        // the figure and JSON message as its only arguments.\n",
       "        try {\n",
       "            var callback = fig[\"handle_\" + msg_type];\n",
       "        } catch (e) {\n",
       "            console.log(\"No handler for the '\" + msg_type + \"' message type: \", msg);\n",
       "            return;\n",
       "        }\n",
       "\n",
       "        if (callback) {\n",
       "            try {\n",
       "                // console.log(\"Handling '\" + msg_type + \"' message: \", msg);\n",
       "                callback(fig, msg);\n",
       "            } catch (e) {\n",
       "                console.log(\"Exception inside the 'handler_\" + msg_type + \"' callback:\", e, e.stack, msg);\n",
       "            }\n",
       "        }\n",
       "    };\n",
       "}\n",
       "\n",
       "// from http://stackoverflow.com/questions/1114465/getting-mouse-location-in-canvas\n",
       "mpl.findpos = function(e) {\n",
       "    //this section is from http://www.quirksmode.org/js/events_properties.html\n",
       "    var targ;\n",
       "    if (!e)\n",
       "        e = window.event;\n",
       "    if (e.target)\n",
       "        targ = e.target;\n",
       "    else if (e.srcElement)\n",
       "        targ = e.srcElement;\n",
       "    if (targ.nodeType == 3) // defeat Safari bug\n",
       "        targ = targ.parentNode;\n",
       "\n",
       "    // jQuery normalizes the pageX and pageY\n",
       "    // pageX,Y are the mouse positions relative to the document\n",
       "    // offset() returns the position of the element relative to the document\n",
       "    var x = e.pageX - $(targ).offset().left;\n",
       "    var y = e.pageY - $(targ).offset().top;\n",
       "\n",
       "    return {\"x\": x, \"y\": y};\n",
       "};\n",
       "\n",
       "/*\n",
       " * return a copy of an object with only non-object keys\n",
       " * we need this to avoid circular references\n",
       " * http://stackoverflow.com/a/24161582/3208463\n",
       " */\n",
       "function simpleKeys (original) {\n",
       "  return Object.keys(original).reduce(function (obj, key) {\n",
       "    if (typeof original[key] !== 'object')\n",
       "        obj[key] = original[key]\n",
       "    return obj;\n",
       "  }, {});\n",
       "}\n",
       "\n",
       "mpl.figure.prototype.mouse_event = function(event, name) {\n",
       "    var canvas_pos = mpl.findpos(event)\n",
       "\n",
       "    if (name === 'button_press')\n",
       "    {\n",
       "        this.canvas.focus();\n",
       "        this.canvas_div.focus();\n",
       "    }\n",
       "\n",
       "    var x = canvas_pos.x;\n",
       "    var y = canvas_pos.y;\n",
       "\n",
       "    this.send_message(name, {x: x, y: y, button: event.button,\n",
       "                             step: event.step,\n",
       "                             guiEvent: simpleKeys(event)});\n",
       "\n",
       "    /* This prevents the web browser from automatically changing to\n",
       "     * the text insertion cursor when the button is pressed.  We want\n",
       "     * to control all of the cursor setting manually through the\n",
       "     * 'cursor' event from matplotlib */\n",
       "    event.preventDefault();\n",
       "    return false;\n",
       "}\n",
       "\n",
       "mpl.figure.prototype._key_event_extra = function(event, name) {\n",
       "    // Handle any extra behaviour associated with a key event\n",
       "}\n",
       "\n",
       "mpl.figure.prototype.key_event = function(event, name) {\n",
       "\n",
       "    // Prevent repeat events\n",
       "    if (name == 'key_press')\n",
       "    {\n",
       "        if (event.which === this._key)\n",
       "            return;\n",
       "        else\n",
       "            this._key = event.which;\n",
       "    }\n",
       "    if (name == 'key_release')\n",
       "        this._key = null;\n",
       "\n",
       "    var value = '';\n",
       "    if (event.ctrlKey && event.which != 17)\n",
       "        value += \"ctrl+\";\n",
       "    if (event.altKey && event.which != 18)\n",
       "        value += \"alt+\";\n",
       "    if (event.shiftKey && event.which != 16)\n",
       "        value += \"shift+\";\n",
       "\n",
       "    value += 'k';\n",
       "    value += event.which.toString();\n",
       "\n",
       "    this._key_event_extra(event, name);\n",
       "\n",
       "    this.send_message(name, {key: value,\n",
       "                             guiEvent: simpleKeys(event)});\n",
       "    return false;\n",
       "}\n",
       "\n",
       "mpl.figure.prototype.toolbar_button_onclick = function(name) {\n",
       "    if (name == 'download') {\n",
       "        this.handle_save(this, null);\n",
       "    } else {\n",
       "        this.send_message(\"toolbar_button\", {name: name});\n",
       "    }\n",
       "};\n",
       "\n",
       "mpl.figure.prototype.toolbar_button_onmouseover = function(tooltip) {\n",
       "    this.message.textContent = tooltip;\n",
       "};\n",
       "mpl.toolbar_items = [[\"Home\", \"Reset original view\", \"fa fa-home icon-home\", \"home\"], [\"Back\", \"Back to  previous view\", \"fa fa-arrow-left icon-arrow-left\", \"back\"], [\"Forward\", \"Forward to next view\", \"fa fa-arrow-right icon-arrow-right\", \"forward\"], [\"\", \"\", \"\", \"\"], [\"Pan\", \"Pan axes with left mouse, zoom with right\", \"fa fa-arrows icon-move\", \"pan\"], [\"Zoom\", \"Zoom to rectangle\", \"fa fa-square-o icon-check-empty\", \"zoom\"], [\"\", \"\", \"\", \"\"], [\"Download\", \"Download plot\", \"fa fa-floppy-o icon-save\", \"download\"]];\n",
       "\n",
       "mpl.extensions = [\"eps\", \"jpeg\", \"pdf\", \"png\", \"ps\", \"raw\", \"svg\", \"tif\"];\n",
       "\n",
       "mpl.default_extension = \"png\";var comm_websocket_adapter = function(comm) {\n",
       "    // Create a \"websocket\"-like object which calls the given IPython comm\n",
       "    // object with the appropriate methods. Currently this is a non binary\n",
       "    // socket, so there is still some room for performance tuning.\n",
       "    var ws = {};\n",
       "\n",
       "    ws.close = function() {\n",
       "        comm.close()\n",
       "    };\n",
       "    ws.send = function(m) {\n",
       "        //console.log('sending', m);\n",
       "        comm.send(m);\n",
       "    };\n",
       "    // Register the callback with on_msg.\n",
       "    comm.on_msg(function(msg) {\n",
       "        //console.log('receiving', msg['content']['data'], msg);\n",
       "        // Pass the mpl event to the overriden (by mpl) onmessage function.\n",
       "        ws.onmessage(msg['content']['data'])\n",
       "    });\n",
       "    return ws;\n",
       "}\n",
       "\n",
       "mpl.mpl_figure_comm = function(comm, msg) {\n",
       "    // This is the function which gets called when the mpl process\n",
       "    // starts-up an IPython Comm through the \"matplotlib\" channel.\n",
       "\n",
       "    var id = msg.content.data.id;\n",
       "    // Get hold of the div created by the display call when the Comm\n",
       "    // socket was opened in Python.\n",
       "    var element = $(\"#\" + id);\n",
       "    var ws_proxy = comm_websocket_adapter(comm)\n",
       "\n",
       "    function ondownload(figure, format) {\n",
       "        window.open(figure.imageObj.src);\n",
       "    }\n",
       "\n",
       "    var fig = new mpl.figure(id, ws_proxy,\n",
       "                           ondownload,\n",
       "                           element.get(0));\n",
       "\n",
       "    // Call onopen now - mpl needs it, as it is assuming we've passed it a real\n",
       "    // web socket which is closed, not our websocket->open comm proxy.\n",
       "    ws_proxy.onopen();\n",
       "\n",
       "    fig.parent_element = element.get(0);\n",
       "    fig.cell_info = mpl.find_output_cell(\"<div id='\" + id + \"'></div>\");\n",
       "    if (!fig.cell_info) {\n",
       "        console.error(\"Failed to find cell for figure\", id, fig);\n",
       "        return;\n",
       "    }\n",
       "\n",
       "    var output_index = fig.cell_info[2]\n",
       "    var cell = fig.cell_info[0];\n",
       "\n",
       "};\n",
       "\n",
       "mpl.figure.prototype.handle_close = function(fig, msg) {\n",
       "    fig.root.unbind('remove')\n",
       "\n",
       "    // Update the output cell to use the data from the current canvas.\n",
       "    fig.push_to_output();\n",
       "    var dataURL = fig.canvas.toDataURL();\n",
       "    // Re-enable the keyboard manager in IPython - without this line, in FF,\n",
       "    // the notebook keyboard shortcuts fail.\n",
       "    IPython.keyboard_manager.enable()\n",
       "    $(fig.parent_element).html('<img src=\"' + dataURL + '\">');\n",
       "    fig.close_ws(fig, msg);\n",
       "}\n",
       "\n",
       "mpl.figure.prototype.close_ws = function(fig, msg){\n",
       "    fig.send_message('closing', msg);\n",
       "    // fig.ws.close()\n",
       "}\n",
       "\n",
       "mpl.figure.prototype.push_to_output = function(remove_interactive) {\n",
       "    // Turn the data on the canvas into data in the output cell.\n",
       "    var dataURL = this.canvas.toDataURL();\n",
       "    this.cell_info[1]['text/html'] = '<img src=\"' + dataURL + '\">';\n",
       "}\n",
       "\n",
       "mpl.figure.prototype.updated_canvas_event = function() {\n",
       "    // Tell IPython that the notebook contents must change.\n",
       "    IPython.notebook.set_dirty(true);\n",
       "    this.send_message(\"ack\", {});\n",
       "    var fig = this;\n",
       "    // Wait a second, then push the new image to the DOM so\n",
       "    // that it is saved nicely (might be nice to debounce this).\n",
       "    setTimeout(function () { fig.push_to_output() }, 1000);\n",
       "}\n",
       "\n",
       "mpl.figure.prototype._init_toolbar = function() {\n",
       "    var fig = this;\n",
       "\n",
       "    var nav_element = $('<div/>')\n",
       "    nav_element.attr('style', 'width: 100%');\n",
       "    this.root.append(nav_element);\n",
       "\n",
       "    // Define a callback function for later on.\n",
       "    function toolbar_event(event) {\n",
       "        return fig.toolbar_button_onclick(event['data']);\n",
       "    }\n",
       "    function toolbar_mouse_event(event) {\n",
       "        return fig.toolbar_button_onmouseover(event['data']);\n",
       "    }\n",
       "\n",
       "    for(var toolbar_ind in mpl.toolbar_items){\n",
       "        var name = mpl.toolbar_items[toolbar_ind][0];\n",
       "        var tooltip = mpl.toolbar_items[toolbar_ind][1];\n",
       "        var image = mpl.toolbar_items[toolbar_ind][2];\n",
       "        var method_name = mpl.toolbar_items[toolbar_ind][3];\n",
       "\n",
       "        if (!name) { continue; };\n",
       "\n",
       "        var button = $('<button class=\"btn btn-default\" href=\"#\" title=\"' + name + '\"><i class=\"fa ' + image + ' fa-lg\"></i></button>');\n",
       "        button.click(method_name, toolbar_event);\n",
       "        button.mouseover(tooltip, toolbar_mouse_event);\n",
       "        nav_element.append(button);\n",
       "    }\n",
       "\n",
       "    // Add the status bar.\n",
       "    var status_bar = $('<span class=\"mpl-message\" style=\"text-align:right; float: right;\"/>');\n",
       "    nav_element.append(status_bar);\n",
       "    this.message = status_bar[0];\n",
       "\n",
       "    // Add the close button to the window.\n",
       "    var buttongrp = $('<div class=\"btn-group inline pull-right\"></div>');\n",
       "    var button = $('<button class=\"btn btn-mini btn-primary\" href=\"#\" title=\"Stop Interaction\"><i class=\"fa fa-power-off icon-remove icon-large\"></i></button>');\n",
       "    button.click(function (evt) { fig.handle_close(fig, {}); } );\n",
       "    button.mouseover('Stop Interaction', toolbar_mouse_event);\n",
       "    buttongrp.append(button);\n",
       "    var titlebar = this.root.find($('.ui-dialog-titlebar'));\n",
       "    titlebar.prepend(buttongrp);\n",
       "}\n",
       "\n",
       "mpl.figure.prototype._root_extra_style = function(el){\n",
       "    var fig = this\n",
       "    el.on(\"remove\", function(){\n",
       "\tfig.close_ws(fig, {});\n",
       "    });\n",
       "}\n",
       "\n",
       "mpl.figure.prototype._canvas_extra_style = function(el){\n",
       "    // this is important to make the div 'focusable\n",
       "    el.attr('tabindex', 0)\n",
       "    // reach out to IPython and tell the keyboard manager to turn it's self\n",
       "    // off when our div gets focus\n",
       "\n",
       "    // location in version 3\n",
       "    if (IPython.notebook.keyboard_manager) {\n",
       "        IPython.notebook.keyboard_manager.register_events(el);\n",
       "    }\n",
       "    else {\n",
       "        // location in version 2\n",
       "        IPython.keyboard_manager.register_events(el);\n",
       "    }\n",
       "\n",
       "}\n",
       "\n",
       "mpl.figure.prototype._key_event_extra = function(event, name) {\n",
       "    var manager = IPython.notebook.keyboard_manager;\n",
       "    if (!manager)\n",
       "        manager = IPython.keyboard_manager;\n",
       "\n",
       "    // Check for shift+enter\n",
       "    if (event.shiftKey && event.which == 13) {\n",
       "        this.canvas_div.blur();\n",
       "        // select the cell after this one\n",
       "        var index = IPython.notebook.find_cell_index(this.cell_info[0]);\n",
       "        IPython.notebook.select(index + 1);\n",
       "    }\n",
       "}\n",
       "\n",
       "mpl.figure.prototype.handle_save = function(fig, msg) {\n",
       "    fig.ondownload(fig, null);\n",
       "}\n",
       "\n",
       "\n",
       "mpl.find_output_cell = function(html_output) {\n",
       "    // Return the cell and output element which can be found *uniquely* in the notebook.\n",
       "    // Note - this is a bit hacky, but it is done because the \"notebook_saving.Notebook\"\n",
       "    // IPython event is triggered only after the cells have been serialised, which for\n",
       "    // our purposes (turning an active figure into a static one), is too late.\n",
       "    var cells = IPython.notebook.get_cells();\n",
       "    var ncells = cells.length;\n",
       "    for (var i=0; i<ncells; i++) {\n",
       "        var cell = cells[i];\n",
       "        if (cell.cell_type === 'code'){\n",
       "            for (var j=0; j<cell.output_area.outputs.length; j++) {\n",
       "                var data = cell.output_area.outputs[j];\n",
       "                if (data.data) {\n",
       "                    // IPython >= 3 moved mimebundle to data attribute of output\n",
       "                    data = data.data;\n",
       "                }\n",
       "                if (data['text/html'] == html_output) {\n",
       "                    return [cell, data, j];\n",
       "                }\n",
       "            }\n",
       "        }\n",
       "    }\n",
       "}\n",
       "\n",
       "// Register the function which deals with the matplotlib target/channel.\n",
       "// The kernel may be null if the page has been refreshed.\n",
       "if (IPython.notebook.kernel != null) {\n",
       "    IPython.notebook.kernel.comm_manager.register_target('matplotlib', mpl.mpl_figure_comm);\n",
       "}\n"
      ],
      "text/plain": [
       "<IPython.core.display.Javascript object>"
      ]
     },
     "metadata": {},
     "output_type": "display_data"
    },
    {
     "data": {
      "text/html": [
       "<img src=\"data:image/png;base64,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\">"
      ],
      "text/plain": [
       "<IPython.core.display.HTML object>"
      ]
     },
     "metadata": {},
     "output_type": "display_data"
    },
    {
     "data": {
      "text/plain": [
       "[<matplotlib.lines.Line2D at 0x7d47390>]"
      ]
     },
     "execution_count": 9,
     "metadata": {},
     "output_type": "execute_result"
    }
   ],
   "source": [
    "%matplotlib notebook\n",
    "plt.plot(traces['filtered'][1100:])"
   ]
  },
  {
   "cell_type": "code",
   "execution_count": null,
   "metadata": {
    "collapsed": false
   },
   "outputs": [],
   "source": [
    "filtered=traces['filtered'][1100:]\n",
    "filteredL=traces['filteredL'][1100:]"
   ]
  },
  {
   "cell_type": "code",
   "execution_count": null,
   "metadata": {
    "collapsed": false
   },
   "outputs": [],
   "source": [
    "filtered[:10]"
   ]
  },
  {
   "cell_type": "code",
   "execution_count": null,
   "metadata": {
    "collapsed": false
   },
   "outputs": [],
   "source": [
    "filteredL[:10]/4"
   ]
  },
  {
   "cell_type": "code",
   "execution_count": null,
   "metadata": {
    "collapsed": false
   },
   "outputs": [],
   "source": [
    "minmax_dt=np.dtype([('filtered','i4'),('low','i4'),('high','i4'),('clk','i4')])\n",
    "minmax=Data.fromfile('minmax',minmax_dt,'teslib','measurement_subsystem_TB',tool='vivado')\n",
    "fxing_dt=np.dtype([('extrema','i4'),('area','i4'),('clk','i4')])\n",
    "fxing=Data.fromfile('filteredxing',fxing_dt,'teslib','measurement_subsystem_TB',tool='vivado')"
   ]
  },
  {
   "cell_type": "code",
   "execution_count": null,
   "metadata": {
    "collapsed": false
   },
   "outputs": [],
   "source": [
    "minmax"
   ]
  },
  {
   "cell_type": "code",
   "execution_count": null,
   "metadata": {
    "collapsed": false
   },
   "outputs": [],
   "source": [
    "fxing"
   ]
  },
  {
   "cell_type": "code",
   "execution_count": null,
   "metadata": {
    "collapsed": false
   },
   "outputs": [],
   "source": [
    "np.where(fxing['area']==0)"
   ]
  },
  {
   "cell_type": "code",
   "execution_count": null,
   "metadata": {
    "collapsed": false
   },
   "outputs": [],
   "source": [
    "np.where(fxing['extrema']==0)"
   ]
  },
  {
   "cell_type": "code",
   "execution_count": null,
   "metadata": {
    "collapsed": false
   },
   "outputs": [],
   "source": [
    "fxing[30]"
   ]
  },
  {
   "cell_type": "code",
   "execution_count": null,
   "metadata": {
    "collapsed": false
   },
   "outputs": [],
   "source": [
    "exn=np.where(fxing['extrema']<0)\n",
    "clkn=np.where(fxing['clk']>0)"
   ]
  },
  {
   "cell_type": "code",
   "execution_count": null,
   "metadata": {
    "collapsed": true
   },
   "outputs": [],
   "source": []
  },
  {
   "cell_type": "code",
   "execution_count": null,
   "metadata": {
    "collapsed": false
   },
   "outputs": [],
   "source": [
    "fxing[374]"
   ]
  },
  {
   "cell_type": "code",
   "execution_count": null,
   "metadata": {
    "collapsed": false
   },
   "outputs": [],
   "source": [
    "clkn"
   ]
  },
  {
   "cell_type": "code",
   "execution_count": null,
   "metadata": {
    "collapsed": false
   },
   "outputs": [],
   "source": [
    "np.where(minmax[maxs[0]-1]['min']!=1)"
   ]
  },
  {
   "cell_type": "code",
   "execution_count": null,
   "metadata": {
    "collapsed": false
   },
   "outputs": [],
   "source": [
    "minmax[maxs[0]-1][65]"
   ]
  },
  {
   "cell_type": "code",
   "execution_count": null,
   "metadata": {
    "collapsed": false
   },
   "outputs": [],
   "source": [
    "2290-925"
   ]
  },
  {
   "cell_type": "code",
   "execution_count": null,
   "metadata": {
    "collapsed": false
   },
   "outputs": [],
   "source": [
    "0.375*4"
   ]
  },
  {
   "cell_type": "code",
   "execution_count": null,
   "metadata": {
    "collapsed": false
   },
   "outputs": [],
   "source": [
    "np.where(minmax['clock']==2290)"
   ]
  },
  {
   "cell_type": "code",
   "execution_count": null,
   "metadata": {
    "collapsed": false
   },
   "outputs": [],
   "source": [
    "minmax[120:140]"
   ]
  },
  {
   "cell_type": "code",
   "execution_count": null,
   "metadata": {
    "collapsed": false
   },
   "outputs": [],
   "source": [
    "stream_dt=np.dtype([('data','>i4'),('last','i4')])\n",
    "#stream=np.fromfile('data/stream',stream_dt)"
   ]
  },
  {
   "cell_type": "markdown",
   "metadata": {},
   "source": [
    "### bytestream stuff"
   ]
  },
  {
   "cell_type": "code",
   "execution_count": 2,
   "metadata": {
    "collapsed": false
   },
   "outputs": [],
   "source": [
    "stream_dt=np.dtype([('data','i4'),('last','i4')])\n",
    "stream=Data.fromfile('bytestream',stream_dt,'teslib','measurement_subsystem_TB',tool='vivado')\n",
    "lasts=np.where(stream['last']<=0)\n",
    "#data=np.copy(stream['data'])"
   ]
  },
  {
   "cell_type": "code",
   "execution_count": 10,
   "metadata": {
    "collapsed": true
   },
   "outputs": [],
   "source": [
    "stream=np.fromfile('data/bytestream',stream_dt)"
   ]
  },
  {
   "cell_type": "code",
   "execution_count": 3,
   "metadata": {
    "collapsed": false
   },
   "outputs": [],
   "source": [
    "bs=PacketStream(stream)"
   ]
  },
  {
   "cell_type": "code",
   "execution_count": 4,
   "metadata": {
    "collapsed": false
   },
   "outputs": [
    {
     "data": {
      "text/plain": [
       "[ethertype:88B5 length:48 Payload:tick frame:0 protocol:0,\n",
       " ethertype:88B5 length:48 Payload:tick frame:1 protocol:1,\n",
       " ethertype:88B5 length:32 Payload:peak frame:2 protocol:2,\n",
       " ethertype:88B5 length:48 Payload:tick frame:3 protocol:3]"
      ]
     },
     "execution_count": 4,
     "metadata": {},
     "output_type": "execute_result"
    }
   ],
   "source": [
    "bs.packets"
   ]
  },
  {
   "cell_type": "code",
   "execution_count": 10,
   "metadata": {
    "collapsed": false
   },
   "outputs": [
    {
     "data": {
      "text/plain": [
       "array([ 90,   1,   2,   3,   4,   5, 218,   1,   2,   3,   4,   5, 136,\n",
       "       181,  48,   0,   3,   0,   3,   0,   3,   0,   0,   8,   3,   0,\n",
       "         0,   0,  24,  40,  25,   0,  38, 183,  15,   0, 136,   2,  30,\n",
       "         0,  49,   7,  79,   0,  50,   0,   6,   0], dtype=uint8)"
      ]
     },
     "execution_count": 10,
     "metadata": {},
     "output_type": "execute_result"
    }
   ],
   "source": [
    "bs.packets[3].bytes"
   ]
  },
  {
   "cell_type": "code",
   "execution_count": 16,
   "metadata": {
    "collapsed": false
   },
   "outputs": [
    {
     "ename": "ValueError",
     "evalue": "new type not compatible with array.",
     "output_type": "error",
     "traceback": [
      "\u001b[0;31m---------------------------------------------------------------------------\u001b[0m",
      "\u001b[0;31mValueError\u001b[0m                                Traceback (most recent call last)",
      "\u001b[0;32m<ipython-input-16-ccd041e718fe>\u001b[0m in \u001b[0;36m<module>\u001b[0;34m()\u001b[0m\n\u001b[0;32m----> 1\u001b[0;31m \u001b[1;34m'{:X}'\u001b[0m\u001b[1;33m.\u001b[0m\u001b[0mformat\u001b[0m\u001b[1;33m(\u001b[0m\u001b[0mbs\u001b[0m\u001b[1;33m.\u001b[0m\u001b[0mpackets\u001b[0m\u001b[1;33m[\u001b[0m\u001b[1;36m3\u001b[0m\u001b[1;33m]\u001b[0m\u001b[1;33m.\u001b[0m\u001b[0mbytes\u001b[0m\u001b[1;33m[\u001b[0m\u001b[1;36m13\u001b[0m\u001b[1;33m:\u001b[0m\u001b[1;36m14\u001b[0m\u001b[1;33m]\u001b[0m\u001b[1;33m.\u001b[0m\u001b[0mview\u001b[0m\u001b[1;33m(\u001b[0m\u001b[0mnp\u001b[0m\u001b[1;33m.\u001b[0m\u001b[0muint16\u001b[0m\u001b[1;33m)\u001b[0m\u001b[1;33m)\u001b[0m\u001b[1;33m\u001b[0m\u001b[0m\n\u001b[0m",
      "\u001b[0;31mValueError\u001b[0m: new type not compatible with array."
     ]
    }
   ],
   "source": [
    "'{:X}'.format(bs.packets[3].bytes[13:14].view(np.uint16))"
   ]
  },
  {
   "cell_type": "code",
   "execution_count": 26,
   "metadata": {
    "collapsed": false
   },
   "outputs": [
    {
     "data": {
      "text/plain": [
       "'30'"
      ]
     },
     "execution_count": 26,
     "metadata": {},
     "output_type": "execute_result"
    }
   ],
   "source": [
    "'{:X}'.format(bs.packets[3].bytes[14:16].view(np.uint16)[0])"
   ]
  },
  {
   "cell_type": "code",
   "execution_count": 28,
   "metadata": {
    "collapsed": false
   },
   "outputs": [
    {
     "data": {
      "text/plain": [
       "48"
      ]
     },
     "execution_count": 28,
     "metadata": {},
     "output_type": "execute_result"
    }
   ],
   "source": [
    "bs.packets[3].bytes[14:16].view(np.uint16)[0]"
   ]
  },
  {
   "cell_type": "code",
   "execution_count": null,
   "metadata": {
    "collapsed": false
   },
   "outputs": [],
   "source": [
    "bs=np.uint8(stream['data'][:48])"
   ]
  },
  {
   "cell_type": "code",
   "execution_count": null,
   "metadata": {
    "collapsed": false
   },
   "outputs": [],
   "source": [
    "bs"
   ]
  },
  {
   "cell_type": "code",
   "execution_count": null,
   "metadata": {
    "collapsed": false
   },
   "outputs": [],
   "source": [
    "events=stream['data'].view(event_dt)"
   ]
  },
  {
   "cell_type": "code",
   "execution_count": null,
   "metadata": {
    "collapsed": false
   },
   "outputs": [],
   "source": [
    "'{:X}'.format(events['flags'][0])"
   ]
  },
  {
   "cell_type": "code",
   "execution_count": null,
   "metadata": {
    "collapsed": false
   },
   "outputs": [],
   "source": [
    "events['rise']"
   ]
  },
  {
   "cell_type": "code",
   "execution_count": null,
   "metadata": {
    "collapsed": false
   },
   "outputs": [],
   "source": [
    "events"
   ]
  },
  {
   "cell_type": "code",
   "execution_count": null,
   "metadata": {
    "collapsed": false
   },
   "outputs": [],
   "source": [
    "'{:04X}'.format(events['flags'][1])"
   ]
  },
  {
   "cell_type": "code",
   "execution_count": null,
   "metadata": {
    "collapsed": true
   },
   "outputs": [],
   "source": [
    "pulse_peak_dt=np.dtype([('time','>i2'),('minima','>i2'),('rise','>u2'),('height','>i2')])\n",
    "pulse_dt=np.dtype([('time','>i2'),('flags','>i2'),('resv','>i2'),('size','>u2'),\n",
    "                  ('offset','>i2'),('length','>i2'),('area','>i4'),('peaks',(pulse_peak_dt,1))])\n",
    "data=np.copy(stream['data'])"
   ]
  },
  {
   "cell_type": "code",
   "execution_count": null,
   "metadata": {
    "collapsed": false
   },
   "outputs": [],
   "source": [
    "pulses=data.view(pulse_dt)"
   ]
  },
  {
   "cell_type": "code",
   "execution_count": null,
   "metadata": {
    "collapsed": false
   },
   "outputs": [],
   "source": [
    "pulses['peaks']['height']-pulses['peaks']['minima']"
   ]
  },
  {
   "cell_type": "code",
   "execution_count": null,
   "metadata": {
    "collapsed": false
   },
   "outputs": [],
   "source": [
    "pulses['peaks']['minima']"
   ]
  },
  {
   "cell_type": "code",
   "execution_count": null,
   "metadata": {
    "collapsed": false
   },
   "outputs": [],
   "source": [
    "peak_count=np.right_shift(np.bitwise_and(pulses['flags'],0xF000),12)\n",
    "peak_overflow=np.bitwise_and(pulses['flags'],0x0800)!=0\n",
    "channel=np.right_shift(np.bitwise_and(pulses['flags'],0x0700),8)\n",
    "timing_type=np.right_shift(np.bitwise_and(pulses['flags'],0x00C0),6)\n",
    "height_type=np.right_shift(np.bitwise_and(pulses['flags'],0x0030),4)\n",
    "event_type=np.right_shift(np.bitwise_and(pulses['flags'],0x000E),1)\n",
    "new_window=np.bitwise_and(pulses['flags'],0x0001)!=0"
   ]
  },
  {
   "cell_type": "code",
   "execution_count": null,
   "metadata": {
    "collapsed": false
   },
   "outputs": [],
   "source": [
    "peak_overflow"
   ]
  },
  {
   "cell_type": "code",
   "execution_count": null,
   "metadata": {
    "collapsed": true
   },
   "outputs": [],
   "source": [
    "test_dt=np.dtype(\n",
    "    [('time','i2'),('flags','i2'),('rise','u2'),('minima','i2'),('low','u8'),('high','u8')]\n",
    ")\n",
    "test=data.view(test_dt)"
   ]
  },
  {
   "cell_type": "code",
   "execution_count": null,
   "metadata": {
    "collapsed": false
   },
   "outputs": [],
   "source": [
    "test"
   ]
  },
  {
   "cell_type": "code",
   "execution_count": null,
   "metadata": {
    "collapsed": false
   },
   "outputs": [],
   "source": [
    "test['minima']"
   ]
  },
  {
   "cell_type": "code",
   "execution_count": null,
   "metadata": {
    "collapsed": false
   },
   "outputs": [],
   "source": [
    "low1=np.int32(np.right_shift(np.bitwise_and(test['low'],0x03FFFF000000000),36))\n",
    "s=(np.bitwise_and(low1,0x00020000)!=0)*0xFFFC0000\n",
    "low2=np.int32(np.right_shift(np.bitwise_and(test['low'],0x000000FFFFC0000),18))\n",
    "low_threshold=np.int32(np.bitwise_and(test['low'],0x00000000003FFFF))\n",
    "high1=np.int32(np.right_shift(np.bitwise_and(test['high'],0x03FFFF000000000),36))\n",
    "high2=np.int32(np.right_shift(np.bitwise_and(test['high'],0x000000FFFFC0000),18))\n",
    "high_threshold=np.int32(np.bitwise_and(test['high'],0x00000000003FFFF))"
   ]
  },
  {
   "cell_type": "code",
   "execution_count": null,
   "metadata": {
    "collapsed": false
   },
   "outputs": [],
   "source": [
    "np.int32(np.bitwise_or(low1,s))/8.0"
   ]
  },
  {
   "cell_type": "code",
   "execution_count": null,
   "metadata": {
    "collapsed": false
   },
   "outputs": [],
   "source": [
    "'{:04X}'.format(low1[0])"
   ]
  },
  {
   "cell_type": "code",
   "execution_count": null,
   "metadata": {
    "collapsed": false
   },
   "outputs": [],
   "source": [
    "high1/8.0"
   ]
  },
  {
   "cell_type": "code",
   "execution_count": null,
   "metadata": {
    "collapsed": false
   },
   "outputs": [],
   "source": [
    "high2/8.0"
   ]
  },
  {
   "cell_type": "code",
   "execution_count": null,
   "metadata": {
    "collapsed": false
   },
   "outputs": [],
   "source": [
    "'{:04X}'.format(high_threshold[0])"
   ]
  },
  {
   "cell_type": "code",
   "execution_count": null,
   "metadata": {
    "collapsed": true
   },
   "outputs": [],
   "source": []
  }
 ],
 "metadata": {
  "anaconda-cloud": {},
  "kernelspec": {
   "display_name": "Python [default]",
   "language": "python",
   "name": "python3"
  },
  "language_info": {
   "codemirror_mode": {
    "name": "ipython",
    "version": 3
   },
   "file_extension": ".py",
   "mimetype": "text/x-python",
   "name": "python",
   "nbconvert_exporter": "python",
   "pygments_lexer": "ipython3",
   "version": "3.5.2"
  }
 },
 "nbformat": 4,
 "nbformat_minor": 1
}
