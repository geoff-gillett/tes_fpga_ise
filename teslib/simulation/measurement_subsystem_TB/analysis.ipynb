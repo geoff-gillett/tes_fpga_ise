{
 "cells": [
  {
   "cell_type": "code",
   "execution_count": 1,
   "metadata": {
    "collapsed": false
   },
   "outputs": [],
   "source": [
    "from tes.data import Data,PacketStream,Packet\n",
    "import numpy as np\n",
    "import matplotlib.pyplot as plt"
   ]
  },
  {
   "cell_type": "code",
   "execution_count": 2,
   "metadata": {
    "collapsed": false
   },
   "outputs": [],
   "source": [
    "trace_dt=np.dtype([('raw','i4'),('filtered','i4'),('slope','i4'),('filteredL','i4')])"
   ]
  },
  {
   "cell_type": "code",
   "execution_count": 3,
   "metadata": {
    "collapsed": true
   },
   "outputs": [],
   "source": [
    "traces=np.fromfile('data/traces',trace_dt)"
   ]
  },
  {
   "cell_type": "code",
   "execution_count": null,
   "metadata": {
    "collapsed": true
   },
   "outputs": [],
   "source": [
    "traces=Data.fromfile('traces',trace_dt,'teslib','measurement_subsystem_TB',tool='vivado')"
   ]
  },
  {
   "cell_type": "code",
   "execution_count": 4,
   "metadata": {
    "collapsed": false
   },
   "outputs": [
    {
     "data": {
      "application/javascript": [
       "/* Put everything inside the global mpl namespace */\n",
       "window.mpl = {};\n",
       "\n",
       "mpl.get_websocket_type = function() {\n",
       "    if (typeof(WebSocket) !== 'undefined') {\n",
       "        return WebSocket;\n",
       "    } else if (typeof(MozWebSocket) !== 'undefined') {\n",
       "        return MozWebSocket;\n",
       "    } else {\n",
       "        alert('Your browser does not have WebSocket support.' +\n",
       "              'Please try Chrome, Safari or Firefox ≥ 6. ' +\n",
       "              'Firefox 4 and 5 are also supported but you ' +\n",
       "              'have to enable WebSockets in about:config.');\n",
       "    };\n",
       "}\n",
       "\n",
       "mpl.figure = function(figure_id, websocket, ondownload, parent_element) {\n",
       "    this.id = figure_id;\n",
       "\n",
       "    this.ws = websocket;\n",
       "\n",
       "    this.supports_binary = (this.ws.binaryType != undefined);\n",
       "\n",
       "    if (!this.supports_binary) {\n",
       "        var warnings = document.getElementById(\"mpl-warnings\");\n",
       "        if (warnings) {\n",
       "            warnings.style.display = 'block';\n",
       "            warnings.textContent = (\n",
       "                \"This browser does not support binary websocket messages. \" +\n",
       "                    \"Performance may be slow.\");\n",
       "        }\n",
       "    }\n",
       "\n",
       "    this.imageObj = new Image();\n",
       "\n",
       "    this.context = undefined;\n",
       "    this.message = undefined;\n",
       "    this.canvas = undefined;\n",
       "    this.rubberband_canvas = undefined;\n",
       "    this.rubberband_context = undefined;\n",
       "    this.format_dropdown = undefined;\n",
       "\n",
       "    this.image_mode = 'full';\n",
       "\n",
       "    this.root = $('<div/>');\n",
       "    this._root_extra_style(this.root)\n",
       "    this.root.attr('style', 'display: inline-block');\n",
       "\n",
       "    $(parent_element).append(this.root);\n",
       "\n",
       "    this._init_header(this);\n",
       "    this._init_canvas(this);\n",
       "    this._init_toolbar(this);\n",
       "\n",
       "    var fig = this;\n",
       "\n",
       "    this.waiting = false;\n",
       "\n",
       "    this.ws.onopen =  function () {\n",
       "            fig.send_message(\"supports_binary\", {value: fig.supports_binary});\n",
       "            fig.send_message(\"send_image_mode\", {});\n",
       "            fig.send_message(\"refresh\", {});\n",
       "        }\n",
       "\n",
       "    this.imageObj.onload = function() {\n",
       "            if (fig.image_mode == 'full') {\n",
       "                // Full images could contain transparency (where diff images\n",
       "                // almost always do), so we need to clear the canvas so that\n",
       "                // there is no ghosting.\n",
       "                fig.context.clearRect(0, 0, fig.canvas.width, fig.canvas.height);\n",
       "            }\n",
       "            fig.context.drawImage(fig.imageObj, 0, 0);\n",
       "        };\n",
       "\n",
       "    this.imageObj.onunload = function() {\n",
       "        this.ws.close();\n",
       "    }\n",
       "\n",
       "    this.ws.onmessage = this._make_on_message_function(this);\n",
       "\n",
       "    this.ondownload = ondownload;\n",
       "}\n",
       "\n",
       "mpl.figure.prototype._init_header = function() {\n",
       "    var titlebar = $(\n",
       "        '<div class=\"ui-dialog-titlebar ui-widget-header ui-corner-all ' +\n",
       "        'ui-helper-clearfix\"/>');\n",
       "    var titletext = $(\n",
       "        '<div class=\"ui-dialog-title\" style=\"width: 100%; ' +\n",
       "        'text-align: center; padding: 3px;\"/>');\n",
       "    titlebar.append(titletext)\n",
       "    this.root.append(titlebar);\n",
       "    this.header = titletext[0];\n",
       "}\n",
       "\n",
       "\n",
       "\n",
       "mpl.figure.prototype._canvas_extra_style = function(canvas_div) {\n",
       "\n",
       "}\n",
       "\n",
       "\n",
       "mpl.figure.prototype._root_extra_style = function(canvas_div) {\n",
       "\n",
       "}\n",
       "\n",
       "mpl.figure.prototype._init_canvas = function() {\n",
       "    var fig = this;\n",
       "\n",
       "    var canvas_div = $('<div/>');\n",
       "\n",
       "    canvas_div.attr('style', 'position: relative; clear: both; outline: 0');\n",
       "\n",
       "    function canvas_keyboard_event(event) {\n",
       "        return fig.key_event(event, event['data']);\n",
       "    }\n",
       "\n",
       "    canvas_div.keydown('key_press', canvas_keyboard_event);\n",
       "    canvas_div.keyup('key_release', canvas_keyboard_event);\n",
       "    this.canvas_div = canvas_div\n",
       "    this._canvas_extra_style(canvas_div)\n",
       "    this.root.append(canvas_div);\n",
       "\n",
       "    var canvas = $('<canvas/>');\n",
       "    canvas.addClass('mpl-canvas');\n",
       "    canvas.attr('style', \"left: 0; top: 0; z-index: 0; outline: 0\")\n",
       "\n",
       "    this.canvas = canvas[0];\n",
       "    this.context = canvas[0].getContext(\"2d\");\n",
       "\n",
       "    var rubberband = $('<canvas/>');\n",
       "    rubberband.attr('style', \"position: absolute; left: 0; top: 0; z-index: 1;\")\n",
       "\n",
       "    var pass_mouse_events = true;\n",
       "\n",
       "    canvas_div.resizable({\n",
       "        start: function(event, ui) {\n",
       "            pass_mouse_events = false;\n",
       "        },\n",
       "        resize: function(event, ui) {\n",
       "            fig.request_resize(ui.size.width, ui.size.height);\n",
       "        },\n",
       "        stop: function(event, ui) {\n",
       "            pass_mouse_events = true;\n",
       "            fig.request_resize(ui.size.width, ui.size.height);\n",
       "        },\n",
       "    });\n",
       "\n",
       "    function mouse_event_fn(event) {\n",
       "        if (pass_mouse_events)\n",
       "            return fig.mouse_event(event, event['data']);\n",
       "    }\n",
       "\n",
       "    rubberband.mousedown('button_press', mouse_event_fn);\n",
       "    rubberband.mouseup('button_release', mouse_event_fn);\n",
       "    // Throttle sequential mouse events to 1 every 20ms.\n",
       "    rubberband.mousemove('motion_notify', mouse_event_fn);\n",
       "\n",
       "    rubberband.mouseenter('figure_enter', mouse_event_fn);\n",
       "    rubberband.mouseleave('figure_leave', mouse_event_fn);\n",
       "\n",
       "    canvas_div.on(\"wheel\", function (event) {\n",
       "        event = event.originalEvent;\n",
       "        event['data'] = 'scroll'\n",
       "        if (event.deltaY < 0) {\n",
       "            event.step = 1;\n",
       "        } else {\n",
       "            event.step = -1;\n",
       "        }\n",
       "        mouse_event_fn(event);\n",
       "    });\n",
       "\n",
       "    canvas_div.append(canvas);\n",
       "    canvas_div.append(rubberband);\n",
       "\n",
       "    this.rubberband = rubberband;\n",
       "    this.rubberband_canvas = rubberband[0];\n",
       "    this.rubberband_context = rubberband[0].getContext(\"2d\");\n",
       "    this.rubberband_context.strokeStyle = \"#000000\";\n",
       "\n",
       "    this._resize_canvas = function(width, height) {\n",
       "        // Keep the size of the canvas, canvas container, and rubber band\n",
       "        // canvas in synch.\n",
       "        canvas_div.css('width', width)\n",
       "        canvas_div.css('height', height)\n",
       "\n",
       "        canvas.attr('width', width);\n",
       "        canvas.attr('height', height);\n",
       "\n",
       "        rubberband.attr('width', width);\n",
       "        rubberband.attr('height', height);\n",
       "    }\n",
       "\n",
       "    // Set the figure to an initial 600x600px, this will subsequently be updated\n",
       "    // upon first draw.\n",
       "    this._resize_canvas(600, 600);\n",
       "\n",
       "    // Disable right mouse context menu.\n",
       "    $(this.rubberband_canvas).bind(\"contextmenu\",function(e){\n",
       "        return false;\n",
       "    });\n",
       "\n",
       "    function set_focus () {\n",
       "        canvas.focus();\n",
       "        canvas_div.focus();\n",
       "    }\n",
       "\n",
       "    window.setTimeout(set_focus, 100);\n",
       "}\n",
       "\n",
       "mpl.figure.prototype._init_toolbar = function() {\n",
       "    var fig = this;\n",
       "\n",
       "    var nav_element = $('<div/>')\n",
       "    nav_element.attr('style', 'width: 100%');\n",
       "    this.root.append(nav_element);\n",
       "\n",
       "    // Define a callback function for later on.\n",
       "    function toolbar_event(event) {\n",
       "        return fig.toolbar_button_onclick(event['data']);\n",
       "    }\n",
       "    function toolbar_mouse_event(event) {\n",
       "        return fig.toolbar_button_onmouseover(event['data']);\n",
       "    }\n",
       "\n",
       "    for(var toolbar_ind in mpl.toolbar_items) {\n",
       "        var name = mpl.toolbar_items[toolbar_ind][0];\n",
       "        var tooltip = mpl.toolbar_items[toolbar_ind][1];\n",
       "        var image = mpl.toolbar_items[toolbar_ind][2];\n",
       "        var method_name = mpl.toolbar_items[toolbar_ind][3];\n",
       "\n",
       "        if (!name) {\n",
       "            // put a spacer in here.\n",
       "            continue;\n",
       "        }\n",
       "        var button = $('<button/>');\n",
       "        button.addClass('ui-button ui-widget ui-state-default ui-corner-all ' +\n",
       "                        'ui-button-icon-only');\n",
       "        button.attr('role', 'button');\n",
       "        button.attr('aria-disabled', 'false');\n",
       "        button.click(method_name, toolbar_event);\n",
       "        button.mouseover(tooltip, toolbar_mouse_event);\n",
       "\n",
       "        var icon_img = $('<span/>');\n",
       "        icon_img.addClass('ui-button-icon-primary ui-icon');\n",
       "        icon_img.addClass(image);\n",
       "        icon_img.addClass('ui-corner-all');\n",
       "\n",
       "        var tooltip_span = $('<span/>');\n",
       "        tooltip_span.addClass('ui-button-text');\n",
       "        tooltip_span.html(tooltip);\n",
       "\n",
       "        button.append(icon_img);\n",
       "        button.append(tooltip_span);\n",
       "\n",
       "        nav_element.append(button);\n",
       "    }\n",
       "\n",
       "    var fmt_picker_span = $('<span/>');\n",
       "\n",
       "    var fmt_picker = $('<select/>');\n",
       "    fmt_picker.addClass('mpl-toolbar-option ui-widget ui-widget-content');\n",
       "    fmt_picker_span.append(fmt_picker);\n",
       "    nav_element.append(fmt_picker_span);\n",
       "    this.format_dropdown = fmt_picker[0];\n",
       "\n",
       "    for (var ind in mpl.extensions) {\n",
       "        var fmt = mpl.extensions[ind];\n",
       "        var option = $(\n",
       "            '<option/>', {selected: fmt === mpl.default_extension}).html(fmt);\n",
       "        fmt_picker.append(option)\n",
       "    }\n",
       "\n",
       "    // Add hover states to the ui-buttons\n",
       "    $( \".ui-button\" ).hover(\n",
       "        function() { $(this).addClass(\"ui-state-hover\");},\n",
       "        function() { $(this).removeClass(\"ui-state-hover\");}\n",
       "    );\n",
       "\n",
       "    var status_bar = $('<span class=\"mpl-message\"/>');\n",
       "    nav_element.append(status_bar);\n",
       "    this.message = status_bar[0];\n",
       "}\n",
       "\n",
       "mpl.figure.prototype.request_resize = function(x_pixels, y_pixels) {\n",
       "    // Request matplotlib to resize the figure. Matplotlib will then trigger a resize in the client,\n",
       "    // which will in turn request a refresh of the image.\n",
       "    this.send_message('resize', {'width': x_pixels, 'height': y_pixels});\n",
       "}\n",
       "\n",
       "mpl.figure.prototype.send_message = function(type, properties) {\n",
       "    properties['type'] = type;\n",
       "    properties['figure_id'] = this.id;\n",
       "    this.ws.send(JSON.stringify(properties));\n",
       "}\n",
       "\n",
       "mpl.figure.prototype.send_draw_message = function() {\n",
       "    if (!this.waiting) {\n",
       "        this.waiting = true;\n",
       "        this.ws.send(JSON.stringify({type: \"draw\", figure_id: this.id}));\n",
       "    }\n",
       "}\n",
       "\n",
       "\n",
       "mpl.figure.prototype.handle_save = function(fig, msg) {\n",
       "    var format_dropdown = fig.format_dropdown;\n",
       "    var format = format_dropdown.options[format_dropdown.selectedIndex].value;\n",
       "    fig.ondownload(fig, format);\n",
       "}\n",
       "\n",
       "\n",
       "mpl.figure.prototype.handle_resize = function(fig, msg) {\n",
       "    var size = msg['size'];\n",
       "    if (size[0] != fig.canvas.width || size[1] != fig.canvas.height) {\n",
       "        fig._resize_canvas(size[0], size[1]);\n",
       "        fig.send_message(\"refresh\", {});\n",
       "    };\n",
       "}\n",
       "\n",
       "mpl.figure.prototype.handle_rubberband = function(fig, msg) {\n",
       "    var x0 = msg['x0'];\n",
       "    var y0 = fig.canvas.height - msg['y0'];\n",
       "    var x1 = msg['x1'];\n",
       "    var y1 = fig.canvas.height - msg['y1'];\n",
       "    x0 = Math.floor(x0) + 0.5;\n",
       "    y0 = Math.floor(y0) + 0.5;\n",
       "    x1 = Math.floor(x1) + 0.5;\n",
       "    y1 = Math.floor(y1) + 0.5;\n",
       "    var min_x = Math.min(x0, x1);\n",
       "    var min_y = Math.min(y0, y1);\n",
       "    var width = Math.abs(x1 - x0);\n",
       "    var height = Math.abs(y1 - y0);\n",
       "\n",
       "    fig.rubberband_context.clearRect(\n",
       "        0, 0, fig.canvas.width, fig.canvas.height);\n",
       "\n",
       "    fig.rubberband_context.strokeRect(min_x, min_y, width, height);\n",
       "}\n",
       "\n",
       "mpl.figure.prototype.handle_figure_label = function(fig, msg) {\n",
       "    // Updates the figure title.\n",
       "    fig.header.textContent = msg['label'];\n",
       "}\n",
       "\n",
       "mpl.figure.prototype.handle_cursor = function(fig, msg) {\n",
       "    var cursor = msg['cursor'];\n",
       "    switch(cursor)\n",
       "    {\n",
       "    case 0:\n",
       "        cursor = 'pointer';\n",
       "        break;\n",
       "    case 1:\n",
       "        cursor = 'default';\n",
       "        break;\n",
       "    case 2:\n",
       "        cursor = 'crosshair';\n",
       "        break;\n",
       "    case 3:\n",
       "        cursor = 'move';\n",
       "        break;\n",
       "    }\n",
       "    fig.rubberband_canvas.style.cursor = cursor;\n",
       "}\n",
       "\n",
       "mpl.figure.prototype.handle_message = function(fig, msg) {\n",
       "    fig.message.textContent = msg['message'];\n",
       "}\n",
       "\n",
       "mpl.figure.prototype.handle_draw = function(fig, msg) {\n",
       "    // Request the server to send over a new figure.\n",
       "    fig.send_draw_message();\n",
       "}\n",
       "\n",
       "mpl.figure.prototype.handle_image_mode = function(fig, msg) {\n",
       "    fig.image_mode = msg['mode'];\n",
       "}\n",
       "\n",
       "mpl.figure.prototype.updated_canvas_event = function() {\n",
       "    // Called whenever the canvas gets updated.\n",
       "    this.send_message(\"ack\", {});\n",
       "}\n",
       "\n",
       "// A function to construct a web socket function for onmessage handling.\n",
       "// Called in the figure constructor.\n",
       "mpl.figure.prototype._make_on_message_function = function(fig) {\n",
       "    return function socket_on_message(evt) {\n",
       "        if (evt.data instanceof Blob) {\n",
       "            /* FIXME: We get \"Resource interpreted as Image but\n",
       "             * transferred with MIME type text/plain:\" errors on\n",
       "             * Chrome.  But how to set the MIME type?  It doesn't seem\n",
       "             * to be part of the websocket stream */\n",
       "            evt.data.type = \"image/png\";\n",
       "\n",
       "            /* Free the memory for the previous frames */\n",
       "            if (fig.imageObj.src) {\n",
       "                (window.URL || window.webkitURL).revokeObjectURL(\n",
       "                    fig.imageObj.src);\n",
       "            }\n",
       "\n",
       "            fig.imageObj.src = (window.URL || window.webkitURL).createObjectURL(\n",
       "                evt.data);\n",
       "            fig.updated_canvas_event();\n",
       "            fig.waiting = false;\n",
       "            return;\n",
       "        }\n",
       "        else if (typeof evt.data === 'string' && evt.data.slice(0, 21) == \"data:image/png;base64\") {\n",
       "            fig.imageObj.src = evt.data;\n",
       "            fig.updated_canvas_event();\n",
       "            fig.waiting = false;\n",
       "            return;\n",
       "        }\n",
       "\n",
       "        var msg = JSON.parse(evt.data);\n",
       "        var msg_type = msg['type'];\n",
       "\n",
       "        // Call the  \"handle_{type}\" callback, which takes\n",
       "        // the figure and JSON message as its only arguments.\n",
       "        try {\n",
       "            var callback = fig[\"handle_\" + msg_type];\n",
       "        } catch (e) {\n",
       "            console.log(\"No handler for the '\" + msg_type + \"' message type: \", msg);\n",
       "            return;\n",
       "        }\n",
       "\n",
       "        if (callback) {\n",
       "            try {\n",
       "                // console.log(\"Handling '\" + msg_type + \"' message: \", msg);\n",
       "                callback(fig, msg);\n",
       "            } catch (e) {\n",
       "                console.log(\"Exception inside the 'handler_\" + msg_type + \"' callback:\", e, e.stack, msg);\n",
       "            }\n",
       "        }\n",
       "    };\n",
       "}\n",
       "\n",
       "// from http://stackoverflow.com/questions/1114465/getting-mouse-location-in-canvas\n",
       "mpl.findpos = function(e) {\n",
       "    //this section is from http://www.quirksmode.org/js/events_properties.html\n",
       "    var targ;\n",
       "    if (!e)\n",
       "        e = window.event;\n",
       "    if (e.target)\n",
       "        targ = e.target;\n",
       "    else if (e.srcElement)\n",
       "        targ = e.srcElement;\n",
       "    if (targ.nodeType == 3) // defeat Safari bug\n",
       "        targ = targ.parentNode;\n",
       "\n",
       "    // jQuery normalizes the pageX and pageY\n",
       "    // pageX,Y are the mouse positions relative to the document\n",
       "    // offset() returns the position of the element relative to the document\n",
       "    var x = e.pageX - $(targ).offset().left;\n",
       "    var y = e.pageY - $(targ).offset().top;\n",
       "\n",
       "    return {\"x\": x, \"y\": y};\n",
       "};\n",
       "\n",
       "/*\n",
       " * return a copy of an object with only non-object keys\n",
       " * we need this to avoid circular references\n",
       " * http://stackoverflow.com/a/24161582/3208463\n",
       " */\n",
       "function simpleKeys (original) {\n",
       "  return Object.keys(original).reduce(function (obj, key) {\n",
       "    if (typeof original[key] !== 'object')\n",
       "        obj[key] = original[key]\n",
       "    return obj;\n",
       "  }, {});\n",
       "}\n",
       "\n",
       "mpl.figure.prototype.mouse_event = function(event, name) {\n",
       "    var canvas_pos = mpl.findpos(event)\n",
       "\n",
       "    if (name === 'button_press')\n",
       "    {\n",
       "        this.canvas.focus();\n",
       "        this.canvas_div.focus();\n",
       "    }\n",
       "\n",
       "    var x = canvas_pos.x;\n",
       "    var y = canvas_pos.y;\n",
       "\n",
       "    this.send_message(name, {x: x, y: y, button: event.button,\n",
       "                             step: event.step,\n",
       "                             guiEvent: simpleKeys(event)});\n",
       "\n",
       "    /* This prevents the web browser from automatically changing to\n",
       "     * the text insertion cursor when the button is pressed.  We want\n",
       "     * to control all of the cursor setting manually through the\n",
       "     * 'cursor' event from matplotlib */\n",
       "    event.preventDefault();\n",
       "    return false;\n",
       "}\n",
       "\n",
       "mpl.figure.prototype._key_event_extra = function(event, name) {\n",
       "    // Handle any extra behaviour associated with a key event\n",
       "}\n",
       "\n",
       "mpl.figure.prototype.key_event = function(event, name) {\n",
       "\n",
       "    // Prevent repeat events\n",
       "    if (name == 'key_press')\n",
       "    {\n",
       "        if (event.which === this._key)\n",
       "            return;\n",
       "        else\n",
       "            this._key = event.which;\n",
       "    }\n",
       "    if (name == 'key_release')\n",
       "        this._key = null;\n",
       "\n",
       "    var value = '';\n",
       "    if (event.ctrlKey && event.which != 17)\n",
       "        value += \"ctrl+\";\n",
       "    if (event.altKey && event.which != 18)\n",
       "        value += \"alt+\";\n",
       "    if (event.shiftKey && event.which != 16)\n",
       "        value += \"shift+\";\n",
       "\n",
       "    value += 'k';\n",
       "    value += event.which.toString();\n",
       "\n",
       "    this._key_event_extra(event, name);\n",
       "\n",
       "    this.send_message(name, {key: value,\n",
       "                             guiEvent: simpleKeys(event)});\n",
       "    return false;\n",
       "}\n",
       "\n",
       "mpl.figure.prototype.toolbar_button_onclick = function(name) {\n",
       "    if (name == 'download') {\n",
       "        this.handle_save(this, null);\n",
       "    } else {\n",
       "        this.send_message(\"toolbar_button\", {name: name});\n",
       "    }\n",
       "};\n",
       "\n",
       "mpl.figure.prototype.toolbar_button_onmouseover = function(tooltip) {\n",
       "    this.message.textContent = tooltip;\n",
       "};\n",
       "mpl.toolbar_items = [[\"Home\", \"Reset original view\", \"fa fa-home icon-home\", \"home\"], [\"Back\", \"Back to  previous view\", \"fa fa-arrow-left icon-arrow-left\", \"back\"], [\"Forward\", \"Forward to next view\", \"fa fa-arrow-right icon-arrow-right\", \"forward\"], [\"\", \"\", \"\", \"\"], [\"Pan\", \"Pan axes with left mouse, zoom with right\", \"fa fa-arrows icon-move\", \"pan\"], [\"Zoom\", \"Zoom to rectangle\", \"fa fa-square-o icon-check-empty\", \"zoom\"], [\"\", \"\", \"\", \"\"], [\"Download\", \"Download plot\", \"fa fa-floppy-o icon-save\", \"download\"]];\n",
       "\n",
       "mpl.extensions = [\"eps\", \"jpeg\", \"pdf\", \"png\", \"ps\", \"raw\", \"svg\", \"tif\"];\n",
       "\n",
       "mpl.default_extension = \"png\";var comm_websocket_adapter = function(comm) {\n",
       "    // Create a \"websocket\"-like object which calls the given IPython comm\n",
       "    // object with the appropriate methods. Currently this is a non binary\n",
       "    // socket, so there is still some room for performance tuning.\n",
       "    var ws = {};\n",
       "\n",
       "    ws.close = function() {\n",
       "        comm.close()\n",
       "    };\n",
       "    ws.send = function(m) {\n",
       "        //console.log('sending', m);\n",
       "        comm.send(m);\n",
       "    };\n",
       "    // Register the callback with on_msg.\n",
       "    comm.on_msg(function(msg) {\n",
       "        //console.log('receiving', msg['content']['data'], msg);\n",
       "        // Pass the mpl event to the overriden (by mpl) onmessage function.\n",
       "        ws.onmessage(msg['content']['data'])\n",
       "    });\n",
       "    return ws;\n",
       "}\n",
       "\n",
       "mpl.mpl_figure_comm = function(comm, msg) {\n",
       "    // This is the function which gets called when the mpl process\n",
       "    // starts-up an IPython Comm through the \"matplotlib\" channel.\n",
       "\n",
       "    var id = msg.content.data.id;\n",
       "    // Get hold of the div created by the display call when the Comm\n",
       "    // socket was opened in Python.\n",
       "    var element = $(\"#\" + id);\n",
       "    var ws_proxy = comm_websocket_adapter(comm)\n",
       "\n",
       "    function ondownload(figure, format) {\n",
       "        window.open(figure.imageObj.src);\n",
       "    }\n",
       "\n",
       "    var fig = new mpl.figure(id, ws_proxy,\n",
       "                           ondownload,\n",
       "                           element.get(0));\n",
       "\n",
       "    // Call onopen now - mpl needs it, as it is assuming we've passed it a real\n",
       "    // web socket which is closed, not our websocket->open comm proxy.\n",
       "    ws_proxy.onopen();\n",
       "\n",
       "    fig.parent_element = element.get(0);\n",
       "    fig.cell_info = mpl.find_output_cell(\"<div id='\" + id + \"'></div>\");\n",
       "    if (!fig.cell_info) {\n",
       "        console.error(\"Failed to find cell for figure\", id, fig);\n",
       "        return;\n",
       "    }\n",
       "\n",
       "    var output_index = fig.cell_info[2]\n",
       "    var cell = fig.cell_info[0];\n",
       "\n",
       "};\n",
       "\n",
       "mpl.figure.prototype.handle_close = function(fig, msg) {\n",
       "    fig.root.unbind('remove')\n",
       "\n",
       "    // Update the output cell to use the data from the current canvas.\n",
       "    fig.push_to_output();\n",
       "    var dataURL = fig.canvas.toDataURL();\n",
       "    // Re-enable the keyboard manager in IPython - without this line, in FF,\n",
       "    // the notebook keyboard shortcuts fail.\n",
       "    IPython.keyboard_manager.enable()\n",
       "    $(fig.parent_element).html('<img src=\"' + dataURL + '\">');\n",
       "    fig.close_ws(fig, msg);\n",
       "}\n",
       "\n",
       "mpl.figure.prototype.close_ws = function(fig, msg){\n",
       "    fig.send_message('closing', msg);\n",
       "    // fig.ws.close()\n",
       "}\n",
       "\n",
       "mpl.figure.prototype.push_to_output = function(remove_interactive) {\n",
       "    // Turn the data on the canvas into data in the output cell.\n",
       "    var dataURL = this.canvas.toDataURL();\n",
       "    this.cell_info[1]['text/html'] = '<img src=\"' + dataURL + '\">';\n",
       "}\n",
       "\n",
       "mpl.figure.prototype.updated_canvas_event = function() {\n",
       "    // Tell IPython that the notebook contents must change.\n",
       "    IPython.notebook.set_dirty(true);\n",
       "    this.send_message(\"ack\", {});\n",
       "    var fig = this;\n",
       "    // Wait a second, then push the new image to the DOM so\n",
       "    // that it is saved nicely (might be nice to debounce this).\n",
       "    setTimeout(function () { fig.push_to_output() }, 1000);\n",
       "}\n",
       "\n",
       "mpl.figure.prototype._init_toolbar = function() {\n",
       "    var fig = this;\n",
       "\n",
       "    var nav_element = $('<div/>')\n",
       "    nav_element.attr('style', 'width: 100%');\n",
       "    this.root.append(nav_element);\n",
       "\n",
       "    // Define a callback function for later on.\n",
       "    function toolbar_event(event) {\n",
       "        return fig.toolbar_button_onclick(event['data']);\n",
       "    }\n",
       "    function toolbar_mouse_event(event) {\n",
       "        return fig.toolbar_button_onmouseover(event['data']);\n",
       "    }\n",
       "\n",
       "    for(var toolbar_ind in mpl.toolbar_items){\n",
       "        var name = mpl.toolbar_items[toolbar_ind][0];\n",
       "        var tooltip = mpl.toolbar_items[toolbar_ind][1];\n",
       "        var image = mpl.toolbar_items[toolbar_ind][2];\n",
       "        var method_name = mpl.toolbar_items[toolbar_ind][3];\n",
       "\n",
       "        if (!name) { continue; };\n",
       "\n",
       "        var button = $('<button class=\"btn btn-default\" href=\"#\" title=\"' + name + '\"><i class=\"fa ' + image + ' fa-lg\"></i></button>');\n",
       "        button.click(method_name, toolbar_event);\n",
       "        button.mouseover(tooltip, toolbar_mouse_event);\n",
       "        nav_element.append(button);\n",
       "    }\n",
       "\n",
       "    // Add the status bar.\n",
       "    var status_bar = $('<span class=\"mpl-message\" style=\"text-align:right; float: right;\"/>');\n",
       "    nav_element.append(status_bar);\n",
       "    this.message = status_bar[0];\n",
       "\n",
       "    // Add the close button to the window.\n",
       "    var buttongrp = $('<div class=\"btn-group inline pull-right\"></div>');\n",
       "    var button = $('<button class=\"btn btn-mini btn-primary\" href=\"#\" title=\"Stop Interaction\"><i class=\"fa fa-power-off icon-remove icon-large\"></i></button>');\n",
       "    button.click(function (evt) { fig.handle_close(fig, {}); } );\n",
       "    button.mouseover('Stop Interaction', toolbar_mouse_event);\n",
       "    buttongrp.append(button);\n",
       "    var titlebar = this.root.find($('.ui-dialog-titlebar'));\n",
       "    titlebar.prepend(buttongrp);\n",
       "}\n",
       "\n",
       "mpl.figure.prototype._root_extra_style = function(el){\n",
       "    var fig = this\n",
       "    el.on(\"remove\", function(){\n",
       "\tfig.close_ws(fig, {});\n",
       "    });\n",
       "}\n",
       "\n",
       "mpl.figure.prototype._canvas_extra_style = function(el){\n",
       "    // this is important to make the div 'focusable\n",
       "    el.attr('tabindex', 0)\n",
       "    // reach out to IPython and tell the keyboard manager to turn it's self\n",
       "    // off when our div gets focus\n",
       "\n",
       "    // location in version 3\n",
       "    if (IPython.notebook.keyboard_manager) {\n",
       "        IPython.notebook.keyboard_manager.register_events(el);\n",
       "    }\n",
       "    else {\n",
       "        // location in version 2\n",
       "        IPython.keyboard_manager.register_events(el);\n",
       "    }\n",
       "\n",
       "}\n",
       "\n",
       "mpl.figure.prototype._key_event_extra = function(event, name) {\n",
       "    var manager = IPython.notebook.keyboard_manager;\n",
       "    if (!manager)\n",
       "        manager = IPython.keyboard_manager;\n",
       "\n",
       "    // Check for shift+enter\n",
       "    if (event.shiftKey && event.which == 13) {\n",
       "        this.canvas_div.blur();\n",
       "        // select the cell after this one\n",
       "        var index = IPython.notebook.find_cell_index(this.cell_info[0]);\n",
       "        IPython.notebook.select(index + 1);\n",
       "    }\n",
       "}\n",
       "\n",
       "mpl.figure.prototype.handle_save = function(fig, msg) {\n",
       "    fig.ondownload(fig, null);\n",
       "}\n",
       "\n",
       "\n",
       "mpl.find_output_cell = function(html_output) {\n",
       "    // Return the cell and output element which can be found *uniquely* in the notebook.\n",
       "    // Note - this is a bit hacky, but it is done because the \"notebook_saving.Notebook\"\n",
       "    // IPython event is triggered only after the cells have been serialised, which for\n",
       "    // our purposes (turning an active figure into a static one), is too late.\n",
       "    var cells = IPython.notebook.get_cells();\n",
       "    var ncells = cells.length;\n",
       "    for (var i=0; i<ncells; i++) {\n",
       "        var cell = cells[i];\n",
       "        if (cell.cell_type === 'code'){\n",
       "            for (var j=0; j<cell.output_area.outputs.length; j++) {\n",
       "                var data = cell.output_area.outputs[j];\n",
       "                if (data.data) {\n",
       "                    // IPython >= 3 moved mimebundle to data attribute of output\n",
       "                    data = data.data;\n",
       "                }\n",
       "                if (data['text/html'] == html_output) {\n",
       "                    return [cell, data, j];\n",
       "                }\n",
       "            }\n",
       "        }\n",
       "    }\n",
       "}\n",
       "\n",
       "// Register the function which deals with the matplotlib target/channel.\n",
       "// The kernel may be null if the page has been refreshed.\n",
       "if (IPython.notebook.kernel != null) {\n",
       "    IPython.notebook.kernel.comm_manager.register_target('matplotlib', mpl.mpl_figure_comm);\n",
       "}\n"
      ],
      "text/plain": [
       "<IPython.core.display.Javascript object>"
      ]
     },
     "metadata": {},
     "output_type": "display_data"
    },
    {
     "data": {
      "text/html": [
       "<img src=\"data:image/png;base64,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\">"
      ],
      "text/plain": [
       "<IPython.core.display.HTML object>"
      ]
     },
     "metadata": {},
     "output_type": "display_data"
    },
    {
     "data": {
      "text/plain": [
       "[<matplotlib.lines.Line2D at 0xbc2a7b8>]"
      ]
     },
     "execution_count": 4,
     "metadata": {},
     "output_type": "execute_result"
    }
   ],
   "source": [
    "%matplotlib notebook\n",
    "plt.plot(traces['filtered'][1100:])"
   ]
  },
  {
   "cell_type": "code",
   "execution_count": null,
   "metadata": {
    "collapsed": false
   },
   "outputs": [],
   "source": [
    "filtered=traces['filtered'][1100:]\n",
    "filteredL=traces['filteredL'][1100:]"
   ]
  },
  {
   "cell_type": "code",
   "execution_count": null,
   "metadata": {
    "collapsed": false
   },
   "outputs": [],
   "source": [
    "filtered[:10]"
   ]
  },
  {
   "cell_type": "code",
   "execution_count": null,
   "metadata": {
    "collapsed": false
   },
   "outputs": [],
   "source": [
    "filteredL[:10]/4"
   ]
  },
  {
   "cell_type": "code",
   "execution_count": null,
   "metadata": {
    "collapsed": false
   },
   "outputs": [],
   "source": [
    "minmax_dt=np.dtype([('filtered','i4'),('low','i4'),('high','i4'),('clk','i4')])\n",
    "minmax=Data.fromfile('minmax',minmax_dt,'teslib','measurement_subsystem_TB',tool='vivado')\n",
    "fxing_dt=np.dtype([('extrema','i4'),('area','i4'),('clk','i4')])\n",
    "fxing=Data.fromfile('filteredxing',fxing_dt,'teslib','measurement_subsystem_TB',tool='vivado')"
   ]
  },
  {
   "cell_type": "code",
   "execution_count": null,
   "metadata": {
    "collapsed": false
   },
   "outputs": [],
   "source": [
    "minmax"
   ]
  },
  {
   "cell_type": "code",
   "execution_count": null,
   "metadata": {
    "collapsed": false
   },
   "outputs": [],
   "source": [
    "fxing"
   ]
  },
  {
   "cell_type": "code",
   "execution_count": null,
   "metadata": {
    "collapsed": false
   },
   "outputs": [],
   "source": [
    "np.where(fxing['area']==0)"
   ]
  },
  {
   "cell_type": "code",
   "execution_count": null,
   "metadata": {
    "collapsed": false
   },
   "outputs": [],
   "source": [
    "np.where(fxing['extrema']==0)"
   ]
  },
  {
   "cell_type": "code",
   "execution_count": null,
   "metadata": {
    "collapsed": false
   },
   "outputs": [],
   "source": [
    "fxing[30]"
   ]
  },
  {
   "cell_type": "code",
   "execution_count": null,
   "metadata": {
    "collapsed": false
   },
   "outputs": [],
   "source": [
    "exn=np.where(fxing['extrema']<0)\n",
    "clkn=np.where(fxing['clk']>0)"
   ]
  },
  {
   "cell_type": "code",
   "execution_count": null,
   "metadata": {
    "collapsed": true
   },
   "outputs": [],
   "source": []
  },
  {
   "cell_type": "code",
   "execution_count": null,
   "metadata": {
    "collapsed": false
   },
   "outputs": [],
   "source": [
    "fxing[374]"
   ]
  },
  {
   "cell_type": "code",
   "execution_count": null,
   "metadata": {
    "collapsed": false
   },
   "outputs": [],
   "source": [
    "clkn"
   ]
  },
  {
   "cell_type": "code",
   "execution_count": null,
   "metadata": {
    "collapsed": false
   },
   "outputs": [],
   "source": [
    "np.where(minmax[maxs[0]-1]['min']!=1)"
   ]
  },
  {
   "cell_type": "code",
   "execution_count": null,
   "metadata": {
    "collapsed": false
   },
   "outputs": [],
   "source": [
    "minmax[maxs[0]-1][65]"
   ]
  },
  {
   "cell_type": "code",
   "execution_count": null,
   "metadata": {
    "collapsed": false
   },
   "outputs": [],
   "source": [
    "2290-925"
   ]
  },
  {
   "cell_type": "code",
   "execution_count": null,
   "metadata": {
    "collapsed": false
   },
   "outputs": [],
   "source": [
    "0.375*4"
   ]
  },
  {
   "cell_type": "code",
   "execution_count": null,
   "metadata": {
    "collapsed": false
   },
   "outputs": [],
   "source": [
    "np.where(minmax['clock']==2290)"
   ]
  },
  {
   "cell_type": "code",
   "execution_count": null,
   "metadata": {
    "collapsed": false
   },
   "outputs": [],
   "source": [
    "minmax[120:140]"
   ]
  },
  {
   "cell_type": "code",
   "execution_count": null,
   "metadata": {
    "collapsed": false
   },
   "outputs": [],
   "source": [
    "stream_dt=np.dtype([('data','>i4'),('last','i4')])\n",
    "#stream=np.fromfile('data/stream',stream_dt)"
   ]
  },
  {
   "cell_type": "markdown",
   "metadata": {},
   "source": [
    "### bytestream stuff"
   ]
  },
  {
   "cell_type": "code",
   "execution_count": null,
   "metadata": {
    "collapsed": false
   },
   "outputs": [],
   "source": [
    "stream_dt=np.dtype([('data','i4'),('last','i4')])\n",
    "stream=Data.fromfile('bytestream',stream_dt,'teslib','measurement_subsystem_TB',tool='vivado')\n",
    "lasts=np.where(stream['last']<=0)[0]+1\n",
    "#data=np.copy(stream['data'])"
   ]
  },
  {
   "cell_type": "code",
   "execution_count": null,
   "metadata": {
    "collapsed": false
   },
   "outputs": [],
   "source": [
    "stream"
   ]
  },
  {
   "cell_type": "code",
   "execution_count": null,
   "metadata": {
    "collapsed": true
   },
   "outputs": [],
   "source": [
    "stream=np.fromfile('data/bytestream',stream_dt)"
   ]
  },
  {
   "cell_type": "code",
   "execution_count": null,
   "metadata": {
    "collapsed": false
   },
   "outputs": [],
   "source": [
    "bs=PacketStream(stream)"
   ]
  },
  {
   "cell_type": "code",
   "execution_count": null,
   "metadata": {
    "collapsed": false
   },
   "outputs": [],
   "source": [
    "384/4"
   ]
  },
  {
   "cell_type": "code",
   "execution_count": null,
   "metadata": {
    "collapsed": false
   },
   "outputs": [],
   "source": [
    "bs.packets"
   ]
  },
  {
   "cell_type": "code",
   "execution_count": null,
   "metadata": {
    "collapsed": false
   },
   "outputs": [],
   "source": [
    "bs.packets[4]"
   ]
  },
  {
   "cell_type": "code",
   "execution_count": null,
   "metadata": {
    "collapsed": true
   },
   "outputs": [],
   "source": [
    "eheader_dt=[('etype','<u2'),('length','u2'),()]"
   ]
  },
  {
   "cell_type": "code",
   "execution_count": null,
   "metadata": {
    "collapsed": false
   },
   "outputs": [],
   "source": [
    "'{:X}'.format(bs.packets[1].bytes[23])\n"
   ]
  },
  {
   "cell_type": "code",
   "execution_count": null,
   "metadata": {
    "collapsed": false
   },
   "outputs": [],
   "source": [
    "'{:X}'.format(bs.packets[0].bytes[28:30].view(np.uint16)[0])"
   ]
  },
  {
   "cell_type": "code",
   "execution_count": null,
   "metadata": {
    "collapsed": true
   },
   "outputs": [],
   "source": [
    "pulse_peak_dt=np.dtype([('height','i2'),('rise','i2'),('minima','u2'),('time','i2')])\n",
    "pulse_dt=np.dtype([('size','i2'),('resv','i2'),('flags','i2'),('time','u2'),\n",
    "                  ('area','i4'),('length','i2'),('offset','i2'),('peaks',(pulse_peak_dt,2))])"
   ]
  },
  {
   "cell_type": "code",
   "execution_count": null,
   "metadata": {
    "collapsed": false
   },
   "outputs": [],
   "source": [
    "pulses=bs.packets[3].payload.view(pulse_dt)"
   ]
  },
  {
   "cell_type": "code",
   "execution_count": null,
   "metadata": {
    "collapsed": false
   },
   "outputs": [],
   "source": [
    "pulses['peaks']"
   ]
  },
  {
   "cell_type": "code",
   "execution_count": null,
   "metadata": {
    "collapsed": false
   },
   "outputs": [],
   "source": [
    "pulses['offset']"
   ]
  },
  {
   "cell_type": "code",
   "execution_count": null,
   "metadata": {
    "collapsed": false
   },
   "outputs": [],
   "source": [
    "pulses['length']"
   ]
  },
  {
   "cell_type": "code",
   "execution_count": null,
   "metadata": {
    "collapsed": false
   },
   "outputs": [],
   "source": [
    "class eflags:\n",
    "    def __init__(self,uint16):\n",
    "        self.new_window=np.bitwise_and(uint16,0x00000001)!=0\n",
    "        self.tick=np.bitwise_and(uint16,0x00000002)!=0\n",
    "        self.type=np.right_shift(np.bitwise_and(uint16,0x0000000c),2)\n",
    "        \n",
    "    def __repr__(self):\n",
    "        return 'New window:{:}\\n'.format(self.new_window) + \\\n",
    "               'Tick:{:}\\n'.format(self.tick) + \\\n",
    "               'Type:{:}\\n'.format(self.type) "
   ]
  },
  {
   "cell_type": "code",
   "execution_count": null,
   "metadata": {
    "collapsed": false
   },
   "outputs": [],
   "source": [
    "f=eflags(pulses[0]['flags'])\n",
    "f"
   ]
  },
  {
   "cell_type": "code",
   "execution_count": null,
   "metadata": {
    "collapsed": false
   },
   "outputs": [],
   "source": [
    "'{:X}'.format(bs.packets[3].bytes[13:14].view(np.uint16))"
   ]
  },
  {
   "cell_type": "code",
   "execution_count": null,
   "metadata": {
    "collapsed": true
   },
   "outputs": [],
   "source": []
  },
  {
   "cell_type": "code",
   "execution_count": null,
   "metadata": {
    "collapsed": false
   },
   "outputs": [],
   "source": [
    "'{:X}'.format(bs.packets[3].bytes[14:16].view(np.uint16)[0])"
   ]
  },
  {
   "cell_type": "code",
   "execution_count": null,
   "metadata": {
    "collapsed": false
   },
   "outputs": [],
   "source": [
    "bs.packets[3].bytes[14:16].view(np.uint16)[0]"
   ]
  },
  {
   "cell_type": "code",
   "execution_count": null,
   "metadata": {
    "collapsed": false
   },
   "outputs": [],
   "source": [
    "bs=np.uint8(stream['data'][:48])"
   ]
  },
  {
   "cell_type": "code",
   "execution_count": null,
   "metadata": {
    "collapsed": false
   },
   "outputs": [],
   "source": [
    "bs"
   ]
  },
  {
   "cell_type": "code",
   "execution_count": null,
   "metadata": {
    "collapsed": false
   },
   "outputs": [],
   "source": [
    "events=stream['data'].view(event_dt)"
   ]
  },
  {
   "cell_type": "code",
   "execution_count": null,
   "metadata": {
    "collapsed": false
   },
   "outputs": [],
   "source": [
    "'{:X}'.format(events['flags'][0])"
   ]
  },
  {
   "cell_type": "code",
   "execution_count": null,
   "metadata": {
    "collapsed": false
   },
   "outputs": [],
   "source": [
    "events['rise']"
   ]
  },
  {
   "cell_type": "code",
   "execution_count": null,
   "metadata": {
    "collapsed": false
   },
   "outputs": [],
   "source": [
    "events"
   ]
  },
  {
   "cell_type": "code",
   "execution_count": null,
   "metadata": {
    "collapsed": false
   },
   "outputs": [],
   "source": [
    "'{:04X}'.format(events['flags'][1])"
   ]
  },
  {
   "cell_type": "code",
   "execution_count": null,
   "metadata": {
    "collapsed": true
   },
   "outputs": [],
   "source": [
    "pulse_peak_dt=np.dtype([('time','>i2'),('minima','>i2'),('rise','>u2'),('height','>i2')])\n",
    "pulse_dt=np.dtype([('time','>i2'),('flags','>i2'),('resv','>i2'),('size','>u2'),\n",
    "                  ('offset','>i2'),('length','>i2'),('area','>i4'),('peaks',(pulse_peak_dt,1))])\n",
    "data=np.copy(stream['data'])"
   ]
  },
  {
   "cell_type": "code",
   "execution_count": null,
   "metadata": {
    "collapsed": false
   },
   "outputs": [],
   "source": [
    "pulses=data.view(pulse_dt)"
   ]
  },
  {
   "cell_type": "code",
   "execution_count": null,
   "metadata": {
    "collapsed": false
   },
   "outputs": [],
   "source": [
    "pulses['peaks']['height']-pulses['peaks']['minima']"
   ]
  },
  {
   "cell_type": "code",
   "execution_count": null,
   "metadata": {
    "collapsed": false
   },
   "outputs": [],
   "source": [
    "pulses['peaks']['minima']"
   ]
  },
  {
   "cell_type": "code",
   "execution_count": null,
   "metadata": {
    "collapsed": false
   },
   "outputs": [],
   "source": [
    "peak_count=np.right_shift(np.bitwise_and(pulses['flags'],0xF000),12)\n",
    "peak_overflow=np.bitwise_and(pulses['flags'],0x0800)!=0\n",
    "channel=np.right_shift(np.bitwise_and(pulses['flags'],0x0700),8)\n",
    "timing_type=np.right_shift(np.bitwise_and(pulses['flags'],0x00C0),6)\n",
    "height_type=np.right_shift(np.bitwise_and(pulses['flags'],0x0030),4)\n",
    "event_type=np.right_shift(np.bitwise_and(pulses['flags'],0x000E),1)\n",
    "new_window=np.bitwise_and(pulses['flags'],0x0001)!=0"
   ]
  },
  {
   "cell_type": "code",
   "execution_count": null,
   "metadata": {
    "collapsed": false
   },
   "outputs": [],
   "source": [
    "peak_overflow"
   ]
  },
  {
   "cell_type": "code",
   "execution_count": null,
   "metadata": {
    "collapsed": true
   },
   "outputs": [],
   "source": [
    "test_dt=np.dtype(\n",
    "    [('time','i2'),('flags','i2'),('rise','u2'),('minima','i2'),('low','u8'),('high','u8')]\n",
    ")\n",
    "test=data.view(test_dt)"
   ]
  },
  {
   "cell_type": "code",
   "execution_count": null,
   "metadata": {
    "collapsed": false
   },
   "outputs": [],
   "source": [
    "test"
   ]
  },
  {
   "cell_type": "code",
   "execution_count": null,
   "metadata": {
    "collapsed": false
   },
   "outputs": [],
   "source": [
    "test['minima']"
   ]
  },
  {
   "cell_type": "code",
   "execution_count": null,
   "metadata": {
    "collapsed": false
   },
   "outputs": [],
   "source": [
    "low1=np.int32(np.right_shift(np.bitwise_and(test['low'],0x03FFFF000000000),36))\n",
    "s=(np.bitwise_and(low1,0x00020000)!=0)*0xFFFC0000\n",
    "low2=np.int32(np.right_shift(np.bitwise_and(test['low'],0x000000FFFFC0000),18))\n",
    "low_threshold=np.int32(np.bitwise_and(test['low'],0x00000000003FFFF))\n",
    "high1=np.int32(np.right_shift(np.bitwise_and(test['high'],0x03FFFF000000000),36))\n",
    "high2=np.int32(np.right_shift(np.bitwise_and(test['high'],0x000000FFFFC0000),18))\n",
    "high_threshold=np.int32(np.bitwise_and(test['high'],0x00000000003FFFF))"
   ]
  },
  {
   "cell_type": "code",
   "execution_count": null,
   "metadata": {
    "collapsed": false
   },
   "outputs": [],
   "source": [
    "np.int32(np.bitwise_or(low1,s))/8.0"
   ]
  },
  {
   "cell_type": "code",
   "execution_count": null,
   "metadata": {
    "collapsed": false
   },
   "outputs": [],
   "source": [
    "'{:04X}'.format(low1[0])"
   ]
  },
  {
   "cell_type": "code",
   "execution_count": null,
   "metadata": {
    "collapsed": false
   },
   "outputs": [],
   "source": [
    "high1/8.0"
   ]
  },
  {
   "cell_type": "code",
   "execution_count": null,
   "metadata": {
    "collapsed": false
   },
   "outputs": [],
   "source": [
    "high2/8.0"
   ]
  },
  {
   "cell_type": "code",
   "execution_count": null,
   "metadata": {
    "collapsed": false
   },
   "outputs": [],
   "source": [
    "'{:04X}'.format(high_threshold[0])"
   ]
  },
  {
   "cell_type": "code",
   "execution_count": null,
   "metadata": {
    "collapsed": true
   },
   "outputs": [],
   "source": []
  }
 ],
 "metadata": {
  "anaconda-cloud": {},
  "kernelspec": {
   "display_name": "Python [default]",
   "language": "python",
   "name": "python3"
  },
  "language_info": {
   "codemirror_mode": {
    "name": "ipython",
    "version": 3
   },
   "file_extension": ".py",
   "mimetype": "text/x-python",
   "name": "python",
   "nbconvert_exporter": "python",
   "pygments_lexer": "ipython3",
   "version": "3.5.2"
  }
 },
 "nbformat": 4,
 "nbformat_minor": 1
}
