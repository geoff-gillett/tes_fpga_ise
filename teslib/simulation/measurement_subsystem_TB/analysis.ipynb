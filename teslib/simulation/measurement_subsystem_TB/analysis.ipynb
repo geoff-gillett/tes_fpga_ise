{
 "cells": [
  {
   "cell_type": "code",
   "execution_count": 12,
   "metadata": {
    "collapsed": false
   },
   "outputs": [],
   "source": [
    "from tes.data import Data,PacketStream,Packet\n",
    "import numpy as np\n",
    "import matplotlib.pyplot as plt"
   ]
  },
  {
   "cell_type": "code",
   "execution_count": 2,
   "metadata": {
    "collapsed": false
   },
   "outputs": [],
   "source": [
    "trace_dt=np.dtype([('raw','i4'),('filtered','i4'),('slope','i4'),('filteredL','i4')])"
   ]
  },
  {
   "cell_type": "code",
   "execution_count": 15,
   "metadata": {
    "collapsed": false
   },
   "outputs": [],
   "source": [
    "traces=np.fromfile('data/traces',trace_dt)"
   ]
  },
  {
   "cell_type": "code",
   "execution_count": 13,
   "metadata": {
    "collapsed": false
   },
   "outputs": [],
   "source": [
    "traces=Data.fromfile('traces',trace_dt,'teslib','measurement_subsystem_TB',tool='vivado')"
   ]
  },
  {
   "cell_type": "code",
   "execution_count": 16,
   "metadata": {
    "collapsed": false,
    "scrolled": false
   },
   "outputs": [
    {
     "data": {
      "application/javascript": [
       "/* Put everything inside the global mpl namespace */\n",
       "window.mpl = {};\n",
       "\n",
       "mpl.get_websocket_type = function() {\n",
       "    if (typeof(WebSocket) !== 'undefined') {\n",
       "        return WebSocket;\n",
       "    } else if (typeof(MozWebSocket) !== 'undefined') {\n",
       "        return MozWebSocket;\n",
       "    } else {\n",
       "        alert('Your browser does not have WebSocket support.' +\n",
       "              'Please try Chrome, Safari or Firefox ≥ 6. ' +\n",
       "              'Firefox 4 and 5 are also supported but you ' +\n",
       "              'have to enable WebSockets in about:config.');\n",
       "    };\n",
       "}\n",
       "\n",
       "mpl.figure = function(figure_id, websocket, ondownload, parent_element) {\n",
       "    this.id = figure_id;\n",
       "\n",
       "    this.ws = websocket;\n",
       "\n",
       "    this.supports_binary = (this.ws.binaryType != undefined);\n",
       "\n",
       "    if (!this.supports_binary) {\n",
       "        var warnings = document.getElementById(\"mpl-warnings\");\n",
       "        if (warnings) {\n",
       "            warnings.style.display = 'block';\n",
       "            warnings.textContent = (\n",
       "                \"This browser does not support binary websocket messages. \" +\n",
       "                    \"Performance may be slow.\");\n",
       "        }\n",
       "    }\n",
       "\n",
       "    this.imageObj = new Image();\n",
       "\n",
       "    this.context = undefined;\n",
       "    this.message = undefined;\n",
       "    this.canvas = undefined;\n",
       "    this.rubberband_canvas = undefined;\n",
       "    this.rubberband_context = undefined;\n",
       "    this.format_dropdown = undefined;\n",
       "\n",
       "    this.image_mode = 'full';\n",
       "\n",
       "    this.root = $('<div/>');\n",
       "    this._root_extra_style(this.root)\n",
       "    this.root.attr('style', 'display: inline-block');\n",
       "\n",
       "    $(parent_element).append(this.root);\n",
       "\n",
       "    this._init_header(this);\n",
       "    this._init_canvas(this);\n",
       "    this._init_toolbar(this);\n",
       "\n",
       "    var fig = this;\n",
       "\n",
       "    this.waiting = false;\n",
       "\n",
       "    this.ws.onopen =  function () {\n",
       "            fig.send_message(\"supports_binary\", {value: fig.supports_binary});\n",
       "            fig.send_message(\"send_image_mode\", {});\n",
       "            fig.send_message(\"refresh\", {});\n",
       "        }\n",
       "\n",
       "    this.imageObj.onload = function() {\n",
       "            if (fig.image_mode == 'full') {\n",
       "                // Full images could contain transparency (where diff images\n",
       "                // almost always do), so we need to clear the canvas so that\n",
       "                // there is no ghosting.\n",
       "                fig.context.clearRect(0, 0, fig.canvas.width, fig.canvas.height);\n",
       "            }\n",
       "            fig.context.drawImage(fig.imageObj, 0, 0);\n",
       "        };\n",
       "\n",
       "    this.imageObj.onunload = function() {\n",
       "        this.ws.close();\n",
       "    }\n",
       "\n",
       "    this.ws.onmessage = this._make_on_message_function(this);\n",
       "\n",
       "    this.ondownload = ondownload;\n",
       "}\n",
       "\n",
       "mpl.figure.prototype._init_header = function() {\n",
       "    var titlebar = $(\n",
       "        '<div class=\"ui-dialog-titlebar ui-widget-header ui-corner-all ' +\n",
       "        'ui-helper-clearfix\"/>');\n",
       "    var titletext = $(\n",
       "        '<div class=\"ui-dialog-title\" style=\"width: 100%; ' +\n",
       "        'text-align: center; padding: 3px;\"/>');\n",
       "    titlebar.append(titletext)\n",
       "    this.root.append(titlebar);\n",
       "    this.header = titletext[0];\n",
       "}\n",
       "\n",
       "\n",
       "\n",
       "mpl.figure.prototype._canvas_extra_style = function(canvas_div) {\n",
       "\n",
       "}\n",
       "\n",
       "\n",
       "mpl.figure.prototype._root_extra_style = function(canvas_div) {\n",
       "\n",
       "}\n",
       "\n",
       "mpl.figure.prototype._init_canvas = function() {\n",
       "    var fig = this;\n",
       "\n",
       "    var canvas_div = $('<div/>');\n",
       "\n",
       "    canvas_div.attr('style', 'position: relative; clear: both; outline: 0');\n",
       "\n",
       "    function canvas_keyboard_event(event) {\n",
       "        return fig.key_event(event, event['data']);\n",
       "    }\n",
       "\n",
       "    canvas_div.keydown('key_press', canvas_keyboard_event);\n",
       "    canvas_div.keyup('key_release', canvas_keyboard_event);\n",
       "    this.canvas_div = canvas_div\n",
       "    this._canvas_extra_style(canvas_div)\n",
       "    this.root.append(canvas_div);\n",
       "\n",
       "    var canvas = $('<canvas/>');\n",
       "    canvas.addClass('mpl-canvas');\n",
       "    canvas.attr('style', \"left: 0; top: 0; z-index: 0; outline: 0\")\n",
       "\n",
       "    this.canvas = canvas[0];\n",
       "    this.context = canvas[0].getContext(\"2d\");\n",
       "\n",
       "    var rubberband = $('<canvas/>');\n",
       "    rubberband.attr('style', \"position: absolute; left: 0; top: 0; z-index: 1;\")\n",
       "\n",
       "    var pass_mouse_events = true;\n",
       "\n",
       "    canvas_div.resizable({\n",
       "        start: function(event, ui) {\n",
       "            pass_mouse_events = false;\n",
       "        },\n",
       "        resize: function(event, ui) {\n",
       "            fig.request_resize(ui.size.width, ui.size.height);\n",
       "        },\n",
       "        stop: function(event, ui) {\n",
       "            pass_mouse_events = true;\n",
       "            fig.request_resize(ui.size.width, ui.size.height);\n",
       "        },\n",
       "    });\n",
       "\n",
       "    function mouse_event_fn(event) {\n",
       "        if (pass_mouse_events)\n",
       "            return fig.mouse_event(event, event['data']);\n",
       "    }\n",
       "\n",
       "    rubberband.mousedown('button_press', mouse_event_fn);\n",
       "    rubberband.mouseup('button_release', mouse_event_fn);\n",
       "    // Throttle sequential mouse events to 1 every 20ms.\n",
       "    rubberband.mousemove('motion_notify', mouse_event_fn);\n",
       "\n",
       "    rubberband.mouseenter('figure_enter', mouse_event_fn);\n",
       "    rubberband.mouseleave('figure_leave', mouse_event_fn);\n",
       "\n",
       "    canvas_div.on(\"wheel\", function (event) {\n",
       "        event = event.originalEvent;\n",
       "        event['data'] = 'scroll'\n",
       "        if (event.deltaY < 0) {\n",
       "            event.step = 1;\n",
       "        } else {\n",
       "            event.step = -1;\n",
       "        }\n",
       "        mouse_event_fn(event);\n",
       "    });\n",
       "\n",
       "    canvas_div.append(canvas);\n",
       "    canvas_div.append(rubberband);\n",
       "\n",
       "    this.rubberband = rubberband;\n",
       "    this.rubberband_canvas = rubberband[0];\n",
       "    this.rubberband_context = rubberband[0].getContext(\"2d\");\n",
       "    this.rubberband_context.strokeStyle = \"#000000\";\n",
       "\n",
       "    this._resize_canvas = function(width, height) {\n",
       "        // Keep the size of the canvas, canvas container, and rubber band\n",
       "        // canvas in synch.\n",
       "        canvas_div.css('width', width)\n",
       "        canvas_div.css('height', height)\n",
       "\n",
       "        canvas.attr('width', width);\n",
       "        canvas.attr('height', height);\n",
       "\n",
       "        rubberband.attr('width', width);\n",
       "        rubberband.attr('height', height);\n",
       "    }\n",
       "\n",
       "    // Set the figure to an initial 600x600px, this will subsequently be updated\n",
       "    // upon first draw.\n",
       "    this._resize_canvas(600, 600);\n",
       "\n",
       "    // Disable right mouse context menu.\n",
       "    $(this.rubberband_canvas).bind(\"contextmenu\",function(e){\n",
       "        return false;\n",
       "    });\n",
       "\n",
       "    function set_focus () {\n",
       "        canvas.focus();\n",
       "        canvas_div.focus();\n",
       "    }\n",
       "\n",
       "    window.setTimeout(set_focus, 100);\n",
       "}\n",
       "\n",
       "mpl.figure.prototype._init_toolbar = function() {\n",
       "    var fig = this;\n",
       "\n",
       "    var nav_element = $('<div/>')\n",
       "    nav_element.attr('style', 'width: 100%');\n",
       "    this.root.append(nav_element);\n",
       "\n",
       "    // Define a callback function for later on.\n",
       "    function toolbar_event(event) {\n",
       "        return fig.toolbar_button_onclick(event['data']);\n",
       "    }\n",
       "    function toolbar_mouse_event(event) {\n",
       "        return fig.toolbar_button_onmouseover(event['data']);\n",
       "    }\n",
       "\n",
       "    for(var toolbar_ind in mpl.toolbar_items) {\n",
       "        var name = mpl.toolbar_items[toolbar_ind][0];\n",
       "        var tooltip = mpl.toolbar_items[toolbar_ind][1];\n",
       "        var image = mpl.toolbar_items[toolbar_ind][2];\n",
       "        var method_name = mpl.toolbar_items[toolbar_ind][3];\n",
       "\n",
       "        if (!name) {\n",
       "            // put a spacer in here.\n",
       "            continue;\n",
       "        }\n",
       "        var button = $('<button/>');\n",
       "        button.addClass('ui-button ui-widget ui-state-default ui-corner-all ' +\n",
       "                        'ui-button-icon-only');\n",
       "        button.attr('role', 'button');\n",
       "        button.attr('aria-disabled', 'false');\n",
       "        button.click(method_name, toolbar_event);\n",
       "        button.mouseover(tooltip, toolbar_mouse_event);\n",
       "\n",
       "        var icon_img = $('<span/>');\n",
       "        icon_img.addClass('ui-button-icon-primary ui-icon');\n",
       "        icon_img.addClass(image);\n",
       "        icon_img.addClass('ui-corner-all');\n",
       "\n",
       "        var tooltip_span = $('<span/>');\n",
       "        tooltip_span.addClass('ui-button-text');\n",
       "        tooltip_span.html(tooltip);\n",
       "\n",
       "        button.append(icon_img);\n",
       "        button.append(tooltip_span);\n",
       "\n",
       "        nav_element.append(button);\n",
       "    }\n",
       "\n",
       "    var fmt_picker_span = $('<span/>');\n",
       "\n",
       "    var fmt_picker = $('<select/>');\n",
       "    fmt_picker.addClass('mpl-toolbar-option ui-widget ui-widget-content');\n",
       "    fmt_picker_span.append(fmt_picker);\n",
       "    nav_element.append(fmt_picker_span);\n",
       "    this.format_dropdown = fmt_picker[0];\n",
       "\n",
       "    for (var ind in mpl.extensions) {\n",
       "        var fmt = mpl.extensions[ind];\n",
       "        var option = $(\n",
       "            '<option/>', {selected: fmt === mpl.default_extension}).html(fmt);\n",
       "        fmt_picker.append(option)\n",
       "    }\n",
       "\n",
       "    // Add hover states to the ui-buttons\n",
       "    $( \".ui-button\" ).hover(\n",
       "        function() { $(this).addClass(\"ui-state-hover\");},\n",
       "        function() { $(this).removeClass(\"ui-state-hover\");}\n",
       "    );\n",
       "\n",
       "    var status_bar = $('<span class=\"mpl-message\"/>');\n",
       "    nav_element.append(status_bar);\n",
       "    this.message = status_bar[0];\n",
       "}\n",
       "\n",
       "mpl.figure.prototype.request_resize = function(x_pixels, y_pixels) {\n",
       "    // Request matplotlib to resize the figure. Matplotlib will then trigger a resize in the client,\n",
       "    // which will in turn request a refresh of the image.\n",
       "    this.send_message('resize', {'width': x_pixels, 'height': y_pixels});\n",
       "}\n",
       "\n",
       "mpl.figure.prototype.send_message = function(type, properties) {\n",
       "    properties['type'] = type;\n",
       "    properties['figure_id'] = this.id;\n",
       "    this.ws.send(JSON.stringify(properties));\n",
       "}\n",
       "\n",
       "mpl.figure.prototype.send_draw_message = function() {\n",
       "    if (!this.waiting) {\n",
       "        this.waiting = true;\n",
       "        this.ws.send(JSON.stringify({type: \"draw\", figure_id: this.id}));\n",
       "    }\n",
       "}\n",
       "\n",
       "\n",
       "mpl.figure.prototype.handle_save = function(fig, msg) {\n",
       "    var format_dropdown = fig.format_dropdown;\n",
       "    var format = format_dropdown.options[format_dropdown.selectedIndex].value;\n",
       "    fig.ondownload(fig, format);\n",
       "}\n",
       "\n",
       "\n",
       "mpl.figure.prototype.handle_resize = function(fig, msg) {\n",
       "    var size = msg['size'];\n",
       "    if (size[0] != fig.canvas.width || size[1] != fig.canvas.height) {\n",
       "        fig._resize_canvas(size[0], size[1]);\n",
       "        fig.send_message(\"refresh\", {});\n",
       "    };\n",
       "}\n",
       "\n",
       "mpl.figure.prototype.handle_rubberband = function(fig, msg) {\n",
       "    var x0 = msg['x0'];\n",
       "    var y0 = fig.canvas.height - msg['y0'];\n",
       "    var x1 = msg['x1'];\n",
       "    var y1 = fig.canvas.height - msg['y1'];\n",
       "    x0 = Math.floor(x0) + 0.5;\n",
       "    y0 = Math.floor(y0) + 0.5;\n",
       "    x1 = Math.floor(x1) + 0.5;\n",
       "    y1 = Math.floor(y1) + 0.5;\n",
       "    var min_x = Math.min(x0, x1);\n",
       "    var min_y = Math.min(y0, y1);\n",
       "    var width = Math.abs(x1 - x0);\n",
       "    var height = Math.abs(y1 - y0);\n",
       "\n",
       "    fig.rubberband_context.clearRect(\n",
       "        0, 0, fig.canvas.width, fig.canvas.height);\n",
       "\n",
       "    fig.rubberband_context.strokeRect(min_x, min_y, width, height);\n",
       "}\n",
       "\n",
       "mpl.figure.prototype.handle_figure_label = function(fig, msg) {\n",
       "    // Updates the figure title.\n",
       "    fig.header.textContent = msg['label'];\n",
       "}\n",
       "\n",
       "mpl.figure.prototype.handle_cursor = function(fig, msg) {\n",
       "    var cursor = msg['cursor'];\n",
       "    switch(cursor)\n",
       "    {\n",
       "    case 0:\n",
       "        cursor = 'pointer';\n",
       "        break;\n",
       "    case 1:\n",
       "        cursor = 'default';\n",
       "        break;\n",
       "    case 2:\n",
       "        cursor = 'crosshair';\n",
       "        break;\n",
       "    case 3:\n",
       "        cursor = 'move';\n",
       "        break;\n",
       "    }\n",
       "    fig.rubberband_canvas.style.cursor = cursor;\n",
       "}\n",
       "\n",
       "mpl.figure.prototype.handle_message = function(fig, msg) {\n",
       "    fig.message.textContent = msg['message'];\n",
       "}\n",
       "\n",
       "mpl.figure.prototype.handle_draw = function(fig, msg) {\n",
       "    // Request the server to send over a new figure.\n",
       "    fig.send_draw_message();\n",
       "}\n",
       "\n",
       "mpl.figure.prototype.handle_image_mode = function(fig, msg) {\n",
       "    fig.image_mode = msg['mode'];\n",
       "}\n",
       "\n",
       "mpl.figure.prototype.updated_canvas_event = function() {\n",
       "    // Called whenever the canvas gets updated.\n",
       "    this.send_message(\"ack\", {});\n",
       "}\n",
       "\n",
       "// A function to construct a web socket function for onmessage handling.\n",
       "// Called in the figure constructor.\n",
       "mpl.figure.prototype._make_on_message_function = function(fig) {\n",
       "    return function socket_on_message(evt) {\n",
       "        if (evt.data instanceof Blob) {\n",
       "            /* FIXME: We get \"Resource interpreted as Image but\n",
       "             * transferred with MIME type text/plain:\" errors on\n",
       "             * Chrome.  But how to set the MIME type?  It doesn't seem\n",
       "             * to be part of the websocket stream */\n",
       "            evt.data.type = \"image/png\";\n",
       "\n",
       "            /* Free the memory for the previous frames */\n",
       "            if (fig.imageObj.src) {\n",
       "                (window.URL || window.webkitURL).revokeObjectURL(\n",
       "                    fig.imageObj.src);\n",
       "            }\n",
       "\n",
       "            fig.imageObj.src = (window.URL || window.webkitURL).createObjectURL(\n",
       "                evt.data);\n",
       "            fig.updated_canvas_event();\n",
       "            fig.waiting = false;\n",
       "            return;\n",
       "        }\n",
       "        else if (typeof evt.data === 'string' && evt.data.slice(0, 21) == \"data:image/png;base64\") {\n",
       "            fig.imageObj.src = evt.data;\n",
       "            fig.updated_canvas_event();\n",
       "            fig.waiting = false;\n",
       "            return;\n",
       "        }\n",
       "\n",
       "        var msg = JSON.parse(evt.data);\n",
       "        var msg_type = msg['type'];\n",
       "\n",
       "        // Call the  \"handle_{type}\" callback, which takes\n",
       "        // the figure and JSON message as its only arguments.\n",
       "        try {\n",
       "            var callback = fig[\"handle_\" + msg_type];\n",
       "        } catch (e) {\n",
       "            console.log(\"No handler for the '\" + msg_type + \"' message type: \", msg);\n",
       "            return;\n",
       "        }\n",
       "\n",
       "        if (callback) {\n",
       "            try {\n",
       "                // console.log(\"Handling '\" + msg_type + \"' message: \", msg);\n",
       "                callback(fig, msg);\n",
       "            } catch (e) {\n",
       "                console.log(\"Exception inside the 'handler_\" + msg_type + \"' callback:\", e, e.stack, msg);\n",
       "            }\n",
       "        }\n",
       "    };\n",
       "}\n",
       "\n",
       "// from http://stackoverflow.com/questions/1114465/getting-mouse-location-in-canvas\n",
       "mpl.findpos = function(e) {\n",
       "    //this section is from http://www.quirksmode.org/js/events_properties.html\n",
       "    var targ;\n",
       "    if (!e)\n",
       "        e = window.event;\n",
       "    if (e.target)\n",
       "        targ = e.target;\n",
       "    else if (e.srcElement)\n",
       "        targ = e.srcElement;\n",
       "    if (targ.nodeType == 3) // defeat Safari bug\n",
       "        targ = targ.parentNode;\n",
       "\n",
       "    // jQuery normalizes the pageX and pageY\n",
       "    // pageX,Y are the mouse positions relative to the document\n",
       "    // offset() returns the position of the element relative to the document\n",
       "    var x = e.pageX - $(targ).offset().left;\n",
       "    var y = e.pageY - $(targ).offset().top;\n",
       "\n",
       "    return {\"x\": x, \"y\": y};\n",
       "};\n",
       "\n",
       "/*\n",
       " * return a copy of an object with only non-object keys\n",
       " * we need this to avoid circular references\n",
       " * http://stackoverflow.com/a/24161582/3208463\n",
       " */\n",
       "function simpleKeys (original) {\n",
       "  return Object.keys(original).reduce(function (obj, key) {\n",
       "    if (typeof original[key] !== 'object')\n",
       "        obj[key] = original[key]\n",
       "    return obj;\n",
       "  }, {});\n",
       "}\n",
       "\n",
       "mpl.figure.prototype.mouse_event = function(event, name) {\n",
       "    var canvas_pos = mpl.findpos(event)\n",
       "\n",
       "    if (name === 'button_press')\n",
       "    {\n",
       "        this.canvas.focus();\n",
       "        this.canvas_div.focus();\n",
       "    }\n",
       "\n",
       "    var x = canvas_pos.x;\n",
       "    var y = canvas_pos.y;\n",
       "\n",
       "    this.send_message(name, {x: x, y: y, button: event.button,\n",
       "                             step: event.step,\n",
       "                             guiEvent: simpleKeys(event)});\n",
       "\n",
       "    /* This prevents the web browser from automatically changing to\n",
       "     * the text insertion cursor when the button is pressed.  We want\n",
       "     * to control all of the cursor setting manually through the\n",
       "     * 'cursor' event from matplotlib */\n",
       "    event.preventDefault();\n",
       "    return false;\n",
       "}\n",
       "\n",
       "mpl.figure.prototype._key_event_extra = function(event, name) {\n",
       "    // Handle any extra behaviour associated with a key event\n",
       "}\n",
       "\n",
       "mpl.figure.prototype.key_event = function(event, name) {\n",
       "\n",
       "    // Prevent repeat events\n",
       "    if (name == 'key_press')\n",
       "    {\n",
       "        if (event.which === this._key)\n",
       "            return;\n",
       "        else\n",
       "            this._key = event.which;\n",
       "    }\n",
       "    if (name == 'key_release')\n",
       "        this._key = null;\n",
       "\n",
       "    var value = '';\n",
       "    if (event.ctrlKey && event.which != 17)\n",
       "        value += \"ctrl+\";\n",
       "    if (event.altKey && event.which != 18)\n",
       "        value += \"alt+\";\n",
       "    if (event.shiftKey && event.which != 16)\n",
       "        value += \"shift+\";\n",
       "\n",
       "    value += 'k';\n",
       "    value += event.which.toString();\n",
       "\n",
       "    this._key_event_extra(event, name);\n",
       "\n",
       "    this.send_message(name, {key: value,\n",
       "                             guiEvent: simpleKeys(event)});\n",
       "    return false;\n",
       "}\n",
       "\n",
       "mpl.figure.prototype.toolbar_button_onclick = function(name) {\n",
       "    if (name == 'download') {\n",
       "        this.handle_save(this, null);\n",
       "    } else {\n",
       "        this.send_message(\"toolbar_button\", {name: name});\n",
       "    }\n",
       "};\n",
       "\n",
       "mpl.figure.prototype.toolbar_button_onmouseover = function(tooltip) {\n",
       "    this.message.textContent = tooltip;\n",
       "};\n",
       "mpl.toolbar_items = [[\"Home\", \"Reset original view\", \"fa fa-home icon-home\", \"home\"], [\"Back\", \"Back to  previous view\", \"fa fa-arrow-left icon-arrow-left\", \"back\"], [\"Forward\", \"Forward to next view\", \"fa fa-arrow-right icon-arrow-right\", \"forward\"], [\"\", \"\", \"\", \"\"], [\"Pan\", \"Pan axes with left mouse, zoom with right\", \"fa fa-arrows icon-move\", \"pan\"], [\"Zoom\", \"Zoom to rectangle\", \"fa fa-square-o icon-check-empty\", \"zoom\"], [\"\", \"\", \"\", \"\"], [\"Download\", \"Download plot\", \"fa fa-floppy-o icon-save\", \"download\"]];\n",
       "\n",
       "mpl.extensions = [\"eps\", \"jpeg\", \"pdf\", \"png\", \"ps\", \"raw\", \"svg\", \"tif\"];\n",
       "\n",
       "mpl.default_extension = \"png\";var comm_websocket_adapter = function(comm) {\n",
       "    // Create a \"websocket\"-like object which calls the given IPython comm\n",
       "    // object with the appropriate methods. Currently this is a non binary\n",
       "    // socket, so there is still some room for performance tuning.\n",
       "    var ws = {};\n",
       "\n",
       "    ws.close = function() {\n",
       "        comm.close()\n",
       "    };\n",
       "    ws.send = function(m) {\n",
       "        //console.log('sending', m);\n",
       "        comm.send(m);\n",
       "    };\n",
       "    // Register the callback with on_msg.\n",
       "    comm.on_msg(function(msg) {\n",
       "        //console.log('receiving', msg['content']['data'], msg);\n",
       "        // Pass the mpl event to the overriden (by mpl) onmessage function.\n",
       "        ws.onmessage(msg['content']['data'])\n",
       "    });\n",
       "    return ws;\n",
       "}\n",
       "\n",
       "mpl.mpl_figure_comm = function(comm, msg) {\n",
       "    // This is the function which gets called when the mpl process\n",
       "    // starts-up an IPython Comm through the \"matplotlib\" channel.\n",
       "\n",
       "    var id = msg.content.data.id;\n",
       "    // Get hold of the div created by the display call when the Comm\n",
       "    // socket was opened in Python.\n",
       "    var element = $(\"#\" + id);\n",
       "    var ws_proxy = comm_websocket_adapter(comm)\n",
       "\n",
       "    function ondownload(figure, format) {\n",
       "        window.open(figure.imageObj.src);\n",
       "    }\n",
       "\n",
       "    var fig = new mpl.figure(id, ws_proxy,\n",
       "                           ondownload,\n",
       "                           element.get(0));\n",
       "\n",
       "    // Call onopen now - mpl needs it, as it is assuming we've passed it a real\n",
       "    // web socket which is closed, not our websocket->open comm proxy.\n",
       "    ws_proxy.onopen();\n",
       "\n",
       "    fig.parent_element = element.get(0);\n",
       "    fig.cell_info = mpl.find_output_cell(\"<div id='\" + id + \"'></div>\");\n",
       "    if (!fig.cell_info) {\n",
       "        console.error(\"Failed to find cell for figure\", id, fig);\n",
       "        return;\n",
       "    }\n",
       "\n",
       "    var output_index = fig.cell_info[2]\n",
       "    var cell = fig.cell_info[0];\n",
       "\n",
       "};\n",
       "\n",
       "mpl.figure.prototype.handle_close = function(fig, msg) {\n",
       "    fig.root.unbind('remove')\n",
       "\n",
       "    // Update the output cell to use the data from the current canvas.\n",
       "    fig.push_to_output();\n",
       "    var dataURL = fig.canvas.toDataURL();\n",
       "    // Re-enable the keyboard manager in IPython - without this line, in FF,\n",
       "    // the notebook keyboard shortcuts fail.\n",
       "    IPython.keyboard_manager.enable()\n",
       "    $(fig.parent_element).html('<img src=\"' + dataURL + '\">');\n",
       "    fig.close_ws(fig, msg);\n",
       "}\n",
       "\n",
       "mpl.figure.prototype.close_ws = function(fig, msg){\n",
       "    fig.send_message('closing', msg);\n",
       "    // fig.ws.close()\n",
       "}\n",
       "\n",
       "mpl.figure.prototype.push_to_output = function(remove_interactive) {\n",
       "    // Turn the data on the canvas into data in the output cell.\n",
       "    var dataURL = this.canvas.toDataURL();\n",
       "    this.cell_info[1]['text/html'] = '<img src=\"' + dataURL + '\">';\n",
       "}\n",
       "\n",
       "mpl.figure.prototype.updated_canvas_event = function() {\n",
       "    // Tell IPython that the notebook contents must change.\n",
       "    IPython.notebook.set_dirty(true);\n",
       "    this.send_message(\"ack\", {});\n",
       "    var fig = this;\n",
       "    // Wait a second, then push the new image to the DOM so\n",
       "    // that it is saved nicely (might be nice to debounce this).\n",
       "    setTimeout(function () { fig.push_to_output() }, 1000);\n",
       "}\n",
       "\n",
       "mpl.figure.prototype._init_toolbar = function() {\n",
       "    var fig = this;\n",
       "\n",
       "    var nav_element = $('<div/>')\n",
       "    nav_element.attr('style', 'width: 100%');\n",
       "    this.root.append(nav_element);\n",
       "\n",
       "    // Define a callback function for later on.\n",
       "    function toolbar_event(event) {\n",
       "        return fig.toolbar_button_onclick(event['data']);\n",
       "    }\n",
       "    function toolbar_mouse_event(event) {\n",
       "        return fig.toolbar_button_onmouseover(event['data']);\n",
       "    }\n",
       "\n",
       "    for(var toolbar_ind in mpl.toolbar_items){\n",
       "        var name = mpl.toolbar_items[toolbar_ind][0];\n",
       "        var tooltip = mpl.toolbar_items[toolbar_ind][1];\n",
       "        var image = mpl.toolbar_items[toolbar_ind][2];\n",
       "        var method_name = mpl.toolbar_items[toolbar_ind][3];\n",
       "\n",
       "        if (!name) { continue; };\n",
       "\n",
       "        var button = $('<button class=\"btn btn-default\" href=\"#\" title=\"' + name + '\"><i class=\"fa ' + image + ' fa-lg\"></i></button>');\n",
       "        button.click(method_name, toolbar_event);\n",
       "        button.mouseover(tooltip, toolbar_mouse_event);\n",
       "        nav_element.append(button);\n",
       "    }\n",
       "\n",
       "    // Add the status bar.\n",
       "    var status_bar = $('<span class=\"mpl-message\" style=\"text-align:right; float: right;\"/>');\n",
       "    nav_element.append(status_bar);\n",
       "    this.message = status_bar[0];\n",
       "\n",
       "    // Add the close button to the window.\n",
       "    var buttongrp = $('<div class=\"btn-group inline pull-right\"></div>');\n",
       "    var button = $('<button class=\"btn btn-mini btn-primary\" href=\"#\" title=\"Stop Interaction\"><i class=\"fa fa-power-off icon-remove icon-large\"></i></button>');\n",
       "    button.click(function (evt) { fig.handle_close(fig, {}); } );\n",
       "    button.mouseover('Stop Interaction', toolbar_mouse_event);\n",
       "    buttongrp.append(button);\n",
       "    var titlebar = this.root.find($('.ui-dialog-titlebar'));\n",
       "    titlebar.prepend(buttongrp);\n",
       "}\n",
       "\n",
       "mpl.figure.prototype._root_extra_style = function(el){\n",
       "    var fig = this\n",
       "    el.on(\"remove\", function(){\n",
       "\tfig.close_ws(fig, {});\n",
       "    });\n",
       "}\n",
       "\n",
       "mpl.figure.prototype._canvas_extra_style = function(el){\n",
       "    // this is important to make the div 'focusable\n",
       "    el.attr('tabindex', 0)\n",
       "    // reach out to IPython and tell the keyboard manager to turn it's self\n",
       "    // off when our div gets focus\n",
       "\n",
       "    // location in version 3\n",
       "    if (IPython.notebook.keyboard_manager) {\n",
       "        IPython.notebook.keyboard_manager.register_events(el);\n",
       "    }\n",
       "    else {\n",
       "        // location in version 2\n",
       "        IPython.keyboard_manager.register_events(el);\n",
       "    }\n",
       "\n",
       "}\n",
       "\n",
       "mpl.figure.prototype._key_event_extra = function(event, name) {\n",
       "    var manager = IPython.notebook.keyboard_manager;\n",
       "    if (!manager)\n",
       "        manager = IPython.keyboard_manager;\n",
       "\n",
       "    // Check for shift+enter\n",
       "    if (event.shiftKey && event.which == 13) {\n",
       "        this.canvas_div.blur();\n",
       "        // select the cell after this one\n",
       "        var index = IPython.notebook.find_cell_index(this.cell_info[0]);\n",
       "        IPython.notebook.select(index + 1);\n",
       "    }\n",
       "}\n",
       "\n",
       "mpl.figure.prototype.handle_save = function(fig, msg) {\n",
       "    fig.ondownload(fig, null);\n",
       "}\n",
       "\n",
       "\n",
       "mpl.find_output_cell = function(html_output) {\n",
       "    // Return the cell and output element which can be found *uniquely* in the notebook.\n",
       "    // Note - this is a bit hacky, but it is done because the \"notebook_saving.Notebook\"\n",
       "    // IPython event is triggered only after the cells have been serialised, which for\n",
       "    // our purposes (turning an active figure into a static one), is too late.\n",
       "    var cells = IPython.notebook.get_cells();\n",
       "    var ncells = cells.length;\n",
       "    for (var i=0; i<ncells; i++) {\n",
       "        var cell = cells[i];\n",
       "        if (cell.cell_type === 'code'){\n",
       "            for (var j=0; j<cell.output_area.outputs.length; j++) {\n",
       "                var data = cell.output_area.outputs[j];\n",
       "                if (data.data) {\n",
       "                    // IPython >= 3 moved mimebundle to data attribute of output\n",
       "                    data = data.data;\n",
       "                }\n",
       "                if (data['text/html'] == html_output) {\n",
       "                    return [cell, data, j];\n",
       "                }\n",
       "            }\n",
       "        }\n",
       "    }\n",
       "}\n",
       "\n",
       "// Register the function which deals with the matplotlib target/channel.\n",
       "// The kernel may be null if the page has been refreshed.\n",
       "if (IPython.notebook.kernel != null) {\n",
       "    IPython.notebook.kernel.comm_manager.register_target('matplotlib', mpl.mpl_figure_comm);\n",
       "}\n"
      ],
      "text/plain": [
       "<IPython.core.display.Javascript object>"
      ]
     },
     "metadata": {},
     "output_type": "display_data"
    },
    {
     "data": {
      "text/html": [
       "<img src=\"data:image/png;base64,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\">"
      ],
      "text/plain": [
       "<IPython.core.display.HTML object>"
      ]
     },
     "metadata": {},
     "output_type": "display_data"
    },
    {
     "name": "stdout",
     "output_type": "stream",
     "text": [
      "1000250\n"
     ]
    }
   ],
   "source": [
    "%matplotlib notebook\n",
    "start=467000\n",
    "width=300\n",
    "plt.plot(traces['filteredL'])\n",
    "print(len(traces))"
   ]
  },
  {
   "cell_type": "code",
   "execution_count": null,
   "metadata": {
    "collapsed": false
   },
   "outputs": [],
   "source": [
    "filtered=traces['filtered'][1100:]\n",
    "filteredL=traces['filteredL'][1100:]"
   ]
  },
  {
   "cell_type": "code",
   "execution_count": null,
   "metadata": {
    "collapsed": false
   },
   "outputs": [],
   "source": [
    "filtered[:10]"
   ]
  },
  {
   "cell_type": "code",
   "execution_count": null,
   "metadata": {
    "collapsed": false
   },
   "outputs": [],
   "source": [
    "filteredL[:10]/4"
   ]
  },
  {
   "cell_type": "code",
   "execution_count": null,
   "metadata": {
    "collapsed": false
   },
   "outputs": [],
   "source": [
    "minmax_dt=np.dtype([('filtered','i4'),('low','i4'),('high','i4'),('clk','i4')])\n",
    "minmax=Data.fromfile('minmax',minmax_dt,'teslib','measurement_subsystem_TB',tool='vivado')\n",
    "fxing_dt=np.dtype([('extrema','i4'),('area','i4'),('clk','i4')])\n",
    "fxing=Data.fromfile('filteredxing',fxing_dt,'teslib','measurement_subsystem_TB',tool='vivado')"
   ]
  },
  {
   "cell_type": "code",
   "execution_count": null,
   "metadata": {
    "collapsed": false
   },
   "outputs": [],
   "source": [
    "minmax"
   ]
  },
  {
   "cell_type": "code",
   "execution_count": null,
   "metadata": {
    "collapsed": false
   },
   "outputs": [],
   "source": [
    "fxing"
   ]
  },
  {
   "cell_type": "code",
   "execution_count": null,
   "metadata": {
    "collapsed": false
   },
   "outputs": [],
   "source": [
    "np.where(fxing['area']==0)"
   ]
  },
  {
   "cell_type": "code",
   "execution_count": null,
   "metadata": {
    "collapsed": false
   },
   "outputs": [],
   "source": [
    "np.where(fxing['extrema']==0)"
   ]
  },
  {
   "cell_type": "code",
   "execution_count": null,
   "metadata": {
    "collapsed": false
   },
   "outputs": [],
   "source": [
    "fxing[30]"
   ]
  },
  {
   "cell_type": "code",
   "execution_count": null,
   "metadata": {
    "collapsed": false
   },
   "outputs": [],
   "source": [
    "exn=np.where(fxing['extrema']<0)\n",
    "clkn=np.where(fxing['clk']>0)"
   ]
  },
  {
   "cell_type": "code",
   "execution_count": null,
   "metadata": {
    "collapsed": true
   },
   "outputs": [],
   "source": []
  },
  {
   "cell_type": "code",
   "execution_count": null,
   "metadata": {
    "collapsed": false
   },
   "outputs": [],
   "source": [
    "fxing[374]"
   ]
  },
  {
   "cell_type": "code",
   "execution_count": null,
   "metadata": {
    "collapsed": false
   },
   "outputs": [],
   "source": [
    "clkn"
   ]
  },
  {
   "cell_type": "code",
   "execution_count": null,
   "metadata": {
    "collapsed": false
   },
   "outputs": [],
   "source": [
    "np.where(minmax[maxs[0]-1]['min']!=1)"
   ]
  },
  {
   "cell_type": "code",
   "execution_count": null,
   "metadata": {
    "collapsed": false
   },
   "outputs": [],
   "source": [
    "minmax[maxs[0]-1][65]"
   ]
  },
  {
   "cell_type": "code",
   "execution_count": null,
   "metadata": {
    "collapsed": false
   },
   "outputs": [],
   "source": [
    "2290-925"
   ]
  },
  {
   "cell_type": "code",
   "execution_count": null,
   "metadata": {
    "collapsed": false
   },
   "outputs": [],
   "source": [
    "0.375*4"
   ]
  },
  {
   "cell_type": "code",
   "execution_count": null,
   "metadata": {
    "collapsed": false
   },
   "outputs": [],
   "source": [
    "np.where(minmax['clock']==2290)"
   ]
  },
  {
   "cell_type": "code",
   "execution_count": null,
   "metadata": {
    "collapsed": false
   },
   "outputs": [],
   "source": [
    "minmax[120:140]"
   ]
  },
  {
   "cell_type": "code",
   "execution_count": null,
   "metadata": {
    "collapsed": false
   },
   "outputs": [],
   "source": [
    "stream_dt=np.dtype([('data','>i4'),('last','i4')])\n",
    "#stream=np.fromfile('data/stream',stream_dt)"
   ]
  },
  {
   "cell_type": "markdown",
   "metadata": {},
   "source": [
    "### bytestream stuff"
   ]
  },
  {
   "cell_type": "code",
   "execution_count": null,
   "metadata": {
    "collapsed": false
   },
   "outputs": [],
   "source": [
    "stream_dt=np.dtype([('data','i4'),('last','i4')])\n",
    "stream=Data.fromfile('bytestream',stream_dt,'teslib','measurement_subsystem_TB',tool='vivado')\n",
    "lasts=np.where(stream['last']<=0)[0]+1\n",
    "#data=np.copy(stream['data'])"
   ]
  },
  {
   "cell_type": "code",
   "execution_count": null,
   "metadata": {
    "collapsed": false
   },
   "outputs": [],
   "source": [
    "stream"
   ]
  },
  {
   "cell_type": "code",
   "execution_count": null,
   "metadata": {
    "collapsed": true
   },
   "outputs": [],
   "source": []
  },
  {
   "cell_type": "code",
   "execution_count": null,
   "metadata": {
    "collapsed": true
   },
   "outputs": [],
   "source": [
    "stream=np.fromfile('data/bytestream',stream_dt)"
   ]
  },
  {
   "cell_type": "code",
   "execution_count": null,
   "metadata": {
    "collapsed": false
   },
   "outputs": [],
   "source": [
    "bs=PacketStream(stream)"
   ]
  },
  {
   "cell_type": "code",
   "execution_count": null,
   "metadata": {
    "collapsed": false
   },
   "outputs": [],
   "source": [
    "bs.packets"
   ]
  },
  {
   "cell_type": "code",
   "execution_count": null,
   "metadata": {
    "collapsed": false
   },
   "outputs": [],
   "source": [
    "bs.packets[2]"
   ]
  },
  {
   "cell_type": "code",
   "execution_count": null,
   "metadata": {
    "collapsed": true
   },
   "outputs": [],
   "source": [
    "eheader_dt=[('etype','<u2'),('length','u2'),()]"
   ]
  },
  {
   "cell_type": "code",
   "execution_count": null,
   "metadata": {
    "collapsed": false
   },
   "outputs": [],
   "source": [
    "pulse_header_dt = np.dtype([\n",
    "        ('size', 'i2'), ('resv', 'i2'), ('flags', 'i2'), ('time', 'u2'),\n",
    "        ('area', 'i4'), ('length', 'i2'), ('offset', 'i2')\n",
    "])"
   ]
  },
  {
   "cell_type": "code",
   "execution_count": null,
   "metadata": {
    "collapsed": false
   },
   "outputs": [],
   "source": [
    "\n",
    "pulse_header_dt +    [('peaks', 'u2')]"
   ]
  },
  {
   "cell_type": "code",
   "execution_count": null,
   "metadata": {
    "collapsed": false
   },
   "outputs": [],
   "source": [
    "'{:X}'.format(bs.packets[0].bytes[28:30].view(np.uint16)[0])"
   ]
  },
  {
   "cell_type": "code",
   "execution_count": null,
   "metadata": {
    "collapsed": true
   },
   "outputs": [],
   "source": [
    "pulse_peak_dt=np.dtype([('height','i2'),('rise','i2'),('minima','u2'),('time','i2')])\n",
    "pulse_dt=np.dtype([('size','i2'),('resv','i2'),('flags','i2'),('time','u2'),\n",
    "                  ('area','i4'),('length','i2'),('offset','i2'),('peaks',(pulse_peak_dt,2))])"
   ]
  },
  {
   "cell_type": "code",
   "execution_count": null,
   "metadata": {
    "collapsed": true
   },
   "outputs": [],
   "source": [
    "pulse_peak_fmt = [\n",
    "    ('height', 'i2'), ('rise', 'i2'), ('minima', 'u2'), ('time', 'u2')\n",
    "]\n",
    "\n",
    "pulse_header_fmt = [\n",
    "    ('size', 'i2'), ('resv', 'i2'), ('flags', 'u2'), ('time', 'u2'),\n",
    "    ('area', 'i4'), ('length', 'i2'), ('offset', 'u2')\n",
    "]"
   ]
  },
  {
   "cell_type": "code",
   "execution_count": null,
   "metadata": {
    "collapsed": false
   },
   "outputs": [],
   "source": [
    "df = pulse_header_fmt + [('peaks', (np.dtype(pulse_peak_fmt),2))]"
   ]
  },
  {
   "cell_type": "code",
   "execution_count": null,
   "metadata": {
    "collapsed": false
   },
   "outputs": [],
   "source": [
    "df"
   ]
  },
  {
   "cell_type": "code",
   "execution_count": null,
   "metadata": {
    "collapsed": false
   },
   "outputs": [],
   "source": [
    "np.dtype(df)"
   ]
  },
  {
   "cell_type": "code",
   "execution_count": null,
   "metadata": {
    "collapsed": false
   },
   "outputs": [],
   "source": [
    "pulses=bs.packets[2].payload.view(pulse_dt)"
   ]
  },
  {
   "cell_type": "code",
   "execution_count": null,
   "metadata": {
    "collapsed": true
   },
   "outputs": [],
   "source": []
  },
  {
   "cell_type": "code",
   "execution_count": null,
   "metadata": {
    "collapsed": false
   },
   "outputs": [],
   "source": [
    "pulses['peaks']"
   ]
  },
  {
   "cell_type": "code",
   "execution_count": null,
   "metadata": {
    "collapsed": false
   },
   "outputs": [],
   "source": [
    "pulses['offset']"
   ]
  },
  {
   "cell_type": "code",
   "execution_count": null,
   "metadata": {
    "collapsed": false
   },
   "outputs": [],
   "source": [
    "pulses['length']"
   ]
  },
  {
   "cell_type": "code",
   "execution_count": null,
   "metadata": {
    "collapsed": false
   },
   "outputs": [],
   "source": [
    "class eflags:\n",
    "    def __init__(self,uint16):\n",
    "        self.new_window=np.bitwise_and(uint16,0x00000001)!=0\n",
    "        self.tick=np.bitwise_and(uint16,0x00000002)!=0\n",
    "        self.type=np.right_shift(np.bitwise_and(uint16,0x0000000c),2)\n",
    "        \n",
    "    def __repr__(self):\n",
    "        return 'New window:{:}\\n'.format(self.new_window) + \\\n",
    "               'Tick:{:}\\n'.format(self.tick) + \\\n",
    "               'Type:{:}\\n'.format(self.type) "
   ]
  },
  {
   "cell_type": "code",
   "execution_count": null,
   "metadata": {
    "collapsed": false
   },
   "outputs": [],
   "source": [
    "f=eflags(pulses[0]['flags'])\n",
    "f"
   ]
  },
  {
   "cell_type": "code",
   "execution_count": null,
   "metadata": {
    "collapsed": false
   },
   "outputs": [],
   "source": [
    "'{:X}'.format(bs.packets[3].bytes[13:14].view(np.uint16))"
   ]
  },
  {
   "cell_type": "code",
   "execution_count": null,
   "metadata": {
    "collapsed": true
   },
   "outputs": [],
   "source": []
  },
  {
   "cell_type": "code",
   "execution_count": null,
   "metadata": {
    "collapsed": false
   },
   "outputs": [],
   "source": [
    "'{:X}'.format(bs.packets[3].bytes[14:16].view(np.uint16)[0])"
   ]
  },
  {
   "cell_type": "code",
   "execution_count": null,
   "metadata": {
    "collapsed": false
   },
   "outputs": [],
   "source": [
    "bs.packets[3].bytes[14:16].view(np.uint16)[0]"
   ]
  },
  {
   "cell_type": "code",
   "execution_count": null,
   "metadata": {
    "collapsed": false
   },
   "outputs": [],
   "source": [
    "bs=np.uint8(stream['data'][:48])"
   ]
  },
  {
   "cell_type": "code",
   "execution_count": null,
   "metadata": {
    "collapsed": false
   },
   "outputs": [],
   "source": [
    "bs"
   ]
  },
  {
   "cell_type": "code",
   "execution_count": null,
   "metadata": {
    "collapsed": false
   },
   "outputs": [],
   "source": [
    "events=stream['data'].view(event_dt)"
   ]
  },
  {
   "cell_type": "code",
   "execution_count": null,
   "metadata": {
    "collapsed": false
   },
   "outputs": [],
   "source": [
    "'{:X}'.format(events['flags'][0])"
   ]
  },
  {
   "cell_type": "code",
   "execution_count": null,
   "metadata": {
    "collapsed": false
   },
   "outputs": [],
   "source": [
    "events['rise']"
   ]
  },
  {
   "cell_type": "code",
   "execution_count": null,
   "metadata": {
    "collapsed": false
   },
   "outputs": [],
   "source": [
    "events"
   ]
  },
  {
   "cell_type": "code",
   "execution_count": null,
   "metadata": {
    "collapsed": false
   },
   "outputs": [],
   "source": [
    "'{:04X}'.format(events['flags'][1])"
   ]
  },
  {
   "cell_type": "code",
   "execution_count": null,
   "metadata": {
    "collapsed": true
   },
   "outputs": [],
   "source": [
    "pulse_peak_dt=np.dtype([('time','>i2'),('minima','>i2'),('rise','>u2'),('height','>i2')])\n",
    "pulse_dt=np.dtype([('time','>i2'),('flags','>i2'),('resv','>i2'),('size','>u2'),\n",
    "                  ('offset','>i2'),('length','>i2'),('area','>i4'),('peaks',(pulse_peak_dt,1))])\n",
    "data=np.copy(stream['data'])"
   ]
  },
  {
   "cell_type": "code",
   "execution_count": null,
   "metadata": {
    "collapsed": false
   },
   "outputs": [],
   "source": [
    "pulses=data.view(pulse_dt)"
   ]
  },
  {
   "cell_type": "code",
   "execution_count": null,
   "metadata": {
    "collapsed": false
   },
   "outputs": [],
   "source": [
    "pulses['peaks']['height']-pulses['peaks']['minima']"
   ]
  },
  {
   "cell_type": "code",
   "execution_count": null,
   "metadata": {
    "collapsed": false
   },
   "outputs": [],
   "source": [
    "pulses['peaks']['minima']"
   ]
  },
  {
   "cell_type": "code",
   "execution_count": null,
   "metadata": {
    "collapsed": false
   },
   "outputs": [],
   "source": [
    "peak_count=np.right_shift(np.bitwise_and(pulses['flags'],0xF000),12)\n",
    "peak_overflow=np.bitwise_and(pulses['flags'],0x0800)!=0\n",
    "channel=np.right_shift(np.bitwise_and(pulses['flags'],0x0700),8)\n",
    "timing_type=np.right_shift(np.bitwise_and(pulses['flags'],0x00C0),6)\n",
    "height_type=np.right_shift(np.bitwise_and(pulses['flags'],0x0030),4)\n",
    "event_type=np.right_shift(np.bitwise_and(pulses['flags'],0x000E),1)\n",
    "new_window=np.bitwise_and(pulses['flags'],0x0001)!=0"
   ]
  },
  {
   "cell_type": "code",
   "execution_count": null,
   "metadata": {
    "collapsed": false
   },
   "outputs": [],
   "source": [
    "peak_overflow"
   ]
  },
  {
   "cell_type": "code",
   "execution_count": null,
   "metadata": {
    "collapsed": true
   },
   "outputs": [],
   "source": [
    "test_dt=np.dtype(\n",
    "    [('time','i2'),('flags','i2'),('rise','u2'),('minima','i2'),('low','u8'),('high','u8')]\n",
    ")\n",
    "test=data.view(test_dt)"
   ]
  },
  {
   "cell_type": "code",
   "execution_count": null,
   "metadata": {
    "collapsed": false
   },
   "outputs": [],
   "source": [
    "test"
   ]
  },
  {
   "cell_type": "code",
   "execution_count": null,
   "metadata": {
    "collapsed": false
   },
   "outputs": [],
   "source": [
    "test['minima']"
   ]
  },
  {
   "cell_type": "code",
   "execution_count": null,
   "metadata": {
    "collapsed": false
   },
   "outputs": [],
   "source": [
    "low1=np.int32(np.right_shift(np.bitwise_and(test['low'],0x03FFFF000000000),36))\n",
    "s=(np.bitwise_and(low1,0x00020000)!=0)*0xFFFC0000\n",
    "low2=np.int32(np.right_shift(np.bitwise_and(test['low'],0x000000FFFFC0000),18))\n",
    "low_threshold=np.int32(np.bitwise_and(test['low'],0x00000000003FFFF))\n",
    "high1=np.int32(np.right_shift(np.bitwise_and(test['high'],0x03FFFF000000000),36))\n",
    "high2=np.int32(np.right_shift(np.bitwise_and(test['high'],0x000000FFFFC0000),18))\n",
    "high_threshold=np.int32(np.bitwise_and(test['high'],0x00000000003FFFF))"
   ]
  },
  {
   "cell_type": "code",
   "execution_count": null,
   "metadata": {
    "collapsed": false
   },
   "outputs": [],
   "source": [
    "np.int32(np.bitwise_or(low1,s))/8.0"
   ]
  },
  {
   "cell_type": "code",
   "execution_count": null,
   "metadata": {
    "collapsed": false
   },
   "outputs": [],
   "source": [
    "'{:04X}'.format(low1[0])"
   ]
  },
  {
   "cell_type": "code",
   "execution_count": null,
   "metadata": {
    "collapsed": false
   },
   "outputs": [],
   "source": [
    "high1/8.0"
   ]
  },
  {
   "cell_type": "code",
   "execution_count": null,
   "metadata": {
    "collapsed": false
   },
   "outputs": [],
   "source": [
    "high2/8.0"
   ]
  },
  {
   "cell_type": "code",
   "execution_count": null,
   "metadata": {
    "collapsed": false
   },
   "outputs": [],
   "source": [
    "'{:04X}'.format(high_threshold[0])"
   ]
  },
  {
   "cell_type": "code",
   "execution_count": null,
   "metadata": {
    "collapsed": true
   },
   "outputs": [],
   "source": []
  }
 ],
 "metadata": {
  "anaconda-cloud": {},
  "kernelspec": {
   "display_name": "Python [default]",
   "language": "python",
   "name": "python3"
  },
  "language_info": {
   "codemirror_mode": {
    "name": "ipython",
    "version": 3
   },
   "file_extension": ".py",
   "mimetype": "text/x-python",
   "name": "python",
   "nbconvert_exporter": "python",
   "pygments_lexer": "ipython3",
   "version": "3.5.2"
  }
 },
 "nbformat": 4,
 "nbformat_minor": 1
}
