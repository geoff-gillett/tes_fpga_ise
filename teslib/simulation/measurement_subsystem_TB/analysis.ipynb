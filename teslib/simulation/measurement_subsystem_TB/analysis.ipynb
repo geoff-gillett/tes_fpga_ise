{
 "cells": [
  {
   "cell_type": "code",
   "execution_count": 12,
   "metadata": {
    "collapsed": false
   },
   "outputs": [],
   "source": [
    "from tes.data import Data,PacketStream,Packet\n",
    "import numpy as np\n",
    "import matplotlib.pyplot as plt"
   ]
  },
  {
   "cell_type": "code",
   "execution_count": null,
   "metadata": {
    "collapsed": false
   },
   "outputs": [],
   "source": [
    "trace_dt=np.dtype([('raw','i4'),('filtered','i4'),('slope','i4'),('filteredL','i4')])"
   ]
  },
  {
   "cell_type": "code",
   "execution_count": null,
   "metadata": {
    "collapsed": true
   },
   "outputs": [],
   "source": [
    "traces=np.fromfile('data/traces',trace_dt)"
   ]
  },
  {
   "cell_type": "code",
   "execution_count": null,
   "metadata": {
    "collapsed": true
   },
   "outputs": [],
   "source": [
    "traces=Data.fromfile('traces',trace_dt,'teslib','measurement_subsystem_TB',tool='vivado')"
   ]
  },
  {
   "cell_type": "code",
   "execution_count": null,
   "metadata": {
    "collapsed": false
   },
   "outputs": [],
   "source": [
    "%matplotlib notebook\n",
    "plt.plot(traces['filtered'][1100:])"
   ]
  },
  {
   "cell_type": "code",
   "execution_count": null,
   "metadata": {
    "collapsed": false
   },
   "outputs": [],
   "source": [
    "filtered=traces['filtered'][1100:]\n",
    "filteredL=traces['filteredL'][1100:]"
   ]
  },
  {
   "cell_type": "code",
   "execution_count": null,
   "metadata": {
    "collapsed": false
   },
   "outputs": [],
   "source": [
    "filtered[:10]"
   ]
  },
  {
   "cell_type": "code",
   "execution_count": null,
   "metadata": {
    "collapsed": false
   },
   "outputs": [],
   "source": [
    "filteredL[:10]/4"
   ]
  },
  {
   "cell_type": "code",
   "execution_count": null,
   "metadata": {
    "collapsed": false
   },
   "outputs": [],
   "source": [
    "minmax_dt=np.dtype([('filtered','i4'),('low','i4'),('high','i4'),('clk','i4')])\n",
    "minmax=Data.fromfile('minmax',minmax_dt,'teslib','measurement_subsystem_TB',tool='vivado')\n",
    "fxing_dt=np.dtype([('extrema','i4'),('area','i4'),('clk','i4')])\n",
    "fxing=Data.fromfile('filteredxing',fxing_dt,'teslib','measurement_subsystem_TB',tool='vivado')"
   ]
  },
  {
   "cell_type": "code",
   "execution_count": null,
   "metadata": {
    "collapsed": false
   },
   "outputs": [],
   "source": [
    "minmax"
   ]
  },
  {
   "cell_type": "code",
   "execution_count": null,
   "metadata": {
    "collapsed": false
   },
   "outputs": [],
   "source": [
    "fxing"
   ]
  },
  {
   "cell_type": "code",
   "execution_count": null,
   "metadata": {
    "collapsed": false
   },
   "outputs": [],
   "source": [
    "np.where(fxing['area']==0)"
   ]
  },
  {
   "cell_type": "code",
   "execution_count": null,
   "metadata": {
    "collapsed": false
   },
   "outputs": [],
   "source": [
    "np.where(fxing['extrema']==0)"
   ]
  },
  {
   "cell_type": "code",
   "execution_count": null,
   "metadata": {
    "collapsed": false
   },
   "outputs": [],
   "source": [
    "fxing[30]"
   ]
  },
  {
   "cell_type": "code",
   "execution_count": null,
   "metadata": {
    "collapsed": false
   },
   "outputs": [],
   "source": [
    "exn=np.where(fxing['extrema']<0)\n",
    "clkn=np.where(fxing['clk']>0)"
   ]
  },
  {
   "cell_type": "code",
   "execution_count": null,
   "metadata": {
    "collapsed": true
   },
   "outputs": [],
   "source": []
  },
  {
   "cell_type": "code",
   "execution_count": null,
   "metadata": {
    "collapsed": false
   },
   "outputs": [],
   "source": [
    "fxing[374]"
   ]
  },
  {
   "cell_type": "code",
   "execution_count": null,
   "metadata": {
    "collapsed": false
   },
   "outputs": [],
   "source": [
    "clkn"
   ]
  },
  {
   "cell_type": "code",
   "execution_count": null,
   "metadata": {
    "collapsed": false
   },
   "outputs": [],
   "source": [
    "np.where(minmax[maxs[0]-1]['min']!=1)"
   ]
  },
  {
   "cell_type": "code",
   "execution_count": null,
   "metadata": {
    "collapsed": false
   },
   "outputs": [],
   "source": [
    "minmax[maxs[0]-1][65]"
   ]
  },
  {
   "cell_type": "code",
   "execution_count": null,
   "metadata": {
    "collapsed": false
   },
   "outputs": [],
   "source": [
    "2290-925"
   ]
  },
  {
   "cell_type": "code",
   "execution_count": null,
   "metadata": {
    "collapsed": false
   },
   "outputs": [],
   "source": [
    "0.375*4"
   ]
  },
  {
   "cell_type": "code",
   "execution_count": null,
   "metadata": {
    "collapsed": false
   },
   "outputs": [],
   "source": [
    "np.where(minmax['clock']==2290)"
   ]
  },
  {
   "cell_type": "code",
   "execution_count": null,
   "metadata": {
    "collapsed": false
   },
   "outputs": [],
   "source": [
    "minmax[120:140]"
   ]
  },
  {
   "cell_type": "code",
   "execution_count": null,
   "metadata": {
    "collapsed": false
   },
   "outputs": [],
   "source": [
    "stream_dt=np.dtype([('data','>i4'),('last','i4')])\n",
    "#stream=np.fromfile('data/stream',stream_dt)"
   ]
  },
  {
   "cell_type": "markdown",
   "metadata": {},
   "source": [
    "### bytestream stuff"
   ]
  },
  {
   "cell_type": "code",
   "execution_count": 13,
   "metadata": {
    "collapsed": false
   },
   "outputs": [],
   "source": [
    "stream_dt=np.dtype([('data','i4'),('last','i4')])\n",
    "stream=Data.fromfile('bytestream',stream_dt,'teslib','measurement_subsystem_TB',tool='vivado')\n",
    "lasts=np.where(stream['last']<=0)[0]+1\n",
    "#data=np.copy(stream['data'])"
   ]
  },
  {
   "cell_type": "code",
   "execution_count": 6,
   "metadata": {
    "collapsed": false
   },
   "outputs": [
    {
     "data": {
      "text/plain": [
       "array([(90, 69), (1, 71), (2, 73), (3, 75), (4, 77), (5, 79), (218, 81),\n",
       "       (1, 83), (2, 85), (3, 87), (4, 89), (5, 91), (136, 93), (181, 95),\n",
       "       (48, 97), (0, 99), (0, 101), (0, 103), (0, 105), (0, 107), (3, 109),\n",
       "       (0, 111), (0, 113), (2, 115), (0, 117), (0, 119), (1, 121),\n",
       "       (0, 123), (130, 125), (0, 127), (2, 129), (0, 131), (2, 133),\n",
       "       (0, 135), (0, 137), (0, 139), (0, 141), (0, 143), (0, 145),\n",
       "       (0, 147), (0, 149), (0, 151), (0, 153), (0, 155), (0, 157),\n",
       "       (0, 159), (0, 161), (0, -163), (90, 65605), (1, 65607), (2, 65609),\n",
       "       (3, 65611), (4, 65613), (5, 65615), (218, 65617), (1, 65619),\n",
       "       (2, 65621), (3, 65623), (4, 65625), (5, 65627), (136, 65629),\n",
       "       (181, 65631), (48, 65633), (0, 65635), (1, 65637), (0, 65639),\n",
       "       (1, 65641), (0, 65643), (3, 65645), (0, 65647), (0, 65649),\n",
       "       (2, 65651), (0, 65653), (0, 65655), (1, 65657), (0, 65659),\n",
       "       (130, 65661), (0, 65663), (255, 65665), (255, 65667), (2, 65669),\n",
       "       (0, 65671), (1, 65673), (0, 65675), (0, 65677), (0, 65679),\n",
       "       (0, 65681), (0, 65683), (0, 65685), (0, 65687), (0, 65689),\n",
       "       (0, 65691), (0, 65693), (0, 65695), (0, 65697), (0, -65699),\n",
       "       (90, 70475), (1, 70477), (2, 70479), (3, 70481), (4, 70483),\n",
       "       (5, 70485), (218, 70487), (1, 70489), (2, 70491), (3, 70493),\n",
       "       (4, 70495), (5, 70497), (136, 70499), (181, 70501), (32, 70503),\n",
       "       (0, 70505), (2, 70507), (0, 70509), (2, 70511), (0, 70513),\n",
       "       (1, 70515), (0, 70517), (0, 70519), (0, 70521), (49, 70523),\n",
       "       (7, 70525), (79, 70527), (0, 70529), (144, 70531), (0, 70533),\n",
       "       (109, 70535), (16, -70537), (90, 70539), (1, 70541), (2, 70543),\n",
       "       (3, 70545), (4, 70547), (5, 70549), (218, 70551), (1, 70553),\n",
       "       (2, 70555), (3, 70557), (4, 70559), (5, 70561), (136, 70563),\n",
       "       (181, 70565), (56, 70567), (0, 70569), (3, 70571), (0, 70573),\n",
       "       (3, 70575), (0, 70577), (4, 70579), (0, 70581), (0, 70583),\n",
       "       (8, 70585), (4, 70587), (0, 70589), (0, 70591), (0, 70593),\n",
       "       (24, 70595), (41, 70597), (25, 70599), (0, 70601), (38, 70603),\n",
       "       (183, 70605), (15, 70607), (0, 70609), (136, 70611), (2, 70613),\n",
       "       (30, 70615), (0, 70617), (49, 70619), (7, 70621), (79, 70623),\n",
       "       (0, 70625), (50, 70627), (0, 70629), (6, 70631), (0, 70633),\n",
       "       (149, 70635), (10, 70637), (85, 70639), (0, 70641), (162, 70643),\n",
       "       (4, 70645), (247, 70647), (0, -70649)], \n",
       "      dtype=[('data', '<i4'), ('last', '<i4')])"
      ]
     },
     "execution_count": 6,
     "metadata": {},
     "output_type": "execute_result"
    }
   ],
   "source": [
    "stream"
   ]
  },
  {
   "cell_type": "code",
   "execution_count": 19,
   "metadata": {
    "collapsed": true
   },
   "outputs": [],
   "source": [
    "stream=np.fromfile('data/bytestream',stream_dt)"
   ]
  },
  {
   "cell_type": "code",
   "execution_count": 14,
   "metadata": {
    "collapsed": false
   },
   "outputs": [],
   "source": [
    "bs=PacketStream(stream)"
   ]
  },
  {
   "cell_type": "code",
   "execution_count": null,
   "metadata": {
    "collapsed": false
   },
   "outputs": [],
   "source": [
    "384/4"
   ]
  },
  {
   "cell_type": "code",
   "execution_count": 15,
   "metadata": {
    "collapsed": false
   },
   "outputs": [
    {
     "data": {
      "text/plain": [
       "[ethertype:88B5 length:48 Payload:peak frame:0 protocol:0,\n",
       " ethertype:88B5 length:48 Payload:peak frame:1 protocol:1,\n",
       " ethertype:88B5 length:32 Payload:peak frame:2 protocol:2,\n",
       " ethertype:88B5 length:56 Payload:pulse frame:3 protocol:3,\n",
       " ethertype:88B5 length:32 Payload:peak frame:4 protocol:4,\n",
       " ethertype:88B6 length:1496 Payload:mca frame:5 protocol:0,\n",
       " ethertype:88B5 length:48 Payload:peak frame:6 protocol:5,\n",
       " ethertype:88B6 length:1496 Payload:mca frame:7 protocol:1,\n",
       " ethertype:88B6 length:1496 Payload:mca frame:8 protocol:2,\n",
       " ethertype:88B6 length:1496 Payload:mca frame:9 protocol:3,\n",
       " ethertype:88B6 length:1496 Payload:mca frame:10 protocol:4,\n",
       " ethertype:88B6 length:1496 Payload:mca frame:11 protocol:5]"
      ]
     },
     "execution_count": 15,
     "metadata": {},
     "output_type": "execute_result"
    }
   ],
   "source": [
    "bs.packets"
   ]
  },
  {
   "cell_type": "code",
   "execution_count": 12,
   "metadata": {
    "collapsed": false
   },
   "outputs": [
    {
     "data": {
      "text/plain": [
       "ethertype:88B5 length:32 Payload:pulse frame:4 protocol:4"
      ]
     },
     "execution_count": 12,
     "metadata": {},
     "output_type": "execute_result"
    }
   ],
   "source": [
    "bs.packets[4]"
   ]
  },
  {
   "cell_type": "code",
   "execution_count": 13,
   "metadata": {
    "collapsed": true
   },
   "outputs": [],
   "source": [
    "eheader_dt=[('etype','<u2'),('length','u2'),()]"
   ]
  },
  {
   "cell_type": "code",
   "execution_count": 23,
   "metadata": {
    "collapsed": false
   },
   "outputs": [
    {
     "data": {
      "text/plain": [
       "'2'"
      ]
     },
     "execution_count": 23,
     "metadata": {},
     "output_type": "execute_result"
    }
   ],
   "source": [
    "'{:X}'.format(bs.packets[1].bytes[23])\n"
   ]
  },
  {
   "cell_type": "code",
   "execution_count": 29,
   "metadata": {
    "collapsed": false
   },
   "outputs": [
    {
     "data": {
      "text/plain": [
       "'300'"
      ]
     },
     "execution_count": 29,
     "metadata": {},
     "output_type": "execute_result"
    }
   ],
   "source": [
    "'{:X}'.format(bs.packets[0].bytes[28:30].view(np.uint16)[0])"
   ]
  },
  {
   "cell_type": "code",
   "execution_count": 5,
   "metadata": {
    "collapsed": true
   },
   "outputs": [],
   "source": [
    "pulse_peak_dt=np.dtype([('height','i2'),('rise','i2'),('minima','u2'),('time','i2')])\n",
    "pulse_dt=np.dtype([('size','i2'),('resv','i2'),('flags','i2'),('time','u2'),\n",
    "                  ('area','i4'),('length','i2'),('offset','i2'),('peaks',(pulse_peak_dt,2))])"
   ]
  },
  {
   "cell_type": "code",
   "execution_count": 6,
   "metadata": {
    "collapsed": false
   },
   "outputs": [],
   "source": [
    "pulses=bs.packets[3].payload.view(pulse_dt)"
   ]
  },
  {
   "cell_type": "code",
   "execution_count": 7,
   "metadata": {
    "collapsed": false
   },
   "outputs": [
    {
     "data": {
      "text/plain": [
       "array([[(1841, 79, 50, 6), (2709, 85, 1186, 247)]], \n",
       "      dtype=[('height', '<i2'), ('rise', '<i2'), ('minima', '<u2'), ('time', '<i2')])"
      ]
     },
     "execution_count": 7,
     "metadata": {},
     "output_type": "execute_result"
    }
   ],
   "source": [
    "pulses['peaks']"
   ]
  },
  {
   "cell_type": "code",
   "execution_count": 8,
   "metadata": {
    "collapsed": false
   },
   "outputs": [
    {
     "data": {
      "text/plain": [
       "array([30], dtype=int16)"
      ]
     },
     "execution_count": 8,
     "metadata": {},
     "output_type": "execute_result"
    }
   ],
   "source": [
    "pulses['offset']"
   ]
  },
  {
   "cell_type": "code",
   "execution_count": 9,
   "metadata": {
    "collapsed": false
   },
   "outputs": [
    {
     "data": {
      "text/plain": [
       "array([25], dtype=uint16)"
      ]
     },
     "execution_count": 9,
     "metadata": {},
     "output_type": "execute_result"
    }
   ],
   "source": [
    "pulses['time']"
   ]
  },
  {
   "cell_type": "code",
   "execution_count": 10,
   "metadata": {
    "collapsed": false
   },
   "outputs": [],
   "source": [
    "class eflags:\n",
    "    def __init__(self,uint16):\n",
    "        self.new_window=np.bitwise_and(uint16,0x00000001)!=0\n",
    "        self.tick=np.bitwise_and(uint16,0x00000002)!=0\n",
    "        self.type=np.right_shift(np.bitwise_and(uint16,0x0000000c),2)\n",
    "        \n",
    "    def __repr__(self):\n",
    "        return 'New window:{:}\\n'.format(self.new_window) + \\\n",
    "               'Tick:{:}\\n'.format(self.tick) + \\\n",
    "               'Type:{:}\\n'.format(self.type) "
   ]
  },
  {
   "cell_type": "code",
   "execution_count": 11,
   "metadata": {
    "collapsed": false
   },
   "outputs": [
    {
     "data": {
      "text/plain": [
       "New window:False\n",
       "Tick:False\n",
       "Type:2"
      ]
     },
     "execution_count": 11,
     "metadata": {},
     "output_type": "execute_result"
    }
   ],
   "source": [
    "f=eflags(pulses[0]['flags'])\n",
    "f"
   ]
  },
  {
   "cell_type": "code",
   "execution_count": null,
   "metadata": {
    "collapsed": false
   },
   "outputs": [],
   "source": [
    "'{:X}'.format(bs.packets[3].bytes[13:14].view(np.uint16))"
   ]
  },
  {
   "cell_type": "code",
   "execution_count": null,
   "metadata": {
    "collapsed": true
   },
   "outputs": [],
   "source": []
  },
  {
   "cell_type": "code",
   "execution_count": null,
   "metadata": {
    "collapsed": false
   },
   "outputs": [],
   "source": [
    "'{:X}'.format(bs.packets[3].bytes[14:16].view(np.uint16)[0])"
   ]
  },
  {
   "cell_type": "code",
   "execution_count": null,
   "metadata": {
    "collapsed": false
   },
   "outputs": [],
   "source": [
    "bs.packets[3].bytes[14:16].view(np.uint16)[0]"
   ]
  },
  {
   "cell_type": "code",
   "execution_count": null,
   "metadata": {
    "collapsed": false
   },
   "outputs": [],
   "source": [
    "bs=np.uint8(stream['data'][:48])"
   ]
  },
  {
   "cell_type": "code",
   "execution_count": null,
   "metadata": {
    "collapsed": false
   },
   "outputs": [],
   "source": [
    "bs"
   ]
  },
  {
   "cell_type": "code",
   "execution_count": null,
   "metadata": {
    "collapsed": false
   },
   "outputs": [],
   "source": [
    "events=stream['data'].view(event_dt)"
   ]
  },
  {
   "cell_type": "code",
   "execution_count": null,
   "metadata": {
    "collapsed": false
   },
   "outputs": [],
   "source": [
    "'{:X}'.format(events['flags'][0])"
   ]
  },
  {
   "cell_type": "code",
   "execution_count": null,
   "metadata": {
    "collapsed": false
   },
   "outputs": [],
   "source": [
    "events['rise']"
   ]
  },
  {
   "cell_type": "code",
   "execution_count": null,
   "metadata": {
    "collapsed": false
   },
   "outputs": [],
   "source": [
    "events"
   ]
  },
  {
   "cell_type": "code",
   "execution_count": null,
   "metadata": {
    "collapsed": false
   },
   "outputs": [],
   "source": [
    "'{:04X}'.format(events['flags'][1])"
   ]
  },
  {
   "cell_type": "code",
   "execution_count": null,
   "metadata": {
    "collapsed": true
   },
   "outputs": [],
   "source": [
    "pulse_peak_dt=np.dtype([('time','>i2'),('minima','>i2'),('rise','>u2'),('height','>i2')])\n",
    "pulse_dt=np.dtype([('time','>i2'),('flags','>i2'),('resv','>i2'),('size','>u2'),\n",
    "                  ('offset','>i2'),('length','>i2'),('area','>i4'),('peaks',(pulse_peak_dt,1))])\n",
    "data=np.copy(stream['data'])"
   ]
  },
  {
   "cell_type": "code",
   "execution_count": null,
   "metadata": {
    "collapsed": false
   },
   "outputs": [],
   "source": [
    "pulses=data.view(pulse_dt)"
   ]
  },
  {
   "cell_type": "code",
   "execution_count": null,
   "metadata": {
    "collapsed": false
   },
   "outputs": [],
   "source": [
    "pulses['peaks']['height']-pulses['peaks']['minima']"
   ]
  },
  {
   "cell_type": "code",
   "execution_count": null,
   "metadata": {
    "collapsed": false
   },
   "outputs": [],
   "source": [
    "pulses['peaks']['minima']"
   ]
  },
  {
   "cell_type": "code",
   "execution_count": null,
   "metadata": {
    "collapsed": false
   },
   "outputs": [],
   "source": [
    "peak_count=np.right_shift(np.bitwise_and(pulses['flags'],0xF000),12)\n",
    "peak_overflow=np.bitwise_and(pulses['flags'],0x0800)!=0\n",
    "channel=np.right_shift(np.bitwise_and(pulses['flags'],0x0700),8)\n",
    "timing_type=np.right_shift(np.bitwise_and(pulses['flags'],0x00C0),6)\n",
    "height_type=np.right_shift(np.bitwise_and(pulses['flags'],0x0030),4)\n",
    "event_type=np.right_shift(np.bitwise_and(pulses['flags'],0x000E),1)\n",
    "new_window=np.bitwise_and(pulses['flags'],0x0001)!=0"
   ]
  },
  {
   "cell_type": "code",
   "execution_count": null,
   "metadata": {
    "collapsed": false
   },
   "outputs": [],
   "source": [
    "peak_overflow"
   ]
  },
  {
   "cell_type": "code",
   "execution_count": null,
   "metadata": {
    "collapsed": true
   },
   "outputs": [],
   "source": [
    "test_dt=np.dtype(\n",
    "    [('time','i2'),('flags','i2'),('rise','u2'),('minima','i2'),('low','u8'),('high','u8')]\n",
    ")\n",
    "test=data.view(test_dt)"
   ]
  },
  {
   "cell_type": "code",
   "execution_count": null,
   "metadata": {
    "collapsed": false
   },
   "outputs": [],
   "source": [
    "test"
   ]
  },
  {
   "cell_type": "code",
   "execution_count": null,
   "metadata": {
    "collapsed": false
   },
   "outputs": [],
   "source": [
    "test['minima']"
   ]
  },
  {
   "cell_type": "code",
   "execution_count": null,
   "metadata": {
    "collapsed": false
   },
   "outputs": [],
   "source": [
    "low1=np.int32(np.right_shift(np.bitwise_and(test['low'],0x03FFFF000000000),36))\n",
    "s=(np.bitwise_and(low1,0x00020000)!=0)*0xFFFC0000\n",
    "low2=np.int32(np.right_shift(np.bitwise_and(test['low'],0x000000FFFFC0000),18))\n",
    "low_threshold=np.int32(np.bitwise_and(test['low'],0x00000000003FFFF))\n",
    "high1=np.int32(np.right_shift(np.bitwise_and(test['high'],0x03FFFF000000000),36))\n",
    "high2=np.int32(np.right_shift(np.bitwise_and(test['high'],0x000000FFFFC0000),18))\n",
    "high_threshold=np.int32(np.bitwise_and(test['high'],0x00000000003FFFF))"
   ]
  },
  {
   "cell_type": "code",
   "execution_count": null,
   "metadata": {
    "collapsed": false
   },
   "outputs": [],
   "source": [
    "np.int32(np.bitwise_or(low1,s))/8.0"
   ]
  },
  {
   "cell_type": "code",
   "execution_count": null,
   "metadata": {
    "collapsed": false
   },
   "outputs": [],
   "source": [
    "'{:04X}'.format(low1[0])"
   ]
  },
  {
   "cell_type": "code",
   "execution_count": null,
   "metadata": {
    "collapsed": false
   },
   "outputs": [],
   "source": [
    "high1/8.0"
   ]
  },
  {
   "cell_type": "code",
   "execution_count": null,
   "metadata": {
    "collapsed": false
   },
   "outputs": [],
   "source": [
    "high2/8.0"
   ]
  },
  {
   "cell_type": "code",
   "execution_count": null,
   "metadata": {
    "collapsed": false
   },
   "outputs": [],
   "source": [
    "'{:04X}'.format(high_threshold[0])"
   ]
  },
  {
   "cell_type": "code",
   "execution_count": null,
   "metadata": {
    "collapsed": true
   },
   "outputs": [],
   "source": []
  }
 ],
 "metadata": {
  "anaconda-cloud": {},
  "kernelspec": {
   "display_name": "Python [default]",
   "language": "python",
   "name": "python3"
  },
  "language_info": {
   "codemirror_mode": {
    "name": "ipython",
    "version": 3
   },
   "file_extension": ".py",
   "mimetype": "text/x-python",
   "name": "python",
   "nbconvert_exporter": "python",
   "pygments_lexer": "ipython3",
   "version": "3.5.2"
  }
 },
 "nbformat": 4,
 "nbformat_minor": 1
}
