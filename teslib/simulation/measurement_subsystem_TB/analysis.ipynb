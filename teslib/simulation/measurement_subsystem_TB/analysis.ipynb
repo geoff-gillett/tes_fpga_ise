{
 "cells": [
  {
   "cell_type": "code",
   "execution_count": 1,
   "metadata": {
    "collapsed": false
   },
   "outputs": [],
   "source": [
    "from tes.data import Data,PacketStream,Packet\n",
    "import numpy as np\n",
    "import matplotlib.pyplot as plt"
   ]
  },
  {
   "cell_type": "code",
   "execution_count": 2,
   "metadata": {
    "collapsed": false
   },
   "outputs": [],
   "source": [
    "trace_dt=np.dtype([('raw','i4'),('filtered','i4'),('slope','i4'),('filteredL','i4')])"
   ]
  },
  {
   "cell_type": "code",
   "execution_count": 3,
   "metadata": {
    "collapsed": true
   },
   "outputs": [],
   "source": [
    "traces=np.fromfile('data/traces',trace_dt)"
   ]
  },
  {
   "cell_type": "code",
   "execution_count": 3,
   "metadata": {
    "collapsed": true
   },
   "outputs": [],
   "source": [
    "traces=Data.fromfile('traces',trace_dt,'teslib','measurement_subsystem_TB',tool='vivado')"
   ]
  },
  {
   "cell_type": "code",
   "execution_count": 4,
   "metadata": {
    "collapsed": false
   },
   "outputs": [
    {
     "data": {
      "application/javascript": [
       "/* Put everything inside the global mpl namespace */\n",
       "window.mpl = {};\n",
       "\n",
       "mpl.get_websocket_type = function() {\n",
       "    if (typeof(WebSocket) !== 'undefined') {\n",
       "        return WebSocket;\n",
       "    } else if (typeof(MozWebSocket) !== 'undefined') {\n",
       "        return MozWebSocket;\n",
       "    } else {\n",
       "        alert('Your browser does not have WebSocket support.' +\n",
       "              'Please try Chrome, Safari or Firefox ≥ 6. ' +\n",
       "              'Firefox 4 and 5 are also supported but you ' +\n",
       "              'have to enable WebSockets in about:config.');\n",
       "    };\n",
       "}\n",
       "\n",
       "mpl.figure = function(figure_id, websocket, ondownload, parent_element) {\n",
       "    this.id = figure_id;\n",
       "\n",
       "    this.ws = websocket;\n",
       "\n",
       "    this.supports_binary = (this.ws.binaryType != undefined);\n",
       "\n",
       "    if (!this.supports_binary) {\n",
       "        var warnings = document.getElementById(\"mpl-warnings\");\n",
       "        if (warnings) {\n",
       "            warnings.style.display = 'block';\n",
       "            warnings.textContent = (\n",
       "                \"This browser does not support binary websocket messages. \" +\n",
       "                    \"Performance may be slow.\");\n",
       "        }\n",
       "    }\n",
       "\n",
       "    this.imageObj = new Image();\n",
       "\n",
       "    this.context = undefined;\n",
       "    this.message = undefined;\n",
       "    this.canvas = undefined;\n",
       "    this.rubberband_canvas = undefined;\n",
       "    this.rubberband_context = undefined;\n",
       "    this.format_dropdown = undefined;\n",
       "\n",
       "    this.image_mode = 'full';\n",
       "\n",
       "    this.root = $('<div/>');\n",
       "    this._root_extra_style(this.root)\n",
       "    this.root.attr('style', 'display: inline-block');\n",
       "\n",
       "    $(parent_element).append(this.root);\n",
       "\n",
       "    this._init_header(this);\n",
       "    this._init_canvas(this);\n",
       "    this._init_toolbar(this);\n",
       "\n",
       "    var fig = this;\n",
       "\n",
       "    this.waiting = false;\n",
       "\n",
       "    this.ws.onopen =  function () {\n",
       "            fig.send_message(\"supports_binary\", {value: fig.supports_binary});\n",
       "            fig.send_message(\"send_image_mode\", {});\n",
       "            fig.send_message(\"refresh\", {});\n",
       "        }\n",
       "\n",
       "    this.imageObj.onload = function() {\n",
       "            if (fig.image_mode == 'full') {\n",
       "                // Full images could contain transparency (where diff images\n",
       "                // almost always do), so we need to clear the canvas so that\n",
       "                // there is no ghosting.\n",
       "                fig.context.clearRect(0, 0, fig.canvas.width, fig.canvas.height);\n",
       "            }\n",
       "            fig.context.drawImage(fig.imageObj, 0, 0);\n",
       "        };\n",
       "\n",
       "    this.imageObj.onunload = function() {\n",
       "        this.ws.close();\n",
       "    }\n",
       "\n",
       "    this.ws.onmessage = this._make_on_message_function(this);\n",
       "\n",
       "    this.ondownload = ondownload;\n",
       "}\n",
       "\n",
       "mpl.figure.prototype._init_header = function() {\n",
       "    var titlebar = $(\n",
       "        '<div class=\"ui-dialog-titlebar ui-widget-header ui-corner-all ' +\n",
       "        'ui-helper-clearfix\"/>');\n",
       "    var titletext = $(\n",
       "        '<div class=\"ui-dialog-title\" style=\"width: 100%; ' +\n",
       "        'text-align: center; padding: 3px;\"/>');\n",
       "    titlebar.append(titletext)\n",
       "    this.root.append(titlebar);\n",
       "    this.header = titletext[0];\n",
       "}\n",
       "\n",
       "\n",
       "\n",
       "mpl.figure.prototype._canvas_extra_style = function(canvas_div) {\n",
       "\n",
       "}\n",
       "\n",
       "\n",
       "mpl.figure.prototype._root_extra_style = function(canvas_div) {\n",
       "\n",
       "}\n",
       "\n",
       "mpl.figure.prototype._init_canvas = function() {\n",
       "    var fig = this;\n",
       "\n",
       "    var canvas_div = $('<div/>');\n",
       "\n",
       "    canvas_div.attr('style', 'position: relative; clear: both; outline: 0');\n",
       "\n",
       "    function canvas_keyboard_event(event) {\n",
       "        return fig.key_event(event, event['data']);\n",
       "    }\n",
       "\n",
       "    canvas_div.keydown('key_press', canvas_keyboard_event);\n",
       "    canvas_div.keyup('key_release', canvas_keyboard_event);\n",
       "    this.canvas_div = canvas_div\n",
       "    this._canvas_extra_style(canvas_div)\n",
       "    this.root.append(canvas_div);\n",
       "\n",
       "    var canvas = $('<canvas/>');\n",
       "    canvas.addClass('mpl-canvas');\n",
       "    canvas.attr('style', \"left: 0; top: 0; z-index: 0; outline: 0\")\n",
       "\n",
       "    this.canvas = canvas[0];\n",
       "    this.context = canvas[0].getContext(\"2d\");\n",
       "\n",
       "    var rubberband = $('<canvas/>');\n",
       "    rubberband.attr('style', \"position: absolute; left: 0; top: 0; z-index: 1;\")\n",
       "\n",
       "    var pass_mouse_events = true;\n",
       "\n",
       "    canvas_div.resizable({\n",
       "        start: function(event, ui) {\n",
       "            pass_mouse_events = false;\n",
       "        },\n",
       "        resize: function(event, ui) {\n",
       "            fig.request_resize(ui.size.width, ui.size.height);\n",
       "        },\n",
       "        stop: function(event, ui) {\n",
       "            pass_mouse_events = true;\n",
       "            fig.request_resize(ui.size.width, ui.size.height);\n",
       "        },\n",
       "    });\n",
       "\n",
       "    function mouse_event_fn(event) {\n",
       "        if (pass_mouse_events)\n",
       "            return fig.mouse_event(event, event['data']);\n",
       "    }\n",
       "\n",
       "    rubberband.mousedown('button_press', mouse_event_fn);\n",
       "    rubberband.mouseup('button_release', mouse_event_fn);\n",
       "    // Throttle sequential mouse events to 1 every 20ms.\n",
       "    rubberband.mousemove('motion_notify', mouse_event_fn);\n",
       "\n",
       "    rubberband.mouseenter('figure_enter', mouse_event_fn);\n",
       "    rubberband.mouseleave('figure_leave', mouse_event_fn);\n",
       "\n",
       "    canvas_div.on(\"wheel\", function (event) {\n",
       "        event = event.originalEvent;\n",
       "        event['data'] = 'scroll'\n",
       "        if (event.deltaY < 0) {\n",
       "            event.step = 1;\n",
       "        } else {\n",
       "            event.step = -1;\n",
       "        }\n",
       "        mouse_event_fn(event);\n",
       "    });\n",
       "\n",
       "    canvas_div.append(canvas);\n",
       "    canvas_div.append(rubberband);\n",
       "\n",
       "    this.rubberband = rubberband;\n",
       "    this.rubberband_canvas = rubberband[0];\n",
       "    this.rubberband_context = rubberband[0].getContext(\"2d\");\n",
       "    this.rubberband_context.strokeStyle = \"#000000\";\n",
       "\n",
       "    this._resize_canvas = function(width, height) {\n",
       "        // Keep the size of the canvas, canvas container, and rubber band\n",
       "        // canvas in synch.\n",
       "        canvas_div.css('width', width)\n",
       "        canvas_div.css('height', height)\n",
       "\n",
       "        canvas.attr('width', width);\n",
       "        canvas.attr('height', height);\n",
       "\n",
       "        rubberband.attr('width', width);\n",
       "        rubberband.attr('height', height);\n",
       "    }\n",
       "\n",
       "    // Set the figure to an initial 600x600px, this will subsequently be updated\n",
       "    // upon first draw.\n",
       "    this._resize_canvas(600, 600);\n",
       "\n",
       "    // Disable right mouse context menu.\n",
       "    $(this.rubberband_canvas).bind(\"contextmenu\",function(e){\n",
       "        return false;\n",
       "    });\n",
       "\n",
       "    function set_focus () {\n",
       "        canvas.focus();\n",
       "        canvas_div.focus();\n",
       "    }\n",
       "\n",
       "    window.setTimeout(set_focus, 100);\n",
       "}\n",
       "\n",
       "mpl.figure.prototype._init_toolbar = function() {\n",
       "    var fig = this;\n",
       "\n",
       "    var nav_element = $('<div/>')\n",
       "    nav_element.attr('style', 'width: 100%');\n",
       "    this.root.append(nav_element);\n",
       "\n",
       "    // Define a callback function for later on.\n",
       "    function toolbar_event(event) {\n",
       "        return fig.toolbar_button_onclick(event['data']);\n",
       "    }\n",
       "    function toolbar_mouse_event(event) {\n",
       "        return fig.toolbar_button_onmouseover(event['data']);\n",
       "    }\n",
       "\n",
       "    for(var toolbar_ind in mpl.toolbar_items) {\n",
       "        var name = mpl.toolbar_items[toolbar_ind][0];\n",
       "        var tooltip = mpl.toolbar_items[toolbar_ind][1];\n",
       "        var image = mpl.toolbar_items[toolbar_ind][2];\n",
       "        var method_name = mpl.toolbar_items[toolbar_ind][3];\n",
       "\n",
       "        if (!name) {\n",
       "            // put a spacer in here.\n",
       "            continue;\n",
       "        }\n",
       "        var button = $('<button/>');\n",
       "        button.addClass('ui-button ui-widget ui-state-default ui-corner-all ' +\n",
       "                        'ui-button-icon-only');\n",
       "        button.attr('role', 'button');\n",
       "        button.attr('aria-disabled', 'false');\n",
       "        button.click(method_name, toolbar_event);\n",
       "        button.mouseover(tooltip, toolbar_mouse_event);\n",
       "\n",
       "        var icon_img = $('<span/>');\n",
       "        icon_img.addClass('ui-button-icon-primary ui-icon');\n",
       "        icon_img.addClass(image);\n",
       "        icon_img.addClass('ui-corner-all');\n",
       "\n",
       "        var tooltip_span = $('<span/>');\n",
       "        tooltip_span.addClass('ui-button-text');\n",
       "        tooltip_span.html(tooltip);\n",
       "\n",
       "        button.append(icon_img);\n",
       "        button.append(tooltip_span);\n",
       "\n",
       "        nav_element.append(button);\n",
       "    }\n",
       "\n",
       "    var fmt_picker_span = $('<span/>');\n",
       "\n",
       "    var fmt_picker = $('<select/>');\n",
       "    fmt_picker.addClass('mpl-toolbar-option ui-widget ui-widget-content');\n",
       "    fmt_picker_span.append(fmt_picker);\n",
       "    nav_element.append(fmt_picker_span);\n",
       "    this.format_dropdown = fmt_picker[0];\n",
       "\n",
       "    for (var ind in mpl.extensions) {\n",
       "        var fmt = mpl.extensions[ind];\n",
       "        var option = $(\n",
       "            '<option/>', {selected: fmt === mpl.default_extension}).html(fmt);\n",
       "        fmt_picker.append(option)\n",
       "    }\n",
       "\n",
       "    // Add hover states to the ui-buttons\n",
       "    $( \".ui-button\" ).hover(\n",
       "        function() { $(this).addClass(\"ui-state-hover\");},\n",
       "        function() { $(this).removeClass(\"ui-state-hover\");}\n",
       "    );\n",
       "\n",
       "    var status_bar = $('<span class=\"mpl-message\"/>');\n",
       "    nav_element.append(status_bar);\n",
       "    this.message = status_bar[0];\n",
       "}\n",
       "\n",
       "mpl.figure.prototype.request_resize = function(x_pixels, y_pixels) {\n",
       "    // Request matplotlib to resize the figure. Matplotlib will then trigger a resize in the client,\n",
       "    // which will in turn request a refresh of the image.\n",
       "    this.send_message('resize', {'width': x_pixels, 'height': y_pixels});\n",
       "}\n",
       "\n",
       "mpl.figure.prototype.send_message = function(type, properties) {\n",
       "    properties['type'] = type;\n",
       "    properties['figure_id'] = this.id;\n",
       "    this.ws.send(JSON.stringify(properties));\n",
       "}\n",
       "\n",
       "mpl.figure.prototype.send_draw_message = function() {\n",
       "    if (!this.waiting) {\n",
       "        this.waiting = true;\n",
       "        this.ws.send(JSON.stringify({type: \"draw\", figure_id: this.id}));\n",
       "    }\n",
       "}\n",
       "\n",
       "\n",
       "mpl.figure.prototype.handle_save = function(fig, msg) {\n",
       "    var format_dropdown = fig.format_dropdown;\n",
       "    var format = format_dropdown.options[format_dropdown.selectedIndex].value;\n",
       "    fig.ondownload(fig, format);\n",
       "}\n",
       "\n",
       "\n",
       "mpl.figure.prototype.handle_resize = function(fig, msg) {\n",
       "    var size = msg['size'];\n",
       "    if (size[0] != fig.canvas.width || size[1] != fig.canvas.height) {\n",
       "        fig._resize_canvas(size[0], size[1]);\n",
       "        fig.send_message(\"refresh\", {});\n",
       "    };\n",
       "}\n",
       "\n",
       "mpl.figure.prototype.handle_rubberband = function(fig, msg) {\n",
       "    var x0 = msg['x0'];\n",
       "    var y0 = fig.canvas.height - msg['y0'];\n",
       "    var x1 = msg['x1'];\n",
       "    var y1 = fig.canvas.height - msg['y1'];\n",
       "    x0 = Math.floor(x0) + 0.5;\n",
       "    y0 = Math.floor(y0) + 0.5;\n",
       "    x1 = Math.floor(x1) + 0.5;\n",
       "    y1 = Math.floor(y1) + 0.5;\n",
       "    var min_x = Math.min(x0, x1);\n",
       "    var min_y = Math.min(y0, y1);\n",
       "    var width = Math.abs(x1 - x0);\n",
       "    var height = Math.abs(y1 - y0);\n",
       "\n",
       "    fig.rubberband_context.clearRect(\n",
       "        0, 0, fig.canvas.width, fig.canvas.height);\n",
       "\n",
       "    fig.rubberband_context.strokeRect(min_x, min_y, width, height);\n",
       "}\n",
       "\n",
       "mpl.figure.prototype.handle_figure_label = function(fig, msg) {\n",
       "    // Updates the figure title.\n",
       "    fig.header.textContent = msg['label'];\n",
       "}\n",
       "\n",
       "mpl.figure.prototype.handle_cursor = function(fig, msg) {\n",
       "    var cursor = msg['cursor'];\n",
       "    switch(cursor)\n",
       "    {\n",
       "    case 0:\n",
       "        cursor = 'pointer';\n",
       "        break;\n",
       "    case 1:\n",
       "        cursor = 'default';\n",
       "        break;\n",
       "    case 2:\n",
       "        cursor = 'crosshair';\n",
       "        break;\n",
       "    case 3:\n",
       "        cursor = 'move';\n",
       "        break;\n",
       "    }\n",
       "    fig.rubberband_canvas.style.cursor = cursor;\n",
       "}\n",
       "\n",
       "mpl.figure.prototype.handle_message = function(fig, msg) {\n",
       "    fig.message.textContent = msg['message'];\n",
       "}\n",
       "\n",
       "mpl.figure.prototype.handle_draw = function(fig, msg) {\n",
       "    // Request the server to send over a new figure.\n",
       "    fig.send_draw_message();\n",
       "}\n",
       "\n",
       "mpl.figure.prototype.handle_image_mode = function(fig, msg) {\n",
       "    fig.image_mode = msg['mode'];\n",
       "}\n",
       "\n",
       "mpl.figure.prototype.updated_canvas_event = function() {\n",
       "    // Called whenever the canvas gets updated.\n",
       "    this.send_message(\"ack\", {});\n",
       "}\n",
       "\n",
       "// A function to construct a web socket function for onmessage handling.\n",
       "// Called in the figure constructor.\n",
       "mpl.figure.prototype._make_on_message_function = function(fig) {\n",
       "    return function socket_on_message(evt) {\n",
       "        if (evt.data instanceof Blob) {\n",
       "            /* FIXME: We get \"Resource interpreted as Image but\n",
       "             * transferred with MIME type text/plain:\" errors on\n",
       "             * Chrome.  But how to set the MIME type?  It doesn't seem\n",
       "             * to be part of the websocket stream */\n",
       "            evt.data.type = \"image/png\";\n",
       "\n",
       "            /* Free the memory for the previous frames */\n",
       "            if (fig.imageObj.src) {\n",
       "                (window.URL || window.webkitURL).revokeObjectURL(\n",
       "                    fig.imageObj.src);\n",
       "            }\n",
       "\n",
       "            fig.imageObj.src = (window.URL || window.webkitURL).createObjectURL(\n",
       "                evt.data);\n",
       "            fig.updated_canvas_event();\n",
       "            fig.waiting = false;\n",
       "            return;\n",
       "        }\n",
       "        else if (typeof evt.data === 'string' && evt.data.slice(0, 21) == \"data:image/png;base64\") {\n",
       "            fig.imageObj.src = evt.data;\n",
       "            fig.updated_canvas_event();\n",
       "            fig.waiting = false;\n",
       "            return;\n",
       "        }\n",
       "\n",
       "        var msg = JSON.parse(evt.data);\n",
       "        var msg_type = msg['type'];\n",
       "\n",
       "        // Call the  \"handle_{type}\" callback, which takes\n",
       "        // the figure and JSON message as its only arguments.\n",
       "        try {\n",
       "            var callback = fig[\"handle_\" + msg_type];\n",
       "        } catch (e) {\n",
       "            console.log(\"No handler for the '\" + msg_type + \"' message type: \", msg);\n",
       "            return;\n",
       "        }\n",
       "\n",
       "        if (callback) {\n",
       "            try {\n",
       "                // console.log(\"Handling '\" + msg_type + \"' message: \", msg);\n",
       "                callback(fig, msg);\n",
       "            } catch (e) {\n",
       "                console.log(\"Exception inside the 'handler_\" + msg_type + \"' callback:\", e, e.stack, msg);\n",
       "            }\n",
       "        }\n",
       "    };\n",
       "}\n",
       "\n",
       "// from http://stackoverflow.com/questions/1114465/getting-mouse-location-in-canvas\n",
       "mpl.findpos = function(e) {\n",
       "    //this section is from http://www.quirksmode.org/js/events_properties.html\n",
       "    var targ;\n",
       "    if (!e)\n",
       "        e = window.event;\n",
       "    if (e.target)\n",
       "        targ = e.target;\n",
       "    else if (e.srcElement)\n",
       "        targ = e.srcElement;\n",
       "    if (targ.nodeType == 3) // defeat Safari bug\n",
       "        targ = targ.parentNode;\n",
       "\n",
       "    // jQuery normalizes the pageX and pageY\n",
       "    // pageX,Y are the mouse positions relative to the document\n",
       "    // offset() returns the position of the element relative to the document\n",
       "    var x = e.pageX - $(targ).offset().left;\n",
       "    var y = e.pageY - $(targ).offset().top;\n",
       "\n",
       "    return {\"x\": x, \"y\": y};\n",
       "};\n",
       "\n",
       "/*\n",
       " * return a copy of an object with only non-object keys\n",
       " * we need this to avoid circular references\n",
       " * http://stackoverflow.com/a/24161582/3208463\n",
       " */\n",
       "function simpleKeys (original) {\n",
       "  return Object.keys(original).reduce(function (obj, key) {\n",
       "    if (typeof original[key] !== 'object')\n",
       "        obj[key] = original[key]\n",
       "    return obj;\n",
       "  }, {});\n",
       "}\n",
       "\n",
       "mpl.figure.prototype.mouse_event = function(event, name) {\n",
       "    var canvas_pos = mpl.findpos(event)\n",
       "\n",
       "    if (name === 'button_press')\n",
       "    {\n",
       "        this.canvas.focus();\n",
       "        this.canvas_div.focus();\n",
       "    }\n",
       "\n",
       "    var x = canvas_pos.x;\n",
       "    var y = canvas_pos.y;\n",
       "\n",
       "    this.send_message(name, {x: x, y: y, button: event.button,\n",
       "                             step: event.step,\n",
       "                             guiEvent: simpleKeys(event)});\n",
       "\n",
       "    /* This prevents the web browser from automatically changing to\n",
       "     * the text insertion cursor when the button is pressed.  We want\n",
       "     * to control all of the cursor setting manually through the\n",
       "     * 'cursor' event from matplotlib */\n",
       "    event.preventDefault();\n",
       "    return false;\n",
       "}\n",
       "\n",
       "mpl.figure.prototype._key_event_extra = function(event, name) {\n",
       "    // Handle any extra behaviour associated with a key event\n",
       "}\n",
       "\n",
       "mpl.figure.prototype.key_event = function(event, name) {\n",
       "\n",
       "    // Prevent repeat events\n",
       "    if (name == 'key_press')\n",
       "    {\n",
       "        if (event.which === this._key)\n",
       "            return;\n",
       "        else\n",
       "            this._key = event.which;\n",
       "    }\n",
       "    if (name == 'key_release')\n",
       "        this._key = null;\n",
       "\n",
       "    var value = '';\n",
       "    if (event.ctrlKey && event.which != 17)\n",
       "        value += \"ctrl+\";\n",
       "    if (event.altKey && event.which != 18)\n",
       "        value += \"alt+\";\n",
       "    if (event.shiftKey && event.which != 16)\n",
       "        value += \"shift+\";\n",
       "\n",
       "    value += 'k';\n",
       "    value += event.which.toString();\n",
       "\n",
       "    this._key_event_extra(event, name);\n",
       "\n",
       "    this.send_message(name, {key: value,\n",
       "                             guiEvent: simpleKeys(event)});\n",
       "    return false;\n",
       "}\n",
       "\n",
       "mpl.figure.prototype.toolbar_button_onclick = function(name) {\n",
       "    if (name == 'download') {\n",
       "        this.handle_save(this, null);\n",
       "    } else {\n",
       "        this.send_message(\"toolbar_button\", {name: name});\n",
       "    }\n",
       "};\n",
       "\n",
       "mpl.figure.prototype.toolbar_button_onmouseover = function(tooltip) {\n",
       "    this.message.textContent = tooltip;\n",
       "};\n",
       "mpl.toolbar_items = [[\"Home\", \"Reset original view\", \"fa fa-home icon-home\", \"home\"], [\"Back\", \"Back to  previous view\", \"fa fa-arrow-left icon-arrow-left\", \"back\"], [\"Forward\", \"Forward to next view\", \"fa fa-arrow-right icon-arrow-right\", \"forward\"], [\"\", \"\", \"\", \"\"], [\"Pan\", \"Pan axes with left mouse, zoom with right\", \"fa fa-arrows icon-move\", \"pan\"], [\"Zoom\", \"Zoom to rectangle\", \"fa fa-square-o icon-check-empty\", \"zoom\"], [\"\", \"\", \"\", \"\"], [\"Download\", \"Download plot\", \"fa fa-floppy-o icon-save\", \"download\"]];\n",
       "\n",
       "mpl.extensions = [\"eps\", \"jpeg\", \"pdf\", \"png\", \"ps\", \"raw\", \"svg\", \"tif\"];\n",
       "\n",
       "mpl.default_extension = \"png\";var comm_websocket_adapter = function(comm) {\n",
       "    // Create a \"websocket\"-like object which calls the given IPython comm\n",
       "    // object with the appropriate methods. Currently this is a non binary\n",
       "    // socket, so there is still some room for performance tuning.\n",
       "    var ws = {};\n",
       "\n",
       "    ws.close = function() {\n",
       "        comm.close()\n",
       "    };\n",
       "    ws.send = function(m) {\n",
       "        //console.log('sending', m);\n",
       "        comm.send(m);\n",
       "    };\n",
       "    // Register the callback with on_msg.\n",
       "    comm.on_msg(function(msg) {\n",
       "        //console.log('receiving', msg['content']['data'], msg);\n",
       "        // Pass the mpl event to the overriden (by mpl) onmessage function.\n",
       "        ws.onmessage(msg['content']['data'])\n",
       "    });\n",
       "    return ws;\n",
       "}\n",
       "\n",
       "mpl.mpl_figure_comm = function(comm, msg) {\n",
       "    // This is the function which gets called when the mpl process\n",
       "    // starts-up an IPython Comm through the \"matplotlib\" channel.\n",
       "\n",
       "    var id = msg.content.data.id;\n",
       "    // Get hold of the div created by the display call when the Comm\n",
       "    // socket was opened in Python.\n",
       "    var element = $(\"#\" + id);\n",
       "    var ws_proxy = comm_websocket_adapter(comm)\n",
       "\n",
       "    function ondownload(figure, format) {\n",
       "        window.open(figure.imageObj.src);\n",
       "    }\n",
       "\n",
       "    var fig = new mpl.figure(id, ws_proxy,\n",
       "                           ondownload,\n",
       "                           element.get(0));\n",
       "\n",
       "    // Call onopen now - mpl needs it, as it is assuming we've passed it a real\n",
       "    // web socket which is closed, not our websocket->open comm proxy.\n",
       "    ws_proxy.onopen();\n",
       "\n",
       "    fig.parent_element = element.get(0);\n",
       "    fig.cell_info = mpl.find_output_cell(\"<div id='\" + id + \"'></div>\");\n",
       "    if (!fig.cell_info) {\n",
       "        console.error(\"Failed to find cell for figure\", id, fig);\n",
       "        return;\n",
       "    }\n",
       "\n",
       "    var output_index = fig.cell_info[2]\n",
       "    var cell = fig.cell_info[0];\n",
       "\n",
       "};\n",
       "\n",
       "mpl.figure.prototype.handle_close = function(fig, msg) {\n",
       "    fig.root.unbind('remove')\n",
       "\n",
       "    // Update the output cell to use the data from the current canvas.\n",
       "    fig.push_to_output();\n",
       "    var dataURL = fig.canvas.toDataURL();\n",
       "    // Re-enable the keyboard manager in IPython - without this line, in FF,\n",
       "    // the notebook keyboard shortcuts fail.\n",
       "    IPython.keyboard_manager.enable()\n",
       "    $(fig.parent_element).html('<img src=\"' + dataURL + '\">');\n",
       "    fig.close_ws(fig, msg);\n",
       "}\n",
       "\n",
       "mpl.figure.prototype.close_ws = function(fig, msg){\n",
       "    fig.send_message('closing', msg);\n",
       "    // fig.ws.close()\n",
       "}\n",
       "\n",
       "mpl.figure.prototype.push_to_output = function(remove_interactive) {\n",
       "    // Turn the data on the canvas into data in the output cell.\n",
       "    var dataURL = this.canvas.toDataURL();\n",
       "    this.cell_info[1]['text/html'] = '<img src=\"' + dataURL + '\">';\n",
       "}\n",
       "\n",
       "mpl.figure.prototype.updated_canvas_event = function() {\n",
       "    // Tell IPython that the notebook contents must change.\n",
       "    IPython.notebook.set_dirty(true);\n",
       "    this.send_message(\"ack\", {});\n",
       "    var fig = this;\n",
       "    // Wait a second, then push the new image to the DOM so\n",
       "    // that it is saved nicely (might be nice to debounce this).\n",
       "    setTimeout(function () { fig.push_to_output() }, 1000);\n",
       "}\n",
       "\n",
       "mpl.figure.prototype._init_toolbar = function() {\n",
       "    var fig = this;\n",
       "\n",
       "    var nav_element = $('<div/>')\n",
       "    nav_element.attr('style', 'width: 100%');\n",
       "    this.root.append(nav_element);\n",
       "\n",
       "    // Define a callback function for later on.\n",
       "    function toolbar_event(event) {\n",
       "        return fig.toolbar_button_onclick(event['data']);\n",
       "    }\n",
       "    function toolbar_mouse_event(event) {\n",
       "        return fig.toolbar_button_onmouseover(event['data']);\n",
       "    }\n",
       "\n",
       "    for(var toolbar_ind in mpl.toolbar_items){\n",
       "        var name = mpl.toolbar_items[toolbar_ind][0];\n",
       "        var tooltip = mpl.toolbar_items[toolbar_ind][1];\n",
       "        var image = mpl.toolbar_items[toolbar_ind][2];\n",
       "        var method_name = mpl.toolbar_items[toolbar_ind][3];\n",
       "\n",
       "        if (!name) { continue; };\n",
       "\n",
       "        var button = $('<button class=\"btn btn-default\" href=\"#\" title=\"' + name + '\"><i class=\"fa ' + image + ' fa-lg\"></i></button>');\n",
       "        button.click(method_name, toolbar_event);\n",
       "        button.mouseover(tooltip, toolbar_mouse_event);\n",
       "        nav_element.append(button);\n",
       "    }\n",
       "\n",
       "    // Add the status bar.\n",
       "    var status_bar = $('<span class=\"mpl-message\" style=\"text-align:right; float: right;\"/>');\n",
       "    nav_element.append(status_bar);\n",
       "    this.message = status_bar[0];\n",
       "\n",
       "    // Add the close button to the window.\n",
       "    var buttongrp = $('<div class=\"btn-group inline pull-right\"></div>');\n",
       "    var button = $('<button class=\"btn btn-mini btn-primary\" href=\"#\" title=\"Stop Interaction\"><i class=\"fa fa-power-off icon-remove icon-large\"></i></button>');\n",
       "    button.click(function (evt) { fig.handle_close(fig, {}); } );\n",
       "    button.mouseover('Stop Interaction', toolbar_mouse_event);\n",
       "    buttongrp.append(button);\n",
       "    var titlebar = this.root.find($('.ui-dialog-titlebar'));\n",
       "    titlebar.prepend(buttongrp);\n",
       "}\n",
       "\n",
       "mpl.figure.prototype._root_extra_style = function(el){\n",
       "    var fig = this\n",
       "    el.on(\"remove\", function(){\n",
       "\tfig.close_ws(fig, {});\n",
       "    });\n",
       "}\n",
       "\n",
       "mpl.figure.prototype._canvas_extra_style = function(el){\n",
       "    // this is important to make the div 'focusable\n",
       "    el.attr('tabindex', 0)\n",
       "    // reach out to IPython and tell the keyboard manager to turn it's self\n",
       "    // off when our div gets focus\n",
       "\n",
       "    // location in version 3\n",
       "    if (IPython.notebook.keyboard_manager) {\n",
       "        IPython.notebook.keyboard_manager.register_events(el);\n",
       "    }\n",
       "    else {\n",
       "        // location in version 2\n",
       "        IPython.keyboard_manager.register_events(el);\n",
       "    }\n",
       "\n",
       "}\n",
       "\n",
       "mpl.figure.prototype._key_event_extra = function(event, name) {\n",
       "    var manager = IPython.notebook.keyboard_manager;\n",
       "    if (!manager)\n",
       "        manager = IPython.keyboard_manager;\n",
       "\n",
       "    // Check for shift+enter\n",
       "    if (event.shiftKey && event.which == 13) {\n",
       "        this.canvas_div.blur();\n",
       "        // select the cell after this one\n",
       "        var index = IPython.notebook.find_cell_index(this.cell_info[0]);\n",
       "        IPython.notebook.select(index + 1);\n",
       "    }\n",
       "}\n",
       "\n",
       "mpl.figure.prototype.handle_save = function(fig, msg) {\n",
       "    fig.ondownload(fig, null);\n",
       "}\n",
       "\n",
       "\n",
       "mpl.find_output_cell = function(html_output) {\n",
       "    // Return the cell and output element which can be found *uniquely* in the notebook.\n",
       "    // Note - this is a bit hacky, but it is done because the \"notebook_saving.Notebook\"\n",
       "    // IPython event is triggered only after the cells have been serialised, which for\n",
       "    // our purposes (turning an active figure into a static one), is too late.\n",
       "    var cells = IPython.notebook.get_cells();\n",
       "    var ncells = cells.length;\n",
       "    for (var i=0; i<ncells; i++) {\n",
       "        var cell = cells[i];\n",
       "        if (cell.cell_type === 'code'){\n",
       "            for (var j=0; j<cell.output_area.outputs.length; j++) {\n",
       "                var data = cell.output_area.outputs[j];\n",
       "                if (data.data) {\n",
       "                    // IPython >= 3 moved mimebundle to data attribute of output\n",
       "                    data = data.data;\n",
       "                }\n",
       "                if (data['text/html'] == html_output) {\n",
       "                    return [cell, data, j];\n",
       "                }\n",
       "            }\n",
       "        }\n",
       "    }\n",
       "}\n",
       "\n",
       "// Register the function which deals with the matplotlib target/channel.\n",
       "// The kernel may be null if the page has been refreshed.\n",
       "if (IPython.notebook.kernel != null) {\n",
       "    IPython.notebook.kernel.comm_manager.register_target('matplotlib', mpl.mpl_figure_comm);\n",
       "}\n"
      ],
      "text/plain": [
       "<IPython.core.display.Javascript object>"
      ]
     },
     "metadata": {},
     "output_type": "display_data"
    },
    {
     "data": {
      "text/html": [
       "<img src=\"data:image/png;base64,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\">"
      ],
      "text/plain": [
       "<IPython.core.display.HTML object>"
      ]
     },
     "metadata": {},
     "output_type": "display_data"
    },
    {
     "data": {
      "text/plain": [
       "[<matplotlib.lines.Line2D at 0x7d2cb00>]"
      ]
     },
     "execution_count": 4,
     "metadata": {},
     "output_type": "execute_result"
    }
   ],
   "source": [
    "%matplotlib notebook\n",
    "plt.plot(traces['filtered'][1100:])"
   ]
  },
  {
   "cell_type": "code",
   "execution_count": null,
   "metadata": {
    "collapsed": false
   },
   "outputs": [],
   "source": [
    "filtered=traces['filtered'][1100:]\n",
    "filteredL=traces['filteredL'][1100:]"
   ]
  },
  {
   "cell_type": "code",
   "execution_count": null,
   "metadata": {
    "collapsed": false
   },
   "outputs": [],
   "source": [
    "filtered[:10]"
   ]
  },
  {
   "cell_type": "code",
   "execution_count": null,
   "metadata": {
    "collapsed": false
   },
   "outputs": [],
   "source": [
    "filteredL[:10]/4"
   ]
  },
  {
   "cell_type": "code",
   "execution_count": null,
   "metadata": {
    "collapsed": false
   },
   "outputs": [],
   "source": [
    "minmax_dt=np.dtype([('filtered','i4'),('low','i4'),('high','i4'),('clk','i4')])\n",
    "minmax=Data.fromfile('minmax',minmax_dt,'teslib','measurement_subsystem_TB',tool='vivado')\n",
    "fxing_dt=np.dtype([('extrema','i4'),('area','i4'),('clk','i4')])\n",
    "fxing=Data.fromfile('filteredxing',fxing_dt,'teslib','measurement_subsystem_TB',tool='vivado')"
   ]
  },
  {
   "cell_type": "code",
   "execution_count": null,
   "metadata": {
    "collapsed": false
   },
   "outputs": [],
   "source": [
    "minmax"
   ]
  },
  {
   "cell_type": "code",
   "execution_count": null,
   "metadata": {
    "collapsed": false
   },
   "outputs": [],
   "source": [
    "fxing"
   ]
  },
  {
   "cell_type": "code",
   "execution_count": null,
   "metadata": {
    "collapsed": false
   },
   "outputs": [],
   "source": [
    "np.where(fxing['area']==0)"
   ]
  },
  {
   "cell_type": "code",
   "execution_count": null,
   "metadata": {
    "collapsed": false
   },
   "outputs": [],
   "source": [
    "np.where(fxing['extrema']==0)"
   ]
  },
  {
   "cell_type": "code",
   "execution_count": null,
   "metadata": {
    "collapsed": false
   },
   "outputs": [],
   "source": [
    "fxing[30]"
   ]
  },
  {
   "cell_type": "code",
   "execution_count": null,
   "metadata": {
    "collapsed": false
   },
   "outputs": [],
   "source": [
    "exn=np.where(fxing['extrema']<0)\n",
    "clkn=np.where(fxing['clk']>0)"
   ]
  },
  {
   "cell_type": "code",
   "execution_count": null,
   "metadata": {
    "collapsed": true
   },
   "outputs": [],
   "source": []
  },
  {
   "cell_type": "code",
   "execution_count": null,
   "metadata": {
    "collapsed": false
   },
   "outputs": [],
   "source": [
    "fxing[374]"
   ]
  },
  {
   "cell_type": "code",
   "execution_count": null,
   "metadata": {
    "collapsed": false
   },
   "outputs": [],
   "source": [
    "clkn"
   ]
  },
  {
   "cell_type": "code",
   "execution_count": null,
   "metadata": {
    "collapsed": false
   },
   "outputs": [],
   "source": [
    "np.where(minmax[maxs[0]-1]['min']!=1)"
   ]
  },
  {
   "cell_type": "code",
   "execution_count": null,
   "metadata": {
    "collapsed": false
   },
   "outputs": [],
   "source": [
    "minmax[maxs[0]-1][65]"
   ]
  },
  {
   "cell_type": "code",
   "execution_count": null,
   "metadata": {
    "collapsed": false
   },
   "outputs": [],
   "source": [
    "2290-925"
   ]
  },
  {
   "cell_type": "code",
   "execution_count": null,
   "metadata": {
    "collapsed": false
   },
   "outputs": [],
   "source": [
    "0.375*4"
   ]
  },
  {
   "cell_type": "code",
   "execution_count": null,
   "metadata": {
    "collapsed": false
   },
   "outputs": [],
   "source": [
    "np.where(minmax['clock']==2290)"
   ]
  },
  {
   "cell_type": "code",
   "execution_count": null,
   "metadata": {
    "collapsed": false
   },
   "outputs": [],
   "source": [
    "minmax[120:140]"
   ]
  },
  {
   "cell_type": "code",
   "execution_count": null,
   "metadata": {
    "collapsed": false
   },
   "outputs": [],
   "source": [
    "stream_dt=np.dtype([('data','>i4'),('last','i4')])\n",
    "#stream=np.fromfile('data/stream',stream_dt)"
   ]
  },
  {
   "cell_type": "markdown",
   "metadata": {},
   "source": [
    "### bytestream stuff"
   ]
  },
  {
   "cell_type": "code",
   "execution_count": 5,
   "metadata": {
    "collapsed": false
   },
   "outputs": [],
   "source": [
    "stream_dt=np.dtype([('data','i4'),('last','i4')])\n",
    "stream=Data.fromfile('bytestream',stream_dt,'teslib','measurement_subsystem_TB',tool='vivado')\n",
    "lasts=np.where(stream['last']<=0)[0]+1\n",
    "#data=np.copy(stream['data'])"
   ]
  },
  {
   "cell_type": "code",
   "execution_count": 6,
   "metadata": {
    "collapsed": false
   },
   "outputs": [
    {
     "data": {
      "text/plain": [
       "array([(90, 69), (1, 71), (2, 73), ..., (0, 152745), (0, 152747),\n",
       "       (0, 152749)], \n",
       "      dtype=[('data', '<i4'), ('last', '<i4')])"
      ]
     },
     "execution_count": 6,
     "metadata": {},
     "output_type": "execute_result"
    }
   ],
   "source": [
    "stream"
   ]
  },
  {
   "cell_type": "code",
   "execution_count": null,
   "metadata": {
    "collapsed": true
   },
   "outputs": [],
   "source": [
    "stream=np.fromfile('data/bytestream',stream_dt)"
   ]
  },
  {
   "cell_type": "code",
   "execution_count": 7,
   "metadata": {
    "collapsed": false
   },
   "outputs": [],
   "source": [
    "bs=PacketStream(stream)"
   ]
  },
  {
   "cell_type": "code",
   "execution_count": null,
   "metadata": {
    "collapsed": false
   },
   "outputs": [],
   "source": [
    "384/4"
   ]
  },
  {
   "cell_type": "code",
   "execution_count": 8,
   "metadata": {
    "collapsed": false
   },
   "outputs": [
    {
     "data": {
      "text/plain": [
       "[ethertype:88B5 length:48 Payload:tick frame:0 protocol:0,\n",
       " ethertype:88B5 length:48 Payload:tick frame:1 protocol:1,\n",
       " ethertype:88B5 length:32 Payload:peak frame:2 protocol:2,\n",
       " ethertype:88B5 length:56 Payload:pulse frame:3 protocol:3,\n",
       " ethertype:88B5 length:32 Payload:peak frame:4 protocol:4,\n",
       " ethertype:88B6 length:1496 Payload:mca frame:5 protocol:0,\n",
       " ethertype:88B5 length:48 Payload:tick frame:6 protocol:5,\n",
       " ethertype:88B6 length:1496 Payload:mca frame:7 protocol:1,\n",
       " ethertype:88B6 length:1496 Payload:mca frame:8 protocol:2,\n",
       " ethertype:88B6 length:1496 Payload:mca frame:9 protocol:3,\n",
       " ethertype:88B6 length:1496 Payload:mca frame:10 protocol:4,\n",
       " ethertype:88B6 length:1496 Payload:mca frame:11 protocol:5,\n",
       " ethertype:88B6 length:1496 Payload:mca frame:12 protocol:6]"
      ]
     },
     "execution_count": 8,
     "metadata": {},
     "output_type": "execute_result"
    }
   ],
   "source": [
    "bs.packets"
   ]
  },
  {
   "cell_type": "code",
   "execution_count": null,
   "metadata": {
    "collapsed": false
   },
   "outputs": [],
   "source": [
    "bs.packets[4]"
   ]
  },
  {
   "cell_type": "code",
   "execution_count": null,
   "metadata": {
    "collapsed": true
   },
   "outputs": [],
   "source": [
    "eheader_dt=[('etype','<u2'),('length','u2'),()]"
   ]
  },
  {
   "cell_type": "code",
   "execution_count": null,
   "metadata": {
    "collapsed": false
   },
   "outputs": [],
   "source": [
    "'{:X}'.format(bs.packets[1].bytes[23])\n"
   ]
  },
  {
   "cell_type": "code",
   "execution_count": null,
   "metadata": {
    "collapsed": false
   },
   "outputs": [],
   "source": [
    "'{:X}'.format(bs.packets[0].bytes[28:30].view(np.uint16)[0])"
   ]
  },
  {
   "cell_type": "code",
   "execution_count": null,
   "metadata": {
    "collapsed": true
   },
   "outputs": [],
   "source": [
    "pulse_peak_dt=np.dtype([('height','i2'),('rise','i2'),('minima','u2'),('time','i2')])\n",
    "pulse_dt=np.dtype([('size','i2'),('resv','i2'),('flags','i2'),('time','u2'),\n",
    "                  ('area','i4'),('length','i2'),('offset','i2'),('peaks',(pulse_peak_dt,2))])"
   ]
  },
  {
   "cell_type": "code",
   "execution_count": null,
   "metadata": {
    "collapsed": false
   },
   "outputs": [],
   "source": [
    "pulses=bs.packets[3].payload.view(pulse_dt)"
   ]
  },
  {
   "cell_type": "code",
   "execution_count": null,
   "metadata": {
    "collapsed": false
   },
   "outputs": [],
   "source": [
    "pulses['peaks']"
   ]
  },
  {
   "cell_type": "code",
   "execution_count": null,
   "metadata": {
    "collapsed": false
   },
   "outputs": [],
   "source": [
    "pulses['offset']"
   ]
  },
  {
   "cell_type": "code",
   "execution_count": null,
   "metadata": {
    "collapsed": false
   },
   "outputs": [],
   "source": [
    "pulses['length']"
   ]
  },
  {
   "cell_type": "code",
   "execution_count": null,
   "metadata": {
    "collapsed": false
   },
   "outputs": [],
   "source": [
    "class eflags:\n",
    "    def __init__(self,uint16):\n",
    "        self.new_window=np.bitwise_and(uint16,0x00000001)!=0\n",
    "        self.tick=np.bitwise_and(uint16,0x00000002)!=0\n",
    "        self.type=np.right_shift(np.bitwise_and(uint16,0x0000000c),2)\n",
    "        \n",
    "    def __repr__(self):\n",
    "        return 'New window:{:}\\n'.format(self.new_window) + \\\n",
    "               'Tick:{:}\\n'.format(self.tick) + \\\n",
    "               'Type:{:}\\n'.format(self.type) "
   ]
  },
  {
   "cell_type": "code",
   "execution_count": null,
   "metadata": {
    "collapsed": false
   },
   "outputs": [],
   "source": [
    "f=eflags(pulses[0]['flags'])\n",
    "f"
   ]
  },
  {
   "cell_type": "code",
   "execution_count": null,
   "metadata": {
    "collapsed": false
   },
   "outputs": [],
   "source": [
    "'{:X}'.format(bs.packets[3].bytes[13:14].view(np.uint16))"
   ]
  },
  {
   "cell_type": "code",
   "execution_count": null,
   "metadata": {
    "collapsed": true
   },
   "outputs": [],
   "source": []
  },
  {
   "cell_type": "code",
   "execution_count": null,
   "metadata": {
    "collapsed": false
   },
   "outputs": [],
   "source": [
    "'{:X}'.format(bs.packets[3].bytes[14:16].view(np.uint16)[0])"
   ]
  },
  {
   "cell_type": "code",
   "execution_count": null,
   "metadata": {
    "collapsed": false
   },
   "outputs": [],
   "source": [
    "bs.packets[3].bytes[14:16].view(np.uint16)[0]"
   ]
  },
  {
   "cell_type": "code",
   "execution_count": null,
   "metadata": {
    "collapsed": false
   },
   "outputs": [],
   "source": [
    "bs=np.uint8(stream['data'][:48])"
   ]
  },
  {
   "cell_type": "code",
   "execution_count": null,
   "metadata": {
    "collapsed": false
   },
   "outputs": [],
   "source": [
    "bs"
   ]
  },
  {
   "cell_type": "code",
   "execution_count": null,
   "metadata": {
    "collapsed": false
   },
   "outputs": [],
   "source": [
    "events=stream['data'].view(event_dt)"
   ]
  },
  {
   "cell_type": "code",
   "execution_count": null,
   "metadata": {
    "collapsed": false
   },
   "outputs": [],
   "source": [
    "'{:X}'.format(events['flags'][0])"
   ]
  },
  {
   "cell_type": "code",
   "execution_count": null,
   "metadata": {
    "collapsed": false
   },
   "outputs": [],
   "source": [
    "events['rise']"
   ]
  },
  {
   "cell_type": "code",
   "execution_count": null,
   "metadata": {
    "collapsed": false
   },
   "outputs": [],
   "source": [
    "events"
   ]
  },
  {
   "cell_type": "code",
   "execution_count": null,
   "metadata": {
    "collapsed": false
   },
   "outputs": [],
   "source": [
    "'{:04X}'.format(events['flags'][1])"
   ]
  },
  {
   "cell_type": "code",
   "execution_count": null,
   "metadata": {
    "collapsed": true
   },
   "outputs": [],
   "source": [
    "pulse_peak_dt=np.dtype([('time','>i2'),('minima','>i2'),('rise','>u2'),('height','>i2')])\n",
    "pulse_dt=np.dtype([('time','>i2'),('flags','>i2'),('resv','>i2'),('size','>u2'),\n",
    "                  ('offset','>i2'),('length','>i2'),('area','>i4'),('peaks',(pulse_peak_dt,1))])\n",
    "data=np.copy(stream['data'])"
   ]
  },
  {
   "cell_type": "code",
   "execution_count": null,
   "metadata": {
    "collapsed": false
   },
   "outputs": [],
   "source": [
    "pulses=data.view(pulse_dt)"
   ]
  },
  {
   "cell_type": "code",
   "execution_count": null,
   "metadata": {
    "collapsed": false
   },
   "outputs": [],
   "source": [
    "pulses['peaks']['height']-pulses['peaks']['minima']"
   ]
  },
  {
   "cell_type": "code",
   "execution_count": null,
   "metadata": {
    "collapsed": false
   },
   "outputs": [],
   "source": [
    "pulses['peaks']['minima']"
   ]
  },
  {
   "cell_type": "code",
   "execution_count": null,
   "metadata": {
    "collapsed": false
   },
   "outputs": [],
   "source": [
    "peak_count=np.right_shift(np.bitwise_and(pulses['flags'],0xF000),12)\n",
    "peak_overflow=np.bitwise_and(pulses['flags'],0x0800)!=0\n",
    "channel=np.right_shift(np.bitwise_and(pulses['flags'],0x0700),8)\n",
    "timing_type=np.right_shift(np.bitwise_and(pulses['flags'],0x00C0),6)\n",
    "height_type=np.right_shift(np.bitwise_and(pulses['flags'],0x0030),4)\n",
    "event_type=np.right_shift(np.bitwise_and(pulses['flags'],0x000E),1)\n",
    "new_window=np.bitwise_and(pulses['flags'],0x0001)!=0"
   ]
  },
  {
   "cell_type": "code",
   "execution_count": null,
   "metadata": {
    "collapsed": false
   },
   "outputs": [],
   "source": [
    "peak_overflow"
   ]
  },
  {
   "cell_type": "code",
   "execution_count": null,
   "metadata": {
    "collapsed": true
   },
   "outputs": [],
   "source": [
    "test_dt=np.dtype(\n",
    "    [('time','i2'),('flags','i2'),('rise','u2'),('minima','i2'),('low','u8'),('high','u8')]\n",
    ")\n",
    "test=data.view(test_dt)"
   ]
  },
  {
   "cell_type": "code",
   "execution_count": null,
   "metadata": {
    "collapsed": false
   },
   "outputs": [],
   "source": [
    "test"
   ]
  },
  {
   "cell_type": "code",
   "execution_count": null,
   "metadata": {
    "collapsed": false
   },
   "outputs": [],
   "source": [
    "test['minima']"
   ]
  },
  {
   "cell_type": "code",
   "execution_count": null,
   "metadata": {
    "collapsed": false
   },
   "outputs": [],
   "source": [
    "low1=np.int32(np.right_shift(np.bitwise_and(test['low'],0x03FFFF000000000),36))\n",
    "s=(np.bitwise_and(low1,0x00020000)!=0)*0xFFFC0000\n",
    "low2=np.int32(np.right_shift(np.bitwise_and(test['low'],0x000000FFFFC0000),18))\n",
    "low_threshold=np.int32(np.bitwise_and(test['low'],0x00000000003FFFF))\n",
    "high1=np.int32(np.right_shift(np.bitwise_and(test['high'],0x03FFFF000000000),36))\n",
    "high2=np.int32(np.right_shift(np.bitwise_and(test['high'],0x000000FFFFC0000),18))\n",
    "high_threshold=np.int32(np.bitwise_and(test['high'],0x00000000003FFFF))"
   ]
  },
  {
   "cell_type": "code",
   "execution_count": null,
   "metadata": {
    "collapsed": false
   },
   "outputs": [],
   "source": [
    "np.int32(np.bitwise_or(low1,s))/8.0"
   ]
  },
  {
   "cell_type": "code",
   "execution_count": null,
   "metadata": {
    "collapsed": false
   },
   "outputs": [],
   "source": [
    "'{:04X}'.format(low1[0])"
   ]
  },
  {
   "cell_type": "code",
   "execution_count": null,
   "metadata": {
    "collapsed": false
   },
   "outputs": [],
   "source": [
    "high1/8.0"
   ]
  },
  {
   "cell_type": "code",
   "execution_count": null,
   "metadata": {
    "collapsed": false
   },
   "outputs": [],
   "source": [
    "high2/8.0"
   ]
  },
  {
   "cell_type": "code",
   "execution_count": null,
   "metadata": {
    "collapsed": false
   },
   "outputs": [],
   "source": [
    "'{:04X}'.format(high_threshold[0])"
   ]
  },
  {
   "cell_type": "code",
   "execution_count": null,
   "metadata": {
    "collapsed": true
   },
   "outputs": [],
   "source": []
  }
 ],
 "metadata": {
  "anaconda-cloud": {},
  "kernelspec": {
   "display_name": "Python [default]",
   "language": "python",
   "name": "python3"
  },
  "language_info": {
   "codemirror_mode": {
    "name": "ipython",
    "version": 3
   },
   "file_extension": ".py",
   "mimetype": "text/x-python",
   "name": "python",
   "nbconvert_exporter": "python",
   "pygments_lexer": "ipython3",
   "version": "3.5.2"
  }
 },
 "nbformat": 4,
 "nbformat_minor": 1
}
