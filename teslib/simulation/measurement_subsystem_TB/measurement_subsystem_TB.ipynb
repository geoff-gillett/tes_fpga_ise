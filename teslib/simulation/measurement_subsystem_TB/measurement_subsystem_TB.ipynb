{
 "cells": [
  {
   "cell_type": "markdown",
   "metadata": {},
   "source": [
    "timestamp 0 => clk 20\n",
    "\n",
    "traces start at clk 1"
   ]
  },
  {
   "cell_type": "code",
   "execution_count": null,
   "metadata": {
    "collapsed": false,
    "run_control": {
     "frozen": false,
     "read_only": false
    }
   },
   "outputs": [],
   "source": [
    "#Mac\n",
    "import sys\n",
    "sys.path.append('../../../../interface/python')"
   ]
  },
  {
   "cell_type": "code",
   "execution_count": 1,
   "metadata": {
    "collapsed": false,
    "run_control": {
     "frozen": false,
     "read_only": false
    }
   },
   "outputs": [],
   "source": [
    "from tes.data import Data,PacketStream,Packet,Payload,EventFlags,Event\n",
    "import numpy as np\n",
    "import matplotlib.pyplot as plt"
   ]
  },
  {
   "cell_type": "code",
   "execution_count": 2,
   "metadata": {
    "code_folding": [],
    "collapsed": false,
    "run_control": {
     "frozen": false,
     "read_only": false
    }
   },
   "outputs": [],
   "source": [
    "#NOTE traces[0] corresponts to clk=1\n",
    "trace_dt=np.dtype([('raw','i4'),('filtered','i4'),('slope','i4'),('filteredL','i4')])\n",
    "stream_dt=np.dtype([('data','i4'),('last','i4')])\n",
    "minmax_dt=np.dtype(\n",
    "    [\n",
    "        ('filtered','i4'),('timing_threshold','i4'),\n",
    "        ('height_threshold','i4'),('slope_extrema','i4'),('slope_area','i4'),('clk','i4')\n",
    "    ]\n",
    ")\n",
    "cfd_dt=np.dtype('i4')\n",
    "filteredxing_dt=np.dtype([('extrema','i4'),('area','i4'),('clk','i4')])"
   ]
  },
  {
   "cell_type": "code",
   "execution_count": 3,
   "metadata": {
    "collapsed": false,
    "run_control": {
     "frozen": false,
     "read_only": false
    }
   },
   "outputs": [],
   "source": [
    "traces=np.fromfile('data/traces',trace_dt)\n",
    "stream=np.fromfile('data/bytestream',stream_dt)\n",
    "minmax=np.fromfile('data/minmax',minmax_dt)\n",
    "cfd=np.fromfile('data/cfd',cfd_dt)\n",
    "filteredxing=np.fromfile('data/filteredxing',filteredxing_dt)"
   ]
  },
  {
   "cell_type": "code",
   "execution_count": 3,
   "metadata": {
    "collapsed": false,
    "run_control": {
     "frozen": false,
     "read_only": false
    },
    "scrolled": true
   },
   "outputs": [],
   "source": [
    "traces=Data.fromfile('traces',trace_dt,'teslib','measurement_subsystem_TB',tool='vivado')\n",
    "stream=Data.fromfile('bytestream',stream_dt,'teslib','measurement_subsystem_TB',tool='vivado')\n",
    "minmax=Data.fromfile('minmax',minmax_dt,'teslib','measurement_subsystem_TB',tool='vivado')\n",
    "cfd=Data.fromfile('cfd',cfd_dt,'teslib','measurement_subsystem_TB',tool='vivado')\n",
    "filteredxing=Data.fromfile(\n",
    "    'filteredxing',filteredxing_dt,'teslib','measurement_subsystem_TB',tool='vivado'\n",
    ")"
   ]
  },
  {
   "cell_type": "code",
   "execution_count": null,
   "metadata": {
    "collapsed": false,
    "run_control": {
     "frozen": false,
     "read_only": false
    },
    "scrolled": true
   },
   "outputs": [],
   "source": [
    "# Mac\n",
    "traces=Data.fromfile(\n",
    "    'traces',trace_dt,'teslib','measurement_subsystem_TB',tool='vivado',\n",
    "    root='/Volumes/C/'\n",
    ")\n",
    "stream=Data.fromfile(\n",
    "    'bytestream',stream_dt,'teslib','measurement_subsystem_TB',tool='vivado',\n",
    "    root='/Volumes/C/'\n",
    ")\n",
    "minmax=Data.fromfile(\n",
    "    'minmax',minmax_dt,'teslib','measurement_subsystem_TB',tool='vivado',\n",
    "    root='/Volumes/C/'\n",
    ")\n",
    "cfd=Data.fromfile(\n",
    "    'cfd',cfd_dt,'teslib','measurement_subsystem_TB',tool='vivado',\n",
    "    root='/Volumes/C/'\n",
    ")\n",
    "filteredxing=Data.fromfile(\n",
    "    'filteredxing',filteredxing_dt,'teslib','measurement_subsystem_TB',\n",
    "    tool='vivado',root='/Volumes/C/'\n",
    ")"
   ]
  },
  {
   "cell_type": "code",
   "execution_count": 4,
   "metadata": {
    "collapsed": false
   },
   "outputs": [],
   "source": [
    "def plot_event(event_tupple,rel2min):\n",
    "    pre=200\n",
    "    post=1000\n",
    "    timestamp=event_tupple[0]\n",
    "    event_type=event_tupple[1]\n",
    "    event=event_tupple[2]\n",
    "    flags=EventFlags(event['flags'])\n",
    "#     print(flags)\n",
    "    #print('timestamp',timestamp, 'time', event['time'],'height',event['height'],'min',event['minima'])\n",
    "    if flags.type == Event.tick:\n",
    "        return\n",
    "    s=traces['filtered'][timestamp+20-pre:timestamp+20+post]\n",
    "    r=traces['raw'][timestamp+20-pre:timestamp+20+post]\n",
    "    i = np.where(abs(minmax['clk'])<=timestamp+20)[0][-1]\n",
    "    min_t=abs(minmax['clk'][i])-(timestamp+20)\n",
    "#     print(minmax['clk'][i],min_t,i,timestamp)\n",
    "    #plt.plot(r,'k',linewidth=0.5)\n",
    "#     print('min', event_tupple[2][1])\n",
    "#     print(event_type)\n",
    "    if flags.channel==0:\n",
    "        colour='b'\n",
    "        lw=0.5\n",
    "        mm = 'vb'\n",
    "        tm = 'ob'\n",
    "    else:\n",
    "        colour='r'\n",
    "        lw=0.5\n",
    "        mm = 'vr'\n",
    "        tm = 'or'\n",
    "    \n",
    "#     if event_type==Event.pulse:\n",
    "#         colour=':g'\n",
    "#         lw=2\n",
    "#         if event_type==Event.pulse:\n",
    "#             max_peaks = event['size']-2\n",
    "#         if max_peaks > 1:    \n",
    "#             minima=event['peaks'][0]['minima']\n",
    "#         else:\n",
    "#             minima=event['peaks']['minima']\n",
    "#     else:\n",
    "#         colour='b'\n",
    "#         lw=1\n",
    "    if flags.channel==1:\n",
    "        minima=event['minima']\n",
    "    #     print(event_type,'minima',minima)\n",
    "        if rel2min:\n",
    "            plt.plot(s-minima,colour,linewidth=lw)\n",
    "        else:\n",
    "            plt.plot(s,colour,linewidth=lw)\n",
    "    #     plt.plot([pre],s[pre],tm,fillstyle='none')\n",
    "    #     plt.plot([pre+min_t],minmax['filtered'][i],mm,fillstyle='none')\n",
    "        if event_type==Event.pulse:\n",
    "            if max_peaks > 1:\n",
    "                for i in range(max_peaks):\n",
    "                    p=event['peaks'][i]\n",
    "                    plt.plot([0,len(s)-1],[p['height'],p['height']],':g')\n",
    "            else:\n",
    "                p=event['peaks']\n",
    "                plt.plot([0,len(s)-1],[p['height'],p['height']],':g',lw=1)\n",
    "        else:\n",
    "          plt.plot([0,len(s)-1],[event['height'],event['height']],colour,lw=lw)\n",
    "        \n",
    "    #print(event['height'],event['minima'])\n",
    "    #print(minmax['filtered'][i]==s[pre+min_t])\n",
    "    #print(minmax['filtered'][i]==event['minima'])\n",
    "    #print(s[pre],s[pre-1])"
   ]
  },
  {
   "cell_type": "code",
   "execution_count": 5,
   "metadata": {
    "collapsed": false,
    "run_control": {
     "frozen": false,
     "read_only": false
    },
    "scrolled": false
   },
   "outputs": [
    {
     "data": {
      "application/javascript": [
       "/* Put everything inside the global mpl namespace */\n",
       "window.mpl = {};\n",
       "\n",
       "\n",
       "mpl.get_websocket_type = function() {\n",
       "    if (typeof(WebSocket) !== 'undefined') {\n",
       "        return WebSocket;\n",
       "    } else if (typeof(MozWebSocket) !== 'undefined') {\n",
       "        return MozWebSocket;\n",
       "    } else {\n",
       "        alert('Your browser does not have WebSocket support.' +\n",
       "              'Please try Chrome, Safari or Firefox ≥ 6. ' +\n",
       "              'Firefox 4 and 5 are also supported but you ' +\n",
       "              'have to enable WebSockets in about:config.');\n",
       "    };\n",
       "}\n",
       "\n",
       "mpl.figure = function(figure_id, websocket, ondownload, parent_element) {\n",
       "    this.id = figure_id;\n",
       "\n",
       "    this.ws = websocket;\n",
       "\n",
       "    this.supports_binary = (this.ws.binaryType != undefined);\n",
       "\n",
       "    if (!this.supports_binary) {\n",
       "        var warnings = document.getElementById(\"mpl-warnings\");\n",
       "        if (warnings) {\n",
       "            warnings.style.display = 'block';\n",
       "            warnings.textContent = (\n",
       "                \"This browser does not support binary websocket messages. \" +\n",
       "                    \"Performance may be slow.\");\n",
       "        }\n",
       "    }\n",
       "\n",
       "    this.imageObj = new Image();\n",
       "\n",
       "    this.context = undefined;\n",
       "    this.message = undefined;\n",
       "    this.canvas = undefined;\n",
       "    this.rubberband_canvas = undefined;\n",
       "    this.rubberband_context = undefined;\n",
       "    this.format_dropdown = undefined;\n",
       "\n",
       "    this.image_mode = 'full';\n",
       "\n",
       "    this.root = $('<div/>');\n",
       "    this._root_extra_style(this.root)\n",
       "    this.root.attr('style', 'display: inline-block');\n",
       "\n",
       "    $(parent_element).append(this.root);\n",
       "\n",
       "    this._init_header(this);\n",
       "    this._init_canvas(this);\n",
       "    this._init_toolbar(this);\n",
       "\n",
       "    var fig = this;\n",
       "\n",
       "    this.waiting = false;\n",
       "\n",
       "    this.ws.onopen =  function () {\n",
       "            fig.send_message(\"supports_binary\", {value: fig.supports_binary});\n",
       "            fig.send_message(\"send_image_mode\", {});\n",
       "            if (mpl.ratio != 1) {\n",
       "                fig.send_message(\"set_dpi_ratio\", {'dpi_ratio': mpl.ratio});\n",
       "            }\n",
       "            fig.send_message(\"refresh\", {});\n",
       "        }\n",
       "\n",
       "    this.imageObj.onload = function() {\n",
       "            if (fig.image_mode == 'full') {\n",
       "                // Full images could contain transparency (where diff images\n",
       "                // almost always do), so we need to clear the canvas so that\n",
       "                // there is no ghosting.\n",
       "                fig.context.clearRect(0, 0, fig.canvas.width, fig.canvas.height);\n",
       "            }\n",
       "            fig.context.drawImage(fig.imageObj, 0, 0);\n",
       "        };\n",
       "\n",
       "    this.imageObj.onunload = function() {\n",
       "        this.ws.close();\n",
       "    }\n",
       "\n",
       "    this.ws.onmessage = this._make_on_message_function(this);\n",
       "\n",
       "    this.ondownload = ondownload;\n",
       "}\n",
       "\n",
       "mpl.figure.prototype._init_header = function() {\n",
       "    var titlebar = $(\n",
       "        '<div class=\"ui-dialog-titlebar ui-widget-header ui-corner-all ' +\n",
       "        'ui-helper-clearfix\"/>');\n",
       "    var titletext = $(\n",
       "        '<div class=\"ui-dialog-title\" style=\"width: 100%; ' +\n",
       "        'text-align: center; padding: 3px;\"/>');\n",
       "    titlebar.append(titletext)\n",
       "    this.root.append(titlebar);\n",
       "    this.header = titletext[0];\n",
       "}\n",
       "\n",
       "\n",
       "\n",
       "mpl.figure.prototype._canvas_extra_style = function(canvas_div) {\n",
       "\n",
       "}\n",
       "\n",
       "\n",
       "mpl.figure.prototype._root_extra_style = function(canvas_div) {\n",
       "\n",
       "}\n",
       "\n",
       "mpl.figure.prototype._init_canvas = function() {\n",
       "    var fig = this;\n",
       "\n",
       "    var canvas_div = $('<div/>');\n",
       "\n",
       "    canvas_div.attr('style', 'position: relative; clear: both; outline: 0');\n",
       "\n",
       "    function canvas_keyboard_event(event) {\n",
       "        return fig.key_event(event, event['data']);\n",
       "    }\n",
       "\n",
       "    canvas_div.keydown('key_press', canvas_keyboard_event);\n",
       "    canvas_div.keyup('key_release', canvas_keyboard_event);\n",
       "    this.canvas_div = canvas_div\n",
       "    this._canvas_extra_style(canvas_div)\n",
       "    this.root.append(canvas_div);\n",
       "\n",
       "    var canvas = $('<canvas/>');\n",
       "    canvas.addClass('mpl-canvas');\n",
       "    canvas.attr('style', \"left: 0; top: 0; z-index: 0; outline: 0\")\n",
       "\n",
       "    this.canvas = canvas[0];\n",
       "    this.context = canvas[0].getContext(\"2d\");\n",
       "\n",
       "    var backingStore = this.context.backingStorePixelRatio ||\n",
       "\tthis.context.webkitBackingStorePixelRatio ||\n",
       "\tthis.context.mozBackingStorePixelRatio ||\n",
       "\tthis.context.msBackingStorePixelRatio ||\n",
       "\tthis.context.oBackingStorePixelRatio ||\n",
       "\tthis.context.backingStorePixelRatio || 1;\n",
       "\n",
       "    mpl.ratio = (window.devicePixelRatio || 1) / backingStore;\n",
       "\n",
       "    var rubberband = $('<canvas/>');\n",
       "    rubberband.attr('style', \"position: absolute; left: 0; top: 0; z-index: 1;\")\n",
       "\n",
       "    var pass_mouse_events = true;\n",
       "\n",
       "    canvas_div.resizable({\n",
       "        start: function(event, ui) {\n",
       "            pass_mouse_events = false;\n",
       "        },\n",
       "        resize: function(event, ui) {\n",
       "            fig.request_resize(ui.size.width, ui.size.height);\n",
       "        },\n",
       "        stop: function(event, ui) {\n",
       "            pass_mouse_events = true;\n",
       "            fig.request_resize(ui.size.width, ui.size.height);\n",
       "        },\n",
       "    });\n",
       "\n",
       "    function mouse_event_fn(event) {\n",
       "        if (pass_mouse_events)\n",
       "            return fig.mouse_event(event, event['data']);\n",
       "    }\n",
       "\n",
       "    rubberband.mousedown('button_press', mouse_event_fn);\n",
       "    rubberband.mouseup('button_release', mouse_event_fn);\n",
       "    // Throttle sequential mouse events to 1 every 20ms.\n",
       "    rubberband.mousemove('motion_notify', mouse_event_fn);\n",
       "\n",
       "    rubberband.mouseenter('figure_enter', mouse_event_fn);\n",
       "    rubberband.mouseleave('figure_leave', mouse_event_fn);\n",
       "\n",
       "    canvas_div.on(\"wheel\", function (event) {\n",
       "        event = event.originalEvent;\n",
       "        event['data'] = 'scroll'\n",
       "        if (event.deltaY < 0) {\n",
       "            event.step = 1;\n",
       "        } else {\n",
       "            event.step = -1;\n",
       "        }\n",
       "        mouse_event_fn(event);\n",
       "    });\n",
       "\n",
       "    canvas_div.append(canvas);\n",
       "    canvas_div.append(rubberband);\n",
       "\n",
       "    this.rubberband = rubberband;\n",
       "    this.rubberband_canvas = rubberband[0];\n",
       "    this.rubberband_context = rubberband[0].getContext(\"2d\");\n",
       "    this.rubberband_context.strokeStyle = \"#000000\";\n",
       "\n",
       "    this._resize_canvas = function(width, height) {\n",
       "        // Keep the size of the canvas, canvas container, and rubber band\n",
       "        // canvas in synch.\n",
       "        canvas_div.css('width', width)\n",
       "        canvas_div.css('height', height)\n",
       "\n",
       "        canvas.attr('width', width * mpl.ratio);\n",
       "        canvas.attr('height', height * mpl.ratio);\n",
       "        canvas.attr('style', 'width: ' + width + 'px; height: ' + height + 'px;');\n",
       "\n",
       "        rubberband.attr('width', width);\n",
       "        rubberband.attr('height', height);\n",
       "    }\n",
       "\n",
       "    // Set the figure to an initial 600x600px, this will subsequently be updated\n",
       "    // upon first draw.\n",
       "    this._resize_canvas(600, 600);\n",
       "\n",
       "    // Disable right mouse context menu.\n",
       "    $(this.rubberband_canvas).bind(\"contextmenu\",function(e){\n",
       "        return false;\n",
       "    });\n",
       "\n",
       "    function set_focus () {\n",
       "        canvas.focus();\n",
       "        canvas_div.focus();\n",
       "    }\n",
       "\n",
       "    window.setTimeout(set_focus, 100);\n",
       "}\n",
       "\n",
       "mpl.figure.prototype._init_toolbar = function() {\n",
       "    var fig = this;\n",
       "\n",
       "    var nav_element = $('<div/>')\n",
       "    nav_element.attr('style', 'width: 100%');\n",
       "    this.root.append(nav_element);\n",
       "\n",
       "    // Define a callback function for later on.\n",
       "    function toolbar_event(event) {\n",
       "        return fig.toolbar_button_onclick(event['data']);\n",
       "    }\n",
       "    function toolbar_mouse_event(event) {\n",
       "        return fig.toolbar_button_onmouseover(event['data']);\n",
       "    }\n",
       "\n",
       "    for(var toolbar_ind in mpl.toolbar_items) {\n",
       "        var name = mpl.toolbar_items[toolbar_ind][0];\n",
       "        var tooltip = mpl.toolbar_items[toolbar_ind][1];\n",
       "        var image = mpl.toolbar_items[toolbar_ind][2];\n",
       "        var method_name = mpl.toolbar_items[toolbar_ind][3];\n",
       "\n",
       "        if (!name) {\n",
       "            // put a spacer in here.\n",
       "            continue;\n",
       "        }\n",
       "        var button = $('<button/>');\n",
       "        button.addClass('ui-button ui-widget ui-state-default ui-corner-all ' +\n",
       "                        'ui-button-icon-only');\n",
       "        button.attr('role', 'button');\n",
       "        button.attr('aria-disabled', 'false');\n",
       "        button.click(method_name, toolbar_event);\n",
       "        button.mouseover(tooltip, toolbar_mouse_event);\n",
       "\n",
       "        var icon_img = $('<span/>');\n",
       "        icon_img.addClass('ui-button-icon-primary ui-icon');\n",
       "        icon_img.addClass(image);\n",
       "        icon_img.addClass('ui-corner-all');\n",
       "\n",
       "        var tooltip_span = $('<span/>');\n",
       "        tooltip_span.addClass('ui-button-text');\n",
       "        tooltip_span.html(tooltip);\n",
       "\n",
       "        button.append(icon_img);\n",
       "        button.append(tooltip_span);\n",
       "\n",
       "        nav_element.append(button);\n",
       "    }\n",
       "\n",
       "    var fmt_picker_span = $('<span/>');\n",
       "\n",
       "    var fmt_picker = $('<select/>');\n",
       "    fmt_picker.addClass('mpl-toolbar-option ui-widget ui-widget-content');\n",
       "    fmt_picker_span.append(fmt_picker);\n",
       "    nav_element.append(fmt_picker_span);\n",
       "    this.format_dropdown = fmt_picker[0];\n",
       "\n",
       "    for (var ind in mpl.extensions) {\n",
       "        var fmt = mpl.extensions[ind];\n",
       "        var option = $(\n",
       "            '<option/>', {selected: fmt === mpl.default_extension}).html(fmt);\n",
       "        fmt_picker.append(option)\n",
       "    }\n",
       "\n",
       "    // Add hover states to the ui-buttons\n",
       "    $( \".ui-button\" ).hover(\n",
       "        function() { $(this).addClass(\"ui-state-hover\");},\n",
       "        function() { $(this).removeClass(\"ui-state-hover\");}\n",
       "    );\n",
       "\n",
       "    var status_bar = $('<span class=\"mpl-message\"/>');\n",
       "    nav_element.append(status_bar);\n",
       "    this.message = status_bar[0];\n",
       "}\n",
       "\n",
       "mpl.figure.prototype.request_resize = function(x_pixels, y_pixels) {\n",
       "    // Request matplotlib to resize the figure. Matplotlib will then trigger a resize in the client,\n",
       "    // which will in turn request a refresh of the image.\n",
       "    this.send_message('resize', {'width': x_pixels, 'height': y_pixels});\n",
       "}\n",
       "\n",
       "mpl.figure.prototype.send_message = function(type, properties) {\n",
       "    properties['type'] = type;\n",
       "    properties['figure_id'] = this.id;\n",
       "    this.ws.send(JSON.stringify(properties));\n",
       "}\n",
       "\n",
       "mpl.figure.prototype.send_draw_message = function() {\n",
       "    if (!this.waiting) {\n",
       "        this.waiting = true;\n",
       "        this.ws.send(JSON.stringify({type: \"draw\", figure_id: this.id}));\n",
       "    }\n",
       "}\n",
       "\n",
       "\n",
       "mpl.figure.prototype.handle_save = function(fig, msg) {\n",
       "    var format_dropdown = fig.format_dropdown;\n",
       "    var format = format_dropdown.options[format_dropdown.selectedIndex].value;\n",
       "    fig.ondownload(fig, format);\n",
       "}\n",
       "\n",
       "\n",
       "mpl.figure.prototype.handle_resize = function(fig, msg) {\n",
       "    var size = msg['size'];\n",
       "    if (size[0] != fig.canvas.width || size[1] != fig.canvas.height) {\n",
       "        fig._resize_canvas(size[0], size[1]);\n",
       "        fig.send_message(\"refresh\", {});\n",
       "    };\n",
       "}\n",
       "\n",
       "mpl.figure.prototype.handle_rubberband = function(fig, msg) {\n",
       "    var x0 = msg['x0'] / mpl.ratio;\n",
       "    var y0 = (fig.canvas.height - msg['y0']) / mpl.ratio;\n",
       "    var x1 = msg['x1'] / mpl.ratio;\n",
       "    var y1 = (fig.canvas.height - msg['y1']) / mpl.ratio;\n",
       "    x0 = Math.floor(x0) + 0.5;\n",
       "    y0 = Math.floor(y0) + 0.5;\n",
       "    x1 = Math.floor(x1) + 0.5;\n",
       "    y1 = Math.floor(y1) + 0.5;\n",
       "    var min_x = Math.min(x0, x1);\n",
       "    var min_y = Math.min(y0, y1);\n",
       "    var width = Math.abs(x1 - x0);\n",
       "    var height = Math.abs(y1 - y0);\n",
       "\n",
       "    fig.rubberband_context.clearRect(\n",
       "        0, 0, fig.canvas.width, fig.canvas.height);\n",
       "\n",
       "    fig.rubberband_context.strokeRect(min_x, min_y, width, height);\n",
       "}\n",
       "\n",
       "mpl.figure.prototype.handle_figure_label = function(fig, msg) {\n",
       "    // Updates the figure title.\n",
       "    fig.header.textContent = msg['label'];\n",
       "}\n",
       "\n",
       "mpl.figure.prototype.handle_cursor = function(fig, msg) {\n",
       "    var cursor = msg['cursor'];\n",
       "    switch(cursor)\n",
       "    {\n",
       "    case 0:\n",
       "        cursor = 'pointer';\n",
       "        break;\n",
       "    case 1:\n",
       "        cursor = 'default';\n",
       "        break;\n",
       "    case 2:\n",
       "        cursor = 'crosshair';\n",
       "        break;\n",
       "    case 3:\n",
       "        cursor = 'move';\n",
       "        break;\n",
       "    }\n",
       "    fig.rubberband_canvas.style.cursor = cursor;\n",
       "}\n",
       "\n",
       "mpl.figure.prototype.handle_message = function(fig, msg) {\n",
       "    fig.message.textContent = msg['message'];\n",
       "}\n",
       "\n",
       "mpl.figure.prototype.handle_draw = function(fig, msg) {\n",
       "    // Request the server to send over a new figure.\n",
       "    fig.send_draw_message();\n",
       "}\n",
       "\n",
       "mpl.figure.prototype.handle_image_mode = function(fig, msg) {\n",
       "    fig.image_mode = msg['mode'];\n",
       "}\n",
       "\n",
       "mpl.figure.prototype.updated_canvas_event = function() {\n",
       "    // Called whenever the canvas gets updated.\n",
       "    this.send_message(\"ack\", {});\n",
       "}\n",
       "\n",
       "// A function to construct a web socket function for onmessage handling.\n",
       "// Called in the figure constructor.\n",
       "mpl.figure.prototype._make_on_message_function = function(fig) {\n",
       "    return function socket_on_message(evt) {\n",
       "        if (evt.data instanceof Blob) {\n",
       "            /* FIXME: We get \"Resource interpreted as Image but\n",
       "             * transferred with MIME type text/plain:\" errors on\n",
       "             * Chrome.  But how to set the MIME type?  It doesn't seem\n",
       "             * to be part of the websocket stream */\n",
       "            evt.data.type = \"image/png\";\n",
       "\n",
       "            /* Free the memory for the previous frames */\n",
       "            if (fig.imageObj.src) {\n",
       "                (window.URL || window.webkitURL).revokeObjectURL(\n",
       "                    fig.imageObj.src);\n",
       "            }\n",
       "\n",
       "            fig.imageObj.src = (window.URL || window.webkitURL).createObjectURL(\n",
       "                evt.data);\n",
       "            fig.updated_canvas_event();\n",
       "            fig.waiting = false;\n",
       "            return;\n",
       "        }\n",
       "        else if (typeof evt.data === 'string' && evt.data.slice(0, 21) == \"data:image/png;base64\") {\n",
       "            fig.imageObj.src = evt.data;\n",
       "            fig.updated_canvas_event();\n",
       "            fig.waiting = false;\n",
       "            return;\n",
       "        }\n",
       "\n",
       "        var msg = JSON.parse(evt.data);\n",
       "        var msg_type = msg['type'];\n",
       "\n",
       "        // Call the  \"handle_{type}\" callback, which takes\n",
       "        // the figure and JSON message as its only arguments.\n",
       "        try {\n",
       "            var callback = fig[\"handle_\" + msg_type];\n",
       "        } catch (e) {\n",
       "            console.log(\"No handler for the '\" + msg_type + \"' message type: \", msg);\n",
       "            return;\n",
       "        }\n",
       "\n",
       "        if (callback) {\n",
       "            try {\n",
       "                // console.log(\"Handling '\" + msg_type + \"' message: \", msg);\n",
       "                callback(fig, msg);\n",
       "            } catch (e) {\n",
       "                console.log(\"Exception inside the 'handler_\" + msg_type + \"' callback:\", e, e.stack, msg);\n",
       "            }\n",
       "        }\n",
       "    };\n",
       "}\n",
       "\n",
       "// from http://stackoverflow.com/questions/1114465/getting-mouse-location-in-canvas\n",
       "mpl.findpos = function(e) {\n",
       "    //this section is from http://www.quirksmode.org/js/events_properties.html\n",
       "    var targ;\n",
       "    if (!e)\n",
       "        e = window.event;\n",
       "    if (e.target)\n",
       "        targ = e.target;\n",
       "    else if (e.srcElement)\n",
       "        targ = e.srcElement;\n",
       "    if (targ.nodeType == 3) // defeat Safari bug\n",
       "        targ = targ.parentNode;\n",
       "\n",
       "    // jQuery normalizes the pageX and pageY\n",
       "    // pageX,Y are the mouse positions relative to the document\n",
       "    // offset() returns the position of the element relative to the document\n",
       "    var x = e.pageX - $(targ).offset().left;\n",
       "    var y = e.pageY - $(targ).offset().top;\n",
       "\n",
       "    return {\"x\": x, \"y\": y};\n",
       "};\n",
       "\n",
       "/*\n",
       " * return a copy of an object with only non-object keys\n",
       " * we need this to avoid circular references\n",
       " * http://stackoverflow.com/a/24161582/3208463\n",
       " */\n",
       "function simpleKeys (original) {\n",
       "  return Object.keys(original).reduce(function (obj, key) {\n",
       "    if (typeof original[key] !== 'object')\n",
       "        obj[key] = original[key]\n",
       "    return obj;\n",
       "  }, {});\n",
       "}\n",
       "\n",
       "mpl.figure.prototype.mouse_event = function(event, name) {\n",
       "    var canvas_pos = mpl.findpos(event)\n",
       "\n",
       "    if (name === 'button_press')\n",
       "    {\n",
       "        this.canvas.focus();\n",
       "        this.canvas_div.focus();\n",
       "    }\n",
       "\n",
       "    var x = canvas_pos.x * mpl.ratio;\n",
       "    var y = canvas_pos.y * mpl.ratio;\n",
       "\n",
       "    this.send_message(name, {x: x, y: y, button: event.button,\n",
       "                             step: event.step,\n",
       "                             guiEvent: simpleKeys(event)});\n",
       "\n",
       "    /* This prevents the web browser from automatically changing to\n",
       "     * the text insertion cursor when the button is pressed.  We want\n",
       "     * to control all of the cursor setting manually through the\n",
       "     * 'cursor' event from matplotlib */\n",
       "    event.preventDefault();\n",
       "    return false;\n",
       "}\n",
       "\n",
       "mpl.figure.prototype._key_event_extra = function(event, name) {\n",
       "    // Handle any extra behaviour associated with a key event\n",
       "}\n",
       "\n",
       "mpl.figure.prototype.key_event = function(event, name) {\n",
       "\n",
       "    // Prevent repeat events\n",
       "    if (name == 'key_press')\n",
       "    {\n",
       "        if (event.which === this._key)\n",
       "            return;\n",
       "        else\n",
       "            this._key = event.which;\n",
       "    }\n",
       "    if (name == 'key_release')\n",
       "        this._key = null;\n",
       "\n",
       "    var value = '';\n",
       "    if (event.ctrlKey && event.which != 17)\n",
       "        value += \"ctrl+\";\n",
       "    if (event.altKey && event.which != 18)\n",
       "        value += \"alt+\";\n",
       "    if (event.shiftKey && event.which != 16)\n",
       "        value += \"shift+\";\n",
       "\n",
       "    value += 'k';\n",
       "    value += event.which.toString();\n",
       "\n",
       "    this._key_event_extra(event, name);\n",
       "\n",
       "    this.send_message(name, {key: value,\n",
       "                             guiEvent: simpleKeys(event)});\n",
       "    return false;\n",
       "}\n",
       "\n",
       "mpl.figure.prototype.toolbar_button_onclick = function(name) {\n",
       "    if (name == 'download') {\n",
       "        this.handle_save(this, null);\n",
       "    } else {\n",
       "        this.send_message(\"toolbar_button\", {name: name});\n",
       "    }\n",
       "};\n",
       "\n",
       "mpl.figure.prototype.toolbar_button_onmouseover = function(tooltip) {\n",
       "    this.message.textContent = tooltip;\n",
       "};\n",
       "mpl.toolbar_items = [[\"Home\", \"Reset original view\", \"fa fa-home icon-home\", \"home\"], [\"Back\", \"Back to  previous view\", \"fa fa-arrow-left icon-arrow-left\", \"back\"], [\"Forward\", \"Forward to next view\", \"fa fa-arrow-right icon-arrow-right\", \"forward\"], [\"\", \"\", \"\", \"\"], [\"Pan\", \"Pan axes with left mouse, zoom with right\", \"fa fa-arrows icon-move\", \"pan\"], [\"Zoom\", \"Zoom to rectangle\", \"fa fa-square-o icon-check-empty\", \"zoom\"], [\"\", \"\", \"\", \"\"], [\"Download\", \"Download plot\", \"fa fa-floppy-o icon-save\", \"download\"]];\n",
       "\n",
       "mpl.extensions = [\"eps\", \"jpeg\", \"pdf\", \"png\", \"ps\", \"raw\", \"svg\", \"tif\"];\n",
       "\n",
       "mpl.default_extension = \"png\";var comm_websocket_adapter = function(comm) {\n",
       "    // Create a \"websocket\"-like object which calls the given IPython comm\n",
       "    // object with the appropriate methods. Currently this is a non binary\n",
       "    // socket, so there is still some room for performance tuning.\n",
       "    var ws = {};\n",
       "\n",
       "    ws.close = function() {\n",
       "        comm.close()\n",
       "    };\n",
       "    ws.send = function(m) {\n",
       "        //console.log('sending', m);\n",
       "        comm.send(m);\n",
       "    };\n",
       "    // Register the callback with on_msg.\n",
       "    comm.on_msg(function(msg) {\n",
       "        //console.log('receiving', msg['content']['data'], msg);\n",
       "        // Pass the mpl event to the overriden (by mpl) onmessage function.\n",
       "        ws.onmessage(msg['content']['data'])\n",
       "    });\n",
       "    return ws;\n",
       "}\n",
       "\n",
       "mpl.mpl_figure_comm = function(comm, msg) {\n",
       "    // This is the function which gets called when the mpl process\n",
       "    // starts-up an IPython Comm through the \"matplotlib\" channel.\n",
       "\n",
       "    var id = msg.content.data.id;\n",
       "    // Get hold of the div created by the display call when the Comm\n",
       "    // socket was opened in Python.\n",
       "    var element = $(\"#\" + id);\n",
       "    var ws_proxy = comm_websocket_adapter(comm)\n",
       "\n",
       "    function ondownload(figure, format) {\n",
       "        window.open(figure.imageObj.src);\n",
       "    }\n",
       "\n",
       "    var fig = new mpl.figure(id, ws_proxy,\n",
       "                           ondownload,\n",
       "                           element.get(0));\n",
       "\n",
       "    // Call onopen now - mpl needs it, as it is assuming we've passed it a real\n",
       "    // web socket which is closed, not our websocket->open comm proxy.\n",
       "    ws_proxy.onopen();\n",
       "\n",
       "    fig.parent_element = element.get(0);\n",
       "    fig.cell_info = mpl.find_output_cell(\"<div id='\" + id + \"'></div>\");\n",
       "    if (!fig.cell_info) {\n",
       "        console.error(\"Failed to find cell for figure\", id, fig);\n",
       "        return;\n",
       "    }\n",
       "\n",
       "    var output_index = fig.cell_info[2]\n",
       "    var cell = fig.cell_info[0];\n",
       "\n",
       "};\n",
       "\n",
       "mpl.figure.prototype.handle_close = function(fig, msg) {\n",
       "    var width = fig.canvas.width/mpl.ratio\n",
       "    fig.root.unbind('remove')\n",
       "\n",
       "    // Update the output cell to use the data from the current canvas.\n",
       "    fig.push_to_output();\n",
       "    var dataURL = fig.canvas.toDataURL();\n",
       "    // Re-enable the keyboard manager in IPython - without this line, in FF,\n",
       "    // the notebook keyboard shortcuts fail.\n",
       "    IPython.keyboard_manager.enable()\n",
       "    $(fig.parent_element).html('<img src=\"' + dataURL + '\" width=\"' + width + '\">');\n",
       "    fig.close_ws(fig, msg);\n",
       "}\n",
       "\n",
       "mpl.figure.prototype.close_ws = function(fig, msg){\n",
       "    fig.send_message('closing', msg);\n",
       "    // fig.ws.close()\n",
       "}\n",
       "\n",
       "mpl.figure.prototype.push_to_output = function(remove_interactive) {\n",
       "    // Turn the data on the canvas into data in the output cell.\n",
       "    var width = this.canvas.width/mpl.ratio\n",
       "    var dataURL = this.canvas.toDataURL();\n",
       "    this.cell_info[1]['text/html'] = '<img src=\"' + dataURL + '\" width=\"' + width + '\">';\n",
       "}\n",
       "\n",
       "mpl.figure.prototype.updated_canvas_event = function() {\n",
       "    // Tell IPython that the notebook contents must change.\n",
       "    IPython.notebook.set_dirty(true);\n",
       "    this.send_message(\"ack\", {});\n",
       "    var fig = this;\n",
       "    // Wait a second, then push the new image to the DOM so\n",
       "    // that it is saved nicely (might be nice to debounce this).\n",
       "    setTimeout(function () { fig.push_to_output() }, 1000);\n",
       "}\n",
       "\n",
       "mpl.figure.prototype._init_toolbar = function() {\n",
       "    var fig = this;\n",
       "\n",
       "    var nav_element = $('<div/>')\n",
       "    nav_element.attr('style', 'width: 100%');\n",
       "    this.root.append(nav_element);\n",
       "\n",
       "    // Define a callback function for later on.\n",
       "    function toolbar_event(event) {\n",
       "        return fig.toolbar_button_onclick(event['data']);\n",
       "    }\n",
       "    function toolbar_mouse_event(event) {\n",
       "        return fig.toolbar_button_onmouseover(event['data']);\n",
       "    }\n",
       "\n",
       "    for(var toolbar_ind in mpl.toolbar_items){\n",
       "        var name = mpl.toolbar_items[toolbar_ind][0];\n",
       "        var tooltip = mpl.toolbar_items[toolbar_ind][1];\n",
       "        var image = mpl.toolbar_items[toolbar_ind][2];\n",
       "        var method_name = mpl.toolbar_items[toolbar_ind][3];\n",
       "\n",
       "        if (!name) { continue; };\n",
       "\n",
       "        var button = $('<button class=\"btn btn-default\" href=\"#\" title=\"' + name + '\"><i class=\"fa ' + image + ' fa-lg\"></i></button>');\n",
       "        button.click(method_name, toolbar_event);\n",
       "        button.mouseover(tooltip, toolbar_mouse_event);\n",
       "        nav_element.append(button);\n",
       "    }\n",
       "\n",
       "    // Add the status bar.\n",
       "    var status_bar = $('<span class=\"mpl-message\" style=\"text-align:right; float: right;\"/>');\n",
       "    nav_element.append(status_bar);\n",
       "    this.message = status_bar[0];\n",
       "\n",
       "    // Add the close button to the window.\n",
       "    var buttongrp = $('<div class=\"btn-group inline pull-right\"></div>');\n",
       "    var button = $('<button class=\"btn btn-mini btn-primary\" href=\"#\" title=\"Stop Interaction\"><i class=\"fa fa-power-off icon-remove icon-large\"></i></button>');\n",
       "    button.click(function (evt) { fig.handle_close(fig, {}); } );\n",
       "    button.mouseover('Stop Interaction', toolbar_mouse_event);\n",
       "    buttongrp.append(button);\n",
       "    var titlebar = this.root.find($('.ui-dialog-titlebar'));\n",
       "    titlebar.prepend(buttongrp);\n",
       "}\n",
       "\n",
       "mpl.figure.prototype._root_extra_style = function(el){\n",
       "    var fig = this\n",
       "    el.on(\"remove\", function(){\n",
       "\tfig.close_ws(fig, {});\n",
       "    });\n",
       "}\n",
       "\n",
       "mpl.figure.prototype._canvas_extra_style = function(el){\n",
       "    // this is important to make the div 'focusable\n",
       "    el.attr('tabindex', 0)\n",
       "    // reach out to IPython and tell the keyboard manager to turn it's self\n",
       "    // off when our div gets focus\n",
       "\n",
       "    // location in version 3\n",
       "    if (IPython.notebook.keyboard_manager) {\n",
       "        IPython.notebook.keyboard_manager.register_events(el);\n",
       "    }\n",
       "    else {\n",
       "        // location in version 2\n",
       "        IPython.keyboard_manager.register_events(el);\n",
       "    }\n",
       "\n",
       "}\n",
       "\n",
       "mpl.figure.prototype._key_event_extra = function(event, name) {\n",
       "    var manager = IPython.notebook.keyboard_manager;\n",
       "    if (!manager)\n",
       "        manager = IPython.keyboard_manager;\n",
       "\n",
       "    // Check for shift+enter\n",
       "    if (event.shiftKey && event.which == 13) {\n",
       "        this.canvas_div.blur();\n",
       "        // select the cell after this one\n",
       "        var index = IPython.notebook.find_cell_index(this.cell_info[0]);\n",
       "        IPython.notebook.select(index + 1);\n",
       "    }\n",
       "}\n",
       "\n",
       "mpl.figure.prototype.handle_save = function(fig, msg) {\n",
       "    fig.ondownload(fig, null);\n",
       "}\n",
       "\n",
       "\n",
       "mpl.find_output_cell = function(html_output) {\n",
       "    // Return the cell and output element which can be found *uniquely* in the notebook.\n",
       "    // Note - this is a bit hacky, but it is done because the \"notebook_saving.Notebook\"\n",
       "    // IPython event is triggered only after the cells have been serialised, which for\n",
       "    // our purposes (turning an active figure into a static one), is too late.\n",
       "    var cells = IPython.notebook.get_cells();\n",
       "    var ncells = cells.length;\n",
       "    for (var i=0; i<ncells; i++) {\n",
       "        var cell = cells[i];\n",
       "        if (cell.cell_type === 'code'){\n",
       "            for (var j=0; j<cell.output_area.outputs.length; j++) {\n",
       "                var data = cell.output_area.outputs[j];\n",
       "                if (data.data) {\n",
       "                    // IPython >= 3 moved mimebundle to data attribute of output\n",
       "                    data = data.data;\n",
       "                }\n",
       "                if (data['text/html'] == html_output) {\n",
       "                    return [cell, data, j];\n",
       "                }\n",
       "            }\n",
       "        }\n",
       "    }\n",
       "}\n",
       "\n",
       "// Register the function which deals with the matplotlib target/channel.\n",
       "// The kernel may be null if the page has been refreshed.\n",
       "if (IPython.notebook.kernel != null) {\n",
       "    IPython.notebook.kernel.comm_manager.register_target('matplotlib', mpl.mpl_figure_comm);\n",
       "}\n"
      ],
      "text/plain": [
       "<IPython.core.display.Javascript object>"
      ]
     },
     "metadata": {},
     "output_type": "display_data"
    },
    {
     "data": {
      "text/html": [
       "<img src=\"data:image/png;base64,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\" width=\"639.9999630089984\">"
      ],
      "text/plain": [
       "<IPython.core.display.HTML object>"
      ]
     },
     "metadata": {},
     "output_type": "display_data"
    },
    {
     "data": {
      "text/plain": [
       "[<matplotlib.lines.Line2D at 0x7eb0ac8>]"
      ]
     },
     "execution_count": 5,
     "metadata": {},
     "output_type": "execute_result"
    }
   ],
   "source": [
    "%matplotlib notebook\n",
    "traces=Data.fromfile('traces',trace_dt,'teslib','measurement_subsystem_TB',tool='vivado')\n",
    "plt.plot(traces['slope'][1100:],'r',linewidth=1)\n",
    "plt.plot(traces['raw'][1100:],linewidth=0.5)\n",
    "plt.plot(traces['filtered'][1100:],'k',linewidth=2)"
   ]
  },
  {
   "cell_type": "code",
   "execution_count": 6,
   "metadata": {
    "collapsed": false,
    "run_control": {
     "frozen": false,
     "read_only": false
    },
    "scrolled": false
   },
   "outputs": [
    {
     "data": {
      "application/javascript": [
       "/* Put everything inside the global mpl namespace */\n",
       "window.mpl = {};\n",
       "\n",
       "\n",
       "mpl.get_websocket_type = function() {\n",
       "    if (typeof(WebSocket) !== 'undefined') {\n",
       "        return WebSocket;\n",
       "    } else if (typeof(MozWebSocket) !== 'undefined') {\n",
       "        return MozWebSocket;\n",
       "    } else {\n",
       "        alert('Your browser does not have WebSocket support.' +\n",
       "              'Please try Chrome, Safari or Firefox ≥ 6. ' +\n",
       "              'Firefox 4 and 5 are also supported but you ' +\n",
       "              'have to enable WebSockets in about:config.');\n",
       "    };\n",
       "}\n",
       "\n",
       "mpl.figure = function(figure_id, websocket, ondownload, parent_element) {\n",
       "    this.id = figure_id;\n",
       "\n",
       "    this.ws = websocket;\n",
       "\n",
       "    this.supports_binary = (this.ws.binaryType != undefined);\n",
       "\n",
       "    if (!this.supports_binary) {\n",
       "        var warnings = document.getElementById(\"mpl-warnings\");\n",
       "        if (warnings) {\n",
       "            warnings.style.display = 'block';\n",
       "            warnings.textContent = (\n",
       "                \"This browser does not support binary websocket messages. \" +\n",
       "                    \"Performance may be slow.\");\n",
       "        }\n",
       "    }\n",
       "\n",
       "    this.imageObj = new Image();\n",
       "\n",
       "    this.context = undefined;\n",
       "    this.message = undefined;\n",
       "    this.canvas = undefined;\n",
       "    this.rubberband_canvas = undefined;\n",
       "    this.rubberband_context = undefined;\n",
       "    this.format_dropdown = undefined;\n",
       "\n",
       "    this.image_mode = 'full';\n",
       "\n",
       "    this.root = $('<div/>');\n",
       "    this._root_extra_style(this.root)\n",
       "    this.root.attr('style', 'display: inline-block');\n",
       "\n",
       "    $(parent_element).append(this.root);\n",
       "\n",
       "    this._init_header(this);\n",
       "    this._init_canvas(this);\n",
       "    this._init_toolbar(this);\n",
       "\n",
       "    var fig = this;\n",
       "\n",
       "    this.waiting = false;\n",
       "\n",
       "    this.ws.onopen =  function () {\n",
       "            fig.send_message(\"supports_binary\", {value: fig.supports_binary});\n",
       "            fig.send_message(\"send_image_mode\", {});\n",
       "            if (mpl.ratio != 1) {\n",
       "                fig.send_message(\"set_dpi_ratio\", {'dpi_ratio': mpl.ratio});\n",
       "            }\n",
       "            fig.send_message(\"refresh\", {});\n",
       "        }\n",
       "\n",
       "    this.imageObj.onload = function() {\n",
       "            if (fig.image_mode == 'full') {\n",
       "                // Full images could contain transparency (where diff images\n",
       "                // almost always do), so we need to clear the canvas so that\n",
       "                // there is no ghosting.\n",
       "                fig.context.clearRect(0, 0, fig.canvas.width, fig.canvas.height);\n",
       "            }\n",
       "            fig.context.drawImage(fig.imageObj, 0, 0);\n",
       "        };\n",
       "\n",
       "    this.imageObj.onunload = function() {\n",
       "        this.ws.close();\n",
       "    }\n",
       "\n",
       "    this.ws.onmessage = this._make_on_message_function(this);\n",
       "\n",
       "    this.ondownload = ondownload;\n",
       "}\n",
       "\n",
       "mpl.figure.prototype._init_header = function() {\n",
       "    var titlebar = $(\n",
       "        '<div class=\"ui-dialog-titlebar ui-widget-header ui-corner-all ' +\n",
       "        'ui-helper-clearfix\"/>');\n",
       "    var titletext = $(\n",
       "        '<div class=\"ui-dialog-title\" style=\"width: 100%; ' +\n",
       "        'text-align: center; padding: 3px;\"/>');\n",
       "    titlebar.append(titletext)\n",
       "    this.root.append(titlebar);\n",
       "    this.header = titletext[0];\n",
       "}\n",
       "\n",
       "\n",
       "\n",
       "mpl.figure.prototype._canvas_extra_style = function(canvas_div) {\n",
       "\n",
       "}\n",
       "\n",
       "\n",
       "mpl.figure.prototype._root_extra_style = function(canvas_div) {\n",
       "\n",
       "}\n",
       "\n",
       "mpl.figure.prototype._init_canvas = function() {\n",
       "    var fig = this;\n",
       "\n",
       "    var canvas_div = $('<div/>');\n",
       "\n",
       "    canvas_div.attr('style', 'position: relative; clear: both; outline: 0');\n",
       "\n",
       "    function canvas_keyboard_event(event) {\n",
       "        return fig.key_event(event, event['data']);\n",
       "    }\n",
       "\n",
       "    canvas_div.keydown('key_press', canvas_keyboard_event);\n",
       "    canvas_div.keyup('key_release', canvas_keyboard_event);\n",
       "    this.canvas_div = canvas_div\n",
       "    this._canvas_extra_style(canvas_div)\n",
       "    this.root.append(canvas_div);\n",
       "\n",
       "    var canvas = $('<canvas/>');\n",
       "    canvas.addClass('mpl-canvas');\n",
       "    canvas.attr('style', \"left: 0; top: 0; z-index: 0; outline: 0\")\n",
       "\n",
       "    this.canvas = canvas[0];\n",
       "    this.context = canvas[0].getContext(\"2d\");\n",
       "\n",
       "    var backingStore = this.context.backingStorePixelRatio ||\n",
       "\tthis.context.webkitBackingStorePixelRatio ||\n",
       "\tthis.context.mozBackingStorePixelRatio ||\n",
       "\tthis.context.msBackingStorePixelRatio ||\n",
       "\tthis.context.oBackingStorePixelRatio ||\n",
       "\tthis.context.backingStorePixelRatio || 1;\n",
       "\n",
       "    mpl.ratio = (window.devicePixelRatio || 1) / backingStore;\n",
       "\n",
       "    var rubberband = $('<canvas/>');\n",
       "    rubberband.attr('style', \"position: absolute; left: 0; top: 0; z-index: 1;\")\n",
       "\n",
       "    var pass_mouse_events = true;\n",
       "\n",
       "    canvas_div.resizable({\n",
       "        start: function(event, ui) {\n",
       "            pass_mouse_events = false;\n",
       "        },\n",
       "        resize: function(event, ui) {\n",
       "            fig.request_resize(ui.size.width, ui.size.height);\n",
       "        },\n",
       "        stop: function(event, ui) {\n",
       "            pass_mouse_events = true;\n",
       "            fig.request_resize(ui.size.width, ui.size.height);\n",
       "        },\n",
       "    });\n",
       "\n",
       "    function mouse_event_fn(event) {\n",
       "        if (pass_mouse_events)\n",
       "            return fig.mouse_event(event, event['data']);\n",
       "    }\n",
       "\n",
       "    rubberband.mousedown('button_press', mouse_event_fn);\n",
       "    rubberband.mouseup('button_release', mouse_event_fn);\n",
       "    // Throttle sequential mouse events to 1 every 20ms.\n",
       "    rubberband.mousemove('motion_notify', mouse_event_fn);\n",
       "\n",
       "    rubberband.mouseenter('figure_enter', mouse_event_fn);\n",
       "    rubberband.mouseleave('figure_leave', mouse_event_fn);\n",
       "\n",
       "    canvas_div.on(\"wheel\", function (event) {\n",
       "        event = event.originalEvent;\n",
       "        event['data'] = 'scroll'\n",
       "        if (event.deltaY < 0) {\n",
       "            event.step = 1;\n",
       "        } else {\n",
       "            event.step = -1;\n",
       "        }\n",
       "        mouse_event_fn(event);\n",
       "    });\n",
       "\n",
       "    canvas_div.append(canvas);\n",
       "    canvas_div.append(rubberband);\n",
       "\n",
       "    this.rubberband = rubberband;\n",
       "    this.rubberband_canvas = rubberband[0];\n",
       "    this.rubberband_context = rubberband[0].getContext(\"2d\");\n",
       "    this.rubberband_context.strokeStyle = \"#000000\";\n",
       "\n",
       "    this._resize_canvas = function(width, height) {\n",
       "        // Keep the size of the canvas, canvas container, and rubber band\n",
       "        // canvas in synch.\n",
       "        canvas_div.css('width', width)\n",
       "        canvas_div.css('height', height)\n",
       "\n",
       "        canvas.attr('width', width * mpl.ratio);\n",
       "        canvas.attr('height', height * mpl.ratio);\n",
       "        canvas.attr('style', 'width: ' + width + 'px; height: ' + height + 'px;');\n",
       "\n",
       "        rubberband.attr('width', width);\n",
       "        rubberband.attr('height', height);\n",
       "    }\n",
       "\n",
       "    // Set the figure to an initial 600x600px, this will subsequently be updated\n",
       "    // upon first draw.\n",
       "    this._resize_canvas(600, 600);\n",
       "\n",
       "    // Disable right mouse context menu.\n",
       "    $(this.rubberband_canvas).bind(\"contextmenu\",function(e){\n",
       "        return false;\n",
       "    });\n",
       "\n",
       "    function set_focus () {\n",
       "        canvas.focus();\n",
       "        canvas_div.focus();\n",
       "    }\n",
       "\n",
       "    window.setTimeout(set_focus, 100);\n",
       "}\n",
       "\n",
       "mpl.figure.prototype._init_toolbar = function() {\n",
       "    var fig = this;\n",
       "\n",
       "    var nav_element = $('<div/>')\n",
       "    nav_element.attr('style', 'width: 100%');\n",
       "    this.root.append(nav_element);\n",
       "\n",
       "    // Define a callback function for later on.\n",
       "    function toolbar_event(event) {\n",
       "        return fig.toolbar_button_onclick(event['data']);\n",
       "    }\n",
       "    function toolbar_mouse_event(event) {\n",
       "        return fig.toolbar_button_onmouseover(event['data']);\n",
       "    }\n",
       "\n",
       "    for(var toolbar_ind in mpl.toolbar_items) {\n",
       "        var name = mpl.toolbar_items[toolbar_ind][0];\n",
       "        var tooltip = mpl.toolbar_items[toolbar_ind][1];\n",
       "        var image = mpl.toolbar_items[toolbar_ind][2];\n",
       "        var method_name = mpl.toolbar_items[toolbar_ind][3];\n",
       "\n",
       "        if (!name) {\n",
       "            // put a spacer in here.\n",
       "            continue;\n",
       "        }\n",
       "        var button = $('<button/>');\n",
       "        button.addClass('ui-button ui-widget ui-state-default ui-corner-all ' +\n",
       "                        'ui-button-icon-only');\n",
       "        button.attr('role', 'button');\n",
       "        button.attr('aria-disabled', 'false');\n",
       "        button.click(method_name, toolbar_event);\n",
       "        button.mouseover(tooltip, toolbar_mouse_event);\n",
       "\n",
       "        var icon_img = $('<span/>');\n",
       "        icon_img.addClass('ui-button-icon-primary ui-icon');\n",
       "        icon_img.addClass(image);\n",
       "        icon_img.addClass('ui-corner-all');\n",
       "\n",
       "        var tooltip_span = $('<span/>');\n",
       "        tooltip_span.addClass('ui-button-text');\n",
       "        tooltip_span.html(tooltip);\n",
       "\n",
       "        button.append(icon_img);\n",
       "        button.append(tooltip_span);\n",
       "\n",
       "        nav_element.append(button);\n",
       "    }\n",
       "\n",
       "    var fmt_picker_span = $('<span/>');\n",
       "\n",
       "    var fmt_picker = $('<select/>');\n",
       "    fmt_picker.addClass('mpl-toolbar-option ui-widget ui-widget-content');\n",
       "    fmt_picker_span.append(fmt_picker);\n",
       "    nav_element.append(fmt_picker_span);\n",
       "    this.format_dropdown = fmt_picker[0];\n",
       "\n",
       "    for (var ind in mpl.extensions) {\n",
       "        var fmt = mpl.extensions[ind];\n",
       "        var option = $(\n",
       "            '<option/>', {selected: fmt === mpl.default_extension}).html(fmt);\n",
       "        fmt_picker.append(option)\n",
       "    }\n",
       "\n",
       "    // Add hover states to the ui-buttons\n",
       "    $( \".ui-button\" ).hover(\n",
       "        function() { $(this).addClass(\"ui-state-hover\");},\n",
       "        function() { $(this).removeClass(\"ui-state-hover\");}\n",
       "    );\n",
       "\n",
       "    var status_bar = $('<span class=\"mpl-message\"/>');\n",
       "    nav_element.append(status_bar);\n",
       "    this.message = status_bar[0];\n",
       "}\n",
       "\n",
       "mpl.figure.prototype.request_resize = function(x_pixels, y_pixels) {\n",
       "    // Request matplotlib to resize the figure. Matplotlib will then trigger a resize in the client,\n",
       "    // which will in turn request a refresh of the image.\n",
       "    this.send_message('resize', {'width': x_pixels, 'height': y_pixels});\n",
       "}\n",
       "\n",
       "mpl.figure.prototype.send_message = function(type, properties) {\n",
       "    properties['type'] = type;\n",
       "    properties['figure_id'] = this.id;\n",
       "    this.ws.send(JSON.stringify(properties));\n",
       "}\n",
       "\n",
       "mpl.figure.prototype.send_draw_message = function() {\n",
       "    if (!this.waiting) {\n",
       "        this.waiting = true;\n",
       "        this.ws.send(JSON.stringify({type: \"draw\", figure_id: this.id}));\n",
       "    }\n",
       "}\n",
       "\n",
       "\n",
       "mpl.figure.prototype.handle_save = function(fig, msg) {\n",
       "    var format_dropdown = fig.format_dropdown;\n",
       "    var format = format_dropdown.options[format_dropdown.selectedIndex].value;\n",
       "    fig.ondownload(fig, format);\n",
       "}\n",
       "\n",
       "\n",
       "mpl.figure.prototype.handle_resize = function(fig, msg) {\n",
       "    var size = msg['size'];\n",
       "    if (size[0] != fig.canvas.width || size[1] != fig.canvas.height) {\n",
       "        fig._resize_canvas(size[0], size[1]);\n",
       "        fig.send_message(\"refresh\", {});\n",
       "    };\n",
       "}\n",
       "\n",
       "mpl.figure.prototype.handle_rubberband = function(fig, msg) {\n",
       "    var x0 = msg['x0'] / mpl.ratio;\n",
       "    var y0 = (fig.canvas.height - msg['y0']) / mpl.ratio;\n",
       "    var x1 = msg['x1'] / mpl.ratio;\n",
       "    var y1 = (fig.canvas.height - msg['y1']) / mpl.ratio;\n",
       "    x0 = Math.floor(x0) + 0.5;\n",
       "    y0 = Math.floor(y0) + 0.5;\n",
       "    x1 = Math.floor(x1) + 0.5;\n",
       "    y1 = Math.floor(y1) + 0.5;\n",
       "    var min_x = Math.min(x0, x1);\n",
       "    var min_y = Math.min(y0, y1);\n",
       "    var width = Math.abs(x1 - x0);\n",
       "    var height = Math.abs(y1 - y0);\n",
       "\n",
       "    fig.rubberband_context.clearRect(\n",
       "        0, 0, fig.canvas.width, fig.canvas.height);\n",
       "\n",
       "    fig.rubberband_context.strokeRect(min_x, min_y, width, height);\n",
       "}\n",
       "\n",
       "mpl.figure.prototype.handle_figure_label = function(fig, msg) {\n",
       "    // Updates the figure title.\n",
       "    fig.header.textContent = msg['label'];\n",
       "}\n",
       "\n",
       "mpl.figure.prototype.handle_cursor = function(fig, msg) {\n",
       "    var cursor = msg['cursor'];\n",
       "    switch(cursor)\n",
       "    {\n",
       "    case 0:\n",
       "        cursor = 'pointer';\n",
       "        break;\n",
       "    case 1:\n",
       "        cursor = 'default';\n",
       "        break;\n",
       "    case 2:\n",
       "        cursor = 'crosshair';\n",
       "        break;\n",
       "    case 3:\n",
       "        cursor = 'move';\n",
       "        break;\n",
       "    }\n",
       "    fig.rubberband_canvas.style.cursor = cursor;\n",
       "}\n",
       "\n",
       "mpl.figure.prototype.handle_message = function(fig, msg) {\n",
       "    fig.message.textContent = msg['message'];\n",
       "}\n",
       "\n",
       "mpl.figure.prototype.handle_draw = function(fig, msg) {\n",
       "    // Request the server to send over a new figure.\n",
       "    fig.send_draw_message();\n",
       "}\n",
       "\n",
       "mpl.figure.prototype.handle_image_mode = function(fig, msg) {\n",
       "    fig.image_mode = msg['mode'];\n",
       "}\n",
       "\n",
       "mpl.figure.prototype.updated_canvas_event = function() {\n",
       "    // Called whenever the canvas gets updated.\n",
       "    this.send_message(\"ack\", {});\n",
       "}\n",
       "\n",
       "// A function to construct a web socket function for onmessage handling.\n",
       "// Called in the figure constructor.\n",
       "mpl.figure.prototype._make_on_message_function = function(fig) {\n",
       "    return function socket_on_message(evt) {\n",
       "        if (evt.data instanceof Blob) {\n",
       "            /* FIXME: We get \"Resource interpreted as Image but\n",
       "             * transferred with MIME type text/plain:\" errors on\n",
       "             * Chrome.  But how to set the MIME type?  It doesn't seem\n",
       "             * to be part of the websocket stream */\n",
       "            evt.data.type = \"image/png\";\n",
       "\n",
       "            /* Free the memory for the previous frames */\n",
       "            if (fig.imageObj.src) {\n",
       "                (window.URL || window.webkitURL).revokeObjectURL(\n",
       "                    fig.imageObj.src);\n",
       "            }\n",
       "\n",
       "            fig.imageObj.src = (window.URL || window.webkitURL).createObjectURL(\n",
       "                evt.data);\n",
       "            fig.updated_canvas_event();\n",
       "            fig.waiting = false;\n",
       "            return;\n",
       "        }\n",
       "        else if (typeof evt.data === 'string' && evt.data.slice(0, 21) == \"data:image/png;base64\") {\n",
       "            fig.imageObj.src = evt.data;\n",
       "            fig.updated_canvas_event();\n",
       "            fig.waiting = false;\n",
       "            return;\n",
       "        }\n",
       "\n",
       "        var msg = JSON.parse(evt.data);\n",
       "        var msg_type = msg['type'];\n",
       "\n",
       "        // Call the  \"handle_{type}\" callback, which takes\n",
       "        // the figure and JSON message as its only arguments.\n",
       "        try {\n",
       "            var callback = fig[\"handle_\" + msg_type];\n",
       "        } catch (e) {\n",
       "            console.log(\"No handler for the '\" + msg_type + \"' message type: \", msg);\n",
       "            return;\n",
       "        }\n",
       "\n",
       "        if (callback) {\n",
       "            try {\n",
       "                // console.log(\"Handling '\" + msg_type + \"' message: \", msg);\n",
       "                callback(fig, msg);\n",
       "            } catch (e) {\n",
       "                console.log(\"Exception inside the 'handler_\" + msg_type + \"' callback:\", e, e.stack, msg);\n",
       "            }\n",
       "        }\n",
       "    };\n",
       "}\n",
       "\n",
       "// from http://stackoverflow.com/questions/1114465/getting-mouse-location-in-canvas\n",
       "mpl.findpos = function(e) {\n",
       "    //this section is from http://www.quirksmode.org/js/events_properties.html\n",
       "    var targ;\n",
       "    if (!e)\n",
       "        e = window.event;\n",
       "    if (e.target)\n",
       "        targ = e.target;\n",
       "    else if (e.srcElement)\n",
       "        targ = e.srcElement;\n",
       "    if (targ.nodeType == 3) // defeat Safari bug\n",
       "        targ = targ.parentNode;\n",
       "\n",
       "    // jQuery normalizes the pageX and pageY\n",
       "    // pageX,Y are the mouse positions relative to the document\n",
       "    // offset() returns the position of the element relative to the document\n",
       "    var x = e.pageX - $(targ).offset().left;\n",
       "    var y = e.pageY - $(targ).offset().top;\n",
       "\n",
       "    return {\"x\": x, \"y\": y};\n",
       "};\n",
       "\n",
       "/*\n",
       " * return a copy of an object with only non-object keys\n",
       " * we need this to avoid circular references\n",
       " * http://stackoverflow.com/a/24161582/3208463\n",
       " */\n",
       "function simpleKeys (original) {\n",
       "  return Object.keys(original).reduce(function (obj, key) {\n",
       "    if (typeof original[key] !== 'object')\n",
       "        obj[key] = original[key]\n",
       "    return obj;\n",
       "  }, {});\n",
       "}\n",
       "\n",
       "mpl.figure.prototype.mouse_event = function(event, name) {\n",
       "    var canvas_pos = mpl.findpos(event)\n",
       "\n",
       "    if (name === 'button_press')\n",
       "    {\n",
       "        this.canvas.focus();\n",
       "        this.canvas_div.focus();\n",
       "    }\n",
       "\n",
       "    var x = canvas_pos.x * mpl.ratio;\n",
       "    var y = canvas_pos.y * mpl.ratio;\n",
       "\n",
       "    this.send_message(name, {x: x, y: y, button: event.button,\n",
       "                             step: event.step,\n",
       "                             guiEvent: simpleKeys(event)});\n",
       "\n",
       "    /* This prevents the web browser from automatically changing to\n",
       "     * the text insertion cursor when the button is pressed.  We want\n",
       "     * to control all of the cursor setting manually through the\n",
       "     * 'cursor' event from matplotlib */\n",
       "    event.preventDefault();\n",
       "    return false;\n",
       "}\n",
       "\n",
       "mpl.figure.prototype._key_event_extra = function(event, name) {\n",
       "    // Handle any extra behaviour associated with a key event\n",
       "}\n",
       "\n",
       "mpl.figure.prototype.key_event = function(event, name) {\n",
       "\n",
       "    // Prevent repeat events\n",
       "    if (name == 'key_press')\n",
       "    {\n",
       "        if (event.which === this._key)\n",
       "            return;\n",
       "        else\n",
       "            this._key = event.which;\n",
       "    }\n",
       "    if (name == 'key_release')\n",
       "        this._key = null;\n",
       "\n",
       "    var value = '';\n",
       "    if (event.ctrlKey && event.which != 17)\n",
       "        value += \"ctrl+\";\n",
       "    if (event.altKey && event.which != 18)\n",
       "        value += \"alt+\";\n",
       "    if (event.shiftKey && event.which != 16)\n",
       "        value += \"shift+\";\n",
       "\n",
       "    value += 'k';\n",
       "    value += event.which.toString();\n",
       "\n",
       "    this._key_event_extra(event, name);\n",
       "\n",
       "    this.send_message(name, {key: value,\n",
       "                             guiEvent: simpleKeys(event)});\n",
       "    return false;\n",
       "}\n",
       "\n",
       "mpl.figure.prototype.toolbar_button_onclick = function(name) {\n",
       "    if (name == 'download') {\n",
       "        this.handle_save(this, null);\n",
       "    } else {\n",
       "        this.send_message(\"toolbar_button\", {name: name});\n",
       "    }\n",
       "};\n",
       "\n",
       "mpl.figure.prototype.toolbar_button_onmouseover = function(tooltip) {\n",
       "    this.message.textContent = tooltip;\n",
       "};\n",
       "mpl.toolbar_items = [[\"Home\", \"Reset original view\", \"fa fa-home icon-home\", \"home\"], [\"Back\", \"Back to  previous view\", \"fa fa-arrow-left icon-arrow-left\", \"back\"], [\"Forward\", \"Forward to next view\", \"fa fa-arrow-right icon-arrow-right\", \"forward\"], [\"\", \"\", \"\", \"\"], [\"Pan\", \"Pan axes with left mouse, zoom with right\", \"fa fa-arrows icon-move\", \"pan\"], [\"Zoom\", \"Zoom to rectangle\", \"fa fa-square-o icon-check-empty\", \"zoom\"], [\"\", \"\", \"\", \"\"], [\"Download\", \"Download plot\", \"fa fa-floppy-o icon-save\", \"download\"]];\n",
       "\n",
       "mpl.extensions = [\"eps\", \"jpeg\", \"pdf\", \"png\", \"ps\", \"raw\", \"svg\", \"tif\"];\n",
       "\n",
       "mpl.default_extension = \"png\";var comm_websocket_adapter = function(comm) {\n",
       "    // Create a \"websocket\"-like object which calls the given IPython comm\n",
       "    // object with the appropriate methods. Currently this is a non binary\n",
       "    // socket, so there is still some room for performance tuning.\n",
       "    var ws = {};\n",
       "\n",
       "    ws.close = function() {\n",
       "        comm.close()\n",
       "    };\n",
       "    ws.send = function(m) {\n",
       "        //console.log('sending', m);\n",
       "        comm.send(m);\n",
       "    };\n",
       "    // Register the callback with on_msg.\n",
       "    comm.on_msg(function(msg) {\n",
       "        //console.log('receiving', msg['content']['data'], msg);\n",
       "        // Pass the mpl event to the overriden (by mpl) onmessage function.\n",
       "        ws.onmessage(msg['content']['data'])\n",
       "    });\n",
       "    return ws;\n",
       "}\n",
       "\n",
       "mpl.mpl_figure_comm = function(comm, msg) {\n",
       "    // This is the function which gets called when the mpl process\n",
       "    // starts-up an IPython Comm through the \"matplotlib\" channel.\n",
       "\n",
       "    var id = msg.content.data.id;\n",
       "    // Get hold of the div created by the display call when the Comm\n",
       "    // socket was opened in Python.\n",
       "    var element = $(\"#\" + id);\n",
       "    var ws_proxy = comm_websocket_adapter(comm)\n",
       "\n",
       "    function ondownload(figure, format) {\n",
       "        window.open(figure.imageObj.src);\n",
       "    }\n",
       "\n",
       "    var fig = new mpl.figure(id, ws_proxy,\n",
       "                           ondownload,\n",
       "                           element.get(0));\n",
       "\n",
       "    // Call onopen now - mpl needs it, as it is assuming we've passed it a real\n",
       "    // web socket which is closed, not our websocket->open comm proxy.\n",
       "    ws_proxy.onopen();\n",
       "\n",
       "    fig.parent_element = element.get(0);\n",
       "    fig.cell_info = mpl.find_output_cell(\"<div id='\" + id + \"'></div>\");\n",
       "    if (!fig.cell_info) {\n",
       "        console.error(\"Failed to find cell for figure\", id, fig);\n",
       "        return;\n",
       "    }\n",
       "\n",
       "    var output_index = fig.cell_info[2]\n",
       "    var cell = fig.cell_info[0];\n",
       "\n",
       "};\n",
       "\n",
       "mpl.figure.prototype.handle_close = function(fig, msg) {\n",
       "    var width = fig.canvas.width/mpl.ratio\n",
       "    fig.root.unbind('remove')\n",
       "\n",
       "    // Update the output cell to use the data from the current canvas.\n",
       "    fig.push_to_output();\n",
       "    var dataURL = fig.canvas.toDataURL();\n",
       "    // Re-enable the keyboard manager in IPython - without this line, in FF,\n",
       "    // the notebook keyboard shortcuts fail.\n",
       "    IPython.keyboard_manager.enable()\n",
       "    $(fig.parent_element).html('<img src=\"' + dataURL + '\" width=\"' + width + '\">');\n",
       "    fig.close_ws(fig, msg);\n",
       "}\n",
       "\n",
       "mpl.figure.prototype.close_ws = function(fig, msg){\n",
       "    fig.send_message('closing', msg);\n",
       "    // fig.ws.close()\n",
       "}\n",
       "\n",
       "mpl.figure.prototype.push_to_output = function(remove_interactive) {\n",
       "    // Turn the data on the canvas into data in the output cell.\n",
       "    var width = this.canvas.width/mpl.ratio\n",
       "    var dataURL = this.canvas.toDataURL();\n",
       "    this.cell_info[1]['text/html'] = '<img src=\"' + dataURL + '\" width=\"' + width + '\">';\n",
       "}\n",
       "\n",
       "mpl.figure.prototype.updated_canvas_event = function() {\n",
       "    // Tell IPython that the notebook contents must change.\n",
       "    IPython.notebook.set_dirty(true);\n",
       "    this.send_message(\"ack\", {});\n",
       "    var fig = this;\n",
       "    // Wait a second, then push the new image to the DOM so\n",
       "    // that it is saved nicely (might be nice to debounce this).\n",
       "    setTimeout(function () { fig.push_to_output() }, 1000);\n",
       "}\n",
       "\n",
       "mpl.figure.prototype._init_toolbar = function() {\n",
       "    var fig = this;\n",
       "\n",
       "    var nav_element = $('<div/>')\n",
       "    nav_element.attr('style', 'width: 100%');\n",
       "    this.root.append(nav_element);\n",
       "\n",
       "    // Define a callback function for later on.\n",
       "    function toolbar_event(event) {\n",
       "        return fig.toolbar_button_onclick(event['data']);\n",
       "    }\n",
       "    function toolbar_mouse_event(event) {\n",
       "        return fig.toolbar_button_onmouseover(event['data']);\n",
       "    }\n",
       "\n",
       "    for(var toolbar_ind in mpl.toolbar_items){\n",
       "        var name = mpl.toolbar_items[toolbar_ind][0];\n",
       "        var tooltip = mpl.toolbar_items[toolbar_ind][1];\n",
       "        var image = mpl.toolbar_items[toolbar_ind][2];\n",
       "        var method_name = mpl.toolbar_items[toolbar_ind][3];\n",
       "\n",
       "        if (!name) { continue; };\n",
       "\n",
       "        var button = $('<button class=\"btn btn-default\" href=\"#\" title=\"' + name + '\"><i class=\"fa ' + image + ' fa-lg\"></i></button>');\n",
       "        button.click(method_name, toolbar_event);\n",
       "        button.mouseover(tooltip, toolbar_mouse_event);\n",
       "        nav_element.append(button);\n",
       "    }\n",
       "\n",
       "    // Add the status bar.\n",
       "    var status_bar = $('<span class=\"mpl-message\" style=\"text-align:right; float: right;\"/>');\n",
       "    nav_element.append(status_bar);\n",
       "    this.message = status_bar[0];\n",
       "\n",
       "    // Add the close button to the window.\n",
       "    var buttongrp = $('<div class=\"btn-group inline pull-right\"></div>');\n",
       "    var button = $('<button class=\"btn btn-mini btn-primary\" href=\"#\" title=\"Stop Interaction\"><i class=\"fa fa-power-off icon-remove icon-large\"></i></button>');\n",
       "    button.click(function (evt) { fig.handle_close(fig, {}); } );\n",
       "    button.mouseover('Stop Interaction', toolbar_mouse_event);\n",
       "    buttongrp.append(button);\n",
       "    var titlebar = this.root.find($('.ui-dialog-titlebar'));\n",
       "    titlebar.prepend(buttongrp);\n",
       "}\n",
       "\n",
       "mpl.figure.prototype._root_extra_style = function(el){\n",
       "    var fig = this\n",
       "    el.on(\"remove\", function(){\n",
       "\tfig.close_ws(fig, {});\n",
       "    });\n",
       "}\n",
       "\n",
       "mpl.figure.prototype._canvas_extra_style = function(el){\n",
       "    // this is important to make the div 'focusable\n",
       "    el.attr('tabindex', 0)\n",
       "    // reach out to IPython and tell the keyboard manager to turn it's self\n",
       "    // off when our div gets focus\n",
       "\n",
       "    // location in version 3\n",
       "    if (IPython.notebook.keyboard_manager) {\n",
       "        IPython.notebook.keyboard_manager.register_events(el);\n",
       "    }\n",
       "    else {\n",
       "        // location in version 2\n",
       "        IPython.keyboard_manager.register_events(el);\n",
       "    }\n",
       "\n",
       "}\n",
       "\n",
       "mpl.figure.prototype._key_event_extra = function(event, name) {\n",
       "    var manager = IPython.notebook.keyboard_manager;\n",
       "    if (!manager)\n",
       "        manager = IPython.keyboard_manager;\n",
       "\n",
       "    // Check for shift+enter\n",
       "    if (event.shiftKey && event.which == 13) {\n",
       "        this.canvas_div.blur();\n",
       "        // select the cell after this one\n",
       "        var index = IPython.notebook.find_cell_index(this.cell_info[0]);\n",
       "        IPython.notebook.select(index + 1);\n",
       "    }\n",
       "}\n",
       "\n",
       "mpl.figure.prototype.handle_save = function(fig, msg) {\n",
       "    fig.ondownload(fig, null);\n",
       "}\n",
       "\n",
       "\n",
       "mpl.find_output_cell = function(html_output) {\n",
       "    // Return the cell and output element which can be found *uniquely* in the notebook.\n",
       "    // Note - this is a bit hacky, but it is done because the \"notebook_saving.Notebook\"\n",
       "    // IPython event is triggered only after the cells have been serialised, which for\n",
       "    // our purposes (turning an active figure into a static one), is too late.\n",
       "    var cells = IPython.notebook.get_cells();\n",
       "    var ncells = cells.length;\n",
       "    for (var i=0; i<ncells; i++) {\n",
       "        var cell = cells[i];\n",
       "        if (cell.cell_type === 'code'){\n",
       "            for (var j=0; j<cell.output_area.outputs.length; j++) {\n",
       "                var data = cell.output_area.outputs[j];\n",
       "                if (data.data) {\n",
       "                    // IPython >= 3 moved mimebundle to data attribute of output\n",
       "                    data = data.data;\n",
       "                }\n",
       "                if (data['text/html'] == html_output) {\n",
       "                    return [cell, data, j];\n",
       "                }\n",
       "            }\n",
       "        }\n",
       "    }\n",
       "}\n",
       "\n",
       "// Register the function which deals with the matplotlib target/channel.\n",
       "// The kernel may be null if the page has been refreshed.\n",
       "if (IPython.notebook.kernel != null) {\n",
       "    IPython.notebook.kernel.comm_manager.register_target('matplotlib', mpl.mpl_figure_comm);\n",
       "}\n"
      ],
      "text/plain": [
       "<IPython.core.display.Javascript object>"
      ]
     },
     "metadata": {},
     "output_type": "display_data"
    },
    {
     "data": {
      "text/html": [
       "<img src=\"data:image/png;base64,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\" width=\"639.9999630089984\">"
      ],
      "text/plain": [
       "<IPython.core.display.HTML object>"
      ]
     },
     "metadata": {},
     "output_type": "display_data"
    }
   ],
   "source": [
    "stream=Data.fromfile('bytestream',stream_dt,'teslib','measurement_subsystem_TB',tool='vivado')\n",
    "minmax=Data.fromfile('minmax',minmax_dt,'teslib','measurement_subsystem_TB',tool='vivado')\n",
    "bs=PacketStream(stream)\n",
    "es=bs.eventstream\n",
    "%matplotlib notebook\n",
    "for e in es:\n",
    "    if e[1]==Event.peak or e[1]==Event.pulse:\n",
    "        plot_event(e,False)"
   ]
  },
  {
   "cell_type": "code",
   "execution_count": 14,
   "metadata": {
    "collapsed": false
   },
   "outputs": [
    {
     "data": {
      "text/plain": [
       "[(0, <Event.tick: 4>, (65536, 3, 0, 0, 0, 0, 0, 0, 0, 0, 0, 0)),\n",
       " (10943, <Event.peak: 0>, (7842, -170, 2193, 10943)),\n",
       " (10948, <Event.peak: 0>, (7706, -170, 272, 5)),\n",
       " (43440, <Event.peak: 0>, (6733, -1047, 2193, 32492)),\n",
       " (43451, <Event.peak: 0>, (5895, -1047, 272, 11)),\n",
       " (45944, <Event.peak: 0>, (7826, -862, 2193, 2493)),\n",
       " (45950, <Event.peak: 0>, (7136, -862, 272, 6)),\n",
       " (60943, <Event.peak: 0>, (6793, 591, 2193, 14993)),\n",
       " (60946, <Event.peak: 0>, (7266, 591, 272, 3)),\n",
       " (65536, <Event.tick: 4>, (65536, 2, 4590, 65536, 0, 0, 0, 0, 0, 0, 0, 0))]"
      ]
     },
     "execution_count": 14,
     "metadata": {},
     "output_type": "execute_result"
    }
   ],
   "source": [
    "bs.eventstream"
   ]
  },
  {
   "cell_type": "code",
   "execution_count": 9,
   "metadata": {
    "collapsed": false,
    "run_control": {
     "frozen": false,
     "read_only": false
    },
    "scrolled": true
   },
   "outputs": [
    {
     "data": {
      "text/plain": [
       "[]"
      ]
     },
     "execution_count": 9,
     "metadata": {},
     "output_type": "execute_result"
    }
   ],
   "source": [
    "traces=Data.fromfile('traces',trace_dt,'teslib','measurement_subsystem_TB',tool='vivado')\n",
    "stream=Data.fromfile('bytestream',stream_dt,'teslib','measurement_subsystem_TB',tool='vivado')\n",
    "bs=PacketStream(stream)\n",
    "dists=bs.distributions\n",
    "#bs.packets\n",
    "dists"
   ]
  },
  {
   "cell_type": "code",
   "execution_count": 10,
   "metadata": {
    "collapsed": false
   },
   "outputs": [
    {
     "data": {
      "text/plain": [
       "[ethertype:88B5 length:48 Payload:tick frame:0 protocol:0,\n",
       " ethertype:88B5 length:88 Payload:peak frame:1 protocol:1,\n",
       " ethertype:88B5 length:48 Payload:tick frame:2 protocol:2,\n",
       " ethertype:88B5 length:104 Payload:peak frame:3 protocol:3,\n",
       " ethertype:88B5 length:48 Payload:tick frame:4 protocol:4,\n",
       " ethertype:88B5 length:88 Payload:peak frame:5 protocol:5,\n",
       " ethertype:88B5 length:48 Payload:tick frame:6 protocol:6,\n",
       " ethertype:88B5 length:56 Payload:peak frame:7 protocol:7,\n",
       " ethertype:88B5 length:48 Payload:tick frame:8 protocol:8,\n",
       " ethertype:88B5 length:72 Payload:peak frame:9 protocol:9,\n",
       " ethertype:88B5 length:48 Payload:tick frame:10 protocol:10,\n",
       " ethertype:88B5 length:104 Payload:peak frame:11 protocol:11,\n",
       " ethertype:88B5 length:48 Payload:tick frame:12 protocol:12,\n",
       " ethertype:88B5 length:104 Payload:peak frame:13 protocol:13,\n",
       " ethertype:88B5 length:48 Payload:tick frame:14 protocol:14,\n",
       " ethertype:88B5 length:104 Payload:peak frame:15 protocol:15,\n",
       " ethertype:88B5 length:48 Payload:tick frame:16 protocol:16,\n",
       " ethertype:88B5 length:104 Payload:peak frame:17 protocol:17,\n",
       " ethertype:88B5 length:48 Payload:tick frame:18 protocol:18,\n",
       " ethertype:88B5 length:88 Payload:peak frame:19 protocol:19,\n",
       " ethertype:88B5 length:48 Payload:tick frame:20 protocol:20]"
      ]
     },
     "execution_count": 10,
     "metadata": {},
     "output_type": "execute_result"
    }
   ],
   "source": [
    "bs.packets"
   ]
  },
  {
   "cell_type": "code",
   "execution_count": 20,
   "metadata": {
    "collapsed": false,
    "scrolled": false
   },
   "outputs": [
    {
     "data": {
      "text/plain": [
       "1"
      ]
     },
     "execution_count": 20,
     "metadata": {},
     "output_type": "execute_result"
    }
   ],
   "source": [
    "f=EventFlags(es[2][2]['flags'])\n",
    "f.channel"
   ]
  },
  {
   "cell_type": "code",
   "execution_count": null,
   "metadata": {
    "collapsed": false,
    "run_control": {
     "frozen": false,
     "read_only": false
    },
    "scrolled": true
   },
   "outputs": [],
   "source": [
    "import tes.mca as mca\n",
    "d=bs.distributions[0]\n",
    "eset=np.uint64(1)\n",
    "bset=np.uint64(0)\n",
    "cset=np.uint64(20)\n",
    "\n",
    "stop=d.stop_time+eset+cset\n",
    "start=d.start_time+bset+cset\n",
    "bins=np.zeros((d.last_bin+1,),dtype=np.uint32)\n",
    "\n",
    "if d.value==mca.Value.raw_signal:\n",
    "    tname='raw'\n",
    "elif d.value==mca.Value.filtered_signal:\n",
    "    tname='filtered'\n",
    "\n",
    "for i in range(start,stop):\n",
    "    s = traces[tname][i]\n",
    "    if s < d.lowest_value:\n",
    "        bins[0] += 1\n",
    "    else:\n",
    "        bin_number = s - d.lowest_value + 1\n",
    "        if bin_number < d.last_bin:\n",
    "            bins[bin_number] += 1\n",
    "        else:\n",
    "            bins[d.last_bin] += 1\n",
    "        \n",
    "bad=(bins-d.counts).nonzero()\n",
    "bad"
   ]
  },
  {
   "cell_type": "code",
   "execution_count": null,
   "metadata": {
    "collapsed": false
   },
   "outputs": [],
   "source": [
    "d.counts[bad][1:10]"
   ]
  },
  {
   "cell_type": "code",
   "execution_count": null,
   "metadata": {
    "collapsed": false
   },
   "outputs": [],
   "source": [
    "bins[bad][1:10]"
   ]
  },
  {
   "cell_type": "code",
   "execution_count": null,
   "metadata": {
    "collapsed": false
   },
   "outputs": [],
   "source": [
    "d.value"
   ]
  },
  {
   "cell_type": "code",
   "execution_count": null,
   "metadata": {
    "collapsed": false,
    "scrolled": false
   },
   "outputs": [],
   "source": [
    "%matplotlib notebook\n",
    "plt.step(np.arange(len(d.bins)),d.bins)\n",
    "# plt.step(np.arange(len(d.counts)),bins)\n",
    "plt.plot(bad,np.zeros_like(bad),'.k')"
   ]
  },
  {
   "cell_type": "code",
   "execution_count": null,
   "metadata": {
    "collapsed": false
   },
   "outputs": [],
   "source": [
    "sum(d.counts)"
   ]
  },
  {
   "cell_type": "code",
   "execution_count": null,
   "metadata": {
    "collapsed": false
   },
   "outputs": [],
   "source": [
    "2**14+2000"
   ]
  },
  {
   "cell_type": "code",
   "execution_count": null,
   "metadata": {
    "collapsed": false,
    "run_control": {
     "frozen": false,
     "read_only": false
    }
   },
   "outputs": [],
   "source": [
    "def plot_event(event_tupple):\n",
    "    pre=200\n",
    "    post=1000\n",
    "    timestamp=event_tupple[0]\n",
    "    event_type=event_tupple[1]\n",
    "    event=event_tupple[2]\n",
    "    flags=EventFlags(event['flags'])\n",
    "    print(flags)\n",
    "    print('timestamp',timestamp, 'time', event['time'])\n",
    "    if flags.type == Event.tick:\n",
    "        return\n",
    "    s=traces['filtered'][timestamp+20-pre:timestamp+20+post]\n",
    "    r=traces['raw'][timestamp+20-pre:timestamp+20+post]\n",
    "    i = np.where(abs(minmax['clk'])<=timestamp+20)[0][-1]\n",
    "    min_t=abs(minmax['clk'][i])-(timestamp+20)\n",
    "#     print(minmax['clk'][i],min_t,i,timestamp)\n",
    "    plt.plot(r,'k',linewidth=0.5)\n",
    "    plt.plot(s,'b',linewidth=2)\n",
    "    plt.plot([pre],s[pre],'sg')\n",
    "    plt.plot([pre+min_t],minmax['filtered'][i],'sr')\n",
    "    if event_type==Event.pulse:\n",
    "        for i in range(flags.peak_number):\n",
    "            p=event['peaks'][i]\n",
    "            plt.plot([0,len(s)-1],[p['height'],p['height']],':r')\n",
    "    else:\n",
    "      plt.plot([0,len(s)-1],[event['height'],event['height']],':r')\n",
    "        \n",
    "    #print(event['height'],event['minima'])\n",
    "    #print(minmax['filtered'][i]==s[pre+min_t])\n",
    "    #print(minmax['filtered'][i]==event['minima'])\n",
    "    #print(s[pre],s[pre-1])"
   ]
  },
  {
   "cell_type": "code",
   "execution_count": null,
   "metadata": {
    "collapsed": false,
    "run_control": {
     "frozen": false,
     "read_only": false
    }
   },
   "outputs": [],
   "source": [
    "pwd"
   ]
  },
  {
   "cell_type": "code",
   "execution_count": null,
   "metadata": {
    "collapsed": false
   },
   "outputs": [],
   "source": [
    "es=bs.eventstream\n",
    "es"
   ]
  },
  {
   "cell_type": "code",
   "execution_count": null,
   "metadata": {
    "collapsed": false,
    "run_control": {
     "frozen": false,
     "read_only": false
    }
   },
   "outputs": [],
   "source": [
    "%matplotlib notebook\n",
    "for e in es:\n",
    "    if e[1]==Event.peak:\n",
    "        plot_event(e)"
   ]
  },
  {
   "cell_type": "code",
   "execution_count": null,
   "metadata": {
    "collapsed": false,
    "run_control": {
     "frozen": false,
     "read_only": false
    }
   },
   "outputs": [],
   "source": [
    "es"
   ]
  },
  {
   "cell_type": "code",
   "execution_count": null,
   "metadata": {
    "collapsed": false,
    "run_control": {
     "frozen": false,
     "read_only": false
    }
   },
   "outputs": [],
   "source": [
    "dists=bs.distributions\n",
    "dists"
   ]
  },
  {
   "cell_type": "code",
   "execution_count": null,
   "metadata": {
    "collapsed": false,
    "run_control": {
     "frozen": false,
     "read_only": false
    }
   },
   "outputs": [],
   "source": [
    "bs.packets[185].payload"
   ]
  },
  {
   "cell_type": "code",
   "execution_count": null,
   "metadata": {
    "collapsed": false,
    "run_control": {
     "frozen": false,
     "read_only": false
    }
   },
   "outputs": [],
   "source": [
    "d=bs.distributions[0]\n",
    "eset=np.uint64(1)\n",
    "bset=np.uint64(0)\n",
    "cset=np.uint64(20)\n",
    "\n",
    "stop=d.stop_time+eset+cset\n",
    "start=d.start_time+bset+cset\n",
    "bins=np.zeros((d.last_bin+1,),dtype=np.uint32)\n",
    "for i in range(start,stop):\n",
    "    s = traces['raw'][i]\n",
    "    if s <= d.lowest_value:\n",
    "        bins[0] += 1\n",
    "    else:\n",
    "        bins[s-d.lowest_value] += 1\n",
    "        \n",
    "(bins-d.counts).nonzero()"
   ]
  },
  {
   "cell_type": "code",
   "execution_count": null,
   "metadata": {
    "collapsed": false,
    "run_control": {
     "frozen": false,
     "read_only": false
    }
   },
   "outputs": [],
   "source": [
    "%matplotlib notebook\n",
    "plt.step(np.arange(len(d.counts)),d.counts)"
   ]
  },
  {
   "cell_type": "code",
   "execution_count": null,
   "metadata": {
    "collapsed": false,
    "run_control": {
     "frozen": false,
     "read_only": false
    }
   },
   "outputs": [],
   "source": [
    "bins[bins.nonzero()]"
   ]
  },
  {
   "cell_type": "code",
   "execution_count": null,
   "metadata": {
    "collapsed": false,
    "run_control": {
     "frozen": false,
     "read_only": false
    }
   },
   "outputs": [],
   "source": [
    "sum(d.counts)"
   ]
  },
  {
   "cell_type": "code",
   "execution_count": null,
   "metadata": {
    "collapsed": false,
    "run_control": {
     "frozen": false,
     "read_only": false
    }
   },
   "outputs": [],
   "source": [
    "2**14+2000"
   ]
  },
  {
   "cell_type": "code",
   "execution_count": null,
   "metadata": {
    "collapsed": false,
    "run_control": {
     "frozen": false,
     "read_only": false
    }
   },
   "outputs": [],
   "source": [
    "es[3][2]['timestamp']-es[0][2]['timestamp']"
   ]
  },
  {
   "cell_type": "code",
   "execution_count": null,
   "metadata": {
    "collapsed": true,
    "run_control": {
     "frozen": false,
     "read_only": false
    }
   },
   "outputs": [],
   "source": [
    "def xings(s, thresh):\n",
    "    pos=s > thresh\n",
    "    neg=s < thresh\n",
    "    pos0=s >= thresh\n",
    "    neg0=s <= thresh\n",
    "    pos_xing_mask = np.bitwise_and(pos0[1:],neg[0:-1])  \n",
    "    neg_xing_mask = np.bitwise_and(neg0[1:],pos[0:-1])  \n",
    "    return pos_xing_mask.nonzero()[0]+1, neg_xing_mask.nonzero()[0]+1"
   ]
  },
  {
   "cell_type": "code",
   "execution_count": null,
   "metadata": {
    "collapsed": true,
    "run_control": {
     "frozen": false,
     "read_only": false
    }
   },
   "outputs": [],
   "source": [
    "from mpl_toolkits.axes_grid1 import host_subplot\n",
    "\n",
    "def plot_trace(traces,start,width):\n",
    "\n",
    "    ax = host_subplot(111)\n",
    "    axr = ax.twinx()\n",
    "    axt = ax.twiny()\n",
    "#ax.plot(t[0:-1:10],s[0:-1:10],'k')\n",
    "#ax.plot(t,s,'k')\n",
    "    axt.set_xlabel('Time ns',fontsize=18)\n",
    "    ax.set_ylabel('Voltage (Arbitary Units)',fontsize=18)\n",
    "#plt.xticks(visible=False)\n",
    "#plt.yticks(visible=False)\n",
    "#ax.set_xlim(0,t[4000000])\n",
    "#start=902000\n",
    "#width=2500\n",
    "    f=traces['filtered'][start:start+width]\n",
    "    s=traces['slope'][start:start+width]\n",
    "    t=np.arange(len(f))*4e-9\n",
    "#ts=t[pstart:pstop]\n",
    "#axins = fig.add_axes([.4, .45, .45, .4])\n",
    "    ax.set_xlim(t[0],t[-1])\n",
    "    axt.set_xlim(t[0],t[-1])\n",
    "\n",
    "    ylim=(-500,2000)\n",
    "\n",
    "    ax.set_ylim(ylim[0],ylim[1])\n",
    "    axr.set_ylim(ylim[0],ylim[1])\n",
    "\n",
    "    filtered, = ax.step(t,f,'k',lw=2,label='filtered')\n",
    "    slope, = ax.step(t,s,'b',label='slope')\n",
    "    ax.fill_between(t,0,s,alpha=.4)\n",
    "    plt.ylim=ylim\n",
    "\n",
    "pos=s>0\n",
    "neg=s<=0\n",
    "pos_xing_mask = np.bitwise_and(pos[1:-1],neg[0:-2])  \n",
    "neg_xing_mask = np.bitwise_and(neg[1:-1],pos[0:-2])  \n",
    "pos_xing=pos_xing_mask.nonzero()\n",
    "neg_xing=neg_xing_mask.nonzero()\n",
    "\n",
    "rx=[t[pos_xing[0][0]], t[neg_xing[0][0]]]\n",
    "ry=[f[pos_xing[0][0]], f[neg_xing[0][0]]]\n",
    "\n",
    "ax.fill_between(t[pos_xing[0][0]:neg_xing[0][0]],0,s[pos_xing[0][0]:neg_xing[0][0]],alpha=.4,color='r')\n",
    "\n",
    "#plt.plot(rx,[ry[0], ry[0]],'-r',lw=2)\n",
    "#plt.plot([rx[1],rx[1]], ry,'-r',lw=2)\n",
    "# thresholds\n",
    "sthresh = 600\n",
    "pthresh = 1000\n",
    "plt.plot([t[0], t[-1]], [sthresh, sthresh], '--b', lw=2)\n",
    "plt.plot([t[0], t[-1]], [pthresh, pthresh], '--k', lw=2)\n",
    "\n",
    "sthresh_xing=(s>sthresh).nonzero()[0][0]\n",
    "pthresh_xing=(f>pthresh).nonzero()[0][0]\n",
    "\n",
    "\n",
    "cf=.10\n",
    "height = ry[1]-ry[0]\n",
    "cfl=ry[0]+(height*cf)\n",
    "cfh=ry[1]-(height*cf)\n",
    "\n",
    "cfl_xing=(f>cfl).nonzero()[0][0]\n",
    "cfd_low=f[cfl_xing]\n",
    "cfh_xing=(f>cfh).nonzero()[0][0]\n",
    "cfd_high=f[cfh_xing]\n",
    "\n",
    "#plt.plot([t[cfl_xing], t[-1]],[cfd_low, cfd_low], ':r')\n",
    "#plt.plot([t[cfh_xing], t[-1]],[cfd_high, cfd_high], ':r')\n",
    "#plt.plot([x[1], t[-1]],[y[1], y[1]], ':r')\n",
    "plt.legend([filtered, slope],['Signal', 'Slope'],loc=2)\n",
    "\n",
    "#axr = ax.twinx()\n",
    "##################################################################\n",
    "#yticks=([ry[0],sthresh,pthresh,cfd_high,ry[1]])\n",
    "yticks=([sthresh,pthresh])\n",
    "axr.set_yticks(yticks)\n",
    "#yticklabels=['Start','Slope threshold','Pulse threshold','CF high','Peak']\n",
    "yticklabels=['Slope threshold','Pulse threshold']\n",
    "axr.set_yticklabels(yticklabels, color='r',fontsize=14)\n",
    "axr.get_yticklabels()[0].set_color('b')\n",
    "axr.get_yticklabels()[1].set_color('k')\n",
    "\n",
    "#xticks=([rx[0],t[cfl_xing],t[sthresh_xing],t[pthresh_xing],rx[1]])\n",
    "xticks=(t[cfl_xing],rx[1])\n",
    "#ax.set_xticks([rx[0],t[cfl_xing],t[sthresh_xing],t[pthresh_xing],rx[1]])\n",
    "ax.set_xticks(xticks)\n",
    "#xticklabels=['Start','CF low','Slope xing','Signal xing','Peak']\n",
    "xticklabels=['CF low','Peak']\n",
    "ax.set_xticklabels(xticklabels, color='r',fontsize=14)\n",
    "\n",
    "#plt.plot([t[cfh_xing], t[-1]],[cfd_high, cfd_high], ':r')\n",
    "#horoz start, stop lines\n",
    "#hpeak=ax.plot([xticks[1], t[-1]],[yticks[-1], yticks[-1]], '-.r')\n",
    "#hstart=ax.plot([xticks[0], t[-1]],[yticks[0], yticks[0]], '-.r')\n",
    "#vert start stop\n",
    "vstart=ax.plot([xticks[0], xticks[0]],[cfd_low, ylim[0]], '-.r')\n",
    "vpeak=ax.plot([xticks[1], xticks[1]],[ylim[0], ry[1]], '-.r')\n",
    "\n",
    "plt.tight_layout()\n",
    "plt.savefig('..//peakextraction7.svg')\n",
    "plt.show()\n",
    "print('risetime:',(xticks[1]-xticks[0])/4)\n",
    "print('height:',yticks[-1]-yticks[0])\n",
    "print('time:',(xticks[0]-rx[0])/4)\n",
    "print('area',sum(s[pos_xing[0][0]:neg_xing[0][0]])/256)\n"
   ]
  },
  {
   "cell_type": "code",
   "execution_count": null,
   "metadata": {
    "collapsed": true,
    "run_control": {
     "frozen": false,
     "read_only": false
    }
   },
   "outputs": [],
   "source": [
    "slope_0xings = xings(traces['slope'],0)"
   ]
  },
  {
   "cell_type": "code",
   "execution_count": null,
   "metadata": {
    "collapsed": false,
    "run_control": {
     "frozen": false,
     "read_only": false
    }
   },
   "outputs": [],
   "source": [
    "slope_0xings"
   ]
  },
  {
   "cell_type": "code",
   "execution_count": null,
   "metadata": {
    "collapsed": false,
    "run_control": {
     "frozen": false,
     "read_only": false
    }
   },
   "outputs": [],
   "source": [
    "%matplotlib notebook\n",
    "start=10000\n",
    "width=300\n",
    "plt.plot(traces['filtered'][start:start+width]/2)"
   ]
  },
  {
   "cell_type": "code",
   "execution_count": null,
   "metadata": {
    "collapsed": false,
    "run_control": {
     "frozen": false,
     "read_only": false
    }
   },
   "outputs": [],
   "source": [
    "%matplotlib notebook\n",
    "plt.plot(traces['slope'][20400:21700])"
   ]
  },
  {
   "cell_type": "code",
   "execution_count": null,
   "metadata": {
    "collapsed": false,
    "run_control": {
     "frozen": false,
     "read_only": false
    }
   },
   "outputs": [],
   "source": [
    "filtered=traces['filtered'][1100:]\n",
    "filteredL=traces['filteredL'][1100:]"
   ]
  },
  {
   "cell_type": "code",
   "execution_count": null,
   "metadata": {
    "collapsed": false,
    "run_control": {
     "frozen": false,
     "read_only": false
    }
   },
   "outputs": [],
   "source": [
    "filtered[:10]"
   ]
  },
  {
   "cell_type": "code",
   "execution_count": null,
   "metadata": {
    "collapsed": false,
    "run_control": {
     "frozen": false,
     "read_only": false
    }
   },
   "outputs": [],
   "source": [
    "filteredL[:10]/4"
   ]
  },
  {
   "cell_type": "code",
   "execution_count": null,
   "metadata": {
    "collapsed": false,
    "run_control": {
     "frozen": false,
     "read_only": false
    }
   },
   "outputs": [],
   "source": [
    "minmax_dt=np.dtype([('filtered','i4'),('low','i4'),('high','i4'),('clk','i4')])\n",
    "minmax=Data.fromfile('minmax',minmax_dt,'teslib','measurement_subsystem_TB',tool='vivado')\n",
    "fxing_dt=np.dtype([('extrema','i4'),('area','i4'),('clk','i4')])\n",
    "fxing=Data.fromfile('filteredxing',fxing_dt,'teslib','measurement_subsystem_TB',tool='vivado')"
   ]
  },
  {
   "cell_type": "code",
   "execution_count": null,
   "metadata": {
    "collapsed": false,
    "run_control": {
     "frozen": false,
     "read_only": false
    }
   },
   "outputs": [],
   "source": [
    "minmax"
   ]
  },
  {
   "cell_type": "code",
   "execution_count": null,
   "metadata": {
    "collapsed": false,
    "run_control": {
     "frozen": false,
     "read_only": false
    }
   },
   "outputs": [],
   "source": [
    "fxing"
   ]
  },
  {
   "cell_type": "code",
   "execution_count": null,
   "metadata": {
    "collapsed": false,
    "run_control": {
     "frozen": false,
     "read_only": false
    }
   },
   "outputs": [],
   "source": [
    "np.where(fxing['area']==0)"
   ]
  },
  {
   "cell_type": "code",
   "execution_count": null,
   "metadata": {
    "collapsed": false,
    "run_control": {
     "frozen": false,
     "read_only": false
    }
   },
   "outputs": [],
   "source": [
    "np.where(fxing['extrema']==0)"
   ]
  },
  {
   "cell_type": "code",
   "execution_count": null,
   "metadata": {
    "collapsed": false,
    "run_control": {
     "frozen": false,
     "read_only": false
    }
   },
   "outputs": [],
   "source": [
    "fxing[30]"
   ]
  },
  {
   "cell_type": "code",
   "execution_count": null,
   "metadata": {
    "collapsed": false,
    "run_control": {
     "frozen": false,
     "read_only": false
    }
   },
   "outputs": [],
   "source": [
    "exn=np.where(fxing['extrema']<0)\n",
    "clkn=np.where(fxing['clk']>0)"
   ]
  },
  {
   "cell_type": "code",
   "execution_count": null,
   "metadata": {
    "collapsed": true,
    "run_control": {
     "frozen": false,
     "read_only": false
    }
   },
   "outputs": [],
   "source": []
  },
  {
   "cell_type": "code",
   "execution_count": null,
   "metadata": {
    "collapsed": false,
    "run_control": {
     "frozen": false,
     "read_only": false
    }
   },
   "outputs": [],
   "source": [
    "fxing[374]"
   ]
  },
  {
   "cell_type": "code",
   "execution_count": null,
   "metadata": {
    "collapsed": false,
    "run_control": {
     "frozen": false,
     "read_only": false
    }
   },
   "outputs": [],
   "source": [
    "clkn"
   ]
  },
  {
   "cell_type": "code",
   "execution_count": null,
   "metadata": {
    "collapsed": false,
    "run_control": {
     "frozen": false,
     "read_only": false
    }
   },
   "outputs": [],
   "source": [
    "np.where(minmax[maxs[0]-1]['min']!=1)"
   ]
  },
  {
   "cell_type": "code",
   "execution_count": null,
   "metadata": {
    "collapsed": false,
    "run_control": {
     "frozen": false,
     "read_only": false
    }
   },
   "outputs": [],
   "source": [
    "minmax[maxs[0]-1][65]"
   ]
  },
  {
   "cell_type": "code",
   "execution_count": null,
   "metadata": {
    "collapsed": false,
    "run_control": {
     "frozen": false,
     "read_only": false
    }
   },
   "outputs": [],
   "source": [
    "2290-925"
   ]
  },
  {
   "cell_type": "code",
   "execution_count": null,
   "metadata": {
    "collapsed": false,
    "run_control": {
     "frozen": false,
     "read_only": false
    }
   },
   "outputs": [],
   "source": [
    "0.375*4"
   ]
  },
  {
   "cell_type": "code",
   "execution_count": null,
   "metadata": {
    "collapsed": false,
    "run_control": {
     "frozen": false,
     "read_only": false
    }
   },
   "outputs": [],
   "source": [
    "np.where(minmax['clock']==2290)"
   ]
  },
  {
   "cell_type": "code",
   "execution_count": null,
   "metadata": {
    "collapsed": false,
    "run_control": {
     "frozen": false,
     "read_only": false
    }
   },
   "outputs": [],
   "source": [
    "minmax[120:140]"
   ]
  },
  {
   "cell_type": "code",
   "execution_count": null,
   "metadata": {
    "collapsed": false,
    "run_control": {
     "frozen": false,
     "read_only": false
    }
   },
   "outputs": [],
   "source": [
    "stream_dt=np.dtype([('data','>i4'),('last','i4')])\n",
    "#stream=np.fromfile('data/stream',stream_dt)"
   ]
  },
  {
   "cell_type": "markdown",
   "metadata": {},
   "source": [
    "### bytestream stuff"
   ]
  },
  {
   "cell_type": "code",
   "execution_count": null,
   "metadata": {
    "collapsed": false,
    "run_control": {
     "frozen": false,
     "read_only": false
    }
   },
   "outputs": [],
   "source": [
    "stream_dt=np.dtype([('data','i4'),('last','i4')])\n",
    "stream=Data.fromfile('bytestream',stream_dt,'teslib','measurement_subsystem_TB',tool='vivado')\n",
    "lasts=np.where(stream['last']<=0)[0]+1\n",
    "#data=np.copy(stream['data'])"
   ]
  },
  {
   "cell_type": "code",
   "execution_count": null,
   "metadata": {
    "collapsed": false,
    "run_control": {
     "frozen": false,
     "read_only": false
    }
   },
   "outputs": [],
   "source": [
    "stream"
   ]
  },
  {
   "cell_type": "code",
   "execution_count": null,
   "metadata": {
    "collapsed": true,
    "run_control": {
     "frozen": false,
     "read_only": false
    }
   },
   "outputs": [],
   "source": []
  },
  {
   "cell_type": "code",
   "execution_count": null,
   "metadata": {
    "collapsed": true,
    "run_control": {
     "frozen": false,
     "read_only": false
    }
   },
   "outputs": [],
   "source": [
    "stream=np.fromfile('data/bytestream',stream_dt)"
   ]
  },
  {
   "cell_type": "code",
   "execution_count": null,
   "metadata": {
    "collapsed": false,
    "run_control": {
     "frozen": false,
     "read_only": false
    }
   },
   "outputs": [],
   "source": [
    "bs=PacketStream(stream)"
   ]
  },
  {
   "cell_type": "code",
   "execution_count": null,
   "metadata": {
    "collapsed": false,
    "run_control": {
     "frozen": false,
     "read_only": false
    }
   },
   "outputs": [],
   "source": [
    "bs.packets"
   ]
  },
  {
   "cell_type": "code",
   "execution_count": null,
   "metadata": {
    "collapsed": false,
    "run_control": {
     "frozen": false,
     "read_only": false
    }
   },
   "outputs": [],
   "source": [
    "bs.packets[4]"
   ]
  },
  {
   "cell_type": "code",
   "execution_count": null,
   "metadata": {
    "collapsed": true,
    "run_control": {
     "frozen": false,
     "read_only": false
    }
   },
   "outputs": [],
   "source": [
    "eheader_dt=[('etype','<u2'),('length','u2'),()]"
   ]
  },
  {
   "cell_type": "code",
   "execution_count": null,
   "metadata": {
    "collapsed": false,
    "run_control": {
     "frozen": false,
     "read_only": false
    }
   },
   "outputs": [],
   "source": [
    "'{:X}'.format(bs.packets[1].bytes[23])\n"
   ]
  },
  {
   "cell_type": "code",
   "execution_count": null,
   "metadata": {
    "collapsed": false,
    "run_control": {
     "frozen": false,
     "read_only": false
    }
   },
   "outputs": [],
   "source": [
    "'{:X}'.format(bs.packets[0].bytes[28:30].view(np.uint16)[0])"
   ]
  },
  {
   "cell_type": "code",
   "execution_count": null,
   "metadata": {
    "collapsed": true,
    "run_control": {
     "frozen": false,
     "read_only": false
    }
   },
   "outputs": [],
   "source": [
    "pulse_peak_dt=np.dtype([('height','i2'),('rise','i2'),('minima','u2'),('time','i2')])\n",
    "pulse_dt=np.dtype([('size','i2'),('resv','i2'),('flags','i2'),('time','u2'),\n",
    "                  ('area','i4'),('length','i2'),('offset','i2'),('peaks',(pulse_peak_dt,2))])"
   ]
  },
  {
   "cell_type": "code",
   "execution_count": null,
   "metadata": {
    "collapsed": false,
    "run_control": {
     "frozen": false,
     "read_only": false
    }
   },
   "outputs": [],
   "source": [
    "pulses=bs.packets[3].payload.view(pulse_dt)"
   ]
  },
  {
   "cell_type": "code",
   "execution_count": null,
   "metadata": {
    "collapsed": false,
    "run_control": {
     "frozen": false,
     "read_only": false
    }
   },
   "outputs": [],
   "source": [
    "pulses['peaks']"
   ]
  },
  {
   "cell_type": "code",
   "execution_count": null,
   "metadata": {
    "collapsed": false,
    "run_control": {
     "frozen": false,
     "read_only": false
    }
   },
   "outputs": [],
   "source": [
    "pulses['offset']"
   ]
  },
  {
   "cell_type": "code",
   "execution_count": null,
   "metadata": {
    "collapsed": false,
    "run_control": {
     "frozen": false,
     "read_only": false
    }
   },
   "outputs": [],
   "source": [
    "pulses['length']"
   ]
  },
  {
   "cell_type": "code",
   "execution_count": null,
   "metadata": {
    "collapsed": false,
    "run_control": {
     "frozen": false,
     "read_only": false
    }
   },
   "outputs": [],
   "source": [
    "class eflags:\n",
    "    def __init__(self,uint16):\n",
    "        self.new_window=np.bitwise_and(uint16,0x00000001)!=0\n",
    "        self.tick=np.bitwise_and(uint16,0x00000002)!=0\n",
    "        self.type=np.right_shift(np.bitwise_and(uint16,0x0000000c),2)\n",
    "        \n",
    "    def __repr__(self):\n",
    "        return 'New window:{:}\\n'.format(self.new_window) + \\\n",
    "               'Tick:{:}\\n'.format(self.tick) + \\\n",
    "               'Type:{:}\\n'.format(self.type) "
   ]
  },
  {
   "cell_type": "code",
   "execution_count": null,
   "metadata": {
    "collapsed": false,
    "run_control": {
     "frozen": false,
     "read_only": false
    }
   },
   "outputs": [],
   "source": [
    "f=eflags(pulses[0]['flags'])\n",
    "f"
   ]
  },
  {
   "cell_type": "code",
   "execution_count": null,
   "metadata": {
    "collapsed": false,
    "run_control": {
     "frozen": false,
     "read_only": false
    }
   },
   "outputs": [],
   "source": [
    "'{:X}'.format(bs.packets[3].bytes[13:14].view(np.uint16))"
   ]
  },
  {
   "cell_type": "code",
   "execution_count": null,
   "metadata": {
    "collapsed": true,
    "run_control": {
     "frozen": false,
     "read_only": false
    }
   },
   "outputs": [],
   "source": []
  },
  {
   "cell_type": "code",
   "execution_count": null,
   "metadata": {
    "collapsed": false,
    "run_control": {
     "frozen": false,
     "read_only": false
    }
   },
   "outputs": [],
   "source": [
    "'{:X}'.format(bs.packets[3].bytes[14:16].view(np.uint16)[0])"
   ]
  },
  {
   "cell_type": "code",
   "execution_count": null,
   "metadata": {
    "collapsed": false,
    "run_control": {
     "frozen": false,
     "read_only": false
    }
   },
   "outputs": [],
   "source": [
    "bs.packets[3].bytes[14:16].view(np.uint16)[0]"
   ]
  },
  {
   "cell_type": "code",
   "execution_count": null,
   "metadata": {
    "collapsed": false,
    "run_control": {
     "frozen": false,
     "read_only": false
    }
   },
   "outputs": [],
   "source": [
    "bs=np.uint8(stream['data'][:48])"
   ]
  },
  {
   "cell_type": "code",
   "execution_count": null,
   "metadata": {
    "collapsed": false,
    "run_control": {
     "frozen": false,
     "read_only": false
    }
   },
   "outputs": [],
   "source": [
    "bs"
   ]
  },
  {
   "cell_type": "code",
   "execution_count": null,
   "metadata": {
    "collapsed": false,
    "run_control": {
     "frozen": false,
     "read_only": false
    }
   },
   "outputs": [],
   "source": [
    "events=stream['data'].view(event_dt)"
   ]
  },
  {
   "cell_type": "code",
   "execution_count": null,
   "metadata": {
    "collapsed": false,
    "run_control": {
     "frozen": false,
     "read_only": false
    }
   },
   "outputs": [],
   "source": [
    "'{:X}'.format(events['flags'][0])"
   ]
  },
  {
   "cell_type": "code",
   "execution_count": null,
   "metadata": {
    "collapsed": false,
    "run_control": {
     "frozen": false,
     "read_only": false
    }
   },
   "outputs": [],
   "source": [
    "events['rise']"
   ]
  },
  {
   "cell_type": "code",
   "execution_count": null,
   "metadata": {
    "collapsed": false,
    "run_control": {
     "frozen": false,
     "read_only": false
    }
   },
   "outputs": [],
   "source": [
    "events"
   ]
  },
  {
   "cell_type": "code",
   "execution_count": null,
   "metadata": {
    "collapsed": false,
    "run_control": {
     "frozen": false,
     "read_only": false
    }
   },
   "outputs": [],
   "source": [
    "'{:04X}'.format(events['flags'][1])"
   ]
  },
  {
   "cell_type": "code",
   "execution_count": null,
   "metadata": {
    "collapsed": true,
    "run_control": {
     "frozen": false,
     "read_only": false
    }
   },
   "outputs": [],
   "source": [
    "pulse_peak_dt=np.dtype([('time','>i2'),('minima','>i2'),('rise','>u2'),('height','>i2')])\n",
    "pulse_dt=np.dtype([('time','>i2'),('flags','>i2'),('resv','>i2'),('size','>u2'),\n",
    "                  ('offset','>i2'),('length','>i2'),('area','>i4'),('peaks',(pulse_peak_dt,1))])\n",
    "data=np.copy(stream['data'])"
   ]
  },
  {
   "cell_type": "code",
   "execution_count": null,
   "metadata": {
    "collapsed": false,
    "run_control": {
     "frozen": false,
     "read_only": false
    }
   },
   "outputs": [],
   "source": [
    "pulses=data.view(pulse_dt)"
   ]
  },
  {
   "cell_type": "code",
   "execution_count": null,
   "metadata": {
    "collapsed": false,
    "run_control": {
     "frozen": false,
     "read_only": false
    }
   },
   "outputs": [],
   "source": [
    "pulses['peaks']['height']-pulses['peaks']['minima']"
   ]
  },
  {
   "cell_type": "code",
   "execution_count": null,
   "metadata": {
    "collapsed": false,
    "run_control": {
     "frozen": false,
     "read_only": false
    }
   },
   "outputs": [],
   "source": [
    "pulses['peaks']['minima']"
   ]
  },
  {
   "cell_type": "code",
   "execution_count": null,
   "metadata": {
    "collapsed": false,
    "run_control": {
     "frozen": false,
     "read_only": false
    }
   },
   "outputs": [],
   "source": [
    "peak_count=np.right_shift(np.bitwise_and(pulses['flags'],0xF000),12)\n",
    "peak_overflow=np.bitwise_and(pulses['flags'],0x0800)!=0\n",
    "channel=np.right_shift(np.bitwise_and(pulses['flags'],0x0700),8)\n",
    "timing_type=np.right_shift(np.bitwise_and(pulses['flags'],0x00C0),6)\n",
    "height_type=np.right_shift(np.bitwise_and(pulses['flags'],0x0030),4)\n",
    "event_type=np.right_shift(np.bitwise_and(pulses['flags'],0x000E),1)\n",
    "new_window=np.bitwise_and(pulses['flags'],0x0001)!=0"
   ]
  },
  {
   "cell_type": "code",
   "execution_count": null,
   "metadata": {
    "collapsed": false,
    "run_control": {
     "frozen": false,
     "read_only": false
    }
   },
   "outputs": [],
   "source": [
    "peak_overflow"
   ]
  },
  {
   "cell_type": "code",
   "execution_count": null,
   "metadata": {
    "collapsed": true,
    "run_control": {
     "frozen": false,
     "read_only": false
    }
   },
   "outputs": [],
   "source": [
    "test_dt=np.dtype(\n",
    "    [('time','i2'),('flags','i2'),('rise','u2'),('minima','i2'),('low','u8'),('high','u8')]\n",
    ")\n",
    "test=data.view(test_dt)"
   ]
  },
  {
   "cell_type": "code",
   "execution_count": null,
   "metadata": {
    "collapsed": false,
    "run_control": {
     "frozen": false,
     "read_only": false
    }
   },
   "outputs": [],
   "source": [
    "test"
   ]
  },
  {
   "cell_type": "code",
   "execution_count": null,
   "metadata": {
    "collapsed": false,
    "run_control": {
     "frozen": false,
     "read_only": false
    }
   },
   "outputs": [],
   "source": [
    "test['minima']"
   ]
  },
  {
   "cell_type": "code",
   "execution_count": null,
   "metadata": {
    "collapsed": false,
    "run_control": {
     "frozen": false,
     "read_only": false
    }
   },
   "outputs": [],
   "source": [
    "low1=np.int32(np.right_shift(np.bitwise_and(test['low'],0x03FFFF000000000),36))\n",
    "s=(np.bitwise_and(low1,0x00020000)!=0)*0xFFFC0000\n",
    "low2=np.int32(np.right_shift(np.bitwise_and(test['low'],0x000000FFFFC0000),18))\n",
    "low_threshold=np.int32(np.bitwise_and(test['low'],0x00000000003FFFF))\n",
    "high1=np.int32(np.right_shift(np.bitwise_and(test['high'],0x03FFFF000000000),36))\n",
    "high2=np.int32(np.right_shift(np.bitwise_and(test['high'],0x000000FFFFC0000),18))\n",
    "high_threshold=np.int32(np.bitwise_and(test['high'],0x00000000003FFFF))"
   ]
  },
  {
   "cell_type": "code",
   "execution_count": null,
   "metadata": {
    "collapsed": false,
    "run_control": {
     "frozen": false,
     "read_only": false
    }
   },
   "outputs": [],
   "source": [
    "np.int32(np.bitwise_or(low1,s))/8.0"
   ]
  },
  {
   "cell_type": "code",
   "execution_count": null,
   "metadata": {
    "collapsed": false,
    "run_control": {
     "frozen": false,
     "read_only": false
    }
   },
   "outputs": [],
   "source": [
    "'{:04X}'.format(low1[0])"
   ]
  },
  {
   "cell_type": "code",
   "execution_count": null,
   "metadata": {
    "collapsed": false,
    "run_control": {
     "frozen": false,
     "read_only": false
    }
   },
   "outputs": [],
   "source": [
    "high1/8.0"
   ]
  },
  {
   "cell_type": "code",
   "execution_count": null,
   "metadata": {
    "collapsed": false,
    "run_control": {
     "frozen": false,
     "read_only": false
    }
   },
   "outputs": [],
   "source": [
    "high2/8.0"
   ]
  },
  {
   "cell_type": "code",
   "execution_count": null,
   "metadata": {
    "collapsed": false,
    "run_control": {
     "frozen": false,
     "read_only": false
    }
   },
   "outputs": [],
   "source": [
    "'{:04X}'.format(high_threshold[0])"
   ]
  },
  {
   "cell_type": "code",
   "execution_count": null,
   "metadata": {
    "collapsed": false,
    "run_control": {
     "frozen": false,
     "read_only": false
    }
   },
   "outputs": [],
   "source": [
    "from enum import Enum"
   ]
  },
  {
   "cell_type": "code",
   "execution_count": null,
   "metadata": {
    "collapsed": false,
    "run_control": {
     "frozen": false,
     "read_only": false
    }
   },
   "outputs": [],
   "source": [
    "class VhdlEnum(int, Enum):\n",
    "\n",
    "    def __str__(self):\n",
    "        return self.name.replace(\"-\", \" \")\n",
    "    \n",
    "    def select(self):\n",
    "        return pow(2, self.value)\n",
    "    "
   ]
  },
  {
   "cell_type": "code",
   "execution_count": null,
   "metadata": {
    "collapsed": false,
    "run_control": {
     "frozen": false,
     "read_only": false
    }
   },
   "outputs": [],
   "source": [
    "class Test(VhdlEnum):\n",
    "    a=0\n",
    "    b=1"
   ]
  },
  {
   "cell_type": "code",
   "execution_count": null,
   "metadata": {
    "collapsed": false,
    "run_control": {
     "frozen": false,
     "read_only": false
    }
   },
   "outputs": [],
   "source": [
    "Test(0)"
   ]
  },
  {
   "cell_type": "code",
   "execution_count": null,
   "metadata": {
    "collapsed": true,
    "run_control": {
     "frozen": false,
     "read_only": false
    }
   },
   "outputs": [],
   "source": []
  }
 ],
 "metadata": {
  "anaconda-cloud": {},
  "kernelspec": {
   "display_name": "Python [conda root]",
   "language": "python",
   "name": "conda-root-py"
  },
  "language_info": {
   "codemirror_mode": {
    "name": "ipython",
    "version": 3
   },
   "file_extension": ".py",
   "mimetype": "text/x-python",
   "name": "python",
   "nbconvert_exporter": "python",
   "pygments_lexer": "ipython3",
   "version": "3.5.2"
  }
 },
 "nbformat": 4,
 "nbformat_minor": 1
}
