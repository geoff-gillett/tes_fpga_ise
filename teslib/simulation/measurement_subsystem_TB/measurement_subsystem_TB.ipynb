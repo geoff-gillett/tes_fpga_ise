{
 "cells": [
  {
   "cell_type": "code",
   "execution_count": 1,
   "metadata": {
    "collapsed": false
   },
   "outputs": [],
   "source": [
    "import sys\n",
    "import tes.simulation.data as sim\n",
    "from tes.simulation.data import PacketStream, Data, Distribution\n",
    "from tes.simulation.filesets import measurement_subsystem_TB as fileset\n",
    "import tes.simulation.plot as splt\n",
    "import numpy as np\n",
    "import matplotlib.pyplot as plt\n",
    "import math\n",
    "import collections"
   ]
  },
  {
   "cell_type": "code",
   "execution_count": 3,
   "metadata": {
    "collapsed": false
   },
   "outputs": [
    {
     "name": "stdout",
     "output_type": "stream",
     "text": [
      "Unknown ethertype:0\n",
      "Unknown ethertype:0\n"
     ]
    },
    {
     "ename": "IndexError",
     "evalue": "index 0 is out of bounds for axis 0 with size 0",
     "output_type": "error",
     "traceback": [
      "\u001b[1;31m---------------------------------------------------------------------------\u001b[0m",
      "\u001b[1;31mIndexError\u001b[0m                                Traceback (most recent call last)",
      "\u001b[1;32m<ipython-input-3-20f6ce076d23>\u001b[0m in \u001b[0;36m<module>\u001b[1;34m()\u001b[0m\n\u001b[0;32m      1\u001b[0m \u001b[0mdata\u001b[0m\u001b[1;33m=\u001b[0m\u001b[0mData\u001b[0m\u001b[1;33m(\u001b[0m\u001b[0mfileset\u001b[0m\u001b[1;33m,\u001b[0m \u001b[1;36m2\u001b[0m\u001b[1;33m,\u001b[0m \u001b[1;34m'teslib'\u001b[0m\u001b[1;33m,\u001b[0m\u001b[1;34m'measurement_subsystem_TB'\u001b[0m\u001b[1;33m)\u001b[0m\u001b[1;33m\u001b[0m\u001b[0m\n\u001b[1;32m----> 2\u001b[1;33m \u001b[0menet\u001b[0m\u001b[1;33m=\u001b[0m\u001b[0mPacketStream\u001b[0m\u001b[1;33m(\u001b[0m\u001b[0mdata\u001b[0m\u001b[1;33m.\u001b[0m\u001b[0mbyte_stream\u001b[0m\u001b[1;33m)\u001b[0m\u001b[1;33m\u001b[0m\u001b[0m\n\u001b[0m\u001b[0;32m      3\u001b[0m \u001b[0mdists\u001b[0m\u001b[1;33m=\u001b[0m\u001b[0menet\u001b[0m\u001b[1;33m.\u001b[0m\u001b[0mdistributions\u001b[0m\u001b[1;33m\u001b[0m\u001b[0m\n",
      "\u001b[1;32mc:\\TES_project\\fpga_ise\\python\\tes\\simulation\\data.py\u001b[0m in \u001b[0;36m__init__\u001b[1;34m(self, stream)\u001b[0m\n\u001b[0;32m    510\u001b[0m             \u001b[0mstart\u001b[0m \u001b[1;33m=\u001b[0m \u001b[0mend\u001b[0m\u001b[1;33m\u001b[0m\u001b[0m\n\u001b[0;32m    511\u001b[0m             \u001b[0mend\u001b[0m \u001b[1;33m=\u001b[0m \u001b[0mlen\u001b[0m\u001b[1;33m(\u001b[0m\u001b[0mself\u001b[0m\u001b[1;33m.\u001b[0m\u001b[0mbyte_stream\u001b[0m\u001b[1;33m)\u001b[0m\u001b[1;33m\u001b[0m\u001b[0m\n\u001b[1;32m--> 512\u001b[1;33m             \u001b[0mself\u001b[0m\u001b[1;33m.\u001b[0m\u001b[0mpackets\u001b[0m\u001b[1;33m.\u001b[0m\u001b[0mappend\u001b[0m\u001b[1;33m(\u001b[0m\u001b[0mPacket\u001b[0m\u001b[1;33m(\u001b[0m\u001b[0mself\u001b[0m\u001b[1;33m.\u001b[0m\u001b[0mbyte_stream\u001b[0m\u001b[1;33m[\u001b[0m\u001b[0mstart\u001b[0m\u001b[1;33m:\u001b[0m\u001b[0mend\u001b[0m\u001b[1;33m]\u001b[0m\u001b[1;33m)\u001b[0m\u001b[1;33m)\u001b[0m\u001b[1;33m\u001b[0m\u001b[0m\n\u001b[0m\u001b[0;32m    513\u001b[0m \u001b[1;33m\u001b[0m\u001b[0m\n\u001b[0;32m    514\u001b[0m     \u001b[1;33m@\u001b[0m\u001b[0mproperty\u001b[0m\u001b[1;33m\u001b[0m\u001b[0m\n",
      "\u001b[1;32mc:\\TES_project\\fpga_ise\\python\\tes\\simulation\\data.py\u001b[0m in \u001b[0;36m__init__\u001b[1;34m(self, byte_stream)\u001b[0m\n\u001b[0;32m    434\u001b[0m     \u001b[1;32mdef\u001b[0m \u001b[0m__init__\u001b[0m\u001b[1;33m(\u001b[0m\u001b[0mself\u001b[0m\u001b[1;33m,\u001b[0m \u001b[0mbyte_stream\u001b[0m\u001b[1;33m)\u001b[0m\u001b[1;33m:\u001b[0m\u001b[1;33m\u001b[0m\u001b[0m\n\u001b[0;32m    435\u001b[0m         \u001b[0mself\u001b[0m\u001b[1;33m.\u001b[0m\u001b[0mbytes\u001b[0m \u001b[1;33m=\u001b[0m \u001b[0mbyte_stream\u001b[0m\u001b[1;33m\u001b[0m\u001b[0m\n\u001b[1;32m--> 436\u001b[1;33m         \u001b[0mself\u001b[0m\u001b[1;33m.\u001b[0m\u001b[0methertype\u001b[0m \u001b[1;33m=\u001b[0m \u001b[0mbyte_stream\u001b[0m\u001b[1;33m[\u001b[0m\u001b[1;36m12\u001b[0m\u001b[1;33m:\u001b[0m\u001b[1;36m14\u001b[0m\u001b[1;33m]\u001b[0m\u001b[1;33m.\u001b[0m\u001b[0mview\u001b[0m\u001b[1;33m(\u001b[0m\u001b[0mnp\u001b[0m\u001b[1;33m.\u001b[0m\u001b[0muint16\u001b[0m\u001b[1;33m)\u001b[0m\u001b[1;33m.\u001b[0m\u001b[0mbyteswap\u001b[0m\u001b[1;33m(\u001b[0m\u001b[1;33m)\u001b[0m\u001b[1;33m[\u001b[0m\u001b[1;36m0\u001b[0m\u001b[1;33m]\u001b[0m\u001b[1;33m\u001b[0m\u001b[0m\n\u001b[0m\u001b[0;32m    437\u001b[0m         \u001b[0mself\u001b[0m\u001b[1;33m.\u001b[0m\u001b[0mlength\u001b[0m \u001b[1;33m=\u001b[0m \u001b[0mbyte_stream\u001b[0m\u001b[1;33m[\u001b[0m\u001b[1;36m14\u001b[0m\u001b[1;33m:\u001b[0m\u001b[1;36m16\u001b[0m\u001b[1;33m]\u001b[0m\u001b[1;33m.\u001b[0m\u001b[0mview\u001b[0m\u001b[1;33m(\u001b[0m\u001b[0mnp\u001b[0m\u001b[1;33m.\u001b[0m\u001b[0muint16\u001b[0m\u001b[1;33m)\u001b[0m\u001b[1;33m[\u001b[0m\u001b[1;36m0\u001b[0m\u001b[1;33m]\u001b[0m\u001b[1;33m\u001b[0m\u001b[0m\n\u001b[0;32m    438\u001b[0m         \u001b[0mself\u001b[0m\u001b[1;33m.\u001b[0m\u001b[0mpayload\u001b[0m \u001b[1;33m=\u001b[0m \u001b[0mbyte_stream\u001b[0m\u001b[1;33m[\u001b[0m\u001b[1;36m24\u001b[0m\u001b[1;33m:\u001b[0m\u001b[1;33m]\u001b[0m\u001b[1;33m\u001b[0m\u001b[0m\n",
      "\u001b[1;31mIndexError\u001b[0m: index 0 is out of bounds for axis 0 with size 0"
     ]
    }
   ],
   "source": [
    "data=Data(fileset, 2, 'teslib','measurement_subsystem_TB')\n",
    "enet=PacketStream(data.byte_stream)\n",
    "dists=enet.distributions"
   ]
  },
  {
   "cell_type": "code",
   "execution_count": 14,
   "metadata": {
    "collapsed": false
   },
   "outputs": [
    {
     "data": {
      "text/plain": [
       "array([ 90,   1,   2,   3,   4,   5, 218,   1,   2,   3,   4,   5, 136,\n",
       "       181,  40,   0,   1,   0,   1,   0,   0,   0,   0,   0, 250,   4,\n",
       "        36,   0, 240, 145,  97,  81, 250,   4,  36,   0, 241, 144,   0,\n",
       "         0,  90,   1,   2,   3,   4,   5, 218,   1,   2,   3,   4,   5], dtype=uint8)"
      ]
     },
     "execution_count": 14,
     "metadata": {},
     "output_type": "execute_result"
    }
   ],
   "source": [
    "data.byte_stream[48:100]['data']"
   ]
  },
  {
   "cell_type": "code",
   "execution_count": 6,
   "metadata": {
    "collapsed": false
   },
   "outputs": [
    {
     "name": "stdout",
     "output_type": "stream",
     "text": [
      "No distributions\n"
     ]
    }
   ],
   "source": [
    "# compare transmitted distributions with the data\n",
    "failed=False\n",
    "if dists == []:\n",
    "    print('No distributions')\n",
    "else:\n",
    "    for dist in dists:\n",
    "        dif = (dist.counts - dist.data_counts(data))[0].nonzero()\n",
    "        if dif[0].size:\n",
    "            print(\n",
    "                '{:}\\nDoes not reconcile with the data, '+\n",
    "                'Differences at {:d} indexs:\\n{:}\\n'.format(\n",
    "                    dist, dif[0].size, dif[0])\n",
    "            )\n",
    "            failed=True\n",
    "    if not failed:\n",
    "        print('Distributions agree with data')\n",
    "    \n"
   ]
  },
  {
   "cell_type": "markdown",
   "metadata": {},
   "source": [
    " ## work area"
   ]
  },
  {
   "cell_type": "code",
   "execution_count": 5,
   "metadata": {
    "collapsed": false,
    "scrolled": false
   },
   "outputs": [
    {
     "ename": "NameError",
     "evalue": "name 'enet' is not defined",
     "output_type": "error",
     "traceback": [
      "\u001b[1;31m---------------------------------------------------------------------------\u001b[0m",
      "\u001b[1;31mNameError\u001b[0m                                 Traceback (most recent call last)",
      "\u001b[1;32m<ipython-input-5-90fd8c630170>\u001b[0m in \u001b[0;36m<module>\u001b[1;34m()\u001b[0m\n\u001b[1;32m----> 1\u001b[1;33m \u001b[0menet\u001b[0m\u001b[1;33m.\u001b[0m\u001b[0mpackets\u001b[0m\u001b[1;33m\u001b[0m\u001b[0m\n\u001b[0m",
      "\u001b[1;31mNameError\u001b[0m: name 'enet' is not defined"
     ]
    }
   ],
   "source": [
    "enet.packets"
   ]
  },
  {
   "cell_type": "code",
   "execution_count": 4,
   "metadata": {
    "collapsed": false
   },
   "outputs": [
    {
     "data": {
      "text/plain": [
       "array([(36, 0, False), (38, 0, False), (40, 0, False), ...,\n",
       "       (25454, 0, False), (25456, 0, False), (25458, 0, False)], \n",
       "      dtype=[('index', '<u4'), ('data', 'u1'), ('last', '?')])"
      ]
     },
     "execution_count": 4,
     "metadata": {},
     "output_type": "execute_result"
    }
   ],
   "source": [
    "data.byte_stream"
   ]
  },
  {
   "cell_type": "code",
   "execution_count": 11,
   "metadata": {
    "collapsed": false,
    "scrolled": false
   },
   "outputs": [
    {
     "data": {
      "application/javascript": [
       "/* Put everything inside the global mpl namespace */\n",
       "window.mpl = {};\n",
       "\n",
       "mpl.get_websocket_type = function() {\n",
       "    if (typeof(WebSocket) !== 'undefined') {\n",
       "        return WebSocket;\n",
       "    } else if (typeof(MozWebSocket) !== 'undefined') {\n",
       "        return MozWebSocket;\n",
       "    } else {\n",
       "        alert('Your browser does not have WebSocket support.' +\n",
       "              'Please try Chrome, Safari or Firefox ≥ 6. ' +\n",
       "              'Firefox 4 and 5 are also supported but you ' +\n",
       "              'have to enable WebSockets in about:config.');\n",
       "    };\n",
       "}\n",
       "\n",
       "mpl.figure = function(figure_id, websocket, ondownload, parent_element) {\n",
       "    this.id = figure_id;\n",
       "\n",
       "    this.ws = websocket;\n",
       "\n",
       "    this.supports_binary = (this.ws.binaryType != undefined);\n",
       "\n",
       "    if (!this.supports_binary) {\n",
       "        var warnings = document.getElementById(\"mpl-warnings\");\n",
       "        if (warnings) {\n",
       "            warnings.style.display = 'block';\n",
       "            warnings.textContent = (\n",
       "                \"This browser does not support binary websocket messages. \" +\n",
       "                    \"Performance may be slow.\");\n",
       "        }\n",
       "    }\n",
       "\n",
       "    this.imageObj = new Image();\n",
       "\n",
       "    this.context = undefined;\n",
       "    this.message = undefined;\n",
       "    this.canvas = undefined;\n",
       "    this.rubberband_canvas = undefined;\n",
       "    this.rubberband_context = undefined;\n",
       "    this.format_dropdown = undefined;\n",
       "\n",
       "    this.image_mode = 'full';\n",
       "\n",
       "    this.root = $('<div/>');\n",
       "    this._root_extra_style(this.root)\n",
       "    this.root.attr('style', 'display: inline-block');\n",
       "\n",
       "    $(parent_element).append(this.root);\n",
       "\n",
       "    this._init_header(this);\n",
       "    this._init_canvas(this);\n",
       "    this._init_toolbar(this);\n",
       "\n",
       "    var fig = this;\n",
       "\n",
       "    this.waiting = false;\n",
       "\n",
       "    this.ws.onopen =  function () {\n",
       "            fig.send_message(\"supports_binary\", {value: fig.supports_binary});\n",
       "            fig.send_message(\"send_image_mode\", {});\n",
       "            fig.send_message(\"refresh\", {});\n",
       "        }\n",
       "\n",
       "    this.imageObj.onload = function() {\n",
       "            if (fig.image_mode == 'full') {\n",
       "                // Full images could contain transparency (where diff images\n",
       "                // almost always do), so we need to clear the canvas so that\n",
       "                // there is no ghosting.\n",
       "                fig.context.clearRect(0, 0, fig.canvas.width, fig.canvas.height);\n",
       "            }\n",
       "            fig.context.drawImage(fig.imageObj, 0, 0);\n",
       "        };\n",
       "\n",
       "    this.imageObj.onunload = function() {\n",
       "        this.ws.close();\n",
       "    }\n",
       "\n",
       "    this.ws.onmessage = this._make_on_message_function(this);\n",
       "\n",
       "    this.ondownload = ondownload;\n",
       "}\n",
       "\n",
       "mpl.figure.prototype._init_header = function() {\n",
       "    var titlebar = $(\n",
       "        '<div class=\"ui-dialog-titlebar ui-widget-header ui-corner-all ' +\n",
       "        'ui-helper-clearfix\"/>');\n",
       "    var titletext = $(\n",
       "        '<div class=\"ui-dialog-title\" style=\"width: 100%; ' +\n",
       "        'text-align: center; padding: 3px;\"/>');\n",
       "    titlebar.append(titletext)\n",
       "    this.root.append(titlebar);\n",
       "    this.header = titletext[0];\n",
       "}\n",
       "\n",
       "\n",
       "\n",
       "mpl.figure.prototype._canvas_extra_style = function(canvas_div) {\n",
       "\n",
       "}\n",
       "\n",
       "\n",
       "mpl.figure.prototype._root_extra_style = function(canvas_div) {\n",
       "\n",
       "}\n",
       "\n",
       "mpl.figure.prototype._init_canvas = function() {\n",
       "    var fig = this;\n",
       "\n",
       "    var canvas_div = $('<div/>');\n",
       "\n",
       "    canvas_div.attr('style', 'position: relative; clear: both; outline: 0');\n",
       "\n",
       "    function canvas_keyboard_event(event) {\n",
       "        return fig.key_event(event, event['data']);\n",
       "    }\n",
       "\n",
       "    canvas_div.keydown('key_press', canvas_keyboard_event);\n",
       "    canvas_div.keyup('key_release', canvas_keyboard_event);\n",
       "    this.canvas_div = canvas_div\n",
       "    this._canvas_extra_style(canvas_div)\n",
       "    this.root.append(canvas_div);\n",
       "\n",
       "    var canvas = $('<canvas/>');\n",
       "    canvas.addClass('mpl-canvas');\n",
       "    canvas.attr('style', \"left: 0; top: 0; z-index: 0; outline: 0\")\n",
       "\n",
       "    this.canvas = canvas[0];\n",
       "    this.context = canvas[0].getContext(\"2d\");\n",
       "\n",
       "    var rubberband = $('<canvas/>');\n",
       "    rubberband.attr('style', \"position: absolute; left: 0; top: 0; z-index: 1;\")\n",
       "\n",
       "    var pass_mouse_events = true;\n",
       "\n",
       "    canvas_div.resizable({\n",
       "        start: function(event, ui) {\n",
       "            pass_mouse_events = false;\n",
       "        },\n",
       "        resize: function(event, ui) {\n",
       "            fig.request_resize(ui.size.width, ui.size.height);\n",
       "        },\n",
       "        stop: function(event, ui) {\n",
       "            pass_mouse_events = true;\n",
       "            fig.request_resize(ui.size.width, ui.size.height);\n",
       "        },\n",
       "    });\n",
       "\n",
       "    function mouse_event_fn(event) {\n",
       "        if (pass_mouse_events)\n",
       "            return fig.mouse_event(event, event['data']);\n",
       "    }\n",
       "\n",
       "    rubberband.mousedown('button_press', mouse_event_fn);\n",
       "    rubberband.mouseup('button_release', mouse_event_fn);\n",
       "    // Throttle sequential mouse events to 1 every 20ms.\n",
       "    rubberband.mousemove('motion_notify', mouse_event_fn);\n",
       "\n",
       "    rubberband.mouseenter('figure_enter', mouse_event_fn);\n",
       "    rubberband.mouseleave('figure_leave', mouse_event_fn);\n",
       "\n",
       "    canvas_div.on(\"wheel\", function (event) {\n",
       "        event = event.originalEvent;\n",
       "        event['data'] = 'scroll'\n",
       "        if (event.deltaY < 0) {\n",
       "            event.step = 1;\n",
       "        } else {\n",
       "            event.step = -1;\n",
       "        }\n",
       "        mouse_event_fn(event);\n",
       "    });\n",
       "\n",
       "    canvas_div.append(canvas);\n",
       "    canvas_div.append(rubberband);\n",
       "\n",
       "    this.rubberband = rubberband;\n",
       "    this.rubberband_canvas = rubberband[0];\n",
       "    this.rubberband_context = rubberband[0].getContext(\"2d\");\n",
       "    this.rubberband_context.strokeStyle = \"#000000\";\n",
       "\n",
       "    this._resize_canvas = function(width, height) {\n",
       "        // Keep the size of the canvas, canvas container, and rubber band\n",
       "        // canvas in synch.\n",
       "        canvas_div.css('width', width)\n",
       "        canvas_div.css('height', height)\n",
       "\n",
       "        canvas.attr('width', width);\n",
       "        canvas.attr('height', height);\n",
       "\n",
       "        rubberband.attr('width', width);\n",
       "        rubberband.attr('height', height);\n",
       "    }\n",
       "\n",
       "    // Set the figure to an initial 600x600px, this will subsequently be updated\n",
       "    // upon first draw.\n",
       "    this._resize_canvas(600, 600);\n",
       "\n",
       "    // Disable right mouse context menu.\n",
       "    $(this.rubberband_canvas).bind(\"contextmenu\",function(e){\n",
       "        return false;\n",
       "    });\n",
       "\n",
       "    function set_focus () {\n",
       "        canvas.focus();\n",
       "        canvas_div.focus();\n",
       "    }\n",
       "\n",
       "    window.setTimeout(set_focus, 100);\n",
       "}\n",
       "\n",
       "mpl.figure.prototype._init_toolbar = function() {\n",
       "    var fig = this;\n",
       "\n",
       "    var nav_element = $('<div/>')\n",
       "    nav_element.attr('style', 'width: 100%');\n",
       "    this.root.append(nav_element);\n",
       "\n",
       "    // Define a callback function for later on.\n",
       "    function toolbar_event(event) {\n",
       "        return fig.toolbar_button_onclick(event['data']);\n",
       "    }\n",
       "    function toolbar_mouse_event(event) {\n",
       "        return fig.toolbar_button_onmouseover(event['data']);\n",
       "    }\n",
       "\n",
       "    for(var toolbar_ind in mpl.toolbar_items) {\n",
       "        var name = mpl.toolbar_items[toolbar_ind][0];\n",
       "        var tooltip = mpl.toolbar_items[toolbar_ind][1];\n",
       "        var image = mpl.toolbar_items[toolbar_ind][2];\n",
       "        var method_name = mpl.toolbar_items[toolbar_ind][3];\n",
       "\n",
       "        if (!name) {\n",
       "            // put a spacer in here.\n",
       "            continue;\n",
       "        }\n",
       "        var button = $('<button/>');\n",
       "        button.addClass('ui-button ui-widget ui-state-default ui-corner-all ' +\n",
       "                        'ui-button-icon-only');\n",
       "        button.attr('role', 'button');\n",
       "        button.attr('aria-disabled', 'false');\n",
       "        button.click(method_name, toolbar_event);\n",
       "        button.mouseover(tooltip, toolbar_mouse_event);\n",
       "\n",
       "        var icon_img = $('<span/>');\n",
       "        icon_img.addClass('ui-button-icon-primary ui-icon');\n",
       "        icon_img.addClass(image);\n",
       "        icon_img.addClass('ui-corner-all');\n",
       "\n",
       "        var tooltip_span = $('<span/>');\n",
       "        tooltip_span.addClass('ui-button-text');\n",
       "        tooltip_span.html(tooltip);\n",
       "\n",
       "        button.append(icon_img);\n",
       "        button.append(tooltip_span);\n",
       "\n",
       "        nav_element.append(button);\n",
       "    }\n",
       "\n",
       "    var fmt_picker_span = $('<span/>');\n",
       "\n",
       "    var fmt_picker = $('<select/>');\n",
       "    fmt_picker.addClass('mpl-toolbar-option ui-widget ui-widget-content');\n",
       "    fmt_picker_span.append(fmt_picker);\n",
       "    nav_element.append(fmt_picker_span);\n",
       "    this.format_dropdown = fmt_picker[0];\n",
       "\n",
       "    for (var ind in mpl.extensions) {\n",
       "        var fmt = mpl.extensions[ind];\n",
       "        var option = $(\n",
       "            '<option/>', {selected: fmt === mpl.default_extension}).html(fmt);\n",
       "        fmt_picker.append(option)\n",
       "    }\n",
       "\n",
       "    // Add hover states to the ui-buttons\n",
       "    $( \".ui-button\" ).hover(\n",
       "        function() { $(this).addClass(\"ui-state-hover\");},\n",
       "        function() { $(this).removeClass(\"ui-state-hover\");}\n",
       "    );\n",
       "\n",
       "    var status_bar = $('<span class=\"mpl-message\"/>');\n",
       "    nav_element.append(status_bar);\n",
       "    this.message = status_bar[0];\n",
       "}\n",
       "\n",
       "mpl.figure.prototype.request_resize = function(x_pixels, y_pixels) {\n",
       "    // Request matplotlib to resize the figure. Matplotlib will then trigger a resize in the client,\n",
       "    // which will in turn request a refresh of the image.\n",
       "    this.send_message('resize', {'width': x_pixels, 'height': y_pixels});\n",
       "}\n",
       "\n",
       "mpl.figure.prototype.send_message = function(type, properties) {\n",
       "    properties['type'] = type;\n",
       "    properties['figure_id'] = this.id;\n",
       "    this.ws.send(JSON.stringify(properties));\n",
       "}\n",
       "\n",
       "mpl.figure.prototype.send_draw_message = function() {\n",
       "    if (!this.waiting) {\n",
       "        this.waiting = true;\n",
       "        this.ws.send(JSON.stringify({type: \"draw\", figure_id: this.id}));\n",
       "    }\n",
       "}\n",
       "\n",
       "\n",
       "mpl.figure.prototype.handle_save = function(fig, msg) {\n",
       "    var format_dropdown = fig.format_dropdown;\n",
       "    var format = format_dropdown.options[format_dropdown.selectedIndex].value;\n",
       "    fig.ondownload(fig, format);\n",
       "}\n",
       "\n",
       "\n",
       "mpl.figure.prototype.handle_resize = function(fig, msg) {\n",
       "    var size = msg['size'];\n",
       "    if (size[0] != fig.canvas.width || size[1] != fig.canvas.height) {\n",
       "        fig._resize_canvas(size[0], size[1]);\n",
       "        fig.send_message(\"refresh\", {});\n",
       "    };\n",
       "}\n",
       "\n",
       "mpl.figure.prototype.handle_rubberband = function(fig, msg) {\n",
       "    var x0 = msg['x0'];\n",
       "    var y0 = fig.canvas.height - msg['y0'];\n",
       "    var x1 = msg['x1'];\n",
       "    var y1 = fig.canvas.height - msg['y1'];\n",
       "    x0 = Math.floor(x0) + 0.5;\n",
       "    y0 = Math.floor(y0) + 0.5;\n",
       "    x1 = Math.floor(x1) + 0.5;\n",
       "    y1 = Math.floor(y1) + 0.5;\n",
       "    var min_x = Math.min(x0, x1);\n",
       "    var min_y = Math.min(y0, y1);\n",
       "    var width = Math.abs(x1 - x0);\n",
       "    var height = Math.abs(y1 - y0);\n",
       "\n",
       "    fig.rubberband_context.clearRect(\n",
       "        0, 0, fig.canvas.width, fig.canvas.height);\n",
       "\n",
       "    fig.rubberband_context.strokeRect(min_x, min_y, width, height);\n",
       "}\n",
       "\n",
       "mpl.figure.prototype.handle_figure_label = function(fig, msg) {\n",
       "    // Updates the figure title.\n",
       "    fig.header.textContent = msg['label'];\n",
       "}\n",
       "\n",
       "mpl.figure.prototype.handle_cursor = function(fig, msg) {\n",
       "    var cursor = msg['cursor'];\n",
       "    switch(cursor)\n",
       "    {\n",
       "    case 0:\n",
       "        cursor = 'pointer';\n",
       "        break;\n",
       "    case 1:\n",
       "        cursor = 'default';\n",
       "        break;\n",
       "    case 2:\n",
       "        cursor = 'crosshair';\n",
       "        break;\n",
       "    case 3:\n",
       "        cursor = 'move';\n",
       "        break;\n",
       "    }\n",
       "    fig.rubberband_canvas.style.cursor = cursor;\n",
       "}\n",
       "\n",
       "mpl.figure.prototype.handle_message = function(fig, msg) {\n",
       "    fig.message.textContent = msg['message'];\n",
       "}\n",
       "\n",
       "mpl.figure.prototype.handle_draw = function(fig, msg) {\n",
       "    // Request the server to send over a new figure.\n",
       "    fig.send_draw_message();\n",
       "}\n",
       "\n",
       "mpl.figure.prototype.handle_image_mode = function(fig, msg) {\n",
       "    fig.image_mode = msg['mode'];\n",
       "}\n",
       "\n",
       "mpl.figure.prototype.updated_canvas_event = function() {\n",
       "    // Called whenever the canvas gets updated.\n",
       "    this.send_message(\"ack\", {});\n",
       "}\n",
       "\n",
       "// A function to construct a web socket function for onmessage handling.\n",
       "// Called in the figure constructor.\n",
       "mpl.figure.prototype._make_on_message_function = function(fig) {\n",
       "    return function socket_on_message(evt) {\n",
       "        if (evt.data instanceof Blob) {\n",
       "            /* FIXME: We get \"Resource interpreted as Image but\n",
       "             * transferred with MIME type text/plain:\" errors on\n",
       "             * Chrome.  But how to set the MIME type?  It doesn't seem\n",
       "             * to be part of the websocket stream */\n",
       "            evt.data.type = \"image/png\";\n",
       "\n",
       "            /* Free the memory for the previous frames */\n",
       "            if (fig.imageObj.src) {\n",
       "                (window.URL || window.webkitURL).revokeObjectURL(\n",
       "                    fig.imageObj.src);\n",
       "            }\n",
       "\n",
       "            fig.imageObj.src = (window.URL || window.webkitURL).createObjectURL(\n",
       "                evt.data);\n",
       "            fig.updated_canvas_event();\n",
       "            fig.waiting = false;\n",
       "            return;\n",
       "        }\n",
       "        else if (typeof evt.data === 'string' && evt.data.slice(0, 21) == \"data:image/png;base64\") {\n",
       "            fig.imageObj.src = evt.data;\n",
       "            fig.updated_canvas_event();\n",
       "            fig.waiting = false;\n",
       "            return;\n",
       "        }\n",
       "\n",
       "        var msg = JSON.parse(evt.data);\n",
       "        var msg_type = msg['type'];\n",
       "\n",
       "        // Call the  \"handle_{type}\" callback, which takes\n",
       "        // the figure and JSON message as its only arguments.\n",
       "        try {\n",
       "            var callback = fig[\"handle_\" + msg_type];\n",
       "        } catch (e) {\n",
       "            console.log(\"No handler for the '\" + msg_type + \"' message type: \", msg);\n",
       "            return;\n",
       "        }\n",
       "\n",
       "        if (callback) {\n",
       "            try {\n",
       "                // console.log(\"Handling '\" + msg_type + \"' message: \", msg);\n",
       "                callback(fig, msg);\n",
       "            } catch (e) {\n",
       "                console.log(\"Exception inside the 'handler_\" + msg_type + \"' callback:\", e, e.stack, msg);\n",
       "            }\n",
       "        }\n",
       "    };\n",
       "}\n",
       "\n",
       "// from http://stackoverflow.com/questions/1114465/getting-mouse-location-in-canvas\n",
       "mpl.findpos = function(e) {\n",
       "    //this section is from http://www.quirksmode.org/js/events_properties.html\n",
       "    var targ;\n",
       "    if (!e)\n",
       "        e = window.event;\n",
       "    if (e.target)\n",
       "        targ = e.target;\n",
       "    else if (e.srcElement)\n",
       "        targ = e.srcElement;\n",
       "    if (targ.nodeType == 3) // defeat Safari bug\n",
       "        targ = targ.parentNode;\n",
       "\n",
       "    // jQuery normalizes the pageX and pageY\n",
       "    // pageX,Y are the mouse positions relative to the document\n",
       "    // offset() returns the position of the element relative to the document\n",
       "    var x = e.pageX - $(targ).offset().left;\n",
       "    var y = e.pageY - $(targ).offset().top;\n",
       "\n",
       "    return {\"x\": x, \"y\": y};\n",
       "};\n",
       "\n",
       "/*\n",
       " * return a copy of an object with only non-object keys\n",
       " * we need this to avoid circular references\n",
       " * http://stackoverflow.com/a/24161582/3208463\n",
       " */\n",
       "function simpleKeys (original) {\n",
       "  return Object.keys(original).reduce(function (obj, key) {\n",
       "    if (typeof original[key] !== 'object')\n",
       "        obj[key] = original[key]\n",
       "    return obj;\n",
       "  }, {});\n",
       "}\n",
       "\n",
       "mpl.figure.prototype.mouse_event = function(event, name) {\n",
       "    var canvas_pos = mpl.findpos(event)\n",
       "\n",
       "    if (name === 'button_press')\n",
       "    {\n",
       "        this.canvas.focus();\n",
       "        this.canvas_div.focus();\n",
       "    }\n",
       "\n",
       "    var x = canvas_pos.x;\n",
       "    var y = canvas_pos.y;\n",
       "\n",
       "    this.send_message(name, {x: x, y: y, button: event.button,\n",
       "                             step: event.step,\n",
       "                             guiEvent: simpleKeys(event)});\n",
       "\n",
       "    /* This prevents the web browser from automatically changing to\n",
       "     * the text insertion cursor when the button is pressed.  We want\n",
       "     * to control all of the cursor setting manually through the\n",
       "     * 'cursor' event from matplotlib */\n",
       "    event.preventDefault();\n",
       "    return false;\n",
       "}\n",
       "\n",
       "mpl.figure.prototype._key_event_extra = function(event, name) {\n",
       "    // Handle any extra behaviour associated with a key event\n",
       "}\n",
       "\n",
       "mpl.figure.prototype.key_event = function(event, name) {\n",
       "\n",
       "    // Prevent repeat events\n",
       "    if (name == 'key_press')\n",
       "    {\n",
       "        if (event.which === this._key)\n",
       "            return;\n",
       "        else\n",
       "            this._key = event.which;\n",
       "    }\n",
       "    if (name == 'key_release')\n",
       "        this._key = null;\n",
       "\n",
       "    var value = '';\n",
       "    if (event.ctrlKey && event.which != 17)\n",
       "        value += \"ctrl+\";\n",
       "    if (event.altKey && event.which != 18)\n",
       "        value += \"alt+\";\n",
       "    if (event.shiftKey && event.which != 16)\n",
       "        value += \"shift+\";\n",
       "\n",
       "    value += 'k';\n",
       "    value += event.which.toString();\n",
       "\n",
       "    this._key_event_extra(event, name);\n",
       "\n",
       "    this.send_message(name, {key: value,\n",
       "                             guiEvent: simpleKeys(event)});\n",
       "    return false;\n",
       "}\n",
       "\n",
       "mpl.figure.prototype.toolbar_button_onclick = function(name) {\n",
       "    if (name == 'download') {\n",
       "        this.handle_save(this, null);\n",
       "    } else {\n",
       "        this.send_message(\"toolbar_button\", {name: name});\n",
       "    }\n",
       "};\n",
       "\n",
       "mpl.figure.prototype.toolbar_button_onmouseover = function(tooltip) {\n",
       "    this.message.textContent = tooltip;\n",
       "};\n",
       "mpl.toolbar_items = [[\"Home\", \"Reset original view\", \"fa fa-home icon-home\", \"home\"], [\"Back\", \"Back to  previous view\", \"fa fa-arrow-left icon-arrow-left\", \"back\"], [\"Forward\", \"Forward to next view\", \"fa fa-arrow-right icon-arrow-right\", \"forward\"], [\"\", \"\", \"\", \"\"], [\"Pan\", \"Pan axes with left mouse, zoom with right\", \"fa fa-arrows icon-move\", \"pan\"], [\"Zoom\", \"Zoom to rectangle\", \"fa fa-square-o icon-check-empty\", \"zoom\"], [\"\", \"\", \"\", \"\"], [\"Download\", \"Download plot\", \"fa fa-floppy-o icon-save\", \"download\"]];\n",
       "\n",
       "mpl.extensions = [\"eps\", \"jpeg\", \"pdf\", \"png\", \"ps\", \"raw\", \"svg\", \"tif\"];\n",
       "\n",
       "mpl.default_extension = \"png\";var comm_websocket_adapter = function(comm) {\n",
       "    // Create a \"websocket\"-like object which calls the given IPython comm\n",
       "    // object with the appropriate methods. Currently this is a non binary\n",
       "    // socket, so there is still some room for performance tuning.\n",
       "    var ws = {};\n",
       "\n",
       "    ws.close = function() {\n",
       "        comm.close()\n",
       "    };\n",
       "    ws.send = function(m) {\n",
       "        //console.log('sending', m);\n",
       "        comm.send(m);\n",
       "    };\n",
       "    // Register the callback with on_msg.\n",
       "    comm.on_msg(function(msg) {\n",
       "        //console.log('receiving', msg['content']['data'], msg);\n",
       "        // Pass the mpl event to the overriden (by mpl) onmessage function.\n",
       "        ws.onmessage(msg['content']['data'])\n",
       "    });\n",
       "    return ws;\n",
       "}\n",
       "\n",
       "mpl.mpl_figure_comm = function(comm, msg) {\n",
       "    // This is the function which gets called when the mpl process\n",
       "    // starts-up an IPython Comm through the \"matplotlib\" channel.\n",
       "\n",
       "    var id = msg.content.data.id;\n",
       "    // Get hold of the div created by the display call when the Comm\n",
       "    // socket was opened in Python.\n",
       "    var element = $(\"#\" + id);\n",
       "    var ws_proxy = comm_websocket_adapter(comm)\n",
       "\n",
       "    function ondownload(figure, format) {\n",
       "        window.open(figure.imageObj.src);\n",
       "    }\n",
       "\n",
       "    var fig = new mpl.figure(id, ws_proxy,\n",
       "                           ondownload,\n",
       "                           element.get(0));\n",
       "\n",
       "    // Call onopen now - mpl needs it, as it is assuming we've passed it a real\n",
       "    // web socket which is closed, not our websocket->open comm proxy.\n",
       "    ws_proxy.onopen();\n",
       "\n",
       "    fig.parent_element = element.get(0);\n",
       "    fig.cell_info = mpl.find_output_cell(\"<div id='\" + id + \"'></div>\");\n",
       "    if (!fig.cell_info) {\n",
       "        console.error(\"Failed to find cell for figure\", id, fig);\n",
       "        return;\n",
       "    }\n",
       "\n",
       "    var output_index = fig.cell_info[2]\n",
       "    var cell = fig.cell_info[0];\n",
       "\n",
       "};\n",
       "\n",
       "mpl.figure.prototype.handle_close = function(fig, msg) {\n",
       "    fig.root.unbind('remove')\n",
       "\n",
       "    // Update the output cell to use the data from the current canvas.\n",
       "    fig.push_to_output();\n",
       "    var dataURL = fig.canvas.toDataURL();\n",
       "    // Re-enable the keyboard manager in IPython - without this line, in FF,\n",
       "    // the notebook keyboard shortcuts fail.\n",
       "    IPython.keyboard_manager.enable()\n",
       "    $(fig.parent_element).html('<img src=\"' + dataURL + '\">');\n",
       "    fig.close_ws(fig, msg);\n",
       "}\n",
       "\n",
       "mpl.figure.prototype.close_ws = function(fig, msg){\n",
       "    fig.send_message('closing', msg);\n",
       "    // fig.ws.close()\n",
       "}\n",
       "\n",
       "mpl.figure.prototype.push_to_output = function(remove_interactive) {\n",
       "    // Turn the data on the canvas into data in the output cell.\n",
       "    var dataURL = this.canvas.toDataURL();\n",
       "    this.cell_info[1]['text/html'] = '<img src=\"' + dataURL + '\">';\n",
       "}\n",
       "\n",
       "mpl.figure.prototype.updated_canvas_event = function() {\n",
       "    // Tell IPython that the notebook contents must change.\n",
       "    IPython.notebook.set_dirty(true);\n",
       "    this.send_message(\"ack\", {});\n",
       "    var fig = this;\n",
       "    // Wait a second, then push the new image to the DOM so\n",
       "    // that it is saved nicely (might be nice to debounce this).\n",
       "    setTimeout(function () { fig.push_to_output() }, 1000);\n",
       "}\n",
       "\n",
       "mpl.figure.prototype._init_toolbar = function() {\n",
       "    var fig = this;\n",
       "\n",
       "    var nav_element = $('<div/>')\n",
       "    nav_element.attr('style', 'width: 100%');\n",
       "    this.root.append(nav_element);\n",
       "\n",
       "    // Define a callback function for later on.\n",
       "    function toolbar_event(event) {\n",
       "        return fig.toolbar_button_onclick(event['data']);\n",
       "    }\n",
       "    function toolbar_mouse_event(event) {\n",
       "        return fig.toolbar_button_onmouseover(event['data']);\n",
       "    }\n",
       "\n",
       "    for(var toolbar_ind in mpl.toolbar_items){\n",
       "        var name = mpl.toolbar_items[toolbar_ind][0];\n",
       "        var tooltip = mpl.toolbar_items[toolbar_ind][1];\n",
       "        var image = mpl.toolbar_items[toolbar_ind][2];\n",
       "        var method_name = mpl.toolbar_items[toolbar_ind][3];\n",
       "\n",
       "        if (!name) { continue; };\n",
       "\n",
       "        var button = $('<button class=\"btn btn-default\" href=\"#\" title=\"' + name + '\"><i class=\"fa ' + image + ' fa-lg\"></i></button>');\n",
       "        button.click(method_name, toolbar_event);\n",
       "        button.mouseover(tooltip, toolbar_mouse_event);\n",
       "        nav_element.append(button);\n",
       "    }\n",
       "\n",
       "    // Add the status bar.\n",
       "    var status_bar = $('<span class=\"mpl-message\" style=\"text-align:right; float: right;\"/>');\n",
       "    nav_element.append(status_bar);\n",
       "    this.message = status_bar[0];\n",
       "\n",
       "    // Add the close button to the window.\n",
       "    var buttongrp = $('<div class=\"btn-group inline pull-right\"></div>');\n",
       "    var button = $('<button class=\"btn btn-mini btn-primary\" href=\"#\" title=\"Stop Interaction\"><i class=\"fa fa-power-off icon-remove icon-large\"></i></button>');\n",
       "    button.click(function (evt) { fig.handle_close(fig, {}); } );\n",
       "    button.mouseover('Stop Interaction', toolbar_mouse_event);\n",
       "    buttongrp.append(button);\n",
       "    var titlebar = this.root.find($('.ui-dialog-titlebar'));\n",
       "    titlebar.prepend(buttongrp);\n",
       "}\n",
       "\n",
       "mpl.figure.prototype._root_extra_style = function(el){\n",
       "    var fig = this\n",
       "    el.on(\"remove\", function(){\n",
       "\tfig.close_ws(fig, {});\n",
       "    });\n",
       "}\n",
       "\n",
       "mpl.figure.prototype._canvas_extra_style = function(el){\n",
       "    // this is important to make the div 'focusable\n",
       "    el.attr('tabindex', 0)\n",
       "    // reach out to IPython and tell the keyboard manager to turn it's self\n",
       "    // off when our div gets focus\n",
       "\n",
       "    // location in version 3\n",
       "    if (IPython.notebook.keyboard_manager) {\n",
       "        IPython.notebook.keyboard_manager.register_events(el);\n",
       "    }\n",
       "    else {\n",
       "        // location in version 2\n",
       "        IPython.keyboard_manager.register_events(el);\n",
       "    }\n",
       "\n",
       "}\n",
       "\n",
       "mpl.figure.prototype._key_event_extra = function(event, name) {\n",
       "    var manager = IPython.notebook.keyboard_manager;\n",
       "    if (!manager)\n",
       "        manager = IPython.keyboard_manager;\n",
       "\n",
       "    // Check for shift+enter\n",
       "    if (event.shiftKey && event.which == 13) {\n",
       "        this.canvas_div.blur();\n",
       "        event.shiftKey = false;\n",
       "        // Send a \"J\" for go to next cell\n",
       "        event.which = 74;\n",
       "        event.keyCode = 74;\n",
       "        manager.command_mode();\n",
       "        manager.handle_keydown(event);\n",
       "    }\n",
       "}\n",
       "\n",
       "mpl.figure.prototype.handle_save = function(fig, msg) {\n",
       "    fig.ondownload(fig, null);\n",
       "}\n",
       "\n",
       "\n",
       "mpl.find_output_cell = function(html_output) {\n",
       "    // Return the cell and output element which can be found *uniquely* in the notebook.\n",
       "    // Note - this is a bit hacky, but it is done because the \"notebook_saving.Notebook\"\n",
       "    // IPython event is triggered only after the cells have been serialised, which for\n",
       "    // our purposes (turning an active figure into a static one), is too late.\n",
       "    var cells = IPython.notebook.get_cells();\n",
       "    var ncells = cells.length;\n",
       "    for (var i=0; i<ncells; i++) {\n",
       "        var cell = cells[i];\n",
       "        if (cell.cell_type === 'code'){\n",
       "            for (var j=0; j<cell.output_area.outputs.length; j++) {\n",
       "                var data = cell.output_area.outputs[j];\n",
       "                if (data.data) {\n",
       "                    // IPython >= 3 moved mimebundle to data attribute of output\n",
       "                    data = data.data;\n",
       "                }\n",
       "                if (data['text/html'] == html_output) {\n",
       "                    return [cell, data, j];\n",
       "                }\n",
       "            }\n",
       "        }\n",
       "    }\n",
       "}\n",
       "\n",
       "// Register the function which deals with the matplotlib target/channel.\n",
       "// The kernel may be null if the page has been refreshed.\n",
       "if (IPython.notebook.kernel != null) {\n",
       "    IPython.notebook.kernel.comm_manager.register_target('matplotlib', mpl.mpl_figure_comm);\n",
       "}\n"
      ],
      "text/plain": [
       "<IPython.core.display.Javascript object>"
      ]
     },
     "metadata": {},
     "output_type": "display_data"
    },
    {
     "data": {
      "text/html": [
       "<img src=\"data:image/png;base64,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\">"
      ],
      "text/plain": [
       "<IPython.core.display.HTML object>"
      ]
     },
     "metadata": {},
     "output_type": "display_data"
    },
    {
     "data": {
      "text/plain": [
       "[<matplotlib.lines.Line2D at 0x6ee63c8>]"
      ]
     },
     "execution_count": 11,
     "metadata": {},
     "output_type": "execute_result"
    }
   ],
   "source": [
    "%matplotlib notebook\n",
    "plt.plot(data.trace[0]['raw'],'b',lw=0.5)\n",
    "plt.plot(data.trace[0]['filtered'],'r',lw=1.5)"
   ]
  },
  {
   "cell_type": "code",
   "execution_count": null,
   "metadata": {
    "collapsed": false
   },
   "outputs": [],
   "source": [
    "enet.packets[4].payload[40:].view(np.uint32).size"
   ]
  },
  {
   "cell_type": "code",
   "execution_count": null,
   "metadata": {
    "collapsed": false
   },
   "outputs": [],
   "source": [
    "enet.packets[4].length"
   ]
  },
  {
   "cell_type": "code",
   "execution_count": null,
   "metadata": {
    "collapsed": false
   },
   "outputs": [],
   "source": [
    "dist=dists[1]\n",
    "c=check_distribution(dist,data)\n",
    "(c-dist.counts).nonzero()[0].size"
   ]
  },
  {
   "cell_type": "code",
   "execution_count": null,
   "metadata": {
    "collapsed": false
   },
   "outputs": [],
   "source": [
    "start=dist.start_time\n",
    "stop=dist.stop_time+np.uint64(1)\n",
    "s=data.slice((start, stop))\n",
    "f = s.trace[dist.channel]['filtered']\n",
    "fd = data.trace[dist.channel]['filtered'][start:stop]\n",
    "(f-fd).nonzero()"
   ]
  },
  {
   "cell_type": "code",
   "execution_count": null,
   "metadata": {
    "collapsed": false
   },
   "outputs": [],
   "source": [
    "np.uint64(1)+np.uint64(-1)"
   ]
  },
  {
   "cell_type": "code",
   "execution_count": null,
   "metadata": {
    "collapsed": false
   },
   "outputs": [],
   "source": [
    "event_dt=np.dtype(\n",
    "    (np.uint64, \n",
    "        [\n",
    "            ('data', np.uint32),\n",
    "            ('flags0', np.uint8),\n",
    "            ('flags1', np.uint8),\n",
    "            ('time',np.uint16)\n",
    "        ] \n",
    "    )\n",
    ")\n",
    "\n",
    "peak_dt=np.dtype(\n",
    "    (\n",
    "        [\n",
    "            ('height', np.int16),\n",
    "            ('minima', np.int16),\n",
    "            ('flags0', np.uint8),\n",
    "            ('flags1', np.uint8),\n",
    "            ('time',np.uint16)\n",
    "        ] \n",
    "    )\n",
    ")\n",
    "\n",
    "tick_dt=np.dtype(\n",
    "    ( \n",
    "        [\n",
    "            ('period', np.uint32),\n",
    "            ('flags0', np.uint8),\n",
    "            ('flags1', np.uint8),\n",
    "            ('time', np.uint16),\n",
    "            ('timestamp', np.uint64)\n",
    "        ]\n",
    "    )\n",
    ")\n",
    "\n",
    "e = sim.EventStream('teslib','measurement_subsystem_TB')\n",
    "\n",
    "events=e._stream64.view(dtype=event_dt)\n",
    "\n",
    "#type_flags = np.bitwise_and(events['flags'],0x000f)\n",
    "tick = np.bitwise_and(events['flags1'],0x02)!=0\n",
    "window_start = np.bitwise_and(events['flags1'],0x01)!=0\n",
    "\n",
    "tick_mask=np.zeros(len(tick),dtype=bool)\n",
    "i=0\n",
    "while (i < len(tick)):\n",
    "    if tick[i]!=0:\n",
    "        tick_mask[i:i+2]=True\n",
    "        i+=1\n",
    "    i+=1\n",
    "    \n",
    "peaks=e._stream64[~tick_mask].view(dtype=peak_dt)\n",
    "\n",
    "ticks=e._stream64[tick_mask].view(dtype=tick_dt)"
   ]
  },
  {
   "cell_type": "code",
   "execution_count": null,
   "metadata": {
    "collapsed": false
   },
   "outputs": [],
   "source": [
    "d=distributions[0]\n",
    "\n",
    "\n",
    "d.value.trace"
   ]
  },
  {
   "cell_type": "code",
   "execution_count": null,
   "metadata": {
    "collapsed": true
   },
   "outputs": [],
   "source": [
    "%matplotlib notebook\n",
    "stop=distributions[0].stop_time\n",
    "start=distributions[0].start_time\n",
    "plt.plot(data.trace[0]['filtered'][start:stop])"
   ]
  },
  {
   "cell_type": "code",
   "execution_count": null,
   "metadata": {
    "collapsed": false
   },
   "outputs": [],
   "source": [
    "%matplotlib notebook\n",
    "d=0\n",
    "plt.plot(distributions[d].counts)"
   ]
  },
  {
   "cell_type": "code",
   "execution_count": null,
   "metadata": {
    "collapsed": false,
    "scrolled": true
   },
   "outputs": [],
   "source": [
    "p=1\n",
    "lasts=enet['last'].nonzero()[0]+1\n",
    "packets = []\n",
    "prev=0\n",
    "for last in lasts:\n",
    "    packets.append(sim.Packet( np.copy(enet['data'][prev:last]).view(np.uint8)))\n",
    "    prev=last\n",
    "\n",
    "packets[:]"
   ]
  },
  {
   "cell_type": "code",
   "execution_count": null,
   "metadata": {
    "collapsed": false
   },
   "outputs": [],
   "source": [
    "packets[4]"
   ]
  },
  {
   "cell_type": "code",
   "execution_count": null,
   "metadata": {
    "collapsed": false
   },
   "outputs": [],
   "source": [
    "def get_distributions(packets):\n",
    "    for packet in packets:\n",
    "        if packet.payload_type == PayloadType.mca:\n",
    "            \n",
    "        \n",
    "    \n",
    "    \n",
    "    \n",
    "packets[4].payload[0:8].view(mca_header_dt)"
   ]
  },
  {
   "cell_type": "code",
   "execution_count": null,
   "metadata": {
    "collapsed": false
   },
   "outputs": [],
   "source": [
    "peaks=packets[1].payload.view(peak_dt)\n",
    "peaks"
   ]
  },
  {
   "cell_type": "code",
   "execution_count": null,
   "metadata": {
    "collapsed": false
   },
   "outputs": [],
   "source": [
    "\n",
    "time=0\n",
    "times=[]\n",
    "heights=[]\n",
    "minimas=[]\n",
    "\n",
    "for p in packets:\n",
    "    if p.payload_type==sim.EventType.tick:\n",
    "        tick=p.payload.view(tick_dt)\n",
    "        time=tick[0]['timestamp']\n",
    "    elif p.payload_type==sim.EventType.peak:\n",
    "        peaks=p.payload.view(peak_dt)\n",
    "        for peak in peaks:\n",
    "            time+=peak['time']\n",
    "            times.append(time)\n",
    "            heights.append(peak['height'])\n",
    "            minimas.append(peak['minima'])\n",
    "            "
   ]
  },
  {
   "cell_type": "code",
   "execution_count": null,
   "metadata": {
    "collapsed": false
   },
   "outputs": [],
   "source": [
    "times"
   ]
  },
  {
   "cell_type": "code",
   "execution_count": null,
   "metadata": {
    "collapsed": false
   },
   "outputs": [],
   "source": [
    "packets[1].payload.view(peak_dt)"
   ]
  },
  {
   "cell_type": "code",
   "execution_count": null,
   "metadata": {
    "collapsed": false
   },
   "outputs": [],
   "source": [
    "heights[0]"
   ]
  },
  {
   "cell_type": "code",
   "execution_count": null,
   "metadata": {
    "collapsed": false,
    "scrolled": false
   },
   "outputs": [],
   "source": [
    "%matplotlib notebook\n",
    "p=3\n",
    "x=np.arange(times[p]-300,times[p]+1000,dtype=np.uint64)\n",
    "plt.plot([times[p], times[p]],[minimas[p], heights[p]],'r',lw=2)\n",
    "plt.step(x,data.trace['filtered'][x])\n",
    "plt.plot(data.peak[p/2],data.trace['filtered'][data.peak[p/2]],'ro')\n",
    "plt.plot(\n",
    "    [data.peak_start[p/2],times[p]],\n",
    "    [data.trace['filtered'][data.peak_start[p/2]],data.trace['filtered'][data.peak_start[p/2]]],\n",
    "    'k'\n",
    ")\n",
    "plt.plot(\n",
    "    [times[p],data.peak[p/2]],\n",
    "    [data.trace['filtered'][data.peak[p/2]],data.trace['filtered'][data.peak[p/2]]],\n",
    "    'k'\n",
    ")"
   ]
  },
  {
   "cell_type": "code",
   "execution_count": null,
   "metadata": {
    "collapsed": false
   },
   "outputs": [],
   "source": [
    "%matplotlib notebook\n",
    "fig=simplt.plot_slice(data.slice((data.peak[0]-1000,data.peak[0]+1000)))\n",
    "data.trace['filtered'][data.peak[0]]"
   ]
  },
  {
   "cell_type": "code",
   "execution_count": null,
   "metadata": {
    "collapsed": false,
    "scrolled": false
   },
   "outputs": [],
   "source": [
    "data.cfd_low"
   ]
  },
  {
   "cell_type": "code",
   "execution_count": null,
   "metadata": {
    "collapsed": false
   },
   "outputs": [],
   "source": [
    "packet_bytes=packet.view(np.uint8)"
   ]
  },
  {
   "cell_type": "code",
   "execution_count": null,
   "metadata": {
    "collapsed": false
   },
   "outputs": [],
   "source": [
    "packet_bytes"
   ]
  },
  {
   "cell_type": "code",
   "execution_count": null,
   "metadata": {
    "collapsed": false
   },
   "outputs": [],
   "source": []
  },
  {
   "cell_type": "code",
   "execution_count": null,
   "metadata": {
    "collapsed": false
   },
   "outputs": [],
   "source": [
    "\n",
    "payload"
   ]
  },
  {
   "cell_type": "code",
   "execution_count": null,
   "metadata": {
    "collapsed": false,
    "scrolled": false
   },
   "outputs": [],
   "source": [
    "\n",
    "payload_type"
   ]
  },
  {
   "cell_type": "code",
   "execution_count": null,
   "metadata": {
    "collapsed": false
   },
   "outputs": [],
   "source": [
    "time=payload[6:8].view(np.uint16)\n",
    "time"
   ]
  },
  {
   "cell_type": "code",
   "execution_count": null,
   "metadata": {
    "collapsed": false
   },
   "outputs": [],
   "source": [
    "\n",
    "peaks"
   ]
  },
  {
   "cell_type": "code",
   "execution_count": null,
   "metadata": {
    "collapsed": false
   },
   "outputs": [],
   "source": [
    "payload[4+8:6+8]"
   ]
  },
  {
   "cell_type": "code",
   "execution_count": null,
   "metadata": {
    "collapsed": false
   },
   "outputs": [],
   "source": [
    "%matplotlib notebook\n",
    "fig=simplt.plot_pulse(1,data)"
   ]
  },
  {
   "cell_type": "code",
   "execution_count": null,
   "metadata": {
    "collapsed": false
   },
   "outputs": [],
   "source": [
    "fig._axstack.as_list()[0]"
   ]
  },
  {
   "cell_type": "code",
   "execution_count": null,
   "metadata": {
    "collapsed": false,
    "scrolled": true
   },
   "outputs": [],
   "source": [
    "tick"
   ]
  },
  {
   "cell_type": "code",
   "execution_count": null,
   "metadata": {
    "collapsed": false
   },
   "outputs": [],
   "source": [
    "ticks"
   ]
  },
  {
   "cell_type": "code",
   "execution_count": null,
   "metadata": {
    "collapsed": false
   },
   "outputs": [],
   "source": [
    "window_start"
   ]
  },
  {
   "cell_type": "code",
   "execution_count": null,
   "metadata": {
    "collapsed": false
   },
   "outputs": [],
   "source": [
    "tick_mask"
   ]
  },
  {
   "cell_type": "code",
   "execution_count": null,
   "metadata": {
    "collapsed": false
   },
   "outputs": [],
   "source": [
    "e._stream64[tick_mask]"
   ]
  },
  {
   "cell_type": "code",
   "execution_count": null,
   "metadata": {
    "collapsed": false
   },
   "outputs": [],
   "source": [
    "type_flags[~tick_mask]"
   ]
  },
  {
   "cell_type": "code",
   "execution_count": null,
   "metadata": {
    "collapsed": false
   },
   "outputs": [],
   "source": [
    "type_flags = np.bitwise_and(events['flags'],0x000f)\n",
    "peak_num = np.right_shift(np.bitwise_and(events['flags'],0x00f0),4)\n",
    "channel = np.right_shift(np.bitwise_and(events['flags'],0x0f00),8)\n",
    "event_type = np.right_shift(np.bitwise_and(events['flags'],0x3000),12)\n",
    "tick=np.bitwise_and(type_flags,0x0002)"
   ]
  },
  {
   "cell_type": "code",
   "execution_count": null,
   "metadata": {
    "collapsed": false
   },
   "outputs": [],
   "source": [
    "ticks"
   ]
  },
  {
   "cell_type": "code",
   "execution_count": null,
   "metadata": {
    "collapsed": false
   },
   "outputs": [],
   "source": []
  },
  {
   "cell_type": "code",
   "execution_count": null,
   "metadata": {
    "collapsed": false
   },
   "outputs": [],
   "source": [
    "tick_mask"
   ]
  },
  {
   "cell_type": "code",
   "execution_count": null,
   "metadata": {
    "collapsed": false
   },
   "outputs": [],
   "source": [
    "events[tick_mask]"
   ]
  },
  {
   "cell_type": "code",
   "execution_count": null,
   "metadata": {
    "collapsed": false
   },
   "outputs": [],
   "source": [
    "time=np.bitwise_and(events[~tick_mask]['time'],0x7fff)\n",
    "c_start=np.bitwise_and(events[~tick_mask]['time'],0x8000)!=0"
   ]
  },
  {
   "cell_type": "code",
   "execution_count": null,
   "metadata": {
    "collapsed": false
   },
   "outputs": [],
   "source": [
    "events[tick_mask]['time']"
   ]
  },
  {
   "cell_type": "code",
   "execution_count": null,
   "metadata": {
    "collapsed": false
   },
   "outputs": [],
   "source": [
    "time"
   ]
  },
  {
   "cell_type": "code",
   "execution_count": null,
   "metadata": {
    "collapsed": false
   },
   "outputs": [],
   "source": [
    "np.binary_repr(time[0],width=16)"
   ]
  },
  {
   "cell_type": "code",
   "execution_count": null,
   "metadata": {
    "collapsed": false
   },
   "outputs": [],
   "source": [
    "events[~tick_mask]['min']"
   ]
  },
  {
   "cell_type": "code",
   "execution_count": null,
   "metadata": {
    "collapsed": false
   },
   "outputs": [],
   "source": [
    "events[~tick_mask]['height']"
   ]
  },
  {
   "cell_type": "code",
   "execution_count": null,
   "metadata": {
    "collapsed": false
   },
   "outputs": [],
   "source": [
    "%matplotlib notebook\n",
    "fig = simplt.plot_pulse(1,data,pre=500,length=3000)\n"
   ]
  },
  {
   "cell_type": "code",
   "execution_count": null,
   "metadata": {
    "collapsed": true
   },
   "outputs": [],
   "source": [
    "import pickle\n",
    "\n",
    "# An arbitrary collection of objects supported by pickle.\n",
    "\n",
    "pickler = pickle.Pickler(open('long.pickle', 'wb'),pickle.HIGHEST_PROTOCOL)\n",
    "pickler.dump(data)\n"
   ]
  },
  {
   "cell_type": "code",
   "execution_count": null,
   "metadata": {
    "collapsed": true
   },
   "outputs": [],
   "source": [
    "unpickler = pickle.Unpickler(open('long.pickle', 'rb'))\n",
    "reg2=unpickler.load()\n",
    "data2=unpickler.load()"
   ]
  },
  {
   "cell_type": "code",
   "execution_count": null,
   "metadata": {
    "collapsed": false
   },
   "outputs": [],
   "source": [
    "data2.trace['slope']"
   ]
  },
  {
   "cell_type": "code",
   "execution_count": null,
   "metadata": {
    "collapsed": false
   },
   "outputs": [],
   "source": [
    "reg2"
   ]
  },
  {
   "cell_type": "code",
   "execution_count": null,
   "metadata": {
    "collapsed": false,
    "scrolled": false
   },
   "outputs": [],
   "source": [
    "axs = fig.get_axes()\n",
    "pax=axs[0].parasites\n",
    "pax[0]._label\n",
    "f_ins_ax=axs[1]\n",
    "s_ins_ax=f_ins_ax.parasites[0]"
   ]
  },
  {
   "cell_type": "code",
   "execution_count": null,
   "metadata": {
    "collapsed": false,
    "scrolled": false
   },
   "outputs": [],
   "source": [
    "es=sim.Data.fromfile('eventstream',np.int32,'teslib','measurement_unit_TB')"
   ]
  },
  {
   "cell_type": "code",
   "execution_count": null,
   "metadata": {
    "collapsed": false
   },
   "outputs": [],
   "source": [
    "es"
   ]
  },
  {
   "cell_type": "code",
   "execution_count": null,
   "metadata": {
    "collapsed": false
   },
   "outputs": [],
   "source": [
    "data.peak[-1]"
   ]
  },
  {
   "cell_type": "code",
   "execution_count": null,
   "metadata": {
    "collapsed": false
   },
   "outputs": [],
   "source": [
    "s.peak"
   ]
  },
  {
   "cell_type": "code",
   "execution_count": null,
   "metadata": {
    "collapsed": false
   },
   "outputs": [],
   "source": [
    "isinstance(r,sim.DataRegion)"
   ]
  },
  {
   "cell_type": "code",
   "execution_count": null,
   "metadata": {
    "collapsed": false
   },
   "outputs": [],
   "source": [
    "r.peak"
   ]
  },
  {
   "cell_type": "code",
   "execution_count": null,
   "metadata": {
    "collapsed": false
   },
   "outputs": [],
   "source": [
    "i"
   ]
  },
  {
   "cell_type": "code",
   "execution_count": null,
   "metadata": {
    "collapsed": false
   },
   "outputs": [],
   "source": [
    "%matplotlib notebook\n",
    "import matplotlib.pyplot as plt\n",
    "\n",
    "plt.plot(data.trace['filtered'])"
   ]
  },
  {
   "cell_type": "code",
   "execution_count": null,
   "metadata": {
    "collapsed": false
   },
   "outputs": [],
   "source": [
    "ax=plt.gca()\n",
    "t=ax.transData\n",
    "t.transform([[0.1,0.2],[1,3]])"
   ]
  },
  {
   "cell_type": "code",
   "execution_count": null,
   "metadata": {
    "collapsed": true
   },
   "outputs": [],
   "source": [
    "x=np.array([0,1,2,3])\n",
    "y=np.array([3,4,5,6])\n",
    "\n",
    "xy=np.empty(shape=(4,2))"
   ]
  },
  {
   "cell_type": "code",
   "execution_count": null,
   "metadata": {
    "collapsed": false
   },
   "outputs": [],
   "source": [
    "xy[:,0]=x\n",
    "xy[:,1]=y\n",
    "t.transform(xy)"
   ]
  },
  {
   "cell_type": "code",
   "execution_count": null,
   "metadata": {
    "collapsed": true
   },
   "outputs": [],
   "source": []
  },
  {
   "cell_type": "code",
   "execution_count": null,
   "metadata": {
    "collapsed": false
   },
   "outputs": [],
   "source": [
    "# run to import isim data files\n",
    "\n",
    "import numpy as np\n",
    "import os\n",
    "import matplotlib.pyplot as plt\n",
    "import math\n",
    "from enum import Enum\n",
    "\n",
    "plt.rcParams[\"figure.figsize\"]=[800./80,600./80]\n",
    "\n",
    "repo='c:\\\\TES_project\\\\fpga_ise\\\\'\n",
    "project='teslib'\n",
    "testbench='measurement_unit_TB'\n",
    "datafile='traces'\n",
    "path=repo+project+'\\\\PlanAhead\\\\'+project+'.sim\\\\'+testbench+'\\\\'\n",
    "\n",
    "traces_dt = np.dtype([('input', np.int32),('raw',np.int32),('filtered',np.int32),('slope',np.int32)])\n",
    "traces=np.fromfile(path+'traces',traces_dt)\n",
    "trigger=np.fromfile(path+'triggers',np.int32)\n",
    "settings=np.fromfile(path+'settings',np.int32)\n",
    "cfd_low=np.fromfile(path+'cfdlow',np.int32)\n",
    "cfd_high=np.fromfile(path+'cfdhigh',np.int32)\n",
    "peaks=np.fromfile(path+'peaks',np.int32)\n",
    "peaks.shape=(-1,2)\n",
    "peak_starts=np.fromfile(path+'peak_starts',np.int32)\n",
    "#peak_starts.shape=(-1,2)\n",
    "pulse_starts=np.fromfile(path+'peak_starts',np.int32)\n",
    "settings=np.fromfile(path+'settings',np.int32)\n",
    "cfd_low=np.fromfile(path+'cfdlow',np.int32)\n",
    "cfd_high=np.fromfile(path+'cfdhigh',np.int32)\n",
    "slope_xing=np.fromfile(path+'slopethreshxings',np.int32)\n"
   ]
  },
  {
   "cell_type": "code",
   "execution_count": null,
   "metadata": {
    "collapsed": false
   },
   "outputs": [],
   "source": [
    "settings[13]"
   ]
  },
  {
   "cell_type": "code",
   "execution_count": null,
   "metadata": {
    "collapsed": false
   },
   "outputs": [],
   "source": [
    "#create register dict from settings array\n",
    "\n",
    "class height_type(Enum):\n",
    "    def from_int(value):\n",
    "        if value == 0:\n",
    "            return height_type.peak_height\n",
    "        elif value == 1:\n",
    "            return height_type.cfd_high\n",
    "        elif value == 2:\n",
    "            return height_type.slope_integral\n",
    "        else:\n",
    "            raise AttributeError()\n",
    "    peak_height=0\n",
    "    cfd_high=1\n",
    "    slope_integral=2\n",
    "\n",
    "class trigger_type(Enum):\n",
    "    def from_int(value):\n",
    "        if value == 0:\n",
    "            return trigger_type.pulse_threshold\n",
    "        elif value == 1:\n",
    "            return trigger_type.slope_threshold\n",
    "        elif value == 2:\n",
    "            return trigger_type.cfd_low\n",
    "        else:\n",
    "            raise AttributeError()\n",
    "    pulse_threshold=0\n",
    "    slope_threshold=1\n",
    "    cfd_low=2\n",
    "\n",
    "class event_type(Enum):\n",
    "    def from_int(value):\n",
    "        if value == 0:\n",
    "            return event_type.peak\n",
    "        elif value == 1:\n",
    "            return event_type.area\n",
    "        elif value == 2:\n",
    "            return event_type.pulse\n",
    "        elif value == 3:\n",
    "            return event_type.trace\n",
    "        else:\n",
    "            raise AttributeError()\n",
    "    peak=0\n",
    "    area=1\n",
    "    pulse=2\n",
    "    trace=3\n",
    "\n",
    "\n",
    "def read_registers(settings):\n",
    "    registers = dict()\n",
    "    registers['baseline'] = dict()\n",
    "    registers['baseline']['offset'] = settings[0]\n",
    "    registers['baseline']['subtraction'] = settings[1]!=0\n",
    "    registers['baseline']['timeconstant'] = settings[2]\n",
    "    registers['baseline']['threshold'] = settings[3]\n",
    "    registers['baseline']['count_threshold'] = settings[4]\n",
    "    registers['generic'] = dict()\n",
    "    registers['baseline']['average_order'] = settings[5]\n",
    "    registers['capture'] = dict()\n",
    "    registers['capture']['cfd_relative'] = settings[6]!=0\n",
    "    registers['capture']['constant_fraction'] = settings[7]\n",
    "    registers['capture']['pulse_threshold'] = settings[8]\n",
    "    registers['capture']['slope_threshold'] = settings[9]\n",
    "    registers['capture']['pulse_area_threshold'] = settings[10]\n",
    "    registers['capture']['height_type'] = height_type.from_int(settings[11])\n",
    "    registers['capture']['threshold_rel2min'] = settings[12]!=0\n",
    "    registers['capture']['trigger_type'] = trigger_type.from_int(settings[13])\n",
    "    registers['capture']['event_type'] = event_type.from_int(settings[14])\n",
    "    return registers\n"
   ]
  },
  {
   "cell_type": "code",
   "execution_count": null,
   "metadata": {
    "collapsed": false
   },
   "outputs": [],
   "source": [
    "%matplotlib notebook\n",
    "x=np.arange(len(traces['filtered']))\n",
    "fig=plt.figure()\n",
    "\n",
    "ax=fig.add_axes([0.15,0.1,0.8,0.8])\n",
    "mV=1.0/math.pow(2,14)*1000\n",
    "nS=4\n",
    "\n",
    "\n",
    "i_trace, =ax.step(x*nS/1000000,(traces['input']+1800)*mV*2,'k',label='raw input')\n",
    "f_trace, =ax.step(x*nS/1000000,traces['filtered']*mV,'b',label='processed')\n",
    "fig.suptitle('Digital Signal Processing',fontsize=24)\n",
    "plt.xlabel('time (ms)',fontsize=18)\n",
    "plt.ylabel('Voltage (mV)',fontsize=18)\n",
    "plt.legend(handles=[i_trace,f_trace])\n",
    "\n",
    "fig.savefig('trace.png')\n",
    "plt.show()"
   ]
  },
  {
   "cell_type": "code",
   "execution_count": null,
   "metadata": {
    "collapsed": true
   },
   "outputs": [],
   "source": []
  },
  {
   "cell_type": "code",
   "execution_count": null,
   "metadata": {
    "collapsed": false
   },
   "outputs": [],
   "source": [
    "%matplotlib notebook\n",
    "import math\n",
    "\n",
    "def align_yaxis(ax1, v1, ax2, v2):\n",
    "    \"\"\"adjust ax2 ylimit so that v2 in ax2 is aligned to v1 in ax1\"\"\"\n",
    "    _, y1 = ax1.transData.transform((0, v1))\n",
    "    _, y2 = ax2.transData.transform((0, v2))\n",
    "    adjust_yaxis(ax2,(y1-y2)/2,v2)\n",
    "    adjust_yaxis(ax1,(y2-y1)/2,v1)\n",
    "\n",
    "def adjust_yaxis(ax,ydif,v):\n",
    "    \"\"\"shift axis ax by ydiff, maintaining point v at the same location\"\"\"\n",
    "    inv = ax.transData.inverted()\n",
    "    _, dy = inv.transform((0, 0)) - inv.transform((0, ydif))\n",
    "    miny, maxy = ax.get_ylim()\n",
    "    miny, maxy = miny - v, maxy - v\n",
    "    if -miny>maxy or (-miny==maxy and dy > 0):\n",
    "        nminy = miny\n",
    "        nmaxy = miny*(maxy+dy)/(miny+dy)\n",
    "    else:\n",
    "        nmaxy = maxy\n",
    "        nminy = maxy*(miny+dy)/(maxy+dy)\n",
    "    ax.set_ylim(nminy+v, nmaxy+v)\n",
    "    \n",
    "x=np.arange(len(traces['filtered']))\n",
    "fig=plt.figure()\n",
    "ax=fig.add_axes([0.1,0.1,0.8,0.8])\n",
    "plt.ylim(-10,120)\n",
    "v=math.pow(2,13)/1000\n",
    "t=x*4\n",
    "ax.plot([0,t[-1]],[0,0],'k')\n",
    "raw, = ax.step(t,traces['raw']/2/v,'k',lw=1,label='raw')\n",
    "processed, = ax.step(t,traces['filtered']/2/v,'r',lw=2,label='processed')\n",
    "ax.plot(trigger,traces['filtered'][trigger+1]/2,'kx')\n",
    "ax.plot(peaks[:,0],traces['filtered'][peaks[:,0]+1]/2,'ro')\n",
    "ax.plot(peak_starts,traces['filtered'][peak_starts+1]/2,'ro')\n",
    "ax.plot(cfd_high,traces['filtered'][cfd_high+1]/2,'bs')\n",
    "ax.plot(cfd_low,traces['filtered'][cfd_low+1]/2,'bs')\n",
    "plt.xlabel('time (ns)',fontsize=18)\n",
    "plt.ylabel('Voltage (mV)',fontsize=18,color='r')\n",
    "\n",
    "ax2=ax.twinx()\n",
    "slope, = ax2.step(t,traces['slope']/256/v/4,'b',lw=2,label='slope')\n",
    "plt.xlim([1292000,1297500])\n",
    "plt.ylim(-0.2,1)\n",
    "align_yaxis(ax,0,ax2,0)\n",
    "plt.ylabel('slope (mV/ns)',color='b',fontsize=18)\n",
    "fig.suptitle('Digital signal processing',fontsize=24)\n",
    "plt.legend(handles=[raw,processed,slope])\n",
    "fig.savefig('dsp.png')\n",
    "plt.show()"
   ]
  },
  {
   "cell_type": "code",
   "execution_count": null,
   "metadata": {
    "collapsed": false
   },
   "outputs": [],
   "source": [
    "%matplotlib notebook\n",
    "\n",
    "#plot pulse\n",
    "from mpl_toolkits.axes_grid1 import host_subplot\n",
    "from mpl_toolkits.axes_grid1.inset_locator import zoomed_inset_axes\n",
    "from mpl_toolkits.axes_grid1.inset_locator import mark_inset\n",
    "\n",
    "pulse=7\n",
    "length=2000\n",
    "pre=100\n",
    "\n",
    "def align_yaxis(ax1, v1, ax2, v2):\n",
    "    \"\"\"adjust ax2 ylimit so that v2 in ax2 is aligned to v1 in ax1\"\"\"\n",
    "    _, y1 = ax1.transData.transform((0, v1))\n",
    "    _, y2 = ax2.transData.transform((0, v2))\n",
    "    adjust_yaxis(ax2,(y1-y2)/2,v2)\n",
    "    adjust_yaxis(ax1,(y2-y1)/2,v1)\n",
    "\n",
    "def adjust_yaxis(ax,ydif,v):\n",
    "    \"\"\"shift axis ax by ydiff, maintaining point v at the same location\"\"\"\n",
    "    inv = ax.transData.inverted()\n",
    "    _, dy = inv.transform((0, 0)) - inv.transform((0, ydif))\n",
    "    miny, maxy = ax.get_ylim()\n",
    "    miny, maxy = miny - v, maxy - v\n",
    "    if -miny>maxy or (-miny==maxy and dy > 0):\n",
    "        nminy = miny\n",
    "        nmaxy = miny*(maxy+dy)/(miny+dy)\n",
    "    else:\n",
    "        nmaxy = maxy\n",
    "        nminy = maxy*(miny+dy)/(maxy+dy)\n",
    "    ax.set_ylim(nminy+v, nmaxy+v)\n",
    "    \n",
    "start=pulse_starts[pulse]-pre\n",
    "stop=start+length\n",
    "x=np.arange(0,len(traces['filtered']))\n",
    "fig=plt.figure()\n",
    "\n",
    "f_ax = host_subplot(111)\n",
    "s_ax = f_ax.twinx()\n",
    "\n",
    "f_ax.set_xlabel(\"Time (ns)\",fontsize=18)\n",
    "f_ax.set_ylabel(\"Voltage (mV)\",fontsize=18,color='r')\n",
    "s_ax.set_ylabel(\"Slope (mv/ns)\",fontsize=18,color='b')\n",
    "\n",
    "mV=1.0/math.pow(2,14)*1000\n",
    "nS=4\n",
    "t=x*nS\n",
    "\n",
    "f_sig = traces['filtered']*mV\n",
    "s_sig = traces['slope']*mV/nS\n",
    "\n",
    "f_ax.plot([t[start],t[stop]],[0,0],'k') # zero line\n",
    "f_trace, = f_ax.step(t[start:stop],f_sig[start:stop],'r',lw=2,label='processed')\n",
    "f_ax.set_ylim(-10,180)\n",
    "\n",
    "s_trace, = s_ax.step(t[start:stop],s_sig[start:stop],'b',lw=1,label='slope')\n",
    "s_ax.set_ylim(-15,50)\n",
    "#s_threshold = 6\n",
    "#s_ax.set_yticks(np.concatenate((s_ax.get_yticks(),[s_threshold])))\n",
    "#labels=[label.get_text() for label in s_ax.get_yticklabels()]\n",
    "#labels[6]='Threshold'\n",
    "\n",
    "#s_ax.set_yticklabels(labels)\n",
    "plt.xlim(t[start],t[stop])\n",
    "align_yaxis(f_ax,0,s_ax,0)\n",
    "fig.suptitle('Measurement:First pass',fontsize=24)\n",
    "#plt.legend(handles=[f_trace,s_trace])\n",
    "\n",
    "starts_mask = np.logical_and(peak_starts >= start,peak_starts <= stop)\n",
    "peaks_mask = np.logical_and(peaks[:,0] >= start, peaks[:,0] <= stop)\n",
    "peak_starts_inwin = peak_starts[starts_mask]\n",
    "\n",
    "for pstart in peak_starts_inwin:\n",
    "    peak_start_t=t[pstart]-2\n",
    "    peak_start_f=f_sig[pstart]\n",
    "    peak_start_s=s_sig[pstart]\n",
    "\n",
    "    f_ax.plot(peak_start_t,peak_start_f,'ro')\n",
    "    s_ax.plot(peak_start_t,peak_start_s,'bo')\n",
    "    \n",
    "    f_trans = f_ax.transData\n",
    "    s_trans = s_ax.transData.inverted()\n",
    "    trans = s_trans+f_trans\n",
    "    f_point=f_trans.transform((peak_start_t,peak_start_f))\n",
    "    s_point=s_trans.transform((f_point[0],f_point[1]))\n",
    "\n",
    "    s_ax.plot([peak_start_t,peak_start_t],[peak_start_s, s_point[1]],'k')\n",
    "\n",
    "#for p in peaks[0][peaks_inwin]\n",
    "peaks_inwin = peaks[peaks_mask,0]\n",
    "for p in peaks_inwin:\n",
    "    peak_t=t[p]-2\n",
    "    peak_f=f_sig[p]\n",
    "    peak_s=s_sig[p]\n",
    "\n",
    "    f_ax.plot(peak_t,peak_f,'ro')\n",
    "    s_ax.plot(peak_t,peak_s,'bo')\n",
    "    \n",
    "    f_trans = f_ax.transData\n",
    "    s_trans = s_ax.transData.inverted()\n",
    "    trans = s_trans+f_trans\n",
    "    f_point=f_trans.transform((peak_t,peak_f))\n",
    "    s_point=s_trans.transform((f_point[0],f_point[1]))\n",
    "\n",
    "    s_ax.plot([peak_t,peak_t],[peak_s, s_point[1]],'k')\n",
    "\n",
    "ins_start = peak_starts_inwin[0]-5\n",
    "ins_stop = peak_starts_inwin[0]+5\n",
    "f_ins_ax = zoomed_inset_axes(f_ax, 50, loc=1)  # zoom = 6\n",
    "f_ins_ax.step(t[ins_start:ins_stop],f_sig[ins_start:ins_stop],'r')\n",
    "f_ins_ax.set_ylim(-0.5,2)\n",
    "f_ins_ax.set_xlim(ins_start,ins_stop)\n",
    "f_ins_ax.set_yticks([])\n",
    "f_ins_ax.set_xticks([])\n",
    "\n",
    "f_ins_ax.plot([t[ins_start],t[ins_stop]],[0,0],'k') # zero line\n",
    "\n",
    "#plt.xticks(visible=False)\n",
    "#plt.yticks(visible=False)\n",
    "mark_inset(f_ax, f_ins_ax, loc1=2, loc2=4, fc=\"none\", ec=\"0.5\")\n",
    "\n",
    "s_ins_ax = f_ins_ax.twinx()\n",
    "s_ins_ax.set_yticks([])\n",
    "s_ins_ax.set_xticks([])\n",
    "\n",
    "s_ins_ax.step(t[ins_start:ins_stop],s_sig[ins_start:ins_stop],'b')\n",
    "\n",
    "s_ins_ax.set_ylim(-1,1)\n",
    "align_yaxis(f_ins_ax,0,s_ins_ax,0)\n",
    "\n",
    "pstart = peak_starts_inwin[0]\n",
    "peak_start_t=t[pstart]-2\n",
    "peak_start_f=f_sig[pstart]\n",
    "peak_start_s=s_sig[pstart]\n",
    "\n",
    "f_ins_ax.plot(peak_start_t,peak_start_f,'ro')\n",
    "s_ins_ax.plot(peak_start_t,peak_start_s,'bo')\n",
    "    \n",
    "f_trans = f_ins_ax.transData\n",
    "s_trans = s_ins_ax.transData.inverted()\n",
    "trans = s_trans+f_trans\n",
    "f_point=f_trans.transform((peak_start_t,peak_start_f))\n",
    "s_point=s_trans.transform((f_point[0],f_point[1]))\n",
    "\n",
    "s_ins_ax.plot([peak_start_t,peak_start_t],[peak_start_s, s_point[1]],'k')\n",
    "\n",
    "s_ax.plot([t[start],t[stop]],[s_threshold,s_threshold],ls='dashed')\n",
    "\n",
    "fig.savefig('measurement1.png')\n",
    "plt.draw()\n",
    "plt.show()"
   ]
  },
  {
   "cell_type": "code",
   "execution_count": null,
   "metadata": {
    "collapsed": false
   },
   "outputs": [],
   "source": [
    "%matplotlib notebook\n",
    "from mpl_toolkits.axes_grid1 import host_subplot\n",
    "from mpl_toolkits.axes_grid1.inset_locator import zoomed_inset_axes\n",
    "from mpl_toolkits.axes_grid1.inset_locator import mark_inset\n",
    "\n",
    "pulse=7\n",
    "length=2000\n",
    "pre=100\n",
    "\n",
    "def align_yaxis(ax1, v1, ax2, v2):\n",
    "    \"\"\"adjust ax2 ylimit so that v2 in ax2 is aligned to v1 in ax1\"\"\"\n",
    "    _, y1 = ax1.transData.transform((0, v1))\n",
    "    _, y2 = ax2.transData.transform((0, v2))\n",
    "    adjust_yaxis(ax2,(y1-y2)/2,v2)\n",
    "    adjust_yaxis(ax1,(y2-y1)/2,v1)\n",
    "\n",
    "def adjust_yaxis(ax,ydif,v):\n",
    "    \"\"\"shift axis ax by ydiff, maintaining point v at the same location\"\"\"\n",
    "    inv = ax.transData.inverted()\n",
    "    _, dy = inv.transform((0, 0)) - inv.transform((0, ydif))\n",
    "    miny, maxy = ax.get_ylim()\n",
    "    miny, maxy = miny - v, maxy - v\n",
    "    if -miny>maxy or (-miny==maxy and dy > 0):\n",
    "        nminy = miny\n",
    "        nmaxy = miny*(maxy+dy)/(miny+dy)\n",
    "    else:\n",
    "        nmaxy = maxy\n",
    "        nminy = maxy*(miny+dy)/(maxy+dy)\n",
    "    ax.set_ylim(nminy+v, nmaxy+v)\n",
    "    \n",
    "start=pulse_starts[pulse]-pre\n",
    "stop=start+length\n",
    "x=np.arange(0,len(traces['filtered']))\n",
    "fig=plt.figure()\n",
    "\n",
    "f_ax = host_subplot(111)\n",
    "s_ax = f_ax.twinx()\n",
    "\n",
    "f_ax.set_xlabel(\"Time (ns)\",fontsize=18)\n",
    "f_ax.set_ylabel(\"Voltage (mV)\",fontsize=18,color='r')\n",
    "s_ax.set_ylabel(\"Slope (mv/ns)\",fontsize=18,color='b')\n",
    "\n",
    "mV=1.0/math.pow(2,14)*1000\n",
    "nS=4\n",
    "t=x*nS\n",
    "\n",
    "f_sig = traces['filtered']*mV\n",
    "s_sig = traces['slope']*mV/nS\n",
    "\n",
    "f_ax.plot([t[start],t[stop]],[0,0],'k') # zero line\n",
    "f_trace, = f_ax.step(t[start:stop],f_sig[start:stop],'r',lw=2,label='processed')\n",
    "f_ax.set_ylim(-10,180)\n",
    "\n",
    "s_trace, = s_ax.step(t[start:stop],s_sig[start:stop],'b',lw=1,label='slope')\n",
    "s_ax.set_ylim(-15,50)\n",
    "#s_threshold = 6\n",
    "#s_ax.set_yticks(np.concatenate((s_ax.get_yticks(),[s_threshold])))\n",
    "#labels=[label.get_text() for label in s_ax.get_yticklabels()]\n",
    "#labels[6]='Threshold'\n",
    "\n",
    "#s_ax.set_yticklabels(labels)\n",
    "plt.xlim(t[start],t[stop])\n",
    "align_yaxis(f_ax,0,s_ax,0)\n",
    "fig.suptitle('Measurement:Second pass',fontsize=24)\n",
    "#plt.legend(handles=[f_trace,s_trace])\n",
    "\n",
    "starts_mask = np.logical_and(peak_starts >= start,peak_starts <= stop)\n",
    "peaks_mask = np.logical_and(peaks[:,0] >= start, peaks[:,0] <= stop)\n",
    "peak_starts_inwin = peak_starts[starts_mask]\n",
    "\n",
    "\n",
    "#for pstart in peak_starts_inwin:\n",
    "#    peak_start_t=t[pstart]-2\n",
    "#    peak_start_f=f_sig[pstart]\n",
    "#    peak_start_s=s_sig[pstart]\n",
    "#\n",
    "#    f_ax.plot(peak_start_t,peak_start_f,'ro')\n",
    "#    s_ax.plot(peak_start_t,peak_start_s,'bo')\n",
    "    \n",
    "#    f_trans = f_ax.transData\n",
    "#    s_trans = s_ax.transData.inverted()\n",
    "#    trans = s_trans+f_trans\n",
    "#    f_point=f_trans.transform((peak_start_t,peak_start_f))\n",
    "#    s_point=s_trans.transform((f_point[0],f_point[1]))\n",
    "\n",
    "#    s_ax.plot([peak_start_t,peak_start_t],[peak_start_s, s_point[1]],'k')\n",
    "\n",
    "#for p in peaks[0][peaks_inwin]\n",
    "peaks_inwin = peaks[peaks_mask,0]\n",
    "x_s=peak_starts_inwin\n",
    "x_p=peaks_inwin\n",
    "y_s=f_sig[x_s]\n",
    "y_p=f_sig[x_p]\n",
    "\n",
    "f_ax.plot(t[peak_starts_inwin],f_sig[peak_starts_inwin],'or')\n",
    "f_ax.plot(t[peaks_inwin],f_sig[peaks_inwin],'or')\n",
    "\n",
    "\n",
    "f_ax.plot([t[x_s[0]],t[x_p[0]]],[y_s[0],y_s[0]],'k')\n",
    "f_ax.plot([t[x_p[0]],t[x_p[0]]],[y_s[0],y_p[0]],'k')\n",
    "\n",
    "f_ax.plot([t[x_s[1]],t[x_p[1]]],[y_s[1],y_s[1]],'k')\n",
    "f_ax.plot([t[x_p[1]],t[x_p[1]]],[y_s[1],y_p[1]],'k')\n",
    "\n",
    "\n",
    "#for p in peaks_inwin:\n",
    "#    peak_t=t[p]-2\n",
    "#    peak_f=f_sig[p]\n",
    "#    peak_s=s_sig[p]\n",
    "\n",
    "#    f_ax.plot(peak_t,peak_f,'ro')\n",
    "#    s_ax.plot(peak_t,peak_s,'bo')\n",
    "    \n",
    "#    f_trans = f_ax.transData\n",
    "#    s_trans = s_ax.transata.inverted()\n",
    "#    trans = s_trans+f_trans\n",
    "#    f_point=f_trans.transform((peak_t,peak_f))\n",
    "#    s_point=s_trans.transform((f_point[0],f_point[1]))\n",
    "\n",
    "#    s_ax.plot([peak_t,peak_t],[peak_s, s_point[1]],'k')\n",
    "\n",
    "ins_start = peak_starts_inwin[1]-300\n",
    "ins_stop = peak_starts_inwin[1]+500\n",
    "f_ins_ax = zoomed_inset_axes(f_ax, 1.5, loc=1)  # zoom = 6\n",
    "f_ins_ax.step(t[ins_start:ins_stop],f_sig[ins_start:ins_stop],'r')\n",
    "f_ins_ax.set_ylim(60,180)\n",
    "f_ins_ax.set_xlim(t[ins_start],t[ins_stop])\n",
    "f_ins_ax.set_yticks([])\n",
    "f_ins_ax.set_xticks([])\n",
    "\n",
    "low_mask = np.logical_and(cfd_low >= start, cfd_low <= stop)\n",
    "low_inwin = cfd_low[low_mask]\n",
    "high_mask = np.logical_and(cfd_high >= start, cfd_high <= stop)\n",
    "high_inwin = cfd_high[high_mask]\n",
    "thresh_mask = np.logical_and(slope_xing >= start, slope_xing <= stop)\n",
    "thresh_inwin = slope_xing[thresh_mask]\n",
    "\n",
    "f_ins_ax.plot(t[peak_starts_inwin],f_sig[peak_starts_inwin],'or')\n",
    "f_ins_ax.plot(t[peaks_inwin],f_sig[peaks_inwin],'or')\n",
    "\n",
    "f_ins_ax.plot(t[low_inwin],f_sig[low_inwin],'ok')\n",
    "f_ins_ax.plot(t[high_inwin],f_sig[high_inwin],'ok')\n",
    "f_ax.plot(t[low_inwin],f_sig[low_inwin],'ok')\n",
    "f_ax.plot(t[high_inwin],f_sig[high_inwin],'ok')\n",
    "#f_ax.plot(t[thresh_inwin],f_sig[thresh_inwin],'ow')\n",
    "f_ins_ax.plot(t[thresh_inwin],f_sig[thresh_inwin],'ow')\n",
    "\n",
    "\n",
    "f_ins_ax.plot([t[x_s[0]],t[x_p[0]]],[y_s[0],y_s[0]],'k')\n",
    "f_ins_ax.plot([t[x_p[0]],t[x_p[0]]],[y_s[0],y_p[0]],'k')\n",
    "\n",
    "f_ins_ax.plot([t[x_s[1]],t[x_p[1]]],[y_s[1],y_s[1]],'k')\n",
    "f_ins_ax.plot([t[x_p[1]],t[x_p[1]]],[y_s[1],y_p[1]],'k')\n",
    "\n",
    "#f_ins_ax.plot([t[ins_start],t[ins_stop]],[0,0],'k') # zero line\n",
    "\n",
    "#plt.xticks(visible=False)\n",
    "#plt.yticks(visible=False)\n",
    "#mark_inset(f_ax, f_ins_ax, loc1=2, loc2=4, fc=\"none\", ec=\"0.5\")\n",
    "\n",
    "pstart = peak_starts_inwin[1]\n",
    "peak_start_t=t[pstart]-2\n",
    "peak_start_f=f_sig[pstart]\n",
    "peak_start_s=s_sig[pstart]\n",
    "\n",
    "f_ins_ax.plot(peak_start_t,peak_start_f,'ro')\n",
    "\n",
    "\n",
    "f_trans = f_ins_ax.transData\n",
    "s_trans = s_ins_ax.transData.inverted()\n",
    "trans = s_trans+f_trans\n",
    "f_point=f_trans.transform((peak_start_t,peak_start_f))\n",
    "s_point=s_trans.transform((f_point[0],f_point[1]))\n",
    "\n",
    "s_ins_ax.plot([peak_start_t,peak_start_t],[peak_start_s, s_point[1]],'k')\n",
    "\n",
    "s_ax.plot([t[start],t[stop]],[s_threshold,s_threshold],ls='dashed')\n",
    "\n",
    "fig.savefig('measurement2.png')\n",
    "plt.draw()\n",
    "plt.show()"
   ]
  },
  {
   "cell_type": "code",
   "execution_count": null,
   "metadata": {
    "collapsed": false
   },
   "outputs": [],
   "source": [
    "from mpl_toolkits.axes_grid1.inset_locator import inset_axes\n",
    "\n",
    "fig=plt.figure()\n",
    "fig.suptitle('Multi Channel Analyser',fontsize=24)\n",
    "\n",
    "h_ax = host_subplot(111)\n",
    "\n",
    "h_ins_ax = inset_axes(h_ax, width=\"80%\",height=1., loc=1)  # zoom = 6\n",
    "h_ins_ax.set_xlim(-25,160)\n",
    "h_ins_ax.set_ylim(0,0.002)\n",
    "h_ax.hist((traces['input']+200)*2*mV,math.pow(2,14),normed=1,facecolor='k',edgecolor='k')\n",
    "h_ax.hist(f_sig,math.pow(2,14),normed=1,facecolor='r',edgecolor='r')\n",
    "h_ins_ax.hist(f_sig,math.pow(2,14),normed=1,facecolor='r',edgecolor='r')\n",
    "h_ins_ax.set_xticks([])\n",
    "h_ins_ax.set_yticks([])\n",
    "h_ax.set_xlim(-30,100)\n",
    "h_ax.set_ylim(0,0.8)\n",
    "\n",
    "mark_inset(h_ax, h_ins_ax, loc1=2, loc2=4, fc=\"none\", ec=\"0.5\")\n",
    "\n",
    "h_ax.set_xlabel('Voltage (mV)')\n",
    "h_ax.set_ylabel('Probability')\n",
    "fig.savefig('hist.png')\n",
    "plt.show()"
   ]
  },
  {
   "cell_type": "code",
   "execution_count": null,
   "metadata": {
    "collapsed": true
   },
   "outputs": [],
   "source": [
    "peak_dt=np.dtype([('time',np.uint16),('flags',np.uint16),('minima',np.uint16),('height',np.uint16)])"
   ]
  },
  {
   "cell_type": "code",
   "execution_count": null,
   "metadata": {
    "collapsed": true
   },
   "outputs": [],
   "source": [
    "area_dt=np.dtype([('time',np.uint16),('flags',np.uint16),('area',np.uint32)])"
   ]
  },
  {
   "cell_type": "code",
   "execution_count": null,
   "metadata": {
    "collapsed": true
   },
   "outputs": [],
   "source": [
    "pulse_peak_dt=np.dtype([('trigger',np.uint16),('rise',np.uint16),('minima',np.uint16),('height',np.uint16)])\n",
    "pulse_header_dt=np.dtype([('time',np.uint16),('flags',np.uint16),('res1',np.uint16),('size',np.uint16),\n",
    "                    ('length',np.uint16),('res2',np.uint16),('area',np.int32)])"
   ]
  },
  {
   "cell_type": "code",
   "execution_count": null,
   "metadata": {
    "collapsed": false
   },
   "outputs": [],
   "source": [
    "pulse2_dt=np.dtype([('time',np.uint16),('flags',np.uint16),('res1',np.uint16),('size',np.uint16),\n",
    "                    ('length',np.uint16),('res2',np.uint16),('area',np.int32),\n",
    "                    ('trigger0',np.uint16),('rise0',np.uint16),('minima0',np.uint16),('height0',np.uint16),\n",
    "                    ('trigger1',np.uint16),('rise1',np.uint16),('minima1',np.uint16),('height1',np.uint16)])"
   ]
  },
  {
   "cell_type": "code",
   "execution_count": null,
   "metadata": {
    "collapsed": false
   },
   "outputs": [],
   "source": [
    "pulse2_subarray_dt=np.dtype([('header',pulse_header_dt,('peaks', (pulse_peak_dt,(1,2)) ))])"
   ]
  },
  {
   "cell_type": "code",
   "execution_count": null,
   "metadata": {
    "collapsed": true
   },
   "outputs": [],
   "source": [
    "eventstream=np.fromfile(path+'eventstream',peak_dt)"
   ]
  },
  {
   "cell_type": "code",
   "execution_count": null,
   "metadata": {
    "collapsed": true
   },
   "outputs": [],
   "source": [
    "eventstream=np.fromfile(path+'eventstream',area_dt)"
   ]
  },
  {
   "cell_type": "code",
   "execution_count": null,
   "metadata": {
    "collapsed": true
   },
   "outputs": [],
   "source": [
    "eventstream=np.fromfile(path+'eventstream',pulse2_dt)"
   ]
  },
  {
   "cell_type": "code",
   "execution_count": null,
   "metadata": {
    "collapsed": false
   },
   "outputs": [],
   "source": [
    "eventstream"
   ]
  },
  {
   "cell_type": "code",
   "execution_count": null,
   "metadata": {
    "collapsed": false
   },
   "outputs": [],
   "source": [
    "flags=eventstream['flags']\n",
    "print(np.binary_repr(flags[0],16))"
   ]
  },
  {
   "cell_type": "code",
   "execution_count": null,
   "metadata": {
    "collapsed": false
   },
   "outputs": [],
   "source": [
    "print(\"flags:{:016b}\\nsize:{}\\nlength:{}\\narea:{}\\ntrigger:{} rise:{} minima:{} height:{}\\ntrigger:{} rise:{} minima:{} height:{}\\n\"  \n",
    "      .format(eventstream['flags'][0],eventstream['size'][0],eventstream['length'][0],eventstream['area'][0],\n",
    "        eventstream['trigger0'][0],eventstream['rise0'][0],eventstream['minima0'][0],eventstream['height0'][0],\n",
    "        eventstream['trigger1'][0],eventstream['rise1'][0],eventstream['minima1'][0],eventstream['height1'][0]))"
   ]
  },
  {
   "cell_type": "code",
   "execution_count": null,
   "metadata": {
    "collapsed": false
   },
   "outputs": [],
   "source": [
    "print(np.binary_repr(flags[1],16))"
   ]
  },
  {
   "cell_type": "code",
   "execution_count": null,
   "metadata": {
    "collapsed": true
   },
   "outputs": [],
   "source": [
    "rel_to_min=np.right_shift(np.bitwise_and(flags,0x8000),15).astype(np.bool)\n",
    "channel=np.right_shift(np.bitwise_and(flags,0x0F00),8).astype(np.uint8)\n",
    "threshold_rel2min=np.right_shift(np.bitwise_and(flags,0x4000),14).astype(np.bool)\n",
    "peak_count=np.right_shift(np.bitwise_and(flags,0x00F0),4).astype(np.uint8)\n",
    "tick=np.bitwise_and(flags,0x0001).astype(bool)\n",
    "area=np.right_shift(np.bitwise_and(flags,0x0002),1).astype(np.bool)\n",
    "trace=np.right_shift(np.bitwise_and(flags,0x0004),2).astype(np.bool)\n",
    "fixed=np.right_shift(np.bitwise_and(flags,0x0008),3).astype(np.bool)\n",
    "event_type=np.right_shift(np.bitwise_and(flags,0x3000),12).astype(np.uint8)"
   ]
  },
  {
   "cell_type": "code",
   "execution_count": null,
   "metadata": {
    "collapsed": false
   },
   "outputs": [],
   "source": [
    "flags"
   ]
  },
  {
   "cell_type": "code",
   "execution_count": null,
   "metadata": {
    "collapsed": false
   },
   "outputs": [],
   "source": [
    "eventstream"
   ]
  },
  {
   "cell_type": "code",
   "execution_count": null,
   "metadata": {
    "collapsed": true
   },
   "outputs": [],
   "source": []
  },
  {
   "cell_type": "code",
   "execution_count": null,
   "metadata": {
    "collapsed": true
   },
   "outputs": [],
   "source": []
  }
 ],
 "metadata": {
  "kernelspec": {
   "display_name": "Python 3",
   "language": "python",
   "name": "python3"
  },
  "language_info": {
   "codemirror_mode": {
    "name": "ipython",
    "version": 3
   },
   "file_extension": ".py",
   "mimetype": "text/x-python",
   "name": "python",
   "nbconvert_exporter": "python",
   "pygments_lexer": "ipython3",
   "version": "3.5.1"
  }
 },
 "nbformat": 4,
 "nbformat_minor": 0
}
