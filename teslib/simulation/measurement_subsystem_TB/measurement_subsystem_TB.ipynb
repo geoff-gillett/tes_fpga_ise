{
 "cells": [
  {
   "cell_type": "code",
   "execution_count": 2,
   "metadata": {
    "collapsed": false
   },
   "outputs": [],
   "source": [
    "import sys\n",
    "import simulation.data as sim\n",
    "import simulation.plot as simplt\n",
    "import numpy as np\n",
    "import matplotlib.pyplot as plt\n",
    "import math"
   ]
  },
  {
   "cell_type": "code",
   "execution_count": 133,
   "metadata": {
    "collapsed": false
   },
   "outputs": [],
   "source": [
    "fileset = dict()\n",
    "# dict contains tuples (file, np.dtype, is_indexed boolean) the key is the name of the attribute to use\n",
    "# is_indexed indicates that the first np.int32 is an index and slice should search for values in bounds \n",
    "# rather than slicing\n",
    "\n",
    "fileset['trace'] = (\n",
    "    'traces',\n",
    "    np.dtype([('input', np.int32), ('raw', np.int32), ('filtered', np.int32), ('slope', np.int32)]),\n",
    "    False\n",
    ")\n",
    "\n",
    "meas_dt=np.dtype([('index', np.int32), ('area', np.int32), ('extrema', np.int32)])\n",
    "\n",
    "fileset['raw'] = (\n",
    "    'raw',\n",
    "    meas_dt,\n",
    "    False\n",
    ")\n",
    "\n",
    "fileset['filtered'] = (\n",
    "    'filtered',\n",
    "    meas_dt,\n",
    "    False\n",
    ")\n",
    "\n",
    "fileset['slope'] = (\n",
    "    'slope',\n",
    "    meas_dt,\n",
    "    False\n",
    ")\n",
    "\n",
    "fileset['pulse'] = (\n",
    "    'pulse',\n",
    "    meas_dt,\n",
    "    False\n",
    ")\n",
    "\n",
    "fileset['pulse_start'] = (\n",
    "    'pulsestarts',\n",
    "    np.int32,\n",
    "    True\n",
    ")\n",
    "\n",
    "fileset['slope_thresh_xing'] = (\n",
    "    'slopethreshxings',\n",
    "    np.int32,\n",
    "    True\n",
    ")\n",
    "\n",
    "fileset['peak'] = (\n",
    "    'peaks',\n",
    "    np.int32,\n",
    "    True\n",
    ")\n",
    "\n",
    "fileset['peak_start'] = (\n",
    "    'peak_starts',\n",
    "    np.int32,\n",
    "    True\n",
    ")\n",
    "\n",
    "fileset['heights'] = (\n",
    "    'heights',\n",
    "    np.int32,\n",
    "    True\n",
    ")\n",
    "\n",
    "fileset['cfd_low'] = (\n",
    "    'cfdlow',\n",
    "    np.int32,\n",
    "    True\n",
    ")\n",
    "\n",
    "fileset['cfd_high'] = (\n",
    "    'cfdhigh',\n",
    "    np.int32,\n",
    "    True\n",
    ")\n",
    "\n",
    "fileset['trigger'] = (\n",
    "    'triggers',\n",
    "    np.int32,\n",
    "    True\n",
    ")\n",
    "\n",
    "stream_dt = np.dtype([('data', np.uint64), ('last', np.int32)])\n",
    "\n",
    "fileset['event_stream'] = (\n",
    "    'eventstream',\n",
    "    stream_dt,\n",
    "    False\n",
    ")\n",
    "\n",
    "fileset['mca_stream'] = (\n",
    "    'mcastream',\n",
    "    stream_dt,\n",
    "    False\n",
    ")\n",
    "\n",
    "fileset['cfd_errors'] = (\n",
    "    'cfderrors',\n",
    "    np.int32,\n",
    "    True\n",
    ")\n",
    "\n",
    "fileset['time_overflows'] = (\n",
    "    'timeoverflows',\n",
    "    np.int32,\n",
    "    True\n",
    ")\n",
    "\n",
    "fileset['peak_overflows'] = (\n",
    "    'peakoverflows',\n",
    "    np.int32,\n",
    "    True\n",
    ")\n",
    "\n",
    "\n",
    "fileset['mux_full'] = (\n",
    "    'muxfull',\n",
    "    np.int32,\n",
    "    True\n",
    ")\n",
    "\n",
    "fileset['mux_overflows'] = (\n",
    "    'muxoverflows',\n",
    "    np.dtype([('index',np.int32),('overflows',np.uint32)]),\n",
    "    True\n",
    ")\n",
    "\n",
    "fileset['ethernet_stream'] = (\n",
    "    'ethernetstream',\n",
    "    stream_dt,\n",
    "    False\n",
    ")\n",
    "\n",
    "fileset['settings'] = (\n",
    "    'settings',\n",
    "    np.int32,\n",
    "    False\n",
    ")\n",
    "\n",
    "fileset['timeoverflows'] = (\n",
    "    'timeoverflows',\n",
    "    np.int32,\n",
    "    True\n",
    ")\n",
    "\n",
    "fileset['settings'] = (\n",
    "    'settings',\n",
    "    np.int32,\n",
    "    False\n",
    ")\n",
    "\n",
    "fileset['mcasettings'] = (\n",
    "    'mcasettings',\n",
    "    np.int32,\n",
    "    False\n",
    ")\n",
    "\n",
    "data=sim.Data(fileset,'teslib','measurement_subsystem_TB')"
   ]
  },
  {
   "cell_type": "code",
   "execution_count": 130,
   "metadata": {
    "collapsed": false
   },
   "outputs": [
    {
     "data": {
      "text/plain": [
       "<simulation.data.Data at 0x12422390>"
      ]
     },
     "execution_count": 130,
     "metadata": {},
     "output_type": "execute_result"
    }
   ],
   "source": [
    "data"
   ]
  },
  {
   "cell_type": "code",
   "execution_count": null,
   "metadata": {
    "collapsed": false
   },
   "outputs": [],
   "source": [
    "event_dt=np.dtype(\n",
    "    (np.uint64, \n",
    "        [\n",
    "            ('data', np.uint32),\n",
    "            ('flags0', np.uint8),\n",
    "            ('flags1', np.uint8),\n",
    "            ('time',np.uint16)\n",
    "        ] \n",
    "    )\n",
    ")\n",
    "\n",
    "peak_dt=np.dtype(\n",
    "    (\n",
    "        [\n",
    "            ('height', np.int16),\n",
    "            ('minima', np.int16),\n",
    "            ('flags0', np.uint8),\n",
    "            ('flags1', np.uint8),\n",
    "            ('time',np.uint16)\n",
    "        ] \n",
    "    )\n",
    ")\n",
    "\n",
    "tick_dt=np.dtype(\n",
    "    ( \n",
    "        [\n",
    "            ('period', np.uint32),\n",
    "            ('flags0', np.uint8),\n",
    "            ('flags1', np.uint8),\n",
    "            ('time', np.uint16),\n",
    "            ('timestamp', np.uint64)\n",
    "        ]\n",
    "    )\n",
    ")\n",
    "\n",
    "e = sim.EventStream('teslib','measurement_subsystem_TB')\n",
    "\n",
    "events=e._stream64.view(dtype=event_dt)\n",
    "\n",
    "#type_flags = np.bitwise_and(events['flags'],0x000f)\n",
    "tick = np.bitwise_and(events['flags1'],0x02)!=0\n",
    "window_start = np.bitwise_and(events['flags1'],0x01)!=0\n",
    "\n",
    "tick_mask=np.zeros(len(tick),dtype=bool)\n",
    "i=0\n",
    "while (i < len(tick)):\n",
    "    if tick[i]!=0:\n",
    "        tick_mask[i:i+2]=True\n",
    "        i+=1\n",
    "    i+=1\n",
    "    \n",
    "peaks=e._stream64[~tick_mask].view(dtype=peak_dt)\n",
    "\n",
    "ticks=e._stream64[tick_mask].view(dtype=tick_dt)"
   ]
  },
  {
   "cell_type": "code",
   "execution_count": 134,
   "metadata": {
    "collapsed": false
   },
   "outputs": [
    {
     "data": {
      "text/plain": [
       "{'_data': {'cfd_errors': (array([], dtype=int32), True),\n",
       "  'cfd_high': (array([ 20876,  74025, 118151, 242208]), True),\n",
       "  'cfd_low': (array([ 20831,  73979, 118105, 242167]), True),\n",
       "  'ethernet_stream': (None, False),\n",
       "  'event_stream': (array([(566248488370176, 2), (11265845246296064, 1365049600),\n",
       "          (281479274038839, 65536), (281486496498176, 0),\n",
       "          (2375931446646408799, 656991), (18433521527262609425, -1403191024),\n",
       "          (281552283043370, 65536), (562959393227264, 0),\n",
       "          (18446464797756162048, 196610), (18420010041185665024, -1309343472)], \n",
       "         dtype=[('data', '<u8'), ('last', '<i4')]), False),\n",
       "  'filtered': (array([(327, 0, -61), (420, 4616, 87), (617, -13908, -127), ...,\n",
       "          (249726, 1, 1), (249780, -2130, -57), (249980, 15809, 158)], \n",
       "         dtype=[('index', '<i4'), ('area', '<i4'), ('extrema', '<i4')]),\n",
       "   False),\n",
       "  'heights': (array([ 20913,   1594,  74057,   1631, 118186,   1578, 242236,   1418]),\n",
       "   True),\n",
       "  'mca_stream': (array([(72057594037927936, 16777216), (16777216, 16777216),\n",
       "          (72057594054705152, 16777216), ..., (0, 0), (0, 0),\n",
       "          (72057594037927936, 16777216)], \n",
       "         dtype=[('data', '<u8'), ('last', '<i4')]), False),\n",
       "  'mcasettings': (array([    0,     0,    -1, -1000,     0,     0,     1]),\n",
       "   False),\n",
       "  'mux_full': (array([], dtype=int32), True),\n",
       "  'mux_overflows': (array([], \n",
       "         dtype=[('index', '<i4'), ('overflows', '<u4')]), True),\n",
       "  'peak': (array([ 20913,  74057, 118186, 242236]), True),\n",
       "  'peak_overflows': (array([], dtype=int32), True),\n",
       "  'peak_start': (array([ 20800,  73934, 118044, 242145]), True),\n",
       "  'pulse': (array([(21120, 318755, 1594), (74282, 334041, 1632),\n",
       "          (118403, 308808, 1578), (242432, 274041, 1418)], \n",
       "         dtype=[('index', '<i4'), ('area', '<i4'), ('extrema', '<i4')]),\n",
       "   False),\n",
       "  'pulse_start': (array([ 20842,  73990, 118121, 242183]), True),\n",
       "  'raw': (array([(325, 0, -116), (327, 28, 22), (328, -40, -40), ...,\n",
       "          (249984, 54, 30), (249998, -1010, -132), (249999, 6, 6)], \n",
       "         dtype=[('index', '<i4'), ('area', '<i4'), ('extrema', '<i4')]),\n",
       "   False),\n",
       "  'settings': (array([  260,     1, 32768,    -1,   150,     4,     1, 26214,  2400,\n",
       "           2560,   500,     0,     0,     2,     0, 65536,     0]), False),\n",
       "  'slope': (array([(312, 0, -112), (339, 49580, 173), (345, -936, -15), ...,\n",
       "          (249943, -49476, -182), (249955, 3920, 35), (249991, -53740, -229)], \n",
       "         dtype=[('index', '<i4'), ('area', '<i4'), ('extrema', '<i4')]),\n",
       "   False),\n",
       "  'slope_thresh_xing': (array([ 20830,  73974,  74009, 118110, 242164, 242193]),\n",
       "   True),\n",
       "  'time_overflows': (array([], dtype=int32), True),\n",
       "  'timeoverflows': (array([], dtype=int32), True),\n",
       "  'trace': (array([(222, 0, 0, 0), (225, 0, 0, 0), (245, 0, 0, 0), ...,\n",
       "          (217, -216, -123, 6), (243, -96, -122, 15), (222, -172, -121, 22)], \n",
       "         dtype=[('input', '<i4'), ('raw', '<i4'), ('filtered', '<i4'), ('slope', '<i4')]),\n",
       "   False),\n",
       "  'trigger': (array([ 20831,  73979, 118105, 242167]), True)},\n",
       " 'cfd_errors': array([], dtype=int32),\n",
       " 'cfd_high': array([ 20876,  74025, 118151, 242208]),\n",
       " 'cfd_low': array([ 20831,  73979, 118105, 242167]),\n",
       " 'ethernet_stream': None,\n",
       " 'event_stream': array([(566248488370176, 2), (11265845246296064, 1365049600),\n",
       "        (281479274038839, 65536), (281486496498176, 0),\n",
       "        (2375931446646408799, 656991), (18433521527262609425, -1403191024),\n",
       "        (281552283043370, 65536), (562959393227264, 0),\n",
       "        (18446464797756162048, 196610), (18420010041185665024, -1309343472)], \n",
       "       dtype=[('data', '<u8'), ('last', '<i4')]),\n",
       " 'filtered': array([(327, 0, -61), (420, 4616, 87), (617, -13908, -127), ...,\n",
       "        (249726, 1, 1), (249780, -2130, -57), (249980, 15809, 158)], \n",
       "       dtype=[('index', '<i4'), ('area', '<i4'), ('extrema', '<i4')]),\n",
       " 'heights': array([ 20913,   1594,  74057,   1631, 118186,   1578, 242236,   1418]),\n",
       " 'mca_stream': array([(72057594037927936, 16777216), (16777216, 16777216),\n",
       "        (72057594054705152, 16777216), ..., (0, 0), (0, 0),\n",
       "        (72057594037927936, 16777216)], \n",
       "       dtype=[('data', '<u8'), ('last', '<i4')]),\n",
       " 'mcasettings': array([    0,     0,    -1, -1000,     0,     0,     1]),\n",
       " 'mux_full': array([], dtype=int32),\n",
       " 'mux_overflows': array([], \n",
       "       dtype=[('index', '<i4'), ('overflows', '<u4')]),\n",
       " 'peak': array([ 20913,  74057, 118186, 242236]),\n",
       " 'peak_overflows': array([], dtype=int32),\n",
       " 'peak_start': array([ 20800,  73934, 118044, 242145]),\n",
       " 'pulse': array([(21120, 318755, 1594), (74282, 334041, 1632),\n",
       "        (118403, 308808, 1578), (242432, 274041, 1418)], \n",
       "       dtype=[('index', '<i4'), ('area', '<i4'), ('extrema', '<i4')]),\n",
       " 'pulse_start': array([ 20842,  73990, 118121, 242183]),\n",
       " 'raw': array([(325, 0, -116), (327, 28, 22), (328, -40, -40), ...,\n",
       "        (249984, 54, 30), (249998, -1010, -132), (249999, 6, 6)], \n",
       "       dtype=[('index', '<i4'), ('area', '<i4'), ('extrema', '<i4')]),\n",
       " 'registers': {'baseline': {'average_order': 4,\n",
       "   'count_threshold': 150,\n",
       "   'offset': 260,\n",
       "   'subtraction': True,\n",
       "   'threshold': -1,\n",
       "   'time_constant': 32768},\n",
       "  'capture': {'cfd_relative': True,\n",
       "   'constant_fraction': 26214,\n",
       "   'event_type': <PayloadType.peak: 0>,\n",
       "   'height_rel2min': True,\n",
       "   'height_type': <HeightType.peak_height: 0>,\n",
       "   'pulse_area_threshold': 500,\n",
       "   'pulse_threshold': 2400,\n",
       "   'slope_threshold': 2560,\n",
       "   'threshold_rel2min': False,\n",
       "   'trigger_type': <TriggerType.cfd_low: 2>},\n",
       "  'generic': {}},\n",
       " 'settings': array([  260,     1, 32768,    -1,   150,     4,     1, 26214,  2400,\n",
       "         2560,   500,     0,     0,     2,     0, 65536,     0]),\n",
       " 'slope': array([(312, 0, -112), (339, 49580, 173), (345, -936, -15), ...,\n",
       "        (249943, -49476, -182), (249955, 3920, 35), (249991, -53740, -229)], \n",
       "       dtype=[('index', '<i4'), ('area', '<i4'), ('extrema', '<i4')]),\n",
       " 'slope_thresh_xing': array([ 20830,  73974,  74009, 118110, 242164, 242193]),\n",
       " 'time_overflows': array([], dtype=int32),\n",
       " 'timeoverflows': array([], dtype=int32),\n",
       " 'trace': array([(222, 0, 0, 0), (225, 0, 0, 0), (245, 0, 0, 0), ...,\n",
       "        (217, -216, -123, 6), (243, -96, -122, 15), (222, -172, -121, 22)], \n",
       "       dtype=[('input', '<i4'), ('raw', '<i4'), ('filtered', '<i4'), ('slope', '<i4')]),\n",
       " 'trigger': array([ 20831,  73979, 118105, 242167])}"
      ]
     },
     "execution_count": 134,
     "metadata": {},
     "output_type": "execute_result"
    }
   ],
   "source": [
    "data.__dict__"
   ]
  },
  {
   "cell_type": "code",
   "execution_count": null,
   "metadata": {
    "collapsed": false
   },
   "outputs": [],
   "source": [
    "data.registers"
   ]
  },
  {
   "cell_type": "code",
   "execution_count": null,
   "metadata": {
    "collapsed": false
   },
   "outputs": [],
   "source": [
    "stream_dt=np.dtype([('data',np.uint64),('last',np.uint32)])\n",
    "mcastream=sim.Data.fromfile('mcastream',stream_dt,'teslib','measurement_subsystem_TB')\n",
    "mcastream"
   ]
  },
  {
   "cell_type": "code",
   "execution_count": null,
   "metadata": {
    "collapsed": false
   },
   "outputs": [],
   "source": [
    "mcastream['last'].nonzero()"
   ]
  },
  {
   "cell_type": "code",
   "execution_count": null,
   "metadata": {
    "collapsed": false
   },
   "outputs": [],
   "source": [
    "mca_header_dt=np.dtype([('size',np.uint16),('last_bin',np.uint16),('lowest_value',np.int32)])\n",
    "mcastream['data'][0].view(mca_header_dt)"
   ]
  },
  {
   "cell_type": "code",
   "execution_count": null,
   "metadata": {
    "collapsed": false
   },
   "outputs": [],
   "source": [
    "data.cfd_low"
   ]
  },
  {
   "cell_type": "code",
   "execution_count": null,
   "metadata": {
    "collapsed": false
   },
   "outputs": [],
   "source": [
    "data.peak"
   ]
  },
  {
   "cell_type": "code",
   "execution_count": null,
   "metadata": {
    "collapsed": false
   },
   "outputs": [],
   "source": [
    "peaks"
   ]
  },
  {
   "cell_type": "code",
   "execution_count": null,
   "metadata": {
    "collapsed": false
   },
   "outputs": [],
   "source": [
    "ticks"
   ]
  },
  {
   "cell_type": "code",
   "execution_count": null,
   "metadata": {
    "collapsed": false
   },
   "outputs": [],
   "source": [
    "peaks['flags1']"
   ]
  },
  {
   "cell_type": "code",
   "execution_count": null,
   "metadata": {
    "collapsed": false
   },
   "outputs": [],
   "source": [
    "lasts"
   ]
  },
  {
   "cell_type": "code",
   "execution_count": null,
   "metadata": {
    "collapsed": false,
    "scrolled": true
   },
   "outputs": [],
   "source": [
    "enet_dt=np.dtype([('data', np.uint64), ('last', np.uint32)])\n",
    "enet=sim.Data.fromfile('ethernet',enet_dt,'teslib','measurement_subsystem_TB')\n",
    "\n",
    "lasts=enet['last'].nonzero()[0]+1\n",
    "packets = []\n",
    "\n",
    "prev=0\n",
    "end=0\n",
    "for last in lasts:\n",
    "    if prev==0:\n",
    "        byte_stream = np.copy(enet['data'][prev:last]).view(np.uint8)\n",
    "    else:\n",
    "        byte_stream = np.append(byte_stream, np.copy(enet['data'][prev:last]).view(np.uint8) )\n",
    "    #packets.append(sim.Packet( np.copy(enet['data'][prev:last]).view(np.uint8)))\n",
    "    prev=last\n",
    "    start=end\n",
    "    end=len(byte_stream)\n",
    "    packets.append(byte_stream[start:end])\n",
    "\n",
    "byte_stream"
   ]
  },
  {
   "cell_type": "code",
   "execution_count": 104,
   "metadata": {
    "collapsed": false
   },
   "outputs": [],
   "source": [
    "enet=sim.EthernetStream('teslib','measurement_subsystem_TB')"
   ]
  },
  {
   "cell_type": "code",
   "execution_count": 105,
   "metadata": {
    "collapsed": false
   },
   "outputs": [
    {
     "data": {
      "text/plain": [
       "[ethertype:88B5 length:40 PayloadType.tick frame:0 protocol:0,\n",
       " ethertype:88B5 length:40 PayloadType.peak frame:1 protocol:1,\n",
       " ethertype:88B5 length:40 PayloadType.tick frame:2 protocol:2,\n",
       " ethertype:88B5 length:56 PayloadType.peak frame:3 protocol:3,\n",
       " ethertype:88B6 length:1496 PayloadType.mca frame:4 protocol:0,\n",
       " ethertype:88B5 length:40 PayloadType.tick frame:5 protocol:4,\n",
       " ethertype:88B6 length:1496 PayloadType.mca frame:6 protocol:1,\n",
       " ethertype:88B6 length:1496 PayloadType.mca frame:7 protocol:2,\n",
       " ethertype:88B6 length:1496 PayloadType.mca frame:8 protocol:3,\n",
       " ethertype:88B6 length:1496 PayloadType.mca frame:9 protocol:4,\n",
       " ethertype:88B6 length:1496 PayloadType.mca frame:10 protocol:5,\n",
       " ethertype:88B6 length:1496 PayloadType.mca frame:11 protocol:6,\n",
       " ethertype:88B6 length:1496 PayloadType.mca frame:12 protocol:7,\n",
       " ethertype:88B6 length:1496 PayloadType.mca frame:13 protocol:8,\n",
       " ethertype:88B6 length:1496 PayloadType.mca frame:14 protocol:9,\n",
       " ethertype:88B6 length:1496 PayloadType.mca frame:15 protocol:10,\n",
       " ethertype:88B6 length:1496 PayloadType.mca frame:16 protocol:11,\n",
       " ethertype:88B6 length:1496 PayloadType.mca frame:17 protocol:12,\n",
       " ethertype:88B6 length:1496 PayloadType.mca frame:18 protocol:13,\n",
       " ethertype:88B6 length:1496 PayloadType.mca frame:19 protocol:14,\n",
       " ethertype:88B6 length:1496 PayloadType.mca frame:20 protocol:15,\n",
       " ethertype:88B6 length:1496 PayloadType.mca frame:21 protocol:16,\n",
       " ethertype:88B6 length:1496 PayloadType.mca frame:22 protocol:17,\n",
       " ethertype:88B6 length:1496 PayloadType.mca frame:23 protocol:18,\n",
       " ethertype:88B6 length:1496 PayloadType.mca frame:24 protocol:19,\n",
       " ethertype:88B6 length:1496 PayloadType.mca frame:25 protocol:20,\n",
       " ethertype:88B6 length:1496 PayloadType.mca frame:26 protocol:21,\n",
       " ethertype:88B6 length:1496 PayloadType.mca frame:27 protocol:22,\n",
       " ethertype:88B6 length:1496 PayloadType.mca frame:28 protocol:23,\n",
       " ethertype:88B6 length:1496 PayloadType.mca frame:29 protocol:24,\n",
       " ethertype:88B6 length:1496 PayloadType.mca frame:30 protocol:25,\n",
       " ethertype:88B6 length:1496 PayloadType.mca frame:31 protocol:26,\n",
       " ethertype:88B6 length:1496 PayloadType.mca frame:32 protocol:27,\n",
       " ethertype:88B6 length:1496 PayloadType.mca frame:33 protocol:28,\n",
       " ethertype:88B6 length:1496 PayloadType.mca frame:34 protocol:29,\n",
       " ethertype:88B6 length:1496 PayloadType.mca frame:35 protocol:30,\n",
       " ethertype:88B6 length:1496 PayloadType.mca frame:36 protocol:31,\n",
       " ethertype:88B6 length:1496 PayloadType.mca frame:37 protocol:32,\n",
       " ethertype:88B6 length:1496 PayloadType.mca frame:38 protocol:33,\n",
       " ethertype:88B6 length:1496 PayloadType.mca frame:39 protocol:34,\n",
       " ethertype:88B6 length:1496 PayloadType.mca frame:40 protocol:35,\n",
       " ethertype:88B6 length:1496 PayloadType.mca frame:41 protocol:36,\n",
       " ethertype:88B6 length:1496 PayloadType.mca frame:42 protocol:37,\n",
       " ethertype:88B6 length:1496 PayloadType.mca frame:43 protocol:38,\n",
       " ethertype:88B6 length:1496 PayloadType.mca frame:44 protocol:39,\n",
       " ethertype:88B6 length:1496 PayloadType.mca frame:45 protocol:40,\n",
       " ethertype:88B6 length:1496 PayloadType.mca frame:46 protocol:41,\n",
       " ethertype:88B6 length:1496 PayloadType.mca frame:47 protocol:42,\n",
       " ethertype:88B6 length:1496 PayloadType.mca frame:48 protocol:43,\n",
       " ethertype:88B6 length:832 PayloadType.mca frame:49 protocol:44,\n",
       " ethertype:88B6 length:1496 PayloadType.mca frame:50 protocol:0,\n",
       " ethertype:88B6 length:1496 PayloadType.mca frame:51 protocol:1,\n",
       " ethertype:88B5 length:40 PayloadType.tick frame:52 protocol:5,\n",
       " ethertype:88B6 length:1496 PayloadType.mca frame:53 protocol:2,\n",
       " ethertype:88B6 length:1496 PayloadType.mca frame:54 protocol:3,\n",
       " ethertype:88B6 length:1496 PayloadType.mca frame:55 protocol:4,\n",
       " ethertype:88B6 length:1496 PayloadType.mca frame:56 protocol:5,\n",
       " ethertype:88B6 length:1496 PayloadType.mca frame:57 protocol:6,\n",
       " ethertype:88B6 length:1496 PayloadType.mca frame:58 protocol:7,\n",
       " ethertype:88B6 length:1496 PayloadType.mca frame:59 protocol:8,\n",
       " ethertype:88B6 length:1496 PayloadType.mca frame:60 protocol:9,\n",
       " ethertype:88B6 length:1496 PayloadType.mca frame:61 protocol:10,\n",
       " ethertype:88B6 length:1496 PayloadType.mca frame:62 protocol:11,\n",
       " ethertype:88B6 length:1496 PayloadType.mca frame:63 protocol:12,\n",
       " ethertype:88B6 length:1496 PayloadType.mca frame:64 protocol:13,\n",
       " ethertype:88B6 length:1496 PayloadType.mca frame:65 protocol:14,\n",
       " ethertype:88B6 length:1496 PayloadType.mca frame:66 protocol:15,\n",
       " ethertype:88B6 length:1496 PayloadType.mca frame:67 protocol:16,\n",
       " ethertype:88B6 length:1496 PayloadType.mca frame:68 protocol:17,\n",
       " ethertype:88B6 length:1496 PayloadType.mca frame:69 protocol:18,\n",
       " ethertype:88B6 length:1496 PayloadType.mca frame:70 protocol:19,\n",
       " ethertype:88B6 length:1496 PayloadType.mca frame:71 protocol:20,\n",
       " ethertype:88B6 length:1496 PayloadType.mca frame:72 protocol:21,\n",
       " ethertype:88B6 length:1496 PayloadType.mca frame:73 protocol:22,\n",
       " ethertype:88B6 length:1496 PayloadType.mca frame:74 protocol:23,\n",
       " ethertype:88B6 length:1496 PayloadType.mca frame:75 protocol:24,\n",
       " ethertype:88B6 length:1496 PayloadType.mca frame:76 protocol:25,\n",
       " ethertype:88B6 length:1496 PayloadType.mca frame:77 protocol:26,\n",
       " ethertype:88B6 length:1496 PayloadType.mca frame:78 protocol:27,\n",
       " ethertype:88B6 length:1496 PayloadType.mca frame:79 protocol:28,\n",
       " ethertype:88B6 length:1496 PayloadType.mca frame:80 protocol:29,\n",
       " ethertype:88B6 length:1496 PayloadType.mca frame:81 protocol:30,\n",
       " ethertype:88B6 length:1496 PayloadType.mca frame:82 protocol:31,\n",
       " ethertype:88B6 length:1496 PayloadType.mca frame:83 protocol:32,\n",
       " ethertype:88B6 length:1496 PayloadType.mca frame:84 protocol:33,\n",
       " ethertype:88B6 length:1496 PayloadType.mca frame:85 protocol:34,\n",
       " ethertype:88B6 length:1496 PayloadType.mca frame:86 protocol:35,\n",
       " ethertype:88B6 length:1496 PayloadType.mca frame:87 protocol:36,\n",
       " ethertype:88B6 length:1496 PayloadType.mca frame:88 protocol:37,\n",
       " ethertype:88B6 length:1496 PayloadType.mca frame:89 protocol:38,\n",
       " ethertype:88B6 length:1496 PayloadType.mca frame:90 protocol:39,\n",
       " ethertype:88B6 length:1496 PayloadType.mca frame:91 protocol:40,\n",
       " ethertype:88B6 length:1496 PayloadType.mca frame:92 protocol:41,\n",
       " ethertype:88B6 length:1496 PayloadType.mca frame:93 protocol:42,\n",
       " ethertype:88B6 length:1496 PayloadType.mca frame:94 protocol:43,\n",
       " ethertype:88B6 length:832 PayloadType.mca frame:95 protocol:44,\n",
       " ethertype:88B5 length:40 PayloadType.peak frame:96 protocol:6,\n",
       " ethertype:88B6 length:1496 PayloadType.mca frame:97 protocol:0,\n",
       " ethertype:88B6 length:1496 PayloadType.mca frame:98 protocol:1,\n",
       " ethertype:88B5 length:40 PayloadType.tick frame:99 protocol:7,\n",
       " ethertype:88B6 length:1496 PayloadType.mca frame:100 protocol:2,\n",
       " ethertype:88B6 length:1496 PayloadType.mca frame:101 protocol:3,\n",
       " ethertype:88B6 length:1496 PayloadType.mca frame:102 protocol:4,\n",
       " ethertype:88B6 length:1496 PayloadType.mca frame:103 protocol:5,\n",
       " ethertype:88B6 length:1496 PayloadType.mca frame:104 protocol:6,\n",
       " ethertype:88B6 length:1496 PayloadType.mca frame:105 protocol:7,\n",
       " ethertype:88B6 length:1496 PayloadType.mca frame:106 protocol:8,\n",
       " ethertype:88B6 length:1496 PayloadType.mca frame:107 protocol:9,\n",
       " ethertype:88B6 length:1496 PayloadType.mca frame:108 protocol:10,\n",
       " ethertype:88B6 length:1496 PayloadType.mca frame:109 protocol:11,\n",
       " ethertype:88B6 length:1496 PayloadType.mca frame:110 protocol:12,\n",
       " ethertype:88B6 length:1496 PayloadType.mca frame:111 protocol:13,\n",
       " ethertype:88B6 length:1496 PayloadType.mca frame:112 protocol:14,\n",
       " ethertype:88B6 length:1496 PayloadType.mca frame:113 protocol:15,\n",
       " ethertype:88B6 length:1496 PayloadType.mca frame:114 protocol:16,\n",
       " ethertype:88B6 length:1496 PayloadType.mca frame:115 protocol:17,\n",
       " ethertype:88B6 length:1496 PayloadType.mca frame:116 protocol:18,\n",
       " ethertype:88B6 length:1496 PayloadType.mca frame:117 protocol:19,\n",
       " ethertype:88B6 length:1496 PayloadType.mca frame:118 protocol:20,\n",
       " ethertype:88B6 length:1496 PayloadType.mca frame:119 protocol:21,\n",
       " ethertype:88B6 length:1496 PayloadType.mca frame:120 protocol:22,\n",
       " ethertype:88B6 length:1496 PayloadType.mca frame:121 protocol:23,\n",
       " ethertype:88B6 length:1496 PayloadType.mca frame:122 protocol:24,\n",
       " ethertype:88B6 length:1496 PayloadType.mca frame:123 protocol:25,\n",
       " ethertype:88B6 length:1496 PayloadType.mca frame:124 protocol:26,\n",
       " ethertype:88B6 length:1496 PayloadType.mca frame:125 protocol:27,\n",
       " ethertype:88B6 length:1496 PayloadType.mca frame:126 protocol:28,\n",
       " ethertype:88B6 length:1496 PayloadType.mca frame:127 protocol:29,\n",
       " ethertype:88B6 length:1496 PayloadType.mca frame:128 protocol:30,\n",
       " ethertype:88B6 length:1496 PayloadType.mca frame:129 protocol:31,\n",
       " ethertype:88B6 length:1496 PayloadType.mca frame:130 protocol:32,\n",
       " ethertype:88B6 length:1496 PayloadType.mca frame:131 protocol:33,\n",
       " ethertype:88B6 length:1496 PayloadType.mca frame:132 protocol:34,\n",
       " ethertype:88B6 length:1496 PayloadType.mca frame:133 protocol:35,\n",
       " ethertype:88B6 length:1496 PayloadType.mca frame:134 protocol:36,\n",
       " ethertype:88B6 length:1496 PayloadType.mca frame:135 protocol:37,\n",
       " ethertype:88B6 length:1496 PayloadType.mca frame:136 protocol:38,\n",
       " ethertype:88B6 length:1496 PayloadType.mca frame:137 protocol:39,\n",
       " ethertype:88B6 length:1496 PayloadType.mca frame:138 protocol:40,\n",
       " ethertype:88B6 length:1496 PayloadType.mca frame:139 protocol:41,\n",
       " ethertype:88B6 length:1496 PayloadType.mca frame:140 protocol:42,\n",
       " ethertype:88B6 length:1496 PayloadType.mca frame:141 protocol:43,\n",
       " ethertype:88B6 length:832 PayloadType.mca frame:142 protocol:44,\n",
       " ethertype:88B5 length:40 PayloadType.peak frame:143 protocol:8,\n",
       " ethertype:88B6 length:1496 PayloadType.mca frame:144 protocol:0,\n",
       " ethertype:88B6 length:1496 PayloadType.mca frame:145 protocol:1,\n",
       " ethertype:88B6 length:1496 PayloadType.mca frame:146 protocol:2,\n",
       " ethertype:88B5 length:40 PayloadType.tick frame:147 protocol:9,\n",
       " ethertype:88B6 length:1496 PayloadType.mca frame:148 protocol:3,\n",
       " ethertype:88B6 length:1496 PayloadType.mca frame:149 protocol:4,\n",
       " ethertype:88B6 length:1496 PayloadType.mca frame:150 protocol:5,\n",
       " ethertype:88B6 length:1496 PayloadType.mca frame:151 protocol:6,\n",
       " ethertype:88B6 length:1496 PayloadType.mca frame:152 protocol:7,\n",
       " ethertype:88B6 length:1496 PayloadType.mca frame:153 protocol:8,\n",
       " ethertype:88B6 length:1496 PayloadType.mca frame:154 protocol:9,\n",
       " ethertype:88B6 length:1496 PayloadType.mca frame:155 protocol:10,\n",
       " ethertype:88B6 length:1496 PayloadType.mca frame:156 protocol:11,\n",
       " ethertype:88B6 length:1496 PayloadType.mca frame:157 protocol:12,\n",
       " ethertype:88B6 length:1496 PayloadType.mca frame:158 protocol:13,\n",
       " ethertype:88B6 length:1496 PayloadType.mca frame:159 protocol:14,\n",
       " ethertype:88B6 length:1496 PayloadType.mca frame:160 protocol:15,\n",
       " ethertype:88B6 length:1496 PayloadType.mca frame:161 protocol:16,\n",
       " ethertype:88B6 length:1496 PayloadType.mca frame:162 protocol:17,\n",
       " ethertype:88B6 length:1496 PayloadType.mca frame:163 protocol:18,\n",
       " ethertype:88B6 length:1496 PayloadType.mca frame:164 protocol:19,\n",
       " ethertype:88B6 length:1496 PayloadType.mca frame:165 protocol:20,\n",
       " ethertype:88B6 length:1496 PayloadType.mca frame:166 protocol:21,\n",
       " ethertype:88B6 length:1496 PayloadType.mca frame:167 protocol:22,\n",
       " ethertype:88B6 length:1496 PayloadType.mca frame:168 protocol:23,\n",
       " ethertype:88B6 length:1496 PayloadType.mca frame:169 protocol:24,\n",
       " ethertype:88B6 length:1496 PayloadType.mca frame:170 protocol:25,\n",
       " ethertype:88B6 length:1496 PayloadType.mca frame:171 protocol:26,\n",
       " ethertype:88B6 length:1496 PayloadType.mca frame:172 protocol:27,\n",
       " ethertype:88B6 length:1496 PayloadType.mca frame:173 protocol:28,\n",
       " ethertype:88B6 length:1496 PayloadType.mca frame:174 protocol:29,\n",
       " ethertype:88B6 length:1496 PayloadType.mca frame:175 protocol:30,\n",
       " ethertype:88B6 length:1496 PayloadType.mca frame:176 protocol:31,\n",
       " ethertype:88B6 length:1496 PayloadType.mca frame:177 protocol:32,\n",
       " ethertype:88B6 length:1496 PayloadType.mca frame:178 protocol:33,\n",
       " ethertype:88B6 length:1496 PayloadType.mca frame:179 protocol:34,\n",
       " ethertype:88B6 length:1496 PayloadType.mca frame:180 protocol:35,\n",
       " ethertype:88B6 length:1496 PayloadType.mca frame:181 protocol:36,\n",
       " ethertype:88B6 length:1496 PayloadType.mca frame:182 protocol:37,\n",
       " ethertype:88B6 length:1496 PayloadType.mca frame:183 protocol:38,\n",
       " ethertype:88B6 length:1496 PayloadType.mca frame:184 protocol:39,\n",
       " ethertype:88B6 length:1496 PayloadType.mca frame:185 protocol:40,\n",
       " ethertype:88B6 length:1496 PayloadType.mca frame:186 protocol:41,\n",
       " ethertype:88B6 length:1496 PayloadType.mca frame:187 protocol:42,\n",
       " ethertype:88B6 length:1496 PayloadType.mca frame:188 protocol:43,\n",
       " ethertype:88B6 length:832 PayloadType.mca frame:189 protocol:44,\n",
       " ethertype:88B5 length:56 PayloadType.peak frame:190 protocol:10,\n",
       " ethertype:88B6 length:1496 PayloadType.mca frame:191 protocol:0,\n",
       " ethertype:88B6 length:1496 PayloadType.mca frame:192 protocol:1,\n",
       " ethertype:88B6 length:1496 PayloadType.mca frame:193 protocol:2,\n",
       " ethertype:88B6 length:1496 PayloadType.mca frame:194 protocol:3,\n",
       " ethertype:88B5 length:40 PayloadType.tick frame:195 protocol:11,\n",
       " ethertype:88B6 length:1496 PayloadType.mca frame:196 protocol:4,\n",
       " ethertype:88B6 length:1496 PayloadType.mca frame:197 protocol:5,\n",
       " ethertype:88B6 length:1496 PayloadType.mca frame:198 protocol:6,\n",
       " ethertype:88B6 length:1496 PayloadType.mca frame:199 protocol:7,\n",
       " ethertype:88B6 length:1496 PayloadType.mca frame:200 protocol:8,\n",
       " ethertype:88B6 length:1496 PayloadType.mca frame:201 protocol:9,\n",
       " ethertype:88B6 length:1496 PayloadType.mca frame:202 protocol:10,\n",
       " ethertype:88B6 length:1496 PayloadType.mca frame:203 protocol:11,\n",
       " ethertype:88B6 length:1496 PayloadType.mca frame:204 protocol:12,\n",
       " ethertype:88B6 length:1496 PayloadType.mca frame:205 protocol:13,\n",
       " ethertype:88B6 length:1496 PayloadType.mca frame:206 protocol:14,\n",
       " ethertype:88B6 length:1496 PayloadType.mca frame:207 protocol:15,\n",
       " ethertype:88B6 length:1496 PayloadType.mca frame:208 protocol:16,\n",
       " ethertype:88B6 length:1496 PayloadType.mca frame:209 protocol:17,\n",
       " ethertype:88B6 length:1496 PayloadType.mca frame:210 protocol:18,\n",
       " ethertype:88B6 length:1496 PayloadType.mca frame:211 protocol:19,\n",
       " ethertype:88B6 length:1496 PayloadType.mca frame:212 protocol:20,\n",
       " ethertype:88B6 length:1496 PayloadType.mca frame:213 protocol:21,\n",
       " ethertype:88B6 length:1496 PayloadType.mca frame:214 protocol:22,\n",
       " ethertype:88B6 length:1496 PayloadType.mca frame:215 protocol:23,\n",
       " ethertype:88B6 length:1496 PayloadType.mca frame:216 protocol:24,\n",
       " ethertype:88B6 length:1496 PayloadType.mca frame:217 protocol:25,\n",
       " ethertype:88B6 length:1496 PayloadType.mca frame:218 protocol:26,\n",
       " ethertype:88B6 length:1496 PayloadType.mca frame:219 protocol:27,\n",
       " ethertype:88B6 length:1496 PayloadType.mca frame:220 protocol:28,\n",
       " ethertype:88B6 length:1496 PayloadType.mca frame:221 protocol:29,\n",
       " ethertype:88B6 length:1496 PayloadType.mca frame:222 protocol:30,\n",
       " ethertype:88B6 length:1496 PayloadType.mca frame:223 protocol:31,\n",
       " ethertype:88B6 length:1496 PayloadType.mca frame:224 protocol:32,\n",
       " ethertype:88B6 length:1496 PayloadType.mca frame:225 protocol:33,\n",
       " ethertype:88B6 length:1496 PayloadType.mca frame:226 protocol:34,\n",
       " ethertype:88B6 length:1496 PayloadType.mca frame:227 protocol:35,\n",
       " ethertype:88B6 length:1496 PayloadType.mca frame:228 protocol:36,\n",
       " ethertype:88B6 length:1496 PayloadType.mca frame:229 protocol:37,\n",
       " ethertype:88B6 length:1496 PayloadType.mca frame:230 protocol:38,\n",
       " ethertype:88B6 length:1496 PayloadType.mca frame:231 protocol:39,\n",
       " ethertype:88B6 length:1496 PayloadType.mca frame:232 protocol:40,\n",
       " ethertype:88B6 length:1496 PayloadType.mca frame:233 protocol:41,\n",
       " ethertype:88B6 length:1496 PayloadType.mca frame:234 protocol:42,\n",
       " ethertype:88B6 length:1496 PayloadType.mca frame:235 protocol:43,\n",
       " ethertype:88B6 length:832 PayloadType.mca frame:236 protocol:44,\n",
       " ethertype:88B6 length:1496 PayloadType.mca frame:237 protocol:0,\n",
       " ethertype:88B6 length:1496 PayloadType.mca frame:238 protocol:1,\n",
       " ethertype:88B6 length:1496 PayloadType.mca frame:239 protocol:2,\n",
       " ethertype:88B6 length:1496 PayloadType.mca frame:240 protocol:3,\n",
       " ethertype:88B6 length:1496 PayloadType.mca frame:241 protocol:4,\n",
       " ethertype:88B5 length:40 PayloadType.tick frame:242 protocol:12,\n",
       " ethertype:88B6 length:1496 PayloadType.mca frame:243 protocol:5,\n",
       " ethertype:88B6 length:1496 PayloadType.mca frame:244 protocol:6,\n",
       " ethertype:88B6 length:1496 PayloadType.mca frame:245 protocol:7,\n",
       " ethertype:88B6 length:1496 PayloadType.mca frame:246 protocol:8,\n",
       " ethertype:88B6 length:1496 PayloadType.mca frame:247 protocol:9,\n",
       " ethertype:88B6 length:1496 PayloadType.mca frame:248 protocol:10,\n",
       " ethertype:88B6 length:1496 PayloadType.mca frame:249 protocol:11,\n",
       " ethertype:88B6 length:1496 PayloadType.mca frame:250 protocol:12,\n",
       " ethertype:88B6 length:1496 PayloadType.mca frame:251 protocol:13,\n",
       " ethertype:88B6 length:1496 PayloadType.mca frame:252 protocol:14,\n",
       " ethertype:88B6 length:1496 PayloadType.mca frame:253 protocol:15,\n",
       " ethertype:88B6 length:1496 PayloadType.mca frame:254 protocol:16,\n",
       " ethertype:88B6 length:1496 PayloadType.mca frame:255 protocol:17,\n",
       " ethertype:88B6 length:1496 PayloadType.mca frame:256 protocol:18,\n",
       " ethertype:88B6 length:1496 PayloadType.mca frame:257 protocol:19,\n",
       " ethertype:88B6 length:1496 PayloadType.mca frame:258 protocol:20,\n",
       " ethertype:88B6 length:1496 PayloadType.mca frame:259 protocol:21,\n",
       " ethertype:88B6 length:1496 PayloadType.mca frame:260 protocol:22,\n",
       " ethertype:88B6 length:1496 PayloadType.mca frame:261 protocol:23,\n",
       " ethertype:88B6 length:1496 PayloadType.mca frame:262 protocol:24,\n",
       " ethertype:88B6 length:1496 PayloadType.mca frame:263 protocol:25,\n",
       " ethertype:88B6 length:1496 PayloadType.mca frame:264 protocol:26,\n",
       " ethertype:88B6 length:1496 PayloadType.mca frame:265 protocol:27,\n",
       " ethertype:88B6 length:1496 PayloadType.mca frame:266 protocol:28,\n",
       " ethertype:88B6 length:1496 PayloadType.mca frame:267 protocol:29,\n",
       " ethertype:88B6 length:1496 PayloadType.mca frame:268 protocol:30,\n",
       " ethertype:88B6 length:1496 PayloadType.mca frame:269 protocol:31,\n",
       " ethertype:88B6 length:1496 PayloadType.mca frame:270 protocol:32,\n",
       " ethertype:88B6 length:1496 PayloadType.mca frame:271 protocol:33,\n",
       " ethertype:88B6 length:1496 PayloadType.mca frame:272 protocol:34,\n",
       " ethertype:88B6 length:1496 PayloadType.mca frame:273 protocol:35,\n",
       " ethertype:88B6 length:1496 PayloadType.mca frame:274 protocol:36,\n",
       " ethertype:88B6 length:1496 PayloadType.mca frame:275 protocol:37,\n",
       " ethertype:88B6 length:1496 PayloadType.mca frame:276 protocol:38,\n",
       " ethertype:88B6 length:1496 PayloadType.mca frame:277 protocol:39,\n",
       " ethertype:88B6 length:1496 PayloadType.mca frame:278 protocol:40,\n",
       " ethertype:88B6 length:1496 PayloadType.mca frame:279 protocol:41,\n",
       " ethertype:88B6 length:1496 PayloadType.mca frame:280 protocol:42,\n",
       " ethertype:88B6 length:1496 PayloadType.mca frame:281 protocol:43,\n",
       " ethertype:88B6 length:832 PayloadType.mca frame:282 protocol:44]"
      ]
     },
     "execution_count": 105,
     "metadata": {},
     "output_type": "execute_result"
    }
   ],
   "source": [
    "enet.packets"
   ]
  },
  {
   "cell_type": "code",
   "execution_count": null,
   "metadata": {
    "collapsed": false
   },
   "outputs": [],
   "source": [
    "enet.packets[4].payload[0:2].view(np.uint16)[0]*2"
   ]
  },
  {
   "cell_type": "code",
   "execution_count": 116,
   "metadata": {
    "collapsed": false
   },
   "outputs": [],
   "source": [
    "class Distribution:\n",
    "    def __init__(self, header_packet):\n",
    "        flags = header_packet.payload[8:10]\n",
    "        self._frame_sequence = header_packet.frame_sequence\n",
    "        self.value = sim.McaValueType.from_int(np.right_shift(np.bitwise_and(flags[0],0xF0),4))\n",
    "        self.trigger = sim.McaTriggerType.from_int(np.bitwise_and(flags[0], 0x0F))\n",
    "        self.bin_n = np.right_shift(np.bitwise_and(flags[1],0xF0),4)\n",
    "        self.bin_width = np.power(2,self.bin_n)\n",
    "        self.channel =np.bitwise_and(flags[1], 0x0F)\n",
    "        #self.num_bins = header_packet.payload[0:2].view(np.uint16)[0]*2\n",
    "        self.last_bin = header_packet.payload[2:4].view(np.uint16)[0] \n",
    "        self.lowest_value = header_packet.payload[4:8].view(np.int32)[0]\n",
    "        self.total = header_packet.payload[16:24].view(np.uint64)[0]\n",
    "        self.start_time = header_packet.payload[24:32].view(np.uint64)[0]        \n",
    "        self.stop_time = header_packet.payload[32:40].view(np.uint64)[0]\n",
    "        self.counts = np.zeros([self.last_bin+1],dtype=np.dtype(np.uint32))\n",
    "        \n",
    "        packet_bins = np.uint32((header_packet.length-40-24)/4)\n",
    "        #print(packet_bins)\n",
    "        self.counts[0:packet_bins] = np.copy(header_packet.payload[40:].view(np.uint32))\n",
    "        self._total_bins = packet_bins;\n",
    "    \n",
    "    def add(self, packet):\n",
    "        packet_bins = np.uint32((packet.length-24)/4)\n",
    "        #print(packet_bins)\n",
    "        self.counts[self._total_bins:self._total_bins + packet_bins] = np.copy(packet.payload.view(np.uint32))\n",
    "        self._total_bins += packet_bins;\n",
    "    \n",
    "    def __repr__(self):\n",
    "        return 'Distribution: {:s} {:s} start:{:d} stop:{:d}'.format(\n",
    "            self.value, self.trigger, self.start_time, self.stop_time)"
   ]
  },
  {
   "cell_type": "code",
   "execution_count": 83,
   "metadata": {
    "collapsed": false
   },
   "outputs": [
    {
     "data": {
      "text/plain": [
       "ethertype:88B6 length:1496 PayloadType.mca frame:6 protocol:1"
      ]
     },
     "execution_count": 83,
     "metadata": {},
     "output_type": "execute_result"
    }
   ],
   "source": [
    "enet.packets[6]"
   ]
  },
  {
   "cell_type": "code",
   "execution_count": 88,
   "metadata": {
    "collapsed": false,
    "scrolled": true
   },
   "outputs": [
    {
     "name": "stdout",
     "output_type": "stream",
     "text": [
      "358\n",
      "368\n",
      "368\n",
      "368\n"
     ]
    },
    {
     "data": {
      "text/plain": [
       "(array([ 786,  787,  788,  789,  790,  791,  792,  794,  795,  796,  797,\n",
       "         798,  799,  800,  801,  802,  804,  805,  807,  808,  809,  810,\n",
       "         811,  812,  813,  814,  815,  816,  817,  818,  819,  820,  821,\n",
       "         822,  823,  824,  825,  826,  827,  828,  829,  830,  831,  832,\n",
       "         833,  834,  835,  836,  837,  838,  839,  840,  841,  842,  843,\n",
       "         844,  845,  846,  847,  848,  849,  850,  851,  852,  853,  854,\n",
       "         855,  856,  857,  858,  859,  860,  861,  862,  863,  864,  865,\n",
       "         866,  867,  868,  869,  870,  871,  872,  873,  874,  875,  876,\n",
       "         877,  878,  879,  880,  881,  882,  883,  884,  885,  886,  887,\n",
       "         888,  889,  890,  891,  892,  893,  894,  895,  896,  897,  898,\n",
       "         899,  900,  901,  902,  903,  904,  905,  906,  907,  908,  909,\n",
       "         910,  911,  912,  913,  914,  915,  916,  917,  918,  919,  920,\n",
       "         921,  922,  923,  924,  925,  926,  927,  928,  929,  930,  931,\n",
       "         932,  933,  934,  935,  936,  937,  938,  939,  940,  941,  942,\n",
       "         943,  944,  945,  946,  947,  948,  949,  950,  951,  952,  953,\n",
       "         954,  955,  956,  957,  958,  959,  960,  961,  962,  963,  964,\n",
       "         965,  966,  967,  968,  969,  970,  971,  972,  973,  974,  975,\n",
       "         976,  977,  978,  979,  980,  981,  982,  983,  984,  985,  986,\n",
       "         987,  988,  989,  990,  991,  992,  993,  994,  995,  996,  997,\n",
       "         998,  999, 1000, 1001, 1002, 1003, 1004, 1005, 1006, 1007, 1008,\n",
       "        1009, 1010, 1011, 1012, 1013, 1014, 1015, 1016, 1017, 1018, 1019,\n",
       "        1020, 1021, 1022, 1023, 1024, 1025, 1026, 1027, 1028, 1029, 1030,\n",
       "        1031, 1032, 1033, 1034, 1035, 1036, 1037, 1038, 1039, 1040, 1041,\n",
       "        1042, 1043, 1044, 1045, 1046, 1047, 1048, 1049, 1050, 1051, 1052,\n",
       "        1053, 1054, 1055, 1056, 1057, 1058, 1059, 1060, 1061, 1062, 1063,\n",
       "        1064, 1065, 1066, 1067, 1068, 1069, 1070, 1071, 1072, 1073, 1074,\n",
       "        1075, 1076, 1077, 1078, 1079, 1080, 1081, 1082, 1083, 1084, 1085,\n",
       "        1086, 1087, 1088, 1089, 1090, 1091, 1092, 1093, 1094, 1095, 1096,\n",
       "        1097, 1098, 1099, 1100, 1101, 1102, 1103, 1104, 1105, 1106, 1107,\n",
       "        1108, 1109, 1110, 1111, 1112, 1113, 1114, 1115, 1116, 1117, 1118,\n",
       "        1119, 1120, 1121, 1122, 1123, 1124, 1125, 1126, 1127, 1128, 1129,\n",
       "        1130, 1131, 1132, 1133, 1134, 1135, 1136, 1137, 1138, 1139, 1140,\n",
       "        1141, 1142, 1143, 1144, 1145, 1146, 1147, 1148, 1149, 1150, 1151,\n",
       "        1152, 1153, 1154, 1155, 1156, 1157, 1158, 1159, 1160, 1161, 1162,\n",
       "        1163, 1164, 1165, 1166, 1167, 1168, 1169, 1170, 1171, 1172, 1173,\n",
       "        1174, 1175, 1176, 1177, 1178, 1179, 1180, 1181, 1182, 1183, 1184,\n",
       "        1185, 1186, 1187, 1188, 1189, 1190, 1191, 1192, 1193, 1194, 1195,\n",
       "        1196, 1197, 1198, 1199, 1200, 1201, 1202, 1203, 1204, 1205, 1206,\n",
       "        1207, 1208, 1209, 1210, 1211, 1212, 1213, 1214, 1215, 1216, 1217,\n",
       "        1218, 1219, 1220, 1221, 1222, 1223, 1224, 1225, 1226, 1227, 1228,\n",
       "        1229, 1230, 1231, 1232, 1233, 1234, 1235, 1236, 1237, 1238, 1239,\n",
       "        1240, 1241, 1242, 1243, 1244, 1245, 1246, 1247, 1248, 1249, 1250,\n",
       "        1251, 1252, 1253, 1254, 1255, 1256, 1257, 1258, 1259, 1260, 1261,\n",
       "        1262, 1263, 1264, 1265, 1266, 1267, 1268, 1269, 1270, 1271, 1272,\n",
       "        1273, 1274, 1275, 1276, 1277, 1278, 1279, 1280, 1281, 1282, 1283,\n",
       "        1284, 1285, 1286, 1287, 1288, 1289, 1290, 1291, 1292, 1293, 1294,\n",
       "        1295, 1296, 1297, 1298, 1299, 1300, 1301, 1302, 1303, 1304, 1305,\n",
       "        1306, 1307, 1308, 1309, 1310, 1311, 1312, 1313, 1314, 1315, 1316,\n",
       "        1317, 1318, 1319, 1320, 1321, 1322, 1323, 1324, 1325, 1326, 1327,\n",
       "        1328, 1330, 1331, 1332, 1333, 1334, 1335, 1336, 1337, 1338, 1339,\n",
       "        1340, 1341, 1343, 1345, 1348, 1349, 1351, 1352, 1353, 1354, 1355,\n",
       "        1356, 1357, 1358, 1359, 1360, 1361, 1362, 1363, 1364, 1365, 1366,\n",
       "        1367, 1368, 1369, 1370, 1371, 1372, 1373, 1374, 1375, 1376, 1377,\n",
       "        1378, 1380, 1381, 1383, 1384, 1385, 1386, 1387, 1388, 1389, 1390,\n",
       "        1392, 1393, 1394, 1395, 1396, 1397, 1398, 1399, 1400, 1402, 1403,\n",
       "        1404, 1405, 1406, 1407, 1408, 1409, 1411, 1412, 1413, 1414, 1416,\n",
       "        1418, 1419, 1420, 1424, 1425, 1426, 1428, 1430, 1432, 1434, 1435,\n",
       "        1437, 1439, 1440, 1441, 1442, 1443, 1444, 1445, 1447, 1448, 1449,\n",
       "        1450, 1451, 1452, 1454, 1455, 1456, 1457, 1458, 1459, 1460, 1461], dtype=int64),)"
      ]
     },
     "execution_count": 88,
     "metadata": {},
     "output_type": "execute_result"
    }
   ],
   "source": [
    "d=Distribution(enet.packets[4])\n",
    "d.add(enet.packets[6])\n",
    "d.add(enet.packets[7])\n",
    "d.add(enet.packets[8])\n"
   ]
  },
  {
   "cell_type": "code",
   "execution_count": 117,
   "metadata": {
    "collapsed": false
   },
   "outputs": [
    {
     "data": {
      "text/plain": [
       "[Distribution: McaValueType.filtered_signal McaTriggerType.clock start:65539 stop:131074,\n",
       " Distribution: McaValueType.filtered_signal McaTriggerType.clock start:131075 stop:196610,\n",
       " Distribution: McaValueType.filtered_signal McaTriggerType.clock start:196611 stop:262146,\n",
       " Distribution: McaValueType.filtered_signal McaTriggerType.clock start:262147 stop:327682,\n",
       " Distribution: McaValueType.filtered_signal McaTriggerType.clock start:327683 stop:393218]"
      ]
     },
     "execution_count": 117,
     "metadata": {},
     "output_type": "execute_result"
    }
   ],
   "source": [
    "distributions=[]\n",
    "last_seq = None\n",
    "d=None\n",
    "for packet in enet.packets:\n",
    "    if packet.payload_type == sim.PayloadType.mca:\n",
    "        if last_seq is None:\n",
    "            if packet.protocol_sequence != 0:\n",
    "                print('Error first MCA frame does not have a 0 protocol sequence number')\n",
    "        else:\n",
    "            if packet.protocol_sequence != 0 and packet.protocol_sequence != last_seq+1:\n",
    "                print('MCA sequence nunmber:{:d} missing'.format(last_seq + 1))\n",
    "        \n",
    "        last_seq = packet.protocol_sequence\n",
    "        if last_seq == 0:\n",
    "            if d is not None:\n",
    "                if d.last_bin+1 == d._total_bins:\n",
    "                    distributions.append(d)\n",
    "                else:\n",
    "                    print(\"incomplete distribution dropped starting frame sequence:{:d}\".format(d._start_frame_sequence))\n",
    "\n",
    "            d = Distribution(packet)\n",
    "            \n",
    "        else:\n",
    "            d.add(packet)\n",
    "\n",
    "distributions"
   ]
  },
  {
   "cell_type": "code",
   "execution_count": 110,
   "metadata": {
    "collapsed": false
   },
   "outputs": [
    {
     "data": {
      "text/plain": [
       "16384"
      ]
     },
     "execution_count": 110,
     "metadata": {},
     "output_type": "execute_result"
    }
   ],
   "source": [
    "distributions[5]._total_bins"
   ]
  },
  {
   "cell_type": "code",
   "execution_count": 122,
   "metadata": {
    "collapsed": false
   },
   "outputs": [
    {
     "data": {
      "application/javascript": [
       "/* Put everything inside the global mpl namespace */\n",
       "window.mpl = {};\n",
       "\n",
       "mpl.get_websocket_type = function() {\n",
       "    if (typeof(WebSocket) !== 'undefined') {\n",
       "        return WebSocket;\n",
       "    } else if (typeof(MozWebSocket) !== 'undefined') {\n",
       "        return MozWebSocket;\n",
       "    } else {\n",
       "        alert('Your browser does not have WebSocket support.' +\n",
       "              'Please try Chrome, Safari or Firefox ≥ 6. ' +\n",
       "              'Firefox 4 and 5 are also supported but you ' +\n",
       "              'have to enable WebSockets in about:config.');\n",
       "    };\n",
       "}\n",
       "\n",
       "mpl.figure = function(figure_id, websocket, ondownload, parent_element) {\n",
       "    this.id = figure_id;\n",
       "\n",
       "    this.ws = websocket;\n",
       "\n",
       "    this.supports_binary = (this.ws.binaryType != undefined);\n",
       "\n",
       "    if (!this.supports_binary) {\n",
       "        var warnings = document.getElementById(\"mpl-warnings\");\n",
       "        if (warnings) {\n",
       "            warnings.style.display = 'block';\n",
       "            warnings.textContent = (\n",
       "                \"This browser does not support binary websocket messages. \" +\n",
       "                    \"Performance may be slow.\");\n",
       "        }\n",
       "    }\n",
       "\n",
       "    this.imageObj = new Image();\n",
       "\n",
       "    this.context = undefined;\n",
       "    this.message = undefined;\n",
       "    this.canvas = undefined;\n",
       "    this.rubberband_canvas = undefined;\n",
       "    this.rubberband_context = undefined;\n",
       "    this.format_dropdown = undefined;\n",
       "\n",
       "    this.image_mode = 'full';\n",
       "\n",
       "    this.root = $('<div/>');\n",
       "    this._root_extra_style(this.root)\n",
       "    this.root.attr('style', 'display: inline-block');\n",
       "\n",
       "    $(parent_element).append(this.root);\n",
       "\n",
       "    this._init_header(this);\n",
       "    this._init_canvas(this);\n",
       "    this._init_toolbar(this);\n",
       "\n",
       "    var fig = this;\n",
       "\n",
       "    this.waiting = false;\n",
       "\n",
       "    this.ws.onopen =  function () {\n",
       "            fig.send_message(\"supports_binary\", {value: fig.supports_binary});\n",
       "            fig.send_message(\"send_image_mode\", {});\n",
       "            fig.send_message(\"refresh\", {});\n",
       "        }\n",
       "\n",
       "    this.imageObj.onload = function() {\n",
       "            if (fig.image_mode == 'full') {\n",
       "                // Full images could contain transparency (where diff images\n",
       "                // almost always do), so we need to clear the canvas so that\n",
       "                // there is no ghosting.\n",
       "                fig.context.clearRect(0, 0, fig.canvas.width, fig.canvas.height);\n",
       "            }\n",
       "            fig.context.drawImage(fig.imageObj, 0, 0);\n",
       "        };\n",
       "\n",
       "    this.imageObj.onunload = function() {\n",
       "        this.ws.close();\n",
       "    }\n",
       "\n",
       "    this.ws.onmessage = this._make_on_message_function(this);\n",
       "\n",
       "    this.ondownload = ondownload;\n",
       "}\n",
       "\n",
       "mpl.figure.prototype._init_header = function() {\n",
       "    var titlebar = $(\n",
       "        '<div class=\"ui-dialog-titlebar ui-widget-header ui-corner-all ' +\n",
       "        'ui-helper-clearfix\"/>');\n",
       "    var titletext = $(\n",
       "        '<div class=\"ui-dialog-title\" style=\"width: 100%; ' +\n",
       "        'text-align: center; padding: 3px;\"/>');\n",
       "    titlebar.append(titletext)\n",
       "    this.root.append(titlebar);\n",
       "    this.header = titletext[0];\n",
       "}\n",
       "\n",
       "\n",
       "\n",
       "mpl.figure.prototype._canvas_extra_style = function(canvas_div) {\n",
       "\n",
       "}\n",
       "\n",
       "\n",
       "mpl.figure.prototype._root_extra_style = function(canvas_div) {\n",
       "\n",
       "}\n",
       "\n",
       "mpl.figure.prototype._init_canvas = function() {\n",
       "    var fig = this;\n",
       "\n",
       "    var canvas_div = $('<div/>');\n",
       "\n",
       "    canvas_div.attr('style', 'position: relative; clear: both; outline: 0');\n",
       "\n",
       "    function canvas_keyboard_event(event) {\n",
       "        return fig.key_event(event, event['data']);\n",
       "    }\n",
       "\n",
       "    canvas_div.keydown('key_press', canvas_keyboard_event);\n",
       "    canvas_div.keyup('key_release', canvas_keyboard_event);\n",
       "    this.canvas_div = canvas_div\n",
       "    this._canvas_extra_style(canvas_div)\n",
       "    this.root.append(canvas_div);\n",
       "\n",
       "    var canvas = $('<canvas/>');\n",
       "    canvas.addClass('mpl-canvas');\n",
       "    canvas.attr('style', \"left: 0; top: 0; z-index: 0; outline: 0\")\n",
       "\n",
       "    this.canvas = canvas[0];\n",
       "    this.context = canvas[0].getContext(\"2d\");\n",
       "\n",
       "    var rubberband = $('<canvas/>');\n",
       "    rubberband.attr('style', \"position: absolute; left: 0; top: 0; z-index: 1;\")\n",
       "\n",
       "    var pass_mouse_events = true;\n",
       "\n",
       "    canvas_div.resizable({\n",
       "        start: function(event, ui) {\n",
       "            pass_mouse_events = false;\n",
       "        },\n",
       "        resize: function(event, ui) {\n",
       "            fig.request_resize(ui.size.width, ui.size.height);\n",
       "        },\n",
       "        stop: function(event, ui) {\n",
       "            pass_mouse_events = true;\n",
       "            fig.request_resize(ui.size.width, ui.size.height);\n",
       "        },\n",
       "    });\n",
       "\n",
       "    function mouse_event_fn(event) {\n",
       "        if (pass_mouse_events)\n",
       "            return fig.mouse_event(event, event['data']);\n",
       "    }\n",
       "\n",
       "    rubberband.mousedown('button_press', mouse_event_fn);\n",
       "    rubberband.mouseup('button_release', mouse_event_fn);\n",
       "    // Throttle sequential mouse events to 1 every 20ms.\n",
       "    rubberband.mousemove('motion_notify', mouse_event_fn);\n",
       "\n",
       "    rubberband.mouseenter('figure_enter', mouse_event_fn);\n",
       "    rubberband.mouseleave('figure_leave', mouse_event_fn);\n",
       "\n",
       "    canvas_div.on(\"wheel\", function (event) {\n",
       "        event = event.originalEvent;\n",
       "        event['data'] = 'scroll'\n",
       "        if (event.deltaY < 0) {\n",
       "            event.step = 1;\n",
       "        } else {\n",
       "            event.step = -1;\n",
       "        }\n",
       "        mouse_event_fn(event);\n",
       "    });\n",
       "\n",
       "    canvas_div.append(canvas);\n",
       "    canvas_div.append(rubberband);\n",
       "\n",
       "    this.rubberband = rubberband;\n",
       "    this.rubberband_canvas = rubberband[0];\n",
       "    this.rubberband_context = rubberband[0].getContext(\"2d\");\n",
       "    this.rubberband_context.strokeStyle = \"#000000\";\n",
       "\n",
       "    this._resize_canvas = function(width, height) {\n",
       "        // Keep the size of the canvas, canvas container, and rubber band\n",
       "        // canvas in synch.\n",
       "        canvas_div.css('width', width)\n",
       "        canvas_div.css('height', height)\n",
       "\n",
       "        canvas.attr('width', width);\n",
       "        canvas.attr('height', height);\n",
       "\n",
       "        rubberband.attr('width', width);\n",
       "        rubberband.attr('height', height);\n",
       "    }\n",
       "\n",
       "    // Set the figure to an initial 600x600px, this will subsequently be updated\n",
       "    // upon first draw.\n",
       "    this._resize_canvas(600, 600);\n",
       "\n",
       "    // Disable right mouse context menu.\n",
       "    $(this.rubberband_canvas).bind(\"contextmenu\",function(e){\n",
       "        return false;\n",
       "    });\n",
       "\n",
       "    function set_focus () {\n",
       "        canvas.focus();\n",
       "        canvas_div.focus();\n",
       "    }\n",
       "\n",
       "    window.setTimeout(set_focus, 100);\n",
       "}\n",
       "\n",
       "mpl.figure.prototype._init_toolbar = function() {\n",
       "    var fig = this;\n",
       "\n",
       "    var nav_element = $('<div/>')\n",
       "    nav_element.attr('style', 'width: 100%');\n",
       "    this.root.append(nav_element);\n",
       "\n",
       "    // Define a callback function for later on.\n",
       "    function toolbar_event(event) {\n",
       "        return fig.toolbar_button_onclick(event['data']);\n",
       "    }\n",
       "    function toolbar_mouse_event(event) {\n",
       "        return fig.toolbar_button_onmouseover(event['data']);\n",
       "    }\n",
       "\n",
       "    for(var toolbar_ind in mpl.toolbar_items) {\n",
       "        var name = mpl.toolbar_items[toolbar_ind][0];\n",
       "        var tooltip = mpl.toolbar_items[toolbar_ind][1];\n",
       "        var image = mpl.toolbar_items[toolbar_ind][2];\n",
       "        var method_name = mpl.toolbar_items[toolbar_ind][3];\n",
       "\n",
       "        if (!name) {\n",
       "            // put a spacer in here.\n",
       "            continue;\n",
       "        }\n",
       "        var button = $('<button/>');\n",
       "        button.addClass('ui-button ui-widget ui-state-default ui-corner-all ' +\n",
       "                        'ui-button-icon-only');\n",
       "        button.attr('role', 'button');\n",
       "        button.attr('aria-disabled', 'false');\n",
       "        button.click(method_name, toolbar_event);\n",
       "        button.mouseover(tooltip, toolbar_mouse_event);\n",
       "\n",
       "        var icon_img = $('<span/>');\n",
       "        icon_img.addClass('ui-button-icon-primary ui-icon');\n",
       "        icon_img.addClass(image);\n",
       "        icon_img.addClass('ui-corner-all');\n",
       "\n",
       "        var tooltip_span = $('<span/>');\n",
       "        tooltip_span.addClass('ui-button-text');\n",
       "        tooltip_span.html(tooltip);\n",
       "\n",
       "        button.append(icon_img);\n",
       "        button.append(tooltip_span);\n",
       "\n",
       "        nav_element.append(button);\n",
       "    }\n",
       "\n",
       "    var fmt_picker_span = $('<span/>');\n",
       "\n",
       "    var fmt_picker = $('<select/>');\n",
       "    fmt_picker.addClass('mpl-toolbar-option ui-widget ui-widget-content');\n",
       "    fmt_picker_span.append(fmt_picker);\n",
       "    nav_element.append(fmt_picker_span);\n",
       "    this.format_dropdown = fmt_picker[0];\n",
       "\n",
       "    for (var ind in mpl.extensions) {\n",
       "        var fmt = mpl.extensions[ind];\n",
       "        var option = $(\n",
       "            '<option/>', {selected: fmt === mpl.default_extension}).html(fmt);\n",
       "        fmt_picker.append(option)\n",
       "    }\n",
       "\n",
       "    // Add hover states to the ui-buttons\n",
       "    $( \".ui-button\" ).hover(\n",
       "        function() { $(this).addClass(\"ui-state-hover\");},\n",
       "        function() { $(this).removeClass(\"ui-state-hover\");}\n",
       "    );\n",
       "\n",
       "    var status_bar = $('<span class=\"mpl-message\"/>');\n",
       "    nav_element.append(status_bar);\n",
       "    this.message = status_bar[0];\n",
       "}\n",
       "\n",
       "mpl.figure.prototype.request_resize = function(x_pixels, y_pixels) {\n",
       "    // Request matplotlib to resize the figure. Matplotlib will then trigger a resize in the client,\n",
       "    // which will in turn request a refresh of the image.\n",
       "    this.send_message('resize', {'width': x_pixels, 'height': y_pixels});\n",
       "}\n",
       "\n",
       "mpl.figure.prototype.send_message = function(type, properties) {\n",
       "    properties['type'] = type;\n",
       "    properties['figure_id'] = this.id;\n",
       "    this.ws.send(JSON.stringify(properties));\n",
       "}\n",
       "\n",
       "mpl.figure.prototype.send_draw_message = function() {\n",
       "    if (!this.waiting) {\n",
       "        this.waiting = true;\n",
       "        this.ws.send(JSON.stringify({type: \"draw\", figure_id: this.id}));\n",
       "    }\n",
       "}\n",
       "\n",
       "\n",
       "mpl.figure.prototype.handle_save = function(fig, msg) {\n",
       "    var format_dropdown = fig.format_dropdown;\n",
       "    var format = format_dropdown.options[format_dropdown.selectedIndex].value;\n",
       "    fig.ondownload(fig, format);\n",
       "}\n",
       "\n",
       "\n",
       "mpl.figure.prototype.handle_resize = function(fig, msg) {\n",
       "    var size = msg['size'];\n",
       "    if (size[0] != fig.canvas.width || size[1] != fig.canvas.height) {\n",
       "        fig._resize_canvas(size[0], size[1]);\n",
       "        fig.send_message(\"refresh\", {});\n",
       "    };\n",
       "}\n",
       "\n",
       "mpl.figure.prototype.handle_rubberband = function(fig, msg) {\n",
       "    var x0 = msg['x0'];\n",
       "    var y0 = fig.canvas.height - msg['y0'];\n",
       "    var x1 = msg['x1'];\n",
       "    var y1 = fig.canvas.height - msg['y1'];\n",
       "    x0 = Math.floor(x0) + 0.5;\n",
       "    y0 = Math.floor(y0) + 0.5;\n",
       "    x1 = Math.floor(x1) + 0.5;\n",
       "    y1 = Math.floor(y1) + 0.5;\n",
       "    var min_x = Math.min(x0, x1);\n",
       "    var min_y = Math.min(y0, y1);\n",
       "    var width = Math.abs(x1 - x0);\n",
       "    var height = Math.abs(y1 - y0);\n",
       "\n",
       "    fig.rubberband_context.clearRect(\n",
       "        0, 0, fig.canvas.width, fig.canvas.height);\n",
       "\n",
       "    fig.rubberband_context.strokeRect(min_x, min_y, width, height);\n",
       "}\n",
       "\n",
       "mpl.figure.prototype.handle_figure_label = function(fig, msg) {\n",
       "    // Updates the figure title.\n",
       "    fig.header.textContent = msg['label'];\n",
       "}\n",
       "\n",
       "mpl.figure.prototype.handle_cursor = function(fig, msg) {\n",
       "    var cursor = msg['cursor'];\n",
       "    switch(cursor)\n",
       "    {\n",
       "    case 0:\n",
       "        cursor = 'pointer';\n",
       "        break;\n",
       "    case 1:\n",
       "        cursor = 'default';\n",
       "        break;\n",
       "    case 2:\n",
       "        cursor = 'crosshair';\n",
       "        break;\n",
       "    case 3:\n",
       "        cursor = 'move';\n",
       "        break;\n",
       "    }\n",
       "    fig.rubberband_canvas.style.cursor = cursor;\n",
       "}\n",
       "\n",
       "mpl.figure.prototype.handle_message = function(fig, msg) {\n",
       "    fig.message.textContent = msg['message'];\n",
       "}\n",
       "\n",
       "mpl.figure.prototype.handle_draw = function(fig, msg) {\n",
       "    // Request the server to send over a new figure.\n",
       "    fig.send_draw_message();\n",
       "}\n",
       "\n",
       "mpl.figure.prototype.handle_image_mode = function(fig, msg) {\n",
       "    fig.image_mode = msg['mode'];\n",
       "}\n",
       "\n",
       "mpl.figure.prototype.updated_canvas_event = function() {\n",
       "    // Called whenever the canvas gets updated.\n",
       "    this.send_message(\"ack\", {});\n",
       "}\n",
       "\n",
       "// A function to construct a web socket function for onmessage handling.\n",
       "// Called in the figure constructor.\n",
       "mpl.figure.prototype._make_on_message_function = function(fig) {\n",
       "    return function socket_on_message(evt) {\n",
       "        if (evt.data instanceof Blob) {\n",
       "            /* FIXME: We get \"Resource interpreted as Image but\n",
       "             * transferred with MIME type text/plain:\" errors on\n",
       "             * Chrome.  But how to set the MIME type?  It doesn't seem\n",
       "             * to be part of the websocket stream */\n",
       "            evt.data.type = \"image/png\";\n",
       "\n",
       "            /* Free the memory for the previous frames */\n",
       "            if (fig.imageObj.src) {\n",
       "                (window.URL || window.webkitURL).revokeObjectURL(\n",
       "                    fig.imageObj.src);\n",
       "            }\n",
       "\n",
       "            fig.imageObj.src = (window.URL || window.webkitURL).createObjectURL(\n",
       "                evt.data);\n",
       "            fig.updated_canvas_event();\n",
       "            fig.waiting = false;\n",
       "            return;\n",
       "        }\n",
       "        else if (typeof evt.data === 'string' && evt.data.slice(0, 21) == \"data:image/png;base64\") {\n",
       "            fig.imageObj.src = evt.data;\n",
       "            fig.updated_canvas_event();\n",
       "            fig.waiting = false;\n",
       "            return;\n",
       "        }\n",
       "\n",
       "        var msg = JSON.parse(evt.data);\n",
       "        var msg_type = msg['type'];\n",
       "\n",
       "        // Call the  \"handle_{type}\" callback, which takes\n",
       "        // the figure and JSON message as its only arguments.\n",
       "        try {\n",
       "            var callback = fig[\"handle_\" + msg_type];\n",
       "        } catch (e) {\n",
       "            console.log(\"No handler for the '\" + msg_type + \"' message type: \", msg);\n",
       "            return;\n",
       "        }\n",
       "\n",
       "        if (callback) {\n",
       "            try {\n",
       "                // console.log(\"Handling '\" + msg_type + \"' message: \", msg);\n",
       "                callback(fig, msg);\n",
       "            } catch (e) {\n",
       "                console.log(\"Exception inside the 'handler_\" + msg_type + \"' callback:\", e, e.stack, msg);\n",
       "            }\n",
       "        }\n",
       "    };\n",
       "}\n",
       "\n",
       "// from http://stackoverflow.com/questions/1114465/getting-mouse-location-in-canvas\n",
       "mpl.findpos = function(e) {\n",
       "    //this section is from http://www.quirksmode.org/js/events_properties.html\n",
       "    var targ;\n",
       "    if (!e)\n",
       "        e = window.event;\n",
       "    if (e.target)\n",
       "        targ = e.target;\n",
       "    else if (e.srcElement)\n",
       "        targ = e.srcElement;\n",
       "    if (targ.nodeType == 3) // defeat Safari bug\n",
       "        targ = targ.parentNode;\n",
       "\n",
       "    // jQuery normalizes the pageX and pageY\n",
       "    // pageX,Y are the mouse positions relative to the document\n",
       "    // offset() returns the position of the element relative to the document\n",
       "    var x = e.pageX - $(targ).offset().left;\n",
       "    var y = e.pageY - $(targ).offset().top;\n",
       "\n",
       "    return {\"x\": x, \"y\": y};\n",
       "};\n",
       "\n",
       "/*\n",
       " * return a copy of an object with only non-object keys\n",
       " * we need this to avoid circular references\n",
       " * http://stackoverflow.com/a/24161582/3208463\n",
       " */\n",
       "function simpleKeys (original) {\n",
       "  return Object.keys(original).reduce(function (obj, key) {\n",
       "    if (typeof original[key] !== 'object')\n",
       "        obj[key] = original[key]\n",
       "    return obj;\n",
       "  }, {});\n",
       "}\n",
       "\n",
       "mpl.figure.prototype.mouse_event = function(event, name) {\n",
       "    var canvas_pos = mpl.findpos(event)\n",
       "\n",
       "    if (name === 'button_press')\n",
       "    {\n",
       "        this.canvas.focus();\n",
       "        this.canvas_div.focus();\n",
       "    }\n",
       "\n",
       "    var x = canvas_pos.x;\n",
       "    var y = canvas_pos.y;\n",
       "\n",
       "    this.send_message(name, {x: x, y: y, button: event.button,\n",
       "                             step: event.step,\n",
       "                             guiEvent: simpleKeys(event)});\n",
       "\n",
       "    /* This prevents the web browser from automatically changing to\n",
       "     * the text insertion cursor when the button is pressed.  We want\n",
       "     * to control all of the cursor setting manually through the\n",
       "     * 'cursor' event from matplotlib */\n",
       "    event.preventDefault();\n",
       "    return false;\n",
       "}\n",
       "\n",
       "mpl.figure.prototype._key_event_extra = function(event, name) {\n",
       "    // Handle any extra behaviour associated with a key event\n",
       "}\n",
       "\n",
       "mpl.figure.prototype.key_event = function(event, name) {\n",
       "\n",
       "    // Prevent repeat events\n",
       "    if (name == 'key_press')\n",
       "    {\n",
       "        if (event.which === this._key)\n",
       "            return;\n",
       "        else\n",
       "            this._key = event.which;\n",
       "    }\n",
       "    if (name == 'key_release')\n",
       "        this._key = null;\n",
       "\n",
       "    var value = '';\n",
       "    if (event.ctrlKey && event.which != 17)\n",
       "        value += \"ctrl+\";\n",
       "    if (event.altKey && event.which != 18)\n",
       "        value += \"alt+\";\n",
       "    if (event.shiftKey && event.which != 16)\n",
       "        value += \"shift+\";\n",
       "\n",
       "    value += 'k';\n",
       "    value += event.which.toString();\n",
       "\n",
       "    this._key_event_extra(event, name);\n",
       "\n",
       "    this.send_message(name, {key: value,\n",
       "                             guiEvent: simpleKeys(event)});\n",
       "    return false;\n",
       "}\n",
       "\n",
       "mpl.figure.prototype.toolbar_button_onclick = function(name) {\n",
       "    if (name == 'download') {\n",
       "        this.handle_save(this, null);\n",
       "    } else {\n",
       "        this.send_message(\"toolbar_button\", {name: name});\n",
       "    }\n",
       "};\n",
       "\n",
       "mpl.figure.prototype.toolbar_button_onmouseover = function(tooltip) {\n",
       "    this.message.textContent = tooltip;\n",
       "};\n",
       "mpl.toolbar_items = [[\"Home\", \"Reset original view\", \"fa fa-home icon-home\", \"home\"], [\"Back\", \"Back to  previous view\", \"fa fa-arrow-left icon-arrow-left\", \"back\"], [\"Forward\", \"Forward to next view\", \"fa fa-arrow-right icon-arrow-right\", \"forward\"], [\"\", \"\", \"\", \"\"], [\"Pan\", \"Pan axes with left mouse, zoom with right\", \"fa fa-arrows icon-move\", \"pan\"], [\"Zoom\", \"Zoom to rectangle\", \"fa fa-square-o icon-check-empty\", \"zoom\"], [\"\", \"\", \"\", \"\"], [\"Download\", \"Download plot\", \"fa fa-floppy-o icon-save\", \"download\"]];\n",
       "\n",
       "mpl.extensions = [\"eps\", \"jpeg\", \"pdf\", \"png\", \"ps\", \"raw\", \"svg\", \"tif\"];\n",
       "\n",
       "mpl.default_extension = \"png\";var comm_websocket_adapter = function(comm) {\n",
       "    // Create a \"websocket\"-like object which calls the given IPython comm\n",
       "    // object with the appropriate methods. Currently this is a non binary\n",
       "    // socket, so there is still some room for performance tuning.\n",
       "    var ws = {};\n",
       "\n",
       "    ws.close = function() {\n",
       "        comm.close()\n",
       "    };\n",
       "    ws.send = function(m) {\n",
       "        //console.log('sending', m);\n",
       "        comm.send(m);\n",
       "    };\n",
       "    // Register the callback with on_msg.\n",
       "    comm.on_msg(function(msg) {\n",
       "        //console.log('receiving', msg['content']['data'], msg);\n",
       "        // Pass the mpl event to the overriden (by mpl) onmessage function.\n",
       "        ws.onmessage(msg['content']['data'])\n",
       "    });\n",
       "    return ws;\n",
       "}\n",
       "\n",
       "mpl.mpl_figure_comm = function(comm, msg) {\n",
       "    // This is the function which gets called when the mpl process\n",
       "    // starts-up an IPython Comm through the \"matplotlib\" channel.\n",
       "\n",
       "    var id = msg.content.data.id;\n",
       "    // Get hold of the div created by the display call when the Comm\n",
       "    // socket was opened in Python.\n",
       "    var element = $(\"#\" + id);\n",
       "    var ws_proxy = comm_websocket_adapter(comm)\n",
       "\n",
       "    function ondownload(figure, format) {\n",
       "        window.open(figure.imageObj.src);\n",
       "    }\n",
       "\n",
       "    var fig = new mpl.figure(id, ws_proxy,\n",
       "                           ondownload,\n",
       "                           element.get(0));\n",
       "\n",
       "    // Call onopen now - mpl needs it, as it is assuming we've passed it a real\n",
       "    // web socket which is closed, not our websocket->open comm proxy.\n",
       "    ws_proxy.onopen();\n",
       "\n",
       "    fig.parent_element = element.get(0);\n",
       "    fig.cell_info = mpl.find_output_cell(\"<div id='\" + id + \"'></div>\");\n",
       "    if (!fig.cell_info) {\n",
       "        console.error(\"Failed to find cell for figure\", id, fig);\n",
       "        return;\n",
       "    }\n",
       "\n",
       "    var output_index = fig.cell_info[2]\n",
       "    var cell = fig.cell_info[0];\n",
       "\n",
       "};\n",
       "\n",
       "mpl.figure.prototype.handle_close = function(fig, msg) {\n",
       "    fig.root.unbind('remove')\n",
       "\n",
       "    // Update the output cell to use the data from the current canvas.\n",
       "    fig.push_to_output();\n",
       "    var dataURL = fig.canvas.toDataURL();\n",
       "    // Re-enable the keyboard manager in IPython - without this line, in FF,\n",
       "    // the notebook keyboard shortcuts fail.\n",
       "    IPython.keyboard_manager.enable()\n",
       "    $(fig.parent_element).html('<img src=\"' + dataURL + '\">');\n",
       "    fig.close_ws(fig, msg);\n",
       "}\n",
       "\n",
       "mpl.figure.prototype.close_ws = function(fig, msg){\n",
       "    fig.send_message('closing', msg);\n",
       "    // fig.ws.close()\n",
       "}\n",
       "\n",
       "mpl.figure.prototype.push_to_output = function(remove_interactive) {\n",
       "    // Turn the data on the canvas into data in the output cell.\n",
       "    var dataURL = this.canvas.toDataURL();\n",
       "    this.cell_info[1]['text/html'] = '<img src=\"' + dataURL + '\">';\n",
       "}\n",
       "\n",
       "mpl.figure.prototype.updated_canvas_event = function() {\n",
       "    // Tell IPython that the notebook contents must change.\n",
       "    IPython.notebook.set_dirty(true);\n",
       "    this.send_message(\"ack\", {});\n",
       "    var fig = this;\n",
       "    // Wait a second, then push the new image to the DOM so\n",
       "    // that it is saved nicely (might be nice to debounce this).\n",
       "    setTimeout(function () { fig.push_to_output() }, 1000);\n",
       "}\n",
       "\n",
       "mpl.figure.prototype._init_toolbar = function() {\n",
       "    var fig = this;\n",
       "\n",
       "    var nav_element = $('<div/>')\n",
       "    nav_element.attr('style', 'width: 100%');\n",
       "    this.root.append(nav_element);\n",
       "\n",
       "    // Define a callback function for later on.\n",
       "    function toolbar_event(event) {\n",
       "        return fig.toolbar_button_onclick(event['data']);\n",
       "    }\n",
       "    function toolbar_mouse_event(event) {\n",
       "        return fig.toolbar_button_onmouseover(event['data']);\n",
       "    }\n",
       "\n",
       "    for(var toolbar_ind in mpl.toolbar_items){\n",
       "        var name = mpl.toolbar_items[toolbar_ind][0];\n",
       "        var tooltip = mpl.toolbar_items[toolbar_ind][1];\n",
       "        var image = mpl.toolbar_items[toolbar_ind][2];\n",
       "        var method_name = mpl.toolbar_items[toolbar_ind][3];\n",
       "\n",
       "        if (!name) { continue; };\n",
       "\n",
       "        var button = $('<button class=\"btn btn-default\" href=\"#\" title=\"' + name + '\"><i class=\"fa ' + image + ' fa-lg\"></i></button>');\n",
       "        button.click(method_name, toolbar_event);\n",
       "        button.mouseover(tooltip, toolbar_mouse_event);\n",
       "        nav_element.append(button);\n",
       "    }\n",
       "\n",
       "    // Add the status bar.\n",
       "    var status_bar = $('<span class=\"mpl-message\" style=\"text-align:right; float: right;\"/>');\n",
       "    nav_element.append(status_bar);\n",
       "    this.message = status_bar[0];\n",
       "\n",
       "    // Add the close button to the window.\n",
       "    var buttongrp = $('<div class=\"btn-group inline pull-right\"></div>');\n",
       "    var button = $('<button class=\"btn btn-mini btn-primary\" href=\"#\" title=\"Stop Interaction\"><i class=\"fa fa-power-off icon-remove icon-large\"></i></button>');\n",
       "    button.click(function (evt) { fig.handle_close(fig, {}); } );\n",
       "    button.mouseover('Stop Interaction', toolbar_mouse_event);\n",
       "    buttongrp.append(button);\n",
       "    var titlebar = this.root.find($('.ui-dialog-titlebar'));\n",
       "    titlebar.prepend(buttongrp);\n",
       "}\n",
       "\n",
       "mpl.figure.prototype._root_extra_style = function(el){\n",
       "    var fig = this\n",
       "    el.on(\"remove\", function(){\n",
       "\tfig.close_ws(fig, {});\n",
       "    });\n",
       "}\n",
       "\n",
       "mpl.figure.prototype._canvas_extra_style = function(el){\n",
       "    // this is important to make the div 'focusable\n",
       "    el.attr('tabindex', 0)\n",
       "    // reach out to IPython and tell the keyboard manager to turn it's self\n",
       "    // off when our div gets focus\n",
       "\n",
       "    // location in version 3\n",
       "    if (IPython.notebook.keyboard_manager) {\n",
       "        IPython.notebook.keyboard_manager.register_events(el);\n",
       "    }\n",
       "    else {\n",
       "        // location in version 2\n",
       "        IPython.keyboard_manager.register_events(el);\n",
       "    }\n",
       "\n",
       "}\n",
       "\n",
       "mpl.figure.prototype._key_event_extra = function(event, name) {\n",
       "    var manager = IPython.notebook.keyboard_manager;\n",
       "    if (!manager)\n",
       "        manager = IPython.keyboard_manager;\n",
       "\n",
       "    // Check for shift+enter\n",
       "    if (event.shiftKey && event.which == 13) {\n",
       "        this.canvas_div.blur();\n",
       "        event.shiftKey = false;\n",
       "        // Send a \"J\" for go to next cell\n",
       "        event.which = 74;\n",
       "        event.keyCode = 74;\n",
       "        manager.command_mode();\n",
       "        manager.handle_keydown(event);\n",
       "    }\n",
       "}\n",
       "\n",
       "mpl.figure.prototype.handle_save = function(fig, msg) {\n",
       "    fig.ondownload(fig, null);\n",
       "}\n",
       "\n",
       "\n",
       "mpl.find_output_cell = function(html_output) {\n",
       "    // Return the cell and output element which can be found *uniquely* in the notebook.\n",
       "    // Note - this is a bit hacky, but it is done because the \"notebook_saving.Notebook\"\n",
       "    // IPython event is triggered only after the cells have been serialised, which for\n",
       "    // our purposes (turning an active figure into a static one), is too late.\n",
       "    var cells = IPython.notebook.get_cells();\n",
       "    var ncells = cells.length;\n",
       "    for (var i=0; i<ncells; i++) {\n",
       "        var cell = cells[i];\n",
       "        if (cell.cell_type === 'code'){\n",
       "            for (var j=0; j<cell.output_area.outputs.length; j++) {\n",
       "                var data = cell.output_area.outputs[j];\n",
       "                if (data.data) {\n",
       "                    // IPython >= 3 moved mimebundle to data attribute of output\n",
       "                    data = data.data;\n",
       "                }\n",
       "                if (data['text/html'] == html_output) {\n",
       "                    return [cell, data, j];\n",
       "                }\n",
       "            }\n",
       "        }\n",
       "    }\n",
       "}\n",
       "\n",
       "// Register the function which deals with the matplotlib target/channel.\n",
       "// The kernel may be null if the page has been refreshed.\n",
       "if (IPython.notebook.kernel != null) {\n",
       "    IPython.notebook.kernel.comm_manager.register_target('matplotlib', mpl.mpl_figure_comm);\n",
       "}\n"
      ],
      "text/plain": [
       "<IPython.core.display.Javascript object>"
      ]
     },
     "metadata": {},
     "output_type": "display_data"
    },
    {
     "data": {
      "text/html": [
       "<img src=\"data:image/png;base64,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\">"
      ],
      "text/plain": [
       "<IPython.core.display.HTML object>"
      ]
     },
     "metadata": {},
     "output_type": "display_data"
    },
    {
     "data": {
      "text/plain": [
       "[<matplotlib.lines.Line2D at 0x12145630>]"
      ]
     },
     "execution_count": 122,
     "metadata": {},
     "output_type": "execute_result"
    }
   ],
   "source": [
    "%matplotlib notebook\n",
    "d=2\n",
    "plt.plot(distributions[d].counts)"
   ]
  },
  {
   "cell_type": "code",
   "execution_count": null,
   "metadata": {
    "collapsed": false,
    "scrolled": true
   },
   "outputs": [],
   "source": [
    "p=1\n",
    "lasts=enet['last'].nonzero()[0]+1\n",
    "packets = []\n",
    "prev=0\n",
    "for last in lasts:\n",
    "    packets.append(sim.Packet( np.copy(enet['data'][prev:last]).view(np.uint8)))\n",
    "    prev=last\n",
    "\n",
    "packets[:]"
   ]
  },
  {
   "cell_type": "code",
   "execution_count": null,
   "metadata": {
    "collapsed": false
   },
   "outputs": [],
   "source": [
    "packets[4]"
   ]
  },
  {
   "cell_type": "code",
   "execution_count": null,
   "metadata": {
    "collapsed": false
   },
   "outputs": [],
   "source": [
    "def get_distributions(packets):\n",
    "    for packet in packets:\n",
    "        if packet.payload_type == PayloadType.mca:\n",
    "            \n",
    "        \n",
    "    \n",
    "    \n",
    "    \n",
    "packets[4].payload[0:8].view(mca_header_dt)"
   ]
  },
  {
   "cell_type": "code",
   "execution_count": null,
   "metadata": {
    "collapsed": false
   },
   "outputs": [],
   "source": [
    "peaks=packets[1].payload.view(peak_dt)\n",
    "peaks"
   ]
  },
  {
   "cell_type": "code",
   "execution_count": null,
   "metadata": {
    "collapsed": false
   },
   "outputs": [],
   "source": [
    "\n",
    "time=0\n",
    "times=[]\n",
    "heights=[]\n",
    "minimas=[]\n",
    "\n",
    "for p in packets:\n",
    "    if p.payload_type==sim.EventType.tick:\n",
    "        tick=p.payload.view(tick_dt)\n",
    "        time=tick[0]['timestamp']\n",
    "    elif p.payload_type==sim.EventType.peak:\n",
    "        peaks=p.payload.view(peak_dt)\n",
    "        for peak in peaks:\n",
    "            time+=peak['time']\n",
    "            times.append(time)\n",
    "            heights.append(peak['height'])\n",
    "            minimas.append(peak['minima'])\n",
    "            "
   ]
  },
  {
   "cell_type": "code",
   "execution_count": null,
   "metadata": {
    "collapsed": false
   },
   "outputs": [],
   "source": [
    "times"
   ]
  },
  {
   "cell_type": "code",
   "execution_count": null,
   "metadata": {
    "collapsed": false
   },
   "outputs": [],
   "source": [
    "packets[1].payload.view(peak_dt)"
   ]
  },
  {
   "cell_type": "code",
   "execution_count": null,
   "metadata": {
    "collapsed": false
   },
   "outputs": [],
   "source": [
    "heights[0]"
   ]
  },
  {
   "cell_type": "code",
   "execution_count": null,
   "metadata": {
    "collapsed": false,
    "scrolled": false
   },
   "outputs": [],
   "source": [
    "%matplotlib notebook\n",
    "p=3\n",
    "x=np.arange(times[p]-300,times[p]+1000,dtype=np.uint64)\n",
    "plt.plot([times[p], times[p]],[minimas[p], heights[p]],'r',lw=2)\n",
    "plt.step(x,data.trace['filtered'][x])\n",
    "plt.plot(data.peak[p/2],data.trace['filtered'][data.peak[p/2]],'ro')\n",
    "plt.plot(\n",
    "    [data.peak_start[p/2],times[p]],\n",
    "    [data.trace['filtered'][data.peak_start[p/2]],data.trace['filtered'][data.peak_start[p/2]]],\n",
    "    'k'\n",
    ")\n",
    "plt.plot(\n",
    "    [times[p],data.peak[p/2]],\n",
    "    [data.trace['filtered'][data.peak[p/2]],data.trace['filtered'][data.peak[p/2]]],\n",
    "    'k'\n",
    ")"
   ]
  },
  {
   "cell_type": "code",
   "execution_count": null,
   "metadata": {
    "collapsed": false
   },
   "outputs": [],
   "source": [
    "%matplotlib notebook\n",
    "fig=simplt.plot_slice(data.slice((data.peak[0]-1000,data.peak[0]+1000)))\n",
    "data.trace['filtered'][data.peak[0]]"
   ]
  },
  {
   "cell_type": "code",
   "execution_count": null,
   "metadata": {
    "collapsed": false,
    "scrolled": false
   },
   "outputs": [],
   "source": [
    "data.cfd_low"
   ]
  },
  {
   "cell_type": "code",
   "execution_count": null,
   "metadata": {
    "collapsed": false
   },
   "outputs": [],
   "source": [
    "packet_bytes=packet.view(np.uint8)"
   ]
  },
  {
   "cell_type": "code",
   "execution_count": null,
   "metadata": {
    "collapsed": false
   },
   "outputs": [],
   "source": [
    "packet_bytes"
   ]
  },
  {
   "cell_type": "code",
   "execution_count": null,
   "metadata": {
    "collapsed": false
   },
   "outputs": [],
   "source": []
  },
  {
   "cell_type": "code",
   "execution_count": null,
   "metadata": {
    "collapsed": false
   },
   "outputs": [],
   "source": [
    "\n",
    "payload"
   ]
  },
  {
   "cell_type": "code",
   "execution_count": null,
   "metadata": {
    "collapsed": false,
    "scrolled": false
   },
   "outputs": [],
   "source": [
    "\n",
    "payload_type"
   ]
  },
  {
   "cell_type": "code",
   "execution_count": null,
   "metadata": {
    "collapsed": false
   },
   "outputs": [],
   "source": [
    "time=payload[6:8].view(np.uint16)\n",
    "time"
   ]
  },
  {
   "cell_type": "code",
   "execution_count": null,
   "metadata": {
    "collapsed": false
   },
   "outputs": [],
   "source": [
    "\n",
    "peaks"
   ]
  },
  {
   "cell_type": "code",
   "execution_count": null,
   "metadata": {
    "collapsed": false
   },
   "outputs": [],
   "source": [
    "payload[4+8:6+8]"
   ]
  },
  {
   "cell_type": "code",
   "execution_count": null,
   "metadata": {
    "collapsed": false
   },
   "outputs": [],
   "source": [
    "%matplotlib notebook\n",
    "fig=simplt.plot_pulse(1,data)"
   ]
  },
  {
   "cell_type": "code",
   "execution_count": null,
   "metadata": {
    "collapsed": false
   },
   "outputs": [],
   "source": [
    "fig._axstack.as_list()[0]"
   ]
  },
  {
   "cell_type": "code",
   "execution_count": null,
   "metadata": {
    "collapsed": false,
    "scrolled": true
   },
   "outputs": [],
   "source": [
    "tick"
   ]
  },
  {
   "cell_type": "code",
   "execution_count": null,
   "metadata": {
    "collapsed": false
   },
   "outputs": [],
   "source": [
    "ticks"
   ]
  },
  {
   "cell_type": "code",
   "execution_count": null,
   "metadata": {
    "collapsed": false
   },
   "outputs": [],
   "source": [
    "window_start"
   ]
  },
  {
   "cell_type": "code",
   "execution_count": null,
   "metadata": {
    "collapsed": false
   },
   "outputs": [],
   "source": [
    "tick_mask"
   ]
  },
  {
   "cell_type": "code",
   "execution_count": null,
   "metadata": {
    "collapsed": false
   },
   "outputs": [],
   "source": [
    "e._stream64[tick_mask]"
   ]
  },
  {
   "cell_type": "code",
   "execution_count": null,
   "metadata": {
    "collapsed": false
   },
   "outputs": [],
   "source": [
    "type_flags[~tick_mask]"
   ]
  },
  {
   "cell_type": "code",
   "execution_count": null,
   "metadata": {
    "collapsed": false
   },
   "outputs": [],
   "source": [
    "type_flags = np.bitwise_and(events['flags'],0x000f)\n",
    "peak_num = np.right_shift(np.bitwise_and(events['flags'],0x00f0),4)\n",
    "channel = np.right_shift(np.bitwise_and(events['flags'],0x0f00),8)\n",
    "event_type = np.right_shift(np.bitwise_and(events['flags'],0x3000),12)\n",
    "tick=np.bitwise_and(type_flags,0x0002)"
   ]
  },
  {
   "cell_type": "code",
   "execution_count": null,
   "metadata": {
    "collapsed": false
   },
   "outputs": [],
   "source": [
    "ticks"
   ]
  },
  {
   "cell_type": "code",
   "execution_count": null,
   "metadata": {
    "collapsed": false
   },
   "outputs": [],
   "source": []
  },
  {
   "cell_type": "code",
   "execution_count": null,
   "metadata": {
    "collapsed": false
   },
   "outputs": [],
   "source": [
    "tick_mask"
   ]
  },
  {
   "cell_type": "code",
   "execution_count": null,
   "metadata": {
    "collapsed": false
   },
   "outputs": [],
   "source": [
    "events[tick_mask]"
   ]
  },
  {
   "cell_type": "code",
   "execution_count": null,
   "metadata": {
    "collapsed": false
   },
   "outputs": [],
   "source": [
    "time=np.bitwise_and(events[~tick_mask]['time'],0x7fff)\n",
    "c_start=np.bitwise_and(events[~tick_mask]['time'],0x8000)!=0"
   ]
  },
  {
   "cell_type": "code",
   "execution_count": null,
   "metadata": {
    "collapsed": false
   },
   "outputs": [],
   "source": [
    "events[tick_mask]['time']"
   ]
  },
  {
   "cell_type": "code",
   "execution_count": null,
   "metadata": {
    "collapsed": false
   },
   "outputs": [],
   "source": [
    "time"
   ]
  },
  {
   "cell_type": "code",
   "execution_count": null,
   "metadata": {
    "collapsed": false
   },
   "outputs": [],
   "source": [
    "np.binary_repr(time[0],width=16)"
   ]
  },
  {
   "cell_type": "code",
   "execution_count": null,
   "metadata": {
    "collapsed": false
   },
   "outputs": [],
   "source": [
    "events[~tick_mask]['min']"
   ]
  },
  {
   "cell_type": "code",
   "execution_count": null,
   "metadata": {
    "collapsed": false
   },
   "outputs": [],
   "source": [
    "events[~tick_mask]['height']"
   ]
  },
  {
   "cell_type": "code",
   "execution_count": null,
   "metadata": {
    "collapsed": false
   },
   "outputs": [],
   "source": [
    "%matplotlib notebook\n",
    "fig = simplt.plot_pulse(1,data,pre=500,length=3000)\n"
   ]
  },
  {
   "cell_type": "code",
   "execution_count": null,
   "metadata": {
    "collapsed": true
   },
   "outputs": [],
   "source": [
    "import pickle\n",
    "\n",
    "# An arbitrary collection of objects supported by pickle.\n",
    "\n",
    "pickler = pickle.Pickler(open('long.pickle', 'wb'),pickle.HIGHEST_PROTOCOL)\n",
    "pickler.dump(data)\n"
   ]
  },
  {
   "cell_type": "code",
   "execution_count": null,
   "metadata": {
    "collapsed": true
   },
   "outputs": [],
   "source": [
    "unpickler = pickle.Unpickler(open('long.pickle', 'rb'))\n",
    "reg2=unpickler.load()\n",
    "data2=unpickler.load()"
   ]
  },
  {
   "cell_type": "code",
   "execution_count": null,
   "metadata": {
    "collapsed": false
   },
   "outputs": [],
   "source": [
    "data2.trace['slope']"
   ]
  },
  {
   "cell_type": "code",
   "execution_count": null,
   "metadata": {
    "collapsed": false
   },
   "outputs": [],
   "source": [
    "reg2"
   ]
  },
  {
   "cell_type": "code",
   "execution_count": null,
   "metadata": {
    "collapsed": false,
    "scrolled": false
   },
   "outputs": [],
   "source": [
    "axs = fig.get_axes()\n",
    "pax=axs[0].parasites\n",
    "pax[0]._label\n",
    "f_ins_ax=axs[1]\n",
    "s_ins_ax=f_ins_ax.parasites[0]"
   ]
  },
  {
   "cell_type": "code",
   "execution_count": null,
   "metadata": {
    "collapsed": false,
    "scrolled": false
   },
   "outputs": [],
   "source": [
    "es=sim.Data.fromfile('eventstream',np.int32,'teslib','measurement_unit_TB')"
   ]
  },
  {
   "cell_type": "code",
   "execution_count": null,
   "metadata": {
    "collapsed": false
   },
   "outputs": [],
   "source": [
    "es"
   ]
  },
  {
   "cell_type": "code",
   "execution_count": null,
   "metadata": {
    "collapsed": false
   },
   "outputs": [],
   "source": [
    "data.peak[-1]"
   ]
  },
  {
   "cell_type": "code",
   "execution_count": null,
   "metadata": {
    "collapsed": false
   },
   "outputs": [],
   "source": [
    "s.peak"
   ]
  },
  {
   "cell_type": "code",
   "execution_count": null,
   "metadata": {
    "collapsed": false
   },
   "outputs": [],
   "source": [
    "isinstance(r,sim.DataRegion)"
   ]
  },
  {
   "cell_type": "code",
   "execution_count": null,
   "metadata": {
    "collapsed": false
   },
   "outputs": [],
   "source": [
    "r.peak"
   ]
  },
  {
   "cell_type": "code",
   "execution_count": null,
   "metadata": {
    "collapsed": false
   },
   "outputs": [],
   "source": [
    "i"
   ]
  },
  {
   "cell_type": "code",
   "execution_count": null,
   "metadata": {
    "collapsed": false
   },
   "outputs": [],
   "source": [
    "%matplotlib notebook\n",
    "import matplotlib.pyplot as plt\n",
    "\n",
    "plt.plot(data.trace['filtered'])"
   ]
  },
  {
   "cell_type": "code",
   "execution_count": null,
   "metadata": {
    "collapsed": false
   },
   "outputs": [],
   "source": [
    "ax=plt.gca()\n",
    "t=ax.transData\n",
    "t.transform([[0.1,0.2],[1,3]])"
   ]
  },
  {
   "cell_type": "code",
   "execution_count": null,
   "metadata": {
    "collapsed": true
   },
   "outputs": [],
   "source": [
    "x=np.array([0,1,2,3])\n",
    "y=np.array([3,4,5,6])\n",
    "\n",
    "xy=np.empty(shape=(4,2))"
   ]
  },
  {
   "cell_type": "code",
   "execution_count": null,
   "metadata": {
    "collapsed": false
   },
   "outputs": [],
   "source": [
    "xy[:,0]=x\n",
    "xy[:,1]=y\n",
    "t.transform(xy)"
   ]
  },
  {
   "cell_type": "code",
   "execution_count": null,
   "metadata": {
    "collapsed": true
   },
   "outputs": [],
   "source": []
  },
  {
   "cell_type": "code",
   "execution_count": null,
   "metadata": {
    "collapsed": false
   },
   "outputs": [],
   "source": [
    "# run to import isim data files\n",
    "\n",
    "import numpy as np\n",
    "import os\n",
    "import matplotlib.pyplot as plt\n",
    "import math\n",
    "from enum import Enum\n",
    "\n",
    "plt.rcParams[\"figure.figsize\"]=[800./80,600./80]\n",
    "\n",
    "repo='c:\\\\TES_project\\\\fpga_ise\\\\'\n",
    "project='teslib'\n",
    "testbench='measurement_unit_TB'\n",
    "datafile='traces'\n",
    "path=repo+project+'\\\\PlanAhead\\\\'+project+'.sim\\\\'+testbench+'\\\\'\n",
    "\n",
    "traces_dt = np.dtype([('input', np.int32),('raw',np.int32),('filtered',np.int32),('slope',np.int32)])\n",
    "traces=np.fromfile(path+'traces',traces_dt)\n",
    "trigger=np.fromfile(path+'triggers',np.int32)\n",
    "settings=np.fromfile(path+'settings',np.int32)\n",
    "cfd_low=np.fromfile(path+'cfdlow',np.int32)\n",
    "cfd_high=np.fromfile(path+'cfdhigh',np.int32)\n",
    "peaks=np.fromfile(path+'peaks',np.int32)\n",
    "peaks.shape=(-1,2)\n",
    "peak_starts=np.fromfile(path+'peak_starts',np.int32)\n",
    "#peak_starts.shape=(-1,2)\n",
    "pulse_starts=np.fromfile(path+'peak_starts',np.int32)\n",
    "settings=np.fromfile(path+'settings',np.int32)\n",
    "cfd_low=np.fromfile(path+'cfdlow',np.int32)\n",
    "cfd_high=np.fromfile(path+'cfdhigh',np.int32)\n",
    "slope_xing=np.fromfile(path+'slopethreshxings',np.int32)\n"
   ]
  },
  {
   "cell_type": "code",
   "execution_count": null,
   "metadata": {
    "collapsed": false
   },
   "outputs": [],
   "source": [
    "settings[13]"
   ]
  },
  {
   "cell_type": "code",
   "execution_count": null,
   "metadata": {
    "collapsed": false
   },
   "outputs": [],
   "source": [
    "#create register dict from settings array\n",
    "\n",
    "class height_type(Enum):\n",
    "    def from_int(value):\n",
    "        if value == 0:\n",
    "            return height_type.peak_height\n",
    "        elif value == 1:\n",
    "            return height_type.cfd_high\n",
    "        elif value == 2:\n",
    "            return height_type.slope_integral\n",
    "        else:\n",
    "            raise AttributeError()\n",
    "    peak_height=0\n",
    "    cfd_high=1\n",
    "    slope_integral=2\n",
    "\n",
    "class trigger_type(Enum):\n",
    "    def from_int(value):\n",
    "        if value == 0:\n",
    "            return trigger_type.pulse_threshold\n",
    "        elif value == 1:\n",
    "            return trigger_type.slope_threshold\n",
    "        elif value == 2:\n",
    "            return trigger_type.cfd_low\n",
    "        else:\n",
    "            raise AttributeError()\n",
    "    pulse_threshold=0\n",
    "    slope_threshold=1\n",
    "    cfd_low=2\n",
    "\n",
    "class event_type(Enum):\n",
    "    def from_int(value):\n",
    "        if value == 0:\n",
    "            return event_type.peak\n",
    "        elif value == 1:\n",
    "            return event_type.area\n",
    "        elif value == 2:\n",
    "            return event_type.pulse\n",
    "        elif value == 3:\n",
    "            return event_type.trace\n",
    "        else:\n",
    "            raise AttributeError()\n",
    "    peak=0\n",
    "    area=1\n",
    "    pulse=2\n",
    "    trace=3\n",
    "\n",
    "\n",
    "def read_registers(settings):\n",
    "    registers = dict()\n",
    "    registers['baseline'] = dict()\n",
    "    registers['baseline']['offset'] = settings[0]\n",
    "    registers['baseline']['subtraction'] = settings[1]!=0\n",
    "    registers['baseline']['timeconstant'] = settings[2]\n",
    "    registers['baseline']['threshold'] = settings[3]\n",
    "    registers['baseline']['count_threshold'] = settings[4]\n",
    "    registers['generic'] = dict()\n",
    "    registers['baseline']['average_order'] = settings[5]\n",
    "    registers['capture'] = dict()\n",
    "    registers['capture']['cfd_relative'] = settings[6]!=0\n",
    "    registers['capture']['constant_fraction'] = settings[7]\n",
    "    registers['capture']['pulse_threshold'] = settings[8]\n",
    "    registers['capture']['slope_threshold'] = settings[9]\n",
    "    registers['capture']['pulse_area_threshold'] = settings[10]\n",
    "    registers['capture']['height_type'] = height_type.from_int(settings[11])\n",
    "    registers['capture']['threshold_rel2min'] = settings[12]!=0\n",
    "    registers['capture']['trigger_type'] = trigger_type.from_int(settings[13])\n",
    "    registers['capture']['event_type'] = event_type.from_int(settings[14])\n",
    "    return registers\n"
   ]
  },
  {
   "cell_type": "code",
   "execution_count": null,
   "metadata": {
    "collapsed": false
   },
   "outputs": [],
   "source": [
    "%matplotlib notebook\n",
    "x=np.arange(len(traces['filtered']))\n",
    "fig=plt.figure()\n",
    "\n",
    "ax=fig.add_axes([0.15,0.1,0.8,0.8])\n",
    "mV=1.0/math.pow(2,14)*1000\n",
    "nS=4\n",
    "\n",
    "\n",
    "i_trace, =ax.step(x*nS/1000000,(traces['input']+1800)*mV*2,'k',label='raw input')\n",
    "f_trace, =ax.step(x*nS/1000000,traces['filtered']*mV,'b',label='processed')\n",
    "fig.suptitle('Digital Signal Processing',fontsize=24)\n",
    "plt.xlabel('time (ms)',fontsize=18)\n",
    "plt.ylabel('Voltage (mV)',fontsize=18)\n",
    "plt.legend(handles=[i_trace,f_trace])\n",
    "\n",
    "fig.savefig('trace.png')\n",
    "plt.show()"
   ]
  },
  {
   "cell_type": "code",
   "execution_count": null,
   "metadata": {
    "collapsed": true
   },
   "outputs": [],
   "source": []
  },
  {
   "cell_type": "code",
   "execution_count": null,
   "metadata": {
    "collapsed": false
   },
   "outputs": [],
   "source": [
    "%matplotlib notebook\n",
    "import math\n",
    "\n",
    "def align_yaxis(ax1, v1, ax2, v2):\n",
    "    \"\"\"adjust ax2 ylimit so that v2 in ax2 is aligned to v1 in ax1\"\"\"\n",
    "    _, y1 = ax1.transData.transform((0, v1))\n",
    "    _, y2 = ax2.transData.transform((0, v2))\n",
    "    adjust_yaxis(ax2,(y1-y2)/2,v2)\n",
    "    adjust_yaxis(ax1,(y2-y1)/2,v1)\n",
    "\n",
    "def adjust_yaxis(ax,ydif,v):\n",
    "    \"\"\"shift axis ax by ydiff, maintaining point v at the same location\"\"\"\n",
    "    inv = ax.transData.inverted()\n",
    "    _, dy = inv.transform((0, 0)) - inv.transform((0, ydif))\n",
    "    miny, maxy = ax.get_ylim()\n",
    "    miny, maxy = miny - v, maxy - v\n",
    "    if -miny>maxy or (-miny==maxy and dy > 0):\n",
    "        nminy = miny\n",
    "        nmaxy = miny*(maxy+dy)/(miny+dy)\n",
    "    else:\n",
    "        nmaxy = maxy\n",
    "        nminy = maxy*(miny+dy)/(maxy+dy)\n",
    "    ax.set_ylim(nminy+v, nmaxy+v)\n",
    "    \n",
    "x=np.arange(len(traces['filtered']))\n",
    "fig=plt.figure()\n",
    "ax=fig.add_axes([0.1,0.1,0.8,0.8])\n",
    "plt.ylim(-10,120)\n",
    "v=math.pow(2,13)/1000\n",
    "t=x*4\n",
    "ax.plot([0,t[-1]],[0,0],'k')\n",
    "raw, = ax.step(t,traces['raw']/2/v,'k',lw=1,label='raw')\n",
    "processed, = ax.step(t,traces['filtered']/2/v,'r',lw=2,label='processed')\n",
    "ax.plot(trigger,traces['filtered'][trigger+1]/2,'kx')\n",
    "ax.plot(peaks[:,0],traces['filtered'][peaks[:,0]+1]/2,'ro')\n",
    "ax.plot(peak_starts,traces['filtered'][peak_starts+1]/2,'ro')\n",
    "ax.plot(cfd_high,traces['filtered'][cfd_high+1]/2,'bs')\n",
    "ax.plot(cfd_low,traces['filtered'][cfd_low+1]/2,'bs')\n",
    "plt.xlabel('time (ns)',fontsize=18)\n",
    "plt.ylabel('Voltage (mV)',fontsize=18,color='r')\n",
    "\n",
    "ax2=ax.twinx()\n",
    "slope, = ax2.step(t,traces['slope']/256/v/4,'b',lw=2,label='slope')\n",
    "plt.xlim([1292000,1297500])\n",
    "plt.ylim(-0.2,1)\n",
    "align_yaxis(ax,0,ax2,0)\n",
    "plt.ylabel('slope (mV/ns)',color='b',fontsize=18)\n",
    "fig.suptitle('Digital signal processing',fontsize=24)\n",
    "plt.legend(handles=[raw,processed,slope])\n",
    "fig.savefig('dsp.png')\n",
    "plt.show()"
   ]
  },
  {
   "cell_type": "code",
   "execution_count": null,
   "metadata": {
    "collapsed": false
   },
   "outputs": [],
   "source": [
    "%matplotlib notebook\n",
    "\n",
    "#plot pulse\n",
    "from mpl_toolkits.axes_grid1 import host_subplot\n",
    "from mpl_toolkits.axes_grid1.inset_locator import zoomed_inset_axes\n",
    "from mpl_toolkits.axes_grid1.inset_locator import mark_inset\n",
    "\n",
    "pulse=7\n",
    "length=2000\n",
    "pre=100\n",
    "\n",
    "def align_yaxis(ax1, v1, ax2, v2):\n",
    "    \"\"\"adjust ax2 ylimit so that v2 in ax2 is aligned to v1 in ax1\"\"\"\n",
    "    _, y1 = ax1.transData.transform((0, v1))\n",
    "    _, y2 = ax2.transData.transform((0, v2))\n",
    "    adjust_yaxis(ax2,(y1-y2)/2,v2)\n",
    "    adjust_yaxis(ax1,(y2-y1)/2,v1)\n",
    "\n",
    "def adjust_yaxis(ax,ydif,v):\n",
    "    \"\"\"shift axis ax by ydiff, maintaining point v at the same location\"\"\"\n",
    "    inv = ax.transData.inverted()\n",
    "    _, dy = inv.transform((0, 0)) - inv.transform((0, ydif))\n",
    "    miny, maxy = ax.get_ylim()\n",
    "    miny, maxy = miny - v, maxy - v\n",
    "    if -miny>maxy or (-miny==maxy and dy > 0):\n",
    "        nminy = miny\n",
    "        nmaxy = miny*(maxy+dy)/(miny+dy)\n",
    "    else:\n",
    "        nmaxy = maxy\n",
    "        nminy = maxy*(miny+dy)/(maxy+dy)\n",
    "    ax.set_ylim(nminy+v, nmaxy+v)\n",
    "    \n",
    "start=pulse_starts[pulse]-pre\n",
    "stop=start+length\n",
    "x=np.arange(0,len(traces['filtered']))\n",
    "fig=plt.figure()\n",
    "\n",
    "f_ax = host_subplot(111)\n",
    "s_ax = f_ax.twinx()\n",
    "\n",
    "f_ax.set_xlabel(\"Time (ns)\",fontsize=18)\n",
    "f_ax.set_ylabel(\"Voltage (mV)\",fontsize=18,color='r')\n",
    "s_ax.set_ylabel(\"Slope (mv/ns)\",fontsize=18,color='b')\n",
    "\n",
    "mV=1.0/math.pow(2,14)*1000\n",
    "nS=4\n",
    "t=x*nS\n",
    "\n",
    "f_sig = traces['filtered']*mV\n",
    "s_sig = traces['slope']*mV/nS\n",
    "\n",
    "f_ax.plot([t[start],t[stop]],[0,0],'k') # zero line\n",
    "f_trace, = f_ax.step(t[start:stop],f_sig[start:stop],'r',lw=2,label='processed')\n",
    "f_ax.set_ylim(-10,180)\n",
    "\n",
    "s_trace, = s_ax.step(t[start:stop],s_sig[start:stop],'b',lw=1,label='slope')\n",
    "s_ax.set_ylim(-15,50)\n",
    "#s_threshold = 6\n",
    "#s_ax.set_yticks(np.concatenate((s_ax.get_yticks(),[s_threshold])))\n",
    "#labels=[label.get_text() for label in s_ax.get_yticklabels()]\n",
    "#labels[6]='Threshold'\n",
    "\n",
    "#s_ax.set_yticklabels(labels)\n",
    "plt.xlim(t[start],t[stop])\n",
    "align_yaxis(f_ax,0,s_ax,0)\n",
    "fig.suptitle('Measurement:First pass',fontsize=24)\n",
    "#plt.legend(handles=[f_trace,s_trace])\n",
    "\n",
    "starts_mask = np.logical_and(peak_starts >= start,peak_starts <= stop)\n",
    "peaks_mask = np.logical_and(peaks[:,0] >= start, peaks[:,0] <= stop)\n",
    "peak_starts_inwin = peak_starts[starts_mask]\n",
    "\n",
    "for pstart in peak_starts_inwin:\n",
    "    peak_start_t=t[pstart]-2\n",
    "    peak_start_f=f_sig[pstart]\n",
    "    peak_start_s=s_sig[pstart]\n",
    "\n",
    "    f_ax.plot(peak_start_t,peak_start_f,'ro')\n",
    "    s_ax.plot(peak_start_t,peak_start_s,'bo')\n",
    "    \n",
    "    f_trans = f_ax.transData\n",
    "    s_trans = s_ax.transData.inverted()\n",
    "    trans = s_trans+f_trans\n",
    "    f_point=f_trans.transform((peak_start_t,peak_start_f))\n",
    "    s_point=s_trans.transform((f_point[0],f_point[1]))\n",
    "\n",
    "    s_ax.plot([peak_start_t,peak_start_t],[peak_start_s, s_point[1]],'k')\n",
    "\n",
    "#for p in peaks[0][peaks_inwin]\n",
    "peaks_inwin = peaks[peaks_mask,0]\n",
    "for p in peaks_inwin:\n",
    "    peak_t=t[p]-2\n",
    "    peak_f=f_sig[p]\n",
    "    peak_s=s_sig[p]\n",
    "\n",
    "    f_ax.plot(peak_t,peak_f,'ro')\n",
    "    s_ax.plot(peak_t,peak_s,'bo')\n",
    "    \n",
    "    f_trans = f_ax.transData\n",
    "    s_trans = s_ax.transData.inverted()\n",
    "    trans = s_trans+f_trans\n",
    "    f_point=f_trans.transform((peak_t,peak_f))\n",
    "    s_point=s_trans.transform((f_point[0],f_point[1]))\n",
    "\n",
    "    s_ax.plot([peak_t,peak_t],[peak_s, s_point[1]],'k')\n",
    "\n",
    "ins_start = peak_starts_inwin[0]-5\n",
    "ins_stop = peak_starts_inwin[0]+5\n",
    "f_ins_ax = zoomed_inset_axes(f_ax, 50, loc=1)  # zoom = 6\n",
    "f_ins_ax.step(t[ins_start:ins_stop],f_sig[ins_start:ins_stop],'r')\n",
    "f_ins_ax.set_ylim(-0.5,2)\n",
    "f_ins_ax.set_xlim(ins_start,ins_stop)\n",
    "f_ins_ax.set_yticks([])\n",
    "f_ins_ax.set_xticks([])\n",
    "\n",
    "f_ins_ax.plot([t[ins_start],t[ins_stop]],[0,0],'k') # zero line\n",
    "\n",
    "#plt.xticks(visible=False)\n",
    "#plt.yticks(visible=False)\n",
    "mark_inset(f_ax, f_ins_ax, loc1=2, loc2=4, fc=\"none\", ec=\"0.5\")\n",
    "\n",
    "s_ins_ax = f_ins_ax.twinx()\n",
    "s_ins_ax.set_yticks([])\n",
    "s_ins_ax.set_xticks([])\n",
    "\n",
    "s_ins_ax.step(t[ins_start:ins_stop],s_sig[ins_start:ins_stop],'b')\n",
    "\n",
    "s_ins_ax.set_ylim(-1,1)\n",
    "align_yaxis(f_ins_ax,0,s_ins_ax,0)\n",
    "\n",
    "pstart = peak_starts_inwin[0]\n",
    "peak_start_t=t[pstart]-2\n",
    "peak_start_f=f_sig[pstart]\n",
    "peak_start_s=s_sig[pstart]\n",
    "\n",
    "f_ins_ax.plot(peak_start_t,peak_start_f,'ro')\n",
    "s_ins_ax.plot(peak_start_t,peak_start_s,'bo')\n",
    "    \n",
    "f_trans = f_ins_ax.transData\n",
    "s_trans = s_ins_ax.transData.inverted()\n",
    "trans = s_trans+f_trans\n",
    "f_point=f_trans.transform((peak_start_t,peak_start_f))\n",
    "s_point=s_trans.transform((f_point[0],f_point[1]))\n",
    "\n",
    "s_ins_ax.plot([peak_start_t,peak_start_t],[peak_start_s, s_point[1]],'k')\n",
    "\n",
    "s_ax.plot([t[start],t[stop]],[s_threshold,s_threshold],ls='dashed')\n",
    "\n",
    "fig.savefig('measurement1.png')\n",
    "plt.draw()\n",
    "plt.show()"
   ]
  },
  {
   "cell_type": "code",
   "execution_count": null,
   "metadata": {
    "collapsed": false
   },
   "outputs": [],
   "source": [
    "%matplotlib notebook\n",
    "from mpl_toolkits.axes_grid1 import host_subplot\n",
    "from mpl_toolkits.axes_grid1.inset_locator import zoomed_inset_axes\n",
    "from mpl_toolkits.axes_grid1.inset_locator import mark_inset\n",
    "\n",
    "pulse=7\n",
    "length=2000\n",
    "pre=100\n",
    "\n",
    "def align_yaxis(ax1, v1, ax2, v2):\n",
    "    \"\"\"adjust ax2 ylimit so that v2 in ax2 is aligned to v1 in ax1\"\"\"\n",
    "    _, y1 = ax1.transData.transform((0, v1))\n",
    "    _, y2 = ax2.transData.transform((0, v2))\n",
    "    adjust_yaxis(ax2,(y1-y2)/2,v2)\n",
    "    adjust_yaxis(ax1,(y2-y1)/2,v1)\n",
    "\n",
    "def adjust_yaxis(ax,ydif,v):\n",
    "    \"\"\"shift axis ax by ydiff, maintaining point v at the same location\"\"\"\n",
    "    inv = ax.transData.inverted()\n",
    "    _, dy = inv.transform((0, 0)) - inv.transform((0, ydif))\n",
    "    miny, maxy = ax.get_ylim()\n",
    "    miny, maxy = miny - v, maxy - v\n",
    "    if -miny>maxy or (-miny==maxy and dy > 0):\n",
    "        nminy = miny\n",
    "        nmaxy = miny*(maxy+dy)/(miny+dy)\n",
    "    else:\n",
    "        nmaxy = maxy\n",
    "        nminy = maxy*(miny+dy)/(maxy+dy)\n",
    "    ax.set_ylim(nminy+v, nmaxy+v)\n",
    "    \n",
    "start=pulse_starts[pulse]-pre\n",
    "stop=start+length\n",
    "x=np.arange(0,len(traces['filtered']))\n",
    "fig=plt.figure()\n",
    "\n",
    "f_ax = host_subplot(111)\n",
    "s_ax = f_ax.twinx()\n",
    "\n",
    "f_ax.set_xlabel(\"Time (ns)\",fontsize=18)\n",
    "f_ax.set_ylabel(\"Voltage (mV)\",fontsize=18,color='r')\n",
    "s_ax.set_ylabel(\"Slope (mv/ns)\",fontsize=18,color='b')\n",
    "\n",
    "mV=1.0/math.pow(2,14)*1000\n",
    "nS=4\n",
    "t=x*nS\n",
    "\n",
    "f_sig = traces['filtered']*mV\n",
    "s_sig = traces['slope']*mV/nS\n",
    "\n",
    "f_ax.plot([t[start],t[stop]],[0,0],'k') # zero line\n",
    "f_trace, = f_ax.step(t[start:stop],f_sig[start:stop],'r',lw=2,label='processed')\n",
    "f_ax.set_ylim(-10,180)\n",
    "\n",
    "s_trace, = s_ax.step(t[start:stop],s_sig[start:stop],'b',lw=1,label='slope')\n",
    "s_ax.set_ylim(-15,50)\n",
    "#s_threshold = 6\n",
    "#s_ax.set_yticks(np.concatenate((s_ax.get_yticks(),[s_threshold])))\n",
    "#labels=[label.get_text() for label in s_ax.get_yticklabels()]\n",
    "#labels[6]='Threshold'\n",
    "\n",
    "#s_ax.set_yticklabels(labels)\n",
    "plt.xlim(t[start],t[stop])\n",
    "align_yaxis(f_ax,0,s_ax,0)\n",
    "fig.suptitle('Measurement:Second pass',fontsize=24)\n",
    "#plt.legend(handles=[f_trace,s_trace])\n",
    "\n",
    "starts_mask = np.logical_and(peak_starts >= start,peak_starts <= stop)\n",
    "peaks_mask = np.logical_and(peaks[:,0] >= start, peaks[:,0] <= stop)\n",
    "peak_starts_inwin = peak_starts[starts_mask]\n",
    "\n",
    "\n",
    "#for pstart in peak_starts_inwin:\n",
    "#    peak_start_t=t[pstart]-2\n",
    "#    peak_start_f=f_sig[pstart]\n",
    "#    peak_start_s=s_sig[pstart]\n",
    "#\n",
    "#    f_ax.plot(peak_start_t,peak_start_f,'ro')\n",
    "#    s_ax.plot(peak_start_t,peak_start_s,'bo')\n",
    "    \n",
    "#    f_trans = f_ax.transData\n",
    "#    s_trans = s_ax.transData.inverted()\n",
    "#    trans = s_trans+f_trans\n",
    "#    f_point=f_trans.transform((peak_start_t,peak_start_f))\n",
    "#    s_point=s_trans.transform((f_point[0],f_point[1]))\n",
    "\n",
    "#    s_ax.plot([peak_start_t,peak_start_t],[peak_start_s, s_point[1]],'k')\n",
    "\n",
    "#for p in peaks[0][peaks_inwin]\n",
    "peaks_inwin = peaks[peaks_mask,0]\n",
    "x_s=peak_starts_inwin\n",
    "x_p=peaks_inwin\n",
    "y_s=f_sig[x_s]\n",
    "y_p=f_sig[x_p]\n",
    "\n",
    "f_ax.plot(t[peak_starts_inwin],f_sig[peak_starts_inwin],'or')\n",
    "f_ax.plot(t[peaks_inwin],f_sig[peaks_inwin],'or')\n",
    "\n",
    "\n",
    "f_ax.plot([t[x_s[0]],t[x_p[0]]],[y_s[0],y_s[0]],'k')\n",
    "f_ax.plot([t[x_p[0]],t[x_p[0]]],[y_s[0],y_p[0]],'k')\n",
    "\n",
    "f_ax.plot([t[x_s[1]],t[x_p[1]]],[y_s[1],y_s[1]],'k')\n",
    "f_ax.plot([t[x_p[1]],t[x_p[1]]],[y_s[1],y_p[1]],'k')\n",
    "\n",
    "\n",
    "#for p in peaks_inwin:\n",
    "#    peak_t=t[p]-2\n",
    "#    peak_f=f_sig[p]\n",
    "#    peak_s=s_sig[p]\n",
    "\n",
    "#    f_ax.plot(peak_t,peak_f,'ro')\n",
    "#    s_ax.plot(peak_t,peak_s,'bo')\n",
    "    \n",
    "#    f_trans = f_ax.transData\n",
    "#    s_trans = s_ax.transata.inverted()\n",
    "#    trans = s_trans+f_trans\n",
    "#    f_point=f_trans.transform((peak_t,peak_f))\n",
    "#    s_point=s_trans.transform((f_point[0],f_point[1]))\n",
    "\n",
    "#    s_ax.plot([peak_t,peak_t],[peak_s, s_point[1]],'k')\n",
    "\n",
    "ins_start = peak_starts_inwin[1]-300\n",
    "ins_stop = peak_starts_inwin[1]+500\n",
    "f_ins_ax = zoomed_inset_axes(f_ax, 1.5, loc=1)  # zoom = 6\n",
    "f_ins_ax.step(t[ins_start:ins_stop],f_sig[ins_start:ins_stop],'r')\n",
    "f_ins_ax.set_ylim(60,180)\n",
    "f_ins_ax.set_xlim(t[ins_start],t[ins_stop])\n",
    "f_ins_ax.set_yticks([])\n",
    "f_ins_ax.set_xticks([])\n",
    "\n",
    "low_mask = np.logical_and(cfd_low >= start, cfd_low <= stop)\n",
    "low_inwin = cfd_low[low_mask]\n",
    "high_mask = np.logical_and(cfd_high >= start, cfd_high <= stop)\n",
    "high_inwin = cfd_high[high_mask]\n",
    "thresh_mask = np.logical_and(slope_xing >= start, slope_xing <= stop)\n",
    "thresh_inwin = slope_xing[thresh_mask]\n",
    "\n",
    "f_ins_ax.plot(t[peak_starts_inwin],f_sig[peak_starts_inwin],'or')\n",
    "f_ins_ax.plot(t[peaks_inwin],f_sig[peaks_inwin],'or')\n",
    "\n",
    "f_ins_ax.plot(t[low_inwin],f_sig[low_inwin],'ok')\n",
    "f_ins_ax.plot(t[high_inwin],f_sig[high_inwin],'ok')\n",
    "f_ax.plot(t[low_inwin],f_sig[low_inwin],'ok')\n",
    "f_ax.plot(t[high_inwin],f_sig[high_inwin],'ok')\n",
    "#f_ax.plot(t[thresh_inwin],f_sig[thresh_inwin],'ow')\n",
    "f_ins_ax.plot(t[thresh_inwin],f_sig[thresh_inwin],'ow')\n",
    "\n",
    "\n",
    "f_ins_ax.plot([t[x_s[0]],t[x_p[0]]],[y_s[0],y_s[0]],'k')\n",
    "f_ins_ax.plot([t[x_p[0]],t[x_p[0]]],[y_s[0],y_p[0]],'k')\n",
    "\n",
    "f_ins_ax.plot([t[x_s[1]],t[x_p[1]]],[y_s[1],y_s[1]],'k')\n",
    "f_ins_ax.plot([t[x_p[1]],t[x_p[1]]],[y_s[1],y_p[1]],'k')\n",
    "\n",
    "#f_ins_ax.plot([t[ins_start],t[ins_stop]],[0,0],'k') # zero line\n",
    "\n",
    "#plt.xticks(visible=False)\n",
    "#plt.yticks(visible=False)\n",
    "#mark_inset(f_ax, f_ins_ax, loc1=2, loc2=4, fc=\"none\", ec=\"0.5\")\n",
    "\n",
    "pstart = peak_starts_inwin[1]\n",
    "peak_start_t=t[pstart]-2\n",
    "peak_start_f=f_sig[pstart]\n",
    "peak_start_s=s_sig[pstart]\n",
    "\n",
    "f_ins_ax.plot(peak_start_t,peak_start_f,'ro')\n",
    "\n",
    "\n",
    "f_trans = f_ins_ax.transData\n",
    "s_trans = s_ins_ax.transData.inverted()\n",
    "trans = s_trans+f_trans\n",
    "f_point=f_trans.transform((peak_start_t,peak_start_f))\n",
    "s_point=s_trans.transform((f_point[0],f_point[1]))\n",
    "\n",
    "s_ins_ax.plot([peak_start_t,peak_start_t],[peak_start_s, s_point[1]],'k')\n",
    "\n",
    "s_ax.plot([t[start],t[stop]],[s_threshold,s_threshold],ls='dashed')\n",
    "\n",
    "fig.savefig('measurement2.png')\n",
    "plt.draw()\n",
    "plt.show()"
   ]
  },
  {
   "cell_type": "code",
   "execution_count": null,
   "metadata": {
    "collapsed": false
   },
   "outputs": [],
   "source": [
    "from mpl_toolkits.axes_grid1.inset_locator import inset_axes\n",
    "\n",
    "fig=plt.figure()\n",
    "fig.suptitle('Multi Channel Analyser',fontsize=24)\n",
    "\n",
    "h_ax = host_subplot(111)\n",
    "\n",
    "h_ins_ax = inset_axes(h_ax, width=\"80%\",height=1., loc=1)  # zoom = 6\n",
    "h_ins_ax.set_xlim(-25,160)\n",
    "h_ins_ax.set_ylim(0,0.002)\n",
    "h_ax.hist((traces['input']+200)*2*mV,math.pow(2,14),normed=1,facecolor='k',edgecolor='k')\n",
    "h_ax.hist(f_sig,math.pow(2,14),normed=1,facecolor='r',edgecolor='r')\n",
    "h_ins_ax.hist(f_sig,math.pow(2,14),normed=1,facecolor='r',edgecolor='r')\n",
    "h_ins_ax.set_xticks([])\n",
    "h_ins_ax.set_yticks([])\n",
    "h_ax.set_xlim(-30,100)\n",
    "h_ax.set_ylim(0,0.8)\n",
    "\n",
    "mark_inset(h_ax, h_ins_ax, loc1=2, loc2=4, fc=\"none\", ec=\"0.5\")\n",
    "\n",
    "h_ax.set_xlabel('Voltage (mV)')\n",
    "h_ax.set_ylabel('Probability')\n",
    "fig.savefig('hist.png')\n",
    "plt.show()"
   ]
  },
  {
   "cell_type": "code",
   "execution_count": null,
   "metadata": {
    "collapsed": true
   },
   "outputs": [],
   "source": [
    "peak_dt=np.dtype([('time',np.uint16),('flags',np.uint16),('minima',np.uint16),('height',np.uint16)])"
   ]
  },
  {
   "cell_type": "code",
   "execution_count": null,
   "metadata": {
    "collapsed": true
   },
   "outputs": [],
   "source": [
    "area_dt=np.dtype([('time',np.uint16),('flags',np.uint16),('area',np.uint32)])"
   ]
  },
  {
   "cell_type": "code",
   "execution_count": null,
   "metadata": {
    "collapsed": true
   },
   "outputs": [],
   "source": [
    "pulse_peak_dt=np.dtype([('trigger',np.uint16),('rise',np.uint16),('minima',np.uint16),('height',np.uint16)])\n",
    "pulse_header_dt=np.dtype([('time',np.uint16),('flags',np.uint16),('res1',np.uint16),('size',np.uint16),\n",
    "                    ('length',np.uint16),('res2',np.uint16),('area',np.int32)])"
   ]
  },
  {
   "cell_type": "code",
   "execution_count": null,
   "metadata": {
    "collapsed": false
   },
   "outputs": [],
   "source": [
    "pulse2_dt=np.dtype([('time',np.uint16),('flags',np.uint16),('res1',np.uint16),('size',np.uint16),\n",
    "                    ('length',np.uint16),('res2',np.uint16),('area',np.int32),\n",
    "                    ('trigger0',np.uint16),('rise0',np.uint16),('minima0',np.uint16),('height0',np.uint16),\n",
    "                    ('trigger1',np.uint16),('rise1',np.uint16),('minima1',np.uint16),('height1',np.uint16)])"
   ]
  },
  {
   "cell_type": "code",
   "execution_count": null,
   "metadata": {
    "collapsed": false
   },
   "outputs": [],
   "source": [
    "pulse2_subarray_dt=np.dtype([('header',pulse_header_dt,('peaks', (pulse_peak_dt,(1,2)) ))])"
   ]
  },
  {
   "cell_type": "code",
   "execution_count": null,
   "metadata": {
    "collapsed": true
   },
   "outputs": [],
   "source": [
    "eventstream=np.fromfile(path+'eventstream',peak_dt)"
   ]
  },
  {
   "cell_type": "code",
   "execution_count": null,
   "metadata": {
    "collapsed": true
   },
   "outputs": [],
   "source": [
    "eventstream=np.fromfile(path+'eventstream',area_dt)"
   ]
  },
  {
   "cell_type": "code",
   "execution_count": null,
   "metadata": {
    "collapsed": true
   },
   "outputs": [],
   "source": [
    "eventstream=np.fromfile(path+'eventstream',pulse2_dt)"
   ]
  },
  {
   "cell_type": "code",
   "execution_count": null,
   "metadata": {
    "collapsed": false
   },
   "outputs": [],
   "source": [
    "eventstream"
   ]
  },
  {
   "cell_type": "code",
   "execution_count": null,
   "metadata": {
    "collapsed": false
   },
   "outputs": [],
   "source": [
    "flags=eventstream['flags']\n",
    "print(np.binary_repr(flags[0],16))"
   ]
  },
  {
   "cell_type": "code",
   "execution_count": null,
   "metadata": {
    "collapsed": false
   },
   "outputs": [],
   "source": [
    "print(\"flags:{:016b}\\nsize:{}\\nlength:{}\\narea:{}\\ntrigger:{} rise:{} minima:{} height:{}\\ntrigger:{} rise:{} minima:{} height:{}\\n\"  \n",
    "      .format(eventstream['flags'][0],eventstream['size'][0],eventstream['length'][0],eventstream['area'][0],\n",
    "        eventstream['trigger0'][0],eventstream['rise0'][0],eventstream['minima0'][0],eventstream['height0'][0],\n",
    "        eventstream['trigger1'][0],eventstream['rise1'][0],eventstream['minima1'][0],eventstream['height1'][0]))"
   ]
  },
  {
   "cell_type": "code",
   "execution_count": null,
   "metadata": {
    "collapsed": false
   },
   "outputs": [],
   "source": [
    "print(np.binary_repr(flags[1],16))"
   ]
  },
  {
   "cell_type": "code",
   "execution_count": null,
   "metadata": {
    "collapsed": true
   },
   "outputs": [],
   "source": [
    "rel_to_min=np.right_shift(np.bitwise_and(flags,0x8000),15).astype(np.bool)\n",
    "channel=np.right_shift(np.bitwise_and(flags,0x0F00),8).astype(np.uint8)\n",
    "threshold_rel2min=np.right_shift(np.bitwise_and(flags,0x4000),14).astype(np.bool)\n",
    "peak_count=np.right_shift(np.bitwise_and(flags,0x00F0),4).astype(np.uint8)\n",
    "tick=np.bitwise_and(flags,0x0001).astype(bool)\n",
    "area=np.right_shift(np.bitwise_and(flags,0x0002),1).astype(np.bool)\n",
    "trace=np.right_shift(np.bitwise_and(flags,0x0004),2).astype(np.bool)\n",
    "fixed=np.right_shift(np.bitwise_and(flags,0x0008),3).astype(np.bool)\n",
    "event_type=np.right_shift(np.bitwise_and(flags,0x3000),12).astype(np.uint8)"
   ]
  },
  {
   "cell_type": "code",
   "execution_count": null,
   "metadata": {
    "collapsed": false
   },
   "outputs": [],
   "source": [
    "flags"
   ]
  },
  {
   "cell_type": "code",
   "execution_count": null,
   "metadata": {
    "collapsed": false
   },
   "outputs": [],
   "source": [
    "eventstream"
   ]
  },
  {
   "cell_type": "code",
   "execution_count": null,
   "metadata": {
    "collapsed": true
   },
   "outputs": [],
   "source": []
  },
  {
   "cell_type": "code",
   "execution_count": null,
   "metadata": {
    "collapsed": true
   },
   "outputs": [],
   "source": []
  }
 ],
 "metadata": {
  "kernelspec": {
   "display_name": "Python 3",
   "language": "python",
   "name": "python3"
  },
  "language_info": {
   "codemirror_mode": {
    "name": "ipython",
    "version": 3
   },
   "file_extension": ".py",
   "mimetype": "text/x-python",
   "name": "python",
   "nbconvert_exporter": "python",
   "pygments_lexer": "ipython3",
   "version": "3.5.1"
  }
 },
 "nbformat": 4,
 "nbformat_minor": 0
}
