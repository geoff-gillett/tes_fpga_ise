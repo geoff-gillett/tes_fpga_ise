{
 "cells": [
  {
   "cell_type": "markdown",
   "metadata": {},
   "source": [
    "timestamp 0 => clk 20\n",
    "\n",
    "traces start at clk 1"
   ]
  },
  {
   "cell_type": "code",
   "execution_count": 1,
   "metadata": {
    "collapsed": true,
    "run_control": {
     "frozen": false,
     "read_only": false
    }
   },
   "outputs": [],
   "source": [
    "from tes.data import Data,PacketStream,Packet,Payload,EventFlags,Event\n",
    "from tes.hdf5 import _PacketData, _import\n",
    "import numpy as np\n",
    "import matplotlib.pyplot as plt\n",
    "from subprocess import Popen\n",
    "\n",
    "import logging\n",
    "import sys\n",
    "logger = logging.getLogger('tes')\n",
    "logger.setLevel(logging.DEBUG)\n",
    "handler = logging.StreamHandler(sys.stderr)\n",
    "formatter = logging.Formatter('%(name)s:%(levelname)s %(message)s')\n",
    "handler.setFormatter(formatter)\n",
    "logger.handlers = [handler]\n",
    "\n",
    "trace_dt=np.dtype([('raw','i4'),('filtered','i4'),('slope','i4')])\n",
    "stream_dt=np.dtype([('data','i4'),('last','i4')])\n",
    "# minmax_dt=np.dtype(\n",
    "#     [\n",
    "#         ('filtered','i4'),('timing_threshold','i4'),\n",
    "#         ('height_threshold','i4'),('slope_extrema','i4'),('slope_area','i4'),('clk','i4')\n",
    "#     ]\n",
    "# )\n",
    "# cfd_dt=np.dtype('i4')\n",
    "# filteredxing_dt=np.dtype([('extrema','i4'),('area','i4'),('clk','i4')])"
   ]
  },
  {
   "cell_type": "code",
   "execution_count": null,
   "metadata": {
    "collapsed": true,
    "run_control": {
     "frozen": false,
     "read_only": false
    },
    "scrolled": false
   },
   "outputs": [],
   "source": [
    "%matplotlib notebook\n",
    "traces=Data.fromfile('traces',trace_dt,'teslib','measurement_subsystem_TB',tool='vivado')\n",
    "plt.plot(traces['slope'][1100:],'r',linewidth=1)\n",
    "plt.plot(traces['raw'][1100:],linewidth=0.5)\n",
    "plt.plot(traces['filtered'][1100:],'k',linewidth=2)"
   ]
  },
  {
   "cell_type": "code",
   "execution_count": null,
   "metadata": {},
   "outputs": [],
   "source": [
    "i=0\n",
    "for f in frames:\n",
    "    ptype = Payload.from_frame(f)\n",
    "    if ptype != Payload.trace and ptype != Payload.tick and ptype!=Payload.mca:\n",
    "        print('found',ptype, i)\n",
    "        break\n",
    "    else:\n",
    "        i += 1\n",
    "#     fbytes[16:24].view(protocol_header_dt)"
   ]
  },
  {
   "cell_type": "code",
   "execution_count": null,
   "metadata": {
    "collapsed": true
   },
   "outputs": [],
   "source": [
    "Payload.from_frame(f)"
   ]
  },
  {
   "cell_type": "code",
   "execution_count": 2,
   "metadata": {
    "scrolled": true
   },
   "outputs": [
    {
     "name": "stderr",
     "output_type": "stream",
     "text": [
      "tes.hdf5:DEBUG PacketData: from ndarray\n",
      "tes.hdf5:DEBUG PacketData: from ndarray\n",
      "tes.hdf5:INFO import:pass 1: calculating sizes for hdf5 pre-allocation\n",
      "tes.hdf5:INFO import:pass 1:found 105120 bytes in 994 frames 0 sequence errors.\n",
      "tes.hdf5:DEBUG tick frames: 1200 data bytes in 50 frames\n",
      "tes.hdf5:DEBUG event frames: 17384 data bytes in 184 frames\n",
      "tes.hdf5:DEBUG MCA frames: 78584 data bytes in 760 frames\n",
      "tes.hdf5:DEBUG unidentified frames: 0 bytes in 0 frames\n",
      "tes.hdf5:DEBUG MCA distributions:19  traces:4\n",
      "tes.hdf5:INFO import:pass 2:importing data\n"
     ]
    }
   ],
   "source": [
    "import h5py\n",
    "from tes.hdf5 import Trace, Hdf5, protocol_header_dt\n",
    "from tes.base import Payload\n",
    "stream=Data.fromfile('bytestream',stream_dt,'teslib','measurement_subsystem_TB',tool='vivado')\n",
    "frames=_PacketData(stream)\n",
    "# del stream\n",
    "# _import(packets)\n",
    "# h=h5py.File('TES.hdf5','r')\n",
    "h=Hdf5('TES.hdf5',stream)\n",
    "# del stream"
   ]
  },
  {
   "cell_type": "code",
   "execution_count": null,
   "metadata": {
    "collapsed": true
   },
   "outputs": [],
   "source": [
    "h.close()"
   ]
  },
  {
   "cell_type": "code",
   "execution_count": null,
   "metadata": {},
   "outputs": [],
   "source": [
    "%matplotlib notebook\n",
    "t=48\n",
    "plt.plot(h.traces[t].samples)\n",
    "h.traces[t]"
   ]
  },
  {
   "cell_type": "code",
   "execution_count": 7,
   "metadata": {},
   "outputs": [
    {
     "data": {
      "application/javascript": [
       "/* Put everything inside the global mpl namespace */\n",
       "window.mpl = {};\n",
       "\n",
       "\n",
       "mpl.get_websocket_type = function() {\n",
       "    if (typeof(WebSocket) !== 'undefined') {\n",
       "        return WebSocket;\n",
       "    } else if (typeof(MozWebSocket) !== 'undefined') {\n",
       "        return MozWebSocket;\n",
       "    } else {\n",
       "        alert('Your browser does not have WebSocket support.' +\n",
       "              'Please try Chrome, Safari or Firefox ≥ 6. ' +\n",
       "              'Firefox 4 and 5 are also supported but you ' +\n",
       "              'have to enable WebSockets in about:config.');\n",
       "    };\n",
       "}\n",
       "\n",
       "mpl.figure = function(figure_id, websocket, ondownload, parent_element) {\n",
       "    this.id = figure_id;\n",
       "\n",
       "    this.ws = websocket;\n",
       "\n",
       "    this.supports_binary = (this.ws.binaryType != undefined);\n",
       "\n",
       "    if (!this.supports_binary) {\n",
       "        var warnings = document.getElementById(\"mpl-warnings\");\n",
       "        if (warnings) {\n",
       "            warnings.style.display = 'block';\n",
       "            warnings.textContent = (\n",
       "                \"This browser does not support binary websocket messages. \" +\n",
       "                    \"Performance may be slow.\");\n",
       "        }\n",
       "    }\n",
       "\n",
       "    this.imageObj = new Image();\n",
       "\n",
       "    this.context = undefined;\n",
       "    this.message = undefined;\n",
       "    this.canvas = undefined;\n",
       "    this.rubberband_canvas = undefined;\n",
       "    this.rubberband_context = undefined;\n",
       "    this.format_dropdown = undefined;\n",
       "\n",
       "    this.image_mode = 'full';\n",
       "\n",
       "    this.root = $('<div/>');\n",
       "    this._root_extra_style(this.root)\n",
       "    this.root.attr('style', 'display: inline-block');\n",
       "\n",
       "    $(parent_element).append(this.root);\n",
       "\n",
       "    this._init_header(this);\n",
       "    this._init_canvas(this);\n",
       "    this._init_toolbar(this);\n",
       "\n",
       "    var fig = this;\n",
       "\n",
       "    this.waiting = false;\n",
       "\n",
       "    this.ws.onopen =  function () {\n",
       "            fig.send_message(\"supports_binary\", {value: fig.supports_binary});\n",
       "            fig.send_message(\"send_image_mode\", {});\n",
       "            if (mpl.ratio != 1) {\n",
       "                fig.send_message(\"set_dpi_ratio\", {'dpi_ratio': mpl.ratio});\n",
       "            }\n",
       "            fig.send_message(\"refresh\", {});\n",
       "        }\n",
       "\n",
       "    this.imageObj.onload = function() {\n",
       "            if (fig.image_mode == 'full') {\n",
       "                // Full images could contain transparency (where diff images\n",
       "                // almost always do), so we need to clear the canvas so that\n",
       "                // there is no ghosting.\n",
       "                fig.context.clearRect(0, 0, fig.canvas.width, fig.canvas.height);\n",
       "            }\n",
       "            fig.context.drawImage(fig.imageObj, 0, 0);\n",
       "        };\n",
       "\n",
       "    this.imageObj.onunload = function() {\n",
       "        this.ws.close();\n",
       "    }\n",
       "\n",
       "    this.ws.onmessage = this._make_on_message_function(this);\n",
       "\n",
       "    this.ondownload = ondownload;\n",
       "}\n",
       "\n",
       "mpl.figure.prototype._init_header = function() {\n",
       "    var titlebar = $(\n",
       "        '<div class=\"ui-dialog-titlebar ui-widget-header ui-corner-all ' +\n",
       "        'ui-helper-clearfix\"/>');\n",
       "    var titletext = $(\n",
       "        '<div class=\"ui-dialog-title\" style=\"width: 100%; ' +\n",
       "        'text-align: center; padding: 3px;\"/>');\n",
       "    titlebar.append(titletext)\n",
       "    this.root.append(titlebar);\n",
       "    this.header = titletext[0];\n",
       "}\n",
       "\n",
       "\n",
       "\n",
       "mpl.figure.prototype._canvas_extra_style = function(canvas_div) {\n",
       "\n",
       "}\n",
       "\n",
       "\n",
       "mpl.figure.prototype._root_extra_style = function(canvas_div) {\n",
       "\n",
       "}\n",
       "\n",
       "mpl.figure.prototype._init_canvas = function() {\n",
       "    var fig = this;\n",
       "\n",
       "    var canvas_div = $('<div/>');\n",
       "\n",
       "    canvas_div.attr('style', 'position: relative; clear: both; outline: 0');\n",
       "\n",
       "    function canvas_keyboard_event(event) {\n",
       "        return fig.key_event(event, event['data']);\n",
       "    }\n",
       "\n",
       "    canvas_div.keydown('key_press', canvas_keyboard_event);\n",
       "    canvas_div.keyup('key_release', canvas_keyboard_event);\n",
       "    this.canvas_div = canvas_div\n",
       "    this._canvas_extra_style(canvas_div)\n",
       "    this.root.append(canvas_div);\n",
       "\n",
       "    var canvas = $('<canvas/>');\n",
       "    canvas.addClass('mpl-canvas');\n",
       "    canvas.attr('style', \"left: 0; top: 0; z-index: 0; outline: 0\")\n",
       "\n",
       "    this.canvas = canvas[0];\n",
       "    this.context = canvas[0].getContext(\"2d\");\n",
       "\n",
       "    var backingStore = this.context.backingStorePixelRatio ||\n",
       "\tthis.context.webkitBackingStorePixelRatio ||\n",
       "\tthis.context.mozBackingStorePixelRatio ||\n",
       "\tthis.context.msBackingStorePixelRatio ||\n",
       "\tthis.context.oBackingStorePixelRatio ||\n",
       "\tthis.context.backingStorePixelRatio || 1;\n",
       "\n",
       "    mpl.ratio = (window.devicePixelRatio || 1) / backingStore;\n",
       "\n",
       "    var rubberband = $('<canvas/>');\n",
       "    rubberband.attr('style', \"position: absolute; left: 0; top: 0; z-index: 1;\")\n",
       "\n",
       "    var pass_mouse_events = true;\n",
       "\n",
       "    canvas_div.resizable({\n",
       "        start: function(event, ui) {\n",
       "            pass_mouse_events = false;\n",
       "        },\n",
       "        resize: function(event, ui) {\n",
       "            fig.request_resize(ui.size.width, ui.size.height);\n",
       "        },\n",
       "        stop: function(event, ui) {\n",
       "            pass_mouse_events = true;\n",
       "            fig.request_resize(ui.size.width, ui.size.height);\n",
       "        },\n",
       "    });\n",
       "\n",
       "    function mouse_event_fn(event) {\n",
       "        if (pass_mouse_events)\n",
       "            return fig.mouse_event(event, event['data']);\n",
       "    }\n",
       "\n",
       "    rubberband.mousedown('button_press', mouse_event_fn);\n",
       "    rubberband.mouseup('button_release', mouse_event_fn);\n",
       "    // Throttle sequential mouse events to 1 every 20ms.\n",
       "    rubberband.mousemove('motion_notify', mouse_event_fn);\n",
       "\n",
       "    rubberband.mouseenter('figure_enter', mouse_event_fn);\n",
       "    rubberband.mouseleave('figure_leave', mouse_event_fn);\n",
       "\n",
       "    canvas_div.on(\"wheel\", function (event) {\n",
       "        event = event.originalEvent;\n",
       "        event['data'] = 'scroll'\n",
       "        if (event.deltaY < 0) {\n",
       "            event.step = 1;\n",
       "        } else {\n",
       "            event.step = -1;\n",
       "        }\n",
       "        mouse_event_fn(event);\n",
       "    });\n",
       "\n",
       "    canvas_div.append(canvas);\n",
       "    canvas_div.append(rubberband);\n",
       "\n",
       "    this.rubberband = rubberband;\n",
       "    this.rubberband_canvas = rubberband[0];\n",
       "    this.rubberband_context = rubberband[0].getContext(\"2d\");\n",
       "    this.rubberband_context.strokeStyle = \"#000000\";\n",
       "\n",
       "    this._resize_canvas = function(width, height) {\n",
       "        // Keep the size of the canvas, canvas container, and rubber band\n",
       "        // canvas in synch.\n",
       "        canvas_div.css('width', width)\n",
       "        canvas_div.css('height', height)\n",
       "\n",
       "        canvas.attr('width', width * mpl.ratio);\n",
       "        canvas.attr('height', height * mpl.ratio);\n",
       "        canvas.attr('style', 'width: ' + width + 'px; height: ' + height + 'px;');\n",
       "\n",
       "        rubberband.attr('width', width);\n",
       "        rubberband.attr('height', height);\n",
       "    }\n",
       "\n",
       "    // Set the figure to an initial 600x600px, this will subsequently be updated\n",
       "    // upon first draw.\n",
       "    this._resize_canvas(600, 600);\n",
       "\n",
       "    // Disable right mouse context menu.\n",
       "    $(this.rubberband_canvas).bind(\"contextmenu\",function(e){\n",
       "        return false;\n",
       "    });\n",
       "\n",
       "    function set_focus () {\n",
       "        canvas.focus();\n",
       "        canvas_div.focus();\n",
       "    }\n",
       "\n",
       "    window.setTimeout(set_focus, 100);\n",
       "}\n",
       "\n",
       "mpl.figure.prototype._init_toolbar = function() {\n",
       "    var fig = this;\n",
       "\n",
       "    var nav_element = $('<div/>')\n",
       "    nav_element.attr('style', 'width: 100%');\n",
       "    this.root.append(nav_element);\n",
       "\n",
       "    // Define a callback function for later on.\n",
       "    function toolbar_event(event) {\n",
       "        return fig.toolbar_button_onclick(event['data']);\n",
       "    }\n",
       "    function toolbar_mouse_event(event) {\n",
       "        return fig.toolbar_button_onmouseover(event['data']);\n",
       "    }\n",
       "\n",
       "    for(var toolbar_ind in mpl.toolbar_items) {\n",
       "        var name = mpl.toolbar_items[toolbar_ind][0];\n",
       "        var tooltip = mpl.toolbar_items[toolbar_ind][1];\n",
       "        var image = mpl.toolbar_items[toolbar_ind][2];\n",
       "        var method_name = mpl.toolbar_items[toolbar_ind][3];\n",
       "\n",
       "        if (!name) {\n",
       "            // put a spacer in here.\n",
       "            continue;\n",
       "        }\n",
       "        var button = $('<button/>');\n",
       "        button.addClass('ui-button ui-widget ui-state-default ui-corner-all ' +\n",
       "                        'ui-button-icon-only');\n",
       "        button.attr('role', 'button');\n",
       "        button.attr('aria-disabled', 'false');\n",
       "        button.click(method_name, toolbar_event);\n",
       "        button.mouseover(tooltip, toolbar_mouse_event);\n",
       "\n",
       "        var icon_img = $('<span/>');\n",
       "        icon_img.addClass('ui-button-icon-primary ui-icon');\n",
       "        icon_img.addClass(image);\n",
       "        icon_img.addClass('ui-corner-all');\n",
       "\n",
       "        var tooltip_span = $('<span/>');\n",
       "        tooltip_span.addClass('ui-button-text');\n",
       "        tooltip_span.html(tooltip);\n",
       "\n",
       "        button.append(icon_img);\n",
       "        button.append(tooltip_span);\n",
       "\n",
       "        nav_element.append(button);\n",
       "    }\n",
       "\n",
       "    var fmt_picker_span = $('<span/>');\n",
       "\n",
       "    var fmt_picker = $('<select/>');\n",
       "    fmt_picker.addClass('mpl-toolbar-option ui-widget ui-widget-content');\n",
       "    fmt_picker_span.append(fmt_picker);\n",
       "    nav_element.append(fmt_picker_span);\n",
       "    this.format_dropdown = fmt_picker[0];\n",
       "\n",
       "    for (var ind in mpl.extensions) {\n",
       "        var fmt = mpl.extensions[ind];\n",
       "        var option = $(\n",
       "            '<option/>', {selected: fmt === mpl.default_extension}).html(fmt);\n",
       "        fmt_picker.append(option)\n",
       "    }\n",
       "\n",
       "    // Add hover states to the ui-buttons\n",
       "    $( \".ui-button\" ).hover(\n",
       "        function() { $(this).addClass(\"ui-state-hover\");},\n",
       "        function() { $(this).removeClass(\"ui-state-hover\");}\n",
       "    );\n",
       "\n",
       "    var status_bar = $('<span class=\"mpl-message\"/>');\n",
       "    nav_element.append(status_bar);\n",
       "    this.message = status_bar[0];\n",
       "}\n",
       "\n",
       "mpl.figure.prototype.request_resize = function(x_pixels, y_pixels) {\n",
       "    // Request matplotlib to resize the figure. Matplotlib will then trigger a resize in the client,\n",
       "    // which will in turn request a refresh of the image.\n",
       "    this.send_message('resize', {'width': x_pixels, 'height': y_pixels});\n",
       "}\n",
       "\n",
       "mpl.figure.prototype.send_message = function(type, properties) {\n",
       "    properties['type'] = type;\n",
       "    properties['figure_id'] = this.id;\n",
       "    this.ws.send(JSON.stringify(properties));\n",
       "}\n",
       "\n",
       "mpl.figure.prototype.send_draw_message = function() {\n",
       "    if (!this.waiting) {\n",
       "        this.waiting = true;\n",
       "        this.ws.send(JSON.stringify({type: \"draw\", figure_id: this.id}));\n",
       "    }\n",
       "}\n",
       "\n",
       "\n",
       "mpl.figure.prototype.handle_save = function(fig, msg) {\n",
       "    var format_dropdown = fig.format_dropdown;\n",
       "    var format = format_dropdown.options[format_dropdown.selectedIndex].value;\n",
       "    fig.ondownload(fig, format);\n",
       "}\n",
       "\n",
       "\n",
       "mpl.figure.prototype.handle_resize = function(fig, msg) {\n",
       "    var size = msg['size'];\n",
       "    if (size[0] != fig.canvas.width || size[1] != fig.canvas.height) {\n",
       "        fig._resize_canvas(size[0], size[1]);\n",
       "        fig.send_message(\"refresh\", {});\n",
       "    };\n",
       "}\n",
       "\n",
       "mpl.figure.prototype.handle_rubberband = function(fig, msg) {\n",
       "    var x0 = msg['x0'] / mpl.ratio;\n",
       "    var y0 = (fig.canvas.height - msg['y0']) / mpl.ratio;\n",
       "    var x1 = msg['x1'] / mpl.ratio;\n",
       "    var y1 = (fig.canvas.height - msg['y1']) / mpl.ratio;\n",
       "    x0 = Math.floor(x0) + 0.5;\n",
       "    y0 = Math.floor(y0) + 0.5;\n",
       "    x1 = Math.floor(x1) + 0.5;\n",
       "    y1 = Math.floor(y1) + 0.5;\n",
       "    var min_x = Math.min(x0, x1);\n",
       "    var min_y = Math.min(y0, y1);\n",
       "    var width = Math.abs(x1 - x0);\n",
       "    var height = Math.abs(y1 - y0);\n",
       "\n",
       "    fig.rubberband_context.clearRect(\n",
       "        0, 0, fig.canvas.width, fig.canvas.height);\n",
       "\n",
       "    fig.rubberband_context.strokeRect(min_x, min_y, width, height);\n",
       "}\n",
       "\n",
       "mpl.figure.prototype.handle_figure_label = function(fig, msg) {\n",
       "    // Updates the figure title.\n",
       "    fig.header.textContent = msg['label'];\n",
       "}\n",
       "\n",
       "mpl.figure.prototype.handle_cursor = function(fig, msg) {\n",
       "    var cursor = msg['cursor'];\n",
       "    switch(cursor)\n",
       "    {\n",
       "    case 0:\n",
       "        cursor = 'pointer';\n",
       "        break;\n",
       "    case 1:\n",
       "        cursor = 'default';\n",
       "        break;\n",
       "    case 2:\n",
       "        cursor = 'crosshair';\n",
       "        break;\n",
       "    case 3:\n",
       "        cursor = 'move';\n",
       "        break;\n",
       "    }\n",
       "    fig.rubberband_canvas.style.cursor = cursor;\n",
       "}\n",
       "\n",
       "mpl.figure.prototype.handle_message = function(fig, msg) {\n",
       "    fig.message.textContent = msg['message'];\n",
       "}\n",
       "\n",
       "mpl.figure.prototype.handle_draw = function(fig, msg) {\n",
       "    // Request the server to send over a new figure.\n",
       "    fig.send_draw_message();\n",
       "}\n",
       "\n",
       "mpl.figure.prototype.handle_image_mode = function(fig, msg) {\n",
       "    fig.image_mode = msg['mode'];\n",
       "}\n",
       "\n",
       "mpl.figure.prototype.updated_canvas_event = function() {\n",
       "    // Called whenever the canvas gets updated.\n",
       "    this.send_message(\"ack\", {});\n",
       "}\n",
       "\n",
       "// A function to construct a web socket function for onmessage handling.\n",
       "// Called in the figure constructor.\n",
       "mpl.figure.prototype._make_on_message_function = function(fig) {\n",
       "    return function socket_on_message(evt) {\n",
       "        if (evt.data instanceof Blob) {\n",
       "            /* FIXME: We get \"Resource interpreted as Image but\n",
       "             * transferred with MIME type text/plain:\" errors on\n",
       "             * Chrome.  But how to set the MIME type?  It doesn't seem\n",
       "             * to be part of the websocket stream */\n",
       "            evt.data.type = \"image/png\";\n",
       "\n",
       "            /* Free the memory for the previous frames */\n",
       "            if (fig.imageObj.src) {\n",
       "                (window.URL || window.webkitURL).revokeObjectURL(\n",
       "                    fig.imageObj.src);\n",
       "            }\n",
       "\n",
       "            fig.imageObj.src = (window.URL || window.webkitURL).createObjectURL(\n",
       "                evt.data);\n",
       "            fig.updated_canvas_event();\n",
       "            fig.waiting = false;\n",
       "            return;\n",
       "        }\n",
       "        else if (typeof evt.data === 'string' && evt.data.slice(0, 21) == \"data:image/png;base64\") {\n",
       "            fig.imageObj.src = evt.data;\n",
       "            fig.updated_canvas_event();\n",
       "            fig.waiting = false;\n",
       "            return;\n",
       "        }\n",
       "\n",
       "        var msg = JSON.parse(evt.data);\n",
       "        var msg_type = msg['type'];\n",
       "\n",
       "        // Call the  \"handle_{type}\" callback, which takes\n",
       "        // the figure and JSON message as its only arguments.\n",
       "        try {\n",
       "            var callback = fig[\"handle_\" + msg_type];\n",
       "        } catch (e) {\n",
       "            console.log(\"No handler for the '\" + msg_type + \"' message type: \", msg);\n",
       "            return;\n",
       "        }\n",
       "\n",
       "        if (callback) {\n",
       "            try {\n",
       "                // console.log(\"Handling '\" + msg_type + \"' message: \", msg);\n",
       "                callback(fig, msg);\n",
       "            } catch (e) {\n",
       "                console.log(\"Exception inside the 'handler_\" + msg_type + \"' callback:\", e, e.stack, msg);\n",
       "            }\n",
       "        }\n",
       "    };\n",
       "}\n",
       "\n",
       "// from http://stackoverflow.com/questions/1114465/getting-mouse-location-in-canvas\n",
       "mpl.findpos = function(e) {\n",
       "    //this section is from http://www.quirksmode.org/js/events_properties.html\n",
       "    var targ;\n",
       "    if (!e)\n",
       "        e = window.event;\n",
       "    if (e.target)\n",
       "        targ = e.target;\n",
       "    else if (e.srcElement)\n",
       "        targ = e.srcElement;\n",
       "    if (targ.nodeType == 3) // defeat Safari bug\n",
       "        targ = targ.parentNode;\n",
       "\n",
       "    // jQuery normalizes the pageX and pageY\n",
       "    // pageX,Y are the mouse positions relative to the document\n",
       "    // offset() returns the position of the element relative to the document\n",
       "    var x = e.pageX - $(targ).offset().left;\n",
       "    var y = e.pageY - $(targ).offset().top;\n",
       "\n",
       "    return {\"x\": x, \"y\": y};\n",
       "};\n",
       "\n",
       "/*\n",
       " * return a copy of an object with only non-object keys\n",
       " * we need this to avoid circular references\n",
       " * http://stackoverflow.com/a/24161582/3208463\n",
       " */\n",
       "function simpleKeys (original) {\n",
       "  return Object.keys(original).reduce(function (obj, key) {\n",
       "    if (typeof original[key] !== 'object')\n",
       "        obj[key] = original[key]\n",
       "    return obj;\n",
       "  }, {});\n",
       "}\n",
       "\n",
       "mpl.figure.prototype.mouse_event = function(event, name) {\n",
       "    var canvas_pos = mpl.findpos(event)\n",
       "\n",
       "    if (name === 'button_press')\n",
       "    {\n",
       "        this.canvas.focus();\n",
       "        this.canvas_div.focus();\n",
       "    }\n",
       "\n",
       "    var x = canvas_pos.x * mpl.ratio;\n",
       "    var y = canvas_pos.y * mpl.ratio;\n",
       "\n",
       "    this.send_message(name, {x: x, y: y, button: event.button,\n",
       "                             step: event.step,\n",
       "                             guiEvent: simpleKeys(event)});\n",
       "\n",
       "    /* This prevents the web browser from automatically changing to\n",
       "     * the text insertion cursor when the button is pressed.  We want\n",
       "     * to control all of the cursor setting manually through the\n",
       "     * 'cursor' event from matplotlib */\n",
       "    event.preventDefault();\n",
       "    return false;\n",
       "}\n",
       "\n",
       "mpl.figure.prototype._key_event_extra = function(event, name) {\n",
       "    // Handle any extra behaviour associated with a key event\n",
       "}\n",
       "\n",
       "mpl.figure.prototype.key_event = function(event, name) {\n",
       "\n",
       "    // Prevent repeat events\n",
       "    if (name == 'key_press')\n",
       "    {\n",
       "        if (event.which === this._key)\n",
       "            return;\n",
       "        else\n",
       "            this._key = event.which;\n",
       "    }\n",
       "    if (name == 'key_release')\n",
       "        this._key = null;\n",
       "\n",
       "    var value = '';\n",
       "    if (event.ctrlKey && event.which != 17)\n",
       "        value += \"ctrl+\";\n",
       "    if (event.altKey && event.which != 18)\n",
       "        value += \"alt+\";\n",
       "    if (event.shiftKey && event.which != 16)\n",
       "        value += \"shift+\";\n",
       "\n",
       "    value += 'k';\n",
       "    value += event.which.toString();\n",
       "\n",
       "    this._key_event_extra(event, name);\n",
       "\n",
       "    this.send_message(name, {key: value,\n",
       "                             guiEvent: simpleKeys(event)});\n",
       "    return false;\n",
       "}\n",
       "\n",
       "mpl.figure.prototype.toolbar_button_onclick = function(name) {\n",
       "    if (name == 'download') {\n",
       "        this.handle_save(this, null);\n",
       "    } else {\n",
       "        this.send_message(\"toolbar_button\", {name: name});\n",
       "    }\n",
       "};\n",
       "\n",
       "mpl.figure.prototype.toolbar_button_onmouseover = function(tooltip) {\n",
       "    this.message.textContent = tooltip;\n",
       "};\n",
       "mpl.toolbar_items = [[\"Home\", \"Reset original view\", \"fa fa-home icon-home\", \"home\"], [\"Back\", \"Back to  previous view\", \"fa fa-arrow-left icon-arrow-left\", \"back\"], [\"Forward\", \"Forward to next view\", \"fa fa-arrow-right icon-arrow-right\", \"forward\"], [\"\", \"\", \"\", \"\"], [\"Pan\", \"Pan axes with left mouse, zoom with right\", \"fa fa-arrows icon-move\", \"pan\"], [\"Zoom\", \"Zoom to rectangle\", \"fa fa-square-o icon-check-empty\", \"zoom\"], [\"\", \"\", \"\", \"\"], [\"Download\", \"Download plot\", \"fa fa-floppy-o icon-save\", \"download\"]];\n",
       "\n",
       "mpl.extensions = [\"eps\", \"pdf\", \"png\", \"ps\", \"raw\", \"svg\"];\n",
       "\n",
       "mpl.default_extension = \"png\";var comm_websocket_adapter = function(comm) {\n",
       "    // Create a \"websocket\"-like object which calls the given IPython comm\n",
       "    // object with the appropriate methods. Currently this is a non binary\n",
       "    // socket, so there is still some room for performance tuning.\n",
       "    var ws = {};\n",
       "\n",
       "    ws.close = function() {\n",
       "        comm.close()\n",
       "    };\n",
       "    ws.send = function(m) {\n",
       "        //console.log('sending', m);\n",
       "        comm.send(m);\n",
       "    };\n",
       "    // Register the callback with on_msg.\n",
       "    comm.on_msg(function(msg) {\n",
       "        //console.log('receiving', msg['content']['data'], msg);\n",
       "        // Pass the mpl event to the overriden (by mpl) onmessage function.\n",
       "        ws.onmessage(msg['content']['data'])\n",
       "    });\n",
       "    return ws;\n",
       "}\n",
       "\n",
       "mpl.mpl_figure_comm = function(comm, msg) {\n",
       "    // This is the function which gets called when the mpl process\n",
       "    // starts-up an IPython Comm through the \"matplotlib\" channel.\n",
       "\n",
       "    var id = msg.content.data.id;\n",
       "    // Get hold of the div created by the display call when the Comm\n",
       "    // socket was opened in Python.\n",
       "    var element = $(\"#\" + id);\n",
       "    var ws_proxy = comm_websocket_adapter(comm)\n",
       "\n",
       "    function ondownload(figure, format) {\n",
       "        window.open(figure.imageObj.src);\n",
       "    }\n",
       "\n",
       "    var fig = new mpl.figure(id, ws_proxy,\n",
       "                           ondownload,\n",
       "                           element.get(0));\n",
       "\n",
       "    // Call onopen now - mpl needs it, as it is assuming we've passed it a real\n",
       "    // web socket which is closed, not our websocket->open comm proxy.\n",
       "    ws_proxy.onopen();\n",
       "\n",
       "    fig.parent_element = element.get(0);\n",
       "    fig.cell_info = mpl.find_output_cell(\"<div id='\" + id + \"'></div>\");\n",
       "    if (!fig.cell_info) {\n",
       "        console.error(\"Failed to find cell for figure\", id, fig);\n",
       "        return;\n",
       "    }\n",
       "\n",
       "    var output_index = fig.cell_info[2]\n",
       "    var cell = fig.cell_info[0];\n",
       "\n",
       "};\n",
       "\n",
       "mpl.figure.prototype.handle_close = function(fig, msg) {\n",
       "    var width = fig.canvas.width/mpl.ratio\n",
       "    fig.root.unbind('remove')\n",
       "\n",
       "    // Update the output cell to use the data from the current canvas.\n",
       "    fig.push_to_output();\n",
       "    var dataURL = fig.canvas.toDataURL();\n",
       "    // Re-enable the keyboard manager in IPython - without this line, in FF,\n",
       "    // the notebook keyboard shortcuts fail.\n",
       "    IPython.keyboard_manager.enable()\n",
       "    $(fig.parent_element).html('<img src=\"' + dataURL + '\" width=\"' + width + '\">');\n",
       "    fig.close_ws(fig, msg);\n",
       "}\n",
       "\n",
       "mpl.figure.prototype.close_ws = function(fig, msg){\n",
       "    fig.send_message('closing', msg);\n",
       "    // fig.ws.close()\n",
       "}\n",
       "\n",
       "mpl.figure.prototype.push_to_output = function(remove_interactive) {\n",
       "    // Turn the data on the canvas into data in the output cell.\n",
       "    var width = this.canvas.width/mpl.ratio\n",
       "    var dataURL = this.canvas.toDataURL();\n",
       "    this.cell_info[1]['text/html'] = '<img src=\"' + dataURL + '\" width=\"' + width + '\">';\n",
       "}\n",
       "\n",
       "mpl.figure.prototype.updated_canvas_event = function() {\n",
       "    // Tell IPython that the notebook contents must change.\n",
       "    IPython.notebook.set_dirty(true);\n",
       "    this.send_message(\"ack\", {});\n",
       "    var fig = this;\n",
       "    // Wait a second, then push the new image to the DOM so\n",
       "    // that it is saved nicely (might be nice to debounce this).\n",
       "    setTimeout(function () { fig.push_to_output() }, 1000);\n",
       "}\n",
       "\n",
       "mpl.figure.prototype._init_toolbar = function() {\n",
       "    var fig = this;\n",
       "\n",
       "    var nav_element = $('<div/>')\n",
       "    nav_element.attr('style', 'width: 100%');\n",
       "    this.root.append(nav_element);\n",
       "\n",
       "    // Define a callback function for later on.\n",
       "    function toolbar_event(event) {\n",
       "        return fig.toolbar_button_onclick(event['data']);\n",
       "    }\n",
       "    function toolbar_mouse_event(event) {\n",
       "        return fig.toolbar_button_onmouseover(event['data']);\n",
       "    }\n",
       "\n",
       "    for(var toolbar_ind in mpl.toolbar_items){\n",
       "        var name = mpl.toolbar_items[toolbar_ind][0];\n",
       "        var tooltip = mpl.toolbar_items[toolbar_ind][1];\n",
       "        var image = mpl.toolbar_items[toolbar_ind][2];\n",
       "        var method_name = mpl.toolbar_items[toolbar_ind][3];\n",
       "\n",
       "        if (!name) { continue; };\n",
       "\n",
       "        var button = $('<button class=\"btn btn-default\" href=\"#\" title=\"' + name + '\"><i class=\"fa ' + image + ' fa-lg\"></i></button>');\n",
       "        button.click(method_name, toolbar_event);\n",
       "        button.mouseover(tooltip, toolbar_mouse_event);\n",
       "        nav_element.append(button);\n",
       "    }\n",
       "\n",
       "    // Add the status bar.\n",
       "    var status_bar = $('<span class=\"mpl-message\" style=\"text-align:right; float: right;\"/>');\n",
       "    nav_element.append(status_bar);\n",
       "    this.message = status_bar[0];\n",
       "\n",
       "    // Add the close button to the window.\n",
       "    var buttongrp = $('<div class=\"btn-group inline pull-right\"></div>');\n",
       "    var button = $('<button class=\"btn btn-mini btn-primary\" href=\"#\" title=\"Stop Interaction\"><i class=\"fa fa-power-off icon-remove icon-large\"></i></button>');\n",
       "    button.click(function (evt) { fig.handle_close(fig, {}); } );\n",
       "    button.mouseover('Stop Interaction', toolbar_mouse_event);\n",
       "    buttongrp.append(button);\n",
       "    var titlebar = this.root.find($('.ui-dialog-titlebar'));\n",
       "    titlebar.prepend(buttongrp);\n",
       "}\n",
       "\n",
       "mpl.figure.prototype._root_extra_style = function(el){\n",
       "    var fig = this\n",
       "    el.on(\"remove\", function(){\n",
       "\tfig.close_ws(fig, {});\n",
       "    });\n",
       "}\n",
       "\n",
       "mpl.figure.prototype._canvas_extra_style = function(el){\n",
       "    // this is important to make the div 'focusable\n",
       "    el.attr('tabindex', 0)\n",
       "    // reach out to IPython and tell the keyboard manager to turn it's self\n",
       "    // off when our div gets focus\n",
       "\n",
       "    // location in version 3\n",
       "    if (IPython.notebook.keyboard_manager) {\n",
       "        IPython.notebook.keyboard_manager.register_events(el);\n",
       "    }\n",
       "    else {\n",
       "        // location in version 2\n",
       "        IPython.keyboard_manager.register_events(el);\n",
       "    }\n",
       "\n",
       "}\n",
       "\n",
       "mpl.figure.prototype._key_event_extra = function(event, name) {\n",
       "    var manager = IPython.notebook.keyboard_manager;\n",
       "    if (!manager)\n",
       "        manager = IPython.keyboard_manager;\n",
       "\n",
       "    // Check for shift+enter\n",
       "    if (event.shiftKey && event.which == 13) {\n",
       "        this.canvas_div.blur();\n",
       "        // select the cell after this one\n",
       "        var index = IPython.notebook.find_cell_index(this.cell_info[0]);\n",
       "        IPython.notebook.select(index + 1);\n",
       "    }\n",
       "}\n",
       "\n",
       "mpl.figure.prototype.handle_save = function(fig, msg) {\n",
       "    fig.ondownload(fig, null);\n",
       "}\n",
       "\n",
       "\n",
       "mpl.find_output_cell = function(html_output) {\n",
       "    // Return the cell and output element which can be found *uniquely* in the notebook.\n",
       "    // Note - this is a bit hacky, but it is done because the \"notebook_saving.Notebook\"\n",
       "    // IPython event is triggered only after the cells have been serialised, which for\n",
       "    // our purposes (turning an active figure into a static one), is too late.\n",
       "    var cells = IPython.notebook.get_cells();\n",
       "    var ncells = cells.length;\n",
       "    for (var i=0; i<ncells; i++) {\n",
       "        var cell = cells[i];\n",
       "        if (cell.cell_type === 'code'){\n",
       "            for (var j=0; j<cell.output_area.outputs.length; j++) {\n",
       "                var data = cell.output_area.outputs[j];\n",
       "                if (data.data) {\n",
       "                    // IPython >= 3 moved mimebundle to data attribute of output\n",
       "                    data = data.data;\n",
       "                }\n",
       "                if (data['text/html'] == html_output) {\n",
       "                    return [cell, data, j];\n",
       "                }\n",
       "            }\n",
       "        }\n",
       "    }\n",
       "}\n",
       "\n",
       "// Register the function which deals with the matplotlib target/channel.\n",
       "// The kernel may be null if the page has been refreshed.\n",
       "if (IPython.notebook.kernel != null) {\n",
       "    IPython.notebook.kernel.comm_manager.register_target('matplotlib', mpl.mpl_figure_comm);\n",
       "}\n"
      ],
      "text/plain": [
       "<IPython.core.display.Javascript object>"
      ]
     },
     "metadata": {},
     "output_type": "display_data"
    },
    {
     "data": {
      "text/html": [
       "<img src=\"data:image/png;base64,iVBORw0KGgoAAAANSUhEUgAABLAAAAOECAYAAACxbcj6AAAgAElEQVR4XuzdB5AU1drG8YeMRJUsAiJRgkiQjORkRK6KingV80XloqJXUTLip2LEgKKiXnO6mMg555yTCCJRQRYk71eHHXrXdcPs7kzP6e5/V1HCTnef9/zeg1U81X0mmzgQQAABBBBAAAEEEEAAAQQQQAABBBCwWCCbxbVRGgIIIIAAAggggAACCCCAAAIIIIAAAiLAYhEggAACCCCAAAIIIIAAAggggAACCFgtQIBldXsoDgEEEEAAAQQQQAABBBBAAAEEEECAAIs1gAACCCCAAAIIIIAAAggggAACCCBgtQABltXtoTgEEEAAAQQQQAABBBBAAAEEEEAAAQIs1gACCCCAAAIIIIAAAggggAACCCCAgNUCBFhWt4fiEEAAAQQQQAABBBBAAAEEEEAAAQQIsFgDCCCAAAIIIIAAAggggAACCCCAAAJWCxBgWd0eikMAAQQQQAABBBBAAAEEEEAAAQQQIMBiDSCAAAIIIIAAAggggAACCCCAAAIIWC1AgGV1eygOAQQQQAABBBBAAAEEEEAAAQQQQIAAizWAAAIIIIAAAggggAACCCCAAAIIIGC1AAGW1e2hOAQQQAABBBBAAAEEEEAAAQQQQAABAizWAAIIIIAAAggggAACCCCAAAIIIICA1QIEWFa3h+IQQAABBBBAAAEEEEAAAQQQQAABBAiwWAMIIIAAAggggAACCCCAAAIIIIAAAlYLEGBZ3R6KQwABBBBAAAEEEEAAAQQQQAABBBAgwGINIIAAAggggAACCCCAAAIIIIAAAghYLUCAZXV7KA4BBBBAAAEEEEAAAQQQQAABBBBAgACLNYAAAggggAACCCCAAAIIIIAAAgggYLUAAZbV7aE4BBBAAAEEEEAAAQQQQAABBBBAAAECLNYAAggggAACCCCAAAIIIIAAAggggIDVAgRYVreH4hBAAAEEEEAAAQQQQAABBBBAAAEECLBYAwgggAACCCCAAAIIIIAAAggggAACVgsQYFndHopDAAEEEEAAAQQQQAABBBBAAAEEECDAYg0ggAACCCCAAAIIIIAAAggggAACCFgtQIBldXsoDgEEEEAAAQQQQAABBBBAAAEEEECAAIs1gAACCCCAAAIIIIAAAggggAACCCBgtQABltXtoTgEEEAAAQQQQAABBBBAAAEEEEAAAQIs1gACCCCAAAIIIIAAAggggAACCCCAgNUCBFhWt4fiEEAAAQQQQAABBBBAAAEEEEAAAQQIsFgDCCCAAAIIIIAAAggggAACCCCAAAJWCxBgWd0eikMAAQQQQAABBBBAAAEEEEAAAQQQIMBiDSCAAAIIIIAAAggggAACCCCAAAIIWC1AgGV1eygOAQQQQAABBBBAAAEEEEAAAQQQQIAAizWAAAIIIIAAAggggAACCCCAAAIIIGC1AAGW1e2hOAQQQAABBBBAAAEEEEAAAQQQQAABAizWAAIIIIAAAggggAACCCCAAAIIIICA1QIEWFa3h+IQQAABBBBAAAEEEEAAAQQQQAABBAiwWAMIIIAAAggggAACCCCAAAIIIIAAAlYLEGBZ3R6KQwABBBBAAAEEEEAAAQQQQAABBBAgwGINIIAAAggggAACCCCAAAIIIIAAAghYLUCAZXV7KA4BBBBAAAEEEEAAAQQQQAABBBBAgACLNYAAAggggAACCCCAAAIIIIAAAgggYLUAAZbV7aE4BBBAAAEEEEAAAQQQQAABBBBAAAECLNYAAggggAACCCCAAAIIIIAAAggggIDVAgRYVreH4hBAAAEEEEAAAQQQQAABBBBAAAEECLBYAwgggAACCCCAAAIIIIAAAggggAACVgsQYFndHopDAAEEEEAAAQQQQAABBBBAAAEEECDAYg0ggAACCCCAAAIIIIAAAggggAACCFgtQIBldXsoDgEEEEAAAQQQQAABBBBAAAEEEECAAIs1gAACCCCAAAIIIIAAAggggAACCCBgtQABltXtoTgEEEAAAQQQQAABBBBAAAEEEEAAAQIs1gACCCCAAAIIIIAAAggggAACCCCAgNUCBFhWt4fiEEAAAQQQQAABBBBAAAEEEEAAAQQIsFgDCCCAAAIIIIAAAggggAACCCCAAAJWCxBgWd0eikMAAQQQQAABBBBAAAEEEEAAAQQQIMBiDSCAAAIIIIAAAggggAACCCCAAAIIWC1AgGV1eygOAQQQQAABBBBAAAEEEEAAAQQQQIAAizWAAAIIIIAAAggggAACCCCAAAIIIGC1AAGW1e2hOAQQQAABBBBAAAEEEEAAAQQQQAABAizWAAIIIIAAAggggAACCCCAAAIIIICA1QIEWFa3h+IQQAABBBBAAAEEEEAAAQQQQAABBAiwWAMIIIAAAggggAACCCCAAAIIIIAAAlYLEGBZ3R6KQwABBBBAAAEEEEAAAQQQQAABBBAgwGINIIAAAggggAACCCCAAAIIIIAAAghYLUCAZXV7KA4BBBBAAAEEEEAAAQQQQAABBBBAgACLNYAAAggggAACCCCAAAIIIIAAAgggYLUAAZbV7aE4BBBAAAEEEEAAAQQQQAABBBBAAAECLNYAAggggAACCCCAAAIIIIAAAggggIDVAgRYVreH4hBAAAEEEEAAAQQQQAABBBBAAAEECLBYAwgggAACCCCAAAIIIIAAAggggAACVgsQYFndHopDAAEEEEAAAQQQQAABBBBAAAEEECDAYg0ggAACCCCAAAIIIIAAAggggAACCFgtQIBldXsoDgEEEEAAAQQQQAABBBBAAAEEEECAAIs1gAACCCCAAAIIIIAAAggggAACCCBgtQABltXtoTgEEEAAAQQQQAABBBBAAAEEEEAAAQIs1gACCCCAAAIIIIAAAggggAACCCCAgNUCBFhWt4fiEEAAAQQQQAABBBBAAAEEEEAAAQQIsFgDCCCAAAIIIIAAAggggAACCCCAAAJWCxBgWd0eikMAAQQQQAABBBBAAAEEEEAAAQQQIMBiDSCAAAIIIIAAAggggAACCCCAAAIIWC1AgGV1eygOAQQQQAABBBBAAAEEEEAAAQQQQIAAizWAAAIIIIAAAggggAACCCCAAAIIIGC1AAGW1e2hOAQQQAABBBBAAAEEEEAAAQQQQAABAizWAAIIIIAAAggggAACCCCAAAIIIICA1QIEWFa3h+IQQAABBBBAAAEEEEAAAQQQQAABBAiwWAMIIIAAAggggAACCCCAAAIIIIAAAlYLEGBZ3R6KQwABBBBAAAEEEEAAAQQQQAABBBAgwGINIIAAAggggAACCCCAAAIIIIAAAghYLUCAZXV7KA4BBBBAAAEEEEAAAQQQQAABBBBAgACLNYAAAggggAACCCCAAAIIIIAAAgggYLUAAZbV7aE4BBBAAAEEEEAAAQQQQAABBBBAAAECLNYAAggggAACCCCAAAIIIIAAAggggIDVAgRYVreH4hBAAAEEEEAAAQQQQAABBBBAAAEECLBYAwgggAACCCCAAAIIIIAAAggggAACVgsQYFndHopDAAEEEEAAAQQQQAABBBBAAAEEECDAYg0ggAACCCCAAAIIIIAAAggggAACCFgtQIBldXsoDgEEEEAAAQQQQAABBBBAAAEEEECAAIs1gAACCCCAAAIIIIAAAggggAACCCBgtQABltXtoTgEEEAAAQQQQAABBBBAAAEEEEAAAQIs1gACCCCAAAIIIIAAAggggAACCCCAgNUCBFhWt4fiEEAAAQQQQAABBBBAAAEEEEAAAQQIsFgDCCCAAAIIIIAAAggggAACCCCAAAJWCxBgWd0eikMAAQQQQAABBBBAAAEEEEAAAQQQIMBiDURawKypoqGbHo70zbkfAggggAACCCCAAAIIIIAAAikI5Av9bK+keIT8J0CA5b+exnpGxSTtjnURjI8AAggggAACCCCAAAIIIBBIgeKS9gRy5j6fNAGWzxscg+kRYMUAnSERQAABBBBAAAEEEEAAAQROCxBg+XQhEGD5tLExnFZ+SXFm/F27dil/fvNHDgQQQAABBBBAAAEEEEAAAQSiI3Do0CGVKFHizM0LSDoUnZG4aywFCLBiqe/PsZ0AKy4ujgDLnz1mVggggAACCCCAAAIIIICANQImwCpQwORWpw8CLGs6E9lCCLAi68ndJAIsVgECCCCAAAIIIIAAAggggIBrAgRYrlHHdCACrJjy+3JwAixftpVJIYAAAggggAACCCCAAAJ2ChBg2dmXSFdFgBVpUe5HgMUaQAABBBBAAAEEEEAAAQQQcE2AAMs16pgORIAVU35fDk6A5cu2MikEEEAAAQQQQAABBBBAwE4BAiw7+xLpqgiwIi3K/QiwWAMIIIAAAggggAACCCCAAAKuCRBguUYd04EIsGLK78vBCbB82VYmhQACCCCAAAIIIIAAAgjYKUCAZWdfIl0VAVakRbkfARZrAAEEEEAAAQQQQAABBBBAwDUBAizXqGM6EAFWTPl9OTgBli/byqQQQAABBBBAAAEEEEAAATsFCLDs7EukqyLAirQo9yPAYg0ggAACCCCAAAIIIIAAAgi4JkCA5Rp1TAciwIopvy8HJ8DyZVuZFAIIIIAAAggggAACCCBgpwABlp19iXRVBFiRFuV+BFisAQQQQAABBBBAAAEEEEAAAdcECLBco47pQARYMeX35eAEWL5sK5NCAAEEEEAAAQQQQAABBOwUIMCysy+RrooAK9Ki3I8AizWAAAIIIIAAAggggAACCCDgmgABlmvUMR2IACum/L4cnADLl21lUggggAACCCCAAAIIIICAnQIEWHb2JdJVEWBFWpT7EWCxBhBAAAEEEEAAAQQQQAABBFwTIMByjTqmAxFgxZTfl4MTYPmyrUwKAQQQQAABBBBAAAEEELBTgADLzr5EuioCrEiLcj8CLNYAAggggAACCCCAAAIIIICAawIEWK5Rx3QgAqyY8vtycAIsX7aVSSGAAAIIIIAAAggggAACdgoQYNnZl0hXRYAVaVHuR4DFGkAAAQQQQAABBBBAAAEEEHBNgADLNeqYDkSAFVN+Xw5OgOXLtjIpBBBAAAEEEEAAAQQQQMBOAQIsO/sS6aoIsCItyv0IsFgDCCCAAAIIIIAAAggggAACrgkQYLlGHdOBCLBiyu/LwQmwfNlWJoUAAggggAACCCCAAAII2ClAgGVnXyJdFQFWpEW5HwEWawABBBBAAAEEEEAAAQQQQMA1AQIs16hjOhABVkz5fTk4AZYv28qkEEAAAQQQQAABBBBAAAE7BQiw7OxLpKsiwIq0KPcjwGINIIAAAggggAACCCCAAAIIuCZAgOUadUwHIsCKKb8vByfA8mVbmRQCCCCAAAIIIIAAAgggYKcAAZadfYl0VQRYkRblfgRYWVwDp07Fa96W37RpT5zOP+csNalYVLlyZM/iXbkcAQQQQAABBBBAAAEEEPCnAAGWP/uafFYEWMHos5uzJMDKgvbG3XG6/+PFWrvzoHOXC4rk00s31tYlZc7Owp25FAEEEEAAAQQQQAABBBDwpwABlj/7SoAVjL7GcpYEWJnU/3nfYV37+iztO3Tsb3fIlzuH/ntnA9Upe04m785lCCCAAAIIIIAAAggggIA/BQiw/NlXAqxg9DWWsyTAyoT+yVPxuv7N2Vr88/5Ury5ZKK/G9bpMhc/KlYkRuAQBBBBAAAEEEEAAAQQQ8KcAAZY/+0qAFYy+xnKWBFiZ0P9y0XY98sWyv1xZr9w5Wvzz7zoVn/jjmxuU1dPX1szECFyCAAIIIIAAAggggAACCPhTgADLn30lwApGX2M5SwKsDOqfOHlKrV+Ypq37DjtX3tKwrAZ3qql3Z27RwO9XOz/Pnk0a++/LVLlEwQyOwukIIIAAAggggAACCCCAgD8FCLD82VcCrGD0NZazJMDKoP6E1bt01wcLnasK5s2pmY+1Ov2qoPlGwhtGzNHCrb87n19zyXl6+cbaGRyF0xFAAAEEEEAAAQQQQAABfwoQYPmzrwRYwehrLGdJgJVB/dvem6+p6/Y4V93fsqIeaV/F+bN5jbDz67OdP+fInk0zHm2p884+K4MjcToCCCCAAAIIIIAAAggg4D8BAiz/9TSlGWULxjSZpYsCBFgZwN4Xd1SXDpno7HNlXhGc8VgrlU4WTt341hzN3fybc+e7L7tQT1x+UQZG4lQEEEAAAQQQQAABBBBAwJ8CBFj+7GvyWRFgBaPPbs6SACsD2p8t+FmPfbXCuaJZpaL68I4Gf7vDpDW7dMf7ia8ZFsmfW3OfaK1cObJnYDRORQABBBBAAAEEEEAAAQT8J0CA5b+epjQjAqxg9NnNWRJgZUD79vfma0qS1wfNNwyabxpMfpi9sFo8P1U//5a40fs7/6yn1heVyMBonIoAAggggAACCCCAAAII+E+AAMt/PSXACkZPYz1LAqwwO3DwyHHVHTRRx06eOn1FtmzS/CfaqFjBPCne4cUJ6/XypA3OZ1dcXEqv3VwnzNE4DQEEEEAAAQQQQAABBBDwpwABlj/7mnxWPIEVjD67OUsCrDC1x6/aqbs/XOScXf+Cc/X5vY1SvfqnvYdOP4V15sidM7uWPNVW+fPkDHNETkMAAQQQQAABBBBAAAEE/CdAgOW/nqY0IwKsYPTZzVkSYIWpPfC71Xp31hbn7Ec7VNG/WlRM8+prX5+lJT/vd855o2sddaxZKswROQ0BBBBAAAEEEEAAAQQQ8J8AAZb/ekqAFYyexnqWBFhhduDyl2do9a9/OGd//a/GqlP2nDSvHjFtk4aOWeuc07l2ab3Q5ZIwR+Q0BBBAAAEEEEAAAQQQQMB/AgRY/uspAVYwehrrWRJghdGB/YePqfagCYqPTzg5X+4cWtavXbrfKrh5T5xaDZvmjHB2vlxa2KeNcvJthGGocwoCCCCAAAIIIIAAAgj4UYAAy49d/fuceIUwGH12c5YEWGFoJ9//qnnlYnq/e/0wrpRaD5uqTXsOOed+cldDNapQJKxrOQkBBBBAAAEEEEAAAQQQ8JsAAZbfOpryfAiwgtFnN2dJgBWG9tAxazRi2mbnzHD2vzpz8jNj1urNaZuca7s3Ka++V1ULY1ROQQABBBBAAAEEEEAAAQT8J0CA5b+epjQjAqxg9NnNWRJghaF941tzNHfzb86Zn97dUA0vDO8pqkVbf9c/3pjtXFuxeAFNfKh5GKNyCgIIIIAAAggggAACCCDgPwECLP/1lAArGD2N9SwJsNLpwMlT8ao1YLzijp44fWb2bNKK/u2VP0/OsHpnrq89cLz+OJJwvTnmPdFaJQrlDet6TkIAAQQQQAABBBBAAAEE/CRAgOWnbqY+F57ACkaf3ZwlAVY62ht2HVTbF6c7Z1UuUUDje2XsCaq7P1io8at3Ofd4sUstXVv7fDf7zFgIIIAAAggggAACCCCAgBUCBFhWtCHqRRBgRZ04cAMQYKXT8i8XbdcjXyxzzrqu7vl6/vpaGVoo78/+Sf2+XZWle2RoQE5GAAEEEEAAAQQQQAABBCwVIMCytDERLosAK8Kg3E4EWOksgr6jV+qDOVudswZdU13dGl2QoaWzcfdBtXkh8Smu8wrn1az/tFK2bPyVzhAkJyOAAAIIIIAAAggggIDnBQiwPN/CsCbAv3bDYuKkDAgQYKWDZTZgNxuxnzlG92iiWmXOzgCxFB8frwZPT9Lug0ed66Y80kLlixp+DgQQQAABBBBAAAEEEEAgOAIEWMHoNQFWMPrs5iwJsNLQNsFTzf5/3cB99cAOypsrR4Z71OuzpfpmyS/OdYM71dAtDctl+D5cgAACCCCAAAIIIIAAAgh4WYAAy8vdC792AqzwrTgzPAECrDSctv12WM2eneKccWGx/Jr8cIvwZJOd9cXCber95XLnp5fXLKnXu9bN1L24CAEEEEAAAQQQQAABBBDwqgABllc7l7G6CbAy5sXZ6QsQYKVhNHH1Lt35wcKIhE479v+pxs9Mdu5VtEAeLejTmn2w0l+jnIEAAggggAACCCCAAAI+EiDA8lEz05gKAVYw+uzmLAmw0tB+bcpGPTdunXNGrzaV1bNNpUz3p8kzk/XL/j+d66f1bqFyRdgHK9OgXIgAAggggAACCCCAAAKeEyDA8lzLMlUwAVam2LgoDQECrDRwHvhkib5btsM5481b6qpDjZKZXlA9P12i0UsT7zfs+lr6R93zM30/LkQAAQQQQAABBBBAAAEEvCZAgOW1jmWuXj8GWGZOVSXVT/LrYkm5JZmvbMubDpW59mpJZmOiGpJKSDohaZuk6ZJel7Q0TO5Oku6VVFtSYUkmaRgraZikTWHcw4z9cKiespIOS1olaVToV3wY98hqDWEM8ZdTCLDSEGv7wjRt2B3nnDH1kRa6IAvfHPjhnJ/01GizJBKOm+qX1dDONTPaM85HAAEEEEAAAQQQQAABBDwrQIDl2dZlqHA/BlgXSNqSikJ6AZYJi55PR/CUpEGS+qdxnnEdKal7KueYBKOLpB/TuEc9ST9IKp7KOSYIM+GUmVNKRyRqyNBiCp1MgJWK2omTp3RR37E6fjIhdzwrVw6tGtBe2bNn/q/h6h1/6PJXZjgjVi5RQON7Nc9M37gGAQQQQAABBBBAAAEEEPCkAAGWJ9uW4aIz/y/nDA/l2gVJA6ztkhZIKiqpWRhPYJlQqp8ks0nRB5ImhcKwHJJMKjBYUoXQTB6QNDyVWT0haUjos89Dv/9VUkNJL0sqL8mEWOYr49ancA9Tr/l6uVKS9knqGarFPMV1f+iXuextSXdHqYbMNowAKxW5LXsPqeXzU51Pq5UqpB97mmWZ+ePkqXjVGjBecUfNQ4IJx7K+7VQ4X67M35QrEUAAAQQQQAABBBBAAAEPCRBgeahZWSjVjwFWQUmtJM2TtDNkcyaYSu8JrK6hYGl0KqYmWFosqYyk/ZLM5kXJn4Ayr/2Z1wNNkGOeoLpKUtJX/UzAtjL0+ZeSrk9hLPMUmHkazDzt1UTS3GTnmOCsR+jzSyStSPZ5JGrI7LIiwEpFbvLaXeo+KvEbCK+8uJSG31wns87Odd3emacZG/Y6f37vtkvVsmpqD+5leThugAACCCCAAAIIIIAAAghYJUCAZVU7olaMHwOslLDCDbDCge4l6YXQiWafrGnJLuot6dnQz0y4tCyFm5rrzX1MQGWestqd5Bzz6Mye0J5Z30jqnML1Jkj7JbSv12tJnsg6c2pWawjHIbVzCLBSkRk5Y7MG/7DG+fTBVhX1ULsqWbE+fe1LE9frpYkbnPv0aFlBvdubrdw4EEAAAQQQQAABBBBAAAH/CxBg+b/HZoYEWBnvc/vQRuzmypslfZLsFmajd/NemEkUKqdy+8aSZoU+u0PSu0nOM0+PmVcXzWGeCPs4lXuMl9Q2tLm82eA96ZHVGjKukngFAVYqek98s0Ifz/vZ+fTFLrV0be2sf2PgzA17dcs75oHDhKNB+XP12T2NstJDrkUAAQQQQAABBBBAAAEEPCNAgOWZVmWpUAKsjPPdKun90GVXhl4TTHqXg5IKSPqvpG6p3D6PpEOSzN5ayZ+gekTSc6HrKqbxbYVmI/knQ+cVk5T4DpmU1RoyrkKAla7ZTW/N1ZzNZkuzhGN0jyaqVebsdK9L74RDR0+oZv9xOhV6UTVf7hxa0b+9cmRhc/j0xuRzBBBAAAEEEEAAAQQQQMAWAQIsWzoR3ToIsDLua/bHujr0+p/ZA8u87nfmKC3JbBxvjoGhDeFTG8E8imP20poYepLqzHlmY/Y7Q/c3QVfi7tx/vZP5hsN3Qj9qmuSJrkjUkHGVxCt4AisVvQZPT9SuPxK3TFvWr50KnxWZzdbbvzhd63aZ3DLhGN/rMlUuYbaD40AAAQQQQAABBBBAAAEE/C1AgOXv/p6ZHQFWxvpsXg00r+eZI6UN2GtJWhr6PK1vKTSnLJJkdvBeEvrvmUrMvledQt8+aPa6Su0wm8N/G/rwmiS/j0QN6amYkCq1I9+ZPb3i4uKUP39ap6Y3jH8+N09JVe83zplQ0QK5tfBJ8wZoZI7eXyzTF4vOZKfSs9ddrBvqmXyUAwEEEEAAAQQQQAABBBDwtwABlr/7e2Z2BFjh97lI6BsIzX5TcZJMULQ52eVJ97a6S9LING4/M/QNg8n3yjqzt5XZpD2tDZLaSJoQun/SvbIiUUN6Kkm/VTHVcwmwEmlW/nJAV75qWp5w1L/gXH1+b+T2qfrv3K168n/myy0TjlsaltXgTjXT6yOfI4AAAggggAACCCCAAAKeFyDA8nwLw5oAAVZYTDLveY2VZDZYN4fZ28rscZX8iER4RIAVXk88dda3y3bowU/Mw3YJR5d6ZfR/110csTms2H5AVw1PDMguPr+wvr3fvFnKgQACCCCAAAIIIIAAAgj4W4AAy9/9PTM7Aqz0+2yMPgx9I6A5e4Ck/qlcFonX93iFMP2eeO6Mlydu0IsT1zt1P96xqu5pXiFi8zh24pRq9BunYydPnb5nrhzZtHJAe+XJab4ngAMBBBBAAAEEEEAAAQQQ8K8AAZZ/e5t0ZgRY6ff5JUk9Q6e9KunBNC7JyAbq20KvCKa2iftJSXnT2MT9jiSvKGZ2E/fUakhfJfUz2MQ9BZteny3VN0vMW6EJx4huddW+uvkOgMgd17w2S8u27XduGKlvOYxchdwJAQQQQAABBBBAAAEEEIi8AAFW5E1tvCMBVtpd6ZfkaSvzFNY/JaW1/5Px/ENSgdBTW7emcnvz7YKHJJnHY16TdH+S8x6R9Fzoz+YRneT7bJ05dbCkPqE/FJO0N/T7SNSQlbVKgJWC3vVvztaCn353PhnTs5kuKlUoK85/u7bf6JV6f85W5+cDr6muWxtdENExuBkCCCCAAAIIIIAAAgggYJsAAZZtHYlOPQRYqbuaJ61eDn08WtJ1aTwNlfQu5lsKzbcVmvfFqqRy+6R7ZZknqd5Ncp7ZZ2tS6M83S/oklXuc2R0FmogAACAASURBVCvLPEVlNpaPZA1ZWW0EWCnoNXx6knb+ccT5xLzeVyBPzqw4/+3arxZt18NfLHN+/o8652vYDeatVg4EEEAAAQQQQAABBBBAwL8CBFj+7W3SmRFgpdxn8+TUKEnGx4RJV0g6GuaS6C3p2dC5ZpfuFSlc94KkXpLMhkWlJO1Oco7ZMH6PpMKSvpb0jxSuLyrJvI+WO4UnuMzpWa0hzKmmeBoBVjKWoydOqupTYxUfenbvnHy5tKRvu6wYp3jtxt0H1eYFk58mHJWKF9CEh5pHfBxuiAACCCCAAAIIIIAAAgjYJECAZVM3olcLAdbfba+W9JUk83jMPEltJMVloAUlQq/95ZP0nSRzv6SHeadrpSQT9Hwp6foU7v28pIclmX2wzNNa85OdM1xSj9DrjOYRm+QhWSRqyMCU/3IqAVYyuc174tRq2DTnpzVLF9Z3D0T+GwJPnYrXxQPGK+7oidNjZcsmregf+Se9MrswuA4BBBBAAAEEEEAAAQQQiIYAAVY0VO27p18DrGqSkm4wdKck86reMUnJH0lZkuTpKvPqn3k1z2yebl4BNOFV4sZFf++feScsIS346/GEpCGhH30W+v1OSQ0kvSKpfCgUqxsaJ/n15gmr5aGns8zeVmYTefMkmJnTA6Ff5pq3Jd2dyrLKag2ZXa0EWMnkpq/fo1vfTcwgL69ZUq93Na2P/HHTW3M1Z/M+58af3t1QDS8sEvmBuCMCCCCAAAIIIIAAAgggYIkAAZYljYhyGX4NsKamEFSlRmnCpJ9CH5rXBs1G7eEet4deNUx+vnEdKal7KjcyT3R1kfRjGgPVk/SDpOKpnDNWUqc0Xm2MRA3hOiQ9jwArmdpH87aqzzfmobuE457LLtTjl1+UGdt0rxk6Zo1GTEvc9//JKy7Snc0uTPc6TkAAAQQQQAABBBBAAAEEvCpAgOXVzmWsbgKshKehIh1gnenCtSavkFQn9PTUDknjJJlXBDeF0SrzKqD5VkLzGmIZSX9KWiXpvVBwltY3IkaqhjDK/MspBFjJxJ4Zs1ZvTkts96BONdStYbmMuoZ1/rfLdujBT8xDhQnHtbVL68Uul4R1LSchgAACCCCAAAIIIIAAAl4UIMDyYtcyXrNfA6yMS3BFpAQIsJJJ9vh4sX5Y/qvz0/duv1Qtq6T2YF3W2rBpT5xaJ9lvq3KJAhrfi43cs6bK1QgggAACCCCAAAIIIGCzAAGWzd2JXG0EWJGz5E4JAgRYyVbCNa/N0rJt+52fTnyouSoWLxCV9WI2cq/Rf5wOHzP7/0s5smfTqgHtlTdXjqiMx00RQAABBBBAAAEEEEAAgVgLEGDFugPujE+A5Y5zkEYhwErW7bqDJmjfIfP9AQnH2kEdohooXffGbC3cmvjdA//r0USXlDk7SGuQuSKAAAIIIIAAAggggECABAiwgtFsAqxg9NnNWRJgJdE+dPSEqvcz254lHMUL5tH8PubLLaN39Bu9Uu/P2eoMMOTaGuraIDp7bkVvFtwZAQQQQAABBBBAAAEEEAhPgAArPCevn0WA5fUO2lc/AVaSnqzfdVDtXpzu/KRO2bP19b+aRLVrny/Ypke/Wu6McVP9shrauWZUx+TmCCCAAAIIIIAAAggggECsBAiwYiXv7rgEWO56B2E0AqwkXZ6ydrduH7XA+cnVtc7TKzfVjuo6WPnLAV356kxnjFrnF9bo+5tGdUxujgACCCCAAAIIIIAAAgjESoAAK1by7o5LgOWudxBGI8BK0uWP5m1Vn29WOj+5t3kF/adj1aiug2MnTql6v7E6fjL+9Dh5cmY/vZF7zhzZozouN0cAAQQQQAABBBBAAAEEYiFAgBULdffHJMBy39zvIxJgJenwsPHr9Orkjc5PBl5TXbc2uiDqa+CKV2Zo1Y4/nHHG/fsyVSlZMOrjMgACCCCAAAIIIIAAAggg4LYAAZbb4rEZjwArNu5+HpUAK0l3H/58mb5avN35yVvd6qpd9ZJR7/+jXy7T5wsTxx12fS39o+75UR+XARBAAAEEEEAAAQQQQAABtwUIsNwWj814BFixcffzqARYSbrbdeRczdq4z/nJ9w80VY3ShaPe//dn/6R+365yxunepLz6XlUt6uMyAAIIIIAAAggggAACCCDgtgABltvisRmPACs27n4elQArSXdbPT9Vm/cecn6y8Mk2KlogT9T7v/Cn33Tdm3OccRqUP1ef3dMo6uMyAAIIIIAAAggggAACCCDgtgABltvisRmPACs27n4elQAr1N34+Hhd1Hesjhw/dfonuXNm17pBHZQtW/T/2h06ekI1+o9TfMI+7iqYN6eW92vnyth+XtzMDQEEEEAAAQQQQAABBOwTIMCyryfRqCj6/5KORtXc02YBAqxQd/YfPqZLBk5welWuSD5N693Std61GjZVm/ckPv01rXcLlSti2sOBAAIIIIAAAggggAACCPhHgADLP71MayYEWMHos5uzJMAKaa/e8Ycuf2WGY+/2a3wPfLJE3y3b4Yz/5i111KFGKTfXAmMhgAACCCCAAAIIIIAAAlEXIMCKOrEVAxBgWdEGXxVBgBVq5+S1u9R91EKnudfWLq0Xu1ziWrNfm7JRz41b54zXs3Ul9Wpb2bXxGQgBBBBAAAEEEEAAAQQQcEOAAMsN5diPQYAV+x74rQICrFBH/zt3q57830qnv/e1qKDHOlR1rd9T1u7W7aMWOOO1r15CI7rVc218BkIAAQQQQAABBBBAAAEE3BAgwHJDOfZjEGDFvgd+q4AAK9TR58et0/ApG53+Drqmuro1usC1fv964E81GjrZGa/sufk0/VH39uBybaIMhAACCCCAAAIIIIAAAoEWIMAKRvsJsILRZzdnSYAV0n7o86X6evEvjv3IW+upTbUSrvXCfAti7UETtP/wcWfMlQPaq0CenK7VwEAIIIAAAggggAACCCCAQLQFCLCiLWzH/Qmw7OiDn6ogwAp186a35mrO5n1Ob79/oKlqlC7saq9vfGuO5m7+zRnzq/saqW65c12tgcEQQAABBBBAAAEEEEAAgWgKEGBFU9eeexNg2dMLv1RCgBXqZMvnp2rL3kNOXxc/1Vbn5s/tap/7f7tKo2b/5Iw5uFMN3dKwnKs1MBgCCCCAAAIIIIAAAgggEE0BAqxo6tpzbwIse3rhl0oIsCSZ1/eq9R2nP4+fPN3X3Dmza92gDsqWzd2/cp8v2KZHv1rurK2uDcpqyLU1/bLWmAcCCCCAAAIIIIAAAgggIAKsYCwCd/81HQzToM+SAEvSwSPHVbP/eGctnH/OWZr5WCvX18by7ft19fBZzrh1y52jr+5r7HodDIgAAggggAACCCCAAAIIREuAACtasnbdlwDLrn74oRoCLEmb9sSp9bBpTj/rlD1bX/+riev9PXL8pKr1HatT8QlD58+dQyv6t1f27PzVd70ZDIgAAggggAACCCCAAAJRESDAigqrdTflX7HWtcTzBRFgSZq9aa9ufnue08wO1UvqzW51Y9Lc1sOmatOexL24pvduqbJF8sWkFgZFAAEEEEAAAQQQQAABBCItQIAVaVE770eAZWdfvFwVAZak0Ut/Uc9Plzp9/GejchpwTY2Y9LXHx4v1w/JfnbFHdKur9tVLxqQWBkUAAQQQQAABBBBAAAEEIi1AgBVpUTvvR4BlZ1+8XBUBlqS3p2/WkB/XOH3s3b6KerSsGJO+vjZlo54bt84Z+99tKunfbSrHpBYGRQABBBBAAAEEEEAAAQQiLUCAFWlRO+9HgGVnX7xcFQGWpMHfr9bImVucPj573cW6oV6ZmPR10ppduuP9hc7YsXydMSYADIoAAggggAACCCCAAAK+FiDA8nV7nckRYAWjz27OkgBL0oOfLNG3y3Y47u93r6/mlYu52QdnrF/2/6kmz0x2/lyuSD5N690yJrUwKAIIIIAAAggggAACCCAQaQECrEiL2nk/Aiw7++LlqgiwJN341hzN3fyb08cxPZvpolKFYtLX+Ph41RowXn8cOeGMv2pAe+XPkzMm9TAoAggggAACCCCAAAIIIBBJAQKsSGraey8CLHt749XKCLAktXp+qjbvTfzmv0VPtlGRAnli1tMbRszR/C2JgdpX9zVW3XLnxKweBkYAAQQQQAABBBBAAAEEIiVAgBUpSbvvQ4Bld3+8WB0BlqQa/cYp7mjCE0+5cmTTukEdlT177P669f92lUbN/slZT0OuraGuDcp5cX1RMwIIIIAAAggggAACCCDwFwECrGAsiNj9izoYvkGcZeADrENHT6h6v3FO788rnFezH28d07Xw6fyf9Z+vVzg1dGtYToM61YhpTQyOAAIIIIAAAggggAACCERCgAArEor234MAy/4eea3CwAdYW/YeUsvnpzp9q1XmbI3u0SSmfVy6bb86vTbLqaFeuXP05X2NY1oTgyOAAAIIIIAAAggggAACkRAgwIqEov33IMCyv0deqzDwAda8zfvU5a25Tt/aViuht2+tF9M+/nnspKr3G6tT8QllFMiTUyv6t1O2bPwvIKaNYXAEEEAAAQQQQAABBBDIsgABVpYJPXED/vXqiTZ5qsjAB1jfLduhBz5Z4jTtloZlNbhTzZg30TwVZp4OO3PMfKylzj8nX8zrogAEEEAAAQQQQAABBBBAICsCBFhZ0fPOtQRY3umVVyoNfIA1csZmDf5hjdOvh9pW1oOtK8W8f/f9d5HGrNzp1DHy1npqU61EzOuiAAQQQAABBBBAAAEEEEAgKwIEWFnR8861BFje6ZVXKg18gDX0xzUaMX2z069nOtfUjfXLxrx/L01cr5cmbnDq6N2+inq0rBjzuigAAQQQQAABBBBAAAEEEMiKAAFWVvS8cy0Blnd65ZVKAx9g9fpsqb5Z8ovTr/duu1QtqxaPef/GrvxV9/53sVPHVbXO06s31Y55XRSAAAIIIIAAAggggAACCGRFgAArK3reuZYAyzu98kqlgQ+wbn57rmZv2uf06/sHmqpG6cIx799Pew+pRZJvR6xcooDG92oe87ooAAEEEEAAAQQQQAABBBDIigABVlb0vHMtAZZ3euWVSgMfYLV5YZo27o5z+jW/T2sVL5g35v07dSpe1fuN05/HT56uJUf2bFo9sL3y5MwR89ooAAEEEEAAAQQQQAABBBDIrAABVmblvHUdAZa3+uWFagMfYF3cf5z+OHLCCYnWD+54Oiyy4bhm+Ewt237AKeXHB5up2nmFbCiNGhBAAAEEEEAAAQQQQACBTAkQYGWKzXMX2fGvas+xUXAaAoEOsI4cP6mqT411eIoVzKMFfdpYs2Ae/XKZPl+43annxS61dG3t862pj0IQQAABBBBAAAEEEEAAgYwKEGBlVMyb5xNgebNvNlcd6ABrx/4/1fiZyU5/LipVSGN6NrOmX+/O3KKB36926rmn+YV6vONF1tRHIQgggAACCCCAAAIIIIBARgUIsDIq5s3zCbC82Tebqw50gLV8+35dPXyW059mlYrqwzsaWNOv2Rv36uaR85x6mlcupve717emPgpBAAEEEEAAAQQQQAABBDIqQICVUTFvnk+A5c2+2Vx1oAOsKWt36/ZRC5z+dK5dWi90ucSafu2LO6q6gyc69ZQslFdzn2htTX0UggACCCCAAAIIIIAAAghkVIAAK6Ni3jyfAMubfbO56kAHWJ8v3KZHv1zu9OeuZuXV54pqVvWr3uCJ2ht31KlpWd92Kpwvl1U1UgwCCCCAAAIIIIAAAgggEK4AAVa4Ut4+jwDL2/2zsfpAB1ivT92oZ8euc/ryeMequqd5Bav61O2deZqxYa9T02d3N1SDC4tYVSPFIIAAAggggAACCCCAAALhChBghSvl7fMIsLzdPxurD3SANej71Xpn5hanL89fX0vX1bXrW/4Gf79aI5PUOODq6vpn4wtsXEvUhAACCCCAAAIIIIAAAgikK0CAlS6RL04gwPJFG62aRKADrJ6fLtHopTuchoy6/VK1qFLcqgZ9sXCbeid5zfGm+mU1tHNNq2qkGAQQQAABBBBAAAEEEEAgXAECrHClvH0eAZa3+2dj9YEOsG4ZOU8zNya+nvf9A01Vo3Rhq/q0YvsBXTV8plNTnbJn6+t/NbGqRopBAAEEEEAAAQQQQAABBMIVIMAKV8rb5xFgebt/NlYf6ACrw0vTtXbnQacvcx9vrZKF81rVpyPHT6pa37E6FZ9QVoE8ObW8Xztlz87/DqxqFMUggAACCCCAAAIIIIBAWAIEWGExef4k/sXq+RZaN4FAB1j1Bk/Q3rhjTlPWD+6o3DmzW9ekVsOmavOeQ05dMx5tqTLn5rOuTgpCAAEEEEAAAQQQQAABBNITIMBKT8gfnxNg+aOPNs0isAHWyVPxqtTnR+fJpsJn5dKyfu1s6o1Ty78+WqQfV+x0/vz2rfXUtloJK2ulKAQQQAABBBBAAAEEEEAgLQECrGCsDwKsYPTZzVkGNsDaG3dU9QZPdKwrFMuvSQ+3cNM+7LFenrhBL05c75z/SLvKur9VpbCv50QEEEAAAQQQQAABBBBAwBYBAixbOhHdOgiwousbxLsHNsBat/Og2r803el5g/Ln6rN7Glm5Bsat2ql7Plzk1HblxaU0/OY6VtZKUQgggAACCCCAAAIIIIBAWgIEWMFYHwRYweizm7MMbIA1a+NedR05z7G+omYpvdbVzlBo675Dav7cVKfWisULaOJDzd1cJ4yFAAIIIIAAAggggAACCEREgAArIozW34QAy/oWea7AwAZYo5f+op6fLnUa9s9G5TTgmhpWNvDUqXjV6D9Oh4+dPF1fjuzZtHpge+XJmcPKeikKAQQQQAABBBBAAAEEEEhNgAArGGuDACsYfXZzloENsN6ZuUWDvl/tWD/UtrIebG3vvlLXvDZLy7btd+r94cGmqn5eYTfXCmMhgAACCCCAAAIIIIAAAlkWIMDKMqEnbkCA5Yk2earIwAZY/zd2rd6Yuslp1tPX1tTNDcpa27z/fLVcny7Y5tT3wg211LnO+dbWS2EIIIAAAggggAACCCCAQEoCBFjBWBcEWMHos5uzDGyA9eiXy/T5wu2O9Vvd6qpd9ZJu2mdorPdmbdGA7xKfGLv7sgv1xOUXZegenIwAAggggAACCCCAAAIIxFqAACvWHXBnfAIsd5yDNEpgA6zuoxZo8trdTq+/uq+x6pY7x9rez960Vze/nbjp/GWVi+mD7vWtrZfCEEAAAQQQQAABBBBAAIGUBAiwgrEuCLCC0Wc3ZxnYAOvq4TO1fPsBx3p675YqWySfm/YZGuu3Q8dUZ9AE55oShfJo3hNtMnQPTkYAAQQQQAABBBBAAAEEYi1AgBXrDrgzPgGWO85BGiWwAVaTZybrl/1/Or1eNaC98ufJaXXv6w+ZqN0Hjzo1Lnmqrc7Jn9vqmikOAQQQQAABBBBAAAEEEEgqQIAVjPVAgBWMPrs5y0AGWPHx8ary1FgdO3HqtPVZuXJozaAObrpnaqxu78zTjA17nWs/uauhGlUokql7cRECCCCAAAIIIIAAAgggEAsBAqxYqLs/JgGW++Z+HzGQAdbBI8dVs/94p7fnn3OWZj7WyvpeD/lhtd6escWps/9V1XRbk/LW102BCCCAAAIIIIAAAggggMAZAQKsYKwFAqxg9NnNWQYywPp532Fd9twUx7nW+YU1+v6mbrpnaqwvF23XI18sc669qX4ZDe18cabuxUUIIIAAAggggAACCCCAQCwECLBioe7+mARY7pv7fcRABlhLt+1Xp9dmOb1tUaWYRt1u/zf6rfzlgK58daZTd+2yZ+ubfzXx+xplfggggAACCCCAAAIIIOAjAQIsHzUzjakQYAWjz27OMpAB1uS1u9R91ELHuXOd0nrhhkvcdM/UWEeOn1T1fuN08lT86evz5c6hlf3bK3t2/teQKVAuQgABBBBAAAEEEEAAAdcFCLBcJ4/JgPwrNSbsvh40kAFW8lfx7mxaXk9eWc0TjW49bKo27Tnk1Dq9d0uVLZLPE7VTJAIIIIAAAggggAACCCBAgBWMNUCAFYw+uznLQAZYb0/frCE/rnGce7evoh4tK7rpnumxeny8WD8s/9W5/q1uddWueslM348LEUAAAQQQQAABBBBAAAE3BQiw3NSO3Vh+DLDMnKpKMhsQnflldqXOLemopLxhcpeQ9LCkqyWVlXRY0ipJo0K/Et65SvvoJOleSbUlFZa0Q9JYScMkbUrvYkk21BBGmX85JZAB1jNj1urNaYktfaZzTd1Y3ywb+49XJ23QsAnrnUIfbltZD7SuZH/hVIgAAggggAACCCCAAAIISCLACsYy8GOAdYGkLam0L9wAq56kHyQVT+U+JoQy4ZS5X0qHcR0pqXsqn8dJ6iLpxzSWmQ01ZOZvQSADrMe+XK7PFm5zvEZ0q6v2HnmKafyqnbr7w0VO7VfULKXXutbJTO+5BgEEEEAAAQQQQAABBBBwXYAAy3XymAzo9wBru6QFkopKahbmE1jm3OWSSknaJ6mnpEmhJ6jul2R+meNtSXen0rUnJA0JffZ56PfmHa2Gkl6WVF6SCbHqSkp89CXxZjbUkNkFGcgA664PFmrC6l2O2Rf3NtKlF5ybWUNXr/t532Fd9twUZ8wKxfJr0sMtXK2BwRBAAAEEEEAAAQQQQACBzAoQYGVWzlvX+THAKiiplaR5knaG2tFfUr8wA6znQ68OnpLURNLcZC0dLqmHJPO5+Zq5Fck+N6/9mXfJTJBjnuK6SlLS1w3NE2IrQ59/Ken6FJaMDTVkdiUHMsD6xxuztWjr747ZpIebq0KxApk1dPW6U6fiVbP/OB06dvL0uDmyZ9OqAe2VN1cOV+tgMAQQQAABBBBAAAEEEEAgMwIEWJlR8941fgywUupCuAFWLkl7Qk9bfSOpcwo3M09H/RLaU+u1JE9knTm1t6RnQ38wAdeyFO7xgqReoRDMPOm1O8k5NtSQlZUcyACr1fNTtXlv4jf5LXmqrc7Jb7Zd88Zx7euztOTn/U6x3z/QVDVKm23bOBBAAAEEEEAAAQQQQAABuwUIsOzuT6SqI8D6q6R5csu8LmiOrpI+TgV6vKS2ksymR8l36p4eel1xg6TKqVzfWNKs0Gd3SHo3yXk21JCV9RXIAOuSgeO1//Dx027Zs0kbh1yu7OY3Hjke/3q5PpmfuIfX89fX0nV1z/dI9ZSJAAIIIIAAAggggAACQRYgwApG973zL+ys9SPcJ7AekfRcaKiKaXxT4CBJT4bOKyZpb5LyDkoy7479V1K3VMrOY74owbytJSn5U1w21JAV7cAFWCdOnlLFPmMcsyL5c2vRUybf9M4xatYW9f9utVPwXc3Kq88V1bwzASpFAAEEEEAAAQQQQACBwAoQYAWj9QRYf+2z2Zj9ztCrfSZkOpHKMjDfLvhO6LOmSZ6mKi3JbBxvjoGhfbdSW0k/SyojaWLoaa4z59lQQ1ZWf+ACrL1xR1VvsGljwlGxeAFNfKh5Vgxdv3bu5n268a3E7d6aVSqqD+9o4HodDIgAAggggAACCCCAAAIIZFSAACujYt48nwDrr30z+151Cn37oNnrKrXDbMz+bejDa5L8vpakpaGfPyDJbPie2rFIUh1JS0L/PXOeDTWkt5pNSJXake/Mnl5xcXHKnz+tU9Mbxhufb9h1UG1fNG+OJhz1y5+rz+9p5I3iQ1XuP3xMlwyc4NRcvGAeze/TxlNzoFgEEEAAAQQQQAABBBAIpgABVjD6ToD11z6f2dvKbNKe1gZA5l/2Z/61n3SvrKR7W90laWQay2hm6FsOk++VZUMN6a3+pN+qmOq5QQmwkj+91KF6Sb3ZrW56htZ93uDpidr1x1GnrsVPtdW5HtqI3jpQCkIAAQQQQAABBBBAAAFXBAiwXGGO+SAEWARYTSSlteF8SouUACuJypgVv+q+jxY7P7mpflkN7Vwz5n+5M1rAre/O1/T15ks4E46P72qgxhXSehAxoyNwPgIIIIAAAggggAACCCAQeQECrMib2nhHAqy/dsWG1/dsqCG9tcorhEmEPpq3VX2+Wen85P6WFfVI+yrpGVr3+dAf12jE9M1OXf2uqqbbm5S3rk4KQgABBBBAAAEEEEAAAQSSChBgBWM9EGD9tc9nNlA/KSlvGpu435Hk9cDMbuK+LfSaYmqbuMeyhqys/sBt4v7qpA0aNmG9Y/bUldV0R1PvBT9fL96uhz5f5szjxkvL6Jl/XJyVtcC1CCCAAAIIIIAAAggggEDUBQiwok5sxQAEWH9twyOSngv9qIKkxMdR/nreYEl9Qj8qJmlv6PfG8w9JBSR9KOnWVLpsvuHwkKQckl6TdH+S82yoISuLM3AB1oDvVum9WT85Zi91uUSdapsvpPTWsWrHAV3xitmaLeGoVeZsje5h3jDlQAABBBBAAAEEEEAAAQTsFSDAsrc3kayMAOuvmq0kTQr96GZJn6SCfWajdfMUVdlk55ivo2smyTySk9p7ZEk3ezdPc72b5B421JCVNRa4AKvnp0s0eukOx+z97vXVvLLJNb11HD1xUtX6jtPJUwlbnOXLnUMr+7dX9uxB+d+Et/pFtQgggAACCCCAAAIIIJAgQIAVjJUQlH+Z9pfUT5L5ijXzamBqRy5JZhfrwpK+lvSPFE40u1qbbynMncLTU+b03pKeDV1n3r9akcI9XpDUS9IpSaUk7U5yjg01ZGX1By7A6vbOPM3YcOYhPOm7+5uq5vlmCXnvaPvCNG3YHecUPq13C5UrktaWZ96bIxUjgAACCCCAAAIIIICAvwQIsPzVz9RmQ4D1d5nnJT0syexBZZ6Ump/slOGSekgyj6nUSiGgKhF69TCfpO8kXZ3s+gskmR2/TSrwpaTrU2iODTVk9m9A4AKsK1+doZW/mDdHE45Z/2ml0meflVm/mF53/8eL9f3yX50aRnSrq/bVS8a0JgZHAAEEEEAAtk49pAAAIABJREFUAQQQQAABBNISIMAKxvrwa4BVTVKhJC28U5J5Ve+YpObJWrsk9GTWmR+bJ6yWh56MMo/V9Ay9Vmju90DolznXbPh+dyrL5AlJQ0KffRb6/U5JDSS9Isns8G0ec6kbetUw+W1sqCGzfwMCF2A1HjpJOw4ccbzWDOygs3Kb7c28dwyfvEHPj0/ckL5Xm8rq2aaS9yZCxQgggAACCCCAAAIIIBAYAQKsYLTarwHW1BSCqtQ6asKkxB24E86qJ+kHScVTuWispE7Jgq+kpxrXkZK6p3K9Ca+6SPoxjWVmQw2Z+VsQuACr6lNjdOS4eRtUypsru9YO6pgZNyuumbB6l+76YKFTy+U1S+r1riZn5UAAAQQQQAABBBBAAAEE7BQgwLKzL5GuigAr4Wmo5AGWcTavAppvBDSvAJaR9KekVZLekzQq9Aphev24VtI9kuqEnggzO32Pk2ReEdyU3sWW1BBGmX85JVAB1p/HTuqivibPTDjMq4PmFUKvHtt+O6xmz05xyr+wWH5NfriFV6dD3QgggAACCCCAAAIIIBAAAQKsADRZkl8DrGB0z85ZBirA2v77YTX9v8TAp0bpQvr+AfMllN484uPjVbP/eMUdPXF6AuYLCFcP7KC8ubz5SqQ3u0DVCCCAAAIIIIAAAgggkBEBAqyMaHn3XAIs7/bO1soDFWCt2H5AVw2f6fSiWaWi+vAOs9WZd4/Or8/S4p/3OxPw8rcqercLVI4AAggggAACCCCAAALhChBghSvl7fMIsLzdPxurD1SANW39Hv3z3cQvqux0yXl66cbaNvYl7Joe/3qFPpn/s3P+c9ddrOvrmbdoORBAAAEEEEAAAQQQQAAB+wQIsOzrSTQqIsCKhmqw7xmoAOubJdvV67NlTsdvb3KB+l1V3dMr4IM5P6nvaLPdW8JxZ9PyevJK88WeHAgggAACCCCAAAIIIICAfQIEWPb1JBoVEWBFQzXY9wxUgPXOzC0a9P1qp+OPtKus+1tV8vQKmLd5n7q8NdeZgx9ei/R0QygeAQQQQAABBBBAAAEE0hQgwArGAiHACkaf3ZxloAKs58et0/ApGx3fIdfWUNcG5dz0jvhYBw4fV62B4537Fi2QRwufbBPxcbghAggggAACCCCAAAIIIBAJAQKsSCjafw8CLPt75LUKAxVgJd8v6o2uddSxZimv9exv9TYaOkm/Hjji/HzRk21UpEAez8+LCSCAAAIIIIAAAggggID/BAiw/NfTlGZEgBWMPrs5y0AFWPd+uEhjV+10fD+7u6EaXFjETe+ojHXbe/M1dd0e594f39lAjSsWjcpY3BQBBBBAAAEEEEAAAQQQyIoAAVZW9LxzLQGWd3rllUoDFWDdMGKO5m/5zenNhF6XqVKJgl7pVap1Dh2zRiOmbXY+73tlNXVvWt7z82ICCCCAAAIIIIAAAggg4D8BAiz/9TSlGRFgBaPPbs4yUAFWmxemaePuOMfX7BVl9ozy+pH82xVvqHe+nr2ultenRf0IIIAAAggggAACCCDgQwECLB82NYUpEWAFo89uzjJQAVbdQRO079Axx3fjkI7KmSO7m95RGWvNr3+o48sznHvXOr+wRt/fNCpjcVMEEEAAAQQQQAABBBBAICsCBFhZ0fPOtQRY3umVVyoNTIAVHx+vin3G6OSp+NO9KXxWLi3r184rfUqzzmMnTqla37E6EZpb3lzZtWpAB+XIzv8yfNFgJoEAAggggAACCCCAgI8ECLB81Mw0psK/RoPRZzdnGZgA6+CR46rZf7xjW65IPk3r3dJN66iO1eGl6Vq786AzxsSHmqti8QJRHZObI4AAAggggAACCCCAAAIZFSDAyqiYN88nwPJm32yuOjAB1rbfDqvZs1OcXvjtNbuHPluqr5f84szvlZtq6+pa59m89qgNAQQQQAABBBBAAAEEAihAgBWMphNgBaPPbs4yMAHWiu0HdNXwmY7tZZWL6YPu9d20jupYI2ds1uAf1jhj3Neigh7rUDWqY3JzBBBAAAEEEEAAAQQQQCCjAgRYGRXz5vkEWN7sm81VBybAmrFhj7q9M9/phXk6yTyl5Jdj9sa9unnkPGc6zSsX0/s+Cuj80ifmgQACCCCAAAIIIIBA0AUIsIKxAgiwgtFnN2cZmADru2U79MAnSxzbWxuV08BrarhpHdWxfj90TLUHTXDGKFYwjxb0aRPVMbk5AggggAACCCCAAAIIIJBRAQKsjIp583wCLG/2zeaqAxNgfTh3q57630qnFw+2rqSH2la2uTcZrq3R0En69cAR57r5fVqreMG8Gb4PFyCAAAIIIIAAAggggAAC0RIgwIqWrF33JcCyqx9+qCYwAdbwyRv0/Pj1Ts/6XllN3ZuW90MPnTncMWqBJq3d7fzZvEJoXiXkQAABBBBAAAEEEEAAAQRsESDAsqUT0a2DACu6vkG8e2ACrMHfr9bImVucHr9wQy11rnO+r3o+bPw6vTp5ozOn/3SsqnubV/DVHJkMAggggAACCCCAAAIIeFuAAMvb/Qu3egKscKU4L1yBwARYj3yxTF8u2u64vHtbPbWqWiJcJ0+cN2bFr7rvo8VOrX7bqN4TTaBIBBBAAAEEEEAAAQQQSFOAACsYC4QAKxh9dnOWgQmw7nx/gSauSXy97qv7GqtuuXPctI76WFv3HVLz56Y641QsXkATH2oe9XEZAAEEEEAAAQQQQAABBBAIV4AAK1wpb59HgOXt/tlYfWACrOvemK2FW393ejDp4eaqUKyAjT3JdE2nTsXr4gHjFXf0xOl7ZM8mrRrQQWflzpHpe3IhAggggAACCCCAAAIIIBBJAQKsSGraey8CLHt749XKAhNgtXlhmjbujnP6tOjJNipSII9X+5Zq3de/OVsLfkoM6v7Xo4kuKXO27+bJhBBAAAEEEEAAAQQQQMCbAgRY3uxbRqsmwMqoGOenJxCYAKve4InaG3fU8dg4pKNy5sieno/nPu87eqU+mLPVqXto55q6qX5Zz82DghFAAAEEEEAAAQQQQMCfAgRY/uxr8lkRYAWjz27OMhABVnx8vCo/OUbHT8afti2YN6dW9G/vprNrY306/2f95+sVznjdGpbToE41XBufgRBAAAEEEEAAAQQQQACBtAQIsIKxPgiwgtFnN2cZiADr0NETqt5vnONa5tyzNOPRVm46uzbW8u37dfXwWc54ZqN6s2E9BwIIIIAAAggggAACCCBggwABlg1diH4NBFjRNw7aCIEIsH7Z/6eaPDPZ6W3N0oX13QNNfdnrI8dPng7rTp5KeNosX+4cWtm/vbKbHd05EEAAAQQQQAABBBBAAIEYCxBgxbgBLg3Pv0Bdgg7QMIEIsFb+ckBXvjrTaWuzSkX14R0NfNvmdi9O0/pdiRvWT32khS4oalrNgQACCCCAAAIIIIAAAgjEVoAAK7b+bo1OgOWWdHDGCUSANWvjXnUdOc/p6pUXl9Lwm+v4tsv//nSJ/rd0hzO/17vW0eU1S/l2vkwMAQQQQAABBBBAAAEEvCNAgOWdXmWlUgKsrOhxbUoCgQiwflj+q3p8vNiZ/y0Ny2pwp5q+XREjpm3S0DFrnfn1aFlBvdtX9e18mRgCCCCAAAIIIIAAAgh4R4AAyzu9ykqlBFhZ0ePawAZYH83bqj7frHTmf3/LinqkfRXfrogZG/ao2zvznfm1qFJMo26v79v5MjEEEEAAAQQQQAABBBDwjgABlnd6lZVKCbCyose1gQ2wXpuyUc+NW+fM/8krLtKdzS707Yr4/dAx1R40wZlf0QK5taBPG2XLxv9CfNt0JoYAAggggAACCCCAgEcECLA80qgslsm/PrMIyOV/EwjEK4RP/7hGb03f7Ez++etr6bq65/t6OZhvXTTfvnjmmPN4K5UqfJav58zkEEAAAQQQQAABBBBAwH4BAiz7exSJCgmwIqHIPZIKBCLA6v3FMn2xaLsz75G31lObaiV8vRLu/XCRxq7a6czxrW511a56SV/PmckhgAACCCCAAAIIIICA/QIEWPb3KBIVEmBFQpF7BC7AuuuDhZqwepcz7y/vbaR6F5zr65WQ/LXJB1tX0kNtK/t6zkwOAQQQQAABBBBAAAEE7BcgwLK/R5GokAArEorcI3AB1g1vztH8n35z5j3xoctUsXhBX6+Eqet267b3FjhzbFW1uN697VJfz5nJIYAAAggggAACCCCAgP0CBFj29ygSFRJgRUKRewQuwGr34jSt3xXnzNtsaF6sYB5fr4R9cUdVd/BEZ45mvmbeHAgggAACCCCAAAIIIIBALAUIsGKp797YBFjuWQdlpEDsgVV/yETtPnjU6en6wR2VO2d23/e48dBJ2nHgiDPPeU+0VolCeX0/byaIAAIIIIAAAggggAAC9goQYNnbm0hWRoAVSU3uZQR8H2DFx8erylNjdezEqdMdL5Anp1YOaB+I7t/9wUKNT7L3VxA2rw9EY5kkAggggAACCCCAAAIeFiDA8nDzMlA6AVYGsDg1LAHfB1h/Hjupi/qOdTBKn32WZv2nVVg4Xj/p1UkbNGzCemcaPVtXUi82cvd6W6kfAQQQQAABBBBAAAFPCxBgebp9YRdPgBU2FSeGKeD7AGvH/j/V+JnJDkf18wrphwebhcnj7dOmrN2t20clbuTeumpxvcNG7t5uKtUjgAACCCCAAAIIIOBxAQIsjzcwzPIJsMKE4rSwBXwfYK3e8Ycuf2WGA9KkYhF9dGfDsIG8fOKeg0d16ZDEjdxLFMqjeU+wkbuXe0rtCCCAAAIIIIAAAgh4XYAAy+sdDK9+AqzwnDgrfAHfB1izN+3VzW/Pc0SuqFlKr3WtE76Qx89s+PQk7fwjcSP3+X1aq3hBNnL3eFspHwEEEEAAAQQQQAABzwoQYHm2dRkqnAArQ1ycHIaA7wOsMSt+1X0fLXYobm5QVk9fWzMMGn+ccuf7CzVxzS5nMu/eVk+tqpbwx+SYBQIIIIAAAggggAACCHhOgADLcy3LVMEEWJli46I0BHwfYH0y/2c9/vUKh+BfLSro0Q5VA7MoXpq4Xi9N3ODMt1ebyurZplJg5s9EEUAAAQQQQAABBBBAwC4BAiy7+hGtagiwoiUb3Pv6PsB6Y+om/d/YtU6H+1x+ke667MLAdHzSml264/2FznzbXFRCI/9ZLzDzZ6IIIIAAAggggAACCCBglwABll39iFY1BFjRkg3ufX0fYA0ds0Yjpm12OvzsdRfrhnplAtPx3X8cUf2nJznzLVkor+Y+0Tow82eiCCCAAAIIIIAAAgggYJcAAZZd/YhWNQRY0ZIN7n19H2A99uVyfbZwm9Pht7rVVbvqJQPV8fpDJmr3waPOnBf0aaNiBfMEyoDJIoAAAggggAACCCCAgB0CBFh29CHaVRBgRVs4ePf3fYB1z4cLNW5V4ibmn9/TSPXLnxuoTt8xaoEmrd3tzPm92y5Vy6rFA2XAZBFAAAEEEEAAAQQQQMAOAQIsO/oQ7SoIsKItHLz7+z7A6jJijuZt+c3p7Phel6lyiYKB6vSLE9br5UmJG7n3bF1JvdpWDpQBk0UAAQQQQAABBBBAAAE7BAiw7OhDtKsgwIq2cPDu7/sAq8NL07V250Gns/OfaK3ihfIGqtNT1u3W7e8tcObcokoxjbq9fqAMmCwCCCCAAAIIIIAAAgjYIUCAZUcfol0FAVa0hYN3f98HWA2fnqSdfxxxOrtucAflyZkjUJ3+7dAx1Rk0wZnzOflyafFTbZUtG/9LCdRCYLIIIIAAAggggAACCFggQIBlQRNcKIF/bbqAHLAhfB9gVX1qjI4cP3W6rfly59DqgR0C1uKE6TZ/boq27jvszH3qIy10QVHTfg4EEEAAAQQQQAABBBBAwD0BAiz3rGM5EgFWLPX9ObavA6wjx0+q6lNjnc6dVzivZj/e2p+dTGdWPT9dotFLdzhnvdTlEnWqXTqQFkwaAQQQQAABBBBAAAEEYidAgBU7ezdHJsByUzsYY/k6wNp54IgaDp3kdPKiUoU0pmezYHQ22Szfm7VFA75b7fz0tsYXqP/V1QNpwaQRQAABBBBAAAEEEEAgdgIEWLGzd3NkAiw3tYMxlq8DrLU7/1CHl2Y4nWx0YRF9cnfDYHQ22SwX//y7Or8+2/npJWXO1v96NAmkBZNGAAEEEEAAAQQQQACB2AkQYMXO3s2RCbDc1A7GWL4OsOZu3qcb35rrdLJjjZJ645a6wehsslma1ylr9h+n4yfjT3+SO0d2rRjQLnAb2gey+UwaAQQQQAABBBBAAAGLBAiwLGpGFEshwIoibkBv7esAa+zKnbr3v4uc1t5Uv4yGdr44oK2Wrhk+U8u2H3DmP7pHE9Uqc3ZgPZg4AggggAACCCCAAAIIuC9AgOW+eSxGJMCKhbq/x/R1gPXZgp/12FcrnA7e27yC/tOxqr87msbs+o1eqffnbHXOGHB1df2z8QWB9WDiCCCAAAIIIIAAAggg4L4AAZb75rEYkQArFur+HtPXAdaIaZs0dMxap4OPd6yqe5pX8HdH05jd14u366HPlzlnXFu7tF7scklgPZg4AggggAACCCCAAAIIuC9AgOW+eSxGJMCKhbq/x/R1gPV/Y9fqjambnA7+3z9qqsulZf3d0TRmt3lPnFoNm+accWHR/Jr8SIvAejBxBBBAAAEEEEAAAQQQcF+AAMt981iMSIAVC3V/j+nrAOvxr5frk/nbnA6+eUtddahR0t8dTWN28fHxumTgBB3487hz1rK+7VQ4X67AmjBxBBBAAAEEEEAAAQQQcFeAAMtd71iNRoAVK3n/juvrAOu+/y7SmJU7ne59endDNbywiH+7GcbMbn13vqav3+Oc+X73+mpeuVgYV3IKAggggAACCCCAAAIIIJB1AQKsrBt64Q4EWF7okrdq9HWAddNbczVn8z6nI2P/3UxVSxbyVociXO0L49fplckbnbv2alNZPdtUivAo3A4BBBBAAAEEEEAAAQQQSFmAACsYK4MAKxh9dnOWvg6wOr48Q2t+/cPxnPt4a5UsnNdNX+vGmrx2l7qPWujU1aJKMY26vb51dVIQAggggAACCCCAAAII+FOAAMuffU0+KwKsYPTZzVn6OsBqPHSSdhw44niuHdRBeXPlcNPXurF+P3RMtQdNcOoqlDenlvZtp+zZ+d+Ldc2iIAQQQAABBBBAAAEEfChAgOXDpqYwJf6FGYw+uzlLXwdY1fqO1eFjJ0975s2VXWsHdXTT1tqxWg+bqk17Djn1jfv3ZapSsqC19VIYAggggAACCCCAAAII+EeAAMs/vUxrJgRYweizm7P0bYB19MRJVXlyrGNZslBezX2itZu21o712JfL9dnCxG9nHHJtDXVtUM7aeikMAQQQQAABBBBAAAEE/CNAgOWfXhJgBaOXtszStwHW7j+OqP7TkxznqiULauy/L7PFPaZ1fL5wmx79crlTQ+fapfVCl0tiWhODI4AAAggggAACCCCAQDAECLCC0WeewApGn92cpW8DrPW7Dqrdi9Mdywblz9Vn9zRy09basTbviVOrYdOc+sqem0/TH21pbb0UhgACCCCAAAIIIIAAAv4RIMDyTy/TmgkBVtp9vkDSg5LaSCovKY+k3yQtk/SppA8kJWyIlPJRQtLDkq6WVFbSYUmrJI0K/YoPY5l1knSvpNqSCkvaIcm8xzZM0qYwro9EDWEM45zi2wBr/pbfdMOIOc5E21cvoRHd6mXExrfnxsfHq97gidp36Jgzx/l9Wqt4wWB/Q6NvG87EEEAAAQQQQAABBBCwSIAAy6JmRLEUAqzUcU1w9F9JJpBJ7Zgnyezi/XsKJ5hk4wdJxVO52IRQZoyjqXxuejNSUvdUPo+T1EXSj2nUl9UaMrP0fBtgjV+1U3d/uMgx6VKvjP7vuoszY+TLa+76YKEmrN7lzO2NrnXUsWYpX86VSSGAAAIIIIAAAggggIA9AgRY9vQimpUQYKWsa562Wm2+aE7Sbkn9JE0JBVUVJf1b0vWhS7+QdEOy2xSVZDYEMv963yeppySzeZJ5gur+0C9zyduS7k6lwU9IGhL67PPQ73+V1FDSy6EnwkyIVVfS+hTuEYkaMrP2fBtgJd/n6Z7LLtTjl1+UGSNfXjNi2iYNHbPWmdsdTcvrqSur+XKuTAoBBBBAAAEEEEAAAQTsESDAsqcX0ayEACtl3aclPS7pVCgwWpDCaV9J6hw6x7ymtzfJOc+HXh001zeRNDfZ9cMl9Qhda3a6XpHsc3M/83qgCYPMU1xXSUr6uqF5tXFl6PMvk4RpSW+T1Royu+58G2C9PX2zhvy4xnF5rENV3deiQmadfHfdoq2/6R9vJL5iWavM2Rrdwyx/DgQQQAABBBBAAAEEEEAgegIEWNGztenOBFgpd8OERpdLWiepaioNu1bS16HPzFNR5nVCc+SStCf0tNU3oZAr+S3M01G/SMot6bUkT2SdOa+3pGdDfzABl9lzK/nxgqReoRDMPOllnhQ7c0SihsyuU98GWM+NW6vXpiRuOza0c03dVN9sbcZhBI6eOKma/cfr2AmT20o5s2fTiv7tdVbuHAAhgAACCCCAAAIIIIAAAlETIMCKGq1VNybASrkdZ56uMo/bpPYO1DWS/he63DyGszn0+1ah1wXNH7tK+jiVjo+X1FbSttAG70lPM19110zSBkmVU7m+saRZoc/ukPRukvMiUUNmF6pvA6wnvlmhj+f97Liwx9Pfl8h1b8zWwq2JW8J9endDNbywSGbXEtchgAACCCCAAAIIIIAAAukKEGClS+SLEwiwUm5jH0mDQ98waL79L/krfuaqjyTdHAqZzFNaCY+dSI9Iei70e7NfVmrfFDhI0pOh84olewXxoKQCoU3ku6Wy0sw3Ih6SZB5vSf4UVyRqyOwC922A1eOjxfphhdmGLOH4+K4GalzBPEzHcUZg6Jg1GjHtTJYr9W5fRT1amr8GHAgggAACCCCAAAIIIIBAdAQIsKLjattdCbBS7sg5oY3RTTphHrkx+2GZTdz3SzJPW5lN2e+U9GdofyqzQfuZw2zMbj4zgZYJmU6k0nTz7YLvhD5rmuRpqtKStod+PjC0gXxq68bUVkbSxNDTXJGqISvr1LcBVteRczVro9mTP+H48cFmqnZeoaxY+e5a8y2E5tsIzxzNKhXVh3c08N08mRACCCCAAAIIIIAAAgjYI0CAZU8volkJAVbquubVQfMqYUp7YJlwanToKa3FyW5h9r3qFPr2wbQezzEbs38buta8jnjm97UkLQ39/AFJZsP31I5FkupIWhL675nzslpDemvOhFSpHfnO7McV9//s3Qd0FdXaxvEnCaEjvaj0Lqh0kCYdu6CI9QL2ildR9KpgQ7l6VVQU7CKWe218dlHpHUQ6iHRQQOmIBKQl+daGyZCEnLRzzpwp/1mLZeTMzH73752AeZzZk5SkYsWy2zWnYdz1+QUvTdfPv/9lFzXrgc46pVQRdxUZ42r27D+sxk+MU6r1yoEiiQla/Gh3FSwQH+PKGB4BBBBAAAEEEEAAAQT8KkCA5dfOZpwXAVb2fa4nabT1JsLMe5o3Ez6dbiH3tM/T1rYyi7RXzub0XSWNtz5Pv1ZW+rWtbpL0VjbnmGG95TDzWlnh1pDT1Z/+jYgh9/VbgNX26Una/Ke56e7YtnzIOSpasEBOVoH7/MKXp2vZ5uNB35hbW6t59TKBc2DCCCCAAAIIIIAAAggg4IwAAZYzzrEehQArdAcetR7fM28UNGtV/SApyVpU/R5Jva1D70+35pX5rXDDIwKsWH9XhBj/9Ed/UNLBY0+EmjuKVj5xruLi+BbKzPXkN8v11oz19m8P7F5X/TvXcWlXKQsBBBBAAAEEEEAAAQS8LkCA5fUO5q5+fvrO2ukBSU9J2m89mrcyi93MW/+us9a6apbusb9wH9/jEcLcXbuO7nXoSIrqDv7OHrNCiUKaO8jcRMeWWWDiL1t1w7vH18FqW7us/nvjWUAhgAACCCCAAAIIIIAAAlERIMCKCqvrTkqAdWJLCkraKqmU9fieeYwvq808HrjR+uAFSeauLLOlLeKeLKlwNou435Du8cD8LuJuxjd1hFrEPb81hHOh+nIR9+17D6rFUMN8bKtbsbjGDegQjpNvj/3rwGE1fnycUqwHTQsViNeSx7qrUAHzwkw2BBBAAAEEEEAAAQQQQCCyAgRYkfV069kIsE7sTGNrUXTzye2SXs2meSboqiDpe0nnWfsNTPdIoXlj4boQxz8paZD1WXlJO6yvTU/MAkLFJb0vqW+I480bDvdJMqnASEn90+0Xbg3hXK++DLDWbNurrs9Ps11aVi+jT25tHY6Tr4+9eMQMLdm0x57jJ7e0VssarIPl66YzOQQQQAABBBBAAAEEYiRAgBUjeIeHJcA6EdykErOs384pwNomyYRPYyVdYB3TWdJE6+urJX0Yoqdpa2WZu6iqZtrHJCXtJa2SZBaSz2pLv1aWuZvLPNKYtkWihvxeir4MsOZt2KXLXpttm3RrUFFv9m2eXyPfH/fU2F/0+rTj2e2ArnV1V1fWwfJ945kgAggggAACCCCAAAIxECDAigF6DIYkwDoRvUa6u6bMGwBDPUJYRdJv1uGvSbrN+jpRkln4vaT1hsJeWfS1nCTzlkLzuGLmu6fM7vdJesY67kxJS7M4x/OSBlhrcJ0syYRpaVskasjv5ejLAGvC8q268b3j6zr1blZZz/Y2y5WxZSUwecU2XTfavKjz2Na6Zll9eDPrYHG1IIAAAggggAACCCCAQOQFCLAib+rGMxJgZd0Vc+uICbLMIu7mkcLVWeyWtoi7+egSSV+k2+c5SfdKMmtQmTul5mY6foSkOySZVYJMCpI5oKpohWhFJX0t6eJMx1eXtEySCYvGpHsjYvrdwq0hv9erLwOsMfM3aeCni22Tm9rX0KALGuTXyPfH7TXrYA0Zr2SIf18rAAAgAElEQVRrISzz1sYlj3ZX4UTWwfJ985kgAggggAACCCCAAAIOCxBgOQweo+EIsLKGv17S29ZHWyQNlmQe+Usy63db4VRv6/OFksyzZCnpTmXusFoiydwZZda2ust6rPAkSXdav8zuZsH3m0P0/iFJQ63PPra+NrW0kvSSFbCZeswbEM2jhpm3SNSQn8vSlwHWW9PX6clvf7E97junnu7oVDs/PoE5psfImVq88U97vh/edJZa1yobmPkzUQQQQAABBBBAAAEEEHBGgADLGedYj0KAFboDZpF1EyJlZ/SzpPPTPUqY/mwm1PrWWuQ9q1HMwu89JR0MUYIZ1zzCaMK0rDYTXl1hrb8Vahbh1pCf69OXAdZzP6zUiMlrbI+hl5yua1pVy49PYI55+rsVem3qWnu+d3WpowHdTP7LhgACCCCAAAIIIIAAAghEToAAK3KWbj4TAVb23TEB0K2S2kmqLMm8+W+3dXeVeXRvtKQD2ZzCPApo3ghoHgE0a2b9LcmEXu9Yx5pHCHPazOOJt0hqKsncwfW7pB8kmUcEj6cDoc8SiRpyqjH9574MsAZ/sVQfzElb8kwaeXVTXXCmucGOLZTA1FXb1W/U8adnzVsIzdsI2RBAAAEEEEAAAQQQQACBSAoQYEVS073nIsByb2+8WpkvA6z+/1ugb5b8Yffkvze2Utva5ilNtlAC+w4eUaPHx+lI2jpYCfFa8hjrYHHFIIAAAggggAACCCCAQGQFCLAi6+nWsxFgubUz3q3LlwFWn7d/1PTVZjmzY9s3d7bT6aeaF02yZSdw6SszteC34+tgfXBDK7WrQ/DHVYMAAggggAACCCCAAAKREyDAipylm89EgOXm7nizNl8GWBe9PENLN++xOzLjX51UubR5SSRbdgKZ1w67+eyaeuj800BDAAEEEEAAAQQQQAABBCImQIAVMUpXn4gAy9Xt8WRxvgyw2j8zSRt3mSXMjm3LHj9HxQsV8GSDnCx67vpduvz12faQ9SuV0Pd3n+1kCYyFAAIIIIAAAggggAACPhcgwPJ5g63pEWAFo89OztKXAdYZj/2gvQeOHHUsEB+n1UPPU1wc3z45XViHk1PUZMh4JR08Zme2Hx/qooonFc7pUD5HAAEEEEAAAQQQQAABBHIlQICVKybP78RP4J5voesm4LsA60hyimoP+s6GLle8kOYN7uo6eLcWdPN78zRu+Va7vGcvO1O9m5uXcrIhgAACCCCAAAIIIIAAAuELEGCFb+iFMxBgeaFL3qrRdwHWzqSDavbkBLsLtSsU14R7OnirKzGs9oM5v2rwF8vsCi5qdIpevqpJDCtiaAQQQAABBBBAAAEEEPCTAAGWn7oZei4EWMHos5Oz9F2AtXZ7kroMm2obNq9WWmNua+OkqafH2rhrv9o/M9meQ+miiZo3uJsS4vnjx9ONpXgEEEAAAQQQQAABBFwiQIDlkkZEuQx+gowycABP77sAa/6vu9Xr1Vl2K7ueVkFv9WsRwNbmf8qdnpui9Tv22Sf48o62alSlVP5PyJEIIIAAAggggAACCCCAgCVAgBWMS4EAKxh9dnKWvguwJq3YqutHz7MNezWtrGGXN3LS1PNjPfrlMr07+1d7Hvd2q6s7u9Tx/LyYAAIIIIAAAggggAACCMRegAAr9j1wogICLCeUgzWG7wKszxZs0j2fLLa7eEO7Gnr4wgbB6mqYs534y1bd8O7xELBF9dL69FYewwyTlcMRQAABBBBAAAEEEEBAEgFWMC4DAqxg9NnJWfouwBo1Y72GfLPcNuTuobxfTvsOHlHjIeN0ODn16MFm/auFj3TTSYUT834yjkAAAQQQQAABBBBAAAEE0gkQYAXjciDACkafnZyl7wKs58et1EuT1tiGT/Q8XX3OquakqS/GuvrNOZq1dqc9lxFXN9GFZ57ii7kxCQQQQAABBBBAAAEEEIidAAFW7OydHJkAy0ntYIzluwDrkS+X6b106ze9fFUTXdSI4CWvl/Nb09fpyW9/sQ+7pMmpeuGKxnk9DfsjgAACCCCAAAIIIIAAAhkECLCCcUEQYAWjz07O0ncB1j8/XKivFv9uG75/Q0u1r1PeSVNfjGXeQmjeRpi2lSySqPmDu6pAQrwv5sckEEAAAQQQQAABBBBAIDYCBFixcXd6VAIsp8X9P57vAqy+o+Zq2qrtdue+7t9OZ1Qu6f9ORmGGXYZN0drt++wzf3zzWWpVs2wURuKUCCCAAAIIIIAAAgggEBQBAqxgdJoAKxh9dnKWvguweoyYocWb9tiG0+/vpCplijpp6puxnvruF70+dZ09n5va19CgC3ijo28azEQQQAABBBBAAAEEEIiBAAFWDNBjMCQBVgzQfT6k7wKsDs9O1q8799ttW/JYd96el8+L+KcNu9T7tdn20TXLFdOkgR3zeTYOQwABBBBAAAEEEEAAAQQkAqxgXAUEWMHos5Oz9F2A1ejxcdrz9+GjhgnxcVoz9DzFxfGtk5+LKjklVc2fHK/d+495mm3ivR1Uq3zx/JyOYxBAAAEEEEAAAQQQQAABAqyAXAP8FB6QRjs4TV8FWCZwqT1orFJTjwmWLVZQ8x/u5iCn/4a655NF+mzBZntiD51fXzefXct/E2VGCCCAAAIIIIAAAggg4IgAd2A5whzzQQiwYt4C3xXgqwBr975DavLEeLtJNcsX06R7eeQtnKv2u6V/6Lb/LrBP0bJ6GX1ya+twTsmxCCCAAAIIIIAAAgggEGABAqxgNJ8AKxh9dnKWvgqw1u/Yp07PTbH9mlYtpc9ub+ukp+/GSjp4RE2HjNeh5JSjc4uPk+YP7qbSxQr6bq5MCAEEEEAAAQQQQAABBKIvQIAVfWM3jECA5YYu+KsGXwVYC3/brUtemWV3qHP9Chp1bQt/dSwGs+nz9o+avnqHPfKw3o3Uq1nlGFTCkAgggAACCCCAAAIIIOB1AQIsr3cwd/UTYOXOib1yL+CrAGvyym267p2f7Nlf2uRUPX9F49xrsGeWAu/N3qBHvvzZ/qxbg4p6s29ztBBAAAEEEEAAAQQQQACBPAsQYOWZzJMHEGB5sm2uLtpXAdYXCzfr7o8X2eDXta2uRy9q6OoGeKG4LXsO6KynJtqlFioQrwUPd1OxQgW8UD41IoAAAggggAACCCCAgIsECLBc1IwolkKAFUXcgJ7aVwHW6Jnr9djXy+1WDuhaV3d1rRPQ1kZ22pe+MlMLfvvTPumIq5vowjNPiewgnA0BBBBAAAEEEEAAAQR8L0CA5fsWH50gAVYw+uzkLH0VYL0wfpWGT1xt+w3p0VB9W1d30tO3Y705bZ2Gjv3Fnt8FZ5yskdc09e18mRgCCCCAAAIIIIAAAghER4AAKzqubjsrAZbbOuL9enwVYD321c8aPWuD3ZXhVzZWj8aner9LLpjBxl371f6ZyXYlRQsmHH2MsHBigguqowQEEEAAAQQQQAABBBDwigABllc6FV6dBFjh+XH0iQK+CrDu/mihvlj0uz3Ld69vqQ51y9P3CAlc9PIMLd28xz7b632a6ZyGlSJ0dk6DAAIIIIAAAggggAACQRAgwApCl3mEMBhddnaWvgqwrn1nrqas3G4LfnlHWzWqUspZUR+PNnLyGj37w0p7hj0bn6IXr2zi4xkzNQQQQAABBBBAAAEEEIi0AAFWpEXdeT7uwHJnX7xcla8CrJ4jZ2rRxuMLjU+9r6OqlTVTZIuEwLrtSeo8bKp9qhKFCmjew11VqACPEUbCl3MggAACCCCAAAIIIBAEAQKsIHSZO7CC0WVnZ+mrAKvTc1O0fsc+W3DxI91Vsmiis6I+H+3cF6dpxZa99izf7tdcXU6r6PNZMz0EEEAAAQQQQAABBBCIlAABVqQk3X0e7sByd3+8WJ2vAqwmQ8Zp9/7DR/sQHyetGXq+4s0XbBETGD5htV6YsMo+H48RRoyWEyGAAAIIIIAAAgggEAgBAqxAtFn8JB6MPjs5S98EWCkpqao9aKxSUo/xlS6aqIWPdHfSMhBjrd2epC7pHiM0byOcP7ibihTkMcJAXABMEgEEEEAAAQQQQACBMAUIsMIE9MjhBFgeaZSHyvRNgLVn/2E1GjLOpq9RrpgmD+zooVZ4p9QLXpqun3//yy54xNVNdOGZp3hnAlSKAAIIIIAAAggggAACMRMgwIoZvaMDE2A5yh2IwXwTYP26c586PDvFblrjKqX0xR1tA9FEpyf5+tS1euq7Ffaw3RtU1Bt9mztdBuMhgAACCCCAAAIIIICABwUIsDzYtHyUTICVDzQOyVbANwHW4o1/qsfImfZkO9Yrr9HXtaT9URDY/Offavv0JPvMBRPi9dPgripZhAXzo8DNKRFAAAEEEEAAAQQQ8JUAAZav2hlyMgRYweizk7P0TYA1ddV29Rs117ZjcfHoXka9X5ulnzbstgd55rIzdXnzKtEdlLMjgAACCCCAAAIIIICA5wUIsDzfwlxNgAArV0zslAcB3wRYXy7arLs+WmRP/do21fXYxQ3zQMGueRF4f/YGPfzlz/Yh7euU0/s3tMrLKdgXAQQQQAABBBBAAAEEAihAgBWMphNgBaPPTs7SNwHWu7M26NGvjgcqd3WpowHd6jppGaixdiYdVMt/T1Sy9drH+Djpx4e6qnyJQoFyYLIIIIAAAggggAACCCCQNwECrLx5eXVvAiyvds69dfsmwBo+YbVemLDKln7soga6tm0N98r7oLK+o+Zq2qrt9kyG9Giovq2r+2BmTAEBBBBAAAEEEEAAAQSiJUCAFS1Zd52XAMtd/fBDNb4JsB7/+me9M3OD3ZMXr2isnk1O9UOPXDuHMfM3aeCni+36mlcrrTG3tXFtvRSGAAIIIIAAAggggAACsRcgwIp9D5yogADLCeVgjeGbAOuejxfps4Wb7e69c10LdapXIVjddHi2ew8cVrMnJ+jQkRR75Gn3dVLVskUdroThEEAAAQQQQAABBBBAwCsCBFhe6VR4dRJghefH0ScK+CbAun70T5q0Yps9w89vb6MmVUvT8ygL3PbBfH23bIs9yt1d6+jurqw9FmV2To8AAggggAACCCCAgGcFCLA827o8FU6AlScuds6FgG8CrEtfmakFv/1pT3nywI6qUc5Mjy2aAhOWb9WN782zh6hapqim3tdRcXH8cRVNd86NAAIIIIAAAggggIBXBQiwvNq5vNXNT4R582LvnAV8E2B1HjZF67bvs2e88OFuKl2sYM4C7BGWwOHkFJ3174naue+QfZ5Pb22tFtXLhHVeDkYAAQQQQAABBBBAAAF/ChBg+bOvmWdFgBWMPjs5S98EWE2fGK9dVohibv5ZM/R8JcTzLePExZR5Af0rW1TR073OdGJoxkAAAQQQQAABBBBAAAGPCRBgeaxh+SyXn8bzCcdhIQV8EWClpqaq9qDvlJySenSiJYskavGj3Wm7QwLLNu/RhS/PsEcrUaiAfhrcVYUTExyqgGEQQAABBBBAAAEEEEDAKwIEWF7pVHh1EmCF58fRJwr4IsD668BhnfnYOHt2Zh2mafd3ot8OCZgA8bzh07Viy157xOFXNlaPxqc6VAHDIIAAAggggAACCCCAgFcECLC80qnw6iTACs+Po30aYP22c7/OfnayPbtGlUvqy/7t6LeDAm9MW6t/j11hj9ihbnm9e31LBytgKAQQQAABBBBAAAEEEPCCAAGWF7oUfo0EWOEbcoaMAr64A2vJpj918YiZhCcxvLq3/XVAZz01UdZTnDLLj81+sIsqnlQ4hlUxNAIIIIAAAggggAACCLhNgADLbR2JTj0EWNFxDfJZfRFgTVu1XX1HzbX72KPxKRp+ZZMg9zUmc7/2nbmasnK7PfaD59XXLR1qxaQWBkUAAQQQQAABBBBAAAF3ChBgubMvka6KACvSopzPFwHWl4s2666PFtnd7Ne6mh7vcTrddVjg68W/684PF9qj1q1YXD/cfbbizGsh2RBAAAEEEEAAAQQQQAABSQRYwbgM+CkwGH12cpa+CLDem71Bj3z5s+12V5c6GtCtrpOOjCXpwOFktRg6QXsPHLE9vu7fTmdULokPAggggAACCCCAAAIIIHBUgAArGBcCAVYw+uzkLH0RYA2fsFovTFhluz16UQNd17aGk46MZQk8+NkSfTh3o+1xbZvqeuzihvgggAACCCCAAAIIIIAAAgRYAboGCLAC1GyHpuqLAOvxr3/WOzM32GQvXtFYPZuc6hAhw6QXmLdhly57bbb9W2WKFdScB7uoYIF4oBBAAAEEEEAAAQQQQAAB7sAKyDVAgBWQRjs4TV8EWAM+XqTPF2622d65roU61avgICNDpQmkpqaq03NTtGHnfhvljT7N1L1hJZAQQAABBBBAAAEEEEAAAQKsgFwDBFgBabSD0/RFgHXdO3M1Od3b7764o60aVynlICNDpRd4aeJqPT/++COd5zSsqNf7NAcJAQQQQAABBBBAAAEEECDACsg1QIAVkEY7OE1fBFiXvDJTC3/702abMrCjqpczU2OLhcDGXfvV/pnJ9tCJCXGa+1BXlS5WMBblMCYCCCCAAAIIIIAAAgi4SIBF3F3UjCiWQoAVRdyAntoXAZZ5ZG39jn12Cxc90k2lihKWxPKavuL12fpx/S67hCE9Gqpv6+qxLImxEUAAAQQQQAABBBBAwAUCBFguaIIDJRBgOYAcsCF8EWA1GTJOu/cfPtq6uDhp7dDzFR/Pt0ssr+VP5m3U/WOW2CU0qlxSX/ZvF8uSGBsBBBBAAAEEEEAAAQRcIECA5YImOFACP5E7gBywITwfYKWkpKr2oLFKST3WuVJFE7Xoke4Ba6P7ppt08IhaPDlBfx9OtoubcM/Zql2hhPuKpSIEEEAAAQQQQAABBBBwTIAAyzHqmA5EgBVTfl8O7vkAa8/+w2o0ZJzdnBrlimnywI6+bJbXJpX57ZC3dKipB887zWvToF4EEEAAAQQQQAABBBCIoAABVgQxXXwqAiwXN8ejpXk+wNqwY586PjfF5jdvHzRvIWSLvcCM1Tv0j7d/tAspV7yQZj/YWYkJ8bEvjgoQQAABBBBAAAEEEEAgJgIEWDFhd3xQAizHyX0/oOcDrEUb/1TPkTPtRnWqV17vXNfS943zwgTN453mbYSb//zbLveNPs3UvWElL5RPjQgggAACCCCAAAIIIBAFAQKsKKC68JQEWC5sisdL8nyANWXlNl37zk92Gy5pcqpeuKKxx9vin/JfnLBKL05YbU+o62kV9Fa/Fv6ZIDNBAAEEEEAAAQQQQACBPAkQYOWJy7M7E2B5tnWuLdzzAdYXCzfr7o8X2cDXta2uRy9q6FrwoBVm7r5q959JSrUW2U+Ij9PsBzqrwkmFg0bBfBFAAAEEEEAAAQQQQEASAVYwLgMCrGD02clZej7AGj1zvR77erltNqBrXd3VtY6ThoyVg0Cft3/U9NU77L3uP7eebu9YGzcEEEAAAQQQQAABBBAIoAABVjCaToAVjD47OUvPB1gvjF+l4ROPP6L2+MUN1a9NdScNGSsHgW+W/K7+/1to72XeFDnp3g6Ki+OPNC4eBBBAAAEEEEAAAQSCJkCAFYyO89NeMPrs5Cw9H2A99tXPGj1rg202/MrG6tH4VCcNGSsHgYNHknXWvydq9/7D9p6f3NJaLWuUwQ4BBBBAAAEEEEAAAQQCJkCAFYyGE2AFo89OztLzAdZdHy3Ul4t+t83evb6lOtQt76QhY+VC4PGvf9Y7M48Hjb2aVtawyxvl4kh2QQABBBBAAAEEEEAAAT8JEGD5qZuh50KAlbs+nyOpn6TWkipJ2i9ps6Q5kj6T9H2I01SUdK+kiyVVtY77WdJo65e1DHW2RfSUdKukJpJKSjLJihlvmKS1uSg/EjXkYhh7F88HWP1GzdXUVdvtCX3Vv63OrFwqLwbs64DAL3/8pfOGT7dHKpKYoLmDuqhE4UQHRmcIBBBAAAEEEEAAAQQQcIsAAZZbOhHdOgiwsvc1Ycx7ki7NZrepkjpm8XlzSd9KqhDiWBNCmXDqYIjPTW/eknR9iM+TJF0haWw2tYVbQ36uPs8HWD1GztTijX/ac592XydVLVs0PxYcE2WBi0fM0JJNe+xR/n3JGbq6lcmK2RBAAAEEEEAAAQQQQCAoAgRYweg0AVboPheU9IMVTh2S9JKkTyStl2Ru8WggqZckc4eT+Wf6rZykJZJOlrRT0l2SJlp3UPWXZH6Z7U1JN4co4SFJQ63PzLjm6z8knSVpuKQakkyI1UzSqizOEYka8vNd4PkAq8Ozk/XrTnOT3bFtyWPddRJ39eTnWoj6MR/M+VWDv1hmj9OoSil9eUfbqI/LAAgggAACCCCAAAIIIOAeAQIs9/QimpUQYIXWfUTS49Zjf+YRwhl5aMRz1qODKZLMT9PmUcP02whJd0gynzeWtDTT5yYUM48HmjDI3MV1kaT0jxuaV+KZn9rN52Mk9c6itnBryMN0M+zq+QCr0ePjtOfvY4uDJ8THac3Q83i7XX6vhigf99eBw2o5dIIOHDbfSse2H+4+W/UqlYjyyJweAQQQQAABBBBAAAEE3CJAgOWWTkS3DgKsrH3LStokqbCkByU9nYc2mLuzzAJKZr2qz0M8fmjujjJraJm7vEamuyMrbZj7JD1j/YsJuBZnMf7zkgZYIZi502tbun0iUUMeppxhV08HWMkpqao9aKxSrbiwbLGCmv9wt/xacJwDAvd8vEifLTTfTse269vW0CMXmRsk2RBAAAEEEEAAAQQQQCAIAgRYQeiyRICVdZ/vlvSCJPPooLkb6viCSDlfF52txwXNntdI+l+IQ8ZJMsnIRmuB9/S7TZPUXtJqSXVDHN9G0kzrsxskjUq3XyRqyHmmWe/h6QBr975DavLEeHtmNcsX06R7s1riLL88HBdpgTnrdurKN47f5Fi6aKLmPNRFhQokRHoozocAAggggAACCCCAAAIuFCDAcmFTolASAVbWqGaBdfPYoAmI2qXbxfxEbJ5Vyu7tgQMlPWsdUzubNwU+IWmwtV95STvSjbNXUnFJH0jqE6LvhSTtM0+5ZXEXVyRqyO/l5ukAa/2Ofer03BR77k2rltJnt7OmUn4vBieOS01NPdqzDenWLXvlmqY6/wxzYyIbAggggAACCCCAAAII+F2AAMvvHT42PwKsrPtsHgE0j/mZRdbNgusmEOonqZa1+zrr8UATVKUPnszH5pgbraDLhExHQlxK5u2Cb1ufmZAs7W6qU63HF81HQyQ9ms2l+JukKpImWHdzpe0abg3hXP2eDrAW/LZbl74yy55/l/oV9Pa1LcLx4FgHBEZOXqNnf1hpj9S+Tjm9f0MrB0ZmCAQQQAABBBBAAAEEEIi1AAFWrDvgzPgEWCc6F7EWbjefmPWpTHrRMkQ7zFsBz8u0RpVZ96qn9fZBE4KF2szC7F9ZH/ZI93UjSYus379TklnwPdQ2X1JTSQutf6btF24NOV19JqQKtRVNW48rKSlJxYplt2tOwzj/+eQV23Td6J/sgS9teqqev9wsQ8bmZoGtfx1Qm6cnyaxhlrZNva+jqpX11vXnZmNqQwABBBBAAAEEEEDArQIEWG7tTGTrIsA60bOSJBNMmc2sgWUWWv8/642E5hYPsyaWucPKPP4XL+lXSWdIMo/9mS1tbSuzqnTlbNrVVVLaYkvp18pKv7bVTZLeyuYc5s2I5vm2zGtlhVtDTldZdo9Q2sd6McD6bMEm3fPJ8TXzb2hXQw9fyILgOV0Qbvj85vfmadzyrXYpt3aopQfOq++G0qgBAQQQQAABBBBAAAEEoihAgBVFXBedmgDrxGacYr0hMO0Tc5eUuaMqc2hzr6TnrJ3MI4bDCLAyYnoxwBo1Y72GfLPcnsi93erqzi51XPQtSymhBKau2q5+o+baH5s3SM56sDOLuXPJIIAAAggggAACCCDgcwECLJ832JoeAdaJfS6Z6a2DaY/oZd7T3Jn1u6SykqZLOtvaIdzH93iEMIbfe8+PW6mXJq2xK3ii5+nqc1a1GFbE0LkVSElJVYfnJmvjrr/tQ166qokubmQyaTYEEEAAAQQQQAABBBDwqwABll87m3FeBFgn9tk8Fmh+AjYBVZKkk7J56+C3ks7PtN5V2gLqyZIKZ7OI+w3pHg/M7yLuG63HFEMt4p7fGsK5+j29iPsjXy7Te7PNU6HHtpevaqKLCEDCuR4cPfaVKWv0zPfHF3M/q2YZfXRza0drYDAEEEAAAQQQQAABBBBwVoAAy1nvWI1GgJW1/FJJp1tvAzRv+Qu1fSDJrF912Aq8zH7mcULzdkKzmbcWmjcWZrU9KWmQ9UH5dG8zND35S1JxSe9L6hviePOGw32SEqzF5s3bEtO2cGsI53r0dID1zw8X6qvF5sa6Y9sHN7RSuzrZrcUfDhXHRlpg+96DavP0RB1OPv7E74R7Oqh2BfPtxIYAAggggAACCCCAAAJ+FCDA8mNXT5wTAVbWfX5H0rVWQFQimzuwvpN0rhU+mRDKbJ0lTbS+vlrShyEupbSF1s1dVFUz7TNNUntJqyTVC3F8+sXezd1co9LtF4ka8vsd4OkAq8/bP2r66h323L+5s51OP9U8VcrmFYE7/rdA3y5Jew+DxEL8XukcdSKAAAIIIIAAAgggkD8BAqz8uXntKAKsrDtmFm03a1mZraWkn7LYzdwBZX5KLi0p/SN8iZK2SzKpx2eSemVxrLmlx7yl0DymOFJS+runzO73SXrGOu5MSeaOsMzb85IGSEqRdLKkbel2iEQN+b2WPR1gXTxihpZs2mPPffr9nVSlTNH8WnBcDARmrd2hq9/80R65ZJFE/fhQFxVONDcrsiGAAAIIIIAAAggggIDfBAiw/NbRrOdDgJW1iwmWVkiqIekHa50rExSl3wZLesL6jRslvZ3uQ/N2QvOWQrMGlblT6vir0Y7tNELSHdadXWbR9swBVUXr0RkBbeYAACAASURBVEOTnHwt6eJMY1eXtEySCYvGSOqdxTTCrSG/3wGeDrDaPzMpwyLgyx4/R8ULFcivBcfFQCA1NVVdhk3Vuh3mCdtj27DejdSrWeUYVMOQCCCAAAIIIIAAAgggEG0BAqxoC7vj/ARYofvQw7oLyxiZRwWHSDKrQ5twyQRW90gyn82XZFaJNutgpW3mDqsl1p1R5nm0u6zHCs2C8Hdav8y+ZsH3m0OU8JCkodZnH1tfb5HUStJLVrhmFplvZj1qmPk0kaghP1eppwOsMx77QXsPHDk67wLxcVo99DzFxfFtkp8LIZbHvDV9nZ789he7hGbVSuv/bjNZMhsCCCCAAAIIIIAAAgj4TYAAy28dzXo+/GSefZ//aW7eMFlGiN0WSbrQehww8y7NJZm3FFYIcez3ksyjigdDfG5685ak60N8bsKrKySNzWYK4daQn+8CzwZYR5JTVHuQySqPbeWKF9K8wV3zY8AxMRbYve+QWj01UYeOHL9x8ru72uu0k02GzIYAAggggAACCCCAAAJ+EiDA8lM3Q8+FACvnPje17qDqKKmSpP3WI38fWQHToWxOYe7WMm8ENI8AmrcZ/i3pZ0lmkfjR2SwOn/6Ul0i6RZKpw/z0bV6RZx5rNI8Irs25/KN3jIVbQy6GsXfxbIC1M+mgmj1pljM7tpk315k32LF5U2DAx4v0+UKz1Nyx7epWVfXvS87w5mSoGgEEEEAAAQQQQAABBEIKEGAF4+IgwApGn52cpWcDrLXbk46unZS2taheWp/eymNnTl48kRxr3oZduuy12fYpCyfGa/YDXVS6mFnijg0BBBBAAAEEEEAAAQT8IkCA5ZdOZj8PAqxg9NnJWXo2wJr/6y71evV44NH1tIp6q595CpPNiwJmMfeLRszQss1/2eXfd0493dGpthenQ80IIIAAAggggAACCCAQQoAAKxiXBgFWMPrs5Cw9G2BN/GWrbnh3nm11WbPKeq63eUkkm1cFvli4WXd/bJaqO7ZVKFFIM/7VWQULxHt1StSNAAIIIIAAAggggAACmQQIsIJxSRBgBaPPTs7SswHWp/M26r4x5uWRx7abz66ph84/zUk7xoqwgFnEvf0zk7T1r+PvSnjhika6pEnlCI/E6RBAAAEEEEAAAQQQQCBWAgRYsZJ3dlwCLGe9gzCaZwOsN6at1b/HrrB79K9z6+u2jrWC0DNfz3Hk5DV69oeV9hwbnnKSvrmzneLi+OPP141ncggggAACCCCAAAKBESDACkar+QkuGH12cpaeDbD+8/0KvTrl+Isdn770DF3ZsqqTdowVBYE/9x9S66cm6e/DyfbZP7r5LJ1Vs2wURuOUCCCAAAIIIIAAAggg4LQAAZbT4rEZjwArNu5+HtWzAdYD/7dEH/200e7N632a6ZyGlfzcq8DMbfAXS/XBnN/s+XZrUFFv9mWB/sBcAEwUAQQQQAABBBBAwNcCBFi+bq89OQKsYPTZyVl6NsC6+b15Grd8q2316a2t1aJ6GSftGCtKAuu2J6nzsKnH/+CLkybf21HVy5nLlQ0BBBBAAAEEEEAAAQS8LECA5eXu5b52AqzcW7Fn7gQ8G2D1fm2Wftqw257lhHs6qHaF4rmbNXu5XuCG0T9p4optdp39WlfT4z1Od33dFIgAAggggAACCCCAAALZCxBgBeMKIcAKRp+dnKVnA6yuz0/Vmm1JttX8wV1VtnghJ+0YK4oCs9bu0NVv/miPUCQxQXMe7KKSRROjOCqnRgABBBBAAAEEEEAAgWgLEGBFW9gd5yfAckcf/FSFZwOsZk+M1859h472wrygbvWT56lAQryfehPouaSmpur8l2bolz/+sh0eOK++bu3AmyYDfWEweQQQQAABBBBAAAHPCxBgeb6FuZoAAVaumNgpDwKeDLBSUlJVe9BYpaQem2mpoola9Ej3PEybXb0gMGb+Jg38dLFd6sklC2va/Z2USFDphfZRIwIIIIAAAggggAACWQoQYAXjwiDACkafnZylJwOsP/cfUuMh422nmuWKadLAjk66MZYDAgePJKvdfyZr+96D9mjPX95Ilzat7MDoDIEAAggggAACCCCAAALRECDAioaq+85JgOW+nni9Ik8GWOt37FOn56bY9k2rltJnt7f1ei+oPwuBlyeu1rDxq46HleWLafyADkqI549DLhgEEEAAAQQQQAABBLwoQIDlxa7lvWZ+Ysu7GUdkL+DJAGv+r7vV69VZ9sy6nlZBb/VrQa99KGDutjN3YSUdPGLPbviVjdWj8ak+nC1TQgABBBBAAAEEEEDA/wIEWP7vsZkhAVYw+uzkLD0ZYE1YvlU3vjfPdurdrLKe7d3ISTfGclDguR9WasTkNfaItcoX0zjuwnKwAwyFAAIIIIAAAggggEDkBAiwImfp5jMRYLm5O96szZMB1ifzNur+MUts8VvOrqkHzz/Nmx2g6hwFdu8zd2FN0r5Dyfa+L1/VRBc1OiXHY9kBAQQQQAABBBBAAAEE3CVAgOWufkSrGgKsaMkG97yeDLBen7pWT323wu7av86tr9s61gpuFwMw82e+X6FXpqy1Z1q3YnF9f9fZimctrAB0nykigAACCCCAAAII+EmAAMtP3Qw9FwKsYPTZyVl6MsB6+rsVem3q8TDjP73O0BUtqjrpxlgOC+yy7sLan+4urBFXN9GFZ3IXlsOtYDgEEEAAAQQQQAABBMISIMAKi88zBxNgeaZVninUkwHWv8Ys0cfzNtrIb/Rppu4NK3kGnULzJ5A5uKxZrph+GHC2EhPi83dCjkIAAQQQQAABBBBAAAHHBQiwHCePyYAEWDFh9/WgngywbnpvnsYv32o3ZsytrdW8ehlfN4rJSTuTDqr9M5OV/i6sxy9uqH5tqsODAAIIIIAAAggggAACHhEgwPJIo8IskwArTEAOP0HAkwHWZa/O0rxfd9uTmXBPB9WuUJz2BkBg+ITVemHCKnumpYsmaur9nXRS4cQAzJ4pIoAAAggggAACCCDgfQECLO/3MDczIMDKjRL75EXAkwFWl2FTtHb7PnueCx7upjLFCuZl3uzrUYH9h46o47NTtG3vQXsGt3aopQfOq+/RGVE2AggggAACCCCAAALBEiDACka/CbCC0WcnZ+nJAKvpE+NlFvU2W1yctGbo+UrgbXROXjcxHeuTnzbq/v9bYtdQsEC8Jt3bQZVLF41pXQyOAAIIIIAAAggggAACOQsQYOVs5Ic9CLD80EV3zcFzAVZySqrqDBqrlNRjkOYRsoWPdHeXKtVEVcBcAxe8NF0rtuy1xzm3YSW91qdZVMfl5AgggAACCCCAAAIIIBC+AAFW+IZeOAMBlhe65K0aPRdg7d53SE2eGG8rmzfRTRrY0VvqVBu2wLRV29V31NwM53mzb3N1a1Ax7HNzAgQQQAABBBBAAAEEEIieAAFW9GzddGYCLDd1wx+1eC7AWrc9SZ2HTbX1m1Urrf+7rY0/usEs8iRwy/vz9MPPx99GeUrJwhp/TwcVK1QgT+dhZwQQQAABBBBAAAEEEHBOgADLOetYjkSAFUt9f47tuQBr/q+71OvV2XY3up5WUW/1a+7P7jCrbAX+2PO3ug6bqn2Hku39bmxXQ4MvbIAcAggggAACCCCAAAIIuFSAAMuljYlwWQRYEQbldPJcgDV++Vbd9N48u3WXN6+sZy5rRCsDKvDOzPV6/Ovl9uzNWv6f395WjaqUCqgI00YAAQQQQAABBBBAwN0CBFju7k+kqiPAipQk50kT8FyAlfkNdLd0qKkHzzuNjgZUwCzo3nPkTC3dvMcWqFa2qL65s51KFE4MqArTRgABBBBAAAEEEEDAvQIEWO7tTSQrI8CKpCbnMgKeC7Bem7pWT3+3wu7eA+fV160datHNAAss27xHPUbOlAmz0rYejU/Ri1c0Vlwcf2wG+NJg6ggggAACCCCAAAIuFCDAcmFTolASP4lFATXgp/RcgPXUd7/o9anr7LY90+tMXd6iSsDbyPRfmbJGz3y/MgPEs5edqd7NuTa4OhBAAAEEEEAAAQQQcJMAAZabuhG9Wgiwomcb1DN7LsC6f8xifTJvk92vN/s2V7cGFYPaP+ZtCaSkpKrvqLmasWaHbVIkMeHoGyobnHISTggggAACCCCAAAIIIOASAQIslzQiymUQYEUZOICn91yAdeO78zThl612q/7vttZqVq1MAFvHlDMLbNt7QOcPn64dSYfsjyqdVFif39FGJ5csAhgCCCCAAAIIIIAAAgi4QIAAywVNcKAEAiwHkAM2hOcCrF6vztL8X3fbbZp4bwfVKl88YG1juqEEpq7armvfmavU48thqX6lEvr01tYs6s5lgwACCCCAAAIIIICACwQIsFzQBAdKIMByADlgQ3guwOo8bIrWbd9nt2nhw91UuljBgLWN6WYn8PaM9Xrim+UZdmlZo4zeubaFihUqAB4CCCCAAAIIIIAAAgjEUIAAK4b4Dg5NgOUgdkCG8lyA1WTIOO3ef/hoe+LjpNVDz1eC+YINAUsgNTVVj3+9XKNnbchg0qxaaY3q10IliyZihQACCCCAAAIIIIAAAjESIMCKEbzDw/JTusPgARjOUwFWckqqag8aaz8eVqZYQS14uFsA2sQU8ypgrpVbP5iv8cuPr5dmzlG7QnGNuLqJ6ldiYfe8mrI/AggggAACCCCAAAKRECDAioSi+89BgOX+HnmtQk8FWLv2HVLTJ8bbxjXLF9Okezt6zZx6HRI4eCRZt32wQJNWbMswYsEC8Rp0/mnq27qa4uL4Y9WhdjAMAggggAACCCCAAAJHBQiwgnEh8JNWMPrs5Cw9FWCt3Z6kLsOm2j7Nq5XWmNvaOOnFWB4TOHQkRfd8skjfLPnjhMrPqllG951Tj7dYeqynlIsAAggggAACCCDgbQECLG/3L7fVE2DlVor9civgqQDrpw271Pu12fbcujWoqDf7Ns/tXNkvoAIpKal6YcIqjZi8JsPbCdM42tcpp8ubV1GHeuV1UmHWxwroZcK0EUAAAQQQQAABBBwSIMByCDrGwxBgxbgBPhzeUwHW98v+0K0fLLDbcFXLKnrq0jN92BamFA2B2Wt3asDHi7TlrwNZnr5AfJwaVSml004uoVNKFVGpIgVVonCBoy8JiI8zv2R/bZ48PP77capwUiFVKV1U5vFENgQQQAABBBBAAAEEEAgtQIAVjKuDACsYfXZylp4KsP77468a9Pky2+eOTrV03zn1nfRiLI8L7N53SE9++4s+X7hJKamRnYwJuKqVLaYW1Uurda2yal+nvMoVLxTZQTgbAggggAACCCCAAAIeFyDA8ngDc1k+AVYuodgt1wKeCrBemrhaz49fZU/ukQsb6Pp2NXI9WXZEIE1gzba9enHCan279I8sHyuMhJS5Q6tz/Qrq17q62tYuy4LxkUDlHAgggAACCCCAAAKeFyDA8nwLczUBAqxcMbFTHgQ8FWA99tXPGj1rgz294Vc2Vo/Gp+ZhuuyKQEaBP/b8rW8W/3H0TYXzft2lw8kRvi3LGq5xlVJHF4xvW7scLUAAAQQQQAABBBBAINACBFjBaD8BVjD67OQsPRVg9f/fggxvk/vghlZqV4dAwMkLxs9j7T90RKu3Jsm87XJn0iHt3n9I+w4eOfqoYUpq6rFfKVKy/bX5Pelwcoo27f5bG3bs096DR7IlurpVVQ06/zQVK1TAz5TMDQEEEEAAAQQQQACBkAIEWMG4OAiwgtFnJ2fpqQDrqjfmaPa6nbbP2H+2V4NTTnLSi7EQCCmQmpqqNduSNGvtTo1bvuXoP1OzuKGrSpkieu6yRmpVsyyaCCCAAAIIIIAAAggEToAAKxgtJ8AKRp+dnKWnAqxzXpimlVv32j5zH+qiCicVdtKLsRDItcBvO/fr9Wlr9em8TTqUnJLhOPMWwxvb1dD959ZXYgJvLsw1KjsigAACCCCAAAIIeF6AAMvzLczVBAiwcsXETnkQ8FSA1fzJ8dqRdMie3uqh5/HDfx6aza6xEfh15z4N/HSxftqw+4QC2tQqq5FXN1XpYgVjUxyjIoAAAggggAACCCDgsAABlsPgMRqOACtG8D4e1jMBVkpKqmoPGnt0zSGzlSySqMWPdvdxa5ianwSSU1I1asZ6PTtupQ4dyXg3VtUyRTXq2uaqXaGEn6bMXBBAAAEEEEAAAQQQyFKAACsYFwYBVjD67OQsPRNg7dp3SE2fGG/b1CxfTJPu7eikFWMhELbA6q17dddHi7T8j78ynKtMsYIyLyVgTbewiTkBAggggAACCCCAgMsFCLBc3qAIlUeAFSFITmMLeCbAWrNtr7o+P80uvEX10vr01ja0EgHPCfx9KFn3jVmc4Y2aZhKliiYeDbFOP7Wk5+ZEwQgggAACCCCAAAII5FaAACu3Ut7ejwDL2/1zY/WeCbDmrNupK9+YYxue27CSXuvTzI2m1IRAjgLmjYUvT1qj58evyrDvSYUL6P0bWqlRlVI5noMdEEAAAQQQQAABBBDwogABlhe7lveaCbDybsYR2Qt4JsAau/QP3f7fBfZsrmlVVUMvOYP+IuBpAbMu1pBvlmeYQ4lCBTT6+pZqVq20p+dG8QgggAACCCCAAAIIZCVAgBWM64IAKxh9dnKWngmw3p+9QQ9/+bNt88/OtXVP93pOWjEWAlERyHxtm0GKFUzQO9e1VMsaZaIyJidFAAEEEEAAAQQQQCBWAgRYsZJ3dlwCLGe9gzCaZwKsF8av0vCJq+2ePH5xQ/VrUz0IPWKOARD4aO5vevDzpUq13rJpplwkMUFvX9tcbWqVC4AAU0QAAQQQQAABBBAIigABVjA6TYAVjD47OUvPBFgPf7FM78/51bZ5+aomuqjRKU5aMRYCURUYM3/T0cXd04dYhQrE661+zdW+Tvmojs3JEUAAAQQQQAABBBBwSoAAyynp2I5DgBVbfz+O7pkA6/b/ztfYpVvsHvzvplbcmeLHKzLgc/py0WYN+HiRUtLdiVWwQLxe79NMnepVCLgO00cAAQQQQAABBBDwgwABlh+6mPMcCLByNmKPvAl4JsC64vXZ+nH9Lnt2P9x9tupVKpG32bI3Ah4Q+HbJH/rnRwuVnC7FKpgQr5HXNFW3BhU9MANKRAABBBBAAAEEEEAgtAABVjCuDgKsYPTZyVl6JsDq+vxUrdmWZNvMG9xV5YoXctKKsRBwTOD7ZVt054cLdDj5+K1YBeLjZB6dPe+Mkx2rg4EQQAABBBBAAAEEEIi0AAFWpEXdeT4CLHf2xctVeSbAavrEeO3ad+iodVyctGbo+UqI51vCyxcftWcvMGH5Vt3+3wU6lJxi72iu+RevaMz6b1w8CCCAAAIIIIAAAp4VIMDybOvyVDg/reeJi51zIeCJAMs8SlV70Fh7cesyxQpqwcPdcjE9dkHA2wJTVm7Tze/P16Ejx0Msk9sOu7yRLmlS2duTo3oEEEAAAQQQQACBQAoQYAWj7QRYweizk7P0RIC1I+mgmj85wXapU6G4xt/TwUknxkIgZgIzVu/Qje/9pAOHj4dY5i7EZ3qdqd7Nq8SsLgZGAAEEEEAAAQQQQCA/AgRY+VHz3jEEWN7rmdsr9kSAtXLLXp3z4jTbslWNMvr4ltZut6U+BCImMHvtTt3w7k/afyg5wzmf6NFQfVpXj9g4nAgBBBBAAAEEEEAAgWgLEGBFW9gd5yfAckcf/FSFJwKsWWt26Oq3frTdLzjj5KNvZGNDIEgCP23YpWtHzdW+TCHW/efW0+0daweJgrkigAACCCCAAAIIeFiAAMvDzctD6QRYecBi11wJeCLA+nrx77rzw4X2hPqcVU1P9Dw9VxNkJwT8JLDgt93qN2qu9h44kmFad3eto7u71vXTVJkLAggggAACCCCAgE8FCLB82thM0yLACkafnZylJwKs0TPX67Gvl9su/LDu5CXCWG4TWLZ5j/qOmmu/lTOtvnu61dU/u9RxW7nUgwACCCCAAAIIIIBABgECrGBcEARYweizk7P0RID1/LiVemnSGtvF3H1l7sJiQyCoAmu27dU1b/2orX8dzEAwsHtd9e9MiBXU64J5I4AAAggggAACXhAgwPJCl8KvkQArfEPOkFHAEwHWQ58v1f9+/M2u/JVrmur8M06mlwgEWmD9jn268o3ZJ4RY951TT3d0Yk2sQF8cTB4BBBBAAAEEEHCxAAGWi5sTwdIIsCKIyamOCngiwLr1/fn6/uctdss+vvkstapZlhYiEHiBdduTdOUbc7Rtb8Y7sf51bn3d1rFW4H0AQAABBBBAAAEEEHCfAAGW+3oSjYoIsHKvam4/WCqpsHXIdZJGZ3N4RUn3SrpYUlVJ+yX9bB1jjkvNxdA9Jd0qqYmkkpJ+l/S9pGGS1ubi+EjUkIthMuziiQCr92uz9NOG3XbhE+45W7UrlMjrXNkfAV8KrN2epKuyCLEeOK++bu1AiOXLpjMpBBBAAAEEEEDAwwIEWB5uXh5KJ8DKPdZ4SV3T7Z5dgNVc0reSKoQ4vQmhTDiV8RaH4zubvrwl6foQxydJukLS2GzKD7eG3Mtk3NMTAdan8zZq7fZ92rXvoHYmHdLzlzdWyaKJ+Z0zxyHgO4E125J01ZtztD3TnVgPnV9fN59NiOW7hjMhBBBAAAEEEEDAwwIEWB5uXh5KJ8DKHdY/JL0vab2kGtYhoQKscpKWSDILKu2UdJekidYdVP0lmV9me1PSzSGGf0jSUOuzT6yv/5B0lqThVg0mxGomaVUW54hEDbmTOXEvTwRY+Z0cxyEQJAGzsPuVb/yoHUkZs/ahl5yua1rx0oMgXQvMFQEEEEAAAQQQcLMAAZabuxO52giwcrYsLWmFJLNAUi9JX+QQYD1nPTqYIqmtpDmZhhgh6Q5J5vPG1mOJ6Xcxj/2ZxwNNEGTu4roo0+OG1SUtsz4fI6l3FlMIt4acVULvQYAVjh7HIuAygdVb9x69E2tH0iG7soT4OL3dr7k61gt1k6nLJkE5CCCAAAIIIIAAAr4WIMDydXvtyRFg5dxn8yjfDZJetO5+MndhmS2rO7DMM2jbrbutPpd0aRanN3dHbZZUUNLIdHdkpe16n6RnrH8xAdfiLM7xvKQBVghm7vTalm6fSNSQswoBVjhGHIuApwRWmRDrjTnaue94iFW8UAGNua216lc6yVNzoVgEEEAAAQQQQAAB/wkQYPmvp1nNiAAr+z63kzRNknldXX1JZazHCEMFWJ2txwXN59dI+l+I04+T1E3SRmuB9/S7mfHaS1otqW6I49tImml9ZsK1Uen2i0QN4Vz93IEVjh7HIuBSgUUb/9SVb8zWgcPm5tFjW7WyRfVV/3YqWYT141zaNspCAAEEEEAAAQQCIUCAFYg2iwArdJ/NT2SLJDWQdJWkjySZx/eyuwNroKRnrVOatxaGelPgE5IGW/uVl7QjXRl7JRWX9IGkPiHKKyRpn6SELO7iikQN4Vz9BFjh6HEsAi4W+H7ZFt323/lKTfcO1a6nVdQbfZopPp6/TlzcOkpDAAEEEEAAAQR8LUCA5ev22pPjJ47QfR4k6UlJE6y7pcyeOQVYZmH2G61H+0zIdCTE6c3bBd+2PjN3eaXdTXWqpE3W7w+R9Gg2l+Fvkqpkqs/sHm4N4V75BFjhCnI8Ai4WGDFptZ4bl/HdEY9c2EDXt0t7v4WLi6c0BBBAAAEEEEAAAV8KEGD5sq0nTIoAK+s+m3fEm4XS4yWdKWmltVtOAZZZ96qn9fZBs9ZVqM0szP6V9WGPdF83su76Mh/dKcks+B5qmy+pqaSF1j/T9gu3htxc+SakCrUVTVuTKykpScWKZbdrboZiHwQQcJNASkqqbnpvniauOL70XsGEeH3Zv61OO5n1sNzUK2pBAAEEEEAAAQSCIkCAFYxOE2Bl3ee0Nar+LcnciZW25RRgpR1nFmmvnM0l1FXSeOvz9GtlpV/b6iZJZgH5UNsM6y2HmdfKCreG3Fz56R4gCr07AVZuKNkHAe8J7Nl/WOcNn6bf9xywi69fqYS+vrOdEhNM7s+GAAIIIIAAAggggIBzAgRYzlnHciQCrBP1r5b0X0kbrPWv/k63CwHWMQwCrFh+1zI2Ai4Q+HHdTl315hylpPvT4F/n1tdtHc0NrGwIIIAAAggggAACCDgnQIDlnHUsRyLAyqhfWtIvkipKuljS15mak1OAFe7jezxCGMvvBsZGAIE8Cfzn+xV6dcrxd1UUTozXuLs7qGpZ8yQxGwIIIIAAAggggAACzggQYDnjHOtRCLAyduAFSXdba1KZtakybzkFWGkLqCdLKpzNIu43pHs8ML+LuG+0HlNMv8i8qTfcGsK9JlnEPVxBjkfAIwIHDifrnBen6ded++2Kz65bXu9e10Jxcfz14pE2UiYCCCCAAAIIIOB5AQIsz7cwVxPgJ4yMTF9Iyiq4ygnTvH7LPHI4UNKz1s7mOZp1IQ40bzdMW1urvKQd1n6mH39JKi7pfUl9Qxxv3nC4T1KCpJGS+qfbL9wacpprTp8TYOUkxOcI+Ehg+urt6vP23AwzeumqJrq40Sk+miVTQQABBBBAAAEEEHCzAAGWm7sTudoIsCIbYHWWNNE6pVlL68MQrUpbaN3cRVU10z7TJLWXZN5TXy/E8ekXezd3c41Kt18kagjnCiPACkePYxHwoMDdHy3UF4t+tyuvUKKQJg/sqGKFCnhwNpSMAAIIIIAAAggg4DUBAiyvdSx/9RJgZXQzd1KVzIbS3FLwrfX5o9ajhuZfl0s6JClR0nbrHJ9J6pXFucpJMm8pLJjF3VNm9/skPWMdd6akpVmc43lJAySlSDpZ0vH32UemhvxdTceOIsAKR49jEfCgwI6kg+oybKr2/H3Yrv6fnWvrnu6hMngPTpKSEUAAAQQQQAABBFwrQIDl2tZEtDACrLxx5rQGljnbc5LulWTWwTJ3SmV8tkYaIekO601+ZtH22yRYYAAAIABJREFUzAGVWUDePHpoVkE2i8ibxeTTb6aGZVZQNEZS7yymEG4NeVPJuDcBVjh6HIuARwXem71Bj3z5s119oQLxmnpfJ1UqaZYDZEMAAQQQQAABBBBAIHoCBFjRs3XTmQmw8taN3ARY5g6rJdadUWZtq7usxwpPknSn9cuMahZbvznE8A9JGmp99rH19RZJrSS9JMncKZYkqZn1qGHm00SihrzJHN+bACu/chyHgIcFjiSn6Lzh07V6m/mj6dj2j7Oq6smeZ3h4VpSOAAIIIIAAAggg4AUBAiwvdCn8Ggmw8maYmwDLnLG59ahhhRCn/15ST0kHQ3xu+vKWpOtDfG5+QrxC0thsyg+3hrzJEGDl14vjEPCNwITlW3Xje/Ps+SQmxGnSvR1VpYy5oZQNAQQQQAABBBBAAIHoCBBgRcfVbWclwMpbR3IbYJmzmkcBzRsBzSOAVST9Lck8X/OOpNHWI4Q5jX6JpFskNZVk7uAyqyT/YD2muDangyNUQy6GybALd2DlVYz9EfCJQGpqqi55ZZYWbfzTntFlzSrrud7maWk2BBBAAAEEEEAAAQSiI0CAFR1Xt52VAMttHfF+PQRY3u8hM0Ag3wIzVu/QP97+0T4+Pk4aN6CDalconu9zciACCCCAAAIIIIAAAtkJEGAF4/ogwApGn52cJQGWk9qMhYDLBMxdWFe9OUdz1u2yK7vgzJM18mpzIykbAggggAACCCCAAAKRFyDAirypG89IgOXGrni7JgIsb/eP6hEIW2D+r7vU69XZ9nni4qTx3IUVtisnQAABBBBAAAEEEMhagAArGFcGAVYw+uzkLAmwnNRmLARcKnDtO3M1ZeV2u7rLm1fWM5exFpZL20VZCCCAAAIIIICApwUIsDzdvlwXT4CVayp2zKUAAVYuodgNAT8L/LRhl3q/dvwuLPNGwun3d1alkoX9PG3mhgACCCCAAAIIIBADAQKsGKDHYEgCrBig+3xIAiyfN5jpIZBbgctenaV5v+62d7+pfQ0NuqBBbg9nPwQQQAABBBBAAAEEciVAgJUrJs/vRIDl+Ra6bgIEWK5rCQUhEBuBCcu36sb35tmDFyuYoFkPdFHJoomxKYhREUAAAQQQQAABBHwpQIDly7aeMCkCrGD02clZEmA5qc1YCLhYICUlVecOn6ZVW5PsKgd2r6v+neu4uGpKQwABBBBAAAEEEPCaAAGW1zqWv3oJsPLnxlGhBQiwuDoQQMAW+GzBJt3zyWL738sWK6gZ/+qsIgUTUEIAAQQQQAABBBBAICICBFgRYXT9SQiwXN8izxVIgOW5llEwAtETOJycoo7PTtHmP/+2B3my5+n6x1nVojcoZ0YAAQQQQAABBBAIlAABVjDaTYAVjD47OUsCLCe1GQsBDwiMmrFeQ75Zbldaq3wxjR/QQfHx/BXkgfZRIgIIIIAAAggg4HoBAizXtygiBfLTQ0QYOUk6AQIsLgcEEMggkHTwiFr/e6L2Hjxi//7o61qoY70KSCGAAAIIIIAAAgggELYAAVbYhJ44AQGWJ9rkqSIJsDzVLopFwBmBod8u15vT19uDta9TTu/f0MqZwRkFAQQQQAABBBBAwNcCBFi+bq89OQKsYPTZyVkSYDmpzVgIeERg46796vDsZKWkHi943ICzVbdiCY/MgDIRQAABBBBAAAEE3CpAgOXWzkS2LgKsyHpyNokAi6sAAQSyFLj9v/M1dukW+7OrWlbRU5eeiRYCCCCAAAIIIIAAAmEJEGCFxeeZgwmwPNMqzxRKgOWZVlEoAs4KzNuwS5e9NtsetFCBeM1+sIvKFCvobCGMhgACCCCAAAIIIOArAQIsX7Uz5GQIsILRZydnSYDlpDZjIeAhgdTUVPUcOVOLN+2xqx7Yva76d67joVlQKgIIIIAAAggggIDbBAiw3NaR6NRDgBUd1yCflQAryN1n7gjkIPDlos2666NF9l4VShTSjH91VsEC8dghgAACCCCAAAIIIJAvAQKsfLF57iACLM+1zPUFE2C5vkUUiEDsBA4np6jdfyZp618H7SJeuKKRLmlSOXZFMTICCCCAAAIIIICApwUIsDzdvlwXT4CVayp2zKUAAVYuodgNgaAKjJy8Rs/+sNKe/umnnqSv+7dTXBx/JQX1mmDeCCCAAAIIIIBAOAIEWOHoeedYflrwTq+8UikBllc6RZ0IxEjgz/2HdNZTE3XgcIpdwSe3tFbLGmViVBHDIoAAAggggAACCHhZgADLy93Lfe0EWLm3Ys/cCRBg5c6JvRAItMCgz5fqvz/+Zhuc07CiXu/TPNAmTB4BBBBAAAEEEEAgfwIEWPlz89pRBFhe65j76yXAcn+PqBCBmAus2Zakrs9PteswTw9OHdhJVcsWjXltFIAAAggggAACCCDgLQECLG/1K7/VEmDlV47jQgkQYHFtIIBArgSufWeupqzcbu97fdsaeuSiBrk6lp0QQAABBBBAAAEEEEgTIMAKxrVAgBWMPjs5SwIsJ7UZCwEPC0xbtV19R821Z1C8UAHNfrCzShRO9PCsKB0BBBBAAAEEEEDAaQECLKfFYzMeAVZs3P08KgGWn7vL3BCIoEBqaqq6vzBNq7cl2Wd9+MIGuqFdjQiOwqkQQAABBBBAAAEE/C5AgOX3Dh+bHwFWMPrs5CwJsJzUZiwEPC7w4dzf9OBnS+1ZVClTRFMGdlJCPH89eby1lI8AAggggAACCDgmQIDlGHVMB+InhJjy+3JwAixftpVJIRAdgQOHk9X6qYnavf+wPcBr/2imc0+vFJ0BOSsCCCCAAAIIIICA7wQIsHzX0iwnRIAVjD47OUsCLCe1GQsBHwg898NKjZi8xp5Jyxpl9MktrX0wM6aAAAIIIIAAAggg4IQAAZYTyrEfgwAr9j3wWwUEWH7rKPNBIMoCW/86oHb/maTDyan2SF/3b6czKpeM8sicHgEEEEAAAQQQQMAPAgRYfuhiznMgwMrZiD3yJkCAlTcv9kYAAUkDPl6kzxduti3OP6OSXrmmGTYIIIAAAggggAACCOQoQICVI5EvdiDA8kUbXTUJAixXtYNiEPCGwM+/79EFL82wi42Lk8YPOFu1K5TwxgSoEgEEEEAAAQQQQCBmAgRYMaN3dGACLEe5AzEYAVYg2swkEYi8wHXvzNXkldvtE/dqWlnDLm8U+YE4IwIIIIAAAggggICvBAiwfNXOkJMhwApGn52cJQGWk9qMhYCPBOZt2KXLXpttzyghPk5TBnZUlTJFfTRLpoIAAggggAACCCAQaQECrEiLuvN8BFju7IuXqyLA8nL3qB2BGAtc8fps/bh+l13F5c0r65nLuAsrxm1heAQQQAABBBBAwNUCBFiubk/EiiPAihglJ7IECLC4FBBAIN8CM1bv0D/e/tE+Pj5OGjegg2pXKJ7vc3IgAggggAACCCCAgL8FCLD83d+02RFgBaPPTs6SAMtJbcZCwGcCqampuvKNORnuwuKNhD5rMtNBAAEEEEAAAQQiLECAFWFQl56OAMuljfFwWQRYHm4epSPgBoH5v+5Wr1dnZSjl6/7tdEblkm4ojxoQQAABBBBAAAEEXCZAgOWyhkSpHAKsKMEG+LQEWAFuPlNHIFICN777kyb8ss0+Xfs65fT+Da0idXrOgwACCCCAAAIIIOAjAQIsHzUzm6kQYAWjz07OkgDLSW3GQsCnAiu2/KXzhk9XaurxCb53fUudXbe8T2fMtBBAAAEEEEAAAQTyK0CAlV85bx1HgOWtfnmhWgIsL3SJGhHwgMDdHy3UF4t+tyutVraofrj7bBVOTPBA9ZSIAAIIIIAAAggg4JQAAZZT0rEdhwArtv5+HJ0Ay49dZU4IxEBg46796vbCVB04nGKPfkenWrrvnPoxqIYhEUAAAQQQQAABBNwqQIDl1s5Eti4CrMh6cjaJAIurAAEEIibw6pS1+s/3K+zzFYiP09i72qtuxRIRG4MTIYAAAggggAACCHhbgADL2/3LbfUEWLmVYr/cChBg5VaK/RBAIEeBw8kpuujlGVqxZa+9b7NqpfXJLa2VEM9fYTkCsgMCCCCAAAIIIBAAAQKsADRZEv/1H4w+OzlLAiwntRkLgQAIzP91ty57bVaGBd37d6qtgefUC8DsmSICCCCAAAIIIIBATgIEWDkJ+eNzAix/9NFNsyDAclM3qAUBnwgM/mKpPpjzW4bZvN6nmc5pWMknM2QaCCCAAAIIIIAAAvkVIMDKr5y3jiPA8la/vFAtAZYXukSNCHhMIOngEV0ycqZWb0uyKy9eqIC+uKOtalco7rHZUC4CCCCAAAIIIIBAJAUIsCKp6d5zEWC5tzderYwAy6udo24EXC6wdnuSeo6Yqb0Hj9iV1ixf7GiIdVLhRJdXT3kIIIAAAggggAAC0RIgwIqWrLvOS4Dlrn74oRoCLD90kTkg4FKB8cu36qb35mWorknVUnrv+pYqQYjl0q5RFgIIIIAAAgggEF0BAqzo+rrl7ARYbumEf+ogwPJPL5kJAq4UeH7cSr00ac0JIdabfZurXPFCrqyZohBAAAEEEEAAAQSiJ0CAFT1bN52ZAMtN3fBHLQRY/ugjs0DAtQIpKanq/+ECjV26JUONp5Yqorf6NddpJ5/k2topDAEEEEAAAQQQQCDyAgRYkTd14xkJsNzYFW/XRIDl7f5RPQKeEDh0JEV3/G+BzCOF6beCCfG6o1Nt3dqxpgoVSPDEXCgSAQQQQAABBBBAIDwBAqzw/LxyNAGWVzrlnToJsLzTKypFwNMCJsR64LMl+mzB5hPmYd5MOLTn6WpVs6yn50jxCCCAAAIIIIAAAjkLEGDlbOSHPQiw/NBFd82BAMtd/aAaBHwtkJqaqtenrdN/vl+h1NQTp9qmVlnd1rGW2tUup7g4/srz9cXA5BBAAAEEEEAgsAIEWMFoPf81H4w+OzlLAiwntRkLAQSOCsxZt1MPfb5U67bvy1LkjFNL6vaOtdS9YSUlxPNXH5cNAggggAACCCDgJwECLD91M/Rc+K/4YPTZyVkSYDmpzVgIIGALHDySrFcmr9WrU9bqUHJKljI1yxXTTWfX1CVNTlXhRNbI4vJBAAEEEEAAAQT8IECA5Ycu5jwHAqycjdgjbwIEWHnzYm8EEIiwwNrtSRoxaY2+Wvy7klOyeK5QUvkShXRz+5rq26Yai71H2J/TIYAAAggggAACTgsQYDktHpvxCLBi4+7nUQmw/Nxd5oaAhwQ27tqvN6at0yfzNurgkazvyKpetqgGX9BAXU6rwBpZHuotpSKAAAIIIIAAAukFCLCCcT0QYAWjz07OkgDLSW3GQgCBHAW27z2o0bPW6/3Zv+qvA0ey3L9L/Qp6uteZR+/MYkMAAQQQQAABBBDwlgABlrf6ld9qCbDyK8dxoQQIsLg2EEDAlQJJB4/oo7m/6a3p67XlrwMn1Fi2WEG9eGVjta9T3pX1UxQCCCCAAAIIIIBA1gIEWMG4MgiwgtFnJ2dJgOWkNmMhgECeBQ4cTtbbM9YfXSfr78PJGY43Lyh85MIG6temOo8U5lmWAxBAAAEEEEAAgdgIEGDFxt3pUQmwnBb3/3gEWP7vMTNEwBcCW/Yc0JBvftbYpVtOmM+1baofDbLiTaLFhgACCCCAAAIIIOBqAQIsV7cnYsXxX+YRo+RElgABFpcCAgh4RiA1NVVj5m/S4C+WnbDQe+9mlY+ui5VAiOWZflIoAggggAACCARTgAArGH0nwApGn52cJQGWk9qMhQACERFYsulP3fTePG3962CG813evLL+0+tMHieMiDInQQABBBBAAAEEoiNAgBUdV7edlQDLbR3xfj0EWN7vITNAIJAC5pHCf7z9o9ZsS8ow/xvb1dCgC04jxArkVcGkEUAAAQQQQMALAgRYXuhS+DUSYIVvyBkyChBgcUUggIBnBXYmHdQ/3p6rX/74K8MczHpY17er4dl5UTgCCCCAAAIIIOBnAQIsP3f3+NwIsILRZydnSYDlpDZjIYBAxAV2JB3U5a/N1rod++xzx8VJr/+jmbo3rBTx8TghAggggAACCCCAQHgCBFjh+XnlaAIsr3TKO3USYHmnV1SKAAIhBDb/+bcufWVmhjWxiiQm6P9ua6MGp5yEGwIIIIAAAggggICLBAiwXNSMKJZCgBVF3ICemgAroI1n2gj4TWDZ5j26/PXZ2n8o2Z5a1TJF9XX/dipZNNFv02U+CCCAAAIIIICAZwUIsDzbujwVToCVJy52zoUAAVYukNgFAQS8ITBpxVbd+O48paQer7djvfIa1a+F4uP5K9QbXaRKBBBAAAEEEPC7AAGW3zt8bH7813cw+uzkLAmwnNRmLAQQiLrAyMlr9OwPKzOMM6BrXd3VtU7Ux2YABBBAAAEEEEAAgZwFCLByNvLDHgRYWXexiKRzJZ0jqYWkWpJMMPOnpCWS/k/SO5L+zuEiqCjpXkkXS6oqab+knyWNtn6l+3/6Ic/UU9KtkppIKinpd0nfSxomaW0uLsJI1JCLYexdCLDyosW+CCDgeoHU1FTd8v58jVu+1a7VLOo++rqW6lC3vOvrp0AEEEAAAQQQQMDvAgRYfu/wsfkRYGXdZ/P+9BI5XAIrrGBqdYj9mkv6VlKFEJ+bEMqEUwdDfG5685ak60N8niTpCkljs6kz3Bry811AgJUfNY5BAAFXC+w9cFg9RszM8GbC0kUT9c0/2+vUUub/ebAhgAACCCCAAAIIxEqAACtW8s6OS4CVtbe5M8oES59J+lLST5J2W3dR3WLdEWXsNkg6Q5IJk9Jv5aw7tU6WtFPSXZImWndQ9ZdkfpntTUk3h2j5Q5KGWp99Yn39h6SzJA2XVMMat5mkVVmcIxI15OdqJMDKjxrHIICA6wVWbtmrniNn6u/Dxxd1b1SllD655SwVKpDg+vopEAEEEEAAAQQQ8KsAAZZfO5txXgRYWfd5hKQnJB1/XiTjfv+S9LT1W+brZzKd5jnr0cEUSW0lzcn0uTn/HZLM540lLc30uXnszzweaMIgcxfXRZLSP25YXdIy6/MxknpnMY1wa8jvdwABVn7lOA4BBFwv8PnCTRrw8eIMdfZtXU1Depzu+topEAEEEEAAAQQQ8KsAAZZfO0uAFYnOFpC0RVJZSVMkdUp3UvNu9e3W3VafS7o0iwHN3VGbJRWUNDLdHVlpu96XLhQzAVfGn5aO7fW8pAFWCGbu9NoW4Rry60SAlV85jkMAAU8IDP5iqT6Y81uGWodf2Vg9Gp/qifopEgEEEEAAAQQQ8JsAAZbfOpr1fLgDK/99nm09zmce36uX7jSdrccFzW9dI+l/IYYYJ6mbpI3Wo4npd5smqb0ks75W3RDHt5E00/rsBkmjIlxDfmUIsPIrx3EIIOAJgYNHknX5a7O1eNMeu94iiQn6sn9b1a2Y0/KJnpgiRSKAAAIIIIAAAp4SIMDyVLvyXSwBVr7ptM5ah2qe9abCtDMNlPSs9S+1s3lToHlEcbC1n3mN1Y50peyVVFzSB5L6hCixkKR9kszCK5nv4opEDfmVIcDKrxzHIYCAZwQ27d6vC1+eoT/3H7Zrrlmu2NEQq0RhcyMuGwIIIIAAAggggIBTAgRYTknHdhwCrPz5N5G0wDrUrGd1Z7rTmIXZb7Qe7TMh05EQQ5i3C75tfdYu3d1U5hmUTdbvD5H0aDYlmmdYqkiaYN3NlbZruDXkT+XYUQRY4ehxLAIIeEZgysptum70T0pNt0Lh+WdU0sirmyoujr9ePdNICkUAAQQQQAABzwsQYHm+hbmaAP+FnSumE3YygVEXa2H1RpkWYTfrXvW03j5o1roKtZmF2b+yPuyR7mtzvkXW75tg7P/buw/oOKqz/+M/q1myZbnJcu/GFRvjjnEBY8BUQ4AQeu8tkJC8hOSfhJAeSCAYSDAlhB5iIBhjujvFvRfcu+VuybKt+j93WUm7sspKOzs75Tvn+IT31cy9z/08M5L20Z17TYGsqmO+pAGSFgb/t/S8aGOoScUUqao6GpSux5Wbm6uGDas7taZu+DoCCCDgbIG/frJGT3xm3vYuP35xfm/dNMJsFMuBAAIIIIAAAgggYIcABSw7lOPfBwWs2ucgdIH1p4O7CYa2Urq2lVmkvV01zY+V9Enw66FrZYWubXWLpInVtDEruMthxbWyoo2hJpXQHRGrPJcCVk2MfB0BBNwuUFRcEpiFNWON2bvjuyMpoZ7euHWYBnVq5vbhET8CCCCAAAIIIOAKAQpYrkhT1EFSwKod4dmSPgiuO7VU0lBJRyo0EW3xiAJW7XLC2QgggEBcBfYdztcFf5+lbQfKfxxkptfX27efok6ZzEKNa3LoHAEEEEAAAQR8IUAByxdpFgWsyPM8UNIXkswWU2bnwFOD/1uxhWhf3+MVwshzwpkIIICAIwQWbTmgy56do4Ki8gmqbZuk6T+3n6I2TdIcESNBIIAAAggggAACXhWggOXVzIaPiwJWZHnuLsm8rmd2CzTviYyStKqKS0sXUC+SlFrNIu43hbweWNdF3E0hzbymWNUi7nWNITKVys9iEfdo9LgWAQRcK/DKV5v083eXhcVvdiZ86/ZTZGZkcSCAAAIIIIAAAgjERoACVmxcndYqBayaM2J2+TPFqw6SDkk6PWQHwsqu/rGkPwe/0FXS+iq6eFTSw8GvmcLYnuB/m5yYftIl/VvStVVcbz4NHQ6+zjhB0t0h50UbQ80qVZ9BASsaPa5FAAFXCzz+yRo9WWFR956tGunlG4coK8P8TYMDAQQQQAABBBBAwGoBClhWizqzPQpY1efFFJZmSuoRXOtqnKQZNaRyjKTPgudcKen1Ks4vXSvLzKIyxbHQw/QxUtKaYN+VNRG6VpaZzfVCyElWxFDXO5YCVl3luA4BBFwvUFJSot9MXqkXZm8IG0vLjPp67tpB6teuievHyAAQQAABBBBAAAGnCVDAclpGYhMPBayqXTMkTZN0sqQCSRdJmhJBGpKDrxk2ljRJ0iWVXJMpyexSmCKp4uwpc3roTof9JJkF4ysej0u6X1KxpNaSskNOsCKGCIZa6SkUsOoqx3UIIOAJAVPEemjSUr0x1/x9ovyon5SgX1/YR5cPbq969fjx64lkMwgEEEAAAQQQcIQABSxHpCHmQfAbdOXE5j2Pj4JrXZkCkZlJ9WYtsvEXST+SZNagMjOlvqlw7VOS7pJkVvs1i7ZXLFC1DL562EDS+5IurHB9J0lmoRVTLHpb0mWVxBZtDLUYbtipFLDqKsd1CCDgGYGi4hL94r1leu3rzceN6bQeLfTwub10QkuzJwgHAggggAACCCCAQLQCFLCiFXTH9RSwjs9TYnDmVGnR6AFJZmH2qg5T4Mqr8EUzw2pJcGaUWdvqvuBrhWZW1z3Bf+YS0+6tVTT8M0m/DX7NFM/Mf++UNFTSk5I6S8qVZHZHNK8aVjysiKEudzEFrLqocQ0CCHhOwMzEevnLTXpk8gqZglboYSZgjeiWqbG9WuqMXllq19T8vYIDAQQQQAABBBBAoC4CFLDqoua+ayhgHZ8zM7spfPGS6vO6SZK5puIxSNIHkrKquHxq8LXEY1V83eRmoqQbq/i6KV5dXsNrjdHGUJc7mgJWXdS4BgEEPCswe+0e3ffGIu3JrerbvdQ5s6GyGtVX8/QUZaQmBwpehcUlyi8qVkFhsY4VFisxoZ6SE+spJSlRmekpGtSxmYZ0bqYWjdjh0LM3DwNDAAEEEEAAgYgEKGBFxOT6kyhgxa6AZVo2rwKaHQHNbC6zm+ERScslvSjppeArhDXdRBdLuk3SAElmBtf24OuN5hXBdTVdbFEMEXRTdgoFrNpocS4CCPhCYN/hfP2/95Zp8pIdlo+3S4uGGtMjSzeM6Ky2TdIsb58GEUAAAQQQQAABpwtQwHJ6hqyJjwKWNY60Ui5AAYu7AQEEEKhCYMHm/Xri028189vdqvBWYdRmZnbWpQPb6YEzezArK2pNGkAAAQQQQAABNwlQwHJTtuoeKwWsuttxZeUCFLC4MxBAAIEaBPYfzte0Ndn6dEW2pq/ZrdxjhZaZZaQm6fff66fz+pkNajkQQAABBBBAAAHvC1DA8n6OzQgpYPkjz3aOkgKWndr0hQACrhcw612ZVwzNv72HjynnaGFgravkxAQlJSQoJame6iclqrikRPmFxTpaUKxVOw/pq/X7NHfjPh08UlCpwT1juun+sd2VkMCPetffJAwAAQQQQAABBKoVoIDljxuE32r9kWc7R0kBy05t+kIAAV8LFBeXaPq3u/XU52s1f9P+4yzG9WmlJ67oHyiAcSCAAAIIIIAAAl4VoIDl1cyGj4sClj/ybOcoKWDZqU1fCCCAgNkRpKQksED8z95ZGpjBFXqc2bulnr5qQGBGFwcCCCCAAAIIIOBFAQpYXszq8WOigOWPPNs5SgpYdmrTFwIIIBAisH53rm5+eZ7W7z4c5jK+fxs9/v3+SuR1Qu4XBBBAAAEEEPCgAAUsDya1kiFRwPJHnu0cJQUsO7XpCwEEEKggYNbEuuXlefpmw76wr5g1sX50Vg+8EEAAAQQQQAABzwlQwPJcSisdEAUsf+TZzlFSwLJTm74QQACBSgRyjhbo6olfa/HWg2FfffbqARp3IrsTctMggAACCCCAgLcEKGB5K59VjYYClj/ybOcoKWDZqU1fCCCAQBUCB/Lydckzc7Qu5HXChimJeu/uEeqWlY4bAggggAACCCDgGQEKWJ5JZbUDoYDljzzbOUoKWHZq0xcCCCBQjcC63bm66KnZyjlWvrD7Se0a6793DFcSi7pz7yCAAAIIIICARwQoYHkkkTUMgwKWP/Js5ygpYNmpTV8IIIBADQKfrtgVWNg99PjxWd1195gTsEMAAQQQQAABBDwhQAHLE2mscRAUsGok4oRaClDAqiUYpyOAAAKxFvj1+8v14uyNZd0kJ9bT/+4eoV6tM2LdNe0jgACSHcdcAAAgAElEQVQCCCCAAAIxF6CAFXNiR3RAAcsRafBUEBSwPJVOBoMAAl4QOJJfpHOfnKkNew6XDad36wy9e9epSklK8MIQGQMCCCCAAAII+FiAApY/kk8Byx95tnOUFLDs1KYvBBBAIEKB+Zv267Jn56i4pPyC+844Qfef2T3CFjgNAQQQQAABBBBwpgAFLGfmxeqoKGBZLUp7FLC4BxBAAAGHCvz+w5X6x/T1ZdGlJCbo4/tHqVOm+dbNgQACCCCAAAIIuFOAApY781bbqClg1VaM82sSoIBVkxBfRwABBOIkcLSgSOf/fZbWZueWRTCmZ5ZeuH5wnCKiWwQQQAABBBBAIHoBCljRG7qhBQpYbsiSu2KkgOWufBEtAgj4TODLdXt1xXNfhY36+esG6YxeLX0mwXARQAABBBBAwCsCFLC8ksnqx0EByx95tnOUFLDs1KYvBBBAoA4C97y+UO8v3l52ZYdmDQKvEqYmJ9ahNS5BAAEEEEAAAQTiK0ABK77+dvVOAcsuaf/0QwHLP7lmpAgg4FKBHQeP6IzHpisvv6hsBA+c2V33nnGCS0dE2AgggAACCCDgZwEKWP7IPgUsf+TZzlFSwLJTm74QQACBOgo8M22d/jh1VdnV9ZMS9OkDo9W+WYM6tshlCCCAAAIIIIBAfAQoYMXH3e5eKWDZLe79/ihgeT/HjBABBDwgkF9YrHF/m6H1ew6Xjeb8fq311JUDPDA6hoAAAggggAACfhKggOWPbFPA8kee7RwlBSw7tekLAQQQiEJgxprduvaFb8JamHTncA3o0DSKVrkUAQQQQAABBBCwV4AClr3e8eqNAla85L3bLwUs7+aWkSGAgAcFbnxprj5flV02soEdm+rt209RvXr8iuDBdDMkBBBAAAEEPClAAcuTaT1uUPx26o882zlKClh2atMXAgggEKXA2uwcnf23mSoqLilr6ZmrBuicvq2jbJnLEUAAAQQQQAABewQoYNnjHO9eKGDFOwPe658ClvdyyogQQMDjAg+/s1Svfr25bJQdmzfQJ/ePVkpSgsdHzvAQQAABBBBAwAsCFLC8kMWax0ABq2YjzqidAAWs2nlxNgIIIBB3gd05x3Tan7/Q4fyislh+fl4v3TyyS9xjIwAEEEAAAQQQQKAmAQpYNQl54+sUsLyRRyeNggKWk7JBLAgggECEAhO+WKs/f7S67OyM1CRNe/B0NWuYEmELnIYAAggggAACCMRHgAJWfNzt7pUClt3i3u+PApb3c8wIEUDAgwJH8os05rFp2nHwaNnorhraQb+9uK8HR8uQEEAAAQQQQMBLAhSwvJTNqsdCAcsfebZzlBSw7NSmLwQQQMBCgfcWbdN9bywqazGhnjT5npHq3SbDwl5oCgEEEEAAAQQQsFaAApa1nk5tjQKWUzPj3rgoYLk3d0SOAAI+FygpKdFlz36peZv2l0kM7dxMb9w6TPXq8SuDz28Pho8AAggggIBjBShgOTY1lgbGb6OWctKYJApY3AYIIICAiwWWbj2oCyfMUklJ+SAmXDlA5/Vr7eJREToCCCCAAAIIeFmAApaXs1s+NgpY/siznaOkgGWnNn0hgAACMRD46dtL9Oa8LWUtt22Sps9+NFqpyYkx6I0mEUAAAQQQQACB6AQoYEXn55arKWC5JVPuiZMClntyRaQIIIBApQJ7co/p9D9PU86xwrKv3z+2u+4bewJiCCCAAAIIIICA4wQoYDkuJTEJiAJWTFh93SgFLF+nn8EjgIBXBCbOXK9HP1hZNpzU5AR99qPTZGZjcSCAAAIIIIAAAk4SoIDlpGzELhYKWLGz9WvLFLD8mnnGjQACnhLILyzWuCdmaP3uw2XjuuCkNvr7FSd7apwMBgEEEEAAAQTcL0ABy/05jGQEFLAiUeKc2ghQwKqNFucigAACDhb4YnW2bnhxbliEr948VKd2y3Rw1ISGAAIIIIAAAn4ToIDlj4xTwPJHnu0cJQUsO7XpCwEEEIixwI0vzdXnq7LLeunQrIE++uEopaWwoHuM6WkeAQQQQAABBCIUoIAVIZTLT6OA5fIEOjB8ClgOTAohIYAAAnUV2LjnsM7+2wwdKywua+K2UV300Lm96tok1yGAAAIIIIAAApYKUMCylNOxjVHAcmxqXBsYBSzXpo7AEUAAgcoFnp2+Tn/4cFXZFxPqSf+5fbgGdmwKGQIIIIAAAgggEHcBClhxT4EtAVDAsoXZV51QwPJVuhksAgj4QaCwqFjjJ8zW8u2Hyobbrmmaptw3UhmpyX4gYIwIIIAAAggg4GABClgOTo6FoVHAshCTpgICFLC4ERBAAAEPCizfflAXTZitgqKSstGd3691YFfCevX4dcKDKWdICCCAAAIIuEaAApZrUhVVoPzGGRUfF1ciQAGL2wIBBBDwqMDEmev16Acrw0b3p0v76fuD2nt0xAwLAQQQQAABBNwgQAHLDVmKPkYKWNEb0kK4AAUs7ggEEEDAowLFxSW6/qW5mrFmd9kI05ITNfneEeraIt2jo2ZYCCCAAAIIIOB0AQpYTs+QNfFRwLLGkVbKBShgcTcggAACHhbYnXNM5zwxQ3ty88tG2bNVI719x3Cl10/y8MgZGgIIIIAAAgg4VYACllMzY21cFLCs9aQ11sDiHkAAAQQ8LzB9zW5d98I3YeMc0zNLz107SIlmi0IOBBBAAAEEEEDARgEKWDZix7ErfsuMI75Hu2YGlkcTy7AQQACBUIHfT1mpf8xYH4Zyw6md9MsL+gCFAAIIIIAAAgjYKkABy1buuHVGAStu9J7tmAKWZ1PLwBBAAIFygaLiEt3y8jx9vio7jOUX5/fWTSM6Q4UAAggggAACCNgmQAHLNuq4dkQBK678nuycApYn08qgEEAAgeMFco8V6tJn5mjVzpywL/78vF66eWQXyBBAAAEEEEAAAVsEKGDZwhz3TihgxT0FnguAApbnUsqAEEAAgaoFth84ovETZsss7h56/Pis7rp7zAnQIYAAAggggAACMReggBVzYkd0QAHLEWnwVBAUsDyVTgaDAAII1CywfPtBXT3xa+3PKwg7+Z4x3fTAmd1Vrx6/btSsyBkIIIAAAgggUFcBClh1lXPXdfxG6a58uSFaClhuyBIxIoAAAhYLrN6Zo6smfq09ueEzsW4d1UUPndOTIpbF3jSHAAIIIIAAAuUCFLD8cTdQwPJHnu0cJQUsO7XpCwEEEHCQwLrdubryua+061B4Eeu6UzoGdidMSODXDgeli1AQQMBnAvmFxVq4eb9W7DikDXsOK/dooRIT6qlRarJ6tErX8K6Zat+sgc9UGK5XBChgeSWT1Y+D3yT9kWc7R0kBy05t+kIAAQQcJrBp72Fd+dzX2nbgSFhkPxjcXr+9uG/gwxIHAggggIA9AsXFJZq1do/enLtFX6zOVl5+UbUd92jZSFcO7aDLB7dXanKiPUHSCwIWCFDAsgDRBU3wW6QLkuSyEClguSxhhIsAAghYLWCKV2Ym1qa9eWFNn9+vtR7/fn+lJCVY3SXtIYAAAgiECJjC1QdLd+ivn6zR+j2Ha23TsXkD/fKC3hrTs2Wtr+UCBOIhQAErHur290kBy35zr/dIAcvrGWZ8CCCAQAQCuw4dDRSx1u0O/+A0qnsLPXv1ADVISYqgFU5BAAEEEKitwMxvd+uPU1dp2bZDtb30uPPH92+j313cVw3r8z07akwaiKkABayY8jqmcQpYjkmFZwKhgOWZVDIQBBBAIDoBs6C72Z1w1c6csIYGdGiil24coozU5Og64GoEEEAAgTKBJVsPBApXs9furVKlT5sMDe/aXD1aZSgzPUXFJSXacfCovly3V9NX71bOscLjrj2pXWO9cP1gNU+vjzYCjhWggOXY1FgaGAUsSzlpTBIFLG4DBBBAAIEygYN5BbrxX3M1f9P+MJWBHZvqXzcOUTp/1eduQQABBKIS2LjnsP780erAK4OVHeb77FVDO+gHQzqoc6b5Vb3yIy+/UC/O3qinPl+rIwXha2V1yWyol28aonZNWeQ9qmRxccwEKGDFjNZRDVPAclQ6PBEMBSxPpJFBIIAAAtYJmA9Fd7yyQNPX7A5rdGjnZnrphiFKS2GhYOu0aQkBBPwicCS/SM9MX6dnp61TflHxccNOSUzQ1cM66q7Tu9Zq9tT2A0f0k7eXBBZ/Dz3aNknTpDuHq2VGql+IGaeLBChguShZUYRKASsKPC6tVIACFjcGAggggMBxAmb79ntfX6ipy3eGfW1Et0xNvG4Qu11xzyCAAAIRCpgF2t9bvE1/mro68PpfxaNePenik9vq/rHd1b5Z3WZMFRQV66f/XaJJC7aFNX9i2wy9eesprIkVYa44zT4BClj2WcezJwpY8dT3Zt8UsLyZV0aFAAIIRC1gilh3vjpfn67MDmtrXJ9WevqqAUpI4NeSqJFpAAEEPC0wb+M+/WbyCi3eerDScZ7RM0sPjuuhnq0yonYwhbLff7hSz83cENbWmJ5Z+uc1A5WUyI6yUSPTgGUCFLAso3R0Q/ym6Oj0uDI4CliuTBtBI4AAAvYIHCss0i0vz9eMCq8T3jKysx4+r7c9QdALAggg4DKBmta56paVrkcu7KPh3TItHVlJSYkefneZXvt6c1i7t4/uqv87p6elfdEYAtEIUMCKRs8911LAck+u3BIpBSy3ZIo4EUAAgTgJHC0o0vUvfqOv1u8Li+CR8X107Smd4hQV3SKAAALOE1i27aCenb5OU5buUHHJ8fE1TkvWfWecEFjrKiUpNjOiCouKddO/5oWtY2heU/z3jUM14gRrC2bOywARuUWAApZbMhVdnBSwovPj6uMFKGBxVyCAAAII1Chw8EiBLn1mjr7Nzi07NzGhnt68dZgGdWpW4/WcgAACCMRTwBR19ucVaO/hY9p3OF9mwfSMtGS1aZIW9e6qe3KPafLi7Xp30XYt2nKg0mEmJdQLFK1+OPYENWmQEnOK3GOFuuTpOVq9K6esrxaN6mvqfSNrtUB8zAOlA98KUMDyR+opYPkjz3aOkgKWndr0hQACCLhYYOv+PF389BztzjlWNoo2jVM15b6RtnwgczEdoSOAgM0CZlHzbzbs09RlO/X5qmxtP3hEJZXMiDJhNWmQrHZN09S+aYPv/rdZA3Vo1kBZjVKVmZ6ipg1TlJyYIPN63rHC4sBC7OYVwaXbDmr22j2at2m/iiqbbhUc89heWXro3F7q2iLdVoVvd+Xogqdm6WhB+Y6HZj2s568bpHpmShYHAnEUoIAVR3wbu+Y7jY3YPumKApZPEs0wEUAAASsEFm85oMue/TJsC/izerfUP64ZyAciK4BpAwEEohJYvv2gXpy9UZ+s2CUzc9Sqw8zYyi8qLwRF0u6o7i1052ldNaxL80hOj8k5r3+zWQ9NWhrW9m/G99E1vP4dE28ajVyAAlbkVm4+kwKWm7PnzNgpYDkzL0SFAAIIOFbghVkb9MjkFWHxsR6WY9NFYAj4QmDT3sP680erNXnJjriOt35Sgsad2Eq3jOyiE9s2jmsspnMza+yu1xZoytKdZbE0SEnURz8cFZhpxoFAvAQoYMVL3t5+KWDZ6+2H3ihg+SHLjBEBBBCwUMB8ILrl5Xn6dGV2WatmdsI7dw1Xnzbx/8Bm4VBpCgEEHC5gdkp9+ot1emb6OuUXVj1DyiyentWovpqnp6hZwxQVFpUE1sLaduCIdh46WuXrhZEM36xvdUrX5rqof1udfWKrqNfUiqTP2pxzMK9A456YEXj1sfQY3rW5Xr15KDNnawPJuZYKUMCylNOxjVHAcmxqXBsYBSzXpo7AEUAAgfgJ7D+cr3OemBn44Fd6dMlsqMn3jlCDlKT4BUbPCCBQJwGz6Pe8jfu0fPshmZ30lm0/qH25+UpLSQwsdt49q5EGd26m0d0z1S2rUZ36sPqizXvzArOLzFpUlR1dWzQMzIY6u08r9W3buMpijSl8bT9wRFv3H9GW/XnatDdPZs0/U+Dam5sfWPj9WEGx6icnysywMmtmdcpsKPM9b0CHpgGX9PrO/r73xeps3fDi3DCmv13eXxed3NbqtNAeAhEJUMCKiMn1J1HAcn0KHTcACliOSwkBIYAAAu4Q+Hr9Xl3x3FdhW8XfOqqLfnZuL3cMgCgRQEDrdufKvBb8zsJtyssvikikd+sMXTGkvS4b1F6pyYkRXWP1SR8u3aGfvL1EOccKj2v69B4t9MCZPdS3HTNCQ3F+/J/Fenv+1rL/l9mV8PMfjVaj1GSr00N7CNQoQAGrRiJPnEAByxNpdNQgKGA5Kh0EgwACCLhL4IlPv9VfP11TFnRiQj29d9epjlj7xV2SRIuAvQI7Dh7RHz9cpf8t3h5WhK5NFKYActdpXXXVsI6BXfrsOMwrg7+fskovzdl4XHfdstL1yIV9NLxbph2huK4PM3P29Mem6UBe+eL2t4zsrIfP6+26sRDwd+ubHTpSqN25xwIbFphXY9s2SVNKkj3PYrQ5oIAVraA7rqeA5Y48uSlKClhuyhaxIoAAAg4TKCwq1vgJswOvHZUe5lWdd+86VaaYxYEAAs4SKC4u0avfbA4Ur8xrg9Udke68171lun55QR+dGuPCkXll8O7XF2jJ1uNfGbzh1E76v3N6qn5SfGaEOSvLVUfzyleb9PN3l5WdYNbv+vC+kTqhpTNeC3WLYzzizD50NLD25LTV2YHXZvfkHlNBUUlYKObHbuvGaWrfLE3tmzZQz9YZumlE53iEW2OfFLBqJPLECfwm6Ik01jiIiyTdLulkSWbu83ZJUyU9JmldjVfX7gQKWLXz4mwEEEAAgQoCS7ce1PgJs8Jmcfzi/N6O/aWZBCLgV4G12bl6aNISzd24v1KCXq0zdGavrMAMSvOvdePUwOLmOw4d1YJN+2XWUZq6bGeVrxpe1L+NzLPfPL2+5cRTl+3Qg+aVwaPhRbdGqUn686X9NO7E1pb36cUGi4pLAt+vl20r/6MDC7o7N9NmltX0Nbv1ylebA8+fyV9tDvMHpffvGVGbS2w7lwKWbdRx7YgCVlz5Y965ye9ESTdW0VOupMslTbEwEgpYFmLSFAIIIOBXgUcnr9DEWRvKhm+2af/4/lFq15Rt2v16TzBu5wiYRcr/MX2d/v75WuUXHb9T38gTMnXPmBM0uFPTGnelO3ysUG/O3aJnp69Tds6x4wbZtEFyoIh18clta2wrEqHqXhns166xnrpigDo05/tMJJal58zftF+XPDMn7JIJVw7Qef0oAtbGMdbnzvx2t/780epKZxxG2vd5fVtrwlUDIj3d1vMoYNnKHbfOKGDFjd6Wjn8m6bfBnt4K/vcOScMkPSHJzP80RayBksoXHIkuNApY0flxNQIIIICAJPOh9qy/zghsSV96jOmZpeevG2TJh1iQEUCgbgKb9h7W3a8trHSnvpYZ9fWb8SfqrD6tat14Xn6hnpm2Tv+YsV6mQFbxMEWx313cV+2b1b24tGrnIf3wjUVatTPnuPavH95JD53LK4O1Tlzwggf/s1j/CVnQ3cy2++xHo9lFtq6gFl6369BRPTJ5hT5YYj4GVn2YnS8z01OUmV4/sFPo7pxj2rwvL7AeVulx++iugVdrnXhQwHJiVqyPiQKW9aZOabFl8PVAU1D6QNIFkkLniHaSZF5YN19/W9JlFgVOAcsiSJpBAAEE/C7wxaps3fBS+DbtT181QOf25a/6fr83GH98BMwH4P/7b+U79V05tEPgg21GlDvQmXWpfv7eMs1Ys/u4QaYlJ+rGEZ1068iuatwg8p3ujuQX6elpa/WP6euPmzHGK4PW3Eum2DHmsWlhr2TeeVpX/WScM4sd1oza+a1MWbpDD01aGlaEKo26Xj1pRLdMXdCvjUb3aKGWGamVDsgUsLbsywv8M7MT+7Rx5m6cFLCcfz9aESEFLCsUndnGg5L+FAytv6TFlYT5uKT7JZk/c5lPA9kWDIUClgWINIEAAggg8J3APa8v1PuLzdKN3x1tAn/VP01pKSyszD2CgF0CRwuK9OgHKwLr5lQ8umQ21O+/11dDuzS3LByzTs97i7br1+8v1/6QHe5KO8hITdJto7vq6mEd1Tit6kKWmcn17sJt+tuna7T94NHj4jPr+ZhX3Xhl0JrUvTh7g379/oqyxpIT6+mjH45Slxbp1nRAKxELmBmNv/rfcr01b+tx15hdBa8Y3F43j+wS1YzGiIOx6UQKWDZBx7kbClhxTkAMu58haaSkbyV1r6Kf4ZJmB792k6QXLIiHApYFiDSBAAIIIPCdQOCv+n+ZppyQ3c3uGdNNPzqrB0QIIGCDwPrdubrrtYVauaN8ke7Sbs1OfT8d11OpybEpKO/NPaZHP1ipdxZuq3Sk9ZMSNLZ3S43u3kIdmzVQ04YpKi4pCcQ6Z+1efb4qW3sP5x93rZl5csforvrh2O4yH+Y5rBEwu8ie//dZYa9omle/X7h+sDUd0EpEAtsPHNEtL88L28239MIzembpVxf28VThqnRsFLAiuj1cfxIFLNensMoBmJf7zZ87XpF0TRVnmS1dDksyv3VMkHS3BRwUsCxApAkEEEAAgXKB52dt0G8ml/9V33zg/PT+0cya4CZBIIYCpbOgHn5nqQ7nF4X1ZGZA/eWyk+q01lVdQp62OjtQyDK7HkZ7dG+Zrkcv6qshnZtF2xTXVyLw9fq9uvyfX4V95cUbBuv0Hll42SCwcPN+3fLyfO3JDd8QwTyzv724r87v19qz60hSwLLhBnNAFxSwHJCEGITQVlLpfNFHJP2ymj7MXPD2kj6VdKYFsVDAsgCRJhBAAAEEygUKiop17hMz9W3Ih9exvVpq4nWDYEIAgRgImJlPP393mT5ctvO41vu3b6KnrjzZ9h1Bi4pLvnsd8LM12rKvfHOHSIdvXjU0szevG95JyYnMuorUrS7nVXz1u0uLhoFXCXGvi2bk10xdtlP3vrHwuE0QTLH2r5f3V9smaZE35sIzKWC5MGl1CJkCVh3QXHDJSZIWBeO8R9JT1cQ8X5LZC3Vh8H8jGZ4pUlV1mK1hAmtp5ebmqmHD6k6NpCvOQQABBBBAQJqzdo+unPh1GMVLNwzWafxVn9sDAUsFpi7boYffWVbpq3e3jOysB8/uGdfX7krXtXpj7mYt2HygxrG3b5amK4Z0CKyXFe0C8zV2xgkBAbN77BmPTdPRgvLdJH9xfm/dNMJsgM4RC4F3Fm7Vj/+zRKbQG3qY3TV/fl4vJfmgaEsBKxZ3lvPapIDlvJxYEVHo2la3SJpYTaOzJJ1aw1pZFS8P/85YReMUsKxIJW0ggAACCJQK3PnqfE1ZWj4jpHPmd3/VZw0b7hEEohc4kJevX/5veWDx9IpHkwbJeuyyk3RGL7PJtXMOsyvajG93a9m2g9p/uED78/Jl1rfKapSqQZ2aanjX5uraIt2zr0w5JxPHR2IWzv/bp2Yp3u8Os9vjtB+fpubpZgUTDisFXv16U2DGZEnIJ7SkhHr69fg+umpoRyu7cnRbFLAcnR7LgqOAZRmloxqigOWodBAMAggggIAVApX9Vf+hc3oGdiPjQACBugkUF5fovcXb9LspqwKbJlQ8xvbK0u8u7qusjNS6dcBVvhQ4kl8UmIUVuvvjVUM7BNZh4rBOYOLM9YH14UKPtORE/eOagRrVvYV1HbmgJQpYLkiSBSFSwLIA0YFN8AqhA5NCSAgggAAC0Qs8+dm3evyTNWUNNUxJ1Bc/Po0P19HT0oKFAmYB9BU7Dmnmt3u0dOvBwOLjZlHlg0cKAr2kpyapTeM0dc1K14ltMjS8a6Z6t8lQYoK9v5qbBZ9//f4KLdpy/Kt4ZsbMLy/oo0sGtGUGk4X3hp+aen/xdpn1sEoPc3tPvmdk4F7niF7gpdkb9Kv3yzc4MS02qp+kF24YrMGd/LdJAQWs6O8pN7Rg709JN4h4I8baLOK+RVI7FnH3RuIZBQIIIOB1gaMFRRr7+HRt3V++iPMlA9rpse+bv91wIBBfgX2H8/XWvC16c+4WbdhjNnqO/DC7hJlX9M7u00qju7dQWorZJDo2x/xN+/TMtPX6dOWuSjswMzf+eElftW7s7UWfY6NLq6UCppD7/X98qbkb95ehDOvSTK/fMoyiaJS3yaQFW/XAW4vDWjGv+v77xqHq265xlK2783IKWO7MW22jpoBVWzF3nG/yesj8gU/SvyVdW0XY5iV089uV+Q1pgqS7LRgeuxBagEgTCCCAAAJVC5idlm5/xexBUn68c+dwndyhKWwIxEUg52iBJs7cIPM6z+H8oqhjSE1O0GndszTuxFY6vWeWzA560R5mN8/PV2XruRnrNW9TeUEhtF3zAfin43rqB4PbU2CIFpzrAwJmfbILnpoVtj7TM1cN0Dl9WyNUR4GPl+/UHa8uCFuwvXnDFL12yzD1aNWojq26/zIKWO7PYSQjoIAViZI7z5khaaQk855FjyqGELpW1k2SXrBgqBSwLECkCQQQQACBqgXMX/Wvfv5rzV67t+ykk9o11jt3nqoEm1/BIk/+FjAzAl/5apMmfLFW+/O+ez2wusO8lmd++c49VqgKm4VVeVlyYr3AK4ammHVm75bKrMUi2McKi7Ro8wFNWbpD7y/ZITNDrLLDvLp4zbCO+uHYE9SkQUpNw+DrCNRK4P/+u0RvzDUvfXx3tGuapk8fGK3U5NjNMqxVgC46ec66Pbr+xbkyu3GWHub7yhu3DlOfNv6ceVXqQAHLRTdyFKFSwIoCz+GXPijpT8EY+0laWkm8j0u6X5L5Dmj+DJJtwZgoYFmASBMIIIAAAtULrNmVo3OemBn2F+g/X9pPlw1qDx0CMRcwRdR3Fm7TXz5aHbZIdWjHZjbTOSe21qgTMgMfLNs2TStb48rMhjI76K3amaOv1u/V7LV7tG53za8cmvqsmWlo1s3qlpUeKGY1a5iixg2SAx9ozRpbm/fladPePC3fflDzN6OCOa4AACAASURBVO3X0YLyD7qVwYzt1VI/GddD3Vv6d+ZGzG8Yn3dgNgcY85dpyjlWWCbx47O66+4xJ/hcpnbDX7zlgK587quwWZ5mtuYrNw3VIB+ueVVRjwJW7e4nt55NAcutmas5brPP8XpJDSS9L+nCCpd0MrN6JZmC09uSLqu5yYjOoIAVERMnIYAAAghEK/Cr/y3XS3M2ljWTmZ6iz398mjJSo3/dKtrYuN67AqYwZO690HV9QkfbJbOh7jmjW6B4VZsZJut35+qj5bs0dflOmQ+qsTzMrK6L+rfVbaO7qFsWhatYWtP2dwLm1dXfTinfLc/slGc24GjVmN0tI7lH1mbn6LJnvwyb6Wme4+euHaTTemRF0oTnz6GA5fkUBwZIAcvbef6ZpN8Gh/hm8L93Shoq6UlJnc0sdkkDg68aWqFBAcsKRdpAAAEEEKhR4GBegU5/bFrYa1HXntJRj4w/scZrOQGB2gpkHzqqv3y8Wv+ZvzVsPZ/SdlplpAZewbt0YDslJSbUtvmw87cfOCKzzo0pZn2zYV/ErxvW1GnH5g0ChasrhnSgcFATFl+3VMDMEDz7bzPCNjc4r19rTbhygKX9eLExs4PpRRNmh21eUq+e9PcrTtb5/dp4cch1GhMFrDqxue4iCliuS1mtAjb5nSjpxiquMsWryyVNqVWr1Z9MActCTJpCAAEEEKhe4PVvNuuhSeVvyZtf6ifdwYLu3DfWCZh1rp6ftSGwzlVeJQu0mwXW7zq9q649pVOtZlxFGuHe3GP6bGV2oJg169s9yi+q/pXA0HbNK4d92zbWsC7NdVafVhrQoQmLs0cKz3mWC3y+apdufGleWLsv3TCYGUTVSJvvP1c895UWbg6flfn77/UNFKI5ygUoYPnjbqCA5Y88XyzpNknmTxwZkrZL+kjSXySts5iAApbFoDSHAAIIIFC1QHFxiS59do4WhPxy37NVI71/zwglRzkLBnd/C5gPjpMWbAsUrrYdOHIchimWXjmkgx48u4dtC5/n5RcG1s1avTNH2/Yf0d7D+dp3+JgOHSmUWQunQf0ktWuSpo7NG6pT8wbq266xGvFKrb9vZAeN3qwdd8vL8/TpyvJld9s3S9PHPxyttBQWdK+YKvPz7d43Fmrykh1hXzLfc+46vZuDMuuMUChgOSMPsY6CAlashf3XPgUs/+WcESOAAAJxFVi185DOf3KWCkO2dfvZuT1166iucY2Lzt0pYF4V/O+CbXph9gaZxacrO4Z1aaZfnN/b97t+uTPDRB1Pga3783Tm4zN0pKCoLIw7T+uqn4zrGc+wHNn3Yx+v1t8/XxsW22UD2+lPl/ZjJmUlGaOA5cjb2PKgKGBZTur7Bilg+f4WAAABBBCwX+CPU1fpmWnlk4rNAsEf3z9K7ZuZvUw4EKhawMwKMTsAztu4Tx8s3RHYETCkFhp2oZnV9NC5vXRW75Z8gOSmQqCOAv+csU6/m7Kq7OqkhHqact9IdsIM8Zy0YKseeGtxmLApnL9841ClJEW3xl4d0+b4yyhgOT5FlgRIAcsSRhoJEaCAxe2AAAIIIGC7wJH8Ip31t+nasq/8Va/TerTQi9cPptBgezac3aG5VxZvPaD5m/YH/i3YvF8H8gqqDdqsc3XPmG6Bda748Ojs/BKd8wUKiop1wd9nBV6HLT0Gd2qqN289RQlm4TafH2an0+89PUfHCsvXuzO7m066c7htryu7MQUUsNyYtdrHzHeI2ptxRfUCFLC4QxBAAAEE4iIwfc1uXffCN2F9m1ctvj+ofVzioVNnCJgd/UKLVSu2Hwp73bS6KFtm1NctI7voB0M6KL1+kjMGRBQIeEDAFI4veWZO2I6ef/he38Cz5ufj4JECXfjULG3am1fG0KRBst6981R1yjQfsziqEqCA5Y97gwKWP/Js5ygpYNmpTV8IIIAAAmEC976+UP9bbPYq+e5oVD9JH90/Sm2apCHlE4EDefn6fFV24J8pXO04eLRWI09MqKeRJ2Tq4pPbatyJrVQ/icWlawXIyQhEKPDwO0v16teby842Mx0/+9FoZabXj7AFb51mFm2/9d/z9enKXWUDMxPS/n3TUJ3aLdNbg43BaChgxQDVgU1SwHJgUlweEgUslyeQ8BFAAAE3C+w7nK+z/jpde3Lzy4ZhihEv3ziEVwndnNgaYje7BH6yfKc+XrFLX2/Yp6KqFrGqop3OmQ01oENTDerUVGN7tVSLRv78AO3hW4ShOVDAzDY64zHz/bp8s4Tz+rXWhCvNxun+O8w6jmY9x9CDHQcjvw8oYEVu5eYzKWC5OXvOjJ0CljPzQlQIIICAbwQ+Wr5Tt/17fth4f35eL908sosnDcwi5KZwt3FvnjbtPayNew5r87487T2cr/15+co5Wigzqyg5IUHJSfWUkpig1o3T1LF5A3Vq3lAntW+i7i3TXVfgyy8s1ofLdujlLzcFZlpFepg1rE5q11gDOzbTwI5NdXKHJr6d8RGpGechECuB9xZt031vLApr/qkrT9b5/drEqktHtvvlur26auJXYRtIjO2VpX9eM4h1wSLMGAWsCKFcfhoFLJcn0IHhU8ByYFIICQEEEPCbwP1vLtI7C7eVDdsUcF6/ZZiGdG7meoqcowVasvWgFm05EPi3eMsBZeeUz2CoywCbN0zR0C7NdFbvVjqzd0s1dPB6T7sOHQ28dvTa15vDZm5UNe6sRvUDM6vMDCtTsOrTpjELsdflJuEaBGIgYArwN/1rXuCV39KjaYNkfXz/aN/MhDTf0857cmbYzOH2zdI0+e6RatwgOQbq3mySApY381pxVBSw/JFnO0dJActObfpCAAEEEKhU4GBegc59cqbMq2Wlh3kt7IN7RigrI9U1ama3rtU7c7QwWKgyBat1u3PDFj62ejBpyYmBItb4/m00unsLJSU6Y8v2hZv36/lZGzR12c5qF2FPSqinYV2a66w+LXV6jyy1a5rmutllVueU9hBwsoAp4Jz5+HQdOlpYFubZfVrq2asHev7ZNd/jr3zuK83dWD6L1MwSnXTHcJ3YtrGT0+a42ChgOS4lMQmIAlZMWH3dKAUsX6efwSOAAALOETAzky579kvlF5VvRT6oY1O9fuswJTukKBOqZWYibNl3RIu2HtCizQe0eOsBLdt2MGwrdbt12zZJ0zWndNQPBrePy/btxmTamt365/T1+nL93iqHbz7wndEzS2f3aRUoWjFrwe47hf4QiE7gnYVbdf+bi8MaeeIH/TW+f9voGnb41Y9OXqGJszaERfmnS/rp+4PZPbe2qaOAVVsxd55PAcudeXNy1BSwnJwdYkMAAQR8JvD6N5v10KSlYaO+fngn/erCPo6QKCwq1rxN+2XW7fp4+a6wGWO1CbB141R1y0oPrGlVurZVy4xUNW2YLLOzl1nT3Pyl3/zLyy/Sln1mvaw8Ld9+MLDoeeiW7ZX1m5qcENiV77rhndSzVUZtQqvTuccKi/Teou16bsZ6fZudW2UbbRqn6qph3xXYmvt057I6AXMRAg4TMMVqswPfJyvKd+Az37s++uEotWrsnlmztWGdsnSH7nx1Qdgllw9qrz9e2q82zXBuUIAClj9uBQpY/siznaOkgGWnNn0hgAACCFQrYD4U/fS/S/TWvK1h5/10XE/dcVrXuOgdLSjSrG/3BIpWn63KDizAXpujUf0k9WvfWCe1a6L+7b/7F+1rkdsPHAm8mvfe4u2BNbWqO07p0lzXn9opsFufWVvMyuNAXn5gfauX5mzU7mrW9TIxmGKaWeTYKa84WulAWwj4USA756jO+usMHcgrKBu+edZfuXmo5d9r4u1rXgUf/9Rs5R4rf22yd+sMTbpzuFKTE+Mdniv7p4DlyrTVOmhrf+uodfdc4EEBClgeTCpDQgABBNwsYApGlzwzR8u3HwobxiPj++jaUzrZNjSzlpUpzJhdt8wsqEgOs55Tz9aNAkUqU7AyO+Z1yUyP6a5UG/Yc1qQFW2Vmr+3Jrbq4ZtaWumZYR13Yv43MroZ1PcwstFlr9+h/i7frw6U7daSgchtTLLugX2vdflpXW2aB1XU8XIcAAnUXeH/xdt3z+sKwBh48u4fuOr1b3Rt12JVH8ot00YTZWr0rpyyyjNQkTb5npDo0b+CwaN0TDgUs9+QqmkgpYEWjx7WVCVDA4r5AAAEEEHCcgHll7tJn52jXofDd+v54SV9dPrhDzOItKi7RZyt3BQpXc9ZVvYZTaQBmoXmzAPl3M6saB3bMi9df481rfB8s2RGI3ex6WN3Rr11jndmrpc7q00rdW6bXuPCymXUwd+M+fb4yW+Y1mr3VzEJLr5+kK4a01/WndpZZk4sDAQS8LfDAW4s0aUH4LrJv336KTu7Q1BMDf/idpYGZpqHHxGsHaWzvlp4YX7wGQQErXvL29ksBy15vP/RGAcsPWWaMCCCAgAsF1mbn6Pv/+Oq4V/buGdNN94/tbumsJrML4lvztuhfX27U1v3lOyFWxtY5s2FgxzyzAHn/dk0sjcOKNJnXMM0uiC/N3hgoNhWaBbWqOVplpKpt0zRlpqfIFOQy0+sHinAHjxRo8748bdh9WGt25UTUzo0jOukHQzooI5Wt5K3IJW0g4AYBU+A+/8mZ2rg3ryzc9s3SNOXekWrk8u8F5lXt21+ZH5aGO0/rqp+M6+mG1Dg6RgpYjk6PZcFRwLKMkoaCAhSwuBUQQAABBBwrYHb1u+K5r5QTsl27Cfbcvq30+4v7Rb17nSmSvTh7Y2D2QFWvwpn+zFonpk8zY+mErJpnLDkF1Gx3/+pXmwKzB6qbNRVNvCe2zdBNIzrrvL5tZHYX5EAAAf8JmLX4zKvfoQXzi/q30d9+cLJrMcxag+c8MTNQzC89BnRoorduO4W1/CzIKgUsCxBd0AQFLBckyWUhUsByWcIIFwEEEPCbwILN+3XDi3PDPkQYAzNT6P9d0DuwzlK9epH/imTWcJq2endgttXMb/dUyWnWszqnb2uZXRDNh5ba9OG0HJl1xcwi9GbNqulrdldbrIskdrNz4viT2gTW0+qW1SiSSzgHAQQ8LvDs9HX6w4erwkb5h+/1DczKdNthXie/4p9f6ZuN+8pCb5SaFJhV1r4Z615ZkU8KWFYoOr+NyH87c/5YiNAZAhSwnJEHokAAAQQQqEZg/e5c3fyveVq/5/BxZw3r0kw3jeiiMT2zqtz5qri4REu2HQwsyG4WHa5usfPmDVN05dAOumpoR09uB2+KWbPX7tEnK3bp05XZ2pMbvs5YZWlISUzQgI5NdEqXTI3u0UIntWvs6oIeDxsCCFgvYL7PXvvCN4FNHkoPMyvzv7cPV992ja3vMIYtPvHpt/rrp2vCenjqypN1fr82MezVX01TwPJHvilg+SPPdo6SApad2vSFAAIIIFBnAbNO1d2vL6hy1lTDlET1bpMRWEjdzBA6WlCszfsOa9PePK3ccUj7Q7Z6rywI85rgDad20gUntYnbQux1xqnjhWa9rENHCwNFrN05x8r+t7CoRA3rJ6l141SZNb/MGlnJibweWEdmLkPANwLZh47q3Cdnhv2RwGzmMPmeEWraMMUVDl+v3xt4dT10+cDLB7XXHy/t54r43RIkBSy3ZCq6OClgRefH1ccLUMDirkAAAQQQcI2A+Qu/WWz9d1NWBgov0R6JCfU0rk8rXX9qJw3q2JRZRdGCcj0CCPhe4Mt1e3X181/LvIZXeozu3kIvXD+4ylmyTkHbdzhf5z4xUzsPHS0LqUuLhoECXIOUJKeE6Yk4KGB5Io01DoICVo1EnFBLAQpYtQTjdAQQQACB+AuY2UK/n7JS7y7aFvZX8kgja9c0TRef3DawNouZHcCBAAIIIGCdwD9nrNPvpoSvh3XfGSfo/jO7W9eJxS2ZGanmVfXPVmWXtWxegXz3zlMDs3s5rBWggGWtp1Nbo4Dl1My4Ny4KWO7NHZEjgAACvhcwu0S99vXmwALl63bnVlvMMq/CjTohU+ef1IbZVr6/cwBAAIFYCphi0J2vLtCHy3aWdWP22jCzsE7vkRXLruvc9sSZ6/XoByvDrv/N+D665pROdW6TC6sWoIDlj7uDApY/8mznKClg2alNXwgggAACMRPIyy/Uqp05WrH9kA7k5QdeBzS7RXU0/5o3UJMG7lh/JWZANIwAAgjYKJBztEDjJ8zW+t3lm280TksOvI7ntJ38lmw9oEuemaOCovLXHs3r5c9cPYBXy2N0z1DAihGsw5qlgOWwhHggHApYHkgiQ0AAAQQQQAABBBBAwGkCa3blaPxTs3WkoKgsNLNhxtt3nOKYNaUOHS3QBX+fFdjwo/Qwr5ZPuXekGjdIdhqpZ+KhgOWZVFY7EApY/siznaOkgGWnNn0hgAACCCCAAAIIIOAjgf8t3q57X18YNuIze7fUs1cPjPui7mah+VtenqfPQ9a9Mpt7vHXbKRrYsamPsmT/UClg2W8ejx4pYMVD3dt9UsDydn4ZHQIIIIAAAggggAACcRX49fvL9eLsjWEx3DSis35xfu+4xvWnqav09LR1YTH8dFxP3XFa17jG5YfOKWD5IcsSBSx/5NnOUVLAslObvhBAAAEEEEAAAQQQ8JlAQVGxbnxprmZ+uyds5PFcJH3yku26+7XwmWFje7XUP68ZqIQEPnbH+halgBVrYWe0z5PkjDx4KQoKWF7KJmNBAAEEEEAAAQQQQMCBAmatqcue+VKrd+WURWfqRM9cPVBn92lla8TLtx/Upc98GbY2V7esdL1z53A1SmXdKzuSQQHLDuX490EBK/458FoEFLC8llHGgwACCCCAAAIIIICAAwW27s/TRRPmaE/usbLoUhIT9Pz1gzTyhBa2RLw395gufGq2th04UtZfRmqS3rt7hDpnmo9GHHYIUMCyQzn+fVDAin8OvBYBBSyvZZTxIIAAAggggAACCCDgUIHFWw7o8n9+qaMFxWURpiYn6N83DdXgTs1iGvWxwiJd98I3+mr9vrJ+zCywF28YotHd7SmgxXSALmqcApaLkhVFqBSwosDj0koFKGBxYyCAAAIIIIAAAggggIBtAtPX7NYt/5qn/KLyIlaj+kl65eahOql9k5jEkV9YrDtema/PQnYcNB09dE5P3TaaRdtjgl5NoxSw7BaPT38UsOLj7uVeKWB5ObuMDQEEEEAAAQQQQAABBwpMXbZTd722QEXFJWXRpddP0sTrBmlYl+aWRmyKV6avT1bsCmt3fP82+tvl/VWvHh+zLQWPoDEKWBEgeeAUniwPJNFhQ6CA5bCEEA4CCCCAAAIIIIAAAn4QmLRgqx54a3HYUOsnJWjClQM0tndLSwjMDoh3v7ZAHy0PL14N6dRM/7pxiNJSEi3ph0ZqJ0ABq3Zebj2bApZbM+fcuClgOTc3RIYAAggggAACCCCAgKcFXv9ms372zlKVlE/EklmX6ifjeuq2UV2imh2Vl1+oe19fpE9XhhevBnVsGiheNayf5GlbJw+OApaTs2NdbBSwrLOkpe8EKGBxJyCAAAIIIIAAAggggEDcBP63eLseeHORCkNeJzTBjO2VpT9c0k+Z6fVrHdvqnTm6742FWrUzJ+zaAR2a6OWbhsq8rsgRPwEKWPGzt7NnClh2avujLwpY/sgzo0QAAQQQQAABBBBAwLECX6zK1h2vzg/bndAEm5meol9e0Efn92sd0Wwss6bW87PW6y8frQlbJN601b99E/37piFqlJrsWAe/BEYByx+ZpoDljzzbOUoKWHZq0xcCCCCAAAIIIIAAAghUKrBi+yHd9so8bdl35Livm90Jbx/VRWf0aqmUpITjvn60oEhmYfh/zFivlTsOHff1kSdkasJVA5RB8coRdx8FLEekIeZBUMCKObHvOqCA5buUM2AEEEAAAQQQQAABBJwpcCAvX//336WaunxnpQE2bZCskzs0VY9WjZSWnKgjBUUyrwt+vX6vDucXHXeN2WDw1lFd9OBZPZSUeHzhy5kK3o+KApb3c2xGSAHLH3m2c5QUsOzUpi8EEEAAAQQQQAABBBCoVqCkpERvz9+qRyavUM7RwjprtW+Wpse/31+DOzWrcxtcGBsBClixcXVaqxSwnJYR98dDAcv9OWQECCCAAAIIIIAAAgh4TmBP7jH99ZM1+s+8rcetZ1XdYFOTE3TV0I66/8zuLNbu0LuCApZDE2NxWBSwLAalOXYh5B5AAAEEEEAAAQQQQAAB5wrsOnRU/5m3JTAra+PevCoD7dU6Qxf1b6NLB7ZT8zrsXOhcAe9FRgHLezmtbEQUsPyRZztHyQwsO7XpCwEEEEAAAQQQQAABBOosYGZlmUXa12XnBnYlNLOtmjRI0aCOTSla1VnV/gspYNlvHo8eKWDFQ93bfVLA8nZ+GR0CCCCAAAIIIIAAAggg4CgBCliOSkfMgqGAFTNa3zZMAcu3qWfgCCCAAAIIIIAAAggggID9AhSw7DePR48UsOKh7u0+KWB5O7+MDgEEEEAAAQQQQAABBBBwlAAFLEelI2bBUMCKGa1vG6aA5dvUM3AEEEAAAQQQQAABBBBAwH4BClj2m8ejRwpY8VD3dp8UsLydX0aHAAIIIIAAAggggAACCDhKgAKWo9IRs2AoYMWM1rcNU8DybeoZOAIIIIAAAggggAACCCBgvwAFLPvN49EjBax4qHu7TwpY3s4vo0MAAQQQQAABBBBAAAEEHCVAActR6YhZMBSwYkbr24YpYPk29QwcAQQQQAABBBBAAAEEELBfgAKW/ebx6JECVjzUvd0nBSxv55fRIYAAAggggAACCCCAAAKOEqCA5ah0xCwYClgxo/VtwxSwfJt6Bo4AAggggAACCCCAAAII2C9AAct+83j0SAErHure7pMClrfzy+gQQAABBBBAAAEEEEAAAUcJUMByVDpiFgwFrJjR+rZhCli+TT0DRwABBBBAAAEEEEAAAQTsF6CAZb95PHqkgBUPdW/3SQHL2/lldAgggAACCCCAAAIIIICAowQoYDkqHTELhgJWzGh92zAFLN+mnoEjgAACCCCAAAIIIIAAAvYLUMCy3zwePVLAioe6t/ukgOXt/DI6BBBAAAEEEEAAAQQQQMBRAhSwHJWOmAVDAStmtL5tmAKWb1PPwBFAAAEEEEAAAQQQQAAB+wUoYNlvHo8eKWDFQ93bfVLA8nZ+GR0CCCCAAAIIIIAAAggg4CgBCliOSkfMgqGAFTNa3zZMAcu3qWfgCCCAAAIIIIAAAggggID9AhSw7DePR48UsOKh7u0+KWB5O7+MDgEEEEAAAQQQQAABBBBwlAAFLEelI2bBUMCKGa1vG6aA5dvUM3AEEEAAAQQQQAABBBBAwH4BClj2m8ejRwpY8VD3dp8UsLydX0aHAAIIIIAAAggggAACCDhKgAKWo9IRs2AoYMWM1rcNU8DybeoZOAIIIIAAAggggAACCCBgvwAFLPvN49EjBax4qHu7TwpY3s4vo0MAAQQQQAABBBBAAAEEHCVAActR6YhZMBSwYkbr24YpYPk29QwcAQQQQAABBBBAAAEEELBfgAKW/ebx6JECVjzUvd0nBSxv55fRIYAAAggggAACCCCAAAKOEqCA5ah0xCwYClgxo/VtwxSwfJt6Bo4AAggggAACCCCAAAII2C9AAct+83j0SAErHure7pMClrfzy+gQQAABBBBAAAEEEEAAAUcJUMByVDpiFgwFrJjR+rbhsgLWrl271LCh+T85EEAAAQQQQAABBBBAAAEEEIiNgClgtWzZsrTxdEmHY9MTrcZTgAJWPPW92XcLSdneHBqjQgABBBBAAAEEEEAAAQQQcLhAlqTdDo+R8OogQAGrDmhcUq0ABSxuEAQQQAABBBBAAAEEEEAAgXgJUMCKl3yM+6WAFWNgHzZv7qnM4LjzHDz+BiEzxcw3OCfH6mBGQvOhAM+OD5POkKMW4LmJmpAGfCrAs+PTxDPsqAT8/NyYsZtjj6SSqBS52JECFLAcmRaCskGgbK0uSbwjbQM4XXhGgGfHM6lkIDYK8NzYiE1XnhLg2fFUOhmMTQI8NzZB0439AhSw7DenR2cI8I3dGXkgCvcJ8Oy4L2dEHH8Bnpv454AI3CnAs+POvBF1fAV4buLrT+8xFKCAFUNcmna0AN/YHZ0egnOwAM+Og5NDaI4V4LlxbGoIzOECPDsOTxDhOVKA58aRaSEoKwQoYFmhSBtuFOAbuxuzRsxOEODZcUIWiMFtAjw3bssY8TpFgGfHKZkgDjcJ8Ny4KVvEWisBCli14uJkDwnwjd1DyWQotgrw7NjKTWceEeC58UgiGYbtAjw7tpPToQcEeG48kESGULkABSzuDL8K8I3dr5ln3NEK8OxEK8j1fhTgufFj1hmzFQI8O1Yo0obfBHhu/JZxH42XApaPks1QwwT4xs4NgUDdBHh26ubGVf4W4Lnxd/4Zfd0FeHbqbseV/hXgufFv7j0/cgpYnk8xA0QAAQQQQAABBBBAAAEEEEAAAQTcLUABy935I3oEEEAAAQQQQAABBBBAAAEEEEDA8wIUsDyfYgaIAAIIIIAAAggggAACCCCAAAIIuFuAApa780f0CCCAAAIIIIAAAggggAACCCCAgOcFKGB5PsUMEAEEEEAAAQQQQAABBBBAAAEEEHC3AAUsd+eP6BFAAAEEEEAAAQQQQAABBBBAAAHPC1DA8nyKGSACCCCAAAIIIIAAAggggAACCCDgbgEKWO7OH9EjgAACCCCAAAIIIIAAAggggAACnheggOX5FDNABBBAAAEEEEAAAQQQQAABBBBAwN0CFLDcnT+ir7vARZJul3SypMaStkuaKukxSevq3ixXIuAogU6SNkQQ0WFJ6dWc11LSjyRdKKmDpDxJyyW9FPxXEkEfPHMRIHGKbQLm95+ekoaE/OsnKUXSMUmpEUbihGfDihgiHC6nIaBonx3zc+O6CBwflPSXGs6L9ucKz04EieAUSwTS301bhwAAEd5JREFUJI2TdLakwZK6Smoo6YCkJZL+K+lFSUdq6M2Ke5bnxpKU0ki8BChgxUuefuMlYO75iZJurCKAXEmXS5oSrwDpFwELBawoYA2S9IGkrCriMoVf88uQ+dBf2cEzZ2FCacoygeqejUgLWE54NqKNwTJQGvKNQLTPjhUFLCt+rvDs+OaWdcRAD0lqVEMkq4J/KPy2ivOivWd5bhxxKxBEtAIUsKIV5Hq3CfxM0m+DQb8V/O8dkoZJekJSZ0mmiDVQ0hq3DY54EaggEPpB41xJM6sQMjOozCysikdm8C+DrSXtlXSfpM+CsxbvlmT+meM5SbdW0TbPHLelEwVCn42tkuZKMvf7yAhnYDnh2bAiBifmhpicLRDts1NawJol6ZxqhmoKyQUx+rnCs+Pse8yL0Znfs8w9PUnSe8GfOfuDs9pvC74VYj6Xb5TUN/hZJNTBins22t/HrIjBi7llTDYLUMCyGZzu4ipgpt2a1wPNlF0zo+QCSaGvPplfypYFv/62pMviGi2dIxC9QOgHjdMlTatlk+b1DfPqYLGkUyV9VeH6pyTdFfx6f0lLK3ydZ66W4Jxum4D5S/gYSV9L2hns9VeSfhlhAcsJz0a0MdiGTUeeEoj22SktYE2XdFodZKz4ucKzUwd4LolKwPy+9BtJu6po5aeS/hD8mvnvP1U4L9p7lucmqvRxsZMEKGA5KRvEEmsBs55C6Q8E82F7cSUdPi7p/uAHcjPrJDvWQdE+AjEUiKaAlSxpd3C21TuSvldJnOavcduC6wZNCJmRVXoqz1wMk0vTlgtEWsBywrNhRQyWA9KgbwUifXYMULQFrGh/rvDs+PY2dfTAk4J/TGke/GOj+aNj6WHFPctz4+j0E1xtBChg1UaLc90uMCP4eoh5t7x7FYMZLml28Gs3SXrB7YMmfl8LRFPAMrNTzOuC5rhK0mtVSH4s6UxJW4JT4UNP45nz9e3nusFH+iHcCc+GFTG4LkEE7FiBSJ8dKwpY0f5c4dlx7G3k+8C+DC5pYpYw6RGiYcU9y3Pj+9vLOwAUsLyTS0ZSs0BOcKe1VyRdU8Xp9YNrASVKqmxGSc29cAYCzhGorIBldlnLjyDEH0v6c/C8btXszmmmxP88eF4LSXtC2uaZiwCaUxwjEOmHcCc8G1bE4Bh4AnG9QKTPTmUFLPP7ljmKIlSI9ucKz06E0Jxmu8D64Fq884I7FZYGYMU9y3NjezrpMFYCFLBiJUu7ThNoK8ks1GuOR4LrnFQV42ZJ7SV9GpxZ4rSxEA8CkQqEFrCWSzL/t1kDziwkulLSZEl/r+JVWbMw+83B12lNYbewik7Njp7PB782ImQGI89cpFniPKcIRPoh3AnPRrQxOMWcOLwhEOmzY0Zb+grhPkkHgh/Yzf/fvLI+J7gpSFU7QVvxc4Vnxxv3nNdGcbKkBcFBmfWy7gkZYLT3LM+N1+4Wn4+HApbPbwAfDf8kSYuC4zU/FMwPh6qO+ZIGSFoY/F8fMTFUjwlUt9156VDNLjhXSPqowtjNulcXBXcfNGtdVXWYzRD+F/zi+JD/5pnz2M3kg+FE+iHcCc9GtDH4IJ0M0UaBSJ+d0AJWdeH9NzhT/kiFk6z4ucKzY+ONQVcRC5g/mp8R3FzK3Oehm+JEe8/y3EScBk50gwAFLDdkiRitEAhd2+oWSROradRs7Wx2XKturSwrYqINBGIt0EHSP4PrV5m/7Jl1qsy25GZtheuDOwia1zfMhwQze6r0r38mrtK1rcwi7e2qCXSspE+CXw9dK4tnLtbZpX2rBSL9EO6EZyPaGKy2oz1/C0T67Bgls9Oa2QF6qiTzypTZla2ZJLNotXkdvXeQ8i1Jl1dgteLnCs+Ov+9VJ44+dIH1p4O/m4XGGe09y3PjxKwTU50FKGDVmY4LXSZgxTdvlw2ZcBGoUcDMsJokyfwsqLiluRN+YapxAJyAgIUCkX4Id8KzEW0MFrLRFAKK9NmpiapB8I8n5o+I5jBFrWkhF1nxuxzPTk1Z4Ot2Cpwt6QNJ5o+JZtbV0OAfFSlg2ZkF+nKVAAUsV6WLYKMQsGL6bBTdcykCjhV4I+Sv3GadhO3BSJ0wZd2xaATmSYFIP4Q74dmINgZPJpBBxU0g0mcnkgB7SVoRPNGs/XNryEVW/C7HsxNJFjjHDoGBkr6Q1Cg4Q94Ubs1M+YpHtPcsz40d2aQP2wQoYNlGTUdxFqjNAobmh4d5ZYpF3OOcNLq3RcC89md25jTHeZJKF88tXTTU7AyVWs0i7jeFvJJb10XceeZsSTWd1CAQ6YdwJzwb0cbAzYCAlQKRPjuR9mmWcDC7386VNCTkIit+l+PZiTQLnBdLge6SzJIlZvdms4HBKEmrqugw2nuW5yaWmaRt2wUoYNlOTodxEjD3+iFJ6ZL+LenaKuIwu60dDk7lnSDp7jjFS7cI2CVwZvCVDdNf6BpWods2dw2uVVJZTI9Kejj4BfOL2J7gf/PM2ZVB+rFKINIP4U54NqKNwSoz2kHACET67ESqNVuSeV2w4lqkVvxc4dmJNAucFysBs9O5KV6ZdUrNZxPzqmzoGqQV+432nuW5iVUmaTcuAhSw4sJOp3ESmCFppKQ1wUWsKwsjdH0FM7PkhTjFSrcI2CVwjaSXg52FzsAaI+mz4P//SkmvVxFQ6XoiZhaV+WUs9OCZsyuL9GOFQKQfwp3wbFgRgxVmtIFALApY6yR1qWQGlukr2p8rPDvcs/EUMH/omxn8HGI20BkXvKeri8mKe5bnJp5Zp29LBShgWcpJYw4XCN3lo1+FLWpLQ39c0v2SiiW1lpTt8DERHgLRCrwt6ZJgI20k7Qj+d3JwWnvj4ELvpeeE9pcpyexSmCKpshmLPHPRZofr7RSItIDlhGfDihjstKUvbwtE+uxEotBX0pLgiWYX3dsqXBTtzxWenUiywDmxEMgIbkpwcnBHaLORTumyDdX1Z8U9y3MTi4zSZlwEKGDFhZ1O4yTQMvgalNnl5n1JF1aIo5OkZZIaSjIf6i+LU5x0i4BVAmbdA1Ngqur4viSziLv5WWAWEjV/5Qs9/iLpR5LMOlhmduI3Fb7+VHC7Z7Mlulkk1OygE3rwzFmVSdqxQ6A2H8Kd8GxEG4MdpvThD4FIn51WwT+MmJ8plR1mmQez/qjZic0coyuZnWLFzxWeHX/cl04apVlL9KPgWlfmj+RmZvubtQgw2nuW56YW2JzqbAEKWM7OD9FZL/AzSb8NNmt+cJj/3hn8ZelJSZ0l5UoyO4OYVw05EHCzgFkY1BSm3pO0UNIuSQnBqetmHbibg8Urs+6b2f1mcYXBmhlW5i/hZjaiWdvqvuBrheaviPcE/5lLKu4UFdoMz5yb7yBvx95bkrmXSw/zPJhXx/ODH5xDR2+en2Mh/w8nPBtWxODtDDO6WAnU9dn5YXBtUbMW6fTgGlfm509zSadJ+r/g4u0mbrO5iHnFvbIj2p8rPDuxujNotzKBxOBM9tI/nD8Q/L2pKi1T4Mpz4O9jPDfc344QoIDliDQQhI0C5p6fKOnGKvo0xavLI5zSa2PYdIVAnQQOSDKvAFZ3bA/+JdB8mKjsGCTpA0lZVXx9qiQzDT70w33oqTxzdUodF9kgMK2SQlVV3Zo/bmys8EUnPBvRxmADM114UKCuz44pYP01Ao8XJd0eLCZXdroVP1d4diJIBKdYImDe8NhQi5Y2STLXVDyivWd5bmqRBE51rgAFLOfmhshiK3BxcF2FAcG/wJsP8WZqr5miaxYP5UDACwLfC25cYF7HMK8Tmr+eJUnaF5xtNVnSvyTl1DBYM/Xc7IJj/npods8xC48ul2Q+ZLwkybxCWNPBM1eTEF+3W6CuH8JD43TCs2FFDHbb05+7Ber67HSUdKmkUyT1Cf5MahKcbWI2AjG7Dz5fyevqVWlF+3OFZ8fd96FboreqgGXGa8U9y3PjljuHOCsVoIDFjYEAAggggAACCCCAAAIIIIAAAggg4GgBCliOTg/BIYAAAggggAACCCCAAAIIIIAAAghQwOIeQAABBBBAAAEEEEAAAQQQQAABBBBwtAAFLEenh+AQQAABBBBAAAEEEEAAAQQQQAABBChgcQ8ggAACCCCAAAIIIIAAAggggAACCDhagAKWo9NDcAgggAACCCCAAAIIIIAAAggggAACFLC4BxBAAAEEEEAAAQQQQAABBBBAAAEEHC1AAcvR6SE4BBBAAAEEEEAAAQQQQAABBBBAAAEKWNwDCCCAAAIIIIAAAggggAACCCCAAAKOFqCA5ej0EBwCCCCAAAIIIIAAAggggAACCCCAAAUs7gEEEEAAAQQQQAABBBBAAAEEEEAAAUcLUMBydHoIDgEEEEAAAQQQQAABBBBAAAEEEECAAhb3AAIIIIAAAggggAACCCCAAAIIIICAowUoYDk6PQSHAAIIIIAAAggggAACCCCAAAIIIEABi3sAAQQQQAABBBBAAAEEEEAAAQQQQMDRAhSwHJ0egkMAAQQQQAABBBBAAAEEEEAAAQQQoIDFPYAAAggggAACCCCAAAIIIIAAAggg4GgBCliOTg/BIYAAAggggAACCCCAAAIIIIAAAghQwOIeQAABBBBAAAEEEEAAAQQQQAABBBBwtAAFLEenh+AQQAABBBBAAAEEEEAAAQQQQAABBChgcQ8ggAACCCCAAAIIIIAAAggggAACCDhagAKWo9NDcAgggAACCCCAAAIIIIAAAggggAACFLC4BxBAAAEEEEAAAQQQQAABBBBAAAEEHC1AAcvR6SE4BBBAAAEEEEAAAQQQQAABBBBAAAEKWNwDCCCAAAIIIIAAAggggAACCCCAAAKOFqCA5ej0EBwCCCCAAAIIIIAAAggggAACCCCAAAUs7gEEEEAAAQQQQAABBBBAAAEEEEAAAUcLUMBydHoIDgEEEEAAAQQQQAABBBBAAAEEEECAAhb3AAIIIIAAAggggAACCCCAAAIIIICAowUoYDk6PQSHAAIIIIAAAggggAACCCCAAAIIIEABi3sAAQQQQAABBBBAAAEEEEAAAQQQQMDRAhSwHJ0egkMAAQQQQAABBBBAAAEEEEAAAQQQoIDFPYAAAggggAACCCCAAAIIIIAAAggg4GgBCliOTg/BIYAAAggggAACCCCAAAIIIIAAAghQwOIeQAABBBBAAAEEEEAAAQQQQAABBBBwtAAFLEenh+AQQAABBBBAAAEEEEAAAQQQQAABBChgcQ8ggAACCCCAAAIIIIAAAggggAACCDhagAKWo9NDcAgggAACCCCAAAIIIIAAAggggAACFLC4BxBAAAEEEEAAAQQQQAABBBBAAAEEHC1AAcvR6SE4BBBAAAEEEEAAAQQQQAABBBBAAAEKWNwDCCCAAAIIIIAAAggggAACCCCAAAKOFqCA5ej0EBwCCCCAAAIIIIAAAggggAACCCCAAAUs7gEEEEAAAQQQQAABBBBAAAEEEEAAAUcLUMBydHoIDgEEEEAAAQQQQAABBBBAAAEEEECAAhb3AAIIIIAAAggggAACCCCAAAIIIICAowUoYDk6PQSHAAIIIIAAAggggAACCCCAAAIIIEABi3sAAQQQQAABBBBAAAEEEEAAAQQQQMDRAhSwHJ0egkMAAQQQQAABBBBAAAEEEEAAAQQQoIDFPYAAAggggAACCCCAAAIIIIAAAggg4GgBCliOTg/BIYAAAggggAACCCCAAAIIIIAAAghQwOIeQAABBBBAAAEEEEAAAQQQQAABBBBwtAAFLEenh+AQQAABBBBAAAEEEEAAAQQQQAABBChgcQ8ggAACCCCAAAIIIIAAAggggAACCDhagAKWo9NDcAgggAACCCCAAAIIIIAAAggggAACFLC4BxBAAAEEEEAAAQQQQAABBBBAAAEEHC1AAcvR6SE4BBBAAAEEEEAAAQQQQAABBBBAAAEKWNwDCCCAAAIIIIAAAggggAACCCCAAAKOFqCA5ej0EBwCCCCAAAIIIIAAAggggAACCCCAAAUs7gEEEEAAAQQQQAABBBBAAAEEEEAAAUcLUMBydHoIDgEEEEAAAQQQQAABBBBAAAEEEECAAhb3AAIIIIAAAggggAACCCCAAAIIIICAowX+P80ADszq7ZLNAAAAAElFTkSuQmCC\" width=\"640\">"
      ],
      "text/plain": [
       "<IPython.core.display.HTML object>"
      ]
     },
     "metadata": {},
     "output_type": "display_data"
    },
    {
     "data": {
      "text/plain": [
       "[<matplotlib.lines.Line2D at 0xa6415c0>]"
      ]
     },
     "execution_count": 7,
     "metadata": {},
     "output_type": "execute_result"
    }
   ],
   "source": [
    "%matplotlib notebook\n",
    "dp_trace=h.traces[2].samples\n",
    "plt.plot(dp_trace)"
   ]
  },
  {
   "cell_type": "code",
   "execution_count": null,
   "metadata": {},
   "outputs": [],
   "source": [
    "dp=sum(np.uint64(h.traces[t].samples)*np.uint64(dp_trace))\n",
    "dp==h.traces[t].dot_product"
   ]
  },
  {
   "cell_type": "code",
   "execution_count": null,
   "metadata": {},
   "outputs": [],
   "source": [
    "dp"
   ]
  },
  {
   "cell_type": "code",
   "execution_count": null,
   "metadata": {
    "collapsed": true
   },
   "outputs": [],
   "source": [
    "trace_header_dt=np.dtype([('size',np.uint16),('trace_flags',np.uint8,(2,))])"
   ]
  },
  {
   "cell_type": "code",
   "execution_count": null,
   "metadata": {
    "collapsed": true
   },
   "outputs": [],
   "source": [
    "from tes.hdf5 import TraceFlags\n",
    "TraceFlags(h.frames[325].payload[2:4])"
   ]
  },
  {
   "cell_type": "code",
   "execution_count": null,
   "metadata": {
    "collapsed": true
   },
   "outputs": [],
   "source": [
    "h.traces[92]"
   ]
  },
  {
   "cell_type": "code",
   "execution_count": null,
   "metadata": {
    "collapsed": true
   },
   "outputs": [],
   "source": [
    "h.h['traces'][1]"
   ]
  },
  {
   "cell_type": "code",
   "execution_count": null,
   "metadata": {
    "collapsed": true
   },
   "outputs": [],
   "source": [
    "packets[0]['data'][24:]"
   ]
  },
  {
   "cell_type": "code",
   "execution_count": null,
   "metadata": {
    "collapsed": true
   },
   "outputs": [],
   "source": []
  },
  {
   "cell_type": "code",
   "execution_count": null,
   "metadata": {
    "collapsed": true
   },
   "outputs": [],
   "source": [
    "h.distributions[0].stop_time"
   ]
  },
  {
   "cell_type": "code",
   "execution_count": null,
   "metadata": {
    "collapsed": true
   },
   "outputs": [],
   "source": [
    "%matplotlib notebook\n",
    "plt.plot(h.distributions[0].bins,'.')"
   ]
  },
  {
   "cell_type": "code",
   "execution_count": null,
   "metadata": {
    "collapsed": true
   },
   "outputs": [],
   "source": [
    "h.frames[1].payload_type"
   ]
  },
  {
   "cell_type": "code",
   "execution_count": null,
   "metadata": {
    "collapsed": true
   },
   "outputs": [],
   "source": [
    "h.frames[52].payload"
   ]
  },
  {
   "cell_type": "code",
   "execution_count": null,
   "metadata": {
    "collapsed": true
   },
   "outputs": [],
   "source": [
    "frame_header_dt.names"
   ]
  },
  {
   "cell_type": "code",
   "execution_count": null,
   "metadata": {
    "collapsed": true
   },
   "outputs": [],
   "source": [
    "h.close()"
   ]
  },
  {
   "cell_type": "code",
   "execution_count": null,
   "metadata": {
    "collapsed": true
   },
   "outputs": [],
   "source": [
    "stream=Data.fromfile('bytestream',stream_dt,'teslib','measurement_subsystem_TB',tool='vivado')\n",
    "packets=_PacketData(stream)\n",
    "del stream\n",
    "# _import(packets)\n",
    "# h=h5py.File('TES.hdf5','r')"
   ]
  },
  {
   "cell_type": "code",
   "execution_count": null,
   "metadata": {
    "collapsed": true
   },
   "outputs": [],
   "source": [
    "packets[1]['data']"
   ]
  },
  {
   "cell_type": "code",
   "execution_count": null,
   "metadata": {
    "collapsed": true
   },
   "outputs": [],
   "source": [
    "packets[51]\n"
   ]
  },
  {
   "cell_type": "code",
   "execution_count": null,
   "metadata": {
    "collapsed": true
   },
   "outputs": [],
   "source": [
    "h.close()"
   ]
  },
  {
   "cell_type": "code",
   "execution_count": null,
   "metadata": {
    "collapsed": true
   },
   "outputs": [],
   "source": [
    "len(h['traces'])"
   ]
  },
  {
   "cell_type": "code",
   "execution_count": null,
   "metadata": {
    "collapsed": true
   },
   "outputs": [],
   "source": [
    "t=h['raw_data/event'][h['traces'][5]]"
   ]
  },
  {
   "cell_type": "code",
   "execution_count": null,
   "metadata": {
    "collapsed": true
   },
   "outputs": [],
   "source": [
    "%matplotlib notebook\n",
    "t=h['raw_data/event'][h['traces'][5]]\n",
    "tr=Trace(t)\n",
    "print(tr.flags,'\\n',tr.trace_flags)\n",
    "plt.plot(tr.samples)"
   ]
  },
  {
   "cell_type": "code",
   "execution_count": null,
   "metadata": {
    "collapsed": true
   },
   "outputs": [],
   "source": [
    "tr"
   ]
  },
  {
   "cell_type": "code",
   "execution_count": null,
   "metadata": {
    "collapsed": true
   },
   "outputs": [],
   "source": [
    "s=str(tr.flags)\n",
    "s"
   ]
  },
  {
   "cell_type": "code",
   "execution_count": null,
   "metadata": {
    "collapsed": true
   },
   "outputs": [],
   "source": [
    "print(s)"
   ]
  },
  {
   "cell_type": "code",
   "execution_count": null,
   "metadata": {
    "collapsed": true
   },
   "outputs": [],
   "source": [
    "type(h['raw_data/event'][h['traces'][0]])"
   ]
  },
  {
   "cell_type": "code",
   "execution_count": null,
   "metadata": {
    "collapsed": true
   },
   "outputs": [],
   "source": [
    "from tes.hdf5 import Trace"
   ]
  },
  {
   "cell_type": "code",
   "execution_count": null,
   "metadata": {
    "collapsed": true
   },
   "outputs": [],
   "source": [
    "tr.flags"
   ]
  },
  {
   "cell_type": "code",
   "execution_count": null,
   "metadata": {
    "collapsed": true
   },
   "outputs": [],
   "source": [
    "tr.trace_flags"
   ]
  },
  {
   "cell_type": "code",
   "execution_count": null,
   "metadata": {
    "collapsed": true
   },
   "outputs": [],
   "source": [
    "%matplotlib notebook\n",
    "plt.plot(tr.samples)"
   ]
  },
  {
   "cell_type": "code",
   "execution_count": null,
   "metadata": {
    "collapsed": true
   },
   "outputs": [],
   "source": [
    "len(tr.samples)"
   ]
  },
  {
   "cell_type": "code",
   "execution_count": null,
   "metadata": {
    "collapsed": true
   },
   "outputs": [],
   "source": [
    "first_dt = np.dtype([('size', np.uint16), ('tflags0', np.uint8), ('tflags1', np.uint8),\n",
    "        ('flags0', np.uint8), ('flags1', np.uint8), ('time', np.uint16)])\n",
    "\n"
   ]
  },
  {
   "cell_type": "code",
   "execution_count": null,
   "metadata": {
    "collapsed": true
   },
   "outputs": [],
   "source": []
  },
  {
   "cell_type": "code",
   "execution_count": null,
   "metadata": {
    "collapsed": true
   },
   "outputs": [],
   "source": [
    "t[0:8].view(first_dt)"
   ]
  },
  {
   "cell_type": "code",
   "execution_count": null,
   "metadata": {
    "collapsed": true
   },
   "outputs": [],
   "source": []
  },
  {
   "cell_type": "code",
   "execution_count": null,
   "metadata": {
    "collapsed": true
   },
   "outputs": [],
   "source": [
    "_rref = h5py.special_dtype(ref=h5py.RegionReference)\n",
    "h=h5py.File('test.hdf5', 'w')"
   ]
  },
  {
   "cell_type": "code",
   "execution_count": null,
   "metadata": {
    "collapsed": true
   },
   "outputs": [],
   "source": [
    "h.close()"
   ]
  },
  {
   "cell_type": "code",
   "execution_count": null,
   "metadata": {
    "collapsed": true
   },
   "outputs": [],
   "source": [
    "t= np.array((10,),'u1')\n",
    "h.create_dataset('t',(10,),dtype='u1')"
   ]
  },
  {
   "cell_type": "code",
   "execution_count": null,
   "metadata": {
    "collapsed": true
   },
   "outputs": [],
   "source": [
    "h.create_dataset('r',(10,),dtype=_rref)"
   ]
  },
  {
   "cell_type": "code",
   "execution_count": null,
   "metadata": {
    "collapsed": true
   },
   "outputs": [],
   "source": [
    "h.create_dataset('s',(10,),dtype='u1')"
   ]
  },
  {
   "cell_type": "code",
   "execution_count": null,
   "metadata": {
    "collapsed": true
   },
   "outputs": [],
   "source": [
    "h['s'][0]=0\n",
    "h['s'][1]=1"
   ]
  },
  {
   "cell_type": "code",
   "execution_count": null,
   "metadata": {
    "collapsed": true
   },
   "outputs": [],
   "source": [
    "h['r'][0]=h['t'].regionref[0:2]"
   ]
  },
  {
   "cell_type": "code",
   "execution_count": null,
   "metadata": {
    "collapsed": true
   },
   "outputs": [],
   "source": [
    "r=h['r'][0]"
   ]
  },
  {
   "cell_type": "code",
   "execution_count": null,
   "metadata": {
    "collapsed": true
   },
   "outputs": [],
   "source": [
    "t= np.array([0,1,2],'u1')"
   ]
  },
  {
   "cell_type": "code",
   "execution_count": null,
   "metadata": {
    "collapsed": true
   },
   "outputs": [],
   "source": [
    "t = [0,1]\n",
    "\n",
    "f = np.uint64(0)\n",
    "print(type(f))\n",
    "f += len(t)\n",
    "print(type(f))"
   ]
  },
  {
   "cell_type": "code",
   "execution_count": null,
   "metadata": {
    "collapsed": true
   },
   "outputs": [],
   "source": [
    "t[0:1][0]"
   ]
  },
  {
   "cell_type": "code",
   "execution_count": null,
   "metadata": {
    "collapsed": true
   },
   "outputs": [],
   "source": [
    "i=0\n",
    "for p in packets:\n",
    "    if i==7:\n",
    "        break\n",
    "    i+=1"
   ]
  },
  {
   "cell_type": "code",
   "execution_count": null,
   "metadata": {
    "collapsed": true
   },
   "outputs": [],
   "source": [
    "p"
   ]
  },
  {
   "cell_type": "code",
   "execution_count": null,
   "metadata": {
    "collapsed": true
   },
   "outputs": [],
   "source": [
    "lasts = np.where(stream['last'] < 0)[0] + 1"
   ]
  },
  {
   "cell_type": "code",
   "execution_count": null,
   "metadata": {
    "collapsed": true
   },
   "outputs": [],
   "source": [
    "lasts"
   ]
  },
  {
   "cell_type": "code",
   "execution_count": null,
   "metadata": {
    "collapsed": true
   },
   "outputs": [],
   "source": [
    "'last' in stream.dtype.names"
   ]
  },
  {
   "cell_type": "code",
   "execution_count": null,
   "metadata": {
    "collapsed": true
   },
   "outputs": [],
   "source": [
    "isinstance(stream,np.ndarray)"
   ]
  },
  {
   "cell_type": "code",
   "execution_count": null,
   "metadata": {
    "collapsed": true
   },
   "outputs": [],
   "source": [
    "type('poo')"
   ]
  },
  {
   "cell_type": "code",
   "execution_count": null,
   "metadata": {
    "collapsed": true
   },
   "outputs": [],
   "source": [
    "stream[lasts[0]:]"
   ]
  },
  {
   "cell_type": "code",
   "execution_count": null,
   "metadata": {
    "collapsed": true
   },
   "outputs": [],
   "source": [
    "ps=PacketStream(stream)\n",
    "# ps.traces"
   ]
  },
  {
   "cell_type": "code",
   "execution_count": null,
   "metadata": {
    "collapsed": true
   },
   "outputs": [],
   "source": [
    "type(ps[0])"
   ]
  },
  {
   "cell_type": "code",
   "execution_count": null,
   "metadata": {
    "collapsed": true
   },
   "outputs": [],
   "source": [
    "sum(stream['last']<0)"
   ]
  },
  {
   "cell_type": "code",
   "execution_count": null,
   "metadata": {
    "collapsed": true
   },
   "outputs": [],
   "source": [
    "%matplotlib notebook\n",
    "\n",
    "plt.plot(ps.traces[3]._view['trace'])\n",
    "# ps.traces[2]._view['trace'][-20:]"
   ]
  },
  {
   "cell_type": "code",
   "execution_count": null,
   "metadata": {
    "collapsed": true
   },
   "outputs": [],
   "source": [
    "ps.traces"
   ]
  },
  {
   "cell_type": "code",
   "execution_count": null,
   "metadata": {
    "collapsed": true,
    "run_control": {
     "frozen": false,
     "read_only": false
    },
    "scrolled": true
   },
   "outputs": [],
   "source": [
    "traces=Data.fromfile('traces',trace_dt,'teslib','measurement_subsystem_TB',tool='vivado')\n",
    "stream=Data.fromfile('bytestream',stream_dt,'teslib','measurement_subsystem_TB',tool='vivado')\n",
    "bs=PacketStream(stream)\n",
    "dists=bs.distributions\n",
    "#bs.packets\n",
    "dists"
   ]
  },
  {
   "cell_type": "code",
   "execution_count": null,
   "metadata": {
    "collapsed": true
   },
   "outputs": [],
   "source": [
    "d=dists[0]\n",
    "d.counts[-1]"
   ]
  },
  {
   "cell_type": "code",
   "execution_count": null,
   "metadata": {
    "collapsed": true
   },
   "outputs": [],
   "source": [
    "d.total+d.underflow+d.overflow"
   ]
  },
  {
   "cell_type": "code",
   "execution_count": null,
   "metadata": {
    "collapsed": true
   },
   "outputs": [],
   "source": [
    "%matplotlib notebook\n",
    "plt.plot(d.bins)"
   ]
  },
  {
   "cell_type": "code",
   "execution_count": null,
   "metadata": {
    "collapsed": true,
    "scrolled": false
   },
   "outputs": [],
   "source": [
    "f=EventFlags(es[2][2]['flags'])\n",
    "f.channel"
   ]
  },
  {
   "cell_type": "code",
   "execution_count": null,
   "metadata": {
    "collapsed": true,
    "run_control": {
     "frozen": false,
     "read_only": false
    },
    "scrolled": true
   },
   "outputs": [],
   "source": [
    "import tes.mca as mca\n",
    "d=bs.distributions[0]\n",
    "eset=np.uint64(1)\n",
    "bset=np.uint64(0)\n",
    "cset=np.uint64(20)\n",
    "\n",
    "stop=d.stop_time+eset+cset\n",
    "start=d.start_time+bset+cset\n",
    "bins=np.zeros((d.last_bin+1,),dtype=np.uint32)\n",
    "\n",
    "if d.value==mca.Value.raw_signal:\n",
    "    tname='raw'\n",
    "elif d.value==mca.Value.filtered_signal:\n",
    "    tname='filtered'\n",
    "elif d.value==mca.Value.slope_signal:\n",
    "    tname='slope'\n",
    "\n",
    "for i in range(start,stop):\n",
    "    s = traces[tname][i]\n",
    "    if s < d.lowest_value:\n",
    "        bins[0] += 1\n",
    "    else:\n",
    "        bin_number = s - d.lowest_value + 1\n",
    "        if bin_number < d.last_bin:\n",
    "            bins[bin_number] += 1\n",
    "        else:\n",
    "            bins[d.last_bin] += 1\n",
    "        \n",
    "bad=(bins-d.counts).nonzero()\n",
    "bad"
   ]
  },
  {
   "cell_type": "code",
   "execution_count": null,
   "metadata": {
    "collapsed": true
   },
   "outputs": [],
   "source": [
    "d.counts[bad][1:10]"
   ]
  },
  {
   "cell_type": "code",
   "execution_count": null,
   "metadata": {
    "collapsed": true
   },
   "outputs": [],
   "source": [
    "bins[bad][1:10]"
   ]
  },
  {
   "cell_type": "code",
   "execution_count": null,
   "metadata": {
    "collapsed": true
   },
   "outputs": [],
   "source": [
    "d.value"
   ]
  },
  {
   "cell_type": "code",
   "execution_count": null,
   "metadata": {
    "collapsed": true,
    "scrolled": false
   },
   "outputs": [],
   "source": [
    "%matplotlib notebook\n",
    "plt.step(np.arange(len(d.bins)),d.bins)\n",
    "# plt.step(np.arange(len(d.counts)),bins)\n",
    "plt.plot(bad,np.zeros_like(bad),'.k')"
   ]
  },
  {
   "cell_type": "code",
   "execution_count": null,
   "metadata": {
    "collapsed": true
   },
   "outputs": [],
   "source": [
    "sum(d.counts)"
   ]
  },
  {
   "cell_type": "code",
   "execution_count": null,
   "metadata": {
    "collapsed": true
   },
   "outputs": [],
   "source": [
    "2**14+2000"
   ]
  },
  {
   "cell_type": "code",
   "execution_count": null,
   "metadata": {
    "collapsed": true,
    "run_control": {
     "frozen": false,
     "read_only": false
    }
   },
   "outputs": [],
   "source": [
    "def plot_event(event_tupple):\n",
    "    pre=200\n",
    "    post=1000\n",
    "    timestamp=event_tupple[0]\n",
    "    event_type=event_tupple[1]\n",
    "    event=event_tupple[2]\n",
    "    flags=EventFlags(event['flags'])\n",
    "    print(flags)\n",
    "    print('timestamp',timestamp, 'time', event['time'])\n",
    "    if flags.type == Event.tick:\n",
    "        return\n",
    "    s=traces['filtered'][timestamp+20-pre:timestamp+20+post]\n",
    "    r=traces['raw'][timestamp+20-pre:timestamp+20+post]\n",
    "    i = np.where(abs(minmax['clk'])<=timestamp+20)[0][-1]\n",
    "    min_t=abs(minmax['clk'][i])-(timestamp+20)\n",
    "#     print(minmax['clk'][i],min_t,i,timestamp)\n",
    "    plt.plot(r,'k',linewidth=0.5)\n",
    "    plt.plot(s,'b',linewidth=2)\n",
    "    plt.plot([pre],s[pre],'sg')\n",
    "    plt.plot([pre+min_t],minmax['filtered'][i],'sr')\n",
    "    if event_type==Event.pulse:\n",
    "        for i in range(flags.peak_number):\n",
    "            p=event['peaks'][i]\n",
    "            plt.plot([0,len(s)-1],[p['height'],p['height']],':r')\n",
    "    else:\n",
    "      plt.plot([0,len(s)-1],[event['height'],event['height']],':r')\n",
    "        \n",
    "    #print(event['height'],event['minima'])\n",
    "    #print(minmax['filtered'][i]==s[pre+min_t])\n",
    "    #print(minmax['filtered'][i]==event['minima'])\n",
    "    #print(s[pre],s[pre-1])"
   ]
  },
  {
   "cell_type": "code",
   "execution_count": null,
   "metadata": {
    "collapsed": true,
    "run_control": {
     "frozen": false,
     "read_only": false
    }
   },
   "outputs": [],
   "source": [
    "pwd"
   ]
  },
  {
   "cell_type": "code",
   "execution_count": null,
   "metadata": {
    "collapsed": true
   },
   "outputs": [],
   "source": [
    "es=bs.eventstream\n",
    "es"
   ]
  },
  {
   "cell_type": "code",
   "execution_count": null,
   "metadata": {
    "collapsed": true,
    "run_control": {
     "frozen": false,
     "read_only": false
    }
   },
   "outputs": [],
   "source": [
    "%matplotlib notebook\n",
    "for e in es:\n",
    "    if e[1]==Event.peak:\n",
    "        plot_event(e)"
   ]
  },
  {
   "cell_type": "code",
   "execution_count": null,
   "metadata": {
    "collapsed": true,
    "run_control": {
     "frozen": false,
     "read_only": false
    }
   },
   "outputs": [],
   "source": [
    "es"
   ]
  },
  {
   "cell_type": "code",
   "execution_count": null,
   "metadata": {
    "collapsed": true,
    "run_control": {
     "frozen": false,
     "read_only": false
    }
   },
   "outputs": [],
   "source": [
    "dists=bs.distributions\n",
    "dists"
   ]
  },
  {
   "cell_type": "code",
   "execution_count": null,
   "metadata": {
    "collapsed": true,
    "run_control": {
     "frozen": false,
     "read_only": false
    }
   },
   "outputs": [],
   "source": [
    "bs.packets[185].payload"
   ]
  },
  {
   "cell_type": "code",
   "execution_count": null,
   "metadata": {
    "collapsed": true,
    "run_control": {
     "frozen": false,
     "read_only": false
    }
   },
   "outputs": [],
   "source": [
    "d=bs.distributions[0]\n",
    "eset=np.uint64(1)\n",
    "bset=np.uint64(0)\n",
    "cset=np.uint64(20)\n",
    "\n",
    "stop=d.stop_time+eset+cset\n",
    "start=d.start_time+bset+cset\n",
    "bins=np.zeros((d.last_bin+1,),dtype=np.uint32)\n",
    "for i in range(start,stop):\n",
    "    s = traces['raw'][i]\n",
    "    if s <= d.lowest_value:\n",
    "        bins[0] += 1\n",
    "    else:\n",
    "        bins[s-d.lowest_value] += 1\n",
    "        \n",
    "(bins-d.counts).nonzero()"
   ]
  },
  {
   "cell_type": "code",
   "execution_count": null,
   "metadata": {
    "collapsed": true,
    "run_control": {
     "frozen": false,
     "read_only": false
    }
   },
   "outputs": [],
   "source": [
    "%matplotlib notebook\n",
    "plt.step(np.arange(len(d.counts)),d.counts)"
   ]
  },
  {
   "cell_type": "code",
   "execution_count": null,
   "metadata": {
    "collapsed": true,
    "run_control": {
     "frozen": false,
     "read_only": false
    }
   },
   "outputs": [],
   "source": [
    "bins[bins.nonzero()]"
   ]
  },
  {
   "cell_type": "code",
   "execution_count": null,
   "metadata": {
    "collapsed": true,
    "run_control": {
     "frozen": false,
     "read_only": false
    }
   },
   "outputs": [],
   "source": [
    "sum(d.counts)"
   ]
  },
  {
   "cell_type": "code",
   "execution_count": null,
   "metadata": {
    "collapsed": true,
    "run_control": {
     "frozen": false,
     "read_only": false
    }
   },
   "outputs": [],
   "source": [
    "2**14+2000"
   ]
  },
  {
   "cell_type": "code",
   "execution_count": null,
   "metadata": {
    "collapsed": true,
    "run_control": {
     "frozen": false,
     "read_only": false
    }
   },
   "outputs": [],
   "source": [
    "es[3][2]['timestamp']-es[0][2]['timestamp']"
   ]
  },
  {
   "cell_type": "code",
   "execution_count": null,
   "metadata": {
    "collapsed": true,
    "run_control": {
     "frozen": false,
     "read_only": false
    }
   },
   "outputs": [],
   "source": [
    "def xings(s, thresh):\n",
    "    pos=s > thresh\n",
    "    neg=s < thresh\n",
    "    pos0=s >= thresh\n",
    "    neg0=s <= thresh\n",
    "    pos_xing_mask = np.bitwise_and(pos0[1:],neg[0:-1])  \n",
    "    neg_xing_mask = np.bitwise_and(neg0[1:],pos[0:-1])  \n",
    "    return pos_xing_mask.nonzero()[0]+1, neg_xing_mask.nonzero()[0]+1"
   ]
  },
  {
   "cell_type": "code",
   "execution_count": null,
   "metadata": {
    "collapsed": true,
    "run_control": {
     "frozen": false,
     "read_only": false
    }
   },
   "outputs": [],
   "source": [
    "from mpl_toolkits.axes_grid1 import host_subplot\n",
    "\n",
    "def plot_trace(traces,start,width):\n",
    "\n",
    "    ax = host_subplot(111)\n",
    "    axr = ax.twinx()\n",
    "    axt = ax.twiny()\n",
    "#ax.plot(t[0:-1:10],s[0:-1:10],'k')\n",
    "#ax.plot(t,s,'k')\n",
    "    axt.set_xlabel('Time ns',fontsize=18)\n",
    "    ax.set_ylabel('Voltage (Arbitary Units)',fontsize=18)\n",
    "#plt.xticks(visible=False)\n",
    "#plt.yticks(visible=False)\n",
    "#ax.set_xlim(0,t[4000000])\n",
    "#start=902000\n",
    "#width=2500\n",
    "    f=traces['filtered'][start:start+width]\n",
    "    s=traces['slope'][start:start+width]\n",
    "    t=np.arange(len(f))*4e-9\n",
    "#ts=t[pstart:pstop]\n",
    "#axins = fig.add_axes([.4, .45, .45, .4])\n",
    "    ax.set_xlim(t[0],t[-1])\n",
    "    axt.set_xlim(t[0],t[-1])\n",
    "\n",
    "    ylim=(-500,2000)\n",
    "\n",
    "    ax.set_ylim(ylim[0],ylim[1])\n",
    "    axr.set_ylim(ylim[0],ylim[1])\n",
    "\n",
    "    filtered, = ax.step(t,f,'k',lw=2,label='filtered')\n",
    "    slope, = ax.step(t,s,'b',label='slope')\n",
    "    ax.fill_between(t,0,s,alpha=.4)\n",
    "    plt.ylim=ylim\n",
    "\n",
    "pos=s>0\n",
    "neg=s<=0\n",
    "pos_xing_mask = np.bitwise_and(pos[1:-1],neg[0:-2])  \n",
    "neg_xing_mask = np.bitwise_and(neg[1:-1],pos[0:-2])  \n",
    "pos_xing=pos_xing_mask.nonzero()\n",
    "neg_xing=neg_xing_mask.nonzero()\n",
    "\n",
    "rx=[t[pos_xing[0][0]], t[neg_xing[0][0]]]\n",
    "ry=[f[pos_xing[0][0]], f[neg_xing[0][0]]]\n",
    "\n",
    "ax.fill_between(t[pos_xing[0][0]:neg_xing[0][0]],0,s[pos_xing[0][0]:neg_xing[0][0]],alpha=.4,color='r')\n",
    "\n",
    "#plt.plot(rx,[ry[0], ry[0]],'-r',lw=2)\n",
    "#plt.plot([rx[1],rx[1]], ry,'-r',lw=2)\n",
    "# thresholds\n",
    "sthresh = 600\n",
    "pthresh = 1000\n",
    "plt.plot([t[0], t[-1]], [sthresh, sthresh], '--b', lw=2)\n",
    "plt.plot([t[0], t[-1]], [pthresh, pthresh], '--k', lw=2)\n",
    "\n",
    "sthresh_xing=(s>sthresh).nonzero()[0][0]\n",
    "pthresh_xing=(f>pthresh).nonzero()[0][0]\n",
    "\n",
    "\n",
    "cf=.10\n",
    "height = ry[1]-ry[0]\n",
    "cfl=ry[0]+(height*cf)\n",
    "cfh=ry[1]-(height*cf)\n",
    "\n",
    "cfl_xing=(f>cfl).nonzero()[0][0]\n",
    "cfd_low=f[cfl_xing]\n",
    "cfh_xing=(f>cfh).nonzero()[0][0]\n",
    "cfd_high=f[cfh_xing]\n",
    "\n",
    "#plt.plot([t[cfl_xing], t[-1]],[cfd_low, cfd_low], ':r')\n",
    "#plt.plot([t[cfh_xing], t[-1]],[cfd_high, cfd_high], ':r')\n",
    "#plt.plot([x[1], t[-1]],[y[1], y[1]], ':r')\n",
    "plt.legend([filtered, slope],['Signal', 'Slope'],loc=2)\n",
    "\n",
    "#axr = ax.twinx()\n",
    "##################################################################\n",
    "#yticks=([ry[0],sthresh,pthresh,cfd_high,ry[1]])\n",
    "yticks=([sthresh,pthresh])\n",
    "axr.set_yticks(yticks)\n",
    "#yticklabels=['Start','Slope threshold','Pulse threshold','CF high','Peak']\n",
    "yticklabels=['Slope threshold','Pulse threshold']\n",
    "axr.set_yticklabels(yticklabels, color='r',fontsize=14)\n",
    "axr.get_yticklabels()[0].set_color('b')\n",
    "axr.get_yticklabels()[1].set_color('k')\n",
    "\n",
    "#xticks=([rx[0],t[cfl_xing],t[sthresh_xing],t[pthresh_xing],rx[1]])\n",
    "xticks=(t[cfl_xing],rx[1])\n",
    "#ax.set_xticks([rx[0],t[cfl_xing],t[sthresh_xing],t[pthresh_xing],rx[1]])\n",
    "ax.set_xticks(xticks)\n",
    "#xticklabels=['Start','CF low','Slope xing','Signal xing','Peak']\n",
    "xticklabels=['CF low','Peak']\n",
    "ax.set_xticklabels(xticklabels, color='r',fontsize=14)\n",
    "\n",
    "#plt.plot([t[cfh_xing], t[-1]],[cfd_high, cfd_high], ':r')\n",
    "#horoz start, stop lines\n",
    "#hpeak=ax.plot([xticks[1], t[-1]],[yticks[-1], yticks[-1]], '-.r')\n",
    "#hstart=ax.plot([xticks[0], t[-1]],[yticks[0], yticks[0]], '-.r')\n",
    "#vert start stop\n",
    "vstart=ax.plot([xticks[0], xticks[0]],[cfd_low, ylim[0]], '-.r')\n",
    "vpeak=ax.plot([xticks[1], xticks[1]],[ylim[0], ry[1]], '-.r')\n",
    "\n",
    "plt.tight_layout()\n",
    "plt.savefig('..//peakextraction7.svg')\n",
    "plt.show()\n",
    "print('risetime:',(xticks[1]-xticks[0])/4)\n",
    "print('height:',yticks[-1]-yticks[0])\n",
    "print('time:',(xticks[0]-rx[0])/4)\n",
    "print('area',sum(s[pos_xing[0][0]:neg_xing[0][0]])/256)\n"
   ]
  },
  {
   "cell_type": "code",
   "execution_count": null,
   "metadata": {
    "collapsed": true,
    "run_control": {
     "frozen": false,
     "read_only": false
    }
   },
   "outputs": [],
   "source": [
    "slope_0xings = xings(traces['slope'],0)"
   ]
  },
  {
   "cell_type": "code",
   "execution_count": null,
   "metadata": {
    "collapsed": true,
    "run_control": {
     "frozen": false,
     "read_only": false
    }
   },
   "outputs": [],
   "source": [
    "slope_0xings"
   ]
  },
  {
   "cell_type": "code",
   "execution_count": null,
   "metadata": {
    "collapsed": true,
    "run_control": {
     "frozen": false,
     "read_only": false
    }
   },
   "outputs": [],
   "source": [
    "%matplotlib notebook\n",
    "start=10000\n",
    "width=300\n",
    "plt.plot(traces['filtered'][start:start+width]/2)"
   ]
  },
  {
   "cell_type": "code",
   "execution_count": null,
   "metadata": {
    "collapsed": true,
    "run_control": {
     "frozen": false,
     "read_only": false
    }
   },
   "outputs": [],
   "source": [
    "%matplotlib notebook\n",
    "plt.plot(traces['slope'][20400:21700])"
   ]
  },
  {
   "cell_type": "code",
   "execution_count": null,
   "metadata": {
    "collapsed": true,
    "run_control": {
     "frozen": false,
     "read_only": false
    }
   },
   "outputs": [],
   "source": [
    "filtered=traces['filtered'][1100:]\n",
    "filteredL=traces['filteredL'][1100:]"
   ]
  },
  {
   "cell_type": "code",
   "execution_count": null,
   "metadata": {
    "collapsed": true,
    "run_control": {
     "frozen": false,
     "read_only": false
    }
   },
   "outputs": [],
   "source": [
    "filtered[:10]"
   ]
  },
  {
   "cell_type": "code",
   "execution_count": null,
   "metadata": {
    "collapsed": true,
    "run_control": {
     "frozen": false,
     "read_only": false
    }
   },
   "outputs": [],
   "source": [
    "filteredL[:10]/4"
   ]
  },
  {
   "cell_type": "code",
   "execution_count": null,
   "metadata": {
    "collapsed": true,
    "run_control": {
     "frozen": false,
     "read_only": false
    }
   },
   "outputs": [],
   "source": [
    "minmax_dt=np.dtype([('filtered','i4'),('low','i4'),('high','i4'),('clk','i4')])\n",
    "minmax=Data.fromfile('minmax',minmax_dt,'teslib','measurement_subsystem_TB',tool='vivado')\n",
    "fxing_dt=np.dtype([('extrema','i4'),('area','i4'),('clk','i4')])\n",
    "fxing=Data.fromfile('filteredxing',fxing_dt,'teslib','measurement_subsystem_TB',tool='vivado')"
   ]
  },
  {
   "cell_type": "code",
   "execution_count": null,
   "metadata": {
    "collapsed": true,
    "run_control": {
     "frozen": false,
     "read_only": false
    }
   },
   "outputs": [],
   "source": [
    "minmax"
   ]
  },
  {
   "cell_type": "code",
   "execution_count": null,
   "metadata": {
    "collapsed": true,
    "run_control": {
     "frozen": false,
     "read_only": false
    }
   },
   "outputs": [],
   "source": [
    "fxing"
   ]
  },
  {
   "cell_type": "code",
   "execution_count": null,
   "metadata": {
    "collapsed": true,
    "run_control": {
     "frozen": false,
     "read_only": false
    }
   },
   "outputs": [],
   "source": [
    "np.where(fxing['area']==0)"
   ]
  },
  {
   "cell_type": "code",
   "execution_count": null,
   "metadata": {
    "collapsed": true,
    "run_control": {
     "frozen": false,
     "read_only": false
    }
   },
   "outputs": [],
   "source": [
    "np.where(fxing['extrema']==0)"
   ]
  },
  {
   "cell_type": "code",
   "execution_count": null,
   "metadata": {
    "collapsed": true,
    "run_control": {
     "frozen": false,
     "read_only": false
    }
   },
   "outputs": [],
   "source": [
    "fxing[30]"
   ]
  },
  {
   "cell_type": "code",
   "execution_count": null,
   "metadata": {
    "collapsed": true,
    "run_control": {
     "frozen": false,
     "read_only": false
    }
   },
   "outputs": [],
   "source": [
    "exn=np.where(fxing['extrema']<0)\n",
    "clkn=np.where(fxing['clk']>0)"
   ]
  },
  {
   "cell_type": "code",
   "execution_count": null,
   "metadata": {
    "collapsed": true,
    "run_control": {
     "frozen": false,
     "read_only": false
    }
   },
   "outputs": [],
   "source": []
  },
  {
   "cell_type": "code",
   "execution_count": null,
   "metadata": {
    "collapsed": true,
    "run_control": {
     "frozen": false,
     "read_only": false
    }
   },
   "outputs": [],
   "source": [
    "fxing[374]"
   ]
  },
  {
   "cell_type": "code",
   "execution_count": null,
   "metadata": {
    "collapsed": true,
    "run_control": {
     "frozen": false,
     "read_only": false
    }
   },
   "outputs": [],
   "source": [
    "clkn"
   ]
  },
  {
   "cell_type": "code",
   "execution_count": null,
   "metadata": {
    "collapsed": true,
    "run_control": {
     "frozen": false,
     "read_only": false
    }
   },
   "outputs": [],
   "source": [
    "np.where(minmax[maxs[0]-1]['min']!=1)"
   ]
  },
  {
   "cell_type": "code",
   "execution_count": null,
   "metadata": {
    "collapsed": true,
    "run_control": {
     "frozen": false,
     "read_only": false
    }
   },
   "outputs": [],
   "source": [
    "minmax[maxs[0]-1][65]"
   ]
  },
  {
   "cell_type": "code",
   "execution_count": null,
   "metadata": {
    "collapsed": true,
    "run_control": {
     "frozen": false,
     "read_only": false
    }
   },
   "outputs": [],
   "source": [
    "2290-925"
   ]
  },
  {
   "cell_type": "code",
   "execution_count": null,
   "metadata": {
    "collapsed": true,
    "run_control": {
     "frozen": false,
     "read_only": false
    }
   },
   "outputs": [],
   "source": [
    "0.375*4"
   ]
  },
  {
   "cell_type": "code",
   "execution_count": null,
   "metadata": {
    "collapsed": true,
    "run_control": {
     "frozen": false,
     "read_only": false
    }
   },
   "outputs": [],
   "source": [
    "np.where(minmax['clock']==2290)"
   ]
  },
  {
   "cell_type": "code",
   "execution_count": null,
   "metadata": {
    "collapsed": true,
    "run_control": {
     "frozen": false,
     "read_only": false
    }
   },
   "outputs": [],
   "source": [
    "minmax[120:140]"
   ]
  },
  {
   "cell_type": "code",
   "execution_count": null,
   "metadata": {
    "collapsed": true,
    "run_control": {
     "frozen": false,
     "read_only": false
    }
   },
   "outputs": [],
   "source": [
    "stream_dt=np.dtype([('data','>i4'),('last','i4')])\n",
    "#stream=np.fromfile('data/stream',stream_dt)"
   ]
  },
  {
   "cell_type": "markdown",
   "metadata": {},
   "source": [
    "### bytestream stuff"
   ]
  },
  {
   "cell_type": "code",
   "execution_count": null,
   "metadata": {
    "collapsed": true,
    "run_control": {
     "frozen": false,
     "read_only": false
    }
   },
   "outputs": [],
   "source": [
    "stream_dt=np.dtype([('data','i4'),('last','i4')])\n",
    "stream=Data.fromfile('bytestream',stream_dt,'teslib','measurement_subsystem_TB',tool='vivado')\n",
    "lasts=np.where(stream['last']<=0)[0]+1\n",
    "#data=np.copy(stream['data'])"
   ]
  },
  {
   "cell_type": "code",
   "execution_count": null,
   "metadata": {
    "collapsed": true,
    "run_control": {
     "frozen": false,
     "read_only": false
    }
   },
   "outputs": [],
   "source": [
    "stream"
   ]
  },
  {
   "cell_type": "code",
   "execution_count": null,
   "metadata": {
    "collapsed": true,
    "run_control": {
     "frozen": false,
     "read_only": false
    }
   },
   "outputs": [],
   "source": []
  },
  {
   "cell_type": "code",
   "execution_count": null,
   "metadata": {
    "collapsed": true,
    "run_control": {
     "frozen": false,
     "read_only": false
    }
   },
   "outputs": [],
   "source": [
    "stream=np.fromfile('data/bytestream',stream_dt)"
   ]
  },
  {
   "cell_type": "code",
   "execution_count": null,
   "metadata": {
    "collapsed": true,
    "run_control": {
     "frozen": false,
     "read_only": false
    }
   },
   "outputs": [],
   "source": [
    "bs=PacketStream(stream)"
   ]
  },
  {
   "cell_type": "code",
   "execution_count": null,
   "metadata": {
    "collapsed": true,
    "run_control": {
     "frozen": false,
     "read_only": false
    }
   },
   "outputs": [],
   "source": [
    "bs.packets"
   ]
  },
  {
   "cell_type": "code",
   "execution_count": null,
   "metadata": {
    "collapsed": true,
    "run_control": {
     "frozen": false,
     "read_only": false
    }
   },
   "outputs": [],
   "source": [
    "bs.packets[4]"
   ]
  },
  {
   "cell_type": "code",
   "execution_count": null,
   "metadata": {
    "collapsed": true,
    "run_control": {
     "frozen": false,
     "read_only": false
    }
   },
   "outputs": [],
   "source": [
    "eheader_dt=[('etype','<u2'),('length','u2'),()]"
   ]
  },
  {
   "cell_type": "code",
   "execution_count": null,
   "metadata": {
    "collapsed": true,
    "run_control": {
     "frozen": false,
     "read_only": false
    }
   },
   "outputs": [],
   "source": [
    "'{:X}'.format(bs.packets[1].bytes[23])\n"
   ]
  },
  {
   "cell_type": "code",
   "execution_count": null,
   "metadata": {
    "collapsed": true,
    "run_control": {
     "frozen": false,
     "read_only": false
    }
   },
   "outputs": [],
   "source": [
    "'{:X}'.format(bs.packets[0].bytes[28:30].view(np.uint16)[0])"
   ]
  },
  {
   "cell_type": "code",
   "execution_count": null,
   "metadata": {
    "collapsed": true,
    "run_control": {
     "frozen": false,
     "read_only": false
    }
   },
   "outputs": [],
   "source": [
    "pulse_peak_dt=np.dtype([('height','i2'),('rise','i2'),('minima','u2'),('time','i2')])\n",
    "pulse_dt=np.dtype([('size','i2'),('resv','i2'),('flags','i2'),('time','u2'),\n",
    "                  ('area','i4'),('length','i2'),('offset','i2'),('peaks',(pulse_peak_dt,2))])"
   ]
  },
  {
   "cell_type": "code",
   "execution_count": null,
   "metadata": {
    "collapsed": true,
    "run_control": {
     "frozen": false,
     "read_only": false
    }
   },
   "outputs": [],
   "source": [
    "pulses=bs.packets[3].payload.view(pulse_dt)"
   ]
  },
  {
   "cell_type": "code",
   "execution_count": null,
   "metadata": {
    "collapsed": true,
    "run_control": {
     "frozen": false,
     "read_only": false
    }
   },
   "outputs": [],
   "source": [
    "pulses['peaks']"
   ]
  },
  {
   "cell_type": "code",
   "execution_count": null,
   "metadata": {
    "collapsed": true,
    "run_control": {
     "frozen": false,
     "read_only": false
    }
   },
   "outputs": [],
   "source": [
    "pulses['offset']"
   ]
  },
  {
   "cell_type": "code",
   "execution_count": null,
   "metadata": {
    "collapsed": true,
    "run_control": {
     "frozen": false,
     "read_only": false
    }
   },
   "outputs": [],
   "source": [
    "pulses['length']"
   ]
  },
  {
   "cell_type": "code",
   "execution_count": null,
   "metadata": {
    "collapsed": true,
    "run_control": {
     "frozen": false,
     "read_only": false
    }
   },
   "outputs": [],
   "source": [
    "class eflags:\n",
    "    def __init__(self,uint16):\n",
    "        self.new_window=np.bitwise_and(uint16,0x00000001)!=0\n",
    "        self.tick=np.bitwise_and(uint16,0x00000002)!=0\n",
    "        self.type=np.right_shift(np.bitwise_and(uint16,0x0000000c),2)\n",
    "        \n",
    "    def __repr__(self):\n",
    "        return 'New window:{:}\\n'.format(self.new_window) + \\\n",
    "               'Tick:{:}\\n'.format(self.tick) + \\\n",
    "               'Type:{:}\\n'.format(self.type) "
   ]
  },
  {
   "cell_type": "code",
   "execution_count": null,
   "metadata": {
    "collapsed": true,
    "run_control": {
     "frozen": false,
     "read_only": false
    }
   },
   "outputs": [],
   "source": [
    "f=eflags(pulses[0]['flags'])\n",
    "f"
   ]
  },
  {
   "cell_type": "code",
   "execution_count": null,
   "metadata": {
    "collapsed": true,
    "run_control": {
     "frozen": false,
     "read_only": false
    }
   },
   "outputs": [],
   "source": [
    "'{:X}'.format(bs.packets[3].bytes[13:14].view(np.uint16))"
   ]
  },
  {
   "cell_type": "code",
   "execution_count": null,
   "metadata": {
    "collapsed": true,
    "run_control": {
     "frozen": false,
     "read_only": false
    }
   },
   "outputs": [],
   "source": []
  },
  {
   "cell_type": "code",
   "execution_count": null,
   "metadata": {
    "collapsed": true,
    "run_control": {
     "frozen": false,
     "read_only": false
    }
   },
   "outputs": [],
   "source": [
    "'{:X}'.format(bs.packets[3].bytes[14:16].view(np.uint16)[0])"
   ]
  },
  {
   "cell_type": "code",
   "execution_count": null,
   "metadata": {
    "collapsed": true,
    "run_control": {
     "frozen": false,
     "read_only": false
    }
   },
   "outputs": [],
   "source": [
    "bs.packets[3].bytes[14:16].view(np.uint16)[0]"
   ]
  },
  {
   "cell_type": "code",
   "execution_count": null,
   "metadata": {
    "collapsed": true,
    "run_control": {
     "frozen": false,
     "read_only": false
    }
   },
   "outputs": [],
   "source": [
    "bs=np.uint8(stream['data'][:48])"
   ]
  },
  {
   "cell_type": "code",
   "execution_count": null,
   "metadata": {
    "collapsed": true,
    "run_control": {
     "frozen": false,
     "read_only": false
    }
   },
   "outputs": [],
   "source": [
    "bs"
   ]
  },
  {
   "cell_type": "code",
   "execution_count": null,
   "metadata": {
    "collapsed": true,
    "run_control": {
     "frozen": false,
     "read_only": false
    }
   },
   "outputs": [],
   "source": [
    "events=stream['data'].view(event_dt)"
   ]
  },
  {
   "cell_type": "code",
   "execution_count": null,
   "metadata": {
    "collapsed": true,
    "run_control": {
     "frozen": false,
     "read_only": false
    }
   },
   "outputs": [],
   "source": [
    "'{:X}'.format(events['flags'][0])"
   ]
  },
  {
   "cell_type": "code",
   "execution_count": null,
   "metadata": {
    "collapsed": true,
    "run_control": {
     "frozen": false,
     "read_only": false
    }
   },
   "outputs": [],
   "source": [
    "events['rise']"
   ]
  },
  {
   "cell_type": "code",
   "execution_count": null,
   "metadata": {
    "collapsed": true,
    "run_control": {
     "frozen": false,
     "read_only": false
    }
   },
   "outputs": [],
   "source": [
    "events"
   ]
  },
  {
   "cell_type": "code",
   "execution_count": null,
   "metadata": {
    "collapsed": true,
    "run_control": {
     "frozen": false,
     "read_only": false
    }
   },
   "outputs": [],
   "source": [
    "'{:04X}'.format(events['flags'][1])"
   ]
  },
  {
   "cell_type": "code",
   "execution_count": null,
   "metadata": {
    "collapsed": true,
    "run_control": {
     "frozen": false,
     "read_only": false
    }
   },
   "outputs": [],
   "source": [
    "pulse_peak_dt=np.dtype([('time','>i2'),('minima','>i2'),('rise','>u2'),('height','>i2')])\n",
    "pulse_dt=np.dtype([('time','>i2'),('flags','>i2'),('resv','>i2'),('size','>u2'),\n",
    "                  ('offset','>i2'),('length','>i2'),('area','>i4'),('peaks',(pulse_peak_dt,1))])\n",
    "data=np.copy(stream['data'])"
   ]
  },
  {
   "cell_type": "code",
   "execution_count": null,
   "metadata": {
    "collapsed": true,
    "run_control": {
     "frozen": false,
     "read_only": false
    }
   },
   "outputs": [],
   "source": [
    "pulses=data.view(pulse_dt)"
   ]
  },
  {
   "cell_type": "code",
   "execution_count": null,
   "metadata": {
    "collapsed": true,
    "run_control": {
     "frozen": false,
     "read_only": false
    }
   },
   "outputs": [],
   "source": [
    "pulses['peaks']['height']-pulses['peaks']['minima']"
   ]
  },
  {
   "cell_type": "code",
   "execution_count": null,
   "metadata": {
    "collapsed": true,
    "run_control": {
     "frozen": false,
     "read_only": false
    }
   },
   "outputs": [],
   "source": [
    "pulses['peaks']['minima']"
   ]
  },
  {
   "cell_type": "code",
   "execution_count": null,
   "metadata": {
    "collapsed": true,
    "run_control": {
     "frozen": false,
     "read_only": false
    }
   },
   "outputs": [],
   "source": [
    "peak_count=np.right_shift(np.bitwise_and(pulses['flags'],0xF000),12)\n",
    "peak_overflow=np.bitwise_and(pulses['flags'],0x0800)!=0\n",
    "channel=np.right_shift(np.bitwise_and(pulses['flags'],0x0700),8)\n",
    "timing_type=np.right_shift(np.bitwise_and(pulses['flags'],0x00C0),6)\n",
    "height_type=np.right_shift(np.bitwise_and(pulses['flags'],0x0030),4)\n",
    "event_type=np.right_shift(np.bitwise_and(pulses['flags'],0x000E),1)\n",
    "new_window=np.bitwise_and(pulses['flags'],0x0001)!=0"
   ]
  },
  {
   "cell_type": "code",
   "execution_count": null,
   "metadata": {
    "collapsed": true,
    "run_control": {
     "frozen": false,
     "read_only": false
    }
   },
   "outputs": [],
   "source": [
    "peak_overflow"
   ]
  },
  {
   "cell_type": "code",
   "execution_count": null,
   "metadata": {
    "collapsed": true,
    "run_control": {
     "frozen": false,
     "read_only": false
    }
   },
   "outputs": [],
   "source": [
    "test_dt=np.dtype(\n",
    "    [('time','i2'),('flags','i2'),('rise','u2'),('minima','i2'),('low','u8'),('high','u8')]\n",
    ")\n",
    "test=data.view(test_dt)"
   ]
  },
  {
   "cell_type": "code",
   "execution_count": null,
   "metadata": {
    "collapsed": true,
    "run_control": {
     "frozen": false,
     "read_only": false
    }
   },
   "outputs": [],
   "source": [
    "test"
   ]
  },
  {
   "cell_type": "code",
   "execution_count": null,
   "metadata": {
    "collapsed": true,
    "run_control": {
     "frozen": false,
     "read_only": false
    }
   },
   "outputs": [],
   "source": [
    "test['minima']"
   ]
  },
  {
   "cell_type": "code",
   "execution_count": null,
   "metadata": {
    "collapsed": true,
    "run_control": {
     "frozen": false,
     "read_only": false
    }
   },
   "outputs": [],
   "source": [
    "low1=np.int32(np.right_shift(np.bitwise_and(test['low'],0x03FFFF000000000),36))\n",
    "s=(np.bitwise_and(low1,0x00020000)!=0)*0xFFFC0000\n",
    "low2=np.int32(np.right_shift(np.bitwise_and(test['low'],0x000000FFFFC0000),18))\n",
    "low_threshold=np.int32(np.bitwise_and(test['low'],0x00000000003FFFF))\n",
    "high1=np.int32(np.right_shift(np.bitwise_and(test['high'],0x03FFFF000000000),36))\n",
    "high2=np.int32(np.right_shift(np.bitwise_and(test['high'],0x000000FFFFC0000),18))\n",
    "high_threshold=np.int32(np.bitwise_and(test['high'],0x00000000003FFFF))"
   ]
  },
  {
   "cell_type": "code",
   "execution_count": null,
   "metadata": {
    "collapsed": true,
    "run_control": {
     "frozen": false,
     "read_only": false
    }
   },
   "outputs": [],
   "source": [
    "np.int32(np.bitwise_or(low1,s))/8.0"
   ]
  },
  {
   "cell_type": "code",
   "execution_count": null,
   "metadata": {
    "collapsed": true,
    "run_control": {
     "frozen": false,
     "read_only": false
    }
   },
   "outputs": [],
   "source": [
    "'{:04X}'.format(low1[0])"
   ]
  },
  {
   "cell_type": "code",
   "execution_count": null,
   "metadata": {
    "collapsed": true,
    "run_control": {
     "frozen": false,
     "read_only": false
    }
   },
   "outputs": [],
   "source": [
    "high1/8.0"
   ]
  },
  {
   "cell_type": "code",
   "execution_count": null,
   "metadata": {
    "collapsed": true,
    "run_control": {
     "frozen": false,
     "read_only": false
    }
   },
   "outputs": [],
   "source": [
    "high2/8.0"
   ]
  },
  {
   "cell_type": "code",
   "execution_count": null,
   "metadata": {
    "collapsed": true,
    "run_control": {
     "frozen": false,
     "read_only": false
    }
   },
   "outputs": [],
   "source": [
    "'{:04X}'.format(high_threshold[0])"
   ]
  },
  {
   "cell_type": "code",
   "execution_count": null,
   "metadata": {
    "collapsed": true,
    "run_control": {
     "frozen": false,
     "read_only": false
    }
   },
   "outputs": [],
   "source": [
    "from enum import Enum"
   ]
  },
  {
   "cell_type": "code",
   "execution_count": null,
   "metadata": {
    "collapsed": true,
    "run_control": {
     "frozen": false,
     "read_only": false
    }
   },
   "outputs": [],
   "source": [
    "class VhdlEnum(int, Enum):\n",
    "\n",
    "    def __str__(self):\n",
    "        return self.name.replace(\"-\", \" \")\n",
    "    \n",
    "    def select(self):\n",
    "        return pow(2, self.value)\n",
    "    "
   ]
  },
  {
   "cell_type": "code",
   "execution_count": null,
   "metadata": {
    "collapsed": true,
    "run_control": {
     "frozen": false,
     "read_only": false
    }
   },
   "outputs": [],
   "source": [
    "class Test(VhdlEnum):\n",
    "    a=0\n",
    "    b=1"
   ]
  },
  {
   "cell_type": "code",
   "execution_count": null,
   "metadata": {
    "collapsed": true,
    "run_control": {
     "frozen": false,
     "read_only": false
    }
   },
   "outputs": [],
   "source": [
    "Test(0)"
   ]
  },
  {
   "cell_type": "code",
   "execution_count": null,
   "metadata": {
    "collapsed": true,
    "run_control": {
     "frozen": false,
     "read_only": false
    }
   },
   "outputs": [],
   "source": []
  }
 ],
 "metadata": {
  "anaconda-cloud": {},
  "kernelspec": {
   "display_name": "Python 3",
   "language": "python",
   "name": "python3"
  },
  "language_info": {
   "codemirror_mode": {
    "name": "ipython",
    "version": 3
   },
   "file_extension": ".py",
   "mimetype": "text/x-python",
   "name": "python",
   "nbconvert_exporter": "python",
   "pygments_lexer": "ipython3",
   "version": "3.6.1"
  }
 },
 "nbformat": 4,
 "nbformat_minor": 1
}
