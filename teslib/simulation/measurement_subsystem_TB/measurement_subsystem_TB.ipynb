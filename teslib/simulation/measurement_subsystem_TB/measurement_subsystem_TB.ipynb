{
 "cells": [
  {
   "cell_type": "markdown",
   "metadata": {},
   "source": [
    "timestamp 0 => clk 20\n",
    "\n",
    "traces start at clk 1"
   ]
  },
  {
   "cell_type": "code",
   "execution_count": 1,
   "metadata": {
    "collapsed": false,
    "run_control": {
     "frozen": false,
     "read_only": false
    }
   },
   "outputs": [],
   "source": [
    "from tes.data import Data,PacketStream,Packet,Payload,EventFlags,Event\n",
    "from tes.hdf5 import _PacketData, _import\n",
    "import numpy as np\n",
    "import matplotlib.pyplot as plt\n",
    "from subprocess import Popen\n",
    "\n",
    "import logging\n",
    "import sys\n",
    "logger = logging.getLogger('tes')\n",
    "logger.setLevel(logging.DEBUG)\n",
    "handler = logging.StreamHandler(sys.stderr)\n",
    "formatter = logging.Formatter('%(name)s:%(levelname)s %(message)s')\n",
    "handler.setFormatter(formatter)\n",
    "logger.handlers = [handler]\n",
    "\n",
    "trace_dt=np.dtype([('raw','i4'),('filtered','i4'),('slope','i4'),('filteredL','i4')])\n",
    "stream_dt=np.dtype([('data','i4'),('last','i4')])\n",
    "minmax_dt=np.dtype(\n",
    "    [\n",
    "        ('filtered','i4'),('timing_threshold','i4'),\n",
    "        ('height_threshold','i4'),('slope_extrema','i4'),('slope_area','i4'),('clk','i4')\n",
    "    ]\n",
    ")\n",
    "cfd_dt=np.dtype('i4')\n",
    "filteredxing_dt=np.dtype([('extrema','i4'),('area','i4'),('clk','i4')])"
   ]
  },
  {
   "cell_type": "code",
   "execution_count": null,
   "metadata": {
    "collapsed": false,
    "run_control": {
     "frozen": false,
     "read_only": false
    },
    "scrolled": false
   },
   "outputs": [],
   "source": [
    "%matplotlib notebook\n",
    "traces=Data.fromfile('traces',trace_dt,'teslib','measurement_subsystem_TB',tool='vivado')\n",
    "plt.plot(traces['slope'][1100:],'r',linewidth=1)\n",
    "plt.plot(traces['raw'][1100:],linewidth=0.5)\n",
    "plt.plot(traces['filtered'][1100:],'k',linewidth=2)"
   ]
  },
  {
   "cell_type": "code",
   "execution_count": 50,
   "metadata": {
    "collapsed": false
   },
   "outputs": [
    {
     "name": "stderr",
     "output_type": "stream",
     "text": [
      "tes.hdf5:DEBUG PacketData: from ndarray\n",
      "tes.hdf5:INFO import:pass 1: calculating sizes for hdf5 pre-allocation\n",
      "tes.hdf5:INFO import:pass 1:found 34992 bytes in 400 frames 0 sequence errors.\n",
      "tes.hdf5:DEBUG tick frames: 264 data bytes in 11 frames\n",
      "tes.hdf5:DEBUG event frames: 24168 data bytes in 318 frames\n",
      "tes.hdf5:DEBUG MCA frames: 7360 data bytes in 71 frames\n",
      "tes.hdf5:DEBUG unidentified frames: 0 bytes in 0 frames\n",
      "tes.hdf5:DEBUG MCA distributions:1  traces:159\n",
      "tes.hdf5:INFO import:pass 2:importing data\n"
     ]
    }
   ],
   "source": [
    "import h5py\n",
    "from tes.hdf5 import Trace, Hdf5, frame_header_dt\n",
    "stream=Data.fromfile('bytestream',stream_dt,'teslib','measurement_subsystem_TB',tool='vivado')\n",
    "# packets=_PacketData(stream)\n",
    "# del stream\n",
    "# _import(packets)\n",
    "# h=h5py.File('TES.hdf5','r')\n",
    "h=Hdf5('TES.hdf5',stream)\n",
    "del stream"
   ]
  },
  {
   "cell_type": "code",
   "execution_count": 52,
   "metadata": {
    "collapsed": false
   },
   "outputs": [
    {
     "name": "stdout",
     "output_type": "stream",
     "text": [
      "2\n"
     ]
    },
    {
     "data": {
      "application/javascript": [
       "/* Put everything inside the global mpl namespace */\n",
       "window.mpl = {};\n",
       "\n",
       "\n",
       "mpl.get_websocket_type = function() {\n",
       "    if (typeof(WebSocket) !== 'undefined') {\n",
       "        return WebSocket;\n",
       "    } else if (typeof(MozWebSocket) !== 'undefined') {\n",
       "        return MozWebSocket;\n",
       "    } else {\n",
       "        alert('Your browser does not have WebSocket support.' +\n",
       "              'Please try Chrome, Safari or Firefox ≥ 6. ' +\n",
       "              'Firefox 4 and 5 are also supported but you ' +\n",
       "              'have to enable WebSockets in about:config.');\n",
       "    };\n",
       "}\n",
       "\n",
       "mpl.figure = function(figure_id, websocket, ondownload, parent_element) {\n",
       "    this.id = figure_id;\n",
       "\n",
       "    this.ws = websocket;\n",
       "\n",
       "    this.supports_binary = (this.ws.binaryType != undefined);\n",
       "\n",
       "    if (!this.supports_binary) {\n",
       "        var warnings = document.getElementById(\"mpl-warnings\");\n",
       "        if (warnings) {\n",
       "            warnings.style.display = 'block';\n",
       "            warnings.textContent = (\n",
       "                \"This browser does not support binary websocket messages. \" +\n",
       "                    \"Performance may be slow.\");\n",
       "        }\n",
       "    }\n",
       "\n",
       "    this.imageObj = new Image();\n",
       "\n",
       "    this.context = undefined;\n",
       "    this.message = undefined;\n",
       "    this.canvas = undefined;\n",
       "    this.rubberband_canvas = undefined;\n",
       "    this.rubberband_context = undefined;\n",
       "    this.format_dropdown = undefined;\n",
       "\n",
       "    this.image_mode = 'full';\n",
       "\n",
       "    this.root = $('<div/>');\n",
       "    this._root_extra_style(this.root)\n",
       "    this.root.attr('style', 'display: inline-block');\n",
       "\n",
       "    $(parent_element).append(this.root);\n",
       "\n",
       "    this._init_header(this);\n",
       "    this._init_canvas(this);\n",
       "    this._init_toolbar(this);\n",
       "\n",
       "    var fig = this;\n",
       "\n",
       "    this.waiting = false;\n",
       "\n",
       "    this.ws.onopen =  function () {\n",
       "            fig.send_message(\"supports_binary\", {value: fig.supports_binary});\n",
       "            fig.send_message(\"send_image_mode\", {});\n",
       "            if (mpl.ratio != 1) {\n",
       "                fig.send_message(\"set_dpi_ratio\", {'dpi_ratio': mpl.ratio});\n",
       "            }\n",
       "            fig.send_message(\"refresh\", {});\n",
       "        }\n",
       "\n",
       "    this.imageObj.onload = function() {\n",
       "            if (fig.image_mode == 'full') {\n",
       "                // Full images could contain transparency (where diff images\n",
       "                // almost always do), so we need to clear the canvas so that\n",
       "                // there is no ghosting.\n",
       "                fig.context.clearRect(0, 0, fig.canvas.width, fig.canvas.height);\n",
       "            }\n",
       "            fig.context.drawImage(fig.imageObj, 0, 0);\n",
       "        };\n",
       "\n",
       "    this.imageObj.onunload = function() {\n",
       "        this.ws.close();\n",
       "    }\n",
       "\n",
       "    this.ws.onmessage = this._make_on_message_function(this);\n",
       "\n",
       "    this.ondownload = ondownload;\n",
       "}\n",
       "\n",
       "mpl.figure.prototype._init_header = function() {\n",
       "    var titlebar = $(\n",
       "        '<div class=\"ui-dialog-titlebar ui-widget-header ui-corner-all ' +\n",
       "        'ui-helper-clearfix\"/>');\n",
       "    var titletext = $(\n",
       "        '<div class=\"ui-dialog-title\" style=\"width: 100%; ' +\n",
       "        'text-align: center; padding: 3px;\"/>');\n",
       "    titlebar.append(titletext)\n",
       "    this.root.append(titlebar);\n",
       "    this.header = titletext[0];\n",
       "}\n",
       "\n",
       "\n",
       "\n",
       "mpl.figure.prototype._canvas_extra_style = function(canvas_div) {\n",
       "\n",
       "}\n",
       "\n",
       "\n",
       "mpl.figure.prototype._root_extra_style = function(canvas_div) {\n",
       "\n",
       "}\n",
       "\n",
       "mpl.figure.prototype._init_canvas = function() {\n",
       "    var fig = this;\n",
       "\n",
       "    var canvas_div = $('<div/>');\n",
       "\n",
       "    canvas_div.attr('style', 'position: relative; clear: both; outline: 0');\n",
       "\n",
       "    function canvas_keyboard_event(event) {\n",
       "        return fig.key_event(event, event['data']);\n",
       "    }\n",
       "\n",
       "    canvas_div.keydown('key_press', canvas_keyboard_event);\n",
       "    canvas_div.keyup('key_release', canvas_keyboard_event);\n",
       "    this.canvas_div = canvas_div\n",
       "    this._canvas_extra_style(canvas_div)\n",
       "    this.root.append(canvas_div);\n",
       "\n",
       "    var canvas = $('<canvas/>');\n",
       "    canvas.addClass('mpl-canvas');\n",
       "    canvas.attr('style', \"left: 0; top: 0; z-index: 0; outline: 0\")\n",
       "\n",
       "    this.canvas = canvas[0];\n",
       "    this.context = canvas[0].getContext(\"2d\");\n",
       "\n",
       "    var backingStore = this.context.backingStorePixelRatio ||\n",
       "\tthis.context.webkitBackingStorePixelRatio ||\n",
       "\tthis.context.mozBackingStorePixelRatio ||\n",
       "\tthis.context.msBackingStorePixelRatio ||\n",
       "\tthis.context.oBackingStorePixelRatio ||\n",
       "\tthis.context.backingStorePixelRatio || 1;\n",
       "\n",
       "    mpl.ratio = (window.devicePixelRatio || 1) / backingStore;\n",
       "\n",
       "    var rubberband = $('<canvas/>');\n",
       "    rubberband.attr('style', \"position: absolute; left: 0; top: 0; z-index: 1;\")\n",
       "\n",
       "    var pass_mouse_events = true;\n",
       "\n",
       "    canvas_div.resizable({\n",
       "        start: function(event, ui) {\n",
       "            pass_mouse_events = false;\n",
       "        },\n",
       "        resize: function(event, ui) {\n",
       "            fig.request_resize(ui.size.width, ui.size.height);\n",
       "        },\n",
       "        stop: function(event, ui) {\n",
       "            pass_mouse_events = true;\n",
       "            fig.request_resize(ui.size.width, ui.size.height);\n",
       "        },\n",
       "    });\n",
       "\n",
       "    function mouse_event_fn(event) {\n",
       "        if (pass_mouse_events)\n",
       "            return fig.mouse_event(event, event['data']);\n",
       "    }\n",
       "\n",
       "    rubberband.mousedown('button_press', mouse_event_fn);\n",
       "    rubberband.mouseup('button_release', mouse_event_fn);\n",
       "    // Throttle sequential mouse events to 1 every 20ms.\n",
       "    rubberband.mousemove('motion_notify', mouse_event_fn);\n",
       "\n",
       "    rubberband.mouseenter('figure_enter', mouse_event_fn);\n",
       "    rubberband.mouseleave('figure_leave', mouse_event_fn);\n",
       "\n",
       "    canvas_div.on(\"wheel\", function (event) {\n",
       "        event = event.originalEvent;\n",
       "        event['data'] = 'scroll'\n",
       "        if (event.deltaY < 0) {\n",
       "            event.step = 1;\n",
       "        } else {\n",
       "            event.step = -1;\n",
       "        }\n",
       "        mouse_event_fn(event);\n",
       "    });\n",
       "\n",
       "    canvas_div.append(canvas);\n",
       "    canvas_div.append(rubberband);\n",
       "\n",
       "    this.rubberband = rubberband;\n",
       "    this.rubberband_canvas = rubberband[0];\n",
       "    this.rubberband_context = rubberband[0].getContext(\"2d\");\n",
       "    this.rubberband_context.strokeStyle = \"#000000\";\n",
       "\n",
       "    this._resize_canvas = function(width, height) {\n",
       "        // Keep the size of the canvas, canvas container, and rubber band\n",
       "        // canvas in synch.\n",
       "        canvas_div.css('width', width)\n",
       "        canvas_div.css('height', height)\n",
       "\n",
       "        canvas.attr('width', width * mpl.ratio);\n",
       "        canvas.attr('height', height * mpl.ratio);\n",
       "        canvas.attr('style', 'width: ' + width + 'px; height: ' + height + 'px;');\n",
       "\n",
       "        rubberband.attr('width', width);\n",
       "        rubberband.attr('height', height);\n",
       "    }\n",
       "\n",
       "    // Set the figure to an initial 600x600px, this will subsequently be updated\n",
       "    // upon first draw.\n",
       "    this._resize_canvas(600, 600);\n",
       "\n",
       "    // Disable right mouse context menu.\n",
       "    $(this.rubberband_canvas).bind(\"contextmenu\",function(e){\n",
       "        return false;\n",
       "    });\n",
       "\n",
       "    function set_focus () {\n",
       "        canvas.focus();\n",
       "        canvas_div.focus();\n",
       "    }\n",
       "\n",
       "    window.setTimeout(set_focus, 100);\n",
       "}\n",
       "\n",
       "mpl.figure.prototype._init_toolbar = function() {\n",
       "    var fig = this;\n",
       "\n",
       "    var nav_element = $('<div/>')\n",
       "    nav_element.attr('style', 'width: 100%');\n",
       "    this.root.append(nav_element);\n",
       "\n",
       "    // Define a callback function for later on.\n",
       "    function toolbar_event(event) {\n",
       "        return fig.toolbar_button_onclick(event['data']);\n",
       "    }\n",
       "    function toolbar_mouse_event(event) {\n",
       "        return fig.toolbar_button_onmouseover(event['data']);\n",
       "    }\n",
       "\n",
       "    for(var toolbar_ind in mpl.toolbar_items) {\n",
       "        var name = mpl.toolbar_items[toolbar_ind][0];\n",
       "        var tooltip = mpl.toolbar_items[toolbar_ind][1];\n",
       "        var image = mpl.toolbar_items[toolbar_ind][2];\n",
       "        var method_name = mpl.toolbar_items[toolbar_ind][3];\n",
       "\n",
       "        if (!name) {\n",
       "            // put a spacer in here.\n",
       "            continue;\n",
       "        }\n",
       "        var button = $('<button/>');\n",
       "        button.addClass('ui-button ui-widget ui-state-default ui-corner-all ' +\n",
       "                        'ui-button-icon-only');\n",
       "        button.attr('role', 'button');\n",
       "        button.attr('aria-disabled', 'false');\n",
       "        button.click(method_name, toolbar_event);\n",
       "        button.mouseover(tooltip, toolbar_mouse_event);\n",
       "\n",
       "        var icon_img = $('<span/>');\n",
       "        icon_img.addClass('ui-button-icon-primary ui-icon');\n",
       "        icon_img.addClass(image);\n",
       "        icon_img.addClass('ui-corner-all');\n",
       "\n",
       "        var tooltip_span = $('<span/>');\n",
       "        tooltip_span.addClass('ui-button-text');\n",
       "        tooltip_span.html(tooltip);\n",
       "\n",
       "        button.append(icon_img);\n",
       "        button.append(tooltip_span);\n",
       "\n",
       "        nav_element.append(button);\n",
       "    }\n",
       "\n",
       "    var fmt_picker_span = $('<span/>');\n",
       "\n",
       "    var fmt_picker = $('<select/>');\n",
       "    fmt_picker.addClass('mpl-toolbar-option ui-widget ui-widget-content');\n",
       "    fmt_picker_span.append(fmt_picker);\n",
       "    nav_element.append(fmt_picker_span);\n",
       "    this.format_dropdown = fmt_picker[0];\n",
       "\n",
       "    for (var ind in mpl.extensions) {\n",
       "        var fmt = mpl.extensions[ind];\n",
       "        var option = $(\n",
       "            '<option/>', {selected: fmt === mpl.default_extension}).html(fmt);\n",
       "        fmt_picker.append(option)\n",
       "    }\n",
       "\n",
       "    // Add hover states to the ui-buttons\n",
       "    $( \".ui-button\" ).hover(\n",
       "        function() { $(this).addClass(\"ui-state-hover\");},\n",
       "        function() { $(this).removeClass(\"ui-state-hover\");}\n",
       "    );\n",
       "\n",
       "    var status_bar = $('<span class=\"mpl-message\"/>');\n",
       "    nav_element.append(status_bar);\n",
       "    this.message = status_bar[0];\n",
       "}\n",
       "\n",
       "mpl.figure.prototype.request_resize = function(x_pixels, y_pixels) {\n",
       "    // Request matplotlib to resize the figure. Matplotlib will then trigger a resize in the client,\n",
       "    // which will in turn request a refresh of the image.\n",
       "    this.send_message('resize', {'width': x_pixels, 'height': y_pixels});\n",
       "}\n",
       "\n",
       "mpl.figure.prototype.send_message = function(type, properties) {\n",
       "    properties['type'] = type;\n",
       "    properties['figure_id'] = this.id;\n",
       "    this.ws.send(JSON.stringify(properties));\n",
       "}\n",
       "\n",
       "mpl.figure.prototype.send_draw_message = function() {\n",
       "    if (!this.waiting) {\n",
       "        this.waiting = true;\n",
       "        this.ws.send(JSON.stringify({type: \"draw\", figure_id: this.id}));\n",
       "    }\n",
       "}\n",
       "\n",
       "\n",
       "mpl.figure.prototype.handle_save = function(fig, msg) {\n",
       "    var format_dropdown = fig.format_dropdown;\n",
       "    var format = format_dropdown.options[format_dropdown.selectedIndex].value;\n",
       "    fig.ondownload(fig, format);\n",
       "}\n",
       "\n",
       "\n",
       "mpl.figure.prototype.handle_resize = function(fig, msg) {\n",
       "    var size = msg['size'];\n",
       "    if (size[0] != fig.canvas.width || size[1] != fig.canvas.height) {\n",
       "        fig._resize_canvas(size[0], size[1]);\n",
       "        fig.send_message(\"refresh\", {});\n",
       "    };\n",
       "}\n",
       "\n",
       "mpl.figure.prototype.handle_rubberband = function(fig, msg) {\n",
       "    var x0 = msg['x0'] / mpl.ratio;\n",
       "    var y0 = (fig.canvas.height - msg['y0']) / mpl.ratio;\n",
       "    var x1 = msg['x1'] / mpl.ratio;\n",
       "    var y1 = (fig.canvas.height - msg['y1']) / mpl.ratio;\n",
       "    x0 = Math.floor(x0) + 0.5;\n",
       "    y0 = Math.floor(y0) + 0.5;\n",
       "    x1 = Math.floor(x1) + 0.5;\n",
       "    y1 = Math.floor(y1) + 0.5;\n",
       "    var min_x = Math.min(x0, x1);\n",
       "    var min_y = Math.min(y0, y1);\n",
       "    var width = Math.abs(x1 - x0);\n",
       "    var height = Math.abs(y1 - y0);\n",
       "\n",
       "    fig.rubberband_context.clearRect(\n",
       "        0, 0, fig.canvas.width, fig.canvas.height);\n",
       "\n",
       "    fig.rubberband_context.strokeRect(min_x, min_y, width, height);\n",
       "}\n",
       "\n",
       "mpl.figure.prototype.handle_figure_label = function(fig, msg) {\n",
       "    // Updates the figure title.\n",
       "    fig.header.textContent = msg['label'];\n",
       "}\n",
       "\n",
       "mpl.figure.prototype.handle_cursor = function(fig, msg) {\n",
       "    var cursor = msg['cursor'];\n",
       "    switch(cursor)\n",
       "    {\n",
       "    case 0:\n",
       "        cursor = 'pointer';\n",
       "        break;\n",
       "    case 1:\n",
       "        cursor = 'default';\n",
       "        break;\n",
       "    case 2:\n",
       "        cursor = 'crosshair';\n",
       "        break;\n",
       "    case 3:\n",
       "        cursor = 'move';\n",
       "        break;\n",
       "    }\n",
       "    fig.rubberband_canvas.style.cursor = cursor;\n",
       "}\n",
       "\n",
       "mpl.figure.prototype.handle_message = function(fig, msg) {\n",
       "    fig.message.textContent = msg['message'];\n",
       "}\n",
       "\n",
       "mpl.figure.prototype.handle_draw = function(fig, msg) {\n",
       "    // Request the server to send over a new figure.\n",
       "    fig.send_draw_message();\n",
       "}\n",
       "\n",
       "mpl.figure.prototype.handle_image_mode = function(fig, msg) {\n",
       "    fig.image_mode = msg['mode'];\n",
       "}\n",
       "\n",
       "mpl.figure.prototype.updated_canvas_event = function() {\n",
       "    // Called whenever the canvas gets updated.\n",
       "    this.send_message(\"ack\", {});\n",
       "}\n",
       "\n",
       "// A function to construct a web socket function for onmessage handling.\n",
       "// Called in the figure constructor.\n",
       "mpl.figure.prototype._make_on_message_function = function(fig) {\n",
       "    return function socket_on_message(evt) {\n",
       "        if (evt.data instanceof Blob) {\n",
       "            /* FIXME: We get \"Resource interpreted as Image but\n",
       "             * transferred with MIME type text/plain:\" errors on\n",
       "             * Chrome.  But how to set the MIME type?  It doesn't seem\n",
       "             * to be part of the websocket stream */\n",
       "            evt.data.type = \"image/png\";\n",
       "\n",
       "            /* Free the memory for the previous frames */\n",
       "            if (fig.imageObj.src) {\n",
       "                (window.URL || window.webkitURL).revokeObjectURL(\n",
       "                    fig.imageObj.src);\n",
       "            }\n",
       "\n",
       "            fig.imageObj.src = (window.URL || window.webkitURL).createObjectURL(\n",
       "                evt.data);\n",
       "            fig.updated_canvas_event();\n",
       "            fig.waiting = false;\n",
       "            return;\n",
       "        }\n",
       "        else if (typeof evt.data === 'string' && evt.data.slice(0, 21) == \"data:image/png;base64\") {\n",
       "            fig.imageObj.src = evt.data;\n",
       "            fig.updated_canvas_event();\n",
       "            fig.waiting = false;\n",
       "            return;\n",
       "        }\n",
       "\n",
       "        var msg = JSON.parse(evt.data);\n",
       "        var msg_type = msg['type'];\n",
       "\n",
       "        // Call the  \"handle_{type}\" callback, which takes\n",
       "        // the figure and JSON message as its only arguments.\n",
       "        try {\n",
       "            var callback = fig[\"handle_\" + msg_type];\n",
       "        } catch (e) {\n",
       "            console.log(\"No handler for the '\" + msg_type + \"' message type: \", msg);\n",
       "            return;\n",
       "        }\n",
       "\n",
       "        if (callback) {\n",
       "            try {\n",
       "                // console.log(\"Handling '\" + msg_type + \"' message: \", msg);\n",
       "                callback(fig, msg);\n",
       "            } catch (e) {\n",
       "                console.log(\"Exception inside the 'handler_\" + msg_type + \"' callback:\", e, e.stack, msg);\n",
       "            }\n",
       "        }\n",
       "    };\n",
       "}\n",
       "\n",
       "// from http://stackoverflow.com/questions/1114465/getting-mouse-location-in-canvas\n",
       "mpl.findpos = function(e) {\n",
       "    //this section is from http://www.quirksmode.org/js/events_properties.html\n",
       "    var targ;\n",
       "    if (!e)\n",
       "        e = window.event;\n",
       "    if (e.target)\n",
       "        targ = e.target;\n",
       "    else if (e.srcElement)\n",
       "        targ = e.srcElement;\n",
       "    if (targ.nodeType == 3) // defeat Safari bug\n",
       "        targ = targ.parentNode;\n",
       "\n",
       "    // jQuery normalizes the pageX and pageY\n",
       "    // pageX,Y are the mouse positions relative to the document\n",
       "    // offset() returns the position of the element relative to the document\n",
       "    var x = e.pageX - $(targ).offset().left;\n",
       "    var y = e.pageY - $(targ).offset().top;\n",
       "\n",
       "    return {\"x\": x, \"y\": y};\n",
       "};\n",
       "\n",
       "/*\n",
       " * return a copy of an object with only non-object keys\n",
       " * we need this to avoid circular references\n",
       " * http://stackoverflow.com/a/24161582/3208463\n",
       " */\n",
       "function simpleKeys (original) {\n",
       "  return Object.keys(original).reduce(function (obj, key) {\n",
       "    if (typeof original[key] !== 'object')\n",
       "        obj[key] = original[key]\n",
       "    return obj;\n",
       "  }, {});\n",
       "}\n",
       "\n",
       "mpl.figure.prototype.mouse_event = function(event, name) {\n",
       "    var canvas_pos = mpl.findpos(event)\n",
       "\n",
       "    if (name === 'button_press')\n",
       "    {\n",
       "        this.canvas.focus();\n",
       "        this.canvas_div.focus();\n",
       "    }\n",
       "\n",
       "    var x = canvas_pos.x * mpl.ratio;\n",
       "    var y = canvas_pos.y * mpl.ratio;\n",
       "\n",
       "    this.send_message(name, {x: x, y: y, button: event.button,\n",
       "                             step: event.step,\n",
       "                             guiEvent: simpleKeys(event)});\n",
       "\n",
       "    /* This prevents the web browser from automatically changing to\n",
       "     * the text insertion cursor when the button is pressed.  We want\n",
       "     * to control all of the cursor setting manually through the\n",
       "     * 'cursor' event from matplotlib */\n",
       "    event.preventDefault();\n",
       "    return false;\n",
       "}\n",
       "\n",
       "mpl.figure.prototype._key_event_extra = function(event, name) {\n",
       "    // Handle any extra behaviour associated with a key event\n",
       "}\n",
       "\n",
       "mpl.figure.prototype.key_event = function(event, name) {\n",
       "\n",
       "    // Prevent repeat events\n",
       "    if (name == 'key_press')\n",
       "    {\n",
       "        if (event.which === this._key)\n",
       "            return;\n",
       "        else\n",
       "            this._key = event.which;\n",
       "    }\n",
       "    if (name == 'key_release')\n",
       "        this._key = null;\n",
       "\n",
       "    var value = '';\n",
       "    if (event.ctrlKey && event.which != 17)\n",
       "        value += \"ctrl+\";\n",
       "    if (event.altKey && event.which != 18)\n",
       "        value += \"alt+\";\n",
       "    if (event.shiftKey && event.which != 16)\n",
       "        value += \"shift+\";\n",
       "\n",
       "    value += 'k';\n",
       "    value += event.which.toString();\n",
       "\n",
       "    this._key_event_extra(event, name);\n",
       "\n",
       "    this.send_message(name, {key: value,\n",
       "                             guiEvent: simpleKeys(event)});\n",
       "    return false;\n",
       "}\n",
       "\n",
       "mpl.figure.prototype.toolbar_button_onclick = function(name) {\n",
       "    if (name == 'download') {\n",
       "        this.handle_save(this, null);\n",
       "    } else {\n",
       "        this.send_message(\"toolbar_button\", {name: name});\n",
       "    }\n",
       "};\n",
       "\n",
       "mpl.figure.prototype.toolbar_button_onmouseover = function(tooltip) {\n",
       "    this.message.textContent = tooltip;\n",
       "};\n",
       "mpl.toolbar_items = [[\"Home\", \"Reset original view\", \"fa fa-home icon-home\", \"home\"], [\"Back\", \"Back to  previous view\", \"fa fa-arrow-left icon-arrow-left\", \"back\"], [\"Forward\", \"Forward to next view\", \"fa fa-arrow-right icon-arrow-right\", \"forward\"], [\"\", \"\", \"\", \"\"], [\"Pan\", \"Pan axes with left mouse, zoom with right\", \"fa fa-arrows icon-move\", \"pan\"], [\"Zoom\", \"Zoom to rectangle\", \"fa fa-square-o icon-check-empty\", \"zoom\"], [\"\", \"\", \"\", \"\"], [\"Download\", \"Download plot\", \"fa fa-floppy-o icon-save\", \"download\"]];\n",
       "\n",
       "mpl.extensions = [\"eps\", \"jpeg\", \"pdf\", \"png\", \"ps\", \"raw\", \"svg\", \"tif\"];\n",
       "\n",
       "mpl.default_extension = \"png\";var comm_websocket_adapter = function(comm) {\n",
       "    // Create a \"websocket\"-like object which calls the given IPython comm\n",
       "    // object with the appropriate methods. Currently this is a non binary\n",
       "    // socket, so there is still some room for performance tuning.\n",
       "    var ws = {};\n",
       "\n",
       "    ws.close = function() {\n",
       "        comm.close()\n",
       "    };\n",
       "    ws.send = function(m) {\n",
       "        //console.log('sending', m);\n",
       "        comm.send(m);\n",
       "    };\n",
       "    // Register the callback with on_msg.\n",
       "    comm.on_msg(function(msg) {\n",
       "        //console.log('receiving', msg['content']['data'], msg);\n",
       "        // Pass the mpl event to the overriden (by mpl) onmessage function.\n",
       "        ws.onmessage(msg['content']['data'])\n",
       "    });\n",
       "    return ws;\n",
       "}\n",
       "\n",
       "mpl.mpl_figure_comm = function(comm, msg) {\n",
       "    // This is the function which gets called when the mpl process\n",
       "    // starts-up an IPython Comm through the \"matplotlib\" channel.\n",
       "\n",
       "    var id = msg.content.data.id;\n",
       "    // Get hold of the div created by the display call when the Comm\n",
       "    // socket was opened in Python.\n",
       "    var element = $(\"#\" + id);\n",
       "    var ws_proxy = comm_websocket_adapter(comm)\n",
       "\n",
       "    function ondownload(figure, format) {\n",
       "        window.open(figure.imageObj.src);\n",
       "    }\n",
       "\n",
       "    var fig = new mpl.figure(id, ws_proxy,\n",
       "                           ondownload,\n",
       "                           element.get(0));\n",
       "\n",
       "    // Call onopen now - mpl needs it, as it is assuming we've passed it a real\n",
       "    // web socket which is closed, not our websocket->open comm proxy.\n",
       "    ws_proxy.onopen();\n",
       "\n",
       "    fig.parent_element = element.get(0);\n",
       "    fig.cell_info = mpl.find_output_cell(\"<div id='\" + id + \"'></div>\");\n",
       "    if (!fig.cell_info) {\n",
       "        console.error(\"Failed to find cell for figure\", id, fig);\n",
       "        return;\n",
       "    }\n",
       "\n",
       "    var output_index = fig.cell_info[2]\n",
       "    var cell = fig.cell_info[0];\n",
       "\n",
       "};\n",
       "\n",
       "mpl.figure.prototype.handle_close = function(fig, msg) {\n",
       "    var width = fig.canvas.width/mpl.ratio\n",
       "    fig.root.unbind('remove')\n",
       "\n",
       "    // Update the output cell to use the data from the current canvas.\n",
       "    fig.push_to_output();\n",
       "    var dataURL = fig.canvas.toDataURL();\n",
       "    // Re-enable the keyboard manager in IPython - without this line, in FF,\n",
       "    // the notebook keyboard shortcuts fail.\n",
       "    IPython.keyboard_manager.enable()\n",
       "    $(fig.parent_element).html('<img src=\"' + dataURL + '\" width=\"' + width + '\">');\n",
       "    fig.close_ws(fig, msg);\n",
       "}\n",
       "\n",
       "mpl.figure.prototype.close_ws = function(fig, msg){\n",
       "    fig.send_message('closing', msg);\n",
       "    // fig.ws.close()\n",
       "}\n",
       "\n",
       "mpl.figure.prototype.push_to_output = function(remove_interactive) {\n",
       "    // Turn the data on the canvas into data in the output cell.\n",
       "    var width = this.canvas.width/mpl.ratio\n",
       "    var dataURL = this.canvas.toDataURL();\n",
       "    this.cell_info[1]['text/html'] = '<img src=\"' + dataURL + '\" width=\"' + width + '\">';\n",
       "}\n",
       "\n",
       "mpl.figure.prototype.updated_canvas_event = function() {\n",
       "    // Tell IPython that the notebook contents must change.\n",
       "    IPython.notebook.set_dirty(true);\n",
       "    this.send_message(\"ack\", {});\n",
       "    var fig = this;\n",
       "    // Wait a second, then push the new image to the DOM so\n",
       "    // that it is saved nicely (might be nice to debounce this).\n",
       "    setTimeout(function () { fig.push_to_output() }, 1000);\n",
       "}\n",
       "\n",
       "mpl.figure.prototype._init_toolbar = function() {\n",
       "    var fig = this;\n",
       "\n",
       "    var nav_element = $('<div/>')\n",
       "    nav_element.attr('style', 'width: 100%');\n",
       "    this.root.append(nav_element);\n",
       "\n",
       "    // Define a callback function for later on.\n",
       "    function toolbar_event(event) {\n",
       "        return fig.toolbar_button_onclick(event['data']);\n",
       "    }\n",
       "    function toolbar_mouse_event(event) {\n",
       "        return fig.toolbar_button_onmouseover(event['data']);\n",
       "    }\n",
       "\n",
       "    for(var toolbar_ind in mpl.toolbar_items){\n",
       "        var name = mpl.toolbar_items[toolbar_ind][0];\n",
       "        var tooltip = mpl.toolbar_items[toolbar_ind][1];\n",
       "        var image = mpl.toolbar_items[toolbar_ind][2];\n",
       "        var method_name = mpl.toolbar_items[toolbar_ind][3];\n",
       "\n",
       "        if (!name) { continue; };\n",
       "\n",
       "        var button = $('<button class=\"btn btn-default\" href=\"#\" title=\"' + name + '\"><i class=\"fa ' + image + ' fa-lg\"></i></button>');\n",
       "        button.click(method_name, toolbar_event);\n",
       "        button.mouseover(tooltip, toolbar_mouse_event);\n",
       "        nav_element.append(button);\n",
       "    }\n",
       "\n",
       "    // Add the status bar.\n",
       "    var status_bar = $('<span class=\"mpl-message\" style=\"text-align:right; float: right;\"/>');\n",
       "    nav_element.append(status_bar);\n",
       "    this.message = status_bar[0];\n",
       "\n",
       "    // Add the close button to the window.\n",
       "    var buttongrp = $('<div class=\"btn-group inline pull-right\"></div>');\n",
       "    var button = $('<button class=\"btn btn-mini btn-primary\" href=\"#\" title=\"Stop Interaction\"><i class=\"fa fa-power-off icon-remove icon-large\"></i></button>');\n",
       "    button.click(function (evt) { fig.handle_close(fig, {}); } );\n",
       "    button.mouseover('Stop Interaction', toolbar_mouse_event);\n",
       "    buttongrp.append(button);\n",
       "    var titlebar = this.root.find($('.ui-dialog-titlebar'));\n",
       "    titlebar.prepend(buttongrp);\n",
       "}\n",
       "\n",
       "mpl.figure.prototype._root_extra_style = function(el){\n",
       "    var fig = this\n",
       "    el.on(\"remove\", function(){\n",
       "\tfig.close_ws(fig, {});\n",
       "    });\n",
       "}\n",
       "\n",
       "mpl.figure.prototype._canvas_extra_style = function(el){\n",
       "    // this is important to make the div 'focusable\n",
       "    el.attr('tabindex', 0)\n",
       "    // reach out to IPython and tell the keyboard manager to turn it's self\n",
       "    // off when our div gets focus\n",
       "\n",
       "    // location in version 3\n",
       "    if (IPython.notebook.keyboard_manager) {\n",
       "        IPython.notebook.keyboard_manager.register_events(el);\n",
       "    }\n",
       "    else {\n",
       "        // location in version 2\n",
       "        IPython.keyboard_manager.register_events(el);\n",
       "    }\n",
       "\n",
       "}\n",
       "\n",
       "mpl.figure.prototype._key_event_extra = function(event, name) {\n",
       "    var manager = IPython.notebook.keyboard_manager;\n",
       "    if (!manager)\n",
       "        manager = IPython.keyboard_manager;\n",
       "\n",
       "    // Check for shift+enter\n",
       "    if (event.shiftKey && event.which == 13) {\n",
       "        this.canvas_div.blur();\n",
       "        // select the cell after this one\n",
       "        var index = IPython.notebook.find_cell_index(this.cell_info[0]);\n",
       "        IPython.notebook.select(index + 1);\n",
       "    }\n",
       "}\n",
       "\n",
       "mpl.figure.prototype.handle_save = function(fig, msg) {\n",
       "    fig.ondownload(fig, null);\n",
       "}\n",
       "\n",
       "\n",
       "mpl.find_output_cell = function(html_output) {\n",
       "    // Return the cell and output element which can be found *uniquely* in the notebook.\n",
       "    // Note - this is a bit hacky, but it is done because the \"notebook_saving.Notebook\"\n",
       "    // IPython event is triggered only after the cells have been serialised, which for\n",
       "    // our purposes (turning an active figure into a static one), is too late.\n",
       "    var cells = IPython.notebook.get_cells();\n",
       "    var ncells = cells.length;\n",
       "    for (var i=0; i<ncells; i++) {\n",
       "        var cell = cells[i];\n",
       "        if (cell.cell_type === 'code'){\n",
       "            for (var j=0; j<cell.output_area.outputs.length; j++) {\n",
       "                var data = cell.output_area.outputs[j];\n",
       "                if (data.data) {\n",
       "                    // IPython >= 3 moved mimebundle to data attribute of output\n",
       "                    data = data.data;\n",
       "                }\n",
       "                if (data['text/html'] == html_output) {\n",
       "                    return [cell, data, j];\n",
       "                }\n",
       "            }\n",
       "        }\n",
       "    }\n",
       "}\n",
       "\n",
       "// Register the function which deals with the matplotlib target/channel.\n",
       "// The kernel may be null if the page has been refreshed.\n",
       "if (IPython.notebook.kernel != null) {\n",
       "    IPython.notebook.kernel.comm_manager.register_target('matplotlib', mpl.mpl_figure_comm);\n",
       "}\n"
      ],
      "text/plain": [
       "<IPython.core.display.Javascript object>"
      ]
     },
     "metadata": {},
     "output_type": "display_data"
    },
    {
     "data": {
      "text/html": [
       "<img src=\"data:image/png;base64,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\" width=\"640\">"
      ],
      "text/plain": [
       "<IPython.core.display.HTML object>"
      ]
     },
     "metadata": {},
     "output_type": "display_data"
    },
    {
     "data": {
      "text/plain": [
       "[<matplotlib.lines.Line2D at 0x1399f550>]"
      ]
     },
     "execution_count": 52,
     "metadata": {},
     "output_type": "execute_result"
    }
   ],
   "source": [
    "%matplotlib notebook\n",
    "plt.plot(h.traces[157].samples)"
   ]
  },
  {
   "cell_type": "code",
   "execution_count": 24,
   "metadata": {
    "collapsed": false
   },
   "outputs": [
    {
     "data": {
      "text/plain": [
       "8192"
      ]
     },
     "execution_count": 24,
     "metadata": {},
     "output_type": "execute_result"
    }
   ],
   "source": [
    "h.distributions[0].stop_time"
   ]
  },
  {
   "cell_type": "code",
   "execution_count": null,
   "metadata": {
    "collapsed": false
   },
   "outputs": [],
   "source": [
    "%matplotlib notebook\n",
    "plt.plot(h.distributions[0].bins,'.')"
   ]
  },
  {
   "cell_type": "code",
   "execution_count": null,
   "metadata": {
    "collapsed": false
   },
   "outputs": [],
   "source": [
    "h.frames[1].payload_type"
   ]
  },
  {
   "cell_type": "code",
   "execution_count": null,
   "metadata": {
    "collapsed": false
   },
   "outputs": [],
   "source": [
    "h.frames[52].payload"
   ]
  },
  {
   "cell_type": "code",
   "execution_count": null,
   "metadata": {
    "collapsed": false
   },
   "outputs": [],
   "source": [
    "frame_header_dt.names"
   ]
  },
  {
   "cell_type": "code",
   "execution_count": 49,
   "metadata": {
    "collapsed": false
   },
   "outputs": [],
   "source": [
    "h.close()"
   ]
  },
  {
   "cell_type": "code",
   "execution_count": null,
   "metadata": {
    "collapsed": false
   },
   "outputs": [],
   "source": [
    "stream=Data.fromfile('bytestream',stream_dt,'teslib','measurement_subsystem_TB',tool='vivado')\n",
    "packets=_PacketData(stream)\n",
    "del stream\n",
    "# _import(packets)\n",
    "# h=h5py.File('TES.hdf5','r')"
   ]
  },
  {
   "cell_type": "code",
   "execution_count": null,
   "metadata": {
    "collapsed": false
   },
   "outputs": [],
   "source": [
    "packets[1]['data']"
   ]
  },
  {
   "cell_type": "code",
   "execution_count": null,
   "metadata": {
    "collapsed": false
   },
   "outputs": [],
   "source": [
    "packets[51]\n"
   ]
  },
  {
   "cell_type": "code",
   "execution_count": 31,
   "metadata": {
    "collapsed": false
   },
   "outputs": [],
   "source": [
    "h.close()"
   ]
  },
  {
   "cell_type": "code",
   "execution_count": null,
   "metadata": {
    "collapsed": false
   },
   "outputs": [],
   "source": [
    "len(h['traces'])"
   ]
  },
  {
   "cell_type": "code",
   "execution_count": null,
   "metadata": {
    "collapsed": false
   },
   "outputs": [],
   "source": [
    "t=h['raw_data/event'][h['traces'][5]]"
   ]
  },
  {
   "cell_type": "code",
   "execution_count": null,
   "metadata": {
    "collapsed": false
   },
   "outputs": [],
   "source": [
    "%matplotlib notebook\n",
    "t=h['raw_data/event'][h['traces'][5]]\n",
    "tr=Trace(t)\n",
    "print(tr.flags,'\\n',tr.trace_flags)\n",
    "plt.plot(tr.samples)"
   ]
  },
  {
   "cell_type": "code",
   "execution_count": null,
   "metadata": {
    "collapsed": false
   },
   "outputs": [],
   "source": [
    "tr"
   ]
  },
  {
   "cell_type": "code",
   "execution_count": null,
   "metadata": {
    "collapsed": false
   },
   "outputs": [],
   "source": [
    "s=str(tr.flags)\n",
    "s"
   ]
  },
  {
   "cell_type": "code",
   "execution_count": null,
   "metadata": {
    "collapsed": false
   },
   "outputs": [],
   "source": [
    "print(s)"
   ]
  },
  {
   "cell_type": "code",
   "execution_count": null,
   "metadata": {
    "collapsed": false
   },
   "outputs": [],
   "source": [
    "type(h['raw_data/event'][h['traces'][0]])"
   ]
  },
  {
   "cell_type": "code",
   "execution_count": null,
   "metadata": {
    "collapsed": true
   },
   "outputs": [],
   "source": [
    "from tes.hdf5 import Trace"
   ]
  },
  {
   "cell_type": "code",
   "execution_count": null,
   "metadata": {
    "collapsed": false
   },
   "outputs": [],
   "source": [
    "tr.flags"
   ]
  },
  {
   "cell_type": "code",
   "execution_count": null,
   "metadata": {
    "collapsed": false
   },
   "outputs": [],
   "source": [
    "tr.trace_flags"
   ]
  },
  {
   "cell_type": "code",
   "execution_count": null,
   "metadata": {
    "collapsed": false
   },
   "outputs": [],
   "source": [
    "%matplotlib notebook\n",
    "plt.plot(tr.samples)"
   ]
  },
  {
   "cell_type": "code",
   "execution_count": null,
   "metadata": {
    "collapsed": false
   },
   "outputs": [],
   "source": [
    "len(tr.samples)"
   ]
  },
  {
   "cell_type": "code",
   "execution_count": null,
   "metadata": {
    "collapsed": false
   },
   "outputs": [],
   "source": [
    "first_dt = np.dtype([('size', np.uint16), ('tflags0', np.uint8), ('tflags1', np.uint8),\n",
    "        ('flags0', np.uint8), ('flags1', np.uint8), ('time', np.uint16)])\n",
    "\n"
   ]
  },
  {
   "cell_type": "code",
   "execution_count": null,
   "metadata": {
    "collapsed": false
   },
   "outputs": [],
   "source": []
  },
  {
   "cell_type": "code",
   "execution_count": null,
   "metadata": {
    "collapsed": false
   },
   "outputs": [],
   "source": [
    "t[0:8].view(first_dt)"
   ]
  },
  {
   "cell_type": "code",
   "execution_count": null,
   "metadata": {
    "collapsed": true
   },
   "outputs": [],
   "source": []
  },
  {
   "cell_type": "code",
   "execution_count": null,
   "metadata": {
    "collapsed": false
   },
   "outputs": [],
   "source": [
    "_rref = h5py.special_dtype(ref=h5py.RegionReference)\n",
    "h=h5py.File('test.hdf5', 'w')"
   ]
  },
  {
   "cell_type": "code",
   "execution_count": null,
   "metadata": {
    "collapsed": false
   },
   "outputs": [],
   "source": [
    "h.close()"
   ]
  },
  {
   "cell_type": "code",
   "execution_count": null,
   "metadata": {
    "collapsed": false
   },
   "outputs": [],
   "source": [
    "t= np.array((10,),'u1')\n",
    "h.create_dataset('t',(10,),dtype='u1')"
   ]
  },
  {
   "cell_type": "code",
   "execution_count": null,
   "metadata": {
    "collapsed": false
   },
   "outputs": [],
   "source": [
    "h.create_dataset('r',(10,),dtype=_rref)"
   ]
  },
  {
   "cell_type": "code",
   "execution_count": null,
   "metadata": {
    "collapsed": false
   },
   "outputs": [],
   "source": [
    "h.create_dataset('s',(10,),dtype='u1')"
   ]
  },
  {
   "cell_type": "code",
   "execution_count": null,
   "metadata": {
    "collapsed": true
   },
   "outputs": [],
   "source": [
    "h['s'][0]=0\n",
    "h['s'][1]=1"
   ]
  },
  {
   "cell_type": "code",
   "execution_count": null,
   "metadata": {
    "collapsed": false
   },
   "outputs": [],
   "source": [
    "h['r'][0]=h['t'].regionref[0:2]"
   ]
  },
  {
   "cell_type": "code",
   "execution_count": null,
   "metadata": {
    "collapsed": true
   },
   "outputs": [],
   "source": [
    "r=h['r'][0]"
   ]
  },
  {
   "cell_type": "code",
   "execution_count": null,
   "metadata": {
    "collapsed": false
   },
   "outputs": [],
   "source": [
    "t= np.array([0,1,2],'u1')"
   ]
  },
  {
   "cell_type": "code",
   "execution_count": null,
   "metadata": {
    "collapsed": false
   },
   "outputs": [],
   "source": [
    "t = [0,1]\n",
    "\n",
    "f = np.uint64(0)\n",
    "print(type(f))\n",
    "f += len(t)\n",
    "print(type(f))"
   ]
  },
  {
   "cell_type": "code",
   "execution_count": null,
   "metadata": {
    "collapsed": false
   },
   "outputs": [],
   "source": [
    "t[0:1][0]"
   ]
  },
  {
   "cell_type": "code",
   "execution_count": null,
   "metadata": {
    "collapsed": false
   },
   "outputs": [],
   "source": [
    "i=0\n",
    "for p in packets:\n",
    "    if i==7:\n",
    "        break\n",
    "    i+=1"
   ]
  },
  {
   "cell_type": "code",
   "execution_count": null,
   "metadata": {
    "collapsed": false
   },
   "outputs": [],
   "source": [
    "p"
   ]
  },
  {
   "cell_type": "code",
   "execution_count": null,
   "metadata": {
    "collapsed": true
   },
   "outputs": [],
   "source": [
    "lasts = np.where(stream['last'] < 0)[0] + 1"
   ]
  },
  {
   "cell_type": "code",
   "execution_count": null,
   "metadata": {
    "collapsed": false
   },
   "outputs": [],
   "source": [
    "lasts"
   ]
  },
  {
   "cell_type": "code",
   "execution_count": null,
   "metadata": {
    "collapsed": false
   },
   "outputs": [],
   "source": [
    "'last' in stream.dtype.names"
   ]
  },
  {
   "cell_type": "code",
   "execution_count": null,
   "metadata": {
    "collapsed": false
   },
   "outputs": [],
   "source": [
    "isinstance(stream,np.ndarray)"
   ]
  },
  {
   "cell_type": "code",
   "execution_count": null,
   "metadata": {
    "collapsed": false
   },
   "outputs": [],
   "source": [
    "type('poo')"
   ]
  },
  {
   "cell_type": "code",
   "execution_count": null,
   "metadata": {
    "collapsed": false
   },
   "outputs": [],
   "source": [
    "stream[lasts[0]:]"
   ]
  },
  {
   "cell_type": "code",
   "execution_count": null,
   "metadata": {
    "collapsed": false
   },
   "outputs": [],
   "source": [
    "ps=PacketStream(stream)\n",
    "# ps.traces"
   ]
  },
  {
   "cell_type": "code",
   "execution_count": null,
   "metadata": {
    "collapsed": false
   },
   "outputs": [],
   "source": [
    "type(ps[0])"
   ]
  },
  {
   "cell_type": "code",
   "execution_count": null,
   "metadata": {
    "collapsed": false
   },
   "outputs": [],
   "source": [
    "sum(stream['last']<0)"
   ]
  },
  {
   "cell_type": "code",
   "execution_count": null,
   "metadata": {
    "collapsed": false
   },
   "outputs": [],
   "source": [
    "%matplotlib notebook\n",
    "\n",
    "plt.plot(ps.traces[3]._view['trace'])\n",
    "# ps.traces[2]._view['trace'][-20:]"
   ]
  },
  {
   "cell_type": "code",
   "execution_count": null,
   "metadata": {
    "collapsed": false
   },
   "outputs": [],
   "source": [
    "ps.traces"
   ]
  },
  {
   "cell_type": "code",
   "execution_count": null,
   "metadata": {
    "collapsed": false,
    "run_control": {
     "frozen": false,
     "read_only": false
    },
    "scrolled": true
   },
   "outputs": [],
   "source": [
    "traces=Data.fromfile('traces',trace_dt,'teslib','measurement_subsystem_TB',tool='vivado')\n",
    "stream=Data.fromfile('bytestream',stream_dt,'teslib','measurement_subsystem_TB',tool='vivado')\n",
    "bs=PacketStream(stream)\n",
    "dists=bs.distributions\n",
    "#bs.packets\n",
    "dists"
   ]
  },
  {
   "cell_type": "code",
   "execution_count": null,
   "metadata": {
    "collapsed": false
   },
   "outputs": [],
   "source": [
    "d=dists[0]\n",
    "d.counts[-1]"
   ]
  },
  {
   "cell_type": "code",
   "execution_count": null,
   "metadata": {
    "collapsed": false
   },
   "outputs": [],
   "source": [
    "d.total+d.underflow+d.overflow"
   ]
  },
  {
   "cell_type": "code",
   "execution_count": null,
   "metadata": {
    "collapsed": false
   },
   "outputs": [],
   "source": [
    "%matplotlib notebook\n",
    "plt.plot(d.bins)"
   ]
  },
  {
   "cell_type": "code",
   "execution_count": null,
   "metadata": {
    "collapsed": false,
    "scrolled": false
   },
   "outputs": [],
   "source": [
    "f=EventFlags(es[2][2]['flags'])\n",
    "f.channel"
   ]
  },
  {
   "cell_type": "code",
   "execution_count": null,
   "metadata": {
    "collapsed": false,
    "run_control": {
     "frozen": false,
     "read_only": false
    },
    "scrolled": true
   },
   "outputs": [],
   "source": [
    "import tes.mca as mca\n",
    "d=bs.distributions[0]\n",
    "eset=np.uint64(1)\n",
    "bset=np.uint64(0)\n",
    "cset=np.uint64(20)\n",
    "\n",
    "stop=d.stop_time+eset+cset\n",
    "start=d.start_time+bset+cset\n",
    "bins=np.zeros((d.last_bin+1,),dtype=np.uint32)\n",
    "\n",
    "if d.value==mca.Value.raw_signal:\n",
    "    tname='raw'\n",
    "elif d.value==mca.Value.filtered_signal:\n",
    "    tname='filtered'\n",
    "elif d.value==mca.Value.slope_signal:\n",
    "    tname='slope'\n",
    "\n",
    "for i in range(start,stop):\n",
    "    s = traces[tname][i]\n",
    "    if s < d.lowest_value:\n",
    "        bins[0] += 1\n",
    "    else:\n",
    "        bin_number = s - d.lowest_value + 1\n",
    "        if bin_number < d.last_bin:\n",
    "            bins[bin_number] += 1\n",
    "        else:\n",
    "            bins[d.last_bin] += 1\n",
    "        \n",
    "bad=(bins-d.counts).nonzero()\n",
    "bad"
   ]
  },
  {
   "cell_type": "code",
   "execution_count": null,
   "metadata": {
    "collapsed": false
   },
   "outputs": [],
   "source": [
    "d.counts[bad][1:10]"
   ]
  },
  {
   "cell_type": "code",
   "execution_count": null,
   "metadata": {
    "collapsed": false
   },
   "outputs": [],
   "source": [
    "bins[bad][1:10]"
   ]
  },
  {
   "cell_type": "code",
   "execution_count": null,
   "metadata": {
    "collapsed": false
   },
   "outputs": [],
   "source": [
    "d.value"
   ]
  },
  {
   "cell_type": "code",
   "execution_count": null,
   "metadata": {
    "collapsed": false,
    "scrolled": false
   },
   "outputs": [],
   "source": [
    "%matplotlib notebook\n",
    "plt.step(np.arange(len(d.bins)),d.bins)\n",
    "# plt.step(np.arange(len(d.counts)),bins)\n",
    "plt.plot(bad,np.zeros_like(bad),'.k')"
   ]
  },
  {
   "cell_type": "code",
   "execution_count": null,
   "metadata": {
    "collapsed": false
   },
   "outputs": [],
   "source": [
    "sum(d.counts)"
   ]
  },
  {
   "cell_type": "code",
   "execution_count": null,
   "metadata": {
    "collapsed": false
   },
   "outputs": [],
   "source": [
    "2**14+2000"
   ]
  },
  {
   "cell_type": "code",
   "execution_count": null,
   "metadata": {
    "collapsed": false,
    "run_control": {
     "frozen": false,
     "read_only": false
    }
   },
   "outputs": [],
   "source": [
    "def plot_event(event_tupple):\n",
    "    pre=200\n",
    "    post=1000\n",
    "    timestamp=event_tupple[0]\n",
    "    event_type=event_tupple[1]\n",
    "    event=event_tupple[2]\n",
    "    flags=EventFlags(event['flags'])\n",
    "    print(flags)\n",
    "    print('timestamp',timestamp, 'time', event['time'])\n",
    "    if flags.type == Event.tick:\n",
    "        return\n",
    "    s=traces['filtered'][timestamp+20-pre:timestamp+20+post]\n",
    "    r=traces['raw'][timestamp+20-pre:timestamp+20+post]\n",
    "    i = np.where(abs(minmax['clk'])<=timestamp+20)[0][-1]\n",
    "    min_t=abs(minmax['clk'][i])-(timestamp+20)\n",
    "#     print(minmax['clk'][i],min_t,i,timestamp)\n",
    "    plt.plot(r,'k',linewidth=0.5)\n",
    "    plt.plot(s,'b',linewidth=2)\n",
    "    plt.plot([pre],s[pre],'sg')\n",
    "    plt.plot([pre+min_t],minmax['filtered'][i],'sr')\n",
    "    if event_type==Event.pulse:\n",
    "        for i in range(flags.peak_number):\n",
    "            p=event['peaks'][i]\n",
    "            plt.plot([0,len(s)-1],[p['height'],p['height']],':r')\n",
    "    else:\n",
    "      plt.plot([0,len(s)-1],[event['height'],event['height']],':r')\n",
    "        \n",
    "    #print(event['height'],event['minima'])\n",
    "    #print(minmax['filtered'][i]==s[pre+min_t])\n",
    "    #print(minmax['filtered'][i]==event['minima'])\n",
    "    #print(s[pre],s[pre-1])"
   ]
  },
  {
   "cell_type": "code",
   "execution_count": null,
   "metadata": {
    "collapsed": false,
    "run_control": {
     "frozen": false,
     "read_only": false
    }
   },
   "outputs": [],
   "source": [
    "pwd"
   ]
  },
  {
   "cell_type": "code",
   "execution_count": null,
   "metadata": {
    "collapsed": false
   },
   "outputs": [],
   "source": [
    "es=bs.eventstream\n",
    "es"
   ]
  },
  {
   "cell_type": "code",
   "execution_count": null,
   "metadata": {
    "collapsed": false,
    "run_control": {
     "frozen": false,
     "read_only": false
    }
   },
   "outputs": [],
   "source": [
    "%matplotlib notebook\n",
    "for e in es:\n",
    "    if e[1]==Event.peak:\n",
    "        plot_event(e)"
   ]
  },
  {
   "cell_type": "code",
   "execution_count": null,
   "metadata": {
    "collapsed": false,
    "run_control": {
     "frozen": false,
     "read_only": false
    }
   },
   "outputs": [],
   "source": [
    "es"
   ]
  },
  {
   "cell_type": "code",
   "execution_count": null,
   "metadata": {
    "collapsed": false,
    "run_control": {
     "frozen": false,
     "read_only": false
    }
   },
   "outputs": [],
   "source": [
    "dists=bs.distributions\n",
    "dists"
   ]
  },
  {
   "cell_type": "code",
   "execution_count": null,
   "metadata": {
    "collapsed": false,
    "run_control": {
     "frozen": false,
     "read_only": false
    }
   },
   "outputs": [],
   "source": [
    "bs.packets[185].payload"
   ]
  },
  {
   "cell_type": "code",
   "execution_count": null,
   "metadata": {
    "collapsed": false,
    "run_control": {
     "frozen": false,
     "read_only": false
    }
   },
   "outputs": [],
   "source": [
    "d=bs.distributions[0]\n",
    "eset=np.uint64(1)\n",
    "bset=np.uint64(0)\n",
    "cset=np.uint64(20)\n",
    "\n",
    "stop=d.stop_time+eset+cset\n",
    "start=d.start_time+bset+cset\n",
    "bins=np.zeros((d.last_bin+1,),dtype=np.uint32)\n",
    "for i in range(start,stop):\n",
    "    s = traces['raw'][i]\n",
    "    if s <= d.lowest_value:\n",
    "        bins[0] += 1\n",
    "    else:\n",
    "        bins[s-d.lowest_value] += 1\n",
    "        \n",
    "(bins-d.counts).nonzero()"
   ]
  },
  {
   "cell_type": "code",
   "execution_count": null,
   "metadata": {
    "collapsed": false,
    "run_control": {
     "frozen": false,
     "read_only": false
    }
   },
   "outputs": [],
   "source": [
    "%matplotlib notebook\n",
    "plt.step(np.arange(len(d.counts)),d.counts)"
   ]
  },
  {
   "cell_type": "code",
   "execution_count": null,
   "metadata": {
    "collapsed": false,
    "run_control": {
     "frozen": false,
     "read_only": false
    }
   },
   "outputs": [],
   "source": [
    "bins[bins.nonzero()]"
   ]
  },
  {
   "cell_type": "code",
   "execution_count": null,
   "metadata": {
    "collapsed": false,
    "run_control": {
     "frozen": false,
     "read_only": false
    }
   },
   "outputs": [],
   "source": [
    "sum(d.counts)"
   ]
  },
  {
   "cell_type": "code",
   "execution_count": null,
   "metadata": {
    "collapsed": false,
    "run_control": {
     "frozen": false,
     "read_only": false
    }
   },
   "outputs": [],
   "source": [
    "2**14+2000"
   ]
  },
  {
   "cell_type": "code",
   "execution_count": null,
   "metadata": {
    "collapsed": false,
    "run_control": {
     "frozen": false,
     "read_only": false
    }
   },
   "outputs": [],
   "source": [
    "es[3][2]['timestamp']-es[0][2]['timestamp']"
   ]
  },
  {
   "cell_type": "code",
   "execution_count": null,
   "metadata": {
    "collapsed": true,
    "run_control": {
     "frozen": false,
     "read_only": false
    }
   },
   "outputs": [],
   "source": [
    "def xings(s, thresh):\n",
    "    pos=s > thresh\n",
    "    neg=s < thresh\n",
    "    pos0=s >= thresh\n",
    "    neg0=s <= thresh\n",
    "    pos_xing_mask = np.bitwise_and(pos0[1:],neg[0:-1])  \n",
    "    neg_xing_mask = np.bitwise_and(neg0[1:],pos[0:-1])  \n",
    "    return pos_xing_mask.nonzero()[0]+1, neg_xing_mask.nonzero()[0]+1"
   ]
  },
  {
   "cell_type": "code",
   "execution_count": null,
   "metadata": {
    "collapsed": true,
    "run_control": {
     "frozen": false,
     "read_only": false
    }
   },
   "outputs": [],
   "source": [
    "from mpl_toolkits.axes_grid1 import host_subplot\n",
    "\n",
    "def plot_trace(traces,start,width):\n",
    "\n",
    "    ax = host_subplot(111)\n",
    "    axr = ax.twinx()\n",
    "    axt = ax.twiny()\n",
    "#ax.plot(t[0:-1:10],s[0:-1:10],'k')\n",
    "#ax.plot(t,s,'k')\n",
    "    axt.set_xlabel('Time ns',fontsize=18)\n",
    "    ax.set_ylabel('Voltage (Arbitary Units)',fontsize=18)\n",
    "#plt.xticks(visible=False)\n",
    "#plt.yticks(visible=False)\n",
    "#ax.set_xlim(0,t[4000000])\n",
    "#start=902000\n",
    "#width=2500\n",
    "    f=traces['filtered'][start:start+width]\n",
    "    s=traces['slope'][start:start+width]\n",
    "    t=np.arange(len(f))*4e-9\n",
    "#ts=t[pstart:pstop]\n",
    "#axins = fig.add_axes([.4, .45, .45, .4])\n",
    "    ax.set_xlim(t[0],t[-1])\n",
    "    axt.set_xlim(t[0],t[-1])\n",
    "\n",
    "    ylim=(-500,2000)\n",
    "\n",
    "    ax.set_ylim(ylim[0],ylim[1])\n",
    "    axr.set_ylim(ylim[0],ylim[1])\n",
    "\n",
    "    filtered, = ax.step(t,f,'k',lw=2,label='filtered')\n",
    "    slope, = ax.step(t,s,'b',label='slope')\n",
    "    ax.fill_between(t,0,s,alpha=.4)\n",
    "    plt.ylim=ylim\n",
    "\n",
    "pos=s>0\n",
    "neg=s<=0\n",
    "pos_xing_mask = np.bitwise_and(pos[1:-1],neg[0:-2])  \n",
    "neg_xing_mask = np.bitwise_and(neg[1:-1],pos[0:-2])  \n",
    "pos_xing=pos_xing_mask.nonzero()\n",
    "neg_xing=neg_xing_mask.nonzero()\n",
    "\n",
    "rx=[t[pos_xing[0][0]], t[neg_xing[0][0]]]\n",
    "ry=[f[pos_xing[0][0]], f[neg_xing[0][0]]]\n",
    "\n",
    "ax.fill_between(t[pos_xing[0][0]:neg_xing[0][0]],0,s[pos_xing[0][0]:neg_xing[0][0]],alpha=.4,color='r')\n",
    "\n",
    "#plt.plot(rx,[ry[0], ry[0]],'-r',lw=2)\n",
    "#plt.plot([rx[1],rx[1]], ry,'-r',lw=2)\n",
    "# thresholds\n",
    "sthresh = 600\n",
    "pthresh = 1000\n",
    "plt.plot([t[0], t[-1]], [sthresh, sthresh], '--b', lw=2)\n",
    "plt.plot([t[0], t[-1]], [pthresh, pthresh], '--k', lw=2)\n",
    "\n",
    "sthresh_xing=(s>sthresh).nonzero()[0][0]\n",
    "pthresh_xing=(f>pthresh).nonzero()[0][0]\n",
    "\n",
    "\n",
    "cf=.10\n",
    "height = ry[1]-ry[0]\n",
    "cfl=ry[0]+(height*cf)\n",
    "cfh=ry[1]-(height*cf)\n",
    "\n",
    "cfl_xing=(f>cfl).nonzero()[0][0]\n",
    "cfd_low=f[cfl_xing]\n",
    "cfh_xing=(f>cfh).nonzero()[0][0]\n",
    "cfd_high=f[cfh_xing]\n",
    "\n",
    "#plt.plot([t[cfl_xing], t[-1]],[cfd_low, cfd_low], ':r')\n",
    "#plt.plot([t[cfh_xing], t[-1]],[cfd_high, cfd_high], ':r')\n",
    "#plt.plot([x[1], t[-1]],[y[1], y[1]], ':r')\n",
    "plt.legend([filtered, slope],['Signal', 'Slope'],loc=2)\n",
    "\n",
    "#axr = ax.twinx()\n",
    "##################################################################\n",
    "#yticks=([ry[0],sthresh,pthresh,cfd_high,ry[1]])\n",
    "yticks=([sthresh,pthresh])\n",
    "axr.set_yticks(yticks)\n",
    "#yticklabels=['Start','Slope threshold','Pulse threshold','CF high','Peak']\n",
    "yticklabels=['Slope threshold','Pulse threshold']\n",
    "axr.set_yticklabels(yticklabels, color='r',fontsize=14)\n",
    "axr.get_yticklabels()[0].set_color('b')\n",
    "axr.get_yticklabels()[1].set_color('k')\n",
    "\n",
    "#xticks=([rx[0],t[cfl_xing],t[sthresh_xing],t[pthresh_xing],rx[1]])\n",
    "xticks=(t[cfl_xing],rx[1])\n",
    "#ax.set_xticks([rx[0],t[cfl_xing],t[sthresh_xing],t[pthresh_xing],rx[1]])\n",
    "ax.set_xticks(xticks)\n",
    "#xticklabels=['Start','CF low','Slope xing','Signal xing','Peak']\n",
    "xticklabels=['CF low','Peak']\n",
    "ax.set_xticklabels(xticklabels, color='r',fontsize=14)\n",
    "\n",
    "#plt.plot([t[cfh_xing], t[-1]],[cfd_high, cfd_high], ':r')\n",
    "#horoz start, stop lines\n",
    "#hpeak=ax.plot([xticks[1], t[-1]],[yticks[-1], yticks[-1]], '-.r')\n",
    "#hstart=ax.plot([xticks[0], t[-1]],[yticks[0], yticks[0]], '-.r')\n",
    "#vert start stop\n",
    "vstart=ax.plot([xticks[0], xticks[0]],[cfd_low, ylim[0]], '-.r')\n",
    "vpeak=ax.plot([xticks[1], xticks[1]],[ylim[0], ry[1]], '-.r')\n",
    "\n",
    "plt.tight_layout()\n",
    "plt.savefig('..//peakextraction7.svg')\n",
    "plt.show()\n",
    "print('risetime:',(xticks[1]-xticks[0])/4)\n",
    "print('height:',yticks[-1]-yticks[0])\n",
    "print('time:',(xticks[0]-rx[0])/4)\n",
    "print('area',sum(s[pos_xing[0][0]:neg_xing[0][0]])/256)\n"
   ]
  },
  {
   "cell_type": "code",
   "execution_count": null,
   "metadata": {
    "collapsed": true,
    "run_control": {
     "frozen": false,
     "read_only": false
    }
   },
   "outputs": [],
   "source": [
    "slope_0xings = xings(traces['slope'],0)"
   ]
  },
  {
   "cell_type": "code",
   "execution_count": null,
   "metadata": {
    "collapsed": false,
    "run_control": {
     "frozen": false,
     "read_only": false
    }
   },
   "outputs": [],
   "source": [
    "slope_0xings"
   ]
  },
  {
   "cell_type": "code",
   "execution_count": null,
   "metadata": {
    "collapsed": false,
    "run_control": {
     "frozen": false,
     "read_only": false
    }
   },
   "outputs": [],
   "source": [
    "%matplotlib notebook\n",
    "start=10000\n",
    "width=300\n",
    "plt.plot(traces['filtered'][start:start+width]/2)"
   ]
  },
  {
   "cell_type": "code",
   "execution_count": null,
   "metadata": {
    "collapsed": false,
    "run_control": {
     "frozen": false,
     "read_only": false
    }
   },
   "outputs": [],
   "source": [
    "%matplotlib notebook\n",
    "plt.plot(traces['slope'][20400:21700])"
   ]
  },
  {
   "cell_type": "code",
   "execution_count": null,
   "metadata": {
    "collapsed": false,
    "run_control": {
     "frozen": false,
     "read_only": false
    }
   },
   "outputs": [],
   "source": [
    "filtered=traces['filtered'][1100:]\n",
    "filteredL=traces['filteredL'][1100:]"
   ]
  },
  {
   "cell_type": "code",
   "execution_count": null,
   "metadata": {
    "collapsed": false,
    "run_control": {
     "frozen": false,
     "read_only": false
    }
   },
   "outputs": [],
   "source": [
    "filtered[:10]"
   ]
  },
  {
   "cell_type": "code",
   "execution_count": null,
   "metadata": {
    "collapsed": false,
    "run_control": {
     "frozen": false,
     "read_only": false
    }
   },
   "outputs": [],
   "source": [
    "filteredL[:10]/4"
   ]
  },
  {
   "cell_type": "code",
   "execution_count": null,
   "metadata": {
    "collapsed": false,
    "run_control": {
     "frozen": false,
     "read_only": false
    }
   },
   "outputs": [],
   "source": [
    "minmax_dt=np.dtype([('filtered','i4'),('low','i4'),('high','i4'),('clk','i4')])\n",
    "minmax=Data.fromfile('minmax',minmax_dt,'teslib','measurement_subsystem_TB',tool='vivado')\n",
    "fxing_dt=np.dtype([('extrema','i4'),('area','i4'),('clk','i4')])\n",
    "fxing=Data.fromfile('filteredxing',fxing_dt,'teslib','measurement_subsystem_TB',tool='vivado')"
   ]
  },
  {
   "cell_type": "code",
   "execution_count": null,
   "metadata": {
    "collapsed": false,
    "run_control": {
     "frozen": false,
     "read_only": false
    }
   },
   "outputs": [],
   "source": [
    "minmax"
   ]
  },
  {
   "cell_type": "code",
   "execution_count": null,
   "metadata": {
    "collapsed": false,
    "run_control": {
     "frozen": false,
     "read_only": false
    }
   },
   "outputs": [],
   "source": [
    "fxing"
   ]
  },
  {
   "cell_type": "code",
   "execution_count": null,
   "metadata": {
    "collapsed": false,
    "run_control": {
     "frozen": false,
     "read_only": false
    }
   },
   "outputs": [],
   "source": [
    "np.where(fxing['area']==0)"
   ]
  },
  {
   "cell_type": "code",
   "execution_count": null,
   "metadata": {
    "collapsed": false,
    "run_control": {
     "frozen": false,
     "read_only": false
    }
   },
   "outputs": [],
   "source": [
    "np.where(fxing['extrema']==0)"
   ]
  },
  {
   "cell_type": "code",
   "execution_count": null,
   "metadata": {
    "collapsed": false,
    "run_control": {
     "frozen": false,
     "read_only": false
    }
   },
   "outputs": [],
   "source": [
    "fxing[30]"
   ]
  },
  {
   "cell_type": "code",
   "execution_count": null,
   "metadata": {
    "collapsed": false,
    "run_control": {
     "frozen": false,
     "read_only": false
    }
   },
   "outputs": [],
   "source": [
    "exn=np.where(fxing['extrema']<0)\n",
    "clkn=np.where(fxing['clk']>0)"
   ]
  },
  {
   "cell_type": "code",
   "execution_count": null,
   "metadata": {
    "collapsed": true,
    "run_control": {
     "frozen": false,
     "read_only": false
    }
   },
   "outputs": [],
   "source": []
  },
  {
   "cell_type": "code",
   "execution_count": null,
   "metadata": {
    "collapsed": false,
    "run_control": {
     "frozen": false,
     "read_only": false
    }
   },
   "outputs": [],
   "source": [
    "fxing[374]"
   ]
  },
  {
   "cell_type": "code",
   "execution_count": null,
   "metadata": {
    "collapsed": false,
    "run_control": {
     "frozen": false,
     "read_only": false
    }
   },
   "outputs": [],
   "source": [
    "clkn"
   ]
  },
  {
   "cell_type": "code",
   "execution_count": null,
   "metadata": {
    "collapsed": false,
    "run_control": {
     "frozen": false,
     "read_only": false
    }
   },
   "outputs": [],
   "source": [
    "np.where(minmax[maxs[0]-1]['min']!=1)"
   ]
  },
  {
   "cell_type": "code",
   "execution_count": null,
   "metadata": {
    "collapsed": false,
    "run_control": {
     "frozen": false,
     "read_only": false
    }
   },
   "outputs": [],
   "source": [
    "minmax[maxs[0]-1][65]"
   ]
  },
  {
   "cell_type": "code",
   "execution_count": null,
   "metadata": {
    "collapsed": false,
    "run_control": {
     "frozen": false,
     "read_only": false
    }
   },
   "outputs": [],
   "source": [
    "2290-925"
   ]
  },
  {
   "cell_type": "code",
   "execution_count": null,
   "metadata": {
    "collapsed": false,
    "run_control": {
     "frozen": false,
     "read_only": false
    }
   },
   "outputs": [],
   "source": [
    "0.375*4"
   ]
  },
  {
   "cell_type": "code",
   "execution_count": null,
   "metadata": {
    "collapsed": false,
    "run_control": {
     "frozen": false,
     "read_only": false
    }
   },
   "outputs": [],
   "source": [
    "np.where(minmax['clock']==2290)"
   ]
  },
  {
   "cell_type": "code",
   "execution_count": null,
   "metadata": {
    "collapsed": false,
    "run_control": {
     "frozen": false,
     "read_only": false
    }
   },
   "outputs": [],
   "source": [
    "minmax[120:140]"
   ]
  },
  {
   "cell_type": "code",
   "execution_count": null,
   "metadata": {
    "collapsed": false,
    "run_control": {
     "frozen": false,
     "read_only": false
    }
   },
   "outputs": [],
   "source": [
    "stream_dt=np.dtype([('data','>i4'),('last','i4')])\n",
    "#stream=np.fromfile('data/stream',stream_dt)"
   ]
  },
  {
   "cell_type": "markdown",
   "metadata": {},
   "source": [
    "### bytestream stuff"
   ]
  },
  {
   "cell_type": "code",
   "execution_count": null,
   "metadata": {
    "collapsed": false,
    "run_control": {
     "frozen": false,
     "read_only": false
    }
   },
   "outputs": [],
   "source": [
    "stream_dt=np.dtype([('data','i4'),('last','i4')])\n",
    "stream=Data.fromfile('bytestream',stream_dt,'teslib','measurement_subsystem_TB',tool='vivado')\n",
    "lasts=np.where(stream['last']<=0)[0]+1\n",
    "#data=np.copy(stream['data'])"
   ]
  },
  {
   "cell_type": "code",
   "execution_count": null,
   "metadata": {
    "collapsed": false,
    "run_control": {
     "frozen": false,
     "read_only": false
    }
   },
   "outputs": [],
   "source": [
    "stream"
   ]
  },
  {
   "cell_type": "code",
   "execution_count": null,
   "metadata": {
    "collapsed": true,
    "run_control": {
     "frozen": false,
     "read_only": false
    }
   },
   "outputs": [],
   "source": []
  },
  {
   "cell_type": "code",
   "execution_count": null,
   "metadata": {
    "collapsed": true,
    "run_control": {
     "frozen": false,
     "read_only": false
    }
   },
   "outputs": [],
   "source": [
    "stream=np.fromfile('data/bytestream',stream_dt)"
   ]
  },
  {
   "cell_type": "code",
   "execution_count": null,
   "metadata": {
    "collapsed": false,
    "run_control": {
     "frozen": false,
     "read_only": false
    }
   },
   "outputs": [],
   "source": [
    "bs=PacketStream(stream)"
   ]
  },
  {
   "cell_type": "code",
   "execution_count": null,
   "metadata": {
    "collapsed": false,
    "run_control": {
     "frozen": false,
     "read_only": false
    }
   },
   "outputs": [],
   "source": [
    "bs.packets"
   ]
  },
  {
   "cell_type": "code",
   "execution_count": null,
   "metadata": {
    "collapsed": false,
    "run_control": {
     "frozen": false,
     "read_only": false
    }
   },
   "outputs": [],
   "source": [
    "bs.packets[4]"
   ]
  },
  {
   "cell_type": "code",
   "execution_count": null,
   "metadata": {
    "collapsed": true,
    "run_control": {
     "frozen": false,
     "read_only": false
    }
   },
   "outputs": [],
   "source": [
    "eheader_dt=[('etype','<u2'),('length','u2'),()]"
   ]
  },
  {
   "cell_type": "code",
   "execution_count": null,
   "metadata": {
    "collapsed": false,
    "run_control": {
     "frozen": false,
     "read_only": false
    }
   },
   "outputs": [],
   "source": [
    "'{:X}'.format(bs.packets[1].bytes[23])\n"
   ]
  },
  {
   "cell_type": "code",
   "execution_count": null,
   "metadata": {
    "collapsed": false,
    "run_control": {
     "frozen": false,
     "read_only": false
    }
   },
   "outputs": [],
   "source": [
    "'{:X}'.format(bs.packets[0].bytes[28:30].view(np.uint16)[0])"
   ]
  },
  {
   "cell_type": "code",
   "execution_count": null,
   "metadata": {
    "collapsed": true,
    "run_control": {
     "frozen": false,
     "read_only": false
    }
   },
   "outputs": [],
   "source": [
    "pulse_peak_dt=np.dtype([('height','i2'),('rise','i2'),('minima','u2'),('time','i2')])\n",
    "pulse_dt=np.dtype([('size','i2'),('resv','i2'),('flags','i2'),('time','u2'),\n",
    "                  ('area','i4'),('length','i2'),('offset','i2'),('peaks',(pulse_peak_dt,2))])"
   ]
  },
  {
   "cell_type": "code",
   "execution_count": null,
   "metadata": {
    "collapsed": false,
    "run_control": {
     "frozen": false,
     "read_only": false
    }
   },
   "outputs": [],
   "source": [
    "pulses=bs.packets[3].payload.view(pulse_dt)"
   ]
  },
  {
   "cell_type": "code",
   "execution_count": null,
   "metadata": {
    "collapsed": false,
    "run_control": {
     "frozen": false,
     "read_only": false
    }
   },
   "outputs": [],
   "source": [
    "pulses['peaks']"
   ]
  },
  {
   "cell_type": "code",
   "execution_count": null,
   "metadata": {
    "collapsed": false,
    "run_control": {
     "frozen": false,
     "read_only": false
    }
   },
   "outputs": [],
   "source": [
    "pulses['offset']"
   ]
  },
  {
   "cell_type": "code",
   "execution_count": null,
   "metadata": {
    "collapsed": false,
    "run_control": {
     "frozen": false,
     "read_only": false
    }
   },
   "outputs": [],
   "source": [
    "pulses['length']"
   ]
  },
  {
   "cell_type": "code",
   "execution_count": null,
   "metadata": {
    "collapsed": false,
    "run_control": {
     "frozen": false,
     "read_only": false
    }
   },
   "outputs": [],
   "source": [
    "class eflags:\n",
    "    def __init__(self,uint16):\n",
    "        self.new_window=np.bitwise_and(uint16,0x00000001)!=0\n",
    "        self.tick=np.bitwise_and(uint16,0x00000002)!=0\n",
    "        self.type=np.right_shift(np.bitwise_and(uint16,0x0000000c),2)\n",
    "        \n",
    "    def __repr__(self):\n",
    "        return 'New window:{:}\\n'.format(self.new_window) + \\\n",
    "               'Tick:{:}\\n'.format(self.tick) + \\\n",
    "               'Type:{:}\\n'.format(self.type) "
   ]
  },
  {
   "cell_type": "code",
   "execution_count": null,
   "metadata": {
    "collapsed": false,
    "run_control": {
     "frozen": false,
     "read_only": false
    }
   },
   "outputs": [],
   "source": [
    "f=eflags(pulses[0]['flags'])\n",
    "f"
   ]
  },
  {
   "cell_type": "code",
   "execution_count": null,
   "metadata": {
    "collapsed": false,
    "run_control": {
     "frozen": false,
     "read_only": false
    }
   },
   "outputs": [],
   "source": [
    "'{:X}'.format(bs.packets[3].bytes[13:14].view(np.uint16))"
   ]
  },
  {
   "cell_type": "code",
   "execution_count": null,
   "metadata": {
    "collapsed": true,
    "run_control": {
     "frozen": false,
     "read_only": false
    }
   },
   "outputs": [],
   "source": []
  },
  {
   "cell_type": "code",
   "execution_count": null,
   "metadata": {
    "collapsed": false,
    "run_control": {
     "frozen": false,
     "read_only": false
    }
   },
   "outputs": [],
   "source": [
    "'{:X}'.format(bs.packets[3].bytes[14:16].view(np.uint16)[0])"
   ]
  },
  {
   "cell_type": "code",
   "execution_count": null,
   "metadata": {
    "collapsed": false,
    "run_control": {
     "frozen": false,
     "read_only": false
    }
   },
   "outputs": [],
   "source": [
    "bs.packets[3].bytes[14:16].view(np.uint16)[0]"
   ]
  },
  {
   "cell_type": "code",
   "execution_count": null,
   "metadata": {
    "collapsed": false,
    "run_control": {
     "frozen": false,
     "read_only": false
    }
   },
   "outputs": [],
   "source": [
    "bs=np.uint8(stream['data'][:48])"
   ]
  },
  {
   "cell_type": "code",
   "execution_count": null,
   "metadata": {
    "collapsed": false,
    "run_control": {
     "frozen": false,
     "read_only": false
    }
   },
   "outputs": [],
   "source": [
    "bs"
   ]
  },
  {
   "cell_type": "code",
   "execution_count": null,
   "metadata": {
    "collapsed": false,
    "run_control": {
     "frozen": false,
     "read_only": false
    }
   },
   "outputs": [],
   "source": [
    "events=stream['data'].view(event_dt)"
   ]
  },
  {
   "cell_type": "code",
   "execution_count": null,
   "metadata": {
    "collapsed": false,
    "run_control": {
     "frozen": false,
     "read_only": false
    }
   },
   "outputs": [],
   "source": [
    "'{:X}'.format(events['flags'][0])"
   ]
  },
  {
   "cell_type": "code",
   "execution_count": null,
   "metadata": {
    "collapsed": false,
    "run_control": {
     "frozen": false,
     "read_only": false
    }
   },
   "outputs": [],
   "source": [
    "events['rise']"
   ]
  },
  {
   "cell_type": "code",
   "execution_count": null,
   "metadata": {
    "collapsed": false,
    "run_control": {
     "frozen": false,
     "read_only": false
    }
   },
   "outputs": [],
   "source": [
    "events"
   ]
  },
  {
   "cell_type": "code",
   "execution_count": null,
   "metadata": {
    "collapsed": false,
    "run_control": {
     "frozen": false,
     "read_only": false
    }
   },
   "outputs": [],
   "source": [
    "'{:04X}'.format(events['flags'][1])"
   ]
  },
  {
   "cell_type": "code",
   "execution_count": null,
   "metadata": {
    "collapsed": true,
    "run_control": {
     "frozen": false,
     "read_only": false
    }
   },
   "outputs": [],
   "source": [
    "pulse_peak_dt=np.dtype([('time','>i2'),('minima','>i2'),('rise','>u2'),('height','>i2')])\n",
    "pulse_dt=np.dtype([('time','>i2'),('flags','>i2'),('resv','>i2'),('size','>u2'),\n",
    "                  ('offset','>i2'),('length','>i2'),('area','>i4'),('peaks',(pulse_peak_dt,1))])\n",
    "data=np.copy(stream['data'])"
   ]
  },
  {
   "cell_type": "code",
   "execution_count": null,
   "metadata": {
    "collapsed": false,
    "run_control": {
     "frozen": false,
     "read_only": false
    }
   },
   "outputs": [],
   "source": [
    "pulses=data.view(pulse_dt)"
   ]
  },
  {
   "cell_type": "code",
   "execution_count": null,
   "metadata": {
    "collapsed": false,
    "run_control": {
     "frozen": false,
     "read_only": false
    }
   },
   "outputs": [],
   "source": [
    "pulses['peaks']['height']-pulses['peaks']['minima']"
   ]
  },
  {
   "cell_type": "code",
   "execution_count": null,
   "metadata": {
    "collapsed": false,
    "run_control": {
     "frozen": false,
     "read_only": false
    }
   },
   "outputs": [],
   "source": [
    "pulses['peaks']['minima']"
   ]
  },
  {
   "cell_type": "code",
   "execution_count": null,
   "metadata": {
    "collapsed": false,
    "run_control": {
     "frozen": false,
     "read_only": false
    }
   },
   "outputs": [],
   "source": [
    "peak_count=np.right_shift(np.bitwise_and(pulses['flags'],0xF000),12)\n",
    "peak_overflow=np.bitwise_and(pulses['flags'],0x0800)!=0\n",
    "channel=np.right_shift(np.bitwise_and(pulses['flags'],0x0700),8)\n",
    "timing_type=np.right_shift(np.bitwise_and(pulses['flags'],0x00C0),6)\n",
    "height_type=np.right_shift(np.bitwise_and(pulses['flags'],0x0030),4)\n",
    "event_type=np.right_shift(np.bitwise_and(pulses['flags'],0x000E),1)\n",
    "new_window=np.bitwise_and(pulses['flags'],0x0001)!=0"
   ]
  },
  {
   "cell_type": "code",
   "execution_count": null,
   "metadata": {
    "collapsed": false,
    "run_control": {
     "frozen": false,
     "read_only": false
    }
   },
   "outputs": [],
   "source": [
    "peak_overflow"
   ]
  },
  {
   "cell_type": "code",
   "execution_count": null,
   "metadata": {
    "collapsed": true,
    "run_control": {
     "frozen": false,
     "read_only": false
    }
   },
   "outputs": [],
   "source": [
    "test_dt=np.dtype(\n",
    "    [('time','i2'),('flags','i2'),('rise','u2'),('minima','i2'),('low','u8'),('high','u8')]\n",
    ")\n",
    "test=data.view(test_dt)"
   ]
  },
  {
   "cell_type": "code",
   "execution_count": null,
   "metadata": {
    "collapsed": false,
    "run_control": {
     "frozen": false,
     "read_only": false
    }
   },
   "outputs": [],
   "source": [
    "test"
   ]
  },
  {
   "cell_type": "code",
   "execution_count": null,
   "metadata": {
    "collapsed": false,
    "run_control": {
     "frozen": false,
     "read_only": false
    }
   },
   "outputs": [],
   "source": [
    "test['minima']"
   ]
  },
  {
   "cell_type": "code",
   "execution_count": null,
   "metadata": {
    "collapsed": false,
    "run_control": {
     "frozen": false,
     "read_only": false
    }
   },
   "outputs": [],
   "source": [
    "low1=np.int32(np.right_shift(np.bitwise_and(test['low'],0x03FFFF000000000),36))\n",
    "s=(np.bitwise_and(low1,0x00020000)!=0)*0xFFFC0000\n",
    "low2=np.int32(np.right_shift(np.bitwise_and(test['low'],0x000000FFFFC0000),18))\n",
    "low_threshold=np.int32(np.bitwise_and(test['low'],0x00000000003FFFF))\n",
    "high1=np.int32(np.right_shift(np.bitwise_and(test['high'],0x03FFFF000000000),36))\n",
    "high2=np.int32(np.right_shift(np.bitwise_and(test['high'],0x000000FFFFC0000),18))\n",
    "high_threshold=np.int32(np.bitwise_and(test['high'],0x00000000003FFFF))"
   ]
  },
  {
   "cell_type": "code",
   "execution_count": null,
   "metadata": {
    "collapsed": false,
    "run_control": {
     "frozen": false,
     "read_only": false
    }
   },
   "outputs": [],
   "source": [
    "np.int32(np.bitwise_or(low1,s))/8.0"
   ]
  },
  {
   "cell_type": "code",
   "execution_count": null,
   "metadata": {
    "collapsed": false,
    "run_control": {
     "frozen": false,
     "read_only": false
    }
   },
   "outputs": [],
   "source": [
    "'{:04X}'.format(low1[0])"
   ]
  },
  {
   "cell_type": "code",
   "execution_count": null,
   "metadata": {
    "collapsed": false,
    "run_control": {
     "frozen": false,
     "read_only": false
    }
   },
   "outputs": [],
   "source": [
    "high1/8.0"
   ]
  },
  {
   "cell_type": "code",
   "execution_count": null,
   "metadata": {
    "collapsed": false,
    "run_control": {
     "frozen": false,
     "read_only": false
    }
   },
   "outputs": [],
   "source": [
    "high2/8.0"
   ]
  },
  {
   "cell_type": "code",
   "execution_count": null,
   "metadata": {
    "collapsed": false,
    "run_control": {
     "frozen": false,
     "read_only": false
    }
   },
   "outputs": [],
   "source": [
    "'{:04X}'.format(high_threshold[0])"
   ]
  },
  {
   "cell_type": "code",
   "execution_count": null,
   "metadata": {
    "collapsed": false,
    "run_control": {
     "frozen": false,
     "read_only": false
    }
   },
   "outputs": [],
   "source": [
    "from enum import Enum"
   ]
  },
  {
   "cell_type": "code",
   "execution_count": null,
   "metadata": {
    "collapsed": false,
    "run_control": {
     "frozen": false,
     "read_only": false
    }
   },
   "outputs": [],
   "source": [
    "class VhdlEnum(int, Enum):\n",
    "\n",
    "    def __str__(self):\n",
    "        return self.name.replace(\"-\", \" \")\n",
    "    \n",
    "    def select(self):\n",
    "        return pow(2, self.value)\n",
    "    "
   ]
  },
  {
   "cell_type": "code",
   "execution_count": null,
   "metadata": {
    "collapsed": false,
    "run_control": {
     "frozen": false,
     "read_only": false
    }
   },
   "outputs": [],
   "source": [
    "class Test(VhdlEnum):\n",
    "    a=0\n",
    "    b=1"
   ]
  },
  {
   "cell_type": "code",
   "execution_count": null,
   "metadata": {
    "collapsed": false,
    "run_control": {
     "frozen": false,
     "read_only": false
    }
   },
   "outputs": [],
   "source": [
    "Test(0)"
   ]
  },
  {
   "cell_type": "code",
   "execution_count": null,
   "metadata": {
    "collapsed": true,
    "run_control": {
     "frozen": false,
     "read_only": false
    }
   },
   "outputs": [],
   "source": []
  }
 ],
 "metadata": {
  "anaconda-cloud": {},
  "kernelspec": {
   "display_name": "Python [conda root]",
   "language": "python",
   "name": "conda-root-py"
  },
  "language_info": {
   "codemirror_mode": {
    "name": "ipython",
    "version": 3
   },
   "file_extension": ".py",
   "mimetype": "text/x-python",
   "name": "python",
   "nbconvert_exporter": "python",
   "pygments_lexer": "ipython3",
   "version": "3.5.3"
  }
 },
 "nbformat": 4,
 "nbformat_minor": 1
}
