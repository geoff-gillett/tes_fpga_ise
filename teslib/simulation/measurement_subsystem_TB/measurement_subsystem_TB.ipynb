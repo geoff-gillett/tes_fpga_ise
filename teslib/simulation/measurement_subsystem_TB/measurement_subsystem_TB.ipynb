{
 "cells": [
  {
   "cell_type": "markdown",
   "metadata": {},
   "source": [
    "timestamp 0 => clk 20\n",
    "\n",
    "traces start at clk 1"
   ]
  },
  {
   "cell_type": "code",
   "execution_count": null,
   "metadata": {
    "collapsed": false,
    "run_control": {
     "frozen": false,
     "read_only": false
    }
   },
   "outputs": [],
   "source": [
    "#Mac\n",
    "import sys\n",
    "sys.path.append('../../../../interface/python')"
   ]
  },
  {
   "cell_type": "code",
   "execution_count": 1,
   "metadata": {
    "collapsed": false,
    "run_control": {
     "frozen": false,
     "read_only": false
    }
   },
   "outputs": [],
   "source": [
    "from tes.data import Data,PacketStream,Packet,Payload,EventFlags,Event\n",
    "import numpy as np\n",
    "import matplotlib.pyplot as plt\n",
    "from subprocess import Popen"
   ]
  },
  {
   "cell_type": "code",
   "execution_count": null,
   "metadata": {
    "collapsed": true
   },
   "outputs": [],
   "source": []
  },
  {
   "cell_type": "code",
   "execution_count": 2,
   "metadata": {
    "code_folding": [],
    "collapsed": false,
    "run_control": {
     "frozen": false,
     "read_only": false
    }
   },
   "outputs": [],
   "source": [
    "#NOTE traces[0] corresponts to clk=1\n",
    "trace_dt=np.dtype([('raw','i4'),('filtered','i4'),('slope','i4'),('filteredL','i4')])\n",
    "stream_dt=np.dtype([('data','i4'),('last','i4')])\n",
    "minmax_dt=np.dtype(\n",
    "    [\n",
    "        ('filtered','i4'),('timing_threshold','i4'),\n",
    "        ('height_threshold','i4'),('slope_extrema','i4'),('slope_area','i4'),('clk','i4')\n",
    "    ]\n",
    ")\n",
    "cfd_dt=np.dtype('i4')\n",
    "filteredxing_dt=np.dtype([('extrema','i4'),('area','i4'),('clk','i4')])"
   ]
  },
  {
   "cell_type": "code",
   "execution_count": null,
   "metadata": {
    "collapsed": false,
    "run_control": {
     "frozen": false,
     "read_only": false
    }
   },
   "outputs": [],
   "source": [
    "traces=np.fromfile('data/traces',trace_dt)\n",
    "stream=np.fromfile('data/bytestream',stream_dt)\n",
    "minmax=np.fromfile('data/minmax',minmax_dt)\n",
    "cfd=np.fromfile('data/cfd',cfd_dt)\n",
    "filteredxing=np.fromfile('data/filteredxing',filteredxing_dt)"
   ]
  },
  {
   "cell_type": "code",
   "execution_count": null,
   "metadata": {
    "collapsed": false,
    "run_control": {
     "frozen": false,
     "read_only": false
    },
    "scrolled": true
   },
   "outputs": [],
   "source": [
    "traces=Data.fromfile('traces',trace_dt,'teslib','measurement_subsystem_TB',tool='vivado')\n",
    "stream=Data.fromfile('bytestream',stream_dt,'teslib','measurement_subsystem_TB',tool='vivado')\n",
    "minmax=Data.fromfile('minmax',minmax_dt,'teslib','measurement_subsystem_TB',tool='vivado')\n",
    "cfd=Data.fromfile('cfd',cfd_dt,'teslib','measurement_subsystem_TB',tool='vivado')\n",
    "filteredxing=Data.fromfile(\n",
    "    'filteredxing',filteredxing_dt,'teslib','measurement_subsystem_TB',tool='vivado'\n",
    ")"
   ]
  },
  {
   "cell_type": "code",
   "execution_count": null,
   "metadata": {
    "collapsed": false,
    "run_control": {
     "frozen": false,
     "read_only": false
    },
    "scrolled": true
   },
   "outputs": [],
   "source": [
    "# Mac\n",
    "traces=Data.fromfile(\n",
    "    'traces',trace_dt,'teslib','measurement_subsystem_TB',tool='vivado',\n",
    "    root='/Volumes/C/'\n",
    ")\n",
    "stream=Data.fromfile(\n",
    "    'bytestream',stream_dt,'teslib','measurement_subsystem_TB',tool='vivado',\n",
    "    root='/Volumes/C/'\n",
    ")\n",
    "minmax=Data.fromfile(\n",
    "    'minmax',minmax_dt,'teslib','measurement_subsystem_TB',tool='vivado',\n",
    "    root='/Volumes/C/'\n",
    ")\n",
    "cfd=Data.fromfile(\n",
    "    'cfd',cfd_dt,'teslib','measurement_subsystem_TB',tool='vivado',\n",
    "    root='/Volumes/C/'\n",
    ")\n",
    "filteredxing=Data.fromfile(\n",
    "    'filteredxing',filteredxing_dt,'teslib','measurement_subsystem_TB',\n",
    "    tool='vivado',root='/Volumes/C/'\n",
    ")"
   ]
  },
  {
   "cell_type": "code",
   "execution_count": null,
   "metadata": {
    "collapsed": false
   },
   "outputs": [],
   "source": [
    "def plot_event(event_tupple,rel2min):\n",
    "    pre=200\n",
    "    post=1000\n",
    "    timestamp=event_tupple[0]\n",
    "    event_type=event_tupple[1]\n",
    "    event=event_tupple[2]\n",
    "    flags=EventFlags(event['flags'])\n",
    "#     print(flags)\n",
    "    #print('timestamp',timestamp, 'time', event['time'],'height',event['height'],'min',event['minima'])\n",
    "    if flags.type == Event.tick:\n",
    "        return\n",
    "    s=traces['filtered'][timestamp+20-pre:timestamp+20+post]\n",
    "    r=traces['raw'][timestamp+20-pre:timestamp+20+post]\n",
    "    i = np.where(abs(minmax['clk'])<=timestamp+20)[0][-1]\n",
    "    min_t=abs(minmax['clk'][i])-(timestamp+20)\n",
    "#     print(minmax['clk'][i],min_t,i,timestamp)\n",
    "    #plt.plot(r,'k',linewidth=0.5)\n",
    "#     print('min', event_tupple[2][1])\n",
    "#     print(event_type)\n",
    "    if flags.channel==1:\n",
    "        colour='b'\n",
    "        lw=0.5\n",
    "        mm = 'vb'\n",
    "        tm = 'ob'\n",
    "    else:\n",
    "        colour='r'\n",
    "        lw=0.5\n",
    "        mm = 'vr'\n",
    "        tm = 'or'\n",
    "    \n",
    "#     if event_type==Event.pulse:\n",
    "#         colour=':g'\n",
    "#         lw=2\n",
    "#         if event_type==Event.pulse:\n",
    "#             max_peaks = event['size']-2\n",
    "#         if max_peaks > 1:    \n",
    "#             minima=event['peaks'][0]['minima']\n",
    "#         else:\n",
    "#             minima=event['peaks']['minima']\n",
    "#     else:\n",
    "#         colour='b'\n",
    "#         lw=1\n",
    "    if flags.channel==1:\n",
    "        minima=event['minima']\n",
    "    #     print(event_type,'minima',minima)\n",
    "        if rel2min:\n",
    "            plt.plot(s-minima,colour,linewidth=lw)\n",
    "        else:\n",
    "            plt.plot(s,colour,linewidth=lw)\n",
    "    #     plt.plot([pre],s[pre],tm,fillstyle='none')\n",
    "    #     plt.plot([pre+min_t],minmax['filtered'][i],mm,fillstyle='none')\n",
    "        if event_type==Event.pulse:\n",
    "            if max_peaks > 1:\n",
    "                for i in range(max_peaks):\n",
    "                    p=event['peaks'][i]\n",
    "                    plt.plot([0,len(s)-1],[p['height'],p['height']],':g')\n",
    "            else:\n",
    "                p=event['peaks']\n",
    "                plt.plot([0,len(s)-1],[p['height'],p['height']],':g',lw=1)\n",
    "        else:\n",
    "          plt.plot([0,len(s)-1],[event['height'],event['height']],colour,lw=lw)\n",
    "\n",
    "    #print(event['height'],event['minima'])\n",
    "    #print(minmax['filtered'][i]==s[pre+min_t])\n",
    "    #print(minmax['filtered'][i]==event['minima'])\n",
    "    #print(s[pre],s[pre-1])"
   ]
  },
  {
   "cell_type": "code",
   "execution_count": null,
   "metadata": {
    "collapsed": false,
    "run_control": {
     "frozen": false,
     "read_only": false
    },
    "scrolled": false
   },
   "outputs": [],
   "source": [
    "%matplotlib notebook\n",
    "traces=Data.fromfile('traces',trace_dt,'teslib','measurement_subsystem_TB',tool='vivado')\n",
    "plt.plot(traces['slope'][1100:],'r',linewidth=1)\n",
    "plt.plot(traces['raw'][1100:],linewidth=0.5)\n",
    "plt.plot(traces['filtered'][1100:],'k',linewidth=2)"
   ]
  },
  {
   "cell_type": "code",
   "execution_count": 14,
   "metadata": {
    "collapsed": false,
    "run_control": {
     "frozen": false,
     "read_only": false
    },
    "scrolled": false
   },
   "outputs": [],
   "source": [
    "stream=Data.fromfile('bytestream',stream_dt,'teslib','measurement_subsystem_TB',tool='vivado')\n",
    "minmax=Data.fromfile('minmax',minmax_dt,'teslib','measurement_subsystem_TB',tool='vivado')\n",
    "# bs=PacketStream(stream)\n",
    "# es=bs.eventstream\n",
    "# %matplotlib notebook\n",
    "# for e in es:\n",
    "#     if e[1]==Event.peak or e[1]==Event.pulse:\n",
    "#         plot_event(e,False)"
   ]
  },
  {
   "cell_type": "code",
   "execution_count": 15,
   "metadata": {
    "collapsed": false
   },
   "outputs": [
    {
     "name": "stdout",
     "output_type": "stream",
     "text": [
      "(515, 96, 35, 16, 29, 2131, 324824, 250, 1)\n",
      "0 1464 4120\n",
      "1464 2928 4120\n",
      "2928 4120 4120\n",
      "29 515 3\n",
      "[('size', <class 'numpy.uint16'>), ('tflags0', <class 'numpy.uint8'>), ('tflags1', <class 'numpy.uint8'>), ('flags0', <class 'numpy.uint8'>), ('flags1', <class 'numpy.uint8'>), ('time', <class 'numpy.uint16'>), ('area', <class 'numpy.uint32'>), ('length', <class 'numpy.uint16'>), ('offset', <class 'numpy.uint16'>), ('peaks', [('height', 'i2'), ('minima', 'i2'), ('rise', 'u2'), ('time', 'u2')], (1,)), ('trace', <class 'numpy.int16'>, (2048,))]\n",
      "(515, 96, 35, 0, 29, 2493, 13093, 0, 66)\n",
      "0 1464 4120\n",
      "1464 2928 4120\n",
      "2928 4120 4120\n",
      "29 515 3\n",
      "[('size', <class 'numpy.uint16'>), ('tflags0', <class 'numpy.uint8'>), ('tflags1', <class 'numpy.uint8'>), ('flags0', <class 'numpy.uint8'>), ('flags1', <class 'numpy.uint8'>), ('time', <class 'numpy.uint16'>), ('area', <class 'numpy.uint32'>), ('length', <class 'numpy.uint16'>), ('offset', <class 'numpy.uint16'>), ('peaks', [('height', 'i2'), ('minima', 'i2'), ('rise', 'u2'), ('time', 'u2')], (1,)), ('trace', <class 'numpy.int16'>, (2048,))]\n",
      "(515, 96, 35, 16, 29, 2115, 324824, 250, 1)\n",
      "0 1464 4120\n",
      "1464 2928 4120\n"
     ]
    },
    {
     "data": {
      "text/plain": [
       "[<tes.data.Trace at 0x7ed1048>, <tes.data.Trace at 0x7ed1940>]"
      ]
     },
     "execution_count": 15,
     "metadata": {},
     "output_type": "execute_result"
    }
   ],
   "source": [
    "ps=PacketStream(stream)\n",
    "ps.traces"
   ]
  },
  {
   "cell_type": "code",
   "execution_count": 16,
   "metadata": {
    "collapsed": false
   },
   "outputs": [
    {
     "data": {
      "text/plain": [
       "[ethertype:88B5 length:48 Payload:tick frame:0 protocol:0, ethertype:88B5 length:1488 Payload:trace frame:1 protocol:0, ethertype:88B5 length:1488 Payload:trace frame:2 protocol:1, ethertype:88B5 length:1216 Payload:trace frame:3 protocol:2, ethertype:88B5 length:1488 Payload:trace frame:4 protocol:0, ethertype:88B5 length:1488 Payload:trace frame:5 protocol:1, ethertype:88B5 length:1216 Payload:trace frame:6 protocol:2, ethertype:88B5 length:1488 Payload:trace frame:7 protocol:0, ethertype:88B5 length:1488 Payload:trace frame:8 protocol:1]"
      ]
     },
     "execution_count": 16,
     "metadata": {},
     "output_type": "execute_result"
    }
   ],
   "source": [
    "ps"
   ]
  },
  {
   "cell_type": "code",
   "execution_count": 11,
   "metadata": {
    "collapsed": false
   },
   "outputs": [
    {
     "data": {
      "text/plain": [
       "3"
      ]
     },
     "execution_count": 11,
     "metadata": {},
     "output_type": "execute_result"
    }
   ],
   "source": [
    "sum(stream['last']<0)"
   ]
  },
  {
   "cell_type": "code",
   "execution_count": 22,
   "metadata": {
    "collapsed": false
   },
   "outputs": [
    {
     "data": {
      "application/javascript": [
       "/* Put everything inside the global mpl namespace */\n",
       "window.mpl = {};\n",
       "\n",
       "\n",
       "mpl.get_websocket_type = function() {\n",
       "    if (typeof(WebSocket) !== 'undefined') {\n",
       "        return WebSocket;\n",
       "    } else if (typeof(MozWebSocket) !== 'undefined') {\n",
       "        return MozWebSocket;\n",
       "    } else {\n",
       "        alert('Your browser does not have WebSocket support.' +\n",
       "              'Please try Chrome, Safari or Firefox ≥ 6. ' +\n",
       "              'Firefox 4 and 5 are also supported but you ' +\n",
       "              'have to enable WebSockets in about:config.');\n",
       "    };\n",
       "}\n",
       "\n",
       "mpl.figure = function(figure_id, websocket, ondownload, parent_element) {\n",
       "    this.id = figure_id;\n",
       "\n",
       "    this.ws = websocket;\n",
       "\n",
       "    this.supports_binary = (this.ws.binaryType != undefined);\n",
       "\n",
       "    if (!this.supports_binary) {\n",
       "        var warnings = document.getElementById(\"mpl-warnings\");\n",
       "        if (warnings) {\n",
       "            warnings.style.display = 'block';\n",
       "            warnings.textContent = (\n",
       "                \"This browser does not support binary websocket messages. \" +\n",
       "                    \"Performance may be slow.\");\n",
       "        }\n",
       "    }\n",
       "\n",
       "    this.imageObj = new Image();\n",
       "\n",
       "    this.context = undefined;\n",
       "    this.message = undefined;\n",
       "    this.canvas = undefined;\n",
       "    this.rubberband_canvas = undefined;\n",
       "    this.rubberband_context = undefined;\n",
       "    this.format_dropdown = undefined;\n",
       "\n",
       "    this.image_mode = 'full';\n",
       "\n",
       "    this.root = $('<div/>');\n",
       "    this._root_extra_style(this.root)\n",
       "    this.root.attr('style', 'display: inline-block');\n",
       "\n",
       "    $(parent_element).append(this.root);\n",
       "\n",
       "    this._init_header(this);\n",
       "    this._init_canvas(this);\n",
       "    this._init_toolbar(this);\n",
       "\n",
       "    var fig = this;\n",
       "\n",
       "    this.waiting = false;\n",
       "\n",
       "    this.ws.onopen =  function () {\n",
       "            fig.send_message(\"supports_binary\", {value: fig.supports_binary});\n",
       "            fig.send_message(\"send_image_mode\", {});\n",
       "            if (mpl.ratio != 1) {\n",
       "                fig.send_message(\"set_dpi_ratio\", {'dpi_ratio': mpl.ratio});\n",
       "            }\n",
       "            fig.send_message(\"refresh\", {});\n",
       "        }\n",
       "\n",
       "    this.imageObj.onload = function() {\n",
       "            if (fig.image_mode == 'full') {\n",
       "                // Full images could contain transparency (where diff images\n",
       "                // almost always do), so we need to clear the canvas so that\n",
       "                // there is no ghosting.\n",
       "                fig.context.clearRect(0, 0, fig.canvas.width, fig.canvas.height);\n",
       "            }\n",
       "            fig.context.drawImage(fig.imageObj, 0, 0);\n",
       "        };\n",
       "\n",
       "    this.imageObj.onunload = function() {\n",
       "        this.ws.close();\n",
       "    }\n",
       "\n",
       "    this.ws.onmessage = this._make_on_message_function(this);\n",
       "\n",
       "    this.ondownload = ondownload;\n",
       "}\n",
       "\n",
       "mpl.figure.prototype._init_header = function() {\n",
       "    var titlebar = $(\n",
       "        '<div class=\"ui-dialog-titlebar ui-widget-header ui-corner-all ' +\n",
       "        'ui-helper-clearfix\"/>');\n",
       "    var titletext = $(\n",
       "        '<div class=\"ui-dialog-title\" style=\"width: 100%; ' +\n",
       "        'text-align: center; padding: 3px;\"/>');\n",
       "    titlebar.append(titletext)\n",
       "    this.root.append(titlebar);\n",
       "    this.header = titletext[0];\n",
       "}\n",
       "\n",
       "\n",
       "\n",
       "mpl.figure.prototype._canvas_extra_style = function(canvas_div) {\n",
       "\n",
       "}\n",
       "\n",
       "\n",
       "mpl.figure.prototype._root_extra_style = function(canvas_div) {\n",
       "\n",
       "}\n",
       "\n",
       "mpl.figure.prototype._init_canvas = function() {\n",
       "    var fig = this;\n",
       "\n",
       "    var canvas_div = $('<div/>');\n",
       "\n",
       "    canvas_div.attr('style', 'position: relative; clear: both; outline: 0');\n",
       "\n",
       "    function canvas_keyboard_event(event) {\n",
       "        return fig.key_event(event, event['data']);\n",
       "    }\n",
       "\n",
       "    canvas_div.keydown('key_press', canvas_keyboard_event);\n",
       "    canvas_div.keyup('key_release', canvas_keyboard_event);\n",
       "    this.canvas_div = canvas_div\n",
       "    this._canvas_extra_style(canvas_div)\n",
       "    this.root.append(canvas_div);\n",
       "\n",
       "    var canvas = $('<canvas/>');\n",
       "    canvas.addClass('mpl-canvas');\n",
       "    canvas.attr('style', \"left: 0; top: 0; z-index: 0; outline: 0\")\n",
       "\n",
       "    this.canvas = canvas[0];\n",
       "    this.context = canvas[0].getContext(\"2d\");\n",
       "\n",
       "    var backingStore = this.context.backingStorePixelRatio ||\n",
       "\tthis.context.webkitBackingStorePixelRatio ||\n",
       "\tthis.context.mozBackingStorePixelRatio ||\n",
       "\tthis.context.msBackingStorePixelRatio ||\n",
       "\tthis.context.oBackingStorePixelRatio ||\n",
       "\tthis.context.backingStorePixelRatio || 1;\n",
       "\n",
       "    mpl.ratio = (window.devicePixelRatio || 1) / backingStore;\n",
       "\n",
       "    var rubberband = $('<canvas/>');\n",
       "    rubberband.attr('style', \"position: absolute; left: 0; top: 0; z-index: 1;\")\n",
       "\n",
       "    var pass_mouse_events = true;\n",
       "\n",
       "    canvas_div.resizable({\n",
       "        start: function(event, ui) {\n",
       "            pass_mouse_events = false;\n",
       "        },\n",
       "        resize: function(event, ui) {\n",
       "            fig.request_resize(ui.size.width, ui.size.height);\n",
       "        },\n",
       "        stop: function(event, ui) {\n",
       "            pass_mouse_events = true;\n",
       "            fig.request_resize(ui.size.width, ui.size.height);\n",
       "        },\n",
       "    });\n",
       "\n",
       "    function mouse_event_fn(event) {\n",
       "        if (pass_mouse_events)\n",
       "            return fig.mouse_event(event, event['data']);\n",
       "    }\n",
       "\n",
       "    rubberband.mousedown('button_press', mouse_event_fn);\n",
       "    rubberband.mouseup('button_release', mouse_event_fn);\n",
       "    // Throttle sequential mouse events to 1 every 20ms.\n",
       "    rubberband.mousemove('motion_notify', mouse_event_fn);\n",
       "\n",
       "    rubberband.mouseenter('figure_enter', mouse_event_fn);\n",
       "    rubberband.mouseleave('figure_leave', mouse_event_fn);\n",
       "\n",
       "    canvas_div.on(\"wheel\", function (event) {\n",
       "        event = event.originalEvent;\n",
       "        event['data'] = 'scroll'\n",
       "        if (event.deltaY < 0) {\n",
       "            event.step = 1;\n",
       "        } else {\n",
       "            event.step = -1;\n",
       "        }\n",
       "        mouse_event_fn(event);\n",
       "    });\n",
       "\n",
       "    canvas_div.append(canvas);\n",
       "    canvas_div.append(rubberband);\n",
       "\n",
       "    this.rubberband = rubberband;\n",
       "    this.rubberband_canvas = rubberband[0];\n",
       "    this.rubberband_context = rubberband[0].getContext(\"2d\");\n",
       "    this.rubberband_context.strokeStyle = \"#000000\";\n",
       "\n",
       "    this._resize_canvas = function(width, height) {\n",
       "        // Keep the size of the canvas, canvas container, and rubber band\n",
       "        // canvas in synch.\n",
       "        canvas_div.css('width', width)\n",
       "        canvas_div.css('height', height)\n",
       "\n",
       "        canvas.attr('width', width * mpl.ratio);\n",
       "        canvas.attr('height', height * mpl.ratio);\n",
       "        canvas.attr('style', 'width: ' + width + 'px; height: ' + height + 'px;');\n",
       "\n",
       "        rubberband.attr('width', width);\n",
       "        rubberband.attr('height', height);\n",
       "    }\n",
       "\n",
       "    // Set the figure to an initial 600x600px, this will subsequently be updated\n",
       "    // upon first draw.\n",
       "    this._resize_canvas(600, 600);\n",
       "\n",
       "    // Disable right mouse context menu.\n",
       "    $(this.rubberband_canvas).bind(\"contextmenu\",function(e){\n",
       "        return false;\n",
       "    });\n",
       "\n",
       "    function set_focus () {\n",
       "        canvas.focus();\n",
       "        canvas_div.focus();\n",
       "    }\n",
       "\n",
       "    window.setTimeout(set_focus, 100);\n",
       "}\n",
       "\n",
       "mpl.figure.prototype._init_toolbar = function() {\n",
       "    var fig = this;\n",
       "\n",
       "    var nav_element = $('<div/>')\n",
       "    nav_element.attr('style', 'width: 100%');\n",
       "    this.root.append(nav_element);\n",
       "\n",
       "    // Define a callback function for later on.\n",
       "    function toolbar_event(event) {\n",
       "        return fig.toolbar_button_onclick(event['data']);\n",
       "    }\n",
       "    function toolbar_mouse_event(event) {\n",
       "        return fig.toolbar_button_onmouseover(event['data']);\n",
       "    }\n",
       "\n",
       "    for(var toolbar_ind in mpl.toolbar_items) {\n",
       "        var name = mpl.toolbar_items[toolbar_ind][0];\n",
       "        var tooltip = mpl.toolbar_items[toolbar_ind][1];\n",
       "        var image = mpl.toolbar_items[toolbar_ind][2];\n",
       "        var method_name = mpl.toolbar_items[toolbar_ind][3];\n",
       "\n",
       "        if (!name) {\n",
       "            // put a spacer in here.\n",
       "            continue;\n",
       "        }\n",
       "        var button = $('<button/>');\n",
       "        button.addClass('ui-button ui-widget ui-state-default ui-corner-all ' +\n",
       "                        'ui-button-icon-only');\n",
       "        button.attr('role', 'button');\n",
       "        button.attr('aria-disabled', 'false');\n",
       "        button.click(method_name, toolbar_event);\n",
       "        button.mouseover(tooltip, toolbar_mouse_event);\n",
       "\n",
       "        var icon_img = $('<span/>');\n",
       "        icon_img.addClass('ui-button-icon-primary ui-icon');\n",
       "        icon_img.addClass(image);\n",
       "        icon_img.addClass('ui-corner-all');\n",
       "\n",
       "        var tooltip_span = $('<span/>');\n",
       "        tooltip_span.addClass('ui-button-text');\n",
       "        tooltip_span.html(tooltip);\n",
       "\n",
       "        button.append(icon_img);\n",
       "        button.append(tooltip_span);\n",
       "\n",
       "        nav_element.append(button);\n",
       "    }\n",
       "\n",
       "    var fmt_picker_span = $('<span/>');\n",
       "\n",
       "    var fmt_picker = $('<select/>');\n",
       "    fmt_picker.addClass('mpl-toolbar-option ui-widget ui-widget-content');\n",
       "    fmt_picker_span.append(fmt_picker);\n",
       "    nav_element.append(fmt_picker_span);\n",
       "    this.format_dropdown = fmt_picker[0];\n",
       "\n",
       "    for (var ind in mpl.extensions) {\n",
       "        var fmt = mpl.extensions[ind];\n",
       "        var option = $(\n",
       "            '<option/>', {selected: fmt === mpl.default_extension}).html(fmt);\n",
       "        fmt_picker.append(option)\n",
       "    }\n",
       "\n",
       "    // Add hover states to the ui-buttons\n",
       "    $( \".ui-button\" ).hover(\n",
       "        function() { $(this).addClass(\"ui-state-hover\");},\n",
       "        function() { $(this).removeClass(\"ui-state-hover\");}\n",
       "    );\n",
       "\n",
       "    var status_bar = $('<span class=\"mpl-message\"/>');\n",
       "    nav_element.append(status_bar);\n",
       "    this.message = status_bar[0];\n",
       "}\n",
       "\n",
       "mpl.figure.prototype.request_resize = function(x_pixels, y_pixels) {\n",
       "    // Request matplotlib to resize the figure. Matplotlib will then trigger a resize in the client,\n",
       "    // which will in turn request a refresh of the image.\n",
       "    this.send_message('resize', {'width': x_pixels, 'height': y_pixels});\n",
       "}\n",
       "\n",
       "mpl.figure.prototype.send_message = function(type, properties) {\n",
       "    properties['type'] = type;\n",
       "    properties['figure_id'] = this.id;\n",
       "    this.ws.send(JSON.stringify(properties));\n",
       "}\n",
       "\n",
       "mpl.figure.prototype.send_draw_message = function() {\n",
       "    if (!this.waiting) {\n",
       "        this.waiting = true;\n",
       "        this.ws.send(JSON.stringify({type: \"draw\", figure_id: this.id}));\n",
       "    }\n",
       "}\n",
       "\n",
       "\n",
       "mpl.figure.prototype.handle_save = function(fig, msg) {\n",
       "    var format_dropdown = fig.format_dropdown;\n",
       "    var format = format_dropdown.options[format_dropdown.selectedIndex].value;\n",
       "    fig.ondownload(fig, format);\n",
       "}\n",
       "\n",
       "\n",
       "mpl.figure.prototype.handle_resize = function(fig, msg) {\n",
       "    var size = msg['size'];\n",
       "    if (size[0] != fig.canvas.width || size[1] != fig.canvas.height) {\n",
       "        fig._resize_canvas(size[0], size[1]);\n",
       "        fig.send_message(\"refresh\", {});\n",
       "    };\n",
       "}\n",
       "\n",
       "mpl.figure.prototype.handle_rubberband = function(fig, msg) {\n",
       "    var x0 = msg['x0'] / mpl.ratio;\n",
       "    var y0 = (fig.canvas.height - msg['y0']) / mpl.ratio;\n",
       "    var x1 = msg['x1'] / mpl.ratio;\n",
       "    var y1 = (fig.canvas.height - msg['y1']) / mpl.ratio;\n",
       "    x0 = Math.floor(x0) + 0.5;\n",
       "    y0 = Math.floor(y0) + 0.5;\n",
       "    x1 = Math.floor(x1) + 0.5;\n",
       "    y1 = Math.floor(y1) + 0.5;\n",
       "    var min_x = Math.min(x0, x1);\n",
       "    var min_y = Math.min(y0, y1);\n",
       "    var width = Math.abs(x1 - x0);\n",
       "    var height = Math.abs(y1 - y0);\n",
       "\n",
       "    fig.rubberband_context.clearRect(\n",
       "        0, 0, fig.canvas.width, fig.canvas.height);\n",
       "\n",
       "    fig.rubberband_context.strokeRect(min_x, min_y, width, height);\n",
       "}\n",
       "\n",
       "mpl.figure.prototype.handle_figure_label = function(fig, msg) {\n",
       "    // Updates the figure title.\n",
       "    fig.header.textContent = msg['label'];\n",
       "}\n",
       "\n",
       "mpl.figure.prototype.handle_cursor = function(fig, msg) {\n",
       "    var cursor = msg['cursor'];\n",
       "    switch(cursor)\n",
       "    {\n",
       "    case 0:\n",
       "        cursor = 'pointer';\n",
       "        break;\n",
       "    case 1:\n",
       "        cursor = 'default';\n",
       "        break;\n",
       "    case 2:\n",
       "        cursor = 'crosshair';\n",
       "        break;\n",
       "    case 3:\n",
       "        cursor = 'move';\n",
       "        break;\n",
       "    }\n",
       "    fig.rubberband_canvas.style.cursor = cursor;\n",
       "}\n",
       "\n",
       "mpl.figure.prototype.handle_message = function(fig, msg) {\n",
       "    fig.message.textContent = msg['message'];\n",
       "}\n",
       "\n",
       "mpl.figure.prototype.handle_draw = function(fig, msg) {\n",
       "    // Request the server to send over a new figure.\n",
       "    fig.send_draw_message();\n",
       "}\n",
       "\n",
       "mpl.figure.prototype.handle_image_mode = function(fig, msg) {\n",
       "    fig.image_mode = msg['mode'];\n",
       "}\n",
       "\n",
       "mpl.figure.prototype.updated_canvas_event = function() {\n",
       "    // Called whenever the canvas gets updated.\n",
       "    this.send_message(\"ack\", {});\n",
       "}\n",
       "\n",
       "// A function to construct a web socket function for onmessage handling.\n",
       "// Called in the figure constructor.\n",
       "mpl.figure.prototype._make_on_message_function = function(fig) {\n",
       "    return function socket_on_message(evt) {\n",
       "        if (evt.data instanceof Blob) {\n",
       "            /* FIXME: We get \"Resource interpreted as Image but\n",
       "             * transferred with MIME type text/plain:\" errors on\n",
       "             * Chrome.  But how to set the MIME type?  It doesn't seem\n",
       "             * to be part of the websocket stream */\n",
       "            evt.data.type = \"image/png\";\n",
       "\n",
       "            /* Free the memory for the previous frames */\n",
       "            if (fig.imageObj.src) {\n",
       "                (window.URL || window.webkitURL).revokeObjectURL(\n",
       "                    fig.imageObj.src);\n",
       "            }\n",
       "\n",
       "            fig.imageObj.src = (window.URL || window.webkitURL).createObjectURL(\n",
       "                evt.data);\n",
       "            fig.updated_canvas_event();\n",
       "            fig.waiting = false;\n",
       "            return;\n",
       "        }\n",
       "        else if (typeof evt.data === 'string' && evt.data.slice(0, 21) == \"data:image/png;base64\") {\n",
       "            fig.imageObj.src = evt.data;\n",
       "            fig.updated_canvas_event();\n",
       "            fig.waiting = false;\n",
       "            return;\n",
       "        }\n",
       "\n",
       "        var msg = JSON.parse(evt.data);\n",
       "        var msg_type = msg['type'];\n",
       "\n",
       "        // Call the  \"handle_{type}\" callback, which takes\n",
       "        // the figure and JSON message as its only arguments.\n",
       "        try {\n",
       "            var callback = fig[\"handle_\" + msg_type];\n",
       "        } catch (e) {\n",
       "            console.log(\"No handler for the '\" + msg_type + \"' message type: \", msg);\n",
       "            return;\n",
       "        }\n",
       "\n",
       "        if (callback) {\n",
       "            try {\n",
       "                // console.log(\"Handling '\" + msg_type + \"' message: \", msg);\n",
       "                callback(fig, msg);\n",
       "            } catch (e) {\n",
       "                console.log(\"Exception inside the 'handler_\" + msg_type + \"' callback:\", e, e.stack, msg);\n",
       "            }\n",
       "        }\n",
       "    };\n",
       "}\n",
       "\n",
       "// from http://stackoverflow.com/questions/1114465/getting-mouse-location-in-canvas\n",
       "mpl.findpos = function(e) {\n",
       "    //this section is from http://www.quirksmode.org/js/events_properties.html\n",
       "    var targ;\n",
       "    if (!e)\n",
       "        e = window.event;\n",
       "    if (e.target)\n",
       "        targ = e.target;\n",
       "    else if (e.srcElement)\n",
       "        targ = e.srcElement;\n",
       "    if (targ.nodeType == 3) // defeat Safari bug\n",
       "        targ = targ.parentNode;\n",
       "\n",
       "    // jQuery normalizes the pageX and pageY\n",
       "    // pageX,Y are the mouse positions relative to the document\n",
       "    // offset() returns the position of the element relative to the document\n",
       "    var x = e.pageX - $(targ).offset().left;\n",
       "    var y = e.pageY - $(targ).offset().top;\n",
       "\n",
       "    return {\"x\": x, \"y\": y};\n",
       "};\n",
       "\n",
       "/*\n",
       " * return a copy of an object with only non-object keys\n",
       " * we need this to avoid circular references\n",
       " * http://stackoverflow.com/a/24161582/3208463\n",
       " */\n",
       "function simpleKeys (original) {\n",
       "  return Object.keys(original).reduce(function (obj, key) {\n",
       "    if (typeof original[key] !== 'object')\n",
       "        obj[key] = original[key]\n",
       "    return obj;\n",
       "  }, {});\n",
       "}\n",
       "\n",
       "mpl.figure.prototype.mouse_event = function(event, name) {\n",
       "    var canvas_pos = mpl.findpos(event)\n",
       "\n",
       "    if (name === 'button_press')\n",
       "    {\n",
       "        this.canvas.focus();\n",
       "        this.canvas_div.focus();\n",
       "    }\n",
       "\n",
       "    var x = canvas_pos.x * mpl.ratio;\n",
       "    var y = canvas_pos.y * mpl.ratio;\n",
       "\n",
       "    this.send_message(name, {x: x, y: y, button: event.button,\n",
       "                             step: event.step,\n",
       "                             guiEvent: simpleKeys(event)});\n",
       "\n",
       "    /* This prevents the web browser from automatically changing to\n",
       "     * the text insertion cursor when the button is pressed.  We want\n",
       "     * to control all of the cursor setting manually through the\n",
       "     * 'cursor' event from matplotlib */\n",
       "    event.preventDefault();\n",
       "    return false;\n",
       "}\n",
       "\n",
       "mpl.figure.prototype._key_event_extra = function(event, name) {\n",
       "    // Handle any extra behaviour associated with a key event\n",
       "}\n",
       "\n",
       "mpl.figure.prototype.key_event = function(event, name) {\n",
       "\n",
       "    // Prevent repeat events\n",
       "    if (name == 'key_press')\n",
       "    {\n",
       "        if (event.which === this._key)\n",
       "            return;\n",
       "        else\n",
       "            this._key = event.which;\n",
       "    }\n",
       "    if (name == 'key_release')\n",
       "        this._key = null;\n",
       "\n",
       "    var value = '';\n",
       "    if (event.ctrlKey && event.which != 17)\n",
       "        value += \"ctrl+\";\n",
       "    if (event.altKey && event.which != 18)\n",
       "        value += \"alt+\";\n",
       "    if (event.shiftKey && event.which != 16)\n",
       "        value += \"shift+\";\n",
       "\n",
       "    value += 'k';\n",
       "    value += event.which.toString();\n",
       "\n",
       "    this._key_event_extra(event, name);\n",
       "\n",
       "    this.send_message(name, {key: value,\n",
       "                             guiEvent: simpleKeys(event)});\n",
       "    return false;\n",
       "}\n",
       "\n",
       "mpl.figure.prototype.toolbar_button_onclick = function(name) {\n",
       "    if (name == 'download') {\n",
       "        this.handle_save(this, null);\n",
       "    } else {\n",
       "        this.send_message(\"toolbar_button\", {name: name});\n",
       "    }\n",
       "};\n",
       "\n",
       "mpl.figure.prototype.toolbar_button_onmouseover = function(tooltip) {\n",
       "    this.message.textContent = tooltip;\n",
       "};\n",
       "mpl.toolbar_items = [[\"Home\", \"Reset original view\", \"fa fa-home icon-home\", \"home\"], [\"Back\", \"Back to  previous view\", \"fa fa-arrow-left icon-arrow-left\", \"back\"], [\"Forward\", \"Forward to next view\", \"fa fa-arrow-right icon-arrow-right\", \"forward\"], [\"\", \"\", \"\", \"\"], [\"Pan\", \"Pan axes with left mouse, zoom with right\", \"fa fa-arrows icon-move\", \"pan\"], [\"Zoom\", \"Zoom to rectangle\", \"fa fa-square-o icon-check-empty\", \"zoom\"], [\"\", \"\", \"\", \"\"], [\"Download\", \"Download plot\", \"fa fa-floppy-o icon-save\", \"download\"]];\n",
       "\n",
       "mpl.extensions = [\"eps\", \"jpeg\", \"pdf\", \"png\", \"ps\", \"raw\", \"svg\", \"tif\"];\n",
       "\n",
       "mpl.default_extension = \"png\";var comm_websocket_adapter = function(comm) {\n",
       "    // Create a \"websocket\"-like object which calls the given IPython comm\n",
       "    // object with the appropriate methods. Currently this is a non binary\n",
       "    // socket, so there is still some room for performance tuning.\n",
       "    var ws = {};\n",
       "\n",
       "    ws.close = function() {\n",
       "        comm.close()\n",
       "    };\n",
       "    ws.send = function(m) {\n",
       "        //console.log('sending', m);\n",
       "        comm.send(m);\n",
       "    };\n",
       "    // Register the callback with on_msg.\n",
       "    comm.on_msg(function(msg) {\n",
       "        //console.log('receiving', msg['content']['data'], msg);\n",
       "        // Pass the mpl event to the overriden (by mpl) onmessage function.\n",
       "        ws.onmessage(msg['content']['data'])\n",
       "    });\n",
       "    return ws;\n",
       "}\n",
       "\n",
       "mpl.mpl_figure_comm = function(comm, msg) {\n",
       "    // This is the function which gets called when the mpl process\n",
       "    // starts-up an IPython Comm through the \"matplotlib\" channel.\n",
       "\n",
       "    var id = msg.content.data.id;\n",
       "    // Get hold of the div created by the display call when the Comm\n",
       "    // socket was opened in Python.\n",
       "    var element = $(\"#\" + id);\n",
       "    var ws_proxy = comm_websocket_adapter(comm)\n",
       "\n",
       "    function ondownload(figure, format) {\n",
       "        window.open(figure.imageObj.src);\n",
       "    }\n",
       "\n",
       "    var fig = new mpl.figure(id, ws_proxy,\n",
       "                           ondownload,\n",
       "                           element.get(0));\n",
       "\n",
       "    // Call onopen now - mpl needs it, as it is assuming we've passed it a real\n",
       "    // web socket which is closed, not our websocket->open comm proxy.\n",
       "    ws_proxy.onopen();\n",
       "\n",
       "    fig.parent_element = element.get(0);\n",
       "    fig.cell_info = mpl.find_output_cell(\"<div id='\" + id + \"'></div>\");\n",
       "    if (!fig.cell_info) {\n",
       "        console.error(\"Failed to find cell for figure\", id, fig);\n",
       "        return;\n",
       "    }\n",
       "\n",
       "    var output_index = fig.cell_info[2]\n",
       "    var cell = fig.cell_info[0];\n",
       "\n",
       "};\n",
       "\n",
       "mpl.figure.prototype.handle_close = function(fig, msg) {\n",
       "    var width = fig.canvas.width/mpl.ratio\n",
       "    fig.root.unbind('remove')\n",
       "\n",
       "    // Update the output cell to use the data from the current canvas.\n",
       "    fig.push_to_output();\n",
       "    var dataURL = fig.canvas.toDataURL();\n",
       "    // Re-enable the keyboard manager in IPython - without this line, in FF,\n",
       "    // the notebook keyboard shortcuts fail.\n",
       "    IPython.keyboard_manager.enable()\n",
       "    $(fig.parent_element).html('<img src=\"' + dataURL + '\" width=\"' + width + '\">');\n",
       "    fig.close_ws(fig, msg);\n",
       "}\n",
       "\n",
       "mpl.figure.prototype.close_ws = function(fig, msg){\n",
       "    fig.send_message('closing', msg);\n",
       "    // fig.ws.close()\n",
       "}\n",
       "\n",
       "mpl.figure.prototype.push_to_output = function(remove_interactive) {\n",
       "    // Turn the data on the canvas into data in the output cell.\n",
       "    var width = this.canvas.width/mpl.ratio\n",
       "    var dataURL = this.canvas.toDataURL();\n",
       "    this.cell_info[1]['text/html'] = '<img src=\"' + dataURL + '\" width=\"' + width + '\">';\n",
       "}\n",
       "\n",
       "mpl.figure.prototype.updated_canvas_event = function() {\n",
       "    // Tell IPython that the notebook contents must change.\n",
       "    IPython.notebook.set_dirty(true);\n",
       "    this.send_message(\"ack\", {});\n",
       "    var fig = this;\n",
       "    // Wait a second, then push the new image to the DOM so\n",
       "    // that it is saved nicely (might be nice to debounce this).\n",
       "    setTimeout(function () { fig.push_to_output() }, 1000);\n",
       "}\n",
       "\n",
       "mpl.figure.prototype._init_toolbar = function() {\n",
       "    var fig = this;\n",
       "\n",
       "    var nav_element = $('<div/>')\n",
       "    nav_element.attr('style', 'width: 100%');\n",
       "    this.root.append(nav_element);\n",
       "\n",
       "    // Define a callback function for later on.\n",
       "    function toolbar_event(event) {\n",
       "        return fig.toolbar_button_onclick(event['data']);\n",
       "    }\n",
       "    function toolbar_mouse_event(event) {\n",
       "        return fig.toolbar_button_onmouseover(event['data']);\n",
       "    }\n",
       "\n",
       "    for(var toolbar_ind in mpl.toolbar_items){\n",
       "        var name = mpl.toolbar_items[toolbar_ind][0];\n",
       "        var tooltip = mpl.toolbar_items[toolbar_ind][1];\n",
       "        var image = mpl.toolbar_items[toolbar_ind][2];\n",
       "        var method_name = mpl.toolbar_items[toolbar_ind][3];\n",
       "\n",
       "        if (!name) { continue; };\n",
       "\n",
       "        var button = $('<button class=\"btn btn-default\" href=\"#\" title=\"' + name + '\"><i class=\"fa ' + image + ' fa-lg\"></i></button>');\n",
       "        button.click(method_name, toolbar_event);\n",
       "        button.mouseover(tooltip, toolbar_mouse_event);\n",
       "        nav_element.append(button);\n",
       "    }\n",
       "\n",
       "    // Add the status bar.\n",
       "    var status_bar = $('<span class=\"mpl-message\" style=\"text-align:right; float: right;\"/>');\n",
       "    nav_element.append(status_bar);\n",
       "    this.message = status_bar[0];\n",
       "\n",
       "    // Add the close button to the window.\n",
       "    var buttongrp = $('<div class=\"btn-group inline pull-right\"></div>');\n",
       "    var button = $('<button class=\"btn btn-mini btn-primary\" href=\"#\" title=\"Stop Interaction\"><i class=\"fa fa-power-off icon-remove icon-large\"></i></button>');\n",
       "    button.click(function (evt) { fig.handle_close(fig, {}); } );\n",
       "    button.mouseover('Stop Interaction', toolbar_mouse_event);\n",
       "    buttongrp.append(button);\n",
       "    var titlebar = this.root.find($('.ui-dialog-titlebar'));\n",
       "    titlebar.prepend(buttongrp);\n",
       "}\n",
       "\n",
       "mpl.figure.prototype._root_extra_style = function(el){\n",
       "    var fig = this\n",
       "    el.on(\"remove\", function(){\n",
       "\tfig.close_ws(fig, {});\n",
       "    });\n",
       "}\n",
       "\n",
       "mpl.figure.prototype._canvas_extra_style = function(el){\n",
       "    // this is important to make the div 'focusable\n",
       "    el.attr('tabindex', 0)\n",
       "    // reach out to IPython and tell the keyboard manager to turn it's self\n",
       "    // off when our div gets focus\n",
       "\n",
       "    // location in version 3\n",
       "    if (IPython.notebook.keyboard_manager) {\n",
       "        IPython.notebook.keyboard_manager.register_events(el);\n",
       "    }\n",
       "    else {\n",
       "        // location in version 2\n",
       "        IPython.keyboard_manager.register_events(el);\n",
       "    }\n",
       "\n",
       "}\n",
       "\n",
       "mpl.figure.prototype._key_event_extra = function(event, name) {\n",
       "    var manager = IPython.notebook.keyboard_manager;\n",
       "    if (!manager)\n",
       "        manager = IPython.keyboard_manager;\n",
       "\n",
       "    // Check for shift+enter\n",
       "    if (event.shiftKey && event.which == 13) {\n",
       "        this.canvas_div.blur();\n",
       "        // select the cell after this one\n",
       "        var index = IPython.notebook.find_cell_index(this.cell_info[0]);\n",
       "        IPython.notebook.select(index + 1);\n",
       "    }\n",
       "}\n",
       "\n",
       "mpl.figure.prototype.handle_save = function(fig, msg) {\n",
       "    fig.ondownload(fig, null);\n",
       "}\n",
       "\n",
       "\n",
       "mpl.find_output_cell = function(html_output) {\n",
       "    // Return the cell and output element which can be found *uniquely* in the notebook.\n",
       "    // Note - this is a bit hacky, but it is done because the \"notebook_saving.Notebook\"\n",
       "    // IPython event is triggered only after the cells have been serialised, which for\n",
       "    // our purposes (turning an active figure into a static one), is too late.\n",
       "    var cells = IPython.notebook.get_cells();\n",
       "    var ncells = cells.length;\n",
       "    for (var i=0; i<ncells; i++) {\n",
       "        var cell = cells[i];\n",
       "        if (cell.cell_type === 'code'){\n",
       "            for (var j=0; j<cell.output_area.outputs.length; j++) {\n",
       "                var data = cell.output_area.outputs[j];\n",
       "                if (data.data) {\n",
       "                    // IPython >= 3 moved mimebundle to data attribute of output\n",
       "                    data = data.data;\n",
       "                }\n",
       "                if (data['text/html'] == html_output) {\n",
       "                    return [cell, data, j];\n",
       "                }\n",
       "            }\n",
       "        }\n",
       "    }\n",
       "}\n",
       "\n",
       "// Register the function which deals with the matplotlib target/channel.\n",
       "// The kernel may be null if the page has been refreshed.\n",
       "if (IPython.notebook.kernel != null) {\n",
       "    IPython.notebook.kernel.comm_manager.register_target('matplotlib', mpl.mpl_figure_comm);\n",
       "}\n"
      ],
      "text/plain": [
       "<IPython.core.display.Javascript object>"
      ]
     },
     "metadata": {},
     "output_type": "display_data"
    },
    {
     "data": {
      "text/html": [
       "<img src=\"data:image/png;base64,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\" width=\"640\">"
      ],
      "text/plain": [
       "<IPython.core.display.HTML object>"
      ]
     },
     "metadata": {},
     "output_type": "display_data"
    },
    {
     "data": {
      "text/plain": [
       "[<matplotlib.lines.Line2D at 0x918f1d0>]"
      ]
     },
     "execution_count": 22,
     "metadata": {},
     "output_type": "execute_result"
    }
   ],
   "source": [
    "%matplotlib notebook\n",
    "\n",
    "plt.plot(ps.traces[0]._view['trace'])\n",
    "# ps.traces[2]._view['trace'][-20:]"
   ]
  },
  {
   "cell_type": "code",
   "execution_count": 21,
   "metadata": {
    "collapsed": false
   },
   "outputs": [
    {
     "data": {
      "text/plain": [
       "[<tes.data.Trace at 0x7ed1048>, <tes.data.Trace at 0x7ed1940>]"
      ]
     },
     "execution_count": 21,
     "metadata": {},
     "output_type": "execute_result"
    }
   ],
   "source": [
    "ps.traces"
   ]
  },
  {
   "cell_type": "code",
   "execution_count": null,
   "metadata": {
    "collapsed": false,
    "run_control": {
     "frozen": false,
     "read_only": false
    },
    "scrolled": true
   },
   "outputs": [],
   "source": [
    "traces=Data.fromfile('traces',trace_dt,'teslib','measurement_subsystem_TB',tool='vivado')\n",
    "stream=Data.fromfile('bytestream',stream_dt,'teslib','measurement_subsystem_TB',tool='vivado')\n",
    "bs=PacketStream(stream)\n",
    "dists=bs.distributions\n",
    "#bs.packets\n",
    "dists"
   ]
  },
  {
   "cell_type": "code",
   "execution_count": null,
   "metadata": {
    "collapsed": false
   },
   "outputs": [],
   "source": [
    "d=dists[0]\n",
    "d.counts[-1]"
   ]
  },
  {
   "cell_type": "code",
   "execution_count": null,
   "metadata": {
    "collapsed": false
   },
   "outputs": [],
   "source": [
    "d.total+d.underflow+d.overflow"
   ]
  },
  {
   "cell_type": "code",
   "execution_count": null,
   "metadata": {
    "collapsed": false
   },
   "outputs": [],
   "source": [
    "%matplotlib notebook\n",
    "plt.plot(d.bins)"
   ]
  },
  {
   "cell_type": "code",
   "execution_count": null,
   "metadata": {
    "collapsed": false,
    "scrolled": false
   },
   "outputs": [],
   "source": [
    "f=EventFlags(es[2][2]['flags'])\n",
    "f.channel"
   ]
  },
  {
   "cell_type": "code",
   "execution_count": null,
   "metadata": {
    "collapsed": false,
    "run_control": {
     "frozen": false,
     "read_only": false
    },
    "scrolled": true
   },
   "outputs": [],
   "source": [
    "import tes.mca as mca\n",
    "d=bs.distributions[0]\n",
    "eset=np.uint64(1)\n",
    "bset=np.uint64(0)\n",
    "cset=np.uint64(20)\n",
    "\n",
    "stop=d.stop_time+eset+cset\n",
    "start=d.start_time+bset+cset\n",
    "bins=np.zeros((d.last_bin+1,),dtype=np.uint32)\n",
    "\n",
    "if d.value==mca.Value.raw_signal:\n",
    "    tname='raw'\n",
    "elif d.value==mca.Value.filtered_signal:\n",
    "    tname='filtered'\n",
    "elif d.value==mca.Value.slope_signal:\n",
    "    tname='slope'\n",
    "\n",
    "for i in range(start,stop):\n",
    "    s = traces[tname][i]\n",
    "    if s < d.lowest_value:\n",
    "        bins[0] += 1\n",
    "    else:\n",
    "        bin_number = s - d.lowest_value + 1\n",
    "        if bin_number < d.last_bin:\n",
    "            bins[bin_number] += 1\n",
    "        else:\n",
    "            bins[d.last_bin] += 1\n",
    "        \n",
    "bad=(bins-d.counts).nonzero()\n",
    "bad"
   ]
  },
  {
   "cell_type": "code",
   "execution_count": null,
   "metadata": {
    "collapsed": false
   },
   "outputs": [],
   "source": [
    "d.counts[bad][1:10]"
   ]
  },
  {
   "cell_type": "code",
   "execution_count": null,
   "metadata": {
    "collapsed": false
   },
   "outputs": [],
   "source": [
    "bins[bad][1:10]"
   ]
  },
  {
   "cell_type": "code",
   "execution_count": null,
   "metadata": {
    "collapsed": false
   },
   "outputs": [],
   "source": [
    "d.value"
   ]
  },
  {
   "cell_type": "code",
   "execution_count": null,
   "metadata": {
    "collapsed": false,
    "scrolled": false
   },
   "outputs": [],
   "source": [
    "%matplotlib notebook\n",
    "plt.step(np.arange(len(d.bins)),d.bins)\n",
    "# plt.step(np.arange(len(d.counts)),bins)\n",
    "plt.plot(bad,np.zeros_like(bad),'.k')"
   ]
  },
  {
   "cell_type": "code",
   "execution_count": null,
   "metadata": {
    "collapsed": false
   },
   "outputs": [],
   "source": [
    "sum(d.counts)"
   ]
  },
  {
   "cell_type": "code",
   "execution_count": null,
   "metadata": {
    "collapsed": false
   },
   "outputs": [],
   "source": [
    "2**14+2000"
   ]
  },
  {
   "cell_type": "code",
   "execution_count": null,
   "metadata": {
    "collapsed": false,
    "run_control": {
     "frozen": false,
     "read_only": false
    }
   },
   "outputs": [],
   "source": [
    "def plot_event(event_tupple):\n",
    "    pre=200\n",
    "    post=1000\n",
    "    timestamp=event_tupple[0]\n",
    "    event_type=event_tupple[1]\n",
    "    event=event_tupple[2]\n",
    "    flags=EventFlags(event['flags'])\n",
    "    print(flags)\n",
    "    print('timestamp',timestamp, 'time', event['time'])\n",
    "    if flags.type == Event.tick:\n",
    "        return\n",
    "    s=traces['filtered'][timestamp+20-pre:timestamp+20+post]\n",
    "    r=traces['raw'][timestamp+20-pre:timestamp+20+post]\n",
    "    i = np.where(abs(minmax['clk'])<=timestamp+20)[0][-1]\n",
    "    min_t=abs(minmax['clk'][i])-(timestamp+20)\n",
    "#     print(minmax['clk'][i],min_t,i,timestamp)\n",
    "    plt.plot(r,'k',linewidth=0.5)\n",
    "    plt.plot(s,'b',linewidth=2)\n",
    "    plt.plot([pre],s[pre],'sg')\n",
    "    plt.plot([pre+min_t],minmax['filtered'][i],'sr')\n",
    "    if event_type==Event.pulse:\n",
    "        for i in range(flags.peak_number):\n",
    "            p=event['peaks'][i]\n",
    "            plt.plot([0,len(s)-1],[p['height'],p['height']],':r')\n",
    "    else:\n",
    "      plt.plot([0,len(s)-1],[event['height'],event['height']],':r')\n",
    "        \n",
    "    #print(event['height'],event['minima'])\n",
    "    #print(minmax['filtered'][i]==s[pre+min_t])\n",
    "    #print(minmax['filtered'][i]==event['minima'])\n",
    "    #print(s[pre],s[pre-1])"
   ]
  },
  {
   "cell_type": "code",
   "execution_count": null,
   "metadata": {
    "collapsed": false,
    "run_control": {
     "frozen": false,
     "read_only": false
    }
   },
   "outputs": [],
   "source": [
    "pwd"
   ]
  },
  {
   "cell_type": "code",
   "execution_count": null,
   "metadata": {
    "collapsed": false
   },
   "outputs": [],
   "source": [
    "es=bs.eventstream\n",
    "es"
   ]
  },
  {
   "cell_type": "code",
   "execution_count": null,
   "metadata": {
    "collapsed": false,
    "run_control": {
     "frozen": false,
     "read_only": false
    }
   },
   "outputs": [],
   "source": [
    "%matplotlib notebook\n",
    "for e in es:\n",
    "    if e[1]==Event.peak:\n",
    "        plot_event(e)"
   ]
  },
  {
   "cell_type": "code",
   "execution_count": null,
   "metadata": {
    "collapsed": false,
    "run_control": {
     "frozen": false,
     "read_only": false
    }
   },
   "outputs": [],
   "source": [
    "es"
   ]
  },
  {
   "cell_type": "code",
   "execution_count": null,
   "metadata": {
    "collapsed": false,
    "run_control": {
     "frozen": false,
     "read_only": false
    }
   },
   "outputs": [],
   "source": [
    "dists=bs.distributions\n",
    "dists"
   ]
  },
  {
   "cell_type": "code",
   "execution_count": null,
   "metadata": {
    "collapsed": false,
    "run_control": {
     "frozen": false,
     "read_only": false
    }
   },
   "outputs": [],
   "source": [
    "bs.packets[185].payload"
   ]
  },
  {
   "cell_type": "code",
   "execution_count": null,
   "metadata": {
    "collapsed": false,
    "run_control": {
     "frozen": false,
     "read_only": false
    }
   },
   "outputs": [],
   "source": [
    "d=bs.distributions[0]\n",
    "eset=np.uint64(1)\n",
    "bset=np.uint64(0)\n",
    "cset=np.uint64(20)\n",
    "\n",
    "stop=d.stop_time+eset+cset\n",
    "start=d.start_time+bset+cset\n",
    "bins=np.zeros((d.last_bin+1,),dtype=np.uint32)\n",
    "for i in range(start,stop):\n",
    "    s = traces['raw'][i]\n",
    "    if s <= d.lowest_value:\n",
    "        bins[0] += 1\n",
    "    else:\n",
    "        bins[s-d.lowest_value] += 1\n",
    "        \n",
    "(bins-d.counts).nonzero()"
   ]
  },
  {
   "cell_type": "code",
   "execution_count": null,
   "metadata": {
    "collapsed": false,
    "run_control": {
     "frozen": false,
     "read_only": false
    }
   },
   "outputs": [],
   "source": [
    "%matplotlib notebook\n",
    "plt.step(np.arange(len(d.counts)),d.counts)"
   ]
  },
  {
   "cell_type": "code",
   "execution_count": null,
   "metadata": {
    "collapsed": false,
    "run_control": {
     "frozen": false,
     "read_only": false
    }
   },
   "outputs": [],
   "source": [
    "bins[bins.nonzero()]"
   ]
  },
  {
   "cell_type": "code",
   "execution_count": null,
   "metadata": {
    "collapsed": false,
    "run_control": {
     "frozen": false,
     "read_only": false
    }
   },
   "outputs": [],
   "source": [
    "sum(d.counts)"
   ]
  },
  {
   "cell_type": "code",
   "execution_count": null,
   "metadata": {
    "collapsed": false,
    "run_control": {
     "frozen": false,
     "read_only": false
    }
   },
   "outputs": [],
   "source": [
    "2**14+2000"
   ]
  },
  {
   "cell_type": "code",
   "execution_count": null,
   "metadata": {
    "collapsed": false,
    "run_control": {
     "frozen": false,
     "read_only": false
    }
   },
   "outputs": [],
   "source": [
    "es[3][2]['timestamp']-es[0][2]['timestamp']"
   ]
  },
  {
   "cell_type": "code",
   "execution_count": null,
   "metadata": {
    "collapsed": true,
    "run_control": {
     "frozen": false,
     "read_only": false
    }
   },
   "outputs": [],
   "source": [
    "def xings(s, thresh):\n",
    "    pos=s > thresh\n",
    "    neg=s < thresh\n",
    "    pos0=s >= thresh\n",
    "    neg0=s <= thresh\n",
    "    pos_xing_mask = np.bitwise_and(pos0[1:],neg[0:-1])  \n",
    "    neg_xing_mask = np.bitwise_and(neg0[1:],pos[0:-1])  \n",
    "    return pos_xing_mask.nonzero()[0]+1, neg_xing_mask.nonzero()[0]+1"
   ]
  },
  {
   "cell_type": "code",
   "execution_count": null,
   "metadata": {
    "collapsed": true,
    "run_control": {
     "frozen": false,
     "read_only": false
    }
   },
   "outputs": [],
   "source": [
    "from mpl_toolkits.axes_grid1 import host_subplot\n",
    "\n",
    "def plot_trace(traces,start,width):\n",
    "\n",
    "    ax = host_subplot(111)\n",
    "    axr = ax.twinx()\n",
    "    axt = ax.twiny()\n",
    "#ax.plot(t[0:-1:10],s[0:-1:10],'k')\n",
    "#ax.plot(t,s,'k')\n",
    "    axt.set_xlabel('Time ns',fontsize=18)\n",
    "    ax.set_ylabel('Voltage (Arbitary Units)',fontsize=18)\n",
    "#plt.xticks(visible=False)\n",
    "#plt.yticks(visible=False)\n",
    "#ax.set_xlim(0,t[4000000])\n",
    "#start=902000\n",
    "#width=2500\n",
    "    f=traces['filtered'][start:start+width]\n",
    "    s=traces['slope'][start:start+width]\n",
    "    t=np.arange(len(f))*4e-9\n",
    "#ts=t[pstart:pstop]\n",
    "#axins = fig.add_axes([.4, .45, .45, .4])\n",
    "    ax.set_xlim(t[0],t[-1])\n",
    "    axt.set_xlim(t[0],t[-1])\n",
    "\n",
    "    ylim=(-500,2000)\n",
    "\n",
    "    ax.set_ylim(ylim[0],ylim[1])\n",
    "    axr.set_ylim(ylim[0],ylim[1])\n",
    "\n",
    "    filtered, = ax.step(t,f,'k',lw=2,label='filtered')\n",
    "    slope, = ax.step(t,s,'b',label='slope')\n",
    "    ax.fill_between(t,0,s,alpha=.4)\n",
    "    plt.ylim=ylim\n",
    "\n",
    "pos=s>0\n",
    "neg=s<=0\n",
    "pos_xing_mask = np.bitwise_and(pos[1:-1],neg[0:-2])  \n",
    "neg_xing_mask = np.bitwise_and(neg[1:-1],pos[0:-2])  \n",
    "pos_xing=pos_xing_mask.nonzero()\n",
    "neg_xing=neg_xing_mask.nonzero()\n",
    "\n",
    "rx=[t[pos_xing[0][0]], t[neg_xing[0][0]]]\n",
    "ry=[f[pos_xing[0][0]], f[neg_xing[0][0]]]\n",
    "\n",
    "ax.fill_between(t[pos_xing[0][0]:neg_xing[0][0]],0,s[pos_xing[0][0]:neg_xing[0][0]],alpha=.4,color='r')\n",
    "\n",
    "#plt.plot(rx,[ry[0], ry[0]],'-r',lw=2)\n",
    "#plt.plot([rx[1],rx[1]], ry,'-r',lw=2)\n",
    "# thresholds\n",
    "sthresh = 600\n",
    "pthresh = 1000\n",
    "plt.plot([t[0], t[-1]], [sthresh, sthresh], '--b', lw=2)\n",
    "plt.plot([t[0], t[-1]], [pthresh, pthresh], '--k', lw=2)\n",
    "\n",
    "sthresh_xing=(s>sthresh).nonzero()[0][0]\n",
    "pthresh_xing=(f>pthresh).nonzero()[0][0]\n",
    "\n",
    "\n",
    "cf=.10\n",
    "height = ry[1]-ry[0]\n",
    "cfl=ry[0]+(height*cf)\n",
    "cfh=ry[1]-(height*cf)\n",
    "\n",
    "cfl_xing=(f>cfl).nonzero()[0][0]\n",
    "cfd_low=f[cfl_xing]\n",
    "cfh_xing=(f>cfh).nonzero()[0][0]\n",
    "cfd_high=f[cfh_xing]\n",
    "\n",
    "#plt.plot([t[cfl_xing], t[-1]],[cfd_low, cfd_low], ':r')\n",
    "#plt.plot([t[cfh_xing], t[-1]],[cfd_high, cfd_high], ':r')\n",
    "#plt.plot([x[1], t[-1]],[y[1], y[1]], ':r')\n",
    "plt.legend([filtered, slope],['Signal', 'Slope'],loc=2)\n",
    "\n",
    "#axr = ax.twinx()\n",
    "##################################################################\n",
    "#yticks=([ry[0],sthresh,pthresh,cfd_high,ry[1]])\n",
    "yticks=([sthresh,pthresh])\n",
    "axr.set_yticks(yticks)\n",
    "#yticklabels=['Start','Slope threshold','Pulse threshold','CF high','Peak']\n",
    "yticklabels=['Slope threshold','Pulse threshold']\n",
    "axr.set_yticklabels(yticklabels, color='r',fontsize=14)\n",
    "axr.get_yticklabels()[0].set_color('b')\n",
    "axr.get_yticklabels()[1].set_color('k')\n",
    "\n",
    "#xticks=([rx[0],t[cfl_xing],t[sthresh_xing],t[pthresh_xing],rx[1]])\n",
    "xticks=(t[cfl_xing],rx[1])\n",
    "#ax.set_xticks([rx[0],t[cfl_xing],t[sthresh_xing],t[pthresh_xing],rx[1]])\n",
    "ax.set_xticks(xticks)\n",
    "#xticklabels=['Start','CF low','Slope xing','Signal xing','Peak']\n",
    "xticklabels=['CF low','Peak']\n",
    "ax.set_xticklabels(xticklabels, color='r',fontsize=14)\n",
    "\n",
    "#plt.plot([t[cfh_xing], t[-1]],[cfd_high, cfd_high], ':r')\n",
    "#horoz start, stop lines\n",
    "#hpeak=ax.plot([xticks[1], t[-1]],[yticks[-1], yticks[-1]], '-.r')\n",
    "#hstart=ax.plot([xticks[0], t[-1]],[yticks[0], yticks[0]], '-.r')\n",
    "#vert start stop\n",
    "vstart=ax.plot([xticks[0], xticks[0]],[cfd_low, ylim[0]], '-.r')\n",
    "vpeak=ax.plot([xticks[1], xticks[1]],[ylim[0], ry[1]], '-.r')\n",
    "\n",
    "plt.tight_layout()\n",
    "plt.savefig('..//peakextraction7.svg')\n",
    "plt.show()\n",
    "print('risetime:',(xticks[1]-xticks[0])/4)\n",
    "print('height:',yticks[-1]-yticks[0])\n",
    "print('time:',(xticks[0]-rx[0])/4)\n",
    "print('area',sum(s[pos_xing[0][0]:neg_xing[0][0]])/256)\n"
   ]
  },
  {
   "cell_type": "code",
   "execution_count": null,
   "metadata": {
    "collapsed": true,
    "run_control": {
     "frozen": false,
     "read_only": false
    }
   },
   "outputs": [],
   "source": [
    "slope_0xings = xings(traces['slope'],0)"
   ]
  },
  {
   "cell_type": "code",
   "execution_count": null,
   "metadata": {
    "collapsed": false,
    "run_control": {
     "frozen": false,
     "read_only": false
    }
   },
   "outputs": [],
   "source": [
    "slope_0xings"
   ]
  },
  {
   "cell_type": "code",
   "execution_count": null,
   "metadata": {
    "collapsed": false,
    "run_control": {
     "frozen": false,
     "read_only": false
    }
   },
   "outputs": [],
   "source": [
    "%matplotlib notebook\n",
    "start=10000\n",
    "width=300\n",
    "plt.plot(traces['filtered'][start:start+width]/2)"
   ]
  },
  {
   "cell_type": "code",
   "execution_count": null,
   "metadata": {
    "collapsed": false,
    "run_control": {
     "frozen": false,
     "read_only": false
    }
   },
   "outputs": [],
   "source": [
    "%matplotlib notebook\n",
    "plt.plot(traces['slope'][20400:21700])"
   ]
  },
  {
   "cell_type": "code",
   "execution_count": null,
   "metadata": {
    "collapsed": false,
    "run_control": {
     "frozen": false,
     "read_only": false
    }
   },
   "outputs": [],
   "source": [
    "filtered=traces['filtered'][1100:]\n",
    "filteredL=traces['filteredL'][1100:]"
   ]
  },
  {
   "cell_type": "code",
   "execution_count": null,
   "metadata": {
    "collapsed": false,
    "run_control": {
     "frozen": false,
     "read_only": false
    }
   },
   "outputs": [],
   "source": [
    "filtered[:10]"
   ]
  },
  {
   "cell_type": "code",
   "execution_count": null,
   "metadata": {
    "collapsed": false,
    "run_control": {
     "frozen": false,
     "read_only": false
    }
   },
   "outputs": [],
   "source": [
    "filteredL[:10]/4"
   ]
  },
  {
   "cell_type": "code",
   "execution_count": null,
   "metadata": {
    "collapsed": false,
    "run_control": {
     "frozen": false,
     "read_only": false
    }
   },
   "outputs": [],
   "source": [
    "minmax_dt=np.dtype([('filtered','i4'),('low','i4'),('high','i4'),('clk','i4')])\n",
    "minmax=Data.fromfile('minmax',minmax_dt,'teslib','measurement_subsystem_TB',tool='vivado')\n",
    "fxing_dt=np.dtype([('extrema','i4'),('area','i4'),('clk','i4')])\n",
    "fxing=Data.fromfile('filteredxing',fxing_dt,'teslib','measurement_subsystem_TB',tool='vivado')"
   ]
  },
  {
   "cell_type": "code",
   "execution_count": null,
   "metadata": {
    "collapsed": false,
    "run_control": {
     "frozen": false,
     "read_only": false
    }
   },
   "outputs": [],
   "source": [
    "minmax"
   ]
  },
  {
   "cell_type": "code",
   "execution_count": null,
   "metadata": {
    "collapsed": false,
    "run_control": {
     "frozen": false,
     "read_only": false
    }
   },
   "outputs": [],
   "source": [
    "fxing"
   ]
  },
  {
   "cell_type": "code",
   "execution_count": null,
   "metadata": {
    "collapsed": false,
    "run_control": {
     "frozen": false,
     "read_only": false
    }
   },
   "outputs": [],
   "source": [
    "np.where(fxing['area']==0)"
   ]
  },
  {
   "cell_type": "code",
   "execution_count": null,
   "metadata": {
    "collapsed": false,
    "run_control": {
     "frozen": false,
     "read_only": false
    }
   },
   "outputs": [],
   "source": [
    "np.where(fxing['extrema']==0)"
   ]
  },
  {
   "cell_type": "code",
   "execution_count": null,
   "metadata": {
    "collapsed": false,
    "run_control": {
     "frozen": false,
     "read_only": false
    }
   },
   "outputs": [],
   "source": [
    "fxing[30]"
   ]
  },
  {
   "cell_type": "code",
   "execution_count": null,
   "metadata": {
    "collapsed": false,
    "run_control": {
     "frozen": false,
     "read_only": false
    }
   },
   "outputs": [],
   "source": [
    "exn=np.where(fxing['extrema']<0)\n",
    "clkn=np.where(fxing['clk']>0)"
   ]
  },
  {
   "cell_type": "code",
   "execution_count": null,
   "metadata": {
    "collapsed": true,
    "run_control": {
     "frozen": false,
     "read_only": false
    }
   },
   "outputs": [],
   "source": []
  },
  {
   "cell_type": "code",
   "execution_count": null,
   "metadata": {
    "collapsed": false,
    "run_control": {
     "frozen": false,
     "read_only": false
    }
   },
   "outputs": [],
   "source": [
    "fxing[374]"
   ]
  },
  {
   "cell_type": "code",
   "execution_count": null,
   "metadata": {
    "collapsed": false,
    "run_control": {
     "frozen": false,
     "read_only": false
    }
   },
   "outputs": [],
   "source": [
    "clkn"
   ]
  },
  {
   "cell_type": "code",
   "execution_count": null,
   "metadata": {
    "collapsed": false,
    "run_control": {
     "frozen": false,
     "read_only": false
    }
   },
   "outputs": [],
   "source": [
    "np.where(minmax[maxs[0]-1]['min']!=1)"
   ]
  },
  {
   "cell_type": "code",
   "execution_count": null,
   "metadata": {
    "collapsed": false,
    "run_control": {
     "frozen": false,
     "read_only": false
    }
   },
   "outputs": [],
   "source": [
    "minmax[maxs[0]-1][65]"
   ]
  },
  {
   "cell_type": "code",
   "execution_count": null,
   "metadata": {
    "collapsed": false,
    "run_control": {
     "frozen": false,
     "read_only": false
    }
   },
   "outputs": [],
   "source": [
    "2290-925"
   ]
  },
  {
   "cell_type": "code",
   "execution_count": null,
   "metadata": {
    "collapsed": false,
    "run_control": {
     "frozen": false,
     "read_only": false
    }
   },
   "outputs": [],
   "source": [
    "0.375*4"
   ]
  },
  {
   "cell_type": "code",
   "execution_count": null,
   "metadata": {
    "collapsed": false,
    "run_control": {
     "frozen": false,
     "read_only": false
    }
   },
   "outputs": [],
   "source": [
    "np.where(minmax['clock']==2290)"
   ]
  },
  {
   "cell_type": "code",
   "execution_count": null,
   "metadata": {
    "collapsed": false,
    "run_control": {
     "frozen": false,
     "read_only": false
    }
   },
   "outputs": [],
   "source": [
    "minmax[120:140]"
   ]
  },
  {
   "cell_type": "code",
   "execution_count": null,
   "metadata": {
    "collapsed": false,
    "run_control": {
     "frozen": false,
     "read_only": false
    }
   },
   "outputs": [],
   "source": [
    "stream_dt=np.dtype([('data','>i4'),('last','i4')])\n",
    "#stream=np.fromfile('data/stream',stream_dt)"
   ]
  },
  {
   "cell_type": "markdown",
   "metadata": {},
   "source": [
    "### bytestream stuff"
   ]
  },
  {
   "cell_type": "code",
   "execution_count": null,
   "metadata": {
    "collapsed": false,
    "run_control": {
     "frozen": false,
     "read_only": false
    }
   },
   "outputs": [],
   "source": [
    "stream_dt=np.dtype([('data','i4'),('last','i4')])\n",
    "stream=Data.fromfile('bytestream',stream_dt,'teslib','measurement_subsystem_TB',tool='vivado')\n",
    "lasts=np.where(stream['last']<=0)[0]+1\n",
    "#data=np.copy(stream['data'])"
   ]
  },
  {
   "cell_type": "code",
   "execution_count": null,
   "metadata": {
    "collapsed": false,
    "run_control": {
     "frozen": false,
     "read_only": false
    }
   },
   "outputs": [],
   "source": [
    "stream"
   ]
  },
  {
   "cell_type": "code",
   "execution_count": null,
   "metadata": {
    "collapsed": true,
    "run_control": {
     "frozen": false,
     "read_only": false
    }
   },
   "outputs": [],
   "source": []
  },
  {
   "cell_type": "code",
   "execution_count": null,
   "metadata": {
    "collapsed": true,
    "run_control": {
     "frozen": false,
     "read_only": false
    }
   },
   "outputs": [],
   "source": [
    "stream=np.fromfile('data/bytestream',stream_dt)"
   ]
  },
  {
   "cell_type": "code",
   "execution_count": null,
   "metadata": {
    "collapsed": false,
    "run_control": {
     "frozen": false,
     "read_only": false
    }
   },
   "outputs": [],
   "source": [
    "bs=PacketStream(stream)"
   ]
  },
  {
   "cell_type": "code",
   "execution_count": null,
   "metadata": {
    "collapsed": false,
    "run_control": {
     "frozen": false,
     "read_only": false
    }
   },
   "outputs": [],
   "source": [
    "bs.packets"
   ]
  },
  {
   "cell_type": "code",
   "execution_count": null,
   "metadata": {
    "collapsed": false,
    "run_control": {
     "frozen": false,
     "read_only": false
    }
   },
   "outputs": [],
   "source": [
    "bs.packets[4]"
   ]
  },
  {
   "cell_type": "code",
   "execution_count": null,
   "metadata": {
    "collapsed": true,
    "run_control": {
     "frozen": false,
     "read_only": false
    }
   },
   "outputs": [],
   "source": [
    "eheader_dt=[('etype','<u2'),('length','u2'),()]"
   ]
  },
  {
   "cell_type": "code",
   "execution_count": null,
   "metadata": {
    "collapsed": false,
    "run_control": {
     "frozen": false,
     "read_only": false
    }
   },
   "outputs": [],
   "source": [
    "'{:X}'.format(bs.packets[1].bytes[23])\n"
   ]
  },
  {
   "cell_type": "code",
   "execution_count": null,
   "metadata": {
    "collapsed": false,
    "run_control": {
     "frozen": false,
     "read_only": false
    }
   },
   "outputs": [],
   "source": [
    "'{:X}'.format(bs.packets[0].bytes[28:30].view(np.uint16)[0])"
   ]
  },
  {
   "cell_type": "code",
   "execution_count": null,
   "metadata": {
    "collapsed": true,
    "run_control": {
     "frozen": false,
     "read_only": false
    }
   },
   "outputs": [],
   "source": [
    "pulse_peak_dt=np.dtype([('height','i2'),('rise','i2'),('minima','u2'),('time','i2')])\n",
    "pulse_dt=np.dtype([('size','i2'),('resv','i2'),('flags','i2'),('time','u2'),\n",
    "                  ('area','i4'),('length','i2'),('offset','i2'),('peaks',(pulse_peak_dt,2))])"
   ]
  },
  {
   "cell_type": "code",
   "execution_count": null,
   "metadata": {
    "collapsed": false,
    "run_control": {
     "frozen": false,
     "read_only": false
    }
   },
   "outputs": [],
   "source": [
    "pulses=bs.packets[3].payload.view(pulse_dt)"
   ]
  },
  {
   "cell_type": "code",
   "execution_count": null,
   "metadata": {
    "collapsed": false,
    "run_control": {
     "frozen": false,
     "read_only": false
    }
   },
   "outputs": [],
   "source": [
    "pulses['peaks']"
   ]
  },
  {
   "cell_type": "code",
   "execution_count": null,
   "metadata": {
    "collapsed": false,
    "run_control": {
     "frozen": false,
     "read_only": false
    }
   },
   "outputs": [],
   "source": [
    "pulses['offset']"
   ]
  },
  {
   "cell_type": "code",
   "execution_count": null,
   "metadata": {
    "collapsed": false,
    "run_control": {
     "frozen": false,
     "read_only": false
    }
   },
   "outputs": [],
   "source": [
    "pulses['length']"
   ]
  },
  {
   "cell_type": "code",
   "execution_count": null,
   "metadata": {
    "collapsed": false,
    "run_control": {
     "frozen": false,
     "read_only": false
    }
   },
   "outputs": [],
   "source": [
    "class eflags:\n",
    "    def __init__(self,uint16):\n",
    "        self.new_window=np.bitwise_and(uint16,0x00000001)!=0\n",
    "        self.tick=np.bitwise_and(uint16,0x00000002)!=0\n",
    "        self.type=np.right_shift(np.bitwise_and(uint16,0x0000000c),2)\n",
    "        \n",
    "    def __repr__(self):\n",
    "        return 'New window:{:}\\n'.format(self.new_window) + \\\n",
    "               'Tick:{:}\\n'.format(self.tick) + \\\n",
    "               'Type:{:}\\n'.format(self.type) "
   ]
  },
  {
   "cell_type": "code",
   "execution_count": null,
   "metadata": {
    "collapsed": false,
    "run_control": {
     "frozen": false,
     "read_only": false
    }
   },
   "outputs": [],
   "source": [
    "f=eflags(pulses[0]['flags'])\n",
    "f"
   ]
  },
  {
   "cell_type": "code",
   "execution_count": null,
   "metadata": {
    "collapsed": false,
    "run_control": {
     "frozen": false,
     "read_only": false
    }
   },
   "outputs": [],
   "source": [
    "'{:X}'.format(bs.packets[3].bytes[13:14].view(np.uint16))"
   ]
  },
  {
   "cell_type": "code",
   "execution_count": null,
   "metadata": {
    "collapsed": true,
    "run_control": {
     "frozen": false,
     "read_only": false
    }
   },
   "outputs": [],
   "source": []
  },
  {
   "cell_type": "code",
   "execution_count": null,
   "metadata": {
    "collapsed": false,
    "run_control": {
     "frozen": false,
     "read_only": false
    }
   },
   "outputs": [],
   "source": [
    "'{:X}'.format(bs.packets[3].bytes[14:16].view(np.uint16)[0])"
   ]
  },
  {
   "cell_type": "code",
   "execution_count": null,
   "metadata": {
    "collapsed": false,
    "run_control": {
     "frozen": false,
     "read_only": false
    }
   },
   "outputs": [],
   "source": [
    "bs.packets[3].bytes[14:16].view(np.uint16)[0]"
   ]
  },
  {
   "cell_type": "code",
   "execution_count": null,
   "metadata": {
    "collapsed": false,
    "run_control": {
     "frozen": false,
     "read_only": false
    }
   },
   "outputs": [],
   "source": [
    "bs=np.uint8(stream['data'][:48])"
   ]
  },
  {
   "cell_type": "code",
   "execution_count": null,
   "metadata": {
    "collapsed": false,
    "run_control": {
     "frozen": false,
     "read_only": false
    }
   },
   "outputs": [],
   "source": [
    "bs"
   ]
  },
  {
   "cell_type": "code",
   "execution_count": null,
   "metadata": {
    "collapsed": false,
    "run_control": {
     "frozen": false,
     "read_only": false
    }
   },
   "outputs": [],
   "source": [
    "events=stream['data'].view(event_dt)"
   ]
  },
  {
   "cell_type": "code",
   "execution_count": null,
   "metadata": {
    "collapsed": false,
    "run_control": {
     "frozen": false,
     "read_only": false
    }
   },
   "outputs": [],
   "source": [
    "'{:X}'.format(events['flags'][0])"
   ]
  },
  {
   "cell_type": "code",
   "execution_count": null,
   "metadata": {
    "collapsed": false,
    "run_control": {
     "frozen": false,
     "read_only": false
    }
   },
   "outputs": [],
   "source": [
    "events['rise']"
   ]
  },
  {
   "cell_type": "code",
   "execution_count": null,
   "metadata": {
    "collapsed": false,
    "run_control": {
     "frozen": false,
     "read_only": false
    }
   },
   "outputs": [],
   "source": [
    "events"
   ]
  },
  {
   "cell_type": "code",
   "execution_count": null,
   "metadata": {
    "collapsed": false,
    "run_control": {
     "frozen": false,
     "read_only": false
    }
   },
   "outputs": [],
   "source": [
    "'{:04X}'.format(events['flags'][1])"
   ]
  },
  {
   "cell_type": "code",
   "execution_count": null,
   "metadata": {
    "collapsed": true,
    "run_control": {
     "frozen": false,
     "read_only": false
    }
   },
   "outputs": [],
   "source": [
    "pulse_peak_dt=np.dtype([('time','>i2'),('minima','>i2'),('rise','>u2'),('height','>i2')])\n",
    "pulse_dt=np.dtype([('time','>i2'),('flags','>i2'),('resv','>i2'),('size','>u2'),\n",
    "                  ('offset','>i2'),('length','>i2'),('area','>i4'),('peaks',(pulse_peak_dt,1))])\n",
    "data=np.copy(stream['data'])"
   ]
  },
  {
   "cell_type": "code",
   "execution_count": null,
   "metadata": {
    "collapsed": false,
    "run_control": {
     "frozen": false,
     "read_only": false
    }
   },
   "outputs": [],
   "source": [
    "pulses=data.view(pulse_dt)"
   ]
  },
  {
   "cell_type": "code",
   "execution_count": null,
   "metadata": {
    "collapsed": false,
    "run_control": {
     "frozen": false,
     "read_only": false
    }
   },
   "outputs": [],
   "source": [
    "pulses['peaks']['height']-pulses['peaks']['minima']"
   ]
  },
  {
   "cell_type": "code",
   "execution_count": null,
   "metadata": {
    "collapsed": false,
    "run_control": {
     "frozen": false,
     "read_only": false
    }
   },
   "outputs": [],
   "source": [
    "pulses['peaks']['minima']"
   ]
  },
  {
   "cell_type": "code",
   "execution_count": null,
   "metadata": {
    "collapsed": false,
    "run_control": {
     "frozen": false,
     "read_only": false
    }
   },
   "outputs": [],
   "source": [
    "peak_count=np.right_shift(np.bitwise_and(pulses['flags'],0xF000),12)\n",
    "peak_overflow=np.bitwise_and(pulses['flags'],0x0800)!=0\n",
    "channel=np.right_shift(np.bitwise_and(pulses['flags'],0x0700),8)\n",
    "timing_type=np.right_shift(np.bitwise_and(pulses['flags'],0x00C0),6)\n",
    "height_type=np.right_shift(np.bitwise_and(pulses['flags'],0x0030),4)\n",
    "event_type=np.right_shift(np.bitwise_and(pulses['flags'],0x000E),1)\n",
    "new_window=np.bitwise_and(pulses['flags'],0x0001)!=0"
   ]
  },
  {
   "cell_type": "code",
   "execution_count": null,
   "metadata": {
    "collapsed": false,
    "run_control": {
     "frozen": false,
     "read_only": false
    }
   },
   "outputs": [],
   "source": [
    "peak_overflow"
   ]
  },
  {
   "cell_type": "code",
   "execution_count": null,
   "metadata": {
    "collapsed": true,
    "run_control": {
     "frozen": false,
     "read_only": false
    }
   },
   "outputs": [],
   "source": [
    "test_dt=np.dtype(\n",
    "    [('time','i2'),('flags','i2'),('rise','u2'),('minima','i2'),('low','u8'),('high','u8')]\n",
    ")\n",
    "test=data.view(test_dt)"
   ]
  },
  {
   "cell_type": "code",
   "execution_count": null,
   "metadata": {
    "collapsed": false,
    "run_control": {
     "frozen": false,
     "read_only": false
    }
   },
   "outputs": [],
   "source": [
    "test"
   ]
  },
  {
   "cell_type": "code",
   "execution_count": null,
   "metadata": {
    "collapsed": false,
    "run_control": {
     "frozen": false,
     "read_only": false
    }
   },
   "outputs": [],
   "source": [
    "test['minima']"
   ]
  },
  {
   "cell_type": "code",
   "execution_count": null,
   "metadata": {
    "collapsed": false,
    "run_control": {
     "frozen": false,
     "read_only": false
    }
   },
   "outputs": [],
   "source": [
    "low1=np.int32(np.right_shift(np.bitwise_and(test['low'],0x03FFFF000000000),36))\n",
    "s=(np.bitwise_and(low1,0x00020000)!=0)*0xFFFC0000\n",
    "low2=np.int32(np.right_shift(np.bitwise_and(test['low'],0x000000FFFFC0000),18))\n",
    "low_threshold=np.int32(np.bitwise_and(test['low'],0x00000000003FFFF))\n",
    "high1=np.int32(np.right_shift(np.bitwise_and(test['high'],0x03FFFF000000000),36))\n",
    "high2=np.int32(np.right_shift(np.bitwise_and(test['high'],0x000000FFFFC0000),18))\n",
    "high_threshold=np.int32(np.bitwise_and(test['high'],0x00000000003FFFF))"
   ]
  },
  {
   "cell_type": "code",
   "execution_count": null,
   "metadata": {
    "collapsed": false,
    "run_control": {
     "frozen": false,
     "read_only": false
    }
   },
   "outputs": [],
   "source": [
    "np.int32(np.bitwise_or(low1,s))/8.0"
   ]
  },
  {
   "cell_type": "code",
   "execution_count": null,
   "metadata": {
    "collapsed": false,
    "run_control": {
     "frozen": false,
     "read_only": false
    }
   },
   "outputs": [],
   "source": [
    "'{:04X}'.format(low1[0])"
   ]
  },
  {
   "cell_type": "code",
   "execution_count": null,
   "metadata": {
    "collapsed": false,
    "run_control": {
     "frozen": false,
     "read_only": false
    }
   },
   "outputs": [],
   "source": [
    "high1/8.0"
   ]
  },
  {
   "cell_type": "code",
   "execution_count": null,
   "metadata": {
    "collapsed": false,
    "run_control": {
     "frozen": false,
     "read_only": false
    }
   },
   "outputs": [],
   "source": [
    "high2/8.0"
   ]
  },
  {
   "cell_type": "code",
   "execution_count": null,
   "metadata": {
    "collapsed": false,
    "run_control": {
     "frozen": false,
     "read_only": false
    }
   },
   "outputs": [],
   "source": [
    "'{:04X}'.format(high_threshold[0])"
   ]
  },
  {
   "cell_type": "code",
   "execution_count": null,
   "metadata": {
    "collapsed": false,
    "run_control": {
     "frozen": false,
     "read_only": false
    }
   },
   "outputs": [],
   "source": [
    "from enum import Enum"
   ]
  },
  {
   "cell_type": "code",
   "execution_count": null,
   "metadata": {
    "collapsed": false,
    "run_control": {
     "frozen": false,
     "read_only": false
    }
   },
   "outputs": [],
   "source": [
    "class VhdlEnum(int, Enum):\n",
    "\n",
    "    def __str__(self):\n",
    "        return self.name.replace(\"-\", \" \")\n",
    "    \n",
    "    def select(self):\n",
    "        return pow(2, self.value)\n",
    "    "
   ]
  },
  {
   "cell_type": "code",
   "execution_count": null,
   "metadata": {
    "collapsed": false,
    "run_control": {
     "frozen": false,
     "read_only": false
    }
   },
   "outputs": [],
   "source": [
    "class Test(VhdlEnum):\n",
    "    a=0\n",
    "    b=1"
   ]
  },
  {
   "cell_type": "code",
   "execution_count": null,
   "metadata": {
    "collapsed": false,
    "run_control": {
     "frozen": false,
     "read_only": false
    }
   },
   "outputs": [],
   "source": [
    "Test(0)"
   ]
  },
  {
   "cell_type": "code",
   "execution_count": null,
   "metadata": {
    "collapsed": true,
    "run_control": {
     "frozen": false,
     "read_only": false
    }
   },
   "outputs": [],
   "source": []
  }
 ],
 "metadata": {
  "anaconda-cloud": {},
  "kernelspec": {
   "display_name": "Python [conda root]",
   "language": "python",
   "name": "conda-root-py"
  },
  "language_info": {
   "codemirror_mode": {
    "name": "ipython",
    "version": 3
   },
   "file_extension": ".py",
   "mimetype": "text/x-python",
   "name": "python",
   "nbconvert_exporter": "python",
   "pygments_lexer": "ipython3",
   "version": "3.5.3"
  }
 },
 "nbformat": 4,
 "nbformat_minor": 1
}
