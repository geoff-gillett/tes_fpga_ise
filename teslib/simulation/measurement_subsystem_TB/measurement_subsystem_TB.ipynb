{
 "cells": [
  {
   "cell_type": "markdown",
   "metadata": {},
   "source": [
    "timestamp 0 => clk 20\n",
    "\n",
    "traces start at clk 1"
   ]
  },
  {
   "cell_type": "code",
   "execution_count": 1,
   "metadata": {
    "collapsed": false,
    "run_control": {
     "frozen": false,
     "read_only": false
    }
   },
   "outputs": [],
   "source": [
    "from tes.data import Data,PacketStream,Packet,Payload,EventFlags,Event\n",
    "from tes.hdf5 import _PacketData, _import\n",
    "import numpy as np\n",
    "import matplotlib.pyplot as plt\n",
    "from subprocess import Popen\n",
    "\n",
    "import logging\n",
    "import sys\n",
    "logger = logging.getLogger('tes')\n",
    "logger.setLevel(logging.DEBUG)\n",
    "handler = logging.StreamHandler(sys.stderr)\n",
    "formatter = logging.Formatter('%(name)s:%(levelname)s %(message)s')\n",
    "handler.setFormatter(formatter)\n",
    "logger.handlers = [handler]\n",
    "\n",
    "trace_dt=np.dtype([('raw','i4'),('filtered','i4'),('slope','i4'),('filteredL','i4')])\n",
    "stream_dt=np.dtype([('data','i4'),('last','i4')])\n",
    "minmax_dt=np.dtype(\n",
    "    [\n",
    "        ('filtered','i4'),('timing_threshold','i4'),\n",
    "        ('height_threshold','i4'),('slope_extrema','i4'),('slope_area','i4'),('clk','i4')\n",
    "    ]\n",
    ")\n",
    "cfd_dt=np.dtype('i4')\n",
    "filteredxing_dt=np.dtype([('extrema','i4'),('area','i4'),('clk','i4')])"
   ]
  },
  {
   "cell_type": "code",
   "execution_count": null,
   "metadata": {
    "collapsed": false,
    "run_control": {
     "frozen": false,
     "read_only": false
    },
    "scrolled": false
   },
   "outputs": [],
   "source": [
    "%matplotlib notebook\n",
    "traces=Data.fromfile('traces',trace_dt,'teslib','measurement_subsystem_TB',tool='vivado')\n",
    "plt.plot(traces['slope'][1100:],'r',linewidth=1)\n",
    "plt.plot(traces['raw'][1100:],linewidth=0.5)\n",
    "plt.plot(traces['filtered'][1100:],'k',linewidth=2)"
   ]
  },
  {
   "cell_type": "code",
   "execution_count": 61,
   "metadata": {
    "collapsed": false
   },
   "outputs": [
    {
     "name": "stderr",
     "output_type": "stream",
     "text": [
      "tes.hdf5:DEBUG PacketData: from ndarray\n",
      "tes.hdf5:INFO import:pass 1: calculating sizes for hdf5 pre-allocation\n",
      "tes.hdf5:INFO import:pass 1:found 35736 bytes in 347 frames 0 sequence errors.\n",
      "tes.hdf5:DEBUG tick frames: 216 data bytes in 9 frames\n",
      "tes.hdf5:DEBUG event frames: 28608 data bytes in 298 frames\n",
      "tes.hdf5:DEBUG MCA frames: 4136 data bytes in 40 frames\n",
      "tes.hdf5:DEBUG unidentified frames: 0 bytes in 0 frames\n",
      "tes.hdf5:DEBUG MCA distributions:1  traces:27\n",
      "tes.hdf5:INFO import:pass 2:importing data\n"
     ]
    }
   ],
   "source": [
    "import h5py\n",
    "from tes.hdf5 import Trace, Hdf5, frame_header_dt\n",
    "stream=Data.fromfile('bytestream',stream_dt,'teslib','measurement_subsystem_TB',tool='vivado')\n",
    "# packets=_PacketData(stream)\n",
    "# del stream\n",
    "# _import(packets)\n",
    "# h=h5py.File('TES.hdf5','r')\n",
    "h=Hdf5('TES.hdf5',stream)\n",
    "del stream"
   ]
  },
  {
   "cell_type": "code",
   "execution_count": 62,
   "metadata": {
    "collapsed": false
   },
   "outputs": [
    {
     "name": "stdout",
     "output_type": "stream",
     "text": [
      "2\n"
     ]
    },
    {
     "data": {
      "application/javascript": [
       "/* Put everything inside the global mpl namespace */\n",
       "window.mpl = {};\n",
       "\n",
       "\n",
       "mpl.get_websocket_type = function() {\n",
       "    if (typeof(WebSocket) !== 'undefined') {\n",
       "        return WebSocket;\n",
       "    } else if (typeof(MozWebSocket) !== 'undefined') {\n",
       "        return MozWebSocket;\n",
       "    } else {\n",
       "        alert('Your browser does not have WebSocket support.' +\n",
       "              'Please try Chrome, Safari or Firefox ≥ 6. ' +\n",
       "              'Firefox 4 and 5 are also supported but you ' +\n",
       "              'have to enable WebSockets in about:config.');\n",
       "    };\n",
       "}\n",
       "\n",
       "mpl.figure = function(figure_id, websocket, ondownload, parent_element) {\n",
       "    this.id = figure_id;\n",
       "\n",
       "    this.ws = websocket;\n",
       "\n",
       "    this.supports_binary = (this.ws.binaryType != undefined);\n",
       "\n",
       "    if (!this.supports_binary) {\n",
       "        var warnings = document.getElementById(\"mpl-warnings\");\n",
       "        if (warnings) {\n",
       "            warnings.style.display = 'block';\n",
       "            warnings.textContent = (\n",
       "                \"This browser does not support binary websocket messages. \" +\n",
       "                    \"Performance may be slow.\");\n",
       "        }\n",
       "    }\n",
       "\n",
       "    this.imageObj = new Image();\n",
       "\n",
       "    this.context = undefined;\n",
       "    this.message = undefined;\n",
       "    this.canvas = undefined;\n",
       "    this.rubberband_canvas = undefined;\n",
       "    this.rubberband_context = undefined;\n",
       "    this.format_dropdown = undefined;\n",
       "\n",
       "    this.image_mode = 'full';\n",
       "\n",
       "    this.root = $('<div/>');\n",
       "    this._root_extra_style(this.root)\n",
       "    this.root.attr('style', 'display: inline-block');\n",
       "\n",
       "    $(parent_element).append(this.root);\n",
       "\n",
       "    this._init_header(this);\n",
       "    this._init_canvas(this);\n",
       "    this._init_toolbar(this);\n",
       "\n",
       "    var fig = this;\n",
       "\n",
       "    this.waiting = false;\n",
       "\n",
       "    this.ws.onopen =  function () {\n",
       "            fig.send_message(\"supports_binary\", {value: fig.supports_binary});\n",
       "            fig.send_message(\"send_image_mode\", {});\n",
       "            if (mpl.ratio != 1) {\n",
       "                fig.send_message(\"set_dpi_ratio\", {'dpi_ratio': mpl.ratio});\n",
       "            }\n",
       "            fig.send_message(\"refresh\", {});\n",
       "        }\n",
       "\n",
       "    this.imageObj.onload = function() {\n",
       "            if (fig.image_mode == 'full') {\n",
       "                // Full images could contain transparency (where diff images\n",
       "                // almost always do), so we need to clear the canvas so that\n",
       "                // there is no ghosting.\n",
       "                fig.context.clearRect(0, 0, fig.canvas.width, fig.canvas.height);\n",
       "            }\n",
       "            fig.context.drawImage(fig.imageObj, 0, 0);\n",
       "        };\n",
       "\n",
       "    this.imageObj.onunload = function() {\n",
       "        this.ws.close();\n",
       "    }\n",
       "\n",
       "    this.ws.onmessage = this._make_on_message_function(this);\n",
       "\n",
       "    this.ondownload = ondownload;\n",
       "}\n",
       "\n",
       "mpl.figure.prototype._init_header = function() {\n",
       "    var titlebar = $(\n",
       "        '<div class=\"ui-dialog-titlebar ui-widget-header ui-corner-all ' +\n",
       "        'ui-helper-clearfix\"/>');\n",
       "    var titletext = $(\n",
       "        '<div class=\"ui-dialog-title\" style=\"width: 100%; ' +\n",
       "        'text-align: center; padding: 3px;\"/>');\n",
       "    titlebar.append(titletext)\n",
       "    this.root.append(titlebar);\n",
       "    this.header = titletext[0];\n",
       "}\n",
       "\n",
       "\n",
       "\n",
       "mpl.figure.prototype._canvas_extra_style = function(canvas_div) {\n",
       "\n",
       "}\n",
       "\n",
       "\n",
       "mpl.figure.prototype._root_extra_style = function(canvas_div) {\n",
       "\n",
       "}\n",
       "\n",
       "mpl.figure.prototype._init_canvas = function() {\n",
       "    var fig = this;\n",
       "\n",
       "    var canvas_div = $('<div/>');\n",
       "\n",
       "    canvas_div.attr('style', 'position: relative; clear: both; outline: 0');\n",
       "\n",
       "    function canvas_keyboard_event(event) {\n",
       "        return fig.key_event(event, event['data']);\n",
       "    }\n",
       "\n",
       "    canvas_div.keydown('key_press', canvas_keyboard_event);\n",
       "    canvas_div.keyup('key_release', canvas_keyboard_event);\n",
       "    this.canvas_div = canvas_div\n",
       "    this._canvas_extra_style(canvas_div)\n",
       "    this.root.append(canvas_div);\n",
       "\n",
       "    var canvas = $('<canvas/>');\n",
       "    canvas.addClass('mpl-canvas');\n",
       "    canvas.attr('style', \"left: 0; top: 0; z-index: 0; outline: 0\")\n",
       "\n",
       "    this.canvas = canvas[0];\n",
       "    this.context = canvas[0].getContext(\"2d\");\n",
       "\n",
       "    var backingStore = this.context.backingStorePixelRatio ||\n",
       "\tthis.context.webkitBackingStorePixelRatio ||\n",
       "\tthis.context.mozBackingStorePixelRatio ||\n",
       "\tthis.context.msBackingStorePixelRatio ||\n",
       "\tthis.context.oBackingStorePixelRatio ||\n",
       "\tthis.context.backingStorePixelRatio || 1;\n",
       "\n",
       "    mpl.ratio = (window.devicePixelRatio || 1) / backingStore;\n",
       "\n",
       "    var rubberband = $('<canvas/>');\n",
       "    rubberband.attr('style', \"position: absolute; left: 0; top: 0; z-index: 1;\")\n",
       "\n",
       "    var pass_mouse_events = true;\n",
       "\n",
       "    canvas_div.resizable({\n",
       "        start: function(event, ui) {\n",
       "            pass_mouse_events = false;\n",
       "        },\n",
       "        resize: function(event, ui) {\n",
       "            fig.request_resize(ui.size.width, ui.size.height);\n",
       "        },\n",
       "        stop: function(event, ui) {\n",
       "            pass_mouse_events = true;\n",
       "            fig.request_resize(ui.size.width, ui.size.height);\n",
       "        },\n",
       "    });\n",
       "\n",
       "    function mouse_event_fn(event) {\n",
       "        if (pass_mouse_events)\n",
       "            return fig.mouse_event(event, event['data']);\n",
       "    }\n",
       "\n",
       "    rubberband.mousedown('button_press', mouse_event_fn);\n",
       "    rubberband.mouseup('button_release', mouse_event_fn);\n",
       "    // Throttle sequential mouse events to 1 every 20ms.\n",
       "    rubberband.mousemove('motion_notify', mouse_event_fn);\n",
       "\n",
       "    rubberband.mouseenter('figure_enter', mouse_event_fn);\n",
       "    rubberband.mouseleave('figure_leave', mouse_event_fn);\n",
       "\n",
       "    canvas_div.on(\"wheel\", function (event) {\n",
       "        event = event.originalEvent;\n",
       "        event['data'] = 'scroll'\n",
       "        if (event.deltaY < 0) {\n",
       "            event.step = 1;\n",
       "        } else {\n",
       "            event.step = -1;\n",
       "        }\n",
       "        mouse_event_fn(event);\n",
       "    });\n",
       "\n",
       "    canvas_div.append(canvas);\n",
       "    canvas_div.append(rubberband);\n",
       "\n",
       "    this.rubberband = rubberband;\n",
       "    this.rubberband_canvas = rubberband[0];\n",
       "    this.rubberband_context = rubberband[0].getContext(\"2d\");\n",
       "    this.rubberband_context.strokeStyle = \"#000000\";\n",
       "\n",
       "    this._resize_canvas = function(width, height) {\n",
       "        // Keep the size of the canvas, canvas container, and rubber band\n",
       "        // canvas in synch.\n",
       "        canvas_div.css('width', width)\n",
       "        canvas_div.css('height', height)\n",
       "\n",
       "        canvas.attr('width', width * mpl.ratio);\n",
       "        canvas.attr('height', height * mpl.ratio);\n",
       "        canvas.attr('style', 'width: ' + width + 'px; height: ' + height + 'px;');\n",
       "\n",
       "        rubberband.attr('width', width);\n",
       "        rubberband.attr('height', height);\n",
       "    }\n",
       "\n",
       "    // Set the figure to an initial 600x600px, this will subsequently be updated\n",
       "    // upon first draw.\n",
       "    this._resize_canvas(600, 600);\n",
       "\n",
       "    // Disable right mouse context menu.\n",
       "    $(this.rubberband_canvas).bind(\"contextmenu\",function(e){\n",
       "        return false;\n",
       "    });\n",
       "\n",
       "    function set_focus () {\n",
       "        canvas.focus();\n",
       "        canvas_div.focus();\n",
       "    }\n",
       "\n",
       "    window.setTimeout(set_focus, 100);\n",
       "}\n",
       "\n",
       "mpl.figure.prototype._init_toolbar = function() {\n",
       "    var fig = this;\n",
       "\n",
       "    var nav_element = $('<div/>')\n",
       "    nav_element.attr('style', 'width: 100%');\n",
       "    this.root.append(nav_element);\n",
       "\n",
       "    // Define a callback function for later on.\n",
       "    function toolbar_event(event) {\n",
       "        return fig.toolbar_button_onclick(event['data']);\n",
       "    }\n",
       "    function toolbar_mouse_event(event) {\n",
       "        return fig.toolbar_button_onmouseover(event['data']);\n",
       "    }\n",
       "\n",
       "    for(var toolbar_ind in mpl.toolbar_items) {\n",
       "        var name = mpl.toolbar_items[toolbar_ind][0];\n",
       "        var tooltip = mpl.toolbar_items[toolbar_ind][1];\n",
       "        var image = mpl.toolbar_items[toolbar_ind][2];\n",
       "        var method_name = mpl.toolbar_items[toolbar_ind][3];\n",
       "\n",
       "        if (!name) {\n",
       "            // put a spacer in here.\n",
       "            continue;\n",
       "        }\n",
       "        var button = $('<button/>');\n",
       "        button.addClass('ui-button ui-widget ui-state-default ui-corner-all ' +\n",
       "                        'ui-button-icon-only');\n",
       "        button.attr('role', 'button');\n",
       "        button.attr('aria-disabled', 'false');\n",
       "        button.click(method_name, toolbar_event);\n",
       "        button.mouseover(tooltip, toolbar_mouse_event);\n",
       "\n",
       "        var icon_img = $('<span/>');\n",
       "        icon_img.addClass('ui-button-icon-primary ui-icon');\n",
       "        icon_img.addClass(image);\n",
       "        icon_img.addClass('ui-corner-all');\n",
       "\n",
       "        var tooltip_span = $('<span/>');\n",
       "        tooltip_span.addClass('ui-button-text');\n",
       "        tooltip_span.html(tooltip);\n",
       "\n",
       "        button.append(icon_img);\n",
       "        button.append(tooltip_span);\n",
       "\n",
       "        nav_element.append(button);\n",
       "    }\n",
       "\n",
       "    var fmt_picker_span = $('<span/>');\n",
       "\n",
       "    var fmt_picker = $('<select/>');\n",
       "    fmt_picker.addClass('mpl-toolbar-option ui-widget ui-widget-content');\n",
       "    fmt_picker_span.append(fmt_picker);\n",
       "    nav_element.append(fmt_picker_span);\n",
       "    this.format_dropdown = fmt_picker[0];\n",
       "\n",
       "    for (var ind in mpl.extensions) {\n",
       "        var fmt = mpl.extensions[ind];\n",
       "        var option = $(\n",
       "            '<option/>', {selected: fmt === mpl.default_extension}).html(fmt);\n",
       "        fmt_picker.append(option)\n",
       "    }\n",
       "\n",
       "    // Add hover states to the ui-buttons\n",
       "    $( \".ui-button\" ).hover(\n",
       "        function() { $(this).addClass(\"ui-state-hover\");},\n",
       "        function() { $(this).removeClass(\"ui-state-hover\");}\n",
       "    );\n",
       "\n",
       "    var status_bar = $('<span class=\"mpl-message\"/>');\n",
       "    nav_element.append(status_bar);\n",
       "    this.message = status_bar[0];\n",
       "}\n",
       "\n",
       "mpl.figure.prototype.request_resize = function(x_pixels, y_pixels) {\n",
       "    // Request matplotlib to resize the figure. Matplotlib will then trigger a resize in the client,\n",
       "    // which will in turn request a refresh of the image.\n",
       "    this.send_message('resize', {'width': x_pixels, 'height': y_pixels});\n",
       "}\n",
       "\n",
       "mpl.figure.prototype.send_message = function(type, properties) {\n",
       "    properties['type'] = type;\n",
       "    properties['figure_id'] = this.id;\n",
       "    this.ws.send(JSON.stringify(properties));\n",
       "}\n",
       "\n",
       "mpl.figure.prototype.send_draw_message = function() {\n",
       "    if (!this.waiting) {\n",
       "        this.waiting = true;\n",
       "        this.ws.send(JSON.stringify({type: \"draw\", figure_id: this.id}));\n",
       "    }\n",
       "}\n",
       "\n",
       "\n",
       "mpl.figure.prototype.handle_save = function(fig, msg) {\n",
       "    var format_dropdown = fig.format_dropdown;\n",
       "    var format = format_dropdown.options[format_dropdown.selectedIndex].value;\n",
       "    fig.ondownload(fig, format);\n",
       "}\n",
       "\n",
       "\n",
       "mpl.figure.prototype.handle_resize = function(fig, msg) {\n",
       "    var size = msg['size'];\n",
       "    if (size[0] != fig.canvas.width || size[1] != fig.canvas.height) {\n",
       "        fig._resize_canvas(size[0], size[1]);\n",
       "        fig.send_message(\"refresh\", {});\n",
       "    };\n",
       "}\n",
       "\n",
       "mpl.figure.prototype.handle_rubberband = function(fig, msg) {\n",
       "    var x0 = msg['x0'] / mpl.ratio;\n",
       "    var y0 = (fig.canvas.height - msg['y0']) / mpl.ratio;\n",
       "    var x1 = msg['x1'] / mpl.ratio;\n",
       "    var y1 = (fig.canvas.height - msg['y1']) / mpl.ratio;\n",
       "    x0 = Math.floor(x0) + 0.5;\n",
       "    y0 = Math.floor(y0) + 0.5;\n",
       "    x1 = Math.floor(x1) + 0.5;\n",
       "    y1 = Math.floor(y1) + 0.5;\n",
       "    var min_x = Math.min(x0, x1);\n",
       "    var min_y = Math.min(y0, y1);\n",
       "    var width = Math.abs(x1 - x0);\n",
       "    var height = Math.abs(y1 - y0);\n",
       "\n",
       "    fig.rubberband_context.clearRect(\n",
       "        0, 0, fig.canvas.width, fig.canvas.height);\n",
       "\n",
       "    fig.rubberband_context.strokeRect(min_x, min_y, width, height);\n",
       "}\n",
       "\n",
       "mpl.figure.prototype.handle_figure_label = function(fig, msg) {\n",
       "    // Updates the figure title.\n",
       "    fig.header.textContent = msg['label'];\n",
       "}\n",
       "\n",
       "mpl.figure.prototype.handle_cursor = function(fig, msg) {\n",
       "    var cursor = msg['cursor'];\n",
       "    switch(cursor)\n",
       "    {\n",
       "    case 0:\n",
       "        cursor = 'pointer';\n",
       "        break;\n",
       "    case 1:\n",
       "        cursor = 'default';\n",
       "        break;\n",
       "    case 2:\n",
       "        cursor = 'crosshair';\n",
       "        break;\n",
       "    case 3:\n",
       "        cursor = 'move';\n",
       "        break;\n",
       "    }\n",
       "    fig.rubberband_canvas.style.cursor = cursor;\n",
       "}\n",
       "\n",
       "mpl.figure.prototype.handle_message = function(fig, msg) {\n",
       "    fig.message.textContent = msg['message'];\n",
       "}\n",
       "\n",
       "mpl.figure.prototype.handle_draw = function(fig, msg) {\n",
       "    // Request the server to send over a new figure.\n",
       "    fig.send_draw_message();\n",
       "}\n",
       "\n",
       "mpl.figure.prototype.handle_image_mode = function(fig, msg) {\n",
       "    fig.image_mode = msg['mode'];\n",
       "}\n",
       "\n",
       "mpl.figure.prototype.updated_canvas_event = function() {\n",
       "    // Called whenever the canvas gets updated.\n",
       "    this.send_message(\"ack\", {});\n",
       "}\n",
       "\n",
       "// A function to construct a web socket function for onmessage handling.\n",
       "// Called in the figure constructor.\n",
       "mpl.figure.prototype._make_on_message_function = function(fig) {\n",
       "    return function socket_on_message(evt) {\n",
       "        if (evt.data instanceof Blob) {\n",
       "            /* FIXME: We get \"Resource interpreted as Image but\n",
       "             * transferred with MIME type text/plain:\" errors on\n",
       "             * Chrome.  But how to set the MIME type?  It doesn't seem\n",
       "             * to be part of the websocket stream */\n",
       "            evt.data.type = \"image/png\";\n",
       "\n",
       "            /* Free the memory for the previous frames */\n",
       "            if (fig.imageObj.src) {\n",
       "                (window.URL || window.webkitURL).revokeObjectURL(\n",
       "                    fig.imageObj.src);\n",
       "            }\n",
       "\n",
       "            fig.imageObj.src = (window.URL || window.webkitURL).createObjectURL(\n",
       "                evt.data);\n",
       "            fig.updated_canvas_event();\n",
       "            fig.waiting = false;\n",
       "            return;\n",
       "        }\n",
       "        else if (typeof evt.data === 'string' && evt.data.slice(0, 21) == \"data:image/png;base64\") {\n",
       "            fig.imageObj.src = evt.data;\n",
       "            fig.updated_canvas_event();\n",
       "            fig.waiting = false;\n",
       "            return;\n",
       "        }\n",
       "\n",
       "        var msg = JSON.parse(evt.data);\n",
       "        var msg_type = msg['type'];\n",
       "\n",
       "        // Call the  \"handle_{type}\" callback, which takes\n",
       "        // the figure and JSON message as its only arguments.\n",
       "        try {\n",
       "            var callback = fig[\"handle_\" + msg_type];\n",
       "        } catch (e) {\n",
       "            console.log(\"No handler for the '\" + msg_type + \"' message type: \", msg);\n",
       "            return;\n",
       "        }\n",
       "\n",
       "        if (callback) {\n",
       "            try {\n",
       "                // console.log(\"Handling '\" + msg_type + \"' message: \", msg);\n",
       "                callback(fig, msg);\n",
       "            } catch (e) {\n",
       "                console.log(\"Exception inside the 'handler_\" + msg_type + \"' callback:\", e, e.stack, msg);\n",
       "            }\n",
       "        }\n",
       "    };\n",
       "}\n",
       "\n",
       "// from http://stackoverflow.com/questions/1114465/getting-mouse-location-in-canvas\n",
       "mpl.findpos = function(e) {\n",
       "    //this section is from http://www.quirksmode.org/js/events_properties.html\n",
       "    var targ;\n",
       "    if (!e)\n",
       "        e = window.event;\n",
       "    if (e.target)\n",
       "        targ = e.target;\n",
       "    else if (e.srcElement)\n",
       "        targ = e.srcElement;\n",
       "    if (targ.nodeType == 3) // defeat Safari bug\n",
       "        targ = targ.parentNode;\n",
       "\n",
       "    // jQuery normalizes the pageX and pageY\n",
       "    // pageX,Y are the mouse positions relative to the document\n",
       "    // offset() returns the position of the element relative to the document\n",
       "    var x = e.pageX - $(targ).offset().left;\n",
       "    var y = e.pageY - $(targ).offset().top;\n",
       "\n",
       "    return {\"x\": x, \"y\": y};\n",
       "};\n",
       "\n",
       "/*\n",
       " * return a copy of an object with only non-object keys\n",
       " * we need this to avoid circular references\n",
       " * http://stackoverflow.com/a/24161582/3208463\n",
       " */\n",
       "function simpleKeys (original) {\n",
       "  return Object.keys(original).reduce(function (obj, key) {\n",
       "    if (typeof original[key] !== 'object')\n",
       "        obj[key] = original[key]\n",
       "    return obj;\n",
       "  }, {});\n",
       "}\n",
       "\n",
       "mpl.figure.prototype.mouse_event = function(event, name) {\n",
       "    var canvas_pos = mpl.findpos(event)\n",
       "\n",
       "    if (name === 'button_press')\n",
       "    {\n",
       "        this.canvas.focus();\n",
       "        this.canvas_div.focus();\n",
       "    }\n",
       "\n",
       "    var x = canvas_pos.x * mpl.ratio;\n",
       "    var y = canvas_pos.y * mpl.ratio;\n",
       "\n",
       "    this.send_message(name, {x: x, y: y, button: event.button,\n",
       "                             step: event.step,\n",
       "                             guiEvent: simpleKeys(event)});\n",
       "\n",
       "    /* This prevents the web browser from automatically changing to\n",
       "     * the text insertion cursor when the button is pressed.  We want\n",
       "     * to control all of the cursor setting manually through the\n",
       "     * 'cursor' event from matplotlib */\n",
       "    event.preventDefault();\n",
       "    return false;\n",
       "}\n",
       "\n",
       "mpl.figure.prototype._key_event_extra = function(event, name) {\n",
       "    // Handle any extra behaviour associated with a key event\n",
       "}\n",
       "\n",
       "mpl.figure.prototype.key_event = function(event, name) {\n",
       "\n",
       "    // Prevent repeat events\n",
       "    if (name == 'key_press')\n",
       "    {\n",
       "        if (event.which === this._key)\n",
       "            return;\n",
       "        else\n",
       "            this._key = event.which;\n",
       "    }\n",
       "    if (name == 'key_release')\n",
       "        this._key = null;\n",
       "\n",
       "    var value = '';\n",
       "    if (event.ctrlKey && event.which != 17)\n",
       "        value += \"ctrl+\";\n",
       "    if (event.altKey && event.which != 18)\n",
       "        value += \"alt+\";\n",
       "    if (event.shiftKey && event.which != 16)\n",
       "        value += \"shift+\";\n",
       "\n",
       "    value += 'k';\n",
       "    value += event.which.toString();\n",
       "\n",
       "    this._key_event_extra(event, name);\n",
       "\n",
       "    this.send_message(name, {key: value,\n",
       "                             guiEvent: simpleKeys(event)});\n",
       "    return false;\n",
       "}\n",
       "\n",
       "mpl.figure.prototype.toolbar_button_onclick = function(name) {\n",
       "    if (name == 'download') {\n",
       "        this.handle_save(this, null);\n",
       "    } else {\n",
       "        this.send_message(\"toolbar_button\", {name: name});\n",
       "    }\n",
       "};\n",
       "\n",
       "mpl.figure.prototype.toolbar_button_onmouseover = function(tooltip) {\n",
       "    this.message.textContent = tooltip;\n",
       "};\n",
       "mpl.toolbar_items = [[\"Home\", \"Reset original view\", \"fa fa-home icon-home\", \"home\"], [\"Back\", \"Back to  previous view\", \"fa fa-arrow-left icon-arrow-left\", \"back\"], [\"Forward\", \"Forward to next view\", \"fa fa-arrow-right icon-arrow-right\", \"forward\"], [\"\", \"\", \"\", \"\"], [\"Pan\", \"Pan axes with left mouse, zoom with right\", \"fa fa-arrows icon-move\", \"pan\"], [\"Zoom\", \"Zoom to rectangle\", \"fa fa-square-o icon-check-empty\", \"zoom\"], [\"\", \"\", \"\", \"\"], [\"Download\", \"Download plot\", \"fa fa-floppy-o icon-save\", \"download\"]];\n",
       "\n",
       "mpl.extensions = [\"eps\", \"jpeg\", \"pdf\", \"png\", \"ps\", \"raw\", \"svg\", \"tif\"];\n",
       "\n",
       "mpl.default_extension = \"png\";var comm_websocket_adapter = function(comm) {\n",
       "    // Create a \"websocket\"-like object which calls the given IPython comm\n",
       "    // object with the appropriate methods. Currently this is a non binary\n",
       "    // socket, so there is still some room for performance tuning.\n",
       "    var ws = {};\n",
       "\n",
       "    ws.close = function() {\n",
       "        comm.close()\n",
       "    };\n",
       "    ws.send = function(m) {\n",
       "        //console.log('sending', m);\n",
       "        comm.send(m);\n",
       "    };\n",
       "    // Register the callback with on_msg.\n",
       "    comm.on_msg(function(msg) {\n",
       "        //console.log('receiving', msg['content']['data'], msg);\n",
       "        // Pass the mpl event to the overriden (by mpl) onmessage function.\n",
       "        ws.onmessage(msg['content']['data'])\n",
       "    });\n",
       "    return ws;\n",
       "}\n",
       "\n",
       "mpl.mpl_figure_comm = function(comm, msg) {\n",
       "    // This is the function which gets called when the mpl process\n",
       "    // starts-up an IPython Comm through the \"matplotlib\" channel.\n",
       "\n",
       "    var id = msg.content.data.id;\n",
       "    // Get hold of the div created by the display call when the Comm\n",
       "    // socket was opened in Python.\n",
       "    var element = $(\"#\" + id);\n",
       "    var ws_proxy = comm_websocket_adapter(comm)\n",
       "\n",
       "    function ondownload(figure, format) {\n",
       "        window.open(figure.imageObj.src);\n",
       "    }\n",
       "\n",
       "    var fig = new mpl.figure(id, ws_proxy,\n",
       "                           ondownload,\n",
       "                           element.get(0));\n",
       "\n",
       "    // Call onopen now - mpl needs it, as it is assuming we've passed it a real\n",
       "    // web socket which is closed, not our websocket->open comm proxy.\n",
       "    ws_proxy.onopen();\n",
       "\n",
       "    fig.parent_element = element.get(0);\n",
       "    fig.cell_info = mpl.find_output_cell(\"<div id='\" + id + \"'></div>\");\n",
       "    if (!fig.cell_info) {\n",
       "        console.error(\"Failed to find cell for figure\", id, fig);\n",
       "        return;\n",
       "    }\n",
       "\n",
       "    var output_index = fig.cell_info[2]\n",
       "    var cell = fig.cell_info[0];\n",
       "\n",
       "};\n",
       "\n",
       "mpl.figure.prototype.handle_close = function(fig, msg) {\n",
       "    var width = fig.canvas.width/mpl.ratio\n",
       "    fig.root.unbind('remove')\n",
       "\n",
       "    // Update the output cell to use the data from the current canvas.\n",
       "    fig.push_to_output();\n",
       "    var dataURL = fig.canvas.toDataURL();\n",
       "    // Re-enable the keyboard manager in IPython - without this line, in FF,\n",
       "    // the notebook keyboard shortcuts fail.\n",
       "    IPython.keyboard_manager.enable()\n",
       "    $(fig.parent_element).html('<img src=\"' + dataURL + '\" width=\"' + width + '\">');\n",
       "    fig.close_ws(fig, msg);\n",
       "}\n",
       "\n",
       "mpl.figure.prototype.close_ws = function(fig, msg){\n",
       "    fig.send_message('closing', msg);\n",
       "    // fig.ws.close()\n",
       "}\n",
       "\n",
       "mpl.figure.prototype.push_to_output = function(remove_interactive) {\n",
       "    // Turn the data on the canvas into data in the output cell.\n",
       "    var width = this.canvas.width/mpl.ratio\n",
       "    var dataURL = this.canvas.toDataURL();\n",
       "    this.cell_info[1]['text/html'] = '<img src=\"' + dataURL + '\" width=\"' + width + '\">';\n",
       "}\n",
       "\n",
       "mpl.figure.prototype.updated_canvas_event = function() {\n",
       "    // Tell IPython that the notebook contents must change.\n",
       "    IPython.notebook.set_dirty(true);\n",
       "    this.send_message(\"ack\", {});\n",
       "    var fig = this;\n",
       "    // Wait a second, then push the new image to the DOM so\n",
       "    // that it is saved nicely (might be nice to debounce this).\n",
       "    setTimeout(function () { fig.push_to_output() }, 1000);\n",
       "}\n",
       "\n",
       "mpl.figure.prototype._init_toolbar = function() {\n",
       "    var fig = this;\n",
       "\n",
       "    var nav_element = $('<div/>')\n",
       "    nav_element.attr('style', 'width: 100%');\n",
       "    this.root.append(nav_element);\n",
       "\n",
       "    // Define a callback function for later on.\n",
       "    function toolbar_event(event) {\n",
       "        return fig.toolbar_button_onclick(event['data']);\n",
       "    }\n",
       "    function toolbar_mouse_event(event) {\n",
       "        return fig.toolbar_button_onmouseover(event['data']);\n",
       "    }\n",
       "\n",
       "    for(var toolbar_ind in mpl.toolbar_items){\n",
       "        var name = mpl.toolbar_items[toolbar_ind][0];\n",
       "        var tooltip = mpl.toolbar_items[toolbar_ind][1];\n",
       "        var image = mpl.toolbar_items[toolbar_ind][2];\n",
       "        var method_name = mpl.toolbar_items[toolbar_ind][3];\n",
       "\n",
       "        if (!name) { continue; };\n",
       "\n",
       "        var button = $('<button class=\"btn btn-default\" href=\"#\" title=\"' + name + '\"><i class=\"fa ' + image + ' fa-lg\"></i></button>');\n",
       "        button.click(method_name, toolbar_event);\n",
       "        button.mouseover(tooltip, toolbar_mouse_event);\n",
       "        nav_element.append(button);\n",
       "    }\n",
       "\n",
       "    // Add the status bar.\n",
       "    var status_bar = $('<span class=\"mpl-message\" style=\"text-align:right; float: right;\"/>');\n",
       "    nav_element.append(status_bar);\n",
       "    this.message = status_bar[0];\n",
       "\n",
       "    // Add the close button to the window.\n",
       "    var buttongrp = $('<div class=\"btn-group inline pull-right\"></div>');\n",
       "    var button = $('<button class=\"btn btn-mini btn-primary\" href=\"#\" title=\"Stop Interaction\"><i class=\"fa fa-power-off icon-remove icon-large\"></i></button>');\n",
       "    button.click(function (evt) { fig.handle_close(fig, {}); } );\n",
       "    button.mouseover('Stop Interaction', toolbar_mouse_event);\n",
       "    buttongrp.append(button);\n",
       "    var titlebar = this.root.find($('.ui-dialog-titlebar'));\n",
       "    titlebar.prepend(buttongrp);\n",
       "}\n",
       "\n",
       "mpl.figure.prototype._root_extra_style = function(el){\n",
       "    var fig = this\n",
       "    el.on(\"remove\", function(){\n",
       "\tfig.close_ws(fig, {});\n",
       "    });\n",
       "}\n",
       "\n",
       "mpl.figure.prototype._canvas_extra_style = function(el){\n",
       "    // this is important to make the div 'focusable\n",
       "    el.attr('tabindex', 0)\n",
       "    // reach out to IPython and tell the keyboard manager to turn it's self\n",
       "    // off when our div gets focus\n",
       "\n",
       "    // location in version 3\n",
       "    if (IPython.notebook.keyboard_manager) {\n",
       "        IPython.notebook.keyboard_manager.register_events(el);\n",
       "    }\n",
       "    else {\n",
       "        // location in version 2\n",
       "        IPython.keyboard_manager.register_events(el);\n",
       "    }\n",
       "\n",
       "}\n",
       "\n",
       "mpl.figure.prototype._key_event_extra = function(event, name) {\n",
       "    var manager = IPython.notebook.keyboard_manager;\n",
       "    if (!manager)\n",
       "        manager = IPython.keyboard_manager;\n",
       "\n",
       "    // Check for shift+enter\n",
       "    if (event.shiftKey && event.which == 13) {\n",
       "        this.canvas_div.blur();\n",
       "        // select the cell after this one\n",
       "        var index = IPython.notebook.find_cell_index(this.cell_info[0]);\n",
       "        IPython.notebook.select(index + 1);\n",
       "    }\n",
       "}\n",
       "\n",
       "mpl.figure.prototype.handle_save = function(fig, msg) {\n",
       "    fig.ondownload(fig, null);\n",
       "}\n",
       "\n",
       "\n",
       "mpl.find_output_cell = function(html_output) {\n",
       "    // Return the cell and output element which can be found *uniquely* in the notebook.\n",
       "    // Note - this is a bit hacky, but it is done because the \"notebook_saving.Notebook\"\n",
       "    // IPython event is triggered only after the cells have been serialised, which for\n",
       "    // our purposes (turning an active figure into a static one), is too late.\n",
       "    var cells = IPython.notebook.get_cells();\n",
       "    var ncells = cells.length;\n",
       "    for (var i=0; i<ncells; i++) {\n",
       "        var cell = cells[i];\n",
       "        if (cell.cell_type === 'code'){\n",
       "            for (var j=0; j<cell.output_area.outputs.length; j++) {\n",
       "                var data = cell.output_area.outputs[j];\n",
       "                if (data.data) {\n",
       "                    // IPython >= 3 moved mimebundle to data attribute of output\n",
       "                    data = data.data;\n",
       "                }\n",
       "                if (data['text/html'] == html_output) {\n",
       "                    return [cell, data, j];\n",
       "                }\n",
       "            }\n",
       "        }\n",
       "    }\n",
       "}\n",
       "\n",
       "// Register the function which deals with the matplotlib target/channel.\n",
       "// The kernel may be null if the page has been refreshed.\n",
       "if (IPython.notebook.kernel != null) {\n",
       "    IPython.notebook.kernel.comm_manager.register_target('matplotlib', mpl.mpl_figure_comm);\n",
       "}\n"
      ],
      "text/plain": [
       "<IPython.core.display.Javascript object>"
      ]
     },
     "metadata": {},
     "output_type": "display_data"
    },
    {
     "data": {
      "text/html": [
       "<img src=\"data:image/png;base64,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\" width=\"640\">"
      ],
      "text/plain": [
       "<IPython.core.display.HTML object>"
      ]
     },
     "metadata": {},
     "output_type": "display_data"
    },
    {
     "data": {
      "text/plain": [
       "[<matplotlib.lines.Line2D at 0x174ee7f0>]"
      ]
     },
     "execution_count": 62,
     "metadata": {},
     "output_type": "execute_result"
    }
   ],
   "source": [
    "%matplotlib notebook\n",
    "plt.plot(h.traces[26].samples)"
   ]
  },
  {
   "cell_type": "code",
   "execution_count": 24,
   "metadata": {
    "collapsed": false
   },
   "outputs": [
    {
     "data": {
      "text/plain": [
       "8192"
      ]
     },
     "execution_count": 24,
     "metadata": {},
     "output_type": "execute_result"
    }
   ],
   "source": [
    "h.distributions[0].stop_time"
   ]
  },
  {
   "cell_type": "code",
   "execution_count": null,
   "metadata": {
    "collapsed": false
   },
   "outputs": [],
   "source": [
    "%matplotlib notebook\n",
    "plt.plot(h.distributions[0].bins,'.')"
   ]
  },
  {
   "cell_type": "code",
   "execution_count": null,
   "metadata": {
    "collapsed": false
   },
   "outputs": [],
   "source": [
    "h.frames[1].payload_type"
   ]
  },
  {
   "cell_type": "code",
   "execution_count": null,
   "metadata": {
    "collapsed": false
   },
   "outputs": [],
   "source": [
    "h.frames[52].payload"
   ]
  },
  {
   "cell_type": "code",
   "execution_count": null,
   "metadata": {
    "collapsed": false
   },
   "outputs": [],
   "source": [
    "frame_header_dt.names"
   ]
  },
  {
   "cell_type": "code",
   "execution_count": 60,
   "metadata": {
    "collapsed": false
   },
   "outputs": [],
   "source": [
    "h.close()"
   ]
  },
  {
   "cell_type": "code",
   "execution_count": null,
   "metadata": {
    "collapsed": false
   },
   "outputs": [],
   "source": [
    "stream=Data.fromfile('bytestream',stream_dt,'teslib','measurement_subsystem_TB',tool='vivado')\n",
    "packets=_PacketData(stream)\n",
    "del stream\n",
    "# _import(packets)\n",
    "# h=h5py.File('TES.hdf5','r')"
   ]
  },
  {
   "cell_type": "code",
   "execution_count": null,
   "metadata": {
    "collapsed": false
   },
   "outputs": [],
   "source": [
    "packets[1]['data']"
   ]
  },
  {
   "cell_type": "code",
   "execution_count": null,
   "metadata": {
    "collapsed": false
   },
   "outputs": [],
   "source": [
    "packets[51]\n"
   ]
  },
  {
   "cell_type": "code",
   "execution_count": 31,
   "metadata": {
    "collapsed": false
   },
   "outputs": [],
   "source": [
    "h.close()"
   ]
  },
  {
   "cell_type": "code",
   "execution_count": null,
   "metadata": {
    "collapsed": false
   },
   "outputs": [],
   "source": [
    "len(h['traces'])"
   ]
  },
  {
   "cell_type": "code",
   "execution_count": null,
   "metadata": {
    "collapsed": false
   },
   "outputs": [],
   "source": [
    "t=h['raw_data/event'][h['traces'][5]]"
   ]
  },
  {
   "cell_type": "code",
   "execution_count": null,
   "metadata": {
    "collapsed": false
   },
   "outputs": [],
   "source": [
    "%matplotlib notebook\n",
    "t=h['raw_data/event'][h['traces'][5]]\n",
    "tr=Trace(t)\n",
    "print(tr.flags,'\\n',tr.trace_flags)\n",
    "plt.plot(tr.samples)"
   ]
  },
  {
   "cell_type": "code",
   "execution_count": null,
   "metadata": {
    "collapsed": false
   },
   "outputs": [],
   "source": [
    "tr"
   ]
  },
  {
   "cell_type": "code",
   "execution_count": null,
   "metadata": {
    "collapsed": false
   },
   "outputs": [],
   "source": [
    "s=str(tr.flags)\n",
    "s"
   ]
  },
  {
   "cell_type": "code",
   "execution_count": null,
   "metadata": {
    "collapsed": false
   },
   "outputs": [],
   "source": [
    "print(s)"
   ]
  },
  {
   "cell_type": "code",
   "execution_count": null,
   "metadata": {
    "collapsed": false
   },
   "outputs": [],
   "source": [
    "type(h['raw_data/event'][h['traces'][0]])"
   ]
  },
  {
   "cell_type": "code",
   "execution_count": null,
   "metadata": {
    "collapsed": true
   },
   "outputs": [],
   "source": [
    "from tes.hdf5 import Trace"
   ]
  },
  {
   "cell_type": "code",
   "execution_count": null,
   "metadata": {
    "collapsed": false
   },
   "outputs": [],
   "source": [
    "tr.flags"
   ]
  },
  {
   "cell_type": "code",
   "execution_count": null,
   "metadata": {
    "collapsed": false
   },
   "outputs": [],
   "source": [
    "tr.trace_flags"
   ]
  },
  {
   "cell_type": "code",
   "execution_count": null,
   "metadata": {
    "collapsed": false
   },
   "outputs": [],
   "source": [
    "%matplotlib notebook\n",
    "plt.plot(tr.samples)"
   ]
  },
  {
   "cell_type": "code",
   "execution_count": null,
   "metadata": {
    "collapsed": false
   },
   "outputs": [],
   "source": [
    "len(tr.samples)"
   ]
  },
  {
   "cell_type": "code",
   "execution_count": null,
   "metadata": {
    "collapsed": false
   },
   "outputs": [],
   "source": [
    "first_dt = np.dtype([('size', np.uint16), ('tflags0', np.uint8), ('tflags1', np.uint8),\n",
    "        ('flags0', np.uint8), ('flags1', np.uint8), ('time', np.uint16)])\n",
    "\n"
   ]
  },
  {
   "cell_type": "code",
   "execution_count": null,
   "metadata": {
    "collapsed": false
   },
   "outputs": [],
   "source": []
  },
  {
   "cell_type": "code",
   "execution_count": null,
   "metadata": {
    "collapsed": false
   },
   "outputs": [],
   "source": [
    "t[0:8].view(first_dt)"
   ]
  },
  {
   "cell_type": "code",
   "execution_count": null,
   "metadata": {
    "collapsed": true
   },
   "outputs": [],
   "source": []
  },
  {
   "cell_type": "code",
   "execution_count": null,
   "metadata": {
    "collapsed": false
   },
   "outputs": [],
   "source": [
    "_rref = h5py.special_dtype(ref=h5py.RegionReference)\n",
    "h=h5py.File('test.hdf5', 'w')"
   ]
  },
  {
   "cell_type": "code",
   "execution_count": null,
   "metadata": {
    "collapsed": false
   },
   "outputs": [],
   "source": [
    "h.close()"
   ]
  },
  {
   "cell_type": "code",
   "execution_count": null,
   "metadata": {
    "collapsed": false
   },
   "outputs": [],
   "source": [
    "t= np.array((10,),'u1')\n",
    "h.create_dataset('t',(10,),dtype='u1')"
   ]
  },
  {
   "cell_type": "code",
   "execution_count": null,
   "metadata": {
    "collapsed": false
   },
   "outputs": [],
   "source": [
    "h.create_dataset('r',(10,),dtype=_rref)"
   ]
  },
  {
   "cell_type": "code",
   "execution_count": null,
   "metadata": {
    "collapsed": false
   },
   "outputs": [],
   "source": [
    "h.create_dataset('s',(10,),dtype='u1')"
   ]
  },
  {
   "cell_type": "code",
   "execution_count": null,
   "metadata": {
    "collapsed": true
   },
   "outputs": [],
   "source": [
    "h['s'][0]=0\n",
    "h['s'][1]=1"
   ]
  },
  {
   "cell_type": "code",
   "execution_count": null,
   "metadata": {
    "collapsed": false
   },
   "outputs": [],
   "source": [
    "h['r'][0]=h['t'].regionref[0:2]"
   ]
  },
  {
   "cell_type": "code",
   "execution_count": null,
   "metadata": {
    "collapsed": true
   },
   "outputs": [],
   "source": [
    "r=h['r'][0]"
   ]
  },
  {
   "cell_type": "code",
   "execution_count": null,
   "metadata": {
    "collapsed": false
   },
   "outputs": [],
   "source": [
    "t= np.array([0,1,2],'u1')"
   ]
  },
  {
   "cell_type": "code",
   "execution_count": null,
   "metadata": {
    "collapsed": false
   },
   "outputs": [],
   "source": [
    "t = [0,1]\n",
    "\n",
    "f = np.uint64(0)\n",
    "print(type(f))\n",
    "f += len(t)\n",
    "print(type(f))"
   ]
  },
  {
   "cell_type": "code",
   "execution_count": null,
   "metadata": {
    "collapsed": false
   },
   "outputs": [],
   "source": [
    "t[0:1][0]"
   ]
  },
  {
   "cell_type": "code",
   "execution_count": null,
   "metadata": {
    "collapsed": false
   },
   "outputs": [],
   "source": [
    "i=0\n",
    "for p in packets:\n",
    "    if i==7:\n",
    "        break\n",
    "    i+=1"
   ]
  },
  {
   "cell_type": "code",
   "execution_count": null,
   "metadata": {
    "collapsed": false
   },
   "outputs": [],
   "source": [
    "p"
   ]
  },
  {
   "cell_type": "code",
   "execution_count": null,
   "metadata": {
    "collapsed": true
   },
   "outputs": [],
   "source": [
    "lasts = np.where(stream['last'] < 0)[0] + 1"
   ]
  },
  {
   "cell_type": "code",
   "execution_count": null,
   "metadata": {
    "collapsed": false
   },
   "outputs": [],
   "source": [
    "lasts"
   ]
  },
  {
   "cell_type": "code",
   "execution_count": null,
   "metadata": {
    "collapsed": false
   },
   "outputs": [],
   "source": [
    "'last' in stream.dtype.names"
   ]
  },
  {
   "cell_type": "code",
   "execution_count": null,
   "metadata": {
    "collapsed": false
   },
   "outputs": [],
   "source": [
    "isinstance(stream,np.ndarray)"
   ]
  },
  {
   "cell_type": "code",
   "execution_count": null,
   "metadata": {
    "collapsed": false
   },
   "outputs": [],
   "source": [
    "type('poo')"
   ]
  },
  {
   "cell_type": "code",
   "execution_count": null,
   "metadata": {
    "collapsed": false
   },
   "outputs": [],
   "source": [
    "stream[lasts[0]:]"
   ]
  },
  {
   "cell_type": "code",
   "execution_count": null,
   "metadata": {
    "collapsed": false
   },
   "outputs": [],
   "source": [
    "ps=PacketStream(stream)\n",
    "# ps.traces"
   ]
  },
  {
   "cell_type": "code",
   "execution_count": null,
   "metadata": {
    "collapsed": false
   },
   "outputs": [],
   "source": [
    "type(ps[0])"
   ]
  },
  {
   "cell_type": "code",
   "execution_count": null,
   "metadata": {
    "collapsed": false
   },
   "outputs": [],
   "source": [
    "sum(stream['last']<0)"
   ]
  },
  {
   "cell_type": "code",
   "execution_count": null,
   "metadata": {
    "collapsed": false
   },
   "outputs": [],
   "source": [
    "%matplotlib notebook\n",
    "\n",
    "plt.plot(ps.traces[3]._view['trace'])\n",
    "# ps.traces[2]._view['trace'][-20:]"
   ]
  },
  {
   "cell_type": "code",
   "execution_count": null,
   "metadata": {
    "collapsed": false
   },
   "outputs": [],
   "source": [
    "ps.traces"
   ]
  },
  {
   "cell_type": "code",
   "execution_count": null,
   "metadata": {
    "collapsed": false,
    "run_control": {
     "frozen": false,
     "read_only": false
    },
    "scrolled": true
   },
   "outputs": [],
   "source": [
    "traces=Data.fromfile('traces',trace_dt,'teslib','measurement_subsystem_TB',tool='vivado')\n",
    "stream=Data.fromfile('bytestream',stream_dt,'teslib','measurement_subsystem_TB',tool='vivado')\n",
    "bs=PacketStream(stream)\n",
    "dists=bs.distributions\n",
    "#bs.packets\n",
    "dists"
   ]
  },
  {
   "cell_type": "code",
   "execution_count": null,
   "metadata": {
    "collapsed": false
   },
   "outputs": [],
   "source": [
    "d=dists[0]\n",
    "d.counts[-1]"
   ]
  },
  {
   "cell_type": "code",
   "execution_count": null,
   "metadata": {
    "collapsed": false
   },
   "outputs": [],
   "source": [
    "d.total+d.underflow+d.overflow"
   ]
  },
  {
   "cell_type": "code",
   "execution_count": null,
   "metadata": {
    "collapsed": false
   },
   "outputs": [],
   "source": [
    "%matplotlib notebook\n",
    "plt.plot(d.bins)"
   ]
  },
  {
   "cell_type": "code",
   "execution_count": null,
   "metadata": {
    "collapsed": false,
    "scrolled": false
   },
   "outputs": [],
   "source": [
    "f=EventFlags(es[2][2]['flags'])\n",
    "f.channel"
   ]
  },
  {
   "cell_type": "code",
   "execution_count": null,
   "metadata": {
    "collapsed": false,
    "run_control": {
     "frozen": false,
     "read_only": false
    },
    "scrolled": true
   },
   "outputs": [],
   "source": [
    "import tes.mca as mca\n",
    "d=bs.distributions[0]\n",
    "eset=np.uint64(1)\n",
    "bset=np.uint64(0)\n",
    "cset=np.uint64(20)\n",
    "\n",
    "stop=d.stop_time+eset+cset\n",
    "start=d.start_time+bset+cset\n",
    "bins=np.zeros((d.last_bin+1,),dtype=np.uint32)\n",
    "\n",
    "if d.value==mca.Value.raw_signal:\n",
    "    tname='raw'\n",
    "elif d.value==mca.Value.filtered_signal:\n",
    "    tname='filtered'\n",
    "elif d.value==mca.Value.slope_signal:\n",
    "    tname='slope'\n",
    "\n",
    "for i in range(start,stop):\n",
    "    s = traces[tname][i]\n",
    "    if s < d.lowest_value:\n",
    "        bins[0] += 1\n",
    "    else:\n",
    "        bin_number = s - d.lowest_value + 1\n",
    "        if bin_number < d.last_bin:\n",
    "            bins[bin_number] += 1\n",
    "        else:\n",
    "            bins[d.last_bin] += 1\n",
    "        \n",
    "bad=(bins-d.counts).nonzero()\n",
    "bad"
   ]
  },
  {
   "cell_type": "code",
   "execution_count": null,
   "metadata": {
    "collapsed": false
   },
   "outputs": [],
   "source": [
    "d.counts[bad][1:10]"
   ]
  },
  {
   "cell_type": "code",
   "execution_count": null,
   "metadata": {
    "collapsed": false
   },
   "outputs": [],
   "source": [
    "bins[bad][1:10]"
   ]
  },
  {
   "cell_type": "code",
   "execution_count": null,
   "metadata": {
    "collapsed": false
   },
   "outputs": [],
   "source": [
    "d.value"
   ]
  },
  {
   "cell_type": "code",
   "execution_count": null,
   "metadata": {
    "collapsed": false,
    "scrolled": false
   },
   "outputs": [],
   "source": [
    "%matplotlib notebook\n",
    "plt.step(np.arange(len(d.bins)),d.bins)\n",
    "# plt.step(np.arange(len(d.counts)),bins)\n",
    "plt.plot(bad,np.zeros_like(bad),'.k')"
   ]
  },
  {
   "cell_type": "code",
   "execution_count": null,
   "metadata": {
    "collapsed": false
   },
   "outputs": [],
   "source": [
    "sum(d.counts)"
   ]
  },
  {
   "cell_type": "code",
   "execution_count": null,
   "metadata": {
    "collapsed": false
   },
   "outputs": [],
   "source": [
    "2**14+2000"
   ]
  },
  {
   "cell_type": "code",
   "execution_count": null,
   "metadata": {
    "collapsed": false,
    "run_control": {
     "frozen": false,
     "read_only": false
    }
   },
   "outputs": [],
   "source": [
    "def plot_event(event_tupple):\n",
    "    pre=200\n",
    "    post=1000\n",
    "    timestamp=event_tupple[0]\n",
    "    event_type=event_tupple[1]\n",
    "    event=event_tupple[2]\n",
    "    flags=EventFlags(event['flags'])\n",
    "    print(flags)\n",
    "    print('timestamp',timestamp, 'time', event['time'])\n",
    "    if flags.type == Event.tick:\n",
    "        return\n",
    "    s=traces['filtered'][timestamp+20-pre:timestamp+20+post]\n",
    "    r=traces['raw'][timestamp+20-pre:timestamp+20+post]\n",
    "    i = np.where(abs(minmax['clk'])<=timestamp+20)[0][-1]\n",
    "    min_t=abs(minmax['clk'][i])-(timestamp+20)\n",
    "#     print(minmax['clk'][i],min_t,i,timestamp)\n",
    "    plt.plot(r,'k',linewidth=0.5)\n",
    "    plt.plot(s,'b',linewidth=2)\n",
    "    plt.plot([pre],s[pre],'sg')\n",
    "    plt.plot([pre+min_t],minmax['filtered'][i],'sr')\n",
    "    if event_type==Event.pulse:\n",
    "        for i in range(flags.peak_number):\n",
    "            p=event['peaks'][i]\n",
    "            plt.plot([0,len(s)-1],[p['height'],p['height']],':r')\n",
    "    else:\n",
    "      plt.plot([0,len(s)-1],[event['height'],event['height']],':r')\n",
    "        \n",
    "    #print(event['height'],event['minima'])\n",
    "    #print(minmax['filtered'][i]==s[pre+min_t])\n",
    "    #print(minmax['filtered'][i]==event['minima'])\n",
    "    #print(s[pre],s[pre-1])"
   ]
  },
  {
   "cell_type": "code",
   "execution_count": null,
   "metadata": {
    "collapsed": false,
    "run_control": {
     "frozen": false,
     "read_only": false
    }
   },
   "outputs": [],
   "source": [
    "pwd"
   ]
  },
  {
   "cell_type": "code",
   "execution_count": null,
   "metadata": {
    "collapsed": false
   },
   "outputs": [],
   "source": [
    "es=bs.eventstream\n",
    "es"
   ]
  },
  {
   "cell_type": "code",
   "execution_count": null,
   "metadata": {
    "collapsed": false,
    "run_control": {
     "frozen": false,
     "read_only": false
    }
   },
   "outputs": [],
   "source": [
    "%matplotlib notebook\n",
    "for e in es:\n",
    "    if e[1]==Event.peak:\n",
    "        plot_event(e)"
   ]
  },
  {
   "cell_type": "code",
   "execution_count": null,
   "metadata": {
    "collapsed": false,
    "run_control": {
     "frozen": false,
     "read_only": false
    }
   },
   "outputs": [],
   "source": [
    "es"
   ]
  },
  {
   "cell_type": "code",
   "execution_count": null,
   "metadata": {
    "collapsed": false,
    "run_control": {
     "frozen": false,
     "read_only": false
    }
   },
   "outputs": [],
   "source": [
    "dists=bs.distributions\n",
    "dists"
   ]
  },
  {
   "cell_type": "code",
   "execution_count": null,
   "metadata": {
    "collapsed": false,
    "run_control": {
     "frozen": false,
     "read_only": false
    }
   },
   "outputs": [],
   "source": [
    "bs.packets[185].payload"
   ]
  },
  {
   "cell_type": "code",
   "execution_count": null,
   "metadata": {
    "collapsed": false,
    "run_control": {
     "frozen": false,
     "read_only": false
    }
   },
   "outputs": [],
   "source": [
    "d=bs.distributions[0]\n",
    "eset=np.uint64(1)\n",
    "bset=np.uint64(0)\n",
    "cset=np.uint64(20)\n",
    "\n",
    "stop=d.stop_time+eset+cset\n",
    "start=d.start_time+bset+cset\n",
    "bins=np.zeros((d.last_bin+1,),dtype=np.uint32)\n",
    "for i in range(start,stop):\n",
    "    s = traces['raw'][i]\n",
    "    if s <= d.lowest_value:\n",
    "        bins[0] += 1\n",
    "    else:\n",
    "        bins[s-d.lowest_value] += 1\n",
    "        \n",
    "(bins-d.counts).nonzero()"
   ]
  },
  {
   "cell_type": "code",
   "execution_count": null,
   "metadata": {
    "collapsed": false,
    "run_control": {
     "frozen": false,
     "read_only": false
    }
   },
   "outputs": [],
   "source": [
    "%matplotlib notebook\n",
    "plt.step(np.arange(len(d.counts)),d.counts)"
   ]
  },
  {
   "cell_type": "code",
   "execution_count": null,
   "metadata": {
    "collapsed": false,
    "run_control": {
     "frozen": false,
     "read_only": false
    }
   },
   "outputs": [],
   "source": [
    "bins[bins.nonzero()]"
   ]
  },
  {
   "cell_type": "code",
   "execution_count": null,
   "metadata": {
    "collapsed": false,
    "run_control": {
     "frozen": false,
     "read_only": false
    }
   },
   "outputs": [],
   "source": [
    "sum(d.counts)"
   ]
  },
  {
   "cell_type": "code",
   "execution_count": null,
   "metadata": {
    "collapsed": false,
    "run_control": {
     "frozen": false,
     "read_only": false
    }
   },
   "outputs": [],
   "source": [
    "2**14+2000"
   ]
  },
  {
   "cell_type": "code",
   "execution_count": null,
   "metadata": {
    "collapsed": false,
    "run_control": {
     "frozen": false,
     "read_only": false
    }
   },
   "outputs": [],
   "source": [
    "es[3][2]['timestamp']-es[0][2]['timestamp']"
   ]
  },
  {
   "cell_type": "code",
   "execution_count": null,
   "metadata": {
    "collapsed": true,
    "run_control": {
     "frozen": false,
     "read_only": false
    }
   },
   "outputs": [],
   "source": [
    "def xings(s, thresh):\n",
    "    pos=s > thresh\n",
    "    neg=s < thresh\n",
    "    pos0=s >= thresh\n",
    "    neg0=s <= thresh\n",
    "    pos_xing_mask = np.bitwise_and(pos0[1:],neg[0:-1])  \n",
    "    neg_xing_mask = np.bitwise_and(neg0[1:],pos[0:-1])  \n",
    "    return pos_xing_mask.nonzero()[0]+1, neg_xing_mask.nonzero()[0]+1"
   ]
  },
  {
   "cell_type": "code",
   "execution_count": null,
   "metadata": {
    "collapsed": true,
    "run_control": {
     "frozen": false,
     "read_only": false
    }
   },
   "outputs": [],
   "source": [
    "from mpl_toolkits.axes_grid1 import host_subplot\n",
    "\n",
    "def plot_trace(traces,start,width):\n",
    "\n",
    "    ax = host_subplot(111)\n",
    "    axr = ax.twinx()\n",
    "    axt = ax.twiny()\n",
    "#ax.plot(t[0:-1:10],s[0:-1:10],'k')\n",
    "#ax.plot(t,s,'k')\n",
    "    axt.set_xlabel('Time ns',fontsize=18)\n",
    "    ax.set_ylabel('Voltage (Arbitary Units)',fontsize=18)\n",
    "#plt.xticks(visible=False)\n",
    "#plt.yticks(visible=False)\n",
    "#ax.set_xlim(0,t[4000000])\n",
    "#start=902000\n",
    "#width=2500\n",
    "    f=traces['filtered'][start:start+width]\n",
    "    s=traces['slope'][start:start+width]\n",
    "    t=np.arange(len(f))*4e-9\n",
    "#ts=t[pstart:pstop]\n",
    "#axins = fig.add_axes([.4, .45, .45, .4])\n",
    "    ax.set_xlim(t[0],t[-1])\n",
    "    axt.set_xlim(t[0],t[-1])\n",
    "\n",
    "    ylim=(-500,2000)\n",
    "\n",
    "    ax.set_ylim(ylim[0],ylim[1])\n",
    "    axr.set_ylim(ylim[0],ylim[1])\n",
    "\n",
    "    filtered, = ax.step(t,f,'k',lw=2,label='filtered')\n",
    "    slope, = ax.step(t,s,'b',label='slope')\n",
    "    ax.fill_between(t,0,s,alpha=.4)\n",
    "    plt.ylim=ylim\n",
    "\n",
    "pos=s>0\n",
    "neg=s<=0\n",
    "pos_xing_mask = np.bitwise_and(pos[1:-1],neg[0:-2])  \n",
    "neg_xing_mask = np.bitwise_and(neg[1:-1],pos[0:-2])  \n",
    "pos_xing=pos_xing_mask.nonzero()\n",
    "neg_xing=neg_xing_mask.nonzero()\n",
    "\n",
    "rx=[t[pos_xing[0][0]], t[neg_xing[0][0]]]\n",
    "ry=[f[pos_xing[0][0]], f[neg_xing[0][0]]]\n",
    "\n",
    "ax.fill_between(t[pos_xing[0][0]:neg_xing[0][0]],0,s[pos_xing[0][0]:neg_xing[0][0]],alpha=.4,color='r')\n",
    "\n",
    "#plt.plot(rx,[ry[0], ry[0]],'-r',lw=2)\n",
    "#plt.plot([rx[1],rx[1]], ry,'-r',lw=2)\n",
    "# thresholds\n",
    "sthresh = 600\n",
    "pthresh = 1000\n",
    "plt.plot([t[0], t[-1]], [sthresh, sthresh], '--b', lw=2)\n",
    "plt.plot([t[0], t[-1]], [pthresh, pthresh], '--k', lw=2)\n",
    "\n",
    "sthresh_xing=(s>sthresh).nonzero()[0][0]\n",
    "pthresh_xing=(f>pthresh).nonzero()[0][0]\n",
    "\n",
    "\n",
    "cf=.10\n",
    "height = ry[1]-ry[0]\n",
    "cfl=ry[0]+(height*cf)\n",
    "cfh=ry[1]-(height*cf)\n",
    "\n",
    "cfl_xing=(f>cfl).nonzero()[0][0]\n",
    "cfd_low=f[cfl_xing]\n",
    "cfh_xing=(f>cfh).nonzero()[0][0]\n",
    "cfd_high=f[cfh_xing]\n",
    "\n",
    "#plt.plot([t[cfl_xing], t[-1]],[cfd_low, cfd_low], ':r')\n",
    "#plt.plot([t[cfh_xing], t[-1]],[cfd_high, cfd_high], ':r')\n",
    "#plt.plot([x[1], t[-1]],[y[1], y[1]], ':r')\n",
    "plt.legend([filtered, slope],['Signal', 'Slope'],loc=2)\n",
    "\n",
    "#axr = ax.twinx()\n",
    "##################################################################\n",
    "#yticks=([ry[0],sthresh,pthresh,cfd_high,ry[1]])\n",
    "yticks=([sthresh,pthresh])\n",
    "axr.set_yticks(yticks)\n",
    "#yticklabels=['Start','Slope threshold','Pulse threshold','CF high','Peak']\n",
    "yticklabels=['Slope threshold','Pulse threshold']\n",
    "axr.set_yticklabels(yticklabels, color='r',fontsize=14)\n",
    "axr.get_yticklabels()[0].set_color('b')\n",
    "axr.get_yticklabels()[1].set_color('k')\n",
    "\n",
    "#xticks=([rx[0],t[cfl_xing],t[sthresh_xing],t[pthresh_xing],rx[1]])\n",
    "xticks=(t[cfl_xing],rx[1])\n",
    "#ax.set_xticks([rx[0],t[cfl_xing],t[sthresh_xing],t[pthresh_xing],rx[1]])\n",
    "ax.set_xticks(xticks)\n",
    "#xticklabels=['Start','CF low','Slope xing','Signal xing','Peak']\n",
    "xticklabels=['CF low','Peak']\n",
    "ax.set_xticklabels(xticklabels, color='r',fontsize=14)\n",
    "\n",
    "#plt.plot([t[cfh_xing], t[-1]],[cfd_high, cfd_high], ':r')\n",
    "#horoz start, stop lines\n",
    "#hpeak=ax.plot([xticks[1], t[-1]],[yticks[-1], yticks[-1]], '-.r')\n",
    "#hstart=ax.plot([xticks[0], t[-1]],[yticks[0], yticks[0]], '-.r')\n",
    "#vert start stop\n",
    "vstart=ax.plot([xticks[0], xticks[0]],[cfd_low, ylim[0]], '-.r')\n",
    "vpeak=ax.plot([xticks[1], xticks[1]],[ylim[0], ry[1]], '-.r')\n",
    "\n",
    "plt.tight_layout()\n",
    "plt.savefig('..//peakextraction7.svg')\n",
    "plt.show()\n",
    "print('risetime:',(xticks[1]-xticks[0])/4)\n",
    "print('height:',yticks[-1]-yticks[0])\n",
    "print('time:',(xticks[0]-rx[0])/4)\n",
    "print('area',sum(s[pos_xing[0][0]:neg_xing[0][0]])/256)\n"
   ]
  },
  {
   "cell_type": "code",
   "execution_count": null,
   "metadata": {
    "collapsed": true,
    "run_control": {
     "frozen": false,
     "read_only": false
    }
   },
   "outputs": [],
   "source": [
    "slope_0xings = xings(traces['slope'],0)"
   ]
  },
  {
   "cell_type": "code",
   "execution_count": null,
   "metadata": {
    "collapsed": false,
    "run_control": {
     "frozen": false,
     "read_only": false
    }
   },
   "outputs": [],
   "source": [
    "slope_0xings"
   ]
  },
  {
   "cell_type": "code",
   "execution_count": null,
   "metadata": {
    "collapsed": false,
    "run_control": {
     "frozen": false,
     "read_only": false
    }
   },
   "outputs": [],
   "source": [
    "%matplotlib notebook\n",
    "start=10000\n",
    "width=300\n",
    "plt.plot(traces['filtered'][start:start+width]/2)"
   ]
  },
  {
   "cell_type": "code",
   "execution_count": null,
   "metadata": {
    "collapsed": false,
    "run_control": {
     "frozen": false,
     "read_only": false
    }
   },
   "outputs": [],
   "source": [
    "%matplotlib notebook\n",
    "plt.plot(traces['slope'][20400:21700])"
   ]
  },
  {
   "cell_type": "code",
   "execution_count": null,
   "metadata": {
    "collapsed": false,
    "run_control": {
     "frozen": false,
     "read_only": false
    }
   },
   "outputs": [],
   "source": [
    "filtered=traces['filtered'][1100:]\n",
    "filteredL=traces['filteredL'][1100:]"
   ]
  },
  {
   "cell_type": "code",
   "execution_count": null,
   "metadata": {
    "collapsed": false,
    "run_control": {
     "frozen": false,
     "read_only": false
    }
   },
   "outputs": [],
   "source": [
    "filtered[:10]"
   ]
  },
  {
   "cell_type": "code",
   "execution_count": null,
   "metadata": {
    "collapsed": false,
    "run_control": {
     "frozen": false,
     "read_only": false
    }
   },
   "outputs": [],
   "source": [
    "filteredL[:10]/4"
   ]
  },
  {
   "cell_type": "code",
   "execution_count": null,
   "metadata": {
    "collapsed": false,
    "run_control": {
     "frozen": false,
     "read_only": false
    }
   },
   "outputs": [],
   "source": [
    "minmax_dt=np.dtype([('filtered','i4'),('low','i4'),('high','i4'),('clk','i4')])\n",
    "minmax=Data.fromfile('minmax',minmax_dt,'teslib','measurement_subsystem_TB',tool='vivado')\n",
    "fxing_dt=np.dtype([('extrema','i4'),('area','i4'),('clk','i4')])\n",
    "fxing=Data.fromfile('filteredxing',fxing_dt,'teslib','measurement_subsystem_TB',tool='vivado')"
   ]
  },
  {
   "cell_type": "code",
   "execution_count": null,
   "metadata": {
    "collapsed": false,
    "run_control": {
     "frozen": false,
     "read_only": false
    }
   },
   "outputs": [],
   "source": [
    "minmax"
   ]
  },
  {
   "cell_type": "code",
   "execution_count": null,
   "metadata": {
    "collapsed": false,
    "run_control": {
     "frozen": false,
     "read_only": false
    }
   },
   "outputs": [],
   "source": [
    "fxing"
   ]
  },
  {
   "cell_type": "code",
   "execution_count": null,
   "metadata": {
    "collapsed": false,
    "run_control": {
     "frozen": false,
     "read_only": false
    }
   },
   "outputs": [],
   "source": [
    "np.where(fxing['area']==0)"
   ]
  },
  {
   "cell_type": "code",
   "execution_count": null,
   "metadata": {
    "collapsed": false,
    "run_control": {
     "frozen": false,
     "read_only": false
    }
   },
   "outputs": [],
   "source": [
    "np.where(fxing['extrema']==0)"
   ]
  },
  {
   "cell_type": "code",
   "execution_count": null,
   "metadata": {
    "collapsed": false,
    "run_control": {
     "frozen": false,
     "read_only": false
    }
   },
   "outputs": [],
   "source": [
    "fxing[30]"
   ]
  },
  {
   "cell_type": "code",
   "execution_count": null,
   "metadata": {
    "collapsed": false,
    "run_control": {
     "frozen": false,
     "read_only": false
    }
   },
   "outputs": [],
   "source": [
    "exn=np.where(fxing['extrema']<0)\n",
    "clkn=np.where(fxing['clk']>0)"
   ]
  },
  {
   "cell_type": "code",
   "execution_count": null,
   "metadata": {
    "collapsed": true,
    "run_control": {
     "frozen": false,
     "read_only": false
    }
   },
   "outputs": [],
   "source": []
  },
  {
   "cell_type": "code",
   "execution_count": null,
   "metadata": {
    "collapsed": false,
    "run_control": {
     "frozen": false,
     "read_only": false
    }
   },
   "outputs": [],
   "source": [
    "fxing[374]"
   ]
  },
  {
   "cell_type": "code",
   "execution_count": null,
   "metadata": {
    "collapsed": false,
    "run_control": {
     "frozen": false,
     "read_only": false
    }
   },
   "outputs": [],
   "source": [
    "clkn"
   ]
  },
  {
   "cell_type": "code",
   "execution_count": null,
   "metadata": {
    "collapsed": false,
    "run_control": {
     "frozen": false,
     "read_only": false
    }
   },
   "outputs": [],
   "source": [
    "np.where(minmax[maxs[0]-1]['min']!=1)"
   ]
  },
  {
   "cell_type": "code",
   "execution_count": null,
   "metadata": {
    "collapsed": false,
    "run_control": {
     "frozen": false,
     "read_only": false
    }
   },
   "outputs": [],
   "source": [
    "minmax[maxs[0]-1][65]"
   ]
  },
  {
   "cell_type": "code",
   "execution_count": null,
   "metadata": {
    "collapsed": false,
    "run_control": {
     "frozen": false,
     "read_only": false
    }
   },
   "outputs": [],
   "source": [
    "2290-925"
   ]
  },
  {
   "cell_type": "code",
   "execution_count": null,
   "metadata": {
    "collapsed": false,
    "run_control": {
     "frozen": false,
     "read_only": false
    }
   },
   "outputs": [],
   "source": [
    "0.375*4"
   ]
  },
  {
   "cell_type": "code",
   "execution_count": null,
   "metadata": {
    "collapsed": false,
    "run_control": {
     "frozen": false,
     "read_only": false
    }
   },
   "outputs": [],
   "source": [
    "np.where(minmax['clock']==2290)"
   ]
  },
  {
   "cell_type": "code",
   "execution_count": null,
   "metadata": {
    "collapsed": false,
    "run_control": {
     "frozen": false,
     "read_only": false
    }
   },
   "outputs": [],
   "source": [
    "minmax[120:140]"
   ]
  },
  {
   "cell_type": "code",
   "execution_count": null,
   "metadata": {
    "collapsed": false,
    "run_control": {
     "frozen": false,
     "read_only": false
    }
   },
   "outputs": [],
   "source": [
    "stream_dt=np.dtype([('data','>i4'),('last','i4')])\n",
    "#stream=np.fromfile('data/stream',stream_dt)"
   ]
  },
  {
   "cell_type": "markdown",
   "metadata": {},
   "source": [
    "### bytestream stuff"
   ]
  },
  {
   "cell_type": "code",
   "execution_count": null,
   "metadata": {
    "collapsed": false,
    "run_control": {
     "frozen": false,
     "read_only": false
    }
   },
   "outputs": [],
   "source": [
    "stream_dt=np.dtype([('data','i4'),('last','i4')])\n",
    "stream=Data.fromfile('bytestream',stream_dt,'teslib','measurement_subsystem_TB',tool='vivado')\n",
    "lasts=np.where(stream['last']<=0)[0]+1\n",
    "#data=np.copy(stream['data'])"
   ]
  },
  {
   "cell_type": "code",
   "execution_count": null,
   "metadata": {
    "collapsed": false,
    "run_control": {
     "frozen": false,
     "read_only": false
    }
   },
   "outputs": [],
   "source": [
    "stream"
   ]
  },
  {
   "cell_type": "code",
   "execution_count": null,
   "metadata": {
    "collapsed": true,
    "run_control": {
     "frozen": false,
     "read_only": false
    }
   },
   "outputs": [],
   "source": []
  },
  {
   "cell_type": "code",
   "execution_count": null,
   "metadata": {
    "collapsed": true,
    "run_control": {
     "frozen": false,
     "read_only": false
    }
   },
   "outputs": [],
   "source": [
    "stream=np.fromfile('data/bytestream',stream_dt)"
   ]
  },
  {
   "cell_type": "code",
   "execution_count": null,
   "metadata": {
    "collapsed": false,
    "run_control": {
     "frozen": false,
     "read_only": false
    }
   },
   "outputs": [],
   "source": [
    "bs=PacketStream(stream)"
   ]
  },
  {
   "cell_type": "code",
   "execution_count": null,
   "metadata": {
    "collapsed": false,
    "run_control": {
     "frozen": false,
     "read_only": false
    }
   },
   "outputs": [],
   "source": [
    "bs.packets"
   ]
  },
  {
   "cell_type": "code",
   "execution_count": null,
   "metadata": {
    "collapsed": false,
    "run_control": {
     "frozen": false,
     "read_only": false
    }
   },
   "outputs": [],
   "source": [
    "bs.packets[4]"
   ]
  },
  {
   "cell_type": "code",
   "execution_count": null,
   "metadata": {
    "collapsed": true,
    "run_control": {
     "frozen": false,
     "read_only": false
    }
   },
   "outputs": [],
   "source": [
    "eheader_dt=[('etype','<u2'),('length','u2'),()]"
   ]
  },
  {
   "cell_type": "code",
   "execution_count": null,
   "metadata": {
    "collapsed": false,
    "run_control": {
     "frozen": false,
     "read_only": false
    }
   },
   "outputs": [],
   "source": [
    "'{:X}'.format(bs.packets[1].bytes[23])\n"
   ]
  },
  {
   "cell_type": "code",
   "execution_count": null,
   "metadata": {
    "collapsed": false,
    "run_control": {
     "frozen": false,
     "read_only": false
    }
   },
   "outputs": [],
   "source": [
    "'{:X}'.format(bs.packets[0].bytes[28:30].view(np.uint16)[0])"
   ]
  },
  {
   "cell_type": "code",
   "execution_count": null,
   "metadata": {
    "collapsed": true,
    "run_control": {
     "frozen": false,
     "read_only": false
    }
   },
   "outputs": [],
   "source": [
    "pulse_peak_dt=np.dtype([('height','i2'),('rise','i2'),('minima','u2'),('time','i2')])\n",
    "pulse_dt=np.dtype([('size','i2'),('resv','i2'),('flags','i2'),('time','u2'),\n",
    "                  ('area','i4'),('length','i2'),('offset','i2'),('peaks',(pulse_peak_dt,2))])"
   ]
  },
  {
   "cell_type": "code",
   "execution_count": null,
   "metadata": {
    "collapsed": false,
    "run_control": {
     "frozen": false,
     "read_only": false
    }
   },
   "outputs": [],
   "source": [
    "pulses=bs.packets[3].payload.view(pulse_dt)"
   ]
  },
  {
   "cell_type": "code",
   "execution_count": null,
   "metadata": {
    "collapsed": false,
    "run_control": {
     "frozen": false,
     "read_only": false
    }
   },
   "outputs": [],
   "source": [
    "pulses['peaks']"
   ]
  },
  {
   "cell_type": "code",
   "execution_count": null,
   "metadata": {
    "collapsed": false,
    "run_control": {
     "frozen": false,
     "read_only": false
    }
   },
   "outputs": [],
   "source": [
    "pulses['offset']"
   ]
  },
  {
   "cell_type": "code",
   "execution_count": null,
   "metadata": {
    "collapsed": false,
    "run_control": {
     "frozen": false,
     "read_only": false
    }
   },
   "outputs": [],
   "source": [
    "pulses['length']"
   ]
  },
  {
   "cell_type": "code",
   "execution_count": null,
   "metadata": {
    "collapsed": false,
    "run_control": {
     "frozen": false,
     "read_only": false
    }
   },
   "outputs": [],
   "source": [
    "class eflags:\n",
    "    def __init__(self,uint16):\n",
    "        self.new_window=np.bitwise_and(uint16,0x00000001)!=0\n",
    "        self.tick=np.bitwise_and(uint16,0x00000002)!=0\n",
    "        self.type=np.right_shift(np.bitwise_and(uint16,0x0000000c),2)\n",
    "        \n",
    "    def __repr__(self):\n",
    "        return 'New window:{:}\\n'.format(self.new_window) + \\\n",
    "               'Tick:{:}\\n'.format(self.tick) + \\\n",
    "               'Type:{:}\\n'.format(self.type) "
   ]
  },
  {
   "cell_type": "code",
   "execution_count": null,
   "metadata": {
    "collapsed": false,
    "run_control": {
     "frozen": false,
     "read_only": false
    }
   },
   "outputs": [],
   "source": [
    "f=eflags(pulses[0]['flags'])\n",
    "f"
   ]
  },
  {
   "cell_type": "code",
   "execution_count": null,
   "metadata": {
    "collapsed": false,
    "run_control": {
     "frozen": false,
     "read_only": false
    }
   },
   "outputs": [],
   "source": [
    "'{:X}'.format(bs.packets[3].bytes[13:14].view(np.uint16))"
   ]
  },
  {
   "cell_type": "code",
   "execution_count": null,
   "metadata": {
    "collapsed": true,
    "run_control": {
     "frozen": false,
     "read_only": false
    }
   },
   "outputs": [],
   "source": []
  },
  {
   "cell_type": "code",
   "execution_count": null,
   "metadata": {
    "collapsed": false,
    "run_control": {
     "frozen": false,
     "read_only": false
    }
   },
   "outputs": [],
   "source": [
    "'{:X}'.format(bs.packets[3].bytes[14:16].view(np.uint16)[0])"
   ]
  },
  {
   "cell_type": "code",
   "execution_count": null,
   "metadata": {
    "collapsed": false,
    "run_control": {
     "frozen": false,
     "read_only": false
    }
   },
   "outputs": [],
   "source": [
    "bs.packets[3].bytes[14:16].view(np.uint16)[0]"
   ]
  },
  {
   "cell_type": "code",
   "execution_count": null,
   "metadata": {
    "collapsed": false,
    "run_control": {
     "frozen": false,
     "read_only": false
    }
   },
   "outputs": [],
   "source": [
    "bs=np.uint8(stream['data'][:48])"
   ]
  },
  {
   "cell_type": "code",
   "execution_count": null,
   "metadata": {
    "collapsed": false,
    "run_control": {
     "frozen": false,
     "read_only": false
    }
   },
   "outputs": [],
   "source": [
    "bs"
   ]
  },
  {
   "cell_type": "code",
   "execution_count": null,
   "metadata": {
    "collapsed": false,
    "run_control": {
     "frozen": false,
     "read_only": false
    }
   },
   "outputs": [],
   "source": [
    "events=stream['data'].view(event_dt)"
   ]
  },
  {
   "cell_type": "code",
   "execution_count": null,
   "metadata": {
    "collapsed": false,
    "run_control": {
     "frozen": false,
     "read_only": false
    }
   },
   "outputs": [],
   "source": [
    "'{:X}'.format(events['flags'][0])"
   ]
  },
  {
   "cell_type": "code",
   "execution_count": null,
   "metadata": {
    "collapsed": false,
    "run_control": {
     "frozen": false,
     "read_only": false
    }
   },
   "outputs": [],
   "source": [
    "events['rise']"
   ]
  },
  {
   "cell_type": "code",
   "execution_count": null,
   "metadata": {
    "collapsed": false,
    "run_control": {
     "frozen": false,
     "read_only": false
    }
   },
   "outputs": [],
   "source": [
    "events"
   ]
  },
  {
   "cell_type": "code",
   "execution_count": null,
   "metadata": {
    "collapsed": false,
    "run_control": {
     "frozen": false,
     "read_only": false
    }
   },
   "outputs": [],
   "source": [
    "'{:04X}'.format(events['flags'][1])"
   ]
  },
  {
   "cell_type": "code",
   "execution_count": null,
   "metadata": {
    "collapsed": true,
    "run_control": {
     "frozen": false,
     "read_only": false
    }
   },
   "outputs": [],
   "source": [
    "pulse_peak_dt=np.dtype([('time','>i2'),('minima','>i2'),('rise','>u2'),('height','>i2')])\n",
    "pulse_dt=np.dtype([('time','>i2'),('flags','>i2'),('resv','>i2'),('size','>u2'),\n",
    "                  ('offset','>i2'),('length','>i2'),('area','>i4'),('peaks',(pulse_peak_dt,1))])\n",
    "data=np.copy(stream['data'])"
   ]
  },
  {
   "cell_type": "code",
   "execution_count": null,
   "metadata": {
    "collapsed": false,
    "run_control": {
     "frozen": false,
     "read_only": false
    }
   },
   "outputs": [],
   "source": [
    "pulses=data.view(pulse_dt)"
   ]
  },
  {
   "cell_type": "code",
   "execution_count": null,
   "metadata": {
    "collapsed": false,
    "run_control": {
     "frozen": false,
     "read_only": false
    }
   },
   "outputs": [],
   "source": [
    "pulses['peaks']['height']-pulses['peaks']['minima']"
   ]
  },
  {
   "cell_type": "code",
   "execution_count": null,
   "metadata": {
    "collapsed": false,
    "run_control": {
     "frozen": false,
     "read_only": false
    }
   },
   "outputs": [],
   "source": [
    "pulses['peaks']['minima']"
   ]
  },
  {
   "cell_type": "code",
   "execution_count": null,
   "metadata": {
    "collapsed": false,
    "run_control": {
     "frozen": false,
     "read_only": false
    }
   },
   "outputs": [],
   "source": [
    "peak_count=np.right_shift(np.bitwise_and(pulses['flags'],0xF000),12)\n",
    "peak_overflow=np.bitwise_and(pulses['flags'],0x0800)!=0\n",
    "channel=np.right_shift(np.bitwise_and(pulses['flags'],0x0700),8)\n",
    "timing_type=np.right_shift(np.bitwise_and(pulses['flags'],0x00C0),6)\n",
    "height_type=np.right_shift(np.bitwise_and(pulses['flags'],0x0030),4)\n",
    "event_type=np.right_shift(np.bitwise_and(pulses['flags'],0x000E),1)\n",
    "new_window=np.bitwise_and(pulses['flags'],0x0001)!=0"
   ]
  },
  {
   "cell_type": "code",
   "execution_count": null,
   "metadata": {
    "collapsed": false,
    "run_control": {
     "frozen": false,
     "read_only": false
    }
   },
   "outputs": [],
   "source": [
    "peak_overflow"
   ]
  },
  {
   "cell_type": "code",
   "execution_count": null,
   "metadata": {
    "collapsed": true,
    "run_control": {
     "frozen": false,
     "read_only": false
    }
   },
   "outputs": [],
   "source": [
    "test_dt=np.dtype(\n",
    "    [('time','i2'),('flags','i2'),('rise','u2'),('minima','i2'),('low','u8'),('high','u8')]\n",
    ")\n",
    "test=data.view(test_dt)"
   ]
  },
  {
   "cell_type": "code",
   "execution_count": null,
   "metadata": {
    "collapsed": false,
    "run_control": {
     "frozen": false,
     "read_only": false
    }
   },
   "outputs": [],
   "source": [
    "test"
   ]
  },
  {
   "cell_type": "code",
   "execution_count": null,
   "metadata": {
    "collapsed": false,
    "run_control": {
     "frozen": false,
     "read_only": false
    }
   },
   "outputs": [],
   "source": [
    "test['minima']"
   ]
  },
  {
   "cell_type": "code",
   "execution_count": null,
   "metadata": {
    "collapsed": false,
    "run_control": {
     "frozen": false,
     "read_only": false
    }
   },
   "outputs": [],
   "source": [
    "low1=np.int32(np.right_shift(np.bitwise_and(test['low'],0x03FFFF000000000),36))\n",
    "s=(np.bitwise_and(low1,0x00020000)!=0)*0xFFFC0000\n",
    "low2=np.int32(np.right_shift(np.bitwise_and(test['low'],0x000000FFFFC0000),18))\n",
    "low_threshold=np.int32(np.bitwise_and(test['low'],0x00000000003FFFF))\n",
    "high1=np.int32(np.right_shift(np.bitwise_and(test['high'],0x03FFFF000000000),36))\n",
    "high2=np.int32(np.right_shift(np.bitwise_and(test['high'],0x000000FFFFC0000),18))\n",
    "high_threshold=np.int32(np.bitwise_and(test['high'],0x00000000003FFFF))"
   ]
  },
  {
   "cell_type": "code",
   "execution_count": null,
   "metadata": {
    "collapsed": false,
    "run_control": {
     "frozen": false,
     "read_only": false
    }
   },
   "outputs": [],
   "source": [
    "np.int32(np.bitwise_or(low1,s))/8.0"
   ]
  },
  {
   "cell_type": "code",
   "execution_count": null,
   "metadata": {
    "collapsed": false,
    "run_control": {
     "frozen": false,
     "read_only": false
    }
   },
   "outputs": [],
   "source": [
    "'{:04X}'.format(low1[0])"
   ]
  },
  {
   "cell_type": "code",
   "execution_count": null,
   "metadata": {
    "collapsed": false,
    "run_control": {
     "frozen": false,
     "read_only": false
    }
   },
   "outputs": [],
   "source": [
    "high1/8.0"
   ]
  },
  {
   "cell_type": "code",
   "execution_count": null,
   "metadata": {
    "collapsed": false,
    "run_control": {
     "frozen": false,
     "read_only": false
    }
   },
   "outputs": [],
   "source": [
    "high2/8.0"
   ]
  },
  {
   "cell_type": "code",
   "execution_count": null,
   "metadata": {
    "collapsed": false,
    "run_control": {
     "frozen": false,
     "read_only": false
    }
   },
   "outputs": [],
   "source": [
    "'{:04X}'.format(high_threshold[0])"
   ]
  },
  {
   "cell_type": "code",
   "execution_count": null,
   "metadata": {
    "collapsed": false,
    "run_control": {
     "frozen": false,
     "read_only": false
    }
   },
   "outputs": [],
   "source": [
    "from enum import Enum"
   ]
  },
  {
   "cell_type": "code",
   "execution_count": null,
   "metadata": {
    "collapsed": false,
    "run_control": {
     "frozen": false,
     "read_only": false
    }
   },
   "outputs": [],
   "source": [
    "class VhdlEnum(int, Enum):\n",
    "\n",
    "    def __str__(self):\n",
    "        return self.name.replace(\"-\", \" \")\n",
    "    \n",
    "    def select(self):\n",
    "        return pow(2, self.value)\n",
    "    "
   ]
  },
  {
   "cell_type": "code",
   "execution_count": null,
   "metadata": {
    "collapsed": false,
    "run_control": {
     "frozen": false,
     "read_only": false
    }
   },
   "outputs": [],
   "source": [
    "class Test(VhdlEnum):\n",
    "    a=0\n",
    "    b=1"
   ]
  },
  {
   "cell_type": "code",
   "execution_count": null,
   "metadata": {
    "collapsed": false,
    "run_control": {
     "frozen": false,
     "read_only": false
    }
   },
   "outputs": [],
   "source": [
    "Test(0)"
   ]
  },
  {
   "cell_type": "code",
   "execution_count": null,
   "metadata": {
    "collapsed": true,
    "run_control": {
     "frozen": false,
     "read_only": false
    }
   },
   "outputs": [],
   "source": []
  }
 ],
 "metadata": {
  "anaconda-cloud": {},
  "kernelspec": {
   "display_name": "Python [conda root]",
   "language": "python",
   "name": "conda-root-py"
  },
  "language_info": {
   "codemirror_mode": {
    "name": "ipython",
    "version": 3
   },
   "file_extension": ".py",
   "mimetype": "text/x-python",
   "name": "python",
   "nbconvert_exporter": "python",
   "pygments_lexer": "ipython3",
   "version": "3.5.3"
  }
 },
 "nbformat": 4,
 "nbformat_minor": 1
}
