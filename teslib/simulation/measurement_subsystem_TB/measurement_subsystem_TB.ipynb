{
 "cells": [
  {
   "cell_type": "markdown",
   "metadata": {},
   "source": [
    "timestamp 0 => clk 20\n",
    "\n",
    "traces start at clk 1"
   ]
  },
  {
   "cell_type": "code",
   "execution_count": 1,
   "metadata": {
    "collapsed": true,
    "run_control": {
     "frozen": false,
     "read_only": false
    }
   },
   "outputs": [],
   "source": [
    "from tes.data import Data,PacketStream,Packet,Payload,EventFlags,Event\n",
    "from tes.hdf5 import _PacketData, _import\n",
    "import numpy as np\n",
    "import matplotlib.pyplot as plt\n",
    "from subprocess import Popen\n",
    "\n",
    "import logging\n",
    "import sys\n",
    "logger = logging.getLogger('tes')\n",
    "logger.setLevel(logging.DEBUG)\n",
    "handler = logging.StreamHandler(sys.stderr)\n",
    "formatter = logging.Formatter('%(name)s:%(levelname)s %(message)s')\n",
    "handler.setFormatter(formatter)\n",
    "logger.handlers = [handler]\n",
    "\n",
    "trace_dt=np.dtype([('raw','i4'),('filtered','i4'),('slope','i4')])\n",
    "stream_dt=np.dtype([('data','i4'),('last','i4')])\n",
    "# minmax_dt=np.dtype(\n",
    "#     [\n",
    "#         ('filtered','i4'),('timing_threshold','i4'),\n",
    "#         ('height_threshold','i4'),('slope_extrema','i4'),('slope_area','i4'),('clk','i4')\n",
    "#     ]\n",
    "# )\n",
    "# cfd_dt=np.dtype('i4')\n",
    "# filteredxing_dt=np.dtype([('extrema','i4'),('area','i4'),('clk','i4')])"
   ]
  },
  {
   "cell_type": "code",
   "execution_count": null,
   "metadata": {
    "collapsed": true,
    "run_control": {
     "frozen": false,
     "read_only": false
    },
    "scrolled": false
   },
   "outputs": [],
   "source": [
    "%matplotlib notebook\n",
    "traces=Data.fromfile('traces',trace_dt,'teslib','measurement_subsystem_TB',tool='vivado')\n",
    "plt.plot(traces['slope'][1100:],'r',linewidth=1)\n",
    "plt.plot(traces['raw'][1100:],linewidth=0.5)\n",
    "plt.plot(traces['filtered'][1100:],'k',linewidth=2)"
   ]
  },
  {
   "cell_type": "code",
   "execution_count": 53,
   "metadata": {},
   "outputs": [
    {
     "name": "stdout",
     "output_type": "stream",
     "text": [
      "found average_trace 255\n"
     ]
    }
   ],
   "source": [
    "i=0\n",
    "for f in frames:\n",
    "    ptype = Payload.from_frame(f)\n",
    "    if ptype != Payload.trace and ptype != Payload.tick and ptype!=Payload.mca:\n",
    "        print('found',ptype, i)\n",
    "        break\n",
    "    else:\n",
    "        i += 1\n",
    "#     fbytes[16:24].view(protocol_header_dt)"
   ]
  },
  {
   "cell_type": "code",
   "execution_count": null,
   "metadata": {},
   "outputs": [],
   "source": [
    "Payload.from_frame(f)"
   ]
  },
  {
   "cell_type": "code",
   "execution_count": 72,
   "metadata": {
    "scrolled": true
   },
   "outputs": [
    {
     "name": "stderr",
     "output_type": "stream",
     "text": [
      "tes.hdf5:DEBUG PacketData: from ndarray\n",
      "tes.hdf5:DEBUG PacketData: from ndarray\n",
      "tes.hdf5:INFO import:pass 1: calculating sizes for hdf5 pre-allocation\n",
      "tes.hdf5:INFO import:pass 1:found 135504 bytes in 3107 frames 0 sequence errors.\n",
      "tes.hdf5:DEBUG tick frames: 528 data bytes in 22 frames\n",
      "tes.hdf5:DEBUG event frames: 81168 data bytes in 2805 frames\n",
      "tes.hdf5:DEBUG MCA frames: 28952 data bytes in 280 frames\n",
      "tes.hdf5:DEBUG unidentified frames: 0 bytes in 0 frames\n",
      "tes.hdf5:DEBUG MCA distributions:7  traces:122\n",
      "tes.hdf5:INFO import:pass 2:importing data\n"
     ]
    }
   ],
   "source": [
    "import h5py\n",
    "from tes.hdf5 import Trace, Hdf5, protocol_header_dt\n",
    "from tes.base import Payload\n",
    "stream=Data.fromfile('bytestream',stream_dt,'teslib','measurement_subsystem_TB',tool='vivado')\n",
    "frames=_PacketData(stream)\n",
    "# del stream\n",
    "# _import(packets)\n",
    "# h=h5py.File('TES.hdf5','r')\n",
    "h=Hdf5('TES.hdf5',stream)\n",
    "# del stream"
   ]
  },
  {
   "cell_type": "code",
   "execution_count": 71,
   "metadata": {
    "collapsed": true
   },
   "outputs": [],
   "source": [
    "h.close()"
   ]
  },
  {
   "cell_type": "code",
   "execution_count": 68,
   "metadata": {},
   "outputs": [
    {
     "data": {
      "application/javascript": [
       "/* Put everything inside the global mpl namespace */\n",
       "window.mpl = {};\n",
       "\n",
       "\n",
       "mpl.get_websocket_type = function() {\n",
       "    if (typeof(WebSocket) !== 'undefined') {\n",
       "        return WebSocket;\n",
       "    } else if (typeof(MozWebSocket) !== 'undefined') {\n",
       "        return MozWebSocket;\n",
       "    } else {\n",
       "        alert('Your browser does not have WebSocket support.' +\n",
       "              'Please try Chrome, Safari or Firefox ≥ 6. ' +\n",
       "              'Firefox 4 and 5 are also supported but you ' +\n",
       "              'have to enable WebSockets in about:config.');\n",
       "    };\n",
       "}\n",
       "\n",
       "mpl.figure = function(figure_id, websocket, ondownload, parent_element) {\n",
       "    this.id = figure_id;\n",
       "\n",
       "    this.ws = websocket;\n",
       "\n",
       "    this.supports_binary = (this.ws.binaryType != undefined);\n",
       "\n",
       "    if (!this.supports_binary) {\n",
       "        var warnings = document.getElementById(\"mpl-warnings\");\n",
       "        if (warnings) {\n",
       "            warnings.style.display = 'block';\n",
       "            warnings.textContent = (\n",
       "                \"This browser does not support binary websocket messages. \" +\n",
       "                    \"Performance may be slow.\");\n",
       "        }\n",
       "    }\n",
       "\n",
       "    this.imageObj = new Image();\n",
       "\n",
       "    this.context = undefined;\n",
       "    this.message = undefined;\n",
       "    this.canvas = undefined;\n",
       "    this.rubberband_canvas = undefined;\n",
       "    this.rubberband_context = undefined;\n",
       "    this.format_dropdown = undefined;\n",
       "\n",
       "    this.image_mode = 'full';\n",
       "\n",
       "    this.root = $('<div/>');\n",
       "    this._root_extra_style(this.root)\n",
       "    this.root.attr('style', 'display: inline-block');\n",
       "\n",
       "    $(parent_element).append(this.root);\n",
       "\n",
       "    this._init_header(this);\n",
       "    this._init_canvas(this);\n",
       "    this._init_toolbar(this);\n",
       "\n",
       "    var fig = this;\n",
       "\n",
       "    this.waiting = false;\n",
       "\n",
       "    this.ws.onopen =  function () {\n",
       "            fig.send_message(\"supports_binary\", {value: fig.supports_binary});\n",
       "            fig.send_message(\"send_image_mode\", {});\n",
       "            if (mpl.ratio != 1) {\n",
       "                fig.send_message(\"set_dpi_ratio\", {'dpi_ratio': mpl.ratio});\n",
       "            }\n",
       "            fig.send_message(\"refresh\", {});\n",
       "        }\n",
       "\n",
       "    this.imageObj.onload = function() {\n",
       "            if (fig.image_mode == 'full') {\n",
       "                // Full images could contain transparency (where diff images\n",
       "                // almost always do), so we need to clear the canvas so that\n",
       "                // there is no ghosting.\n",
       "                fig.context.clearRect(0, 0, fig.canvas.width, fig.canvas.height);\n",
       "            }\n",
       "            fig.context.drawImage(fig.imageObj, 0, 0);\n",
       "        };\n",
       "\n",
       "    this.imageObj.onunload = function() {\n",
       "        this.ws.close();\n",
       "    }\n",
       "\n",
       "    this.ws.onmessage = this._make_on_message_function(this);\n",
       "\n",
       "    this.ondownload = ondownload;\n",
       "}\n",
       "\n",
       "mpl.figure.prototype._init_header = function() {\n",
       "    var titlebar = $(\n",
       "        '<div class=\"ui-dialog-titlebar ui-widget-header ui-corner-all ' +\n",
       "        'ui-helper-clearfix\"/>');\n",
       "    var titletext = $(\n",
       "        '<div class=\"ui-dialog-title\" style=\"width: 100%; ' +\n",
       "        'text-align: center; padding: 3px;\"/>');\n",
       "    titlebar.append(titletext)\n",
       "    this.root.append(titlebar);\n",
       "    this.header = titletext[0];\n",
       "}\n",
       "\n",
       "\n",
       "\n",
       "mpl.figure.prototype._canvas_extra_style = function(canvas_div) {\n",
       "\n",
       "}\n",
       "\n",
       "\n",
       "mpl.figure.prototype._root_extra_style = function(canvas_div) {\n",
       "\n",
       "}\n",
       "\n",
       "mpl.figure.prototype._init_canvas = function() {\n",
       "    var fig = this;\n",
       "\n",
       "    var canvas_div = $('<div/>');\n",
       "\n",
       "    canvas_div.attr('style', 'position: relative; clear: both; outline: 0');\n",
       "\n",
       "    function canvas_keyboard_event(event) {\n",
       "        return fig.key_event(event, event['data']);\n",
       "    }\n",
       "\n",
       "    canvas_div.keydown('key_press', canvas_keyboard_event);\n",
       "    canvas_div.keyup('key_release', canvas_keyboard_event);\n",
       "    this.canvas_div = canvas_div\n",
       "    this._canvas_extra_style(canvas_div)\n",
       "    this.root.append(canvas_div);\n",
       "\n",
       "    var canvas = $('<canvas/>');\n",
       "    canvas.addClass('mpl-canvas');\n",
       "    canvas.attr('style', \"left: 0; top: 0; z-index: 0; outline: 0\")\n",
       "\n",
       "    this.canvas = canvas[0];\n",
       "    this.context = canvas[0].getContext(\"2d\");\n",
       "\n",
       "    var backingStore = this.context.backingStorePixelRatio ||\n",
       "\tthis.context.webkitBackingStorePixelRatio ||\n",
       "\tthis.context.mozBackingStorePixelRatio ||\n",
       "\tthis.context.msBackingStorePixelRatio ||\n",
       "\tthis.context.oBackingStorePixelRatio ||\n",
       "\tthis.context.backingStorePixelRatio || 1;\n",
       "\n",
       "    mpl.ratio = (window.devicePixelRatio || 1) / backingStore;\n",
       "\n",
       "    var rubberband = $('<canvas/>');\n",
       "    rubberband.attr('style', \"position: absolute; left: 0; top: 0; z-index: 1;\")\n",
       "\n",
       "    var pass_mouse_events = true;\n",
       "\n",
       "    canvas_div.resizable({\n",
       "        start: function(event, ui) {\n",
       "            pass_mouse_events = false;\n",
       "        },\n",
       "        resize: function(event, ui) {\n",
       "            fig.request_resize(ui.size.width, ui.size.height);\n",
       "        },\n",
       "        stop: function(event, ui) {\n",
       "            pass_mouse_events = true;\n",
       "            fig.request_resize(ui.size.width, ui.size.height);\n",
       "        },\n",
       "    });\n",
       "\n",
       "    function mouse_event_fn(event) {\n",
       "        if (pass_mouse_events)\n",
       "            return fig.mouse_event(event, event['data']);\n",
       "    }\n",
       "\n",
       "    rubberband.mousedown('button_press', mouse_event_fn);\n",
       "    rubberband.mouseup('button_release', mouse_event_fn);\n",
       "    // Throttle sequential mouse events to 1 every 20ms.\n",
       "    rubberband.mousemove('motion_notify', mouse_event_fn);\n",
       "\n",
       "    rubberband.mouseenter('figure_enter', mouse_event_fn);\n",
       "    rubberband.mouseleave('figure_leave', mouse_event_fn);\n",
       "\n",
       "    canvas_div.on(\"wheel\", function (event) {\n",
       "        event = event.originalEvent;\n",
       "        event['data'] = 'scroll'\n",
       "        if (event.deltaY < 0) {\n",
       "            event.step = 1;\n",
       "        } else {\n",
       "            event.step = -1;\n",
       "        }\n",
       "        mouse_event_fn(event);\n",
       "    });\n",
       "\n",
       "    canvas_div.append(canvas);\n",
       "    canvas_div.append(rubberband);\n",
       "\n",
       "    this.rubberband = rubberband;\n",
       "    this.rubberband_canvas = rubberband[0];\n",
       "    this.rubberband_context = rubberband[0].getContext(\"2d\");\n",
       "    this.rubberband_context.strokeStyle = \"#000000\";\n",
       "\n",
       "    this._resize_canvas = function(width, height) {\n",
       "        // Keep the size of the canvas, canvas container, and rubber band\n",
       "        // canvas in synch.\n",
       "        canvas_div.css('width', width)\n",
       "        canvas_div.css('height', height)\n",
       "\n",
       "        canvas.attr('width', width * mpl.ratio);\n",
       "        canvas.attr('height', height * mpl.ratio);\n",
       "        canvas.attr('style', 'width: ' + width + 'px; height: ' + height + 'px;');\n",
       "\n",
       "        rubberband.attr('width', width);\n",
       "        rubberband.attr('height', height);\n",
       "    }\n",
       "\n",
       "    // Set the figure to an initial 600x600px, this will subsequently be updated\n",
       "    // upon first draw.\n",
       "    this._resize_canvas(600, 600);\n",
       "\n",
       "    // Disable right mouse context menu.\n",
       "    $(this.rubberband_canvas).bind(\"contextmenu\",function(e){\n",
       "        return false;\n",
       "    });\n",
       "\n",
       "    function set_focus () {\n",
       "        canvas.focus();\n",
       "        canvas_div.focus();\n",
       "    }\n",
       "\n",
       "    window.setTimeout(set_focus, 100);\n",
       "}\n",
       "\n",
       "mpl.figure.prototype._init_toolbar = function() {\n",
       "    var fig = this;\n",
       "\n",
       "    var nav_element = $('<div/>')\n",
       "    nav_element.attr('style', 'width: 100%');\n",
       "    this.root.append(nav_element);\n",
       "\n",
       "    // Define a callback function for later on.\n",
       "    function toolbar_event(event) {\n",
       "        return fig.toolbar_button_onclick(event['data']);\n",
       "    }\n",
       "    function toolbar_mouse_event(event) {\n",
       "        return fig.toolbar_button_onmouseover(event['data']);\n",
       "    }\n",
       "\n",
       "    for(var toolbar_ind in mpl.toolbar_items) {\n",
       "        var name = mpl.toolbar_items[toolbar_ind][0];\n",
       "        var tooltip = mpl.toolbar_items[toolbar_ind][1];\n",
       "        var image = mpl.toolbar_items[toolbar_ind][2];\n",
       "        var method_name = mpl.toolbar_items[toolbar_ind][3];\n",
       "\n",
       "        if (!name) {\n",
       "            // put a spacer in here.\n",
       "            continue;\n",
       "        }\n",
       "        var button = $('<button/>');\n",
       "        button.addClass('ui-button ui-widget ui-state-default ui-corner-all ' +\n",
       "                        'ui-button-icon-only');\n",
       "        button.attr('role', 'button');\n",
       "        button.attr('aria-disabled', 'false');\n",
       "        button.click(method_name, toolbar_event);\n",
       "        button.mouseover(tooltip, toolbar_mouse_event);\n",
       "\n",
       "        var icon_img = $('<span/>');\n",
       "        icon_img.addClass('ui-button-icon-primary ui-icon');\n",
       "        icon_img.addClass(image);\n",
       "        icon_img.addClass('ui-corner-all');\n",
       "\n",
       "        var tooltip_span = $('<span/>');\n",
       "        tooltip_span.addClass('ui-button-text');\n",
       "        tooltip_span.html(tooltip);\n",
       "\n",
       "        button.append(icon_img);\n",
       "        button.append(tooltip_span);\n",
       "\n",
       "        nav_element.append(button);\n",
       "    }\n",
       "\n",
       "    var fmt_picker_span = $('<span/>');\n",
       "\n",
       "    var fmt_picker = $('<select/>');\n",
       "    fmt_picker.addClass('mpl-toolbar-option ui-widget ui-widget-content');\n",
       "    fmt_picker_span.append(fmt_picker);\n",
       "    nav_element.append(fmt_picker_span);\n",
       "    this.format_dropdown = fmt_picker[0];\n",
       "\n",
       "    for (var ind in mpl.extensions) {\n",
       "        var fmt = mpl.extensions[ind];\n",
       "        var option = $(\n",
       "            '<option/>', {selected: fmt === mpl.default_extension}).html(fmt);\n",
       "        fmt_picker.append(option)\n",
       "    }\n",
       "\n",
       "    // Add hover states to the ui-buttons\n",
       "    $( \".ui-button\" ).hover(\n",
       "        function() { $(this).addClass(\"ui-state-hover\");},\n",
       "        function() { $(this).removeClass(\"ui-state-hover\");}\n",
       "    );\n",
       "\n",
       "    var status_bar = $('<span class=\"mpl-message\"/>');\n",
       "    nav_element.append(status_bar);\n",
       "    this.message = status_bar[0];\n",
       "}\n",
       "\n",
       "mpl.figure.prototype.request_resize = function(x_pixels, y_pixels) {\n",
       "    // Request matplotlib to resize the figure. Matplotlib will then trigger a resize in the client,\n",
       "    // which will in turn request a refresh of the image.\n",
       "    this.send_message('resize', {'width': x_pixels, 'height': y_pixels});\n",
       "}\n",
       "\n",
       "mpl.figure.prototype.send_message = function(type, properties) {\n",
       "    properties['type'] = type;\n",
       "    properties['figure_id'] = this.id;\n",
       "    this.ws.send(JSON.stringify(properties));\n",
       "}\n",
       "\n",
       "mpl.figure.prototype.send_draw_message = function() {\n",
       "    if (!this.waiting) {\n",
       "        this.waiting = true;\n",
       "        this.ws.send(JSON.stringify({type: \"draw\", figure_id: this.id}));\n",
       "    }\n",
       "}\n",
       "\n",
       "\n",
       "mpl.figure.prototype.handle_save = function(fig, msg) {\n",
       "    var format_dropdown = fig.format_dropdown;\n",
       "    var format = format_dropdown.options[format_dropdown.selectedIndex].value;\n",
       "    fig.ondownload(fig, format);\n",
       "}\n",
       "\n",
       "\n",
       "mpl.figure.prototype.handle_resize = function(fig, msg) {\n",
       "    var size = msg['size'];\n",
       "    if (size[0] != fig.canvas.width || size[1] != fig.canvas.height) {\n",
       "        fig._resize_canvas(size[0], size[1]);\n",
       "        fig.send_message(\"refresh\", {});\n",
       "    };\n",
       "}\n",
       "\n",
       "mpl.figure.prototype.handle_rubberband = function(fig, msg) {\n",
       "    var x0 = msg['x0'] / mpl.ratio;\n",
       "    var y0 = (fig.canvas.height - msg['y0']) / mpl.ratio;\n",
       "    var x1 = msg['x1'] / mpl.ratio;\n",
       "    var y1 = (fig.canvas.height - msg['y1']) / mpl.ratio;\n",
       "    x0 = Math.floor(x0) + 0.5;\n",
       "    y0 = Math.floor(y0) + 0.5;\n",
       "    x1 = Math.floor(x1) + 0.5;\n",
       "    y1 = Math.floor(y1) + 0.5;\n",
       "    var min_x = Math.min(x0, x1);\n",
       "    var min_y = Math.min(y0, y1);\n",
       "    var width = Math.abs(x1 - x0);\n",
       "    var height = Math.abs(y1 - y0);\n",
       "\n",
       "    fig.rubberband_context.clearRect(\n",
       "        0, 0, fig.canvas.width, fig.canvas.height);\n",
       "\n",
       "    fig.rubberband_context.strokeRect(min_x, min_y, width, height);\n",
       "}\n",
       "\n",
       "mpl.figure.prototype.handle_figure_label = function(fig, msg) {\n",
       "    // Updates the figure title.\n",
       "    fig.header.textContent = msg['label'];\n",
       "}\n",
       "\n",
       "mpl.figure.prototype.handle_cursor = function(fig, msg) {\n",
       "    var cursor = msg['cursor'];\n",
       "    switch(cursor)\n",
       "    {\n",
       "    case 0:\n",
       "        cursor = 'pointer';\n",
       "        break;\n",
       "    case 1:\n",
       "        cursor = 'default';\n",
       "        break;\n",
       "    case 2:\n",
       "        cursor = 'crosshair';\n",
       "        break;\n",
       "    case 3:\n",
       "        cursor = 'move';\n",
       "        break;\n",
       "    }\n",
       "    fig.rubberband_canvas.style.cursor = cursor;\n",
       "}\n",
       "\n",
       "mpl.figure.prototype.handle_message = function(fig, msg) {\n",
       "    fig.message.textContent = msg['message'];\n",
       "}\n",
       "\n",
       "mpl.figure.prototype.handle_draw = function(fig, msg) {\n",
       "    // Request the server to send over a new figure.\n",
       "    fig.send_draw_message();\n",
       "}\n",
       "\n",
       "mpl.figure.prototype.handle_image_mode = function(fig, msg) {\n",
       "    fig.image_mode = msg['mode'];\n",
       "}\n",
       "\n",
       "mpl.figure.prototype.updated_canvas_event = function() {\n",
       "    // Called whenever the canvas gets updated.\n",
       "    this.send_message(\"ack\", {});\n",
       "}\n",
       "\n",
       "// A function to construct a web socket function for onmessage handling.\n",
       "// Called in the figure constructor.\n",
       "mpl.figure.prototype._make_on_message_function = function(fig) {\n",
       "    return function socket_on_message(evt) {\n",
       "        if (evt.data instanceof Blob) {\n",
       "            /* FIXME: We get \"Resource interpreted as Image but\n",
       "             * transferred with MIME type text/plain:\" errors on\n",
       "             * Chrome.  But how to set the MIME type?  It doesn't seem\n",
       "             * to be part of the websocket stream */\n",
       "            evt.data.type = \"image/png\";\n",
       "\n",
       "            /* Free the memory for the previous frames */\n",
       "            if (fig.imageObj.src) {\n",
       "                (window.URL || window.webkitURL).revokeObjectURL(\n",
       "                    fig.imageObj.src);\n",
       "            }\n",
       "\n",
       "            fig.imageObj.src = (window.URL || window.webkitURL).createObjectURL(\n",
       "                evt.data);\n",
       "            fig.updated_canvas_event();\n",
       "            fig.waiting = false;\n",
       "            return;\n",
       "        }\n",
       "        else if (typeof evt.data === 'string' && evt.data.slice(0, 21) == \"data:image/png;base64\") {\n",
       "            fig.imageObj.src = evt.data;\n",
       "            fig.updated_canvas_event();\n",
       "            fig.waiting = false;\n",
       "            return;\n",
       "        }\n",
       "\n",
       "        var msg = JSON.parse(evt.data);\n",
       "        var msg_type = msg['type'];\n",
       "\n",
       "        // Call the  \"handle_{type}\" callback, which takes\n",
       "        // the figure and JSON message as its only arguments.\n",
       "        try {\n",
       "            var callback = fig[\"handle_\" + msg_type];\n",
       "        } catch (e) {\n",
       "            console.log(\"No handler for the '\" + msg_type + \"' message type: \", msg);\n",
       "            return;\n",
       "        }\n",
       "\n",
       "        if (callback) {\n",
       "            try {\n",
       "                // console.log(\"Handling '\" + msg_type + \"' message: \", msg);\n",
       "                callback(fig, msg);\n",
       "            } catch (e) {\n",
       "                console.log(\"Exception inside the 'handler_\" + msg_type + \"' callback:\", e, e.stack, msg);\n",
       "            }\n",
       "        }\n",
       "    };\n",
       "}\n",
       "\n",
       "// from http://stackoverflow.com/questions/1114465/getting-mouse-location-in-canvas\n",
       "mpl.findpos = function(e) {\n",
       "    //this section is from http://www.quirksmode.org/js/events_properties.html\n",
       "    var targ;\n",
       "    if (!e)\n",
       "        e = window.event;\n",
       "    if (e.target)\n",
       "        targ = e.target;\n",
       "    else if (e.srcElement)\n",
       "        targ = e.srcElement;\n",
       "    if (targ.nodeType == 3) // defeat Safari bug\n",
       "        targ = targ.parentNode;\n",
       "\n",
       "    // jQuery normalizes the pageX and pageY\n",
       "    // pageX,Y are the mouse positions relative to the document\n",
       "    // offset() returns the position of the element relative to the document\n",
       "    var x = e.pageX - $(targ).offset().left;\n",
       "    var y = e.pageY - $(targ).offset().top;\n",
       "\n",
       "    return {\"x\": x, \"y\": y};\n",
       "};\n",
       "\n",
       "/*\n",
       " * return a copy of an object with only non-object keys\n",
       " * we need this to avoid circular references\n",
       " * http://stackoverflow.com/a/24161582/3208463\n",
       " */\n",
       "function simpleKeys (original) {\n",
       "  return Object.keys(original).reduce(function (obj, key) {\n",
       "    if (typeof original[key] !== 'object')\n",
       "        obj[key] = original[key]\n",
       "    return obj;\n",
       "  }, {});\n",
       "}\n",
       "\n",
       "mpl.figure.prototype.mouse_event = function(event, name) {\n",
       "    var canvas_pos = mpl.findpos(event)\n",
       "\n",
       "    if (name === 'button_press')\n",
       "    {\n",
       "        this.canvas.focus();\n",
       "        this.canvas_div.focus();\n",
       "    }\n",
       "\n",
       "    var x = canvas_pos.x * mpl.ratio;\n",
       "    var y = canvas_pos.y * mpl.ratio;\n",
       "\n",
       "    this.send_message(name, {x: x, y: y, button: event.button,\n",
       "                             step: event.step,\n",
       "                             guiEvent: simpleKeys(event)});\n",
       "\n",
       "    /* This prevents the web browser from automatically changing to\n",
       "     * the text insertion cursor when the button is pressed.  We want\n",
       "     * to control all of the cursor setting manually through the\n",
       "     * 'cursor' event from matplotlib */\n",
       "    event.preventDefault();\n",
       "    return false;\n",
       "}\n",
       "\n",
       "mpl.figure.prototype._key_event_extra = function(event, name) {\n",
       "    // Handle any extra behaviour associated with a key event\n",
       "}\n",
       "\n",
       "mpl.figure.prototype.key_event = function(event, name) {\n",
       "\n",
       "    // Prevent repeat events\n",
       "    if (name == 'key_press')\n",
       "    {\n",
       "        if (event.which === this._key)\n",
       "            return;\n",
       "        else\n",
       "            this._key = event.which;\n",
       "    }\n",
       "    if (name == 'key_release')\n",
       "        this._key = null;\n",
       "\n",
       "    var value = '';\n",
       "    if (event.ctrlKey && event.which != 17)\n",
       "        value += \"ctrl+\";\n",
       "    if (event.altKey && event.which != 18)\n",
       "        value += \"alt+\";\n",
       "    if (event.shiftKey && event.which != 16)\n",
       "        value += \"shift+\";\n",
       "\n",
       "    value += 'k';\n",
       "    value += event.which.toString();\n",
       "\n",
       "    this._key_event_extra(event, name);\n",
       "\n",
       "    this.send_message(name, {key: value,\n",
       "                             guiEvent: simpleKeys(event)});\n",
       "    return false;\n",
       "}\n",
       "\n",
       "mpl.figure.prototype.toolbar_button_onclick = function(name) {\n",
       "    if (name == 'download') {\n",
       "        this.handle_save(this, null);\n",
       "    } else {\n",
       "        this.send_message(\"toolbar_button\", {name: name});\n",
       "    }\n",
       "};\n",
       "\n",
       "mpl.figure.prototype.toolbar_button_onmouseover = function(tooltip) {\n",
       "    this.message.textContent = tooltip;\n",
       "};\n",
       "mpl.toolbar_items = [[\"Home\", \"Reset original view\", \"fa fa-home icon-home\", \"home\"], [\"Back\", \"Back to  previous view\", \"fa fa-arrow-left icon-arrow-left\", \"back\"], [\"Forward\", \"Forward to next view\", \"fa fa-arrow-right icon-arrow-right\", \"forward\"], [\"\", \"\", \"\", \"\"], [\"Pan\", \"Pan axes with left mouse, zoom with right\", \"fa fa-arrows icon-move\", \"pan\"], [\"Zoom\", \"Zoom to rectangle\", \"fa fa-square-o icon-check-empty\", \"zoom\"], [\"\", \"\", \"\", \"\"], [\"Download\", \"Download plot\", \"fa fa-floppy-o icon-save\", \"download\"]];\n",
       "\n",
       "mpl.extensions = [\"eps\", \"pdf\", \"png\", \"ps\", \"raw\", \"svg\"];\n",
       "\n",
       "mpl.default_extension = \"png\";var comm_websocket_adapter = function(comm) {\n",
       "    // Create a \"websocket\"-like object which calls the given IPython comm\n",
       "    // object with the appropriate methods. Currently this is a non binary\n",
       "    // socket, so there is still some room for performance tuning.\n",
       "    var ws = {};\n",
       "\n",
       "    ws.close = function() {\n",
       "        comm.close()\n",
       "    };\n",
       "    ws.send = function(m) {\n",
       "        //console.log('sending', m);\n",
       "        comm.send(m);\n",
       "    };\n",
       "    // Register the callback with on_msg.\n",
       "    comm.on_msg(function(msg) {\n",
       "        //console.log('receiving', msg['content']['data'], msg);\n",
       "        // Pass the mpl event to the overriden (by mpl) onmessage function.\n",
       "        ws.onmessage(msg['content']['data'])\n",
       "    });\n",
       "    return ws;\n",
       "}\n",
       "\n",
       "mpl.mpl_figure_comm = function(comm, msg) {\n",
       "    // This is the function which gets called when the mpl process\n",
       "    // starts-up an IPython Comm through the \"matplotlib\" channel.\n",
       "\n",
       "    var id = msg.content.data.id;\n",
       "    // Get hold of the div created by the display call when the Comm\n",
       "    // socket was opened in Python.\n",
       "    var element = $(\"#\" + id);\n",
       "    var ws_proxy = comm_websocket_adapter(comm)\n",
       "\n",
       "    function ondownload(figure, format) {\n",
       "        window.open(figure.imageObj.src);\n",
       "    }\n",
       "\n",
       "    var fig = new mpl.figure(id, ws_proxy,\n",
       "                           ondownload,\n",
       "                           element.get(0));\n",
       "\n",
       "    // Call onopen now - mpl needs it, as it is assuming we've passed it a real\n",
       "    // web socket which is closed, not our websocket->open comm proxy.\n",
       "    ws_proxy.onopen();\n",
       "\n",
       "    fig.parent_element = element.get(0);\n",
       "    fig.cell_info = mpl.find_output_cell(\"<div id='\" + id + \"'></div>\");\n",
       "    if (!fig.cell_info) {\n",
       "        console.error(\"Failed to find cell for figure\", id, fig);\n",
       "        return;\n",
       "    }\n",
       "\n",
       "    var output_index = fig.cell_info[2]\n",
       "    var cell = fig.cell_info[0];\n",
       "\n",
       "};\n",
       "\n",
       "mpl.figure.prototype.handle_close = function(fig, msg) {\n",
       "    var width = fig.canvas.width/mpl.ratio\n",
       "    fig.root.unbind('remove')\n",
       "\n",
       "    // Update the output cell to use the data from the current canvas.\n",
       "    fig.push_to_output();\n",
       "    var dataURL = fig.canvas.toDataURL();\n",
       "    // Re-enable the keyboard manager in IPython - without this line, in FF,\n",
       "    // the notebook keyboard shortcuts fail.\n",
       "    IPython.keyboard_manager.enable()\n",
       "    $(fig.parent_element).html('<img src=\"' + dataURL + '\" width=\"' + width + '\">');\n",
       "    fig.close_ws(fig, msg);\n",
       "}\n",
       "\n",
       "mpl.figure.prototype.close_ws = function(fig, msg){\n",
       "    fig.send_message('closing', msg);\n",
       "    // fig.ws.close()\n",
       "}\n",
       "\n",
       "mpl.figure.prototype.push_to_output = function(remove_interactive) {\n",
       "    // Turn the data on the canvas into data in the output cell.\n",
       "    var width = this.canvas.width/mpl.ratio\n",
       "    var dataURL = this.canvas.toDataURL();\n",
       "    this.cell_info[1]['text/html'] = '<img src=\"' + dataURL + '\" width=\"' + width + '\">';\n",
       "}\n",
       "\n",
       "mpl.figure.prototype.updated_canvas_event = function() {\n",
       "    // Tell IPython that the notebook contents must change.\n",
       "    IPython.notebook.set_dirty(true);\n",
       "    this.send_message(\"ack\", {});\n",
       "    var fig = this;\n",
       "    // Wait a second, then push the new image to the DOM so\n",
       "    // that it is saved nicely (might be nice to debounce this).\n",
       "    setTimeout(function () { fig.push_to_output() }, 1000);\n",
       "}\n",
       "\n",
       "mpl.figure.prototype._init_toolbar = function() {\n",
       "    var fig = this;\n",
       "\n",
       "    var nav_element = $('<div/>')\n",
       "    nav_element.attr('style', 'width: 100%');\n",
       "    this.root.append(nav_element);\n",
       "\n",
       "    // Define a callback function for later on.\n",
       "    function toolbar_event(event) {\n",
       "        return fig.toolbar_button_onclick(event['data']);\n",
       "    }\n",
       "    function toolbar_mouse_event(event) {\n",
       "        return fig.toolbar_button_onmouseover(event['data']);\n",
       "    }\n",
       "\n",
       "    for(var toolbar_ind in mpl.toolbar_items){\n",
       "        var name = mpl.toolbar_items[toolbar_ind][0];\n",
       "        var tooltip = mpl.toolbar_items[toolbar_ind][1];\n",
       "        var image = mpl.toolbar_items[toolbar_ind][2];\n",
       "        var method_name = mpl.toolbar_items[toolbar_ind][3];\n",
       "\n",
       "        if (!name) { continue; };\n",
       "\n",
       "        var button = $('<button class=\"btn btn-default\" href=\"#\" title=\"' + name + '\"><i class=\"fa ' + image + ' fa-lg\"></i></button>');\n",
       "        button.click(method_name, toolbar_event);\n",
       "        button.mouseover(tooltip, toolbar_mouse_event);\n",
       "        nav_element.append(button);\n",
       "    }\n",
       "\n",
       "    // Add the status bar.\n",
       "    var status_bar = $('<span class=\"mpl-message\" style=\"text-align:right; float: right;\"/>');\n",
       "    nav_element.append(status_bar);\n",
       "    this.message = status_bar[0];\n",
       "\n",
       "    // Add the close button to the window.\n",
       "    var buttongrp = $('<div class=\"btn-group inline pull-right\"></div>');\n",
       "    var button = $('<button class=\"btn btn-mini btn-primary\" href=\"#\" title=\"Stop Interaction\"><i class=\"fa fa-power-off icon-remove icon-large\"></i></button>');\n",
       "    button.click(function (evt) { fig.handle_close(fig, {}); } );\n",
       "    button.mouseover('Stop Interaction', toolbar_mouse_event);\n",
       "    buttongrp.append(button);\n",
       "    var titlebar = this.root.find($('.ui-dialog-titlebar'));\n",
       "    titlebar.prepend(buttongrp);\n",
       "}\n",
       "\n",
       "mpl.figure.prototype._root_extra_style = function(el){\n",
       "    var fig = this\n",
       "    el.on(\"remove\", function(){\n",
       "\tfig.close_ws(fig, {});\n",
       "    });\n",
       "}\n",
       "\n",
       "mpl.figure.prototype._canvas_extra_style = function(el){\n",
       "    // this is important to make the div 'focusable\n",
       "    el.attr('tabindex', 0)\n",
       "    // reach out to IPython and tell the keyboard manager to turn it's self\n",
       "    // off when our div gets focus\n",
       "\n",
       "    // location in version 3\n",
       "    if (IPython.notebook.keyboard_manager) {\n",
       "        IPython.notebook.keyboard_manager.register_events(el);\n",
       "    }\n",
       "    else {\n",
       "        // location in version 2\n",
       "        IPython.keyboard_manager.register_events(el);\n",
       "    }\n",
       "\n",
       "}\n",
       "\n",
       "mpl.figure.prototype._key_event_extra = function(event, name) {\n",
       "    var manager = IPython.notebook.keyboard_manager;\n",
       "    if (!manager)\n",
       "        manager = IPython.keyboard_manager;\n",
       "\n",
       "    // Check for shift+enter\n",
       "    if (event.shiftKey && event.which == 13) {\n",
       "        this.canvas_div.blur();\n",
       "        // select the cell after this one\n",
       "        var index = IPython.notebook.find_cell_index(this.cell_info[0]);\n",
       "        IPython.notebook.select(index + 1);\n",
       "    }\n",
       "}\n",
       "\n",
       "mpl.figure.prototype.handle_save = function(fig, msg) {\n",
       "    fig.ondownload(fig, null);\n",
       "}\n",
       "\n",
       "\n",
       "mpl.find_output_cell = function(html_output) {\n",
       "    // Return the cell and output element which can be found *uniquely* in the notebook.\n",
       "    // Note - this is a bit hacky, but it is done because the \"notebook_saving.Notebook\"\n",
       "    // IPython event is triggered only after the cells have been serialised, which for\n",
       "    // our purposes (turning an active figure into a static one), is too late.\n",
       "    var cells = IPython.notebook.get_cells();\n",
       "    var ncells = cells.length;\n",
       "    for (var i=0; i<ncells; i++) {\n",
       "        var cell = cells[i];\n",
       "        if (cell.cell_type === 'code'){\n",
       "            for (var j=0; j<cell.output_area.outputs.length; j++) {\n",
       "                var data = cell.output_area.outputs[j];\n",
       "                if (data.data) {\n",
       "                    // IPython >= 3 moved mimebundle to data attribute of output\n",
       "                    data = data.data;\n",
       "                }\n",
       "                if (data['text/html'] == html_output) {\n",
       "                    return [cell, data, j];\n",
       "                }\n",
       "            }\n",
       "        }\n",
       "    }\n",
       "}\n",
       "\n",
       "// Register the function which deals with the matplotlib target/channel.\n",
       "// The kernel may be null if the page has been refreshed.\n",
       "if (IPython.notebook.kernel != null) {\n",
       "    IPython.notebook.kernel.comm_manager.register_target('matplotlib', mpl.mpl_figure_comm);\n",
       "}\n"
      ],
      "text/plain": [
       "<IPython.core.display.Javascript object>"
      ]
     },
     "metadata": {},
     "output_type": "display_data"
    },
    {
     "data": {
      "text/html": [
       "<img src=\"data:image/png;base64,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\" width=\"640\">"
      ],
      "text/plain": [
       "<IPython.core.display.HTML object>"
      ]
     },
     "metadata": {},
     "output_type": "display_data"
    },
    {
     "data": {
      "text/plain": [
       "samples:64\n",
       "multi_peak:False\n",
       "multi_pulse:False\n",
       "stride:0\n",
       "type:dot_product_trace\n",
       "signal:filtered\n",
       "offset:5"
      ]
     },
     "execution_count": 68,
     "metadata": {},
     "output_type": "execute_result"
    }
   ],
   "source": [
    "%matplotlib notebook\n",
    "t=48\n",
    "plt.plot(h.traces[t].samples)\n",
    "h.traces[t]"
   ]
  },
  {
   "cell_type": "code",
   "execution_count": 66,
   "metadata": {},
   "outputs": [
    {
     "data": {
      "application/javascript": [
       "/* Put everything inside the global mpl namespace */\n",
       "window.mpl = {};\n",
       "\n",
       "\n",
       "mpl.get_websocket_type = function() {\n",
       "    if (typeof(WebSocket) !== 'undefined') {\n",
       "        return WebSocket;\n",
       "    } else if (typeof(MozWebSocket) !== 'undefined') {\n",
       "        return MozWebSocket;\n",
       "    } else {\n",
       "        alert('Your browser does not have WebSocket support.' +\n",
       "              'Please try Chrome, Safari or Firefox ≥ 6. ' +\n",
       "              'Firefox 4 and 5 are also supported but you ' +\n",
       "              'have to enable WebSockets in about:config.');\n",
       "    };\n",
       "}\n",
       "\n",
       "mpl.figure = function(figure_id, websocket, ondownload, parent_element) {\n",
       "    this.id = figure_id;\n",
       "\n",
       "    this.ws = websocket;\n",
       "\n",
       "    this.supports_binary = (this.ws.binaryType != undefined);\n",
       "\n",
       "    if (!this.supports_binary) {\n",
       "        var warnings = document.getElementById(\"mpl-warnings\");\n",
       "        if (warnings) {\n",
       "            warnings.style.display = 'block';\n",
       "            warnings.textContent = (\n",
       "                \"This browser does not support binary websocket messages. \" +\n",
       "                    \"Performance may be slow.\");\n",
       "        }\n",
       "    }\n",
       "\n",
       "    this.imageObj = new Image();\n",
       "\n",
       "    this.context = undefined;\n",
       "    this.message = undefined;\n",
       "    this.canvas = undefined;\n",
       "    this.rubberband_canvas = undefined;\n",
       "    this.rubberband_context = undefined;\n",
       "    this.format_dropdown = undefined;\n",
       "\n",
       "    this.image_mode = 'full';\n",
       "\n",
       "    this.root = $('<div/>');\n",
       "    this._root_extra_style(this.root)\n",
       "    this.root.attr('style', 'display: inline-block');\n",
       "\n",
       "    $(parent_element).append(this.root);\n",
       "\n",
       "    this._init_header(this);\n",
       "    this._init_canvas(this);\n",
       "    this._init_toolbar(this);\n",
       "\n",
       "    var fig = this;\n",
       "\n",
       "    this.waiting = false;\n",
       "\n",
       "    this.ws.onopen =  function () {\n",
       "            fig.send_message(\"supports_binary\", {value: fig.supports_binary});\n",
       "            fig.send_message(\"send_image_mode\", {});\n",
       "            if (mpl.ratio != 1) {\n",
       "                fig.send_message(\"set_dpi_ratio\", {'dpi_ratio': mpl.ratio});\n",
       "            }\n",
       "            fig.send_message(\"refresh\", {});\n",
       "        }\n",
       "\n",
       "    this.imageObj.onload = function() {\n",
       "            if (fig.image_mode == 'full') {\n",
       "                // Full images could contain transparency (where diff images\n",
       "                // almost always do), so we need to clear the canvas so that\n",
       "                // there is no ghosting.\n",
       "                fig.context.clearRect(0, 0, fig.canvas.width, fig.canvas.height);\n",
       "            }\n",
       "            fig.context.drawImage(fig.imageObj, 0, 0);\n",
       "        };\n",
       "\n",
       "    this.imageObj.onunload = function() {\n",
       "        this.ws.close();\n",
       "    }\n",
       "\n",
       "    this.ws.onmessage = this._make_on_message_function(this);\n",
       "\n",
       "    this.ondownload = ondownload;\n",
       "}\n",
       "\n",
       "mpl.figure.prototype._init_header = function() {\n",
       "    var titlebar = $(\n",
       "        '<div class=\"ui-dialog-titlebar ui-widget-header ui-corner-all ' +\n",
       "        'ui-helper-clearfix\"/>');\n",
       "    var titletext = $(\n",
       "        '<div class=\"ui-dialog-title\" style=\"width: 100%; ' +\n",
       "        'text-align: center; padding: 3px;\"/>');\n",
       "    titlebar.append(titletext)\n",
       "    this.root.append(titlebar);\n",
       "    this.header = titletext[0];\n",
       "}\n",
       "\n",
       "\n",
       "\n",
       "mpl.figure.prototype._canvas_extra_style = function(canvas_div) {\n",
       "\n",
       "}\n",
       "\n",
       "\n",
       "mpl.figure.prototype._root_extra_style = function(canvas_div) {\n",
       "\n",
       "}\n",
       "\n",
       "mpl.figure.prototype._init_canvas = function() {\n",
       "    var fig = this;\n",
       "\n",
       "    var canvas_div = $('<div/>');\n",
       "\n",
       "    canvas_div.attr('style', 'position: relative; clear: both; outline: 0');\n",
       "\n",
       "    function canvas_keyboard_event(event) {\n",
       "        return fig.key_event(event, event['data']);\n",
       "    }\n",
       "\n",
       "    canvas_div.keydown('key_press', canvas_keyboard_event);\n",
       "    canvas_div.keyup('key_release', canvas_keyboard_event);\n",
       "    this.canvas_div = canvas_div\n",
       "    this._canvas_extra_style(canvas_div)\n",
       "    this.root.append(canvas_div);\n",
       "\n",
       "    var canvas = $('<canvas/>');\n",
       "    canvas.addClass('mpl-canvas');\n",
       "    canvas.attr('style', \"left: 0; top: 0; z-index: 0; outline: 0\")\n",
       "\n",
       "    this.canvas = canvas[0];\n",
       "    this.context = canvas[0].getContext(\"2d\");\n",
       "\n",
       "    var backingStore = this.context.backingStorePixelRatio ||\n",
       "\tthis.context.webkitBackingStorePixelRatio ||\n",
       "\tthis.context.mozBackingStorePixelRatio ||\n",
       "\tthis.context.msBackingStorePixelRatio ||\n",
       "\tthis.context.oBackingStorePixelRatio ||\n",
       "\tthis.context.backingStorePixelRatio || 1;\n",
       "\n",
       "    mpl.ratio = (window.devicePixelRatio || 1) / backingStore;\n",
       "\n",
       "    var rubberband = $('<canvas/>');\n",
       "    rubberband.attr('style', \"position: absolute; left: 0; top: 0; z-index: 1;\")\n",
       "\n",
       "    var pass_mouse_events = true;\n",
       "\n",
       "    canvas_div.resizable({\n",
       "        start: function(event, ui) {\n",
       "            pass_mouse_events = false;\n",
       "        },\n",
       "        resize: function(event, ui) {\n",
       "            fig.request_resize(ui.size.width, ui.size.height);\n",
       "        },\n",
       "        stop: function(event, ui) {\n",
       "            pass_mouse_events = true;\n",
       "            fig.request_resize(ui.size.width, ui.size.height);\n",
       "        },\n",
       "    });\n",
       "\n",
       "    function mouse_event_fn(event) {\n",
       "        if (pass_mouse_events)\n",
       "            return fig.mouse_event(event, event['data']);\n",
       "    }\n",
       "\n",
       "    rubberband.mousedown('button_press', mouse_event_fn);\n",
       "    rubberband.mouseup('button_release', mouse_event_fn);\n",
       "    // Throttle sequential mouse events to 1 every 20ms.\n",
       "    rubberband.mousemove('motion_notify', mouse_event_fn);\n",
       "\n",
       "    rubberband.mouseenter('figure_enter', mouse_event_fn);\n",
       "    rubberband.mouseleave('figure_leave', mouse_event_fn);\n",
       "\n",
       "    canvas_div.on(\"wheel\", function (event) {\n",
       "        event = event.originalEvent;\n",
       "        event['data'] = 'scroll'\n",
       "        if (event.deltaY < 0) {\n",
       "            event.step = 1;\n",
       "        } else {\n",
       "            event.step = -1;\n",
       "        }\n",
       "        mouse_event_fn(event);\n",
       "    });\n",
       "\n",
       "    canvas_div.append(canvas);\n",
       "    canvas_div.append(rubberband);\n",
       "\n",
       "    this.rubberband = rubberband;\n",
       "    this.rubberband_canvas = rubberband[0];\n",
       "    this.rubberband_context = rubberband[0].getContext(\"2d\");\n",
       "    this.rubberband_context.strokeStyle = \"#000000\";\n",
       "\n",
       "    this._resize_canvas = function(width, height) {\n",
       "        // Keep the size of the canvas, canvas container, and rubber band\n",
       "        // canvas in synch.\n",
       "        canvas_div.css('width', width)\n",
       "        canvas_div.css('height', height)\n",
       "\n",
       "        canvas.attr('width', width * mpl.ratio);\n",
       "        canvas.attr('height', height * mpl.ratio);\n",
       "        canvas.attr('style', 'width: ' + width + 'px; height: ' + height + 'px;');\n",
       "\n",
       "        rubberband.attr('width', width);\n",
       "        rubberband.attr('height', height);\n",
       "    }\n",
       "\n",
       "    // Set the figure to an initial 600x600px, this will subsequently be updated\n",
       "    // upon first draw.\n",
       "    this._resize_canvas(600, 600);\n",
       "\n",
       "    // Disable right mouse context menu.\n",
       "    $(this.rubberband_canvas).bind(\"contextmenu\",function(e){\n",
       "        return false;\n",
       "    });\n",
       "\n",
       "    function set_focus () {\n",
       "        canvas.focus();\n",
       "        canvas_div.focus();\n",
       "    }\n",
       "\n",
       "    window.setTimeout(set_focus, 100);\n",
       "}\n",
       "\n",
       "mpl.figure.prototype._init_toolbar = function() {\n",
       "    var fig = this;\n",
       "\n",
       "    var nav_element = $('<div/>')\n",
       "    nav_element.attr('style', 'width: 100%');\n",
       "    this.root.append(nav_element);\n",
       "\n",
       "    // Define a callback function for later on.\n",
       "    function toolbar_event(event) {\n",
       "        return fig.toolbar_button_onclick(event['data']);\n",
       "    }\n",
       "    function toolbar_mouse_event(event) {\n",
       "        return fig.toolbar_button_onmouseover(event['data']);\n",
       "    }\n",
       "\n",
       "    for(var toolbar_ind in mpl.toolbar_items) {\n",
       "        var name = mpl.toolbar_items[toolbar_ind][0];\n",
       "        var tooltip = mpl.toolbar_items[toolbar_ind][1];\n",
       "        var image = mpl.toolbar_items[toolbar_ind][2];\n",
       "        var method_name = mpl.toolbar_items[toolbar_ind][3];\n",
       "\n",
       "        if (!name) {\n",
       "            // put a spacer in here.\n",
       "            continue;\n",
       "        }\n",
       "        var button = $('<button/>');\n",
       "        button.addClass('ui-button ui-widget ui-state-default ui-corner-all ' +\n",
       "                        'ui-button-icon-only');\n",
       "        button.attr('role', 'button');\n",
       "        button.attr('aria-disabled', 'false');\n",
       "        button.click(method_name, toolbar_event);\n",
       "        button.mouseover(tooltip, toolbar_mouse_event);\n",
       "\n",
       "        var icon_img = $('<span/>');\n",
       "        icon_img.addClass('ui-button-icon-primary ui-icon');\n",
       "        icon_img.addClass(image);\n",
       "        icon_img.addClass('ui-corner-all');\n",
       "\n",
       "        var tooltip_span = $('<span/>');\n",
       "        tooltip_span.addClass('ui-button-text');\n",
       "        tooltip_span.html(tooltip);\n",
       "\n",
       "        button.append(icon_img);\n",
       "        button.append(tooltip_span);\n",
       "\n",
       "        nav_element.append(button);\n",
       "    }\n",
       "\n",
       "    var fmt_picker_span = $('<span/>');\n",
       "\n",
       "    var fmt_picker = $('<select/>');\n",
       "    fmt_picker.addClass('mpl-toolbar-option ui-widget ui-widget-content');\n",
       "    fmt_picker_span.append(fmt_picker);\n",
       "    nav_element.append(fmt_picker_span);\n",
       "    this.format_dropdown = fmt_picker[0];\n",
       "\n",
       "    for (var ind in mpl.extensions) {\n",
       "        var fmt = mpl.extensions[ind];\n",
       "        var option = $(\n",
       "            '<option/>', {selected: fmt === mpl.default_extension}).html(fmt);\n",
       "        fmt_picker.append(option)\n",
       "    }\n",
       "\n",
       "    // Add hover states to the ui-buttons\n",
       "    $( \".ui-button\" ).hover(\n",
       "        function() { $(this).addClass(\"ui-state-hover\");},\n",
       "        function() { $(this).removeClass(\"ui-state-hover\");}\n",
       "    );\n",
       "\n",
       "    var status_bar = $('<span class=\"mpl-message\"/>');\n",
       "    nav_element.append(status_bar);\n",
       "    this.message = status_bar[0];\n",
       "}\n",
       "\n",
       "mpl.figure.prototype.request_resize = function(x_pixels, y_pixels) {\n",
       "    // Request matplotlib to resize the figure. Matplotlib will then trigger a resize in the client,\n",
       "    // which will in turn request a refresh of the image.\n",
       "    this.send_message('resize', {'width': x_pixels, 'height': y_pixels});\n",
       "}\n",
       "\n",
       "mpl.figure.prototype.send_message = function(type, properties) {\n",
       "    properties['type'] = type;\n",
       "    properties['figure_id'] = this.id;\n",
       "    this.ws.send(JSON.stringify(properties));\n",
       "}\n",
       "\n",
       "mpl.figure.prototype.send_draw_message = function() {\n",
       "    if (!this.waiting) {\n",
       "        this.waiting = true;\n",
       "        this.ws.send(JSON.stringify({type: \"draw\", figure_id: this.id}));\n",
       "    }\n",
       "}\n",
       "\n",
       "\n",
       "mpl.figure.prototype.handle_save = function(fig, msg) {\n",
       "    var format_dropdown = fig.format_dropdown;\n",
       "    var format = format_dropdown.options[format_dropdown.selectedIndex].value;\n",
       "    fig.ondownload(fig, format);\n",
       "}\n",
       "\n",
       "\n",
       "mpl.figure.prototype.handle_resize = function(fig, msg) {\n",
       "    var size = msg['size'];\n",
       "    if (size[0] != fig.canvas.width || size[1] != fig.canvas.height) {\n",
       "        fig._resize_canvas(size[0], size[1]);\n",
       "        fig.send_message(\"refresh\", {});\n",
       "    };\n",
       "}\n",
       "\n",
       "mpl.figure.prototype.handle_rubberband = function(fig, msg) {\n",
       "    var x0 = msg['x0'] / mpl.ratio;\n",
       "    var y0 = (fig.canvas.height - msg['y0']) / mpl.ratio;\n",
       "    var x1 = msg['x1'] / mpl.ratio;\n",
       "    var y1 = (fig.canvas.height - msg['y1']) / mpl.ratio;\n",
       "    x0 = Math.floor(x0) + 0.5;\n",
       "    y0 = Math.floor(y0) + 0.5;\n",
       "    x1 = Math.floor(x1) + 0.5;\n",
       "    y1 = Math.floor(y1) + 0.5;\n",
       "    var min_x = Math.min(x0, x1);\n",
       "    var min_y = Math.min(y0, y1);\n",
       "    var width = Math.abs(x1 - x0);\n",
       "    var height = Math.abs(y1 - y0);\n",
       "\n",
       "    fig.rubberband_context.clearRect(\n",
       "        0, 0, fig.canvas.width, fig.canvas.height);\n",
       "\n",
       "    fig.rubberband_context.strokeRect(min_x, min_y, width, height);\n",
       "}\n",
       "\n",
       "mpl.figure.prototype.handle_figure_label = function(fig, msg) {\n",
       "    // Updates the figure title.\n",
       "    fig.header.textContent = msg['label'];\n",
       "}\n",
       "\n",
       "mpl.figure.prototype.handle_cursor = function(fig, msg) {\n",
       "    var cursor = msg['cursor'];\n",
       "    switch(cursor)\n",
       "    {\n",
       "    case 0:\n",
       "        cursor = 'pointer';\n",
       "        break;\n",
       "    case 1:\n",
       "        cursor = 'default';\n",
       "        break;\n",
       "    case 2:\n",
       "        cursor = 'crosshair';\n",
       "        break;\n",
       "    case 3:\n",
       "        cursor = 'move';\n",
       "        break;\n",
       "    }\n",
       "    fig.rubberband_canvas.style.cursor = cursor;\n",
       "}\n",
       "\n",
       "mpl.figure.prototype.handle_message = function(fig, msg) {\n",
       "    fig.message.textContent = msg['message'];\n",
       "}\n",
       "\n",
       "mpl.figure.prototype.handle_draw = function(fig, msg) {\n",
       "    // Request the server to send over a new figure.\n",
       "    fig.send_draw_message();\n",
       "}\n",
       "\n",
       "mpl.figure.prototype.handle_image_mode = function(fig, msg) {\n",
       "    fig.image_mode = msg['mode'];\n",
       "}\n",
       "\n",
       "mpl.figure.prototype.updated_canvas_event = function() {\n",
       "    // Called whenever the canvas gets updated.\n",
       "    this.send_message(\"ack\", {});\n",
       "}\n",
       "\n",
       "// A function to construct a web socket function for onmessage handling.\n",
       "// Called in the figure constructor.\n",
       "mpl.figure.prototype._make_on_message_function = function(fig) {\n",
       "    return function socket_on_message(evt) {\n",
       "        if (evt.data instanceof Blob) {\n",
       "            /* FIXME: We get \"Resource interpreted as Image but\n",
       "             * transferred with MIME type text/plain:\" errors on\n",
       "             * Chrome.  But how to set the MIME type?  It doesn't seem\n",
       "             * to be part of the websocket stream */\n",
       "            evt.data.type = \"image/png\";\n",
       "\n",
       "            /* Free the memory for the previous frames */\n",
       "            if (fig.imageObj.src) {\n",
       "                (window.URL || window.webkitURL).revokeObjectURL(\n",
       "                    fig.imageObj.src);\n",
       "            }\n",
       "\n",
       "            fig.imageObj.src = (window.URL || window.webkitURL).createObjectURL(\n",
       "                evt.data);\n",
       "            fig.updated_canvas_event();\n",
       "            fig.waiting = false;\n",
       "            return;\n",
       "        }\n",
       "        else if (typeof evt.data === 'string' && evt.data.slice(0, 21) == \"data:image/png;base64\") {\n",
       "            fig.imageObj.src = evt.data;\n",
       "            fig.updated_canvas_event();\n",
       "            fig.waiting = false;\n",
       "            return;\n",
       "        }\n",
       "\n",
       "        var msg = JSON.parse(evt.data);\n",
       "        var msg_type = msg['type'];\n",
       "\n",
       "        // Call the  \"handle_{type}\" callback, which takes\n",
       "        // the figure and JSON message as its only arguments.\n",
       "        try {\n",
       "            var callback = fig[\"handle_\" + msg_type];\n",
       "        } catch (e) {\n",
       "            console.log(\"No handler for the '\" + msg_type + \"' message type: \", msg);\n",
       "            return;\n",
       "        }\n",
       "\n",
       "        if (callback) {\n",
       "            try {\n",
       "                // console.log(\"Handling '\" + msg_type + \"' message: \", msg);\n",
       "                callback(fig, msg);\n",
       "            } catch (e) {\n",
       "                console.log(\"Exception inside the 'handler_\" + msg_type + \"' callback:\", e, e.stack, msg);\n",
       "            }\n",
       "        }\n",
       "    };\n",
       "}\n",
       "\n",
       "// from http://stackoverflow.com/questions/1114465/getting-mouse-location-in-canvas\n",
       "mpl.findpos = function(e) {\n",
       "    //this section is from http://www.quirksmode.org/js/events_properties.html\n",
       "    var targ;\n",
       "    if (!e)\n",
       "        e = window.event;\n",
       "    if (e.target)\n",
       "        targ = e.target;\n",
       "    else if (e.srcElement)\n",
       "        targ = e.srcElement;\n",
       "    if (targ.nodeType == 3) // defeat Safari bug\n",
       "        targ = targ.parentNode;\n",
       "\n",
       "    // jQuery normalizes the pageX and pageY\n",
       "    // pageX,Y are the mouse positions relative to the document\n",
       "    // offset() returns the position of the element relative to the document\n",
       "    var x = e.pageX - $(targ).offset().left;\n",
       "    var y = e.pageY - $(targ).offset().top;\n",
       "\n",
       "    return {\"x\": x, \"y\": y};\n",
       "};\n",
       "\n",
       "/*\n",
       " * return a copy of an object with only non-object keys\n",
       " * we need this to avoid circular references\n",
       " * http://stackoverflow.com/a/24161582/3208463\n",
       " */\n",
       "function simpleKeys (original) {\n",
       "  return Object.keys(original).reduce(function (obj, key) {\n",
       "    if (typeof original[key] !== 'object')\n",
       "        obj[key] = original[key]\n",
       "    return obj;\n",
       "  }, {});\n",
       "}\n",
       "\n",
       "mpl.figure.prototype.mouse_event = function(event, name) {\n",
       "    var canvas_pos = mpl.findpos(event)\n",
       "\n",
       "    if (name === 'button_press')\n",
       "    {\n",
       "        this.canvas.focus();\n",
       "        this.canvas_div.focus();\n",
       "    }\n",
       "\n",
       "    var x = canvas_pos.x * mpl.ratio;\n",
       "    var y = canvas_pos.y * mpl.ratio;\n",
       "\n",
       "    this.send_message(name, {x: x, y: y, button: event.button,\n",
       "                             step: event.step,\n",
       "                             guiEvent: simpleKeys(event)});\n",
       "\n",
       "    /* This prevents the web browser from automatically changing to\n",
       "     * the text insertion cursor when the button is pressed.  We want\n",
       "     * to control all of the cursor setting manually through the\n",
       "     * 'cursor' event from matplotlib */\n",
       "    event.preventDefault();\n",
       "    return false;\n",
       "}\n",
       "\n",
       "mpl.figure.prototype._key_event_extra = function(event, name) {\n",
       "    // Handle any extra behaviour associated with a key event\n",
       "}\n",
       "\n",
       "mpl.figure.prototype.key_event = function(event, name) {\n",
       "\n",
       "    // Prevent repeat events\n",
       "    if (name == 'key_press')\n",
       "    {\n",
       "        if (event.which === this._key)\n",
       "            return;\n",
       "        else\n",
       "            this._key = event.which;\n",
       "    }\n",
       "    if (name == 'key_release')\n",
       "        this._key = null;\n",
       "\n",
       "    var value = '';\n",
       "    if (event.ctrlKey && event.which != 17)\n",
       "        value += \"ctrl+\";\n",
       "    if (event.altKey && event.which != 18)\n",
       "        value += \"alt+\";\n",
       "    if (event.shiftKey && event.which != 16)\n",
       "        value += \"shift+\";\n",
       "\n",
       "    value += 'k';\n",
       "    value += event.which.toString();\n",
       "\n",
       "    this._key_event_extra(event, name);\n",
       "\n",
       "    this.send_message(name, {key: value,\n",
       "                             guiEvent: simpleKeys(event)});\n",
       "    return false;\n",
       "}\n",
       "\n",
       "mpl.figure.prototype.toolbar_button_onclick = function(name) {\n",
       "    if (name == 'download') {\n",
       "        this.handle_save(this, null);\n",
       "    } else {\n",
       "        this.send_message(\"toolbar_button\", {name: name});\n",
       "    }\n",
       "};\n",
       "\n",
       "mpl.figure.prototype.toolbar_button_onmouseover = function(tooltip) {\n",
       "    this.message.textContent = tooltip;\n",
       "};\n",
       "mpl.toolbar_items = [[\"Home\", \"Reset original view\", \"fa fa-home icon-home\", \"home\"], [\"Back\", \"Back to  previous view\", \"fa fa-arrow-left icon-arrow-left\", \"back\"], [\"Forward\", \"Forward to next view\", \"fa fa-arrow-right icon-arrow-right\", \"forward\"], [\"\", \"\", \"\", \"\"], [\"Pan\", \"Pan axes with left mouse, zoom with right\", \"fa fa-arrows icon-move\", \"pan\"], [\"Zoom\", \"Zoom to rectangle\", \"fa fa-square-o icon-check-empty\", \"zoom\"], [\"\", \"\", \"\", \"\"], [\"Download\", \"Download plot\", \"fa fa-floppy-o icon-save\", \"download\"]];\n",
       "\n",
       "mpl.extensions = [\"eps\", \"pdf\", \"png\", \"ps\", \"raw\", \"svg\"];\n",
       "\n",
       "mpl.default_extension = \"png\";var comm_websocket_adapter = function(comm) {\n",
       "    // Create a \"websocket\"-like object which calls the given IPython comm\n",
       "    // object with the appropriate methods. Currently this is a non binary\n",
       "    // socket, so there is still some room for performance tuning.\n",
       "    var ws = {};\n",
       "\n",
       "    ws.close = function() {\n",
       "        comm.close()\n",
       "    };\n",
       "    ws.send = function(m) {\n",
       "        //console.log('sending', m);\n",
       "        comm.send(m);\n",
       "    };\n",
       "    // Register the callback with on_msg.\n",
       "    comm.on_msg(function(msg) {\n",
       "        //console.log('receiving', msg['content']['data'], msg);\n",
       "        // Pass the mpl event to the overriden (by mpl) onmessage function.\n",
       "        ws.onmessage(msg['content']['data'])\n",
       "    });\n",
       "    return ws;\n",
       "}\n",
       "\n",
       "mpl.mpl_figure_comm = function(comm, msg) {\n",
       "    // This is the function which gets called when the mpl process\n",
       "    // starts-up an IPython Comm through the \"matplotlib\" channel.\n",
       "\n",
       "    var id = msg.content.data.id;\n",
       "    // Get hold of the div created by the display call when the Comm\n",
       "    // socket was opened in Python.\n",
       "    var element = $(\"#\" + id);\n",
       "    var ws_proxy = comm_websocket_adapter(comm)\n",
       "\n",
       "    function ondownload(figure, format) {\n",
       "        window.open(figure.imageObj.src);\n",
       "    }\n",
       "\n",
       "    var fig = new mpl.figure(id, ws_proxy,\n",
       "                           ondownload,\n",
       "                           element.get(0));\n",
       "\n",
       "    // Call onopen now - mpl needs it, as it is assuming we've passed it a real\n",
       "    // web socket which is closed, not our websocket->open comm proxy.\n",
       "    ws_proxy.onopen();\n",
       "\n",
       "    fig.parent_element = element.get(0);\n",
       "    fig.cell_info = mpl.find_output_cell(\"<div id='\" + id + \"'></div>\");\n",
       "    if (!fig.cell_info) {\n",
       "        console.error(\"Failed to find cell for figure\", id, fig);\n",
       "        return;\n",
       "    }\n",
       "\n",
       "    var output_index = fig.cell_info[2]\n",
       "    var cell = fig.cell_info[0];\n",
       "\n",
       "};\n",
       "\n",
       "mpl.figure.prototype.handle_close = function(fig, msg) {\n",
       "    var width = fig.canvas.width/mpl.ratio\n",
       "    fig.root.unbind('remove')\n",
       "\n",
       "    // Update the output cell to use the data from the current canvas.\n",
       "    fig.push_to_output();\n",
       "    var dataURL = fig.canvas.toDataURL();\n",
       "    // Re-enable the keyboard manager in IPython - without this line, in FF,\n",
       "    // the notebook keyboard shortcuts fail.\n",
       "    IPython.keyboard_manager.enable()\n",
       "    $(fig.parent_element).html('<img src=\"' + dataURL + '\" width=\"' + width + '\">');\n",
       "    fig.close_ws(fig, msg);\n",
       "}\n",
       "\n",
       "mpl.figure.prototype.close_ws = function(fig, msg){\n",
       "    fig.send_message('closing', msg);\n",
       "    // fig.ws.close()\n",
       "}\n",
       "\n",
       "mpl.figure.prototype.push_to_output = function(remove_interactive) {\n",
       "    // Turn the data on the canvas into data in the output cell.\n",
       "    var width = this.canvas.width/mpl.ratio\n",
       "    var dataURL = this.canvas.toDataURL();\n",
       "    this.cell_info[1]['text/html'] = '<img src=\"' + dataURL + '\" width=\"' + width + '\">';\n",
       "}\n",
       "\n",
       "mpl.figure.prototype.updated_canvas_event = function() {\n",
       "    // Tell IPython that the notebook contents must change.\n",
       "    IPython.notebook.set_dirty(true);\n",
       "    this.send_message(\"ack\", {});\n",
       "    var fig = this;\n",
       "    // Wait a second, then push the new image to the DOM so\n",
       "    // that it is saved nicely (might be nice to debounce this).\n",
       "    setTimeout(function () { fig.push_to_output() }, 1000);\n",
       "}\n",
       "\n",
       "mpl.figure.prototype._init_toolbar = function() {\n",
       "    var fig = this;\n",
       "\n",
       "    var nav_element = $('<div/>')\n",
       "    nav_element.attr('style', 'width: 100%');\n",
       "    this.root.append(nav_element);\n",
       "\n",
       "    // Define a callback function for later on.\n",
       "    function toolbar_event(event) {\n",
       "        return fig.toolbar_button_onclick(event['data']);\n",
       "    }\n",
       "    function toolbar_mouse_event(event) {\n",
       "        return fig.toolbar_button_onmouseover(event['data']);\n",
       "    }\n",
       "\n",
       "    for(var toolbar_ind in mpl.toolbar_items){\n",
       "        var name = mpl.toolbar_items[toolbar_ind][0];\n",
       "        var tooltip = mpl.toolbar_items[toolbar_ind][1];\n",
       "        var image = mpl.toolbar_items[toolbar_ind][2];\n",
       "        var method_name = mpl.toolbar_items[toolbar_ind][3];\n",
       "\n",
       "        if (!name) { continue; };\n",
       "\n",
       "        var button = $('<button class=\"btn btn-default\" href=\"#\" title=\"' + name + '\"><i class=\"fa ' + image + ' fa-lg\"></i></button>');\n",
       "        button.click(method_name, toolbar_event);\n",
       "        button.mouseover(tooltip, toolbar_mouse_event);\n",
       "        nav_element.append(button);\n",
       "    }\n",
       "\n",
       "    // Add the status bar.\n",
       "    var status_bar = $('<span class=\"mpl-message\" style=\"text-align:right; float: right;\"/>');\n",
       "    nav_element.append(status_bar);\n",
       "    this.message = status_bar[0];\n",
       "\n",
       "    // Add the close button to the window.\n",
       "    var buttongrp = $('<div class=\"btn-group inline pull-right\"></div>');\n",
       "    var button = $('<button class=\"btn btn-mini btn-primary\" href=\"#\" title=\"Stop Interaction\"><i class=\"fa fa-power-off icon-remove icon-large\"></i></button>');\n",
       "    button.click(function (evt) { fig.handle_close(fig, {}); } );\n",
       "    button.mouseover('Stop Interaction', toolbar_mouse_event);\n",
       "    buttongrp.append(button);\n",
       "    var titlebar = this.root.find($('.ui-dialog-titlebar'));\n",
       "    titlebar.prepend(buttongrp);\n",
       "}\n",
       "\n",
       "mpl.figure.prototype._root_extra_style = function(el){\n",
       "    var fig = this\n",
       "    el.on(\"remove\", function(){\n",
       "\tfig.close_ws(fig, {});\n",
       "    });\n",
       "}\n",
       "\n",
       "mpl.figure.prototype._canvas_extra_style = function(el){\n",
       "    // this is important to make the div 'focusable\n",
       "    el.attr('tabindex', 0)\n",
       "    // reach out to IPython and tell the keyboard manager to turn it's self\n",
       "    // off when our div gets focus\n",
       "\n",
       "    // location in version 3\n",
       "    if (IPython.notebook.keyboard_manager) {\n",
       "        IPython.notebook.keyboard_manager.register_events(el);\n",
       "    }\n",
       "    else {\n",
       "        // location in version 2\n",
       "        IPython.keyboard_manager.register_events(el);\n",
       "    }\n",
       "\n",
       "}\n",
       "\n",
       "mpl.figure.prototype._key_event_extra = function(event, name) {\n",
       "    var manager = IPython.notebook.keyboard_manager;\n",
       "    if (!manager)\n",
       "        manager = IPython.keyboard_manager;\n",
       "\n",
       "    // Check for shift+enter\n",
       "    if (event.shiftKey && event.which == 13) {\n",
       "        this.canvas_div.blur();\n",
       "        // select the cell after this one\n",
       "        var index = IPython.notebook.find_cell_index(this.cell_info[0]);\n",
       "        IPython.notebook.select(index + 1);\n",
       "    }\n",
       "}\n",
       "\n",
       "mpl.figure.prototype.handle_save = function(fig, msg) {\n",
       "    fig.ondownload(fig, null);\n",
       "}\n",
       "\n",
       "\n",
       "mpl.find_output_cell = function(html_output) {\n",
       "    // Return the cell and output element which can be found *uniquely* in the notebook.\n",
       "    // Note - this is a bit hacky, but it is done because the \"notebook_saving.Notebook\"\n",
       "    // IPython event is triggered only after the cells have been serialised, which for\n",
       "    // our purposes (turning an active figure into a static one), is too late.\n",
       "    var cells = IPython.notebook.get_cells();\n",
       "    var ncells = cells.length;\n",
       "    for (var i=0; i<ncells; i++) {\n",
       "        var cell = cells[i];\n",
       "        if (cell.cell_type === 'code'){\n",
       "            for (var j=0; j<cell.output_area.outputs.length; j++) {\n",
       "                var data = cell.output_area.outputs[j];\n",
       "                if (data.data) {\n",
       "                    // IPython >= 3 moved mimebundle to data attribute of output\n",
       "                    data = data.data;\n",
       "                }\n",
       "                if (data['text/html'] == html_output) {\n",
       "                    return [cell, data, j];\n",
       "                }\n",
       "            }\n",
       "        }\n",
       "    }\n",
       "}\n",
       "\n",
       "// Register the function which deals with the matplotlib target/channel.\n",
       "// The kernel may be null if the page has been refreshed.\n",
       "if (IPython.notebook.kernel != null) {\n",
       "    IPython.notebook.kernel.comm_manager.register_target('matplotlib', mpl.mpl_figure_comm);\n",
       "}\n"
      ],
      "text/plain": [
       "<IPython.core.display.Javascript object>"
      ]
     },
     "metadata": {},
     "output_type": "display_data"
    },
    {
     "data": {
      "text/html": [
       "<img src=\"data:image/png;base64,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\" width=\"640\">"
      ],
      "text/plain": [
       "<IPython.core.display.HTML object>"
      ]
     },
     "metadata": {},
     "output_type": "display_data"
    },
    {
     "data": {
      "text/plain": [
       "[<matplotlib.lines.Line2D at 0xacf3fd0>]"
      ]
     },
     "execution_count": 66,
     "metadata": {},
     "output_type": "execute_result"
    }
   ],
   "source": [
    "%matplotlib notebook\n",
    "dp_trace=h.traces[46].samples\n",
    "plt.plot(dp_trace)"
   ]
  },
  {
   "cell_type": "code",
   "execution_count": 73,
   "metadata": {},
   "outputs": [
    {
     "data": {
      "text/plain": [
       "True"
      ]
     },
     "execution_count": 73,
     "metadata": {},
     "output_type": "execute_result"
    }
   ],
   "source": [
    "dp=sum(np.uint64(h.traces[t].samples)*np.uint64(dp_trace))\n",
    "dp==h.traces[t].dot_product"
   ]
  },
  {
   "cell_type": "code",
   "execution_count": 45,
   "metadata": {},
   "outputs": [
    {
     "data": {
      "text/plain": [
       "765729535.0"
      ]
     },
     "execution_count": 45,
     "metadata": {},
     "output_type": "execute_result"
    }
   ],
   "source": [
    "dp"
   ]
  },
  {
   "cell_type": "code",
   "execution_count": null,
   "metadata": {
    "collapsed": true
   },
   "outputs": [],
   "source": [
    "trace_header_dt=np.dtype([('size',np.uint16),('trace_flags',np.uint8,(2,))])"
   ]
  },
  {
   "cell_type": "code",
   "execution_count": null,
   "metadata": {},
   "outputs": [],
   "source": [
    "from tes.hdf5 import TraceFlags\n",
    "TraceFlags(h.frames[325].payload[2:4])"
   ]
  },
  {
   "cell_type": "code",
   "execution_count": null,
   "metadata": {},
   "outputs": [],
   "source": [
    "h.traces[92]"
   ]
  },
  {
   "cell_type": "code",
   "execution_count": null,
   "metadata": {},
   "outputs": [],
   "source": [
    "h.h['traces'][1]"
   ]
  },
  {
   "cell_type": "code",
   "execution_count": null,
   "metadata": {
    "collapsed": true
   },
   "outputs": [],
   "source": [
    "packets[0]['data'][24:]"
   ]
  },
  {
   "cell_type": "code",
   "execution_count": null,
   "metadata": {},
   "outputs": [],
   "source": []
  },
  {
   "cell_type": "code",
   "execution_count": null,
   "metadata": {
    "collapsed": true
   },
   "outputs": [],
   "source": [
    "h.distributions[0].stop_time"
   ]
  },
  {
   "cell_type": "code",
   "execution_count": null,
   "metadata": {
    "collapsed": true
   },
   "outputs": [],
   "source": [
    "%matplotlib notebook\n",
    "plt.plot(h.distributions[0].bins,'.')"
   ]
  },
  {
   "cell_type": "code",
   "execution_count": null,
   "metadata": {
    "collapsed": true
   },
   "outputs": [],
   "source": [
    "h.frames[1].payload_type"
   ]
  },
  {
   "cell_type": "code",
   "execution_count": null,
   "metadata": {
    "collapsed": true
   },
   "outputs": [],
   "source": [
    "h.frames[52].payload"
   ]
  },
  {
   "cell_type": "code",
   "execution_count": null,
   "metadata": {
    "collapsed": true
   },
   "outputs": [],
   "source": [
    "frame_header_dt.names"
   ]
  },
  {
   "cell_type": "code",
   "execution_count": null,
   "metadata": {
    "collapsed": true
   },
   "outputs": [],
   "source": [
    "h.close()"
   ]
  },
  {
   "cell_type": "code",
   "execution_count": null,
   "metadata": {
    "collapsed": true
   },
   "outputs": [],
   "source": [
    "stream=Data.fromfile('bytestream',stream_dt,'teslib','measurement_subsystem_TB',tool='vivado')\n",
    "packets=_PacketData(stream)\n",
    "del stream\n",
    "# _import(packets)\n",
    "# h=h5py.File('TES.hdf5','r')"
   ]
  },
  {
   "cell_type": "code",
   "execution_count": null,
   "metadata": {
    "collapsed": true
   },
   "outputs": [],
   "source": [
    "packets[1]['data']"
   ]
  },
  {
   "cell_type": "code",
   "execution_count": null,
   "metadata": {
    "collapsed": true
   },
   "outputs": [],
   "source": [
    "packets[51]\n"
   ]
  },
  {
   "cell_type": "code",
   "execution_count": null,
   "metadata": {
    "collapsed": true
   },
   "outputs": [],
   "source": [
    "h.close()"
   ]
  },
  {
   "cell_type": "code",
   "execution_count": null,
   "metadata": {
    "collapsed": true
   },
   "outputs": [],
   "source": [
    "len(h['traces'])"
   ]
  },
  {
   "cell_type": "code",
   "execution_count": null,
   "metadata": {
    "collapsed": true
   },
   "outputs": [],
   "source": [
    "t=h['raw_data/event'][h['traces'][5]]"
   ]
  },
  {
   "cell_type": "code",
   "execution_count": null,
   "metadata": {
    "collapsed": true
   },
   "outputs": [],
   "source": [
    "%matplotlib notebook\n",
    "t=h['raw_data/event'][h['traces'][5]]\n",
    "tr=Trace(t)\n",
    "print(tr.flags,'\\n',tr.trace_flags)\n",
    "plt.plot(tr.samples)"
   ]
  },
  {
   "cell_type": "code",
   "execution_count": null,
   "metadata": {
    "collapsed": true
   },
   "outputs": [],
   "source": [
    "tr"
   ]
  },
  {
   "cell_type": "code",
   "execution_count": null,
   "metadata": {
    "collapsed": true
   },
   "outputs": [],
   "source": [
    "s=str(tr.flags)\n",
    "s"
   ]
  },
  {
   "cell_type": "code",
   "execution_count": null,
   "metadata": {
    "collapsed": true
   },
   "outputs": [],
   "source": [
    "print(s)"
   ]
  },
  {
   "cell_type": "code",
   "execution_count": null,
   "metadata": {
    "collapsed": true
   },
   "outputs": [],
   "source": [
    "type(h['raw_data/event'][h['traces'][0]])"
   ]
  },
  {
   "cell_type": "code",
   "execution_count": null,
   "metadata": {
    "collapsed": true
   },
   "outputs": [],
   "source": [
    "from tes.hdf5 import Trace"
   ]
  },
  {
   "cell_type": "code",
   "execution_count": null,
   "metadata": {
    "collapsed": true
   },
   "outputs": [],
   "source": [
    "tr.flags"
   ]
  },
  {
   "cell_type": "code",
   "execution_count": null,
   "metadata": {
    "collapsed": true
   },
   "outputs": [],
   "source": [
    "tr.trace_flags"
   ]
  },
  {
   "cell_type": "code",
   "execution_count": null,
   "metadata": {
    "collapsed": true
   },
   "outputs": [],
   "source": [
    "%matplotlib notebook\n",
    "plt.plot(tr.samples)"
   ]
  },
  {
   "cell_type": "code",
   "execution_count": null,
   "metadata": {
    "collapsed": true
   },
   "outputs": [],
   "source": [
    "len(tr.samples)"
   ]
  },
  {
   "cell_type": "code",
   "execution_count": null,
   "metadata": {
    "collapsed": true
   },
   "outputs": [],
   "source": [
    "first_dt = np.dtype([('size', np.uint16), ('tflags0', np.uint8), ('tflags1', np.uint8),\n",
    "        ('flags0', np.uint8), ('flags1', np.uint8), ('time', np.uint16)])\n",
    "\n"
   ]
  },
  {
   "cell_type": "code",
   "execution_count": null,
   "metadata": {
    "collapsed": true
   },
   "outputs": [],
   "source": []
  },
  {
   "cell_type": "code",
   "execution_count": null,
   "metadata": {
    "collapsed": true
   },
   "outputs": [],
   "source": [
    "t[0:8].view(first_dt)"
   ]
  },
  {
   "cell_type": "code",
   "execution_count": null,
   "metadata": {
    "collapsed": true
   },
   "outputs": [],
   "source": []
  },
  {
   "cell_type": "code",
   "execution_count": null,
   "metadata": {
    "collapsed": true
   },
   "outputs": [],
   "source": [
    "_rref = h5py.special_dtype(ref=h5py.RegionReference)\n",
    "h=h5py.File('test.hdf5', 'w')"
   ]
  },
  {
   "cell_type": "code",
   "execution_count": null,
   "metadata": {
    "collapsed": true
   },
   "outputs": [],
   "source": [
    "h.close()"
   ]
  },
  {
   "cell_type": "code",
   "execution_count": null,
   "metadata": {
    "collapsed": true
   },
   "outputs": [],
   "source": [
    "t= np.array((10,),'u1')\n",
    "h.create_dataset('t',(10,),dtype='u1')"
   ]
  },
  {
   "cell_type": "code",
   "execution_count": null,
   "metadata": {
    "collapsed": true
   },
   "outputs": [],
   "source": [
    "h.create_dataset('r',(10,),dtype=_rref)"
   ]
  },
  {
   "cell_type": "code",
   "execution_count": null,
   "metadata": {
    "collapsed": true
   },
   "outputs": [],
   "source": [
    "h.create_dataset('s',(10,),dtype='u1')"
   ]
  },
  {
   "cell_type": "code",
   "execution_count": null,
   "metadata": {
    "collapsed": true
   },
   "outputs": [],
   "source": [
    "h['s'][0]=0\n",
    "h['s'][1]=1"
   ]
  },
  {
   "cell_type": "code",
   "execution_count": null,
   "metadata": {
    "collapsed": true
   },
   "outputs": [],
   "source": [
    "h['r'][0]=h['t'].regionref[0:2]"
   ]
  },
  {
   "cell_type": "code",
   "execution_count": null,
   "metadata": {
    "collapsed": true
   },
   "outputs": [],
   "source": [
    "r=h['r'][0]"
   ]
  },
  {
   "cell_type": "code",
   "execution_count": null,
   "metadata": {
    "collapsed": true
   },
   "outputs": [],
   "source": [
    "t= np.array([0,1,2],'u1')"
   ]
  },
  {
   "cell_type": "code",
   "execution_count": null,
   "metadata": {
    "collapsed": true
   },
   "outputs": [],
   "source": [
    "t = [0,1]\n",
    "\n",
    "f = np.uint64(0)\n",
    "print(type(f))\n",
    "f += len(t)\n",
    "print(type(f))"
   ]
  },
  {
   "cell_type": "code",
   "execution_count": null,
   "metadata": {
    "collapsed": true
   },
   "outputs": [],
   "source": [
    "t[0:1][0]"
   ]
  },
  {
   "cell_type": "code",
   "execution_count": null,
   "metadata": {
    "collapsed": true
   },
   "outputs": [],
   "source": [
    "i=0\n",
    "for p in packets:\n",
    "    if i==7:\n",
    "        break\n",
    "    i+=1"
   ]
  },
  {
   "cell_type": "code",
   "execution_count": null,
   "metadata": {
    "collapsed": true
   },
   "outputs": [],
   "source": [
    "p"
   ]
  },
  {
   "cell_type": "code",
   "execution_count": null,
   "metadata": {
    "collapsed": true
   },
   "outputs": [],
   "source": [
    "lasts = np.where(stream['last'] < 0)[0] + 1"
   ]
  },
  {
   "cell_type": "code",
   "execution_count": null,
   "metadata": {
    "collapsed": true
   },
   "outputs": [],
   "source": [
    "lasts"
   ]
  },
  {
   "cell_type": "code",
   "execution_count": null,
   "metadata": {
    "collapsed": true
   },
   "outputs": [],
   "source": [
    "'last' in stream.dtype.names"
   ]
  },
  {
   "cell_type": "code",
   "execution_count": null,
   "metadata": {
    "collapsed": true
   },
   "outputs": [],
   "source": [
    "isinstance(stream,np.ndarray)"
   ]
  },
  {
   "cell_type": "code",
   "execution_count": null,
   "metadata": {
    "collapsed": true
   },
   "outputs": [],
   "source": [
    "type('poo')"
   ]
  },
  {
   "cell_type": "code",
   "execution_count": null,
   "metadata": {
    "collapsed": true
   },
   "outputs": [],
   "source": [
    "stream[lasts[0]:]"
   ]
  },
  {
   "cell_type": "code",
   "execution_count": null,
   "metadata": {
    "collapsed": true
   },
   "outputs": [],
   "source": [
    "ps=PacketStream(stream)\n",
    "# ps.traces"
   ]
  },
  {
   "cell_type": "code",
   "execution_count": null,
   "metadata": {
    "collapsed": true
   },
   "outputs": [],
   "source": [
    "type(ps[0])"
   ]
  },
  {
   "cell_type": "code",
   "execution_count": null,
   "metadata": {
    "collapsed": true
   },
   "outputs": [],
   "source": [
    "sum(stream['last']<0)"
   ]
  },
  {
   "cell_type": "code",
   "execution_count": null,
   "metadata": {
    "collapsed": true
   },
   "outputs": [],
   "source": [
    "%matplotlib notebook\n",
    "\n",
    "plt.plot(ps.traces[3]._view['trace'])\n",
    "# ps.traces[2]._view['trace'][-20:]"
   ]
  },
  {
   "cell_type": "code",
   "execution_count": null,
   "metadata": {
    "collapsed": true
   },
   "outputs": [],
   "source": [
    "ps.traces"
   ]
  },
  {
   "cell_type": "code",
   "execution_count": null,
   "metadata": {
    "collapsed": true,
    "run_control": {
     "frozen": false,
     "read_only": false
    },
    "scrolled": true
   },
   "outputs": [],
   "source": [
    "traces=Data.fromfile('traces',trace_dt,'teslib','measurement_subsystem_TB',tool='vivado')\n",
    "stream=Data.fromfile('bytestream',stream_dt,'teslib','measurement_subsystem_TB',tool='vivado')\n",
    "bs=PacketStream(stream)\n",
    "dists=bs.distributions\n",
    "#bs.packets\n",
    "dists"
   ]
  },
  {
   "cell_type": "code",
   "execution_count": null,
   "metadata": {
    "collapsed": true
   },
   "outputs": [],
   "source": [
    "d=dists[0]\n",
    "d.counts[-1]"
   ]
  },
  {
   "cell_type": "code",
   "execution_count": null,
   "metadata": {
    "collapsed": true
   },
   "outputs": [],
   "source": [
    "d.total+d.underflow+d.overflow"
   ]
  },
  {
   "cell_type": "code",
   "execution_count": null,
   "metadata": {
    "collapsed": true
   },
   "outputs": [],
   "source": [
    "%matplotlib notebook\n",
    "plt.plot(d.bins)"
   ]
  },
  {
   "cell_type": "code",
   "execution_count": null,
   "metadata": {
    "collapsed": true,
    "scrolled": false
   },
   "outputs": [],
   "source": [
    "f=EventFlags(es[2][2]['flags'])\n",
    "f.channel"
   ]
  },
  {
   "cell_type": "code",
   "execution_count": null,
   "metadata": {
    "collapsed": true,
    "run_control": {
     "frozen": false,
     "read_only": false
    },
    "scrolled": true
   },
   "outputs": [],
   "source": [
    "import tes.mca as mca\n",
    "d=bs.distributions[0]\n",
    "eset=np.uint64(1)\n",
    "bset=np.uint64(0)\n",
    "cset=np.uint64(20)\n",
    "\n",
    "stop=d.stop_time+eset+cset\n",
    "start=d.start_time+bset+cset\n",
    "bins=np.zeros((d.last_bin+1,),dtype=np.uint32)\n",
    "\n",
    "if d.value==mca.Value.raw_signal:\n",
    "    tname='raw'\n",
    "elif d.value==mca.Value.filtered_signal:\n",
    "    tname='filtered'\n",
    "elif d.value==mca.Value.slope_signal:\n",
    "    tname='slope'\n",
    "\n",
    "for i in range(start,stop):\n",
    "    s = traces[tname][i]\n",
    "    if s < d.lowest_value:\n",
    "        bins[0] += 1\n",
    "    else:\n",
    "        bin_number = s - d.lowest_value + 1\n",
    "        if bin_number < d.last_bin:\n",
    "            bins[bin_number] += 1\n",
    "        else:\n",
    "            bins[d.last_bin] += 1\n",
    "        \n",
    "bad=(bins-d.counts).nonzero()\n",
    "bad"
   ]
  },
  {
   "cell_type": "code",
   "execution_count": null,
   "metadata": {
    "collapsed": true
   },
   "outputs": [],
   "source": [
    "d.counts[bad][1:10]"
   ]
  },
  {
   "cell_type": "code",
   "execution_count": null,
   "metadata": {
    "collapsed": true
   },
   "outputs": [],
   "source": [
    "bins[bad][1:10]"
   ]
  },
  {
   "cell_type": "code",
   "execution_count": null,
   "metadata": {
    "collapsed": true
   },
   "outputs": [],
   "source": [
    "d.value"
   ]
  },
  {
   "cell_type": "code",
   "execution_count": null,
   "metadata": {
    "collapsed": true,
    "scrolled": false
   },
   "outputs": [],
   "source": [
    "%matplotlib notebook\n",
    "plt.step(np.arange(len(d.bins)),d.bins)\n",
    "# plt.step(np.arange(len(d.counts)),bins)\n",
    "plt.plot(bad,np.zeros_like(bad),'.k')"
   ]
  },
  {
   "cell_type": "code",
   "execution_count": null,
   "metadata": {
    "collapsed": true
   },
   "outputs": [],
   "source": [
    "sum(d.counts)"
   ]
  },
  {
   "cell_type": "code",
   "execution_count": null,
   "metadata": {
    "collapsed": true
   },
   "outputs": [],
   "source": [
    "2**14+2000"
   ]
  },
  {
   "cell_type": "code",
   "execution_count": null,
   "metadata": {
    "collapsed": true,
    "run_control": {
     "frozen": false,
     "read_only": false
    }
   },
   "outputs": [],
   "source": [
    "def plot_event(event_tupple):\n",
    "    pre=200\n",
    "    post=1000\n",
    "    timestamp=event_tupple[0]\n",
    "    event_type=event_tupple[1]\n",
    "    event=event_tupple[2]\n",
    "    flags=EventFlags(event['flags'])\n",
    "    print(flags)\n",
    "    print('timestamp',timestamp, 'time', event['time'])\n",
    "    if flags.type == Event.tick:\n",
    "        return\n",
    "    s=traces['filtered'][timestamp+20-pre:timestamp+20+post]\n",
    "    r=traces['raw'][timestamp+20-pre:timestamp+20+post]\n",
    "    i = np.where(abs(minmax['clk'])<=timestamp+20)[0][-1]\n",
    "    min_t=abs(minmax['clk'][i])-(timestamp+20)\n",
    "#     print(minmax['clk'][i],min_t,i,timestamp)\n",
    "    plt.plot(r,'k',linewidth=0.5)\n",
    "    plt.plot(s,'b',linewidth=2)\n",
    "    plt.plot([pre],s[pre],'sg')\n",
    "    plt.plot([pre+min_t],minmax['filtered'][i],'sr')\n",
    "    if event_type==Event.pulse:\n",
    "        for i in range(flags.peak_number):\n",
    "            p=event['peaks'][i]\n",
    "            plt.plot([0,len(s)-1],[p['height'],p['height']],':r')\n",
    "    else:\n",
    "      plt.plot([0,len(s)-1],[event['height'],event['height']],':r')\n",
    "        \n",
    "    #print(event['height'],event['minima'])\n",
    "    #print(minmax['filtered'][i]==s[pre+min_t])\n",
    "    #print(minmax['filtered'][i]==event['minima'])\n",
    "    #print(s[pre],s[pre-1])"
   ]
  },
  {
   "cell_type": "code",
   "execution_count": null,
   "metadata": {
    "collapsed": true,
    "run_control": {
     "frozen": false,
     "read_only": false
    }
   },
   "outputs": [],
   "source": [
    "pwd"
   ]
  },
  {
   "cell_type": "code",
   "execution_count": null,
   "metadata": {
    "collapsed": true
   },
   "outputs": [],
   "source": [
    "es=bs.eventstream\n",
    "es"
   ]
  },
  {
   "cell_type": "code",
   "execution_count": null,
   "metadata": {
    "collapsed": true,
    "run_control": {
     "frozen": false,
     "read_only": false
    }
   },
   "outputs": [],
   "source": [
    "%matplotlib notebook\n",
    "for e in es:\n",
    "    if e[1]==Event.peak:\n",
    "        plot_event(e)"
   ]
  },
  {
   "cell_type": "code",
   "execution_count": null,
   "metadata": {
    "collapsed": true,
    "run_control": {
     "frozen": false,
     "read_only": false
    }
   },
   "outputs": [],
   "source": [
    "es"
   ]
  },
  {
   "cell_type": "code",
   "execution_count": null,
   "metadata": {
    "collapsed": true,
    "run_control": {
     "frozen": false,
     "read_only": false
    }
   },
   "outputs": [],
   "source": [
    "dists=bs.distributions\n",
    "dists"
   ]
  },
  {
   "cell_type": "code",
   "execution_count": null,
   "metadata": {
    "collapsed": true,
    "run_control": {
     "frozen": false,
     "read_only": false
    }
   },
   "outputs": [],
   "source": [
    "bs.packets[185].payload"
   ]
  },
  {
   "cell_type": "code",
   "execution_count": null,
   "metadata": {
    "collapsed": true,
    "run_control": {
     "frozen": false,
     "read_only": false
    }
   },
   "outputs": [],
   "source": [
    "d=bs.distributions[0]\n",
    "eset=np.uint64(1)\n",
    "bset=np.uint64(0)\n",
    "cset=np.uint64(20)\n",
    "\n",
    "stop=d.stop_time+eset+cset\n",
    "start=d.start_time+bset+cset\n",
    "bins=np.zeros((d.last_bin+1,),dtype=np.uint32)\n",
    "for i in range(start,stop):\n",
    "    s = traces['raw'][i]\n",
    "    if s <= d.lowest_value:\n",
    "        bins[0] += 1\n",
    "    else:\n",
    "        bins[s-d.lowest_value] += 1\n",
    "        \n",
    "(bins-d.counts).nonzero()"
   ]
  },
  {
   "cell_type": "code",
   "execution_count": null,
   "metadata": {
    "collapsed": true,
    "run_control": {
     "frozen": false,
     "read_only": false
    }
   },
   "outputs": [],
   "source": [
    "%matplotlib notebook\n",
    "plt.step(np.arange(len(d.counts)),d.counts)"
   ]
  },
  {
   "cell_type": "code",
   "execution_count": null,
   "metadata": {
    "collapsed": true,
    "run_control": {
     "frozen": false,
     "read_only": false
    }
   },
   "outputs": [],
   "source": [
    "bins[bins.nonzero()]"
   ]
  },
  {
   "cell_type": "code",
   "execution_count": null,
   "metadata": {
    "collapsed": true,
    "run_control": {
     "frozen": false,
     "read_only": false
    }
   },
   "outputs": [],
   "source": [
    "sum(d.counts)"
   ]
  },
  {
   "cell_type": "code",
   "execution_count": null,
   "metadata": {
    "collapsed": true,
    "run_control": {
     "frozen": false,
     "read_only": false
    }
   },
   "outputs": [],
   "source": [
    "2**14+2000"
   ]
  },
  {
   "cell_type": "code",
   "execution_count": null,
   "metadata": {
    "collapsed": true,
    "run_control": {
     "frozen": false,
     "read_only": false
    }
   },
   "outputs": [],
   "source": [
    "es[3][2]['timestamp']-es[0][2]['timestamp']"
   ]
  },
  {
   "cell_type": "code",
   "execution_count": null,
   "metadata": {
    "collapsed": true,
    "run_control": {
     "frozen": false,
     "read_only": false
    }
   },
   "outputs": [],
   "source": [
    "def xings(s, thresh):\n",
    "    pos=s > thresh\n",
    "    neg=s < thresh\n",
    "    pos0=s >= thresh\n",
    "    neg0=s <= thresh\n",
    "    pos_xing_mask = np.bitwise_and(pos0[1:],neg[0:-1])  \n",
    "    neg_xing_mask = np.bitwise_and(neg0[1:],pos[0:-1])  \n",
    "    return pos_xing_mask.nonzero()[0]+1, neg_xing_mask.nonzero()[0]+1"
   ]
  },
  {
   "cell_type": "code",
   "execution_count": null,
   "metadata": {
    "collapsed": true,
    "run_control": {
     "frozen": false,
     "read_only": false
    }
   },
   "outputs": [],
   "source": [
    "from mpl_toolkits.axes_grid1 import host_subplot\n",
    "\n",
    "def plot_trace(traces,start,width):\n",
    "\n",
    "    ax = host_subplot(111)\n",
    "    axr = ax.twinx()\n",
    "    axt = ax.twiny()\n",
    "#ax.plot(t[0:-1:10],s[0:-1:10],'k')\n",
    "#ax.plot(t,s,'k')\n",
    "    axt.set_xlabel('Time ns',fontsize=18)\n",
    "    ax.set_ylabel('Voltage (Arbitary Units)',fontsize=18)\n",
    "#plt.xticks(visible=False)\n",
    "#plt.yticks(visible=False)\n",
    "#ax.set_xlim(0,t[4000000])\n",
    "#start=902000\n",
    "#width=2500\n",
    "    f=traces['filtered'][start:start+width]\n",
    "    s=traces['slope'][start:start+width]\n",
    "    t=np.arange(len(f))*4e-9\n",
    "#ts=t[pstart:pstop]\n",
    "#axins = fig.add_axes([.4, .45, .45, .4])\n",
    "    ax.set_xlim(t[0],t[-1])\n",
    "    axt.set_xlim(t[0],t[-1])\n",
    "\n",
    "    ylim=(-500,2000)\n",
    "\n",
    "    ax.set_ylim(ylim[0],ylim[1])\n",
    "    axr.set_ylim(ylim[0],ylim[1])\n",
    "\n",
    "    filtered, = ax.step(t,f,'k',lw=2,label='filtered')\n",
    "    slope, = ax.step(t,s,'b',label='slope')\n",
    "    ax.fill_between(t,0,s,alpha=.4)\n",
    "    plt.ylim=ylim\n",
    "\n",
    "pos=s>0\n",
    "neg=s<=0\n",
    "pos_xing_mask = np.bitwise_and(pos[1:-1],neg[0:-2])  \n",
    "neg_xing_mask = np.bitwise_and(neg[1:-1],pos[0:-2])  \n",
    "pos_xing=pos_xing_mask.nonzero()\n",
    "neg_xing=neg_xing_mask.nonzero()\n",
    "\n",
    "rx=[t[pos_xing[0][0]], t[neg_xing[0][0]]]\n",
    "ry=[f[pos_xing[0][0]], f[neg_xing[0][0]]]\n",
    "\n",
    "ax.fill_between(t[pos_xing[0][0]:neg_xing[0][0]],0,s[pos_xing[0][0]:neg_xing[0][0]],alpha=.4,color='r')\n",
    "\n",
    "#plt.plot(rx,[ry[0], ry[0]],'-r',lw=2)\n",
    "#plt.plot([rx[1],rx[1]], ry,'-r',lw=2)\n",
    "# thresholds\n",
    "sthresh = 600\n",
    "pthresh = 1000\n",
    "plt.plot([t[0], t[-1]], [sthresh, sthresh], '--b', lw=2)\n",
    "plt.plot([t[0], t[-1]], [pthresh, pthresh], '--k', lw=2)\n",
    "\n",
    "sthresh_xing=(s>sthresh).nonzero()[0][0]\n",
    "pthresh_xing=(f>pthresh).nonzero()[0][0]\n",
    "\n",
    "\n",
    "cf=.10\n",
    "height = ry[1]-ry[0]\n",
    "cfl=ry[0]+(height*cf)\n",
    "cfh=ry[1]-(height*cf)\n",
    "\n",
    "cfl_xing=(f>cfl).nonzero()[0][0]\n",
    "cfd_low=f[cfl_xing]\n",
    "cfh_xing=(f>cfh).nonzero()[0][0]\n",
    "cfd_high=f[cfh_xing]\n",
    "\n",
    "#plt.plot([t[cfl_xing], t[-1]],[cfd_low, cfd_low], ':r')\n",
    "#plt.plot([t[cfh_xing], t[-1]],[cfd_high, cfd_high], ':r')\n",
    "#plt.plot([x[1], t[-1]],[y[1], y[1]], ':r')\n",
    "plt.legend([filtered, slope],['Signal', 'Slope'],loc=2)\n",
    "\n",
    "#axr = ax.twinx()\n",
    "##################################################################\n",
    "#yticks=([ry[0],sthresh,pthresh,cfd_high,ry[1]])\n",
    "yticks=([sthresh,pthresh])\n",
    "axr.set_yticks(yticks)\n",
    "#yticklabels=['Start','Slope threshold','Pulse threshold','CF high','Peak']\n",
    "yticklabels=['Slope threshold','Pulse threshold']\n",
    "axr.set_yticklabels(yticklabels, color='r',fontsize=14)\n",
    "axr.get_yticklabels()[0].set_color('b')\n",
    "axr.get_yticklabels()[1].set_color('k')\n",
    "\n",
    "#xticks=([rx[0],t[cfl_xing],t[sthresh_xing],t[pthresh_xing],rx[1]])\n",
    "xticks=(t[cfl_xing],rx[1])\n",
    "#ax.set_xticks([rx[0],t[cfl_xing],t[sthresh_xing],t[pthresh_xing],rx[1]])\n",
    "ax.set_xticks(xticks)\n",
    "#xticklabels=['Start','CF low','Slope xing','Signal xing','Peak']\n",
    "xticklabels=['CF low','Peak']\n",
    "ax.set_xticklabels(xticklabels, color='r',fontsize=14)\n",
    "\n",
    "#plt.plot([t[cfh_xing], t[-1]],[cfd_high, cfd_high], ':r')\n",
    "#horoz start, stop lines\n",
    "#hpeak=ax.plot([xticks[1], t[-1]],[yticks[-1], yticks[-1]], '-.r')\n",
    "#hstart=ax.plot([xticks[0], t[-1]],[yticks[0], yticks[0]], '-.r')\n",
    "#vert start stop\n",
    "vstart=ax.plot([xticks[0], xticks[0]],[cfd_low, ylim[0]], '-.r')\n",
    "vpeak=ax.plot([xticks[1], xticks[1]],[ylim[0], ry[1]], '-.r')\n",
    "\n",
    "plt.tight_layout()\n",
    "plt.savefig('..//peakextraction7.svg')\n",
    "plt.show()\n",
    "print('risetime:',(xticks[1]-xticks[0])/4)\n",
    "print('height:',yticks[-1]-yticks[0])\n",
    "print('time:',(xticks[0]-rx[0])/4)\n",
    "print('area',sum(s[pos_xing[0][0]:neg_xing[0][0]])/256)\n"
   ]
  },
  {
   "cell_type": "code",
   "execution_count": null,
   "metadata": {
    "collapsed": true,
    "run_control": {
     "frozen": false,
     "read_only": false
    }
   },
   "outputs": [],
   "source": [
    "slope_0xings = xings(traces['slope'],0)"
   ]
  },
  {
   "cell_type": "code",
   "execution_count": null,
   "metadata": {
    "collapsed": true,
    "run_control": {
     "frozen": false,
     "read_only": false
    }
   },
   "outputs": [],
   "source": [
    "slope_0xings"
   ]
  },
  {
   "cell_type": "code",
   "execution_count": null,
   "metadata": {
    "collapsed": true,
    "run_control": {
     "frozen": false,
     "read_only": false
    }
   },
   "outputs": [],
   "source": [
    "%matplotlib notebook\n",
    "start=10000\n",
    "width=300\n",
    "plt.plot(traces['filtered'][start:start+width]/2)"
   ]
  },
  {
   "cell_type": "code",
   "execution_count": null,
   "metadata": {
    "collapsed": true,
    "run_control": {
     "frozen": false,
     "read_only": false
    }
   },
   "outputs": [],
   "source": [
    "%matplotlib notebook\n",
    "plt.plot(traces['slope'][20400:21700])"
   ]
  },
  {
   "cell_type": "code",
   "execution_count": null,
   "metadata": {
    "collapsed": true,
    "run_control": {
     "frozen": false,
     "read_only": false
    }
   },
   "outputs": [],
   "source": [
    "filtered=traces['filtered'][1100:]\n",
    "filteredL=traces['filteredL'][1100:]"
   ]
  },
  {
   "cell_type": "code",
   "execution_count": null,
   "metadata": {
    "collapsed": true,
    "run_control": {
     "frozen": false,
     "read_only": false
    }
   },
   "outputs": [],
   "source": [
    "filtered[:10]"
   ]
  },
  {
   "cell_type": "code",
   "execution_count": null,
   "metadata": {
    "collapsed": true,
    "run_control": {
     "frozen": false,
     "read_only": false
    }
   },
   "outputs": [],
   "source": [
    "filteredL[:10]/4"
   ]
  },
  {
   "cell_type": "code",
   "execution_count": null,
   "metadata": {
    "collapsed": true,
    "run_control": {
     "frozen": false,
     "read_only": false
    }
   },
   "outputs": [],
   "source": [
    "minmax_dt=np.dtype([('filtered','i4'),('low','i4'),('high','i4'),('clk','i4')])\n",
    "minmax=Data.fromfile('minmax',minmax_dt,'teslib','measurement_subsystem_TB',tool='vivado')\n",
    "fxing_dt=np.dtype([('extrema','i4'),('area','i4'),('clk','i4')])\n",
    "fxing=Data.fromfile('filteredxing',fxing_dt,'teslib','measurement_subsystem_TB',tool='vivado')"
   ]
  },
  {
   "cell_type": "code",
   "execution_count": null,
   "metadata": {
    "collapsed": true,
    "run_control": {
     "frozen": false,
     "read_only": false
    }
   },
   "outputs": [],
   "source": [
    "minmax"
   ]
  },
  {
   "cell_type": "code",
   "execution_count": null,
   "metadata": {
    "collapsed": true,
    "run_control": {
     "frozen": false,
     "read_only": false
    }
   },
   "outputs": [],
   "source": [
    "fxing"
   ]
  },
  {
   "cell_type": "code",
   "execution_count": null,
   "metadata": {
    "collapsed": true,
    "run_control": {
     "frozen": false,
     "read_only": false
    }
   },
   "outputs": [],
   "source": [
    "np.where(fxing['area']==0)"
   ]
  },
  {
   "cell_type": "code",
   "execution_count": null,
   "metadata": {
    "collapsed": true,
    "run_control": {
     "frozen": false,
     "read_only": false
    }
   },
   "outputs": [],
   "source": [
    "np.where(fxing['extrema']==0)"
   ]
  },
  {
   "cell_type": "code",
   "execution_count": null,
   "metadata": {
    "collapsed": true,
    "run_control": {
     "frozen": false,
     "read_only": false
    }
   },
   "outputs": [],
   "source": [
    "fxing[30]"
   ]
  },
  {
   "cell_type": "code",
   "execution_count": null,
   "metadata": {
    "collapsed": true,
    "run_control": {
     "frozen": false,
     "read_only": false
    }
   },
   "outputs": [],
   "source": [
    "exn=np.where(fxing['extrema']<0)\n",
    "clkn=np.where(fxing['clk']>0)"
   ]
  },
  {
   "cell_type": "code",
   "execution_count": null,
   "metadata": {
    "collapsed": true,
    "run_control": {
     "frozen": false,
     "read_only": false
    }
   },
   "outputs": [],
   "source": []
  },
  {
   "cell_type": "code",
   "execution_count": null,
   "metadata": {
    "collapsed": true,
    "run_control": {
     "frozen": false,
     "read_only": false
    }
   },
   "outputs": [],
   "source": [
    "fxing[374]"
   ]
  },
  {
   "cell_type": "code",
   "execution_count": null,
   "metadata": {
    "collapsed": true,
    "run_control": {
     "frozen": false,
     "read_only": false
    }
   },
   "outputs": [],
   "source": [
    "clkn"
   ]
  },
  {
   "cell_type": "code",
   "execution_count": null,
   "metadata": {
    "collapsed": true,
    "run_control": {
     "frozen": false,
     "read_only": false
    }
   },
   "outputs": [],
   "source": [
    "np.where(minmax[maxs[0]-1]['min']!=1)"
   ]
  },
  {
   "cell_type": "code",
   "execution_count": null,
   "metadata": {
    "collapsed": true,
    "run_control": {
     "frozen": false,
     "read_only": false
    }
   },
   "outputs": [],
   "source": [
    "minmax[maxs[0]-1][65]"
   ]
  },
  {
   "cell_type": "code",
   "execution_count": null,
   "metadata": {
    "collapsed": true,
    "run_control": {
     "frozen": false,
     "read_only": false
    }
   },
   "outputs": [],
   "source": [
    "2290-925"
   ]
  },
  {
   "cell_type": "code",
   "execution_count": null,
   "metadata": {
    "collapsed": true,
    "run_control": {
     "frozen": false,
     "read_only": false
    }
   },
   "outputs": [],
   "source": [
    "0.375*4"
   ]
  },
  {
   "cell_type": "code",
   "execution_count": null,
   "metadata": {
    "collapsed": true,
    "run_control": {
     "frozen": false,
     "read_only": false
    }
   },
   "outputs": [],
   "source": [
    "np.where(minmax['clock']==2290)"
   ]
  },
  {
   "cell_type": "code",
   "execution_count": null,
   "metadata": {
    "collapsed": true,
    "run_control": {
     "frozen": false,
     "read_only": false
    }
   },
   "outputs": [],
   "source": [
    "minmax[120:140]"
   ]
  },
  {
   "cell_type": "code",
   "execution_count": null,
   "metadata": {
    "collapsed": true,
    "run_control": {
     "frozen": false,
     "read_only": false
    }
   },
   "outputs": [],
   "source": [
    "stream_dt=np.dtype([('data','>i4'),('last','i4')])\n",
    "#stream=np.fromfile('data/stream',stream_dt)"
   ]
  },
  {
   "cell_type": "markdown",
   "metadata": {},
   "source": [
    "### bytestream stuff"
   ]
  },
  {
   "cell_type": "code",
   "execution_count": null,
   "metadata": {
    "collapsed": true,
    "run_control": {
     "frozen": false,
     "read_only": false
    }
   },
   "outputs": [],
   "source": [
    "stream_dt=np.dtype([('data','i4'),('last','i4')])\n",
    "stream=Data.fromfile('bytestream',stream_dt,'teslib','measurement_subsystem_TB',tool='vivado')\n",
    "lasts=np.where(stream['last']<=0)[0]+1\n",
    "#data=np.copy(stream['data'])"
   ]
  },
  {
   "cell_type": "code",
   "execution_count": null,
   "metadata": {
    "collapsed": true,
    "run_control": {
     "frozen": false,
     "read_only": false
    }
   },
   "outputs": [],
   "source": [
    "stream"
   ]
  },
  {
   "cell_type": "code",
   "execution_count": null,
   "metadata": {
    "collapsed": true,
    "run_control": {
     "frozen": false,
     "read_only": false
    }
   },
   "outputs": [],
   "source": []
  },
  {
   "cell_type": "code",
   "execution_count": null,
   "metadata": {
    "collapsed": true,
    "run_control": {
     "frozen": false,
     "read_only": false
    }
   },
   "outputs": [],
   "source": [
    "stream=np.fromfile('data/bytestream',stream_dt)"
   ]
  },
  {
   "cell_type": "code",
   "execution_count": null,
   "metadata": {
    "collapsed": true,
    "run_control": {
     "frozen": false,
     "read_only": false
    }
   },
   "outputs": [],
   "source": [
    "bs=PacketStream(stream)"
   ]
  },
  {
   "cell_type": "code",
   "execution_count": null,
   "metadata": {
    "collapsed": true,
    "run_control": {
     "frozen": false,
     "read_only": false
    }
   },
   "outputs": [],
   "source": [
    "bs.packets"
   ]
  },
  {
   "cell_type": "code",
   "execution_count": null,
   "metadata": {
    "collapsed": true,
    "run_control": {
     "frozen": false,
     "read_only": false
    }
   },
   "outputs": [],
   "source": [
    "bs.packets[4]"
   ]
  },
  {
   "cell_type": "code",
   "execution_count": null,
   "metadata": {
    "collapsed": true,
    "run_control": {
     "frozen": false,
     "read_only": false
    }
   },
   "outputs": [],
   "source": [
    "eheader_dt=[('etype','<u2'),('length','u2'),()]"
   ]
  },
  {
   "cell_type": "code",
   "execution_count": null,
   "metadata": {
    "collapsed": true,
    "run_control": {
     "frozen": false,
     "read_only": false
    }
   },
   "outputs": [],
   "source": [
    "'{:X}'.format(bs.packets[1].bytes[23])\n"
   ]
  },
  {
   "cell_type": "code",
   "execution_count": null,
   "metadata": {
    "collapsed": true,
    "run_control": {
     "frozen": false,
     "read_only": false
    }
   },
   "outputs": [],
   "source": [
    "'{:X}'.format(bs.packets[0].bytes[28:30].view(np.uint16)[0])"
   ]
  },
  {
   "cell_type": "code",
   "execution_count": null,
   "metadata": {
    "collapsed": true,
    "run_control": {
     "frozen": false,
     "read_only": false
    }
   },
   "outputs": [],
   "source": [
    "pulse_peak_dt=np.dtype([('height','i2'),('rise','i2'),('minima','u2'),('time','i2')])\n",
    "pulse_dt=np.dtype([('size','i2'),('resv','i2'),('flags','i2'),('time','u2'),\n",
    "                  ('area','i4'),('length','i2'),('offset','i2'),('peaks',(pulse_peak_dt,2))])"
   ]
  },
  {
   "cell_type": "code",
   "execution_count": null,
   "metadata": {
    "collapsed": true,
    "run_control": {
     "frozen": false,
     "read_only": false
    }
   },
   "outputs": [],
   "source": [
    "pulses=bs.packets[3].payload.view(pulse_dt)"
   ]
  },
  {
   "cell_type": "code",
   "execution_count": null,
   "metadata": {
    "collapsed": true,
    "run_control": {
     "frozen": false,
     "read_only": false
    }
   },
   "outputs": [],
   "source": [
    "pulses['peaks']"
   ]
  },
  {
   "cell_type": "code",
   "execution_count": null,
   "metadata": {
    "collapsed": true,
    "run_control": {
     "frozen": false,
     "read_only": false
    }
   },
   "outputs": [],
   "source": [
    "pulses['offset']"
   ]
  },
  {
   "cell_type": "code",
   "execution_count": null,
   "metadata": {
    "collapsed": true,
    "run_control": {
     "frozen": false,
     "read_only": false
    }
   },
   "outputs": [],
   "source": [
    "pulses['length']"
   ]
  },
  {
   "cell_type": "code",
   "execution_count": null,
   "metadata": {
    "collapsed": true,
    "run_control": {
     "frozen": false,
     "read_only": false
    }
   },
   "outputs": [],
   "source": [
    "class eflags:\n",
    "    def __init__(self,uint16):\n",
    "        self.new_window=np.bitwise_and(uint16,0x00000001)!=0\n",
    "        self.tick=np.bitwise_and(uint16,0x00000002)!=0\n",
    "        self.type=np.right_shift(np.bitwise_and(uint16,0x0000000c),2)\n",
    "        \n",
    "    def __repr__(self):\n",
    "        return 'New window:{:}\\n'.format(self.new_window) + \\\n",
    "               'Tick:{:}\\n'.format(self.tick) + \\\n",
    "               'Type:{:}\\n'.format(self.type) "
   ]
  },
  {
   "cell_type": "code",
   "execution_count": null,
   "metadata": {
    "collapsed": true,
    "run_control": {
     "frozen": false,
     "read_only": false
    }
   },
   "outputs": [],
   "source": [
    "f=eflags(pulses[0]['flags'])\n",
    "f"
   ]
  },
  {
   "cell_type": "code",
   "execution_count": null,
   "metadata": {
    "collapsed": true,
    "run_control": {
     "frozen": false,
     "read_only": false
    }
   },
   "outputs": [],
   "source": [
    "'{:X}'.format(bs.packets[3].bytes[13:14].view(np.uint16))"
   ]
  },
  {
   "cell_type": "code",
   "execution_count": null,
   "metadata": {
    "collapsed": true,
    "run_control": {
     "frozen": false,
     "read_only": false
    }
   },
   "outputs": [],
   "source": []
  },
  {
   "cell_type": "code",
   "execution_count": null,
   "metadata": {
    "collapsed": true,
    "run_control": {
     "frozen": false,
     "read_only": false
    }
   },
   "outputs": [],
   "source": [
    "'{:X}'.format(bs.packets[3].bytes[14:16].view(np.uint16)[0])"
   ]
  },
  {
   "cell_type": "code",
   "execution_count": null,
   "metadata": {
    "collapsed": true,
    "run_control": {
     "frozen": false,
     "read_only": false
    }
   },
   "outputs": [],
   "source": [
    "bs.packets[3].bytes[14:16].view(np.uint16)[0]"
   ]
  },
  {
   "cell_type": "code",
   "execution_count": null,
   "metadata": {
    "collapsed": true,
    "run_control": {
     "frozen": false,
     "read_only": false
    }
   },
   "outputs": [],
   "source": [
    "bs=np.uint8(stream['data'][:48])"
   ]
  },
  {
   "cell_type": "code",
   "execution_count": null,
   "metadata": {
    "collapsed": true,
    "run_control": {
     "frozen": false,
     "read_only": false
    }
   },
   "outputs": [],
   "source": [
    "bs"
   ]
  },
  {
   "cell_type": "code",
   "execution_count": null,
   "metadata": {
    "collapsed": true,
    "run_control": {
     "frozen": false,
     "read_only": false
    }
   },
   "outputs": [],
   "source": [
    "events=stream['data'].view(event_dt)"
   ]
  },
  {
   "cell_type": "code",
   "execution_count": null,
   "metadata": {
    "collapsed": true,
    "run_control": {
     "frozen": false,
     "read_only": false
    }
   },
   "outputs": [],
   "source": [
    "'{:X}'.format(events['flags'][0])"
   ]
  },
  {
   "cell_type": "code",
   "execution_count": null,
   "metadata": {
    "collapsed": true,
    "run_control": {
     "frozen": false,
     "read_only": false
    }
   },
   "outputs": [],
   "source": [
    "events['rise']"
   ]
  },
  {
   "cell_type": "code",
   "execution_count": null,
   "metadata": {
    "collapsed": true,
    "run_control": {
     "frozen": false,
     "read_only": false
    }
   },
   "outputs": [],
   "source": [
    "events"
   ]
  },
  {
   "cell_type": "code",
   "execution_count": null,
   "metadata": {
    "collapsed": true,
    "run_control": {
     "frozen": false,
     "read_only": false
    }
   },
   "outputs": [],
   "source": [
    "'{:04X}'.format(events['flags'][1])"
   ]
  },
  {
   "cell_type": "code",
   "execution_count": null,
   "metadata": {
    "collapsed": true,
    "run_control": {
     "frozen": false,
     "read_only": false
    }
   },
   "outputs": [],
   "source": [
    "pulse_peak_dt=np.dtype([('time','>i2'),('minima','>i2'),('rise','>u2'),('height','>i2')])\n",
    "pulse_dt=np.dtype([('time','>i2'),('flags','>i2'),('resv','>i2'),('size','>u2'),\n",
    "                  ('offset','>i2'),('length','>i2'),('area','>i4'),('peaks',(pulse_peak_dt,1))])\n",
    "data=np.copy(stream['data'])"
   ]
  },
  {
   "cell_type": "code",
   "execution_count": null,
   "metadata": {
    "collapsed": true,
    "run_control": {
     "frozen": false,
     "read_only": false
    }
   },
   "outputs": [],
   "source": [
    "pulses=data.view(pulse_dt)"
   ]
  },
  {
   "cell_type": "code",
   "execution_count": null,
   "metadata": {
    "collapsed": true,
    "run_control": {
     "frozen": false,
     "read_only": false
    }
   },
   "outputs": [],
   "source": [
    "pulses['peaks']['height']-pulses['peaks']['minima']"
   ]
  },
  {
   "cell_type": "code",
   "execution_count": null,
   "metadata": {
    "collapsed": true,
    "run_control": {
     "frozen": false,
     "read_only": false
    }
   },
   "outputs": [],
   "source": [
    "pulses['peaks']['minima']"
   ]
  },
  {
   "cell_type": "code",
   "execution_count": null,
   "metadata": {
    "collapsed": true,
    "run_control": {
     "frozen": false,
     "read_only": false
    }
   },
   "outputs": [],
   "source": [
    "peak_count=np.right_shift(np.bitwise_and(pulses['flags'],0xF000),12)\n",
    "peak_overflow=np.bitwise_and(pulses['flags'],0x0800)!=0\n",
    "channel=np.right_shift(np.bitwise_and(pulses['flags'],0x0700),8)\n",
    "timing_type=np.right_shift(np.bitwise_and(pulses['flags'],0x00C0),6)\n",
    "height_type=np.right_shift(np.bitwise_and(pulses['flags'],0x0030),4)\n",
    "event_type=np.right_shift(np.bitwise_and(pulses['flags'],0x000E),1)\n",
    "new_window=np.bitwise_and(pulses['flags'],0x0001)!=0"
   ]
  },
  {
   "cell_type": "code",
   "execution_count": null,
   "metadata": {
    "collapsed": true,
    "run_control": {
     "frozen": false,
     "read_only": false
    }
   },
   "outputs": [],
   "source": [
    "peak_overflow"
   ]
  },
  {
   "cell_type": "code",
   "execution_count": null,
   "metadata": {
    "collapsed": true,
    "run_control": {
     "frozen": false,
     "read_only": false
    }
   },
   "outputs": [],
   "source": [
    "test_dt=np.dtype(\n",
    "    [('time','i2'),('flags','i2'),('rise','u2'),('minima','i2'),('low','u8'),('high','u8')]\n",
    ")\n",
    "test=data.view(test_dt)"
   ]
  },
  {
   "cell_type": "code",
   "execution_count": null,
   "metadata": {
    "collapsed": true,
    "run_control": {
     "frozen": false,
     "read_only": false
    }
   },
   "outputs": [],
   "source": [
    "test"
   ]
  },
  {
   "cell_type": "code",
   "execution_count": null,
   "metadata": {
    "collapsed": true,
    "run_control": {
     "frozen": false,
     "read_only": false
    }
   },
   "outputs": [],
   "source": [
    "test['minima']"
   ]
  },
  {
   "cell_type": "code",
   "execution_count": null,
   "metadata": {
    "collapsed": true,
    "run_control": {
     "frozen": false,
     "read_only": false
    }
   },
   "outputs": [],
   "source": [
    "low1=np.int32(np.right_shift(np.bitwise_and(test['low'],0x03FFFF000000000),36))\n",
    "s=(np.bitwise_and(low1,0x00020000)!=0)*0xFFFC0000\n",
    "low2=np.int32(np.right_shift(np.bitwise_and(test['low'],0x000000FFFFC0000),18))\n",
    "low_threshold=np.int32(np.bitwise_and(test['low'],0x00000000003FFFF))\n",
    "high1=np.int32(np.right_shift(np.bitwise_and(test['high'],0x03FFFF000000000),36))\n",
    "high2=np.int32(np.right_shift(np.bitwise_and(test['high'],0x000000FFFFC0000),18))\n",
    "high_threshold=np.int32(np.bitwise_and(test['high'],0x00000000003FFFF))"
   ]
  },
  {
   "cell_type": "code",
   "execution_count": null,
   "metadata": {
    "collapsed": true,
    "run_control": {
     "frozen": false,
     "read_only": false
    }
   },
   "outputs": [],
   "source": [
    "np.int32(np.bitwise_or(low1,s))/8.0"
   ]
  },
  {
   "cell_type": "code",
   "execution_count": null,
   "metadata": {
    "collapsed": true,
    "run_control": {
     "frozen": false,
     "read_only": false
    }
   },
   "outputs": [],
   "source": [
    "'{:04X}'.format(low1[0])"
   ]
  },
  {
   "cell_type": "code",
   "execution_count": null,
   "metadata": {
    "collapsed": true,
    "run_control": {
     "frozen": false,
     "read_only": false
    }
   },
   "outputs": [],
   "source": [
    "high1/8.0"
   ]
  },
  {
   "cell_type": "code",
   "execution_count": null,
   "metadata": {
    "collapsed": true,
    "run_control": {
     "frozen": false,
     "read_only": false
    }
   },
   "outputs": [],
   "source": [
    "high2/8.0"
   ]
  },
  {
   "cell_type": "code",
   "execution_count": null,
   "metadata": {
    "collapsed": true,
    "run_control": {
     "frozen": false,
     "read_only": false
    }
   },
   "outputs": [],
   "source": [
    "'{:04X}'.format(high_threshold[0])"
   ]
  },
  {
   "cell_type": "code",
   "execution_count": null,
   "metadata": {
    "collapsed": true,
    "run_control": {
     "frozen": false,
     "read_only": false
    }
   },
   "outputs": [],
   "source": [
    "from enum import Enum"
   ]
  },
  {
   "cell_type": "code",
   "execution_count": null,
   "metadata": {
    "collapsed": true,
    "run_control": {
     "frozen": false,
     "read_only": false
    }
   },
   "outputs": [],
   "source": [
    "class VhdlEnum(int, Enum):\n",
    "\n",
    "    def __str__(self):\n",
    "        return self.name.replace(\"-\", \" \")\n",
    "    \n",
    "    def select(self):\n",
    "        return pow(2, self.value)\n",
    "    "
   ]
  },
  {
   "cell_type": "code",
   "execution_count": null,
   "metadata": {
    "collapsed": true,
    "run_control": {
     "frozen": false,
     "read_only": false
    }
   },
   "outputs": [],
   "source": [
    "class Test(VhdlEnum):\n",
    "    a=0\n",
    "    b=1"
   ]
  },
  {
   "cell_type": "code",
   "execution_count": null,
   "metadata": {
    "collapsed": true,
    "run_control": {
     "frozen": false,
     "read_only": false
    }
   },
   "outputs": [],
   "source": [
    "Test(0)"
   ]
  },
  {
   "cell_type": "code",
   "execution_count": null,
   "metadata": {
    "collapsed": true,
    "run_control": {
     "frozen": false,
     "read_only": false
    }
   },
   "outputs": [],
   "source": []
  }
 ],
 "metadata": {
  "anaconda-cloud": {},
  "kernelspec": {
   "display_name": "Python 3",
   "language": "python",
   "name": "python3"
  },
  "language_info": {
   "codemirror_mode": {
    "name": "ipython",
    "version": 3
   },
   "file_extension": ".py",
   "mimetype": "text/x-python",
   "name": "python",
   "nbconvert_exporter": "python",
   "pygments_lexer": "ipython3",
   "version": "3.6.1"
  }
 },
 "nbformat": 4,
 "nbformat_minor": 1
}
