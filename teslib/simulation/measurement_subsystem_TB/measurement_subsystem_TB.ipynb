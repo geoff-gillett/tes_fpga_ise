{
 "cells": [
  {
   "cell_type": "markdown",
   "metadata": {},
   "source": [
    "timestamp 0 => clk 20\n",
    "\n",
    "traces start at clk 1"
   ]
  },
  {
   "cell_type": "code",
   "execution_count": 1,
   "metadata": {
    "collapsed": false,
    "run_control": {
     "frozen": false,
     "read_only": false
    }
   },
   "outputs": [],
   "source": [
    "from tes.data import Data,PacketStream,Packet,Payload,EventFlags,Event\n",
    "from tes.hdf5 import _PacketData, _import\n",
    "import numpy as np\n",
    "import matplotlib.pyplot as plt\n",
    "from subprocess import Popen\n",
    "\n",
    "import logging\n",
    "import sys\n",
    "logger = logging.getLogger('tes')\n",
    "logger.setLevel(logging.DEBUG)\n",
    "handler = logging.StreamHandler(sys.stderr)\n",
    "formatter = logging.Formatter('%(name)s:%(levelname)s %(message)s')\n",
    "handler.setFormatter(formatter)\n",
    "logger.handlers = [handler]\n",
    "\n",
    "trace_dt=np.dtype([('raw','i4'),('filtered','i4'),('slope','i4'),('filteredL','i4')])\n",
    "stream_dt=np.dtype([('data','i4'),('last','i4')])\n",
    "minmax_dt=np.dtype(\n",
    "    [\n",
    "        ('filtered','i4'),('timing_threshold','i4'),\n",
    "        ('height_threshold','i4'),('slope_extrema','i4'),('slope_area','i4'),('clk','i4')\n",
    "    ]\n",
    ")\n",
    "cfd_dt=np.dtype('i4')\n",
    "filteredxing_dt=np.dtype([('extrema','i4'),('area','i4'),('clk','i4')])"
   ]
  },
  {
   "cell_type": "code",
   "execution_count": null,
   "metadata": {
    "collapsed": false,
    "run_control": {
     "frozen": false,
     "read_only": false
    },
    "scrolled": false
   },
   "outputs": [],
   "source": [
    "%matplotlib notebook\n",
    "traces=Data.fromfile('traces',trace_dt,'teslib','measurement_subsystem_TB',tool='vivado')\n",
    "plt.plot(traces['slope'][1100:],'r',linewidth=1)\n",
    "plt.plot(traces['raw'][1100:],linewidth=0.5)\n",
    "plt.plot(traces['filtered'][1100:],'k',linewidth=2)"
   ]
  },
  {
   "cell_type": "code",
   "execution_count": 2,
   "metadata": {
    "collapsed": false
   },
   "outputs": [
    {
     "name": "stderr",
     "output_type": "stream",
     "text": [
      "tes.hdf5:DEBUG PacketData: from ndarray\n",
      "tes.hdf5:INFO import:pass 1: calculating sizes for hdf5 pre-allocation\n",
      "tes.hdf5:INFO import:pass 1:found 592 bytes in 13 frames 0 sequence errors.\n",
      "tes.hdf5:DEBUG tick frames: 168 data bytes in 7 frames\n",
      "tes.hdf5:DEBUG event frames: 320 data bytes in 6 frames\n",
      "tes.hdf5:DEBUG MCA frames: 0 data bytes in 0 frames\n",
      "tes.hdf5:DEBUG unidentified frames: 0 bytes in 0 frames\n",
      "tes.hdf5:DEBUG MCA distributions:0  traces:6\n",
      "tes.hdf5:INFO import:pass 2:importing data\n"
     ]
    }
   ],
   "source": [
    "import h5py\n",
    "from tes.hdf5 import Trace\n",
    "stream=Data.fromfile('bytestream',stream_dt,'teslib','measurement_subsystem_TB',tool='vivado')\n",
    "packets=_PacketData(stream)\n",
    "del stream\n",
    "_import(packets)\n",
    "h=h5py.File('TES.hdf5','r')"
   ]
  },
  {
   "cell_type": "code",
   "execution_count": 4,
   "metadata": {
    "collapsed": false
   },
   "outputs": [
    {
     "name": "stderr",
     "output_type": "stream",
     "text": [
      "tes.hdf5:DEBUG PacketData: from ndarray\n",
      "tes.hdf5:INFO import:pass 1: calculating sizes for hdf5 pre-allocation\n",
      "tes.hdf5:INFO import:pass 1:found 656 bytes in 15 frames 0 sequence errors.\n",
      "tes.hdf5:DEBUG tick frames: 216 data bytes in 9 frames\n",
      "tes.hdf5:DEBUG event frames: 320 data bytes in 6 frames\n",
      "tes.hdf5:DEBUG MCA frames: 0 data bytes in 0 frames\n",
      "tes.hdf5:DEBUG unidentified frames: 0 bytes in 0 frames\n",
      "tes.hdf5:DEBUG MCA distributions:0  traces:6\n",
      "tes.hdf5:INFO import:pass 2:importing data\n"
     ]
    }
   ],
   "source": [
    "h.close()\n",
    "stream=Data.fromfile('bytestream',stream_dt,'teslib','measurement_subsystem_TB',tool='vivado')\n",
    "packets=_PacketData(stream)\n",
    "del stream\n",
    "_import(packets)\n",
    "h=h5py.File('TES.hdf5','r')"
   ]
  },
  {
   "cell_type": "code",
   "execution_count": null,
   "metadata": {
    "collapsed": false
   },
   "outputs": [],
   "source": []
  },
  {
   "cell_type": "code",
   "execution_count": null,
   "metadata": {
    "collapsed": false
   },
   "outputs": [],
   "source": [
    "len(h['traces'])"
   ]
  },
  {
   "cell_type": "code",
   "execution_count": null,
   "metadata": {
    "collapsed": false
   },
   "outputs": [],
   "source": [
    "t=h['raw_data/event'][h['traces'][0]]"
   ]
  },
  {
   "cell_type": "code",
   "execution_count": 3,
   "metadata": {
    "collapsed": false
   },
   "outputs": [
    {
     "name": "stdout",
     "output_type": "stream",
     "text": [
      "peaks:0\n",
      "rel2min:0\n",
      "channel:0\n",
      "timing:slope_threshold\n",
      "height:cfd_high\n",
      "detection:trace \n",
      " multi_peak:False\n",
      "multi_pulse:False\n",
      "stride:0\n",
      "type:average\n",
      "signal:filtered\n",
      "offset:1\n"
     ]
    },
    {
     "data": {
      "application/javascript": [
       "/* Put everything inside the global mpl namespace */\n",
       "window.mpl = {};\n",
       "\n",
       "\n",
       "mpl.get_websocket_type = function() {\n",
       "    if (typeof(WebSocket) !== 'undefined') {\n",
       "        return WebSocket;\n",
       "    } else if (typeof(MozWebSocket) !== 'undefined') {\n",
       "        return MozWebSocket;\n",
       "    } else {\n",
       "        alert('Your browser does not have WebSocket support.' +\n",
       "              'Please try Chrome, Safari or Firefox ≥ 6. ' +\n",
       "              'Firefox 4 and 5 are also supported but you ' +\n",
       "              'have to enable WebSockets in about:config.');\n",
       "    };\n",
       "}\n",
       "\n",
       "mpl.figure = function(figure_id, websocket, ondownload, parent_element) {\n",
       "    this.id = figure_id;\n",
       "\n",
       "    this.ws = websocket;\n",
       "\n",
       "    this.supports_binary = (this.ws.binaryType != undefined);\n",
       "\n",
       "    if (!this.supports_binary) {\n",
       "        var warnings = document.getElementById(\"mpl-warnings\");\n",
       "        if (warnings) {\n",
       "            warnings.style.display = 'block';\n",
       "            warnings.textContent = (\n",
       "                \"This browser does not support binary websocket messages. \" +\n",
       "                    \"Performance may be slow.\");\n",
       "        }\n",
       "    }\n",
       "\n",
       "    this.imageObj = new Image();\n",
       "\n",
       "    this.context = undefined;\n",
       "    this.message = undefined;\n",
       "    this.canvas = undefined;\n",
       "    this.rubberband_canvas = undefined;\n",
       "    this.rubberband_context = undefined;\n",
       "    this.format_dropdown = undefined;\n",
       "\n",
       "    this.image_mode = 'full';\n",
       "\n",
       "    this.root = $('<div/>');\n",
       "    this._root_extra_style(this.root)\n",
       "    this.root.attr('style', 'display: inline-block');\n",
       "\n",
       "    $(parent_element).append(this.root);\n",
       "\n",
       "    this._init_header(this);\n",
       "    this._init_canvas(this);\n",
       "    this._init_toolbar(this);\n",
       "\n",
       "    var fig = this;\n",
       "\n",
       "    this.waiting = false;\n",
       "\n",
       "    this.ws.onopen =  function () {\n",
       "            fig.send_message(\"supports_binary\", {value: fig.supports_binary});\n",
       "            fig.send_message(\"send_image_mode\", {});\n",
       "            if (mpl.ratio != 1) {\n",
       "                fig.send_message(\"set_dpi_ratio\", {'dpi_ratio': mpl.ratio});\n",
       "            }\n",
       "            fig.send_message(\"refresh\", {});\n",
       "        }\n",
       "\n",
       "    this.imageObj.onload = function() {\n",
       "            if (fig.image_mode == 'full') {\n",
       "                // Full images could contain transparency (where diff images\n",
       "                // almost always do), so we need to clear the canvas so that\n",
       "                // there is no ghosting.\n",
       "                fig.context.clearRect(0, 0, fig.canvas.width, fig.canvas.height);\n",
       "            }\n",
       "            fig.context.drawImage(fig.imageObj, 0, 0);\n",
       "        };\n",
       "\n",
       "    this.imageObj.onunload = function() {\n",
       "        this.ws.close();\n",
       "    }\n",
       "\n",
       "    this.ws.onmessage = this._make_on_message_function(this);\n",
       "\n",
       "    this.ondownload = ondownload;\n",
       "}\n",
       "\n",
       "mpl.figure.prototype._init_header = function() {\n",
       "    var titlebar = $(\n",
       "        '<div class=\"ui-dialog-titlebar ui-widget-header ui-corner-all ' +\n",
       "        'ui-helper-clearfix\"/>');\n",
       "    var titletext = $(\n",
       "        '<div class=\"ui-dialog-title\" style=\"width: 100%; ' +\n",
       "        'text-align: center; padding: 3px;\"/>');\n",
       "    titlebar.append(titletext)\n",
       "    this.root.append(titlebar);\n",
       "    this.header = titletext[0];\n",
       "}\n",
       "\n",
       "\n",
       "\n",
       "mpl.figure.prototype._canvas_extra_style = function(canvas_div) {\n",
       "\n",
       "}\n",
       "\n",
       "\n",
       "mpl.figure.prototype._root_extra_style = function(canvas_div) {\n",
       "\n",
       "}\n",
       "\n",
       "mpl.figure.prototype._init_canvas = function() {\n",
       "    var fig = this;\n",
       "\n",
       "    var canvas_div = $('<div/>');\n",
       "\n",
       "    canvas_div.attr('style', 'position: relative; clear: both; outline: 0');\n",
       "\n",
       "    function canvas_keyboard_event(event) {\n",
       "        return fig.key_event(event, event['data']);\n",
       "    }\n",
       "\n",
       "    canvas_div.keydown('key_press', canvas_keyboard_event);\n",
       "    canvas_div.keyup('key_release', canvas_keyboard_event);\n",
       "    this.canvas_div = canvas_div\n",
       "    this._canvas_extra_style(canvas_div)\n",
       "    this.root.append(canvas_div);\n",
       "\n",
       "    var canvas = $('<canvas/>');\n",
       "    canvas.addClass('mpl-canvas');\n",
       "    canvas.attr('style', \"left: 0; top: 0; z-index: 0; outline: 0\")\n",
       "\n",
       "    this.canvas = canvas[0];\n",
       "    this.context = canvas[0].getContext(\"2d\");\n",
       "\n",
       "    var backingStore = this.context.backingStorePixelRatio ||\n",
       "\tthis.context.webkitBackingStorePixelRatio ||\n",
       "\tthis.context.mozBackingStorePixelRatio ||\n",
       "\tthis.context.msBackingStorePixelRatio ||\n",
       "\tthis.context.oBackingStorePixelRatio ||\n",
       "\tthis.context.backingStorePixelRatio || 1;\n",
       "\n",
       "    mpl.ratio = (window.devicePixelRatio || 1) / backingStore;\n",
       "\n",
       "    var rubberband = $('<canvas/>');\n",
       "    rubberband.attr('style', \"position: absolute; left: 0; top: 0; z-index: 1;\")\n",
       "\n",
       "    var pass_mouse_events = true;\n",
       "\n",
       "    canvas_div.resizable({\n",
       "        start: function(event, ui) {\n",
       "            pass_mouse_events = false;\n",
       "        },\n",
       "        resize: function(event, ui) {\n",
       "            fig.request_resize(ui.size.width, ui.size.height);\n",
       "        },\n",
       "        stop: function(event, ui) {\n",
       "            pass_mouse_events = true;\n",
       "            fig.request_resize(ui.size.width, ui.size.height);\n",
       "        },\n",
       "    });\n",
       "\n",
       "    function mouse_event_fn(event) {\n",
       "        if (pass_mouse_events)\n",
       "            return fig.mouse_event(event, event['data']);\n",
       "    }\n",
       "\n",
       "    rubberband.mousedown('button_press', mouse_event_fn);\n",
       "    rubberband.mouseup('button_release', mouse_event_fn);\n",
       "    // Throttle sequential mouse events to 1 every 20ms.\n",
       "    rubberband.mousemove('motion_notify', mouse_event_fn);\n",
       "\n",
       "    rubberband.mouseenter('figure_enter', mouse_event_fn);\n",
       "    rubberband.mouseleave('figure_leave', mouse_event_fn);\n",
       "\n",
       "    canvas_div.on(\"wheel\", function (event) {\n",
       "        event = event.originalEvent;\n",
       "        event['data'] = 'scroll'\n",
       "        if (event.deltaY < 0) {\n",
       "            event.step = 1;\n",
       "        } else {\n",
       "            event.step = -1;\n",
       "        }\n",
       "        mouse_event_fn(event);\n",
       "    });\n",
       "\n",
       "    canvas_div.append(canvas);\n",
       "    canvas_div.append(rubberband);\n",
       "\n",
       "    this.rubberband = rubberband;\n",
       "    this.rubberband_canvas = rubberband[0];\n",
       "    this.rubberband_context = rubberband[0].getContext(\"2d\");\n",
       "    this.rubberband_context.strokeStyle = \"#000000\";\n",
       "\n",
       "    this._resize_canvas = function(width, height) {\n",
       "        // Keep the size of the canvas, canvas container, and rubber band\n",
       "        // canvas in synch.\n",
       "        canvas_div.css('width', width)\n",
       "        canvas_div.css('height', height)\n",
       "\n",
       "        canvas.attr('width', width * mpl.ratio);\n",
       "        canvas.attr('height', height * mpl.ratio);\n",
       "        canvas.attr('style', 'width: ' + width + 'px; height: ' + height + 'px;');\n",
       "\n",
       "        rubberband.attr('width', width);\n",
       "        rubberband.attr('height', height);\n",
       "    }\n",
       "\n",
       "    // Set the figure to an initial 600x600px, this will subsequently be updated\n",
       "    // upon first draw.\n",
       "    this._resize_canvas(600, 600);\n",
       "\n",
       "    // Disable right mouse context menu.\n",
       "    $(this.rubberband_canvas).bind(\"contextmenu\",function(e){\n",
       "        return false;\n",
       "    });\n",
       "\n",
       "    function set_focus () {\n",
       "        canvas.focus();\n",
       "        canvas_div.focus();\n",
       "    }\n",
       "\n",
       "    window.setTimeout(set_focus, 100);\n",
       "}\n",
       "\n",
       "mpl.figure.prototype._init_toolbar = function() {\n",
       "    var fig = this;\n",
       "\n",
       "    var nav_element = $('<div/>')\n",
       "    nav_element.attr('style', 'width: 100%');\n",
       "    this.root.append(nav_element);\n",
       "\n",
       "    // Define a callback function for later on.\n",
       "    function toolbar_event(event) {\n",
       "        return fig.toolbar_button_onclick(event['data']);\n",
       "    }\n",
       "    function toolbar_mouse_event(event) {\n",
       "        return fig.toolbar_button_onmouseover(event['data']);\n",
       "    }\n",
       "\n",
       "    for(var toolbar_ind in mpl.toolbar_items) {\n",
       "        var name = mpl.toolbar_items[toolbar_ind][0];\n",
       "        var tooltip = mpl.toolbar_items[toolbar_ind][1];\n",
       "        var image = mpl.toolbar_items[toolbar_ind][2];\n",
       "        var method_name = mpl.toolbar_items[toolbar_ind][3];\n",
       "\n",
       "        if (!name) {\n",
       "            // put a spacer in here.\n",
       "            continue;\n",
       "        }\n",
       "        var button = $('<button/>');\n",
       "        button.addClass('ui-button ui-widget ui-state-default ui-corner-all ' +\n",
       "                        'ui-button-icon-only');\n",
       "        button.attr('role', 'button');\n",
       "        button.attr('aria-disabled', 'false');\n",
       "        button.click(method_name, toolbar_event);\n",
       "        button.mouseover(tooltip, toolbar_mouse_event);\n",
       "\n",
       "        var icon_img = $('<span/>');\n",
       "        icon_img.addClass('ui-button-icon-primary ui-icon');\n",
       "        icon_img.addClass(image);\n",
       "        icon_img.addClass('ui-corner-all');\n",
       "\n",
       "        var tooltip_span = $('<span/>');\n",
       "        tooltip_span.addClass('ui-button-text');\n",
       "        tooltip_span.html(tooltip);\n",
       "\n",
       "        button.append(icon_img);\n",
       "        button.append(tooltip_span);\n",
       "\n",
       "        nav_element.append(button);\n",
       "    }\n",
       "\n",
       "    var fmt_picker_span = $('<span/>');\n",
       "\n",
       "    var fmt_picker = $('<select/>');\n",
       "    fmt_picker.addClass('mpl-toolbar-option ui-widget ui-widget-content');\n",
       "    fmt_picker_span.append(fmt_picker);\n",
       "    nav_element.append(fmt_picker_span);\n",
       "    this.format_dropdown = fmt_picker[0];\n",
       "\n",
       "    for (var ind in mpl.extensions) {\n",
       "        var fmt = mpl.extensions[ind];\n",
       "        var option = $(\n",
       "            '<option/>', {selected: fmt === mpl.default_extension}).html(fmt);\n",
       "        fmt_picker.append(option)\n",
       "    }\n",
       "\n",
       "    // Add hover states to the ui-buttons\n",
       "    $( \".ui-button\" ).hover(\n",
       "        function() { $(this).addClass(\"ui-state-hover\");},\n",
       "        function() { $(this).removeClass(\"ui-state-hover\");}\n",
       "    );\n",
       "\n",
       "    var status_bar = $('<span class=\"mpl-message\"/>');\n",
       "    nav_element.append(status_bar);\n",
       "    this.message = status_bar[0];\n",
       "}\n",
       "\n",
       "mpl.figure.prototype.request_resize = function(x_pixels, y_pixels) {\n",
       "    // Request matplotlib to resize the figure. Matplotlib will then trigger a resize in the client,\n",
       "    // which will in turn request a refresh of the image.\n",
       "    this.send_message('resize', {'width': x_pixels, 'height': y_pixels});\n",
       "}\n",
       "\n",
       "mpl.figure.prototype.send_message = function(type, properties) {\n",
       "    properties['type'] = type;\n",
       "    properties['figure_id'] = this.id;\n",
       "    this.ws.send(JSON.stringify(properties));\n",
       "}\n",
       "\n",
       "mpl.figure.prototype.send_draw_message = function() {\n",
       "    if (!this.waiting) {\n",
       "        this.waiting = true;\n",
       "        this.ws.send(JSON.stringify({type: \"draw\", figure_id: this.id}));\n",
       "    }\n",
       "}\n",
       "\n",
       "\n",
       "mpl.figure.prototype.handle_save = function(fig, msg) {\n",
       "    var format_dropdown = fig.format_dropdown;\n",
       "    var format = format_dropdown.options[format_dropdown.selectedIndex].value;\n",
       "    fig.ondownload(fig, format);\n",
       "}\n",
       "\n",
       "\n",
       "mpl.figure.prototype.handle_resize = function(fig, msg) {\n",
       "    var size = msg['size'];\n",
       "    if (size[0] != fig.canvas.width || size[1] != fig.canvas.height) {\n",
       "        fig._resize_canvas(size[0], size[1]);\n",
       "        fig.send_message(\"refresh\", {});\n",
       "    };\n",
       "}\n",
       "\n",
       "mpl.figure.prototype.handle_rubberband = function(fig, msg) {\n",
       "    var x0 = msg['x0'] / mpl.ratio;\n",
       "    var y0 = (fig.canvas.height - msg['y0']) / mpl.ratio;\n",
       "    var x1 = msg['x1'] / mpl.ratio;\n",
       "    var y1 = (fig.canvas.height - msg['y1']) / mpl.ratio;\n",
       "    x0 = Math.floor(x0) + 0.5;\n",
       "    y0 = Math.floor(y0) + 0.5;\n",
       "    x1 = Math.floor(x1) + 0.5;\n",
       "    y1 = Math.floor(y1) + 0.5;\n",
       "    var min_x = Math.min(x0, x1);\n",
       "    var min_y = Math.min(y0, y1);\n",
       "    var width = Math.abs(x1 - x0);\n",
       "    var height = Math.abs(y1 - y0);\n",
       "\n",
       "    fig.rubberband_context.clearRect(\n",
       "        0, 0, fig.canvas.width, fig.canvas.height);\n",
       "\n",
       "    fig.rubberband_context.strokeRect(min_x, min_y, width, height);\n",
       "}\n",
       "\n",
       "mpl.figure.prototype.handle_figure_label = function(fig, msg) {\n",
       "    // Updates the figure title.\n",
       "    fig.header.textContent = msg['label'];\n",
       "}\n",
       "\n",
       "mpl.figure.prototype.handle_cursor = function(fig, msg) {\n",
       "    var cursor = msg['cursor'];\n",
       "    switch(cursor)\n",
       "    {\n",
       "    case 0:\n",
       "        cursor = 'pointer';\n",
       "        break;\n",
       "    case 1:\n",
       "        cursor = 'default';\n",
       "        break;\n",
       "    case 2:\n",
       "        cursor = 'crosshair';\n",
       "        break;\n",
       "    case 3:\n",
       "        cursor = 'move';\n",
       "        break;\n",
       "    }\n",
       "    fig.rubberband_canvas.style.cursor = cursor;\n",
       "}\n",
       "\n",
       "mpl.figure.prototype.handle_message = function(fig, msg) {\n",
       "    fig.message.textContent = msg['message'];\n",
       "}\n",
       "\n",
       "mpl.figure.prototype.handle_draw = function(fig, msg) {\n",
       "    // Request the server to send over a new figure.\n",
       "    fig.send_draw_message();\n",
       "}\n",
       "\n",
       "mpl.figure.prototype.handle_image_mode = function(fig, msg) {\n",
       "    fig.image_mode = msg['mode'];\n",
       "}\n",
       "\n",
       "mpl.figure.prototype.updated_canvas_event = function() {\n",
       "    // Called whenever the canvas gets updated.\n",
       "    this.send_message(\"ack\", {});\n",
       "}\n",
       "\n",
       "// A function to construct a web socket function for onmessage handling.\n",
       "// Called in the figure constructor.\n",
       "mpl.figure.prototype._make_on_message_function = function(fig) {\n",
       "    return function socket_on_message(evt) {\n",
       "        if (evt.data instanceof Blob) {\n",
       "            /* FIXME: We get \"Resource interpreted as Image but\n",
       "             * transferred with MIME type text/plain:\" errors on\n",
       "             * Chrome.  But how to set the MIME type?  It doesn't seem\n",
       "             * to be part of the websocket stream */\n",
       "            evt.data.type = \"image/png\";\n",
       "\n",
       "            /* Free the memory for the previous frames */\n",
       "            if (fig.imageObj.src) {\n",
       "                (window.URL || window.webkitURL).revokeObjectURL(\n",
       "                    fig.imageObj.src);\n",
       "            }\n",
       "\n",
       "            fig.imageObj.src = (window.URL || window.webkitURL).createObjectURL(\n",
       "                evt.data);\n",
       "            fig.updated_canvas_event();\n",
       "            fig.waiting = false;\n",
       "            return;\n",
       "        }\n",
       "        else if (typeof evt.data === 'string' && evt.data.slice(0, 21) == \"data:image/png;base64\") {\n",
       "            fig.imageObj.src = evt.data;\n",
       "            fig.updated_canvas_event();\n",
       "            fig.waiting = false;\n",
       "            return;\n",
       "        }\n",
       "\n",
       "        var msg = JSON.parse(evt.data);\n",
       "        var msg_type = msg['type'];\n",
       "\n",
       "        // Call the  \"handle_{type}\" callback, which takes\n",
       "        // the figure and JSON message as its only arguments.\n",
       "        try {\n",
       "            var callback = fig[\"handle_\" + msg_type];\n",
       "        } catch (e) {\n",
       "            console.log(\"No handler for the '\" + msg_type + \"' message type: \", msg);\n",
       "            return;\n",
       "        }\n",
       "\n",
       "        if (callback) {\n",
       "            try {\n",
       "                // console.log(\"Handling '\" + msg_type + \"' message: \", msg);\n",
       "                callback(fig, msg);\n",
       "            } catch (e) {\n",
       "                console.log(\"Exception inside the 'handler_\" + msg_type + \"' callback:\", e, e.stack, msg);\n",
       "            }\n",
       "        }\n",
       "    };\n",
       "}\n",
       "\n",
       "// from http://stackoverflow.com/questions/1114465/getting-mouse-location-in-canvas\n",
       "mpl.findpos = function(e) {\n",
       "    //this section is from http://www.quirksmode.org/js/events_properties.html\n",
       "    var targ;\n",
       "    if (!e)\n",
       "        e = window.event;\n",
       "    if (e.target)\n",
       "        targ = e.target;\n",
       "    else if (e.srcElement)\n",
       "        targ = e.srcElement;\n",
       "    if (targ.nodeType == 3) // defeat Safari bug\n",
       "        targ = targ.parentNode;\n",
       "\n",
       "    // jQuery normalizes the pageX and pageY\n",
       "    // pageX,Y are the mouse positions relative to the document\n",
       "    // offset() returns the position of the element relative to the document\n",
       "    var x = e.pageX - $(targ).offset().left;\n",
       "    var y = e.pageY - $(targ).offset().top;\n",
       "\n",
       "    return {\"x\": x, \"y\": y};\n",
       "};\n",
       "\n",
       "/*\n",
       " * return a copy of an object with only non-object keys\n",
       " * we need this to avoid circular references\n",
       " * http://stackoverflow.com/a/24161582/3208463\n",
       " */\n",
       "function simpleKeys (original) {\n",
       "  return Object.keys(original).reduce(function (obj, key) {\n",
       "    if (typeof original[key] !== 'object')\n",
       "        obj[key] = original[key]\n",
       "    return obj;\n",
       "  }, {});\n",
       "}\n",
       "\n",
       "mpl.figure.prototype.mouse_event = function(event, name) {\n",
       "    var canvas_pos = mpl.findpos(event)\n",
       "\n",
       "    if (name === 'button_press')\n",
       "    {\n",
       "        this.canvas.focus();\n",
       "        this.canvas_div.focus();\n",
       "    }\n",
       "\n",
       "    var x = canvas_pos.x * mpl.ratio;\n",
       "    var y = canvas_pos.y * mpl.ratio;\n",
       "\n",
       "    this.send_message(name, {x: x, y: y, button: event.button,\n",
       "                             step: event.step,\n",
       "                             guiEvent: simpleKeys(event)});\n",
       "\n",
       "    /* This prevents the web browser from automatically changing to\n",
       "     * the text insertion cursor when the button is pressed.  We want\n",
       "     * to control all of the cursor setting manually through the\n",
       "     * 'cursor' event from matplotlib */\n",
       "    event.preventDefault();\n",
       "    return false;\n",
       "}\n",
       "\n",
       "mpl.figure.prototype._key_event_extra = function(event, name) {\n",
       "    // Handle any extra behaviour associated with a key event\n",
       "}\n",
       "\n",
       "mpl.figure.prototype.key_event = function(event, name) {\n",
       "\n",
       "    // Prevent repeat events\n",
       "    if (name == 'key_press')\n",
       "    {\n",
       "        if (event.which === this._key)\n",
       "            return;\n",
       "        else\n",
       "            this._key = event.which;\n",
       "    }\n",
       "    if (name == 'key_release')\n",
       "        this._key = null;\n",
       "\n",
       "    var value = '';\n",
       "    if (event.ctrlKey && event.which != 17)\n",
       "        value += \"ctrl+\";\n",
       "    if (event.altKey && event.which != 18)\n",
       "        value += \"alt+\";\n",
       "    if (event.shiftKey && event.which != 16)\n",
       "        value += \"shift+\";\n",
       "\n",
       "    value += 'k';\n",
       "    value += event.which.toString();\n",
       "\n",
       "    this._key_event_extra(event, name);\n",
       "\n",
       "    this.send_message(name, {key: value,\n",
       "                             guiEvent: simpleKeys(event)});\n",
       "    return false;\n",
       "}\n",
       "\n",
       "mpl.figure.prototype.toolbar_button_onclick = function(name) {\n",
       "    if (name == 'download') {\n",
       "        this.handle_save(this, null);\n",
       "    } else {\n",
       "        this.send_message(\"toolbar_button\", {name: name});\n",
       "    }\n",
       "};\n",
       "\n",
       "mpl.figure.prototype.toolbar_button_onmouseover = function(tooltip) {\n",
       "    this.message.textContent = tooltip;\n",
       "};\n",
       "mpl.toolbar_items = [[\"Home\", \"Reset original view\", \"fa fa-home icon-home\", \"home\"], [\"Back\", \"Back to  previous view\", \"fa fa-arrow-left icon-arrow-left\", \"back\"], [\"Forward\", \"Forward to next view\", \"fa fa-arrow-right icon-arrow-right\", \"forward\"], [\"\", \"\", \"\", \"\"], [\"Pan\", \"Pan axes with left mouse, zoom with right\", \"fa fa-arrows icon-move\", \"pan\"], [\"Zoom\", \"Zoom to rectangle\", \"fa fa-square-o icon-check-empty\", \"zoom\"], [\"\", \"\", \"\", \"\"], [\"Download\", \"Download plot\", \"fa fa-floppy-o icon-save\", \"download\"]];\n",
       "\n",
       "mpl.extensions = [\"eps\", \"jpeg\", \"pdf\", \"png\", \"ps\", \"raw\", \"svg\", \"tif\"];\n",
       "\n",
       "mpl.default_extension = \"png\";var comm_websocket_adapter = function(comm) {\n",
       "    // Create a \"websocket\"-like object which calls the given IPython comm\n",
       "    // object with the appropriate methods. Currently this is a non binary\n",
       "    // socket, so there is still some room for performance tuning.\n",
       "    var ws = {};\n",
       "\n",
       "    ws.close = function() {\n",
       "        comm.close()\n",
       "    };\n",
       "    ws.send = function(m) {\n",
       "        //console.log('sending', m);\n",
       "        comm.send(m);\n",
       "    };\n",
       "    // Register the callback with on_msg.\n",
       "    comm.on_msg(function(msg) {\n",
       "        //console.log('receiving', msg['content']['data'], msg);\n",
       "        // Pass the mpl event to the overriden (by mpl) onmessage function.\n",
       "        ws.onmessage(msg['content']['data'])\n",
       "    });\n",
       "    return ws;\n",
       "}\n",
       "\n",
       "mpl.mpl_figure_comm = function(comm, msg) {\n",
       "    // This is the function which gets called when the mpl process\n",
       "    // starts-up an IPython Comm through the \"matplotlib\" channel.\n",
       "\n",
       "    var id = msg.content.data.id;\n",
       "    // Get hold of the div created by the display call when the Comm\n",
       "    // socket was opened in Python.\n",
       "    var element = $(\"#\" + id);\n",
       "    var ws_proxy = comm_websocket_adapter(comm)\n",
       "\n",
       "    function ondownload(figure, format) {\n",
       "        window.open(figure.imageObj.src);\n",
       "    }\n",
       "\n",
       "    var fig = new mpl.figure(id, ws_proxy,\n",
       "                           ondownload,\n",
       "                           element.get(0));\n",
       "\n",
       "    // Call onopen now - mpl needs it, as it is assuming we've passed it a real\n",
       "    // web socket which is closed, not our websocket->open comm proxy.\n",
       "    ws_proxy.onopen();\n",
       "\n",
       "    fig.parent_element = element.get(0);\n",
       "    fig.cell_info = mpl.find_output_cell(\"<div id='\" + id + \"'></div>\");\n",
       "    if (!fig.cell_info) {\n",
       "        console.error(\"Failed to find cell for figure\", id, fig);\n",
       "        return;\n",
       "    }\n",
       "\n",
       "    var output_index = fig.cell_info[2]\n",
       "    var cell = fig.cell_info[0];\n",
       "\n",
       "};\n",
       "\n",
       "mpl.figure.prototype.handle_close = function(fig, msg) {\n",
       "    var width = fig.canvas.width/mpl.ratio\n",
       "    fig.root.unbind('remove')\n",
       "\n",
       "    // Update the output cell to use the data from the current canvas.\n",
       "    fig.push_to_output();\n",
       "    var dataURL = fig.canvas.toDataURL();\n",
       "    // Re-enable the keyboard manager in IPython - without this line, in FF,\n",
       "    // the notebook keyboard shortcuts fail.\n",
       "    IPython.keyboard_manager.enable()\n",
       "    $(fig.parent_element).html('<img src=\"' + dataURL + '\" width=\"' + width + '\">');\n",
       "    fig.close_ws(fig, msg);\n",
       "}\n",
       "\n",
       "mpl.figure.prototype.close_ws = function(fig, msg){\n",
       "    fig.send_message('closing', msg);\n",
       "    // fig.ws.close()\n",
       "}\n",
       "\n",
       "mpl.figure.prototype.push_to_output = function(remove_interactive) {\n",
       "    // Turn the data on the canvas into data in the output cell.\n",
       "    var width = this.canvas.width/mpl.ratio\n",
       "    var dataURL = this.canvas.toDataURL();\n",
       "    this.cell_info[1]['text/html'] = '<img src=\"' + dataURL + '\" width=\"' + width + '\">';\n",
       "}\n",
       "\n",
       "mpl.figure.prototype.updated_canvas_event = function() {\n",
       "    // Tell IPython that the notebook contents must change.\n",
       "    IPython.notebook.set_dirty(true);\n",
       "    this.send_message(\"ack\", {});\n",
       "    var fig = this;\n",
       "    // Wait a second, then push the new image to the DOM so\n",
       "    // that it is saved nicely (might be nice to debounce this).\n",
       "    setTimeout(function () { fig.push_to_output() }, 1000);\n",
       "}\n",
       "\n",
       "mpl.figure.prototype._init_toolbar = function() {\n",
       "    var fig = this;\n",
       "\n",
       "    var nav_element = $('<div/>')\n",
       "    nav_element.attr('style', 'width: 100%');\n",
       "    this.root.append(nav_element);\n",
       "\n",
       "    // Define a callback function for later on.\n",
       "    function toolbar_event(event) {\n",
       "        return fig.toolbar_button_onclick(event['data']);\n",
       "    }\n",
       "    function toolbar_mouse_event(event) {\n",
       "        return fig.toolbar_button_onmouseover(event['data']);\n",
       "    }\n",
       "\n",
       "    for(var toolbar_ind in mpl.toolbar_items){\n",
       "        var name = mpl.toolbar_items[toolbar_ind][0];\n",
       "        var tooltip = mpl.toolbar_items[toolbar_ind][1];\n",
       "        var image = mpl.toolbar_items[toolbar_ind][2];\n",
       "        var method_name = mpl.toolbar_items[toolbar_ind][3];\n",
       "\n",
       "        if (!name) { continue; };\n",
       "\n",
       "        var button = $('<button class=\"btn btn-default\" href=\"#\" title=\"' + name + '\"><i class=\"fa ' + image + ' fa-lg\"></i></button>');\n",
       "        button.click(method_name, toolbar_event);\n",
       "        button.mouseover(tooltip, toolbar_mouse_event);\n",
       "        nav_element.append(button);\n",
       "    }\n",
       "\n",
       "    // Add the status bar.\n",
       "    var status_bar = $('<span class=\"mpl-message\" style=\"text-align:right; float: right;\"/>');\n",
       "    nav_element.append(status_bar);\n",
       "    this.message = status_bar[0];\n",
       "\n",
       "    // Add the close button to the window.\n",
       "    var buttongrp = $('<div class=\"btn-group inline pull-right\"></div>');\n",
       "    var button = $('<button class=\"btn btn-mini btn-primary\" href=\"#\" title=\"Stop Interaction\"><i class=\"fa fa-power-off icon-remove icon-large\"></i></button>');\n",
       "    button.click(function (evt) { fig.handle_close(fig, {}); } );\n",
       "    button.mouseover('Stop Interaction', toolbar_mouse_event);\n",
       "    buttongrp.append(button);\n",
       "    var titlebar = this.root.find($('.ui-dialog-titlebar'));\n",
       "    titlebar.prepend(buttongrp);\n",
       "}\n",
       "\n",
       "mpl.figure.prototype._root_extra_style = function(el){\n",
       "    var fig = this\n",
       "    el.on(\"remove\", function(){\n",
       "\tfig.close_ws(fig, {});\n",
       "    });\n",
       "}\n",
       "\n",
       "mpl.figure.prototype._canvas_extra_style = function(el){\n",
       "    // this is important to make the div 'focusable\n",
       "    el.attr('tabindex', 0)\n",
       "    // reach out to IPython and tell the keyboard manager to turn it's self\n",
       "    // off when our div gets focus\n",
       "\n",
       "    // location in version 3\n",
       "    if (IPython.notebook.keyboard_manager) {\n",
       "        IPython.notebook.keyboard_manager.register_events(el);\n",
       "    }\n",
       "    else {\n",
       "        // location in version 2\n",
       "        IPython.keyboard_manager.register_events(el);\n",
       "    }\n",
       "\n",
       "}\n",
       "\n",
       "mpl.figure.prototype._key_event_extra = function(event, name) {\n",
       "    var manager = IPython.notebook.keyboard_manager;\n",
       "    if (!manager)\n",
       "        manager = IPython.keyboard_manager;\n",
       "\n",
       "    // Check for shift+enter\n",
       "    if (event.shiftKey && event.which == 13) {\n",
       "        this.canvas_div.blur();\n",
       "        // select the cell after this one\n",
       "        var index = IPython.notebook.find_cell_index(this.cell_info[0]);\n",
       "        IPython.notebook.select(index + 1);\n",
       "    }\n",
       "}\n",
       "\n",
       "mpl.figure.prototype.handle_save = function(fig, msg) {\n",
       "    fig.ondownload(fig, null);\n",
       "}\n",
       "\n",
       "\n",
       "mpl.find_output_cell = function(html_output) {\n",
       "    // Return the cell and output element which can be found *uniquely* in the notebook.\n",
       "    // Note - this is a bit hacky, but it is done because the \"notebook_saving.Notebook\"\n",
       "    // IPython event is triggered only after the cells have been serialised, which for\n",
       "    // our purposes (turning an active figure into a static one), is too late.\n",
       "    var cells = IPython.notebook.get_cells();\n",
       "    var ncells = cells.length;\n",
       "    for (var i=0; i<ncells; i++) {\n",
       "        var cell = cells[i];\n",
       "        if (cell.cell_type === 'code'){\n",
       "            for (var j=0; j<cell.output_area.outputs.length; j++) {\n",
       "                var data = cell.output_area.outputs[j];\n",
       "                if (data.data) {\n",
       "                    // IPython >= 3 moved mimebundle to data attribute of output\n",
       "                    data = data.data;\n",
       "                }\n",
       "                if (data['text/html'] == html_output) {\n",
       "                    return [cell, data, j];\n",
       "                }\n",
       "            }\n",
       "        }\n",
       "    }\n",
       "}\n",
       "\n",
       "// Register the function which deals with the matplotlib target/channel.\n",
       "// The kernel may be null if the page has been refreshed.\n",
       "if (IPython.notebook.kernel != null) {\n",
       "    IPython.notebook.kernel.comm_manager.register_target('matplotlib', mpl.mpl_figure_comm);\n",
       "}\n"
      ],
      "text/plain": [
       "<IPython.core.display.Javascript object>"
      ]
     },
     "metadata": {},
     "output_type": "display_data"
    },
    {
     "data": {
      "text/html": [
       "<img src=\"data:image/png;base64,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\" width=\"640\">"
      ],
      "text/plain": [
       "<IPython.core.display.HTML object>"
      ]
     },
     "metadata": {},
     "output_type": "display_data"
    },
    {
     "data": {
      "text/plain": [
       "[<matplotlib.lines.Line2D at 0x836e198>]"
      ]
     },
     "execution_count": 3,
     "metadata": {},
     "output_type": "execute_result"
    }
   ],
   "source": [
    "%matplotlib notebook\n",
    "t=h['raw_data/event'][h['traces'][5]]\n",
    "tr=Trace(t)\n",
    "print(tr.flags,'\\n',tr.trace_flags)\n",
    "plt.plot(tr.samples)"
   ]
  },
  {
   "cell_type": "code",
   "execution_count": null,
   "metadata": {
    "collapsed": false
   },
   "outputs": [],
   "source": [
    "tr"
   ]
  },
  {
   "cell_type": "code",
   "execution_count": null,
   "metadata": {
    "collapsed": false
   },
   "outputs": [],
   "source": [
    "s=str(tr.flags)\n",
    "s"
   ]
  },
  {
   "cell_type": "code",
   "execution_count": null,
   "metadata": {
    "collapsed": false
   },
   "outputs": [],
   "source": [
    "print(s)"
   ]
  },
  {
   "cell_type": "code",
   "execution_count": null,
   "metadata": {
    "collapsed": false
   },
   "outputs": [],
   "source": [
    "type(h['raw_data/event'][h['traces'][0]])"
   ]
  },
  {
   "cell_type": "code",
   "execution_count": null,
   "metadata": {
    "collapsed": true
   },
   "outputs": [],
   "source": [
    "from tes.hdf5 import Trace"
   ]
  },
  {
   "cell_type": "code",
   "execution_count": null,
   "metadata": {
    "collapsed": false
   },
   "outputs": [],
   "source": [
    "tr.flags"
   ]
  },
  {
   "cell_type": "code",
   "execution_count": null,
   "metadata": {
    "collapsed": false
   },
   "outputs": [],
   "source": [
    "tr.trace_flags"
   ]
  },
  {
   "cell_type": "code",
   "execution_count": null,
   "metadata": {
    "collapsed": false
   },
   "outputs": [],
   "source": [
    "%matplotlib notebook\n",
    "plt.plot(tr.samples)"
   ]
  },
  {
   "cell_type": "code",
   "execution_count": null,
   "metadata": {
    "collapsed": false
   },
   "outputs": [],
   "source": [
    "len(tr.samples)"
   ]
  },
  {
   "cell_type": "code",
   "execution_count": null,
   "metadata": {
    "collapsed": false
   },
   "outputs": [],
   "source": [
    "first_dt = np.dtype([('size', np.uint16), ('tflags0', np.uint8), ('tflags1', np.uint8),\n",
    "        ('flags0', np.uint8), ('flags1', np.uint8), ('time', np.uint16)])\n",
    "\n"
   ]
  },
  {
   "cell_type": "code",
   "execution_count": null,
   "metadata": {
    "collapsed": false
   },
   "outputs": [],
   "source": []
  },
  {
   "cell_type": "code",
   "execution_count": null,
   "metadata": {
    "collapsed": false
   },
   "outputs": [],
   "source": [
    "t[0:8].view(first_dt)"
   ]
  },
  {
   "cell_type": "code",
   "execution_count": null,
   "metadata": {
    "collapsed": true
   },
   "outputs": [],
   "source": []
  },
  {
   "cell_type": "code",
   "execution_count": null,
   "metadata": {
    "collapsed": false
   },
   "outputs": [],
   "source": [
    "_rref = h5py.special_dtype(ref=h5py.RegionReference)\n",
    "h=h5py.File('test.hdf5', 'w')"
   ]
  },
  {
   "cell_type": "code",
   "execution_count": null,
   "metadata": {
    "collapsed": false
   },
   "outputs": [],
   "source": [
    "h.close()"
   ]
  },
  {
   "cell_type": "code",
   "execution_count": null,
   "metadata": {
    "collapsed": false
   },
   "outputs": [],
   "source": [
    "t= np.array((10,),'u1')\n",
    "h.create_dataset('t',(10,),dtype='u1')"
   ]
  },
  {
   "cell_type": "code",
   "execution_count": null,
   "metadata": {
    "collapsed": false
   },
   "outputs": [],
   "source": [
    "h.create_dataset('r',(10,),dtype=_rref)"
   ]
  },
  {
   "cell_type": "code",
   "execution_count": null,
   "metadata": {
    "collapsed": false
   },
   "outputs": [],
   "source": [
    "h.create_dataset('s',(10,),dtype='u1')"
   ]
  },
  {
   "cell_type": "code",
   "execution_count": null,
   "metadata": {
    "collapsed": true
   },
   "outputs": [],
   "source": [
    "h['s'][0]=0\n",
    "h['s'][1]=1"
   ]
  },
  {
   "cell_type": "code",
   "execution_count": null,
   "metadata": {
    "collapsed": false
   },
   "outputs": [],
   "source": [
    "h['r'][0]=h['t'].regionref[0:2]"
   ]
  },
  {
   "cell_type": "code",
   "execution_count": null,
   "metadata": {
    "collapsed": true
   },
   "outputs": [],
   "source": [
    "r=h['r'][0]"
   ]
  },
  {
   "cell_type": "code",
   "execution_count": null,
   "metadata": {
    "collapsed": false
   },
   "outputs": [],
   "source": [
    "t= np.array([0,1,2],'u1')"
   ]
  },
  {
   "cell_type": "code",
   "execution_count": null,
   "metadata": {
    "collapsed": false
   },
   "outputs": [],
   "source": [
    "t = [0,1]\n",
    "\n",
    "f = np.uint64(0)\n",
    "print(type(f))\n",
    "f += len(t)\n",
    "print(type(f))"
   ]
  },
  {
   "cell_type": "code",
   "execution_count": null,
   "metadata": {
    "collapsed": false
   },
   "outputs": [],
   "source": [
    "t[0:1][0]"
   ]
  },
  {
   "cell_type": "code",
   "execution_count": null,
   "metadata": {
    "collapsed": false
   },
   "outputs": [],
   "source": [
    "i=0\n",
    "for p in packets:\n",
    "    if i==7:\n",
    "        break\n",
    "    i+=1"
   ]
  },
  {
   "cell_type": "code",
   "execution_count": null,
   "metadata": {
    "collapsed": false
   },
   "outputs": [],
   "source": [
    "p"
   ]
  },
  {
   "cell_type": "code",
   "execution_count": null,
   "metadata": {
    "collapsed": true
   },
   "outputs": [],
   "source": [
    "lasts = np.where(stream['last'] < 0)[0] + 1"
   ]
  },
  {
   "cell_type": "code",
   "execution_count": null,
   "metadata": {
    "collapsed": false
   },
   "outputs": [],
   "source": [
    "lasts"
   ]
  },
  {
   "cell_type": "code",
   "execution_count": null,
   "metadata": {
    "collapsed": false
   },
   "outputs": [],
   "source": [
    "'last' in stream.dtype.names"
   ]
  },
  {
   "cell_type": "code",
   "execution_count": null,
   "metadata": {
    "collapsed": false
   },
   "outputs": [],
   "source": [
    "isinstance(stream,np.ndarray)"
   ]
  },
  {
   "cell_type": "code",
   "execution_count": null,
   "metadata": {
    "collapsed": false
   },
   "outputs": [],
   "source": [
    "type('poo')"
   ]
  },
  {
   "cell_type": "code",
   "execution_count": null,
   "metadata": {
    "collapsed": false
   },
   "outputs": [],
   "source": [
    "stream[lasts[0]:]"
   ]
  },
  {
   "cell_type": "code",
   "execution_count": null,
   "metadata": {
    "collapsed": false
   },
   "outputs": [],
   "source": [
    "ps=PacketStream(stream)\n",
    "# ps.traces"
   ]
  },
  {
   "cell_type": "code",
   "execution_count": null,
   "metadata": {
    "collapsed": false
   },
   "outputs": [],
   "source": [
    "type(ps[0])"
   ]
  },
  {
   "cell_type": "code",
   "execution_count": null,
   "metadata": {
    "collapsed": false
   },
   "outputs": [],
   "source": [
    "sum(stream['last']<0)"
   ]
  },
  {
   "cell_type": "code",
   "execution_count": null,
   "metadata": {
    "collapsed": false
   },
   "outputs": [],
   "source": [
    "%matplotlib notebook\n",
    "\n",
    "plt.plot(ps.traces[3]._view['trace'])\n",
    "# ps.traces[2]._view['trace'][-20:]"
   ]
  },
  {
   "cell_type": "code",
   "execution_count": null,
   "metadata": {
    "collapsed": false
   },
   "outputs": [],
   "source": [
    "ps.traces"
   ]
  },
  {
   "cell_type": "code",
   "execution_count": null,
   "metadata": {
    "collapsed": false,
    "run_control": {
     "frozen": false,
     "read_only": false
    },
    "scrolled": true
   },
   "outputs": [],
   "source": [
    "traces=Data.fromfile('traces',trace_dt,'teslib','measurement_subsystem_TB',tool='vivado')\n",
    "stream=Data.fromfile('bytestream',stream_dt,'teslib','measurement_subsystem_TB',tool='vivado')\n",
    "bs=PacketStream(stream)\n",
    "dists=bs.distributions\n",
    "#bs.packets\n",
    "dists"
   ]
  },
  {
   "cell_type": "code",
   "execution_count": null,
   "metadata": {
    "collapsed": false
   },
   "outputs": [],
   "source": [
    "d=dists[0]\n",
    "d.counts[-1]"
   ]
  },
  {
   "cell_type": "code",
   "execution_count": null,
   "metadata": {
    "collapsed": false
   },
   "outputs": [],
   "source": [
    "d.total+d.underflow+d.overflow"
   ]
  },
  {
   "cell_type": "code",
   "execution_count": null,
   "metadata": {
    "collapsed": false
   },
   "outputs": [],
   "source": [
    "%matplotlib notebook\n",
    "plt.plot(d.bins)"
   ]
  },
  {
   "cell_type": "code",
   "execution_count": null,
   "metadata": {
    "collapsed": false,
    "scrolled": false
   },
   "outputs": [],
   "source": [
    "f=EventFlags(es[2][2]['flags'])\n",
    "f.channel"
   ]
  },
  {
   "cell_type": "code",
   "execution_count": null,
   "metadata": {
    "collapsed": false,
    "run_control": {
     "frozen": false,
     "read_only": false
    },
    "scrolled": true
   },
   "outputs": [],
   "source": [
    "import tes.mca as mca\n",
    "d=bs.distributions[0]\n",
    "eset=np.uint64(1)\n",
    "bset=np.uint64(0)\n",
    "cset=np.uint64(20)\n",
    "\n",
    "stop=d.stop_time+eset+cset\n",
    "start=d.start_time+bset+cset\n",
    "bins=np.zeros((d.last_bin+1,),dtype=np.uint32)\n",
    "\n",
    "if d.value==mca.Value.raw_signal:\n",
    "    tname='raw'\n",
    "elif d.value==mca.Value.filtered_signal:\n",
    "    tname='filtered'\n",
    "elif d.value==mca.Value.slope_signal:\n",
    "    tname='slope'\n",
    "\n",
    "for i in range(start,stop):\n",
    "    s = traces[tname][i]\n",
    "    if s < d.lowest_value:\n",
    "        bins[0] += 1\n",
    "    else:\n",
    "        bin_number = s - d.lowest_value + 1\n",
    "        if bin_number < d.last_bin:\n",
    "            bins[bin_number] += 1\n",
    "        else:\n",
    "            bins[d.last_bin] += 1\n",
    "        \n",
    "bad=(bins-d.counts).nonzero()\n",
    "bad"
   ]
  },
  {
   "cell_type": "code",
   "execution_count": null,
   "metadata": {
    "collapsed": false
   },
   "outputs": [],
   "source": [
    "d.counts[bad][1:10]"
   ]
  },
  {
   "cell_type": "code",
   "execution_count": null,
   "metadata": {
    "collapsed": false
   },
   "outputs": [],
   "source": [
    "bins[bad][1:10]"
   ]
  },
  {
   "cell_type": "code",
   "execution_count": null,
   "metadata": {
    "collapsed": false
   },
   "outputs": [],
   "source": [
    "d.value"
   ]
  },
  {
   "cell_type": "code",
   "execution_count": null,
   "metadata": {
    "collapsed": false,
    "scrolled": false
   },
   "outputs": [],
   "source": [
    "%matplotlib notebook\n",
    "plt.step(np.arange(len(d.bins)),d.bins)\n",
    "# plt.step(np.arange(len(d.counts)),bins)\n",
    "plt.plot(bad,np.zeros_like(bad),'.k')"
   ]
  },
  {
   "cell_type": "code",
   "execution_count": null,
   "metadata": {
    "collapsed": false
   },
   "outputs": [],
   "source": [
    "sum(d.counts)"
   ]
  },
  {
   "cell_type": "code",
   "execution_count": null,
   "metadata": {
    "collapsed": false
   },
   "outputs": [],
   "source": [
    "2**14+2000"
   ]
  },
  {
   "cell_type": "code",
   "execution_count": null,
   "metadata": {
    "collapsed": false,
    "run_control": {
     "frozen": false,
     "read_only": false
    }
   },
   "outputs": [],
   "source": [
    "def plot_event(event_tupple):\n",
    "    pre=200\n",
    "    post=1000\n",
    "    timestamp=event_tupple[0]\n",
    "    event_type=event_tupple[1]\n",
    "    event=event_tupple[2]\n",
    "    flags=EventFlags(event['flags'])\n",
    "    print(flags)\n",
    "    print('timestamp',timestamp, 'time', event['time'])\n",
    "    if flags.type == Event.tick:\n",
    "        return\n",
    "    s=traces['filtered'][timestamp+20-pre:timestamp+20+post]\n",
    "    r=traces['raw'][timestamp+20-pre:timestamp+20+post]\n",
    "    i = np.where(abs(minmax['clk'])<=timestamp+20)[0][-1]\n",
    "    min_t=abs(minmax['clk'][i])-(timestamp+20)\n",
    "#     print(minmax['clk'][i],min_t,i,timestamp)\n",
    "    plt.plot(r,'k',linewidth=0.5)\n",
    "    plt.plot(s,'b',linewidth=2)\n",
    "    plt.plot([pre],s[pre],'sg')\n",
    "    plt.plot([pre+min_t],minmax['filtered'][i],'sr')\n",
    "    if event_type==Event.pulse:\n",
    "        for i in range(flags.peak_number):\n",
    "            p=event['peaks'][i]\n",
    "            plt.plot([0,len(s)-1],[p['height'],p['height']],':r')\n",
    "    else:\n",
    "      plt.plot([0,len(s)-1],[event['height'],event['height']],':r')\n",
    "        \n",
    "    #print(event['height'],event['minima'])\n",
    "    #print(minmax['filtered'][i]==s[pre+min_t])\n",
    "    #print(minmax['filtered'][i]==event['minima'])\n",
    "    #print(s[pre],s[pre-1])"
   ]
  },
  {
   "cell_type": "code",
   "execution_count": null,
   "metadata": {
    "collapsed": false,
    "run_control": {
     "frozen": false,
     "read_only": false
    }
   },
   "outputs": [],
   "source": [
    "pwd"
   ]
  },
  {
   "cell_type": "code",
   "execution_count": null,
   "metadata": {
    "collapsed": false
   },
   "outputs": [],
   "source": [
    "es=bs.eventstream\n",
    "es"
   ]
  },
  {
   "cell_type": "code",
   "execution_count": null,
   "metadata": {
    "collapsed": false,
    "run_control": {
     "frozen": false,
     "read_only": false
    }
   },
   "outputs": [],
   "source": [
    "%matplotlib notebook\n",
    "for e in es:\n",
    "    if e[1]==Event.peak:\n",
    "        plot_event(e)"
   ]
  },
  {
   "cell_type": "code",
   "execution_count": null,
   "metadata": {
    "collapsed": false,
    "run_control": {
     "frozen": false,
     "read_only": false
    }
   },
   "outputs": [],
   "source": [
    "es"
   ]
  },
  {
   "cell_type": "code",
   "execution_count": null,
   "metadata": {
    "collapsed": false,
    "run_control": {
     "frozen": false,
     "read_only": false
    }
   },
   "outputs": [],
   "source": [
    "dists=bs.distributions\n",
    "dists"
   ]
  },
  {
   "cell_type": "code",
   "execution_count": null,
   "metadata": {
    "collapsed": false,
    "run_control": {
     "frozen": false,
     "read_only": false
    }
   },
   "outputs": [],
   "source": [
    "bs.packets[185].payload"
   ]
  },
  {
   "cell_type": "code",
   "execution_count": null,
   "metadata": {
    "collapsed": false,
    "run_control": {
     "frozen": false,
     "read_only": false
    }
   },
   "outputs": [],
   "source": [
    "d=bs.distributions[0]\n",
    "eset=np.uint64(1)\n",
    "bset=np.uint64(0)\n",
    "cset=np.uint64(20)\n",
    "\n",
    "stop=d.stop_time+eset+cset\n",
    "start=d.start_time+bset+cset\n",
    "bins=np.zeros((d.last_bin+1,),dtype=np.uint32)\n",
    "for i in range(start,stop):\n",
    "    s = traces['raw'][i]\n",
    "    if s <= d.lowest_value:\n",
    "        bins[0] += 1\n",
    "    else:\n",
    "        bins[s-d.lowest_value] += 1\n",
    "        \n",
    "(bins-d.counts).nonzero()"
   ]
  },
  {
   "cell_type": "code",
   "execution_count": null,
   "metadata": {
    "collapsed": false,
    "run_control": {
     "frozen": false,
     "read_only": false
    }
   },
   "outputs": [],
   "source": [
    "%matplotlib notebook\n",
    "plt.step(np.arange(len(d.counts)),d.counts)"
   ]
  },
  {
   "cell_type": "code",
   "execution_count": null,
   "metadata": {
    "collapsed": false,
    "run_control": {
     "frozen": false,
     "read_only": false
    }
   },
   "outputs": [],
   "source": [
    "bins[bins.nonzero()]"
   ]
  },
  {
   "cell_type": "code",
   "execution_count": null,
   "metadata": {
    "collapsed": false,
    "run_control": {
     "frozen": false,
     "read_only": false
    }
   },
   "outputs": [],
   "source": [
    "sum(d.counts)"
   ]
  },
  {
   "cell_type": "code",
   "execution_count": null,
   "metadata": {
    "collapsed": false,
    "run_control": {
     "frozen": false,
     "read_only": false
    }
   },
   "outputs": [],
   "source": [
    "2**14+2000"
   ]
  },
  {
   "cell_type": "code",
   "execution_count": null,
   "metadata": {
    "collapsed": false,
    "run_control": {
     "frozen": false,
     "read_only": false
    }
   },
   "outputs": [],
   "source": [
    "es[3][2]['timestamp']-es[0][2]['timestamp']"
   ]
  },
  {
   "cell_type": "code",
   "execution_count": null,
   "metadata": {
    "collapsed": true,
    "run_control": {
     "frozen": false,
     "read_only": false
    }
   },
   "outputs": [],
   "source": [
    "def xings(s, thresh):\n",
    "    pos=s > thresh\n",
    "    neg=s < thresh\n",
    "    pos0=s >= thresh\n",
    "    neg0=s <= thresh\n",
    "    pos_xing_mask = np.bitwise_and(pos0[1:],neg[0:-1])  \n",
    "    neg_xing_mask = np.bitwise_and(neg0[1:],pos[0:-1])  \n",
    "    return pos_xing_mask.nonzero()[0]+1, neg_xing_mask.nonzero()[0]+1"
   ]
  },
  {
   "cell_type": "code",
   "execution_count": null,
   "metadata": {
    "collapsed": true,
    "run_control": {
     "frozen": false,
     "read_only": false
    }
   },
   "outputs": [],
   "source": [
    "from mpl_toolkits.axes_grid1 import host_subplot\n",
    "\n",
    "def plot_trace(traces,start,width):\n",
    "\n",
    "    ax = host_subplot(111)\n",
    "    axr = ax.twinx()\n",
    "    axt = ax.twiny()\n",
    "#ax.plot(t[0:-1:10],s[0:-1:10],'k')\n",
    "#ax.plot(t,s,'k')\n",
    "    axt.set_xlabel('Time ns',fontsize=18)\n",
    "    ax.set_ylabel('Voltage (Arbitary Units)',fontsize=18)\n",
    "#plt.xticks(visible=False)\n",
    "#plt.yticks(visible=False)\n",
    "#ax.set_xlim(0,t[4000000])\n",
    "#start=902000\n",
    "#width=2500\n",
    "    f=traces['filtered'][start:start+width]\n",
    "    s=traces['slope'][start:start+width]\n",
    "    t=np.arange(len(f))*4e-9\n",
    "#ts=t[pstart:pstop]\n",
    "#axins = fig.add_axes([.4, .45, .45, .4])\n",
    "    ax.set_xlim(t[0],t[-1])\n",
    "    axt.set_xlim(t[0],t[-1])\n",
    "\n",
    "    ylim=(-500,2000)\n",
    "\n",
    "    ax.set_ylim(ylim[0],ylim[1])\n",
    "    axr.set_ylim(ylim[0],ylim[1])\n",
    "\n",
    "    filtered, = ax.step(t,f,'k',lw=2,label='filtered')\n",
    "    slope, = ax.step(t,s,'b',label='slope')\n",
    "    ax.fill_between(t,0,s,alpha=.4)\n",
    "    plt.ylim=ylim\n",
    "\n",
    "pos=s>0\n",
    "neg=s<=0\n",
    "pos_xing_mask = np.bitwise_and(pos[1:-1],neg[0:-2])  \n",
    "neg_xing_mask = np.bitwise_and(neg[1:-1],pos[0:-2])  \n",
    "pos_xing=pos_xing_mask.nonzero()\n",
    "neg_xing=neg_xing_mask.nonzero()\n",
    "\n",
    "rx=[t[pos_xing[0][0]], t[neg_xing[0][0]]]\n",
    "ry=[f[pos_xing[0][0]], f[neg_xing[0][0]]]\n",
    "\n",
    "ax.fill_between(t[pos_xing[0][0]:neg_xing[0][0]],0,s[pos_xing[0][0]:neg_xing[0][0]],alpha=.4,color='r')\n",
    "\n",
    "#plt.plot(rx,[ry[0], ry[0]],'-r',lw=2)\n",
    "#plt.plot([rx[1],rx[1]], ry,'-r',lw=2)\n",
    "# thresholds\n",
    "sthresh = 600\n",
    "pthresh = 1000\n",
    "plt.plot([t[0], t[-1]], [sthresh, sthresh], '--b', lw=2)\n",
    "plt.plot([t[0], t[-1]], [pthresh, pthresh], '--k', lw=2)\n",
    "\n",
    "sthresh_xing=(s>sthresh).nonzero()[0][0]\n",
    "pthresh_xing=(f>pthresh).nonzero()[0][0]\n",
    "\n",
    "\n",
    "cf=.10\n",
    "height = ry[1]-ry[0]\n",
    "cfl=ry[0]+(height*cf)\n",
    "cfh=ry[1]-(height*cf)\n",
    "\n",
    "cfl_xing=(f>cfl).nonzero()[0][0]\n",
    "cfd_low=f[cfl_xing]\n",
    "cfh_xing=(f>cfh).nonzero()[0][0]\n",
    "cfd_high=f[cfh_xing]\n",
    "\n",
    "#plt.plot([t[cfl_xing], t[-1]],[cfd_low, cfd_low], ':r')\n",
    "#plt.plot([t[cfh_xing], t[-1]],[cfd_high, cfd_high], ':r')\n",
    "#plt.plot([x[1], t[-1]],[y[1], y[1]], ':r')\n",
    "plt.legend([filtered, slope],['Signal', 'Slope'],loc=2)\n",
    "\n",
    "#axr = ax.twinx()\n",
    "##################################################################\n",
    "#yticks=([ry[0],sthresh,pthresh,cfd_high,ry[1]])\n",
    "yticks=([sthresh,pthresh])\n",
    "axr.set_yticks(yticks)\n",
    "#yticklabels=['Start','Slope threshold','Pulse threshold','CF high','Peak']\n",
    "yticklabels=['Slope threshold','Pulse threshold']\n",
    "axr.set_yticklabels(yticklabels, color='r',fontsize=14)\n",
    "axr.get_yticklabels()[0].set_color('b')\n",
    "axr.get_yticklabels()[1].set_color('k')\n",
    "\n",
    "#xticks=([rx[0],t[cfl_xing],t[sthresh_xing],t[pthresh_xing],rx[1]])\n",
    "xticks=(t[cfl_xing],rx[1])\n",
    "#ax.set_xticks([rx[0],t[cfl_xing],t[sthresh_xing],t[pthresh_xing],rx[1]])\n",
    "ax.set_xticks(xticks)\n",
    "#xticklabels=['Start','CF low','Slope xing','Signal xing','Peak']\n",
    "xticklabels=['CF low','Peak']\n",
    "ax.set_xticklabels(xticklabels, color='r',fontsize=14)\n",
    "\n",
    "#plt.plot([t[cfh_xing], t[-1]],[cfd_high, cfd_high], ':r')\n",
    "#horoz start, stop lines\n",
    "#hpeak=ax.plot([xticks[1], t[-1]],[yticks[-1], yticks[-1]], '-.r')\n",
    "#hstart=ax.plot([xticks[0], t[-1]],[yticks[0], yticks[0]], '-.r')\n",
    "#vert start stop\n",
    "vstart=ax.plot([xticks[0], xticks[0]],[cfd_low, ylim[0]], '-.r')\n",
    "vpeak=ax.plot([xticks[1], xticks[1]],[ylim[0], ry[1]], '-.r')\n",
    "\n",
    "plt.tight_layout()\n",
    "plt.savefig('..//peakextraction7.svg')\n",
    "plt.show()\n",
    "print('risetime:',(xticks[1]-xticks[0])/4)\n",
    "print('height:',yticks[-1]-yticks[0])\n",
    "print('time:',(xticks[0]-rx[0])/4)\n",
    "print('area',sum(s[pos_xing[0][0]:neg_xing[0][0]])/256)\n"
   ]
  },
  {
   "cell_type": "code",
   "execution_count": null,
   "metadata": {
    "collapsed": true,
    "run_control": {
     "frozen": false,
     "read_only": false
    }
   },
   "outputs": [],
   "source": [
    "slope_0xings = xings(traces['slope'],0)"
   ]
  },
  {
   "cell_type": "code",
   "execution_count": null,
   "metadata": {
    "collapsed": false,
    "run_control": {
     "frozen": false,
     "read_only": false
    }
   },
   "outputs": [],
   "source": [
    "slope_0xings"
   ]
  },
  {
   "cell_type": "code",
   "execution_count": null,
   "metadata": {
    "collapsed": false,
    "run_control": {
     "frozen": false,
     "read_only": false
    }
   },
   "outputs": [],
   "source": [
    "%matplotlib notebook\n",
    "start=10000\n",
    "width=300\n",
    "plt.plot(traces['filtered'][start:start+width]/2)"
   ]
  },
  {
   "cell_type": "code",
   "execution_count": null,
   "metadata": {
    "collapsed": false,
    "run_control": {
     "frozen": false,
     "read_only": false
    }
   },
   "outputs": [],
   "source": [
    "%matplotlib notebook\n",
    "plt.plot(traces['slope'][20400:21700])"
   ]
  },
  {
   "cell_type": "code",
   "execution_count": null,
   "metadata": {
    "collapsed": false,
    "run_control": {
     "frozen": false,
     "read_only": false
    }
   },
   "outputs": [],
   "source": [
    "filtered=traces['filtered'][1100:]\n",
    "filteredL=traces['filteredL'][1100:]"
   ]
  },
  {
   "cell_type": "code",
   "execution_count": null,
   "metadata": {
    "collapsed": false,
    "run_control": {
     "frozen": false,
     "read_only": false
    }
   },
   "outputs": [],
   "source": [
    "filtered[:10]"
   ]
  },
  {
   "cell_type": "code",
   "execution_count": null,
   "metadata": {
    "collapsed": false,
    "run_control": {
     "frozen": false,
     "read_only": false
    }
   },
   "outputs": [],
   "source": [
    "filteredL[:10]/4"
   ]
  },
  {
   "cell_type": "code",
   "execution_count": null,
   "metadata": {
    "collapsed": false,
    "run_control": {
     "frozen": false,
     "read_only": false
    }
   },
   "outputs": [],
   "source": [
    "minmax_dt=np.dtype([('filtered','i4'),('low','i4'),('high','i4'),('clk','i4')])\n",
    "minmax=Data.fromfile('minmax',minmax_dt,'teslib','measurement_subsystem_TB',tool='vivado')\n",
    "fxing_dt=np.dtype([('extrema','i4'),('area','i4'),('clk','i4')])\n",
    "fxing=Data.fromfile('filteredxing',fxing_dt,'teslib','measurement_subsystem_TB',tool='vivado')"
   ]
  },
  {
   "cell_type": "code",
   "execution_count": null,
   "metadata": {
    "collapsed": false,
    "run_control": {
     "frozen": false,
     "read_only": false
    }
   },
   "outputs": [],
   "source": [
    "minmax"
   ]
  },
  {
   "cell_type": "code",
   "execution_count": null,
   "metadata": {
    "collapsed": false,
    "run_control": {
     "frozen": false,
     "read_only": false
    }
   },
   "outputs": [],
   "source": [
    "fxing"
   ]
  },
  {
   "cell_type": "code",
   "execution_count": null,
   "metadata": {
    "collapsed": false,
    "run_control": {
     "frozen": false,
     "read_only": false
    }
   },
   "outputs": [],
   "source": [
    "np.where(fxing['area']==0)"
   ]
  },
  {
   "cell_type": "code",
   "execution_count": null,
   "metadata": {
    "collapsed": false,
    "run_control": {
     "frozen": false,
     "read_only": false
    }
   },
   "outputs": [],
   "source": [
    "np.where(fxing['extrema']==0)"
   ]
  },
  {
   "cell_type": "code",
   "execution_count": null,
   "metadata": {
    "collapsed": false,
    "run_control": {
     "frozen": false,
     "read_only": false
    }
   },
   "outputs": [],
   "source": [
    "fxing[30]"
   ]
  },
  {
   "cell_type": "code",
   "execution_count": null,
   "metadata": {
    "collapsed": false,
    "run_control": {
     "frozen": false,
     "read_only": false
    }
   },
   "outputs": [],
   "source": [
    "exn=np.where(fxing['extrema']<0)\n",
    "clkn=np.where(fxing['clk']>0)"
   ]
  },
  {
   "cell_type": "code",
   "execution_count": null,
   "metadata": {
    "collapsed": true,
    "run_control": {
     "frozen": false,
     "read_only": false
    }
   },
   "outputs": [],
   "source": []
  },
  {
   "cell_type": "code",
   "execution_count": null,
   "metadata": {
    "collapsed": false,
    "run_control": {
     "frozen": false,
     "read_only": false
    }
   },
   "outputs": [],
   "source": [
    "fxing[374]"
   ]
  },
  {
   "cell_type": "code",
   "execution_count": null,
   "metadata": {
    "collapsed": false,
    "run_control": {
     "frozen": false,
     "read_only": false
    }
   },
   "outputs": [],
   "source": [
    "clkn"
   ]
  },
  {
   "cell_type": "code",
   "execution_count": null,
   "metadata": {
    "collapsed": false,
    "run_control": {
     "frozen": false,
     "read_only": false
    }
   },
   "outputs": [],
   "source": [
    "np.where(minmax[maxs[0]-1]['min']!=1)"
   ]
  },
  {
   "cell_type": "code",
   "execution_count": null,
   "metadata": {
    "collapsed": false,
    "run_control": {
     "frozen": false,
     "read_only": false
    }
   },
   "outputs": [],
   "source": [
    "minmax[maxs[0]-1][65]"
   ]
  },
  {
   "cell_type": "code",
   "execution_count": null,
   "metadata": {
    "collapsed": false,
    "run_control": {
     "frozen": false,
     "read_only": false
    }
   },
   "outputs": [],
   "source": [
    "2290-925"
   ]
  },
  {
   "cell_type": "code",
   "execution_count": null,
   "metadata": {
    "collapsed": false,
    "run_control": {
     "frozen": false,
     "read_only": false
    }
   },
   "outputs": [],
   "source": [
    "0.375*4"
   ]
  },
  {
   "cell_type": "code",
   "execution_count": null,
   "metadata": {
    "collapsed": false,
    "run_control": {
     "frozen": false,
     "read_only": false
    }
   },
   "outputs": [],
   "source": [
    "np.where(minmax['clock']==2290)"
   ]
  },
  {
   "cell_type": "code",
   "execution_count": null,
   "metadata": {
    "collapsed": false,
    "run_control": {
     "frozen": false,
     "read_only": false
    }
   },
   "outputs": [],
   "source": [
    "minmax[120:140]"
   ]
  },
  {
   "cell_type": "code",
   "execution_count": null,
   "metadata": {
    "collapsed": false,
    "run_control": {
     "frozen": false,
     "read_only": false
    }
   },
   "outputs": [],
   "source": [
    "stream_dt=np.dtype([('data','>i4'),('last','i4')])\n",
    "#stream=np.fromfile('data/stream',stream_dt)"
   ]
  },
  {
   "cell_type": "markdown",
   "metadata": {},
   "source": [
    "### bytestream stuff"
   ]
  },
  {
   "cell_type": "code",
   "execution_count": null,
   "metadata": {
    "collapsed": false,
    "run_control": {
     "frozen": false,
     "read_only": false
    }
   },
   "outputs": [],
   "source": [
    "stream_dt=np.dtype([('data','i4'),('last','i4')])\n",
    "stream=Data.fromfile('bytestream',stream_dt,'teslib','measurement_subsystem_TB',tool='vivado')\n",
    "lasts=np.where(stream['last']<=0)[0]+1\n",
    "#data=np.copy(stream['data'])"
   ]
  },
  {
   "cell_type": "code",
   "execution_count": null,
   "metadata": {
    "collapsed": false,
    "run_control": {
     "frozen": false,
     "read_only": false
    }
   },
   "outputs": [],
   "source": [
    "stream"
   ]
  },
  {
   "cell_type": "code",
   "execution_count": null,
   "metadata": {
    "collapsed": true,
    "run_control": {
     "frozen": false,
     "read_only": false
    }
   },
   "outputs": [],
   "source": []
  },
  {
   "cell_type": "code",
   "execution_count": null,
   "metadata": {
    "collapsed": true,
    "run_control": {
     "frozen": false,
     "read_only": false
    }
   },
   "outputs": [],
   "source": [
    "stream=np.fromfile('data/bytestream',stream_dt)"
   ]
  },
  {
   "cell_type": "code",
   "execution_count": null,
   "metadata": {
    "collapsed": false,
    "run_control": {
     "frozen": false,
     "read_only": false
    }
   },
   "outputs": [],
   "source": [
    "bs=PacketStream(stream)"
   ]
  },
  {
   "cell_type": "code",
   "execution_count": null,
   "metadata": {
    "collapsed": false,
    "run_control": {
     "frozen": false,
     "read_only": false
    }
   },
   "outputs": [],
   "source": [
    "bs.packets"
   ]
  },
  {
   "cell_type": "code",
   "execution_count": null,
   "metadata": {
    "collapsed": false,
    "run_control": {
     "frozen": false,
     "read_only": false
    }
   },
   "outputs": [],
   "source": [
    "bs.packets[4]"
   ]
  },
  {
   "cell_type": "code",
   "execution_count": null,
   "metadata": {
    "collapsed": true,
    "run_control": {
     "frozen": false,
     "read_only": false
    }
   },
   "outputs": [],
   "source": [
    "eheader_dt=[('etype','<u2'),('length','u2'),()]"
   ]
  },
  {
   "cell_type": "code",
   "execution_count": null,
   "metadata": {
    "collapsed": false,
    "run_control": {
     "frozen": false,
     "read_only": false
    }
   },
   "outputs": [],
   "source": [
    "'{:X}'.format(bs.packets[1].bytes[23])\n"
   ]
  },
  {
   "cell_type": "code",
   "execution_count": null,
   "metadata": {
    "collapsed": false,
    "run_control": {
     "frozen": false,
     "read_only": false
    }
   },
   "outputs": [],
   "source": [
    "'{:X}'.format(bs.packets[0].bytes[28:30].view(np.uint16)[0])"
   ]
  },
  {
   "cell_type": "code",
   "execution_count": null,
   "metadata": {
    "collapsed": true,
    "run_control": {
     "frozen": false,
     "read_only": false
    }
   },
   "outputs": [],
   "source": [
    "pulse_peak_dt=np.dtype([('height','i2'),('rise','i2'),('minima','u2'),('time','i2')])\n",
    "pulse_dt=np.dtype([('size','i2'),('resv','i2'),('flags','i2'),('time','u2'),\n",
    "                  ('area','i4'),('length','i2'),('offset','i2'),('peaks',(pulse_peak_dt,2))])"
   ]
  },
  {
   "cell_type": "code",
   "execution_count": null,
   "metadata": {
    "collapsed": false,
    "run_control": {
     "frozen": false,
     "read_only": false
    }
   },
   "outputs": [],
   "source": [
    "pulses=bs.packets[3].payload.view(pulse_dt)"
   ]
  },
  {
   "cell_type": "code",
   "execution_count": null,
   "metadata": {
    "collapsed": false,
    "run_control": {
     "frozen": false,
     "read_only": false
    }
   },
   "outputs": [],
   "source": [
    "pulses['peaks']"
   ]
  },
  {
   "cell_type": "code",
   "execution_count": null,
   "metadata": {
    "collapsed": false,
    "run_control": {
     "frozen": false,
     "read_only": false
    }
   },
   "outputs": [],
   "source": [
    "pulses['offset']"
   ]
  },
  {
   "cell_type": "code",
   "execution_count": null,
   "metadata": {
    "collapsed": false,
    "run_control": {
     "frozen": false,
     "read_only": false
    }
   },
   "outputs": [],
   "source": [
    "pulses['length']"
   ]
  },
  {
   "cell_type": "code",
   "execution_count": null,
   "metadata": {
    "collapsed": false,
    "run_control": {
     "frozen": false,
     "read_only": false
    }
   },
   "outputs": [],
   "source": [
    "class eflags:\n",
    "    def __init__(self,uint16):\n",
    "        self.new_window=np.bitwise_and(uint16,0x00000001)!=0\n",
    "        self.tick=np.bitwise_and(uint16,0x00000002)!=0\n",
    "        self.type=np.right_shift(np.bitwise_and(uint16,0x0000000c),2)\n",
    "        \n",
    "    def __repr__(self):\n",
    "        return 'New window:{:}\\n'.format(self.new_window) + \\\n",
    "               'Tick:{:}\\n'.format(self.tick) + \\\n",
    "               'Type:{:}\\n'.format(self.type) "
   ]
  },
  {
   "cell_type": "code",
   "execution_count": null,
   "metadata": {
    "collapsed": false,
    "run_control": {
     "frozen": false,
     "read_only": false
    }
   },
   "outputs": [],
   "source": [
    "f=eflags(pulses[0]['flags'])\n",
    "f"
   ]
  },
  {
   "cell_type": "code",
   "execution_count": null,
   "metadata": {
    "collapsed": false,
    "run_control": {
     "frozen": false,
     "read_only": false
    }
   },
   "outputs": [],
   "source": [
    "'{:X}'.format(bs.packets[3].bytes[13:14].view(np.uint16))"
   ]
  },
  {
   "cell_type": "code",
   "execution_count": null,
   "metadata": {
    "collapsed": true,
    "run_control": {
     "frozen": false,
     "read_only": false
    }
   },
   "outputs": [],
   "source": []
  },
  {
   "cell_type": "code",
   "execution_count": null,
   "metadata": {
    "collapsed": false,
    "run_control": {
     "frozen": false,
     "read_only": false
    }
   },
   "outputs": [],
   "source": [
    "'{:X}'.format(bs.packets[3].bytes[14:16].view(np.uint16)[0])"
   ]
  },
  {
   "cell_type": "code",
   "execution_count": null,
   "metadata": {
    "collapsed": false,
    "run_control": {
     "frozen": false,
     "read_only": false
    }
   },
   "outputs": [],
   "source": [
    "bs.packets[3].bytes[14:16].view(np.uint16)[0]"
   ]
  },
  {
   "cell_type": "code",
   "execution_count": null,
   "metadata": {
    "collapsed": false,
    "run_control": {
     "frozen": false,
     "read_only": false
    }
   },
   "outputs": [],
   "source": [
    "bs=np.uint8(stream['data'][:48])"
   ]
  },
  {
   "cell_type": "code",
   "execution_count": null,
   "metadata": {
    "collapsed": false,
    "run_control": {
     "frozen": false,
     "read_only": false
    }
   },
   "outputs": [],
   "source": [
    "bs"
   ]
  },
  {
   "cell_type": "code",
   "execution_count": null,
   "metadata": {
    "collapsed": false,
    "run_control": {
     "frozen": false,
     "read_only": false
    }
   },
   "outputs": [],
   "source": [
    "events=stream['data'].view(event_dt)"
   ]
  },
  {
   "cell_type": "code",
   "execution_count": null,
   "metadata": {
    "collapsed": false,
    "run_control": {
     "frozen": false,
     "read_only": false
    }
   },
   "outputs": [],
   "source": [
    "'{:X}'.format(events['flags'][0])"
   ]
  },
  {
   "cell_type": "code",
   "execution_count": null,
   "metadata": {
    "collapsed": false,
    "run_control": {
     "frozen": false,
     "read_only": false
    }
   },
   "outputs": [],
   "source": [
    "events['rise']"
   ]
  },
  {
   "cell_type": "code",
   "execution_count": null,
   "metadata": {
    "collapsed": false,
    "run_control": {
     "frozen": false,
     "read_only": false
    }
   },
   "outputs": [],
   "source": [
    "events"
   ]
  },
  {
   "cell_type": "code",
   "execution_count": null,
   "metadata": {
    "collapsed": false,
    "run_control": {
     "frozen": false,
     "read_only": false
    }
   },
   "outputs": [],
   "source": [
    "'{:04X}'.format(events['flags'][1])"
   ]
  },
  {
   "cell_type": "code",
   "execution_count": null,
   "metadata": {
    "collapsed": true,
    "run_control": {
     "frozen": false,
     "read_only": false
    }
   },
   "outputs": [],
   "source": [
    "pulse_peak_dt=np.dtype([('time','>i2'),('minima','>i2'),('rise','>u2'),('height','>i2')])\n",
    "pulse_dt=np.dtype([('time','>i2'),('flags','>i2'),('resv','>i2'),('size','>u2'),\n",
    "                  ('offset','>i2'),('length','>i2'),('area','>i4'),('peaks',(pulse_peak_dt,1))])\n",
    "data=np.copy(stream['data'])"
   ]
  },
  {
   "cell_type": "code",
   "execution_count": null,
   "metadata": {
    "collapsed": false,
    "run_control": {
     "frozen": false,
     "read_only": false
    }
   },
   "outputs": [],
   "source": [
    "pulses=data.view(pulse_dt)"
   ]
  },
  {
   "cell_type": "code",
   "execution_count": null,
   "metadata": {
    "collapsed": false,
    "run_control": {
     "frozen": false,
     "read_only": false
    }
   },
   "outputs": [],
   "source": [
    "pulses['peaks']['height']-pulses['peaks']['minima']"
   ]
  },
  {
   "cell_type": "code",
   "execution_count": null,
   "metadata": {
    "collapsed": false,
    "run_control": {
     "frozen": false,
     "read_only": false
    }
   },
   "outputs": [],
   "source": [
    "pulses['peaks']['minima']"
   ]
  },
  {
   "cell_type": "code",
   "execution_count": null,
   "metadata": {
    "collapsed": false,
    "run_control": {
     "frozen": false,
     "read_only": false
    }
   },
   "outputs": [],
   "source": [
    "peak_count=np.right_shift(np.bitwise_and(pulses['flags'],0xF000),12)\n",
    "peak_overflow=np.bitwise_and(pulses['flags'],0x0800)!=0\n",
    "channel=np.right_shift(np.bitwise_and(pulses['flags'],0x0700),8)\n",
    "timing_type=np.right_shift(np.bitwise_and(pulses['flags'],0x00C0),6)\n",
    "height_type=np.right_shift(np.bitwise_and(pulses['flags'],0x0030),4)\n",
    "event_type=np.right_shift(np.bitwise_and(pulses['flags'],0x000E),1)\n",
    "new_window=np.bitwise_and(pulses['flags'],0x0001)!=0"
   ]
  },
  {
   "cell_type": "code",
   "execution_count": null,
   "metadata": {
    "collapsed": false,
    "run_control": {
     "frozen": false,
     "read_only": false
    }
   },
   "outputs": [],
   "source": [
    "peak_overflow"
   ]
  },
  {
   "cell_type": "code",
   "execution_count": null,
   "metadata": {
    "collapsed": true,
    "run_control": {
     "frozen": false,
     "read_only": false
    }
   },
   "outputs": [],
   "source": [
    "test_dt=np.dtype(\n",
    "    [('time','i2'),('flags','i2'),('rise','u2'),('minima','i2'),('low','u8'),('high','u8')]\n",
    ")\n",
    "test=data.view(test_dt)"
   ]
  },
  {
   "cell_type": "code",
   "execution_count": null,
   "metadata": {
    "collapsed": false,
    "run_control": {
     "frozen": false,
     "read_only": false
    }
   },
   "outputs": [],
   "source": [
    "test"
   ]
  },
  {
   "cell_type": "code",
   "execution_count": null,
   "metadata": {
    "collapsed": false,
    "run_control": {
     "frozen": false,
     "read_only": false
    }
   },
   "outputs": [],
   "source": [
    "test['minima']"
   ]
  },
  {
   "cell_type": "code",
   "execution_count": null,
   "metadata": {
    "collapsed": false,
    "run_control": {
     "frozen": false,
     "read_only": false
    }
   },
   "outputs": [],
   "source": [
    "low1=np.int32(np.right_shift(np.bitwise_and(test['low'],0x03FFFF000000000),36))\n",
    "s=(np.bitwise_and(low1,0x00020000)!=0)*0xFFFC0000\n",
    "low2=np.int32(np.right_shift(np.bitwise_and(test['low'],0x000000FFFFC0000),18))\n",
    "low_threshold=np.int32(np.bitwise_and(test['low'],0x00000000003FFFF))\n",
    "high1=np.int32(np.right_shift(np.bitwise_and(test['high'],0x03FFFF000000000),36))\n",
    "high2=np.int32(np.right_shift(np.bitwise_and(test['high'],0x000000FFFFC0000),18))\n",
    "high_threshold=np.int32(np.bitwise_and(test['high'],0x00000000003FFFF))"
   ]
  },
  {
   "cell_type": "code",
   "execution_count": null,
   "metadata": {
    "collapsed": false,
    "run_control": {
     "frozen": false,
     "read_only": false
    }
   },
   "outputs": [],
   "source": [
    "np.int32(np.bitwise_or(low1,s))/8.0"
   ]
  },
  {
   "cell_type": "code",
   "execution_count": null,
   "metadata": {
    "collapsed": false,
    "run_control": {
     "frozen": false,
     "read_only": false
    }
   },
   "outputs": [],
   "source": [
    "'{:04X}'.format(low1[0])"
   ]
  },
  {
   "cell_type": "code",
   "execution_count": null,
   "metadata": {
    "collapsed": false,
    "run_control": {
     "frozen": false,
     "read_only": false
    }
   },
   "outputs": [],
   "source": [
    "high1/8.0"
   ]
  },
  {
   "cell_type": "code",
   "execution_count": null,
   "metadata": {
    "collapsed": false,
    "run_control": {
     "frozen": false,
     "read_only": false
    }
   },
   "outputs": [],
   "source": [
    "high2/8.0"
   ]
  },
  {
   "cell_type": "code",
   "execution_count": null,
   "metadata": {
    "collapsed": false,
    "run_control": {
     "frozen": false,
     "read_only": false
    }
   },
   "outputs": [],
   "source": [
    "'{:04X}'.format(high_threshold[0])"
   ]
  },
  {
   "cell_type": "code",
   "execution_count": null,
   "metadata": {
    "collapsed": false,
    "run_control": {
     "frozen": false,
     "read_only": false
    }
   },
   "outputs": [],
   "source": [
    "from enum import Enum"
   ]
  },
  {
   "cell_type": "code",
   "execution_count": null,
   "metadata": {
    "collapsed": false,
    "run_control": {
     "frozen": false,
     "read_only": false
    }
   },
   "outputs": [],
   "source": [
    "class VhdlEnum(int, Enum):\n",
    "\n",
    "    def __str__(self):\n",
    "        return self.name.replace(\"-\", \" \")\n",
    "    \n",
    "    def select(self):\n",
    "        return pow(2, self.value)\n",
    "    "
   ]
  },
  {
   "cell_type": "code",
   "execution_count": null,
   "metadata": {
    "collapsed": false,
    "run_control": {
     "frozen": false,
     "read_only": false
    }
   },
   "outputs": [],
   "source": [
    "class Test(VhdlEnum):\n",
    "    a=0\n",
    "    b=1"
   ]
  },
  {
   "cell_type": "code",
   "execution_count": null,
   "metadata": {
    "collapsed": false,
    "run_control": {
     "frozen": false,
     "read_only": false
    }
   },
   "outputs": [],
   "source": [
    "Test(0)"
   ]
  },
  {
   "cell_type": "code",
   "execution_count": null,
   "metadata": {
    "collapsed": true,
    "run_control": {
     "frozen": false,
     "read_only": false
    }
   },
   "outputs": [],
   "source": []
  }
 ],
 "metadata": {
  "anaconda-cloud": {},
  "kernelspec": {
   "display_name": "Python [conda root]",
   "language": "python",
   "name": "conda-root-py"
  },
  "language_info": {
   "codemirror_mode": {
    "name": "ipython",
    "version": 3
   },
   "file_extension": ".py",
   "mimetype": "text/x-python",
   "name": "python",
   "nbconvert_exporter": "python",
   "pygments_lexer": "ipython3",
   "version": "3.5.3"
  }
 },
 "nbformat": 4,
 "nbformat_minor": 1
}
