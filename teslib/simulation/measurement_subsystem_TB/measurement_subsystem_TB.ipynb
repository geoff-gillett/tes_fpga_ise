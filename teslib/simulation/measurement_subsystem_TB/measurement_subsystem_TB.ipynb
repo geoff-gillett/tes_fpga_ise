{
 "cells": [
  {
   "cell_type": "markdown",
   "metadata": {},
   "source": [
    "timestamp 0 => clk 20\n",
    "\n",
    "traces start at clk 1"
   ]
  },
  {
   "cell_type": "code",
   "execution_count": null,
   "metadata": {
    "collapsed": false,
    "run_control": {
     "frozen": false,
     "read_only": false
    }
   },
   "outputs": [],
   "source": [
    "#Mac\n",
    "import sys\n",
    "sys.path.append('../../../../interface/python')"
   ]
  },
  {
   "cell_type": "code",
   "execution_count": 1,
   "metadata": {
    "collapsed": false,
    "run_control": {
     "frozen": false,
     "read_only": false
    }
   },
   "outputs": [],
   "source": [
    "from tes.data import Data,PacketStream,Packet,Payload,EventFlags,Event\n",
    "import numpy as np\n",
    "import matplotlib.pyplot as plt\n",
    "from subprocess import Popen"
   ]
  },
  {
   "cell_type": "code",
   "execution_count": null,
   "metadata": {
    "collapsed": true
   },
   "outputs": [],
   "source": []
  },
  {
   "cell_type": "code",
   "execution_count": 2,
   "metadata": {
    "code_folding": [],
    "collapsed": false,
    "run_control": {
     "frozen": false,
     "read_only": false
    }
   },
   "outputs": [],
   "source": [
    "#NOTE traces[0] corresponts to clk=1\n",
    "trace_dt=np.dtype([('raw','i4'),('filtered','i4'),('slope','i4'),('filteredL','i4')])\n",
    "stream_dt=np.dtype([('data','i4'),('last','i4')])\n",
    "minmax_dt=np.dtype(\n",
    "    [\n",
    "        ('filtered','i4'),('timing_threshold','i4'),\n",
    "        ('height_threshold','i4'),('slope_extrema','i4'),('slope_area','i4'),('clk','i4')\n",
    "    ]\n",
    ")\n",
    "cfd_dt=np.dtype('i4')\n",
    "filteredxing_dt=np.dtype([('extrema','i4'),('area','i4'),('clk','i4')])"
   ]
  },
  {
   "cell_type": "code",
   "execution_count": null,
   "metadata": {
    "collapsed": false,
    "run_control": {
     "frozen": false,
     "read_only": false
    }
   },
   "outputs": [],
   "source": [
    "traces=np.fromfile('data/traces',trace_dt)\n",
    "stream=np.fromfile('data/bytestream',stream_dt)\n",
    "minmax=np.fromfile('data/minmax',minmax_dt)\n",
    "cfd=np.fromfile('data/cfd',cfd_dt)\n",
    "filteredxing=np.fromfile('data/filteredxing',filteredxing_dt)"
   ]
  },
  {
   "cell_type": "code",
   "execution_count": 3,
   "metadata": {
    "collapsed": false,
    "run_control": {
     "frozen": false,
     "read_only": false
    },
    "scrolled": true
   },
   "outputs": [],
   "source": [
    "traces=Data.fromfile('traces',trace_dt,'teslib','measurement_subsystem_TB',tool='vivado')\n",
    "stream=Data.fromfile('bytestream',stream_dt,'teslib','measurement_subsystem_TB',tool='vivado')\n",
    "minmax=Data.fromfile('minmax',minmax_dt,'teslib','measurement_subsystem_TB',tool='vivado')\n",
    "cfd=Data.fromfile('cfd',cfd_dt,'teslib','measurement_subsystem_TB',tool='vivado')\n",
    "filteredxing=Data.fromfile(\n",
    "    'filteredxing',filteredxing_dt,'teslib','measurement_subsystem_TB',tool='vivado'\n",
    ")"
   ]
  },
  {
   "cell_type": "code",
   "execution_count": null,
   "metadata": {
    "collapsed": false,
    "run_control": {
     "frozen": false,
     "read_only": false
    },
    "scrolled": true
   },
   "outputs": [],
   "source": [
    "# Mac\n",
    "traces=Data.fromfile(\n",
    "    'traces',trace_dt,'teslib','measurement_subsystem_TB',tool='vivado',\n",
    "    root='/Volumes/C/'\n",
    ")\n",
    "stream=Data.fromfile(\n",
    "    'bytestream',stream_dt,'teslib','measurement_subsystem_TB',tool='vivado',\n",
    "    root='/Volumes/C/'\n",
    ")\n",
    "minmax=Data.fromfile(\n",
    "    'minmax',minmax_dt,'teslib','measurement_subsystem_TB',tool='vivado',\n",
    "    root='/Volumes/C/'\n",
    ")\n",
    "cfd=Data.fromfile(\n",
    "    'cfd',cfd_dt,'teslib','measurement_subsystem_TB',tool='vivado',\n",
    "    root='/Volumes/C/'\n",
    ")\n",
    "filteredxing=Data.fromfile(\n",
    "    'filteredxing',filteredxing_dt,'teslib','measurement_subsystem_TB',\n",
    "    tool='vivado',root='/Volumes/C/'\n",
    ")"
   ]
  },
  {
   "cell_type": "code",
   "execution_count": 4,
   "metadata": {
    "collapsed": false
   },
   "outputs": [],
   "source": [
    "def plot_event(event_tupple,rel2min):\n",
    "    pre=200\n",
    "    post=1000\n",
    "    timestamp=event_tupple[0]\n",
    "    event_type=event_tupple[1]\n",
    "    event=event_tupple[2]\n",
    "    flags=EventFlags(event['flags'])\n",
    "#     print(flags)\n",
    "    #print('timestamp',timestamp, 'time', event['time'],'height',event['height'],'min',event['minima'])\n",
    "    if flags.type == Event.tick:\n",
    "        return\n",
    "    s=traces['filtered'][timestamp+20-pre:timestamp+20+post]\n",
    "    r=traces['raw'][timestamp+20-pre:timestamp+20+post]\n",
    "    i = np.where(abs(minmax['clk'])<=timestamp+20)[0][-1]\n",
    "    min_t=abs(minmax['clk'][i])-(timestamp+20)\n",
    "#     print(minmax['clk'][i],min_t,i,timestamp)\n",
    "    #plt.plot(r,'k',linewidth=0.5)\n",
    "#     print('min', event_tupple[2][1])\n",
    "#     print(event_type)\n",
    "    if flags.channel==1:\n",
    "        colour='b'\n",
    "        lw=0.5\n",
    "        mm = 'vb'\n",
    "        tm = 'ob'\n",
    "    else:\n",
    "        colour='r'\n",
    "        lw=0.5\n",
    "        mm = 'vr'\n",
    "        tm = 'or'\n",
    "    \n",
    "#     if event_type==Event.pulse:\n",
    "#         colour=':g'\n",
    "#         lw=2\n",
    "#         if event_type==Event.pulse:\n",
    "#             max_peaks = event['size']-2\n",
    "#         if max_peaks > 1:    \n",
    "#             minima=event['peaks'][0]['minima']\n",
    "#         else:\n",
    "#             minima=event['peaks']['minima']\n",
    "#     else:\n",
    "#         colour='b'\n",
    "#         lw=1\n",
    "    if flags.channel==1:\n",
    "        minima=event['minima']\n",
    "    #     print(event_type,'minima',minima)\n",
    "        if rel2min:\n",
    "            plt.plot(s-minima,colour,linewidth=lw)\n",
    "        else:\n",
    "            plt.plot(s,colour,linewidth=lw)\n",
    "    #     plt.plot([pre],s[pre],tm,fillstyle='none')\n",
    "    #     plt.plot([pre+min_t],minmax['filtered'][i],mm,fillstyle='none')\n",
    "        if event_type==Event.pulse:\n",
    "            if max_peaks > 1:\n",
    "                for i in range(max_peaks):\n",
    "                    p=event['peaks'][i]\n",
    "                    plt.plot([0,len(s)-1],[p['height'],p['height']],':g')\n",
    "            else:\n",
    "                p=event['peaks']\n",
    "                plt.plot([0,len(s)-1],[p['height'],p['height']],':g',lw=1)\n",
    "        else:\n",
    "          plt.plot([0,len(s)-1],[event['height'],event['height']],colour,lw=lw)\n",
    "\n",
    "    #print(event['height'],event['minima'])\n",
    "    #print(minmax['filtered'][i]==s[pre+min_t])\n",
    "    #print(minmax['filtered'][i]==event['minima'])\n",
    "    #print(s[pre],s[pre-1])"
   ]
  },
  {
   "cell_type": "code",
   "execution_count": null,
   "metadata": {
    "collapsed": false,
    "run_control": {
     "frozen": false,
     "read_only": false
    },
    "scrolled": false
   },
   "outputs": [],
   "source": [
    "%matplotlib notebook\n",
    "traces=Data.fromfile('traces',trace_dt,'teslib','measurement_subsystem_TB',tool='vivado')\n",
    "plt.plot(traces['slope'][1100:],'r',linewidth=1)\n",
    "plt.plot(traces['raw'][1100:],linewidth=0.5)\n",
    "plt.plot(traces['filtered'][1100:],'k',linewidth=2)"
   ]
  },
  {
   "cell_type": "code",
   "execution_count": 5,
   "metadata": {
    "collapsed": false,
    "run_control": {
     "frozen": false,
     "read_only": false
    },
    "scrolled": false
   },
   "outputs": [
    {
     "data": {
      "application/javascript": [
       "/* Put everything inside the global mpl namespace */\n",
       "window.mpl = {};\n",
       "\n",
       "\n",
       "mpl.get_websocket_type = function() {\n",
       "    if (typeof(WebSocket) !== 'undefined') {\n",
       "        return WebSocket;\n",
       "    } else if (typeof(MozWebSocket) !== 'undefined') {\n",
       "        return MozWebSocket;\n",
       "    } else {\n",
       "        alert('Your browser does not have WebSocket support.' +\n",
       "              'Please try Chrome, Safari or Firefox ≥ 6. ' +\n",
       "              'Firefox 4 and 5 are also supported but you ' +\n",
       "              'have to enable WebSockets in about:config.');\n",
       "    };\n",
       "}\n",
       "\n",
       "mpl.figure = function(figure_id, websocket, ondownload, parent_element) {\n",
       "    this.id = figure_id;\n",
       "\n",
       "    this.ws = websocket;\n",
       "\n",
       "    this.supports_binary = (this.ws.binaryType != undefined);\n",
       "\n",
       "    if (!this.supports_binary) {\n",
       "        var warnings = document.getElementById(\"mpl-warnings\");\n",
       "        if (warnings) {\n",
       "            warnings.style.display = 'block';\n",
       "            warnings.textContent = (\n",
       "                \"This browser does not support binary websocket messages. \" +\n",
       "                    \"Performance may be slow.\");\n",
       "        }\n",
       "    }\n",
       "\n",
       "    this.imageObj = new Image();\n",
       "\n",
       "    this.context = undefined;\n",
       "    this.message = undefined;\n",
       "    this.canvas = undefined;\n",
       "    this.rubberband_canvas = undefined;\n",
       "    this.rubberband_context = undefined;\n",
       "    this.format_dropdown = undefined;\n",
       "\n",
       "    this.image_mode = 'full';\n",
       "\n",
       "    this.root = $('<div/>');\n",
       "    this._root_extra_style(this.root)\n",
       "    this.root.attr('style', 'display: inline-block');\n",
       "\n",
       "    $(parent_element).append(this.root);\n",
       "\n",
       "    this._init_header(this);\n",
       "    this._init_canvas(this);\n",
       "    this._init_toolbar(this);\n",
       "\n",
       "    var fig = this;\n",
       "\n",
       "    this.waiting = false;\n",
       "\n",
       "    this.ws.onopen =  function () {\n",
       "            fig.send_message(\"supports_binary\", {value: fig.supports_binary});\n",
       "            fig.send_message(\"send_image_mode\", {});\n",
       "            if (mpl.ratio != 1) {\n",
       "                fig.send_message(\"set_dpi_ratio\", {'dpi_ratio': mpl.ratio});\n",
       "            }\n",
       "            fig.send_message(\"refresh\", {});\n",
       "        }\n",
       "\n",
       "    this.imageObj.onload = function() {\n",
       "            if (fig.image_mode == 'full') {\n",
       "                // Full images could contain transparency (where diff images\n",
       "                // almost always do), so we need to clear the canvas so that\n",
       "                // there is no ghosting.\n",
       "                fig.context.clearRect(0, 0, fig.canvas.width, fig.canvas.height);\n",
       "            }\n",
       "            fig.context.drawImage(fig.imageObj, 0, 0);\n",
       "        };\n",
       "\n",
       "    this.imageObj.onunload = function() {\n",
       "        this.ws.close();\n",
       "    }\n",
       "\n",
       "    this.ws.onmessage = this._make_on_message_function(this);\n",
       "\n",
       "    this.ondownload = ondownload;\n",
       "}\n",
       "\n",
       "mpl.figure.prototype._init_header = function() {\n",
       "    var titlebar = $(\n",
       "        '<div class=\"ui-dialog-titlebar ui-widget-header ui-corner-all ' +\n",
       "        'ui-helper-clearfix\"/>');\n",
       "    var titletext = $(\n",
       "        '<div class=\"ui-dialog-title\" style=\"width: 100%; ' +\n",
       "        'text-align: center; padding: 3px;\"/>');\n",
       "    titlebar.append(titletext)\n",
       "    this.root.append(titlebar);\n",
       "    this.header = titletext[0];\n",
       "}\n",
       "\n",
       "\n",
       "\n",
       "mpl.figure.prototype._canvas_extra_style = function(canvas_div) {\n",
       "\n",
       "}\n",
       "\n",
       "\n",
       "mpl.figure.prototype._root_extra_style = function(canvas_div) {\n",
       "\n",
       "}\n",
       "\n",
       "mpl.figure.prototype._init_canvas = function() {\n",
       "    var fig = this;\n",
       "\n",
       "    var canvas_div = $('<div/>');\n",
       "\n",
       "    canvas_div.attr('style', 'position: relative; clear: both; outline: 0');\n",
       "\n",
       "    function canvas_keyboard_event(event) {\n",
       "        return fig.key_event(event, event['data']);\n",
       "    }\n",
       "\n",
       "    canvas_div.keydown('key_press', canvas_keyboard_event);\n",
       "    canvas_div.keyup('key_release', canvas_keyboard_event);\n",
       "    this.canvas_div = canvas_div\n",
       "    this._canvas_extra_style(canvas_div)\n",
       "    this.root.append(canvas_div);\n",
       "\n",
       "    var canvas = $('<canvas/>');\n",
       "    canvas.addClass('mpl-canvas');\n",
       "    canvas.attr('style', \"left: 0; top: 0; z-index: 0; outline: 0\")\n",
       "\n",
       "    this.canvas = canvas[0];\n",
       "    this.context = canvas[0].getContext(\"2d\");\n",
       "\n",
       "    var backingStore = this.context.backingStorePixelRatio ||\n",
       "\tthis.context.webkitBackingStorePixelRatio ||\n",
       "\tthis.context.mozBackingStorePixelRatio ||\n",
       "\tthis.context.msBackingStorePixelRatio ||\n",
       "\tthis.context.oBackingStorePixelRatio ||\n",
       "\tthis.context.backingStorePixelRatio || 1;\n",
       "\n",
       "    mpl.ratio = (window.devicePixelRatio || 1) / backingStore;\n",
       "\n",
       "    var rubberband = $('<canvas/>');\n",
       "    rubberband.attr('style', \"position: absolute; left: 0; top: 0; z-index: 1;\")\n",
       "\n",
       "    var pass_mouse_events = true;\n",
       "\n",
       "    canvas_div.resizable({\n",
       "        start: function(event, ui) {\n",
       "            pass_mouse_events = false;\n",
       "        },\n",
       "        resize: function(event, ui) {\n",
       "            fig.request_resize(ui.size.width, ui.size.height);\n",
       "        },\n",
       "        stop: function(event, ui) {\n",
       "            pass_mouse_events = true;\n",
       "            fig.request_resize(ui.size.width, ui.size.height);\n",
       "        },\n",
       "    });\n",
       "\n",
       "    function mouse_event_fn(event) {\n",
       "        if (pass_mouse_events)\n",
       "            return fig.mouse_event(event, event['data']);\n",
       "    }\n",
       "\n",
       "    rubberband.mousedown('button_press', mouse_event_fn);\n",
       "    rubberband.mouseup('button_release', mouse_event_fn);\n",
       "    // Throttle sequential mouse events to 1 every 20ms.\n",
       "    rubberband.mousemove('motion_notify', mouse_event_fn);\n",
       "\n",
       "    rubberband.mouseenter('figure_enter', mouse_event_fn);\n",
       "    rubberband.mouseleave('figure_leave', mouse_event_fn);\n",
       "\n",
       "    canvas_div.on(\"wheel\", function (event) {\n",
       "        event = event.originalEvent;\n",
       "        event['data'] = 'scroll'\n",
       "        if (event.deltaY < 0) {\n",
       "            event.step = 1;\n",
       "        } else {\n",
       "            event.step = -1;\n",
       "        }\n",
       "        mouse_event_fn(event);\n",
       "    });\n",
       "\n",
       "    canvas_div.append(canvas);\n",
       "    canvas_div.append(rubberband);\n",
       "\n",
       "    this.rubberband = rubberband;\n",
       "    this.rubberband_canvas = rubberband[0];\n",
       "    this.rubberband_context = rubberband[0].getContext(\"2d\");\n",
       "    this.rubberband_context.strokeStyle = \"#000000\";\n",
       "\n",
       "    this._resize_canvas = function(width, height) {\n",
       "        // Keep the size of the canvas, canvas container, and rubber band\n",
       "        // canvas in synch.\n",
       "        canvas_div.css('width', width)\n",
       "        canvas_div.css('height', height)\n",
       "\n",
       "        canvas.attr('width', width * mpl.ratio);\n",
       "        canvas.attr('height', height * mpl.ratio);\n",
       "        canvas.attr('style', 'width: ' + width + 'px; height: ' + height + 'px;');\n",
       "\n",
       "        rubberband.attr('width', width);\n",
       "        rubberband.attr('height', height);\n",
       "    }\n",
       "\n",
       "    // Set the figure to an initial 600x600px, this will subsequently be updated\n",
       "    // upon first draw.\n",
       "    this._resize_canvas(600, 600);\n",
       "\n",
       "    // Disable right mouse context menu.\n",
       "    $(this.rubberband_canvas).bind(\"contextmenu\",function(e){\n",
       "        return false;\n",
       "    });\n",
       "\n",
       "    function set_focus () {\n",
       "        canvas.focus();\n",
       "        canvas_div.focus();\n",
       "    }\n",
       "\n",
       "    window.setTimeout(set_focus, 100);\n",
       "}\n",
       "\n",
       "mpl.figure.prototype._init_toolbar = function() {\n",
       "    var fig = this;\n",
       "\n",
       "    var nav_element = $('<div/>')\n",
       "    nav_element.attr('style', 'width: 100%');\n",
       "    this.root.append(nav_element);\n",
       "\n",
       "    // Define a callback function for later on.\n",
       "    function toolbar_event(event) {\n",
       "        return fig.toolbar_button_onclick(event['data']);\n",
       "    }\n",
       "    function toolbar_mouse_event(event) {\n",
       "        return fig.toolbar_button_onmouseover(event['data']);\n",
       "    }\n",
       "\n",
       "    for(var toolbar_ind in mpl.toolbar_items) {\n",
       "        var name = mpl.toolbar_items[toolbar_ind][0];\n",
       "        var tooltip = mpl.toolbar_items[toolbar_ind][1];\n",
       "        var image = mpl.toolbar_items[toolbar_ind][2];\n",
       "        var method_name = mpl.toolbar_items[toolbar_ind][3];\n",
       "\n",
       "        if (!name) {\n",
       "            // put a spacer in here.\n",
       "            continue;\n",
       "        }\n",
       "        var button = $('<button/>');\n",
       "        button.addClass('ui-button ui-widget ui-state-default ui-corner-all ' +\n",
       "                        'ui-button-icon-only');\n",
       "        button.attr('role', 'button');\n",
       "        button.attr('aria-disabled', 'false');\n",
       "        button.click(method_name, toolbar_event);\n",
       "        button.mouseover(tooltip, toolbar_mouse_event);\n",
       "\n",
       "        var icon_img = $('<span/>');\n",
       "        icon_img.addClass('ui-button-icon-primary ui-icon');\n",
       "        icon_img.addClass(image);\n",
       "        icon_img.addClass('ui-corner-all');\n",
       "\n",
       "        var tooltip_span = $('<span/>');\n",
       "        tooltip_span.addClass('ui-button-text');\n",
       "        tooltip_span.html(tooltip);\n",
       "\n",
       "        button.append(icon_img);\n",
       "        button.append(tooltip_span);\n",
       "\n",
       "        nav_element.append(button);\n",
       "    }\n",
       "\n",
       "    var fmt_picker_span = $('<span/>');\n",
       "\n",
       "    var fmt_picker = $('<select/>');\n",
       "    fmt_picker.addClass('mpl-toolbar-option ui-widget ui-widget-content');\n",
       "    fmt_picker_span.append(fmt_picker);\n",
       "    nav_element.append(fmt_picker_span);\n",
       "    this.format_dropdown = fmt_picker[0];\n",
       "\n",
       "    for (var ind in mpl.extensions) {\n",
       "        var fmt = mpl.extensions[ind];\n",
       "        var option = $(\n",
       "            '<option/>', {selected: fmt === mpl.default_extension}).html(fmt);\n",
       "        fmt_picker.append(option)\n",
       "    }\n",
       "\n",
       "    // Add hover states to the ui-buttons\n",
       "    $( \".ui-button\" ).hover(\n",
       "        function() { $(this).addClass(\"ui-state-hover\");},\n",
       "        function() { $(this).removeClass(\"ui-state-hover\");}\n",
       "    );\n",
       "\n",
       "    var status_bar = $('<span class=\"mpl-message\"/>');\n",
       "    nav_element.append(status_bar);\n",
       "    this.message = status_bar[0];\n",
       "}\n",
       "\n",
       "mpl.figure.prototype.request_resize = function(x_pixels, y_pixels) {\n",
       "    // Request matplotlib to resize the figure. Matplotlib will then trigger a resize in the client,\n",
       "    // which will in turn request a refresh of the image.\n",
       "    this.send_message('resize', {'width': x_pixels, 'height': y_pixels});\n",
       "}\n",
       "\n",
       "mpl.figure.prototype.send_message = function(type, properties) {\n",
       "    properties['type'] = type;\n",
       "    properties['figure_id'] = this.id;\n",
       "    this.ws.send(JSON.stringify(properties));\n",
       "}\n",
       "\n",
       "mpl.figure.prototype.send_draw_message = function() {\n",
       "    if (!this.waiting) {\n",
       "        this.waiting = true;\n",
       "        this.ws.send(JSON.stringify({type: \"draw\", figure_id: this.id}));\n",
       "    }\n",
       "}\n",
       "\n",
       "\n",
       "mpl.figure.prototype.handle_save = function(fig, msg) {\n",
       "    var format_dropdown = fig.format_dropdown;\n",
       "    var format = format_dropdown.options[format_dropdown.selectedIndex].value;\n",
       "    fig.ondownload(fig, format);\n",
       "}\n",
       "\n",
       "\n",
       "mpl.figure.prototype.handle_resize = function(fig, msg) {\n",
       "    var size = msg['size'];\n",
       "    if (size[0] != fig.canvas.width || size[1] != fig.canvas.height) {\n",
       "        fig._resize_canvas(size[0], size[1]);\n",
       "        fig.send_message(\"refresh\", {});\n",
       "    };\n",
       "}\n",
       "\n",
       "mpl.figure.prototype.handle_rubberband = function(fig, msg) {\n",
       "    var x0 = msg['x0'] / mpl.ratio;\n",
       "    var y0 = (fig.canvas.height - msg['y0']) / mpl.ratio;\n",
       "    var x1 = msg['x1'] / mpl.ratio;\n",
       "    var y1 = (fig.canvas.height - msg['y1']) / mpl.ratio;\n",
       "    x0 = Math.floor(x0) + 0.5;\n",
       "    y0 = Math.floor(y0) + 0.5;\n",
       "    x1 = Math.floor(x1) + 0.5;\n",
       "    y1 = Math.floor(y1) + 0.5;\n",
       "    var min_x = Math.min(x0, x1);\n",
       "    var min_y = Math.min(y0, y1);\n",
       "    var width = Math.abs(x1 - x0);\n",
       "    var height = Math.abs(y1 - y0);\n",
       "\n",
       "    fig.rubberband_context.clearRect(\n",
       "        0, 0, fig.canvas.width, fig.canvas.height);\n",
       "\n",
       "    fig.rubberband_context.strokeRect(min_x, min_y, width, height);\n",
       "}\n",
       "\n",
       "mpl.figure.prototype.handle_figure_label = function(fig, msg) {\n",
       "    // Updates the figure title.\n",
       "    fig.header.textContent = msg['label'];\n",
       "}\n",
       "\n",
       "mpl.figure.prototype.handle_cursor = function(fig, msg) {\n",
       "    var cursor = msg['cursor'];\n",
       "    switch(cursor)\n",
       "    {\n",
       "    case 0:\n",
       "        cursor = 'pointer';\n",
       "        break;\n",
       "    case 1:\n",
       "        cursor = 'default';\n",
       "        break;\n",
       "    case 2:\n",
       "        cursor = 'crosshair';\n",
       "        break;\n",
       "    case 3:\n",
       "        cursor = 'move';\n",
       "        break;\n",
       "    }\n",
       "    fig.rubberband_canvas.style.cursor = cursor;\n",
       "}\n",
       "\n",
       "mpl.figure.prototype.handle_message = function(fig, msg) {\n",
       "    fig.message.textContent = msg['message'];\n",
       "}\n",
       "\n",
       "mpl.figure.prototype.handle_draw = function(fig, msg) {\n",
       "    // Request the server to send over a new figure.\n",
       "    fig.send_draw_message();\n",
       "}\n",
       "\n",
       "mpl.figure.prototype.handle_image_mode = function(fig, msg) {\n",
       "    fig.image_mode = msg['mode'];\n",
       "}\n",
       "\n",
       "mpl.figure.prototype.updated_canvas_event = function() {\n",
       "    // Called whenever the canvas gets updated.\n",
       "    this.send_message(\"ack\", {});\n",
       "}\n",
       "\n",
       "// A function to construct a web socket function for onmessage handling.\n",
       "// Called in the figure constructor.\n",
       "mpl.figure.prototype._make_on_message_function = function(fig) {\n",
       "    return function socket_on_message(evt) {\n",
       "        if (evt.data instanceof Blob) {\n",
       "            /* FIXME: We get \"Resource interpreted as Image but\n",
       "             * transferred with MIME type text/plain:\" errors on\n",
       "             * Chrome.  But how to set the MIME type?  It doesn't seem\n",
       "             * to be part of the websocket stream */\n",
       "            evt.data.type = \"image/png\";\n",
       "\n",
       "            /* Free the memory for the previous frames */\n",
       "            if (fig.imageObj.src) {\n",
       "                (window.URL || window.webkitURL).revokeObjectURL(\n",
       "                    fig.imageObj.src);\n",
       "            }\n",
       "\n",
       "            fig.imageObj.src = (window.URL || window.webkitURL).createObjectURL(\n",
       "                evt.data);\n",
       "            fig.updated_canvas_event();\n",
       "            fig.waiting = false;\n",
       "            return;\n",
       "        }\n",
       "        else if (typeof evt.data === 'string' && evt.data.slice(0, 21) == \"data:image/png;base64\") {\n",
       "            fig.imageObj.src = evt.data;\n",
       "            fig.updated_canvas_event();\n",
       "            fig.waiting = false;\n",
       "            return;\n",
       "        }\n",
       "\n",
       "        var msg = JSON.parse(evt.data);\n",
       "        var msg_type = msg['type'];\n",
       "\n",
       "        // Call the  \"handle_{type}\" callback, which takes\n",
       "        // the figure and JSON message as its only arguments.\n",
       "        try {\n",
       "            var callback = fig[\"handle_\" + msg_type];\n",
       "        } catch (e) {\n",
       "            console.log(\"No handler for the '\" + msg_type + \"' message type: \", msg);\n",
       "            return;\n",
       "        }\n",
       "\n",
       "        if (callback) {\n",
       "            try {\n",
       "                // console.log(\"Handling '\" + msg_type + \"' message: \", msg);\n",
       "                callback(fig, msg);\n",
       "            } catch (e) {\n",
       "                console.log(\"Exception inside the 'handler_\" + msg_type + \"' callback:\", e, e.stack, msg);\n",
       "            }\n",
       "        }\n",
       "    };\n",
       "}\n",
       "\n",
       "// from http://stackoverflow.com/questions/1114465/getting-mouse-location-in-canvas\n",
       "mpl.findpos = function(e) {\n",
       "    //this section is from http://www.quirksmode.org/js/events_properties.html\n",
       "    var targ;\n",
       "    if (!e)\n",
       "        e = window.event;\n",
       "    if (e.target)\n",
       "        targ = e.target;\n",
       "    else if (e.srcElement)\n",
       "        targ = e.srcElement;\n",
       "    if (targ.nodeType == 3) // defeat Safari bug\n",
       "        targ = targ.parentNode;\n",
       "\n",
       "    // jQuery normalizes the pageX and pageY\n",
       "    // pageX,Y are the mouse positions relative to the document\n",
       "    // offset() returns the position of the element relative to the document\n",
       "    var x = e.pageX - $(targ).offset().left;\n",
       "    var y = e.pageY - $(targ).offset().top;\n",
       "\n",
       "    return {\"x\": x, \"y\": y};\n",
       "};\n",
       "\n",
       "/*\n",
       " * return a copy of an object with only non-object keys\n",
       " * we need this to avoid circular references\n",
       " * http://stackoverflow.com/a/24161582/3208463\n",
       " */\n",
       "function simpleKeys (original) {\n",
       "  return Object.keys(original).reduce(function (obj, key) {\n",
       "    if (typeof original[key] !== 'object')\n",
       "        obj[key] = original[key]\n",
       "    return obj;\n",
       "  }, {});\n",
       "}\n",
       "\n",
       "mpl.figure.prototype.mouse_event = function(event, name) {\n",
       "    var canvas_pos = mpl.findpos(event)\n",
       "\n",
       "    if (name === 'button_press')\n",
       "    {\n",
       "        this.canvas.focus();\n",
       "        this.canvas_div.focus();\n",
       "    }\n",
       "\n",
       "    var x = canvas_pos.x * mpl.ratio;\n",
       "    var y = canvas_pos.y * mpl.ratio;\n",
       "\n",
       "    this.send_message(name, {x: x, y: y, button: event.button,\n",
       "                             step: event.step,\n",
       "                             guiEvent: simpleKeys(event)});\n",
       "\n",
       "    /* This prevents the web browser from automatically changing to\n",
       "     * the text insertion cursor when the button is pressed.  We want\n",
       "     * to control all of the cursor setting manually through the\n",
       "     * 'cursor' event from matplotlib */\n",
       "    event.preventDefault();\n",
       "    return false;\n",
       "}\n",
       "\n",
       "mpl.figure.prototype._key_event_extra = function(event, name) {\n",
       "    // Handle any extra behaviour associated with a key event\n",
       "}\n",
       "\n",
       "mpl.figure.prototype.key_event = function(event, name) {\n",
       "\n",
       "    // Prevent repeat events\n",
       "    if (name == 'key_press')\n",
       "    {\n",
       "        if (event.which === this._key)\n",
       "            return;\n",
       "        else\n",
       "            this._key = event.which;\n",
       "    }\n",
       "    if (name == 'key_release')\n",
       "        this._key = null;\n",
       "\n",
       "    var value = '';\n",
       "    if (event.ctrlKey && event.which != 17)\n",
       "        value += \"ctrl+\";\n",
       "    if (event.altKey && event.which != 18)\n",
       "        value += \"alt+\";\n",
       "    if (event.shiftKey && event.which != 16)\n",
       "        value += \"shift+\";\n",
       "\n",
       "    value += 'k';\n",
       "    value += event.which.toString();\n",
       "\n",
       "    this._key_event_extra(event, name);\n",
       "\n",
       "    this.send_message(name, {key: value,\n",
       "                             guiEvent: simpleKeys(event)});\n",
       "    return false;\n",
       "}\n",
       "\n",
       "mpl.figure.prototype.toolbar_button_onclick = function(name) {\n",
       "    if (name == 'download') {\n",
       "        this.handle_save(this, null);\n",
       "    } else {\n",
       "        this.send_message(\"toolbar_button\", {name: name});\n",
       "    }\n",
       "};\n",
       "\n",
       "mpl.figure.prototype.toolbar_button_onmouseover = function(tooltip) {\n",
       "    this.message.textContent = tooltip;\n",
       "};\n",
       "mpl.toolbar_items = [[\"Home\", \"Reset original view\", \"fa fa-home icon-home\", \"home\"], [\"Back\", \"Back to  previous view\", \"fa fa-arrow-left icon-arrow-left\", \"back\"], [\"Forward\", \"Forward to next view\", \"fa fa-arrow-right icon-arrow-right\", \"forward\"], [\"\", \"\", \"\", \"\"], [\"Pan\", \"Pan axes with left mouse, zoom with right\", \"fa fa-arrows icon-move\", \"pan\"], [\"Zoom\", \"Zoom to rectangle\", \"fa fa-square-o icon-check-empty\", \"zoom\"], [\"\", \"\", \"\", \"\"], [\"Download\", \"Download plot\", \"fa fa-floppy-o icon-save\", \"download\"]];\n",
       "\n",
       "mpl.extensions = [\"eps\", \"jpeg\", \"pdf\", \"png\", \"ps\", \"raw\", \"svg\", \"tif\"];\n",
       "\n",
       "mpl.default_extension = \"png\";var comm_websocket_adapter = function(comm) {\n",
       "    // Create a \"websocket\"-like object which calls the given IPython comm\n",
       "    // object with the appropriate methods. Currently this is a non binary\n",
       "    // socket, so there is still some room for performance tuning.\n",
       "    var ws = {};\n",
       "\n",
       "    ws.close = function() {\n",
       "        comm.close()\n",
       "    };\n",
       "    ws.send = function(m) {\n",
       "        //console.log('sending', m);\n",
       "        comm.send(m);\n",
       "    };\n",
       "    // Register the callback with on_msg.\n",
       "    comm.on_msg(function(msg) {\n",
       "        //console.log('receiving', msg['content']['data'], msg);\n",
       "        // Pass the mpl event to the overriden (by mpl) onmessage function.\n",
       "        ws.onmessage(msg['content']['data'])\n",
       "    });\n",
       "    return ws;\n",
       "}\n",
       "\n",
       "mpl.mpl_figure_comm = function(comm, msg) {\n",
       "    // This is the function which gets called when the mpl process\n",
       "    // starts-up an IPython Comm through the \"matplotlib\" channel.\n",
       "\n",
       "    var id = msg.content.data.id;\n",
       "    // Get hold of the div created by the display call when the Comm\n",
       "    // socket was opened in Python.\n",
       "    var element = $(\"#\" + id);\n",
       "    var ws_proxy = comm_websocket_adapter(comm)\n",
       "\n",
       "    function ondownload(figure, format) {\n",
       "        window.open(figure.imageObj.src);\n",
       "    }\n",
       "\n",
       "    var fig = new mpl.figure(id, ws_proxy,\n",
       "                           ondownload,\n",
       "                           element.get(0));\n",
       "\n",
       "    // Call onopen now - mpl needs it, as it is assuming we've passed it a real\n",
       "    // web socket which is closed, not our websocket->open comm proxy.\n",
       "    ws_proxy.onopen();\n",
       "\n",
       "    fig.parent_element = element.get(0);\n",
       "    fig.cell_info = mpl.find_output_cell(\"<div id='\" + id + \"'></div>\");\n",
       "    if (!fig.cell_info) {\n",
       "        console.error(\"Failed to find cell for figure\", id, fig);\n",
       "        return;\n",
       "    }\n",
       "\n",
       "    var output_index = fig.cell_info[2]\n",
       "    var cell = fig.cell_info[0];\n",
       "\n",
       "};\n",
       "\n",
       "mpl.figure.prototype.handle_close = function(fig, msg) {\n",
       "    var width = fig.canvas.width/mpl.ratio\n",
       "    fig.root.unbind('remove')\n",
       "\n",
       "    // Update the output cell to use the data from the current canvas.\n",
       "    fig.push_to_output();\n",
       "    var dataURL = fig.canvas.toDataURL();\n",
       "    // Re-enable the keyboard manager in IPython - without this line, in FF,\n",
       "    // the notebook keyboard shortcuts fail.\n",
       "    IPython.keyboard_manager.enable()\n",
       "    $(fig.parent_element).html('<img src=\"' + dataURL + '\" width=\"' + width + '\">');\n",
       "    fig.close_ws(fig, msg);\n",
       "}\n",
       "\n",
       "mpl.figure.prototype.close_ws = function(fig, msg){\n",
       "    fig.send_message('closing', msg);\n",
       "    // fig.ws.close()\n",
       "}\n",
       "\n",
       "mpl.figure.prototype.push_to_output = function(remove_interactive) {\n",
       "    // Turn the data on the canvas into data in the output cell.\n",
       "    var width = this.canvas.width/mpl.ratio\n",
       "    var dataURL = this.canvas.toDataURL();\n",
       "    this.cell_info[1]['text/html'] = '<img src=\"' + dataURL + '\" width=\"' + width + '\">';\n",
       "}\n",
       "\n",
       "mpl.figure.prototype.updated_canvas_event = function() {\n",
       "    // Tell IPython that the notebook contents must change.\n",
       "    IPython.notebook.set_dirty(true);\n",
       "    this.send_message(\"ack\", {});\n",
       "    var fig = this;\n",
       "    // Wait a second, then push the new image to the DOM so\n",
       "    // that it is saved nicely (might be nice to debounce this).\n",
       "    setTimeout(function () { fig.push_to_output() }, 1000);\n",
       "}\n",
       "\n",
       "mpl.figure.prototype._init_toolbar = function() {\n",
       "    var fig = this;\n",
       "\n",
       "    var nav_element = $('<div/>')\n",
       "    nav_element.attr('style', 'width: 100%');\n",
       "    this.root.append(nav_element);\n",
       "\n",
       "    // Define a callback function for later on.\n",
       "    function toolbar_event(event) {\n",
       "        return fig.toolbar_button_onclick(event['data']);\n",
       "    }\n",
       "    function toolbar_mouse_event(event) {\n",
       "        return fig.toolbar_button_onmouseover(event['data']);\n",
       "    }\n",
       "\n",
       "    for(var toolbar_ind in mpl.toolbar_items){\n",
       "        var name = mpl.toolbar_items[toolbar_ind][0];\n",
       "        var tooltip = mpl.toolbar_items[toolbar_ind][1];\n",
       "        var image = mpl.toolbar_items[toolbar_ind][2];\n",
       "        var method_name = mpl.toolbar_items[toolbar_ind][3];\n",
       "\n",
       "        if (!name) { continue; };\n",
       "\n",
       "        var button = $('<button class=\"btn btn-default\" href=\"#\" title=\"' + name + '\"><i class=\"fa ' + image + ' fa-lg\"></i></button>');\n",
       "        button.click(method_name, toolbar_event);\n",
       "        button.mouseover(tooltip, toolbar_mouse_event);\n",
       "        nav_element.append(button);\n",
       "    }\n",
       "\n",
       "    // Add the status bar.\n",
       "    var status_bar = $('<span class=\"mpl-message\" style=\"text-align:right; float: right;\"/>');\n",
       "    nav_element.append(status_bar);\n",
       "    this.message = status_bar[0];\n",
       "\n",
       "    // Add the close button to the window.\n",
       "    var buttongrp = $('<div class=\"btn-group inline pull-right\"></div>');\n",
       "    var button = $('<button class=\"btn btn-mini btn-primary\" href=\"#\" title=\"Stop Interaction\"><i class=\"fa fa-power-off icon-remove icon-large\"></i></button>');\n",
       "    button.click(function (evt) { fig.handle_close(fig, {}); } );\n",
       "    button.mouseover('Stop Interaction', toolbar_mouse_event);\n",
       "    buttongrp.append(button);\n",
       "    var titlebar = this.root.find($('.ui-dialog-titlebar'));\n",
       "    titlebar.prepend(buttongrp);\n",
       "}\n",
       "\n",
       "mpl.figure.prototype._root_extra_style = function(el){\n",
       "    var fig = this\n",
       "    el.on(\"remove\", function(){\n",
       "\tfig.close_ws(fig, {});\n",
       "    });\n",
       "}\n",
       "\n",
       "mpl.figure.prototype._canvas_extra_style = function(el){\n",
       "    // this is important to make the div 'focusable\n",
       "    el.attr('tabindex', 0)\n",
       "    // reach out to IPython and tell the keyboard manager to turn it's self\n",
       "    // off when our div gets focus\n",
       "\n",
       "    // location in version 3\n",
       "    if (IPython.notebook.keyboard_manager) {\n",
       "        IPython.notebook.keyboard_manager.register_events(el);\n",
       "    }\n",
       "    else {\n",
       "        // location in version 2\n",
       "        IPython.keyboard_manager.register_events(el);\n",
       "    }\n",
       "\n",
       "}\n",
       "\n",
       "mpl.figure.prototype._key_event_extra = function(event, name) {\n",
       "    var manager = IPython.notebook.keyboard_manager;\n",
       "    if (!manager)\n",
       "        manager = IPython.keyboard_manager;\n",
       "\n",
       "    // Check for shift+enter\n",
       "    if (event.shiftKey && event.which == 13) {\n",
       "        this.canvas_div.blur();\n",
       "        // select the cell after this one\n",
       "        var index = IPython.notebook.find_cell_index(this.cell_info[0]);\n",
       "        IPython.notebook.select(index + 1);\n",
       "    }\n",
       "}\n",
       "\n",
       "mpl.figure.prototype.handle_save = function(fig, msg) {\n",
       "    fig.ondownload(fig, null);\n",
       "}\n",
       "\n",
       "\n",
       "mpl.find_output_cell = function(html_output) {\n",
       "    // Return the cell and output element which can be found *uniquely* in the notebook.\n",
       "    // Note - this is a bit hacky, but it is done because the \"notebook_saving.Notebook\"\n",
       "    // IPython event is triggered only after the cells have been serialised, which for\n",
       "    // our purposes (turning an active figure into a static one), is too late.\n",
       "    var cells = IPython.notebook.get_cells();\n",
       "    var ncells = cells.length;\n",
       "    for (var i=0; i<ncells; i++) {\n",
       "        var cell = cells[i];\n",
       "        if (cell.cell_type === 'code'){\n",
       "            for (var j=0; j<cell.output_area.outputs.length; j++) {\n",
       "                var data = cell.output_area.outputs[j];\n",
       "                if (data.data) {\n",
       "                    // IPython >= 3 moved mimebundle to data attribute of output\n",
       "                    data = data.data;\n",
       "                }\n",
       "                if (data['text/html'] == html_output) {\n",
       "                    return [cell, data, j];\n",
       "                }\n",
       "            }\n",
       "        }\n",
       "    }\n",
       "}\n",
       "\n",
       "// Register the function which deals with the matplotlib target/channel.\n",
       "// The kernel may be null if the page has been refreshed.\n",
       "if (IPython.notebook.kernel != null) {\n",
       "    IPython.notebook.kernel.comm_manager.register_target('matplotlib', mpl.mpl_figure_comm);\n",
       "}\n"
      ],
      "text/plain": [
       "<IPython.core.display.Javascript object>"
      ]
     },
     "metadata": {},
     "output_type": "display_data"
    },
    {
     "data": {
      "text/html": [
       "<img src=\"data:image/png;base64,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\" width=\"640\">"
      ],
      "text/plain": [
       "<IPython.core.display.HTML object>"
      ]
     },
     "metadata": {},
     "output_type": "display_data"
    }
   ],
   "source": [
    "stream=Data.fromfile('bytestream',stream_dt,'teslib','measurement_subsystem_TB',tool='vivado')\n",
    "minmax=Data.fromfile('minmax',minmax_dt,'teslib','measurement_subsystem_TB',tool='vivado')\n",
    "bs=PacketStream(stream)\n",
    "es=bs.eventstream\n",
    "%matplotlib notebook\n",
    "for e in es:\n",
    "    if e[1]==Event.peak or e[1]==Event.pulse:\n",
    "        plot_event(e,False)"
   ]
  },
  {
   "cell_type": "code",
   "execution_count": 9,
   "metadata": {
    "collapsed": false
   },
   "outputs": [],
   "source": [
    "ps=PacketStream(stream)"
   ]
  },
  {
   "cell_type": "code",
   "execution_count": 6,
   "metadata": {
    "collapsed": false,
    "run_control": {
     "frozen": false,
     "read_only": false
    },
    "scrolled": true
   },
   "outputs": [
    {
     "data": {
      "text/plain": [
       "[Distribution: channel:0 value:slope_signal, trigger:clock, qualifier:all,\n",
       " Distribution: channel:0 value:slope_signal, trigger:clock, qualifier:all,\n",
       " Distribution: channel:0 value:slope_signal, trigger:clock, qualifier:all,\n",
       " Distribution: channel:0 value:slope_signal, trigger:clock, qualifier:all,\n",
       " Distribution: channel:0 value:slope_signal, trigger:clock, qualifier:all,\n",
       " Distribution: channel:0 value:slope_signal, trigger:clock, qualifier:all,\n",
       " Distribution: channel:0 value:slope_signal, trigger:clock, qualifier:all,\n",
       " Distribution: channel:0 value:slope_signal, trigger:clock, qualifier:all,\n",
       " Distribution: channel:0 value:slope_signal, trigger:clock, qualifier:all,\n",
       " Distribution: channel:0 value:slope_signal, trigger:clock, qualifier:all,\n",
       " Distribution: channel:0 value:slope_signal, trigger:clock, qualifier:all]"
      ]
     },
     "execution_count": 6,
     "metadata": {},
     "output_type": "execute_result"
    }
   ],
   "source": [
    "traces=Data.fromfile('traces',trace_dt,'teslib','measurement_subsystem_TB',tool='vivado')\n",
    "stream=Data.fromfile('bytestream',stream_dt,'teslib','measurement_subsystem_TB',tool='vivado')\n",
    "bs=PacketStream(stream)\n",
    "dists=bs.distributions\n",
    "#bs.packets\n",
    "dists"
   ]
  },
  {
   "cell_type": "code",
   "execution_count": 9,
   "metadata": {
    "collapsed": false
   },
   "outputs": [
    {
     "data": {
      "text/plain": [
       "95"
      ]
     },
     "execution_count": 9,
     "metadata": {},
     "output_type": "execute_result"
    }
   ],
   "source": [
    "d=dists[0]\n",
    "d.counts[-1]"
   ]
  },
  {
   "cell_type": "code",
   "execution_count": 10,
   "metadata": {
    "collapsed": false
   },
   "outputs": [
    {
     "data": {
      "text/plain": [
       "131072"
      ]
     },
     "execution_count": 10,
     "metadata": {},
     "output_type": "execute_result"
    }
   ],
   "source": [
    "d.total+d.underflow+d.overflow"
   ]
  },
  {
   "cell_type": "code",
   "execution_count": 11,
   "metadata": {
    "collapsed": false
   },
   "outputs": [
    {
     "data": {
      "application/javascript": [
       "/* Put everything inside the global mpl namespace */\n",
       "window.mpl = {};\n",
       "\n",
       "\n",
       "mpl.get_websocket_type = function() {\n",
       "    if (typeof(WebSocket) !== 'undefined') {\n",
       "        return WebSocket;\n",
       "    } else if (typeof(MozWebSocket) !== 'undefined') {\n",
       "        return MozWebSocket;\n",
       "    } else {\n",
       "        alert('Your browser does not have WebSocket support.' +\n",
       "              'Please try Chrome, Safari or Firefox ≥ 6. ' +\n",
       "              'Firefox 4 and 5 are also supported but you ' +\n",
       "              'have to enable WebSockets in about:config.');\n",
       "    };\n",
       "}\n",
       "\n",
       "mpl.figure = function(figure_id, websocket, ondownload, parent_element) {\n",
       "    this.id = figure_id;\n",
       "\n",
       "    this.ws = websocket;\n",
       "\n",
       "    this.supports_binary = (this.ws.binaryType != undefined);\n",
       "\n",
       "    if (!this.supports_binary) {\n",
       "        var warnings = document.getElementById(\"mpl-warnings\");\n",
       "        if (warnings) {\n",
       "            warnings.style.display = 'block';\n",
       "            warnings.textContent = (\n",
       "                \"This browser does not support binary websocket messages. \" +\n",
       "                    \"Performance may be slow.\");\n",
       "        }\n",
       "    }\n",
       "\n",
       "    this.imageObj = new Image();\n",
       "\n",
       "    this.context = undefined;\n",
       "    this.message = undefined;\n",
       "    this.canvas = undefined;\n",
       "    this.rubberband_canvas = undefined;\n",
       "    this.rubberband_context = undefined;\n",
       "    this.format_dropdown = undefined;\n",
       "\n",
       "    this.image_mode = 'full';\n",
       "\n",
       "    this.root = $('<div/>');\n",
       "    this._root_extra_style(this.root)\n",
       "    this.root.attr('style', 'display: inline-block');\n",
       "\n",
       "    $(parent_element).append(this.root);\n",
       "\n",
       "    this._init_header(this);\n",
       "    this._init_canvas(this);\n",
       "    this._init_toolbar(this);\n",
       "\n",
       "    var fig = this;\n",
       "\n",
       "    this.waiting = false;\n",
       "\n",
       "    this.ws.onopen =  function () {\n",
       "            fig.send_message(\"supports_binary\", {value: fig.supports_binary});\n",
       "            fig.send_message(\"send_image_mode\", {});\n",
       "            if (mpl.ratio != 1) {\n",
       "                fig.send_message(\"set_dpi_ratio\", {'dpi_ratio': mpl.ratio});\n",
       "            }\n",
       "            fig.send_message(\"refresh\", {});\n",
       "        }\n",
       "\n",
       "    this.imageObj.onload = function() {\n",
       "            if (fig.image_mode == 'full') {\n",
       "                // Full images could contain transparency (where diff images\n",
       "                // almost always do), so we need to clear the canvas so that\n",
       "                // there is no ghosting.\n",
       "                fig.context.clearRect(0, 0, fig.canvas.width, fig.canvas.height);\n",
       "            }\n",
       "            fig.context.drawImage(fig.imageObj, 0, 0);\n",
       "        };\n",
       "\n",
       "    this.imageObj.onunload = function() {\n",
       "        this.ws.close();\n",
       "    }\n",
       "\n",
       "    this.ws.onmessage = this._make_on_message_function(this);\n",
       "\n",
       "    this.ondownload = ondownload;\n",
       "}\n",
       "\n",
       "mpl.figure.prototype._init_header = function() {\n",
       "    var titlebar = $(\n",
       "        '<div class=\"ui-dialog-titlebar ui-widget-header ui-corner-all ' +\n",
       "        'ui-helper-clearfix\"/>');\n",
       "    var titletext = $(\n",
       "        '<div class=\"ui-dialog-title\" style=\"width: 100%; ' +\n",
       "        'text-align: center; padding: 3px;\"/>');\n",
       "    titlebar.append(titletext)\n",
       "    this.root.append(titlebar);\n",
       "    this.header = titletext[0];\n",
       "}\n",
       "\n",
       "\n",
       "\n",
       "mpl.figure.prototype._canvas_extra_style = function(canvas_div) {\n",
       "\n",
       "}\n",
       "\n",
       "\n",
       "mpl.figure.prototype._root_extra_style = function(canvas_div) {\n",
       "\n",
       "}\n",
       "\n",
       "mpl.figure.prototype._init_canvas = function() {\n",
       "    var fig = this;\n",
       "\n",
       "    var canvas_div = $('<div/>');\n",
       "\n",
       "    canvas_div.attr('style', 'position: relative; clear: both; outline: 0');\n",
       "\n",
       "    function canvas_keyboard_event(event) {\n",
       "        return fig.key_event(event, event['data']);\n",
       "    }\n",
       "\n",
       "    canvas_div.keydown('key_press', canvas_keyboard_event);\n",
       "    canvas_div.keyup('key_release', canvas_keyboard_event);\n",
       "    this.canvas_div = canvas_div\n",
       "    this._canvas_extra_style(canvas_div)\n",
       "    this.root.append(canvas_div);\n",
       "\n",
       "    var canvas = $('<canvas/>');\n",
       "    canvas.addClass('mpl-canvas');\n",
       "    canvas.attr('style', \"left: 0; top: 0; z-index: 0; outline: 0\")\n",
       "\n",
       "    this.canvas = canvas[0];\n",
       "    this.context = canvas[0].getContext(\"2d\");\n",
       "\n",
       "    var backingStore = this.context.backingStorePixelRatio ||\n",
       "\tthis.context.webkitBackingStorePixelRatio ||\n",
       "\tthis.context.mozBackingStorePixelRatio ||\n",
       "\tthis.context.msBackingStorePixelRatio ||\n",
       "\tthis.context.oBackingStorePixelRatio ||\n",
       "\tthis.context.backingStorePixelRatio || 1;\n",
       "\n",
       "    mpl.ratio = (window.devicePixelRatio || 1) / backingStore;\n",
       "\n",
       "    var rubberband = $('<canvas/>');\n",
       "    rubberband.attr('style', \"position: absolute; left: 0; top: 0; z-index: 1;\")\n",
       "\n",
       "    var pass_mouse_events = true;\n",
       "\n",
       "    canvas_div.resizable({\n",
       "        start: function(event, ui) {\n",
       "            pass_mouse_events = false;\n",
       "        },\n",
       "        resize: function(event, ui) {\n",
       "            fig.request_resize(ui.size.width, ui.size.height);\n",
       "        },\n",
       "        stop: function(event, ui) {\n",
       "            pass_mouse_events = true;\n",
       "            fig.request_resize(ui.size.width, ui.size.height);\n",
       "        },\n",
       "    });\n",
       "\n",
       "    function mouse_event_fn(event) {\n",
       "        if (pass_mouse_events)\n",
       "            return fig.mouse_event(event, event['data']);\n",
       "    }\n",
       "\n",
       "    rubberband.mousedown('button_press', mouse_event_fn);\n",
       "    rubberband.mouseup('button_release', mouse_event_fn);\n",
       "    // Throttle sequential mouse events to 1 every 20ms.\n",
       "    rubberband.mousemove('motion_notify', mouse_event_fn);\n",
       "\n",
       "    rubberband.mouseenter('figure_enter', mouse_event_fn);\n",
       "    rubberband.mouseleave('figure_leave', mouse_event_fn);\n",
       "\n",
       "    canvas_div.on(\"wheel\", function (event) {\n",
       "        event = event.originalEvent;\n",
       "        event['data'] = 'scroll'\n",
       "        if (event.deltaY < 0) {\n",
       "            event.step = 1;\n",
       "        } else {\n",
       "            event.step = -1;\n",
       "        }\n",
       "        mouse_event_fn(event);\n",
       "    });\n",
       "\n",
       "    canvas_div.append(canvas);\n",
       "    canvas_div.append(rubberband);\n",
       "\n",
       "    this.rubberband = rubberband;\n",
       "    this.rubberband_canvas = rubberband[0];\n",
       "    this.rubberband_context = rubberband[0].getContext(\"2d\");\n",
       "    this.rubberband_context.strokeStyle = \"#000000\";\n",
       "\n",
       "    this._resize_canvas = function(width, height) {\n",
       "        // Keep the size of the canvas, canvas container, and rubber band\n",
       "        // canvas in synch.\n",
       "        canvas_div.css('width', width)\n",
       "        canvas_div.css('height', height)\n",
       "\n",
       "        canvas.attr('width', width * mpl.ratio);\n",
       "        canvas.attr('height', height * mpl.ratio);\n",
       "        canvas.attr('style', 'width: ' + width + 'px; height: ' + height + 'px;');\n",
       "\n",
       "        rubberband.attr('width', width);\n",
       "        rubberband.attr('height', height);\n",
       "    }\n",
       "\n",
       "    // Set the figure to an initial 600x600px, this will subsequently be updated\n",
       "    // upon first draw.\n",
       "    this._resize_canvas(600, 600);\n",
       "\n",
       "    // Disable right mouse context menu.\n",
       "    $(this.rubberband_canvas).bind(\"contextmenu\",function(e){\n",
       "        return false;\n",
       "    });\n",
       "\n",
       "    function set_focus () {\n",
       "        canvas.focus();\n",
       "        canvas_div.focus();\n",
       "    }\n",
       "\n",
       "    window.setTimeout(set_focus, 100);\n",
       "}\n",
       "\n",
       "mpl.figure.prototype._init_toolbar = function() {\n",
       "    var fig = this;\n",
       "\n",
       "    var nav_element = $('<div/>')\n",
       "    nav_element.attr('style', 'width: 100%');\n",
       "    this.root.append(nav_element);\n",
       "\n",
       "    // Define a callback function for later on.\n",
       "    function toolbar_event(event) {\n",
       "        return fig.toolbar_button_onclick(event['data']);\n",
       "    }\n",
       "    function toolbar_mouse_event(event) {\n",
       "        return fig.toolbar_button_onmouseover(event['data']);\n",
       "    }\n",
       "\n",
       "    for(var toolbar_ind in mpl.toolbar_items) {\n",
       "        var name = mpl.toolbar_items[toolbar_ind][0];\n",
       "        var tooltip = mpl.toolbar_items[toolbar_ind][1];\n",
       "        var image = mpl.toolbar_items[toolbar_ind][2];\n",
       "        var method_name = mpl.toolbar_items[toolbar_ind][3];\n",
       "\n",
       "        if (!name) {\n",
       "            // put a spacer in here.\n",
       "            continue;\n",
       "        }\n",
       "        var button = $('<button/>');\n",
       "        button.addClass('ui-button ui-widget ui-state-default ui-corner-all ' +\n",
       "                        'ui-button-icon-only');\n",
       "        button.attr('role', 'button');\n",
       "        button.attr('aria-disabled', 'false');\n",
       "        button.click(method_name, toolbar_event);\n",
       "        button.mouseover(tooltip, toolbar_mouse_event);\n",
       "\n",
       "        var icon_img = $('<span/>');\n",
       "        icon_img.addClass('ui-button-icon-primary ui-icon');\n",
       "        icon_img.addClass(image);\n",
       "        icon_img.addClass('ui-corner-all');\n",
       "\n",
       "        var tooltip_span = $('<span/>');\n",
       "        tooltip_span.addClass('ui-button-text');\n",
       "        tooltip_span.html(tooltip);\n",
       "\n",
       "        button.append(icon_img);\n",
       "        button.append(tooltip_span);\n",
       "\n",
       "        nav_element.append(button);\n",
       "    }\n",
       "\n",
       "    var fmt_picker_span = $('<span/>');\n",
       "\n",
       "    var fmt_picker = $('<select/>');\n",
       "    fmt_picker.addClass('mpl-toolbar-option ui-widget ui-widget-content');\n",
       "    fmt_picker_span.append(fmt_picker);\n",
       "    nav_element.append(fmt_picker_span);\n",
       "    this.format_dropdown = fmt_picker[0];\n",
       "\n",
       "    for (var ind in mpl.extensions) {\n",
       "        var fmt = mpl.extensions[ind];\n",
       "        var option = $(\n",
       "            '<option/>', {selected: fmt === mpl.default_extension}).html(fmt);\n",
       "        fmt_picker.append(option)\n",
       "    }\n",
       "\n",
       "    // Add hover states to the ui-buttons\n",
       "    $( \".ui-button\" ).hover(\n",
       "        function() { $(this).addClass(\"ui-state-hover\");},\n",
       "        function() { $(this).removeClass(\"ui-state-hover\");}\n",
       "    );\n",
       "\n",
       "    var status_bar = $('<span class=\"mpl-message\"/>');\n",
       "    nav_element.append(status_bar);\n",
       "    this.message = status_bar[0];\n",
       "}\n",
       "\n",
       "mpl.figure.prototype.request_resize = function(x_pixels, y_pixels) {\n",
       "    // Request matplotlib to resize the figure. Matplotlib will then trigger a resize in the client,\n",
       "    // which will in turn request a refresh of the image.\n",
       "    this.send_message('resize', {'width': x_pixels, 'height': y_pixels});\n",
       "}\n",
       "\n",
       "mpl.figure.prototype.send_message = function(type, properties) {\n",
       "    properties['type'] = type;\n",
       "    properties['figure_id'] = this.id;\n",
       "    this.ws.send(JSON.stringify(properties));\n",
       "}\n",
       "\n",
       "mpl.figure.prototype.send_draw_message = function() {\n",
       "    if (!this.waiting) {\n",
       "        this.waiting = true;\n",
       "        this.ws.send(JSON.stringify({type: \"draw\", figure_id: this.id}));\n",
       "    }\n",
       "}\n",
       "\n",
       "\n",
       "mpl.figure.prototype.handle_save = function(fig, msg) {\n",
       "    var format_dropdown = fig.format_dropdown;\n",
       "    var format = format_dropdown.options[format_dropdown.selectedIndex].value;\n",
       "    fig.ondownload(fig, format);\n",
       "}\n",
       "\n",
       "\n",
       "mpl.figure.prototype.handle_resize = function(fig, msg) {\n",
       "    var size = msg['size'];\n",
       "    if (size[0] != fig.canvas.width || size[1] != fig.canvas.height) {\n",
       "        fig._resize_canvas(size[0], size[1]);\n",
       "        fig.send_message(\"refresh\", {});\n",
       "    };\n",
       "}\n",
       "\n",
       "mpl.figure.prototype.handle_rubberband = function(fig, msg) {\n",
       "    var x0 = msg['x0'] / mpl.ratio;\n",
       "    var y0 = (fig.canvas.height - msg['y0']) / mpl.ratio;\n",
       "    var x1 = msg['x1'] / mpl.ratio;\n",
       "    var y1 = (fig.canvas.height - msg['y1']) / mpl.ratio;\n",
       "    x0 = Math.floor(x0) + 0.5;\n",
       "    y0 = Math.floor(y0) + 0.5;\n",
       "    x1 = Math.floor(x1) + 0.5;\n",
       "    y1 = Math.floor(y1) + 0.5;\n",
       "    var min_x = Math.min(x0, x1);\n",
       "    var min_y = Math.min(y0, y1);\n",
       "    var width = Math.abs(x1 - x0);\n",
       "    var height = Math.abs(y1 - y0);\n",
       "\n",
       "    fig.rubberband_context.clearRect(\n",
       "        0, 0, fig.canvas.width, fig.canvas.height);\n",
       "\n",
       "    fig.rubberband_context.strokeRect(min_x, min_y, width, height);\n",
       "}\n",
       "\n",
       "mpl.figure.prototype.handle_figure_label = function(fig, msg) {\n",
       "    // Updates the figure title.\n",
       "    fig.header.textContent = msg['label'];\n",
       "}\n",
       "\n",
       "mpl.figure.prototype.handle_cursor = function(fig, msg) {\n",
       "    var cursor = msg['cursor'];\n",
       "    switch(cursor)\n",
       "    {\n",
       "    case 0:\n",
       "        cursor = 'pointer';\n",
       "        break;\n",
       "    case 1:\n",
       "        cursor = 'default';\n",
       "        break;\n",
       "    case 2:\n",
       "        cursor = 'crosshair';\n",
       "        break;\n",
       "    case 3:\n",
       "        cursor = 'move';\n",
       "        break;\n",
       "    }\n",
       "    fig.rubberband_canvas.style.cursor = cursor;\n",
       "}\n",
       "\n",
       "mpl.figure.prototype.handle_message = function(fig, msg) {\n",
       "    fig.message.textContent = msg['message'];\n",
       "}\n",
       "\n",
       "mpl.figure.prototype.handle_draw = function(fig, msg) {\n",
       "    // Request the server to send over a new figure.\n",
       "    fig.send_draw_message();\n",
       "}\n",
       "\n",
       "mpl.figure.prototype.handle_image_mode = function(fig, msg) {\n",
       "    fig.image_mode = msg['mode'];\n",
       "}\n",
       "\n",
       "mpl.figure.prototype.updated_canvas_event = function() {\n",
       "    // Called whenever the canvas gets updated.\n",
       "    this.send_message(\"ack\", {});\n",
       "}\n",
       "\n",
       "// A function to construct a web socket function for onmessage handling.\n",
       "// Called in the figure constructor.\n",
       "mpl.figure.prototype._make_on_message_function = function(fig) {\n",
       "    return function socket_on_message(evt) {\n",
       "        if (evt.data instanceof Blob) {\n",
       "            /* FIXME: We get \"Resource interpreted as Image but\n",
       "             * transferred with MIME type text/plain:\" errors on\n",
       "             * Chrome.  But how to set the MIME type?  It doesn't seem\n",
       "             * to be part of the websocket stream */\n",
       "            evt.data.type = \"image/png\";\n",
       "\n",
       "            /* Free the memory for the previous frames */\n",
       "            if (fig.imageObj.src) {\n",
       "                (window.URL || window.webkitURL).revokeObjectURL(\n",
       "                    fig.imageObj.src);\n",
       "            }\n",
       "\n",
       "            fig.imageObj.src = (window.URL || window.webkitURL).createObjectURL(\n",
       "                evt.data);\n",
       "            fig.updated_canvas_event();\n",
       "            fig.waiting = false;\n",
       "            return;\n",
       "        }\n",
       "        else if (typeof evt.data === 'string' && evt.data.slice(0, 21) == \"data:image/png;base64\") {\n",
       "            fig.imageObj.src = evt.data;\n",
       "            fig.updated_canvas_event();\n",
       "            fig.waiting = false;\n",
       "            return;\n",
       "        }\n",
       "\n",
       "        var msg = JSON.parse(evt.data);\n",
       "        var msg_type = msg['type'];\n",
       "\n",
       "        // Call the  \"handle_{type}\" callback, which takes\n",
       "        // the figure and JSON message as its only arguments.\n",
       "        try {\n",
       "            var callback = fig[\"handle_\" + msg_type];\n",
       "        } catch (e) {\n",
       "            console.log(\"No handler for the '\" + msg_type + \"' message type: \", msg);\n",
       "            return;\n",
       "        }\n",
       "\n",
       "        if (callback) {\n",
       "            try {\n",
       "                // console.log(\"Handling '\" + msg_type + \"' message: \", msg);\n",
       "                callback(fig, msg);\n",
       "            } catch (e) {\n",
       "                console.log(\"Exception inside the 'handler_\" + msg_type + \"' callback:\", e, e.stack, msg);\n",
       "            }\n",
       "        }\n",
       "    };\n",
       "}\n",
       "\n",
       "// from http://stackoverflow.com/questions/1114465/getting-mouse-location-in-canvas\n",
       "mpl.findpos = function(e) {\n",
       "    //this section is from http://www.quirksmode.org/js/events_properties.html\n",
       "    var targ;\n",
       "    if (!e)\n",
       "        e = window.event;\n",
       "    if (e.target)\n",
       "        targ = e.target;\n",
       "    else if (e.srcElement)\n",
       "        targ = e.srcElement;\n",
       "    if (targ.nodeType == 3) // defeat Safari bug\n",
       "        targ = targ.parentNode;\n",
       "\n",
       "    // jQuery normalizes the pageX and pageY\n",
       "    // pageX,Y are the mouse positions relative to the document\n",
       "    // offset() returns the position of the element relative to the document\n",
       "    var x = e.pageX - $(targ).offset().left;\n",
       "    var y = e.pageY - $(targ).offset().top;\n",
       "\n",
       "    return {\"x\": x, \"y\": y};\n",
       "};\n",
       "\n",
       "/*\n",
       " * return a copy of an object with only non-object keys\n",
       " * we need this to avoid circular references\n",
       " * http://stackoverflow.com/a/24161582/3208463\n",
       " */\n",
       "function simpleKeys (original) {\n",
       "  return Object.keys(original).reduce(function (obj, key) {\n",
       "    if (typeof original[key] !== 'object')\n",
       "        obj[key] = original[key]\n",
       "    return obj;\n",
       "  }, {});\n",
       "}\n",
       "\n",
       "mpl.figure.prototype.mouse_event = function(event, name) {\n",
       "    var canvas_pos = mpl.findpos(event)\n",
       "\n",
       "    if (name === 'button_press')\n",
       "    {\n",
       "        this.canvas.focus();\n",
       "        this.canvas_div.focus();\n",
       "    }\n",
       "\n",
       "    var x = canvas_pos.x * mpl.ratio;\n",
       "    var y = canvas_pos.y * mpl.ratio;\n",
       "\n",
       "    this.send_message(name, {x: x, y: y, button: event.button,\n",
       "                             step: event.step,\n",
       "                             guiEvent: simpleKeys(event)});\n",
       "\n",
       "    /* This prevents the web browser from automatically changing to\n",
       "     * the text insertion cursor when the button is pressed.  We want\n",
       "     * to control all of the cursor setting manually through the\n",
       "     * 'cursor' event from matplotlib */\n",
       "    event.preventDefault();\n",
       "    return false;\n",
       "}\n",
       "\n",
       "mpl.figure.prototype._key_event_extra = function(event, name) {\n",
       "    // Handle any extra behaviour associated with a key event\n",
       "}\n",
       "\n",
       "mpl.figure.prototype.key_event = function(event, name) {\n",
       "\n",
       "    // Prevent repeat events\n",
       "    if (name == 'key_press')\n",
       "    {\n",
       "        if (event.which === this._key)\n",
       "            return;\n",
       "        else\n",
       "            this._key = event.which;\n",
       "    }\n",
       "    if (name == 'key_release')\n",
       "        this._key = null;\n",
       "\n",
       "    var value = '';\n",
       "    if (event.ctrlKey && event.which != 17)\n",
       "        value += \"ctrl+\";\n",
       "    if (event.altKey && event.which != 18)\n",
       "        value += \"alt+\";\n",
       "    if (event.shiftKey && event.which != 16)\n",
       "        value += \"shift+\";\n",
       "\n",
       "    value += 'k';\n",
       "    value += event.which.toString();\n",
       "\n",
       "    this._key_event_extra(event, name);\n",
       "\n",
       "    this.send_message(name, {key: value,\n",
       "                             guiEvent: simpleKeys(event)});\n",
       "    return false;\n",
       "}\n",
       "\n",
       "mpl.figure.prototype.toolbar_button_onclick = function(name) {\n",
       "    if (name == 'download') {\n",
       "        this.handle_save(this, null);\n",
       "    } else {\n",
       "        this.send_message(\"toolbar_button\", {name: name});\n",
       "    }\n",
       "};\n",
       "\n",
       "mpl.figure.prototype.toolbar_button_onmouseover = function(tooltip) {\n",
       "    this.message.textContent = tooltip;\n",
       "};\n",
       "mpl.toolbar_items = [[\"Home\", \"Reset original view\", \"fa fa-home icon-home\", \"home\"], [\"Back\", \"Back to  previous view\", \"fa fa-arrow-left icon-arrow-left\", \"back\"], [\"Forward\", \"Forward to next view\", \"fa fa-arrow-right icon-arrow-right\", \"forward\"], [\"\", \"\", \"\", \"\"], [\"Pan\", \"Pan axes with left mouse, zoom with right\", \"fa fa-arrows icon-move\", \"pan\"], [\"Zoom\", \"Zoom to rectangle\", \"fa fa-square-o icon-check-empty\", \"zoom\"], [\"\", \"\", \"\", \"\"], [\"Download\", \"Download plot\", \"fa fa-floppy-o icon-save\", \"download\"]];\n",
       "\n",
       "mpl.extensions = [\"eps\", \"jpeg\", \"pdf\", \"png\", \"ps\", \"raw\", \"svg\", \"tif\"];\n",
       "\n",
       "mpl.default_extension = \"png\";var comm_websocket_adapter = function(comm) {\n",
       "    // Create a \"websocket\"-like object which calls the given IPython comm\n",
       "    // object with the appropriate methods. Currently this is a non binary\n",
       "    // socket, so there is still some room for performance tuning.\n",
       "    var ws = {};\n",
       "\n",
       "    ws.close = function() {\n",
       "        comm.close()\n",
       "    };\n",
       "    ws.send = function(m) {\n",
       "        //console.log('sending', m);\n",
       "        comm.send(m);\n",
       "    };\n",
       "    // Register the callback with on_msg.\n",
       "    comm.on_msg(function(msg) {\n",
       "        //console.log('receiving', msg['content']['data'], msg);\n",
       "        // Pass the mpl event to the overriden (by mpl) onmessage function.\n",
       "        ws.onmessage(msg['content']['data'])\n",
       "    });\n",
       "    return ws;\n",
       "}\n",
       "\n",
       "mpl.mpl_figure_comm = function(comm, msg) {\n",
       "    // This is the function which gets called when the mpl process\n",
       "    // starts-up an IPython Comm through the \"matplotlib\" channel.\n",
       "\n",
       "    var id = msg.content.data.id;\n",
       "    // Get hold of the div created by the display call when the Comm\n",
       "    // socket was opened in Python.\n",
       "    var element = $(\"#\" + id);\n",
       "    var ws_proxy = comm_websocket_adapter(comm)\n",
       "\n",
       "    function ondownload(figure, format) {\n",
       "        window.open(figure.imageObj.src);\n",
       "    }\n",
       "\n",
       "    var fig = new mpl.figure(id, ws_proxy,\n",
       "                           ondownload,\n",
       "                           element.get(0));\n",
       "\n",
       "    // Call onopen now - mpl needs it, as it is assuming we've passed it a real\n",
       "    // web socket which is closed, not our websocket->open comm proxy.\n",
       "    ws_proxy.onopen();\n",
       "\n",
       "    fig.parent_element = element.get(0);\n",
       "    fig.cell_info = mpl.find_output_cell(\"<div id='\" + id + \"'></div>\");\n",
       "    if (!fig.cell_info) {\n",
       "        console.error(\"Failed to find cell for figure\", id, fig);\n",
       "        return;\n",
       "    }\n",
       "\n",
       "    var output_index = fig.cell_info[2]\n",
       "    var cell = fig.cell_info[0];\n",
       "\n",
       "};\n",
       "\n",
       "mpl.figure.prototype.handle_close = function(fig, msg) {\n",
       "    var width = fig.canvas.width/mpl.ratio\n",
       "    fig.root.unbind('remove')\n",
       "\n",
       "    // Update the output cell to use the data from the current canvas.\n",
       "    fig.push_to_output();\n",
       "    var dataURL = fig.canvas.toDataURL();\n",
       "    // Re-enable the keyboard manager in IPython - without this line, in FF,\n",
       "    // the notebook keyboard shortcuts fail.\n",
       "    IPython.keyboard_manager.enable()\n",
       "    $(fig.parent_element).html('<img src=\"' + dataURL + '\" width=\"' + width + '\">');\n",
       "    fig.close_ws(fig, msg);\n",
       "}\n",
       "\n",
       "mpl.figure.prototype.close_ws = function(fig, msg){\n",
       "    fig.send_message('closing', msg);\n",
       "    // fig.ws.close()\n",
       "}\n",
       "\n",
       "mpl.figure.prototype.push_to_output = function(remove_interactive) {\n",
       "    // Turn the data on the canvas into data in the output cell.\n",
       "    var width = this.canvas.width/mpl.ratio\n",
       "    var dataURL = this.canvas.toDataURL();\n",
       "    this.cell_info[1]['text/html'] = '<img src=\"' + dataURL + '\" width=\"' + width + '\">';\n",
       "}\n",
       "\n",
       "mpl.figure.prototype.updated_canvas_event = function() {\n",
       "    // Tell IPython that the notebook contents must change.\n",
       "    IPython.notebook.set_dirty(true);\n",
       "    this.send_message(\"ack\", {});\n",
       "    var fig = this;\n",
       "    // Wait a second, then push the new image to the DOM so\n",
       "    // that it is saved nicely (might be nice to debounce this).\n",
       "    setTimeout(function () { fig.push_to_output() }, 1000);\n",
       "}\n",
       "\n",
       "mpl.figure.prototype._init_toolbar = function() {\n",
       "    var fig = this;\n",
       "\n",
       "    var nav_element = $('<div/>')\n",
       "    nav_element.attr('style', 'width: 100%');\n",
       "    this.root.append(nav_element);\n",
       "\n",
       "    // Define a callback function for later on.\n",
       "    function toolbar_event(event) {\n",
       "        return fig.toolbar_button_onclick(event['data']);\n",
       "    }\n",
       "    function toolbar_mouse_event(event) {\n",
       "        return fig.toolbar_button_onmouseover(event['data']);\n",
       "    }\n",
       "\n",
       "    for(var toolbar_ind in mpl.toolbar_items){\n",
       "        var name = mpl.toolbar_items[toolbar_ind][0];\n",
       "        var tooltip = mpl.toolbar_items[toolbar_ind][1];\n",
       "        var image = mpl.toolbar_items[toolbar_ind][2];\n",
       "        var method_name = mpl.toolbar_items[toolbar_ind][3];\n",
       "\n",
       "        if (!name) { continue; };\n",
       "\n",
       "        var button = $('<button class=\"btn btn-default\" href=\"#\" title=\"' + name + '\"><i class=\"fa ' + image + ' fa-lg\"></i></button>');\n",
       "        button.click(method_name, toolbar_event);\n",
       "        button.mouseover(tooltip, toolbar_mouse_event);\n",
       "        nav_element.append(button);\n",
       "    }\n",
       "\n",
       "    // Add the status bar.\n",
       "    var status_bar = $('<span class=\"mpl-message\" style=\"text-align:right; float: right;\"/>');\n",
       "    nav_element.append(status_bar);\n",
       "    this.message = status_bar[0];\n",
       "\n",
       "    // Add the close button to the window.\n",
       "    var buttongrp = $('<div class=\"btn-group inline pull-right\"></div>');\n",
       "    var button = $('<button class=\"btn btn-mini btn-primary\" href=\"#\" title=\"Stop Interaction\"><i class=\"fa fa-power-off icon-remove icon-large\"></i></button>');\n",
       "    button.click(function (evt) { fig.handle_close(fig, {}); } );\n",
       "    button.mouseover('Stop Interaction', toolbar_mouse_event);\n",
       "    buttongrp.append(button);\n",
       "    var titlebar = this.root.find($('.ui-dialog-titlebar'));\n",
       "    titlebar.prepend(buttongrp);\n",
       "}\n",
       "\n",
       "mpl.figure.prototype._root_extra_style = function(el){\n",
       "    var fig = this\n",
       "    el.on(\"remove\", function(){\n",
       "\tfig.close_ws(fig, {});\n",
       "    });\n",
       "}\n",
       "\n",
       "mpl.figure.prototype._canvas_extra_style = function(el){\n",
       "    // this is important to make the div 'focusable\n",
       "    el.attr('tabindex', 0)\n",
       "    // reach out to IPython and tell the keyboard manager to turn it's self\n",
       "    // off when our div gets focus\n",
       "\n",
       "    // location in version 3\n",
       "    if (IPython.notebook.keyboard_manager) {\n",
       "        IPython.notebook.keyboard_manager.register_events(el);\n",
       "    }\n",
       "    else {\n",
       "        // location in version 2\n",
       "        IPython.keyboard_manager.register_events(el);\n",
       "    }\n",
       "\n",
       "}\n",
       "\n",
       "mpl.figure.prototype._key_event_extra = function(event, name) {\n",
       "    var manager = IPython.notebook.keyboard_manager;\n",
       "    if (!manager)\n",
       "        manager = IPython.keyboard_manager;\n",
       "\n",
       "    // Check for shift+enter\n",
       "    if (event.shiftKey && event.which == 13) {\n",
       "        this.canvas_div.blur();\n",
       "        // select the cell after this one\n",
       "        var index = IPython.notebook.find_cell_index(this.cell_info[0]);\n",
       "        IPython.notebook.select(index + 1);\n",
       "    }\n",
       "}\n",
       "\n",
       "mpl.figure.prototype.handle_save = function(fig, msg) {\n",
       "    fig.ondownload(fig, null);\n",
       "}\n",
       "\n",
       "\n",
       "mpl.find_output_cell = function(html_output) {\n",
       "    // Return the cell and output element which can be found *uniquely* in the notebook.\n",
       "    // Note - this is a bit hacky, but it is done because the \"notebook_saving.Notebook\"\n",
       "    // IPython event is triggered only after the cells have been serialised, which for\n",
       "    // our purposes (turning an active figure into a static one), is too late.\n",
       "    var cells = IPython.notebook.get_cells();\n",
       "    var ncells = cells.length;\n",
       "    for (var i=0; i<ncells; i++) {\n",
       "        var cell = cells[i];\n",
       "        if (cell.cell_type === 'code'){\n",
       "            for (var j=0; j<cell.output_area.outputs.length; j++) {\n",
       "                var data = cell.output_area.outputs[j];\n",
       "                if (data.data) {\n",
       "                    // IPython >= 3 moved mimebundle to data attribute of output\n",
       "                    data = data.data;\n",
       "                }\n",
       "                if (data['text/html'] == html_output) {\n",
       "                    return [cell, data, j];\n",
       "                }\n",
       "            }\n",
       "        }\n",
       "    }\n",
       "}\n",
       "\n",
       "// Register the function which deals with the matplotlib target/channel.\n",
       "// The kernel may be null if the page has been refreshed.\n",
       "if (IPython.notebook.kernel != null) {\n",
       "    IPython.notebook.kernel.comm_manager.register_target('matplotlib', mpl.mpl_figure_comm);\n",
       "}\n"
      ],
      "text/plain": [
       "<IPython.core.display.Javascript object>"
      ]
     },
     "metadata": {},
     "output_type": "display_data"
    },
    {
     "data": {
      "text/html": [
       "<img src=\"data:image/png;base64,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\" width=\"640\">"
      ],
      "text/plain": [
       "<IPython.core.display.HTML object>"
      ]
     },
     "metadata": {},
     "output_type": "display_data"
    },
    {
     "data": {
      "text/plain": [
       "[<matplotlib.lines.Line2D at 0xa423c18>]"
      ]
     },
     "execution_count": 11,
     "metadata": {},
     "output_type": "execute_result"
    }
   ],
   "source": [
    "%matplotlib notebook\n",
    "plt.plot(d.bins)"
   ]
  },
  {
   "cell_type": "code",
   "execution_count": null,
   "metadata": {
    "collapsed": false,
    "scrolled": false
   },
   "outputs": [],
   "source": [
    "f=EventFlags(es[2][2]['flags'])\n",
    "f.channel"
   ]
  },
  {
   "cell_type": "code",
   "execution_count": 12,
   "metadata": {
    "collapsed": false,
    "run_control": {
     "frozen": false,
     "read_only": false
    },
    "scrolled": true
   },
   "outputs": [
    {
     "data": {
      "text/plain": [
       "(array([], dtype=int64),)"
      ]
     },
     "execution_count": 12,
     "metadata": {},
     "output_type": "execute_result"
    }
   ],
   "source": [
    "import tes.mca as mca\n",
    "d=bs.distributions[0]\n",
    "eset=np.uint64(1)\n",
    "bset=np.uint64(0)\n",
    "cset=np.uint64(20)\n",
    "\n",
    "stop=d.stop_time+eset+cset\n",
    "start=d.start_time+bset+cset\n",
    "bins=np.zeros((d.last_bin+1,),dtype=np.uint32)\n",
    "\n",
    "if d.value==mca.Value.raw_signal:\n",
    "    tname='raw'\n",
    "elif d.value==mca.Value.filtered_signal:\n",
    "    tname='filtered'\n",
    "elif d.value==mca.Value.slope_signal:\n",
    "    tname='slope'\n",
    "\n",
    "for i in range(start,stop):\n",
    "    s = traces[tname][i]\n",
    "    if s < d.lowest_value:\n",
    "        bins[0] += 1\n",
    "    else:\n",
    "        bin_number = s - d.lowest_value + 1\n",
    "        if bin_number < d.last_bin:\n",
    "            bins[bin_number] += 1\n",
    "        else:\n",
    "            bins[d.last_bin] += 1\n",
    "        \n",
    "bad=(bins-d.counts).nonzero()\n",
    "bad"
   ]
  },
  {
   "cell_type": "code",
   "execution_count": null,
   "metadata": {
    "collapsed": false
   },
   "outputs": [],
   "source": [
    "d.counts[bad][1:10]"
   ]
  },
  {
   "cell_type": "code",
   "execution_count": null,
   "metadata": {
    "collapsed": false
   },
   "outputs": [],
   "source": [
    "bins[bad][1:10]"
   ]
  },
  {
   "cell_type": "code",
   "execution_count": null,
   "metadata": {
    "collapsed": false
   },
   "outputs": [],
   "source": [
    "d.value"
   ]
  },
  {
   "cell_type": "code",
   "execution_count": null,
   "metadata": {
    "collapsed": false,
    "scrolled": false
   },
   "outputs": [],
   "source": [
    "%matplotlib notebook\n",
    "plt.step(np.arange(len(d.bins)),d.bins)\n",
    "# plt.step(np.arange(len(d.counts)),bins)\n",
    "plt.plot(bad,np.zeros_like(bad),'.k')"
   ]
  },
  {
   "cell_type": "code",
   "execution_count": null,
   "metadata": {
    "collapsed": false
   },
   "outputs": [],
   "source": [
    "sum(d.counts)"
   ]
  },
  {
   "cell_type": "code",
   "execution_count": null,
   "metadata": {
    "collapsed": false
   },
   "outputs": [],
   "source": [
    "2**14+2000"
   ]
  },
  {
   "cell_type": "code",
   "execution_count": null,
   "metadata": {
    "collapsed": false,
    "run_control": {
     "frozen": false,
     "read_only": false
    }
   },
   "outputs": [],
   "source": [
    "def plot_event(event_tupple):\n",
    "    pre=200\n",
    "    post=1000\n",
    "    timestamp=event_tupple[0]\n",
    "    event_type=event_tupple[1]\n",
    "    event=event_tupple[2]\n",
    "    flags=EventFlags(event['flags'])\n",
    "    print(flags)\n",
    "    print('timestamp',timestamp, 'time', event['time'])\n",
    "    if flags.type == Event.tick:\n",
    "        return\n",
    "    s=traces['filtered'][timestamp+20-pre:timestamp+20+post]\n",
    "    r=traces['raw'][timestamp+20-pre:timestamp+20+post]\n",
    "    i = np.where(abs(minmax['clk'])<=timestamp+20)[0][-1]\n",
    "    min_t=abs(minmax['clk'][i])-(timestamp+20)\n",
    "#     print(minmax['clk'][i],min_t,i,timestamp)\n",
    "    plt.plot(r,'k',linewidth=0.5)\n",
    "    plt.plot(s,'b',linewidth=2)\n",
    "    plt.plot([pre],s[pre],'sg')\n",
    "    plt.plot([pre+min_t],minmax['filtered'][i],'sr')\n",
    "    if event_type==Event.pulse:\n",
    "        for i in range(flags.peak_number):\n",
    "            p=event['peaks'][i]\n",
    "            plt.plot([0,len(s)-1],[p['height'],p['height']],':r')\n",
    "    else:\n",
    "      plt.plot([0,len(s)-1],[event['height'],event['height']],':r')\n",
    "        \n",
    "    #print(event['height'],event['minima'])\n",
    "    #print(minmax['filtered'][i]==s[pre+min_t])\n",
    "    #print(minmax['filtered'][i]==event['minima'])\n",
    "    #print(s[pre],s[pre-1])"
   ]
  },
  {
   "cell_type": "code",
   "execution_count": null,
   "metadata": {
    "collapsed": false,
    "run_control": {
     "frozen": false,
     "read_only": false
    }
   },
   "outputs": [],
   "source": [
    "pwd"
   ]
  },
  {
   "cell_type": "code",
   "execution_count": null,
   "metadata": {
    "collapsed": false
   },
   "outputs": [],
   "source": [
    "es=bs.eventstream\n",
    "es"
   ]
  },
  {
   "cell_type": "code",
   "execution_count": null,
   "metadata": {
    "collapsed": false,
    "run_control": {
     "frozen": false,
     "read_only": false
    }
   },
   "outputs": [],
   "source": [
    "%matplotlib notebook\n",
    "for e in es:\n",
    "    if e[1]==Event.peak:\n",
    "        plot_event(e)"
   ]
  },
  {
   "cell_type": "code",
   "execution_count": null,
   "metadata": {
    "collapsed": false,
    "run_control": {
     "frozen": false,
     "read_only": false
    }
   },
   "outputs": [],
   "source": [
    "es"
   ]
  },
  {
   "cell_type": "code",
   "execution_count": null,
   "metadata": {
    "collapsed": false,
    "run_control": {
     "frozen": false,
     "read_only": false
    }
   },
   "outputs": [],
   "source": [
    "dists=bs.distributions\n",
    "dists"
   ]
  },
  {
   "cell_type": "code",
   "execution_count": null,
   "metadata": {
    "collapsed": false,
    "run_control": {
     "frozen": false,
     "read_only": false
    }
   },
   "outputs": [],
   "source": [
    "bs.packets[185].payload"
   ]
  },
  {
   "cell_type": "code",
   "execution_count": null,
   "metadata": {
    "collapsed": false,
    "run_control": {
     "frozen": false,
     "read_only": false
    }
   },
   "outputs": [],
   "source": [
    "d=bs.distributions[0]\n",
    "eset=np.uint64(1)\n",
    "bset=np.uint64(0)\n",
    "cset=np.uint64(20)\n",
    "\n",
    "stop=d.stop_time+eset+cset\n",
    "start=d.start_time+bset+cset\n",
    "bins=np.zeros((d.last_bin+1,),dtype=np.uint32)\n",
    "for i in range(start,stop):\n",
    "    s = traces['raw'][i]\n",
    "    if s <= d.lowest_value:\n",
    "        bins[0] += 1\n",
    "    else:\n",
    "        bins[s-d.lowest_value] += 1\n",
    "        \n",
    "(bins-d.counts).nonzero()"
   ]
  },
  {
   "cell_type": "code",
   "execution_count": null,
   "metadata": {
    "collapsed": false,
    "run_control": {
     "frozen": false,
     "read_only": false
    }
   },
   "outputs": [],
   "source": [
    "%matplotlib notebook\n",
    "plt.step(np.arange(len(d.counts)),d.counts)"
   ]
  },
  {
   "cell_type": "code",
   "execution_count": null,
   "metadata": {
    "collapsed": false,
    "run_control": {
     "frozen": false,
     "read_only": false
    }
   },
   "outputs": [],
   "source": [
    "bins[bins.nonzero()]"
   ]
  },
  {
   "cell_type": "code",
   "execution_count": null,
   "metadata": {
    "collapsed": false,
    "run_control": {
     "frozen": false,
     "read_only": false
    }
   },
   "outputs": [],
   "source": [
    "sum(d.counts)"
   ]
  },
  {
   "cell_type": "code",
   "execution_count": null,
   "metadata": {
    "collapsed": false,
    "run_control": {
     "frozen": false,
     "read_only": false
    }
   },
   "outputs": [],
   "source": [
    "2**14+2000"
   ]
  },
  {
   "cell_type": "code",
   "execution_count": null,
   "metadata": {
    "collapsed": false,
    "run_control": {
     "frozen": false,
     "read_only": false
    }
   },
   "outputs": [],
   "source": [
    "es[3][2]['timestamp']-es[0][2]['timestamp']"
   ]
  },
  {
   "cell_type": "code",
   "execution_count": null,
   "metadata": {
    "collapsed": true,
    "run_control": {
     "frozen": false,
     "read_only": false
    }
   },
   "outputs": [],
   "source": [
    "def xings(s, thresh):\n",
    "    pos=s > thresh\n",
    "    neg=s < thresh\n",
    "    pos0=s >= thresh\n",
    "    neg0=s <= thresh\n",
    "    pos_xing_mask = np.bitwise_and(pos0[1:],neg[0:-1])  \n",
    "    neg_xing_mask = np.bitwise_and(neg0[1:],pos[0:-1])  \n",
    "    return pos_xing_mask.nonzero()[0]+1, neg_xing_mask.nonzero()[0]+1"
   ]
  },
  {
   "cell_type": "code",
   "execution_count": null,
   "metadata": {
    "collapsed": true,
    "run_control": {
     "frozen": false,
     "read_only": false
    }
   },
   "outputs": [],
   "source": [
    "from mpl_toolkits.axes_grid1 import host_subplot\n",
    "\n",
    "def plot_trace(traces,start,width):\n",
    "\n",
    "    ax = host_subplot(111)\n",
    "    axr = ax.twinx()\n",
    "    axt = ax.twiny()\n",
    "#ax.plot(t[0:-1:10],s[0:-1:10],'k')\n",
    "#ax.plot(t,s,'k')\n",
    "    axt.set_xlabel('Time ns',fontsize=18)\n",
    "    ax.set_ylabel('Voltage (Arbitary Units)',fontsize=18)\n",
    "#plt.xticks(visible=False)\n",
    "#plt.yticks(visible=False)\n",
    "#ax.set_xlim(0,t[4000000])\n",
    "#start=902000\n",
    "#width=2500\n",
    "    f=traces['filtered'][start:start+width]\n",
    "    s=traces['slope'][start:start+width]\n",
    "    t=np.arange(len(f))*4e-9\n",
    "#ts=t[pstart:pstop]\n",
    "#axins = fig.add_axes([.4, .45, .45, .4])\n",
    "    ax.set_xlim(t[0],t[-1])\n",
    "    axt.set_xlim(t[0],t[-1])\n",
    "\n",
    "    ylim=(-500,2000)\n",
    "\n",
    "    ax.set_ylim(ylim[0],ylim[1])\n",
    "    axr.set_ylim(ylim[0],ylim[1])\n",
    "\n",
    "    filtered, = ax.step(t,f,'k',lw=2,label='filtered')\n",
    "    slope, = ax.step(t,s,'b',label='slope')\n",
    "    ax.fill_between(t,0,s,alpha=.4)\n",
    "    plt.ylim=ylim\n",
    "\n",
    "pos=s>0\n",
    "neg=s<=0\n",
    "pos_xing_mask = np.bitwise_and(pos[1:-1],neg[0:-2])  \n",
    "neg_xing_mask = np.bitwise_and(neg[1:-1],pos[0:-2])  \n",
    "pos_xing=pos_xing_mask.nonzero()\n",
    "neg_xing=neg_xing_mask.nonzero()\n",
    "\n",
    "rx=[t[pos_xing[0][0]], t[neg_xing[0][0]]]\n",
    "ry=[f[pos_xing[0][0]], f[neg_xing[0][0]]]\n",
    "\n",
    "ax.fill_between(t[pos_xing[0][0]:neg_xing[0][0]],0,s[pos_xing[0][0]:neg_xing[0][0]],alpha=.4,color='r')\n",
    "\n",
    "#plt.plot(rx,[ry[0], ry[0]],'-r',lw=2)\n",
    "#plt.plot([rx[1],rx[1]], ry,'-r',lw=2)\n",
    "# thresholds\n",
    "sthresh = 600\n",
    "pthresh = 1000\n",
    "plt.plot([t[0], t[-1]], [sthresh, sthresh], '--b', lw=2)\n",
    "plt.plot([t[0], t[-1]], [pthresh, pthresh], '--k', lw=2)\n",
    "\n",
    "sthresh_xing=(s>sthresh).nonzero()[0][0]\n",
    "pthresh_xing=(f>pthresh).nonzero()[0][0]\n",
    "\n",
    "\n",
    "cf=.10\n",
    "height = ry[1]-ry[0]\n",
    "cfl=ry[0]+(height*cf)\n",
    "cfh=ry[1]-(height*cf)\n",
    "\n",
    "cfl_xing=(f>cfl).nonzero()[0][0]\n",
    "cfd_low=f[cfl_xing]\n",
    "cfh_xing=(f>cfh).nonzero()[0][0]\n",
    "cfd_high=f[cfh_xing]\n",
    "\n",
    "#plt.plot([t[cfl_xing], t[-1]],[cfd_low, cfd_low], ':r')\n",
    "#plt.plot([t[cfh_xing], t[-1]],[cfd_high, cfd_high], ':r')\n",
    "#plt.plot([x[1], t[-1]],[y[1], y[1]], ':r')\n",
    "plt.legend([filtered, slope],['Signal', 'Slope'],loc=2)\n",
    "\n",
    "#axr = ax.twinx()\n",
    "##################################################################\n",
    "#yticks=([ry[0],sthresh,pthresh,cfd_high,ry[1]])\n",
    "yticks=([sthresh,pthresh])\n",
    "axr.set_yticks(yticks)\n",
    "#yticklabels=['Start','Slope threshold','Pulse threshold','CF high','Peak']\n",
    "yticklabels=['Slope threshold','Pulse threshold']\n",
    "axr.set_yticklabels(yticklabels, color='r',fontsize=14)\n",
    "axr.get_yticklabels()[0].set_color('b')\n",
    "axr.get_yticklabels()[1].set_color('k')\n",
    "\n",
    "#xticks=([rx[0],t[cfl_xing],t[sthresh_xing],t[pthresh_xing],rx[1]])\n",
    "xticks=(t[cfl_xing],rx[1])\n",
    "#ax.set_xticks([rx[0],t[cfl_xing],t[sthresh_xing],t[pthresh_xing],rx[1]])\n",
    "ax.set_xticks(xticks)\n",
    "#xticklabels=['Start','CF low','Slope xing','Signal xing','Peak']\n",
    "xticklabels=['CF low','Peak']\n",
    "ax.set_xticklabels(xticklabels, color='r',fontsize=14)\n",
    "\n",
    "#plt.plot([t[cfh_xing], t[-1]],[cfd_high, cfd_high], ':r')\n",
    "#horoz start, stop lines\n",
    "#hpeak=ax.plot([xticks[1], t[-1]],[yticks[-1], yticks[-1]], '-.r')\n",
    "#hstart=ax.plot([xticks[0], t[-1]],[yticks[0], yticks[0]], '-.r')\n",
    "#vert start stop\n",
    "vstart=ax.plot([xticks[0], xticks[0]],[cfd_low, ylim[0]], '-.r')\n",
    "vpeak=ax.plot([xticks[1], xticks[1]],[ylim[0], ry[1]], '-.r')\n",
    "\n",
    "plt.tight_layout()\n",
    "plt.savefig('..//peakextraction7.svg')\n",
    "plt.show()\n",
    "print('risetime:',(xticks[1]-xticks[0])/4)\n",
    "print('height:',yticks[-1]-yticks[0])\n",
    "print('time:',(xticks[0]-rx[0])/4)\n",
    "print('area',sum(s[pos_xing[0][0]:neg_xing[0][0]])/256)\n"
   ]
  },
  {
   "cell_type": "code",
   "execution_count": null,
   "metadata": {
    "collapsed": true,
    "run_control": {
     "frozen": false,
     "read_only": false
    }
   },
   "outputs": [],
   "source": [
    "slope_0xings = xings(traces['slope'],0)"
   ]
  },
  {
   "cell_type": "code",
   "execution_count": null,
   "metadata": {
    "collapsed": false,
    "run_control": {
     "frozen": false,
     "read_only": false
    }
   },
   "outputs": [],
   "source": [
    "slope_0xings"
   ]
  },
  {
   "cell_type": "code",
   "execution_count": null,
   "metadata": {
    "collapsed": false,
    "run_control": {
     "frozen": false,
     "read_only": false
    }
   },
   "outputs": [],
   "source": [
    "%matplotlib notebook\n",
    "start=10000\n",
    "width=300\n",
    "plt.plot(traces['filtered'][start:start+width]/2)"
   ]
  },
  {
   "cell_type": "code",
   "execution_count": null,
   "metadata": {
    "collapsed": false,
    "run_control": {
     "frozen": false,
     "read_only": false
    }
   },
   "outputs": [],
   "source": [
    "%matplotlib notebook\n",
    "plt.plot(traces['slope'][20400:21700])"
   ]
  },
  {
   "cell_type": "code",
   "execution_count": null,
   "metadata": {
    "collapsed": false,
    "run_control": {
     "frozen": false,
     "read_only": false
    }
   },
   "outputs": [],
   "source": [
    "filtered=traces['filtered'][1100:]\n",
    "filteredL=traces['filteredL'][1100:]"
   ]
  },
  {
   "cell_type": "code",
   "execution_count": null,
   "metadata": {
    "collapsed": false,
    "run_control": {
     "frozen": false,
     "read_only": false
    }
   },
   "outputs": [],
   "source": [
    "filtered[:10]"
   ]
  },
  {
   "cell_type": "code",
   "execution_count": null,
   "metadata": {
    "collapsed": false,
    "run_control": {
     "frozen": false,
     "read_only": false
    }
   },
   "outputs": [],
   "source": [
    "filteredL[:10]/4"
   ]
  },
  {
   "cell_type": "code",
   "execution_count": null,
   "metadata": {
    "collapsed": false,
    "run_control": {
     "frozen": false,
     "read_only": false
    }
   },
   "outputs": [],
   "source": [
    "minmax_dt=np.dtype([('filtered','i4'),('low','i4'),('high','i4'),('clk','i4')])\n",
    "minmax=Data.fromfile('minmax',minmax_dt,'teslib','measurement_subsystem_TB',tool='vivado')\n",
    "fxing_dt=np.dtype([('extrema','i4'),('area','i4'),('clk','i4')])\n",
    "fxing=Data.fromfile('filteredxing',fxing_dt,'teslib','measurement_subsystem_TB',tool='vivado')"
   ]
  },
  {
   "cell_type": "code",
   "execution_count": null,
   "metadata": {
    "collapsed": false,
    "run_control": {
     "frozen": false,
     "read_only": false
    }
   },
   "outputs": [],
   "source": [
    "minmax"
   ]
  },
  {
   "cell_type": "code",
   "execution_count": null,
   "metadata": {
    "collapsed": false,
    "run_control": {
     "frozen": false,
     "read_only": false
    }
   },
   "outputs": [],
   "source": [
    "fxing"
   ]
  },
  {
   "cell_type": "code",
   "execution_count": null,
   "metadata": {
    "collapsed": false,
    "run_control": {
     "frozen": false,
     "read_only": false
    }
   },
   "outputs": [],
   "source": [
    "np.where(fxing['area']==0)"
   ]
  },
  {
   "cell_type": "code",
   "execution_count": null,
   "metadata": {
    "collapsed": false,
    "run_control": {
     "frozen": false,
     "read_only": false
    }
   },
   "outputs": [],
   "source": [
    "np.where(fxing['extrema']==0)"
   ]
  },
  {
   "cell_type": "code",
   "execution_count": null,
   "metadata": {
    "collapsed": false,
    "run_control": {
     "frozen": false,
     "read_only": false
    }
   },
   "outputs": [],
   "source": [
    "fxing[30]"
   ]
  },
  {
   "cell_type": "code",
   "execution_count": null,
   "metadata": {
    "collapsed": false,
    "run_control": {
     "frozen": false,
     "read_only": false
    }
   },
   "outputs": [],
   "source": [
    "exn=np.where(fxing['extrema']<0)\n",
    "clkn=np.where(fxing['clk']>0)"
   ]
  },
  {
   "cell_type": "code",
   "execution_count": null,
   "metadata": {
    "collapsed": true,
    "run_control": {
     "frozen": false,
     "read_only": false
    }
   },
   "outputs": [],
   "source": []
  },
  {
   "cell_type": "code",
   "execution_count": null,
   "metadata": {
    "collapsed": false,
    "run_control": {
     "frozen": false,
     "read_only": false
    }
   },
   "outputs": [],
   "source": [
    "fxing[374]"
   ]
  },
  {
   "cell_type": "code",
   "execution_count": null,
   "metadata": {
    "collapsed": false,
    "run_control": {
     "frozen": false,
     "read_only": false
    }
   },
   "outputs": [],
   "source": [
    "clkn"
   ]
  },
  {
   "cell_type": "code",
   "execution_count": null,
   "metadata": {
    "collapsed": false,
    "run_control": {
     "frozen": false,
     "read_only": false
    }
   },
   "outputs": [],
   "source": [
    "np.where(minmax[maxs[0]-1]['min']!=1)"
   ]
  },
  {
   "cell_type": "code",
   "execution_count": null,
   "metadata": {
    "collapsed": false,
    "run_control": {
     "frozen": false,
     "read_only": false
    }
   },
   "outputs": [],
   "source": [
    "minmax[maxs[0]-1][65]"
   ]
  },
  {
   "cell_type": "code",
   "execution_count": null,
   "metadata": {
    "collapsed": false,
    "run_control": {
     "frozen": false,
     "read_only": false
    }
   },
   "outputs": [],
   "source": [
    "2290-925"
   ]
  },
  {
   "cell_type": "code",
   "execution_count": null,
   "metadata": {
    "collapsed": false,
    "run_control": {
     "frozen": false,
     "read_only": false
    }
   },
   "outputs": [],
   "source": [
    "0.375*4"
   ]
  },
  {
   "cell_type": "code",
   "execution_count": null,
   "metadata": {
    "collapsed": false,
    "run_control": {
     "frozen": false,
     "read_only": false
    }
   },
   "outputs": [],
   "source": [
    "np.where(minmax['clock']==2290)"
   ]
  },
  {
   "cell_type": "code",
   "execution_count": null,
   "metadata": {
    "collapsed": false,
    "run_control": {
     "frozen": false,
     "read_only": false
    }
   },
   "outputs": [],
   "source": [
    "minmax[120:140]"
   ]
  },
  {
   "cell_type": "code",
   "execution_count": null,
   "metadata": {
    "collapsed": false,
    "run_control": {
     "frozen": false,
     "read_only": false
    }
   },
   "outputs": [],
   "source": [
    "stream_dt=np.dtype([('data','>i4'),('last','i4')])\n",
    "#stream=np.fromfile('data/stream',stream_dt)"
   ]
  },
  {
   "cell_type": "markdown",
   "metadata": {},
   "source": [
    "### bytestream stuff"
   ]
  },
  {
   "cell_type": "code",
   "execution_count": null,
   "metadata": {
    "collapsed": false,
    "run_control": {
     "frozen": false,
     "read_only": false
    }
   },
   "outputs": [],
   "source": [
    "stream_dt=np.dtype([('data','i4'),('last','i4')])\n",
    "stream=Data.fromfile('bytestream',stream_dt,'teslib','measurement_subsystem_TB',tool='vivado')\n",
    "lasts=np.where(stream['last']<=0)[0]+1\n",
    "#data=np.copy(stream['data'])"
   ]
  },
  {
   "cell_type": "code",
   "execution_count": null,
   "metadata": {
    "collapsed": false,
    "run_control": {
     "frozen": false,
     "read_only": false
    }
   },
   "outputs": [],
   "source": [
    "stream"
   ]
  },
  {
   "cell_type": "code",
   "execution_count": null,
   "metadata": {
    "collapsed": true,
    "run_control": {
     "frozen": false,
     "read_only": false
    }
   },
   "outputs": [],
   "source": []
  },
  {
   "cell_type": "code",
   "execution_count": null,
   "metadata": {
    "collapsed": true,
    "run_control": {
     "frozen": false,
     "read_only": false
    }
   },
   "outputs": [],
   "source": [
    "stream=np.fromfile('data/bytestream',stream_dt)"
   ]
  },
  {
   "cell_type": "code",
   "execution_count": null,
   "metadata": {
    "collapsed": false,
    "run_control": {
     "frozen": false,
     "read_only": false
    }
   },
   "outputs": [],
   "source": [
    "bs=PacketStream(stream)"
   ]
  },
  {
   "cell_type": "code",
   "execution_count": null,
   "metadata": {
    "collapsed": false,
    "run_control": {
     "frozen": false,
     "read_only": false
    }
   },
   "outputs": [],
   "source": [
    "bs.packets"
   ]
  },
  {
   "cell_type": "code",
   "execution_count": null,
   "metadata": {
    "collapsed": false,
    "run_control": {
     "frozen": false,
     "read_only": false
    }
   },
   "outputs": [],
   "source": [
    "bs.packets[4]"
   ]
  },
  {
   "cell_type": "code",
   "execution_count": null,
   "metadata": {
    "collapsed": true,
    "run_control": {
     "frozen": false,
     "read_only": false
    }
   },
   "outputs": [],
   "source": [
    "eheader_dt=[('etype','<u2'),('length','u2'),()]"
   ]
  },
  {
   "cell_type": "code",
   "execution_count": null,
   "metadata": {
    "collapsed": false,
    "run_control": {
     "frozen": false,
     "read_only": false
    }
   },
   "outputs": [],
   "source": [
    "'{:X}'.format(bs.packets[1].bytes[23])\n"
   ]
  },
  {
   "cell_type": "code",
   "execution_count": null,
   "metadata": {
    "collapsed": false,
    "run_control": {
     "frozen": false,
     "read_only": false
    }
   },
   "outputs": [],
   "source": [
    "'{:X}'.format(bs.packets[0].bytes[28:30].view(np.uint16)[0])"
   ]
  },
  {
   "cell_type": "code",
   "execution_count": null,
   "metadata": {
    "collapsed": true,
    "run_control": {
     "frozen": false,
     "read_only": false
    }
   },
   "outputs": [],
   "source": [
    "pulse_peak_dt=np.dtype([('height','i2'),('rise','i2'),('minima','u2'),('time','i2')])\n",
    "pulse_dt=np.dtype([('size','i2'),('resv','i2'),('flags','i2'),('time','u2'),\n",
    "                  ('area','i4'),('length','i2'),('offset','i2'),('peaks',(pulse_peak_dt,2))])"
   ]
  },
  {
   "cell_type": "code",
   "execution_count": null,
   "metadata": {
    "collapsed": false,
    "run_control": {
     "frozen": false,
     "read_only": false
    }
   },
   "outputs": [],
   "source": [
    "pulses=bs.packets[3].payload.view(pulse_dt)"
   ]
  },
  {
   "cell_type": "code",
   "execution_count": null,
   "metadata": {
    "collapsed": false,
    "run_control": {
     "frozen": false,
     "read_only": false
    }
   },
   "outputs": [],
   "source": [
    "pulses['peaks']"
   ]
  },
  {
   "cell_type": "code",
   "execution_count": null,
   "metadata": {
    "collapsed": false,
    "run_control": {
     "frozen": false,
     "read_only": false
    }
   },
   "outputs": [],
   "source": [
    "pulses['offset']"
   ]
  },
  {
   "cell_type": "code",
   "execution_count": null,
   "metadata": {
    "collapsed": false,
    "run_control": {
     "frozen": false,
     "read_only": false
    }
   },
   "outputs": [],
   "source": [
    "pulses['length']"
   ]
  },
  {
   "cell_type": "code",
   "execution_count": null,
   "metadata": {
    "collapsed": false,
    "run_control": {
     "frozen": false,
     "read_only": false
    }
   },
   "outputs": [],
   "source": [
    "class eflags:\n",
    "    def __init__(self,uint16):\n",
    "        self.new_window=np.bitwise_and(uint16,0x00000001)!=0\n",
    "        self.tick=np.bitwise_and(uint16,0x00000002)!=0\n",
    "        self.type=np.right_shift(np.bitwise_and(uint16,0x0000000c),2)\n",
    "        \n",
    "    def __repr__(self):\n",
    "        return 'New window:{:}\\n'.format(self.new_window) + \\\n",
    "               'Tick:{:}\\n'.format(self.tick) + \\\n",
    "               'Type:{:}\\n'.format(self.type) "
   ]
  },
  {
   "cell_type": "code",
   "execution_count": null,
   "metadata": {
    "collapsed": false,
    "run_control": {
     "frozen": false,
     "read_only": false
    }
   },
   "outputs": [],
   "source": [
    "f=eflags(pulses[0]['flags'])\n",
    "f"
   ]
  },
  {
   "cell_type": "code",
   "execution_count": null,
   "metadata": {
    "collapsed": false,
    "run_control": {
     "frozen": false,
     "read_only": false
    }
   },
   "outputs": [],
   "source": [
    "'{:X}'.format(bs.packets[3].bytes[13:14].view(np.uint16))"
   ]
  },
  {
   "cell_type": "code",
   "execution_count": null,
   "metadata": {
    "collapsed": true,
    "run_control": {
     "frozen": false,
     "read_only": false
    }
   },
   "outputs": [],
   "source": []
  },
  {
   "cell_type": "code",
   "execution_count": null,
   "metadata": {
    "collapsed": false,
    "run_control": {
     "frozen": false,
     "read_only": false
    }
   },
   "outputs": [],
   "source": [
    "'{:X}'.format(bs.packets[3].bytes[14:16].view(np.uint16)[0])"
   ]
  },
  {
   "cell_type": "code",
   "execution_count": null,
   "metadata": {
    "collapsed": false,
    "run_control": {
     "frozen": false,
     "read_only": false
    }
   },
   "outputs": [],
   "source": [
    "bs.packets[3].bytes[14:16].view(np.uint16)[0]"
   ]
  },
  {
   "cell_type": "code",
   "execution_count": null,
   "metadata": {
    "collapsed": false,
    "run_control": {
     "frozen": false,
     "read_only": false
    }
   },
   "outputs": [],
   "source": [
    "bs=np.uint8(stream['data'][:48])"
   ]
  },
  {
   "cell_type": "code",
   "execution_count": null,
   "metadata": {
    "collapsed": false,
    "run_control": {
     "frozen": false,
     "read_only": false
    }
   },
   "outputs": [],
   "source": [
    "bs"
   ]
  },
  {
   "cell_type": "code",
   "execution_count": null,
   "metadata": {
    "collapsed": false,
    "run_control": {
     "frozen": false,
     "read_only": false
    }
   },
   "outputs": [],
   "source": [
    "events=stream['data'].view(event_dt)"
   ]
  },
  {
   "cell_type": "code",
   "execution_count": null,
   "metadata": {
    "collapsed": false,
    "run_control": {
     "frozen": false,
     "read_only": false
    }
   },
   "outputs": [],
   "source": [
    "'{:X}'.format(events['flags'][0])"
   ]
  },
  {
   "cell_type": "code",
   "execution_count": null,
   "metadata": {
    "collapsed": false,
    "run_control": {
     "frozen": false,
     "read_only": false
    }
   },
   "outputs": [],
   "source": [
    "events['rise']"
   ]
  },
  {
   "cell_type": "code",
   "execution_count": null,
   "metadata": {
    "collapsed": false,
    "run_control": {
     "frozen": false,
     "read_only": false
    }
   },
   "outputs": [],
   "source": [
    "events"
   ]
  },
  {
   "cell_type": "code",
   "execution_count": null,
   "metadata": {
    "collapsed": false,
    "run_control": {
     "frozen": false,
     "read_only": false
    }
   },
   "outputs": [],
   "source": [
    "'{:04X}'.format(events['flags'][1])"
   ]
  },
  {
   "cell_type": "code",
   "execution_count": null,
   "metadata": {
    "collapsed": true,
    "run_control": {
     "frozen": false,
     "read_only": false
    }
   },
   "outputs": [],
   "source": [
    "pulse_peak_dt=np.dtype([('time','>i2'),('minima','>i2'),('rise','>u2'),('height','>i2')])\n",
    "pulse_dt=np.dtype([('time','>i2'),('flags','>i2'),('resv','>i2'),('size','>u2'),\n",
    "                  ('offset','>i2'),('length','>i2'),('area','>i4'),('peaks',(pulse_peak_dt,1))])\n",
    "data=np.copy(stream['data'])"
   ]
  },
  {
   "cell_type": "code",
   "execution_count": null,
   "metadata": {
    "collapsed": false,
    "run_control": {
     "frozen": false,
     "read_only": false
    }
   },
   "outputs": [],
   "source": [
    "pulses=data.view(pulse_dt)"
   ]
  },
  {
   "cell_type": "code",
   "execution_count": null,
   "metadata": {
    "collapsed": false,
    "run_control": {
     "frozen": false,
     "read_only": false
    }
   },
   "outputs": [],
   "source": [
    "pulses['peaks']['height']-pulses['peaks']['minima']"
   ]
  },
  {
   "cell_type": "code",
   "execution_count": null,
   "metadata": {
    "collapsed": false,
    "run_control": {
     "frozen": false,
     "read_only": false
    }
   },
   "outputs": [],
   "source": [
    "pulses['peaks']['minima']"
   ]
  },
  {
   "cell_type": "code",
   "execution_count": null,
   "metadata": {
    "collapsed": false,
    "run_control": {
     "frozen": false,
     "read_only": false
    }
   },
   "outputs": [],
   "source": [
    "peak_count=np.right_shift(np.bitwise_and(pulses['flags'],0xF000),12)\n",
    "peak_overflow=np.bitwise_and(pulses['flags'],0x0800)!=0\n",
    "channel=np.right_shift(np.bitwise_and(pulses['flags'],0x0700),8)\n",
    "timing_type=np.right_shift(np.bitwise_and(pulses['flags'],0x00C0),6)\n",
    "height_type=np.right_shift(np.bitwise_and(pulses['flags'],0x0030),4)\n",
    "event_type=np.right_shift(np.bitwise_and(pulses['flags'],0x000E),1)\n",
    "new_window=np.bitwise_and(pulses['flags'],0x0001)!=0"
   ]
  },
  {
   "cell_type": "code",
   "execution_count": null,
   "metadata": {
    "collapsed": false,
    "run_control": {
     "frozen": false,
     "read_only": false
    }
   },
   "outputs": [],
   "source": [
    "peak_overflow"
   ]
  },
  {
   "cell_type": "code",
   "execution_count": null,
   "metadata": {
    "collapsed": true,
    "run_control": {
     "frozen": false,
     "read_only": false
    }
   },
   "outputs": [],
   "source": [
    "test_dt=np.dtype(\n",
    "    [('time','i2'),('flags','i2'),('rise','u2'),('minima','i2'),('low','u8'),('high','u8')]\n",
    ")\n",
    "test=data.view(test_dt)"
   ]
  },
  {
   "cell_type": "code",
   "execution_count": null,
   "metadata": {
    "collapsed": false,
    "run_control": {
     "frozen": false,
     "read_only": false
    }
   },
   "outputs": [],
   "source": [
    "test"
   ]
  },
  {
   "cell_type": "code",
   "execution_count": null,
   "metadata": {
    "collapsed": false,
    "run_control": {
     "frozen": false,
     "read_only": false
    }
   },
   "outputs": [],
   "source": [
    "test['minima']"
   ]
  },
  {
   "cell_type": "code",
   "execution_count": null,
   "metadata": {
    "collapsed": false,
    "run_control": {
     "frozen": false,
     "read_only": false
    }
   },
   "outputs": [],
   "source": [
    "low1=np.int32(np.right_shift(np.bitwise_and(test['low'],0x03FFFF000000000),36))\n",
    "s=(np.bitwise_and(low1,0x00020000)!=0)*0xFFFC0000\n",
    "low2=np.int32(np.right_shift(np.bitwise_and(test['low'],0x000000FFFFC0000),18))\n",
    "low_threshold=np.int32(np.bitwise_and(test['low'],0x00000000003FFFF))\n",
    "high1=np.int32(np.right_shift(np.bitwise_and(test['high'],0x03FFFF000000000),36))\n",
    "high2=np.int32(np.right_shift(np.bitwise_and(test['high'],0x000000FFFFC0000),18))\n",
    "high_threshold=np.int32(np.bitwise_and(test['high'],0x00000000003FFFF))"
   ]
  },
  {
   "cell_type": "code",
   "execution_count": null,
   "metadata": {
    "collapsed": false,
    "run_control": {
     "frozen": false,
     "read_only": false
    }
   },
   "outputs": [],
   "source": [
    "np.int32(np.bitwise_or(low1,s))/8.0"
   ]
  },
  {
   "cell_type": "code",
   "execution_count": null,
   "metadata": {
    "collapsed": false,
    "run_control": {
     "frozen": false,
     "read_only": false
    }
   },
   "outputs": [],
   "source": [
    "'{:04X}'.format(low1[0])"
   ]
  },
  {
   "cell_type": "code",
   "execution_count": null,
   "metadata": {
    "collapsed": false,
    "run_control": {
     "frozen": false,
     "read_only": false
    }
   },
   "outputs": [],
   "source": [
    "high1/8.0"
   ]
  },
  {
   "cell_type": "code",
   "execution_count": null,
   "metadata": {
    "collapsed": false,
    "run_control": {
     "frozen": false,
     "read_only": false
    }
   },
   "outputs": [],
   "source": [
    "high2/8.0"
   ]
  },
  {
   "cell_type": "code",
   "execution_count": null,
   "metadata": {
    "collapsed": false,
    "run_control": {
     "frozen": false,
     "read_only": false
    }
   },
   "outputs": [],
   "source": [
    "'{:04X}'.format(high_threshold[0])"
   ]
  },
  {
   "cell_type": "code",
   "execution_count": null,
   "metadata": {
    "collapsed": false,
    "run_control": {
     "frozen": false,
     "read_only": false
    }
   },
   "outputs": [],
   "source": [
    "from enum import Enum"
   ]
  },
  {
   "cell_type": "code",
   "execution_count": null,
   "metadata": {
    "collapsed": false,
    "run_control": {
     "frozen": false,
     "read_only": false
    }
   },
   "outputs": [],
   "source": [
    "class VhdlEnum(int, Enum):\n",
    "\n",
    "    def __str__(self):\n",
    "        return self.name.replace(\"-\", \" \")\n",
    "    \n",
    "    def select(self):\n",
    "        return pow(2, self.value)\n",
    "    "
   ]
  },
  {
   "cell_type": "code",
   "execution_count": null,
   "metadata": {
    "collapsed": false,
    "run_control": {
     "frozen": false,
     "read_only": false
    }
   },
   "outputs": [],
   "source": [
    "class Test(VhdlEnum):\n",
    "    a=0\n",
    "    b=1"
   ]
  },
  {
   "cell_type": "code",
   "execution_count": null,
   "metadata": {
    "collapsed": false,
    "run_control": {
     "frozen": false,
     "read_only": false
    }
   },
   "outputs": [],
   "source": [
    "Test(0)"
   ]
  },
  {
   "cell_type": "code",
   "execution_count": null,
   "metadata": {
    "collapsed": true,
    "run_control": {
     "frozen": false,
     "read_only": false
    }
   },
   "outputs": [],
   "source": []
  }
 ],
 "metadata": {
  "anaconda-cloud": {},
  "kernelspec": {
   "display_name": "Python [conda root]",
   "language": "python",
   "name": "conda-root-py"
  },
  "language_info": {
   "codemirror_mode": {
    "name": "ipython",
    "version": 3
   },
   "file_extension": ".py",
   "mimetype": "text/x-python",
   "name": "python",
   "nbconvert_exporter": "python",
   "pygments_lexer": "ipython3",
   "version": "3.5.2"
  }
 },
 "nbformat": 4,
 "nbformat_minor": 1
}
