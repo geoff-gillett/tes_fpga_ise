{
 "cells": [
  {
   "cell_type": "markdown",
   "metadata": {},
   "source": [
    "timestamp 0 => clk 20\n",
    "\n",
    "traces start at clk 1"
   ]
  },
  {
   "cell_type": "code",
   "execution_count": 1,
   "metadata": {
    "collapsed": false,
    "run_control": {
     "frozen": false,
     "read_only": false
    }
   },
   "outputs": [],
   "source": [
    "from tes.data import Data,PacketStream,Packet,Payload,EventFlags,Event\n",
    "from tes.hdf5 import _PacketData, _import\n",
    "import numpy as np\n",
    "import matplotlib.pyplot as plt\n",
    "from subprocess import Popen\n",
    "\n",
    "import logging\n",
    "import sys\n",
    "logger = logging.getLogger('tes')\n",
    "logger.setLevel(logging.DEBUG)\n",
    "handler = logging.StreamHandler(sys.stderr)\n",
    "formatter = logging.Formatter('%(name)s:%(levelname)s %(message)s')\n",
    "handler.setFormatter(formatter)\n",
    "logger.handlers = [handler]\n",
    "\n",
    "trace_dt=np.dtype([('raw','i4'),('filtered','i4'),('slope','i4'),('filteredL','i4')])\n",
    "stream_dt=np.dtype([('data','i4'),('last','i4')])\n",
    "minmax_dt=np.dtype(\n",
    "    [\n",
    "        ('filtered','i4'),('timing_threshold','i4'),\n",
    "        ('height_threshold','i4'),('slope_extrema','i4'),('slope_area','i4'),('clk','i4')\n",
    "    ]\n",
    ")\n",
    "cfd_dt=np.dtype('i4')\n",
    "filteredxing_dt=np.dtype([('extrema','i4'),('area','i4'),('clk','i4')])"
   ]
  },
  {
   "cell_type": "code",
   "execution_count": null,
   "metadata": {
    "collapsed": false,
    "run_control": {
     "frozen": false,
     "read_only": false
    },
    "scrolled": false
   },
   "outputs": [],
   "source": [
    "%matplotlib notebook\n",
    "traces=Data.fromfile('traces',trace_dt,'teslib','measurement_subsystem_TB',tool='vivado')\n",
    "plt.plot(traces['slope'][1100:],'r',linewidth=1)\n",
    "plt.plot(traces['raw'][1100:],linewidth=0.5)\n",
    "plt.plot(traces['filtered'][1100:],'k',linewidth=2)"
   ]
  },
  {
   "cell_type": "code",
   "execution_count": 26,
   "metadata": {
    "collapsed": false
   },
   "outputs": [
    {
     "name": "stderr",
     "output_type": "stream",
     "text": [
      "tes.hdf5:DEBUG PacketData: from ndarray\n",
      "tes.hdf5:INFO import:pass 1: calculating sizes for hdf5 pre-allocation\n",
      "tes.hdf5:INFO import:pass 1:found 3088 bytes in 30 frames 0 sequence errors.\n",
      "tes.hdf5:DEBUG tick frames: 72 data bytes in 3 frames\n",
      "tes.hdf5:DEBUG event frames: 384 data bytes in 4 frames\n",
      "tes.hdf5:DEBUG MCA frames: 2392 data bytes in 23 frames\n",
      "tes.hdf5:DEBUG unidentified frames: 0 bytes in 0 frames\n",
      "tes.hdf5:DEBUG MCA distributions:0  traces:0\n",
      "tes.hdf5:INFO import:pass 2:importing data\n"
     ]
    }
   ],
   "source": [
    "import h5py\n",
    "from tes.hdf5 import Trace, Hdf5, frame_header_dt\n",
    "stream=Data.fromfile('bytestream',stream_dt,'teslib','measurement_subsystem_TB',tool='vivado')\n",
    "# packets=_PacketData(stream)\n",
    "# del stream\n",
    "# _import(packets)\n",
    "# h=h5py.File('TES.hdf5','r')\n",
    "h=Hdf5('TES.hdf5',stream)\n",
    "del stream"
   ]
  },
  {
   "cell_type": "code",
   "execution_count": 23,
   "metadata": {
    "collapsed": false
   },
   "outputs": [
    {
     "name": "stdout",
     "output_type": "stream",
     "text": [
      "2\n"
     ]
    },
    {
     "data": {
      "application/javascript": [
       "/* Put everything inside the global mpl namespace */\n",
       "window.mpl = {};\n",
       "\n",
       "\n",
       "mpl.get_websocket_type = function() {\n",
       "    if (typeof(WebSocket) !== 'undefined') {\n",
       "        return WebSocket;\n",
       "    } else if (typeof(MozWebSocket) !== 'undefined') {\n",
       "        return MozWebSocket;\n",
       "    } else {\n",
       "        alert('Your browser does not have WebSocket support.' +\n",
       "              'Please try Chrome, Safari or Firefox ≥ 6. ' +\n",
       "              'Firefox 4 and 5 are also supported but you ' +\n",
       "              'have to enable WebSockets in about:config.');\n",
       "    };\n",
       "}\n",
       "\n",
       "mpl.figure = function(figure_id, websocket, ondownload, parent_element) {\n",
       "    this.id = figure_id;\n",
       "\n",
       "    this.ws = websocket;\n",
       "\n",
       "    this.supports_binary = (this.ws.binaryType != undefined);\n",
       "\n",
       "    if (!this.supports_binary) {\n",
       "        var warnings = document.getElementById(\"mpl-warnings\");\n",
       "        if (warnings) {\n",
       "            warnings.style.display = 'block';\n",
       "            warnings.textContent = (\n",
       "                \"This browser does not support binary websocket messages. \" +\n",
       "                    \"Performance may be slow.\");\n",
       "        }\n",
       "    }\n",
       "\n",
       "    this.imageObj = new Image();\n",
       "\n",
       "    this.context = undefined;\n",
       "    this.message = undefined;\n",
       "    this.canvas = undefined;\n",
       "    this.rubberband_canvas = undefined;\n",
       "    this.rubberband_context = undefined;\n",
       "    this.format_dropdown = undefined;\n",
       "\n",
       "    this.image_mode = 'full';\n",
       "\n",
       "    this.root = $('<div/>');\n",
       "    this._root_extra_style(this.root)\n",
       "    this.root.attr('style', 'display: inline-block');\n",
       "\n",
       "    $(parent_element).append(this.root);\n",
       "\n",
       "    this._init_header(this);\n",
       "    this._init_canvas(this);\n",
       "    this._init_toolbar(this);\n",
       "\n",
       "    var fig = this;\n",
       "\n",
       "    this.waiting = false;\n",
       "\n",
       "    this.ws.onopen =  function () {\n",
       "            fig.send_message(\"supports_binary\", {value: fig.supports_binary});\n",
       "            fig.send_message(\"send_image_mode\", {});\n",
       "            if (mpl.ratio != 1) {\n",
       "                fig.send_message(\"set_dpi_ratio\", {'dpi_ratio': mpl.ratio});\n",
       "            }\n",
       "            fig.send_message(\"refresh\", {});\n",
       "        }\n",
       "\n",
       "    this.imageObj.onload = function() {\n",
       "            if (fig.image_mode == 'full') {\n",
       "                // Full images could contain transparency (where diff images\n",
       "                // almost always do), so we need to clear the canvas so that\n",
       "                // there is no ghosting.\n",
       "                fig.context.clearRect(0, 0, fig.canvas.width, fig.canvas.height);\n",
       "            }\n",
       "            fig.context.drawImage(fig.imageObj, 0, 0);\n",
       "        };\n",
       "\n",
       "    this.imageObj.onunload = function() {\n",
       "        this.ws.close();\n",
       "    }\n",
       "\n",
       "    this.ws.onmessage = this._make_on_message_function(this);\n",
       "\n",
       "    this.ondownload = ondownload;\n",
       "}\n",
       "\n",
       "mpl.figure.prototype._init_header = function() {\n",
       "    var titlebar = $(\n",
       "        '<div class=\"ui-dialog-titlebar ui-widget-header ui-corner-all ' +\n",
       "        'ui-helper-clearfix\"/>');\n",
       "    var titletext = $(\n",
       "        '<div class=\"ui-dialog-title\" style=\"width: 100%; ' +\n",
       "        'text-align: center; padding: 3px;\"/>');\n",
       "    titlebar.append(titletext)\n",
       "    this.root.append(titlebar);\n",
       "    this.header = titletext[0];\n",
       "}\n",
       "\n",
       "\n",
       "\n",
       "mpl.figure.prototype._canvas_extra_style = function(canvas_div) {\n",
       "\n",
       "}\n",
       "\n",
       "\n",
       "mpl.figure.prototype._root_extra_style = function(canvas_div) {\n",
       "\n",
       "}\n",
       "\n",
       "mpl.figure.prototype._init_canvas = function() {\n",
       "    var fig = this;\n",
       "\n",
       "    var canvas_div = $('<div/>');\n",
       "\n",
       "    canvas_div.attr('style', 'position: relative; clear: both; outline: 0');\n",
       "\n",
       "    function canvas_keyboard_event(event) {\n",
       "        return fig.key_event(event, event['data']);\n",
       "    }\n",
       "\n",
       "    canvas_div.keydown('key_press', canvas_keyboard_event);\n",
       "    canvas_div.keyup('key_release', canvas_keyboard_event);\n",
       "    this.canvas_div = canvas_div\n",
       "    this._canvas_extra_style(canvas_div)\n",
       "    this.root.append(canvas_div);\n",
       "\n",
       "    var canvas = $('<canvas/>');\n",
       "    canvas.addClass('mpl-canvas');\n",
       "    canvas.attr('style', \"left: 0; top: 0; z-index: 0; outline: 0\")\n",
       "\n",
       "    this.canvas = canvas[0];\n",
       "    this.context = canvas[0].getContext(\"2d\");\n",
       "\n",
       "    var backingStore = this.context.backingStorePixelRatio ||\n",
       "\tthis.context.webkitBackingStorePixelRatio ||\n",
       "\tthis.context.mozBackingStorePixelRatio ||\n",
       "\tthis.context.msBackingStorePixelRatio ||\n",
       "\tthis.context.oBackingStorePixelRatio ||\n",
       "\tthis.context.backingStorePixelRatio || 1;\n",
       "\n",
       "    mpl.ratio = (window.devicePixelRatio || 1) / backingStore;\n",
       "\n",
       "    var rubberband = $('<canvas/>');\n",
       "    rubberband.attr('style', \"position: absolute; left: 0; top: 0; z-index: 1;\")\n",
       "\n",
       "    var pass_mouse_events = true;\n",
       "\n",
       "    canvas_div.resizable({\n",
       "        start: function(event, ui) {\n",
       "            pass_mouse_events = false;\n",
       "        },\n",
       "        resize: function(event, ui) {\n",
       "            fig.request_resize(ui.size.width, ui.size.height);\n",
       "        },\n",
       "        stop: function(event, ui) {\n",
       "            pass_mouse_events = true;\n",
       "            fig.request_resize(ui.size.width, ui.size.height);\n",
       "        },\n",
       "    });\n",
       "\n",
       "    function mouse_event_fn(event) {\n",
       "        if (pass_mouse_events)\n",
       "            return fig.mouse_event(event, event['data']);\n",
       "    }\n",
       "\n",
       "    rubberband.mousedown('button_press', mouse_event_fn);\n",
       "    rubberband.mouseup('button_release', mouse_event_fn);\n",
       "    // Throttle sequential mouse events to 1 every 20ms.\n",
       "    rubberband.mousemove('motion_notify', mouse_event_fn);\n",
       "\n",
       "    rubberband.mouseenter('figure_enter', mouse_event_fn);\n",
       "    rubberband.mouseleave('figure_leave', mouse_event_fn);\n",
       "\n",
       "    canvas_div.on(\"wheel\", function (event) {\n",
       "        event = event.originalEvent;\n",
       "        event['data'] = 'scroll'\n",
       "        if (event.deltaY < 0) {\n",
       "            event.step = 1;\n",
       "        } else {\n",
       "            event.step = -1;\n",
       "        }\n",
       "        mouse_event_fn(event);\n",
       "    });\n",
       "\n",
       "    canvas_div.append(canvas);\n",
       "    canvas_div.append(rubberband);\n",
       "\n",
       "    this.rubberband = rubberband;\n",
       "    this.rubberband_canvas = rubberband[0];\n",
       "    this.rubberband_context = rubberband[0].getContext(\"2d\");\n",
       "    this.rubberband_context.strokeStyle = \"#000000\";\n",
       "\n",
       "    this._resize_canvas = function(width, height) {\n",
       "        // Keep the size of the canvas, canvas container, and rubber band\n",
       "        // canvas in synch.\n",
       "        canvas_div.css('width', width)\n",
       "        canvas_div.css('height', height)\n",
       "\n",
       "        canvas.attr('width', width * mpl.ratio);\n",
       "        canvas.attr('height', height * mpl.ratio);\n",
       "        canvas.attr('style', 'width: ' + width + 'px; height: ' + height + 'px;');\n",
       "\n",
       "        rubberband.attr('width', width);\n",
       "        rubberband.attr('height', height);\n",
       "    }\n",
       "\n",
       "    // Set the figure to an initial 600x600px, this will subsequently be updated\n",
       "    // upon first draw.\n",
       "    this._resize_canvas(600, 600);\n",
       "\n",
       "    // Disable right mouse context menu.\n",
       "    $(this.rubberband_canvas).bind(\"contextmenu\",function(e){\n",
       "        return false;\n",
       "    });\n",
       "\n",
       "    function set_focus () {\n",
       "        canvas.focus();\n",
       "        canvas_div.focus();\n",
       "    }\n",
       "\n",
       "    window.setTimeout(set_focus, 100);\n",
       "}\n",
       "\n",
       "mpl.figure.prototype._init_toolbar = function() {\n",
       "    var fig = this;\n",
       "\n",
       "    var nav_element = $('<div/>')\n",
       "    nav_element.attr('style', 'width: 100%');\n",
       "    this.root.append(nav_element);\n",
       "\n",
       "    // Define a callback function for later on.\n",
       "    function toolbar_event(event) {\n",
       "        return fig.toolbar_button_onclick(event['data']);\n",
       "    }\n",
       "    function toolbar_mouse_event(event) {\n",
       "        return fig.toolbar_button_onmouseover(event['data']);\n",
       "    }\n",
       "\n",
       "    for(var toolbar_ind in mpl.toolbar_items) {\n",
       "        var name = mpl.toolbar_items[toolbar_ind][0];\n",
       "        var tooltip = mpl.toolbar_items[toolbar_ind][1];\n",
       "        var image = mpl.toolbar_items[toolbar_ind][2];\n",
       "        var method_name = mpl.toolbar_items[toolbar_ind][3];\n",
       "\n",
       "        if (!name) {\n",
       "            // put a spacer in here.\n",
       "            continue;\n",
       "        }\n",
       "        var button = $('<button/>');\n",
       "        button.addClass('ui-button ui-widget ui-state-default ui-corner-all ' +\n",
       "                        'ui-button-icon-only');\n",
       "        button.attr('role', 'button');\n",
       "        button.attr('aria-disabled', 'false');\n",
       "        button.click(method_name, toolbar_event);\n",
       "        button.mouseover(tooltip, toolbar_mouse_event);\n",
       "\n",
       "        var icon_img = $('<span/>');\n",
       "        icon_img.addClass('ui-button-icon-primary ui-icon');\n",
       "        icon_img.addClass(image);\n",
       "        icon_img.addClass('ui-corner-all');\n",
       "\n",
       "        var tooltip_span = $('<span/>');\n",
       "        tooltip_span.addClass('ui-button-text');\n",
       "        tooltip_span.html(tooltip);\n",
       "\n",
       "        button.append(icon_img);\n",
       "        button.append(tooltip_span);\n",
       "\n",
       "        nav_element.append(button);\n",
       "    }\n",
       "\n",
       "    var fmt_picker_span = $('<span/>');\n",
       "\n",
       "    var fmt_picker = $('<select/>');\n",
       "    fmt_picker.addClass('mpl-toolbar-option ui-widget ui-widget-content');\n",
       "    fmt_picker_span.append(fmt_picker);\n",
       "    nav_element.append(fmt_picker_span);\n",
       "    this.format_dropdown = fmt_picker[0];\n",
       "\n",
       "    for (var ind in mpl.extensions) {\n",
       "        var fmt = mpl.extensions[ind];\n",
       "        var option = $(\n",
       "            '<option/>', {selected: fmt === mpl.default_extension}).html(fmt);\n",
       "        fmt_picker.append(option)\n",
       "    }\n",
       "\n",
       "    // Add hover states to the ui-buttons\n",
       "    $( \".ui-button\" ).hover(\n",
       "        function() { $(this).addClass(\"ui-state-hover\");},\n",
       "        function() { $(this).removeClass(\"ui-state-hover\");}\n",
       "    );\n",
       "\n",
       "    var status_bar = $('<span class=\"mpl-message\"/>');\n",
       "    nav_element.append(status_bar);\n",
       "    this.message = status_bar[0];\n",
       "}\n",
       "\n",
       "mpl.figure.prototype.request_resize = function(x_pixels, y_pixels) {\n",
       "    // Request matplotlib to resize the figure. Matplotlib will then trigger a resize in the client,\n",
       "    // which will in turn request a refresh of the image.\n",
       "    this.send_message('resize', {'width': x_pixels, 'height': y_pixels});\n",
       "}\n",
       "\n",
       "mpl.figure.prototype.send_message = function(type, properties) {\n",
       "    properties['type'] = type;\n",
       "    properties['figure_id'] = this.id;\n",
       "    this.ws.send(JSON.stringify(properties));\n",
       "}\n",
       "\n",
       "mpl.figure.prototype.send_draw_message = function() {\n",
       "    if (!this.waiting) {\n",
       "        this.waiting = true;\n",
       "        this.ws.send(JSON.stringify({type: \"draw\", figure_id: this.id}));\n",
       "    }\n",
       "}\n",
       "\n",
       "\n",
       "mpl.figure.prototype.handle_save = function(fig, msg) {\n",
       "    var format_dropdown = fig.format_dropdown;\n",
       "    var format = format_dropdown.options[format_dropdown.selectedIndex].value;\n",
       "    fig.ondownload(fig, format);\n",
       "}\n",
       "\n",
       "\n",
       "mpl.figure.prototype.handle_resize = function(fig, msg) {\n",
       "    var size = msg['size'];\n",
       "    if (size[0] != fig.canvas.width || size[1] != fig.canvas.height) {\n",
       "        fig._resize_canvas(size[0], size[1]);\n",
       "        fig.send_message(\"refresh\", {});\n",
       "    };\n",
       "}\n",
       "\n",
       "mpl.figure.prototype.handle_rubberband = function(fig, msg) {\n",
       "    var x0 = msg['x0'] / mpl.ratio;\n",
       "    var y0 = (fig.canvas.height - msg['y0']) / mpl.ratio;\n",
       "    var x1 = msg['x1'] / mpl.ratio;\n",
       "    var y1 = (fig.canvas.height - msg['y1']) / mpl.ratio;\n",
       "    x0 = Math.floor(x0) + 0.5;\n",
       "    y0 = Math.floor(y0) + 0.5;\n",
       "    x1 = Math.floor(x1) + 0.5;\n",
       "    y1 = Math.floor(y1) + 0.5;\n",
       "    var min_x = Math.min(x0, x1);\n",
       "    var min_y = Math.min(y0, y1);\n",
       "    var width = Math.abs(x1 - x0);\n",
       "    var height = Math.abs(y1 - y0);\n",
       "\n",
       "    fig.rubberband_context.clearRect(\n",
       "        0, 0, fig.canvas.width, fig.canvas.height);\n",
       "\n",
       "    fig.rubberband_context.strokeRect(min_x, min_y, width, height);\n",
       "}\n",
       "\n",
       "mpl.figure.prototype.handle_figure_label = function(fig, msg) {\n",
       "    // Updates the figure title.\n",
       "    fig.header.textContent = msg['label'];\n",
       "}\n",
       "\n",
       "mpl.figure.prototype.handle_cursor = function(fig, msg) {\n",
       "    var cursor = msg['cursor'];\n",
       "    switch(cursor)\n",
       "    {\n",
       "    case 0:\n",
       "        cursor = 'pointer';\n",
       "        break;\n",
       "    case 1:\n",
       "        cursor = 'default';\n",
       "        break;\n",
       "    case 2:\n",
       "        cursor = 'crosshair';\n",
       "        break;\n",
       "    case 3:\n",
       "        cursor = 'move';\n",
       "        break;\n",
       "    }\n",
       "    fig.rubberband_canvas.style.cursor = cursor;\n",
       "}\n",
       "\n",
       "mpl.figure.prototype.handle_message = function(fig, msg) {\n",
       "    fig.message.textContent = msg['message'];\n",
       "}\n",
       "\n",
       "mpl.figure.prototype.handle_draw = function(fig, msg) {\n",
       "    // Request the server to send over a new figure.\n",
       "    fig.send_draw_message();\n",
       "}\n",
       "\n",
       "mpl.figure.prototype.handle_image_mode = function(fig, msg) {\n",
       "    fig.image_mode = msg['mode'];\n",
       "}\n",
       "\n",
       "mpl.figure.prototype.updated_canvas_event = function() {\n",
       "    // Called whenever the canvas gets updated.\n",
       "    this.send_message(\"ack\", {});\n",
       "}\n",
       "\n",
       "// A function to construct a web socket function for onmessage handling.\n",
       "// Called in the figure constructor.\n",
       "mpl.figure.prototype._make_on_message_function = function(fig) {\n",
       "    return function socket_on_message(evt) {\n",
       "        if (evt.data instanceof Blob) {\n",
       "            /* FIXME: We get \"Resource interpreted as Image but\n",
       "             * transferred with MIME type text/plain:\" errors on\n",
       "             * Chrome.  But how to set the MIME type?  It doesn't seem\n",
       "             * to be part of the websocket stream */\n",
       "            evt.data.type = \"image/png\";\n",
       "\n",
       "            /* Free the memory for the previous frames */\n",
       "            if (fig.imageObj.src) {\n",
       "                (window.URL || window.webkitURL).revokeObjectURL(\n",
       "                    fig.imageObj.src);\n",
       "            }\n",
       "\n",
       "            fig.imageObj.src = (window.URL || window.webkitURL).createObjectURL(\n",
       "                evt.data);\n",
       "            fig.updated_canvas_event();\n",
       "            fig.waiting = false;\n",
       "            return;\n",
       "        }\n",
       "        else if (typeof evt.data === 'string' && evt.data.slice(0, 21) == \"data:image/png;base64\") {\n",
       "            fig.imageObj.src = evt.data;\n",
       "            fig.updated_canvas_event();\n",
       "            fig.waiting = false;\n",
       "            return;\n",
       "        }\n",
       "\n",
       "        var msg = JSON.parse(evt.data);\n",
       "        var msg_type = msg['type'];\n",
       "\n",
       "        // Call the  \"handle_{type}\" callback, which takes\n",
       "        // the figure and JSON message as its only arguments.\n",
       "        try {\n",
       "            var callback = fig[\"handle_\" + msg_type];\n",
       "        } catch (e) {\n",
       "            console.log(\"No handler for the '\" + msg_type + \"' message type: \", msg);\n",
       "            return;\n",
       "        }\n",
       "\n",
       "        if (callback) {\n",
       "            try {\n",
       "                // console.log(\"Handling '\" + msg_type + \"' message: \", msg);\n",
       "                callback(fig, msg);\n",
       "            } catch (e) {\n",
       "                console.log(\"Exception inside the 'handler_\" + msg_type + \"' callback:\", e, e.stack, msg);\n",
       "            }\n",
       "        }\n",
       "    };\n",
       "}\n",
       "\n",
       "// from http://stackoverflow.com/questions/1114465/getting-mouse-location-in-canvas\n",
       "mpl.findpos = function(e) {\n",
       "    //this section is from http://www.quirksmode.org/js/events_properties.html\n",
       "    var targ;\n",
       "    if (!e)\n",
       "        e = window.event;\n",
       "    if (e.target)\n",
       "        targ = e.target;\n",
       "    else if (e.srcElement)\n",
       "        targ = e.srcElement;\n",
       "    if (targ.nodeType == 3) // defeat Safari bug\n",
       "        targ = targ.parentNode;\n",
       "\n",
       "    // jQuery normalizes the pageX and pageY\n",
       "    // pageX,Y are the mouse positions relative to the document\n",
       "    // offset() returns the position of the element relative to the document\n",
       "    var x = e.pageX - $(targ).offset().left;\n",
       "    var y = e.pageY - $(targ).offset().top;\n",
       "\n",
       "    return {\"x\": x, \"y\": y};\n",
       "};\n",
       "\n",
       "/*\n",
       " * return a copy of an object with only non-object keys\n",
       " * we need this to avoid circular references\n",
       " * http://stackoverflow.com/a/24161582/3208463\n",
       " */\n",
       "function simpleKeys (original) {\n",
       "  return Object.keys(original).reduce(function (obj, key) {\n",
       "    if (typeof original[key] !== 'object')\n",
       "        obj[key] = original[key]\n",
       "    return obj;\n",
       "  }, {});\n",
       "}\n",
       "\n",
       "mpl.figure.prototype.mouse_event = function(event, name) {\n",
       "    var canvas_pos = mpl.findpos(event)\n",
       "\n",
       "    if (name === 'button_press')\n",
       "    {\n",
       "        this.canvas.focus();\n",
       "        this.canvas_div.focus();\n",
       "    }\n",
       "\n",
       "    var x = canvas_pos.x * mpl.ratio;\n",
       "    var y = canvas_pos.y * mpl.ratio;\n",
       "\n",
       "    this.send_message(name, {x: x, y: y, button: event.button,\n",
       "                             step: event.step,\n",
       "                             guiEvent: simpleKeys(event)});\n",
       "\n",
       "    /* This prevents the web browser from automatically changing to\n",
       "     * the text insertion cursor when the button is pressed.  We want\n",
       "     * to control all of the cursor setting manually through the\n",
       "     * 'cursor' event from matplotlib */\n",
       "    event.preventDefault();\n",
       "    return false;\n",
       "}\n",
       "\n",
       "mpl.figure.prototype._key_event_extra = function(event, name) {\n",
       "    // Handle any extra behaviour associated with a key event\n",
       "}\n",
       "\n",
       "mpl.figure.prototype.key_event = function(event, name) {\n",
       "\n",
       "    // Prevent repeat events\n",
       "    if (name == 'key_press')\n",
       "    {\n",
       "        if (event.which === this._key)\n",
       "            return;\n",
       "        else\n",
       "            this._key = event.which;\n",
       "    }\n",
       "    if (name == 'key_release')\n",
       "        this._key = null;\n",
       "\n",
       "    var value = '';\n",
       "    if (event.ctrlKey && event.which != 17)\n",
       "        value += \"ctrl+\";\n",
       "    if (event.altKey && event.which != 18)\n",
       "        value += \"alt+\";\n",
       "    if (event.shiftKey && event.which != 16)\n",
       "        value += \"shift+\";\n",
       "\n",
       "    value += 'k';\n",
       "    value += event.which.toString();\n",
       "\n",
       "    this._key_event_extra(event, name);\n",
       "\n",
       "    this.send_message(name, {key: value,\n",
       "                             guiEvent: simpleKeys(event)});\n",
       "    return false;\n",
       "}\n",
       "\n",
       "mpl.figure.prototype.toolbar_button_onclick = function(name) {\n",
       "    if (name == 'download') {\n",
       "        this.handle_save(this, null);\n",
       "    } else {\n",
       "        this.send_message(\"toolbar_button\", {name: name});\n",
       "    }\n",
       "};\n",
       "\n",
       "mpl.figure.prototype.toolbar_button_onmouseover = function(tooltip) {\n",
       "    this.message.textContent = tooltip;\n",
       "};\n",
       "mpl.toolbar_items = [[\"Home\", \"Reset original view\", \"fa fa-home icon-home\", \"home\"], [\"Back\", \"Back to  previous view\", \"fa fa-arrow-left icon-arrow-left\", \"back\"], [\"Forward\", \"Forward to next view\", \"fa fa-arrow-right icon-arrow-right\", \"forward\"], [\"\", \"\", \"\", \"\"], [\"Pan\", \"Pan axes with left mouse, zoom with right\", \"fa fa-arrows icon-move\", \"pan\"], [\"Zoom\", \"Zoom to rectangle\", \"fa fa-square-o icon-check-empty\", \"zoom\"], [\"\", \"\", \"\", \"\"], [\"Download\", \"Download plot\", \"fa fa-floppy-o icon-save\", \"download\"]];\n",
       "\n",
       "mpl.extensions = [\"eps\", \"jpeg\", \"pdf\", \"png\", \"ps\", \"raw\", \"svg\", \"tif\"];\n",
       "\n",
       "mpl.default_extension = \"png\";var comm_websocket_adapter = function(comm) {\n",
       "    // Create a \"websocket\"-like object which calls the given IPython comm\n",
       "    // object with the appropriate methods. Currently this is a non binary\n",
       "    // socket, so there is still some room for performance tuning.\n",
       "    var ws = {};\n",
       "\n",
       "    ws.close = function() {\n",
       "        comm.close()\n",
       "    };\n",
       "    ws.send = function(m) {\n",
       "        //console.log('sending', m);\n",
       "        comm.send(m);\n",
       "    };\n",
       "    // Register the callback with on_msg.\n",
       "    comm.on_msg(function(msg) {\n",
       "        //console.log('receiving', msg['content']['data'], msg);\n",
       "        // Pass the mpl event to the overriden (by mpl) onmessage function.\n",
       "        ws.onmessage(msg['content']['data'])\n",
       "    });\n",
       "    return ws;\n",
       "}\n",
       "\n",
       "mpl.mpl_figure_comm = function(comm, msg) {\n",
       "    // This is the function which gets called when the mpl process\n",
       "    // starts-up an IPython Comm through the \"matplotlib\" channel.\n",
       "\n",
       "    var id = msg.content.data.id;\n",
       "    // Get hold of the div created by the display call when the Comm\n",
       "    // socket was opened in Python.\n",
       "    var element = $(\"#\" + id);\n",
       "    var ws_proxy = comm_websocket_adapter(comm)\n",
       "\n",
       "    function ondownload(figure, format) {\n",
       "        window.open(figure.imageObj.src);\n",
       "    }\n",
       "\n",
       "    var fig = new mpl.figure(id, ws_proxy,\n",
       "                           ondownload,\n",
       "                           element.get(0));\n",
       "\n",
       "    // Call onopen now - mpl needs it, as it is assuming we've passed it a real\n",
       "    // web socket which is closed, not our websocket->open comm proxy.\n",
       "    ws_proxy.onopen();\n",
       "\n",
       "    fig.parent_element = element.get(0);\n",
       "    fig.cell_info = mpl.find_output_cell(\"<div id='\" + id + \"'></div>\");\n",
       "    if (!fig.cell_info) {\n",
       "        console.error(\"Failed to find cell for figure\", id, fig);\n",
       "        return;\n",
       "    }\n",
       "\n",
       "    var output_index = fig.cell_info[2]\n",
       "    var cell = fig.cell_info[0];\n",
       "\n",
       "};\n",
       "\n",
       "mpl.figure.prototype.handle_close = function(fig, msg) {\n",
       "    var width = fig.canvas.width/mpl.ratio\n",
       "    fig.root.unbind('remove')\n",
       "\n",
       "    // Update the output cell to use the data from the current canvas.\n",
       "    fig.push_to_output();\n",
       "    var dataURL = fig.canvas.toDataURL();\n",
       "    // Re-enable the keyboard manager in IPython - without this line, in FF,\n",
       "    // the notebook keyboard shortcuts fail.\n",
       "    IPython.keyboard_manager.enable()\n",
       "    $(fig.parent_element).html('<img src=\"' + dataURL + '\" width=\"' + width + '\">');\n",
       "    fig.close_ws(fig, msg);\n",
       "}\n",
       "\n",
       "mpl.figure.prototype.close_ws = function(fig, msg){\n",
       "    fig.send_message('closing', msg);\n",
       "    // fig.ws.close()\n",
       "}\n",
       "\n",
       "mpl.figure.prototype.push_to_output = function(remove_interactive) {\n",
       "    // Turn the data on the canvas into data in the output cell.\n",
       "    var width = this.canvas.width/mpl.ratio\n",
       "    var dataURL = this.canvas.toDataURL();\n",
       "    this.cell_info[1]['text/html'] = '<img src=\"' + dataURL + '\" width=\"' + width + '\">';\n",
       "}\n",
       "\n",
       "mpl.figure.prototype.updated_canvas_event = function() {\n",
       "    // Tell IPython that the notebook contents must change.\n",
       "    IPython.notebook.set_dirty(true);\n",
       "    this.send_message(\"ack\", {});\n",
       "    var fig = this;\n",
       "    // Wait a second, then push the new image to the DOM so\n",
       "    // that it is saved nicely (might be nice to debounce this).\n",
       "    setTimeout(function () { fig.push_to_output() }, 1000);\n",
       "}\n",
       "\n",
       "mpl.figure.prototype._init_toolbar = function() {\n",
       "    var fig = this;\n",
       "\n",
       "    var nav_element = $('<div/>')\n",
       "    nav_element.attr('style', 'width: 100%');\n",
       "    this.root.append(nav_element);\n",
       "\n",
       "    // Define a callback function for later on.\n",
       "    function toolbar_event(event) {\n",
       "        return fig.toolbar_button_onclick(event['data']);\n",
       "    }\n",
       "    function toolbar_mouse_event(event) {\n",
       "        return fig.toolbar_button_onmouseover(event['data']);\n",
       "    }\n",
       "\n",
       "    for(var toolbar_ind in mpl.toolbar_items){\n",
       "        var name = mpl.toolbar_items[toolbar_ind][0];\n",
       "        var tooltip = mpl.toolbar_items[toolbar_ind][1];\n",
       "        var image = mpl.toolbar_items[toolbar_ind][2];\n",
       "        var method_name = mpl.toolbar_items[toolbar_ind][3];\n",
       "\n",
       "        if (!name) { continue; };\n",
       "\n",
       "        var button = $('<button class=\"btn btn-default\" href=\"#\" title=\"' + name + '\"><i class=\"fa ' + image + ' fa-lg\"></i></button>');\n",
       "        button.click(method_name, toolbar_event);\n",
       "        button.mouseover(tooltip, toolbar_mouse_event);\n",
       "        nav_element.append(button);\n",
       "    }\n",
       "\n",
       "    // Add the status bar.\n",
       "    var status_bar = $('<span class=\"mpl-message\" style=\"text-align:right; float: right;\"/>');\n",
       "    nav_element.append(status_bar);\n",
       "    this.message = status_bar[0];\n",
       "\n",
       "    // Add the close button to the window.\n",
       "    var buttongrp = $('<div class=\"btn-group inline pull-right\"></div>');\n",
       "    var button = $('<button class=\"btn btn-mini btn-primary\" href=\"#\" title=\"Stop Interaction\"><i class=\"fa fa-power-off icon-remove icon-large\"></i></button>');\n",
       "    button.click(function (evt) { fig.handle_close(fig, {}); } );\n",
       "    button.mouseover('Stop Interaction', toolbar_mouse_event);\n",
       "    buttongrp.append(button);\n",
       "    var titlebar = this.root.find($('.ui-dialog-titlebar'));\n",
       "    titlebar.prepend(buttongrp);\n",
       "}\n",
       "\n",
       "mpl.figure.prototype._root_extra_style = function(el){\n",
       "    var fig = this\n",
       "    el.on(\"remove\", function(){\n",
       "\tfig.close_ws(fig, {});\n",
       "    });\n",
       "}\n",
       "\n",
       "mpl.figure.prototype._canvas_extra_style = function(el){\n",
       "    // this is important to make the div 'focusable\n",
       "    el.attr('tabindex', 0)\n",
       "    // reach out to IPython and tell the keyboard manager to turn it's self\n",
       "    // off when our div gets focus\n",
       "\n",
       "    // location in version 3\n",
       "    if (IPython.notebook.keyboard_manager) {\n",
       "        IPython.notebook.keyboard_manager.register_events(el);\n",
       "    }\n",
       "    else {\n",
       "        // location in version 2\n",
       "        IPython.keyboard_manager.register_events(el);\n",
       "    }\n",
       "\n",
       "}\n",
       "\n",
       "mpl.figure.prototype._key_event_extra = function(event, name) {\n",
       "    var manager = IPython.notebook.keyboard_manager;\n",
       "    if (!manager)\n",
       "        manager = IPython.keyboard_manager;\n",
       "\n",
       "    // Check for shift+enter\n",
       "    if (event.shiftKey && event.which == 13) {\n",
       "        this.canvas_div.blur();\n",
       "        // select the cell after this one\n",
       "        var index = IPython.notebook.find_cell_index(this.cell_info[0]);\n",
       "        IPython.notebook.select(index + 1);\n",
       "    }\n",
       "}\n",
       "\n",
       "mpl.figure.prototype.handle_save = function(fig, msg) {\n",
       "    fig.ondownload(fig, null);\n",
       "}\n",
       "\n",
       "\n",
       "mpl.find_output_cell = function(html_output) {\n",
       "    // Return the cell and output element which can be found *uniquely* in the notebook.\n",
       "    // Note - this is a bit hacky, but it is done because the \"notebook_saving.Notebook\"\n",
       "    // IPython event is triggered only after the cells have been serialised, which for\n",
       "    // our purposes (turning an active figure into a static one), is too late.\n",
       "    var cells = IPython.notebook.get_cells();\n",
       "    var ncells = cells.length;\n",
       "    for (var i=0; i<ncells; i++) {\n",
       "        var cell = cells[i];\n",
       "        if (cell.cell_type === 'code'){\n",
       "            for (var j=0; j<cell.output_area.outputs.length; j++) {\n",
       "                var data = cell.output_area.outputs[j];\n",
       "                if (data.data) {\n",
       "                    // IPython >= 3 moved mimebundle to data attribute of output\n",
       "                    data = data.data;\n",
       "                }\n",
       "                if (data['text/html'] == html_output) {\n",
       "                    return [cell, data, j];\n",
       "                }\n",
       "            }\n",
       "        }\n",
       "    }\n",
       "}\n",
       "\n",
       "// Register the function which deals with the matplotlib target/channel.\n",
       "// The kernel may be null if the page has been refreshed.\n",
       "if (IPython.notebook.kernel != null) {\n",
       "    IPython.notebook.kernel.comm_manager.register_target('matplotlib', mpl.mpl_figure_comm);\n",
       "}\n"
      ],
      "text/plain": [
       "<IPython.core.display.Javascript object>"
      ]
     },
     "metadata": {},
     "output_type": "display_data"
    },
    {
     "data": {
      "text/html": [
       "<img src=\"data:image/png;base64,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\" width=\"640\">"
      ],
      "text/plain": [
       "<IPython.core.display.HTML object>"
      ]
     },
     "metadata": {},
     "output_type": "display_data"
    },
    {
     "data": {
      "text/plain": [
       "[<matplotlib.lines.Line2D at 0x84d41d0>]"
      ]
     },
     "execution_count": 23,
     "metadata": {},
     "output_type": "execute_result"
    }
   ],
   "source": [
    "%matplotlib notebook\n",
    "plt.plot(h.traces[1].samples)"
   ]
  },
  {
   "cell_type": "code",
   "execution_count": 24,
   "metadata": {
    "collapsed": false
   },
   "outputs": [
    {
     "data": {
      "text/plain": [
       "8192"
      ]
     },
     "execution_count": 24,
     "metadata": {},
     "output_type": "execute_result"
    }
   ],
   "source": [
    "h.distributions[0].stop_time"
   ]
  },
  {
   "cell_type": "code",
   "execution_count": 20,
   "metadata": {
    "collapsed": false
   },
   "outputs": [
    {
     "data": {
      "application/javascript": [
       "/* Put everything inside the global mpl namespace */\n",
       "window.mpl = {};\n",
       "\n",
       "\n",
       "mpl.get_websocket_type = function() {\n",
       "    if (typeof(WebSocket) !== 'undefined') {\n",
       "        return WebSocket;\n",
       "    } else if (typeof(MozWebSocket) !== 'undefined') {\n",
       "        return MozWebSocket;\n",
       "    } else {\n",
       "        alert('Your browser does not have WebSocket support.' +\n",
       "              'Please try Chrome, Safari or Firefox ≥ 6. ' +\n",
       "              'Firefox 4 and 5 are also supported but you ' +\n",
       "              'have to enable WebSockets in about:config.');\n",
       "    };\n",
       "}\n",
       "\n",
       "mpl.figure = function(figure_id, websocket, ondownload, parent_element) {\n",
       "    this.id = figure_id;\n",
       "\n",
       "    this.ws = websocket;\n",
       "\n",
       "    this.supports_binary = (this.ws.binaryType != undefined);\n",
       "\n",
       "    if (!this.supports_binary) {\n",
       "        var warnings = document.getElementById(\"mpl-warnings\");\n",
       "        if (warnings) {\n",
       "            warnings.style.display = 'block';\n",
       "            warnings.textContent = (\n",
       "                \"This browser does not support binary websocket messages. \" +\n",
       "                    \"Performance may be slow.\");\n",
       "        }\n",
       "    }\n",
       "\n",
       "    this.imageObj = new Image();\n",
       "\n",
       "    this.context = undefined;\n",
       "    this.message = undefined;\n",
       "    this.canvas = undefined;\n",
       "    this.rubberband_canvas = undefined;\n",
       "    this.rubberband_context = undefined;\n",
       "    this.format_dropdown = undefined;\n",
       "\n",
       "    this.image_mode = 'full';\n",
       "\n",
       "    this.root = $('<div/>');\n",
       "    this._root_extra_style(this.root)\n",
       "    this.root.attr('style', 'display: inline-block');\n",
       "\n",
       "    $(parent_element).append(this.root);\n",
       "\n",
       "    this._init_header(this);\n",
       "    this._init_canvas(this);\n",
       "    this._init_toolbar(this);\n",
       "\n",
       "    var fig = this;\n",
       "\n",
       "    this.waiting = false;\n",
       "\n",
       "    this.ws.onopen =  function () {\n",
       "            fig.send_message(\"supports_binary\", {value: fig.supports_binary});\n",
       "            fig.send_message(\"send_image_mode\", {});\n",
       "            if (mpl.ratio != 1) {\n",
       "                fig.send_message(\"set_dpi_ratio\", {'dpi_ratio': mpl.ratio});\n",
       "            }\n",
       "            fig.send_message(\"refresh\", {});\n",
       "        }\n",
       "\n",
       "    this.imageObj.onload = function() {\n",
       "            if (fig.image_mode == 'full') {\n",
       "                // Full images could contain transparency (where diff images\n",
       "                // almost always do), so we need to clear the canvas so that\n",
       "                // there is no ghosting.\n",
       "                fig.context.clearRect(0, 0, fig.canvas.width, fig.canvas.height);\n",
       "            }\n",
       "            fig.context.drawImage(fig.imageObj, 0, 0);\n",
       "        };\n",
       "\n",
       "    this.imageObj.onunload = function() {\n",
       "        this.ws.close();\n",
       "    }\n",
       "\n",
       "    this.ws.onmessage = this._make_on_message_function(this);\n",
       "\n",
       "    this.ondownload = ondownload;\n",
       "}\n",
       "\n",
       "mpl.figure.prototype._init_header = function() {\n",
       "    var titlebar = $(\n",
       "        '<div class=\"ui-dialog-titlebar ui-widget-header ui-corner-all ' +\n",
       "        'ui-helper-clearfix\"/>');\n",
       "    var titletext = $(\n",
       "        '<div class=\"ui-dialog-title\" style=\"width: 100%; ' +\n",
       "        'text-align: center; padding: 3px;\"/>');\n",
       "    titlebar.append(titletext)\n",
       "    this.root.append(titlebar);\n",
       "    this.header = titletext[0];\n",
       "}\n",
       "\n",
       "\n",
       "\n",
       "mpl.figure.prototype._canvas_extra_style = function(canvas_div) {\n",
       "\n",
       "}\n",
       "\n",
       "\n",
       "mpl.figure.prototype._root_extra_style = function(canvas_div) {\n",
       "\n",
       "}\n",
       "\n",
       "mpl.figure.prototype._init_canvas = function() {\n",
       "    var fig = this;\n",
       "\n",
       "    var canvas_div = $('<div/>');\n",
       "\n",
       "    canvas_div.attr('style', 'position: relative; clear: both; outline: 0');\n",
       "\n",
       "    function canvas_keyboard_event(event) {\n",
       "        return fig.key_event(event, event['data']);\n",
       "    }\n",
       "\n",
       "    canvas_div.keydown('key_press', canvas_keyboard_event);\n",
       "    canvas_div.keyup('key_release', canvas_keyboard_event);\n",
       "    this.canvas_div = canvas_div\n",
       "    this._canvas_extra_style(canvas_div)\n",
       "    this.root.append(canvas_div);\n",
       "\n",
       "    var canvas = $('<canvas/>');\n",
       "    canvas.addClass('mpl-canvas');\n",
       "    canvas.attr('style', \"left: 0; top: 0; z-index: 0; outline: 0\")\n",
       "\n",
       "    this.canvas = canvas[0];\n",
       "    this.context = canvas[0].getContext(\"2d\");\n",
       "\n",
       "    var backingStore = this.context.backingStorePixelRatio ||\n",
       "\tthis.context.webkitBackingStorePixelRatio ||\n",
       "\tthis.context.mozBackingStorePixelRatio ||\n",
       "\tthis.context.msBackingStorePixelRatio ||\n",
       "\tthis.context.oBackingStorePixelRatio ||\n",
       "\tthis.context.backingStorePixelRatio || 1;\n",
       "\n",
       "    mpl.ratio = (window.devicePixelRatio || 1) / backingStore;\n",
       "\n",
       "    var rubberband = $('<canvas/>');\n",
       "    rubberband.attr('style', \"position: absolute; left: 0; top: 0; z-index: 1;\")\n",
       "\n",
       "    var pass_mouse_events = true;\n",
       "\n",
       "    canvas_div.resizable({\n",
       "        start: function(event, ui) {\n",
       "            pass_mouse_events = false;\n",
       "        },\n",
       "        resize: function(event, ui) {\n",
       "            fig.request_resize(ui.size.width, ui.size.height);\n",
       "        },\n",
       "        stop: function(event, ui) {\n",
       "            pass_mouse_events = true;\n",
       "            fig.request_resize(ui.size.width, ui.size.height);\n",
       "        },\n",
       "    });\n",
       "\n",
       "    function mouse_event_fn(event) {\n",
       "        if (pass_mouse_events)\n",
       "            return fig.mouse_event(event, event['data']);\n",
       "    }\n",
       "\n",
       "    rubberband.mousedown('button_press', mouse_event_fn);\n",
       "    rubberband.mouseup('button_release', mouse_event_fn);\n",
       "    // Throttle sequential mouse events to 1 every 20ms.\n",
       "    rubberband.mousemove('motion_notify', mouse_event_fn);\n",
       "\n",
       "    rubberband.mouseenter('figure_enter', mouse_event_fn);\n",
       "    rubberband.mouseleave('figure_leave', mouse_event_fn);\n",
       "\n",
       "    canvas_div.on(\"wheel\", function (event) {\n",
       "        event = event.originalEvent;\n",
       "        event['data'] = 'scroll'\n",
       "        if (event.deltaY < 0) {\n",
       "            event.step = 1;\n",
       "        } else {\n",
       "            event.step = -1;\n",
       "        }\n",
       "        mouse_event_fn(event);\n",
       "    });\n",
       "\n",
       "    canvas_div.append(canvas);\n",
       "    canvas_div.append(rubberband);\n",
       "\n",
       "    this.rubberband = rubberband;\n",
       "    this.rubberband_canvas = rubberband[0];\n",
       "    this.rubberband_context = rubberband[0].getContext(\"2d\");\n",
       "    this.rubberband_context.strokeStyle = \"#000000\";\n",
       "\n",
       "    this._resize_canvas = function(width, height) {\n",
       "        // Keep the size of the canvas, canvas container, and rubber band\n",
       "        // canvas in synch.\n",
       "        canvas_div.css('width', width)\n",
       "        canvas_div.css('height', height)\n",
       "\n",
       "        canvas.attr('width', width * mpl.ratio);\n",
       "        canvas.attr('height', height * mpl.ratio);\n",
       "        canvas.attr('style', 'width: ' + width + 'px; height: ' + height + 'px;');\n",
       "\n",
       "        rubberband.attr('width', width);\n",
       "        rubberband.attr('height', height);\n",
       "    }\n",
       "\n",
       "    // Set the figure to an initial 600x600px, this will subsequently be updated\n",
       "    // upon first draw.\n",
       "    this._resize_canvas(600, 600);\n",
       "\n",
       "    // Disable right mouse context menu.\n",
       "    $(this.rubberband_canvas).bind(\"contextmenu\",function(e){\n",
       "        return false;\n",
       "    });\n",
       "\n",
       "    function set_focus () {\n",
       "        canvas.focus();\n",
       "        canvas_div.focus();\n",
       "    }\n",
       "\n",
       "    window.setTimeout(set_focus, 100);\n",
       "}\n",
       "\n",
       "mpl.figure.prototype._init_toolbar = function() {\n",
       "    var fig = this;\n",
       "\n",
       "    var nav_element = $('<div/>')\n",
       "    nav_element.attr('style', 'width: 100%');\n",
       "    this.root.append(nav_element);\n",
       "\n",
       "    // Define a callback function for later on.\n",
       "    function toolbar_event(event) {\n",
       "        return fig.toolbar_button_onclick(event['data']);\n",
       "    }\n",
       "    function toolbar_mouse_event(event) {\n",
       "        return fig.toolbar_button_onmouseover(event['data']);\n",
       "    }\n",
       "\n",
       "    for(var toolbar_ind in mpl.toolbar_items) {\n",
       "        var name = mpl.toolbar_items[toolbar_ind][0];\n",
       "        var tooltip = mpl.toolbar_items[toolbar_ind][1];\n",
       "        var image = mpl.toolbar_items[toolbar_ind][2];\n",
       "        var method_name = mpl.toolbar_items[toolbar_ind][3];\n",
       "\n",
       "        if (!name) {\n",
       "            // put a spacer in here.\n",
       "            continue;\n",
       "        }\n",
       "        var button = $('<button/>');\n",
       "        button.addClass('ui-button ui-widget ui-state-default ui-corner-all ' +\n",
       "                        'ui-button-icon-only');\n",
       "        button.attr('role', 'button');\n",
       "        button.attr('aria-disabled', 'false');\n",
       "        button.click(method_name, toolbar_event);\n",
       "        button.mouseover(tooltip, toolbar_mouse_event);\n",
       "\n",
       "        var icon_img = $('<span/>');\n",
       "        icon_img.addClass('ui-button-icon-primary ui-icon');\n",
       "        icon_img.addClass(image);\n",
       "        icon_img.addClass('ui-corner-all');\n",
       "\n",
       "        var tooltip_span = $('<span/>');\n",
       "        tooltip_span.addClass('ui-button-text');\n",
       "        tooltip_span.html(tooltip);\n",
       "\n",
       "        button.append(icon_img);\n",
       "        button.append(tooltip_span);\n",
       "\n",
       "        nav_element.append(button);\n",
       "    }\n",
       "\n",
       "    var fmt_picker_span = $('<span/>');\n",
       "\n",
       "    var fmt_picker = $('<select/>');\n",
       "    fmt_picker.addClass('mpl-toolbar-option ui-widget ui-widget-content');\n",
       "    fmt_picker_span.append(fmt_picker);\n",
       "    nav_element.append(fmt_picker_span);\n",
       "    this.format_dropdown = fmt_picker[0];\n",
       "\n",
       "    for (var ind in mpl.extensions) {\n",
       "        var fmt = mpl.extensions[ind];\n",
       "        var option = $(\n",
       "            '<option/>', {selected: fmt === mpl.default_extension}).html(fmt);\n",
       "        fmt_picker.append(option)\n",
       "    }\n",
       "\n",
       "    // Add hover states to the ui-buttons\n",
       "    $( \".ui-button\" ).hover(\n",
       "        function() { $(this).addClass(\"ui-state-hover\");},\n",
       "        function() { $(this).removeClass(\"ui-state-hover\");}\n",
       "    );\n",
       "\n",
       "    var status_bar = $('<span class=\"mpl-message\"/>');\n",
       "    nav_element.append(status_bar);\n",
       "    this.message = status_bar[0];\n",
       "}\n",
       "\n",
       "mpl.figure.prototype.request_resize = function(x_pixels, y_pixels) {\n",
       "    // Request matplotlib to resize the figure. Matplotlib will then trigger a resize in the client,\n",
       "    // which will in turn request a refresh of the image.\n",
       "    this.send_message('resize', {'width': x_pixels, 'height': y_pixels});\n",
       "}\n",
       "\n",
       "mpl.figure.prototype.send_message = function(type, properties) {\n",
       "    properties['type'] = type;\n",
       "    properties['figure_id'] = this.id;\n",
       "    this.ws.send(JSON.stringify(properties));\n",
       "}\n",
       "\n",
       "mpl.figure.prototype.send_draw_message = function() {\n",
       "    if (!this.waiting) {\n",
       "        this.waiting = true;\n",
       "        this.ws.send(JSON.stringify({type: \"draw\", figure_id: this.id}));\n",
       "    }\n",
       "}\n",
       "\n",
       "\n",
       "mpl.figure.prototype.handle_save = function(fig, msg) {\n",
       "    var format_dropdown = fig.format_dropdown;\n",
       "    var format = format_dropdown.options[format_dropdown.selectedIndex].value;\n",
       "    fig.ondownload(fig, format);\n",
       "}\n",
       "\n",
       "\n",
       "mpl.figure.prototype.handle_resize = function(fig, msg) {\n",
       "    var size = msg['size'];\n",
       "    if (size[0] != fig.canvas.width || size[1] != fig.canvas.height) {\n",
       "        fig._resize_canvas(size[0], size[1]);\n",
       "        fig.send_message(\"refresh\", {});\n",
       "    };\n",
       "}\n",
       "\n",
       "mpl.figure.prototype.handle_rubberband = function(fig, msg) {\n",
       "    var x0 = msg['x0'] / mpl.ratio;\n",
       "    var y0 = (fig.canvas.height - msg['y0']) / mpl.ratio;\n",
       "    var x1 = msg['x1'] / mpl.ratio;\n",
       "    var y1 = (fig.canvas.height - msg['y1']) / mpl.ratio;\n",
       "    x0 = Math.floor(x0) + 0.5;\n",
       "    y0 = Math.floor(y0) + 0.5;\n",
       "    x1 = Math.floor(x1) + 0.5;\n",
       "    y1 = Math.floor(y1) + 0.5;\n",
       "    var min_x = Math.min(x0, x1);\n",
       "    var min_y = Math.min(y0, y1);\n",
       "    var width = Math.abs(x1 - x0);\n",
       "    var height = Math.abs(y1 - y0);\n",
       "\n",
       "    fig.rubberband_context.clearRect(\n",
       "        0, 0, fig.canvas.width, fig.canvas.height);\n",
       "\n",
       "    fig.rubberband_context.strokeRect(min_x, min_y, width, height);\n",
       "}\n",
       "\n",
       "mpl.figure.prototype.handle_figure_label = function(fig, msg) {\n",
       "    // Updates the figure title.\n",
       "    fig.header.textContent = msg['label'];\n",
       "}\n",
       "\n",
       "mpl.figure.prototype.handle_cursor = function(fig, msg) {\n",
       "    var cursor = msg['cursor'];\n",
       "    switch(cursor)\n",
       "    {\n",
       "    case 0:\n",
       "        cursor = 'pointer';\n",
       "        break;\n",
       "    case 1:\n",
       "        cursor = 'default';\n",
       "        break;\n",
       "    case 2:\n",
       "        cursor = 'crosshair';\n",
       "        break;\n",
       "    case 3:\n",
       "        cursor = 'move';\n",
       "        break;\n",
       "    }\n",
       "    fig.rubberband_canvas.style.cursor = cursor;\n",
       "}\n",
       "\n",
       "mpl.figure.prototype.handle_message = function(fig, msg) {\n",
       "    fig.message.textContent = msg['message'];\n",
       "}\n",
       "\n",
       "mpl.figure.prototype.handle_draw = function(fig, msg) {\n",
       "    // Request the server to send over a new figure.\n",
       "    fig.send_draw_message();\n",
       "}\n",
       "\n",
       "mpl.figure.prototype.handle_image_mode = function(fig, msg) {\n",
       "    fig.image_mode = msg['mode'];\n",
       "}\n",
       "\n",
       "mpl.figure.prototype.updated_canvas_event = function() {\n",
       "    // Called whenever the canvas gets updated.\n",
       "    this.send_message(\"ack\", {});\n",
       "}\n",
       "\n",
       "// A function to construct a web socket function for onmessage handling.\n",
       "// Called in the figure constructor.\n",
       "mpl.figure.prototype._make_on_message_function = function(fig) {\n",
       "    return function socket_on_message(evt) {\n",
       "        if (evt.data instanceof Blob) {\n",
       "            /* FIXME: We get \"Resource interpreted as Image but\n",
       "             * transferred with MIME type text/plain:\" errors on\n",
       "             * Chrome.  But how to set the MIME type?  It doesn't seem\n",
       "             * to be part of the websocket stream */\n",
       "            evt.data.type = \"image/png\";\n",
       "\n",
       "            /* Free the memory for the previous frames */\n",
       "            if (fig.imageObj.src) {\n",
       "                (window.URL || window.webkitURL).revokeObjectURL(\n",
       "                    fig.imageObj.src);\n",
       "            }\n",
       "\n",
       "            fig.imageObj.src = (window.URL || window.webkitURL).createObjectURL(\n",
       "                evt.data);\n",
       "            fig.updated_canvas_event();\n",
       "            fig.waiting = false;\n",
       "            return;\n",
       "        }\n",
       "        else if (typeof evt.data === 'string' && evt.data.slice(0, 21) == \"data:image/png;base64\") {\n",
       "            fig.imageObj.src = evt.data;\n",
       "            fig.updated_canvas_event();\n",
       "            fig.waiting = false;\n",
       "            return;\n",
       "        }\n",
       "\n",
       "        var msg = JSON.parse(evt.data);\n",
       "        var msg_type = msg['type'];\n",
       "\n",
       "        // Call the  \"handle_{type}\" callback, which takes\n",
       "        // the figure and JSON message as its only arguments.\n",
       "        try {\n",
       "            var callback = fig[\"handle_\" + msg_type];\n",
       "        } catch (e) {\n",
       "            console.log(\"No handler for the '\" + msg_type + \"' message type: \", msg);\n",
       "            return;\n",
       "        }\n",
       "\n",
       "        if (callback) {\n",
       "            try {\n",
       "                // console.log(\"Handling '\" + msg_type + \"' message: \", msg);\n",
       "                callback(fig, msg);\n",
       "            } catch (e) {\n",
       "                console.log(\"Exception inside the 'handler_\" + msg_type + \"' callback:\", e, e.stack, msg);\n",
       "            }\n",
       "        }\n",
       "    };\n",
       "}\n",
       "\n",
       "// from http://stackoverflow.com/questions/1114465/getting-mouse-location-in-canvas\n",
       "mpl.findpos = function(e) {\n",
       "    //this section is from http://www.quirksmode.org/js/events_properties.html\n",
       "    var targ;\n",
       "    if (!e)\n",
       "        e = window.event;\n",
       "    if (e.target)\n",
       "        targ = e.target;\n",
       "    else if (e.srcElement)\n",
       "        targ = e.srcElement;\n",
       "    if (targ.nodeType == 3) // defeat Safari bug\n",
       "        targ = targ.parentNode;\n",
       "\n",
       "    // jQuery normalizes the pageX and pageY\n",
       "    // pageX,Y are the mouse positions relative to the document\n",
       "    // offset() returns the position of the element relative to the document\n",
       "    var x = e.pageX - $(targ).offset().left;\n",
       "    var y = e.pageY - $(targ).offset().top;\n",
       "\n",
       "    return {\"x\": x, \"y\": y};\n",
       "};\n",
       "\n",
       "/*\n",
       " * return a copy of an object with only non-object keys\n",
       " * we need this to avoid circular references\n",
       " * http://stackoverflow.com/a/24161582/3208463\n",
       " */\n",
       "function simpleKeys (original) {\n",
       "  return Object.keys(original).reduce(function (obj, key) {\n",
       "    if (typeof original[key] !== 'object')\n",
       "        obj[key] = original[key]\n",
       "    return obj;\n",
       "  }, {});\n",
       "}\n",
       "\n",
       "mpl.figure.prototype.mouse_event = function(event, name) {\n",
       "    var canvas_pos = mpl.findpos(event)\n",
       "\n",
       "    if (name === 'button_press')\n",
       "    {\n",
       "        this.canvas.focus();\n",
       "        this.canvas_div.focus();\n",
       "    }\n",
       "\n",
       "    var x = canvas_pos.x * mpl.ratio;\n",
       "    var y = canvas_pos.y * mpl.ratio;\n",
       "\n",
       "    this.send_message(name, {x: x, y: y, button: event.button,\n",
       "                             step: event.step,\n",
       "                             guiEvent: simpleKeys(event)});\n",
       "\n",
       "    /* This prevents the web browser from automatically changing to\n",
       "     * the text insertion cursor when the button is pressed.  We want\n",
       "     * to control all of the cursor setting manually through the\n",
       "     * 'cursor' event from matplotlib */\n",
       "    event.preventDefault();\n",
       "    return false;\n",
       "}\n",
       "\n",
       "mpl.figure.prototype._key_event_extra = function(event, name) {\n",
       "    // Handle any extra behaviour associated with a key event\n",
       "}\n",
       "\n",
       "mpl.figure.prototype.key_event = function(event, name) {\n",
       "\n",
       "    // Prevent repeat events\n",
       "    if (name == 'key_press')\n",
       "    {\n",
       "        if (event.which === this._key)\n",
       "            return;\n",
       "        else\n",
       "            this._key = event.which;\n",
       "    }\n",
       "    if (name == 'key_release')\n",
       "        this._key = null;\n",
       "\n",
       "    var value = '';\n",
       "    if (event.ctrlKey && event.which != 17)\n",
       "        value += \"ctrl+\";\n",
       "    if (event.altKey && event.which != 18)\n",
       "        value += \"alt+\";\n",
       "    if (event.shiftKey && event.which != 16)\n",
       "        value += \"shift+\";\n",
       "\n",
       "    value += 'k';\n",
       "    value += event.which.toString();\n",
       "\n",
       "    this._key_event_extra(event, name);\n",
       "\n",
       "    this.send_message(name, {key: value,\n",
       "                             guiEvent: simpleKeys(event)});\n",
       "    return false;\n",
       "}\n",
       "\n",
       "mpl.figure.prototype.toolbar_button_onclick = function(name) {\n",
       "    if (name == 'download') {\n",
       "        this.handle_save(this, null);\n",
       "    } else {\n",
       "        this.send_message(\"toolbar_button\", {name: name});\n",
       "    }\n",
       "};\n",
       "\n",
       "mpl.figure.prototype.toolbar_button_onmouseover = function(tooltip) {\n",
       "    this.message.textContent = tooltip;\n",
       "};\n",
       "mpl.toolbar_items = [[\"Home\", \"Reset original view\", \"fa fa-home icon-home\", \"home\"], [\"Back\", \"Back to  previous view\", \"fa fa-arrow-left icon-arrow-left\", \"back\"], [\"Forward\", \"Forward to next view\", \"fa fa-arrow-right icon-arrow-right\", \"forward\"], [\"\", \"\", \"\", \"\"], [\"Pan\", \"Pan axes with left mouse, zoom with right\", \"fa fa-arrows icon-move\", \"pan\"], [\"Zoom\", \"Zoom to rectangle\", \"fa fa-square-o icon-check-empty\", \"zoom\"], [\"\", \"\", \"\", \"\"], [\"Download\", \"Download plot\", \"fa fa-floppy-o icon-save\", \"download\"]];\n",
       "\n",
       "mpl.extensions = [\"eps\", \"jpeg\", \"pdf\", \"png\", \"ps\", \"raw\", \"svg\", \"tif\"];\n",
       "\n",
       "mpl.default_extension = \"png\";var comm_websocket_adapter = function(comm) {\n",
       "    // Create a \"websocket\"-like object which calls the given IPython comm\n",
       "    // object with the appropriate methods. Currently this is a non binary\n",
       "    // socket, so there is still some room for performance tuning.\n",
       "    var ws = {};\n",
       "\n",
       "    ws.close = function() {\n",
       "        comm.close()\n",
       "    };\n",
       "    ws.send = function(m) {\n",
       "        //console.log('sending', m);\n",
       "        comm.send(m);\n",
       "    };\n",
       "    // Register the callback with on_msg.\n",
       "    comm.on_msg(function(msg) {\n",
       "        //console.log('receiving', msg['content']['data'], msg);\n",
       "        // Pass the mpl event to the overriden (by mpl) onmessage function.\n",
       "        ws.onmessage(msg['content']['data'])\n",
       "    });\n",
       "    return ws;\n",
       "}\n",
       "\n",
       "mpl.mpl_figure_comm = function(comm, msg) {\n",
       "    // This is the function which gets called when the mpl process\n",
       "    // starts-up an IPython Comm through the \"matplotlib\" channel.\n",
       "\n",
       "    var id = msg.content.data.id;\n",
       "    // Get hold of the div created by the display call when the Comm\n",
       "    // socket was opened in Python.\n",
       "    var element = $(\"#\" + id);\n",
       "    var ws_proxy = comm_websocket_adapter(comm)\n",
       "\n",
       "    function ondownload(figure, format) {\n",
       "        window.open(figure.imageObj.src);\n",
       "    }\n",
       "\n",
       "    var fig = new mpl.figure(id, ws_proxy,\n",
       "                           ondownload,\n",
       "                           element.get(0));\n",
       "\n",
       "    // Call onopen now - mpl needs it, as it is assuming we've passed it a real\n",
       "    // web socket which is closed, not our websocket->open comm proxy.\n",
       "    ws_proxy.onopen();\n",
       "\n",
       "    fig.parent_element = element.get(0);\n",
       "    fig.cell_info = mpl.find_output_cell(\"<div id='\" + id + \"'></div>\");\n",
       "    if (!fig.cell_info) {\n",
       "        console.error(\"Failed to find cell for figure\", id, fig);\n",
       "        return;\n",
       "    }\n",
       "\n",
       "    var output_index = fig.cell_info[2]\n",
       "    var cell = fig.cell_info[0];\n",
       "\n",
       "};\n",
       "\n",
       "mpl.figure.prototype.handle_close = function(fig, msg) {\n",
       "    var width = fig.canvas.width/mpl.ratio\n",
       "    fig.root.unbind('remove')\n",
       "\n",
       "    // Update the output cell to use the data from the current canvas.\n",
       "    fig.push_to_output();\n",
       "    var dataURL = fig.canvas.toDataURL();\n",
       "    // Re-enable the keyboard manager in IPython - without this line, in FF,\n",
       "    // the notebook keyboard shortcuts fail.\n",
       "    IPython.keyboard_manager.enable()\n",
       "    $(fig.parent_element).html('<img src=\"' + dataURL + '\" width=\"' + width + '\">');\n",
       "    fig.close_ws(fig, msg);\n",
       "}\n",
       "\n",
       "mpl.figure.prototype.close_ws = function(fig, msg){\n",
       "    fig.send_message('closing', msg);\n",
       "    // fig.ws.close()\n",
       "}\n",
       "\n",
       "mpl.figure.prototype.push_to_output = function(remove_interactive) {\n",
       "    // Turn the data on the canvas into data in the output cell.\n",
       "    var width = this.canvas.width/mpl.ratio\n",
       "    var dataURL = this.canvas.toDataURL();\n",
       "    this.cell_info[1]['text/html'] = '<img src=\"' + dataURL + '\" width=\"' + width + '\">';\n",
       "}\n",
       "\n",
       "mpl.figure.prototype.updated_canvas_event = function() {\n",
       "    // Tell IPython that the notebook contents must change.\n",
       "    IPython.notebook.set_dirty(true);\n",
       "    this.send_message(\"ack\", {});\n",
       "    var fig = this;\n",
       "    // Wait a second, then push the new image to the DOM so\n",
       "    // that it is saved nicely (might be nice to debounce this).\n",
       "    setTimeout(function () { fig.push_to_output() }, 1000);\n",
       "}\n",
       "\n",
       "mpl.figure.prototype._init_toolbar = function() {\n",
       "    var fig = this;\n",
       "\n",
       "    var nav_element = $('<div/>')\n",
       "    nav_element.attr('style', 'width: 100%');\n",
       "    this.root.append(nav_element);\n",
       "\n",
       "    // Define a callback function for later on.\n",
       "    function toolbar_event(event) {\n",
       "        return fig.toolbar_button_onclick(event['data']);\n",
       "    }\n",
       "    function toolbar_mouse_event(event) {\n",
       "        return fig.toolbar_button_onmouseover(event['data']);\n",
       "    }\n",
       "\n",
       "    for(var toolbar_ind in mpl.toolbar_items){\n",
       "        var name = mpl.toolbar_items[toolbar_ind][0];\n",
       "        var tooltip = mpl.toolbar_items[toolbar_ind][1];\n",
       "        var image = mpl.toolbar_items[toolbar_ind][2];\n",
       "        var method_name = mpl.toolbar_items[toolbar_ind][3];\n",
       "\n",
       "        if (!name) { continue; };\n",
       "\n",
       "        var button = $('<button class=\"btn btn-default\" href=\"#\" title=\"' + name + '\"><i class=\"fa ' + image + ' fa-lg\"></i></button>');\n",
       "        button.click(method_name, toolbar_event);\n",
       "        button.mouseover(tooltip, toolbar_mouse_event);\n",
       "        nav_element.append(button);\n",
       "    }\n",
       "\n",
       "    // Add the status bar.\n",
       "    var status_bar = $('<span class=\"mpl-message\" style=\"text-align:right; float: right;\"/>');\n",
       "    nav_element.append(status_bar);\n",
       "    this.message = status_bar[0];\n",
       "\n",
       "    // Add the close button to the window.\n",
       "    var buttongrp = $('<div class=\"btn-group inline pull-right\"></div>');\n",
       "    var button = $('<button class=\"btn btn-mini btn-primary\" href=\"#\" title=\"Stop Interaction\"><i class=\"fa fa-power-off icon-remove icon-large\"></i></button>');\n",
       "    button.click(function (evt) { fig.handle_close(fig, {}); } );\n",
       "    button.mouseover('Stop Interaction', toolbar_mouse_event);\n",
       "    buttongrp.append(button);\n",
       "    var titlebar = this.root.find($('.ui-dialog-titlebar'));\n",
       "    titlebar.prepend(buttongrp);\n",
       "}\n",
       "\n",
       "mpl.figure.prototype._root_extra_style = function(el){\n",
       "    var fig = this\n",
       "    el.on(\"remove\", function(){\n",
       "\tfig.close_ws(fig, {});\n",
       "    });\n",
       "}\n",
       "\n",
       "mpl.figure.prototype._canvas_extra_style = function(el){\n",
       "    // this is important to make the div 'focusable\n",
       "    el.attr('tabindex', 0)\n",
       "    // reach out to IPython and tell the keyboard manager to turn it's self\n",
       "    // off when our div gets focus\n",
       "\n",
       "    // location in version 3\n",
       "    if (IPython.notebook.keyboard_manager) {\n",
       "        IPython.notebook.keyboard_manager.register_events(el);\n",
       "    }\n",
       "    else {\n",
       "        // location in version 2\n",
       "        IPython.keyboard_manager.register_events(el);\n",
       "    }\n",
       "\n",
       "}\n",
       "\n",
       "mpl.figure.prototype._key_event_extra = function(event, name) {\n",
       "    var manager = IPython.notebook.keyboard_manager;\n",
       "    if (!manager)\n",
       "        manager = IPython.keyboard_manager;\n",
       "\n",
       "    // Check for shift+enter\n",
       "    if (event.shiftKey && event.which == 13) {\n",
       "        this.canvas_div.blur();\n",
       "        // select the cell after this one\n",
       "        var index = IPython.notebook.find_cell_index(this.cell_info[0]);\n",
       "        IPython.notebook.select(index + 1);\n",
       "    }\n",
       "}\n",
       "\n",
       "mpl.figure.prototype.handle_save = function(fig, msg) {\n",
       "    fig.ondownload(fig, null);\n",
       "}\n",
       "\n",
       "\n",
       "mpl.find_output_cell = function(html_output) {\n",
       "    // Return the cell and output element which can be found *uniquely* in the notebook.\n",
       "    // Note - this is a bit hacky, but it is done because the \"notebook_saving.Notebook\"\n",
       "    // IPython event is triggered only after the cells have been serialised, which for\n",
       "    // our purposes (turning an active figure into a static one), is too late.\n",
       "    var cells = IPython.notebook.get_cells();\n",
       "    var ncells = cells.length;\n",
       "    for (var i=0; i<ncells; i++) {\n",
       "        var cell = cells[i];\n",
       "        if (cell.cell_type === 'code'){\n",
       "            for (var j=0; j<cell.output_area.outputs.length; j++) {\n",
       "                var data = cell.output_area.outputs[j];\n",
       "                if (data.data) {\n",
       "                    // IPython >= 3 moved mimebundle to data attribute of output\n",
       "                    data = data.data;\n",
       "                }\n",
       "                if (data['text/html'] == html_output) {\n",
       "                    return [cell, data, j];\n",
       "                }\n",
       "            }\n",
       "        }\n",
       "    }\n",
       "}\n",
       "\n",
       "// Register the function which deals with the matplotlib target/channel.\n",
       "// The kernel may be null if the page has been refreshed.\n",
       "if (IPython.notebook.kernel != null) {\n",
       "    IPython.notebook.kernel.comm_manager.register_target('matplotlib', mpl.mpl_figure_comm);\n",
       "}\n"
      ],
      "text/plain": [
       "<IPython.core.display.Javascript object>"
      ]
     },
     "metadata": {},
     "output_type": "display_data"
    },
    {
     "data": {
      "text/html": [
       "<img src=\"data:image/png;base64,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\" width=\"640\">"
      ],
      "text/plain": [
       "<IPython.core.display.HTML object>"
      ]
     },
     "metadata": {},
     "output_type": "display_data"
    },
    {
     "data": {
      "text/plain": [
       "[<matplotlib.lines.Line2D at 0x844a828>]"
      ]
     },
     "execution_count": 20,
     "metadata": {},
     "output_type": "execute_result"
    }
   ],
   "source": [
    "%matplotlib notebook\n",
    "plt.plot(h.distributions[0].bins,'.')"
   ]
  },
  {
   "cell_type": "code",
   "execution_count": null,
   "metadata": {
    "collapsed": false
   },
   "outputs": [],
   "source": [
    "h.frames[1].payload_type"
   ]
  },
  {
   "cell_type": "code",
   "execution_count": null,
   "metadata": {
    "collapsed": false
   },
   "outputs": [],
   "source": [
    "h.frames[52].payload"
   ]
  },
  {
   "cell_type": "code",
   "execution_count": null,
   "metadata": {
    "collapsed": false
   },
   "outputs": [],
   "source": [
    "frame_header_dt.names"
   ]
  },
  {
   "cell_type": "code",
   "execution_count": 25,
   "metadata": {
    "collapsed": false
   },
   "outputs": [],
   "source": [
    "h.close()"
   ]
  },
  {
   "cell_type": "code",
   "execution_count": null,
   "metadata": {
    "collapsed": false
   },
   "outputs": [],
   "source": [
    "stream=Data.fromfile('bytestream',stream_dt,'teslib','measurement_subsystem_TB',tool='vivado')\n",
    "packets=_PacketData(stream)\n",
    "del stream\n",
    "# _import(packets)\n",
    "# h=h5py.File('TES.hdf5','r')"
   ]
  },
  {
   "cell_type": "code",
   "execution_count": null,
   "metadata": {
    "collapsed": false
   },
   "outputs": [],
   "source": [
    "packets[1]['data']"
   ]
  },
  {
   "cell_type": "code",
   "execution_count": null,
   "metadata": {
    "collapsed": false
   },
   "outputs": [],
   "source": [
    "packets[51]\n"
   ]
  },
  {
   "cell_type": "code",
   "execution_count": null,
   "metadata": {
    "collapsed": false
   },
   "outputs": [],
   "source": [
    "h.close()"
   ]
  },
  {
   "cell_type": "code",
   "execution_count": null,
   "metadata": {
    "collapsed": false
   },
   "outputs": [],
   "source": [
    "len(h['traces'])"
   ]
  },
  {
   "cell_type": "code",
   "execution_count": null,
   "metadata": {
    "collapsed": false
   },
   "outputs": [],
   "source": [
    "t=h['raw_data/event'][h['traces'][5]]"
   ]
  },
  {
   "cell_type": "code",
   "execution_count": null,
   "metadata": {
    "collapsed": false
   },
   "outputs": [],
   "source": [
    "%matplotlib notebook\n",
    "t=h['raw_data/event'][h['traces'][5]]\n",
    "tr=Trace(t)\n",
    "print(tr.flags,'\\n',tr.trace_flags)\n",
    "plt.plot(tr.samples)"
   ]
  },
  {
   "cell_type": "code",
   "execution_count": null,
   "metadata": {
    "collapsed": false
   },
   "outputs": [],
   "source": [
    "tr"
   ]
  },
  {
   "cell_type": "code",
   "execution_count": null,
   "metadata": {
    "collapsed": false
   },
   "outputs": [],
   "source": [
    "s=str(tr.flags)\n",
    "s"
   ]
  },
  {
   "cell_type": "code",
   "execution_count": null,
   "metadata": {
    "collapsed": false
   },
   "outputs": [],
   "source": [
    "print(s)"
   ]
  },
  {
   "cell_type": "code",
   "execution_count": null,
   "metadata": {
    "collapsed": false
   },
   "outputs": [],
   "source": [
    "type(h['raw_data/event'][h['traces'][0]])"
   ]
  },
  {
   "cell_type": "code",
   "execution_count": null,
   "metadata": {
    "collapsed": true
   },
   "outputs": [],
   "source": [
    "from tes.hdf5 import Trace"
   ]
  },
  {
   "cell_type": "code",
   "execution_count": null,
   "metadata": {
    "collapsed": false
   },
   "outputs": [],
   "source": [
    "tr.flags"
   ]
  },
  {
   "cell_type": "code",
   "execution_count": null,
   "metadata": {
    "collapsed": false
   },
   "outputs": [],
   "source": [
    "tr.trace_flags"
   ]
  },
  {
   "cell_type": "code",
   "execution_count": null,
   "metadata": {
    "collapsed": false
   },
   "outputs": [],
   "source": [
    "%matplotlib notebook\n",
    "plt.plot(tr.samples)"
   ]
  },
  {
   "cell_type": "code",
   "execution_count": null,
   "metadata": {
    "collapsed": false
   },
   "outputs": [],
   "source": [
    "len(tr.samples)"
   ]
  },
  {
   "cell_type": "code",
   "execution_count": null,
   "metadata": {
    "collapsed": false
   },
   "outputs": [],
   "source": [
    "first_dt = np.dtype([('size', np.uint16), ('tflags0', np.uint8), ('tflags1', np.uint8),\n",
    "        ('flags0', np.uint8), ('flags1', np.uint8), ('time', np.uint16)])\n",
    "\n"
   ]
  },
  {
   "cell_type": "code",
   "execution_count": null,
   "metadata": {
    "collapsed": false
   },
   "outputs": [],
   "source": []
  },
  {
   "cell_type": "code",
   "execution_count": null,
   "metadata": {
    "collapsed": false
   },
   "outputs": [],
   "source": [
    "t[0:8].view(first_dt)"
   ]
  },
  {
   "cell_type": "code",
   "execution_count": null,
   "metadata": {
    "collapsed": true
   },
   "outputs": [],
   "source": []
  },
  {
   "cell_type": "code",
   "execution_count": null,
   "metadata": {
    "collapsed": false
   },
   "outputs": [],
   "source": [
    "_rref = h5py.special_dtype(ref=h5py.RegionReference)\n",
    "h=h5py.File('test.hdf5', 'w')"
   ]
  },
  {
   "cell_type": "code",
   "execution_count": null,
   "metadata": {
    "collapsed": false
   },
   "outputs": [],
   "source": [
    "h.close()"
   ]
  },
  {
   "cell_type": "code",
   "execution_count": null,
   "metadata": {
    "collapsed": false
   },
   "outputs": [],
   "source": [
    "t= np.array((10,),'u1')\n",
    "h.create_dataset('t',(10,),dtype='u1')"
   ]
  },
  {
   "cell_type": "code",
   "execution_count": null,
   "metadata": {
    "collapsed": false
   },
   "outputs": [],
   "source": [
    "h.create_dataset('r',(10,),dtype=_rref)"
   ]
  },
  {
   "cell_type": "code",
   "execution_count": null,
   "metadata": {
    "collapsed": false
   },
   "outputs": [],
   "source": [
    "h.create_dataset('s',(10,),dtype='u1')"
   ]
  },
  {
   "cell_type": "code",
   "execution_count": null,
   "metadata": {
    "collapsed": true
   },
   "outputs": [],
   "source": [
    "h['s'][0]=0\n",
    "h['s'][1]=1"
   ]
  },
  {
   "cell_type": "code",
   "execution_count": null,
   "metadata": {
    "collapsed": false
   },
   "outputs": [],
   "source": [
    "h['r'][0]=h['t'].regionref[0:2]"
   ]
  },
  {
   "cell_type": "code",
   "execution_count": null,
   "metadata": {
    "collapsed": true
   },
   "outputs": [],
   "source": [
    "r=h['r'][0]"
   ]
  },
  {
   "cell_type": "code",
   "execution_count": null,
   "metadata": {
    "collapsed": false
   },
   "outputs": [],
   "source": [
    "t= np.array([0,1,2],'u1')"
   ]
  },
  {
   "cell_type": "code",
   "execution_count": null,
   "metadata": {
    "collapsed": false
   },
   "outputs": [],
   "source": [
    "t = [0,1]\n",
    "\n",
    "f = np.uint64(0)\n",
    "print(type(f))\n",
    "f += len(t)\n",
    "print(type(f))"
   ]
  },
  {
   "cell_type": "code",
   "execution_count": null,
   "metadata": {
    "collapsed": false
   },
   "outputs": [],
   "source": [
    "t[0:1][0]"
   ]
  },
  {
   "cell_type": "code",
   "execution_count": null,
   "metadata": {
    "collapsed": false
   },
   "outputs": [],
   "source": [
    "i=0\n",
    "for p in packets:\n",
    "    if i==7:\n",
    "        break\n",
    "    i+=1"
   ]
  },
  {
   "cell_type": "code",
   "execution_count": null,
   "metadata": {
    "collapsed": false
   },
   "outputs": [],
   "source": [
    "p"
   ]
  },
  {
   "cell_type": "code",
   "execution_count": null,
   "metadata": {
    "collapsed": true
   },
   "outputs": [],
   "source": [
    "lasts = np.where(stream['last'] < 0)[0] + 1"
   ]
  },
  {
   "cell_type": "code",
   "execution_count": null,
   "metadata": {
    "collapsed": false
   },
   "outputs": [],
   "source": [
    "lasts"
   ]
  },
  {
   "cell_type": "code",
   "execution_count": null,
   "metadata": {
    "collapsed": false
   },
   "outputs": [],
   "source": [
    "'last' in stream.dtype.names"
   ]
  },
  {
   "cell_type": "code",
   "execution_count": null,
   "metadata": {
    "collapsed": false
   },
   "outputs": [],
   "source": [
    "isinstance(stream,np.ndarray)"
   ]
  },
  {
   "cell_type": "code",
   "execution_count": null,
   "metadata": {
    "collapsed": false
   },
   "outputs": [],
   "source": [
    "type('poo')"
   ]
  },
  {
   "cell_type": "code",
   "execution_count": null,
   "metadata": {
    "collapsed": false
   },
   "outputs": [],
   "source": [
    "stream[lasts[0]:]"
   ]
  },
  {
   "cell_type": "code",
   "execution_count": null,
   "metadata": {
    "collapsed": false
   },
   "outputs": [],
   "source": [
    "ps=PacketStream(stream)\n",
    "# ps.traces"
   ]
  },
  {
   "cell_type": "code",
   "execution_count": null,
   "metadata": {
    "collapsed": false
   },
   "outputs": [],
   "source": [
    "type(ps[0])"
   ]
  },
  {
   "cell_type": "code",
   "execution_count": null,
   "metadata": {
    "collapsed": false
   },
   "outputs": [],
   "source": [
    "sum(stream['last']<0)"
   ]
  },
  {
   "cell_type": "code",
   "execution_count": null,
   "metadata": {
    "collapsed": false
   },
   "outputs": [],
   "source": [
    "%matplotlib notebook\n",
    "\n",
    "plt.plot(ps.traces[3]._view['trace'])\n",
    "# ps.traces[2]._view['trace'][-20:]"
   ]
  },
  {
   "cell_type": "code",
   "execution_count": null,
   "metadata": {
    "collapsed": false
   },
   "outputs": [],
   "source": [
    "ps.traces"
   ]
  },
  {
   "cell_type": "code",
   "execution_count": null,
   "metadata": {
    "collapsed": false,
    "run_control": {
     "frozen": false,
     "read_only": false
    },
    "scrolled": true
   },
   "outputs": [],
   "source": [
    "traces=Data.fromfile('traces',trace_dt,'teslib','measurement_subsystem_TB',tool='vivado')\n",
    "stream=Data.fromfile('bytestream',stream_dt,'teslib','measurement_subsystem_TB',tool='vivado')\n",
    "bs=PacketStream(stream)\n",
    "dists=bs.distributions\n",
    "#bs.packets\n",
    "dists"
   ]
  },
  {
   "cell_type": "code",
   "execution_count": null,
   "metadata": {
    "collapsed": false
   },
   "outputs": [],
   "source": [
    "d=dists[0]\n",
    "d.counts[-1]"
   ]
  },
  {
   "cell_type": "code",
   "execution_count": null,
   "metadata": {
    "collapsed": false
   },
   "outputs": [],
   "source": [
    "d.total+d.underflow+d.overflow"
   ]
  },
  {
   "cell_type": "code",
   "execution_count": null,
   "metadata": {
    "collapsed": false
   },
   "outputs": [],
   "source": [
    "%matplotlib notebook\n",
    "plt.plot(d.bins)"
   ]
  },
  {
   "cell_type": "code",
   "execution_count": null,
   "metadata": {
    "collapsed": false,
    "scrolled": false
   },
   "outputs": [],
   "source": [
    "f=EventFlags(es[2][2]['flags'])\n",
    "f.channel"
   ]
  },
  {
   "cell_type": "code",
   "execution_count": null,
   "metadata": {
    "collapsed": false,
    "run_control": {
     "frozen": false,
     "read_only": false
    },
    "scrolled": true
   },
   "outputs": [],
   "source": [
    "import tes.mca as mca\n",
    "d=bs.distributions[0]\n",
    "eset=np.uint64(1)\n",
    "bset=np.uint64(0)\n",
    "cset=np.uint64(20)\n",
    "\n",
    "stop=d.stop_time+eset+cset\n",
    "start=d.start_time+bset+cset\n",
    "bins=np.zeros((d.last_bin+1,),dtype=np.uint32)\n",
    "\n",
    "if d.value==mca.Value.raw_signal:\n",
    "    tname='raw'\n",
    "elif d.value==mca.Value.filtered_signal:\n",
    "    tname='filtered'\n",
    "elif d.value==mca.Value.slope_signal:\n",
    "    tname='slope'\n",
    "\n",
    "for i in range(start,stop):\n",
    "    s = traces[tname][i]\n",
    "    if s < d.lowest_value:\n",
    "        bins[0] += 1\n",
    "    else:\n",
    "        bin_number = s - d.lowest_value + 1\n",
    "        if bin_number < d.last_bin:\n",
    "            bins[bin_number] += 1\n",
    "        else:\n",
    "            bins[d.last_bin] += 1\n",
    "        \n",
    "bad=(bins-d.counts).nonzero()\n",
    "bad"
   ]
  },
  {
   "cell_type": "code",
   "execution_count": null,
   "metadata": {
    "collapsed": false
   },
   "outputs": [],
   "source": [
    "d.counts[bad][1:10]"
   ]
  },
  {
   "cell_type": "code",
   "execution_count": null,
   "metadata": {
    "collapsed": false
   },
   "outputs": [],
   "source": [
    "bins[bad][1:10]"
   ]
  },
  {
   "cell_type": "code",
   "execution_count": null,
   "metadata": {
    "collapsed": false
   },
   "outputs": [],
   "source": [
    "d.value"
   ]
  },
  {
   "cell_type": "code",
   "execution_count": null,
   "metadata": {
    "collapsed": false,
    "scrolled": false
   },
   "outputs": [],
   "source": [
    "%matplotlib notebook\n",
    "plt.step(np.arange(len(d.bins)),d.bins)\n",
    "# plt.step(np.arange(len(d.counts)),bins)\n",
    "plt.plot(bad,np.zeros_like(bad),'.k')"
   ]
  },
  {
   "cell_type": "code",
   "execution_count": null,
   "metadata": {
    "collapsed": false
   },
   "outputs": [],
   "source": [
    "sum(d.counts)"
   ]
  },
  {
   "cell_type": "code",
   "execution_count": null,
   "metadata": {
    "collapsed": false
   },
   "outputs": [],
   "source": [
    "2**14+2000"
   ]
  },
  {
   "cell_type": "code",
   "execution_count": null,
   "metadata": {
    "collapsed": false,
    "run_control": {
     "frozen": false,
     "read_only": false
    }
   },
   "outputs": [],
   "source": [
    "def plot_event(event_tupple):\n",
    "    pre=200\n",
    "    post=1000\n",
    "    timestamp=event_tupple[0]\n",
    "    event_type=event_tupple[1]\n",
    "    event=event_tupple[2]\n",
    "    flags=EventFlags(event['flags'])\n",
    "    print(flags)\n",
    "    print('timestamp',timestamp, 'time', event['time'])\n",
    "    if flags.type == Event.tick:\n",
    "        return\n",
    "    s=traces['filtered'][timestamp+20-pre:timestamp+20+post]\n",
    "    r=traces['raw'][timestamp+20-pre:timestamp+20+post]\n",
    "    i = np.where(abs(minmax['clk'])<=timestamp+20)[0][-1]\n",
    "    min_t=abs(minmax['clk'][i])-(timestamp+20)\n",
    "#     print(minmax['clk'][i],min_t,i,timestamp)\n",
    "    plt.plot(r,'k',linewidth=0.5)\n",
    "    plt.plot(s,'b',linewidth=2)\n",
    "    plt.plot([pre],s[pre],'sg')\n",
    "    plt.plot([pre+min_t],minmax['filtered'][i],'sr')\n",
    "    if event_type==Event.pulse:\n",
    "        for i in range(flags.peak_number):\n",
    "            p=event['peaks'][i]\n",
    "            plt.plot([0,len(s)-1],[p['height'],p['height']],':r')\n",
    "    else:\n",
    "      plt.plot([0,len(s)-1],[event['height'],event['height']],':r')\n",
    "        \n",
    "    #print(event['height'],event['minima'])\n",
    "    #print(minmax['filtered'][i]==s[pre+min_t])\n",
    "    #print(minmax['filtered'][i]==event['minima'])\n",
    "    #print(s[pre],s[pre-1])"
   ]
  },
  {
   "cell_type": "code",
   "execution_count": null,
   "metadata": {
    "collapsed": false,
    "run_control": {
     "frozen": false,
     "read_only": false
    }
   },
   "outputs": [],
   "source": [
    "pwd"
   ]
  },
  {
   "cell_type": "code",
   "execution_count": null,
   "metadata": {
    "collapsed": false
   },
   "outputs": [],
   "source": [
    "es=bs.eventstream\n",
    "es"
   ]
  },
  {
   "cell_type": "code",
   "execution_count": null,
   "metadata": {
    "collapsed": false,
    "run_control": {
     "frozen": false,
     "read_only": false
    }
   },
   "outputs": [],
   "source": [
    "%matplotlib notebook\n",
    "for e in es:\n",
    "    if e[1]==Event.peak:\n",
    "        plot_event(e)"
   ]
  },
  {
   "cell_type": "code",
   "execution_count": null,
   "metadata": {
    "collapsed": false,
    "run_control": {
     "frozen": false,
     "read_only": false
    }
   },
   "outputs": [],
   "source": [
    "es"
   ]
  },
  {
   "cell_type": "code",
   "execution_count": null,
   "metadata": {
    "collapsed": false,
    "run_control": {
     "frozen": false,
     "read_only": false
    }
   },
   "outputs": [],
   "source": [
    "dists=bs.distributions\n",
    "dists"
   ]
  },
  {
   "cell_type": "code",
   "execution_count": null,
   "metadata": {
    "collapsed": false,
    "run_control": {
     "frozen": false,
     "read_only": false
    }
   },
   "outputs": [],
   "source": [
    "bs.packets[185].payload"
   ]
  },
  {
   "cell_type": "code",
   "execution_count": null,
   "metadata": {
    "collapsed": false,
    "run_control": {
     "frozen": false,
     "read_only": false
    }
   },
   "outputs": [],
   "source": [
    "d=bs.distributions[0]\n",
    "eset=np.uint64(1)\n",
    "bset=np.uint64(0)\n",
    "cset=np.uint64(20)\n",
    "\n",
    "stop=d.stop_time+eset+cset\n",
    "start=d.start_time+bset+cset\n",
    "bins=np.zeros((d.last_bin+1,),dtype=np.uint32)\n",
    "for i in range(start,stop):\n",
    "    s = traces['raw'][i]\n",
    "    if s <= d.lowest_value:\n",
    "        bins[0] += 1\n",
    "    else:\n",
    "        bins[s-d.lowest_value] += 1\n",
    "        \n",
    "(bins-d.counts).nonzero()"
   ]
  },
  {
   "cell_type": "code",
   "execution_count": null,
   "metadata": {
    "collapsed": false,
    "run_control": {
     "frozen": false,
     "read_only": false
    }
   },
   "outputs": [],
   "source": [
    "%matplotlib notebook\n",
    "plt.step(np.arange(len(d.counts)),d.counts)"
   ]
  },
  {
   "cell_type": "code",
   "execution_count": null,
   "metadata": {
    "collapsed": false,
    "run_control": {
     "frozen": false,
     "read_only": false
    }
   },
   "outputs": [],
   "source": [
    "bins[bins.nonzero()]"
   ]
  },
  {
   "cell_type": "code",
   "execution_count": null,
   "metadata": {
    "collapsed": false,
    "run_control": {
     "frozen": false,
     "read_only": false
    }
   },
   "outputs": [],
   "source": [
    "sum(d.counts)"
   ]
  },
  {
   "cell_type": "code",
   "execution_count": null,
   "metadata": {
    "collapsed": false,
    "run_control": {
     "frozen": false,
     "read_only": false
    }
   },
   "outputs": [],
   "source": [
    "2**14+2000"
   ]
  },
  {
   "cell_type": "code",
   "execution_count": null,
   "metadata": {
    "collapsed": false,
    "run_control": {
     "frozen": false,
     "read_only": false
    }
   },
   "outputs": [],
   "source": [
    "es[3][2]['timestamp']-es[0][2]['timestamp']"
   ]
  },
  {
   "cell_type": "code",
   "execution_count": null,
   "metadata": {
    "collapsed": true,
    "run_control": {
     "frozen": false,
     "read_only": false
    }
   },
   "outputs": [],
   "source": [
    "def xings(s, thresh):\n",
    "    pos=s > thresh\n",
    "    neg=s < thresh\n",
    "    pos0=s >= thresh\n",
    "    neg0=s <= thresh\n",
    "    pos_xing_mask = np.bitwise_and(pos0[1:],neg[0:-1])  \n",
    "    neg_xing_mask = np.bitwise_and(neg0[1:],pos[0:-1])  \n",
    "    return pos_xing_mask.nonzero()[0]+1, neg_xing_mask.nonzero()[0]+1"
   ]
  },
  {
   "cell_type": "code",
   "execution_count": null,
   "metadata": {
    "collapsed": true,
    "run_control": {
     "frozen": false,
     "read_only": false
    }
   },
   "outputs": [],
   "source": [
    "from mpl_toolkits.axes_grid1 import host_subplot\n",
    "\n",
    "def plot_trace(traces,start,width):\n",
    "\n",
    "    ax = host_subplot(111)\n",
    "    axr = ax.twinx()\n",
    "    axt = ax.twiny()\n",
    "#ax.plot(t[0:-1:10],s[0:-1:10],'k')\n",
    "#ax.plot(t,s,'k')\n",
    "    axt.set_xlabel('Time ns',fontsize=18)\n",
    "    ax.set_ylabel('Voltage (Arbitary Units)',fontsize=18)\n",
    "#plt.xticks(visible=False)\n",
    "#plt.yticks(visible=False)\n",
    "#ax.set_xlim(0,t[4000000])\n",
    "#start=902000\n",
    "#width=2500\n",
    "    f=traces['filtered'][start:start+width]\n",
    "    s=traces['slope'][start:start+width]\n",
    "    t=np.arange(len(f))*4e-9\n",
    "#ts=t[pstart:pstop]\n",
    "#axins = fig.add_axes([.4, .45, .45, .4])\n",
    "    ax.set_xlim(t[0],t[-1])\n",
    "    axt.set_xlim(t[0],t[-1])\n",
    "\n",
    "    ylim=(-500,2000)\n",
    "\n",
    "    ax.set_ylim(ylim[0],ylim[1])\n",
    "    axr.set_ylim(ylim[0],ylim[1])\n",
    "\n",
    "    filtered, = ax.step(t,f,'k',lw=2,label='filtered')\n",
    "    slope, = ax.step(t,s,'b',label='slope')\n",
    "    ax.fill_between(t,0,s,alpha=.4)\n",
    "    plt.ylim=ylim\n",
    "\n",
    "pos=s>0\n",
    "neg=s<=0\n",
    "pos_xing_mask = np.bitwise_and(pos[1:-1],neg[0:-2])  \n",
    "neg_xing_mask = np.bitwise_and(neg[1:-1],pos[0:-2])  \n",
    "pos_xing=pos_xing_mask.nonzero()\n",
    "neg_xing=neg_xing_mask.nonzero()\n",
    "\n",
    "rx=[t[pos_xing[0][0]], t[neg_xing[0][0]]]\n",
    "ry=[f[pos_xing[0][0]], f[neg_xing[0][0]]]\n",
    "\n",
    "ax.fill_between(t[pos_xing[0][0]:neg_xing[0][0]],0,s[pos_xing[0][0]:neg_xing[0][0]],alpha=.4,color='r')\n",
    "\n",
    "#plt.plot(rx,[ry[0], ry[0]],'-r',lw=2)\n",
    "#plt.plot([rx[1],rx[1]], ry,'-r',lw=2)\n",
    "# thresholds\n",
    "sthresh = 600\n",
    "pthresh = 1000\n",
    "plt.plot([t[0], t[-1]], [sthresh, sthresh], '--b', lw=2)\n",
    "plt.plot([t[0], t[-1]], [pthresh, pthresh], '--k', lw=2)\n",
    "\n",
    "sthresh_xing=(s>sthresh).nonzero()[0][0]\n",
    "pthresh_xing=(f>pthresh).nonzero()[0][0]\n",
    "\n",
    "\n",
    "cf=.10\n",
    "height = ry[1]-ry[0]\n",
    "cfl=ry[0]+(height*cf)\n",
    "cfh=ry[1]-(height*cf)\n",
    "\n",
    "cfl_xing=(f>cfl).nonzero()[0][0]\n",
    "cfd_low=f[cfl_xing]\n",
    "cfh_xing=(f>cfh).nonzero()[0][0]\n",
    "cfd_high=f[cfh_xing]\n",
    "\n",
    "#plt.plot([t[cfl_xing], t[-1]],[cfd_low, cfd_low], ':r')\n",
    "#plt.plot([t[cfh_xing], t[-1]],[cfd_high, cfd_high], ':r')\n",
    "#plt.plot([x[1], t[-1]],[y[1], y[1]], ':r')\n",
    "plt.legend([filtered, slope],['Signal', 'Slope'],loc=2)\n",
    "\n",
    "#axr = ax.twinx()\n",
    "##################################################################\n",
    "#yticks=([ry[0],sthresh,pthresh,cfd_high,ry[1]])\n",
    "yticks=([sthresh,pthresh])\n",
    "axr.set_yticks(yticks)\n",
    "#yticklabels=['Start','Slope threshold','Pulse threshold','CF high','Peak']\n",
    "yticklabels=['Slope threshold','Pulse threshold']\n",
    "axr.set_yticklabels(yticklabels, color='r',fontsize=14)\n",
    "axr.get_yticklabels()[0].set_color('b')\n",
    "axr.get_yticklabels()[1].set_color('k')\n",
    "\n",
    "#xticks=([rx[0],t[cfl_xing],t[sthresh_xing],t[pthresh_xing],rx[1]])\n",
    "xticks=(t[cfl_xing],rx[1])\n",
    "#ax.set_xticks([rx[0],t[cfl_xing],t[sthresh_xing],t[pthresh_xing],rx[1]])\n",
    "ax.set_xticks(xticks)\n",
    "#xticklabels=['Start','CF low','Slope xing','Signal xing','Peak']\n",
    "xticklabels=['CF low','Peak']\n",
    "ax.set_xticklabels(xticklabels, color='r',fontsize=14)\n",
    "\n",
    "#plt.plot([t[cfh_xing], t[-1]],[cfd_high, cfd_high], ':r')\n",
    "#horoz start, stop lines\n",
    "#hpeak=ax.plot([xticks[1], t[-1]],[yticks[-1], yticks[-1]], '-.r')\n",
    "#hstart=ax.plot([xticks[0], t[-1]],[yticks[0], yticks[0]], '-.r')\n",
    "#vert start stop\n",
    "vstart=ax.plot([xticks[0], xticks[0]],[cfd_low, ylim[0]], '-.r')\n",
    "vpeak=ax.plot([xticks[1], xticks[1]],[ylim[0], ry[1]], '-.r')\n",
    "\n",
    "plt.tight_layout()\n",
    "plt.savefig('..//peakextraction7.svg')\n",
    "plt.show()\n",
    "print('risetime:',(xticks[1]-xticks[0])/4)\n",
    "print('height:',yticks[-1]-yticks[0])\n",
    "print('time:',(xticks[0]-rx[0])/4)\n",
    "print('area',sum(s[pos_xing[0][0]:neg_xing[0][0]])/256)\n"
   ]
  },
  {
   "cell_type": "code",
   "execution_count": null,
   "metadata": {
    "collapsed": true,
    "run_control": {
     "frozen": false,
     "read_only": false
    }
   },
   "outputs": [],
   "source": [
    "slope_0xings = xings(traces['slope'],0)"
   ]
  },
  {
   "cell_type": "code",
   "execution_count": null,
   "metadata": {
    "collapsed": false,
    "run_control": {
     "frozen": false,
     "read_only": false
    }
   },
   "outputs": [],
   "source": [
    "slope_0xings"
   ]
  },
  {
   "cell_type": "code",
   "execution_count": null,
   "metadata": {
    "collapsed": false,
    "run_control": {
     "frozen": false,
     "read_only": false
    }
   },
   "outputs": [],
   "source": [
    "%matplotlib notebook\n",
    "start=10000\n",
    "width=300\n",
    "plt.plot(traces['filtered'][start:start+width]/2)"
   ]
  },
  {
   "cell_type": "code",
   "execution_count": null,
   "metadata": {
    "collapsed": false,
    "run_control": {
     "frozen": false,
     "read_only": false
    }
   },
   "outputs": [],
   "source": [
    "%matplotlib notebook\n",
    "plt.plot(traces['slope'][20400:21700])"
   ]
  },
  {
   "cell_type": "code",
   "execution_count": null,
   "metadata": {
    "collapsed": false,
    "run_control": {
     "frozen": false,
     "read_only": false
    }
   },
   "outputs": [],
   "source": [
    "filtered=traces['filtered'][1100:]\n",
    "filteredL=traces['filteredL'][1100:]"
   ]
  },
  {
   "cell_type": "code",
   "execution_count": null,
   "metadata": {
    "collapsed": false,
    "run_control": {
     "frozen": false,
     "read_only": false
    }
   },
   "outputs": [],
   "source": [
    "filtered[:10]"
   ]
  },
  {
   "cell_type": "code",
   "execution_count": null,
   "metadata": {
    "collapsed": false,
    "run_control": {
     "frozen": false,
     "read_only": false
    }
   },
   "outputs": [],
   "source": [
    "filteredL[:10]/4"
   ]
  },
  {
   "cell_type": "code",
   "execution_count": null,
   "metadata": {
    "collapsed": false,
    "run_control": {
     "frozen": false,
     "read_only": false
    }
   },
   "outputs": [],
   "source": [
    "minmax_dt=np.dtype([('filtered','i4'),('low','i4'),('high','i4'),('clk','i4')])\n",
    "minmax=Data.fromfile('minmax',minmax_dt,'teslib','measurement_subsystem_TB',tool='vivado')\n",
    "fxing_dt=np.dtype([('extrema','i4'),('area','i4'),('clk','i4')])\n",
    "fxing=Data.fromfile('filteredxing',fxing_dt,'teslib','measurement_subsystem_TB',tool='vivado')"
   ]
  },
  {
   "cell_type": "code",
   "execution_count": null,
   "metadata": {
    "collapsed": false,
    "run_control": {
     "frozen": false,
     "read_only": false
    }
   },
   "outputs": [],
   "source": [
    "minmax"
   ]
  },
  {
   "cell_type": "code",
   "execution_count": null,
   "metadata": {
    "collapsed": false,
    "run_control": {
     "frozen": false,
     "read_only": false
    }
   },
   "outputs": [],
   "source": [
    "fxing"
   ]
  },
  {
   "cell_type": "code",
   "execution_count": null,
   "metadata": {
    "collapsed": false,
    "run_control": {
     "frozen": false,
     "read_only": false
    }
   },
   "outputs": [],
   "source": [
    "np.where(fxing['area']==0)"
   ]
  },
  {
   "cell_type": "code",
   "execution_count": null,
   "metadata": {
    "collapsed": false,
    "run_control": {
     "frozen": false,
     "read_only": false
    }
   },
   "outputs": [],
   "source": [
    "np.where(fxing['extrema']==0)"
   ]
  },
  {
   "cell_type": "code",
   "execution_count": null,
   "metadata": {
    "collapsed": false,
    "run_control": {
     "frozen": false,
     "read_only": false
    }
   },
   "outputs": [],
   "source": [
    "fxing[30]"
   ]
  },
  {
   "cell_type": "code",
   "execution_count": null,
   "metadata": {
    "collapsed": false,
    "run_control": {
     "frozen": false,
     "read_only": false
    }
   },
   "outputs": [],
   "source": [
    "exn=np.where(fxing['extrema']<0)\n",
    "clkn=np.where(fxing['clk']>0)"
   ]
  },
  {
   "cell_type": "code",
   "execution_count": null,
   "metadata": {
    "collapsed": true,
    "run_control": {
     "frozen": false,
     "read_only": false
    }
   },
   "outputs": [],
   "source": []
  },
  {
   "cell_type": "code",
   "execution_count": null,
   "metadata": {
    "collapsed": false,
    "run_control": {
     "frozen": false,
     "read_only": false
    }
   },
   "outputs": [],
   "source": [
    "fxing[374]"
   ]
  },
  {
   "cell_type": "code",
   "execution_count": null,
   "metadata": {
    "collapsed": false,
    "run_control": {
     "frozen": false,
     "read_only": false
    }
   },
   "outputs": [],
   "source": [
    "clkn"
   ]
  },
  {
   "cell_type": "code",
   "execution_count": null,
   "metadata": {
    "collapsed": false,
    "run_control": {
     "frozen": false,
     "read_only": false
    }
   },
   "outputs": [],
   "source": [
    "np.where(minmax[maxs[0]-1]['min']!=1)"
   ]
  },
  {
   "cell_type": "code",
   "execution_count": null,
   "metadata": {
    "collapsed": false,
    "run_control": {
     "frozen": false,
     "read_only": false
    }
   },
   "outputs": [],
   "source": [
    "minmax[maxs[0]-1][65]"
   ]
  },
  {
   "cell_type": "code",
   "execution_count": null,
   "metadata": {
    "collapsed": false,
    "run_control": {
     "frozen": false,
     "read_only": false
    }
   },
   "outputs": [],
   "source": [
    "2290-925"
   ]
  },
  {
   "cell_type": "code",
   "execution_count": null,
   "metadata": {
    "collapsed": false,
    "run_control": {
     "frozen": false,
     "read_only": false
    }
   },
   "outputs": [],
   "source": [
    "0.375*4"
   ]
  },
  {
   "cell_type": "code",
   "execution_count": null,
   "metadata": {
    "collapsed": false,
    "run_control": {
     "frozen": false,
     "read_only": false
    }
   },
   "outputs": [],
   "source": [
    "np.where(minmax['clock']==2290)"
   ]
  },
  {
   "cell_type": "code",
   "execution_count": null,
   "metadata": {
    "collapsed": false,
    "run_control": {
     "frozen": false,
     "read_only": false
    }
   },
   "outputs": [],
   "source": [
    "minmax[120:140]"
   ]
  },
  {
   "cell_type": "code",
   "execution_count": null,
   "metadata": {
    "collapsed": false,
    "run_control": {
     "frozen": false,
     "read_only": false
    }
   },
   "outputs": [],
   "source": [
    "stream_dt=np.dtype([('data','>i4'),('last','i4')])\n",
    "#stream=np.fromfile('data/stream',stream_dt)"
   ]
  },
  {
   "cell_type": "markdown",
   "metadata": {},
   "source": [
    "### bytestream stuff"
   ]
  },
  {
   "cell_type": "code",
   "execution_count": null,
   "metadata": {
    "collapsed": false,
    "run_control": {
     "frozen": false,
     "read_only": false
    }
   },
   "outputs": [],
   "source": [
    "stream_dt=np.dtype([('data','i4'),('last','i4')])\n",
    "stream=Data.fromfile('bytestream',stream_dt,'teslib','measurement_subsystem_TB',tool='vivado')\n",
    "lasts=np.where(stream['last']<=0)[0]+1\n",
    "#data=np.copy(stream['data'])"
   ]
  },
  {
   "cell_type": "code",
   "execution_count": null,
   "metadata": {
    "collapsed": false,
    "run_control": {
     "frozen": false,
     "read_only": false
    }
   },
   "outputs": [],
   "source": [
    "stream"
   ]
  },
  {
   "cell_type": "code",
   "execution_count": null,
   "metadata": {
    "collapsed": true,
    "run_control": {
     "frozen": false,
     "read_only": false
    }
   },
   "outputs": [],
   "source": []
  },
  {
   "cell_type": "code",
   "execution_count": null,
   "metadata": {
    "collapsed": true,
    "run_control": {
     "frozen": false,
     "read_only": false
    }
   },
   "outputs": [],
   "source": [
    "stream=np.fromfile('data/bytestream',stream_dt)"
   ]
  },
  {
   "cell_type": "code",
   "execution_count": null,
   "metadata": {
    "collapsed": false,
    "run_control": {
     "frozen": false,
     "read_only": false
    }
   },
   "outputs": [],
   "source": [
    "bs=PacketStream(stream)"
   ]
  },
  {
   "cell_type": "code",
   "execution_count": null,
   "metadata": {
    "collapsed": false,
    "run_control": {
     "frozen": false,
     "read_only": false
    }
   },
   "outputs": [],
   "source": [
    "bs.packets"
   ]
  },
  {
   "cell_type": "code",
   "execution_count": null,
   "metadata": {
    "collapsed": false,
    "run_control": {
     "frozen": false,
     "read_only": false
    }
   },
   "outputs": [],
   "source": [
    "bs.packets[4]"
   ]
  },
  {
   "cell_type": "code",
   "execution_count": null,
   "metadata": {
    "collapsed": true,
    "run_control": {
     "frozen": false,
     "read_only": false
    }
   },
   "outputs": [],
   "source": [
    "eheader_dt=[('etype','<u2'),('length','u2'),()]"
   ]
  },
  {
   "cell_type": "code",
   "execution_count": null,
   "metadata": {
    "collapsed": false,
    "run_control": {
     "frozen": false,
     "read_only": false
    }
   },
   "outputs": [],
   "source": [
    "'{:X}'.format(bs.packets[1].bytes[23])\n"
   ]
  },
  {
   "cell_type": "code",
   "execution_count": null,
   "metadata": {
    "collapsed": false,
    "run_control": {
     "frozen": false,
     "read_only": false
    }
   },
   "outputs": [],
   "source": [
    "'{:X}'.format(bs.packets[0].bytes[28:30].view(np.uint16)[0])"
   ]
  },
  {
   "cell_type": "code",
   "execution_count": null,
   "metadata": {
    "collapsed": true,
    "run_control": {
     "frozen": false,
     "read_only": false
    }
   },
   "outputs": [],
   "source": [
    "pulse_peak_dt=np.dtype([('height','i2'),('rise','i2'),('minima','u2'),('time','i2')])\n",
    "pulse_dt=np.dtype([('size','i2'),('resv','i2'),('flags','i2'),('time','u2'),\n",
    "                  ('area','i4'),('length','i2'),('offset','i2'),('peaks',(pulse_peak_dt,2))])"
   ]
  },
  {
   "cell_type": "code",
   "execution_count": null,
   "metadata": {
    "collapsed": false,
    "run_control": {
     "frozen": false,
     "read_only": false
    }
   },
   "outputs": [],
   "source": [
    "pulses=bs.packets[3].payload.view(pulse_dt)"
   ]
  },
  {
   "cell_type": "code",
   "execution_count": null,
   "metadata": {
    "collapsed": false,
    "run_control": {
     "frozen": false,
     "read_only": false
    }
   },
   "outputs": [],
   "source": [
    "pulses['peaks']"
   ]
  },
  {
   "cell_type": "code",
   "execution_count": null,
   "metadata": {
    "collapsed": false,
    "run_control": {
     "frozen": false,
     "read_only": false
    }
   },
   "outputs": [],
   "source": [
    "pulses['offset']"
   ]
  },
  {
   "cell_type": "code",
   "execution_count": null,
   "metadata": {
    "collapsed": false,
    "run_control": {
     "frozen": false,
     "read_only": false
    }
   },
   "outputs": [],
   "source": [
    "pulses['length']"
   ]
  },
  {
   "cell_type": "code",
   "execution_count": null,
   "metadata": {
    "collapsed": false,
    "run_control": {
     "frozen": false,
     "read_only": false
    }
   },
   "outputs": [],
   "source": [
    "class eflags:\n",
    "    def __init__(self,uint16):\n",
    "        self.new_window=np.bitwise_and(uint16,0x00000001)!=0\n",
    "        self.tick=np.bitwise_and(uint16,0x00000002)!=0\n",
    "        self.type=np.right_shift(np.bitwise_and(uint16,0x0000000c),2)\n",
    "        \n",
    "    def __repr__(self):\n",
    "        return 'New window:{:}\\n'.format(self.new_window) + \\\n",
    "               'Tick:{:}\\n'.format(self.tick) + \\\n",
    "               'Type:{:}\\n'.format(self.type) "
   ]
  },
  {
   "cell_type": "code",
   "execution_count": null,
   "metadata": {
    "collapsed": false,
    "run_control": {
     "frozen": false,
     "read_only": false
    }
   },
   "outputs": [],
   "source": [
    "f=eflags(pulses[0]['flags'])\n",
    "f"
   ]
  },
  {
   "cell_type": "code",
   "execution_count": null,
   "metadata": {
    "collapsed": false,
    "run_control": {
     "frozen": false,
     "read_only": false
    }
   },
   "outputs": [],
   "source": [
    "'{:X}'.format(bs.packets[3].bytes[13:14].view(np.uint16))"
   ]
  },
  {
   "cell_type": "code",
   "execution_count": null,
   "metadata": {
    "collapsed": true,
    "run_control": {
     "frozen": false,
     "read_only": false
    }
   },
   "outputs": [],
   "source": []
  },
  {
   "cell_type": "code",
   "execution_count": null,
   "metadata": {
    "collapsed": false,
    "run_control": {
     "frozen": false,
     "read_only": false
    }
   },
   "outputs": [],
   "source": [
    "'{:X}'.format(bs.packets[3].bytes[14:16].view(np.uint16)[0])"
   ]
  },
  {
   "cell_type": "code",
   "execution_count": null,
   "metadata": {
    "collapsed": false,
    "run_control": {
     "frozen": false,
     "read_only": false
    }
   },
   "outputs": [],
   "source": [
    "bs.packets[3].bytes[14:16].view(np.uint16)[0]"
   ]
  },
  {
   "cell_type": "code",
   "execution_count": null,
   "metadata": {
    "collapsed": false,
    "run_control": {
     "frozen": false,
     "read_only": false
    }
   },
   "outputs": [],
   "source": [
    "bs=np.uint8(stream['data'][:48])"
   ]
  },
  {
   "cell_type": "code",
   "execution_count": null,
   "metadata": {
    "collapsed": false,
    "run_control": {
     "frozen": false,
     "read_only": false
    }
   },
   "outputs": [],
   "source": [
    "bs"
   ]
  },
  {
   "cell_type": "code",
   "execution_count": null,
   "metadata": {
    "collapsed": false,
    "run_control": {
     "frozen": false,
     "read_only": false
    }
   },
   "outputs": [],
   "source": [
    "events=stream['data'].view(event_dt)"
   ]
  },
  {
   "cell_type": "code",
   "execution_count": null,
   "metadata": {
    "collapsed": false,
    "run_control": {
     "frozen": false,
     "read_only": false
    }
   },
   "outputs": [],
   "source": [
    "'{:X}'.format(events['flags'][0])"
   ]
  },
  {
   "cell_type": "code",
   "execution_count": null,
   "metadata": {
    "collapsed": false,
    "run_control": {
     "frozen": false,
     "read_only": false
    }
   },
   "outputs": [],
   "source": [
    "events['rise']"
   ]
  },
  {
   "cell_type": "code",
   "execution_count": null,
   "metadata": {
    "collapsed": false,
    "run_control": {
     "frozen": false,
     "read_only": false
    }
   },
   "outputs": [],
   "source": [
    "events"
   ]
  },
  {
   "cell_type": "code",
   "execution_count": null,
   "metadata": {
    "collapsed": false,
    "run_control": {
     "frozen": false,
     "read_only": false
    }
   },
   "outputs": [],
   "source": [
    "'{:04X}'.format(events['flags'][1])"
   ]
  },
  {
   "cell_type": "code",
   "execution_count": null,
   "metadata": {
    "collapsed": true,
    "run_control": {
     "frozen": false,
     "read_only": false
    }
   },
   "outputs": [],
   "source": [
    "pulse_peak_dt=np.dtype([('time','>i2'),('minima','>i2'),('rise','>u2'),('height','>i2')])\n",
    "pulse_dt=np.dtype([('time','>i2'),('flags','>i2'),('resv','>i2'),('size','>u2'),\n",
    "                  ('offset','>i2'),('length','>i2'),('area','>i4'),('peaks',(pulse_peak_dt,1))])\n",
    "data=np.copy(stream['data'])"
   ]
  },
  {
   "cell_type": "code",
   "execution_count": null,
   "metadata": {
    "collapsed": false,
    "run_control": {
     "frozen": false,
     "read_only": false
    }
   },
   "outputs": [],
   "source": [
    "pulses=data.view(pulse_dt)"
   ]
  },
  {
   "cell_type": "code",
   "execution_count": null,
   "metadata": {
    "collapsed": false,
    "run_control": {
     "frozen": false,
     "read_only": false
    }
   },
   "outputs": [],
   "source": [
    "pulses['peaks']['height']-pulses['peaks']['minima']"
   ]
  },
  {
   "cell_type": "code",
   "execution_count": null,
   "metadata": {
    "collapsed": false,
    "run_control": {
     "frozen": false,
     "read_only": false
    }
   },
   "outputs": [],
   "source": [
    "pulses['peaks']['minima']"
   ]
  },
  {
   "cell_type": "code",
   "execution_count": null,
   "metadata": {
    "collapsed": false,
    "run_control": {
     "frozen": false,
     "read_only": false
    }
   },
   "outputs": [],
   "source": [
    "peak_count=np.right_shift(np.bitwise_and(pulses['flags'],0xF000),12)\n",
    "peak_overflow=np.bitwise_and(pulses['flags'],0x0800)!=0\n",
    "channel=np.right_shift(np.bitwise_and(pulses['flags'],0x0700),8)\n",
    "timing_type=np.right_shift(np.bitwise_and(pulses['flags'],0x00C0),6)\n",
    "height_type=np.right_shift(np.bitwise_and(pulses['flags'],0x0030),4)\n",
    "event_type=np.right_shift(np.bitwise_and(pulses['flags'],0x000E),1)\n",
    "new_window=np.bitwise_and(pulses['flags'],0x0001)!=0"
   ]
  },
  {
   "cell_type": "code",
   "execution_count": null,
   "metadata": {
    "collapsed": false,
    "run_control": {
     "frozen": false,
     "read_only": false
    }
   },
   "outputs": [],
   "source": [
    "peak_overflow"
   ]
  },
  {
   "cell_type": "code",
   "execution_count": null,
   "metadata": {
    "collapsed": true,
    "run_control": {
     "frozen": false,
     "read_only": false
    }
   },
   "outputs": [],
   "source": [
    "test_dt=np.dtype(\n",
    "    [('time','i2'),('flags','i2'),('rise','u2'),('minima','i2'),('low','u8'),('high','u8')]\n",
    ")\n",
    "test=data.view(test_dt)"
   ]
  },
  {
   "cell_type": "code",
   "execution_count": null,
   "metadata": {
    "collapsed": false,
    "run_control": {
     "frozen": false,
     "read_only": false
    }
   },
   "outputs": [],
   "source": [
    "test"
   ]
  },
  {
   "cell_type": "code",
   "execution_count": null,
   "metadata": {
    "collapsed": false,
    "run_control": {
     "frozen": false,
     "read_only": false
    }
   },
   "outputs": [],
   "source": [
    "test['minima']"
   ]
  },
  {
   "cell_type": "code",
   "execution_count": null,
   "metadata": {
    "collapsed": false,
    "run_control": {
     "frozen": false,
     "read_only": false
    }
   },
   "outputs": [],
   "source": [
    "low1=np.int32(np.right_shift(np.bitwise_and(test['low'],0x03FFFF000000000),36))\n",
    "s=(np.bitwise_and(low1,0x00020000)!=0)*0xFFFC0000\n",
    "low2=np.int32(np.right_shift(np.bitwise_and(test['low'],0x000000FFFFC0000),18))\n",
    "low_threshold=np.int32(np.bitwise_and(test['low'],0x00000000003FFFF))\n",
    "high1=np.int32(np.right_shift(np.bitwise_and(test['high'],0x03FFFF000000000),36))\n",
    "high2=np.int32(np.right_shift(np.bitwise_and(test['high'],0x000000FFFFC0000),18))\n",
    "high_threshold=np.int32(np.bitwise_and(test['high'],0x00000000003FFFF))"
   ]
  },
  {
   "cell_type": "code",
   "execution_count": null,
   "metadata": {
    "collapsed": false,
    "run_control": {
     "frozen": false,
     "read_only": false
    }
   },
   "outputs": [],
   "source": [
    "np.int32(np.bitwise_or(low1,s))/8.0"
   ]
  },
  {
   "cell_type": "code",
   "execution_count": null,
   "metadata": {
    "collapsed": false,
    "run_control": {
     "frozen": false,
     "read_only": false
    }
   },
   "outputs": [],
   "source": [
    "'{:04X}'.format(low1[0])"
   ]
  },
  {
   "cell_type": "code",
   "execution_count": null,
   "metadata": {
    "collapsed": false,
    "run_control": {
     "frozen": false,
     "read_only": false
    }
   },
   "outputs": [],
   "source": [
    "high1/8.0"
   ]
  },
  {
   "cell_type": "code",
   "execution_count": null,
   "metadata": {
    "collapsed": false,
    "run_control": {
     "frozen": false,
     "read_only": false
    }
   },
   "outputs": [],
   "source": [
    "high2/8.0"
   ]
  },
  {
   "cell_type": "code",
   "execution_count": null,
   "metadata": {
    "collapsed": false,
    "run_control": {
     "frozen": false,
     "read_only": false
    }
   },
   "outputs": [],
   "source": [
    "'{:04X}'.format(high_threshold[0])"
   ]
  },
  {
   "cell_type": "code",
   "execution_count": null,
   "metadata": {
    "collapsed": false,
    "run_control": {
     "frozen": false,
     "read_only": false
    }
   },
   "outputs": [],
   "source": [
    "from enum import Enum"
   ]
  },
  {
   "cell_type": "code",
   "execution_count": null,
   "metadata": {
    "collapsed": false,
    "run_control": {
     "frozen": false,
     "read_only": false
    }
   },
   "outputs": [],
   "source": [
    "class VhdlEnum(int, Enum):\n",
    "\n",
    "    def __str__(self):\n",
    "        return self.name.replace(\"-\", \" \")\n",
    "    \n",
    "    def select(self):\n",
    "        return pow(2, self.value)\n",
    "    "
   ]
  },
  {
   "cell_type": "code",
   "execution_count": null,
   "metadata": {
    "collapsed": false,
    "run_control": {
     "frozen": false,
     "read_only": false
    }
   },
   "outputs": [],
   "source": [
    "class Test(VhdlEnum):\n",
    "    a=0\n",
    "    b=1"
   ]
  },
  {
   "cell_type": "code",
   "execution_count": null,
   "metadata": {
    "collapsed": false,
    "run_control": {
     "frozen": false,
     "read_only": false
    }
   },
   "outputs": [],
   "source": [
    "Test(0)"
   ]
  },
  {
   "cell_type": "code",
   "execution_count": null,
   "metadata": {
    "collapsed": true,
    "run_control": {
     "frozen": false,
     "read_only": false
    }
   },
   "outputs": [],
   "source": []
  }
 ],
 "metadata": {
  "anaconda-cloud": {},
  "kernelspec": {
   "display_name": "Python [conda root]",
   "language": "python",
   "name": "conda-root-py"
  },
  "language_info": {
   "codemirror_mode": {
    "name": "ipython",
    "version": 3
   },
   "file_extension": ".py",
   "mimetype": "text/x-python",
   "name": "python",
   "nbconvert_exporter": "python",
   "pygments_lexer": "ipython3",
   "version": "3.5.3"
  }
 },
 "nbformat": 4,
 "nbformat_minor": 1
}
