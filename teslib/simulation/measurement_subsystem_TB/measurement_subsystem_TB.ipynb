{
 "cells": [
  {
   "cell_type": "markdown",
   "metadata": {},
   "source": [
    "timestamp 0 => clk 20\n",
    "\n",
    "traces start at clk 1"
   ]
  },
  {
   "cell_type": "code",
   "execution_count": 3,
   "metadata": {
    "run_control": {
     "frozen": false,
     "read_only": false
    }
   },
   "outputs": [],
   "source": [
    "from tes.data import Data,PacketStream,Packet,Payload,EventFlags\n",
    "from tes.hdf5 import _PacketData, _import\n",
    "import numpy as np\n",
    "import matplotlib.pyplot as plt\n",
    "from subprocess import Popen\n",
    "\n",
    "import logging\n",
    "import sys\n",
    "logger = logging.getLogger('tes')\n",
    "logger.setLevel(logging.DEBUG)\n",
    "handler = logging.StreamHandler(sys.stderr)\n",
    "formatter = logging.Formatter('%(name)s:%(levelname)s %(message)s')\n",
    "handler.setFormatter(formatter)\n",
    "logger.handlers = [handler]\n",
    "\n",
    "trace_dt=np.dtype([('raw','i4'),('filtered','i4'),('slope','i4')])\n",
    "stream_dt=np.dtype([('data','i4'),('last','i4')])\n",
    "# minmax_dt=np.dtype(\n",
    "#     [\n",
    "#         ('filtered','i4'),('timing_threshold','i4'),\n",
    "#         ('height_threshold','i4'),('slope_extrema','i4'),('slope_area','i4'),('clk','i4')\n",
    "#     ]\n",
    "# )\n",
    "# cfd_dt=np.dtype('i4')\n",
    "# filteredxing_dt=np.dtype([('extrema','i4'),('area','i4'),('clk','i4')])"
   ]
  },
  {
   "cell_type": "code",
   "execution_count": null,
   "metadata": {
    "collapsed": true,
    "run_control": {
     "frozen": false,
     "read_only": false
    },
    "scrolled": false
   },
   "outputs": [],
   "source": [
    "%matplotlib notebook\n",
    "traces=Data.fromfile('traces',trace_dt,'teslib','measurement_subsystem_TB',tool='vivado')\n",
    "plt.plot(traces['slope'][1100:],'r',linewidth=1)\n",
    "plt.plot(traces['raw'][1100:],linewidth=0.5)\n",
    "plt.plot(traces['filtered'][1100:],'k',linewidth=2)"
   ]
  },
  {
   "cell_type": "code",
   "execution_count": null,
   "metadata": {
    "collapsed": true
   },
   "outputs": [],
   "source": [
    "i=0\n",
    "for f in frames:\n",
    "    ptype = Payload.from_frame(f)\n",
    "    if ptype != Payload.trace and ptype != Payload.tick and ptype!=Payload.mca:\n",
    "        print('found',ptype, i)\n",
    "        break\n",
    "    else:\n",
    "        i += 1\n",
    "#     fbytes[16:24].view(protocol_header_dt)"
   ]
  },
  {
   "cell_type": "code",
   "execution_count": null,
   "metadata": {
    "collapsed": true
   },
   "outputs": [],
   "source": [
    "Payload.from_frame(f)"
   ]
  },
  {
   "cell_type": "code",
   "execution_count": 4,
   "metadata": {
    "scrolled": true
   },
   "outputs": [
    {
     "name": "stderr",
     "output_type": "stream",
     "text": [
      "tes.hdf5:DEBUG PacketData: from ndarray\n",
      "tes.hdf5:DEBUG PacketData: from ndarray\n",
      "tes.hdf5:INFO import:pass 1: calculating sizes for hdf5 pre-allocation\n",
      "tes.hdf5:DEBUG import:tick frame:0\n",
      "tes.hdf5:DEBUG import:trace/average, frame:1:1496, seq:0, sample:1456, event:0, average:16, remaining:[2640]\n",
      "tes.hdf5:DEBUG import:trace/average, frame:2:1496, seq:1, sample:1472, event:0, average:0, remaining:[1168]\n",
      "tes.hdf5:DEBUG import:trace/single, frame:3:1192, seq:2, sample:1168, event:0, average:0, remaining:[0]\n",
      "tes.hdf5:DEBUG import:trace complete, sample_bytes:4096, event_bytes:0, average:16\n",
      "tes.hdf5:DEBUG import:trace/dot_product_trace, frame:4:1496, seq:0, sample:1432, event:40, average:0, remaining:[2664]\n",
      "tes.hdf5:DEBUG import:trace/single, frame:5:1496, seq:1, sample:1472, event:0, average:0, remaining:[1192]\n",
      "tes.hdf5:DEBUG import:trace/single, frame:6:1216, seq:2, sample:1192, event:0, average:0, remaining:[0]\n",
      "tes.hdf5:DEBUG import:trace complete, sample_bytes:4096, event_bytes:40, average:0\n",
      "tes.hdf5:DEBUG import:trace/dot_product_trace, frame:7:1496, seq:0, sample:1432, event:40, average:0, remaining:[2664]\n",
      "tes.hdf5:DEBUG import:trace/single, frame:8:1496, seq:1, sample:1472, event:0, average:0, remaining:[1192]\n",
      "tes.hdf5:DEBUG import:trace/dot_product_trace, frame:9:1216, seq:2, sample:1192, event:0, average:0, remaining:[0]\n",
      "tes.hdf5:DEBUG import:trace complete, sample_bytes:4096, event_bytes:40, average:0\n",
      "tes.hdf5:DEBUG import:trace/dot_product_trace, frame:10:1496, seq:0, sample:1432, event:40, average:0, remaining:[2664]\n",
      "tes.hdf5:DEBUG import:trace/single, frame:11:1496, seq:1, sample:1472, event:0, average:0, remaining:[1192]\n",
      "tes.hdf5:DEBUG import:trace/single, frame:12:1216, seq:2, sample:1192, event:0, average:0, remaining:[0]\n",
      "tes.hdf5:DEBUG import:trace complete, sample_bytes:4096, event_bytes:40, average:0\n",
      "tes.hdf5:INFO import:pass 1 - found 16544 data bytes in 13 frames 0 sequence errors.\n",
      "tes.hdf5:INFO import:pass 1 - ticks:1,  distributions:0, traces:4\n",
      "tes.hdf5:DEBUG tick frames:1, 24bytes\n",
      "tes.hdf5:DEBUG Event stream:120 bytes\n",
      "tes.hdf5:DEBUG MCA frames:0, 0 bytes\n",
      "tes.hdf5:DEBUG unidentified frames:0, 0 bytes\n",
      "tes.hdf5:INFO import:pass 2 - importing data\n",
      "tes.hdf5:DEBUG import:trace/average, frame:1:1496, seq:0, sample:1456, event:0, average:16, remaining:[2640]\n",
      "tes.hdf5:DEBUG import:trace/average, frame:2:1496, seq:1, sample:1472, event:0, average:0, remaining:[1168]\n",
      "tes.hdf5:DEBUG import:trace/single, frame:3:1192, seq:2, sample:1168, event:0, average:0, remaining:[0]\n",
      "tes.hdf5:DEBUG import:trace/dot_product_trace, frame:4:1496, seq:0, sample:1432, event:40, average:0, remaining:[2664]\n",
      "tes.hdf5:DEBUG import:trace/single, frame:5:1496, seq:1, sample:1472, event:0, average:0, remaining:[1192]\n",
      "tes.hdf5:DEBUG import:trace/single, frame:6:1216, seq:2, sample:1192, event:0, average:0, remaining:[0]\n",
      "tes.hdf5:DEBUG import:trace/dot_product_trace, frame:7:1496, seq:0, sample:1432, event:40, average:0, remaining:[2664]\n",
      "tes.hdf5:DEBUG import:trace/single, frame:8:1496, seq:1, sample:1472, event:0, average:0, remaining:[1192]\n",
      "tes.hdf5:DEBUG import:trace/dot_product_trace, frame:9:1216, seq:2, sample:1192, event:0, average:0, remaining:[0]\n",
      "tes.hdf5:DEBUG import:trace/dot_product_trace, frame:10:1496, seq:0, sample:1432, event:40, average:0, remaining:[2664]\n",
      "tes.hdf5:DEBUG import:trace/single, frame:11:1496, seq:1, sample:1472, event:0, average:0, remaining:[1192]\n",
      "tes.hdf5:DEBUG import:trace/single, frame:12:1216, seq:2, sample:1192, event:0, average:0, remaining:[0]\n"
     ]
    }
   ],
   "source": [
    "import h5py\n",
    "from tes.hdf5 import Trace, Hdf5, protocol_header_dt\n",
    "from tes.base import Payload\n",
    "stream=Data.fromfile('bytestream',stream_dt,'teslib','measurement_subsystem_TB',tool='vivado')\n",
    "frames=_PacketData(stream)\n",
    "# del stream\n",
    "# _import(packets)\n",
    "# h=h5py.File('TES.hdf5','r')\n",
    "h=Hdf5('TES.hdf5',stream)\n",
    "# del stream"
   ]
  },
  {
   "cell_type": "code",
   "execution_count": null,
   "metadata": {
    "collapsed": true
   },
   "outputs": [],
   "source": [
    "h.close()"
   ]
  },
  {
   "cell_type": "code",
   "execution_count": null,
   "metadata": {
    "collapsed": true
   },
   "outputs": [],
   "source": [
    "%matplotlib notebook\n",
    "t=48\n",
    "plt.plot(h.traces[t].samples)\n",
    "h.traces[t]"
   ]
  },
  {
   "cell_type": "code",
   "execution_count": 5,
   "metadata": {},
   "outputs": [
    {
     "data": {
      "application/javascript": [
       "/* Put everything inside the global mpl namespace */\n",
       "window.mpl = {};\n",
       "\n",
       "\n",
       "mpl.get_websocket_type = function() {\n",
       "    if (typeof(WebSocket) !== 'undefined') {\n",
       "        return WebSocket;\n",
       "    } else if (typeof(MozWebSocket) !== 'undefined') {\n",
       "        return MozWebSocket;\n",
       "    } else {\n",
       "        alert('Your browser does not have WebSocket support.' +\n",
       "              'Please try Chrome, Safari or Firefox ≥ 6. ' +\n",
       "              'Firefox 4 and 5 are also supported but you ' +\n",
       "              'have to enable WebSockets in about:config.');\n",
       "    };\n",
       "}\n",
       "\n",
       "mpl.figure = function(figure_id, websocket, ondownload, parent_element) {\n",
       "    this.id = figure_id;\n",
       "\n",
       "    this.ws = websocket;\n",
       "\n",
       "    this.supports_binary = (this.ws.binaryType != undefined);\n",
       "\n",
       "    if (!this.supports_binary) {\n",
       "        var warnings = document.getElementById(\"mpl-warnings\");\n",
       "        if (warnings) {\n",
       "            warnings.style.display = 'block';\n",
       "            warnings.textContent = (\n",
       "                \"This browser does not support binary websocket messages. \" +\n",
       "                    \"Performance may be slow.\");\n",
       "        }\n",
       "    }\n",
       "\n",
       "    this.imageObj = new Image();\n",
       "\n",
       "    this.context = undefined;\n",
       "    this.message = undefined;\n",
       "    this.canvas = undefined;\n",
       "    this.rubberband_canvas = undefined;\n",
       "    this.rubberband_context = undefined;\n",
       "    this.format_dropdown = undefined;\n",
       "\n",
       "    this.image_mode = 'full';\n",
       "\n",
       "    this.root = $('<div/>');\n",
       "    this._root_extra_style(this.root)\n",
       "    this.root.attr('style', 'display: inline-block');\n",
       "\n",
       "    $(parent_element).append(this.root);\n",
       "\n",
       "    this._init_header(this);\n",
       "    this._init_canvas(this);\n",
       "    this._init_toolbar(this);\n",
       "\n",
       "    var fig = this;\n",
       "\n",
       "    this.waiting = false;\n",
       "\n",
       "    this.ws.onopen =  function () {\n",
       "            fig.send_message(\"supports_binary\", {value: fig.supports_binary});\n",
       "            fig.send_message(\"send_image_mode\", {});\n",
       "            if (mpl.ratio != 1) {\n",
       "                fig.send_message(\"set_dpi_ratio\", {'dpi_ratio': mpl.ratio});\n",
       "            }\n",
       "            fig.send_message(\"refresh\", {});\n",
       "        }\n",
       "\n",
       "    this.imageObj.onload = function() {\n",
       "            if (fig.image_mode == 'full') {\n",
       "                // Full images could contain transparency (where diff images\n",
       "                // almost always do), so we need to clear the canvas so that\n",
       "                // there is no ghosting.\n",
       "                fig.context.clearRect(0, 0, fig.canvas.width, fig.canvas.height);\n",
       "            }\n",
       "            fig.context.drawImage(fig.imageObj, 0, 0);\n",
       "        };\n",
       "\n",
       "    this.imageObj.onunload = function() {\n",
       "        this.ws.close();\n",
       "    }\n",
       "\n",
       "    this.ws.onmessage = this._make_on_message_function(this);\n",
       "\n",
       "    this.ondownload = ondownload;\n",
       "}\n",
       "\n",
       "mpl.figure.prototype._init_header = function() {\n",
       "    var titlebar = $(\n",
       "        '<div class=\"ui-dialog-titlebar ui-widget-header ui-corner-all ' +\n",
       "        'ui-helper-clearfix\"/>');\n",
       "    var titletext = $(\n",
       "        '<div class=\"ui-dialog-title\" style=\"width: 100%; ' +\n",
       "        'text-align: center; padding: 3px;\"/>');\n",
       "    titlebar.append(titletext)\n",
       "    this.root.append(titlebar);\n",
       "    this.header = titletext[0];\n",
       "}\n",
       "\n",
       "\n",
       "\n",
       "mpl.figure.prototype._canvas_extra_style = function(canvas_div) {\n",
       "\n",
       "}\n",
       "\n",
       "\n",
       "mpl.figure.prototype._root_extra_style = function(canvas_div) {\n",
       "\n",
       "}\n",
       "\n",
       "mpl.figure.prototype._init_canvas = function() {\n",
       "    var fig = this;\n",
       "\n",
       "    var canvas_div = $('<div/>');\n",
       "\n",
       "    canvas_div.attr('style', 'position: relative; clear: both; outline: 0');\n",
       "\n",
       "    function canvas_keyboard_event(event) {\n",
       "        return fig.key_event(event, event['data']);\n",
       "    }\n",
       "\n",
       "    canvas_div.keydown('key_press', canvas_keyboard_event);\n",
       "    canvas_div.keyup('key_release', canvas_keyboard_event);\n",
       "    this.canvas_div = canvas_div\n",
       "    this._canvas_extra_style(canvas_div)\n",
       "    this.root.append(canvas_div);\n",
       "\n",
       "    var canvas = $('<canvas/>');\n",
       "    canvas.addClass('mpl-canvas');\n",
       "    canvas.attr('style', \"left: 0; top: 0; z-index: 0; outline: 0\")\n",
       "\n",
       "    this.canvas = canvas[0];\n",
       "    this.context = canvas[0].getContext(\"2d\");\n",
       "\n",
       "    var backingStore = this.context.backingStorePixelRatio ||\n",
       "\tthis.context.webkitBackingStorePixelRatio ||\n",
       "\tthis.context.mozBackingStorePixelRatio ||\n",
       "\tthis.context.msBackingStorePixelRatio ||\n",
       "\tthis.context.oBackingStorePixelRatio ||\n",
       "\tthis.context.backingStorePixelRatio || 1;\n",
       "\n",
       "    mpl.ratio = (window.devicePixelRatio || 1) / backingStore;\n",
       "\n",
       "    var rubberband = $('<canvas/>');\n",
       "    rubberband.attr('style', \"position: absolute; left: 0; top: 0; z-index: 1;\")\n",
       "\n",
       "    var pass_mouse_events = true;\n",
       "\n",
       "    canvas_div.resizable({\n",
       "        start: function(event, ui) {\n",
       "            pass_mouse_events = false;\n",
       "        },\n",
       "        resize: function(event, ui) {\n",
       "            fig.request_resize(ui.size.width, ui.size.height);\n",
       "        },\n",
       "        stop: function(event, ui) {\n",
       "            pass_mouse_events = true;\n",
       "            fig.request_resize(ui.size.width, ui.size.height);\n",
       "        },\n",
       "    });\n",
       "\n",
       "    function mouse_event_fn(event) {\n",
       "        if (pass_mouse_events)\n",
       "            return fig.mouse_event(event, event['data']);\n",
       "    }\n",
       "\n",
       "    rubberband.mousedown('button_press', mouse_event_fn);\n",
       "    rubberband.mouseup('button_release', mouse_event_fn);\n",
       "    // Throttle sequential mouse events to 1 every 20ms.\n",
       "    rubberband.mousemove('motion_notify', mouse_event_fn);\n",
       "\n",
       "    rubberband.mouseenter('figure_enter', mouse_event_fn);\n",
       "    rubberband.mouseleave('figure_leave', mouse_event_fn);\n",
       "\n",
       "    canvas_div.on(\"wheel\", function (event) {\n",
       "        event = event.originalEvent;\n",
       "        event['data'] = 'scroll'\n",
       "        if (event.deltaY < 0) {\n",
       "            event.step = 1;\n",
       "        } else {\n",
       "            event.step = -1;\n",
       "        }\n",
       "        mouse_event_fn(event);\n",
       "    });\n",
       "\n",
       "    canvas_div.append(canvas);\n",
       "    canvas_div.append(rubberband);\n",
       "\n",
       "    this.rubberband = rubberband;\n",
       "    this.rubberband_canvas = rubberband[0];\n",
       "    this.rubberband_context = rubberband[0].getContext(\"2d\");\n",
       "    this.rubberband_context.strokeStyle = \"#000000\";\n",
       "\n",
       "    this._resize_canvas = function(width, height) {\n",
       "        // Keep the size of the canvas, canvas container, and rubber band\n",
       "        // canvas in synch.\n",
       "        canvas_div.css('width', width)\n",
       "        canvas_div.css('height', height)\n",
       "\n",
       "        canvas.attr('width', width * mpl.ratio);\n",
       "        canvas.attr('height', height * mpl.ratio);\n",
       "        canvas.attr('style', 'width: ' + width + 'px; height: ' + height + 'px;');\n",
       "\n",
       "        rubberband.attr('width', width);\n",
       "        rubberband.attr('height', height);\n",
       "    }\n",
       "\n",
       "    // Set the figure to an initial 600x600px, this will subsequently be updated\n",
       "    // upon first draw.\n",
       "    this._resize_canvas(600, 600);\n",
       "\n",
       "    // Disable right mouse context menu.\n",
       "    $(this.rubberband_canvas).bind(\"contextmenu\",function(e){\n",
       "        return false;\n",
       "    });\n",
       "\n",
       "    function set_focus () {\n",
       "        canvas.focus();\n",
       "        canvas_div.focus();\n",
       "    }\n",
       "\n",
       "    window.setTimeout(set_focus, 100);\n",
       "}\n",
       "\n",
       "mpl.figure.prototype._init_toolbar = function() {\n",
       "    var fig = this;\n",
       "\n",
       "    var nav_element = $('<div/>')\n",
       "    nav_element.attr('style', 'width: 100%');\n",
       "    this.root.append(nav_element);\n",
       "\n",
       "    // Define a callback function for later on.\n",
       "    function toolbar_event(event) {\n",
       "        return fig.toolbar_button_onclick(event['data']);\n",
       "    }\n",
       "    function toolbar_mouse_event(event) {\n",
       "        return fig.toolbar_button_onmouseover(event['data']);\n",
       "    }\n",
       "\n",
       "    for(var toolbar_ind in mpl.toolbar_items) {\n",
       "        var name = mpl.toolbar_items[toolbar_ind][0];\n",
       "        var tooltip = mpl.toolbar_items[toolbar_ind][1];\n",
       "        var image = mpl.toolbar_items[toolbar_ind][2];\n",
       "        var method_name = mpl.toolbar_items[toolbar_ind][3];\n",
       "\n",
       "        if (!name) {\n",
       "            // put a spacer in here.\n",
       "            continue;\n",
       "        }\n",
       "        var button = $('<button/>');\n",
       "        button.addClass('ui-button ui-widget ui-state-default ui-corner-all ' +\n",
       "                        'ui-button-icon-only');\n",
       "        button.attr('role', 'button');\n",
       "        button.attr('aria-disabled', 'false');\n",
       "        button.click(method_name, toolbar_event);\n",
       "        button.mouseover(tooltip, toolbar_mouse_event);\n",
       "\n",
       "        var icon_img = $('<span/>');\n",
       "        icon_img.addClass('ui-button-icon-primary ui-icon');\n",
       "        icon_img.addClass(image);\n",
       "        icon_img.addClass('ui-corner-all');\n",
       "\n",
       "        var tooltip_span = $('<span/>');\n",
       "        tooltip_span.addClass('ui-button-text');\n",
       "        tooltip_span.html(tooltip);\n",
       "\n",
       "        button.append(icon_img);\n",
       "        button.append(tooltip_span);\n",
       "\n",
       "        nav_element.append(button);\n",
       "    }\n",
       "\n",
       "    var fmt_picker_span = $('<span/>');\n",
       "\n",
       "    var fmt_picker = $('<select/>');\n",
       "    fmt_picker.addClass('mpl-toolbar-option ui-widget ui-widget-content');\n",
       "    fmt_picker_span.append(fmt_picker);\n",
       "    nav_element.append(fmt_picker_span);\n",
       "    this.format_dropdown = fmt_picker[0];\n",
       "\n",
       "    for (var ind in mpl.extensions) {\n",
       "        var fmt = mpl.extensions[ind];\n",
       "        var option = $(\n",
       "            '<option/>', {selected: fmt === mpl.default_extension}).html(fmt);\n",
       "        fmt_picker.append(option)\n",
       "    }\n",
       "\n",
       "    // Add hover states to the ui-buttons\n",
       "    $( \".ui-button\" ).hover(\n",
       "        function() { $(this).addClass(\"ui-state-hover\");},\n",
       "        function() { $(this).removeClass(\"ui-state-hover\");}\n",
       "    );\n",
       "\n",
       "    var status_bar = $('<span class=\"mpl-message\"/>');\n",
       "    nav_element.append(status_bar);\n",
       "    this.message = status_bar[0];\n",
       "}\n",
       "\n",
       "mpl.figure.prototype.request_resize = function(x_pixels, y_pixels) {\n",
       "    // Request matplotlib to resize the figure. Matplotlib will then trigger a resize in the client,\n",
       "    // which will in turn request a refresh of the image.\n",
       "    this.send_message('resize', {'width': x_pixels, 'height': y_pixels});\n",
       "}\n",
       "\n",
       "mpl.figure.prototype.send_message = function(type, properties) {\n",
       "    properties['type'] = type;\n",
       "    properties['figure_id'] = this.id;\n",
       "    this.ws.send(JSON.stringify(properties));\n",
       "}\n",
       "\n",
       "mpl.figure.prototype.send_draw_message = function() {\n",
       "    if (!this.waiting) {\n",
       "        this.waiting = true;\n",
       "        this.ws.send(JSON.stringify({type: \"draw\", figure_id: this.id}));\n",
       "    }\n",
       "}\n",
       "\n",
       "\n",
       "mpl.figure.prototype.handle_save = function(fig, msg) {\n",
       "    var format_dropdown = fig.format_dropdown;\n",
       "    var format = format_dropdown.options[format_dropdown.selectedIndex].value;\n",
       "    fig.ondownload(fig, format);\n",
       "}\n",
       "\n",
       "\n",
       "mpl.figure.prototype.handle_resize = function(fig, msg) {\n",
       "    var size = msg['size'];\n",
       "    if (size[0] != fig.canvas.width || size[1] != fig.canvas.height) {\n",
       "        fig._resize_canvas(size[0], size[1]);\n",
       "        fig.send_message(\"refresh\", {});\n",
       "    };\n",
       "}\n",
       "\n",
       "mpl.figure.prototype.handle_rubberband = function(fig, msg) {\n",
       "    var x0 = msg['x0'] / mpl.ratio;\n",
       "    var y0 = (fig.canvas.height - msg['y0']) / mpl.ratio;\n",
       "    var x1 = msg['x1'] / mpl.ratio;\n",
       "    var y1 = (fig.canvas.height - msg['y1']) / mpl.ratio;\n",
       "    x0 = Math.floor(x0) + 0.5;\n",
       "    y0 = Math.floor(y0) + 0.5;\n",
       "    x1 = Math.floor(x1) + 0.5;\n",
       "    y1 = Math.floor(y1) + 0.5;\n",
       "    var min_x = Math.min(x0, x1);\n",
       "    var min_y = Math.min(y0, y1);\n",
       "    var width = Math.abs(x1 - x0);\n",
       "    var height = Math.abs(y1 - y0);\n",
       "\n",
       "    fig.rubberband_context.clearRect(\n",
       "        0, 0, fig.canvas.width, fig.canvas.height);\n",
       "\n",
       "    fig.rubberband_context.strokeRect(min_x, min_y, width, height);\n",
       "}\n",
       "\n",
       "mpl.figure.prototype.handle_figure_label = function(fig, msg) {\n",
       "    // Updates the figure title.\n",
       "    fig.header.textContent = msg['label'];\n",
       "}\n",
       "\n",
       "mpl.figure.prototype.handle_cursor = function(fig, msg) {\n",
       "    var cursor = msg['cursor'];\n",
       "    switch(cursor)\n",
       "    {\n",
       "    case 0:\n",
       "        cursor = 'pointer';\n",
       "        break;\n",
       "    case 1:\n",
       "        cursor = 'default';\n",
       "        break;\n",
       "    case 2:\n",
       "        cursor = 'crosshair';\n",
       "        break;\n",
       "    case 3:\n",
       "        cursor = 'move';\n",
       "        break;\n",
       "    }\n",
       "    fig.rubberband_canvas.style.cursor = cursor;\n",
       "}\n",
       "\n",
       "mpl.figure.prototype.handle_message = function(fig, msg) {\n",
       "    fig.message.textContent = msg['message'];\n",
       "}\n",
       "\n",
       "mpl.figure.prototype.handle_draw = function(fig, msg) {\n",
       "    // Request the server to send over a new figure.\n",
       "    fig.send_draw_message();\n",
       "}\n",
       "\n",
       "mpl.figure.prototype.handle_image_mode = function(fig, msg) {\n",
       "    fig.image_mode = msg['mode'];\n",
       "}\n",
       "\n",
       "mpl.figure.prototype.updated_canvas_event = function() {\n",
       "    // Called whenever the canvas gets updated.\n",
       "    this.send_message(\"ack\", {});\n",
       "}\n",
       "\n",
       "// A function to construct a web socket function for onmessage handling.\n",
       "// Called in the figure constructor.\n",
       "mpl.figure.prototype._make_on_message_function = function(fig) {\n",
       "    return function socket_on_message(evt) {\n",
       "        if (evt.data instanceof Blob) {\n",
       "            /* FIXME: We get \"Resource interpreted as Image but\n",
       "             * transferred with MIME type text/plain:\" errors on\n",
       "             * Chrome.  But how to set the MIME type?  It doesn't seem\n",
       "             * to be part of the websocket stream */\n",
       "            evt.data.type = \"image/png\";\n",
       "\n",
       "            /* Free the memory for the previous frames */\n",
       "            if (fig.imageObj.src) {\n",
       "                (window.URL || window.webkitURL).revokeObjectURL(\n",
       "                    fig.imageObj.src);\n",
       "            }\n",
       "\n",
       "            fig.imageObj.src = (window.URL || window.webkitURL).createObjectURL(\n",
       "                evt.data);\n",
       "            fig.updated_canvas_event();\n",
       "            fig.waiting = false;\n",
       "            return;\n",
       "        }\n",
       "        else if (typeof evt.data === 'string' && evt.data.slice(0, 21) == \"data:image/png;base64\") {\n",
       "            fig.imageObj.src = evt.data;\n",
       "            fig.updated_canvas_event();\n",
       "            fig.waiting = false;\n",
       "            return;\n",
       "        }\n",
       "\n",
       "        var msg = JSON.parse(evt.data);\n",
       "        var msg_type = msg['type'];\n",
       "\n",
       "        // Call the  \"handle_{type}\" callback, which takes\n",
       "        // the figure and JSON message as its only arguments.\n",
       "        try {\n",
       "            var callback = fig[\"handle_\" + msg_type];\n",
       "        } catch (e) {\n",
       "            console.log(\"No handler for the '\" + msg_type + \"' message type: \", msg);\n",
       "            return;\n",
       "        }\n",
       "\n",
       "        if (callback) {\n",
       "            try {\n",
       "                // console.log(\"Handling '\" + msg_type + \"' message: \", msg);\n",
       "                callback(fig, msg);\n",
       "            } catch (e) {\n",
       "                console.log(\"Exception inside the 'handler_\" + msg_type + \"' callback:\", e, e.stack, msg);\n",
       "            }\n",
       "        }\n",
       "    };\n",
       "}\n",
       "\n",
       "// from http://stackoverflow.com/questions/1114465/getting-mouse-location-in-canvas\n",
       "mpl.findpos = function(e) {\n",
       "    //this section is from http://www.quirksmode.org/js/events_properties.html\n",
       "    var targ;\n",
       "    if (!e)\n",
       "        e = window.event;\n",
       "    if (e.target)\n",
       "        targ = e.target;\n",
       "    else if (e.srcElement)\n",
       "        targ = e.srcElement;\n",
       "    if (targ.nodeType == 3) // defeat Safari bug\n",
       "        targ = targ.parentNode;\n",
       "\n",
       "    // jQuery normalizes the pageX and pageY\n",
       "    // pageX,Y are the mouse positions relative to the document\n",
       "    // offset() returns the position of the element relative to the document\n",
       "    var x = e.pageX - $(targ).offset().left;\n",
       "    var y = e.pageY - $(targ).offset().top;\n",
       "\n",
       "    return {\"x\": x, \"y\": y};\n",
       "};\n",
       "\n",
       "/*\n",
       " * return a copy of an object with only non-object keys\n",
       " * we need this to avoid circular references\n",
       " * http://stackoverflow.com/a/24161582/3208463\n",
       " */\n",
       "function simpleKeys (original) {\n",
       "  return Object.keys(original).reduce(function (obj, key) {\n",
       "    if (typeof original[key] !== 'object')\n",
       "        obj[key] = original[key]\n",
       "    return obj;\n",
       "  }, {});\n",
       "}\n",
       "\n",
       "mpl.figure.prototype.mouse_event = function(event, name) {\n",
       "    var canvas_pos = mpl.findpos(event)\n",
       "\n",
       "    if (name === 'button_press')\n",
       "    {\n",
       "        this.canvas.focus();\n",
       "        this.canvas_div.focus();\n",
       "    }\n",
       "\n",
       "    var x = canvas_pos.x * mpl.ratio;\n",
       "    var y = canvas_pos.y * mpl.ratio;\n",
       "\n",
       "    this.send_message(name, {x: x, y: y, button: event.button,\n",
       "                             step: event.step,\n",
       "                             guiEvent: simpleKeys(event)});\n",
       "\n",
       "    /* This prevents the web browser from automatically changing to\n",
       "     * the text insertion cursor when the button is pressed.  We want\n",
       "     * to control all of the cursor setting manually through the\n",
       "     * 'cursor' event from matplotlib */\n",
       "    event.preventDefault();\n",
       "    return false;\n",
       "}\n",
       "\n",
       "mpl.figure.prototype._key_event_extra = function(event, name) {\n",
       "    // Handle any extra behaviour associated with a key event\n",
       "}\n",
       "\n",
       "mpl.figure.prototype.key_event = function(event, name) {\n",
       "\n",
       "    // Prevent repeat events\n",
       "    if (name == 'key_press')\n",
       "    {\n",
       "        if (event.which === this._key)\n",
       "            return;\n",
       "        else\n",
       "            this._key = event.which;\n",
       "    }\n",
       "    if (name == 'key_release')\n",
       "        this._key = null;\n",
       "\n",
       "    var value = '';\n",
       "    if (event.ctrlKey && event.which != 17)\n",
       "        value += \"ctrl+\";\n",
       "    if (event.altKey && event.which != 18)\n",
       "        value += \"alt+\";\n",
       "    if (event.shiftKey && event.which != 16)\n",
       "        value += \"shift+\";\n",
       "\n",
       "    value += 'k';\n",
       "    value += event.which.toString();\n",
       "\n",
       "    this._key_event_extra(event, name);\n",
       "\n",
       "    this.send_message(name, {key: value,\n",
       "                             guiEvent: simpleKeys(event)});\n",
       "    return false;\n",
       "}\n",
       "\n",
       "mpl.figure.prototype.toolbar_button_onclick = function(name) {\n",
       "    if (name == 'download') {\n",
       "        this.handle_save(this, null);\n",
       "    } else {\n",
       "        this.send_message(\"toolbar_button\", {name: name});\n",
       "    }\n",
       "};\n",
       "\n",
       "mpl.figure.prototype.toolbar_button_onmouseover = function(tooltip) {\n",
       "    this.message.textContent = tooltip;\n",
       "};\n",
       "mpl.toolbar_items = [[\"Home\", \"Reset original view\", \"fa fa-home icon-home\", \"home\"], [\"Back\", \"Back to  previous view\", \"fa fa-arrow-left icon-arrow-left\", \"back\"], [\"Forward\", \"Forward to next view\", \"fa fa-arrow-right icon-arrow-right\", \"forward\"], [\"\", \"\", \"\", \"\"], [\"Pan\", \"Pan axes with left mouse, zoom with right\", \"fa fa-arrows icon-move\", \"pan\"], [\"Zoom\", \"Zoom to rectangle\", \"fa fa-square-o icon-check-empty\", \"zoom\"], [\"\", \"\", \"\", \"\"], [\"Download\", \"Download plot\", \"fa fa-floppy-o icon-save\", \"download\"]];\n",
       "\n",
       "mpl.extensions = [\"eps\", \"pdf\", \"png\", \"ps\", \"raw\", \"svg\"];\n",
       "\n",
       "mpl.default_extension = \"png\";var comm_websocket_adapter = function(comm) {\n",
       "    // Create a \"websocket\"-like object which calls the given IPython comm\n",
       "    // object with the appropriate methods. Currently this is a non binary\n",
       "    // socket, so there is still some room for performance tuning.\n",
       "    var ws = {};\n",
       "\n",
       "    ws.close = function() {\n",
       "        comm.close()\n",
       "    };\n",
       "    ws.send = function(m) {\n",
       "        //console.log('sending', m);\n",
       "        comm.send(m);\n",
       "    };\n",
       "    // Register the callback with on_msg.\n",
       "    comm.on_msg(function(msg) {\n",
       "        //console.log('receiving', msg['content']['data'], msg);\n",
       "        // Pass the mpl event to the overriden (by mpl) onmessage function.\n",
       "        ws.onmessage(msg['content']['data'])\n",
       "    });\n",
       "    return ws;\n",
       "}\n",
       "\n",
       "mpl.mpl_figure_comm = function(comm, msg) {\n",
       "    // This is the function which gets called when the mpl process\n",
       "    // starts-up an IPython Comm through the \"matplotlib\" channel.\n",
       "\n",
       "    var id = msg.content.data.id;\n",
       "    // Get hold of the div created by the display call when the Comm\n",
       "    // socket was opened in Python.\n",
       "    var element = $(\"#\" + id);\n",
       "    var ws_proxy = comm_websocket_adapter(comm)\n",
       "\n",
       "    function ondownload(figure, format) {\n",
       "        window.open(figure.imageObj.src);\n",
       "    }\n",
       "\n",
       "    var fig = new mpl.figure(id, ws_proxy,\n",
       "                           ondownload,\n",
       "                           element.get(0));\n",
       "\n",
       "    // Call onopen now - mpl needs it, as it is assuming we've passed it a real\n",
       "    // web socket which is closed, not our websocket->open comm proxy.\n",
       "    ws_proxy.onopen();\n",
       "\n",
       "    fig.parent_element = element.get(0);\n",
       "    fig.cell_info = mpl.find_output_cell(\"<div id='\" + id + \"'></div>\");\n",
       "    if (!fig.cell_info) {\n",
       "        console.error(\"Failed to find cell for figure\", id, fig);\n",
       "        return;\n",
       "    }\n",
       "\n",
       "    var output_index = fig.cell_info[2]\n",
       "    var cell = fig.cell_info[0];\n",
       "\n",
       "};\n",
       "\n",
       "mpl.figure.prototype.handle_close = function(fig, msg) {\n",
       "    var width = fig.canvas.width/mpl.ratio\n",
       "    fig.root.unbind('remove')\n",
       "\n",
       "    // Update the output cell to use the data from the current canvas.\n",
       "    fig.push_to_output();\n",
       "    var dataURL = fig.canvas.toDataURL();\n",
       "    // Re-enable the keyboard manager in IPython - without this line, in FF,\n",
       "    // the notebook keyboard shortcuts fail.\n",
       "    IPython.keyboard_manager.enable()\n",
       "    $(fig.parent_element).html('<img src=\"' + dataURL + '\" width=\"' + width + '\">');\n",
       "    fig.close_ws(fig, msg);\n",
       "}\n",
       "\n",
       "mpl.figure.prototype.close_ws = function(fig, msg){\n",
       "    fig.send_message('closing', msg);\n",
       "    // fig.ws.close()\n",
       "}\n",
       "\n",
       "mpl.figure.prototype.push_to_output = function(remove_interactive) {\n",
       "    // Turn the data on the canvas into data in the output cell.\n",
       "    var width = this.canvas.width/mpl.ratio\n",
       "    var dataURL = this.canvas.toDataURL();\n",
       "    this.cell_info[1]['text/html'] = '<img src=\"' + dataURL + '\" width=\"' + width + '\">';\n",
       "}\n",
       "\n",
       "mpl.figure.prototype.updated_canvas_event = function() {\n",
       "    // Tell IPython that the notebook contents must change.\n",
       "    IPython.notebook.set_dirty(true);\n",
       "    this.send_message(\"ack\", {});\n",
       "    var fig = this;\n",
       "    // Wait a second, then push the new image to the DOM so\n",
       "    // that it is saved nicely (might be nice to debounce this).\n",
       "    setTimeout(function () { fig.push_to_output() }, 1000);\n",
       "}\n",
       "\n",
       "mpl.figure.prototype._init_toolbar = function() {\n",
       "    var fig = this;\n",
       "\n",
       "    var nav_element = $('<div/>')\n",
       "    nav_element.attr('style', 'width: 100%');\n",
       "    this.root.append(nav_element);\n",
       "\n",
       "    // Define a callback function for later on.\n",
       "    function toolbar_event(event) {\n",
       "        return fig.toolbar_button_onclick(event['data']);\n",
       "    }\n",
       "    function toolbar_mouse_event(event) {\n",
       "        return fig.toolbar_button_onmouseover(event['data']);\n",
       "    }\n",
       "\n",
       "    for(var toolbar_ind in mpl.toolbar_items){\n",
       "        var name = mpl.toolbar_items[toolbar_ind][0];\n",
       "        var tooltip = mpl.toolbar_items[toolbar_ind][1];\n",
       "        var image = mpl.toolbar_items[toolbar_ind][2];\n",
       "        var method_name = mpl.toolbar_items[toolbar_ind][3];\n",
       "\n",
       "        if (!name) { continue; };\n",
       "\n",
       "        var button = $('<button class=\"btn btn-default\" href=\"#\" title=\"' + name + '\"><i class=\"fa ' + image + ' fa-lg\"></i></button>');\n",
       "        button.click(method_name, toolbar_event);\n",
       "        button.mouseover(tooltip, toolbar_mouse_event);\n",
       "        nav_element.append(button);\n",
       "    }\n",
       "\n",
       "    // Add the status bar.\n",
       "    var status_bar = $('<span class=\"mpl-message\" style=\"text-align:right; float: right;\"/>');\n",
       "    nav_element.append(status_bar);\n",
       "    this.message = status_bar[0];\n",
       "\n",
       "    // Add the close button to the window.\n",
       "    var buttongrp = $('<div class=\"btn-group inline pull-right\"></div>');\n",
       "    var button = $('<button class=\"btn btn-mini btn-primary\" href=\"#\" title=\"Stop Interaction\"><i class=\"fa fa-power-off icon-remove icon-large\"></i></button>');\n",
       "    button.click(function (evt) { fig.handle_close(fig, {}); } );\n",
       "    button.mouseover('Stop Interaction', toolbar_mouse_event);\n",
       "    buttongrp.append(button);\n",
       "    var titlebar = this.root.find($('.ui-dialog-titlebar'));\n",
       "    titlebar.prepend(buttongrp);\n",
       "}\n",
       "\n",
       "mpl.figure.prototype._root_extra_style = function(el){\n",
       "    var fig = this\n",
       "    el.on(\"remove\", function(){\n",
       "\tfig.close_ws(fig, {});\n",
       "    });\n",
       "}\n",
       "\n",
       "mpl.figure.prototype._canvas_extra_style = function(el){\n",
       "    // this is important to make the div 'focusable\n",
       "    el.attr('tabindex', 0)\n",
       "    // reach out to IPython and tell the keyboard manager to turn it's self\n",
       "    // off when our div gets focus\n",
       "\n",
       "    // location in version 3\n",
       "    if (IPython.notebook.keyboard_manager) {\n",
       "        IPython.notebook.keyboard_manager.register_events(el);\n",
       "    }\n",
       "    else {\n",
       "        // location in version 2\n",
       "        IPython.keyboard_manager.register_events(el);\n",
       "    }\n",
       "\n",
       "}\n",
       "\n",
       "mpl.figure.prototype._key_event_extra = function(event, name) {\n",
       "    var manager = IPython.notebook.keyboard_manager;\n",
       "    if (!manager)\n",
       "        manager = IPython.keyboard_manager;\n",
       "\n",
       "    // Check for shift+enter\n",
       "    if (event.shiftKey && event.which == 13) {\n",
       "        this.canvas_div.blur();\n",
       "        // select the cell after this one\n",
       "        var index = IPython.notebook.find_cell_index(this.cell_info[0]);\n",
       "        IPython.notebook.select(index + 1);\n",
       "    }\n",
       "}\n",
       "\n",
       "mpl.figure.prototype.handle_save = function(fig, msg) {\n",
       "    fig.ondownload(fig, null);\n",
       "}\n",
       "\n",
       "\n",
       "mpl.find_output_cell = function(html_output) {\n",
       "    // Return the cell and output element which can be found *uniquely* in the notebook.\n",
       "    // Note - this is a bit hacky, but it is done because the \"notebook_saving.Notebook\"\n",
       "    // IPython event is triggered only after the cells have been serialised, which for\n",
       "    // our purposes (turning an active figure into a static one), is too late.\n",
       "    var cells = IPython.notebook.get_cells();\n",
       "    var ncells = cells.length;\n",
       "    for (var i=0; i<ncells; i++) {\n",
       "        var cell = cells[i];\n",
       "        if (cell.cell_type === 'code'){\n",
       "            for (var j=0; j<cell.output_area.outputs.length; j++) {\n",
       "                var data = cell.output_area.outputs[j];\n",
       "                if (data.data) {\n",
       "                    // IPython >= 3 moved mimebundle to data attribute of output\n",
       "                    data = data.data;\n",
       "                }\n",
       "                if (data['text/html'] == html_output) {\n",
       "                    return [cell, data, j];\n",
       "                }\n",
       "            }\n",
       "        }\n",
       "    }\n",
       "}\n",
       "\n",
       "// Register the function which deals with the matplotlib target/channel.\n",
       "// The kernel may be null if the page has been refreshed.\n",
       "if (IPython.notebook.kernel != null) {\n",
       "    IPython.notebook.kernel.comm_manager.register_target('matplotlib', mpl.mpl_figure_comm);\n",
       "}\n"
      ],
      "text/plain": [
       "<IPython.core.display.Javascript object>"
      ]
     },
     "metadata": {},
     "output_type": "display_data"
    },
    {
     "data": {
      "text/html": [
       "<img src=\"data:image/png;base64,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\" width=\"639.9999630089984\">"
      ],
      "text/plain": [
       "<IPython.core.display.HTML object>"
      ]
     },
     "metadata": {},
     "output_type": "display_data"
    },
    {
     "data": {
      "text/plain": [
       "[<matplotlib.lines.Line2D at 0x8a12c50>]"
      ]
     },
     "execution_count": 5,
     "metadata": {},
     "output_type": "execute_result"
    }
   ],
   "source": [
    "%matplotlib notebook\n",
    "dp_trace=h.traces[2].samples\n",
    "plt.plot(dp_trace)"
   ]
  },
  {
   "cell_type": "code",
   "execution_count": null,
   "metadata": {
    "collapsed": true
   },
   "outputs": [],
   "source": [
    "dp=sum(np.uint64(h.traces[t].samples)*np.uint64(dp_trace))\n",
    "dp==h.traces[t].dot_product"
   ]
  },
  {
   "cell_type": "code",
   "execution_count": null,
   "metadata": {
    "collapsed": true
   },
   "outputs": [],
   "source": [
    "dp"
   ]
  },
  {
   "cell_type": "code",
   "execution_count": null,
   "metadata": {
    "collapsed": true
   },
   "outputs": [],
   "source": [
    "trace_header_dt=np.dtype([('size',np.uint16),('trace_flags',np.uint8,(2,))])"
   ]
  },
  {
   "cell_type": "code",
   "execution_count": null,
   "metadata": {
    "collapsed": true
   },
   "outputs": [],
   "source": [
    "from tes.hdf5 import TraceFlags\n",
    "TraceFlags(h.frames[325].payload[2:4])"
   ]
  },
  {
   "cell_type": "code",
   "execution_count": null,
   "metadata": {
    "collapsed": true
   },
   "outputs": [],
   "source": [
    "h.traces[92]"
   ]
  },
  {
   "cell_type": "code",
   "execution_count": null,
   "metadata": {
    "collapsed": true
   },
   "outputs": [],
   "source": [
    "h.h['traces'][1]"
   ]
  },
  {
   "cell_type": "code",
   "execution_count": null,
   "metadata": {
    "collapsed": true
   },
   "outputs": [],
   "source": [
    "packets[0]['data'][24:]"
   ]
  },
  {
   "cell_type": "code",
   "execution_count": null,
   "metadata": {
    "collapsed": true
   },
   "outputs": [],
   "source": []
  },
  {
   "cell_type": "code",
   "execution_count": null,
   "metadata": {
    "collapsed": true
   },
   "outputs": [],
   "source": [
    "h.distributions[0].stop_time"
   ]
  },
  {
   "cell_type": "code",
   "execution_count": null,
   "metadata": {
    "collapsed": true
   },
   "outputs": [],
   "source": [
    "%matplotlib notebook\n",
    "plt.plot(h.distributions[0].bins,'.')"
   ]
  },
  {
   "cell_type": "code",
   "execution_count": null,
   "metadata": {
    "collapsed": true
   },
   "outputs": [],
   "source": [
    "h.frames[1].payload_type"
   ]
  },
  {
   "cell_type": "code",
   "execution_count": null,
   "metadata": {
    "collapsed": true
   },
   "outputs": [],
   "source": [
    "h.frames[52].payload"
   ]
  },
  {
   "cell_type": "code",
   "execution_count": null,
   "metadata": {
    "collapsed": true
   },
   "outputs": [],
   "source": [
    "frame_header_dt.names"
   ]
  },
  {
   "cell_type": "code",
   "execution_count": null,
   "metadata": {
    "collapsed": true
   },
   "outputs": [],
   "source": [
    "h.close()"
   ]
  },
  {
   "cell_type": "code",
   "execution_count": null,
   "metadata": {
    "collapsed": true
   },
   "outputs": [],
   "source": [
    "stream=Data.fromfile('bytestream',stream_dt,'teslib','measurement_subsystem_TB',tool='vivado')\n",
    "packets=_PacketData(stream)\n",
    "del stream\n",
    "# _import(packets)\n",
    "# h=h5py.File('TES.hdf5','r')"
   ]
  },
  {
   "cell_type": "code",
   "execution_count": null,
   "metadata": {
    "collapsed": true
   },
   "outputs": [],
   "source": [
    "packets[1]['data']"
   ]
  },
  {
   "cell_type": "code",
   "execution_count": null,
   "metadata": {
    "collapsed": true
   },
   "outputs": [],
   "source": [
    "packets[51]\n"
   ]
  },
  {
   "cell_type": "code",
   "execution_count": null,
   "metadata": {
    "collapsed": true
   },
   "outputs": [],
   "source": [
    "h.close()"
   ]
  },
  {
   "cell_type": "code",
   "execution_count": null,
   "metadata": {
    "collapsed": true
   },
   "outputs": [],
   "source": [
    "len(h['traces'])"
   ]
  },
  {
   "cell_type": "code",
   "execution_count": null,
   "metadata": {
    "collapsed": true
   },
   "outputs": [],
   "source": [
    "t=h['raw_data/event'][h['traces'][5]]"
   ]
  },
  {
   "cell_type": "code",
   "execution_count": null,
   "metadata": {
    "collapsed": true
   },
   "outputs": [],
   "source": [
    "%matplotlib notebook\n",
    "t=h['raw_data/event'][h['traces'][5]]\n",
    "tr=Trace(t)\n",
    "print(tr.flags,'\\n',tr.trace_flags)\n",
    "plt.plot(tr.samples)"
   ]
  },
  {
   "cell_type": "code",
   "execution_count": null,
   "metadata": {
    "collapsed": true
   },
   "outputs": [],
   "source": [
    "tr"
   ]
  },
  {
   "cell_type": "code",
   "execution_count": null,
   "metadata": {
    "collapsed": true
   },
   "outputs": [],
   "source": [
    "s=str(tr.flags)\n",
    "s"
   ]
  },
  {
   "cell_type": "code",
   "execution_count": null,
   "metadata": {
    "collapsed": true
   },
   "outputs": [],
   "source": [
    "print(s)"
   ]
  },
  {
   "cell_type": "code",
   "execution_count": null,
   "metadata": {
    "collapsed": true
   },
   "outputs": [],
   "source": [
    "type(h['raw_data/event'][h['traces'][0]])"
   ]
  },
  {
   "cell_type": "code",
   "execution_count": null,
   "metadata": {
    "collapsed": true
   },
   "outputs": [],
   "source": [
    "from tes.hdf5 import Trace"
   ]
  },
  {
   "cell_type": "code",
   "execution_count": null,
   "metadata": {
    "collapsed": true
   },
   "outputs": [],
   "source": [
    "tr.flags"
   ]
  },
  {
   "cell_type": "code",
   "execution_count": null,
   "metadata": {
    "collapsed": true
   },
   "outputs": [],
   "source": [
    "tr.trace_flags"
   ]
  },
  {
   "cell_type": "code",
   "execution_count": null,
   "metadata": {
    "collapsed": true
   },
   "outputs": [],
   "source": [
    "%matplotlib notebook\n",
    "plt.plot(tr.samples)"
   ]
  },
  {
   "cell_type": "code",
   "execution_count": null,
   "metadata": {
    "collapsed": true
   },
   "outputs": [],
   "source": [
    "len(tr.samples)"
   ]
  },
  {
   "cell_type": "code",
   "execution_count": null,
   "metadata": {
    "collapsed": true
   },
   "outputs": [],
   "source": [
    "first_dt = np.dtype([('size', np.uint16), ('tflags0', np.uint8), ('tflags1', np.uint8),\n",
    "        ('flags0', np.uint8), ('flags1', np.uint8), ('time', np.uint16)])\n",
    "\n"
   ]
  },
  {
   "cell_type": "code",
   "execution_count": null,
   "metadata": {
    "collapsed": true
   },
   "outputs": [],
   "source": []
  },
  {
   "cell_type": "code",
   "execution_count": null,
   "metadata": {
    "collapsed": true
   },
   "outputs": [],
   "source": [
    "t[0:8].view(first_dt)"
   ]
  },
  {
   "cell_type": "code",
   "execution_count": null,
   "metadata": {
    "collapsed": true
   },
   "outputs": [],
   "source": []
  },
  {
   "cell_type": "code",
   "execution_count": null,
   "metadata": {
    "collapsed": true
   },
   "outputs": [],
   "source": [
    "_rref = h5py.special_dtype(ref=h5py.RegionReference)\n",
    "h=h5py.File('test.hdf5', 'w')"
   ]
  },
  {
   "cell_type": "code",
   "execution_count": null,
   "metadata": {
    "collapsed": true
   },
   "outputs": [],
   "source": [
    "h.close()"
   ]
  },
  {
   "cell_type": "code",
   "execution_count": null,
   "metadata": {
    "collapsed": true
   },
   "outputs": [],
   "source": [
    "t= np.array((10,),'u1')\n",
    "h.create_dataset('t',(10,),dtype='u1')"
   ]
  },
  {
   "cell_type": "code",
   "execution_count": null,
   "metadata": {
    "collapsed": true
   },
   "outputs": [],
   "source": [
    "h.create_dataset('r',(10,),dtype=_rref)"
   ]
  },
  {
   "cell_type": "code",
   "execution_count": null,
   "metadata": {
    "collapsed": true
   },
   "outputs": [],
   "source": [
    "h.create_dataset('s',(10,),dtype='u1')"
   ]
  },
  {
   "cell_type": "code",
   "execution_count": null,
   "metadata": {
    "collapsed": true
   },
   "outputs": [],
   "source": [
    "h['s'][0]=0\n",
    "h['s'][1]=1"
   ]
  },
  {
   "cell_type": "code",
   "execution_count": null,
   "metadata": {
    "collapsed": true
   },
   "outputs": [],
   "source": [
    "h['r'][0]=h['t'].regionref[0:2]"
   ]
  },
  {
   "cell_type": "code",
   "execution_count": null,
   "metadata": {
    "collapsed": true
   },
   "outputs": [],
   "source": [
    "r=h['r'][0]"
   ]
  },
  {
   "cell_type": "code",
   "execution_count": null,
   "metadata": {
    "collapsed": true
   },
   "outputs": [],
   "source": [
    "t= np.array([0,1,2],'u1')"
   ]
  },
  {
   "cell_type": "code",
   "execution_count": null,
   "metadata": {
    "collapsed": true
   },
   "outputs": [],
   "source": [
    "t = [0,1]\n",
    "\n",
    "f = np.uint64(0)\n",
    "print(type(f))\n",
    "f += len(t)\n",
    "print(type(f))"
   ]
  },
  {
   "cell_type": "code",
   "execution_count": null,
   "metadata": {
    "collapsed": true
   },
   "outputs": [],
   "source": [
    "t[0:1][0]"
   ]
  },
  {
   "cell_type": "code",
   "execution_count": null,
   "metadata": {
    "collapsed": true
   },
   "outputs": [],
   "source": [
    "i=0\n",
    "for p in packets:\n",
    "    if i==7:\n",
    "        break\n",
    "    i+=1"
   ]
  },
  {
   "cell_type": "code",
   "execution_count": null,
   "metadata": {
    "collapsed": true
   },
   "outputs": [],
   "source": [
    "p"
   ]
  },
  {
   "cell_type": "code",
   "execution_count": null,
   "metadata": {
    "collapsed": true
   },
   "outputs": [],
   "source": [
    "lasts = np.where(stream['last'] < 0)[0] + 1"
   ]
  },
  {
   "cell_type": "code",
   "execution_count": null,
   "metadata": {
    "collapsed": true
   },
   "outputs": [],
   "source": [
    "lasts"
   ]
  },
  {
   "cell_type": "code",
   "execution_count": null,
   "metadata": {
    "collapsed": true
   },
   "outputs": [],
   "source": [
    "'last' in stream.dtype.names"
   ]
  },
  {
   "cell_type": "code",
   "execution_count": null,
   "metadata": {
    "collapsed": true
   },
   "outputs": [],
   "source": [
    "isinstance(stream,np.ndarray)"
   ]
  },
  {
   "cell_type": "code",
   "execution_count": null,
   "metadata": {
    "collapsed": true
   },
   "outputs": [],
   "source": [
    "type('poo')"
   ]
  },
  {
   "cell_type": "code",
   "execution_count": null,
   "metadata": {
    "collapsed": true
   },
   "outputs": [],
   "source": [
    "stream[lasts[0]:]"
   ]
  },
  {
   "cell_type": "code",
   "execution_count": null,
   "metadata": {
    "collapsed": true
   },
   "outputs": [],
   "source": [
    "ps=PacketStream(stream)\n",
    "# ps.traces"
   ]
  },
  {
   "cell_type": "code",
   "execution_count": null,
   "metadata": {
    "collapsed": true
   },
   "outputs": [],
   "source": [
    "type(ps[0])"
   ]
  },
  {
   "cell_type": "code",
   "execution_count": null,
   "metadata": {
    "collapsed": true
   },
   "outputs": [],
   "source": [
    "sum(stream['last']<0)"
   ]
  },
  {
   "cell_type": "code",
   "execution_count": null,
   "metadata": {
    "collapsed": true
   },
   "outputs": [],
   "source": [
    "%matplotlib notebook\n",
    "\n",
    "plt.plot(ps.traces[3]._view['trace'])\n",
    "# ps.traces[2]._view['trace'][-20:]"
   ]
  },
  {
   "cell_type": "code",
   "execution_count": null,
   "metadata": {
    "collapsed": true
   },
   "outputs": [],
   "source": [
    "ps.traces"
   ]
  },
  {
   "cell_type": "code",
   "execution_count": null,
   "metadata": {
    "collapsed": true,
    "run_control": {
     "frozen": false,
     "read_only": false
    },
    "scrolled": true
   },
   "outputs": [],
   "source": [
    "traces=Data.fromfile('traces',trace_dt,'teslib','measurement_subsystem_TB',tool='vivado')\n",
    "stream=Data.fromfile('bytestream',stream_dt,'teslib','measurement_subsystem_TB',tool='vivado')\n",
    "bs=PacketStream(stream)\n",
    "dists=bs.distributions\n",
    "#bs.packets\n",
    "dists"
   ]
  },
  {
   "cell_type": "code",
   "execution_count": null,
   "metadata": {
    "collapsed": true
   },
   "outputs": [],
   "source": [
    "d=dists[0]\n",
    "d.counts[-1]"
   ]
  },
  {
   "cell_type": "code",
   "execution_count": null,
   "metadata": {
    "collapsed": true
   },
   "outputs": [],
   "source": [
    "d.total+d.underflow+d.overflow"
   ]
  },
  {
   "cell_type": "code",
   "execution_count": null,
   "metadata": {
    "collapsed": true
   },
   "outputs": [],
   "source": [
    "%matplotlib notebook\n",
    "plt.plot(d.bins)"
   ]
  },
  {
   "cell_type": "code",
   "execution_count": null,
   "metadata": {
    "collapsed": true,
    "scrolled": false
   },
   "outputs": [],
   "source": [
    "f=EventFlags(es[2][2]['flags'])\n",
    "f.channel"
   ]
  },
  {
   "cell_type": "code",
   "execution_count": null,
   "metadata": {
    "collapsed": true,
    "run_control": {
     "frozen": false,
     "read_only": false
    },
    "scrolled": true
   },
   "outputs": [],
   "source": [
    "import tes.mca as mca\n",
    "d=bs.distributions[0]\n",
    "eset=np.uint64(1)\n",
    "bset=np.uint64(0)\n",
    "cset=np.uint64(20)\n",
    "\n",
    "stop=d.stop_time+eset+cset\n",
    "start=d.start_time+bset+cset\n",
    "bins=np.zeros((d.last_bin+1,),dtype=np.uint32)\n",
    "\n",
    "if d.value==mca.Value.raw_signal:\n",
    "    tname='raw'\n",
    "elif d.value==mca.Value.filtered_signal:\n",
    "    tname='filtered'\n",
    "elif d.value==mca.Value.slope_signal:\n",
    "    tname='slope'\n",
    "\n",
    "for i in range(start,stop):\n",
    "    s = traces[tname][i]\n",
    "    if s < d.lowest_value:\n",
    "        bins[0] += 1\n",
    "    else:\n",
    "        bin_number = s - d.lowest_value + 1\n",
    "        if bin_number < d.last_bin:\n",
    "            bins[bin_number] += 1\n",
    "        else:\n",
    "            bins[d.last_bin] += 1\n",
    "        \n",
    "bad=(bins-d.counts).nonzero()\n",
    "bad"
   ]
  },
  {
   "cell_type": "code",
   "execution_count": null,
   "metadata": {
    "collapsed": true
   },
   "outputs": [],
   "source": [
    "d.counts[bad][1:10]"
   ]
  },
  {
   "cell_type": "code",
   "execution_count": null,
   "metadata": {
    "collapsed": true
   },
   "outputs": [],
   "source": [
    "bins[bad][1:10]"
   ]
  },
  {
   "cell_type": "code",
   "execution_count": null,
   "metadata": {
    "collapsed": true
   },
   "outputs": [],
   "source": [
    "d.value"
   ]
  },
  {
   "cell_type": "code",
   "execution_count": null,
   "metadata": {
    "collapsed": true,
    "scrolled": false
   },
   "outputs": [],
   "source": [
    "%matplotlib notebook\n",
    "plt.step(np.arange(len(d.bins)),d.bins)\n",
    "# plt.step(np.arange(len(d.counts)),bins)\n",
    "plt.plot(bad,np.zeros_like(bad),'.k')"
   ]
  },
  {
   "cell_type": "code",
   "execution_count": null,
   "metadata": {
    "collapsed": true
   },
   "outputs": [],
   "source": [
    "sum(d.counts)"
   ]
  },
  {
   "cell_type": "code",
   "execution_count": null,
   "metadata": {
    "collapsed": true
   },
   "outputs": [],
   "source": [
    "2**14+2000"
   ]
  },
  {
   "cell_type": "code",
   "execution_count": null,
   "metadata": {
    "collapsed": true,
    "run_control": {
     "frozen": false,
     "read_only": false
    }
   },
   "outputs": [],
   "source": [
    "def plot_event(event_tupple):\n",
    "    pre=200\n",
    "    post=1000\n",
    "    timestamp=event_tupple[0]\n",
    "    event_type=event_tupple[1]\n",
    "    event=event_tupple[2]\n",
    "    flags=EventFlags(event['flags'])\n",
    "    print(flags)\n",
    "    print('timestamp',timestamp, 'time', event['time'])\n",
    "    if flags.type == Event.tick:\n",
    "        return\n",
    "    s=traces['filtered'][timestamp+20-pre:timestamp+20+post]\n",
    "    r=traces['raw'][timestamp+20-pre:timestamp+20+post]\n",
    "    i = np.where(abs(minmax['clk'])<=timestamp+20)[0][-1]\n",
    "    min_t=abs(minmax['clk'][i])-(timestamp+20)\n",
    "#     print(minmax['clk'][i],min_t,i,timestamp)\n",
    "    plt.plot(r,'k',linewidth=0.5)\n",
    "    plt.plot(s,'b',linewidth=2)\n",
    "    plt.plot([pre],s[pre],'sg')\n",
    "    plt.plot([pre+min_t],minmax['filtered'][i],'sr')\n",
    "    if event_type==Event.pulse:\n",
    "        for i in range(flags.peak_number):\n",
    "            p=event['peaks'][i]\n",
    "            plt.plot([0,len(s)-1],[p['height'],p['height']],':r')\n",
    "    else:\n",
    "      plt.plot([0,len(s)-1],[event['height'],event['height']],':r')\n",
    "        \n",
    "    #print(event['height'],event['minima'])\n",
    "    #print(minmax['filtered'][i]==s[pre+min_t])\n",
    "    #print(minmax['filtered'][i]==event['minima'])\n",
    "    #print(s[pre],s[pre-1])"
   ]
  },
  {
   "cell_type": "code",
   "execution_count": null,
   "metadata": {
    "collapsed": true,
    "run_control": {
     "frozen": false,
     "read_only": false
    }
   },
   "outputs": [],
   "source": [
    "pwd"
   ]
  },
  {
   "cell_type": "code",
   "execution_count": null,
   "metadata": {
    "collapsed": true
   },
   "outputs": [],
   "source": [
    "es=bs.eventstream\n",
    "es"
   ]
  },
  {
   "cell_type": "code",
   "execution_count": null,
   "metadata": {
    "collapsed": true,
    "run_control": {
     "frozen": false,
     "read_only": false
    }
   },
   "outputs": [],
   "source": [
    "%matplotlib notebook\n",
    "for e in es:\n",
    "    if e[1]==Event.peak:\n",
    "        plot_event(e)"
   ]
  },
  {
   "cell_type": "code",
   "execution_count": null,
   "metadata": {
    "collapsed": true,
    "run_control": {
     "frozen": false,
     "read_only": false
    }
   },
   "outputs": [],
   "source": [
    "es"
   ]
  },
  {
   "cell_type": "code",
   "execution_count": null,
   "metadata": {
    "collapsed": true,
    "run_control": {
     "frozen": false,
     "read_only": false
    }
   },
   "outputs": [],
   "source": [
    "dists=bs.distributions\n",
    "dists"
   ]
  },
  {
   "cell_type": "code",
   "execution_count": null,
   "metadata": {
    "collapsed": true,
    "run_control": {
     "frozen": false,
     "read_only": false
    }
   },
   "outputs": [],
   "source": [
    "bs.packets[185].payload"
   ]
  },
  {
   "cell_type": "code",
   "execution_count": null,
   "metadata": {
    "collapsed": true,
    "run_control": {
     "frozen": false,
     "read_only": false
    }
   },
   "outputs": [],
   "source": [
    "d=bs.distributions[0]\n",
    "eset=np.uint64(1)\n",
    "bset=np.uint64(0)\n",
    "cset=np.uint64(20)\n",
    "\n",
    "stop=d.stop_time+eset+cset\n",
    "start=d.start_time+bset+cset\n",
    "bins=np.zeros((d.last_bin+1,),dtype=np.uint32)\n",
    "for i in range(start,stop):\n",
    "    s = traces['raw'][i]\n",
    "    if s <= d.lowest_value:\n",
    "        bins[0] += 1\n",
    "    else:\n",
    "        bins[s-d.lowest_value] += 1\n",
    "        \n",
    "(bins-d.counts).nonzero()"
   ]
  },
  {
   "cell_type": "code",
   "execution_count": null,
   "metadata": {
    "collapsed": true,
    "run_control": {
     "frozen": false,
     "read_only": false
    }
   },
   "outputs": [],
   "source": [
    "%matplotlib notebook\n",
    "plt.step(np.arange(len(d.counts)),d.counts)"
   ]
  },
  {
   "cell_type": "code",
   "execution_count": null,
   "metadata": {
    "collapsed": true,
    "run_control": {
     "frozen": false,
     "read_only": false
    }
   },
   "outputs": [],
   "source": [
    "bins[bins.nonzero()]"
   ]
  },
  {
   "cell_type": "code",
   "execution_count": null,
   "metadata": {
    "collapsed": true,
    "run_control": {
     "frozen": false,
     "read_only": false
    }
   },
   "outputs": [],
   "source": [
    "sum(d.counts)"
   ]
  },
  {
   "cell_type": "code",
   "execution_count": null,
   "metadata": {
    "collapsed": true,
    "run_control": {
     "frozen": false,
     "read_only": false
    }
   },
   "outputs": [],
   "source": [
    "2**14+2000"
   ]
  },
  {
   "cell_type": "code",
   "execution_count": null,
   "metadata": {
    "collapsed": true,
    "run_control": {
     "frozen": false,
     "read_only": false
    }
   },
   "outputs": [],
   "source": [
    "es[3][2]['timestamp']-es[0][2]['timestamp']"
   ]
  },
  {
   "cell_type": "code",
   "execution_count": null,
   "metadata": {
    "collapsed": true,
    "run_control": {
     "frozen": false,
     "read_only": false
    }
   },
   "outputs": [],
   "source": [
    "def xings(s, thresh):\n",
    "    pos=s > thresh\n",
    "    neg=s < thresh\n",
    "    pos0=s >= thresh\n",
    "    neg0=s <= thresh\n",
    "    pos_xing_mask = np.bitwise_and(pos0[1:],neg[0:-1])  \n",
    "    neg_xing_mask = np.bitwise_and(neg0[1:],pos[0:-1])  \n",
    "    return pos_xing_mask.nonzero()[0]+1, neg_xing_mask.nonzero()[0]+1"
   ]
  },
  {
   "cell_type": "code",
   "execution_count": null,
   "metadata": {
    "collapsed": true,
    "run_control": {
     "frozen": false,
     "read_only": false
    }
   },
   "outputs": [],
   "source": [
    "from mpl_toolkits.axes_grid1 import host_subplot\n",
    "\n",
    "def plot_trace(traces,start,width):\n",
    "\n",
    "    ax = host_subplot(111)\n",
    "    axr = ax.twinx()\n",
    "    axt = ax.twiny()\n",
    "#ax.plot(t[0:-1:10],s[0:-1:10],'k')\n",
    "#ax.plot(t,s,'k')\n",
    "    axt.set_xlabel('Time ns',fontsize=18)\n",
    "    ax.set_ylabel('Voltage (Arbitary Units)',fontsize=18)\n",
    "#plt.xticks(visible=False)\n",
    "#plt.yticks(visible=False)\n",
    "#ax.set_xlim(0,t[4000000])\n",
    "#start=902000\n",
    "#width=2500\n",
    "    f=traces['filtered'][start:start+width]\n",
    "    s=traces['slope'][start:start+width]\n",
    "    t=np.arange(len(f))*4e-9\n",
    "#ts=t[pstart:pstop]\n",
    "#axins = fig.add_axes([.4, .45, .45, .4])\n",
    "    ax.set_xlim(t[0],t[-1])\n",
    "    axt.set_xlim(t[0],t[-1])\n",
    "\n",
    "    ylim=(-500,2000)\n",
    "\n",
    "    ax.set_ylim(ylim[0],ylim[1])\n",
    "    axr.set_ylim(ylim[0],ylim[1])\n",
    "\n",
    "    filtered, = ax.step(t,f,'k',lw=2,label='filtered')\n",
    "    slope, = ax.step(t,s,'b',label='slope')\n",
    "    ax.fill_between(t,0,s,alpha=.4)\n",
    "    plt.ylim=ylim\n",
    "\n",
    "pos=s>0\n",
    "neg=s<=0\n",
    "pos_xing_mask = np.bitwise_and(pos[1:-1],neg[0:-2])  \n",
    "neg_xing_mask = np.bitwise_and(neg[1:-1],pos[0:-2])  \n",
    "pos_xing=pos_xing_mask.nonzero()\n",
    "neg_xing=neg_xing_mask.nonzero()\n",
    "\n",
    "rx=[t[pos_xing[0][0]], t[neg_xing[0][0]]]\n",
    "ry=[f[pos_xing[0][0]], f[neg_xing[0][0]]]\n",
    "\n",
    "ax.fill_between(t[pos_xing[0][0]:neg_xing[0][0]],0,s[pos_xing[0][0]:neg_xing[0][0]],alpha=.4,color='r')\n",
    "\n",
    "#plt.plot(rx,[ry[0], ry[0]],'-r',lw=2)\n",
    "#plt.plot([rx[1],rx[1]], ry,'-r',lw=2)\n",
    "# thresholds\n",
    "sthresh = 600\n",
    "pthresh = 1000\n",
    "plt.plot([t[0], t[-1]], [sthresh, sthresh], '--b', lw=2)\n",
    "plt.plot([t[0], t[-1]], [pthresh, pthresh], '--k', lw=2)\n",
    "\n",
    "sthresh_xing=(s>sthresh).nonzero()[0][0]\n",
    "pthresh_xing=(f>pthresh).nonzero()[0][0]\n",
    "\n",
    "\n",
    "cf=.10\n",
    "height = ry[1]-ry[0]\n",
    "cfl=ry[0]+(height*cf)\n",
    "cfh=ry[1]-(height*cf)\n",
    "\n",
    "cfl_xing=(f>cfl).nonzero()[0][0]\n",
    "cfd_low=f[cfl_xing]\n",
    "cfh_xing=(f>cfh).nonzero()[0][0]\n",
    "cfd_high=f[cfh_xing]\n",
    "\n",
    "#plt.plot([t[cfl_xing], t[-1]],[cfd_low, cfd_low], ':r')\n",
    "#plt.plot([t[cfh_xing], t[-1]],[cfd_high, cfd_high], ':r')\n",
    "#plt.plot([x[1], t[-1]],[y[1], y[1]], ':r')\n",
    "plt.legend([filtered, slope],['Signal', 'Slope'],loc=2)\n",
    "\n",
    "#axr = ax.twinx()\n",
    "##################################################################\n",
    "#yticks=([ry[0],sthresh,pthresh,cfd_high,ry[1]])\n",
    "yticks=([sthresh,pthresh])\n",
    "axr.set_yticks(yticks)\n",
    "#yticklabels=['Start','Slope threshold','Pulse threshold','CF high','Peak']\n",
    "yticklabels=['Slope threshold','Pulse threshold']\n",
    "axr.set_yticklabels(yticklabels, color='r',fontsize=14)\n",
    "axr.get_yticklabels()[0].set_color('b')\n",
    "axr.get_yticklabels()[1].set_color('k')\n",
    "\n",
    "#xticks=([rx[0],t[cfl_xing],t[sthresh_xing],t[pthresh_xing],rx[1]])\n",
    "xticks=(t[cfl_xing],rx[1])\n",
    "#ax.set_xticks([rx[0],t[cfl_xing],t[sthresh_xing],t[pthresh_xing],rx[1]])\n",
    "ax.set_xticks(xticks)\n",
    "#xticklabels=['Start','CF low','Slope xing','Signal xing','Peak']\n",
    "xticklabels=['CF low','Peak']\n",
    "ax.set_xticklabels(xticklabels, color='r',fontsize=14)\n",
    "\n",
    "#plt.plot([t[cfh_xing], t[-1]],[cfd_high, cfd_high], ':r')\n",
    "#horoz start, stop lines\n",
    "#hpeak=ax.plot([xticks[1], t[-1]],[yticks[-1], yticks[-1]], '-.r')\n",
    "#hstart=ax.plot([xticks[0], t[-1]],[yticks[0], yticks[0]], '-.r')\n",
    "#vert start stop\n",
    "vstart=ax.plot([xticks[0], xticks[0]],[cfd_low, ylim[0]], '-.r')\n",
    "vpeak=ax.plot([xticks[1], xticks[1]],[ylim[0], ry[1]], '-.r')\n",
    "\n",
    "plt.tight_layout()\n",
    "plt.savefig('..//peakextraction7.svg')\n",
    "plt.show()\n",
    "print('risetime:',(xticks[1]-xticks[0])/4)\n",
    "print('height:',yticks[-1]-yticks[0])\n",
    "print('time:',(xticks[0]-rx[0])/4)\n",
    "print('area',sum(s[pos_xing[0][0]:neg_xing[0][0]])/256)\n"
   ]
  },
  {
   "cell_type": "code",
   "execution_count": null,
   "metadata": {
    "collapsed": true,
    "run_control": {
     "frozen": false,
     "read_only": false
    }
   },
   "outputs": [],
   "source": [
    "slope_0xings = xings(traces['slope'],0)"
   ]
  },
  {
   "cell_type": "code",
   "execution_count": null,
   "metadata": {
    "collapsed": true,
    "run_control": {
     "frozen": false,
     "read_only": false
    }
   },
   "outputs": [],
   "source": [
    "slope_0xings"
   ]
  },
  {
   "cell_type": "code",
   "execution_count": null,
   "metadata": {
    "collapsed": true,
    "run_control": {
     "frozen": false,
     "read_only": false
    }
   },
   "outputs": [],
   "source": [
    "%matplotlib notebook\n",
    "start=10000\n",
    "width=300\n",
    "plt.plot(traces['filtered'][start:start+width]/2)"
   ]
  },
  {
   "cell_type": "code",
   "execution_count": null,
   "metadata": {
    "collapsed": true,
    "run_control": {
     "frozen": false,
     "read_only": false
    }
   },
   "outputs": [],
   "source": [
    "%matplotlib notebook\n",
    "plt.plot(traces['slope'][20400:21700])"
   ]
  },
  {
   "cell_type": "code",
   "execution_count": null,
   "metadata": {
    "collapsed": true,
    "run_control": {
     "frozen": false,
     "read_only": false
    }
   },
   "outputs": [],
   "source": [
    "filtered=traces['filtered'][1100:]\n",
    "filteredL=traces['filteredL'][1100:]"
   ]
  },
  {
   "cell_type": "code",
   "execution_count": null,
   "metadata": {
    "collapsed": true,
    "run_control": {
     "frozen": false,
     "read_only": false
    }
   },
   "outputs": [],
   "source": [
    "filtered[:10]"
   ]
  },
  {
   "cell_type": "code",
   "execution_count": null,
   "metadata": {
    "collapsed": true,
    "run_control": {
     "frozen": false,
     "read_only": false
    }
   },
   "outputs": [],
   "source": [
    "filteredL[:10]/4"
   ]
  },
  {
   "cell_type": "code",
   "execution_count": null,
   "metadata": {
    "collapsed": true,
    "run_control": {
     "frozen": false,
     "read_only": false
    }
   },
   "outputs": [],
   "source": [
    "minmax_dt=np.dtype([('filtered','i4'),('low','i4'),('high','i4'),('clk','i4')])\n",
    "minmax=Data.fromfile('minmax',minmax_dt,'teslib','measurement_subsystem_TB',tool='vivado')\n",
    "fxing_dt=np.dtype([('extrema','i4'),('area','i4'),('clk','i4')])\n",
    "fxing=Data.fromfile('filteredxing',fxing_dt,'teslib','measurement_subsystem_TB',tool='vivado')"
   ]
  },
  {
   "cell_type": "code",
   "execution_count": null,
   "metadata": {
    "collapsed": true,
    "run_control": {
     "frozen": false,
     "read_only": false
    }
   },
   "outputs": [],
   "source": [
    "minmax"
   ]
  },
  {
   "cell_type": "code",
   "execution_count": null,
   "metadata": {
    "collapsed": true,
    "run_control": {
     "frozen": false,
     "read_only": false
    }
   },
   "outputs": [],
   "source": [
    "fxing"
   ]
  },
  {
   "cell_type": "code",
   "execution_count": null,
   "metadata": {
    "collapsed": true,
    "run_control": {
     "frozen": false,
     "read_only": false
    }
   },
   "outputs": [],
   "source": [
    "np.where(fxing['area']==0)"
   ]
  },
  {
   "cell_type": "code",
   "execution_count": null,
   "metadata": {
    "collapsed": true,
    "run_control": {
     "frozen": false,
     "read_only": false
    }
   },
   "outputs": [],
   "source": [
    "np.where(fxing['extrema']==0)"
   ]
  },
  {
   "cell_type": "code",
   "execution_count": null,
   "metadata": {
    "collapsed": true,
    "run_control": {
     "frozen": false,
     "read_only": false
    }
   },
   "outputs": [],
   "source": [
    "fxing[30]"
   ]
  },
  {
   "cell_type": "code",
   "execution_count": null,
   "metadata": {
    "collapsed": true,
    "run_control": {
     "frozen": false,
     "read_only": false
    }
   },
   "outputs": [],
   "source": [
    "exn=np.where(fxing['extrema']<0)\n",
    "clkn=np.where(fxing['clk']>0)"
   ]
  },
  {
   "cell_type": "code",
   "execution_count": null,
   "metadata": {
    "collapsed": true,
    "run_control": {
     "frozen": false,
     "read_only": false
    }
   },
   "outputs": [],
   "source": []
  },
  {
   "cell_type": "code",
   "execution_count": null,
   "metadata": {
    "collapsed": true,
    "run_control": {
     "frozen": false,
     "read_only": false
    }
   },
   "outputs": [],
   "source": [
    "fxing[374]"
   ]
  },
  {
   "cell_type": "code",
   "execution_count": null,
   "metadata": {
    "collapsed": true,
    "run_control": {
     "frozen": false,
     "read_only": false
    }
   },
   "outputs": [],
   "source": [
    "clkn"
   ]
  },
  {
   "cell_type": "code",
   "execution_count": null,
   "metadata": {
    "collapsed": true,
    "run_control": {
     "frozen": false,
     "read_only": false
    }
   },
   "outputs": [],
   "source": [
    "np.where(minmax[maxs[0]-1]['min']!=1)"
   ]
  },
  {
   "cell_type": "code",
   "execution_count": null,
   "metadata": {
    "collapsed": true,
    "run_control": {
     "frozen": false,
     "read_only": false
    }
   },
   "outputs": [],
   "source": [
    "minmax[maxs[0]-1][65]"
   ]
  },
  {
   "cell_type": "code",
   "execution_count": null,
   "metadata": {
    "collapsed": true,
    "run_control": {
     "frozen": false,
     "read_only": false
    }
   },
   "outputs": [],
   "source": [
    "2290-925"
   ]
  },
  {
   "cell_type": "code",
   "execution_count": null,
   "metadata": {
    "collapsed": true,
    "run_control": {
     "frozen": false,
     "read_only": false
    }
   },
   "outputs": [],
   "source": [
    "0.375*4"
   ]
  },
  {
   "cell_type": "code",
   "execution_count": null,
   "metadata": {
    "collapsed": true,
    "run_control": {
     "frozen": false,
     "read_only": false
    }
   },
   "outputs": [],
   "source": [
    "np.where(minmax['clock']==2290)"
   ]
  },
  {
   "cell_type": "code",
   "execution_count": null,
   "metadata": {
    "collapsed": true,
    "run_control": {
     "frozen": false,
     "read_only": false
    }
   },
   "outputs": [],
   "source": [
    "minmax[120:140]"
   ]
  },
  {
   "cell_type": "code",
   "execution_count": null,
   "metadata": {
    "collapsed": true,
    "run_control": {
     "frozen": false,
     "read_only": false
    }
   },
   "outputs": [],
   "source": [
    "stream_dt=np.dtype([('data','>i4'),('last','i4')])\n",
    "#stream=np.fromfile('data/stream',stream_dt)"
   ]
  },
  {
   "cell_type": "markdown",
   "metadata": {},
   "source": [
    "### bytestream stuff"
   ]
  },
  {
   "cell_type": "code",
   "execution_count": null,
   "metadata": {
    "collapsed": true,
    "run_control": {
     "frozen": false,
     "read_only": false
    }
   },
   "outputs": [],
   "source": [
    "stream_dt=np.dtype([('data','i4'),('last','i4')])\n",
    "stream=Data.fromfile('bytestream',stream_dt,'teslib','measurement_subsystem_TB',tool='vivado')\n",
    "lasts=np.where(stream['last']<=0)[0]+1\n",
    "#data=np.copy(stream['data'])"
   ]
  },
  {
   "cell_type": "code",
   "execution_count": null,
   "metadata": {
    "collapsed": true,
    "run_control": {
     "frozen": false,
     "read_only": false
    }
   },
   "outputs": [],
   "source": [
    "stream"
   ]
  },
  {
   "cell_type": "code",
   "execution_count": null,
   "metadata": {
    "collapsed": true,
    "run_control": {
     "frozen": false,
     "read_only": false
    }
   },
   "outputs": [],
   "source": []
  },
  {
   "cell_type": "code",
   "execution_count": null,
   "metadata": {
    "collapsed": true,
    "run_control": {
     "frozen": false,
     "read_only": false
    }
   },
   "outputs": [],
   "source": [
    "stream=np.fromfile('data/bytestream',stream_dt)"
   ]
  },
  {
   "cell_type": "code",
   "execution_count": null,
   "metadata": {
    "collapsed": true,
    "run_control": {
     "frozen": false,
     "read_only": false
    }
   },
   "outputs": [],
   "source": [
    "bs=PacketStream(stream)"
   ]
  },
  {
   "cell_type": "code",
   "execution_count": null,
   "metadata": {
    "collapsed": true,
    "run_control": {
     "frozen": false,
     "read_only": false
    }
   },
   "outputs": [],
   "source": [
    "bs.packets"
   ]
  },
  {
   "cell_type": "code",
   "execution_count": null,
   "metadata": {
    "collapsed": true,
    "run_control": {
     "frozen": false,
     "read_only": false
    }
   },
   "outputs": [],
   "source": [
    "bs.packets[4]"
   ]
  },
  {
   "cell_type": "code",
   "execution_count": null,
   "metadata": {
    "collapsed": true,
    "run_control": {
     "frozen": false,
     "read_only": false
    }
   },
   "outputs": [],
   "source": [
    "eheader_dt=[('etype','<u2'),('length','u2'),()]"
   ]
  },
  {
   "cell_type": "code",
   "execution_count": null,
   "metadata": {
    "collapsed": true,
    "run_control": {
     "frozen": false,
     "read_only": false
    }
   },
   "outputs": [],
   "source": [
    "'{:X}'.format(bs.packets[1].bytes[23])\n"
   ]
  },
  {
   "cell_type": "code",
   "execution_count": null,
   "metadata": {
    "collapsed": true,
    "run_control": {
     "frozen": false,
     "read_only": false
    }
   },
   "outputs": [],
   "source": [
    "'{:X}'.format(bs.packets[0].bytes[28:30].view(np.uint16)[0])"
   ]
  },
  {
   "cell_type": "code",
   "execution_count": null,
   "metadata": {
    "collapsed": true,
    "run_control": {
     "frozen": false,
     "read_only": false
    }
   },
   "outputs": [],
   "source": [
    "pulse_peak_dt=np.dtype([('height','i2'),('rise','i2'),('minima','u2'),('time','i2')])\n",
    "pulse_dt=np.dtype([('size','i2'),('resv','i2'),('flags','i2'),('time','u2'),\n",
    "                  ('area','i4'),('length','i2'),('offset','i2'),('peaks',(pulse_peak_dt,2))])"
   ]
  },
  {
   "cell_type": "code",
   "execution_count": null,
   "metadata": {
    "collapsed": true,
    "run_control": {
     "frozen": false,
     "read_only": false
    }
   },
   "outputs": [],
   "source": [
    "pulses=bs.packets[3].payload.view(pulse_dt)"
   ]
  },
  {
   "cell_type": "code",
   "execution_count": null,
   "metadata": {
    "collapsed": true,
    "run_control": {
     "frozen": false,
     "read_only": false
    }
   },
   "outputs": [],
   "source": [
    "pulses['peaks']"
   ]
  },
  {
   "cell_type": "code",
   "execution_count": null,
   "metadata": {
    "collapsed": true,
    "run_control": {
     "frozen": false,
     "read_only": false
    }
   },
   "outputs": [],
   "source": [
    "pulses['offset']"
   ]
  },
  {
   "cell_type": "code",
   "execution_count": null,
   "metadata": {
    "collapsed": true,
    "run_control": {
     "frozen": false,
     "read_only": false
    }
   },
   "outputs": [],
   "source": [
    "pulses['length']"
   ]
  },
  {
   "cell_type": "code",
   "execution_count": null,
   "metadata": {
    "collapsed": true,
    "run_control": {
     "frozen": false,
     "read_only": false
    }
   },
   "outputs": [],
   "source": [
    "class eflags:\n",
    "    def __init__(self,uint16):\n",
    "        self.new_window=np.bitwise_and(uint16,0x00000001)!=0\n",
    "        self.tick=np.bitwise_and(uint16,0x00000002)!=0\n",
    "        self.type=np.right_shift(np.bitwise_and(uint16,0x0000000c),2)\n",
    "        \n",
    "    def __repr__(self):\n",
    "        return 'New window:{:}\\n'.format(self.new_window) + \\\n",
    "               'Tick:{:}\\n'.format(self.tick) + \\\n",
    "               'Type:{:}\\n'.format(self.type) "
   ]
  },
  {
   "cell_type": "code",
   "execution_count": null,
   "metadata": {
    "collapsed": true,
    "run_control": {
     "frozen": false,
     "read_only": false
    }
   },
   "outputs": [],
   "source": [
    "f=eflags(pulses[0]['flags'])\n",
    "f"
   ]
  },
  {
   "cell_type": "code",
   "execution_count": null,
   "metadata": {
    "collapsed": true,
    "run_control": {
     "frozen": false,
     "read_only": false
    }
   },
   "outputs": [],
   "source": [
    "'{:X}'.format(bs.packets[3].bytes[13:14].view(np.uint16))"
   ]
  },
  {
   "cell_type": "code",
   "execution_count": null,
   "metadata": {
    "collapsed": true,
    "run_control": {
     "frozen": false,
     "read_only": false
    }
   },
   "outputs": [],
   "source": []
  },
  {
   "cell_type": "code",
   "execution_count": null,
   "metadata": {
    "collapsed": true,
    "run_control": {
     "frozen": false,
     "read_only": false
    }
   },
   "outputs": [],
   "source": [
    "'{:X}'.format(bs.packets[3].bytes[14:16].view(np.uint16)[0])"
   ]
  },
  {
   "cell_type": "code",
   "execution_count": null,
   "metadata": {
    "collapsed": true,
    "run_control": {
     "frozen": false,
     "read_only": false
    }
   },
   "outputs": [],
   "source": [
    "bs.packets[3].bytes[14:16].view(np.uint16)[0]"
   ]
  },
  {
   "cell_type": "code",
   "execution_count": null,
   "metadata": {
    "collapsed": true,
    "run_control": {
     "frozen": false,
     "read_only": false
    }
   },
   "outputs": [],
   "source": [
    "bs=np.uint8(stream['data'][:48])"
   ]
  },
  {
   "cell_type": "code",
   "execution_count": null,
   "metadata": {
    "collapsed": true,
    "run_control": {
     "frozen": false,
     "read_only": false
    }
   },
   "outputs": [],
   "source": [
    "bs"
   ]
  },
  {
   "cell_type": "code",
   "execution_count": null,
   "metadata": {
    "collapsed": true,
    "run_control": {
     "frozen": false,
     "read_only": false
    }
   },
   "outputs": [],
   "source": [
    "events=stream['data'].view(event_dt)"
   ]
  },
  {
   "cell_type": "code",
   "execution_count": null,
   "metadata": {
    "collapsed": true,
    "run_control": {
     "frozen": false,
     "read_only": false
    }
   },
   "outputs": [],
   "source": [
    "'{:X}'.format(events['flags'][0])"
   ]
  },
  {
   "cell_type": "code",
   "execution_count": null,
   "metadata": {
    "collapsed": true,
    "run_control": {
     "frozen": false,
     "read_only": false
    }
   },
   "outputs": [],
   "source": [
    "events['rise']"
   ]
  },
  {
   "cell_type": "code",
   "execution_count": null,
   "metadata": {
    "collapsed": true,
    "run_control": {
     "frozen": false,
     "read_only": false
    }
   },
   "outputs": [],
   "source": [
    "events"
   ]
  },
  {
   "cell_type": "code",
   "execution_count": null,
   "metadata": {
    "collapsed": true,
    "run_control": {
     "frozen": false,
     "read_only": false
    }
   },
   "outputs": [],
   "source": [
    "'{:04X}'.format(events['flags'][1])"
   ]
  },
  {
   "cell_type": "code",
   "execution_count": null,
   "metadata": {
    "collapsed": true,
    "run_control": {
     "frozen": false,
     "read_only": false
    }
   },
   "outputs": [],
   "source": [
    "pulse_peak_dt=np.dtype([('time','>i2'),('minima','>i2'),('rise','>u2'),('height','>i2')])\n",
    "pulse_dt=np.dtype([('time','>i2'),('flags','>i2'),('resv','>i2'),('size','>u2'),\n",
    "                  ('offset','>i2'),('length','>i2'),('area','>i4'),('peaks',(pulse_peak_dt,1))])\n",
    "data=np.copy(stream['data'])"
   ]
  },
  {
   "cell_type": "code",
   "execution_count": null,
   "metadata": {
    "collapsed": true,
    "run_control": {
     "frozen": false,
     "read_only": false
    }
   },
   "outputs": [],
   "source": [
    "pulses=data.view(pulse_dt)"
   ]
  },
  {
   "cell_type": "code",
   "execution_count": null,
   "metadata": {
    "collapsed": true,
    "run_control": {
     "frozen": false,
     "read_only": false
    }
   },
   "outputs": [],
   "source": [
    "pulses['peaks']['height']-pulses['peaks']['minima']"
   ]
  },
  {
   "cell_type": "code",
   "execution_count": null,
   "metadata": {
    "collapsed": true,
    "run_control": {
     "frozen": false,
     "read_only": false
    }
   },
   "outputs": [],
   "source": [
    "pulses['peaks']['minima']"
   ]
  },
  {
   "cell_type": "code",
   "execution_count": null,
   "metadata": {
    "collapsed": true,
    "run_control": {
     "frozen": false,
     "read_only": false
    }
   },
   "outputs": [],
   "source": [
    "peak_count=np.right_shift(np.bitwise_and(pulses['flags'],0xF000),12)\n",
    "peak_overflow=np.bitwise_and(pulses['flags'],0x0800)!=0\n",
    "channel=np.right_shift(np.bitwise_and(pulses['flags'],0x0700),8)\n",
    "timing_type=np.right_shift(np.bitwise_and(pulses['flags'],0x00C0),6)\n",
    "height_type=np.right_shift(np.bitwise_and(pulses['flags'],0x0030),4)\n",
    "event_type=np.right_shift(np.bitwise_and(pulses['flags'],0x000E),1)\n",
    "new_window=np.bitwise_and(pulses['flags'],0x0001)!=0"
   ]
  },
  {
   "cell_type": "code",
   "execution_count": null,
   "metadata": {
    "collapsed": true,
    "run_control": {
     "frozen": false,
     "read_only": false
    }
   },
   "outputs": [],
   "source": [
    "peak_overflow"
   ]
  },
  {
   "cell_type": "code",
   "execution_count": null,
   "metadata": {
    "collapsed": true,
    "run_control": {
     "frozen": false,
     "read_only": false
    }
   },
   "outputs": [],
   "source": [
    "test_dt=np.dtype(\n",
    "    [('time','i2'),('flags','i2'),('rise','u2'),('minima','i2'),('low','u8'),('high','u8')]\n",
    ")\n",
    "test=data.view(test_dt)"
   ]
  },
  {
   "cell_type": "code",
   "execution_count": null,
   "metadata": {
    "collapsed": true,
    "run_control": {
     "frozen": false,
     "read_only": false
    }
   },
   "outputs": [],
   "source": [
    "test"
   ]
  },
  {
   "cell_type": "code",
   "execution_count": null,
   "metadata": {
    "collapsed": true,
    "run_control": {
     "frozen": false,
     "read_only": false
    }
   },
   "outputs": [],
   "source": [
    "test['minima']"
   ]
  },
  {
   "cell_type": "code",
   "execution_count": null,
   "metadata": {
    "collapsed": true,
    "run_control": {
     "frozen": false,
     "read_only": false
    }
   },
   "outputs": [],
   "source": [
    "low1=np.int32(np.right_shift(np.bitwise_and(test['low'],0x03FFFF000000000),36))\n",
    "s=(np.bitwise_and(low1,0x00020000)!=0)*0xFFFC0000\n",
    "low2=np.int32(np.right_shift(np.bitwise_and(test['low'],0x000000FFFFC0000),18))\n",
    "low_threshold=np.int32(np.bitwise_and(test['low'],0x00000000003FFFF))\n",
    "high1=np.int32(np.right_shift(np.bitwise_and(test['high'],0x03FFFF000000000),36))\n",
    "high2=np.int32(np.right_shift(np.bitwise_and(test['high'],0x000000FFFFC0000),18))\n",
    "high_threshold=np.int32(np.bitwise_and(test['high'],0x00000000003FFFF))"
   ]
  },
  {
   "cell_type": "code",
   "execution_count": null,
   "metadata": {
    "collapsed": true,
    "run_control": {
     "frozen": false,
     "read_only": false
    }
   },
   "outputs": [],
   "source": [
    "np.int32(np.bitwise_or(low1,s))/8.0"
   ]
  },
  {
   "cell_type": "code",
   "execution_count": null,
   "metadata": {
    "collapsed": true,
    "run_control": {
     "frozen": false,
     "read_only": false
    }
   },
   "outputs": [],
   "source": [
    "'{:04X}'.format(low1[0])"
   ]
  },
  {
   "cell_type": "code",
   "execution_count": null,
   "metadata": {
    "collapsed": true,
    "run_control": {
     "frozen": false,
     "read_only": false
    }
   },
   "outputs": [],
   "source": [
    "high1/8.0"
   ]
  },
  {
   "cell_type": "code",
   "execution_count": null,
   "metadata": {
    "collapsed": true,
    "run_control": {
     "frozen": false,
     "read_only": false
    }
   },
   "outputs": [],
   "source": [
    "high2/8.0"
   ]
  },
  {
   "cell_type": "code",
   "execution_count": null,
   "metadata": {
    "collapsed": true,
    "run_control": {
     "frozen": false,
     "read_only": false
    }
   },
   "outputs": [],
   "source": [
    "'{:04X}'.format(high_threshold[0])"
   ]
  },
  {
   "cell_type": "code",
   "execution_count": null,
   "metadata": {
    "collapsed": true,
    "run_control": {
     "frozen": false,
     "read_only": false
    }
   },
   "outputs": [],
   "source": [
    "from enum import Enum"
   ]
  },
  {
   "cell_type": "code",
   "execution_count": null,
   "metadata": {
    "collapsed": true,
    "run_control": {
     "frozen": false,
     "read_only": false
    }
   },
   "outputs": [],
   "source": [
    "class VhdlEnum(int, Enum):\n",
    "\n",
    "    def __str__(self):\n",
    "        return self.name.replace(\"-\", \" \")\n",
    "    \n",
    "    def select(self):\n",
    "        return pow(2, self.value)\n",
    "    "
   ]
  },
  {
   "cell_type": "code",
   "execution_count": null,
   "metadata": {
    "collapsed": true,
    "run_control": {
     "frozen": false,
     "read_only": false
    }
   },
   "outputs": [],
   "source": [
    "class Test(VhdlEnum):\n",
    "    a=0\n",
    "    b=1"
   ]
  },
  {
   "cell_type": "code",
   "execution_count": null,
   "metadata": {
    "collapsed": true,
    "run_control": {
     "frozen": false,
     "read_only": false
    }
   },
   "outputs": [],
   "source": [
    "Test(0)"
   ]
  },
  {
   "cell_type": "code",
   "execution_count": null,
   "metadata": {
    "collapsed": true,
    "run_control": {
     "frozen": false,
     "read_only": false
    }
   },
   "outputs": [],
   "source": []
  }
 ],
 "metadata": {
  "anaconda-cloud": {},
  "kernelspec": {
   "display_name": "Python 3",
   "language": "python",
   "name": "python3"
  },
  "language_info": {
   "codemirror_mode": {
    "name": "ipython",
    "version": 3
   },
   "file_extension": ".py",
   "mimetype": "text/x-python",
   "name": "python",
   "nbconvert_exporter": "python",
   "pygments_lexer": "ipython3",
   "version": "3.6.1"
  }
 },
 "nbformat": 4,
 "nbformat_minor": 1
}
