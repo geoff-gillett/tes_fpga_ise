{
 "cells": [
  {
   "cell_type": "code",
   "execution_count": 143,
   "metadata": {
    "collapsed": false
   },
   "outputs": [],
   "source": [
    "import sys\n",
    "import simulation.data as sim\n",
    "from simulation.data import PacketStream, Data, Distribution\n",
    "from simulation.filesets import measurement_subsystem_TB as fileset\n",
    "import simulation.plot as splt\n",
    "import numpy as np\n",
    "import matplotlib.pyplot as plt\n",
    "import math\n",
    "import collections"
   ]
  },
  {
   "cell_type": "code",
   "execution_count": 144,
   "metadata": {
    "collapsed": false
   },
   "outputs": [],
   "source": [
    "data=Data(fileset, 2, 'teslib','measurement_subsystem_TB')\n",
    "enet=PacketStream(data.byte_stream)\n",
    "dists=enet.distributions"
   ]
  },
  {
   "cell_type": "code",
   "execution_count": 145,
   "metadata": {
    "collapsed": false
   },
   "outputs": [],
   "source": [
    "data.save()"
   ]
  },
  {
   "cell_type": "code",
   "execution_count": null,
   "metadata": {
    "collapsed": false
   },
   "outputs": [],
   "source": [
    "data=Data.load('measurement_subsystem_TB-2016-04-10.pickle')\n",
    "enet=PacketStream(data.byte_stream)\n",
    "dists=enet.distributions"
   ]
  },
  {
   "cell_type": "code",
   "execution_count": 140,
   "metadata": {
    "collapsed": false
   },
   "outputs": [
    {
     "name": "stdout",
     "output_type": "stream",
     "text": [
      "Distributions agree with data\n"
     ]
    }
   ],
   "source": [
    "# compare transmitted distributions with the data\n",
    "failed=False\n",
    "if dists == []:\n",
    "    print('No distributions')\n",
    "else:\n",
    "    for dist in dists:\n",
    "        dif = (dist.counts - dist.data_counts(data))[0].nonzero()\n",
    "        if dif[0].size:\n",
    "            print('{:}\\nDoes not reconcile with the data, Differences at {:d} indexs:\\n{:}\\n'.format(\n",
    "                    dist, dif[0].size, dif[0]))\n",
    "            failed=True\n",
    "    if not failed:\n",
    "        print('Distributions agree with data')\n",
    "    \n"
   ]
  },
  {
   "cell_type": "markdown",
   "metadata": {},
   "source": [
    " ## work area"
   ]
  },
  {
   "cell_type": "code",
   "execution_count": 139,
   "metadata": {
    "collapsed": false
   },
   "outputs": [
    {
     "data": {
      "text/plain": [
       "[ethertype:88B5 length:40 Payload:tick frame:0 protocol:0,\n",
       " ethertype:88B5 length:40 Payload:peak frame:1 protocol:1,\n",
       " ethertype:88B5 length:40 Payload:tick frame:2 protocol:2,\n",
       " ethertype:88B5 length:56 Payload:peak frame:3 protocol:3,\n",
       " ethertype:88B6 length:1496 Payload:mca frame:4 protocol:0,\n",
       " ethertype:88B6 length:1496 Payload:mca frame:5 protocol:1,\n",
       " ethertype:88B6 length:1496 Payload:mca frame:6 protocol:2,\n",
       " ethertype:88B6 length:1496 Payload:mca frame:7 protocol:3,\n",
       " ethertype:88B6 length:1496 Payload:mca frame:8 protocol:4,\n",
       " ethertype:88B6 length:1496 Payload:mca frame:9 protocol:5,\n",
       " ethertype:88B6 length:1496 Payload:mca frame:10 protocol:6,\n",
       " ethertype:88B6 length:1496 Payload:mca frame:11 protocol:7,\n",
       " ethertype:88B6 length:1496 Payload:mca frame:12 protocol:8,\n",
       " ethertype:88B6 length:1496 Payload:mca frame:13 protocol:9,\n",
       " ethertype:88B6 length:1496 Payload:mca frame:14 protocol:10,\n",
       " ethertype:88B6 length:1496 Payload:mca frame:15 protocol:11,\n",
       " ethertype:88B6 length:1496 Payload:mca frame:16 protocol:12,\n",
       " ethertype:88B6 length:1496 Payload:mca frame:17 protocol:13,\n",
       " ethertype:88B6 length:1496 Payload:mca frame:18 protocol:14,\n",
       " ethertype:88B6 length:1496 Payload:mca frame:19 protocol:15,\n",
       " ethertype:88B6 length:1496 Payload:mca frame:20 protocol:16,\n",
       " ethertype:88B6 length:1496 Payload:mca frame:21 protocol:17,\n",
       " ethertype:88B6 length:1496 Payload:mca frame:22 protocol:18,\n",
       " ethertype:88B6 length:1496 Payload:mca frame:23 protocol:19,\n",
       " ethertype:88B6 length:1496 Payload:mca frame:24 protocol:20,\n",
       " ethertype:88B6 length:1496 Payload:mca frame:25 protocol:21,\n",
       " ethertype:88B6 length:1496 Payload:mca frame:26 protocol:22,\n",
       " ethertype:88B6 length:1496 Payload:mca frame:27 protocol:23,\n",
       " ethertype:88B6 length:1496 Payload:mca frame:28 protocol:24,\n",
       " ethertype:88B6 length:1496 Payload:mca frame:29 protocol:25,\n",
       " ethertype:88B6 length:1496 Payload:mca frame:30 protocol:26,\n",
       " ethertype:88B6 length:1496 Payload:mca frame:31 protocol:27,\n",
       " ethertype:88B6 length:1496 Payload:mca frame:32 protocol:28,\n",
       " ethertype:88B6 length:1496 Payload:mca frame:33 protocol:29,\n",
       " ethertype:88B6 length:1496 Payload:mca frame:34 protocol:30,\n",
       " ethertype:88B6 length:1496 Payload:mca frame:35 protocol:31,\n",
       " ethertype:88B6 length:1496 Payload:mca frame:36 protocol:32,\n",
       " ethertype:88B6 length:1496 Payload:mca frame:37 protocol:33,\n",
       " ethertype:88B6 length:1496 Payload:mca frame:38 protocol:34,\n",
       " ethertype:88B5 length:40 Payload:tick frame:39 protocol:4,\n",
       " ethertype:88B6 length:1496 Payload:mca frame:40 protocol:35,\n",
       " ethertype:88B6 length:1496 Payload:mca frame:41 protocol:36,\n",
       " ethertype:88B6 length:1496 Payload:mca frame:42 protocol:37,\n",
       " ethertype:88B6 length:1496 Payload:mca frame:43 protocol:38,\n",
       " ethertype:88B6 length:1496 Payload:mca frame:44 protocol:39,\n",
       " ethertype:88B6 length:1496 Payload:mca frame:45 protocol:40,\n",
       " ethertype:88B6 length:1496 Payload:mca frame:46 protocol:41,\n",
       " ethertype:88B6 length:1496 Payload:mca frame:47 protocol:42,\n",
       " ethertype:88B6 length:1496 Payload:mca frame:48 protocol:43,\n",
       " ethertype:88B6 length:832 Payload:mca frame:49 protocol:44,\n",
       " ethertype:88B6 length:1496 Payload:mca frame:50 protocol:0,\n",
       " ethertype:88B6 length:1496 Payload:mca frame:51 protocol:1,\n",
       " ethertype:88B6 length:1496 Payload:mca frame:52 protocol:2,\n",
       " ethertype:88B6 length:1496 Payload:mca frame:53 protocol:3,\n",
       " ethertype:88B6 length:1496 Payload:mca frame:54 protocol:4,\n",
       " ethertype:88B6 length:1496 Payload:mca frame:55 protocol:5,\n",
       " ethertype:88B6 length:1496 Payload:mca frame:56 protocol:6,\n",
       " ethertype:88B6 length:1496 Payload:mca frame:57 protocol:7,\n",
       " ethertype:88B6 length:1496 Payload:mca frame:58 protocol:8,\n",
       " ethertype:88B6 length:1496 Payload:mca frame:59 protocol:9,\n",
       " ethertype:88B6 length:1496 Payload:mca frame:60 protocol:10,\n",
       " ethertype:88B6 length:1496 Payload:mca frame:61 protocol:11,\n",
       " ethertype:88B6 length:1496 Payload:mca frame:62 protocol:12,\n",
       " ethertype:88B6 length:1496 Payload:mca frame:63 protocol:13,\n",
       " ethertype:88B6 length:1496 Payload:mca frame:64 protocol:14,\n",
       " ethertype:88B6 length:1496 Payload:mca frame:65 protocol:15,\n",
       " ethertype:88B6 length:1496 Payload:mca frame:66 protocol:16,\n",
       " ethertype:88B6 length:1496 Payload:mca frame:67 protocol:17,\n",
       " ethertype:88B6 length:1496 Payload:mca frame:68 protocol:18,\n",
       " ethertype:88B6 length:1496 Payload:mca frame:69 protocol:19,\n",
       " ethertype:88B6 length:1496 Payload:mca frame:70 protocol:20,\n",
       " ethertype:88B6 length:1496 Payload:mca frame:71 protocol:21,\n",
       " ethertype:88B6 length:1496 Payload:mca frame:72 protocol:22,\n",
       " ethertype:88B6 length:1496 Payload:mca frame:73 protocol:23,\n",
       " ethertype:88B6 length:1496 Payload:mca frame:74 protocol:24,\n",
       " ethertype:88B6 length:1496 Payload:mca frame:75 protocol:25,\n",
       " ethertype:88B6 length:1496 Payload:mca frame:76 protocol:26,\n",
       " ethertype:88B6 length:1496 Payload:mca frame:77 protocol:27,\n",
       " ethertype:88B6 length:1496 Payload:mca frame:78 protocol:28,\n",
       " ethertype:88B6 length:1496 Payload:mca frame:79 protocol:29,\n",
       " ethertype:88B6 length:1496 Payload:mca frame:80 protocol:30,\n",
       " ethertype:88B6 length:1496 Payload:mca frame:81 protocol:31,\n",
       " ethertype:88B6 length:1496 Payload:mca frame:82 protocol:32,\n",
       " ethertype:88B6 length:1496 Payload:mca frame:83 protocol:33,\n",
       " ethertype:88B6 length:1496 Payload:mca frame:84 protocol:34,\n",
       " ethertype:88B6 length:1496 Payload:mca frame:85 protocol:35,\n",
       " ethertype:88B5 length:40 Payload:tick frame:86 protocol:5,\n",
       " ethertype:88B6 length:1496 Payload:mca frame:87 protocol:36,\n",
       " ethertype:88B6 length:1496 Payload:mca frame:88 protocol:37,\n",
       " ethertype:88B6 length:1496 Payload:mca frame:89 protocol:38,\n",
       " ethertype:88B6 length:1496 Payload:mca frame:90 protocol:39,\n",
       " ethertype:88B6 length:1496 Payload:mca frame:91 protocol:40,\n",
       " ethertype:88B6 length:1496 Payload:mca frame:92 protocol:41,\n",
       " ethertype:88B6 length:1496 Payload:mca frame:93 protocol:42,\n",
       " ethertype:88B6 length:1496 Payload:mca frame:94 protocol:43,\n",
       " ethertype:88B6 length:832 Payload:mca frame:95 protocol:44,\n",
       " ethertype:88B5 length:40 Payload:peak frame:96 protocol:6,\n",
       " ethertype:88B6 length:1496 Payload:mca frame:97 protocol:0,\n",
       " ethertype:88B6 length:1496 Payload:mca frame:98 protocol:1,\n",
       " ethertype:88B6 length:1496 Payload:mca frame:99 protocol:2,\n",
       " ethertype:88B6 length:1496 Payload:mca frame:100 protocol:3,\n",
       " ethertype:88B6 length:1496 Payload:mca frame:101 protocol:4,\n",
       " ethertype:88B6 length:1496 Payload:mca frame:102 protocol:5,\n",
       " ethertype:88B6 length:1496 Payload:mca frame:103 protocol:6,\n",
       " ethertype:88B6 length:1496 Payload:mca frame:104 protocol:7,\n",
       " ethertype:88B6 length:1496 Payload:mca frame:105 protocol:8,\n",
       " ethertype:88B6 length:1496 Payload:mca frame:106 protocol:9,\n",
       " ethertype:88B6 length:1496 Payload:mca frame:107 protocol:10,\n",
       " ethertype:88B6 length:1496 Payload:mca frame:108 protocol:11,\n",
       " ethertype:88B6 length:1496 Payload:mca frame:109 protocol:12,\n",
       " ethertype:88B6 length:1496 Payload:mca frame:110 protocol:13,\n",
       " ethertype:88B6 length:1496 Payload:mca frame:111 protocol:14,\n",
       " ethertype:88B6 length:1496 Payload:mca frame:112 protocol:15,\n",
       " ethertype:88B6 length:1496 Payload:mca frame:113 protocol:16,\n",
       " ethertype:88B6 length:1496 Payload:mca frame:114 protocol:17,\n",
       " ethertype:88B6 length:1496 Payload:mca frame:115 protocol:18,\n",
       " ethertype:88B6 length:1496 Payload:mca frame:116 protocol:19,\n",
       " ethertype:88B6 length:1496 Payload:mca frame:117 protocol:20,\n",
       " ethertype:88B6 length:1496 Payload:mca frame:118 protocol:21,\n",
       " ethertype:88B6 length:1496 Payload:mca frame:119 protocol:22,\n",
       " ethertype:88B6 length:1496 Payload:mca frame:120 protocol:23,\n",
       " ethertype:88B6 length:1496 Payload:mca frame:121 protocol:24,\n",
       " ethertype:88B6 length:1496 Payload:mca frame:122 protocol:25,\n",
       " ethertype:88B6 length:1496 Payload:mca frame:123 protocol:26,\n",
       " ethertype:88B6 length:1496 Payload:mca frame:124 protocol:27,\n",
       " ethertype:88B6 length:1496 Payload:mca frame:125 protocol:28,\n",
       " ethertype:88B6 length:1496 Payload:mca frame:126 protocol:29,\n",
       " ethertype:88B6 length:1496 Payload:mca frame:127 protocol:30,\n",
       " ethertype:88B6 length:1496 Payload:mca frame:128 protocol:31]"
      ]
     },
     "execution_count": 139,
     "metadata": {},
     "output_type": "execute_result"
    }
   ],
   "source": [
    "enet.packets"
   ]
  },
  {
   "cell_type": "code",
   "execution_count": 135,
   "metadata": {
    "collapsed": false
   },
   "outputs": [
    {
     "data": {
      "text/plain": [
       "array([  0,   0,   0,   0,   0,   0,   0,   0,   2,   3,   4,   5, 136,\n",
       "       181,  40,   0,   0,   0,   0,   0,   0,   0,   0,   0,   0,   0,\n",
       "         1,   0,   0,   3,   2,   0,   2,   0,   0,   0,   0,   0,   0,   0], dtype=uint8)"
      ]
     },
     "execution_count": 135,
     "metadata": {},
     "output_type": "execute_result"
    }
   ],
   "source": [
    "enet.byte_stream"
   ]
  },
  {
   "cell_type": "code",
   "execution_count": 141,
   "metadata": {
    "collapsed": false
   },
   "outputs": [
    {
     "data": {
      "application/javascript": [
       "/* Put everything inside the global mpl namespace */\n",
       "window.mpl = {};\n",
       "\n",
       "mpl.get_websocket_type = function() {\n",
       "    if (typeof(WebSocket) !== 'undefined') {\n",
       "        return WebSocket;\n",
       "    } else if (typeof(MozWebSocket) !== 'undefined') {\n",
       "        return MozWebSocket;\n",
       "    } else {\n",
       "        alert('Your browser does not have WebSocket support.' +\n",
       "              'Please try Chrome, Safari or Firefox ≥ 6. ' +\n",
       "              'Firefox 4 and 5 are also supported but you ' +\n",
       "              'have to enable WebSockets in about:config.');\n",
       "    };\n",
       "}\n",
       "\n",
       "mpl.figure = function(figure_id, websocket, ondownload, parent_element) {\n",
       "    this.id = figure_id;\n",
       "\n",
       "    this.ws = websocket;\n",
       "\n",
       "    this.supports_binary = (this.ws.binaryType != undefined);\n",
       "\n",
       "    if (!this.supports_binary) {\n",
       "        var warnings = document.getElementById(\"mpl-warnings\");\n",
       "        if (warnings) {\n",
       "            warnings.style.display = 'block';\n",
       "            warnings.textContent = (\n",
       "                \"This browser does not support binary websocket messages. \" +\n",
       "                    \"Performance may be slow.\");\n",
       "        }\n",
       "    }\n",
       "\n",
       "    this.imageObj = new Image();\n",
       "\n",
       "    this.context = undefined;\n",
       "    this.message = undefined;\n",
       "    this.canvas = undefined;\n",
       "    this.rubberband_canvas = undefined;\n",
       "    this.rubberband_context = undefined;\n",
       "    this.format_dropdown = undefined;\n",
       "\n",
       "    this.image_mode = 'full';\n",
       "\n",
       "    this.root = $('<div/>');\n",
       "    this._root_extra_style(this.root)\n",
       "    this.root.attr('style', 'display: inline-block');\n",
       "\n",
       "    $(parent_element).append(this.root);\n",
       "\n",
       "    this._init_header(this);\n",
       "    this._init_canvas(this);\n",
       "    this._init_toolbar(this);\n",
       "\n",
       "    var fig = this;\n",
       "\n",
       "    this.waiting = false;\n",
       "\n",
       "    this.ws.onopen =  function () {\n",
       "            fig.send_message(\"supports_binary\", {value: fig.supports_binary});\n",
       "            fig.send_message(\"send_image_mode\", {});\n",
       "            fig.send_message(\"refresh\", {});\n",
       "        }\n",
       "\n",
       "    this.imageObj.onload = function() {\n",
       "            if (fig.image_mode == 'full') {\n",
       "                // Full images could contain transparency (where diff images\n",
       "                // almost always do), so we need to clear the canvas so that\n",
       "                // there is no ghosting.\n",
       "                fig.context.clearRect(0, 0, fig.canvas.width, fig.canvas.height);\n",
       "            }\n",
       "            fig.context.drawImage(fig.imageObj, 0, 0);\n",
       "        };\n",
       "\n",
       "    this.imageObj.onunload = function() {\n",
       "        this.ws.close();\n",
       "    }\n",
       "\n",
       "    this.ws.onmessage = this._make_on_message_function(this);\n",
       "\n",
       "    this.ondownload = ondownload;\n",
       "}\n",
       "\n",
       "mpl.figure.prototype._init_header = function() {\n",
       "    var titlebar = $(\n",
       "        '<div class=\"ui-dialog-titlebar ui-widget-header ui-corner-all ' +\n",
       "        'ui-helper-clearfix\"/>');\n",
       "    var titletext = $(\n",
       "        '<div class=\"ui-dialog-title\" style=\"width: 100%; ' +\n",
       "        'text-align: center; padding: 3px;\"/>');\n",
       "    titlebar.append(titletext)\n",
       "    this.root.append(titlebar);\n",
       "    this.header = titletext[0];\n",
       "}\n",
       "\n",
       "\n",
       "\n",
       "mpl.figure.prototype._canvas_extra_style = function(canvas_div) {\n",
       "\n",
       "}\n",
       "\n",
       "\n",
       "mpl.figure.prototype._root_extra_style = function(canvas_div) {\n",
       "\n",
       "}\n",
       "\n",
       "mpl.figure.prototype._init_canvas = function() {\n",
       "    var fig = this;\n",
       "\n",
       "    var canvas_div = $('<div/>');\n",
       "\n",
       "    canvas_div.attr('style', 'position: relative; clear: both; outline: 0');\n",
       "\n",
       "    function canvas_keyboard_event(event) {\n",
       "        return fig.key_event(event, event['data']);\n",
       "    }\n",
       "\n",
       "    canvas_div.keydown('key_press', canvas_keyboard_event);\n",
       "    canvas_div.keyup('key_release', canvas_keyboard_event);\n",
       "    this.canvas_div = canvas_div\n",
       "    this._canvas_extra_style(canvas_div)\n",
       "    this.root.append(canvas_div);\n",
       "\n",
       "    var canvas = $('<canvas/>');\n",
       "    canvas.addClass('mpl-canvas');\n",
       "    canvas.attr('style', \"left: 0; top: 0; z-index: 0; outline: 0\")\n",
       "\n",
       "    this.canvas = canvas[0];\n",
       "    this.context = canvas[0].getContext(\"2d\");\n",
       "\n",
       "    var rubberband = $('<canvas/>');\n",
       "    rubberband.attr('style', \"position: absolute; left: 0; top: 0; z-index: 1;\")\n",
       "\n",
       "    var pass_mouse_events = true;\n",
       "\n",
       "    canvas_div.resizable({\n",
       "        start: function(event, ui) {\n",
       "            pass_mouse_events = false;\n",
       "        },\n",
       "        resize: function(event, ui) {\n",
       "            fig.request_resize(ui.size.width, ui.size.height);\n",
       "        },\n",
       "        stop: function(event, ui) {\n",
       "            pass_mouse_events = true;\n",
       "            fig.request_resize(ui.size.width, ui.size.height);\n",
       "        },\n",
       "    });\n",
       "\n",
       "    function mouse_event_fn(event) {\n",
       "        if (pass_mouse_events)\n",
       "            return fig.mouse_event(event, event['data']);\n",
       "    }\n",
       "\n",
       "    rubberband.mousedown('button_press', mouse_event_fn);\n",
       "    rubberband.mouseup('button_release', mouse_event_fn);\n",
       "    // Throttle sequential mouse events to 1 every 20ms.\n",
       "    rubberband.mousemove('motion_notify', mouse_event_fn);\n",
       "\n",
       "    rubberband.mouseenter('figure_enter', mouse_event_fn);\n",
       "    rubberband.mouseleave('figure_leave', mouse_event_fn);\n",
       "\n",
       "    canvas_div.on(\"wheel\", function (event) {\n",
       "        event = event.originalEvent;\n",
       "        event['data'] = 'scroll'\n",
       "        if (event.deltaY < 0) {\n",
       "            event.step = 1;\n",
       "        } else {\n",
       "            event.step = -1;\n",
       "        }\n",
       "        mouse_event_fn(event);\n",
       "    });\n",
       "\n",
       "    canvas_div.append(canvas);\n",
       "    canvas_div.append(rubberband);\n",
       "\n",
       "    this.rubberband = rubberband;\n",
       "    this.rubberband_canvas = rubberband[0];\n",
       "    this.rubberband_context = rubberband[0].getContext(\"2d\");\n",
       "    this.rubberband_context.strokeStyle = \"#000000\";\n",
       "\n",
       "    this._resize_canvas = function(width, height) {\n",
       "        // Keep the size of the canvas, canvas container, and rubber band\n",
       "        // canvas in synch.\n",
       "        canvas_div.css('width', width)\n",
       "        canvas_div.css('height', height)\n",
       "\n",
       "        canvas.attr('width', width);\n",
       "        canvas.attr('height', height);\n",
       "\n",
       "        rubberband.attr('width', width);\n",
       "        rubberband.attr('height', height);\n",
       "    }\n",
       "\n",
       "    // Set the figure to an initial 600x600px, this will subsequently be updated\n",
       "    // upon first draw.\n",
       "    this._resize_canvas(600, 600);\n",
       "\n",
       "    // Disable right mouse context menu.\n",
       "    $(this.rubberband_canvas).bind(\"contextmenu\",function(e){\n",
       "        return false;\n",
       "    });\n",
       "\n",
       "    function set_focus () {\n",
       "        canvas.focus();\n",
       "        canvas_div.focus();\n",
       "    }\n",
       "\n",
       "    window.setTimeout(set_focus, 100);\n",
       "}\n",
       "\n",
       "mpl.figure.prototype._init_toolbar = function() {\n",
       "    var fig = this;\n",
       "\n",
       "    var nav_element = $('<div/>')\n",
       "    nav_element.attr('style', 'width: 100%');\n",
       "    this.root.append(nav_element);\n",
       "\n",
       "    // Define a callback function for later on.\n",
       "    function toolbar_event(event) {\n",
       "        return fig.toolbar_button_onclick(event['data']);\n",
       "    }\n",
       "    function toolbar_mouse_event(event) {\n",
       "        return fig.toolbar_button_onmouseover(event['data']);\n",
       "    }\n",
       "\n",
       "    for(var toolbar_ind in mpl.toolbar_items) {\n",
       "        var name = mpl.toolbar_items[toolbar_ind][0];\n",
       "        var tooltip = mpl.toolbar_items[toolbar_ind][1];\n",
       "        var image = mpl.toolbar_items[toolbar_ind][2];\n",
       "        var method_name = mpl.toolbar_items[toolbar_ind][3];\n",
       "\n",
       "        if (!name) {\n",
       "            // put a spacer in here.\n",
       "            continue;\n",
       "        }\n",
       "        var button = $('<button/>');\n",
       "        button.addClass('ui-button ui-widget ui-state-default ui-corner-all ' +\n",
       "                        'ui-button-icon-only');\n",
       "        button.attr('role', 'button');\n",
       "        button.attr('aria-disabled', 'false');\n",
       "        button.click(method_name, toolbar_event);\n",
       "        button.mouseover(tooltip, toolbar_mouse_event);\n",
       "\n",
       "        var icon_img = $('<span/>');\n",
       "        icon_img.addClass('ui-button-icon-primary ui-icon');\n",
       "        icon_img.addClass(image);\n",
       "        icon_img.addClass('ui-corner-all');\n",
       "\n",
       "        var tooltip_span = $('<span/>');\n",
       "        tooltip_span.addClass('ui-button-text');\n",
       "        tooltip_span.html(tooltip);\n",
       "\n",
       "        button.append(icon_img);\n",
       "        button.append(tooltip_span);\n",
       "\n",
       "        nav_element.append(button);\n",
       "    }\n",
       "\n",
       "    var fmt_picker_span = $('<span/>');\n",
       "\n",
       "    var fmt_picker = $('<select/>');\n",
       "    fmt_picker.addClass('mpl-toolbar-option ui-widget ui-widget-content');\n",
       "    fmt_picker_span.append(fmt_picker);\n",
       "    nav_element.append(fmt_picker_span);\n",
       "    this.format_dropdown = fmt_picker[0];\n",
       "\n",
       "    for (var ind in mpl.extensions) {\n",
       "        var fmt = mpl.extensions[ind];\n",
       "        var option = $(\n",
       "            '<option/>', {selected: fmt === mpl.default_extension}).html(fmt);\n",
       "        fmt_picker.append(option)\n",
       "    }\n",
       "\n",
       "    // Add hover states to the ui-buttons\n",
       "    $( \".ui-button\" ).hover(\n",
       "        function() { $(this).addClass(\"ui-state-hover\");},\n",
       "        function() { $(this).removeClass(\"ui-state-hover\");}\n",
       "    );\n",
       "\n",
       "    var status_bar = $('<span class=\"mpl-message\"/>');\n",
       "    nav_element.append(status_bar);\n",
       "    this.message = status_bar[0];\n",
       "}\n",
       "\n",
       "mpl.figure.prototype.request_resize = function(x_pixels, y_pixels) {\n",
       "    // Request matplotlib to resize the figure. Matplotlib will then trigger a resize in the client,\n",
       "    // which will in turn request a refresh of the image.\n",
       "    this.send_message('resize', {'width': x_pixels, 'height': y_pixels});\n",
       "}\n",
       "\n",
       "mpl.figure.prototype.send_message = function(type, properties) {\n",
       "    properties['type'] = type;\n",
       "    properties['figure_id'] = this.id;\n",
       "    this.ws.send(JSON.stringify(properties));\n",
       "}\n",
       "\n",
       "mpl.figure.prototype.send_draw_message = function() {\n",
       "    if (!this.waiting) {\n",
       "        this.waiting = true;\n",
       "        this.ws.send(JSON.stringify({type: \"draw\", figure_id: this.id}));\n",
       "    }\n",
       "}\n",
       "\n",
       "\n",
       "mpl.figure.prototype.handle_save = function(fig, msg) {\n",
       "    var format_dropdown = fig.format_dropdown;\n",
       "    var format = format_dropdown.options[format_dropdown.selectedIndex].value;\n",
       "    fig.ondownload(fig, format);\n",
       "}\n",
       "\n",
       "\n",
       "mpl.figure.prototype.handle_resize = function(fig, msg) {\n",
       "    var size = msg['size'];\n",
       "    if (size[0] != fig.canvas.width || size[1] != fig.canvas.height) {\n",
       "        fig._resize_canvas(size[0], size[1]);\n",
       "        fig.send_message(\"refresh\", {});\n",
       "    };\n",
       "}\n",
       "\n",
       "mpl.figure.prototype.handle_rubberband = function(fig, msg) {\n",
       "    var x0 = msg['x0'];\n",
       "    var y0 = fig.canvas.height - msg['y0'];\n",
       "    var x1 = msg['x1'];\n",
       "    var y1 = fig.canvas.height - msg['y1'];\n",
       "    x0 = Math.floor(x0) + 0.5;\n",
       "    y0 = Math.floor(y0) + 0.5;\n",
       "    x1 = Math.floor(x1) + 0.5;\n",
       "    y1 = Math.floor(y1) + 0.5;\n",
       "    var min_x = Math.min(x0, x1);\n",
       "    var min_y = Math.min(y0, y1);\n",
       "    var width = Math.abs(x1 - x0);\n",
       "    var height = Math.abs(y1 - y0);\n",
       "\n",
       "    fig.rubberband_context.clearRect(\n",
       "        0, 0, fig.canvas.width, fig.canvas.height);\n",
       "\n",
       "    fig.rubberband_context.strokeRect(min_x, min_y, width, height);\n",
       "}\n",
       "\n",
       "mpl.figure.prototype.handle_figure_label = function(fig, msg) {\n",
       "    // Updates the figure title.\n",
       "    fig.header.textContent = msg['label'];\n",
       "}\n",
       "\n",
       "mpl.figure.prototype.handle_cursor = function(fig, msg) {\n",
       "    var cursor = msg['cursor'];\n",
       "    switch(cursor)\n",
       "    {\n",
       "    case 0:\n",
       "        cursor = 'pointer';\n",
       "        break;\n",
       "    case 1:\n",
       "        cursor = 'default';\n",
       "        break;\n",
       "    case 2:\n",
       "        cursor = 'crosshair';\n",
       "        break;\n",
       "    case 3:\n",
       "        cursor = 'move';\n",
       "        break;\n",
       "    }\n",
       "    fig.rubberband_canvas.style.cursor = cursor;\n",
       "}\n",
       "\n",
       "mpl.figure.prototype.handle_message = function(fig, msg) {\n",
       "    fig.message.textContent = msg['message'];\n",
       "}\n",
       "\n",
       "mpl.figure.prototype.handle_draw = function(fig, msg) {\n",
       "    // Request the server to send over a new figure.\n",
       "    fig.send_draw_message();\n",
       "}\n",
       "\n",
       "mpl.figure.prototype.handle_image_mode = function(fig, msg) {\n",
       "    fig.image_mode = msg['mode'];\n",
       "}\n",
       "\n",
       "mpl.figure.prototype.updated_canvas_event = function() {\n",
       "    // Called whenever the canvas gets updated.\n",
       "    this.send_message(\"ack\", {});\n",
       "}\n",
       "\n",
       "// A function to construct a web socket function for onmessage handling.\n",
       "// Called in the figure constructor.\n",
       "mpl.figure.prototype._make_on_message_function = function(fig) {\n",
       "    return function socket_on_message(evt) {\n",
       "        if (evt.data instanceof Blob) {\n",
       "            /* FIXME: We get \"Resource interpreted as Image but\n",
       "             * transferred with MIME type text/plain:\" errors on\n",
       "             * Chrome.  But how to set the MIME type?  It doesn't seem\n",
       "             * to be part of the websocket stream */\n",
       "            evt.data.type = \"image/png\";\n",
       "\n",
       "            /* Free the memory for the previous frames */\n",
       "            if (fig.imageObj.src) {\n",
       "                (window.URL || window.webkitURL).revokeObjectURL(\n",
       "                    fig.imageObj.src);\n",
       "            }\n",
       "\n",
       "            fig.imageObj.src = (window.URL || window.webkitURL).createObjectURL(\n",
       "                evt.data);\n",
       "            fig.updated_canvas_event();\n",
       "            fig.waiting = false;\n",
       "            return;\n",
       "        }\n",
       "        else if (typeof evt.data === 'string' && evt.data.slice(0, 21) == \"data:image/png;base64\") {\n",
       "            fig.imageObj.src = evt.data;\n",
       "            fig.updated_canvas_event();\n",
       "            fig.waiting = false;\n",
       "            return;\n",
       "        }\n",
       "\n",
       "        var msg = JSON.parse(evt.data);\n",
       "        var msg_type = msg['type'];\n",
       "\n",
       "        // Call the  \"handle_{type}\" callback, which takes\n",
       "        // the figure and JSON message as its only arguments.\n",
       "        try {\n",
       "            var callback = fig[\"handle_\" + msg_type];\n",
       "        } catch (e) {\n",
       "            console.log(\"No handler for the '\" + msg_type + \"' message type: \", msg);\n",
       "            return;\n",
       "        }\n",
       "\n",
       "        if (callback) {\n",
       "            try {\n",
       "                // console.log(\"Handling '\" + msg_type + \"' message: \", msg);\n",
       "                callback(fig, msg);\n",
       "            } catch (e) {\n",
       "                console.log(\"Exception inside the 'handler_\" + msg_type + \"' callback:\", e, e.stack, msg);\n",
       "            }\n",
       "        }\n",
       "    };\n",
       "}\n",
       "\n",
       "// from http://stackoverflow.com/questions/1114465/getting-mouse-location-in-canvas\n",
       "mpl.findpos = function(e) {\n",
       "    //this section is from http://www.quirksmode.org/js/events_properties.html\n",
       "    var targ;\n",
       "    if (!e)\n",
       "        e = window.event;\n",
       "    if (e.target)\n",
       "        targ = e.target;\n",
       "    else if (e.srcElement)\n",
       "        targ = e.srcElement;\n",
       "    if (targ.nodeType == 3) // defeat Safari bug\n",
       "        targ = targ.parentNode;\n",
       "\n",
       "    // jQuery normalizes the pageX and pageY\n",
       "    // pageX,Y are the mouse positions relative to the document\n",
       "    // offset() returns the position of the element relative to the document\n",
       "    var x = e.pageX - $(targ).offset().left;\n",
       "    var y = e.pageY - $(targ).offset().top;\n",
       "\n",
       "    return {\"x\": x, \"y\": y};\n",
       "};\n",
       "\n",
       "/*\n",
       " * return a copy of an object with only non-object keys\n",
       " * we need this to avoid circular references\n",
       " * http://stackoverflow.com/a/24161582/3208463\n",
       " */\n",
       "function simpleKeys (original) {\n",
       "  return Object.keys(original).reduce(function (obj, key) {\n",
       "    if (typeof original[key] !== 'object')\n",
       "        obj[key] = original[key]\n",
       "    return obj;\n",
       "  }, {});\n",
       "}\n",
       "\n",
       "mpl.figure.prototype.mouse_event = function(event, name) {\n",
       "    var canvas_pos = mpl.findpos(event)\n",
       "\n",
       "    if (name === 'button_press')\n",
       "    {\n",
       "        this.canvas.focus();\n",
       "        this.canvas_div.focus();\n",
       "    }\n",
       "\n",
       "    var x = canvas_pos.x;\n",
       "    var y = canvas_pos.y;\n",
       "\n",
       "    this.send_message(name, {x: x, y: y, button: event.button,\n",
       "                             step: event.step,\n",
       "                             guiEvent: simpleKeys(event)});\n",
       "\n",
       "    /* This prevents the web browser from automatically changing to\n",
       "     * the text insertion cursor when the button is pressed.  We want\n",
       "     * to control all of the cursor setting manually through the\n",
       "     * 'cursor' event from matplotlib */\n",
       "    event.preventDefault();\n",
       "    return false;\n",
       "}\n",
       "\n",
       "mpl.figure.prototype._key_event_extra = function(event, name) {\n",
       "    // Handle any extra behaviour associated with a key event\n",
       "}\n",
       "\n",
       "mpl.figure.prototype.key_event = function(event, name) {\n",
       "\n",
       "    // Prevent repeat events\n",
       "    if (name == 'key_press')\n",
       "    {\n",
       "        if (event.which === this._key)\n",
       "            return;\n",
       "        else\n",
       "            this._key = event.which;\n",
       "    }\n",
       "    if (name == 'key_release')\n",
       "        this._key = null;\n",
       "\n",
       "    var value = '';\n",
       "    if (event.ctrlKey && event.which != 17)\n",
       "        value += \"ctrl+\";\n",
       "    if (event.altKey && event.which != 18)\n",
       "        value += \"alt+\";\n",
       "    if (event.shiftKey && event.which != 16)\n",
       "        value += \"shift+\";\n",
       "\n",
       "    value += 'k';\n",
       "    value += event.which.toString();\n",
       "\n",
       "    this._key_event_extra(event, name);\n",
       "\n",
       "    this.send_message(name, {key: value,\n",
       "                             guiEvent: simpleKeys(event)});\n",
       "    return false;\n",
       "}\n",
       "\n",
       "mpl.figure.prototype.toolbar_button_onclick = function(name) {\n",
       "    if (name == 'download') {\n",
       "        this.handle_save(this, null);\n",
       "    } else {\n",
       "        this.send_message(\"toolbar_button\", {name: name});\n",
       "    }\n",
       "};\n",
       "\n",
       "mpl.figure.prototype.toolbar_button_onmouseover = function(tooltip) {\n",
       "    this.message.textContent = tooltip;\n",
       "};\n",
       "mpl.toolbar_items = [[\"Home\", \"Reset original view\", \"fa fa-home icon-home\", \"home\"], [\"Back\", \"Back to  previous view\", \"fa fa-arrow-left icon-arrow-left\", \"back\"], [\"Forward\", \"Forward to next view\", \"fa fa-arrow-right icon-arrow-right\", \"forward\"], [\"\", \"\", \"\", \"\"], [\"Pan\", \"Pan axes with left mouse, zoom with right\", \"fa fa-arrows icon-move\", \"pan\"], [\"Zoom\", \"Zoom to rectangle\", \"fa fa-square-o icon-check-empty\", \"zoom\"], [\"\", \"\", \"\", \"\"], [\"Download\", \"Download plot\", \"fa fa-floppy-o icon-save\", \"download\"]];\n",
       "\n",
       "mpl.extensions = [\"eps\", \"jpeg\", \"pdf\", \"png\", \"ps\", \"raw\", \"svg\", \"tif\"];\n",
       "\n",
       "mpl.default_extension = \"png\";var comm_websocket_adapter = function(comm) {\n",
       "    // Create a \"websocket\"-like object which calls the given IPython comm\n",
       "    // object with the appropriate methods. Currently this is a non binary\n",
       "    // socket, so there is still some room for performance tuning.\n",
       "    var ws = {};\n",
       "\n",
       "    ws.close = function() {\n",
       "        comm.close()\n",
       "    };\n",
       "    ws.send = function(m) {\n",
       "        //console.log('sending', m);\n",
       "        comm.send(m);\n",
       "    };\n",
       "    // Register the callback with on_msg.\n",
       "    comm.on_msg(function(msg) {\n",
       "        //console.log('receiving', msg['content']['data'], msg);\n",
       "        // Pass the mpl event to the overriden (by mpl) onmessage function.\n",
       "        ws.onmessage(msg['content']['data'])\n",
       "    });\n",
       "    return ws;\n",
       "}\n",
       "\n",
       "mpl.mpl_figure_comm = function(comm, msg) {\n",
       "    // This is the function which gets called when the mpl process\n",
       "    // starts-up an IPython Comm through the \"matplotlib\" channel.\n",
       "\n",
       "    var id = msg.content.data.id;\n",
       "    // Get hold of the div created by the display call when the Comm\n",
       "    // socket was opened in Python.\n",
       "    var element = $(\"#\" + id);\n",
       "    var ws_proxy = comm_websocket_adapter(comm)\n",
       "\n",
       "    function ondownload(figure, format) {\n",
       "        window.open(figure.imageObj.src);\n",
       "    }\n",
       "\n",
       "    var fig = new mpl.figure(id, ws_proxy,\n",
       "                           ondownload,\n",
       "                           element.get(0));\n",
       "\n",
       "    // Call onopen now - mpl needs it, as it is assuming we've passed it a real\n",
       "    // web socket which is closed, not our websocket->open comm proxy.\n",
       "    ws_proxy.onopen();\n",
       "\n",
       "    fig.parent_element = element.get(0);\n",
       "    fig.cell_info = mpl.find_output_cell(\"<div id='\" + id + \"'></div>\");\n",
       "    if (!fig.cell_info) {\n",
       "        console.error(\"Failed to find cell for figure\", id, fig);\n",
       "        return;\n",
       "    }\n",
       "\n",
       "    var output_index = fig.cell_info[2]\n",
       "    var cell = fig.cell_info[0];\n",
       "\n",
       "};\n",
       "\n",
       "mpl.figure.prototype.handle_close = function(fig, msg) {\n",
       "    fig.root.unbind('remove')\n",
       "\n",
       "    // Update the output cell to use the data from the current canvas.\n",
       "    fig.push_to_output();\n",
       "    var dataURL = fig.canvas.toDataURL();\n",
       "    // Re-enable the keyboard manager in IPython - without this line, in FF,\n",
       "    // the notebook keyboard shortcuts fail.\n",
       "    IPython.keyboard_manager.enable()\n",
       "    $(fig.parent_element).html('<img src=\"' + dataURL + '\">');\n",
       "    fig.close_ws(fig, msg);\n",
       "}\n",
       "\n",
       "mpl.figure.prototype.close_ws = function(fig, msg){\n",
       "    fig.send_message('closing', msg);\n",
       "    // fig.ws.close()\n",
       "}\n",
       "\n",
       "mpl.figure.prototype.push_to_output = function(remove_interactive) {\n",
       "    // Turn the data on the canvas into data in the output cell.\n",
       "    var dataURL = this.canvas.toDataURL();\n",
       "    this.cell_info[1]['text/html'] = '<img src=\"' + dataURL + '\">';\n",
       "}\n",
       "\n",
       "mpl.figure.prototype.updated_canvas_event = function() {\n",
       "    // Tell IPython that the notebook contents must change.\n",
       "    IPython.notebook.set_dirty(true);\n",
       "    this.send_message(\"ack\", {});\n",
       "    var fig = this;\n",
       "    // Wait a second, then push the new image to the DOM so\n",
       "    // that it is saved nicely (might be nice to debounce this).\n",
       "    setTimeout(function () { fig.push_to_output() }, 1000);\n",
       "}\n",
       "\n",
       "mpl.figure.prototype._init_toolbar = function() {\n",
       "    var fig = this;\n",
       "\n",
       "    var nav_element = $('<div/>')\n",
       "    nav_element.attr('style', 'width: 100%');\n",
       "    this.root.append(nav_element);\n",
       "\n",
       "    // Define a callback function for later on.\n",
       "    function toolbar_event(event) {\n",
       "        return fig.toolbar_button_onclick(event['data']);\n",
       "    }\n",
       "    function toolbar_mouse_event(event) {\n",
       "        return fig.toolbar_button_onmouseover(event['data']);\n",
       "    }\n",
       "\n",
       "    for(var toolbar_ind in mpl.toolbar_items){\n",
       "        var name = mpl.toolbar_items[toolbar_ind][0];\n",
       "        var tooltip = mpl.toolbar_items[toolbar_ind][1];\n",
       "        var image = mpl.toolbar_items[toolbar_ind][2];\n",
       "        var method_name = mpl.toolbar_items[toolbar_ind][3];\n",
       "\n",
       "        if (!name) { continue; };\n",
       "\n",
       "        var button = $('<button class=\"btn btn-default\" href=\"#\" title=\"' + name + '\"><i class=\"fa ' + image + ' fa-lg\"></i></button>');\n",
       "        button.click(method_name, toolbar_event);\n",
       "        button.mouseover(tooltip, toolbar_mouse_event);\n",
       "        nav_element.append(button);\n",
       "    }\n",
       "\n",
       "    // Add the status bar.\n",
       "    var status_bar = $('<span class=\"mpl-message\" style=\"text-align:right; float: right;\"/>');\n",
       "    nav_element.append(status_bar);\n",
       "    this.message = status_bar[0];\n",
       "\n",
       "    // Add the close button to the window.\n",
       "    var buttongrp = $('<div class=\"btn-group inline pull-right\"></div>');\n",
       "    var button = $('<button class=\"btn btn-mini btn-primary\" href=\"#\" title=\"Stop Interaction\"><i class=\"fa fa-power-off icon-remove icon-large\"></i></button>');\n",
       "    button.click(function (evt) { fig.handle_close(fig, {}); } );\n",
       "    button.mouseover('Stop Interaction', toolbar_mouse_event);\n",
       "    buttongrp.append(button);\n",
       "    var titlebar = this.root.find($('.ui-dialog-titlebar'));\n",
       "    titlebar.prepend(buttongrp);\n",
       "}\n",
       "\n",
       "mpl.figure.prototype._root_extra_style = function(el){\n",
       "    var fig = this\n",
       "    el.on(\"remove\", function(){\n",
       "\tfig.close_ws(fig, {});\n",
       "    });\n",
       "}\n",
       "\n",
       "mpl.figure.prototype._canvas_extra_style = function(el){\n",
       "    // this is important to make the div 'focusable\n",
       "    el.attr('tabindex', 0)\n",
       "    // reach out to IPython and tell the keyboard manager to turn it's self\n",
       "    // off when our div gets focus\n",
       "\n",
       "    // location in version 3\n",
       "    if (IPython.notebook.keyboard_manager) {\n",
       "        IPython.notebook.keyboard_manager.register_events(el);\n",
       "    }\n",
       "    else {\n",
       "        // location in version 2\n",
       "        IPython.keyboard_manager.register_events(el);\n",
       "    }\n",
       "\n",
       "}\n",
       "\n",
       "mpl.figure.prototype._key_event_extra = function(event, name) {\n",
       "    var manager = IPython.notebook.keyboard_manager;\n",
       "    if (!manager)\n",
       "        manager = IPython.keyboard_manager;\n",
       "\n",
       "    // Check for shift+enter\n",
       "    if (event.shiftKey && event.which == 13) {\n",
       "        this.canvas_div.blur();\n",
       "        event.shiftKey = false;\n",
       "        // Send a \"J\" for go to next cell\n",
       "        event.which = 74;\n",
       "        event.keyCode = 74;\n",
       "        manager.command_mode();\n",
       "        manager.handle_keydown(event);\n",
       "    }\n",
       "}\n",
       "\n",
       "mpl.figure.prototype.handle_save = function(fig, msg) {\n",
       "    fig.ondownload(fig, null);\n",
       "}\n",
       "\n",
       "\n",
       "mpl.find_output_cell = function(html_output) {\n",
       "    // Return the cell and output element which can be found *uniquely* in the notebook.\n",
       "    // Note - this is a bit hacky, but it is done because the \"notebook_saving.Notebook\"\n",
       "    // IPython event is triggered only after the cells have been serialised, which for\n",
       "    // our purposes (turning an active figure into a static one), is too late.\n",
       "    var cells = IPython.notebook.get_cells();\n",
       "    var ncells = cells.length;\n",
       "    for (var i=0; i<ncells; i++) {\n",
       "        var cell = cells[i];\n",
       "        if (cell.cell_type === 'code'){\n",
       "            for (var j=0; j<cell.output_area.outputs.length; j++) {\n",
       "                var data = cell.output_area.outputs[j];\n",
       "                if (data.data) {\n",
       "                    // IPython >= 3 moved mimebundle to data attribute of output\n",
       "                    data = data.data;\n",
       "                }\n",
       "                if (data['text/html'] == html_output) {\n",
       "                    return [cell, data, j];\n",
       "                }\n",
       "            }\n",
       "        }\n",
       "    }\n",
       "}\n",
       "\n",
       "// Register the function which deals with the matplotlib target/channel.\n",
       "// The kernel may be null if the page has been refreshed.\n",
       "if (IPython.notebook.kernel != null) {\n",
       "    IPython.notebook.kernel.comm_manager.register_target('matplotlib', mpl.mpl_figure_comm);\n",
       "}\n"
      ],
      "text/plain": [
       "<IPython.core.display.Javascript object>"
      ]
     },
     "metadata": {},
     "output_type": "display_data"
    },
    {
     "data": {
      "text/html": [
       "<img src=\"data:image/png;base64,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\">"
      ],
      "text/plain": [
       "<IPython.core.display.HTML object>"
      ]
     },
     "metadata": {},
     "output_type": "display_data"
    },
    {
     "data": {
      "text/plain": [
       "[<matplotlib.lines.Line2D at 0x6c8e37f0>]"
      ]
     },
     "execution_count": 141,
     "metadata": {},
     "output_type": "execute_result"
    }
   ],
   "source": [
    "%matplotlib notebook\n",
    "plt.plot(data.trace[0]['filtered'])"
   ]
  },
  {
   "cell_type": "code",
   "execution_count": null,
   "metadata": {
    "collapsed": false
   },
   "outputs": [],
   "source": [
    "enet.packets[4].payload[40:].view(np.uint32).size"
   ]
  },
  {
   "cell_type": "code",
   "execution_count": null,
   "metadata": {
    "collapsed": false
   },
   "outputs": [],
   "source": [
    "enet.packets[4].length"
   ]
  },
  {
   "cell_type": "code",
   "execution_count": null,
   "metadata": {
    "collapsed": false
   },
   "outputs": [],
   "source": [
    "dist=dists[1]\n",
    "c=check_distribution(dist,data)\n",
    "(c-dist.counts).nonzero()[0].size"
   ]
  },
  {
   "cell_type": "code",
   "execution_count": null,
   "metadata": {
    "collapsed": false
   },
   "outputs": [],
   "source": [
    "start=dist.start_time\n",
    "stop=dist.stop_time+np.uint64(1)\n",
    "s=data.slice((start, stop))\n",
    "f = s.trace[dist.channel]['filtered']\n",
    "fd = data.trace[dist.channel]['filtered'][start:stop]\n",
    "(f-fd).nonzero()"
   ]
  },
  {
   "cell_type": "code",
   "execution_count": null,
   "metadata": {
    "collapsed": false
   },
   "outputs": [],
   "source": [
    "np.uint64(1)+np.uint64(-1)"
   ]
  },
  {
   "cell_type": "code",
   "execution_count": null,
   "metadata": {
    "collapsed": false
   },
   "outputs": [],
   "source": [
    "event_dt=np.dtype(\n",
    "    (np.uint64, \n",
    "        [\n",
    "            ('data', np.uint32),\n",
    "            ('flags0', np.uint8),\n",
    "            ('flags1', np.uint8),\n",
    "            ('time',np.uint16)\n",
    "        ] \n",
    "    )\n",
    ")\n",
    "\n",
    "peak_dt=np.dtype(\n",
    "    (\n",
    "        [\n",
    "            ('height', np.int16),\n",
    "            ('minima', np.int16),\n",
    "            ('flags0', np.uint8),\n",
    "            ('flags1', np.uint8),\n",
    "            ('time',np.uint16)\n",
    "        ] \n",
    "    )\n",
    ")\n",
    "\n",
    "tick_dt=np.dtype(\n",
    "    ( \n",
    "        [\n",
    "            ('period', np.uint32),\n",
    "            ('flags0', np.uint8),\n",
    "            ('flags1', np.uint8),\n",
    "            ('time', np.uint16),\n",
    "            ('timestamp', np.uint64)\n",
    "        ]\n",
    "    )\n",
    ")\n",
    "\n",
    "e = sim.EventStream('teslib','measurement_subsystem_TB')\n",
    "\n",
    "events=e._stream64.view(dtype=event_dt)\n",
    "\n",
    "#type_flags = np.bitwise_and(events['flags'],0x000f)\n",
    "tick = np.bitwise_and(events['flags1'],0x02)!=0\n",
    "window_start = np.bitwise_and(events['flags1'],0x01)!=0\n",
    "\n",
    "tick_mask=np.zeros(len(tick),dtype=bool)\n",
    "i=0\n",
    "while (i < len(tick)):\n",
    "    if tick[i]!=0:\n",
    "        tick_mask[i:i+2]=True\n",
    "        i+=1\n",
    "    i+=1\n",
    "    \n",
    "peaks=e._stream64[~tick_mask].view(dtype=peak_dt)\n",
    "\n",
    "ticks=e._stream64[tick_mask].view(dtype=tick_dt)"
   ]
  },
  {
   "cell_type": "code",
   "execution_count": null,
   "metadata": {
    "collapsed": false
   },
   "outputs": [],
   "source": [
    "d=distributions[0]\n",
    "\n",
    "\n",
    "d.value.trace"
   ]
  },
  {
   "cell_type": "code",
   "execution_count": null,
   "metadata": {
    "collapsed": true
   },
   "outputs": [],
   "source": [
    "%matplotlib notebook\n",
    "stop=distributions[0].stop_time\n",
    "start=distributions[0].start_time\n",
    "plt.plot(data.trace[0]['filtered'][start:stop])"
   ]
  },
  {
   "cell_type": "code",
   "execution_count": null,
   "metadata": {
    "collapsed": false
   },
   "outputs": [],
   "source": [
    "%matplotlib notebook\n",
    "d=0\n",
    "plt.plot(distributions[d].counts)"
   ]
  },
  {
   "cell_type": "code",
   "execution_count": null,
   "metadata": {
    "collapsed": false,
    "scrolled": true
   },
   "outputs": [],
   "source": [
    "p=1\n",
    "lasts=enet['last'].nonzero()[0]+1\n",
    "packets = []\n",
    "prev=0\n",
    "for last in lasts:\n",
    "    packets.append(sim.Packet( np.copy(enet['data'][prev:last]).view(np.uint8)))\n",
    "    prev=last\n",
    "\n",
    "packets[:]"
   ]
  },
  {
   "cell_type": "code",
   "execution_count": null,
   "metadata": {
    "collapsed": false
   },
   "outputs": [],
   "source": [
    "packets[4]"
   ]
  },
  {
   "cell_type": "code",
   "execution_count": null,
   "metadata": {
    "collapsed": false
   },
   "outputs": [],
   "source": [
    "def get_distributions(packets):\n",
    "    for packet in packets:\n",
    "        if packet.payload_type == PayloadType.mca:\n",
    "            \n",
    "        \n",
    "    \n",
    "    \n",
    "    \n",
    "packets[4].payload[0:8].view(mca_header_dt)"
   ]
  },
  {
   "cell_type": "code",
   "execution_count": null,
   "metadata": {
    "collapsed": false
   },
   "outputs": [],
   "source": [
    "peaks=packets[1].payload.view(peak_dt)\n",
    "peaks"
   ]
  },
  {
   "cell_type": "code",
   "execution_count": null,
   "metadata": {
    "collapsed": false
   },
   "outputs": [],
   "source": [
    "\n",
    "time=0\n",
    "times=[]\n",
    "heights=[]\n",
    "minimas=[]\n",
    "\n",
    "for p in packets:\n",
    "    if p.payload_type==sim.EventType.tick:\n",
    "        tick=p.payload.view(tick_dt)\n",
    "        time=tick[0]['timestamp']\n",
    "    elif p.payload_type==sim.EventType.peak:\n",
    "        peaks=p.payload.view(peak_dt)\n",
    "        for peak in peaks:\n",
    "            time+=peak['time']\n",
    "            times.append(time)\n",
    "            heights.append(peak['height'])\n",
    "            minimas.append(peak['minima'])\n",
    "            "
   ]
  },
  {
   "cell_type": "code",
   "execution_count": null,
   "metadata": {
    "collapsed": false
   },
   "outputs": [],
   "source": [
    "times"
   ]
  },
  {
   "cell_type": "code",
   "execution_count": null,
   "metadata": {
    "collapsed": false
   },
   "outputs": [],
   "source": [
    "packets[1].payload.view(peak_dt)"
   ]
  },
  {
   "cell_type": "code",
   "execution_count": null,
   "metadata": {
    "collapsed": false
   },
   "outputs": [],
   "source": [
    "heights[0]"
   ]
  },
  {
   "cell_type": "code",
   "execution_count": null,
   "metadata": {
    "collapsed": false,
    "scrolled": false
   },
   "outputs": [],
   "source": [
    "%matplotlib notebook\n",
    "p=3\n",
    "x=np.arange(times[p]-300,times[p]+1000,dtype=np.uint64)\n",
    "plt.plot([times[p], times[p]],[minimas[p], heights[p]],'r',lw=2)\n",
    "plt.step(x,data.trace['filtered'][x])\n",
    "plt.plot(data.peak[p/2],data.trace['filtered'][data.peak[p/2]],'ro')\n",
    "plt.plot(\n",
    "    [data.peak_start[p/2],times[p]],\n",
    "    [data.trace['filtered'][data.peak_start[p/2]],data.trace['filtered'][data.peak_start[p/2]]],\n",
    "    'k'\n",
    ")\n",
    "plt.plot(\n",
    "    [times[p],data.peak[p/2]],\n",
    "    [data.trace['filtered'][data.peak[p/2]],data.trace['filtered'][data.peak[p/2]]],\n",
    "    'k'\n",
    ")"
   ]
  },
  {
   "cell_type": "code",
   "execution_count": null,
   "metadata": {
    "collapsed": false
   },
   "outputs": [],
   "source": [
    "%matplotlib notebook\n",
    "fig=simplt.plot_slice(data.slice((data.peak[0]-1000,data.peak[0]+1000)))\n",
    "data.trace['filtered'][data.peak[0]]"
   ]
  },
  {
   "cell_type": "code",
   "execution_count": null,
   "metadata": {
    "collapsed": false,
    "scrolled": false
   },
   "outputs": [],
   "source": [
    "data.cfd_low"
   ]
  },
  {
   "cell_type": "code",
   "execution_count": null,
   "metadata": {
    "collapsed": false
   },
   "outputs": [],
   "source": [
    "packet_bytes=packet.view(np.uint8)"
   ]
  },
  {
   "cell_type": "code",
   "execution_count": null,
   "metadata": {
    "collapsed": false
   },
   "outputs": [],
   "source": [
    "packet_bytes"
   ]
  },
  {
   "cell_type": "code",
   "execution_count": null,
   "metadata": {
    "collapsed": false
   },
   "outputs": [],
   "source": []
  },
  {
   "cell_type": "code",
   "execution_count": null,
   "metadata": {
    "collapsed": false
   },
   "outputs": [],
   "source": [
    "\n",
    "payload"
   ]
  },
  {
   "cell_type": "code",
   "execution_count": null,
   "metadata": {
    "collapsed": false,
    "scrolled": false
   },
   "outputs": [],
   "source": [
    "\n",
    "payload_type"
   ]
  },
  {
   "cell_type": "code",
   "execution_count": null,
   "metadata": {
    "collapsed": false
   },
   "outputs": [],
   "source": [
    "time=payload[6:8].view(np.uint16)\n",
    "time"
   ]
  },
  {
   "cell_type": "code",
   "execution_count": null,
   "metadata": {
    "collapsed": false
   },
   "outputs": [],
   "source": [
    "\n",
    "peaks"
   ]
  },
  {
   "cell_type": "code",
   "execution_count": null,
   "metadata": {
    "collapsed": false
   },
   "outputs": [],
   "source": [
    "payload[4+8:6+8]"
   ]
  },
  {
   "cell_type": "code",
   "execution_count": null,
   "metadata": {
    "collapsed": false
   },
   "outputs": [],
   "source": [
    "%matplotlib notebook\n",
    "fig=simplt.plot_pulse(1,data)"
   ]
  },
  {
   "cell_type": "code",
   "execution_count": null,
   "metadata": {
    "collapsed": false
   },
   "outputs": [],
   "source": [
    "fig._axstack.as_list()[0]"
   ]
  },
  {
   "cell_type": "code",
   "execution_count": null,
   "metadata": {
    "collapsed": false,
    "scrolled": true
   },
   "outputs": [],
   "source": [
    "tick"
   ]
  },
  {
   "cell_type": "code",
   "execution_count": null,
   "metadata": {
    "collapsed": false
   },
   "outputs": [],
   "source": [
    "ticks"
   ]
  },
  {
   "cell_type": "code",
   "execution_count": null,
   "metadata": {
    "collapsed": false
   },
   "outputs": [],
   "source": [
    "window_start"
   ]
  },
  {
   "cell_type": "code",
   "execution_count": null,
   "metadata": {
    "collapsed": false
   },
   "outputs": [],
   "source": [
    "tick_mask"
   ]
  },
  {
   "cell_type": "code",
   "execution_count": null,
   "metadata": {
    "collapsed": false
   },
   "outputs": [],
   "source": [
    "e._stream64[tick_mask]"
   ]
  },
  {
   "cell_type": "code",
   "execution_count": null,
   "metadata": {
    "collapsed": false
   },
   "outputs": [],
   "source": [
    "type_flags[~tick_mask]"
   ]
  },
  {
   "cell_type": "code",
   "execution_count": null,
   "metadata": {
    "collapsed": false
   },
   "outputs": [],
   "source": [
    "type_flags = np.bitwise_and(events['flags'],0x000f)\n",
    "peak_num = np.right_shift(np.bitwise_and(events['flags'],0x00f0),4)\n",
    "channel = np.right_shift(np.bitwise_and(events['flags'],0x0f00),8)\n",
    "event_type = np.right_shift(np.bitwise_and(events['flags'],0x3000),12)\n",
    "tick=np.bitwise_and(type_flags,0x0002)"
   ]
  },
  {
   "cell_type": "code",
   "execution_count": null,
   "metadata": {
    "collapsed": false
   },
   "outputs": [],
   "source": [
    "ticks"
   ]
  },
  {
   "cell_type": "code",
   "execution_count": null,
   "metadata": {
    "collapsed": false
   },
   "outputs": [],
   "source": []
  },
  {
   "cell_type": "code",
   "execution_count": null,
   "metadata": {
    "collapsed": false
   },
   "outputs": [],
   "source": [
    "tick_mask"
   ]
  },
  {
   "cell_type": "code",
   "execution_count": null,
   "metadata": {
    "collapsed": false
   },
   "outputs": [],
   "source": [
    "events[tick_mask]"
   ]
  },
  {
   "cell_type": "code",
   "execution_count": null,
   "metadata": {
    "collapsed": false
   },
   "outputs": [],
   "source": [
    "time=np.bitwise_and(events[~tick_mask]['time'],0x7fff)\n",
    "c_start=np.bitwise_and(events[~tick_mask]['time'],0x8000)!=0"
   ]
  },
  {
   "cell_type": "code",
   "execution_count": null,
   "metadata": {
    "collapsed": false
   },
   "outputs": [],
   "source": [
    "events[tick_mask]['time']"
   ]
  },
  {
   "cell_type": "code",
   "execution_count": null,
   "metadata": {
    "collapsed": false
   },
   "outputs": [],
   "source": [
    "time"
   ]
  },
  {
   "cell_type": "code",
   "execution_count": null,
   "metadata": {
    "collapsed": false
   },
   "outputs": [],
   "source": [
    "np.binary_repr(time[0],width=16)"
   ]
  },
  {
   "cell_type": "code",
   "execution_count": null,
   "metadata": {
    "collapsed": false
   },
   "outputs": [],
   "source": [
    "events[~tick_mask]['min']"
   ]
  },
  {
   "cell_type": "code",
   "execution_count": null,
   "metadata": {
    "collapsed": false
   },
   "outputs": [],
   "source": [
    "events[~tick_mask]['height']"
   ]
  },
  {
   "cell_type": "code",
   "execution_count": null,
   "metadata": {
    "collapsed": false
   },
   "outputs": [],
   "source": [
    "%matplotlib notebook\n",
    "fig = simplt.plot_pulse(1,data,pre=500,length=3000)\n"
   ]
  },
  {
   "cell_type": "code",
   "execution_count": null,
   "metadata": {
    "collapsed": true
   },
   "outputs": [],
   "source": [
    "import pickle\n",
    "\n",
    "# An arbitrary collection of objects supported by pickle.\n",
    "\n",
    "pickler = pickle.Pickler(open('long.pickle', 'wb'),pickle.HIGHEST_PROTOCOL)\n",
    "pickler.dump(data)\n"
   ]
  },
  {
   "cell_type": "code",
   "execution_count": null,
   "metadata": {
    "collapsed": true
   },
   "outputs": [],
   "source": [
    "unpickler = pickle.Unpickler(open('long.pickle', 'rb'))\n",
    "reg2=unpickler.load()\n",
    "data2=unpickler.load()"
   ]
  },
  {
   "cell_type": "code",
   "execution_count": null,
   "metadata": {
    "collapsed": false
   },
   "outputs": [],
   "source": [
    "data2.trace['slope']"
   ]
  },
  {
   "cell_type": "code",
   "execution_count": null,
   "metadata": {
    "collapsed": false
   },
   "outputs": [],
   "source": [
    "reg2"
   ]
  },
  {
   "cell_type": "code",
   "execution_count": null,
   "metadata": {
    "collapsed": false,
    "scrolled": false
   },
   "outputs": [],
   "source": [
    "axs = fig.get_axes()\n",
    "pax=axs[0].parasites\n",
    "pax[0]._label\n",
    "f_ins_ax=axs[1]\n",
    "s_ins_ax=f_ins_ax.parasites[0]"
   ]
  },
  {
   "cell_type": "code",
   "execution_count": null,
   "metadata": {
    "collapsed": false,
    "scrolled": false
   },
   "outputs": [],
   "source": [
    "es=sim.Data.fromfile('eventstream',np.int32,'teslib','measurement_unit_TB')"
   ]
  },
  {
   "cell_type": "code",
   "execution_count": null,
   "metadata": {
    "collapsed": false
   },
   "outputs": [],
   "source": [
    "es"
   ]
  },
  {
   "cell_type": "code",
   "execution_count": null,
   "metadata": {
    "collapsed": false
   },
   "outputs": [],
   "source": [
    "data.peak[-1]"
   ]
  },
  {
   "cell_type": "code",
   "execution_count": null,
   "metadata": {
    "collapsed": false
   },
   "outputs": [],
   "source": [
    "s.peak"
   ]
  },
  {
   "cell_type": "code",
   "execution_count": null,
   "metadata": {
    "collapsed": false
   },
   "outputs": [],
   "source": [
    "isinstance(r,sim.DataRegion)"
   ]
  },
  {
   "cell_type": "code",
   "execution_count": null,
   "metadata": {
    "collapsed": false
   },
   "outputs": [],
   "source": [
    "r.peak"
   ]
  },
  {
   "cell_type": "code",
   "execution_count": null,
   "metadata": {
    "collapsed": false
   },
   "outputs": [],
   "source": [
    "i"
   ]
  },
  {
   "cell_type": "code",
   "execution_count": null,
   "metadata": {
    "collapsed": false
   },
   "outputs": [],
   "source": [
    "%matplotlib notebook\n",
    "import matplotlib.pyplot as plt\n",
    "\n",
    "plt.plot(data.trace['filtered'])"
   ]
  },
  {
   "cell_type": "code",
   "execution_count": null,
   "metadata": {
    "collapsed": false
   },
   "outputs": [],
   "source": [
    "ax=plt.gca()\n",
    "t=ax.transData\n",
    "t.transform([[0.1,0.2],[1,3]])"
   ]
  },
  {
   "cell_type": "code",
   "execution_count": null,
   "metadata": {
    "collapsed": true
   },
   "outputs": [],
   "source": [
    "x=np.array([0,1,2,3])\n",
    "y=np.array([3,4,5,6])\n",
    "\n",
    "xy=np.empty(shape=(4,2))"
   ]
  },
  {
   "cell_type": "code",
   "execution_count": null,
   "metadata": {
    "collapsed": false
   },
   "outputs": [],
   "source": [
    "xy[:,0]=x\n",
    "xy[:,1]=y\n",
    "t.transform(xy)"
   ]
  },
  {
   "cell_type": "code",
   "execution_count": null,
   "metadata": {
    "collapsed": true
   },
   "outputs": [],
   "source": []
  },
  {
   "cell_type": "code",
   "execution_count": null,
   "metadata": {
    "collapsed": false
   },
   "outputs": [],
   "source": [
    "# run to import isim data files\n",
    "\n",
    "import numpy as np\n",
    "import os\n",
    "import matplotlib.pyplot as plt\n",
    "import math\n",
    "from enum import Enum\n",
    "\n",
    "plt.rcParams[\"figure.figsize\"]=[800./80,600./80]\n",
    "\n",
    "repo='c:\\\\TES_project\\\\fpga_ise\\\\'\n",
    "project='teslib'\n",
    "testbench='measurement_unit_TB'\n",
    "datafile='traces'\n",
    "path=repo+project+'\\\\PlanAhead\\\\'+project+'.sim\\\\'+testbench+'\\\\'\n",
    "\n",
    "traces_dt = np.dtype([('input', np.int32),('raw',np.int32),('filtered',np.int32),('slope',np.int32)])\n",
    "traces=np.fromfile(path+'traces',traces_dt)\n",
    "trigger=np.fromfile(path+'triggers',np.int32)\n",
    "settings=np.fromfile(path+'settings',np.int32)\n",
    "cfd_low=np.fromfile(path+'cfdlow',np.int32)\n",
    "cfd_high=np.fromfile(path+'cfdhigh',np.int32)\n",
    "peaks=np.fromfile(path+'peaks',np.int32)\n",
    "peaks.shape=(-1,2)\n",
    "peak_starts=np.fromfile(path+'peak_starts',np.int32)\n",
    "#peak_starts.shape=(-1,2)\n",
    "pulse_starts=np.fromfile(path+'peak_starts',np.int32)\n",
    "settings=np.fromfile(path+'settings',np.int32)\n",
    "cfd_low=np.fromfile(path+'cfdlow',np.int32)\n",
    "cfd_high=np.fromfile(path+'cfdhigh',np.int32)\n",
    "slope_xing=np.fromfile(path+'slopethreshxings',np.int32)\n"
   ]
  },
  {
   "cell_type": "code",
   "execution_count": null,
   "metadata": {
    "collapsed": false
   },
   "outputs": [],
   "source": [
    "settings[13]"
   ]
  },
  {
   "cell_type": "code",
   "execution_count": null,
   "metadata": {
    "collapsed": false
   },
   "outputs": [],
   "source": [
    "#create register dict from settings array\n",
    "\n",
    "class height_type(Enum):\n",
    "    def from_int(value):\n",
    "        if value == 0:\n",
    "            return height_type.peak_height\n",
    "        elif value == 1:\n",
    "            return height_type.cfd_high\n",
    "        elif value == 2:\n",
    "            return height_type.slope_integral\n",
    "        else:\n",
    "            raise AttributeError()\n",
    "    peak_height=0\n",
    "    cfd_high=1\n",
    "    slope_integral=2\n",
    "\n",
    "class trigger_type(Enum):\n",
    "    def from_int(value):\n",
    "        if value == 0:\n",
    "            return trigger_type.pulse_threshold\n",
    "        elif value == 1:\n",
    "            return trigger_type.slope_threshold\n",
    "        elif value == 2:\n",
    "            return trigger_type.cfd_low\n",
    "        else:\n",
    "            raise AttributeError()\n",
    "    pulse_threshold=0\n",
    "    slope_threshold=1\n",
    "    cfd_low=2\n",
    "\n",
    "class event_type(Enum):\n",
    "    def from_int(value):\n",
    "        if value == 0:\n",
    "            return event_type.peak\n",
    "        elif value == 1:\n",
    "            return event_type.area\n",
    "        elif value == 2:\n",
    "            return event_type.pulse\n",
    "        elif value == 3:\n",
    "            return event_type.trace\n",
    "        else:\n",
    "            raise AttributeError()\n",
    "    peak=0\n",
    "    area=1\n",
    "    pulse=2\n",
    "    trace=3\n",
    "\n",
    "\n",
    "def read_registers(settings):\n",
    "    registers = dict()\n",
    "    registers['baseline'] = dict()\n",
    "    registers['baseline']['offset'] = settings[0]\n",
    "    registers['baseline']['subtraction'] = settings[1]!=0\n",
    "    registers['baseline']['timeconstant'] = settings[2]\n",
    "    registers['baseline']['threshold'] = settings[3]\n",
    "    registers['baseline']['count_threshold'] = settings[4]\n",
    "    registers['generic'] = dict()\n",
    "    registers['baseline']['average_order'] = settings[5]\n",
    "    registers['capture'] = dict()\n",
    "    registers['capture']['cfd_relative'] = settings[6]!=0\n",
    "    registers['capture']['constant_fraction'] = settings[7]\n",
    "    registers['capture']['pulse_threshold'] = settings[8]\n",
    "    registers['capture']['slope_threshold'] = settings[9]\n",
    "    registers['capture']['pulse_area_threshold'] = settings[10]\n",
    "    registers['capture']['height_type'] = height_type.from_int(settings[11])\n",
    "    registers['capture']['threshold_rel2min'] = settings[12]!=0\n",
    "    registers['capture']['trigger_type'] = trigger_type.from_int(settings[13])\n",
    "    registers['capture']['event_type'] = event_type.from_int(settings[14])\n",
    "    return registers\n"
   ]
  },
  {
   "cell_type": "code",
   "execution_count": null,
   "metadata": {
    "collapsed": false
   },
   "outputs": [],
   "source": [
    "%matplotlib notebook\n",
    "x=np.arange(len(traces['filtered']))\n",
    "fig=plt.figure()\n",
    "\n",
    "ax=fig.add_axes([0.15,0.1,0.8,0.8])\n",
    "mV=1.0/math.pow(2,14)*1000\n",
    "nS=4\n",
    "\n",
    "\n",
    "i_trace, =ax.step(x*nS/1000000,(traces['input']+1800)*mV*2,'k',label='raw input')\n",
    "f_trace, =ax.step(x*nS/1000000,traces['filtered']*mV,'b',label='processed')\n",
    "fig.suptitle('Digital Signal Processing',fontsize=24)\n",
    "plt.xlabel('time (ms)',fontsize=18)\n",
    "plt.ylabel('Voltage (mV)',fontsize=18)\n",
    "plt.legend(handles=[i_trace,f_trace])\n",
    "\n",
    "fig.savefig('trace.png')\n",
    "plt.show()"
   ]
  },
  {
   "cell_type": "code",
   "execution_count": null,
   "metadata": {
    "collapsed": true
   },
   "outputs": [],
   "source": []
  },
  {
   "cell_type": "code",
   "execution_count": null,
   "metadata": {
    "collapsed": false
   },
   "outputs": [],
   "source": [
    "%matplotlib notebook\n",
    "import math\n",
    "\n",
    "def align_yaxis(ax1, v1, ax2, v2):\n",
    "    \"\"\"adjust ax2 ylimit so that v2 in ax2 is aligned to v1 in ax1\"\"\"\n",
    "    _, y1 = ax1.transData.transform((0, v1))\n",
    "    _, y2 = ax2.transData.transform((0, v2))\n",
    "    adjust_yaxis(ax2,(y1-y2)/2,v2)\n",
    "    adjust_yaxis(ax1,(y2-y1)/2,v1)\n",
    "\n",
    "def adjust_yaxis(ax,ydif,v):\n",
    "    \"\"\"shift axis ax by ydiff, maintaining point v at the same location\"\"\"\n",
    "    inv = ax.transData.inverted()\n",
    "    _, dy = inv.transform((0, 0)) - inv.transform((0, ydif))\n",
    "    miny, maxy = ax.get_ylim()\n",
    "    miny, maxy = miny - v, maxy - v\n",
    "    if -miny>maxy or (-miny==maxy and dy > 0):\n",
    "        nminy = miny\n",
    "        nmaxy = miny*(maxy+dy)/(miny+dy)\n",
    "    else:\n",
    "        nmaxy = maxy\n",
    "        nminy = maxy*(miny+dy)/(maxy+dy)\n",
    "    ax.set_ylim(nminy+v, nmaxy+v)\n",
    "    \n",
    "x=np.arange(len(traces['filtered']))\n",
    "fig=plt.figure()\n",
    "ax=fig.add_axes([0.1,0.1,0.8,0.8])\n",
    "plt.ylim(-10,120)\n",
    "v=math.pow(2,13)/1000\n",
    "t=x*4\n",
    "ax.plot([0,t[-1]],[0,0],'k')\n",
    "raw, = ax.step(t,traces['raw']/2/v,'k',lw=1,label='raw')\n",
    "processed, = ax.step(t,traces['filtered']/2/v,'r',lw=2,label='processed')\n",
    "ax.plot(trigger,traces['filtered'][trigger+1]/2,'kx')\n",
    "ax.plot(peaks[:,0],traces['filtered'][peaks[:,0]+1]/2,'ro')\n",
    "ax.plot(peak_starts,traces['filtered'][peak_starts+1]/2,'ro')\n",
    "ax.plot(cfd_high,traces['filtered'][cfd_high+1]/2,'bs')\n",
    "ax.plot(cfd_low,traces['filtered'][cfd_low+1]/2,'bs')\n",
    "plt.xlabel('time (ns)',fontsize=18)\n",
    "plt.ylabel('Voltage (mV)',fontsize=18,color='r')\n",
    "\n",
    "ax2=ax.twinx()\n",
    "slope, = ax2.step(t,traces['slope']/256/v/4,'b',lw=2,label='slope')\n",
    "plt.xlim([1292000,1297500])\n",
    "plt.ylim(-0.2,1)\n",
    "align_yaxis(ax,0,ax2,0)\n",
    "plt.ylabel('slope (mV/ns)',color='b',fontsize=18)\n",
    "fig.suptitle('Digital signal processing',fontsize=24)\n",
    "plt.legend(handles=[raw,processed,slope])\n",
    "fig.savefig('dsp.png')\n",
    "plt.show()"
   ]
  },
  {
   "cell_type": "code",
   "execution_count": null,
   "metadata": {
    "collapsed": false
   },
   "outputs": [],
   "source": [
    "%matplotlib notebook\n",
    "\n",
    "#plot pulse\n",
    "from mpl_toolkits.axes_grid1 import host_subplot\n",
    "from mpl_toolkits.axes_grid1.inset_locator import zoomed_inset_axes\n",
    "from mpl_toolkits.axes_grid1.inset_locator import mark_inset\n",
    "\n",
    "pulse=7\n",
    "length=2000\n",
    "pre=100\n",
    "\n",
    "def align_yaxis(ax1, v1, ax2, v2):\n",
    "    \"\"\"adjust ax2 ylimit so that v2 in ax2 is aligned to v1 in ax1\"\"\"\n",
    "    _, y1 = ax1.transData.transform((0, v1))\n",
    "    _, y2 = ax2.transData.transform((0, v2))\n",
    "    adjust_yaxis(ax2,(y1-y2)/2,v2)\n",
    "    adjust_yaxis(ax1,(y2-y1)/2,v1)\n",
    "\n",
    "def adjust_yaxis(ax,ydif,v):\n",
    "    \"\"\"shift axis ax by ydiff, maintaining point v at the same location\"\"\"\n",
    "    inv = ax.transData.inverted()\n",
    "    _, dy = inv.transform((0, 0)) - inv.transform((0, ydif))\n",
    "    miny, maxy = ax.get_ylim()\n",
    "    miny, maxy = miny - v, maxy - v\n",
    "    if -miny>maxy or (-miny==maxy and dy > 0):\n",
    "        nminy = miny\n",
    "        nmaxy = miny*(maxy+dy)/(miny+dy)\n",
    "    else:\n",
    "        nmaxy = maxy\n",
    "        nminy = maxy*(miny+dy)/(maxy+dy)\n",
    "    ax.set_ylim(nminy+v, nmaxy+v)\n",
    "    \n",
    "start=pulse_starts[pulse]-pre\n",
    "stop=start+length\n",
    "x=np.arange(0,len(traces['filtered']))\n",
    "fig=plt.figure()\n",
    "\n",
    "f_ax = host_subplot(111)\n",
    "s_ax = f_ax.twinx()\n",
    "\n",
    "f_ax.set_xlabel(\"Time (ns)\",fontsize=18)\n",
    "f_ax.set_ylabel(\"Voltage (mV)\",fontsize=18,color='r')\n",
    "s_ax.set_ylabel(\"Slope (mv/ns)\",fontsize=18,color='b')\n",
    "\n",
    "mV=1.0/math.pow(2,14)*1000\n",
    "nS=4\n",
    "t=x*nS\n",
    "\n",
    "f_sig = traces['filtered']*mV\n",
    "s_sig = traces['slope']*mV/nS\n",
    "\n",
    "f_ax.plot([t[start],t[stop]],[0,0],'k') # zero line\n",
    "f_trace, = f_ax.step(t[start:stop],f_sig[start:stop],'r',lw=2,label='processed')\n",
    "f_ax.set_ylim(-10,180)\n",
    "\n",
    "s_trace, = s_ax.step(t[start:stop],s_sig[start:stop],'b',lw=1,label='slope')\n",
    "s_ax.set_ylim(-15,50)\n",
    "#s_threshold = 6\n",
    "#s_ax.set_yticks(np.concatenate((s_ax.get_yticks(),[s_threshold])))\n",
    "#labels=[label.get_text() for label in s_ax.get_yticklabels()]\n",
    "#labels[6]='Threshold'\n",
    "\n",
    "#s_ax.set_yticklabels(labels)\n",
    "plt.xlim(t[start],t[stop])\n",
    "align_yaxis(f_ax,0,s_ax,0)\n",
    "fig.suptitle('Measurement:First pass',fontsize=24)\n",
    "#plt.legend(handles=[f_trace,s_trace])\n",
    "\n",
    "starts_mask = np.logical_and(peak_starts >= start,peak_starts <= stop)\n",
    "peaks_mask = np.logical_and(peaks[:,0] >= start, peaks[:,0] <= stop)\n",
    "peak_starts_inwin = peak_starts[starts_mask]\n",
    "\n",
    "for pstart in peak_starts_inwin:\n",
    "    peak_start_t=t[pstart]-2\n",
    "    peak_start_f=f_sig[pstart]\n",
    "    peak_start_s=s_sig[pstart]\n",
    "\n",
    "    f_ax.plot(peak_start_t,peak_start_f,'ro')\n",
    "    s_ax.plot(peak_start_t,peak_start_s,'bo')\n",
    "    \n",
    "    f_trans = f_ax.transData\n",
    "    s_trans = s_ax.transData.inverted()\n",
    "    trans = s_trans+f_trans\n",
    "    f_point=f_trans.transform((peak_start_t,peak_start_f))\n",
    "    s_point=s_trans.transform((f_point[0],f_point[1]))\n",
    "\n",
    "    s_ax.plot([peak_start_t,peak_start_t],[peak_start_s, s_point[1]],'k')\n",
    "\n",
    "#for p in peaks[0][peaks_inwin]\n",
    "peaks_inwin = peaks[peaks_mask,0]\n",
    "for p in peaks_inwin:\n",
    "    peak_t=t[p]-2\n",
    "    peak_f=f_sig[p]\n",
    "    peak_s=s_sig[p]\n",
    "\n",
    "    f_ax.plot(peak_t,peak_f,'ro')\n",
    "    s_ax.plot(peak_t,peak_s,'bo')\n",
    "    \n",
    "    f_trans = f_ax.transData\n",
    "    s_trans = s_ax.transData.inverted()\n",
    "    trans = s_trans+f_trans\n",
    "    f_point=f_trans.transform((peak_t,peak_f))\n",
    "    s_point=s_trans.transform((f_point[0],f_point[1]))\n",
    "\n",
    "    s_ax.plot([peak_t,peak_t],[peak_s, s_point[1]],'k')\n",
    "\n",
    "ins_start = peak_starts_inwin[0]-5\n",
    "ins_stop = peak_starts_inwin[0]+5\n",
    "f_ins_ax = zoomed_inset_axes(f_ax, 50, loc=1)  # zoom = 6\n",
    "f_ins_ax.step(t[ins_start:ins_stop],f_sig[ins_start:ins_stop],'r')\n",
    "f_ins_ax.set_ylim(-0.5,2)\n",
    "f_ins_ax.set_xlim(ins_start,ins_stop)\n",
    "f_ins_ax.set_yticks([])\n",
    "f_ins_ax.set_xticks([])\n",
    "\n",
    "f_ins_ax.plot([t[ins_start],t[ins_stop]],[0,0],'k') # zero line\n",
    "\n",
    "#plt.xticks(visible=False)\n",
    "#plt.yticks(visible=False)\n",
    "mark_inset(f_ax, f_ins_ax, loc1=2, loc2=4, fc=\"none\", ec=\"0.5\")\n",
    "\n",
    "s_ins_ax = f_ins_ax.twinx()\n",
    "s_ins_ax.set_yticks([])\n",
    "s_ins_ax.set_xticks([])\n",
    "\n",
    "s_ins_ax.step(t[ins_start:ins_stop],s_sig[ins_start:ins_stop],'b')\n",
    "\n",
    "s_ins_ax.set_ylim(-1,1)\n",
    "align_yaxis(f_ins_ax,0,s_ins_ax,0)\n",
    "\n",
    "pstart = peak_starts_inwin[0]\n",
    "peak_start_t=t[pstart]-2\n",
    "peak_start_f=f_sig[pstart]\n",
    "peak_start_s=s_sig[pstart]\n",
    "\n",
    "f_ins_ax.plot(peak_start_t,peak_start_f,'ro')\n",
    "s_ins_ax.plot(peak_start_t,peak_start_s,'bo')\n",
    "    \n",
    "f_trans = f_ins_ax.transData\n",
    "s_trans = s_ins_ax.transData.inverted()\n",
    "trans = s_trans+f_trans\n",
    "f_point=f_trans.transform((peak_start_t,peak_start_f))\n",
    "s_point=s_trans.transform((f_point[0],f_point[1]))\n",
    "\n",
    "s_ins_ax.plot([peak_start_t,peak_start_t],[peak_start_s, s_point[1]],'k')\n",
    "\n",
    "s_ax.plot([t[start],t[stop]],[s_threshold,s_threshold],ls='dashed')\n",
    "\n",
    "fig.savefig('measurement1.png')\n",
    "plt.draw()\n",
    "plt.show()"
   ]
  },
  {
   "cell_type": "code",
   "execution_count": null,
   "metadata": {
    "collapsed": false
   },
   "outputs": [],
   "source": [
    "%matplotlib notebook\n",
    "from mpl_toolkits.axes_grid1 import host_subplot\n",
    "from mpl_toolkits.axes_grid1.inset_locator import zoomed_inset_axes\n",
    "from mpl_toolkits.axes_grid1.inset_locator import mark_inset\n",
    "\n",
    "pulse=7\n",
    "length=2000\n",
    "pre=100\n",
    "\n",
    "def align_yaxis(ax1, v1, ax2, v2):\n",
    "    \"\"\"adjust ax2 ylimit so that v2 in ax2 is aligned to v1 in ax1\"\"\"\n",
    "    _, y1 = ax1.transData.transform((0, v1))\n",
    "    _, y2 = ax2.transData.transform((0, v2))\n",
    "    adjust_yaxis(ax2,(y1-y2)/2,v2)\n",
    "    adjust_yaxis(ax1,(y2-y1)/2,v1)\n",
    "\n",
    "def adjust_yaxis(ax,ydif,v):\n",
    "    \"\"\"shift axis ax by ydiff, maintaining point v at the same location\"\"\"\n",
    "    inv = ax.transData.inverted()\n",
    "    _, dy = inv.transform((0, 0)) - inv.transform((0, ydif))\n",
    "    miny, maxy = ax.get_ylim()\n",
    "    miny, maxy = miny - v, maxy - v\n",
    "    if -miny>maxy or (-miny==maxy and dy > 0):\n",
    "        nminy = miny\n",
    "        nmaxy = miny*(maxy+dy)/(miny+dy)\n",
    "    else:\n",
    "        nmaxy = maxy\n",
    "        nminy = maxy*(miny+dy)/(maxy+dy)\n",
    "    ax.set_ylim(nminy+v, nmaxy+v)\n",
    "    \n",
    "start=pulse_starts[pulse]-pre\n",
    "stop=start+length\n",
    "x=np.arange(0,len(traces['filtered']))\n",
    "fig=plt.figure()\n",
    "\n",
    "f_ax = host_subplot(111)\n",
    "s_ax = f_ax.twinx()\n",
    "\n",
    "f_ax.set_xlabel(\"Time (ns)\",fontsize=18)\n",
    "f_ax.set_ylabel(\"Voltage (mV)\",fontsize=18,color='r')\n",
    "s_ax.set_ylabel(\"Slope (mv/ns)\",fontsize=18,color='b')\n",
    "\n",
    "mV=1.0/math.pow(2,14)*1000\n",
    "nS=4\n",
    "t=x*nS\n",
    "\n",
    "f_sig = traces['filtered']*mV\n",
    "s_sig = traces['slope']*mV/nS\n",
    "\n",
    "f_ax.plot([t[start],t[stop]],[0,0],'k') # zero line\n",
    "f_trace, = f_ax.step(t[start:stop],f_sig[start:stop],'r',lw=2,label='processed')\n",
    "f_ax.set_ylim(-10,180)\n",
    "\n",
    "s_trace, = s_ax.step(t[start:stop],s_sig[start:stop],'b',lw=1,label='slope')\n",
    "s_ax.set_ylim(-15,50)\n",
    "#s_threshold = 6\n",
    "#s_ax.set_yticks(np.concatenate((s_ax.get_yticks(),[s_threshold])))\n",
    "#labels=[label.get_text() for label in s_ax.get_yticklabels()]\n",
    "#labels[6]='Threshold'\n",
    "\n",
    "#s_ax.set_yticklabels(labels)\n",
    "plt.xlim(t[start],t[stop])\n",
    "align_yaxis(f_ax,0,s_ax,0)\n",
    "fig.suptitle('Measurement:Second pass',fontsize=24)\n",
    "#plt.legend(handles=[f_trace,s_trace])\n",
    "\n",
    "starts_mask = np.logical_and(peak_starts >= start,peak_starts <= stop)\n",
    "peaks_mask = np.logical_and(peaks[:,0] >= start, peaks[:,0] <= stop)\n",
    "peak_starts_inwin = peak_starts[starts_mask]\n",
    "\n",
    "\n",
    "#for pstart in peak_starts_inwin:\n",
    "#    peak_start_t=t[pstart]-2\n",
    "#    peak_start_f=f_sig[pstart]\n",
    "#    peak_start_s=s_sig[pstart]\n",
    "#\n",
    "#    f_ax.plot(peak_start_t,peak_start_f,'ro')\n",
    "#    s_ax.plot(peak_start_t,peak_start_s,'bo')\n",
    "    \n",
    "#    f_trans = f_ax.transData\n",
    "#    s_trans = s_ax.transData.inverted()\n",
    "#    trans = s_trans+f_trans\n",
    "#    f_point=f_trans.transform((peak_start_t,peak_start_f))\n",
    "#    s_point=s_trans.transform((f_point[0],f_point[1]))\n",
    "\n",
    "#    s_ax.plot([peak_start_t,peak_start_t],[peak_start_s, s_point[1]],'k')\n",
    "\n",
    "#for p in peaks[0][peaks_inwin]\n",
    "peaks_inwin = peaks[peaks_mask,0]\n",
    "x_s=peak_starts_inwin\n",
    "x_p=peaks_inwin\n",
    "y_s=f_sig[x_s]\n",
    "y_p=f_sig[x_p]\n",
    "\n",
    "f_ax.plot(t[peak_starts_inwin],f_sig[peak_starts_inwin],'or')\n",
    "f_ax.plot(t[peaks_inwin],f_sig[peaks_inwin],'or')\n",
    "\n",
    "\n",
    "f_ax.plot([t[x_s[0]],t[x_p[0]]],[y_s[0],y_s[0]],'k')\n",
    "f_ax.plot([t[x_p[0]],t[x_p[0]]],[y_s[0],y_p[0]],'k')\n",
    "\n",
    "f_ax.plot([t[x_s[1]],t[x_p[1]]],[y_s[1],y_s[1]],'k')\n",
    "f_ax.plot([t[x_p[1]],t[x_p[1]]],[y_s[1],y_p[1]],'k')\n",
    "\n",
    "\n",
    "#for p in peaks_inwin:\n",
    "#    peak_t=t[p]-2\n",
    "#    peak_f=f_sig[p]\n",
    "#    peak_s=s_sig[p]\n",
    "\n",
    "#    f_ax.plot(peak_t,peak_f,'ro')\n",
    "#    s_ax.plot(peak_t,peak_s,'bo')\n",
    "    \n",
    "#    f_trans = f_ax.transData\n",
    "#    s_trans = s_ax.transata.inverted()\n",
    "#    trans = s_trans+f_trans\n",
    "#    f_point=f_trans.transform((peak_t,peak_f))\n",
    "#    s_point=s_trans.transform((f_point[0],f_point[1]))\n",
    "\n",
    "#    s_ax.plot([peak_t,peak_t],[peak_s, s_point[1]],'k')\n",
    "\n",
    "ins_start = peak_starts_inwin[1]-300\n",
    "ins_stop = peak_starts_inwin[1]+500\n",
    "f_ins_ax = zoomed_inset_axes(f_ax, 1.5, loc=1)  # zoom = 6\n",
    "f_ins_ax.step(t[ins_start:ins_stop],f_sig[ins_start:ins_stop],'r')\n",
    "f_ins_ax.set_ylim(60,180)\n",
    "f_ins_ax.set_xlim(t[ins_start],t[ins_stop])\n",
    "f_ins_ax.set_yticks([])\n",
    "f_ins_ax.set_xticks([])\n",
    "\n",
    "low_mask = np.logical_and(cfd_low >= start, cfd_low <= stop)\n",
    "low_inwin = cfd_low[low_mask]\n",
    "high_mask = np.logical_and(cfd_high >= start, cfd_high <= stop)\n",
    "high_inwin = cfd_high[high_mask]\n",
    "thresh_mask = np.logical_and(slope_xing >= start, slope_xing <= stop)\n",
    "thresh_inwin = slope_xing[thresh_mask]\n",
    "\n",
    "f_ins_ax.plot(t[peak_starts_inwin],f_sig[peak_starts_inwin],'or')\n",
    "f_ins_ax.plot(t[peaks_inwin],f_sig[peaks_inwin],'or')\n",
    "\n",
    "f_ins_ax.plot(t[low_inwin],f_sig[low_inwin],'ok')\n",
    "f_ins_ax.plot(t[high_inwin],f_sig[high_inwin],'ok')\n",
    "f_ax.plot(t[low_inwin],f_sig[low_inwin],'ok')\n",
    "f_ax.plot(t[high_inwin],f_sig[high_inwin],'ok')\n",
    "#f_ax.plot(t[thresh_inwin],f_sig[thresh_inwin],'ow')\n",
    "f_ins_ax.plot(t[thresh_inwin],f_sig[thresh_inwin],'ow')\n",
    "\n",
    "\n",
    "f_ins_ax.plot([t[x_s[0]],t[x_p[0]]],[y_s[0],y_s[0]],'k')\n",
    "f_ins_ax.plot([t[x_p[0]],t[x_p[0]]],[y_s[0],y_p[0]],'k')\n",
    "\n",
    "f_ins_ax.plot([t[x_s[1]],t[x_p[1]]],[y_s[1],y_s[1]],'k')\n",
    "f_ins_ax.plot([t[x_p[1]],t[x_p[1]]],[y_s[1],y_p[1]],'k')\n",
    "\n",
    "#f_ins_ax.plot([t[ins_start],t[ins_stop]],[0,0],'k') # zero line\n",
    "\n",
    "#plt.xticks(visible=False)\n",
    "#plt.yticks(visible=False)\n",
    "#mark_inset(f_ax, f_ins_ax, loc1=2, loc2=4, fc=\"none\", ec=\"0.5\")\n",
    "\n",
    "pstart = peak_starts_inwin[1]\n",
    "peak_start_t=t[pstart]-2\n",
    "peak_start_f=f_sig[pstart]\n",
    "peak_start_s=s_sig[pstart]\n",
    "\n",
    "f_ins_ax.plot(peak_start_t,peak_start_f,'ro')\n",
    "\n",
    "\n",
    "f_trans = f_ins_ax.transData\n",
    "s_trans = s_ins_ax.transData.inverted()\n",
    "trans = s_trans+f_trans\n",
    "f_point=f_trans.transform((peak_start_t,peak_start_f))\n",
    "s_point=s_trans.transform((f_point[0],f_point[1]))\n",
    "\n",
    "s_ins_ax.plot([peak_start_t,peak_start_t],[peak_start_s, s_point[1]],'k')\n",
    "\n",
    "s_ax.plot([t[start],t[stop]],[s_threshold,s_threshold],ls='dashed')\n",
    "\n",
    "fig.savefig('measurement2.png')\n",
    "plt.draw()\n",
    "plt.show()"
   ]
  },
  {
   "cell_type": "code",
   "execution_count": null,
   "metadata": {
    "collapsed": false
   },
   "outputs": [],
   "source": [
    "from mpl_toolkits.axes_grid1.inset_locator import inset_axes\n",
    "\n",
    "fig=plt.figure()\n",
    "fig.suptitle('Multi Channel Analyser',fontsize=24)\n",
    "\n",
    "h_ax = host_subplot(111)\n",
    "\n",
    "h_ins_ax = inset_axes(h_ax, width=\"80%\",height=1., loc=1)  # zoom = 6\n",
    "h_ins_ax.set_xlim(-25,160)\n",
    "h_ins_ax.set_ylim(0,0.002)\n",
    "h_ax.hist((traces['input']+200)*2*mV,math.pow(2,14),normed=1,facecolor='k',edgecolor='k')\n",
    "h_ax.hist(f_sig,math.pow(2,14),normed=1,facecolor='r',edgecolor='r')\n",
    "h_ins_ax.hist(f_sig,math.pow(2,14),normed=1,facecolor='r',edgecolor='r')\n",
    "h_ins_ax.set_xticks([])\n",
    "h_ins_ax.set_yticks([])\n",
    "h_ax.set_xlim(-30,100)\n",
    "h_ax.set_ylim(0,0.8)\n",
    "\n",
    "mark_inset(h_ax, h_ins_ax, loc1=2, loc2=4, fc=\"none\", ec=\"0.5\")\n",
    "\n",
    "h_ax.set_xlabel('Voltage (mV)')\n",
    "h_ax.set_ylabel('Probability')\n",
    "fig.savefig('hist.png')\n",
    "plt.show()"
   ]
  },
  {
   "cell_type": "code",
   "execution_count": null,
   "metadata": {
    "collapsed": true
   },
   "outputs": [],
   "source": [
    "peak_dt=np.dtype([('time',np.uint16),('flags',np.uint16),('minima',np.uint16),('height',np.uint16)])"
   ]
  },
  {
   "cell_type": "code",
   "execution_count": null,
   "metadata": {
    "collapsed": true
   },
   "outputs": [],
   "source": [
    "area_dt=np.dtype([('time',np.uint16),('flags',np.uint16),('area',np.uint32)])"
   ]
  },
  {
   "cell_type": "code",
   "execution_count": null,
   "metadata": {
    "collapsed": true
   },
   "outputs": [],
   "source": [
    "pulse_peak_dt=np.dtype([('trigger',np.uint16),('rise',np.uint16),('minima',np.uint16),('height',np.uint16)])\n",
    "pulse_header_dt=np.dtype([('time',np.uint16),('flags',np.uint16),('res1',np.uint16),('size',np.uint16),\n",
    "                    ('length',np.uint16),('res2',np.uint16),('area',np.int32)])"
   ]
  },
  {
   "cell_type": "code",
   "execution_count": null,
   "metadata": {
    "collapsed": false
   },
   "outputs": [],
   "source": [
    "pulse2_dt=np.dtype([('time',np.uint16),('flags',np.uint16),('res1',np.uint16),('size',np.uint16),\n",
    "                    ('length',np.uint16),('res2',np.uint16),('area',np.int32),\n",
    "                    ('trigger0',np.uint16),('rise0',np.uint16),('minima0',np.uint16),('height0',np.uint16),\n",
    "                    ('trigger1',np.uint16),('rise1',np.uint16),('minima1',np.uint16),('height1',np.uint16)])"
   ]
  },
  {
   "cell_type": "code",
   "execution_count": null,
   "metadata": {
    "collapsed": false
   },
   "outputs": [],
   "source": [
    "pulse2_subarray_dt=np.dtype([('header',pulse_header_dt,('peaks', (pulse_peak_dt,(1,2)) ))])"
   ]
  },
  {
   "cell_type": "code",
   "execution_count": null,
   "metadata": {
    "collapsed": true
   },
   "outputs": [],
   "source": [
    "eventstream=np.fromfile(path+'eventstream',peak_dt)"
   ]
  },
  {
   "cell_type": "code",
   "execution_count": null,
   "metadata": {
    "collapsed": true
   },
   "outputs": [],
   "source": [
    "eventstream=np.fromfile(path+'eventstream',area_dt)"
   ]
  },
  {
   "cell_type": "code",
   "execution_count": null,
   "metadata": {
    "collapsed": true
   },
   "outputs": [],
   "source": [
    "eventstream=np.fromfile(path+'eventstream',pulse2_dt)"
   ]
  },
  {
   "cell_type": "code",
   "execution_count": null,
   "metadata": {
    "collapsed": false
   },
   "outputs": [],
   "source": [
    "eventstream"
   ]
  },
  {
   "cell_type": "code",
   "execution_count": null,
   "metadata": {
    "collapsed": false
   },
   "outputs": [],
   "source": [
    "flags=eventstream['flags']\n",
    "print(np.binary_repr(flags[0],16))"
   ]
  },
  {
   "cell_type": "code",
   "execution_count": null,
   "metadata": {
    "collapsed": false
   },
   "outputs": [],
   "source": [
    "print(\"flags:{:016b}\\nsize:{}\\nlength:{}\\narea:{}\\ntrigger:{} rise:{} minima:{} height:{}\\ntrigger:{} rise:{} minima:{} height:{}\\n\"  \n",
    "      .format(eventstream['flags'][0],eventstream['size'][0],eventstream['length'][0],eventstream['area'][0],\n",
    "        eventstream['trigger0'][0],eventstream['rise0'][0],eventstream['minima0'][0],eventstream['height0'][0],\n",
    "        eventstream['trigger1'][0],eventstream['rise1'][0],eventstream['minima1'][0],eventstream['height1'][0]))"
   ]
  },
  {
   "cell_type": "code",
   "execution_count": null,
   "metadata": {
    "collapsed": false
   },
   "outputs": [],
   "source": [
    "print(np.binary_repr(flags[1],16))"
   ]
  },
  {
   "cell_type": "code",
   "execution_count": null,
   "metadata": {
    "collapsed": true
   },
   "outputs": [],
   "source": [
    "rel_to_min=np.right_shift(np.bitwise_and(flags,0x8000),15).astype(np.bool)\n",
    "channel=np.right_shift(np.bitwise_and(flags,0x0F00),8).astype(np.uint8)\n",
    "threshold_rel2min=np.right_shift(np.bitwise_and(flags,0x4000),14).astype(np.bool)\n",
    "peak_count=np.right_shift(np.bitwise_and(flags,0x00F0),4).astype(np.uint8)\n",
    "tick=np.bitwise_and(flags,0x0001).astype(bool)\n",
    "area=np.right_shift(np.bitwise_and(flags,0x0002),1).astype(np.bool)\n",
    "trace=np.right_shift(np.bitwise_and(flags,0x0004),2).astype(np.bool)\n",
    "fixed=np.right_shift(np.bitwise_and(flags,0x0008),3).astype(np.bool)\n",
    "event_type=np.right_shift(np.bitwise_and(flags,0x3000),12).astype(np.uint8)"
   ]
  },
  {
   "cell_type": "code",
   "execution_count": null,
   "metadata": {
    "collapsed": false
   },
   "outputs": [],
   "source": [
    "flags"
   ]
  },
  {
   "cell_type": "code",
   "execution_count": null,
   "metadata": {
    "collapsed": false
   },
   "outputs": [],
   "source": [
    "eventstream"
   ]
  },
  {
   "cell_type": "code",
   "execution_count": null,
   "metadata": {
    "collapsed": true
   },
   "outputs": [],
   "source": []
  },
  {
   "cell_type": "code",
   "execution_count": null,
   "metadata": {
    "collapsed": true
   },
   "outputs": [],
   "source": []
  }
 ],
 "metadata": {
  "kernelspec": {
   "display_name": "Python 3",
   "language": "python",
   "name": "python3"
  },
  "language_info": {
   "codemirror_mode": {
    "name": "ipython",
    "version": 3
   },
   "file_extension": ".py",
   "mimetype": "text/x-python",
   "name": "python",
   "nbconvert_exporter": "python",
   "pygments_lexer": "ipython3",
   "version": "3.5.1"
  }
 },
 "nbformat": 4,
 "nbformat_minor": 0
}
