{
 "cells": [
  {
   "cell_type": "markdown",
   "metadata": {},
   "source": [
    "timestamp 0 => clk 20\n",
    "\n",
    "traces start at clk 1"
   ]
  },
  {
   "cell_type": "code",
   "execution_count": null,
   "metadata": {
    "collapsed": false,
    "run_control": {
     "frozen": false,
     "read_only": false
    }
   },
   "outputs": [],
   "source": [
    "#Mac\n",
    "import sys\n",
    "sys.path.append('../../../../interface/python')"
   ]
  },
  {
   "cell_type": "code",
   "execution_count": 1,
   "metadata": {
    "collapsed": false,
    "run_control": {
     "frozen": false,
     "read_only": false
    }
   },
   "outputs": [],
   "source": [
    "from tes.data import Data,PacketStream,Packet,Payload,EventFlags,Event\n",
    "import numpy as np\n",
    "import matplotlib.pyplot as plt\n",
    "from subprocess import Popen"
   ]
  },
  {
   "cell_type": "code",
   "execution_count": null,
   "metadata": {
    "collapsed": true
   },
   "outputs": [],
   "source": []
  },
  {
   "cell_type": "code",
   "execution_count": 2,
   "metadata": {
    "code_folding": [],
    "collapsed": false,
    "run_control": {
     "frozen": false,
     "read_only": false
    }
   },
   "outputs": [],
   "source": [
    "#NOTE traces[0] corresponts to clk=1\n",
    "trace_dt=np.dtype([('raw','i4'),('filtered','i4'),('slope','i4'),('filteredL','i4')])\n",
    "stream_dt=np.dtype([('data','i4'),('last','i4')])\n",
    "minmax_dt=np.dtype(\n",
    "    [\n",
    "        ('filtered','i4'),('timing_threshold','i4'),\n",
    "        ('height_threshold','i4'),('slope_extrema','i4'),('slope_area','i4'),('clk','i4')\n",
    "    ]\n",
    ")\n",
    "cfd_dt=np.dtype('i4')\n",
    "filteredxing_dt=np.dtype([('extrema','i4'),('area','i4'),('clk','i4')])"
   ]
  },
  {
   "cell_type": "code",
   "execution_count": null,
   "metadata": {
    "collapsed": false,
    "run_control": {
     "frozen": false,
     "read_only": false
    }
   },
   "outputs": [],
   "source": [
    "traces=np.fromfile('data/traces',trace_dt)\n",
    "stream=np.fromfile('data/bytestream',stream_dt)\n",
    "minmax=np.fromfile('data/minmax',minmax_dt)\n",
    "cfd=np.fromfile('data/cfd',cfd_dt)\n",
    "filteredxing=np.fromfile('data/filteredxing',filteredxing_dt)"
   ]
  },
  {
   "cell_type": "code",
   "execution_count": 3,
   "metadata": {
    "collapsed": false,
    "run_control": {
     "frozen": false,
     "read_only": false
    },
    "scrolled": true
   },
   "outputs": [],
   "source": [
    "traces=Data.fromfile('traces',trace_dt,'teslib','measurement_subsystem_TB',tool='vivado')\n",
    "stream=Data.fromfile('bytestream',stream_dt,'teslib','measurement_subsystem_TB',tool='vivado')\n",
    "minmax=Data.fromfile('minmax',minmax_dt,'teslib','measurement_subsystem_TB',tool='vivado')\n",
    "cfd=Data.fromfile('cfd',cfd_dt,'teslib','measurement_subsystem_TB',tool='vivado')\n",
    "filteredxing=Data.fromfile(\n",
    "    'filteredxing',filteredxing_dt,'teslib','measurement_subsystem_TB',tool='vivado'\n",
    ")"
   ]
  },
  {
   "cell_type": "code",
   "execution_count": null,
   "metadata": {
    "collapsed": false,
    "run_control": {
     "frozen": false,
     "read_only": false
    },
    "scrolled": true
   },
   "outputs": [],
   "source": [
    "# Mac\n",
    "traces=Data.fromfile(\n",
    "    'traces',trace_dt,'teslib','measurement_subsystem_TB',tool='vivado',\n",
    "    root='/Volumes/C/'\n",
    ")\n",
    "stream=Data.fromfile(\n",
    "    'bytestream',stream_dt,'teslib','measurement_subsystem_TB',tool='vivado',\n",
    "    root='/Volumes/C/'\n",
    ")\n",
    "minmax=Data.fromfile(\n",
    "    'minmax',minmax_dt,'teslib','measurement_subsystem_TB',tool='vivado',\n",
    "    root='/Volumes/C/'\n",
    ")\n",
    "cfd=Data.fromfile(\n",
    "    'cfd',cfd_dt,'teslib','measurement_subsystem_TB',tool='vivado',\n",
    "    root='/Volumes/C/'\n",
    ")\n",
    "filteredxing=Data.fromfile(\n",
    "    'filteredxing',filteredxing_dt,'teslib','measurement_subsystem_TB',\n",
    "    tool='vivado',root='/Volumes/C/'\n",
    ")"
   ]
  },
  {
   "cell_type": "code",
   "execution_count": 4,
   "metadata": {
    "collapsed": false
   },
   "outputs": [],
   "source": [
    "def plot_event(event_tupple,rel2min):\n",
    "    pre=200\n",
    "    post=1000\n",
    "    timestamp=event_tupple[0]\n",
    "    event_type=event_tupple[1]\n",
    "    event=event_tupple[2]\n",
    "    flags=EventFlags(event['flags'])\n",
    "#     print(flags)\n",
    "    #print('timestamp',timestamp, 'time', event['time'],'height',event['height'],'min',event['minima'])\n",
    "    if flags.type == Event.tick:\n",
    "        return\n",
    "    s=traces['filtered'][timestamp+20-pre:timestamp+20+post]\n",
    "    r=traces['raw'][timestamp+20-pre:timestamp+20+post]\n",
    "    i = np.where(abs(minmax['clk'])<=timestamp+20)[0][-1]\n",
    "    min_t=abs(minmax['clk'][i])-(timestamp+20)\n",
    "#     print(minmax['clk'][i],min_t,i,timestamp)\n",
    "    #plt.plot(r,'k',linewidth=0.5)\n",
    "#     print('min', event_tupple[2][1])\n",
    "#     print(event_type)\n",
    "    if flags.channel==1:\n",
    "        colour='b'\n",
    "        lw=0.5\n",
    "        mm = 'vb'\n",
    "        tm = 'ob'\n",
    "    else:\n",
    "        colour='r'\n",
    "        lw=0.5\n",
    "        mm = 'vr'\n",
    "        tm = 'or'\n",
    "    \n",
    "#     if event_type==Event.pulse:\n",
    "#         colour=':g'\n",
    "#         lw=2\n",
    "#         if event_type==Event.pulse:\n",
    "#             max_peaks = event['size']-2\n",
    "#         if max_peaks > 1:    \n",
    "#             minima=event['peaks'][0]['minima']\n",
    "#         else:\n",
    "#             minima=event['peaks']['minima']\n",
    "#     else:\n",
    "#         colour='b'\n",
    "#         lw=1\n",
    "    if flags.channel==1:\n",
    "        minima=event['minima']\n",
    "    #     print(event_type,'minima',minima)\n",
    "        if rel2min:\n",
    "            plt.plot(s-minima,colour,linewidth=lw)\n",
    "        else:\n",
    "            plt.plot(s,colour,linewidth=lw)\n",
    "    #     plt.plot([pre],s[pre],tm,fillstyle='none')\n",
    "    #     plt.plot([pre+min_t],minmax['filtered'][i],mm,fillstyle='none')\n",
    "        if event_type==Event.pulse:\n",
    "            if max_peaks > 1:\n",
    "                for i in range(max_peaks):\n",
    "                    p=event['peaks'][i]\n",
    "                    plt.plot([0,len(s)-1],[p['height'],p['height']],':g')\n",
    "            else:\n",
    "                p=event['peaks']\n",
    "                plt.plot([0,len(s)-1],[p['height'],p['height']],':g',lw=1)\n",
    "        else:\n",
    "          plt.plot([0,len(s)-1],[event['height'],event['height']],colour,lw=lw)\n",
    "\n",
    "    #print(event['height'],event['minima'])\n",
    "    #print(minmax['filtered'][i]==s[pre+min_t])\n",
    "    #print(minmax['filtered'][i]==event['minima'])\n",
    "    #print(s[pre],s[pre-1])"
   ]
  },
  {
   "cell_type": "code",
   "execution_count": 4,
   "metadata": {
    "collapsed": false,
    "run_control": {
     "frozen": false,
     "read_only": false
    },
    "scrolled": false
   },
   "outputs": [
    {
     "data": {
      "application/javascript": [
       "/* Put everything inside the global mpl namespace */\n",
       "window.mpl = {};\n",
       "\n",
       "\n",
       "mpl.get_websocket_type = function() {\n",
       "    if (typeof(WebSocket) !== 'undefined') {\n",
       "        return WebSocket;\n",
       "    } else if (typeof(MozWebSocket) !== 'undefined') {\n",
       "        return MozWebSocket;\n",
       "    } else {\n",
       "        alert('Your browser does not have WebSocket support.' +\n",
       "              'Please try Chrome, Safari or Firefox ≥ 6. ' +\n",
       "              'Firefox 4 and 5 are also supported but you ' +\n",
       "              'have to enable WebSockets in about:config.');\n",
       "    };\n",
       "}\n",
       "\n",
       "mpl.figure = function(figure_id, websocket, ondownload, parent_element) {\n",
       "    this.id = figure_id;\n",
       "\n",
       "    this.ws = websocket;\n",
       "\n",
       "    this.supports_binary = (this.ws.binaryType != undefined);\n",
       "\n",
       "    if (!this.supports_binary) {\n",
       "        var warnings = document.getElementById(\"mpl-warnings\");\n",
       "        if (warnings) {\n",
       "            warnings.style.display = 'block';\n",
       "            warnings.textContent = (\n",
       "                \"This browser does not support binary websocket messages. \" +\n",
       "                    \"Performance may be slow.\");\n",
       "        }\n",
       "    }\n",
       "\n",
       "    this.imageObj = new Image();\n",
       "\n",
       "    this.context = undefined;\n",
       "    this.message = undefined;\n",
       "    this.canvas = undefined;\n",
       "    this.rubberband_canvas = undefined;\n",
       "    this.rubberband_context = undefined;\n",
       "    this.format_dropdown = undefined;\n",
       "\n",
       "    this.image_mode = 'full';\n",
       "\n",
       "    this.root = $('<div/>');\n",
       "    this._root_extra_style(this.root)\n",
       "    this.root.attr('style', 'display: inline-block');\n",
       "\n",
       "    $(parent_element).append(this.root);\n",
       "\n",
       "    this._init_header(this);\n",
       "    this._init_canvas(this);\n",
       "    this._init_toolbar(this);\n",
       "\n",
       "    var fig = this;\n",
       "\n",
       "    this.waiting = false;\n",
       "\n",
       "    this.ws.onopen =  function () {\n",
       "            fig.send_message(\"supports_binary\", {value: fig.supports_binary});\n",
       "            fig.send_message(\"send_image_mode\", {});\n",
       "            if (mpl.ratio != 1) {\n",
       "                fig.send_message(\"set_dpi_ratio\", {'dpi_ratio': mpl.ratio});\n",
       "            }\n",
       "            fig.send_message(\"refresh\", {});\n",
       "        }\n",
       "\n",
       "    this.imageObj.onload = function() {\n",
       "            if (fig.image_mode == 'full') {\n",
       "                // Full images could contain transparency (where diff images\n",
       "                // almost always do), so we need to clear the canvas so that\n",
       "                // there is no ghosting.\n",
       "                fig.context.clearRect(0, 0, fig.canvas.width, fig.canvas.height);\n",
       "            }\n",
       "            fig.context.drawImage(fig.imageObj, 0, 0);\n",
       "        };\n",
       "\n",
       "    this.imageObj.onunload = function() {\n",
       "        this.ws.close();\n",
       "    }\n",
       "\n",
       "    this.ws.onmessage = this._make_on_message_function(this);\n",
       "\n",
       "    this.ondownload = ondownload;\n",
       "}\n",
       "\n",
       "mpl.figure.prototype._init_header = function() {\n",
       "    var titlebar = $(\n",
       "        '<div class=\"ui-dialog-titlebar ui-widget-header ui-corner-all ' +\n",
       "        'ui-helper-clearfix\"/>');\n",
       "    var titletext = $(\n",
       "        '<div class=\"ui-dialog-title\" style=\"width: 100%; ' +\n",
       "        'text-align: center; padding: 3px;\"/>');\n",
       "    titlebar.append(titletext)\n",
       "    this.root.append(titlebar);\n",
       "    this.header = titletext[0];\n",
       "}\n",
       "\n",
       "\n",
       "\n",
       "mpl.figure.prototype._canvas_extra_style = function(canvas_div) {\n",
       "\n",
       "}\n",
       "\n",
       "\n",
       "mpl.figure.prototype._root_extra_style = function(canvas_div) {\n",
       "\n",
       "}\n",
       "\n",
       "mpl.figure.prototype._init_canvas = function() {\n",
       "    var fig = this;\n",
       "\n",
       "    var canvas_div = $('<div/>');\n",
       "\n",
       "    canvas_div.attr('style', 'position: relative; clear: both; outline: 0');\n",
       "\n",
       "    function canvas_keyboard_event(event) {\n",
       "        return fig.key_event(event, event['data']);\n",
       "    }\n",
       "\n",
       "    canvas_div.keydown('key_press', canvas_keyboard_event);\n",
       "    canvas_div.keyup('key_release', canvas_keyboard_event);\n",
       "    this.canvas_div = canvas_div\n",
       "    this._canvas_extra_style(canvas_div)\n",
       "    this.root.append(canvas_div);\n",
       "\n",
       "    var canvas = $('<canvas/>');\n",
       "    canvas.addClass('mpl-canvas');\n",
       "    canvas.attr('style', \"left: 0; top: 0; z-index: 0; outline: 0\")\n",
       "\n",
       "    this.canvas = canvas[0];\n",
       "    this.context = canvas[0].getContext(\"2d\");\n",
       "\n",
       "    var backingStore = this.context.backingStorePixelRatio ||\n",
       "\tthis.context.webkitBackingStorePixelRatio ||\n",
       "\tthis.context.mozBackingStorePixelRatio ||\n",
       "\tthis.context.msBackingStorePixelRatio ||\n",
       "\tthis.context.oBackingStorePixelRatio ||\n",
       "\tthis.context.backingStorePixelRatio || 1;\n",
       "\n",
       "    mpl.ratio = (window.devicePixelRatio || 1) / backingStore;\n",
       "\n",
       "    var rubberband = $('<canvas/>');\n",
       "    rubberband.attr('style', \"position: absolute; left: 0; top: 0; z-index: 1;\")\n",
       "\n",
       "    var pass_mouse_events = true;\n",
       "\n",
       "    canvas_div.resizable({\n",
       "        start: function(event, ui) {\n",
       "            pass_mouse_events = false;\n",
       "        },\n",
       "        resize: function(event, ui) {\n",
       "            fig.request_resize(ui.size.width, ui.size.height);\n",
       "        },\n",
       "        stop: function(event, ui) {\n",
       "            pass_mouse_events = true;\n",
       "            fig.request_resize(ui.size.width, ui.size.height);\n",
       "        },\n",
       "    });\n",
       "\n",
       "    function mouse_event_fn(event) {\n",
       "        if (pass_mouse_events)\n",
       "            return fig.mouse_event(event, event['data']);\n",
       "    }\n",
       "\n",
       "    rubberband.mousedown('button_press', mouse_event_fn);\n",
       "    rubberband.mouseup('button_release', mouse_event_fn);\n",
       "    // Throttle sequential mouse events to 1 every 20ms.\n",
       "    rubberband.mousemove('motion_notify', mouse_event_fn);\n",
       "\n",
       "    rubberband.mouseenter('figure_enter', mouse_event_fn);\n",
       "    rubberband.mouseleave('figure_leave', mouse_event_fn);\n",
       "\n",
       "    canvas_div.on(\"wheel\", function (event) {\n",
       "        event = event.originalEvent;\n",
       "        event['data'] = 'scroll'\n",
       "        if (event.deltaY < 0) {\n",
       "            event.step = 1;\n",
       "        } else {\n",
       "            event.step = -1;\n",
       "        }\n",
       "        mouse_event_fn(event);\n",
       "    });\n",
       "\n",
       "    canvas_div.append(canvas);\n",
       "    canvas_div.append(rubberband);\n",
       "\n",
       "    this.rubberband = rubberband;\n",
       "    this.rubberband_canvas = rubberband[0];\n",
       "    this.rubberband_context = rubberband[0].getContext(\"2d\");\n",
       "    this.rubberband_context.strokeStyle = \"#000000\";\n",
       "\n",
       "    this._resize_canvas = function(width, height) {\n",
       "        // Keep the size of the canvas, canvas container, and rubber band\n",
       "        // canvas in synch.\n",
       "        canvas_div.css('width', width)\n",
       "        canvas_div.css('height', height)\n",
       "\n",
       "        canvas.attr('width', width * mpl.ratio);\n",
       "        canvas.attr('height', height * mpl.ratio);\n",
       "        canvas.attr('style', 'width: ' + width + 'px; height: ' + height + 'px;');\n",
       "\n",
       "        rubberband.attr('width', width);\n",
       "        rubberband.attr('height', height);\n",
       "    }\n",
       "\n",
       "    // Set the figure to an initial 600x600px, this will subsequently be updated\n",
       "    // upon first draw.\n",
       "    this._resize_canvas(600, 600);\n",
       "\n",
       "    // Disable right mouse context menu.\n",
       "    $(this.rubberband_canvas).bind(\"contextmenu\",function(e){\n",
       "        return false;\n",
       "    });\n",
       "\n",
       "    function set_focus () {\n",
       "        canvas.focus();\n",
       "        canvas_div.focus();\n",
       "    }\n",
       "\n",
       "    window.setTimeout(set_focus, 100);\n",
       "}\n",
       "\n",
       "mpl.figure.prototype._init_toolbar = function() {\n",
       "    var fig = this;\n",
       "\n",
       "    var nav_element = $('<div/>')\n",
       "    nav_element.attr('style', 'width: 100%');\n",
       "    this.root.append(nav_element);\n",
       "\n",
       "    // Define a callback function for later on.\n",
       "    function toolbar_event(event) {\n",
       "        return fig.toolbar_button_onclick(event['data']);\n",
       "    }\n",
       "    function toolbar_mouse_event(event) {\n",
       "        return fig.toolbar_button_onmouseover(event['data']);\n",
       "    }\n",
       "\n",
       "    for(var toolbar_ind in mpl.toolbar_items) {\n",
       "        var name = mpl.toolbar_items[toolbar_ind][0];\n",
       "        var tooltip = mpl.toolbar_items[toolbar_ind][1];\n",
       "        var image = mpl.toolbar_items[toolbar_ind][2];\n",
       "        var method_name = mpl.toolbar_items[toolbar_ind][3];\n",
       "\n",
       "        if (!name) {\n",
       "            // put a spacer in here.\n",
       "            continue;\n",
       "        }\n",
       "        var button = $('<button/>');\n",
       "        button.addClass('ui-button ui-widget ui-state-default ui-corner-all ' +\n",
       "                        'ui-button-icon-only');\n",
       "        button.attr('role', 'button');\n",
       "        button.attr('aria-disabled', 'false');\n",
       "        button.click(method_name, toolbar_event);\n",
       "        button.mouseover(tooltip, toolbar_mouse_event);\n",
       "\n",
       "        var icon_img = $('<span/>');\n",
       "        icon_img.addClass('ui-button-icon-primary ui-icon');\n",
       "        icon_img.addClass(image);\n",
       "        icon_img.addClass('ui-corner-all');\n",
       "\n",
       "        var tooltip_span = $('<span/>');\n",
       "        tooltip_span.addClass('ui-button-text');\n",
       "        tooltip_span.html(tooltip);\n",
       "\n",
       "        button.append(icon_img);\n",
       "        button.append(tooltip_span);\n",
       "\n",
       "        nav_element.append(button);\n",
       "    }\n",
       "\n",
       "    var fmt_picker_span = $('<span/>');\n",
       "\n",
       "    var fmt_picker = $('<select/>');\n",
       "    fmt_picker.addClass('mpl-toolbar-option ui-widget ui-widget-content');\n",
       "    fmt_picker_span.append(fmt_picker);\n",
       "    nav_element.append(fmt_picker_span);\n",
       "    this.format_dropdown = fmt_picker[0];\n",
       "\n",
       "    for (var ind in mpl.extensions) {\n",
       "        var fmt = mpl.extensions[ind];\n",
       "        var option = $(\n",
       "            '<option/>', {selected: fmt === mpl.default_extension}).html(fmt);\n",
       "        fmt_picker.append(option)\n",
       "    }\n",
       "\n",
       "    // Add hover states to the ui-buttons\n",
       "    $( \".ui-button\" ).hover(\n",
       "        function() { $(this).addClass(\"ui-state-hover\");},\n",
       "        function() { $(this).removeClass(\"ui-state-hover\");}\n",
       "    );\n",
       "\n",
       "    var status_bar = $('<span class=\"mpl-message\"/>');\n",
       "    nav_element.append(status_bar);\n",
       "    this.message = status_bar[0];\n",
       "}\n",
       "\n",
       "mpl.figure.prototype.request_resize = function(x_pixels, y_pixels) {\n",
       "    // Request matplotlib to resize the figure. Matplotlib will then trigger a resize in the client,\n",
       "    // which will in turn request a refresh of the image.\n",
       "    this.send_message('resize', {'width': x_pixels, 'height': y_pixels});\n",
       "}\n",
       "\n",
       "mpl.figure.prototype.send_message = function(type, properties) {\n",
       "    properties['type'] = type;\n",
       "    properties['figure_id'] = this.id;\n",
       "    this.ws.send(JSON.stringify(properties));\n",
       "}\n",
       "\n",
       "mpl.figure.prototype.send_draw_message = function() {\n",
       "    if (!this.waiting) {\n",
       "        this.waiting = true;\n",
       "        this.ws.send(JSON.stringify({type: \"draw\", figure_id: this.id}));\n",
       "    }\n",
       "}\n",
       "\n",
       "\n",
       "mpl.figure.prototype.handle_save = function(fig, msg) {\n",
       "    var format_dropdown = fig.format_dropdown;\n",
       "    var format = format_dropdown.options[format_dropdown.selectedIndex].value;\n",
       "    fig.ondownload(fig, format);\n",
       "}\n",
       "\n",
       "\n",
       "mpl.figure.prototype.handle_resize = function(fig, msg) {\n",
       "    var size = msg['size'];\n",
       "    if (size[0] != fig.canvas.width || size[1] != fig.canvas.height) {\n",
       "        fig._resize_canvas(size[0], size[1]);\n",
       "        fig.send_message(\"refresh\", {});\n",
       "    };\n",
       "}\n",
       "\n",
       "mpl.figure.prototype.handle_rubberband = function(fig, msg) {\n",
       "    var x0 = msg['x0'] / mpl.ratio;\n",
       "    var y0 = (fig.canvas.height - msg['y0']) / mpl.ratio;\n",
       "    var x1 = msg['x1'] / mpl.ratio;\n",
       "    var y1 = (fig.canvas.height - msg['y1']) / mpl.ratio;\n",
       "    x0 = Math.floor(x0) + 0.5;\n",
       "    y0 = Math.floor(y0) + 0.5;\n",
       "    x1 = Math.floor(x1) + 0.5;\n",
       "    y1 = Math.floor(y1) + 0.5;\n",
       "    var min_x = Math.min(x0, x1);\n",
       "    var min_y = Math.min(y0, y1);\n",
       "    var width = Math.abs(x1 - x0);\n",
       "    var height = Math.abs(y1 - y0);\n",
       "\n",
       "    fig.rubberband_context.clearRect(\n",
       "        0, 0, fig.canvas.width, fig.canvas.height);\n",
       "\n",
       "    fig.rubberband_context.strokeRect(min_x, min_y, width, height);\n",
       "}\n",
       "\n",
       "mpl.figure.prototype.handle_figure_label = function(fig, msg) {\n",
       "    // Updates the figure title.\n",
       "    fig.header.textContent = msg['label'];\n",
       "}\n",
       "\n",
       "mpl.figure.prototype.handle_cursor = function(fig, msg) {\n",
       "    var cursor = msg['cursor'];\n",
       "    switch(cursor)\n",
       "    {\n",
       "    case 0:\n",
       "        cursor = 'pointer';\n",
       "        break;\n",
       "    case 1:\n",
       "        cursor = 'default';\n",
       "        break;\n",
       "    case 2:\n",
       "        cursor = 'crosshair';\n",
       "        break;\n",
       "    case 3:\n",
       "        cursor = 'move';\n",
       "        break;\n",
       "    }\n",
       "    fig.rubberband_canvas.style.cursor = cursor;\n",
       "}\n",
       "\n",
       "mpl.figure.prototype.handle_message = function(fig, msg) {\n",
       "    fig.message.textContent = msg['message'];\n",
       "}\n",
       "\n",
       "mpl.figure.prototype.handle_draw = function(fig, msg) {\n",
       "    // Request the server to send over a new figure.\n",
       "    fig.send_draw_message();\n",
       "}\n",
       "\n",
       "mpl.figure.prototype.handle_image_mode = function(fig, msg) {\n",
       "    fig.image_mode = msg['mode'];\n",
       "}\n",
       "\n",
       "mpl.figure.prototype.updated_canvas_event = function() {\n",
       "    // Called whenever the canvas gets updated.\n",
       "    this.send_message(\"ack\", {});\n",
       "}\n",
       "\n",
       "// A function to construct a web socket function for onmessage handling.\n",
       "// Called in the figure constructor.\n",
       "mpl.figure.prototype._make_on_message_function = function(fig) {\n",
       "    return function socket_on_message(evt) {\n",
       "        if (evt.data instanceof Blob) {\n",
       "            /* FIXME: We get \"Resource interpreted as Image but\n",
       "             * transferred with MIME type text/plain:\" errors on\n",
       "             * Chrome.  But how to set the MIME type?  It doesn't seem\n",
       "             * to be part of the websocket stream */\n",
       "            evt.data.type = \"image/png\";\n",
       "\n",
       "            /* Free the memory for the previous frames */\n",
       "            if (fig.imageObj.src) {\n",
       "                (window.URL || window.webkitURL).revokeObjectURL(\n",
       "                    fig.imageObj.src);\n",
       "            }\n",
       "\n",
       "            fig.imageObj.src = (window.URL || window.webkitURL).createObjectURL(\n",
       "                evt.data);\n",
       "            fig.updated_canvas_event();\n",
       "            fig.waiting = false;\n",
       "            return;\n",
       "        }\n",
       "        else if (typeof evt.data === 'string' && evt.data.slice(0, 21) == \"data:image/png;base64\") {\n",
       "            fig.imageObj.src = evt.data;\n",
       "            fig.updated_canvas_event();\n",
       "            fig.waiting = false;\n",
       "            return;\n",
       "        }\n",
       "\n",
       "        var msg = JSON.parse(evt.data);\n",
       "        var msg_type = msg['type'];\n",
       "\n",
       "        // Call the  \"handle_{type}\" callback, which takes\n",
       "        // the figure and JSON message as its only arguments.\n",
       "        try {\n",
       "            var callback = fig[\"handle_\" + msg_type];\n",
       "        } catch (e) {\n",
       "            console.log(\"No handler for the '\" + msg_type + \"' message type: \", msg);\n",
       "            return;\n",
       "        }\n",
       "\n",
       "        if (callback) {\n",
       "            try {\n",
       "                // console.log(\"Handling '\" + msg_type + \"' message: \", msg);\n",
       "                callback(fig, msg);\n",
       "            } catch (e) {\n",
       "                console.log(\"Exception inside the 'handler_\" + msg_type + \"' callback:\", e, e.stack, msg);\n",
       "            }\n",
       "        }\n",
       "    };\n",
       "}\n",
       "\n",
       "// from http://stackoverflow.com/questions/1114465/getting-mouse-location-in-canvas\n",
       "mpl.findpos = function(e) {\n",
       "    //this section is from http://www.quirksmode.org/js/events_properties.html\n",
       "    var targ;\n",
       "    if (!e)\n",
       "        e = window.event;\n",
       "    if (e.target)\n",
       "        targ = e.target;\n",
       "    else if (e.srcElement)\n",
       "        targ = e.srcElement;\n",
       "    if (targ.nodeType == 3) // defeat Safari bug\n",
       "        targ = targ.parentNode;\n",
       "\n",
       "    // jQuery normalizes the pageX and pageY\n",
       "    // pageX,Y are the mouse positions relative to the document\n",
       "    // offset() returns the position of the element relative to the document\n",
       "    var x = e.pageX - $(targ).offset().left;\n",
       "    var y = e.pageY - $(targ).offset().top;\n",
       "\n",
       "    return {\"x\": x, \"y\": y};\n",
       "};\n",
       "\n",
       "/*\n",
       " * return a copy of an object with only non-object keys\n",
       " * we need this to avoid circular references\n",
       " * http://stackoverflow.com/a/24161582/3208463\n",
       " */\n",
       "function simpleKeys (original) {\n",
       "  return Object.keys(original).reduce(function (obj, key) {\n",
       "    if (typeof original[key] !== 'object')\n",
       "        obj[key] = original[key]\n",
       "    return obj;\n",
       "  }, {});\n",
       "}\n",
       "\n",
       "mpl.figure.prototype.mouse_event = function(event, name) {\n",
       "    var canvas_pos = mpl.findpos(event)\n",
       "\n",
       "    if (name === 'button_press')\n",
       "    {\n",
       "        this.canvas.focus();\n",
       "        this.canvas_div.focus();\n",
       "    }\n",
       "\n",
       "    var x = canvas_pos.x * mpl.ratio;\n",
       "    var y = canvas_pos.y * mpl.ratio;\n",
       "\n",
       "    this.send_message(name, {x: x, y: y, button: event.button,\n",
       "                             step: event.step,\n",
       "                             guiEvent: simpleKeys(event)});\n",
       "\n",
       "    /* This prevents the web browser from automatically changing to\n",
       "     * the text insertion cursor when the button is pressed.  We want\n",
       "     * to control all of the cursor setting manually through the\n",
       "     * 'cursor' event from matplotlib */\n",
       "    event.preventDefault();\n",
       "    return false;\n",
       "}\n",
       "\n",
       "mpl.figure.prototype._key_event_extra = function(event, name) {\n",
       "    // Handle any extra behaviour associated with a key event\n",
       "}\n",
       "\n",
       "mpl.figure.prototype.key_event = function(event, name) {\n",
       "\n",
       "    // Prevent repeat events\n",
       "    if (name == 'key_press')\n",
       "    {\n",
       "        if (event.which === this._key)\n",
       "            return;\n",
       "        else\n",
       "            this._key = event.which;\n",
       "    }\n",
       "    if (name == 'key_release')\n",
       "        this._key = null;\n",
       "\n",
       "    var value = '';\n",
       "    if (event.ctrlKey && event.which != 17)\n",
       "        value += \"ctrl+\";\n",
       "    if (event.altKey && event.which != 18)\n",
       "        value += \"alt+\";\n",
       "    if (event.shiftKey && event.which != 16)\n",
       "        value += \"shift+\";\n",
       "\n",
       "    value += 'k';\n",
       "    value += event.which.toString();\n",
       "\n",
       "    this._key_event_extra(event, name);\n",
       "\n",
       "    this.send_message(name, {key: value,\n",
       "                             guiEvent: simpleKeys(event)});\n",
       "    return false;\n",
       "}\n",
       "\n",
       "mpl.figure.prototype.toolbar_button_onclick = function(name) {\n",
       "    if (name == 'download') {\n",
       "        this.handle_save(this, null);\n",
       "    } else {\n",
       "        this.send_message(\"toolbar_button\", {name: name});\n",
       "    }\n",
       "};\n",
       "\n",
       "mpl.figure.prototype.toolbar_button_onmouseover = function(tooltip) {\n",
       "    this.message.textContent = tooltip;\n",
       "};\n",
       "mpl.toolbar_items = [[\"Home\", \"Reset original view\", \"fa fa-home icon-home\", \"home\"], [\"Back\", \"Back to  previous view\", \"fa fa-arrow-left icon-arrow-left\", \"back\"], [\"Forward\", \"Forward to next view\", \"fa fa-arrow-right icon-arrow-right\", \"forward\"], [\"\", \"\", \"\", \"\"], [\"Pan\", \"Pan axes with left mouse, zoom with right\", \"fa fa-arrows icon-move\", \"pan\"], [\"Zoom\", \"Zoom to rectangle\", \"fa fa-square-o icon-check-empty\", \"zoom\"], [\"\", \"\", \"\", \"\"], [\"Download\", \"Download plot\", \"fa fa-floppy-o icon-save\", \"download\"]];\n",
       "\n",
       "mpl.extensions = [\"eps\", \"jpeg\", \"pdf\", \"png\", \"ps\", \"raw\", \"svg\", \"tif\"];\n",
       "\n",
       "mpl.default_extension = \"png\";var comm_websocket_adapter = function(comm) {\n",
       "    // Create a \"websocket\"-like object which calls the given IPython comm\n",
       "    // object with the appropriate methods. Currently this is a non binary\n",
       "    // socket, so there is still some room for performance tuning.\n",
       "    var ws = {};\n",
       "\n",
       "    ws.close = function() {\n",
       "        comm.close()\n",
       "    };\n",
       "    ws.send = function(m) {\n",
       "        //console.log('sending', m);\n",
       "        comm.send(m);\n",
       "    };\n",
       "    // Register the callback with on_msg.\n",
       "    comm.on_msg(function(msg) {\n",
       "        //console.log('receiving', msg['content']['data'], msg);\n",
       "        // Pass the mpl event to the overriden (by mpl) onmessage function.\n",
       "        ws.onmessage(msg['content']['data'])\n",
       "    });\n",
       "    return ws;\n",
       "}\n",
       "\n",
       "mpl.mpl_figure_comm = function(comm, msg) {\n",
       "    // This is the function which gets called when the mpl process\n",
       "    // starts-up an IPython Comm through the \"matplotlib\" channel.\n",
       "\n",
       "    var id = msg.content.data.id;\n",
       "    // Get hold of the div created by the display call when the Comm\n",
       "    // socket was opened in Python.\n",
       "    var element = $(\"#\" + id);\n",
       "    var ws_proxy = comm_websocket_adapter(comm)\n",
       "\n",
       "    function ondownload(figure, format) {\n",
       "        window.open(figure.imageObj.src);\n",
       "    }\n",
       "\n",
       "    var fig = new mpl.figure(id, ws_proxy,\n",
       "                           ondownload,\n",
       "                           element.get(0));\n",
       "\n",
       "    // Call onopen now - mpl needs it, as it is assuming we've passed it a real\n",
       "    // web socket which is closed, not our websocket->open comm proxy.\n",
       "    ws_proxy.onopen();\n",
       "\n",
       "    fig.parent_element = element.get(0);\n",
       "    fig.cell_info = mpl.find_output_cell(\"<div id='\" + id + \"'></div>\");\n",
       "    if (!fig.cell_info) {\n",
       "        console.error(\"Failed to find cell for figure\", id, fig);\n",
       "        return;\n",
       "    }\n",
       "\n",
       "    var output_index = fig.cell_info[2]\n",
       "    var cell = fig.cell_info[0];\n",
       "\n",
       "};\n",
       "\n",
       "mpl.figure.prototype.handle_close = function(fig, msg) {\n",
       "    var width = fig.canvas.width/mpl.ratio\n",
       "    fig.root.unbind('remove')\n",
       "\n",
       "    // Update the output cell to use the data from the current canvas.\n",
       "    fig.push_to_output();\n",
       "    var dataURL = fig.canvas.toDataURL();\n",
       "    // Re-enable the keyboard manager in IPython - without this line, in FF,\n",
       "    // the notebook keyboard shortcuts fail.\n",
       "    IPython.keyboard_manager.enable()\n",
       "    $(fig.parent_element).html('<img src=\"' + dataURL + '\" width=\"' + width + '\">');\n",
       "    fig.close_ws(fig, msg);\n",
       "}\n",
       "\n",
       "mpl.figure.prototype.close_ws = function(fig, msg){\n",
       "    fig.send_message('closing', msg);\n",
       "    // fig.ws.close()\n",
       "}\n",
       "\n",
       "mpl.figure.prototype.push_to_output = function(remove_interactive) {\n",
       "    // Turn the data on the canvas into data in the output cell.\n",
       "    var width = this.canvas.width/mpl.ratio\n",
       "    var dataURL = this.canvas.toDataURL();\n",
       "    this.cell_info[1]['text/html'] = '<img src=\"' + dataURL + '\" width=\"' + width + '\">';\n",
       "}\n",
       "\n",
       "mpl.figure.prototype.updated_canvas_event = function() {\n",
       "    // Tell IPython that the notebook contents must change.\n",
       "    IPython.notebook.set_dirty(true);\n",
       "    this.send_message(\"ack\", {});\n",
       "    var fig = this;\n",
       "    // Wait a second, then push the new image to the DOM so\n",
       "    // that it is saved nicely (might be nice to debounce this).\n",
       "    setTimeout(function () { fig.push_to_output() }, 1000);\n",
       "}\n",
       "\n",
       "mpl.figure.prototype._init_toolbar = function() {\n",
       "    var fig = this;\n",
       "\n",
       "    var nav_element = $('<div/>')\n",
       "    nav_element.attr('style', 'width: 100%');\n",
       "    this.root.append(nav_element);\n",
       "\n",
       "    // Define a callback function for later on.\n",
       "    function toolbar_event(event) {\n",
       "        return fig.toolbar_button_onclick(event['data']);\n",
       "    }\n",
       "    function toolbar_mouse_event(event) {\n",
       "        return fig.toolbar_button_onmouseover(event['data']);\n",
       "    }\n",
       "\n",
       "    for(var toolbar_ind in mpl.toolbar_items){\n",
       "        var name = mpl.toolbar_items[toolbar_ind][0];\n",
       "        var tooltip = mpl.toolbar_items[toolbar_ind][1];\n",
       "        var image = mpl.toolbar_items[toolbar_ind][2];\n",
       "        var method_name = mpl.toolbar_items[toolbar_ind][3];\n",
       "\n",
       "        if (!name) { continue; };\n",
       "\n",
       "        var button = $('<button class=\"btn btn-default\" href=\"#\" title=\"' + name + '\"><i class=\"fa ' + image + ' fa-lg\"></i></button>');\n",
       "        button.click(method_name, toolbar_event);\n",
       "        button.mouseover(tooltip, toolbar_mouse_event);\n",
       "        nav_element.append(button);\n",
       "    }\n",
       "\n",
       "    // Add the status bar.\n",
       "    var status_bar = $('<span class=\"mpl-message\" style=\"text-align:right; float: right;\"/>');\n",
       "    nav_element.append(status_bar);\n",
       "    this.message = status_bar[0];\n",
       "\n",
       "    // Add the close button to the window.\n",
       "    var buttongrp = $('<div class=\"btn-group inline pull-right\"></div>');\n",
       "    var button = $('<button class=\"btn btn-mini btn-primary\" href=\"#\" title=\"Stop Interaction\"><i class=\"fa fa-power-off icon-remove icon-large\"></i></button>');\n",
       "    button.click(function (evt) { fig.handle_close(fig, {}); } );\n",
       "    button.mouseover('Stop Interaction', toolbar_mouse_event);\n",
       "    buttongrp.append(button);\n",
       "    var titlebar = this.root.find($('.ui-dialog-titlebar'));\n",
       "    titlebar.prepend(buttongrp);\n",
       "}\n",
       "\n",
       "mpl.figure.prototype._root_extra_style = function(el){\n",
       "    var fig = this\n",
       "    el.on(\"remove\", function(){\n",
       "\tfig.close_ws(fig, {});\n",
       "    });\n",
       "}\n",
       "\n",
       "mpl.figure.prototype._canvas_extra_style = function(el){\n",
       "    // this is important to make the div 'focusable\n",
       "    el.attr('tabindex', 0)\n",
       "    // reach out to IPython and tell the keyboard manager to turn it's self\n",
       "    // off when our div gets focus\n",
       "\n",
       "    // location in version 3\n",
       "    if (IPython.notebook.keyboard_manager) {\n",
       "        IPython.notebook.keyboard_manager.register_events(el);\n",
       "    }\n",
       "    else {\n",
       "        // location in version 2\n",
       "        IPython.keyboard_manager.register_events(el);\n",
       "    }\n",
       "\n",
       "}\n",
       "\n",
       "mpl.figure.prototype._key_event_extra = function(event, name) {\n",
       "    var manager = IPython.notebook.keyboard_manager;\n",
       "    if (!manager)\n",
       "        manager = IPython.keyboard_manager;\n",
       "\n",
       "    // Check for shift+enter\n",
       "    if (event.shiftKey && event.which == 13) {\n",
       "        this.canvas_div.blur();\n",
       "        // select the cell after this one\n",
       "        var index = IPython.notebook.find_cell_index(this.cell_info[0]);\n",
       "        IPython.notebook.select(index + 1);\n",
       "    }\n",
       "}\n",
       "\n",
       "mpl.figure.prototype.handle_save = function(fig, msg) {\n",
       "    fig.ondownload(fig, null);\n",
       "}\n",
       "\n",
       "\n",
       "mpl.find_output_cell = function(html_output) {\n",
       "    // Return the cell and output element which can be found *uniquely* in the notebook.\n",
       "    // Note - this is a bit hacky, but it is done because the \"notebook_saving.Notebook\"\n",
       "    // IPython event is triggered only after the cells have been serialised, which for\n",
       "    // our purposes (turning an active figure into a static one), is too late.\n",
       "    var cells = IPython.notebook.get_cells();\n",
       "    var ncells = cells.length;\n",
       "    for (var i=0; i<ncells; i++) {\n",
       "        var cell = cells[i];\n",
       "        if (cell.cell_type === 'code'){\n",
       "            for (var j=0; j<cell.output_area.outputs.length; j++) {\n",
       "                var data = cell.output_area.outputs[j];\n",
       "                if (data.data) {\n",
       "                    // IPython >= 3 moved mimebundle to data attribute of output\n",
       "                    data = data.data;\n",
       "                }\n",
       "                if (data['text/html'] == html_output) {\n",
       "                    return [cell, data, j];\n",
       "                }\n",
       "            }\n",
       "        }\n",
       "    }\n",
       "}\n",
       "\n",
       "// Register the function which deals with the matplotlib target/channel.\n",
       "// The kernel may be null if the page has been refreshed.\n",
       "if (IPython.notebook.kernel != null) {\n",
       "    IPython.notebook.kernel.comm_manager.register_target('matplotlib', mpl.mpl_figure_comm);\n",
       "}\n"
      ],
      "text/plain": [
       "<IPython.core.display.Javascript object>"
      ]
     },
     "metadata": {},
     "output_type": "display_data"
    },
    {
     "data": {
      "text/html": [
       "<img src=\"data:image/png;base64,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\" width=\"640\">"
      ],
      "text/plain": [
       "<IPython.core.display.HTML object>"
      ]
     },
     "metadata": {},
     "output_type": "display_data"
    },
    {
     "data": {
      "text/plain": [
       "[<matplotlib.lines.Line2D at 0x7f28f98>]"
      ]
     },
     "execution_count": 4,
     "metadata": {},
     "output_type": "execute_result"
    }
   ],
   "source": [
    "%matplotlib notebook\n",
    "traces=Data.fromfile('traces',trace_dt,'teslib','measurement_subsystem_TB',tool='vivado')\n",
    "plt.plot(traces['slope'][1100:],'r',linewidth=1)\n",
    "plt.plot(traces['raw'][1100:],linewidth=0.5)\n",
    "plt.plot(traces['filtered'][1100:],'k',linewidth=2)"
   ]
  },
  {
   "cell_type": "code",
   "execution_count": 6,
   "metadata": {
    "collapsed": false,
    "run_control": {
     "frozen": false,
     "read_only": false
    },
    "scrolled": false
   },
   "outputs": [
    {
     "ename": "ValueError",
     "evalue": "new type not compatible with array.",
     "output_type": "error",
     "traceback": [
      "\u001b[1;31m---------------------------------------------------------------------------\u001b[0m",
      "\u001b[1;31mValueError\u001b[0m                                Traceback (most recent call last)",
      "\u001b[1;32m<ipython-input-6-26dbbeaa8805>\u001b[0m in \u001b[0;36m<module>\u001b[1;34m()\u001b[0m\n\u001b[0;32m      2\u001b[0m \u001b[0mminmax\u001b[0m\u001b[1;33m=\u001b[0m\u001b[0mData\u001b[0m\u001b[1;33m.\u001b[0m\u001b[0mfromfile\u001b[0m\u001b[1;33m(\u001b[0m\u001b[1;34m'minmax'\u001b[0m\u001b[1;33m,\u001b[0m\u001b[0mminmax_dt\u001b[0m\u001b[1;33m,\u001b[0m\u001b[1;34m'teslib'\u001b[0m\u001b[1;33m,\u001b[0m\u001b[1;34m'measurement_subsystem_TB'\u001b[0m\u001b[1;33m,\u001b[0m\u001b[0mtool\u001b[0m\u001b[1;33m=\u001b[0m\u001b[1;34m'vivado'\u001b[0m\u001b[1;33m)\u001b[0m\u001b[1;33m\u001b[0m\u001b[0m\n\u001b[0;32m      3\u001b[0m \u001b[0mbs\u001b[0m\u001b[1;33m=\u001b[0m\u001b[0mPacketStream\u001b[0m\u001b[1;33m(\u001b[0m\u001b[0mstream\u001b[0m\u001b[1;33m)\u001b[0m\u001b[1;33m\u001b[0m\u001b[0m\n\u001b[1;32m----> 4\u001b[1;33m \u001b[0mes\u001b[0m\u001b[1;33m=\u001b[0m\u001b[0mbs\u001b[0m\u001b[1;33m.\u001b[0m\u001b[0meventstream\u001b[0m\u001b[1;33m\u001b[0m\u001b[0m\n\u001b[0m\u001b[0;32m      5\u001b[0m \u001b[0mget_ipython\u001b[0m\u001b[1;33m(\u001b[0m\u001b[1;33m)\u001b[0m\u001b[1;33m.\u001b[0m\u001b[0mmagic\u001b[0m\u001b[1;33m(\u001b[0m\u001b[1;34m'matplotlib notebook'\u001b[0m\u001b[1;33m)\u001b[0m\u001b[1;33m\u001b[0m\u001b[0m\n\u001b[0;32m      6\u001b[0m \u001b[1;31m# for e in es:\u001b[0m\u001b[1;33m\u001b[0m\u001b[1;33m\u001b[0m\u001b[0m\n",
      "\u001b[1;32mc:\\TES_project\\interface\\python\\tes\\data.py\u001b[0m in \u001b[0;36meventstream\u001b[1;34m(self)\u001b[0m\n\u001b[0;32m    418\u001b[0m             \u001b[0mself\u001b[0m\u001b[1;33m.\u001b[0m\u001b[0m_eventstream\u001b[0m \u001b[1;33m=\u001b[0m \u001b[1;33m[\u001b[0m\u001b[1;33m]\u001b[0m\u001b[1;33m\u001b[0m\u001b[0m\n\u001b[0;32m    419\u001b[0m             \u001b[0mtimestamp\u001b[0m \u001b[1;33m=\u001b[0m \u001b[1;36m0\u001b[0m\u001b[1;33m\u001b[0m\u001b[0m\n\u001b[1;32m--> 420\u001b[1;33m             \u001b[0mevent_list\u001b[0m \u001b[1;33m=\u001b[0m \u001b[0mself\u001b[0m\u001b[1;33m.\u001b[0m\u001b[0mevents\u001b[0m\u001b[1;33m\u001b[0m\u001b[0m\n\u001b[0m\u001b[0;32m    421\u001b[0m             \u001b[1;32mfor\u001b[0m \u001b[0metupple\u001b[0m \u001b[1;32min\u001b[0m \u001b[0mevent_list\u001b[0m\u001b[1;33m:\u001b[0m\u001b[1;33m\u001b[0m\u001b[0m\n\u001b[0;32m    422\u001b[0m                 \u001b[0mevent_type\u001b[0m \u001b[1;33m=\u001b[0m \u001b[0metupple\u001b[0m\u001b[1;33m[\u001b[0m\u001b[1;36m0\u001b[0m\u001b[1;33m]\u001b[0m\u001b[1;33m\u001b[0m\u001b[0m\n",
      "\u001b[1;32mc:\\TES_project\\interface\\python\\tes\\data.py\u001b[0m in \u001b[0;36mevents\u001b[1;34m(self)\u001b[0m\n\u001b[0;32m    410\u001b[0m             \u001b[1;32mfor\u001b[0m \u001b[0mp\u001b[0m \u001b[1;32min\u001b[0m \u001b[0mself\u001b[0m\u001b[1;33m.\u001b[0m\u001b[0mpackets\u001b[0m\u001b[1;33m:\u001b[0m\u001b[1;33m\u001b[0m\u001b[0m\n\u001b[0;32m    411\u001b[0m                 \u001b[1;32mif\u001b[0m \u001b[0mp\u001b[0m\u001b[1;33m.\u001b[0m\u001b[0methertype\u001b[0m \u001b[1;33m==\u001b[0m \u001b[1;36m0x88B5\u001b[0m\u001b[1;33m:\u001b[0m\u001b[1;33m\u001b[0m\u001b[0m\n\u001b[1;32m--> 412\u001b[1;33m                     \u001b[0mself\u001b[0m\u001b[1;33m.\u001b[0m\u001b[0m_events\u001b[0m\u001b[1;33m.\u001b[0m\u001b[0mappend\u001b[0m\u001b[1;33m(\u001b[0m\u001b[1;33m(\u001b[0m\u001b[0mp\u001b[0m\u001b[1;33m.\u001b[0m\u001b[0mevent_type\u001b[0m\u001b[1;33m,\u001b[0m \u001b[0mp\u001b[0m\u001b[1;33m.\u001b[0m\u001b[0mevents\u001b[0m\u001b[1;33m)\u001b[0m\u001b[1;33m)\u001b[0m\u001b[1;33m\u001b[0m\u001b[0m\n\u001b[0m\u001b[0;32m    413\u001b[0m         \u001b[1;32mreturn\u001b[0m \u001b[0mself\u001b[0m\u001b[1;33m.\u001b[0m\u001b[0m_events\u001b[0m\u001b[1;33m\u001b[0m\u001b[0m\n\u001b[0;32m    414\u001b[0m \u001b[1;33m\u001b[0m\u001b[0m\n",
      "\u001b[1;32mc:\\TES_project\\interface\\python\\tes\\data.py\u001b[0m in \u001b[0;36mevents\u001b[1;34m(self)\u001b[0m\n\u001b[0;32m    323\u001b[0m         \u001b[1;31m#FIXME change to trace\u001b[0m\u001b[1;33m\u001b[0m\u001b[1;33m\u001b[0m\u001b[0m\n\u001b[0;32m    324\u001b[0m         \u001b[1;32melif\u001b[0m \u001b[0mself\u001b[0m\u001b[1;33m.\u001b[0m\u001b[0mevent_type\u001b[0m \u001b[1;33m==\u001b[0m \u001b[0mPayload\u001b[0m\u001b[1;33m.\u001b[0m\u001b[0mtest\u001b[0m\u001b[1;33m:\u001b[0m\u001b[1;33m\u001b[0m\u001b[0m\n\u001b[1;32m--> 325\u001b[1;33m             \u001b[1;32mreturn\u001b[0m \u001b[0mself\u001b[0m\u001b[1;33m.\u001b[0m\u001b[0mpayload\u001b[0m\u001b[1;33m.\u001b[0m\u001b[0mview\u001b[0m\u001b[1;33m(\u001b[0m\u001b[0mnp\u001b[0m\u001b[1;33m.\u001b[0m\u001b[0mdtype\u001b[0m\u001b[1;33m(\u001b[0m\u001b[0mtrace_header_fmt\u001b[0m\u001b[1;33m)\u001b[0m\u001b[1;33m)\u001b[0m\u001b[1;33m\u001b[0m\u001b[0m\n\u001b[0m\u001b[0;32m    326\u001b[0m         \u001b[1;32melse\u001b[0m\u001b[1;33m:\u001b[0m\u001b[1;33m\u001b[0m\u001b[0m\n\u001b[0;32m    327\u001b[0m             \u001b[1;32mreturn\u001b[0m \u001b[1;32mNone\u001b[0m\u001b[1;33m\u001b[0m\u001b[0m\n",
      "\u001b[1;31mValueError\u001b[0m: new type not compatible with array."
     ]
    }
   ],
   "source": [
    "stream=Data.fromfile('bytestream',stream_dt,'teslib','measurement_subsystem_TB',tool='vivado')\n",
    "minmax=Data.fromfile('minmax',minmax_dt,'teslib','measurement_subsystem_TB',tool='vivado')\n",
    "bs=PacketStream(stream)\n",
    "es=bs.eventstream\n",
    "%matplotlib notebook\n",
    "# for e in es:\n",
    "#     if e[1]==Event.peak or e[1]==Event.pulse:\n",
    "#         plot_event(e,False)"
   ]
  },
  {
   "cell_type": "code",
   "execution_count": 9,
   "metadata": {
    "collapsed": false
   },
   "outputs": [],
   "source": [
    "ps=PacketStream(stream)"
   ]
  },
  {
   "cell_type": "code",
   "execution_count": 6,
   "metadata": {
    "collapsed": false,
    "run_control": {
     "frozen": false,
     "read_only": false
    },
    "scrolled": true
   },
   "outputs": [
    {
     "data": {
      "text/plain": [
       "[Distribution: channel:0 value:slope_signal, trigger:clock, qualifier:all,\n",
       " Distribution: channel:0 value:slope_signal, trigger:clock, qualifier:all,\n",
       " Distribution: channel:0 value:slope_signal, trigger:clock, qualifier:all,\n",
       " Distribution: channel:0 value:slope_signal, trigger:clock, qualifier:all,\n",
       " Distribution: channel:0 value:slope_signal, trigger:clock, qualifier:all,\n",
       " Distribution: channel:0 value:slope_signal, trigger:clock, qualifier:all,\n",
       " Distribution: channel:0 value:slope_signal, trigger:clock, qualifier:all,\n",
       " Distribution: channel:0 value:slope_signal, trigger:clock, qualifier:all,\n",
       " Distribution: channel:0 value:slope_signal, trigger:clock, qualifier:all,\n",
       " Distribution: channel:0 value:slope_signal, trigger:clock, qualifier:all,\n",
       " Distribution: channel:0 value:slope_signal, trigger:clock, qualifier:all]"
      ]
     },
     "execution_count": 6,
     "metadata": {},
     "output_type": "execute_result"
    }
   ],
   "source": [
    "traces=Data.fromfile('traces',trace_dt,'teslib','measurement_subsystem_TB',tool='vivado')\n",
    "stream=Data.fromfile('bytestream',stream_dt,'teslib','measurement_subsystem_TB',tool='vivado')\n",
    "bs=PacketStream(stream)\n",
    "dists=bs.distributions\n",
    "#bs.packets\n",
    "dists"
   ]
  },
  {
   "cell_type": "code",
   "execution_count": 9,
   "metadata": {
    "collapsed": false
   },
   "outputs": [
    {
     "data": {
      "text/plain": [
       "95"
      ]
     },
     "execution_count": 9,
     "metadata": {},
     "output_type": "execute_result"
    }
   ],
   "source": [
    "d=dists[0]\n",
    "d.counts[-1]"
   ]
  },
  {
   "cell_type": "code",
   "execution_count": 10,
   "metadata": {
    "collapsed": false
   },
   "outputs": [
    {
     "data": {
      "text/plain": [
       "131072"
      ]
     },
     "execution_count": 10,
     "metadata": {},
     "output_type": "execute_result"
    }
   ],
   "source": [
    "d.total+d.underflow+d.overflow"
   ]
  },
  {
   "cell_type": "code",
   "execution_count": 11,
   "metadata": {
    "collapsed": false
   },
   "outputs": [
    {
     "data": {
      "application/javascript": [
       "/* Put everything inside the global mpl namespace */\n",
       "window.mpl = {};\n",
       "\n",
       "\n",
       "mpl.get_websocket_type = function() {\n",
       "    if (typeof(WebSocket) !== 'undefined') {\n",
       "        return WebSocket;\n",
       "    } else if (typeof(MozWebSocket) !== 'undefined') {\n",
       "        return MozWebSocket;\n",
       "    } else {\n",
       "        alert('Your browser does not have WebSocket support.' +\n",
       "              'Please try Chrome, Safari or Firefox ≥ 6. ' +\n",
       "              'Firefox 4 and 5 are also supported but you ' +\n",
       "              'have to enable WebSockets in about:config.');\n",
       "    };\n",
       "}\n",
       "\n",
       "mpl.figure = function(figure_id, websocket, ondownload, parent_element) {\n",
       "    this.id = figure_id;\n",
       "\n",
       "    this.ws = websocket;\n",
       "\n",
       "    this.supports_binary = (this.ws.binaryType != undefined);\n",
       "\n",
       "    if (!this.supports_binary) {\n",
       "        var warnings = document.getElementById(\"mpl-warnings\");\n",
       "        if (warnings) {\n",
       "            warnings.style.display = 'block';\n",
       "            warnings.textContent = (\n",
       "                \"This browser does not support binary websocket messages. \" +\n",
       "                    \"Performance may be slow.\");\n",
       "        }\n",
       "    }\n",
       "\n",
       "    this.imageObj = new Image();\n",
       "\n",
       "    this.context = undefined;\n",
       "    this.message = undefined;\n",
       "    this.canvas = undefined;\n",
       "    this.rubberband_canvas = undefined;\n",
       "    this.rubberband_context = undefined;\n",
       "    this.format_dropdown = undefined;\n",
       "\n",
       "    this.image_mode = 'full';\n",
       "\n",
       "    this.root = $('<div/>');\n",
       "    this._root_extra_style(this.root)\n",
       "    this.root.attr('style', 'display: inline-block');\n",
       "\n",
       "    $(parent_element).append(this.root);\n",
       "\n",
       "    this._init_header(this);\n",
       "    this._init_canvas(this);\n",
       "    this._init_toolbar(this);\n",
       "\n",
       "    var fig = this;\n",
       "\n",
       "    this.waiting = false;\n",
       "\n",
       "    this.ws.onopen =  function () {\n",
       "            fig.send_message(\"supports_binary\", {value: fig.supports_binary});\n",
       "            fig.send_message(\"send_image_mode\", {});\n",
       "            if (mpl.ratio != 1) {\n",
       "                fig.send_message(\"set_dpi_ratio\", {'dpi_ratio': mpl.ratio});\n",
       "            }\n",
       "            fig.send_message(\"refresh\", {});\n",
       "        }\n",
       "\n",
       "    this.imageObj.onload = function() {\n",
       "            if (fig.image_mode == 'full') {\n",
       "                // Full images could contain transparency (where diff images\n",
       "                // almost always do), so we need to clear the canvas so that\n",
       "                // there is no ghosting.\n",
       "                fig.context.clearRect(0, 0, fig.canvas.width, fig.canvas.height);\n",
       "            }\n",
       "            fig.context.drawImage(fig.imageObj, 0, 0);\n",
       "        };\n",
       "\n",
       "    this.imageObj.onunload = function() {\n",
       "        this.ws.close();\n",
       "    }\n",
       "\n",
       "    this.ws.onmessage = this._make_on_message_function(this);\n",
       "\n",
       "    this.ondownload = ondownload;\n",
       "}\n",
       "\n",
       "mpl.figure.prototype._init_header = function() {\n",
       "    var titlebar = $(\n",
       "        '<div class=\"ui-dialog-titlebar ui-widget-header ui-corner-all ' +\n",
       "        'ui-helper-clearfix\"/>');\n",
       "    var titletext = $(\n",
       "        '<div class=\"ui-dialog-title\" style=\"width: 100%; ' +\n",
       "        'text-align: center; padding: 3px;\"/>');\n",
       "    titlebar.append(titletext)\n",
       "    this.root.append(titlebar);\n",
       "    this.header = titletext[0];\n",
       "}\n",
       "\n",
       "\n",
       "\n",
       "mpl.figure.prototype._canvas_extra_style = function(canvas_div) {\n",
       "\n",
       "}\n",
       "\n",
       "\n",
       "mpl.figure.prototype._root_extra_style = function(canvas_div) {\n",
       "\n",
       "}\n",
       "\n",
       "mpl.figure.prototype._init_canvas = function() {\n",
       "    var fig = this;\n",
       "\n",
       "    var canvas_div = $('<div/>');\n",
       "\n",
       "    canvas_div.attr('style', 'position: relative; clear: both; outline: 0');\n",
       "\n",
       "    function canvas_keyboard_event(event) {\n",
       "        return fig.key_event(event, event['data']);\n",
       "    }\n",
       "\n",
       "    canvas_div.keydown('key_press', canvas_keyboard_event);\n",
       "    canvas_div.keyup('key_release', canvas_keyboard_event);\n",
       "    this.canvas_div = canvas_div\n",
       "    this._canvas_extra_style(canvas_div)\n",
       "    this.root.append(canvas_div);\n",
       "\n",
       "    var canvas = $('<canvas/>');\n",
       "    canvas.addClass('mpl-canvas');\n",
       "    canvas.attr('style', \"left: 0; top: 0; z-index: 0; outline: 0\")\n",
       "\n",
       "    this.canvas = canvas[0];\n",
       "    this.context = canvas[0].getContext(\"2d\");\n",
       "\n",
       "    var backingStore = this.context.backingStorePixelRatio ||\n",
       "\tthis.context.webkitBackingStorePixelRatio ||\n",
       "\tthis.context.mozBackingStorePixelRatio ||\n",
       "\tthis.context.msBackingStorePixelRatio ||\n",
       "\tthis.context.oBackingStorePixelRatio ||\n",
       "\tthis.context.backingStorePixelRatio || 1;\n",
       "\n",
       "    mpl.ratio = (window.devicePixelRatio || 1) / backingStore;\n",
       "\n",
       "    var rubberband = $('<canvas/>');\n",
       "    rubberband.attr('style', \"position: absolute; left: 0; top: 0; z-index: 1;\")\n",
       "\n",
       "    var pass_mouse_events = true;\n",
       "\n",
       "    canvas_div.resizable({\n",
       "        start: function(event, ui) {\n",
       "            pass_mouse_events = false;\n",
       "        },\n",
       "        resize: function(event, ui) {\n",
       "            fig.request_resize(ui.size.width, ui.size.height);\n",
       "        },\n",
       "        stop: function(event, ui) {\n",
       "            pass_mouse_events = true;\n",
       "            fig.request_resize(ui.size.width, ui.size.height);\n",
       "        },\n",
       "    });\n",
       "\n",
       "    function mouse_event_fn(event) {\n",
       "        if (pass_mouse_events)\n",
       "            return fig.mouse_event(event, event['data']);\n",
       "    }\n",
       "\n",
       "    rubberband.mousedown('button_press', mouse_event_fn);\n",
       "    rubberband.mouseup('button_release', mouse_event_fn);\n",
       "    // Throttle sequential mouse events to 1 every 20ms.\n",
       "    rubberband.mousemove('motion_notify', mouse_event_fn);\n",
       "\n",
       "    rubberband.mouseenter('figure_enter', mouse_event_fn);\n",
       "    rubberband.mouseleave('figure_leave', mouse_event_fn);\n",
       "\n",
       "    canvas_div.on(\"wheel\", function (event) {\n",
       "        event = event.originalEvent;\n",
       "        event['data'] = 'scroll'\n",
       "        if (event.deltaY < 0) {\n",
       "            event.step = 1;\n",
       "        } else {\n",
       "            event.step = -1;\n",
       "        }\n",
       "        mouse_event_fn(event);\n",
       "    });\n",
       "\n",
       "    canvas_div.append(canvas);\n",
       "    canvas_div.append(rubberband);\n",
       "\n",
       "    this.rubberband = rubberband;\n",
       "    this.rubberband_canvas = rubberband[0];\n",
       "    this.rubberband_context = rubberband[0].getContext(\"2d\");\n",
       "    this.rubberband_context.strokeStyle = \"#000000\";\n",
       "\n",
       "    this._resize_canvas = function(width, height) {\n",
       "        // Keep the size of the canvas, canvas container, and rubber band\n",
       "        // canvas in synch.\n",
       "        canvas_div.css('width', width)\n",
       "        canvas_div.css('height', height)\n",
       "\n",
       "        canvas.attr('width', width * mpl.ratio);\n",
       "        canvas.attr('height', height * mpl.ratio);\n",
       "        canvas.attr('style', 'width: ' + width + 'px; height: ' + height + 'px;');\n",
       "\n",
       "        rubberband.attr('width', width);\n",
       "        rubberband.attr('height', height);\n",
       "    }\n",
       "\n",
       "    // Set the figure to an initial 600x600px, this will subsequently be updated\n",
       "    // upon first draw.\n",
       "    this._resize_canvas(600, 600);\n",
       "\n",
       "    // Disable right mouse context menu.\n",
       "    $(this.rubberband_canvas).bind(\"contextmenu\",function(e){\n",
       "        return false;\n",
       "    });\n",
       "\n",
       "    function set_focus () {\n",
       "        canvas.focus();\n",
       "        canvas_div.focus();\n",
       "    }\n",
       "\n",
       "    window.setTimeout(set_focus, 100);\n",
       "}\n",
       "\n",
       "mpl.figure.prototype._init_toolbar = function() {\n",
       "    var fig = this;\n",
       "\n",
       "    var nav_element = $('<div/>')\n",
       "    nav_element.attr('style', 'width: 100%');\n",
       "    this.root.append(nav_element);\n",
       "\n",
       "    // Define a callback function for later on.\n",
       "    function toolbar_event(event) {\n",
       "        return fig.toolbar_button_onclick(event['data']);\n",
       "    }\n",
       "    function toolbar_mouse_event(event) {\n",
       "        return fig.toolbar_button_onmouseover(event['data']);\n",
       "    }\n",
       "\n",
       "    for(var toolbar_ind in mpl.toolbar_items) {\n",
       "        var name = mpl.toolbar_items[toolbar_ind][0];\n",
       "        var tooltip = mpl.toolbar_items[toolbar_ind][1];\n",
       "        var image = mpl.toolbar_items[toolbar_ind][2];\n",
       "        var method_name = mpl.toolbar_items[toolbar_ind][3];\n",
       "\n",
       "        if (!name) {\n",
       "            // put a spacer in here.\n",
       "            continue;\n",
       "        }\n",
       "        var button = $('<button/>');\n",
       "        button.addClass('ui-button ui-widget ui-state-default ui-corner-all ' +\n",
       "                        'ui-button-icon-only');\n",
       "        button.attr('role', 'button');\n",
       "        button.attr('aria-disabled', 'false');\n",
       "        button.click(method_name, toolbar_event);\n",
       "        button.mouseover(tooltip, toolbar_mouse_event);\n",
       "\n",
       "        var icon_img = $('<span/>');\n",
       "        icon_img.addClass('ui-button-icon-primary ui-icon');\n",
       "        icon_img.addClass(image);\n",
       "        icon_img.addClass('ui-corner-all');\n",
       "\n",
       "        var tooltip_span = $('<span/>');\n",
       "        tooltip_span.addClass('ui-button-text');\n",
       "        tooltip_span.html(tooltip);\n",
       "\n",
       "        button.append(icon_img);\n",
       "        button.append(tooltip_span);\n",
       "\n",
       "        nav_element.append(button);\n",
       "    }\n",
       "\n",
       "    var fmt_picker_span = $('<span/>');\n",
       "\n",
       "    var fmt_picker = $('<select/>');\n",
       "    fmt_picker.addClass('mpl-toolbar-option ui-widget ui-widget-content');\n",
       "    fmt_picker_span.append(fmt_picker);\n",
       "    nav_element.append(fmt_picker_span);\n",
       "    this.format_dropdown = fmt_picker[0];\n",
       "\n",
       "    for (var ind in mpl.extensions) {\n",
       "        var fmt = mpl.extensions[ind];\n",
       "        var option = $(\n",
       "            '<option/>', {selected: fmt === mpl.default_extension}).html(fmt);\n",
       "        fmt_picker.append(option)\n",
       "    }\n",
       "\n",
       "    // Add hover states to the ui-buttons\n",
       "    $( \".ui-button\" ).hover(\n",
       "        function() { $(this).addClass(\"ui-state-hover\");},\n",
       "        function() { $(this).removeClass(\"ui-state-hover\");}\n",
       "    );\n",
       "\n",
       "    var status_bar = $('<span class=\"mpl-message\"/>');\n",
       "    nav_element.append(status_bar);\n",
       "    this.message = status_bar[0];\n",
       "}\n",
       "\n",
       "mpl.figure.prototype.request_resize = function(x_pixels, y_pixels) {\n",
       "    // Request matplotlib to resize the figure. Matplotlib will then trigger a resize in the client,\n",
       "    // which will in turn request a refresh of the image.\n",
       "    this.send_message('resize', {'width': x_pixels, 'height': y_pixels});\n",
       "}\n",
       "\n",
       "mpl.figure.prototype.send_message = function(type, properties) {\n",
       "    properties['type'] = type;\n",
       "    properties['figure_id'] = this.id;\n",
       "    this.ws.send(JSON.stringify(properties));\n",
       "}\n",
       "\n",
       "mpl.figure.prototype.send_draw_message = function() {\n",
       "    if (!this.waiting) {\n",
       "        this.waiting = true;\n",
       "        this.ws.send(JSON.stringify({type: \"draw\", figure_id: this.id}));\n",
       "    }\n",
       "}\n",
       "\n",
       "\n",
       "mpl.figure.prototype.handle_save = function(fig, msg) {\n",
       "    var format_dropdown = fig.format_dropdown;\n",
       "    var format = format_dropdown.options[format_dropdown.selectedIndex].value;\n",
       "    fig.ondownload(fig, format);\n",
       "}\n",
       "\n",
       "\n",
       "mpl.figure.prototype.handle_resize = function(fig, msg) {\n",
       "    var size = msg['size'];\n",
       "    if (size[0] != fig.canvas.width || size[1] != fig.canvas.height) {\n",
       "        fig._resize_canvas(size[0], size[1]);\n",
       "        fig.send_message(\"refresh\", {});\n",
       "    };\n",
       "}\n",
       "\n",
       "mpl.figure.prototype.handle_rubberband = function(fig, msg) {\n",
       "    var x0 = msg['x0'] / mpl.ratio;\n",
       "    var y0 = (fig.canvas.height - msg['y0']) / mpl.ratio;\n",
       "    var x1 = msg['x1'] / mpl.ratio;\n",
       "    var y1 = (fig.canvas.height - msg['y1']) / mpl.ratio;\n",
       "    x0 = Math.floor(x0) + 0.5;\n",
       "    y0 = Math.floor(y0) + 0.5;\n",
       "    x1 = Math.floor(x1) + 0.5;\n",
       "    y1 = Math.floor(y1) + 0.5;\n",
       "    var min_x = Math.min(x0, x1);\n",
       "    var min_y = Math.min(y0, y1);\n",
       "    var width = Math.abs(x1 - x0);\n",
       "    var height = Math.abs(y1 - y0);\n",
       "\n",
       "    fig.rubberband_context.clearRect(\n",
       "        0, 0, fig.canvas.width, fig.canvas.height);\n",
       "\n",
       "    fig.rubberband_context.strokeRect(min_x, min_y, width, height);\n",
       "}\n",
       "\n",
       "mpl.figure.prototype.handle_figure_label = function(fig, msg) {\n",
       "    // Updates the figure title.\n",
       "    fig.header.textContent = msg['label'];\n",
       "}\n",
       "\n",
       "mpl.figure.prototype.handle_cursor = function(fig, msg) {\n",
       "    var cursor = msg['cursor'];\n",
       "    switch(cursor)\n",
       "    {\n",
       "    case 0:\n",
       "        cursor = 'pointer';\n",
       "        break;\n",
       "    case 1:\n",
       "        cursor = 'default';\n",
       "        break;\n",
       "    case 2:\n",
       "        cursor = 'crosshair';\n",
       "        break;\n",
       "    case 3:\n",
       "        cursor = 'move';\n",
       "        break;\n",
       "    }\n",
       "    fig.rubberband_canvas.style.cursor = cursor;\n",
       "}\n",
       "\n",
       "mpl.figure.prototype.handle_message = function(fig, msg) {\n",
       "    fig.message.textContent = msg['message'];\n",
       "}\n",
       "\n",
       "mpl.figure.prototype.handle_draw = function(fig, msg) {\n",
       "    // Request the server to send over a new figure.\n",
       "    fig.send_draw_message();\n",
       "}\n",
       "\n",
       "mpl.figure.prototype.handle_image_mode = function(fig, msg) {\n",
       "    fig.image_mode = msg['mode'];\n",
       "}\n",
       "\n",
       "mpl.figure.prototype.updated_canvas_event = function() {\n",
       "    // Called whenever the canvas gets updated.\n",
       "    this.send_message(\"ack\", {});\n",
       "}\n",
       "\n",
       "// A function to construct a web socket function for onmessage handling.\n",
       "// Called in the figure constructor.\n",
       "mpl.figure.prototype._make_on_message_function = function(fig) {\n",
       "    return function socket_on_message(evt) {\n",
       "        if (evt.data instanceof Blob) {\n",
       "            /* FIXME: We get \"Resource interpreted as Image but\n",
       "             * transferred with MIME type text/plain:\" errors on\n",
       "             * Chrome.  But how to set the MIME type?  It doesn't seem\n",
       "             * to be part of the websocket stream */\n",
       "            evt.data.type = \"image/png\";\n",
       "\n",
       "            /* Free the memory for the previous frames */\n",
       "            if (fig.imageObj.src) {\n",
       "                (window.URL || window.webkitURL).revokeObjectURL(\n",
       "                    fig.imageObj.src);\n",
       "            }\n",
       "\n",
       "            fig.imageObj.src = (window.URL || window.webkitURL).createObjectURL(\n",
       "                evt.data);\n",
       "            fig.updated_canvas_event();\n",
       "            fig.waiting = false;\n",
       "            return;\n",
       "        }\n",
       "        else if (typeof evt.data === 'string' && evt.data.slice(0, 21) == \"data:image/png;base64\") {\n",
       "            fig.imageObj.src = evt.data;\n",
       "            fig.updated_canvas_event();\n",
       "            fig.waiting = false;\n",
       "            return;\n",
       "        }\n",
       "\n",
       "        var msg = JSON.parse(evt.data);\n",
       "        var msg_type = msg['type'];\n",
       "\n",
       "        // Call the  \"handle_{type}\" callback, which takes\n",
       "        // the figure and JSON message as its only arguments.\n",
       "        try {\n",
       "            var callback = fig[\"handle_\" + msg_type];\n",
       "        } catch (e) {\n",
       "            console.log(\"No handler for the '\" + msg_type + \"' message type: \", msg);\n",
       "            return;\n",
       "        }\n",
       "\n",
       "        if (callback) {\n",
       "            try {\n",
       "                // console.log(\"Handling '\" + msg_type + \"' message: \", msg);\n",
       "                callback(fig, msg);\n",
       "            } catch (e) {\n",
       "                console.log(\"Exception inside the 'handler_\" + msg_type + \"' callback:\", e, e.stack, msg);\n",
       "            }\n",
       "        }\n",
       "    };\n",
       "}\n",
       "\n",
       "// from http://stackoverflow.com/questions/1114465/getting-mouse-location-in-canvas\n",
       "mpl.findpos = function(e) {\n",
       "    //this section is from http://www.quirksmode.org/js/events_properties.html\n",
       "    var targ;\n",
       "    if (!e)\n",
       "        e = window.event;\n",
       "    if (e.target)\n",
       "        targ = e.target;\n",
       "    else if (e.srcElement)\n",
       "        targ = e.srcElement;\n",
       "    if (targ.nodeType == 3) // defeat Safari bug\n",
       "        targ = targ.parentNode;\n",
       "\n",
       "    // jQuery normalizes the pageX and pageY\n",
       "    // pageX,Y are the mouse positions relative to the document\n",
       "    // offset() returns the position of the element relative to the document\n",
       "    var x = e.pageX - $(targ).offset().left;\n",
       "    var y = e.pageY - $(targ).offset().top;\n",
       "\n",
       "    return {\"x\": x, \"y\": y};\n",
       "};\n",
       "\n",
       "/*\n",
       " * return a copy of an object with only non-object keys\n",
       " * we need this to avoid circular references\n",
       " * http://stackoverflow.com/a/24161582/3208463\n",
       " */\n",
       "function simpleKeys (original) {\n",
       "  return Object.keys(original).reduce(function (obj, key) {\n",
       "    if (typeof original[key] !== 'object')\n",
       "        obj[key] = original[key]\n",
       "    return obj;\n",
       "  }, {});\n",
       "}\n",
       "\n",
       "mpl.figure.prototype.mouse_event = function(event, name) {\n",
       "    var canvas_pos = mpl.findpos(event)\n",
       "\n",
       "    if (name === 'button_press')\n",
       "    {\n",
       "        this.canvas.focus();\n",
       "        this.canvas_div.focus();\n",
       "    }\n",
       "\n",
       "    var x = canvas_pos.x * mpl.ratio;\n",
       "    var y = canvas_pos.y * mpl.ratio;\n",
       "\n",
       "    this.send_message(name, {x: x, y: y, button: event.button,\n",
       "                             step: event.step,\n",
       "                             guiEvent: simpleKeys(event)});\n",
       "\n",
       "    /* This prevents the web browser from automatically changing to\n",
       "     * the text insertion cursor when the button is pressed.  We want\n",
       "     * to control all of the cursor setting manually through the\n",
       "     * 'cursor' event from matplotlib */\n",
       "    event.preventDefault();\n",
       "    return false;\n",
       "}\n",
       "\n",
       "mpl.figure.prototype._key_event_extra = function(event, name) {\n",
       "    // Handle any extra behaviour associated with a key event\n",
       "}\n",
       "\n",
       "mpl.figure.prototype.key_event = function(event, name) {\n",
       "\n",
       "    // Prevent repeat events\n",
       "    if (name == 'key_press')\n",
       "    {\n",
       "        if (event.which === this._key)\n",
       "            return;\n",
       "        else\n",
       "            this._key = event.which;\n",
       "    }\n",
       "    if (name == 'key_release')\n",
       "        this._key = null;\n",
       "\n",
       "    var value = '';\n",
       "    if (event.ctrlKey && event.which != 17)\n",
       "        value += \"ctrl+\";\n",
       "    if (event.altKey && event.which != 18)\n",
       "        value += \"alt+\";\n",
       "    if (event.shiftKey && event.which != 16)\n",
       "        value += \"shift+\";\n",
       "\n",
       "    value += 'k';\n",
       "    value += event.which.toString();\n",
       "\n",
       "    this._key_event_extra(event, name);\n",
       "\n",
       "    this.send_message(name, {key: value,\n",
       "                             guiEvent: simpleKeys(event)});\n",
       "    return false;\n",
       "}\n",
       "\n",
       "mpl.figure.prototype.toolbar_button_onclick = function(name) {\n",
       "    if (name == 'download') {\n",
       "        this.handle_save(this, null);\n",
       "    } else {\n",
       "        this.send_message(\"toolbar_button\", {name: name});\n",
       "    }\n",
       "};\n",
       "\n",
       "mpl.figure.prototype.toolbar_button_onmouseover = function(tooltip) {\n",
       "    this.message.textContent = tooltip;\n",
       "};\n",
       "mpl.toolbar_items = [[\"Home\", \"Reset original view\", \"fa fa-home icon-home\", \"home\"], [\"Back\", \"Back to  previous view\", \"fa fa-arrow-left icon-arrow-left\", \"back\"], [\"Forward\", \"Forward to next view\", \"fa fa-arrow-right icon-arrow-right\", \"forward\"], [\"\", \"\", \"\", \"\"], [\"Pan\", \"Pan axes with left mouse, zoom with right\", \"fa fa-arrows icon-move\", \"pan\"], [\"Zoom\", \"Zoom to rectangle\", \"fa fa-square-o icon-check-empty\", \"zoom\"], [\"\", \"\", \"\", \"\"], [\"Download\", \"Download plot\", \"fa fa-floppy-o icon-save\", \"download\"]];\n",
       "\n",
       "mpl.extensions = [\"eps\", \"jpeg\", \"pdf\", \"png\", \"ps\", \"raw\", \"svg\", \"tif\"];\n",
       "\n",
       "mpl.default_extension = \"png\";var comm_websocket_adapter = function(comm) {\n",
       "    // Create a \"websocket\"-like object which calls the given IPython comm\n",
       "    // object with the appropriate methods. Currently this is a non binary\n",
       "    // socket, so there is still some room for performance tuning.\n",
       "    var ws = {};\n",
       "\n",
       "    ws.close = function() {\n",
       "        comm.close()\n",
       "    };\n",
       "    ws.send = function(m) {\n",
       "        //console.log('sending', m);\n",
       "        comm.send(m);\n",
       "    };\n",
       "    // Register the callback with on_msg.\n",
       "    comm.on_msg(function(msg) {\n",
       "        //console.log('receiving', msg['content']['data'], msg);\n",
       "        // Pass the mpl event to the overriden (by mpl) onmessage function.\n",
       "        ws.onmessage(msg['content']['data'])\n",
       "    });\n",
       "    return ws;\n",
       "}\n",
       "\n",
       "mpl.mpl_figure_comm = function(comm, msg) {\n",
       "    // This is the function which gets called when the mpl process\n",
       "    // starts-up an IPython Comm through the \"matplotlib\" channel.\n",
       "\n",
       "    var id = msg.content.data.id;\n",
       "    // Get hold of the div created by the display call when the Comm\n",
       "    // socket was opened in Python.\n",
       "    var element = $(\"#\" + id);\n",
       "    var ws_proxy = comm_websocket_adapter(comm)\n",
       "\n",
       "    function ondownload(figure, format) {\n",
       "        window.open(figure.imageObj.src);\n",
       "    }\n",
       "\n",
       "    var fig = new mpl.figure(id, ws_proxy,\n",
       "                           ondownload,\n",
       "                           element.get(0));\n",
       "\n",
       "    // Call onopen now - mpl needs it, as it is assuming we've passed it a real\n",
       "    // web socket which is closed, not our websocket->open comm proxy.\n",
       "    ws_proxy.onopen();\n",
       "\n",
       "    fig.parent_element = element.get(0);\n",
       "    fig.cell_info = mpl.find_output_cell(\"<div id='\" + id + \"'></div>\");\n",
       "    if (!fig.cell_info) {\n",
       "        console.error(\"Failed to find cell for figure\", id, fig);\n",
       "        return;\n",
       "    }\n",
       "\n",
       "    var output_index = fig.cell_info[2]\n",
       "    var cell = fig.cell_info[0];\n",
       "\n",
       "};\n",
       "\n",
       "mpl.figure.prototype.handle_close = function(fig, msg) {\n",
       "    var width = fig.canvas.width/mpl.ratio\n",
       "    fig.root.unbind('remove')\n",
       "\n",
       "    // Update the output cell to use the data from the current canvas.\n",
       "    fig.push_to_output();\n",
       "    var dataURL = fig.canvas.toDataURL();\n",
       "    // Re-enable the keyboard manager in IPython - without this line, in FF,\n",
       "    // the notebook keyboard shortcuts fail.\n",
       "    IPython.keyboard_manager.enable()\n",
       "    $(fig.parent_element).html('<img src=\"' + dataURL + '\" width=\"' + width + '\">');\n",
       "    fig.close_ws(fig, msg);\n",
       "}\n",
       "\n",
       "mpl.figure.prototype.close_ws = function(fig, msg){\n",
       "    fig.send_message('closing', msg);\n",
       "    // fig.ws.close()\n",
       "}\n",
       "\n",
       "mpl.figure.prototype.push_to_output = function(remove_interactive) {\n",
       "    // Turn the data on the canvas into data in the output cell.\n",
       "    var width = this.canvas.width/mpl.ratio\n",
       "    var dataURL = this.canvas.toDataURL();\n",
       "    this.cell_info[1]['text/html'] = '<img src=\"' + dataURL + '\" width=\"' + width + '\">';\n",
       "}\n",
       "\n",
       "mpl.figure.prototype.updated_canvas_event = function() {\n",
       "    // Tell IPython that the notebook contents must change.\n",
       "    IPython.notebook.set_dirty(true);\n",
       "    this.send_message(\"ack\", {});\n",
       "    var fig = this;\n",
       "    // Wait a second, then push the new image to the DOM so\n",
       "    // that it is saved nicely (might be nice to debounce this).\n",
       "    setTimeout(function () { fig.push_to_output() }, 1000);\n",
       "}\n",
       "\n",
       "mpl.figure.prototype._init_toolbar = function() {\n",
       "    var fig = this;\n",
       "\n",
       "    var nav_element = $('<div/>')\n",
       "    nav_element.attr('style', 'width: 100%');\n",
       "    this.root.append(nav_element);\n",
       "\n",
       "    // Define a callback function for later on.\n",
       "    function toolbar_event(event) {\n",
       "        return fig.toolbar_button_onclick(event['data']);\n",
       "    }\n",
       "    function toolbar_mouse_event(event) {\n",
       "        return fig.toolbar_button_onmouseover(event['data']);\n",
       "    }\n",
       "\n",
       "    for(var toolbar_ind in mpl.toolbar_items){\n",
       "        var name = mpl.toolbar_items[toolbar_ind][0];\n",
       "        var tooltip = mpl.toolbar_items[toolbar_ind][1];\n",
       "        var image = mpl.toolbar_items[toolbar_ind][2];\n",
       "        var method_name = mpl.toolbar_items[toolbar_ind][3];\n",
       "\n",
       "        if (!name) { continue; };\n",
       "\n",
       "        var button = $('<button class=\"btn btn-default\" href=\"#\" title=\"' + name + '\"><i class=\"fa ' + image + ' fa-lg\"></i></button>');\n",
       "        button.click(method_name, toolbar_event);\n",
       "        button.mouseover(tooltip, toolbar_mouse_event);\n",
       "        nav_element.append(button);\n",
       "    }\n",
       "\n",
       "    // Add the status bar.\n",
       "    var status_bar = $('<span class=\"mpl-message\" style=\"text-align:right; float: right;\"/>');\n",
       "    nav_element.append(status_bar);\n",
       "    this.message = status_bar[0];\n",
       "\n",
       "    // Add the close button to the window.\n",
       "    var buttongrp = $('<div class=\"btn-group inline pull-right\"></div>');\n",
       "    var button = $('<button class=\"btn btn-mini btn-primary\" href=\"#\" title=\"Stop Interaction\"><i class=\"fa fa-power-off icon-remove icon-large\"></i></button>');\n",
       "    button.click(function (evt) { fig.handle_close(fig, {}); } );\n",
       "    button.mouseover('Stop Interaction', toolbar_mouse_event);\n",
       "    buttongrp.append(button);\n",
       "    var titlebar = this.root.find($('.ui-dialog-titlebar'));\n",
       "    titlebar.prepend(buttongrp);\n",
       "}\n",
       "\n",
       "mpl.figure.prototype._root_extra_style = function(el){\n",
       "    var fig = this\n",
       "    el.on(\"remove\", function(){\n",
       "\tfig.close_ws(fig, {});\n",
       "    });\n",
       "}\n",
       "\n",
       "mpl.figure.prototype._canvas_extra_style = function(el){\n",
       "    // this is important to make the div 'focusable\n",
       "    el.attr('tabindex', 0)\n",
       "    // reach out to IPython and tell the keyboard manager to turn it's self\n",
       "    // off when our div gets focus\n",
       "\n",
       "    // location in version 3\n",
       "    if (IPython.notebook.keyboard_manager) {\n",
       "        IPython.notebook.keyboard_manager.register_events(el);\n",
       "    }\n",
       "    else {\n",
       "        // location in version 2\n",
       "        IPython.keyboard_manager.register_events(el);\n",
       "    }\n",
       "\n",
       "}\n",
       "\n",
       "mpl.figure.prototype._key_event_extra = function(event, name) {\n",
       "    var manager = IPython.notebook.keyboard_manager;\n",
       "    if (!manager)\n",
       "        manager = IPython.keyboard_manager;\n",
       "\n",
       "    // Check for shift+enter\n",
       "    if (event.shiftKey && event.which == 13) {\n",
       "        this.canvas_div.blur();\n",
       "        // select the cell after this one\n",
       "        var index = IPython.notebook.find_cell_index(this.cell_info[0]);\n",
       "        IPython.notebook.select(index + 1);\n",
       "    }\n",
       "}\n",
       "\n",
       "mpl.figure.prototype.handle_save = function(fig, msg) {\n",
       "    fig.ondownload(fig, null);\n",
       "}\n",
       "\n",
       "\n",
       "mpl.find_output_cell = function(html_output) {\n",
       "    // Return the cell and output element which can be found *uniquely* in the notebook.\n",
       "    // Note - this is a bit hacky, but it is done because the \"notebook_saving.Notebook\"\n",
       "    // IPython event is triggered only after the cells have been serialised, which for\n",
       "    // our purposes (turning an active figure into a static one), is too late.\n",
       "    var cells = IPython.notebook.get_cells();\n",
       "    var ncells = cells.length;\n",
       "    for (var i=0; i<ncells; i++) {\n",
       "        var cell = cells[i];\n",
       "        if (cell.cell_type === 'code'){\n",
       "            for (var j=0; j<cell.output_area.outputs.length; j++) {\n",
       "                var data = cell.output_area.outputs[j];\n",
       "                if (data.data) {\n",
       "                    // IPython >= 3 moved mimebundle to data attribute of output\n",
       "                    data = data.data;\n",
       "                }\n",
       "                if (data['text/html'] == html_output) {\n",
       "                    return [cell, data, j];\n",
       "                }\n",
       "            }\n",
       "        }\n",
       "    }\n",
       "}\n",
       "\n",
       "// Register the function which deals with the matplotlib target/channel.\n",
       "// The kernel may be null if the page has been refreshed.\n",
       "if (IPython.notebook.kernel != null) {\n",
       "    IPython.notebook.kernel.comm_manager.register_target('matplotlib', mpl.mpl_figure_comm);\n",
       "}\n"
      ],
      "text/plain": [
       "<IPython.core.display.Javascript object>"
      ]
     },
     "metadata": {},
     "output_type": "display_data"
    },
    {
     "data": {
      "text/html": [
       "<img src=\"data:image/png;base64,iVBORw0KGgoAAAANSUhEUgAABLAAAAOECAYAAACxbcj6AAAgAElEQVR4XuzdCbQtZX3n7y8gg4KAgQvBATFOiYo4I4ozdjqiOP6TVpNOosZOO8SksdPEIUnHqCSatjWaxI62JNoOHYd0IooDTjgFx+CsUTBKEARHBhnvfxXui/cczrm39jlVb71V9Zy1WDGe2u/71vMrXcvP2nufXeKHAAECBAgQIECAAAECBAgQIECAQMUCu1R8NkcjQIAAAQIECBAgQIAAAQIECBAgEAHLQ0CAAAECBAgQIECAAAECBAgQIFC1gIBV9XgcjgABAgQIECBAgAABAgQIECBAQMDyDBAgQIAAAQIECBAgQIAAAQIECFQtIGBVPR6HI0CAAAECBAgQIECAAAECBAgQELA8AwQIECBAgAABAgQIECBAgAABAlULCFhVj8fhCBAgQIAAAQIECBAgQIAAAQIEBCzPAAECBAgQIECAAAECBAgQIECAQNUCAlbV43E4AgQIECBAgAABAgQIECBAgAABAcszQIAAAQIECBAgQIAAAQIECBAgULWAgFX1eByOAAECBAgQIECAAAECBAgQIEBAwPIMECBAgAABAgQIECBAgAABAgQIVC0gYFU9HocjQIAAAQIECBAgQIAAAQIECBAQsDwDBAgQIECAAAECBAgQIECAAAECVQsIWFWPx+EIECBAgAABAgQIECBAgAABAgQELM8AAQIECBAgQIAAAQIECBAgQIBA1QICVtXjcTgCBAgQIECAAAECBAgQIECAAAEByzNAgAABAgQIECBAgAABAgQIECBQtYCAVfV4HI4AAQIECBAgQIAAAQIECBAgQEDA8gwQIECAAAECBAgQIECAAAECBAhULSBgVT0ehyNAgAABAgQIECBAgAABAgQIEBCwPAMECBAgQIAAAQIECBAgQIAAAQJVCwhYVY/H4QgQIECAAAECBAgQIECAAAECBAQszwABAgQIECBAgAABAgQIECBAgEDVAgJW1eNxOAIECBAgQIAAAQIECBAgQIAAAQHLM0CAAAECBAgQIECAAAECBAgQIFC1gIBV9XgcjgABAgQIECBAgAABAgQIECBAQMDyDBAgQIAAAQIECBAgQIAAAQIECFQtIGBVPR6HI0CAAAECBAgQIECAAAECBAgQELA8AwQIECBAgAABAgQIECBAgAABAlULCFhVj8fhCBAgQIAAAQIECBAgQIAAAQIEBCzPAAECBAgQIECAAAECBAgQIECAQNUCAlbV43E4AgQIECBAgAABAgQIECBAgAABAcszQIAAAQIECBAgQIAAAQIECBAgULWAgFX1eByOAAECBAgQIECAAAECBAgQIEBAwPIMECBAgAABAgQIECBAgAABAgQIVC0gYFU9HocjQIAAAQIECBAgQIAAAQIECBAQsDwDBAgQIECAAAECBAgQIECAAAECVQsIWFWPx+EIECBAgAABAgQIECBAgAABAgQELM8AAQIECBAgQIAAAQIECBAgQIBA1QICVtXjcTgCBAgQIECAAAECBAgQIECAAAEByzNAgAABAgQIECBAgAABAgQIECBQtYCAVfV4HI4AAQIECBAgQIAAAQIECBAgQEDA8gwQIECAAAECBAgQIECAAAECBAhULSBgVT0ehyNAgAABAgQIECBAgAABAgQIEBCwPAMECBAgQIAAAQIECBAgQIAAAQJVCwhYVY/H4QgQIECAAAECBAgQIECAAAECBAQszwABAgQIECBAgAABAgQIECBAgEDVAgJW1eNxOAIECBAgQIAAAQIECBAgQIAAAQHLM0CAAAECBAgQIECAAAECBAgQIFC1gIBV9XgcjgABAgQIECBAgAABAgQIECBAQMDyDBAgQIAAAQIECBAgQIAAAQIECFQtIGBVPR6HI0CAAAECBAgQIECAAAECBAgQELA8AwQIECBAgAABAgQIECBAgAABAlULCFhVj8fhCBAgQIAAAQIECBAgQIAAAQIEBCzPAAECBAgQIECAAAECBAgQIECAQNUCAlbV43E4AgQIECBAgAABAgQIECBAgAABAcszQIAAAQIECBAgQIAAAQIECBAgULWAgFX1eByOAAECBAgQIECAAAECBAgQIEBAwPIMECBAgAABAgQIECBAgAABAgQIVC0gYFU9HocjQIAAAQIECBAgQIAAAQIECBAQsDwDBAgQIECAAAECBAgQIECAAAECVQsIWFWPx+EIECBAgAABAgQIECBAgAABAgQELM8AAQIECBAgQIAAAQIECBAgQIBA1QICVtXjcTgCBAgQIECAAAECBAgQIECAAAEByzNAgAABAgQIECBAgAABAgQIECBQtYCAVfV4HI4AAQIECBAgQIAAAQIECBAgQEDA8gwQIECAAAECBAgQIECAAAECBAhULSBgVT0ehyNAgAABAgQIECBAgAABAgQIEBCwPAMECBAgQIAAAQIECBAgQIAAAQJVCwhYVY/H4QgQIECAAAECBAgQIECAAAECBAQszwABAgQIECBAgAABAgQIECBAgEDVAgJW1eNxOAIECBAgQIAAAQIECBAgQIAAAQHLM0CAAAECBAgQIECAAAECBAgQIFC1gIBV9XgcjgABAgQIECBAgAABAgQIECBAQMDyDBAgQIAAAQIECBAgQIAAAQIECFQtIGBVPR6HI0CAAAECBAgQIECAAAECBAgQELA8AwQIECBAgAABAgQIECBAgAABAlULCFhVj8fhCBAgQIAAAQIECBAgQIAAAQIEBCzPAAECBAgQIECAAAECBAgQIECAQNUCAlbV43E4AgQIECBAgAABAgQIECBAgAABAcszQIAAAQIECBAgQIAAAQIECBAgULWAgFX1eByOAAECBAgQIECAAAECBAgQIEBAwPIMECBAgAABAgQIECBAgAABAgQIVC0gYFU9HocjQIAAAQIECBAgQIAAAQIECBAQsDwDBAgQIECAAAECBAgQIECAAAECVQsIWFWPx+EIECBAgAABAgQIECBAgAABAgQELM8AAQIECBAgQIAAAQIECBAgQIBA1QICVtXjcTgCBAgQIECAAAECBAgQIECAAAEByzNAgAABAgQIECBAgAABAgQIECBQtYCAVfV4HI4AAQIECBAgQIAAAQIECBAgQEDA8gwQIECAAAECBAgQIECAAAECBAhULSBgVT0ehyNAgAABAgQIECBAgAABAgQIEBCwPAMECBAgQIAAAQIECBAgQIAAAQJVCwhYVY/H4QgQIECAAAECBAgQIECAAAECBAQszwABAgQIECBAgAABAgQIECBAgEDVAgJW1eNxOAIECBAgQIAAAQIECBAgQIAAAQHLM0CAAAECBAgQIECAAAECBAgQIFC1gIBV9XgcjgABAgQIECBAgAABAgQIECBAQMDyDBAgQIAAAQIECBAgQIAAAQIECFQtIGBVPR6HI0CAAAECBAgQIECAAAECBAgQELA8AwQIECBAgAABAgQIECBAgAABAlULCFhVj8fhCBAgQIAAAQIECBAgQIAAAQIEBCzPAAECBAgQIECAAAECBAgQIECAQNUCAlbV43E4AgQIECBAgAABAgQIECBAgAABAcsz0LVA80wduFj04q4Xtx4BAgQIECBAgAABAgQIEFhD4HqLf+/8JFsJTU9AwJreTIe+oy1Jzhv6EPYnQIAAAQIECBAgQIAAgVkKHJTk27O884nftIA18QEPcHsC1gDotiRAgAABAgQIECBAgACBqwUErIk+CALWRAc74G3tneTCZv9zzz03e+/d/L9+CBAgQIAAAQIECBAgQIBAPwIXXXRRDj744G2L75Pkon52suqQAgLWkPrT3PuagHXhhRcKWNOcsbsiQIAAAQIECBAgQIBANQJNwNpnn6ZbXf0jYFUzmW4PImB162m1RMDyFBAgQIAAAQIECBAgQIBAMQEBqxj1oBsJWIPyT3JzAWuSY3VTBAgQIECAAAECBAgQqFNAwKpzLl2fSsDqWtR6ApZngAABAgQIECBAgAABAgSKCQhYxagH3UjAGpR/kpsLWJMcq5siQIAAAQIECBAgQIBAnQICVp1z6fpUAlbXotYTsDwDBAgQIECAAAECBAgQIFBMQMAqRj3oRgLWoPyT3FzAmuRY3RQBAgQIECBAgAABAgTqFBCw6pxL16cSsLoWtZ6A5RkgQIAAAQIECBAgQIAAgWICAlYx6kE3ErAG5Z/k5gLWJMfqpggQIECAAAECBAgQIFCngIBV51y6PpWA1bWo9QQszwABAgQIECBAgAABAgQIFBMQsIpRD7qRgDUo/yQ3F7AmOVY3RYAAAQIECBAgQIAAgToFBKw659L1qQSsrkWtJ2B5BggQIECAAAECBAgQIECgmICAVYx60I0ErEH5J7m5gDXJsbopAgQIECBAgAABAgQI1CkgYNU5l65PJWB1LWo9AcszQIAAAQIECBAgQIAAAQLFBASsYtSDbiRgDco/yc0FrEmO1U0RIECAAAECBAgQIECgTgEBq865dH0qAatrUesJWJ4BAgQIECBAgAABAgQIECgmIGAVox50IwFrUP5Jbi5gTXKsbooAAQIECBAgQIAAAQJ1CghYdc6l61MJWF2LWk/A8gwQIECAAAECBAgQIECAQDEBAasY9aAbCViD8k9ycwFrkmN1UwQIECBAgAABAgQIEKhTQMCqcy5dn0rA6lrUegKWZ4AAAQIECBAgQIAAAQIEigkIWMWoB91IwBqUf5KbC1iTHKubIkCAAAECBAgQIECAQJ0CAladc+n6VAJW16LWE7A8AwQIECBAgAABAgQIECBQTEDAKkY96EYC1qD8k9xcwJrkWN0UAQIECBAgQIAAAQIE6hQQsOqcS9enErC6FrWegOUZIECAAAECBAgQIECAAIFiAgJWMepBNxKwBuWf5OYC1iTH6qYIECBAgAABAgQIECBQp4CAVedcuj6VgNW1qPUELM8AAQIECBAgQIAAAQIECBQTELCKUQ+6kYA1KP8kNxewJjlWN0WAAAECBAgQIECAAIE6BQSsOufS9akErK5FrSdgjfAZuPKqrXnX57+VPXffLfe91Zbssov/ahjhGB2ZAAECBAgQIECAwCwFBKx5jN3/Sp3HnEvepYBVUrujvf7L//103vzJs69e7WkPuGV+54G36mhlyxAgQIAAAQIECBAgQKBfAQGrX99aVhewapnEdM4hYI1slpdfeVVu+cy3rzj1WSceO7K7cFwCBAgQIECAAAECBOYqIGDNY/IC1jzmXPIuBayS2h3s9aPLr8zPPvsUAasDS0sQIECAAAECBAgQIFBeQMAqbz7EjgLWEOrT3lPAGtl8BayRDcxxCRAgQIAAAQIECBBYISBgzeOBELDmMeeSdylgldTuYC8BqwNESxAgQIAAAQIECBAgMJiAgDUYfdGNBayi3LPYTMAa2ZgFrJENzHEJECBAgAABAgQIEFghIGDN44EQsOYx55J3KWCV1O5gLwGrA0RLECBAgAABAgQIECAwmICANRh90Y0FrKLcs9hMwBrZmAWskQ3McQkQIECAAAECBAgQWCEgYM3jgRCw5jHnkncpYJXU7mAvAasDREsQIECAAAECBAgQIDCYgIA1GH3RjQWsotyz2EzAGtmYBayRDcxxCRAgQIAAAQIECBBYISBgzeOBELDmMeeSdylgldTuYC8BqwNESxAgQIAAAQIECBAgMJiAgDUYfdGNBayi3LPYTMAa2ZgFrJENzHEJECBAgAABAgQIEFghIGDN44EQsMYz559P8qtJjkry00kuTnJ2ko8meXOSU9a5lYOTHJ/kuCSHLl73uSQnLf7Z2jGBgNUxaN/LCVh9C1ufAAECBAgQIECAAIE+BQSsPnXrWVvAqmcW652kCUJ/m+QROzjq+5Pcd43f3yXJyUkOWue1TfR6WJJLO2QQsDrELLGUgFVC2R4ECBAgQIAAAQIECPQlIGD1JVvXugJWXfNYfZo9krxjEacuS/KSJP83yZlJdk9ymySPTNK8y6r5v9v/HJjkjCSHJLkgydOSnJpkvyRPWfzTXP/XSZ7YIYOA1SFmiaUErBLK9iBAgAABAgQIECBAoC8BAasv2brWFbDqmsfq0/x+kv+++Nhf8xHCDy5x3BcuPjp4VZJ7Lj5quP3LX5rkyUma398hyWeWWHtHlwpYHUGWWkbAKiVtHwIECBAgQIAAAQIE+hAQsPpQrW9NAau+mWw70QFJvplkryS/l+TEJY7avDvr24t3W71lnY8fNu/Qar5Dq3mX18u2e0fWEtuseamAtVnBwq8XsAqD244AAQIECBAgQIAAgU4FBKxOOatdTMCqdjT57SQvStJ8dLD5iOD3ljjq/RcfF2xe8tgkr13nte9M8sAk31h8wfsSW6x7qYDVhWLBNQSsgti2IkCAAAECBAgQIECgcwEBq3PSKhcUsKocy9WHar5gvfnY4IeSHL3dMXdbfOxvR3898OlJXrB4zS2SfHWd23xOkmctfrclyfkdcAhYHSCWXELAKqltLwIECBAgQIAAAQIEuhYQsLoWrXM9AavOuTSnaj4C2HzMr/mS9eZL15so9atJbr448teSNB8PbELV6vDUvOYJi9C1Z5Ir1rnNxyV55eJ3TSRrYtlmfwSszQoWfr2AVRjcdgQIECBAgAABAgQIdCogYHXKWe1iAlado7nu4ovbm9M130911yR3W+eo5yT5hST/vN3vm7D1sMVfH2wi2Ho/D0nyD4tfPnS7f70zlSZSrfdzvSTnNb+88MILs/feO7p0Z9v4fQkBAauEsj0IECBAgAABAgQIEOhLQMDqS7audQWsuuax7TQ/naQJU81P8x1YzRetv2nxFwm/tPhOrOYdVs3H/3ZN8vUkhyf54eI1277bqvmS9hvv4BaPSfKuxe939F1Zq5fY0ccXr7lWwKrz4Vp9KgFrHHNySgIECBAgQIAAAQIE1hYQsObxZAhYdc75hou/ELjtdM27pJp3VK0OR8cneeHiouYjhn8mYNU50JpPJWDVPB1nI0CAAAECBAgQIEBgZwIC1s6EpvF7AavOOe636q8O3inJp9Y4avPOrH9LckCS05Lce3GNjxDWOdcqTyVgVTkWhyJAgAABAgQIECBAoKWAgNUSauSXCVh1DrD5WOAli48OXphk3zXefbXt5CcnedCq77va9iXuVybZawdf4v74JK9YLORL3Ot8Fno/lYDVO7ENCBAgQIAAAQIECBDoUUDA6hG3oqUFrIqGseoon0lyuyTfTHKTHRzzNUma76+6fBG8mkubjxM2f52w+Wn+amHzFwvX+vnjJM9c/GLLGn/NcCM6/grhRtQGfI2ANSC+rQkQIECAAAECBAgQ2LSAgLVpwlEsIGDVO6ZXJfm1JBcluf4O3oH19iT/fhGfmgjV/Nw/yamLf/2YJK9b5za3fdn7N5Ic2hGFgNURZKllLr3iytz6Waes2O6sE48ttb19CBAgQIAAAQIECBAgsCkBAWtTfKN5sYBV76iaL21vvsuq+blbko+tcdQ9F3+t8AZJ3p3kgYtrdk/y7STNd2m9Ockj13jtgYsvim++R+tlSZ7SEYWA1RFkqWUErFLS9iFAgAABAgQIECBAoA8BAasP1frWFLDqm8m2EzVh6YtJbpbkHYvvubpq1XGfleQ5i3/vCUleud3vm79O2PyVwuZ7sO6R5PRVr31pkicv3tl1RJLmI4td/AhYXSgWXEPAKohtKwIECBAgQIAAAQIEOhcQsDonrXJBAavKsVxzqIcu3oXVzKn5qOAfJflSkoOTNMHqvyRpfveJJEctvgdr24ubd1idkeSQxccLn7b4WGHzhfBPXfzTXNt84fsTO2QQsDrELLGUgFVC2R4ECBAgQIAAAQIECPQlIGD1JVvXugJWXfNY6zS/leTPklxnnaN+OsmDFx8HXH3JXZI0f6XwoHVe23zxUfNRxUs7ZBCwOsQssVStAWvr1q150bu+nDd98uzc6aY3yPMfcXj22XO9/xiUkLIHAQIECBAgQIAAAQI1CghYNU6l+zMJWN2b9rHinZI076C6b5KfTnLx4iN/r0/yiiSX7WDT5t1azV8lPG7x1wwvSfK5JM2XxJ+0gy+H3+h9CFgblRvodbUGrM+e/f08+M8/eI3KHz30tvmPRx02kJJtCRAgQIAAAQIECBCoVUDAqnUy3Z5LwOrW02qJgDWyp6DWgPXEv/143vn5c1do+uuII3u4HJcAAQIECBAgQIBAAQEBqwByBVsIWBUMYWJHELBGNlABa2QDc1wCBAgQIECAAAECBFYICFjzeCAErHnMueRdClgltTvYS8DqANESBAgQIECAAAECBAgMJiBgDUZfdGMBqyj3LDYTsEY2ZgFrZANzXAIECBAgQIAAAQIEVggIWPN4IASsecy55F0KWCW1O9hLwOoA0RIECBAgQIAAAQIECAwmIGANRl90YwGrKPcsNhOwRjbmWgPWb/ztx/MuX+I+sqfJcQkQIECAAAECBAiUFxCwypsPsaOANYT6tPcUsEY2XwFrZANzXAIECBAgQIAAAQIEVggIWPN4IASsecy55F0KWCW1O9hLwOoA0RIECBAgQIAAAQIECAwmIGANRl90YwGrKPcsNhOwRjZmAWtkA3NcAgQIECBAgAABAgRWCAhY83ggBKx5zLnkXQpYJbU72EvA6gDREgQIECBAgAABAgQIDCYgYA1GX3RjAaso9yw2E7BGNuZaA9YT/ubjefcXzl2hedaJx45M13EJECBAgAABAgQIEOhbQMDqW7iO9QWsOuYwpVMIWCObpoA1soE5LgECBAgQIECAAAECKwQErHk8EALWPOZc8i4FrJLaHewlYHWAaAkCBAgQIECAAAECBAYTELAGoy+6sYBVlHsWmwlYIxuzgDWygTkuAQIECBAgQIAAAQIrBASseTwQAtY85lzyLgWsktod7CVgdYBoCQIECBAgQIAAAQIEBhMQsAajL7qxgFWUexabCVgjG7OANbKBOS4BAgQIECBAgAABAisEBKx5PBAC1jzmXPIuBayS2h3sJWB1gGgJAgQIECBAgAABAgQGExCwBqMvurGAVZR7FpsJWCMbs4A1soE5LgECBAgQIECAAAECKwQErHk8EALWPOZc8i4FrJLaHewlYHWAaAkCBAgQIECAAAECBAYTELAGoy+6sYBVlHsWmwlYIxvzjy6/Mj/77FNWnPqsE48d/C6e8Dcfz7u/cG515xocxgEIECBAgAABAgQIEFghIGDN44EQsOYx55J3KWCV1O5gr3oD1sfy7i+cJ2B1MGNLECBAgAABAgQIEJiygIA15en+5N4ErHnMueRdClgltTvYS8DqANESBAgQIECAAAECBAgMJiBgDUZfdGMBqyj3LDYTsEY2ZgFrZANzXAIECBAgQIAAAQIEVggIWPN4IASsecy55F0KWCW1O9hLwOoA0RIECBAgQIAAAQIECAwmIGANRl90YwGrKPcsNhOwRjZmAWtkA3NcAgQIECBAgAABAgRWCAhY83ggBKx5zLnkXQpYJbU72KvWgPX4kz6WU7/oS9w7GLElCBAgQIAAAQIECExaQMCa9HivuTkBax5zLnmXAlZJ7Q72ErA6QLQEAQIECBAgQIAAAQKDCQhYg9EX3VjAKso9i80ErJGNWcAa2cAclwABAgQIECBAgACBFQIC1jweCAFrHnMueZcCVkntDvbqKmBdedXWnPyZc7L7rrvk52/709l1183918t6HyF835fOy/kXXpYH3/6Q7HmdXfPeL52X7150eR58xCHZujV56xnn5MB99shP77dXPv2v38u9brUlN9r/ujn/wkvz7s+fm587ZN8ccZP9O5CzBAECBAgQIECAAAECNQgIWDVMof8zbO5/YfZ/PjuMT0DAGtnMugpYT/+7f84bP/HNq+/+CUffLM968G02JbFWwPr9B98mf/TWz1+97j1ufkDuc6stef7bv3j1/9/868uuuCof+doFK/bdd6/r5B2/c+889KUfynk/vDRNV3vN44/MPW5x4KbO58UECBAgQIAAAQIECNQhIGDVMYe+TyFg9S08v/UFrJHNvKuAddgJJ6+487NOPHZTErf5/VNy8WVXbmqNbS9u3ql16RVXXbPWQdffM6c/85hO1rYIAQIECBAgQIAAAQLDCghYw/qX2l3AKiU9n30ErJHNutaAtTqIdc262cDW9XmsR4AAAQIECBAgQIDAxgQErI25je1VAtbYJlb/eQWs+me04oQC1sgG5rgECBAgQIAAAQIECKwQELDm8UAIWPOYc8m7FLBKanewl4DVAaIlCBAgQIAAAQIECBAYTEDAGoy+6MYCVlHuWWwmYI1szALWyAbmuAQIECBAgAABAgQIrBAQsObxQAhY85hzybsUsEpqd7CXgNUBoiUIECBAgAABAgQIEBhMQMAajL7oxgJWUe5ZbCZgjWzMAtbIBua4BAgQIECAAAECBAisEBCw5vFACFjzmHPJuxSwSmp3sJeA1QGiJQgQIECAAAECBAgQGExAwBqMvujGAlZR7llsJmCNbMylA9ZZ51+U711yeY648X7ZZZdr/1fQeT/8Uf71govzqL/6SK+SZ514bK/rW5wAAQIECBAgQIAAgTICAlYZ56F3EbCGnsD09hewRjbTkgHr5DPOydNe/6lccdXWPOrON84L/78jVmh94Zwf5Jde/pH84EdX9K4oYPVObAMCBAgQIECAAAECRQQErCLMg28iYA0+gskdQMAa2UhLBqzDTjh5hc4/PeMBOXjfva75937x5R/J6Wd+p4iggFWE2SYECBAgQIAAAQIEehcQsHonrmIDAauKMUzqEALWyMY5ZMB6y5PukTseeoNrxFYHrj4pBaw+da1NgAABAgQIECBAoJyAgFXOesidBKwh9ae5t4A1srkKWCMbmOMSIECAAAECBAgQILBCQMCaxwMhYM1jziXvUsAqqd3BXgJWB4iWIECAAAECBAgQIEBgMAEBazD6ohsLWEW5Z7GZgDWyMQtYIxuY4xIgQAfckvoAACAASURBVIAAAQIECBAgsEJAwJrHAyFgzWPOJe9SwCqp3cFeAlYHiJYgQIAAAQIECBAgQGAwAQFrMPqiGwtYRblnsZmANbIxC1gjG5jjEiBAgAABAgQIECCwQkDAmscDIWDNY84l71LAKqndwV4CVgeIliBAgAABAgQIECBAYDABAWsw+qIbC1hFuWexmYA1sjEPGbBe+4Qjc8RN9s/ee17narXDTji5mN5ZJx5bbC8bESBAgAABAgQIECDQn4CA1Z9tTSsLWDVNYxpnEbBGNscuAtZff+Bree7bvrDiztcKRGsFqt132yXPeejtcueb3iAPfNEHiukJWMWobUSAAAECBAgQIECgVwEBq1feahYXsKoZxWQOImCNbJSbDViXXHZlfu73T7nWXbcNWNteeO9bbckHvvztYnoCVjFqGxEgQIAAAQIECBDoVUDA6pW3msUFrGpGMZmDCFgjG+VmA9aZ51+U+73wfZsOWKXZBKzS4vYjQIAAAQIECBAg0I+AgNWPa22rCli1TWT85xGwRjbDtd5BtUzcEbBGNnDHJUCAAAECBAgQIDAxAQFrYgNd53YErHnMueRdClgltTvYS8DqANESBAgQIECAAAECBAgMJiBgDUZfdGMBqyj3LDYTsEY2ZgFrZANzXAIECBAgQIAAAQIEVggIWPN4IASsecy55F0KWCW1O9hLwOoA0RIECBAgQIAAAQIECAwmIGANRl90YwGrKPcsNhOwRjZmAWtkA3NcAgQIECBAgAABAgRWCAhY83ggBKx5zLnkXQpYJbU72GuzAeus8y/Kff0Vwg4mYQkCBAgQIECAAAECBDYiIGBtRG18rxGwxjez2k8sYNU+oVXnE7BGNjDHJUCAAAECBAgQIEBghYCANY8HQsCax5xL3qWAVVK7g73WClh/8dg75UGHH9Jq9Z29A+v8Cy/N77zh0zntK+e3Wq/URWedeGyprexDgAABAgQIECBAgECPAgJWj7gVLS1gVTSMiRxFwBrZINcKWHteZ9d89r//fHbfbded3s3OAtafnvLF/MX7vrrTdUpfIGCVFrcfAQIECBAgQIAAgX4EBKx+XGtbVcCqbSLjP4+ANbIZrhWwmlt479Pvm5sd2Ixzxz87C1iHnXDyzpYY5PcC1iDsNiVAgAABAgQIECDQuYCA1TlplQsKWFWOZdSHErBGNr7NBqyvX3BR7vOC913rrrcFIgFrZA+E4xIgQIAAAQIECBAYmYCANbKBbfC4AtYG4bxsXQEBa2QPh4A1soE5LgECBAgQIECAAAECKwQErHk8EALWPOZc8i4FrJLaHewlYHWAaAkCBAgQIECAAAECBAYTELAGoy+6sYBVlHsWmwlYIxuzgDWygTkuAQIECBAgQIAAAQIrBASseTwQAtY85lzyLgWsktod7LXZgOVL3DsYgiUIECBAgAABAgQIENiwgIC1YbpRvVDAGtW4RnFYAWsUY/rJIQWskQ3McQkQIECAAAECBAgQWCEgYM3jgRCw5jHnkncpYJXU7mCvzQYsf4WwgyFYggABAgQIECBAgACBDQsIWBumG9ULBaxRjWsUhxWwRjGmnxzy4suuyG1+/x3XOvV7n37f3OzAvXPKZ7+Vkz58Zg7ed69cfuVV+cElV+Rpx9wydz3sp65+zVgD1r1ueWB+au898uwH3yYH7rPnyKbmuAQIECBAgAABAgQIbBMQsObxLAhY85hzybsUsEpqd7DXegHrPcffJ/tfb4/c9bnvzpVXbV2x0wF775F/esYDcp3ddh1twNp2Q790l5vkTx51+w4kLUGAAAECBAgQIECAwBACAtYQ6uX3FLDKm099RwFrZBPeUcB66xnn5H+868tr3tEbnnj3HPkzB4w+YDU3d9aJx45sao5LgAABAgQIECBAgMA2AQFrHs+CgDWPOZe8SwGrpHYHe+0oYL3pk9/My9771TV3ee1vHJl73PxAAauDGViCAAECBAgQIECAAIGNCwhYG7cb0ysFrDFNaxxnFbDGMadrTilgeQfWyB5ZxyVAgAABAgQIECCwQkDAmscDIWDNY84l71LAKqndwV6bDVj/esHFufcL3nutk2z7WN5hJ5zcwSn7XcJHCPv1tToBAgQIECBAgACBPgUErD5161lbwKpnFlM5iYA1skkKWN6BNbJH1nEJECBAgAABAgQIrBAQsObxQAhY85hzybsUsEpqd7CXgCVgdfAYWYIAAQIECBAgQIDAYAIC1mD0RTcWsIpyz2IzAWtkY95owHrdb9w9R938gPgI4cgG7rgECBAgQIAAAQIEJiYgYE1soOvcjoA1jzmXvEsBq6R2B3sJWN6B1cFjZAkCBAgQIECAAAECgwkIWIPRF91YwCrKPYvNBKyRjXm9gHWvWx6Yffa8Tt7+2W+teUd/+7i75d632pJvfOfi3OtPr/0l7k+6781z1dbkr97/1epFlv0S9yuuvCqv+tBZ+eZ3L86v3fNmudmBzWPvhwABAgQIECBAgACBIQQErCHUy+8pYJU3n/qOAtbIJrxewNrZbdz+xvvlH55y9LoBa2evr+n3ywasl77nK3nhO7989S1suf6e+ejvPSC77eq/TmuaqbMQIECAAAECBAjMR0DAmses/S+uOud8WJIzWxztoiT77OC6g5Mcn+S4JIcmuTjJ55KctPhna4s9lr1EwFpWbODrNxqwmmM34We9d2ANfFtLbb9swDrshJNXrP+qX79r7nfrg5ba08UECBAgQIAAAQIECHQjIGB141j7KgJWnRPqImDdJUnzv7LX+1/VpyR5WJJLOyYQsDoG7Xu5zQas9b7Eve9zd7n+ZgPWnz/6jnnIETfs8kjWIkCAAAECBAgQIECgpYCA1RJq5JcJWHUOcPuA9aAkp61zzOYdVM27sFb/HJjkjCSHJLkgydOSnJpkvyRPWfzTvOavkzyxYwIBq2PQvpcTsJb/EvfV78ASsPp+Sq1PgAABAgQIECBAYH0BAWseT4eAVeectw9Y90vyviWP+cLFRwevSnLPJB9d9fqXJnlykub3d0jymSXX39HlAlaHmCWWErAErBLPmT0IECBAgAABAgQI9CUgYPUlW9e6AlZd89h2ms0ErN2TfHvxbqu3JHnEGrfYvEPr7CR7JHnZdu/I6kJDwOpCseAamw1YvgMr8Q6sgg+srQgQIECAAAECBAisEhCw5vFICFh1znkzAev+i48LNnf22CSvXecW35nkgUm+sfiC964kBKyuJAutc9GlV+S2f/CODe3mS9x/zCZgbejx8SICBAgQIECAAAECnQgIWJ0wVr+IgFXniNYKWM27pS5rcdynJ3nB4rpbJPnqOq95TpJnLX63Jcn5LdZuc4mA1UapomsErM1/hPAlj75jjvMl7hU91Y5CgAABAgQIECAwJwEBax7TFrDqnPP2AetzSZr/vwlDzV8M/EKStzZv+khy3hrHb76Y/QmL77faM8kV69zi45K8cvG7o5N8qCMKAasjyFLLCFgCVqlnzT4ECBAgQIAAAQIE+hAQsPpQrW9NAau+mTQn2j5grXfC7yZ5dJLVn/1qvvfqYYu/Pth819V6Pw9J8g+LXz50u3/dRqSJVOv9XG9bWLvwwguz9947urTNVq7pSmDr1q15+2e/le9dfHkecacbZa/dd7t6aQFr/YD1gS9/O2ddcFGOvsWB+eC/nJ+fOXCfHH3LA+OvEHb1VFqHAAECBAgQIECAwOYFBKzNG45hBQGrzikdmuR/Lb6/6pOL76m6PMmtk/za4i8INvXhkiTNu6eaa7b9bPtuq+ZL2m+8g9s7Jsm7Fr/f0XdlrbXE1jZsAlYbpXLX/PmpX8mfvevLV2/YBJnXPOHITQesNzzx7rnh/tfNvf70veVupIedmu/yWv3zlk99M7/zhn++1r/ffN/VU1/3qRX/vu/A6mEoliRAgAABAgQIECDQUkDAagk18ssErHEOsHmH1ZuTNPN7f5L7bncbAtY4Z9r7qVe/a+j0ZzwgB+2716begXWTn7puXvuEu08yYK322tGABKzeH18bECBAgAABAgQIEFhXQMCax8MhYI13zq9P8kuL498oyb8t/rWPEI53pr2efHWQOfX4++TmW/bZVMBqDnza795PwHr0HfMQX+Le6/NrcQIECBAgQIAAAQLrCQhY83g2BKzxzrn52N9rFsdvPv/0tsW/3vYl7lcm2WsHX+L++CSvWLzGl7iP9zlofXIBa32qtT5CuMw7sPwVwtaPoQsJECBAgAABAgQIdC4gYHVOWuWCAlaVY2l1qAcmaT4u2Pxs/x1WT0/ygsW/f/MkX1tntT9O8szF77YkOb/Vrju/yF8h3LnRIFcIWALWIA+eTQkQIECAAAECBAj0LCBg9QxcyfICViWD2MAxfiXJ3y5et/07sO6f5NTFv/+YJK9bZ+1t35X1jSTNl8Z39SNgdSXZ8ToCloDV8SNlOQIECBAgQIAAAQJVCAhYVYyh90MIWL0T97bBG5M8crH6DZOcs/jXuyf5dpL9Fl/0vu2a7Q9yYJLmrxTukeRlSZ7S4SkFrA4xu1yqr4D1wf92vxz9J9P7K4Q+Qtjl02ctAgQIECBAgAABAv0JCFj92da0soBV0zR+cpbmS9mbwLTezy8mab7EvZlfUw6ad11t//PCJMcnab4H6x5JTl/1+5cmeXKSrUmOSPKZDhkErA4xu1yqr4DlS9wTf4WwyyfVWgQIECBAgAABAgSWExCwlvMa69UCVp2Ta95B1YSp/5fkU0nOTbJrklsn+Y9JnrCIVxcluWeSf151G807rM5Icsjiu62etvhY4b5Jnrr4p3lJ84XvT+yYQMDqGLSr5QSs9SU3+yXuAlZXT6l1CBAgQIAAAQIECCwvIGAtbzbGVwhYdU7te4uPAO7odP+WpPmOq/evc9Fdkpyc5KB1fn9KkoclubRjAgGrY9D1lrviyqvysbO+m4P23TM337LPtS77+gUX5ezvXpIb7L1Hvn/J5fkP/+ujK6459fj7XP26iy69Irf9g3ds+NTPeeht8+z/97kNv76GFwpYNUzBGQgQIECAAAECBAhsTEDA2pjb2F4lYNU5sUckuVeSI5M0Hyds3lF1nSTfWbzb6q1J/ibJD3dy/IOTNH+V8LgkN0lySZKmNLwqyUmLjxB2LSBgdS26znq//qrT894vfTvX2XWX/OUv3zkPvE0z7h//fPhfzs+vnfSxXHbFVeuepquAVeh2e93mbb91r9zmhs0bFH/y4zuweiW3OAECBAgQIECAAIHOBASsziirXkjAqno8ozycgFVgbF/81g/y7//nadfstNuuu+Srz3vQNf//3Z777pz3wx2/uU7A+smg7njo/nnLk5pP4wpYBR5fWxAgQIAAAQIECBDoVEDA6pSz2sUErGpHM9qDCVgFRnfyGefkya/95Iqdtv8YXJt3DwlYKwe1+mOEbQy3rfCSR98xxx3R/DFQPwQIECBAgAABAgQIlBYQsEqLD7OfgDWM+5R3FbAKTLfLgHXhpVfkdpv4DqwCt1tkCwGrCLNNCBAgQIAAAQIECHQuIGB1TlrlggJWlWMZ9aEErALj6yJgvef4++RntuwTAevHA9tMwPJXCAs89LYgQIAAAQIECBAgsI6AgDWPR0PAmsecS96lgFVAu4uAte0jhAKWgFXgkbUFAQIECBAgQIAAgd4EBKzeaKtaWMCqahyTOIyAVWCMAlb3yJt5B5bvwOp+HlYkQIAAAQIECBAg0FZAwGorNe7rBKxxz6/G0wtYBaYiYHWPLGB1b2pFAgQIECBAgAABAiUEBKwSysPvIWANP4OpnUDAKjBRAat7ZAGre1MrEiBAgAABAgQIECghIGCVUB5+DwFr+BlM7QQCVoGJdhmwzvn+JTnq+e8pcOq6txCw6p6P0xEgQIAAAQIECBBYT0DAmsezIWDNY84l71LAKqDdVcD6yrkX5jdf84kCJ65/CwGr/hk5IQECBAgQIECAAIG1BASseTwXAtY85lzyLgWsAtpdBawH/Nn7C5x2HFtsJmD9+aPvmIccccNx3KhTEiBAgAABAgQIEJiYgIA1sYGuczsC1jzmXPIuBawC2gJW98gCVvemViRAgAABAgQIECBQQkDAKqE8/B4C1vAzmNoJBKwCExWwukfeTMB6yaPvmOO8A6v7oViRAAECBAgQIECAQAsBAasF0gQuEbAmMMTKbkHAKjAQAat7ZAGre1MrEiBAgAABAgQIECghIGCVUB5+DwFr+BlM7QQCVoGJdhGw3nP8fXJ/34F1zbQErAIPri0IECBAgAABAgQI9CAgYPWAWuGSAlaFQxn5kQSsAgMUsLpHFrC6N7UiAQIECBAgQIAAgRICAlYJ5eH3ELCGn8HUTiBgFZiogNU9soDVvakVCRAgQIAAAQIECJQQELBKKA+/h4A1/AymdgIBq8BEBazukQWs7k2tSIAAAQIECBAgQKCEgIBVQnn4PQSs4WcwtRMIWAUm2kXAOvX4++QBvgPrmmkJWAUeXFsQIECAAAECBAgQ6EFAwOoBtcIlBawKhzLyIwlYBQa4VsD68An3zw33v+7Vux92wsk7PcWv3eOwnPThs3Z63dwuOOyA6+VFv3SHPPwvPtz61l/y6DvmuCNu2Pp6FxIgQIAAAQIECBAg0J2AgNWdZc0rCVg1T2ecZxOwCsxtrYD12CMPzXMffnjrgFXgmKPd4nY32jefPfsHrc8vYLWmciEBAgQIECBAgACBzgUErM5Jq1xQwKpyLKM+lIBVYHxrBaxm220fg2vzDqwCx5zNFgLWbEbtRgkQIECAAAECBCoUELAqHEoPRxKwekCd+ZICVoEHQMAqgLzEFgLWElguJUCAAAECBAgQINCxgIDVMWilywlYlQ5mxMcSsAoMT8AqgLzEFgLWElguJUCAAAECBAgQINCxgIDVMWilywlYlQ5mxMcSsAoMT8AqgLzEFgLWElguJUCAAAECBAgQINCxgIDVMWilywlYlQ5mxMcSsAoMT8AqgLzEFgLWElguJUCAAAECBAgQINCxgIDVMWilywlYlQ5mxMcSsAoMT8AqgLzEFgLWElguJUCAAAECBAgQINCxgIDVMWilywlYlQ5mxMcSsAoMT8AqgLzEFgLWElguJUCAAAECBAgQINCxgIDVMWilywlYlQ5mxMcSsAoMT8AqgLzEFgLWElguJUCAAAECBAgQINCxgIDVMWilywlYlQ5mxMcSsAoMT8AqgLzEFv/9uNvmV+9x2BKvcCkBAgQIECBAgAABAl0JCFhdSda9joBV93zGeDoBq8DUBKwCyEtscfC+e+afnnHMEq9wKQECBAgQIECAAAECXQkIWF1J1r2OgFX3fMZ4OgGrwNQErALIS25x1onHLvkKlxMgQIAAAQIECBAg0IWAgNWFYv1rCFj1z2hsJxSwCkxMwCqAvOQWAtaSYC4nQIAAAQIECBAg0JGAgNURZOXLCFiVD2iExxOwCgxNwCqAvOQWAtaSYC4nQIAAAQIECBAg0JGAgNURZOXLCFiVD2iExxOwCgxNwCqAvOQWAtaSYC4nQIAAAQIECBAg0JGAgNURZOXLCFiVD2iExxOwCgxNwCqAvOQWAtaSYC4nQIAAAQIECBAg0JGAgNURZOXLCFiVD2iExxOwCgxNwCqAvOQWAtaSYC4nQIAAAQIECBAg0JGAgNURZOXLCFiVD2iExxOwCgxNwCqAvOQWAtaSYC4nQIAAAQIECBAg0JGAgNURZOXLCFiVD2iExxOwCgxNwCqAvOQWAtaSYC4nQIAAAQIECBAg0JGAgNURZOXLCFiVD2iExxOwehjalVdtzas+dGa+9K0f5pfvftN887uX5Mmv/eS1dtoWUQ474eQeTmHJHQn87r+/dR515xvnL9/31asv+6373zI32HsPaAQIECBAgAABAgQI9CwgYPUMXMnyAlYlg5jQMQSsHob56o9+Pc/++89evfJeu++aP3ro7fK7bzxjzYD1lXN/mAe+6AM9nMKSywjc79Zb8qpfv9syL3EtAQIECBAgQIAAAQIbEBCwNoA2wpcIWCMcWuVHFrB6GNDqd1Td9bAb5GNnfXfNgPW4kz6W93zxvB5OYcllBXyscFkx1xMgQIAAAQIECBBYXkDAWt5sjK8QsMY4tbrPLGD1MJ/VAetWB++TL5974ZoB60EvPi2fP+cHPZzCkssKCFjLirmeAAECBAgQIECAwPICAtbyZmN8hYA1xqnVfWYBq4f5CFg9oBZYUsAqgGwLAgQIECBAgACB2QsIWPN4BASsecy55F0KWD1oC1g9oBZYUsAqgGwLAgQIECBAgACB2QsIWPN4BASsecy55F0KWD1oC1g9oBZYUsAqgGwLAgQIECBAgACB2QsIWPN4BASsecy55F0KWD1oC1g9oBZYUsAqgGwLAgQIECBAgACB2QsIWPN4BASsecy55F0KWD1oC1g9oBZYUsAqgGwLAgQIECBAgACB2QsIWPN4BASsecy55F0KWD1oC1g9oBZYUsAqgGwLAgQIECBAgACB2QsIWPN4BASsecy55F0KWD1orw5Ytzxon3zlvAuvtVMTTB704tPy+XN+0MMpLLmswB8+5Db5xbveJHtdZ7e8+VNn56JLr8gv3uUmue4euy27lOsJECBAgAABAgQIEFhHQMCax6MhYM1jziXvUsDqQVvA6gG10JJH/cwBuf2N98vLP/C1q3e8z6225G8ed7dCu9uGAAECBAgQIECAwPQFBKzpz7i5QwFrHnMueZcCVg/aAlYPqAMu+Zk//He5/l67D3gCWxMgQIAAAQIECBCYjoCANZ1Z7uhOBKx5zLnkXQpYPWgvE7COfclp+dy/+QhhD2PobMlPPOuYHLDPnp2tZyECBAgQIECAAAECcxYQsOYxfQFrHnMueZcCVg/avsS9B9QBlxSwBsS3NQECBAgQIECAwOQEBKzJjXTNGxKw5jHnkncpYPWgLWD1gDrgkgLWgPi2JkCAAAECBAgQmJyAgDW5kQpY8xjp4HcpYPUwAgGrB9QBlxSwBsS3NQECBAgQIECAwOQEBKzJjVTAmsdIB79LAauHESzzHVgPevFp+fw5vgOrhzF0tuTHn3VMDvQdWJ15WogAAQIECBAgQGDeAgLWPObvI4TzmHPJuxSwetBeJmD5EvceBtDxkgJWx6CWI0CAAAECBAgQmLWAgDWP8QtY85hzybsUsHrQFrB6QB1wSQFrQHxbEyBAgAABAgQITE5AwJrcSNe8IQFrHnMueZcCVg/abQPWqx9/t/zKK0/v4QSW7FJAwOpS01oECBAgQIAAAQJzFxCw5vEECFjzmHPJuxSwetBuG7B62NqSPQh87JnHZMv19+xhZUsSIECAAAECBAgQmJ+AgDWPmQtY85hzybsUsHrQFrB6QB1wSQFrQHxbEyBAgAABAgQITE5AwJrcSNe8IQFrHnMueZcCVg/aAlYPqAMuKWANiG9rAgQIECBAgACByQkIWJMbqYA1j5EOfpcCVg8jELB6QB1wSQFrQHxbEyBAgAABAgQITE5AwJrcSAWseYx08LsUsHoYgYDVA+qASwpYA+LbmgABAgQIECBAYHICAtbkRipgzWOkg9+lgNXDCASsHlAHXPL0Zz4gB11/rwFPYGsCBAgQIECAAAEC0xEQsKYzyx3die/AmsecS96lgNWDtoDVA+qASwpYA+LbmgABAgQIECBAYHICAtbkRrrmDQlY85hzybsUsHrQFrB6QB1wSQFrQHxbEyBAgAABAgQITE5AwJrcSAWseYx08LsUsHoYgYDVA+qASwpYA+LbmgABAgQIECBAYHICAtbkRipgzWOkg9+lgNXDCFYHrAP23iMXXHRZDztZsoSAL3EvoWwPAgQIECBAgACBuQgIWPOYtI8QzmPOJe9SwOpBe3XA6mELSxYU8A6sgti2IkCAAAECBAgQmLyAgDX5EV99gwLWPOZc8i4FrB60BaweUAdcUsAaEN/WBAgQIECAAAECkxMQsCY30jVvSMCax5xL3qWA1YO2gNUD6oBLClgD4tuaAAECBAgQIEBgcgIC1uRGKmDNY6SD36WA1cMIBKweUAdcUsAaEN/WBAgQIECAAAECkxMQsCY3UgFrHiMd/C4FrB5GIGD1gDrgkqc/4wE5aN+9BjyBrQkQIECAAAECBAhMR0DAms4sd3QnPkI4jzmXvEsBqwdtAasH1AGXFLAGxLc1AQIECBAgQIDA5AQErMmNdM0bErDmMeeSdylg9aAtYPWAOuCSAtaA+LYmQIAAAQIECBCYnICANbmRCljzGOngdylg9TACAasH1AGXFLAGxLc1AQIECBAgQIDA5AQErMmNVMCax0gHv0sBq4cRCFg9oA64pIA1IL6tCRAgQIAAAQIEJicgYE1upALWPEY6+F0KWD2MQMDqAXXAJf/pGQ/Iwb7EfcAJ2JoAAQIECBAgQGBKAgLWlKa5/r34Dqx5zLnkXQpYG9B+zxfPzdP/7ozsukvyZ794h9znVltWrCJgbQC18pfcaP/r5i8ee6cccZP9Kz+p4xEgQIAAAQIECBCoW0DAqns+XZ1OwOpK0jrbBASsDTwLt/39U3LRZVde/cqf2nuPfPLZDxSwNuA4tpccfqP98o9PPXpsx3ZeAgQIECBAgAABAlUJCFhVjaO3wwhYvdH2svAtknwmyV6L1X89yUk72OngJMcnOS7JoUkuTvK5xWua123t4ZQC1gZQV7/D6qwTjxWwNuA4xpesnvUY78GZCRAgQIAAAQIECAwpIGANqV9ubwGrnHUXO70ryTHbLbSjgHWXJCcnOWidjU9J8rAkl3ZxsO3WELA2ACpgbQBtIi8RsCYySLdBgAABAgQIECAwmICANRh90Y0FrKLcm9rsl5O8OsmZSW62WGm9gHVgkjOSHJLkgiRPS3Jqkv2SPGXxT7PEXyd54qZOde0XC1gbABWwNoA2kZcIWBMZpNsgQIAAAQIECBAYTEDAa0gCCwAAIABJREFUGoy+6MYCVlHuDW92gyRfTHJAkkcm+fudBKwXLj46eFWSeyb56KqdX5rkyUma399h8bHEDR9u1QsFrA1IClgbQJvISwSsiQzSbRAgQIAAAQIECAwmIGANRl90YwGrKPeGN3tFkscn+Z9JXrx4F1az2FrvwNo9ybcX77Z6S5JHrLFr8w6ts5PskeRl270ja8MH3O6FAtYGFAWsDaBN5CUC1kQG6TYIECBAgAABAgQGExCwBqMvurGAVZR7Q5s1f6LsA0m+leRnmz9St5OAdf/FxwWbzR6b5LXr7PrOJM2fuvvG4gveN3S4NV4kYG1AUsDaANpEXiJgTWSQboMAAQIECBAgQGAwAQFrMPqiGwtYRbmX3qx5N9Wnk9wmyaOTvD7JYTsJWE9P8oLFTs1fLfzqOrs+J8mzFr/bkuT8pU+39gsErA1AClgbQJvISwSsiQzSbRAgQIAAAQIECAwmIGANRl90YwGrKPfSmz0zyR8neffi3VLNAjsLWM0Xsz9h8f1Weya5Yp1dH5fklYvfNe/y+tDSpxOwOiJLBKzOKEe3kIA1upE5MAECBAgQIECAQGUCAlZlA+npOAJWT7AdLHvzJJ9NsmuS2yf50mLNnQWs5nuvHrb464PNd12t9/OQJP+w+OVDt/vXbY7evMtqvZ/rJTmv+eWFF16Yvffe0aVttprHNQLWPOa81l2uDliv/OCZedMnvpk7HLp/nn3sbXLdPXabL447J0CAAAECBAgQINBCQMBqgTSBSwSseoe47TuqnpekeSfWtp+dBaxtr2u+pP3GO7i9Y5K8a/H7HX1X1lpLbG3DJmC1UfrxNQJWe6upXbl9wPrKuT/MA1/UfOXdj3+e/4jD8+i7HTq1W3Y/BAgQIECAAAECBDoVELA65ax2MQGrztE8Jsn/SXLW4vuvLtnumAJWnTPb1KkErE3xjfrF2wesJ7/2kzn5jHNW3I+PGI56vA5PgAABAgQIECBQQEDAKoBcwRYCVgVDWHWEGyT5QpKDkxyX5B9X/X5nActHCOub6U5PJGDtlGiyF2wfqH7z1Z/IKZ9r/uDoT34ErMmO3o0RIECAAAECBAh0JCBgdQRZ+TICVn0DelGS3158J1Xz3VSrf3YWsLZ9ifuVSfbawZe4Pz7JKxaL+xL3gZ8DAWvgAQy4vYA1IL6tCRAgQIAAAQIEJiEgYE1ijDu9CQFrp0TFL/j7JGuFq50d5GaLjxw+PckLFhc3XwT/tXVe2Px1w23frbUlyfk726Dl75tvbb+wudZ3YLUU8x1Y7aEmeKWANcGhuiUCBAgQIECAAIGiAgJWUe7BNhOwBqNfd+PNBqz7Jzl1sXrzXVqvW2enbV/2/o0kXX5LtIC1gWfKO7A2gDaRlwhYExmk2yBAgAABAgQIEBhMQMAajL7oxgJWUe5WmzXvpNpvB1feMMnJi9//weKjhs3/+/kklyXZPcm3F2u8Ockj11jrwCTNXyncI8nLkjyl1cnaXSRgtXNacZWAtQG0ibxEwJrIIN0GAQIECBAgQIDAYAIC1mD0RTcWsIpyd7LZzr4Dq9nkhUmOT9J8D9Y9kpy+aueXJnlykq1JjkjymU5O9uNFBKwNYApYG0CbyEsErIkM0m0QIECAAAECBAgMJiBgDUZfdGMBqyh3J5u1CVjNO6zOSHLI4rutnrb4WOG+SZ66+Kc5TPOF70/s5FQ/WUTA2gCogLUBtIm8RMCayCDdBgECBAgQIECAwGACAtZg9EU3FrCKcneyWZuA1Wx0l8VHDQ9aZ9dTkjwsyaWdnErA2hTjWgHrX877Yf7ifV/NluvvmZe/f73v4t/Utl5cgUATsD579vfzitO+lr//9L9d60TbB64KjusIBAgQIECAAAECBKoTELCqG0kvBxKwemHtddG2Aas5xMFJmr9KeFySmyS5JMnnkrwqyUmLjxB2fVjvwNqA6OqAdebzH5Sj/+S9Oft7zcj8TFngK8/9hdz1ue/O9y6+fM3bFLCmPH33RoAAAQIECBAg0IWAgNWFYv1rCFj1z2hsJxSwNjCx1QHrH59ydB7y0g9uYCUvGZvAy3/lzvlPr/7EuscWsMY2UeclQIAAAQIECBAoLSBglRYfZj8Baxj3Ke8qYG1guqsD1ht/86g86q8+soGVvGRsAv/zl+6Q337DpwWssQ3OeQkQIECAAAECBKoRELCqGUWvBxGweuWd5eIC1gbGLmBtAG0iLxGwJjJIt0GAAAECBAgQIDCYgIA1GH3RjQWsotyz2EzA2sCYBawNoE3kJQLWRAbpNggQIECAAAECBAYTELAGoy+6sYBVlHsWmwlYGxizgLUBtIm8RMCayCDdBgECBAgQIECAwGACAtZg9EU3FrCKcs9iMwFrA2MWsDaANpGXCFgTGaTbIECAAAECBAgQGExAwBqMvujGAlZR7llsJmBtYMyrA9ab/vNReeRf+hL3DVCO7iUC1uhG5sAECBAgQIAAAQKVCQhYlQ2kp+MIWD3BznhZAWsDwxewNoA2kZcIWBMZpNsgQIAAAQIECBAYTEDAGoy+6MYCVlHuWWwmYLUY89atW/P2z34r7/jct3K9Pa6T153+ryte9cbfPCqP+ivvwGpBOfpLBKzRj9ANECBAgAABAgQIDCwgYA08gELbC1iFoGe0jYDVYth/9/Fv5L++8Yx1rxSwWiBO5JIX/4c75Gmv//S6d3PWicdO5E7dBgECBAgQIECAAIF+BASsflxrW1XAqm0i4z+PgNVihqs/Mrj6JQJWC8SJXCJgTWSQboMAAQIECBAgQGAwAQFrMPqiGwtYRblnsZmA1WLMAlYLpJlcImDNZNBukwABAgQIECBAoDcBAas32qoWFrCqGsckDiNgtRjjzgKWv0LYAnEilwhYExmk2yBAgAABAgQIEBhMQMAajL7oxgJWUe5ZbCZgtRizgNUCaSaXCFgzGbTbJECAAAECBAgQ6E1AwOqNtqqFBayqxjGJwwhYLcYoYLVAmskl/grhTAbtNgkQIECAAAECBHoTELB6o61qYQGrqnFM4jACVosx7ixg+RL3FogTuUTAmsgg3QYBAgQIECBAgMBgAgLWYPRFNxawinLPYjMBq8WYBawWSDO5RMCayaDdJgECBAgQIECAQG8CAlZvtFUtLGBVNY5JHEbAajHGnQUsX+LeAnEilwhYExmk2yBAgAABAgQIEBhMQMAajL7oxgJWUe5ZbCZgtRizgNUCaSaX7OxL3P/ql++U+976oOy1+24zEXGbBAgQIECAAAECBJYTELCW8xrr1QLWWCdX77kFrBazEbBaIM3kkp0FrIbhiBvvl79/8j2zyy7+K3smj4XbJECAAAECBAgQWEJAwFoCa8SX+l9DIx5epUcXsFoMRsBqgTSTS9oErIbitb9xZO5x8wNnouI2CRAgQIAAAQIECLQXELDaW435SgFrzNOr8+wCVou5CFgtkGZySduA9dyH3y6PPfKmM1FxmwQIECBAgAABAgTaCwhY7a3GfKWANebp1Xl2AavFXASsFkgzuUTAmsmg3SYBAgQIECBAgEBvAgJWb7RVLSxgVTWOSRxGwGoxRgGrBdJMLhGwZjJot0mAAAECBAgQINCbgIDVG21VCwtYVY1jEocRsFqMUcBqgTSTSwSsmQzabRIgQIAAAQIECPQmIGD1RlvVwgJWVeOYxGEErBZjFLBaIM3kEgFrJoN2mwQIECBAgAABAr0JCFi90Va1sIBV1TgmcRgBq8UYBawWSDO5RMCayaDdJgECBAgQIECAQG8CAlZvtFUtLGBVNY5JHEbAajFGAasF0kwuaRuwnvfww/OYIw+diYrbJECAAAECBAgQINBeQMBqbzXmKwWsMU+vzrMLWC3msvOAdY888i8/3GIll4xd4L/+/K3zgnd8aae38dyH3y6PPfKmO73OBQQIECBAgAABAgTmJiBgzWPiAtY85lzyLgWsFtoCVgskl6wQELA8EAQIECBAgAABAgTWFhCw5vFkCFjzmHPJuxSwWmgLWC2QXCJgeQYIECBAgAABAgQItBAQsFogTeASAWsCQ6zsFgSsFgPZecA6Ko/8y4+0WMklcxHwDqy5TNp9EiBAgAABAgQILCsgYC0rNs7rBaxxzq3mUwtYLaYjYLVAcskKAQHLA0GAAAECBAgQIEBgbQEBax5PhoA1jzmXvEsBq4W2gNUCySUClmeAAAECBAgQIECAQAsBAasF0gQuEbAmMMTKbkHAajGQnQcsf4WwBeOsLnneww/PY448dFb37GYJECBAgAABAgQItBEQsNoojf8aAWv8M6ztDgSsFhMRsFoguWSFgIDlgSBAgAABAgQIECCwtoCANY8nQ8Cax5xL3qWA1UJbwGqB5JIVAr4DywNBgAABAgQIECBAQMCa8zMgYM15+v3cu4DVwlXAaoHkEgHLM0CAAAECBAgQIECghYB3YLVAmsAlAtYEhljZLQhYLQYiYLVAcomA5RkgQIAAAQIECBAg0EJAwGqBNIFLBKwJDLGyWxCwWgxkZwGrxRIumZmAjxDObOBulwABAgQIECBAoLWAgNWaatQXClijHl+VhxewWoxFwGqB5JIVAr7E3QNBgAABAgQIECBAYG0BAWseT4aANY85l7xLAauFtoDVAsklApZngAABAgQIECBAgEALAQGrBdIELhGwJjDEym5BwGoxEAGrBZJLBCzPAAECBAgQIECAAIEWAgJWC6QJXCJgTWCIld2CgNViIAJWCySXCFieAQIECBAgQIAAAQItBASsFkgTuETAmsAQK7sFAavFQASsFkguEbA8AwQIECBAgAABAgRaCAhYLZAmcImANYEhVnYLAlaLgQhYLZBcImB5BggQIECAAAECBAi0EBCwWiBN4BIBawJDrOwWBKwWAxGwWiC5RMDyDBAgQIAAAQIECBBoISBgtUCawCUC1gSGWNktCFgtBiJgtUByiYDlGSBAgAABAgQIECDQQkDAaoE0gUsErAkMsbJbELBaDETAaoHkEgHLM0CAAAECBAgQIECghYCA1QJpApcIWBMYYmW3IGAl+dHlV+b2f/jOXHblVVeP5+PPOiYH7rNntm7dmr96/9fyJ6d8sbKxOU7tAs97+OF5zJGH1n5M5yNAgAABAgQIECBQXEDAKk4+yIYC1iDsk95UwEryvz94Zv7orZ+/ZtBH3+LAvOYJR+bL5/4w/+5FH5j0A+Dm+hEQsPpxtSoBAgQIECBAgMD4BQSs8c+wzR0IWG2UXLOMgICVZK2PCJ514rF58ms/mZPPOGcZT9cSuFpAwPIgECBAgAABAgQIEFhbQMCax5MhYM1jziXvUsDaQcB60v/5RN72mW+VnIe9JiLw/EccnkffzUcIJzJOt0GAAAECBAgQINChgIDVIWbFSwlYFQ9npEcTsASskT66dR/bO7Dqno/TESBAgAABAgQIDCcgYA1nX3JnAauk9jz2ErB2ELD+82s+kbd/1juw5vEfhW7vUsDq1tNqBAgQIECAAAEC0xEQsKYzyx3diYA1jzmXvEsBS8Aq+bzNZi8BazajdqMECBAgQIAAAQJLCghYS4KN9HIBa6SDq/jYApaPEFb8eI73aALWeGfn5AQIECBAgAABAv0KCFj9+tayuoBVyySmcw4BS8CaztNc0Z0IWBUNw1EIECBAgAABAgSqEhCwqhpHb4cRsHqjne3CApaPEM724e/zxgWsPnWtTYAAAQIECBAgMGYBAWvM02t/dgGrvZUr2wnMNmB987sX53+888vZbddd8nef+Oa1tH7mwL3ztfMvaqfoKgKrBJ7zsNvlV+5+Uy4ECBAgQIAAAQIECKwSELDm8UgIWPOYc8m7nG3AetRffjgf//p3S1rba0YCt7/xfvmHpxw9ozt2qwQIECBAgAABAgTaCQhY7ZzGfpWANfYJ1nf+2Qasw044ub5pONGkBM468dhJ3Y+bIUCAAAECBAgQINCFgIDVhWL9awhY9c9obCcUsMY2MecdjYCANZpROSgBAgQIECBAgEBBAQGrIPaAWwlYA+JPdGsBa6KDdVvDCwhYw8/ACQgQIECAAAECBOoTELDqm0kfJxKw+lCd95oC1rzn7+57FBCwesS1NAECBAgQIECAwGgFBKzRjm6pgwtYS3G5uIWAgNUCySUENiIgYG1EzWsIECBAgAABAgSmLiBgTX3CP74/AWsecy55lwJWSW17zUpAwJrVuN0sAQIECBAgQIBASwEBqyXUyC8TsEY+wAqPL2BVOBRHmoaAgDWNOboLAgQIECBAgACBbgUErG49a11NwKp1MuM9l4A13tk5eeUCAlblA3I8AgQIECBAgACBQQQErEHYi28qYBUnn/yGAtbkR+wGhxIQsIaSty8BAgQIECBAgEDNAgJWzdPp7mwCVneWVvqxgIDlSSDQk4CA1ROsZQkQIECAAAECBEYtIGCNenytDy9gtaZyYUsBAasllMsILCsgYC0r5noCBAgQIECAAIE5CAhYc5iyv0I4jymXvUsBq6y33WYkIGDNaNhulQABAgQIECBAoLWAgNWaatQXegfWqMdX5eEFrCrH4lBTEBCwpjBF90CAAAECBAgQINC1gIDVtWid6wlYdc5lzKcSsMY8PWevWkDAqno8DkeAAAECBAgQIDCQgIA1EHzhbQWswuAz2E7AmsGQ3eIwAgLWMO52JUCAAAECBAgQqFtAwKp7Pl2dTsDqStI62wQELM8CgZ4EBKyeYC1LgAABAgQIECAwagEBa9Tja314Aas1lQtbCghYLaFcRmBZAQFrWTHXEyBAgAABAgQIzEFAwJrDlP0VwnlMuexdClhlve02IwEBa0bDdqsECBAgQIAAAQKtBQSs1lSjvtA7sEY9vioPP7uAddVVW/POz5+b33zNJ6ociENNR6AJWFu3bs17vnherrhqax74cwdn11391/h0JuxOCBAgQIAAAQIENiIgYG1EbXyv8b98xjez2k88u4D13954Rt7w8W/UPhfnm4BAE7Ce//Yv5OXv/9rVd/OYIw/N8x5++ATuzC0QIECAAAECBAgQ2LiAgLVxuzG9UsAa07TGcdbZBazDTjh5HJNxytELNAFr9fPmY4WjH6sbIECAAAECBAgQ2KSAgLVJwJG8XMCqc1A3SfLQJHdN0ry94uAkBya5LMlZSd6b5C+SfLHF8ZvXHp/kuCSHJrk4yeeSnLT4Z2uLNZa5RMBaRsu1BJYQELCWwHIpAQIECBAgQIDAbAQErHmMWsCqc85PSfLnOzna5Un+S5KX7uC6uyRp3h500DrXnJLkYUku7ZBBwOoQ01IrBe580xvkW9//Uc7+3iWzpBGwZjl2N02AAAECBAgQILATAQFrHo+IgFXnnB+f5OFJ3pPkU0n+Lcn5i3diHZXkhCS3WBz9wYtItfpOmndsnZHkkCQXJHlaklOT7JekCWTNP83PXyd5YocMAlaHmJa6dsC6xZZ9ZvudYwKW/0QQIECAAAECBAgQuLaAgDWPp0LAGuec9198DPCGSd6f5L5r3MYLFx8dvCrJPZN8dNU1zTu3npyk+f0dknymIwoBqyNIy1xboHkH1i0P2iev/9g8vzRfwPKfCgIECBAgQIAAAQIC1lyfAQFrvJN/SZKnJrkwyfVX3cbuSb69eLfVW5I8Yo3bbN6hdXaSPZK8bLt3ZG1WRMDarKDXrysgYPkSd//xIECAAAECBAgQILBawDuw5vFMCFjjnfOfLb4Dq/l4YBOjtv+5/+Ljgs2/99gkr13nNt+Z5IFJmrezNF/w3sWPgNWFojXWFBCwBCz/0SBAgAABAgQIECAgYM3zGRCwxjn3vRYf+Wu+B6v5IvZfWHUbT0/ygsW/11zz1XVu8zlJnrX43ZbF92xtVkTA2qyg168rIGAJWP7jQYAAAQIECBAgQEDAmuczIGCNZ+67Lr7E/a6L6NT838uS3CvJ6atuo/li9icsvt9qzyRXrHObj0vyysXvjk7yoQ44BKwOEC2xtsDcA9av3P2mefVHv74Cp/lerK9fcFG+c9Fl2X23XXPzLfvk7O9dnD122y2HHnA9jxIBAgQIECBAgACByQv4COHkR3z1DQpY9c+5eYfVz69xzC8l+U+LL3Ff/evme68etvjrg6s/Xrj9tQ9J8g+Lf+Oh2/3rnak0kWq9n+Z/MZ/X/PLCCy/M3nvv6NKdbTOO3x92wsnjOOgETjn3gLXWCJ/38MPzjLdc+28w7LpLcuIjbp9fvOtNJjB5t0CAAAECBAgQIEBgfQEBax5Ph4BV/5zXCljNF7T/fpLXLL7EffVdbPtuq+ZL2m+8g1s8Jsm7Fr/f0XdlrV5iaxs2AauNkmuWERCwltH68bXNO7T8ECBAgAABAgQIEJiygIA15en+5N4ErPrn3Hzf1XWSNB8hPCBJ81G/30vyc0k+n+TBSc5cdRsCVsG5egdWOewmYN1iyz55w8ebvzvgp42AgNVGyTUECBAgQIAAAQJjFhCwxjy99mcXsNpb1XTldZO8N8mRiy9zv8Pi+662ndFHCAtOS8Aqh32nQ/fPLQ+6voC1BLmAtQSWSwkQIECAAAECBEYpIGCNcmxLH1rAWpqsmhfcdxGxmgM9MMm7tzvZti9xvzJJ8w6u9b7E/fFJXrF4nS9x38Bot27dmpv93ts28Eov2YhAE7BudfD18/qPeQdWWz8Bq62U6wgQIECAAAECBMYqIGCNdXLLnVvAWs6rpqubd2FdvDjQ7yZ5wXaHe/p2///Nk3xtnYP/cZJnLn63Jcn5HdzgrP4KoYDVwROzxBIC1hJYi0sFrOXNvIIAAQIECBAgQGBcAgLWuOa10dMKWBuVG/5110/yg8Ux/muSF253pPsnOXXx/z8myevWOe6278pq3s5yaEe3JGB1BGmZawv4EvflnwoBa3kzryBAgAABAgQIEBiXgIA1rnlt9LQC1kblhn9d86fF3ro4xiOTvHm7I+2epPlLhfst/v3m96t/DkzS/JXCPZK8LMlTOrolAasjSMtcW8A7sJZ/KgSs5c28ggABAgQIECBAYFwCAta45rXR0wpYG5Xr93U/m+SLO9jiBklOS3LbJD9McuPt3o217WXNO7KOT9J8D9Y9kpy+ar2XJnlykq1Jjlh8GXwXdyVgdaFojTUFBKzlHwwBa3kzryBAgAABAgQIEBiXgIA1rnlt9LQC1kbl+n1d86Xr/5ik+WuCn0hy7uKvDN4wSfPxwOY7rm6yOELzzqnmHVSrf5p3WJ2R5JDFd1s9bfGxwn2TPHXxT/Oa5gvfn9jh7cwqYP3o8ivzs88+pUM+S+1IQMBa/vkQsJY38woCBAgQIECAAIFxCQhY45rXRk8rYG1Urt/XNe+K2tnPj5I8I8mLdnDhXZKcnOSgda5pysvDkly6s82W+P1sAtarP3JW/vAfP58rr2ozriUEXbqugIC1/MMhYC1v5hUECBAgQIAAAQLjEhCwxjWvjZ5WwNqoXL+vu9finVb3TnLTJAcvvqvq+0m+kOS9Sf53kn9tcYzmtc07to5bvGvrkiSfS/KqJCctPkLYYpnWl8wiYHnnVevnodMLm4DVfJH7X592ZqfrTnkxAWvK03VvBAgQIECAAAECjYCANY/nQMCax5xL3uUsAtY3vnNx7vWnTUf0U1Lgjofun5f/yp1z5PNOzVZvfGtFL2C1YnIRAQIECBAgQIDAiAUErBEPb4mjC1hLYLm0lYCA1YrJRWsJ3O1mP5XTz/zOujhNwHrLk+6Z937xvPz6SR+D2EJAwGqB5BICBAgQIECAAIFRCwhYox5f68MLWK2pXNhSQMBqCeWyawv8x6Numr/9yNfXpWk+QvjmJ93z6t8fdkLz9W4/+bn3rbbkA1/+NtZVAgKWR4IAAQIECBAgQGDqAgLW1Cf84/sTsOYx55J3KWCV1J7YXgJW9wMVsLo3tSIBAgQIECBAgEBdAgJWXfPo6zQCVl+y811XwJrv7Dd95wLWpgmvtYCA1b2pFQkQIECAAAECBOoSELDqmkdfpxGw+pKd77oC1nxnv+k7/9Wjbpq/2cFHCLd9B1az0eqPEN7nVlvyfh8hFLA2/RRagAABAgQIECBAYGwCAtbYJrax8wpYG3PzqvUFBCxPx4YFBKwN0637Qu/A6t7UigQIECBAgAABAnUJCFh1zaOv0whYfcnOd10Ba76z3/SdC1ibJrzWAgJW96ZWJECAAAECBAgQqEtAwKprHn2dRsDqS3a+6wpY8539pu9cwNo04bUWOPP5D8qLT/1K/u7j38wdDt0/Jz7i8Fx/r92738iKBAgQIECAAAECBAYSELAGgi+8rYBVGHwG2wlYMxhyX7e4s4B1p0P3z5ufdM+rt/cdWO2m8Pan3Su/8OLTrrn4Dx5ym/z6PW/W7sWuIkCAAAECBAgQIDACAQFrBEPq4IgCVgeIllghMIuA9a8XXJx7v+C9Rt+xwGm/e7/c60/Xd33Tf75H7nzTG6wZsN761KPz4D//YMcnGv9yx97+kJx8xjkrbsTHCsc/V3dAgAABAgQIECDwEwEBax5Pg4A1jzmXvEsBq6T2xPZqwsrqd1Y1t3jzLXvn2MMPyW8fc6vsuuuP/2tr9XXNR+Vu9ntvm5jI5m9HwNq8oRUIECBAgAABAgTqFhCw6p5PV6cTsLqStM42gVkErG985+IdvlNozo/D6nf3rBWk1vNZL2Ct9Y6h1euu99o5z6K5dwFr7k+A+ydAgAABAgQITF9AwJr+jJs7FLDmMeeSdylgldSucC8Bq66hCFh1zcNpCBAgQIAAAQIEuhcQsLo3rXFFAavGqYz7TALWuOe36dMLWJsm7HQBAatTTosRIECAAAECBAhUKCBgVTiUHo4kYPWAOvMlBayZPwACVl0PgIBV1zychgABAgQIECBAoHsBAat70xpXFLBqnMq4zzSLgOWvEK7/kApYdf0HWMCqax5OQ4AAAQIECBAg0L2AgNW9aY0rClg1TmXcZxKwxj2/TZ9ewNqf1N/xAAAgAElEQVQ0YacLCFidclqMAAECBAgQIECgQgEBq8Kh9HAkAasH1JkvOYuA9S/nXZhj/sf7Zz7qtW9fwKrrsRCw6pqH0xAgQIAAAQIECHQvIGB1b1rjigJWjVMZ95lmEbD++K2fzys+eOa4J9XT6QWsnmA3uOxaAevM5z8ou+ziv/43SOplBAgQIECAAAEClQkIWJUNpKfj+F8wPcHOeNlZBKzDTjh5xiNe/9aP+pkD8ron3n3FBctYNfFrretXR7Fmgzv80TvzvYsvv2av9V4790GtFbDe8dv3zq1/+vpzp3H/BAgQIECAAAECExEQsCYyyJ3choA1jzmXvEsBq6R2D3vd5aY3yMe//t2lV77R/tfNK371Lvm5Q/bdVMB67Cs+mg/9ywUr1lgrYL3/y9/OU1/7yVx+5db86aNun4ccccM149fSNzKxFzz49ofkrWecs+Ku3vZb98ptbrhyThO7bbdDgAABAgQIECAwIwEBax7DFrDmMeeSdylgldTuYa/m42XNz92ff2rO/cGlrXdY72Npy74D6/fefEZed/o3dhqwmgu2bt169XXbPg63zF6tb2zkFwpYIx+g4xMgQIAAAQIECOxUQMDaKdEkLhCwJjHGqm5CwKpqHMsfZtu7ne7+vFPzrR/8qPUCa71LqnnxMlGpWWOZgLX6cMvs1frGRn6hgDXyATo+AQIECBAgQIDATgUErJ0STeICAWsSY6zqJgSsqsax/GEErOXNan7FWt+B5SOENU/M2QgQIECAAAECBJYVELCWFRvn9QLWOOdW86kFrJqn0+JsQwesE950Rl7/sXYfIVx9O96Bde0BC1gtHnqXECBAgAABAgQIjFpAwBr1+FofXsBqTeXClgICVkuoWi/bFrCOev6pOef75T9CKGB1+2QIWN16Wo0AAQIECBAgQKA+AQGrvpn0cSIBqw/Vea8pYI18/kMHLN+B1e0DJGB162k1AgQIECBAgACB+gQErPpm0seJBKw+VOe95uQC1pVXbc3/+aev///s3QecFOX9x/Ev1zk4jt57kaYi0hULRWyxJDEx/tWYRGM3GkuCYkusUVOMPbHXaKxJUFQQUJAmWADpHaQjHY52/9csd8fd3u3t7O7M7Dwzn329fKnszPP8nvfv2UO+zsxq1fe7dOGANlq+caf+7+kpge0yAVZgW1u2MOsZWF2bFeg/X3+nmSu36IdHt1D35oXBXzgrRAABBBBAAAEEEAikAAFWINtaaVEEWOHos5erDFyA9cS4RfrTqLleGqZ1rnQHWNxC6H77P7j2OC3ZsENXvjIjMllOVoam3TJUhfnZ7k/ODAgggAACCCCAAAIIOCxAgOUwqE+HI8DyaWMMLitwAVbYHgxeGmD99eP5enjMAttbsfS86BNO//tnmv3dVlvjWGOkEmBd/8ZXenvGKltzhfkgK8A69eHPKhBcO6STfnvSYWFmYe0IIIAAAggggAAChgoQYBnauATLJsBKEIzD4woQYMUl8vcBpUHU5p17dM6Tk7Rw3fYqC77p5M568MN5ysyooT/9+Eid06tllcc9Pm6hHhg1L+6ibz29qy45rn1KAdbK73fq3Kcma9XmXXHnC/MBVQVYP+vTSvf/+Mgws7B2BBBAAAEEEEAAAUMFCLAMbVyCZRNgJQjG4XEFCLDiEvn7gPJXUu3eu18rNu3Uk+MX660ZKysUbh1nvZeVWUPNCmvGXNQ/P12se96fU+2i//LTHvrR0QcDsFQe4m6dv71on1Zv3qWCvGzt2LNPQ/483t/gaajOegbWaX+veAUWAVYaGsGUCCCAAAIIIIAAAo4IEGA5wuj7QQiwfN8i4wokwDKuZRULrupWwBHvzNQrU5ZXCrDsLNVOgPXGZQPUt139yHCp3EJYVT1huwXUTk8IsOwocQwCCCCAAAIIIICAKQIEWKZ0KrU6CbBS8+PsygIEWIbvCgIswxtoo/yqAqzz+rbSfT/iFkIbfByCAAIIIIAAAggg4DMBAiyfNcSlcgiwXIIN8bAEWIY3nwDL8AbaKJ8rsGwgcQgCCCCAAAIIIICAMQIEWMa0KqVCCbBS4uPkKgQIsAzfFgRYhjfQRvkEWDaQOAQBBBBAAAEEEEDAGAECLGNalVKhBFgp8XEyAVbw9gABVvB6Gr0ibiEMfo9ZIQIIIIAAAgggECYBAqxwdJsAKxx99nKVXIHlpbYLcxFguYDqsyH/d81A/eCRCRWq6t68jkb+5riyXxs/f73Wbd2tM3o0V152ps9WQDkIIIAAAggggAACCBwSIMAKx24gwApHn71cJQGWl9ouzEWA5QKqz4asm5+tzTv3VqrqX5f2V//2DfTC50t1x39mR97v166+Xr9sgM9WQDkIIIAAAggggAACCBBghW0PEGCFrePur5cAy31jV2eoKsC69d2Zenny8grzVnVcVYWNnbdOv3xuWtlbNbMztWvv/gqHvnHZAPVtVz/ya69OWa5b3plZ9n6HRrU05oYTk15z2+Ejkz43bCe2qFtTE4cPVrTZJzecoPaNaoeNg/UigAACCCCAAAIIGCLAFViGNCrFMgmwUgTk9EoCBFiGbwqnA6wDB4p1+iMTNGf1VmVm1NDTP++tXz5/KNCyuMoHWEX79mvoX8ZrxaZdysnK0Gu/7q9ebeolrUqAlRid1f9oszcvH6DebQ8GjLwQQAABBBBAAAEEEPCbAAGW3zriTj0EWO64hnlUAizDu+/0LYQWx649+zV+/jq1rl9L3ZrXqRSQvH5pf/Vr36BMbuvuvZq4YIM6NSlQx8apXflTXYB1Tq+WenP6SsM75mz5BFjOejIaAggggAACCCCAgPsCBFjuG/thBgIsP3QhWDUQYBneTzcCrGiS6FApOsBykjBWgJWdWUML7jlNJzw4Vss27nRySqPHIsAyun0UjwACCCCAAAIIhFKAACscbSfACkefvVwlAZaX2i7MFbYA6/gHxmr5JgKs0q1UVYD178sHqA+3ELrwaWNIBBBAAAEEEEAAAScECLCcUPT/GARY/u+RaRUSYJnWsah6CbAMb2CK5RNgpQjI6QgggAACCCCAAAKeCxBgeU6elgkJsNLCHuhJCbAMb286AqzyD3F3mi/eLYRcgVVRnADL6R3IeAgggAACCCCAAAJuCxBguS3sj/EJsPzRhyBVQYBleDcJsAxvYIrlE2ClCMjpCCCAAAIIIIAAAp4LEGB5Tp6WCQmw0sIe6EmNCbD27T+gr1duUdPCPLWoWzNmU6r7FrsgdpIAK4hdtb8mAiz7VhyJAAIIIIAAAggg4A8BAix/9MHtKgiw3BYO3/hGBFjFxcW68JmpmrBwg2pmZ+q5X/ZR//YNquwWAZY04p2ZemXK8go+VQVddrd7tCm3ENqVc/84Aiz3jZkBAQQQQAABBBBAwFkBAixnPf06GgGWXztjbl1GBFjTlm7ST56cVKbcvDBPn988hABLUlXB1K3vztTLk4MZYF320hf6cPZacz9xDldOgOUwKMMhgAACCCCAAAIIuC5AgOU6sS8mIMDyRRsCVYQRAdazE5boj//7tgJ8rCuKuAIrmFdg5WRmaP49p2rx+u0a/OfxMT+Elx3fXk99ujhQH9LqFlNVgOXmFXKhgWWhCCCAAAIIIIAAAq4JEGC5RuurgQmwfNWOQBRDgGV4G8PyDKzSAMtqV3Uh5aJ7T9Pr01bolndmGt5Ze+UTYNlz4igEEEAAAQQQQAAB/wgQYPmnF25WQoDlpm44xybAMrzvYQywet89Whu2F1XZuVKPsFyJxy2Ehn+AKR8BBBBAAAEEEAihAAFWOJpOgBWOPnu5SgIsL7VdmIsAqyIqAZbELYQufNAYEgEEEEAAAQQQQMAxAQIsxyh9PRABlq/bY2RxBFhGtu1Q0QRYBFhefkuk4R8XykcAAQQQQAABBBDwgQABlg+a4EEJBFgeIIdsCgIswxtOgEWARYBl+IeY8hFAAAEEEEAAgZAJEGCFo+EEWOHos5erNCLAem7iEv3hv3wLYVUbgwCLAIsAy8sfmcyFAAIIIIAAAgggkKoAAVaqgmacT4BlRp9MqtLYAGvOH0/R/uJi1c7NquAdlod3ly46jAFWn3tGa/02HuJu7YG5d52iLreNqvAZsJ6B1bVZgbbs2qvmhTWVkcFvHSb9UKZWBBBAAAEEEEAg6AIEWEHv8MH18aeQcPTZy1UaG2BZwdWuvft16+ld9ctj25WZEWBJI96ZqVemLK+wj6oKuuxuNC+v8InVv5zMDM2/59RIyQRYhzrXoFaONu7YU6GV5/VtrdemHuq/FXLlZWfabTfHIYAAAggggAACCCDgqgABlqu8vhmcAMs3rQhMIcYGWOU7MP/uU5WTlRH5JQIs6cEP5+qxsYtcC7DevepYHdWqrisfglj9a1W/pj773eDInD945DPNWrW1yvnD9i2Edppw99mH64L+bewcyjEIIIAAAggggAACCLguQIDlOrEvJiDA8kUbAlVEIAKsaSOGqlFBLgFWydbcuL1Ife8do/0HiiO/8sA5R+qnvVslvXHv+t+3embCksj5zQvzNOH3g127Le3lyct067uzKtX66q/76ZgODSO/Pn3Z9/rxE58TYNnsaLPCPE26eYjNozkMAQQQQAABBBBAAAF3BQiw3PX1y+gEWH7pRHDqIMAyvJexbg38fOEG/WvaCh3eoo4uHthemSk8B2nnnn16eMwCrd9apCsHdVDHxgWuqe3bf0D/+Gyx5q7epnr52fp+514N7NRQP+nVUjVqHPoR+M6XK/Xb17+uVAdXYFVuTdM6eZp8CwGWa5uWgRFAAAEEEEAAAQQSEiDASojL2IMJsIxtnW8LJ8DybWvsFZbKs63szeDfo654ebo+mLWmQoEEWJX71aROrqbcMtS/jaQyBBBAAAEEEEAAgVAJEGCFo90EWOHos5erJMDyUtuFuQiwCLDibSvr9lrrNlteCCCAAAIIIIAAAgj4QYAAyw9dcL8GAiz3jcM2AwGW4R0nwCLAireFG9bO1Re3EmDFc+J9BBBAAAEEEEAAAW8ECLC8cU73LARY6e5A8OYnwDK8p2EOsC5/abpGzSbAireFG9bO0Re3nhTvMN5HAAEEEEAAAQQQQMATAQIsT5jTPgkBVtpbELgCCLAMbykBFgFWvC1cv1aOZtxGgBXPifcRQAABBBBAAAEEvBEgwPLGOd2zEGCluwPBm9+IAOv5iUt053+/jalvPd/Hes6P9Wo7fGTwulTNigiwCLDibfi6+dn66vZh8Q7jfQQQQAABBBBAAAEEPBEgwPKEOe2TEGClvQWBKyAQAVbgupLAggiwCLDibRcCrHhCvI8AAggggAACCCDgpQABlpfa6ZuLACt99kGdmQDL8M4SYBFgxdvCdfKy9M2dJ8c7jPcRQAABBBBAAAEEEPBEgADLE+a0T0KAlfYWBK4AAiyDWnpGj+aav2ab5q3dFql6YMeGevmSfgatwNlSr3h5uj6YRYAVT5UAK54Q7yOAAAIIIIAAAgh4KUCA5aV2+uYiwEqffVBnJsDySWePaFGoWrmZWrphp9Zs3R2p6qpBHfTY2EWRfz68RR09cX4vbdqxR3f971vlZGXoj2d1V8fGBT5ZgfdlEGDZMyfAsufEUQgggAACCCCAAALeCBBgeeOc7lkIsNLdgeDNT4Dlk56G+VbAZFtw+UvTNWo2V2DF8yPAiifE+wgggAACCCCAAAJeChBgeamdvrkIsNJnH9SZCbB80lkCrMQbQYBlz4wAy54TRyGAAAIIIIAAAgh4I0CA5Y1zumchwEp3B4I3PwGWT3pKgJV4Iwiw7JkRYNlz4igEEEAAAQQQQAABbwQIsLxxTvcsBFjp7kDw5ifA8klPCbASbwQBlj2zgrwszeRbCO1hcRQCCCCAAAIIIICA6wIEWK4T+2ICAixftCFQRRBg+aSdBFiJN4IAy54ZAZY9J45CAAEEEEAAAQQQ8EaAAMsb53TPQoCV7g4Eb34jAqwXPl+qO/4zO3j65VZEgJV4ewmw7JkV5GZp5h9OtncwRyGAAAIIIIAAAggg4LIAAZbLwD4ZngDLJ40IUBkEWD5pJgFW4o0gwLJvNu/uU5SblWn/BI5EAAEEEEAAAQQQQMAlAQIsl2B9NiwBls8aEoByCLB80kQCrMQbQYBl3+xPPz5C5/Zpbf8EjkQAAQQQQAABBBBAwCUBAiyXYH02LAGWzxpSrpyakk6RZN2n00dSB0lWOLRZ0jeS3pL0nKRdcZbQRNINks6UZP1pc6ck696550v+KnaYgADLYdBkhyPASlxu8uKN+tk/Jped+JvBHXX9sM6Rf287fGTiAwb8DPZYwBvM8hBAAAEEEEAAAUMECLAMaVSKZRJgpQjo4ulbJRXEGX9uSTC1IMZxvSVZf+puHOP9UZLOllTk4DoIsBzETGUowoXE9YqLizXi3Vl6c/pK9WxVV09c0Ev1a+UQYMWgZI8lvsc4AwEEEEAAAQQQQMB5AQIs5039OCIBlh+7crAm68ooK1h6W9J7kqZJ+r7kKqrLJF0uyerfUklHSNoetZSGJVdqNZO0UdK1ksZIKpR0dclf1in/lHSpgwwEWA5ipjIU4UIqepXP5QqsyibsMWf3GKMhgAACCCCAAAIIJCdAgJWcm2lnEWD5t2OPSrpL0toYJf5e0v0l71n//EDUcQ+V3Dp4QNKxkg7dF3XwQGv8qyRZ7x8laaZDFARYDkGmOgzhQqqCFc8nwCLAcnZHMRoCCCCAAAIIIICAUwIEWE5J+nscAix/96e66rIkrZHUQNI4SYPKHZwtaX3J1VbvSPpRFQNZV2itkmTdH/VYuSuyUhUhwEpV0KHzCbAcgiwZhgCLAMvZHcVoCCCAAAIIIIAAAk4JEGA5JenvcQiw/N2feNVNktRf0nxJB580ffA1uOR2Qeufz5f0aoyBPpJ0kqQVJbcmxpvPzvsEWHaUPDiGAMtZZAIsAixndxSjIYAAAggggAACCDglQIDllKS/xyHA8nd/4lW3WFI7SV+UfFNh6fE3Snqw5F86SloUYyDrFsVbS95rJGlDvAltvE+AZQPJi0MIsJxVJsAiwHJ2RzEaAggggAACCCCAgFMCBFhOSfp7HAIsf/enuup6SppRcoD1PKtryh1sPZj9kpLnW+VK2hdjoF9JeqbkvYGSJjrAQYDlAKITQxBgOaF4aAwCLAIsZ3cUoyGAAAIIIIAAAgg4JUCA5ZSkv8chwPJ3f6qrbrSkISXfVtgj6iHs1nOvzi759kHrWVexXmdI+k/Jm2eV++d4KlZIFeuVL2md9eb27dtVq1Z1h8abxr33X5y0VLe/N9u9CXwwMgGWs00gwKrsOeK0rvr18e2dhWY0BBBAAAEEEEAAAQQSFCDAShDM0MMJsMxs3E3lvnXw8ZJvEyy/ktJnW1kPaW9ZzRKHSvq45P3qnpUVPUSxHTYCLDtK7h1DgOWsLQFW1Z7/urS/+re3vkuCFwIIIIAAAggggAAC6REgwEqPu9ezEmB5LZ76fCdLGikps+Sqq36SdkUNS4AVx5krsFLfiGEbgQArdscJS8P2aWC9CCCAAAIIIICAvwQIsPzVD7eqIcByS9adcXtJGiupoOSbA48t+Xv0bNxCSIAlQgVnP4QEWARYzu4oRkMAAQQQQAABBBBwSoAAyylJf49DgOXv/pSv7jBJEyRZ3xa4XtLxkubGKL/0Ie77JeVV8xD3iyU9XTJGqB7izhVY5mx8v1RaXYD16U2DlJudoX73jvFLuZ7WQVjqKTeTIYAAAggggAACCEQJEGCFY0sQYJnR51Yl4VVrSVslDSr3DYRVreBGSQ+WvNFB0uIYy7xb0oiS96xgbIMDHEZ8CyEBlgOdDtkQ1QVYpQFOWK/SIsAK2YeB5SKAAAIIIIAAAj4TIMDyWUNcKocAyyVYB4e1gqXPJHUuedbVKZI+jTP+YEmll4L8n6TXYhxf+qysFZKscMyJFwGWE4oOjEGo4ABiuSEIsGJ7stec3WuMhgACCCCAAAIIIJCYAAFWYl6mHk2A5e/O1ZE0TlJPSXslnS3pfRslZ5fcZlgo6W1JP67inIaSrG8pzJH0mKSrbYxr5xACLDtKHhxDqOAsMgEWAZazO4rREEAAAQQQQAABBJwSIMByStLf4xBg+bc/1rOrPix51tUBSdaVVK8nUO5Dkm6QZD0H6xhJU6POfVTSVZKKJfUo+UbDBIaPeSgBlhOKDoxBgOUAYrkhCLAIsJzdUYyGAAIIIIAAAggg4JQAAZZTkv4ehwDLn/3JLLly6syS8q6XZD2YPdbLCrh2Rr1pXWH1jaRmJc+2urbktkLrqq5rSv6yTrHGvdRBBgIsBzFTGYoAKxW9yucSYBFgObujGA0BBBBAAAEEEEDAKQECLKck/T0OAZY/+9NW0pIESlsmyTon+tVb0khJjWOMNarktsSiBOaKdygBVjwhj94nwHIWmgCLAMvZHcVoCCCAAAIIIIAAAk4JEGA5JenvcQiw/NkfpwIsa3VNJFnfSmhdzWV9m+EuSbMlPSfp+ZJbCJ1UMCLAemnSUt32nsUQ3BcBlrO9JcAiwHJ2RzEaAggggAACCCCAgFMCBFhOSfp7HAIsf/fHxOoIsHzQtVO6N9WTF/byQSXBKeFHj0/UjOWbq1xQaVhYXcgVHInKKyEsDXJ3WRsCCCCAAAIIIOB/AQIs//fIiQoJsJxQZIzyAgRYad4PdfKy9N7VA9WuodUKXk4JzP5ui858dKL2H7C+96DiiwDrdKeYGQcBBBBAAAEEEEAAgYQFCLASJjPyBAIsI9vm66IJsNLUnsKa2frruT3UtVkdNSusmaYqgj3tik07ddwDY5MKsEac1lX3vD8nkEBcgRXItrIoBBBAAAEEEEDAGAECLGNalVKhBFgp8XFyFQIEWGnaFlZw9cG1x6Vp9vBMe9GzUzV+/voKC7ZzBdYfzuyuO/4TzOeuEWCFZ/+zUgQQQAABBBBAwI8CBFh+7IrzNRFgOW8a9hEJsNK0AwiwvIEnwKrsTIDlzd5jFgQQQAABBBBAAIGqBQiwwrEzCLDC0WcvV0mA5aV2ubkIsLyBJ8AiwPJmpzELAggggAACCCCAgF0BAiy7UmYfR4Bldv/8WD0BVpq6QoDlDXyyAdYfz+qu29/jFkJvusQsCCCAAAIIIIAAAmESIMAKR7cJsMLRZy9XSYDlpXa5uQiwvIEnwKrszC2E3uw9ZkEAAQQQQAABBBCoWoAAKxw7gwArHH32cpUEWF5qE2B5rk2AVZl88s1D1LQwz/NeMCECCCCAAAIIIIAAApYAAVY49gEBVjj67OUqCbC81CbA8lw72QDrrrO667aA3kJYkJelNy8/Rp2bFnjeDyZEAAEEEEAAAQQQQIAAKxx7gAArHH32cpVmBFiTl+m2d2d56eL6XNxC6DpxZIJ735+jf3y6uGyydg1raeyNJ0b+ve3wkTGLeOL8o3XFKzO8KTINswzs2FAvX9IvDTMzJQIIIIAAAggggEDYBQiwwrEDCLDC0WcvV0mA5bK2FZgs2bCj0iwEWC7Dlwy/acceDfzTJ9q5Z79q1JBev3SA+rarHzfAmjpiiH721GQtrqJ33lTu/iw8C8t9Y2ZAAAEEEEAAAQQQqCxAgBWOXUGAFY4+e7lKAiyXtWfcdpLenrFSd4+cU2EmAiyX4csNbwWIH3+7Rj1b11OftgfDK+tV3RVYVoCVk5kR6dub01d6V6yHMxFgeYjNVAgggAACCCCAAAJlAgRY4dgMBFjh6LOXqyTAclm7NCSIDksIsFyGtzF8vACrcUGe1m8rUp97RtsYzbxDCLDM6xkVI4AAAggggAACQRAgwApCF+OvgQArvhFHJCZAgJWYV8JHxwqwujQt0Kjrjk94PE5wTqC6AGvaiKFqVJBLgOUcNyMhgAACCCCAAAIIIBARIMAKx0YgwApHn71cJQGWy9oEWC4DpzA8AdbpKehxKgIIIIAAAggggAACyQkQYCXnZtpZBFimdcz/9RJgudwjbiF0GTiF4QmwCLBS2D6cigACCCCAAAIIIJCkAAFWknCGnUaAZVjDDCiXAMvlJhFguQycwvAEWARYKWwfTkUAAQQQQAABBBBIUoAAK0k4w04jwDKsYQaUS4DlcpO4hdBl4BSGtxNgbdhepN53B/Mh7lNuGaL6tXKUnZmRgiKnIoAAAggggAACCCCQmAABVmJeph5NgGVq5/xbNwGWy70hwHIZOIXhwx5gWXRHtizUSxf3U2HN7BQkORUBBBBAAAEEEEAAAfsCBFj2rUw+kgDL5O75s3YCLJf7QoDlMnAKw1cXYH1520mqVytHQb4Cq5Tud6d01pUndkxBklMRQAABBBBAAAEEELAvQIBl38rkIwmwTO6eP2s3IsB6efIy3fruLH8KxqmKZ2D5t23VBVilfQtDgNWoIFfTRgz1b6OoDAEEEEAAAQQQQCBQAgRYgWpnzMUQYIWjz16ukgDLZW0CLJeBUxjeToC1fluR+twTzGdgldIRYKWwiTgVAQQQQAABBBBAIGEBAqyEyYw8gQDLyLb5umgjAqxXpizTiHeCdQVWl6YFGnXd8b7eHEEvLtUA65VL+un8p6cYz9S4IFdTuQLL+D6yAAQQQAABBBBAwBQBAixTOpVanQRYqflxdmUBIwKsV6cs1y3vzDSyfzwDy79tI8A62BsCLP/uUSpDAAEEEEAAAQSCKECAFcSuVl4TAVY4+uzlKgmwXNYmwHIZOIXhCbAO4jWpk6spt/AMrBS2EqcigAACCCCAAAIIJCBAgJUAlsGHEmAZ3Dyflm5EgPXa1OW6+e1gXYHVtVkdfXDtcT7dFuEoiwCLACscO51VIoAAAggggAAC/hIgwPJXP9yqhgDLLdnwjkuA5XLvuQLLZeAUhifAIsBKYftwKgIIIIAAAggggECSAgRYScIZdhoBlmENM6BcAiyXm0SA5TJwCsMTYB3Ea1onT5NvGZKCJJ9uUIkAACAASURBVKcigAACCCCAAAIIIGBfgADLvpXJRxJgmdw9f9ZuRID16CcL9NBH8/0pGKcqAiz/to0Aq2KAtXvvft347681fv56DenSWH8650jlZmX6t4FUhgACCCCAAAIIIGCkAAGWkW1LuGgCrITJOCGOgBEBVo8/fKQtu/Ya2UwCLP+2zU6AtWF7kXrfPbrKRbz26/4675+T/btAm5WVXoH11vSVuuHfX5ed9ch5PXVGj+Y2R+EwBBBAAAEEEEAAAQTsCRBg2XMy/SgCLNM76L/6jQiwqgsa/EdasaJYARYPcU9/52Ltq0sGttOtP+gWKbC4uFjtbn6/UrHDujXRY+cfrU4jPkj/QlKsoDTAOvLOD7V1976y0VrUramJwwenODqnI4AAAggggAACCCBQUYAAKxw7ggArHH32cpUEWC5rcwWWy8ApDF9VgHX2Uc11+xndVb9WTtnIXy7/Xj98/POyfx/UuZH+eNbhalU/X58tWK8Ln5maQhXpP7VZYZ4m3TxEBFjp7wUVIIAAAggggAACYRAgwApDlyUCrHD02ctVEmC5rE2A5TJwCsNHB1hPXtBLpxzeNOkRowOgpAfy+MRYAVbzwjx9fjMPd/e4HUyHAAIIIIAAAggEXoAAK/AtjiyQACscffZylQRYLmsTYLkMnMLw0QHWUxf20sndkw+wTH1WW2lQFR3AEWClsLk4FQEEEEAAAQQQQCCmAAFWODYHAVY4+uzlKgmwXNYmwHIZOIXhuQLrIB4BVgqbiFMRQAABBBBAAAEEEhYgwEqYzMgTCLCMbJuviybAcrk9BFguA6cwPAHWQbzSh7VzBVYKm4lTEUAAAQQQQAABBGwLEGDZpjL6QAIso9vny+IJsFxuCwGWy8ApDE+AVTHAir4FklsIU9hcnIoAAggggAACCCAQU4AAKxybgwArHH32cpUEWC5rE2C5DJzC8ARYBFgpbB9ORQABBBBAAAEEEEhSgAArSTjDTiPAMqxhBpRLgOVykwiwXAZOYXgCrEN4vz+lix4ft1Dbdu8r+0XrCqwnL+yl+96fq/ycTN15Zne1qp+fgjinIoAAAggggAACCCAgEWCFYxcQYIWjz16ukgDLZW0CLJeBUxieAKt6vGaFeaqZk6nF63dEDhzatYmevqh3CuKcigACCCCAAAIIIIAAAVZY9gABVlg67d06CbBcti4NsF6Zskwj3plVNts/LuylYd2bujw7w1cncMXL0/XBrDVlh3x9+zAV5mcnjRb9EPSkB/LJiQW5WdpWdOiKLKus0v3skxIpAwEEEEAAAQQQQMBAAa7AMrBpSZRMgJUEGqdUK0CAlcIGadMgXzv37Nf6bUUxRyn9A//OPft0wxtfa8LCDTq5e1Pd96MjlJ2ZkcLsnJqqwOL123X1q1/quy27dMNJh+nCAW1TGjJoAVbt3CxtJ8BKaU9wMgIIIIAAAggggEBlAQKscOwKAqxw9NnLVRJg2dAe+ZuBOv3vEyodWRpOdbt9VCTIqurFFSs2gANySPS3+Jm+LAIs0ztI/QgggAACCCCAgD8FCLD82RenqyLAclqU8QiwbOwBAiwbSByioF2BVSsnUzuiglkCWTY6AggggAACCCCAQKoCBFipCppxPgGWGX0yqUoCLBvd+t81A/WDR7gCywZVqA8hwAp1+1k8AggggAACCCCAgE0BAiybUIYfRoBleAN9WD4Blo2mEGDZQOIQrsBiDyCAAAIIIIAAAgggYEOAAMsGUgAOIcAKQBN9tgQCLBsNIcCygcQhBFjsAQQQQAABBBBAAAEEbAgQYNlACsAhBFgBaKLPlkCAZaMhBFg2kDgkcAFWfk5mpS8n4BlYbHQEEEAAAQQQQACBVAUIsFIVNON8Aiwz+mRSlQRYNroVL8Dqetso7drLtxDaoAz0IUF7BlZVzXr+l310YufGge4ji0MAAQQQQAABBBBwV4AAy11fv4xOgOWXTgSnDgIsG70kwLKBxCGBuwIrVkvH33Si2jSwfnTwQgABBBBAAAEEEEAgcQECrMTNTDyDAMvErvm7ZgIsG/35+o5h6vGHjyodWXo7FVdg2UAMwSFhuALLauOZPZrr7+f1DEFHWSICCCCAAAIIIICAGwIEWG6o+m9MAiz/9cT0igiw4nTwuqGddN3Qw3T7e7P04qRlFY4uDbC63T6q0rOCSg/kmUGmf0Ts1x+WAKt/+/r616UD7MNwJAIIIIAAAggggAAC5QQIsMKxHQiwwtFnL1dJgBVDe+adw7Rn3wE1qJ0bOeKxsQv14IfzCLC83J2GzUWAZVjDKBcBBBBAAAEEEEAgLQIEWGlh93xSAizPyQM/IQFWFS3OyczQ/HtOrfAOAVbgPwspL5AAK2VCBkAAAQQQQAABBBAIgQABVgiaLIkAKxx99nKVBFgOBFg8A8vLLevfuQiw/NsbKkMAAQQQQAABBBDwjwABln964WYlBFhu6oZzbAKsqgKsrAzNv9v+FVgEWOH88ESvOiwBVr929fX6ZTwDi12PAAIIIIAAAgggkJwAAVZybqadRYBlWsf8Xy8BFgGW/3epIRUSYBnSKMpEAAEEEEAAAQQQSKsAAVZa+T2bnADLM+rQTESARYAVms3u9kLDEmDxLYRu7yTGRwABBBBAAAEEgi1AgBXs/paujgArHH32cpUEWFVo52ZlaB63EHq5DwMxV5gCrJcu7qc3p6/UtCWb1KFxbZ16eFO1b1Q7EH1kEQgggAACCCCAAALuChBguevrl9EJsPzSieDUQYBFgBWc3ZzmlYQpwGpdP19vfLGyTDw/J1Of/W6QGtTOTXMXmB4BBBBAAAEEEEDA7wIEWH7vkDP1EWA548gohwQIsKrYDef0aqmHftKjwjufzl+vnz87tezXmhXmadLNQyL//rs3v67wh/nyJy69/3T2W0gEbn57pl6bujzwq7Ue4j5lyaZK67x4YDvd9oNugV8/C0QAAQQQQAABBBBITYAAKzU/U84mwDKlU+bUSYBVRa8mDh+sFnVrVninuLhYP37ic81YvlnWLYYv/Kqv+rdvEDnmu827dOajE7Vhe1GFc+754eE6v18bc3YDlaYksGbLbvW/b0xKY5hwcqwA67hODWXdWsgLAQQQQAABBBBAAIHqBAiwwrE/CLDC0WcvV0mAVU77ppM762d9WsW8DWrPvgP6YukmtayXr9YN8iv0aeP2Is1ds03dm9fRwnXblZ+TpW7N63jZS+bygcCmHXt09F0f+6AS90ogwHLPlpERQAABBBBAAIEwCBBghaHLEgFWOPrs5SoJsMppL7znVGVlZnjpz1wBFGg7fGQAV3VoSda3EE5eXPkWQq7ACnTbWRwCCCCAAAIIIOCYAAGWY5S+HogAy9ftMbI4AiwCLCM3rp+LJsDyc3eoDQEEEEAAAQQQQCDdAgRY6e6AN/MTYHnjHKZZCLAIsMK03z1Za9ADLG4h9GQbMQkCCCCAAAIIIBBYAQKswLa2wsIIsMLRZy9XSYBFgOXlfgvFXARYoWgzi0QAAQQQQAABBBBIUoAAK0k4w04jwDKsYQaUS4BVrkmL7j1NmRl8zAzYt74ukQDL1+2hOAQQQAABBBBAAIE0CxBgpbkBHk3Pn6w9gg7RNARYBFgh2u7eLDXoAVYsRR7i7s3+YhYEEEAAAQQQQMB0AQIs0ztor34CLHtOHGVfgACLAMv+buFIWwIEWLaYOAgBBBBAAAEEEEAgpAIEWOFoPAFWOPrs5SoJsMppL773NGVwC6GX+y+Qc53xyATNXLUlkGurblFcgRW6lrNgBBBAAAEEEEAgKQECrKTYjDuJAMu4lvm+YAKsci1aev/pvm8YBfpfYMmGHRr00Dj/F+pwhQRYDoMyHAIIIIAAAgggEFABAqyANjZqWQRY4eizl6skwCLA8nK/hWauqm4jnHzzEPW/b0xgDY4/rJFe/FXfwK6PhSGAAAIIIIAAAgg4I0CA5Yyj30chwPJ7h8yrjwCLAMu8XWtAxdEB1sM/O0pnHdVCQX4+FldgGbAxKREBBBBAAAEEEPCBAAGWD5rgQQkEWB4gh2wKAiwCrJBteW+WS4DljTOzIIAAAggggAACCJgnQIBlXs+SqZgAKxk1zqlOgACLAItPiAsCBFguoDIkAggggAACCCCAQCAECLAC0ca4iyDAikvEAQkKEGARYCW4ZTjcjgABlh0ljkEAAQQQQAABBBAIowABVji6ToAVjj57uUoCLAIsL/dbaOYKY4DFQ9xDs71ZKAIIIIAAAgggkJIAAVZKfMacTIBlTKuMKZQAiwDLmM1qUqFhDLBq1JA+/u0JysnMUMt6NZWRwW9ZJu1ZakUAAQQQQAABBLwSIMDySjq98/CngfT6B3F2AiwCrCDu67SvKYwBVnn0Ezs30nO/6KMaVqrFCwEEEEAAAQQQQACBcgIEWOHYDvxJIBx99nKVBFgEWF7ut9DMFR1gPfuL3hrcpYmifz3IIC/8qq9OOKxRkJfI2hBAAAEEEEAAAQSSECDASgLNwFMIsPzbNKs3XST1LffXkZJyJBVJyrNZehNJN0g6U1JrSTslzZb0fMlfxTbHsXsYARYBlt29wnEJCDw2dqEe/HBe5IyGtXM15ZYhysyoEaoA6xfHtNWdZ3ZPQI1DEUAAAQQQQAABBMIgQIAVhi5LBFj+7XNbSUtilGc3wOotaaSkxjHGGSXp7JJAzCkJAiwCLKf2EuOUE9i3/4Ce/3ypVmzaqV8c207tGlofNRFgsUsQQAABBBBAAAEEQi9AgBWOLUCA5d8+lw+wVkqaZl14Iek4m1dgWcd+I6mZpI2SrpU0RlKhpKtL/rJW/09JlzrIQIBFgOXgdmKoeAJhuoXwogFt9IezDo9HwvsIIIAAAggggAACIRMgwApHwwmw/NvnAkmDJU2RtKakzDsl3WEzwHqo5NbBA5KOlTQ5aqmPSrpKkvX+UZJmOkRBgEWA5dBWYhg7AgRYdpQ4BgEEEEAAAQQQQCDIAgRYQe7uobURYJnVZ7sBVrak9SVXW70j6UdVLNO6QmtVyTO1Hit3RVaqIgRYBFip7iHOT0AgTAHWzwe00R+5AiuB3cGhCCCAAAIIIIBAOAQIsMLRZwIss/psN8Cyrtyybhe0XudLejXGMj+SdJKkFSUPeHdCgwCLAMuJfcQYNgUIsGxCcRgCCCCAAAIIIIBAYAUIsALb2goLI8Ayq892A6wbJT1YsrSOkhbFWOZdkm4tec/6bvoNDnAQYBFgObCNGMKuAAGWXSmOQwABBBBAAAEEEAiqAAFWUDtbcV0EWGb12W6AZT2Y/ZKS51vlStoXY5m/kvRMyXsDJU10gIMAiwDLgW3EEHYFwhRgXdi/je46m4e4290bHIcAAggggAACCIRFgAArHJ0mwDKrz3YDLOu5V2eXfPug9ayrWK8zJP2n5M2zyv1zPBUrpIr1ype0znpz+/btqlWrukPjTePe+179oX/p/ae7twhGRkCSV3vZD9h18rK0dfehPL52bpYm3zJE1t+t1wczV2v42zOVm5Whh3/WUwM6NPBD2dSAAAIIIIAAAggg4LIAAZbLwD4ZngDLJ42wWYbdAKv02VbWQ9pbVjP2UEkfl7xf3bOyoocotlMvAZZEgGVnp3BMKgJhCrCqcrrzjG76xbHtVFxcrHY3v192SMt6NTXh99bjAHkhgAACCCCAAAIIBF2AACvoHT64PgIss/pMgOVQv7z4Q/+vj2unEad3c6hihkGgagEv9rLf7a2geO/+A+o04oMKpRIg+71z1IcAAggggAACCDgjQIDljKPfRyHA8nuHKtZnN8DiFsI4fXXiD/2NC3J11lHN9c/PllSa7Se9WurW07upMD/brB1GtcYJOLGXjVt0VMEEWKZ3kPoRQAABBBBAAIHUBAiwUvMz5WwCLFM6dbBOuwFW6UPc90vKq+Yh7hdLerqEgIe4J7gXxtxwgjo0ql3pGURc9ZEgJIenJECAdfBWXa7ASmkbcTICCCCAAAIIIGC0AAGW0e2zXTwBlm0qXxxoN8C6UdKDJRV3kLQ4RvV3SxpR8l4jSRscWGVovoWQAMuB3cIQKQsQYBFgpbyJGAABBBBAAAEEEDBcgADL8AbaLJ8AyyaUTw6zG2BZTy4eU1Lz/0l6LUb9pQ97XyGptUNrJMDimwcd2koMY0eAAIsAy84+4RgEEEAAAQQQQCDIAgRYQe7uobURYJnVZ7sBlvXgpfWSCiW9LenHVSyzoSTrWwpzJD0m6WqHKAiwCLAc2koMY0eAAOtggLVn3wEddisPcbezZzgGAQQQQAABBBAImgABVtA6WvV6CLDM6rPdAMta1UOSbpBkPQfrGElTo5b6qKSrJBVL6iFppkMUBFgEWA5tJYaxI0CARYBlZ59wDAIIIIAAAgggEGQBAqwgd/fQ2giw/N3nbpLqlCvxEknWg9f3SDohqvQvJRWV+zXrCqtvJDUrebbVtSW3FVrjXVPyl3W49cD3Sx1kIMAiwHJwOzFUPAECLG4hjLdHeB8BBBBAAAEEEAi6AAFW0Dt8cH0EWP7u87gqgqpYFbeTtDTqzd6SRkpqHOOkUZLOjgq+UhUhwCLASnUPcX4CAgRY0hEtCnXN4I669KXpFeT4RtAENhKHIoAAAggggAACBgsQYBncvARKJ8BKACsNh6YaYFklN5FkfSvhmZJaSdolabak5yQ9X3ILoZNLI8AiwHJyPzFWHAECrINA+TmZ2rnHumP60IsAi48PAggggAACCCAQDgECrHD0mQArHH32cpWhCbAW3HOqsjMzFB0g8IdmL7cbc700aalue8/KpHlFC/BZZE8ggAACCCCAAALhECDACkefCbDC0WcvVxmKAOsPZ3bXRce0jbgSYHm5vZgrWmBH0T51v+NDYKoQIMBiWyCAAAIIIIAAAuEQIMAKR58JsMLRZy9XGYoAa+qIIWpckEeA5eXOYq6YAhc/P01j5q6zJdSlaYHmrtlm61jTDyLAMr2D1I8AAggggAACCNgTIMCy52T6UQRYpnfQf/WHIsCaNmKoGhXkEmD5b/+FsiICrKrbToAVyo8Di0YAAQQQQACBEAoQYIWj6QRY4eizl6skwOIh7l7uN+aSRIBFgMUHAQEEEEAAAQQQCLMAAVY4uk+AFY4+e7nKUARY3ELo5ZZirngCBFgEWPH2CO8jgAACCCCAAAJBFiDACnJ3D62NACscffZylQRYXIHl5X5jLq7AirkHuIWQjwcCCCCAAAIIIBAOAQKscPSZACscffZylaEIsHgGlpdbirniCXAFVtVCBFjxdg7vI4AAAggggAACwRAgwApGH+OtggArnhDvJypAgMUVWInuGY5PUYAAq2rAxfeepoyMGlq6YYceHbtQhTWzdd3QTirIy05RnNMRQAABBBBAAAEE/CRAgOWnbrhXCwGWe7ZhHZkAiwArrHs/besmwKqa/pHzeuoHRzbTkL+M1+L1OyIHnde3le770ZFp6xUTI4AAAggggAACCDgvQIDlvKkfRyTA8mNXzK7JiADr5re/0WtTVyQtPf/uU5WTlRE5v+3wkRXG4balpFk5MUmBUbNW6/KXZ8Q9++KB7dSpcW0Nf3tm3GODcsBnvxuk4x4Yy2c0KA1lHQgggAACCCCAQBUCBFjh2BYEWOHos5erNCLA+m7zLh1z/ydJuQzs2FAvX9Kv7FwCrKQYOclBgX37D6jjiA8qjZiXnaGifQdUXCx1aVqgFy/uqzp52Tryzo+0Z/8BByvw71BjbjhBQ/48ngDLvy2iMgQQQAABBBBAIGUBAqyUCY0YgADLiDYZVaQRAZYl+ugnC/TQR/MTwi3/8PbSEwmwEiLkYJcE7nt/jp76dHGF0ef88RRZIdbWXfuUn5up7MyDVw0eOFCs9duLlJuVoaP++LFLFfljWAIsf/SBKhBAAAEEEEAAATcFCLDc1PXP2ARY/ulFUCoxJsB6cvwi3f/BXNvudfOz9dXtwyodT4Blm5ADXRS474M5emp8xQDLzu2s0fvXxRLTMjQBVlrYmRQBBBBAAAEEEPBUgADLU+60TUaAlTb6wE5MgMVD3AO7uf28MAKsqrsz+voTNPQv3ELo571LbQgggAACCCCAQKoCBFipCppxPgGWGX0yqUpjAqwnxi3Sn0ZxBZZJm4taYwsQYBFg8flAAAEEEEAAAQTCKkCAFY7OE2CFo89erjKwAVa9/Gx9yS2EXu4l5kpAgACLACuB7cKhCCCAAAIIIIBAoAQIsALVzpiLIcAKR5+9XCUBFrcQernfmKtEgACr6q3AM7D4iCCAAAIIIIAAAsEXIMAKfo+tFRJghaPPXq6SAIsAy8v9xlwEWNXugdOPaKaRM1dXOObVS/qpf/sGenP6Sm3YUaTz+7ZRYX42ewkBBBBAAAEEEEDAUAECLEMbl2DZBFgJgnF4XAECLAKsuJuEA5wX4AqsxEyP7dhAExdujJzUo2Wh3rt6YGIDcDQCCCCAAAIIIICAbwQIsHzTClcLIcBylTeUgxNgEWCFcuOne9Eff7tWv37xi7IyujQt0Kjrjo9bVtvhI+MeE4YDxt90oto0sH588UIAAQQQQAABBBAwTYAAy7SOJVcvAVZybpwVWyCwAVbd/Gx9VcVD3J8cv0j3f3Dw2wxvOrmzrhrUkf2BgOcCBw4U65wnP9eM5ZtVOzdLL1/ST0e1qhu3jkS/jTPugIYe8L9rBurwFoWGVk/ZCCCAAAIIIIBAuAUIsMLRfwKscPTZy1UaE2A9Pm6hHhg1z7ZNrADLGmDemm0qVrG6NK1jezwORMBpgT37DuiblZvVsl6+mhbm2R5+7pqtKi6WHhg1V2Pnrbd9XpAOJMAKUjdZCwIIIIAAAgiETYAAKxwdJ8AKR5+9XGUoAywvgZkLAbcELn9pukbNXuPW8L4elwDL1+2hOAQQQAABBBBAoFoBAqxwbBACrHD02ctVEmB5qc1cCDgoQIDFLYQObieGQgABBBBAAAEEPBMgwPKMOq0TEWCllT+QkxsTYCX67J/qbiEMZCdZVOgECLAIsEK36VkwAggggAACCARCgAArEG2MuwgCrLhEHJCgAAFWgmAcjoBfBAiwCLD8shepAwEEEEAAAQQQSESAACsRLXOPJcAyt3d+rZwAy6+doS4E4ggQYBFg8SFBAAEEEEAAAQRMFCDAMrFriddMgJW4GWdUL0CAxQ5BwFCBMAdYT13YS7Vzs/SvaSvUt229yDc5nnBYI63avEuzVm1Rn3b11bB2boXOFhcX69MFG5SVUUNz12zT2LnrdHbPFjqxc6NKxxq6JSgbAQQQQAABBBAwQoAAy4g2pVwkAVbKhAwQJWBMgPX4uIV6YNQ82w2sl5+tL28fZvt4DkTANIEwB1hV9eqoVnW1YO027dizPxJIffzb41WvVk7ZoXe8N0svTFpW6dSGtXM05voTVZifbdoWoF4EEEAAAQQQQMBIAQIsI9uWcNEEWAmTcUIcAQIstggChgo8MmaB/vzxfEOrd7/sK0/soN+d0qVsorbDR8ac9OpBHXXjyZ3dL4oZEEAAAQQQQAABBESAFY5NQIAVjj57uUrjA6z+7etrxvLN2rPvQAU3voXQy23EXOkQ2LZ7r054cJw27diTjul9P2evNvX01hXH2Aqw+rStp39ffuhY3y+OAhFAAAEEEEAAAYMFCLAMbl4CpRNgJYDFobYEjA+wFt97mhau365hf/2UAMtWyzkoSAJrt+6OPMtpxLuztP9AcZCWlvJajm5dV29feSwBVsqSDIAAAggggAACCDgrQIDlrKdfRyPA8mtnzK3L6ACrR6u6eu+qg39AHXDfGK3esrusE1yBZe6mpPLEBc56dIK+Xrkl8RMDfAYBVoCby9IQQAABBBBAwGgBAiyj22e7eAIs21QcaFOAAMsmFIch4GcBAqzK3SHA8vOOpTYEEEAAAQQQCLMAAVY4uk+AFY4+e7lKAiwvtZkLAZcEznx0gr7hCqwKugRYLm02hkUAAQQQQAABBFIUIMBKEdCQ0wmwDGmUQWUaE2A9NnahHvxwXgVabiE0aKdRqqsCBFiVeQmwXN1yDI4AAggggAACCCQtQICVNJ1RJxJgGdUuI4olwDKiTRSJQPUCBFiVfXq2rqt3eIg7Hx0EEEAAAQQQQMB3AgRYvmuJKwURYLnCGupBjQmwHh+3UA+M4gqsUO9WFh9TgACraponLzhaJxzWWCu+31npm0rLn9GnbT39+/JjKg2ybtturfp+lwrystS+YW1lZPDbMB9DBBBAAAEEEEAgVQECrFQFzTif/3I2o08mVUmAZVK3qBWBGAIEWKlvjaX3n15hkNHfrtUlL35R9mtDujTW0xf1Vo0a/FacujYjIIAAAggggECYBQiwwtF9/qs5HH32cpVGB1hn9GiuR87rGfE6/+nJmrhwY5ldrzb19NYVla+o8BKXuRDwSuDqV2fof9+s9mq6QM4THWAddusH2rPvQIW1/vvyAerTtn4g18+iEEAAAQQQQAABrwQIsLySTu88BFjp9Q/i7EYHWJ/eNEitG+RH+jJn9Vad+vBnZT363zUDdXiLwiD2jDUhUElg2cYdGvTQOB0oBidZgegAq+3wkZWGuunkzrpqUMdkp+A8BBBAAAEEEEAAAUkEWOHYBgRY4eizl6s0OsCK/gPnxIUbNHbuOh1/WKPIX7wQCJPAtKWb9JMnJ4VpyY6ulQDLUU4GQwABBBBAAAEEYgoQYIVjcxBghaPPXq7SmADrsbEL9eCHFR/iHv0HTi/hmAsBPwo8NX6R7vtgrq3SXr64ny54ZoqtY8NwEAFWGLrMGhFAAAEEEEDADwIEWH7ogvs1EGC5bxy2GQiwwtZx1htoAQKs5NtLgJW8HWcigAACCCCAAAKJCBBgJaJl7rEEWOb2zq+VE2D5tTPUhUASAgRYSaCVnEKAlbwdZyKAAAIIIIAAAokIEGAlomXusQRY5vbOr5UTYPm1M9SFQBICBFhJ3DKGvAAAIABJREFUoBFgJY/GmQgggAACCCCAQBICBFhJoBl4CgGWgU3zeckEWD5vEOUhkIhAIgHWK5f00/lP8wysUl+uwEpkp3EsAggggAACCCCQvAABVvJ2Jp1JgGVSt8yolQDLjD5RJQK2BAiwbDFVeZAVYBUXF6u4WKpRQ2p38/uVjrvp5M668sQOVZ5fwzop6mWNZ72qei/5SpM700+1JLcCzkIAAQQQQACBoAgQYAWlk9WvgwArHH32cpUEWF5qMxcCLgsQYCUPfPqRzTTym9UJDdCwdk4k8Nq4Y48uPb69bjmta9n51jenPvTRPLWoW1PPXNRHnZsWJDS2kwePm7dOv3ntS+3dX6wHzjlSZ/Ro7uTwjIUAAggggAACCCQkQICVEJexBxNgGds63xZuTID17IQl+uP/vq0AGX3Lj2+VKQwBjwRenLRUt783O+5sdfKy9PRFffTTpybFPZYD7AuMvv54dWxcoPXbitTnntFlJw7s2FAvX9LP/kAOH9njDx9py669ZaPys9NhYIZDAAEEEEAAgYQECLAS4jL2YAIsY1vn28KNCbC27t6rXnd9HLmCwHoNP7WLLj+h6lt5fKtNYQi4LLC9aJ8Ov+PDuLOMu/FEtaqfrw63VL5NLu7JHBBTwLrF8KpBHSNXcl316owKx6UzNGo7fKRvamH7IIAAAggggAACBFjh2AMEWOHos5erNCbAslA+nb9ez01coo6Na+uGYZ2Vl53ppRVzIWCEwE+e/FzTln5fodYnLzhal798MFD5WZ9Wuv/HR0b+OTrYMGKBPi6SAMvHzaE0BBBAAAEEEPCNAAGWb1rhaiEEWK7yhnJwowKsUHaIRSOQoMDfRs/X30YvqHBWrKt/CLASxI1zOAGWs56MhgACCCCAAALBFCDACmZfo1dFgBWOPnu5SgIsL7WZCwEPBB4evUB/HT2fAMsD6+gpCLDSgM6UCCCAAAIIIGCcAAGWcS1LqmACrKTYOKkaAQIstgcCARPgCqz0NZQAK332zIwAAggggAAC5ggQYJnTq1QqJcBKRY9zqxIgwGJfIBAwAQKs9DWUACt99syMAAIIIIAAAuYIEGCZ06tUKiXASkWPcwmw2AMIhECAACt9TSbASp89MyOAAAIIIICAOQIEWOb0KpVKCbBS0eNcAiz2AAIhECDASl+TCbDSZ8/MCCCAAAIIIGCOAAGWOb1KpVICrFT0OJcAiz2AQAgECLDS2+ROjWtrwbrtlYqI/ibIReu36+a3Z2r77n06qVsTjZ6zVrO/2xo5r3/7+qqVk6UlG3foB0c212+HdlKNGsn/J0D0t00uue+0lMZLrzCzI4AAAtULrN9WFPn5umzjDl1xYgf96OiWkCGAgM8ECLB81hCXykn+v15dKohhjRfgGVjGt5AFIFBRgADLnzsiOsC65IUvIqGVndc7Vx6jnq3r2Tm0ymMIsJKm40QEEDBQ4N735+gfny6OVJ6dWUPTbztJdfKyDVwJJSMQXAECrOD2tvzKCLDC0WcvV0mA5aU2cyHggcDarbvV794xZTNdM7ijbhjWucqZf/j4RH25fLMHVTFFdIAVHSpVJ9SnbT39+/JjkkYkwEqajhMRQMBAgeifeff96Aid17e1gSuhZASCK0CAFdzeEmCFo7fpWiUBVrrkmRcBFwWen7hET09YosOaFOjBc45Ug9q5Vc729YrNkdss9h04oKsGddS1//rKxarCPXQqAVavNvX01hXOBViL7z1NGRn8P7Fw70hWj0BwBQiwgttbVhYcAQKs4PSyupXwX5vh6LOXqyTA8lKbuRAwVCCRq4UMXaLrZRNguU7MBAgggEBEgACLjYCA/wUIsPzfIycqJMByQpExygsQYLEfEEAgrgABVlyiuAekEmAd3bqu3r7y2LhzxDogun9cgZU0JScigIABAgRYBjSJEkMvQIAVji1AgBWOPnu5SgIsL7WZCwFDBQiwUm9cKgFWz9Z19Y6DAdaie09TJrcQpt5URkAAAV8KEGD5si0UhUAFAQKscGwIAqxw9NnLVRJgeanNXAgYKkCAlXrjUgmwjmpVV+9e5dwVWARYqfeTERBAwL8CBFj+7Q2VIVAqQIAVjr1AgBWOPnu5SgIsL7WZCwFDBQiwUm8cAVbqhoyAAAII2BEgwLKjxDEIpFeAACu9/l7NToDllXR45iHACk+vWSkCSQsQYCVNV3ZiKgFWj1Z19Z6DV2AtvOdUZWVmpL4oRkAAAQR8KECA5cOmUBICUQIEWOHYEgRY4eizl6skwPJSm7kQMFSAACv9jTvtiKbaf6BYJ3ZurJ/1aaX124s07K+favPOvZHihnZtEvn1od2alBW7accePfjhXL02dUWFBZQGWLNWbdET4xapcZ1c3TCss2rnZqV/oR5WcOBAsV6YtFSTF2/UaUc001lHtUhp9mlLN+mZz5aoXaNaunZIJ+VlZyY9XnFxsd74YoU+mbuurOc1aqT+n4HWWp+fuFQdG9fWNUM6as++A/rzR/Mj++nqQR3VtVmduDVv2F6khz6cp9179+v4wxrpo9lr1bZhLV03NLU1x504wAdsL9oXMV2/rUhXDeqobs2r7sN7X63S+zNXq3/7BrpoQFtlpPlZdovWb9fDoxeodl6WfndyZ9XNz0moS9ZarDX1aVtfvzq2nWPrcTvAsj6fL05aptenrdCcNVv1016tdOPJndWoIDey/oM/e+dpR9G+yOeifaPaCbkE4WDL6O0Zq/TRt2s0sFMjXdCvtZz4GbZzzz799eP5WrV5ly47voOs/8HDy0wBAiwz+5Zo1an/l0uiM3J80AUIsILeYdaHgAMCBFgOIDo4xBuXDdAd/5mtOau3Vhp10s2D1aywZuTXr351hv73zepKx1gBlvUHiX73jpEVRliviwe2020/6OZglf4fasyctbr4hS/KCv3wuuPVuWlBUoXv2rNfR9/1sXbt3R85/6aTO0eCiGRf05dt0o+fmFR2+uuX9le/9g2SHS5ynhWS9LrrYxXtOxD595tP7aLvNu/SC5OWRf69aZ08fT58cNwQ4YqXp+uDWWsq1XLjsMN09eBOKdUY1pP/8N/Zem7i0sjyGxfkavLNQyr1Yf7abZHQuvT19M97Vwis02E39C/jtXDd9sjUP+rZQn859yjbZSxev12D/zy+7Pgnzj9apx7RzPb51R3odoA1bt46/eK5aRVKGNatif7x896RX7v2X1/qva++i/xz5yYF+vC3xzuyLpMGmblyi854dEJZyS9d3FfHdWqU8hIeGDVXj49bFBmnbn62po0YqmyuKE7ZNR0DEGClQ937OQmwvDcP+owEWEHvMOtDwAGB6D8MnNe3VaWrehyYhiFsClh/IJq3dluVR1/Qv7XuPvuIyHuxgscF95yqL5dv1k+fOhSQWMdH3+ZosxxjDzvyzg+1dfe+svoHd2msZ3/RJ6n1vDFthX731jcVzk3F87SHP9O35QLKTo1r6+PrT0iqttKTXpy0VLe/N7vaMf579UAd0bKw2mOqC7RTWXNKizP85GjTt644Rr3a1Kuwql89Py1yRV7pqyAvSzPvPDltK1+3dbf63jsm6T1/1aszNLJcwJ6VUUML7z3NkfW4HWD1vnt0WfhfvuDS/R89/5e3naR6tRK7Os0RiDQOYv3+MnXJprIKWtStqYnDB6dcUbTts7/orcFdDl15nPIEDOCZAAGWZ9RpnYgAK638gZycACuQbWVRCDgrYP1HaPmwY+qIIVq3tUg/eOTQ/111dkZGq06gQa0cbdyxp8pDzjqquR7+Wc/Ie9UFWNatZBc+MzXpP3wGoUPRPj1b19U7Vyb3bY/PT1yiO//7rWOe/e4drbVbD14dZ73q18rRjNtOSondul30T6PmVjtGVcFJ9AkEWCm1ocqTo03/dWn/yG2C5V8/fHxiJHgu/0pnYGhdvXfM/Z8kXc8FT0/RhIUbkj6/ui64HWDF+gzECrCm3zpUDWofvL0wLK8hfx6nRet3lC03JzND8+85NeXlR9s7eeVeysUxQEICBFgJcRl7MAGWsa3zbeEEWL5tDYUh4C+BvfsPaOee/ZHnJGWWPHdl3/4D2lZyBYv1DBTrmG63f+ivwgNYjRVmWM9YqepFgGW/4U4GWC98vjRyW6dT4QIBlv0+BuFIAqyDXXQqkCPASv+nggAr/T3wewUEWH7vkDP1EWA548gohwQIsNgNCCDgqADPy3KUs8rB6uVn6/uSh7dHH2AnwJp/96masoQrsJwMsKq6PS+VP4wTYLn/OfLTDARYBFh+2o9O1EKA5YRisMcgwAp2f0tXR4AVjj57uUoCLC+1mQuBEAgQYLnfZAIsZ4wJsCo7cguhM3sr0VEIsAiwEt0zfj+eAMvvHUp/fQRY6e+BFxUQYHmhHK45CLDC1W9Wi4DrAgRYrhNHvnlpcwpXYM27+5TIw3V5BtbICs06qlVdvXtVcs/AemnSUt0W9YB0J6/AskLLL28fltLm4hlYKfG5erKdAOvsxybqqxU8A8tOI/x2C+EXtw5VQ56B5cozsB4//2id5tC3V9rZWxzjnAABlnOWfh6JAMvP3TGzNgIsM/tG1Qj4VoAAy/3WFNbM1pZde6ucyM4thARYB+mi92pKAdbkZbrt3VkVekKA5f5nISgzEGAd7GQqn5nye4EAK/2fDK+uwCLASn+vk62AACtZObPOI8Ayq18mVEuAZUKXqBEBgwQIsNxvVp28LG0teXh+9GwEWPb9nbyF8CWXAyy+hdB+X0080k6AxbcQ2u+s3wIsvoVQ4lsI7e/fsBxJgBWOThNghaPPXq6SAMtLbeZCIAQCBFhmNPkXx7TV858vTbjYHq3q6uuo25gSGeSwJrV1yuHNZH2R5YD2DXTuPyZHTo817iPn9dRH367Vf7/+rsI0t57eVYvWb9drU1eU/XrjglxdM6RTpSuhrAOuG9pJQ7s20X++/i5y+2T0rVjWMS3q1tT/rhmoFyYt1bh56zV3zVbt3nug0vL+em4Pfbd5t7Iza6hefo5uevObKgn6tq2vJRt3qFW9mpqx/OCtXzlZGTqle1MVS5XWNLRrYw0/tauuee1LzVm91RZr+0a1dOWJHTX8rW+074A1qmSNU6dmtt6esapsDKvmeWu268nxi2yNe1K3Jvr427WRY/NzMiPfQGrn1b15Hc3+rmLtPx/QRr8depg+X7RRXyzbpDe/WKnd+/br7SuO1eg5a/XwmAUVhv7lsW0j37L53lcVe96laYHmrtmmnq3rqmjvAa3fXqSuzeqoQa0cdWhUS784tp3mrdmqHz8xSf3b19fLF/eL9Pv6N76uVLr1h+kaNaSifQcif7C+4sQOunBAG9Wtma1Xpy7Xp/PXa/+BYi3ZsEPrtxVpR4z1H9uxgb5Y+n1knAv6t9agzo01ben3EWdrj9/zwyM0d/VWvTBpWaUa/vyTHvpw9prI/o5+Wf5/O/coXfnKDI2fvz4mffk+dWpcWwvWbbfTJs247ST98vlpZZ/lrIwaalA7RzuL9mtb0b7IGJcMbKenJyyJ/HOftvXUrVkdzV+7XfuLiyOfoepe1ni929bTgrXbtTHqG1Ot96xvra3qNuhzerVUy3o1I58Tq8fW3x/8cF6lqW4cdpgu7N9Wt743K/I5stael52pmau22Fq/ddDvT+mi5yYu0bptRZFzauVk6uTuTSP1Lli7TUO7NdGsVVvKPrt2Bv6/fq1l/WHtlSnLKxx+bu9WOqFzo8itbtbe+vmzU6sczvqZ8sxFfZSVWUMTFmzQ9qJ9mrH8e+VlZUZ6W/7KW+uK0dKfYw1r5+iC/m10XKdG+uVzUyM/C4Z1a6Lpy79Xs8Kasj6Xz02s+PP+nSuPUc/W9SJ1bN65R6f87TPt2LNPd599uIa/NVO79h76zB/ZsjBiMaBDg8jPxOnLvq9Q/8ndm2j0nHWRz0x1L6tvFx3TVgV52ZHDPl+0Qb957Usd1qRAfz33KDWpkxdZ85PjFunRsQsrDRXr963H/u9onX5ks8jxVp0fzFqtMXPWRX5e3P6DbirIy9LLU5aX7fdrh3SSNVa9WjlVlvvNys269MXpysvOUJemdSJfenL14E66aEAbZWVmlJ2za89+/W3MfL34+bLI7zEXD2xX4X3Lw/p5smFbkayfgw1KbiP9fOEGTVy0QYc3L4z8rG9Rr6Y6NKqtsfPW6diODXVMh4aRXr/4+VLl52ZFzs3OzNDuvftlfeOt1V/r56T1ay9NWhb5NmhrPYX5B12t+q2fLX3bNdAJhzWys3XTcgwBVlrYPZ+UAMtz8sBPSIAV+BazQAS8FSDA8tab2ZwV6NGyUF+vtP+HYGdnZ7RUBHq3qacvov5gnch4VkB2YufGtkO+RMbmWAQsASt0iA6S0ikz4feD1LJefqXbqd2s6bhODfXSxf0iQdMPHplQYarF956mX70wLfI/EBJ9jbvxxEjYPvBPY7Vnf+X/8RA9nvWz/r2rB1aa5rvNu3TM/Z9UOf1lx7fXzad1LXvvqldmaOTM1WX/Hv3+nz+ap0c+ORjEWT9fRl13fCRcOuuxiSqOkfVZwfp/rhqou0d+qyklQbEVYP3xrMN13b++1Lslwb4VXlthb+l+sn7+vXnFMbLqP/6BsWX/Q+ONywaob7v6iXJ6cjwBlifMaZ+EACvtLQhcAQRYgWspC0IgvQLdbx8V82qF9FbG7AgggAACCCBQKvCjo1vojjO6q8cfPvIUZf7dp+r8pydHrlYs/3rt1/113j8PXpWb6Cszo4bO79daL1ZxtWOssUoDvPLv/+7Nr/XGFytjTl/+OW1V/Q+76t4fff0JuuHfX8e9irmqqymtceP9D0Lrysr7P5hTof62DfI17qZBiXJ6cjwBlifMaZ+EACvtLfCkgLMlXS6pp6RCSdY19KMk/VmSvWv/7ZdJgGXfiiMRQMCGgHUJ/OUvTY/cUsMLAQQQQAABBPwpYN2O+48Le6vPPaM9LXDuXaeoz92jy25XLZ38ifOP1hWvzEi6Fuvqrs8WbLB9/ujrj1fHxgUVjv/Jk59XCtbKH5BKgPXeVcfqJ09OsnWFWPQi7ARYnw8frGv/9WWl+p36cgTbsDYPJMCyCWX4YQRYhjcwTvlWf5+W9KsYx1kPNjhX0vsOMhBgOYjJUAggcFBg9ZZdkeebWF8bPm/NNk1YuCHy7Ix2DWpFnk1hPbemUUFu5Dk3Rfv2687/fKvlm3bChwACCCCAAAIeCaQrwJr9h5PV/94xlQIs61lWV71KgFVV++0EWBOHD47cZhh9ZRsBlkcfKKapUoAAK9gb4xZJ95Qs8Y2Sf7ZurO4v6WFJ7SRZIVYvSfMdoiDAcgiSYRBAIHkB66qtXz43LfkBOBMBBBBAAAEEEhJIV4D19R3DNPD+TyoFWI/+X09d/eqXCa2h/MF+vwLr3auO1U9dvALrs98N0vVvfEWAlfQO4kQ3BAiw3FD1x5hNSm4PtAKlkZLOkCJfUlT6amt9sYb1JSmS3pT0E4fKJsByCJJhEEAgeQECrOTtOBMBBBBAAIFkBKxvMvzHz3up7z1jkjk96XOsZzVZDxq3vnGw/Mv61lnrW1iTfSUaYH382+PVqUnFWwjPeeLzar8MIpVbCL0IsH77+leV6ucKrGR3FOc5IUCA5YSiP8e4SdIDJaUdJanydz5Lf5H0W0nWg2Ws74pd58BSCLAcQGQIBBBITWDcvHX6BVdgpYbI2QgggAACCCQgkK4Aa+qIIRr80PhKAdbfz+up3xBgVdlBO7cQjr/pRN3wxtcEWAl8BjjUfQECLPeN0zXDp5KOk7RA0mExijhG0sSS9y6W9KwDxRJgOYDIEAggkJoAAVZqfpyNAAIIIIBAogLpuoVw0s2DNewvn1a6hfDhnx2la//1VaLLKDs+0SuwvH6Iu9tXYH1ywwn6/VvfcAth0juIE90QIMByQ9UfY26TVFvSy5IujFFSrqQdkjIlPSbpagdKJ8ByAJEhEEAgNQECrNT8OBsBBBBAAIFEBdJ1BZb1rKZTH/6s0hVYfzv3KF33uncBlte3EL5z5TE696nJrn0LoRXIDX9rJldgJfpB4HhXBQiwXOVN2+AtJK0smf2Pku6oppLlklpJsr7v9iQHKibAcgCRIRBAIDWB8fPX66Jnp6Y2CGcjgAACCCCAQEICvxncUX//ZGFC56R68OUndNCT4xdVGmZwl8b6ZK4TT0ixV+Evj22rZoV5FQ6+9/251Z58y2ldyt6v6tjq3v/5gDZ6cdIye8VFHWWNG6+2Swa209MTllQan2dgJUXOSQ4JEGA5BOmzYXpIKv3fDddIerSa+qZLOlqS9YRD6+92XlZIFeuVX/osre3bt6tWreoOtTMVxyCAAAKJCxBgJW7GGQgggAACCCCAQDwBAqx4QrzvpgABlpu66Ru7/LOtfi3p6WpKmSDp2DjPyoo+vfy3GcYcmgArfRuAmREIu8D8tds07K/WowB5IYAAAggggAACCDglQIDllCTjJCNAgJWMmv/PIcDyf4+oEAEEXBY496lJmrJkU4VZfnx0S304e02l52S4XArDI4AAAggggAACxgt0alxbH19/gi/XsWPHDtWubT0COvKy/sF61jOvgAkQYAWsoSXL4RbCYPaVVSGAQAICu/fu10ffrlWj2rnasmuv8rIzdMJhjbTy+136Ytkm1crJ0qUvWXdRS6/+up+6Ny/UVa/M0ISFG6qcxTp/994DCVQQrkPP69tar021HquY2Mv6j+EF67YndlK5o2vlZOqIloXatWe/+rStX/a8jtb187V8085K41oh5qRFG/Tdlt0V3jv9iGaR42eu2lLp10fOXF1pHGsvdWxcWxMWbNDmXXu0dmtRpWN+f8rBZ5uMnbdO323eFdl7Vb3O6dVSSzbsUE5mhto2rFXm+Ovj2unVKcu1Y89+/bBnC306f7027dyj+vk52rhjT9lQLerWVP1aOZVqt2yHdW8SeUbKtt37bBlbnkO7NdF7X31XdnybBvmR2sr36dzerdSqfk29/eUqLV4f/88IfdrWK/smq4LcrErfFlY62amHN9UHs9aUzd2kTm4l2y5NC2T1yzKb9d0WzV97cP9cdkJ7zVq1RRMXbqyw1sOa1FbNnCx9vWJzhV+33FZt3iXr7xt3FEU+3w1r56hefo4K8rIiDhu27dGzE5dEnmtjPd9mzupteufLVZUsc7IytGffoZ8PR7Ys1NCuTSI/dyYt2hg5b9+BYm3ZtUd798e+kN2yXrbx4L5t17CW+rdvoG+/26KvVx7cl2cf1TzS50VVmFt7ZM7qrZq7xvoen0Mvy6th7VxZ36j2+hcrqu2XdWzp+ZbFhu0H91l2Zo1q6/7dKZ31zGdLKuzLaCTrM2Pd3m29OjQ6+IgJ62dzdmaGVpd8Hq1fr1Gjhrbt3lup73Xzs7V5515b+7j0oK7N6ig3K0N1alrn7lHjgjyNnrO20hj92tXXiZ0b672vVkXWb81l7fl12yp/rmMVYO3dUbPXqLikvda8bRvUivwPE2ufHd26ruat2Rb5PFf1sj4XzevWjLzVtDAv4rJ04w5Zf1hr06BWpP4vln0v60Hp1u9v3ZrVUZdmBVqyYWe1P3sv6N86Mua0Jd9H9rX1mbHGjv6ZYO3x0j4U1sxW2wb56tuuvv752cFnIFn70frMWZ9J6zMSvc9+dWw7NS20vh9Kkb3y4IfzIv/8k14t9e/ppY/mPbjyxgW5EdumdfKUmVEj4lP+VdXPb2v/WPtz0uKN6t2mvpZv2qGde/ZHfl+vUfIn2hWbdumlycsiPw8v7N9GtXIzI5+7j79dqy+XV/z8W/NZ+2NA+waRz3j5l/Uz2fq5Yb3WbS3SZws2aOvuvREfq8/WfJ/N31D2c6xHyec9Nzujyt5avz88M2FJ5HPUrLBm5PeaEzs30jEdGlQ4/kCxIj//rJ9V1rqO7Vjxfetg62fBuq27NahLY2VlHFy49TPji6Xfq0erQn27emvkZ5o1j/Wzp0+7erI8rZ5Ye792bpYGdmwYWYM139i567T/QLGGdG2izAxp+rLvtXH7Hg3uemj8NVuKNHHhBh3dpq4GdW6sYd2bxvoYpPXXCbDSyu/Z5ARYnlF7OlEiD3FfIaklD3H3tD9MhgACCCCAAAIIIIAAAggg4JAAAZZDkD4fhgDL5w1Ksjyrr1tLLp18SdLPY4xj/W8S63+bZkp6TNLVSc5X/jS+hdABRIZAAAEEEEAAAQQQQAABBBCwJ0CAZc/J9KMIsEzvYOz6racXHydpvqTOMQ4r/6ysiyU96wAHAZYDiAyBAAIIIIAAAggggAACCCBgT4AAy56T6UcRYJnewdj13yTpgZK3j5Q0s4pD/yLpt5KshzY0s27zdoCDAMsBRIZAAAEEEEAAAQQQQAABBBCwJ0CAZc/J9KMIsEzvYOz6m0haLClf0n8lnRl1aFtJsyRZgdOb1jMWHaIgwHIIkmEQQAABBBBAAAEEEEAAAQTiCxBgxTcKwhEEWEHoYuw13CLpnpK3Xy/5Z+urffpJ+rv1hSKSrK/u6VVyq6ETGgRYTigyBgIIIIAAAggggAACCCCAgC0BAixbTMYfRIBlfAurXYDV36cl/SrGUVZ4da6k9x1kIMByEJOhEEAAAQQQQAABBBBAAAEEqhcgwArHDiHACkeffyjpMklHS6oj6TtJH0p6SNIihwkIsBwGZTgEEEAAAQQQQAABBBBAAIHYAgRY4dgdBFjh6LOXqyTA8lKbuRBAAAEEEEAAAQQQQACBkAsQYIVjAxBghaPPXq6SAMtLbeZCAAEEEEAAAQQQQAABBEIuQIAVjg1AgBWOPnu5SgIsL7WZCwEEEEAAAQQQQAABBBAIuQABVjg2AAFWOPrs5SoJsLzUZi4EEEAAAQQQQAABBBBAIOQCBFjh2AAEWOHos5erJMDyUpu5EEAAAQQQQAABBBBAAIGQCxBghWMDEGCFo89erpIAy0tt5kIAAQQQQAB3j3N8AAAaxklEQVQBBBBAAAEEQi5AgBWODUCAFY4+e7lKAiwvtZkLAQQQQAABBBBAAAEEEAi5AAFWODYAAVY4+uzlKgmwvNRmLgQQQAABBBBAAAEEEEAg5AIEWOHYAARY4eizl6skwPJSm7kQQAABBBBAAAEEEEAAgZALEGCFYwMQYIWjz16ukgDLS23mQgABBBBAAAEEEEAAAQRCLkCAFY4NQIAVjj57uUoCLC+1mQsBBBBAAAEEEEAAAQQQCLkAAVY4NgABVjj67OUqCbC81GYuBBBAAAEEEEAAAQQQQCDkAgRY4dgABFjh6LOXqyTA8lKbuRBAAAEEEEAAAQQQQACBkAsQYIVjAxBghaPPXq6SAMtLbeZCAAEEEEAAAQQQQAABBEIuQIAVjg1AgBWOPnu5SgIsL7WZCwEEEEAAAQQQQAABBBAIuQABVjg2AAFWOPrs5SoJsLzUZi4EEEAAAQQQQAABBBBAIOQCBFjh2AAEWOHos5erJMDyUpu5EEAAAQQQQAABBBBAAIGQCxBghWMDEGCFo89erpIAy0tt5kIAAQQQQAABBBBAAAEEQi5AgBWODUCAFY4+e7lKAiwvtZkLAQQQQAABBBBAAAEEEAi5AAFWODYAAVY4+uzlKssCrLVr16pWLetfeSGAAAIIIIAAAggggAACCCDgjoAVYDVp0qR08NqSdrgzE6OmU4AAK536wZy7kaR1wVwaq0IAAQQQQAABBBBAAAEEEPC5QGNJ631eI+UlIUCAlQQap1QrQIDFBkEAAQQQQAABBBBAAAEEEEiXAAFWuuRdnpcAy2XgEA5v7amGJeve6eP155e7Usz6AefnWn3MaHRp7AGj2+dI8ewBRxiNHoQ9YHT7HCmePeAIo9GDsAeMbp8jxbMHHGH0xSBWL63XBknFvqiIIhwVIMBylJPBDBIoe1aXJO6RNqhxDpbKHnAQ09Ch2AOGNs7BstkDDmIaOhR7wNDGOVg2e8BBTEOHYg8Y2jjKDp8AAVb4es6KDwrwGxU7gT3AHmAPsAfYA+wB9gB7gD3AHmAPsAcQMESAAMuQRlGm4wL8RuU4qXEDsgeMa5njBbMHHCc1bkD2gHEtc7xg9oDjpMYNyB4wrmWOF8wecJyUARFwR4AAyx1XRvW/AL9R+b9HblfIHnBb2P/jswf83yO3K2QPuC3s//HZA/7vkdsVsgfcFvb/+OwB//eIChGICBBgsRHCKsBvVGHt/KF1swfYA+wB9gB7gD3AHmAPsAfYA+wB9gAChggQYBnSKMp0XIDfqBwnNW5A9oBxLXO8YPaA46TGDcgeMK5ljhfMHnCc1LgB2QPGtczxgtkDjpMyIALuCBBguePKqP4X4Dcq//fI7QrZA24L+3989oD/e+R2hewBt4X9Pz57wP89crtC9oDbwv4fnz3g/x5RIQIRAQIsNgICCCCAAAIIIIAAAggggAACCCCAgK8FCLB83R6KQwABBBBAAAEEEEAAAQQQQAABBBAgwGIPIIAAAggggAACCCCAAAIIIIAAAgj4WoAAy9ftoTgEEEAAAQQQQAABBBBAAAEEEEAAAQIs9gACCCCAAAIIIIAAAggggAACCCCAgK8FCLB83R6KQwABBBBAAAEEEEAAAQQQQAABBBAgwGIPIIAAAggggAACCCCAAAIIIIAAAgj4WoAAy9ftoTgEEEAAAQQQQAABBBBAAAEEEEAAAQIs9gACCCCAAAIIIIAAAggggAACCCCAgK8FCLB83R6Kc1HgbEmXS+opqVDSd5JGSfqzpEUuzsvQsQVqSjpF0sn6//buPFaarKwD8C+ASFjUCLKoiIhxGQUVEBdUUMGIy6goTNQosggmgIi4BU1wgWiEgCDwh7JrVNDBIIwRkTAIqIjKIihgFFxZRCAwgIAy5tXTsabpvl9VV917T3c/lUxmMre66tRz3j5V9fZZki9Ocosk10ny7iSvSXJpkqcm+cCWQzwtyT1GAP9okkddYL+58XGjJA9JcnGST0vy/iSvS1JlrH+uHFHOY9vl05O8acRFvy/JdU/Ybwl79T+iIk5hlzcnudmE496zfZ9WH9EGTMA7x13r2fNzktxu8M+tklwzyQeTXGtk2Q7luz63vRnJ1dVuc2Og4qfur3dM8vlJKhb+K8k/J/njJE9M8qoTrnip+02dooc47KpyRxZmbgwcWnt/jO3AyFCxG4GrCkhgiYhjE6iYf1KSe2258CuSXJLk948NpoPrfU+S612gHK9vD61/t2G/JR5mloiP2ya5LMkNt1xLJUrrQaVe1Gz/L7DEC8Vce/V/vhE5NYFV9f2XgyJrA863/sae/aTv+tgE1iF815dob8aa97bfnBioH4cu9CPUR5L8XJKf3nLhS9xv6tA9xGFvdTu2PHNioM5xKO39MbcDY2PFfgSuIiCBJSCOTeChSR7RLvpZ7b/fkuRLkzw2yc2TVBLrNkneeGw453y91SupXl6eneQ5SV6R5F2tB9P9Wo+5arPqJfeWrZ6GRV49zLw0yV1OuJY6x4e3/H1ufNyg9Ra7SZL/SPKgJC9svfwekKT+qe1Xk9z3nL17O/3wYfYbkrxkSwErTqoX1vq2hL36P9+ouHaSq51QhPr+/22ST2n/vmhtX23A+dbf2LMPv+v/0tr6+v5+5cgeWIfyXZ/b3oz17nG/OTFQSamHJXlDkme0e2z13r16kjskeXjrwV3X/cAkj98AMPd+U4fsIQ57rNuxZZoTA3WOQ2nvj7kdGBsr9iNwFQEJLAFxTALVzbuGB9awtOoh881rQ7nqZvra9vffSXK3Y8Lp4FrrIbN+MX3blrL8eJJfaH+r//7FLS+vL27DCqZe0hLxUb8K16/D9evv7ZP82Voh6hrv3/7+hUn+emohD3j/4cPsVye5fOK1zrVX/xPBz2H3ejldxUU99P+8NuAcamH+Kaun7dckeXmSt7bDrZISY3pgHcJ3fYn2Zn5NnN8R5sTAd7cfsOqHrk1bJZb+KslN2xQEN97Q43nu/abO20Mcnl8Nzj/znBgYJrD2+Znv2NuB+VHkCEcpIIF1lNV+tBddcx+tkh6VPHj1BolHJ3lwSzBUL5q3H61Wfxd+jfayc/32EltJjuG2+jVu14eZufHxMUn+vfW2+t0kd91AWA/W/9rmennCoEdWf9pnX6I5LxRL2Kv/s6/zqWes4d/3bj881FxZNd+NNmCqYp/7j01gHcp3fW5702ctzivV2BgYc5Z6jqvnudpqnqx6Lhhuc+43dZwe4nCMw77tMyUGDuGZTzuwbxGqvF0ISGB1UQ0KcUYCNbFnDVGo+ZM+a8s5vzzJy9rf6kXpKWdUNqcZJ/CnbbhnDe/87IVfXufGR/UoqOGCtdUvxL+x5ZL+MMmd28t3TfBu+z+BOS8US9ir/74jsSb2rt46tejGi1oPnvUSz32hEQPnFwNjX1wP5bs+N9bOr6ZO78xjY2BMCWoxmJpvsrbvSvKbax+ac7+pQ/UQh2Mc9m2fKTFwCO29dmDfIlR5uxCQwOqiGhTijATe21Yv+/Uk37PlnB/b5tepuRT0kDmjiplwmn9o85T9RVupcPjR9YeZqsPa/nvk8efGx48keWQ712eesJplDZP8qbbfJyV5x8jyHfpum14oalWyD4248CXs1f8I6HPc5e5JntnOv7764KpY2oBzrKCZpx774noo3/W57c1M7i4/PjYGxhT+e5M8ve34TW3aiOHn5txv6jg9xOEYh33bZ0oMHEJ7rx3YtwhV3i4EJLC6qAaFOAOBmvS3Jout7WfbBKDbTvtPbe6EP2o9Zc6geE4xQuCL2rwWtWvNJVWTsw631cPMO9u8FzUhf201rO9P2sTp21aXXCI+amL2+7Thp5UIrSW9N221AuaT2x++YtDjbwTBQe8yfKF4XeuRVfPV1Zw4NXH385L88pZhvXPt1X//ofXcJPUi+oG2bH09+K9v2oD+63FbCce+uB7Cd32J9mZ/a3p7ycfGwJhrr/mxLm7345oDq54Dhtuc+00dp4c4HOOwb/tMiYF9b++1A/sWncrbjYAEVjdVoSCnLPAFSV7VzrFtVZpVEWpZ9lsneWX79ykXzeFHClRC8Wvb/DdVn+sToI9ZUvnS1vuuXoKH2xLxUfNefWtbfbDmutq21eIBv9f++C2D/x7JcLC7jVnWvFal/M4kz19TmGuv/vsOq+qp+G9Jah68GgpUQ4I2bdqAvuvxpNKNfXE9hO/6Eu3N/tb09pKPjYELXXtNFVFDs2rbtiDPnPtNHbeHOLyQwz7+fUoM7Ht7rx3YxwhV5i4EJLC6qAaFOAOB4dxW35+kJgPetr20rSB30lxZZ1BkpxgIDCe6fGJbyW8dqFYovLLNe1FDDWs1w09MUpO915C9i9oHnpXkkrUPLxEfq7mtapL2Tz2h9u6U5AXt7yfNlXVsAVDzgf1KmzusVpCqCbo/3OY6+75W5zUstJKP1XOt9lltc+3Vf9/RVj86PK4V8S6DuW20AX3X25TSjX1xPYTv+hLtzRTbfdl3bAycdD21yEvdG+p+ckWSShLU88D6Nud+U8fqIQ73pV6nlHNKDOz7M592YEpk2JfAQEACSzgci4Abxf7WdE3GelmSSl5Ur6svaUmMKVd07fbAefv2oUpqXT44wBLxMfeBdsr1HOO+1bvt2UnqvrW+0uRce/Xfd0S9PMnt2iTulRweO6/d8Kq0AX3X8dgX10P4ri/R3vRdm7uVbmwMbDt6rQxYE7fXBOu11VynNefpLttJ9xsJrF1Ex31mbgyszrIP7b12YFxM2IvARwlIYAmKYxHQVXc/a/o2bcWx67UeOZWAqp45u2yfm+Rv2gdr/or7Dg6yRHzMHVKwyzUd22d+a9B7ruaPqGFltc21V//9RlKtGPuGVrxHJ3nIjKJqA2bgnfJHx764HsJ3fYn25pSr41wOPzYGNhWu3md+ra0AXH//mSR1vDnbtvtNL/ecOdfW62fnxMD6NfXe3msHeo1C5epeQAKr+ypSwIUEpkyWWAmS+pXfJO4L4e94mHpxreGcNf9NTcD6VUlev+OxVh+rYaG1QuArWo+O1f9fIj5Wk7pW75BrnTCJ+70HQ1hN4j6tQmvI5eoX9W9MspqUf669+p9WD2e593DVzlrIYTWX4a5l0AbsKne6nxv74noI3/Ul2pvTrY3zOfrYGNhUul9K8qD2h1rs4wcXuIRt95s6dA9xuMAldneIOTGw6WJ6bu+1A92FnwLti4AE1r7UlHLOFahYf0+S67Zf6WqJ5U1brR73vjZc7QlJHjD3xD6/k8BNW/Kq5qmoeqshf8M5j3Y6aFvxr7ptr89vtkR8DJfVvsWWeTeq3A9P8pPtAio5945dL+YIP3fnNhS0Ln04f9hce/XfZzBVvdT8NTXhcg0fvtUCxXxZEm3AApALH2Lsi+shfNeXaG8W5u/icGNjYL2wDxv0tqpeWPdo82HOvaht95s6bg9xOPf6evz8rjGw7Vp6bu+1Az1GoDLthYAE1l5Uk0IuJFCr0tTqNG9sE0NvOuxwTHr1lHnKQud2mPECldR5SaujmrD76wcrCo0/yuY9/z7JZ2zogVV7z42Pmnfjhe20tUparZa2aVvN4VI9/SpBZxsvUHOaPKPtPuyBtYS9+h9fD2e153A1sR9L8sgFTqwNWADxFA4x9sX1UL7rc9ubU6iCcz/k2BgYFrR6Wj22/Y/nJPmOE3o/T73AbfebOk4PcTj1evZh/11i4KTr6r291w7sQ1QqY3cCEljdVYkCnaLAcCW7+iW/ftFf32qOlQcn+UiSmyR5+ymWx6E/WuDj2uTqNVSoVqCriVRXw8Tmet0yyWvaQWq1u/utHXBufNQEsjXU8ePbZOPfvqHAN0hSqxReM4keftNrtJZEX7l+cpK3tEMsYa/+p9fHaX+ivqe1amy1x9UrczXn2a7n1QbsKnf6nxv74noo3/W57c3p18jZn2FsDKxKVj3pn9YW9qgfj+pHjQ8uWOxt95s6RQ9xuOCldnOoqTFwUsH3ob3XDnQTegqyTwISWPtUW8o6V+BGbThKrU7y3CQXrx2whqm8Nsl1ktSDy93mntDnJwnUvFHPb3Nd1Qtr9WJ65sgj3Lglj7atTlZDR2tOs1rBsLY7bOjVtUR8PKpNMl3lqN58f75W/scnuX8b3lATeG5Koo685IPbreaDqOTetu3uSWpS3bpvvWiw0tRq/7n26r+vkKrh3G9N8glJXpDk6y5QPG1AX/U3tTRTXlwP4bu+RHsz1bj3/afEQD2/XZrkGklqldI7JbliwgXOvd/UqXqIwwmXvBe7jo2BQ2nvtQN7EZYK2ZuABFZvNaI8py3w0CSPaCep5Ej9d70kVWLjcUlu3h6CavW7GmpoOxuBq7deS6uk4g+3SVK3nb0SXO8f/PGH2nxlNf/Fi9scVzWX2fWT3DHJT7TJ2+sjNQl4DQ3YtM2Nj+phVb28qvdezW1Vk8rWL8PVs+yB7Z867/oqiGej3PdZqvdaJaZqGMgrk7wtydXaUNL6pf0+LXlV9VqrUb567XKWsFf//cRIDQX67Vacqv/6bp+0aQP6qbsxJbmotYurfev7XcP2P9R+YBgeo9qDYc+aQ/muz21vxjj3vM+uMVBDi2sofv3oVc9plbx61wkX+p8bhhXOvd/U6XqIw57rd0zZdo2BQ2rvj70dGBMn9iFwFQEJLAFxbAIV809Kcq8tF16/4F2y4LC1Y/Pd9Xqr99ubJnz4H9vEzquP1MPMY0Z8/qlJfqC9JG3afYn4uG2Sy5LccEt5/qANjVxyqMOIS+9+l3e34ZcnFbSGkFXPvEpSbtrm2qv/fsKkEpmV0K6EZf1KXf8+adMG9FN3Y0py+YZE1bbP1Q9Lb1774yF815dob8ZY97rPrjFQwwZrovax2z3bUMPh/kvcb+p4PcThWIce99s1Bg6pvT/2dqDHuFSmzgUksDqvIMU7NYFva3Mg3br9ClwvxjV8rbqE16SPtrMVmJvAulmbvPXLknxe+2W0hh5VL62aLL1WonnyhiF9265ybnzUC3etUlQv4DV3T01G/7oklUCrh+8rz5Z3L85217bIQvWGrOEd9et2DQ95Z+tt9bwkT0/y3gtczRL26v98Q6Z6Ttb8ZjXPTPW82rZq7LCU2oDzrbOpZ9/1xXV4nkP5rs9tb6ba97L/rjGwRAJrqftNWfYQh73U6dRy7BoDh9jeH2s7MDVm7E/gf+cSsREgQIAAAQIECBAgQIAAAQIECBDoVkACq9uqUTACBAgQIECAAAECBAgQIECAAIESkMASBwQIECBAgAABAgQIECBAgAABAl0LSGB1XT0KR4AAAQIECBAgQIAAAQIECBAgIIElBggQIECAAAECBAgQIECAAAECBLoWkMDqunoUjgABAgQIECBAgAABAgQIECBAQAJLDBAgQIAAAQIECBAgQIAAAQIECHQtIIHVdfUoHAECBAgQIECAAAECBAgQIECAgASWGCBAgAABAgQIECBAgAABAgQIEOhaQAKr6+pROAIECBAgQIAAAQIECBAgQIAAAQksMUCAAAECBAgQIECAAAECBAgQINC1gARW19WjcAQIECBAgAABAgQIECBAgAABAhJYYoAAAQIECBAgQIAAAQIECBAgQKBrAQmsrqtH4QgQIECAAAECBAgQIECAAAECBCSwxAABAgQIECBAgAABAgQIECBAgEDXAhJYXVePwhEgQIAAAQIECBAgQIAAAQIECEhgiQECBAgQIECAAAECBAgQIECAAIGuBSSwuq4ehSNAgAABAgQIECBAgAABAgQIEJDAEgMECBAgQIAAAQIECBAgQIAAAQJdC0hgdV09CkeAAAECBAgQIECAAAECBAgQICCBJQYIECBAgAABAgQIECBAgAABAgS6FpDA6rp6FI4AAQIECBAgQIAAAQIECBAgQEACSwwQIECAAAECBAgQIECAAAECBAh0LSCB1XX1KBwBAgQIECBAgAABAgQIECBAgIAElhggQIAAAQIECBAgQIAAAQIECBDoWkACq+vqUTgCBAgQIECAAAECBAgQIECAAAEJLDFAgAABAgQIECBAgAABAgQIECDQtYAEVtfVo3AECBAgQIAAAQIECBAgQIAAAQISWGKAAAECBAgQIECAAAECBAgQIECgawEJrK6rR+EIECBAgAABAgQIECBAgAABAgQksMQAAQIECBAgQIAAAQIECBAgQIBA1wISWF1Xj8IRIECAAAECBAgQIECAAAECBAhIYIkBAgQIECBAgAABAgQIECBAgACBrgUksLquHoUjQIAAAQIECBAgQIAAAQIECBCQwBIDBAgQIECAAAECBAgQIECAAAECXQtIYHVdPQpHgAABAgQIECBAgAABAgQIECAggSUGCBAgQIAAAQIECBAgQIAAAQIEuhaQwOq6ehSOAAECBAgQIECAAAECBAgQIEBAAksMECBAgAABAgQIECBAgAABAgQIdC0ggdV19SgcAQIECBAgQIAAAQIECBAgQICABJYYIECAAAECBAgQIECAAAECBAgQ6FpAAqvr6lE4AgQIECBAgAABAgQIECBAgAABCSwxQIAAAQIECBAgQIAAAQIECBAg0LWABFbX1aNwBAgQIECAAAECBAgQIECAAAECElhigAABAgQIECBAgAABAgQIECBAoGsBCayuq0fhCBAgQIAAAQIECBAgQIAAAQIEJLDEAAECBAgQIECAAAECBAgQIECAQNcCElhdV4/CESBAgAABAgQIECBAgAABAgQISGCJAQIECBAgQIAAAQIECBAgQIAAga4FJLC6rh6FI0CAAAECBAgQIECAAAECBAgQkMASAwQIECBAgAABAgQIECBAgAABAl0LSGB1XT0KR4AAAQIECBAgQIAAAQIECBAgIIElBggQIECAAAECBAgQIECAAAECBLoWkMDqunoUjgABAgQIECBAgAABAgQIECBAQAJLDBAgQIAAAQIECBAgQIAAAQIECHQtIIHVdfUoHAECBAgQIECAAAECBAgQIECAgASWGCBAgAABAgQIECBAgAABAgQIEOhaQAKr6+pROAIECBAgQIAAAQIECBAgQIAAAQksMUCAAAECBAgQIECAAAECBAgQINC1gARW19WjcAQIECBAgAABAgQIECBAgAABAhJYYoAAAQIECBAgQIAAAQIECBAgQKBrgf8B5IStF1CEUBcAAAAASUVORK5CYII=\" width=\"640\">"
      ],
      "text/plain": [
       "<IPython.core.display.HTML object>"
      ]
     },
     "metadata": {},
     "output_type": "display_data"
    },
    {
     "data": {
      "text/plain": [
       "[<matplotlib.lines.Line2D at 0xa423c18>]"
      ]
     },
     "execution_count": 11,
     "metadata": {},
     "output_type": "execute_result"
    }
   ],
   "source": [
    "%matplotlib notebook\n",
    "plt.plot(d.bins)"
   ]
  },
  {
   "cell_type": "code",
   "execution_count": null,
   "metadata": {
    "collapsed": false,
    "scrolled": false
   },
   "outputs": [],
   "source": [
    "f=EventFlags(es[2][2]['flags'])\n",
    "f.channel"
   ]
  },
  {
   "cell_type": "code",
   "execution_count": 12,
   "metadata": {
    "collapsed": false,
    "run_control": {
     "frozen": false,
     "read_only": false
    },
    "scrolled": true
   },
   "outputs": [
    {
     "data": {
      "text/plain": [
       "(array([], dtype=int64),)"
      ]
     },
     "execution_count": 12,
     "metadata": {},
     "output_type": "execute_result"
    }
   ],
   "source": [
    "import tes.mca as mca\n",
    "d=bs.distributions[0]\n",
    "eset=np.uint64(1)\n",
    "bset=np.uint64(0)\n",
    "cset=np.uint64(20)\n",
    "\n",
    "stop=d.stop_time+eset+cset\n",
    "start=d.start_time+bset+cset\n",
    "bins=np.zeros((d.last_bin+1,),dtype=np.uint32)\n",
    "\n",
    "if d.value==mca.Value.raw_signal:\n",
    "    tname='raw'\n",
    "elif d.value==mca.Value.filtered_signal:\n",
    "    tname='filtered'\n",
    "elif d.value==mca.Value.slope_signal:\n",
    "    tname='slope'\n",
    "\n",
    "for i in range(start,stop):\n",
    "    s = traces[tname][i]\n",
    "    if s < d.lowest_value:\n",
    "        bins[0] += 1\n",
    "    else:\n",
    "        bin_number = s - d.lowest_value + 1\n",
    "        if bin_number < d.last_bin:\n",
    "            bins[bin_number] += 1\n",
    "        else:\n",
    "            bins[d.last_bin] += 1\n",
    "        \n",
    "bad=(bins-d.counts).nonzero()\n",
    "bad"
   ]
  },
  {
   "cell_type": "code",
   "execution_count": null,
   "metadata": {
    "collapsed": false
   },
   "outputs": [],
   "source": [
    "d.counts[bad][1:10]"
   ]
  },
  {
   "cell_type": "code",
   "execution_count": null,
   "metadata": {
    "collapsed": false
   },
   "outputs": [],
   "source": [
    "bins[bad][1:10]"
   ]
  },
  {
   "cell_type": "code",
   "execution_count": null,
   "metadata": {
    "collapsed": false
   },
   "outputs": [],
   "source": [
    "d.value"
   ]
  },
  {
   "cell_type": "code",
   "execution_count": null,
   "metadata": {
    "collapsed": false,
    "scrolled": false
   },
   "outputs": [],
   "source": [
    "%matplotlib notebook\n",
    "plt.step(np.arange(len(d.bins)),d.bins)\n",
    "# plt.step(np.arange(len(d.counts)),bins)\n",
    "plt.plot(bad,np.zeros_like(bad),'.k')"
   ]
  },
  {
   "cell_type": "code",
   "execution_count": null,
   "metadata": {
    "collapsed": false
   },
   "outputs": [],
   "source": [
    "sum(d.counts)"
   ]
  },
  {
   "cell_type": "code",
   "execution_count": null,
   "metadata": {
    "collapsed": false
   },
   "outputs": [],
   "source": [
    "2**14+2000"
   ]
  },
  {
   "cell_type": "code",
   "execution_count": null,
   "metadata": {
    "collapsed": false,
    "run_control": {
     "frozen": false,
     "read_only": false
    }
   },
   "outputs": [],
   "source": [
    "def plot_event(event_tupple):\n",
    "    pre=200\n",
    "    post=1000\n",
    "    timestamp=event_tupple[0]\n",
    "    event_type=event_tupple[1]\n",
    "    event=event_tupple[2]\n",
    "    flags=EventFlags(event['flags'])\n",
    "    print(flags)\n",
    "    print('timestamp',timestamp, 'time', event['time'])\n",
    "    if flags.type == Event.tick:\n",
    "        return\n",
    "    s=traces['filtered'][timestamp+20-pre:timestamp+20+post]\n",
    "    r=traces['raw'][timestamp+20-pre:timestamp+20+post]\n",
    "    i = np.where(abs(minmax['clk'])<=timestamp+20)[0][-1]\n",
    "    min_t=abs(minmax['clk'][i])-(timestamp+20)\n",
    "#     print(minmax['clk'][i],min_t,i,timestamp)\n",
    "    plt.plot(r,'k',linewidth=0.5)\n",
    "    plt.plot(s,'b',linewidth=2)\n",
    "    plt.plot([pre],s[pre],'sg')\n",
    "    plt.plot([pre+min_t],minmax['filtered'][i],'sr')\n",
    "    if event_type==Event.pulse:\n",
    "        for i in range(flags.peak_number):\n",
    "            p=event['peaks'][i]\n",
    "            plt.plot([0,len(s)-1],[p['height'],p['height']],':r')\n",
    "    else:\n",
    "      plt.plot([0,len(s)-1],[event['height'],event['height']],':r')\n",
    "        \n",
    "    #print(event['height'],event['minima'])\n",
    "    #print(minmax['filtered'][i]==s[pre+min_t])\n",
    "    #print(minmax['filtered'][i]==event['minima'])\n",
    "    #print(s[pre],s[pre-1])"
   ]
  },
  {
   "cell_type": "code",
   "execution_count": null,
   "metadata": {
    "collapsed": false,
    "run_control": {
     "frozen": false,
     "read_only": false
    }
   },
   "outputs": [],
   "source": [
    "pwd"
   ]
  },
  {
   "cell_type": "code",
   "execution_count": null,
   "metadata": {
    "collapsed": false
   },
   "outputs": [],
   "source": [
    "es=bs.eventstream\n",
    "es"
   ]
  },
  {
   "cell_type": "code",
   "execution_count": null,
   "metadata": {
    "collapsed": false,
    "run_control": {
     "frozen": false,
     "read_only": false
    }
   },
   "outputs": [],
   "source": [
    "%matplotlib notebook\n",
    "for e in es:\n",
    "    if e[1]==Event.peak:\n",
    "        plot_event(e)"
   ]
  },
  {
   "cell_type": "code",
   "execution_count": null,
   "metadata": {
    "collapsed": false,
    "run_control": {
     "frozen": false,
     "read_only": false
    }
   },
   "outputs": [],
   "source": [
    "es"
   ]
  },
  {
   "cell_type": "code",
   "execution_count": null,
   "metadata": {
    "collapsed": false,
    "run_control": {
     "frozen": false,
     "read_only": false
    }
   },
   "outputs": [],
   "source": [
    "dists=bs.distributions\n",
    "dists"
   ]
  },
  {
   "cell_type": "code",
   "execution_count": null,
   "metadata": {
    "collapsed": false,
    "run_control": {
     "frozen": false,
     "read_only": false
    }
   },
   "outputs": [],
   "source": [
    "bs.packets[185].payload"
   ]
  },
  {
   "cell_type": "code",
   "execution_count": null,
   "metadata": {
    "collapsed": false,
    "run_control": {
     "frozen": false,
     "read_only": false
    }
   },
   "outputs": [],
   "source": [
    "d=bs.distributions[0]\n",
    "eset=np.uint64(1)\n",
    "bset=np.uint64(0)\n",
    "cset=np.uint64(20)\n",
    "\n",
    "stop=d.stop_time+eset+cset\n",
    "start=d.start_time+bset+cset\n",
    "bins=np.zeros((d.last_bin+1,),dtype=np.uint32)\n",
    "for i in range(start,stop):\n",
    "    s = traces['raw'][i]\n",
    "    if s <= d.lowest_value:\n",
    "        bins[0] += 1\n",
    "    else:\n",
    "        bins[s-d.lowest_value] += 1\n",
    "        \n",
    "(bins-d.counts).nonzero()"
   ]
  },
  {
   "cell_type": "code",
   "execution_count": null,
   "metadata": {
    "collapsed": false,
    "run_control": {
     "frozen": false,
     "read_only": false
    }
   },
   "outputs": [],
   "source": [
    "%matplotlib notebook\n",
    "plt.step(np.arange(len(d.counts)),d.counts)"
   ]
  },
  {
   "cell_type": "code",
   "execution_count": null,
   "metadata": {
    "collapsed": false,
    "run_control": {
     "frozen": false,
     "read_only": false
    }
   },
   "outputs": [],
   "source": [
    "bins[bins.nonzero()]"
   ]
  },
  {
   "cell_type": "code",
   "execution_count": null,
   "metadata": {
    "collapsed": false,
    "run_control": {
     "frozen": false,
     "read_only": false
    }
   },
   "outputs": [],
   "source": [
    "sum(d.counts)"
   ]
  },
  {
   "cell_type": "code",
   "execution_count": null,
   "metadata": {
    "collapsed": false,
    "run_control": {
     "frozen": false,
     "read_only": false
    }
   },
   "outputs": [],
   "source": [
    "2**14+2000"
   ]
  },
  {
   "cell_type": "code",
   "execution_count": null,
   "metadata": {
    "collapsed": false,
    "run_control": {
     "frozen": false,
     "read_only": false
    }
   },
   "outputs": [],
   "source": [
    "es[3][2]['timestamp']-es[0][2]['timestamp']"
   ]
  },
  {
   "cell_type": "code",
   "execution_count": null,
   "metadata": {
    "collapsed": true,
    "run_control": {
     "frozen": false,
     "read_only": false
    }
   },
   "outputs": [],
   "source": [
    "def xings(s, thresh):\n",
    "    pos=s > thresh\n",
    "    neg=s < thresh\n",
    "    pos0=s >= thresh\n",
    "    neg0=s <= thresh\n",
    "    pos_xing_mask = np.bitwise_and(pos0[1:],neg[0:-1])  \n",
    "    neg_xing_mask = np.bitwise_and(neg0[1:],pos[0:-1])  \n",
    "    return pos_xing_mask.nonzero()[0]+1, neg_xing_mask.nonzero()[0]+1"
   ]
  },
  {
   "cell_type": "code",
   "execution_count": null,
   "metadata": {
    "collapsed": true,
    "run_control": {
     "frozen": false,
     "read_only": false
    }
   },
   "outputs": [],
   "source": [
    "from mpl_toolkits.axes_grid1 import host_subplot\n",
    "\n",
    "def plot_trace(traces,start,width):\n",
    "\n",
    "    ax = host_subplot(111)\n",
    "    axr = ax.twinx()\n",
    "    axt = ax.twiny()\n",
    "#ax.plot(t[0:-1:10],s[0:-1:10],'k')\n",
    "#ax.plot(t,s,'k')\n",
    "    axt.set_xlabel('Time ns',fontsize=18)\n",
    "    ax.set_ylabel('Voltage (Arbitary Units)',fontsize=18)\n",
    "#plt.xticks(visible=False)\n",
    "#plt.yticks(visible=False)\n",
    "#ax.set_xlim(0,t[4000000])\n",
    "#start=902000\n",
    "#width=2500\n",
    "    f=traces['filtered'][start:start+width]\n",
    "    s=traces['slope'][start:start+width]\n",
    "    t=np.arange(len(f))*4e-9\n",
    "#ts=t[pstart:pstop]\n",
    "#axins = fig.add_axes([.4, .45, .45, .4])\n",
    "    ax.set_xlim(t[0],t[-1])\n",
    "    axt.set_xlim(t[0],t[-1])\n",
    "\n",
    "    ylim=(-500,2000)\n",
    "\n",
    "    ax.set_ylim(ylim[0],ylim[1])\n",
    "    axr.set_ylim(ylim[0],ylim[1])\n",
    "\n",
    "    filtered, = ax.step(t,f,'k',lw=2,label='filtered')\n",
    "    slope, = ax.step(t,s,'b',label='slope')\n",
    "    ax.fill_between(t,0,s,alpha=.4)\n",
    "    plt.ylim=ylim\n",
    "\n",
    "pos=s>0\n",
    "neg=s<=0\n",
    "pos_xing_mask = np.bitwise_and(pos[1:-1],neg[0:-2])  \n",
    "neg_xing_mask = np.bitwise_and(neg[1:-1],pos[0:-2])  \n",
    "pos_xing=pos_xing_mask.nonzero()\n",
    "neg_xing=neg_xing_mask.nonzero()\n",
    "\n",
    "rx=[t[pos_xing[0][0]], t[neg_xing[0][0]]]\n",
    "ry=[f[pos_xing[0][0]], f[neg_xing[0][0]]]\n",
    "\n",
    "ax.fill_between(t[pos_xing[0][0]:neg_xing[0][0]],0,s[pos_xing[0][0]:neg_xing[0][0]],alpha=.4,color='r')\n",
    "\n",
    "#plt.plot(rx,[ry[0], ry[0]],'-r',lw=2)\n",
    "#plt.plot([rx[1],rx[1]], ry,'-r',lw=2)\n",
    "# thresholds\n",
    "sthresh = 600\n",
    "pthresh = 1000\n",
    "plt.plot([t[0], t[-1]], [sthresh, sthresh], '--b', lw=2)\n",
    "plt.plot([t[0], t[-1]], [pthresh, pthresh], '--k', lw=2)\n",
    "\n",
    "sthresh_xing=(s>sthresh).nonzero()[0][0]\n",
    "pthresh_xing=(f>pthresh).nonzero()[0][0]\n",
    "\n",
    "\n",
    "cf=.10\n",
    "height = ry[1]-ry[0]\n",
    "cfl=ry[0]+(height*cf)\n",
    "cfh=ry[1]-(height*cf)\n",
    "\n",
    "cfl_xing=(f>cfl).nonzero()[0][0]\n",
    "cfd_low=f[cfl_xing]\n",
    "cfh_xing=(f>cfh).nonzero()[0][0]\n",
    "cfd_high=f[cfh_xing]\n",
    "\n",
    "#plt.plot([t[cfl_xing], t[-1]],[cfd_low, cfd_low], ':r')\n",
    "#plt.plot([t[cfh_xing], t[-1]],[cfd_high, cfd_high], ':r')\n",
    "#plt.plot([x[1], t[-1]],[y[1], y[1]], ':r')\n",
    "plt.legend([filtered, slope],['Signal', 'Slope'],loc=2)\n",
    "\n",
    "#axr = ax.twinx()\n",
    "##################################################################\n",
    "#yticks=([ry[0],sthresh,pthresh,cfd_high,ry[1]])\n",
    "yticks=([sthresh,pthresh])\n",
    "axr.set_yticks(yticks)\n",
    "#yticklabels=['Start','Slope threshold','Pulse threshold','CF high','Peak']\n",
    "yticklabels=['Slope threshold','Pulse threshold']\n",
    "axr.set_yticklabels(yticklabels, color='r',fontsize=14)\n",
    "axr.get_yticklabels()[0].set_color('b')\n",
    "axr.get_yticklabels()[1].set_color('k')\n",
    "\n",
    "#xticks=([rx[0],t[cfl_xing],t[sthresh_xing],t[pthresh_xing],rx[1]])\n",
    "xticks=(t[cfl_xing],rx[1])\n",
    "#ax.set_xticks([rx[0],t[cfl_xing],t[sthresh_xing],t[pthresh_xing],rx[1]])\n",
    "ax.set_xticks(xticks)\n",
    "#xticklabels=['Start','CF low','Slope xing','Signal xing','Peak']\n",
    "xticklabels=['CF low','Peak']\n",
    "ax.set_xticklabels(xticklabels, color='r',fontsize=14)\n",
    "\n",
    "#plt.plot([t[cfh_xing], t[-1]],[cfd_high, cfd_high], ':r')\n",
    "#horoz start, stop lines\n",
    "#hpeak=ax.plot([xticks[1], t[-1]],[yticks[-1], yticks[-1]], '-.r')\n",
    "#hstart=ax.plot([xticks[0], t[-1]],[yticks[0], yticks[0]], '-.r')\n",
    "#vert start stop\n",
    "vstart=ax.plot([xticks[0], xticks[0]],[cfd_low, ylim[0]], '-.r')\n",
    "vpeak=ax.plot([xticks[1], xticks[1]],[ylim[0], ry[1]], '-.r')\n",
    "\n",
    "plt.tight_layout()\n",
    "plt.savefig('..//peakextraction7.svg')\n",
    "plt.show()\n",
    "print('risetime:',(xticks[1]-xticks[0])/4)\n",
    "print('height:',yticks[-1]-yticks[0])\n",
    "print('time:',(xticks[0]-rx[0])/4)\n",
    "print('area',sum(s[pos_xing[0][0]:neg_xing[0][0]])/256)\n"
   ]
  },
  {
   "cell_type": "code",
   "execution_count": null,
   "metadata": {
    "collapsed": true,
    "run_control": {
     "frozen": false,
     "read_only": false
    }
   },
   "outputs": [],
   "source": [
    "slope_0xings = xings(traces['slope'],0)"
   ]
  },
  {
   "cell_type": "code",
   "execution_count": null,
   "metadata": {
    "collapsed": false,
    "run_control": {
     "frozen": false,
     "read_only": false
    }
   },
   "outputs": [],
   "source": [
    "slope_0xings"
   ]
  },
  {
   "cell_type": "code",
   "execution_count": null,
   "metadata": {
    "collapsed": false,
    "run_control": {
     "frozen": false,
     "read_only": false
    }
   },
   "outputs": [],
   "source": [
    "%matplotlib notebook\n",
    "start=10000\n",
    "width=300\n",
    "plt.plot(traces['filtered'][start:start+width]/2)"
   ]
  },
  {
   "cell_type": "code",
   "execution_count": null,
   "metadata": {
    "collapsed": false,
    "run_control": {
     "frozen": false,
     "read_only": false
    }
   },
   "outputs": [],
   "source": [
    "%matplotlib notebook\n",
    "plt.plot(traces['slope'][20400:21700])"
   ]
  },
  {
   "cell_type": "code",
   "execution_count": null,
   "metadata": {
    "collapsed": false,
    "run_control": {
     "frozen": false,
     "read_only": false
    }
   },
   "outputs": [],
   "source": [
    "filtered=traces['filtered'][1100:]\n",
    "filteredL=traces['filteredL'][1100:]"
   ]
  },
  {
   "cell_type": "code",
   "execution_count": null,
   "metadata": {
    "collapsed": false,
    "run_control": {
     "frozen": false,
     "read_only": false
    }
   },
   "outputs": [],
   "source": [
    "filtered[:10]"
   ]
  },
  {
   "cell_type": "code",
   "execution_count": null,
   "metadata": {
    "collapsed": false,
    "run_control": {
     "frozen": false,
     "read_only": false
    }
   },
   "outputs": [],
   "source": [
    "filteredL[:10]/4"
   ]
  },
  {
   "cell_type": "code",
   "execution_count": null,
   "metadata": {
    "collapsed": false,
    "run_control": {
     "frozen": false,
     "read_only": false
    }
   },
   "outputs": [],
   "source": [
    "minmax_dt=np.dtype([('filtered','i4'),('low','i4'),('high','i4'),('clk','i4')])\n",
    "minmax=Data.fromfile('minmax',minmax_dt,'teslib','measurement_subsystem_TB',tool='vivado')\n",
    "fxing_dt=np.dtype([('extrema','i4'),('area','i4'),('clk','i4')])\n",
    "fxing=Data.fromfile('filteredxing',fxing_dt,'teslib','measurement_subsystem_TB',tool='vivado')"
   ]
  },
  {
   "cell_type": "code",
   "execution_count": null,
   "metadata": {
    "collapsed": false,
    "run_control": {
     "frozen": false,
     "read_only": false
    }
   },
   "outputs": [],
   "source": [
    "minmax"
   ]
  },
  {
   "cell_type": "code",
   "execution_count": null,
   "metadata": {
    "collapsed": false,
    "run_control": {
     "frozen": false,
     "read_only": false
    }
   },
   "outputs": [],
   "source": [
    "fxing"
   ]
  },
  {
   "cell_type": "code",
   "execution_count": null,
   "metadata": {
    "collapsed": false,
    "run_control": {
     "frozen": false,
     "read_only": false
    }
   },
   "outputs": [],
   "source": [
    "np.where(fxing['area']==0)"
   ]
  },
  {
   "cell_type": "code",
   "execution_count": null,
   "metadata": {
    "collapsed": false,
    "run_control": {
     "frozen": false,
     "read_only": false
    }
   },
   "outputs": [],
   "source": [
    "np.where(fxing['extrema']==0)"
   ]
  },
  {
   "cell_type": "code",
   "execution_count": null,
   "metadata": {
    "collapsed": false,
    "run_control": {
     "frozen": false,
     "read_only": false
    }
   },
   "outputs": [],
   "source": [
    "fxing[30]"
   ]
  },
  {
   "cell_type": "code",
   "execution_count": null,
   "metadata": {
    "collapsed": false,
    "run_control": {
     "frozen": false,
     "read_only": false
    }
   },
   "outputs": [],
   "source": [
    "exn=np.where(fxing['extrema']<0)\n",
    "clkn=np.where(fxing['clk']>0)"
   ]
  },
  {
   "cell_type": "code",
   "execution_count": null,
   "metadata": {
    "collapsed": true,
    "run_control": {
     "frozen": false,
     "read_only": false
    }
   },
   "outputs": [],
   "source": []
  },
  {
   "cell_type": "code",
   "execution_count": null,
   "metadata": {
    "collapsed": false,
    "run_control": {
     "frozen": false,
     "read_only": false
    }
   },
   "outputs": [],
   "source": [
    "fxing[374]"
   ]
  },
  {
   "cell_type": "code",
   "execution_count": null,
   "metadata": {
    "collapsed": false,
    "run_control": {
     "frozen": false,
     "read_only": false
    }
   },
   "outputs": [],
   "source": [
    "clkn"
   ]
  },
  {
   "cell_type": "code",
   "execution_count": null,
   "metadata": {
    "collapsed": false,
    "run_control": {
     "frozen": false,
     "read_only": false
    }
   },
   "outputs": [],
   "source": [
    "np.where(minmax[maxs[0]-1]['min']!=1)"
   ]
  },
  {
   "cell_type": "code",
   "execution_count": null,
   "metadata": {
    "collapsed": false,
    "run_control": {
     "frozen": false,
     "read_only": false
    }
   },
   "outputs": [],
   "source": [
    "minmax[maxs[0]-1][65]"
   ]
  },
  {
   "cell_type": "code",
   "execution_count": null,
   "metadata": {
    "collapsed": false,
    "run_control": {
     "frozen": false,
     "read_only": false
    }
   },
   "outputs": [],
   "source": [
    "2290-925"
   ]
  },
  {
   "cell_type": "code",
   "execution_count": null,
   "metadata": {
    "collapsed": false,
    "run_control": {
     "frozen": false,
     "read_only": false
    }
   },
   "outputs": [],
   "source": [
    "0.375*4"
   ]
  },
  {
   "cell_type": "code",
   "execution_count": null,
   "metadata": {
    "collapsed": false,
    "run_control": {
     "frozen": false,
     "read_only": false
    }
   },
   "outputs": [],
   "source": [
    "np.where(minmax['clock']==2290)"
   ]
  },
  {
   "cell_type": "code",
   "execution_count": null,
   "metadata": {
    "collapsed": false,
    "run_control": {
     "frozen": false,
     "read_only": false
    }
   },
   "outputs": [],
   "source": [
    "minmax[120:140]"
   ]
  },
  {
   "cell_type": "code",
   "execution_count": null,
   "metadata": {
    "collapsed": false,
    "run_control": {
     "frozen": false,
     "read_only": false
    }
   },
   "outputs": [],
   "source": [
    "stream_dt=np.dtype([('data','>i4'),('last','i4')])\n",
    "#stream=np.fromfile('data/stream',stream_dt)"
   ]
  },
  {
   "cell_type": "markdown",
   "metadata": {},
   "source": [
    "### bytestream stuff"
   ]
  },
  {
   "cell_type": "code",
   "execution_count": null,
   "metadata": {
    "collapsed": false,
    "run_control": {
     "frozen": false,
     "read_only": false
    }
   },
   "outputs": [],
   "source": [
    "stream_dt=np.dtype([('data','i4'),('last','i4')])\n",
    "stream=Data.fromfile('bytestream',stream_dt,'teslib','measurement_subsystem_TB',tool='vivado')\n",
    "lasts=np.where(stream['last']<=0)[0]+1\n",
    "#data=np.copy(stream['data'])"
   ]
  },
  {
   "cell_type": "code",
   "execution_count": null,
   "metadata": {
    "collapsed": false,
    "run_control": {
     "frozen": false,
     "read_only": false
    }
   },
   "outputs": [],
   "source": [
    "stream"
   ]
  },
  {
   "cell_type": "code",
   "execution_count": null,
   "metadata": {
    "collapsed": true,
    "run_control": {
     "frozen": false,
     "read_only": false
    }
   },
   "outputs": [],
   "source": []
  },
  {
   "cell_type": "code",
   "execution_count": null,
   "metadata": {
    "collapsed": true,
    "run_control": {
     "frozen": false,
     "read_only": false
    }
   },
   "outputs": [],
   "source": [
    "stream=np.fromfile('data/bytestream',stream_dt)"
   ]
  },
  {
   "cell_type": "code",
   "execution_count": null,
   "metadata": {
    "collapsed": false,
    "run_control": {
     "frozen": false,
     "read_only": false
    }
   },
   "outputs": [],
   "source": [
    "bs=PacketStream(stream)"
   ]
  },
  {
   "cell_type": "code",
   "execution_count": null,
   "metadata": {
    "collapsed": false,
    "run_control": {
     "frozen": false,
     "read_only": false
    }
   },
   "outputs": [],
   "source": [
    "bs.packets"
   ]
  },
  {
   "cell_type": "code",
   "execution_count": null,
   "metadata": {
    "collapsed": false,
    "run_control": {
     "frozen": false,
     "read_only": false
    }
   },
   "outputs": [],
   "source": [
    "bs.packets[4]"
   ]
  },
  {
   "cell_type": "code",
   "execution_count": null,
   "metadata": {
    "collapsed": true,
    "run_control": {
     "frozen": false,
     "read_only": false
    }
   },
   "outputs": [],
   "source": [
    "eheader_dt=[('etype','<u2'),('length','u2'),()]"
   ]
  },
  {
   "cell_type": "code",
   "execution_count": null,
   "metadata": {
    "collapsed": false,
    "run_control": {
     "frozen": false,
     "read_only": false
    }
   },
   "outputs": [],
   "source": [
    "'{:X}'.format(bs.packets[1].bytes[23])\n"
   ]
  },
  {
   "cell_type": "code",
   "execution_count": null,
   "metadata": {
    "collapsed": false,
    "run_control": {
     "frozen": false,
     "read_only": false
    }
   },
   "outputs": [],
   "source": [
    "'{:X}'.format(bs.packets[0].bytes[28:30].view(np.uint16)[0])"
   ]
  },
  {
   "cell_type": "code",
   "execution_count": null,
   "metadata": {
    "collapsed": true,
    "run_control": {
     "frozen": false,
     "read_only": false
    }
   },
   "outputs": [],
   "source": [
    "pulse_peak_dt=np.dtype([('height','i2'),('rise','i2'),('minima','u2'),('time','i2')])\n",
    "pulse_dt=np.dtype([('size','i2'),('resv','i2'),('flags','i2'),('time','u2'),\n",
    "                  ('area','i4'),('length','i2'),('offset','i2'),('peaks',(pulse_peak_dt,2))])"
   ]
  },
  {
   "cell_type": "code",
   "execution_count": null,
   "metadata": {
    "collapsed": false,
    "run_control": {
     "frozen": false,
     "read_only": false
    }
   },
   "outputs": [],
   "source": [
    "pulses=bs.packets[3].payload.view(pulse_dt)"
   ]
  },
  {
   "cell_type": "code",
   "execution_count": null,
   "metadata": {
    "collapsed": false,
    "run_control": {
     "frozen": false,
     "read_only": false
    }
   },
   "outputs": [],
   "source": [
    "pulses['peaks']"
   ]
  },
  {
   "cell_type": "code",
   "execution_count": null,
   "metadata": {
    "collapsed": false,
    "run_control": {
     "frozen": false,
     "read_only": false
    }
   },
   "outputs": [],
   "source": [
    "pulses['offset']"
   ]
  },
  {
   "cell_type": "code",
   "execution_count": null,
   "metadata": {
    "collapsed": false,
    "run_control": {
     "frozen": false,
     "read_only": false
    }
   },
   "outputs": [],
   "source": [
    "pulses['length']"
   ]
  },
  {
   "cell_type": "code",
   "execution_count": null,
   "metadata": {
    "collapsed": false,
    "run_control": {
     "frozen": false,
     "read_only": false
    }
   },
   "outputs": [],
   "source": [
    "class eflags:\n",
    "    def __init__(self,uint16):\n",
    "        self.new_window=np.bitwise_and(uint16,0x00000001)!=0\n",
    "        self.tick=np.bitwise_and(uint16,0x00000002)!=0\n",
    "        self.type=np.right_shift(np.bitwise_and(uint16,0x0000000c),2)\n",
    "        \n",
    "    def __repr__(self):\n",
    "        return 'New window:{:}\\n'.format(self.new_window) + \\\n",
    "               'Tick:{:}\\n'.format(self.tick) + \\\n",
    "               'Type:{:}\\n'.format(self.type) "
   ]
  },
  {
   "cell_type": "code",
   "execution_count": null,
   "metadata": {
    "collapsed": false,
    "run_control": {
     "frozen": false,
     "read_only": false
    }
   },
   "outputs": [],
   "source": [
    "f=eflags(pulses[0]['flags'])\n",
    "f"
   ]
  },
  {
   "cell_type": "code",
   "execution_count": null,
   "metadata": {
    "collapsed": false,
    "run_control": {
     "frozen": false,
     "read_only": false
    }
   },
   "outputs": [],
   "source": [
    "'{:X}'.format(bs.packets[3].bytes[13:14].view(np.uint16))"
   ]
  },
  {
   "cell_type": "code",
   "execution_count": null,
   "metadata": {
    "collapsed": true,
    "run_control": {
     "frozen": false,
     "read_only": false
    }
   },
   "outputs": [],
   "source": []
  },
  {
   "cell_type": "code",
   "execution_count": null,
   "metadata": {
    "collapsed": false,
    "run_control": {
     "frozen": false,
     "read_only": false
    }
   },
   "outputs": [],
   "source": [
    "'{:X}'.format(bs.packets[3].bytes[14:16].view(np.uint16)[0])"
   ]
  },
  {
   "cell_type": "code",
   "execution_count": null,
   "metadata": {
    "collapsed": false,
    "run_control": {
     "frozen": false,
     "read_only": false
    }
   },
   "outputs": [],
   "source": [
    "bs.packets[3].bytes[14:16].view(np.uint16)[0]"
   ]
  },
  {
   "cell_type": "code",
   "execution_count": null,
   "metadata": {
    "collapsed": false,
    "run_control": {
     "frozen": false,
     "read_only": false
    }
   },
   "outputs": [],
   "source": [
    "bs=np.uint8(stream['data'][:48])"
   ]
  },
  {
   "cell_type": "code",
   "execution_count": null,
   "metadata": {
    "collapsed": false,
    "run_control": {
     "frozen": false,
     "read_only": false
    }
   },
   "outputs": [],
   "source": [
    "bs"
   ]
  },
  {
   "cell_type": "code",
   "execution_count": null,
   "metadata": {
    "collapsed": false,
    "run_control": {
     "frozen": false,
     "read_only": false
    }
   },
   "outputs": [],
   "source": [
    "events=stream['data'].view(event_dt)"
   ]
  },
  {
   "cell_type": "code",
   "execution_count": null,
   "metadata": {
    "collapsed": false,
    "run_control": {
     "frozen": false,
     "read_only": false
    }
   },
   "outputs": [],
   "source": [
    "'{:X}'.format(events['flags'][0])"
   ]
  },
  {
   "cell_type": "code",
   "execution_count": null,
   "metadata": {
    "collapsed": false,
    "run_control": {
     "frozen": false,
     "read_only": false
    }
   },
   "outputs": [],
   "source": [
    "events['rise']"
   ]
  },
  {
   "cell_type": "code",
   "execution_count": null,
   "metadata": {
    "collapsed": false,
    "run_control": {
     "frozen": false,
     "read_only": false
    }
   },
   "outputs": [],
   "source": [
    "events"
   ]
  },
  {
   "cell_type": "code",
   "execution_count": null,
   "metadata": {
    "collapsed": false,
    "run_control": {
     "frozen": false,
     "read_only": false
    }
   },
   "outputs": [],
   "source": [
    "'{:04X}'.format(events['flags'][1])"
   ]
  },
  {
   "cell_type": "code",
   "execution_count": null,
   "metadata": {
    "collapsed": true,
    "run_control": {
     "frozen": false,
     "read_only": false
    }
   },
   "outputs": [],
   "source": [
    "pulse_peak_dt=np.dtype([('time','>i2'),('minima','>i2'),('rise','>u2'),('height','>i2')])\n",
    "pulse_dt=np.dtype([('time','>i2'),('flags','>i2'),('resv','>i2'),('size','>u2'),\n",
    "                  ('offset','>i2'),('length','>i2'),('area','>i4'),('peaks',(pulse_peak_dt,1))])\n",
    "data=np.copy(stream['data'])"
   ]
  },
  {
   "cell_type": "code",
   "execution_count": null,
   "metadata": {
    "collapsed": false,
    "run_control": {
     "frozen": false,
     "read_only": false
    }
   },
   "outputs": [],
   "source": [
    "pulses=data.view(pulse_dt)"
   ]
  },
  {
   "cell_type": "code",
   "execution_count": null,
   "metadata": {
    "collapsed": false,
    "run_control": {
     "frozen": false,
     "read_only": false
    }
   },
   "outputs": [],
   "source": [
    "pulses['peaks']['height']-pulses['peaks']['minima']"
   ]
  },
  {
   "cell_type": "code",
   "execution_count": null,
   "metadata": {
    "collapsed": false,
    "run_control": {
     "frozen": false,
     "read_only": false
    }
   },
   "outputs": [],
   "source": [
    "pulses['peaks']['minima']"
   ]
  },
  {
   "cell_type": "code",
   "execution_count": null,
   "metadata": {
    "collapsed": false,
    "run_control": {
     "frozen": false,
     "read_only": false
    }
   },
   "outputs": [],
   "source": [
    "peak_count=np.right_shift(np.bitwise_and(pulses['flags'],0xF000),12)\n",
    "peak_overflow=np.bitwise_and(pulses['flags'],0x0800)!=0\n",
    "channel=np.right_shift(np.bitwise_and(pulses['flags'],0x0700),8)\n",
    "timing_type=np.right_shift(np.bitwise_and(pulses['flags'],0x00C0),6)\n",
    "height_type=np.right_shift(np.bitwise_and(pulses['flags'],0x0030),4)\n",
    "event_type=np.right_shift(np.bitwise_and(pulses['flags'],0x000E),1)\n",
    "new_window=np.bitwise_and(pulses['flags'],0x0001)!=0"
   ]
  },
  {
   "cell_type": "code",
   "execution_count": null,
   "metadata": {
    "collapsed": false,
    "run_control": {
     "frozen": false,
     "read_only": false
    }
   },
   "outputs": [],
   "source": [
    "peak_overflow"
   ]
  },
  {
   "cell_type": "code",
   "execution_count": null,
   "metadata": {
    "collapsed": true,
    "run_control": {
     "frozen": false,
     "read_only": false
    }
   },
   "outputs": [],
   "source": [
    "test_dt=np.dtype(\n",
    "    [('time','i2'),('flags','i2'),('rise','u2'),('minima','i2'),('low','u8'),('high','u8')]\n",
    ")\n",
    "test=data.view(test_dt)"
   ]
  },
  {
   "cell_type": "code",
   "execution_count": null,
   "metadata": {
    "collapsed": false,
    "run_control": {
     "frozen": false,
     "read_only": false
    }
   },
   "outputs": [],
   "source": [
    "test"
   ]
  },
  {
   "cell_type": "code",
   "execution_count": null,
   "metadata": {
    "collapsed": false,
    "run_control": {
     "frozen": false,
     "read_only": false
    }
   },
   "outputs": [],
   "source": [
    "test['minima']"
   ]
  },
  {
   "cell_type": "code",
   "execution_count": null,
   "metadata": {
    "collapsed": false,
    "run_control": {
     "frozen": false,
     "read_only": false
    }
   },
   "outputs": [],
   "source": [
    "low1=np.int32(np.right_shift(np.bitwise_and(test['low'],0x03FFFF000000000),36))\n",
    "s=(np.bitwise_and(low1,0x00020000)!=0)*0xFFFC0000\n",
    "low2=np.int32(np.right_shift(np.bitwise_and(test['low'],0x000000FFFFC0000),18))\n",
    "low_threshold=np.int32(np.bitwise_and(test['low'],0x00000000003FFFF))\n",
    "high1=np.int32(np.right_shift(np.bitwise_and(test['high'],0x03FFFF000000000),36))\n",
    "high2=np.int32(np.right_shift(np.bitwise_and(test['high'],0x000000FFFFC0000),18))\n",
    "high_threshold=np.int32(np.bitwise_and(test['high'],0x00000000003FFFF))"
   ]
  },
  {
   "cell_type": "code",
   "execution_count": null,
   "metadata": {
    "collapsed": false,
    "run_control": {
     "frozen": false,
     "read_only": false
    }
   },
   "outputs": [],
   "source": [
    "np.int32(np.bitwise_or(low1,s))/8.0"
   ]
  },
  {
   "cell_type": "code",
   "execution_count": null,
   "metadata": {
    "collapsed": false,
    "run_control": {
     "frozen": false,
     "read_only": false
    }
   },
   "outputs": [],
   "source": [
    "'{:04X}'.format(low1[0])"
   ]
  },
  {
   "cell_type": "code",
   "execution_count": null,
   "metadata": {
    "collapsed": false,
    "run_control": {
     "frozen": false,
     "read_only": false
    }
   },
   "outputs": [],
   "source": [
    "high1/8.0"
   ]
  },
  {
   "cell_type": "code",
   "execution_count": null,
   "metadata": {
    "collapsed": false,
    "run_control": {
     "frozen": false,
     "read_only": false
    }
   },
   "outputs": [],
   "source": [
    "high2/8.0"
   ]
  },
  {
   "cell_type": "code",
   "execution_count": null,
   "metadata": {
    "collapsed": false,
    "run_control": {
     "frozen": false,
     "read_only": false
    }
   },
   "outputs": [],
   "source": [
    "'{:04X}'.format(high_threshold[0])"
   ]
  },
  {
   "cell_type": "code",
   "execution_count": null,
   "metadata": {
    "collapsed": false,
    "run_control": {
     "frozen": false,
     "read_only": false
    }
   },
   "outputs": [],
   "source": [
    "from enum import Enum"
   ]
  },
  {
   "cell_type": "code",
   "execution_count": null,
   "metadata": {
    "collapsed": false,
    "run_control": {
     "frozen": false,
     "read_only": false
    }
   },
   "outputs": [],
   "source": [
    "class VhdlEnum(int, Enum):\n",
    "\n",
    "    def __str__(self):\n",
    "        return self.name.replace(\"-\", \" \")\n",
    "    \n",
    "    def select(self):\n",
    "        return pow(2, self.value)\n",
    "    "
   ]
  },
  {
   "cell_type": "code",
   "execution_count": null,
   "metadata": {
    "collapsed": false,
    "run_control": {
     "frozen": false,
     "read_only": false
    }
   },
   "outputs": [],
   "source": [
    "class Test(VhdlEnum):\n",
    "    a=0\n",
    "    b=1"
   ]
  },
  {
   "cell_type": "code",
   "execution_count": null,
   "metadata": {
    "collapsed": false,
    "run_control": {
     "frozen": false,
     "read_only": false
    }
   },
   "outputs": [],
   "source": [
    "Test(0)"
   ]
  },
  {
   "cell_type": "code",
   "execution_count": null,
   "metadata": {
    "collapsed": true,
    "run_control": {
     "frozen": false,
     "read_only": false
    }
   },
   "outputs": [],
   "source": []
  }
 ],
 "metadata": {
  "anaconda-cloud": {},
  "kernelspec": {
   "display_name": "Python [conda root]",
   "language": "python",
   "name": "conda-root-py"
  },
  "language_info": {
   "codemirror_mode": {
    "name": "ipython",
    "version": 3
   },
   "file_extension": ".py",
   "mimetype": "text/x-python",
   "name": "python",
   "nbconvert_exporter": "python",
   "pygments_lexer": "ipython3",
   "version": "3.5.3"
  }
 },
 "nbformat": 4,
 "nbformat_minor": 1
}
