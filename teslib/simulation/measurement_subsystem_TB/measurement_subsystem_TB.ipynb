{
 "cells": [
  {
   "cell_type": "code",
   "execution_count": 1,
   "metadata": {
    "collapsed": false
   },
   "outputs": [],
   "source": [
    "import sys\n",
    "import tes.simulation.data as sim\n",
    "from tes.simulation.data import PacketStream, Data, Distribution\n",
    "from tes.simulation.filesets import measurement_subsystem_TB as fileset\n",
    "import tes.simulation.plot as splt\n",
    "import numpy as np\n",
    "import matplotlib.pyplot as plt\n",
    "import math\n",
    "import collections"
   ]
  },
  {
   "cell_type": "code",
   "execution_count": null,
   "metadata": {
    "collapsed": false
   },
   "outputs": [],
   "source": [
    "ls \"..\\\\..\\\\..\\\\input_signals\"\n"
   ]
  },
  {
   "cell_type": "code",
   "execution_count": null,
   "metadata": {
    "collapsed": true
   },
   "outputs": [],
   "source": [
    "infile=\"..\\\\..\\\\..\\\\input_signals\\long\"\n",
    "f=open(infile)\n",
    "#data = numpy.frombuffer(open(filename).read().replace('\\n','').decode('hex'), dtype=numpy.uint32).byteswap()"
   ]
  },
  {
   "cell_type": "code",
   "execution_count": null,
   "metadata": {
    "collapsed": true
   },
   "outputs": [],
   "source": [
    "s=f.readlines()"
   ]
  },
  {
   "cell_type": "code",
   "execution_count": null,
   "metadata": {
    "collapsed": false
   },
   "outputs": [],
   "source": [
    "s[0]"
   ]
  },
  {
   "cell_type": "code",
   "execution_count": null,
   "metadata": {
    "collapsed": false
   },
   "outputs": [],
   "source": [
    "b=np.loadtxt(infile, dtype='uint16', delimiter=',', converters={0:lambda s: int(s, 16)})"
   ]
  },
  {
   "cell_type": "code",
   "execution_count": null,
   "metadata": {
    "collapsed": false
   },
   "outputs": [],
   "source": [
    "np.save(\"..\\\\..\\\\..\\\\input_signals\\long.npy\",b)"
   ]
  },
  {
   "cell_type": "code",
   "execution_count": null,
   "metadata": {
    "collapsed": false
   },
   "outputs": [],
   "source": [
    "%matplotlib notebook\n",
    "t=np.arange(len(b))*4e-9*1000\n",
    "plt.plot(t,np.int16(b),'k')\n",
    "plt.xlabel('Time (ms)')\n",
    "plt.ylabel('ADC code')\n",
    "plt.show()"
   ]
  },
  {
   "cell_type": "code",
   "execution_count": 2,
   "metadata": {
    "collapsed": false
   },
   "outputs": [],
   "source": [
    "bs=sim.Data.fromfile('bytestream',np.dtype([('data',np.uint32),('last',np.int32)]),\n",
    "                 'teslib', 'measurement_subsystem_TB')\n",
    "lasts = np.where(bs['last'] < 0)[0]\n",
    "ps=PacketStream(bs)"
   ]
  },
  {
   "cell_type": "code",
   "execution_count": 3,
   "metadata": {
    "collapsed": false
   },
   "outputs": [],
   "source": [
    "d=ps.distributions"
   ]
  },
  {
   "cell_type": "code",
   "execution_count": 4,
   "metadata": {
    "collapsed": false
   },
   "outputs": [
    {
     "data": {
      "text/plain": [
       "6"
      ]
     },
     "execution_count": 4,
     "metadata": {},
     "output_type": "execute_result"
    }
   ],
   "source": [
    "len(d)"
   ]
  },
  {
   "cell_type": "code",
   "execution_count": 5,
   "metadata": {
    "collapsed": false,
    "scrolled": true
   },
   "outputs": [
    {
     "data": {
      "text/plain": [
       "[ethertype:88B5 length:48 Payload:tick frame:0 protocol:0,\n",
       " ethertype:88B5 length:48 Payload:tick frame:1 protocol:1,\n",
       " ethertype:88B6 length:1496 Payload:mca frame:2 protocol:0,\n",
       " ethertype:88B5 length:48 Payload:tick frame:3 protocol:2,\n",
       " ethertype:88B6 length:1496 Payload:mca frame:4 protocol:1,\n",
       " ethertype:88B6 length:1496 Payload:mca frame:5 protocol:2,\n",
       " ethertype:88B6 length:1496 Payload:mca frame:6 protocol:3,\n",
       " ethertype:88B6 length:1496 Payload:mca frame:7 protocol:4,\n",
       " ethertype:88B6 length:1496 Payload:mca frame:8 protocol:5,\n",
       " ethertype:88B6 length:1496 Payload:mca frame:9 protocol:6,\n",
       " ethertype:88B6 length:1496 Payload:mca frame:10 protocol:7,\n",
       " ethertype:88B6 length:1496 Payload:mca frame:11 protocol:8,\n",
       " ethertype:88B6 length:1496 Payload:mca frame:12 protocol:9,\n",
       " ethertype:88B6 length:1496 Payload:mca frame:13 protocol:10,\n",
       " ethertype:88B6 length:1496 Payload:mca frame:14 protocol:11,\n",
       " ethertype:88B6 length:1496 Payload:mca frame:15 protocol:12,\n",
       " ethertype:88B6 length:1496 Payload:mca frame:16 protocol:13,\n",
       " ethertype:88B6 length:1496 Payload:mca frame:17 protocol:14,\n",
       " ethertype:88B6 length:1496 Payload:mca frame:18 protocol:15,\n",
       " ethertype:88B6 length:1496 Payload:mca frame:19 protocol:16,\n",
       " ethertype:88B6 length:1496 Payload:mca frame:20 protocol:17,\n",
       " ethertype:88B6 length:1496 Payload:mca frame:21 protocol:18,\n",
       " ethertype:88B6 length:1496 Payload:mca frame:22 protocol:19,\n",
       " ethertype:88B6 length:1496 Payload:mca frame:23 protocol:20,\n",
       " ethertype:88B6 length:1496 Payload:mca frame:24 protocol:21,\n",
       " ethertype:88B6 length:1496 Payload:mca frame:25 protocol:22,\n",
       " ethertype:88B6 length:1496 Payload:mca frame:26 protocol:23,\n",
       " ethertype:88B6 length:1496 Payload:mca frame:27 protocol:24,\n",
       " ethertype:88B6 length:1496 Payload:mca frame:28 protocol:25,\n",
       " ethertype:88B6 length:1496 Payload:mca frame:29 protocol:26,\n",
       " ethertype:88B6 length:1496 Payload:mca frame:30 protocol:27,\n",
       " ethertype:88B6 length:1496 Payload:mca frame:31 protocol:28,\n",
       " ethertype:88B6 length:1496 Payload:mca frame:32 protocol:29,\n",
       " ethertype:88B6 length:1496 Payload:mca frame:33 protocol:30,\n",
       " ethertype:88B6 length:1496 Payload:mca frame:34 protocol:31,\n",
       " ethertype:88B6 length:1496 Payload:mca frame:35 protocol:32,\n",
       " ethertype:88B6 length:1496 Payload:mca frame:36 protocol:33,\n",
       " ethertype:88B6 length:1496 Payload:mca frame:37 protocol:34,\n",
       " ethertype:88B6 length:1496 Payload:mca frame:38 protocol:35,\n",
       " ethertype:88B6 length:1496 Payload:mca frame:39 protocol:36,\n",
       " ethertype:88B6 length:1496 Payload:mca frame:40 protocol:37,\n",
       " ethertype:88B6 length:1496 Payload:mca frame:41 protocol:38,\n",
       " ethertype:88B6 length:1496 Payload:mca frame:42 protocol:39,\n",
       " ethertype:88B6 length:1496 Payload:mca frame:43 protocol:40,\n",
       " ethertype:88B6 length:1496 Payload:mca frame:44 protocol:41,\n",
       " ethertype:88B6 length:1496 Payload:mca frame:45 protocol:42,\n",
       " ethertype:88B6 length:1496 Payload:mca frame:46 protocol:43,\n",
       " ethertype:88B6 length:832 Payload:mca frame:47 protocol:44,\n",
       " ethertype:88B6 length:1496 Payload:mca frame:48 protocol:0,\n",
       " ethertype:88B6 length:1496 Payload:mca frame:49 protocol:1,\n",
       " ethertype:88B5 length:48 Payload:tick frame:50 protocol:3,\n",
       " ethertype:88B6 length:1496 Payload:mca frame:51 protocol:2,\n",
       " ethertype:88B6 length:1496 Payload:mca frame:52 protocol:3,\n",
       " ethertype:88B6 length:1496 Payload:mca frame:53 protocol:4,\n",
       " ethertype:88B6 length:1496 Payload:mca frame:54 protocol:5,\n",
       " ethertype:88B6 length:1496 Payload:mca frame:55 protocol:6,\n",
       " ethertype:88B6 length:1496 Payload:mca frame:56 protocol:7,\n",
       " ethertype:88B6 length:1496 Payload:mca frame:57 protocol:8,\n",
       " ethertype:88B6 length:1496 Payload:mca frame:58 protocol:9,\n",
       " ethertype:88B6 length:1496 Payload:mca frame:59 protocol:10,\n",
       " ethertype:88B6 length:1496 Payload:mca frame:60 protocol:11,\n",
       " ethertype:88B6 length:1496 Payload:mca frame:61 protocol:12,\n",
       " ethertype:88B6 length:1496 Payload:mca frame:62 protocol:13,\n",
       " ethertype:88B6 length:1496 Payload:mca frame:63 protocol:14,\n",
       " ethertype:88B6 length:1496 Payload:mca frame:64 protocol:15,\n",
       " ethertype:88B6 length:1496 Payload:mca frame:65 protocol:16,\n",
       " ethertype:88B6 length:1496 Payload:mca frame:66 protocol:17,\n",
       " ethertype:88B6 length:1496 Payload:mca frame:67 protocol:18,\n",
       " ethertype:88B6 length:1496 Payload:mca frame:68 protocol:19,\n",
       " ethertype:88B6 length:1496 Payload:mca frame:69 protocol:20,\n",
       " ethertype:88B6 length:1496 Payload:mca frame:70 protocol:21,\n",
       " ethertype:88B6 length:1496 Payload:mca frame:71 protocol:22,\n",
       " ethertype:88B6 length:1496 Payload:mca frame:72 protocol:23,\n",
       " ethertype:88B6 length:1496 Payload:mca frame:73 protocol:24,\n",
       " ethertype:88B6 length:1496 Payload:mca frame:74 protocol:25,\n",
       " ethertype:88B6 length:1496 Payload:mca frame:75 protocol:26,\n",
       " ethertype:88B6 length:1496 Payload:mca frame:76 protocol:27,\n",
       " ethertype:88B6 length:1496 Payload:mca frame:77 protocol:28,\n",
       " ethertype:88B6 length:1496 Payload:mca frame:78 protocol:29,\n",
       " ethertype:88B6 length:1496 Payload:mca frame:79 protocol:30,\n",
       " ethertype:88B6 length:1496 Payload:mca frame:80 protocol:31,\n",
       " ethertype:88B6 length:1496 Payload:mca frame:81 protocol:32,\n",
       " ethertype:88B6 length:1496 Payload:mca frame:82 protocol:33,\n",
       " ethertype:88B6 length:1496 Payload:mca frame:83 protocol:34,\n",
       " ethertype:88B6 length:1496 Payload:mca frame:84 protocol:35,\n",
       " ethertype:88B6 length:1496 Payload:mca frame:85 protocol:36,\n",
       " ethertype:88B6 length:1496 Payload:mca frame:86 protocol:37,\n",
       " ethertype:88B6 length:1496 Payload:mca frame:87 protocol:38,\n",
       " ethertype:88B6 length:1496 Payload:mca frame:88 protocol:39,\n",
       " ethertype:88B6 length:1496 Payload:mca frame:89 protocol:40,\n",
       " ethertype:88B6 length:1496 Payload:mca frame:90 protocol:41,\n",
       " ethertype:88B6 length:1496 Payload:mca frame:91 protocol:42,\n",
       " ethertype:88B6 length:1496 Payload:mca frame:92 protocol:43,\n",
       " ethertype:88B6 length:832 Payload:mca frame:93 protocol:44,\n",
       " ethertype:88B6 length:1496 Payload:mca frame:94 protocol:0,\n",
       " ethertype:88B6 length:1496 Payload:mca frame:95 protocol:1,\n",
       " ethertype:88B6 length:1496 Payload:mca frame:96 protocol:2,\n",
       " ethertype:88B5 length:48 Payload:tick frame:97 protocol:4,\n",
       " ethertype:88B6 length:1496 Payload:mca frame:98 protocol:3,\n",
       " ethertype:88B6 length:1496 Payload:mca frame:99 protocol:4,\n",
       " ethertype:88B6 length:1496 Payload:mca frame:100 protocol:5,\n",
       " ethertype:88B6 length:1496 Payload:mca frame:101 protocol:6,\n",
       " ethertype:88B6 length:1496 Payload:mca frame:102 protocol:7,\n",
       " ethertype:88B6 length:1496 Payload:mca frame:103 protocol:8,\n",
       " ethertype:88B6 length:1496 Payload:mca frame:104 protocol:9,\n",
       " ethertype:88B6 length:1496 Payload:mca frame:105 protocol:10,\n",
       " ethertype:88B6 length:1496 Payload:mca frame:106 protocol:11,\n",
       " ethertype:88B6 length:1496 Payload:mca frame:107 protocol:12,\n",
       " ethertype:88B6 length:1496 Payload:mca frame:108 protocol:13,\n",
       " ethertype:88B6 length:1496 Payload:mca frame:109 protocol:14,\n",
       " ethertype:88B6 length:1496 Payload:mca frame:110 protocol:15,\n",
       " ethertype:88B6 length:1496 Payload:mca frame:111 protocol:16,\n",
       " ethertype:88B6 length:1496 Payload:mca frame:112 protocol:17,\n",
       " ethertype:88B6 length:1496 Payload:mca frame:113 protocol:18,\n",
       " ethertype:88B6 length:1496 Payload:mca frame:114 protocol:19,\n",
       " ethertype:88B6 length:1496 Payload:mca frame:115 protocol:20,\n",
       " ethertype:88B6 length:1496 Payload:mca frame:116 protocol:21,\n",
       " ethertype:88B6 length:1496 Payload:mca frame:117 protocol:22,\n",
       " ethertype:88B6 length:1496 Payload:mca frame:118 protocol:23,\n",
       " ethertype:88B6 length:1496 Payload:mca frame:119 protocol:24,\n",
       " ethertype:88B6 length:1496 Payload:mca frame:120 protocol:25,\n",
       " ethertype:88B6 length:1496 Payload:mca frame:121 protocol:26,\n",
       " ethertype:88B6 length:1496 Payload:mca frame:122 protocol:27,\n",
       " ethertype:88B6 length:1496 Payload:mca frame:123 protocol:28,\n",
       " ethertype:88B6 length:1496 Payload:mca frame:124 protocol:29,\n",
       " ethertype:88B6 length:1496 Payload:mca frame:125 protocol:30,\n",
       " ethertype:88B6 length:1496 Payload:mca frame:126 protocol:31,\n",
       " ethertype:88B6 length:1496 Payload:mca frame:127 protocol:32,\n",
       " ethertype:88B6 length:1496 Payload:mca frame:128 protocol:33,\n",
       " ethertype:88B6 length:1496 Payload:mca frame:129 protocol:34,\n",
       " ethertype:88B6 length:1496 Payload:mca frame:130 protocol:35,\n",
       " ethertype:88B6 length:1496 Payload:mca frame:131 protocol:36,\n",
       " ethertype:88B6 length:1496 Payload:mca frame:132 protocol:37,\n",
       " ethertype:88B6 length:1496 Payload:mca frame:133 protocol:38,\n",
       " ethertype:88B6 length:1496 Payload:mca frame:134 protocol:39,\n",
       " ethertype:88B6 length:1496 Payload:mca frame:135 protocol:40,\n",
       " ethertype:88B6 length:1496 Payload:mca frame:136 protocol:41,\n",
       " ethertype:88B6 length:1496 Payload:mca frame:137 protocol:42,\n",
       " ethertype:88B6 length:1496 Payload:mca frame:138 protocol:43,\n",
       " ethertype:88B6 length:832 Payload:mca frame:139 protocol:44,\n",
       " ethertype:88B6 length:1496 Payload:mca frame:140 protocol:0,\n",
       " ethertype:88B6 length:1496 Payload:mca frame:141 protocol:1,\n",
       " ethertype:88B6 length:1496 Payload:mca frame:142 protocol:2,\n",
       " ethertype:88B6 length:1496 Payload:mca frame:143 protocol:3,\n",
       " ethertype:88B5 length:48 Payload:tick frame:144 protocol:5,\n",
       " ethertype:88B6 length:1496 Payload:mca frame:145 protocol:4,\n",
       " ethertype:88B6 length:1496 Payload:mca frame:146 protocol:5,\n",
       " ethertype:88B6 length:1496 Payload:mca frame:147 protocol:6,\n",
       " ethertype:88B6 length:1496 Payload:mca frame:148 protocol:7,\n",
       " ethertype:88B6 length:1496 Payload:mca frame:149 protocol:8,\n",
       " ethertype:88B6 length:1496 Payload:mca frame:150 protocol:9,\n",
       " ethertype:88B6 length:1496 Payload:mca frame:151 protocol:10,\n",
       " ethertype:88B6 length:1496 Payload:mca frame:152 protocol:11,\n",
       " ethertype:88B6 length:1496 Payload:mca frame:153 protocol:12,\n",
       " ethertype:88B6 length:1496 Payload:mca frame:154 protocol:13,\n",
       " ethertype:88B6 length:1496 Payload:mca frame:155 protocol:14,\n",
       " ethertype:88B6 length:1496 Payload:mca frame:156 protocol:15,\n",
       " ethertype:88B6 length:1496 Payload:mca frame:157 protocol:16,\n",
       " ethertype:88B6 length:1496 Payload:mca frame:158 protocol:17,\n",
       " ethertype:88B6 length:1496 Payload:mca frame:159 protocol:18,\n",
       " ethertype:88B6 length:1496 Payload:mca frame:160 protocol:19,\n",
       " ethertype:88B6 length:1496 Payload:mca frame:161 protocol:20,\n",
       " ethertype:88B6 length:1496 Payload:mca frame:162 protocol:21,\n",
       " ethertype:88B6 length:1496 Payload:mca frame:163 protocol:22,\n",
       " ethertype:88B6 length:1496 Payload:mca frame:164 protocol:23,\n",
       " ethertype:88B6 length:1496 Payload:mca frame:165 protocol:24,\n",
       " ethertype:88B6 length:1496 Payload:mca frame:166 protocol:25,\n",
       " ethertype:88B6 length:1496 Payload:mca frame:167 protocol:26,\n",
       " ethertype:88B6 length:1496 Payload:mca frame:168 protocol:27,\n",
       " ethertype:88B6 length:1496 Payload:mca frame:169 protocol:28,\n",
       " ethertype:88B6 length:1496 Payload:mca frame:170 protocol:29,\n",
       " ethertype:88B6 length:1496 Payload:mca frame:171 protocol:30,\n",
       " ethertype:88B6 length:1496 Payload:mca frame:172 protocol:31,\n",
       " ethertype:88B6 length:1496 Payload:mca frame:173 protocol:32,\n",
       " ethertype:88B6 length:1496 Payload:mca frame:174 protocol:33,\n",
       " ethertype:88B6 length:1496 Payload:mca frame:175 protocol:34,\n",
       " ethertype:88B6 length:1496 Payload:mca frame:176 protocol:35,\n",
       " ethertype:88B6 length:1496 Payload:mca frame:177 protocol:36,\n",
       " ethertype:88B6 length:1496 Payload:mca frame:178 protocol:37,\n",
       " ethertype:88B6 length:1496 Payload:mca frame:179 protocol:38,\n",
       " ethertype:88B6 length:1496 Payload:mca frame:180 protocol:39,\n",
       " ethertype:88B6 length:1496 Payload:mca frame:181 protocol:40,\n",
       " ethertype:88B6 length:1496 Payload:mca frame:182 protocol:41,\n",
       " ethertype:88B6 length:1496 Payload:mca frame:183 protocol:42,\n",
       " ethertype:88B6 length:1496 Payload:mca frame:184 protocol:43,\n",
       " ethertype:88B6 length:832 Payload:mca frame:185 protocol:44,\n",
       " ethertype:88B6 length:1496 Payload:mca frame:186 protocol:0,\n",
       " ethertype:88B6 length:1496 Payload:mca frame:187 protocol:1,\n",
       " ethertype:88B6 length:1496 Payload:mca frame:188 protocol:2,\n",
       " ethertype:88B5 length:48 Payload:tick frame:189 protocol:6,\n",
       " ethertype:88B6 length:1496 Payload:mca frame:190 protocol:3,\n",
       " ethertype:88B6 length:1496 Payload:mca frame:191 protocol:4,\n",
       " ethertype:88B6 length:1496 Payload:mca frame:192 protocol:5,\n",
       " ethertype:88B6 length:1496 Payload:mca frame:193 protocol:6,\n",
       " ethertype:88B6 length:1496 Payload:mca frame:194 protocol:7,\n",
       " ethertype:88B6 length:1496 Payload:mca frame:195 protocol:8,\n",
       " ethertype:88B6 length:1496 Payload:mca frame:196 protocol:9,\n",
       " ethertype:88B6 length:1496 Payload:mca frame:197 protocol:10,\n",
       " ethertype:88B6 length:1496 Payload:mca frame:198 protocol:11,\n",
       " ethertype:88B6 length:1496 Payload:mca frame:199 protocol:12,\n",
       " ethertype:88B6 length:1496 Payload:mca frame:200 protocol:13,\n",
       " ethertype:88B6 length:1496 Payload:mca frame:201 protocol:14,\n",
       " ethertype:88B6 length:1496 Payload:mca frame:202 protocol:15,\n",
       " ethertype:88B6 length:1496 Payload:mca frame:203 protocol:16,\n",
       " ethertype:88B6 length:1496 Payload:mca frame:204 protocol:17,\n",
       " ethertype:88B6 length:1496 Payload:mca frame:205 protocol:18,\n",
       " ethertype:88B6 length:1496 Payload:mca frame:206 protocol:19,\n",
       " ethertype:88B6 length:1496 Payload:mca frame:207 protocol:20,\n",
       " ethertype:88B6 length:1496 Payload:mca frame:208 protocol:21,\n",
       " ethertype:88B6 length:1496 Payload:mca frame:209 protocol:22,\n",
       " ethertype:88B6 length:1496 Payload:mca frame:210 protocol:23,\n",
       " ethertype:88B6 length:1496 Payload:mca frame:211 protocol:24,\n",
       " ethertype:88B5 length:48 Payload:tick frame:212 protocol:7,\n",
       " ethertype:88B6 length:1496 Payload:mca frame:213 protocol:25,\n",
       " ethertype:88B6 length:1496 Payload:mca frame:214 protocol:26,\n",
       " ethertype:88B6 length:1496 Payload:mca frame:215 protocol:27,\n",
       " ethertype:88B6 length:1496 Payload:mca frame:216 protocol:28,\n",
       " ethertype:88B6 length:1496 Payload:mca frame:217 protocol:29,\n",
       " ethertype:88B6 length:1496 Payload:mca frame:218 protocol:30,\n",
       " ethertype:88B6 length:1496 Payload:mca frame:219 protocol:31,\n",
       " ethertype:88B6 length:1496 Payload:mca frame:220 protocol:32,\n",
       " ethertype:88B6 length:1496 Payload:mca frame:221 protocol:33,\n",
       " ethertype:88B6 length:1496 Payload:mca frame:222 protocol:34,\n",
       " ethertype:88B6 length:1496 Payload:mca frame:223 protocol:35,\n",
       " ethertype:88B6 length:1496 Payload:mca frame:224 protocol:36,\n",
       " ethertype:88B6 length:1496 Payload:mca frame:225 protocol:37,\n",
       " ethertype:88B6 length:1496 Payload:mca frame:226 protocol:38,\n",
       " ethertype:88B6 length:1496 Payload:mca frame:227 protocol:39,\n",
       " ethertype:88B6 length:1496 Payload:mca frame:228 protocol:40,\n",
       " ethertype:88B6 length:1496 Payload:mca frame:229 protocol:41,\n",
       " ethertype:88B6 length:1496 Payload:mca frame:230 protocol:42,\n",
       " ethertype:88B6 length:1496 Payload:mca frame:231 protocol:43,\n",
       " ethertype:88B6 length:832 Payload:mca frame:232 protocol:44,\n",
       " ethertype:88B5 length:40 Payload:peak frame:233 protocol:8,\n",
       " ethertype:88B6 length:1496 Payload:mca frame:234 protocol:0,\n",
       " ethertype:88B6 length:1496 Payload:mca frame:235 protocol:1,\n",
       " ethertype:88B6 length:1496 Payload:mca frame:236 protocol:2,\n",
       " ethertype:88B5 length:48 Payload:tick frame:237 protocol:9,\n",
       " ethertype:88B6 length:1496 Payload:mca frame:238 protocol:3,\n",
       " ethertype:88B6 length:1496 Payload:mca frame:239 protocol:4,\n",
       " ethertype:88B6 length:1496 Payload:mca frame:240 protocol:5,\n",
       " ethertype:88B6 length:1496 Payload:mca frame:241 protocol:6,\n",
       " ethertype:88B6 length:1496 Payload:mca frame:242 protocol:7,\n",
       " ethertype:88B6 length:1496 Payload:mca frame:243 protocol:8,\n",
       " ethertype:88B6 length:1496 Payload:mca frame:244 protocol:9,\n",
       " ethertype:88B6 length:1496 Payload:mca frame:245 protocol:10,\n",
       " ethertype:88B6 length:1496 Payload:mca frame:246 protocol:11,\n",
       " ethertype:88B6 length:1496 Payload:mca frame:247 protocol:12,\n",
       " ethertype:88B6 length:1496 Payload:mca frame:248 protocol:13,\n",
       " ethertype:88B6 length:1496 Payload:mca frame:249 protocol:14,\n",
       " ethertype:88B6 length:1496 Payload:mca frame:250 protocol:15,\n",
       " ethertype:88B6 length:1496 Payload:mca frame:251 protocol:16,\n",
       " ethertype:88B6 length:1496 Payload:mca frame:252 protocol:17,\n",
       " ethertype:88B6 length:1496 Payload:mca frame:253 protocol:18,\n",
       " ethertype:88B6 length:1496 Payload:mca frame:254 protocol:19,\n",
       " ethertype:88B6 length:1496 Payload:mca frame:255 protocol:20,\n",
       " ethertype:88B6 length:1496 Payload:mca frame:256 protocol:21,\n",
       " ethertype:88B6 length:1496 Payload:mca frame:257 protocol:22,\n",
       " ethertype:88B6 length:1496 Payload:mca frame:258 protocol:23,\n",
       " ethertype:88B6 length:1496 Payload:mca frame:259 protocol:24,\n",
       " ethertype:88B5 length:48 Payload:tick frame:260 protocol:10,\n",
       " ethertype:88B6 length:1496 Payload:mca frame:261 protocol:25,\n",
       " ethertype:88B6 length:1496 Payload:mca frame:262 protocol:26,\n",
       " ethertype:88B6 length:1496 Payload:mca frame:263 protocol:27,\n",
       " ethertype:88B6 length:1496 Payload:mca frame:264 protocol:28,\n",
       " ethertype:88B6 length:1496 Payload:mca frame:265 protocol:29,\n",
       " ethertype:88B6 length:1496 Payload:mca frame:266 protocol:30,\n",
       " ethertype:88B6 length:1496 Payload:mca frame:267 protocol:31,\n",
       " ethertype:88B6 length:1496 Payload:mca frame:268 protocol:32,\n",
       " ethertype:88B6 length:1496 Payload:mca frame:269 protocol:33,\n",
       " ethertype:88B6 length:1496 Payload:mca frame:270 protocol:34,\n",
       " ethertype:88B6 length:1496 Payload:mca frame:271 protocol:35,\n",
       " ethertype:88B6 length:1496 Payload:mca frame:272 protocol:36,\n",
       " ethertype:88B6 length:1496 Payload:mca frame:273 protocol:37,\n",
       " ethertype:88B6 length:1496 Payload:mca frame:274 protocol:38,\n",
       " ethertype:88B6 length:1496 Payload:mca frame:275 protocol:39,\n",
       " ethertype:88B6 length:1496 Payload:mca frame:276 protocol:40,\n",
       " ethertype:88B6 length:1496 Payload:mca frame:277 protocol:41,\n",
       " ethertype:88B6 length:1496 Payload:mca frame:278 protocol:42,\n",
       " ethertype:88B6 length:1496 Payload:mca frame:279 protocol:43,\n",
       " ethertype:88B6 length:832 Payload:mca frame:280 protocol:44,\n",
       " ethertype:88B6 length:1496 Payload:mca frame:281 protocol:0,\n",
       " ethertype:88B6 length:1496 Payload:mca frame:282 protocol:1,\n",
       " ethertype:88B6 length:1496 Payload:mca frame:283 protocol:2,\n",
       " ethertype:88B5 length:48 Payload:tick frame:284 protocol:11,\n",
       " ethertype:88B6 length:1496 Payload:mca frame:285 protocol:3,\n",
       " ethertype:88B6 length:1496 Payload:mca frame:286 protocol:4,\n",
       " ethertype:88B6 length:1496 Payload:mca frame:287 protocol:5,\n",
       " ethertype:88B6 length:1496 Payload:mca frame:288 protocol:6,\n",
       " ethertype:88B6 length:1496 Payload:mca frame:289 protocol:7,\n",
       " ethertype:88B6 length:1496 Payload:mca frame:290 protocol:8,\n",
       " ethertype:88B6 length:1496 Payload:mca frame:291 protocol:9,\n",
       " ethertype:88B6 length:1496 Payload:mca frame:292 protocol:10,\n",
       " ethertype:88B6 length:1496 Payload:mca frame:293 protocol:11,\n",
       " ethertype:88B6 length:1496 Payload:mca frame:294 protocol:12,\n",
       " ethertype:88B6 length:1496 Payload:mca frame:295 protocol:13,\n",
       " ethertype:88B6 length:1496 Payload:mca frame:296 protocol:14,\n",
       " ethertype:88B6 length:1496 Payload:mca frame:297 protocol:15,\n",
       " ethertype:88B6 length:1496 Payload:mca frame:298 protocol:16,\n",
       " ethertype:88B6 length:1496 Payload:mca frame:299 protocol:17,\n",
       " ethertype:88B6 length:1496 Payload:mca frame:300 protocol:18,\n",
       " ethertype:88B6 length:1496 Payload:mca frame:301 protocol:19,\n",
       " ethertype:88B6 length:1496 Payload:mca frame:302 protocol:20,\n",
       " ethertype:88B6 length:1496 Payload:mca frame:303 protocol:21,\n",
       " ethertype:88B6 length:1496 Payload:mca frame:304 protocol:22,\n",
       " ethertype:88B6 length:1496 Payload:mca frame:305 protocol:23,\n",
       " ethertype:88B6 length:1496 Payload:mca frame:306 protocol:24,\n",
       " ethertype:88B5 length:48 Payload:tick frame:307 protocol:12,\n",
       " ethertype:88B6 length:1496 Payload:mca frame:308 protocol:25,\n",
       " ethertype:88B6 length:1496 Payload:mca frame:309 protocol:26,\n",
       " ethertype:88B6 length:1496 Payload:mca frame:310 protocol:27,\n",
       " ethertype:88B6 length:1496 Payload:mca frame:311 protocol:28,\n",
       " ethertype:88B6 length:1496 Payload:mca frame:312 protocol:29,\n",
       " ethertype:88B6 length:1496 Payload:mca frame:313 protocol:30,\n",
       " ethertype:88B6 length:1496 Payload:mca frame:314 protocol:31,\n",
       " ethertype:88B6 length:1496 Payload:mca frame:315 protocol:32,\n",
       " ethertype:88B6 length:1496 Payload:mca frame:316 protocol:33,\n",
       " ethertype:88B6 length:1496 Payload:mca frame:317 protocol:34,\n",
       " ethertype:88B6 length:1496 Payload:mca frame:318 protocol:35,\n",
       " ethertype:88B6 length:1496 Payload:mca frame:319 protocol:36,\n",
       " ethertype:88B6 length:1496 Payload:mca frame:320 protocol:37,\n",
       " ethertype:88B6 length:1496 Payload:mca frame:321 protocol:38,\n",
       " ethertype:88B6 length:1496 Payload:mca frame:322 protocol:39,\n",
       " ethertype:88B6 length:1496 Payload:mca frame:323 protocol:40,\n",
       " ethertype:88B6 length:1496 Payload:mca frame:324 protocol:41,\n",
       " ethertype:88B6 length:1496 Payload:mca frame:325 protocol:42,\n",
       " ethertype:88B6 length:1496 Payload:mca frame:326 protocol:43,\n",
       " ethertype:88B6 length:832 Payload:mca frame:327 protocol:44,\n",
       " ethertype:88B5 length:48 Payload:tick frame:328 protocol:13,\n",
       " ethertype:88B5 length:48 Payload:tick frame:329 protocol:14,\n",
       " ethertype:88B5 length:48 Payload:tick frame:330 protocol:15,\n",
       " ethertype:88B5 length:48 Payload:tick frame:331 protocol:16,\n",
       " ethertype:88B5 length:48 Payload:tick frame:332 protocol:17,\n",
       " ethertype:88B5 length:48 Payload:tick frame:333 protocol:18,\n",
       " ethertype:88B5 length:48 Payload:tick frame:334 protocol:19,\n",
       " ethertype:88B5 length:48 Payload:tick frame:335 protocol:20,\n",
       " ethertype:88B5 length:48 Payload:tick frame:336 protocol:21,\n",
       " ethertype:88B5 length:48 Payload:tick frame:337 protocol:22,\n",
       " ethertype:88B5 length:48 Payload:tick frame:338 protocol:23,\n",
       " ethertype:88B5 length:48 Payload:tick frame:339 protocol:24,\n",
       " ethertype:88B5 length:48 Payload:tick frame:340 protocol:25,\n",
       " ethertype:88B5 length:48 Payload:tick frame:341 protocol:26,\n",
       " ethertype:88B5 length:48 Payload:tick frame:342 protocol:27,\n",
       " ethertype:88B5 length:48 Payload:tick frame:343 protocol:28,\n",
       " ethertype:88B5 length:48 Payload:tick frame:344 protocol:29,\n",
       " ethertype:88B5 length:48 Payload:tick frame:345 protocol:30,\n",
       " ethertype:88B5 length:48 Payload:tick frame:346 protocol:31,\n",
       " ethertype:88B5 length:48 Payload:tick frame:347 protocol:32,\n",
       " ethertype:88B5 length:48 Payload:tick frame:348 protocol:33,\n",
       " ethertype:88B5 length:48 Payload:tick frame:349 protocol:34,\n",
       " ethertype:88B5 length:48 Payload:tick frame:350 protocol:35,\n",
       " ethertype:88B5 length:48 Payload:tick frame:351 protocol:36,\n",
       " ethertype:88B5 length:48 Payload:tick frame:352 protocol:37,\n",
       " ethertype:88B5 length:48 Payload:tick frame:353 protocol:38,\n",
       " ethertype:88B5 length:48 Payload:tick frame:354 protocol:39,\n",
       " ethertype:88B5 length:48 Payload:tick frame:355 protocol:40,\n",
       " ethertype:88B5 length:48 Payload:tick frame:356 protocol:41,\n",
       " ethertype:88B5 length:48 Payload:tick frame:357 protocol:42,\n",
       " ethertype:88B5 length:48 Payload:tick frame:358 protocol:43,\n",
       " ethertype:88B5 length:48 Payload:tick frame:359 protocol:44,\n",
       " ethertype:88B5 length:48 Payload:tick frame:360 protocol:45,\n",
       " ethertype:88B5 length:48 Payload:tick frame:361 protocol:46,\n",
       " ethertype:88B5 length:48 Payload:tick frame:362 protocol:47,\n",
       " ethertype:88B5 length:48 Payload:tick frame:363 protocol:48,\n",
       " ethertype:88B5 length:48 Payload:tick frame:364 protocol:49,\n",
       " ethertype:88B5 length:48 Payload:tick frame:365 protocol:50,\n",
       " ethertype:88B5 length:48 Payload:tick frame:366 protocol:51,\n",
       " ethertype:88B5 length:48 Payload:tick frame:367 protocol:52,\n",
       " ethertype:88B5 length:48 Payload:tick frame:368 protocol:53,\n",
       " ethertype:88B5 length:48 Payload:tick frame:369 protocol:54,\n",
       " ethertype:88B5 length:48 Payload:tick frame:370 protocol:55,\n",
       " ethertype:88B5 length:48 Payload:tick frame:371 protocol:56,\n",
       " ethertype:88B5 length:48 Payload:tick frame:372 protocol:57,\n",
       " ethertype:88B5 length:48 Payload:tick frame:373 protocol:58,\n",
       " ethertype:88B5 length:48 Payload:tick frame:374 protocol:59,\n",
       " ethertype:88B5 length:48 Payload:tick frame:375 protocol:60,\n",
       " ethertype:88B5 length:48 Payload:tick frame:376 protocol:61,\n",
       " ethertype:88B5 length:48 Payload:tick frame:377 protocol:62]"
      ]
     },
     "execution_count": 5,
     "metadata": {},
     "output_type": "execute_result"
    }
   ],
   "source": [
    "ps.packets"
   ]
  },
  {
   "cell_type": "code",
   "execution_count": null,
   "metadata": {
    "collapsed": false
   },
   "outputs": [],
   "source": [
    "%matplotlib notebook\n",
    "for ds in d:\n",
    "    plt.step(np.arange(0,2000)/2,ds.counts[0:2000])\n",
    "#plt.savefig('distribution.svg')\n",
    "plt.show()"
   ]
  },
  {
   "cell_type": "code",
   "execution_count": null,
   "metadata": {
    "collapsed": false
   },
   "outputs": [],
   "source": [
    "pwd"
   ]
  },
  {
   "cell_type": "code",
   "execution_count": 6,
   "metadata": {
    "collapsed": true
   },
   "outputs": [],
   "source": [
    "trace_dt = np.dtype([('raw',np.int32),('filtered',np.int32),('slope',np.int32)])\n",
    "traces=sim.Data.fromfile('traces',trace_dt,'teslib','measurement_subsystem_TB')"
   ]
  },
  {
   "cell_type": "code",
   "execution_count": null,
   "metadata": {
    "collapsed": false
   },
   "outputs": [],
   "source": [
    "len(traces)"
   ]
  },
  {
   "cell_type": "code",
   "execution_count": 7,
   "metadata": {
    "collapsed": false
   },
   "outputs": [
    {
     "ename": "NameError",
     "evalue": "name 'b' is not defined",
     "output_type": "error",
     "traceback": [
      "\u001b[1;31m---------------------------------------------------------------------------\u001b[0m",
      "\u001b[1;31mNameError\u001b[0m                                 Traceback (most recent call last)",
      "\u001b[1;32m<ipython-input-7-1ab017fad381>\u001b[0m in \u001b[0;36m<module>\u001b[1;34m()\u001b[0m\n\u001b[0;32m      1\u001b[0m \u001b[0mget_ipython\u001b[0m\u001b[1;33m(\u001b[0m\u001b[1;33m)\u001b[0m\u001b[1;33m.\u001b[0m\u001b[0mmagic\u001b[0m\u001b[1;33m(\u001b[0m\u001b[1;34m'matplotlib notebook'\u001b[0m\u001b[1;33m)\u001b[0m\u001b[1;33m\u001b[0m\u001b[0m\n\u001b[1;32m----> 2\u001b[1;33m \u001b[0mt\u001b[0m\u001b[1;33m=\u001b[0m\u001b[0mnp\u001b[0m\u001b[1;33m.\u001b[0m\u001b[0marange\u001b[0m\u001b[1;33m(\u001b[0m\u001b[0mlen\u001b[0m\u001b[1;33m(\u001b[0m\u001b[0mb\u001b[0m\u001b[1;33m)\u001b[0m\u001b[1;33m)\u001b[0m\u001b[1;33m*\u001b[0m\u001b[1;36m4e-9\u001b[0m\u001b[1;33m*\u001b[0m\u001b[1;36m1000\u001b[0m\u001b[1;33m\u001b[0m\u001b[0m\n\u001b[0m\u001b[0;32m      3\u001b[0m \u001b[0mplt\u001b[0m\u001b[1;33m.\u001b[0m\u001b[0mplot\u001b[0m\u001b[1;33m(\u001b[0m\u001b[0mt\u001b[0m\u001b[1;33m,\u001b[0m\u001b[0mnp\u001b[0m\u001b[1;33m.\u001b[0m\u001b[0mint16\u001b[0m\u001b[1;33m(\u001b[0m\u001b[0mb\u001b[0m\u001b[1;33m)\u001b[0m\u001b[1;33m,\u001b[0m\u001b[1;34m'k'\u001b[0m\u001b[1;33m)\u001b[0m\u001b[1;33m\u001b[0m\u001b[0m\n\u001b[0;32m      4\u001b[0m \u001b[0mplt\u001b[0m\u001b[1;33m.\u001b[0m\u001b[0mxlabel\u001b[0m\u001b[1;33m(\u001b[0m\u001b[1;34m'Time (ms)'\u001b[0m\u001b[1;33m)\u001b[0m\u001b[1;33m\u001b[0m\u001b[0m\n\u001b[0;32m      5\u001b[0m \u001b[0mplt\u001b[0m\u001b[1;33m.\u001b[0m\u001b[0mylabel\u001b[0m\u001b[1;33m(\u001b[0m\u001b[1;34m'ADC code'\u001b[0m\u001b[1;33m)\u001b[0m\u001b[1;33m\u001b[0m\u001b[0m\n",
      "\u001b[1;31mNameError\u001b[0m: name 'b' is not defined"
     ]
    }
   ],
   "source": [
    "%matplotlib notebook\n",
    "t=np.arange(len(b))*4e-9*1000\n",
    "plt.plot(t,np.int16(b),'k')\n",
    "plt.xlabel('Time (ms)')\n",
    "plt.ylabel('ADC code')\n",
    "plt.savefig('raw.svg')\n",
    "plt.show()"
   ]
  },
  {
   "cell_type": "code",
   "execution_count": 10,
   "metadata": {
    "collapsed": false
   },
   "outputs": [
    {
     "data": {
      "application/javascript": [
       "/* Put everything inside the global mpl namespace */\n",
       "window.mpl = {};\n",
       "\n",
       "mpl.get_websocket_type = function() {\n",
       "    if (typeof(WebSocket) !== 'undefined') {\n",
       "        return WebSocket;\n",
       "    } else if (typeof(MozWebSocket) !== 'undefined') {\n",
       "        return MozWebSocket;\n",
       "    } else {\n",
       "        alert('Your browser does not have WebSocket support.' +\n",
       "              'Please try Chrome, Safari or Firefox ≥ 6. ' +\n",
       "              'Firefox 4 and 5 are also supported but you ' +\n",
       "              'have to enable WebSockets in about:config.');\n",
       "    };\n",
       "}\n",
       "\n",
       "mpl.figure = function(figure_id, websocket, ondownload, parent_element) {\n",
       "    this.id = figure_id;\n",
       "\n",
       "    this.ws = websocket;\n",
       "\n",
       "    this.supports_binary = (this.ws.binaryType != undefined);\n",
       "\n",
       "    if (!this.supports_binary) {\n",
       "        var warnings = document.getElementById(\"mpl-warnings\");\n",
       "        if (warnings) {\n",
       "            warnings.style.display = 'block';\n",
       "            warnings.textContent = (\n",
       "                \"This browser does not support binary websocket messages. \" +\n",
       "                    \"Performance may be slow.\");\n",
       "        }\n",
       "    }\n",
       "\n",
       "    this.imageObj = new Image();\n",
       "\n",
       "    this.context = undefined;\n",
       "    this.message = undefined;\n",
       "    this.canvas = undefined;\n",
       "    this.rubberband_canvas = undefined;\n",
       "    this.rubberband_context = undefined;\n",
       "    this.format_dropdown = undefined;\n",
       "\n",
       "    this.image_mode = 'full';\n",
       "\n",
       "    this.root = $('<div/>');\n",
       "    this._root_extra_style(this.root)\n",
       "    this.root.attr('style', 'display: inline-block');\n",
       "\n",
       "    $(parent_element).append(this.root);\n",
       "\n",
       "    this._init_header(this);\n",
       "    this._init_canvas(this);\n",
       "    this._init_toolbar(this);\n",
       "\n",
       "    var fig = this;\n",
       "\n",
       "    this.waiting = false;\n",
       "\n",
       "    this.ws.onopen =  function () {\n",
       "            fig.send_message(\"supports_binary\", {value: fig.supports_binary});\n",
       "            fig.send_message(\"send_image_mode\", {});\n",
       "            fig.send_message(\"refresh\", {});\n",
       "        }\n",
       "\n",
       "    this.imageObj.onload = function() {\n",
       "            if (fig.image_mode == 'full') {\n",
       "                // Full images could contain transparency (where diff images\n",
       "                // almost always do), so we need to clear the canvas so that\n",
       "                // there is no ghosting.\n",
       "                fig.context.clearRect(0, 0, fig.canvas.width, fig.canvas.height);\n",
       "            }\n",
       "            fig.context.drawImage(fig.imageObj, 0, 0);\n",
       "        };\n",
       "\n",
       "    this.imageObj.onunload = function() {\n",
       "        this.ws.close();\n",
       "    }\n",
       "\n",
       "    this.ws.onmessage = this._make_on_message_function(this);\n",
       "\n",
       "    this.ondownload = ondownload;\n",
       "}\n",
       "\n",
       "mpl.figure.prototype._init_header = function() {\n",
       "    var titlebar = $(\n",
       "        '<div class=\"ui-dialog-titlebar ui-widget-header ui-corner-all ' +\n",
       "        'ui-helper-clearfix\"/>');\n",
       "    var titletext = $(\n",
       "        '<div class=\"ui-dialog-title\" style=\"width: 100%; ' +\n",
       "        'text-align: center; padding: 3px;\"/>');\n",
       "    titlebar.append(titletext)\n",
       "    this.root.append(titlebar);\n",
       "    this.header = titletext[0];\n",
       "}\n",
       "\n",
       "\n",
       "\n",
       "mpl.figure.prototype._canvas_extra_style = function(canvas_div) {\n",
       "\n",
       "}\n",
       "\n",
       "\n",
       "mpl.figure.prototype._root_extra_style = function(canvas_div) {\n",
       "\n",
       "}\n",
       "\n",
       "mpl.figure.prototype._init_canvas = function() {\n",
       "    var fig = this;\n",
       "\n",
       "    var canvas_div = $('<div/>');\n",
       "\n",
       "    canvas_div.attr('style', 'position: relative; clear: both; outline: 0');\n",
       "\n",
       "    function canvas_keyboard_event(event) {\n",
       "        return fig.key_event(event, event['data']);\n",
       "    }\n",
       "\n",
       "    canvas_div.keydown('key_press', canvas_keyboard_event);\n",
       "    canvas_div.keyup('key_release', canvas_keyboard_event);\n",
       "    this.canvas_div = canvas_div\n",
       "    this._canvas_extra_style(canvas_div)\n",
       "    this.root.append(canvas_div);\n",
       "\n",
       "    var canvas = $('<canvas/>');\n",
       "    canvas.addClass('mpl-canvas');\n",
       "    canvas.attr('style', \"left: 0; top: 0; z-index: 0; outline: 0\")\n",
       "\n",
       "    this.canvas = canvas[0];\n",
       "    this.context = canvas[0].getContext(\"2d\");\n",
       "\n",
       "    var rubberband = $('<canvas/>');\n",
       "    rubberband.attr('style', \"position: absolute; left: 0; top: 0; z-index: 1;\")\n",
       "\n",
       "    var pass_mouse_events = true;\n",
       "\n",
       "    canvas_div.resizable({\n",
       "        start: function(event, ui) {\n",
       "            pass_mouse_events = false;\n",
       "        },\n",
       "        resize: function(event, ui) {\n",
       "            fig.request_resize(ui.size.width, ui.size.height);\n",
       "        },\n",
       "        stop: function(event, ui) {\n",
       "            pass_mouse_events = true;\n",
       "            fig.request_resize(ui.size.width, ui.size.height);\n",
       "        },\n",
       "    });\n",
       "\n",
       "    function mouse_event_fn(event) {\n",
       "        if (pass_mouse_events)\n",
       "            return fig.mouse_event(event, event['data']);\n",
       "    }\n",
       "\n",
       "    rubberband.mousedown('button_press', mouse_event_fn);\n",
       "    rubberband.mouseup('button_release', mouse_event_fn);\n",
       "    // Throttle sequential mouse events to 1 every 20ms.\n",
       "    rubberband.mousemove('motion_notify', mouse_event_fn);\n",
       "\n",
       "    rubberband.mouseenter('figure_enter', mouse_event_fn);\n",
       "    rubberband.mouseleave('figure_leave', mouse_event_fn);\n",
       "\n",
       "    canvas_div.on(\"wheel\", function (event) {\n",
       "        event = event.originalEvent;\n",
       "        event['data'] = 'scroll'\n",
       "        if (event.deltaY < 0) {\n",
       "            event.step = 1;\n",
       "        } else {\n",
       "            event.step = -1;\n",
       "        }\n",
       "        mouse_event_fn(event);\n",
       "    });\n",
       "\n",
       "    canvas_div.append(canvas);\n",
       "    canvas_div.append(rubberband);\n",
       "\n",
       "    this.rubberband = rubberband;\n",
       "    this.rubberband_canvas = rubberband[0];\n",
       "    this.rubberband_context = rubberband[0].getContext(\"2d\");\n",
       "    this.rubberband_context.strokeStyle = \"#000000\";\n",
       "\n",
       "    this._resize_canvas = function(width, height) {\n",
       "        // Keep the size of the canvas, canvas container, and rubber band\n",
       "        // canvas in synch.\n",
       "        canvas_div.css('width', width)\n",
       "        canvas_div.css('height', height)\n",
       "\n",
       "        canvas.attr('width', width);\n",
       "        canvas.attr('height', height);\n",
       "\n",
       "        rubberband.attr('width', width);\n",
       "        rubberband.attr('height', height);\n",
       "    }\n",
       "\n",
       "    // Set the figure to an initial 600x600px, this will subsequently be updated\n",
       "    // upon first draw.\n",
       "    this._resize_canvas(600, 600);\n",
       "\n",
       "    // Disable right mouse context menu.\n",
       "    $(this.rubberband_canvas).bind(\"contextmenu\",function(e){\n",
       "        return false;\n",
       "    });\n",
       "\n",
       "    function set_focus () {\n",
       "        canvas.focus();\n",
       "        canvas_div.focus();\n",
       "    }\n",
       "\n",
       "    window.setTimeout(set_focus, 100);\n",
       "}\n",
       "\n",
       "mpl.figure.prototype._init_toolbar = function() {\n",
       "    var fig = this;\n",
       "\n",
       "    var nav_element = $('<div/>')\n",
       "    nav_element.attr('style', 'width: 100%');\n",
       "    this.root.append(nav_element);\n",
       "\n",
       "    // Define a callback function for later on.\n",
       "    function toolbar_event(event) {\n",
       "        return fig.toolbar_button_onclick(event['data']);\n",
       "    }\n",
       "    function toolbar_mouse_event(event) {\n",
       "        return fig.toolbar_button_onmouseover(event['data']);\n",
       "    }\n",
       "\n",
       "    for(var toolbar_ind in mpl.toolbar_items) {\n",
       "        var name = mpl.toolbar_items[toolbar_ind][0];\n",
       "        var tooltip = mpl.toolbar_items[toolbar_ind][1];\n",
       "        var image = mpl.toolbar_items[toolbar_ind][2];\n",
       "        var method_name = mpl.toolbar_items[toolbar_ind][3];\n",
       "\n",
       "        if (!name) {\n",
       "            // put a spacer in here.\n",
       "            continue;\n",
       "        }\n",
       "        var button = $('<button/>');\n",
       "        button.addClass('ui-button ui-widget ui-state-default ui-corner-all ' +\n",
       "                        'ui-button-icon-only');\n",
       "        button.attr('role', 'button');\n",
       "        button.attr('aria-disabled', 'false');\n",
       "        button.click(method_name, toolbar_event);\n",
       "        button.mouseover(tooltip, toolbar_mouse_event);\n",
       "\n",
       "        var icon_img = $('<span/>');\n",
       "        icon_img.addClass('ui-button-icon-primary ui-icon');\n",
       "        icon_img.addClass(image);\n",
       "        icon_img.addClass('ui-corner-all');\n",
       "\n",
       "        var tooltip_span = $('<span/>');\n",
       "        tooltip_span.addClass('ui-button-text');\n",
       "        tooltip_span.html(tooltip);\n",
       "\n",
       "        button.append(icon_img);\n",
       "        button.append(tooltip_span);\n",
       "\n",
       "        nav_element.append(button);\n",
       "    }\n",
       "\n",
       "    var fmt_picker_span = $('<span/>');\n",
       "\n",
       "    var fmt_picker = $('<select/>');\n",
       "    fmt_picker.addClass('mpl-toolbar-option ui-widget ui-widget-content');\n",
       "    fmt_picker_span.append(fmt_picker);\n",
       "    nav_element.append(fmt_picker_span);\n",
       "    this.format_dropdown = fmt_picker[0];\n",
       "\n",
       "    for (var ind in mpl.extensions) {\n",
       "        var fmt = mpl.extensions[ind];\n",
       "        var option = $(\n",
       "            '<option/>', {selected: fmt === mpl.default_extension}).html(fmt);\n",
       "        fmt_picker.append(option)\n",
       "    }\n",
       "\n",
       "    // Add hover states to the ui-buttons\n",
       "    $( \".ui-button\" ).hover(\n",
       "        function() { $(this).addClass(\"ui-state-hover\");},\n",
       "        function() { $(this).removeClass(\"ui-state-hover\");}\n",
       "    );\n",
       "\n",
       "    var status_bar = $('<span class=\"mpl-message\"/>');\n",
       "    nav_element.append(status_bar);\n",
       "    this.message = status_bar[0];\n",
       "}\n",
       "\n",
       "mpl.figure.prototype.request_resize = function(x_pixels, y_pixels) {\n",
       "    // Request matplotlib to resize the figure. Matplotlib will then trigger a resize in the client,\n",
       "    // which will in turn request a refresh of the image.\n",
       "    this.send_message('resize', {'width': x_pixels, 'height': y_pixels});\n",
       "}\n",
       "\n",
       "mpl.figure.prototype.send_message = function(type, properties) {\n",
       "    properties['type'] = type;\n",
       "    properties['figure_id'] = this.id;\n",
       "    this.ws.send(JSON.stringify(properties));\n",
       "}\n",
       "\n",
       "mpl.figure.prototype.send_draw_message = function() {\n",
       "    if (!this.waiting) {\n",
       "        this.waiting = true;\n",
       "        this.ws.send(JSON.stringify({type: \"draw\", figure_id: this.id}));\n",
       "    }\n",
       "}\n",
       "\n",
       "\n",
       "mpl.figure.prototype.handle_save = function(fig, msg) {\n",
       "    var format_dropdown = fig.format_dropdown;\n",
       "    var format = format_dropdown.options[format_dropdown.selectedIndex].value;\n",
       "    fig.ondownload(fig, format);\n",
       "}\n",
       "\n",
       "\n",
       "mpl.figure.prototype.handle_resize = function(fig, msg) {\n",
       "    var size = msg['size'];\n",
       "    if (size[0] != fig.canvas.width || size[1] != fig.canvas.height) {\n",
       "        fig._resize_canvas(size[0], size[1]);\n",
       "        fig.send_message(\"refresh\", {});\n",
       "    };\n",
       "}\n",
       "\n",
       "mpl.figure.prototype.handle_rubberband = function(fig, msg) {\n",
       "    var x0 = msg['x0'];\n",
       "    var y0 = fig.canvas.height - msg['y0'];\n",
       "    var x1 = msg['x1'];\n",
       "    var y1 = fig.canvas.height - msg['y1'];\n",
       "    x0 = Math.floor(x0) + 0.5;\n",
       "    y0 = Math.floor(y0) + 0.5;\n",
       "    x1 = Math.floor(x1) + 0.5;\n",
       "    y1 = Math.floor(y1) + 0.5;\n",
       "    var min_x = Math.min(x0, x1);\n",
       "    var min_y = Math.min(y0, y1);\n",
       "    var width = Math.abs(x1 - x0);\n",
       "    var height = Math.abs(y1 - y0);\n",
       "\n",
       "    fig.rubberband_context.clearRect(\n",
       "        0, 0, fig.canvas.width, fig.canvas.height);\n",
       "\n",
       "    fig.rubberband_context.strokeRect(min_x, min_y, width, height);\n",
       "}\n",
       "\n",
       "mpl.figure.prototype.handle_figure_label = function(fig, msg) {\n",
       "    // Updates the figure title.\n",
       "    fig.header.textContent = msg['label'];\n",
       "}\n",
       "\n",
       "mpl.figure.prototype.handle_cursor = function(fig, msg) {\n",
       "    var cursor = msg['cursor'];\n",
       "    switch(cursor)\n",
       "    {\n",
       "    case 0:\n",
       "        cursor = 'pointer';\n",
       "        break;\n",
       "    case 1:\n",
       "        cursor = 'default';\n",
       "        break;\n",
       "    case 2:\n",
       "        cursor = 'crosshair';\n",
       "        break;\n",
       "    case 3:\n",
       "        cursor = 'move';\n",
       "        break;\n",
       "    }\n",
       "    fig.rubberband_canvas.style.cursor = cursor;\n",
       "}\n",
       "\n",
       "mpl.figure.prototype.handle_message = function(fig, msg) {\n",
       "    fig.message.textContent = msg['message'];\n",
       "}\n",
       "\n",
       "mpl.figure.prototype.handle_draw = function(fig, msg) {\n",
       "    // Request the server to send over a new figure.\n",
       "    fig.send_draw_message();\n",
       "}\n",
       "\n",
       "mpl.figure.prototype.handle_image_mode = function(fig, msg) {\n",
       "    fig.image_mode = msg['mode'];\n",
       "}\n",
       "\n",
       "mpl.figure.prototype.updated_canvas_event = function() {\n",
       "    // Called whenever the canvas gets updated.\n",
       "    this.send_message(\"ack\", {});\n",
       "}\n",
       "\n",
       "// A function to construct a web socket function for onmessage handling.\n",
       "// Called in the figure constructor.\n",
       "mpl.figure.prototype._make_on_message_function = function(fig) {\n",
       "    return function socket_on_message(evt) {\n",
       "        if (evt.data instanceof Blob) {\n",
       "            /* FIXME: We get \"Resource interpreted as Image but\n",
       "             * transferred with MIME type text/plain:\" errors on\n",
       "             * Chrome.  But how to set the MIME type?  It doesn't seem\n",
       "             * to be part of the websocket stream */\n",
       "            evt.data.type = \"image/png\";\n",
       "\n",
       "            /* Free the memory for the previous frames */\n",
       "            if (fig.imageObj.src) {\n",
       "                (window.URL || window.webkitURL).revokeObjectURL(\n",
       "                    fig.imageObj.src);\n",
       "            }\n",
       "\n",
       "            fig.imageObj.src = (window.URL || window.webkitURL).createObjectURL(\n",
       "                evt.data);\n",
       "            fig.updated_canvas_event();\n",
       "            fig.waiting = false;\n",
       "            return;\n",
       "        }\n",
       "        else if (typeof evt.data === 'string' && evt.data.slice(0, 21) == \"data:image/png;base64\") {\n",
       "            fig.imageObj.src = evt.data;\n",
       "            fig.updated_canvas_event();\n",
       "            fig.waiting = false;\n",
       "            return;\n",
       "        }\n",
       "\n",
       "        var msg = JSON.parse(evt.data);\n",
       "        var msg_type = msg['type'];\n",
       "\n",
       "        // Call the  \"handle_{type}\" callback, which takes\n",
       "        // the figure and JSON message as its only arguments.\n",
       "        try {\n",
       "            var callback = fig[\"handle_\" + msg_type];\n",
       "        } catch (e) {\n",
       "            console.log(\"No handler for the '\" + msg_type + \"' message type: \", msg);\n",
       "            return;\n",
       "        }\n",
       "\n",
       "        if (callback) {\n",
       "            try {\n",
       "                // console.log(\"Handling '\" + msg_type + \"' message: \", msg);\n",
       "                callback(fig, msg);\n",
       "            } catch (e) {\n",
       "                console.log(\"Exception inside the 'handler_\" + msg_type + \"' callback:\", e, e.stack, msg);\n",
       "            }\n",
       "        }\n",
       "    };\n",
       "}\n",
       "\n",
       "// from http://stackoverflow.com/questions/1114465/getting-mouse-location-in-canvas\n",
       "mpl.findpos = function(e) {\n",
       "    //this section is from http://www.quirksmode.org/js/events_properties.html\n",
       "    var targ;\n",
       "    if (!e)\n",
       "        e = window.event;\n",
       "    if (e.target)\n",
       "        targ = e.target;\n",
       "    else if (e.srcElement)\n",
       "        targ = e.srcElement;\n",
       "    if (targ.nodeType == 3) // defeat Safari bug\n",
       "        targ = targ.parentNode;\n",
       "\n",
       "    // jQuery normalizes the pageX and pageY\n",
       "    // pageX,Y are the mouse positions relative to the document\n",
       "    // offset() returns the position of the element relative to the document\n",
       "    var x = e.pageX - $(targ).offset().left;\n",
       "    var y = e.pageY - $(targ).offset().top;\n",
       "\n",
       "    return {\"x\": x, \"y\": y};\n",
       "};\n",
       "\n",
       "/*\n",
       " * return a copy of an object with only non-object keys\n",
       " * we need this to avoid circular references\n",
       " * http://stackoverflow.com/a/24161582/3208463\n",
       " */\n",
       "function simpleKeys (original) {\n",
       "  return Object.keys(original).reduce(function (obj, key) {\n",
       "    if (typeof original[key] !== 'object')\n",
       "        obj[key] = original[key]\n",
       "    return obj;\n",
       "  }, {});\n",
       "}\n",
       "\n",
       "mpl.figure.prototype.mouse_event = function(event, name) {\n",
       "    var canvas_pos = mpl.findpos(event)\n",
       "\n",
       "    if (name === 'button_press')\n",
       "    {\n",
       "        this.canvas.focus();\n",
       "        this.canvas_div.focus();\n",
       "    }\n",
       "\n",
       "    var x = canvas_pos.x;\n",
       "    var y = canvas_pos.y;\n",
       "\n",
       "    this.send_message(name, {x: x, y: y, button: event.button,\n",
       "                             step: event.step,\n",
       "                             guiEvent: simpleKeys(event)});\n",
       "\n",
       "    /* This prevents the web browser from automatically changing to\n",
       "     * the text insertion cursor when the button is pressed.  We want\n",
       "     * to control all of the cursor setting manually through the\n",
       "     * 'cursor' event from matplotlib */\n",
       "    event.preventDefault();\n",
       "    return false;\n",
       "}\n",
       "\n",
       "mpl.figure.prototype._key_event_extra = function(event, name) {\n",
       "    // Handle any extra behaviour associated with a key event\n",
       "}\n",
       "\n",
       "mpl.figure.prototype.key_event = function(event, name) {\n",
       "\n",
       "    // Prevent repeat events\n",
       "    if (name == 'key_press')\n",
       "    {\n",
       "        if (event.which === this._key)\n",
       "            return;\n",
       "        else\n",
       "            this._key = event.which;\n",
       "    }\n",
       "    if (name == 'key_release')\n",
       "        this._key = null;\n",
       "\n",
       "    var value = '';\n",
       "    if (event.ctrlKey && event.which != 17)\n",
       "        value += \"ctrl+\";\n",
       "    if (event.altKey && event.which != 18)\n",
       "        value += \"alt+\";\n",
       "    if (event.shiftKey && event.which != 16)\n",
       "        value += \"shift+\";\n",
       "\n",
       "    value += 'k';\n",
       "    value += event.which.toString();\n",
       "\n",
       "    this._key_event_extra(event, name);\n",
       "\n",
       "    this.send_message(name, {key: value,\n",
       "                             guiEvent: simpleKeys(event)});\n",
       "    return false;\n",
       "}\n",
       "\n",
       "mpl.figure.prototype.toolbar_button_onclick = function(name) {\n",
       "    if (name == 'download') {\n",
       "        this.handle_save(this, null);\n",
       "    } else {\n",
       "        this.send_message(\"toolbar_button\", {name: name});\n",
       "    }\n",
       "};\n",
       "\n",
       "mpl.figure.prototype.toolbar_button_onmouseover = function(tooltip) {\n",
       "    this.message.textContent = tooltip;\n",
       "};\n",
       "mpl.toolbar_items = [[\"Home\", \"Reset original view\", \"fa fa-home icon-home\", \"home\"], [\"Back\", \"Back to  previous view\", \"fa fa-arrow-left icon-arrow-left\", \"back\"], [\"Forward\", \"Forward to next view\", \"fa fa-arrow-right icon-arrow-right\", \"forward\"], [\"\", \"\", \"\", \"\"], [\"Pan\", \"Pan axes with left mouse, zoom with right\", \"fa fa-arrows icon-move\", \"pan\"], [\"Zoom\", \"Zoom to rectangle\", \"fa fa-square-o icon-check-empty\", \"zoom\"], [\"\", \"\", \"\", \"\"], [\"Download\", \"Download plot\", \"fa fa-floppy-o icon-save\", \"download\"]];\n",
       "\n",
       "mpl.extensions = [\"eps\", \"pdf\", \"png\", \"ps\", \"raw\", \"svg\"];\n",
       "\n",
       "mpl.default_extension = \"png\";var comm_websocket_adapter = function(comm) {\n",
       "    // Create a \"websocket\"-like object which calls the given IPython comm\n",
       "    // object with the appropriate methods. Currently this is a non binary\n",
       "    // socket, so there is still some room for performance tuning.\n",
       "    var ws = {};\n",
       "\n",
       "    ws.close = function() {\n",
       "        comm.close()\n",
       "    };\n",
       "    ws.send = function(m) {\n",
       "        //console.log('sending', m);\n",
       "        comm.send(m);\n",
       "    };\n",
       "    // Register the callback with on_msg.\n",
       "    comm.on_msg(function(msg) {\n",
       "        //console.log('receiving', msg['content']['data'], msg);\n",
       "        // Pass the mpl event to the overriden (by mpl) onmessage function.\n",
       "        ws.onmessage(msg['content']['data'])\n",
       "    });\n",
       "    return ws;\n",
       "}\n",
       "\n",
       "mpl.mpl_figure_comm = function(comm, msg) {\n",
       "    // This is the function which gets called when the mpl process\n",
       "    // starts-up an IPython Comm through the \"matplotlib\" channel.\n",
       "\n",
       "    var id = msg.content.data.id;\n",
       "    // Get hold of the div created by the display call when the Comm\n",
       "    // socket was opened in Python.\n",
       "    var element = $(\"#\" + id);\n",
       "    var ws_proxy = comm_websocket_adapter(comm)\n",
       "\n",
       "    function ondownload(figure, format) {\n",
       "        window.open(figure.imageObj.src);\n",
       "    }\n",
       "\n",
       "    var fig = new mpl.figure(id, ws_proxy,\n",
       "                           ondownload,\n",
       "                           element.get(0));\n",
       "\n",
       "    // Call onopen now - mpl needs it, as it is assuming we've passed it a real\n",
       "    // web socket which is closed, not our websocket->open comm proxy.\n",
       "    ws_proxy.onopen();\n",
       "\n",
       "    fig.parent_element = element.get(0);\n",
       "    fig.cell_info = mpl.find_output_cell(\"<div id='\" + id + \"'></div>\");\n",
       "    if (!fig.cell_info) {\n",
       "        console.error(\"Failed to find cell for figure\", id, fig);\n",
       "        return;\n",
       "    }\n",
       "\n",
       "    var output_index = fig.cell_info[2]\n",
       "    var cell = fig.cell_info[0];\n",
       "\n",
       "};\n",
       "\n",
       "mpl.figure.prototype.handle_close = function(fig, msg) {\n",
       "    fig.root.unbind('remove')\n",
       "\n",
       "    // Update the output cell to use the data from the current canvas.\n",
       "    fig.push_to_output();\n",
       "    var dataURL = fig.canvas.toDataURL();\n",
       "    // Re-enable the keyboard manager in IPython - without this line, in FF,\n",
       "    // the notebook keyboard shortcuts fail.\n",
       "    IPython.keyboard_manager.enable()\n",
       "    $(fig.parent_element).html('<img src=\"' + dataURL + '\">');\n",
       "    fig.close_ws(fig, msg);\n",
       "}\n",
       "\n",
       "mpl.figure.prototype.close_ws = function(fig, msg){\n",
       "    fig.send_message('closing', msg);\n",
       "    // fig.ws.close()\n",
       "}\n",
       "\n",
       "mpl.figure.prototype.push_to_output = function(remove_interactive) {\n",
       "    // Turn the data on the canvas into data in the output cell.\n",
       "    var dataURL = this.canvas.toDataURL();\n",
       "    this.cell_info[1]['text/html'] = '<img src=\"' + dataURL + '\">';\n",
       "}\n",
       "\n",
       "mpl.figure.prototype.updated_canvas_event = function() {\n",
       "    // Tell IPython that the notebook contents must change.\n",
       "    IPython.notebook.set_dirty(true);\n",
       "    this.send_message(\"ack\", {});\n",
       "    var fig = this;\n",
       "    // Wait a second, then push the new image to the DOM so\n",
       "    // that it is saved nicely (might be nice to debounce this).\n",
       "    setTimeout(function () { fig.push_to_output() }, 1000);\n",
       "}\n",
       "\n",
       "mpl.figure.prototype._init_toolbar = function() {\n",
       "    var fig = this;\n",
       "\n",
       "    var nav_element = $('<div/>')\n",
       "    nav_element.attr('style', 'width: 100%');\n",
       "    this.root.append(nav_element);\n",
       "\n",
       "    // Define a callback function for later on.\n",
       "    function toolbar_event(event) {\n",
       "        return fig.toolbar_button_onclick(event['data']);\n",
       "    }\n",
       "    function toolbar_mouse_event(event) {\n",
       "        return fig.toolbar_button_onmouseover(event['data']);\n",
       "    }\n",
       "\n",
       "    for(var toolbar_ind in mpl.toolbar_items){\n",
       "        var name = mpl.toolbar_items[toolbar_ind][0];\n",
       "        var tooltip = mpl.toolbar_items[toolbar_ind][1];\n",
       "        var image = mpl.toolbar_items[toolbar_ind][2];\n",
       "        var method_name = mpl.toolbar_items[toolbar_ind][3];\n",
       "\n",
       "        if (!name) { continue; };\n",
       "\n",
       "        var button = $('<button class=\"btn btn-default\" href=\"#\" title=\"' + name + '\"><i class=\"fa ' + image + ' fa-lg\"></i></button>');\n",
       "        button.click(method_name, toolbar_event);\n",
       "        button.mouseover(tooltip, toolbar_mouse_event);\n",
       "        nav_element.append(button);\n",
       "    }\n",
       "\n",
       "    // Add the status bar.\n",
       "    var status_bar = $('<span class=\"mpl-message\" style=\"text-align:right; float: right;\"/>');\n",
       "    nav_element.append(status_bar);\n",
       "    this.message = status_bar[0];\n",
       "\n",
       "    // Add the close button to the window.\n",
       "    var buttongrp = $('<div class=\"btn-group inline pull-right\"></div>');\n",
       "    var button = $('<button class=\"btn btn-mini btn-primary\" href=\"#\" title=\"Stop Interaction\"><i class=\"fa fa-power-off icon-remove icon-large\"></i></button>');\n",
       "    button.click(function (evt) { fig.handle_close(fig, {}); } );\n",
       "    button.mouseover('Stop Interaction', toolbar_mouse_event);\n",
       "    buttongrp.append(button);\n",
       "    var titlebar = this.root.find($('.ui-dialog-titlebar'));\n",
       "    titlebar.prepend(buttongrp);\n",
       "}\n",
       "\n",
       "mpl.figure.prototype._root_extra_style = function(el){\n",
       "    var fig = this\n",
       "    el.on(\"remove\", function(){\n",
       "\tfig.close_ws(fig, {});\n",
       "    });\n",
       "}\n",
       "\n",
       "mpl.figure.prototype._canvas_extra_style = function(el){\n",
       "    // this is important to make the div 'focusable\n",
       "    el.attr('tabindex', 0)\n",
       "    // reach out to IPython and tell the keyboard manager to turn it's self\n",
       "    // off when our div gets focus\n",
       "\n",
       "    // location in version 3\n",
       "    if (IPython.notebook.keyboard_manager) {\n",
       "        IPython.notebook.keyboard_manager.register_events(el);\n",
       "    }\n",
       "    else {\n",
       "        // location in version 2\n",
       "        IPython.keyboard_manager.register_events(el);\n",
       "    }\n",
       "\n",
       "}\n",
       "\n",
       "mpl.figure.prototype._key_event_extra = function(event, name) {\n",
       "    var manager = IPython.notebook.keyboard_manager;\n",
       "    if (!manager)\n",
       "        manager = IPython.keyboard_manager;\n",
       "\n",
       "    // Check for shift+enter\n",
       "    if (event.shiftKey && event.which == 13) {\n",
       "        this.canvas_div.blur();\n",
       "        event.shiftKey = false;\n",
       "        // Send a \"J\" for go to next cell\n",
       "        event.which = 74;\n",
       "        event.keyCode = 74;\n",
       "        manager.command_mode();\n",
       "        manager.handle_keydown(event);\n",
       "    }\n",
       "}\n",
       "\n",
       "mpl.figure.prototype.handle_save = function(fig, msg) {\n",
       "    fig.ondownload(fig, null);\n",
       "}\n",
       "\n",
       "\n",
       "mpl.find_output_cell = function(html_output) {\n",
       "    // Return the cell and output element which can be found *uniquely* in the notebook.\n",
       "    // Note - this is a bit hacky, but it is done because the \"notebook_saving.Notebook\"\n",
       "    // IPython event is triggered only after the cells have been serialised, which for\n",
       "    // our purposes (turning an active figure into a static one), is too late.\n",
       "    var cells = IPython.notebook.get_cells();\n",
       "    var ncells = cells.length;\n",
       "    for (var i=0; i<ncells; i++) {\n",
       "        var cell = cells[i];\n",
       "        if (cell.cell_type === 'code'){\n",
       "            for (var j=0; j<cell.output_area.outputs.length; j++) {\n",
       "                var data = cell.output_area.outputs[j];\n",
       "                if (data.data) {\n",
       "                    // IPython >= 3 moved mimebundle to data attribute of output\n",
       "                    data = data.data;\n",
       "                }\n",
       "                if (data['text/html'] == html_output) {\n",
       "                    return [cell, data, j];\n",
       "                }\n",
       "            }\n",
       "        }\n",
       "    }\n",
       "}\n",
       "\n",
       "// Register the function which deals with the matplotlib target/channel.\n",
       "// The kernel may be null if the page has been refreshed.\n",
       "if (IPython.notebook.kernel != null) {\n",
       "    IPython.notebook.kernel.comm_manager.register_target('matplotlib', mpl.mpl_figure_comm);\n",
       "}\n"
      ],
      "text/plain": [
       "<IPython.core.display.Javascript object>"
      ]
     },
     "metadata": {},
     "output_type": "display_data"
    },
    {
     "data": {
      "text/html": [
       "<img src=\"data:image/png;base64,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\">"
      ],
      "text/plain": [
       "<IPython.core.display.HTML object>"
      ]
     },
     "metadata": {},
     "output_type": "display_data"
    }
   ],
   "source": [
    "%matplotlib notebook\n",
    "start=468000\n",
    "stop=472000\n",
    "plt.plot(traces['filtered']/2,'k')\n",
    "#plt.plot(traces['filtered'],'r',lw=2)\n",
    "plt.show()\n",
    "plt.savefig('baselinecorrected.svg')"
   ]
  },
  {
   "cell_type": "code",
   "execution_count": null,
   "metadata": {
    "collapsed": false
   },
   "outputs": [],
   "source": [
    "2**16*4e-9"
   ]
  },
  {
   "cell_type": "code",
   "execution_count": null,
   "metadata": {
    "collapsed": false,
    "scrolled": false
   },
   "outputs": [],
   "source": [
    "ps.packets"
   ]
  },
  {
   "cell_type": "code",
   "execution_count": null,
   "metadata": {
    "collapsed": false
   },
   "outputs": [],
   "source": [
    "len(ps.packets[8].bytes)"
   ]
  },
  {
   "cell_type": "code",
   "execution_count": null,
   "metadata": {
    "collapsed": false
   },
   "outputs": [],
   "source": [
    "lasts"
   ]
  },
  {
   "cell_type": "code",
   "execution_count": null,
   "metadata": {
    "collapsed": false
   },
   "outputs": [],
   "source": [
    "packets[0]"
   ]
  },
  {
   "cell_type": "code",
   "execution_count": null,
   "metadata": {
    "collapsed": false
   },
   "outputs": [],
   "source": [
    "bytestream['data'].dtype==np.uint32"
   ]
  },
  {
   "cell_type": "code",
   "execution_count": null,
   "metadata": {
    "collapsed": false
   },
   "outputs": [],
   "source": [
    "lasts = bytestream['last'].nonzero()[0] + 1\n",
    "bpdt=np.dtype([('data',np.uint8),('pad',np.uint8,(3,))])\n",
    "byte_data=bytestream['data'].view(bpdt)['data'].astype(np.uint8,copy=True)[0:lasts[-1]]\n"
   ]
  },
  {
   "cell_type": "code",
   "execution_count": null,
   "metadata": {
    "collapsed": false
   },
   "outputs": [],
   "source": [
    "'{:d}'.format(byte_data[14:16].view(np.uint16)[0])"
   ]
  },
  {
   "cell_type": "code",
   "execution_count": null,
   "metadata": {
    "collapsed": false
   },
   "outputs": [],
   "source": [
    "lasts = bytestream['last'].nonzero()[0] + 1\n",
    "lasts"
   ]
  },
  {
   "cell_type": "code",
   "execution_count": null,
   "metadata": {
    "collapsed": false
   },
   "outputs": [],
   "source": [
    "lasts[-1]"
   ]
  },
  {
   "cell_type": "code",
   "execution_count": null,
   "metadata": {
    "collapsed": false
   },
   "outputs": [],
   "source": [
    "data=Data(fileset, 2, 'teslib','measurement_subsystem_TB')\n",
    "enet=PacketStream(data.byte_stream)\n",
    "dists=enet.distributions"
   ]
  },
  {
   "cell_type": "code",
   "execution_count": null,
   "metadata": {
    "collapsed": false
   },
   "outputs": [],
   "source": []
  },
  {
   "cell_type": "code",
   "execution_count": null,
   "metadata": {
    "collapsed": false
   },
   "outputs": [],
   "source": [
    "# compare transmitted distributions with the data\n",
    "failed=False\n",
    "if dists == []:\n",
    "    print('No distributions')\n",
    "else:\n",
    "    for dist in dists:\n",
    "        dif = (dist.counts - dist.data_counts(data))[0].nonzero()\n",
    "        if dif[0].size:\n",
    "            print(\n",
    "                '{:}\\nDoes not reconcile with the data, '+\n",
    "                'Differences at {:d} indexs:\\n{:}\\n'.format(\n",
    "                    dist, dif[0].size, dif[0])\n",
    "            )\n",
    "            failed=True\n",
    "    if not failed:\n",
    "        print('Distributions agree with data')\n",
    "    \n"
   ]
  },
  {
   "cell_type": "markdown",
   "metadata": {},
   "source": [
    " ## work area"
   ]
  },
  {
   "cell_type": "code",
   "execution_count": null,
   "metadata": {
    "collapsed": false,
    "scrolled": false
   },
   "outputs": [],
   "source": [
    "enet.packets"
   ]
  },
  {
   "cell_type": "code",
   "execution_count": null,
   "metadata": {
    "collapsed": false
   },
   "outputs": [],
   "source": [
    "data.byte_stream"
   ]
  },
  {
   "cell_type": "code",
   "execution_count": null,
   "metadata": {
    "collapsed": false,
    "scrolled": false
   },
   "outputs": [],
   "source": [
    "%matplotlib notebook\n",
    "plt.plot(data.trace[0]['raw'],'b',lw=0.5)\n",
    "plt.plot(data.trace[0]['filtered'],'r',lw=1.5)"
   ]
  },
  {
   "cell_type": "code",
   "execution_count": null,
   "metadata": {
    "collapsed": false
   },
   "outputs": [],
   "source": [
    "enet.packets[4].payload[40:].view(np.uint32).size"
   ]
  },
  {
   "cell_type": "code",
   "execution_count": null,
   "metadata": {
    "collapsed": false
   },
   "outputs": [],
   "source": [
    "enet.packets[4].length"
   ]
  },
  {
   "cell_type": "code",
   "execution_count": null,
   "metadata": {
    "collapsed": false
   },
   "outputs": [],
   "source": [
    "dist=dists[1]\n",
    "c=check_distribution(dist,data)\n",
    "(c-dist.counts).nonzero()[0].size"
   ]
  },
  {
   "cell_type": "code",
   "execution_count": null,
   "metadata": {
    "collapsed": false
   },
   "outputs": [],
   "source": [
    "start=dist.start_time\n",
    "stop=dist.stop_time+np.uint64(1)\n",
    "s=data.slice((start, stop))\n",
    "f = s.trace[dist.channel]['filtered']\n",
    "fd = data.trace[dist.channel]['filtered'][start:stop]\n",
    "(f-fd).nonzero()"
   ]
  },
  {
   "cell_type": "code",
   "execution_count": null,
   "metadata": {
    "collapsed": false
   },
   "outputs": [],
   "source": [
    "np.uint64(1)+np.uint64(-1)"
   ]
  },
  {
   "cell_type": "code",
   "execution_count": null,
   "metadata": {
    "collapsed": false
   },
   "outputs": [],
   "source": [
    "event_dt=np.dtype(\n",
    "    (np.uint64, \n",
    "        [\n",
    "            ('data', np.uint32),\n",
    "            ('flags0', np.uint8),\n",
    "            ('flags1', np.uint8),\n",
    "            ('time',np.uint16)\n",
    "        ] \n",
    "    )\n",
    ")\n",
    "\n",
    "peak_dt=np.dtype(\n",
    "    (\n",
    "        [\n",
    "            ('height', np.int16),\n",
    "            ('minima', np.int16),\n",
    "            ('flags0', np.uint8),\n",
    "            ('flags1', np.uint8),\n",
    "            ('time',np.uint16)\n",
    "        ] \n",
    "    )\n",
    ")\n",
    "\n",
    "tick_dt=np.dtype(\n",
    "    ( \n",
    "        [\n",
    "            ('period', np.uint32),\n",
    "            ('flags0', np.uint8),\n",
    "            ('flags1', np.uint8),\n",
    "            ('time', np.uint16),\n",
    "            ('timestamp', np.uint64)\n",
    "        ]\n",
    "    )\n",
    ")\n",
    "\n",
    "e = sim.EventStream('teslib','measurement_subsystem_TB')\n",
    "\n",
    "events=e._stream64.view(dtype=event_dt)\n",
    "\n",
    "#type_flags = np.bitwise_and(events['flags'],0x000f)\n",
    "tick = np.bitwise_and(events['flags1'],0x02)!=0\n",
    "window_start = np.bitwise_and(events['flags1'],0x01)!=0\n",
    "\n",
    "tick_mask=np.zeros(len(tick),dtype=bool)\n",
    "i=0\n",
    "while (i < len(tick)):\n",
    "    if tick[i]!=0:\n",
    "        tick_mask[i:i+2]=True\n",
    "        i+=1\n",
    "    i+=1\n",
    "    \n",
    "peaks=e._stream64[~tick_mask].view(dtype=peak_dt)\n",
    "\n",
    "ticks=e._stream64[tick_mask].view(dtype=tick_dt)"
   ]
  },
  {
   "cell_type": "code",
   "execution_count": null,
   "metadata": {
    "collapsed": false
   },
   "outputs": [],
   "source": [
    "d=distributions[0]\n",
    "\n",
    "\n",
    "d.value.trace"
   ]
  },
  {
   "cell_type": "code",
   "execution_count": null,
   "metadata": {
    "collapsed": true
   },
   "outputs": [],
   "source": [
    "%matplotlib notebook\n",
    "stop=distributions[0].stop_time\n",
    "start=distributions[0].start_time\n",
    "plt.plot(data.trace[0]['filtered'][start:stop])"
   ]
  },
  {
   "cell_type": "code",
   "execution_count": null,
   "metadata": {
    "collapsed": false
   },
   "outputs": [],
   "source": [
    "%matplotlib notebook\n",
    "d=0\n",
    "plt.plot(distributions[d].counts)"
   ]
  },
  {
   "cell_type": "code",
   "execution_count": null,
   "metadata": {
    "collapsed": false,
    "scrolled": true
   },
   "outputs": [],
   "source": [
    "p=1\n",
    "lasts=enet['last'].nonzero()[0]+1\n",
    "packets = []\n",
    "prev=0\n",
    "for last in lasts:\n",
    "    packets.append(sim.Packet( np.copy(enet['data'][prev:last]).view(np.uint8)))\n",
    "    prev=last\n",
    "\n",
    "packets[:]"
   ]
  },
  {
   "cell_type": "code",
   "execution_count": null,
   "metadata": {
    "collapsed": false
   },
   "outputs": [],
   "source": [
    "packets[4]"
   ]
  },
  {
   "cell_type": "code",
   "execution_count": null,
   "metadata": {
    "collapsed": false
   },
   "outputs": [],
   "source": [
    "def get_distributions(packets):\n",
    "    for packet in packets:\n",
    "        if packet.payload_type == PayloadType.mca:\n",
    "            \n",
    "        \n",
    "    \n",
    "    \n",
    "    \n",
    "packets[4].payload[0:8].view(mca_header_dt)"
   ]
  },
  {
   "cell_type": "code",
   "execution_count": null,
   "metadata": {
    "collapsed": false
   },
   "outputs": [],
   "source": [
    "peaks=packets[1].payload.view(peak_dt)\n",
    "peaks"
   ]
  },
  {
   "cell_type": "code",
   "execution_count": null,
   "metadata": {
    "collapsed": false
   },
   "outputs": [],
   "source": [
    "\n",
    "time=0\n",
    "times=[]\n",
    "heights=[]\n",
    "minimas=[]\n",
    "\n",
    "for p in packets:\n",
    "    if p.payload_type==sim.EventType.tick:\n",
    "        tick=p.payload.view(tick_dt)\n",
    "        time=tick[0]['timestamp']\n",
    "    elif p.payload_type==sim.EventType.peak:\n",
    "        peaks=p.payload.view(peak_dt)\n",
    "        for peak in peaks:\n",
    "            time+=peak['time']\n",
    "            times.append(time)\n",
    "            heights.append(peak['height'])\n",
    "            minimas.append(peak['minima'])\n",
    "            "
   ]
  },
  {
   "cell_type": "code",
   "execution_count": null,
   "metadata": {
    "collapsed": false
   },
   "outputs": [],
   "source": [
    "times"
   ]
  },
  {
   "cell_type": "code",
   "execution_count": null,
   "metadata": {
    "collapsed": false
   },
   "outputs": [],
   "source": [
    "packets[1].payload.view(peak_dt)"
   ]
  },
  {
   "cell_type": "code",
   "execution_count": null,
   "metadata": {
    "collapsed": false
   },
   "outputs": [],
   "source": [
    "heights[0]"
   ]
  },
  {
   "cell_type": "code",
   "execution_count": null,
   "metadata": {
    "collapsed": false,
    "scrolled": false
   },
   "outputs": [],
   "source": [
    "%matplotlib notebook\n",
    "p=3\n",
    "x=np.arange(times[p]-300,times[p]+1000,dtype=np.uint64)\n",
    "plt.plot([times[p], times[p]],[minimas[p], heights[p]],'r',lw=2)\n",
    "plt.step(x,data.trace['filtered'][x])\n",
    "plt.plot(data.peak[p/2],data.trace['filtered'][data.peak[p/2]],'ro')\n",
    "plt.plot(\n",
    "    [data.peak_start[p/2],times[p]],\n",
    "    [data.trace['filtered'][data.peak_start[p/2]],data.trace['filtered'][data.peak_start[p/2]]],\n",
    "    'k'\n",
    ")\n",
    "plt.plot(\n",
    "    [times[p],data.peak[p/2]],\n",
    "    [data.trace['filtered'][data.peak[p/2]],data.trace['filtered'][data.peak[p/2]]],\n",
    "    'k'\n",
    ")"
   ]
  },
  {
   "cell_type": "code",
   "execution_count": null,
   "metadata": {
    "collapsed": false
   },
   "outputs": [],
   "source": [
    "%matplotlib notebook\n",
    "fig=simplt.plot_slice(data.slice((data.peak[0]-1000,data.peak[0]+1000)))\n",
    "data.trace['filtered'][data.peak[0]]"
   ]
  },
  {
   "cell_type": "code",
   "execution_count": null,
   "metadata": {
    "collapsed": false,
    "scrolled": false
   },
   "outputs": [],
   "source": [
    "data.cfd_low"
   ]
  },
  {
   "cell_type": "code",
   "execution_count": null,
   "metadata": {
    "collapsed": false
   },
   "outputs": [],
   "source": [
    "packet_bytes=packet.view(np.uint8)"
   ]
  },
  {
   "cell_type": "code",
   "execution_count": null,
   "metadata": {
    "collapsed": false
   },
   "outputs": [],
   "source": [
    "packet_bytes"
   ]
  },
  {
   "cell_type": "code",
   "execution_count": null,
   "metadata": {
    "collapsed": false
   },
   "outputs": [],
   "source": []
  },
  {
   "cell_type": "code",
   "execution_count": null,
   "metadata": {
    "collapsed": false
   },
   "outputs": [],
   "source": [
    "\n",
    "payload"
   ]
  },
  {
   "cell_type": "code",
   "execution_count": null,
   "metadata": {
    "collapsed": false,
    "scrolled": false
   },
   "outputs": [],
   "source": [
    "\n",
    "payload_type"
   ]
  },
  {
   "cell_type": "code",
   "execution_count": null,
   "metadata": {
    "collapsed": false
   },
   "outputs": [],
   "source": [
    "time=payload[6:8].view(np.uint16)\n",
    "time"
   ]
  },
  {
   "cell_type": "code",
   "execution_count": null,
   "metadata": {
    "collapsed": false
   },
   "outputs": [],
   "source": [
    "\n",
    "peaks"
   ]
  },
  {
   "cell_type": "code",
   "execution_count": null,
   "metadata": {
    "collapsed": false
   },
   "outputs": [],
   "source": [
    "payload[4+8:6+8]"
   ]
  },
  {
   "cell_type": "code",
   "execution_count": null,
   "metadata": {
    "collapsed": false
   },
   "outputs": [],
   "source": [
    "%matplotlib notebook\n",
    "fig=simplt.plot_pulse(1,data)"
   ]
  },
  {
   "cell_type": "code",
   "execution_count": null,
   "metadata": {
    "collapsed": false
   },
   "outputs": [],
   "source": [
    "fig._axstack.as_list()[0]"
   ]
  },
  {
   "cell_type": "code",
   "execution_count": null,
   "metadata": {
    "collapsed": false,
    "scrolled": true
   },
   "outputs": [],
   "source": [
    "tick"
   ]
  },
  {
   "cell_type": "code",
   "execution_count": null,
   "metadata": {
    "collapsed": false
   },
   "outputs": [],
   "source": [
    "ticks"
   ]
  },
  {
   "cell_type": "code",
   "execution_count": null,
   "metadata": {
    "collapsed": false
   },
   "outputs": [],
   "source": [
    "window_start"
   ]
  },
  {
   "cell_type": "code",
   "execution_count": null,
   "metadata": {
    "collapsed": false
   },
   "outputs": [],
   "source": [
    "tick_mask"
   ]
  },
  {
   "cell_type": "code",
   "execution_count": null,
   "metadata": {
    "collapsed": false
   },
   "outputs": [],
   "source": [
    "e._stream64[tick_mask]"
   ]
  },
  {
   "cell_type": "code",
   "execution_count": null,
   "metadata": {
    "collapsed": false
   },
   "outputs": [],
   "source": [
    "type_flags[~tick_mask]"
   ]
  },
  {
   "cell_type": "code",
   "execution_count": null,
   "metadata": {
    "collapsed": false
   },
   "outputs": [],
   "source": [
    "type_flags = np.bitwise_and(events['flags'],0x000f)\n",
    "peak_num = np.right_shift(np.bitwise_and(events['flags'],0x00f0),4)\n",
    "channel = np.right_shift(np.bitwise_and(events['flags'],0x0f00),8)\n",
    "event_type = np.right_shift(np.bitwise_and(events['flags'],0x3000),12)\n",
    "tick=np.bitwise_and(type_flags,0x0002)"
   ]
  },
  {
   "cell_type": "code",
   "execution_count": null,
   "metadata": {
    "collapsed": false
   },
   "outputs": [],
   "source": [
    "ticks"
   ]
  },
  {
   "cell_type": "code",
   "execution_count": null,
   "metadata": {
    "collapsed": false
   },
   "outputs": [],
   "source": []
  },
  {
   "cell_type": "code",
   "execution_count": null,
   "metadata": {
    "collapsed": false
   },
   "outputs": [],
   "source": [
    "tick_mask"
   ]
  },
  {
   "cell_type": "code",
   "execution_count": null,
   "metadata": {
    "collapsed": false
   },
   "outputs": [],
   "source": [
    "events[tick_mask]"
   ]
  },
  {
   "cell_type": "code",
   "execution_count": null,
   "metadata": {
    "collapsed": false
   },
   "outputs": [],
   "source": [
    "time=np.bitwise_and(events[~tick_mask]['time'],0x7fff)\n",
    "c_start=np.bitwise_and(events[~tick_mask]['time'],0x8000)!=0"
   ]
  },
  {
   "cell_type": "code",
   "execution_count": null,
   "metadata": {
    "collapsed": false
   },
   "outputs": [],
   "source": [
    "events[tick_mask]['time']"
   ]
  },
  {
   "cell_type": "code",
   "execution_count": null,
   "metadata": {
    "collapsed": false
   },
   "outputs": [],
   "source": [
    "time"
   ]
  },
  {
   "cell_type": "code",
   "execution_count": null,
   "metadata": {
    "collapsed": false
   },
   "outputs": [],
   "source": [
    "np.binary_repr(time[0],width=16)"
   ]
  },
  {
   "cell_type": "code",
   "execution_count": null,
   "metadata": {
    "collapsed": false
   },
   "outputs": [],
   "source": [
    "events[~tick_mask]['min']"
   ]
  },
  {
   "cell_type": "code",
   "execution_count": null,
   "metadata": {
    "collapsed": false
   },
   "outputs": [],
   "source": [
    "events[~tick_mask]['height']"
   ]
  },
  {
   "cell_type": "code",
   "execution_count": null,
   "metadata": {
    "collapsed": false
   },
   "outputs": [],
   "source": [
    "%matplotlib notebook\n",
    "fig = simplt.plot_pulse(1,data,pre=500,length=3000)\n"
   ]
  },
  {
   "cell_type": "code",
   "execution_count": null,
   "metadata": {
    "collapsed": true
   },
   "outputs": [],
   "source": [
    "import pickle\n",
    "\n",
    "# An arbitrary collection of objects supported by pickle.\n",
    "\n",
    "pickler = pickle.Pickler(open('long.pickle', 'wb'),pickle.HIGHEST_PROTOCOL)\n",
    "pickler.dump(data)\n"
   ]
  },
  {
   "cell_type": "code",
   "execution_count": null,
   "metadata": {
    "collapsed": true
   },
   "outputs": [],
   "source": [
    "unpickler = pickle.Unpickler(open('long.pickle', 'rb'))\n",
    "reg2=unpickler.load()\n",
    "data2=unpickler.load()"
   ]
  },
  {
   "cell_type": "code",
   "execution_count": null,
   "metadata": {
    "collapsed": false
   },
   "outputs": [],
   "source": [
    "data2.trace['slope']"
   ]
  },
  {
   "cell_type": "code",
   "execution_count": null,
   "metadata": {
    "collapsed": false
   },
   "outputs": [],
   "source": [
    "reg2"
   ]
  },
  {
   "cell_type": "code",
   "execution_count": null,
   "metadata": {
    "collapsed": false,
    "scrolled": false
   },
   "outputs": [],
   "source": [
    "axs = fig.get_axes()\n",
    "pax=axs[0].parasites\n",
    "pax[0]._label\n",
    "f_ins_ax=axs[1]\n",
    "s_ins_ax=f_ins_ax.parasites[0]"
   ]
  },
  {
   "cell_type": "code",
   "execution_count": null,
   "metadata": {
    "collapsed": false,
    "scrolled": false
   },
   "outputs": [],
   "source": [
    "es=sim.Data.fromfile('eventstream',np.int32,'teslib','measurement_unit_TB')"
   ]
  },
  {
   "cell_type": "code",
   "execution_count": null,
   "metadata": {
    "collapsed": false
   },
   "outputs": [],
   "source": [
    "es"
   ]
  },
  {
   "cell_type": "code",
   "execution_count": null,
   "metadata": {
    "collapsed": false
   },
   "outputs": [],
   "source": [
    "data.peak[-1]"
   ]
  },
  {
   "cell_type": "code",
   "execution_count": null,
   "metadata": {
    "collapsed": false
   },
   "outputs": [],
   "source": [
    "s.peak"
   ]
  },
  {
   "cell_type": "code",
   "execution_count": null,
   "metadata": {
    "collapsed": false
   },
   "outputs": [],
   "source": [
    "isinstance(r,sim.DataRegion)"
   ]
  },
  {
   "cell_type": "code",
   "execution_count": null,
   "metadata": {
    "collapsed": false
   },
   "outputs": [],
   "source": [
    "r.peak"
   ]
  },
  {
   "cell_type": "code",
   "execution_count": null,
   "metadata": {
    "collapsed": false
   },
   "outputs": [],
   "source": [
    "i"
   ]
  },
  {
   "cell_type": "code",
   "execution_count": null,
   "metadata": {
    "collapsed": false
   },
   "outputs": [],
   "source": [
    "%matplotlib notebook\n",
    "import matplotlib.pyplot as plt\n",
    "\n",
    "plt.plot(data.trace['filtered'])"
   ]
  },
  {
   "cell_type": "code",
   "execution_count": null,
   "metadata": {
    "collapsed": false
   },
   "outputs": [],
   "source": [
    "ax=plt.gca()\n",
    "t=ax.transData\n",
    "t.transform([[0.1,0.2],[1,3]])"
   ]
  },
  {
   "cell_type": "code",
   "execution_count": null,
   "metadata": {
    "collapsed": true
   },
   "outputs": [],
   "source": [
    "x=np.array([0,1,2,3])\n",
    "y=np.array([3,4,5,6])\n",
    "\n",
    "xy=np.empty(shape=(4,2))"
   ]
  },
  {
   "cell_type": "code",
   "execution_count": null,
   "metadata": {
    "collapsed": false
   },
   "outputs": [],
   "source": [
    "xy[:,0]=x\n",
    "xy[:,1]=y\n",
    "t.transform(xy)"
   ]
  },
  {
   "cell_type": "code",
   "execution_count": null,
   "metadata": {
    "collapsed": true
   },
   "outputs": [],
   "source": []
  },
  {
   "cell_type": "code",
   "execution_count": null,
   "metadata": {
    "collapsed": false
   },
   "outputs": [],
   "source": [
    "# run to import isim data files\n",
    "\n",
    "import numpy as np\n",
    "import os\n",
    "import matplotlib.pyplot as plt\n",
    "import math\n",
    "from enum import Enum\n",
    "\n",
    "plt.rcParams[\"figure.figsize\"]=[800./80,600./80]\n",
    "\n",
    "repo='c:\\\\TES_project\\\\fpga_ise\\\\'\n",
    "project='teslib'\n",
    "testbench='measurement_unit_TB'\n",
    "datafile='traces'\n",
    "path=repo+project+'\\\\PlanAhead\\\\'+project+'.sim\\\\'+testbench+'\\\\'\n",
    "\n",
    "traces_dt = np.dtype([('input', np.int32),('raw',np.int32),('filtered',np.int32),('slope',np.int32)])\n",
    "traces=np.fromfile(path+'traces',traces_dt)\n",
    "trigger=np.fromfile(path+'triggers',np.int32)\n",
    "settings=np.fromfile(path+'settings',np.int32)\n",
    "cfd_low=np.fromfile(path+'cfdlow',np.int32)\n",
    "cfd_high=np.fromfile(path+'cfdhigh',np.int32)\n",
    "peaks=np.fromfile(path+'peaks',np.int32)\n",
    "peaks.shape=(-1,2)\n",
    "peak_starts=np.fromfile(path+'peak_starts',np.int32)\n",
    "#peak_starts.shape=(-1,2)\n",
    "pulse_starts=np.fromfile(path+'peak_starts',np.int32)\n",
    "settings=np.fromfile(path+'settings',np.int32)\n",
    "cfd_low=np.fromfile(path+'cfdlow',np.int32)\n",
    "cfd_high=np.fromfile(path+'cfdhigh',np.int32)\n",
    "slope_xing=np.fromfile(path+'slopethreshxings',np.int32)\n"
   ]
  },
  {
   "cell_type": "code",
   "execution_count": null,
   "metadata": {
    "collapsed": false
   },
   "outputs": [],
   "source": [
    "settings[13]"
   ]
  },
  {
   "cell_type": "code",
   "execution_count": null,
   "metadata": {
    "collapsed": false
   },
   "outputs": [],
   "source": [
    "#create register dict from settings array\n",
    "\n",
    "class height_type(Enum):\n",
    "    def from_int(value):\n",
    "        if value == 0:\n",
    "            return height_type.peak_height\n",
    "        elif value == 1:\n",
    "            return height_type.cfd_high\n",
    "        elif value == 2:\n",
    "            return height_type.slope_integral\n",
    "        else:\n",
    "            raise AttributeError()\n",
    "    peak_height=0\n",
    "    cfd_high=1\n",
    "    slope_integral=2\n",
    "\n",
    "class trigger_type(Enum):\n",
    "    def from_int(value):\n",
    "        if value == 0:\n",
    "            return trigger_type.pulse_threshold\n",
    "        elif value == 1:\n",
    "            return trigger_type.slope_threshold\n",
    "        elif value == 2:\n",
    "            return trigger_type.cfd_low\n",
    "        else:\n",
    "            raise AttributeError()\n",
    "    pulse_threshold=0\n",
    "    slope_threshold=1\n",
    "    cfd_low=2\n",
    "\n",
    "class event_type(Enum):\n",
    "    def from_int(value):\n",
    "        if value == 0:\n",
    "            return event_type.peak\n",
    "        elif value == 1:\n",
    "            return event_type.area\n",
    "        elif value == 2:\n",
    "            return event_type.pulse\n",
    "        elif value == 3:\n",
    "            return event_type.trace\n",
    "        else:\n",
    "            raise AttributeError()\n",
    "    peak=0\n",
    "    area=1\n",
    "    pulse=2\n",
    "    trace=3\n",
    "\n",
    "\n",
    "def read_registers(settings):\n",
    "    registers = dict()\n",
    "    registers['baseline'] = dict()\n",
    "    registers['baseline']['offset'] = settings[0]\n",
    "    registers['baseline']['subtraction'] = settings[1]!=0\n",
    "    registers['baseline']['timeconstant'] = settings[2]\n",
    "    registers['baseline']['threshold'] = settings[3]\n",
    "    registers['baseline']['count_threshold'] = settings[4]\n",
    "    registers['generic'] = dict()\n",
    "    registers['baseline']['average_order'] = settings[5]\n",
    "    registers['capture'] = dict()\n",
    "    registers['capture']['cfd_relative'] = settings[6]!=0\n",
    "    registers['capture']['constant_fraction'] = settings[7]\n",
    "    registers['capture']['pulse_threshold'] = settings[8]\n",
    "    registers['capture']['slope_threshold'] = settings[9]\n",
    "    registers['capture']['pulse_area_threshold'] = settings[10]\n",
    "    registers['capture']['height_type'] = height_type.from_int(settings[11])\n",
    "    registers['capture']['threshold_rel2min'] = settings[12]!=0\n",
    "    registers['capture']['trigger_type'] = trigger_type.from_int(settings[13])\n",
    "    registers['capture']['event_type'] = event_type.from_int(settings[14])\n",
    "    return registers\n"
   ]
  },
  {
   "cell_type": "code",
   "execution_count": null,
   "metadata": {
    "collapsed": false
   },
   "outputs": [],
   "source": [
    "%matplotlib notebook\n",
    "x=np.arange(len(traces['filtered']))\n",
    "fig=plt.figure()\n",
    "\n",
    "ax=fig.add_axes([0.15,0.1,0.8,0.8])\n",
    "mV=1.0/math.pow(2,14)*1000\n",
    "nS=4\n",
    "\n",
    "\n",
    "i_trace, =ax.step(x*nS/1000000,(traces['input']+1800)*mV*2,'k',label='raw input')\n",
    "f_trace, =ax.step(x*nS/1000000,traces['filtered']*mV,'b',label='processed')\n",
    "fig.suptitle('Digital Signal Processing',fontsize=24)\n",
    "plt.xlabel('time (ms)',fontsize=18)\n",
    "plt.ylabel('Voltage (mV)',fontsize=18)\n",
    "plt.legend(handles=[i_trace,f_trace])\n",
    "\n",
    "fig.savefig('trace.png')\n",
    "plt.show()"
   ]
  },
  {
   "cell_type": "code",
   "execution_count": null,
   "metadata": {
    "collapsed": true
   },
   "outputs": [],
   "source": []
  },
  {
   "cell_type": "code",
   "execution_count": null,
   "metadata": {
    "collapsed": false
   },
   "outputs": [],
   "source": [
    "%matplotlib notebook\n",
    "import math\n",
    "\n",
    "def align_yaxis(ax1, v1, ax2, v2):\n",
    "    \"\"\"adjust ax2 ylimit so that v2 in ax2 is aligned to v1 in ax1\"\"\"\n",
    "    _, y1 = ax1.transData.transform((0, v1))\n",
    "    _, y2 = ax2.transData.transform((0, v2))\n",
    "    adjust_yaxis(ax2,(y1-y2)/2,v2)\n",
    "    adjust_yaxis(ax1,(y2-y1)/2,v1)\n",
    "\n",
    "def adjust_yaxis(ax,ydif,v):\n",
    "    \"\"\"shift axis ax by ydiff, maintaining point v at the same location\"\"\"\n",
    "    inv = ax.transData.inverted()\n",
    "    _, dy = inv.transform((0, 0)) - inv.transform((0, ydif))\n",
    "    miny, maxy = ax.get_ylim()\n",
    "    miny, maxy = miny - v, maxy - v\n",
    "    if -miny>maxy or (-miny==maxy and dy > 0):\n",
    "        nminy = miny\n",
    "        nmaxy = miny*(maxy+dy)/(miny+dy)\n",
    "    else:\n",
    "        nmaxy = maxy\n",
    "        nminy = maxy*(miny+dy)/(maxy+dy)\n",
    "    ax.set_ylim(nminy+v, nmaxy+v)\n",
    "    \n",
    "x=np.arange(len(traces['filtered']))\n",
    "fig=plt.figure()\n",
    "ax=fig.add_axes([0.1,0.1,0.8,0.8])\n",
    "plt.ylim(-10,120)\n",
    "v=math.pow(2,13)/1000\n",
    "t=x*4\n",
    "ax.plot([0,t[-1]],[0,0],'k')\n",
    "raw, = ax.step(t,traces['raw']/2/v,'k',lw=1,label='raw')\n",
    "processed, = ax.step(t,traces['filtered']/2/v,'r',lw=2,label='processed')\n",
    "ax.plot(trigger,traces['filtered'][trigger+1]/2,'kx')\n",
    "ax.plot(peaks[:,0],traces['filtered'][peaks[:,0]+1]/2,'ro')\n",
    "ax.plot(peak_starts,traces['filtered'][peak_starts+1]/2,'ro')\n",
    "ax.plot(cfd_high,traces['filtered'][cfd_high+1]/2,'bs')\n",
    "ax.plot(cfd_low,traces['filtered'][cfd_low+1]/2,'bs')\n",
    "plt.xlabel('time (ns)',fontsize=18)\n",
    "plt.ylabel('Voltage (mV)',fontsize=18,color='r')\n",
    "\n",
    "ax2=ax.twinx()\n",
    "slope, = ax2.step(t,traces['slope']/256/v/4,'b',lw=2,label='slope')\n",
    "plt.xlim([1292000,1297500])\n",
    "plt.ylim(-0.2,1)\n",
    "align_yaxis(ax,0,ax2,0)\n",
    "plt.ylabel('slope (mV/ns)',color='b',fontsize=18)\n",
    "fig.suptitle('Digital signal processing',fontsize=24)\n",
    "plt.legend(handles=[raw,processed,slope])\n",
    "fig.savefig('dsp.png')\n",
    "plt.show()"
   ]
  },
  {
   "cell_type": "code",
   "execution_count": null,
   "metadata": {
    "collapsed": false
   },
   "outputs": [],
   "source": [
    "%matplotlib notebook\n",
    "\n",
    "#plot pulse\n",
    "from mpl_toolkits.axes_grid1 import host_subplot\n",
    "from mpl_toolkits.axes_grid1.inset_locator import zoomed_inset_axes\n",
    "from mpl_toolkits.axes_grid1.inset_locator import mark_inset\n",
    "\n",
    "pulse=7\n",
    "length=2000\n",
    "pre=100\n",
    "\n",
    "def align_yaxis(ax1, v1, ax2, v2):\n",
    "    \"\"\"adjust ax2 ylimit so that v2 in ax2 is aligned to v1 in ax1\"\"\"\n",
    "    _, y1 = ax1.transData.transform((0, v1))\n",
    "    _, y2 = ax2.transData.transform((0, v2))\n",
    "    adjust_yaxis(ax2,(y1-y2)/2,v2)\n",
    "    adjust_yaxis(ax1,(y2-y1)/2,v1)\n",
    "\n",
    "def adjust_yaxis(ax,ydif,v):\n",
    "    \"\"\"shift axis ax by ydiff, maintaining point v at the same location\"\"\"\n",
    "    inv = ax.transData.inverted()\n",
    "    _, dy = inv.transform((0, 0)) - inv.transform((0, ydif))\n",
    "    miny, maxy = ax.get_ylim()\n",
    "    miny, maxy = miny - v, maxy - v\n",
    "    if -miny>maxy or (-miny==maxy and dy > 0):\n",
    "        nminy = miny\n",
    "        nmaxy = miny*(maxy+dy)/(miny+dy)\n",
    "    else:\n",
    "        nmaxy = maxy\n",
    "        nminy = maxy*(miny+dy)/(maxy+dy)\n",
    "    ax.set_ylim(nminy+v, nmaxy+v)\n",
    "    \n",
    "start=pulse_starts[pulse]-pre\n",
    "stop=start+length\n",
    "x=np.arange(0,len(traces['filtered']))\n",
    "fig=plt.figure()\n",
    "\n",
    "f_ax = host_subplot(111)\n",
    "s_ax = f_ax.twinx()\n",
    "\n",
    "f_ax.set_xlabel(\"Time (ns)\",fontsize=18)\n",
    "f_ax.set_ylabel(\"Voltage (mV)\",fontsize=18,color='r')\n",
    "s_ax.set_ylabel(\"Slope (mv/ns)\",fontsize=18,color='b')\n",
    "\n",
    "mV=1.0/math.pow(2,14)*1000\n",
    "nS=4\n",
    "t=x*nS\n",
    "\n",
    "f_sig = traces['filtered']*mV\n",
    "s_sig = traces['slope']*mV/nS\n",
    "\n",
    "f_ax.plot([t[start],t[stop]],[0,0],'k') # zero line\n",
    "f_trace, = f_ax.step(t[start:stop],f_sig[start:stop],'r',lw=2,label='processed')\n",
    "f_ax.set_ylim(-10,180)\n",
    "\n",
    "s_trace, = s_ax.step(t[start:stop],s_sig[start:stop],'b',lw=1,label='slope')\n",
    "s_ax.set_ylim(-15,50)\n",
    "#s_threshold = 6\n",
    "#s_ax.set_yticks(np.concatenate((s_ax.get_yticks(),[s_threshold])))\n",
    "#labels=[label.get_text() for label in s_ax.get_yticklabels()]\n",
    "#labels[6]='Threshold'\n",
    "\n",
    "#s_ax.set_yticklabels(labels)\n",
    "plt.xlim(t[start],t[stop])\n",
    "align_yaxis(f_ax,0,s_ax,0)\n",
    "fig.suptitle('Measurement:First pass',fontsize=24)\n",
    "#plt.legend(handles=[f_trace,s_trace])\n",
    "\n",
    "starts_mask = np.logical_and(peak_starts >= start,peak_starts <= stop)\n",
    "peaks_mask = np.logical_and(peaks[:,0] >= start, peaks[:,0] <= stop)\n",
    "peak_starts_inwin = peak_starts[starts_mask]\n",
    "\n",
    "for pstart in peak_starts_inwin:\n",
    "    peak_start_t=t[pstart]-2\n",
    "    peak_start_f=f_sig[pstart]\n",
    "    peak_start_s=s_sig[pstart]\n",
    "\n",
    "    f_ax.plot(peak_start_t,peak_start_f,'ro')\n",
    "    s_ax.plot(peak_start_t,peak_start_s,'bo')\n",
    "    \n",
    "    f_trans = f_ax.transData\n",
    "    s_trans = s_ax.transData.inverted()\n",
    "    trans = s_trans+f_trans\n",
    "    f_point=f_trans.transform((peak_start_t,peak_start_f))\n",
    "    s_point=s_trans.transform((f_point[0],f_point[1]))\n",
    "\n",
    "    s_ax.plot([peak_start_t,peak_start_t],[peak_start_s, s_point[1]],'k')\n",
    "\n",
    "#for p in peaks[0][peaks_inwin]\n",
    "peaks_inwin = peaks[peaks_mask,0]\n",
    "for p in peaks_inwin:\n",
    "    peak_t=t[p]-2\n",
    "    peak_f=f_sig[p]\n",
    "    peak_s=s_sig[p]\n",
    "\n",
    "    f_ax.plot(peak_t,peak_f,'ro')\n",
    "    s_ax.plot(peak_t,peak_s,'bo')\n",
    "    \n",
    "    f_trans = f_ax.transData\n",
    "    s_trans = s_ax.transData.inverted()\n",
    "    trans = s_trans+f_trans\n",
    "    f_point=f_trans.transform((peak_t,peak_f))\n",
    "    s_point=s_trans.transform((f_point[0],f_point[1]))\n",
    "\n",
    "    s_ax.plot([peak_t,peak_t],[peak_s, s_point[1]],'k')\n",
    "\n",
    "ins_start = peak_starts_inwin[0]-5\n",
    "ins_stop = peak_starts_inwin[0]+5\n",
    "f_ins_ax = zoomed_inset_axes(f_ax, 50, loc=1)  # zoom = 6\n",
    "f_ins_ax.step(t[ins_start:ins_stop],f_sig[ins_start:ins_stop],'r')\n",
    "f_ins_ax.set_ylim(-0.5,2)\n",
    "f_ins_ax.set_xlim(ins_start,ins_stop)\n",
    "f_ins_ax.set_yticks([])\n",
    "f_ins_ax.set_xticks([])\n",
    "\n",
    "f_ins_ax.plot([t[ins_start],t[ins_stop]],[0,0],'k') # zero line\n",
    "\n",
    "#plt.xticks(visible=False)\n",
    "#plt.yticks(visible=False)\n",
    "mark_inset(f_ax, f_ins_ax, loc1=2, loc2=4, fc=\"none\", ec=\"0.5\")\n",
    "\n",
    "s_ins_ax = f_ins_ax.twinx()\n",
    "s_ins_ax.set_yticks([])\n",
    "s_ins_ax.set_xticks([])\n",
    "\n",
    "s_ins_ax.step(t[ins_start:ins_stop],s_sig[ins_start:ins_stop],'b')\n",
    "\n",
    "s_ins_ax.set_ylim(-1,1)\n",
    "align_yaxis(f_ins_ax,0,s_ins_ax,0)\n",
    "\n",
    "pstart = peak_starts_inwin[0]\n",
    "peak_start_t=t[pstart]-2\n",
    "peak_start_f=f_sig[pstart]\n",
    "peak_start_s=s_sig[pstart]\n",
    "\n",
    "f_ins_ax.plot(peak_start_t,peak_start_f,'ro')\n",
    "s_ins_ax.plot(peak_start_t,peak_start_s,'bo')\n",
    "    \n",
    "f_trans = f_ins_ax.transData\n",
    "s_trans = s_ins_ax.transData.inverted()\n",
    "trans = s_trans+f_trans\n",
    "f_point=f_trans.transform((peak_start_t,peak_start_f))\n",
    "s_point=s_trans.transform((f_point[0],f_point[1]))\n",
    "\n",
    "s_ins_ax.plot([peak_start_t,peak_start_t],[peak_start_s, s_point[1]],'k')\n",
    "\n",
    "s_ax.plot([t[start],t[stop]],[s_threshold,s_threshold],ls='dashed')\n",
    "\n",
    "fig.savefig('measurement1.png')\n",
    "plt.draw()\n",
    "plt.show()"
   ]
  },
  {
   "cell_type": "code",
   "execution_count": null,
   "metadata": {
    "collapsed": false
   },
   "outputs": [],
   "source": [
    "%matplotlib notebook\n",
    "from mpl_toolkits.axes_grid1 import host_subplot\n",
    "from mpl_toolkits.axes_grid1.inset_locator import zoomed_inset_axes\n",
    "from mpl_toolkits.axes_grid1.inset_locator import mark_inset\n",
    "\n",
    "pulse=7\n",
    "length=2000\n",
    "pre=100\n",
    "\n",
    "def align_yaxis(ax1, v1, ax2, v2):\n",
    "    \"\"\"adjust ax2 ylimit so that v2 in ax2 is aligned to v1 in ax1\"\"\"\n",
    "    _, y1 = ax1.transData.transform((0, v1))\n",
    "    _, y2 = ax2.transData.transform((0, v2))\n",
    "    adjust_yaxis(ax2,(y1-y2)/2,v2)\n",
    "    adjust_yaxis(ax1,(y2-y1)/2,v1)\n",
    "\n",
    "def adjust_yaxis(ax,ydif,v):\n",
    "    \"\"\"shift axis ax by ydiff, maintaining point v at the same location\"\"\"\n",
    "    inv = ax.transData.inverted()\n",
    "    _, dy = inv.transform((0, 0)) - inv.transform((0, ydif))\n",
    "    miny, maxy = ax.get_ylim()\n",
    "    miny, maxy = miny - v, maxy - v\n",
    "    if -miny>maxy or (-miny==maxy and dy > 0):\n",
    "        nminy = miny\n",
    "        nmaxy = miny*(maxy+dy)/(miny+dy)\n",
    "    else:\n",
    "        nmaxy = maxy\n",
    "        nminy = maxy*(miny+dy)/(maxy+dy)\n",
    "    ax.set_ylim(nminy+v, nmaxy+v)\n",
    "    \n",
    "start=pulse_starts[pulse]-pre\n",
    "stop=start+length\n",
    "x=np.arange(0,len(traces['filtered']))\n",
    "fig=plt.figure()\n",
    "\n",
    "f_ax = host_subplot(111)\n",
    "s_ax = f_ax.twinx()\n",
    "\n",
    "f_ax.set_xlabel(\"Time (ns)\",fontsize=18)\n",
    "f_ax.set_ylabel(\"Voltage (mV)\",fontsize=18,color='r')\n",
    "s_ax.set_ylabel(\"Slope (mv/ns)\",fontsize=18,color='b')\n",
    "\n",
    "mV=1.0/math.pow(2,14)*1000\n",
    "nS=4\n",
    "t=x*nS\n",
    "\n",
    "f_sig = traces['filtered']*mV\n",
    "s_sig = traces['slope']*mV/nS\n",
    "\n",
    "f_ax.plot([t[start],t[stop]],[0,0],'k') # zero line\n",
    "f_trace, = f_ax.step(t[start:stop],f_sig[start:stop],'r',lw=2,label='processed')\n",
    "f_ax.set_ylim(-10,180)\n",
    "\n",
    "s_trace, = s_ax.step(t[start:stop],s_sig[start:stop],'b',lw=1,label='slope')\n",
    "s_ax.set_ylim(-15,50)\n",
    "#s_threshold = 6\n",
    "#s_ax.set_yticks(np.concatenate((s_ax.get_yticks(),[s_threshold])))\n",
    "#labels=[label.get_text() for label in s_ax.get_yticklabels()]\n",
    "#labels[6]='Threshold'\n",
    "\n",
    "#s_ax.set_yticklabels(labels)\n",
    "plt.xlim(t[start],t[stop])\n",
    "align_yaxis(f_ax,0,s_ax,0)\n",
    "fig.suptitle('Measurement:Second pass',fontsize=24)\n",
    "#plt.legend(handles=[f_trace,s_trace])\n",
    "\n",
    "starts_mask = np.logical_and(peak_starts >= start,peak_starts <= stop)\n",
    "peaks_mask = np.logical_and(peaks[:,0] >= start, peaks[:,0] <= stop)\n",
    "peak_starts_inwin = peak_starts[starts_mask]\n",
    "\n",
    "\n",
    "#for pstart in peak_starts_inwin:\n",
    "#    peak_start_t=t[pstart]-2\n",
    "#    peak_start_f=f_sig[pstart]\n",
    "#    peak_start_s=s_sig[pstart]\n",
    "#\n",
    "#    f_ax.plot(peak_start_t,peak_start_f,'ro')\n",
    "#    s_ax.plot(peak_start_t,peak_start_s,'bo')\n",
    "    \n",
    "#    f_trans = f_ax.transData\n",
    "#    s_trans = s_ax.transData.inverted()\n",
    "#    trans = s_trans+f_trans\n",
    "#    f_point=f_trans.transform((peak_start_t,peak_start_f))\n",
    "#    s_point=s_trans.transform((f_point[0],f_point[1]))\n",
    "\n",
    "#    s_ax.plot([peak_start_t,peak_start_t],[peak_start_s, s_point[1]],'k')\n",
    "\n",
    "#for p in peaks[0][peaks_inwin]\n",
    "peaks_inwin = peaks[peaks_mask,0]\n",
    "x_s=peak_starts_inwin\n",
    "x_p=peaks_inwin\n",
    "y_s=f_sig[x_s]\n",
    "y_p=f_sig[x_p]\n",
    "\n",
    "f_ax.plot(t[peak_starts_inwin],f_sig[peak_starts_inwin],'or')\n",
    "f_ax.plot(t[peaks_inwin],f_sig[peaks_inwin],'or')\n",
    "\n",
    "\n",
    "f_ax.plot([t[x_s[0]],t[x_p[0]]],[y_s[0],y_s[0]],'k')\n",
    "f_ax.plot([t[x_p[0]],t[x_p[0]]],[y_s[0],y_p[0]],'k')\n",
    "\n",
    "f_ax.plot([t[x_s[1]],t[x_p[1]]],[y_s[1],y_s[1]],'k')\n",
    "f_ax.plot([t[x_p[1]],t[x_p[1]]],[y_s[1],y_p[1]],'k')\n",
    "\n",
    "\n",
    "#for p in peaks_inwin:\n",
    "#    peak_t=t[p]-2\n",
    "#    peak_f=f_sig[p]\n",
    "#    peak_s=s_sig[p]\n",
    "\n",
    "#    f_ax.plot(peak_t,peak_f,'ro')\n",
    "#    s_ax.plot(peak_t,peak_s,'bo')\n",
    "    \n",
    "#    f_trans = f_ax.transData\n",
    "#    s_trans = s_ax.transata.inverted()\n",
    "#    trans = s_trans+f_trans\n",
    "#    f_point=f_trans.transform((peak_t,peak_f))\n",
    "#    s_point=s_trans.transform((f_point[0],f_point[1]))\n",
    "\n",
    "#    s_ax.plot([peak_t,peak_t],[peak_s, s_point[1]],'k')\n",
    "\n",
    "ins_start = peak_starts_inwin[1]-300\n",
    "ins_stop = peak_starts_inwin[1]+500\n",
    "f_ins_ax = zoomed_inset_axes(f_ax, 1.5, loc=1)  # zoom = 6\n",
    "f_ins_ax.step(t[ins_start:ins_stop],f_sig[ins_start:ins_stop],'r')\n",
    "f_ins_ax.set_ylim(60,180)\n",
    "f_ins_ax.set_xlim(t[ins_start],t[ins_stop])\n",
    "f_ins_ax.set_yticks([])\n",
    "f_ins_ax.set_xticks([])\n",
    "\n",
    "low_mask = np.logical_and(cfd_low >= start, cfd_low <= stop)\n",
    "low_inwin = cfd_low[low_mask]\n",
    "high_mask = np.logical_and(cfd_high >= start, cfd_high <= stop)\n",
    "high_inwin = cfd_high[high_mask]\n",
    "thresh_mask = np.logical_and(slope_xing >= start, slope_xing <= stop)\n",
    "thresh_inwin = slope_xing[thresh_mask]\n",
    "\n",
    "f_ins_ax.plot(t[peak_starts_inwin],f_sig[peak_starts_inwin],'or')\n",
    "f_ins_ax.plot(t[peaks_inwin],f_sig[peaks_inwin],'or')\n",
    "\n",
    "f_ins_ax.plot(t[low_inwin],f_sig[low_inwin],'ok')\n",
    "f_ins_ax.plot(t[high_inwin],f_sig[high_inwin],'ok')\n",
    "f_ax.plot(t[low_inwin],f_sig[low_inwin],'ok')\n",
    "f_ax.plot(t[high_inwin],f_sig[high_inwin],'ok')\n",
    "#f_ax.plot(t[thresh_inwin],f_sig[thresh_inwin],'ow')\n",
    "f_ins_ax.plot(t[thresh_inwin],f_sig[thresh_inwin],'ow')\n",
    "\n",
    "\n",
    "f_ins_ax.plot([t[x_s[0]],t[x_p[0]]],[y_s[0],y_s[0]],'k')\n",
    "f_ins_ax.plot([t[x_p[0]],t[x_p[0]]],[y_s[0],y_p[0]],'k')\n",
    "\n",
    "f_ins_ax.plot([t[x_s[1]],t[x_p[1]]],[y_s[1],y_s[1]],'k')\n",
    "f_ins_ax.plot([t[x_p[1]],t[x_p[1]]],[y_s[1],y_p[1]],'k')\n",
    "\n",
    "#f_ins_ax.plot([t[ins_start],t[ins_stop]],[0,0],'k') # zero line\n",
    "\n",
    "#plt.xticks(visible=False)\n",
    "#plt.yticks(visible=False)\n",
    "#mark_inset(f_ax, f_ins_ax, loc1=2, loc2=4, fc=\"none\", ec=\"0.5\")\n",
    "\n",
    "pstart = peak_starts_inwin[1]\n",
    "peak_start_t=t[pstart]-2\n",
    "peak_start_f=f_sig[pstart]\n",
    "peak_start_s=s_sig[pstart]\n",
    "\n",
    "f_ins_ax.plot(peak_start_t,peak_start_f,'ro')\n",
    "\n",
    "\n",
    "f_trans = f_ins_ax.transData\n",
    "s_trans = s_ins_ax.transData.inverted()\n",
    "trans = s_trans+f_trans\n",
    "f_point=f_trans.transform((peak_start_t,peak_start_f))\n",
    "s_point=s_trans.transform((f_point[0],f_point[1]))\n",
    "\n",
    "s_ins_ax.plot([peak_start_t,peak_start_t],[peak_start_s, s_point[1]],'k')\n",
    "\n",
    "s_ax.plot([t[start],t[stop]],[s_threshold,s_threshold],ls='dashed')\n",
    "\n",
    "fig.savefig('measurement2.png')\n",
    "plt.draw()\n",
    "plt.show()"
   ]
  },
  {
   "cell_type": "code",
   "execution_count": null,
   "metadata": {
    "collapsed": false
   },
   "outputs": [],
   "source": [
    "from mpl_toolkits.axes_grid1.inset_locator import inset_axes\n",
    "\n",
    "fig=plt.figure()\n",
    "fig.suptitle('Multi Channel Analyser',fontsize=24)\n",
    "\n",
    "h_ax = host_subplot(111)\n",
    "\n",
    "h_ins_ax = inset_axes(h_ax, width=\"80%\",height=1., loc=1)  # zoom = 6\n",
    "h_ins_ax.set_xlim(-25,160)\n",
    "h_ins_ax.set_ylim(0,0.002)\n",
    "h_ax.hist((traces['input']+200)*2*mV,math.pow(2,14),normed=1,facecolor='k',edgecolor='k')\n",
    "h_ax.hist(f_sig,math.pow(2,14),normed=1,facecolor='r',edgecolor='r')\n",
    "h_ins_ax.hist(f_sig,math.pow(2,14),normed=1,facecolor='r',edgecolor='r')\n",
    "h_ins_ax.set_xticks([])\n",
    "h_ins_ax.set_yticks([])\n",
    "h_ax.set_xlim(-30,100)\n",
    "h_ax.set_ylim(0,0.8)\n",
    "\n",
    "mark_inset(h_ax, h_ins_ax, loc1=2, loc2=4, fc=\"none\", ec=\"0.5\")\n",
    "\n",
    "h_ax.set_xlabel('Voltage (mV)')\n",
    "h_ax.set_ylabel('Probability')\n",
    "fig.savefig('hist.png')\n",
    "plt.show()"
   ]
  },
  {
   "cell_type": "code",
   "execution_count": null,
   "metadata": {
    "collapsed": true
   },
   "outputs": [],
   "source": [
    "peak_dt=np.dtype([('time',np.uint16),('flags',np.uint16),('minima',np.uint16),('height',np.uint16)])"
   ]
  },
  {
   "cell_type": "code",
   "execution_count": null,
   "metadata": {
    "collapsed": true
   },
   "outputs": [],
   "source": [
    "area_dt=np.dtype([('time',np.uint16),('flags',np.uint16),('area',np.uint32)])"
   ]
  },
  {
   "cell_type": "code",
   "execution_count": null,
   "metadata": {
    "collapsed": true
   },
   "outputs": [],
   "source": [
    "pulse_peak_dt=np.dtype([('trigger',np.uint16),('rise',np.uint16),('minima',np.uint16),('height',np.uint16)])\n",
    "pulse_header_dt=np.dtype([('time',np.uint16),('flags',np.uint16),('res1',np.uint16),('size',np.uint16),\n",
    "                    ('length',np.uint16),('res2',np.uint16),('area',np.int32)])"
   ]
  },
  {
   "cell_type": "code",
   "execution_count": null,
   "metadata": {
    "collapsed": false
   },
   "outputs": [],
   "source": [
    "pulse2_dt=np.dtype([('time',np.uint16),('flags',np.uint16),('res1',np.uint16),('size',np.uint16),\n",
    "                    ('length',np.uint16),('res2',np.uint16),('area',np.int32),\n",
    "                    ('trigger0',np.uint16),('rise0',np.uint16),('minima0',np.uint16),('height0',np.uint16),\n",
    "                    ('trigger1',np.uint16),('rise1',np.uint16),('minima1',np.uint16),('height1',np.uint16)])"
   ]
  },
  {
   "cell_type": "code",
   "execution_count": null,
   "metadata": {
    "collapsed": false
   },
   "outputs": [],
   "source": [
    "pulse2_subarray_dt=np.dtype([('header',pulse_header_dt,('peaks', (pulse_peak_dt,(1,2)) ))])"
   ]
  },
  {
   "cell_type": "code",
   "execution_count": null,
   "metadata": {
    "collapsed": true
   },
   "outputs": [],
   "source": [
    "eventstream=np.fromfile(path+'eventstream',peak_dt)"
   ]
  },
  {
   "cell_type": "code",
   "execution_count": null,
   "metadata": {
    "collapsed": true
   },
   "outputs": [],
   "source": [
    "eventstream=np.fromfile(path+'eventstream',area_dt)"
   ]
  },
  {
   "cell_type": "code",
   "execution_count": null,
   "metadata": {
    "collapsed": true
   },
   "outputs": [],
   "source": [
    "eventstream=np.fromfile(path+'eventstream',pulse2_dt)"
   ]
  },
  {
   "cell_type": "code",
   "execution_count": null,
   "metadata": {
    "collapsed": false
   },
   "outputs": [],
   "source": [
    "eventstream"
   ]
  },
  {
   "cell_type": "code",
   "execution_count": null,
   "metadata": {
    "collapsed": false
   },
   "outputs": [],
   "source": [
    "flags=eventstream['flags']\n",
    "print(np.binary_repr(flags[0],16))"
   ]
  },
  {
   "cell_type": "code",
   "execution_count": null,
   "metadata": {
    "collapsed": false
   },
   "outputs": [],
   "source": [
    "print(\"flags:{:016b}\\nsize:{}\\nlength:{}\\narea:{}\\ntrigger:{} rise:{} minima:{} height:{}\\ntrigger:{} rise:{} minima:{} height:{}\\n\"  \n",
    "      .format(eventstream['flags'][0],eventstream['size'][0],eventstream['length'][0],eventstream['area'][0],\n",
    "        eventstream['trigger0'][0],eventstream['rise0'][0],eventstream['minima0'][0],eventstream['height0'][0],\n",
    "        eventstream['trigger1'][0],eventstream['rise1'][0],eventstream['minima1'][0],eventstream['height1'][0]))"
   ]
  },
  {
   "cell_type": "code",
   "execution_count": null,
   "metadata": {
    "collapsed": false
   },
   "outputs": [],
   "source": [
    "print(np.binary_repr(flags[1],16))"
   ]
  },
  {
   "cell_type": "code",
   "execution_count": null,
   "metadata": {
    "collapsed": true
   },
   "outputs": [],
   "source": [
    "rel_to_min=np.right_shift(np.bitwise_and(flags,0x8000),15).astype(np.bool)\n",
    "channel=np.right_shift(np.bitwise_and(flags,0x0F00),8).astype(np.uint8)\n",
    "threshold_rel2min=np.right_shift(np.bitwise_and(flags,0x4000),14).astype(np.bool)\n",
    "peak_count=np.right_shift(np.bitwise_and(flags,0x00F0),4).astype(np.uint8)\n",
    "tick=np.bitwise_and(flags,0x0001).astype(bool)\n",
    "area=np.right_shift(np.bitwise_and(flags,0x0002),1).astype(np.bool)\n",
    "trace=np.right_shift(np.bitwise_and(flags,0x0004),2).astype(np.bool)\n",
    "fixed=np.right_shift(np.bitwise_and(flags,0x0008),3).astype(np.bool)\n",
    "event_type=np.right_shift(np.bitwise_and(flags,0x3000),12).astype(np.uint8)"
   ]
  },
  {
   "cell_type": "code",
   "execution_count": null,
   "metadata": {
    "collapsed": false
   },
   "outputs": [],
   "source": [
    "flags"
   ]
  },
  {
   "cell_type": "code",
   "execution_count": null,
   "metadata": {
    "collapsed": false
   },
   "outputs": [],
   "source": [
    "eventstream"
   ]
  },
  {
   "cell_type": "code",
   "execution_count": null,
   "metadata": {
    "collapsed": true
   },
   "outputs": [],
   "source": []
  },
  {
   "cell_type": "code",
   "execution_count": null,
   "metadata": {
    "collapsed": true
   },
   "outputs": [],
   "source": []
  }
 ],
 "metadata": {
  "kernelspec": {
   "display_name": "Python 3",
   "language": "python",
   "name": "python3"
  },
  "language_info": {
   "codemirror_mode": {
    "name": "ipython",
    "version": 3
   },
   "file_extension": ".py",
   "mimetype": "text/x-python",
   "name": "python",
   "nbconvert_exporter": "python",
   "pygments_lexer": "ipython3",
   "version": "3.5.1"
  }
 },
 "nbformat": 4,
 "nbformat_minor": 0
}
