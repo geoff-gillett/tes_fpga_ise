{
 "cells": [
  {
   "cell_type": "markdown",
   "metadata": {},
   "source": [
    "timestamp 0 => clk 20\n",
    "\n",
    "traces start at clk 1"
   ]
  },
  {
   "cell_type": "code",
   "execution_count": null,
   "metadata": {
    "collapsed": false,
    "run_control": {
     "frozen": false,
     "read_only": false
    }
   },
   "outputs": [],
   "source": [
    "#Mac\n",
    "import sys\n",
    "sys.path.append('../../../../interface/python')"
   ]
  },
  {
   "cell_type": "code",
   "execution_count": 1,
   "metadata": {
    "collapsed": false,
    "run_control": {
     "frozen": false,
     "read_only": false
    }
   },
   "outputs": [],
   "source": [
    "from tes.data import Data,PacketStream,Packet,Payload,EventFlags,Event\n",
    "import numpy as np\n",
    "import matplotlib.pyplot as plt\n",
    "from subprocess import Popen"
   ]
  },
  {
   "cell_type": "code",
   "execution_count": null,
   "metadata": {
    "collapsed": true
   },
   "outputs": [],
   "source": []
  },
  {
   "cell_type": "code",
   "execution_count": 2,
   "metadata": {
    "code_folding": [],
    "collapsed": false,
    "run_control": {
     "frozen": false,
     "read_only": false
    }
   },
   "outputs": [],
   "source": [
    "#NOTE traces[0] corresponts to clk=1\n",
    "trace_dt=np.dtype([('raw','i4'),('filtered','i4'),('slope','i4'),('filteredL','i4')])\n",
    "stream_dt=np.dtype([('data','i4'),('last','i4')])\n",
    "minmax_dt=np.dtype(\n",
    "    [\n",
    "        ('filtered','i4'),('timing_threshold','i4'),\n",
    "        ('height_threshold','i4'),('slope_extrema','i4'),('slope_area','i4'),('clk','i4')\n",
    "    ]\n",
    ")\n",
    "cfd_dt=np.dtype('i4')\n",
    "filteredxing_dt=np.dtype([('extrema','i4'),('area','i4'),('clk','i4')])"
   ]
  },
  {
   "cell_type": "code",
   "execution_count": null,
   "metadata": {
    "collapsed": false,
    "run_control": {
     "frozen": false,
     "read_only": false
    }
   },
   "outputs": [],
   "source": [
    "traces=np.fromfile('data/traces',trace_dt)\n",
    "stream=np.fromfile('data/bytestream',stream_dt)\n",
    "minmax=np.fromfile('data/minmax',minmax_dt)\n",
    "cfd=np.fromfile('data/cfd',cfd_dt)\n",
    "filteredxing=np.fromfile('data/filteredxing',filteredxing_dt)"
   ]
  },
  {
   "cell_type": "code",
   "execution_count": null,
   "metadata": {
    "collapsed": false,
    "run_control": {
     "frozen": false,
     "read_only": false
    },
    "scrolled": true
   },
   "outputs": [],
   "source": [
    "traces=Data.fromfile('traces',trace_dt,'teslib','measurement_subsystem_TB',tool='vivado')\n",
    "stream=Data.fromfile('bytestream',stream_dt,'teslib','measurement_subsystem_TB',tool='vivado')\n",
    "minmax=Data.fromfile('minmax',minmax_dt,'teslib','measurement_subsystem_TB',tool='vivado')\n",
    "cfd=Data.fromfile('cfd',cfd_dt,'teslib','measurement_subsystem_TB',tool='vivado')\n",
    "filteredxing=Data.fromfile(\n",
    "    'filteredxing',filteredxing_dt,'teslib','measurement_subsystem_TB',tool='vivado'\n",
    ")"
   ]
  },
  {
   "cell_type": "code",
   "execution_count": null,
   "metadata": {
    "collapsed": false,
    "run_control": {
     "frozen": false,
     "read_only": false
    },
    "scrolled": true
   },
   "outputs": [],
   "source": [
    "# Mac\n",
    "traces=Data.fromfile(\n",
    "    'traces',trace_dt,'teslib','measurement_subsystem_TB',tool='vivado',\n",
    "    root='/Volumes/C/'\n",
    ")\n",
    "stream=Data.fromfile(\n",
    "    'bytestream',stream_dt,'teslib','measurement_subsystem_TB',tool='vivado',\n",
    "    root='/Volumes/C/'\n",
    ")\n",
    "minmax=Data.fromfile(\n",
    "    'minmax',minmax_dt,'teslib','measurement_subsystem_TB',tool='vivado',\n",
    "    root='/Volumes/C/'\n",
    ")\n",
    "cfd=Data.fromfile(\n",
    "    'cfd',cfd_dt,'teslib','measurement_subsystem_TB',tool='vivado',\n",
    "    root='/Volumes/C/'\n",
    ")\n",
    "filteredxing=Data.fromfile(\n",
    "    'filteredxing',filteredxing_dt,'teslib','measurement_subsystem_TB',\n",
    "    tool='vivado',root='/Volumes/C/'\n",
    ")"
   ]
  },
  {
   "cell_type": "code",
   "execution_count": null,
   "metadata": {
    "collapsed": false
   },
   "outputs": [],
   "source": [
    "def plot_event(event_tupple,rel2min):\n",
    "    pre=200\n",
    "    post=1000\n",
    "    timestamp=event_tupple[0]\n",
    "    event_type=event_tupple[1]\n",
    "    event=event_tupple[2]\n",
    "    flags=EventFlags(event['flags'])\n",
    "#     print(flags)\n",
    "    #print('timestamp',timestamp, 'time', event['time'],'height',event['height'],'min',event['minima'])\n",
    "    if flags.type == Event.tick:\n",
    "        return\n",
    "    s=traces['filtered'][timestamp+20-pre:timestamp+20+post]\n",
    "    r=traces['raw'][timestamp+20-pre:timestamp+20+post]\n",
    "    i = np.where(abs(minmax['clk'])<=timestamp+20)[0][-1]\n",
    "    min_t=abs(minmax['clk'][i])-(timestamp+20)\n",
    "#     print(minmax['clk'][i],min_t,i,timestamp)\n",
    "    #plt.plot(r,'k',linewidth=0.5)\n",
    "#     print('min', event_tupple[2][1])\n",
    "#     print(event_type)\n",
    "    if flags.channel==1:\n",
    "        colour='b'\n",
    "        lw=0.5\n",
    "        mm = 'vb'\n",
    "        tm = 'ob'\n",
    "    else:\n",
    "        colour='r'\n",
    "        lw=0.5\n",
    "        mm = 'vr'\n",
    "        tm = 'or'\n",
    "    \n",
    "#     if event_type==Event.pulse:\n",
    "#         colour=':g'\n",
    "#         lw=2\n",
    "#         if event_type==Event.pulse:\n",
    "#             max_peaks = event['size']-2\n",
    "#         if max_peaks > 1:    \n",
    "#             minima=event['peaks'][0]['minima']\n",
    "#         else:\n",
    "#             minima=event['peaks']['minima']\n",
    "#     else:\n",
    "#         colour='b'\n",
    "#         lw=1\n",
    "    if flags.channel==1:\n",
    "        minima=event['minima']\n",
    "    #     print(event_type,'minima',minima)\n",
    "        if rel2min:\n",
    "            plt.plot(s-minima,colour,linewidth=lw)\n",
    "        else:\n",
    "            plt.plot(s,colour,linewidth=lw)\n",
    "    #     plt.plot([pre],s[pre],tm,fillstyle='none')\n",
    "    #     plt.plot([pre+min_t],minmax['filtered'][i],mm,fillstyle='none')\n",
    "        if event_type==Event.pulse:\n",
    "            if max_peaks > 1:\n",
    "                for i in range(max_peaks):\n",
    "                    p=event['peaks'][i]\n",
    "                    plt.plot([0,len(s)-1],[p['height'],p['height']],':g')\n",
    "            else:\n",
    "                p=event['peaks']\n",
    "                plt.plot([0,len(s)-1],[p['height'],p['height']],':g',lw=1)\n",
    "        else:\n",
    "          plt.plot([0,len(s)-1],[event['height'],event['height']],colour,lw=lw)\n",
    "\n",
    "    #print(event['height'],event['minima'])\n",
    "    #print(minmax['filtered'][i]==s[pre+min_t])\n",
    "    #print(minmax['filtered'][i]==event['minima'])\n",
    "    #print(s[pre],s[pre-1])"
   ]
  },
  {
   "cell_type": "code",
   "execution_count": null,
   "metadata": {
    "collapsed": false,
    "run_control": {
     "frozen": false,
     "read_only": false
    },
    "scrolled": false
   },
   "outputs": [],
   "source": [
    "%matplotlib notebook\n",
    "traces=Data.fromfile('traces',trace_dt,'teslib','measurement_subsystem_TB',tool='vivado')\n",
    "plt.plot(traces['slope'][1100:],'r',linewidth=1)\n",
    "plt.plot(traces['raw'][1100:],linewidth=0.5)\n",
    "plt.plot(traces['filtered'][1100:],'k',linewidth=2)"
   ]
  },
  {
   "cell_type": "code",
   "execution_count": 3,
   "metadata": {
    "collapsed": false,
    "run_control": {
     "frozen": false,
     "read_only": false
    },
    "scrolled": false
   },
   "outputs": [],
   "source": [
    "stream=Data.fromfile('bytestream',stream_dt,'teslib','measurement_subsystem_TB',tool='vivado')\n",
    "minmax=Data.fromfile('minmax',minmax_dt,'teslib','measurement_subsystem_TB',tool='vivado')\n",
    "# bs=PacketStream(stream)\n",
    "# es=bs.eventstream\n",
    "# %matplotlib notebook\n",
    "# for e in es:\n",
    "#     if e[1]==Event.peak or e[1]==Event.pulse:\n",
    "#         plot_event(e,False)"
   ]
  },
  {
   "cell_type": "code",
   "execution_count": 4,
   "metadata": {
    "collapsed": false
   },
   "outputs": [
    {
     "name": "stdout",
     "output_type": "stream",
     "text": [
      "(515, 0, 35, 16, 28, 0, 14974, 71, 67)\n",
      "0 1464 4120\n",
      "1464 2928 4120\n",
      "2928 4120 4120\n",
      "28 515 3\n",
      "[('size', <class 'numpy.uint16'>), ('tflags0', <class 'numpy.uint8'>), ('tflags1', <class 'numpy.uint8'>), ('flags0', <class 'numpy.uint8'>), ('flags1', <class 'numpy.uint8'>), ('time', <class 'numpy.uint16'>), ('area', <class 'numpy.uint32'>), ('length', <class 'numpy.uint16'>), ('offset', <class 'numpy.uint16'>), ('peaks', [('height', 'i2'), ('minima', 'i2'), ('rise', 'u2'), ('time', 'u2')], (1,)), ('trace', <class 'numpy.int16'>, (2048,))]\n",
      "(515, 0, 35, 16, 28, 0, 14974, 71, 67)\n",
      "0 1464 4120\n",
      "1464 2928 4120\n",
      "2928 4120 4120\n",
      "28 515 3\n",
      "[('size', <class 'numpy.uint16'>), ('tflags0', <class 'numpy.uint8'>), ('tflags1', <class 'numpy.uint8'>), ('flags0', <class 'numpy.uint8'>), ('flags1', <class 'numpy.uint8'>), ('time', <class 'numpy.uint16'>), ('area', <class 'numpy.uint32'>), ('length', <class 'numpy.uint16'>), ('offset', <class 'numpy.uint16'>), ('peaks', [('height', 'i2'), ('minima', 'i2'), ('rise', 'u2'), ('time', 'u2')], (1,)), ('trace', <class 'numpy.int16'>, (2048,))]\n",
      "(515, 0, 35, 16, 28, 0, 14974, 71, 67)\n",
      "0 1464 4120\n",
      "1464 2928 4120\n",
      "2928 4120 4120\n",
      "28 515 3\n",
      "[('size', <class 'numpy.uint16'>), ('tflags0', <class 'numpy.uint8'>), ('tflags1', <class 'numpy.uint8'>), ('flags0', <class 'numpy.uint8'>), ('flags1', <class 'numpy.uint8'>), ('time', <class 'numpy.uint16'>), ('area', <class 'numpy.uint32'>), ('length', <class 'numpy.uint16'>), ('offset', <class 'numpy.uint16'>), ('peaks', [('height', 'i2'), ('minima', 'i2'), ('rise', 'u2'), ('time', 'u2')], (1,)), ('trace', <class 'numpy.int16'>, (2048,))]\n",
      "(515, 0, 35, 16, 28, 0, 14974, 71, 67)\n",
      "0 1464 4120\n",
      "1464 2928 4120\n",
      "2928 4120 4120\n",
      "28 515 3\n",
      "[('size', <class 'numpy.uint16'>), ('tflags0', <class 'numpy.uint8'>), ('tflags1', <class 'numpy.uint8'>), ('flags0', <class 'numpy.uint8'>), ('flags1', <class 'numpy.uint8'>), ('time', <class 'numpy.uint16'>), ('area', <class 'numpy.uint32'>), ('length', <class 'numpy.uint16'>), ('offset', <class 'numpy.uint16'>), ('peaks', [('height', 'i2'), ('minima', 'i2'), ('rise', 'u2'), ('time', 'u2')], (1,)), ('trace', <class 'numpy.int16'>, (2048,))]\n",
      "(515, 0, 35, 16, 28, 0, 14974, 71, 67)\n",
      "0 1464 4120\n"
     ]
    },
    {
     "data": {
      "text/plain": [
       "[<tes.data.Trace at 0x7e67198>,\n",
       " <tes.data.Trace at 0x7e67860>,\n",
       " <tes.data.Trace at 0x7e85320>,\n",
       " <tes.data.Trace at 0x7e85b38>]"
      ]
     },
     "execution_count": 4,
     "metadata": {},
     "output_type": "execute_result"
    }
   ],
   "source": [
    "ps=PacketStream(stream)\n",
    "ps.traces"
   ]
  },
  {
   "cell_type": "code",
   "execution_count": 6,
   "metadata": {
    "collapsed": false
   },
   "outputs": [
    {
     "data": {
      "application/javascript": [
       "/* Put everything inside the global mpl namespace */\n",
       "window.mpl = {};\n",
       "\n",
       "\n",
       "mpl.get_websocket_type = function() {\n",
       "    if (typeof(WebSocket) !== 'undefined') {\n",
       "        return WebSocket;\n",
       "    } else if (typeof(MozWebSocket) !== 'undefined') {\n",
       "        return MozWebSocket;\n",
       "    } else {\n",
       "        alert('Your browser does not have WebSocket support.' +\n",
       "              'Please try Chrome, Safari or Firefox ≥ 6. ' +\n",
       "              'Firefox 4 and 5 are also supported but you ' +\n",
       "              'have to enable WebSockets in about:config.');\n",
       "    };\n",
       "}\n",
       "\n",
       "mpl.figure = function(figure_id, websocket, ondownload, parent_element) {\n",
       "    this.id = figure_id;\n",
       "\n",
       "    this.ws = websocket;\n",
       "\n",
       "    this.supports_binary = (this.ws.binaryType != undefined);\n",
       "\n",
       "    if (!this.supports_binary) {\n",
       "        var warnings = document.getElementById(\"mpl-warnings\");\n",
       "        if (warnings) {\n",
       "            warnings.style.display = 'block';\n",
       "            warnings.textContent = (\n",
       "                \"This browser does not support binary websocket messages. \" +\n",
       "                    \"Performance may be slow.\");\n",
       "        }\n",
       "    }\n",
       "\n",
       "    this.imageObj = new Image();\n",
       "\n",
       "    this.context = undefined;\n",
       "    this.message = undefined;\n",
       "    this.canvas = undefined;\n",
       "    this.rubberband_canvas = undefined;\n",
       "    this.rubberband_context = undefined;\n",
       "    this.format_dropdown = undefined;\n",
       "\n",
       "    this.image_mode = 'full';\n",
       "\n",
       "    this.root = $('<div/>');\n",
       "    this._root_extra_style(this.root)\n",
       "    this.root.attr('style', 'display: inline-block');\n",
       "\n",
       "    $(parent_element).append(this.root);\n",
       "\n",
       "    this._init_header(this);\n",
       "    this._init_canvas(this);\n",
       "    this._init_toolbar(this);\n",
       "\n",
       "    var fig = this;\n",
       "\n",
       "    this.waiting = false;\n",
       "\n",
       "    this.ws.onopen =  function () {\n",
       "            fig.send_message(\"supports_binary\", {value: fig.supports_binary});\n",
       "            fig.send_message(\"send_image_mode\", {});\n",
       "            if (mpl.ratio != 1) {\n",
       "                fig.send_message(\"set_dpi_ratio\", {'dpi_ratio': mpl.ratio});\n",
       "            }\n",
       "            fig.send_message(\"refresh\", {});\n",
       "        }\n",
       "\n",
       "    this.imageObj.onload = function() {\n",
       "            if (fig.image_mode == 'full') {\n",
       "                // Full images could contain transparency (where diff images\n",
       "                // almost always do), so we need to clear the canvas so that\n",
       "                // there is no ghosting.\n",
       "                fig.context.clearRect(0, 0, fig.canvas.width, fig.canvas.height);\n",
       "            }\n",
       "            fig.context.drawImage(fig.imageObj, 0, 0);\n",
       "        };\n",
       "\n",
       "    this.imageObj.onunload = function() {\n",
       "        this.ws.close();\n",
       "    }\n",
       "\n",
       "    this.ws.onmessage = this._make_on_message_function(this);\n",
       "\n",
       "    this.ondownload = ondownload;\n",
       "}\n",
       "\n",
       "mpl.figure.prototype._init_header = function() {\n",
       "    var titlebar = $(\n",
       "        '<div class=\"ui-dialog-titlebar ui-widget-header ui-corner-all ' +\n",
       "        'ui-helper-clearfix\"/>');\n",
       "    var titletext = $(\n",
       "        '<div class=\"ui-dialog-title\" style=\"width: 100%; ' +\n",
       "        'text-align: center; padding: 3px;\"/>');\n",
       "    titlebar.append(titletext)\n",
       "    this.root.append(titlebar);\n",
       "    this.header = titletext[0];\n",
       "}\n",
       "\n",
       "\n",
       "\n",
       "mpl.figure.prototype._canvas_extra_style = function(canvas_div) {\n",
       "\n",
       "}\n",
       "\n",
       "\n",
       "mpl.figure.prototype._root_extra_style = function(canvas_div) {\n",
       "\n",
       "}\n",
       "\n",
       "mpl.figure.prototype._init_canvas = function() {\n",
       "    var fig = this;\n",
       "\n",
       "    var canvas_div = $('<div/>');\n",
       "\n",
       "    canvas_div.attr('style', 'position: relative; clear: both; outline: 0');\n",
       "\n",
       "    function canvas_keyboard_event(event) {\n",
       "        return fig.key_event(event, event['data']);\n",
       "    }\n",
       "\n",
       "    canvas_div.keydown('key_press', canvas_keyboard_event);\n",
       "    canvas_div.keyup('key_release', canvas_keyboard_event);\n",
       "    this.canvas_div = canvas_div\n",
       "    this._canvas_extra_style(canvas_div)\n",
       "    this.root.append(canvas_div);\n",
       "\n",
       "    var canvas = $('<canvas/>');\n",
       "    canvas.addClass('mpl-canvas');\n",
       "    canvas.attr('style', \"left: 0; top: 0; z-index: 0; outline: 0\")\n",
       "\n",
       "    this.canvas = canvas[0];\n",
       "    this.context = canvas[0].getContext(\"2d\");\n",
       "\n",
       "    var backingStore = this.context.backingStorePixelRatio ||\n",
       "\tthis.context.webkitBackingStorePixelRatio ||\n",
       "\tthis.context.mozBackingStorePixelRatio ||\n",
       "\tthis.context.msBackingStorePixelRatio ||\n",
       "\tthis.context.oBackingStorePixelRatio ||\n",
       "\tthis.context.backingStorePixelRatio || 1;\n",
       "\n",
       "    mpl.ratio = (window.devicePixelRatio || 1) / backingStore;\n",
       "\n",
       "    var rubberband = $('<canvas/>');\n",
       "    rubberband.attr('style', \"position: absolute; left: 0; top: 0; z-index: 1;\")\n",
       "\n",
       "    var pass_mouse_events = true;\n",
       "\n",
       "    canvas_div.resizable({\n",
       "        start: function(event, ui) {\n",
       "            pass_mouse_events = false;\n",
       "        },\n",
       "        resize: function(event, ui) {\n",
       "            fig.request_resize(ui.size.width, ui.size.height);\n",
       "        },\n",
       "        stop: function(event, ui) {\n",
       "            pass_mouse_events = true;\n",
       "            fig.request_resize(ui.size.width, ui.size.height);\n",
       "        },\n",
       "    });\n",
       "\n",
       "    function mouse_event_fn(event) {\n",
       "        if (pass_mouse_events)\n",
       "            return fig.mouse_event(event, event['data']);\n",
       "    }\n",
       "\n",
       "    rubberband.mousedown('button_press', mouse_event_fn);\n",
       "    rubberband.mouseup('button_release', mouse_event_fn);\n",
       "    // Throttle sequential mouse events to 1 every 20ms.\n",
       "    rubberband.mousemove('motion_notify', mouse_event_fn);\n",
       "\n",
       "    rubberband.mouseenter('figure_enter', mouse_event_fn);\n",
       "    rubberband.mouseleave('figure_leave', mouse_event_fn);\n",
       "\n",
       "    canvas_div.on(\"wheel\", function (event) {\n",
       "        event = event.originalEvent;\n",
       "        event['data'] = 'scroll'\n",
       "        if (event.deltaY < 0) {\n",
       "            event.step = 1;\n",
       "        } else {\n",
       "            event.step = -1;\n",
       "        }\n",
       "        mouse_event_fn(event);\n",
       "    });\n",
       "\n",
       "    canvas_div.append(canvas);\n",
       "    canvas_div.append(rubberband);\n",
       "\n",
       "    this.rubberband = rubberband;\n",
       "    this.rubberband_canvas = rubberband[0];\n",
       "    this.rubberband_context = rubberband[0].getContext(\"2d\");\n",
       "    this.rubberband_context.strokeStyle = \"#000000\";\n",
       "\n",
       "    this._resize_canvas = function(width, height) {\n",
       "        // Keep the size of the canvas, canvas container, and rubber band\n",
       "        // canvas in synch.\n",
       "        canvas_div.css('width', width)\n",
       "        canvas_div.css('height', height)\n",
       "\n",
       "        canvas.attr('width', width * mpl.ratio);\n",
       "        canvas.attr('height', height * mpl.ratio);\n",
       "        canvas.attr('style', 'width: ' + width + 'px; height: ' + height + 'px;');\n",
       "\n",
       "        rubberband.attr('width', width);\n",
       "        rubberband.attr('height', height);\n",
       "    }\n",
       "\n",
       "    // Set the figure to an initial 600x600px, this will subsequently be updated\n",
       "    // upon first draw.\n",
       "    this._resize_canvas(600, 600);\n",
       "\n",
       "    // Disable right mouse context menu.\n",
       "    $(this.rubberband_canvas).bind(\"contextmenu\",function(e){\n",
       "        return false;\n",
       "    });\n",
       "\n",
       "    function set_focus () {\n",
       "        canvas.focus();\n",
       "        canvas_div.focus();\n",
       "    }\n",
       "\n",
       "    window.setTimeout(set_focus, 100);\n",
       "}\n",
       "\n",
       "mpl.figure.prototype._init_toolbar = function() {\n",
       "    var fig = this;\n",
       "\n",
       "    var nav_element = $('<div/>')\n",
       "    nav_element.attr('style', 'width: 100%');\n",
       "    this.root.append(nav_element);\n",
       "\n",
       "    // Define a callback function for later on.\n",
       "    function toolbar_event(event) {\n",
       "        return fig.toolbar_button_onclick(event['data']);\n",
       "    }\n",
       "    function toolbar_mouse_event(event) {\n",
       "        return fig.toolbar_button_onmouseover(event['data']);\n",
       "    }\n",
       "\n",
       "    for(var toolbar_ind in mpl.toolbar_items) {\n",
       "        var name = mpl.toolbar_items[toolbar_ind][0];\n",
       "        var tooltip = mpl.toolbar_items[toolbar_ind][1];\n",
       "        var image = mpl.toolbar_items[toolbar_ind][2];\n",
       "        var method_name = mpl.toolbar_items[toolbar_ind][3];\n",
       "\n",
       "        if (!name) {\n",
       "            // put a spacer in here.\n",
       "            continue;\n",
       "        }\n",
       "        var button = $('<button/>');\n",
       "        button.addClass('ui-button ui-widget ui-state-default ui-corner-all ' +\n",
       "                        'ui-button-icon-only');\n",
       "        button.attr('role', 'button');\n",
       "        button.attr('aria-disabled', 'false');\n",
       "        button.click(method_name, toolbar_event);\n",
       "        button.mouseover(tooltip, toolbar_mouse_event);\n",
       "\n",
       "        var icon_img = $('<span/>');\n",
       "        icon_img.addClass('ui-button-icon-primary ui-icon');\n",
       "        icon_img.addClass(image);\n",
       "        icon_img.addClass('ui-corner-all');\n",
       "\n",
       "        var tooltip_span = $('<span/>');\n",
       "        tooltip_span.addClass('ui-button-text');\n",
       "        tooltip_span.html(tooltip);\n",
       "\n",
       "        button.append(icon_img);\n",
       "        button.append(tooltip_span);\n",
       "\n",
       "        nav_element.append(button);\n",
       "    }\n",
       "\n",
       "    var fmt_picker_span = $('<span/>');\n",
       "\n",
       "    var fmt_picker = $('<select/>');\n",
       "    fmt_picker.addClass('mpl-toolbar-option ui-widget ui-widget-content');\n",
       "    fmt_picker_span.append(fmt_picker);\n",
       "    nav_element.append(fmt_picker_span);\n",
       "    this.format_dropdown = fmt_picker[0];\n",
       "\n",
       "    for (var ind in mpl.extensions) {\n",
       "        var fmt = mpl.extensions[ind];\n",
       "        var option = $(\n",
       "            '<option/>', {selected: fmt === mpl.default_extension}).html(fmt);\n",
       "        fmt_picker.append(option)\n",
       "    }\n",
       "\n",
       "    // Add hover states to the ui-buttons\n",
       "    $( \".ui-button\" ).hover(\n",
       "        function() { $(this).addClass(\"ui-state-hover\");},\n",
       "        function() { $(this).removeClass(\"ui-state-hover\");}\n",
       "    );\n",
       "\n",
       "    var status_bar = $('<span class=\"mpl-message\"/>');\n",
       "    nav_element.append(status_bar);\n",
       "    this.message = status_bar[0];\n",
       "}\n",
       "\n",
       "mpl.figure.prototype.request_resize = function(x_pixels, y_pixels) {\n",
       "    // Request matplotlib to resize the figure. Matplotlib will then trigger a resize in the client,\n",
       "    // which will in turn request a refresh of the image.\n",
       "    this.send_message('resize', {'width': x_pixels, 'height': y_pixels});\n",
       "}\n",
       "\n",
       "mpl.figure.prototype.send_message = function(type, properties) {\n",
       "    properties['type'] = type;\n",
       "    properties['figure_id'] = this.id;\n",
       "    this.ws.send(JSON.stringify(properties));\n",
       "}\n",
       "\n",
       "mpl.figure.prototype.send_draw_message = function() {\n",
       "    if (!this.waiting) {\n",
       "        this.waiting = true;\n",
       "        this.ws.send(JSON.stringify({type: \"draw\", figure_id: this.id}));\n",
       "    }\n",
       "}\n",
       "\n",
       "\n",
       "mpl.figure.prototype.handle_save = function(fig, msg) {\n",
       "    var format_dropdown = fig.format_dropdown;\n",
       "    var format = format_dropdown.options[format_dropdown.selectedIndex].value;\n",
       "    fig.ondownload(fig, format);\n",
       "}\n",
       "\n",
       "\n",
       "mpl.figure.prototype.handle_resize = function(fig, msg) {\n",
       "    var size = msg['size'];\n",
       "    if (size[0] != fig.canvas.width || size[1] != fig.canvas.height) {\n",
       "        fig._resize_canvas(size[0], size[1]);\n",
       "        fig.send_message(\"refresh\", {});\n",
       "    };\n",
       "}\n",
       "\n",
       "mpl.figure.prototype.handle_rubberband = function(fig, msg) {\n",
       "    var x0 = msg['x0'] / mpl.ratio;\n",
       "    var y0 = (fig.canvas.height - msg['y0']) / mpl.ratio;\n",
       "    var x1 = msg['x1'] / mpl.ratio;\n",
       "    var y1 = (fig.canvas.height - msg['y1']) / mpl.ratio;\n",
       "    x0 = Math.floor(x0) + 0.5;\n",
       "    y0 = Math.floor(y0) + 0.5;\n",
       "    x1 = Math.floor(x1) + 0.5;\n",
       "    y1 = Math.floor(y1) + 0.5;\n",
       "    var min_x = Math.min(x0, x1);\n",
       "    var min_y = Math.min(y0, y1);\n",
       "    var width = Math.abs(x1 - x0);\n",
       "    var height = Math.abs(y1 - y0);\n",
       "\n",
       "    fig.rubberband_context.clearRect(\n",
       "        0, 0, fig.canvas.width, fig.canvas.height);\n",
       "\n",
       "    fig.rubberband_context.strokeRect(min_x, min_y, width, height);\n",
       "}\n",
       "\n",
       "mpl.figure.prototype.handle_figure_label = function(fig, msg) {\n",
       "    // Updates the figure title.\n",
       "    fig.header.textContent = msg['label'];\n",
       "}\n",
       "\n",
       "mpl.figure.prototype.handle_cursor = function(fig, msg) {\n",
       "    var cursor = msg['cursor'];\n",
       "    switch(cursor)\n",
       "    {\n",
       "    case 0:\n",
       "        cursor = 'pointer';\n",
       "        break;\n",
       "    case 1:\n",
       "        cursor = 'default';\n",
       "        break;\n",
       "    case 2:\n",
       "        cursor = 'crosshair';\n",
       "        break;\n",
       "    case 3:\n",
       "        cursor = 'move';\n",
       "        break;\n",
       "    }\n",
       "    fig.rubberband_canvas.style.cursor = cursor;\n",
       "}\n",
       "\n",
       "mpl.figure.prototype.handle_message = function(fig, msg) {\n",
       "    fig.message.textContent = msg['message'];\n",
       "}\n",
       "\n",
       "mpl.figure.prototype.handle_draw = function(fig, msg) {\n",
       "    // Request the server to send over a new figure.\n",
       "    fig.send_draw_message();\n",
       "}\n",
       "\n",
       "mpl.figure.prototype.handle_image_mode = function(fig, msg) {\n",
       "    fig.image_mode = msg['mode'];\n",
       "}\n",
       "\n",
       "mpl.figure.prototype.updated_canvas_event = function() {\n",
       "    // Called whenever the canvas gets updated.\n",
       "    this.send_message(\"ack\", {});\n",
       "}\n",
       "\n",
       "// A function to construct a web socket function for onmessage handling.\n",
       "// Called in the figure constructor.\n",
       "mpl.figure.prototype._make_on_message_function = function(fig) {\n",
       "    return function socket_on_message(evt) {\n",
       "        if (evt.data instanceof Blob) {\n",
       "            /* FIXME: We get \"Resource interpreted as Image but\n",
       "             * transferred with MIME type text/plain:\" errors on\n",
       "             * Chrome.  But how to set the MIME type?  It doesn't seem\n",
       "             * to be part of the websocket stream */\n",
       "            evt.data.type = \"image/png\";\n",
       "\n",
       "            /* Free the memory for the previous frames */\n",
       "            if (fig.imageObj.src) {\n",
       "                (window.URL || window.webkitURL).revokeObjectURL(\n",
       "                    fig.imageObj.src);\n",
       "            }\n",
       "\n",
       "            fig.imageObj.src = (window.URL || window.webkitURL).createObjectURL(\n",
       "                evt.data);\n",
       "            fig.updated_canvas_event();\n",
       "            fig.waiting = false;\n",
       "            return;\n",
       "        }\n",
       "        else if (typeof evt.data === 'string' && evt.data.slice(0, 21) == \"data:image/png;base64\") {\n",
       "            fig.imageObj.src = evt.data;\n",
       "            fig.updated_canvas_event();\n",
       "            fig.waiting = false;\n",
       "            return;\n",
       "        }\n",
       "\n",
       "        var msg = JSON.parse(evt.data);\n",
       "        var msg_type = msg['type'];\n",
       "\n",
       "        // Call the  \"handle_{type}\" callback, which takes\n",
       "        // the figure and JSON message as its only arguments.\n",
       "        try {\n",
       "            var callback = fig[\"handle_\" + msg_type];\n",
       "        } catch (e) {\n",
       "            console.log(\"No handler for the '\" + msg_type + \"' message type: \", msg);\n",
       "            return;\n",
       "        }\n",
       "\n",
       "        if (callback) {\n",
       "            try {\n",
       "                // console.log(\"Handling '\" + msg_type + \"' message: \", msg);\n",
       "                callback(fig, msg);\n",
       "            } catch (e) {\n",
       "                console.log(\"Exception inside the 'handler_\" + msg_type + \"' callback:\", e, e.stack, msg);\n",
       "            }\n",
       "        }\n",
       "    };\n",
       "}\n",
       "\n",
       "// from http://stackoverflow.com/questions/1114465/getting-mouse-location-in-canvas\n",
       "mpl.findpos = function(e) {\n",
       "    //this section is from http://www.quirksmode.org/js/events_properties.html\n",
       "    var targ;\n",
       "    if (!e)\n",
       "        e = window.event;\n",
       "    if (e.target)\n",
       "        targ = e.target;\n",
       "    else if (e.srcElement)\n",
       "        targ = e.srcElement;\n",
       "    if (targ.nodeType == 3) // defeat Safari bug\n",
       "        targ = targ.parentNode;\n",
       "\n",
       "    // jQuery normalizes the pageX and pageY\n",
       "    // pageX,Y are the mouse positions relative to the document\n",
       "    // offset() returns the position of the element relative to the document\n",
       "    var x = e.pageX - $(targ).offset().left;\n",
       "    var y = e.pageY - $(targ).offset().top;\n",
       "\n",
       "    return {\"x\": x, \"y\": y};\n",
       "};\n",
       "\n",
       "/*\n",
       " * return a copy of an object with only non-object keys\n",
       " * we need this to avoid circular references\n",
       " * http://stackoverflow.com/a/24161582/3208463\n",
       " */\n",
       "function simpleKeys (original) {\n",
       "  return Object.keys(original).reduce(function (obj, key) {\n",
       "    if (typeof original[key] !== 'object')\n",
       "        obj[key] = original[key]\n",
       "    return obj;\n",
       "  }, {});\n",
       "}\n",
       "\n",
       "mpl.figure.prototype.mouse_event = function(event, name) {\n",
       "    var canvas_pos = mpl.findpos(event)\n",
       "\n",
       "    if (name === 'button_press')\n",
       "    {\n",
       "        this.canvas.focus();\n",
       "        this.canvas_div.focus();\n",
       "    }\n",
       "\n",
       "    var x = canvas_pos.x * mpl.ratio;\n",
       "    var y = canvas_pos.y * mpl.ratio;\n",
       "\n",
       "    this.send_message(name, {x: x, y: y, button: event.button,\n",
       "                             step: event.step,\n",
       "                             guiEvent: simpleKeys(event)});\n",
       "\n",
       "    /* This prevents the web browser from automatically changing to\n",
       "     * the text insertion cursor when the button is pressed.  We want\n",
       "     * to control all of the cursor setting manually through the\n",
       "     * 'cursor' event from matplotlib */\n",
       "    event.preventDefault();\n",
       "    return false;\n",
       "}\n",
       "\n",
       "mpl.figure.prototype._key_event_extra = function(event, name) {\n",
       "    // Handle any extra behaviour associated with a key event\n",
       "}\n",
       "\n",
       "mpl.figure.prototype.key_event = function(event, name) {\n",
       "\n",
       "    // Prevent repeat events\n",
       "    if (name == 'key_press')\n",
       "    {\n",
       "        if (event.which === this._key)\n",
       "            return;\n",
       "        else\n",
       "            this._key = event.which;\n",
       "    }\n",
       "    if (name == 'key_release')\n",
       "        this._key = null;\n",
       "\n",
       "    var value = '';\n",
       "    if (event.ctrlKey && event.which != 17)\n",
       "        value += \"ctrl+\";\n",
       "    if (event.altKey && event.which != 18)\n",
       "        value += \"alt+\";\n",
       "    if (event.shiftKey && event.which != 16)\n",
       "        value += \"shift+\";\n",
       "\n",
       "    value += 'k';\n",
       "    value += event.which.toString();\n",
       "\n",
       "    this._key_event_extra(event, name);\n",
       "\n",
       "    this.send_message(name, {key: value,\n",
       "                             guiEvent: simpleKeys(event)});\n",
       "    return false;\n",
       "}\n",
       "\n",
       "mpl.figure.prototype.toolbar_button_onclick = function(name) {\n",
       "    if (name == 'download') {\n",
       "        this.handle_save(this, null);\n",
       "    } else {\n",
       "        this.send_message(\"toolbar_button\", {name: name});\n",
       "    }\n",
       "};\n",
       "\n",
       "mpl.figure.prototype.toolbar_button_onmouseover = function(tooltip) {\n",
       "    this.message.textContent = tooltip;\n",
       "};\n",
       "mpl.toolbar_items = [[\"Home\", \"Reset original view\", \"fa fa-home icon-home\", \"home\"], [\"Back\", \"Back to  previous view\", \"fa fa-arrow-left icon-arrow-left\", \"back\"], [\"Forward\", \"Forward to next view\", \"fa fa-arrow-right icon-arrow-right\", \"forward\"], [\"\", \"\", \"\", \"\"], [\"Pan\", \"Pan axes with left mouse, zoom with right\", \"fa fa-arrows icon-move\", \"pan\"], [\"Zoom\", \"Zoom to rectangle\", \"fa fa-square-o icon-check-empty\", \"zoom\"], [\"\", \"\", \"\", \"\"], [\"Download\", \"Download plot\", \"fa fa-floppy-o icon-save\", \"download\"]];\n",
       "\n",
       "mpl.extensions = [\"eps\", \"jpeg\", \"pdf\", \"png\", \"ps\", \"raw\", \"svg\", \"tif\"];\n",
       "\n",
       "mpl.default_extension = \"png\";var comm_websocket_adapter = function(comm) {\n",
       "    // Create a \"websocket\"-like object which calls the given IPython comm\n",
       "    // object with the appropriate methods. Currently this is a non binary\n",
       "    // socket, so there is still some room for performance tuning.\n",
       "    var ws = {};\n",
       "\n",
       "    ws.close = function() {\n",
       "        comm.close()\n",
       "    };\n",
       "    ws.send = function(m) {\n",
       "        //console.log('sending', m);\n",
       "        comm.send(m);\n",
       "    };\n",
       "    // Register the callback with on_msg.\n",
       "    comm.on_msg(function(msg) {\n",
       "        //console.log('receiving', msg['content']['data'], msg);\n",
       "        // Pass the mpl event to the overriden (by mpl) onmessage function.\n",
       "        ws.onmessage(msg['content']['data'])\n",
       "    });\n",
       "    return ws;\n",
       "}\n",
       "\n",
       "mpl.mpl_figure_comm = function(comm, msg) {\n",
       "    // This is the function which gets called when the mpl process\n",
       "    // starts-up an IPython Comm through the \"matplotlib\" channel.\n",
       "\n",
       "    var id = msg.content.data.id;\n",
       "    // Get hold of the div created by the display call when the Comm\n",
       "    // socket was opened in Python.\n",
       "    var element = $(\"#\" + id);\n",
       "    var ws_proxy = comm_websocket_adapter(comm)\n",
       "\n",
       "    function ondownload(figure, format) {\n",
       "        window.open(figure.imageObj.src);\n",
       "    }\n",
       "\n",
       "    var fig = new mpl.figure(id, ws_proxy,\n",
       "                           ondownload,\n",
       "                           element.get(0));\n",
       "\n",
       "    // Call onopen now - mpl needs it, as it is assuming we've passed it a real\n",
       "    // web socket which is closed, not our websocket->open comm proxy.\n",
       "    ws_proxy.onopen();\n",
       "\n",
       "    fig.parent_element = element.get(0);\n",
       "    fig.cell_info = mpl.find_output_cell(\"<div id='\" + id + \"'></div>\");\n",
       "    if (!fig.cell_info) {\n",
       "        console.error(\"Failed to find cell for figure\", id, fig);\n",
       "        return;\n",
       "    }\n",
       "\n",
       "    var output_index = fig.cell_info[2]\n",
       "    var cell = fig.cell_info[0];\n",
       "\n",
       "};\n",
       "\n",
       "mpl.figure.prototype.handle_close = function(fig, msg) {\n",
       "    var width = fig.canvas.width/mpl.ratio\n",
       "    fig.root.unbind('remove')\n",
       "\n",
       "    // Update the output cell to use the data from the current canvas.\n",
       "    fig.push_to_output();\n",
       "    var dataURL = fig.canvas.toDataURL();\n",
       "    // Re-enable the keyboard manager in IPython - without this line, in FF,\n",
       "    // the notebook keyboard shortcuts fail.\n",
       "    IPython.keyboard_manager.enable()\n",
       "    $(fig.parent_element).html('<img src=\"' + dataURL + '\" width=\"' + width + '\">');\n",
       "    fig.close_ws(fig, msg);\n",
       "}\n",
       "\n",
       "mpl.figure.prototype.close_ws = function(fig, msg){\n",
       "    fig.send_message('closing', msg);\n",
       "    // fig.ws.close()\n",
       "}\n",
       "\n",
       "mpl.figure.prototype.push_to_output = function(remove_interactive) {\n",
       "    // Turn the data on the canvas into data in the output cell.\n",
       "    var width = this.canvas.width/mpl.ratio\n",
       "    var dataURL = this.canvas.toDataURL();\n",
       "    this.cell_info[1]['text/html'] = '<img src=\"' + dataURL + '\" width=\"' + width + '\">';\n",
       "}\n",
       "\n",
       "mpl.figure.prototype.updated_canvas_event = function() {\n",
       "    // Tell IPython that the notebook contents must change.\n",
       "    IPython.notebook.set_dirty(true);\n",
       "    this.send_message(\"ack\", {});\n",
       "    var fig = this;\n",
       "    // Wait a second, then push the new image to the DOM so\n",
       "    // that it is saved nicely (might be nice to debounce this).\n",
       "    setTimeout(function () { fig.push_to_output() }, 1000);\n",
       "}\n",
       "\n",
       "mpl.figure.prototype._init_toolbar = function() {\n",
       "    var fig = this;\n",
       "\n",
       "    var nav_element = $('<div/>')\n",
       "    nav_element.attr('style', 'width: 100%');\n",
       "    this.root.append(nav_element);\n",
       "\n",
       "    // Define a callback function for later on.\n",
       "    function toolbar_event(event) {\n",
       "        return fig.toolbar_button_onclick(event['data']);\n",
       "    }\n",
       "    function toolbar_mouse_event(event) {\n",
       "        return fig.toolbar_button_onmouseover(event['data']);\n",
       "    }\n",
       "\n",
       "    for(var toolbar_ind in mpl.toolbar_items){\n",
       "        var name = mpl.toolbar_items[toolbar_ind][0];\n",
       "        var tooltip = mpl.toolbar_items[toolbar_ind][1];\n",
       "        var image = mpl.toolbar_items[toolbar_ind][2];\n",
       "        var method_name = mpl.toolbar_items[toolbar_ind][3];\n",
       "\n",
       "        if (!name) { continue; };\n",
       "\n",
       "        var button = $('<button class=\"btn btn-default\" href=\"#\" title=\"' + name + '\"><i class=\"fa ' + image + ' fa-lg\"></i></button>');\n",
       "        button.click(method_name, toolbar_event);\n",
       "        button.mouseover(tooltip, toolbar_mouse_event);\n",
       "        nav_element.append(button);\n",
       "    }\n",
       "\n",
       "    // Add the status bar.\n",
       "    var status_bar = $('<span class=\"mpl-message\" style=\"text-align:right; float: right;\"/>');\n",
       "    nav_element.append(status_bar);\n",
       "    this.message = status_bar[0];\n",
       "\n",
       "    // Add the close button to the window.\n",
       "    var buttongrp = $('<div class=\"btn-group inline pull-right\"></div>');\n",
       "    var button = $('<button class=\"btn btn-mini btn-primary\" href=\"#\" title=\"Stop Interaction\"><i class=\"fa fa-power-off icon-remove icon-large\"></i></button>');\n",
       "    button.click(function (evt) { fig.handle_close(fig, {}); } );\n",
       "    button.mouseover('Stop Interaction', toolbar_mouse_event);\n",
       "    buttongrp.append(button);\n",
       "    var titlebar = this.root.find($('.ui-dialog-titlebar'));\n",
       "    titlebar.prepend(buttongrp);\n",
       "}\n",
       "\n",
       "mpl.figure.prototype._root_extra_style = function(el){\n",
       "    var fig = this\n",
       "    el.on(\"remove\", function(){\n",
       "\tfig.close_ws(fig, {});\n",
       "    });\n",
       "}\n",
       "\n",
       "mpl.figure.prototype._canvas_extra_style = function(el){\n",
       "    // this is important to make the div 'focusable\n",
       "    el.attr('tabindex', 0)\n",
       "    // reach out to IPython and tell the keyboard manager to turn it's self\n",
       "    // off when our div gets focus\n",
       "\n",
       "    // location in version 3\n",
       "    if (IPython.notebook.keyboard_manager) {\n",
       "        IPython.notebook.keyboard_manager.register_events(el);\n",
       "    }\n",
       "    else {\n",
       "        // location in version 2\n",
       "        IPython.keyboard_manager.register_events(el);\n",
       "    }\n",
       "\n",
       "}\n",
       "\n",
       "mpl.figure.prototype._key_event_extra = function(event, name) {\n",
       "    var manager = IPython.notebook.keyboard_manager;\n",
       "    if (!manager)\n",
       "        manager = IPython.keyboard_manager;\n",
       "\n",
       "    // Check for shift+enter\n",
       "    if (event.shiftKey && event.which == 13) {\n",
       "        this.canvas_div.blur();\n",
       "        // select the cell after this one\n",
       "        var index = IPython.notebook.find_cell_index(this.cell_info[0]);\n",
       "        IPython.notebook.select(index + 1);\n",
       "    }\n",
       "}\n",
       "\n",
       "mpl.figure.prototype.handle_save = function(fig, msg) {\n",
       "    fig.ondownload(fig, null);\n",
       "}\n",
       "\n",
       "\n",
       "mpl.find_output_cell = function(html_output) {\n",
       "    // Return the cell and output element which can be found *uniquely* in the notebook.\n",
       "    // Note - this is a bit hacky, but it is done because the \"notebook_saving.Notebook\"\n",
       "    // IPython event is triggered only after the cells have been serialised, which for\n",
       "    // our purposes (turning an active figure into a static one), is too late.\n",
       "    var cells = IPython.notebook.get_cells();\n",
       "    var ncells = cells.length;\n",
       "    for (var i=0; i<ncells; i++) {\n",
       "        var cell = cells[i];\n",
       "        if (cell.cell_type === 'code'){\n",
       "            for (var j=0; j<cell.output_area.outputs.length; j++) {\n",
       "                var data = cell.output_area.outputs[j];\n",
       "                if (data.data) {\n",
       "                    // IPython >= 3 moved mimebundle to data attribute of output\n",
       "                    data = data.data;\n",
       "                }\n",
       "                if (data['text/html'] == html_output) {\n",
       "                    return [cell, data, j];\n",
       "                }\n",
       "            }\n",
       "        }\n",
       "    }\n",
       "}\n",
       "\n",
       "// Register the function which deals with the matplotlib target/channel.\n",
       "// The kernel may be null if the page has been refreshed.\n",
       "if (IPython.notebook.kernel != null) {\n",
       "    IPython.notebook.kernel.comm_manager.register_target('matplotlib', mpl.mpl_figure_comm);\n",
       "}\n"
      ],
      "text/plain": [
       "<IPython.core.display.Javascript object>"
      ]
     },
     "metadata": {},
     "output_type": "display_data"
    },
    {
     "data": {
      "text/html": [
       "<img src=\"data:image/png;base64,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\" width=\"640\">"
      ],
      "text/plain": [
       "<IPython.core.display.HTML object>"
      ]
     },
     "metadata": {},
     "output_type": "display_data"
    },
    {
     "data": {
      "text/plain": [
       "[<matplotlib.lines.Line2D at 0x90c1048>]"
      ]
     },
     "execution_count": 6,
     "metadata": {},
     "output_type": "execute_result"
    }
   ],
   "source": [
    "%matplotlib notebook\n",
    "\n",
    "plt.plot(ps.traces[3]._view['trace'])\n",
    "# ps.traces[2]._view['trace'][-20:]"
   ]
  },
  {
   "cell_type": "code",
   "execution_count": 10,
   "metadata": {
    "collapsed": false
   },
   "outputs": [
    {
     "data": {
      "text/plain": [
       "14974"
      ]
     },
     "execution_count": 10,
     "metadata": {},
     "output_type": "execute_result"
    }
   ],
   "source": [
    "ps.traces[3]._view['area']"
   ]
  },
  {
   "cell_type": "code",
   "execution_count": null,
   "metadata": {
    "collapsed": false,
    "run_control": {
     "frozen": false,
     "read_only": false
    },
    "scrolled": true
   },
   "outputs": [],
   "source": [
    "traces=Data.fromfile('traces',trace_dt,'teslib','measurement_subsystem_TB',tool='vivado')\n",
    "stream=Data.fromfile('bytestream',stream_dt,'teslib','measurement_subsystem_TB',tool='vivado')\n",
    "bs=PacketStream(stream)\n",
    "dists=bs.distributions\n",
    "#bs.packets\n",
    "dists"
   ]
  },
  {
   "cell_type": "code",
   "execution_count": null,
   "metadata": {
    "collapsed": false
   },
   "outputs": [],
   "source": [
    "d=dists[0]\n",
    "d.counts[-1]"
   ]
  },
  {
   "cell_type": "code",
   "execution_count": null,
   "metadata": {
    "collapsed": false
   },
   "outputs": [],
   "source": [
    "d.total+d.underflow+d.overflow"
   ]
  },
  {
   "cell_type": "code",
   "execution_count": null,
   "metadata": {
    "collapsed": false
   },
   "outputs": [],
   "source": [
    "%matplotlib notebook\n",
    "plt.plot(d.bins)"
   ]
  },
  {
   "cell_type": "code",
   "execution_count": null,
   "metadata": {
    "collapsed": false,
    "scrolled": false
   },
   "outputs": [],
   "source": [
    "f=EventFlags(es[2][2]['flags'])\n",
    "f.channel"
   ]
  },
  {
   "cell_type": "code",
   "execution_count": null,
   "metadata": {
    "collapsed": false,
    "run_control": {
     "frozen": false,
     "read_only": false
    },
    "scrolled": true
   },
   "outputs": [],
   "source": [
    "import tes.mca as mca\n",
    "d=bs.distributions[0]\n",
    "eset=np.uint64(1)\n",
    "bset=np.uint64(0)\n",
    "cset=np.uint64(20)\n",
    "\n",
    "stop=d.stop_time+eset+cset\n",
    "start=d.start_time+bset+cset\n",
    "bins=np.zeros((d.last_bin+1,),dtype=np.uint32)\n",
    "\n",
    "if d.value==mca.Value.raw_signal:\n",
    "    tname='raw'\n",
    "elif d.value==mca.Value.filtered_signal:\n",
    "    tname='filtered'\n",
    "elif d.value==mca.Value.slope_signal:\n",
    "    tname='slope'\n",
    "\n",
    "for i in range(start,stop):\n",
    "    s = traces[tname][i]\n",
    "    if s < d.lowest_value:\n",
    "        bins[0] += 1\n",
    "    else:\n",
    "        bin_number = s - d.lowest_value + 1\n",
    "        if bin_number < d.last_bin:\n",
    "            bins[bin_number] += 1\n",
    "        else:\n",
    "            bins[d.last_bin] += 1\n",
    "        \n",
    "bad=(bins-d.counts).nonzero()\n",
    "bad"
   ]
  },
  {
   "cell_type": "code",
   "execution_count": null,
   "metadata": {
    "collapsed": false
   },
   "outputs": [],
   "source": [
    "d.counts[bad][1:10]"
   ]
  },
  {
   "cell_type": "code",
   "execution_count": null,
   "metadata": {
    "collapsed": false
   },
   "outputs": [],
   "source": [
    "bins[bad][1:10]"
   ]
  },
  {
   "cell_type": "code",
   "execution_count": null,
   "metadata": {
    "collapsed": false
   },
   "outputs": [],
   "source": [
    "d.value"
   ]
  },
  {
   "cell_type": "code",
   "execution_count": null,
   "metadata": {
    "collapsed": false,
    "scrolled": false
   },
   "outputs": [],
   "source": [
    "%matplotlib notebook\n",
    "plt.step(np.arange(len(d.bins)),d.bins)\n",
    "# plt.step(np.arange(len(d.counts)),bins)\n",
    "plt.plot(bad,np.zeros_like(bad),'.k')"
   ]
  },
  {
   "cell_type": "code",
   "execution_count": null,
   "metadata": {
    "collapsed": false
   },
   "outputs": [],
   "source": [
    "sum(d.counts)"
   ]
  },
  {
   "cell_type": "code",
   "execution_count": null,
   "metadata": {
    "collapsed": false
   },
   "outputs": [],
   "source": [
    "2**14+2000"
   ]
  },
  {
   "cell_type": "code",
   "execution_count": null,
   "metadata": {
    "collapsed": false,
    "run_control": {
     "frozen": false,
     "read_only": false
    }
   },
   "outputs": [],
   "source": [
    "def plot_event(event_tupple):\n",
    "    pre=200\n",
    "    post=1000\n",
    "    timestamp=event_tupple[0]\n",
    "    event_type=event_tupple[1]\n",
    "    event=event_tupple[2]\n",
    "    flags=EventFlags(event['flags'])\n",
    "    print(flags)\n",
    "    print('timestamp',timestamp, 'time', event['time'])\n",
    "    if flags.type == Event.tick:\n",
    "        return\n",
    "    s=traces['filtered'][timestamp+20-pre:timestamp+20+post]\n",
    "    r=traces['raw'][timestamp+20-pre:timestamp+20+post]\n",
    "    i = np.where(abs(minmax['clk'])<=timestamp+20)[0][-1]\n",
    "    min_t=abs(minmax['clk'][i])-(timestamp+20)\n",
    "#     print(minmax['clk'][i],min_t,i,timestamp)\n",
    "    plt.plot(r,'k',linewidth=0.5)\n",
    "    plt.plot(s,'b',linewidth=2)\n",
    "    plt.plot([pre],s[pre],'sg')\n",
    "    plt.plot([pre+min_t],minmax['filtered'][i],'sr')\n",
    "    if event_type==Event.pulse:\n",
    "        for i in range(flags.peak_number):\n",
    "            p=event['peaks'][i]\n",
    "            plt.plot([0,len(s)-1],[p['height'],p['height']],':r')\n",
    "    else:\n",
    "      plt.plot([0,len(s)-1],[event['height'],event['height']],':r')\n",
    "        \n",
    "    #print(event['height'],event['minima'])\n",
    "    #print(minmax['filtered'][i]==s[pre+min_t])\n",
    "    #print(minmax['filtered'][i]==event['minima'])\n",
    "    #print(s[pre],s[pre-1])"
   ]
  },
  {
   "cell_type": "code",
   "execution_count": null,
   "metadata": {
    "collapsed": false,
    "run_control": {
     "frozen": false,
     "read_only": false
    }
   },
   "outputs": [],
   "source": [
    "pwd"
   ]
  },
  {
   "cell_type": "code",
   "execution_count": null,
   "metadata": {
    "collapsed": false
   },
   "outputs": [],
   "source": [
    "es=bs.eventstream\n",
    "es"
   ]
  },
  {
   "cell_type": "code",
   "execution_count": null,
   "metadata": {
    "collapsed": false,
    "run_control": {
     "frozen": false,
     "read_only": false
    }
   },
   "outputs": [],
   "source": [
    "%matplotlib notebook\n",
    "for e in es:\n",
    "    if e[1]==Event.peak:\n",
    "        plot_event(e)"
   ]
  },
  {
   "cell_type": "code",
   "execution_count": null,
   "metadata": {
    "collapsed": false,
    "run_control": {
     "frozen": false,
     "read_only": false
    }
   },
   "outputs": [],
   "source": [
    "es"
   ]
  },
  {
   "cell_type": "code",
   "execution_count": null,
   "metadata": {
    "collapsed": false,
    "run_control": {
     "frozen": false,
     "read_only": false
    }
   },
   "outputs": [],
   "source": [
    "dists=bs.distributions\n",
    "dists"
   ]
  },
  {
   "cell_type": "code",
   "execution_count": null,
   "metadata": {
    "collapsed": false,
    "run_control": {
     "frozen": false,
     "read_only": false
    }
   },
   "outputs": [],
   "source": [
    "bs.packets[185].payload"
   ]
  },
  {
   "cell_type": "code",
   "execution_count": null,
   "metadata": {
    "collapsed": false,
    "run_control": {
     "frozen": false,
     "read_only": false
    }
   },
   "outputs": [],
   "source": [
    "d=bs.distributions[0]\n",
    "eset=np.uint64(1)\n",
    "bset=np.uint64(0)\n",
    "cset=np.uint64(20)\n",
    "\n",
    "stop=d.stop_time+eset+cset\n",
    "start=d.start_time+bset+cset\n",
    "bins=np.zeros((d.last_bin+1,),dtype=np.uint32)\n",
    "for i in range(start,stop):\n",
    "    s = traces['raw'][i]\n",
    "    if s <= d.lowest_value:\n",
    "        bins[0] += 1\n",
    "    else:\n",
    "        bins[s-d.lowest_value] += 1\n",
    "        \n",
    "(bins-d.counts).nonzero()"
   ]
  },
  {
   "cell_type": "code",
   "execution_count": null,
   "metadata": {
    "collapsed": false,
    "run_control": {
     "frozen": false,
     "read_only": false
    }
   },
   "outputs": [],
   "source": [
    "%matplotlib notebook\n",
    "plt.step(np.arange(len(d.counts)),d.counts)"
   ]
  },
  {
   "cell_type": "code",
   "execution_count": null,
   "metadata": {
    "collapsed": false,
    "run_control": {
     "frozen": false,
     "read_only": false
    }
   },
   "outputs": [],
   "source": [
    "bins[bins.nonzero()]"
   ]
  },
  {
   "cell_type": "code",
   "execution_count": null,
   "metadata": {
    "collapsed": false,
    "run_control": {
     "frozen": false,
     "read_only": false
    }
   },
   "outputs": [],
   "source": [
    "sum(d.counts)"
   ]
  },
  {
   "cell_type": "code",
   "execution_count": null,
   "metadata": {
    "collapsed": false,
    "run_control": {
     "frozen": false,
     "read_only": false
    }
   },
   "outputs": [],
   "source": [
    "2**14+2000"
   ]
  },
  {
   "cell_type": "code",
   "execution_count": null,
   "metadata": {
    "collapsed": false,
    "run_control": {
     "frozen": false,
     "read_only": false
    }
   },
   "outputs": [],
   "source": [
    "es[3][2]['timestamp']-es[0][2]['timestamp']"
   ]
  },
  {
   "cell_type": "code",
   "execution_count": null,
   "metadata": {
    "collapsed": true,
    "run_control": {
     "frozen": false,
     "read_only": false
    }
   },
   "outputs": [],
   "source": [
    "def xings(s, thresh):\n",
    "    pos=s > thresh\n",
    "    neg=s < thresh\n",
    "    pos0=s >= thresh\n",
    "    neg0=s <= thresh\n",
    "    pos_xing_mask = np.bitwise_and(pos0[1:],neg[0:-1])  \n",
    "    neg_xing_mask = np.bitwise_and(neg0[1:],pos[0:-1])  \n",
    "    return pos_xing_mask.nonzero()[0]+1, neg_xing_mask.nonzero()[0]+1"
   ]
  },
  {
   "cell_type": "code",
   "execution_count": null,
   "metadata": {
    "collapsed": true,
    "run_control": {
     "frozen": false,
     "read_only": false
    }
   },
   "outputs": [],
   "source": [
    "from mpl_toolkits.axes_grid1 import host_subplot\n",
    "\n",
    "def plot_trace(traces,start,width):\n",
    "\n",
    "    ax = host_subplot(111)\n",
    "    axr = ax.twinx()\n",
    "    axt = ax.twiny()\n",
    "#ax.plot(t[0:-1:10],s[0:-1:10],'k')\n",
    "#ax.plot(t,s,'k')\n",
    "    axt.set_xlabel('Time ns',fontsize=18)\n",
    "    ax.set_ylabel('Voltage (Arbitary Units)',fontsize=18)\n",
    "#plt.xticks(visible=False)\n",
    "#plt.yticks(visible=False)\n",
    "#ax.set_xlim(0,t[4000000])\n",
    "#start=902000\n",
    "#width=2500\n",
    "    f=traces['filtered'][start:start+width]\n",
    "    s=traces['slope'][start:start+width]\n",
    "    t=np.arange(len(f))*4e-9\n",
    "#ts=t[pstart:pstop]\n",
    "#axins = fig.add_axes([.4, .45, .45, .4])\n",
    "    ax.set_xlim(t[0],t[-1])\n",
    "    axt.set_xlim(t[0],t[-1])\n",
    "\n",
    "    ylim=(-500,2000)\n",
    "\n",
    "    ax.set_ylim(ylim[0],ylim[1])\n",
    "    axr.set_ylim(ylim[0],ylim[1])\n",
    "\n",
    "    filtered, = ax.step(t,f,'k',lw=2,label='filtered')\n",
    "    slope, = ax.step(t,s,'b',label='slope')\n",
    "    ax.fill_between(t,0,s,alpha=.4)\n",
    "    plt.ylim=ylim\n",
    "\n",
    "pos=s>0\n",
    "neg=s<=0\n",
    "pos_xing_mask = np.bitwise_and(pos[1:-1],neg[0:-2])  \n",
    "neg_xing_mask = np.bitwise_and(neg[1:-1],pos[0:-2])  \n",
    "pos_xing=pos_xing_mask.nonzero()\n",
    "neg_xing=neg_xing_mask.nonzero()\n",
    "\n",
    "rx=[t[pos_xing[0][0]], t[neg_xing[0][0]]]\n",
    "ry=[f[pos_xing[0][0]], f[neg_xing[0][0]]]\n",
    "\n",
    "ax.fill_between(t[pos_xing[0][0]:neg_xing[0][0]],0,s[pos_xing[0][0]:neg_xing[0][0]],alpha=.4,color='r')\n",
    "\n",
    "#plt.plot(rx,[ry[0], ry[0]],'-r',lw=2)\n",
    "#plt.plot([rx[1],rx[1]], ry,'-r',lw=2)\n",
    "# thresholds\n",
    "sthresh = 600\n",
    "pthresh = 1000\n",
    "plt.plot([t[0], t[-1]], [sthresh, sthresh], '--b', lw=2)\n",
    "plt.plot([t[0], t[-1]], [pthresh, pthresh], '--k', lw=2)\n",
    "\n",
    "sthresh_xing=(s>sthresh).nonzero()[0][0]\n",
    "pthresh_xing=(f>pthresh).nonzero()[0][0]\n",
    "\n",
    "\n",
    "cf=.10\n",
    "height = ry[1]-ry[0]\n",
    "cfl=ry[0]+(height*cf)\n",
    "cfh=ry[1]-(height*cf)\n",
    "\n",
    "cfl_xing=(f>cfl).nonzero()[0][0]\n",
    "cfd_low=f[cfl_xing]\n",
    "cfh_xing=(f>cfh).nonzero()[0][0]\n",
    "cfd_high=f[cfh_xing]\n",
    "\n",
    "#plt.plot([t[cfl_xing], t[-1]],[cfd_low, cfd_low], ':r')\n",
    "#plt.plot([t[cfh_xing], t[-1]],[cfd_high, cfd_high], ':r')\n",
    "#plt.plot([x[1], t[-1]],[y[1], y[1]], ':r')\n",
    "plt.legend([filtered, slope],['Signal', 'Slope'],loc=2)\n",
    "\n",
    "#axr = ax.twinx()\n",
    "##################################################################\n",
    "#yticks=([ry[0],sthresh,pthresh,cfd_high,ry[1]])\n",
    "yticks=([sthresh,pthresh])\n",
    "axr.set_yticks(yticks)\n",
    "#yticklabels=['Start','Slope threshold','Pulse threshold','CF high','Peak']\n",
    "yticklabels=['Slope threshold','Pulse threshold']\n",
    "axr.set_yticklabels(yticklabels, color='r',fontsize=14)\n",
    "axr.get_yticklabels()[0].set_color('b')\n",
    "axr.get_yticklabels()[1].set_color('k')\n",
    "\n",
    "#xticks=([rx[0],t[cfl_xing],t[sthresh_xing],t[pthresh_xing],rx[1]])\n",
    "xticks=(t[cfl_xing],rx[1])\n",
    "#ax.set_xticks([rx[0],t[cfl_xing],t[sthresh_xing],t[pthresh_xing],rx[1]])\n",
    "ax.set_xticks(xticks)\n",
    "#xticklabels=['Start','CF low','Slope xing','Signal xing','Peak']\n",
    "xticklabels=['CF low','Peak']\n",
    "ax.set_xticklabels(xticklabels, color='r',fontsize=14)\n",
    "\n",
    "#plt.plot([t[cfh_xing], t[-1]],[cfd_high, cfd_high], ':r')\n",
    "#horoz start, stop lines\n",
    "#hpeak=ax.plot([xticks[1], t[-1]],[yticks[-1], yticks[-1]], '-.r')\n",
    "#hstart=ax.plot([xticks[0], t[-1]],[yticks[0], yticks[0]], '-.r')\n",
    "#vert start stop\n",
    "vstart=ax.plot([xticks[0], xticks[0]],[cfd_low, ylim[0]], '-.r')\n",
    "vpeak=ax.plot([xticks[1], xticks[1]],[ylim[0], ry[1]], '-.r')\n",
    "\n",
    "plt.tight_layout()\n",
    "plt.savefig('..//peakextraction7.svg')\n",
    "plt.show()\n",
    "print('risetime:',(xticks[1]-xticks[0])/4)\n",
    "print('height:',yticks[-1]-yticks[0])\n",
    "print('time:',(xticks[0]-rx[0])/4)\n",
    "print('area',sum(s[pos_xing[0][0]:neg_xing[0][0]])/256)\n"
   ]
  },
  {
   "cell_type": "code",
   "execution_count": null,
   "metadata": {
    "collapsed": true,
    "run_control": {
     "frozen": false,
     "read_only": false
    }
   },
   "outputs": [],
   "source": [
    "slope_0xings = xings(traces['slope'],0)"
   ]
  },
  {
   "cell_type": "code",
   "execution_count": null,
   "metadata": {
    "collapsed": false,
    "run_control": {
     "frozen": false,
     "read_only": false
    }
   },
   "outputs": [],
   "source": [
    "slope_0xings"
   ]
  },
  {
   "cell_type": "code",
   "execution_count": null,
   "metadata": {
    "collapsed": false,
    "run_control": {
     "frozen": false,
     "read_only": false
    }
   },
   "outputs": [],
   "source": [
    "%matplotlib notebook\n",
    "start=10000\n",
    "width=300\n",
    "plt.plot(traces['filtered'][start:start+width]/2)"
   ]
  },
  {
   "cell_type": "code",
   "execution_count": null,
   "metadata": {
    "collapsed": false,
    "run_control": {
     "frozen": false,
     "read_only": false
    }
   },
   "outputs": [],
   "source": [
    "%matplotlib notebook\n",
    "plt.plot(traces['slope'][20400:21700])"
   ]
  },
  {
   "cell_type": "code",
   "execution_count": null,
   "metadata": {
    "collapsed": false,
    "run_control": {
     "frozen": false,
     "read_only": false
    }
   },
   "outputs": [],
   "source": [
    "filtered=traces['filtered'][1100:]\n",
    "filteredL=traces['filteredL'][1100:]"
   ]
  },
  {
   "cell_type": "code",
   "execution_count": null,
   "metadata": {
    "collapsed": false,
    "run_control": {
     "frozen": false,
     "read_only": false
    }
   },
   "outputs": [],
   "source": [
    "filtered[:10]"
   ]
  },
  {
   "cell_type": "code",
   "execution_count": null,
   "metadata": {
    "collapsed": false,
    "run_control": {
     "frozen": false,
     "read_only": false
    }
   },
   "outputs": [],
   "source": [
    "filteredL[:10]/4"
   ]
  },
  {
   "cell_type": "code",
   "execution_count": null,
   "metadata": {
    "collapsed": false,
    "run_control": {
     "frozen": false,
     "read_only": false
    }
   },
   "outputs": [],
   "source": [
    "minmax_dt=np.dtype([('filtered','i4'),('low','i4'),('high','i4'),('clk','i4')])\n",
    "minmax=Data.fromfile('minmax',minmax_dt,'teslib','measurement_subsystem_TB',tool='vivado')\n",
    "fxing_dt=np.dtype([('extrema','i4'),('area','i4'),('clk','i4')])\n",
    "fxing=Data.fromfile('filteredxing',fxing_dt,'teslib','measurement_subsystem_TB',tool='vivado')"
   ]
  },
  {
   "cell_type": "code",
   "execution_count": null,
   "metadata": {
    "collapsed": false,
    "run_control": {
     "frozen": false,
     "read_only": false
    }
   },
   "outputs": [],
   "source": [
    "minmax"
   ]
  },
  {
   "cell_type": "code",
   "execution_count": null,
   "metadata": {
    "collapsed": false,
    "run_control": {
     "frozen": false,
     "read_only": false
    }
   },
   "outputs": [],
   "source": [
    "fxing"
   ]
  },
  {
   "cell_type": "code",
   "execution_count": null,
   "metadata": {
    "collapsed": false,
    "run_control": {
     "frozen": false,
     "read_only": false
    }
   },
   "outputs": [],
   "source": [
    "np.where(fxing['area']==0)"
   ]
  },
  {
   "cell_type": "code",
   "execution_count": null,
   "metadata": {
    "collapsed": false,
    "run_control": {
     "frozen": false,
     "read_only": false
    }
   },
   "outputs": [],
   "source": [
    "np.where(fxing['extrema']==0)"
   ]
  },
  {
   "cell_type": "code",
   "execution_count": null,
   "metadata": {
    "collapsed": false,
    "run_control": {
     "frozen": false,
     "read_only": false
    }
   },
   "outputs": [],
   "source": [
    "fxing[30]"
   ]
  },
  {
   "cell_type": "code",
   "execution_count": null,
   "metadata": {
    "collapsed": false,
    "run_control": {
     "frozen": false,
     "read_only": false
    }
   },
   "outputs": [],
   "source": [
    "exn=np.where(fxing['extrema']<0)\n",
    "clkn=np.where(fxing['clk']>0)"
   ]
  },
  {
   "cell_type": "code",
   "execution_count": null,
   "metadata": {
    "collapsed": true,
    "run_control": {
     "frozen": false,
     "read_only": false
    }
   },
   "outputs": [],
   "source": []
  },
  {
   "cell_type": "code",
   "execution_count": null,
   "metadata": {
    "collapsed": false,
    "run_control": {
     "frozen": false,
     "read_only": false
    }
   },
   "outputs": [],
   "source": [
    "fxing[374]"
   ]
  },
  {
   "cell_type": "code",
   "execution_count": null,
   "metadata": {
    "collapsed": false,
    "run_control": {
     "frozen": false,
     "read_only": false
    }
   },
   "outputs": [],
   "source": [
    "clkn"
   ]
  },
  {
   "cell_type": "code",
   "execution_count": null,
   "metadata": {
    "collapsed": false,
    "run_control": {
     "frozen": false,
     "read_only": false
    }
   },
   "outputs": [],
   "source": [
    "np.where(minmax[maxs[0]-1]['min']!=1)"
   ]
  },
  {
   "cell_type": "code",
   "execution_count": null,
   "metadata": {
    "collapsed": false,
    "run_control": {
     "frozen": false,
     "read_only": false
    }
   },
   "outputs": [],
   "source": [
    "minmax[maxs[0]-1][65]"
   ]
  },
  {
   "cell_type": "code",
   "execution_count": null,
   "metadata": {
    "collapsed": false,
    "run_control": {
     "frozen": false,
     "read_only": false
    }
   },
   "outputs": [],
   "source": [
    "2290-925"
   ]
  },
  {
   "cell_type": "code",
   "execution_count": null,
   "metadata": {
    "collapsed": false,
    "run_control": {
     "frozen": false,
     "read_only": false
    }
   },
   "outputs": [],
   "source": [
    "0.375*4"
   ]
  },
  {
   "cell_type": "code",
   "execution_count": null,
   "metadata": {
    "collapsed": false,
    "run_control": {
     "frozen": false,
     "read_only": false
    }
   },
   "outputs": [],
   "source": [
    "np.where(minmax['clock']==2290)"
   ]
  },
  {
   "cell_type": "code",
   "execution_count": null,
   "metadata": {
    "collapsed": false,
    "run_control": {
     "frozen": false,
     "read_only": false
    }
   },
   "outputs": [],
   "source": [
    "minmax[120:140]"
   ]
  },
  {
   "cell_type": "code",
   "execution_count": null,
   "metadata": {
    "collapsed": false,
    "run_control": {
     "frozen": false,
     "read_only": false
    }
   },
   "outputs": [],
   "source": [
    "stream_dt=np.dtype([('data','>i4'),('last','i4')])\n",
    "#stream=np.fromfile('data/stream',stream_dt)"
   ]
  },
  {
   "cell_type": "markdown",
   "metadata": {},
   "source": [
    "### bytestream stuff"
   ]
  },
  {
   "cell_type": "code",
   "execution_count": null,
   "metadata": {
    "collapsed": false,
    "run_control": {
     "frozen": false,
     "read_only": false
    }
   },
   "outputs": [],
   "source": [
    "stream_dt=np.dtype([('data','i4'),('last','i4')])\n",
    "stream=Data.fromfile('bytestream',stream_dt,'teslib','measurement_subsystem_TB',tool='vivado')\n",
    "lasts=np.where(stream['last']<=0)[0]+1\n",
    "#data=np.copy(stream['data'])"
   ]
  },
  {
   "cell_type": "code",
   "execution_count": null,
   "metadata": {
    "collapsed": false,
    "run_control": {
     "frozen": false,
     "read_only": false
    }
   },
   "outputs": [],
   "source": [
    "stream"
   ]
  },
  {
   "cell_type": "code",
   "execution_count": null,
   "metadata": {
    "collapsed": true,
    "run_control": {
     "frozen": false,
     "read_only": false
    }
   },
   "outputs": [],
   "source": []
  },
  {
   "cell_type": "code",
   "execution_count": null,
   "metadata": {
    "collapsed": true,
    "run_control": {
     "frozen": false,
     "read_only": false
    }
   },
   "outputs": [],
   "source": [
    "stream=np.fromfile('data/bytestream',stream_dt)"
   ]
  },
  {
   "cell_type": "code",
   "execution_count": null,
   "metadata": {
    "collapsed": false,
    "run_control": {
     "frozen": false,
     "read_only": false
    }
   },
   "outputs": [],
   "source": [
    "bs=PacketStream(stream)"
   ]
  },
  {
   "cell_type": "code",
   "execution_count": null,
   "metadata": {
    "collapsed": false,
    "run_control": {
     "frozen": false,
     "read_only": false
    }
   },
   "outputs": [],
   "source": [
    "bs.packets"
   ]
  },
  {
   "cell_type": "code",
   "execution_count": null,
   "metadata": {
    "collapsed": false,
    "run_control": {
     "frozen": false,
     "read_only": false
    }
   },
   "outputs": [],
   "source": [
    "bs.packets[4]"
   ]
  },
  {
   "cell_type": "code",
   "execution_count": null,
   "metadata": {
    "collapsed": true,
    "run_control": {
     "frozen": false,
     "read_only": false
    }
   },
   "outputs": [],
   "source": [
    "eheader_dt=[('etype','<u2'),('length','u2'),()]"
   ]
  },
  {
   "cell_type": "code",
   "execution_count": null,
   "metadata": {
    "collapsed": false,
    "run_control": {
     "frozen": false,
     "read_only": false
    }
   },
   "outputs": [],
   "source": [
    "'{:X}'.format(bs.packets[1].bytes[23])\n"
   ]
  },
  {
   "cell_type": "code",
   "execution_count": null,
   "metadata": {
    "collapsed": false,
    "run_control": {
     "frozen": false,
     "read_only": false
    }
   },
   "outputs": [],
   "source": [
    "'{:X}'.format(bs.packets[0].bytes[28:30].view(np.uint16)[0])"
   ]
  },
  {
   "cell_type": "code",
   "execution_count": null,
   "metadata": {
    "collapsed": true,
    "run_control": {
     "frozen": false,
     "read_only": false
    }
   },
   "outputs": [],
   "source": [
    "pulse_peak_dt=np.dtype([('height','i2'),('rise','i2'),('minima','u2'),('time','i2')])\n",
    "pulse_dt=np.dtype([('size','i2'),('resv','i2'),('flags','i2'),('time','u2'),\n",
    "                  ('area','i4'),('length','i2'),('offset','i2'),('peaks',(pulse_peak_dt,2))])"
   ]
  },
  {
   "cell_type": "code",
   "execution_count": null,
   "metadata": {
    "collapsed": false,
    "run_control": {
     "frozen": false,
     "read_only": false
    }
   },
   "outputs": [],
   "source": [
    "pulses=bs.packets[3].payload.view(pulse_dt)"
   ]
  },
  {
   "cell_type": "code",
   "execution_count": null,
   "metadata": {
    "collapsed": false,
    "run_control": {
     "frozen": false,
     "read_only": false
    }
   },
   "outputs": [],
   "source": [
    "pulses['peaks']"
   ]
  },
  {
   "cell_type": "code",
   "execution_count": null,
   "metadata": {
    "collapsed": false,
    "run_control": {
     "frozen": false,
     "read_only": false
    }
   },
   "outputs": [],
   "source": [
    "pulses['offset']"
   ]
  },
  {
   "cell_type": "code",
   "execution_count": null,
   "metadata": {
    "collapsed": false,
    "run_control": {
     "frozen": false,
     "read_only": false
    }
   },
   "outputs": [],
   "source": [
    "pulses['length']"
   ]
  },
  {
   "cell_type": "code",
   "execution_count": null,
   "metadata": {
    "collapsed": false,
    "run_control": {
     "frozen": false,
     "read_only": false
    }
   },
   "outputs": [],
   "source": [
    "class eflags:\n",
    "    def __init__(self,uint16):\n",
    "        self.new_window=np.bitwise_and(uint16,0x00000001)!=0\n",
    "        self.tick=np.bitwise_and(uint16,0x00000002)!=0\n",
    "        self.type=np.right_shift(np.bitwise_and(uint16,0x0000000c),2)\n",
    "        \n",
    "    def __repr__(self):\n",
    "        return 'New window:{:}\\n'.format(self.new_window) + \\\n",
    "               'Tick:{:}\\n'.format(self.tick) + \\\n",
    "               'Type:{:}\\n'.format(self.type) "
   ]
  },
  {
   "cell_type": "code",
   "execution_count": null,
   "metadata": {
    "collapsed": false,
    "run_control": {
     "frozen": false,
     "read_only": false
    }
   },
   "outputs": [],
   "source": [
    "f=eflags(pulses[0]['flags'])\n",
    "f"
   ]
  },
  {
   "cell_type": "code",
   "execution_count": null,
   "metadata": {
    "collapsed": false,
    "run_control": {
     "frozen": false,
     "read_only": false
    }
   },
   "outputs": [],
   "source": [
    "'{:X}'.format(bs.packets[3].bytes[13:14].view(np.uint16))"
   ]
  },
  {
   "cell_type": "code",
   "execution_count": null,
   "metadata": {
    "collapsed": true,
    "run_control": {
     "frozen": false,
     "read_only": false
    }
   },
   "outputs": [],
   "source": []
  },
  {
   "cell_type": "code",
   "execution_count": null,
   "metadata": {
    "collapsed": false,
    "run_control": {
     "frozen": false,
     "read_only": false
    }
   },
   "outputs": [],
   "source": [
    "'{:X}'.format(bs.packets[3].bytes[14:16].view(np.uint16)[0])"
   ]
  },
  {
   "cell_type": "code",
   "execution_count": null,
   "metadata": {
    "collapsed": false,
    "run_control": {
     "frozen": false,
     "read_only": false
    }
   },
   "outputs": [],
   "source": [
    "bs.packets[3].bytes[14:16].view(np.uint16)[0]"
   ]
  },
  {
   "cell_type": "code",
   "execution_count": null,
   "metadata": {
    "collapsed": false,
    "run_control": {
     "frozen": false,
     "read_only": false
    }
   },
   "outputs": [],
   "source": [
    "bs=np.uint8(stream['data'][:48])"
   ]
  },
  {
   "cell_type": "code",
   "execution_count": null,
   "metadata": {
    "collapsed": false,
    "run_control": {
     "frozen": false,
     "read_only": false
    }
   },
   "outputs": [],
   "source": [
    "bs"
   ]
  },
  {
   "cell_type": "code",
   "execution_count": null,
   "metadata": {
    "collapsed": false,
    "run_control": {
     "frozen": false,
     "read_only": false
    }
   },
   "outputs": [],
   "source": [
    "events=stream['data'].view(event_dt)"
   ]
  },
  {
   "cell_type": "code",
   "execution_count": null,
   "metadata": {
    "collapsed": false,
    "run_control": {
     "frozen": false,
     "read_only": false
    }
   },
   "outputs": [],
   "source": [
    "'{:X}'.format(events['flags'][0])"
   ]
  },
  {
   "cell_type": "code",
   "execution_count": null,
   "metadata": {
    "collapsed": false,
    "run_control": {
     "frozen": false,
     "read_only": false
    }
   },
   "outputs": [],
   "source": [
    "events['rise']"
   ]
  },
  {
   "cell_type": "code",
   "execution_count": null,
   "metadata": {
    "collapsed": false,
    "run_control": {
     "frozen": false,
     "read_only": false
    }
   },
   "outputs": [],
   "source": [
    "events"
   ]
  },
  {
   "cell_type": "code",
   "execution_count": null,
   "metadata": {
    "collapsed": false,
    "run_control": {
     "frozen": false,
     "read_only": false
    }
   },
   "outputs": [],
   "source": [
    "'{:04X}'.format(events['flags'][1])"
   ]
  },
  {
   "cell_type": "code",
   "execution_count": null,
   "metadata": {
    "collapsed": true,
    "run_control": {
     "frozen": false,
     "read_only": false
    }
   },
   "outputs": [],
   "source": [
    "pulse_peak_dt=np.dtype([('time','>i2'),('minima','>i2'),('rise','>u2'),('height','>i2')])\n",
    "pulse_dt=np.dtype([('time','>i2'),('flags','>i2'),('resv','>i2'),('size','>u2'),\n",
    "                  ('offset','>i2'),('length','>i2'),('area','>i4'),('peaks',(pulse_peak_dt,1))])\n",
    "data=np.copy(stream['data'])"
   ]
  },
  {
   "cell_type": "code",
   "execution_count": null,
   "metadata": {
    "collapsed": false,
    "run_control": {
     "frozen": false,
     "read_only": false
    }
   },
   "outputs": [],
   "source": [
    "pulses=data.view(pulse_dt)"
   ]
  },
  {
   "cell_type": "code",
   "execution_count": null,
   "metadata": {
    "collapsed": false,
    "run_control": {
     "frozen": false,
     "read_only": false
    }
   },
   "outputs": [],
   "source": [
    "pulses['peaks']['height']-pulses['peaks']['minima']"
   ]
  },
  {
   "cell_type": "code",
   "execution_count": null,
   "metadata": {
    "collapsed": false,
    "run_control": {
     "frozen": false,
     "read_only": false
    }
   },
   "outputs": [],
   "source": [
    "pulses['peaks']['minima']"
   ]
  },
  {
   "cell_type": "code",
   "execution_count": null,
   "metadata": {
    "collapsed": false,
    "run_control": {
     "frozen": false,
     "read_only": false
    }
   },
   "outputs": [],
   "source": [
    "peak_count=np.right_shift(np.bitwise_and(pulses['flags'],0xF000),12)\n",
    "peak_overflow=np.bitwise_and(pulses['flags'],0x0800)!=0\n",
    "channel=np.right_shift(np.bitwise_and(pulses['flags'],0x0700),8)\n",
    "timing_type=np.right_shift(np.bitwise_and(pulses['flags'],0x00C0),6)\n",
    "height_type=np.right_shift(np.bitwise_and(pulses['flags'],0x0030),4)\n",
    "event_type=np.right_shift(np.bitwise_and(pulses['flags'],0x000E),1)\n",
    "new_window=np.bitwise_and(pulses['flags'],0x0001)!=0"
   ]
  },
  {
   "cell_type": "code",
   "execution_count": null,
   "metadata": {
    "collapsed": false,
    "run_control": {
     "frozen": false,
     "read_only": false
    }
   },
   "outputs": [],
   "source": [
    "peak_overflow"
   ]
  },
  {
   "cell_type": "code",
   "execution_count": null,
   "metadata": {
    "collapsed": true,
    "run_control": {
     "frozen": false,
     "read_only": false
    }
   },
   "outputs": [],
   "source": [
    "test_dt=np.dtype(\n",
    "    [('time','i2'),('flags','i2'),('rise','u2'),('minima','i2'),('low','u8'),('high','u8')]\n",
    ")\n",
    "test=data.view(test_dt)"
   ]
  },
  {
   "cell_type": "code",
   "execution_count": null,
   "metadata": {
    "collapsed": false,
    "run_control": {
     "frozen": false,
     "read_only": false
    }
   },
   "outputs": [],
   "source": [
    "test"
   ]
  },
  {
   "cell_type": "code",
   "execution_count": null,
   "metadata": {
    "collapsed": false,
    "run_control": {
     "frozen": false,
     "read_only": false
    }
   },
   "outputs": [],
   "source": [
    "test['minima']"
   ]
  },
  {
   "cell_type": "code",
   "execution_count": null,
   "metadata": {
    "collapsed": false,
    "run_control": {
     "frozen": false,
     "read_only": false
    }
   },
   "outputs": [],
   "source": [
    "low1=np.int32(np.right_shift(np.bitwise_and(test['low'],0x03FFFF000000000),36))\n",
    "s=(np.bitwise_and(low1,0x00020000)!=0)*0xFFFC0000\n",
    "low2=np.int32(np.right_shift(np.bitwise_and(test['low'],0x000000FFFFC0000),18))\n",
    "low_threshold=np.int32(np.bitwise_and(test['low'],0x00000000003FFFF))\n",
    "high1=np.int32(np.right_shift(np.bitwise_and(test['high'],0x03FFFF000000000),36))\n",
    "high2=np.int32(np.right_shift(np.bitwise_and(test['high'],0x000000FFFFC0000),18))\n",
    "high_threshold=np.int32(np.bitwise_and(test['high'],0x00000000003FFFF))"
   ]
  },
  {
   "cell_type": "code",
   "execution_count": null,
   "metadata": {
    "collapsed": false,
    "run_control": {
     "frozen": false,
     "read_only": false
    }
   },
   "outputs": [],
   "source": [
    "np.int32(np.bitwise_or(low1,s))/8.0"
   ]
  },
  {
   "cell_type": "code",
   "execution_count": null,
   "metadata": {
    "collapsed": false,
    "run_control": {
     "frozen": false,
     "read_only": false
    }
   },
   "outputs": [],
   "source": [
    "'{:04X}'.format(low1[0])"
   ]
  },
  {
   "cell_type": "code",
   "execution_count": null,
   "metadata": {
    "collapsed": false,
    "run_control": {
     "frozen": false,
     "read_only": false
    }
   },
   "outputs": [],
   "source": [
    "high1/8.0"
   ]
  },
  {
   "cell_type": "code",
   "execution_count": null,
   "metadata": {
    "collapsed": false,
    "run_control": {
     "frozen": false,
     "read_only": false
    }
   },
   "outputs": [],
   "source": [
    "high2/8.0"
   ]
  },
  {
   "cell_type": "code",
   "execution_count": null,
   "metadata": {
    "collapsed": false,
    "run_control": {
     "frozen": false,
     "read_only": false
    }
   },
   "outputs": [],
   "source": [
    "'{:04X}'.format(high_threshold[0])"
   ]
  },
  {
   "cell_type": "code",
   "execution_count": null,
   "metadata": {
    "collapsed": false,
    "run_control": {
     "frozen": false,
     "read_only": false
    }
   },
   "outputs": [],
   "source": [
    "from enum import Enum"
   ]
  },
  {
   "cell_type": "code",
   "execution_count": null,
   "metadata": {
    "collapsed": false,
    "run_control": {
     "frozen": false,
     "read_only": false
    }
   },
   "outputs": [],
   "source": [
    "class VhdlEnum(int, Enum):\n",
    "\n",
    "    def __str__(self):\n",
    "        return self.name.replace(\"-\", \" \")\n",
    "    \n",
    "    def select(self):\n",
    "        return pow(2, self.value)\n",
    "    "
   ]
  },
  {
   "cell_type": "code",
   "execution_count": null,
   "metadata": {
    "collapsed": false,
    "run_control": {
     "frozen": false,
     "read_only": false
    }
   },
   "outputs": [],
   "source": [
    "class Test(VhdlEnum):\n",
    "    a=0\n",
    "    b=1"
   ]
  },
  {
   "cell_type": "code",
   "execution_count": null,
   "metadata": {
    "collapsed": false,
    "run_control": {
     "frozen": false,
     "read_only": false
    }
   },
   "outputs": [],
   "source": [
    "Test(0)"
   ]
  },
  {
   "cell_type": "code",
   "execution_count": null,
   "metadata": {
    "collapsed": true,
    "run_control": {
     "frozen": false,
     "read_only": false
    }
   },
   "outputs": [],
   "source": []
  }
 ],
 "metadata": {
  "anaconda-cloud": {},
  "kernelspec": {
   "display_name": "Python [conda root]",
   "language": "python",
   "name": "conda-root-py"
  },
  "language_info": {
   "codemirror_mode": {
    "name": "ipython",
    "version": 3
   },
   "file_extension": ".py",
   "mimetype": "text/x-python",
   "name": "python",
   "nbconvert_exporter": "python",
   "pygments_lexer": "ipython3",
   "version": "3.5.3"
  }
 },
 "nbformat": 4,
 "nbformat_minor": 1
}
