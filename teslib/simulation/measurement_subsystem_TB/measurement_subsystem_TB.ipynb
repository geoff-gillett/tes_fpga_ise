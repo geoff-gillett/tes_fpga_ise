{
 "cells": [
  {
   "cell_type": "markdown",
   "metadata": {},
   "source": [
    "timestamp 0 => clk 20\n",
    "\n",
    "traces start at clk 1"
   ]
  },
  {
   "cell_type": "code",
   "execution_count": null,
   "metadata": {
    "collapsed": false,
    "run_control": {
     "frozen": false,
     "read_only": false
    }
   },
   "outputs": [],
   "source": [
    "#Mac\n",
    "import sys\n",
    "sys.path.append('../../../../interface/python')"
   ]
  },
  {
   "cell_type": "code",
   "execution_count": 1,
   "metadata": {
    "collapsed": false,
    "run_control": {
     "frozen": false,
     "read_only": false
    }
   },
   "outputs": [],
   "source": [
    "from tes.data import Data,PacketStream,Packet,Payload,EventFlags,Event\n",
    "import numpy as np\n",
    "import matplotlib.pyplot as plt\n",
    "from subprocess import Popen"
   ]
  },
  {
   "cell_type": "code",
   "execution_count": null,
   "metadata": {
    "collapsed": true
   },
   "outputs": [],
   "source": []
  },
  {
   "cell_type": "code",
   "execution_count": 2,
   "metadata": {
    "code_folding": [],
    "collapsed": false,
    "run_control": {
     "frozen": false,
     "read_only": false
    }
   },
   "outputs": [],
   "source": [
    "#NOTE traces[0] corresponts to clk=1\n",
    "trace_dt=np.dtype([('raw','i4'),('filtered','i4'),('slope','i4'),('filteredL','i4')])\n",
    "stream_dt=np.dtype([('data','i4'),('last','i4')])\n",
    "minmax_dt=np.dtype(\n",
    "    [\n",
    "        ('filtered','i4'),('timing_threshold','i4'),\n",
    "        ('height_threshold','i4'),('slope_extrema','i4'),('slope_area','i4'),('clk','i4')\n",
    "    ]\n",
    ")\n",
    "cfd_dt=np.dtype('i4')\n",
    "filteredxing_dt=np.dtype([('extrema','i4'),('area','i4'),('clk','i4')])"
   ]
  },
  {
   "cell_type": "code",
   "execution_count": null,
   "metadata": {
    "collapsed": false,
    "run_control": {
     "frozen": false,
     "read_only": false
    }
   },
   "outputs": [],
   "source": [
    "traces=np.fromfile('data/traces',trace_dt)\n",
    "stream=np.fromfile('data/bytestream',stream_dt)\n",
    "minmax=np.fromfile('data/minmax',minmax_dt)\n",
    "cfd=np.fromfile('data/cfd',cfd_dt)\n",
    "filteredxing=np.fromfile('data/filteredxing',filteredxing_dt)"
   ]
  },
  {
   "cell_type": "code",
   "execution_count": null,
   "metadata": {
    "collapsed": false,
    "run_control": {
     "frozen": false,
     "read_only": false
    },
    "scrolled": true
   },
   "outputs": [],
   "source": [
    "traces=Data.fromfile('traces',trace_dt,'teslib','measurement_subsystem_TB',tool='vivado')\n",
    "stream=Data.fromfile('bytestream',stream_dt,'teslib','measurement_subsystem_TB',tool='vivado')\n",
    "minmax=Data.fromfile('minmax',minmax_dt,'teslib','measurement_subsystem_TB',tool='vivado')\n",
    "cfd=Data.fromfile('cfd',cfd_dt,'teslib','measurement_subsystem_TB',tool='vivado')\n",
    "filteredxing=Data.fromfile(\n",
    "    'filteredxing',filteredxing_dt,'teslib','measurement_subsystem_TB',tool='vivado'\n",
    ")"
   ]
  },
  {
   "cell_type": "code",
   "execution_count": null,
   "metadata": {
    "collapsed": false,
    "run_control": {
     "frozen": false,
     "read_only": false
    },
    "scrolled": true
   },
   "outputs": [],
   "source": [
    "# Mac\n",
    "traces=Data.fromfile(\n",
    "    'traces',trace_dt,'teslib','measurement_subsystem_TB',tool='vivado',\n",
    "    root='/Volumes/C/'\n",
    ")\n",
    "stream=Data.fromfile(\n",
    "    'bytestream',stream_dt,'teslib','measurement_subsystem_TB',tool='vivado',\n",
    "    root='/Volumes/C/'\n",
    ")\n",
    "minmax=Data.fromfile(\n",
    "    'minmax',minmax_dt,'teslib','measurement_subsystem_TB',tool='vivado',\n",
    "    root='/Volumes/C/'\n",
    ")\n",
    "cfd=Data.fromfile(\n",
    "    'cfd',cfd_dt,'teslib','measurement_subsystem_TB',tool='vivado',\n",
    "    root='/Volumes/C/'\n",
    ")\n",
    "filteredxing=Data.fromfile(\n",
    "    'filteredxing',filteredxing_dt,'teslib','measurement_subsystem_TB',\n",
    "    tool='vivado',root='/Volumes/C/'\n",
    ")"
   ]
  },
  {
   "cell_type": "code",
   "execution_count": null,
   "metadata": {
    "collapsed": false
   },
   "outputs": [],
   "source": [
    "def plot_event(event_tupple,rel2min):\n",
    "    pre=200\n",
    "    post=1000\n",
    "    timestamp=event_tupple[0]\n",
    "    event_type=event_tupple[1]\n",
    "    event=event_tupple[2]\n",
    "    flags=EventFlags(event['flags'])\n",
    "#     print(flags)\n",
    "    #print('timestamp',timestamp, 'time', event['time'],'height',event['height'],'min',event['minima'])\n",
    "    if flags.type == Event.tick:\n",
    "        return\n",
    "    s=traces['filtered'][timestamp+20-pre:timestamp+20+post]\n",
    "    r=traces['raw'][timestamp+20-pre:timestamp+20+post]\n",
    "    i = np.where(abs(minmax['clk'])<=timestamp+20)[0][-1]\n",
    "    min_t=abs(minmax['clk'][i])-(timestamp+20)\n",
    "#     print(minmax['clk'][i],min_t,i,timestamp)\n",
    "    #plt.plot(r,'k',linewidth=0.5)\n",
    "#     print('min', event_tupple[2][1])\n",
    "#     print(event_type)\n",
    "    if flags.channel==1:\n",
    "        colour='b'\n",
    "        lw=0.5\n",
    "        mm = 'vb'\n",
    "        tm = 'ob'\n",
    "    else:\n",
    "        colour='r'\n",
    "        lw=0.5\n",
    "        mm = 'vr'\n",
    "        tm = 'or'\n",
    "    \n",
    "#     if event_type==Event.pulse:\n",
    "#         colour=':g'\n",
    "#         lw=2\n",
    "#         if event_type==Event.pulse:\n",
    "#             max_peaks = event['size']-2\n",
    "#         if max_peaks > 1:    \n",
    "#             minima=event['peaks'][0]['minima']\n",
    "#         else:\n",
    "#             minima=event['peaks']['minima']\n",
    "#     else:\n",
    "#         colour='b'\n",
    "#         lw=1\n",
    "    if flags.channel==1:\n",
    "        minima=event['minima']\n",
    "    #     print(event_type,'minima',minima)\n",
    "        if rel2min:\n",
    "            plt.plot(s-minima,colour,linewidth=lw)\n",
    "        else:\n",
    "            plt.plot(s,colour,linewidth=lw)\n",
    "    #     plt.plot([pre],s[pre],tm,fillstyle='none')\n",
    "    #     plt.plot([pre+min_t],minmax['filtered'][i],mm,fillstyle='none')\n",
    "        if event_type==Event.pulse:\n",
    "            if max_peaks > 1:\n",
    "                for i in range(max_peaks):\n",
    "                    p=event['peaks'][i]\n",
    "                    plt.plot([0,len(s)-1],[p['height'],p['height']],':g')\n",
    "            else:\n",
    "                p=event['peaks']\n",
    "                plt.plot([0,len(s)-1],[p['height'],p['height']],':g',lw=1)\n",
    "        else:\n",
    "          plt.plot([0,len(s)-1],[event['height'],event['height']],colour,lw=lw)\n",
    "\n",
    "    #print(event['height'],event['minima'])\n",
    "    #print(minmax['filtered'][i]==s[pre+min_t])\n",
    "    #print(minmax['filtered'][i]==event['minima'])\n",
    "    #print(s[pre],s[pre-1])"
   ]
  },
  {
   "cell_type": "code",
   "execution_count": null,
   "metadata": {
    "collapsed": false,
    "run_control": {
     "frozen": false,
     "read_only": false
    },
    "scrolled": false
   },
   "outputs": [],
   "source": [
    "%matplotlib notebook\n",
    "traces=Data.fromfile('traces',trace_dt,'teslib','measurement_subsystem_TB',tool='vivado')\n",
    "plt.plot(traces['slope'][1100:],'r',linewidth=1)\n",
    "plt.plot(traces['raw'][1100:],linewidth=0.5)\n",
    "plt.plot(traces['filtered'][1100:],'k',linewidth=2)"
   ]
  },
  {
   "cell_type": "code",
   "execution_count": 3,
   "metadata": {
    "collapsed": false,
    "run_control": {
     "frozen": false,
     "read_only": false
    },
    "scrolled": false
   },
   "outputs": [],
   "source": [
    "stream=Data.fromfile('bytestream',stream_dt,'teslib','measurement_subsystem_TB',tool='vivado')\n",
    "minmax=Data.fromfile('minmax',minmax_dt,'teslib','measurement_subsystem_TB',tool='vivado')\n",
    "# bs=PacketStream(stream)\n",
    "# es=bs.eventstream\n",
    "# %matplotlib notebook\n",
    "# for e in es:\n",
    "#     if e[1]==Event.peak or e[1]==Event.pulse:\n",
    "#         plot_event(e,False)"
   ]
  },
  {
   "cell_type": "code",
   "execution_count": 4,
   "metadata": {
    "collapsed": false
   },
   "outputs": [
    {
     "name": "stdout",
     "output_type": "stream",
     "text": [
      "(515, 0, 35, 0, 28, 0, 13093, 0, 66)\n",
      "0 1464 4120\n",
      "1464 2928 4120\n",
      "2928 4120 4120\n",
      "28 515 3\n",
      "[('size', <class 'numpy.uint16'>), ('tflags0', <class 'numpy.uint8'>), ('tflags1', <class 'numpy.uint8'>), ('flags0', <class 'numpy.uint8'>), ('flags1', <class 'numpy.uint8'>), ('time', <class 'numpy.uint16'>), ('area', <class 'numpy.uint32'>), ('length', <class 'numpy.uint16'>), ('offset', <class 'numpy.uint16'>), ('peaks', [('height', 'i2'), ('minima', 'i2'), ('rise', 'u2'), ('time', 'u2')], (1,)), ('trace', <class 'numpy.int16'>, (2048,))]\n",
      "(515, 0, 35, 0, 29, 445, 13093, 0, 66)\n",
      "0 1464 4120\n"
     ]
    },
    {
     "data": {
      "text/plain": [
       "[<tes.data.Trace at 0x4b689e8>]"
      ]
     },
     "execution_count": 4,
     "metadata": {},
     "output_type": "execute_result"
    }
   ],
   "source": [
    "ps=PacketStream(stream)\n",
    "ps.traces"
   ]
  },
  {
   "cell_type": "code",
   "execution_count": 5,
   "metadata": {
    "collapsed": false
   },
   "outputs": [
    {
     "data": {
      "application/javascript": [
       "/* Put everything inside the global mpl namespace */\n",
       "window.mpl = {};\n",
       "\n",
       "\n",
       "mpl.get_websocket_type = function() {\n",
       "    if (typeof(WebSocket) !== 'undefined') {\n",
       "        return WebSocket;\n",
       "    } else if (typeof(MozWebSocket) !== 'undefined') {\n",
       "        return MozWebSocket;\n",
       "    } else {\n",
       "        alert('Your browser does not have WebSocket support.' +\n",
       "              'Please try Chrome, Safari or Firefox ≥ 6. ' +\n",
       "              'Firefox 4 and 5 are also supported but you ' +\n",
       "              'have to enable WebSockets in about:config.');\n",
       "    };\n",
       "}\n",
       "\n",
       "mpl.figure = function(figure_id, websocket, ondownload, parent_element) {\n",
       "    this.id = figure_id;\n",
       "\n",
       "    this.ws = websocket;\n",
       "\n",
       "    this.supports_binary = (this.ws.binaryType != undefined);\n",
       "\n",
       "    if (!this.supports_binary) {\n",
       "        var warnings = document.getElementById(\"mpl-warnings\");\n",
       "        if (warnings) {\n",
       "            warnings.style.display = 'block';\n",
       "            warnings.textContent = (\n",
       "                \"This browser does not support binary websocket messages. \" +\n",
       "                    \"Performance may be slow.\");\n",
       "        }\n",
       "    }\n",
       "\n",
       "    this.imageObj = new Image();\n",
       "\n",
       "    this.context = undefined;\n",
       "    this.message = undefined;\n",
       "    this.canvas = undefined;\n",
       "    this.rubberband_canvas = undefined;\n",
       "    this.rubberband_context = undefined;\n",
       "    this.format_dropdown = undefined;\n",
       "\n",
       "    this.image_mode = 'full';\n",
       "\n",
       "    this.root = $('<div/>');\n",
       "    this._root_extra_style(this.root)\n",
       "    this.root.attr('style', 'display: inline-block');\n",
       "\n",
       "    $(parent_element).append(this.root);\n",
       "\n",
       "    this._init_header(this);\n",
       "    this._init_canvas(this);\n",
       "    this._init_toolbar(this);\n",
       "\n",
       "    var fig = this;\n",
       "\n",
       "    this.waiting = false;\n",
       "\n",
       "    this.ws.onopen =  function () {\n",
       "            fig.send_message(\"supports_binary\", {value: fig.supports_binary});\n",
       "            fig.send_message(\"send_image_mode\", {});\n",
       "            if (mpl.ratio != 1) {\n",
       "                fig.send_message(\"set_dpi_ratio\", {'dpi_ratio': mpl.ratio});\n",
       "            }\n",
       "            fig.send_message(\"refresh\", {});\n",
       "        }\n",
       "\n",
       "    this.imageObj.onload = function() {\n",
       "            if (fig.image_mode == 'full') {\n",
       "                // Full images could contain transparency (where diff images\n",
       "                // almost always do), so we need to clear the canvas so that\n",
       "                // there is no ghosting.\n",
       "                fig.context.clearRect(0, 0, fig.canvas.width, fig.canvas.height);\n",
       "            }\n",
       "            fig.context.drawImage(fig.imageObj, 0, 0);\n",
       "        };\n",
       "\n",
       "    this.imageObj.onunload = function() {\n",
       "        this.ws.close();\n",
       "    }\n",
       "\n",
       "    this.ws.onmessage = this._make_on_message_function(this);\n",
       "\n",
       "    this.ondownload = ondownload;\n",
       "}\n",
       "\n",
       "mpl.figure.prototype._init_header = function() {\n",
       "    var titlebar = $(\n",
       "        '<div class=\"ui-dialog-titlebar ui-widget-header ui-corner-all ' +\n",
       "        'ui-helper-clearfix\"/>');\n",
       "    var titletext = $(\n",
       "        '<div class=\"ui-dialog-title\" style=\"width: 100%; ' +\n",
       "        'text-align: center; padding: 3px;\"/>');\n",
       "    titlebar.append(titletext)\n",
       "    this.root.append(titlebar);\n",
       "    this.header = titletext[0];\n",
       "}\n",
       "\n",
       "\n",
       "\n",
       "mpl.figure.prototype._canvas_extra_style = function(canvas_div) {\n",
       "\n",
       "}\n",
       "\n",
       "\n",
       "mpl.figure.prototype._root_extra_style = function(canvas_div) {\n",
       "\n",
       "}\n",
       "\n",
       "mpl.figure.prototype._init_canvas = function() {\n",
       "    var fig = this;\n",
       "\n",
       "    var canvas_div = $('<div/>');\n",
       "\n",
       "    canvas_div.attr('style', 'position: relative; clear: both; outline: 0');\n",
       "\n",
       "    function canvas_keyboard_event(event) {\n",
       "        return fig.key_event(event, event['data']);\n",
       "    }\n",
       "\n",
       "    canvas_div.keydown('key_press', canvas_keyboard_event);\n",
       "    canvas_div.keyup('key_release', canvas_keyboard_event);\n",
       "    this.canvas_div = canvas_div\n",
       "    this._canvas_extra_style(canvas_div)\n",
       "    this.root.append(canvas_div);\n",
       "\n",
       "    var canvas = $('<canvas/>');\n",
       "    canvas.addClass('mpl-canvas');\n",
       "    canvas.attr('style', \"left: 0; top: 0; z-index: 0; outline: 0\")\n",
       "\n",
       "    this.canvas = canvas[0];\n",
       "    this.context = canvas[0].getContext(\"2d\");\n",
       "\n",
       "    var backingStore = this.context.backingStorePixelRatio ||\n",
       "\tthis.context.webkitBackingStorePixelRatio ||\n",
       "\tthis.context.mozBackingStorePixelRatio ||\n",
       "\tthis.context.msBackingStorePixelRatio ||\n",
       "\tthis.context.oBackingStorePixelRatio ||\n",
       "\tthis.context.backingStorePixelRatio || 1;\n",
       "\n",
       "    mpl.ratio = (window.devicePixelRatio || 1) / backingStore;\n",
       "\n",
       "    var rubberband = $('<canvas/>');\n",
       "    rubberband.attr('style', \"position: absolute; left: 0; top: 0; z-index: 1;\")\n",
       "\n",
       "    var pass_mouse_events = true;\n",
       "\n",
       "    canvas_div.resizable({\n",
       "        start: function(event, ui) {\n",
       "            pass_mouse_events = false;\n",
       "        },\n",
       "        resize: function(event, ui) {\n",
       "            fig.request_resize(ui.size.width, ui.size.height);\n",
       "        },\n",
       "        stop: function(event, ui) {\n",
       "            pass_mouse_events = true;\n",
       "            fig.request_resize(ui.size.width, ui.size.height);\n",
       "        },\n",
       "    });\n",
       "\n",
       "    function mouse_event_fn(event) {\n",
       "        if (pass_mouse_events)\n",
       "            return fig.mouse_event(event, event['data']);\n",
       "    }\n",
       "\n",
       "    rubberband.mousedown('button_press', mouse_event_fn);\n",
       "    rubberband.mouseup('button_release', mouse_event_fn);\n",
       "    // Throttle sequential mouse events to 1 every 20ms.\n",
       "    rubberband.mousemove('motion_notify', mouse_event_fn);\n",
       "\n",
       "    rubberband.mouseenter('figure_enter', mouse_event_fn);\n",
       "    rubberband.mouseleave('figure_leave', mouse_event_fn);\n",
       "\n",
       "    canvas_div.on(\"wheel\", function (event) {\n",
       "        event = event.originalEvent;\n",
       "        event['data'] = 'scroll'\n",
       "        if (event.deltaY < 0) {\n",
       "            event.step = 1;\n",
       "        } else {\n",
       "            event.step = -1;\n",
       "        }\n",
       "        mouse_event_fn(event);\n",
       "    });\n",
       "\n",
       "    canvas_div.append(canvas);\n",
       "    canvas_div.append(rubberband);\n",
       "\n",
       "    this.rubberband = rubberband;\n",
       "    this.rubberband_canvas = rubberband[0];\n",
       "    this.rubberband_context = rubberband[0].getContext(\"2d\");\n",
       "    this.rubberband_context.strokeStyle = \"#000000\";\n",
       "\n",
       "    this._resize_canvas = function(width, height) {\n",
       "        // Keep the size of the canvas, canvas container, and rubber band\n",
       "        // canvas in synch.\n",
       "        canvas_div.css('width', width)\n",
       "        canvas_div.css('height', height)\n",
       "\n",
       "        canvas.attr('width', width * mpl.ratio);\n",
       "        canvas.attr('height', height * mpl.ratio);\n",
       "        canvas.attr('style', 'width: ' + width + 'px; height: ' + height + 'px;');\n",
       "\n",
       "        rubberband.attr('width', width);\n",
       "        rubberband.attr('height', height);\n",
       "    }\n",
       "\n",
       "    // Set the figure to an initial 600x600px, this will subsequently be updated\n",
       "    // upon first draw.\n",
       "    this._resize_canvas(600, 600);\n",
       "\n",
       "    // Disable right mouse context menu.\n",
       "    $(this.rubberband_canvas).bind(\"contextmenu\",function(e){\n",
       "        return false;\n",
       "    });\n",
       "\n",
       "    function set_focus () {\n",
       "        canvas.focus();\n",
       "        canvas_div.focus();\n",
       "    }\n",
       "\n",
       "    window.setTimeout(set_focus, 100);\n",
       "}\n",
       "\n",
       "mpl.figure.prototype._init_toolbar = function() {\n",
       "    var fig = this;\n",
       "\n",
       "    var nav_element = $('<div/>')\n",
       "    nav_element.attr('style', 'width: 100%');\n",
       "    this.root.append(nav_element);\n",
       "\n",
       "    // Define a callback function for later on.\n",
       "    function toolbar_event(event) {\n",
       "        return fig.toolbar_button_onclick(event['data']);\n",
       "    }\n",
       "    function toolbar_mouse_event(event) {\n",
       "        return fig.toolbar_button_onmouseover(event['data']);\n",
       "    }\n",
       "\n",
       "    for(var toolbar_ind in mpl.toolbar_items) {\n",
       "        var name = mpl.toolbar_items[toolbar_ind][0];\n",
       "        var tooltip = mpl.toolbar_items[toolbar_ind][1];\n",
       "        var image = mpl.toolbar_items[toolbar_ind][2];\n",
       "        var method_name = mpl.toolbar_items[toolbar_ind][3];\n",
       "\n",
       "        if (!name) {\n",
       "            // put a spacer in here.\n",
       "            continue;\n",
       "        }\n",
       "        var button = $('<button/>');\n",
       "        button.addClass('ui-button ui-widget ui-state-default ui-corner-all ' +\n",
       "                        'ui-button-icon-only');\n",
       "        button.attr('role', 'button');\n",
       "        button.attr('aria-disabled', 'false');\n",
       "        button.click(method_name, toolbar_event);\n",
       "        button.mouseover(tooltip, toolbar_mouse_event);\n",
       "\n",
       "        var icon_img = $('<span/>');\n",
       "        icon_img.addClass('ui-button-icon-primary ui-icon');\n",
       "        icon_img.addClass(image);\n",
       "        icon_img.addClass('ui-corner-all');\n",
       "\n",
       "        var tooltip_span = $('<span/>');\n",
       "        tooltip_span.addClass('ui-button-text');\n",
       "        tooltip_span.html(tooltip);\n",
       "\n",
       "        button.append(icon_img);\n",
       "        button.append(tooltip_span);\n",
       "\n",
       "        nav_element.append(button);\n",
       "    }\n",
       "\n",
       "    var fmt_picker_span = $('<span/>');\n",
       "\n",
       "    var fmt_picker = $('<select/>');\n",
       "    fmt_picker.addClass('mpl-toolbar-option ui-widget ui-widget-content');\n",
       "    fmt_picker_span.append(fmt_picker);\n",
       "    nav_element.append(fmt_picker_span);\n",
       "    this.format_dropdown = fmt_picker[0];\n",
       "\n",
       "    for (var ind in mpl.extensions) {\n",
       "        var fmt = mpl.extensions[ind];\n",
       "        var option = $(\n",
       "            '<option/>', {selected: fmt === mpl.default_extension}).html(fmt);\n",
       "        fmt_picker.append(option)\n",
       "    }\n",
       "\n",
       "    // Add hover states to the ui-buttons\n",
       "    $( \".ui-button\" ).hover(\n",
       "        function() { $(this).addClass(\"ui-state-hover\");},\n",
       "        function() { $(this).removeClass(\"ui-state-hover\");}\n",
       "    );\n",
       "\n",
       "    var status_bar = $('<span class=\"mpl-message\"/>');\n",
       "    nav_element.append(status_bar);\n",
       "    this.message = status_bar[0];\n",
       "}\n",
       "\n",
       "mpl.figure.prototype.request_resize = function(x_pixels, y_pixels) {\n",
       "    // Request matplotlib to resize the figure. Matplotlib will then trigger a resize in the client,\n",
       "    // which will in turn request a refresh of the image.\n",
       "    this.send_message('resize', {'width': x_pixels, 'height': y_pixels});\n",
       "}\n",
       "\n",
       "mpl.figure.prototype.send_message = function(type, properties) {\n",
       "    properties['type'] = type;\n",
       "    properties['figure_id'] = this.id;\n",
       "    this.ws.send(JSON.stringify(properties));\n",
       "}\n",
       "\n",
       "mpl.figure.prototype.send_draw_message = function() {\n",
       "    if (!this.waiting) {\n",
       "        this.waiting = true;\n",
       "        this.ws.send(JSON.stringify({type: \"draw\", figure_id: this.id}));\n",
       "    }\n",
       "}\n",
       "\n",
       "\n",
       "mpl.figure.prototype.handle_save = function(fig, msg) {\n",
       "    var format_dropdown = fig.format_dropdown;\n",
       "    var format = format_dropdown.options[format_dropdown.selectedIndex].value;\n",
       "    fig.ondownload(fig, format);\n",
       "}\n",
       "\n",
       "\n",
       "mpl.figure.prototype.handle_resize = function(fig, msg) {\n",
       "    var size = msg['size'];\n",
       "    if (size[0] != fig.canvas.width || size[1] != fig.canvas.height) {\n",
       "        fig._resize_canvas(size[0], size[1]);\n",
       "        fig.send_message(\"refresh\", {});\n",
       "    };\n",
       "}\n",
       "\n",
       "mpl.figure.prototype.handle_rubberband = function(fig, msg) {\n",
       "    var x0 = msg['x0'] / mpl.ratio;\n",
       "    var y0 = (fig.canvas.height - msg['y0']) / mpl.ratio;\n",
       "    var x1 = msg['x1'] / mpl.ratio;\n",
       "    var y1 = (fig.canvas.height - msg['y1']) / mpl.ratio;\n",
       "    x0 = Math.floor(x0) + 0.5;\n",
       "    y0 = Math.floor(y0) + 0.5;\n",
       "    x1 = Math.floor(x1) + 0.5;\n",
       "    y1 = Math.floor(y1) + 0.5;\n",
       "    var min_x = Math.min(x0, x1);\n",
       "    var min_y = Math.min(y0, y1);\n",
       "    var width = Math.abs(x1 - x0);\n",
       "    var height = Math.abs(y1 - y0);\n",
       "\n",
       "    fig.rubberband_context.clearRect(\n",
       "        0, 0, fig.canvas.width, fig.canvas.height);\n",
       "\n",
       "    fig.rubberband_context.strokeRect(min_x, min_y, width, height);\n",
       "}\n",
       "\n",
       "mpl.figure.prototype.handle_figure_label = function(fig, msg) {\n",
       "    // Updates the figure title.\n",
       "    fig.header.textContent = msg['label'];\n",
       "}\n",
       "\n",
       "mpl.figure.prototype.handle_cursor = function(fig, msg) {\n",
       "    var cursor = msg['cursor'];\n",
       "    switch(cursor)\n",
       "    {\n",
       "    case 0:\n",
       "        cursor = 'pointer';\n",
       "        break;\n",
       "    case 1:\n",
       "        cursor = 'default';\n",
       "        break;\n",
       "    case 2:\n",
       "        cursor = 'crosshair';\n",
       "        break;\n",
       "    case 3:\n",
       "        cursor = 'move';\n",
       "        break;\n",
       "    }\n",
       "    fig.rubberband_canvas.style.cursor = cursor;\n",
       "}\n",
       "\n",
       "mpl.figure.prototype.handle_message = function(fig, msg) {\n",
       "    fig.message.textContent = msg['message'];\n",
       "}\n",
       "\n",
       "mpl.figure.prototype.handle_draw = function(fig, msg) {\n",
       "    // Request the server to send over a new figure.\n",
       "    fig.send_draw_message();\n",
       "}\n",
       "\n",
       "mpl.figure.prototype.handle_image_mode = function(fig, msg) {\n",
       "    fig.image_mode = msg['mode'];\n",
       "}\n",
       "\n",
       "mpl.figure.prototype.updated_canvas_event = function() {\n",
       "    // Called whenever the canvas gets updated.\n",
       "    this.send_message(\"ack\", {});\n",
       "}\n",
       "\n",
       "// A function to construct a web socket function for onmessage handling.\n",
       "// Called in the figure constructor.\n",
       "mpl.figure.prototype._make_on_message_function = function(fig) {\n",
       "    return function socket_on_message(evt) {\n",
       "        if (evt.data instanceof Blob) {\n",
       "            /* FIXME: We get \"Resource interpreted as Image but\n",
       "             * transferred with MIME type text/plain:\" errors on\n",
       "             * Chrome.  But how to set the MIME type?  It doesn't seem\n",
       "             * to be part of the websocket stream */\n",
       "            evt.data.type = \"image/png\";\n",
       "\n",
       "            /* Free the memory for the previous frames */\n",
       "            if (fig.imageObj.src) {\n",
       "                (window.URL || window.webkitURL).revokeObjectURL(\n",
       "                    fig.imageObj.src);\n",
       "            }\n",
       "\n",
       "            fig.imageObj.src = (window.URL || window.webkitURL).createObjectURL(\n",
       "                evt.data);\n",
       "            fig.updated_canvas_event();\n",
       "            fig.waiting = false;\n",
       "            return;\n",
       "        }\n",
       "        else if (typeof evt.data === 'string' && evt.data.slice(0, 21) == \"data:image/png;base64\") {\n",
       "            fig.imageObj.src = evt.data;\n",
       "            fig.updated_canvas_event();\n",
       "            fig.waiting = false;\n",
       "            return;\n",
       "        }\n",
       "\n",
       "        var msg = JSON.parse(evt.data);\n",
       "        var msg_type = msg['type'];\n",
       "\n",
       "        // Call the  \"handle_{type}\" callback, which takes\n",
       "        // the figure and JSON message as its only arguments.\n",
       "        try {\n",
       "            var callback = fig[\"handle_\" + msg_type];\n",
       "        } catch (e) {\n",
       "            console.log(\"No handler for the '\" + msg_type + \"' message type: \", msg);\n",
       "            return;\n",
       "        }\n",
       "\n",
       "        if (callback) {\n",
       "            try {\n",
       "                // console.log(\"Handling '\" + msg_type + \"' message: \", msg);\n",
       "                callback(fig, msg);\n",
       "            } catch (e) {\n",
       "                console.log(\"Exception inside the 'handler_\" + msg_type + \"' callback:\", e, e.stack, msg);\n",
       "            }\n",
       "        }\n",
       "    };\n",
       "}\n",
       "\n",
       "// from http://stackoverflow.com/questions/1114465/getting-mouse-location-in-canvas\n",
       "mpl.findpos = function(e) {\n",
       "    //this section is from http://www.quirksmode.org/js/events_properties.html\n",
       "    var targ;\n",
       "    if (!e)\n",
       "        e = window.event;\n",
       "    if (e.target)\n",
       "        targ = e.target;\n",
       "    else if (e.srcElement)\n",
       "        targ = e.srcElement;\n",
       "    if (targ.nodeType == 3) // defeat Safari bug\n",
       "        targ = targ.parentNode;\n",
       "\n",
       "    // jQuery normalizes the pageX and pageY\n",
       "    // pageX,Y are the mouse positions relative to the document\n",
       "    // offset() returns the position of the element relative to the document\n",
       "    var x = e.pageX - $(targ).offset().left;\n",
       "    var y = e.pageY - $(targ).offset().top;\n",
       "\n",
       "    return {\"x\": x, \"y\": y};\n",
       "};\n",
       "\n",
       "/*\n",
       " * return a copy of an object with only non-object keys\n",
       " * we need this to avoid circular references\n",
       " * http://stackoverflow.com/a/24161582/3208463\n",
       " */\n",
       "function simpleKeys (original) {\n",
       "  return Object.keys(original).reduce(function (obj, key) {\n",
       "    if (typeof original[key] !== 'object')\n",
       "        obj[key] = original[key]\n",
       "    return obj;\n",
       "  }, {});\n",
       "}\n",
       "\n",
       "mpl.figure.prototype.mouse_event = function(event, name) {\n",
       "    var canvas_pos = mpl.findpos(event)\n",
       "\n",
       "    if (name === 'button_press')\n",
       "    {\n",
       "        this.canvas.focus();\n",
       "        this.canvas_div.focus();\n",
       "    }\n",
       "\n",
       "    var x = canvas_pos.x * mpl.ratio;\n",
       "    var y = canvas_pos.y * mpl.ratio;\n",
       "\n",
       "    this.send_message(name, {x: x, y: y, button: event.button,\n",
       "                             step: event.step,\n",
       "                             guiEvent: simpleKeys(event)});\n",
       "\n",
       "    /* This prevents the web browser from automatically changing to\n",
       "     * the text insertion cursor when the button is pressed.  We want\n",
       "     * to control all of the cursor setting manually through the\n",
       "     * 'cursor' event from matplotlib */\n",
       "    event.preventDefault();\n",
       "    return false;\n",
       "}\n",
       "\n",
       "mpl.figure.prototype._key_event_extra = function(event, name) {\n",
       "    // Handle any extra behaviour associated with a key event\n",
       "}\n",
       "\n",
       "mpl.figure.prototype.key_event = function(event, name) {\n",
       "\n",
       "    // Prevent repeat events\n",
       "    if (name == 'key_press')\n",
       "    {\n",
       "        if (event.which === this._key)\n",
       "            return;\n",
       "        else\n",
       "            this._key = event.which;\n",
       "    }\n",
       "    if (name == 'key_release')\n",
       "        this._key = null;\n",
       "\n",
       "    var value = '';\n",
       "    if (event.ctrlKey && event.which != 17)\n",
       "        value += \"ctrl+\";\n",
       "    if (event.altKey && event.which != 18)\n",
       "        value += \"alt+\";\n",
       "    if (event.shiftKey && event.which != 16)\n",
       "        value += \"shift+\";\n",
       "\n",
       "    value += 'k';\n",
       "    value += event.which.toString();\n",
       "\n",
       "    this._key_event_extra(event, name);\n",
       "\n",
       "    this.send_message(name, {key: value,\n",
       "                             guiEvent: simpleKeys(event)});\n",
       "    return false;\n",
       "}\n",
       "\n",
       "mpl.figure.prototype.toolbar_button_onclick = function(name) {\n",
       "    if (name == 'download') {\n",
       "        this.handle_save(this, null);\n",
       "    } else {\n",
       "        this.send_message(\"toolbar_button\", {name: name});\n",
       "    }\n",
       "};\n",
       "\n",
       "mpl.figure.prototype.toolbar_button_onmouseover = function(tooltip) {\n",
       "    this.message.textContent = tooltip;\n",
       "};\n",
       "mpl.toolbar_items = [[\"Home\", \"Reset original view\", \"fa fa-home icon-home\", \"home\"], [\"Back\", \"Back to  previous view\", \"fa fa-arrow-left icon-arrow-left\", \"back\"], [\"Forward\", \"Forward to next view\", \"fa fa-arrow-right icon-arrow-right\", \"forward\"], [\"\", \"\", \"\", \"\"], [\"Pan\", \"Pan axes with left mouse, zoom with right\", \"fa fa-arrows icon-move\", \"pan\"], [\"Zoom\", \"Zoom to rectangle\", \"fa fa-square-o icon-check-empty\", \"zoom\"], [\"\", \"\", \"\", \"\"], [\"Download\", \"Download plot\", \"fa fa-floppy-o icon-save\", \"download\"]];\n",
       "\n",
       "mpl.extensions = [\"eps\", \"jpeg\", \"pdf\", \"png\", \"ps\", \"raw\", \"svg\", \"tif\"];\n",
       "\n",
       "mpl.default_extension = \"png\";var comm_websocket_adapter = function(comm) {\n",
       "    // Create a \"websocket\"-like object which calls the given IPython comm\n",
       "    // object with the appropriate methods. Currently this is a non binary\n",
       "    // socket, so there is still some room for performance tuning.\n",
       "    var ws = {};\n",
       "\n",
       "    ws.close = function() {\n",
       "        comm.close()\n",
       "    };\n",
       "    ws.send = function(m) {\n",
       "        //console.log('sending', m);\n",
       "        comm.send(m);\n",
       "    };\n",
       "    // Register the callback with on_msg.\n",
       "    comm.on_msg(function(msg) {\n",
       "        //console.log('receiving', msg['content']['data'], msg);\n",
       "        // Pass the mpl event to the overriden (by mpl) onmessage function.\n",
       "        ws.onmessage(msg['content']['data'])\n",
       "    });\n",
       "    return ws;\n",
       "}\n",
       "\n",
       "mpl.mpl_figure_comm = function(comm, msg) {\n",
       "    // This is the function which gets called when the mpl process\n",
       "    // starts-up an IPython Comm through the \"matplotlib\" channel.\n",
       "\n",
       "    var id = msg.content.data.id;\n",
       "    // Get hold of the div created by the display call when the Comm\n",
       "    // socket was opened in Python.\n",
       "    var element = $(\"#\" + id);\n",
       "    var ws_proxy = comm_websocket_adapter(comm)\n",
       "\n",
       "    function ondownload(figure, format) {\n",
       "        window.open(figure.imageObj.src);\n",
       "    }\n",
       "\n",
       "    var fig = new mpl.figure(id, ws_proxy,\n",
       "                           ondownload,\n",
       "                           element.get(0));\n",
       "\n",
       "    // Call onopen now - mpl needs it, as it is assuming we've passed it a real\n",
       "    // web socket which is closed, not our websocket->open comm proxy.\n",
       "    ws_proxy.onopen();\n",
       "\n",
       "    fig.parent_element = element.get(0);\n",
       "    fig.cell_info = mpl.find_output_cell(\"<div id='\" + id + \"'></div>\");\n",
       "    if (!fig.cell_info) {\n",
       "        console.error(\"Failed to find cell for figure\", id, fig);\n",
       "        return;\n",
       "    }\n",
       "\n",
       "    var output_index = fig.cell_info[2]\n",
       "    var cell = fig.cell_info[0];\n",
       "\n",
       "};\n",
       "\n",
       "mpl.figure.prototype.handle_close = function(fig, msg) {\n",
       "    var width = fig.canvas.width/mpl.ratio\n",
       "    fig.root.unbind('remove')\n",
       "\n",
       "    // Update the output cell to use the data from the current canvas.\n",
       "    fig.push_to_output();\n",
       "    var dataURL = fig.canvas.toDataURL();\n",
       "    // Re-enable the keyboard manager in IPython - without this line, in FF,\n",
       "    // the notebook keyboard shortcuts fail.\n",
       "    IPython.keyboard_manager.enable()\n",
       "    $(fig.parent_element).html('<img src=\"' + dataURL + '\" width=\"' + width + '\">');\n",
       "    fig.close_ws(fig, msg);\n",
       "}\n",
       "\n",
       "mpl.figure.prototype.close_ws = function(fig, msg){\n",
       "    fig.send_message('closing', msg);\n",
       "    // fig.ws.close()\n",
       "}\n",
       "\n",
       "mpl.figure.prototype.push_to_output = function(remove_interactive) {\n",
       "    // Turn the data on the canvas into data in the output cell.\n",
       "    var width = this.canvas.width/mpl.ratio\n",
       "    var dataURL = this.canvas.toDataURL();\n",
       "    this.cell_info[1]['text/html'] = '<img src=\"' + dataURL + '\" width=\"' + width + '\">';\n",
       "}\n",
       "\n",
       "mpl.figure.prototype.updated_canvas_event = function() {\n",
       "    // Tell IPython that the notebook contents must change.\n",
       "    IPython.notebook.set_dirty(true);\n",
       "    this.send_message(\"ack\", {});\n",
       "    var fig = this;\n",
       "    // Wait a second, then push the new image to the DOM so\n",
       "    // that it is saved nicely (might be nice to debounce this).\n",
       "    setTimeout(function () { fig.push_to_output() }, 1000);\n",
       "}\n",
       "\n",
       "mpl.figure.prototype._init_toolbar = function() {\n",
       "    var fig = this;\n",
       "\n",
       "    var nav_element = $('<div/>')\n",
       "    nav_element.attr('style', 'width: 100%');\n",
       "    this.root.append(nav_element);\n",
       "\n",
       "    // Define a callback function for later on.\n",
       "    function toolbar_event(event) {\n",
       "        return fig.toolbar_button_onclick(event['data']);\n",
       "    }\n",
       "    function toolbar_mouse_event(event) {\n",
       "        return fig.toolbar_button_onmouseover(event['data']);\n",
       "    }\n",
       "\n",
       "    for(var toolbar_ind in mpl.toolbar_items){\n",
       "        var name = mpl.toolbar_items[toolbar_ind][0];\n",
       "        var tooltip = mpl.toolbar_items[toolbar_ind][1];\n",
       "        var image = mpl.toolbar_items[toolbar_ind][2];\n",
       "        var method_name = mpl.toolbar_items[toolbar_ind][3];\n",
       "\n",
       "        if (!name) { continue; };\n",
       "\n",
       "        var button = $('<button class=\"btn btn-default\" href=\"#\" title=\"' + name + '\"><i class=\"fa ' + image + ' fa-lg\"></i></button>');\n",
       "        button.click(method_name, toolbar_event);\n",
       "        button.mouseover(tooltip, toolbar_mouse_event);\n",
       "        nav_element.append(button);\n",
       "    }\n",
       "\n",
       "    // Add the status bar.\n",
       "    var status_bar = $('<span class=\"mpl-message\" style=\"text-align:right; float: right;\"/>');\n",
       "    nav_element.append(status_bar);\n",
       "    this.message = status_bar[0];\n",
       "\n",
       "    // Add the close button to the window.\n",
       "    var buttongrp = $('<div class=\"btn-group inline pull-right\"></div>');\n",
       "    var button = $('<button class=\"btn btn-mini btn-primary\" href=\"#\" title=\"Stop Interaction\"><i class=\"fa fa-power-off icon-remove icon-large\"></i></button>');\n",
       "    button.click(function (evt) { fig.handle_close(fig, {}); } );\n",
       "    button.mouseover('Stop Interaction', toolbar_mouse_event);\n",
       "    buttongrp.append(button);\n",
       "    var titlebar = this.root.find($('.ui-dialog-titlebar'));\n",
       "    titlebar.prepend(buttongrp);\n",
       "}\n",
       "\n",
       "mpl.figure.prototype._root_extra_style = function(el){\n",
       "    var fig = this\n",
       "    el.on(\"remove\", function(){\n",
       "\tfig.close_ws(fig, {});\n",
       "    });\n",
       "}\n",
       "\n",
       "mpl.figure.prototype._canvas_extra_style = function(el){\n",
       "    // this is important to make the div 'focusable\n",
       "    el.attr('tabindex', 0)\n",
       "    // reach out to IPython and tell the keyboard manager to turn it's self\n",
       "    // off when our div gets focus\n",
       "\n",
       "    // location in version 3\n",
       "    if (IPython.notebook.keyboard_manager) {\n",
       "        IPython.notebook.keyboard_manager.register_events(el);\n",
       "    }\n",
       "    else {\n",
       "        // location in version 2\n",
       "        IPython.keyboard_manager.register_events(el);\n",
       "    }\n",
       "\n",
       "}\n",
       "\n",
       "mpl.figure.prototype._key_event_extra = function(event, name) {\n",
       "    var manager = IPython.notebook.keyboard_manager;\n",
       "    if (!manager)\n",
       "        manager = IPython.keyboard_manager;\n",
       "\n",
       "    // Check for shift+enter\n",
       "    if (event.shiftKey && event.which == 13) {\n",
       "        this.canvas_div.blur();\n",
       "        // select the cell after this one\n",
       "        var index = IPython.notebook.find_cell_index(this.cell_info[0]);\n",
       "        IPython.notebook.select(index + 1);\n",
       "    }\n",
       "}\n",
       "\n",
       "mpl.figure.prototype.handle_save = function(fig, msg) {\n",
       "    fig.ondownload(fig, null);\n",
       "}\n",
       "\n",
       "\n",
       "mpl.find_output_cell = function(html_output) {\n",
       "    // Return the cell and output element which can be found *uniquely* in the notebook.\n",
       "    // Note - this is a bit hacky, but it is done because the \"notebook_saving.Notebook\"\n",
       "    // IPython event is triggered only after the cells have been serialised, which for\n",
       "    // our purposes (turning an active figure into a static one), is too late.\n",
       "    var cells = IPython.notebook.get_cells();\n",
       "    var ncells = cells.length;\n",
       "    for (var i=0; i<ncells; i++) {\n",
       "        var cell = cells[i];\n",
       "        if (cell.cell_type === 'code'){\n",
       "            for (var j=0; j<cell.output_area.outputs.length; j++) {\n",
       "                var data = cell.output_area.outputs[j];\n",
       "                if (data.data) {\n",
       "                    // IPython >= 3 moved mimebundle to data attribute of output\n",
       "                    data = data.data;\n",
       "                }\n",
       "                if (data['text/html'] == html_output) {\n",
       "                    return [cell, data, j];\n",
       "                }\n",
       "            }\n",
       "        }\n",
       "    }\n",
       "}\n",
       "\n",
       "// Register the function which deals with the matplotlib target/channel.\n",
       "// The kernel may be null if the page has been refreshed.\n",
       "if (IPython.notebook.kernel != null) {\n",
       "    IPython.notebook.kernel.comm_manager.register_target('matplotlib', mpl.mpl_figure_comm);\n",
       "}\n"
      ],
      "text/plain": [
       "<IPython.core.display.Javascript object>"
      ]
     },
     "metadata": {},
     "output_type": "display_data"
    },
    {
     "data": {
      "text/html": [
       "<img src=\"data:image/png;base64,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\" width=\"640\">"
      ],
      "text/plain": [
       "<IPython.core.display.HTML object>"
      ]
     },
     "metadata": {},
     "output_type": "display_data"
    },
    {
     "data": {
      "text/plain": [
       "[<matplotlib.lines.Line2D at 0x82490f0>]"
      ]
     },
     "execution_count": 5,
     "metadata": {},
     "output_type": "execute_result"
    }
   ],
   "source": [
    "%matplotlib notebook\n",
    "\n",
    "plt.plot(ps.traces[0]._view['trace'])\n",
    "# ps.traces[2]._view['trace'][-20:]"
   ]
  },
  {
   "cell_type": "code",
   "execution_count": 10,
   "metadata": {
    "collapsed": false
   },
   "outputs": [
    {
     "data": {
      "text/plain": [
       "14974"
      ]
     },
     "execution_count": 10,
     "metadata": {},
     "output_type": "execute_result"
    }
   ],
   "source": [
    "ps.traces[3]._view['area']"
   ]
  },
  {
   "cell_type": "code",
   "execution_count": null,
   "metadata": {
    "collapsed": false,
    "run_control": {
     "frozen": false,
     "read_only": false
    },
    "scrolled": true
   },
   "outputs": [],
   "source": [
    "traces=Data.fromfile('traces',trace_dt,'teslib','measurement_subsystem_TB',tool='vivado')\n",
    "stream=Data.fromfile('bytestream',stream_dt,'teslib','measurement_subsystem_TB',tool='vivado')\n",
    "bs=PacketStream(stream)\n",
    "dists=bs.distributions\n",
    "#bs.packets\n",
    "dists"
   ]
  },
  {
   "cell_type": "code",
   "execution_count": null,
   "metadata": {
    "collapsed": false
   },
   "outputs": [],
   "source": [
    "d=dists[0]\n",
    "d.counts[-1]"
   ]
  },
  {
   "cell_type": "code",
   "execution_count": null,
   "metadata": {
    "collapsed": false
   },
   "outputs": [],
   "source": [
    "d.total+d.underflow+d.overflow"
   ]
  },
  {
   "cell_type": "code",
   "execution_count": null,
   "metadata": {
    "collapsed": false
   },
   "outputs": [],
   "source": [
    "%matplotlib notebook\n",
    "plt.plot(d.bins)"
   ]
  },
  {
   "cell_type": "code",
   "execution_count": null,
   "metadata": {
    "collapsed": false,
    "scrolled": false
   },
   "outputs": [],
   "source": [
    "f=EventFlags(es[2][2]['flags'])\n",
    "f.channel"
   ]
  },
  {
   "cell_type": "code",
   "execution_count": null,
   "metadata": {
    "collapsed": false,
    "run_control": {
     "frozen": false,
     "read_only": false
    },
    "scrolled": true
   },
   "outputs": [],
   "source": [
    "import tes.mca as mca\n",
    "d=bs.distributions[0]\n",
    "eset=np.uint64(1)\n",
    "bset=np.uint64(0)\n",
    "cset=np.uint64(20)\n",
    "\n",
    "stop=d.stop_time+eset+cset\n",
    "start=d.start_time+bset+cset\n",
    "bins=np.zeros((d.last_bin+1,),dtype=np.uint32)\n",
    "\n",
    "if d.value==mca.Value.raw_signal:\n",
    "    tname='raw'\n",
    "elif d.value==mca.Value.filtered_signal:\n",
    "    tname='filtered'\n",
    "elif d.value==mca.Value.slope_signal:\n",
    "    tname='slope'\n",
    "\n",
    "for i in range(start,stop):\n",
    "    s = traces[tname][i]\n",
    "    if s < d.lowest_value:\n",
    "        bins[0] += 1\n",
    "    else:\n",
    "        bin_number = s - d.lowest_value + 1\n",
    "        if bin_number < d.last_bin:\n",
    "            bins[bin_number] += 1\n",
    "        else:\n",
    "            bins[d.last_bin] += 1\n",
    "        \n",
    "bad=(bins-d.counts).nonzero()\n",
    "bad"
   ]
  },
  {
   "cell_type": "code",
   "execution_count": null,
   "metadata": {
    "collapsed": false
   },
   "outputs": [],
   "source": [
    "d.counts[bad][1:10]"
   ]
  },
  {
   "cell_type": "code",
   "execution_count": null,
   "metadata": {
    "collapsed": false
   },
   "outputs": [],
   "source": [
    "bins[bad][1:10]"
   ]
  },
  {
   "cell_type": "code",
   "execution_count": null,
   "metadata": {
    "collapsed": false
   },
   "outputs": [],
   "source": [
    "d.value"
   ]
  },
  {
   "cell_type": "code",
   "execution_count": null,
   "metadata": {
    "collapsed": false,
    "scrolled": false
   },
   "outputs": [],
   "source": [
    "%matplotlib notebook\n",
    "plt.step(np.arange(len(d.bins)),d.bins)\n",
    "# plt.step(np.arange(len(d.counts)),bins)\n",
    "plt.plot(bad,np.zeros_like(bad),'.k')"
   ]
  },
  {
   "cell_type": "code",
   "execution_count": null,
   "metadata": {
    "collapsed": false
   },
   "outputs": [],
   "source": [
    "sum(d.counts)"
   ]
  },
  {
   "cell_type": "code",
   "execution_count": null,
   "metadata": {
    "collapsed": false
   },
   "outputs": [],
   "source": [
    "2**14+2000"
   ]
  },
  {
   "cell_type": "code",
   "execution_count": null,
   "metadata": {
    "collapsed": false,
    "run_control": {
     "frozen": false,
     "read_only": false
    }
   },
   "outputs": [],
   "source": [
    "def plot_event(event_tupple):\n",
    "    pre=200\n",
    "    post=1000\n",
    "    timestamp=event_tupple[0]\n",
    "    event_type=event_tupple[1]\n",
    "    event=event_tupple[2]\n",
    "    flags=EventFlags(event['flags'])\n",
    "    print(flags)\n",
    "    print('timestamp',timestamp, 'time', event['time'])\n",
    "    if flags.type == Event.tick:\n",
    "        return\n",
    "    s=traces['filtered'][timestamp+20-pre:timestamp+20+post]\n",
    "    r=traces['raw'][timestamp+20-pre:timestamp+20+post]\n",
    "    i = np.where(abs(minmax['clk'])<=timestamp+20)[0][-1]\n",
    "    min_t=abs(minmax['clk'][i])-(timestamp+20)\n",
    "#     print(minmax['clk'][i],min_t,i,timestamp)\n",
    "    plt.plot(r,'k',linewidth=0.5)\n",
    "    plt.plot(s,'b',linewidth=2)\n",
    "    plt.plot([pre],s[pre],'sg')\n",
    "    plt.plot([pre+min_t],minmax['filtered'][i],'sr')\n",
    "    if event_type==Event.pulse:\n",
    "        for i in range(flags.peak_number):\n",
    "            p=event['peaks'][i]\n",
    "            plt.plot([0,len(s)-1],[p['height'],p['height']],':r')\n",
    "    else:\n",
    "      plt.plot([0,len(s)-1],[event['height'],event['height']],':r')\n",
    "        \n",
    "    #print(event['height'],event['minima'])\n",
    "    #print(minmax['filtered'][i]==s[pre+min_t])\n",
    "    #print(minmax['filtered'][i]==event['minima'])\n",
    "    #print(s[pre],s[pre-1])"
   ]
  },
  {
   "cell_type": "code",
   "execution_count": null,
   "metadata": {
    "collapsed": false,
    "run_control": {
     "frozen": false,
     "read_only": false
    }
   },
   "outputs": [],
   "source": [
    "pwd"
   ]
  },
  {
   "cell_type": "code",
   "execution_count": null,
   "metadata": {
    "collapsed": false
   },
   "outputs": [],
   "source": [
    "es=bs.eventstream\n",
    "es"
   ]
  },
  {
   "cell_type": "code",
   "execution_count": null,
   "metadata": {
    "collapsed": false,
    "run_control": {
     "frozen": false,
     "read_only": false
    }
   },
   "outputs": [],
   "source": [
    "%matplotlib notebook\n",
    "for e in es:\n",
    "    if e[1]==Event.peak:\n",
    "        plot_event(e)"
   ]
  },
  {
   "cell_type": "code",
   "execution_count": null,
   "metadata": {
    "collapsed": false,
    "run_control": {
     "frozen": false,
     "read_only": false
    }
   },
   "outputs": [],
   "source": [
    "es"
   ]
  },
  {
   "cell_type": "code",
   "execution_count": null,
   "metadata": {
    "collapsed": false,
    "run_control": {
     "frozen": false,
     "read_only": false
    }
   },
   "outputs": [],
   "source": [
    "dists=bs.distributions\n",
    "dists"
   ]
  },
  {
   "cell_type": "code",
   "execution_count": null,
   "metadata": {
    "collapsed": false,
    "run_control": {
     "frozen": false,
     "read_only": false
    }
   },
   "outputs": [],
   "source": [
    "bs.packets[185].payload"
   ]
  },
  {
   "cell_type": "code",
   "execution_count": null,
   "metadata": {
    "collapsed": false,
    "run_control": {
     "frozen": false,
     "read_only": false
    }
   },
   "outputs": [],
   "source": [
    "d=bs.distributions[0]\n",
    "eset=np.uint64(1)\n",
    "bset=np.uint64(0)\n",
    "cset=np.uint64(20)\n",
    "\n",
    "stop=d.stop_time+eset+cset\n",
    "start=d.start_time+bset+cset\n",
    "bins=np.zeros((d.last_bin+1,),dtype=np.uint32)\n",
    "for i in range(start,stop):\n",
    "    s = traces['raw'][i]\n",
    "    if s <= d.lowest_value:\n",
    "        bins[0] += 1\n",
    "    else:\n",
    "        bins[s-d.lowest_value] += 1\n",
    "        \n",
    "(bins-d.counts).nonzero()"
   ]
  },
  {
   "cell_type": "code",
   "execution_count": null,
   "metadata": {
    "collapsed": false,
    "run_control": {
     "frozen": false,
     "read_only": false
    }
   },
   "outputs": [],
   "source": [
    "%matplotlib notebook\n",
    "plt.step(np.arange(len(d.counts)),d.counts)"
   ]
  },
  {
   "cell_type": "code",
   "execution_count": null,
   "metadata": {
    "collapsed": false,
    "run_control": {
     "frozen": false,
     "read_only": false
    }
   },
   "outputs": [],
   "source": [
    "bins[bins.nonzero()]"
   ]
  },
  {
   "cell_type": "code",
   "execution_count": null,
   "metadata": {
    "collapsed": false,
    "run_control": {
     "frozen": false,
     "read_only": false
    }
   },
   "outputs": [],
   "source": [
    "sum(d.counts)"
   ]
  },
  {
   "cell_type": "code",
   "execution_count": null,
   "metadata": {
    "collapsed": false,
    "run_control": {
     "frozen": false,
     "read_only": false
    }
   },
   "outputs": [],
   "source": [
    "2**14+2000"
   ]
  },
  {
   "cell_type": "code",
   "execution_count": null,
   "metadata": {
    "collapsed": false,
    "run_control": {
     "frozen": false,
     "read_only": false
    }
   },
   "outputs": [],
   "source": [
    "es[3][2]['timestamp']-es[0][2]['timestamp']"
   ]
  },
  {
   "cell_type": "code",
   "execution_count": null,
   "metadata": {
    "collapsed": true,
    "run_control": {
     "frozen": false,
     "read_only": false
    }
   },
   "outputs": [],
   "source": [
    "def xings(s, thresh):\n",
    "    pos=s > thresh\n",
    "    neg=s < thresh\n",
    "    pos0=s >= thresh\n",
    "    neg0=s <= thresh\n",
    "    pos_xing_mask = np.bitwise_and(pos0[1:],neg[0:-1])  \n",
    "    neg_xing_mask = np.bitwise_and(neg0[1:],pos[0:-1])  \n",
    "    return pos_xing_mask.nonzero()[0]+1, neg_xing_mask.nonzero()[0]+1"
   ]
  },
  {
   "cell_type": "code",
   "execution_count": null,
   "metadata": {
    "collapsed": true,
    "run_control": {
     "frozen": false,
     "read_only": false
    }
   },
   "outputs": [],
   "source": [
    "from mpl_toolkits.axes_grid1 import host_subplot\n",
    "\n",
    "def plot_trace(traces,start,width):\n",
    "\n",
    "    ax = host_subplot(111)\n",
    "    axr = ax.twinx()\n",
    "    axt = ax.twiny()\n",
    "#ax.plot(t[0:-1:10],s[0:-1:10],'k')\n",
    "#ax.plot(t,s,'k')\n",
    "    axt.set_xlabel('Time ns',fontsize=18)\n",
    "    ax.set_ylabel('Voltage (Arbitary Units)',fontsize=18)\n",
    "#plt.xticks(visible=False)\n",
    "#plt.yticks(visible=False)\n",
    "#ax.set_xlim(0,t[4000000])\n",
    "#start=902000\n",
    "#width=2500\n",
    "    f=traces['filtered'][start:start+width]\n",
    "    s=traces['slope'][start:start+width]\n",
    "    t=np.arange(len(f))*4e-9\n",
    "#ts=t[pstart:pstop]\n",
    "#axins = fig.add_axes([.4, .45, .45, .4])\n",
    "    ax.set_xlim(t[0],t[-1])\n",
    "    axt.set_xlim(t[0],t[-1])\n",
    "\n",
    "    ylim=(-500,2000)\n",
    "\n",
    "    ax.set_ylim(ylim[0],ylim[1])\n",
    "    axr.set_ylim(ylim[0],ylim[1])\n",
    "\n",
    "    filtered, = ax.step(t,f,'k',lw=2,label='filtered')\n",
    "    slope, = ax.step(t,s,'b',label='slope')\n",
    "    ax.fill_between(t,0,s,alpha=.4)\n",
    "    plt.ylim=ylim\n",
    "\n",
    "pos=s>0\n",
    "neg=s<=0\n",
    "pos_xing_mask = np.bitwise_and(pos[1:-1],neg[0:-2])  \n",
    "neg_xing_mask = np.bitwise_and(neg[1:-1],pos[0:-2])  \n",
    "pos_xing=pos_xing_mask.nonzero()\n",
    "neg_xing=neg_xing_mask.nonzero()\n",
    "\n",
    "rx=[t[pos_xing[0][0]], t[neg_xing[0][0]]]\n",
    "ry=[f[pos_xing[0][0]], f[neg_xing[0][0]]]\n",
    "\n",
    "ax.fill_between(t[pos_xing[0][0]:neg_xing[0][0]],0,s[pos_xing[0][0]:neg_xing[0][0]],alpha=.4,color='r')\n",
    "\n",
    "#plt.plot(rx,[ry[0], ry[0]],'-r',lw=2)\n",
    "#plt.plot([rx[1],rx[1]], ry,'-r',lw=2)\n",
    "# thresholds\n",
    "sthresh = 600\n",
    "pthresh = 1000\n",
    "plt.plot([t[0], t[-1]], [sthresh, sthresh], '--b', lw=2)\n",
    "plt.plot([t[0], t[-1]], [pthresh, pthresh], '--k', lw=2)\n",
    "\n",
    "sthresh_xing=(s>sthresh).nonzero()[0][0]\n",
    "pthresh_xing=(f>pthresh).nonzero()[0][0]\n",
    "\n",
    "\n",
    "cf=.10\n",
    "height = ry[1]-ry[0]\n",
    "cfl=ry[0]+(height*cf)\n",
    "cfh=ry[1]-(height*cf)\n",
    "\n",
    "cfl_xing=(f>cfl).nonzero()[0][0]\n",
    "cfd_low=f[cfl_xing]\n",
    "cfh_xing=(f>cfh).nonzero()[0][0]\n",
    "cfd_high=f[cfh_xing]\n",
    "\n",
    "#plt.plot([t[cfl_xing], t[-1]],[cfd_low, cfd_low], ':r')\n",
    "#plt.plot([t[cfh_xing], t[-1]],[cfd_high, cfd_high], ':r')\n",
    "#plt.plot([x[1], t[-1]],[y[1], y[1]], ':r')\n",
    "plt.legend([filtered, slope],['Signal', 'Slope'],loc=2)\n",
    "\n",
    "#axr = ax.twinx()\n",
    "##################################################################\n",
    "#yticks=([ry[0],sthresh,pthresh,cfd_high,ry[1]])\n",
    "yticks=([sthresh,pthresh])\n",
    "axr.set_yticks(yticks)\n",
    "#yticklabels=['Start','Slope threshold','Pulse threshold','CF high','Peak']\n",
    "yticklabels=['Slope threshold','Pulse threshold']\n",
    "axr.set_yticklabels(yticklabels, color='r',fontsize=14)\n",
    "axr.get_yticklabels()[0].set_color('b')\n",
    "axr.get_yticklabels()[1].set_color('k')\n",
    "\n",
    "#xticks=([rx[0],t[cfl_xing],t[sthresh_xing],t[pthresh_xing],rx[1]])\n",
    "xticks=(t[cfl_xing],rx[1])\n",
    "#ax.set_xticks([rx[0],t[cfl_xing],t[sthresh_xing],t[pthresh_xing],rx[1]])\n",
    "ax.set_xticks(xticks)\n",
    "#xticklabels=['Start','CF low','Slope xing','Signal xing','Peak']\n",
    "xticklabels=['CF low','Peak']\n",
    "ax.set_xticklabels(xticklabels, color='r',fontsize=14)\n",
    "\n",
    "#plt.plot([t[cfh_xing], t[-1]],[cfd_high, cfd_high], ':r')\n",
    "#horoz start, stop lines\n",
    "#hpeak=ax.plot([xticks[1], t[-1]],[yticks[-1], yticks[-1]], '-.r')\n",
    "#hstart=ax.plot([xticks[0], t[-1]],[yticks[0], yticks[0]], '-.r')\n",
    "#vert start stop\n",
    "vstart=ax.plot([xticks[0], xticks[0]],[cfd_low, ylim[0]], '-.r')\n",
    "vpeak=ax.plot([xticks[1], xticks[1]],[ylim[0], ry[1]], '-.r')\n",
    "\n",
    "plt.tight_layout()\n",
    "plt.savefig('..//peakextraction7.svg')\n",
    "plt.show()\n",
    "print('risetime:',(xticks[1]-xticks[0])/4)\n",
    "print('height:',yticks[-1]-yticks[0])\n",
    "print('time:',(xticks[0]-rx[0])/4)\n",
    "print('area',sum(s[pos_xing[0][0]:neg_xing[0][0]])/256)\n"
   ]
  },
  {
   "cell_type": "code",
   "execution_count": null,
   "metadata": {
    "collapsed": true,
    "run_control": {
     "frozen": false,
     "read_only": false
    }
   },
   "outputs": [],
   "source": [
    "slope_0xings = xings(traces['slope'],0)"
   ]
  },
  {
   "cell_type": "code",
   "execution_count": null,
   "metadata": {
    "collapsed": false,
    "run_control": {
     "frozen": false,
     "read_only": false
    }
   },
   "outputs": [],
   "source": [
    "slope_0xings"
   ]
  },
  {
   "cell_type": "code",
   "execution_count": null,
   "metadata": {
    "collapsed": false,
    "run_control": {
     "frozen": false,
     "read_only": false
    }
   },
   "outputs": [],
   "source": [
    "%matplotlib notebook\n",
    "start=10000\n",
    "width=300\n",
    "plt.plot(traces['filtered'][start:start+width]/2)"
   ]
  },
  {
   "cell_type": "code",
   "execution_count": null,
   "metadata": {
    "collapsed": false,
    "run_control": {
     "frozen": false,
     "read_only": false
    }
   },
   "outputs": [],
   "source": [
    "%matplotlib notebook\n",
    "plt.plot(traces['slope'][20400:21700])"
   ]
  },
  {
   "cell_type": "code",
   "execution_count": null,
   "metadata": {
    "collapsed": false,
    "run_control": {
     "frozen": false,
     "read_only": false
    }
   },
   "outputs": [],
   "source": [
    "filtered=traces['filtered'][1100:]\n",
    "filteredL=traces['filteredL'][1100:]"
   ]
  },
  {
   "cell_type": "code",
   "execution_count": null,
   "metadata": {
    "collapsed": false,
    "run_control": {
     "frozen": false,
     "read_only": false
    }
   },
   "outputs": [],
   "source": [
    "filtered[:10]"
   ]
  },
  {
   "cell_type": "code",
   "execution_count": null,
   "metadata": {
    "collapsed": false,
    "run_control": {
     "frozen": false,
     "read_only": false
    }
   },
   "outputs": [],
   "source": [
    "filteredL[:10]/4"
   ]
  },
  {
   "cell_type": "code",
   "execution_count": null,
   "metadata": {
    "collapsed": false,
    "run_control": {
     "frozen": false,
     "read_only": false
    }
   },
   "outputs": [],
   "source": [
    "minmax_dt=np.dtype([('filtered','i4'),('low','i4'),('high','i4'),('clk','i4')])\n",
    "minmax=Data.fromfile('minmax',minmax_dt,'teslib','measurement_subsystem_TB',tool='vivado')\n",
    "fxing_dt=np.dtype([('extrema','i4'),('area','i4'),('clk','i4')])\n",
    "fxing=Data.fromfile('filteredxing',fxing_dt,'teslib','measurement_subsystem_TB',tool='vivado')"
   ]
  },
  {
   "cell_type": "code",
   "execution_count": null,
   "metadata": {
    "collapsed": false,
    "run_control": {
     "frozen": false,
     "read_only": false
    }
   },
   "outputs": [],
   "source": [
    "minmax"
   ]
  },
  {
   "cell_type": "code",
   "execution_count": null,
   "metadata": {
    "collapsed": false,
    "run_control": {
     "frozen": false,
     "read_only": false
    }
   },
   "outputs": [],
   "source": [
    "fxing"
   ]
  },
  {
   "cell_type": "code",
   "execution_count": null,
   "metadata": {
    "collapsed": false,
    "run_control": {
     "frozen": false,
     "read_only": false
    }
   },
   "outputs": [],
   "source": [
    "np.where(fxing['area']==0)"
   ]
  },
  {
   "cell_type": "code",
   "execution_count": null,
   "metadata": {
    "collapsed": false,
    "run_control": {
     "frozen": false,
     "read_only": false
    }
   },
   "outputs": [],
   "source": [
    "np.where(fxing['extrema']==0)"
   ]
  },
  {
   "cell_type": "code",
   "execution_count": null,
   "metadata": {
    "collapsed": false,
    "run_control": {
     "frozen": false,
     "read_only": false
    }
   },
   "outputs": [],
   "source": [
    "fxing[30]"
   ]
  },
  {
   "cell_type": "code",
   "execution_count": null,
   "metadata": {
    "collapsed": false,
    "run_control": {
     "frozen": false,
     "read_only": false
    }
   },
   "outputs": [],
   "source": [
    "exn=np.where(fxing['extrema']<0)\n",
    "clkn=np.where(fxing['clk']>0)"
   ]
  },
  {
   "cell_type": "code",
   "execution_count": null,
   "metadata": {
    "collapsed": true,
    "run_control": {
     "frozen": false,
     "read_only": false
    }
   },
   "outputs": [],
   "source": []
  },
  {
   "cell_type": "code",
   "execution_count": null,
   "metadata": {
    "collapsed": false,
    "run_control": {
     "frozen": false,
     "read_only": false
    }
   },
   "outputs": [],
   "source": [
    "fxing[374]"
   ]
  },
  {
   "cell_type": "code",
   "execution_count": null,
   "metadata": {
    "collapsed": false,
    "run_control": {
     "frozen": false,
     "read_only": false
    }
   },
   "outputs": [],
   "source": [
    "clkn"
   ]
  },
  {
   "cell_type": "code",
   "execution_count": null,
   "metadata": {
    "collapsed": false,
    "run_control": {
     "frozen": false,
     "read_only": false
    }
   },
   "outputs": [],
   "source": [
    "np.where(minmax[maxs[0]-1]['min']!=1)"
   ]
  },
  {
   "cell_type": "code",
   "execution_count": null,
   "metadata": {
    "collapsed": false,
    "run_control": {
     "frozen": false,
     "read_only": false
    }
   },
   "outputs": [],
   "source": [
    "minmax[maxs[0]-1][65]"
   ]
  },
  {
   "cell_type": "code",
   "execution_count": null,
   "metadata": {
    "collapsed": false,
    "run_control": {
     "frozen": false,
     "read_only": false
    }
   },
   "outputs": [],
   "source": [
    "2290-925"
   ]
  },
  {
   "cell_type": "code",
   "execution_count": null,
   "metadata": {
    "collapsed": false,
    "run_control": {
     "frozen": false,
     "read_only": false
    }
   },
   "outputs": [],
   "source": [
    "0.375*4"
   ]
  },
  {
   "cell_type": "code",
   "execution_count": null,
   "metadata": {
    "collapsed": false,
    "run_control": {
     "frozen": false,
     "read_only": false
    }
   },
   "outputs": [],
   "source": [
    "np.where(minmax['clock']==2290)"
   ]
  },
  {
   "cell_type": "code",
   "execution_count": null,
   "metadata": {
    "collapsed": false,
    "run_control": {
     "frozen": false,
     "read_only": false
    }
   },
   "outputs": [],
   "source": [
    "minmax[120:140]"
   ]
  },
  {
   "cell_type": "code",
   "execution_count": null,
   "metadata": {
    "collapsed": false,
    "run_control": {
     "frozen": false,
     "read_only": false
    }
   },
   "outputs": [],
   "source": [
    "stream_dt=np.dtype([('data','>i4'),('last','i4')])\n",
    "#stream=np.fromfile('data/stream',stream_dt)"
   ]
  },
  {
   "cell_type": "markdown",
   "metadata": {},
   "source": [
    "### bytestream stuff"
   ]
  },
  {
   "cell_type": "code",
   "execution_count": null,
   "metadata": {
    "collapsed": false,
    "run_control": {
     "frozen": false,
     "read_only": false
    }
   },
   "outputs": [],
   "source": [
    "stream_dt=np.dtype([('data','i4'),('last','i4')])\n",
    "stream=Data.fromfile('bytestream',stream_dt,'teslib','measurement_subsystem_TB',tool='vivado')\n",
    "lasts=np.where(stream['last']<=0)[0]+1\n",
    "#data=np.copy(stream['data'])"
   ]
  },
  {
   "cell_type": "code",
   "execution_count": null,
   "metadata": {
    "collapsed": false,
    "run_control": {
     "frozen": false,
     "read_only": false
    }
   },
   "outputs": [],
   "source": [
    "stream"
   ]
  },
  {
   "cell_type": "code",
   "execution_count": null,
   "metadata": {
    "collapsed": true,
    "run_control": {
     "frozen": false,
     "read_only": false
    }
   },
   "outputs": [],
   "source": []
  },
  {
   "cell_type": "code",
   "execution_count": null,
   "metadata": {
    "collapsed": true,
    "run_control": {
     "frozen": false,
     "read_only": false
    }
   },
   "outputs": [],
   "source": [
    "stream=np.fromfile('data/bytestream',stream_dt)"
   ]
  },
  {
   "cell_type": "code",
   "execution_count": null,
   "metadata": {
    "collapsed": false,
    "run_control": {
     "frozen": false,
     "read_only": false
    }
   },
   "outputs": [],
   "source": [
    "bs=PacketStream(stream)"
   ]
  },
  {
   "cell_type": "code",
   "execution_count": null,
   "metadata": {
    "collapsed": false,
    "run_control": {
     "frozen": false,
     "read_only": false
    }
   },
   "outputs": [],
   "source": [
    "bs.packets"
   ]
  },
  {
   "cell_type": "code",
   "execution_count": null,
   "metadata": {
    "collapsed": false,
    "run_control": {
     "frozen": false,
     "read_only": false
    }
   },
   "outputs": [],
   "source": [
    "bs.packets[4]"
   ]
  },
  {
   "cell_type": "code",
   "execution_count": null,
   "metadata": {
    "collapsed": true,
    "run_control": {
     "frozen": false,
     "read_only": false
    }
   },
   "outputs": [],
   "source": [
    "eheader_dt=[('etype','<u2'),('length','u2'),()]"
   ]
  },
  {
   "cell_type": "code",
   "execution_count": null,
   "metadata": {
    "collapsed": false,
    "run_control": {
     "frozen": false,
     "read_only": false
    }
   },
   "outputs": [],
   "source": [
    "'{:X}'.format(bs.packets[1].bytes[23])\n"
   ]
  },
  {
   "cell_type": "code",
   "execution_count": null,
   "metadata": {
    "collapsed": false,
    "run_control": {
     "frozen": false,
     "read_only": false
    }
   },
   "outputs": [],
   "source": [
    "'{:X}'.format(bs.packets[0].bytes[28:30].view(np.uint16)[0])"
   ]
  },
  {
   "cell_type": "code",
   "execution_count": null,
   "metadata": {
    "collapsed": true,
    "run_control": {
     "frozen": false,
     "read_only": false
    }
   },
   "outputs": [],
   "source": [
    "pulse_peak_dt=np.dtype([('height','i2'),('rise','i2'),('minima','u2'),('time','i2')])\n",
    "pulse_dt=np.dtype([('size','i2'),('resv','i2'),('flags','i2'),('time','u2'),\n",
    "                  ('area','i4'),('length','i2'),('offset','i2'),('peaks',(pulse_peak_dt,2))])"
   ]
  },
  {
   "cell_type": "code",
   "execution_count": null,
   "metadata": {
    "collapsed": false,
    "run_control": {
     "frozen": false,
     "read_only": false
    }
   },
   "outputs": [],
   "source": [
    "pulses=bs.packets[3].payload.view(pulse_dt)"
   ]
  },
  {
   "cell_type": "code",
   "execution_count": null,
   "metadata": {
    "collapsed": false,
    "run_control": {
     "frozen": false,
     "read_only": false
    }
   },
   "outputs": [],
   "source": [
    "pulses['peaks']"
   ]
  },
  {
   "cell_type": "code",
   "execution_count": null,
   "metadata": {
    "collapsed": false,
    "run_control": {
     "frozen": false,
     "read_only": false
    }
   },
   "outputs": [],
   "source": [
    "pulses['offset']"
   ]
  },
  {
   "cell_type": "code",
   "execution_count": null,
   "metadata": {
    "collapsed": false,
    "run_control": {
     "frozen": false,
     "read_only": false
    }
   },
   "outputs": [],
   "source": [
    "pulses['length']"
   ]
  },
  {
   "cell_type": "code",
   "execution_count": null,
   "metadata": {
    "collapsed": false,
    "run_control": {
     "frozen": false,
     "read_only": false
    }
   },
   "outputs": [],
   "source": [
    "class eflags:\n",
    "    def __init__(self,uint16):\n",
    "        self.new_window=np.bitwise_and(uint16,0x00000001)!=0\n",
    "        self.tick=np.bitwise_and(uint16,0x00000002)!=0\n",
    "        self.type=np.right_shift(np.bitwise_and(uint16,0x0000000c),2)\n",
    "        \n",
    "    def __repr__(self):\n",
    "        return 'New window:{:}\\n'.format(self.new_window) + \\\n",
    "               'Tick:{:}\\n'.format(self.tick) + \\\n",
    "               'Type:{:}\\n'.format(self.type) "
   ]
  },
  {
   "cell_type": "code",
   "execution_count": null,
   "metadata": {
    "collapsed": false,
    "run_control": {
     "frozen": false,
     "read_only": false
    }
   },
   "outputs": [],
   "source": [
    "f=eflags(pulses[0]['flags'])\n",
    "f"
   ]
  },
  {
   "cell_type": "code",
   "execution_count": null,
   "metadata": {
    "collapsed": false,
    "run_control": {
     "frozen": false,
     "read_only": false
    }
   },
   "outputs": [],
   "source": [
    "'{:X}'.format(bs.packets[3].bytes[13:14].view(np.uint16))"
   ]
  },
  {
   "cell_type": "code",
   "execution_count": null,
   "metadata": {
    "collapsed": true,
    "run_control": {
     "frozen": false,
     "read_only": false
    }
   },
   "outputs": [],
   "source": []
  },
  {
   "cell_type": "code",
   "execution_count": null,
   "metadata": {
    "collapsed": false,
    "run_control": {
     "frozen": false,
     "read_only": false
    }
   },
   "outputs": [],
   "source": [
    "'{:X}'.format(bs.packets[3].bytes[14:16].view(np.uint16)[0])"
   ]
  },
  {
   "cell_type": "code",
   "execution_count": null,
   "metadata": {
    "collapsed": false,
    "run_control": {
     "frozen": false,
     "read_only": false
    }
   },
   "outputs": [],
   "source": [
    "bs.packets[3].bytes[14:16].view(np.uint16)[0]"
   ]
  },
  {
   "cell_type": "code",
   "execution_count": null,
   "metadata": {
    "collapsed": false,
    "run_control": {
     "frozen": false,
     "read_only": false
    }
   },
   "outputs": [],
   "source": [
    "bs=np.uint8(stream['data'][:48])"
   ]
  },
  {
   "cell_type": "code",
   "execution_count": null,
   "metadata": {
    "collapsed": false,
    "run_control": {
     "frozen": false,
     "read_only": false
    }
   },
   "outputs": [],
   "source": [
    "bs"
   ]
  },
  {
   "cell_type": "code",
   "execution_count": null,
   "metadata": {
    "collapsed": false,
    "run_control": {
     "frozen": false,
     "read_only": false
    }
   },
   "outputs": [],
   "source": [
    "events=stream['data'].view(event_dt)"
   ]
  },
  {
   "cell_type": "code",
   "execution_count": null,
   "metadata": {
    "collapsed": false,
    "run_control": {
     "frozen": false,
     "read_only": false
    }
   },
   "outputs": [],
   "source": [
    "'{:X}'.format(events['flags'][0])"
   ]
  },
  {
   "cell_type": "code",
   "execution_count": null,
   "metadata": {
    "collapsed": false,
    "run_control": {
     "frozen": false,
     "read_only": false
    }
   },
   "outputs": [],
   "source": [
    "events['rise']"
   ]
  },
  {
   "cell_type": "code",
   "execution_count": null,
   "metadata": {
    "collapsed": false,
    "run_control": {
     "frozen": false,
     "read_only": false
    }
   },
   "outputs": [],
   "source": [
    "events"
   ]
  },
  {
   "cell_type": "code",
   "execution_count": null,
   "metadata": {
    "collapsed": false,
    "run_control": {
     "frozen": false,
     "read_only": false
    }
   },
   "outputs": [],
   "source": [
    "'{:04X}'.format(events['flags'][1])"
   ]
  },
  {
   "cell_type": "code",
   "execution_count": null,
   "metadata": {
    "collapsed": true,
    "run_control": {
     "frozen": false,
     "read_only": false
    }
   },
   "outputs": [],
   "source": [
    "pulse_peak_dt=np.dtype([('time','>i2'),('minima','>i2'),('rise','>u2'),('height','>i2')])\n",
    "pulse_dt=np.dtype([('time','>i2'),('flags','>i2'),('resv','>i2'),('size','>u2'),\n",
    "                  ('offset','>i2'),('length','>i2'),('area','>i4'),('peaks',(pulse_peak_dt,1))])\n",
    "data=np.copy(stream['data'])"
   ]
  },
  {
   "cell_type": "code",
   "execution_count": null,
   "metadata": {
    "collapsed": false,
    "run_control": {
     "frozen": false,
     "read_only": false
    }
   },
   "outputs": [],
   "source": [
    "pulses=data.view(pulse_dt)"
   ]
  },
  {
   "cell_type": "code",
   "execution_count": null,
   "metadata": {
    "collapsed": false,
    "run_control": {
     "frozen": false,
     "read_only": false
    }
   },
   "outputs": [],
   "source": [
    "pulses['peaks']['height']-pulses['peaks']['minima']"
   ]
  },
  {
   "cell_type": "code",
   "execution_count": null,
   "metadata": {
    "collapsed": false,
    "run_control": {
     "frozen": false,
     "read_only": false
    }
   },
   "outputs": [],
   "source": [
    "pulses['peaks']['minima']"
   ]
  },
  {
   "cell_type": "code",
   "execution_count": null,
   "metadata": {
    "collapsed": false,
    "run_control": {
     "frozen": false,
     "read_only": false
    }
   },
   "outputs": [],
   "source": [
    "peak_count=np.right_shift(np.bitwise_and(pulses['flags'],0xF000),12)\n",
    "peak_overflow=np.bitwise_and(pulses['flags'],0x0800)!=0\n",
    "channel=np.right_shift(np.bitwise_and(pulses['flags'],0x0700),8)\n",
    "timing_type=np.right_shift(np.bitwise_and(pulses['flags'],0x00C0),6)\n",
    "height_type=np.right_shift(np.bitwise_and(pulses['flags'],0x0030),4)\n",
    "event_type=np.right_shift(np.bitwise_and(pulses['flags'],0x000E),1)\n",
    "new_window=np.bitwise_and(pulses['flags'],0x0001)!=0"
   ]
  },
  {
   "cell_type": "code",
   "execution_count": null,
   "metadata": {
    "collapsed": false,
    "run_control": {
     "frozen": false,
     "read_only": false
    }
   },
   "outputs": [],
   "source": [
    "peak_overflow"
   ]
  },
  {
   "cell_type": "code",
   "execution_count": null,
   "metadata": {
    "collapsed": true,
    "run_control": {
     "frozen": false,
     "read_only": false
    }
   },
   "outputs": [],
   "source": [
    "test_dt=np.dtype(\n",
    "    [('time','i2'),('flags','i2'),('rise','u2'),('minima','i2'),('low','u8'),('high','u8')]\n",
    ")\n",
    "test=data.view(test_dt)"
   ]
  },
  {
   "cell_type": "code",
   "execution_count": null,
   "metadata": {
    "collapsed": false,
    "run_control": {
     "frozen": false,
     "read_only": false
    }
   },
   "outputs": [],
   "source": [
    "test"
   ]
  },
  {
   "cell_type": "code",
   "execution_count": null,
   "metadata": {
    "collapsed": false,
    "run_control": {
     "frozen": false,
     "read_only": false
    }
   },
   "outputs": [],
   "source": [
    "test['minima']"
   ]
  },
  {
   "cell_type": "code",
   "execution_count": null,
   "metadata": {
    "collapsed": false,
    "run_control": {
     "frozen": false,
     "read_only": false
    }
   },
   "outputs": [],
   "source": [
    "low1=np.int32(np.right_shift(np.bitwise_and(test['low'],0x03FFFF000000000),36))\n",
    "s=(np.bitwise_and(low1,0x00020000)!=0)*0xFFFC0000\n",
    "low2=np.int32(np.right_shift(np.bitwise_and(test['low'],0x000000FFFFC0000),18))\n",
    "low_threshold=np.int32(np.bitwise_and(test['low'],0x00000000003FFFF))\n",
    "high1=np.int32(np.right_shift(np.bitwise_and(test['high'],0x03FFFF000000000),36))\n",
    "high2=np.int32(np.right_shift(np.bitwise_and(test['high'],0x000000FFFFC0000),18))\n",
    "high_threshold=np.int32(np.bitwise_and(test['high'],0x00000000003FFFF))"
   ]
  },
  {
   "cell_type": "code",
   "execution_count": null,
   "metadata": {
    "collapsed": false,
    "run_control": {
     "frozen": false,
     "read_only": false
    }
   },
   "outputs": [],
   "source": [
    "np.int32(np.bitwise_or(low1,s))/8.0"
   ]
  },
  {
   "cell_type": "code",
   "execution_count": null,
   "metadata": {
    "collapsed": false,
    "run_control": {
     "frozen": false,
     "read_only": false
    }
   },
   "outputs": [],
   "source": [
    "'{:04X}'.format(low1[0])"
   ]
  },
  {
   "cell_type": "code",
   "execution_count": null,
   "metadata": {
    "collapsed": false,
    "run_control": {
     "frozen": false,
     "read_only": false
    }
   },
   "outputs": [],
   "source": [
    "high1/8.0"
   ]
  },
  {
   "cell_type": "code",
   "execution_count": null,
   "metadata": {
    "collapsed": false,
    "run_control": {
     "frozen": false,
     "read_only": false
    }
   },
   "outputs": [],
   "source": [
    "high2/8.0"
   ]
  },
  {
   "cell_type": "code",
   "execution_count": null,
   "metadata": {
    "collapsed": false,
    "run_control": {
     "frozen": false,
     "read_only": false
    }
   },
   "outputs": [],
   "source": [
    "'{:04X}'.format(high_threshold[0])"
   ]
  },
  {
   "cell_type": "code",
   "execution_count": null,
   "metadata": {
    "collapsed": false,
    "run_control": {
     "frozen": false,
     "read_only": false
    }
   },
   "outputs": [],
   "source": [
    "from enum import Enum"
   ]
  },
  {
   "cell_type": "code",
   "execution_count": null,
   "metadata": {
    "collapsed": false,
    "run_control": {
     "frozen": false,
     "read_only": false
    }
   },
   "outputs": [],
   "source": [
    "class VhdlEnum(int, Enum):\n",
    "\n",
    "    def __str__(self):\n",
    "        return self.name.replace(\"-\", \" \")\n",
    "    \n",
    "    def select(self):\n",
    "        return pow(2, self.value)\n",
    "    "
   ]
  },
  {
   "cell_type": "code",
   "execution_count": null,
   "metadata": {
    "collapsed": false,
    "run_control": {
     "frozen": false,
     "read_only": false
    }
   },
   "outputs": [],
   "source": [
    "class Test(VhdlEnum):\n",
    "    a=0\n",
    "    b=1"
   ]
  },
  {
   "cell_type": "code",
   "execution_count": null,
   "metadata": {
    "collapsed": false,
    "run_control": {
     "frozen": false,
     "read_only": false
    }
   },
   "outputs": [],
   "source": [
    "Test(0)"
   ]
  },
  {
   "cell_type": "code",
   "execution_count": null,
   "metadata": {
    "collapsed": true,
    "run_control": {
     "frozen": false,
     "read_only": false
    }
   },
   "outputs": [],
   "source": []
  }
 ],
 "metadata": {
  "anaconda-cloud": {},
  "kernelspec": {
   "display_name": "Python [conda root]",
   "language": "python",
   "name": "conda-root-py"
  },
  "language_info": {
   "codemirror_mode": {
    "name": "ipython",
    "version": 3
   },
   "file_extension": ".py",
   "mimetype": "text/x-python",
   "name": "python",
   "nbconvert_exporter": "python",
   "pygments_lexer": "ipython3",
   "version": "3.5.3"
  }
 },
 "nbformat": 4,
 "nbformat_minor": 1
}
