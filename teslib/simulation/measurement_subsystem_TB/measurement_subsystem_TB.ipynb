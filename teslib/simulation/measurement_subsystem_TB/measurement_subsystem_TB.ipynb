{
 "cells": [
  {
   "cell_type": "markdown",
   "metadata": {},
   "source": [
    "timestamp 0 => clk 20\n",
    "\n",
    "traces start at clk 1"
   ]
  },
  {
   "cell_type": "code",
   "execution_count": null,
   "metadata": {
    "collapsed": false,
    "run_control": {
     "frozen": false,
     "read_only": false
    }
   },
   "outputs": [],
   "source": [
    "#Mac\n",
    "import sys\n",
    "sys.path.append('../../../../interface/python')"
   ]
  },
  {
   "cell_type": "code",
   "execution_count": 33,
   "metadata": {
    "collapsed": false,
    "run_control": {
     "frozen": false,
     "read_only": false
    }
   },
   "outputs": [],
   "source": [
    "from tes.data import Data,PacketStream,Packet,Payload,EventFlags,Event\n",
    "import numpy as np\n",
    "import matplotlib.pyplot as plt"
   ]
  },
  {
   "cell_type": "code",
   "execution_count": 34,
   "metadata": {
    "code_folding": [],
    "collapsed": false,
    "run_control": {
     "frozen": false,
     "read_only": false
    }
   },
   "outputs": [],
   "source": [
    "#NOTE traces[0] corresponts to clk=1\n",
    "trace_dt=np.dtype([('raw','i4'),('filtered','i4'),('slope','i4'),('filteredL','i4')])\n",
    "stream_dt=np.dtype([('data','i4'),('last','i4')])\n",
    "minmax_dt=np.dtype(\n",
    "    [\n",
    "        ('filtered','i4'),('timing_threshold','i4'),\n",
    "        ('height_threshold','i4'),('slope_extrema','i4'),('slope_area','i4'),('clk','i4')\n",
    "    ]\n",
    ")\n",
    "cfd_dt=np.dtype('i4')\n",
    "filteredxing_dt=np.dtype([('extrema','i4'),('area','i4'),('clk','i4')])"
   ]
  },
  {
   "cell_type": "code",
   "execution_count": null,
   "metadata": {
    "collapsed": false,
    "run_control": {
     "frozen": false,
     "read_only": false
    }
   },
   "outputs": [],
   "source": [
    "traces=np.fromfile('data/traces',trace_dt)\n",
    "stream=np.fromfile('data/bytestream',stream_dt)\n",
    "minmax=np.fromfile('data/minmax',minmax_dt)\n",
    "cfd=np.fromfile('data/cfd',cfd_dt)\n",
    "filteredxing=np.fromfile('data/filteredxing',filteredxing_dt)"
   ]
  },
  {
   "cell_type": "code",
   "execution_count": 35,
   "metadata": {
    "collapsed": false,
    "run_control": {
     "frozen": false,
     "read_only": false
    },
    "scrolled": true
   },
   "outputs": [],
   "source": [
    "traces=Data.fromfile('traces',trace_dt,'teslib','measurement_subsystem_TB',tool='vivado')\n",
    "stream=Data.fromfile('bytestream',stream_dt,'teslib','measurement_subsystem_TB',tool='vivado')\n",
    "minmax=Data.fromfile('minmax',minmax_dt,'teslib','measurement_subsystem_TB',tool='vivado')\n",
    "cfd=Data.fromfile('cfd',cfd_dt,'teslib','measurement_subsystem_TB',tool='vivado')\n",
    "filteredxing=Data.fromfile(\n",
    "    'filteredxing',filteredxing_dt,'teslib','measurement_subsystem_TB',tool='vivado'\n",
    ")"
   ]
  },
  {
   "cell_type": "code",
   "execution_count": null,
   "metadata": {
    "collapsed": false,
    "run_control": {
     "frozen": false,
     "read_only": false
    },
    "scrolled": true
   },
   "outputs": [],
   "source": [
    "# Mac\n",
    "traces=Data.fromfile(\n",
    "    'traces',trace_dt,'teslib','measurement_subsystem_TB',tool='vivado',\n",
    "    root='/Volumes/C/'\n",
    ")\n",
    "stream=Data.fromfile(\n",
    "    'bytestream',stream_dt,'teslib','measurement_subsystem_TB',tool='vivado',\n",
    "    root='/Volumes/C/'\n",
    ")\n",
    "minmax=Data.fromfile(\n",
    "    'minmax',minmax_dt,'teslib','measurement_subsystem_TB',tool='vivado',\n",
    "    root='/Volumes/C/'\n",
    ")\n",
    "cfd=Data.fromfile(\n",
    "    'cfd',cfd_dt,'teslib','measurement_subsystem_TB',tool='vivado',\n",
    "    root='/Volumes/C/'\n",
    ")\n",
    "filteredxing=Data.fromfile(\n",
    "    'filteredxing',filteredxing_dt,'teslib','measurement_subsystem_TB',\n",
    "    tool='vivado',root='/Volumes/C/'\n",
    ")"
   ]
  },
  {
   "cell_type": "code",
   "execution_count": 40,
   "metadata": {
    "collapsed": true
   },
   "outputs": [],
   "source": [
    "def plot_event(event_tupple):\n",
    "    pre=200\n",
    "    post=1000\n",
    "    timestamp=event_tupple[0]\n",
    "    event_type=event_tupple[1]\n",
    "    event=event_tupple[2]\n",
    "    flags=EventFlags(event['flags'])\n",
    "    print(flags)\n",
    "    print('timestamp',timestamp, 'time', event['time'],'height',event['height'],'min',event['minima'])\n",
    "    if flags.type == Event.tick:\n",
    "        return\n",
    "    s=traces['filtered'][timestamp+20-pre:timestamp+20+post]\n",
    "    r=traces['raw'][timestamp+20-pre:timestamp+20+post]\n",
    "    i = np.where(abs(minmax['clk'])<=timestamp+20)[0][-1]\n",
    "    min_t=abs(minmax['clk'][i])-(timestamp+20)\n",
    "#     print(minmax['clk'][i],min_t,i,timestamp)\n",
    "    #plt.plot(r,'k',linewidth=0.5)\n",
    "    plt.plot(s,'b',linewidth=1)\n",
    "    #plt.plot([pre],s[pre],'sg')\n",
    "    #plt.plot([pre+min_t],minmax['filtered'][i],'sr')\n",
    "    if event_type==Event.pulse:\n",
    "        for i in range(flags.peak_number):\n",
    "            p=event['peaks'][i]\n",
    "            plt.plot([0,len(s)-1],[p['height'],p['height']],':r')\n",
    "    else:\n",
    "      plt.plot([0,len(s)-1],[event['height'],event['height']],':r')\n",
    "        \n",
    "    #print(event['height'],event['minima'])\n",
    "    #print(minmax['filtered'][i]==s[pre+min_t])\n",
    "    #print(minmax['filtered'][i]==event['minima'])\n",
    "    #print(s[pre],s[pre-1])"
   ]
  },
  {
   "cell_type": "code",
   "execution_count": 60,
   "metadata": {
    "collapsed": false,
    "run_control": {
     "frozen": false,
     "read_only": false
    },
    "scrolled": false
   },
   "outputs": [
    {
     "data": {
      "application/javascript": [
       "/* Put everything inside the global mpl namespace */\n",
       "window.mpl = {};\n",
       "\n",
       "\n",
       "mpl.get_websocket_type = function() {\n",
       "    if (typeof(WebSocket) !== 'undefined') {\n",
       "        return WebSocket;\n",
       "    } else if (typeof(MozWebSocket) !== 'undefined') {\n",
       "        return MozWebSocket;\n",
       "    } else {\n",
       "        alert('Your browser does not have WebSocket support.' +\n",
       "              'Please try Chrome, Safari or Firefox ≥ 6. ' +\n",
       "              'Firefox 4 and 5 are also supported but you ' +\n",
       "              'have to enable WebSockets in about:config.');\n",
       "    };\n",
       "}\n",
       "\n",
       "mpl.figure = function(figure_id, websocket, ondownload, parent_element) {\n",
       "    this.id = figure_id;\n",
       "\n",
       "    this.ws = websocket;\n",
       "\n",
       "    this.supports_binary = (this.ws.binaryType != undefined);\n",
       "\n",
       "    if (!this.supports_binary) {\n",
       "        var warnings = document.getElementById(\"mpl-warnings\");\n",
       "        if (warnings) {\n",
       "            warnings.style.display = 'block';\n",
       "            warnings.textContent = (\n",
       "                \"This browser does not support binary websocket messages. \" +\n",
       "                    \"Performance may be slow.\");\n",
       "        }\n",
       "    }\n",
       "\n",
       "    this.imageObj = new Image();\n",
       "\n",
       "    this.context = undefined;\n",
       "    this.message = undefined;\n",
       "    this.canvas = undefined;\n",
       "    this.rubberband_canvas = undefined;\n",
       "    this.rubberband_context = undefined;\n",
       "    this.format_dropdown = undefined;\n",
       "\n",
       "    this.image_mode = 'full';\n",
       "\n",
       "    this.root = $('<div/>');\n",
       "    this._root_extra_style(this.root)\n",
       "    this.root.attr('style', 'display: inline-block');\n",
       "\n",
       "    $(parent_element).append(this.root);\n",
       "\n",
       "    this._init_header(this);\n",
       "    this._init_canvas(this);\n",
       "    this._init_toolbar(this);\n",
       "\n",
       "    var fig = this;\n",
       "\n",
       "    this.waiting = false;\n",
       "\n",
       "    this.ws.onopen =  function () {\n",
       "            fig.send_message(\"supports_binary\", {value: fig.supports_binary});\n",
       "            fig.send_message(\"send_image_mode\", {});\n",
       "            if (mpl.ratio != 1) {\n",
       "                fig.send_message(\"set_dpi_ratio\", {'dpi_ratio': mpl.ratio});\n",
       "            }\n",
       "            fig.send_message(\"refresh\", {});\n",
       "        }\n",
       "\n",
       "    this.imageObj.onload = function() {\n",
       "            if (fig.image_mode == 'full') {\n",
       "                // Full images could contain transparency (where diff images\n",
       "                // almost always do), so we need to clear the canvas so that\n",
       "                // there is no ghosting.\n",
       "                fig.context.clearRect(0, 0, fig.canvas.width, fig.canvas.height);\n",
       "            }\n",
       "            fig.context.drawImage(fig.imageObj, 0, 0);\n",
       "        };\n",
       "\n",
       "    this.imageObj.onunload = function() {\n",
       "        this.ws.close();\n",
       "    }\n",
       "\n",
       "    this.ws.onmessage = this._make_on_message_function(this);\n",
       "\n",
       "    this.ondownload = ondownload;\n",
       "}\n",
       "\n",
       "mpl.figure.prototype._init_header = function() {\n",
       "    var titlebar = $(\n",
       "        '<div class=\"ui-dialog-titlebar ui-widget-header ui-corner-all ' +\n",
       "        'ui-helper-clearfix\"/>');\n",
       "    var titletext = $(\n",
       "        '<div class=\"ui-dialog-title\" style=\"width: 100%; ' +\n",
       "        'text-align: center; padding: 3px;\"/>');\n",
       "    titlebar.append(titletext)\n",
       "    this.root.append(titlebar);\n",
       "    this.header = titletext[0];\n",
       "}\n",
       "\n",
       "\n",
       "\n",
       "mpl.figure.prototype._canvas_extra_style = function(canvas_div) {\n",
       "\n",
       "}\n",
       "\n",
       "\n",
       "mpl.figure.prototype._root_extra_style = function(canvas_div) {\n",
       "\n",
       "}\n",
       "\n",
       "mpl.figure.prototype._init_canvas = function() {\n",
       "    var fig = this;\n",
       "\n",
       "    var canvas_div = $('<div/>');\n",
       "\n",
       "    canvas_div.attr('style', 'position: relative; clear: both; outline: 0');\n",
       "\n",
       "    function canvas_keyboard_event(event) {\n",
       "        return fig.key_event(event, event['data']);\n",
       "    }\n",
       "\n",
       "    canvas_div.keydown('key_press', canvas_keyboard_event);\n",
       "    canvas_div.keyup('key_release', canvas_keyboard_event);\n",
       "    this.canvas_div = canvas_div\n",
       "    this._canvas_extra_style(canvas_div)\n",
       "    this.root.append(canvas_div);\n",
       "\n",
       "    var canvas = $('<canvas/>');\n",
       "    canvas.addClass('mpl-canvas');\n",
       "    canvas.attr('style', \"left: 0; top: 0; z-index: 0; outline: 0\")\n",
       "\n",
       "    this.canvas = canvas[0];\n",
       "    this.context = canvas[0].getContext(\"2d\");\n",
       "\n",
       "    var backingStore = this.context.backingStorePixelRatio ||\n",
       "\tthis.context.webkitBackingStorePixelRatio ||\n",
       "\tthis.context.mozBackingStorePixelRatio ||\n",
       "\tthis.context.msBackingStorePixelRatio ||\n",
       "\tthis.context.oBackingStorePixelRatio ||\n",
       "\tthis.context.backingStorePixelRatio || 1;\n",
       "\n",
       "    mpl.ratio = (window.devicePixelRatio || 1) / backingStore;\n",
       "\n",
       "    var rubberband = $('<canvas/>');\n",
       "    rubberband.attr('style', \"position: absolute; left: 0; top: 0; z-index: 1;\")\n",
       "\n",
       "    var pass_mouse_events = true;\n",
       "\n",
       "    canvas_div.resizable({\n",
       "        start: function(event, ui) {\n",
       "            pass_mouse_events = false;\n",
       "        },\n",
       "        resize: function(event, ui) {\n",
       "            fig.request_resize(ui.size.width, ui.size.height);\n",
       "        },\n",
       "        stop: function(event, ui) {\n",
       "            pass_mouse_events = true;\n",
       "            fig.request_resize(ui.size.width, ui.size.height);\n",
       "        },\n",
       "    });\n",
       "\n",
       "    function mouse_event_fn(event) {\n",
       "        if (pass_mouse_events)\n",
       "            return fig.mouse_event(event, event['data']);\n",
       "    }\n",
       "\n",
       "    rubberband.mousedown('button_press', mouse_event_fn);\n",
       "    rubberband.mouseup('button_release', mouse_event_fn);\n",
       "    // Throttle sequential mouse events to 1 every 20ms.\n",
       "    rubberband.mousemove('motion_notify', mouse_event_fn);\n",
       "\n",
       "    rubberband.mouseenter('figure_enter', mouse_event_fn);\n",
       "    rubberband.mouseleave('figure_leave', mouse_event_fn);\n",
       "\n",
       "    canvas_div.on(\"wheel\", function (event) {\n",
       "        event = event.originalEvent;\n",
       "        event['data'] = 'scroll'\n",
       "        if (event.deltaY < 0) {\n",
       "            event.step = 1;\n",
       "        } else {\n",
       "            event.step = -1;\n",
       "        }\n",
       "        mouse_event_fn(event);\n",
       "    });\n",
       "\n",
       "    canvas_div.append(canvas);\n",
       "    canvas_div.append(rubberband);\n",
       "\n",
       "    this.rubberband = rubberband;\n",
       "    this.rubberband_canvas = rubberband[0];\n",
       "    this.rubberband_context = rubberband[0].getContext(\"2d\");\n",
       "    this.rubberband_context.strokeStyle = \"#000000\";\n",
       "\n",
       "    this._resize_canvas = function(width, height) {\n",
       "        // Keep the size of the canvas, canvas container, and rubber band\n",
       "        // canvas in synch.\n",
       "        canvas_div.css('width', width)\n",
       "        canvas_div.css('height', height)\n",
       "\n",
       "        canvas.attr('width', width * mpl.ratio);\n",
       "        canvas.attr('height', height * mpl.ratio);\n",
       "        canvas.attr('style', 'width: ' + width + 'px; height: ' + height + 'px;');\n",
       "\n",
       "        rubberband.attr('width', width);\n",
       "        rubberband.attr('height', height);\n",
       "    }\n",
       "\n",
       "    // Set the figure to an initial 600x600px, this will subsequently be updated\n",
       "    // upon first draw.\n",
       "    this._resize_canvas(600, 600);\n",
       "\n",
       "    // Disable right mouse context menu.\n",
       "    $(this.rubberband_canvas).bind(\"contextmenu\",function(e){\n",
       "        return false;\n",
       "    });\n",
       "\n",
       "    function set_focus () {\n",
       "        canvas.focus();\n",
       "        canvas_div.focus();\n",
       "    }\n",
       "\n",
       "    window.setTimeout(set_focus, 100);\n",
       "}\n",
       "\n",
       "mpl.figure.prototype._init_toolbar = function() {\n",
       "    var fig = this;\n",
       "\n",
       "    var nav_element = $('<div/>')\n",
       "    nav_element.attr('style', 'width: 100%');\n",
       "    this.root.append(nav_element);\n",
       "\n",
       "    // Define a callback function for later on.\n",
       "    function toolbar_event(event) {\n",
       "        return fig.toolbar_button_onclick(event['data']);\n",
       "    }\n",
       "    function toolbar_mouse_event(event) {\n",
       "        return fig.toolbar_button_onmouseover(event['data']);\n",
       "    }\n",
       "\n",
       "    for(var toolbar_ind in mpl.toolbar_items) {\n",
       "        var name = mpl.toolbar_items[toolbar_ind][0];\n",
       "        var tooltip = mpl.toolbar_items[toolbar_ind][1];\n",
       "        var image = mpl.toolbar_items[toolbar_ind][2];\n",
       "        var method_name = mpl.toolbar_items[toolbar_ind][3];\n",
       "\n",
       "        if (!name) {\n",
       "            // put a spacer in here.\n",
       "            continue;\n",
       "        }\n",
       "        var button = $('<button/>');\n",
       "        button.addClass('ui-button ui-widget ui-state-default ui-corner-all ' +\n",
       "                        'ui-button-icon-only');\n",
       "        button.attr('role', 'button');\n",
       "        button.attr('aria-disabled', 'false');\n",
       "        button.click(method_name, toolbar_event);\n",
       "        button.mouseover(tooltip, toolbar_mouse_event);\n",
       "\n",
       "        var icon_img = $('<span/>');\n",
       "        icon_img.addClass('ui-button-icon-primary ui-icon');\n",
       "        icon_img.addClass(image);\n",
       "        icon_img.addClass('ui-corner-all');\n",
       "\n",
       "        var tooltip_span = $('<span/>');\n",
       "        tooltip_span.addClass('ui-button-text');\n",
       "        tooltip_span.html(tooltip);\n",
       "\n",
       "        button.append(icon_img);\n",
       "        button.append(tooltip_span);\n",
       "\n",
       "        nav_element.append(button);\n",
       "    }\n",
       "\n",
       "    var fmt_picker_span = $('<span/>');\n",
       "\n",
       "    var fmt_picker = $('<select/>');\n",
       "    fmt_picker.addClass('mpl-toolbar-option ui-widget ui-widget-content');\n",
       "    fmt_picker_span.append(fmt_picker);\n",
       "    nav_element.append(fmt_picker_span);\n",
       "    this.format_dropdown = fmt_picker[0];\n",
       "\n",
       "    for (var ind in mpl.extensions) {\n",
       "        var fmt = mpl.extensions[ind];\n",
       "        var option = $(\n",
       "            '<option/>', {selected: fmt === mpl.default_extension}).html(fmt);\n",
       "        fmt_picker.append(option)\n",
       "    }\n",
       "\n",
       "    // Add hover states to the ui-buttons\n",
       "    $( \".ui-button\" ).hover(\n",
       "        function() { $(this).addClass(\"ui-state-hover\");},\n",
       "        function() { $(this).removeClass(\"ui-state-hover\");}\n",
       "    );\n",
       "\n",
       "    var status_bar = $('<span class=\"mpl-message\"/>');\n",
       "    nav_element.append(status_bar);\n",
       "    this.message = status_bar[0];\n",
       "}\n",
       "\n",
       "mpl.figure.prototype.request_resize = function(x_pixels, y_pixels) {\n",
       "    // Request matplotlib to resize the figure. Matplotlib will then trigger a resize in the client,\n",
       "    // which will in turn request a refresh of the image.\n",
       "    this.send_message('resize', {'width': x_pixels, 'height': y_pixels});\n",
       "}\n",
       "\n",
       "mpl.figure.prototype.send_message = function(type, properties) {\n",
       "    properties['type'] = type;\n",
       "    properties['figure_id'] = this.id;\n",
       "    this.ws.send(JSON.stringify(properties));\n",
       "}\n",
       "\n",
       "mpl.figure.prototype.send_draw_message = function() {\n",
       "    if (!this.waiting) {\n",
       "        this.waiting = true;\n",
       "        this.ws.send(JSON.stringify({type: \"draw\", figure_id: this.id}));\n",
       "    }\n",
       "}\n",
       "\n",
       "\n",
       "mpl.figure.prototype.handle_save = function(fig, msg) {\n",
       "    var format_dropdown = fig.format_dropdown;\n",
       "    var format = format_dropdown.options[format_dropdown.selectedIndex].value;\n",
       "    fig.ondownload(fig, format);\n",
       "}\n",
       "\n",
       "\n",
       "mpl.figure.prototype.handle_resize = function(fig, msg) {\n",
       "    var size = msg['size'];\n",
       "    if (size[0] != fig.canvas.width || size[1] != fig.canvas.height) {\n",
       "        fig._resize_canvas(size[0], size[1]);\n",
       "        fig.send_message(\"refresh\", {});\n",
       "    };\n",
       "}\n",
       "\n",
       "mpl.figure.prototype.handle_rubberband = function(fig, msg) {\n",
       "    var x0 = msg['x0'] / mpl.ratio;\n",
       "    var y0 = (fig.canvas.height - msg['y0']) / mpl.ratio;\n",
       "    var x1 = msg['x1'] / mpl.ratio;\n",
       "    var y1 = (fig.canvas.height - msg['y1']) / mpl.ratio;\n",
       "    x0 = Math.floor(x0) + 0.5;\n",
       "    y0 = Math.floor(y0) + 0.5;\n",
       "    x1 = Math.floor(x1) + 0.5;\n",
       "    y1 = Math.floor(y1) + 0.5;\n",
       "    var min_x = Math.min(x0, x1);\n",
       "    var min_y = Math.min(y0, y1);\n",
       "    var width = Math.abs(x1 - x0);\n",
       "    var height = Math.abs(y1 - y0);\n",
       "\n",
       "    fig.rubberband_context.clearRect(\n",
       "        0, 0, fig.canvas.width, fig.canvas.height);\n",
       "\n",
       "    fig.rubberband_context.strokeRect(min_x, min_y, width, height);\n",
       "}\n",
       "\n",
       "mpl.figure.prototype.handle_figure_label = function(fig, msg) {\n",
       "    // Updates the figure title.\n",
       "    fig.header.textContent = msg['label'];\n",
       "}\n",
       "\n",
       "mpl.figure.prototype.handle_cursor = function(fig, msg) {\n",
       "    var cursor = msg['cursor'];\n",
       "    switch(cursor)\n",
       "    {\n",
       "    case 0:\n",
       "        cursor = 'pointer';\n",
       "        break;\n",
       "    case 1:\n",
       "        cursor = 'default';\n",
       "        break;\n",
       "    case 2:\n",
       "        cursor = 'crosshair';\n",
       "        break;\n",
       "    case 3:\n",
       "        cursor = 'move';\n",
       "        break;\n",
       "    }\n",
       "    fig.rubberband_canvas.style.cursor = cursor;\n",
       "}\n",
       "\n",
       "mpl.figure.prototype.handle_message = function(fig, msg) {\n",
       "    fig.message.textContent = msg['message'];\n",
       "}\n",
       "\n",
       "mpl.figure.prototype.handle_draw = function(fig, msg) {\n",
       "    // Request the server to send over a new figure.\n",
       "    fig.send_draw_message();\n",
       "}\n",
       "\n",
       "mpl.figure.prototype.handle_image_mode = function(fig, msg) {\n",
       "    fig.image_mode = msg['mode'];\n",
       "}\n",
       "\n",
       "mpl.figure.prototype.updated_canvas_event = function() {\n",
       "    // Called whenever the canvas gets updated.\n",
       "    this.send_message(\"ack\", {});\n",
       "}\n",
       "\n",
       "// A function to construct a web socket function for onmessage handling.\n",
       "// Called in the figure constructor.\n",
       "mpl.figure.prototype._make_on_message_function = function(fig) {\n",
       "    return function socket_on_message(evt) {\n",
       "        if (evt.data instanceof Blob) {\n",
       "            /* FIXME: We get \"Resource interpreted as Image but\n",
       "             * transferred with MIME type text/plain:\" errors on\n",
       "             * Chrome.  But how to set the MIME type?  It doesn't seem\n",
       "             * to be part of the websocket stream */\n",
       "            evt.data.type = \"image/png\";\n",
       "\n",
       "            /* Free the memory for the previous frames */\n",
       "            if (fig.imageObj.src) {\n",
       "                (window.URL || window.webkitURL).revokeObjectURL(\n",
       "                    fig.imageObj.src);\n",
       "            }\n",
       "\n",
       "            fig.imageObj.src = (window.URL || window.webkitURL).createObjectURL(\n",
       "                evt.data);\n",
       "            fig.updated_canvas_event();\n",
       "            fig.waiting = false;\n",
       "            return;\n",
       "        }\n",
       "        else if (typeof evt.data === 'string' && evt.data.slice(0, 21) == \"data:image/png;base64\") {\n",
       "            fig.imageObj.src = evt.data;\n",
       "            fig.updated_canvas_event();\n",
       "            fig.waiting = false;\n",
       "            return;\n",
       "        }\n",
       "\n",
       "        var msg = JSON.parse(evt.data);\n",
       "        var msg_type = msg['type'];\n",
       "\n",
       "        // Call the  \"handle_{type}\" callback, which takes\n",
       "        // the figure and JSON message as its only arguments.\n",
       "        try {\n",
       "            var callback = fig[\"handle_\" + msg_type];\n",
       "        } catch (e) {\n",
       "            console.log(\"No handler for the '\" + msg_type + \"' message type: \", msg);\n",
       "            return;\n",
       "        }\n",
       "\n",
       "        if (callback) {\n",
       "            try {\n",
       "                // console.log(\"Handling '\" + msg_type + \"' message: \", msg);\n",
       "                callback(fig, msg);\n",
       "            } catch (e) {\n",
       "                console.log(\"Exception inside the 'handler_\" + msg_type + \"' callback:\", e, e.stack, msg);\n",
       "            }\n",
       "        }\n",
       "    };\n",
       "}\n",
       "\n",
       "// from http://stackoverflow.com/questions/1114465/getting-mouse-location-in-canvas\n",
       "mpl.findpos = function(e) {\n",
       "    //this section is from http://www.quirksmode.org/js/events_properties.html\n",
       "    var targ;\n",
       "    if (!e)\n",
       "        e = window.event;\n",
       "    if (e.target)\n",
       "        targ = e.target;\n",
       "    else if (e.srcElement)\n",
       "        targ = e.srcElement;\n",
       "    if (targ.nodeType == 3) // defeat Safari bug\n",
       "        targ = targ.parentNode;\n",
       "\n",
       "    // jQuery normalizes the pageX and pageY\n",
       "    // pageX,Y are the mouse positions relative to the document\n",
       "    // offset() returns the position of the element relative to the document\n",
       "    var x = e.pageX - $(targ).offset().left;\n",
       "    var y = e.pageY - $(targ).offset().top;\n",
       "\n",
       "    return {\"x\": x, \"y\": y};\n",
       "};\n",
       "\n",
       "/*\n",
       " * return a copy of an object with only non-object keys\n",
       " * we need this to avoid circular references\n",
       " * http://stackoverflow.com/a/24161582/3208463\n",
       " */\n",
       "function simpleKeys (original) {\n",
       "  return Object.keys(original).reduce(function (obj, key) {\n",
       "    if (typeof original[key] !== 'object')\n",
       "        obj[key] = original[key]\n",
       "    return obj;\n",
       "  }, {});\n",
       "}\n",
       "\n",
       "mpl.figure.prototype.mouse_event = function(event, name) {\n",
       "    var canvas_pos = mpl.findpos(event)\n",
       "\n",
       "    if (name === 'button_press')\n",
       "    {\n",
       "        this.canvas.focus();\n",
       "        this.canvas_div.focus();\n",
       "    }\n",
       "\n",
       "    var x = canvas_pos.x * mpl.ratio;\n",
       "    var y = canvas_pos.y * mpl.ratio;\n",
       "\n",
       "    this.send_message(name, {x: x, y: y, button: event.button,\n",
       "                             step: event.step,\n",
       "                             guiEvent: simpleKeys(event)});\n",
       "\n",
       "    /* This prevents the web browser from automatically changing to\n",
       "     * the text insertion cursor when the button is pressed.  We want\n",
       "     * to control all of the cursor setting manually through the\n",
       "     * 'cursor' event from matplotlib */\n",
       "    event.preventDefault();\n",
       "    return false;\n",
       "}\n",
       "\n",
       "mpl.figure.prototype._key_event_extra = function(event, name) {\n",
       "    // Handle any extra behaviour associated with a key event\n",
       "}\n",
       "\n",
       "mpl.figure.prototype.key_event = function(event, name) {\n",
       "\n",
       "    // Prevent repeat events\n",
       "    if (name == 'key_press')\n",
       "    {\n",
       "        if (event.which === this._key)\n",
       "            return;\n",
       "        else\n",
       "            this._key = event.which;\n",
       "    }\n",
       "    if (name == 'key_release')\n",
       "        this._key = null;\n",
       "\n",
       "    var value = '';\n",
       "    if (event.ctrlKey && event.which != 17)\n",
       "        value += \"ctrl+\";\n",
       "    if (event.altKey && event.which != 18)\n",
       "        value += \"alt+\";\n",
       "    if (event.shiftKey && event.which != 16)\n",
       "        value += \"shift+\";\n",
       "\n",
       "    value += 'k';\n",
       "    value += event.which.toString();\n",
       "\n",
       "    this._key_event_extra(event, name);\n",
       "\n",
       "    this.send_message(name, {key: value,\n",
       "                             guiEvent: simpleKeys(event)});\n",
       "    return false;\n",
       "}\n",
       "\n",
       "mpl.figure.prototype.toolbar_button_onclick = function(name) {\n",
       "    if (name == 'download') {\n",
       "        this.handle_save(this, null);\n",
       "    } else {\n",
       "        this.send_message(\"toolbar_button\", {name: name});\n",
       "    }\n",
       "};\n",
       "\n",
       "mpl.figure.prototype.toolbar_button_onmouseover = function(tooltip) {\n",
       "    this.message.textContent = tooltip;\n",
       "};\n",
       "mpl.toolbar_items = [[\"Home\", \"Reset original view\", \"fa fa-home icon-home\", \"home\"], [\"Back\", \"Back to  previous view\", \"fa fa-arrow-left icon-arrow-left\", \"back\"], [\"Forward\", \"Forward to next view\", \"fa fa-arrow-right icon-arrow-right\", \"forward\"], [\"\", \"\", \"\", \"\"], [\"Pan\", \"Pan axes with left mouse, zoom with right\", \"fa fa-arrows icon-move\", \"pan\"], [\"Zoom\", \"Zoom to rectangle\", \"fa fa-square-o icon-check-empty\", \"zoom\"], [\"\", \"\", \"\", \"\"], [\"Download\", \"Download plot\", \"fa fa-floppy-o icon-save\", \"download\"]];\n",
       "\n",
       "mpl.extensions = [\"eps\", \"jpeg\", \"pdf\", \"png\", \"ps\", \"raw\", \"svg\", \"tif\"];\n",
       "\n",
       "mpl.default_extension = \"png\";var comm_websocket_adapter = function(comm) {\n",
       "    // Create a \"websocket\"-like object which calls the given IPython comm\n",
       "    // object with the appropriate methods. Currently this is a non binary\n",
       "    // socket, so there is still some room for performance tuning.\n",
       "    var ws = {};\n",
       "\n",
       "    ws.close = function() {\n",
       "        comm.close()\n",
       "    };\n",
       "    ws.send = function(m) {\n",
       "        //console.log('sending', m);\n",
       "        comm.send(m);\n",
       "    };\n",
       "    // Register the callback with on_msg.\n",
       "    comm.on_msg(function(msg) {\n",
       "        //console.log('receiving', msg['content']['data'], msg);\n",
       "        // Pass the mpl event to the overriden (by mpl) onmessage function.\n",
       "        ws.onmessage(msg['content']['data'])\n",
       "    });\n",
       "    return ws;\n",
       "}\n",
       "\n",
       "mpl.mpl_figure_comm = function(comm, msg) {\n",
       "    // This is the function which gets called when the mpl process\n",
       "    // starts-up an IPython Comm through the \"matplotlib\" channel.\n",
       "\n",
       "    var id = msg.content.data.id;\n",
       "    // Get hold of the div created by the display call when the Comm\n",
       "    // socket was opened in Python.\n",
       "    var element = $(\"#\" + id);\n",
       "    var ws_proxy = comm_websocket_adapter(comm)\n",
       "\n",
       "    function ondownload(figure, format) {\n",
       "        window.open(figure.imageObj.src);\n",
       "    }\n",
       "\n",
       "    var fig = new mpl.figure(id, ws_proxy,\n",
       "                           ondownload,\n",
       "                           element.get(0));\n",
       "\n",
       "    // Call onopen now - mpl needs it, as it is assuming we've passed it a real\n",
       "    // web socket which is closed, not our websocket->open comm proxy.\n",
       "    ws_proxy.onopen();\n",
       "\n",
       "    fig.parent_element = element.get(0);\n",
       "    fig.cell_info = mpl.find_output_cell(\"<div id='\" + id + \"'></div>\");\n",
       "    if (!fig.cell_info) {\n",
       "        console.error(\"Failed to find cell for figure\", id, fig);\n",
       "        return;\n",
       "    }\n",
       "\n",
       "    var output_index = fig.cell_info[2]\n",
       "    var cell = fig.cell_info[0];\n",
       "\n",
       "};\n",
       "\n",
       "mpl.figure.prototype.handle_close = function(fig, msg) {\n",
       "    var width = fig.canvas.width/mpl.ratio\n",
       "    fig.root.unbind('remove')\n",
       "\n",
       "    // Update the output cell to use the data from the current canvas.\n",
       "    fig.push_to_output();\n",
       "    var dataURL = fig.canvas.toDataURL();\n",
       "    // Re-enable the keyboard manager in IPython - without this line, in FF,\n",
       "    // the notebook keyboard shortcuts fail.\n",
       "    IPython.keyboard_manager.enable()\n",
       "    $(fig.parent_element).html('<img src=\"' + dataURL + '\" width=\"' + width + '\">');\n",
       "    fig.close_ws(fig, msg);\n",
       "}\n",
       "\n",
       "mpl.figure.prototype.close_ws = function(fig, msg){\n",
       "    fig.send_message('closing', msg);\n",
       "    // fig.ws.close()\n",
       "}\n",
       "\n",
       "mpl.figure.prototype.push_to_output = function(remove_interactive) {\n",
       "    // Turn the data on the canvas into data in the output cell.\n",
       "    var width = this.canvas.width/mpl.ratio\n",
       "    var dataURL = this.canvas.toDataURL();\n",
       "    this.cell_info[1]['text/html'] = '<img src=\"' + dataURL + '\" width=\"' + width + '\">';\n",
       "}\n",
       "\n",
       "mpl.figure.prototype.updated_canvas_event = function() {\n",
       "    // Tell IPython that the notebook contents must change.\n",
       "    IPython.notebook.set_dirty(true);\n",
       "    this.send_message(\"ack\", {});\n",
       "    var fig = this;\n",
       "    // Wait a second, then push the new image to the DOM so\n",
       "    // that it is saved nicely (might be nice to debounce this).\n",
       "    setTimeout(function () { fig.push_to_output() }, 1000);\n",
       "}\n",
       "\n",
       "mpl.figure.prototype._init_toolbar = function() {\n",
       "    var fig = this;\n",
       "\n",
       "    var nav_element = $('<div/>')\n",
       "    nav_element.attr('style', 'width: 100%');\n",
       "    this.root.append(nav_element);\n",
       "\n",
       "    // Define a callback function for later on.\n",
       "    function toolbar_event(event) {\n",
       "        return fig.toolbar_button_onclick(event['data']);\n",
       "    }\n",
       "    function toolbar_mouse_event(event) {\n",
       "        return fig.toolbar_button_onmouseover(event['data']);\n",
       "    }\n",
       "\n",
       "    for(var toolbar_ind in mpl.toolbar_items){\n",
       "        var name = mpl.toolbar_items[toolbar_ind][0];\n",
       "        var tooltip = mpl.toolbar_items[toolbar_ind][1];\n",
       "        var image = mpl.toolbar_items[toolbar_ind][2];\n",
       "        var method_name = mpl.toolbar_items[toolbar_ind][3];\n",
       "\n",
       "        if (!name) { continue; };\n",
       "\n",
       "        var button = $('<button class=\"btn btn-default\" href=\"#\" title=\"' + name + '\"><i class=\"fa ' + image + ' fa-lg\"></i></button>');\n",
       "        button.click(method_name, toolbar_event);\n",
       "        button.mouseover(tooltip, toolbar_mouse_event);\n",
       "        nav_element.append(button);\n",
       "    }\n",
       "\n",
       "    // Add the status bar.\n",
       "    var status_bar = $('<span class=\"mpl-message\" style=\"text-align:right; float: right;\"/>');\n",
       "    nav_element.append(status_bar);\n",
       "    this.message = status_bar[0];\n",
       "\n",
       "    // Add the close button to the window.\n",
       "    var buttongrp = $('<div class=\"btn-group inline pull-right\"></div>');\n",
       "    var button = $('<button class=\"btn btn-mini btn-primary\" href=\"#\" title=\"Stop Interaction\"><i class=\"fa fa-power-off icon-remove icon-large\"></i></button>');\n",
       "    button.click(function (evt) { fig.handle_close(fig, {}); } );\n",
       "    button.mouseover('Stop Interaction', toolbar_mouse_event);\n",
       "    buttongrp.append(button);\n",
       "    var titlebar = this.root.find($('.ui-dialog-titlebar'));\n",
       "    titlebar.prepend(buttongrp);\n",
       "}\n",
       "\n",
       "mpl.figure.prototype._root_extra_style = function(el){\n",
       "    var fig = this\n",
       "    el.on(\"remove\", function(){\n",
       "\tfig.close_ws(fig, {});\n",
       "    });\n",
       "}\n",
       "\n",
       "mpl.figure.prototype._canvas_extra_style = function(el){\n",
       "    // this is important to make the div 'focusable\n",
       "    el.attr('tabindex', 0)\n",
       "    // reach out to IPython and tell the keyboard manager to turn it's self\n",
       "    // off when our div gets focus\n",
       "\n",
       "    // location in version 3\n",
       "    if (IPython.notebook.keyboard_manager) {\n",
       "        IPython.notebook.keyboard_manager.register_events(el);\n",
       "    }\n",
       "    else {\n",
       "        // location in version 2\n",
       "        IPython.keyboard_manager.register_events(el);\n",
       "    }\n",
       "\n",
       "}\n",
       "\n",
       "mpl.figure.prototype._key_event_extra = function(event, name) {\n",
       "    var manager = IPython.notebook.keyboard_manager;\n",
       "    if (!manager)\n",
       "        manager = IPython.keyboard_manager;\n",
       "\n",
       "    // Check for shift+enter\n",
       "    if (event.shiftKey && event.which == 13) {\n",
       "        this.canvas_div.blur();\n",
       "        // select the cell after this one\n",
       "        var index = IPython.notebook.find_cell_index(this.cell_info[0]);\n",
       "        IPython.notebook.select(index + 1);\n",
       "    }\n",
       "}\n",
       "\n",
       "mpl.figure.prototype.handle_save = function(fig, msg) {\n",
       "    fig.ondownload(fig, null);\n",
       "}\n",
       "\n",
       "\n",
       "mpl.find_output_cell = function(html_output) {\n",
       "    // Return the cell and output element which can be found *uniquely* in the notebook.\n",
       "    // Note - this is a bit hacky, but it is done because the \"notebook_saving.Notebook\"\n",
       "    // IPython event is triggered only after the cells have been serialised, which for\n",
       "    // our purposes (turning an active figure into a static one), is too late.\n",
       "    var cells = IPython.notebook.get_cells();\n",
       "    var ncells = cells.length;\n",
       "    for (var i=0; i<ncells; i++) {\n",
       "        var cell = cells[i];\n",
       "        if (cell.cell_type === 'code'){\n",
       "            for (var j=0; j<cell.output_area.outputs.length; j++) {\n",
       "                var data = cell.output_area.outputs[j];\n",
       "                if (data.data) {\n",
       "                    // IPython >= 3 moved mimebundle to data attribute of output\n",
       "                    data = data.data;\n",
       "                }\n",
       "                if (data['text/html'] == html_output) {\n",
       "                    return [cell, data, j];\n",
       "                }\n",
       "            }\n",
       "        }\n",
       "    }\n",
       "}\n",
       "\n",
       "// Register the function which deals with the matplotlib target/channel.\n",
       "// The kernel may be null if the page has been refreshed.\n",
       "if (IPython.notebook.kernel != null) {\n",
       "    IPython.notebook.kernel.comm_manager.register_target('matplotlib', mpl.mpl_figure_comm);\n",
       "}\n"
      ],
      "text/plain": [
       "<IPython.core.display.Javascript object>"
      ]
     },
     "metadata": {},
     "output_type": "display_data"
    },
    {
     "data": {
      "text/html": [
       "<img src=\"data:image/png;base64,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\" width=\"640\">"
      ],
      "text/plain": [
       "<IPython.core.display.HTML object>"
      ]
     },
     "metadata": {},
     "output_type": "display_data"
    },
    {
     "data": {
      "text/plain": [
       "[<matplotlib.lines.Line2D at 0x15476fd0>]"
      ]
     },
     "execution_count": 60,
     "metadata": {},
     "output_type": "execute_result"
    }
   ],
   "source": [
    "%matplotlib notebook\n",
    "traces=Data.fromfile('traces',trace_dt,'teslib','measurement_subsystem_TB',tool='vivado')\n",
    "plt.plot(traces['slope'][1100:],'r',linewidth=1)\n",
    "plt.plot(traces['raw'][1100:],linewidth=0.5)\n",
    "plt.plot(traces['filtered'][1100:],'k',linewidth=2)"
   ]
  },
  {
   "cell_type": "code",
   "execution_count": 61,
   "metadata": {
    "collapsed": false,
    "run_control": {
     "frozen": false,
     "read_only": false
    },
    "scrolled": true
   },
   "outputs": [],
   "source": [
    "stream=Data.fromfile('bytestream',stream_dt,'teslib','measurement_subsystem_TB',tool='vivado')\n",
    "minmax=Data.fromfile('minmax',minmax_dt,'teslib','measurement_subsystem_TB',tool='vivado')\n",
    "bs=PacketStream(stream)\n",
    "es=bs.eventstream\n",
    "%matplotlib notebook\n",
    "for e in es:\n",
    "    if e[1]==Event.peak:\n",
    "        plot_event(e)"
   ]
  },
  {
   "cell_type": "code",
   "execution_count": 62,
   "metadata": {
    "collapsed": false,
    "run_control": {
     "frozen": false,
     "read_only": false
    },
    "scrolled": true
   },
   "outputs": [
    {
     "data": {
      "text/plain": [
       "[]"
      ]
     },
     "execution_count": 62,
     "metadata": {},
     "output_type": "execute_result"
    }
   ],
   "source": [
    "traces=Data.fromfile('traces',trace_dt,'teslib','measurement_subsystem_TB',tool='vivado')\n",
    "stream=Data.fromfile('bytestream',stream_dt,'teslib','measurement_subsystem_TB',tool='vivado')\n",
    "bs=PacketStream(stream)\n",
    "dists=bs.distributions\n",
    "#bs.packets\n",
    "dists"
   ]
  },
  {
   "cell_type": "code",
   "execution_count": 63,
   "metadata": {
    "collapsed": false
   },
   "outputs": [
    {
     "data": {
      "text/plain": [
       "[ethertype:88B5 length:48 Payload:tick frame:0 protocol:0]"
      ]
     },
     "execution_count": 63,
     "metadata": {},
     "output_type": "execute_result"
    }
   ],
   "source": [
    "bs.packets"
   ]
  },
  {
   "cell_type": "code",
   "execution_count": 32,
   "metadata": {
    "collapsed": false,
    "run_control": {
     "frozen": false,
     "read_only": false
    },
    "scrolled": true
   },
   "outputs": [
    {
     "data": {
      "text/plain": [
       "(array([], dtype=int64),)"
      ]
     },
     "execution_count": 32,
     "metadata": {},
     "output_type": "execute_result"
    }
   ],
   "source": [
    "import tes.mca as mca\n",
    "d=bs.distributions[0]\n",
    "eset=np.uint64(1)\n",
    "bset=np.uint64(0)\n",
    "cset=np.uint64(20)\n",
    "\n",
    "stop=d.stop_time+eset+cset\n",
    "start=d.start_time+bset+cset\n",
    "bins=np.zeros((d.last_bin+1,),dtype=np.uint32)\n",
    "\n",
    "if d.value==mca.Value.raw_signal:\n",
    "    tname='raw'\n",
    "elif d.value==mca.Value.filtered_signal:\n",
    "    tname='filtered'\n",
    "\n",
    "for i in range(start,stop):\n",
    "    s = traces[tname][i]\n",
    "    if s < d.lowest_value:\n",
    "        bins[0] += 1\n",
    "    else:\n",
    "        bin_number = s - d.lowest_value + 1\n",
    "        if bin_number < d.last_bin:\n",
    "            bins[bin_number] += 1\n",
    "        else:\n",
    "            bins[d.last_bin] += 1\n",
    "        \n",
    "bad=(bins-d.counts).nonzero()\n",
    "bad"
   ]
  },
  {
   "cell_type": "code",
   "execution_count": 7,
   "metadata": {
    "collapsed": false
   },
   "outputs": [
    {
     "data": {
      "text/plain": [
       "array([0, 0, 0, 0, 0, 0, 0, 0, 0], dtype=uint32)"
      ]
     },
     "execution_count": 7,
     "metadata": {},
     "output_type": "execute_result"
    }
   ],
   "source": [
    "d.counts[bad][1:10]"
   ]
  },
  {
   "cell_type": "code",
   "execution_count": 8,
   "metadata": {
    "collapsed": false
   },
   "outputs": [
    {
     "data": {
      "text/plain": [
       "array([2, 2, 1, 1, 1, 1, 1, 2, 3], dtype=uint32)"
      ]
     },
     "execution_count": 8,
     "metadata": {},
     "output_type": "execute_result"
    }
   ],
   "source": [
    "bins[bad][1:10]"
   ]
  },
  {
   "cell_type": "code",
   "execution_count": null,
   "metadata": {
    "collapsed": false
   },
   "outputs": [],
   "source": [
    "d.value"
   ]
  },
  {
   "cell_type": "code",
   "execution_count": null,
   "metadata": {
    "collapsed": false,
    "scrolled": false
   },
   "outputs": [],
   "source": [
    "%matplotlib notebook\n",
    "plt.step(np.arange(len(d.bins)),d.bins)\n",
    "# plt.step(np.arange(len(d.counts)),bins)\n",
    "plt.plot(bad,np.zeros_like(bad),'.k')"
   ]
  },
  {
   "cell_type": "code",
   "execution_count": null,
   "metadata": {
    "collapsed": false
   },
   "outputs": [],
   "source": [
    "sum(d.counts)"
   ]
  },
  {
   "cell_type": "code",
   "execution_count": null,
   "metadata": {
    "collapsed": false
   },
   "outputs": [],
   "source": [
    "2**14+2000"
   ]
  },
  {
   "cell_type": "code",
   "execution_count": null,
   "metadata": {
    "collapsed": false,
    "run_control": {
     "frozen": false,
     "read_only": false
    }
   },
   "outputs": [],
   "source": [
    "def plot_event(event_tupple):\n",
    "    pre=200\n",
    "    post=1000\n",
    "    timestamp=event_tupple[0]\n",
    "    event_type=event_tupple[1]\n",
    "    event=event_tupple[2]\n",
    "    flags=EventFlags(event['flags'])\n",
    "    print(flags)\n",
    "    print('timestamp',timestamp, 'time', event['time'])\n",
    "    if flags.type == Event.tick:\n",
    "        return\n",
    "    s=traces['filtered'][timestamp+20-pre:timestamp+20+post]\n",
    "    r=traces['raw'][timestamp+20-pre:timestamp+20+post]\n",
    "    i = np.where(abs(minmax['clk'])<=timestamp+20)[0][-1]\n",
    "    min_t=abs(minmax['clk'][i])-(timestamp+20)\n",
    "#     print(minmax['clk'][i],min_t,i,timestamp)\n",
    "    plt.plot(r,'k',linewidth=0.5)\n",
    "    plt.plot(s,'b',linewidth=2)\n",
    "    plt.plot([pre],s[pre],'sg')\n",
    "    plt.plot([pre+min_t],minmax['filtered'][i],'sr')\n",
    "    if event_type==Event.pulse:\n",
    "        for i in range(flags.peak_number):\n",
    "            p=event['peaks'][i]\n",
    "            plt.plot([0,len(s)-1],[p['height'],p['height']],':r')\n",
    "    else:\n",
    "      plt.plot([0,len(s)-1],[event['height'],event['height']],':r')\n",
    "        \n",
    "    #print(event['height'],event['minima'])\n",
    "    #print(minmax['filtered'][i]==s[pre+min_t])\n",
    "    #print(minmax['filtered'][i]==event['minima'])\n",
    "    #print(s[pre],s[pre-1])"
   ]
  },
  {
   "cell_type": "code",
   "execution_count": null,
   "metadata": {
    "collapsed": false,
    "run_control": {
     "frozen": false,
     "read_only": false
    }
   },
   "outputs": [],
   "source": [
    "pwd"
   ]
  },
  {
   "cell_type": "code",
   "execution_count": null,
   "metadata": {
    "collapsed": false
   },
   "outputs": [],
   "source": [
    "es=bs.eventstream\n",
    "es"
   ]
  },
  {
   "cell_type": "code",
   "execution_count": null,
   "metadata": {
    "collapsed": false,
    "run_control": {
     "frozen": false,
     "read_only": false
    }
   },
   "outputs": [],
   "source": [
    "%matplotlib notebook\n",
    "for e in es:\n",
    "    if e[1]==Event.peak:\n",
    "        plot_event(e)"
   ]
  },
  {
   "cell_type": "code",
   "execution_count": null,
   "metadata": {
    "collapsed": false,
    "run_control": {
     "frozen": false,
     "read_only": false
    }
   },
   "outputs": [],
   "source": [
    "es"
   ]
  },
  {
   "cell_type": "code",
   "execution_count": null,
   "metadata": {
    "collapsed": false,
    "run_control": {
     "frozen": false,
     "read_only": false
    }
   },
   "outputs": [],
   "source": [
    "dists=bs.distributions\n",
    "dists"
   ]
  },
  {
   "cell_type": "code",
   "execution_count": null,
   "metadata": {
    "collapsed": false,
    "run_control": {
     "frozen": false,
     "read_only": false
    }
   },
   "outputs": [],
   "source": [
    "bs.packets[185].payload"
   ]
  },
  {
   "cell_type": "code",
   "execution_count": null,
   "metadata": {
    "collapsed": false,
    "run_control": {
     "frozen": false,
     "read_only": false
    }
   },
   "outputs": [],
   "source": [
    "d=bs.distributions[0]\n",
    "eset=np.uint64(1)\n",
    "bset=np.uint64(0)\n",
    "cset=np.uint64(20)\n",
    "\n",
    "stop=d.stop_time+eset+cset\n",
    "start=d.start_time+bset+cset\n",
    "bins=np.zeros((d.last_bin+1,),dtype=np.uint32)\n",
    "for i in range(start,stop):\n",
    "    s = traces['raw'][i]\n",
    "    if s <= d.lowest_value:\n",
    "        bins[0] += 1\n",
    "    else:\n",
    "        bins[s-d.lowest_value] += 1\n",
    "        \n",
    "(bins-d.counts).nonzero()"
   ]
  },
  {
   "cell_type": "code",
   "execution_count": null,
   "metadata": {
    "collapsed": false,
    "run_control": {
     "frozen": false,
     "read_only": false
    }
   },
   "outputs": [],
   "source": [
    "%matplotlib notebook\n",
    "plt.step(np.arange(len(d.counts)),d.counts)"
   ]
  },
  {
   "cell_type": "code",
   "execution_count": null,
   "metadata": {
    "collapsed": false,
    "run_control": {
     "frozen": false,
     "read_only": false
    }
   },
   "outputs": [],
   "source": [
    "bins[bins.nonzero()]"
   ]
  },
  {
   "cell_type": "code",
   "execution_count": null,
   "metadata": {
    "collapsed": false,
    "run_control": {
     "frozen": false,
     "read_only": false
    }
   },
   "outputs": [],
   "source": [
    "sum(d.counts)"
   ]
  },
  {
   "cell_type": "code",
   "execution_count": null,
   "metadata": {
    "collapsed": false,
    "run_control": {
     "frozen": false,
     "read_only": false
    }
   },
   "outputs": [],
   "source": [
    "2**14+2000"
   ]
  },
  {
   "cell_type": "code",
   "execution_count": null,
   "metadata": {
    "collapsed": false,
    "run_control": {
     "frozen": false,
     "read_only": false
    }
   },
   "outputs": [],
   "source": [
    "es[3][2]['timestamp']-es[0][2]['timestamp']"
   ]
  },
  {
   "cell_type": "code",
   "execution_count": null,
   "metadata": {
    "collapsed": true,
    "run_control": {
     "frozen": false,
     "read_only": false
    }
   },
   "outputs": [],
   "source": [
    "def xings(s, thresh):\n",
    "    pos=s > thresh\n",
    "    neg=s < thresh\n",
    "    pos0=s >= thresh\n",
    "    neg0=s <= thresh\n",
    "    pos_xing_mask = np.bitwise_and(pos0[1:],neg[0:-1])  \n",
    "    neg_xing_mask = np.bitwise_and(neg0[1:],pos[0:-1])  \n",
    "    return pos_xing_mask.nonzero()[0]+1, neg_xing_mask.nonzero()[0]+1"
   ]
  },
  {
   "cell_type": "code",
   "execution_count": null,
   "metadata": {
    "collapsed": true,
    "run_control": {
     "frozen": false,
     "read_only": false
    }
   },
   "outputs": [],
   "source": [
    "from mpl_toolkits.axes_grid1 import host_subplot\n",
    "\n",
    "def plot_trace(traces,start,width):\n",
    "\n",
    "    ax = host_subplot(111)\n",
    "    axr = ax.twinx()\n",
    "    axt = ax.twiny()\n",
    "#ax.plot(t[0:-1:10],s[0:-1:10],'k')\n",
    "#ax.plot(t,s,'k')\n",
    "    axt.set_xlabel('Time ns',fontsize=18)\n",
    "    ax.set_ylabel('Voltage (Arbitary Units)',fontsize=18)\n",
    "#plt.xticks(visible=False)\n",
    "#plt.yticks(visible=False)\n",
    "#ax.set_xlim(0,t[4000000])\n",
    "#start=902000\n",
    "#width=2500\n",
    "    f=traces['filtered'][start:start+width]\n",
    "    s=traces['slope'][start:start+width]\n",
    "    t=np.arange(len(f))*4e-9\n",
    "#ts=t[pstart:pstop]\n",
    "#axins = fig.add_axes([.4, .45, .45, .4])\n",
    "    ax.set_xlim(t[0],t[-1])\n",
    "    axt.set_xlim(t[0],t[-1])\n",
    "\n",
    "    ylim=(-500,2000)\n",
    "\n",
    "    ax.set_ylim(ylim[0],ylim[1])\n",
    "    axr.set_ylim(ylim[0],ylim[1])\n",
    "\n",
    "    filtered, = ax.step(t,f,'k',lw=2,label='filtered')\n",
    "    slope, = ax.step(t,s,'b',label='slope')\n",
    "    ax.fill_between(t,0,s,alpha=.4)\n",
    "    plt.ylim=ylim\n",
    "\n",
    "pos=s>0\n",
    "neg=s<=0\n",
    "pos_xing_mask = np.bitwise_and(pos[1:-1],neg[0:-2])  \n",
    "neg_xing_mask = np.bitwise_and(neg[1:-1],pos[0:-2])  \n",
    "pos_xing=pos_xing_mask.nonzero()\n",
    "neg_xing=neg_xing_mask.nonzero()\n",
    "\n",
    "rx=[t[pos_xing[0][0]], t[neg_xing[0][0]]]\n",
    "ry=[f[pos_xing[0][0]], f[neg_xing[0][0]]]\n",
    "\n",
    "ax.fill_between(t[pos_xing[0][0]:neg_xing[0][0]],0,s[pos_xing[0][0]:neg_xing[0][0]],alpha=.4,color='r')\n",
    "\n",
    "#plt.plot(rx,[ry[0], ry[0]],'-r',lw=2)\n",
    "#plt.plot([rx[1],rx[1]], ry,'-r',lw=2)\n",
    "# thresholds\n",
    "sthresh = 600\n",
    "pthresh = 1000\n",
    "plt.plot([t[0], t[-1]], [sthresh, sthresh], '--b', lw=2)\n",
    "plt.plot([t[0], t[-1]], [pthresh, pthresh], '--k', lw=2)\n",
    "\n",
    "sthresh_xing=(s>sthresh).nonzero()[0][0]\n",
    "pthresh_xing=(f>pthresh).nonzero()[0][0]\n",
    "\n",
    "\n",
    "cf=.10\n",
    "height = ry[1]-ry[0]\n",
    "cfl=ry[0]+(height*cf)\n",
    "cfh=ry[1]-(height*cf)\n",
    "\n",
    "cfl_xing=(f>cfl).nonzero()[0][0]\n",
    "cfd_low=f[cfl_xing]\n",
    "cfh_xing=(f>cfh).nonzero()[0][0]\n",
    "cfd_high=f[cfh_xing]\n",
    "\n",
    "#plt.plot([t[cfl_xing], t[-1]],[cfd_low, cfd_low], ':r')\n",
    "#plt.plot([t[cfh_xing], t[-1]],[cfd_high, cfd_high], ':r')\n",
    "#plt.plot([x[1], t[-1]],[y[1], y[1]], ':r')\n",
    "plt.legend([filtered, slope],['Signal', 'Slope'],loc=2)\n",
    "\n",
    "#axr = ax.twinx()\n",
    "##################################################################\n",
    "#yticks=([ry[0],sthresh,pthresh,cfd_high,ry[1]])\n",
    "yticks=([sthresh,pthresh])\n",
    "axr.set_yticks(yticks)\n",
    "#yticklabels=['Start','Slope threshold','Pulse threshold','CF high','Peak']\n",
    "yticklabels=['Slope threshold','Pulse threshold']\n",
    "axr.set_yticklabels(yticklabels, color='r',fontsize=14)\n",
    "axr.get_yticklabels()[0].set_color('b')\n",
    "axr.get_yticklabels()[1].set_color('k')\n",
    "\n",
    "#xticks=([rx[0],t[cfl_xing],t[sthresh_xing],t[pthresh_xing],rx[1]])\n",
    "xticks=(t[cfl_xing],rx[1])\n",
    "#ax.set_xticks([rx[0],t[cfl_xing],t[sthresh_xing],t[pthresh_xing],rx[1]])\n",
    "ax.set_xticks(xticks)\n",
    "#xticklabels=['Start','CF low','Slope xing','Signal xing','Peak']\n",
    "xticklabels=['CF low','Peak']\n",
    "ax.set_xticklabels(xticklabels, color='r',fontsize=14)\n",
    "\n",
    "#plt.plot([t[cfh_xing], t[-1]],[cfd_high, cfd_high], ':r')\n",
    "#horoz start, stop lines\n",
    "#hpeak=ax.plot([xticks[1], t[-1]],[yticks[-1], yticks[-1]], '-.r')\n",
    "#hstart=ax.plot([xticks[0], t[-1]],[yticks[0], yticks[0]], '-.r')\n",
    "#vert start stop\n",
    "vstart=ax.plot([xticks[0], xticks[0]],[cfd_low, ylim[0]], '-.r')\n",
    "vpeak=ax.plot([xticks[1], xticks[1]],[ylim[0], ry[1]], '-.r')\n",
    "\n",
    "plt.tight_layout()\n",
    "plt.savefig('..//peakextraction7.svg')\n",
    "plt.show()\n",
    "print('risetime:',(xticks[1]-xticks[0])/4)\n",
    "print('height:',yticks[-1]-yticks[0])\n",
    "print('time:',(xticks[0]-rx[0])/4)\n",
    "print('area',sum(s[pos_xing[0][0]:neg_xing[0][0]])/256)\n"
   ]
  },
  {
   "cell_type": "code",
   "execution_count": null,
   "metadata": {
    "collapsed": true,
    "run_control": {
     "frozen": false,
     "read_only": false
    }
   },
   "outputs": [],
   "source": [
    "slope_0xings = xings(traces['slope'],0)"
   ]
  },
  {
   "cell_type": "code",
   "execution_count": null,
   "metadata": {
    "collapsed": false,
    "run_control": {
     "frozen": false,
     "read_only": false
    }
   },
   "outputs": [],
   "source": [
    "slope_0xings"
   ]
  },
  {
   "cell_type": "code",
   "execution_count": null,
   "metadata": {
    "collapsed": false,
    "run_control": {
     "frozen": false,
     "read_only": false
    }
   },
   "outputs": [],
   "source": [
    "%matplotlib notebook\n",
    "start=10000\n",
    "width=300\n",
    "plt.plot(traces['filtered'][start:start+width]/2)"
   ]
  },
  {
   "cell_type": "code",
   "execution_count": null,
   "metadata": {
    "collapsed": false,
    "run_control": {
     "frozen": false,
     "read_only": false
    }
   },
   "outputs": [],
   "source": [
    "%matplotlib notebook\n",
    "plt.plot(traces['slope'][20400:21700])"
   ]
  },
  {
   "cell_type": "code",
   "execution_count": null,
   "metadata": {
    "collapsed": false,
    "run_control": {
     "frozen": false,
     "read_only": false
    }
   },
   "outputs": [],
   "source": [
    "filtered=traces['filtered'][1100:]\n",
    "filteredL=traces['filteredL'][1100:]"
   ]
  },
  {
   "cell_type": "code",
   "execution_count": null,
   "metadata": {
    "collapsed": false,
    "run_control": {
     "frozen": false,
     "read_only": false
    }
   },
   "outputs": [],
   "source": [
    "filtered[:10]"
   ]
  },
  {
   "cell_type": "code",
   "execution_count": null,
   "metadata": {
    "collapsed": false,
    "run_control": {
     "frozen": false,
     "read_only": false
    }
   },
   "outputs": [],
   "source": [
    "filteredL[:10]/4"
   ]
  },
  {
   "cell_type": "code",
   "execution_count": null,
   "metadata": {
    "collapsed": false,
    "run_control": {
     "frozen": false,
     "read_only": false
    }
   },
   "outputs": [],
   "source": [
    "minmax_dt=np.dtype([('filtered','i4'),('low','i4'),('high','i4'),('clk','i4')])\n",
    "minmax=Data.fromfile('minmax',minmax_dt,'teslib','measurement_subsystem_TB',tool='vivado')\n",
    "fxing_dt=np.dtype([('extrema','i4'),('area','i4'),('clk','i4')])\n",
    "fxing=Data.fromfile('filteredxing',fxing_dt,'teslib','measurement_subsystem_TB',tool='vivado')"
   ]
  },
  {
   "cell_type": "code",
   "execution_count": null,
   "metadata": {
    "collapsed": false,
    "run_control": {
     "frozen": false,
     "read_only": false
    }
   },
   "outputs": [],
   "source": [
    "minmax"
   ]
  },
  {
   "cell_type": "code",
   "execution_count": null,
   "metadata": {
    "collapsed": false,
    "run_control": {
     "frozen": false,
     "read_only": false
    }
   },
   "outputs": [],
   "source": [
    "fxing"
   ]
  },
  {
   "cell_type": "code",
   "execution_count": null,
   "metadata": {
    "collapsed": false,
    "run_control": {
     "frozen": false,
     "read_only": false
    }
   },
   "outputs": [],
   "source": [
    "np.where(fxing['area']==0)"
   ]
  },
  {
   "cell_type": "code",
   "execution_count": null,
   "metadata": {
    "collapsed": false,
    "run_control": {
     "frozen": false,
     "read_only": false
    }
   },
   "outputs": [],
   "source": [
    "np.where(fxing['extrema']==0)"
   ]
  },
  {
   "cell_type": "code",
   "execution_count": null,
   "metadata": {
    "collapsed": false,
    "run_control": {
     "frozen": false,
     "read_only": false
    }
   },
   "outputs": [],
   "source": [
    "fxing[30]"
   ]
  },
  {
   "cell_type": "code",
   "execution_count": null,
   "metadata": {
    "collapsed": false,
    "run_control": {
     "frozen": false,
     "read_only": false
    }
   },
   "outputs": [],
   "source": [
    "exn=np.where(fxing['extrema']<0)\n",
    "clkn=np.where(fxing['clk']>0)"
   ]
  },
  {
   "cell_type": "code",
   "execution_count": null,
   "metadata": {
    "collapsed": true,
    "run_control": {
     "frozen": false,
     "read_only": false
    }
   },
   "outputs": [],
   "source": []
  },
  {
   "cell_type": "code",
   "execution_count": null,
   "metadata": {
    "collapsed": false,
    "run_control": {
     "frozen": false,
     "read_only": false
    }
   },
   "outputs": [],
   "source": [
    "fxing[374]"
   ]
  },
  {
   "cell_type": "code",
   "execution_count": null,
   "metadata": {
    "collapsed": false,
    "run_control": {
     "frozen": false,
     "read_only": false
    }
   },
   "outputs": [],
   "source": [
    "clkn"
   ]
  },
  {
   "cell_type": "code",
   "execution_count": null,
   "metadata": {
    "collapsed": false,
    "run_control": {
     "frozen": false,
     "read_only": false
    }
   },
   "outputs": [],
   "source": [
    "np.where(minmax[maxs[0]-1]['min']!=1)"
   ]
  },
  {
   "cell_type": "code",
   "execution_count": null,
   "metadata": {
    "collapsed": false,
    "run_control": {
     "frozen": false,
     "read_only": false
    }
   },
   "outputs": [],
   "source": [
    "minmax[maxs[0]-1][65]"
   ]
  },
  {
   "cell_type": "code",
   "execution_count": null,
   "metadata": {
    "collapsed": false,
    "run_control": {
     "frozen": false,
     "read_only": false
    }
   },
   "outputs": [],
   "source": [
    "2290-925"
   ]
  },
  {
   "cell_type": "code",
   "execution_count": null,
   "metadata": {
    "collapsed": false,
    "run_control": {
     "frozen": false,
     "read_only": false
    }
   },
   "outputs": [],
   "source": [
    "0.375*4"
   ]
  },
  {
   "cell_type": "code",
   "execution_count": null,
   "metadata": {
    "collapsed": false,
    "run_control": {
     "frozen": false,
     "read_only": false
    }
   },
   "outputs": [],
   "source": [
    "np.where(minmax['clock']==2290)"
   ]
  },
  {
   "cell_type": "code",
   "execution_count": null,
   "metadata": {
    "collapsed": false,
    "run_control": {
     "frozen": false,
     "read_only": false
    }
   },
   "outputs": [],
   "source": [
    "minmax[120:140]"
   ]
  },
  {
   "cell_type": "code",
   "execution_count": null,
   "metadata": {
    "collapsed": false,
    "run_control": {
     "frozen": false,
     "read_only": false
    }
   },
   "outputs": [],
   "source": [
    "stream_dt=np.dtype([('data','>i4'),('last','i4')])\n",
    "#stream=np.fromfile('data/stream',stream_dt)"
   ]
  },
  {
   "cell_type": "markdown",
   "metadata": {},
   "source": [
    "### bytestream stuff"
   ]
  },
  {
   "cell_type": "code",
   "execution_count": null,
   "metadata": {
    "collapsed": false,
    "run_control": {
     "frozen": false,
     "read_only": false
    }
   },
   "outputs": [],
   "source": [
    "stream_dt=np.dtype([('data','i4'),('last','i4')])\n",
    "stream=Data.fromfile('bytestream',stream_dt,'teslib','measurement_subsystem_TB',tool='vivado')\n",
    "lasts=np.where(stream['last']<=0)[0]+1\n",
    "#data=np.copy(stream['data'])"
   ]
  },
  {
   "cell_type": "code",
   "execution_count": null,
   "metadata": {
    "collapsed": false,
    "run_control": {
     "frozen": false,
     "read_only": false
    }
   },
   "outputs": [],
   "source": [
    "stream"
   ]
  },
  {
   "cell_type": "code",
   "execution_count": null,
   "metadata": {
    "collapsed": true,
    "run_control": {
     "frozen": false,
     "read_only": false
    }
   },
   "outputs": [],
   "source": []
  },
  {
   "cell_type": "code",
   "execution_count": null,
   "metadata": {
    "collapsed": true,
    "run_control": {
     "frozen": false,
     "read_only": false
    }
   },
   "outputs": [],
   "source": [
    "stream=np.fromfile('data/bytestream',stream_dt)"
   ]
  },
  {
   "cell_type": "code",
   "execution_count": null,
   "metadata": {
    "collapsed": false,
    "run_control": {
     "frozen": false,
     "read_only": false
    }
   },
   "outputs": [],
   "source": [
    "bs=PacketStream(stream)"
   ]
  },
  {
   "cell_type": "code",
   "execution_count": null,
   "metadata": {
    "collapsed": false,
    "run_control": {
     "frozen": false,
     "read_only": false
    }
   },
   "outputs": [],
   "source": [
    "bs.packets"
   ]
  },
  {
   "cell_type": "code",
   "execution_count": null,
   "metadata": {
    "collapsed": false,
    "run_control": {
     "frozen": false,
     "read_only": false
    }
   },
   "outputs": [],
   "source": [
    "bs.packets[4]"
   ]
  },
  {
   "cell_type": "code",
   "execution_count": null,
   "metadata": {
    "collapsed": true,
    "run_control": {
     "frozen": false,
     "read_only": false
    }
   },
   "outputs": [],
   "source": [
    "eheader_dt=[('etype','<u2'),('length','u2'),()]"
   ]
  },
  {
   "cell_type": "code",
   "execution_count": null,
   "metadata": {
    "collapsed": false,
    "run_control": {
     "frozen": false,
     "read_only": false
    }
   },
   "outputs": [],
   "source": [
    "'{:X}'.format(bs.packets[1].bytes[23])\n"
   ]
  },
  {
   "cell_type": "code",
   "execution_count": null,
   "metadata": {
    "collapsed": false,
    "run_control": {
     "frozen": false,
     "read_only": false
    }
   },
   "outputs": [],
   "source": [
    "'{:X}'.format(bs.packets[0].bytes[28:30].view(np.uint16)[0])"
   ]
  },
  {
   "cell_type": "code",
   "execution_count": null,
   "metadata": {
    "collapsed": true,
    "run_control": {
     "frozen": false,
     "read_only": false
    }
   },
   "outputs": [],
   "source": [
    "pulse_peak_dt=np.dtype([('height','i2'),('rise','i2'),('minima','u2'),('time','i2')])\n",
    "pulse_dt=np.dtype([('size','i2'),('resv','i2'),('flags','i2'),('time','u2'),\n",
    "                  ('area','i4'),('length','i2'),('offset','i2'),('peaks',(pulse_peak_dt,2))])"
   ]
  },
  {
   "cell_type": "code",
   "execution_count": null,
   "metadata": {
    "collapsed": false,
    "run_control": {
     "frozen": false,
     "read_only": false
    }
   },
   "outputs": [],
   "source": [
    "pulses=bs.packets[3].payload.view(pulse_dt)"
   ]
  },
  {
   "cell_type": "code",
   "execution_count": null,
   "metadata": {
    "collapsed": false,
    "run_control": {
     "frozen": false,
     "read_only": false
    }
   },
   "outputs": [],
   "source": [
    "pulses['peaks']"
   ]
  },
  {
   "cell_type": "code",
   "execution_count": null,
   "metadata": {
    "collapsed": false,
    "run_control": {
     "frozen": false,
     "read_only": false
    }
   },
   "outputs": [],
   "source": [
    "pulses['offset']"
   ]
  },
  {
   "cell_type": "code",
   "execution_count": null,
   "metadata": {
    "collapsed": false,
    "run_control": {
     "frozen": false,
     "read_only": false
    }
   },
   "outputs": [],
   "source": [
    "pulses['length']"
   ]
  },
  {
   "cell_type": "code",
   "execution_count": null,
   "metadata": {
    "collapsed": false,
    "run_control": {
     "frozen": false,
     "read_only": false
    }
   },
   "outputs": [],
   "source": [
    "class eflags:\n",
    "    def __init__(self,uint16):\n",
    "        self.new_window=np.bitwise_and(uint16,0x00000001)!=0\n",
    "        self.tick=np.bitwise_and(uint16,0x00000002)!=0\n",
    "        self.type=np.right_shift(np.bitwise_and(uint16,0x0000000c),2)\n",
    "        \n",
    "    def __repr__(self):\n",
    "        return 'New window:{:}\\n'.format(self.new_window) + \\\n",
    "               'Tick:{:}\\n'.format(self.tick) + \\\n",
    "               'Type:{:}\\n'.format(self.type) "
   ]
  },
  {
   "cell_type": "code",
   "execution_count": null,
   "metadata": {
    "collapsed": false,
    "run_control": {
     "frozen": false,
     "read_only": false
    }
   },
   "outputs": [],
   "source": [
    "f=eflags(pulses[0]['flags'])\n",
    "f"
   ]
  },
  {
   "cell_type": "code",
   "execution_count": null,
   "metadata": {
    "collapsed": false,
    "run_control": {
     "frozen": false,
     "read_only": false
    }
   },
   "outputs": [],
   "source": [
    "'{:X}'.format(bs.packets[3].bytes[13:14].view(np.uint16))"
   ]
  },
  {
   "cell_type": "code",
   "execution_count": null,
   "metadata": {
    "collapsed": true,
    "run_control": {
     "frozen": false,
     "read_only": false
    }
   },
   "outputs": [],
   "source": []
  },
  {
   "cell_type": "code",
   "execution_count": null,
   "metadata": {
    "collapsed": false,
    "run_control": {
     "frozen": false,
     "read_only": false
    }
   },
   "outputs": [],
   "source": [
    "'{:X}'.format(bs.packets[3].bytes[14:16].view(np.uint16)[0])"
   ]
  },
  {
   "cell_type": "code",
   "execution_count": null,
   "metadata": {
    "collapsed": false,
    "run_control": {
     "frozen": false,
     "read_only": false
    }
   },
   "outputs": [],
   "source": [
    "bs.packets[3].bytes[14:16].view(np.uint16)[0]"
   ]
  },
  {
   "cell_type": "code",
   "execution_count": null,
   "metadata": {
    "collapsed": false,
    "run_control": {
     "frozen": false,
     "read_only": false
    }
   },
   "outputs": [],
   "source": [
    "bs=np.uint8(stream['data'][:48])"
   ]
  },
  {
   "cell_type": "code",
   "execution_count": null,
   "metadata": {
    "collapsed": false,
    "run_control": {
     "frozen": false,
     "read_only": false
    }
   },
   "outputs": [],
   "source": [
    "bs"
   ]
  },
  {
   "cell_type": "code",
   "execution_count": null,
   "metadata": {
    "collapsed": false,
    "run_control": {
     "frozen": false,
     "read_only": false
    }
   },
   "outputs": [],
   "source": [
    "events=stream['data'].view(event_dt)"
   ]
  },
  {
   "cell_type": "code",
   "execution_count": null,
   "metadata": {
    "collapsed": false,
    "run_control": {
     "frozen": false,
     "read_only": false
    }
   },
   "outputs": [],
   "source": [
    "'{:X}'.format(events['flags'][0])"
   ]
  },
  {
   "cell_type": "code",
   "execution_count": null,
   "metadata": {
    "collapsed": false,
    "run_control": {
     "frozen": false,
     "read_only": false
    }
   },
   "outputs": [],
   "source": [
    "events['rise']"
   ]
  },
  {
   "cell_type": "code",
   "execution_count": null,
   "metadata": {
    "collapsed": false,
    "run_control": {
     "frozen": false,
     "read_only": false
    }
   },
   "outputs": [],
   "source": [
    "events"
   ]
  },
  {
   "cell_type": "code",
   "execution_count": null,
   "metadata": {
    "collapsed": false,
    "run_control": {
     "frozen": false,
     "read_only": false
    }
   },
   "outputs": [],
   "source": [
    "'{:04X}'.format(events['flags'][1])"
   ]
  },
  {
   "cell_type": "code",
   "execution_count": null,
   "metadata": {
    "collapsed": true,
    "run_control": {
     "frozen": false,
     "read_only": false
    }
   },
   "outputs": [],
   "source": [
    "pulse_peak_dt=np.dtype([('time','>i2'),('minima','>i2'),('rise','>u2'),('height','>i2')])\n",
    "pulse_dt=np.dtype([('time','>i2'),('flags','>i2'),('resv','>i2'),('size','>u2'),\n",
    "                  ('offset','>i2'),('length','>i2'),('area','>i4'),('peaks',(pulse_peak_dt,1))])\n",
    "data=np.copy(stream['data'])"
   ]
  },
  {
   "cell_type": "code",
   "execution_count": null,
   "metadata": {
    "collapsed": false,
    "run_control": {
     "frozen": false,
     "read_only": false
    }
   },
   "outputs": [],
   "source": [
    "pulses=data.view(pulse_dt)"
   ]
  },
  {
   "cell_type": "code",
   "execution_count": null,
   "metadata": {
    "collapsed": false,
    "run_control": {
     "frozen": false,
     "read_only": false
    }
   },
   "outputs": [],
   "source": [
    "pulses['peaks']['height']-pulses['peaks']['minima']"
   ]
  },
  {
   "cell_type": "code",
   "execution_count": null,
   "metadata": {
    "collapsed": false,
    "run_control": {
     "frozen": false,
     "read_only": false
    }
   },
   "outputs": [],
   "source": [
    "pulses['peaks']['minima']"
   ]
  },
  {
   "cell_type": "code",
   "execution_count": null,
   "metadata": {
    "collapsed": false,
    "run_control": {
     "frozen": false,
     "read_only": false
    }
   },
   "outputs": [],
   "source": [
    "peak_count=np.right_shift(np.bitwise_and(pulses['flags'],0xF000),12)\n",
    "peak_overflow=np.bitwise_and(pulses['flags'],0x0800)!=0\n",
    "channel=np.right_shift(np.bitwise_and(pulses['flags'],0x0700),8)\n",
    "timing_type=np.right_shift(np.bitwise_and(pulses['flags'],0x00C0),6)\n",
    "height_type=np.right_shift(np.bitwise_and(pulses['flags'],0x0030),4)\n",
    "event_type=np.right_shift(np.bitwise_and(pulses['flags'],0x000E),1)\n",
    "new_window=np.bitwise_and(pulses['flags'],0x0001)!=0"
   ]
  },
  {
   "cell_type": "code",
   "execution_count": null,
   "metadata": {
    "collapsed": false,
    "run_control": {
     "frozen": false,
     "read_only": false
    }
   },
   "outputs": [],
   "source": [
    "peak_overflow"
   ]
  },
  {
   "cell_type": "code",
   "execution_count": null,
   "metadata": {
    "collapsed": true,
    "run_control": {
     "frozen": false,
     "read_only": false
    }
   },
   "outputs": [],
   "source": [
    "test_dt=np.dtype(\n",
    "    [('time','i2'),('flags','i2'),('rise','u2'),('minima','i2'),('low','u8'),('high','u8')]\n",
    ")\n",
    "test=data.view(test_dt)"
   ]
  },
  {
   "cell_type": "code",
   "execution_count": null,
   "metadata": {
    "collapsed": false,
    "run_control": {
     "frozen": false,
     "read_only": false
    }
   },
   "outputs": [],
   "source": [
    "test"
   ]
  },
  {
   "cell_type": "code",
   "execution_count": null,
   "metadata": {
    "collapsed": false,
    "run_control": {
     "frozen": false,
     "read_only": false
    }
   },
   "outputs": [],
   "source": [
    "test['minima']"
   ]
  },
  {
   "cell_type": "code",
   "execution_count": null,
   "metadata": {
    "collapsed": false,
    "run_control": {
     "frozen": false,
     "read_only": false
    }
   },
   "outputs": [],
   "source": [
    "low1=np.int32(np.right_shift(np.bitwise_and(test['low'],0x03FFFF000000000),36))\n",
    "s=(np.bitwise_and(low1,0x00020000)!=0)*0xFFFC0000\n",
    "low2=np.int32(np.right_shift(np.bitwise_and(test['low'],0x000000FFFFC0000),18))\n",
    "low_threshold=np.int32(np.bitwise_and(test['low'],0x00000000003FFFF))\n",
    "high1=np.int32(np.right_shift(np.bitwise_and(test['high'],0x03FFFF000000000),36))\n",
    "high2=np.int32(np.right_shift(np.bitwise_and(test['high'],0x000000FFFFC0000),18))\n",
    "high_threshold=np.int32(np.bitwise_and(test['high'],0x00000000003FFFF))"
   ]
  },
  {
   "cell_type": "code",
   "execution_count": null,
   "metadata": {
    "collapsed": false,
    "run_control": {
     "frozen": false,
     "read_only": false
    }
   },
   "outputs": [],
   "source": [
    "np.int32(np.bitwise_or(low1,s))/8.0"
   ]
  },
  {
   "cell_type": "code",
   "execution_count": null,
   "metadata": {
    "collapsed": false,
    "run_control": {
     "frozen": false,
     "read_only": false
    }
   },
   "outputs": [],
   "source": [
    "'{:04X}'.format(low1[0])"
   ]
  },
  {
   "cell_type": "code",
   "execution_count": null,
   "metadata": {
    "collapsed": false,
    "run_control": {
     "frozen": false,
     "read_only": false
    }
   },
   "outputs": [],
   "source": [
    "high1/8.0"
   ]
  },
  {
   "cell_type": "code",
   "execution_count": null,
   "metadata": {
    "collapsed": false,
    "run_control": {
     "frozen": false,
     "read_only": false
    }
   },
   "outputs": [],
   "source": [
    "high2/8.0"
   ]
  },
  {
   "cell_type": "code",
   "execution_count": null,
   "metadata": {
    "collapsed": false,
    "run_control": {
     "frozen": false,
     "read_only": false
    }
   },
   "outputs": [],
   "source": [
    "'{:04X}'.format(high_threshold[0])"
   ]
  },
  {
   "cell_type": "code",
   "execution_count": null,
   "metadata": {
    "collapsed": false,
    "run_control": {
     "frozen": false,
     "read_only": false
    }
   },
   "outputs": [],
   "source": [
    "from enum import Enum"
   ]
  },
  {
   "cell_type": "code",
   "execution_count": null,
   "metadata": {
    "collapsed": false,
    "run_control": {
     "frozen": false,
     "read_only": false
    }
   },
   "outputs": [],
   "source": [
    "class VhdlEnum(int, Enum):\n",
    "\n",
    "    def __str__(self):\n",
    "        return self.name.replace(\"-\", \" \")\n",
    "    \n",
    "    def select(self):\n",
    "        return pow(2, self.value)\n",
    "    "
   ]
  },
  {
   "cell_type": "code",
   "execution_count": null,
   "metadata": {
    "collapsed": false,
    "run_control": {
     "frozen": false,
     "read_only": false
    }
   },
   "outputs": [],
   "source": [
    "class Test(VhdlEnum):\n",
    "    a=0\n",
    "    b=1"
   ]
  },
  {
   "cell_type": "code",
   "execution_count": null,
   "metadata": {
    "collapsed": false,
    "run_control": {
     "frozen": false,
     "read_only": false
    }
   },
   "outputs": [],
   "source": [
    "Test(0)"
   ]
  },
  {
   "cell_type": "code",
   "execution_count": null,
   "metadata": {
    "collapsed": true,
    "run_control": {
     "frozen": false,
     "read_only": false
    }
   },
   "outputs": [],
   "source": []
  }
 ],
 "metadata": {
  "anaconda-cloud": {},
  "kernelspec": {
   "display_name": "Python [conda root]",
   "language": "python",
   "name": "conda-root-py"
  },
  "language_info": {
   "codemirror_mode": {
    "name": "ipython",
    "version": 3
   },
   "file_extension": ".py",
   "mimetype": "text/x-python",
   "name": "python",
   "nbconvert_exporter": "python",
   "pygments_lexer": "ipython3",
   "version": "3.5.2"
  }
 },
 "nbformat": 4,
 "nbformat_minor": 1
}
