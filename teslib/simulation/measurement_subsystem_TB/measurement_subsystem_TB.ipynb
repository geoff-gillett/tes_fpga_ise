{
 "cells": [
  {
   "cell_type": "markdown",
   "metadata": {},
   "source": [
    "timestamp 0 => clk 20\n",
    "\n",
    "traces start at clk 1"
   ]
  },
  {
   "cell_type": "code",
   "execution_count": 1,
   "metadata": {
    "collapsed": true,
    "run_control": {
     "frozen": false,
     "read_only": false
    }
   },
   "outputs": [],
   "source": [
    "from tes.data import Data,PacketStream,Packet,Payload,EventFlags,Event\n",
    "from tes.hdf5 import _PacketData, _import\n",
    "import numpy as np\n",
    "import matplotlib.pyplot as plt\n",
    "from subprocess import Popen\n",
    "\n",
    "import logging\n",
    "import sys\n",
    "logger = logging.getLogger('tes')\n",
    "logger.setLevel(logging.DEBUG)\n",
    "handler = logging.StreamHandler(sys.stderr)\n",
    "formatter = logging.Formatter('%(name)s:%(levelname)s %(message)s')\n",
    "handler.setFormatter(formatter)\n",
    "logger.handlers = [handler]\n",
    "\n",
    "trace_dt=np.dtype([('raw','i4'),('filtered','i4'),('slope','i4')])\n",
    "stream_dt=np.dtype([('data','i4'),('last','i4')])\n",
    "# minmax_dt=np.dtype(\n",
    "#     [\n",
    "#         ('filtered','i4'),('timing_threshold','i4'),\n",
    "#         ('height_threshold','i4'),('slope_extrema','i4'),('slope_area','i4'),('clk','i4')\n",
    "#     ]\n",
    "# )\n",
    "# cfd_dt=np.dtype('i4')\n",
    "# filteredxing_dt=np.dtype([('extrema','i4'),('area','i4'),('clk','i4')])"
   ]
  },
  {
   "cell_type": "code",
   "execution_count": null,
   "metadata": {
    "collapsed": true,
    "run_control": {
     "frozen": false,
     "read_only": false
    },
    "scrolled": false
   },
   "outputs": [],
   "source": [
    "%matplotlib notebook\n",
    "traces=Data.fromfile('traces',trace_dt,'teslib','measurement_subsystem_TB',tool='vivado')\n",
    "plt.plot(traces['slope'][1100:],'r',linewidth=1)\n",
    "plt.plot(traces['raw'][1100:],linewidth=0.5)\n",
    "plt.plot(traces['filtered'][1100:],'k',linewidth=2)"
   ]
  },
  {
   "cell_type": "code",
   "execution_count": null,
   "metadata": {},
   "outputs": [],
   "source": [
    "i=0\n",
    "for f in frames:\n",
    "    ptype = Payload.from_frame(f)\n",
    "    if ptype != Payload.trace and ptype != Payload.tick and ptype!=Payload.mca:\n",
    "        print('found',ptype, i)\n",
    "        break\n",
    "    else:\n",
    "        i += 1\n",
    "#     fbytes[16:24].view(protocol_header_dt)"
   ]
  },
  {
   "cell_type": "code",
   "execution_count": null,
   "metadata": {},
   "outputs": [],
   "source": [
    "Payload.from_frame(f)"
   ]
  },
  {
   "cell_type": "code",
   "execution_count": 18,
   "metadata": {
    "scrolled": true
   },
   "outputs": [
    {
     "name": "stderr",
     "output_type": "stream",
     "text": [
      "tes.hdf5:DEBUG PacketData: from ndarray\n",
      "tes.hdf5:DEBUG PacketData: from ndarray\n",
      "tes.hdf5:INFO import:pass 1: calculating sizes for hdf5 pre-allocation\n",
      "tes.hdf5:INFO import:pass 1:found 37896 bytes in 402 frames 0 sequence errors.\n",
      "tes.hdf5:DEBUG tick frames: 360 data bytes in 15 frames\n",
      "tes.hdf5:DEBUG event frames: 20664 data bytes in 255 frames\n",
      "tes.hdf5:DEBUG MCA frames: 13656 data bytes in 132 frames\n",
      "tes.hdf5:DEBUG unidentified frames: 0 bytes in 0 frames\n",
      "tes.hdf5:DEBUG MCA distributions:3  traces:127\n",
      "tes.hdf5:INFO import:pass 2:importing data\n"
     ]
    }
   ],
   "source": [
    "import h5py\n",
    "from tes.hdf5 import Trace, Hdf5, protocol_header_dt\n",
    "from tes.base import Payload\n",
    "stream=Data.fromfile('bytestream',stream_dt,'teslib','measurement_subsystem_TB',tool='vivado')\n",
    "frames=_PacketData(stream)\n",
    "# del stream\n",
    "# _import(packets)\n",
    "# h=h5py.File('TES.hdf5','r')\n",
    "h=Hdf5('TES.hdf5',stream)\n",
    "# del stream"
   ]
  },
  {
   "cell_type": "code",
   "execution_count": 17,
   "metadata": {
    "collapsed": true
   },
   "outputs": [],
   "source": [
    "h.close()"
   ]
  },
  {
   "cell_type": "code",
   "execution_count": 31,
   "metadata": {},
   "outputs": [
    {
     "data": {
      "application/javascript": [
       "/* Put everything inside the global mpl namespace */\n",
       "window.mpl = {};\n",
       "\n",
       "\n",
       "mpl.get_websocket_type = function() {\n",
       "    if (typeof(WebSocket) !== 'undefined') {\n",
       "        return WebSocket;\n",
       "    } else if (typeof(MozWebSocket) !== 'undefined') {\n",
       "        return MozWebSocket;\n",
       "    } else {\n",
       "        alert('Your browser does not have WebSocket support.' +\n",
       "              'Please try Chrome, Safari or Firefox ≥ 6. ' +\n",
       "              'Firefox 4 and 5 are also supported but you ' +\n",
       "              'have to enable WebSockets in about:config.');\n",
       "    };\n",
       "}\n",
       "\n",
       "mpl.figure = function(figure_id, websocket, ondownload, parent_element) {\n",
       "    this.id = figure_id;\n",
       "\n",
       "    this.ws = websocket;\n",
       "\n",
       "    this.supports_binary = (this.ws.binaryType != undefined);\n",
       "\n",
       "    if (!this.supports_binary) {\n",
       "        var warnings = document.getElementById(\"mpl-warnings\");\n",
       "        if (warnings) {\n",
       "            warnings.style.display = 'block';\n",
       "            warnings.textContent = (\n",
       "                \"This browser does not support binary websocket messages. \" +\n",
       "                    \"Performance may be slow.\");\n",
       "        }\n",
       "    }\n",
       "\n",
       "    this.imageObj = new Image();\n",
       "\n",
       "    this.context = undefined;\n",
       "    this.message = undefined;\n",
       "    this.canvas = undefined;\n",
       "    this.rubberband_canvas = undefined;\n",
       "    this.rubberband_context = undefined;\n",
       "    this.format_dropdown = undefined;\n",
       "\n",
       "    this.image_mode = 'full';\n",
       "\n",
       "    this.root = $('<div/>');\n",
       "    this._root_extra_style(this.root)\n",
       "    this.root.attr('style', 'display: inline-block');\n",
       "\n",
       "    $(parent_element).append(this.root);\n",
       "\n",
       "    this._init_header(this);\n",
       "    this._init_canvas(this);\n",
       "    this._init_toolbar(this);\n",
       "\n",
       "    var fig = this;\n",
       "\n",
       "    this.waiting = false;\n",
       "\n",
       "    this.ws.onopen =  function () {\n",
       "            fig.send_message(\"supports_binary\", {value: fig.supports_binary});\n",
       "            fig.send_message(\"send_image_mode\", {});\n",
       "            if (mpl.ratio != 1) {\n",
       "                fig.send_message(\"set_dpi_ratio\", {'dpi_ratio': mpl.ratio});\n",
       "            }\n",
       "            fig.send_message(\"refresh\", {});\n",
       "        }\n",
       "\n",
       "    this.imageObj.onload = function() {\n",
       "            if (fig.image_mode == 'full') {\n",
       "                // Full images could contain transparency (where diff images\n",
       "                // almost always do), so we need to clear the canvas so that\n",
       "                // there is no ghosting.\n",
       "                fig.context.clearRect(0, 0, fig.canvas.width, fig.canvas.height);\n",
       "            }\n",
       "            fig.context.drawImage(fig.imageObj, 0, 0);\n",
       "        };\n",
       "\n",
       "    this.imageObj.onunload = function() {\n",
       "        this.ws.close();\n",
       "    }\n",
       "\n",
       "    this.ws.onmessage = this._make_on_message_function(this);\n",
       "\n",
       "    this.ondownload = ondownload;\n",
       "}\n",
       "\n",
       "mpl.figure.prototype._init_header = function() {\n",
       "    var titlebar = $(\n",
       "        '<div class=\"ui-dialog-titlebar ui-widget-header ui-corner-all ' +\n",
       "        'ui-helper-clearfix\"/>');\n",
       "    var titletext = $(\n",
       "        '<div class=\"ui-dialog-title\" style=\"width: 100%; ' +\n",
       "        'text-align: center; padding: 3px;\"/>');\n",
       "    titlebar.append(titletext)\n",
       "    this.root.append(titlebar);\n",
       "    this.header = titletext[0];\n",
       "}\n",
       "\n",
       "\n",
       "\n",
       "mpl.figure.prototype._canvas_extra_style = function(canvas_div) {\n",
       "\n",
       "}\n",
       "\n",
       "\n",
       "mpl.figure.prototype._root_extra_style = function(canvas_div) {\n",
       "\n",
       "}\n",
       "\n",
       "mpl.figure.prototype._init_canvas = function() {\n",
       "    var fig = this;\n",
       "\n",
       "    var canvas_div = $('<div/>');\n",
       "\n",
       "    canvas_div.attr('style', 'position: relative; clear: both; outline: 0');\n",
       "\n",
       "    function canvas_keyboard_event(event) {\n",
       "        return fig.key_event(event, event['data']);\n",
       "    }\n",
       "\n",
       "    canvas_div.keydown('key_press', canvas_keyboard_event);\n",
       "    canvas_div.keyup('key_release', canvas_keyboard_event);\n",
       "    this.canvas_div = canvas_div\n",
       "    this._canvas_extra_style(canvas_div)\n",
       "    this.root.append(canvas_div);\n",
       "\n",
       "    var canvas = $('<canvas/>');\n",
       "    canvas.addClass('mpl-canvas');\n",
       "    canvas.attr('style', \"left: 0; top: 0; z-index: 0; outline: 0\")\n",
       "\n",
       "    this.canvas = canvas[0];\n",
       "    this.context = canvas[0].getContext(\"2d\");\n",
       "\n",
       "    var backingStore = this.context.backingStorePixelRatio ||\n",
       "\tthis.context.webkitBackingStorePixelRatio ||\n",
       "\tthis.context.mozBackingStorePixelRatio ||\n",
       "\tthis.context.msBackingStorePixelRatio ||\n",
       "\tthis.context.oBackingStorePixelRatio ||\n",
       "\tthis.context.backingStorePixelRatio || 1;\n",
       "\n",
       "    mpl.ratio = (window.devicePixelRatio || 1) / backingStore;\n",
       "\n",
       "    var rubberband = $('<canvas/>');\n",
       "    rubberband.attr('style', \"position: absolute; left: 0; top: 0; z-index: 1;\")\n",
       "\n",
       "    var pass_mouse_events = true;\n",
       "\n",
       "    canvas_div.resizable({\n",
       "        start: function(event, ui) {\n",
       "            pass_mouse_events = false;\n",
       "        },\n",
       "        resize: function(event, ui) {\n",
       "            fig.request_resize(ui.size.width, ui.size.height);\n",
       "        },\n",
       "        stop: function(event, ui) {\n",
       "            pass_mouse_events = true;\n",
       "            fig.request_resize(ui.size.width, ui.size.height);\n",
       "        },\n",
       "    });\n",
       "\n",
       "    function mouse_event_fn(event) {\n",
       "        if (pass_mouse_events)\n",
       "            return fig.mouse_event(event, event['data']);\n",
       "    }\n",
       "\n",
       "    rubberband.mousedown('button_press', mouse_event_fn);\n",
       "    rubberband.mouseup('button_release', mouse_event_fn);\n",
       "    // Throttle sequential mouse events to 1 every 20ms.\n",
       "    rubberband.mousemove('motion_notify', mouse_event_fn);\n",
       "\n",
       "    rubberband.mouseenter('figure_enter', mouse_event_fn);\n",
       "    rubberband.mouseleave('figure_leave', mouse_event_fn);\n",
       "\n",
       "    canvas_div.on(\"wheel\", function (event) {\n",
       "        event = event.originalEvent;\n",
       "        event['data'] = 'scroll'\n",
       "        if (event.deltaY < 0) {\n",
       "            event.step = 1;\n",
       "        } else {\n",
       "            event.step = -1;\n",
       "        }\n",
       "        mouse_event_fn(event);\n",
       "    });\n",
       "\n",
       "    canvas_div.append(canvas);\n",
       "    canvas_div.append(rubberband);\n",
       "\n",
       "    this.rubberband = rubberband;\n",
       "    this.rubberband_canvas = rubberband[0];\n",
       "    this.rubberband_context = rubberband[0].getContext(\"2d\");\n",
       "    this.rubberband_context.strokeStyle = \"#000000\";\n",
       "\n",
       "    this._resize_canvas = function(width, height) {\n",
       "        // Keep the size of the canvas, canvas container, and rubber band\n",
       "        // canvas in synch.\n",
       "        canvas_div.css('width', width)\n",
       "        canvas_div.css('height', height)\n",
       "\n",
       "        canvas.attr('width', width * mpl.ratio);\n",
       "        canvas.attr('height', height * mpl.ratio);\n",
       "        canvas.attr('style', 'width: ' + width + 'px; height: ' + height + 'px;');\n",
       "\n",
       "        rubberband.attr('width', width);\n",
       "        rubberband.attr('height', height);\n",
       "    }\n",
       "\n",
       "    // Set the figure to an initial 600x600px, this will subsequently be updated\n",
       "    // upon first draw.\n",
       "    this._resize_canvas(600, 600);\n",
       "\n",
       "    // Disable right mouse context menu.\n",
       "    $(this.rubberband_canvas).bind(\"contextmenu\",function(e){\n",
       "        return false;\n",
       "    });\n",
       "\n",
       "    function set_focus () {\n",
       "        canvas.focus();\n",
       "        canvas_div.focus();\n",
       "    }\n",
       "\n",
       "    window.setTimeout(set_focus, 100);\n",
       "}\n",
       "\n",
       "mpl.figure.prototype._init_toolbar = function() {\n",
       "    var fig = this;\n",
       "\n",
       "    var nav_element = $('<div/>')\n",
       "    nav_element.attr('style', 'width: 100%');\n",
       "    this.root.append(nav_element);\n",
       "\n",
       "    // Define a callback function for later on.\n",
       "    function toolbar_event(event) {\n",
       "        return fig.toolbar_button_onclick(event['data']);\n",
       "    }\n",
       "    function toolbar_mouse_event(event) {\n",
       "        return fig.toolbar_button_onmouseover(event['data']);\n",
       "    }\n",
       "\n",
       "    for(var toolbar_ind in mpl.toolbar_items) {\n",
       "        var name = mpl.toolbar_items[toolbar_ind][0];\n",
       "        var tooltip = mpl.toolbar_items[toolbar_ind][1];\n",
       "        var image = mpl.toolbar_items[toolbar_ind][2];\n",
       "        var method_name = mpl.toolbar_items[toolbar_ind][3];\n",
       "\n",
       "        if (!name) {\n",
       "            // put a spacer in here.\n",
       "            continue;\n",
       "        }\n",
       "        var button = $('<button/>');\n",
       "        button.addClass('ui-button ui-widget ui-state-default ui-corner-all ' +\n",
       "                        'ui-button-icon-only');\n",
       "        button.attr('role', 'button');\n",
       "        button.attr('aria-disabled', 'false');\n",
       "        button.click(method_name, toolbar_event);\n",
       "        button.mouseover(tooltip, toolbar_mouse_event);\n",
       "\n",
       "        var icon_img = $('<span/>');\n",
       "        icon_img.addClass('ui-button-icon-primary ui-icon');\n",
       "        icon_img.addClass(image);\n",
       "        icon_img.addClass('ui-corner-all');\n",
       "\n",
       "        var tooltip_span = $('<span/>');\n",
       "        tooltip_span.addClass('ui-button-text');\n",
       "        tooltip_span.html(tooltip);\n",
       "\n",
       "        button.append(icon_img);\n",
       "        button.append(tooltip_span);\n",
       "\n",
       "        nav_element.append(button);\n",
       "    }\n",
       "\n",
       "    var fmt_picker_span = $('<span/>');\n",
       "\n",
       "    var fmt_picker = $('<select/>');\n",
       "    fmt_picker.addClass('mpl-toolbar-option ui-widget ui-widget-content');\n",
       "    fmt_picker_span.append(fmt_picker);\n",
       "    nav_element.append(fmt_picker_span);\n",
       "    this.format_dropdown = fmt_picker[0];\n",
       "\n",
       "    for (var ind in mpl.extensions) {\n",
       "        var fmt = mpl.extensions[ind];\n",
       "        var option = $(\n",
       "            '<option/>', {selected: fmt === mpl.default_extension}).html(fmt);\n",
       "        fmt_picker.append(option)\n",
       "    }\n",
       "\n",
       "    // Add hover states to the ui-buttons\n",
       "    $( \".ui-button\" ).hover(\n",
       "        function() { $(this).addClass(\"ui-state-hover\");},\n",
       "        function() { $(this).removeClass(\"ui-state-hover\");}\n",
       "    );\n",
       "\n",
       "    var status_bar = $('<span class=\"mpl-message\"/>');\n",
       "    nav_element.append(status_bar);\n",
       "    this.message = status_bar[0];\n",
       "}\n",
       "\n",
       "mpl.figure.prototype.request_resize = function(x_pixels, y_pixels) {\n",
       "    // Request matplotlib to resize the figure. Matplotlib will then trigger a resize in the client,\n",
       "    // which will in turn request a refresh of the image.\n",
       "    this.send_message('resize', {'width': x_pixels, 'height': y_pixels});\n",
       "}\n",
       "\n",
       "mpl.figure.prototype.send_message = function(type, properties) {\n",
       "    properties['type'] = type;\n",
       "    properties['figure_id'] = this.id;\n",
       "    this.ws.send(JSON.stringify(properties));\n",
       "}\n",
       "\n",
       "mpl.figure.prototype.send_draw_message = function() {\n",
       "    if (!this.waiting) {\n",
       "        this.waiting = true;\n",
       "        this.ws.send(JSON.stringify({type: \"draw\", figure_id: this.id}));\n",
       "    }\n",
       "}\n",
       "\n",
       "\n",
       "mpl.figure.prototype.handle_save = function(fig, msg) {\n",
       "    var format_dropdown = fig.format_dropdown;\n",
       "    var format = format_dropdown.options[format_dropdown.selectedIndex].value;\n",
       "    fig.ondownload(fig, format);\n",
       "}\n",
       "\n",
       "\n",
       "mpl.figure.prototype.handle_resize = function(fig, msg) {\n",
       "    var size = msg['size'];\n",
       "    if (size[0] != fig.canvas.width || size[1] != fig.canvas.height) {\n",
       "        fig._resize_canvas(size[0], size[1]);\n",
       "        fig.send_message(\"refresh\", {});\n",
       "    };\n",
       "}\n",
       "\n",
       "mpl.figure.prototype.handle_rubberband = function(fig, msg) {\n",
       "    var x0 = msg['x0'] / mpl.ratio;\n",
       "    var y0 = (fig.canvas.height - msg['y0']) / mpl.ratio;\n",
       "    var x1 = msg['x1'] / mpl.ratio;\n",
       "    var y1 = (fig.canvas.height - msg['y1']) / mpl.ratio;\n",
       "    x0 = Math.floor(x0) + 0.5;\n",
       "    y0 = Math.floor(y0) + 0.5;\n",
       "    x1 = Math.floor(x1) + 0.5;\n",
       "    y1 = Math.floor(y1) + 0.5;\n",
       "    var min_x = Math.min(x0, x1);\n",
       "    var min_y = Math.min(y0, y1);\n",
       "    var width = Math.abs(x1 - x0);\n",
       "    var height = Math.abs(y1 - y0);\n",
       "\n",
       "    fig.rubberband_context.clearRect(\n",
       "        0, 0, fig.canvas.width, fig.canvas.height);\n",
       "\n",
       "    fig.rubberband_context.strokeRect(min_x, min_y, width, height);\n",
       "}\n",
       "\n",
       "mpl.figure.prototype.handle_figure_label = function(fig, msg) {\n",
       "    // Updates the figure title.\n",
       "    fig.header.textContent = msg['label'];\n",
       "}\n",
       "\n",
       "mpl.figure.prototype.handle_cursor = function(fig, msg) {\n",
       "    var cursor = msg['cursor'];\n",
       "    switch(cursor)\n",
       "    {\n",
       "    case 0:\n",
       "        cursor = 'pointer';\n",
       "        break;\n",
       "    case 1:\n",
       "        cursor = 'default';\n",
       "        break;\n",
       "    case 2:\n",
       "        cursor = 'crosshair';\n",
       "        break;\n",
       "    case 3:\n",
       "        cursor = 'move';\n",
       "        break;\n",
       "    }\n",
       "    fig.rubberband_canvas.style.cursor = cursor;\n",
       "}\n",
       "\n",
       "mpl.figure.prototype.handle_message = function(fig, msg) {\n",
       "    fig.message.textContent = msg['message'];\n",
       "}\n",
       "\n",
       "mpl.figure.prototype.handle_draw = function(fig, msg) {\n",
       "    // Request the server to send over a new figure.\n",
       "    fig.send_draw_message();\n",
       "}\n",
       "\n",
       "mpl.figure.prototype.handle_image_mode = function(fig, msg) {\n",
       "    fig.image_mode = msg['mode'];\n",
       "}\n",
       "\n",
       "mpl.figure.prototype.updated_canvas_event = function() {\n",
       "    // Called whenever the canvas gets updated.\n",
       "    this.send_message(\"ack\", {});\n",
       "}\n",
       "\n",
       "// A function to construct a web socket function for onmessage handling.\n",
       "// Called in the figure constructor.\n",
       "mpl.figure.prototype._make_on_message_function = function(fig) {\n",
       "    return function socket_on_message(evt) {\n",
       "        if (evt.data instanceof Blob) {\n",
       "            /* FIXME: We get \"Resource interpreted as Image but\n",
       "             * transferred with MIME type text/plain:\" errors on\n",
       "             * Chrome.  But how to set the MIME type?  It doesn't seem\n",
       "             * to be part of the websocket stream */\n",
       "            evt.data.type = \"image/png\";\n",
       "\n",
       "            /* Free the memory for the previous frames */\n",
       "            if (fig.imageObj.src) {\n",
       "                (window.URL || window.webkitURL).revokeObjectURL(\n",
       "                    fig.imageObj.src);\n",
       "            }\n",
       "\n",
       "            fig.imageObj.src = (window.URL || window.webkitURL).createObjectURL(\n",
       "                evt.data);\n",
       "            fig.updated_canvas_event();\n",
       "            fig.waiting = false;\n",
       "            return;\n",
       "        }\n",
       "        else if (typeof evt.data === 'string' && evt.data.slice(0, 21) == \"data:image/png;base64\") {\n",
       "            fig.imageObj.src = evt.data;\n",
       "            fig.updated_canvas_event();\n",
       "            fig.waiting = false;\n",
       "            return;\n",
       "        }\n",
       "\n",
       "        var msg = JSON.parse(evt.data);\n",
       "        var msg_type = msg['type'];\n",
       "\n",
       "        // Call the  \"handle_{type}\" callback, which takes\n",
       "        // the figure and JSON message as its only arguments.\n",
       "        try {\n",
       "            var callback = fig[\"handle_\" + msg_type];\n",
       "        } catch (e) {\n",
       "            console.log(\"No handler for the '\" + msg_type + \"' message type: \", msg);\n",
       "            return;\n",
       "        }\n",
       "\n",
       "        if (callback) {\n",
       "            try {\n",
       "                // console.log(\"Handling '\" + msg_type + \"' message: \", msg);\n",
       "                callback(fig, msg);\n",
       "            } catch (e) {\n",
       "                console.log(\"Exception inside the 'handler_\" + msg_type + \"' callback:\", e, e.stack, msg);\n",
       "            }\n",
       "        }\n",
       "    };\n",
       "}\n",
       "\n",
       "// from http://stackoverflow.com/questions/1114465/getting-mouse-location-in-canvas\n",
       "mpl.findpos = function(e) {\n",
       "    //this section is from http://www.quirksmode.org/js/events_properties.html\n",
       "    var targ;\n",
       "    if (!e)\n",
       "        e = window.event;\n",
       "    if (e.target)\n",
       "        targ = e.target;\n",
       "    else if (e.srcElement)\n",
       "        targ = e.srcElement;\n",
       "    if (targ.nodeType == 3) // defeat Safari bug\n",
       "        targ = targ.parentNode;\n",
       "\n",
       "    // jQuery normalizes the pageX and pageY\n",
       "    // pageX,Y are the mouse positions relative to the document\n",
       "    // offset() returns the position of the element relative to the document\n",
       "    var x = e.pageX - $(targ).offset().left;\n",
       "    var y = e.pageY - $(targ).offset().top;\n",
       "\n",
       "    return {\"x\": x, \"y\": y};\n",
       "};\n",
       "\n",
       "/*\n",
       " * return a copy of an object with only non-object keys\n",
       " * we need this to avoid circular references\n",
       " * http://stackoverflow.com/a/24161582/3208463\n",
       " */\n",
       "function simpleKeys (original) {\n",
       "  return Object.keys(original).reduce(function (obj, key) {\n",
       "    if (typeof original[key] !== 'object')\n",
       "        obj[key] = original[key]\n",
       "    return obj;\n",
       "  }, {});\n",
       "}\n",
       "\n",
       "mpl.figure.prototype.mouse_event = function(event, name) {\n",
       "    var canvas_pos = mpl.findpos(event)\n",
       "\n",
       "    if (name === 'button_press')\n",
       "    {\n",
       "        this.canvas.focus();\n",
       "        this.canvas_div.focus();\n",
       "    }\n",
       "\n",
       "    var x = canvas_pos.x * mpl.ratio;\n",
       "    var y = canvas_pos.y * mpl.ratio;\n",
       "\n",
       "    this.send_message(name, {x: x, y: y, button: event.button,\n",
       "                             step: event.step,\n",
       "                             guiEvent: simpleKeys(event)});\n",
       "\n",
       "    /* This prevents the web browser from automatically changing to\n",
       "     * the text insertion cursor when the button is pressed.  We want\n",
       "     * to control all of the cursor setting manually through the\n",
       "     * 'cursor' event from matplotlib */\n",
       "    event.preventDefault();\n",
       "    return false;\n",
       "}\n",
       "\n",
       "mpl.figure.prototype._key_event_extra = function(event, name) {\n",
       "    // Handle any extra behaviour associated with a key event\n",
       "}\n",
       "\n",
       "mpl.figure.prototype.key_event = function(event, name) {\n",
       "\n",
       "    // Prevent repeat events\n",
       "    if (name == 'key_press')\n",
       "    {\n",
       "        if (event.which === this._key)\n",
       "            return;\n",
       "        else\n",
       "            this._key = event.which;\n",
       "    }\n",
       "    if (name == 'key_release')\n",
       "        this._key = null;\n",
       "\n",
       "    var value = '';\n",
       "    if (event.ctrlKey && event.which != 17)\n",
       "        value += \"ctrl+\";\n",
       "    if (event.altKey && event.which != 18)\n",
       "        value += \"alt+\";\n",
       "    if (event.shiftKey && event.which != 16)\n",
       "        value += \"shift+\";\n",
       "\n",
       "    value += 'k';\n",
       "    value += event.which.toString();\n",
       "\n",
       "    this._key_event_extra(event, name);\n",
       "\n",
       "    this.send_message(name, {key: value,\n",
       "                             guiEvent: simpleKeys(event)});\n",
       "    return false;\n",
       "}\n",
       "\n",
       "mpl.figure.prototype.toolbar_button_onclick = function(name) {\n",
       "    if (name == 'download') {\n",
       "        this.handle_save(this, null);\n",
       "    } else {\n",
       "        this.send_message(\"toolbar_button\", {name: name});\n",
       "    }\n",
       "};\n",
       "\n",
       "mpl.figure.prototype.toolbar_button_onmouseover = function(tooltip) {\n",
       "    this.message.textContent = tooltip;\n",
       "};\n",
       "mpl.toolbar_items = [[\"Home\", \"Reset original view\", \"fa fa-home icon-home\", \"home\"], [\"Back\", \"Back to  previous view\", \"fa fa-arrow-left icon-arrow-left\", \"back\"], [\"Forward\", \"Forward to next view\", \"fa fa-arrow-right icon-arrow-right\", \"forward\"], [\"\", \"\", \"\", \"\"], [\"Pan\", \"Pan axes with left mouse, zoom with right\", \"fa fa-arrows icon-move\", \"pan\"], [\"Zoom\", \"Zoom to rectangle\", \"fa fa-square-o icon-check-empty\", \"zoom\"], [\"\", \"\", \"\", \"\"], [\"Download\", \"Download plot\", \"fa fa-floppy-o icon-save\", \"download\"]];\n",
       "\n",
       "mpl.extensions = [\"eps\", \"pdf\", \"png\", \"ps\", \"raw\", \"svg\"];\n",
       "\n",
       "mpl.default_extension = \"png\";var comm_websocket_adapter = function(comm) {\n",
       "    // Create a \"websocket\"-like object which calls the given IPython comm\n",
       "    // object with the appropriate methods. Currently this is a non binary\n",
       "    // socket, so there is still some room for performance tuning.\n",
       "    var ws = {};\n",
       "\n",
       "    ws.close = function() {\n",
       "        comm.close()\n",
       "    };\n",
       "    ws.send = function(m) {\n",
       "        //console.log('sending', m);\n",
       "        comm.send(m);\n",
       "    };\n",
       "    // Register the callback with on_msg.\n",
       "    comm.on_msg(function(msg) {\n",
       "        //console.log('receiving', msg['content']['data'], msg);\n",
       "        // Pass the mpl event to the overriden (by mpl) onmessage function.\n",
       "        ws.onmessage(msg['content']['data'])\n",
       "    });\n",
       "    return ws;\n",
       "}\n",
       "\n",
       "mpl.mpl_figure_comm = function(comm, msg) {\n",
       "    // This is the function which gets called when the mpl process\n",
       "    // starts-up an IPython Comm through the \"matplotlib\" channel.\n",
       "\n",
       "    var id = msg.content.data.id;\n",
       "    // Get hold of the div created by the display call when the Comm\n",
       "    // socket was opened in Python.\n",
       "    var element = $(\"#\" + id);\n",
       "    var ws_proxy = comm_websocket_adapter(comm)\n",
       "\n",
       "    function ondownload(figure, format) {\n",
       "        window.open(figure.imageObj.src);\n",
       "    }\n",
       "\n",
       "    var fig = new mpl.figure(id, ws_proxy,\n",
       "                           ondownload,\n",
       "                           element.get(0));\n",
       "\n",
       "    // Call onopen now - mpl needs it, as it is assuming we've passed it a real\n",
       "    // web socket which is closed, not our websocket->open comm proxy.\n",
       "    ws_proxy.onopen();\n",
       "\n",
       "    fig.parent_element = element.get(0);\n",
       "    fig.cell_info = mpl.find_output_cell(\"<div id='\" + id + \"'></div>\");\n",
       "    if (!fig.cell_info) {\n",
       "        console.error(\"Failed to find cell for figure\", id, fig);\n",
       "        return;\n",
       "    }\n",
       "\n",
       "    var output_index = fig.cell_info[2]\n",
       "    var cell = fig.cell_info[0];\n",
       "\n",
       "};\n",
       "\n",
       "mpl.figure.prototype.handle_close = function(fig, msg) {\n",
       "    var width = fig.canvas.width/mpl.ratio\n",
       "    fig.root.unbind('remove')\n",
       "\n",
       "    // Update the output cell to use the data from the current canvas.\n",
       "    fig.push_to_output();\n",
       "    var dataURL = fig.canvas.toDataURL();\n",
       "    // Re-enable the keyboard manager in IPython - without this line, in FF,\n",
       "    // the notebook keyboard shortcuts fail.\n",
       "    IPython.keyboard_manager.enable()\n",
       "    $(fig.parent_element).html('<img src=\"' + dataURL + '\" width=\"' + width + '\">');\n",
       "    fig.close_ws(fig, msg);\n",
       "}\n",
       "\n",
       "mpl.figure.prototype.close_ws = function(fig, msg){\n",
       "    fig.send_message('closing', msg);\n",
       "    // fig.ws.close()\n",
       "}\n",
       "\n",
       "mpl.figure.prototype.push_to_output = function(remove_interactive) {\n",
       "    // Turn the data on the canvas into data in the output cell.\n",
       "    var width = this.canvas.width/mpl.ratio\n",
       "    var dataURL = this.canvas.toDataURL();\n",
       "    this.cell_info[1]['text/html'] = '<img src=\"' + dataURL + '\" width=\"' + width + '\">';\n",
       "}\n",
       "\n",
       "mpl.figure.prototype.updated_canvas_event = function() {\n",
       "    // Tell IPython that the notebook contents must change.\n",
       "    IPython.notebook.set_dirty(true);\n",
       "    this.send_message(\"ack\", {});\n",
       "    var fig = this;\n",
       "    // Wait a second, then push the new image to the DOM so\n",
       "    // that it is saved nicely (might be nice to debounce this).\n",
       "    setTimeout(function () { fig.push_to_output() }, 1000);\n",
       "}\n",
       "\n",
       "mpl.figure.prototype._init_toolbar = function() {\n",
       "    var fig = this;\n",
       "\n",
       "    var nav_element = $('<div/>')\n",
       "    nav_element.attr('style', 'width: 100%');\n",
       "    this.root.append(nav_element);\n",
       "\n",
       "    // Define a callback function for later on.\n",
       "    function toolbar_event(event) {\n",
       "        return fig.toolbar_button_onclick(event['data']);\n",
       "    }\n",
       "    function toolbar_mouse_event(event) {\n",
       "        return fig.toolbar_button_onmouseover(event['data']);\n",
       "    }\n",
       "\n",
       "    for(var toolbar_ind in mpl.toolbar_items){\n",
       "        var name = mpl.toolbar_items[toolbar_ind][0];\n",
       "        var tooltip = mpl.toolbar_items[toolbar_ind][1];\n",
       "        var image = mpl.toolbar_items[toolbar_ind][2];\n",
       "        var method_name = mpl.toolbar_items[toolbar_ind][3];\n",
       "\n",
       "        if (!name) { continue; };\n",
       "\n",
       "        var button = $('<button class=\"btn btn-default\" href=\"#\" title=\"' + name + '\"><i class=\"fa ' + image + ' fa-lg\"></i></button>');\n",
       "        button.click(method_name, toolbar_event);\n",
       "        button.mouseover(tooltip, toolbar_mouse_event);\n",
       "        nav_element.append(button);\n",
       "    }\n",
       "\n",
       "    // Add the status bar.\n",
       "    var status_bar = $('<span class=\"mpl-message\" style=\"text-align:right; float: right;\"/>');\n",
       "    nav_element.append(status_bar);\n",
       "    this.message = status_bar[0];\n",
       "\n",
       "    // Add the close button to the window.\n",
       "    var buttongrp = $('<div class=\"btn-group inline pull-right\"></div>');\n",
       "    var button = $('<button class=\"btn btn-mini btn-primary\" href=\"#\" title=\"Stop Interaction\"><i class=\"fa fa-power-off icon-remove icon-large\"></i></button>');\n",
       "    button.click(function (evt) { fig.handle_close(fig, {}); } );\n",
       "    button.mouseover('Stop Interaction', toolbar_mouse_event);\n",
       "    buttongrp.append(button);\n",
       "    var titlebar = this.root.find($('.ui-dialog-titlebar'));\n",
       "    titlebar.prepend(buttongrp);\n",
       "}\n",
       "\n",
       "mpl.figure.prototype._root_extra_style = function(el){\n",
       "    var fig = this\n",
       "    el.on(\"remove\", function(){\n",
       "\tfig.close_ws(fig, {});\n",
       "    });\n",
       "}\n",
       "\n",
       "mpl.figure.prototype._canvas_extra_style = function(el){\n",
       "    // this is important to make the div 'focusable\n",
       "    el.attr('tabindex', 0)\n",
       "    // reach out to IPython and tell the keyboard manager to turn it's self\n",
       "    // off when our div gets focus\n",
       "\n",
       "    // location in version 3\n",
       "    if (IPython.notebook.keyboard_manager) {\n",
       "        IPython.notebook.keyboard_manager.register_events(el);\n",
       "    }\n",
       "    else {\n",
       "        // location in version 2\n",
       "        IPython.keyboard_manager.register_events(el);\n",
       "    }\n",
       "\n",
       "}\n",
       "\n",
       "mpl.figure.prototype._key_event_extra = function(event, name) {\n",
       "    var manager = IPython.notebook.keyboard_manager;\n",
       "    if (!manager)\n",
       "        manager = IPython.keyboard_manager;\n",
       "\n",
       "    // Check for shift+enter\n",
       "    if (event.shiftKey && event.which == 13) {\n",
       "        this.canvas_div.blur();\n",
       "        // select the cell after this one\n",
       "        var index = IPython.notebook.find_cell_index(this.cell_info[0]);\n",
       "        IPython.notebook.select(index + 1);\n",
       "    }\n",
       "}\n",
       "\n",
       "mpl.figure.prototype.handle_save = function(fig, msg) {\n",
       "    fig.ondownload(fig, null);\n",
       "}\n",
       "\n",
       "\n",
       "mpl.find_output_cell = function(html_output) {\n",
       "    // Return the cell and output element which can be found *uniquely* in the notebook.\n",
       "    // Note - this is a bit hacky, but it is done because the \"notebook_saving.Notebook\"\n",
       "    // IPython event is triggered only after the cells have been serialised, which for\n",
       "    // our purposes (turning an active figure into a static one), is too late.\n",
       "    var cells = IPython.notebook.get_cells();\n",
       "    var ncells = cells.length;\n",
       "    for (var i=0; i<ncells; i++) {\n",
       "        var cell = cells[i];\n",
       "        if (cell.cell_type === 'code'){\n",
       "            for (var j=0; j<cell.output_area.outputs.length; j++) {\n",
       "                var data = cell.output_area.outputs[j];\n",
       "                if (data.data) {\n",
       "                    // IPython >= 3 moved mimebundle to data attribute of output\n",
       "                    data = data.data;\n",
       "                }\n",
       "                if (data['text/html'] == html_output) {\n",
       "                    return [cell, data, j];\n",
       "                }\n",
       "            }\n",
       "        }\n",
       "    }\n",
       "}\n",
       "\n",
       "// Register the function which deals with the matplotlib target/channel.\n",
       "// The kernel may be null if the page has been refreshed.\n",
       "if (IPython.notebook.kernel != null) {\n",
       "    IPython.notebook.kernel.comm_manager.register_target('matplotlib', mpl.mpl_figure_comm);\n",
       "}\n"
      ],
      "text/plain": [
       "<IPython.core.display.Javascript object>"
      ]
     },
     "metadata": {},
     "output_type": "display_data"
    },
    {
     "data": {
      "text/html": [
       "<img src=\"data:image/png;base64,iVBORw0KGgoAAAANSUhEUgAABLAAAAOECAYAAACxbcj6AAAgAElEQVR4XuzdB3gVVd7H8V86hNBCkypNiigd6QJW1BUbLuquDRsqVtRd3XffdVf3XV27oFgBK3ZXUNQVla4C0qQX6b2XBNLf58TLTW5ISLuZe2bme5/HRzQz5/zP5z9K8mPmTJT4IIAAAggggAACCCCAAAIIIIAAAgggYLFAlMW1URoCCCCAAAIIIIAAAggggAACCCCAAAIiwOIiQAABBBBAAAEEEEAAAQQQQAABBBCwWoAAy+r2UBwCCCCAAAIIIIAAAggggAACCCCAAAEW1wACCCCAAAIIIIAAAggggAACCCCAgNUCBFhWt4fiEEAAAQQQQAABBBBAAAEEEEAAAQQIsLgGEEAAAQQQQAABBBBAAAEEEEAAAQSsFiDAsro9FIcAAggggAACCCCAAAIIIIAAAgggQIDFNYAAAggggAACCCCAAAIIIIAAAgggYLUAAZbV7aE4BBBAAAEEEEAAAQQQQAABBBBAAAECLK4BBBBAAAEEEEAAAQQQQAABBBBAAAGrBQiwrG4PxSGAAAIIIIAAAggggAACCCCAAAIIEGBxDSCAAAIIIIAAAggggAACCCCAAAIIWC1AgGV1eygOAQQQQAABBBBAAAEEEEAAAQQQQIAAi2sAAQQQQAABBBBAAAEEEEAAAQQQQMBqAQIsq9tDcQgggAACCCCAAAIIIIAAAggggAACBFhcAwgggAACCCCAAAIIIIAAAggggAACVgsQYFndHopDAAEEEEAAAQQQQAABBBBAAAEEECDA4hpAAAEEEEAAAQQQQAABBBBAAAEEELBagADL6vZQHAIIIIAAAggggAACCCCAAAIIIIAAARbXAAIIIIAAAggggAACCCCAAAIIIICA1QIEWFa3h+IQQAABBBBAAAEEEEAAAQQQQAABBAiwuAYQQAABBBBAAAEEEEAAAQQQQAABBKwWIMCyuj0UhwACCCCAAAIIIIAAAggggAACCCBAgMU1gAACCCCAAAIIIIAAAggggAACCCBgtQABltXtoTgEEEAAAQQQQAABBBBAAAEEEEAAAQIsrgEEEEAAAQQQQAABBBBAAAEEEEAAAasFCLCsbg/FIYAAAggggAACCCCAAAIIIIAAAggQYHENIIAAAggggAACCCCAAAIIIIAAAghYLUCAZXV7KA4BBBBAAAEEEEAAAQQQQAABBBBAgACLawABBBBAAAEEEEAAAQQQQAABBBBAwGoBAiyr20NxCCCAAAIIIIAAAggggAACCCCAAAIEWFwDCCCAAAIIIIAAAggggAACCCCAAAJWCxBgWd0eikMAAQQQQAABBBBAAAEEEEAAAQQQIMDiGkAAAQQQQAABBBBAAAEEEEAAAQQQsFqAAMvq9lAcAggggAACCCCAAAIIIIAAAggggAABFtcAAggggAACCCCAAAIIIIAAAggggIDVAgRYVreH4hBAAAEEEEAAAQQQQAABBBBAAAEECLC4BhBAAAEEEEAAAQQQQAABBBBAAAEErBYgwLK6PRSHAAIIIIAAAggggAACCCCAAAIIIECAxTWAAAIIIIAAAggggAACCCCAAAIIIGC1AAGW1e2hOAQQQAABBBBAAAEEEEAAAQQQQAABAiyuAQQQQAABBBBAAAEEEEAAAQQQQAABqwUIsKxuD8UhgAACCCCAAAIIIIAAAggggAACCBBgcQ0ggAACCCCAAAIIIIAAAggggAACCFgtQIBldXsoDgEEEEAAAQQQQAABBBBAAAEEEECAAItrAAEEEEAAAQQQQAABBBBAAAEEEEDAagECLKvbQ3EIIIAAAggggAACCCCAAAIIIIAAAgRYXAMIIIAAAggggAACCCCAAAIIIIAAAlYLEGBZ3R6KQwABBBBAAAEEEEAAAQQQQAABBBAgwOIaQAABBBBAAAEEEEAAAQQQQAABBBCwWoAAy+r2UBwCCCCAAAIIIIAAAggggAACCCCAAAEW1wACCCCAAAIIIIAAAggggAACCCCAgNUCBFhWt4fiEEAAAQQQQAABBBBAAAEEEEAAAQQIsLgGEEAAAQQQQAABBBBAAAEEEEAAAQSsFiDAsro9FIcAAggggAACCCCAAAIIIIAAAgggQIDFNYAAAggggAACCCCAAAIIIIAAAgggYLUAAZbV7aE4BBBAAAEEEEAAAQQQQAABBBBAAAECLK4BBBBAAAEEEEAAAQQQQAABBBBAAAGrBQiwrG4PxSGAAAIIIIAAAggggAACCCCAAAIIEGBxDSCAAAIIIIAAAggggAACCCCAAAIIWC1AgGV1eygOAQQQQAABBBBAAAEEEEAAAQQQQIAAi2sAAQQQQAABBBBAAAEEEEAAAQQQQMBqAQIsq9tDcQgggAACCCCAAAIIIIAAAggggAACBFhcAwgggAACCCCAAAIIIIAAAggggAACVgsQYFndHopDAAEEEEAAAQQQQAABBBBAAAEEECDA4hpAAAEEEEAAAQQQQAABBBBAAAEEELBagADL6vZQHAIIIIAAAggggAACCCCAAAIIIIAAARbXAAIIIIAAAggggAACCCCAAAIIIICA1QIEWFa3h+IQQAABBBBAAAEEEEAAAQQQQAABBAiwuAYQQAABBBBAAAEEEEAAAQQQQAABBKwWIMCyuj0UhwACCCCAAAIIIIAAAggggAACCCBAgMU1gAACCCCAAAIIIIAAAggggAACCCBgtQABltXtoTgEEEAAAQQQQAABBBBAAAEEEEAAAQIsrgEEEEAAAQQQQAABBBBAAAEEEEAAAasFCLCsbg/FIYAAAggggAACCCCAAAIIIIAAAggQYHENIIAAAggggAACCCCAAAIIIIAAAghYLUCAZXV7KA4BBBBAAAEEEEAAAQQQQAABBBBAgACLawABBBBAAAEEEEAAAQQQQAABBBBAwGoBAiyr20NxCCCAAAIIIIAAAggggAACCCCAAAIEWFwDCCCAAAIIIIAAAggggAACCCCAAAJWCxBgWd0eikMAAQQQQAABBBBAAAEEEEAAAQQQIMDiGkAAAQQQQAABBBBAAAEEEEAAAQQQsFqAAMvq9lAcAggggAACCCCAAAIIIIAAAggggAABFtcAAggggAACCCCAAAIIIIAAAggggIDVAgRYVreH4hBAAAEEEEAAAQQQQAABBBBAAAEECLC4BhBAAAEEEEAAAQQQQAABBBBAAAEErBYgwLK6PRSHAAIIIIAAAggggAACCCCAAAIIIECAxTWAAAIIIIAAAggggAACCCCAAAIIIGC1AAGW1e2hOAQQQAABBBBAAAEEEEAAAQQQQAABAiyuAQQQQAABBBBAAAEEEEAAAQQQQAABqwUIsKxuD8UhgAACCCCAAAIIIIAAAggggAACCBBgcQ0ggAACCCCAAAIIIIAAAggggAACCFgtQIBldXsoDgEEEEAAAQQQQAABBBBAAAEEEECAAItrAAEEEEAAAQQQQAABBBBAAAEEEEDAagECLKvbQ3EIIIAAAggggAACCCCAAAIIIIAAAgRYXAMIIIAAAggggAACCCCAAAIIIIAAAlYLEGBZ3R6KQwABBBBAAAEEEEAAAQQQQAABBBAgwOIaQAABBBBAAAEEEEAAAQQQQAABBBCwWoAAy+r2UBwCCCCAAAIIIIAAAggggAACCCCAAAEW1wACCCCAAAIIIIAAAggggAACCCCAgNUCBFhWt4fiEEAAAQQQQAABBBBAAAEEEEAAAQQIsLgGEEAAAQQQQAABBBBAAAEEEEAAAQSsFiDAsro9FIcAAggggAACCCCAAAIIIIAAAgggQIDFNYAAAggggAACCCCAAAIIIIAAAgggYLUAAZbV7aE4BBBAAAEEEEAAAQQQQAABBBBAAAECLK6BcAuYa6p2YNDUcA/OeAgggAACCCCAAAIIIIAAAggUIpAY+He7JOUg5D0BAizv9TTSK6ojaUeki2B+BBBAAAEEEEAAAQQQQAABXwrUlbTTlyv3+KIJsDze4AgsjwArAuhMiQACCCCAAAIIIIAAAgggkCtAgOXRC4EAy6ONjeCyqkg6ZObfvn27qlQx/8gHAQQQQAABBBBAAAEEEEAAgYoRSElJUb169Y4OniQppWJmYtRIChBgRVLfm3MHA6xDhw4RYHmzx6wKAQQQQAABBBBAAAEEELBGwARYSUkmt8r9EGBZ05nwFkKAFV5PRpMIsLgKEEAAAQQQQAABBBBAAAEEHBMgwHKMOqITEWBFlN+TkxNgebKtLAoBBBBAAAEEEEAAAQQQsFOAAMvOvoS7KgKscIsyHgEW1wACCCCAAAIIIIAAAggggIBjAgRYjlFHdCICrIjye3JyAixPtpVFIYAAAggggAACCCCAAAJ2ChBg2dmXcFdFgBVuUcYjwOIaQAABBBBAAAEEEEAAAQQQcEyAAMsx6ohORIAVUX5PTk6A5cm2sigEEEAAAQQQQAABBBBAwE4BAiw7+xLuqgiwwi3KeARYXAMIIIAAAggggAACCCCAAAKOCRBgOUYd0YkIsCLK78nJCbA82VYWhQACCCCAAAIIIIAAAgjYKUCAZWdfwl0VAVa4RRmPAItrAAEEEEAAAQQQQAABBBBAwDEBAizHqCM6EQFWRPk9OTkBlifbyqIQQAABBBBAAAEEEEAAATsFCLDs7Eu4qyLACrco4xFgcQ0ggAACCCCAAAIIIIAAAgg4JkCA5Rh1RCciwIoovycnJ8DyZFtZFAIIIIAAAggggAACCCBgpwABlp19CXdVBFjhFmU8AiyuAQQQQAABBBBAAAEEEEAAAccECLAco47oRARYEeX35OQEWJ5sK4tCAAEEEEAAAQQQQAABBOwUIMCysy/hrooAK9yijEeAxTWAAAIIIIAAAggggAACCCDgmAABlmPUEZ2IACui/J6cnADLk21lUQgggAACCCCAAAIIIICAnQIEWHb2JdxVEWCFW5TxCLC4BhBAAAEEEEAAAQQQQAABBBwTIMByjDqiExFgRZTfk5MTYHmyrSwKAQQQQAABBBBAAAEEELBTgADLzr6EuyoCrHCLMh4BFtcAAggggAACCCCAAAIIIICAYwIEWI5RR3QiAqyI8ntycgIsT7aVRSGAAAIIIIAAAggggAACdgoQYNnZl3BXRYAVblHGI8DiGkAAAQQQQAABBBBAAAEEEHBMgADLMeqITkSAFVF+T05OgOXJtrIoBBBAAAEEEEAAAQQQQMBOAQIsO/sS7qoIsMItyngEWFwDCCCAAAIIIIAAAggggAACjgkQYDlGHdGJCLAiyu/JyQmwPNlWFoUAAggggAACCCCAAAII2ClAgGVnX8JdFQFWuEUZjwCLawABBBBAAAEEEEAAAQQQQMAxAQIsx6gjOhEBVkT5PTk5AZYn28qiEEAAAQQQQAABBBBAAAE7BQiw7OxLuKsiwAq3KOMRYHENIIAAAgjkCmRn52jbgSPasCdVG3an6sCRDCXERishLib375Xy/T3019FKiI1Rpbjf/h4TzbcrXFIIIIAAAgggULQAAZY/rg6+I/RHn51cJQGWk9rMhQACCERY4HB6ljbuTdX63amBoCol9+/r96Rq057DSs/KLneFjZMrq33DGjq1UXW1b1hd7RpWV/XKceUelwEQQAABBBBAwBsCBFje6GNxqyDAKk6Ir5dWgACrtGIcjwACCLhEYF9quqas2KmZq3dp7a7fgqodB9MiUn3TWok6tVENndqwmk5tWEOnNKymqpUItSLSDCZFAAEEEEAgwgIEWBFugEPTE2A5BO2jaQiwfNRslooAAt4XMEHVt8u265ul2zV3/V5lZedYu+jmdaro1IbVc//q2LiGOjSuobiYaGvrpTAEEEAAAQQQCI8AAVZ4HG0fhQDL9g65rz4CLPf1jIoRQACBoIAJqOZt2KvJS7dr8rLtWrMzpcw6Zp+rJsmJOrFWohonJ6p2UoIysrJ1JMP8laW0zGylBf5u/vlIZpbSzNcys3KPScvM0v7UDB04klmmGqrEx6hH81rq3bK2+p5UWy3rJikqim99yoTJSQgggAACCFgsQIBlcXPCWBrfxYURk6FyBQiwuBAQQAABlwkcPJKh6at25YZW36/Yob2pGSVegQmlmiRX1om1quSGVCcmJ6pJrcTc4Kpu1YRyB0Y5OTnatPewFm/er0Wb9//29037tf9wyWs8upgTqlUKhlkm1KpTNaHE6+RABBBAAAEEELBXgADL3t6EszICrHBqMhYBFtcAAggg4BIBc8fTZws26/NFW/Xjr7uVkVX8o4FxMVG5dzSd2aauujevlRtSVUmIdXzFJtTauOewfskNtfbpl037c399sJR3arU5oar6tKytPifVVvdmtVQ5PsbxtTAhAggggAACCJRfgACr/IZuGIEAyw1dcleN3IHlrn5RLQII+Exg2/4jeuvHdXr3pw0lutOqRmKcBrSuq7Pa1tPprWpbu1F6dnZO7qby5i6tRRv3adaa3Vq69UCJuxsfE60uJ9bURR0b6JLODZUQS5hVYjwORAABBBBAIMICBFgRboBD0xNgOQTto2kIsHzUbJaKAALuEViwcZ/GzlyrLxZtVWYxG7E3r11FZ51cL/dOKxPqxLp0I/Rdh9Jy35g4Y9UuzVi9S1v3HylRw8yjjzf2baarup+opAjcYVaiIjkIAQQQQAABBIICBFj+uBgIsPzRZydXSYDlpDZzIYAAAscRyMzK1ldLtmnMjLWat2FfkUdGR0ldmybrrLZ1dWbbempRJ8lzruaxw193peSGWWa/L/PY5KG0428OX61SrK7t1VTX9WqqWknsl+W5i4IFIYAAAgh4RoAAyzOtPO5CCLD80WcnV0mA5aQ2cyGAAAKFCJg3942fs0FvzlqnLce568jsYWXCmUs6NVTNKvG+sjRvQ1y4cV9umGXu0pq/cZ/MGxgL+1SKi9YV3Zrk3pXVqGair5xYLAIIIIAAAm4QIMByQ5fKXyMBVvkNGSFUgACLKwIBBBCIkMDqHYc0btZaffzzZh3OyCqyip7Na2lon2Y6o01dxZjbr/jkvtXwgzkb9er0X7XjYFqhIrHRURrUsYGG9WuhVvWqooYAAggggAAClggQYFnSiAoug+9aKxjYh8MTYPmw6SwZAQQiK2DewvfUNys0ZcXOIgsxm5SbDcqv791MJzeoFtmCLZ49LTNLn8zbrJenrtG63alFVnr2yfV0a/8W6tykpsWroTQEEEAAAQT8IUCA5Y8+E2D5o89OrpIAy0lt5kIAAV8LmEcFn/zvCr3903rlFP70m2onJejqHifqqu5NVKcq+ziV9IIxjxN+uXirRk9ZoyVbin6bYY/mybqtf0v1Pam2oqL4tqqkvhyHAAIIIIBAOAUIsMKpae9YfKdlb2/cWhkBlls7R90IIOAaAbMh+cfzNutfk5Zpd0p6oXW3a1BNQ3s30+861FdCbIxr1mZbocZ62qpdevH71fpp7Z4iy+vfuo7+PqidTqxlfhvkgwACCCCAAAJOChBgOakdubkIsCJn79WZCbC82lnWhQACVggs23pA//vZYs1Zt/eYeswNQOecXC83uDqtWTJ3BIW5Yz+v35t7R9bkZdsLHTk+Nlq39muR+2hhpThCwzDzMxwCCCCAAAJFChBg+ePiIMDyR5+dXCUBlpPazIUAAr4ROHgkQ898s0pv/LCu0LfldW5SQ49cfIraNajuG5NILXTl9oN6acoafbZwS6G9MG93NHdjDWhTN1IlMi8CCCCAAAK+EiDA8ke7CbD80WcnV0mA5aQ2cyGAgOcFzCNsExdt1aOfLy307XjJVeL154FtNLhLI0XzRkFHr4eNe1L1xNcrNGHhlkLnNXfD/e+FJ6tRzURH62IyBBBAAAEE/CZAgOWPjhNg+aPPTq6SAMtJbeZCAAFPC6zecSj3ccFZa3Yfs07zuOCVpzXRA+e2Vo3EeE872L64Wat36a+fLdaanSnHlFopLlp3nHGSburbXOYRQz4IIIAAAgggEH4BAqzwm9o4IgGWjV1xd00EWO7uH9UjgIAFAqnpmRr53Wq9Nv1XZWQd+3rBUxtW16MXn6IOjWtYUC0lGIH0zGy9PmOtnv92lQ5nZB2D0rxOFf1j0Cnqc1JtwBBAAAEEEEAgzAIEWGEGtXQ4AixLG+PisgiwXNw8SkcAgcgLfLN0ux6esESb9x0+pphqlWJ1/8A2uuq0JorhccHIN6uQCkzfHpm4VF8t2VZofRe0r6+/XnCyTqheycr6KQoBBBBAAAE3ChBgubFrpa+ZAKv0ZpxxfAECLK4QBBBAoAwCRzKy9I/Pl+rdnzYUerbZ4+rP57VR7aSEMozOKU4LTFmxQ3+bsETrd6ceM3WV+BjdfVYrXde7qeJieKzQ6d4wHwIIIICA9wQIsLzX08JWRIDljz47uUoCLCe1mQsBBDwhYPa6Gv7uPC3fdvCY9bQ5oWru44JdmyZ7Yq1+WoQJJV+e+qtenLJaaZnZxyz9lIbVNOrKzmpa2/zWyQcBBBBAAAEEyipAgFVWOXedR4Dlrn65oVoCLDd0iRoRQMAagY9+3qS//mfxMfsmJSXE6t6zW+manicqlrt0rOlXWQrZsDtVD09cou+W7zjmdNPnf15yii7q2LAsQ3MOAggggAACCEgiwPLHZUCA5Y8+O7lKAiwntZkLAQRcK5CSlpkbXH0yf/Mxa+jUpIaev6KTGicnunZ9FB4qkJOTI7O/2d8nLi10f7MrujXW3y5sp8rxMdAhgAACCCCAQCkFCLBKCebSwwmwXNo4i8smwLK4OZSGAAJ2CCzdciD3kcFfd6UcU9At/ZrrvnNaszeSHa0KexWH07P0xNcrNGbm2mPGblUvSaOu6qxW9aqGfV4GRAABBBBAwMsCBFhe7m7e2giw/NFnJ1dJgOWkNnMhgICrBMxdOG//tEGPfL5U6QX2RKpVJV5P/b6D+reu66o1UWzZBCYv3a77PlqofakZIQNUiovW3we10++7NlZUFN+mlU2XsxBAAAEE/CZAgOWPjvOdkT/67OQqCbCc1GYuBBBwjcD+wxn688eL9OXibcfU3KN5sp67opPqVavkmvVQaPkFtuw7rDvHz9fc9XuPGWxQhwa5e2NVrRRX/okYAQEEEEAAAY8LEGB5vMGB5RFg+aPPTq6SAMtJbeZCAAFXCCzYuC/3kcFNew+H1BsdJd11ZisNP6OlYsw/8PGdQGZWtp6dvEovTFmtnJzQ5TetlZj7SOEpDav7zoUFI4AAAgggUBoBAqzSaLn3WL5bdm/vbK2cAMvWzlAXAgg4LpCdnaPXZ6zV418tV2Z2aDpRr1pC7l1XPZrXcrwuJrRPYMaqXbr7/QXadSgtpLj4mGg9eH4bXderKY8U2tc2KkIAAQQQsESAAMuSRlRwGQRYFQzsw+EJsHzYdJaMAALHCuxLTdc97y/Q9yt2HvPFAa3r6MnLO6hWUgJ0CAQFdh5M070fLND0VbuOUTnn5Hr69+D2qpEYjxgCCCCAAAIIFBAgwPLHJUGA5Y8+O7lKAiwntZkLAQSsFNi877Cuef0nrdkZ+pbB2Ogo/WlgG93Qp5mieWTQyt5Fuihz197oqWv09DcrlVXgrr2GNSrr+Ss7qsuJyZEuk/kRQAABBBCwSoAAy6p2VFgxBFiF01aWNFDSuZK6SWohyQQz+yQtkvSxpLGSQjczyRurjaRBkvpLOkVSPUmZkjZKmibpRUkLStjViyUNk9RJktkEY4ukryQ9JWlNCcYwc48I1NNEUqqkJZLGBf4qsONGCUY8/iEEWOUmZAAEEHCzwMrtB3XN67O17cCRkGU0qllZI6/spE5Narp5edTukMDcdXtyN3jfsj/0OjJ7pT168Sm68jTzWzofBBBAAAEEEDACBFj+uA4IsArv8wFJVYu5BJYHQqFVBY4zYdGTxZybLekRSQ8f5zjTm9ckDS3imEOShkiadJwxukr6QlJR72Q3QZgJyEI33CjftU+AVT4/zkYAARcLmNBh6Lg5OnDE/JlF3mdguxP0+OD2ql6ZN8q5uL2Ol24eQ73vw0WavGz7MXPfPqCF7junNftiOd4VJkQAAQQQsFGAAMvGroS/JgKswk3NXUkm1PlE0meS5kgy77g2f9x5S+COKGO3TtKpkkyYdPRjQqm/SVoh6U1J30paKylGUj9Jjwbu6DLH3yFpVBFtfUjSPwNf+yDw662Sekh6TlKzwLxdJK0sZIzagbvF6kvaLemuQC3mLq7hgb/Maa9KujmMlxYBVhgxGQoBBNwjMHnpdt3+7jylZZo/o8j73NinmR46vy2PDLqnlVZVmpOTo7Ez1+lfXy5TRlboTdMXd2ygfw/uoPjYaKtqphgEEEAAAQScFiDAclo8MvMRYBXubkIlc4fUsX/k+dvxf5L0WOBU8+t/5xvmD4FgyQRfhX1MsDRPUuPAI4knFHIHlHnszzweaMIgcwfVhZLyf9faVNLiwNc/knR5IROZu8DM3WDmJ6nekn4scIxZ4+2Br3eU9EuYLkECrDBBMgwCCLhH4IO5G/XgJ78cs2fRg+e10S39zFPofBAon8C8DXt10xtztTslPWSgns1r6aWru3B3X/l4ORsBBBBAwOUCBFgub2AJyyfAKiFUgcNiJW2TZN59PkXSgFIOc4+kpwPnmH2yphY4//58oZgJlxYWMr4534xjAipzl9WOfMeYZ1TMa6/M3VafSrq0kPNNkLZZknmd0Qv57sgq5VKOOZwAq7yCnI8AAq4RMHfHmA23//2Vuek272P2KXr8svYa3KWRa9ZCofYLrN+douvGztHaXaEvBzipbpLGXt9NjWom2r8IKkQAAQQQQKACBAiwKgDVwiEJsMrelB8Cj/OZx/dal3IYszm82X/KfK6SNL7A+Waj976SzP5arYoYu5ekmYGv3SBpTL7jzgg8Lmj+lbkj7N0ixvivpLMDm8uHazdYAqxSXgwcjgAC7hQwb4t79ItlGjPTPCWe96kUF60X/9BZZ7QxN9PyQSC8AntS0nXTm2hJm60AACAASURBVHP183qzs0Hep07VBI29rptOaWj+7IoPAggggAAC/hIgwPJHvwmwyt7nXwP7UM0NvKmwNCNdI+mNwAm/CzwmmP/8g5KSJL0t6eoiBk4wL1sI7K1V8A6q+yQ9ETiv5XHeVmgek/yfwHF1JO0qzSKKOJYAKwyIDIEAAnYLpGdm6/6PFuqzBebFsHkfs0n7mOu6qcuJvGnQ7g66u7ojGVm694MFmvSLuRk875MYH6MXruqsAW2KeneLu9dN9QgggAACCBQlQIDlj2uDAKtsfe4U2MfKnG32kjKbsZfmY/bHGhR4/M/sgWUe9zv6aShpU+Af/hHYEL6osTcE9tKaHLiT6uhxZmP2GwPjm6Ar9HVYeaOZNxy+HvjHPvnu6CrNWgoeS4BVHj3ORQAB6wVS0jI17O2fNX1VaOZfv3olvTn0NJ1Ur7iX2Fq/RAp0gYC5A/Cxr5brlWnmz9PyPubx1UcuOkVXdQ/XjdUuwKBEBBBAAAHfCxBg+eMSIMAqW59NYHRmYGP1DqXcAN08GmgeETSfwjZgN+MtCHz9eG8pNIf8LKmzpPmBvx9djdn36uLA2wfNXldFfczm8BMCX7wo36+LUzEhVVEfswFH7n5chw4dUpUqxzu0uGn4OgIIIGCXwO5DaRo6bo4WbtofUljLukm54VWDGpXtKphqPC/wxqx1enjiEuWEvqBQtw9oofvOaa2oKL7V8/xFwAIRQAABBESA5Y+LgO9qSt/n/Busvxh4k19JRzGbvps3EJo/Fj0kyYRVoX90KuXf2+omSa8dZ/AZgTcMFtwr6+jeVmaT9uPtIHyWpG8C4x9vr6yCJRT4NrnwCgmwSnpZcBwCCLhBYOOeVF07ZrZ+LbCBdqcmNTTm2m6qWcW8E4MPAs4L/HfJNt353nwdyTDvdcn7XNSxgf49uL0SYmOcL4oZEUAAAQQQcFCAAMtB7AhORYBVOnyz+foXgX2nfpHUXdLhEg5h3gxoNm43G6ybj9nbyuxxVfBDgFVCUA5DAAEEnBJYvu1Abni1/UBayJQDWtfRC3/orMR483JaPghETmDBxn26Ydwc7U5JDymie7NkvXJ1V1VPNN+G8EEAAQQQQMCbAgRY3uxrwVURYJW8z10kfS/JbG6yMXDnk/l7ST7G+a3AGwHN8X+X9HARJ/IIYUlEOQYBBBBwSGDFtoP6/cs/aP/hjJAZL+3cUI9f1l5xMdEOVcI0CBxfYMPuVF039ti7BM0jruYNhY2TzVP+fBBAAAEEEPCeAAGW93pa2IoIsErW51aSzON65k19ZsP10yUtL9mpuUc9K+muwPEjJd15nHNLs4m7CdDMI4JFbeKeJanScTZxvyHfI4ps4l6KhnIoAgj4Q8AEAoNfmqUdB0PvvLrl9Ob683lt2F/IH5eBq1a5NyVdN705V3PX7w2pu0H1Snrv5p5qUosQy1UNpVgEEEAAgRIJEGCViMn1BxFgFd/CxoHwyuxbdUDSgHxvICz+bOlv+e62MndhXRvY/L2oc01PzDxJgbu2riniQPN2wZTA44wvSBqe77j7JD0R+OcWheyzdfTQRyX9JfAPJpwLfaVWSVZ37DG8hbBsbpyFAAKWCew4cESDX/pBG/akhlT2l/Pb6qbTm1tWLeUgkCdwJCNLIz5YqC9+2RrC0rBGZb13cw/uxOJiQQABBBDwnAABludaWuiCCLCO32cT6kyX1Dqw19XAfG8QLMkVYu60ei5w4GeSBh/nbqj845m3FJq3Fa4MzF3YXPn3yjJ3Uo3Jd5DZZ+vbwD9fJWl8EcUe3ezd3MkVrvdtE2CV5MrgGAQQsFpgf2qGhrzyg5ZvO0h4ZXWnKK4ogezsHP3ry2V6dfpaQiwuEwQQQAABzwsQYHm+xbkLJMAqus/VJE2R1EmS2fjkYkmTSnFZmDunxgWMTZh0gaTQZ1CKHiz/mw7bSzIbxhf8PC3pHknmlUP1Je3Id4DZqdU86lhd0ieSLivk/NqSzFsKzWuzCt7BVYplHnMoAVZ59DgXAQQiLpCanqk/vvaT5m3YF1LL7QNa6P5z20S8PgpAoKQCOTk5evqblRr53eqQUxrV/O1OrEY1eZywpJYchwACCCBgtwABlt39CVd1BFiFS5p9o74O7HVlAiJzF9P7pUAfJOljSea1VD9JOkvSoVKcXy/w2J/5znKiJDNe/k9TSYslmbDoI0mXFzL2k5JGSDL7YJm7tWYXOGaUpNsDjzOajeMLC8lKUXLwUAKssqhxDgIIWCGQlpmlG9+Yq+mrQp+o/kP3Jnr04lPY88qKLlFEaQRMiPXE1yv04pQ1Iac1Tq6s92/uqQY1KpdmOI5FAAEEEEDASgECLCvbEvaiCLCOJY0J3LV0NDS6V9Krx5E3AVf+DVLMo3/m0TwTgplHAE14FbqTauhgR4p4rPAhSf8MHGrCM/PrbZK6S3peUrNAKGbejmjmKfgxd1gtCtydZX4SM5vImzvBzJ1ldwT+MueYtd0cxiuLACuMmAyFAALOCWRl5+jO8fOP2Tfowg4N9OyQjoqJ5rdM57rBTOEUMCHW41+t0EtTQ0OsJsmJev+WHqpfnRArnN6MhQACCCDgvAABlvPmkZiR78aPVTd3N4VuGHH8zqyXZM45+jGPDZqN2kv6uT7wqGHB401vXpM0tIiBzB1dQ4p5rLGrpC8k1S1ijK8Cj0aW9NHGkqyJAKskShyDAAJWCZgf8B/69BeNn222BMz79G9dR69c3VXxsdFW1UsxCJRWwFzjj325XC9P+zXk1BNrJebeiXVCdfPnbnwQQAABBBBwpwABljv7VtqqCbCOFbMlwDpa2SWSbpHUOXD31JbA443mEcHQP0otvPvmcUTzVkJzR5l5o+JhSUskjQ0EZzmlvWiKOZ4AK8ygDIcAAhUvYH6wL3h3StcTa+qtG7qrcry5MZcPAu4XMCHW/006dmP3ZrWr5O6JVa8aIZb7u8wKEEAAAX8KEGD5o+8EWP7os5OrJMByUpu5EECg3AImuDIBVv5P2/rVcn+gr17ZvBODDwLeETAh1iOfL9OYmaE3mzcPhFh1CbG802xWggACCPhIgADLH80mwPJHn51cJQGWk9rMhQAC5RIYP3uDHvwk9B0WTWsl6sNhvVSnakK5xuZkBGwVMCHW3ycu1bhZ60JKbF7ntzux6lblTixbe0ddCCCAAAKFCxBg+ePKIMDyR5+dXCUBlpPazIUAAmUW+GLRVg0fP085+R6krlctQR8N66XGyeYlsHwQ8K6ACbEenrBEb/xgtvLM+7TIDbF6EuB6t/WsDAEEEPCkAAGWJ9t6zKIIsPzRZydXSYDlpDZzIYBAmQSmrdypG96Yo4ysvPSqRmKcPrylp06qV7VMY3ISAm4TMCHW/362RG/9GBpinVQ3SeNv7qHaSdyF6LaeUi8CCCDgVwECLH90ngDLH312cpUEWE5qMxcCCJRa4Of1e/XH137S4Yys4LlV4mP0zk091LFxjVKPxwkIuFkgOztHf/1ssd75aUPIMlrVS9L4m3qoFiGWm9tL7QgggIBvBAiw/NFqAix/9NnJVRJgOanNXAggUCqBldsPavDoWTpwJDN4XnxMtMZd3029WtYu1VgcjIBXBEyI9Zf/LJbZEy7/p80JVXNDrJpV4r2yVNaBAAIIIOBRAQIsjza2wLIIsPzRZydXSYDlpDZzIYBAiQX2pKRr0KgZ2rT3cPCc6Chp9B+76Nx2J5R4HA5EwIsCJsR66NNf9N6cjSHL69ykht65sYcqx8d4cdmsCQEEEEDAIwIEWB5pZDHLIMDyR5+dXCUBlpPazIUAAiUSSM/M1tWv/6Sf1u4JOf6Jwe11edfGJRqDgxDwuoAJsf708SJ9+POmkKWe1bauXvpjF8XGRHudgPUhgAACCLhUgADLpY0rZdkEWKUE4/BiBQiwiiXiAAQQcFLAbFT90KfHPh51/7mtdfuAlk6WwlwIWC9gQqy731+gCQu3hNQ6pGtjPXbZqYqK4ltH65tIgQgggIAPBQiw/NF0vgvxR5+dXCUBlpPazIUAAsUKvDFrnf42YUnIcRd3bKBnhnTkh/Fi9TjAjwLmjsWh4+ZoxupdIcu/84yWuvec1n4kYc0IIIAAApYLEGBZ3qAwlUeAFSZIhgkKEGBxMSCAgDUCM1bt0rVjZysrOydYU4fGNfT+zT1UKY49faxpFIVYJ3AoLVNXvPKDFm8+EFLbIxefoqt7nGhdvRSEAAIIIOBvAQIsf/SfAMsffXZylQRYTmozFwIIFCmwdleKLho1I+SNg/WqJWji8D6qW60ScgggUIzAzoNpGvzSLK3fnRo80jxB+OJVnXXeqfXxQwABBBBAwBoBAixrWlGhhRBgVSivLwcnwPJl21k0AnYJ7D+coUtenKlfd6YEC0uIjdaHw3qqfaMadhVLNQhYLLB+d4ouGz1Luw6lB6uMj4nWmzecph7Na1lcOaUhgAACCPhJgADLH90mwPJHn51cJQGWk9rMhQACxwhkZmVr6BtzNW3lzpCvjbyyky7s0AAxBBAopcAvm/bnPk6Ykp4VPLNqpdjcQLjNCdVKORqHI4AAAgggEH4BAqzwm9o4IgGWjV1xd00EWO7uH9Uj4HqBRz5fqtdnrA1Zx/ABLXXfuWw+7frmsoCICUxftTN3Y/eMrLz95MwjuR/f2kuNaiZGrC4mRgABBBBAwAgQYPnjOiDA8kefnVwlAZaT2syFAAIhAh/M2agHPl4U8u/OObmeXvpjF0VH81selwsC5RH4bMFm3fXegpAhmtepoo+H9VLNKvHlGZpzEUAAAQQQKJcAAVa5+FxzMt/Nu6ZVrimUAMs1raJQBLwlMGfdHl316o8hd4i0OaFq7h0iVRJivbVYVoNAhARem/6rHv1iWcjsnZrU0Ds3dldiPP+dRagtTIsAAgj4XoAAyx+XAAGWP/rs5CoJsJzUZi4EEMgV2LQ3VReNmqndKXkbTdeqEq/Phvfm8SauEQTCLPB/k5bplWm/hox6Rpu6evnqLoqLiQ7zbAyHAAIIIIBA8QIEWMUbeeEIAiwvdNGuNRBg2dUPqkHA8wIpaZm5b0lbvu1gcK1xMVF696Ye6tY02fPrZ4EIOC2QnZ2jER8u1KfzN4dMfXmXRvr34PaKiuLbS6d7wnwIIICA3wUIsPxxBfAdhj/67OQqCbCc1GYuBHwuYH6QvvWdn/X1ku0hEo9fdqqGdGvicx2Wj0DFCWRkZeuGQt72efuAFrr/3DYVNzEjI4AAAgggUIgAAZY/LgsCLH/02clVEmA5qc1cCPhc4Kn/rtDI71aHKAzt3Uz/e+HJPpdh+QhUvIC5+/HKV3/Uok37QyZ75KJ2urpn04ovgBkQQAABBBAICBBg+eNSIMDyR5+dXCUBlpPazIWAjwUmLtyiO8bPDxE4vVUdjbm2q2LZh8fHVwZLd1Jg16E0DR49S+t2pwanjYmO0ts3dFfPFrWcLIW5EEAAAQR8LECA5Y/mE2D5o89OrpIAy0lt5kLApwKrdxzShSNn6HBGVlCgee0q+vT23qpeOc6nKiwbgcgIbNidqktHz5IJs45+kqvEa+IdfdSwRuXIFMWsCCCAAAK+EiDA8ke7CbD80WcnV0mA5aQ2cyHgQ4G0zCxd8sIsLd16ILj6apVi9Z/be6t5nSQfirBkBCIvsHDjPl3+8g9Kz8wOFtOuQTV9NKyXKsfHRL5AKkAAAQQQ8LQAAZan2xtcHAGWP/rs5CoJsJzUZi4EfCjwj4lLNWbm2pCVj72+mwa0rutDDZaMgD0CH87dqPs/WhRS0MUdG+iZIR15M6E9baISBBBAwJMCBFiebOsxiyLA8kefnVwlAZaT2syFgM8Evl++Q9ePmxOy6ptPb66Hzm/rMwmWi4CdAg9PWKJxs9aFFPc/F7TVjX2b21kwVSGAAAIIeEKAAMsTbSx2EQRYxRJxQCkFCLBKCcbhCCBQMoEdB47ovOema3dKevCEUxtW18e39lJ8bHTJBuEoBBCoUIGMrGz98bWf9NPaPcF5oqOkN4d2V5+Talfo3AyOAAIIIOBfAQIsf/SeAMsffXZylQRYTmozFwI+EcjOztE1Y2ZrxupdwRUnxsfoizv7qllt878dPgggYIvA7kNpGjRqpjbvOxwsqUZinCYO76PGyYm2lEkdCCCAAAIeEiDA8lAzj7MUAix/9NnJVRJgOanNXAj4ROClqWv02JfLQ1b71OUddFmXRj4RYJkIuEtg8eb9umz0LKXl29S9zQlV9cltvZQYH+uuxVAtAggggID1AgRY1rcoLAUSYIWFkUHyCRBgcTkggEBYBczbzcwPwpnZOcFxL+rYQM+yMXRYnRkMgXAL/Gf+Zt39/oKQYX/Xvr5GXtmJTd3Djc14CCCAgM8FCLD8cQEQYPmjz06ukgDLSW3mQsDjAgePZOh3I2do/e7U4EobJ1fWpDv7qmqlOI+vnuUh4H6BRz9fqtdmhL419M/ntdGwfi3cvzhWgAACCCBgjQABljWtqNBCCLAqlNeXgxNg+bLtLBqBihG45/0F+nT+5uDgsdFR+nBYT3VqUrNiJmRUBBAIq0BmVrauHTtbM1fvDo4bFSWNva6b+reuG9a5GAwBBBBAwL8CBFj+6D0Blj/67OQqCbCc1GYuBDws8Mm8Tbr3g4UhK3xgYGvd1r+lh1fN0hDwnsDelHRdOGqGNu3N29S9WqVYTRjeR015CYP3Gs6KEEAAgQgIEGBFAD0CUxJgRQDd41MSYHm8wSwPAScE1u1K0QXPT1dKelZwut4ta+mtod0VHc1vXU70gDkQCKfA0i0HdOnomTqSkR0ctlW9JH16W29VSWBT93BaMxYCCCDgRwECLH90nZ8C/NFnJ1dJgOWkNnMh4EGB9MxsDX5plhZt2h9cXXKVeH15V1/Vq1bJgytmSQj4Q2Diwi26Y/z8kMUObHeCRv+xM5u6++MSYJUIIIBAhQkQYFUYrVUDE2BZ1Q5PFEOA5Yk2sggEIifwry+X6eWpv4YU8Pq1XXVm23qRK4qZEUAgLAKPfblcL01dEzLWfee00vAzTgrL+AyCAAIIIOBPAQIsf/SdAMsffXZylQRYTmozFwIeE5i+aqeufn12yKqu69VUDw9q57GVshwE/CmQlZ2j68fN0bSVO4MAZlN3E1Kf0YaQ2p9XBatGAAEEyi9AgFV+QzeMQIDlhi65q0YCLHf1i2oRsEZg16E0nffcdO08mBasqW39avr0tl6qFBdjTZ0UggAC5RPYn5qhQS/M0PrdqcGBqibEauIdbOpePlnORgABBPwrQIDlj94TYPmjz06ukgDLSW3mQsAjAtnZORr6xhxNWZF3V0aluGh9fkcftaxb1SOrZBkIIHBUYMW2g7rkxZlKzfeiBgJrrg8EEEAAgbIKEGCVVc5d5xFguatfbqiWAMsNXaJGBCwTeH3GWj3y+dKQqh679FRdcVoTyyqlHAQQCJfAl79s1a3vzAsZ7opujfXYZe3DNQXjIIAAAgj4RIAAyx+NJsDyR5+dXCUBlpPazIWABwSWbjmgi1+YqfSs7OBqLji1vkZd1Yk3k3mgvywBgeMJ/POLpXp1+tqQQ566vIMu69IIOAQQQAABBEosQIBVYipXH0iA5er2WVk8AZaVbaEoBOwUSM/M1qBRM7R828FggQ1rVNaku/qqeuU4O4umKgQQCJtARla2rnzlR81dvzc4pnl8+D+391abE6qFbR4GQgABBBDwtgABlrf7e3R1BFj+6LOTqyTAclKbuRBwucCTX6/QqO9XB1cRHSW9f0tPdWua7PKVUT4CCJRUYOv+w7rg+Rnak5IePKV5nSqaMLyPkhJiSzoMxyGAAAII+FiAAMsfzSfA8kefnVwlAZaT2syFgIsFFm7cp0tHz1JWdk5wFbf2b6E/DWzj4lVROgIIlEVg+qqdumbMbOXk/e9Av2tfXyOv5FHisnhyDgIIIOA3AQIsf3ScAMsffXZylQRYTmozFwIuFTiSkaXfjZyh1TsOBVfQul5VTbijtxJiY1y6KspGAIHyCDw7eaWenbwqZIh/XNRO1/RsWp5hORcBBBBAwAcCBFg+aLIkAix/9NnJVRJgOanNXAi4VOD/Ji3TK9N+DVYfGx2Vu+fNKQ2ru3RFlI0AAuUVMHdjXjd2tqav2hUcKi4mSh8O66WOjWuUd3jORwABBBDwsAABloebm29pBFj+6LOTqyTAclKbuRBwocDcdXt0+cs/hDwqdNeZJ+mes1u5cDWUjAAC4RTYfSgtdz+sbQeOBIc1L3b44s4+qpEYH86pGAsBBBBAwEMCBFgeauZxlkKA5Y8+O7lKAiwntZkLAZcJpKZn6vznpmvd7tRg5e0aVMu9+youJtplq6FcBBCoCAETcl/xyo/KzLc/3hlt6uq1a7oq2rzpgQ8CCCCAAAIFBAiw/HFJ8F2AP/rs5CoJsJzUZi4EXCbw8IQlGjdrXbBq83jQxDv6qM0J1Vy2EspFAIGKFHht+q969ItlIVM8MLC1buvfsiKnZWwEEEAAAZcKEGC5tHGlLJsAq5RgHF6sAAFWsUQcgIA/BWat2aWrXv2JH0j92X5WjUCpBHJycjTs7Z/19ZLtwfPMzVfv3NhDPVvUKtVYHIwAAggg4H0BAizv99iskADLH312cpUEWE5qMxcCLhE4lJapgc9O06a9h4MVm02ZPxrWU7E8OuiSLlImAs4K7D+coQtHztCGPXmPHNdOStCku/qobtVKzhbDbAgggAACVgsQYFndnrAVR4AVNkoGCggQYHEpIIDAMQIPfvKLxs/eEPz3CbHRmnRXX7Wok4QWAgggUKTA4s37denoWUrPzA4e06N5st6+oTvhN9cNAggggEBQgADLHxcDAZY/+uzkKgmwnNRmLgRcIDB15U5dO2Z2SKX/c0Fb3di3uQuqp0QEEIi0gAm/TQie/3P7gBa6/9w2kS6N+RFAAAEELBEgwLKkERVcBgFWBQP7cHgCLB82nSUjUJSAeQTo3GemaduBI8FDTmuarPdu7sHbxLhsEECgRAJmP6wRHyzUJ/M3hxw/9rpuGtCmbonG4CAEEEAAAW8LEGB5u79HV0eA5Y8+O7lKAiwntZkLAcsFzA+dH8/bFKyyclyMvrq7r06sZf5XwQcBBBAomUBqeqYufmGmVm4/FDyhRmKcPr+jjxrVTCzZIByFAAIIIOBZAQIsz7Y2ZGEEWP7os5OrJMByUpu5ELBY4Jul23XTm3NDKnzkona6umdTi6umNAQQsFVg9Y6DGjRqplLTs4IldmtaU+/d3FMx5hWFfBBAAAEEfCtAgOWP1vO7vT/67OQqCbCc1GYuBCwV2JuSrrOfmaZdh9KCFfZuWUtvDe3Oo4OW9oyyEHCDwISFW3Tn+Pkhpf75vDYa1q+FG8qnRgQQQACBChIgwKogWMuGJcCyrCEeKIcAywNNZAkIlFfgjvHzNXHhluAwSQmx+vqe09WwRuXyDs35CCDgc4EHP1mk8bM3BhXiY6L12fDealu/ms9lWD4CCCDgXwECLH/0ngDLH312cpUEWE5qMxcCFgpM+mWrbntnXkhlj192qoZ0a2JhtZSEAAJuE0hJy9R5z03Xhj2pwdLbnFA1N8RKiI1x23KoFwEEEEAgDAIEWGFAdMEQBFguaJLLSiTAclnDKBeBcAqYRwbPeWaa9qSkB4cd0LqOxlzXTVFR/JYTTmvGQsDPAnPX7dHvX/5B2Tl5Crf0a64Hz2vrZxbWjgACCPhWgADLH63npwl/9NnJVRJgOanNXAhYJnDbOz9r0i/bglVVqxSrb+7tp3rVKllWKeUggIDbBR7/arlGT1kTXIbJyN+/uadOa5bs9qVRPwIIIIBAKQUIsEoJ5tLDCbBc2jiLyybAsrg5lIZARQp8v2KHrh87J2SKZ4Z00CWdGlXktIyNAAI+FUjPzNZFL8zUsq0HggKNkyvry7tOl9l3jw8CCCCAgH8ECLD80WsCLH/02clVEmA5qc1cCFgicCQjS+c+O03rd+ftSXNW23p69ZouPDpoSY8oAwEvCqzYdlAXjpyh9Kzs4PKGdG2sxwe39+JyWRMCCCCAQBECBFj+uDQIsPzRZydXSYDlpDZzIWCJwLOTV+rZyauC1VSOi9HkEf1466Al/aEMBLws8Mq0Nfq/SctDlvjqNV119sn1vLxs1oYAAgggkE+AAMsflwMBlj/67OQqCbCc1GYuBCwQWL87RWc/M03mcZ6jnz8NbKNb+7ewoDpKQAABrwtkZefoyld/1Oy1e4JLrZ0Ur6/vPl21khK8vnzWhwACCCAgiQDLH5cBAZY/+uzkKgmwnNRmLgQiLJCTk6Prxs7R1JU7g5W0rJukSXf2VXxsdISrY3oEEPCLwMY9qTrvuek6lJYZXPI5J9fTy1fzGLNfrgHWiQAC/hYgwPJH/wmw/NFnJ1dJgOWkNnMhEGGBrxZv1bC354VU8e5N3dWrRe0IV8b0CCDgN4EP5m7UAx8tCln2E4Pb6/Kujf1GwXoRQAAB3wkQYPmj5QRY/uizk6skwHJSm7kQiKBASlqmzn56qrbsPxKs4qKODfTcFZ0iWBVTI4CAXwXMHaE3v/Wzvlm6PUhg3kb45V191Tg50a8srBsBBBDwhQABli/aLAIsf/TZyVUSYDmpzVwIRFDgX18u08tTfw1WUDUhVt+O6Ke61SpFsCqmRgABPwvsOpSmgc9O065D6UGG7s2SNf6mHoqO5tteP18brB0BBLwtQIDl7f4eXR2/k/ujz06ukgDLSW3mQiBCAqu2H8zdbyYzOydYwd8uPFnX924WoYqYFgEEEPhNwNyBddObc0M4/nJ+W910enOIEEAAAQQ8KkCA5dHGFlgWAVbhfa4saaCkcyV1k2RepWWCmX2SzOYKH0saK+lwMZeJeX/zCEmDJDWRlCppiaRxgb/yfvIreqCLJQ2TZJ7JqS5pi6SvJD0laU0JLtNw1FCCaYKHEGCVRotjEXChgHlMmUtbaAAAIABJREFUx7zx68df8974dXL9apowvLdiY9i43YUtpWQEPCfwwEcL9cHcTcF1xcdEa+IdfdT6hKqeWysLQgABBBDgLYR+uQYIsArv9AFJxX2HszwQTK0q4mLpKukLSXWL+LoJoUw4lVbE101vXpM0tIivH5I0RNKk41ys5a2hLP8dEGCVRY1zEHCRwH/mb9bd7y8IqfjjW3upy4k1XbQKSkUAAS8LHDySkXuX6Ka9eX/W2LZ+NX12e2/ekOrlxrM2BBDwrQB3YPmj9QRYhffZ3BllgqVPJH0maY6kvYG7qG4J3BFl7NZJOlWSCZPyf8zrt8ydWvUl7ZZ0l6RvA3dQDZdk/jKfVyXdXMSl9pCkfwa+9kHg11sl9ZD0nCTznI6Zt4uklYWMEY4ayvJfAQFWWdQ4BwGXCBw4kqEznpwqs8/M0c+Qro31+OD2LlkBZSKAgF8EZq/doyGv/KCcfPe739a/hR4Y2MYvBKwTAQQQ8I0AAZY/Wk2AVXifR0l6RFLea2xCj/uTpMcC/8r8+t8Fhnky8OhgtqTekn4s8HUz/u2SzNc7SvqlwNfNY3/m8UATBpm7uC6UlP9xw6aSFge+/pGkywtZRnlrKOt/AQRYZZXjPARcIPDwhCUaN8tk9799aiTG6bsR/ZVcJd4F1VMiAgj4TeBfk5bp5Wl5L5sw+7h/OKynupyY7DcK1osAAgh4WoAAy9PtDS6OAKtsfY6VtE1SLUlTJA3IN0ycpJ2Bu60+lXRpIVOYu6M2SzI/8b2Q746so4feny8UMwHXwkLGeFrSPYEQzNzptSPMNZRN5rfQLfeOtEOHDqlKFfOPfBBAwAsCizfv16BRM5Rv33b969JTdeVpZos/PggggIB9AmmZWbpo1Ewt33YwWFyT5ER9dXdfJcabb+f4IIAAAgh4QYAAywtdLH4NBFjFGxV1xA+Bx/nM43ut8x10RuBxQfOv/iDp3SIG+K+ksyVtDDyamP+waZL6SjL7a7Uq4vxekmYGvnaDpDFhrqGsMgRYZZXjPAQsFsjOztFlL83S/A3mXRa/fTo2rqFPbu3Fq+kt7hulIYCAtHTLAV30wgxlZOXdzH5dr6Z6eFA7eBBAAAEEPCJAgOWRRhazDAKssvfZ3I9u9qEy72k2byo8+rlP0hOBf2h5nDcFmkcU/ydwXB1Ju/KNYf6YMEnS25KuLqLEBEkpkmIKuYsrHDWUVYYAq6xynIeAxQLvzd6gP3+S97SzeQxnwvA+OqWheTkqHwQQQMBugdFT1ujxr8z7d377REVJH9zSU92a8iih3Z2jOgQQQKBkAgRYJXNy+1EEWGXrYCdJ8wKnmv2s7sg3jNmY/cbAo30mZMosYgrzdsHXA1/rk+9uqoaSjr73+R+S/nacEjdIaixpcuBurqOHlreGsqn8dhYBVnn0OBcBCwX2pKTrjKemaF9qRrC6a3ueqL9fdIqF1VISAgggcKxAZla2Lhs9Sws37Q9+sVntKpp0Z19Vjjd/FsgHAQQQQMDNAgRYbu5eyWsnwCq5Vf4jTWB0ZmBj9Q4FNmE3+15dHHj7oNnrqqiP2Zh9QuCLF+X7tRnv6PvpTTBmArKiPj9L6ixpfuDvR48rbw3FqRxvY6vEo/txsQdWcYx8HQF3CPz540V6b4552vm3T+2kBH07op+qVzZb/vFBAAEE3CGwcvtB/e75GUrPMu/Q+e1zU99m+ssFJ7tjAVSJAAIIIFCkAAGWPy4OAqzS9zn/BusvBt4mmH+Uo3tbmU3aGx1n+LMkfRP4ev69svLvbXWTpNeOM8aMwFsOC+6VVd4ailPJ/0bEIo8lwCqOka8jYL/AvA17demLs0IKfWZIB13S6Xj/e7N/XVSIAAL+FHjh+9V64usVwcWbx6E/urWXOjep6U8QVo0AAgh4RIAAyyONLGYZBFil6/O5kr4I7DtlNoPpLulwgSHKGx4RYJWuJxyNAAIVJGAeuRk0aqaWbj0QnKF7s2S9d3MPRZkNZPgggAACLhPIyMrWJS/O1OLNef9fa1Gnir64s68qxfEoocvaSbkIIIBAUIAAyx8XAz+BlLzPXSR9L6lq4M2BvQN/LzhCeR/f4xHCkveEIxFAoAIFxs1cq4cnLg3OEBsdpUl39VWreuZ/g3wQQAABdwos23pAg0aFvpVwWL8W+vN5bdy5IKpGAAEEEBABlj8uAgKskvW5lSTzuJ55W+BOSadLynuVTegYRzdQz5JU6TibuN+Q7/HAsm7ibjalMc/xFLWJe1lrKJlK4UexiXt59DgXAUsEdh5M0xlPTtHBtLz3UNxyenM9eH5bSyqkDAQQQKDsAs9OXqlnJ5sdGH77mEcJP72ttzo0rlH2QTkTAQQQQCBiAgRYEaN3dGICrOK5zVv+THjVRJK533xAvjcQFnb2fZKeCHyhhaRfi5jiUUl/CXzNBGO7Ar82PTHzJEl6S9I1RZxv3nCYEnic8QVJw/MdV94ailcp+ggCrPLocS4Clgg8+MkijZ+dt3F7/eqVNPnefqqSEGtJhZSBAAIIlF0gPdM8Ij1Dy7cdDA7Sql6SJt7RRwmxPEpYdlnORAABBCIjQIAVGXenZyXAOr64CZamS2od2OtqoKRpxTTpDEnfBo65StL4Io4/uleW+QnRhGP5P2aOvpJWBuYubIj8e2WZu7nG5DsoHDWU9VokwCqrHOchYInA8m0HdP5z05Wd73UNL1zVWRe0r29JhZSBAAIIlF9g8eb9uuiFmcrK9z+7O85oqRHnmG/7+CCAAAIIuEmAAMtN3Sp7rQRYRdtVkzRFUidJGZIuljSpBNTmvfLmMcPqkj6RdFkh59SWZN5SGC+p4N1T5vD8bzpsL8lsGF/w87SkeySZd0Gbnyp35DsgHDWUYKmFHkKAVVY5zkPAEoGrX/9J01cdvSlUOq1pst6/hY3bLWkPZSCAQBgFnvrvCo38bnVwxJjoKH12e2+d0tB8G8cHAQQQQMAtAgRYbulU+eokwCrcz+xd9XVgrysTEJk7qd4vBfWTkkZIMntQmTulZhc4d5Sk2yWZ+xvMpu0FA6p6gUcPEyVNlDSowPlNJS2WZMKijyRdXkht5a2hFMsNOZQAq6xynIeABQJTVuzQdWPnhFQyYXhvtW/EvjAWtIcSEEAgzAJpmVm6cOQMrdx+KDhy2/rVckOs+NjoMM/GcAgggAACFSVAgFVRsnaNS4B1bD/MxgfmzqmjodG9kszG7EV9TMCVWuCL5g6rRYE7o8xtDHcFHis0d3XdEfjLnGLGvbmIgR+S9M/A10x4Zn69TVJ3Sc9LaibJfLdl3o5oHjUs+AlHDWW5WgmwyqLGOQhYIJCZla3znpuuVTvyfpC7pFNDPTOkowXVUQICCCBQMQILN+7TJS/ODHls+u6zTtLdZ5l3+PBBAAEEEHCDAAGWG7pU/hoJsI41NHc3rS0F7XpJ5pyCn66SvpBUt4ixvgo8lphWxNdNb16TNLSIr5ufMIcU81hjeWsoBUPwUAKssqhxDgIWCLz943r9z3/MzZ2/fRJio/X9ff3VoEZlC6qjBAQQQKDiBB77crlemromOEFsdFTuhu7mbiw+CCCAAAL2CxBg2d+jcFRIgHWsYrgCLDOyeRTQvBHQ3M1l3mZ4WNISSWMljQs8QlhcHy+RdIukzpLMd1FbAo83mkcE877TKnqUcNRQXI35v06AVRotjkXAEoGDRzLU/4kp2p2SHqxo+ICWuu9cNjO2pEWUgQACFShwJCNLFzw/XWt2mhc8//Y5pWE1fXpbb8XF8ChhBdIzNAIIIBAWAQKssDBaPwgBlvUtcl2BBFiuaxkFIyA9/tVyjZ6Sl4nXTkrQlPv7KykhFh4EEEDAFwLzNuzV4NGzQh4lvP/c1rp9QEtfrJ9FIoAAAm4WIMByc/dKXjsBVsmtOLJkAgRYJXPiKASsEdi0N1VnPDVV6ZlmS7/fPv+69FRdeVoTa2qkEAQQQMAJgX9+sVSvTs/bSSI+Jlqf39lHrepVdWJ65kAAAQQQKKMAAVYZ4Vx2GgGWyxrmgnIJsFzQJEpEIL/AnePna8JC83Tyb582J1TVF3f2lXmdPB8EEEDATwLmUULzMou1u/IeJezQuIY+HtZTsTxK6KdLgbUigIDLBAiwXNawMpbLTydlhOO0IgUIsLg4EHCRwPwNe3XJi7NCKn5z6Gk6vVUdF62CUhFAAIHwCcxZt0e/f/kH5eTkjfngeW10S78W4ZuEkRBAAAEEwipAgBVWTmsHI8CytjWuLYwAy7Wto3C/CeTk5GjwSz/o5/V7g0vv37qOxl1/mt8oWC8CCCAQIvD3iUs0dua64L+Lj43Wl3f1VYs6SUghgAACCFgoQIBlYVMqoCQCrApA9fmQBFg+vwBYvnsEvli0Vbe/Oy9YsHlk8Ku7+uok9npxTxOpFAEEKkQgNT1TA5+drg17UoPjd2+WrPdu7qGoKL59rhB0BkUAAQTKIUCAVQ48F53K78AuapZLSiXAckmjKNPfAmmZWTrr6anauOdwEOIP3Zvon5ec6m8YVo8AAggEBH78dbeueOXHEI+nLu+gy7o0wggBBBBAwDIBAizLGlJB5RBgVRCsj4clwPJx81m6ewRembZG/zdpebDgpIRYTbm/v2onJbhnEVSKAAIIVLDAnz9epPfmbAzOklwlXt/e2081q8RX8MwMjwACCCBQGgECrNJoufdYAiz39s7WygmwbO0MdSEQENiTkq5+T3yvg0cygyYPDGyt2/q3xAgBBBBAIJ/A3pR0nfn0VJn/bx79DOnaWI8Pbo8TAggggIBFAgRYFjWjAkshwKpAXJ8OTYDl08azbPcI/O2zxXrjh/XBghvWqKxvR/RTpbgY9yyCShFAAAGHBD7+eZNGfLgwZLYPh/VUt6bJDlXANAgggAACxQkQYBUn5I2vE2B5o482rYIAy6ZuUAsCBQRW7zikc5+dpqzsvPfDP39lJw3q0AArBBBAAIFCBMwbW6989Uf9+Oue4Fdb1UvS53f0lXk7IR8EEEAAgcgLEGBFvgdOVECA5YSyv+YgwPJXv1mtywRufGOOJi/bEay6Y+Ma+vS2XrxVy2V9pFwEEHBWwIT/5z03TRlZeeH/nwa20a39WzhbCLMhgAACCBQqQIDljwuDAMsffXZylQRYTmozFwKlEJi5epf+8NpPIWd8fGtPdTmRx2BKwcihCCDgU4Gn/rtCI79bHVx9pbhofXNPPzVOTvSpCMtGAAEE7BEgwLKnFxVZCQFWRer6c2wCLH/2nVVbLmAeGfzdyBlatvVAsNIL2tfXC1d1trxyykMAAQTsEDiSkZX7CPb63anBgga0rqMx13XjLlY7WkQVCCDgYwECLH80nwDLH312cpUEWE5qMxcCJRT4YO5GPfDRouDR8THRuRu3c+dACQE5DAEEEJA0beVOXTNmdojF6D901nmn1scHAQQQQCCCAgRYEcR3cGoCLAexfTIVAZZPGs0y3SOQkpapAU9O0Y6DacGibzm9uR48v617FkGlCCCAgCUCd4yfr4kLtwSrqVctQZPv7aeqleIsqZAyEEAAAf8JEGD5o+cEWP7os5OrJMByUpu5ECiBwDPfrNRz364KHlkzMU5T7h+g6pX5YasEfByCAAIIhAjsOHhEZz41VQePZAb//fW9m+pvF7ZDCgEEEEAgQgIEWBGCd3haAiyHwX0wHQGWD5rMEt0jsOtQmk7/9/dKTc8KFv2Pi9rpmp5N3bMIKkUAAQQsE3jrh3X662dLglVFR0kThvfRKQ2rW1Yp5SCAAAL+ECDA8kefCbD80WcnV0mA5aQ2cyFQjMDDE5Zo3Kx1waOa166ir+85XXEx0dghgAACCJRRwLwY49LRs7Rw477gCO0bVdent/VWjEmz+CCAAAIIOCpAgOUod8Qm43fYiNF7dmICLM+2loW5TWDjnlSd8dQUZWTlBEtns2G3dZF6EUDAVoHFm/dr0KgZys77X6z+Pqidru3FHa629oy6EEDAuwIEWN7tbf6VEWD5o89OrpIAy0lt5kLgOAL3frBAn8zbHDzC3B3w2e29ed07Vw0CCCAQJoFHPl+q12esDY6WlBCb+4bXetUqhWkGhkEAAQQQKIkAAVZJlNx/DAGW+3to2woIsGzrCPX4UmDFtoMa+Nw05eS7M+CdG7urd8vavvRg0QgggEBFCBxKy9TZT0/V1v1HgsNf0L6+Xriqc0VMx5gIIIAAAkUIEGD549IgwPJHn51cJQGWk9rMhUARAje+MVeTl20PfrV3y1p658YeeCGAAAIIhFngq8XbNOztn0NGHXd9N/VvXTfMMzEcAggggEBRAgRY/rg2CLD80WcnV0mA5aQ2cyFQiMDP6/fostE/hHzFPDrYoXENvBBAAAEEwiyQk5Ojm940f2iwIzhy4+TK+u/d/VQ5PibMszEcAggggEBhAgRY/rguCLD80WcnV0mA5aQ2cyFQQMD8IDXk5R81e92e4FfOO+UEjf5jF6wQQAABBCpIYNPeVJ399DQdzsgKznD7gBa6/9w2FTQjwyKAAAII5BcgwPLH9UCA5Y8+O7lKAiwntZkLgQIC36/YoevHzgn+W/M29//e008t6yZhhQACCCBQgQIvT12jf325PDhDXEyUJt3ZVyfVq1qBszI0AggggIARIMDyx3VAgOWPPju5SgIsJ7WZC4F8AtnZObpg5Awt23og+G+HdG2sxwe3xwkBBBBAoIIFMrKydeHIGVq+7WBwptOaJev9m3vw9tcKtmd4BBBAgADLH9cAAZY/+uzkKgmwnNRmLgTyCXy2YLPuem9B8N/Ex0Zryn391aBGZZwQQAABBBwQKGwPwueu6KiLOjZ0YHamQAABBPwrQIDlj94TYPmjz06ukgDLSW3mQiAgkJ6ZrbOenqoNe1KDJjf1baa/XHAyRggggAACDgo8+MkijZ+9MThj3aoJ+nZEP1WtFOdgFUyFAAII+EuAAMsf/SbA8kefnVwlAZaT2syFQEDgrR/X66//WRz0qJoQq2kPDFDNKvEYIYAAAgg4KLAnJV0Dnpyi/YczgrPefHpzPXR+WwerYCoEEEDAXwIEWP7oNwGWP/rs5CoJsJzUZi4EJKWmZ6rfE1O082Ba0GPE2a10x5kn4YMAAgggEAGBgn+oEBsdpa/u7quWddnQPQLtYEoEEPCBAAGWD5osiQDLH312cpUEWE5qMxcCkl74frWe+HpF0KJ2Urym3j9AVRJi8UEAAQQQiIBAVnaOBo2aoSVb8l6q0adlbb11w2ls6B6BfjAlAgh4X4AAy/s9NiskwPJHn51cJQGWk9rM5XuB/akZ6vvv73TgSGbQ4u+D2unaXk19bwMAAgggEEmBwjZ0f/EPnXX+qfUjWRZzI4AAAp4UIMDyZFuPWRQBlj/67OQqCbCc1GYu3ws89uVyvTR1TdChUc3K+m5Ef5k3EPJBAAEEEIiswIgPFurjeZuCRTSoXkmTR/RTYjx3yEa2M8yOAAJeEyDA8lpHC18PAZY/+uzkKgmwnNRmLl8LbNt/RP2e+F5pmdlBh2eGdNAlnRr52oXFI4AAArYI7Dh4RGc+OVUH0/Lukh0+oKXuO7e1LSVSBwIIIOAJAQIsT7Sx2EUQYBVLxAGlFCDAKiUYhyNQVoGHPv1F7/60IXh6mxOq6os7+yommv+1l9WU8xBAAIFwC7w+Y60e+XxpcNj4mGj9957T1bS2+ZaJDwIIIIBAOAQIsMKhaP8Y/JRjf4/cViEBlts6Rr2uFFi7K0VnPT1VZqPgo5/Xr+2qM9vWc+V6KBoBBBDwqkBmVrYueH6GVmw/GFzigNZ1NOa6bmzo7tWmsy4EEHBcgADLcfKITEiAFRF2T09KgOXp9rI4WwSGvztPny/aGiyn64k19eGwnvwwZEuDqAMBBBDIJ/DDmt268tUfQ0xeu6arzjqZP3TgQkEAAQTCIUCAFQ5F+8cgwLK/R26rkADLbR2jXtcJLN68X78bOSOkbhNedWua7Lq1UDACCCDgF4E7xs/XxIVbgsttnFxZ39zTT5XiYvxCwDoRQACBChMgwKowWqsGJsCyqh2eKIYAyxNtZBE2C1wzZramrdwZLPGMNnVzH0XhgwACCCBgr4B58cYZT01RanpWsMh7z26lO888yd6iqQwBBBBwiQABlksaVc4yCbDKCcjpxwgQYHFRIFCBArPW7NJVr/4UnCEqSpp0Z1+1rV+tAmdlaAQQQACBcAi8NHWNHvtyeXCohNhoTb63nxonJ4ZjeMZAAAEEfCtAgOWP1hNg+aPPTq6SAMtJbebylUBOTo4ueXGWFmzcF1z3xR0b6NkrOvnKgcUigAACbhVIz8zWwGen6dddKcElnNuunl6+uqtbl0TdCCCAgBUCBFhWtKHCiyDAqnBi301AgOW7lrNgpwS+W75dQ8fNDU4XGx2l70b0V5Na/Mm9Uz1gHgQQQKC8AuYRcPMoeP7PG0NPU79Wdco7NOcjgAACvhUgwPJH6wmw/NFnJ1dJgOWkNnP5RsDcfXXxCzO1cNP+4Jqv7nGiHrn4FN8YsFAEEEDAKwLD3vpZXy3ZFlxO89pV9NXdpys+NtorS2QdCCCAgKMCBFiOckdsMgKsiNF7dmICLM+2loVFUuD7FTt0/dg5wRLiY6I19YH+ql+9ciTLYm4EEEAAgTIIbNqbqjOfmqq0zOzg2X8a2Ea39m9RhtE4BQEEEECAAMsf1wABlj/67OQqCbCc1GYuXwgUtvcVd1/5ovUsEgEEPCzw/Ler9PQ3K4MrTIyP0bcj+vEHEx7uOUtDAIGKEyDAqjhbm0YmwLKpG96ohQDLG31kFRYJTF25U9fm2y8lLiZKU+8foAY1uPvKojZRCgIIIFAqgSMZWTrnmWnasCc1eN6FHRpo5JW8mKNUkByMAAIISCLA8sdlQIDljz47uUoCLCe1mcvzAubuq8tGz9K8DXlvHvxD9yb65yWnen7tLBABBBDwusC3y7brhjfyXs5h1vvuTd3Vq0Vtry+d9SGAAAJhFSDACiuntYMRYFnbGtcWRoDl2tZRuI0CM1bt0h9f/ylYmrn7asr9A9SQu69sbBc1IYAAAqUWGDpujr5bviN4Xqt6Sfrizr6Ki2FD91JjcgICCPhWgADLH60nwPJHn51cJQGWk9rM5WkBc/fV71/+QXPW7Q2u88rTGutfl7b39LpZHAIIIOAngXW7UnIfJUzPytvQ/X9/d7KG9mnmJwbWigACCJRLgACrXHyuOZkAyzWtck2hBFiuaRWF2i4wa/UuXfVa3t1XsdFR+v6+/mqcnGh76dSHAAIIIFAKgSe/XqFR368OnlG1Uqym3NdftZISSjEKhyKAAAL+FSDA8kfvCbD80WcnV0mA5aQ2c3lawNx9NXvtnuAah3RtrMcHc/eVp5vO4hBAwJcCqemZOvOpqdq6/0hw/dxx68tLgUUjgEAZBQiwygjnstMIsFzWMBeUS4DlgiZRov0CP6zZrStf/TFYaIy5+2pEfzWpxd1X9nePChFAAIHSC0xYuEV3jp8fPDEq6v/Zuw/oKsr8jeNPChB670gRBQQEBKQJJBR7wYa9LXZFEQTr/nfdta00K1ZU1LX3hqJAQu8iRUSkF+m9hZDyPy/cTEI2l0ySm8mU75zjWU3eecvnNwvJc2fekb7t31Ut61bMf2ecgQACCARMgAArGAUnwApGnZ1cJQGWk9qM5VuBq16foZkrs+6+6tuunob1be3b9bIwBBBAIOgCZt/DK1+bqdmrs/7sb9+gsj69o7OiTJrFgQACCCAQVoAAKxgXB38bBqPOTq6SAMtJbcbypcCsldt15evH3n018f54Nahq/u/FgQACCCDgV4Hf/tqtC1+cqvSMrBU+f1Ub9WlT169LZl0IIIBARAQIsCLC6PpOCLBcXyLPTZAAy3MlY8JuE7h29ExNW77dmtZlbetpxBXcfeW2OjEfBBBAoCgEHvlykT6YtdbqulaFOE0cHK8yJWOLYjj6RAABBHwhQIDlizLmuQgCrDyJaJBPAQKsfILRHIHsAnNX79Dlr86wvhQdJU24P0GNqnH3FVcKAgggEASBHftTlDAsUXuSU63l9u9xkgaf3TQIy2eNCCCAQIEECLAKxOa5kwiwPFcy10+YAMv1JWKCbha4/s1ZmvLnNmuKl5xWV89e2cbNU2ZuCCCAAAIRFhgzbZUe+3aJ1WvJ2GiNHxjPizwi7Ex3CCDgHwECLP/U8ngrIcAKRp2dXCUBlpPajOUrgXlrduqyV6ZbazJ3X/08KF6Nq5fz1TpZDAIIIIDA8QVS09J13gtTtGzzPqvhWc1r6vUb2kOHAAIIIJCLAAFWMC4LAqxg1NnJVRJgOanNWL4SuOGt2Zq8bKu1pj5t6uj5q07z1RpZDAIIIICAPYFpy7fp2tGzjmn835s7quvJ1ex1QCsEEEAgQAIEWMEoNgFWMOrs5CoJsJzUZizfCMxfu1OXvJx195V5Y/rPA7vrpBrlfbNGFoIAAgggkD+BO96bpx9/22SddHKNcho7oJtKxETnryNaI4AAAj4XIMDyeYFDyyPACkadnVwlAZaT2ozlG4Gb3p6tpD+y7r66sHUdvXg1d1/5psAsBAEEECiAwLodB9Rr5CSlpKZbZ//zwub62xmNCtAbpyCAAAL+FSDA8m9ts6+MACsYdXZylQRYTmozli8EFqzbpT6jpllrMXdfjbuvu5rU5O4rXxSYRSCAAAKFEBjx0x96ceJyq4fycbFKGpygquVKFaJXTkUAAQT8JUCA5a96hlsNAVYw6uzkKgmwnNRmLF8I3DxmjiYs3WKt5fxTa2vUtW19sTYWgQACCCBQOIEDKanqNWKSNu5Otjq6ukN9PX3pqYXrmLMRQAABHwkQYPmomMdZCgFWMOrs5CoJsJzUZizPCyxav1sXvjT1mHX8eF83NatVwfNrYwEIIIAAApER+GbBX7r3w/lWZ+ZO3W/7d1XLuhUjMwC9IIAAAh4XIMDyeAFtTp8AF/nrAAAgAElEQVQAyyYUzWwLEGDZpqIhAtIt78zV+N83WxTntqylV65rBw0CCCCAAAKWQEZGhq58baZmr95hfa19g8r69I7OijJpFgcCCCAQcAECrGBcAPyNF4w6O7lKAiwntRnL0wKLN+zWBS8ee/fVDwO66ZTa3H3l6cIyeQQQQKAIBMzfGeaO3YyMrM6fv6qN+rSpWwSj0SUCCCDgLQECLG/Vq6CzJcAqqBznhRMgwOLaQMCmwG3vztVPS7Luvjq7RU29dn17m2fTDAEEEEAgaAKPfLlIH8xaay27VoU4TRwcrzIlY4NGwXoRQACBYwQIsIJxQRBgBaPOTq6SAMtJbcbyrMCSv/bovBemHDP/7+/tqhZ12M/Es0Vl4ggggEARC+zYn6KEYYnak5xqjXRPz5N0/1lNi3hkukcAAQTcLUCA5e76RGp2BFiRkqSfTAECLK4FBGwI3P3+L/p+0Uar5ZnNa+qNG7j7ygYdTRBAAIFAC7w9bZX+9e0Sy6BkbLTGD4xX/aplAu3C4hFAINgCBFjBqD8BVu51Ni7NJHXI9k8rSSUlHZIUZ+PyMH1cJek6SW0lVZWUImm1pERJL0n6w0Y/F0u6Q9JpksytGX9J+lHSCEkrbJxfU9L9ki6SVF/SAUm/SRoT+ifbTgo2esu7CQFW3ka0CLjAyq371GvkpGP2MTFvkzq1HndfBfzSYPkIIIBAngKH09J1/gtTtGzzPqstj6DnyUYDBBDwuQABls8LHFoeAVbudW4oaVWYS8BOgGU+AvtaUu/jXEYmzLo9FCLl1szUZrSkfmH6MD+1XClp7HHGMLdzfC+pRpg2JggzAZlZU6QOAqxISdKPbwUe+nyhPpqzzlpffJPqeqefycs5EEAAAQQQyFtg2vJtunb0rGMa/vfmjup6crW8T6YFAggg4EMBAiwfFjWXJRFg5V7n7AHWeklzJJmfCLrZvAPrNUm3hbr+QtJISctDd1AlSPqXpFqS0kJ3Vi3KZRqPSHoy9PVPQv9unjfqJOl5SY0kmRCrnaRluZxv5rtQUm1J2yUNkDQhNIf+ksw/5ngj21wjcdUTYEVCkT58K7Bpd7K6DZ2ow2lZNz9+fFsndTzR3KTJgQACCCCAgD2B29+bq3G/Zb0IpEnNchp7bzfFxkTb64BWCCCAgI8ECLB8VMzjLIUAK3ec8pJ6SjIfbW0KNXlM0j9tBFjm3G2hxw2/DT26l3MU8zjgbEnmlTEvhMKl7G3MY3/m8UATBpk7qC6UlP1RPxOwLQ59/zNJfXNZxvDQo4Ppks6QNDNHG/MI492SzPfbSMotRCvI/wsIsAqixjmBEXjiuyUaPTXrBs+29Svp8zu7KCqKP44DcxGwUAQQQCACAut2HDjyOHpKqvlR7ujx1CWn6pqOZscIDgQQQCBYAgRYwag3vzHZr7PdAOv0UDhler5a0kdhhlggyeyrZR7jOzdHmyGShoa+ZsIl0zbnYe7qGhgKoMxdVluyNSghaWvobqsvJV2ay/nmDq0NoaBtVLY7suyL5N6SAKuwgpzvW4Gd+1N0xjMTdSDF3Hx59Bh9Q3v1bm4yaw4EEEAAAQTyJzD0x6V6OSlrS9Rq5UoqaUgPlStlPiPlQAABBIIjQIAVjFoTYNmvs90A69TQo3umZ7NHlXn8L7djfujOp/ck3ZCjweTQ44p/SmoS5vwukqaFvnezpLeytTN3j5nHBc1xraQPwvTxk6QzJZnNeCL1cR0Blv1ripYBE3hu/DI9N9783/ro0bRmef0woJuio/mjOGCXAstFAAEEIiKwN/mwegxP0rZ9ZmvVo8fdPRpryNnmXUQcCCCAQHAECLCCUWt+a7JfZ7sBlnlDobn7qZykTyVdkcsQzSX9KsncKXW9pP/maLM3dL75uvl+bkcpSfslxUjKeQfVYEnDQieddJy3FT4u6e+hdtVDjz7aF8m9JQFWYQU535cC+w+lHrn7ateBw9b6nruyjS4+ra4v18uiEEAAAQScEXh/1ho9+qXZWeLoUSo2WhMHJ6hupdLOTIBREEAAARcIEGC5oAgOTIEAyz6y3QDL9GhCIRMOmeNtSc+FNnGvIMls4v4fSQ1Cjw+eH3oMMHMm5rdZs3G8Of4d2ncr3CzXSjpB0vjQnVSZ7czG7LeE+jVBV2qYDswbDt8Mfa9rtju67Kv8b0sCrMLoca5vBd6cukqPf7fEWt8JVUor8f4ENtv1bcVZGAIIIOCMQGpaus57YYqWbTbv9jl6XNymjp67ymy5yoEAAggEQ4AAKxh1JsCyX+f8BFjG9QlJZi8rc5dVzsMETy9LGpFLuNQ6dHeWOeceSWaz9XDHPEltJZnHEc3/Zh5m36uLQ28fPN77lM3m8N+ETuqT7d/zUjEhVbijTOZ+XPv27VPZssdrmtcwfB8BfwiYDXbjhyVq4+5ka0GPX9xS13cyOTYHAggggAAChROYtGyrbnzLvB8o6/jq7jPU5oRKheuYsxFAAAGPCBBgeaRQhZwmAZZ9wPwEWKZXc+fTbZLM2wBL5hjGPCJoHg/8Ry6P7WXf2+pWs8fzcaY4NfSGwZx7ZWXubWU2aa93nPN7S/o59P3j7ZWVs4vsb0QM2z0Blv2Li5b+Fvhkzjo98PlCa5Fmk92pD/ZUXAnzBDAHAggggAAChRe44a3ZmrzM7GJx9Di9YWV9cntn3nJbeFp6QAABDwgQYHmgSBGYIgGWfcT8BFgnS/outAG72cT9WUnLQvtanR26O6tG6Gtmw3UTNGUeBFj2a0JLBFwvkJaeoTNHTtLKbWbLuqPHA+c01V0JZns6DgQQQAABBCIj8MemvTr3+clKz/Yx4yvXttW5p5qXVXMggAAC/hYgwPJ3fTNXR4Blv852A6zKkn6TZH5aMG8GNG8IzHmYV8P8Isnsrmke97s0WwMeIbRfE1oi4HqBsYs26q73zf/djx7lS8Vq2sM9VSEut6eLXb8cJogAAggg4GKBh79YpA9nm50qjh71q5TRz4O6q1Qsd/y6uGxMDQEEIiBAgBUBRA90QYBlv0h2A6wHJD0T6tZssJ65IXvOkcyjgSbcSpdUVdKuUIP8bOK+LvSIYLhN3NMkmbcihtvE3Yyf+Ygim7jbvxZoiYAtgYyMDF340lQt3rDHan9XQmM9cA6vN7cFSCMEEEAAgXwJbN17SAnDErU/xfwIePT4+/mn6JZuJ+arHxojgAACXhMgwPJaxQo2XwIs+252A6yvJJkN0bdIqnmc7u8MbeRumnSSNCvU1tTE/LZbTtJ7km4I04fZY8s8k2Q+UhslqX+2doMlDQv9d2NJK8P0YTaafzT0veq57MdlXyerJW8hLIga5/hSYMqfW3X9m1mb6ppXm097qKeqlTP/9+VAAAEEEEAg8gKjEpdr2Lg/rI4rxMVq0pAeqlw255askR+bHhFAAIHiEiDAKi55Z8clwLLvbTfAGifpLBsB1l2h4MnMoIOkOdmmMllSt9AeWU3DTDH7XlnmTirzuGLmYfbVmhD6j2skfRimj8zN3s2dXPXtUxy3JQFWhCDpxvsCV78+UzNWbrcWckPnBvp3n5beXxgrQAABBBBwrUDy4TT1GjFJG3YdtOZ4U5eGeuyiFq6dMxNDAAEECitAgFVYQW+cT4Blv052A6x3st01dbxHCN+U1C80vNkva1O2qQyRNDT0360kLcplmiMlDQw9gmjON3d8ZR5mcx3zGpqKkr6QdFku51cLbR5vPo7LeQeXfZX/bUmAVRg9zvWNwPy1O3XJy9Ot9cRERylpcIJOqFLGN2tkIQgggAAC7hT4+tcNGvDRr9bkYqOjNG5gdzWubm7w50AAAQT8J0CA5b+a5rYiAiz7dbYbYJlH/kyIZQ6zv9StuQyRfRP3BZLa5GhjHj00j/2Z33S/lXRRju83lLRYkgmLPpPUN5cxhku6X5LZBMHcrZX1HNPRxi9JuluSeVeN2Tg+t5DMvk5WSwKsgqhxju8Ebn13rn5estla1yWn1dWzV+b8v7rvls2CEEAAAQRcIJCenqFLXp6mBet3W7PpfUpNjb6xvQtmxxQQQACByAsQYEXe1I09EmCFr0pzSRWyffuW0KbrKZLic5w2X9Kh0NfMHU3mLYQnhf77I0nPSvoztK/V2ZKelFQj9H3zBkLzJsKcxyOhdubrH4f+3dyl1VHSC5IaSdonqV3oUcOc55s7rBaG3oa4TdKA0GOFZk33hP4x57wh6bYIXpwEWBHEpCtvCizbvFdnPWueBM46fhrYXU1qlvfmgpg1AggggIDnBOas3qG+r844Zt4f3NpRXRqbHxE5EEAAAX8JEGD5q57hVkOAFb7OSbkEVeFamzBpdbZvmn2rvpdkNlAPd5g7ox7Ottl6znamNuYOrszHDHN+34RXV0oae5wxzMdsZh6ZYVnOpj9Kujhb+BaJq54AKxKK9OFpgUEf/6ov5m+w1sCn3p4uJ5NHAAEEPCtw1/vzNHZR1i4VLepU0Lf9uyo6ml8BPFtUJo4AArkKEGAF48Lgb6+iCbBMrybIMeHTJZLMrs2VQ0GR2TB9kqRXJJnHB/M6zPm3S2obuiPsL0lmo3jziOCKvE4OvQnRvJXQPIZo9uQyO3qaO8TeljQm9AihjW5sNyHAsk1FQz8KrN95QPHDkpSWbp7OPXp8cVcXta1v/gjgQAABBBBAwDmBNdv3q/fISTqclvV30vC+rXV5u3rOTYKREEAAAQcECLAcQHbBEARYLiiCz6ZAgOWzgrKc/An88+vFemfGGuukTidW0Ue3dc5fJ7RGAAEEEEAgQgJPfr9Eb0xZZfVWs0IpJQ5OUJmSsREagW4QQACB4hcgwCr+GjgxAwIsJ5SDNQYBVrDqzWqzCWzbd0hn/GeiDqWmW199p18HxTepjhMCCCCAAALFIrD74GElDEvUzgOHrfHv632y7uvdpFjmw6AIIIBAUQgQYBWFqvv6JMByX028PiMCLK9XkPkXWGDYuKUalZj1ZK/Za+S7e7oqKoo/aguMyokIIIAAAoUWGDNtlR77donVT+kSMUoakqCaFeIK3TcdIIAAAm4QIMByQxWKfg78VlX0xkEbgQAraBVnvUcE9iYfVpf/TNTe5FRLZNQ1bXV+q9oIIYAAAgggUKwCh9PSdfazk7Vy235rHn3b1dOwvq2LdV4MjgACCERKgAArUpLu7ocAy9318eLsCLC8WDXmXGiBV5JW6Jkfl1r9nFitrH4eFK8Y3vRUaFs6QAABBBAovMDPSzbr1nfnWh2Zm4PNXcIt6lQsfOf0gAACCBSzAAFWMRfAoeEJsByCDtAwBFgBKjZLPSqQfDhNXZ9JlNkDK/N45rJTdeXp9SFCAAEEEEDAFQIZGRm65o1ZmrFyuzWfLo2r6v1bOvKouysqxCQQQKAwAgRYhdHzzrkEWN6plVdmSoDllUoxz4gJ/HfmGv39q8VWf7UqxGnSAwkqFRsTsTHoCAEEEEAAgcIKLN6wWxe+NFUZGVk9vXlje/U6pWZhu+Z8BBBAoFgFCLCKld+xwQmwHKMOzEAEWIEpNQs1AmnpGeoxPElrdxywQP5+/im6pduJACGAAAIIIOA6gcGfLtBn89Zb8zqpRjn9OKCbYmOiXTdXJoQAAgjYFSDAsivl7XYEWN6unxtnT4DlxqowpyIT+GHRRt35/i9W/5XKlNC0B3uqbKnYIhuTjhFAAAEEECiowKbdyUoYnqjkw+lWF09dcqqu6chj7wU15TwEECh+AQKs4q+BEzMgwHJCOVhjEGAFq96BX+3lr0zX3DU7LYd7ep6k+89qGngXABBAAAEE3CswfNwfeilxuTXBauVKadKQBD58cW/JmBkCCOQhQIAVjEuEACsYdXZylQRYTmozVrEK/Lpuly4eNc2aQ8mYaE19qIdqlI8r1nkxOAIIIIAAAscT2Jt8WAnDkrR9f4rVbECvkzXwzCbAIYAAAp4UIMDyZNnyPWkCrHyTcUIeAgRYXCKBEbjnw/n6dsFf1novb1dPw/u2Dsz6WSgCCCCAgHcF3puxWv/39W/WAkqXiDlyF1aNCnwI492qMnMEgitAgBWM2hNgBaPOTq6SAMtJbcYqNoENuw6q+9DEI5u4Zx4/DOimU2pXKLY5MTACCCCAAAJ2BQ6npevsZydr5bb91ilXdzhBT1/aym4XtEMAAQRcI0CA5ZpSFOlECLCKlDeQnRNgBbLswVv0U2N/1+uTV1oLP+Okqnr/lk7Bg2DFCCCAAAKeFRj32ybd/t48a/7RUdKP93VXk5rlPbsmJo4AAsEUIMAKRt0JsIJRZydXSYDlpDZjFYvAvkOp6vz0BO1NTrXGf/um09WjWY1imQ+DIoAAAgggUBCBjIwMXfHaDM1ZnfUykp7Nauitm04vSHecgwACCBSbAAFWsdE7OjABlqPcgRiMACsQZQ72It+etkr/+naJhdC4eln9PDBe0eajaw4EEEAAAQQ8JDB/7U5d8vL0Y2b8wa0d1aVxNQ+tgqkigEDQBQiwgnEF8NtWMOrs5CoJsJzUZizHBcyeVwnDE7Vux0Fr7CcvaalrOzZwfC4MiAACCCCAQCQE7v7gF32/cKPVVcu6FfTN3V35YCYSuPSBAAKOCBBgOcJc7IMQYBV7CXw3AQIs35WUBWUX+HHxJt3x36z9QiqXKaHpD/VS6ZIxQCGAAAIIIOBJgbXbD6jXyCQdTst6MclzV7bRxafV9eR6mDQCCARPgAArGDUnwApGnZ1cJQGWk9qM5bhA31enH7NXyD09T9L9ZzV1fB4MiAACCCCAQCQF/v3tEr01bZXVZd1KpTXh/njFleADmkg60xcCCBSNAAFW0bi6rVcCLLdVxPvzIcDyfg1ZQRiBBet2qc+oadZ3S8REadqDPVWjQhxmCCCAAAIIeFpg5/4UdR+WeMwLSh4+t5luj2/s6XUxeQQQCIYAAVYw6kyAFYw6O7lKAiwntRnLUYF7P5yvbxb8ZY15Wdt6GnFFa0fnwGAIIIAAAggUlcBrk1bo6R+WWt2Xj4vV5CE9VLlsyaIakn4RQACBiAgQYEWE0fWdEGC5vkSemyABludKxoTtCPy166C6DU2U2cQ98xh7bzc1r1PBzum0QQABBBBAwPUCyYfT1GvEJG3YlfWikn5nNNI/Lmzu+rkzQQQQCLYAAVYw6k+AFYw6O7lKAiwntRnLMYGnf/hdr01aaY3XpXFVfXBrJ8fGZyAEEEAAAQScEPhq/gbd9/Gv1lDmcfnxg+LVoKr5EY8DAQQQcKcAAZY76xLpWRFgRVqU/giwuAZ8J7D/UKo6PT3hmH1B3rqpvXo2q+m7tbIgBBBAAIFgC6SnZ+iiUVO1eMMeC+L8VrU16pq2wYZh9Qgg4GoBAixXlydikyPAihglHYUECLC4FHwnMGbaKj327RJrXSdWL6vxA+MVHc0fob4rNgtCAAEEEND0Fdt0zRuzjpH48q4uOq1+ZXQQQAABVwoQYLmyLBGfFL99RZw08B0SYAX+EvAXgNnzqueIJK3ZfsBa2BMXt9R1nRr4a6GsBgEEEEAAgWwC/cbM0cSlW6yvnN6wsj65vbOiovj1gQsFAQTcJ0CA5b6aFMWM+BuoKFSD3ScBVrDr77vVj/ttk25/b561rkplSmjGQ71UumSM79bKghBAAAEEEMgU+HPzXp393GRle3eJXru+nc5uUQskBBBAwHUCBFiuK0mRTIgAq0hYA90pAVagy++/xV/x6gzNXr3DWtjdPRpryNnN/LdQVoQAAggggEAOgYe/WKgPZ6+zvnpitbIaN7C7SsREY4UAAgi4SoAAy1XlKLLJEGAVGW1gOybACmzp/bfwhet36aKXplkLM29imvpgT9WsEOe/xbIiBBBAAAEEcghs2ZOshOFJOpCSZn3n8T4tdH3nhlghgAACrhIgwHJVOYpsMgRYRUYb2I4JsAJbev8tfMBH8/X1r39ZC7u0bV2NvKKN/xbKihBAAAEEEAgj8OzPy/T8hD+t71YtW1JJQxJUPq4EZggggIBrBAiwXFOKIp0IAVaR8gaycwKsQJbdf4veuPuguj2TqNRsm398f29XtahT0X+LZUUIIIAAAgiEEdh/KPXIXVhb9x6yWtzT8yTdf1ZTzBBAAAHXCBBguaYURToRAqwi5Q1k5wRYgSy7/xb9nx+W6tVJK6yFdT6xqj68rZP/FsqKEEAAAQQQyEPgg1lr9ciXi6xWpUvEaNKQBNXgkXquHQQQcIkAAZZLClHE0yDAKmLgAHZPgBXAovttyebT5s5PT9Ce5FRraW/e2F69Tqnpt6WyHgQQQAABBPIUSE1L1znPT9HyLfusttd0rK+nLjk1z3NpgAACCDghQIDlhHLxj0GAVfw18NsMCLD8VtEArufdGav1j69/s1Zu3ro0flC8oqP5IzOAlwNLRgABBBCQ9NNvm3Tbe/Msi5joKP00sLsaVy+HDwIIIFDsAgRYxV4CRybAb2OOMAdqEAKsQJXbf4tNS89QrxFJWr39gLW4xy9uqes7NfDfYlkRAggggAACNgUyMjJ0+aszNG/NTuuMc1rU0qvXt7PZA80QQACBohMgwCo6Wzf1TIDlpmr4Yy4EWP6oY2BXkfMT5oqlS2jGwz1VpmRsYE1YOAIIIIAAAkZg7uodR0Ks7McXd3VR2/qVAUIAAQSKVYAAq1j5HRucAMsx6sAMRIAVmFL7c6FXvjZDs1btsBZ3V0JjPXBOM38ullUhgAACCCCQT4Fb352rn5dsts7q0LCKPr69k6Ki+LUin5Q0RwCBCAoQYEUQ08Vd8TeNi4vj0akRYHm0cExbWrxhty54capFUSImSlMf7KmavGWJywMBBBBAAIEjAsu37NVZz05WekYWCC864eJAAIHiFiDAKu4KODM+AZYzzkEahQArSNX22Vrv/2SBPv9lvbWqS06rq2evbOOzVbIcBBBAAAEECifw0OcL9dGcdVYnTWqW0w8Dusts7M6BAAIIFIcAAVZxqDs/Jn/LOG/u9xEJsPxeYZ+ub/u+Q+r8n4lKSU23Vvht/646tV5Fn66YZSGAAAIIIFAwgU27k5UwPFHJh7P+zhx6eStd0f6EgnXIWQgggEAhBQiwCgnokdMJsDxSKA9NkwDLQ8ViqlkCoxKXa9i4P6wvtGtQWZ/f2QUiBBBAAAEEEMhFYOiPS/Vy0grrO7UrxilxcILiSsTghQACCDguQIDlOHmxDEiAVSzsvh6UAMvX5fXn4lLT0tVtaKI27k62FvjC1afpotZ1/LlgVoUAAggggEAhBXYfPKz4YYnadeCw1dPD5zbT7fGNC9kzpyOAAAL5FyDAyr+ZF88gwPJi1dw9ZwIsd9eH2eUi8MOijbrz/V+s71QvX0rTHuypkrHReCGAAAIIIIBAGIHRU1bqie9/t75bIS5Wkx/ooUplSmKGAAIIOCpAgOUod7ENRoBVbPS+HZgAy7el9e/Crnxthmat2mEt8L7eJ+u+3k38u2BWhgACCCCAQAQEDqWmqefwSdqw66DV2+3dT9TD550Sgd7pAgEEELAvQIBl38rLLQmwvFw9d86dAMuddWFWYQR+37hH5z4/xfpuiZgoTXuop2qUj8MMAQQQQAABBPIQ+OKX9Rr0yQKrlbl72eyFVbdSaewQQAABxwQIsByjLtaBCLCKld+XgxNg+bKs/l3Uw18s0oez11oL7NOmjp6/6jT/LpiVIYAAAgggEEGB9PQMnf/iVJkPhDKPy9vV0/C+rSM4Cl0hgAACxxcgwArGFUKAFYw6O7lKAiwntRmrUAK7DxxWp6cn6ODhNKsf8+ZB8wZCDgQQQAABBBCwJ5D0xxbd9PYcq3FUlPTDgG5qVquCvQ5ohQACCBRSgACrkIAeOZ0AyyOF8tA0CbA8VKygT/WNySv15NiszWdPrVtR3/Q/Q1HmJ28OBBBAAAEEELAlkJGRoWtHz9L0Fdut9j2b1dBbN51u63waIYAAAoUVIMAqrKA3zue3NG/UyUuzJMDyUrUCPNe09AwlDE/Uuh1ZG8+axx3MYw8cCCCAAAIIIJA/gQXrdqnPqGnHnPTRbZ3U6cSq+euI1ggggEABBAiwCoDmwVMIsDxYNJdPmQDL5QViekcFJvy+WTe/M9fiqFK2pKY/1FNxJWIgQgABBBBAAIECCNz9wS/6fuFG68w2J1TSl3d14c7mAlhyCgII5E+AACt/Xl5tTYDl1cq5d94EWO6tDTPLJnD9m7M05c9t1lfuSmisB85phhECCCCAAAIIFFBg9bb96j1yklLTM6weXrm2rc49tXYBe+Q0BBBAwJ4AAZY9J6+3IsDyegXdN38CLPfVhBnlEFixdZ96jZhkfTUmOkpTHuihOrzym2sFAQQQQACBQgn84+vFenfGGquPE6uV1biB3VUiJrpQ/XIyAgggcDwBAqxgXB8EWMGos5OrJMByUpuxCiTwz68X651sP1yf27KWXrmuXYH64iQEEEAAAQQQyBLYtu+Q4ocman9K1ht+n7i4pa7r1AAmBBBAoMgECLCKjNZVHRNguaocvpgMAZYvyujfRexNPqxOT0045gdrNpn1b71ZGQIIIICA8wLPjV+m58b/aQ1crVwpTRqSoLKlYp2fDCMigEAgBAiwAlFmEWAFo85OrpIAy0ltxsq3wDvTV+uf3/xmnde0Znn9eF83NpjNtyQnIIAAAgggkLvAvkOpShiWqG37UqwGg85sont7nQwZAgggUCQCBFhFwuq6TgmwXFcSz0+IAMvzJfTvAtLTM9T72UlauXW/tcinLjlV13Ss799FszIEEEAAAQSKQeC9Gav1f19nfWBUtmSMJj3QQ+ZuLA4EEEAg0gIEWJEWdWd/BFjurIuXZ0WA5eXq+Xzuk5dt1Q1vzbZWWSEuVjMf6aUyJXmkweelZ3kIIIAAAg4LHE5L15kjJ2n19gPWyDd1aajHLmrh8EwYDgEEgiBAgBWEKotHCINRZkdXSYDlKDeD5UfglnfmaPzvW6xTbu3WSI+e3zw/XdAWAeUbTJEAACAASURBVAQQQAABBGwKfL9wo+7+4BerdYmYKE0YlKD6VcvY7IFmCCCAgD0BAix7Tl5vxR1YXq+g++ZPgOW+mjAjSWu3H1D88ERlZBzliIqSJg3uwQ/RXB0IIIAAAggUkUBGRoYuHjVNC9bvtka4qHUdvXD1aUU0It0igEBQBQiwglF5Aqxg1NnJVRJgOanNWLYFnvx+id6Ysspq36tZDb150+m2z6chAggggAACCORfYPqKbbrmjVnHnPjdPV3Vsm7F/HfGGQgggEAYAQKsYFwaBFjBqLOTqyTAclKbsWwJHEhJVaenJmhPcqrV/t1+HdS9SXVb59MIAQQQQAABBAoucNPbs5X0x1arg64nVdN/b+lY8A45EwEEEMghQIAVjEuCACsYdXZylQRYTmozli2BD2ev1cNfLLLanli9rMYPjFd0NH8E2gKkEQIIIIAAAoUQ+H3jHp33whTrMX7T1Xs3d1C3k/kgqRCsnIoAAtkECLCCcTnw21sw6uzkKgmwnNRmrDwFzP4b5z4/RUs37bXaPnZhc910RqM8z6UBAggggAACCERGYNAnv+qLXzZYnbWoU0Hf9u/Kh0mR4aUXBAIvQIAVjEuAACsYdXZylQRYTmozVp4CM1du11Wvz7TalS0Zo5mP9FL5uBJ5nksDBBBAAAEEEIiMwPqdB9Rz+CSlpKVbHT5/VRv1aVM3MgPQCwIIBFqAACsY5SfACkadnVwlAZaT2oyVp8Cd/52nHxZvstrd2LmB/tWnZZ7n0QABBBBAAAEEIivwxHdLNHpq1gtV6lUurQn3x6tUbExkB6I3BBAInAABVjBKToAVjDo7uUoCLCe1Geu4An/tOqhuQxOVlp5htRs/KF4n1SiHHAIIIIAAAgg4LLBzf4q6D0vU3mwvVfnHBc3VryuP9TtcCoZDwHcCBFi+K2muCyLACkadnVwlAZaT2ox1XIFh45ZqVOIKq023k6vpvZt56xGXDQIIIIAAAsUl8HLScg398Q9r+MplSmjSAz1UgUf7i6skjIuALwQIsHxRxjwXQYCVJxEN8ilAgJVPMJoXjUDy4TR1+c9E7difYg0w+ob26t28ZtEMSK8IIIAAAgggkKeA+fs5YViSNu1Jttr273GSBp/dNM9zaYAAAgiEEyDACsa1QYAVjDo7uUoCLCe1GSuswGfz1mvwpwus759QpbSSBvdQTDR/7HHZIIAAAgggUJwCH89Zqwc/X2RNIa5EtCYP6aEaFeKKc1qMjQACHhYgwPJw8fIxdX6TywcWTW0JEGDZYqJRUQtc9NJULVy/2xrm0fNO0a3dTyzqYekfAQQQQAABBPIQSE1L17nPT9GfW/ZZLa/pWF9PXXIqdggggECBBAiwCsTmuZMIsDxXMtdPmADL9SXy/wQXrNulPqOmWQs1n+zOeri3KpYp4f/Fs0IEEEAAAQQ8IPDzks269d251kzNHdI/DeyuxtV50YoHyscUEXCdAAGW60pSJBMiwMqd1bg0k9Qh2z+tJJWUdEhSfu5vribpdkl9JJnbP8zfypskLZOUKOkNSduOU92LJd0h6TRJFSX9JelHSSMkZe1OHb4Ds+HP/ZIuklRf0gFJv0kaE/on6/VskbnECLAi40gvhRAY8ukCfTpvvdXDVaefoP9cZv4vzIEAAggggAACbhDIyMhQ31dnaO6andZ0zmlRS69e384N02MOCCDgMQECLI8VrIDTJcDKHa6hpFVhTPMTYF0o6S1JJsQKd/SQlJTLN01tRkvqF+ZEc8/1lZLGHqfv9pK+l1QjTBsThJmAzKwpUgcBVqQk6adAArsOpKjjUxN0KDXdOv+7e7qqZV2T/3IggAACCCCAgFsE5q3ZoctemXHMdD6/s4vaNajslikyDwQQ8IgAAZZHClXIaRJg5Q6YPcAyt3HMCYVQ3fJxB9b5kr6UZJ5Zmi9pqCTzN/QeSbUlmb5ukPSIpEm5TMN8/cnQ1z8J/ftGSZ0kPS+pkSQTYpmPqczdXDkPE5otDI21XdIASRNCd3H1l2T+MYe5A+y2Ql5H2U8nwIogJl3lX2D0lJV64vvfrRPbnFBJX919Rv474gwEEEAAAQQQKHKB296dq5+WbLbG6dCwij6+vZOiovg1pcjxGQABHwkQYPmomMdZCn8z5I5TXlJPSbNCj/uZVo9J+qfNAKuqpKWh0MuEWFdISs3HJWUe+zOPB5owyNxBZe7kyv6onwnYFoe+/5mkvrn0PTz06KC5DcX89j4zR5uXJN0tyXy/jaSsV8HkY6K5NCXAKpwfZxdCID09Qz1HJGn1dvOk7NFjRN/WuqxdvUL0yqkIIIAAAgggUFQCy7fs01nPTlJ6tp9037yxvXqdYn4c5kAAAQTsCRBg2XPyeisCLPsVzE+ANUzSYElbJDWRlPUqNHvjDQndsWVam3BpQS6njZQ0MBRAmTu6zFiZh7nra2vobisToF2ay/nmDq0NoX29RmW7I8veDMO3IsAqrCDnF1hgyp9bdf2bs63zK5UpoZkP91JciZgC98mJCCCAAAIIIFC0Ag9/sVAfzl5nDdKkZjn9MKC7zMbuHAgggIAdAQIsO0reb8PfCvZraDfAMuGRCYaqSzJB1gP2h7BaTg49YvhnKADLrYsukjJfs3ZzaK+tzHbm7jHzuKA5rpX0QZg5/CTpTEnmJwazwXskDgKsSCjSR4EEcj6GcFv3E/XIeacUqC9OQgABBBBAAAFnBDbvSVb8sEQlH87av3Lo5a10RfsTnJkAoyCAgOcFCLA8X0JbCyDAssV0pJHdAMvsUZW5G6UJh8ZnG8KEW4dtDLk39LbC/0q6Pkz7UpL2SzK3luS8g8rc/WXCM3OcdJy3FT4u6e+hdiZwO97bEG1M+0gTAiy7UrSLqMBfuw6q6zMTj3kEYdKQBDWoai5JDgQQQAABBBBws8CwcUs1KjHrBdu1K8YpcXACd1G7uWjMDQEXCRBguagYRTgVAiz7uHYDLLOvlNlfyhx1JdUJhUTmriizt5bZxH16qI3Z3yrnYc4xG8eb49+hfbfCzXKtJPPRlAnJTFiWeZiN2W8JPV5ogq5w+2+ZNxy+GTqpa7Y7uuyr/G9LAqzC6HFugQVG/PSHXpy43Do/vkl1vdOvQ4H740QEEEAAAQQQcE5gT/JhxQ9N1M4DWZ/1PnRuM90R39i5STASAgh4VoAAy7Oly9fECbDsc9kNsJ7J9tigCZFelRQbZpiXQxupZ/92a0m/hr5wT7YwLLcu5klqG3rLofnfzMPse3WxJPP2QbPXVbjDbA7/TeibfbL9e14qx7ulpUzmflz79u1T2bLc/ZIXJt8vvEBKarrOeGaitu49ZHX2xg3tdWZzNoAtvC49IIAAAggg4IzAm1NX6fHvlliDVYiL1eQHeqhSmZLOTIBREEDAswIEWJ4tXb4mToBln8tugGUCq9tD3aZI2hd6G6AJig5KMntXmQ3YW4Xa3CvpxWzTyL631a2SRh9nilNDbxjMuVdW5t5WZi+u471+rbekn0P9H2+vrJxTyP5GxLDTI8Cyf3HRsnAC3y38S/0/mG91UrdS6SM/8LL5a+FcORsBBBBAAAEnBQ6lpqnXiElav9P8yHz0uL37iXqY/SydLANjIeBJAQIsT5Yt35MmwLJPZjfAel2SCZ7MkRYKrLJei3b065UkLQw9/mfeFmg2UE8OnUOAZb8mtETgiMCVr83QrFU7LI0hZzfV3T3M9m8cCCCAAAIIIOAlga/mb9B9H2c+jCCVio3WpCE9VKtinJeWwVwRQMBhAQIsh8GLaTgCLPvwdgOsZyXdF+rW3HVlHs3L7RgkaUToG70kTQz9O48Q2q8JLRHQn5v36sxnzYs7jx4lYqI0/aFeql7ebP/GgQACCCCAAAJeEkhPz9B5L0zR0k3mnUZHj6s71NfTl57qpWUwVwQQcFiAAMth8GIajgDLPrzdAOtRSU+Euh0iaXiYIU6XlHlnVva9rvKzifu60COC4TZxN3eAmY+rwm3ifnO2RxTZxN3+tUBLFwn88+vFemfGGmtGF7auoxevPs1FM2QqCCCAAAIIIJAfgcSlW/S3MXOsU8yWAD8P7K4Tq5fLTze0RQCBAAkQYAWj2ARY9utsN8C6TNJnoW7NJu6Zb/nLOZJ5vsnsXWUOE3o9Ffp3UxPzpkLzN/R7km4IM0Vze8l+STGSRknqn63dYEnDQv9tXt2yMkwfJmgzY5ujuqRt9jnCtuQthBFApAt7AvsPparjUxO071BWRvvJ7Z3VoVEVex3QCgEEEEAAAQRcJ5CRkaErX5up2auztgc4v1Vtjbom+zuLXDdtJoQAAsUoQIBVjPgODk2AZR/bboDVQNLqULcPShoaZoiOkmaGvmfCJxNCZR7meahukpZJahrm/Ox7ZZk7qd7K1q6npAmh/75G0odh+sjc7N3cyWX24YrEQYAVCUX6sCXw/qw1evTLxVbbpjXL68f7uikqij/abAHSCAEEEEAAAZcKzF29Q5e/OuOY2X3bv6tOrVfRpTNmWgggUJwCBFjFqe/c2PyWZ9/aboBlejQ7T5q9rMZKOj/MEA9Ieib0vZyP75lHDzODL/O2wkW59GHeZDhQUrqk2pK2ZGtTQpLZHN78Df+FJHNXWM6jmiTzlkLzXuKcd3DZV/nflgRYhdHjXNsC5tPZc58/do+Mxy9uqes7mQyZAwEEEEAAAQS8LnDzmDmasDTrR9xuJ1fTezebz4A5EEAAgWMFCLCCcUUQYNmvc34CLPPo4BuhcClB0pQcw5jH9cxbCGuF7tY6Occ+VTVDj/2VkfStpItynN9QkrntxIRF5nHFvrksw+y9df9x3oT4kqS7JWWEwrbcQjL7OlktCbAKosY5+RaYt2aHLnsl65PZsiVjNOvR3ipXKjbffXECAggggAACCLhP4PeNe45s6J5hfloNHR/c0lFdTjKfw3IggAACWQIEWMG4Ggiwwte5uaQK2b5tQinzqF6KpPgcp82XdCjb18y+VOY3a7NRu9nP6hFJX4fadA7dXZX5aODlkj7PZRrmnCdDX/849O+bJJmPnV6Q1EjSPkntQo8a5uzC/M1uQjJzd5bZ22pA6LFCsyazabz5xxwmaLstgpc7AVYEMekqvMB9H83XV7/+ZTW4rlN9PXExbyjimkEAAQQQQMBPAgM//lVfzjcPDRw9Wp9QSV/d1YXtAvxUZNaCQAQECLAigOiBLgiwwhcpKZegKlxrEyZl7nuV2cbcXWX2mAr3G7V5Q+CgUBiVW7+mNqMl9QszqAmvrgw9phhuXu0lfS+pRpgGP0q6OEf4VtjLlgCrsIKcn6fA9n2H1PnpiUpJM0/QHj3M3lfNamXPnPPshgYIIIAAAggg4HKBtdsPqNfIJB1Oy7oN69Xr2umcluZHbQ4EEEDgqAABVjCuBAKs8HUubIBlejZvCrxT0lWhzdhLSzK3jCRKejb0GGBeV9olkm6XZF67Yn47N+ePk2QeEVyR18mSzOOI5q2E5jHEEyQdlPSbpLcljQk9QmijG9tNCLBsU9GwoAKvJK3QMz8utU4/vWFlfXqHea8BBwIIIIAAAgj4TeCfXy/WOzPWWMs6qUY5/Tigm2Jjov22VNaDAAIFFCDAKiCcx04jwPJYwTwwXQIsDxTJy1NMS89Q/LBErd9pstijx/NXtVGfNnW9vCzmjgACCCCAAAJhBLbuPXTk7/4DKeYBhqPH0Mtb6Yr25rNZDgQQQIA7sIJyDRBgBaXSzq2TAMs560CONHHpZvUbM9dae7VyJTXtoZ4qFWu2nuNAAAEEEEAAAT8KjPjpD704cbm1tDoV4zRxcILiSvD3vx/rzZoQyK8Ad2DlV8yb7QmwvFk3N8+aAMvN1fHB3P729mwl/rHVWsndPRpryNnNfLAyloAAAggggAAC4QT2JB9W96GJ2nXgsNXk7+efolu6nQgaAgggwB5YAbkGCLACUmgHl0mA5SB20IZat+OAug9LtF6nHRUlTXmgh+pVLhM0CtaLAAIIIIBA4ATemLxST4793Vp35TIlNPmBHiofVyJwFiwYAQSOFeAOrGBcEQRYwaizk6skwHJSO2Bj/eeHpXp1Uta7C3qfUkOjbzw9YAosFwEEEEAAgWAKJB9OU4/hSdq4O9kCuLfXyRp0ZpNggrBqBBCwBAiwgnExEGAFo85OrpIAy0ntAI1lfmjt8p+J2rE/xVr1mL+droSmNQKkwFIRQAABBBAItsDHc9bqwc8XWQhlSsYcuQurWjnz8m8OBBAIqgABVjAqT4AVjDo7uUoCLCe1AzTWl/PXa+DHC6wV169SRkmDExQdzR9jAboMWCoCCCCAQMAFUtPSddZzk7Vy635L4qYuDfXYRS0CLsPyEQi2AAFWMOrPb37BqLOTqyTAclI7QGNd9sp0zVuz01rxw+c20+3xjQMkwFIRQAABBBBAwAj8sGij7nz/FwujREyUJt6foBOqsCcmVwgCQRUgwApG5QmwglFnJ1dJgOWkdkDG+u2v3Tr/hanWakvGRmvmw71UpWzJgAiwTAQQQAABBBDIFMjIyFCfUdO0cP1uC+XStnU18oo2ICGAQEAFCLCCUXgCrGDU2clVEmA5qR2QsR7+YpE+nL2WH1IDUm+WiQACCCCAQF4C05Zv07WjZ1nNzJuJfxzQXU1rlc/rVL6PAAI+FCDA8mFRc1kSAVYw6uzkKgmwnNQOwFh7kg+r01MTdCAlzVrtF3d1Udv6lQOwepaIAAIIIIAAAuEErhs9S1OXb7O+3fuUmhp9Y3vAEEAggAIEWMEoOgFWMOrs5CoJsJzUDsBY781Yrf/7+jdrpS3qVNB393RVlPmolQMBBBBAAAEEAiuwYN2uI48SZj8+v7Oz2jWoElgTFo5AUAUIsIJReX4DDEadnVwlAZaT2j4fy+xxcd4LU/X7xj3WSp+65FRd07G+z1fO8hBAAAEEEEDAjsBd78/T2EWbrKYdGlbRx7d34oMuO3i0QcBHAgRYPirmcZZCgBWMOju5SgIsJ7V9PlbOT1bLlozRrEd7q1ypWJ+vnOUhgAACCCCAgB2BFVv36axnJystPcNq/vbfTlePpjXsnE4bBBDwiQABlk8KmccyCLCCUWcnV0mA5aS2z8d6+IuF+nD2OmuVV3c4QU9f2srnq2Z5CCCAAAIIIJAfgYc+X6iP5mT9vHBK7Qr6/p6uio7mV538ONIWAS8LEGB5uXr2586f6vataGlPgADLnhOt8hDYdyhVHZ4cf8zm7d/0P0Ot6lXCDgEEEEAAAQQQsAQ27j6o+GFJSklNt772/FVt1KdNXZQQQCAgAgRYwSg0AVYw6uzkKgmwnNT28Vgfzl6rh79YZK2wufk09V42b/dxyVkaAggggAACBRZ4auzven3ySuv8+lXKaPygeJWMjS5wn5yIAALeESDA8k6tCjNTAqzC6HFubgIEWFwXERG46KWpWrh+t9XX4xe31PWdGkSkbzpBAAEEEEAAAX8J7Nyfou5DE7X3UCo/O/irtKwGAVsCBFi2mDzfiADL8yV03QIIsFxXEu9NaPGG3brgxanWxEuXMJu391KFuBLeWwwzRgABBBBAAAFHBF6c8KdG/LzMGqt6+VKaPKSHSpeMcWR8BkEAgeITIMAqPnsnRybAclI7GGMRYAWjzkW6yr9/tUj/nbnWGqNvu3oa1rd1kY5J5wgggAACCCDgbYH9h1IVPyxR2/alWAt54JymuivhJG8vjNkjgECeAgRYeRL5ogEBli/K6KpFEGC5qhzem8yBlFR1fHLCMY8AfH5nF7VrUNl7i2HGCCCAAAIIIOCowDvTV+uf3/xmjVkhLlZTHuipimW4i9vRQjAYAg4LEGA5DF5MwxFgFRO8j4clwPJxcZ1Y2idz1+mBzxZaQzWtWV4/3tdNUVH8ceWEP2MggAACCCDgZQHzJsKeI5K0fudBaxl3xDfWQ+c28/KymDsCCOQhQIAVjEuE3wiDUWcnV0mA5aS2D8e69OVp+mXtLmtl/7ywuf52RiMfrpQlIYAAAggggEBRCHw5f70GfrzA6rpUbLQmDemhWhXjimI4+kQAARcIEGC5oAgOTIEAywHkgA1BgBWwgkdyuX9s2quzn5t8zA+csx7ppUplSkZyGPpCAAEEEEAAAR8LpKVn6PwXpmjppr3WKq/pWF9PXXKqj1fN0hAItgABVjDqT4AVjDo7uUoCLCe1fTbWY9/8pjHTV1uruuS0unr2yjY+WyXLQQABBBBAAIGiFpjw+2bd/M5ca5iY6CiNHxSvRtXMj6ocCCDgNwECLL9VNPf1EGAFo85OrpIAy0ltH42VfDhNHZ4crz3JqdaqPrm9szo0quKjVbIUBBBAAAEEEHBCICMjQ31fnaG5a3Zaw13QqrZeuqatE8MzBgIIOCxAgOUweDENR4BVTPA+HpYAy8fFLcql5dyvonH1skc+KWXz9qJUp28EEEAAAQT8KzBn9Y4jIVb247t7uqpl3Yr+XTQrQyCgAgRYwSg8AVYw6uzkKgmwnNT20VhXvDpDs1fvsFb09/NP0S3dTvTRClkKAggggAACCDgt0G/MHE1cusUatnuT6nq3Xwenp8F4CCBQxAIEWEUM7JLuCbBcUggfTYMAy0fFdGopy7fsU++Rk6zhSsZEa+YjvVSlLJu3O1UDxkEAAQQQQMCPAr9v3KPzXpiijIys1X1wa0d1aVzNj8tlTQgEVoAAKxilJ8AKRp2dXCUBlpPaPhnrie+WaPTUVdZqLmxdRy9efZpPVscyEEAAAQQQQKA4Be77aL6++vUvawptTqikL+/qwjYFxVkUxkYgwgIEWBEGdWl3BFguLYyHp0WA5eHiFcfUD6WmqdNTE7TzwGFr+A9u6aguJ/HJaHHUgzERQAABBBDwm8Da7QfUc0SSUtOzbsN6/fp2OqtFLb8tlfUgEFgBAqxglJ4AKxh1dnKVBFhOavtgrG8W/KV7P5xvraRh1TKaeH+CoqP548kH5WUJCCCAAAIIuELgH18v1rsz1lhzOblGOf14X3fF8POGK+rDJBAorAABVmEFvXE+vyF6o05emiUBlpeq5YK5XvPGTE1fsd2ayYPnNNOdCY1dMDOmgAACCCCAAAJ+EdiyN1nxQ5N08HCataThfVvr8nb1/LJE1oFAoAUIsIJRfgKsYNTZyVUSYDmp7fGxVm/br4ThSdYqYqOjNOPhXqpevpTHV8b0EUAAAQQQQMBtAsPGLdWoxBXWtOpWKq2Jg+NVKjbGbVNlPgggkE8BAqx8gnm0OQGWRwvn4mkTYLm4OG6b2n9+WKpXJ2X9IHluy1p65bp2bpsm80EAAQQQQAABHwjsPnhY3Ycmyvxv5vGPC5qrX9dGPlgdS0Ag2AIEWMGoPwFWMOrs5CoJsJzU9vBYKanp6vKfCdq2L8Vaxbv9Oqh7k+oeXhVTRwABBBBAAAE3C7w2aYWe/mGpNcUqZUtq8gM9VK5UrJunzdwQQCAPAQKsYFwiBFjBqLOTqyTAclLbw2P9sGij7nz/F2sF9SqX1uQhPdi83cM1ZeoIIIAAAgi4XSD5cJrihyVq855D1lTv632y7uvdxO1TZ34IIHAcAQKsYFweBFjBqLOTqyTAclLbw2Pd8NZsTV621VrB4LOaqH/Pkz28IqaOAAIIIIAAAl4Q+HD2Wj38xSJrqmVLxhy5C6tqOfbg9EL9mCMCuQkQYAXjuiDACkadnVwlAZaT2h4da92OA+o+LFEZGUcXYF5hPf2hnqpZIc6jK2LaCCCAAAIIIOAVgdS0dJ317GSt3LbfmnK/MxrpHxc298oSmCcCCOQQIMAKxiVBgBWMOju5SgIsJ7U9OtaIn/7QixOXW7M/s3lNvXFDe4+uhmkjgAACCCCAgNcEvl+4UXd/kLWVQcmY6CNvJKxXuYzXlsJ8EUBAEgFWMC4DAqxg1NnJVRJgOantwbHMp55nPDPxmL0n3rqpvXo2q+nB1TBlBBBAAAEEEPCiQHp6hvqMmqZFG3Zb07+0bV2NvKKNF5fDnBEIvAABVjAuAQKsYNTZyVUSYDmp7cGxfl6yWbe+O9eaee2KcZr6YM8jjxFyIIAAAggggAACTglM+XOrrn9ztjVcVJQ09t5uOqV2BaemwDgIIBAhAQKsCEG6vBt+Y3R5gTw4PQIsDxbNySn3GzNHE5dusYYc0OtkDTyTN/84WQPGQgABBBBAAIGjAteNnqWpy7dZHAlNq2vM3zrAgwACHhMgwPJYwQo4XQKsAsJxWlgBAiwujrACf+06qK7PTFR6aPN280mnufuqbqXSqCGAAAIIIIAAAo4LLN6wWxe8OPWYcT+4taO6NK7m+FwYEAEECi5AgFVwOy+dSYDlpWp5Y64EWN6oU7HM8rnxy/Tc+D+tsXs0ra63+ZSzWGrBoAgggAACCCBwVODeD+frmwV/WRyt61XUV3efoSjzSRsHAgh4QoAAyxNlKvQk+VO50IR0kEOAAItLIleBtPQMdR+aqA27Dlrff+36djq7RS3EEEAAAQQQQACBYhNYu/2Aeo1M0uG00C3ikkZd01bnt6pdbHNiYAQQyJ8AAVb+vLzamgDLq5Vz77wJsNxbm2Kd2eRlW3XDW1kbpVYvX0rTH+qpEjHRxTovBkcAAQQQQAABBB775jeNmb7agmhYtYx+HhTPzylcGgh4RIAAyyOFKuQ0CbAKCcjp/yNAgMVFkatA/w9+0XcLN1rfuyO+sR46txlaCCCAAAIIIIBAsQts33dI8cOStO9QqjWXx/u00PWdGxb73JgAAgjkLUCAlbeRH1oQYPmhiu5aAwGWu+rhitns3J+ijk9NUEpaujWfiffH68Tq5VwxPyaBAAIIIIAAAgi8OOFPjfh5mQVRrVxJTRrSQ2VLxYKDAAIuFyDAcnmBIjQ9AqwIQdKNJUCAxcXwPwJvT1ulf327xPp6h4ZV9MkdnZFCAAEEEEAAAQRcI3AgJVXdhyZp275D1pzu632y7uvdxDVzZCIIIJC7AAFWMK4M4rlOPAAAIABJREFUAqxg1NnJVRJgOantgbEyMjJ07vNTtHTTXmu2w/u21uXt6nlg9kwRAQQQQAABBIIk8N+Za/T3rxZbSy5bMkZJQ3rI7N3JgQAC7hUgwHJvbSI5MwKsSGrSlxEgwOI6OEZg4fpduuiladbXypWK1exHe6lMSW7H51JBAAEEEEAAAXcJHE5L19nPTtbKbfutid3QuYH+3aeluybKbBBA4BgBAqxgXBAEWMGos5OrJMByUtsDYz365SK9P2utNdOrO5ygpy9t5YGZM0UEEEAAAQQQCKLAD4s26s73f7GWHhsdpfGD4tWwmvkxlwMBBNwoQIDlxqpEfk4EWJE3DXqPBFhBvwKyrf9gSpo6PDlee7O90efLu7rotPqVUUIAAQQQQAABBFwpYLY/uOTl6fp13S5rfhe0qq2XrmnryvkyKQQQkAiwgnEVEGAFo85OrpIAy0ltl4/1xS/rNeiTBdYsm9Qsp3H3dVdUFH/0uLx0TA8BBBBAAIFAC8xcuV1XvT7zGIOv7z5DrU+oFGgXFo+AWwUIsNxamcjOi98iI+tJb+yBxTWQTeCq12do5sod1lf+fv4puqXbiRghgAACCCCAAAKuF+g3Zo4mLt1izbPziVX1wa0d+SDO9ZVjgkEUIMAKRtUJsIJRZydXyR1YTmq7eKw12/crfliSNcMSMVGa9UhvVSlb0sWzZmoIIIAAAggggMBRgT827dU5z09WRkaWyJi/na6EpjUgQgABlwkQYLmsIEU0HQKsIoINcLcEWAEufvalDxu3VKMSV1hfOu/UWnr52nboIIAAAggggAACnhEY/OkCfTZvvTXfZrXKa+y93RQdza9RnikiEw2EAAFWIMos/uQNRp2dXCUBlpPaLh0rNS1dZzwzUZv3HLJmyCeWLi0W00IAAQQQQACBsAIbdh1Uj+FJSklNt9qMvKK1Lm1bDzUEEHCRAAGWi4pRhFMhwCpC3IB2TYAV0MJnX/bEpZvVb8xc60u1K8Zp6oM9FcOnlVwdCCCAAAIIIOAxgafH/q7XJq+0Zl23UmlNuD9ecSViPLYSpouAfwUIsPxb2+wrI8AKRp2dXCUBlpPaLh3r9vfmatxvm63Z3dPzJN1/VlOXzpZpIYAAAggggAAC4QV2HUhR96GJ2pOcajXixTRcMQi4S4AAy131KKrZEGAVlWxw+yXACm7tj6x8695D6vz0BKWmZ+14OnlID9WvWibgMiwfAQQQQAABBLwq8NqkFXr6h6XW9CuVKaFJQ3qoYukSXl0S80bAVwIEWL4qZ9jFEGAFo85OrpIAy0ltF471+uQVemps1g94XRqbV053cuFMmRICCCCAAAIIIGBPIPlw2pG9sDbuTrZOuCuhsR44p5m9DmiFAAJFKkCAVaS8rumcAMs1pfDNRAiwfFPK/C8kIyNDZz47Wcu37LNOfv6qNurTpm7+O+MMBBBAAAEEEEDARQKfzF2nBz5baM0orkS0kgb3UK2KcS6aJVNBIJgCBFjBqDsBVjDq7OQqCbCc1HbZWPPW7NRlr0y3ZlUhLlazH+3NJqcuqxPTQQABBBBAAIH8C6SlZ+jc5ydr2easD+qubH+Cnrm8Vf474wwEEIioAAFWRDld2xkBlmtL49mJEWB5tnSFn/iDny3Ux3PXWR3d0LmB/t2nZeE7pgcEEEAAAQQQQMAFAhN+36yb38l607J5wfIPA7qraa3yLpgdU0AguAIEWMGoPQFWMOrs5CoJsJzUdtFY+w+lqsOT47U/Jc2a1Xf3dFXLuhVdNEumggACCCCAAAIIFFzAbJdw5eszNXvVDquThKbVNeZvHQreKWcigEChBQiwCk3oiQ4IsDxRJk9NkgDLU+WK3GQ/mbNOD3yetS9E89oVNHZAt8gNQE8IIIAAAggggIALBBas26U+o6YdM5P3b+moM06q5oLZMQUEgilAgBWMuhNgBaPOTq6SAMtJbReNZfa+MntgZR7/uqiFbuzS0EUzZCoIIIAAAggggEBkBO75cL6+XfCX1VmLOhX0bf+uijbPFHIggIDjAgRYjpMXy4D8CVss7L4elADL1+XNfXHLt+xV75GTrW+WjI3WnEd6q2KZEgHUYMkIIIAAAggg4HeBdTsOqNeISUpJS7eWOvKK1rq0bT2/L531IeBKAQIsV5Yl4pMiwMqd1Lg0k2QeZs/8x7xepKSkQ5IK+q7c0ZJuDg25RpKd21MulnSHpNMkmc2EzEc9P0oaIWmFjSuipqT7JV0kqb6kA5J+kzQm9E+GjT7y04QAKz9aPmn71Njf9frkldZqLmpdRy9cbS5ZDgQQQAABBBBAwJ8CT3y3RKOnrrIWV6dinCYOTuDty/4sN6tyuQABlssLFKHpEWDlDmmCpay/jY5tU9AAy2wGNElSpnleAZZpZwKvfmFqbd7fe6Wksce5FtpL+l5SjTBtTBBmAjKzpkgdBFiRkvRIP4fT0tX56Qnati/FmjH7QHikeEwTAQQQQAABBAossOtAiroPTdSe5FSrjwfPaaY7ExoXuE9ORACBggkQYBXMzWtnEWDlHWCtlzRHktmV0YRQBQmwzJ1b8yU1DwVjjSTlFWA9IunJ0PQ+Cf37RkmdJD0vyfRhQqx2kpblsgwzX7Ojdm1J2yUNkDQhdBdXf0nmH3O8Iem2CF64BFgRxPRCV+N+26Tb35tnTfWEKqU1aXAP9oDwQvGYIwIIIIAAAggUSuCNySv15NjfrT7Kl4rVpAd6qEpZ8+M/BwIIOCVAgOWUdPGOQ4CVu395ST0lzZK0KdTkMUn/LGCA9XdJj0v6TNJ+STfmEWCZx/7M44EmDDJ3UF0oKfujfuYOscWh75s+++ayjOGhRwfNg/lnSJqZo81Lku6WZL7fRtKiCF2KBFgRgvRKNzePmaMJS7dY0x10ZhPd2+tkr0yfeSKAAAIIIIAAAgUWOJSadmQvrPU7D1p93NSloR67qEWB++REBBDIvwABVv7NvHgGAZb9qhU0wDopFA6Ze4vNvlrmrqq8AqwhkoaGpmbCpQW5THOkpIGhAMrcZZWVIEhm5+ytobutvpR0aS7nmzu0NoT29RqV7Y4s+yK5tyTAKqygh87fvCf5yOOD6aF4NSpKmvZgT9WpVNpDq2CqCCCAAAIIIIBAwQW+/nWDBnz0q9VBbHSUxg+KV8Nq5sdiDgQQcEKAAMsJ5eIfgwDLfg0KGmD9JOlMSSaUMndFmc3T8wqwzOvczOOKf0pqEmaKXSRNC33PbAz/VrZ25u4x87igOa6V9EGYPjLnti60wbt9jfAtCbAioeiRPkYlLtewcX9Ys+3epLre7Wfee8CBAAIIIIAAAggEQyA9PUMXvzxNC9fvthZ83qm19PK1ZqcPDgQQcEKAAMsJ5eIfgwDLfg0KEmCZ8Oi/ocf9zCvZzF1YdgKsvZLKhc69PswUS4UeR4yRlPMOqsGShoXOM3eAhXtboXms0TzeaI7qkrbZ5wjbkgArAohe6CIjI0M9hidp9XbzYsujx6hr2ur8VuaGQA4EEEAAAQQQQCA4AjNXbtdVrx+7Y8fnd3ZRuwaVg4PAShEoRgECrGLEd3BoAiz72PkNsMzfVktDwVC8pCmhofIKsOpKMhvHm+PfoX23ws1yraQTJI0P3eWV2c5szH5L6PFCE3RlvRrl2J7MGw7fDH2pa7Y7uuyr/G9LAqzC6Hno3Jw/qFUuU0IzH+mlUrEmU+VAAAEEEEAAAQSCJXDLO3M0/vesXT3aN6isT+/orCizxwIHAggUqQABVpHyuqZz/jS1X4r8BliZIdI7km7KNkxeAVZrSZkP0d8jyWy2Hu4wr35rG3rDofnfzMPse3Vx6O2DZq+rcIfZHP6b0Df7ZPv3vFSO90B/mcz9uPbt26eyZXn2Py9Mr35/0Me/6ov5Zhu1o0e/MxrpHxeaF21yIIAAAggggAACwRNYvmWvzn5uitIyNweV9Op17XROy1rBw2DFCDgsQIDlMHgxDUeAZR8+PwGWuZvJ7GNlHoRvmmOD9bwCrOx7W90qafRxpjg19IbBnHtlZe5tZdKFesc5v7ekn0PfP95eWTm7yP5GxLDdE2DZv7i81nJP8mF1eHK8kg+bl1gePcbd111Na5kXeHIggAACCCCAAALBFHjky0X6YJZ5SOLo0ahaWf00sLtKxEQHE4RVI+CQAAGWQ9DFPAwBlv0C2A2wzBsA50sy7869S9IrOYYgwLJvTkuXCnw0e60e+mKRNbvWJ1TS13ef4dLZMi0EEEAAAQQQQMAZgS17k5UwLEkHUtKsAf/dp4Vu6NzQmQkwCgIBFSDACkbhCbDs19lugPWIpCclzZHUKbQPVfZR8gqweITQfk1oWUwCfV+drjmrd1qjP3FxS13XqUExzYZhEUAAAQQQQAAB9wg8P/5PPTt+mTWhqmVLKmlIgsrHmc+5ORBAoCgECLCKQtV9fRJg2a+JnQDLPOC+UpLZOL2jpLm5dJ9XgJWfTdzXhR4RDLeJu/noJ+44m7jfnO0RRTZxt38tBLrlmu37FT8syTIoGRutOY/0VsUy/FAW6AuDxSOAAAIIIIDAEYEDKalH7sLasveQJXJ3j8YacnYzhBBAoIgECLCKCNZl3RJg2S+InQCrTejxQfu9Hm2ZfaN3U5M9kspJek/SDWE6MyHZfknmlW+jJPXP1m6wpGGh/24cCtVy6+YJSY+GvlFd0rb8TjyX9ryFMAKIbu5i5M/L9MIEs+3a0eP8U2tr1LXZ3yHg5tkzNwQQQAABBBBAoOgFcm63UCo2+shdWLUrli76wRkBgQAKEGAFo+gEWPbr7FSAZWZkNoDvJsnce2w2gc/tyL7Zu7mT6q1sjXpKmhD672skfRimj8zN3s2dXPXtUxy3JQFWhCDd2E16eoa6DU3Uhl0Hrem9dVN79WxW043TZU4IIIAAAggggECxCJg3EZ77/GQt27zPGv/ydvU0vK/ZLYQDAQQiLUCAFWlRd/ZHgGW/LnYCLPORSrjAKXOkf0u6UNJGSeeFvrhDUtbrSqQhkoaGvtdKUtZu2VnzHSlpYGiPrdo53nRonuXaKqmipC8kXZbLMqtJMm8pLJnLHVz2Vf63JQFWYfRcfu6MFdt19RszrVlWK1dKMx/uqVjerOPyyjE9BBBAAAEEEHBaIHHpFv1tjNkW9+gRFSV9f083Na9TwempMB4CvhcgwPJ9iY/+ORqMZUZklXYCLDsD5bUHlunD3M5i9tIqI+lbSRfl6Ni8xmSxJBMWfSapby4DD5d0vySzD5a5W2t2jjYvSbpbUoYk81FQbiGZnfXkbEOAVRA1j5wz+NMF+mzeemu2t3RtpL9f0Nwjs2eaCCCAAAIIIICAcwIZGRm6dvQsTV+x3Rq028nV9N7NZqtcDgQQiKQAAVYkNd3bFwFW+NqY38qzfzxyiyTzqF6KpPgcp82XlLVL4/HrbSfAMj1kvs3Q/PvHoTcbbgptDv+CpEaSzD3J7UKPGuYc1dxhtVCSuTvL7G01IPRYoVnTPaF/zDlvSLotgpcoAVYEMd3UldmQ9PQnxmt/ttdC/zCgm06pzaeIbqoTc0EAAQQQQAAB9wgs3rBbF7w49ZgJvduvg7o3MdvPciCAQKQECLAiJenufgiwwtfHvGYtZ1AVrrUJk1bbLLXdAMvUZrSkfmH6NeHVlZLGHmfc9pK+l1QjTJsfJV2cj/DNzhIJsOwoebDNF7+s16BPFlgzb1Gngr6/12zVxoEAAggggAACCCAQTmDgx7/qy/lm546jR7Na5Y/8DBUTza9iXDUIREqAACtSku7uhz81w9enuAOszJldIul2SeY1b+ZWl78kjZNkHhFcYePyMo8jmrcSmscQT5Bkdt/+TdLbkkyYZh4hjORBgBVJTRf1de3omZq2POsW+H9c0Fz9uprslgMBBBBAAAEEEEAgnMD6nQfUc8QkpaSmW02GXtZKV5xufjTnQACBSAgQYEVC0f19EGC5v0ZemyEBltcqZmO+5q2DXZ+ZqIxQ3BkbHaVZj/RS1XKlbJxNEwQQQAABBBBAINgCT//wu16bZLa4PXpUL19KSYMTVLZUbLBhWD0CERIgwIoQpMu7IcByeYE8OD0CLA8WLa8pvzTxTw3/aZnVrPcpNTX6RvOEKgcCCCCAAAIIIIBAXgJ7kg8rYViSduw32+kePe7tdbIGndkkr1P5PgII2BAgwLKB5IMmBFg+KKLLlkCA5bKCFHY65g065rb3Vdv2W129el1bndPSvB+AAwEEEEAAAQQQQMCOwHszVuv/vjY7eRw94kpEK3FwgmpXLG3ndNoggMBxBAiwgnF5EGAFo85OrpIAy0ltB8aat2anLntlujVS5TIlNOuR3ioZG+3A6AyBAAIIIIAAAgj4QyA1LV1nPzdZK7ZmfSh4Wdt6GnFFa38skFUgUIwCBFjFiO/g0ARYDmIHZCgCLJ8V+pEvF+mDWWutVd3YuYH+1aelz1bJchBAAAEEEEAAgaIXmLh0s/qNmXvMQN/276pT61Us+sEZAQEfCxBg+bi42ZZGgBWMOju5SgIsJ7WLeKzkw2nq8OR47UlOtUb6pv8ZalWvUhGPTPcIIIAAAggggID/BMzWDNe/OVtTl2+zFtexURV9dFsnRUXxq5n/Ks6KnBIgwHJKunjH4U/J4vX34+gEWD6q6ncL/1L/D+ZbKzq5Rjn9NLA7P2D5qMYsBQEEEEAAAQScFVjy1x6d/+IU6+3OZvTXr2+ns1rUcnYijIaAjwQIsHxUzOMshQArGHV2cpUEWE5qF/FYN709W0l/bLVGeejcZrojvnERj0r3CCCAAAIIIICAvwUe/GyhPp67zlpko2plNe6+7uwx6u+ys7oiFCDAKkJcF3VNgOWiYvhkKgRYPinklj3J6vT0BKVnHF1QdJQ04+FeqlkhzicrZBkIIIAAAggggEDxCJifsxKGJ+lASpo1gX9c0Fz9ujYqngkxKgIeFyDA8ngBbU6fAMsmFM1sCxBg2aZyd8PXJ6/QU2OXWpOMb1Jd7/Tr4O5JMzsEEEAAAQQQQMAjAi9M+FMjf15mzbZi6RKaNCRBlcqU9MgKmCYC7hEgwHJPLYpyJgRYRakbzL4JsHxQd7PB6DnPTdEfm/daq3nh6tN0Ues6PlgdS0AAAQQQQAABBIpf4GBKmnoMT9KmPcnWZG7u2kj/d0Hz4p8cM0DAYwIEWB4rWAGnS4BVQDhOCytAgOWDi2Pxht264MWp1krKx8VqzqO9FVcixgerYwkIIIAAAggggIA7BD6ft173f7rAmkyJmCj9PDBeDauZH6k5EEDArgABll0pb7cjwPJ2/dw4ewIsN1Yln3N67JvfNGb6auusqzucoKcvbZXPXmiOAAIIIIAAAgggcDyB9PQMXTRqqhZv2GM1O6dFLb16fTvgEEAgHwIEWPnA8nBTAiwPF8+lUyfAcmlh7E4rJTVdHZ8ar50HDlunfHZHZ7VvWMVuF7RDAAEEEEAAAQQQsCkwc+V2XfX6zGNaf3xbJ3U8sarNHmiGAAIEWMG4BgiwglFnJ1dJgOWkdhGMNe63Tbr9vXlWzw2rllHi4ARFRfHHRRFw0yUCCCCAAAIIIKDb3p2rn5ZstiRa1auor+46Q9HmNdAcCCCQpwABVp5EvmjAn4i+KKOrFkGA5apy5H8yOX+AGnRmE93b6+T8d8QZCCCAAAIIIIAAArYEVm3brzNHTlJqeobV/tkrW+uS0+rZOp9GCARdgAArGFcAAVYw6uzkKgmwnNSO8Fg79qcceXzwcFrWD09TH+yhepXLRHgkukMAAQQQQAABBBDILvDvb5forWmrrC/VrhinifcnqHRJXqLDlYJAXgIEWHkJ+eP7BFj+qKObVkGA5aZq5HMuY6at0mPfLrHO6nxiVX14W6d89kJzBBBAAAEEEEAAgfwK7DqQovhhSdp9MGsf0sFnNVH/ntwJn19L2gdPgAArGDUnwApGnZ1cJQGWk9oRHuvCF6dq0YbdVq/D+7bW5e24dT3CzHSHAAIIIIAAAgjkKvDm1FV6/LusDxPLlIxR0pAE1SgfhxgCCBxHgAArGJcHAVYw6uzkKgmwnNSO4Fh/bNqrs5+bbPVofmCa82hvlS0VG8FR6AoBBBBAAAEEEEAgnIB5G/RZz07S6u0HrCZXd/h/9u4Duooyf+P4kwKhg0gRKYqgIFKkNylSdO1YWXtXVkTF9re7rqhrAwuWtaFiWVwL2BWQLl2aIIKCVOnSW0jyP69MJjcxN7lJ5s6d8p1zPOuSmbd8fq8kee7MO3X12DnNQUMAAQKs0K8BAqzQLwHHAQiwHCd1p8FHv/xJr0xcZnd2TqvaGnzB8e50Ti8IIIAAAggggAACfwp8/eM69Xsn543Q5kWEX97cRY0Pq4QQAghEEeAOrHAsDQKscNTZzVkSYLmp7VBfBzIy1fHf32njjn12i+9d016dGlZzqAeaQQABBBBAAAEEEIhFICsrS31fmaYZy7fYp3c5uprevqqdkpL49S0WQ84JnwABVjhqzt+A4aizm7MkwHJT26G+xv28QVcOm2m3VrtKWU2680Qlm4/8OBBAAAEEEEAAAQRcFZi/eqvOHDolV5/DrmirExvXcHUcdIaAXwQIsPxSqZKNk99OS+bH1X8VIMDy4aq48b0f9Pn83+2RD+jRULed1MiHM2HICCCAAAIIIIBAMARuHTFXH89ZY0/mqOrl9fXNXVU6NTkYE2QWCDgoQIDlIKaHmyLA8nBxfDo0AiyfFc68qrntI2NkNg3NPsbd3l31q5lSciCAAAIIIIAAAggkQmDt1j3q8fR47U3P+Rnt3lOP1bVdj0rEcOgTAU8LEGB5ujyODY4AyzFKGrIECLB8thTem75S93yywB516yMO0Uf/6OSzWTBcBBBAAAEEEEAgeALPjlmqIWOW2BOrmJaq727vruoV04I3WWaEQAkECLBKgOejSwmwfFQsnwyVAMsnhcoe5nkvfa9ZK/6wR/3o2c10Uft6PpsFw0UAAQQQQAABBIInsDc9Qz2fnqA1W/fYk7ugTR09cV6L4E2WGSFQAgECrBLg+ehSAiwfFcsnQyXA8kmhzDBXbN6lbk+Ot0ds9lSYeW8vVS5bykezYKgIIIAAAggggEBwBb5a8Lv+8e4PuSY4qn9ntahbJbiTZmYIFFGAAKuIYD49nQDLp4Xz8LAJsDxcnLxDGzJ6iZ4du9T+49Oa19ILF7Xy0QwYKgIIIIAAAgggEGyBrKwsXfTqdE1dttmeaMt6VfRRv068MTrYpWd2RRAgwCoClo9PJcDycfE8OnQCLI8WJu+wzA9DXZ8cp1Vbcm5Jf+OKNurRuKZPZsAwEUAAAQQQQACBcAgsXrddpz47SZlZOfMdfEELndOqTjgAmCUChQgQYIVjiRBghaPObs6SAMtN7RL0NfO3LTr/5al2C9UqlNbUu3uqVAqvZi4BK5cigAACCCCAAAJxEXhg1I96e+oKu22zkbt5c3SFtNS49EejCPhJgADLT9Uq/lgJsIpvx5X5CxBg+WRl3P3xfL0/Y5U92qs619cDZzTxyegZJgIIIIAAAgggEC6Brbv3q/tT47V1d7o98X7dGuiuUxqHC4LZIpCPAAFWOJYFAVY46uzmLAmw3NQuZl/mjTZtHxmjHXsP2C18PuAENa1duZgtchkCCCCAAAIIIIBAvAWGT1uh+0f+aHdTOiVZ3wzsqvrVzI/gHAiEV4AAKxy1J8AKR53dnCUBlpvaxezr8/lrdeN7c+yrG9WsqK9v6aKkJP5KKCYplyGAAAIIIIAAAnEXyMjM0mnPTdLidTvsvno2rqHXr2gb977pAAEvCxBgebk6zo2N31ads6SlgwIEWD5YCVe9OVPfLd5gj/TuUxrr+m4NfDByhogAAggggAACCIRbYNqyzfr7K9NyIbx5ZVt1b1Qj3DDMPtQCBFjhKD8BVjjq7OYsCbDc1C5GXxt37FOHx8bKfIJnjuQk/bl5e81KZYrRGpcggAACCCCAAAIIuC3Q/70f9MX83+1uj6peXl/f3FWlU3kZj9u1oD9vCBBgeaMO8R4FAVa8hcPXPgGWx2v++uTlevjzRfYouxxdTcOvbu/xUTM8BBBAAAEEEEAAgWyBNVv3qOfT47U3PdNGuffUY3Vt16NAQiCUAgRY4Sg7AVY46uzmLAmw3NQuRl9m34SFa7fbVz7T93j1aVm7GC1xCQIIIIAAAggggECiBJ4Zs0TPjFlqd18xLVXf3d5d1SumJWpI9ItAwgQIsBJG72rHBFiucoeiMwIsD5d58brt+tszk+wRli+dopn39VK50qkeHjVDQwABBBBAAAEEEMgrYN4q3fPpCTJ3Y2UfF7SpoyfOawEWAqETIMAKR8kJsMJRZzdnSYDlpnYR+3rsy5/0n4nL7KvOa11HT53PDzlFZOR0BBBAAAEEEEDAEwJfLvhdN7z7gz0W80LpkTd0Vou6VTwxPgaBgFsCBFhuSSe2HwKsxPoHsXcCLI9W1Wza3vGxsdqwY589wveuba9ODap5dMQMCwEEEEAAAQQQQKAggaysLF346jRNW7bFPq1lvSr6qF8nJZs39XAgEBIBAqxwFJq/1cJRZzdnSYDlpnYR+pq4ZKMue2OGfcXhlcto8v/14IebIhhyKgIIIIAAAggg4DWBn37fLrPHqfWC6T+HN/iCFjqnVR2vDZXxIBA3AQKsuNF6qmECLE+VIxCDIcDyaBlv+e8cjZy71h5d/xMb6I6TG3t0tAwLAQQQQAABBBBAIFaBB0b9qLenrrBPr1Ex7c8N3Suksc9prIac528BAix/1y/W0RNgxSrFebEKEGDFKuXieTv3HVCbQaNzvWp5zK3d1LBGBRdHQVcIIIAAAggggAAC8RDYunu/uj81Xlt3p9vN9+vWQHedwoeV8fCmTe8JEGB5rybxGBEBVjxUw90mAZYH6/+/Wat0x4fz7ZGZjT1H9e/swZEyJAQQQAABBBBAAIHiCAyf+pvuH7XQvrR0SrJ69gXTAAAgAElEQVS+HdhVR1YzP55zIBBsAQKsYNc3e3YEWOGos5uzJMByUzvGvi58ZZqmLttsn/2vs47TZR2PjPFqTkMAAQQQQAABBBDwusCBjEyd/vxkLV63wx5qz8Y19PoVbb0+dMaHQIkFCLBKTOiLBgiwfFEmXw2SAMtj5Vr9x26d8Pg4e1SlUpI0/Z5eqlq+tMdGynAQQAABBBBAAAEESiIw9dfNf76VMPJ444o26tG4Zkma5VoEPC9AgOX5EjkyQAIsRxhpJEKAAMtjy+GFcb/oyW9+tkfVu0lNvXpZG4+NkuEggAACCCCAAAIIOCHQ/90f9MWC3+2mjji0nL65pavKlEpxonnaQMCTAgRYniyL44MiwHKcNPQNEmB5aAlkZWWp5+AJWrZxlz2qly9ppb81reWhUTIUBBBAAAEEEEAAAacE1mzdo15PT9Ce9Ay7yTtObqT+JzZ0qgvaQcBzAgRYnitJXAZEgBUX1lA3SoDlofLPXbVVfV6YYo+octlSmnFvT6Wl8gmch8rEUBBAAAEEEEAAAUcF8t6BX6ZUssbe1l21q5R1tB8aQ8ArAgRYXqlEfMdBgBVf3zC2ToDloao/MOpHvT11hT2iSzrU06A+zTw0QoaCAAIIIIAAAggg4LTAvgMZOnnIRP22ebfd9KnNDtOLF7d2uivaQ8ATAgRYnihD3AdBgBV34tB1QIDlkZLvP5Cp9o+O0R+70+0RfXxDJ7Wqd4hHRsgwEEAAAQQQQAABBOIlMO7nDbpy2Mxczb9zdXudcHS1eHVJuwgkTIAAK2H0rnZMgOUqdyg6I8DySJm/XbhO1w2fbY+mfrXy+u62bkpK4j97j5SIYSCAAAIIIIAAAnEVuOatWRrz03q7jwbVy+urm7uqdGpyXPulcQTcFiDAcls8Mf3xm2xi3IPcKwGWR6rbb/hsfb1wnT2a23ofowE9j/bI6BgGAggggAACCCCAQLwFVm7erV5DJsjcmZ993HNqY13XtUG8u6Z9BFwVIMBylTthnRFgJYw+sB0TYHmgtFt371fbR8YoPSPLHs2kO09U3arlPDA6hoAAAggggAACCCDglsCQ0Uv07NildnflS6fou9u7q2alMm4NgX4QiLsAAVbciT3RAQGWJ8oQqEEQYHmgnMOnrdD9I3+0R9K+flWNuL6jB0bGEBBAAAEEEEAAAQTcFNibnqFegydo9R977G77HH+4nvl7SzeHQV8IxFWAACuuvJ5pnADLM6UIzEAIsDxQyrNfnKI5K7faI3ni3Oa6oG1dD4yMISCAAAIIIIAAAgi4LfDNwnW6PmJvVNP/iOs6qP1Rh7o9FPpDIC4CBFhxYfVcowRYniuJ7wdEgJXgEi7buFM9np5gjyItNVmz7uulimVKJXhkdI8AAggggAACCCCQCIGsrCxdPmymJi7ZaHff+LCK+nzACUpNYUP3RNSEPp0VIMBy1tOrrRFgebUy/h0XAVaCa/f0tz/r+e9+sUdxZovD9dyF3CKe4LLQPQIIIIAAAgggkFAB8yHnyc9MzLVH6j/PaKIrOtdP6LjoHAEnBAiwnFD0fhsEWN6vkd9GSICVwIplZmapyxPjtGZrzh4Hb17ZVt0b1UjgqOgaAQQQQAABBBBAwAsCj3+9WC+N/9UeSsUyqRp3e3dVq5DmheExBgSKLUCAVWw6X11IgOWrcvlisARYCSzTtGWb9fdXptkjqF4xTVPv6sGt4QmsCV0jgAACCCCAAAJeEdi174B6Pj1B67bvtYd0QZs6euK8Fl4ZIuNAoFgCBFjFYvPdRQRYviuZ5wdMgJXAEt354Tx9MGu1PYJru9TXvac1SeCI6BoBBBBAAAEEEEDASwKfzVurAe/PyTWkj2/opFb1DvHSMBkLAkUSIMAqEpdvTybA8m3pPDtwAqwElca8IrnNoDHaue+APYKvbu6iY2tVStCI6BYBBBBAAAEEEEDAawJmQ/eLXp2uqcs220NrVruyRvbvrJRkfj30Wr0YT2wCBFixOfn9LP6G8nsFvTd+AqwE1eTz+Wt143s5n6aZN8t8fUvXBI2GbhFAAAEEEEAAAQS8KrBk/Q6d8uwkZWRm2UN89Oxmuqh9Pa8OmXEhUKAAAVY4FggBVjjq7OYsCbDc1I7o65q3ZmrMTxvsP7nn1Ma6rmuDBI2GbhFAAAEEEEAAAQS8LPDw54v0+uTl9hCrlCulcbd11yHlS3t52IwNgXwFCLDCsTAIsMJRZzdnSYDlprbV15Zd+9XukTE6YH2KlpQkTb2rpw6rXCYBo6FLBBBAAAEEEEAAAa8LbN+brh5PTdCmnfvsoV7SoZ4G9Wnm9aEzPgT+IkCAFY5FQYAVjjq7OUsCLDe1rb6GT/1N949aaPfcqcGheu/aDgkYCV0igAACCCCAAAII+EXg4x9W69YP5tnDNR+CfnbjCWpau7JfpsA4EfhTgAArHAuBACscdXZzlgRYbmpbfZ370veaveIPu+cnzmuuC9rUTcBI6BIBBBBAAAEEEEDALwJmQ/fzX56qWRE/R7aqV0Uf9uukZDZ090sZGScBVmjWAAFWaErt2kQJsFyjPtjRys271fXJcXavpVOTNeu+XqpUppTLI6E7BBBAAAEEEEAAAb8JLFy7TWc8P1kR+7nriXOb64K2fBjqt1qGebzcgRWO6hNghaPObs6SAMtNbUnPjV2qwaOX2L2e1qyWXri4lcujoDsEEEAAAQQQQAABvwo8MOpHvT11hT38Q8qV0tjbuqsqG7r7taShGzcBVjhKToCVf52NS2NJ7SL+aS7JvJLD7HJY2M7Y5tozJXWX1FRSTUkHJK2SNFHSi5LmxrjE+kjqJ6mlJPMw+lpJX0t6WtKvMbRh+r7NGo95L+5uSWazpDetf3LenRtDYzGcQoAVA5JTp5jbvnsOnqBlG3fZTb56WRv1bmLKzoEAAggggAACCCCAQOEC23anq8fT47V513775PNb19GT57co/GLOQMADAgRYHiiCC0MgwMof+UhJOe+UzX1OYQGWCYueKqR2mZIelvTPAs4ztXlN0lVRztkpqa+kLwtoo42kLyTViHKOCcJMQJbz6pGSLzoCrJIbxtzC/NVbdebQKfb55vXHM+7pJfMYIQcCCCCAAAIIIIAAArEKfDJntQaOyNnQ3Vw34roOan/UobE2wXkIJEyAACth9K52TIBVeIC1WtJMSdUkdYnhDiwTSj0o6WdJb0saa4VhKZK6SRokqYHV7QBJQ6NU/B5Jj1hf+8D6998lmVfLPSupviQTYrWWlPP8WE5jZrzzJdWStFnSzdZYzF1cN1r/mLNflXSdg6uOAMtBzMKaeuizhRo25Tf7tIvb19MjZ/Pq48Lc+DoCCCCAAAIIIIBAbgFzZ//Fr03X97+aXx0OHg1rVNCXN3Xhw1EWi+cFCLA8XyJHBkiAlT9jRUk9JE2XtM46JTuYKuwOrIutYGlUlAqZYOkHSWZXxK2SDsvnDijz/Jd5PNCEQeYOqjMkRT7qZ+4Q+9H6+oeSzs+nL3MXmLkbzNzt1VnStDznmOCsv/X14yUtcGRFHRyzCda0c+dOlS9v/i9HPAQOZGSqw2NjtWlnzq3eH/brqDZHVo1Hd7SJAAIIIIAAAgggEHCBXzfu1CnPTNL+DPMrxMHjjpMbqf+JDQM+c6bndwECLL9XMLbxE2DF5mTOijXAiqXFgZIGWyeafbIm5LnoDklPWH9mwqXc9/Ie/IK53rRjvruYu6w2RLRhXj+30doz6xNJ5+QzKBOkrbH29Xoh4o6sWMZf0DkEWCUVjPH6CUs26vI3Zthn1zmkrCbdeaKSkvjPOkZCTkMAAQQQQAABBBDIIzBk9BI9O3ap/adpqcn6dmBXHXEoH0yzWLwrQIDl3do4OTJ+041d08kA62RrI3bT+0WS3s8zDLPRu3lc0XznOCbKEDtJyt786GpJb0ScZ+4eM48umsPcEfZelDa+ldTb2lzebPDuxEGA5YRiDG0MHDFXn8wxGeTBY0CPhrrtpEYxXMkpCCCAAAIIIIAAAgjkL7A3PUOnPDtJyzflvCSo2zHV9eaVbfmglEXjWQECLM+WxtGBEWDFzulkgHWZpLesrk+3HhOMHMkOSRUkvSPp0ihDTJNkvquYvbXy3kF1u6QnrevM/b7R3lZoNpK/zzqvuqRNsXNEPZMAywHEwprYte+A2gwaoz3pGfapY27t9uc+BRwIIIAAAggggAACCJREYPLSTbrkdbObSs4x9KKWOr354SVplmsRiJsAAVbcaD3VMAFW7OVwMsAy+2OdaT3+Z/bAMo/7ZR+1JZmN483xL2tD+GijXGntpTXGupMq+zyzMfs1Vvsm6DoQpQHzhsPXra+dEHFHV+wqfz2TAKskejFeO3LOGt0yYq59drPalfXZAFNCDgQQQAABBBBAAAEESi5wy3/naOTctXZD1Sumaext3VSpjNmthAMBbwkQYHmrHvEaDQFW7LJOBVjm0UDziKA58tuAvYWk7GSioLcUmutnS2olaY71v9mzMfte9bHePmj2uop2mM3hP7W+eFbEvxemUtAD8OWy9+NiE/fCGIv/9SuGzdD4n3Nyz/tPb6KrTzAvpuRAAAEEEEAAAQQQQKDkAht37FPPp8dr+96cz8Iv73iEHjqrackbpwUEHBYgwHIY1KPNEWDFXhgnAqxDrTcQmv2mzJv6TFi1LM8QIve2ulbSawUMcbL1hsG8e2Vl721lNkiqU8D1vSSNtr5e0F5ZeZuIfCNi1OYJsGJfXEU50/wwYd4+mJF5sAzJSdK0e3qqRsUyRWmGcxFAAAEEEEAAAQQQKFDg3ekrdO8n5uXnBw/zrqCRN3RWi7pVkEPAUwIEWJ4qR9wGQ4AVO21JAyxzr+3XkswG6+Ywe1uZPa7yHgRYsdcklGcOm7JcD322yJ57l6OrafjV7UNpwaQRQAABBBBAAAEE4ieQmZmlc1/+XnNWbrU7Oe7wShrVv7NSU5Lj1zEtI1BEAQKsIoL59HQCrNgLV5IAyzgPt94IaHp8SJJpL7+DRwhjr0kozzxr6GTNW73NnvvgC1ronFYF3WgXSiYmjQACCCCAAAIIIOCAwE+/b9fpz0+27/43TT5wehNdxfYVDujShFMCBFhOSXq7HQKs2OtTkgDrGUk3W109L+mmArotyibuq6xHBKNt4m5eUWeeK4u2ifvVEY8osol77GshYWcu27hTPZ6eYPdftlSKZt3XS+XTUhM2JjpGAAEEEEAAAQQQCLbAo1/+pFcm5ux8Ur50isbc1k21KpcN9sSZnW8ECLB8U6oSDZQAK3a+4gZYD0bcbWXuwrpcUkF7SJmabJdUwbpr67IoQzRvF9wlKUXSC5JujDjvdklPWv+/QT77bGWfOkjSvdb/qS5pU+wcUc/kLYQOIEZrYvDoJXpurNny7OBxZovD9dyFLePYI00jgAACCCCAAAIIhF1g174D6j14gtZu22tTnNL0ML10Seuw0zB/jwgQYHmkEHEeBgFW7MDFCbDMnVbPWl2MknReAXdDRY7EvKXQvK1wiaRGUYYYuVeWuZPqjYjzzD5bY63/f5Gk96O0kb3Zu7mTy2ws78RBgOWEYj5tZGVlqduT47Vyy277q8OuaKsTG9eIU480iwACCCCAAAIIIIDAQYHRi9br2rdn5eJ444o26tG4JkQIJFyAACvhJXBlAARYsTMXNcAyd069aV7WYYVJp0naF2N3d0h6wjq3uaQF+Vw3WNJASZmSaknaEHGO2TB+o6TKkj6WdG4+11eTZN5SWDqfO7hiHGa+pxFglUSvgGt/WPmHznnxe/uMQ8uX/vPtg6XYQDNO4jSLAAIIIIAAAgggEClw3duz9O2i9fYf1a5SVmNu7aaypc1DIRwIJE6AACtx9m72TIAVu3ZRAqwzJX0kyWxMNF1SL0k7Y+9K5mMM85B5OUmfmSfF8lx7pCTzPlsTFn0o6fx82n5K0m2SzD5Y5m6tGXnOGSqpv/U4o9k4Pr+QrAhDtk8lwCqOWgzXPDDqR709dYV95uUdj9BDZzWN4UpOQQABBBBAAAEEEECg5AJrt+5Rr8ETtHu/+RXj4NGvWwPddUrjkjdOCwiUQIAAqwR4PrqUACt6sZpIqhTx5WskmUf19kvqlueyORF3V5lH/8yjeWbzdPMIoAmv/ihgTZgHyfPbZP0eSY9Y142w/n2dpPaSnpNU3wrFzIPnpp+8h7nDar51d5bZ28psIm8eKzRzGmD9Y655VdJ1Dq5ZAiwHMbObSs/IVLtHxuiP3el265/c0Ekt6x0Sh95oEgEEEEAAAQQQQACB/AVem7RMg774yf5ianKSvripixodVhEyBBImQICVMHpXOybAis49Pp+gKtrZJkz6zfqieWzQbNQe63Gl9ahh3vNNbV6TdFWUhswdXX0lfVlAR20kfSEp2iZJX0vqU4RHG2OZEwFWLEpFPGfsT+t19Vs5ew4ceWg5jbu9u5KS+E+4iJScjgACCCCAAAIIIFACgQMZmTpj6BT99Lt579TBo80Rh+iD6zsqOZmfTUtAy6UlECDAKgGejy7lb5joxUp0gJU9srMlXS+plXX31FpJ30gyjwj+GsNaM48jmrcSmscQ60raI2mhpGFWcFbQGxFjaP4vpxBgFUetkGsGvD9Hn80zpT943NLraN3S65g49ESTCCCAAAIIIIAAAggULDDH7M360vfKivhN4t/nNNPf2zn1XigqgEDRBAiwiubl17MJsPxaOe+OmwDL4drs2JuuNoPGaN8Bs1//wWP87d11ZDVDzYEAAggggAACCCCAgPsC941coHemrbQ7rlgmVaMHdtNhlc1OKhwIuCtAgOWud6J6I8BKlHxw+yXAcri2H85erdv/N89u9fi6VTSyf2eHe6E5BBBAAAEEEEAAAQRiF9i2J109n56gTTtzXrTes3ENvXZ5G7a5iJ2RMx0SIMByCNLjzRBgebxAPhweAZbDRbvktema/IvZh//g8dCZx+nyTuZFlBwIIIAAAggggAACCCRO4KsFv+sf7/6QawBD+rbQ2S3rJG5Q9BxKAQKscJSdACscdXZzlgRYDmqv375XHR8bq0xrf4GU5CRNv6enqlVIc7AXmkIAAQQQQAABBBBAoHgC/d/9QV8s+N2+uHLZUhp9a1fVqMijhMUT5ariCBBgFUfNf9cQYPmvZl4fMQGWgxXK+5riExtV17Ar2znYA00hgAACCCCAAAIIIFB8AfMI4UlDJmrLrv12IycfV1MvX9KaRwmLz8qVRRQgwCoimE9PJ8DyaeE8PGwCLAeLc9pzk7Rwbc4rip/9+/E66/jaDvZAUwgggAACCCCAAAIIlEzg03lrddP7c3I18vyFLXVGi8NL1jBXIxCjAAFWjFA+P40Ay+cF9ODwCbAcKsrS9TvUe8hEu7XypVM0677eKls6xaEeaAYBBBBAAAEEEEAAgZILZGVl6frhs/XtovV2Y1XLl9bogV11KFtflByYFgoVIMAqlCgQJxBgBaKMnpoEAZZD5Xjym8V6YdyvdmvntKytwX2Pd6h1mkEAAQQQQAABBBBAwDmBDTv2qvfgiTJvJ8w+TmteSy9c1Mq5TmgJgSgCBFjhWBoEWOGos5uzJMByQDszM0tdnhinNVv32K29fVU7dT2mugOt0wQCCCCAAAIIIIAAAs4LfDJntQaOmJer4ZcubqVTmtVyvjNaRCBCgAArHMuBACscdXZzlgRYDmjPWL5FF/xnqt1S9YppmnpXD6WmJDvQOk0ggAACCCCAAAIIIOC8gHmU8Jq3Zmns4g1249UqlNa3A7vJPFLIgUC8BAiw4iXrrXYJsLxVjyCMhgDLgSre+8kCvTt9pd3SVZ3r64EzmjjQMk0ggAACCCCAAAIIIBA/gXXb9qr3kAnasfeA3clZxx+uZ//eMn6d0nLoBQiwwrEECLDCUWc3Z0mAVULt9IxMtXtkjP7YnbN/wKj+ndWibpUStszlCCCAAAIIIIAAAgjEX+CDWat054fzc3X06mVt1LtJzfh3Tg+hFCDACkfZCbDCUWc3Z0mAVULtcYs36Mo3Z9qt1K9WXt/d1k1JSfznWkJaLkcAAQQQQAABBBBwQcA8Snj5sJmauGSj3VuNimkaPbCbKpcr5cII6CJsAgRY4ag4vxGHo85uzpIAq4TaA0fM1Sdz1tit3NTzaN3a+5gStsrlCCCAAAIIIIAAAgi4J7B26x6dNGSidu7LeZTw3FZ19PQFLdwbBD2FRoAAKxylJsAKR53dnCUBVgm09+zPUOtBo7V7f4bdyphbu6lhjQolaJVLEUAAAQQQQAABBBBwX+C96St1zycLcnU87Mq2OrFRDfcHQ4+BFiDACnR57ckRYIWjzm7OkgCrBNqfzVurAe/PsVs47vBK+uKmLiVokUsRQAABBBBAAAEEEEiMgHmU8NLXZ2jyL5vsARxWqYy+vbWrKpXhUcLEVCWYvRJgBbOueWdFgBWOOrs5SwKsEmhf+/YsjV603m7hnlMb67quDUrQIpcigAACCCCAAAIIIJA4gVVbduvkZybmesKgb5u6evy85okbFD0HToAAK3AlzXdCBFjhqLObsyTAKqb2tt3pavPIaKVnZNktfH9XDx1epWwxW+QyBBBAAAEEEEAAAQQSLzB86m+6f9TCXAN5+6p26npM9cQPjhEEQoAAKxBlLHQSBFiFEnFCEQUIsIoIln36iJkr9X8f5ewR0K5+VX1wfcditsZlCCCAAAIIIIAAAgh4QyAzM0sXvTZN05ZtsQdUu0pZfTOwqyqkpXpjkIzC1wIEWL4uX8yDJ8CKmYoTYxQgwIoRKu9pF706Td//utn+40fObqqL2x9RzNa4DAEEEEAAAQQQQAAB7wis2LxLf3tmkvak57ys6OL29fTI2c28M0hG4lsBAizflq5IAyfAKhIXJ8cgQIAVA1LeUzZs36v2j41VlvX0YGpykmbe20uHlC9djNa4BAEEEEAAAQQQQAAB7wm8MXm5/vX5olwDG351O3U5mkcJvVctf42IAMtf9SruaAmwiivHddEECLCKsTZen7xcD0d8M+/RuIbeuKJtMVriEgQQQAABBBBAAAEEvClgHiW84D9TNWvFH/YAzVsJv7mlqyqX462E3qyaP0ZFgOWPOpV0lARYJRXk+rwCBFjFWBNnvTBF81Ztta98pu/x6tOydjFa4hIEEEAAAQQQQAABBLwrsHzTLp36bO5HCc86/nA9+/eW3h00I/O8AAGW50vkyAAJsBxhpJEIAQKsIi6H3zbtUvenxttXlSmVrNn39VZ5NrQsoiSnI4AAAggggAACCPhBIL+3Eg69qKVOb364H4bPGD0oQIDlwaLEYUgEWHFADXmTBFhFXADPjV2qwaOX2Fed3ryWhl7UqoitcDoCCCCAAAIIIIAAAv4QyMrK0uXDZmriko32gCuXLaVvB3ZVzUpl/DEJRukpAQIsT5UjboMhwIobbWgbJsAqQunNN+9egyfo14277KtevayNejepWYRWOBUBBBBAAAEEEEAAAX8JrN++VycNmahte9LtgXc9prreurKtkpL4NdVf1Uz8aAmwEl8DN0bA3wxuKIerDwKsItR74dptOu25ybk+eTJvHyydmlyEVjgVAQQQQAABBBBAAAH/CXw2b60GvD8n18Af7tNUl3Y4wn+TYcQJFSDASii/a50TYLlGHZqOCLCKUOrHvvpJ/5mwzL7i723r6t/nNi9CC5yKAAIIIIAAAggggIB/BW56f44+nbfWnkDZUin64qYTdFT1Cv6dFCN3XYAAy3XyhHRIgJUQ9kB3SoAVY3nNa4RPePw7rd22177ivWvbq1ODajG2wGkIIIAAAggggAACCPhbYNvudJ38zESt257zM3GLulX0Ub+OSk3hqQR/V9e90RNguWedyJ4IsBKpH8y+CbBirOvM37bo/Jen2mfXqJimqXf3VEoy/1nGSMhpCCCAAAIIIIAAAgEQmLR0oy59fUaumdza+xjd1PPoAMyOKbghQIDlhnLi++A35cTXIGgjIMCKsaL3jVygd6attM+++oT6uv/0JjFezWkIIIAAAggggAACCARH4MFRP+qtqSvsCaUmJ+mTGzqrWZ3KwZkkM4mbAAFW3Gg91TABlqfKEYjBEGDFUMb0jEy1f3Sstuzab589qn9nmdulORBAAAEEEEAAAQQQCJvAnv0ZOu35SVoW8XbuBtXL64ubuqhMqZSwcTDfIgoQYBURzKenE2D5tHAeHjYBVgzFGffzBl05bKZ95pGHltO427vzyuAY7DgFAQQQQAABBBBAIJgC81Zt1Tkvfa+MzCx7gld2PlIPnnFcMCfMrBwTIMByjNLTDRFgebo8vhwcAVYMZRs4Yq4+mbPGPvOmHg1160mNYriSUxBAAAEEEEAAAQQQCK7AkNFL9OzYpbkm+O417dW5IS86Cm7VSz4zAqySG/qhBQIsP1TJX2MkwCqkXub26DaDRmvX/gz7zDG3dlXDGhX9VWlGiwACCCCAAAIIIICAwwJmq41zX/pe81dvs1uuVbmMvr6lqyqXLeVwbzQXFAECrKBUsuB5EGCFo85uzpIAqxDtz+ev1Y3vzbHPOu7wSn8+28+BAAIIIIAAAggggAAC0i8bduq05yZp34FMm+PslrU1pO/x8CCQrwABVjgWBgFWOOrs5iwJsArRvu7tWfp20Xr7rLtPaazruzVws0b0hQACCCCAAAIIIICApwXenLJc//xsUa4xvnhxK53arJanx83gEiNAgJUYd7d7JcByWzz4/RFgFVDjbXvS1XbQGO3PyPk06fu7eujwKmWDvzKYIQIIIIAAAggggAACMQpkZmbpsjdmaPIvm+wrqpQrpW9v6aoalcrE2AqnhUWAACsclSbACked3ZwlAVYB2h/MXKU7P5pvn9HuyKr6oF9HN+tDXwgggAACCCCAAAII+ELg9217dPKQidq+94A93u6NqmvYFW15e7cvKujeIAmw3LNOZE8EWIeCYpgAACAASURBVInUD2bfBFgF1PXi16Zpyi+b7TMG9WmqSzocEcyVwKwQQAABBBBAAAEEECihwKi5a3Tzf+fmauXhs47TpR2PLGHLXB4kAQKsIFUz+lwIsMJRZzdnSYAVRXvD9r3q8NhYZWYdPCE1OUkz7u2lquVLu1kf+kIAAQQQQAABBBBAwDcCWVlZuvH9Ofpi/u/2mEunJOujf3RSszqVfTMPBhpfAQKs+Pp6pXUCLK9UIjjjIMCKUss3Ji/Xvz7P2YjyRHP785XtglN5ZoIAAggggAACCCCAQBwEtu7er5Ofmaj12/fZrdetWlaf39hFlcuVikOPNOk3AQIsv1WseOMlwCqeG1dFFyDAimJz1gtTNG/VVvurz/Q9Xn1a1mYtIYAAAggggAACCCCAQCECM5Zv0YWvTlNG9uMMknodW1OvXtaa/bBYPSLACsciIMAKR53dnCUBVj7aKzbvUrcnx9tfKVMqWbPv663yaalu1oa+EEAAAQQQQAABBBDwrcDLE37Vv79anGv8d5/SWNd3a+DbOTFwZwQIsJxx9HorBFher5D/xkeAlU/Nnh+7VE+PXmJ/5fTmtTT0olb+qy4jRgABBBBAAAEEEEAgQQKZmVm6bvhsjflpvT2ClOQkvX9tB7WrXzVBo6JbLwgQYHmhCvEfAwFW/I3D1gMBVp6Km40new+ZqF827LS/8sqlrXXScYeFbW0wXwQQQAABBBBAAAEESiSwbXe6Tnt+klb/scdup0bFNH1xUxdVr5hWora52L8CBFj+rV1RRk6AVRQtzo1FgAArj9Kitdt16nOT7D+tVCZVM+/rpbTUlFg8OQcBBBBAAAEEEEAAAQQiBBas3qZzX/pe+zMy7T/t1OBQDb+6vcwdWRzhEyDACkfN+a87HHV2c5YEWHm0zXP65nn97KNvm7p6/LzmbtaEvhBAAAEEEEAAAQQQCJTA8GkrdP/IH3PN6aYeDXXrSY0CNU8mE5sAAVZsTn4/iwDL7xX03vgJsCJqYp7T7/LEOK3ZmnOL83vXtFenhtW8VzlGhAACCCCAAAIIIICATwTMNh03/3euPp231h5xUpL05pXt1O2Y6j6ZBcN0SoAAyylJb7dDgOXt+vhxdARYEVWb9dsWnffyVPtPzPP5U+/uya3NflzZjBkBBBBAAAEEEEDAUwK79h3QWS9MybXX7CHlSv25H9bhVcp6aqwMJr4CBFjx9fVK6wRYXqlEcMZBgBVRS3Nbs7m9Ofu4qnN9PXBGk+BUm5kggAACCCCAAAIIIJBAgaXrd+jMoVO0Jz3DHkXLelU04rqOKp2anMCR0bWbAgRYbmonri8CrMTZB7VnAiyrsukZmWr/6Fht2bXfrvWo/p3Vom6VoNaeeSGAAAIIIIAAAggg4LrAJ3NWa+CIebn65YNj18uQ0A4JsBLK71rnBFiuUYemIwIsq9Tjf96gK4bNtAt/xKHlNP727koyD+dzIIAAAggggAACCCCAgGMCd3+8QO/PWJmrvZcubqVTmtVyrA8a8q4AAZZ3a+PkyPhN2klN2jICBFjWOrh1xFx9PGeNvSp4Kwr/gSCAAAIIIIAAAgggEB+BvekZOvel77Vw7Xa7g4ppqfp0wAmqX838isIRZAECrCBXN2duBFjhqLObsyTAkmS+gbZ+eLR27c95Fn/MrV3VsEZFN2tBXwgggAACCCCAAAIIhEZgxeZdOv35ydqx94A958aHVdTI/p1VplRKaBzCOFECrHBUnQArHHV2c5YEWJK+mP+7+r/3g+3epFYlfXlzFzfrQF8IIIAAAggggAACCIRO4JuF63T98Nm55t23TV09fl7z0FmEacIEWOGoNgFWOOrs5iwJsCRdP3yWvlm43na/65TG6tetgZt1oC8EEEAAAQQQQAABBEIp8MgXi/TqpOW55v7kec11fpu6ofQIw6QJsMJQZYkAKxx1dnOWoQ+wtu1JV9tBY7Q/I9N2n3JXD9WuUtbNOtAXAggggAACCCCAAAKhFDBvA7/wlWmateIPe/5pqcn64PqOvBE8oCuCACughc0zLQKscNTZzVmGPsD6YNYq3fnhfNu83ZFV9UG/jm7WgL4QQAABBBBAAAEEEAi1wO/b9ui05yZry679tkPNSmn69MYTVLNSmVDbBHHyBFhBrOpf50SAFY46uznL0AdYl7w2XZN/2WSbP9ynqS7tcISbNaAvBBBAAAEEEEAAAQRCLzB56SZdPmyGMjKzbIsWdSprxPUd2dQ9YKuDACtgBY0yHQKscNTZzVmGOsDasGOvOjw6VtnfI1OTkzTj3l6qWr60mzWgLwQQQAABBBBAAAEEEJD05pTl+udni3JZnHX84Xqm7/FKSuLX4aAsEgKsoFSy4HnwX2w46uzmLEMdYA2bslwPRXyD7N6out68sp2b/vSFAAIIIIAAAggggAAClkBWVpbu+WSB3p+xKpfJnX9rpBu6N8QpIAIEWAEpZCHTIMAKR53dnGWoA6w+L0zR3FVbbe8hfVvo7JZ13PSnLwQQQAABBBBAAAEEEIgQ2H8gU5e8Pl0zlm+x/9TcfPXKpW3Uu0lNrAIgQIAVgCLGMAUCrBiQOKVIAqENsFZu3q2uT46zscybTmbf31sV0lKLBMjJCCCAAAIIIIAAAggg4KyA2cz9zKGTtfqPPXbD5Uun6KMbOqnxYZWc7YzWXBcgwHKdPCEdEmAlhD3QnYY2wBr63VI99e0Su7inNa+lFy5qFehiMzkEEEAAAQQQQAABBPwisHjddp374vfatT/DHnKdQ8pqVP/OOrRCml+mwTjzESDACseyIMAKR53dnGUoAyzzbP1JQyZq6YadtvV/Lm2tk487zE17+kIAAQQQQAABBBBAAIECBEYvWq/rhs9SVs6LCdWuflW9c3V7lU5Nxs6nAgRYPi1cEYdNgFVEME4vVCCUAdZPv2/XKc9OsnEqlknVrPt6KS01pVAwTkAAAQQQQAABBBBAAAH3BF4c/4ue+PrnXB1e2K6uHj27GW8mdK8MjvZEgOUop2cbI8DybGl8O7BQBliPf71YL43/1S5a3zZ19fh5zX1bRAaOAAIIIIAAAggggEBQBczTEwNHzNXIuWtzTfGfZzTRFZ3rB3XagZ4XAVagy2tPjgArHHV2c5ahC7AyM7PU5YlxWrM1Z0PId69pr84Nq7npTl8IIIAAAggggAACCCAQo8De9Az1fWWa5kW8QTwlOUlvXdlOJxzNz/ExMnrmNAIsz5QirgMhwIorbygbD12ANeu3LTrv5al2satXTNO0u3vKfAPkQAABBBBAAAEEEEAAAW8KbNi+V2cMnaz12/fZA6xUJlWjbjxB9auZX2s4/CJAgOWXSpVsnPyGnb+fcWksqV3EP+Z5sNKSzN9uZWJkrynpNklnSqonabekhZLetP6J2Dowaot9JPWT1FJSZUnmPtevJT0tKeeZtegDcmIMMU73z9NCF2A9MOpHvT11hW10Zecj9eAZxxXFjHMRQAABBBBAAAEEEEAgAQLzV2/V+S9P1b4DmXbvR1Uvr09u6KzKZUslYER0WRwBAqziqPnvGgKs/Gt2pKTlUcoZa4DVRtIXkmpEaceEUCacyon7c59oavOapKuiXG9ed9dX0pcFLLuSjqE4KzpUAdaBjEy1f3SsNu/ab1uN7N9Zx9etUhw7rkEAAQQQQAABBBBAAAGXBT6bt1YD3p+Tq9eux1TXG5e3UWoKbyZ0uRzF6o4Aq1hsvruIAKvwAGu1pJmSzIPQXWK8A8ucO19SLUmbJd0saax1B9WNksw/5nhV0nVRVs09kh6xvvaB9e+/S+og6VlJZndBE2K1lrQknzacGENxFnSoAqwJSzbq8jdm2E5HHFpO42/vzttLirNyuAYBBBBAAAEEEEAAgQQJPP3tz3r+u19y9X71CfV1/+lNEjQiui2KAAFWUbT8ey4BVv61qyiph6TpktZZp/xT0oMxBlhPWY8OmvtQO0ualqeboZL6SzJfP17SgjxfN4/9mccDTRhk7uI6Q1Lk44bmDrEfra9/KOn8fKZR0jEUd1WHKsC69YO5+viHNbbVgB4NddtJjYprx3UIIIAAAggggAACCCCQAAHzYqZ/vDtb3yxcn6v3QX2a6pIORyRgRHRZFAECrKJo+fdcAqzYaxdrgGUelN5o3W31iaRz8unC3B1lUg+zp9YLEXdkZZ96h6QnrP9jAq55+bQxWNJAKwQzd3ptiDjHiTHELpP7zNAEWObNJW0GjdHOfQdsgdEDu+romib/5EAAAQQQQAABBBBAAAE/Cezad0DnvvS9Fq/bYQ/bvJfpxYtb629ND/PTVEI3VgKscJScACv2OscaYJk7t8zjgua4WNJ7Ubr4VlJvSausDd4jT5toPa64VNIxUa7vJGmK9bWrJb0RcZ4TY4hdJqQB1pcLftcN7/5gz/7YWpX01c3mKVMOBBBAAAEEEEAAAQQQ8KPA6j92q88LU7RpZ84et6VTkzX8qnZqf9ShfpxSKMZMgBWKMosAK/Y6xxpg3S7pSavZhgW8KfBhSfdZ51WXtCliKCbyryDpHUmXRhlimqRdklLyuYvLiTHELhPSAKvf8Nn6emH2E6bSXac0Vr9uDYrrxnUIIIAAAggggAACCCDgAQHzZsK/vzJNu/dn2KOpWCZV/+vXUY0Pq+SBETKEvAIEWOFYEwRYsdc51gDLbMx+jfVonwmZcp4vy92Xebvg69YfnRBxN1VtSWbjeHP8y9p3K9ooV0qqK2mMdTdX9nklHUPsKn89MxSPEG7bk662j4zR/ojX7U65q4dqVylbEjuuRQABBBBAAAEEEEAAAQ8ITFyyUVe9OVMHMnO2Iq5ZKU0f39CZn/k9UB8CLA8WwYUhEWDFjhxrgGX2vepjvX3Q7HUV7TAbs39qffGsiH9vIWmu9ecDJJkN36MdsyW1kmTe+Wr+N/so6RgKUzEhVbSjXPZ+XDt37lT58gWdWlg33v36B7NW6c4PzYsmDx5tjzxE/+tnnurkQAABBBBAAAEEEEAAgSAIjJyzRreMyP7V7OCMGlQvrw/7ddIh5c12xhxeEeAOLK9UIr7jIMCK3TfWACt7byuzSXudAprvJWm09fXIvbIi97a6VtJrBbQx2XrLYd69sko6hsJUIt+IGPXcIAdYl74+XZOW5jz1+fBZx+nSjublkBwIIIAAAggggAACCCAQFIFXJy7TI1/+lGs6LetV0XvXdFDZ0mY3Fw4vCBBgeaEK8R8DAVbsxgRYOVahDrA27NirDo+OVfbdxCnJSZpxT08dWsE8McqBAAIIIIAAAggggAACQRJ45ItFenXS8lxT6tm4hv5zaWulpiQHaaq+nQsBlm9LV6SBE2DFzhVrgFXSx/d4hDD2miTkzDenLNc/P1tk993tmOp666p2CRkLnSKAAAIIIIAAAggggEB8BTIzs3TrB3M1cu7aXB1d0KaOHj+3uZKS+LU6vhUovHUCrMKNgnAG/6XFXsVYA6zsDdTNKyvKFLCJ+9URjwcWdxP3VdZjitE2cS/uGGJX+euZgd/E/ewXp2jOyq32zAdf0ELntCroadGScHItAggggAACCCCAAAIIJFrAvLzp6rdm5tpGxIzpxhMb6vaTGyV6eKHvnwArHEuAACv2OscaYN0u6Umr2QaSlkXpYpCke62vVZeUvaGSqcl2SRUkDZd0WZTrzfNquySZB69fMH93RpxX0jHErhKyAGvl5t3q+uQ4e9ZpqcmafX9vVUhLLYkZ1yKAAAIIIIAAAggggIDHBXbuO6ALX5mmBWu25RrpQ2cep8s7sR9uIstHgJVIfff6JsCK3TrWAKuHpLFWsxdJej9KF9kbrZu7qOrlOWeipC6SlkiKFudHbvZu7uZ6I6INJ8YQu0zuMwN9B9YL437Rk9/8bM/4tGa19MLFkS+ALC4b1yGAAAIIIIAAAggggIDXBTbt3KfzXvpev23ebQ/VPEE49MJWOq15La8PP7DjI8AKbGlzTYwAK/Y6xxpglZK0UVJlSR9LOjefLqpJMm8pNO9ezXv3lDn9DklPWNc1l7QgnzYGSxooKVOS+ZtyQ8Q5TowhdpkQBVgnD5mon9fvsGdsNm48+bjDimvFdQgggAACCCCAAAIIIOAzAfNUxjkvTdGmnfvtkZdOSdabV7VVpwbmVz0OtwUIsNwWT0x/BFixu8caYJkWn5J0mySzB5W5U2pGnm6GSuovybzNz2zanjegqmk9elhO0meSzsxzvbk/9UdJ5m6nDyWdn880SjqG2GVCEmAtXrddf3tmkj3bimVSNeu+XkpL5fW5xV0sXIcAAggggAACCCCAgB8FflyzTX3/M1W79ptf+Q4eFdNSNeL6jmpyeCU/TsnXYybA8nX5Yh48AVZ0qiaSIv/muUaSeVTPxOzd8lw2R9K+iD8zsft8684os7fVzdZjhaa9AdY/5nSz4ft1UYZwj6RHrK+NsP59naT2kp6TVF/STkmtrUcN8zbjxBhiXkgRJwb2EcKnvvlZQ8f9Yk/1/NZ19OT5Jn/kQAABBBBAAAEEEEAAgbAJTF66SVe+OUPpGea+hINH9Ypp+vgfnVS3qrkXgcMtAQIst6QT2w8BVnT/8fkEVdHONmHSb3m+2EbSF5JqRLnoa0l98gRfkaea2rwm6aoo15vwqq+kLwtYQiUdQ3FWZyADrKysLHV/arxWRDzrPvzqdupytNl/nwMBBBBAAAEEEEAAAQTCKPDpvLW66X1zP0POUbdqWb13TQdCLBcXBAGWi9gJ7IoAK34BlmnZPApo3ghoHgGsK2mPpIWShkl603qEsLDyny3peklmp3BzB9daSd9Yjyn+WtjFDo0hhm7sUwIZYC1YvU1nDJ1sT/LQ8qU1/Z6eSk1JLooN5yKAAAIIIIAAAggggEDABF6fvFwPf74o16xqVymr965tryMONb8eccRbgAAr3sLeaJ8Ayxt1CNIoAhlgPfrlT3pl4jK7Tpd0qKdBfZoFqW7MBQEEEEAAAQQQQAABBIop8PjXi/XS+Nz3F9SslKb3ru2gBtUrFLNVLotVgAArVil/n0eA5e/6eXH0gQuwMjOz1OWJcVqz1dxAd/D473Ud1OGoQ73oz5gQQAABBBBAAAEEEEDAZQGz5cjjX/+slyfkDrGqVUjT+9e219E1K7o8onB1R4AVjnoTYIWjzm7OMnAB1uwVW3TuS1NtQ/NJyvd39VRKMv/5uLmw6AsBBBBAAAEEEEAAAS8LmBBryJilem7s0lzDNNuPvHNNex1bi7cTxqt+BFjxkvVWu/wG7q16BGE0gQuw/vnpQr35fc4e/Vd2PlIPnnFcEGrFHBBAAAEEEEAAAQQQQMBhgefHLtXTo5fkarVKuVJ65+r2alq7ssO90ZwRIMAKxzogwApHnd2cZaACrIzMLHV4bKw27thnG358Qye1qneIm6b0hQACCCCAAAIIIIAAAj4S+M+EX/XYV4tzjbhSmVS9fXV7HV+3io9m4o+hEmD5o04lHSUBVkkFuT6vQKACrKm/btaFr06z52jeJjL5/05UUhL/6bD0EUAAAQQQQAABBBBAILrAG5OX61953k5YIS1Vb13VVq2PqAqdgwIEWA5iergpfgv3cHF8OrRABVj3fLJA701faZfi+m5H6e5TjvVpaRg2AggggAACCCCAAAIIuCkwfNoK3T/yx1xdliudomFXtFV7XgrlWCkIsByj9HRDBFieLo8vBxeYACs9I1PtHx2rLbv224X4fMAJPLfuy2XJoBFAAAEEEEAAAQQQSIzAiJkrddfHC5SVldN/mVLJev3yturcsFpiBhWwXgmwAlbQKNMhwApHnd2cZWACrAlLNuryN2bYdvWrldd3t3Xj8UE3VxN9IYAAAggggAACCCAQAIGPZq/WHR/OU2ZEiJWWmqxXLmujbsdUD8AMEzsFAqzE+rvVOwGWW9Lh6ScwAdYd/5un/81ebVduQI+Guu2kRuGpJDNFAAEEEEAAAQQQQAABxwRGzV2jWz+YJ/OiqOyjdEqyXrqklXoeW9OxfsLYEAFWOKpOgBWOOrs5y0AEWPsOZKjNoDHasfeAbfftwK46pmZFNy3pCwEEEEAAAQQQQAABBAIk8NWC3zXg/Tk6EBFilUpJ0vMXttTfmtYK0EzdnQoBlrveieqNACtR8sHtNxAB1phF63XN27PsKh1Ts4K+HdgtuFVjZggggAACCCCAAAIIIOCKwOhF69X/3R+0PyPT7i85SX++LOqaLvXZsqQYVSDAKgaaDy8hwPJh0Tw+5EAEWDf/d45GzV1rU9/W+xgN6Hm0x+kZHgIIIIAAAggggAACCPhBYNzPG3T98NnafyAnxDLjPrtlbT12TjOVKZXih2l4ZowEWJ4pRVwHQoAVV95QNu77AGvPfvP44Gjt2p9hF3Dc7d1lNnHnQAABBBBAAAEEEEAAAQScEJi8dJOueXum9qbnDrGa1q6k/1zaRrWrlHWim1C0QYAVijKLACscdXZzlr4PsL5c8LtuePcH28x8A/l8QBc3DekLAQQQQAABBBBAAAEEQiDw45ptf96JtWbrnlyzPbR8ab14cSu1P+rQECiUfIoEWCU39EMLBFh+qJK/xuj7AOuGd2frywXrbPW7Tmmsft0a+KsKjBYBBBBAAAEEEEAAAQR8IbB5574/P0CfvnxLrvGmJifpwTOa6JIOR7AvViGVJMDyxVIv8SAJsEpMSAN5BHwdYO3cd0CtHx6tfRHPok+680TVrVqOQiOAAAIIIIAAAggggAACcRFIz8jUoM8X6a2pK/7S/t/b1tVDZx2ntFT2xYqGT4AVl2XpuUYJsDxXEt8PyNcB1qi5a3Tzf+faRWhZr4o+uaGz74vCBBBAAAEEEEAAAQQQQMD7Ah/MXKX7Rv6Y6w2FZtSt6lXRy5e0Vo1KZbw/iQSMkAArAegJ6JIAKwHoAe/S1wHWNW/N1JifNtgleuD0JrrqhPoBLxnTQwABBBBAAAEEEEAAAa8I/LDyD/UbPlsbduzLNaSaldL+DLFa1jvEK0P1zDgIsDxTirgOhAArrryhbNy3Ada23elq88hopWdk/Vm4pCRp2t09VZNPOUK5kJk0AggggAACCCCAAAKJEli/fa/6vTNbc1ZuzTWE0inJGnR2U13Qpm6ihubJfgmwPFkWxwdFgOU4aegb9G2A9cGsVbrzw/l2AdvXr6oR13cMfUEBQAABBBBAAAEEEEAAAfcF9h3I0AMjF2rErFV/6fyKTkfq3tOOVamUZPcH5sEeCbA8WJQ4DIkAKw6oIW/StwHWpa9P16Slm+zyPdynqS7tcETIy8n0EUAAAQQQQAABBBBAIFECWVlZemfaCj302SIdyDz4pEj20eGoqnruwpaqUZF9sQiwErVC3e2XAMtd7zD05ssAy7y6tt2jY5VhfVNISU7S9Ht6qlqFtDDUjDkigAACCCCAAAIIIICAhwWmLdus/u/+oM279ucaZZVypfSvs5rqjOa1lGT2QAnpQYAVjsKHd4WHo76JmKUvAyzzqYZ520f20eXoahp+dftE+NEnAggggAACCCCAAAIIIPAXgTVb9+i6t2dp4drtf/naKU0Pk3mCJKwfwBNgheM/GAKscNTZzVn6MsD6+ytTNW3ZFtvpiXOb64K2bIzo5sKhLwQQQAABBBBAAAEEEChYYM/+DN398XyNnLv2LydWLV9ag/o01anNaoWOkQArHCUnwApHnd2cpe8CLPOGjw6PjVWW9Uh5qZQkzbq3tyqXK+WmG30hgAACCCCAAAIIIIAAAoUKmH2xPp23Vg+MWqhte9L/cv4ZLQ7Xv848ToeUL11oW0E5gQArKJUseB4EWOGos5uz9F2ANWzK8j83Rcw+ejauodevaOumGX0hgAACCCCAAAIIIIAAAkUS2LB9r+75ZIHG/LThL9eZRwkfPbupTjrusCK16deTCbD8WrmijZsAq2henF24gO8CrHNenKIfVm61Z/ZM3+PVp2XtwmfKGQgggAACCCCAAAIIIIBAAgXM3VifzFmjBz9dqB17D/xlJOe0rK0Hzzgu8E+XEGAlcBG62DUBlovYIenKVwHW6j9264THx9mlSUtN1uz7e6tCWmpIysU0EUAAAQQQQAABBBBAwO8C67bt1V0fz9f4nzf+ZSo1Kqbp3+c2U4/GNf0+zajjJ8AKbGlzTYwAKxx1dnOWvgqw/jPhVz321WLbx7y946VLWrvpRV8IIIAAAggggAACCCCAQIkFzN1Y/5u1Wg9/vkg79v31bqzzW9fR/Wc0UaUywdvrlwCrxMvHFw0QYPmiTL4apK8CrDOen6wFa7bZwC9c1EqnNQ/fWzt8tcIYLAIIIIAAAggggAACCEQVWLN1j+76aL4mLd30l3NqVS6jf53VVL2OraGkpODEAQRY4fgPIjgrNhz18sMsfRNg/bZpl7o/Nd42LVc6RbPv662ypVP84MwYEUAAAQQQQAABBBBAAIF8BczdWO/PWKVHvlikXfsz/nJOuyOr6v9OaazWRxwSCEECrECUsdBJEGAVSsQJRRTwTYA19LuleurbJfb0zmxxuJ67sGURp8vpCCCAAAIIIIAAAggggIA3BVZt2a07P5yvqcs25zvAk5rU1J1/a6SGNSp6cwIxjooAK0Yon59GgOXzAnpw+L4JsE4eMlE/r99hE756WRv1bhLcjQ09uFYYEgIIIIAAAggggAACCMRZIDMzS+9OX6FHv1ysPel/vRsrOUm6oE1d3dLrGB1WuUycRxOf5gmw4uPqtVYJsLxWEf+PxxcB1pL1O3TSkIm2dsUyqZp1Xy+lpfL4oP+XIDNAAAEEEEAAAQQQQACBvALmTYXPjl2iETNXKTPrrz7mjexXdq6vf3RroMrl/LXROwFWONY7AVY46uzmLH0RYA3+9mc9990vtst5revoqfNbuOlEXwgggAACCCCAAAIIIICA6wK/bNipp775WV8vXJdv35XLllL/Exvoso5Hqkwpf3zAT4Dl+jJKd3+w6AAAHYVJREFUSIcEWAlhD3Snng+wzIaGPZ+eoGWbdtmFePPKtureqEagC8PkEEAAAQQQQAABBBBAAIFsgR9W/qF/f7VYM5ZvyRfl8MplNLD3MTqnVR2lmOcMPXwQYHm4OA4Ozdur0MGJ0pRrAp4PsP7YtV+XvjFdP67Z/ifKIeVKaca9vVQqJdk1JDpCAAEEEEAAAQQQQAABBBItYD7cH//zRj3+9WItXpezP3DkuI6pWUF3ntxYPY+toaQkb0YIBFiJXknu9O/N1efO3OklPgKeD7Cyp7180y59Pm+tkpOT1P/EhvHRoFUEEEAAAQQQQAABBBBAwOMCGZlZGjlnjQaPXqI1W/fkO9o2RxyiIX2PV92q5Tw3GwIsz5UkLgMiwIoLa6gb9U2AFeoqMXkEEEAAAQQQQAABBBBAII/A3vQMvTNthYaO+0Vbd6fn+mr1immacEd3lSud6jk3AizPlSQuAyLAigtrqBslwAp1+Zk8AggggAACCCCAAAII+F1g+950/WfCr3p98nLtTc/8czqD+jTVJR2O8OTUCLA8WRbHB0WA5Thp6BskwAr9EgAAAQQQQAABBBBAAAEEgiCwfvtePTt2qWYu36Ivb+7i2X2DCbCCsNoKnwMBVuFGnFE0AQKsonlxNgIIIIAAAggggAACCCDgaYF9BzKUlpri2TESYHm2NI4OjADLUU4ak0SAxTJAAAEEEEAAAQQQQAABBBBwTYAAyzXqhHZEgJVQ/kB2ToAVyLIyKQQQQAABBBBAAAEEEEDAmwIEWN6si9OjIsByWpT2CLBYAwgggAACCCCAAAIIIIAAAq4JEGC5Rp3QjgiwEsofyM4JsAJZViaFAAIIIIAAAggggAACCHhTgADLm3VxelQEWE6L0h4BFmsAAQQQQAABBBBAAAEEEEDANQECLNeoE9oRAVZC+QPZOQFWIMvKpBBAAAEEEEAAAQQQQAABbwoQYHmzLk6PigDLaVHaI8BiDSCAAAIIIIAAAggggAACCLgmQIDlGnVCOyLASih/IDsnwApkWZkUAggggAACCCCAAAIIIOBNAQIsb9bF6VERYDktSnsEWKwBBBBAAAEEEEAAAQQQQAAB1wQIsFyjTmhHBFgJ5Q9k5wRYgSwrk0IAAQQQQAABBBBAAAEEvClAgOXNujg9KgIsp0VpjwCLNYAAAggggAACCCCAAAIIIOCaAAGWa9QJ7YgAK6H8geycACuQZWVSCCCAAAIIIIAAAggggIA3BQiwvFkXp0dFgOW0KO0RYLEGEEAAAQQQQAABBBBAAAEEXBMgwHKNOqEdEWAllD+QnRNgBbKsTAoBBBBAAAEEEEAAAQQQ8KYAAZY36+L0qAiwnBalPQIs1gACCCCAAAIIIIAAAggggIBrAgRYrlEntCMCrITyB7JzAqxAlpVJIYAAAggggAACCCCAAALeFCDA8mZdnB4VAZbTorRHgMUaQAABBBBAAAEEEEAAAQQQcE2AAMs16oR2RICVUP5Adk6AFciyMikEEEAAAQQQQAABBBBAwJsCBFjerIvToyLAclqU9giwWAMIIIAAAggggAACCCCAAAKuCRBguUad0I4IsBLKH8jOCbACWVYmhQACCCCAAAIIIIAAAgh4U4AAy5t1cXpUBFhOi9IeARZrAAEEEEAAAQQQQAABBBBAwDUBAizXqBPaEQFWQvkD2TkBViDLyqQQQAABBBBAAAEEEEAAAW8KEGB5sy5Oj4oAy2lR2iPAYg0ggAACCCCAAAIIIIAAAgi4JkCA5Rp1QjsiwEoofyA7J8AKZFmZFAIIIIAAAggggAACCCDgTQECLG/WxelREWA5LUp7BFisAQQQQAABBBBAAAEEEEAAAdcECLBco05oRwRYCeUPZOcEWIEsK5NCAAEEEEAAAQQQQAABBLwpQIDlzbo4PSoCLKdFac8OsNavX6/y5c3/5UAAAQQQQAABBBBAAAEEEEAgPgImwKpZs2Z24xUk7YpPT7SaSAECrETqB7Pv6pI2BHNqzAoBBBBAAAEEEEAAAQQQQMDjAjUkbfT4GBleMQQIsIqBxiUFChBgsUAQQAABBBBAAAEEEEAAAQQSJUCAlSj5OPdLgBVn4BA2b9ZUNWveuz08/3IRd4qZv+C8PFYPMwZuaKyLwJXUsQmxNhyjDFRDrItAldOxybAuHKMMVEOsi0CV07HJsC4co/yzIeNpjk2Sspxtmta8IECA5YUqMIZECNh7dUniGelEVMCbfbIuvFkXL4yKteGFKnhvDKwL79XECyNiXXihCt4bA+vCezXxwohYF16oAmPwjQABlm9KxUAdFuCbhcOgAWmOdRGQQsZhGqyNOKAGoEnWRQCKGIcpsC7igBqAJlkXAShiHKbAuogDKk0GV4AAK7i1ZWYFC/DNghWSnwDrgnURTYC1wdrg7wzWQKwC/H0Rq1S4zmNdhKvesc6WdRGrFOchIIkAi2UQVgG+WYS18gSbVL54AvydUTy3oF/Fugh6hYs3P9ZF8dyCfhXrIugVLt78WBfFc+OqkAoQYIW08ExbfLNgEXA3BWugKAL8nVEUrfCcy7oIT62LMlPWRVG0wnMu6yI8tS7KTFkXRdHi3NALEGCFfgmEFoBvFqEtfYETZ12wLqIJsDZYG4TerIFYBfj7IlapcJ3HughXvWOdLesiVinOQ4BHCFkDIRbgm0WIi1/A1FkXrAsCLNZAUQT4O6MoWuE5l3URnloXZaasi6Johedc1kV4as1MHRDgDiwHEGkCAQQQQAABBBBAAAEEEEAAAQQQQCB+AgRY8bOlZQQQQAABBBBAAAEEEEAAAQQQQAABBwQIsBxApAkEEEAAAQQQQAABBBBAAAEEEEAAgfgJEGDFz5aWEUAAAQQQQAABBBBAAAEEEEAAAQQcECDAcgCRJhBAAAEEEEAAAQQQQAABBBBAAAEE4idAgBU/W1pGAAEEEEAAAQQQQAABBBBAAAEEEHBAgADLAUSaQAABBBBAAAEEEEAAAQQQQAABBBCInwABVvxsaRkBBBBAAAEEEEAAAQQQQAABBBBAwAEBAiwHEGkCAQQQQAABBBBAAAEEEEAAAQQQQCB+AgRY8bOlZW8L9JHUT1JLSZUlrZX0taSnJf3q7aEzuiIKmL/nGktqF/FPc0mlJe2TVCbG9mpKuk3SmZLqSdotaaGkN61/smJsh9O8IVBW0t8knSypraQGkspL2ippvqSPJA2TtKeQ4bIuvFFPJ0ZRV9JZ1npoJsnUtpqk/ZJ+kzRO0ouSFsfQGesiBqQAnNJQ0oKI7yNXWt8Pok2NdRGAokdM4UhJy2OY0i5JFQo4j3URA6LPTzE/a1wuqaOkw6yfIddImibpY+t3kPymyNrweeEZvvMCBFjOm9KitwXMmn9N0lVRhrlTUl9JX3p7GoyuCAIF/YAZa4DVRtIXkmpE6deEnyYUNe1x+ENgu6SKhQzVBBUmsFwa5TzWhT9qHesob5T0fCEnp0u6VdLQAs5jXcQq7v/zRkvqFTGNggIs1oX/6513Bk4EWKyL4K2LyBmZD8belnROAdOcIKl7Pl9nbQR7bTC7YgoQYBUTjst8K3CPpEes0X9g/fvvkjpIelZSfUkmxGotaYlvZ8nAIwUif8BcLWmmdVdFlxjvwDJ3YJg7cmpJ2izpZkljrTv3zC+85h9zvCrpOuh9I2DumDOBo/nkc5S1Lv6w7q673rpD03yPNHfemLtxzN8LkQfrwjeljnmgV0s6W9J3kuZYd+Zusu7EMp+a3yXJ3HFjjtOtUDtv46yLmLl9f+IlkoZbd+CYnx3MES3AYl34vtz5TiDy54tTJU2KMk3z/cbchcXfF8FcB9FmZe70/8YKp8ydvM9JMr97mLv2SklqIulc63uM+V9+xgjX+mC2xRQgwComHJf5UsDchmseDzSfhpi7ac6QFPnYl/lB5Efr6x9KOt+Xs2TQeQXMXTY9JE2XtM764j8lPRhjgPWU9ehgpqTO1u3ekX2YOzH6SzJfP956nIQqeF/A1O1hSeujDPX/JP3b+pr59yfynMe68H6NnR5hFeux4cMlRfvEnHXhtLo32zvEepT0UOsX0JHWMKMFWKwLb9axpKOKDLBOlDS+iA2yLooI5rPTH5D0kPW4oHmEcHIRxs/aKAIWp4ZLgAArXPUO+2zviPgl1AQN8/IBGSxpoBVGmDtuNoQdLaDzjzXAMp+QbbTutvokyi3g5pN1s4+B+aTthYg7sgJKF5pppVqBp/kF1fxSYn45yT5YF6FZBn+ZqPkEfYB1R17eR1BZF+FZF2YrAnPH3jPW3dvZ+yDlF2CxLoK7LkoSYLEugrsuzMzMzw7mrn+zz+rdER+IxTJr1kYsSpwTWgECrNCWPpQTnyjJPDZm9rM5JopAJ0lTrK+ZH07fCKVU8Ccda4Bl7twyjwua42JJ70Wh+VZSb0mrrEfQgi8YjhlOtR4vNo8TN4qYMusiHPXPb5bmRR9mDyzzOLEJryMP1kU41sUJkszPE+aOXvOCkKoRG3nnF2CxLoK7LkoSYLEugrsuzMxukTTEegmIeQLEvCAm1oO1EasU54VSgAArlGUP7aR3WG+BeUfSpVEU0qx9ClK4mybQ6yTWAOt2SU9aEmbvm2hvqDSPot1nnVddktk3h8P/AsusffFmWW+my54R68L/tS3ODMwn6eaNc+bvAvPihlPyNMK6KI6qv64xd0bMtfauuVDSfyVFhhj5BVisC3/VuCijzS/AMndjm/2OCjtYF4UJ+fvr5nuEeWzQfChuQu/sw/x+YbacKOjN1awNf9ee0cdZgAArzsA07xmB2tatvGZA/7L2P4o2uJWSzOvUx1h31XhmEgzEMYFYAyyzMfs11g8bJtw8EGUE5q2Wr1tfMz+oZN/F59iAach1gZaSfrB6NftlmcfGsg/WhevlSFiHydYGu22tkNr8r/nl1NzNOyPPqFgXCSuTax3fK2lQnp8PCguwWBeulcf1jiJrv9AKM80+q+YFIT9J+tx6s2l+21GwLlwvl6sdmu0nzF26ps7mZT8mlLpcUgNrFOYDMrM1hfmQNO+HnqwNV0tFZ34TIMDyW8UYb3EFWlifmprrzS+iBb0CfbakVtZbqMz/cgRPINYAy/xw0SfK40KRKuaFAJ9af3BWxL8HTy48MzIBdk/rU1Lz94e58yb7YF0Efx1kf3qed6Y/SzJvqTSbuOc9WBfBXhfmF0/zohcTajaXZNaCOQoLsFgXwV0XkbWPNkvzdltzt555G13kwboI7rooa23cbmZo9kY1H3y0izJd8yZ0czdv5L68rI3grg1m5oAAAZYDiDThC4HIva2ulWQ2YI12mLeEmLfNFbRXli8mzSCjCsQaYGXvbWU2aa9TgGcvSaOtrxe0VxYl8YdA5AsfXrTeMhk5ctaFP+pYklHmF2CZT9TNW6XMY+g782mcdVESce9fm13fRyWZO7Gyj8ICLNaF92tb3BHWk/SKtT+muWPX7IOZbu2ZeIX1vcM8MrbHeows+65e0x/rorjq3r/uMEkmmDKHuWPXPFb6kfVGQhN8mz2xzN39ZusJE4ivkNRMktnqhLXh/foywgQLEGAluAB075oAAZZr1L7oiADLF2VKyCDNnhVfSDK/dJi7rtpbv3xEDoZfPBJSGlc7NftdmTdRml8uzNukzKPB5k1Sx0paJOn0iI27swfGunC1RK52dpGkdyX9Zu1/ZQKJ7IMAy9VS+Kozcwf3x5LM71vmrs3uEaPn7wtflbJIgz3cejt19kXmDn2zFvLue3WbpKesk8wjhuYlIQRYRaLm5DAKEGCFserhnDOPEIaz7tFmHWuAxW3c4Vo3rSWNk1TR+iTd3IlpPlHPe7AuwrUusmdrHgsx68OEmibcPN7aHy/766yLYK6LQ6z9jMxdE2dK+izPNAsLsFgXwVwXsc7KbPTf1zrZ7Me61vp31kWsgv47r3Ketw5mb0uSdybmziyzHsyHJJMkdWVt+K/YjNh9AQIs983pMTECRdnE3fzCah4XYxP3xNTKjV5jDbCyN9LMkGTuyIi2ifvVEY+lsom7GxV0vo9jJJnHh81bJM2jYuYHycVRumFdOO/vlxbNHRQmxDJHb+v7RPbYWRd+qWLRxjlE0i3W3oZmj8O8R2EBFuuiaN5BO9tsK2AeOzbHaZK+tP6ddRG0SufMx9y5a+7SNAGVedy8UgFvHTR3fJ+aZ69V1kZw1wYzc0CAAMsBRJrwhYBZ69slVZA0XNJlUUZt3jS3y3p8yGy8aN4cwhE8gVgDrMhXGZsNfM1bY/I7zFupsvdEMQFI3jfKBE8wWDMybx014ZXZz8T8PXFixBsI85sp6yJY9S/KbCI3573TeoNU9vWsi6JI+ufckZLyC64Km0F965FD1kVhUsH+ugm6zeOC5ojcI5N1Eey6m7t0m1pvQDc/Y0Q7TLhp1oXZO80EXuZgbQR7bTC7EgoQYJUQkMt9JTDRevX5EmuDzfwGH7lXlrmr5g1fzZDBxioQa4DVQ9JYq1GzB8r7UTrI3svC3L1nQhAO/wiYwNHcut/I+sT0b5LM3xUFHawL/9TX6ZGax0tNyGkOs9l/9v4l5v+zLpzW9kZ7JQ2wWBfeqGOiRnGppLetziPvwGJdJKoi7vQ7TJLZyN98KG6+b+Td/yp7FF9JMj93mA8+zc8jfC9xpz704mMBAiwfF4+hF1kg8s1i5hXY5tORvMdgSQOtfU1qSdpQ5F64wA8CsQZYpazHycx+BmYj1nPzmVw1a7NO88kZd+35ofo5YzS39Y+X1NL69NNsspr9eEdBM2Fd+KvOTo7W/AL6udWg+fvA/L2QfbAunJT2TlvmTirzPSDaYTZsNo8BmeNB61FD8+9ms3/zBjLWhXdqmYiRfBjxs4NZK9lvp2NdJKIa7vVpfp4w+5yZo52kmfl0bZ76MOvB7LMXuW0Ja8O9OtGTDwUIsHxYNIZcbAGzAat5BKyctQmr2Yw18jD7WPwoqbwk8wPH+cXuiQu9LhBrgGXmYe6wMG+KMftgmTv0ZuSZ3FDrVdnm0zXzsoD8glGve4RxfGZPs2+sva4yJZk77EYUAYJ1UQQsn5zauIB9z8wUzC8Z5m6946zXnZu9ErPvxsqeIuvCJ8V2cJiF7YHF9xEHsT3WlNlfdU0BY7pAktnE3fy+ZfbOM3ddRR78feGxgjo4HPOhptlH0wTg5mcNs8+V+Vkj8rhP0sPWH1wj6fWIL7I2HCwGTQVLgAArWPVkNoUL3CPpEes088uq+fd11lulnrO+0ZgNF83byMyjhhzBEGhibaKZPRvzg4J5RNR8Ot4tzxTnSNoX8WfmDqv5kswdeeYW75utxwrN3TsDrH/M6WbTzeuCwRX4WaRYd85kh9i3WvWLNnHzQ+fuPF9kXQRvmZiXNJg3zJlPzWdLWm/9wmHumjC/eJp9SbL3MjH7I5o7LvMerIvgrYvCZhRLgMW6KEzRn183L/wwwdQoSeZnB/N3htnA2zySbvZaNT9rmN+1zGNk5q228/g+4s9CF3PUZu888/3ErAHzqOC/JP0syXygbtaG+dnDfM18v+lo3Qme3RV/ZxQTncuCL0CAFfwaM8PcAmbNvybpqigwJrwyrzuO5TEibP0jYB4TyxtURRt99sa7kV9vYz0iUiPKRV9LMreLRwZf/tEJ30gjf+GMZfYrJJlr8h6si1j0/HNOtD1KImewV5L5IMS8mS7awbrwT82dGGksAZbph3XhhLa32thayOOlZrRrrTt8J0QZOuvCWzV1ejQ3SXpaUmqUhudKOj3KnXysDaerQXuBECDA+v/27tgmjjCKwugrg4weSIiM3AJugragKERE4gIsuQPrSROQgFbX6AoNx7Efz3MYr+yPf3ZP8W10EYHA/cw8zMzNcTJn/4GxR3z3yO5r8PWMfG2B/w1Ye3X7E7M9gbGndvYUxn5E8vPM7Bt1Pn7wBp1fW+Z7/uk+K2C5L851//w4Tlrdzcz18Xd+HwP5OzMvx0mL/WCP3xdctteLC5BO8lsuDVheL07yDX9zGb+ODwe6nZl9nHBPzWyo+HOcttr3y3s6Hjn+6Oq9Xpzv3nh7Rft/jT29/3Nmro4T3ft2E/t46f5QfZ8GeO+Xe+Pc94arCwQErADNCAECBAgQIECAAAECBAgQIECAQE9AwOpZ20SAAAECBAgQIECAAAECBAgQIBAICFgBmhECBAgQIECAAAECBAgQIECAAIGegIDVs7aJAAECBAgQIECAAAECBAgQIEAgEBCwAjQjBAgQIECAAAECBAgQIECAAAECPQEBq2dtEwECBAgQIECAAAECBAgQIECAQCAgYAVoRggQIECAAAECBAgQIECAAAECBHoCAlbP2iYCBAgQIECAAAECBAgQIECAAIFAQMAK0IwQIECAAAECBAgQIECAAAECBAj0BASsnrVNBAgQIECAAAECBAgQIECAAAECgYCAFaAZIUCAAAECBAgQIECAAAECBAgQ6AkIWD1rmwgQIECAAAECBAgQIECAAAECBAIBAStAM0KAAAECBAgQIECAAAECBAgQINATELB61jYRIECAAAECBAgQIECAAAECBAgEAgJWgGaEAAECBAgQIECAAAECBAgQIECgJyBg9axtIkCAAAECBAgQIECAAAECBAgQCAQErADNCAECBAgQIECAAAECBAgQIECAQE9AwOpZ20SAAAECBAgQIECAAAECBAgQIBAICFgBmhECBAgQIECAAAECBAgQIECAAIGegIDVs7aJAAECBAgQIECAAAECBAgQIEAgEBCwAjQjBAgQIECAAAECBAgQIECAAAECPQEBq2dtEwECBAgQIECAAAECBAgQIECAQCAgYAVoRggQIECAAAECBAgQIECAAAECBHoCAlbP2iYCBAgQIECAAAECBAgQIECAAIFAQMAK0IwQIECAAAECBAgQIECAAAECBAj0BASsnrVNBAgQIECAAAECBAgQIECAAAECgYCAFaAZIUCAAAECBAgQIECAAAECBAgQ6AkIWD1rmwgQIECAAAECBAgQIECAAAECBAIBAStAM0KAAAECBAgQIECAAAECBAgQINATELB61jYRIECAAAECBAgQIECAAAECBAgEAgJWgGaEAAECBAgQIECAAAECBAgQIECgJyBg9axtIkCAAAECBAgQIECAAAECBAgQCAQErADNCAECBAgQIECAAAECBAgQIECAQE9AwOpZ20SAAAECBAgQIECAAAECBAgQIBAICFgBmhECBAgQIECAAAECBAgQIECAAIGegIDVs7aJAAECBAgQIECAAAECBAgQIEAgEBCwAjQjBAgQIECAAAECBAgQIECAAAECPQEBq2dtEwECBAgQIECAAAECBAgQIECAQCAgYAVoRggQIECAAAECBAgQIECAAAECBHoCAlbP2iYCBAgQIECAAAECBAgQIECAAIFAQMAK0IwQIECAAAECBAgQIECAAAECBAj0BASsnrVNBAgQIECAAAECBAgQIECAAAECgYCAFaAZIUCAAAECBAgQIECAAAECBAgQ6AkIWD1rmwgQIECAAAECBAgQIECAAAECBAIBAStAM0KAAAECBAgQIECAAAECBAgQINATELB61jYRIECAAAECBAgQIECAAAECBAgEAgJWgGaEAAECBAgQIECAAAECBAgQIECgJyBg9axtIkCAAAECBAgQIECAAAECBAgQCAQErADNCAECBAgQIECAAAECBAgQIECAQE9AwOpZ20SAAAECBAgQIECAAAECBAgQIBAICFgBmhECBAgQIECAAAECBAgQIECAAIGegIDVs7aJAAECBAgQIECAAAECBAgQIEAgEBCwAjQjBAgQIECAAAECBAgQIECAAAECPQEBq2dtEwECBAgQIECAAAECBAgQIECAQCAgYAVoRggQIECAAAECBAgQIECAAAECBHoCAlbP2iYCBAgQIECAAAECBAgQIECAAIFAQMAK0IwQIECAAAECBAgQIECAAAECBAj0BASsnrVNBAgQIECAAAECBAgQIECAAAECgYCAFaAZIUCAAAECBAgQIECAAAECBAgQ6AkIWD1rmwgQIECAAAECBAgQIECAAAECBAIBAStAM0KAAAECBAgQIECAAAECBAgQINAT+AcojPquIyNjjQAAAABJRU5ErkJggg==\" width=\"640\">"
      ],
      "text/plain": [
       "<IPython.core.display.HTML object>"
      ]
     },
     "metadata": {},
     "output_type": "display_data"
    },
    {
     "data": {
      "text/plain": [
       "samples:64\n",
       "multi_peak:False\n",
       "multi_pulse:False\n",
       "stride:0\n",
       "type:dot_product_trace\n",
       "signal:filtered\n",
       "offset:5"
      ]
     },
     "execution_count": 31,
     "metadata": {},
     "output_type": "execute_result"
    }
   ],
   "source": [
    "%matplotlib notebook\n",
    "t=94\n",
    "plt.plot(h.traces[t].samples)\n",
    "h.traces[t]"
   ]
  },
  {
   "cell_type": "code",
   "execution_count": 24,
   "metadata": {},
   "outputs": [
    {
     "data": {
      "application/javascript": [
       "/* Put everything inside the global mpl namespace */\n",
       "window.mpl = {};\n",
       "\n",
       "\n",
       "mpl.get_websocket_type = function() {\n",
       "    if (typeof(WebSocket) !== 'undefined') {\n",
       "        return WebSocket;\n",
       "    } else if (typeof(MozWebSocket) !== 'undefined') {\n",
       "        return MozWebSocket;\n",
       "    } else {\n",
       "        alert('Your browser does not have WebSocket support.' +\n",
       "              'Please try Chrome, Safari or Firefox ≥ 6. ' +\n",
       "              'Firefox 4 and 5 are also supported but you ' +\n",
       "              'have to enable WebSockets in about:config.');\n",
       "    };\n",
       "}\n",
       "\n",
       "mpl.figure = function(figure_id, websocket, ondownload, parent_element) {\n",
       "    this.id = figure_id;\n",
       "\n",
       "    this.ws = websocket;\n",
       "\n",
       "    this.supports_binary = (this.ws.binaryType != undefined);\n",
       "\n",
       "    if (!this.supports_binary) {\n",
       "        var warnings = document.getElementById(\"mpl-warnings\");\n",
       "        if (warnings) {\n",
       "            warnings.style.display = 'block';\n",
       "            warnings.textContent = (\n",
       "                \"This browser does not support binary websocket messages. \" +\n",
       "                    \"Performance may be slow.\");\n",
       "        }\n",
       "    }\n",
       "\n",
       "    this.imageObj = new Image();\n",
       "\n",
       "    this.context = undefined;\n",
       "    this.message = undefined;\n",
       "    this.canvas = undefined;\n",
       "    this.rubberband_canvas = undefined;\n",
       "    this.rubberband_context = undefined;\n",
       "    this.format_dropdown = undefined;\n",
       "\n",
       "    this.image_mode = 'full';\n",
       "\n",
       "    this.root = $('<div/>');\n",
       "    this._root_extra_style(this.root)\n",
       "    this.root.attr('style', 'display: inline-block');\n",
       "\n",
       "    $(parent_element).append(this.root);\n",
       "\n",
       "    this._init_header(this);\n",
       "    this._init_canvas(this);\n",
       "    this._init_toolbar(this);\n",
       "\n",
       "    var fig = this;\n",
       "\n",
       "    this.waiting = false;\n",
       "\n",
       "    this.ws.onopen =  function () {\n",
       "            fig.send_message(\"supports_binary\", {value: fig.supports_binary});\n",
       "            fig.send_message(\"send_image_mode\", {});\n",
       "            if (mpl.ratio != 1) {\n",
       "                fig.send_message(\"set_dpi_ratio\", {'dpi_ratio': mpl.ratio});\n",
       "            }\n",
       "            fig.send_message(\"refresh\", {});\n",
       "        }\n",
       "\n",
       "    this.imageObj.onload = function() {\n",
       "            if (fig.image_mode == 'full') {\n",
       "                // Full images could contain transparency (where diff images\n",
       "                // almost always do), so we need to clear the canvas so that\n",
       "                // there is no ghosting.\n",
       "                fig.context.clearRect(0, 0, fig.canvas.width, fig.canvas.height);\n",
       "            }\n",
       "            fig.context.drawImage(fig.imageObj, 0, 0);\n",
       "        };\n",
       "\n",
       "    this.imageObj.onunload = function() {\n",
       "        this.ws.close();\n",
       "    }\n",
       "\n",
       "    this.ws.onmessage = this._make_on_message_function(this);\n",
       "\n",
       "    this.ondownload = ondownload;\n",
       "}\n",
       "\n",
       "mpl.figure.prototype._init_header = function() {\n",
       "    var titlebar = $(\n",
       "        '<div class=\"ui-dialog-titlebar ui-widget-header ui-corner-all ' +\n",
       "        'ui-helper-clearfix\"/>');\n",
       "    var titletext = $(\n",
       "        '<div class=\"ui-dialog-title\" style=\"width: 100%; ' +\n",
       "        'text-align: center; padding: 3px;\"/>');\n",
       "    titlebar.append(titletext)\n",
       "    this.root.append(titlebar);\n",
       "    this.header = titletext[0];\n",
       "}\n",
       "\n",
       "\n",
       "\n",
       "mpl.figure.prototype._canvas_extra_style = function(canvas_div) {\n",
       "\n",
       "}\n",
       "\n",
       "\n",
       "mpl.figure.prototype._root_extra_style = function(canvas_div) {\n",
       "\n",
       "}\n",
       "\n",
       "mpl.figure.prototype._init_canvas = function() {\n",
       "    var fig = this;\n",
       "\n",
       "    var canvas_div = $('<div/>');\n",
       "\n",
       "    canvas_div.attr('style', 'position: relative; clear: both; outline: 0');\n",
       "\n",
       "    function canvas_keyboard_event(event) {\n",
       "        return fig.key_event(event, event['data']);\n",
       "    }\n",
       "\n",
       "    canvas_div.keydown('key_press', canvas_keyboard_event);\n",
       "    canvas_div.keyup('key_release', canvas_keyboard_event);\n",
       "    this.canvas_div = canvas_div\n",
       "    this._canvas_extra_style(canvas_div)\n",
       "    this.root.append(canvas_div);\n",
       "\n",
       "    var canvas = $('<canvas/>');\n",
       "    canvas.addClass('mpl-canvas');\n",
       "    canvas.attr('style', \"left: 0; top: 0; z-index: 0; outline: 0\")\n",
       "\n",
       "    this.canvas = canvas[0];\n",
       "    this.context = canvas[0].getContext(\"2d\");\n",
       "\n",
       "    var backingStore = this.context.backingStorePixelRatio ||\n",
       "\tthis.context.webkitBackingStorePixelRatio ||\n",
       "\tthis.context.mozBackingStorePixelRatio ||\n",
       "\tthis.context.msBackingStorePixelRatio ||\n",
       "\tthis.context.oBackingStorePixelRatio ||\n",
       "\tthis.context.backingStorePixelRatio || 1;\n",
       "\n",
       "    mpl.ratio = (window.devicePixelRatio || 1) / backingStore;\n",
       "\n",
       "    var rubberband = $('<canvas/>');\n",
       "    rubberband.attr('style', \"position: absolute; left: 0; top: 0; z-index: 1;\")\n",
       "\n",
       "    var pass_mouse_events = true;\n",
       "\n",
       "    canvas_div.resizable({\n",
       "        start: function(event, ui) {\n",
       "            pass_mouse_events = false;\n",
       "        },\n",
       "        resize: function(event, ui) {\n",
       "            fig.request_resize(ui.size.width, ui.size.height);\n",
       "        },\n",
       "        stop: function(event, ui) {\n",
       "            pass_mouse_events = true;\n",
       "            fig.request_resize(ui.size.width, ui.size.height);\n",
       "        },\n",
       "    });\n",
       "\n",
       "    function mouse_event_fn(event) {\n",
       "        if (pass_mouse_events)\n",
       "            return fig.mouse_event(event, event['data']);\n",
       "    }\n",
       "\n",
       "    rubberband.mousedown('button_press', mouse_event_fn);\n",
       "    rubberband.mouseup('button_release', mouse_event_fn);\n",
       "    // Throttle sequential mouse events to 1 every 20ms.\n",
       "    rubberband.mousemove('motion_notify', mouse_event_fn);\n",
       "\n",
       "    rubberband.mouseenter('figure_enter', mouse_event_fn);\n",
       "    rubberband.mouseleave('figure_leave', mouse_event_fn);\n",
       "\n",
       "    canvas_div.on(\"wheel\", function (event) {\n",
       "        event = event.originalEvent;\n",
       "        event['data'] = 'scroll'\n",
       "        if (event.deltaY < 0) {\n",
       "            event.step = 1;\n",
       "        } else {\n",
       "            event.step = -1;\n",
       "        }\n",
       "        mouse_event_fn(event);\n",
       "    });\n",
       "\n",
       "    canvas_div.append(canvas);\n",
       "    canvas_div.append(rubberband);\n",
       "\n",
       "    this.rubberband = rubberband;\n",
       "    this.rubberband_canvas = rubberband[0];\n",
       "    this.rubberband_context = rubberband[0].getContext(\"2d\");\n",
       "    this.rubberband_context.strokeStyle = \"#000000\";\n",
       "\n",
       "    this._resize_canvas = function(width, height) {\n",
       "        // Keep the size of the canvas, canvas container, and rubber band\n",
       "        // canvas in synch.\n",
       "        canvas_div.css('width', width)\n",
       "        canvas_div.css('height', height)\n",
       "\n",
       "        canvas.attr('width', width * mpl.ratio);\n",
       "        canvas.attr('height', height * mpl.ratio);\n",
       "        canvas.attr('style', 'width: ' + width + 'px; height: ' + height + 'px;');\n",
       "\n",
       "        rubberband.attr('width', width);\n",
       "        rubberband.attr('height', height);\n",
       "    }\n",
       "\n",
       "    // Set the figure to an initial 600x600px, this will subsequently be updated\n",
       "    // upon first draw.\n",
       "    this._resize_canvas(600, 600);\n",
       "\n",
       "    // Disable right mouse context menu.\n",
       "    $(this.rubberband_canvas).bind(\"contextmenu\",function(e){\n",
       "        return false;\n",
       "    });\n",
       "\n",
       "    function set_focus () {\n",
       "        canvas.focus();\n",
       "        canvas_div.focus();\n",
       "    }\n",
       "\n",
       "    window.setTimeout(set_focus, 100);\n",
       "}\n",
       "\n",
       "mpl.figure.prototype._init_toolbar = function() {\n",
       "    var fig = this;\n",
       "\n",
       "    var nav_element = $('<div/>')\n",
       "    nav_element.attr('style', 'width: 100%');\n",
       "    this.root.append(nav_element);\n",
       "\n",
       "    // Define a callback function for later on.\n",
       "    function toolbar_event(event) {\n",
       "        return fig.toolbar_button_onclick(event['data']);\n",
       "    }\n",
       "    function toolbar_mouse_event(event) {\n",
       "        return fig.toolbar_button_onmouseover(event['data']);\n",
       "    }\n",
       "\n",
       "    for(var toolbar_ind in mpl.toolbar_items) {\n",
       "        var name = mpl.toolbar_items[toolbar_ind][0];\n",
       "        var tooltip = mpl.toolbar_items[toolbar_ind][1];\n",
       "        var image = mpl.toolbar_items[toolbar_ind][2];\n",
       "        var method_name = mpl.toolbar_items[toolbar_ind][3];\n",
       "\n",
       "        if (!name) {\n",
       "            // put a spacer in here.\n",
       "            continue;\n",
       "        }\n",
       "        var button = $('<button/>');\n",
       "        button.addClass('ui-button ui-widget ui-state-default ui-corner-all ' +\n",
       "                        'ui-button-icon-only');\n",
       "        button.attr('role', 'button');\n",
       "        button.attr('aria-disabled', 'false');\n",
       "        button.click(method_name, toolbar_event);\n",
       "        button.mouseover(tooltip, toolbar_mouse_event);\n",
       "\n",
       "        var icon_img = $('<span/>');\n",
       "        icon_img.addClass('ui-button-icon-primary ui-icon');\n",
       "        icon_img.addClass(image);\n",
       "        icon_img.addClass('ui-corner-all');\n",
       "\n",
       "        var tooltip_span = $('<span/>');\n",
       "        tooltip_span.addClass('ui-button-text');\n",
       "        tooltip_span.html(tooltip);\n",
       "\n",
       "        button.append(icon_img);\n",
       "        button.append(tooltip_span);\n",
       "\n",
       "        nav_element.append(button);\n",
       "    }\n",
       "\n",
       "    var fmt_picker_span = $('<span/>');\n",
       "\n",
       "    var fmt_picker = $('<select/>');\n",
       "    fmt_picker.addClass('mpl-toolbar-option ui-widget ui-widget-content');\n",
       "    fmt_picker_span.append(fmt_picker);\n",
       "    nav_element.append(fmt_picker_span);\n",
       "    this.format_dropdown = fmt_picker[0];\n",
       "\n",
       "    for (var ind in mpl.extensions) {\n",
       "        var fmt = mpl.extensions[ind];\n",
       "        var option = $(\n",
       "            '<option/>', {selected: fmt === mpl.default_extension}).html(fmt);\n",
       "        fmt_picker.append(option)\n",
       "    }\n",
       "\n",
       "    // Add hover states to the ui-buttons\n",
       "    $( \".ui-button\" ).hover(\n",
       "        function() { $(this).addClass(\"ui-state-hover\");},\n",
       "        function() { $(this).removeClass(\"ui-state-hover\");}\n",
       "    );\n",
       "\n",
       "    var status_bar = $('<span class=\"mpl-message\"/>');\n",
       "    nav_element.append(status_bar);\n",
       "    this.message = status_bar[0];\n",
       "}\n",
       "\n",
       "mpl.figure.prototype.request_resize = function(x_pixels, y_pixels) {\n",
       "    // Request matplotlib to resize the figure. Matplotlib will then trigger a resize in the client,\n",
       "    // which will in turn request a refresh of the image.\n",
       "    this.send_message('resize', {'width': x_pixels, 'height': y_pixels});\n",
       "}\n",
       "\n",
       "mpl.figure.prototype.send_message = function(type, properties) {\n",
       "    properties['type'] = type;\n",
       "    properties['figure_id'] = this.id;\n",
       "    this.ws.send(JSON.stringify(properties));\n",
       "}\n",
       "\n",
       "mpl.figure.prototype.send_draw_message = function() {\n",
       "    if (!this.waiting) {\n",
       "        this.waiting = true;\n",
       "        this.ws.send(JSON.stringify({type: \"draw\", figure_id: this.id}));\n",
       "    }\n",
       "}\n",
       "\n",
       "\n",
       "mpl.figure.prototype.handle_save = function(fig, msg) {\n",
       "    var format_dropdown = fig.format_dropdown;\n",
       "    var format = format_dropdown.options[format_dropdown.selectedIndex].value;\n",
       "    fig.ondownload(fig, format);\n",
       "}\n",
       "\n",
       "\n",
       "mpl.figure.prototype.handle_resize = function(fig, msg) {\n",
       "    var size = msg['size'];\n",
       "    if (size[0] != fig.canvas.width || size[1] != fig.canvas.height) {\n",
       "        fig._resize_canvas(size[0], size[1]);\n",
       "        fig.send_message(\"refresh\", {});\n",
       "    };\n",
       "}\n",
       "\n",
       "mpl.figure.prototype.handle_rubberband = function(fig, msg) {\n",
       "    var x0 = msg['x0'] / mpl.ratio;\n",
       "    var y0 = (fig.canvas.height - msg['y0']) / mpl.ratio;\n",
       "    var x1 = msg['x1'] / mpl.ratio;\n",
       "    var y1 = (fig.canvas.height - msg['y1']) / mpl.ratio;\n",
       "    x0 = Math.floor(x0) + 0.5;\n",
       "    y0 = Math.floor(y0) + 0.5;\n",
       "    x1 = Math.floor(x1) + 0.5;\n",
       "    y1 = Math.floor(y1) + 0.5;\n",
       "    var min_x = Math.min(x0, x1);\n",
       "    var min_y = Math.min(y0, y1);\n",
       "    var width = Math.abs(x1 - x0);\n",
       "    var height = Math.abs(y1 - y0);\n",
       "\n",
       "    fig.rubberband_context.clearRect(\n",
       "        0, 0, fig.canvas.width, fig.canvas.height);\n",
       "\n",
       "    fig.rubberband_context.strokeRect(min_x, min_y, width, height);\n",
       "}\n",
       "\n",
       "mpl.figure.prototype.handle_figure_label = function(fig, msg) {\n",
       "    // Updates the figure title.\n",
       "    fig.header.textContent = msg['label'];\n",
       "}\n",
       "\n",
       "mpl.figure.prototype.handle_cursor = function(fig, msg) {\n",
       "    var cursor = msg['cursor'];\n",
       "    switch(cursor)\n",
       "    {\n",
       "    case 0:\n",
       "        cursor = 'pointer';\n",
       "        break;\n",
       "    case 1:\n",
       "        cursor = 'default';\n",
       "        break;\n",
       "    case 2:\n",
       "        cursor = 'crosshair';\n",
       "        break;\n",
       "    case 3:\n",
       "        cursor = 'move';\n",
       "        break;\n",
       "    }\n",
       "    fig.rubberband_canvas.style.cursor = cursor;\n",
       "}\n",
       "\n",
       "mpl.figure.prototype.handle_message = function(fig, msg) {\n",
       "    fig.message.textContent = msg['message'];\n",
       "}\n",
       "\n",
       "mpl.figure.prototype.handle_draw = function(fig, msg) {\n",
       "    // Request the server to send over a new figure.\n",
       "    fig.send_draw_message();\n",
       "}\n",
       "\n",
       "mpl.figure.prototype.handle_image_mode = function(fig, msg) {\n",
       "    fig.image_mode = msg['mode'];\n",
       "}\n",
       "\n",
       "mpl.figure.prototype.updated_canvas_event = function() {\n",
       "    // Called whenever the canvas gets updated.\n",
       "    this.send_message(\"ack\", {});\n",
       "}\n",
       "\n",
       "// A function to construct a web socket function for onmessage handling.\n",
       "// Called in the figure constructor.\n",
       "mpl.figure.prototype._make_on_message_function = function(fig) {\n",
       "    return function socket_on_message(evt) {\n",
       "        if (evt.data instanceof Blob) {\n",
       "            /* FIXME: We get \"Resource interpreted as Image but\n",
       "             * transferred with MIME type text/plain:\" errors on\n",
       "             * Chrome.  But how to set the MIME type?  It doesn't seem\n",
       "             * to be part of the websocket stream */\n",
       "            evt.data.type = \"image/png\";\n",
       "\n",
       "            /* Free the memory for the previous frames */\n",
       "            if (fig.imageObj.src) {\n",
       "                (window.URL || window.webkitURL).revokeObjectURL(\n",
       "                    fig.imageObj.src);\n",
       "            }\n",
       "\n",
       "            fig.imageObj.src = (window.URL || window.webkitURL).createObjectURL(\n",
       "                evt.data);\n",
       "            fig.updated_canvas_event();\n",
       "            fig.waiting = false;\n",
       "            return;\n",
       "        }\n",
       "        else if (typeof evt.data === 'string' && evt.data.slice(0, 21) == \"data:image/png;base64\") {\n",
       "            fig.imageObj.src = evt.data;\n",
       "            fig.updated_canvas_event();\n",
       "            fig.waiting = false;\n",
       "            return;\n",
       "        }\n",
       "\n",
       "        var msg = JSON.parse(evt.data);\n",
       "        var msg_type = msg['type'];\n",
       "\n",
       "        // Call the  \"handle_{type}\" callback, which takes\n",
       "        // the figure and JSON message as its only arguments.\n",
       "        try {\n",
       "            var callback = fig[\"handle_\" + msg_type];\n",
       "        } catch (e) {\n",
       "            console.log(\"No handler for the '\" + msg_type + \"' message type: \", msg);\n",
       "            return;\n",
       "        }\n",
       "\n",
       "        if (callback) {\n",
       "            try {\n",
       "                // console.log(\"Handling '\" + msg_type + \"' message: \", msg);\n",
       "                callback(fig, msg);\n",
       "            } catch (e) {\n",
       "                console.log(\"Exception inside the 'handler_\" + msg_type + \"' callback:\", e, e.stack, msg);\n",
       "            }\n",
       "        }\n",
       "    };\n",
       "}\n",
       "\n",
       "// from http://stackoverflow.com/questions/1114465/getting-mouse-location-in-canvas\n",
       "mpl.findpos = function(e) {\n",
       "    //this section is from http://www.quirksmode.org/js/events_properties.html\n",
       "    var targ;\n",
       "    if (!e)\n",
       "        e = window.event;\n",
       "    if (e.target)\n",
       "        targ = e.target;\n",
       "    else if (e.srcElement)\n",
       "        targ = e.srcElement;\n",
       "    if (targ.nodeType == 3) // defeat Safari bug\n",
       "        targ = targ.parentNode;\n",
       "\n",
       "    // jQuery normalizes the pageX and pageY\n",
       "    // pageX,Y are the mouse positions relative to the document\n",
       "    // offset() returns the position of the element relative to the document\n",
       "    var x = e.pageX - $(targ).offset().left;\n",
       "    var y = e.pageY - $(targ).offset().top;\n",
       "\n",
       "    return {\"x\": x, \"y\": y};\n",
       "};\n",
       "\n",
       "/*\n",
       " * return a copy of an object with only non-object keys\n",
       " * we need this to avoid circular references\n",
       " * http://stackoverflow.com/a/24161582/3208463\n",
       " */\n",
       "function simpleKeys (original) {\n",
       "  return Object.keys(original).reduce(function (obj, key) {\n",
       "    if (typeof original[key] !== 'object')\n",
       "        obj[key] = original[key]\n",
       "    return obj;\n",
       "  }, {});\n",
       "}\n",
       "\n",
       "mpl.figure.prototype.mouse_event = function(event, name) {\n",
       "    var canvas_pos = mpl.findpos(event)\n",
       "\n",
       "    if (name === 'button_press')\n",
       "    {\n",
       "        this.canvas.focus();\n",
       "        this.canvas_div.focus();\n",
       "    }\n",
       "\n",
       "    var x = canvas_pos.x * mpl.ratio;\n",
       "    var y = canvas_pos.y * mpl.ratio;\n",
       "\n",
       "    this.send_message(name, {x: x, y: y, button: event.button,\n",
       "                             step: event.step,\n",
       "                             guiEvent: simpleKeys(event)});\n",
       "\n",
       "    /* This prevents the web browser from automatically changing to\n",
       "     * the text insertion cursor when the button is pressed.  We want\n",
       "     * to control all of the cursor setting manually through the\n",
       "     * 'cursor' event from matplotlib */\n",
       "    event.preventDefault();\n",
       "    return false;\n",
       "}\n",
       "\n",
       "mpl.figure.prototype._key_event_extra = function(event, name) {\n",
       "    // Handle any extra behaviour associated with a key event\n",
       "}\n",
       "\n",
       "mpl.figure.prototype.key_event = function(event, name) {\n",
       "\n",
       "    // Prevent repeat events\n",
       "    if (name == 'key_press')\n",
       "    {\n",
       "        if (event.which === this._key)\n",
       "            return;\n",
       "        else\n",
       "            this._key = event.which;\n",
       "    }\n",
       "    if (name == 'key_release')\n",
       "        this._key = null;\n",
       "\n",
       "    var value = '';\n",
       "    if (event.ctrlKey && event.which != 17)\n",
       "        value += \"ctrl+\";\n",
       "    if (event.altKey && event.which != 18)\n",
       "        value += \"alt+\";\n",
       "    if (event.shiftKey && event.which != 16)\n",
       "        value += \"shift+\";\n",
       "\n",
       "    value += 'k';\n",
       "    value += event.which.toString();\n",
       "\n",
       "    this._key_event_extra(event, name);\n",
       "\n",
       "    this.send_message(name, {key: value,\n",
       "                             guiEvent: simpleKeys(event)});\n",
       "    return false;\n",
       "}\n",
       "\n",
       "mpl.figure.prototype.toolbar_button_onclick = function(name) {\n",
       "    if (name == 'download') {\n",
       "        this.handle_save(this, null);\n",
       "    } else {\n",
       "        this.send_message(\"toolbar_button\", {name: name});\n",
       "    }\n",
       "};\n",
       "\n",
       "mpl.figure.prototype.toolbar_button_onmouseover = function(tooltip) {\n",
       "    this.message.textContent = tooltip;\n",
       "};\n",
       "mpl.toolbar_items = [[\"Home\", \"Reset original view\", \"fa fa-home icon-home\", \"home\"], [\"Back\", \"Back to  previous view\", \"fa fa-arrow-left icon-arrow-left\", \"back\"], [\"Forward\", \"Forward to next view\", \"fa fa-arrow-right icon-arrow-right\", \"forward\"], [\"\", \"\", \"\", \"\"], [\"Pan\", \"Pan axes with left mouse, zoom with right\", \"fa fa-arrows icon-move\", \"pan\"], [\"Zoom\", \"Zoom to rectangle\", \"fa fa-square-o icon-check-empty\", \"zoom\"], [\"\", \"\", \"\", \"\"], [\"Download\", \"Download plot\", \"fa fa-floppy-o icon-save\", \"download\"]];\n",
       "\n",
       "mpl.extensions = [\"eps\", \"pdf\", \"png\", \"ps\", \"raw\", \"svg\"];\n",
       "\n",
       "mpl.default_extension = \"png\";var comm_websocket_adapter = function(comm) {\n",
       "    // Create a \"websocket\"-like object which calls the given IPython comm\n",
       "    // object with the appropriate methods. Currently this is a non binary\n",
       "    // socket, so there is still some room for performance tuning.\n",
       "    var ws = {};\n",
       "\n",
       "    ws.close = function() {\n",
       "        comm.close()\n",
       "    };\n",
       "    ws.send = function(m) {\n",
       "        //console.log('sending', m);\n",
       "        comm.send(m);\n",
       "    };\n",
       "    // Register the callback with on_msg.\n",
       "    comm.on_msg(function(msg) {\n",
       "        //console.log('receiving', msg['content']['data'], msg);\n",
       "        // Pass the mpl event to the overriden (by mpl) onmessage function.\n",
       "        ws.onmessage(msg['content']['data'])\n",
       "    });\n",
       "    return ws;\n",
       "}\n",
       "\n",
       "mpl.mpl_figure_comm = function(comm, msg) {\n",
       "    // This is the function which gets called when the mpl process\n",
       "    // starts-up an IPython Comm through the \"matplotlib\" channel.\n",
       "\n",
       "    var id = msg.content.data.id;\n",
       "    // Get hold of the div created by the display call when the Comm\n",
       "    // socket was opened in Python.\n",
       "    var element = $(\"#\" + id);\n",
       "    var ws_proxy = comm_websocket_adapter(comm)\n",
       "\n",
       "    function ondownload(figure, format) {\n",
       "        window.open(figure.imageObj.src);\n",
       "    }\n",
       "\n",
       "    var fig = new mpl.figure(id, ws_proxy,\n",
       "                           ondownload,\n",
       "                           element.get(0));\n",
       "\n",
       "    // Call onopen now - mpl needs it, as it is assuming we've passed it a real\n",
       "    // web socket which is closed, not our websocket->open comm proxy.\n",
       "    ws_proxy.onopen();\n",
       "\n",
       "    fig.parent_element = element.get(0);\n",
       "    fig.cell_info = mpl.find_output_cell(\"<div id='\" + id + \"'></div>\");\n",
       "    if (!fig.cell_info) {\n",
       "        console.error(\"Failed to find cell for figure\", id, fig);\n",
       "        return;\n",
       "    }\n",
       "\n",
       "    var output_index = fig.cell_info[2]\n",
       "    var cell = fig.cell_info[0];\n",
       "\n",
       "};\n",
       "\n",
       "mpl.figure.prototype.handle_close = function(fig, msg) {\n",
       "    var width = fig.canvas.width/mpl.ratio\n",
       "    fig.root.unbind('remove')\n",
       "\n",
       "    // Update the output cell to use the data from the current canvas.\n",
       "    fig.push_to_output();\n",
       "    var dataURL = fig.canvas.toDataURL();\n",
       "    // Re-enable the keyboard manager in IPython - without this line, in FF,\n",
       "    // the notebook keyboard shortcuts fail.\n",
       "    IPython.keyboard_manager.enable()\n",
       "    $(fig.parent_element).html('<img src=\"' + dataURL + '\" width=\"' + width + '\">');\n",
       "    fig.close_ws(fig, msg);\n",
       "}\n",
       "\n",
       "mpl.figure.prototype.close_ws = function(fig, msg){\n",
       "    fig.send_message('closing', msg);\n",
       "    // fig.ws.close()\n",
       "}\n",
       "\n",
       "mpl.figure.prototype.push_to_output = function(remove_interactive) {\n",
       "    // Turn the data on the canvas into data in the output cell.\n",
       "    var width = this.canvas.width/mpl.ratio\n",
       "    var dataURL = this.canvas.toDataURL();\n",
       "    this.cell_info[1]['text/html'] = '<img src=\"' + dataURL + '\" width=\"' + width + '\">';\n",
       "}\n",
       "\n",
       "mpl.figure.prototype.updated_canvas_event = function() {\n",
       "    // Tell IPython that the notebook contents must change.\n",
       "    IPython.notebook.set_dirty(true);\n",
       "    this.send_message(\"ack\", {});\n",
       "    var fig = this;\n",
       "    // Wait a second, then push the new image to the DOM so\n",
       "    // that it is saved nicely (might be nice to debounce this).\n",
       "    setTimeout(function () { fig.push_to_output() }, 1000);\n",
       "}\n",
       "\n",
       "mpl.figure.prototype._init_toolbar = function() {\n",
       "    var fig = this;\n",
       "\n",
       "    var nav_element = $('<div/>')\n",
       "    nav_element.attr('style', 'width: 100%');\n",
       "    this.root.append(nav_element);\n",
       "\n",
       "    // Define a callback function for later on.\n",
       "    function toolbar_event(event) {\n",
       "        return fig.toolbar_button_onclick(event['data']);\n",
       "    }\n",
       "    function toolbar_mouse_event(event) {\n",
       "        return fig.toolbar_button_onmouseover(event['data']);\n",
       "    }\n",
       "\n",
       "    for(var toolbar_ind in mpl.toolbar_items){\n",
       "        var name = mpl.toolbar_items[toolbar_ind][0];\n",
       "        var tooltip = mpl.toolbar_items[toolbar_ind][1];\n",
       "        var image = mpl.toolbar_items[toolbar_ind][2];\n",
       "        var method_name = mpl.toolbar_items[toolbar_ind][3];\n",
       "\n",
       "        if (!name) { continue; };\n",
       "\n",
       "        var button = $('<button class=\"btn btn-default\" href=\"#\" title=\"' + name + '\"><i class=\"fa ' + image + ' fa-lg\"></i></button>');\n",
       "        button.click(method_name, toolbar_event);\n",
       "        button.mouseover(tooltip, toolbar_mouse_event);\n",
       "        nav_element.append(button);\n",
       "    }\n",
       "\n",
       "    // Add the status bar.\n",
       "    var status_bar = $('<span class=\"mpl-message\" style=\"text-align:right; float: right;\"/>');\n",
       "    nav_element.append(status_bar);\n",
       "    this.message = status_bar[0];\n",
       "\n",
       "    // Add the close button to the window.\n",
       "    var buttongrp = $('<div class=\"btn-group inline pull-right\"></div>');\n",
       "    var button = $('<button class=\"btn btn-mini btn-primary\" href=\"#\" title=\"Stop Interaction\"><i class=\"fa fa-power-off icon-remove icon-large\"></i></button>');\n",
       "    button.click(function (evt) { fig.handle_close(fig, {}); } );\n",
       "    button.mouseover('Stop Interaction', toolbar_mouse_event);\n",
       "    buttongrp.append(button);\n",
       "    var titlebar = this.root.find($('.ui-dialog-titlebar'));\n",
       "    titlebar.prepend(buttongrp);\n",
       "}\n",
       "\n",
       "mpl.figure.prototype._root_extra_style = function(el){\n",
       "    var fig = this\n",
       "    el.on(\"remove\", function(){\n",
       "\tfig.close_ws(fig, {});\n",
       "    });\n",
       "}\n",
       "\n",
       "mpl.figure.prototype._canvas_extra_style = function(el){\n",
       "    // this is important to make the div 'focusable\n",
       "    el.attr('tabindex', 0)\n",
       "    // reach out to IPython and tell the keyboard manager to turn it's self\n",
       "    // off when our div gets focus\n",
       "\n",
       "    // location in version 3\n",
       "    if (IPython.notebook.keyboard_manager) {\n",
       "        IPython.notebook.keyboard_manager.register_events(el);\n",
       "    }\n",
       "    else {\n",
       "        // location in version 2\n",
       "        IPython.keyboard_manager.register_events(el);\n",
       "    }\n",
       "\n",
       "}\n",
       "\n",
       "mpl.figure.prototype._key_event_extra = function(event, name) {\n",
       "    var manager = IPython.notebook.keyboard_manager;\n",
       "    if (!manager)\n",
       "        manager = IPython.keyboard_manager;\n",
       "\n",
       "    // Check for shift+enter\n",
       "    if (event.shiftKey && event.which == 13) {\n",
       "        this.canvas_div.blur();\n",
       "        // select the cell after this one\n",
       "        var index = IPython.notebook.find_cell_index(this.cell_info[0]);\n",
       "        IPython.notebook.select(index + 1);\n",
       "    }\n",
       "}\n",
       "\n",
       "mpl.figure.prototype.handle_save = function(fig, msg) {\n",
       "    fig.ondownload(fig, null);\n",
       "}\n",
       "\n",
       "\n",
       "mpl.find_output_cell = function(html_output) {\n",
       "    // Return the cell and output element which can be found *uniquely* in the notebook.\n",
       "    // Note - this is a bit hacky, but it is done because the \"notebook_saving.Notebook\"\n",
       "    // IPython event is triggered only after the cells have been serialised, which for\n",
       "    // our purposes (turning an active figure into a static one), is too late.\n",
       "    var cells = IPython.notebook.get_cells();\n",
       "    var ncells = cells.length;\n",
       "    for (var i=0; i<ncells; i++) {\n",
       "        var cell = cells[i];\n",
       "        if (cell.cell_type === 'code'){\n",
       "            for (var j=0; j<cell.output_area.outputs.length; j++) {\n",
       "                var data = cell.output_area.outputs[j];\n",
       "                if (data.data) {\n",
       "                    // IPython >= 3 moved mimebundle to data attribute of output\n",
       "                    data = data.data;\n",
       "                }\n",
       "                if (data['text/html'] == html_output) {\n",
       "                    return [cell, data, j];\n",
       "                }\n",
       "            }\n",
       "        }\n",
       "    }\n",
       "}\n",
       "\n",
       "// Register the function which deals with the matplotlib target/channel.\n",
       "// The kernel may be null if the page has been refreshed.\n",
       "if (IPython.notebook.kernel != null) {\n",
       "    IPython.notebook.kernel.comm_manager.register_target('matplotlib', mpl.mpl_figure_comm);\n",
       "}\n"
      ],
      "text/plain": [
       "<IPython.core.display.Javascript object>"
      ]
     },
     "metadata": {},
     "output_type": "display_data"
    },
    {
     "data": {
      "text/html": [
       "<img src=\"data:image/png;base64,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\" width=\"640\">"
      ],
      "text/plain": [
       "<IPython.core.display.HTML object>"
      ]
     },
     "metadata": {},
     "output_type": "display_data"
    },
    {
     "data": {
      "text/plain": [
       "[<matplotlib.lines.Line2D at 0x9279e80>]"
      ]
     },
     "execution_count": 24,
     "metadata": {},
     "output_type": "execute_result"
    }
   ],
   "source": [
    "%matplotlib notebook\n",
    "dp_trace=h.traces[92].samples\n",
    "plt.plot(dp_trace)"
   ]
  },
  {
   "cell_type": "code",
   "execution_count": 32,
   "metadata": {},
   "outputs": [
    {
     "data": {
      "text/plain": [
       "True"
      ]
     },
     "execution_count": 32,
     "metadata": {},
     "output_type": "execute_result"
    }
   ],
   "source": [
    "dp=sum(np.uint64(h.traces[t].samples)*np.uint64(dp_trace))\n",
    "dp==h.traces[t].dot_product"
   ]
  },
  {
   "cell_type": "code",
   "execution_count": 33,
   "metadata": {},
   "outputs": [
    {
     "data": {
      "text/plain": [
       "286618970.0"
      ]
     },
     "execution_count": 33,
     "metadata": {},
     "output_type": "execute_result"
    }
   ],
   "source": [
    "dp"
   ]
  },
  {
   "cell_type": "code",
   "execution_count": null,
   "metadata": {
    "collapsed": true
   },
   "outputs": [],
   "source": [
    "trace_header_dt=np.dtype([('size',np.uint16),('trace_flags',np.uint8,(2,))])"
   ]
  },
  {
   "cell_type": "code",
   "execution_count": null,
   "metadata": {},
   "outputs": [],
   "source": [
    "from tes.hdf5 import TraceFlags\n",
    "TraceFlags(h.frames[325].payload[2:4])"
   ]
  },
  {
   "cell_type": "code",
   "execution_count": null,
   "metadata": {},
   "outputs": [],
   "source": [
    "h.traces[92]"
   ]
  },
  {
   "cell_type": "code",
   "execution_count": null,
   "metadata": {},
   "outputs": [],
   "source": [
    "h.h['traces'][1]"
   ]
  },
  {
   "cell_type": "code",
   "execution_count": null,
   "metadata": {
    "collapsed": true
   },
   "outputs": [],
   "source": [
    "packets[0]['data'][24:]"
   ]
  },
  {
   "cell_type": "code",
   "execution_count": null,
   "metadata": {},
   "outputs": [],
   "source": []
  },
  {
   "cell_type": "code",
   "execution_count": null,
   "metadata": {
    "collapsed": true
   },
   "outputs": [],
   "source": [
    "h.distributions[0].stop_time"
   ]
  },
  {
   "cell_type": "code",
   "execution_count": null,
   "metadata": {
    "collapsed": true
   },
   "outputs": [],
   "source": [
    "%matplotlib notebook\n",
    "plt.plot(h.distributions[0].bins,'.')"
   ]
  },
  {
   "cell_type": "code",
   "execution_count": null,
   "metadata": {
    "collapsed": true
   },
   "outputs": [],
   "source": [
    "h.frames[1].payload_type"
   ]
  },
  {
   "cell_type": "code",
   "execution_count": null,
   "metadata": {
    "collapsed": true
   },
   "outputs": [],
   "source": [
    "h.frames[52].payload"
   ]
  },
  {
   "cell_type": "code",
   "execution_count": null,
   "metadata": {
    "collapsed": true
   },
   "outputs": [],
   "source": [
    "frame_header_dt.names"
   ]
  },
  {
   "cell_type": "code",
   "execution_count": null,
   "metadata": {
    "collapsed": true
   },
   "outputs": [],
   "source": [
    "h.close()"
   ]
  },
  {
   "cell_type": "code",
   "execution_count": null,
   "metadata": {
    "collapsed": true
   },
   "outputs": [],
   "source": [
    "stream=Data.fromfile('bytestream',stream_dt,'teslib','measurement_subsystem_TB',tool='vivado')\n",
    "packets=_PacketData(stream)\n",
    "del stream\n",
    "# _import(packets)\n",
    "# h=h5py.File('TES.hdf5','r')"
   ]
  },
  {
   "cell_type": "code",
   "execution_count": null,
   "metadata": {
    "collapsed": true
   },
   "outputs": [],
   "source": [
    "packets[1]['data']"
   ]
  },
  {
   "cell_type": "code",
   "execution_count": null,
   "metadata": {
    "collapsed": true
   },
   "outputs": [],
   "source": [
    "packets[51]\n"
   ]
  },
  {
   "cell_type": "code",
   "execution_count": null,
   "metadata": {
    "collapsed": true
   },
   "outputs": [],
   "source": [
    "h.close()"
   ]
  },
  {
   "cell_type": "code",
   "execution_count": null,
   "metadata": {
    "collapsed": true
   },
   "outputs": [],
   "source": [
    "len(h['traces'])"
   ]
  },
  {
   "cell_type": "code",
   "execution_count": null,
   "metadata": {
    "collapsed": true
   },
   "outputs": [],
   "source": [
    "t=h['raw_data/event'][h['traces'][5]]"
   ]
  },
  {
   "cell_type": "code",
   "execution_count": null,
   "metadata": {
    "collapsed": true
   },
   "outputs": [],
   "source": [
    "%matplotlib notebook\n",
    "t=h['raw_data/event'][h['traces'][5]]\n",
    "tr=Trace(t)\n",
    "print(tr.flags,'\\n',tr.trace_flags)\n",
    "plt.plot(tr.samples)"
   ]
  },
  {
   "cell_type": "code",
   "execution_count": null,
   "metadata": {
    "collapsed": true
   },
   "outputs": [],
   "source": [
    "tr"
   ]
  },
  {
   "cell_type": "code",
   "execution_count": null,
   "metadata": {
    "collapsed": true
   },
   "outputs": [],
   "source": [
    "s=str(tr.flags)\n",
    "s"
   ]
  },
  {
   "cell_type": "code",
   "execution_count": null,
   "metadata": {
    "collapsed": true
   },
   "outputs": [],
   "source": [
    "print(s)"
   ]
  },
  {
   "cell_type": "code",
   "execution_count": null,
   "metadata": {
    "collapsed": true
   },
   "outputs": [],
   "source": [
    "type(h['raw_data/event'][h['traces'][0]])"
   ]
  },
  {
   "cell_type": "code",
   "execution_count": null,
   "metadata": {
    "collapsed": true
   },
   "outputs": [],
   "source": [
    "from tes.hdf5 import Trace"
   ]
  },
  {
   "cell_type": "code",
   "execution_count": null,
   "metadata": {
    "collapsed": true
   },
   "outputs": [],
   "source": [
    "tr.flags"
   ]
  },
  {
   "cell_type": "code",
   "execution_count": null,
   "metadata": {
    "collapsed": true
   },
   "outputs": [],
   "source": [
    "tr.trace_flags"
   ]
  },
  {
   "cell_type": "code",
   "execution_count": null,
   "metadata": {
    "collapsed": true
   },
   "outputs": [],
   "source": [
    "%matplotlib notebook\n",
    "plt.plot(tr.samples)"
   ]
  },
  {
   "cell_type": "code",
   "execution_count": null,
   "metadata": {
    "collapsed": true
   },
   "outputs": [],
   "source": [
    "len(tr.samples)"
   ]
  },
  {
   "cell_type": "code",
   "execution_count": null,
   "metadata": {
    "collapsed": true
   },
   "outputs": [],
   "source": [
    "first_dt = np.dtype([('size', np.uint16), ('tflags0', np.uint8), ('tflags1', np.uint8),\n",
    "        ('flags0', np.uint8), ('flags1', np.uint8), ('time', np.uint16)])\n",
    "\n"
   ]
  },
  {
   "cell_type": "code",
   "execution_count": null,
   "metadata": {
    "collapsed": true
   },
   "outputs": [],
   "source": []
  },
  {
   "cell_type": "code",
   "execution_count": null,
   "metadata": {
    "collapsed": true
   },
   "outputs": [],
   "source": [
    "t[0:8].view(first_dt)"
   ]
  },
  {
   "cell_type": "code",
   "execution_count": null,
   "metadata": {
    "collapsed": true
   },
   "outputs": [],
   "source": []
  },
  {
   "cell_type": "code",
   "execution_count": null,
   "metadata": {
    "collapsed": true
   },
   "outputs": [],
   "source": [
    "_rref = h5py.special_dtype(ref=h5py.RegionReference)\n",
    "h=h5py.File('test.hdf5', 'w')"
   ]
  },
  {
   "cell_type": "code",
   "execution_count": null,
   "metadata": {
    "collapsed": true
   },
   "outputs": [],
   "source": [
    "h.close()"
   ]
  },
  {
   "cell_type": "code",
   "execution_count": null,
   "metadata": {
    "collapsed": true
   },
   "outputs": [],
   "source": [
    "t= np.array((10,),'u1')\n",
    "h.create_dataset('t',(10,),dtype='u1')"
   ]
  },
  {
   "cell_type": "code",
   "execution_count": null,
   "metadata": {
    "collapsed": true
   },
   "outputs": [],
   "source": [
    "h.create_dataset('r',(10,),dtype=_rref)"
   ]
  },
  {
   "cell_type": "code",
   "execution_count": null,
   "metadata": {
    "collapsed": true
   },
   "outputs": [],
   "source": [
    "h.create_dataset('s',(10,),dtype='u1')"
   ]
  },
  {
   "cell_type": "code",
   "execution_count": null,
   "metadata": {
    "collapsed": true
   },
   "outputs": [],
   "source": [
    "h['s'][0]=0\n",
    "h['s'][1]=1"
   ]
  },
  {
   "cell_type": "code",
   "execution_count": null,
   "metadata": {
    "collapsed": true
   },
   "outputs": [],
   "source": [
    "h['r'][0]=h['t'].regionref[0:2]"
   ]
  },
  {
   "cell_type": "code",
   "execution_count": null,
   "metadata": {
    "collapsed": true
   },
   "outputs": [],
   "source": [
    "r=h['r'][0]"
   ]
  },
  {
   "cell_type": "code",
   "execution_count": null,
   "metadata": {
    "collapsed": true
   },
   "outputs": [],
   "source": [
    "t= np.array([0,1,2],'u1')"
   ]
  },
  {
   "cell_type": "code",
   "execution_count": null,
   "metadata": {
    "collapsed": true
   },
   "outputs": [],
   "source": [
    "t = [0,1]\n",
    "\n",
    "f = np.uint64(0)\n",
    "print(type(f))\n",
    "f += len(t)\n",
    "print(type(f))"
   ]
  },
  {
   "cell_type": "code",
   "execution_count": null,
   "metadata": {
    "collapsed": true
   },
   "outputs": [],
   "source": [
    "t[0:1][0]"
   ]
  },
  {
   "cell_type": "code",
   "execution_count": null,
   "metadata": {
    "collapsed": true
   },
   "outputs": [],
   "source": [
    "i=0\n",
    "for p in packets:\n",
    "    if i==7:\n",
    "        break\n",
    "    i+=1"
   ]
  },
  {
   "cell_type": "code",
   "execution_count": null,
   "metadata": {
    "collapsed": true
   },
   "outputs": [],
   "source": [
    "p"
   ]
  },
  {
   "cell_type": "code",
   "execution_count": null,
   "metadata": {
    "collapsed": true
   },
   "outputs": [],
   "source": [
    "lasts = np.where(stream['last'] < 0)[0] + 1"
   ]
  },
  {
   "cell_type": "code",
   "execution_count": null,
   "metadata": {
    "collapsed": true
   },
   "outputs": [],
   "source": [
    "lasts"
   ]
  },
  {
   "cell_type": "code",
   "execution_count": null,
   "metadata": {
    "collapsed": true
   },
   "outputs": [],
   "source": [
    "'last' in stream.dtype.names"
   ]
  },
  {
   "cell_type": "code",
   "execution_count": null,
   "metadata": {
    "collapsed": true
   },
   "outputs": [],
   "source": [
    "isinstance(stream,np.ndarray)"
   ]
  },
  {
   "cell_type": "code",
   "execution_count": null,
   "metadata": {
    "collapsed": true
   },
   "outputs": [],
   "source": [
    "type('poo')"
   ]
  },
  {
   "cell_type": "code",
   "execution_count": null,
   "metadata": {
    "collapsed": true
   },
   "outputs": [],
   "source": [
    "stream[lasts[0]:]"
   ]
  },
  {
   "cell_type": "code",
   "execution_count": null,
   "metadata": {
    "collapsed": true
   },
   "outputs": [],
   "source": [
    "ps=PacketStream(stream)\n",
    "# ps.traces"
   ]
  },
  {
   "cell_type": "code",
   "execution_count": null,
   "metadata": {
    "collapsed": true
   },
   "outputs": [],
   "source": [
    "type(ps[0])"
   ]
  },
  {
   "cell_type": "code",
   "execution_count": null,
   "metadata": {
    "collapsed": true
   },
   "outputs": [],
   "source": [
    "sum(stream['last']<0)"
   ]
  },
  {
   "cell_type": "code",
   "execution_count": null,
   "metadata": {
    "collapsed": true
   },
   "outputs": [],
   "source": [
    "%matplotlib notebook\n",
    "\n",
    "plt.plot(ps.traces[3]._view['trace'])\n",
    "# ps.traces[2]._view['trace'][-20:]"
   ]
  },
  {
   "cell_type": "code",
   "execution_count": null,
   "metadata": {
    "collapsed": true
   },
   "outputs": [],
   "source": [
    "ps.traces"
   ]
  },
  {
   "cell_type": "code",
   "execution_count": null,
   "metadata": {
    "collapsed": true,
    "run_control": {
     "frozen": false,
     "read_only": false
    },
    "scrolled": true
   },
   "outputs": [],
   "source": [
    "traces=Data.fromfile('traces',trace_dt,'teslib','measurement_subsystem_TB',tool='vivado')\n",
    "stream=Data.fromfile('bytestream',stream_dt,'teslib','measurement_subsystem_TB',tool='vivado')\n",
    "bs=PacketStream(stream)\n",
    "dists=bs.distributions\n",
    "#bs.packets\n",
    "dists"
   ]
  },
  {
   "cell_type": "code",
   "execution_count": null,
   "metadata": {
    "collapsed": true
   },
   "outputs": [],
   "source": [
    "d=dists[0]\n",
    "d.counts[-1]"
   ]
  },
  {
   "cell_type": "code",
   "execution_count": null,
   "metadata": {
    "collapsed": true
   },
   "outputs": [],
   "source": [
    "d.total+d.underflow+d.overflow"
   ]
  },
  {
   "cell_type": "code",
   "execution_count": null,
   "metadata": {
    "collapsed": true
   },
   "outputs": [],
   "source": [
    "%matplotlib notebook\n",
    "plt.plot(d.bins)"
   ]
  },
  {
   "cell_type": "code",
   "execution_count": null,
   "metadata": {
    "collapsed": true,
    "scrolled": false
   },
   "outputs": [],
   "source": [
    "f=EventFlags(es[2][2]['flags'])\n",
    "f.channel"
   ]
  },
  {
   "cell_type": "code",
   "execution_count": null,
   "metadata": {
    "collapsed": true,
    "run_control": {
     "frozen": false,
     "read_only": false
    },
    "scrolled": true
   },
   "outputs": [],
   "source": [
    "import tes.mca as mca\n",
    "d=bs.distributions[0]\n",
    "eset=np.uint64(1)\n",
    "bset=np.uint64(0)\n",
    "cset=np.uint64(20)\n",
    "\n",
    "stop=d.stop_time+eset+cset\n",
    "start=d.start_time+bset+cset\n",
    "bins=np.zeros((d.last_bin+1,),dtype=np.uint32)\n",
    "\n",
    "if d.value==mca.Value.raw_signal:\n",
    "    tname='raw'\n",
    "elif d.value==mca.Value.filtered_signal:\n",
    "    tname='filtered'\n",
    "elif d.value==mca.Value.slope_signal:\n",
    "    tname='slope'\n",
    "\n",
    "for i in range(start,stop):\n",
    "    s = traces[tname][i]\n",
    "    if s < d.lowest_value:\n",
    "        bins[0] += 1\n",
    "    else:\n",
    "        bin_number = s - d.lowest_value + 1\n",
    "        if bin_number < d.last_bin:\n",
    "            bins[bin_number] += 1\n",
    "        else:\n",
    "            bins[d.last_bin] += 1\n",
    "        \n",
    "bad=(bins-d.counts).nonzero()\n",
    "bad"
   ]
  },
  {
   "cell_type": "code",
   "execution_count": null,
   "metadata": {
    "collapsed": true
   },
   "outputs": [],
   "source": [
    "d.counts[bad][1:10]"
   ]
  },
  {
   "cell_type": "code",
   "execution_count": null,
   "metadata": {
    "collapsed": true
   },
   "outputs": [],
   "source": [
    "bins[bad][1:10]"
   ]
  },
  {
   "cell_type": "code",
   "execution_count": null,
   "metadata": {
    "collapsed": true
   },
   "outputs": [],
   "source": [
    "d.value"
   ]
  },
  {
   "cell_type": "code",
   "execution_count": null,
   "metadata": {
    "collapsed": true,
    "scrolled": false
   },
   "outputs": [],
   "source": [
    "%matplotlib notebook\n",
    "plt.step(np.arange(len(d.bins)),d.bins)\n",
    "# plt.step(np.arange(len(d.counts)),bins)\n",
    "plt.plot(bad,np.zeros_like(bad),'.k')"
   ]
  },
  {
   "cell_type": "code",
   "execution_count": null,
   "metadata": {
    "collapsed": true
   },
   "outputs": [],
   "source": [
    "sum(d.counts)"
   ]
  },
  {
   "cell_type": "code",
   "execution_count": null,
   "metadata": {
    "collapsed": true
   },
   "outputs": [],
   "source": [
    "2**14+2000"
   ]
  },
  {
   "cell_type": "code",
   "execution_count": null,
   "metadata": {
    "collapsed": true,
    "run_control": {
     "frozen": false,
     "read_only": false
    }
   },
   "outputs": [],
   "source": [
    "def plot_event(event_tupple):\n",
    "    pre=200\n",
    "    post=1000\n",
    "    timestamp=event_tupple[0]\n",
    "    event_type=event_tupple[1]\n",
    "    event=event_tupple[2]\n",
    "    flags=EventFlags(event['flags'])\n",
    "    print(flags)\n",
    "    print('timestamp',timestamp, 'time', event['time'])\n",
    "    if flags.type == Event.tick:\n",
    "        return\n",
    "    s=traces['filtered'][timestamp+20-pre:timestamp+20+post]\n",
    "    r=traces['raw'][timestamp+20-pre:timestamp+20+post]\n",
    "    i = np.where(abs(minmax['clk'])<=timestamp+20)[0][-1]\n",
    "    min_t=abs(minmax['clk'][i])-(timestamp+20)\n",
    "#     print(minmax['clk'][i],min_t,i,timestamp)\n",
    "    plt.plot(r,'k',linewidth=0.5)\n",
    "    plt.plot(s,'b',linewidth=2)\n",
    "    plt.plot([pre],s[pre],'sg')\n",
    "    plt.plot([pre+min_t],minmax['filtered'][i],'sr')\n",
    "    if event_type==Event.pulse:\n",
    "        for i in range(flags.peak_number):\n",
    "            p=event['peaks'][i]\n",
    "            plt.plot([0,len(s)-1],[p['height'],p['height']],':r')\n",
    "    else:\n",
    "      plt.plot([0,len(s)-1],[event['height'],event['height']],':r')\n",
    "        \n",
    "    #print(event['height'],event['minima'])\n",
    "    #print(minmax['filtered'][i]==s[pre+min_t])\n",
    "    #print(minmax['filtered'][i]==event['minima'])\n",
    "    #print(s[pre],s[pre-1])"
   ]
  },
  {
   "cell_type": "code",
   "execution_count": null,
   "metadata": {
    "collapsed": true,
    "run_control": {
     "frozen": false,
     "read_only": false
    }
   },
   "outputs": [],
   "source": [
    "pwd"
   ]
  },
  {
   "cell_type": "code",
   "execution_count": null,
   "metadata": {
    "collapsed": true
   },
   "outputs": [],
   "source": [
    "es=bs.eventstream\n",
    "es"
   ]
  },
  {
   "cell_type": "code",
   "execution_count": null,
   "metadata": {
    "collapsed": true,
    "run_control": {
     "frozen": false,
     "read_only": false
    }
   },
   "outputs": [],
   "source": [
    "%matplotlib notebook\n",
    "for e in es:\n",
    "    if e[1]==Event.peak:\n",
    "        plot_event(e)"
   ]
  },
  {
   "cell_type": "code",
   "execution_count": null,
   "metadata": {
    "collapsed": true,
    "run_control": {
     "frozen": false,
     "read_only": false
    }
   },
   "outputs": [],
   "source": [
    "es"
   ]
  },
  {
   "cell_type": "code",
   "execution_count": null,
   "metadata": {
    "collapsed": true,
    "run_control": {
     "frozen": false,
     "read_only": false
    }
   },
   "outputs": [],
   "source": [
    "dists=bs.distributions\n",
    "dists"
   ]
  },
  {
   "cell_type": "code",
   "execution_count": null,
   "metadata": {
    "collapsed": true,
    "run_control": {
     "frozen": false,
     "read_only": false
    }
   },
   "outputs": [],
   "source": [
    "bs.packets[185].payload"
   ]
  },
  {
   "cell_type": "code",
   "execution_count": null,
   "metadata": {
    "collapsed": true,
    "run_control": {
     "frozen": false,
     "read_only": false
    }
   },
   "outputs": [],
   "source": [
    "d=bs.distributions[0]\n",
    "eset=np.uint64(1)\n",
    "bset=np.uint64(0)\n",
    "cset=np.uint64(20)\n",
    "\n",
    "stop=d.stop_time+eset+cset\n",
    "start=d.start_time+bset+cset\n",
    "bins=np.zeros((d.last_bin+1,),dtype=np.uint32)\n",
    "for i in range(start,stop):\n",
    "    s = traces['raw'][i]\n",
    "    if s <= d.lowest_value:\n",
    "        bins[0] += 1\n",
    "    else:\n",
    "        bins[s-d.lowest_value] += 1\n",
    "        \n",
    "(bins-d.counts).nonzero()"
   ]
  },
  {
   "cell_type": "code",
   "execution_count": null,
   "metadata": {
    "collapsed": true,
    "run_control": {
     "frozen": false,
     "read_only": false
    }
   },
   "outputs": [],
   "source": [
    "%matplotlib notebook\n",
    "plt.step(np.arange(len(d.counts)),d.counts)"
   ]
  },
  {
   "cell_type": "code",
   "execution_count": null,
   "metadata": {
    "collapsed": true,
    "run_control": {
     "frozen": false,
     "read_only": false
    }
   },
   "outputs": [],
   "source": [
    "bins[bins.nonzero()]"
   ]
  },
  {
   "cell_type": "code",
   "execution_count": null,
   "metadata": {
    "collapsed": true,
    "run_control": {
     "frozen": false,
     "read_only": false
    }
   },
   "outputs": [],
   "source": [
    "sum(d.counts)"
   ]
  },
  {
   "cell_type": "code",
   "execution_count": null,
   "metadata": {
    "collapsed": true,
    "run_control": {
     "frozen": false,
     "read_only": false
    }
   },
   "outputs": [],
   "source": [
    "2**14+2000"
   ]
  },
  {
   "cell_type": "code",
   "execution_count": null,
   "metadata": {
    "collapsed": true,
    "run_control": {
     "frozen": false,
     "read_only": false
    }
   },
   "outputs": [],
   "source": [
    "es[3][2]['timestamp']-es[0][2]['timestamp']"
   ]
  },
  {
   "cell_type": "code",
   "execution_count": null,
   "metadata": {
    "collapsed": true,
    "run_control": {
     "frozen": false,
     "read_only": false
    }
   },
   "outputs": [],
   "source": [
    "def xings(s, thresh):\n",
    "    pos=s > thresh\n",
    "    neg=s < thresh\n",
    "    pos0=s >= thresh\n",
    "    neg0=s <= thresh\n",
    "    pos_xing_mask = np.bitwise_and(pos0[1:],neg[0:-1])  \n",
    "    neg_xing_mask = np.bitwise_and(neg0[1:],pos[0:-1])  \n",
    "    return pos_xing_mask.nonzero()[0]+1, neg_xing_mask.nonzero()[0]+1"
   ]
  },
  {
   "cell_type": "code",
   "execution_count": null,
   "metadata": {
    "collapsed": true,
    "run_control": {
     "frozen": false,
     "read_only": false
    }
   },
   "outputs": [],
   "source": [
    "from mpl_toolkits.axes_grid1 import host_subplot\n",
    "\n",
    "def plot_trace(traces,start,width):\n",
    "\n",
    "    ax = host_subplot(111)\n",
    "    axr = ax.twinx()\n",
    "    axt = ax.twiny()\n",
    "#ax.plot(t[0:-1:10],s[0:-1:10],'k')\n",
    "#ax.plot(t,s,'k')\n",
    "    axt.set_xlabel('Time ns',fontsize=18)\n",
    "    ax.set_ylabel('Voltage (Arbitary Units)',fontsize=18)\n",
    "#plt.xticks(visible=False)\n",
    "#plt.yticks(visible=False)\n",
    "#ax.set_xlim(0,t[4000000])\n",
    "#start=902000\n",
    "#width=2500\n",
    "    f=traces['filtered'][start:start+width]\n",
    "    s=traces['slope'][start:start+width]\n",
    "    t=np.arange(len(f))*4e-9\n",
    "#ts=t[pstart:pstop]\n",
    "#axins = fig.add_axes([.4, .45, .45, .4])\n",
    "    ax.set_xlim(t[0],t[-1])\n",
    "    axt.set_xlim(t[0],t[-1])\n",
    "\n",
    "    ylim=(-500,2000)\n",
    "\n",
    "    ax.set_ylim(ylim[0],ylim[1])\n",
    "    axr.set_ylim(ylim[0],ylim[1])\n",
    "\n",
    "    filtered, = ax.step(t,f,'k',lw=2,label='filtered')\n",
    "    slope, = ax.step(t,s,'b',label='slope')\n",
    "    ax.fill_between(t,0,s,alpha=.4)\n",
    "    plt.ylim=ylim\n",
    "\n",
    "pos=s>0\n",
    "neg=s<=0\n",
    "pos_xing_mask = np.bitwise_and(pos[1:-1],neg[0:-2])  \n",
    "neg_xing_mask = np.bitwise_and(neg[1:-1],pos[0:-2])  \n",
    "pos_xing=pos_xing_mask.nonzero()\n",
    "neg_xing=neg_xing_mask.nonzero()\n",
    "\n",
    "rx=[t[pos_xing[0][0]], t[neg_xing[0][0]]]\n",
    "ry=[f[pos_xing[0][0]], f[neg_xing[0][0]]]\n",
    "\n",
    "ax.fill_between(t[pos_xing[0][0]:neg_xing[0][0]],0,s[pos_xing[0][0]:neg_xing[0][0]],alpha=.4,color='r')\n",
    "\n",
    "#plt.plot(rx,[ry[0], ry[0]],'-r',lw=2)\n",
    "#plt.plot([rx[1],rx[1]], ry,'-r',lw=2)\n",
    "# thresholds\n",
    "sthresh = 600\n",
    "pthresh = 1000\n",
    "plt.plot([t[0], t[-1]], [sthresh, sthresh], '--b', lw=2)\n",
    "plt.plot([t[0], t[-1]], [pthresh, pthresh], '--k', lw=2)\n",
    "\n",
    "sthresh_xing=(s>sthresh).nonzero()[0][0]\n",
    "pthresh_xing=(f>pthresh).nonzero()[0][0]\n",
    "\n",
    "\n",
    "cf=.10\n",
    "height = ry[1]-ry[0]\n",
    "cfl=ry[0]+(height*cf)\n",
    "cfh=ry[1]-(height*cf)\n",
    "\n",
    "cfl_xing=(f>cfl).nonzero()[0][0]\n",
    "cfd_low=f[cfl_xing]\n",
    "cfh_xing=(f>cfh).nonzero()[0][0]\n",
    "cfd_high=f[cfh_xing]\n",
    "\n",
    "#plt.plot([t[cfl_xing], t[-1]],[cfd_low, cfd_low], ':r')\n",
    "#plt.plot([t[cfh_xing], t[-1]],[cfd_high, cfd_high], ':r')\n",
    "#plt.plot([x[1], t[-1]],[y[1], y[1]], ':r')\n",
    "plt.legend([filtered, slope],['Signal', 'Slope'],loc=2)\n",
    "\n",
    "#axr = ax.twinx()\n",
    "##################################################################\n",
    "#yticks=([ry[0],sthresh,pthresh,cfd_high,ry[1]])\n",
    "yticks=([sthresh,pthresh])\n",
    "axr.set_yticks(yticks)\n",
    "#yticklabels=['Start','Slope threshold','Pulse threshold','CF high','Peak']\n",
    "yticklabels=['Slope threshold','Pulse threshold']\n",
    "axr.set_yticklabels(yticklabels, color='r',fontsize=14)\n",
    "axr.get_yticklabels()[0].set_color('b')\n",
    "axr.get_yticklabels()[1].set_color('k')\n",
    "\n",
    "#xticks=([rx[0],t[cfl_xing],t[sthresh_xing],t[pthresh_xing],rx[1]])\n",
    "xticks=(t[cfl_xing],rx[1])\n",
    "#ax.set_xticks([rx[0],t[cfl_xing],t[sthresh_xing],t[pthresh_xing],rx[1]])\n",
    "ax.set_xticks(xticks)\n",
    "#xticklabels=['Start','CF low','Slope xing','Signal xing','Peak']\n",
    "xticklabels=['CF low','Peak']\n",
    "ax.set_xticklabels(xticklabels, color='r',fontsize=14)\n",
    "\n",
    "#plt.plot([t[cfh_xing], t[-1]],[cfd_high, cfd_high], ':r')\n",
    "#horoz start, stop lines\n",
    "#hpeak=ax.plot([xticks[1], t[-1]],[yticks[-1], yticks[-1]], '-.r')\n",
    "#hstart=ax.plot([xticks[0], t[-1]],[yticks[0], yticks[0]], '-.r')\n",
    "#vert start stop\n",
    "vstart=ax.plot([xticks[0], xticks[0]],[cfd_low, ylim[0]], '-.r')\n",
    "vpeak=ax.plot([xticks[1], xticks[1]],[ylim[0], ry[1]], '-.r')\n",
    "\n",
    "plt.tight_layout()\n",
    "plt.savefig('..//peakextraction7.svg')\n",
    "plt.show()\n",
    "print('risetime:',(xticks[1]-xticks[0])/4)\n",
    "print('height:',yticks[-1]-yticks[0])\n",
    "print('time:',(xticks[0]-rx[0])/4)\n",
    "print('area',sum(s[pos_xing[0][0]:neg_xing[0][0]])/256)\n"
   ]
  },
  {
   "cell_type": "code",
   "execution_count": null,
   "metadata": {
    "collapsed": true,
    "run_control": {
     "frozen": false,
     "read_only": false
    }
   },
   "outputs": [],
   "source": [
    "slope_0xings = xings(traces['slope'],0)"
   ]
  },
  {
   "cell_type": "code",
   "execution_count": null,
   "metadata": {
    "collapsed": true,
    "run_control": {
     "frozen": false,
     "read_only": false
    }
   },
   "outputs": [],
   "source": [
    "slope_0xings"
   ]
  },
  {
   "cell_type": "code",
   "execution_count": null,
   "metadata": {
    "collapsed": true,
    "run_control": {
     "frozen": false,
     "read_only": false
    }
   },
   "outputs": [],
   "source": [
    "%matplotlib notebook\n",
    "start=10000\n",
    "width=300\n",
    "plt.plot(traces['filtered'][start:start+width]/2)"
   ]
  },
  {
   "cell_type": "code",
   "execution_count": null,
   "metadata": {
    "collapsed": true,
    "run_control": {
     "frozen": false,
     "read_only": false
    }
   },
   "outputs": [],
   "source": [
    "%matplotlib notebook\n",
    "plt.plot(traces['slope'][20400:21700])"
   ]
  },
  {
   "cell_type": "code",
   "execution_count": null,
   "metadata": {
    "collapsed": true,
    "run_control": {
     "frozen": false,
     "read_only": false
    }
   },
   "outputs": [],
   "source": [
    "filtered=traces['filtered'][1100:]\n",
    "filteredL=traces['filteredL'][1100:]"
   ]
  },
  {
   "cell_type": "code",
   "execution_count": null,
   "metadata": {
    "collapsed": true,
    "run_control": {
     "frozen": false,
     "read_only": false
    }
   },
   "outputs": [],
   "source": [
    "filtered[:10]"
   ]
  },
  {
   "cell_type": "code",
   "execution_count": null,
   "metadata": {
    "collapsed": true,
    "run_control": {
     "frozen": false,
     "read_only": false
    }
   },
   "outputs": [],
   "source": [
    "filteredL[:10]/4"
   ]
  },
  {
   "cell_type": "code",
   "execution_count": null,
   "metadata": {
    "collapsed": true,
    "run_control": {
     "frozen": false,
     "read_only": false
    }
   },
   "outputs": [],
   "source": [
    "minmax_dt=np.dtype([('filtered','i4'),('low','i4'),('high','i4'),('clk','i4')])\n",
    "minmax=Data.fromfile('minmax',minmax_dt,'teslib','measurement_subsystem_TB',tool='vivado')\n",
    "fxing_dt=np.dtype([('extrema','i4'),('area','i4'),('clk','i4')])\n",
    "fxing=Data.fromfile('filteredxing',fxing_dt,'teslib','measurement_subsystem_TB',tool='vivado')"
   ]
  },
  {
   "cell_type": "code",
   "execution_count": null,
   "metadata": {
    "collapsed": true,
    "run_control": {
     "frozen": false,
     "read_only": false
    }
   },
   "outputs": [],
   "source": [
    "minmax"
   ]
  },
  {
   "cell_type": "code",
   "execution_count": null,
   "metadata": {
    "collapsed": true,
    "run_control": {
     "frozen": false,
     "read_only": false
    }
   },
   "outputs": [],
   "source": [
    "fxing"
   ]
  },
  {
   "cell_type": "code",
   "execution_count": null,
   "metadata": {
    "collapsed": true,
    "run_control": {
     "frozen": false,
     "read_only": false
    }
   },
   "outputs": [],
   "source": [
    "np.where(fxing['area']==0)"
   ]
  },
  {
   "cell_type": "code",
   "execution_count": null,
   "metadata": {
    "collapsed": true,
    "run_control": {
     "frozen": false,
     "read_only": false
    }
   },
   "outputs": [],
   "source": [
    "np.where(fxing['extrema']==0)"
   ]
  },
  {
   "cell_type": "code",
   "execution_count": null,
   "metadata": {
    "collapsed": true,
    "run_control": {
     "frozen": false,
     "read_only": false
    }
   },
   "outputs": [],
   "source": [
    "fxing[30]"
   ]
  },
  {
   "cell_type": "code",
   "execution_count": null,
   "metadata": {
    "collapsed": true,
    "run_control": {
     "frozen": false,
     "read_only": false
    }
   },
   "outputs": [],
   "source": [
    "exn=np.where(fxing['extrema']<0)\n",
    "clkn=np.where(fxing['clk']>0)"
   ]
  },
  {
   "cell_type": "code",
   "execution_count": null,
   "metadata": {
    "collapsed": true,
    "run_control": {
     "frozen": false,
     "read_only": false
    }
   },
   "outputs": [],
   "source": []
  },
  {
   "cell_type": "code",
   "execution_count": null,
   "metadata": {
    "collapsed": true,
    "run_control": {
     "frozen": false,
     "read_only": false
    }
   },
   "outputs": [],
   "source": [
    "fxing[374]"
   ]
  },
  {
   "cell_type": "code",
   "execution_count": null,
   "metadata": {
    "collapsed": true,
    "run_control": {
     "frozen": false,
     "read_only": false
    }
   },
   "outputs": [],
   "source": [
    "clkn"
   ]
  },
  {
   "cell_type": "code",
   "execution_count": null,
   "metadata": {
    "collapsed": true,
    "run_control": {
     "frozen": false,
     "read_only": false
    }
   },
   "outputs": [],
   "source": [
    "np.where(minmax[maxs[0]-1]['min']!=1)"
   ]
  },
  {
   "cell_type": "code",
   "execution_count": null,
   "metadata": {
    "collapsed": true,
    "run_control": {
     "frozen": false,
     "read_only": false
    }
   },
   "outputs": [],
   "source": [
    "minmax[maxs[0]-1][65]"
   ]
  },
  {
   "cell_type": "code",
   "execution_count": null,
   "metadata": {
    "collapsed": true,
    "run_control": {
     "frozen": false,
     "read_only": false
    }
   },
   "outputs": [],
   "source": [
    "2290-925"
   ]
  },
  {
   "cell_type": "code",
   "execution_count": null,
   "metadata": {
    "collapsed": true,
    "run_control": {
     "frozen": false,
     "read_only": false
    }
   },
   "outputs": [],
   "source": [
    "0.375*4"
   ]
  },
  {
   "cell_type": "code",
   "execution_count": null,
   "metadata": {
    "collapsed": true,
    "run_control": {
     "frozen": false,
     "read_only": false
    }
   },
   "outputs": [],
   "source": [
    "np.where(minmax['clock']==2290)"
   ]
  },
  {
   "cell_type": "code",
   "execution_count": null,
   "metadata": {
    "collapsed": true,
    "run_control": {
     "frozen": false,
     "read_only": false
    }
   },
   "outputs": [],
   "source": [
    "minmax[120:140]"
   ]
  },
  {
   "cell_type": "code",
   "execution_count": null,
   "metadata": {
    "collapsed": true,
    "run_control": {
     "frozen": false,
     "read_only": false
    }
   },
   "outputs": [],
   "source": [
    "stream_dt=np.dtype([('data','>i4'),('last','i4')])\n",
    "#stream=np.fromfile('data/stream',stream_dt)"
   ]
  },
  {
   "cell_type": "markdown",
   "metadata": {},
   "source": [
    "### bytestream stuff"
   ]
  },
  {
   "cell_type": "code",
   "execution_count": null,
   "metadata": {
    "collapsed": true,
    "run_control": {
     "frozen": false,
     "read_only": false
    }
   },
   "outputs": [],
   "source": [
    "stream_dt=np.dtype([('data','i4'),('last','i4')])\n",
    "stream=Data.fromfile('bytestream',stream_dt,'teslib','measurement_subsystem_TB',tool='vivado')\n",
    "lasts=np.where(stream['last']<=0)[0]+1\n",
    "#data=np.copy(stream['data'])"
   ]
  },
  {
   "cell_type": "code",
   "execution_count": null,
   "metadata": {
    "collapsed": true,
    "run_control": {
     "frozen": false,
     "read_only": false
    }
   },
   "outputs": [],
   "source": [
    "stream"
   ]
  },
  {
   "cell_type": "code",
   "execution_count": null,
   "metadata": {
    "collapsed": true,
    "run_control": {
     "frozen": false,
     "read_only": false
    }
   },
   "outputs": [],
   "source": []
  },
  {
   "cell_type": "code",
   "execution_count": null,
   "metadata": {
    "collapsed": true,
    "run_control": {
     "frozen": false,
     "read_only": false
    }
   },
   "outputs": [],
   "source": [
    "stream=np.fromfile('data/bytestream',stream_dt)"
   ]
  },
  {
   "cell_type": "code",
   "execution_count": null,
   "metadata": {
    "collapsed": true,
    "run_control": {
     "frozen": false,
     "read_only": false
    }
   },
   "outputs": [],
   "source": [
    "bs=PacketStream(stream)"
   ]
  },
  {
   "cell_type": "code",
   "execution_count": null,
   "metadata": {
    "collapsed": true,
    "run_control": {
     "frozen": false,
     "read_only": false
    }
   },
   "outputs": [],
   "source": [
    "bs.packets"
   ]
  },
  {
   "cell_type": "code",
   "execution_count": null,
   "metadata": {
    "collapsed": true,
    "run_control": {
     "frozen": false,
     "read_only": false
    }
   },
   "outputs": [],
   "source": [
    "bs.packets[4]"
   ]
  },
  {
   "cell_type": "code",
   "execution_count": null,
   "metadata": {
    "collapsed": true,
    "run_control": {
     "frozen": false,
     "read_only": false
    }
   },
   "outputs": [],
   "source": [
    "eheader_dt=[('etype','<u2'),('length','u2'),()]"
   ]
  },
  {
   "cell_type": "code",
   "execution_count": null,
   "metadata": {
    "collapsed": true,
    "run_control": {
     "frozen": false,
     "read_only": false
    }
   },
   "outputs": [],
   "source": [
    "'{:X}'.format(bs.packets[1].bytes[23])\n"
   ]
  },
  {
   "cell_type": "code",
   "execution_count": null,
   "metadata": {
    "collapsed": true,
    "run_control": {
     "frozen": false,
     "read_only": false
    }
   },
   "outputs": [],
   "source": [
    "'{:X}'.format(bs.packets[0].bytes[28:30].view(np.uint16)[0])"
   ]
  },
  {
   "cell_type": "code",
   "execution_count": null,
   "metadata": {
    "collapsed": true,
    "run_control": {
     "frozen": false,
     "read_only": false
    }
   },
   "outputs": [],
   "source": [
    "pulse_peak_dt=np.dtype([('height','i2'),('rise','i2'),('minima','u2'),('time','i2')])\n",
    "pulse_dt=np.dtype([('size','i2'),('resv','i2'),('flags','i2'),('time','u2'),\n",
    "                  ('area','i4'),('length','i2'),('offset','i2'),('peaks',(pulse_peak_dt,2))])"
   ]
  },
  {
   "cell_type": "code",
   "execution_count": null,
   "metadata": {
    "collapsed": true,
    "run_control": {
     "frozen": false,
     "read_only": false
    }
   },
   "outputs": [],
   "source": [
    "pulses=bs.packets[3].payload.view(pulse_dt)"
   ]
  },
  {
   "cell_type": "code",
   "execution_count": null,
   "metadata": {
    "collapsed": true,
    "run_control": {
     "frozen": false,
     "read_only": false
    }
   },
   "outputs": [],
   "source": [
    "pulses['peaks']"
   ]
  },
  {
   "cell_type": "code",
   "execution_count": null,
   "metadata": {
    "collapsed": true,
    "run_control": {
     "frozen": false,
     "read_only": false
    }
   },
   "outputs": [],
   "source": [
    "pulses['offset']"
   ]
  },
  {
   "cell_type": "code",
   "execution_count": null,
   "metadata": {
    "collapsed": true,
    "run_control": {
     "frozen": false,
     "read_only": false
    }
   },
   "outputs": [],
   "source": [
    "pulses['length']"
   ]
  },
  {
   "cell_type": "code",
   "execution_count": null,
   "metadata": {
    "collapsed": true,
    "run_control": {
     "frozen": false,
     "read_only": false
    }
   },
   "outputs": [],
   "source": [
    "class eflags:\n",
    "    def __init__(self,uint16):\n",
    "        self.new_window=np.bitwise_and(uint16,0x00000001)!=0\n",
    "        self.tick=np.bitwise_and(uint16,0x00000002)!=0\n",
    "        self.type=np.right_shift(np.bitwise_and(uint16,0x0000000c),2)\n",
    "        \n",
    "    def __repr__(self):\n",
    "        return 'New window:{:}\\n'.format(self.new_window) + \\\n",
    "               'Tick:{:}\\n'.format(self.tick) + \\\n",
    "               'Type:{:}\\n'.format(self.type) "
   ]
  },
  {
   "cell_type": "code",
   "execution_count": null,
   "metadata": {
    "collapsed": true,
    "run_control": {
     "frozen": false,
     "read_only": false
    }
   },
   "outputs": [],
   "source": [
    "f=eflags(pulses[0]['flags'])\n",
    "f"
   ]
  },
  {
   "cell_type": "code",
   "execution_count": null,
   "metadata": {
    "collapsed": true,
    "run_control": {
     "frozen": false,
     "read_only": false
    }
   },
   "outputs": [],
   "source": [
    "'{:X}'.format(bs.packets[3].bytes[13:14].view(np.uint16))"
   ]
  },
  {
   "cell_type": "code",
   "execution_count": null,
   "metadata": {
    "collapsed": true,
    "run_control": {
     "frozen": false,
     "read_only": false
    }
   },
   "outputs": [],
   "source": []
  },
  {
   "cell_type": "code",
   "execution_count": null,
   "metadata": {
    "collapsed": true,
    "run_control": {
     "frozen": false,
     "read_only": false
    }
   },
   "outputs": [],
   "source": [
    "'{:X}'.format(bs.packets[3].bytes[14:16].view(np.uint16)[0])"
   ]
  },
  {
   "cell_type": "code",
   "execution_count": null,
   "metadata": {
    "collapsed": true,
    "run_control": {
     "frozen": false,
     "read_only": false
    }
   },
   "outputs": [],
   "source": [
    "bs.packets[3].bytes[14:16].view(np.uint16)[0]"
   ]
  },
  {
   "cell_type": "code",
   "execution_count": null,
   "metadata": {
    "collapsed": true,
    "run_control": {
     "frozen": false,
     "read_only": false
    }
   },
   "outputs": [],
   "source": [
    "bs=np.uint8(stream['data'][:48])"
   ]
  },
  {
   "cell_type": "code",
   "execution_count": null,
   "metadata": {
    "collapsed": true,
    "run_control": {
     "frozen": false,
     "read_only": false
    }
   },
   "outputs": [],
   "source": [
    "bs"
   ]
  },
  {
   "cell_type": "code",
   "execution_count": null,
   "metadata": {
    "collapsed": true,
    "run_control": {
     "frozen": false,
     "read_only": false
    }
   },
   "outputs": [],
   "source": [
    "events=stream['data'].view(event_dt)"
   ]
  },
  {
   "cell_type": "code",
   "execution_count": null,
   "metadata": {
    "collapsed": true,
    "run_control": {
     "frozen": false,
     "read_only": false
    }
   },
   "outputs": [],
   "source": [
    "'{:X}'.format(events['flags'][0])"
   ]
  },
  {
   "cell_type": "code",
   "execution_count": null,
   "metadata": {
    "collapsed": true,
    "run_control": {
     "frozen": false,
     "read_only": false
    }
   },
   "outputs": [],
   "source": [
    "events['rise']"
   ]
  },
  {
   "cell_type": "code",
   "execution_count": null,
   "metadata": {
    "collapsed": true,
    "run_control": {
     "frozen": false,
     "read_only": false
    }
   },
   "outputs": [],
   "source": [
    "events"
   ]
  },
  {
   "cell_type": "code",
   "execution_count": null,
   "metadata": {
    "collapsed": true,
    "run_control": {
     "frozen": false,
     "read_only": false
    }
   },
   "outputs": [],
   "source": [
    "'{:04X}'.format(events['flags'][1])"
   ]
  },
  {
   "cell_type": "code",
   "execution_count": null,
   "metadata": {
    "collapsed": true,
    "run_control": {
     "frozen": false,
     "read_only": false
    }
   },
   "outputs": [],
   "source": [
    "pulse_peak_dt=np.dtype([('time','>i2'),('minima','>i2'),('rise','>u2'),('height','>i2')])\n",
    "pulse_dt=np.dtype([('time','>i2'),('flags','>i2'),('resv','>i2'),('size','>u2'),\n",
    "                  ('offset','>i2'),('length','>i2'),('area','>i4'),('peaks',(pulse_peak_dt,1))])\n",
    "data=np.copy(stream['data'])"
   ]
  },
  {
   "cell_type": "code",
   "execution_count": null,
   "metadata": {
    "collapsed": true,
    "run_control": {
     "frozen": false,
     "read_only": false
    }
   },
   "outputs": [],
   "source": [
    "pulses=data.view(pulse_dt)"
   ]
  },
  {
   "cell_type": "code",
   "execution_count": null,
   "metadata": {
    "collapsed": true,
    "run_control": {
     "frozen": false,
     "read_only": false
    }
   },
   "outputs": [],
   "source": [
    "pulses['peaks']['height']-pulses['peaks']['minima']"
   ]
  },
  {
   "cell_type": "code",
   "execution_count": null,
   "metadata": {
    "collapsed": true,
    "run_control": {
     "frozen": false,
     "read_only": false
    }
   },
   "outputs": [],
   "source": [
    "pulses['peaks']['minima']"
   ]
  },
  {
   "cell_type": "code",
   "execution_count": null,
   "metadata": {
    "collapsed": true,
    "run_control": {
     "frozen": false,
     "read_only": false
    }
   },
   "outputs": [],
   "source": [
    "peak_count=np.right_shift(np.bitwise_and(pulses['flags'],0xF000),12)\n",
    "peak_overflow=np.bitwise_and(pulses['flags'],0x0800)!=0\n",
    "channel=np.right_shift(np.bitwise_and(pulses['flags'],0x0700),8)\n",
    "timing_type=np.right_shift(np.bitwise_and(pulses['flags'],0x00C0),6)\n",
    "height_type=np.right_shift(np.bitwise_and(pulses['flags'],0x0030),4)\n",
    "event_type=np.right_shift(np.bitwise_and(pulses['flags'],0x000E),1)\n",
    "new_window=np.bitwise_and(pulses['flags'],0x0001)!=0"
   ]
  },
  {
   "cell_type": "code",
   "execution_count": null,
   "metadata": {
    "collapsed": true,
    "run_control": {
     "frozen": false,
     "read_only": false
    }
   },
   "outputs": [],
   "source": [
    "peak_overflow"
   ]
  },
  {
   "cell_type": "code",
   "execution_count": null,
   "metadata": {
    "collapsed": true,
    "run_control": {
     "frozen": false,
     "read_only": false
    }
   },
   "outputs": [],
   "source": [
    "test_dt=np.dtype(\n",
    "    [('time','i2'),('flags','i2'),('rise','u2'),('minima','i2'),('low','u8'),('high','u8')]\n",
    ")\n",
    "test=data.view(test_dt)"
   ]
  },
  {
   "cell_type": "code",
   "execution_count": null,
   "metadata": {
    "collapsed": true,
    "run_control": {
     "frozen": false,
     "read_only": false
    }
   },
   "outputs": [],
   "source": [
    "test"
   ]
  },
  {
   "cell_type": "code",
   "execution_count": null,
   "metadata": {
    "collapsed": true,
    "run_control": {
     "frozen": false,
     "read_only": false
    }
   },
   "outputs": [],
   "source": [
    "test['minima']"
   ]
  },
  {
   "cell_type": "code",
   "execution_count": null,
   "metadata": {
    "collapsed": true,
    "run_control": {
     "frozen": false,
     "read_only": false
    }
   },
   "outputs": [],
   "source": [
    "low1=np.int32(np.right_shift(np.bitwise_and(test['low'],0x03FFFF000000000),36))\n",
    "s=(np.bitwise_and(low1,0x00020000)!=0)*0xFFFC0000\n",
    "low2=np.int32(np.right_shift(np.bitwise_and(test['low'],0x000000FFFFC0000),18))\n",
    "low_threshold=np.int32(np.bitwise_and(test['low'],0x00000000003FFFF))\n",
    "high1=np.int32(np.right_shift(np.bitwise_and(test['high'],0x03FFFF000000000),36))\n",
    "high2=np.int32(np.right_shift(np.bitwise_and(test['high'],0x000000FFFFC0000),18))\n",
    "high_threshold=np.int32(np.bitwise_and(test['high'],0x00000000003FFFF))"
   ]
  },
  {
   "cell_type": "code",
   "execution_count": null,
   "metadata": {
    "collapsed": true,
    "run_control": {
     "frozen": false,
     "read_only": false
    }
   },
   "outputs": [],
   "source": [
    "np.int32(np.bitwise_or(low1,s))/8.0"
   ]
  },
  {
   "cell_type": "code",
   "execution_count": null,
   "metadata": {
    "collapsed": true,
    "run_control": {
     "frozen": false,
     "read_only": false
    }
   },
   "outputs": [],
   "source": [
    "'{:04X}'.format(low1[0])"
   ]
  },
  {
   "cell_type": "code",
   "execution_count": null,
   "metadata": {
    "collapsed": true,
    "run_control": {
     "frozen": false,
     "read_only": false
    }
   },
   "outputs": [],
   "source": [
    "high1/8.0"
   ]
  },
  {
   "cell_type": "code",
   "execution_count": null,
   "metadata": {
    "collapsed": true,
    "run_control": {
     "frozen": false,
     "read_only": false
    }
   },
   "outputs": [],
   "source": [
    "high2/8.0"
   ]
  },
  {
   "cell_type": "code",
   "execution_count": null,
   "metadata": {
    "collapsed": true,
    "run_control": {
     "frozen": false,
     "read_only": false
    }
   },
   "outputs": [],
   "source": [
    "'{:04X}'.format(high_threshold[0])"
   ]
  },
  {
   "cell_type": "code",
   "execution_count": null,
   "metadata": {
    "collapsed": true,
    "run_control": {
     "frozen": false,
     "read_only": false
    }
   },
   "outputs": [],
   "source": [
    "from enum import Enum"
   ]
  },
  {
   "cell_type": "code",
   "execution_count": null,
   "metadata": {
    "collapsed": true,
    "run_control": {
     "frozen": false,
     "read_only": false
    }
   },
   "outputs": [],
   "source": [
    "class VhdlEnum(int, Enum):\n",
    "\n",
    "    def __str__(self):\n",
    "        return self.name.replace(\"-\", \" \")\n",
    "    \n",
    "    def select(self):\n",
    "        return pow(2, self.value)\n",
    "    "
   ]
  },
  {
   "cell_type": "code",
   "execution_count": null,
   "metadata": {
    "collapsed": true,
    "run_control": {
     "frozen": false,
     "read_only": false
    }
   },
   "outputs": [],
   "source": [
    "class Test(VhdlEnum):\n",
    "    a=0\n",
    "    b=1"
   ]
  },
  {
   "cell_type": "code",
   "execution_count": null,
   "metadata": {
    "collapsed": true,
    "run_control": {
     "frozen": false,
     "read_only": false
    }
   },
   "outputs": [],
   "source": [
    "Test(0)"
   ]
  },
  {
   "cell_type": "code",
   "execution_count": null,
   "metadata": {
    "collapsed": true,
    "run_control": {
     "frozen": false,
     "read_only": false
    }
   },
   "outputs": [],
   "source": []
  }
 ],
 "metadata": {
  "anaconda-cloud": {},
  "kernelspec": {
   "display_name": "Python 3",
   "language": "python",
   "name": "python3"
  },
  "language_info": {
   "codemirror_mode": {
    "name": "ipython",
    "version": 3
   },
   "file_extension": ".py",
   "mimetype": "text/x-python",
   "name": "python",
   "nbconvert_exporter": "python",
   "pygments_lexer": "ipython3",
   "version": "3.6.1"
  }
 },
 "nbformat": 4,
 "nbformat_minor": 1
}
