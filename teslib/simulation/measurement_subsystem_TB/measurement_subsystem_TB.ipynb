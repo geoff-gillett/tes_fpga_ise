{
 "cells": [
  {
   "cell_type": "code",
   "execution_count": 28,
   "metadata": {
    "collapsed": false
   },
   "outputs": [],
   "source": [
    "import sys\n",
    "import tes.simulation.data as sim\n",
    "from tes.simulation.data import PacketStream, Data, Distribution\n",
    "from tes.simulation.filesets import measurement_subsystem_TB as fileset\n",
    "import tes.simulation.plot as splt\n",
    "import numpy as np\n",
    "import matplotlib.pyplot as plt\n",
    "import math\n",
    "import collections"
   ]
  },
  {
   "cell_type": "code",
   "execution_count": 29,
   "metadata": {
    "collapsed": false
   },
   "outputs": [],
   "source": [
    "data=Data(fileset, 8, 'teslib','measurement_subsystem_TB')\n",
    "enet=PacketStream(data.byte_stream)\n",
    "dists=enet.distributions"
   ]
  },
  {
   "cell_type": "code",
   "execution_count": 18,
   "metadata": {
    "collapsed": false
   },
   "outputs": [
    {
     "name": "stdout",
     "output_type": "stream",
     "text": [
      "No distributions\n"
     ]
    }
   ],
   "source": [
    "# compare transmitted distributions with the data\n",
    "failed=False\n",
    "if dists == []:\n",
    "    print('No distributions')\n",
    "else:\n",
    "    for dist in dists:\n",
    "        dif = (dist.counts - dist.data_counts(data))[0].nonzero()\n",
    "        if dif[0].size:\n",
    "            print('{:}\\nDoes not reconcile with the data, Differences at {:d} indexs:\\n{:}\\n'.format(\n",
    "                    dist, dif[0].size, dif[0]))\n",
    "            failed=True\n",
    "    if not failed:\n",
    "        print('Distributions agree with data')\n",
    "    \n"
   ]
  },
  {
   "cell_type": "markdown",
   "metadata": {},
   "source": [
    " ## work area"
   ]
  },
  {
   "cell_type": "code",
   "execution_count": 30,
   "metadata": {
    "collapsed": false,
    "scrolled": false
   },
   "outputs": [
    {
     "data": {
      "text/plain": [
       "[ethertype:88B5 length:48 Payload:tick frame:0 protocol:0,\n",
       " ethertype:88B5 length:32 Payload:peak frame:1 protocol:1,\n",
       " ethertype:88B5 length:48 Payload:pulse frame:2 protocol:2,\n",
       " ethertype:88B5 length:56 Payload:pulse frame:3 protocol:3,\n",
       " ethertype:88B5 length:1336 Payload:trace frame:4 protocol:0,\n",
       " ethertype:88B5 length:520 Payload:trace frame:5 protocol:0,\n",
       " ethertype:88B5 length:40 Payload:peak frame:6 protocol:4,\n",
       " ethertype:88B5 length:32 Payload:area frame:7 protocol:5,\n",
       " ethertype:88B5 length:48 Payload:tick frame:8 protocol:6,\n",
       " ethertype:88B5 length:32 Payload:peak frame:9 protocol:7,\n",
       " ethertype:88B5 length:48 Payload:pulse frame:10 protocol:8,\n",
       " ethertype:88B5 length:56 Payload:pulse frame:11 protocol:9,\n",
       " ethertype:88B5 length:1392 Payload:trace frame:12 protocol:0,\n",
       " ethertype:88B5 length:560 Payload:trace frame:13 protocol:0,\n",
       " ethertype:88B5 length:40 Payload:peak frame:14 protocol:10,\n",
       " ethertype:88B5 length:32 Payload:area frame:15 protocol:11,\n",
       " ethertype:88B5 length:32 Payload:peak frame:16 protocol:12,\n",
       " ethertype:88B5 length:48 Payload:pulse frame:17 protocol:13,\n",
       " ethertype:88B5 length:56 Payload:pulse frame:18 protocol:14,\n",
       " ethertype:88B5 length:1480 Payload:trace frame:19 protocol:0,\n",
       " ethertype:88B5 length:632 Payload:trace frame:20 protocol:0,\n",
       " ethertype:88B5 length:40 Payload:peak frame:21 protocol:15,\n",
       " ethertype:88B5 length:32 Payload:area frame:22 protocol:16,\n",
       " ethertype:88B6 length:1496 Payload:mca frame:23 protocol:0,\n",
       " ethertype:88B5 length:48 Payload:tick frame:24 protocol:17,\n",
       " ethertype:88B6 length:1496 Payload:mca frame:25 protocol:1,\n",
       " ethertype:88B6 length:1496 Payload:mca frame:26 protocol:2,\n",
       " ethertype:88B6 length:1496 Payload:mca frame:27 protocol:3,\n",
       " ethertype:88B6 length:1496 Payload:mca frame:28 protocol:4,\n",
       " ethertype:88B6 length:1496 Payload:mca frame:29 protocol:5,\n",
       " ethertype:88B6 length:1496 Payload:mca frame:30 protocol:6,\n",
       " ethertype:88B6 length:1496 Payload:mca frame:31 protocol:7,\n",
       " ethertype:88B6 length:1496 Payload:mca frame:32 protocol:8,\n",
       " ethertype:88B6 length:1496 Payload:mca frame:33 protocol:9,\n",
       " ethertype:88B6 length:1496 Payload:mca frame:34 protocol:10,\n",
       " ethertype:88B6 length:1496 Payload:mca frame:35 protocol:11,\n",
       " ethertype:88B6 length:1496 Payload:mca frame:36 protocol:12,\n",
       " ethertype:88B6 length:1496 Payload:mca frame:37 protocol:13,\n",
       " ethertype:88B6 length:1496 Payload:mca frame:38 protocol:14,\n",
       " ethertype:88B6 length:1496 Payload:mca frame:39 protocol:15,\n",
       " ethertype:88B6 length:1496 Payload:mca frame:40 protocol:16,\n",
       " ethertype:88B6 length:1496 Payload:mca frame:41 protocol:17,\n",
       " ethertype:88B6 length:1496 Payload:mca frame:42 protocol:18,\n",
       " ethertype:88B6 length:1496 Payload:mca frame:43 protocol:19,\n",
       " ethertype:88B6 length:1496 Payload:mca frame:44 protocol:20,\n",
       " ethertype:88B6 length:1496 Payload:mca frame:45 protocol:21,\n",
       " ethertype:88B6 length:1496 Payload:mca frame:46 protocol:22,\n",
       " ethertype:88B6 length:1496 Payload:mca frame:47 protocol:23,\n",
       " ethertype:88B6 length:1496 Payload:mca frame:48 protocol:24,\n",
       " ethertype:88B6 length:1496 Payload:mca frame:49 protocol:25,\n",
       " ethertype:88B6 length:1496 Payload:mca frame:50 protocol:26,\n",
       " ethertype:88B6 length:1496 Payload:mca frame:51 protocol:27,\n",
       " ethertype:88B6 length:1496 Payload:mca frame:52 protocol:28,\n",
       " ethertype:88B6 length:1496 Payload:mca frame:53 protocol:29,\n",
       " ethertype:88B6 length:1496 Payload:mca frame:54 protocol:30,\n",
       " ethertype:88B6 length:1496 Payload:mca frame:55 protocol:31,\n",
       " ethertype:88B6 length:1496 Payload:mca frame:56 protocol:32,\n",
       " ethertype:88B6 length:1496 Payload:mca frame:57 protocol:33,\n",
       " ethertype:88B6 length:1496 Payload:mca frame:58 protocol:34,\n",
       " ethertype:88B6 length:1496 Payload:mca frame:59 protocol:35,\n",
       " ethertype:88B6 length:1496 Payload:mca frame:60 protocol:36,\n",
       " ethertype:88B6 length:1496 Payload:mca frame:61 protocol:37,\n",
       " ethertype:88B6 length:1496 Payload:mca frame:62 protocol:38,\n",
       " ethertype:88B6 length:1496 Payload:mca frame:63 protocol:39,\n",
       " ethertype:88B6 length:1496 Payload:mca frame:64 protocol:40,\n",
       " ethertype:88B6 length:1496 Payload:mca frame:65 protocol:41,\n",
       " ethertype:88B6 length:1496 Payload:mca frame:66 protocol:42,\n",
       " ethertype:88B6 length:1496 Payload:mca frame:67 protocol:43,\n",
       " ethertype:88B6 length:832 Payload:mca frame:68 protocol:44,\n",
       " ethertype:88B6 length:1496 Payload:mca frame:69 protocol:0,\n",
       " ethertype:88B6 length:1496 Payload:mca frame:70 protocol:1,\n",
       " ethertype:88B5 length:48 Payload:tick frame:71 protocol:18,\n",
       " ethertype:88B6 length:1496 Payload:mca frame:72 protocol:2,\n",
       " ethertype:88B6 length:1496 Payload:mca frame:73 protocol:3,\n",
       " ethertype:88B6 length:1496 Payload:mca frame:74 protocol:4,\n",
       " ethertype:88B6 length:1496 Payload:mca frame:75 protocol:5,\n",
       " ethertype:88B6 length:1496 Payload:mca frame:76 protocol:6,\n",
       " ethertype:88B6 length:1496 Payload:mca frame:77 protocol:7,\n",
       " ethertype:88B6 length:1496 Payload:mca frame:78 protocol:8,\n",
       " ethertype:88B6 length:1496 Payload:mca frame:79 protocol:9,\n",
       " ethertype:88B6 length:1496 Payload:mca frame:80 protocol:10,\n",
       " ethertype:88B6 length:1496 Payload:mca frame:81 protocol:11,\n",
       " ethertype:88B6 length:1496 Payload:mca frame:82 protocol:12,\n",
       " ethertype:88B6 length:1496 Payload:mca frame:83 protocol:13,\n",
       " ethertype:88B6 length:1496 Payload:mca frame:84 protocol:14,\n",
       " ethertype:88B6 length:1496 Payload:mca frame:85 protocol:15,\n",
       " ethertype:88B6 length:1496 Payload:mca frame:86 protocol:16,\n",
       " ethertype:88B6 length:1496 Payload:mca frame:87 protocol:17,\n",
       " ethertype:88B6 length:1496 Payload:mca frame:88 protocol:18,\n",
       " ethertype:88B6 length:1496 Payload:mca frame:89 protocol:19,\n",
       " ethertype:88B6 length:1496 Payload:mca frame:90 protocol:20,\n",
       " ethertype:88B6 length:1496 Payload:mca frame:91 protocol:21,\n",
       " ethertype:88B6 length:1496 Payload:mca frame:92 protocol:22,\n",
       " ethertype:88B6 length:1496 Payload:mca frame:93 protocol:23,\n",
       " ethertype:88B6 length:1496 Payload:mca frame:94 protocol:24,\n",
       " ethertype:88B6 length:1496 Payload:mca frame:95 protocol:25,\n",
       " ethertype:88B6 length:1496 Payload:mca frame:96 protocol:26,\n",
       " ethertype:88B6 length:1496 Payload:mca frame:97 protocol:27,\n",
       " ethertype:88B6 length:1496 Payload:mca frame:98 protocol:28,\n",
       " ethertype:88B6 length:1496 Payload:mca frame:99 protocol:29,\n",
       " ethertype:88B6 length:1496 Payload:mca frame:100 protocol:30,\n",
       " ethertype:88B6 length:1496 Payload:mca frame:101 protocol:31]"
      ]
     },
     "execution_count": 30,
     "metadata": {},
     "output_type": "execute_result"
    }
   ],
   "source": [
    "enet.packets"
   ]
  },
  {
   "cell_type": "code",
   "execution_count": 341,
   "metadata": {
    "collapsed": false
   },
   "outputs": [
    {
     "data": {
      "text/plain": [
       "array([(36, 90, False), (38, 1, False), (40, 2, False), (42, 3, False),\n",
       "       (44, 4, False), (46, 5, False), (48, 218, False), (50, 1, False),\n",
       "       (52, 2, False), (54, 3, False), (56, 4, False), (58, 5, False),\n",
       "       (60, 136, False), (62, 181, False), (64, 48, False), (66, 0, False),\n",
       "       (68, 0, False), (70, 0, False), (72, 0, False), (74, 0, False),\n",
       "       (76, 2, False), (78, 0, False), (80, 0, False), (82, 0, False),\n",
       "       (84, 0, False), (86, 0, False), (88, 1, False), (90, 0, False),\n",
       "       (92, 0, False), (94, 3, False), (96, 2, False), (98, 0, False),\n",
       "       (100, 2, False), (102, 0, False), (104, 0, False), (106, 0, False),\n",
       "       (108, 0, False), (110, 0, False), (112, 0, False), (114, 0, False),\n",
       "       (116, 0, False), (118, 0, False), (120, 0, False), (122, 0, False),\n",
       "       (124, 0, False), (126, 0, False), (128, 0, False), (130, 0, True)], \n",
       "      dtype=[('index', '<u4'), ('data', 'u1'), ('last', '?')])"
      ]
     },
     "execution_count": 341,
     "metadata": {},
     "output_type": "execute_result"
    }
   ],
   "source": [
    "data.byte_stream"
   ]
  },
  {
   "cell_type": "code",
   "execution_count": 31,
   "metadata": {
    "collapsed": false,
    "scrolled": false
   },
   "outputs": [
    {
     "data": {
      "application/javascript": [
       "/* Put everything inside the global mpl namespace */\n",
       "window.mpl = {};\n",
       "\n",
       "mpl.get_websocket_type = function() {\n",
       "    if (typeof(WebSocket) !== 'undefined') {\n",
       "        return WebSocket;\n",
       "    } else if (typeof(MozWebSocket) !== 'undefined') {\n",
       "        return MozWebSocket;\n",
       "    } else {\n",
       "        alert('Your browser does not have WebSocket support.' +\n",
       "              'Please try Chrome, Safari or Firefox ≥ 6. ' +\n",
       "              'Firefox 4 and 5 are also supported but you ' +\n",
       "              'have to enable WebSockets in about:config.');\n",
       "    };\n",
       "}\n",
       "\n",
       "mpl.figure = function(figure_id, websocket, ondownload, parent_element) {\n",
       "    this.id = figure_id;\n",
       "\n",
       "    this.ws = websocket;\n",
       "\n",
       "    this.supports_binary = (this.ws.binaryType != undefined);\n",
       "\n",
       "    if (!this.supports_binary) {\n",
       "        var warnings = document.getElementById(\"mpl-warnings\");\n",
       "        if (warnings) {\n",
       "            warnings.style.display = 'block';\n",
       "            warnings.textContent = (\n",
       "                \"This browser does not support binary websocket messages. \" +\n",
       "                    \"Performance may be slow.\");\n",
       "        }\n",
       "    }\n",
       "\n",
       "    this.imageObj = new Image();\n",
       "\n",
       "    this.context = undefined;\n",
       "    this.message = undefined;\n",
       "    this.canvas = undefined;\n",
       "    this.rubberband_canvas = undefined;\n",
       "    this.rubberband_context = undefined;\n",
       "    this.format_dropdown = undefined;\n",
       "\n",
       "    this.image_mode = 'full';\n",
       "\n",
       "    this.root = $('<div/>');\n",
       "    this._root_extra_style(this.root)\n",
       "    this.root.attr('style', 'display: inline-block');\n",
       "\n",
       "    $(parent_element).append(this.root);\n",
       "\n",
       "    this._init_header(this);\n",
       "    this._init_canvas(this);\n",
       "    this._init_toolbar(this);\n",
       "\n",
       "    var fig = this;\n",
       "\n",
       "    this.waiting = false;\n",
       "\n",
       "    this.ws.onopen =  function () {\n",
       "            fig.send_message(\"supports_binary\", {value: fig.supports_binary});\n",
       "            fig.send_message(\"send_image_mode\", {});\n",
       "            fig.send_message(\"refresh\", {});\n",
       "        }\n",
       "\n",
       "    this.imageObj.onload = function() {\n",
       "            if (fig.image_mode == 'full') {\n",
       "                // Full images could contain transparency (where diff images\n",
       "                // almost always do), so we need to clear the canvas so that\n",
       "                // there is no ghosting.\n",
       "                fig.context.clearRect(0, 0, fig.canvas.width, fig.canvas.height);\n",
       "            }\n",
       "            fig.context.drawImage(fig.imageObj, 0, 0);\n",
       "        };\n",
       "\n",
       "    this.imageObj.onunload = function() {\n",
       "        this.ws.close();\n",
       "    }\n",
       "\n",
       "    this.ws.onmessage = this._make_on_message_function(this);\n",
       "\n",
       "    this.ondownload = ondownload;\n",
       "}\n",
       "\n",
       "mpl.figure.prototype._init_header = function() {\n",
       "    var titlebar = $(\n",
       "        '<div class=\"ui-dialog-titlebar ui-widget-header ui-corner-all ' +\n",
       "        'ui-helper-clearfix\"/>');\n",
       "    var titletext = $(\n",
       "        '<div class=\"ui-dialog-title\" style=\"width: 100%; ' +\n",
       "        'text-align: center; padding: 3px;\"/>');\n",
       "    titlebar.append(titletext)\n",
       "    this.root.append(titlebar);\n",
       "    this.header = titletext[0];\n",
       "}\n",
       "\n",
       "\n",
       "\n",
       "mpl.figure.prototype._canvas_extra_style = function(canvas_div) {\n",
       "\n",
       "}\n",
       "\n",
       "\n",
       "mpl.figure.prototype._root_extra_style = function(canvas_div) {\n",
       "\n",
       "}\n",
       "\n",
       "mpl.figure.prototype._init_canvas = function() {\n",
       "    var fig = this;\n",
       "\n",
       "    var canvas_div = $('<div/>');\n",
       "\n",
       "    canvas_div.attr('style', 'position: relative; clear: both; outline: 0');\n",
       "\n",
       "    function canvas_keyboard_event(event) {\n",
       "        return fig.key_event(event, event['data']);\n",
       "    }\n",
       "\n",
       "    canvas_div.keydown('key_press', canvas_keyboard_event);\n",
       "    canvas_div.keyup('key_release', canvas_keyboard_event);\n",
       "    this.canvas_div = canvas_div\n",
       "    this._canvas_extra_style(canvas_div)\n",
       "    this.root.append(canvas_div);\n",
       "\n",
       "    var canvas = $('<canvas/>');\n",
       "    canvas.addClass('mpl-canvas');\n",
       "    canvas.attr('style', \"left: 0; top: 0; z-index: 0; outline: 0\")\n",
       "\n",
       "    this.canvas = canvas[0];\n",
       "    this.context = canvas[0].getContext(\"2d\");\n",
       "\n",
       "    var rubberband = $('<canvas/>');\n",
       "    rubberband.attr('style', \"position: absolute; left: 0; top: 0; z-index: 1;\")\n",
       "\n",
       "    var pass_mouse_events = true;\n",
       "\n",
       "    canvas_div.resizable({\n",
       "        start: function(event, ui) {\n",
       "            pass_mouse_events = false;\n",
       "        },\n",
       "        resize: function(event, ui) {\n",
       "            fig.request_resize(ui.size.width, ui.size.height);\n",
       "        },\n",
       "        stop: function(event, ui) {\n",
       "            pass_mouse_events = true;\n",
       "            fig.request_resize(ui.size.width, ui.size.height);\n",
       "        },\n",
       "    });\n",
       "\n",
       "    function mouse_event_fn(event) {\n",
       "        if (pass_mouse_events)\n",
       "            return fig.mouse_event(event, event['data']);\n",
       "    }\n",
       "\n",
       "    rubberband.mousedown('button_press', mouse_event_fn);\n",
       "    rubberband.mouseup('button_release', mouse_event_fn);\n",
       "    // Throttle sequential mouse events to 1 every 20ms.\n",
       "    rubberband.mousemove('motion_notify', mouse_event_fn);\n",
       "\n",
       "    rubberband.mouseenter('figure_enter', mouse_event_fn);\n",
       "    rubberband.mouseleave('figure_leave', mouse_event_fn);\n",
       "\n",
       "    canvas_div.on(\"wheel\", function (event) {\n",
       "        event = event.originalEvent;\n",
       "        event['data'] = 'scroll'\n",
       "        if (event.deltaY < 0) {\n",
       "            event.step = 1;\n",
       "        } else {\n",
       "            event.step = -1;\n",
       "        }\n",
       "        mouse_event_fn(event);\n",
       "    });\n",
       "\n",
       "    canvas_div.append(canvas);\n",
       "    canvas_div.append(rubberband);\n",
       "\n",
       "    this.rubberband = rubberband;\n",
       "    this.rubberband_canvas = rubberband[0];\n",
       "    this.rubberband_context = rubberband[0].getContext(\"2d\");\n",
       "    this.rubberband_context.strokeStyle = \"#000000\";\n",
       "\n",
       "    this._resize_canvas = function(width, height) {\n",
       "        // Keep the size of the canvas, canvas container, and rubber band\n",
       "        // canvas in synch.\n",
       "        canvas_div.css('width', width)\n",
       "        canvas_div.css('height', height)\n",
       "\n",
       "        canvas.attr('width', width);\n",
       "        canvas.attr('height', height);\n",
       "\n",
       "        rubberband.attr('width', width);\n",
       "        rubberband.attr('height', height);\n",
       "    }\n",
       "\n",
       "    // Set the figure to an initial 600x600px, this will subsequently be updated\n",
       "    // upon first draw.\n",
       "    this._resize_canvas(600, 600);\n",
       "\n",
       "    // Disable right mouse context menu.\n",
       "    $(this.rubberband_canvas).bind(\"contextmenu\",function(e){\n",
       "        return false;\n",
       "    });\n",
       "\n",
       "    function set_focus () {\n",
       "        canvas.focus();\n",
       "        canvas_div.focus();\n",
       "    }\n",
       "\n",
       "    window.setTimeout(set_focus, 100);\n",
       "}\n",
       "\n",
       "mpl.figure.prototype._init_toolbar = function() {\n",
       "    var fig = this;\n",
       "\n",
       "    var nav_element = $('<div/>')\n",
       "    nav_element.attr('style', 'width: 100%');\n",
       "    this.root.append(nav_element);\n",
       "\n",
       "    // Define a callback function for later on.\n",
       "    function toolbar_event(event) {\n",
       "        return fig.toolbar_button_onclick(event['data']);\n",
       "    }\n",
       "    function toolbar_mouse_event(event) {\n",
       "        return fig.toolbar_button_onmouseover(event['data']);\n",
       "    }\n",
       "\n",
       "    for(var toolbar_ind in mpl.toolbar_items) {\n",
       "        var name = mpl.toolbar_items[toolbar_ind][0];\n",
       "        var tooltip = mpl.toolbar_items[toolbar_ind][1];\n",
       "        var image = mpl.toolbar_items[toolbar_ind][2];\n",
       "        var method_name = mpl.toolbar_items[toolbar_ind][3];\n",
       "\n",
       "        if (!name) {\n",
       "            // put a spacer in here.\n",
       "            continue;\n",
       "        }\n",
       "        var button = $('<button/>');\n",
       "        button.addClass('ui-button ui-widget ui-state-default ui-corner-all ' +\n",
       "                        'ui-button-icon-only');\n",
       "        button.attr('role', 'button');\n",
       "        button.attr('aria-disabled', 'false');\n",
       "        button.click(method_name, toolbar_event);\n",
       "        button.mouseover(tooltip, toolbar_mouse_event);\n",
       "\n",
       "        var icon_img = $('<span/>');\n",
       "        icon_img.addClass('ui-button-icon-primary ui-icon');\n",
       "        icon_img.addClass(image);\n",
       "        icon_img.addClass('ui-corner-all');\n",
       "\n",
       "        var tooltip_span = $('<span/>');\n",
       "        tooltip_span.addClass('ui-button-text');\n",
       "        tooltip_span.html(tooltip);\n",
       "\n",
       "        button.append(icon_img);\n",
       "        button.append(tooltip_span);\n",
       "\n",
       "        nav_element.append(button);\n",
       "    }\n",
       "\n",
       "    var fmt_picker_span = $('<span/>');\n",
       "\n",
       "    var fmt_picker = $('<select/>');\n",
       "    fmt_picker.addClass('mpl-toolbar-option ui-widget ui-widget-content');\n",
       "    fmt_picker_span.append(fmt_picker);\n",
       "    nav_element.append(fmt_picker_span);\n",
       "    this.format_dropdown = fmt_picker[0];\n",
       "\n",
       "    for (var ind in mpl.extensions) {\n",
       "        var fmt = mpl.extensions[ind];\n",
       "        var option = $(\n",
       "            '<option/>', {selected: fmt === mpl.default_extension}).html(fmt);\n",
       "        fmt_picker.append(option)\n",
       "    }\n",
       "\n",
       "    // Add hover states to the ui-buttons\n",
       "    $( \".ui-button\" ).hover(\n",
       "        function() { $(this).addClass(\"ui-state-hover\");},\n",
       "        function() { $(this).removeClass(\"ui-state-hover\");}\n",
       "    );\n",
       "\n",
       "    var status_bar = $('<span class=\"mpl-message\"/>');\n",
       "    nav_element.append(status_bar);\n",
       "    this.message = status_bar[0];\n",
       "}\n",
       "\n",
       "mpl.figure.prototype.request_resize = function(x_pixels, y_pixels) {\n",
       "    // Request matplotlib to resize the figure. Matplotlib will then trigger a resize in the client,\n",
       "    // which will in turn request a refresh of the image.\n",
       "    this.send_message('resize', {'width': x_pixels, 'height': y_pixels});\n",
       "}\n",
       "\n",
       "mpl.figure.prototype.send_message = function(type, properties) {\n",
       "    properties['type'] = type;\n",
       "    properties['figure_id'] = this.id;\n",
       "    this.ws.send(JSON.stringify(properties));\n",
       "}\n",
       "\n",
       "mpl.figure.prototype.send_draw_message = function() {\n",
       "    if (!this.waiting) {\n",
       "        this.waiting = true;\n",
       "        this.ws.send(JSON.stringify({type: \"draw\", figure_id: this.id}));\n",
       "    }\n",
       "}\n",
       "\n",
       "\n",
       "mpl.figure.prototype.handle_save = function(fig, msg) {\n",
       "    var format_dropdown = fig.format_dropdown;\n",
       "    var format = format_dropdown.options[format_dropdown.selectedIndex].value;\n",
       "    fig.ondownload(fig, format);\n",
       "}\n",
       "\n",
       "\n",
       "mpl.figure.prototype.handle_resize = function(fig, msg) {\n",
       "    var size = msg['size'];\n",
       "    if (size[0] != fig.canvas.width || size[1] != fig.canvas.height) {\n",
       "        fig._resize_canvas(size[0], size[1]);\n",
       "        fig.send_message(\"refresh\", {});\n",
       "    };\n",
       "}\n",
       "\n",
       "mpl.figure.prototype.handle_rubberband = function(fig, msg) {\n",
       "    var x0 = msg['x0'];\n",
       "    var y0 = fig.canvas.height - msg['y0'];\n",
       "    var x1 = msg['x1'];\n",
       "    var y1 = fig.canvas.height - msg['y1'];\n",
       "    x0 = Math.floor(x0) + 0.5;\n",
       "    y0 = Math.floor(y0) + 0.5;\n",
       "    x1 = Math.floor(x1) + 0.5;\n",
       "    y1 = Math.floor(y1) + 0.5;\n",
       "    var min_x = Math.min(x0, x1);\n",
       "    var min_y = Math.min(y0, y1);\n",
       "    var width = Math.abs(x1 - x0);\n",
       "    var height = Math.abs(y1 - y0);\n",
       "\n",
       "    fig.rubberband_context.clearRect(\n",
       "        0, 0, fig.canvas.width, fig.canvas.height);\n",
       "\n",
       "    fig.rubberband_context.strokeRect(min_x, min_y, width, height);\n",
       "}\n",
       "\n",
       "mpl.figure.prototype.handle_figure_label = function(fig, msg) {\n",
       "    // Updates the figure title.\n",
       "    fig.header.textContent = msg['label'];\n",
       "}\n",
       "\n",
       "mpl.figure.prototype.handle_cursor = function(fig, msg) {\n",
       "    var cursor = msg['cursor'];\n",
       "    switch(cursor)\n",
       "    {\n",
       "    case 0:\n",
       "        cursor = 'pointer';\n",
       "        break;\n",
       "    case 1:\n",
       "        cursor = 'default';\n",
       "        break;\n",
       "    case 2:\n",
       "        cursor = 'crosshair';\n",
       "        break;\n",
       "    case 3:\n",
       "        cursor = 'move';\n",
       "        break;\n",
       "    }\n",
       "    fig.rubberband_canvas.style.cursor = cursor;\n",
       "}\n",
       "\n",
       "mpl.figure.prototype.handle_message = function(fig, msg) {\n",
       "    fig.message.textContent = msg['message'];\n",
       "}\n",
       "\n",
       "mpl.figure.prototype.handle_draw = function(fig, msg) {\n",
       "    // Request the server to send over a new figure.\n",
       "    fig.send_draw_message();\n",
       "}\n",
       "\n",
       "mpl.figure.prototype.handle_image_mode = function(fig, msg) {\n",
       "    fig.image_mode = msg['mode'];\n",
       "}\n",
       "\n",
       "mpl.figure.prototype.updated_canvas_event = function() {\n",
       "    // Called whenever the canvas gets updated.\n",
       "    this.send_message(\"ack\", {});\n",
       "}\n",
       "\n",
       "// A function to construct a web socket function for onmessage handling.\n",
       "// Called in the figure constructor.\n",
       "mpl.figure.prototype._make_on_message_function = function(fig) {\n",
       "    return function socket_on_message(evt) {\n",
       "        if (evt.data instanceof Blob) {\n",
       "            /* FIXME: We get \"Resource interpreted as Image but\n",
       "             * transferred with MIME type text/plain:\" errors on\n",
       "             * Chrome.  But how to set the MIME type?  It doesn't seem\n",
       "             * to be part of the websocket stream */\n",
       "            evt.data.type = \"image/png\";\n",
       "\n",
       "            /* Free the memory for the previous frames */\n",
       "            if (fig.imageObj.src) {\n",
       "                (window.URL || window.webkitURL).revokeObjectURL(\n",
       "                    fig.imageObj.src);\n",
       "            }\n",
       "\n",
       "            fig.imageObj.src = (window.URL || window.webkitURL).createObjectURL(\n",
       "                evt.data);\n",
       "            fig.updated_canvas_event();\n",
       "            fig.waiting = false;\n",
       "            return;\n",
       "        }\n",
       "        else if (typeof evt.data === 'string' && evt.data.slice(0, 21) == \"data:image/png;base64\") {\n",
       "            fig.imageObj.src = evt.data;\n",
       "            fig.updated_canvas_event();\n",
       "            fig.waiting = false;\n",
       "            return;\n",
       "        }\n",
       "\n",
       "        var msg = JSON.parse(evt.data);\n",
       "        var msg_type = msg['type'];\n",
       "\n",
       "        // Call the  \"handle_{type}\" callback, which takes\n",
       "        // the figure and JSON message as its only arguments.\n",
       "        try {\n",
       "            var callback = fig[\"handle_\" + msg_type];\n",
       "        } catch (e) {\n",
       "            console.log(\"No handler for the '\" + msg_type + \"' message type: \", msg);\n",
       "            return;\n",
       "        }\n",
       "\n",
       "        if (callback) {\n",
       "            try {\n",
       "                // console.log(\"Handling '\" + msg_type + \"' message: \", msg);\n",
       "                callback(fig, msg);\n",
       "            } catch (e) {\n",
       "                console.log(\"Exception inside the 'handler_\" + msg_type + \"' callback:\", e, e.stack, msg);\n",
       "            }\n",
       "        }\n",
       "    };\n",
       "}\n",
       "\n",
       "// from http://stackoverflow.com/questions/1114465/getting-mouse-location-in-canvas\n",
       "mpl.findpos = function(e) {\n",
       "    //this section is from http://www.quirksmode.org/js/events_properties.html\n",
       "    var targ;\n",
       "    if (!e)\n",
       "        e = window.event;\n",
       "    if (e.target)\n",
       "        targ = e.target;\n",
       "    else if (e.srcElement)\n",
       "        targ = e.srcElement;\n",
       "    if (targ.nodeType == 3) // defeat Safari bug\n",
       "        targ = targ.parentNode;\n",
       "\n",
       "    // jQuery normalizes the pageX and pageY\n",
       "    // pageX,Y are the mouse positions relative to the document\n",
       "    // offset() returns the position of the element relative to the document\n",
       "    var x = e.pageX - $(targ).offset().left;\n",
       "    var y = e.pageY - $(targ).offset().top;\n",
       "\n",
       "    return {\"x\": x, \"y\": y};\n",
       "};\n",
       "\n",
       "/*\n",
       " * return a copy of an object with only non-object keys\n",
       " * we need this to avoid circular references\n",
       " * http://stackoverflow.com/a/24161582/3208463\n",
       " */\n",
       "function simpleKeys (original) {\n",
       "  return Object.keys(original).reduce(function (obj, key) {\n",
       "    if (typeof original[key] !== 'object')\n",
       "        obj[key] = original[key]\n",
       "    return obj;\n",
       "  }, {});\n",
       "}\n",
       "\n",
       "mpl.figure.prototype.mouse_event = function(event, name) {\n",
       "    var canvas_pos = mpl.findpos(event)\n",
       "\n",
       "    if (name === 'button_press')\n",
       "    {\n",
       "        this.canvas.focus();\n",
       "        this.canvas_div.focus();\n",
       "    }\n",
       "\n",
       "    var x = canvas_pos.x;\n",
       "    var y = canvas_pos.y;\n",
       "\n",
       "    this.send_message(name, {x: x, y: y, button: event.button,\n",
       "                             step: event.step,\n",
       "                             guiEvent: simpleKeys(event)});\n",
       "\n",
       "    /* This prevents the web browser from automatically changing to\n",
       "     * the text insertion cursor when the button is pressed.  We want\n",
       "     * to control all of the cursor setting manually through the\n",
       "     * 'cursor' event from matplotlib */\n",
       "    event.preventDefault();\n",
       "    return false;\n",
       "}\n",
       "\n",
       "mpl.figure.prototype._key_event_extra = function(event, name) {\n",
       "    // Handle any extra behaviour associated with a key event\n",
       "}\n",
       "\n",
       "mpl.figure.prototype.key_event = function(event, name) {\n",
       "\n",
       "    // Prevent repeat events\n",
       "    if (name == 'key_press')\n",
       "    {\n",
       "        if (event.which === this._key)\n",
       "            return;\n",
       "        else\n",
       "            this._key = event.which;\n",
       "    }\n",
       "    if (name == 'key_release')\n",
       "        this._key = null;\n",
       "\n",
       "    var value = '';\n",
       "    if (event.ctrlKey && event.which != 17)\n",
       "        value += \"ctrl+\";\n",
       "    if (event.altKey && event.which != 18)\n",
       "        value += \"alt+\";\n",
       "    if (event.shiftKey && event.which != 16)\n",
       "        value += \"shift+\";\n",
       "\n",
       "    value += 'k';\n",
       "    value += event.which.toString();\n",
       "\n",
       "    this._key_event_extra(event, name);\n",
       "\n",
       "    this.send_message(name, {key: value,\n",
       "                             guiEvent: simpleKeys(event)});\n",
       "    return false;\n",
       "}\n",
       "\n",
       "mpl.figure.prototype.toolbar_button_onclick = function(name) {\n",
       "    if (name == 'download') {\n",
       "        this.handle_save(this, null);\n",
       "    } else {\n",
       "        this.send_message(\"toolbar_button\", {name: name});\n",
       "    }\n",
       "};\n",
       "\n",
       "mpl.figure.prototype.toolbar_button_onmouseover = function(tooltip) {\n",
       "    this.message.textContent = tooltip;\n",
       "};\n",
       "mpl.toolbar_items = [[\"Home\", \"Reset original view\", \"fa fa-home icon-home\", \"home\"], [\"Back\", \"Back to  previous view\", \"fa fa-arrow-left icon-arrow-left\", \"back\"], [\"Forward\", \"Forward to next view\", \"fa fa-arrow-right icon-arrow-right\", \"forward\"], [\"\", \"\", \"\", \"\"], [\"Pan\", \"Pan axes with left mouse, zoom with right\", \"fa fa-arrows icon-move\", \"pan\"], [\"Zoom\", \"Zoom to rectangle\", \"fa fa-square-o icon-check-empty\", \"zoom\"], [\"\", \"\", \"\", \"\"], [\"Download\", \"Download plot\", \"fa fa-floppy-o icon-save\", \"download\"]];\n",
       "\n",
       "mpl.extensions = [\"eps\", \"jpeg\", \"pdf\", \"png\", \"ps\", \"raw\", \"svg\", \"tif\"];\n",
       "\n",
       "mpl.default_extension = \"png\";var comm_websocket_adapter = function(comm) {\n",
       "    // Create a \"websocket\"-like object which calls the given IPython comm\n",
       "    // object with the appropriate methods. Currently this is a non binary\n",
       "    // socket, so there is still some room for performance tuning.\n",
       "    var ws = {};\n",
       "\n",
       "    ws.close = function() {\n",
       "        comm.close()\n",
       "    };\n",
       "    ws.send = function(m) {\n",
       "        //console.log('sending', m);\n",
       "        comm.send(m);\n",
       "    };\n",
       "    // Register the callback with on_msg.\n",
       "    comm.on_msg(function(msg) {\n",
       "        //console.log('receiving', msg['content']['data'], msg);\n",
       "        // Pass the mpl event to the overriden (by mpl) onmessage function.\n",
       "        ws.onmessage(msg['content']['data'])\n",
       "    });\n",
       "    return ws;\n",
       "}\n",
       "\n",
       "mpl.mpl_figure_comm = function(comm, msg) {\n",
       "    // This is the function which gets called when the mpl process\n",
       "    // starts-up an IPython Comm through the \"matplotlib\" channel.\n",
       "\n",
       "    var id = msg.content.data.id;\n",
       "    // Get hold of the div created by the display call when the Comm\n",
       "    // socket was opened in Python.\n",
       "    var element = $(\"#\" + id);\n",
       "    var ws_proxy = comm_websocket_adapter(comm)\n",
       "\n",
       "    function ondownload(figure, format) {\n",
       "        window.open(figure.imageObj.src);\n",
       "    }\n",
       "\n",
       "    var fig = new mpl.figure(id, ws_proxy,\n",
       "                           ondownload,\n",
       "                           element.get(0));\n",
       "\n",
       "    // Call onopen now - mpl needs it, as it is assuming we've passed it a real\n",
       "    // web socket which is closed, not our websocket->open comm proxy.\n",
       "    ws_proxy.onopen();\n",
       "\n",
       "    fig.parent_element = element.get(0);\n",
       "    fig.cell_info = mpl.find_output_cell(\"<div id='\" + id + \"'></div>\");\n",
       "    if (!fig.cell_info) {\n",
       "        console.error(\"Failed to find cell for figure\", id, fig);\n",
       "        return;\n",
       "    }\n",
       "\n",
       "    var output_index = fig.cell_info[2]\n",
       "    var cell = fig.cell_info[0];\n",
       "\n",
       "};\n",
       "\n",
       "mpl.figure.prototype.handle_close = function(fig, msg) {\n",
       "    fig.root.unbind('remove')\n",
       "\n",
       "    // Update the output cell to use the data from the current canvas.\n",
       "    fig.push_to_output();\n",
       "    var dataURL = fig.canvas.toDataURL();\n",
       "    // Re-enable the keyboard manager in IPython - without this line, in FF,\n",
       "    // the notebook keyboard shortcuts fail.\n",
       "    IPython.keyboard_manager.enable()\n",
       "    $(fig.parent_element).html('<img src=\"' + dataURL + '\">');\n",
       "    fig.close_ws(fig, msg);\n",
       "}\n",
       "\n",
       "mpl.figure.prototype.close_ws = function(fig, msg){\n",
       "    fig.send_message('closing', msg);\n",
       "    // fig.ws.close()\n",
       "}\n",
       "\n",
       "mpl.figure.prototype.push_to_output = function(remove_interactive) {\n",
       "    // Turn the data on the canvas into data in the output cell.\n",
       "    var dataURL = this.canvas.toDataURL();\n",
       "    this.cell_info[1]['text/html'] = '<img src=\"' + dataURL + '\">';\n",
       "}\n",
       "\n",
       "mpl.figure.prototype.updated_canvas_event = function() {\n",
       "    // Tell IPython that the notebook contents must change.\n",
       "    IPython.notebook.set_dirty(true);\n",
       "    this.send_message(\"ack\", {});\n",
       "    var fig = this;\n",
       "    // Wait a second, then push the new image to the DOM so\n",
       "    // that it is saved nicely (might be nice to debounce this).\n",
       "    setTimeout(function () { fig.push_to_output() }, 1000);\n",
       "}\n",
       "\n",
       "mpl.figure.prototype._init_toolbar = function() {\n",
       "    var fig = this;\n",
       "\n",
       "    var nav_element = $('<div/>')\n",
       "    nav_element.attr('style', 'width: 100%');\n",
       "    this.root.append(nav_element);\n",
       "\n",
       "    // Define a callback function for later on.\n",
       "    function toolbar_event(event) {\n",
       "        return fig.toolbar_button_onclick(event['data']);\n",
       "    }\n",
       "    function toolbar_mouse_event(event) {\n",
       "        return fig.toolbar_button_onmouseover(event['data']);\n",
       "    }\n",
       "\n",
       "    for(var toolbar_ind in mpl.toolbar_items){\n",
       "        var name = mpl.toolbar_items[toolbar_ind][0];\n",
       "        var tooltip = mpl.toolbar_items[toolbar_ind][1];\n",
       "        var image = mpl.toolbar_items[toolbar_ind][2];\n",
       "        var method_name = mpl.toolbar_items[toolbar_ind][3];\n",
       "\n",
       "        if (!name) { continue; };\n",
       "\n",
       "        var button = $('<button class=\"btn btn-default\" href=\"#\" title=\"' + name + '\"><i class=\"fa ' + image + ' fa-lg\"></i></button>');\n",
       "        button.click(method_name, toolbar_event);\n",
       "        button.mouseover(tooltip, toolbar_mouse_event);\n",
       "        nav_element.append(button);\n",
       "    }\n",
       "\n",
       "    // Add the status bar.\n",
       "    var status_bar = $('<span class=\"mpl-message\" style=\"text-align:right; float: right;\"/>');\n",
       "    nav_element.append(status_bar);\n",
       "    this.message = status_bar[0];\n",
       "\n",
       "    // Add the close button to the window.\n",
       "    var buttongrp = $('<div class=\"btn-group inline pull-right\"></div>');\n",
       "    var button = $('<button class=\"btn btn-mini btn-primary\" href=\"#\" title=\"Stop Interaction\"><i class=\"fa fa-power-off icon-remove icon-large\"></i></button>');\n",
       "    button.click(function (evt) { fig.handle_close(fig, {}); } );\n",
       "    button.mouseover('Stop Interaction', toolbar_mouse_event);\n",
       "    buttongrp.append(button);\n",
       "    var titlebar = this.root.find($('.ui-dialog-titlebar'));\n",
       "    titlebar.prepend(buttongrp);\n",
       "}\n",
       "\n",
       "mpl.figure.prototype._root_extra_style = function(el){\n",
       "    var fig = this\n",
       "    el.on(\"remove\", function(){\n",
       "\tfig.close_ws(fig, {});\n",
       "    });\n",
       "}\n",
       "\n",
       "mpl.figure.prototype._canvas_extra_style = function(el){\n",
       "    // this is important to make the div 'focusable\n",
       "    el.attr('tabindex', 0)\n",
       "    // reach out to IPython and tell the keyboard manager to turn it's self\n",
       "    // off when our div gets focus\n",
       "\n",
       "    // location in version 3\n",
       "    if (IPython.notebook.keyboard_manager) {\n",
       "        IPython.notebook.keyboard_manager.register_events(el);\n",
       "    }\n",
       "    else {\n",
       "        // location in version 2\n",
       "        IPython.keyboard_manager.register_events(el);\n",
       "    }\n",
       "\n",
       "}\n",
       "\n",
       "mpl.figure.prototype._key_event_extra = function(event, name) {\n",
       "    var manager = IPython.notebook.keyboard_manager;\n",
       "    if (!manager)\n",
       "        manager = IPython.keyboard_manager;\n",
       "\n",
       "    // Check for shift+enter\n",
       "    if (event.shiftKey && event.which == 13) {\n",
       "        this.canvas_div.blur();\n",
       "        event.shiftKey = false;\n",
       "        // Send a \"J\" for go to next cell\n",
       "        event.which = 74;\n",
       "        event.keyCode = 74;\n",
       "        manager.command_mode();\n",
       "        manager.handle_keydown(event);\n",
       "    }\n",
       "}\n",
       "\n",
       "mpl.figure.prototype.handle_save = function(fig, msg) {\n",
       "    fig.ondownload(fig, null);\n",
       "}\n",
       "\n",
       "\n",
       "mpl.find_output_cell = function(html_output) {\n",
       "    // Return the cell and output element which can be found *uniquely* in the notebook.\n",
       "    // Note - this is a bit hacky, but it is done because the \"notebook_saving.Notebook\"\n",
       "    // IPython event is triggered only after the cells have been serialised, which for\n",
       "    // our purposes (turning an active figure into a static one), is too late.\n",
       "    var cells = IPython.notebook.get_cells();\n",
       "    var ncells = cells.length;\n",
       "    for (var i=0; i<ncells; i++) {\n",
       "        var cell = cells[i];\n",
       "        if (cell.cell_type === 'code'){\n",
       "            for (var j=0; j<cell.output_area.outputs.length; j++) {\n",
       "                var data = cell.output_area.outputs[j];\n",
       "                if (data.data) {\n",
       "                    // IPython >= 3 moved mimebundle to data attribute of output\n",
       "                    data = data.data;\n",
       "                }\n",
       "                if (data['text/html'] == html_output) {\n",
       "                    return [cell, data, j];\n",
       "                }\n",
       "            }\n",
       "        }\n",
       "    }\n",
       "}\n",
       "\n",
       "// Register the function which deals with the matplotlib target/channel.\n",
       "// The kernel may be null if the page has been refreshed.\n",
       "if (IPython.notebook.kernel != null) {\n",
       "    IPython.notebook.kernel.comm_manager.register_target('matplotlib', mpl.mpl_figure_comm);\n",
       "}\n"
      ],
      "text/plain": [
       "<IPython.core.display.Javascript object>"
      ]
     },
     "metadata": {},
     "output_type": "display_data"
    },
    {
     "data": {
      "text/html": [
       "<img src=\"data:image/png;base64,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\">"
      ],
      "text/plain": [
       "<IPython.core.display.HTML object>"
      ]
     },
     "metadata": {},
     "output_type": "display_data"
    },
    {
     "data": {
      "text/plain": [
       "[<matplotlib.lines.Line2D at 0x798f080>]"
      ]
     },
     "execution_count": 31,
     "metadata": {},
     "output_type": "execute_result"
    }
   ],
   "source": [
    "%matplotlib notebook\n",
    "plt.plot(data.trace[7]['raw'],'b',lw=0.5)\n",
    "plt.plot(data.trace[7]['filtered'],'r',lw=1.5)"
   ]
  },
  {
   "cell_type": "code",
   "execution_count": null,
   "metadata": {
    "collapsed": false
   },
   "outputs": [],
   "source": [
    "enet.packets[4].payload[40:].view(np.uint32).size"
   ]
  },
  {
   "cell_type": "code",
   "execution_count": null,
   "metadata": {
    "collapsed": false
   },
   "outputs": [],
   "source": [
    "enet.packets[4].length"
   ]
  },
  {
   "cell_type": "code",
   "execution_count": null,
   "metadata": {
    "collapsed": false
   },
   "outputs": [],
   "source": [
    "dist=dists[1]\n",
    "c=check_distribution(dist,data)\n",
    "(c-dist.counts).nonzero()[0].size"
   ]
  },
  {
   "cell_type": "code",
   "execution_count": null,
   "metadata": {
    "collapsed": false
   },
   "outputs": [],
   "source": [
    "start=dist.start_time\n",
    "stop=dist.stop_time+np.uint64(1)\n",
    "s=data.slice((start, stop))\n",
    "f = s.trace[dist.channel]['filtered']\n",
    "fd = data.trace[dist.channel]['filtered'][start:stop]\n",
    "(f-fd).nonzero()"
   ]
  },
  {
   "cell_type": "code",
   "execution_count": null,
   "metadata": {
    "collapsed": false
   },
   "outputs": [],
   "source": [
    "np.uint64(1)+np.uint64(-1)"
   ]
  },
  {
   "cell_type": "code",
   "execution_count": null,
   "metadata": {
    "collapsed": false
   },
   "outputs": [],
   "source": [
    "event_dt=np.dtype(\n",
    "    (np.uint64, \n",
    "        [\n",
    "            ('data', np.uint32),\n",
    "            ('flags0', np.uint8),\n",
    "            ('flags1', np.uint8),\n",
    "            ('time',np.uint16)\n",
    "        ] \n",
    "    )\n",
    ")\n",
    "\n",
    "peak_dt=np.dtype(\n",
    "    (\n",
    "        [\n",
    "            ('height', np.int16),\n",
    "            ('minima', np.int16),\n",
    "            ('flags0', np.uint8),\n",
    "            ('flags1', np.uint8),\n",
    "            ('time',np.uint16)\n",
    "        ] \n",
    "    )\n",
    ")\n",
    "\n",
    "tick_dt=np.dtype(\n",
    "    ( \n",
    "        [\n",
    "            ('period', np.uint32),\n",
    "            ('flags0', np.uint8),\n",
    "            ('flags1', np.uint8),\n",
    "            ('time', np.uint16),\n",
    "            ('timestamp', np.uint64)\n",
    "        ]\n",
    "    )\n",
    ")\n",
    "\n",
    "e = sim.EventStream('teslib','measurement_subsystem_TB')\n",
    "\n",
    "events=e._stream64.view(dtype=event_dt)\n",
    "\n",
    "#type_flags = np.bitwise_and(events['flags'],0x000f)\n",
    "tick = np.bitwise_and(events['flags1'],0x02)!=0\n",
    "window_start = np.bitwise_and(events['flags1'],0x01)!=0\n",
    "\n",
    "tick_mask=np.zeros(len(tick),dtype=bool)\n",
    "i=0\n",
    "while (i < len(tick)):\n",
    "    if tick[i]!=0:\n",
    "        tick_mask[i:i+2]=True\n",
    "        i+=1\n",
    "    i+=1\n",
    "    \n",
    "peaks=e._stream64[~tick_mask].view(dtype=peak_dt)\n",
    "\n",
    "ticks=e._stream64[tick_mask].view(dtype=tick_dt)"
   ]
  },
  {
   "cell_type": "code",
   "execution_count": null,
   "metadata": {
    "collapsed": false
   },
   "outputs": [],
   "source": [
    "d=distributions[0]\n",
    "\n",
    "\n",
    "d.value.trace"
   ]
  },
  {
   "cell_type": "code",
   "execution_count": null,
   "metadata": {
    "collapsed": true
   },
   "outputs": [],
   "source": [
    "%matplotlib notebook\n",
    "stop=distributions[0].stop_time\n",
    "start=distributions[0].start_time\n",
    "plt.plot(data.trace[0]['filtered'][start:stop])"
   ]
  },
  {
   "cell_type": "code",
   "execution_count": null,
   "metadata": {
    "collapsed": false
   },
   "outputs": [],
   "source": [
    "%matplotlib notebook\n",
    "d=0\n",
    "plt.plot(distributions[d].counts)"
   ]
  },
  {
   "cell_type": "code",
   "execution_count": null,
   "metadata": {
    "collapsed": false,
    "scrolled": true
   },
   "outputs": [],
   "source": [
    "p=1\n",
    "lasts=enet['last'].nonzero()[0]+1\n",
    "packets = []\n",
    "prev=0\n",
    "for last in lasts:\n",
    "    packets.append(sim.Packet( np.copy(enet['data'][prev:last]).view(np.uint8)))\n",
    "    prev=last\n",
    "\n",
    "packets[:]"
   ]
  },
  {
   "cell_type": "code",
   "execution_count": null,
   "metadata": {
    "collapsed": false
   },
   "outputs": [],
   "source": [
    "packets[4]"
   ]
  },
  {
   "cell_type": "code",
   "execution_count": null,
   "metadata": {
    "collapsed": false
   },
   "outputs": [],
   "source": [
    "def get_distributions(packets):\n",
    "    for packet in packets:\n",
    "        if packet.payload_type == PayloadType.mca:\n",
    "            \n",
    "        \n",
    "    \n",
    "    \n",
    "    \n",
    "packets[4].payload[0:8].view(mca_header_dt)"
   ]
  },
  {
   "cell_type": "code",
   "execution_count": null,
   "metadata": {
    "collapsed": false
   },
   "outputs": [],
   "source": [
    "peaks=packets[1].payload.view(peak_dt)\n",
    "peaks"
   ]
  },
  {
   "cell_type": "code",
   "execution_count": null,
   "metadata": {
    "collapsed": false
   },
   "outputs": [],
   "source": [
    "\n",
    "time=0\n",
    "times=[]\n",
    "heights=[]\n",
    "minimas=[]\n",
    "\n",
    "for p in packets:\n",
    "    if p.payload_type==sim.EventType.tick:\n",
    "        tick=p.payload.view(tick_dt)\n",
    "        time=tick[0]['timestamp']\n",
    "    elif p.payload_type==sim.EventType.peak:\n",
    "        peaks=p.payload.view(peak_dt)\n",
    "        for peak in peaks:\n",
    "            time+=peak['time']\n",
    "            times.append(time)\n",
    "            heights.append(peak['height'])\n",
    "            minimas.append(peak['minima'])\n",
    "            "
   ]
  },
  {
   "cell_type": "code",
   "execution_count": null,
   "metadata": {
    "collapsed": false
   },
   "outputs": [],
   "source": [
    "times"
   ]
  },
  {
   "cell_type": "code",
   "execution_count": null,
   "metadata": {
    "collapsed": false
   },
   "outputs": [],
   "source": [
    "packets[1].payload.view(peak_dt)"
   ]
  },
  {
   "cell_type": "code",
   "execution_count": null,
   "metadata": {
    "collapsed": false
   },
   "outputs": [],
   "source": [
    "heights[0]"
   ]
  },
  {
   "cell_type": "code",
   "execution_count": null,
   "metadata": {
    "collapsed": false,
    "scrolled": false
   },
   "outputs": [],
   "source": [
    "%matplotlib notebook\n",
    "p=3\n",
    "x=np.arange(times[p]-300,times[p]+1000,dtype=np.uint64)\n",
    "plt.plot([times[p], times[p]],[minimas[p], heights[p]],'r',lw=2)\n",
    "plt.step(x,data.trace['filtered'][x])\n",
    "plt.plot(data.peak[p/2],data.trace['filtered'][data.peak[p/2]],'ro')\n",
    "plt.plot(\n",
    "    [data.peak_start[p/2],times[p]],\n",
    "    [data.trace['filtered'][data.peak_start[p/2]],data.trace['filtered'][data.peak_start[p/2]]],\n",
    "    'k'\n",
    ")\n",
    "plt.plot(\n",
    "    [times[p],data.peak[p/2]],\n",
    "    [data.trace['filtered'][data.peak[p/2]],data.trace['filtered'][data.peak[p/2]]],\n",
    "    'k'\n",
    ")"
   ]
  },
  {
   "cell_type": "code",
   "execution_count": null,
   "metadata": {
    "collapsed": false
   },
   "outputs": [],
   "source": [
    "%matplotlib notebook\n",
    "fig=simplt.plot_slice(data.slice((data.peak[0]-1000,data.peak[0]+1000)))\n",
    "data.trace['filtered'][data.peak[0]]"
   ]
  },
  {
   "cell_type": "code",
   "execution_count": null,
   "metadata": {
    "collapsed": false,
    "scrolled": false
   },
   "outputs": [],
   "source": [
    "data.cfd_low"
   ]
  },
  {
   "cell_type": "code",
   "execution_count": null,
   "metadata": {
    "collapsed": false
   },
   "outputs": [],
   "source": [
    "packet_bytes=packet.view(np.uint8)"
   ]
  },
  {
   "cell_type": "code",
   "execution_count": null,
   "metadata": {
    "collapsed": false
   },
   "outputs": [],
   "source": [
    "packet_bytes"
   ]
  },
  {
   "cell_type": "code",
   "execution_count": null,
   "metadata": {
    "collapsed": false
   },
   "outputs": [],
   "source": []
  },
  {
   "cell_type": "code",
   "execution_count": null,
   "metadata": {
    "collapsed": false
   },
   "outputs": [],
   "source": [
    "\n",
    "payload"
   ]
  },
  {
   "cell_type": "code",
   "execution_count": null,
   "metadata": {
    "collapsed": false,
    "scrolled": false
   },
   "outputs": [],
   "source": [
    "\n",
    "payload_type"
   ]
  },
  {
   "cell_type": "code",
   "execution_count": null,
   "metadata": {
    "collapsed": false
   },
   "outputs": [],
   "source": [
    "time=payload[6:8].view(np.uint16)\n",
    "time"
   ]
  },
  {
   "cell_type": "code",
   "execution_count": null,
   "metadata": {
    "collapsed": false
   },
   "outputs": [],
   "source": [
    "\n",
    "peaks"
   ]
  },
  {
   "cell_type": "code",
   "execution_count": null,
   "metadata": {
    "collapsed": false
   },
   "outputs": [],
   "source": [
    "payload[4+8:6+8]"
   ]
  },
  {
   "cell_type": "code",
   "execution_count": null,
   "metadata": {
    "collapsed": false
   },
   "outputs": [],
   "source": [
    "%matplotlib notebook\n",
    "fig=simplt.plot_pulse(1,data)"
   ]
  },
  {
   "cell_type": "code",
   "execution_count": null,
   "metadata": {
    "collapsed": false
   },
   "outputs": [],
   "source": [
    "fig._axstack.as_list()[0]"
   ]
  },
  {
   "cell_type": "code",
   "execution_count": null,
   "metadata": {
    "collapsed": false,
    "scrolled": true
   },
   "outputs": [],
   "source": [
    "tick"
   ]
  },
  {
   "cell_type": "code",
   "execution_count": null,
   "metadata": {
    "collapsed": false
   },
   "outputs": [],
   "source": [
    "ticks"
   ]
  },
  {
   "cell_type": "code",
   "execution_count": null,
   "metadata": {
    "collapsed": false
   },
   "outputs": [],
   "source": [
    "window_start"
   ]
  },
  {
   "cell_type": "code",
   "execution_count": null,
   "metadata": {
    "collapsed": false
   },
   "outputs": [],
   "source": [
    "tick_mask"
   ]
  },
  {
   "cell_type": "code",
   "execution_count": null,
   "metadata": {
    "collapsed": false
   },
   "outputs": [],
   "source": [
    "e._stream64[tick_mask]"
   ]
  },
  {
   "cell_type": "code",
   "execution_count": null,
   "metadata": {
    "collapsed": false
   },
   "outputs": [],
   "source": [
    "type_flags[~tick_mask]"
   ]
  },
  {
   "cell_type": "code",
   "execution_count": null,
   "metadata": {
    "collapsed": false
   },
   "outputs": [],
   "source": [
    "type_flags = np.bitwise_and(events['flags'],0x000f)\n",
    "peak_num = np.right_shift(np.bitwise_and(events['flags'],0x00f0),4)\n",
    "channel = np.right_shift(np.bitwise_and(events['flags'],0x0f00),8)\n",
    "event_type = np.right_shift(np.bitwise_and(events['flags'],0x3000),12)\n",
    "tick=np.bitwise_and(type_flags,0x0002)"
   ]
  },
  {
   "cell_type": "code",
   "execution_count": null,
   "metadata": {
    "collapsed": false
   },
   "outputs": [],
   "source": [
    "ticks"
   ]
  },
  {
   "cell_type": "code",
   "execution_count": null,
   "metadata": {
    "collapsed": false
   },
   "outputs": [],
   "source": []
  },
  {
   "cell_type": "code",
   "execution_count": null,
   "metadata": {
    "collapsed": false
   },
   "outputs": [],
   "source": [
    "tick_mask"
   ]
  },
  {
   "cell_type": "code",
   "execution_count": null,
   "metadata": {
    "collapsed": false
   },
   "outputs": [],
   "source": [
    "events[tick_mask]"
   ]
  },
  {
   "cell_type": "code",
   "execution_count": null,
   "metadata": {
    "collapsed": false
   },
   "outputs": [],
   "source": [
    "time=np.bitwise_and(events[~tick_mask]['time'],0x7fff)\n",
    "c_start=np.bitwise_and(events[~tick_mask]['time'],0x8000)!=0"
   ]
  },
  {
   "cell_type": "code",
   "execution_count": null,
   "metadata": {
    "collapsed": false
   },
   "outputs": [],
   "source": [
    "events[tick_mask]['time']"
   ]
  },
  {
   "cell_type": "code",
   "execution_count": null,
   "metadata": {
    "collapsed": false
   },
   "outputs": [],
   "source": [
    "time"
   ]
  },
  {
   "cell_type": "code",
   "execution_count": null,
   "metadata": {
    "collapsed": false
   },
   "outputs": [],
   "source": [
    "np.binary_repr(time[0],width=16)"
   ]
  },
  {
   "cell_type": "code",
   "execution_count": null,
   "metadata": {
    "collapsed": false
   },
   "outputs": [],
   "source": [
    "events[~tick_mask]['min']"
   ]
  },
  {
   "cell_type": "code",
   "execution_count": null,
   "metadata": {
    "collapsed": false
   },
   "outputs": [],
   "source": [
    "events[~tick_mask]['height']"
   ]
  },
  {
   "cell_type": "code",
   "execution_count": null,
   "metadata": {
    "collapsed": false
   },
   "outputs": [],
   "source": [
    "%matplotlib notebook\n",
    "fig = simplt.plot_pulse(1,data,pre=500,length=3000)\n"
   ]
  },
  {
   "cell_type": "code",
   "execution_count": null,
   "metadata": {
    "collapsed": true
   },
   "outputs": [],
   "source": [
    "import pickle\n",
    "\n",
    "# An arbitrary collection of objects supported by pickle.\n",
    "\n",
    "pickler = pickle.Pickler(open('long.pickle', 'wb'),pickle.HIGHEST_PROTOCOL)\n",
    "pickler.dump(data)\n"
   ]
  },
  {
   "cell_type": "code",
   "execution_count": null,
   "metadata": {
    "collapsed": true
   },
   "outputs": [],
   "source": [
    "unpickler = pickle.Unpickler(open('long.pickle', 'rb'))\n",
    "reg2=unpickler.load()\n",
    "data2=unpickler.load()"
   ]
  },
  {
   "cell_type": "code",
   "execution_count": null,
   "metadata": {
    "collapsed": false
   },
   "outputs": [],
   "source": [
    "data2.trace['slope']"
   ]
  },
  {
   "cell_type": "code",
   "execution_count": null,
   "metadata": {
    "collapsed": false
   },
   "outputs": [],
   "source": [
    "reg2"
   ]
  },
  {
   "cell_type": "code",
   "execution_count": null,
   "metadata": {
    "collapsed": false,
    "scrolled": false
   },
   "outputs": [],
   "source": [
    "axs = fig.get_axes()\n",
    "pax=axs[0].parasites\n",
    "pax[0]._label\n",
    "f_ins_ax=axs[1]\n",
    "s_ins_ax=f_ins_ax.parasites[0]"
   ]
  },
  {
   "cell_type": "code",
   "execution_count": null,
   "metadata": {
    "collapsed": false,
    "scrolled": false
   },
   "outputs": [],
   "source": [
    "es=sim.Data.fromfile('eventstream',np.int32,'teslib','measurement_unit_TB')"
   ]
  },
  {
   "cell_type": "code",
   "execution_count": null,
   "metadata": {
    "collapsed": false
   },
   "outputs": [],
   "source": [
    "es"
   ]
  },
  {
   "cell_type": "code",
   "execution_count": null,
   "metadata": {
    "collapsed": false
   },
   "outputs": [],
   "source": [
    "data.peak[-1]"
   ]
  },
  {
   "cell_type": "code",
   "execution_count": null,
   "metadata": {
    "collapsed": false
   },
   "outputs": [],
   "source": [
    "s.peak"
   ]
  },
  {
   "cell_type": "code",
   "execution_count": null,
   "metadata": {
    "collapsed": false
   },
   "outputs": [],
   "source": [
    "isinstance(r,sim.DataRegion)"
   ]
  },
  {
   "cell_type": "code",
   "execution_count": null,
   "metadata": {
    "collapsed": false
   },
   "outputs": [],
   "source": [
    "r.peak"
   ]
  },
  {
   "cell_type": "code",
   "execution_count": null,
   "metadata": {
    "collapsed": false
   },
   "outputs": [],
   "source": [
    "i"
   ]
  },
  {
   "cell_type": "code",
   "execution_count": null,
   "metadata": {
    "collapsed": false
   },
   "outputs": [],
   "source": [
    "%matplotlib notebook\n",
    "import matplotlib.pyplot as plt\n",
    "\n",
    "plt.plot(data.trace['filtered'])"
   ]
  },
  {
   "cell_type": "code",
   "execution_count": null,
   "metadata": {
    "collapsed": false
   },
   "outputs": [],
   "source": [
    "ax=plt.gca()\n",
    "t=ax.transData\n",
    "t.transform([[0.1,0.2],[1,3]])"
   ]
  },
  {
   "cell_type": "code",
   "execution_count": null,
   "metadata": {
    "collapsed": true
   },
   "outputs": [],
   "source": [
    "x=np.array([0,1,2,3])\n",
    "y=np.array([3,4,5,6])\n",
    "\n",
    "xy=np.empty(shape=(4,2))"
   ]
  },
  {
   "cell_type": "code",
   "execution_count": null,
   "metadata": {
    "collapsed": false
   },
   "outputs": [],
   "source": [
    "xy[:,0]=x\n",
    "xy[:,1]=y\n",
    "t.transform(xy)"
   ]
  },
  {
   "cell_type": "code",
   "execution_count": null,
   "metadata": {
    "collapsed": true
   },
   "outputs": [],
   "source": []
  },
  {
   "cell_type": "code",
   "execution_count": null,
   "metadata": {
    "collapsed": false
   },
   "outputs": [],
   "source": [
    "# run to import isim data files\n",
    "\n",
    "import numpy as np\n",
    "import os\n",
    "import matplotlib.pyplot as plt\n",
    "import math\n",
    "from enum import Enum\n",
    "\n",
    "plt.rcParams[\"figure.figsize\"]=[800./80,600./80]\n",
    "\n",
    "repo='c:\\\\TES_project\\\\fpga_ise\\\\'\n",
    "project='teslib'\n",
    "testbench='measurement_unit_TB'\n",
    "datafile='traces'\n",
    "path=repo+project+'\\\\PlanAhead\\\\'+project+'.sim\\\\'+testbench+'\\\\'\n",
    "\n",
    "traces_dt = np.dtype([('input', np.int32),('raw',np.int32),('filtered',np.int32),('slope',np.int32)])\n",
    "traces=np.fromfile(path+'traces',traces_dt)\n",
    "trigger=np.fromfile(path+'triggers',np.int32)\n",
    "settings=np.fromfile(path+'settings',np.int32)\n",
    "cfd_low=np.fromfile(path+'cfdlow',np.int32)\n",
    "cfd_high=np.fromfile(path+'cfdhigh',np.int32)\n",
    "peaks=np.fromfile(path+'peaks',np.int32)\n",
    "peaks.shape=(-1,2)\n",
    "peak_starts=np.fromfile(path+'peak_starts',np.int32)\n",
    "#peak_starts.shape=(-1,2)\n",
    "pulse_starts=np.fromfile(path+'peak_starts',np.int32)\n",
    "settings=np.fromfile(path+'settings',np.int32)\n",
    "cfd_low=np.fromfile(path+'cfdlow',np.int32)\n",
    "cfd_high=np.fromfile(path+'cfdhigh',np.int32)\n",
    "slope_xing=np.fromfile(path+'slopethreshxings',np.int32)\n"
   ]
  },
  {
   "cell_type": "code",
   "execution_count": null,
   "metadata": {
    "collapsed": false
   },
   "outputs": [],
   "source": [
    "settings[13]"
   ]
  },
  {
   "cell_type": "code",
   "execution_count": null,
   "metadata": {
    "collapsed": false
   },
   "outputs": [],
   "source": [
    "#create register dict from settings array\n",
    "\n",
    "class height_type(Enum):\n",
    "    def from_int(value):\n",
    "        if value == 0:\n",
    "            return height_type.peak_height\n",
    "        elif value == 1:\n",
    "            return height_type.cfd_high\n",
    "        elif value == 2:\n",
    "            return height_type.slope_integral\n",
    "        else:\n",
    "            raise AttributeError()\n",
    "    peak_height=0\n",
    "    cfd_high=1\n",
    "    slope_integral=2\n",
    "\n",
    "class trigger_type(Enum):\n",
    "    def from_int(value):\n",
    "        if value == 0:\n",
    "            return trigger_type.pulse_threshold\n",
    "        elif value == 1:\n",
    "            return trigger_type.slope_threshold\n",
    "        elif value == 2:\n",
    "            return trigger_type.cfd_low\n",
    "        else:\n",
    "            raise AttributeError()\n",
    "    pulse_threshold=0\n",
    "    slope_threshold=1\n",
    "    cfd_low=2\n",
    "\n",
    "class event_type(Enum):\n",
    "    def from_int(value):\n",
    "        if value == 0:\n",
    "            return event_type.peak\n",
    "        elif value == 1:\n",
    "            return event_type.area\n",
    "        elif value == 2:\n",
    "            return event_type.pulse\n",
    "        elif value == 3:\n",
    "            return event_type.trace\n",
    "        else:\n",
    "            raise AttributeError()\n",
    "    peak=0\n",
    "    area=1\n",
    "    pulse=2\n",
    "    trace=3\n",
    "\n",
    "\n",
    "def read_registers(settings):\n",
    "    registers = dict()\n",
    "    registers['baseline'] = dict()\n",
    "    registers['baseline']['offset'] = settings[0]\n",
    "    registers['baseline']['subtraction'] = settings[1]!=0\n",
    "    registers['baseline']['timeconstant'] = settings[2]\n",
    "    registers['baseline']['threshold'] = settings[3]\n",
    "    registers['baseline']['count_threshold'] = settings[4]\n",
    "    registers['generic'] = dict()\n",
    "    registers['baseline']['average_order'] = settings[5]\n",
    "    registers['capture'] = dict()\n",
    "    registers['capture']['cfd_relative'] = settings[6]!=0\n",
    "    registers['capture']['constant_fraction'] = settings[7]\n",
    "    registers['capture']['pulse_threshold'] = settings[8]\n",
    "    registers['capture']['slope_threshold'] = settings[9]\n",
    "    registers['capture']['pulse_area_threshold'] = settings[10]\n",
    "    registers['capture']['height_type'] = height_type.from_int(settings[11])\n",
    "    registers['capture']['threshold_rel2min'] = settings[12]!=0\n",
    "    registers['capture']['trigger_type'] = trigger_type.from_int(settings[13])\n",
    "    registers['capture']['event_type'] = event_type.from_int(settings[14])\n",
    "    return registers\n"
   ]
  },
  {
   "cell_type": "code",
   "execution_count": null,
   "metadata": {
    "collapsed": false
   },
   "outputs": [],
   "source": [
    "%matplotlib notebook\n",
    "x=np.arange(len(traces['filtered']))\n",
    "fig=plt.figure()\n",
    "\n",
    "ax=fig.add_axes([0.15,0.1,0.8,0.8])\n",
    "mV=1.0/math.pow(2,14)*1000\n",
    "nS=4\n",
    "\n",
    "\n",
    "i_trace, =ax.step(x*nS/1000000,(traces['input']+1800)*mV*2,'k',label='raw input')\n",
    "f_trace, =ax.step(x*nS/1000000,traces['filtered']*mV,'b',label='processed')\n",
    "fig.suptitle('Digital Signal Processing',fontsize=24)\n",
    "plt.xlabel('time (ms)',fontsize=18)\n",
    "plt.ylabel('Voltage (mV)',fontsize=18)\n",
    "plt.legend(handles=[i_trace,f_trace])\n",
    "\n",
    "fig.savefig('trace.png')\n",
    "plt.show()"
   ]
  },
  {
   "cell_type": "code",
   "execution_count": null,
   "metadata": {
    "collapsed": true
   },
   "outputs": [],
   "source": []
  },
  {
   "cell_type": "code",
   "execution_count": null,
   "metadata": {
    "collapsed": false
   },
   "outputs": [],
   "source": [
    "%matplotlib notebook\n",
    "import math\n",
    "\n",
    "def align_yaxis(ax1, v1, ax2, v2):\n",
    "    \"\"\"adjust ax2 ylimit so that v2 in ax2 is aligned to v1 in ax1\"\"\"\n",
    "    _, y1 = ax1.transData.transform((0, v1))\n",
    "    _, y2 = ax2.transData.transform((0, v2))\n",
    "    adjust_yaxis(ax2,(y1-y2)/2,v2)\n",
    "    adjust_yaxis(ax1,(y2-y1)/2,v1)\n",
    "\n",
    "def adjust_yaxis(ax,ydif,v):\n",
    "    \"\"\"shift axis ax by ydiff, maintaining point v at the same location\"\"\"\n",
    "    inv = ax.transData.inverted()\n",
    "    _, dy = inv.transform((0, 0)) - inv.transform((0, ydif))\n",
    "    miny, maxy = ax.get_ylim()\n",
    "    miny, maxy = miny - v, maxy - v\n",
    "    if -miny>maxy or (-miny==maxy and dy > 0):\n",
    "        nminy = miny\n",
    "        nmaxy = miny*(maxy+dy)/(miny+dy)\n",
    "    else:\n",
    "        nmaxy = maxy\n",
    "        nminy = maxy*(miny+dy)/(maxy+dy)\n",
    "    ax.set_ylim(nminy+v, nmaxy+v)\n",
    "    \n",
    "x=np.arange(len(traces['filtered']))\n",
    "fig=plt.figure()\n",
    "ax=fig.add_axes([0.1,0.1,0.8,0.8])\n",
    "plt.ylim(-10,120)\n",
    "v=math.pow(2,13)/1000\n",
    "t=x*4\n",
    "ax.plot([0,t[-1]],[0,0],'k')\n",
    "raw, = ax.step(t,traces['raw']/2/v,'k',lw=1,label='raw')\n",
    "processed, = ax.step(t,traces['filtered']/2/v,'r',lw=2,label='processed')\n",
    "ax.plot(trigger,traces['filtered'][trigger+1]/2,'kx')\n",
    "ax.plot(peaks[:,0],traces['filtered'][peaks[:,0]+1]/2,'ro')\n",
    "ax.plot(peak_starts,traces['filtered'][peak_starts+1]/2,'ro')\n",
    "ax.plot(cfd_high,traces['filtered'][cfd_high+1]/2,'bs')\n",
    "ax.plot(cfd_low,traces['filtered'][cfd_low+1]/2,'bs')\n",
    "plt.xlabel('time (ns)',fontsize=18)\n",
    "plt.ylabel('Voltage (mV)',fontsize=18,color='r')\n",
    "\n",
    "ax2=ax.twinx()\n",
    "slope, = ax2.step(t,traces['slope']/256/v/4,'b',lw=2,label='slope')\n",
    "plt.xlim([1292000,1297500])\n",
    "plt.ylim(-0.2,1)\n",
    "align_yaxis(ax,0,ax2,0)\n",
    "plt.ylabel('slope (mV/ns)',color='b',fontsize=18)\n",
    "fig.suptitle('Digital signal processing',fontsize=24)\n",
    "plt.legend(handles=[raw,processed,slope])\n",
    "fig.savefig('dsp.png')\n",
    "plt.show()"
   ]
  },
  {
   "cell_type": "code",
   "execution_count": null,
   "metadata": {
    "collapsed": false
   },
   "outputs": [],
   "source": [
    "%matplotlib notebook\n",
    "\n",
    "#plot pulse\n",
    "from mpl_toolkits.axes_grid1 import host_subplot\n",
    "from mpl_toolkits.axes_grid1.inset_locator import zoomed_inset_axes\n",
    "from mpl_toolkits.axes_grid1.inset_locator import mark_inset\n",
    "\n",
    "pulse=7\n",
    "length=2000\n",
    "pre=100\n",
    "\n",
    "def align_yaxis(ax1, v1, ax2, v2):\n",
    "    \"\"\"adjust ax2 ylimit so that v2 in ax2 is aligned to v1 in ax1\"\"\"\n",
    "    _, y1 = ax1.transData.transform((0, v1))\n",
    "    _, y2 = ax2.transData.transform((0, v2))\n",
    "    adjust_yaxis(ax2,(y1-y2)/2,v2)\n",
    "    adjust_yaxis(ax1,(y2-y1)/2,v1)\n",
    "\n",
    "def adjust_yaxis(ax,ydif,v):\n",
    "    \"\"\"shift axis ax by ydiff, maintaining point v at the same location\"\"\"\n",
    "    inv = ax.transData.inverted()\n",
    "    _, dy = inv.transform((0, 0)) - inv.transform((0, ydif))\n",
    "    miny, maxy = ax.get_ylim()\n",
    "    miny, maxy = miny - v, maxy - v\n",
    "    if -miny>maxy or (-miny==maxy and dy > 0):\n",
    "        nminy = miny\n",
    "        nmaxy = miny*(maxy+dy)/(miny+dy)\n",
    "    else:\n",
    "        nmaxy = maxy\n",
    "        nminy = maxy*(miny+dy)/(maxy+dy)\n",
    "    ax.set_ylim(nminy+v, nmaxy+v)\n",
    "    \n",
    "start=pulse_starts[pulse]-pre\n",
    "stop=start+length\n",
    "x=np.arange(0,len(traces['filtered']))\n",
    "fig=plt.figure()\n",
    "\n",
    "f_ax = host_subplot(111)\n",
    "s_ax = f_ax.twinx()\n",
    "\n",
    "f_ax.set_xlabel(\"Time (ns)\",fontsize=18)\n",
    "f_ax.set_ylabel(\"Voltage (mV)\",fontsize=18,color='r')\n",
    "s_ax.set_ylabel(\"Slope (mv/ns)\",fontsize=18,color='b')\n",
    "\n",
    "mV=1.0/math.pow(2,14)*1000\n",
    "nS=4\n",
    "t=x*nS\n",
    "\n",
    "f_sig = traces['filtered']*mV\n",
    "s_sig = traces['slope']*mV/nS\n",
    "\n",
    "f_ax.plot([t[start],t[stop]],[0,0],'k') # zero line\n",
    "f_trace, = f_ax.step(t[start:stop],f_sig[start:stop],'r',lw=2,label='processed')\n",
    "f_ax.set_ylim(-10,180)\n",
    "\n",
    "s_trace, = s_ax.step(t[start:stop],s_sig[start:stop],'b',lw=1,label='slope')\n",
    "s_ax.set_ylim(-15,50)\n",
    "#s_threshold = 6\n",
    "#s_ax.set_yticks(np.concatenate((s_ax.get_yticks(),[s_threshold])))\n",
    "#labels=[label.get_text() for label in s_ax.get_yticklabels()]\n",
    "#labels[6]='Threshold'\n",
    "\n",
    "#s_ax.set_yticklabels(labels)\n",
    "plt.xlim(t[start],t[stop])\n",
    "align_yaxis(f_ax,0,s_ax,0)\n",
    "fig.suptitle('Measurement:First pass',fontsize=24)\n",
    "#plt.legend(handles=[f_trace,s_trace])\n",
    "\n",
    "starts_mask = np.logical_and(peak_starts >= start,peak_starts <= stop)\n",
    "peaks_mask = np.logical_and(peaks[:,0] >= start, peaks[:,0] <= stop)\n",
    "peak_starts_inwin = peak_starts[starts_mask]\n",
    "\n",
    "for pstart in peak_starts_inwin:\n",
    "    peak_start_t=t[pstart]-2\n",
    "    peak_start_f=f_sig[pstart]\n",
    "    peak_start_s=s_sig[pstart]\n",
    "\n",
    "    f_ax.plot(peak_start_t,peak_start_f,'ro')\n",
    "    s_ax.plot(peak_start_t,peak_start_s,'bo')\n",
    "    \n",
    "    f_trans = f_ax.transData\n",
    "    s_trans = s_ax.transData.inverted()\n",
    "    trans = s_trans+f_trans\n",
    "    f_point=f_trans.transform((peak_start_t,peak_start_f))\n",
    "    s_point=s_trans.transform((f_point[0],f_point[1]))\n",
    "\n",
    "    s_ax.plot([peak_start_t,peak_start_t],[peak_start_s, s_point[1]],'k')\n",
    "\n",
    "#for p in peaks[0][peaks_inwin]\n",
    "peaks_inwin = peaks[peaks_mask,0]\n",
    "for p in peaks_inwin:\n",
    "    peak_t=t[p]-2\n",
    "    peak_f=f_sig[p]\n",
    "    peak_s=s_sig[p]\n",
    "\n",
    "    f_ax.plot(peak_t,peak_f,'ro')\n",
    "    s_ax.plot(peak_t,peak_s,'bo')\n",
    "    \n",
    "    f_trans = f_ax.transData\n",
    "    s_trans = s_ax.transData.inverted()\n",
    "    trans = s_trans+f_trans\n",
    "    f_point=f_trans.transform((peak_t,peak_f))\n",
    "    s_point=s_trans.transform((f_point[0],f_point[1]))\n",
    "\n",
    "    s_ax.plot([peak_t,peak_t],[peak_s, s_point[1]],'k')\n",
    "\n",
    "ins_start = peak_starts_inwin[0]-5\n",
    "ins_stop = peak_starts_inwin[0]+5\n",
    "f_ins_ax = zoomed_inset_axes(f_ax, 50, loc=1)  # zoom = 6\n",
    "f_ins_ax.step(t[ins_start:ins_stop],f_sig[ins_start:ins_stop],'r')\n",
    "f_ins_ax.set_ylim(-0.5,2)\n",
    "f_ins_ax.set_xlim(ins_start,ins_stop)\n",
    "f_ins_ax.set_yticks([])\n",
    "f_ins_ax.set_xticks([])\n",
    "\n",
    "f_ins_ax.plot([t[ins_start],t[ins_stop]],[0,0],'k') # zero line\n",
    "\n",
    "#plt.xticks(visible=False)\n",
    "#plt.yticks(visible=False)\n",
    "mark_inset(f_ax, f_ins_ax, loc1=2, loc2=4, fc=\"none\", ec=\"0.5\")\n",
    "\n",
    "s_ins_ax = f_ins_ax.twinx()\n",
    "s_ins_ax.set_yticks([])\n",
    "s_ins_ax.set_xticks([])\n",
    "\n",
    "s_ins_ax.step(t[ins_start:ins_stop],s_sig[ins_start:ins_stop],'b')\n",
    "\n",
    "s_ins_ax.set_ylim(-1,1)\n",
    "align_yaxis(f_ins_ax,0,s_ins_ax,0)\n",
    "\n",
    "pstart = peak_starts_inwin[0]\n",
    "peak_start_t=t[pstart]-2\n",
    "peak_start_f=f_sig[pstart]\n",
    "peak_start_s=s_sig[pstart]\n",
    "\n",
    "f_ins_ax.plot(peak_start_t,peak_start_f,'ro')\n",
    "s_ins_ax.plot(peak_start_t,peak_start_s,'bo')\n",
    "    \n",
    "f_trans = f_ins_ax.transData\n",
    "s_trans = s_ins_ax.transData.inverted()\n",
    "trans = s_trans+f_trans\n",
    "f_point=f_trans.transform((peak_start_t,peak_start_f))\n",
    "s_point=s_trans.transform((f_point[0],f_point[1]))\n",
    "\n",
    "s_ins_ax.plot([peak_start_t,peak_start_t],[peak_start_s, s_point[1]],'k')\n",
    "\n",
    "s_ax.plot([t[start],t[stop]],[s_threshold,s_threshold],ls='dashed')\n",
    "\n",
    "fig.savefig('measurement1.png')\n",
    "plt.draw()\n",
    "plt.show()"
   ]
  },
  {
   "cell_type": "code",
   "execution_count": null,
   "metadata": {
    "collapsed": false
   },
   "outputs": [],
   "source": [
    "%matplotlib notebook\n",
    "from mpl_toolkits.axes_grid1 import host_subplot\n",
    "from mpl_toolkits.axes_grid1.inset_locator import zoomed_inset_axes\n",
    "from mpl_toolkits.axes_grid1.inset_locator import mark_inset\n",
    "\n",
    "pulse=7\n",
    "length=2000\n",
    "pre=100\n",
    "\n",
    "def align_yaxis(ax1, v1, ax2, v2):\n",
    "    \"\"\"adjust ax2 ylimit so that v2 in ax2 is aligned to v1 in ax1\"\"\"\n",
    "    _, y1 = ax1.transData.transform((0, v1))\n",
    "    _, y2 = ax2.transData.transform((0, v2))\n",
    "    adjust_yaxis(ax2,(y1-y2)/2,v2)\n",
    "    adjust_yaxis(ax1,(y2-y1)/2,v1)\n",
    "\n",
    "def adjust_yaxis(ax,ydif,v):\n",
    "    \"\"\"shift axis ax by ydiff, maintaining point v at the same location\"\"\"\n",
    "    inv = ax.transData.inverted()\n",
    "    _, dy = inv.transform((0, 0)) - inv.transform((0, ydif))\n",
    "    miny, maxy = ax.get_ylim()\n",
    "    miny, maxy = miny - v, maxy - v\n",
    "    if -miny>maxy or (-miny==maxy and dy > 0):\n",
    "        nminy = miny\n",
    "        nmaxy = miny*(maxy+dy)/(miny+dy)\n",
    "    else:\n",
    "        nmaxy = maxy\n",
    "        nminy = maxy*(miny+dy)/(maxy+dy)\n",
    "    ax.set_ylim(nminy+v, nmaxy+v)\n",
    "    \n",
    "start=pulse_starts[pulse]-pre\n",
    "stop=start+length\n",
    "x=np.arange(0,len(traces['filtered']))\n",
    "fig=plt.figure()\n",
    "\n",
    "f_ax = host_subplot(111)\n",
    "s_ax = f_ax.twinx()\n",
    "\n",
    "f_ax.set_xlabel(\"Time (ns)\",fontsize=18)\n",
    "f_ax.set_ylabel(\"Voltage (mV)\",fontsize=18,color='r')\n",
    "s_ax.set_ylabel(\"Slope (mv/ns)\",fontsize=18,color='b')\n",
    "\n",
    "mV=1.0/math.pow(2,14)*1000\n",
    "nS=4\n",
    "t=x*nS\n",
    "\n",
    "f_sig = traces['filtered']*mV\n",
    "s_sig = traces['slope']*mV/nS\n",
    "\n",
    "f_ax.plot([t[start],t[stop]],[0,0],'k') # zero line\n",
    "f_trace, = f_ax.step(t[start:stop],f_sig[start:stop],'r',lw=2,label='processed')\n",
    "f_ax.set_ylim(-10,180)\n",
    "\n",
    "s_trace, = s_ax.step(t[start:stop],s_sig[start:stop],'b',lw=1,label='slope')\n",
    "s_ax.set_ylim(-15,50)\n",
    "#s_threshold = 6\n",
    "#s_ax.set_yticks(np.concatenate((s_ax.get_yticks(),[s_threshold])))\n",
    "#labels=[label.get_text() for label in s_ax.get_yticklabels()]\n",
    "#labels[6]='Threshold'\n",
    "\n",
    "#s_ax.set_yticklabels(labels)\n",
    "plt.xlim(t[start],t[stop])\n",
    "align_yaxis(f_ax,0,s_ax,0)\n",
    "fig.suptitle('Measurement:Second pass',fontsize=24)\n",
    "#plt.legend(handles=[f_trace,s_trace])\n",
    "\n",
    "starts_mask = np.logical_and(peak_starts >= start,peak_starts <= stop)\n",
    "peaks_mask = np.logical_and(peaks[:,0] >= start, peaks[:,0] <= stop)\n",
    "peak_starts_inwin = peak_starts[starts_mask]\n",
    "\n",
    "\n",
    "#for pstart in peak_starts_inwin:\n",
    "#    peak_start_t=t[pstart]-2\n",
    "#    peak_start_f=f_sig[pstart]\n",
    "#    peak_start_s=s_sig[pstart]\n",
    "#\n",
    "#    f_ax.plot(peak_start_t,peak_start_f,'ro')\n",
    "#    s_ax.plot(peak_start_t,peak_start_s,'bo')\n",
    "    \n",
    "#    f_trans = f_ax.transData\n",
    "#    s_trans = s_ax.transData.inverted()\n",
    "#    trans = s_trans+f_trans\n",
    "#    f_point=f_trans.transform((peak_start_t,peak_start_f))\n",
    "#    s_point=s_trans.transform((f_point[0],f_point[1]))\n",
    "\n",
    "#    s_ax.plot([peak_start_t,peak_start_t],[peak_start_s, s_point[1]],'k')\n",
    "\n",
    "#for p in peaks[0][peaks_inwin]\n",
    "peaks_inwin = peaks[peaks_mask,0]\n",
    "x_s=peak_starts_inwin\n",
    "x_p=peaks_inwin\n",
    "y_s=f_sig[x_s]\n",
    "y_p=f_sig[x_p]\n",
    "\n",
    "f_ax.plot(t[peak_starts_inwin],f_sig[peak_starts_inwin],'or')\n",
    "f_ax.plot(t[peaks_inwin],f_sig[peaks_inwin],'or')\n",
    "\n",
    "\n",
    "f_ax.plot([t[x_s[0]],t[x_p[0]]],[y_s[0],y_s[0]],'k')\n",
    "f_ax.plot([t[x_p[0]],t[x_p[0]]],[y_s[0],y_p[0]],'k')\n",
    "\n",
    "f_ax.plot([t[x_s[1]],t[x_p[1]]],[y_s[1],y_s[1]],'k')\n",
    "f_ax.plot([t[x_p[1]],t[x_p[1]]],[y_s[1],y_p[1]],'k')\n",
    "\n",
    "\n",
    "#for p in peaks_inwin:\n",
    "#    peak_t=t[p]-2\n",
    "#    peak_f=f_sig[p]\n",
    "#    peak_s=s_sig[p]\n",
    "\n",
    "#    f_ax.plot(peak_t,peak_f,'ro')\n",
    "#    s_ax.plot(peak_t,peak_s,'bo')\n",
    "    \n",
    "#    f_trans = f_ax.transData\n",
    "#    s_trans = s_ax.transata.inverted()\n",
    "#    trans = s_trans+f_trans\n",
    "#    f_point=f_trans.transform((peak_t,peak_f))\n",
    "#    s_point=s_trans.transform((f_point[0],f_point[1]))\n",
    "\n",
    "#    s_ax.plot([peak_t,peak_t],[peak_s, s_point[1]],'k')\n",
    "\n",
    "ins_start = peak_starts_inwin[1]-300\n",
    "ins_stop = peak_starts_inwin[1]+500\n",
    "f_ins_ax = zoomed_inset_axes(f_ax, 1.5, loc=1)  # zoom = 6\n",
    "f_ins_ax.step(t[ins_start:ins_stop],f_sig[ins_start:ins_stop],'r')\n",
    "f_ins_ax.set_ylim(60,180)\n",
    "f_ins_ax.set_xlim(t[ins_start],t[ins_stop])\n",
    "f_ins_ax.set_yticks([])\n",
    "f_ins_ax.set_xticks([])\n",
    "\n",
    "low_mask = np.logical_and(cfd_low >= start, cfd_low <= stop)\n",
    "low_inwin = cfd_low[low_mask]\n",
    "high_mask = np.logical_and(cfd_high >= start, cfd_high <= stop)\n",
    "high_inwin = cfd_high[high_mask]\n",
    "thresh_mask = np.logical_and(slope_xing >= start, slope_xing <= stop)\n",
    "thresh_inwin = slope_xing[thresh_mask]\n",
    "\n",
    "f_ins_ax.plot(t[peak_starts_inwin],f_sig[peak_starts_inwin],'or')\n",
    "f_ins_ax.plot(t[peaks_inwin],f_sig[peaks_inwin],'or')\n",
    "\n",
    "f_ins_ax.plot(t[low_inwin],f_sig[low_inwin],'ok')\n",
    "f_ins_ax.plot(t[high_inwin],f_sig[high_inwin],'ok')\n",
    "f_ax.plot(t[low_inwin],f_sig[low_inwin],'ok')\n",
    "f_ax.plot(t[high_inwin],f_sig[high_inwin],'ok')\n",
    "#f_ax.plot(t[thresh_inwin],f_sig[thresh_inwin],'ow')\n",
    "f_ins_ax.plot(t[thresh_inwin],f_sig[thresh_inwin],'ow')\n",
    "\n",
    "\n",
    "f_ins_ax.plot([t[x_s[0]],t[x_p[0]]],[y_s[0],y_s[0]],'k')\n",
    "f_ins_ax.plot([t[x_p[0]],t[x_p[0]]],[y_s[0],y_p[0]],'k')\n",
    "\n",
    "f_ins_ax.plot([t[x_s[1]],t[x_p[1]]],[y_s[1],y_s[1]],'k')\n",
    "f_ins_ax.plot([t[x_p[1]],t[x_p[1]]],[y_s[1],y_p[1]],'k')\n",
    "\n",
    "#f_ins_ax.plot([t[ins_start],t[ins_stop]],[0,0],'k') # zero line\n",
    "\n",
    "#plt.xticks(visible=False)\n",
    "#plt.yticks(visible=False)\n",
    "#mark_inset(f_ax, f_ins_ax, loc1=2, loc2=4, fc=\"none\", ec=\"0.5\")\n",
    "\n",
    "pstart = peak_starts_inwin[1]\n",
    "peak_start_t=t[pstart]-2\n",
    "peak_start_f=f_sig[pstart]\n",
    "peak_start_s=s_sig[pstart]\n",
    "\n",
    "f_ins_ax.plot(peak_start_t,peak_start_f,'ro')\n",
    "\n",
    "\n",
    "f_trans = f_ins_ax.transData\n",
    "s_trans = s_ins_ax.transData.inverted()\n",
    "trans = s_trans+f_trans\n",
    "f_point=f_trans.transform((peak_start_t,peak_start_f))\n",
    "s_point=s_trans.transform((f_point[0],f_point[1]))\n",
    "\n",
    "s_ins_ax.plot([peak_start_t,peak_start_t],[peak_start_s, s_point[1]],'k')\n",
    "\n",
    "s_ax.plot([t[start],t[stop]],[s_threshold,s_threshold],ls='dashed')\n",
    "\n",
    "fig.savefig('measurement2.png')\n",
    "plt.draw()\n",
    "plt.show()"
   ]
  },
  {
   "cell_type": "code",
   "execution_count": null,
   "metadata": {
    "collapsed": false
   },
   "outputs": [],
   "source": [
    "from mpl_toolkits.axes_grid1.inset_locator import inset_axes\n",
    "\n",
    "fig=plt.figure()\n",
    "fig.suptitle('Multi Channel Analyser',fontsize=24)\n",
    "\n",
    "h_ax = host_subplot(111)\n",
    "\n",
    "h_ins_ax = inset_axes(h_ax, width=\"80%\",height=1., loc=1)  # zoom = 6\n",
    "h_ins_ax.set_xlim(-25,160)\n",
    "h_ins_ax.set_ylim(0,0.002)\n",
    "h_ax.hist((traces['input']+200)*2*mV,math.pow(2,14),normed=1,facecolor='k',edgecolor='k')\n",
    "h_ax.hist(f_sig,math.pow(2,14),normed=1,facecolor='r',edgecolor='r')\n",
    "h_ins_ax.hist(f_sig,math.pow(2,14),normed=1,facecolor='r',edgecolor='r')\n",
    "h_ins_ax.set_xticks([])\n",
    "h_ins_ax.set_yticks([])\n",
    "h_ax.set_xlim(-30,100)\n",
    "h_ax.set_ylim(0,0.8)\n",
    "\n",
    "mark_inset(h_ax, h_ins_ax, loc1=2, loc2=4, fc=\"none\", ec=\"0.5\")\n",
    "\n",
    "h_ax.set_xlabel('Voltage (mV)')\n",
    "h_ax.set_ylabel('Probability')\n",
    "fig.savefig('hist.png')\n",
    "plt.show()"
   ]
  },
  {
   "cell_type": "code",
   "execution_count": null,
   "metadata": {
    "collapsed": true
   },
   "outputs": [],
   "source": [
    "peak_dt=np.dtype([('time',np.uint16),('flags',np.uint16),('minima',np.uint16),('height',np.uint16)])"
   ]
  },
  {
   "cell_type": "code",
   "execution_count": null,
   "metadata": {
    "collapsed": true
   },
   "outputs": [],
   "source": [
    "area_dt=np.dtype([('time',np.uint16),('flags',np.uint16),('area',np.uint32)])"
   ]
  },
  {
   "cell_type": "code",
   "execution_count": null,
   "metadata": {
    "collapsed": true
   },
   "outputs": [],
   "source": [
    "pulse_peak_dt=np.dtype([('trigger',np.uint16),('rise',np.uint16),('minima',np.uint16),('height',np.uint16)])\n",
    "pulse_header_dt=np.dtype([('time',np.uint16),('flags',np.uint16),('res1',np.uint16),('size',np.uint16),\n",
    "                    ('length',np.uint16),('res2',np.uint16),('area',np.int32)])"
   ]
  },
  {
   "cell_type": "code",
   "execution_count": null,
   "metadata": {
    "collapsed": false
   },
   "outputs": [],
   "source": [
    "pulse2_dt=np.dtype([('time',np.uint16),('flags',np.uint16),('res1',np.uint16),('size',np.uint16),\n",
    "                    ('length',np.uint16),('res2',np.uint16),('area',np.int32),\n",
    "                    ('trigger0',np.uint16),('rise0',np.uint16),('minima0',np.uint16),('height0',np.uint16),\n",
    "                    ('trigger1',np.uint16),('rise1',np.uint16),('minima1',np.uint16),('height1',np.uint16)])"
   ]
  },
  {
   "cell_type": "code",
   "execution_count": null,
   "metadata": {
    "collapsed": false
   },
   "outputs": [],
   "source": [
    "pulse2_subarray_dt=np.dtype([('header',pulse_header_dt,('peaks', (pulse_peak_dt,(1,2)) ))])"
   ]
  },
  {
   "cell_type": "code",
   "execution_count": null,
   "metadata": {
    "collapsed": true
   },
   "outputs": [],
   "source": [
    "eventstream=np.fromfile(path+'eventstream',peak_dt)"
   ]
  },
  {
   "cell_type": "code",
   "execution_count": null,
   "metadata": {
    "collapsed": true
   },
   "outputs": [],
   "source": [
    "eventstream=np.fromfile(path+'eventstream',area_dt)"
   ]
  },
  {
   "cell_type": "code",
   "execution_count": null,
   "metadata": {
    "collapsed": true
   },
   "outputs": [],
   "source": [
    "eventstream=np.fromfile(path+'eventstream',pulse2_dt)"
   ]
  },
  {
   "cell_type": "code",
   "execution_count": null,
   "metadata": {
    "collapsed": false
   },
   "outputs": [],
   "source": [
    "eventstream"
   ]
  },
  {
   "cell_type": "code",
   "execution_count": null,
   "metadata": {
    "collapsed": false
   },
   "outputs": [],
   "source": [
    "flags=eventstream['flags']\n",
    "print(np.binary_repr(flags[0],16))"
   ]
  },
  {
   "cell_type": "code",
   "execution_count": null,
   "metadata": {
    "collapsed": false
   },
   "outputs": [],
   "source": [
    "print(\"flags:{:016b}\\nsize:{}\\nlength:{}\\narea:{}\\ntrigger:{} rise:{} minima:{} height:{}\\ntrigger:{} rise:{} minima:{} height:{}\\n\"  \n",
    "      .format(eventstream['flags'][0],eventstream['size'][0],eventstream['length'][0],eventstream['area'][0],\n",
    "        eventstream['trigger0'][0],eventstream['rise0'][0],eventstream['minima0'][0],eventstream['height0'][0],\n",
    "        eventstream['trigger1'][0],eventstream['rise1'][0],eventstream['minima1'][0],eventstream['height1'][0]))"
   ]
  },
  {
   "cell_type": "code",
   "execution_count": null,
   "metadata": {
    "collapsed": false
   },
   "outputs": [],
   "source": [
    "print(np.binary_repr(flags[1],16))"
   ]
  },
  {
   "cell_type": "code",
   "execution_count": null,
   "metadata": {
    "collapsed": true
   },
   "outputs": [],
   "source": [
    "rel_to_min=np.right_shift(np.bitwise_and(flags,0x8000),15).astype(np.bool)\n",
    "channel=np.right_shift(np.bitwise_and(flags,0x0F00),8).astype(np.uint8)\n",
    "threshold_rel2min=np.right_shift(np.bitwise_and(flags,0x4000),14).astype(np.bool)\n",
    "peak_count=np.right_shift(np.bitwise_and(flags,0x00F0),4).astype(np.uint8)\n",
    "tick=np.bitwise_and(flags,0x0001).astype(bool)\n",
    "area=np.right_shift(np.bitwise_and(flags,0x0002),1).astype(np.bool)\n",
    "trace=np.right_shift(np.bitwise_and(flags,0x0004),2).astype(np.bool)\n",
    "fixed=np.right_shift(np.bitwise_and(flags,0x0008),3).astype(np.bool)\n",
    "event_type=np.right_shift(np.bitwise_and(flags,0x3000),12).astype(np.uint8)"
   ]
  },
  {
   "cell_type": "code",
   "execution_count": null,
   "metadata": {
    "collapsed": false
   },
   "outputs": [],
   "source": [
    "flags"
   ]
  },
  {
   "cell_type": "code",
   "execution_count": null,
   "metadata": {
    "collapsed": false
   },
   "outputs": [],
   "source": [
    "eventstream"
   ]
  },
  {
   "cell_type": "code",
   "execution_count": null,
   "metadata": {
    "collapsed": true
   },
   "outputs": [],
   "source": []
  },
  {
   "cell_type": "code",
   "execution_count": null,
   "metadata": {
    "collapsed": true
   },
   "outputs": [],
   "source": []
  }
 ],
 "metadata": {
  "kernelspec": {
   "display_name": "Python 3",
   "language": "python",
   "name": "python3"
  },
  "language_info": {
   "codemirror_mode": {
    "name": "ipython",
    "version": 3
   },
   "file_extension": ".py",
   "mimetype": "text/x-python",
   "name": "python",
   "nbconvert_exporter": "python",
   "pygments_lexer": "ipython3",
   "version": "3.5.1"
  }
 },
 "nbformat": 4,
 "nbformat_minor": 0
}
