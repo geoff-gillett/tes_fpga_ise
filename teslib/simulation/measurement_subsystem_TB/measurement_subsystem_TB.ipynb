{
 "cells": [
  {
   "cell_type": "markdown",
   "metadata": {},
   "source": [
    "timestamp 0 => clk 20\n",
    "\n",
    "traces start at clk 1"
   ]
  },
  {
   "cell_type": "code",
   "execution_count": 1,
   "metadata": {
    "collapsed": false,
    "run_control": {
     "frozen": false,
     "read_only": false
    }
   },
   "outputs": [],
   "source": [
    "#Mac\n",
    "import sys\n",
    "sys.path.append('../../../../interface/python')"
   ]
  },
  {
   "cell_type": "code",
   "execution_count": 4,
   "metadata": {
    "collapsed": false,
    "run_control": {
     "frozen": false,
     "read_only": false
    }
   },
   "outputs": [],
   "source": [
    "from tes.data import Data,PacketStream,Packet,PayloadType,EventFlags,Event\n",
    "import numpy as np\n",
    "import matplotlib.pyplot as plt"
   ]
  },
  {
   "cell_type": "code",
   "execution_count": 47,
   "metadata": {
    "code_folding": [],
    "collapsed": false,
    "run_control": {
     "frozen": false,
     "read_only": false
    }
   },
   "outputs": [],
   "source": [
    "#NOTE traces[0] corresponts to clk=1\n",
    "trace_dt=np.dtype([('raw','i4'),('filtered','i4'),('slope','i4'),('filteredL','i4')])\n",
    "stream_dt=np.dtype([('data','i4'),('last','i4')])\n",
    "minmax_dt=np.dtype(\n",
    "    [\n",
    "        ('filtered','i4'),('timing_threshold','i4'),\n",
    "        ('height_threshold','i4'),('slope_extrema','i4'),('slope_area','i4'),('clk','i4')\n",
    "    ]\n",
    ")\n",
    "cfd_dt=np.dtype('i4')\n",
    "filteredxing_dt=np.dtype([('extrema','i4'),('area','i4'),('clk','i4')])"
   ]
  },
  {
   "cell_type": "code",
   "execution_count": null,
   "metadata": {
    "collapsed": false,
    "run_control": {
     "frozen": false,
     "read_only": false
    }
   },
   "outputs": [],
   "source": [
    "traces=np.fromfile('data/traces',trace_dt)\n",
    "stream=np.fromfile('data/bytestream',stream_dt)\n",
    "minmax=np.fromfile('data/minmax',minmax_dt)\n",
    "cfd=np.fromfile('data/cfd',cfd_dt)\n",
    "filteredxing=np.fromfile('data/filteredxing',filteredxing_dt)"
   ]
  },
  {
   "cell_type": "code",
   "execution_count": 3,
   "metadata": {
    "collapsed": false,
    "run_control": {
     "frozen": false,
     "read_only": false
    },
    "scrolled": true
   },
   "outputs": [],
   "source": [
    "traces=Data.fromfile('traces',trace_dt,'teslib','measurement_subsystem_TB',tool='vivado')\n",
    "stream=Data.fromfile('bytestream',stream_dt,'teslib','measurement_subsystem_TB',tool='vivado')\n",
    "minmax=Data.fromfile('minmax',minmax_dt,'teslib','measurement_subsystem_TB',tool='vivado')\n",
    "cfd=Data.fromfile('cfd',cfd_dt,'teslib','measurement_subsystem_TB',tool='vivado')\n",
    "filteredxing=Data.fromfile(\n",
    "    'filteredxing',filteredxing_dt,'teslib','measurement_subsystem_TB',tool='vivado'\n",
    ")"
   ]
  },
  {
   "cell_type": "code",
   "execution_count": 48,
   "metadata": {
    "collapsed": false,
    "run_control": {
     "frozen": false,
     "read_only": false
    },
    "scrolled": true
   },
   "outputs": [],
   "source": [
    "# Mac\n",
    "traces=Data.fromfile(\n",
    "    'traces',trace_dt,'teslib','measurement_subsystem_TB',tool='vivado',\n",
    "    root='/Volumes/C/'\n",
    ")\n",
    "stream=Data.fromfile(\n",
    "    'bytestream',stream_dt,'teslib','measurement_subsystem_TB',tool='vivado',\n",
    "    root='/Volumes/C/'\n",
    ")\n",
    "minmax=Data.fromfile(\n",
    "    'minmax',minmax_dt,'teslib','measurement_subsystem_TB',tool='vivado',\n",
    "    root='/Volumes/C/'\n",
    ")\n",
    "cfd=Data.fromfile(\n",
    "    'cfd',cfd_dt,'teslib','measurement_subsystem_TB',tool='vivado',\n",
    "    root='/Volumes/C/'\n",
    ")\n",
    "filteredxing=Data.fromfile(\n",
    "    'filteredxing',filteredxing_dt,'teslib','measurement_subsystem_TB',\n",
    "    tool='vivado',root='/Volumes/C/'\n",
    ")"
   ]
  },
  {
   "cell_type": "code",
   "execution_count": 49,
   "metadata": {
    "collapsed": false,
    "run_control": {
     "frozen": false,
     "read_only": false
    },
    "scrolled": false
   },
   "outputs": [
    {
     "data": {
      "application/javascript": [
       "/* Put everything inside the global mpl namespace */\n",
       "window.mpl = {};\n",
       "\n",
       "mpl.get_websocket_type = function() {\n",
       "    if (typeof(WebSocket) !== 'undefined') {\n",
       "        return WebSocket;\n",
       "    } else if (typeof(MozWebSocket) !== 'undefined') {\n",
       "        return MozWebSocket;\n",
       "    } else {\n",
       "        alert('Your browser does not have WebSocket support.' +\n",
       "              'Please try Chrome, Safari or Firefox ≥ 6. ' +\n",
       "              'Firefox 4 and 5 are also supported but you ' +\n",
       "              'have to enable WebSockets in about:config.');\n",
       "    };\n",
       "}\n",
       "\n",
       "mpl.figure = function(figure_id, websocket, ondownload, parent_element) {\n",
       "    this.id = figure_id;\n",
       "\n",
       "    this.ws = websocket;\n",
       "\n",
       "    this.supports_binary = (this.ws.binaryType != undefined);\n",
       "\n",
       "    if (!this.supports_binary) {\n",
       "        var warnings = document.getElementById(\"mpl-warnings\");\n",
       "        if (warnings) {\n",
       "            warnings.style.display = 'block';\n",
       "            warnings.textContent = (\n",
       "                \"This browser does not support binary websocket messages. \" +\n",
       "                    \"Performance may be slow.\");\n",
       "        }\n",
       "    }\n",
       "\n",
       "    this.imageObj = new Image();\n",
       "\n",
       "    this.context = undefined;\n",
       "    this.message = undefined;\n",
       "    this.canvas = undefined;\n",
       "    this.rubberband_canvas = undefined;\n",
       "    this.rubberband_context = undefined;\n",
       "    this.format_dropdown = undefined;\n",
       "\n",
       "    this.image_mode = 'full';\n",
       "\n",
       "    this.root = $('<div/>');\n",
       "    this._root_extra_style(this.root)\n",
       "    this.root.attr('style', 'display: inline-block');\n",
       "\n",
       "    $(parent_element).append(this.root);\n",
       "\n",
       "    this._init_header(this);\n",
       "    this._init_canvas(this);\n",
       "    this._init_toolbar(this);\n",
       "\n",
       "    var fig = this;\n",
       "\n",
       "    this.waiting = false;\n",
       "\n",
       "    this.ws.onopen =  function () {\n",
       "            fig.send_message(\"supports_binary\", {value: fig.supports_binary});\n",
       "            fig.send_message(\"send_image_mode\", {});\n",
       "            fig.send_message(\"refresh\", {});\n",
       "        }\n",
       "\n",
       "    this.imageObj.onload = function() {\n",
       "            if (fig.image_mode == 'full') {\n",
       "                // Full images could contain transparency (where diff images\n",
       "                // almost always do), so we need to clear the canvas so that\n",
       "                // there is no ghosting.\n",
       "                fig.context.clearRect(0, 0, fig.canvas.width, fig.canvas.height);\n",
       "            }\n",
       "            fig.context.drawImage(fig.imageObj, 0, 0);\n",
       "        };\n",
       "\n",
       "    this.imageObj.onunload = function() {\n",
       "        this.ws.close();\n",
       "    }\n",
       "\n",
       "    this.ws.onmessage = this._make_on_message_function(this);\n",
       "\n",
       "    this.ondownload = ondownload;\n",
       "}\n",
       "\n",
       "mpl.figure.prototype._init_header = function() {\n",
       "    var titlebar = $(\n",
       "        '<div class=\"ui-dialog-titlebar ui-widget-header ui-corner-all ' +\n",
       "        'ui-helper-clearfix\"/>');\n",
       "    var titletext = $(\n",
       "        '<div class=\"ui-dialog-title\" style=\"width: 100%; ' +\n",
       "        'text-align: center; padding: 3px;\"/>');\n",
       "    titlebar.append(titletext)\n",
       "    this.root.append(titlebar);\n",
       "    this.header = titletext[0];\n",
       "}\n",
       "\n",
       "\n",
       "\n",
       "mpl.figure.prototype._canvas_extra_style = function(canvas_div) {\n",
       "\n",
       "}\n",
       "\n",
       "\n",
       "mpl.figure.prototype._root_extra_style = function(canvas_div) {\n",
       "\n",
       "}\n",
       "\n",
       "mpl.figure.prototype._init_canvas = function() {\n",
       "    var fig = this;\n",
       "\n",
       "    var canvas_div = $('<div/>');\n",
       "\n",
       "    canvas_div.attr('style', 'position: relative; clear: both; outline: 0');\n",
       "\n",
       "    function canvas_keyboard_event(event) {\n",
       "        return fig.key_event(event, event['data']);\n",
       "    }\n",
       "\n",
       "    canvas_div.keydown('key_press', canvas_keyboard_event);\n",
       "    canvas_div.keyup('key_release', canvas_keyboard_event);\n",
       "    this.canvas_div = canvas_div\n",
       "    this._canvas_extra_style(canvas_div)\n",
       "    this.root.append(canvas_div);\n",
       "\n",
       "    var canvas = $('<canvas/>');\n",
       "    canvas.addClass('mpl-canvas');\n",
       "    canvas.attr('style', \"left: 0; top: 0; z-index: 0; outline: 0\")\n",
       "\n",
       "    this.canvas = canvas[0];\n",
       "    this.context = canvas[0].getContext(\"2d\");\n",
       "\n",
       "    var rubberband = $('<canvas/>');\n",
       "    rubberband.attr('style', \"position: absolute; left: 0; top: 0; z-index: 1;\")\n",
       "\n",
       "    var pass_mouse_events = true;\n",
       "\n",
       "    canvas_div.resizable({\n",
       "        start: function(event, ui) {\n",
       "            pass_mouse_events = false;\n",
       "        },\n",
       "        resize: function(event, ui) {\n",
       "            fig.request_resize(ui.size.width, ui.size.height);\n",
       "        },\n",
       "        stop: function(event, ui) {\n",
       "            pass_mouse_events = true;\n",
       "            fig.request_resize(ui.size.width, ui.size.height);\n",
       "        },\n",
       "    });\n",
       "\n",
       "    function mouse_event_fn(event) {\n",
       "        if (pass_mouse_events)\n",
       "            return fig.mouse_event(event, event['data']);\n",
       "    }\n",
       "\n",
       "    rubberband.mousedown('button_press', mouse_event_fn);\n",
       "    rubberband.mouseup('button_release', mouse_event_fn);\n",
       "    // Throttle sequential mouse events to 1 every 20ms.\n",
       "    rubberband.mousemove('motion_notify', mouse_event_fn);\n",
       "\n",
       "    rubberband.mouseenter('figure_enter', mouse_event_fn);\n",
       "    rubberband.mouseleave('figure_leave', mouse_event_fn);\n",
       "\n",
       "    canvas_div.on(\"wheel\", function (event) {\n",
       "        event = event.originalEvent;\n",
       "        event['data'] = 'scroll'\n",
       "        if (event.deltaY < 0) {\n",
       "            event.step = 1;\n",
       "        } else {\n",
       "            event.step = -1;\n",
       "        }\n",
       "        mouse_event_fn(event);\n",
       "    });\n",
       "\n",
       "    canvas_div.append(canvas);\n",
       "    canvas_div.append(rubberband);\n",
       "\n",
       "    this.rubberband = rubberband;\n",
       "    this.rubberband_canvas = rubberband[0];\n",
       "    this.rubberband_context = rubberband[0].getContext(\"2d\");\n",
       "    this.rubberband_context.strokeStyle = \"#000000\";\n",
       "\n",
       "    this._resize_canvas = function(width, height) {\n",
       "        // Keep the size of the canvas, canvas container, and rubber band\n",
       "        // canvas in synch.\n",
       "        canvas_div.css('width', width)\n",
       "        canvas_div.css('height', height)\n",
       "\n",
       "        canvas.attr('width', width);\n",
       "        canvas.attr('height', height);\n",
       "\n",
       "        rubberband.attr('width', width);\n",
       "        rubberband.attr('height', height);\n",
       "    }\n",
       "\n",
       "    // Set the figure to an initial 600x600px, this will subsequently be updated\n",
       "    // upon first draw.\n",
       "    this._resize_canvas(600, 600);\n",
       "\n",
       "    // Disable right mouse context menu.\n",
       "    $(this.rubberband_canvas).bind(\"contextmenu\",function(e){\n",
       "        return false;\n",
       "    });\n",
       "\n",
       "    function set_focus () {\n",
       "        canvas.focus();\n",
       "        canvas_div.focus();\n",
       "    }\n",
       "\n",
       "    window.setTimeout(set_focus, 100);\n",
       "}\n",
       "\n",
       "mpl.figure.prototype._init_toolbar = function() {\n",
       "    var fig = this;\n",
       "\n",
       "    var nav_element = $('<div/>')\n",
       "    nav_element.attr('style', 'width: 100%');\n",
       "    this.root.append(nav_element);\n",
       "\n",
       "    // Define a callback function for later on.\n",
       "    function toolbar_event(event) {\n",
       "        return fig.toolbar_button_onclick(event['data']);\n",
       "    }\n",
       "    function toolbar_mouse_event(event) {\n",
       "        return fig.toolbar_button_onmouseover(event['data']);\n",
       "    }\n",
       "\n",
       "    for(var toolbar_ind in mpl.toolbar_items) {\n",
       "        var name = mpl.toolbar_items[toolbar_ind][0];\n",
       "        var tooltip = mpl.toolbar_items[toolbar_ind][1];\n",
       "        var image = mpl.toolbar_items[toolbar_ind][2];\n",
       "        var method_name = mpl.toolbar_items[toolbar_ind][3];\n",
       "\n",
       "        if (!name) {\n",
       "            // put a spacer in here.\n",
       "            continue;\n",
       "        }\n",
       "        var button = $('<button/>');\n",
       "        button.addClass('ui-button ui-widget ui-state-default ui-corner-all ' +\n",
       "                        'ui-button-icon-only');\n",
       "        button.attr('role', 'button');\n",
       "        button.attr('aria-disabled', 'false');\n",
       "        button.click(method_name, toolbar_event);\n",
       "        button.mouseover(tooltip, toolbar_mouse_event);\n",
       "\n",
       "        var icon_img = $('<span/>');\n",
       "        icon_img.addClass('ui-button-icon-primary ui-icon');\n",
       "        icon_img.addClass(image);\n",
       "        icon_img.addClass('ui-corner-all');\n",
       "\n",
       "        var tooltip_span = $('<span/>');\n",
       "        tooltip_span.addClass('ui-button-text');\n",
       "        tooltip_span.html(tooltip);\n",
       "\n",
       "        button.append(icon_img);\n",
       "        button.append(tooltip_span);\n",
       "\n",
       "        nav_element.append(button);\n",
       "    }\n",
       "\n",
       "    var fmt_picker_span = $('<span/>');\n",
       "\n",
       "    var fmt_picker = $('<select/>');\n",
       "    fmt_picker.addClass('mpl-toolbar-option ui-widget ui-widget-content');\n",
       "    fmt_picker_span.append(fmt_picker);\n",
       "    nav_element.append(fmt_picker_span);\n",
       "    this.format_dropdown = fmt_picker[0];\n",
       "\n",
       "    for (var ind in mpl.extensions) {\n",
       "        var fmt = mpl.extensions[ind];\n",
       "        var option = $(\n",
       "            '<option/>', {selected: fmt === mpl.default_extension}).html(fmt);\n",
       "        fmt_picker.append(option)\n",
       "    }\n",
       "\n",
       "    // Add hover states to the ui-buttons\n",
       "    $( \".ui-button\" ).hover(\n",
       "        function() { $(this).addClass(\"ui-state-hover\");},\n",
       "        function() { $(this).removeClass(\"ui-state-hover\");}\n",
       "    );\n",
       "\n",
       "    var status_bar = $('<span class=\"mpl-message\"/>');\n",
       "    nav_element.append(status_bar);\n",
       "    this.message = status_bar[0];\n",
       "}\n",
       "\n",
       "mpl.figure.prototype.request_resize = function(x_pixels, y_pixels) {\n",
       "    // Request matplotlib to resize the figure. Matplotlib will then trigger a resize in the client,\n",
       "    // which will in turn request a refresh of the image.\n",
       "    this.send_message('resize', {'width': x_pixels, 'height': y_pixels});\n",
       "}\n",
       "\n",
       "mpl.figure.prototype.send_message = function(type, properties) {\n",
       "    properties['type'] = type;\n",
       "    properties['figure_id'] = this.id;\n",
       "    this.ws.send(JSON.stringify(properties));\n",
       "}\n",
       "\n",
       "mpl.figure.prototype.send_draw_message = function() {\n",
       "    if (!this.waiting) {\n",
       "        this.waiting = true;\n",
       "        this.ws.send(JSON.stringify({type: \"draw\", figure_id: this.id}));\n",
       "    }\n",
       "}\n",
       "\n",
       "\n",
       "mpl.figure.prototype.handle_save = function(fig, msg) {\n",
       "    var format_dropdown = fig.format_dropdown;\n",
       "    var format = format_dropdown.options[format_dropdown.selectedIndex].value;\n",
       "    fig.ondownload(fig, format);\n",
       "}\n",
       "\n",
       "\n",
       "mpl.figure.prototype.handle_resize = function(fig, msg) {\n",
       "    var size = msg['size'];\n",
       "    if (size[0] != fig.canvas.width || size[1] != fig.canvas.height) {\n",
       "        fig._resize_canvas(size[0], size[1]);\n",
       "        fig.send_message(\"refresh\", {});\n",
       "    };\n",
       "}\n",
       "\n",
       "mpl.figure.prototype.handle_rubberband = function(fig, msg) {\n",
       "    var x0 = msg['x0'];\n",
       "    var y0 = fig.canvas.height - msg['y0'];\n",
       "    var x1 = msg['x1'];\n",
       "    var y1 = fig.canvas.height - msg['y1'];\n",
       "    x0 = Math.floor(x0) + 0.5;\n",
       "    y0 = Math.floor(y0) + 0.5;\n",
       "    x1 = Math.floor(x1) + 0.5;\n",
       "    y1 = Math.floor(y1) + 0.5;\n",
       "    var min_x = Math.min(x0, x1);\n",
       "    var min_y = Math.min(y0, y1);\n",
       "    var width = Math.abs(x1 - x0);\n",
       "    var height = Math.abs(y1 - y0);\n",
       "\n",
       "    fig.rubberband_context.clearRect(\n",
       "        0, 0, fig.canvas.width, fig.canvas.height);\n",
       "\n",
       "    fig.rubberband_context.strokeRect(min_x, min_y, width, height);\n",
       "}\n",
       "\n",
       "mpl.figure.prototype.handle_figure_label = function(fig, msg) {\n",
       "    // Updates the figure title.\n",
       "    fig.header.textContent = msg['label'];\n",
       "}\n",
       "\n",
       "mpl.figure.prototype.handle_cursor = function(fig, msg) {\n",
       "    var cursor = msg['cursor'];\n",
       "    switch(cursor)\n",
       "    {\n",
       "    case 0:\n",
       "        cursor = 'pointer';\n",
       "        break;\n",
       "    case 1:\n",
       "        cursor = 'default';\n",
       "        break;\n",
       "    case 2:\n",
       "        cursor = 'crosshair';\n",
       "        break;\n",
       "    case 3:\n",
       "        cursor = 'move';\n",
       "        break;\n",
       "    }\n",
       "    fig.rubberband_canvas.style.cursor = cursor;\n",
       "}\n",
       "\n",
       "mpl.figure.prototype.handle_message = function(fig, msg) {\n",
       "    fig.message.textContent = msg['message'];\n",
       "}\n",
       "\n",
       "mpl.figure.prototype.handle_draw = function(fig, msg) {\n",
       "    // Request the server to send over a new figure.\n",
       "    fig.send_draw_message();\n",
       "}\n",
       "\n",
       "mpl.figure.prototype.handle_image_mode = function(fig, msg) {\n",
       "    fig.image_mode = msg['mode'];\n",
       "}\n",
       "\n",
       "mpl.figure.prototype.updated_canvas_event = function() {\n",
       "    // Called whenever the canvas gets updated.\n",
       "    this.send_message(\"ack\", {});\n",
       "}\n",
       "\n",
       "// A function to construct a web socket function for onmessage handling.\n",
       "// Called in the figure constructor.\n",
       "mpl.figure.prototype._make_on_message_function = function(fig) {\n",
       "    return function socket_on_message(evt) {\n",
       "        if (evt.data instanceof Blob) {\n",
       "            /* FIXME: We get \"Resource interpreted as Image but\n",
       "             * transferred with MIME type text/plain:\" errors on\n",
       "             * Chrome.  But how to set the MIME type?  It doesn't seem\n",
       "             * to be part of the websocket stream */\n",
       "            evt.data.type = \"image/png\";\n",
       "\n",
       "            /* Free the memory for the previous frames */\n",
       "            if (fig.imageObj.src) {\n",
       "                (window.URL || window.webkitURL).revokeObjectURL(\n",
       "                    fig.imageObj.src);\n",
       "            }\n",
       "\n",
       "            fig.imageObj.src = (window.URL || window.webkitURL).createObjectURL(\n",
       "                evt.data);\n",
       "            fig.updated_canvas_event();\n",
       "            fig.waiting = false;\n",
       "            return;\n",
       "        }\n",
       "        else if (typeof evt.data === 'string' && evt.data.slice(0, 21) == \"data:image/png;base64\") {\n",
       "            fig.imageObj.src = evt.data;\n",
       "            fig.updated_canvas_event();\n",
       "            fig.waiting = false;\n",
       "            return;\n",
       "        }\n",
       "\n",
       "        var msg = JSON.parse(evt.data);\n",
       "        var msg_type = msg['type'];\n",
       "\n",
       "        // Call the  \"handle_{type}\" callback, which takes\n",
       "        // the figure and JSON message as its only arguments.\n",
       "        try {\n",
       "            var callback = fig[\"handle_\" + msg_type];\n",
       "        } catch (e) {\n",
       "            console.log(\"No handler for the '\" + msg_type + \"' message type: \", msg);\n",
       "            return;\n",
       "        }\n",
       "\n",
       "        if (callback) {\n",
       "            try {\n",
       "                // console.log(\"Handling '\" + msg_type + \"' message: \", msg);\n",
       "                callback(fig, msg);\n",
       "            } catch (e) {\n",
       "                console.log(\"Exception inside the 'handler_\" + msg_type + \"' callback:\", e, e.stack, msg);\n",
       "            }\n",
       "        }\n",
       "    };\n",
       "}\n",
       "\n",
       "// from http://stackoverflow.com/questions/1114465/getting-mouse-location-in-canvas\n",
       "mpl.findpos = function(e) {\n",
       "    //this section is from http://www.quirksmode.org/js/events_properties.html\n",
       "    var targ;\n",
       "    if (!e)\n",
       "        e = window.event;\n",
       "    if (e.target)\n",
       "        targ = e.target;\n",
       "    else if (e.srcElement)\n",
       "        targ = e.srcElement;\n",
       "    if (targ.nodeType == 3) // defeat Safari bug\n",
       "        targ = targ.parentNode;\n",
       "\n",
       "    // jQuery normalizes the pageX and pageY\n",
       "    // pageX,Y are the mouse positions relative to the document\n",
       "    // offset() returns the position of the element relative to the document\n",
       "    var x = e.pageX - $(targ).offset().left;\n",
       "    var y = e.pageY - $(targ).offset().top;\n",
       "\n",
       "    return {\"x\": x, \"y\": y};\n",
       "};\n",
       "\n",
       "/*\n",
       " * return a copy of an object with only non-object keys\n",
       " * we need this to avoid circular references\n",
       " * http://stackoverflow.com/a/24161582/3208463\n",
       " */\n",
       "function simpleKeys (original) {\n",
       "  return Object.keys(original).reduce(function (obj, key) {\n",
       "    if (typeof original[key] !== 'object')\n",
       "        obj[key] = original[key]\n",
       "    return obj;\n",
       "  }, {});\n",
       "}\n",
       "\n",
       "mpl.figure.prototype.mouse_event = function(event, name) {\n",
       "    var canvas_pos = mpl.findpos(event)\n",
       "\n",
       "    if (name === 'button_press')\n",
       "    {\n",
       "        this.canvas.focus();\n",
       "        this.canvas_div.focus();\n",
       "    }\n",
       "\n",
       "    var x = canvas_pos.x;\n",
       "    var y = canvas_pos.y;\n",
       "\n",
       "    this.send_message(name, {x: x, y: y, button: event.button,\n",
       "                             step: event.step,\n",
       "                             guiEvent: simpleKeys(event)});\n",
       "\n",
       "    /* This prevents the web browser from automatically changing to\n",
       "     * the text insertion cursor when the button is pressed.  We want\n",
       "     * to control all of the cursor setting manually through the\n",
       "     * 'cursor' event from matplotlib */\n",
       "    event.preventDefault();\n",
       "    return false;\n",
       "}\n",
       "\n",
       "mpl.figure.prototype._key_event_extra = function(event, name) {\n",
       "    // Handle any extra behaviour associated with a key event\n",
       "}\n",
       "\n",
       "mpl.figure.prototype.key_event = function(event, name) {\n",
       "\n",
       "    // Prevent repeat events\n",
       "    if (name == 'key_press')\n",
       "    {\n",
       "        if (event.which === this._key)\n",
       "            return;\n",
       "        else\n",
       "            this._key = event.which;\n",
       "    }\n",
       "    if (name == 'key_release')\n",
       "        this._key = null;\n",
       "\n",
       "    var value = '';\n",
       "    if (event.ctrlKey && event.which != 17)\n",
       "        value += \"ctrl+\";\n",
       "    if (event.altKey && event.which != 18)\n",
       "        value += \"alt+\";\n",
       "    if (event.shiftKey && event.which != 16)\n",
       "        value += \"shift+\";\n",
       "\n",
       "    value += 'k';\n",
       "    value += event.which.toString();\n",
       "\n",
       "    this._key_event_extra(event, name);\n",
       "\n",
       "    this.send_message(name, {key: value,\n",
       "                             guiEvent: simpleKeys(event)});\n",
       "    return false;\n",
       "}\n",
       "\n",
       "mpl.figure.prototype.toolbar_button_onclick = function(name) {\n",
       "    if (name == 'download') {\n",
       "        this.handle_save(this, null);\n",
       "    } else {\n",
       "        this.send_message(\"toolbar_button\", {name: name});\n",
       "    }\n",
       "};\n",
       "\n",
       "mpl.figure.prototype.toolbar_button_onmouseover = function(tooltip) {\n",
       "    this.message.textContent = tooltip;\n",
       "};\n",
       "mpl.toolbar_items = [[\"Home\", \"Reset original view\", \"fa fa-home icon-home\", \"home\"], [\"Back\", \"Back to  previous view\", \"fa fa-arrow-left icon-arrow-left\", \"back\"], [\"Forward\", \"Forward to next view\", \"fa fa-arrow-right icon-arrow-right\", \"forward\"], [\"\", \"\", \"\", \"\"], [\"Pan\", \"Pan axes with left mouse, zoom with right\", \"fa fa-arrows icon-move\", \"pan\"], [\"Zoom\", \"Zoom to rectangle\", \"fa fa-square-o icon-check-empty\", \"zoom\"], [\"\", \"\", \"\", \"\"], [\"Download\", \"Download plot\", \"fa fa-floppy-o icon-save\", \"download\"]];\n",
       "\n",
       "mpl.extensions = [\"eps\", \"pdf\", \"png\", \"ps\", \"raw\", \"svg\"];\n",
       "\n",
       "mpl.default_extension = \"png\";var comm_websocket_adapter = function(comm) {\n",
       "    // Create a \"websocket\"-like object which calls the given IPython comm\n",
       "    // object with the appropriate methods. Currently this is a non binary\n",
       "    // socket, so there is still some room for performance tuning.\n",
       "    var ws = {};\n",
       "\n",
       "    ws.close = function() {\n",
       "        comm.close()\n",
       "    };\n",
       "    ws.send = function(m) {\n",
       "        //console.log('sending', m);\n",
       "        comm.send(m);\n",
       "    };\n",
       "    // Register the callback with on_msg.\n",
       "    comm.on_msg(function(msg) {\n",
       "        //console.log('receiving', msg['content']['data'], msg);\n",
       "        // Pass the mpl event to the overriden (by mpl) onmessage function.\n",
       "        ws.onmessage(msg['content']['data'])\n",
       "    });\n",
       "    return ws;\n",
       "}\n",
       "\n",
       "mpl.mpl_figure_comm = function(comm, msg) {\n",
       "    // This is the function which gets called when the mpl process\n",
       "    // starts-up an IPython Comm through the \"matplotlib\" channel.\n",
       "\n",
       "    var id = msg.content.data.id;\n",
       "    // Get hold of the div created by the display call when the Comm\n",
       "    // socket was opened in Python.\n",
       "    var element = $(\"#\" + id);\n",
       "    var ws_proxy = comm_websocket_adapter(comm)\n",
       "\n",
       "    function ondownload(figure, format) {\n",
       "        window.open(figure.imageObj.src);\n",
       "    }\n",
       "\n",
       "    var fig = new mpl.figure(id, ws_proxy,\n",
       "                           ondownload,\n",
       "                           element.get(0));\n",
       "\n",
       "    // Call onopen now - mpl needs it, as it is assuming we've passed it a real\n",
       "    // web socket which is closed, not our websocket->open comm proxy.\n",
       "    ws_proxy.onopen();\n",
       "\n",
       "    fig.parent_element = element.get(0);\n",
       "    fig.cell_info = mpl.find_output_cell(\"<div id='\" + id + \"'></div>\");\n",
       "    if (!fig.cell_info) {\n",
       "        console.error(\"Failed to find cell for figure\", id, fig);\n",
       "        return;\n",
       "    }\n",
       "\n",
       "    var output_index = fig.cell_info[2]\n",
       "    var cell = fig.cell_info[0];\n",
       "\n",
       "};\n",
       "\n",
       "mpl.figure.prototype.handle_close = function(fig, msg) {\n",
       "    fig.root.unbind('remove')\n",
       "\n",
       "    // Update the output cell to use the data from the current canvas.\n",
       "    fig.push_to_output();\n",
       "    var dataURL = fig.canvas.toDataURL();\n",
       "    // Re-enable the keyboard manager in IPython - without this line, in FF,\n",
       "    // the notebook keyboard shortcuts fail.\n",
       "    IPython.keyboard_manager.enable()\n",
       "    $(fig.parent_element).html('<img src=\"' + dataURL + '\">');\n",
       "    fig.close_ws(fig, msg);\n",
       "}\n",
       "\n",
       "mpl.figure.prototype.close_ws = function(fig, msg){\n",
       "    fig.send_message('closing', msg);\n",
       "    // fig.ws.close()\n",
       "}\n",
       "\n",
       "mpl.figure.prototype.push_to_output = function(remove_interactive) {\n",
       "    // Turn the data on the canvas into data in the output cell.\n",
       "    var dataURL = this.canvas.toDataURL();\n",
       "    this.cell_info[1]['text/html'] = '<img src=\"' + dataURL + '\">';\n",
       "}\n",
       "\n",
       "mpl.figure.prototype.updated_canvas_event = function() {\n",
       "    // Tell IPython that the notebook contents must change.\n",
       "    IPython.notebook.set_dirty(true);\n",
       "    this.send_message(\"ack\", {});\n",
       "    var fig = this;\n",
       "    // Wait a second, then push the new image to the DOM so\n",
       "    // that it is saved nicely (might be nice to debounce this).\n",
       "    setTimeout(function () { fig.push_to_output() }, 1000);\n",
       "}\n",
       "\n",
       "mpl.figure.prototype._init_toolbar = function() {\n",
       "    var fig = this;\n",
       "\n",
       "    var nav_element = $('<div/>')\n",
       "    nav_element.attr('style', 'width: 100%');\n",
       "    this.root.append(nav_element);\n",
       "\n",
       "    // Define a callback function for later on.\n",
       "    function toolbar_event(event) {\n",
       "        return fig.toolbar_button_onclick(event['data']);\n",
       "    }\n",
       "    function toolbar_mouse_event(event) {\n",
       "        return fig.toolbar_button_onmouseover(event['data']);\n",
       "    }\n",
       "\n",
       "    for(var toolbar_ind in mpl.toolbar_items){\n",
       "        var name = mpl.toolbar_items[toolbar_ind][0];\n",
       "        var tooltip = mpl.toolbar_items[toolbar_ind][1];\n",
       "        var image = mpl.toolbar_items[toolbar_ind][2];\n",
       "        var method_name = mpl.toolbar_items[toolbar_ind][3];\n",
       "\n",
       "        if (!name) { continue; };\n",
       "\n",
       "        var button = $('<button class=\"btn btn-default\" href=\"#\" title=\"' + name + '\"><i class=\"fa ' + image + ' fa-lg\"></i></button>');\n",
       "        button.click(method_name, toolbar_event);\n",
       "        button.mouseover(tooltip, toolbar_mouse_event);\n",
       "        nav_element.append(button);\n",
       "    }\n",
       "\n",
       "    // Add the status bar.\n",
       "    var status_bar = $('<span class=\"mpl-message\" style=\"text-align:right; float: right;\"/>');\n",
       "    nav_element.append(status_bar);\n",
       "    this.message = status_bar[0];\n",
       "\n",
       "    // Add the close button to the window.\n",
       "    var buttongrp = $('<div class=\"btn-group inline pull-right\"></div>');\n",
       "    var button = $('<button class=\"btn btn-mini btn-primary\" href=\"#\" title=\"Stop Interaction\"><i class=\"fa fa-power-off icon-remove icon-large\"></i></button>');\n",
       "    button.click(function (evt) { fig.handle_close(fig, {}); } );\n",
       "    button.mouseover('Stop Interaction', toolbar_mouse_event);\n",
       "    buttongrp.append(button);\n",
       "    var titlebar = this.root.find($('.ui-dialog-titlebar'));\n",
       "    titlebar.prepend(buttongrp);\n",
       "}\n",
       "\n",
       "mpl.figure.prototype._root_extra_style = function(el){\n",
       "    var fig = this\n",
       "    el.on(\"remove\", function(){\n",
       "\tfig.close_ws(fig, {});\n",
       "    });\n",
       "}\n",
       "\n",
       "mpl.figure.prototype._canvas_extra_style = function(el){\n",
       "    // this is important to make the div 'focusable\n",
       "    el.attr('tabindex', 0)\n",
       "    // reach out to IPython and tell the keyboard manager to turn it's self\n",
       "    // off when our div gets focus\n",
       "\n",
       "    // location in version 3\n",
       "    if (IPython.notebook.keyboard_manager) {\n",
       "        IPython.notebook.keyboard_manager.register_events(el);\n",
       "    }\n",
       "    else {\n",
       "        // location in version 2\n",
       "        IPython.keyboard_manager.register_events(el);\n",
       "    }\n",
       "\n",
       "}\n",
       "\n",
       "mpl.figure.prototype._key_event_extra = function(event, name) {\n",
       "    var manager = IPython.notebook.keyboard_manager;\n",
       "    if (!manager)\n",
       "        manager = IPython.keyboard_manager;\n",
       "\n",
       "    // Check for shift+enter\n",
       "    if (event.shiftKey && event.which == 13) {\n",
       "        this.canvas_div.blur();\n",
       "        // select the cell after this one\n",
       "        var index = IPython.notebook.find_cell_index(this.cell_info[0]);\n",
       "        IPython.notebook.select(index + 1);\n",
       "    }\n",
       "}\n",
       "\n",
       "mpl.figure.prototype.handle_save = function(fig, msg) {\n",
       "    fig.ondownload(fig, null);\n",
       "}\n",
       "\n",
       "\n",
       "mpl.find_output_cell = function(html_output) {\n",
       "    // Return the cell and output element which can be found *uniquely* in the notebook.\n",
       "    // Note - this is a bit hacky, but it is done because the \"notebook_saving.Notebook\"\n",
       "    // IPython event is triggered only after the cells have been serialised, which for\n",
       "    // our purposes (turning an active figure into a static one), is too late.\n",
       "    var cells = IPython.notebook.get_cells();\n",
       "    var ncells = cells.length;\n",
       "    for (var i=0; i<ncells; i++) {\n",
       "        var cell = cells[i];\n",
       "        if (cell.cell_type === 'code'){\n",
       "            for (var j=0; j<cell.output_area.outputs.length; j++) {\n",
       "                var data = cell.output_area.outputs[j];\n",
       "                if (data.data) {\n",
       "                    // IPython >= 3 moved mimebundle to data attribute of output\n",
       "                    data = data.data;\n",
       "                }\n",
       "                if (data['text/html'] == html_output) {\n",
       "                    return [cell, data, j];\n",
       "                }\n",
       "            }\n",
       "        }\n",
       "    }\n",
       "}\n",
       "\n",
       "// Register the function which deals with the matplotlib target/channel.\n",
       "// The kernel may be null if the page has been refreshed.\n",
       "if (IPython.notebook.kernel != null) {\n",
       "    IPython.notebook.kernel.comm_manager.register_target('matplotlib', mpl.mpl_figure_comm);\n",
       "}\n"
      ],
      "text/plain": [
       "<IPython.core.display.Javascript object>"
      ]
     },
     "metadata": {},
     "output_type": "display_data"
    },
    {
     "data": {
      "text/html": [
       "<img src=\"data:image/png;base64,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\">"
      ],
      "text/plain": [
       "<IPython.core.display.HTML object>"
      ]
     },
     "metadata": {},
     "output_type": "display_data"
    },
    {
     "data": {
      "text/plain": [
       "[<matplotlib.lines.Line2D at 0x121582eb8>]"
      ]
     },
     "execution_count": 49,
     "metadata": {},
     "output_type": "execute_result"
    }
   ],
   "source": [
    "%matplotlib notebook\n",
    "plt.plot(traces['slope'][1100:],'r',linewidth=1)\n",
    "plt.plot(traces['raw'][1100:],linewidth=0.5)\n",
    "plt.plot(traces['filtered'][1100:],'k',linewidth=2)"
   ]
  },
  {
   "cell_type": "code",
   "execution_count": 73,
   "metadata": {
    "collapsed": false,
    "run_control": {
     "frozen": false,
     "read_only": false
    },
    "scrolled": true
   },
   "outputs": [
    {
     "data": {
      "text/plain": [
       "[ethertype:88B5 length:48 Payload:tick frame:0 protocol:0,\n",
       " ethertype:88B5 length:48 Payload:tick frame:1 protocol:1,\n",
       " ethertype:88B5 length:48 Payload:test frame:2 protocol:2,\n",
       " ethertype:88B5 length:32 Payload:peak frame:3 protocol:3,\n",
       " ethertype:88B6 length:1496 Payload:MCA frame:4 protocol:0,\n",
       " ethertype:88B6 length:1496 Payload:MCA frame:5 protocol:1,\n",
       " ethertype:88B6 length:1496 Payload:MCA frame:6 protocol:2,\n",
       " ethertype:88B6 length:1496 Payload:MCA frame:7 protocol:3,\n",
       " ethertype:88B6 length:1496 Payload:MCA frame:8 protocol:4,\n",
       " ethertype:88B6 length:1496 Payload:MCA frame:9 protocol:5,\n",
       " ethertype:88B6 length:1496 Payload:MCA frame:10 protocol:6,\n",
       " ethertype:88B6 length:1496 Payload:MCA frame:11 protocol:7,\n",
       " ethertype:88B6 length:1496 Payload:MCA frame:12 protocol:8,\n",
       " ethertype:88B6 length:1496 Payload:MCA frame:13 protocol:9,\n",
       " ethertype:88B6 length:1496 Payload:MCA frame:14 protocol:10,\n",
       " ethertype:88B6 length:1496 Payload:MCA frame:15 protocol:11,\n",
       " ethertype:88B6 length:1496 Payload:MCA frame:16 protocol:12,\n",
       " ethertype:88B6 length:1496 Payload:MCA frame:17 protocol:13,\n",
       " ethertype:88B6 length:1496 Payload:MCA frame:18 protocol:14,\n",
       " ethertype:88B6 length:1496 Payload:MCA frame:19 protocol:15,\n",
       " ethertype:88B6 length:1496 Payload:MCA frame:20 protocol:16,\n",
       " ethertype:88B6 length:1496 Payload:MCA frame:21 protocol:17,\n",
       " ethertype:88B6 length:1496 Payload:MCA frame:22 protocol:18,\n",
       " ethertype:88B6 length:1496 Payload:MCA frame:23 protocol:19,\n",
       " ethertype:88B6 length:1496 Payload:MCA frame:24 protocol:20,\n",
       " ethertype:88B6 length:1496 Payload:MCA frame:25 protocol:21,\n",
       " ethertype:88B6 length:1496 Payload:MCA frame:26 protocol:22,\n",
       " ethertype:88B6 length:1496 Payload:MCA frame:27 protocol:23,\n",
       " ethertype:88B6 length:1496 Payload:MCA frame:28 protocol:24,\n",
       " ethertype:88B6 length:1496 Payload:MCA frame:29 protocol:25,\n",
       " ethertype:88B6 length:1496 Payload:MCA frame:30 protocol:26,\n",
       " ethertype:88B5 length:48 Payload:tick frame:31 protocol:4,\n",
       " ethertype:88B6 length:1496 Payload:MCA frame:32 protocol:27,\n",
       " ethertype:88B6 length:1496 Payload:MCA frame:33 protocol:28,\n",
       " ethertype:88B6 length:1496 Payload:MCA frame:34 protocol:29,\n",
       " ethertype:88B6 length:1496 Payload:MCA frame:35 protocol:30,\n",
       " ethertype:88B6 length:1496 Payload:MCA frame:36 protocol:31,\n",
       " ethertype:88B6 length:1496 Payload:MCA frame:37 protocol:32,\n",
       " ethertype:88B6 length:1496 Payload:MCA frame:38 protocol:33,\n",
       " ethertype:88B6 length:1496 Payload:MCA frame:39 protocol:34,\n",
       " ethertype:88B6 length:1496 Payload:MCA frame:40 protocol:35,\n",
       " ethertype:88B6 length:1496 Payload:MCA frame:41 protocol:36,\n",
       " ethertype:88B6 length:1496 Payload:MCA frame:42 protocol:37,\n",
       " ethertype:88B6 length:1496 Payload:MCA frame:43 protocol:38,\n",
       " ethertype:88B6 length:1496 Payload:MCA frame:44 protocol:39,\n",
       " ethertype:88B6 length:1496 Payload:MCA frame:45 protocol:40,\n",
       " ethertype:88B6 length:1496 Payload:MCA frame:46 protocol:41,\n",
       " ethertype:88B6 length:1496 Payload:MCA frame:47 protocol:42,\n",
       " ethertype:88B6 length:1496 Payload:MCA frame:48 protocol:43,\n",
       " ethertype:88B6 length:832 Payload:MCA frame:49 protocol:44,\n",
       " ethertype:88B5 length:48 Payload:tick frame:50 protocol:5,\n",
       " ethertype:88B5 length:48 Payload:tick frame:51 protocol:6,\n",
       " ethertype:88B5 length:48 Payload:test frame:52 protocol:7,\n",
       " ethertype:88B5 length:32 Payload:peak frame:53 protocol:8,\n",
       " ethertype:88B5 length:48 Payload:tick frame:54 protocol:9,\n",
       " ethertype:88B5 length:48 Payload:tick frame:55 protocol:10,\n",
       " ethertype:88B5 length:48 Payload:test frame:56 protocol:11,\n",
       " ethertype:88B5 length:32 Payload:peak frame:57 protocol:12,\n",
       " ethertype:88B5 length:48 Payload:tick frame:58 protocol:13,\n",
       " ethertype:88B6 length:1496 Payload:MCA frame:59 protocol:0,\n",
       " ethertype:88B6 length:1496 Payload:MCA frame:60 protocol:1,\n",
       " ethertype:88B6 length:1496 Payload:MCA frame:61 protocol:2,\n",
       " ethertype:88B6 length:1496 Payload:MCA frame:62 protocol:3,\n",
       " ethertype:88B6 length:1496 Payload:MCA frame:63 protocol:4,\n",
       " ethertype:88B6 length:1496 Payload:MCA frame:64 protocol:5,\n",
       " ethertype:88B6 length:1496 Payload:MCA frame:65 protocol:6,\n",
       " ethertype:88B6 length:1496 Payload:MCA frame:66 protocol:7,\n",
       " ethertype:88B6 length:1496 Payload:MCA frame:67 protocol:8,\n",
       " ethertype:88B6 length:1496 Payload:MCA frame:68 protocol:9,\n",
       " ethertype:88B6 length:1496 Payload:MCA frame:69 protocol:10,\n",
       " ethertype:88B6 length:1496 Payload:MCA frame:70 protocol:11,\n",
       " ethertype:88B6 length:1496 Payload:MCA frame:71 protocol:12,\n",
       " ethertype:88B6 length:1496 Payload:MCA frame:72 protocol:13,\n",
       " ethertype:88B6 length:1496 Payload:MCA frame:73 protocol:14,\n",
       " ethertype:88B6 length:1496 Payload:MCA frame:74 protocol:15,\n",
       " ethertype:88B6 length:1496 Payload:MCA frame:75 protocol:16,\n",
       " ethertype:88B6 length:1496 Payload:MCA frame:76 protocol:17,\n",
       " ethertype:88B6 length:1496 Payload:MCA frame:77 protocol:18,\n",
       " ethertype:88B6 length:1496 Payload:MCA frame:78 protocol:19,\n",
       " ethertype:88B6 length:1496 Payload:MCA frame:79 protocol:20,\n",
       " ethertype:88B6 length:1496 Payload:MCA frame:80 protocol:21,\n",
       " ethertype:88B5 length:48 Payload:tick frame:81 protocol:14,\n",
       " ethertype:88B6 length:1496 Payload:MCA frame:82 protocol:22,\n",
       " ethertype:88B6 length:1496 Payload:MCA frame:83 protocol:23,\n",
       " ethertype:88B6 length:1496 Payload:MCA frame:84 protocol:24,\n",
       " ethertype:88B6 length:1496 Payload:MCA frame:85 protocol:25,\n",
       " ethertype:88B6 length:1496 Payload:MCA frame:86 protocol:26,\n",
       " ethertype:88B6 length:1496 Payload:MCA frame:87 protocol:27,\n",
       " ethertype:88B6 length:1496 Payload:MCA frame:88 protocol:28,\n",
       " ethertype:88B6 length:1496 Payload:MCA frame:89 protocol:29,\n",
       " ethertype:88B6 length:1496 Payload:MCA frame:90 protocol:30]"
      ]
     },
     "execution_count": 73,
     "metadata": {},
     "output_type": "execute_result"
    }
   ],
   "source": [
    "bs=PacketStream(stream)\n",
    "bs.packets"
   ]
  },
  {
   "cell_type": "code",
   "execution_count": 35,
   "metadata": {
    "collapsed": false,
    "run_control": {
     "frozen": false,
     "read_only": false
    }
   },
   "outputs": [],
   "source": [
    "events=bs.events"
   ]
  },
  {
   "cell_type": "code",
   "execution_count": 36,
   "metadata": {
    "collapsed": false,
    "run_control": {
     "frozen": false,
     "read_only": false
    },
    "scrolled": true
   },
   "outputs": [
    {
     "data": {
      "text/plain": [
       "[(<Event.tick: 4>, array([(18384, 3, 0, 0, 0, 0, 0, 0, 0, 0, 0, 0)], \n",
       "        dtype=[('period', '<u4'), ('flags', '<u2'), ('time', '<u2'), ('timestamp', '<u8'), ('framer_ovf', 'u1'), ('mux_ovf', 'u1'), ('measurement_ovf', 'u1'), ('cfd_error', 'u1'), ('framer_error', 'u1'), ('time_ovf', 'u1'), ('baseline_unf', 'u1'), ('reserved', 'u1')])),\n",
       " (<Event.tick: 4>, array([(18384, 3, 18384, 18384, 0, 0, 0, 0, 0, 0, 0, 0)], \n",
       "        dtype=[('period', '<u4'), ('flags', '<u2'), ('time', '<u2'), ('timestamp', '<u8'), ('framer_ovf', 'u1'), ('mux_ovf', 'u1'), ('measurement_ovf', 'u1'), ('cfd_error', 'u1'), ('framer_error', 'u1'), ('time_ovf', 'u1'), ('baseline_unf', 'u1'), ('reserved', 'u1')])),\n",
       " (<Event.test: 3>,\n",
       "  array([(45, 23, 2461, 3175, 105553544087057, 403728486373163)], \n",
       "        dtype=[('rise', '<u2'), ('minima', '<i2'), ('flags', '<u2'), ('time', '<u2'), ('low', '<u8'), ('high', '<u8')])),\n",
       " (<Event.peak: 0>, array([(1460, 71, 2192, 0)], \n",
       "        dtype=[('height', '<i2'), ('minima', '<i2'), ('flags', '<u2'), ('time', '<u2')])),\n",
       " (<Event.tick: 4>, array([(18384, 3, 15209, 36768, 0, 0, 0, 0, 0, 0, 0, 0)], \n",
       "        dtype=[('period', '<u4'), ('flags', '<u2'), ('time', '<u2'), ('timestamp', '<u8'), ('framer_ovf', 'u1'), ('mux_ovf', 'u1'), ('measurement_ovf', 'u1'), ('cfd_error', 'u1'), ('framer_error', 'u1'), ('time_ovf', 'u1'), ('baseline_unf', 'u1'), ('reserved', 'u1')])),\n",
       " (<Event.tick: 4>, array([(18384, 3, 18384, 55152, 0, 0, 0, 0, 0, 0, 0, 0)], \n",
       "        dtype=[('period', '<u4'), ('flags', '<u2'), ('time', '<u2'), ('timestamp', '<u8'), ('framer_ovf', 'u1'), ('mux_ovf', 'u1'), ('measurement_ovf', 'u1'), ('cfd_error', 'u1'), ('framer_error', 'u1'), ('time_ovf', 'u1'), ('baseline_unf', 'u1'), ('reserved', 'u1')])),\n",
       " (<Event.tick: 4>, array([(18384, 3, 18384, 73536, 0, 0, 0, 0, 0, 0, 0, 0)], \n",
       "        dtype=[('period', '<u4'), ('flags', '<u2'), ('time', '<u2'), ('timestamp', '<u8'), ('framer_ovf', 'u1'), ('mux_ovf', 'u1'), ('measurement_ovf', 'u1'), ('cfd_error', 'u1'), ('framer_error', 'u1'), ('time_ovf', 'u1'), ('baseline_unf', 'u1'), ('reserved', 'u1')])),\n",
       " (<Event.test: 3>,\n",
       "  array([(46, -28, 2461, 1171, 94283510056337, 410944061314971)], \n",
       "        dtype=[('rise', '<u2'), ('minima', '<i2'), ('flags', '<u2'), ('time', '<u2'), ('low', '<u8'), ('high', '<u8')])),\n",
       " (<Event.peak: 0>, array([(1540, 21, 2192, 0)], \n",
       "        dtype=[('height', '<i2'), ('minima', '<i2'), ('flags', '<u2'), ('time', '<u2')])),\n",
       " (<Event.tick: 4>, array([(18384, 3, 17213, 91920, 0, 0, 0, 0, 0, 0, 0, 0)], \n",
       "        dtype=[('period', '<u4'), ('flags', '<u2'), ('time', '<u2'), ('timestamp', '<u8'), ('framer_ovf', 'u1'), ('mux_ovf', 'u1'), ('measurement_ovf', 'u1'), ('cfd_error', 'u1'), ('framer_error', 'u1'), ('time_ovf', 'u1'), ('baseline_unf', 'u1'), ('reserved', 'u1')])),\n",
       " (<Event.tick: 4>, array([(18384, 3, 18384, 110304, 0, 0, 0, 0, 0, 0, 0, 0)], \n",
       "        dtype=[('period', '<u4'), ('flags', '<u2'), ('time', '<u2'), ('timestamp', '<u8'), ('framer_ovf', 'u1'), ('mux_ovf', 'u1'), ('measurement_ovf', 'u1'), ('cfd_error', 'u1'), ('framer_error', 'u1'), ('time_ovf', 'u1'), ('baseline_unf', 'u1'), ('reserved', 'u1')])),\n",
       " (<Event.test: 3>,\n",
       "  array([(45, -101, 2461, 8530, 77790768006252, 390877895202420)], \n",
       "        dtype=[('rise', '<u2'), ('minima', '<i2'), ('flags', '<u2'), ('time', '<u2'), ('low', '<u8'), ('high', '<u8')])),\n",
       " (<Event.peak: 0>, array([(1538, -67, 2192, 0)], \n",
       "        dtype=[('height', '<i2'), ('minima', '<i2'), ('flags', '<u2'), ('time', '<u2')])),\n",
       " (<Event.tick: 4>, array([(18384, 3, 9854, 128688, 0, 0, 0, 0, 0, 0, 0, 0)], \n",
       "        dtype=[('period', '<u4'), ('flags', '<u2'), ('time', '<u2'), ('timestamp', '<u8'), ('framer_ovf', 'u1'), ('mux_ovf', 'u1'), ('measurement_ovf', 'u1'), ('cfd_error', 'u1'), ('framer_error', 'u1'), ('time_ovf', 'u1'), ('baseline_unf', 'u1'), ('reserved', 'u1')]))]"
      ]
     },
     "execution_count": 36,
     "metadata": {},
     "output_type": "execute_result"
    }
   ],
   "source": [
    "events"
   ]
  },
  {
   "cell_type": "code",
   "execution_count": 59,
   "metadata": {
    "collapsed": false,
    "run_control": {
     "frozen": false,
     "read_only": false
    }
   },
   "outputs": [],
   "source": [
    "def plot_event(event_tupple):\n",
    "    pre=200\n",
    "    post=1000\n",
    "    timestamp=event_tupple[0]\n",
    "    event_type=event_tupple[1]\n",
    "    event=event_tupple[2]\n",
    "    flags=EventFlags(event['flags'])\n",
    "    print(flags)\n",
    "    print('timestamp',timestamp, 'time', event['time'])\n",
    "    if flags.type == Event.tick:\n",
    "        return\n",
    "    s=traces['filtered'][timestamp+20-pre:timestamp+20+post]\n",
    "    r=traces['raw'][timestamp+20-pre:timestamp+20+post]\n",
    "    i = np.where(abs(minmax['clk'])<=timestamp+20)[0][-1]\n",
    "    min_t=abs(minmax['clk'][i])-(timestamp+20)\n",
    "#     print(minmax['clk'][i],min_t,i,timestamp)\n",
    "    plt.plot(r,'k',linewidth=0.5)\n",
    "    plt.plot(s,'b',linewidth=2)\n",
    "    plt.plot([pre],s[pre],'sg')\n",
    "    plt.plot([pre+min_t],minmax['filtered'][i],'sr')\n",
    "    if event_type==Event.pulse:\n",
    "        for i in range(flags.peak_number):\n",
    "            p=event['peaks'][i]\n",
    "            plt.plot([0,len(s)-1],[p['height'],p['height']],':r')\n",
    "    else:\n",
    "      plt.plot([0,len(s)-1],[event['height'],event['height']],':r')\n",
    "        \n",
    "    #print(event['height'],event['minima'])\n",
    "    #print(minmax['filtered'][i]==s[pre+min_t])\n",
    "    #print(minmax['filtered'][i]==event['minima'])\n",
    "    #print(s[pre],s[pre-1])"
   ]
  },
  {
   "cell_type": "code",
   "execution_count": null,
   "metadata": {
    "collapsed": false,
    "run_control": {
     "frozen": false,
     "read_only": false
    }
   },
   "outputs": [],
   "source": [
    "minmax['clk'][3187]"
   ]
  },
  {
   "cell_type": "code",
   "execution_count": 55,
   "metadata": {
    "collapsed": false
   },
   "outputs": [
    {
     "data": {
      "text/plain": [
       "[(0, <Event.tick: 4>, (18384, 3, 0, 0, 0, 0, 0, 0, 0, 0, 0, 0)),\n",
       " (18384, <Event.tick: 4>, (18384, 3, 18384, 18384, 0, 0, 0, 0, 0, 0, 0, 0)),\n",
       " (21559,\n",
       "  <Event.test: 3>,\n",
       "  (45, 23, 2461, 3175, 105553544087057, 403728486373163)),\n",
       " (21559, <Event.peak: 0>, (1460, 71, 2192, 0)),\n",
       " (36768, <Event.tick: 4>, (18384, 3, 15209, 36768, 0, 0, 0, 0, 0, 0, 0, 0)),\n",
       " (55152, <Event.tick: 4>, (18384, 3, 18384, 55152, 0, 0, 0, 0, 0, 0, 0, 0)),\n",
       " (73536, <Event.tick: 4>, (18384, 3, 18384, 73536, 0, 0, 0, 0, 0, 0, 0, 0)),\n",
       " (74707,\n",
       "  <Event.test: 3>,\n",
       "  (46, -28, 2461, 1171, 94283510056337, 410944061314971)),\n",
       " (74707, <Event.peak: 0>, (1540, 21, 2192, 0)),\n",
       " (91920, <Event.tick: 4>, (18384, 3, 17213, 91920, 0, 0, 0, 0, 0, 0, 0, 0)),\n",
       " (110304, <Event.tick: 4>, (18384, 3, 18384, 110304, 0, 0, 0, 0, 0, 0, 0, 0)),\n",
       " (118834,\n",
       "  <Event.test: 3>,\n",
       "  (45, -101, 2461, 8530, 77790768006252, 390877895202420)),\n",
       " (118834, <Event.peak: 0>, (1538, -67, 2192, 0)),\n",
       " (128688, <Event.tick: 4>, (18384, 3, 9854, 128688, 0, 0, 0, 0, 0, 0, 0, 0)),\n",
       " (147072, <Event.tick: 4>, (18384, 3, 18384, 147072, 0, 0, 0, 0, 0, 0, 0, 0))]"
      ]
     },
     "execution_count": 55,
     "metadata": {},
     "output_type": "execute_result"
    }
   ],
   "source": [
    "es=bs.eventstream\n",
    "es"
   ]
  },
  {
   "cell_type": "code",
   "execution_count": 61,
   "metadata": {
    "collapsed": false,
    "run_control": {
     "frozen": false,
     "read_only": false
    }
   },
   "outputs": [
    {
     "name": "stdout",
     "output_type": "stream",
     "text": [
      "Event:peak channel:0 peak_number:0 cfd_rel2min:True\n",
      "height:cfd_high timing:cfd_low new window:False\n",
      "timestamp 118834 time 0\n"
     ]
    },
    {
     "data": {
      "application/javascript": [
       "/* Put everything inside the global mpl namespace */\n",
       "window.mpl = {};\n",
       "\n",
       "mpl.get_websocket_type = function() {\n",
       "    if (typeof(WebSocket) !== 'undefined') {\n",
       "        return WebSocket;\n",
       "    } else if (typeof(MozWebSocket) !== 'undefined') {\n",
       "        return MozWebSocket;\n",
       "    } else {\n",
       "        alert('Your browser does not have WebSocket support.' +\n",
       "              'Please try Chrome, Safari or Firefox ≥ 6. ' +\n",
       "              'Firefox 4 and 5 are also supported but you ' +\n",
       "              'have to enable WebSockets in about:config.');\n",
       "    };\n",
       "}\n",
       "\n",
       "mpl.figure = function(figure_id, websocket, ondownload, parent_element) {\n",
       "    this.id = figure_id;\n",
       "\n",
       "    this.ws = websocket;\n",
       "\n",
       "    this.supports_binary = (this.ws.binaryType != undefined);\n",
       "\n",
       "    if (!this.supports_binary) {\n",
       "        var warnings = document.getElementById(\"mpl-warnings\");\n",
       "        if (warnings) {\n",
       "            warnings.style.display = 'block';\n",
       "            warnings.textContent = (\n",
       "                \"This browser does not support binary websocket messages. \" +\n",
       "                    \"Performance may be slow.\");\n",
       "        }\n",
       "    }\n",
       "\n",
       "    this.imageObj = new Image();\n",
       "\n",
       "    this.context = undefined;\n",
       "    this.message = undefined;\n",
       "    this.canvas = undefined;\n",
       "    this.rubberband_canvas = undefined;\n",
       "    this.rubberband_context = undefined;\n",
       "    this.format_dropdown = undefined;\n",
       "\n",
       "    this.image_mode = 'full';\n",
       "\n",
       "    this.root = $('<div/>');\n",
       "    this._root_extra_style(this.root)\n",
       "    this.root.attr('style', 'display: inline-block');\n",
       "\n",
       "    $(parent_element).append(this.root);\n",
       "\n",
       "    this._init_header(this);\n",
       "    this._init_canvas(this);\n",
       "    this._init_toolbar(this);\n",
       "\n",
       "    var fig = this;\n",
       "\n",
       "    this.waiting = false;\n",
       "\n",
       "    this.ws.onopen =  function () {\n",
       "            fig.send_message(\"supports_binary\", {value: fig.supports_binary});\n",
       "            fig.send_message(\"send_image_mode\", {});\n",
       "            fig.send_message(\"refresh\", {});\n",
       "        }\n",
       "\n",
       "    this.imageObj.onload = function() {\n",
       "            if (fig.image_mode == 'full') {\n",
       "                // Full images could contain transparency (where diff images\n",
       "                // almost always do), so we need to clear the canvas so that\n",
       "                // there is no ghosting.\n",
       "                fig.context.clearRect(0, 0, fig.canvas.width, fig.canvas.height);\n",
       "            }\n",
       "            fig.context.drawImage(fig.imageObj, 0, 0);\n",
       "        };\n",
       "\n",
       "    this.imageObj.onunload = function() {\n",
       "        this.ws.close();\n",
       "    }\n",
       "\n",
       "    this.ws.onmessage = this._make_on_message_function(this);\n",
       "\n",
       "    this.ondownload = ondownload;\n",
       "}\n",
       "\n",
       "mpl.figure.prototype._init_header = function() {\n",
       "    var titlebar = $(\n",
       "        '<div class=\"ui-dialog-titlebar ui-widget-header ui-corner-all ' +\n",
       "        'ui-helper-clearfix\"/>');\n",
       "    var titletext = $(\n",
       "        '<div class=\"ui-dialog-title\" style=\"width: 100%; ' +\n",
       "        'text-align: center; padding: 3px;\"/>');\n",
       "    titlebar.append(titletext)\n",
       "    this.root.append(titlebar);\n",
       "    this.header = titletext[0];\n",
       "}\n",
       "\n",
       "\n",
       "\n",
       "mpl.figure.prototype._canvas_extra_style = function(canvas_div) {\n",
       "\n",
       "}\n",
       "\n",
       "\n",
       "mpl.figure.prototype._root_extra_style = function(canvas_div) {\n",
       "\n",
       "}\n",
       "\n",
       "mpl.figure.prototype._init_canvas = function() {\n",
       "    var fig = this;\n",
       "\n",
       "    var canvas_div = $('<div/>');\n",
       "\n",
       "    canvas_div.attr('style', 'position: relative; clear: both; outline: 0');\n",
       "\n",
       "    function canvas_keyboard_event(event) {\n",
       "        return fig.key_event(event, event['data']);\n",
       "    }\n",
       "\n",
       "    canvas_div.keydown('key_press', canvas_keyboard_event);\n",
       "    canvas_div.keyup('key_release', canvas_keyboard_event);\n",
       "    this.canvas_div = canvas_div\n",
       "    this._canvas_extra_style(canvas_div)\n",
       "    this.root.append(canvas_div);\n",
       "\n",
       "    var canvas = $('<canvas/>');\n",
       "    canvas.addClass('mpl-canvas');\n",
       "    canvas.attr('style', \"left: 0; top: 0; z-index: 0; outline: 0\")\n",
       "\n",
       "    this.canvas = canvas[0];\n",
       "    this.context = canvas[0].getContext(\"2d\");\n",
       "\n",
       "    var rubberband = $('<canvas/>');\n",
       "    rubberband.attr('style', \"position: absolute; left: 0; top: 0; z-index: 1;\")\n",
       "\n",
       "    var pass_mouse_events = true;\n",
       "\n",
       "    canvas_div.resizable({\n",
       "        start: function(event, ui) {\n",
       "            pass_mouse_events = false;\n",
       "        },\n",
       "        resize: function(event, ui) {\n",
       "            fig.request_resize(ui.size.width, ui.size.height);\n",
       "        },\n",
       "        stop: function(event, ui) {\n",
       "            pass_mouse_events = true;\n",
       "            fig.request_resize(ui.size.width, ui.size.height);\n",
       "        },\n",
       "    });\n",
       "\n",
       "    function mouse_event_fn(event) {\n",
       "        if (pass_mouse_events)\n",
       "            return fig.mouse_event(event, event['data']);\n",
       "    }\n",
       "\n",
       "    rubberband.mousedown('button_press', mouse_event_fn);\n",
       "    rubberband.mouseup('button_release', mouse_event_fn);\n",
       "    // Throttle sequential mouse events to 1 every 20ms.\n",
       "    rubberband.mousemove('motion_notify', mouse_event_fn);\n",
       "\n",
       "    rubberband.mouseenter('figure_enter', mouse_event_fn);\n",
       "    rubberband.mouseleave('figure_leave', mouse_event_fn);\n",
       "\n",
       "    canvas_div.on(\"wheel\", function (event) {\n",
       "        event = event.originalEvent;\n",
       "        event['data'] = 'scroll'\n",
       "        if (event.deltaY < 0) {\n",
       "            event.step = 1;\n",
       "        } else {\n",
       "            event.step = -1;\n",
       "        }\n",
       "        mouse_event_fn(event);\n",
       "    });\n",
       "\n",
       "    canvas_div.append(canvas);\n",
       "    canvas_div.append(rubberband);\n",
       "\n",
       "    this.rubberband = rubberband;\n",
       "    this.rubberband_canvas = rubberband[0];\n",
       "    this.rubberband_context = rubberband[0].getContext(\"2d\");\n",
       "    this.rubberband_context.strokeStyle = \"#000000\";\n",
       "\n",
       "    this._resize_canvas = function(width, height) {\n",
       "        // Keep the size of the canvas, canvas container, and rubber band\n",
       "        // canvas in synch.\n",
       "        canvas_div.css('width', width)\n",
       "        canvas_div.css('height', height)\n",
       "\n",
       "        canvas.attr('width', width);\n",
       "        canvas.attr('height', height);\n",
       "\n",
       "        rubberband.attr('width', width);\n",
       "        rubberband.attr('height', height);\n",
       "    }\n",
       "\n",
       "    // Set the figure to an initial 600x600px, this will subsequently be updated\n",
       "    // upon first draw.\n",
       "    this._resize_canvas(600, 600);\n",
       "\n",
       "    // Disable right mouse context menu.\n",
       "    $(this.rubberband_canvas).bind(\"contextmenu\",function(e){\n",
       "        return false;\n",
       "    });\n",
       "\n",
       "    function set_focus () {\n",
       "        canvas.focus();\n",
       "        canvas_div.focus();\n",
       "    }\n",
       "\n",
       "    window.setTimeout(set_focus, 100);\n",
       "}\n",
       "\n",
       "mpl.figure.prototype._init_toolbar = function() {\n",
       "    var fig = this;\n",
       "\n",
       "    var nav_element = $('<div/>')\n",
       "    nav_element.attr('style', 'width: 100%');\n",
       "    this.root.append(nav_element);\n",
       "\n",
       "    // Define a callback function for later on.\n",
       "    function toolbar_event(event) {\n",
       "        return fig.toolbar_button_onclick(event['data']);\n",
       "    }\n",
       "    function toolbar_mouse_event(event) {\n",
       "        return fig.toolbar_button_onmouseover(event['data']);\n",
       "    }\n",
       "\n",
       "    for(var toolbar_ind in mpl.toolbar_items) {\n",
       "        var name = mpl.toolbar_items[toolbar_ind][0];\n",
       "        var tooltip = mpl.toolbar_items[toolbar_ind][1];\n",
       "        var image = mpl.toolbar_items[toolbar_ind][2];\n",
       "        var method_name = mpl.toolbar_items[toolbar_ind][3];\n",
       "\n",
       "        if (!name) {\n",
       "            // put a spacer in here.\n",
       "            continue;\n",
       "        }\n",
       "        var button = $('<button/>');\n",
       "        button.addClass('ui-button ui-widget ui-state-default ui-corner-all ' +\n",
       "                        'ui-button-icon-only');\n",
       "        button.attr('role', 'button');\n",
       "        button.attr('aria-disabled', 'false');\n",
       "        button.click(method_name, toolbar_event);\n",
       "        button.mouseover(tooltip, toolbar_mouse_event);\n",
       "\n",
       "        var icon_img = $('<span/>');\n",
       "        icon_img.addClass('ui-button-icon-primary ui-icon');\n",
       "        icon_img.addClass(image);\n",
       "        icon_img.addClass('ui-corner-all');\n",
       "\n",
       "        var tooltip_span = $('<span/>');\n",
       "        tooltip_span.addClass('ui-button-text');\n",
       "        tooltip_span.html(tooltip);\n",
       "\n",
       "        button.append(icon_img);\n",
       "        button.append(tooltip_span);\n",
       "\n",
       "        nav_element.append(button);\n",
       "    }\n",
       "\n",
       "    var fmt_picker_span = $('<span/>');\n",
       "\n",
       "    var fmt_picker = $('<select/>');\n",
       "    fmt_picker.addClass('mpl-toolbar-option ui-widget ui-widget-content');\n",
       "    fmt_picker_span.append(fmt_picker);\n",
       "    nav_element.append(fmt_picker_span);\n",
       "    this.format_dropdown = fmt_picker[0];\n",
       "\n",
       "    for (var ind in mpl.extensions) {\n",
       "        var fmt = mpl.extensions[ind];\n",
       "        var option = $(\n",
       "            '<option/>', {selected: fmt === mpl.default_extension}).html(fmt);\n",
       "        fmt_picker.append(option)\n",
       "    }\n",
       "\n",
       "    // Add hover states to the ui-buttons\n",
       "    $( \".ui-button\" ).hover(\n",
       "        function() { $(this).addClass(\"ui-state-hover\");},\n",
       "        function() { $(this).removeClass(\"ui-state-hover\");}\n",
       "    );\n",
       "\n",
       "    var status_bar = $('<span class=\"mpl-message\"/>');\n",
       "    nav_element.append(status_bar);\n",
       "    this.message = status_bar[0];\n",
       "}\n",
       "\n",
       "mpl.figure.prototype.request_resize = function(x_pixels, y_pixels) {\n",
       "    // Request matplotlib to resize the figure. Matplotlib will then trigger a resize in the client,\n",
       "    // which will in turn request a refresh of the image.\n",
       "    this.send_message('resize', {'width': x_pixels, 'height': y_pixels});\n",
       "}\n",
       "\n",
       "mpl.figure.prototype.send_message = function(type, properties) {\n",
       "    properties['type'] = type;\n",
       "    properties['figure_id'] = this.id;\n",
       "    this.ws.send(JSON.stringify(properties));\n",
       "}\n",
       "\n",
       "mpl.figure.prototype.send_draw_message = function() {\n",
       "    if (!this.waiting) {\n",
       "        this.waiting = true;\n",
       "        this.ws.send(JSON.stringify({type: \"draw\", figure_id: this.id}));\n",
       "    }\n",
       "}\n",
       "\n",
       "\n",
       "mpl.figure.prototype.handle_save = function(fig, msg) {\n",
       "    var format_dropdown = fig.format_dropdown;\n",
       "    var format = format_dropdown.options[format_dropdown.selectedIndex].value;\n",
       "    fig.ondownload(fig, format);\n",
       "}\n",
       "\n",
       "\n",
       "mpl.figure.prototype.handle_resize = function(fig, msg) {\n",
       "    var size = msg['size'];\n",
       "    if (size[0] != fig.canvas.width || size[1] != fig.canvas.height) {\n",
       "        fig._resize_canvas(size[0], size[1]);\n",
       "        fig.send_message(\"refresh\", {});\n",
       "    };\n",
       "}\n",
       "\n",
       "mpl.figure.prototype.handle_rubberband = function(fig, msg) {\n",
       "    var x0 = msg['x0'];\n",
       "    var y0 = fig.canvas.height - msg['y0'];\n",
       "    var x1 = msg['x1'];\n",
       "    var y1 = fig.canvas.height - msg['y1'];\n",
       "    x0 = Math.floor(x0) + 0.5;\n",
       "    y0 = Math.floor(y0) + 0.5;\n",
       "    x1 = Math.floor(x1) + 0.5;\n",
       "    y1 = Math.floor(y1) + 0.5;\n",
       "    var min_x = Math.min(x0, x1);\n",
       "    var min_y = Math.min(y0, y1);\n",
       "    var width = Math.abs(x1 - x0);\n",
       "    var height = Math.abs(y1 - y0);\n",
       "\n",
       "    fig.rubberband_context.clearRect(\n",
       "        0, 0, fig.canvas.width, fig.canvas.height);\n",
       "\n",
       "    fig.rubberband_context.strokeRect(min_x, min_y, width, height);\n",
       "}\n",
       "\n",
       "mpl.figure.prototype.handle_figure_label = function(fig, msg) {\n",
       "    // Updates the figure title.\n",
       "    fig.header.textContent = msg['label'];\n",
       "}\n",
       "\n",
       "mpl.figure.prototype.handle_cursor = function(fig, msg) {\n",
       "    var cursor = msg['cursor'];\n",
       "    switch(cursor)\n",
       "    {\n",
       "    case 0:\n",
       "        cursor = 'pointer';\n",
       "        break;\n",
       "    case 1:\n",
       "        cursor = 'default';\n",
       "        break;\n",
       "    case 2:\n",
       "        cursor = 'crosshair';\n",
       "        break;\n",
       "    case 3:\n",
       "        cursor = 'move';\n",
       "        break;\n",
       "    }\n",
       "    fig.rubberband_canvas.style.cursor = cursor;\n",
       "}\n",
       "\n",
       "mpl.figure.prototype.handle_message = function(fig, msg) {\n",
       "    fig.message.textContent = msg['message'];\n",
       "}\n",
       "\n",
       "mpl.figure.prototype.handle_draw = function(fig, msg) {\n",
       "    // Request the server to send over a new figure.\n",
       "    fig.send_draw_message();\n",
       "}\n",
       "\n",
       "mpl.figure.prototype.handle_image_mode = function(fig, msg) {\n",
       "    fig.image_mode = msg['mode'];\n",
       "}\n",
       "\n",
       "mpl.figure.prototype.updated_canvas_event = function() {\n",
       "    // Called whenever the canvas gets updated.\n",
       "    this.send_message(\"ack\", {});\n",
       "}\n",
       "\n",
       "// A function to construct a web socket function for onmessage handling.\n",
       "// Called in the figure constructor.\n",
       "mpl.figure.prototype._make_on_message_function = function(fig) {\n",
       "    return function socket_on_message(evt) {\n",
       "        if (evt.data instanceof Blob) {\n",
       "            /* FIXME: We get \"Resource interpreted as Image but\n",
       "             * transferred with MIME type text/plain:\" errors on\n",
       "             * Chrome.  But how to set the MIME type?  It doesn't seem\n",
       "             * to be part of the websocket stream */\n",
       "            evt.data.type = \"image/png\";\n",
       "\n",
       "            /* Free the memory for the previous frames */\n",
       "            if (fig.imageObj.src) {\n",
       "                (window.URL || window.webkitURL).revokeObjectURL(\n",
       "                    fig.imageObj.src);\n",
       "            }\n",
       "\n",
       "            fig.imageObj.src = (window.URL || window.webkitURL).createObjectURL(\n",
       "                evt.data);\n",
       "            fig.updated_canvas_event();\n",
       "            fig.waiting = false;\n",
       "            return;\n",
       "        }\n",
       "        else if (typeof evt.data === 'string' && evt.data.slice(0, 21) == \"data:image/png;base64\") {\n",
       "            fig.imageObj.src = evt.data;\n",
       "            fig.updated_canvas_event();\n",
       "            fig.waiting = false;\n",
       "            return;\n",
       "        }\n",
       "\n",
       "        var msg = JSON.parse(evt.data);\n",
       "        var msg_type = msg['type'];\n",
       "\n",
       "        // Call the  \"handle_{type}\" callback, which takes\n",
       "        // the figure and JSON message as its only arguments.\n",
       "        try {\n",
       "            var callback = fig[\"handle_\" + msg_type];\n",
       "        } catch (e) {\n",
       "            console.log(\"No handler for the '\" + msg_type + \"' message type: \", msg);\n",
       "            return;\n",
       "        }\n",
       "\n",
       "        if (callback) {\n",
       "            try {\n",
       "                // console.log(\"Handling '\" + msg_type + \"' message: \", msg);\n",
       "                callback(fig, msg);\n",
       "            } catch (e) {\n",
       "                console.log(\"Exception inside the 'handler_\" + msg_type + \"' callback:\", e, e.stack, msg);\n",
       "            }\n",
       "        }\n",
       "    };\n",
       "}\n",
       "\n",
       "// from http://stackoverflow.com/questions/1114465/getting-mouse-location-in-canvas\n",
       "mpl.findpos = function(e) {\n",
       "    //this section is from http://www.quirksmode.org/js/events_properties.html\n",
       "    var targ;\n",
       "    if (!e)\n",
       "        e = window.event;\n",
       "    if (e.target)\n",
       "        targ = e.target;\n",
       "    else if (e.srcElement)\n",
       "        targ = e.srcElement;\n",
       "    if (targ.nodeType == 3) // defeat Safari bug\n",
       "        targ = targ.parentNode;\n",
       "\n",
       "    // jQuery normalizes the pageX and pageY\n",
       "    // pageX,Y are the mouse positions relative to the document\n",
       "    // offset() returns the position of the element relative to the document\n",
       "    var x = e.pageX - $(targ).offset().left;\n",
       "    var y = e.pageY - $(targ).offset().top;\n",
       "\n",
       "    return {\"x\": x, \"y\": y};\n",
       "};\n",
       "\n",
       "/*\n",
       " * return a copy of an object with only non-object keys\n",
       " * we need this to avoid circular references\n",
       " * http://stackoverflow.com/a/24161582/3208463\n",
       " */\n",
       "function simpleKeys (original) {\n",
       "  return Object.keys(original).reduce(function (obj, key) {\n",
       "    if (typeof original[key] !== 'object')\n",
       "        obj[key] = original[key]\n",
       "    return obj;\n",
       "  }, {});\n",
       "}\n",
       "\n",
       "mpl.figure.prototype.mouse_event = function(event, name) {\n",
       "    var canvas_pos = mpl.findpos(event)\n",
       "\n",
       "    if (name === 'button_press')\n",
       "    {\n",
       "        this.canvas.focus();\n",
       "        this.canvas_div.focus();\n",
       "    }\n",
       "\n",
       "    var x = canvas_pos.x;\n",
       "    var y = canvas_pos.y;\n",
       "\n",
       "    this.send_message(name, {x: x, y: y, button: event.button,\n",
       "                             step: event.step,\n",
       "                             guiEvent: simpleKeys(event)});\n",
       "\n",
       "    /* This prevents the web browser from automatically changing to\n",
       "     * the text insertion cursor when the button is pressed.  We want\n",
       "     * to control all of the cursor setting manually through the\n",
       "     * 'cursor' event from matplotlib */\n",
       "    event.preventDefault();\n",
       "    return false;\n",
       "}\n",
       "\n",
       "mpl.figure.prototype._key_event_extra = function(event, name) {\n",
       "    // Handle any extra behaviour associated with a key event\n",
       "}\n",
       "\n",
       "mpl.figure.prototype.key_event = function(event, name) {\n",
       "\n",
       "    // Prevent repeat events\n",
       "    if (name == 'key_press')\n",
       "    {\n",
       "        if (event.which === this._key)\n",
       "            return;\n",
       "        else\n",
       "            this._key = event.which;\n",
       "    }\n",
       "    if (name == 'key_release')\n",
       "        this._key = null;\n",
       "\n",
       "    var value = '';\n",
       "    if (event.ctrlKey && event.which != 17)\n",
       "        value += \"ctrl+\";\n",
       "    if (event.altKey && event.which != 18)\n",
       "        value += \"alt+\";\n",
       "    if (event.shiftKey && event.which != 16)\n",
       "        value += \"shift+\";\n",
       "\n",
       "    value += 'k';\n",
       "    value += event.which.toString();\n",
       "\n",
       "    this._key_event_extra(event, name);\n",
       "\n",
       "    this.send_message(name, {key: value,\n",
       "                             guiEvent: simpleKeys(event)});\n",
       "    return false;\n",
       "}\n",
       "\n",
       "mpl.figure.prototype.toolbar_button_onclick = function(name) {\n",
       "    if (name == 'download') {\n",
       "        this.handle_save(this, null);\n",
       "    } else {\n",
       "        this.send_message(\"toolbar_button\", {name: name});\n",
       "    }\n",
       "};\n",
       "\n",
       "mpl.figure.prototype.toolbar_button_onmouseover = function(tooltip) {\n",
       "    this.message.textContent = tooltip;\n",
       "};\n",
       "mpl.toolbar_items = [[\"Home\", \"Reset original view\", \"fa fa-home icon-home\", \"home\"], [\"Back\", \"Back to  previous view\", \"fa fa-arrow-left icon-arrow-left\", \"back\"], [\"Forward\", \"Forward to next view\", \"fa fa-arrow-right icon-arrow-right\", \"forward\"], [\"\", \"\", \"\", \"\"], [\"Pan\", \"Pan axes with left mouse, zoom with right\", \"fa fa-arrows icon-move\", \"pan\"], [\"Zoom\", \"Zoom to rectangle\", \"fa fa-square-o icon-check-empty\", \"zoom\"], [\"\", \"\", \"\", \"\"], [\"Download\", \"Download plot\", \"fa fa-floppy-o icon-save\", \"download\"]];\n",
       "\n",
       "mpl.extensions = [\"eps\", \"pdf\", \"png\", \"ps\", \"raw\", \"svg\"];\n",
       "\n",
       "mpl.default_extension = \"png\";var comm_websocket_adapter = function(comm) {\n",
       "    // Create a \"websocket\"-like object which calls the given IPython comm\n",
       "    // object with the appropriate methods. Currently this is a non binary\n",
       "    // socket, so there is still some room for performance tuning.\n",
       "    var ws = {};\n",
       "\n",
       "    ws.close = function() {\n",
       "        comm.close()\n",
       "    };\n",
       "    ws.send = function(m) {\n",
       "        //console.log('sending', m);\n",
       "        comm.send(m);\n",
       "    };\n",
       "    // Register the callback with on_msg.\n",
       "    comm.on_msg(function(msg) {\n",
       "        //console.log('receiving', msg['content']['data'], msg);\n",
       "        // Pass the mpl event to the overriden (by mpl) onmessage function.\n",
       "        ws.onmessage(msg['content']['data'])\n",
       "    });\n",
       "    return ws;\n",
       "}\n",
       "\n",
       "mpl.mpl_figure_comm = function(comm, msg) {\n",
       "    // This is the function which gets called when the mpl process\n",
       "    // starts-up an IPython Comm through the \"matplotlib\" channel.\n",
       "\n",
       "    var id = msg.content.data.id;\n",
       "    // Get hold of the div created by the display call when the Comm\n",
       "    // socket was opened in Python.\n",
       "    var element = $(\"#\" + id);\n",
       "    var ws_proxy = comm_websocket_adapter(comm)\n",
       "\n",
       "    function ondownload(figure, format) {\n",
       "        window.open(figure.imageObj.src);\n",
       "    }\n",
       "\n",
       "    var fig = new mpl.figure(id, ws_proxy,\n",
       "                           ondownload,\n",
       "                           element.get(0));\n",
       "\n",
       "    // Call onopen now - mpl needs it, as it is assuming we've passed it a real\n",
       "    // web socket which is closed, not our websocket->open comm proxy.\n",
       "    ws_proxy.onopen();\n",
       "\n",
       "    fig.parent_element = element.get(0);\n",
       "    fig.cell_info = mpl.find_output_cell(\"<div id='\" + id + \"'></div>\");\n",
       "    if (!fig.cell_info) {\n",
       "        console.error(\"Failed to find cell for figure\", id, fig);\n",
       "        return;\n",
       "    }\n",
       "\n",
       "    var output_index = fig.cell_info[2]\n",
       "    var cell = fig.cell_info[0];\n",
       "\n",
       "};\n",
       "\n",
       "mpl.figure.prototype.handle_close = function(fig, msg) {\n",
       "    fig.root.unbind('remove')\n",
       "\n",
       "    // Update the output cell to use the data from the current canvas.\n",
       "    fig.push_to_output();\n",
       "    var dataURL = fig.canvas.toDataURL();\n",
       "    // Re-enable the keyboard manager in IPython - without this line, in FF,\n",
       "    // the notebook keyboard shortcuts fail.\n",
       "    IPython.keyboard_manager.enable()\n",
       "    $(fig.parent_element).html('<img src=\"' + dataURL + '\">');\n",
       "    fig.close_ws(fig, msg);\n",
       "}\n",
       "\n",
       "mpl.figure.prototype.close_ws = function(fig, msg){\n",
       "    fig.send_message('closing', msg);\n",
       "    // fig.ws.close()\n",
       "}\n",
       "\n",
       "mpl.figure.prototype.push_to_output = function(remove_interactive) {\n",
       "    // Turn the data on the canvas into data in the output cell.\n",
       "    var dataURL = this.canvas.toDataURL();\n",
       "    this.cell_info[1]['text/html'] = '<img src=\"' + dataURL + '\">';\n",
       "}\n",
       "\n",
       "mpl.figure.prototype.updated_canvas_event = function() {\n",
       "    // Tell IPython that the notebook contents must change.\n",
       "    IPython.notebook.set_dirty(true);\n",
       "    this.send_message(\"ack\", {});\n",
       "    var fig = this;\n",
       "    // Wait a second, then push the new image to the DOM so\n",
       "    // that it is saved nicely (might be nice to debounce this).\n",
       "    setTimeout(function () { fig.push_to_output() }, 1000);\n",
       "}\n",
       "\n",
       "mpl.figure.prototype._init_toolbar = function() {\n",
       "    var fig = this;\n",
       "\n",
       "    var nav_element = $('<div/>')\n",
       "    nav_element.attr('style', 'width: 100%');\n",
       "    this.root.append(nav_element);\n",
       "\n",
       "    // Define a callback function for later on.\n",
       "    function toolbar_event(event) {\n",
       "        return fig.toolbar_button_onclick(event['data']);\n",
       "    }\n",
       "    function toolbar_mouse_event(event) {\n",
       "        return fig.toolbar_button_onmouseover(event['data']);\n",
       "    }\n",
       "\n",
       "    for(var toolbar_ind in mpl.toolbar_items){\n",
       "        var name = mpl.toolbar_items[toolbar_ind][0];\n",
       "        var tooltip = mpl.toolbar_items[toolbar_ind][1];\n",
       "        var image = mpl.toolbar_items[toolbar_ind][2];\n",
       "        var method_name = mpl.toolbar_items[toolbar_ind][3];\n",
       "\n",
       "        if (!name) { continue; };\n",
       "\n",
       "        var button = $('<button class=\"btn btn-default\" href=\"#\" title=\"' + name + '\"><i class=\"fa ' + image + ' fa-lg\"></i></button>');\n",
       "        button.click(method_name, toolbar_event);\n",
       "        button.mouseover(tooltip, toolbar_mouse_event);\n",
       "        nav_element.append(button);\n",
       "    }\n",
       "\n",
       "    // Add the status bar.\n",
       "    var status_bar = $('<span class=\"mpl-message\" style=\"text-align:right; float: right;\"/>');\n",
       "    nav_element.append(status_bar);\n",
       "    this.message = status_bar[0];\n",
       "\n",
       "    // Add the close button to the window.\n",
       "    var buttongrp = $('<div class=\"btn-group inline pull-right\"></div>');\n",
       "    var button = $('<button class=\"btn btn-mini btn-primary\" href=\"#\" title=\"Stop Interaction\"><i class=\"fa fa-power-off icon-remove icon-large\"></i></button>');\n",
       "    button.click(function (evt) { fig.handle_close(fig, {}); } );\n",
       "    button.mouseover('Stop Interaction', toolbar_mouse_event);\n",
       "    buttongrp.append(button);\n",
       "    var titlebar = this.root.find($('.ui-dialog-titlebar'));\n",
       "    titlebar.prepend(buttongrp);\n",
       "}\n",
       "\n",
       "mpl.figure.prototype._root_extra_style = function(el){\n",
       "    var fig = this\n",
       "    el.on(\"remove\", function(){\n",
       "\tfig.close_ws(fig, {});\n",
       "    });\n",
       "}\n",
       "\n",
       "mpl.figure.prototype._canvas_extra_style = function(el){\n",
       "    // this is important to make the div 'focusable\n",
       "    el.attr('tabindex', 0)\n",
       "    // reach out to IPython and tell the keyboard manager to turn it's self\n",
       "    // off when our div gets focus\n",
       "\n",
       "    // location in version 3\n",
       "    if (IPython.notebook.keyboard_manager) {\n",
       "        IPython.notebook.keyboard_manager.register_events(el);\n",
       "    }\n",
       "    else {\n",
       "        // location in version 2\n",
       "        IPython.keyboard_manager.register_events(el);\n",
       "    }\n",
       "\n",
       "}\n",
       "\n",
       "mpl.figure.prototype._key_event_extra = function(event, name) {\n",
       "    var manager = IPython.notebook.keyboard_manager;\n",
       "    if (!manager)\n",
       "        manager = IPython.keyboard_manager;\n",
       "\n",
       "    // Check for shift+enter\n",
       "    if (event.shiftKey && event.which == 13) {\n",
       "        this.canvas_div.blur();\n",
       "        // select the cell after this one\n",
       "        var index = IPython.notebook.find_cell_index(this.cell_info[0]);\n",
       "        IPython.notebook.select(index + 1);\n",
       "    }\n",
       "}\n",
       "\n",
       "mpl.figure.prototype.handle_save = function(fig, msg) {\n",
       "    fig.ondownload(fig, null);\n",
       "}\n",
       "\n",
       "\n",
       "mpl.find_output_cell = function(html_output) {\n",
       "    // Return the cell and output element which can be found *uniquely* in the notebook.\n",
       "    // Note - this is a bit hacky, but it is done because the \"notebook_saving.Notebook\"\n",
       "    // IPython event is triggered only after the cells have been serialised, which for\n",
       "    // our purposes (turning an active figure into a static one), is too late.\n",
       "    var cells = IPython.notebook.get_cells();\n",
       "    var ncells = cells.length;\n",
       "    for (var i=0; i<ncells; i++) {\n",
       "        var cell = cells[i];\n",
       "        if (cell.cell_type === 'code'){\n",
       "            for (var j=0; j<cell.output_area.outputs.length; j++) {\n",
       "                var data = cell.output_area.outputs[j];\n",
       "                if (data.data) {\n",
       "                    // IPython >= 3 moved mimebundle to data attribute of output\n",
       "                    data = data.data;\n",
       "                }\n",
       "                if (data['text/html'] == html_output) {\n",
       "                    return [cell, data, j];\n",
       "                }\n",
       "            }\n",
       "        }\n",
       "    }\n",
       "}\n",
       "\n",
       "// Register the function which deals with the matplotlib target/channel.\n",
       "// The kernel may be null if the page has been refreshed.\n",
       "if (IPython.notebook.kernel != null) {\n",
       "    IPython.notebook.kernel.comm_manager.register_target('matplotlib', mpl.mpl_figure_comm);\n",
       "}\n"
      ],
      "text/plain": [
       "<IPython.core.display.Javascript object>"
      ]
     },
     "metadata": {},
     "output_type": "display_data"
    },
    {
     "data": {
      "text/html": [
       "<img src=\"data:image/png;base64,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\">"
      ],
      "text/plain": [
       "<IPython.core.display.HTML object>"
      ]
     },
     "metadata": {},
     "output_type": "display_data"
    }
   ],
   "source": [
    "%matplotlib notebook\n",
    "plot_event(es[12])"
   ]
  },
  {
   "cell_type": "code",
   "execution_count": 40,
   "metadata": {
    "collapsed": false,
    "run_control": {
     "frozen": false,
     "read_only": false
    }
   },
   "outputs": [
    {
     "data": {
      "text/plain": [
       "[(0, <Event.tick: 4>, (18384, 3, 0, 0, 0, 0, 0, 0, 0, 0, 0, 0)),\n",
       " (18384, <Event.tick: 4>, (18384, 3, 18384, 18384, 0, 0, 0, 0, 0, 0, 0, 0)),\n",
       " (21559,\n",
       "  <Event.test: 3>,\n",
       "  (45, 23, 2461, 3175, 105553544087057, 403728486373163)),\n",
       " (21559, <Event.peak: 0>, (1460, 71, 2192, 0)),\n",
       " (36768, <Event.tick: 4>, (18384, 3, 15209, 36768, 0, 0, 0, 0, 0, 0, 0, 0)),\n",
       " (55152, <Event.tick: 4>, (18384, 3, 18384, 55152, 0, 0, 0, 0, 0, 0, 0, 0)),\n",
       " (73536, <Event.tick: 4>, (18384, 3, 18384, 73536, 0, 0, 0, 0, 0, 0, 0, 0)),\n",
       " (74707,\n",
       "  <Event.test: 3>,\n",
       "  (46, -28, 2461, 1171, 94283510056337, 410944061314971)),\n",
       " (74707, <Event.peak: 0>, (1540, 21, 2192, 0)),\n",
       " (91920, <Event.tick: 4>, (18384, 3, 17213, 91920, 0, 0, 0, 0, 0, 0, 0, 0)),\n",
       " (110304, <Event.tick: 4>, (18384, 3, 18384, 110304, 0, 0, 0, 0, 0, 0, 0, 0)),\n",
       " (118834,\n",
       "  <Event.test: 3>,\n",
       "  (45, -101, 2461, 8530, 77790768006252, 390877895202420)),\n",
       " (118834, <Event.peak: 0>, (1538, -67, 2192, 0)),\n",
       " (128688, <Event.tick: 4>, (18384, 3, 9854, 128688, 0, 0, 0, 0, 0, 0, 0, 0))]"
      ]
     },
     "execution_count": 40,
     "metadata": {},
     "output_type": "execute_result"
    }
   ],
   "source": [
    "es"
   ]
  },
  {
   "cell_type": "code",
   "execution_count": 75,
   "metadata": {
    "collapsed": false,
    "run_control": {
     "frozen": false,
     "read_only": false
    }
   },
   "outputs": [
    {
     "data": {
      "text/plain": [
       "[Distribution: channel:0 value:filtered_signal, trigger:pulse_threshold_rising, qualifier:all]"
      ]
     },
     "execution_count": 75,
     "metadata": {},
     "output_type": "execute_result"
    }
   ],
   "source": [
    "dists=bs.distributions\n",
    "dists"
   ]
  },
  {
   "cell_type": "code",
   "execution_count": 76,
   "metadata": {
    "collapsed": false,
    "run_control": {
     "frozen": false,
     "read_only": false
    }
   },
   "outputs": [
    {
     "data": {
      "text/plain": [
       "(8198, 16383, -1000, 0, 1000, 256, 18384, 18385, 36768)"
      ]
     },
     "execution_count": 76,
     "metadata": {},
     "output_type": "execute_result"
    }
   ],
   "source": [
    "dists[0].header"
   ]
  },
  {
   "cell_type": "code",
   "execution_count": 77,
   "metadata": {
    "collapsed": false,
    "run_control": {
     "frozen": false,
     "read_only": false
    }
   },
   "outputs": [
    {
     "data": {
      "text/plain": [
       "(array([], dtype=int64),)"
      ]
     },
     "execution_count": 77,
     "metadata": {},
     "output_type": "execute_result"
    }
   ],
   "source": [
    "d=bs.distributions[0]\n",
    "eset=np.uint64(1)\n",
    "bset=np.uint64(0)\n",
    "cset=np.uint64(20)\n",
    "\n",
    "stop=d.stop_time+eset+cset\n",
    "start=d.start_time+bset+cset\n",
    "bins=np.zeros((d.last_bin+1,),dtype=np.uint32)\n",
    "for i in range(start,stop):\n",
    "    s = traces['filtered'][i]\n",
    "    if s <= d.lowest_value:\n",
    "        bins[0] += 1\n",
    "    else:\n",
    "        bins[s-d.lowest_value] += 1\n",
    "        \n",
    "(bins-d.counts).nonzero()"
   ]
  },
  {
   "cell_type": "code",
   "execution_count": 72,
   "metadata": {
    "collapsed": false,
    "run_control": {
     "frozen": false,
     "read_only": false
    }
   },
   "outputs": [
    {
     "data": {
      "application/javascript": [
       "/* Put everything inside the global mpl namespace */\n",
       "window.mpl = {};\n",
       "\n",
       "mpl.get_websocket_type = function() {\n",
       "    if (typeof(WebSocket) !== 'undefined') {\n",
       "        return WebSocket;\n",
       "    } else if (typeof(MozWebSocket) !== 'undefined') {\n",
       "        return MozWebSocket;\n",
       "    } else {\n",
       "        alert('Your browser does not have WebSocket support.' +\n",
       "              'Please try Chrome, Safari or Firefox ≥ 6. ' +\n",
       "              'Firefox 4 and 5 are also supported but you ' +\n",
       "              'have to enable WebSockets in about:config.');\n",
       "    };\n",
       "}\n",
       "\n",
       "mpl.figure = function(figure_id, websocket, ondownload, parent_element) {\n",
       "    this.id = figure_id;\n",
       "\n",
       "    this.ws = websocket;\n",
       "\n",
       "    this.supports_binary = (this.ws.binaryType != undefined);\n",
       "\n",
       "    if (!this.supports_binary) {\n",
       "        var warnings = document.getElementById(\"mpl-warnings\");\n",
       "        if (warnings) {\n",
       "            warnings.style.display = 'block';\n",
       "            warnings.textContent = (\n",
       "                \"This browser does not support binary websocket messages. \" +\n",
       "                    \"Performance may be slow.\");\n",
       "        }\n",
       "    }\n",
       "\n",
       "    this.imageObj = new Image();\n",
       "\n",
       "    this.context = undefined;\n",
       "    this.message = undefined;\n",
       "    this.canvas = undefined;\n",
       "    this.rubberband_canvas = undefined;\n",
       "    this.rubberband_context = undefined;\n",
       "    this.format_dropdown = undefined;\n",
       "\n",
       "    this.image_mode = 'full';\n",
       "\n",
       "    this.root = $('<div/>');\n",
       "    this._root_extra_style(this.root)\n",
       "    this.root.attr('style', 'display: inline-block');\n",
       "\n",
       "    $(parent_element).append(this.root);\n",
       "\n",
       "    this._init_header(this);\n",
       "    this._init_canvas(this);\n",
       "    this._init_toolbar(this);\n",
       "\n",
       "    var fig = this;\n",
       "\n",
       "    this.waiting = false;\n",
       "\n",
       "    this.ws.onopen =  function () {\n",
       "            fig.send_message(\"supports_binary\", {value: fig.supports_binary});\n",
       "            fig.send_message(\"send_image_mode\", {});\n",
       "            fig.send_message(\"refresh\", {});\n",
       "        }\n",
       "\n",
       "    this.imageObj.onload = function() {\n",
       "            if (fig.image_mode == 'full') {\n",
       "                // Full images could contain transparency (where diff images\n",
       "                // almost always do), so we need to clear the canvas so that\n",
       "                // there is no ghosting.\n",
       "                fig.context.clearRect(0, 0, fig.canvas.width, fig.canvas.height);\n",
       "            }\n",
       "            fig.context.drawImage(fig.imageObj, 0, 0);\n",
       "        };\n",
       "\n",
       "    this.imageObj.onunload = function() {\n",
       "        this.ws.close();\n",
       "    }\n",
       "\n",
       "    this.ws.onmessage = this._make_on_message_function(this);\n",
       "\n",
       "    this.ondownload = ondownload;\n",
       "}\n",
       "\n",
       "mpl.figure.prototype._init_header = function() {\n",
       "    var titlebar = $(\n",
       "        '<div class=\"ui-dialog-titlebar ui-widget-header ui-corner-all ' +\n",
       "        'ui-helper-clearfix\"/>');\n",
       "    var titletext = $(\n",
       "        '<div class=\"ui-dialog-title\" style=\"width: 100%; ' +\n",
       "        'text-align: center; padding: 3px;\"/>');\n",
       "    titlebar.append(titletext)\n",
       "    this.root.append(titlebar);\n",
       "    this.header = titletext[0];\n",
       "}\n",
       "\n",
       "\n",
       "\n",
       "mpl.figure.prototype._canvas_extra_style = function(canvas_div) {\n",
       "\n",
       "}\n",
       "\n",
       "\n",
       "mpl.figure.prototype._root_extra_style = function(canvas_div) {\n",
       "\n",
       "}\n",
       "\n",
       "mpl.figure.prototype._init_canvas = function() {\n",
       "    var fig = this;\n",
       "\n",
       "    var canvas_div = $('<div/>');\n",
       "\n",
       "    canvas_div.attr('style', 'position: relative; clear: both; outline: 0');\n",
       "\n",
       "    function canvas_keyboard_event(event) {\n",
       "        return fig.key_event(event, event['data']);\n",
       "    }\n",
       "\n",
       "    canvas_div.keydown('key_press', canvas_keyboard_event);\n",
       "    canvas_div.keyup('key_release', canvas_keyboard_event);\n",
       "    this.canvas_div = canvas_div\n",
       "    this._canvas_extra_style(canvas_div)\n",
       "    this.root.append(canvas_div);\n",
       "\n",
       "    var canvas = $('<canvas/>');\n",
       "    canvas.addClass('mpl-canvas');\n",
       "    canvas.attr('style', \"left: 0; top: 0; z-index: 0; outline: 0\")\n",
       "\n",
       "    this.canvas = canvas[0];\n",
       "    this.context = canvas[0].getContext(\"2d\");\n",
       "\n",
       "    var rubberband = $('<canvas/>');\n",
       "    rubberband.attr('style', \"position: absolute; left: 0; top: 0; z-index: 1;\")\n",
       "\n",
       "    var pass_mouse_events = true;\n",
       "\n",
       "    canvas_div.resizable({\n",
       "        start: function(event, ui) {\n",
       "            pass_mouse_events = false;\n",
       "        },\n",
       "        resize: function(event, ui) {\n",
       "            fig.request_resize(ui.size.width, ui.size.height);\n",
       "        },\n",
       "        stop: function(event, ui) {\n",
       "            pass_mouse_events = true;\n",
       "            fig.request_resize(ui.size.width, ui.size.height);\n",
       "        },\n",
       "    });\n",
       "\n",
       "    function mouse_event_fn(event) {\n",
       "        if (pass_mouse_events)\n",
       "            return fig.mouse_event(event, event['data']);\n",
       "    }\n",
       "\n",
       "    rubberband.mousedown('button_press', mouse_event_fn);\n",
       "    rubberband.mouseup('button_release', mouse_event_fn);\n",
       "    // Throttle sequential mouse events to 1 every 20ms.\n",
       "    rubberband.mousemove('motion_notify', mouse_event_fn);\n",
       "\n",
       "    rubberband.mouseenter('figure_enter', mouse_event_fn);\n",
       "    rubberband.mouseleave('figure_leave', mouse_event_fn);\n",
       "\n",
       "    canvas_div.on(\"wheel\", function (event) {\n",
       "        event = event.originalEvent;\n",
       "        event['data'] = 'scroll'\n",
       "        if (event.deltaY < 0) {\n",
       "            event.step = 1;\n",
       "        } else {\n",
       "            event.step = -1;\n",
       "        }\n",
       "        mouse_event_fn(event);\n",
       "    });\n",
       "\n",
       "    canvas_div.append(canvas);\n",
       "    canvas_div.append(rubberband);\n",
       "\n",
       "    this.rubberband = rubberband;\n",
       "    this.rubberband_canvas = rubberband[0];\n",
       "    this.rubberband_context = rubberband[0].getContext(\"2d\");\n",
       "    this.rubberband_context.strokeStyle = \"#000000\";\n",
       "\n",
       "    this._resize_canvas = function(width, height) {\n",
       "        // Keep the size of the canvas, canvas container, and rubber band\n",
       "        // canvas in synch.\n",
       "        canvas_div.css('width', width)\n",
       "        canvas_div.css('height', height)\n",
       "\n",
       "        canvas.attr('width', width);\n",
       "        canvas.attr('height', height);\n",
       "\n",
       "        rubberband.attr('width', width);\n",
       "        rubberband.attr('height', height);\n",
       "    }\n",
       "\n",
       "    // Set the figure to an initial 600x600px, this will subsequently be updated\n",
       "    // upon first draw.\n",
       "    this._resize_canvas(600, 600);\n",
       "\n",
       "    // Disable right mouse context menu.\n",
       "    $(this.rubberband_canvas).bind(\"contextmenu\",function(e){\n",
       "        return false;\n",
       "    });\n",
       "\n",
       "    function set_focus () {\n",
       "        canvas.focus();\n",
       "        canvas_div.focus();\n",
       "    }\n",
       "\n",
       "    window.setTimeout(set_focus, 100);\n",
       "}\n",
       "\n",
       "mpl.figure.prototype._init_toolbar = function() {\n",
       "    var fig = this;\n",
       "\n",
       "    var nav_element = $('<div/>')\n",
       "    nav_element.attr('style', 'width: 100%');\n",
       "    this.root.append(nav_element);\n",
       "\n",
       "    // Define a callback function for later on.\n",
       "    function toolbar_event(event) {\n",
       "        return fig.toolbar_button_onclick(event['data']);\n",
       "    }\n",
       "    function toolbar_mouse_event(event) {\n",
       "        return fig.toolbar_button_onmouseover(event['data']);\n",
       "    }\n",
       "\n",
       "    for(var toolbar_ind in mpl.toolbar_items) {\n",
       "        var name = mpl.toolbar_items[toolbar_ind][0];\n",
       "        var tooltip = mpl.toolbar_items[toolbar_ind][1];\n",
       "        var image = mpl.toolbar_items[toolbar_ind][2];\n",
       "        var method_name = mpl.toolbar_items[toolbar_ind][3];\n",
       "\n",
       "        if (!name) {\n",
       "            // put a spacer in here.\n",
       "            continue;\n",
       "        }\n",
       "        var button = $('<button/>');\n",
       "        button.addClass('ui-button ui-widget ui-state-default ui-corner-all ' +\n",
       "                        'ui-button-icon-only');\n",
       "        button.attr('role', 'button');\n",
       "        button.attr('aria-disabled', 'false');\n",
       "        button.click(method_name, toolbar_event);\n",
       "        button.mouseover(tooltip, toolbar_mouse_event);\n",
       "\n",
       "        var icon_img = $('<span/>');\n",
       "        icon_img.addClass('ui-button-icon-primary ui-icon');\n",
       "        icon_img.addClass(image);\n",
       "        icon_img.addClass('ui-corner-all');\n",
       "\n",
       "        var tooltip_span = $('<span/>');\n",
       "        tooltip_span.addClass('ui-button-text');\n",
       "        tooltip_span.html(tooltip);\n",
       "\n",
       "        button.append(icon_img);\n",
       "        button.append(tooltip_span);\n",
       "\n",
       "        nav_element.append(button);\n",
       "    }\n",
       "\n",
       "    var fmt_picker_span = $('<span/>');\n",
       "\n",
       "    var fmt_picker = $('<select/>');\n",
       "    fmt_picker.addClass('mpl-toolbar-option ui-widget ui-widget-content');\n",
       "    fmt_picker_span.append(fmt_picker);\n",
       "    nav_element.append(fmt_picker_span);\n",
       "    this.format_dropdown = fmt_picker[0];\n",
       "\n",
       "    for (var ind in mpl.extensions) {\n",
       "        var fmt = mpl.extensions[ind];\n",
       "        var option = $(\n",
       "            '<option/>', {selected: fmt === mpl.default_extension}).html(fmt);\n",
       "        fmt_picker.append(option)\n",
       "    }\n",
       "\n",
       "    // Add hover states to the ui-buttons\n",
       "    $( \".ui-button\" ).hover(\n",
       "        function() { $(this).addClass(\"ui-state-hover\");},\n",
       "        function() { $(this).removeClass(\"ui-state-hover\");}\n",
       "    );\n",
       "\n",
       "    var status_bar = $('<span class=\"mpl-message\"/>');\n",
       "    nav_element.append(status_bar);\n",
       "    this.message = status_bar[0];\n",
       "}\n",
       "\n",
       "mpl.figure.prototype.request_resize = function(x_pixels, y_pixels) {\n",
       "    // Request matplotlib to resize the figure. Matplotlib will then trigger a resize in the client,\n",
       "    // which will in turn request a refresh of the image.\n",
       "    this.send_message('resize', {'width': x_pixels, 'height': y_pixels});\n",
       "}\n",
       "\n",
       "mpl.figure.prototype.send_message = function(type, properties) {\n",
       "    properties['type'] = type;\n",
       "    properties['figure_id'] = this.id;\n",
       "    this.ws.send(JSON.stringify(properties));\n",
       "}\n",
       "\n",
       "mpl.figure.prototype.send_draw_message = function() {\n",
       "    if (!this.waiting) {\n",
       "        this.waiting = true;\n",
       "        this.ws.send(JSON.stringify({type: \"draw\", figure_id: this.id}));\n",
       "    }\n",
       "}\n",
       "\n",
       "\n",
       "mpl.figure.prototype.handle_save = function(fig, msg) {\n",
       "    var format_dropdown = fig.format_dropdown;\n",
       "    var format = format_dropdown.options[format_dropdown.selectedIndex].value;\n",
       "    fig.ondownload(fig, format);\n",
       "}\n",
       "\n",
       "\n",
       "mpl.figure.prototype.handle_resize = function(fig, msg) {\n",
       "    var size = msg['size'];\n",
       "    if (size[0] != fig.canvas.width || size[1] != fig.canvas.height) {\n",
       "        fig._resize_canvas(size[0], size[1]);\n",
       "        fig.send_message(\"refresh\", {});\n",
       "    };\n",
       "}\n",
       "\n",
       "mpl.figure.prototype.handle_rubberband = function(fig, msg) {\n",
       "    var x0 = msg['x0'];\n",
       "    var y0 = fig.canvas.height - msg['y0'];\n",
       "    var x1 = msg['x1'];\n",
       "    var y1 = fig.canvas.height - msg['y1'];\n",
       "    x0 = Math.floor(x0) + 0.5;\n",
       "    y0 = Math.floor(y0) + 0.5;\n",
       "    x1 = Math.floor(x1) + 0.5;\n",
       "    y1 = Math.floor(y1) + 0.5;\n",
       "    var min_x = Math.min(x0, x1);\n",
       "    var min_y = Math.min(y0, y1);\n",
       "    var width = Math.abs(x1 - x0);\n",
       "    var height = Math.abs(y1 - y0);\n",
       "\n",
       "    fig.rubberband_context.clearRect(\n",
       "        0, 0, fig.canvas.width, fig.canvas.height);\n",
       "\n",
       "    fig.rubberband_context.strokeRect(min_x, min_y, width, height);\n",
       "}\n",
       "\n",
       "mpl.figure.prototype.handle_figure_label = function(fig, msg) {\n",
       "    // Updates the figure title.\n",
       "    fig.header.textContent = msg['label'];\n",
       "}\n",
       "\n",
       "mpl.figure.prototype.handle_cursor = function(fig, msg) {\n",
       "    var cursor = msg['cursor'];\n",
       "    switch(cursor)\n",
       "    {\n",
       "    case 0:\n",
       "        cursor = 'pointer';\n",
       "        break;\n",
       "    case 1:\n",
       "        cursor = 'default';\n",
       "        break;\n",
       "    case 2:\n",
       "        cursor = 'crosshair';\n",
       "        break;\n",
       "    case 3:\n",
       "        cursor = 'move';\n",
       "        break;\n",
       "    }\n",
       "    fig.rubberband_canvas.style.cursor = cursor;\n",
       "}\n",
       "\n",
       "mpl.figure.prototype.handle_message = function(fig, msg) {\n",
       "    fig.message.textContent = msg['message'];\n",
       "}\n",
       "\n",
       "mpl.figure.prototype.handle_draw = function(fig, msg) {\n",
       "    // Request the server to send over a new figure.\n",
       "    fig.send_draw_message();\n",
       "}\n",
       "\n",
       "mpl.figure.prototype.handle_image_mode = function(fig, msg) {\n",
       "    fig.image_mode = msg['mode'];\n",
       "}\n",
       "\n",
       "mpl.figure.prototype.updated_canvas_event = function() {\n",
       "    // Called whenever the canvas gets updated.\n",
       "    this.send_message(\"ack\", {});\n",
       "}\n",
       "\n",
       "// A function to construct a web socket function for onmessage handling.\n",
       "// Called in the figure constructor.\n",
       "mpl.figure.prototype._make_on_message_function = function(fig) {\n",
       "    return function socket_on_message(evt) {\n",
       "        if (evt.data instanceof Blob) {\n",
       "            /* FIXME: We get \"Resource interpreted as Image but\n",
       "             * transferred with MIME type text/plain:\" errors on\n",
       "             * Chrome.  But how to set the MIME type?  It doesn't seem\n",
       "             * to be part of the websocket stream */\n",
       "            evt.data.type = \"image/png\";\n",
       "\n",
       "            /* Free the memory for the previous frames */\n",
       "            if (fig.imageObj.src) {\n",
       "                (window.URL || window.webkitURL).revokeObjectURL(\n",
       "                    fig.imageObj.src);\n",
       "            }\n",
       "\n",
       "            fig.imageObj.src = (window.URL || window.webkitURL).createObjectURL(\n",
       "                evt.data);\n",
       "            fig.updated_canvas_event();\n",
       "            fig.waiting = false;\n",
       "            return;\n",
       "        }\n",
       "        else if (typeof evt.data === 'string' && evt.data.slice(0, 21) == \"data:image/png;base64\") {\n",
       "            fig.imageObj.src = evt.data;\n",
       "            fig.updated_canvas_event();\n",
       "            fig.waiting = false;\n",
       "            return;\n",
       "        }\n",
       "\n",
       "        var msg = JSON.parse(evt.data);\n",
       "        var msg_type = msg['type'];\n",
       "\n",
       "        // Call the  \"handle_{type}\" callback, which takes\n",
       "        // the figure and JSON message as its only arguments.\n",
       "        try {\n",
       "            var callback = fig[\"handle_\" + msg_type];\n",
       "        } catch (e) {\n",
       "            console.log(\"No handler for the '\" + msg_type + \"' message type: \", msg);\n",
       "            return;\n",
       "        }\n",
       "\n",
       "        if (callback) {\n",
       "            try {\n",
       "                // console.log(\"Handling '\" + msg_type + \"' message: \", msg);\n",
       "                callback(fig, msg);\n",
       "            } catch (e) {\n",
       "                console.log(\"Exception inside the 'handler_\" + msg_type + \"' callback:\", e, e.stack, msg);\n",
       "            }\n",
       "        }\n",
       "    };\n",
       "}\n",
       "\n",
       "// from http://stackoverflow.com/questions/1114465/getting-mouse-location-in-canvas\n",
       "mpl.findpos = function(e) {\n",
       "    //this section is from http://www.quirksmode.org/js/events_properties.html\n",
       "    var targ;\n",
       "    if (!e)\n",
       "        e = window.event;\n",
       "    if (e.target)\n",
       "        targ = e.target;\n",
       "    else if (e.srcElement)\n",
       "        targ = e.srcElement;\n",
       "    if (targ.nodeType == 3) // defeat Safari bug\n",
       "        targ = targ.parentNode;\n",
       "\n",
       "    // jQuery normalizes the pageX and pageY\n",
       "    // pageX,Y are the mouse positions relative to the document\n",
       "    // offset() returns the position of the element relative to the document\n",
       "    var x = e.pageX - $(targ).offset().left;\n",
       "    var y = e.pageY - $(targ).offset().top;\n",
       "\n",
       "    return {\"x\": x, \"y\": y};\n",
       "};\n",
       "\n",
       "/*\n",
       " * return a copy of an object with only non-object keys\n",
       " * we need this to avoid circular references\n",
       " * http://stackoverflow.com/a/24161582/3208463\n",
       " */\n",
       "function simpleKeys (original) {\n",
       "  return Object.keys(original).reduce(function (obj, key) {\n",
       "    if (typeof original[key] !== 'object')\n",
       "        obj[key] = original[key]\n",
       "    return obj;\n",
       "  }, {});\n",
       "}\n",
       "\n",
       "mpl.figure.prototype.mouse_event = function(event, name) {\n",
       "    var canvas_pos = mpl.findpos(event)\n",
       "\n",
       "    if (name === 'button_press')\n",
       "    {\n",
       "        this.canvas.focus();\n",
       "        this.canvas_div.focus();\n",
       "    }\n",
       "\n",
       "    var x = canvas_pos.x;\n",
       "    var y = canvas_pos.y;\n",
       "\n",
       "    this.send_message(name, {x: x, y: y, button: event.button,\n",
       "                             step: event.step,\n",
       "                             guiEvent: simpleKeys(event)});\n",
       "\n",
       "    /* This prevents the web browser from automatically changing to\n",
       "     * the text insertion cursor when the button is pressed.  We want\n",
       "     * to control all of the cursor setting manually through the\n",
       "     * 'cursor' event from matplotlib */\n",
       "    event.preventDefault();\n",
       "    return false;\n",
       "}\n",
       "\n",
       "mpl.figure.prototype._key_event_extra = function(event, name) {\n",
       "    // Handle any extra behaviour associated with a key event\n",
       "}\n",
       "\n",
       "mpl.figure.prototype.key_event = function(event, name) {\n",
       "\n",
       "    // Prevent repeat events\n",
       "    if (name == 'key_press')\n",
       "    {\n",
       "        if (event.which === this._key)\n",
       "            return;\n",
       "        else\n",
       "            this._key = event.which;\n",
       "    }\n",
       "    if (name == 'key_release')\n",
       "        this._key = null;\n",
       "\n",
       "    var value = '';\n",
       "    if (event.ctrlKey && event.which != 17)\n",
       "        value += \"ctrl+\";\n",
       "    if (event.altKey && event.which != 18)\n",
       "        value += \"alt+\";\n",
       "    if (event.shiftKey && event.which != 16)\n",
       "        value += \"shift+\";\n",
       "\n",
       "    value += 'k';\n",
       "    value += event.which.toString();\n",
       "\n",
       "    this._key_event_extra(event, name);\n",
       "\n",
       "    this.send_message(name, {key: value,\n",
       "                             guiEvent: simpleKeys(event)});\n",
       "    return false;\n",
       "}\n",
       "\n",
       "mpl.figure.prototype.toolbar_button_onclick = function(name) {\n",
       "    if (name == 'download') {\n",
       "        this.handle_save(this, null);\n",
       "    } else {\n",
       "        this.send_message(\"toolbar_button\", {name: name});\n",
       "    }\n",
       "};\n",
       "\n",
       "mpl.figure.prototype.toolbar_button_onmouseover = function(tooltip) {\n",
       "    this.message.textContent = tooltip;\n",
       "};\n",
       "mpl.toolbar_items = [[\"Home\", \"Reset original view\", \"fa fa-home icon-home\", \"home\"], [\"Back\", \"Back to  previous view\", \"fa fa-arrow-left icon-arrow-left\", \"back\"], [\"Forward\", \"Forward to next view\", \"fa fa-arrow-right icon-arrow-right\", \"forward\"], [\"\", \"\", \"\", \"\"], [\"Pan\", \"Pan axes with left mouse, zoom with right\", \"fa fa-arrows icon-move\", \"pan\"], [\"Zoom\", \"Zoom to rectangle\", \"fa fa-square-o icon-check-empty\", \"zoom\"], [\"\", \"\", \"\", \"\"], [\"Download\", \"Download plot\", \"fa fa-floppy-o icon-save\", \"download\"]];\n",
       "\n",
       "mpl.extensions = [\"eps\", \"pdf\", \"png\", \"ps\", \"raw\", \"svg\"];\n",
       "\n",
       "mpl.default_extension = \"png\";var comm_websocket_adapter = function(comm) {\n",
       "    // Create a \"websocket\"-like object which calls the given IPython comm\n",
       "    // object with the appropriate methods. Currently this is a non binary\n",
       "    // socket, so there is still some room for performance tuning.\n",
       "    var ws = {};\n",
       "\n",
       "    ws.close = function() {\n",
       "        comm.close()\n",
       "    };\n",
       "    ws.send = function(m) {\n",
       "        //console.log('sending', m);\n",
       "        comm.send(m);\n",
       "    };\n",
       "    // Register the callback with on_msg.\n",
       "    comm.on_msg(function(msg) {\n",
       "        //console.log('receiving', msg['content']['data'], msg);\n",
       "        // Pass the mpl event to the overriden (by mpl) onmessage function.\n",
       "        ws.onmessage(msg['content']['data'])\n",
       "    });\n",
       "    return ws;\n",
       "}\n",
       "\n",
       "mpl.mpl_figure_comm = function(comm, msg) {\n",
       "    // This is the function which gets called when the mpl process\n",
       "    // starts-up an IPython Comm through the \"matplotlib\" channel.\n",
       "\n",
       "    var id = msg.content.data.id;\n",
       "    // Get hold of the div created by the display call when the Comm\n",
       "    // socket was opened in Python.\n",
       "    var element = $(\"#\" + id);\n",
       "    var ws_proxy = comm_websocket_adapter(comm)\n",
       "\n",
       "    function ondownload(figure, format) {\n",
       "        window.open(figure.imageObj.src);\n",
       "    }\n",
       "\n",
       "    var fig = new mpl.figure(id, ws_proxy,\n",
       "                           ondownload,\n",
       "                           element.get(0));\n",
       "\n",
       "    // Call onopen now - mpl needs it, as it is assuming we've passed it a real\n",
       "    // web socket which is closed, not our websocket->open comm proxy.\n",
       "    ws_proxy.onopen();\n",
       "\n",
       "    fig.parent_element = element.get(0);\n",
       "    fig.cell_info = mpl.find_output_cell(\"<div id='\" + id + \"'></div>\");\n",
       "    if (!fig.cell_info) {\n",
       "        console.error(\"Failed to find cell for figure\", id, fig);\n",
       "        return;\n",
       "    }\n",
       "\n",
       "    var output_index = fig.cell_info[2]\n",
       "    var cell = fig.cell_info[0];\n",
       "\n",
       "};\n",
       "\n",
       "mpl.figure.prototype.handle_close = function(fig, msg) {\n",
       "    fig.root.unbind('remove')\n",
       "\n",
       "    // Update the output cell to use the data from the current canvas.\n",
       "    fig.push_to_output();\n",
       "    var dataURL = fig.canvas.toDataURL();\n",
       "    // Re-enable the keyboard manager in IPython - without this line, in FF,\n",
       "    // the notebook keyboard shortcuts fail.\n",
       "    IPython.keyboard_manager.enable()\n",
       "    $(fig.parent_element).html('<img src=\"' + dataURL + '\">');\n",
       "    fig.close_ws(fig, msg);\n",
       "}\n",
       "\n",
       "mpl.figure.prototype.close_ws = function(fig, msg){\n",
       "    fig.send_message('closing', msg);\n",
       "    // fig.ws.close()\n",
       "}\n",
       "\n",
       "mpl.figure.prototype.push_to_output = function(remove_interactive) {\n",
       "    // Turn the data on the canvas into data in the output cell.\n",
       "    var dataURL = this.canvas.toDataURL();\n",
       "    this.cell_info[1]['text/html'] = '<img src=\"' + dataURL + '\">';\n",
       "}\n",
       "\n",
       "mpl.figure.prototype.updated_canvas_event = function() {\n",
       "    // Tell IPython that the notebook contents must change.\n",
       "    IPython.notebook.set_dirty(true);\n",
       "    this.send_message(\"ack\", {});\n",
       "    var fig = this;\n",
       "    // Wait a second, then push the new image to the DOM so\n",
       "    // that it is saved nicely (might be nice to debounce this).\n",
       "    setTimeout(function () { fig.push_to_output() }, 1000);\n",
       "}\n",
       "\n",
       "mpl.figure.prototype._init_toolbar = function() {\n",
       "    var fig = this;\n",
       "\n",
       "    var nav_element = $('<div/>')\n",
       "    nav_element.attr('style', 'width: 100%');\n",
       "    this.root.append(nav_element);\n",
       "\n",
       "    // Define a callback function for later on.\n",
       "    function toolbar_event(event) {\n",
       "        return fig.toolbar_button_onclick(event['data']);\n",
       "    }\n",
       "    function toolbar_mouse_event(event) {\n",
       "        return fig.toolbar_button_onmouseover(event['data']);\n",
       "    }\n",
       "\n",
       "    for(var toolbar_ind in mpl.toolbar_items){\n",
       "        var name = mpl.toolbar_items[toolbar_ind][0];\n",
       "        var tooltip = mpl.toolbar_items[toolbar_ind][1];\n",
       "        var image = mpl.toolbar_items[toolbar_ind][2];\n",
       "        var method_name = mpl.toolbar_items[toolbar_ind][3];\n",
       "\n",
       "        if (!name) { continue; };\n",
       "\n",
       "        var button = $('<button class=\"btn btn-default\" href=\"#\" title=\"' + name + '\"><i class=\"fa ' + image + ' fa-lg\"></i></button>');\n",
       "        button.click(method_name, toolbar_event);\n",
       "        button.mouseover(tooltip, toolbar_mouse_event);\n",
       "        nav_element.append(button);\n",
       "    }\n",
       "\n",
       "    // Add the status bar.\n",
       "    var status_bar = $('<span class=\"mpl-message\" style=\"text-align:right; float: right;\"/>');\n",
       "    nav_element.append(status_bar);\n",
       "    this.message = status_bar[0];\n",
       "\n",
       "    // Add the close button to the window.\n",
       "    var buttongrp = $('<div class=\"btn-group inline pull-right\"></div>');\n",
       "    var button = $('<button class=\"btn btn-mini btn-primary\" href=\"#\" title=\"Stop Interaction\"><i class=\"fa fa-power-off icon-remove icon-large\"></i></button>');\n",
       "    button.click(function (evt) { fig.handle_close(fig, {}); } );\n",
       "    button.mouseover('Stop Interaction', toolbar_mouse_event);\n",
       "    buttongrp.append(button);\n",
       "    var titlebar = this.root.find($('.ui-dialog-titlebar'));\n",
       "    titlebar.prepend(buttongrp);\n",
       "}\n",
       "\n",
       "mpl.figure.prototype._root_extra_style = function(el){\n",
       "    var fig = this\n",
       "    el.on(\"remove\", function(){\n",
       "\tfig.close_ws(fig, {});\n",
       "    });\n",
       "}\n",
       "\n",
       "mpl.figure.prototype._canvas_extra_style = function(el){\n",
       "    // this is important to make the div 'focusable\n",
       "    el.attr('tabindex', 0)\n",
       "    // reach out to IPython and tell the keyboard manager to turn it's self\n",
       "    // off when our div gets focus\n",
       "\n",
       "    // location in version 3\n",
       "    if (IPython.notebook.keyboard_manager) {\n",
       "        IPython.notebook.keyboard_manager.register_events(el);\n",
       "    }\n",
       "    else {\n",
       "        // location in version 2\n",
       "        IPython.keyboard_manager.register_events(el);\n",
       "    }\n",
       "\n",
       "}\n",
       "\n",
       "mpl.figure.prototype._key_event_extra = function(event, name) {\n",
       "    var manager = IPython.notebook.keyboard_manager;\n",
       "    if (!manager)\n",
       "        manager = IPython.keyboard_manager;\n",
       "\n",
       "    // Check for shift+enter\n",
       "    if (event.shiftKey && event.which == 13) {\n",
       "        this.canvas_div.blur();\n",
       "        // select the cell after this one\n",
       "        var index = IPython.notebook.find_cell_index(this.cell_info[0]);\n",
       "        IPython.notebook.select(index + 1);\n",
       "    }\n",
       "}\n",
       "\n",
       "mpl.figure.prototype.handle_save = function(fig, msg) {\n",
       "    fig.ondownload(fig, null);\n",
       "}\n",
       "\n",
       "\n",
       "mpl.find_output_cell = function(html_output) {\n",
       "    // Return the cell and output element which can be found *uniquely* in the notebook.\n",
       "    // Note - this is a bit hacky, but it is done because the \"notebook_saving.Notebook\"\n",
       "    // IPython event is triggered only after the cells have been serialised, which for\n",
       "    // our purposes (turning an active figure into a static one), is too late.\n",
       "    var cells = IPython.notebook.get_cells();\n",
       "    var ncells = cells.length;\n",
       "    for (var i=0; i<ncells; i++) {\n",
       "        var cell = cells[i];\n",
       "        if (cell.cell_type === 'code'){\n",
       "            for (var j=0; j<cell.output_area.outputs.length; j++) {\n",
       "                var data = cell.output_area.outputs[j];\n",
       "                if (data.data) {\n",
       "                    // IPython >= 3 moved mimebundle to data attribute of output\n",
       "                    data = data.data;\n",
       "                }\n",
       "                if (data['text/html'] == html_output) {\n",
       "                    return [cell, data, j];\n",
       "                }\n",
       "            }\n",
       "        }\n",
       "    }\n",
       "}\n",
       "\n",
       "// Register the function which deals with the matplotlib target/channel.\n",
       "// The kernel may be null if the page has been refreshed.\n",
       "if (IPython.notebook.kernel != null) {\n",
       "    IPython.notebook.kernel.comm_manager.register_target('matplotlib', mpl.mpl_figure_comm);\n",
       "}\n"
      ],
      "text/plain": [
       "<IPython.core.display.Javascript object>"
      ]
     },
     "metadata": {},
     "output_type": "display_data"
    },
    {
     "data": {
      "text/html": [
       "<img src=\"data:image/png;base64,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\">"
      ],
      "text/plain": [
       "<IPython.core.display.HTML object>"
      ]
     },
     "metadata": {},
     "output_type": "display_data"
    },
    {
     "data": {
      "text/plain": [
       "[<matplotlib.lines.Line2D at 0x11dde1a20>]"
      ]
     },
     "execution_count": 72,
     "metadata": {},
     "output_type": "execute_result"
    }
   ],
   "source": [
    "%matplotlib notebook\n",
    "plt.step(np.arange(len(d.counts)),d.counts)"
   ]
  },
  {
   "cell_type": "code",
   "execution_count": null,
   "metadata": {
    "collapsed": false,
    "run_control": {
     "frozen": false,
     "read_only": false
    }
   },
   "outputs": [],
   "source": [
    "sum(bins)"
   ]
  },
  {
   "cell_type": "code",
   "execution_count": null,
   "metadata": {
    "collapsed": false,
    "run_control": {
     "frozen": false,
     "read_only": false
    }
   },
   "outputs": [],
   "source": [
    "sum(d.counts)"
   ]
  },
  {
   "cell_type": "code",
   "execution_count": null,
   "metadata": {
    "collapsed": false,
    "run_control": {
     "frozen": false,
     "read_only": false
    }
   },
   "outputs": [],
   "source": [
    "2**14+2000"
   ]
  },
  {
   "cell_type": "code",
   "execution_count": null,
   "metadata": {
    "collapsed": false,
    "run_control": {
     "frozen": false,
     "read_only": false
    }
   },
   "outputs": [],
   "source": [
    "es[3][2]['timestamp']-es[0][2]['timestamp']"
   ]
  },
  {
   "cell_type": "code",
   "execution_count": null,
   "metadata": {
    "collapsed": true,
    "run_control": {
     "frozen": false,
     "read_only": false
    }
   },
   "outputs": [],
   "source": [
    "def xings(s, thresh):\n",
    "    pos=s > thresh\n",
    "    neg=s < thresh\n",
    "    pos0=s >= thresh\n",
    "    neg0=s <= thresh\n",
    "    pos_xing_mask = np.bitwise_and(pos0[1:],neg[0:-1])  \n",
    "    neg_xing_mask = np.bitwise_and(neg0[1:],pos[0:-1])  \n",
    "    return pos_xing_mask.nonzero()[0]+1, neg_xing_mask.nonzero()[0]+1"
   ]
  },
  {
   "cell_type": "code",
   "execution_count": null,
   "metadata": {
    "collapsed": true,
    "run_control": {
     "frozen": false,
     "read_only": false
    }
   },
   "outputs": [],
   "source": [
    "from mpl_toolkits.axes_grid1 import host_subplot\n",
    "\n",
    "def plot_trace(traces,start,width):\n",
    "\n",
    "    ax = host_subplot(111)\n",
    "    axr = ax.twinx()\n",
    "    axt = ax.twiny()\n",
    "#ax.plot(t[0:-1:10],s[0:-1:10],'k')\n",
    "#ax.plot(t,s,'k')\n",
    "    axt.set_xlabel('Time ns',fontsize=18)\n",
    "    ax.set_ylabel('Voltage (Arbitary Units)',fontsize=18)\n",
    "#plt.xticks(visible=False)\n",
    "#plt.yticks(visible=False)\n",
    "#ax.set_xlim(0,t[4000000])\n",
    "#start=902000\n",
    "#width=2500\n",
    "    f=traces['filtered'][start:start+width]\n",
    "    s=traces['slope'][start:start+width]\n",
    "    t=np.arange(len(f))*4e-9\n",
    "#ts=t[pstart:pstop]\n",
    "#axins = fig.add_axes([.4, .45, .45, .4])\n",
    "    ax.set_xlim(t[0],t[-1])\n",
    "    axt.set_xlim(t[0],t[-1])\n",
    "\n",
    "    ylim=(-500,2000)\n",
    "\n",
    "    ax.set_ylim(ylim[0],ylim[1])\n",
    "    axr.set_ylim(ylim[0],ylim[1])\n",
    "\n",
    "    filtered, = ax.step(t,f,'k',lw=2,label='filtered')\n",
    "    slope, = ax.step(t,s,'b',label='slope')\n",
    "    ax.fill_between(t,0,s,alpha=.4)\n",
    "    plt.ylim=ylim\n",
    "\n",
    "pos=s>0\n",
    "neg=s<=0\n",
    "pos_xing_mask = np.bitwise_and(pos[1:-1],neg[0:-2])  \n",
    "neg_xing_mask = np.bitwise_and(neg[1:-1],pos[0:-2])  \n",
    "pos_xing=pos_xing_mask.nonzero()\n",
    "neg_xing=neg_xing_mask.nonzero()\n",
    "\n",
    "rx=[t[pos_xing[0][0]], t[neg_xing[0][0]]]\n",
    "ry=[f[pos_xing[0][0]], f[neg_xing[0][0]]]\n",
    "\n",
    "ax.fill_between(t[pos_xing[0][0]:neg_xing[0][0]],0,s[pos_xing[0][0]:neg_xing[0][0]],alpha=.4,color='r')\n",
    "\n",
    "#plt.plot(rx,[ry[0], ry[0]],'-r',lw=2)\n",
    "#plt.plot([rx[1],rx[1]], ry,'-r',lw=2)\n",
    "# thresholds\n",
    "sthresh = 600\n",
    "pthresh = 1000\n",
    "plt.plot([t[0], t[-1]], [sthresh, sthresh], '--b', lw=2)\n",
    "plt.plot([t[0], t[-1]], [pthresh, pthresh], '--k', lw=2)\n",
    "\n",
    "sthresh_xing=(s>sthresh).nonzero()[0][0]\n",
    "pthresh_xing=(f>pthresh).nonzero()[0][0]\n",
    "\n",
    "\n",
    "cf=.10\n",
    "height = ry[1]-ry[0]\n",
    "cfl=ry[0]+(height*cf)\n",
    "cfh=ry[1]-(height*cf)\n",
    "\n",
    "cfl_xing=(f>cfl).nonzero()[0][0]\n",
    "cfd_low=f[cfl_xing]\n",
    "cfh_xing=(f>cfh).nonzero()[0][0]\n",
    "cfd_high=f[cfh_xing]\n",
    "\n",
    "#plt.plot([t[cfl_xing], t[-1]],[cfd_low, cfd_low], ':r')\n",
    "#plt.plot([t[cfh_xing], t[-1]],[cfd_high, cfd_high], ':r')\n",
    "#plt.plot([x[1], t[-1]],[y[1], y[1]], ':r')\n",
    "plt.legend([filtered, slope],['Signal', 'Slope'],loc=2)\n",
    "\n",
    "#axr = ax.twinx()\n",
    "##################################################################\n",
    "#yticks=([ry[0],sthresh,pthresh,cfd_high,ry[1]])\n",
    "yticks=([sthresh,pthresh])\n",
    "axr.set_yticks(yticks)\n",
    "#yticklabels=['Start','Slope threshold','Pulse threshold','CF high','Peak']\n",
    "yticklabels=['Slope threshold','Pulse threshold']\n",
    "axr.set_yticklabels(yticklabels, color='r',fontsize=14)\n",
    "axr.get_yticklabels()[0].set_color('b')\n",
    "axr.get_yticklabels()[1].set_color('k')\n",
    "\n",
    "#xticks=([rx[0],t[cfl_xing],t[sthresh_xing],t[pthresh_xing],rx[1]])\n",
    "xticks=(t[cfl_xing],rx[1])\n",
    "#ax.set_xticks([rx[0],t[cfl_xing],t[sthresh_xing],t[pthresh_xing],rx[1]])\n",
    "ax.set_xticks(xticks)\n",
    "#xticklabels=['Start','CF low','Slope xing','Signal xing','Peak']\n",
    "xticklabels=['CF low','Peak']\n",
    "ax.set_xticklabels(xticklabels, color='r',fontsize=14)\n",
    "\n",
    "#plt.plot([t[cfh_xing], t[-1]],[cfd_high, cfd_high], ':r')\n",
    "#horoz start, stop lines\n",
    "#hpeak=ax.plot([xticks[1], t[-1]],[yticks[-1], yticks[-1]], '-.r')\n",
    "#hstart=ax.plot([xticks[0], t[-1]],[yticks[0], yticks[0]], '-.r')\n",
    "#vert start stop\n",
    "vstart=ax.plot([xticks[0], xticks[0]],[cfd_low, ylim[0]], '-.r')\n",
    "vpeak=ax.plot([xticks[1], xticks[1]],[ylim[0], ry[1]], '-.r')\n",
    "\n",
    "plt.tight_layout()\n",
    "plt.savefig('..//peakextraction7.svg')\n",
    "plt.show()\n",
    "print('risetime:',(xticks[1]-xticks[0])/4)\n",
    "print('height:',yticks[-1]-yticks[0])\n",
    "print('time:',(xticks[0]-rx[0])/4)\n",
    "print('area',sum(s[pos_xing[0][0]:neg_xing[0][0]])/256)\n"
   ]
  },
  {
   "cell_type": "code",
   "execution_count": null,
   "metadata": {
    "collapsed": true,
    "run_control": {
     "frozen": false,
     "read_only": false
    }
   },
   "outputs": [],
   "source": [
    "slope_0xings = xings(traces['slope'],0)"
   ]
  },
  {
   "cell_type": "code",
   "execution_count": null,
   "metadata": {
    "collapsed": false,
    "run_control": {
     "frozen": false,
     "read_only": false
    }
   },
   "outputs": [],
   "source": [
    "slope_0xings"
   ]
  },
  {
   "cell_type": "code",
   "execution_count": null,
   "metadata": {
    "collapsed": false,
    "run_control": {
     "frozen": false,
     "read_only": false
    }
   },
   "outputs": [],
   "source": [
    "%matplotlib notebook\n",
    "start=10000\n",
    "width=300\n",
    "plt.plot(traces['filtered'][start:start+width]/2)"
   ]
  },
  {
   "cell_type": "code",
   "execution_count": null,
   "metadata": {
    "collapsed": false,
    "run_control": {
     "frozen": false,
     "read_only": false
    }
   },
   "outputs": [],
   "source": [
    "%matplotlib notebook\n",
    "plt.plot(traces['slope'][20400:21700])"
   ]
  },
  {
   "cell_type": "code",
   "execution_count": null,
   "metadata": {
    "collapsed": false,
    "run_control": {
     "frozen": false,
     "read_only": false
    }
   },
   "outputs": [],
   "source": [
    "filtered=traces['filtered'][1100:]\n",
    "filteredL=traces['filteredL'][1100:]"
   ]
  },
  {
   "cell_type": "code",
   "execution_count": null,
   "metadata": {
    "collapsed": false,
    "run_control": {
     "frozen": false,
     "read_only": false
    }
   },
   "outputs": [],
   "source": [
    "filtered[:10]"
   ]
  },
  {
   "cell_type": "code",
   "execution_count": null,
   "metadata": {
    "collapsed": false,
    "run_control": {
     "frozen": false,
     "read_only": false
    }
   },
   "outputs": [],
   "source": [
    "filteredL[:10]/4"
   ]
  },
  {
   "cell_type": "code",
   "execution_count": null,
   "metadata": {
    "collapsed": false,
    "run_control": {
     "frozen": false,
     "read_only": false
    }
   },
   "outputs": [],
   "source": [
    "minmax_dt=np.dtype([('filtered','i4'),('low','i4'),('high','i4'),('clk','i4')])\n",
    "minmax=Data.fromfile('minmax',minmax_dt,'teslib','measurement_subsystem_TB',tool='vivado')\n",
    "fxing_dt=np.dtype([('extrema','i4'),('area','i4'),('clk','i4')])\n",
    "fxing=Data.fromfile('filteredxing',fxing_dt,'teslib','measurement_subsystem_TB',tool='vivado')"
   ]
  },
  {
   "cell_type": "code",
   "execution_count": null,
   "metadata": {
    "collapsed": false,
    "run_control": {
     "frozen": false,
     "read_only": false
    }
   },
   "outputs": [],
   "source": [
    "minmax"
   ]
  },
  {
   "cell_type": "code",
   "execution_count": null,
   "metadata": {
    "collapsed": false,
    "run_control": {
     "frozen": false,
     "read_only": false
    }
   },
   "outputs": [],
   "source": [
    "fxing"
   ]
  },
  {
   "cell_type": "code",
   "execution_count": null,
   "metadata": {
    "collapsed": false,
    "run_control": {
     "frozen": false,
     "read_only": false
    }
   },
   "outputs": [],
   "source": [
    "np.where(fxing['area']==0)"
   ]
  },
  {
   "cell_type": "code",
   "execution_count": null,
   "metadata": {
    "collapsed": false,
    "run_control": {
     "frozen": false,
     "read_only": false
    }
   },
   "outputs": [],
   "source": [
    "np.where(fxing['extrema']==0)"
   ]
  },
  {
   "cell_type": "code",
   "execution_count": null,
   "metadata": {
    "collapsed": false,
    "run_control": {
     "frozen": false,
     "read_only": false
    }
   },
   "outputs": [],
   "source": [
    "fxing[30]"
   ]
  },
  {
   "cell_type": "code",
   "execution_count": null,
   "metadata": {
    "collapsed": false,
    "run_control": {
     "frozen": false,
     "read_only": false
    }
   },
   "outputs": [],
   "source": [
    "exn=np.where(fxing['extrema']<0)\n",
    "clkn=np.where(fxing['clk']>0)"
   ]
  },
  {
   "cell_type": "code",
   "execution_count": null,
   "metadata": {
    "collapsed": true,
    "run_control": {
     "frozen": false,
     "read_only": false
    }
   },
   "outputs": [],
   "source": []
  },
  {
   "cell_type": "code",
   "execution_count": null,
   "metadata": {
    "collapsed": false,
    "run_control": {
     "frozen": false,
     "read_only": false
    }
   },
   "outputs": [],
   "source": [
    "fxing[374]"
   ]
  },
  {
   "cell_type": "code",
   "execution_count": null,
   "metadata": {
    "collapsed": false,
    "run_control": {
     "frozen": false,
     "read_only": false
    }
   },
   "outputs": [],
   "source": [
    "clkn"
   ]
  },
  {
   "cell_type": "code",
   "execution_count": null,
   "metadata": {
    "collapsed": false,
    "run_control": {
     "frozen": false,
     "read_only": false
    }
   },
   "outputs": [],
   "source": [
    "np.where(minmax[maxs[0]-1]['min']!=1)"
   ]
  },
  {
   "cell_type": "code",
   "execution_count": null,
   "metadata": {
    "collapsed": false,
    "run_control": {
     "frozen": false,
     "read_only": false
    }
   },
   "outputs": [],
   "source": [
    "minmax[maxs[0]-1][65]"
   ]
  },
  {
   "cell_type": "code",
   "execution_count": null,
   "metadata": {
    "collapsed": false,
    "run_control": {
     "frozen": false,
     "read_only": false
    }
   },
   "outputs": [],
   "source": [
    "2290-925"
   ]
  },
  {
   "cell_type": "code",
   "execution_count": null,
   "metadata": {
    "collapsed": false,
    "run_control": {
     "frozen": false,
     "read_only": false
    }
   },
   "outputs": [],
   "source": [
    "0.375*4"
   ]
  },
  {
   "cell_type": "code",
   "execution_count": null,
   "metadata": {
    "collapsed": false,
    "run_control": {
     "frozen": false,
     "read_only": false
    }
   },
   "outputs": [],
   "source": [
    "np.where(minmax['clock']==2290)"
   ]
  },
  {
   "cell_type": "code",
   "execution_count": null,
   "metadata": {
    "collapsed": false,
    "run_control": {
     "frozen": false,
     "read_only": false
    }
   },
   "outputs": [],
   "source": [
    "minmax[120:140]"
   ]
  },
  {
   "cell_type": "code",
   "execution_count": null,
   "metadata": {
    "collapsed": false,
    "run_control": {
     "frozen": false,
     "read_only": false
    }
   },
   "outputs": [],
   "source": [
    "stream_dt=np.dtype([('data','>i4'),('last','i4')])\n",
    "#stream=np.fromfile('data/stream',stream_dt)"
   ]
  },
  {
   "cell_type": "markdown",
   "metadata": {},
   "source": [
    "### bytestream stuff"
   ]
  },
  {
   "cell_type": "code",
   "execution_count": null,
   "metadata": {
    "collapsed": false,
    "run_control": {
     "frozen": false,
     "read_only": false
    }
   },
   "outputs": [],
   "source": [
    "stream_dt=np.dtype([('data','i4'),('last','i4')])\n",
    "stream=Data.fromfile('bytestream',stream_dt,'teslib','measurement_subsystem_TB',tool='vivado')\n",
    "lasts=np.where(stream['last']<=0)[0]+1\n",
    "#data=np.copy(stream['data'])"
   ]
  },
  {
   "cell_type": "code",
   "execution_count": null,
   "metadata": {
    "collapsed": false,
    "run_control": {
     "frozen": false,
     "read_only": false
    }
   },
   "outputs": [],
   "source": [
    "stream"
   ]
  },
  {
   "cell_type": "code",
   "execution_count": null,
   "metadata": {
    "collapsed": true,
    "run_control": {
     "frozen": false,
     "read_only": false
    }
   },
   "outputs": [],
   "source": []
  },
  {
   "cell_type": "code",
   "execution_count": null,
   "metadata": {
    "collapsed": true,
    "run_control": {
     "frozen": false,
     "read_only": false
    }
   },
   "outputs": [],
   "source": [
    "stream=np.fromfile('data/bytestream',stream_dt)"
   ]
  },
  {
   "cell_type": "code",
   "execution_count": null,
   "metadata": {
    "collapsed": false,
    "run_control": {
     "frozen": false,
     "read_only": false
    }
   },
   "outputs": [],
   "source": [
    "bs=PacketStream(stream)"
   ]
  },
  {
   "cell_type": "code",
   "execution_count": null,
   "metadata": {
    "collapsed": false,
    "run_control": {
     "frozen": false,
     "read_only": false
    }
   },
   "outputs": [],
   "source": [
    "bs.packets"
   ]
  },
  {
   "cell_type": "code",
   "execution_count": null,
   "metadata": {
    "collapsed": false,
    "run_control": {
     "frozen": false,
     "read_only": false
    }
   },
   "outputs": [],
   "source": [
    "bs.packets[4]"
   ]
  },
  {
   "cell_type": "code",
   "execution_count": null,
   "metadata": {
    "collapsed": true,
    "run_control": {
     "frozen": false,
     "read_only": false
    }
   },
   "outputs": [],
   "source": [
    "eheader_dt=[('etype','<u2'),('length','u2'),()]"
   ]
  },
  {
   "cell_type": "code",
   "execution_count": null,
   "metadata": {
    "collapsed": false,
    "run_control": {
     "frozen": false,
     "read_only": false
    }
   },
   "outputs": [],
   "source": [
    "'{:X}'.format(bs.packets[1].bytes[23])\n"
   ]
  },
  {
   "cell_type": "code",
   "execution_count": null,
   "metadata": {
    "collapsed": false,
    "run_control": {
     "frozen": false,
     "read_only": false
    }
   },
   "outputs": [],
   "source": [
    "'{:X}'.format(bs.packets[0].bytes[28:30].view(np.uint16)[0])"
   ]
  },
  {
   "cell_type": "code",
   "execution_count": null,
   "metadata": {
    "collapsed": true,
    "run_control": {
     "frozen": false,
     "read_only": false
    }
   },
   "outputs": [],
   "source": [
    "pulse_peak_dt=np.dtype([('height','i2'),('rise','i2'),('minima','u2'),('time','i2')])\n",
    "pulse_dt=np.dtype([('size','i2'),('resv','i2'),('flags','i2'),('time','u2'),\n",
    "                  ('area','i4'),('length','i2'),('offset','i2'),('peaks',(pulse_peak_dt,2))])"
   ]
  },
  {
   "cell_type": "code",
   "execution_count": null,
   "metadata": {
    "collapsed": false,
    "run_control": {
     "frozen": false,
     "read_only": false
    }
   },
   "outputs": [],
   "source": [
    "pulses=bs.packets[3].payload.view(pulse_dt)"
   ]
  },
  {
   "cell_type": "code",
   "execution_count": null,
   "metadata": {
    "collapsed": false,
    "run_control": {
     "frozen": false,
     "read_only": false
    }
   },
   "outputs": [],
   "source": [
    "pulses['peaks']"
   ]
  },
  {
   "cell_type": "code",
   "execution_count": null,
   "metadata": {
    "collapsed": false,
    "run_control": {
     "frozen": false,
     "read_only": false
    }
   },
   "outputs": [],
   "source": [
    "pulses['offset']"
   ]
  },
  {
   "cell_type": "code",
   "execution_count": null,
   "metadata": {
    "collapsed": false,
    "run_control": {
     "frozen": false,
     "read_only": false
    }
   },
   "outputs": [],
   "source": [
    "pulses['length']"
   ]
  },
  {
   "cell_type": "code",
   "execution_count": null,
   "metadata": {
    "collapsed": false,
    "run_control": {
     "frozen": false,
     "read_only": false
    }
   },
   "outputs": [],
   "source": [
    "class eflags:\n",
    "    def __init__(self,uint16):\n",
    "        self.new_window=np.bitwise_and(uint16,0x00000001)!=0\n",
    "        self.tick=np.bitwise_and(uint16,0x00000002)!=0\n",
    "        self.type=np.right_shift(np.bitwise_and(uint16,0x0000000c),2)\n",
    "        \n",
    "    def __repr__(self):\n",
    "        return 'New window:{:}\\n'.format(self.new_window) + \\\n",
    "               'Tick:{:}\\n'.format(self.tick) + \\\n",
    "               'Type:{:}\\n'.format(self.type) "
   ]
  },
  {
   "cell_type": "code",
   "execution_count": null,
   "metadata": {
    "collapsed": false,
    "run_control": {
     "frozen": false,
     "read_only": false
    }
   },
   "outputs": [],
   "source": [
    "f=eflags(pulses[0]['flags'])\n",
    "f"
   ]
  },
  {
   "cell_type": "code",
   "execution_count": null,
   "metadata": {
    "collapsed": false,
    "run_control": {
     "frozen": false,
     "read_only": false
    }
   },
   "outputs": [],
   "source": [
    "'{:X}'.format(bs.packets[3].bytes[13:14].view(np.uint16))"
   ]
  },
  {
   "cell_type": "code",
   "execution_count": null,
   "metadata": {
    "collapsed": true,
    "run_control": {
     "frozen": false,
     "read_only": false
    }
   },
   "outputs": [],
   "source": []
  },
  {
   "cell_type": "code",
   "execution_count": null,
   "metadata": {
    "collapsed": false,
    "run_control": {
     "frozen": false,
     "read_only": false
    }
   },
   "outputs": [],
   "source": [
    "'{:X}'.format(bs.packets[3].bytes[14:16].view(np.uint16)[0])"
   ]
  },
  {
   "cell_type": "code",
   "execution_count": null,
   "metadata": {
    "collapsed": false,
    "run_control": {
     "frozen": false,
     "read_only": false
    }
   },
   "outputs": [],
   "source": [
    "bs.packets[3].bytes[14:16].view(np.uint16)[0]"
   ]
  },
  {
   "cell_type": "code",
   "execution_count": null,
   "metadata": {
    "collapsed": false,
    "run_control": {
     "frozen": false,
     "read_only": false
    }
   },
   "outputs": [],
   "source": [
    "bs=np.uint8(stream['data'][:48])"
   ]
  },
  {
   "cell_type": "code",
   "execution_count": null,
   "metadata": {
    "collapsed": false,
    "run_control": {
     "frozen": false,
     "read_only": false
    }
   },
   "outputs": [],
   "source": [
    "bs"
   ]
  },
  {
   "cell_type": "code",
   "execution_count": null,
   "metadata": {
    "collapsed": false,
    "run_control": {
     "frozen": false,
     "read_only": false
    }
   },
   "outputs": [],
   "source": [
    "events=stream['data'].view(event_dt)"
   ]
  },
  {
   "cell_type": "code",
   "execution_count": null,
   "metadata": {
    "collapsed": false,
    "run_control": {
     "frozen": false,
     "read_only": false
    }
   },
   "outputs": [],
   "source": [
    "'{:X}'.format(events['flags'][0])"
   ]
  },
  {
   "cell_type": "code",
   "execution_count": null,
   "metadata": {
    "collapsed": false,
    "run_control": {
     "frozen": false,
     "read_only": false
    }
   },
   "outputs": [],
   "source": [
    "events['rise']"
   ]
  },
  {
   "cell_type": "code",
   "execution_count": null,
   "metadata": {
    "collapsed": false,
    "run_control": {
     "frozen": false,
     "read_only": false
    }
   },
   "outputs": [],
   "source": [
    "events"
   ]
  },
  {
   "cell_type": "code",
   "execution_count": null,
   "metadata": {
    "collapsed": false,
    "run_control": {
     "frozen": false,
     "read_only": false
    }
   },
   "outputs": [],
   "source": [
    "'{:04X}'.format(events['flags'][1])"
   ]
  },
  {
   "cell_type": "code",
   "execution_count": null,
   "metadata": {
    "collapsed": true,
    "run_control": {
     "frozen": false,
     "read_only": false
    }
   },
   "outputs": [],
   "source": [
    "pulse_peak_dt=np.dtype([('time','>i2'),('minima','>i2'),('rise','>u2'),('height','>i2')])\n",
    "pulse_dt=np.dtype([('time','>i2'),('flags','>i2'),('resv','>i2'),('size','>u2'),\n",
    "                  ('offset','>i2'),('length','>i2'),('area','>i4'),('peaks',(pulse_peak_dt,1))])\n",
    "data=np.copy(stream['data'])"
   ]
  },
  {
   "cell_type": "code",
   "execution_count": null,
   "metadata": {
    "collapsed": false,
    "run_control": {
     "frozen": false,
     "read_only": false
    }
   },
   "outputs": [],
   "source": [
    "pulses=data.view(pulse_dt)"
   ]
  },
  {
   "cell_type": "code",
   "execution_count": null,
   "metadata": {
    "collapsed": false,
    "run_control": {
     "frozen": false,
     "read_only": false
    }
   },
   "outputs": [],
   "source": [
    "pulses['peaks']['height']-pulses['peaks']['minima']"
   ]
  },
  {
   "cell_type": "code",
   "execution_count": null,
   "metadata": {
    "collapsed": false,
    "run_control": {
     "frozen": false,
     "read_only": false
    }
   },
   "outputs": [],
   "source": [
    "pulses['peaks']['minima']"
   ]
  },
  {
   "cell_type": "code",
   "execution_count": null,
   "metadata": {
    "collapsed": false,
    "run_control": {
     "frozen": false,
     "read_only": false
    }
   },
   "outputs": [],
   "source": [
    "peak_count=np.right_shift(np.bitwise_and(pulses['flags'],0xF000),12)\n",
    "peak_overflow=np.bitwise_and(pulses['flags'],0x0800)!=0\n",
    "channel=np.right_shift(np.bitwise_and(pulses['flags'],0x0700),8)\n",
    "timing_type=np.right_shift(np.bitwise_and(pulses['flags'],0x00C0),6)\n",
    "height_type=np.right_shift(np.bitwise_and(pulses['flags'],0x0030),4)\n",
    "event_type=np.right_shift(np.bitwise_and(pulses['flags'],0x000E),1)\n",
    "new_window=np.bitwise_and(pulses['flags'],0x0001)!=0"
   ]
  },
  {
   "cell_type": "code",
   "execution_count": null,
   "metadata": {
    "collapsed": false,
    "run_control": {
     "frozen": false,
     "read_only": false
    }
   },
   "outputs": [],
   "source": [
    "peak_overflow"
   ]
  },
  {
   "cell_type": "code",
   "execution_count": null,
   "metadata": {
    "collapsed": true,
    "run_control": {
     "frozen": false,
     "read_only": false
    }
   },
   "outputs": [],
   "source": [
    "test_dt=np.dtype(\n",
    "    [('time','i2'),('flags','i2'),('rise','u2'),('minima','i2'),('low','u8'),('high','u8')]\n",
    ")\n",
    "test=data.view(test_dt)"
   ]
  },
  {
   "cell_type": "code",
   "execution_count": null,
   "metadata": {
    "collapsed": false,
    "run_control": {
     "frozen": false,
     "read_only": false
    }
   },
   "outputs": [],
   "source": [
    "test"
   ]
  },
  {
   "cell_type": "code",
   "execution_count": null,
   "metadata": {
    "collapsed": false,
    "run_control": {
     "frozen": false,
     "read_only": false
    }
   },
   "outputs": [],
   "source": [
    "test['minima']"
   ]
  },
  {
   "cell_type": "code",
   "execution_count": null,
   "metadata": {
    "collapsed": false,
    "run_control": {
     "frozen": false,
     "read_only": false
    }
   },
   "outputs": [],
   "source": [
    "low1=np.int32(np.right_shift(np.bitwise_and(test['low'],0x03FFFF000000000),36))\n",
    "s=(np.bitwise_and(low1,0x00020000)!=0)*0xFFFC0000\n",
    "low2=np.int32(np.right_shift(np.bitwise_and(test['low'],0x000000FFFFC0000),18))\n",
    "low_threshold=np.int32(np.bitwise_and(test['low'],0x00000000003FFFF))\n",
    "high1=np.int32(np.right_shift(np.bitwise_and(test['high'],0x03FFFF000000000),36))\n",
    "high2=np.int32(np.right_shift(np.bitwise_and(test['high'],0x000000FFFFC0000),18))\n",
    "high_threshold=np.int32(np.bitwise_and(test['high'],0x00000000003FFFF))"
   ]
  },
  {
   "cell_type": "code",
   "execution_count": null,
   "metadata": {
    "collapsed": false,
    "run_control": {
     "frozen": false,
     "read_only": false
    }
   },
   "outputs": [],
   "source": [
    "np.int32(np.bitwise_or(low1,s))/8.0"
   ]
  },
  {
   "cell_type": "code",
   "execution_count": null,
   "metadata": {
    "collapsed": false,
    "run_control": {
     "frozen": false,
     "read_only": false
    }
   },
   "outputs": [],
   "source": [
    "'{:04X}'.format(low1[0])"
   ]
  },
  {
   "cell_type": "code",
   "execution_count": null,
   "metadata": {
    "collapsed": false,
    "run_control": {
     "frozen": false,
     "read_only": false
    }
   },
   "outputs": [],
   "source": [
    "high1/8.0"
   ]
  },
  {
   "cell_type": "code",
   "execution_count": null,
   "metadata": {
    "collapsed": false,
    "run_control": {
     "frozen": false,
     "read_only": false
    }
   },
   "outputs": [],
   "source": [
    "high2/8.0"
   ]
  },
  {
   "cell_type": "code",
   "execution_count": null,
   "metadata": {
    "collapsed": false,
    "run_control": {
     "frozen": false,
     "read_only": false
    }
   },
   "outputs": [],
   "source": [
    "'{:04X}'.format(high_threshold[0])"
   ]
  },
  {
   "cell_type": "code",
   "execution_count": null,
   "metadata": {
    "collapsed": false,
    "run_control": {
     "frozen": false,
     "read_only": false
    }
   },
   "outputs": [],
   "source": [
    "from enum import Enum"
   ]
  },
  {
   "cell_type": "code",
   "execution_count": null,
   "metadata": {
    "collapsed": false,
    "run_control": {
     "frozen": false,
     "read_only": false
    }
   },
   "outputs": [],
   "source": [
    "class VhdlEnum(int, Enum):\n",
    "\n",
    "    def __str__(self):\n",
    "        return self.name.replace(\"-\", \" \")\n",
    "    \n",
    "    def select(self):\n",
    "        return pow(2, self.value)\n",
    "    "
   ]
  },
  {
   "cell_type": "code",
   "execution_count": null,
   "metadata": {
    "collapsed": false,
    "run_control": {
     "frozen": false,
     "read_only": false
    }
   },
   "outputs": [],
   "source": [
    "class Test(VhdlEnum):\n",
    "    a=0\n",
    "    b=1"
   ]
  },
  {
   "cell_type": "code",
   "execution_count": null,
   "metadata": {
    "collapsed": false,
    "run_control": {
     "frozen": false,
     "read_only": false
    }
   },
   "outputs": [],
   "source": [
    "Test(0)"
   ]
  },
  {
   "cell_type": "code",
   "execution_count": null,
   "metadata": {
    "collapsed": true,
    "run_control": {
     "frozen": false,
     "read_only": false
    }
   },
   "outputs": [],
   "source": []
  }
 ],
 "metadata": {
  "anaconda-cloud": {},
  "kernelspec": {
   "display_name": "Python 3",
   "language": "python",
   "name": "python3"
  },
  "language_info": {
   "codemirror_mode": {
    "name": "ipython",
    "version": 3
   },
   "file_extension": ".py",
   "mimetype": "text/x-python",
   "name": "python",
   "nbconvert_exporter": "python",
   "pygments_lexer": "ipython3",
   "version": "3.6.0"
  }
 },
 "nbformat": 4,
 "nbformat_minor": 1
}
