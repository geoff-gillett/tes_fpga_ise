{
 "cells": [
  {
   "cell_type": "markdown",
   "metadata": {},
   "source": [
    "timestamp 0 => clk 20\n",
    "\n",
    "traces start at clk 1"
   ]
  },
  {
   "cell_type": "code",
   "execution_count": 1,
   "metadata": {
    "collapsed": false,
    "run_control": {
     "frozen": false,
     "read_only": false
    }
   },
   "outputs": [],
   "source": [
    "from tes.data import Data,PacketStream,Packet,Payload,EventFlags,Event\n",
    "from tes.hdf5 import _PacketData, _import\n",
    "import numpy as np\n",
    "import matplotlib.pyplot as plt\n",
    "from subprocess import Popen\n",
    "\n",
    "import logging\n",
    "import sys\n",
    "logger = logging.getLogger('tes')\n",
    "logger.setLevel(logging.DEBUG)\n",
    "handler = logging.StreamHandler(sys.stderr)\n",
    "formatter = logging.Formatter('%(name)s:%(levelname)s %(message)s')\n",
    "handler.setFormatter(formatter)\n",
    "logger.handlers = [handler]\n",
    "\n",
    "trace_dt=np.dtype([('raw','i4'),('filtered','i4'),('slope','i4'),('filteredL','i4')])\n",
    "stream_dt=np.dtype([('data','i4'),('last','i4')])\n",
    "minmax_dt=np.dtype(\n",
    "    [\n",
    "        ('filtered','i4'),('timing_threshold','i4'),\n",
    "        ('height_threshold','i4'),('slope_extrema','i4'),('slope_area','i4'),('clk','i4')\n",
    "    ]\n",
    ")\n",
    "cfd_dt=np.dtype('i4')\n",
    "filteredxing_dt=np.dtype([('extrema','i4'),('area','i4'),('clk','i4')])"
   ]
  },
  {
   "cell_type": "code",
   "execution_count": null,
   "metadata": {
    "collapsed": false,
    "run_control": {
     "frozen": false,
     "read_only": false
    },
    "scrolled": false
   },
   "outputs": [],
   "source": [
    "%matplotlib notebook\n",
    "traces=Data.fromfile('traces',trace_dt,'teslib','measurement_subsystem_TB',tool='vivado')\n",
    "plt.plot(traces['slope'][1100:],'r',linewidth=1)\n",
    "plt.plot(traces['raw'][1100:],linewidth=0.5)\n",
    "plt.plot(traces['filtered'][1100:],'k',linewidth=2)"
   ]
  },
  {
   "cell_type": "code",
   "execution_count": 145,
   "metadata": {
    "collapsed": false
   },
   "outputs": [
    {
     "name": "stderr",
     "output_type": "stream",
     "text": [
      "tes.hdf5:DEBUG PacketData: from ndarray\n",
      "tes.hdf5:INFO import:pass 1: calculating sizes for hdf5 pre-allocation\n",
      "tes.hdf5:INFO import:pass 1:found 1176 bytes in 18 frames 0 sequence errors.\n",
      "tes.hdf5:DEBUG tick frames: 312 data bytes in 13 frames\n",
      "tes.hdf5:DEBUG event frames: 720 data bytes in 5 frames\n",
      "tes.hdf5:DEBUG MCA frames: 0 data bytes in 0 frames\n",
      "tes.hdf5:DEBUG unidentified frames: 0 bytes in 0 frames\n",
      "tes.hdf5:DEBUG MCA distributions:0  traces:5\n",
      "tes.hdf5:INFO import:pass 2:importing data\n"
     ]
    },
    {
     "ename": "OSError",
     "evalue": "Unable to create file (Unable to truncate a file which is already open)",
     "output_type": "error",
     "traceback": [
      "\u001b[1;31m---------------------------------------------------------------------------\u001b[0m",
      "\u001b[1;31mOSError\u001b[0m                                   Traceback (most recent call last)",
      "\u001b[1;32m<ipython-input-145-07acc2d5788c>\u001b[0m in \u001b[0;36m<module>\u001b[1;34m()\u001b[0m\n\u001b[0;32m      4\u001b[0m \u001b[0mpackets\u001b[0m\u001b[1;33m=\u001b[0m\u001b[0m_PacketData\u001b[0m\u001b[1;33m(\u001b[0m\u001b[0mstream\u001b[0m\u001b[1;33m)\u001b[0m\u001b[1;33m\u001b[0m\u001b[0m\n\u001b[0;32m      5\u001b[0m \u001b[1;32mdel\u001b[0m \u001b[0mstream\u001b[0m\u001b[1;33m\u001b[0m\u001b[0m\n\u001b[1;32m----> 6\u001b[1;33m \u001b[0m_import\u001b[0m\u001b[1;33m(\u001b[0m\u001b[0mpackets\u001b[0m\u001b[1;33m)\u001b[0m\u001b[1;33m\u001b[0m\u001b[0m\n\u001b[0m\u001b[0;32m      7\u001b[0m \u001b[0mh\u001b[0m\u001b[1;33m=\u001b[0m\u001b[0mh5py\u001b[0m\u001b[1;33m.\u001b[0m\u001b[0mFile\u001b[0m\u001b[1;33m(\u001b[0m\u001b[1;34m'TES.hdf5'\u001b[0m\u001b[1;33m,\u001b[0m\u001b[1;34m'r'\u001b[0m\u001b[1;33m)\u001b[0m\u001b[1;33m\u001b[0m\u001b[0m\n",
      "\u001b[1;32mc:\\TES_project\\interface\\python\\tes\\hdf5.py\u001b[0m in \u001b[0;36m_import\u001b[1;34m(data, hdf5_filename)\u001b[0m\n\u001b[0;32m    516\u001b[0m     )\n\u001b[0;32m    517\u001b[0m \u001b[1;33m\u001b[0m\u001b[0m\n\u001b[1;32m--> 518\u001b[1;33m     \u001b[1;32mwith\u001b[0m \u001b[0mh5py\u001b[0m\u001b[1;33m.\u001b[0m\u001b[0mFile\u001b[0m\u001b[1;33m(\u001b[0m\u001b[0mhdf5_filename\u001b[0m\u001b[1;33m,\u001b[0m \u001b[1;34m\"w\"\u001b[0m\u001b[1;33m)\u001b[0m \u001b[1;32mas\u001b[0m \u001b[0mhdf5\u001b[0m\u001b[1;33m:\u001b[0m\u001b[1;33m\u001b[0m\u001b[0m\n\u001b[0m\u001b[0;32m    519\u001b[0m \u001b[1;33m\u001b[0m\u001b[0m\n\u001b[0;32m    520\u001b[0m         \u001b[1;31m# allocation\u001b[0m\u001b[1;33m\u001b[0m\u001b[1;33m\u001b[0m\u001b[0m\n",
      "\u001b[1;32mC:\\Miniconda3\\lib\\site-packages\\h5py\\_hl\\files.py\u001b[0m in \u001b[0;36m__init__\u001b[1;34m(self, name, mode, driver, libver, userblock_size, swmr, **kwds)\u001b[0m\n\u001b[0;32m    270\u001b[0m \u001b[1;33m\u001b[0m\u001b[0m\n\u001b[0;32m    271\u001b[0m                 \u001b[0mfapl\u001b[0m \u001b[1;33m=\u001b[0m \u001b[0mmake_fapl\u001b[0m\u001b[1;33m(\u001b[0m\u001b[0mdriver\u001b[0m\u001b[1;33m,\u001b[0m \u001b[0mlibver\u001b[0m\u001b[1;33m,\u001b[0m \u001b[1;33m**\u001b[0m\u001b[0mkwds\u001b[0m\u001b[1;33m)\u001b[0m\u001b[1;33m\u001b[0m\u001b[0m\n\u001b[1;32m--> 272\u001b[1;33m                 \u001b[0mfid\u001b[0m \u001b[1;33m=\u001b[0m \u001b[0mmake_fid\u001b[0m\u001b[1;33m(\u001b[0m\u001b[0mname\u001b[0m\u001b[1;33m,\u001b[0m \u001b[0mmode\u001b[0m\u001b[1;33m,\u001b[0m \u001b[0muserblock_size\u001b[0m\u001b[1;33m,\u001b[0m \u001b[0mfapl\u001b[0m\u001b[1;33m,\u001b[0m \u001b[0mswmr\u001b[0m\u001b[1;33m=\u001b[0m\u001b[0mswmr\u001b[0m\u001b[1;33m)\u001b[0m\u001b[1;33m\u001b[0m\u001b[0m\n\u001b[0m\u001b[0;32m    273\u001b[0m \u001b[1;33m\u001b[0m\u001b[0m\n\u001b[0;32m    274\u001b[0m                 \u001b[1;32mif\u001b[0m \u001b[0mswmr_support\u001b[0m\u001b[1;33m:\u001b[0m\u001b[1;33m\u001b[0m\u001b[0m\n",
      "\u001b[1;32mC:\\Miniconda3\\lib\\site-packages\\h5py\\_hl\\files.py\u001b[0m in \u001b[0;36mmake_fid\u001b[1;34m(name, mode, userblock_size, fapl, fcpl, swmr)\u001b[0m\n\u001b[0;32m     96\u001b[0m         \u001b[0mfid\u001b[0m \u001b[1;33m=\u001b[0m \u001b[0mh5f\u001b[0m\u001b[1;33m.\u001b[0m\u001b[0mcreate\u001b[0m\u001b[1;33m(\u001b[0m\u001b[0mname\u001b[0m\u001b[1;33m,\u001b[0m \u001b[0mh5f\u001b[0m\u001b[1;33m.\u001b[0m\u001b[0mACC_EXCL\u001b[0m\u001b[1;33m,\u001b[0m \u001b[0mfapl\u001b[0m\u001b[1;33m=\u001b[0m\u001b[0mfapl\u001b[0m\u001b[1;33m,\u001b[0m \u001b[0mfcpl\u001b[0m\u001b[1;33m=\u001b[0m\u001b[0mfcpl\u001b[0m\u001b[1;33m)\u001b[0m\u001b[1;33m\u001b[0m\u001b[0m\n\u001b[0;32m     97\u001b[0m     \u001b[1;32melif\u001b[0m \u001b[0mmode\u001b[0m \u001b[1;33m==\u001b[0m \u001b[1;34m'w'\u001b[0m\u001b[1;33m:\u001b[0m\u001b[1;33m\u001b[0m\u001b[0m\n\u001b[1;32m---> 98\u001b[1;33m         \u001b[0mfid\u001b[0m \u001b[1;33m=\u001b[0m \u001b[0mh5f\u001b[0m\u001b[1;33m.\u001b[0m\u001b[0mcreate\u001b[0m\u001b[1;33m(\u001b[0m\u001b[0mname\u001b[0m\u001b[1;33m,\u001b[0m \u001b[0mh5f\u001b[0m\u001b[1;33m.\u001b[0m\u001b[0mACC_TRUNC\u001b[0m\u001b[1;33m,\u001b[0m \u001b[0mfapl\u001b[0m\u001b[1;33m=\u001b[0m\u001b[0mfapl\u001b[0m\u001b[1;33m,\u001b[0m \u001b[0mfcpl\u001b[0m\u001b[1;33m=\u001b[0m\u001b[0mfcpl\u001b[0m\u001b[1;33m)\u001b[0m\u001b[1;33m\u001b[0m\u001b[0m\n\u001b[0m\u001b[0;32m     99\u001b[0m     \u001b[1;32melif\u001b[0m \u001b[0mmode\u001b[0m \u001b[1;33m==\u001b[0m \u001b[1;34m'a'\u001b[0m\u001b[1;33m:\u001b[0m\u001b[1;33m\u001b[0m\u001b[0m\n\u001b[0;32m    100\u001b[0m         \u001b[1;31m# Open in append mode (read/write).\u001b[0m\u001b[1;33m\u001b[0m\u001b[1;33m\u001b[0m\u001b[0m\n",
      "\u001b[1;32mh5py\\_objects.pyx\u001b[0m in \u001b[0;36mh5py._objects.with_phil.wrapper (C:\\Minonda\\conda-bld\\h5py_1486484495516\\work\\h5py\\_objects.c:2866)\u001b[1;34m()\u001b[0m\n",
      "\u001b[1;32mh5py\\_objects.pyx\u001b[0m in \u001b[0;36mh5py._objects.with_phil.wrapper (C:\\Minonda\\conda-bld\\h5py_1486484495516\\work\\h5py\\_objects.c:2824)\u001b[1;34m()\u001b[0m\n",
      "\u001b[1;32mh5py\\h5f.pyx\u001b[0m in \u001b[0;36mh5py.h5f.create (C:\\Minonda\\conda-bld\\h5py_1486484495516\\work\\h5py\\h5f.c:2279)\u001b[1;34m()\u001b[0m\n",
      "\u001b[1;31mOSError\u001b[0m: Unable to create file (Unable to truncate a file which is already open)"
     ]
    }
   ],
   "source": [
    "import h5py\n",
    "from tes.hdf5 import Trace\n",
    "stream=Data.fromfile('bytestream',stream_dt,'teslib','measurement_subsystem_TB',tool='vivado')\n",
    "packets=_PacketData(stream)\n",
    "del stream\n",
    "_import(packets)\n",
    "h=h5py.File('TES.hdf5','r')"
   ]
  },
  {
   "cell_type": "code",
   "execution_count": 175,
   "metadata": {
    "collapsed": false
   },
   "outputs": [
    {
     "name": "stderr",
     "output_type": "stream",
     "text": [
      "tes.hdf5:DEBUG PacketData: from ndarray\n",
      "tes.hdf5:INFO import:pass 1: calculating sizes for hdf5 pre-allocation\n",
      "tes.hdf5:INFO import:pass 1:found 4720 bytes in 55 frames 0 sequence errors.\n",
      "tes.hdf5:DEBUG tick frames: 312 data bytes in 13 frames\n",
      "tes.hdf5:DEBUG event frames: 3968 data bytes in 42 frames\n",
      "tes.hdf5:DEBUG MCA frames: 0 data bytes in 0 frames\n",
      "tes.hdf5:DEBUG unidentified frames: 0 bytes in 0 frames\n",
      "tes.hdf5:DEBUG MCA distributions:0  traces:6\n",
      "tes.hdf5:INFO import:pass 2:importing data\n"
     ]
    }
   ],
   "source": [
    "h.close()\n",
    "stream=Data.fromfile('bytestream',stream_dt,'teslib','measurement_subsystem_TB',tool='vivado')\n",
    "packets=_PacketData(stream)\n",
    "del stream\n",
    "_import(packets)\n",
    "h=h5py.File('TES.hdf5','r')"
   ]
  },
  {
   "cell_type": "code",
   "execution_count": null,
   "metadata": {
    "collapsed": false
   },
   "outputs": [],
   "source": []
  },
  {
   "cell_type": "code",
   "execution_count": null,
   "metadata": {
    "collapsed": false
   },
   "outputs": [],
   "source": [
    "len(h['traces'])"
   ]
  },
  {
   "cell_type": "code",
   "execution_count": 154,
   "metadata": {
    "collapsed": false
   },
   "outputs": [],
   "source": [
    "t=h['raw_data/event'][h['traces'][5]]"
   ]
  },
  {
   "cell_type": "code",
   "execution_count": 176,
   "metadata": {
    "collapsed": false
   },
   "outputs": [
    {
     "name": "stdout",
     "output_type": "stream",
     "text": [
      "peaks:0\n",
      "rel2min:0\n",
      "channel:0\n",
      "timing:slope_threshold\n",
      "height:cfd_high\n",
      "detection:trace \n",
      " multi_peak:False\n",
      "multi_pulse:False\n",
      "stride:0\n",
      "type:average\n",
      "signal:filtered\n",
      "offset:1\n"
     ]
    },
    {
     "data": {
      "application/javascript": [
       "/* Put everything inside the global mpl namespace */\n",
       "window.mpl = {};\n",
       "\n",
       "\n",
       "mpl.get_websocket_type = function() {\n",
       "    if (typeof(WebSocket) !== 'undefined') {\n",
       "        return WebSocket;\n",
       "    } else if (typeof(MozWebSocket) !== 'undefined') {\n",
       "        return MozWebSocket;\n",
       "    } else {\n",
       "        alert('Your browser does not have WebSocket support.' +\n",
       "              'Please try Chrome, Safari or Firefox ≥ 6. ' +\n",
       "              'Firefox 4 and 5 are also supported but you ' +\n",
       "              'have to enable WebSockets in about:config.');\n",
       "    };\n",
       "}\n",
       "\n",
       "mpl.figure = function(figure_id, websocket, ondownload, parent_element) {\n",
       "    this.id = figure_id;\n",
       "\n",
       "    this.ws = websocket;\n",
       "\n",
       "    this.supports_binary = (this.ws.binaryType != undefined);\n",
       "\n",
       "    if (!this.supports_binary) {\n",
       "        var warnings = document.getElementById(\"mpl-warnings\");\n",
       "        if (warnings) {\n",
       "            warnings.style.display = 'block';\n",
       "            warnings.textContent = (\n",
       "                \"This browser does not support binary websocket messages. \" +\n",
       "                    \"Performance may be slow.\");\n",
       "        }\n",
       "    }\n",
       "\n",
       "    this.imageObj = new Image();\n",
       "\n",
       "    this.context = undefined;\n",
       "    this.message = undefined;\n",
       "    this.canvas = undefined;\n",
       "    this.rubberband_canvas = undefined;\n",
       "    this.rubberband_context = undefined;\n",
       "    this.format_dropdown = undefined;\n",
       "\n",
       "    this.image_mode = 'full';\n",
       "\n",
       "    this.root = $('<div/>');\n",
       "    this._root_extra_style(this.root)\n",
       "    this.root.attr('style', 'display: inline-block');\n",
       "\n",
       "    $(parent_element).append(this.root);\n",
       "\n",
       "    this._init_header(this);\n",
       "    this._init_canvas(this);\n",
       "    this._init_toolbar(this);\n",
       "\n",
       "    var fig = this;\n",
       "\n",
       "    this.waiting = false;\n",
       "\n",
       "    this.ws.onopen =  function () {\n",
       "            fig.send_message(\"supports_binary\", {value: fig.supports_binary});\n",
       "            fig.send_message(\"send_image_mode\", {});\n",
       "            if (mpl.ratio != 1) {\n",
       "                fig.send_message(\"set_dpi_ratio\", {'dpi_ratio': mpl.ratio});\n",
       "            }\n",
       "            fig.send_message(\"refresh\", {});\n",
       "        }\n",
       "\n",
       "    this.imageObj.onload = function() {\n",
       "            if (fig.image_mode == 'full') {\n",
       "                // Full images could contain transparency (where diff images\n",
       "                // almost always do), so we need to clear the canvas so that\n",
       "                // there is no ghosting.\n",
       "                fig.context.clearRect(0, 0, fig.canvas.width, fig.canvas.height);\n",
       "            }\n",
       "            fig.context.drawImage(fig.imageObj, 0, 0);\n",
       "        };\n",
       "\n",
       "    this.imageObj.onunload = function() {\n",
       "        this.ws.close();\n",
       "    }\n",
       "\n",
       "    this.ws.onmessage = this._make_on_message_function(this);\n",
       "\n",
       "    this.ondownload = ondownload;\n",
       "}\n",
       "\n",
       "mpl.figure.prototype._init_header = function() {\n",
       "    var titlebar = $(\n",
       "        '<div class=\"ui-dialog-titlebar ui-widget-header ui-corner-all ' +\n",
       "        'ui-helper-clearfix\"/>');\n",
       "    var titletext = $(\n",
       "        '<div class=\"ui-dialog-title\" style=\"width: 100%; ' +\n",
       "        'text-align: center; padding: 3px;\"/>');\n",
       "    titlebar.append(titletext)\n",
       "    this.root.append(titlebar);\n",
       "    this.header = titletext[0];\n",
       "}\n",
       "\n",
       "\n",
       "\n",
       "mpl.figure.prototype._canvas_extra_style = function(canvas_div) {\n",
       "\n",
       "}\n",
       "\n",
       "\n",
       "mpl.figure.prototype._root_extra_style = function(canvas_div) {\n",
       "\n",
       "}\n",
       "\n",
       "mpl.figure.prototype._init_canvas = function() {\n",
       "    var fig = this;\n",
       "\n",
       "    var canvas_div = $('<div/>');\n",
       "\n",
       "    canvas_div.attr('style', 'position: relative; clear: both; outline: 0');\n",
       "\n",
       "    function canvas_keyboard_event(event) {\n",
       "        return fig.key_event(event, event['data']);\n",
       "    }\n",
       "\n",
       "    canvas_div.keydown('key_press', canvas_keyboard_event);\n",
       "    canvas_div.keyup('key_release', canvas_keyboard_event);\n",
       "    this.canvas_div = canvas_div\n",
       "    this._canvas_extra_style(canvas_div)\n",
       "    this.root.append(canvas_div);\n",
       "\n",
       "    var canvas = $('<canvas/>');\n",
       "    canvas.addClass('mpl-canvas');\n",
       "    canvas.attr('style', \"left: 0; top: 0; z-index: 0; outline: 0\")\n",
       "\n",
       "    this.canvas = canvas[0];\n",
       "    this.context = canvas[0].getContext(\"2d\");\n",
       "\n",
       "    var backingStore = this.context.backingStorePixelRatio ||\n",
       "\tthis.context.webkitBackingStorePixelRatio ||\n",
       "\tthis.context.mozBackingStorePixelRatio ||\n",
       "\tthis.context.msBackingStorePixelRatio ||\n",
       "\tthis.context.oBackingStorePixelRatio ||\n",
       "\tthis.context.backingStorePixelRatio || 1;\n",
       "\n",
       "    mpl.ratio = (window.devicePixelRatio || 1) / backingStore;\n",
       "\n",
       "    var rubberband = $('<canvas/>');\n",
       "    rubberband.attr('style', \"position: absolute; left: 0; top: 0; z-index: 1;\")\n",
       "\n",
       "    var pass_mouse_events = true;\n",
       "\n",
       "    canvas_div.resizable({\n",
       "        start: function(event, ui) {\n",
       "            pass_mouse_events = false;\n",
       "        },\n",
       "        resize: function(event, ui) {\n",
       "            fig.request_resize(ui.size.width, ui.size.height);\n",
       "        },\n",
       "        stop: function(event, ui) {\n",
       "            pass_mouse_events = true;\n",
       "            fig.request_resize(ui.size.width, ui.size.height);\n",
       "        },\n",
       "    });\n",
       "\n",
       "    function mouse_event_fn(event) {\n",
       "        if (pass_mouse_events)\n",
       "            return fig.mouse_event(event, event['data']);\n",
       "    }\n",
       "\n",
       "    rubberband.mousedown('button_press', mouse_event_fn);\n",
       "    rubberband.mouseup('button_release', mouse_event_fn);\n",
       "    // Throttle sequential mouse events to 1 every 20ms.\n",
       "    rubberband.mousemove('motion_notify', mouse_event_fn);\n",
       "\n",
       "    rubberband.mouseenter('figure_enter', mouse_event_fn);\n",
       "    rubberband.mouseleave('figure_leave', mouse_event_fn);\n",
       "\n",
       "    canvas_div.on(\"wheel\", function (event) {\n",
       "        event = event.originalEvent;\n",
       "        event['data'] = 'scroll'\n",
       "        if (event.deltaY < 0) {\n",
       "            event.step = 1;\n",
       "        } else {\n",
       "            event.step = -1;\n",
       "        }\n",
       "        mouse_event_fn(event);\n",
       "    });\n",
       "\n",
       "    canvas_div.append(canvas);\n",
       "    canvas_div.append(rubberband);\n",
       "\n",
       "    this.rubberband = rubberband;\n",
       "    this.rubberband_canvas = rubberband[0];\n",
       "    this.rubberband_context = rubberband[0].getContext(\"2d\");\n",
       "    this.rubberband_context.strokeStyle = \"#000000\";\n",
       "\n",
       "    this._resize_canvas = function(width, height) {\n",
       "        // Keep the size of the canvas, canvas container, and rubber band\n",
       "        // canvas in synch.\n",
       "        canvas_div.css('width', width)\n",
       "        canvas_div.css('height', height)\n",
       "\n",
       "        canvas.attr('width', width * mpl.ratio);\n",
       "        canvas.attr('height', height * mpl.ratio);\n",
       "        canvas.attr('style', 'width: ' + width + 'px; height: ' + height + 'px;');\n",
       "\n",
       "        rubberband.attr('width', width);\n",
       "        rubberband.attr('height', height);\n",
       "    }\n",
       "\n",
       "    // Set the figure to an initial 600x600px, this will subsequently be updated\n",
       "    // upon first draw.\n",
       "    this._resize_canvas(600, 600);\n",
       "\n",
       "    // Disable right mouse context menu.\n",
       "    $(this.rubberband_canvas).bind(\"contextmenu\",function(e){\n",
       "        return false;\n",
       "    });\n",
       "\n",
       "    function set_focus () {\n",
       "        canvas.focus();\n",
       "        canvas_div.focus();\n",
       "    }\n",
       "\n",
       "    window.setTimeout(set_focus, 100);\n",
       "}\n",
       "\n",
       "mpl.figure.prototype._init_toolbar = function() {\n",
       "    var fig = this;\n",
       "\n",
       "    var nav_element = $('<div/>')\n",
       "    nav_element.attr('style', 'width: 100%');\n",
       "    this.root.append(nav_element);\n",
       "\n",
       "    // Define a callback function for later on.\n",
       "    function toolbar_event(event) {\n",
       "        return fig.toolbar_button_onclick(event['data']);\n",
       "    }\n",
       "    function toolbar_mouse_event(event) {\n",
       "        return fig.toolbar_button_onmouseover(event['data']);\n",
       "    }\n",
       "\n",
       "    for(var toolbar_ind in mpl.toolbar_items) {\n",
       "        var name = mpl.toolbar_items[toolbar_ind][0];\n",
       "        var tooltip = mpl.toolbar_items[toolbar_ind][1];\n",
       "        var image = mpl.toolbar_items[toolbar_ind][2];\n",
       "        var method_name = mpl.toolbar_items[toolbar_ind][3];\n",
       "\n",
       "        if (!name) {\n",
       "            // put a spacer in here.\n",
       "            continue;\n",
       "        }\n",
       "        var button = $('<button/>');\n",
       "        button.addClass('ui-button ui-widget ui-state-default ui-corner-all ' +\n",
       "                        'ui-button-icon-only');\n",
       "        button.attr('role', 'button');\n",
       "        button.attr('aria-disabled', 'false');\n",
       "        button.click(method_name, toolbar_event);\n",
       "        button.mouseover(tooltip, toolbar_mouse_event);\n",
       "\n",
       "        var icon_img = $('<span/>');\n",
       "        icon_img.addClass('ui-button-icon-primary ui-icon');\n",
       "        icon_img.addClass(image);\n",
       "        icon_img.addClass('ui-corner-all');\n",
       "\n",
       "        var tooltip_span = $('<span/>');\n",
       "        tooltip_span.addClass('ui-button-text');\n",
       "        tooltip_span.html(tooltip);\n",
       "\n",
       "        button.append(icon_img);\n",
       "        button.append(tooltip_span);\n",
       "\n",
       "        nav_element.append(button);\n",
       "    }\n",
       "\n",
       "    var fmt_picker_span = $('<span/>');\n",
       "\n",
       "    var fmt_picker = $('<select/>');\n",
       "    fmt_picker.addClass('mpl-toolbar-option ui-widget ui-widget-content');\n",
       "    fmt_picker_span.append(fmt_picker);\n",
       "    nav_element.append(fmt_picker_span);\n",
       "    this.format_dropdown = fmt_picker[0];\n",
       "\n",
       "    for (var ind in mpl.extensions) {\n",
       "        var fmt = mpl.extensions[ind];\n",
       "        var option = $(\n",
       "            '<option/>', {selected: fmt === mpl.default_extension}).html(fmt);\n",
       "        fmt_picker.append(option)\n",
       "    }\n",
       "\n",
       "    // Add hover states to the ui-buttons\n",
       "    $( \".ui-button\" ).hover(\n",
       "        function() { $(this).addClass(\"ui-state-hover\");},\n",
       "        function() { $(this).removeClass(\"ui-state-hover\");}\n",
       "    );\n",
       "\n",
       "    var status_bar = $('<span class=\"mpl-message\"/>');\n",
       "    nav_element.append(status_bar);\n",
       "    this.message = status_bar[0];\n",
       "}\n",
       "\n",
       "mpl.figure.prototype.request_resize = function(x_pixels, y_pixels) {\n",
       "    // Request matplotlib to resize the figure. Matplotlib will then trigger a resize in the client,\n",
       "    // which will in turn request a refresh of the image.\n",
       "    this.send_message('resize', {'width': x_pixels, 'height': y_pixels});\n",
       "}\n",
       "\n",
       "mpl.figure.prototype.send_message = function(type, properties) {\n",
       "    properties['type'] = type;\n",
       "    properties['figure_id'] = this.id;\n",
       "    this.ws.send(JSON.stringify(properties));\n",
       "}\n",
       "\n",
       "mpl.figure.prototype.send_draw_message = function() {\n",
       "    if (!this.waiting) {\n",
       "        this.waiting = true;\n",
       "        this.ws.send(JSON.stringify({type: \"draw\", figure_id: this.id}));\n",
       "    }\n",
       "}\n",
       "\n",
       "\n",
       "mpl.figure.prototype.handle_save = function(fig, msg) {\n",
       "    var format_dropdown = fig.format_dropdown;\n",
       "    var format = format_dropdown.options[format_dropdown.selectedIndex].value;\n",
       "    fig.ondownload(fig, format);\n",
       "}\n",
       "\n",
       "\n",
       "mpl.figure.prototype.handle_resize = function(fig, msg) {\n",
       "    var size = msg['size'];\n",
       "    if (size[0] != fig.canvas.width || size[1] != fig.canvas.height) {\n",
       "        fig._resize_canvas(size[0], size[1]);\n",
       "        fig.send_message(\"refresh\", {});\n",
       "    };\n",
       "}\n",
       "\n",
       "mpl.figure.prototype.handle_rubberband = function(fig, msg) {\n",
       "    var x0 = msg['x0'] / mpl.ratio;\n",
       "    var y0 = (fig.canvas.height - msg['y0']) / mpl.ratio;\n",
       "    var x1 = msg['x1'] / mpl.ratio;\n",
       "    var y1 = (fig.canvas.height - msg['y1']) / mpl.ratio;\n",
       "    x0 = Math.floor(x0) + 0.5;\n",
       "    y0 = Math.floor(y0) + 0.5;\n",
       "    x1 = Math.floor(x1) + 0.5;\n",
       "    y1 = Math.floor(y1) + 0.5;\n",
       "    var min_x = Math.min(x0, x1);\n",
       "    var min_y = Math.min(y0, y1);\n",
       "    var width = Math.abs(x1 - x0);\n",
       "    var height = Math.abs(y1 - y0);\n",
       "\n",
       "    fig.rubberband_context.clearRect(\n",
       "        0, 0, fig.canvas.width, fig.canvas.height);\n",
       "\n",
       "    fig.rubberband_context.strokeRect(min_x, min_y, width, height);\n",
       "}\n",
       "\n",
       "mpl.figure.prototype.handle_figure_label = function(fig, msg) {\n",
       "    // Updates the figure title.\n",
       "    fig.header.textContent = msg['label'];\n",
       "}\n",
       "\n",
       "mpl.figure.prototype.handle_cursor = function(fig, msg) {\n",
       "    var cursor = msg['cursor'];\n",
       "    switch(cursor)\n",
       "    {\n",
       "    case 0:\n",
       "        cursor = 'pointer';\n",
       "        break;\n",
       "    case 1:\n",
       "        cursor = 'default';\n",
       "        break;\n",
       "    case 2:\n",
       "        cursor = 'crosshair';\n",
       "        break;\n",
       "    case 3:\n",
       "        cursor = 'move';\n",
       "        break;\n",
       "    }\n",
       "    fig.rubberband_canvas.style.cursor = cursor;\n",
       "}\n",
       "\n",
       "mpl.figure.prototype.handle_message = function(fig, msg) {\n",
       "    fig.message.textContent = msg['message'];\n",
       "}\n",
       "\n",
       "mpl.figure.prototype.handle_draw = function(fig, msg) {\n",
       "    // Request the server to send over a new figure.\n",
       "    fig.send_draw_message();\n",
       "}\n",
       "\n",
       "mpl.figure.prototype.handle_image_mode = function(fig, msg) {\n",
       "    fig.image_mode = msg['mode'];\n",
       "}\n",
       "\n",
       "mpl.figure.prototype.updated_canvas_event = function() {\n",
       "    // Called whenever the canvas gets updated.\n",
       "    this.send_message(\"ack\", {});\n",
       "}\n",
       "\n",
       "// A function to construct a web socket function for onmessage handling.\n",
       "// Called in the figure constructor.\n",
       "mpl.figure.prototype._make_on_message_function = function(fig) {\n",
       "    return function socket_on_message(evt) {\n",
       "        if (evt.data instanceof Blob) {\n",
       "            /* FIXME: We get \"Resource interpreted as Image but\n",
       "             * transferred with MIME type text/plain:\" errors on\n",
       "             * Chrome.  But how to set the MIME type?  It doesn't seem\n",
       "             * to be part of the websocket stream */\n",
       "            evt.data.type = \"image/png\";\n",
       "\n",
       "            /* Free the memory for the previous frames */\n",
       "            if (fig.imageObj.src) {\n",
       "                (window.URL || window.webkitURL).revokeObjectURL(\n",
       "                    fig.imageObj.src);\n",
       "            }\n",
       "\n",
       "            fig.imageObj.src = (window.URL || window.webkitURL).createObjectURL(\n",
       "                evt.data);\n",
       "            fig.updated_canvas_event();\n",
       "            fig.waiting = false;\n",
       "            return;\n",
       "        }\n",
       "        else if (typeof evt.data === 'string' && evt.data.slice(0, 21) == \"data:image/png;base64\") {\n",
       "            fig.imageObj.src = evt.data;\n",
       "            fig.updated_canvas_event();\n",
       "            fig.waiting = false;\n",
       "            return;\n",
       "        }\n",
       "\n",
       "        var msg = JSON.parse(evt.data);\n",
       "        var msg_type = msg['type'];\n",
       "\n",
       "        // Call the  \"handle_{type}\" callback, which takes\n",
       "        // the figure and JSON message as its only arguments.\n",
       "        try {\n",
       "            var callback = fig[\"handle_\" + msg_type];\n",
       "        } catch (e) {\n",
       "            console.log(\"No handler for the '\" + msg_type + \"' message type: \", msg);\n",
       "            return;\n",
       "        }\n",
       "\n",
       "        if (callback) {\n",
       "            try {\n",
       "                // console.log(\"Handling '\" + msg_type + \"' message: \", msg);\n",
       "                callback(fig, msg);\n",
       "            } catch (e) {\n",
       "                console.log(\"Exception inside the 'handler_\" + msg_type + \"' callback:\", e, e.stack, msg);\n",
       "            }\n",
       "        }\n",
       "    };\n",
       "}\n",
       "\n",
       "// from http://stackoverflow.com/questions/1114465/getting-mouse-location-in-canvas\n",
       "mpl.findpos = function(e) {\n",
       "    //this section is from http://www.quirksmode.org/js/events_properties.html\n",
       "    var targ;\n",
       "    if (!e)\n",
       "        e = window.event;\n",
       "    if (e.target)\n",
       "        targ = e.target;\n",
       "    else if (e.srcElement)\n",
       "        targ = e.srcElement;\n",
       "    if (targ.nodeType == 3) // defeat Safari bug\n",
       "        targ = targ.parentNode;\n",
       "\n",
       "    // jQuery normalizes the pageX and pageY\n",
       "    // pageX,Y are the mouse positions relative to the document\n",
       "    // offset() returns the position of the element relative to the document\n",
       "    var x = e.pageX - $(targ).offset().left;\n",
       "    var y = e.pageY - $(targ).offset().top;\n",
       "\n",
       "    return {\"x\": x, \"y\": y};\n",
       "};\n",
       "\n",
       "/*\n",
       " * return a copy of an object with only non-object keys\n",
       " * we need this to avoid circular references\n",
       " * http://stackoverflow.com/a/24161582/3208463\n",
       " */\n",
       "function simpleKeys (original) {\n",
       "  return Object.keys(original).reduce(function (obj, key) {\n",
       "    if (typeof original[key] !== 'object')\n",
       "        obj[key] = original[key]\n",
       "    return obj;\n",
       "  }, {});\n",
       "}\n",
       "\n",
       "mpl.figure.prototype.mouse_event = function(event, name) {\n",
       "    var canvas_pos = mpl.findpos(event)\n",
       "\n",
       "    if (name === 'button_press')\n",
       "    {\n",
       "        this.canvas.focus();\n",
       "        this.canvas_div.focus();\n",
       "    }\n",
       "\n",
       "    var x = canvas_pos.x * mpl.ratio;\n",
       "    var y = canvas_pos.y * mpl.ratio;\n",
       "\n",
       "    this.send_message(name, {x: x, y: y, button: event.button,\n",
       "                             step: event.step,\n",
       "                             guiEvent: simpleKeys(event)});\n",
       "\n",
       "    /* This prevents the web browser from automatically changing to\n",
       "     * the text insertion cursor when the button is pressed.  We want\n",
       "     * to control all of the cursor setting manually through the\n",
       "     * 'cursor' event from matplotlib */\n",
       "    event.preventDefault();\n",
       "    return false;\n",
       "}\n",
       "\n",
       "mpl.figure.prototype._key_event_extra = function(event, name) {\n",
       "    // Handle any extra behaviour associated with a key event\n",
       "}\n",
       "\n",
       "mpl.figure.prototype.key_event = function(event, name) {\n",
       "\n",
       "    // Prevent repeat events\n",
       "    if (name == 'key_press')\n",
       "    {\n",
       "        if (event.which === this._key)\n",
       "            return;\n",
       "        else\n",
       "            this._key = event.which;\n",
       "    }\n",
       "    if (name == 'key_release')\n",
       "        this._key = null;\n",
       "\n",
       "    var value = '';\n",
       "    if (event.ctrlKey && event.which != 17)\n",
       "        value += \"ctrl+\";\n",
       "    if (event.altKey && event.which != 18)\n",
       "        value += \"alt+\";\n",
       "    if (event.shiftKey && event.which != 16)\n",
       "        value += \"shift+\";\n",
       "\n",
       "    value += 'k';\n",
       "    value += event.which.toString();\n",
       "\n",
       "    this._key_event_extra(event, name);\n",
       "\n",
       "    this.send_message(name, {key: value,\n",
       "                             guiEvent: simpleKeys(event)});\n",
       "    return false;\n",
       "}\n",
       "\n",
       "mpl.figure.prototype.toolbar_button_onclick = function(name) {\n",
       "    if (name == 'download') {\n",
       "        this.handle_save(this, null);\n",
       "    } else {\n",
       "        this.send_message(\"toolbar_button\", {name: name});\n",
       "    }\n",
       "};\n",
       "\n",
       "mpl.figure.prototype.toolbar_button_onmouseover = function(tooltip) {\n",
       "    this.message.textContent = tooltip;\n",
       "};\n",
       "mpl.toolbar_items = [[\"Home\", \"Reset original view\", \"fa fa-home icon-home\", \"home\"], [\"Back\", \"Back to  previous view\", \"fa fa-arrow-left icon-arrow-left\", \"back\"], [\"Forward\", \"Forward to next view\", \"fa fa-arrow-right icon-arrow-right\", \"forward\"], [\"\", \"\", \"\", \"\"], [\"Pan\", \"Pan axes with left mouse, zoom with right\", \"fa fa-arrows icon-move\", \"pan\"], [\"Zoom\", \"Zoom to rectangle\", \"fa fa-square-o icon-check-empty\", \"zoom\"], [\"\", \"\", \"\", \"\"], [\"Download\", \"Download plot\", \"fa fa-floppy-o icon-save\", \"download\"]];\n",
       "\n",
       "mpl.extensions = [\"eps\", \"jpeg\", \"pdf\", \"png\", \"ps\", \"raw\", \"svg\", \"tif\"];\n",
       "\n",
       "mpl.default_extension = \"png\";var comm_websocket_adapter = function(comm) {\n",
       "    // Create a \"websocket\"-like object which calls the given IPython comm\n",
       "    // object with the appropriate methods. Currently this is a non binary\n",
       "    // socket, so there is still some room for performance tuning.\n",
       "    var ws = {};\n",
       "\n",
       "    ws.close = function() {\n",
       "        comm.close()\n",
       "    };\n",
       "    ws.send = function(m) {\n",
       "        //console.log('sending', m);\n",
       "        comm.send(m);\n",
       "    };\n",
       "    // Register the callback with on_msg.\n",
       "    comm.on_msg(function(msg) {\n",
       "        //console.log('receiving', msg['content']['data'], msg);\n",
       "        // Pass the mpl event to the overriden (by mpl) onmessage function.\n",
       "        ws.onmessage(msg['content']['data'])\n",
       "    });\n",
       "    return ws;\n",
       "}\n",
       "\n",
       "mpl.mpl_figure_comm = function(comm, msg) {\n",
       "    // This is the function which gets called when the mpl process\n",
       "    // starts-up an IPython Comm through the \"matplotlib\" channel.\n",
       "\n",
       "    var id = msg.content.data.id;\n",
       "    // Get hold of the div created by the display call when the Comm\n",
       "    // socket was opened in Python.\n",
       "    var element = $(\"#\" + id);\n",
       "    var ws_proxy = comm_websocket_adapter(comm)\n",
       "\n",
       "    function ondownload(figure, format) {\n",
       "        window.open(figure.imageObj.src);\n",
       "    }\n",
       "\n",
       "    var fig = new mpl.figure(id, ws_proxy,\n",
       "                           ondownload,\n",
       "                           element.get(0));\n",
       "\n",
       "    // Call onopen now - mpl needs it, as it is assuming we've passed it a real\n",
       "    // web socket which is closed, not our websocket->open comm proxy.\n",
       "    ws_proxy.onopen();\n",
       "\n",
       "    fig.parent_element = element.get(0);\n",
       "    fig.cell_info = mpl.find_output_cell(\"<div id='\" + id + \"'></div>\");\n",
       "    if (!fig.cell_info) {\n",
       "        console.error(\"Failed to find cell for figure\", id, fig);\n",
       "        return;\n",
       "    }\n",
       "\n",
       "    var output_index = fig.cell_info[2]\n",
       "    var cell = fig.cell_info[0];\n",
       "\n",
       "};\n",
       "\n",
       "mpl.figure.prototype.handle_close = function(fig, msg) {\n",
       "    var width = fig.canvas.width/mpl.ratio\n",
       "    fig.root.unbind('remove')\n",
       "\n",
       "    // Update the output cell to use the data from the current canvas.\n",
       "    fig.push_to_output();\n",
       "    var dataURL = fig.canvas.toDataURL();\n",
       "    // Re-enable the keyboard manager in IPython - without this line, in FF,\n",
       "    // the notebook keyboard shortcuts fail.\n",
       "    IPython.keyboard_manager.enable()\n",
       "    $(fig.parent_element).html('<img src=\"' + dataURL + '\" width=\"' + width + '\">');\n",
       "    fig.close_ws(fig, msg);\n",
       "}\n",
       "\n",
       "mpl.figure.prototype.close_ws = function(fig, msg){\n",
       "    fig.send_message('closing', msg);\n",
       "    // fig.ws.close()\n",
       "}\n",
       "\n",
       "mpl.figure.prototype.push_to_output = function(remove_interactive) {\n",
       "    // Turn the data on the canvas into data in the output cell.\n",
       "    var width = this.canvas.width/mpl.ratio\n",
       "    var dataURL = this.canvas.toDataURL();\n",
       "    this.cell_info[1]['text/html'] = '<img src=\"' + dataURL + '\" width=\"' + width + '\">';\n",
       "}\n",
       "\n",
       "mpl.figure.prototype.updated_canvas_event = function() {\n",
       "    // Tell IPython that the notebook contents must change.\n",
       "    IPython.notebook.set_dirty(true);\n",
       "    this.send_message(\"ack\", {});\n",
       "    var fig = this;\n",
       "    // Wait a second, then push the new image to the DOM so\n",
       "    // that it is saved nicely (might be nice to debounce this).\n",
       "    setTimeout(function () { fig.push_to_output() }, 1000);\n",
       "}\n",
       "\n",
       "mpl.figure.prototype._init_toolbar = function() {\n",
       "    var fig = this;\n",
       "\n",
       "    var nav_element = $('<div/>')\n",
       "    nav_element.attr('style', 'width: 100%');\n",
       "    this.root.append(nav_element);\n",
       "\n",
       "    // Define a callback function for later on.\n",
       "    function toolbar_event(event) {\n",
       "        return fig.toolbar_button_onclick(event['data']);\n",
       "    }\n",
       "    function toolbar_mouse_event(event) {\n",
       "        return fig.toolbar_button_onmouseover(event['data']);\n",
       "    }\n",
       "\n",
       "    for(var toolbar_ind in mpl.toolbar_items){\n",
       "        var name = mpl.toolbar_items[toolbar_ind][0];\n",
       "        var tooltip = mpl.toolbar_items[toolbar_ind][1];\n",
       "        var image = mpl.toolbar_items[toolbar_ind][2];\n",
       "        var method_name = mpl.toolbar_items[toolbar_ind][3];\n",
       "\n",
       "        if (!name) { continue; };\n",
       "\n",
       "        var button = $('<button class=\"btn btn-default\" href=\"#\" title=\"' + name + '\"><i class=\"fa ' + image + ' fa-lg\"></i></button>');\n",
       "        button.click(method_name, toolbar_event);\n",
       "        button.mouseover(tooltip, toolbar_mouse_event);\n",
       "        nav_element.append(button);\n",
       "    }\n",
       "\n",
       "    // Add the status bar.\n",
       "    var status_bar = $('<span class=\"mpl-message\" style=\"text-align:right; float: right;\"/>');\n",
       "    nav_element.append(status_bar);\n",
       "    this.message = status_bar[0];\n",
       "\n",
       "    // Add the close button to the window.\n",
       "    var buttongrp = $('<div class=\"btn-group inline pull-right\"></div>');\n",
       "    var button = $('<button class=\"btn btn-mini btn-primary\" href=\"#\" title=\"Stop Interaction\"><i class=\"fa fa-power-off icon-remove icon-large\"></i></button>');\n",
       "    button.click(function (evt) { fig.handle_close(fig, {}); } );\n",
       "    button.mouseover('Stop Interaction', toolbar_mouse_event);\n",
       "    buttongrp.append(button);\n",
       "    var titlebar = this.root.find($('.ui-dialog-titlebar'));\n",
       "    titlebar.prepend(buttongrp);\n",
       "}\n",
       "\n",
       "mpl.figure.prototype._root_extra_style = function(el){\n",
       "    var fig = this\n",
       "    el.on(\"remove\", function(){\n",
       "\tfig.close_ws(fig, {});\n",
       "    });\n",
       "}\n",
       "\n",
       "mpl.figure.prototype._canvas_extra_style = function(el){\n",
       "    // this is important to make the div 'focusable\n",
       "    el.attr('tabindex', 0)\n",
       "    // reach out to IPython and tell the keyboard manager to turn it's self\n",
       "    // off when our div gets focus\n",
       "\n",
       "    // location in version 3\n",
       "    if (IPython.notebook.keyboard_manager) {\n",
       "        IPython.notebook.keyboard_manager.register_events(el);\n",
       "    }\n",
       "    else {\n",
       "        // location in version 2\n",
       "        IPython.keyboard_manager.register_events(el);\n",
       "    }\n",
       "\n",
       "}\n",
       "\n",
       "mpl.figure.prototype._key_event_extra = function(event, name) {\n",
       "    var manager = IPython.notebook.keyboard_manager;\n",
       "    if (!manager)\n",
       "        manager = IPython.keyboard_manager;\n",
       "\n",
       "    // Check for shift+enter\n",
       "    if (event.shiftKey && event.which == 13) {\n",
       "        this.canvas_div.blur();\n",
       "        // select the cell after this one\n",
       "        var index = IPython.notebook.find_cell_index(this.cell_info[0]);\n",
       "        IPython.notebook.select(index + 1);\n",
       "    }\n",
       "}\n",
       "\n",
       "mpl.figure.prototype.handle_save = function(fig, msg) {\n",
       "    fig.ondownload(fig, null);\n",
       "}\n",
       "\n",
       "\n",
       "mpl.find_output_cell = function(html_output) {\n",
       "    // Return the cell and output element which can be found *uniquely* in the notebook.\n",
       "    // Note - this is a bit hacky, but it is done because the \"notebook_saving.Notebook\"\n",
       "    // IPython event is triggered only after the cells have been serialised, which for\n",
       "    // our purposes (turning an active figure into a static one), is too late.\n",
       "    var cells = IPython.notebook.get_cells();\n",
       "    var ncells = cells.length;\n",
       "    for (var i=0; i<ncells; i++) {\n",
       "        var cell = cells[i];\n",
       "        if (cell.cell_type === 'code'){\n",
       "            for (var j=0; j<cell.output_area.outputs.length; j++) {\n",
       "                var data = cell.output_area.outputs[j];\n",
       "                if (data.data) {\n",
       "                    // IPython >= 3 moved mimebundle to data attribute of output\n",
       "                    data = data.data;\n",
       "                }\n",
       "                if (data['text/html'] == html_output) {\n",
       "                    return [cell, data, j];\n",
       "                }\n",
       "            }\n",
       "        }\n",
       "    }\n",
       "}\n",
       "\n",
       "// Register the function which deals with the matplotlib target/channel.\n",
       "// The kernel may be null if the page has been refreshed.\n",
       "if (IPython.notebook.kernel != null) {\n",
       "    IPython.notebook.kernel.comm_manager.register_target('matplotlib', mpl.mpl_figure_comm);\n",
       "}\n"
      ],
      "text/plain": [
       "<IPython.core.display.Javascript object>"
      ]
     },
     "metadata": {},
     "output_type": "display_data"
    },
    {
     "data": {
      "text/html": [
       "<img src=\"data:image/png;base64,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\" width=\"640\">"
      ],
      "text/plain": [
       "<IPython.core.display.HTML object>"
      ]
     },
     "metadata": {},
     "output_type": "display_data"
    },
    {
     "data": {
      "text/plain": [
       "[<matplotlib.lines.Line2D at 0x4643ed30>]"
      ]
     },
     "execution_count": 176,
     "metadata": {},
     "output_type": "execute_result"
    }
   ],
   "source": [
    "%matplotlib notebook\n",
    "t=h['raw_data/event'][h['traces'][5]]\n",
    "tr=Trace(t)\n",
    "print(tr.flags,'\\n',tr.trace_flags)\n",
    "plt.plot(tr.samples)"
   ]
  },
  {
   "cell_type": "code",
   "execution_count": null,
   "metadata": {
    "collapsed": false
   },
   "outputs": [],
   "source": [
    "tr"
   ]
  },
  {
   "cell_type": "code",
   "execution_count": null,
   "metadata": {
    "collapsed": false
   },
   "outputs": [],
   "source": [
    "s=str(tr.flags)\n",
    "s"
   ]
  },
  {
   "cell_type": "code",
   "execution_count": null,
   "metadata": {
    "collapsed": false
   },
   "outputs": [],
   "source": [
    "print(s)"
   ]
  },
  {
   "cell_type": "code",
   "execution_count": null,
   "metadata": {
    "collapsed": false
   },
   "outputs": [],
   "source": [
    "type(h['raw_data/event'][h['traces'][0]])"
   ]
  },
  {
   "cell_type": "code",
   "execution_count": null,
   "metadata": {
    "collapsed": true
   },
   "outputs": [],
   "source": [
    "from tes.hdf5 import Trace"
   ]
  },
  {
   "cell_type": "code",
   "execution_count": null,
   "metadata": {
    "collapsed": false
   },
   "outputs": [],
   "source": [
    "tr.flags"
   ]
  },
  {
   "cell_type": "code",
   "execution_count": null,
   "metadata": {
    "collapsed": false
   },
   "outputs": [],
   "source": [
    "tr.trace_flags"
   ]
  },
  {
   "cell_type": "code",
   "execution_count": null,
   "metadata": {
    "collapsed": false
   },
   "outputs": [],
   "source": [
    "%matplotlib notebook\n",
    "plt.plot(tr.samples)"
   ]
  },
  {
   "cell_type": "code",
   "execution_count": null,
   "metadata": {
    "collapsed": false
   },
   "outputs": [],
   "source": [
    "len(tr.samples)"
   ]
  },
  {
   "cell_type": "code",
   "execution_count": null,
   "metadata": {
    "collapsed": false
   },
   "outputs": [],
   "source": [
    "first_dt = np.dtype([('size', np.uint16), ('tflags0', np.uint8), ('tflags1', np.uint8),\n",
    "        ('flags0', np.uint8), ('flags1', np.uint8), ('time', np.uint16)])\n",
    "\n"
   ]
  },
  {
   "cell_type": "code",
   "execution_count": null,
   "metadata": {
    "collapsed": false
   },
   "outputs": [],
   "source": []
  },
  {
   "cell_type": "code",
   "execution_count": null,
   "metadata": {
    "collapsed": false
   },
   "outputs": [],
   "source": [
    "t[0:8].view(first_dt)"
   ]
  },
  {
   "cell_type": "code",
   "execution_count": null,
   "metadata": {
    "collapsed": true
   },
   "outputs": [],
   "source": []
  },
  {
   "cell_type": "code",
   "execution_count": null,
   "metadata": {
    "collapsed": false
   },
   "outputs": [],
   "source": [
    "_rref = h5py.special_dtype(ref=h5py.RegionReference)\n",
    "h=h5py.File('test.hdf5', 'w')"
   ]
  },
  {
   "cell_type": "code",
   "execution_count": null,
   "metadata": {
    "collapsed": false
   },
   "outputs": [],
   "source": [
    "h.close()"
   ]
  },
  {
   "cell_type": "code",
   "execution_count": null,
   "metadata": {
    "collapsed": false
   },
   "outputs": [],
   "source": [
    "t= np.array((10,),'u1')\n",
    "h.create_dataset('t',(10,),dtype='u1')"
   ]
  },
  {
   "cell_type": "code",
   "execution_count": null,
   "metadata": {
    "collapsed": false
   },
   "outputs": [],
   "source": [
    "h.create_dataset('r',(10,),dtype=_rref)"
   ]
  },
  {
   "cell_type": "code",
   "execution_count": null,
   "metadata": {
    "collapsed": false
   },
   "outputs": [],
   "source": [
    "h.create_dataset('s',(10,),dtype='u1')"
   ]
  },
  {
   "cell_type": "code",
   "execution_count": null,
   "metadata": {
    "collapsed": true
   },
   "outputs": [],
   "source": [
    "h['s'][0]=0\n",
    "h['s'][1]=1"
   ]
  },
  {
   "cell_type": "code",
   "execution_count": null,
   "metadata": {
    "collapsed": false
   },
   "outputs": [],
   "source": [
    "h['r'][0]=h['t'].regionref[0:2]"
   ]
  },
  {
   "cell_type": "code",
   "execution_count": null,
   "metadata": {
    "collapsed": true
   },
   "outputs": [],
   "source": [
    "r=h['r'][0]"
   ]
  },
  {
   "cell_type": "code",
   "execution_count": null,
   "metadata": {
    "collapsed": false
   },
   "outputs": [],
   "source": [
    "t= np.array([0,1,2],'u1')"
   ]
  },
  {
   "cell_type": "code",
   "execution_count": null,
   "metadata": {
    "collapsed": false
   },
   "outputs": [],
   "source": [
    "t = [0,1]\n",
    "\n",
    "f = np.uint64(0)\n",
    "print(type(f))\n",
    "f += len(t)\n",
    "print(type(f))"
   ]
  },
  {
   "cell_type": "code",
   "execution_count": null,
   "metadata": {
    "collapsed": false
   },
   "outputs": [],
   "source": [
    "t[0:1][0]"
   ]
  },
  {
   "cell_type": "code",
   "execution_count": null,
   "metadata": {
    "collapsed": false
   },
   "outputs": [],
   "source": [
    "i=0\n",
    "for p in packets:\n",
    "    if i==7:\n",
    "        break\n",
    "    i+=1"
   ]
  },
  {
   "cell_type": "code",
   "execution_count": null,
   "metadata": {
    "collapsed": false
   },
   "outputs": [],
   "source": [
    "p"
   ]
  },
  {
   "cell_type": "code",
   "execution_count": null,
   "metadata": {
    "collapsed": true
   },
   "outputs": [],
   "source": [
    "lasts = np.where(stream['last'] < 0)[0] + 1"
   ]
  },
  {
   "cell_type": "code",
   "execution_count": null,
   "metadata": {
    "collapsed": false
   },
   "outputs": [],
   "source": [
    "lasts"
   ]
  },
  {
   "cell_type": "code",
   "execution_count": null,
   "metadata": {
    "collapsed": false
   },
   "outputs": [],
   "source": [
    "'last' in stream.dtype.names"
   ]
  },
  {
   "cell_type": "code",
   "execution_count": null,
   "metadata": {
    "collapsed": false
   },
   "outputs": [],
   "source": [
    "isinstance(stream,np.ndarray)"
   ]
  },
  {
   "cell_type": "code",
   "execution_count": null,
   "metadata": {
    "collapsed": false
   },
   "outputs": [],
   "source": [
    "type('poo')"
   ]
  },
  {
   "cell_type": "code",
   "execution_count": null,
   "metadata": {
    "collapsed": false
   },
   "outputs": [],
   "source": [
    "stream[lasts[0]:]"
   ]
  },
  {
   "cell_type": "code",
   "execution_count": null,
   "metadata": {
    "collapsed": false
   },
   "outputs": [],
   "source": [
    "ps=PacketStream(stream)\n",
    "# ps.traces"
   ]
  },
  {
   "cell_type": "code",
   "execution_count": null,
   "metadata": {
    "collapsed": false
   },
   "outputs": [],
   "source": [
    "type(ps[0])"
   ]
  },
  {
   "cell_type": "code",
   "execution_count": null,
   "metadata": {
    "collapsed": false
   },
   "outputs": [],
   "source": [
    "sum(stream['last']<0)"
   ]
  },
  {
   "cell_type": "code",
   "execution_count": null,
   "metadata": {
    "collapsed": false
   },
   "outputs": [],
   "source": [
    "%matplotlib notebook\n",
    "\n",
    "plt.plot(ps.traces[3]._view['trace'])\n",
    "# ps.traces[2]._view['trace'][-20:]"
   ]
  },
  {
   "cell_type": "code",
   "execution_count": null,
   "metadata": {
    "collapsed": false
   },
   "outputs": [],
   "source": [
    "ps.traces"
   ]
  },
  {
   "cell_type": "code",
   "execution_count": null,
   "metadata": {
    "collapsed": false,
    "run_control": {
     "frozen": false,
     "read_only": false
    },
    "scrolled": true
   },
   "outputs": [],
   "source": [
    "traces=Data.fromfile('traces',trace_dt,'teslib','measurement_subsystem_TB',tool='vivado')\n",
    "stream=Data.fromfile('bytestream',stream_dt,'teslib','measurement_subsystem_TB',tool='vivado')\n",
    "bs=PacketStream(stream)\n",
    "dists=bs.distributions\n",
    "#bs.packets\n",
    "dists"
   ]
  },
  {
   "cell_type": "code",
   "execution_count": null,
   "metadata": {
    "collapsed": false
   },
   "outputs": [],
   "source": [
    "d=dists[0]\n",
    "d.counts[-1]"
   ]
  },
  {
   "cell_type": "code",
   "execution_count": null,
   "metadata": {
    "collapsed": false
   },
   "outputs": [],
   "source": [
    "d.total+d.underflow+d.overflow"
   ]
  },
  {
   "cell_type": "code",
   "execution_count": null,
   "metadata": {
    "collapsed": false
   },
   "outputs": [],
   "source": [
    "%matplotlib notebook\n",
    "plt.plot(d.bins)"
   ]
  },
  {
   "cell_type": "code",
   "execution_count": null,
   "metadata": {
    "collapsed": false,
    "scrolled": false
   },
   "outputs": [],
   "source": [
    "f=EventFlags(es[2][2]['flags'])\n",
    "f.channel"
   ]
  },
  {
   "cell_type": "code",
   "execution_count": null,
   "metadata": {
    "collapsed": false,
    "run_control": {
     "frozen": false,
     "read_only": false
    },
    "scrolled": true
   },
   "outputs": [],
   "source": [
    "import tes.mca as mca\n",
    "d=bs.distributions[0]\n",
    "eset=np.uint64(1)\n",
    "bset=np.uint64(0)\n",
    "cset=np.uint64(20)\n",
    "\n",
    "stop=d.stop_time+eset+cset\n",
    "start=d.start_time+bset+cset\n",
    "bins=np.zeros((d.last_bin+1,),dtype=np.uint32)\n",
    "\n",
    "if d.value==mca.Value.raw_signal:\n",
    "    tname='raw'\n",
    "elif d.value==mca.Value.filtered_signal:\n",
    "    tname='filtered'\n",
    "elif d.value==mca.Value.slope_signal:\n",
    "    tname='slope'\n",
    "\n",
    "for i in range(start,stop):\n",
    "    s = traces[tname][i]\n",
    "    if s < d.lowest_value:\n",
    "        bins[0] += 1\n",
    "    else:\n",
    "        bin_number = s - d.lowest_value + 1\n",
    "        if bin_number < d.last_bin:\n",
    "            bins[bin_number] += 1\n",
    "        else:\n",
    "            bins[d.last_bin] += 1\n",
    "        \n",
    "bad=(bins-d.counts).nonzero()\n",
    "bad"
   ]
  },
  {
   "cell_type": "code",
   "execution_count": null,
   "metadata": {
    "collapsed": false
   },
   "outputs": [],
   "source": [
    "d.counts[bad][1:10]"
   ]
  },
  {
   "cell_type": "code",
   "execution_count": null,
   "metadata": {
    "collapsed": false
   },
   "outputs": [],
   "source": [
    "bins[bad][1:10]"
   ]
  },
  {
   "cell_type": "code",
   "execution_count": null,
   "metadata": {
    "collapsed": false
   },
   "outputs": [],
   "source": [
    "d.value"
   ]
  },
  {
   "cell_type": "code",
   "execution_count": null,
   "metadata": {
    "collapsed": false,
    "scrolled": false
   },
   "outputs": [],
   "source": [
    "%matplotlib notebook\n",
    "plt.step(np.arange(len(d.bins)),d.bins)\n",
    "# plt.step(np.arange(len(d.counts)),bins)\n",
    "plt.plot(bad,np.zeros_like(bad),'.k')"
   ]
  },
  {
   "cell_type": "code",
   "execution_count": null,
   "metadata": {
    "collapsed": false
   },
   "outputs": [],
   "source": [
    "sum(d.counts)"
   ]
  },
  {
   "cell_type": "code",
   "execution_count": null,
   "metadata": {
    "collapsed": false
   },
   "outputs": [],
   "source": [
    "2**14+2000"
   ]
  },
  {
   "cell_type": "code",
   "execution_count": null,
   "metadata": {
    "collapsed": false,
    "run_control": {
     "frozen": false,
     "read_only": false
    }
   },
   "outputs": [],
   "source": [
    "def plot_event(event_tupple):\n",
    "    pre=200\n",
    "    post=1000\n",
    "    timestamp=event_tupple[0]\n",
    "    event_type=event_tupple[1]\n",
    "    event=event_tupple[2]\n",
    "    flags=EventFlags(event['flags'])\n",
    "    print(flags)\n",
    "    print('timestamp',timestamp, 'time', event['time'])\n",
    "    if flags.type == Event.tick:\n",
    "        return\n",
    "    s=traces['filtered'][timestamp+20-pre:timestamp+20+post]\n",
    "    r=traces['raw'][timestamp+20-pre:timestamp+20+post]\n",
    "    i = np.where(abs(minmax['clk'])<=timestamp+20)[0][-1]\n",
    "    min_t=abs(minmax['clk'][i])-(timestamp+20)\n",
    "#     print(minmax['clk'][i],min_t,i,timestamp)\n",
    "    plt.plot(r,'k',linewidth=0.5)\n",
    "    plt.plot(s,'b',linewidth=2)\n",
    "    plt.plot([pre],s[pre],'sg')\n",
    "    plt.plot([pre+min_t],minmax['filtered'][i],'sr')\n",
    "    if event_type==Event.pulse:\n",
    "        for i in range(flags.peak_number):\n",
    "            p=event['peaks'][i]\n",
    "            plt.plot([0,len(s)-1],[p['height'],p['height']],':r')\n",
    "    else:\n",
    "      plt.plot([0,len(s)-1],[event['height'],event['height']],':r')\n",
    "        \n",
    "    #print(event['height'],event['minima'])\n",
    "    #print(minmax['filtered'][i]==s[pre+min_t])\n",
    "    #print(minmax['filtered'][i]==event['minima'])\n",
    "    #print(s[pre],s[pre-1])"
   ]
  },
  {
   "cell_type": "code",
   "execution_count": null,
   "metadata": {
    "collapsed": false,
    "run_control": {
     "frozen": false,
     "read_only": false
    }
   },
   "outputs": [],
   "source": [
    "pwd"
   ]
  },
  {
   "cell_type": "code",
   "execution_count": null,
   "metadata": {
    "collapsed": false
   },
   "outputs": [],
   "source": [
    "es=bs.eventstream\n",
    "es"
   ]
  },
  {
   "cell_type": "code",
   "execution_count": null,
   "metadata": {
    "collapsed": false,
    "run_control": {
     "frozen": false,
     "read_only": false
    }
   },
   "outputs": [],
   "source": [
    "%matplotlib notebook\n",
    "for e in es:\n",
    "    if e[1]==Event.peak:\n",
    "        plot_event(e)"
   ]
  },
  {
   "cell_type": "code",
   "execution_count": null,
   "metadata": {
    "collapsed": false,
    "run_control": {
     "frozen": false,
     "read_only": false
    }
   },
   "outputs": [],
   "source": [
    "es"
   ]
  },
  {
   "cell_type": "code",
   "execution_count": null,
   "metadata": {
    "collapsed": false,
    "run_control": {
     "frozen": false,
     "read_only": false
    }
   },
   "outputs": [],
   "source": [
    "dists=bs.distributions\n",
    "dists"
   ]
  },
  {
   "cell_type": "code",
   "execution_count": null,
   "metadata": {
    "collapsed": false,
    "run_control": {
     "frozen": false,
     "read_only": false
    }
   },
   "outputs": [],
   "source": [
    "bs.packets[185].payload"
   ]
  },
  {
   "cell_type": "code",
   "execution_count": null,
   "metadata": {
    "collapsed": false,
    "run_control": {
     "frozen": false,
     "read_only": false
    }
   },
   "outputs": [],
   "source": [
    "d=bs.distributions[0]\n",
    "eset=np.uint64(1)\n",
    "bset=np.uint64(0)\n",
    "cset=np.uint64(20)\n",
    "\n",
    "stop=d.stop_time+eset+cset\n",
    "start=d.start_time+bset+cset\n",
    "bins=np.zeros((d.last_bin+1,),dtype=np.uint32)\n",
    "for i in range(start,stop):\n",
    "    s = traces['raw'][i]\n",
    "    if s <= d.lowest_value:\n",
    "        bins[0] += 1\n",
    "    else:\n",
    "        bins[s-d.lowest_value] += 1\n",
    "        \n",
    "(bins-d.counts).nonzero()"
   ]
  },
  {
   "cell_type": "code",
   "execution_count": null,
   "metadata": {
    "collapsed": false,
    "run_control": {
     "frozen": false,
     "read_only": false
    }
   },
   "outputs": [],
   "source": [
    "%matplotlib notebook\n",
    "plt.step(np.arange(len(d.counts)),d.counts)"
   ]
  },
  {
   "cell_type": "code",
   "execution_count": null,
   "metadata": {
    "collapsed": false,
    "run_control": {
     "frozen": false,
     "read_only": false
    }
   },
   "outputs": [],
   "source": [
    "bins[bins.nonzero()]"
   ]
  },
  {
   "cell_type": "code",
   "execution_count": null,
   "metadata": {
    "collapsed": false,
    "run_control": {
     "frozen": false,
     "read_only": false
    }
   },
   "outputs": [],
   "source": [
    "sum(d.counts)"
   ]
  },
  {
   "cell_type": "code",
   "execution_count": null,
   "metadata": {
    "collapsed": false,
    "run_control": {
     "frozen": false,
     "read_only": false
    }
   },
   "outputs": [],
   "source": [
    "2**14+2000"
   ]
  },
  {
   "cell_type": "code",
   "execution_count": null,
   "metadata": {
    "collapsed": false,
    "run_control": {
     "frozen": false,
     "read_only": false
    }
   },
   "outputs": [],
   "source": [
    "es[3][2]['timestamp']-es[0][2]['timestamp']"
   ]
  },
  {
   "cell_type": "code",
   "execution_count": null,
   "metadata": {
    "collapsed": true,
    "run_control": {
     "frozen": false,
     "read_only": false
    }
   },
   "outputs": [],
   "source": [
    "def xings(s, thresh):\n",
    "    pos=s > thresh\n",
    "    neg=s < thresh\n",
    "    pos0=s >= thresh\n",
    "    neg0=s <= thresh\n",
    "    pos_xing_mask = np.bitwise_and(pos0[1:],neg[0:-1])  \n",
    "    neg_xing_mask = np.bitwise_and(neg0[1:],pos[0:-1])  \n",
    "    return pos_xing_mask.nonzero()[0]+1, neg_xing_mask.nonzero()[0]+1"
   ]
  },
  {
   "cell_type": "code",
   "execution_count": null,
   "metadata": {
    "collapsed": true,
    "run_control": {
     "frozen": false,
     "read_only": false
    }
   },
   "outputs": [],
   "source": [
    "from mpl_toolkits.axes_grid1 import host_subplot\n",
    "\n",
    "def plot_trace(traces,start,width):\n",
    "\n",
    "    ax = host_subplot(111)\n",
    "    axr = ax.twinx()\n",
    "    axt = ax.twiny()\n",
    "#ax.plot(t[0:-1:10],s[0:-1:10],'k')\n",
    "#ax.plot(t,s,'k')\n",
    "    axt.set_xlabel('Time ns',fontsize=18)\n",
    "    ax.set_ylabel('Voltage (Arbitary Units)',fontsize=18)\n",
    "#plt.xticks(visible=False)\n",
    "#plt.yticks(visible=False)\n",
    "#ax.set_xlim(0,t[4000000])\n",
    "#start=902000\n",
    "#width=2500\n",
    "    f=traces['filtered'][start:start+width]\n",
    "    s=traces['slope'][start:start+width]\n",
    "    t=np.arange(len(f))*4e-9\n",
    "#ts=t[pstart:pstop]\n",
    "#axins = fig.add_axes([.4, .45, .45, .4])\n",
    "    ax.set_xlim(t[0],t[-1])\n",
    "    axt.set_xlim(t[0],t[-1])\n",
    "\n",
    "    ylim=(-500,2000)\n",
    "\n",
    "    ax.set_ylim(ylim[0],ylim[1])\n",
    "    axr.set_ylim(ylim[0],ylim[1])\n",
    "\n",
    "    filtered, = ax.step(t,f,'k',lw=2,label='filtered')\n",
    "    slope, = ax.step(t,s,'b',label='slope')\n",
    "    ax.fill_between(t,0,s,alpha=.4)\n",
    "    plt.ylim=ylim\n",
    "\n",
    "pos=s>0\n",
    "neg=s<=0\n",
    "pos_xing_mask = np.bitwise_and(pos[1:-1],neg[0:-2])  \n",
    "neg_xing_mask = np.bitwise_and(neg[1:-1],pos[0:-2])  \n",
    "pos_xing=pos_xing_mask.nonzero()\n",
    "neg_xing=neg_xing_mask.nonzero()\n",
    "\n",
    "rx=[t[pos_xing[0][0]], t[neg_xing[0][0]]]\n",
    "ry=[f[pos_xing[0][0]], f[neg_xing[0][0]]]\n",
    "\n",
    "ax.fill_between(t[pos_xing[0][0]:neg_xing[0][0]],0,s[pos_xing[0][0]:neg_xing[0][0]],alpha=.4,color='r')\n",
    "\n",
    "#plt.plot(rx,[ry[0], ry[0]],'-r',lw=2)\n",
    "#plt.plot([rx[1],rx[1]], ry,'-r',lw=2)\n",
    "# thresholds\n",
    "sthresh = 600\n",
    "pthresh = 1000\n",
    "plt.plot([t[0], t[-1]], [sthresh, sthresh], '--b', lw=2)\n",
    "plt.plot([t[0], t[-1]], [pthresh, pthresh], '--k', lw=2)\n",
    "\n",
    "sthresh_xing=(s>sthresh).nonzero()[0][0]\n",
    "pthresh_xing=(f>pthresh).nonzero()[0][0]\n",
    "\n",
    "\n",
    "cf=.10\n",
    "height = ry[1]-ry[0]\n",
    "cfl=ry[0]+(height*cf)\n",
    "cfh=ry[1]-(height*cf)\n",
    "\n",
    "cfl_xing=(f>cfl).nonzero()[0][0]\n",
    "cfd_low=f[cfl_xing]\n",
    "cfh_xing=(f>cfh).nonzero()[0][0]\n",
    "cfd_high=f[cfh_xing]\n",
    "\n",
    "#plt.plot([t[cfl_xing], t[-1]],[cfd_low, cfd_low], ':r')\n",
    "#plt.plot([t[cfh_xing], t[-1]],[cfd_high, cfd_high], ':r')\n",
    "#plt.plot([x[1], t[-1]],[y[1], y[1]], ':r')\n",
    "plt.legend([filtered, slope],['Signal', 'Slope'],loc=2)\n",
    "\n",
    "#axr = ax.twinx()\n",
    "##################################################################\n",
    "#yticks=([ry[0],sthresh,pthresh,cfd_high,ry[1]])\n",
    "yticks=([sthresh,pthresh])\n",
    "axr.set_yticks(yticks)\n",
    "#yticklabels=['Start','Slope threshold','Pulse threshold','CF high','Peak']\n",
    "yticklabels=['Slope threshold','Pulse threshold']\n",
    "axr.set_yticklabels(yticklabels, color='r',fontsize=14)\n",
    "axr.get_yticklabels()[0].set_color('b')\n",
    "axr.get_yticklabels()[1].set_color('k')\n",
    "\n",
    "#xticks=([rx[0],t[cfl_xing],t[sthresh_xing],t[pthresh_xing],rx[1]])\n",
    "xticks=(t[cfl_xing],rx[1])\n",
    "#ax.set_xticks([rx[0],t[cfl_xing],t[sthresh_xing],t[pthresh_xing],rx[1]])\n",
    "ax.set_xticks(xticks)\n",
    "#xticklabels=['Start','CF low','Slope xing','Signal xing','Peak']\n",
    "xticklabels=['CF low','Peak']\n",
    "ax.set_xticklabels(xticklabels, color='r',fontsize=14)\n",
    "\n",
    "#plt.plot([t[cfh_xing], t[-1]],[cfd_high, cfd_high], ':r')\n",
    "#horoz start, stop lines\n",
    "#hpeak=ax.plot([xticks[1], t[-1]],[yticks[-1], yticks[-1]], '-.r')\n",
    "#hstart=ax.plot([xticks[0], t[-1]],[yticks[0], yticks[0]], '-.r')\n",
    "#vert start stop\n",
    "vstart=ax.plot([xticks[0], xticks[0]],[cfd_low, ylim[0]], '-.r')\n",
    "vpeak=ax.plot([xticks[1], xticks[1]],[ylim[0], ry[1]], '-.r')\n",
    "\n",
    "plt.tight_layout()\n",
    "plt.savefig('..//peakextraction7.svg')\n",
    "plt.show()\n",
    "print('risetime:',(xticks[1]-xticks[0])/4)\n",
    "print('height:',yticks[-1]-yticks[0])\n",
    "print('time:',(xticks[0]-rx[0])/4)\n",
    "print('area',sum(s[pos_xing[0][0]:neg_xing[0][0]])/256)\n"
   ]
  },
  {
   "cell_type": "code",
   "execution_count": null,
   "metadata": {
    "collapsed": true,
    "run_control": {
     "frozen": false,
     "read_only": false
    }
   },
   "outputs": [],
   "source": [
    "slope_0xings = xings(traces['slope'],0)"
   ]
  },
  {
   "cell_type": "code",
   "execution_count": null,
   "metadata": {
    "collapsed": false,
    "run_control": {
     "frozen": false,
     "read_only": false
    }
   },
   "outputs": [],
   "source": [
    "slope_0xings"
   ]
  },
  {
   "cell_type": "code",
   "execution_count": null,
   "metadata": {
    "collapsed": false,
    "run_control": {
     "frozen": false,
     "read_only": false
    }
   },
   "outputs": [],
   "source": [
    "%matplotlib notebook\n",
    "start=10000\n",
    "width=300\n",
    "plt.plot(traces['filtered'][start:start+width]/2)"
   ]
  },
  {
   "cell_type": "code",
   "execution_count": null,
   "metadata": {
    "collapsed": false,
    "run_control": {
     "frozen": false,
     "read_only": false
    }
   },
   "outputs": [],
   "source": [
    "%matplotlib notebook\n",
    "plt.plot(traces['slope'][20400:21700])"
   ]
  },
  {
   "cell_type": "code",
   "execution_count": null,
   "metadata": {
    "collapsed": false,
    "run_control": {
     "frozen": false,
     "read_only": false
    }
   },
   "outputs": [],
   "source": [
    "filtered=traces['filtered'][1100:]\n",
    "filteredL=traces['filteredL'][1100:]"
   ]
  },
  {
   "cell_type": "code",
   "execution_count": null,
   "metadata": {
    "collapsed": false,
    "run_control": {
     "frozen": false,
     "read_only": false
    }
   },
   "outputs": [],
   "source": [
    "filtered[:10]"
   ]
  },
  {
   "cell_type": "code",
   "execution_count": null,
   "metadata": {
    "collapsed": false,
    "run_control": {
     "frozen": false,
     "read_only": false
    }
   },
   "outputs": [],
   "source": [
    "filteredL[:10]/4"
   ]
  },
  {
   "cell_type": "code",
   "execution_count": null,
   "metadata": {
    "collapsed": false,
    "run_control": {
     "frozen": false,
     "read_only": false
    }
   },
   "outputs": [],
   "source": [
    "minmax_dt=np.dtype([('filtered','i4'),('low','i4'),('high','i4'),('clk','i4')])\n",
    "minmax=Data.fromfile('minmax',minmax_dt,'teslib','measurement_subsystem_TB',tool='vivado')\n",
    "fxing_dt=np.dtype([('extrema','i4'),('area','i4'),('clk','i4')])\n",
    "fxing=Data.fromfile('filteredxing',fxing_dt,'teslib','measurement_subsystem_TB',tool='vivado')"
   ]
  },
  {
   "cell_type": "code",
   "execution_count": null,
   "metadata": {
    "collapsed": false,
    "run_control": {
     "frozen": false,
     "read_only": false
    }
   },
   "outputs": [],
   "source": [
    "minmax"
   ]
  },
  {
   "cell_type": "code",
   "execution_count": null,
   "metadata": {
    "collapsed": false,
    "run_control": {
     "frozen": false,
     "read_only": false
    }
   },
   "outputs": [],
   "source": [
    "fxing"
   ]
  },
  {
   "cell_type": "code",
   "execution_count": null,
   "metadata": {
    "collapsed": false,
    "run_control": {
     "frozen": false,
     "read_only": false
    }
   },
   "outputs": [],
   "source": [
    "np.where(fxing['area']==0)"
   ]
  },
  {
   "cell_type": "code",
   "execution_count": null,
   "metadata": {
    "collapsed": false,
    "run_control": {
     "frozen": false,
     "read_only": false
    }
   },
   "outputs": [],
   "source": [
    "np.where(fxing['extrema']==0)"
   ]
  },
  {
   "cell_type": "code",
   "execution_count": null,
   "metadata": {
    "collapsed": false,
    "run_control": {
     "frozen": false,
     "read_only": false
    }
   },
   "outputs": [],
   "source": [
    "fxing[30]"
   ]
  },
  {
   "cell_type": "code",
   "execution_count": null,
   "metadata": {
    "collapsed": false,
    "run_control": {
     "frozen": false,
     "read_only": false
    }
   },
   "outputs": [],
   "source": [
    "exn=np.where(fxing['extrema']<0)\n",
    "clkn=np.where(fxing['clk']>0)"
   ]
  },
  {
   "cell_type": "code",
   "execution_count": null,
   "metadata": {
    "collapsed": true,
    "run_control": {
     "frozen": false,
     "read_only": false
    }
   },
   "outputs": [],
   "source": []
  },
  {
   "cell_type": "code",
   "execution_count": null,
   "metadata": {
    "collapsed": false,
    "run_control": {
     "frozen": false,
     "read_only": false
    }
   },
   "outputs": [],
   "source": [
    "fxing[374]"
   ]
  },
  {
   "cell_type": "code",
   "execution_count": null,
   "metadata": {
    "collapsed": false,
    "run_control": {
     "frozen": false,
     "read_only": false
    }
   },
   "outputs": [],
   "source": [
    "clkn"
   ]
  },
  {
   "cell_type": "code",
   "execution_count": null,
   "metadata": {
    "collapsed": false,
    "run_control": {
     "frozen": false,
     "read_only": false
    }
   },
   "outputs": [],
   "source": [
    "np.where(minmax[maxs[0]-1]['min']!=1)"
   ]
  },
  {
   "cell_type": "code",
   "execution_count": null,
   "metadata": {
    "collapsed": false,
    "run_control": {
     "frozen": false,
     "read_only": false
    }
   },
   "outputs": [],
   "source": [
    "minmax[maxs[0]-1][65]"
   ]
  },
  {
   "cell_type": "code",
   "execution_count": null,
   "metadata": {
    "collapsed": false,
    "run_control": {
     "frozen": false,
     "read_only": false
    }
   },
   "outputs": [],
   "source": [
    "2290-925"
   ]
  },
  {
   "cell_type": "code",
   "execution_count": null,
   "metadata": {
    "collapsed": false,
    "run_control": {
     "frozen": false,
     "read_only": false
    }
   },
   "outputs": [],
   "source": [
    "0.375*4"
   ]
  },
  {
   "cell_type": "code",
   "execution_count": null,
   "metadata": {
    "collapsed": false,
    "run_control": {
     "frozen": false,
     "read_only": false
    }
   },
   "outputs": [],
   "source": [
    "np.where(minmax['clock']==2290)"
   ]
  },
  {
   "cell_type": "code",
   "execution_count": null,
   "metadata": {
    "collapsed": false,
    "run_control": {
     "frozen": false,
     "read_only": false
    }
   },
   "outputs": [],
   "source": [
    "minmax[120:140]"
   ]
  },
  {
   "cell_type": "code",
   "execution_count": null,
   "metadata": {
    "collapsed": false,
    "run_control": {
     "frozen": false,
     "read_only": false
    }
   },
   "outputs": [],
   "source": [
    "stream_dt=np.dtype([('data','>i4'),('last','i4')])\n",
    "#stream=np.fromfile('data/stream',stream_dt)"
   ]
  },
  {
   "cell_type": "markdown",
   "metadata": {},
   "source": [
    "### bytestream stuff"
   ]
  },
  {
   "cell_type": "code",
   "execution_count": null,
   "metadata": {
    "collapsed": false,
    "run_control": {
     "frozen": false,
     "read_only": false
    }
   },
   "outputs": [],
   "source": [
    "stream_dt=np.dtype([('data','i4'),('last','i4')])\n",
    "stream=Data.fromfile('bytestream',stream_dt,'teslib','measurement_subsystem_TB',tool='vivado')\n",
    "lasts=np.where(stream['last']<=0)[0]+1\n",
    "#data=np.copy(stream['data'])"
   ]
  },
  {
   "cell_type": "code",
   "execution_count": null,
   "metadata": {
    "collapsed": false,
    "run_control": {
     "frozen": false,
     "read_only": false
    }
   },
   "outputs": [],
   "source": [
    "stream"
   ]
  },
  {
   "cell_type": "code",
   "execution_count": null,
   "metadata": {
    "collapsed": true,
    "run_control": {
     "frozen": false,
     "read_only": false
    }
   },
   "outputs": [],
   "source": []
  },
  {
   "cell_type": "code",
   "execution_count": null,
   "metadata": {
    "collapsed": true,
    "run_control": {
     "frozen": false,
     "read_only": false
    }
   },
   "outputs": [],
   "source": [
    "stream=np.fromfile('data/bytestream',stream_dt)"
   ]
  },
  {
   "cell_type": "code",
   "execution_count": null,
   "metadata": {
    "collapsed": false,
    "run_control": {
     "frozen": false,
     "read_only": false
    }
   },
   "outputs": [],
   "source": [
    "bs=PacketStream(stream)"
   ]
  },
  {
   "cell_type": "code",
   "execution_count": null,
   "metadata": {
    "collapsed": false,
    "run_control": {
     "frozen": false,
     "read_only": false
    }
   },
   "outputs": [],
   "source": [
    "bs.packets"
   ]
  },
  {
   "cell_type": "code",
   "execution_count": null,
   "metadata": {
    "collapsed": false,
    "run_control": {
     "frozen": false,
     "read_only": false
    }
   },
   "outputs": [],
   "source": [
    "bs.packets[4]"
   ]
  },
  {
   "cell_type": "code",
   "execution_count": null,
   "metadata": {
    "collapsed": true,
    "run_control": {
     "frozen": false,
     "read_only": false
    }
   },
   "outputs": [],
   "source": [
    "eheader_dt=[('etype','<u2'),('length','u2'),()]"
   ]
  },
  {
   "cell_type": "code",
   "execution_count": null,
   "metadata": {
    "collapsed": false,
    "run_control": {
     "frozen": false,
     "read_only": false
    }
   },
   "outputs": [],
   "source": [
    "'{:X}'.format(bs.packets[1].bytes[23])\n"
   ]
  },
  {
   "cell_type": "code",
   "execution_count": null,
   "metadata": {
    "collapsed": false,
    "run_control": {
     "frozen": false,
     "read_only": false
    }
   },
   "outputs": [],
   "source": [
    "'{:X}'.format(bs.packets[0].bytes[28:30].view(np.uint16)[0])"
   ]
  },
  {
   "cell_type": "code",
   "execution_count": null,
   "metadata": {
    "collapsed": true,
    "run_control": {
     "frozen": false,
     "read_only": false
    }
   },
   "outputs": [],
   "source": [
    "pulse_peak_dt=np.dtype([('height','i2'),('rise','i2'),('minima','u2'),('time','i2')])\n",
    "pulse_dt=np.dtype([('size','i2'),('resv','i2'),('flags','i2'),('time','u2'),\n",
    "                  ('area','i4'),('length','i2'),('offset','i2'),('peaks',(pulse_peak_dt,2))])"
   ]
  },
  {
   "cell_type": "code",
   "execution_count": null,
   "metadata": {
    "collapsed": false,
    "run_control": {
     "frozen": false,
     "read_only": false
    }
   },
   "outputs": [],
   "source": [
    "pulses=bs.packets[3].payload.view(pulse_dt)"
   ]
  },
  {
   "cell_type": "code",
   "execution_count": null,
   "metadata": {
    "collapsed": false,
    "run_control": {
     "frozen": false,
     "read_only": false
    }
   },
   "outputs": [],
   "source": [
    "pulses['peaks']"
   ]
  },
  {
   "cell_type": "code",
   "execution_count": null,
   "metadata": {
    "collapsed": false,
    "run_control": {
     "frozen": false,
     "read_only": false
    }
   },
   "outputs": [],
   "source": [
    "pulses['offset']"
   ]
  },
  {
   "cell_type": "code",
   "execution_count": null,
   "metadata": {
    "collapsed": false,
    "run_control": {
     "frozen": false,
     "read_only": false
    }
   },
   "outputs": [],
   "source": [
    "pulses['length']"
   ]
  },
  {
   "cell_type": "code",
   "execution_count": null,
   "metadata": {
    "collapsed": false,
    "run_control": {
     "frozen": false,
     "read_only": false
    }
   },
   "outputs": [],
   "source": [
    "class eflags:\n",
    "    def __init__(self,uint16):\n",
    "        self.new_window=np.bitwise_and(uint16,0x00000001)!=0\n",
    "        self.tick=np.bitwise_and(uint16,0x00000002)!=0\n",
    "        self.type=np.right_shift(np.bitwise_and(uint16,0x0000000c),2)\n",
    "        \n",
    "    def __repr__(self):\n",
    "        return 'New window:{:}\\n'.format(self.new_window) + \\\n",
    "               'Tick:{:}\\n'.format(self.tick) + \\\n",
    "               'Type:{:}\\n'.format(self.type) "
   ]
  },
  {
   "cell_type": "code",
   "execution_count": null,
   "metadata": {
    "collapsed": false,
    "run_control": {
     "frozen": false,
     "read_only": false
    }
   },
   "outputs": [],
   "source": [
    "f=eflags(pulses[0]['flags'])\n",
    "f"
   ]
  },
  {
   "cell_type": "code",
   "execution_count": null,
   "metadata": {
    "collapsed": false,
    "run_control": {
     "frozen": false,
     "read_only": false
    }
   },
   "outputs": [],
   "source": [
    "'{:X}'.format(bs.packets[3].bytes[13:14].view(np.uint16))"
   ]
  },
  {
   "cell_type": "code",
   "execution_count": null,
   "metadata": {
    "collapsed": true,
    "run_control": {
     "frozen": false,
     "read_only": false
    }
   },
   "outputs": [],
   "source": []
  },
  {
   "cell_type": "code",
   "execution_count": null,
   "metadata": {
    "collapsed": false,
    "run_control": {
     "frozen": false,
     "read_only": false
    }
   },
   "outputs": [],
   "source": [
    "'{:X}'.format(bs.packets[3].bytes[14:16].view(np.uint16)[0])"
   ]
  },
  {
   "cell_type": "code",
   "execution_count": null,
   "metadata": {
    "collapsed": false,
    "run_control": {
     "frozen": false,
     "read_only": false
    }
   },
   "outputs": [],
   "source": [
    "bs.packets[3].bytes[14:16].view(np.uint16)[0]"
   ]
  },
  {
   "cell_type": "code",
   "execution_count": null,
   "metadata": {
    "collapsed": false,
    "run_control": {
     "frozen": false,
     "read_only": false
    }
   },
   "outputs": [],
   "source": [
    "bs=np.uint8(stream['data'][:48])"
   ]
  },
  {
   "cell_type": "code",
   "execution_count": null,
   "metadata": {
    "collapsed": false,
    "run_control": {
     "frozen": false,
     "read_only": false
    }
   },
   "outputs": [],
   "source": [
    "bs"
   ]
  },
  {
   "cell_type": "code",
   "execution_count": null,
   "metadata": {
    "collapsed": false,
    "run_control": {
     "frozen": false,
     "read_only": false
    }
   },
   "outputs": [],
   "source": [
    "events=stream['data'].view(event_dt)"
   ]
  },
  {
   "cell_type": "code",
   "execution_count": null,
   "metadata": {
    "collapsed": false,
    "run_control": {
     "frozen": false,
     "read_only": false
    }
   },
   "outputs": [],
   "source": [
    "'{:X}'.format(events['flags'][0])"
   ]
  },
  {
   "cell_type": "code",
   "execution_count": null,
   "metadata": {
    "collapsed": false,
    "run_control": {
     "frozen": false,
     "read_only": false
    }
   },
   "outputs": [],
   "source": [
    "events['rise']"
   ]
  },
  {
   "cell_type": "code",
   "execution_count": null,
   "metadata": {
    "collapsed": false,
    "run_control": {
     "frozen": false,
     "read_only": false
    }
   },
   "outputs": [],
   "source": [
    "events"
   ]
  },
  {
   "cell_type": "code",
   "execution_count": null,
   "metadata": {
    "collapsed": false,
    "run_control": {
     "frozen": false,
     "read_only": false
    }
   },
   "outputs": [],
   "source": [
    "'{:04X}'.format(events['flags'][1])"
   ]
  },
  {
   "cell_type": "code",
   "execution_count": null,
   "metadata": {
    "collapsed": true,
    "run_control": {
     "frozen": false,
     "read_only": false
    }
   },
   "outputs": [],
   "source": [
    "pulse_peak_dt=np.dtype([('time','>i2'),('minima','>i2'),('rise','>u2'),('height','>i2')])\n",
    "pulse_dt=np.dtype([('time','>i2'),('flags','>i2'),('resv','>i2'),('size','>u2'),\n",
    "                  ('offset','>i2'),('length','>i2'),('area','>i4'),('peaks',(pulse_peak_dt,1))])\n",
    "data=np.copy(stream['data'])"
   ]
  },
  {
   "cell_type": "code",
   "execution_count": null,
   "metadata": {
    "collapsed": false,
    "run_control": {
     "frozen": false,
     "read_only": false
    }
   },
   "outputs": [],
   "source": [
    "pulses=data.view(pulse_dt)"
   ]
  },
  {
   "cell_type": "code",
   "execution_count": null,
   "metadata": {
    "collapsed": false,
    "run_control": {
     "frozen": false,
     "read_only": false
    }
   },
   "outputs": [],
   "source": [
    "pulses['peaks']['height']-pulses['peaks']['minima']"
   ]
  },
  {
   "cell_type": "code",
   "execution_count": null,
   "metadata": {
    "collapsed": false,
    "run_control": {
     "frozen": false,
     "read_only": false
    }
   },
   "outputs": [],
   "source": [
    "pulses['peaks']['minima']"
   ]
  },
  {
   "cell_type": "code",
   "execution_count": null,
   "metadata": {
    "collapsed": false,
    "run_control": {
     "frozen": false,
     "read_only": false
    }
   },
   "outputs": [],
   "source": [
    "peak_count=np.right_shift(np.bitwise_and(pulses['flags'],0xF000),12)\n",
    "peak_overflow=np.bitwise_and(pulses['flags'],0x0800)!=0\n",
    "channel=np.right_shift(np.bitwise_and(pulses['flags'],0x0700),8)\n",
    "timing_type=np.right_shift(np.bitwise_and(pulses['flags'],0x00C0),6)\n",
    "height_type=np.right_shift(np.bitwise_and(pulses['flags'],0x0030),4)\n",
    "event_type=np.right_shift(np.bitwise_and(pulses['flags'],0x000E),1)\n",
    "new_window=np.bitwise_and(pulses['flags'],0x0001)!=0"
   ]
  },
  {
   "cell_type": "code",
   "execution_count": null,
   "metadata": {
    "collapsed": false,
    "run_control": {
     "frozen": false,
     "read_only": false
    }
   },
   "outputs": [],
   "source": [
    "peak_overflow"
   ]
  },
  {
   "cell_type": "code",
   "execution_count": null,
   "metadata": {
    "collapsed": true,
    "run_control": {
     "frozen": false,
     "read_only": false
    }
   },
   "outputs": [],
   "source": [
    "test_dt=np.dtype(\n",
    "    [('time','i2'),('flags','i2'),('rise','u2'),('minima','i2'),('low','u8'),('high','u8')]\n",
    ")\n",
    "test=data.view(test_dt)"
   ]
  },
  {
   "cell_type": "code",
   "execution_count": null,
   "metadata": {
    "collapsed": false,
    "run_control": {
     "frozen": false,
     "read_only": false
    }
   },
   "outputs": [],
   "source": [
    "test"
   ]
  },
  {
   "cell_type": "code",
   "execution_count": null,
   "metadata": {
    "collapsed": false,
    "run_control": {
     "frozen": false,
     "read_only": false
    }
   },
   "outputs": [],
   "source": [
    "test['minima']"
   ]
  },
  {
   "cell_type": "code",
   "execution_count": null,
   "metadata": {
    "collapsed": false,
    "run_control": {
     "frozen": false,
     "read_only": false
    }
   },
   "outputs": [],
   "source": [
    "low1=np.int32(np.right_shift(np.bitwise_and(test['low'],0x03FFFF000000000),36))\n",
    "s=(np.bitwise_and(low1,0x00020000)!=0)*0xFFFC0000\n",
    "low2=np.int32(np.right_shift(np.bitwise_and(test['low'],0x000000FFFFC0000),18))\n",
    "low_threshold=np.int32(np.bitwise_and(test['low'],0x00000000003FFFF))\n",
    "high1=np.int32(np.right_shift(np.bitwise_and(test['high'],0x03FFFF000000000),36))\n",
    "high2=np.int32(np.right_shift(np.bitwise_and(test['high'],0x000000FFFFC0000),18))\n",
    "high_threshold=np.int32(np.bitwise_and(test['high'],0x00000000003FFFF))"
   ]
  },
  {
   "cell_type": "code",
   "execution_count": null,
   "metadata": {
    "collapsed": false,
    "run_control": {
     "frozen": false,
     "read_only": false
    }
   },
   "outputs": [],
   "source": [
    "np.int32(np.bitwise_or(low1,s))/8.0"
   ]
  },
  {
   "cell_type": "code",
   "execution_count": null,
   "metadata": {
    "collapsed": false,
    "run_control": {
     "frozen": false,
     "read_only": false
    }
   },
   "outputs": [],
   "source": [
    "'{:04X}'.format(low1[0])"
   ]
  },
  {
   "cell_type": "code",
   "execution_count": null,
   "metadata": {
    "collapsed": false,
    "run_control": {
     "frozen": false,
     "read_only": false
    }
   },
   "outputs": [],
   "source": [
    "high1/8.0"
   ]
  },
  {
   "cell_type": "code",
   "execution_count": null,
   "metadata": {
    "collapsed": false,
    "run_control": {
     "frozen": false,
     "read_only": false
    }
   },
   "outputs": [],
   "source": [
    "high2/8.0"
   ]
  },
  {
   "cell_type": "code",
   "execution_count": null,
   "metadata": {
    "collapsed": false,
    "run_control": {
     "frozen": false,
     "read_only": false
    }
   },
   "outputs": [],
   "source": [
    "'{:04X}'.format(high_threshold[0])"
   ]
  },
  {
   "cell_type": "code",
   "execution_count": null,
   "metadata": {
    "collapsed": false,
    "run_control": {
     "frozen": false,
     "read_only": false
    }
   },
   "outputs": [],
   "source": [
    "from enum import Enum"
   ]
  },
  {
   "cell_type": "code",
   "execution_count": null,
   "metadata": {
    "collapsed": false,
    "run_control": {
     "frozen": false,
     "read_only": false
    }
   },
   "outputs": [],
   "source": [
    "class VhdlEnum(int, Enum):\n",
    "\n",
    "    def __str__(self):\n",
    "        return self.name.replace(\"-\", \" \")\n",
    "    \n",
    "    def select(self):\n",
    "        return pow(2, self.value)\n",
    "    "
   ]
  },
  {
   "cell_type": "code",
   "execution_count": null,
   "metadata": {
    "collapsed": false,
    "run_control": {
     "frozen": false,
     "read_only": false
    }
   },
   "outputs": [],
   "source": [
    "class Test(VhdlEnum):\n",
    "    a=0\n",
    "    b=1"
   ]
  },
  {
   "cell_type": "code",
   "execution_count": null,
   "metadata": {
    "collapsed": false,
    "run_control": {
     "frozen": false,
     "read_only": false
    }
   },
   "outputs": [],
   "source": [
    "Test(0)"
   ]
  },
  {
   "cell_type": "code",
   "execution_count": null,
   "metadata": {
    "collapsed": true,
    "run_control": {
     "frozen": false,
     "read_only": false
    }
   },
   "outputs": [],
   "source": []
  }
 ],
 "metadata": {
  "anaconda-cloud": {},
  "kernelspec": {
   "display_name": "Python [conda root]",
   "language": "python",
   "name": "conda-root-py"
  },
  "language_info": {
   "codemirror_mode": {
    "name": "ipython",
    "version": 3
   },
   "file_extension": ".py",
   "mimetype": "text/x-python",
   "name": "python",
   "nbconvert_exporter": "python",
   "pygments_lexer": "ipython3",
   "version": "3.5.3"
  }
 },
 "nbformat": 4,
 "nbformat_minor": 1
}
