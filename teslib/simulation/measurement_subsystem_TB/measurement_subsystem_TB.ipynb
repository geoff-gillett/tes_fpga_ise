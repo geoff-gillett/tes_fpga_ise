{
 "cells": [
  {
   "cell_type": "markdown",
   "metadata": {},
   "source": [
    "timestamp 0 => clk 20\n",
    "\n",
    "traces start at clk 1"
   ]
  },
  {
   "cell_type": "code",
   "execution_count": 1,
   "metadata": {
    "collapsed": false,
    "run_control": {
     "frozen": false,
     "read_only": false
    }
   },
   "outputs": [],
   "source": [
    "from tes.data import Data,PacketStream,Packet,Payload,EventFlags,Event\n",
    "from tes.hdf5 import PacketData, _import\n",
    "import numpy as np\n",
    "import matplotlib.pyplot as plt\n",
    "from subprocess import Popen\n",
    "\n",
    "import logging\n",
    "import sys\n",
    "logger = logging.getLogger('tes')\n",
    "logger.setLevel(logging.DEBUG)\n",
    "handler = logging.StreamHandler(sys.stderr)\n",
    "formatter = logging.Formatter('%(name)s:%(levelname)s %(message)s')\n",
    "handler.setFormatter(formatter)\n",
    "logger.handlers = [handler]\n",
    "\n",
    "trace_dt=np.dtype([('raw','i4'),('filtered','i4'),('slope','i4'),('filteredL','i4')])\n",
    "stream_dt=np.dtype([('data','i4'),('last','i4')])\n",
    "minmax_dt=np.dtype(\n",
    "    [\n",
    "        ('filtered','i4'),('timing_threshold','i4'),\n",
    "        ('height_threshold','i4'),('slope_extrema','i4'),('slope_area','i4'),('clk','i4')\n",
    "    ]\n",
    ")\n",
    "cfd_dt=np.dtype('i4')\n",
    "filteredxing_dt=np.dtype([('extrema','i4'),('area','i4'),('clk','i4')])"
   ]
  },
  {
   "cell_type": "code",
   "execution_count": null,
   "metadata": {
    "collapsed": false,
    "run_control": {
     "frozen": false,
     "read_only": false
    },
    "scrolled": false
   },
   "outputs": [],
   "source": [
    "%matplotlib notebook\n",
    "traces=Data.fromfile('traces',trace_dt,'teslib','measurement_subsystem_TB',tool='vivado')\n",
    "plt.plot(traces['slope'][1100:],'r',linewidth=1)\n",
    "plt.plot(traces['raw'][1100:],linewidth=0.5)\n",
    "plt.plot(traces['filtered'][1100:],'k',linewidth=2)"
   ]
  },
  {
   "cell_type": "code",
   "execution_count": 2,
   "metadata": {
    "collapsed": false
   },
   "outputs": [
    {
     "name": "stderr",
     "output_type": "stream",
     "text": [
      "tes.hdf5:DEBUG PacketData: from ndarray\n",
      "tes.hdf5:INFO import:pass 1: calculating sizes for hdf5 pre-allocation\n",
      "tes.hdf5:INFO import:pass 1:found 2768 bytes in 15 frames 0 sequence errors.\n",
      "tes.hdf5:DEBUG tick frames: 24 data bytes in 1 frames\n",
      "tes.hdf5:DEBUG event frames: 2624 data bytes in 14 frames\n",
      "tes.hdf5:DEBUG MCA frames: 0 data bytes in 0 frames\n",
      "tes.hdf5:DEBUG unidentified frames: 0 bytes in 0 frames\n",
      "tes.hdf5:INFO import:pass 2:importing data\n"
     ]
    }
   ],
   "source": [
    "import h5py\n",
    "from tes.hdf5 import Trace\n",
    "stream=Data.fromfile('bytestream',stream_dt,'teslib','measurement_subsystem_TB',tool='vivado')\n",
    "packets=PacketData(stream)\n",
    "_import(packets)\n",
    "h=h5py.File('TES.hdf5','r')"
   ]
  },
  {
   "cell_type": "code",
   "execution_count": 3,
   "metadata": {
    "collapsed": false
   },
   "outputs": [
    {
     "name": "stdout",
     "output_type": "stream",
     "text": [
      "1\n",
      "peaks:0\n",
      "rel2min:0\n",
      "channel:0\n",
      "timing:slope_threshold\n",
      "height:cfd_high\n",
      "detection:trace \n",
      " multi_peak:False\n",
      "multi_pulse:False\n",
      "stride:0\n",
      "type:single\n",
      "signal:filtered\n",
      "offset:3\n"
     ]
    },
    {
     "data": {
      "application/javascript": [
       "/* Put everything inside the global mpl namespace */\n",
       "window.mpl = {};\n",
       "\n",
       "\n",
       "mpl.get_websocket_type = function() {\n",
       "    if (typeof(WebSocket) !== 'undefined') {\n",
       "        return WebSocket;\n",
       "    } else if (typeof(MozWebSocket) !== 'undefined') {\n",
       "        return MozWebSocket;\n",
       "    } else {\n",
       "        alert('Your browser does not have WebSocket support.' +\n",
       "              'Please try Chrome, Safari or Firefox ≥ 6. ' +\n",
       "              'Firefox 4 and 5 are also supported but you ' +\n",
       "              'have to enable WebSockets in about:config.');\n",
       "    };\n",
       "}\n",
       "\n",
       "mpl.figure = function(figure_id, websocket, ondownload, parent_element) {\n",
       "    this.id = figure_id;\n",
       "\n",
       "    this.ws = websocket;\n",
       "\n",
       "    this.supports_binary = (this.ws.binaryType != undefined);\n",
       "\n",
       "    if (!this.supports_binary) {\n",
       "        var warnings = document.getElementById(\"mpl-warnings\");\n",
       "        if (warnings) {\n",
       "            warnings.style.display = 'block';\n",
       "            warnings.textContent = (\n",
       "                \"This browser does not support binary websocket messages. \" +\n",
       "                    \"Performance may be slow.\");\n",
       "        }\n",
       "    }\n",
       "\n",
       "    this.imageObj = new Image();\n",
       "\n",
       "    this.context = undefined;\n",
       "    this.message = undefined;\n",
       "    this.canvas = undefined;\n",
       "    this.rubberband_canvas = undefined;\n",
       "    this.rubberband_context = undefined;\n",
       "    this.format_dropdown = undefined;\n",
       "\n",
       "    this.image_mode = 'full';\n",
       "\n",
       "    this.root = $('<div/>');\n",
       "    this._root_extra_style(this.root)\n",
       "    this.root.attr('style', 'display: inline-block');\n",
       "\n",
       "    $(parent_element).append(this.root);\n",
       "\n",
       "    this._init_header(this);\n",
       "    this._init_canvas(this);\n",
       "    this._init_toolbar(this);\n",
       "\n",
       "    var fig = this;\n",
       "\n",
       "    this.waiting = false;\n",
       "\n",
       "    this.ws.onopen =  function () {\n",
       "            fig.send_message(\"supports_binary\", {value: fig.supports_binary});\n",
       "            fig.send_message(\"send_image_mode\", {});\n",
       "            if (mpl.ratio != 1) {\n",
       "                fig.send_message(\"set_dpi_ratio\", {'dpi_ratio': mpl.ratio});\n",
       "            }\n",
       "            fig.send_message(\"refresh\", {});\n",
       "        }\n",
       "\n",
       "    this.imageObj.onload = function() {\n",
       "            if (fig.image_mode == 'full') {\n",
       "                // Full images could contain transparency (where diff images\n",
       "                // almost always do), so we need to clear the canvas so that\n",
       "                // there is no ghosting.\n",
       "                fig.context.clearRect(0, 0, fig.canvas.width, fig.canvas.height);\n",
       "            }\n",
       "            fig.context.drawImage(fig.imageObj, 0, 0);\n",
       "        };\n",
       "\n",
       "    this.imageObj.onunload = function() {\n",
       "        this.ws.close();\n",
       "    }\n",
       "\n",
       "    this.ws.onmessage = this._make_on_message_function(this);\n",
       "\n",
       "    this.ondownload = ondownload;\n",
       "}\n",
       "\n",
       "mpl.figure.prototype._init_header = function() {\n",
       "    var titlebar = $(\n",
       "        '<div class=\"ui-dialog-titlebar ui-widget-header ui-corner-all ' +\n",
       "        'ui-helper-clearfix\"/>');\n",
       "    var titletext = $(\n",
       "        '<div class=\"ui-dialog-title\" style=\"width: 100%; ' +\n",
       "        'text-align: center; padding: 3px;\"/>');\n",
       "    titlebar.append(titletext)\n",
       "    this.root.append(titlebar);\n",
       "    this.header = titletext[0];\n",
       "}\n",
       "\n",
       "\n",
       "\n",
       "mpl.figure.prototype._canvas_extra_style = function(canvas_div) {\n",
       "\n",
       "}\n",
       "\n",
       "\n",
       "mpl.figure.prototype._root_extra_style = function(canvas_div) {\n",
       "\n",
       "}\n",
       "\n",
       "mpl.figure.prototype._init_canvas = function() {\n",
       "    var fig = this;\n",
       "\n",
       "    var canvas_div = $('<div/>');\n",
       "\n",
       "    canvas_div.attr('style', 'position: relative; clear: both; outline: 0');\n",
       "\n",
       "    function canvas_keyboard_event(event) {\n",
       "        return fig.key_event(event, event['data']);\n",
       "    }\n",
       "\n",
       "    canvas_div.keydown('key_press', canvas_keyboard_event);\n",
       "    canvas_div.keyup('key_release', canvas_keyboard_event);\n",
       "    this.canvas_div = canvas_div\n",
       "    this._canvas_extra_style(canvas_div)\n",
       "    this.root.append(canvas_div);\n",
       "\n",
       "    var canvas = $('<canvas/>');\n",
       "    canvas.addClass('mpl-canvas');\n",
       "    canvas.attr('style', \"left: 0; top: 0; z-index: 0; outline: 0\")\n",
       "\n",
       "    this.canvas = canvas[0];\n",
       "    this.context = canvas[0].getContext(\"2d\");\n",
       "\n",
       "    var backingStore = this.context.backingStorePixelRatio ||\n",
       "\tthis.context.webkitBackingStorePixelRatio ||\n",
       "\tthis.context.mozBackingStorePixelRatio ||\n",
       "\tthis.context.msBackingStorePixelRatio ||\n",
       "\tthis.context.oBackingStorePixelRatio ||\n",
       "\tthis.context.backingStorePixelRatio || 1;\n",
       "\n",
       "    mpl.ratio = (window.devicePixelRatio || 1) / backingStore;\n",
       "\n",
       "    var rubberband = $('<canvas/>');\n",
       "    rubberband.attr('style', \"position: absolute; left: 0; top: 0; z-index: 1;\")\n",
       "\n",
       "    var pass_mouse_events = true;\n",
       "\n",
       "    canvas_div.resizable({\n",
       "        start: function(event, ui) {\n",
       "            pass_mouse_events = false;\n",
       "        },\n",
       "        resize: function(event, ui) {\n",
       "            fig.request_resize(ui.size.width, ui.size.height);\n",
       "        },\n",
       "        stop: function(event, ui) {\n",
       "            pass_mouse_events = true;\n",
       "            fig.request_resize(ui.size.width, ui.size.height);\n",
       "        },\n",
       "    });\n",
       "\n",
       "    function mouse_event_fn(event) {\n",
       "        if (pass_mouse_events)\n",
       "            return fig.mouse_event(event, event['data']);\n",
       "    }\n",
       "\n",
       "    rubberband.mousedown('button_press', mouse_event_fn);\n",
       "    rubberband.mouseup('button_release', mouse_event_fn);\n",
       "    // Throttle sequential mouse events to 1 every 20ms.\n",
       "    rubberband.mousemove('motion_notify', mouse_event_fn);\n",
       "\n",
       "    rubberband.mouseenter('figure_enter', mouse_event_fn);\n",
       "    rubberband.mouseleave('figure_leave', mouse_event_fn);\n",
       "\n",
       "    canvas_div.on(\"wheel\", function (event) {\n",
       "        event = event.originalEvent;\n",
       "        event['data'] = 'scroll'\n",
       "        if (event.deltaY < 0) {\n",
       "            event.step = 1;\n",
       "        } else {\n",
       "            event.step = -1;\n",
       "        }\n",
       "        mouse_event_fn(event);\n",
       "    });\n",
       "\n",
       "    canvas_div.append(canvas);\n",
       "    canvas_div.append(rubberband);\n",
       "\n",
       "    this.rubberband = rubberband;\n",
       "    this.rubberband_canvas = rubberband[0];\n",
       "    this.rubberband_context = rubberband[0].getContext(\"2d\");\n",
       "    this.rubberband_context.strokeStyle = \"#000000\";\n",
       "\n",
       "    this._resize_canvas = function(width, height) {\n",
       "        // Keep the size of the canvas, canvas container, and rubber band\n",
       "        // canvas in synch.\n",
       "        canvas_div.css('width', width)\n",
       "        canvas_div.css('height', height)\n",
       "\n",
       "        canvas.attr('width', width * mpl.ratio);\n",
       "        canvas.attr('height', height * mpl.ratio);\n",
       "        canvas.attr('style', 'width: ' + width + 'px; height: ' + height + 'px;');\n",
       "\n",
       "        rubberband.attr('width', width);\n",
       "        rubberband.attr('height', height);\n",
       "    }\n",
       "\n",
       "    // Set the figure to an initial 600x600px, this will subsequently be updated\n",
       "    // upon first draw.\n",
       "    this._resize_canvas(600, 600);\n",
       "\n",
       "    // Disable right mouse context menu.\n",
       "    $(this.rubberband_canvas).bind(\"contextmenu\",function(e){\n",
       "        return false;\n",
       "    });\n",
       "\n",
       "    function set_focus () {\n",
       "        canvas.focus();\n",
       "        canvas_div.focus();\n",
       "    }\n",
       "\n",
       "    window.setTimeout(set_focus, 100);\n",
       "}\n",
       "\n",
       "mpl.figure.prototype._init_toolbar = function() {\n",
       "    var fig = this;\n",
       "\n",
       "    var nav_element = $('<div/>')\n",
       "    nav_element.attr('style', 'width: 100%');\n",
       "    this.root.append(nav_element);\n",
       "\n",
       "    // Define a callback function for later on.\n",
       "    function toolbar_event(event) {\n",
       "        return fig.toolbar_button_onclick(event['data']);\n",
       "    }\n",
       "    function toolbar_mouse_event(event) {\n",
       "        return fig.toolbar_button_onmouseover(event['data']);\n",
       "    }\n",
       "\n",
       "    for(var toolbar_ind in mpl.toolbar_items) {\n",
       "        var name = mpl.toolbar_items[toolbar_ind][0];\n",
       "        var tooltip = mpl.toolbar_items[toolbar_ind][1];\n",
       "        var image = mpl.toolbar_items[toolbar_ind][2];\n",
       "        var method_name = mpl.toolbar_items[toolbar_ind][3];\n",
       "\n",
       "        if (!name) {\n",
       "            // put a spacer in here.\n",
       "            continue;\n",
       "        }\n",
       "        var button = $('<button/>');\n",
       "        button.addClass('ui-button ui-widget ui-state-default ui-corner-all ' +\n",
       "                        'ui-button-icon-only');\n",
       "        button.attr('role', 'button');\n",
       "        button.attr('aria-disabled', 'false');\n",
       "        button.click(method_name, toolbar_event);\n",
       "        button.mouseover(tooltip, toolbar_mouse_event);\n",
       "\n",
       "        var icon_img = $('<span/>');\n",
       "        icon_img.addClass('ui-button-icon-primary ui-icon');\n",
       "        icon_img.addClass(image);\n",
       "        icon_img.addClass('ui-corner-all');\n",
       "\n",
       "        var tooltip_span = $('<span/>');\n",
       "        tooltip_span.addClass('ui-button-text');\n",
       "        tooltip_span.html(tooltip);\n",
       "\n",
       "        button.append(icon_img);\n",
       "        button.append(tooltip_span);\n",
       "\n",
       "        nav_element.append(button);\n",
       "    }\n",
       "\n",
       "    var fmt_picker_span = $('<span/>');\n",
       "\n",
       "    var fmt_picker = $('<select/>');\n",
       "    fmt_picker.addClass('mpl-toolbar-option ui-widget ui-widget-content');\n",
       "    fmt_picker_span.append(fmt_picker);\n",
       "    nav_element.append(fmt_picker_span);\n",
       "    this.format_dropdown = fmt_picker[0];\n",
       "\n",
       "    for (var ind in mpl.extensions) {\n",
       "        var fmt = mpl.extensions[ind];\n",
       "        var option = $(\n",
       "            '<option/>', {selected: fmt === mpl.default_extension}).html(fmt);\n",
       "        fmt_picker.append(option)\n",
       "    }\n",
       "\n",
       "    // Add hover states to the ui-buttons\n",
       "    $( \".ui-button\" ).hover(\n",
       "        function() { $(this).addClass(\"ui-state-hover\");},\n",
       "        function() { $(this).removeClass(\"ui-state-hover\");}\n",
       "    );\n",
       "\n",
       "    var status_bar = $('<span class=\"mpl-message\"/>');\n",
       "    nav_element.append(status_bar);\n",
       "    this.message = status_bar[0];\n",
       "}\n",
       "\n",
       "mpl.figure.prototype.request_resize = function(x_pixels, y_pixels) {\n",
       "    // Request matplotlib to resize the figure. Matplotlib will then trigger a resize in the client,\n",
       "    // which will in turn request a refresh of the image.\n",
       "    this.send_message('resize', {'width': x_pixels, 'height': y_pixels});\n",
       "}\n",
       "\n",
       "mpl.figure.prototype.send_message = function(type, properties) {\n",
       "    properties['type'] = type;\n",
       "    properties['figure_id'] = this.id;\n",
       "    this.ws.send(JSON.stringify(properties));\n",
       "}\n",
       "\n",
       "mpl.figure.prototype.send_draw_message = function() {\n",
       "    if (!this.waiting) {\n",
       "        this.waiting = true;\n",
       "        this.ws.send(JSON.stringify({type: \"draw\", figure_id: this.id}));\n",
       "    }\n",
       "}\n",
       "\n",
       "\n",
       "mpl.figure.prototype.handle_save = function(fig, msg) {\n",
       "    var format_dropdown = fig.format_dropdown;\n",
       "    var format = format_dropdown.options[format_dropdown.selectedIndex].value;\n",
       "    fig.ondownload(fig, format);\n",
       "}\n",
       "\n",
       "\n",
       "mpl.figure.prototype.handle_resize = function(fig, msg) {\n",
       "    var size = msg['size'];\n",
       "    if (size[0] != fig.canvas.width || size[1] != fig.canvas.height) {\n",
       "        fig._resize_canvas(size[0], size[1]);\n",
       "        fig.send_message(\"refresh\", {});\n",
       "    };\n",
       "}\n",
       "\n",
       "mpl.figure.prototype.handle_rubberband = function(fig, msg) {\n",
       "    var x0 = msg['x0'] / mpl.ratio;\n",
       "    var y0 = (fig.canvas.height - msg['y0']) / mpl.ratio;\n",
       "    var x1 = msg['x1'] / mpl.ratio;\n",
       "    var y1 = (fig.canvas.height - msg['y1']) / mpl.ratio;\n",
       "    x0 = Math.floor(x0) + 0.5;\n",
       "    y0 = Math.floor(y0) + 0.5;\n",
       "    x1 = Math.floor(x1) + 0.5;\n",
       "    y1 = Math.floor(y1) + 0.5;\n",
       "    var min_x = Math.min(x0, x1);\n",
       "    var min_y = Math.min(y0, y1);\n",
       "    var width = Math.abs(x1 - x0);\n",
       "    var height = Math.abs(y1 - y0);\n",
       "\n",
       "    fig.rubberband_context.clearRect(\n",
       "        0, 0, fig.canvas.width, fig.canvas.height);\n",
       "\n",
       "    fig.rubberband_context.strokeRect(min_x, min_y, width, height);\n",
       "}\n",
       "\n",
       "mpl.figure.prototype.handle_figure_label = function(fig, msg) {\n",
       "    // Updates the figure title.\n",
       "    fig.header.textContent = msg['label'];\n",
       "}\n",
       "\n",
       "mpl.figure.prototype.handle_cursor = function(fig, msg) {\n",
       "    var cursor = msg['cursor'];\n",
       "    switch(cursor)\n",
       "    {\n",
       "    case 0:\n",
       "        cursor = 'pointer';\n",
       "        break;\n",
       "    case 1:\n",
       "        cursor = 'default';\n",
       "        break;\n",
       "    case 2:\n",
       "        cursor = 'crosshair';\n",
       "        break;\n",
       "    case 3:\n",
       "        cursor = 'move';\n",
       "        break;\n",
       "    }\n",
       "    fig.rubberband_canvas.style.cursor = cursor;\n",
       "}\n",
       "\n",
       "mpl.figure.prototype.handle_message = function(fig, msg) {\n",
       "    fig.message.textContent = msg['message'];\n",
       "}\n",
       "\n",
       "mpl.figure.prototype.handle_draw = function(fig, msg) {\n",
       "    // Request the server to send over a new figure.\n",
       "    fig.send_draw_message();\n",
       "}\n",
       "\n",
       "mpl.figure.prototype.handle_image_mode = function(fig, msg) {\n",
       "    fig.image_mode = msg['mode'];\n",
       "}\n",
       "\n",
       "mpl.figure.prototype.updated_canvas_event = function() {\n",
       "    // Called whenever the canvas gets updated.\n",
       "    this.send_message(\"ack\", {});\n",
       "}\n",
       "\n",
       "// A function to construct a web socket function for onmessage handling.\n",
       "// Called in the figure constructor.\n",
       "mpl.figure.prototype._make_on_message_function = function(fig) {\n",
       "    return function socket_on_message(evt) {\n",
       "        if (evt.data instanceof Blob) {\n",
       "            /* FIXME: We get \"Resource interpreted as Image but\n",
       "             * transferred with MIME type text/plain:\" errors on\n",
       "             * Chrome.  But how to set the MIME type?  It doesn't seem\n",
       "             * to be part of the websocket stream */\n",
       "            evt.data.type = \"image/png\";\n",
       "\n",
       "            /* Free the memory for the previous frames */\n",
       "            if (fig.imageObj.src) {\n",
       "                (window.URL || window.webkitURL).revokeObjectURL(\n",
       "                    fig.imageObj.src);\n",
       "            }\n",
       "\n",
       "            fig.imageObj.src = (window.URL || window.webkitURL).createObjectURL(\n",
       "                evt.data);\n",
       "            fig.updated_canvas_event();\n",
       "            fig.waiting = false;\n",
       "            return;\n",
       "        }\n",
       "        else if (typeof evt.data === 'string' && evt.data.slice(0, 21) == \"data:image/png;base64\") {\n",
       "            fig.imageObj.src = evt.data;\n",
       "            fig.updated_canvas_event();\n",
       "            fig.waiting = false;\n",
       "            return;\n",
       "        }\n",
       "\n",
       "        var msg = JSON.parse(evt.data);\n",
       "        var msg_type = msg['type'];\n",
       "\n",
       "        // Call the  \"handle_{type}\" callback, which takes\n",
       "        // the figure and JSON message as its only arguments.\n",
       "        try {\n",
       "            var callback = fig[\"handle_\" + msg_type];\n",
       "        } catch (e) {\n",
       "            console.log(\"No handler for the '\" + msg_type + \"' message type: \", msg);\n",
       "            return;\n",
       "        }\n",
       "\n",
       "        if (callback) {\n",
       "            try {\n",
       "                // console.log(\"Handling '\" + msg_type + \"' message: \", msg);\n",
       "                callback(fig, msg);\n",
       "            } catch (e) {\n",
       "                console.log(\"Exception inside the 'handler_\" + msg_type + \"' callback:\", e, e.stack, msg);\n",
       "            }\n",
       "        }\n",
       "    };\n",
       "}\n",
       "\n",
       "// from http://stackoverflow.com/questions/1114465/getting-mouse-location-in-canvas\n",
       "mpl.findpos = function(e) {\n",
       "    //this section is from http://www.quirksmode.org/js/events_properties.html\n",
       "    var targ;\n",
       "    if (!e)\n",
       "        e = window.event;\n",
       "    if (e.target)\n",
       "        targ = e.target;\n",
       "    else if (e.srcElement)\n",
       "        targ = e.srcElement;\n",
       "    if (targ.nodeType == 3) // defeat Safari bug\n",
       "        targ = targ.parentNode;\n",
       "\n",
       "    // jQuery normalizes the pageX and pageY\n",
       "    // pageX,Y are the mouse positions relative to the document\n",
       "    // offset() returns the position of the element relative to the document\n",
       "    var x = e.pageX - $(targ).offset().left;\n",
       "    var y = e.pageY - $(targ).offset().top;\n",
       "\n",
       "    return {\"x\": x, \"y\": y};\n",
       "};\n",
       "\n",
       "/*\n",
       " * return a copy of an object with only non-object keys\n",
       " * we need this to avoid circular references\n",
       " * http://stackoverflow.com/a/24161582/3208463\n",
       " */\n",
       "function simpleKeys (original) {\n",
       "  return Object.keys(original).reduce(function (obj, key) {\n",
       "    if (typeof original[key] !== 'object')\n",
       "        obj[key] = original[key]\n",
       "    return obj;\n",
       "  }, {});\n",
       "}\n",
       "\n",
       "mpl.figure.prototype.mouse_event = function(event, name) {\n",
       "    var canvas_pos = mpl.findpos(event)\n",
       "\n",
       "    if (name === 'button_press')\n",
       "    {\n",
       "        this.canvas.focus();\n",
       "        this.canvas_div.focus();\n",
       "    }\n",
       "\n",
       "    var x = canvas_pos.x * mpl.ratio;\n",
       "    var y = canvas_pos.y * mpl.ratio;\n",
       "\n",
       "    this.send_message(name, {x: x, y: y, button: event.button,\n",
       "                             step: event.step,\n",
       "                             guiEvent: simpleKeys(event)});\n",
       "\n",
       "    /* This prevents the web browser from automatically changing to\n",
       "     * the text insertion cursor when the button is pressed.  We want\n",
       "     * to control all of the cursor setting manually through the\n",
       "     * 'cursor' event from matplotlib */\n",
       "    event.preventDefault();\n",
       "    return false;\n",
       "}\n",
       "\n",
       "mpl.figure.prototype._key_event_extra = function(event, name) {\n",
       "    // Handle any extra behaviour associated with a key event\n",
       "}\n",
       "\n",
       "mpl.figure.prototype.key_event = function(event, name) {\n",
       "\n",
       "    // Prevent repeat events\n",
       "    if (name == 'key_press')\n",
       "    {\n",
       "        if (event.which === this._key)\n",
       "            return;\n",
       "        else\n",
       "            this._key = event.which;\n",
       "    }\n",
       "    if (name == 'key_release')\n",
       "        this._key = null;\n",
       "\n",
       "    var value = '';\n",
       "    if (event.ctrlKey && event.which != 17)\n",
       "        value += \"ctrl+\";\n",
       "    if (event.altKey && event.which != 18)\n",
       "        value += \"alt+\";\n",
       "    if (event.shiftKey && event.which != 16)\n",
       "        value += \"shift+\";\n",
       "\n",
       "    value += 'k';\n",
       "    value += event.which.toString();\n",
       "\n",
       "    this._key_event_extra(event, name);\n",
       "\n",
       "    this.send_message(name, {key: value,\n",
       "                             guiEvent: simpleKeys(event)});\n",
       "    return false;\n",
       "}\n",
       "\n",
       "mpl.figure.prototype.toolbar_button_onclick = function(name) {\n",
       "    if (name == 'download') {\n",
       "        this.handle_save(this, null);\n",
       "    } else {\n",
       "        this.send_message(\"toolbar_button\", {name: name});\n",
       "    }\n",
       "};\n",
       "\n",
       "mpl.figure.prototype.toolbar_button_onmouseover = function(tooltip) {\n",
       "    this.message.textContent = tooltip;\n",
       "};\n",
       "mpl.toolbar_items = [[\"Home\", \"Reset original view\", \"fa fa-home icon-home\", \"home\"], [\"Back\", \"Back to  previous view\", \"fa fa-arrow-left icon-arrow-left\", \"back\"], [\"Forward\", \"Forward to next view\", \"fa fa-arrow-right icon-arrow-right\", \"forward\"], [\"\", \"\", \"\", \"\"], [\"Pan\", \"Pan axes with left mouse, zoom with right\", \"fa fa-arrows icon-move\", \"pan\"], [\"Zoom\", \"Zoom to rectangle\", \"fa fa-square-o icon-check-empty\", \"zoom\"], [\"\", \"\", \"\", \"\"], [\"Download\", \"Download plot\", \"fa fa-floppy-o icon-save\", \"download\"]];\n",
       "\n",
       "mpl.extensions = [\"eps\", \"jpeg\", \"pdf\", \"png\", \"ps\", \"raw\", \"svg\", \"tif\"];\n",
       "\n",
       "mpl.default_extension = \"png\";var comm_websocket_adapter = function(comm) {\n",
       "    // Create a \"websocket\"-like object which calls the given IPython comm\n",
       "    // object with the appropriate methods. Currently this is a non binary\n",
       "    // socket, so there is still some room for performance tuning.\n",
       "    var ws = {};\n",
       "\n",
       "    ws.close = function() {\n",
       "        comm.close()\n",
       "    };\n",
       "    ws.send = function(m) {\n",
       "        //console.log('sending', m);\n",
       "        comm.send(m);\n",
       "    };\n",
       "    // Register the callback with on_msg.\n",
       "    comm.on_msg(function(msg) {\n",
       "        //console.log('receiving', msg['content']['data'], msg);\n",
       "        // Pass the mpl event to the overriden (by mpl) onmessage function.\n",
       "        ws.onmessage(msg['content']['data'])\n",
       "    });\n",
       "    return ws;\n",
       "}\n",
       "\n",
       "mpl.mpl_figure_comm = function(comm, msg) {\n",
       "    // This is the function which gets called when the mpl process\n",
       "    // starts-up an IPython Comm through the \"matplotlib\" channel.\n",
       "\n",
       "    var id = msg.content.data.id;\n",
       "    // Get hold of the div created by the display call when the Comm\n",
       "    // socket was opened in Python.\n",
       "    var element = $(\"#\" + id);\n",
       "    var ws_proxy = comm_websocket_adapter(comm)\n",
       "\n",
       "    function ondownload(figure, format) {\n",
       "        window.open(figure.imageObj.src);\n",
       "    }\n",
       "\n",
       "    var fig = new mpl.figure(id, ws_proxy,\n",
       "                           ondownload,\n",
       "                           element.get(0));\n",
       "\n",
       "    // Call onopen now - mpl needs it, as it is assuming we've passed it a real\n",
       "    // web socket which is closed, not our websocket->open comm proxy.\n",
       "    ws_proxy.onopen();\n",
       "\n",
       "    fig.parent_element = element.get(0);\n",
       "    fig.cell_info = mpl.find_output_cell(\"<div id='\" + id + \"'></div>\");\n",
       "    if (!fig.cell_info) {\n",
       "        console.error(\"Failed to find cell for figure\", id, fig);\n",
       "        return;\n",
       "    }\n",
       "\n",
       "    var output_index = fig.cell_info[2]\n",
       "    var cell = fig.cell_info[0];\n",
       "\n",
       "};\n",
       "\n",
       "mpl.figure.prototype.handle_close = function(fig, msg) {\n",
       "    var width = fig.canvas.width/mpl.ratio\n",
       "    fig.root.unbind('remove')\n",
       "\n",
       "    // Update the output cell to use the data from the current canvas.\n",
       "    fig.push_to_output();\n",
       "    var dataURL = fig.canvas.toDataURL();\n",
       "    // Re-enable the keyboard manager in IPython - without this line, in FF,\n",
       "    // the notebook keyboard shortcuts fail.\n",
       "    IPython.keyboard_manager.enable()\n",
       "    $(fig.parent_element).html('<img src=\"' + dataURL + '\" width=\"' + width + '\">');\n",
       "    fig.close_ws(fig, msg);\n",
       "}\n",
       "\n",
       "mpl.figure.prototype.close_ws = function(fig, msg){\n",
       "    fig.send_message('closing', msg);\n",
       "    // fig.ws.close()\n",
       "}\n",
       "\n",
       "mpl.figure.prototype.push_to_output = function(remove_interactive) {\n",
       "    // Turn the data on the canvas into data in the output cell.\n",
       "    var width = this.canvas.width/mpl.ratio\n",
       "    var dataURL = this.canvas.toDataURL();\n",
       "    this.cell_info[1]['text/html'] = '<img src=\"' + dataURL + '\" width=\"' + width + '\">';\n",
       "}\n",
       "\n",
       "mpl.figure.prototype.updated_canvas_event = function() {\n",
       "    // Tell IPython that the notebook contents must change.\n",
       "    IPython.notebook.set_dirty(true);\n",
       "    this.send_message(\"ack\", {});\n",
       "    var fig = this;\n",
       "    // Wait a second, then push the new image to the DOM so\n",
       "    // that it is saved nicely (might be nice to debounce this).\n",
       "    setTimeout(function () { fig.push_to_output() }, 1000);\n",
       "}\n",
       "\n",
       "mpl.figure.prototype._init_toolbar = function() {\n",
       "    var fig = this;\n",
       "\n",
       "    var nav_element = $('<div/>')\n",
       "    nav_element.attr('style', 'width: 100%');\n",
       "    this.root.append(nav_element);\n",
       "\n",
       "    // Define a callback function for later on.\n",
       "    function toolbar_event(event) {\n",
       "        return fig.toolbar_button_onclick(event['data']);\n",
       "    }\n",
       "    function toolbar_mouse_event(event) {\n",
       "        return fig.toolbar_button_onmouseover(event['data']);\n",
       "    }\n",
       "\n",
       "    for(var toolbar_ind in mpl.toolbar_items){\n",
       "        var name = mpl.toolbar_items[toolbar_ind][0];\n",
       "        var tooltip = mpl.toolbar_items[toolbar_ind][1];\n",
       "        var image = mpl.toolbar_items[toolbar_ind][2];\n",
       "        var method_name = mpl.toolbar_items[toolbar_ind][3];\n",
       "\n",
       "        if (!name) { continue; };\n",
       "\n",
       "        var button = $('<button class=\"btn btn-default\" href=\"#\" title=\"' + name + '\"><i class=\"fa ' + image + ' fa-lg\"></i></button>');\n",
       "        button.click(method_name, toolbar_event);\n",
       "        button.mouseover(tooltip, toolbar_mouse_event);\n",
       "        nav_element.append(button);\n",
       "    }\n",
       "\n",
       "    // Add the status bar.\n",
       "    var status_bar = $('<span class=\"mpl-message\" style=\"text-align:right; float: right;\"/>');\n",
       "    nav_element.append(status_bar);\n",
       "    this.message = status_bar[0];\n",
       "\n",
       "    // Add the close button to the window.\n",
       "    var buttongrp = $('<div class=\"btn-group inline pull-right\"></div>');\n",
       "    var button = $('<button class=\"btn btn-mini btn-primary\" href=\"#\" title=\"Stop Interaction\"><i class=\"fa fa-power-off icon-remove icon-large\"></i></button>');\n",
       "    button.click(function (evt) { fig.handle_close(fig, {}); } );\n",
       "    button.mouseover('Stop Interaction', toolbar_mouse_event);\n",
       "    buttongrp.append(button);\n",
       "    var titlebar = this.root.find($('.ui-dialog-titlebar'));\n",
       "    titlebar.prepend(buttongrp);\n",
       "}\n",
       "\n",
       "mpl.figure.prototype._root_extra_style = function(el){\n",
       "    var fig = this\n",
       "    el.on(\"remove\", function(){\n",
       "\tfig.close_ws(fig, {});\n",
       "    });\n",
       "}\n",
       "\n",
       "mpl.figure.prototype._canvas_extra_style = function(el){\n",
       "    // this is important to make the div 'focusable\n",
       "    el.attr('tabindex', 0)\n",
       "    // reach out to IPython and tell the keyboard manager to turn it's self\n",
       "    // off when our div gets focus\n",
       "\n",
       "    // location in version 3\n",
       "    if (IPython.notebook.keyboard_manager) {\n",
       "        IPython.notebook.keyboard_manager.register_events(el);\n",
       "    }\n",
       "    else {\n",
       "        // location in version 2\n",
       "        IPython.keyboard_manager.register_events(el);\n",
       "    }\n",
       "\n",
       "}\n",
       "\n",
       "mpl.figure.prototype._key_event_extra = function(event, name) {\n",
       "    var manager = IPython.notebook.keyboard_manager;\n",
       "    if (!manager)\n",
       "        manager = IPython.keyboard_manager;\n",
       "\n",
       "    // Check for shift+enter\n",
       "    if (event.shiftKey && event.which == 13) {\n",
       "        this.canvas_div.blur();\n",
       "        // select the cell after this one\n",
       "        var index = IPython.notebook.find_cell_index(this.cell_info[0]);\n",
       "        IPython.notebook.select(index + 1);\n",
       "    }\n",
       "}\n",
       "\n",
       "mpl.figure.prototype.handle_save = function(fig, msg) {\n",
       "    fig.ondownload(fig, null);\n",
       "}\n",
       "\n",
       "\n",
       "mpl.find_output_cell = function(html_output) {\n",
       "    // Return the cell and output element which can be found *uniquely* in the notebook.\n",
       "    // Note - this is a bit hacky, but it is done because the \"notebook_saving.Notebook\"\n",
       "    // IPython event is triggered only after the cells have been serialised, which for\n",
       "    // our purposes (turning an active figure into a static one), is too late.\n",
       "    var cells = IPython.notebook.get_cells();\n",
       "    var ncells = cells.length;\n",
       "    for (var i=0; i<ncells; i++) {\n",
       "        var cell = cells[i];\n",
       "        if (cell.cell_type === 'code'){\n",
       "            for (var j=0; j<cell.output_area.outputs.length; j++) {\n",
       "                var data = cell.output_area.outputs[j];\n",
       "                if (data.data) {\n",
       "                    // IPython >= 3 moved mimebundle to data attribute of output\n",
       "                    data = data.data;\n",
       "                }\n",
       "                if (data['text/html'] == html_output) {\n",
       "                    return [cell, data, j];\n",
       "                }\n",
       "            }\n",
       "        }\n",
       "    }\n",
       "}\n",
       "\n",
       "// Register the function which deals with the matplotlib target/channel.\n",
       "// The kernel may be null if the page has been refreshed.\n",
       "if (IPython.notebook.kernel != null) {\n",
       "    IPython.notebook.kernel.comm_manager.register_target('matplotlib', mpl.mpl_figure_comm);\n",
       "}\n"
      ],
      "text/plain": [
       "<IPython.core.display.Javascript object>"
      ]
     },
     "metadata": {},
     "output_type": "display_data"
    },
    {
     "data": {
      "text/html": [
       "<img src=\"data:image/png;base64,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\" width=\"640\">"
      ],
      "text/plain": [
       "<IPython.core.display.HTML object>"
      ]
     },
     "metadata": {},
     "output_type": "display_data"
    },
    {
     "data": {
      "text/plain": [
       "[<matplotlib.lines.Line2D at 0x8147c50>]"
      ]
     },
     "execution_count": 3,
     "metadata": {},
     "output_type": "execute_result"
    }
   ],
   "source": [
    "%matplotlib notebook\n",
    "t=h['raw_data/event'][h['traces'][0]]\n",
    "tr=Trace(t)\n",
    "print(tr.flags,'\\n',tr.trace_flags)\n",
    "plt.plot(tr.samples)"
   ]
  },
  {
   "cell_type": "code",
   "execution_count": 18,
   "metadata": {
    "collapsed": false
   },
   "outputs": [
    {
     "data": {
      "text/plain": [
       "(6400, 872, 54, 0)"
      ]
     },
     "execution_count": 18,
     "metadata": {},
     "output_type": "execute_result"
    }
   ],
   "source": [
    "tr.pulse.peaks[0]"
   ]
  },
  {
   "cell_type": "code",
   "execution_count": null,
   "metadata": {
    "collapsed": false
   },
   "outputs": [],
   "source": [
    "s=str(tr.flags)\n",
    "s"
   ]
  },
  {
   "cell_type": "code",
   "execution_count": null,
   "metadata": {
    "collapsed": false
   },
   "outputs": [],
   "source": [
    "print(s)"
   ]
  },
  {
   "cell_type": "code",
   "execution_count": null,
   "metadata": {
    "collapsed": false
   },
   "outputs": [],
   "source": [
    "type(h['raw_data/event'][h['traces'][0]])"
   ]
  },
  {
   "cell_type": "code",
   "execution_count": null,
   "metadata": {
    "collapsed": true
   },
   "outputs": [],
   "source": [
    "from tes.hdf5 import Trace"
   ]
  },
  {
   "cell_type": "code",
   "execution_count": null,
   "metadata": {
    "collapsed": false
   },
   "outputs": [],
   "source": [
    "tr.flags"
   ]
  },
  {
   "cell_type": "code",
   "execution_count": null,
   "metadata": {
    "collapsed": false
   },
   "outputs": [],
   "source": [
    "tr.trace_flags"
   ]
  },
  {
   "cell_type": "code",
   "execution_count": null,
   "metadata": {
    "collapsed": false
   },
   "outputs": [],
   "source": [
    "%matplotlib notebook\n",
    "plt.plot(tr.samples)"
   ]
  },
  {
   "cell_type": "code",
   "execution_count": null,
   "metadata": {
    "collapsed": false
   },
   "outputs": [],
   "source": [
    "len(tr.samples)"
   ]
  },
  {
   "cell_type": "code",
   "execution_count": null,
   "metadata": {
    "collapsed": false
   },
   "outputs": [],
   "source": [
    "first_dt = np.dtype([('size', np.uint16), ('tflags0', np.uint8), ('tflags1', np.uint8),\n",
    "        ('flags0', np.uint8), ('flags1', np.uint8), ('time', np.uint16)])\n",
    "\n"
   ]
  },
  {
   "cell_type": "code",
   "execution_count": null,
   "metadata": {
    "collapsed": false
   },
   "outputs": [],
   "source": []
  },
  {
   "cell_type": "code",
   "execution_count": null,
   "metadata": {
    "collapsed": false
   },
   "outputs": [],
   "source": [
    "t[0:8].view(first_dt)"
   ]
  },
  {
   "cell_type": "code",
   "execution_count": null,
   "metadata": {
    "collapsed": true
   },
   "outputs": [],
   "source": []
  },
  {
   "cell_type": "code",
   "execution_count": null,
   "metadata": {
    "collapsed": false
   },
   "outputs": [],
   "source": [
    "_rref = h5py.special_dtype(ref=h5py.RegionReference)\n",
    "h=h5py.File('test.hdf5', 'w')"
   ]
  },
  {
   "cell_type": "code",
   "execution_count": null,
   "metadata": {
    "collapsed": false
   },
   "outputs": [],
   "source": [
    "h.close()"
   ]
  },
  {
   "cell_type": "code",
   "execution_count": null,
   "metadata": {
    "collapsed": false
   },
   "outputs": [],
   "source": [
    "t= np.array((10,),'u1')\n",
    "h.create_dataset('t',(10,),dtype='u1')"
   ]
  },
  {
   "cell_type": "code",
   "execution_count": null,
   "metadata": {
    "collapsed": false
   },
   "outputs": [],
   "source": [
    "h.create_dataset('r',(10,),dtype=_rref)"
   ]
  },
  {
   "cell_type": "code",
   "execution_count": null,
   "metadata": {
    "collapsed": false
   },
   "outputs": [],
   "source": [
    "h.create_dataset('s',(10,),dtype='u1')"
   ]
  },
  {
   "cell_type": "code",
   "execution_count": null,
   "metadata": {
    "collapsed": true
   },
   "outputs": [],
   "source": [
    "h['s'][0]=0\n",
    "h['s'][1]=1"
   ]
  },
  {
   "cell_type": "code",
   "execution_count": null,
   "metadata": {
    "collapsed": false
   },
   "outputs": [],
   "source": [
    "h['r'][0]=h['t'].regionref[0:2]"
   ]
  },
  {
   "cell_type": "code",
   "execution_count": null,
   "metadata": {
    "collapsed": true
   },
   "outputs": [],
   "source": [
    "r=h['r'][0]"
   ]
  },
  {
   "cell_type": "code",
   "execution_count": null,
   "metadata": {
    "collapsed": false
   },
   "outputs": [],
   "source": [
    "t= np.array([0,1,2],'u1')"
   ]
  },
  {
   "cell_type": "code",
   "execution_count": null,
   "metadata": {
    "collapsed": false
   },
   "outputs": [],
   "source": [
    "t = [0,1]\n",
    "\n",
    "f = np.uint64(0)\n",
    "print(type(f))\n",
    "f += len(t)\n",
    "print(type(f))"
   ]
  },
  {
   "cell_type": "code",
   "execution_count": null,
   "metadata": {
    "collapsed": false
   },
   "outputs": [],
   "source": [
    "t[0:1][0]"
   ]
  },
  {
   "cell_type": "code",
   "execution_count": null,
   "metadata": {
    "collapsed": false
   },
   "outputs": [],
   "source": [
    "i=0\n",
    "for p in packets:\n",
    "    if i==7:\n",
    "        break\n",
    "    i+=1"
   ]
  },
  {
   "cell_type": "code",
   "execution_count": null,
   "metadata": {
    "collapsed": false
   },
   "outputs": [],
   "source": [
    "p"
   ]
  },
  {
   "cell_type": "code",
   "execution_count": null,
   "metadata": {
    "collapsed": true
   },
   "outputs": [],
   "source": [
    "lasts = np.where(stream['last'] < 0)[0] + 1"
   ]
  },
  {
   "cell_type": "code",
   "execution_count": null,
   "metadata": {
    "collapsed": false
   },
   "outputs": [],
   "source": [
    "lasts"
   ]
  },
  {
   "cell_type": "code",
   "execution_count": null,
   "metadata": {
    "collapsed": false
   },
   "outputs": [],
   "source": [
    "'last' in stream.dtype.names"
   ]
  },
  {
   "cell_type": "code",
   "execution_count": null,
   "metadata": {
    "collapsed": false
   },
   "outputs": [],
   "source": [
    "isinstance(stream,np.ndarray)"
   ]
  },
  {
   "cell_type": "code",
   "execution_count": null,
   "metadata": {
    "collapsed": false
   },
   "outputs": [],
   "source": [
    "type('poo')"
   ]
  },
  {
   "cell_type": "code",
   "execution_count": null,
   "metadata": {
    "collapsed": false
   },
   "outputs": [],
   "source": [
    "stream[lasts[0]:]"
   ]
  },
  {
   "cell_type": "code",
   "execution_count": null,
   "metadata": {
    "collapsed": false
   },
   "outputs": [],
   "source": [
    "ps=PacketStream(stream)\n",
    "# ps.traces"
   ]
  },
  {
   "cell_type": "code",
   "execution_count": null,
   "metadata": {
    "collapsed": false
   },
   "outputs": [],
   "source": [
    "type(ps[0])"
   ]
  },
  {
   "cell_type": "code",
   "execution_count": null,
   "metadata": {
    "collapsed": false
   },
   "outputs": [],
   "source": [
    "sum(stream['last']<0)"
   ]
  },
  {
   "cell_type": "code",
   "execution_count": null,
   "metadata": {
    "collapsed": false
   },
   "outputs": [],
   "source": [
    "%matplotlib notebook\n",
    "\n",
    "plt.plot(ps.traces[3]._view['trace'])\n",
    "# ps.traces[2]._view['trace'][-20:]"
   ]
  },
  {
   "cell_type": "code",
   "execution_count": null,
   "metadata": {
    "collapsed": false
   },
   "outputs": [],
   "source": [
    "ps.traces"
   ]
  },
  {
   "cell_type": "code",
   "execution_count": null,
   "metadata": {
    "collapsed": false,
    "run_control": {
     "frozen": false,
     "read_only": false
    },
    "scrolled": true
   },
   "outputs": [],
   "source": [
    "traces=Data.fromfile('traces',trace_dt,'teslib','measurement_subsystem_TB',tool='vivado')\n",
    "stream=Data.fromfile('bytestream',stream_dt,'teslib','measurement_subsystem_TB',tool='vivado')\n",
    "bs=PacketStream(stream)\n",
    "dists=bs.distributions\n",
    "#bs.packets\n",
    "dists"
   ]
  },
  {
   "cell_type": "code",
   "execution_count": null,
   "metadata": {
    "collapsed": false
   },
   "outputs": [],
   "source": [
    "d=dists[0]\n",
    "d.counts[-1]"
   ]
  },
  {
   "cell_type": "code",
   "execution_count": null,
   "metadata": {
    "collapsed": false
   },
   "outputs": [],
   "source": [
    "d.total+d.underflow+d.overflow"
   ]
  },
  {
   "cell_type": "code",
   "execution_count": null,
   "metadata": {
    "collapsed": false
   },
   "outputs": [],
   "source": [
    "%matplotlib notebook\n",
    "plt.plot(d.bins)"
   ]
  },
  {
   "cell_type": "code",
   "execution_count": null,
   "metadata": {
    "collapsed": false,
    "scrolled": false
   },
   "outputs": [],
   "source": [
    "f=EventFlags(es[2][2]['flags'])\n",
    "f.channel"
   ]
  },
  {
   "cell_type": "code",
   "execution_count": null,
   "metadata": {
    "collapsed": false,
    "run_control": {
     "frozen": false,
     "read_only": false
    },
    "scrolled": true
   },
   "outputs": [],
   "source": [
    "import tes.mca as mca\n",
    "d=bs.distributions[0]\n",
    "eset=np.uint64(1)\n",
    "bset=np.uint64(0)\n",
    "cset=np.uint64(20)\n",
    "\n",
    "stop=d.stop_time+eset+cset\n",
    "start=d.start_time+bset+cset\n",
    "bins=np.zeros((d.last_bin+1,),dtype=np.uint32)\n",
    "\n",
    "if d.value==mca.Value.raw_signal:\n",
    "    tname='raw'\n",
    "elif d.value==mca.Value.filtered_signal:\n",
    "    tname='filtered'\n",
    "elif d.value==mca.Value.slope_signal:\n",
    "    tname='slope'\n",
    "\n",
    "for i in range(start,stop):\n",
    "    s = traces[tname][i]\n",
    "    if s < d.lowest_value:\n",
    "        bins[0] += 1\n",
    "    else:\n",
    "        bin_number = s - d.lowest_value + 1\n",
    "        if bin_number < d.last_bin:\n",
    "            bins[bin_number] += 1\n",
    "        else:\n",
    "            bins[d.last_bin] += 1\n",
    "        \n",
    "bad=(bins-d.counts).nonzero()\n",
    "bad"
   ]
  },
  {
   "cell_type": "code",
   "execution_count": null,
   "metadata": {
    "collapsed": false
   },
   "outputs": [],
   "source": [
    "d.counts[bad][1:10]"
   ]
  },
  {
   "cell_type": "code",
   "execution_count": null,
   "metadata": {
    "collapsed": false
   },
   "outputs": [],
   "source": [
    "bins[bad][1:10]"
   ]
  },
  {
   "cell_type": "code",
   "execution_count": null,
   "metadata": {
    "collapsed": false
   },
   "outputs": [],
   "source": [
    "d.value"
   ]
  },
  {
   "cell_type": "code",
   "execution_count": null,
   "metadata": {
    "collapsed": false,
    "scrolled": false
   },
   "outputs": [],
   "source": [
    "%matplotlib notebook\n",
    "plt.step(np.arange(len(d.bins)),d.bins)\n",
    "# plt.step(np.arange(len(d.counts)),bins)\n",
    "plt.plot(bad,np.zeros_like(bad),'.k')"
   ]
  },
  {
   "cell_type": "code",
   "execution_count": null,
   "metadata": {
    "collapsed": false
   },
   "outputs": [],
   "source": [
    "sum(d.counts)"
   ]
  },
  {
   "cell_type": "code",
   "execution_count": null,
   "metadata": {
    "collapsed": false
   },
   "outputs": [],
   "source": [
    "2**14+2000"
   ]
  },
  {
   "cell_type": "code",
   "execution_count": null,
   "metadata": {
    "collapsed": false,
    "run_control": {
     "frozen": false,
     "read_only": false
    }
   },
   "outputs": [],
   "source": [
    "def plot_event(event_tupple):\n",
    "    pre=200\n",
    "    post=1000\n",
    "    timestamp=event_tupple[0]\n",
    "    event_type=event_tupple[1]\n",
    "    event=event_tupple[2]\n",
    "    flags=EventFlags(event['flags'])\n",
    "    print(flags)\n",
    "    print('timestamp',timestamp, 'time', event['time'])\n",
    "    if flags.type == Event.tick:\n",
    "        return\n",
    "    s=traces['filtered'][timestamp+20-pre:timestamp+20+post]\n",
    "    r=traces['raw'][timestamp+20-pre:timestamp+20+post]\n",
    "    i = np.where(abs(minmax['clk'])<=timestamp+20)[0][-1]\n",
    "    min_t=abs(minmax['clk'][i])-(timestamp+20)\n",
    "#     print(minmax['clk'][i],min_t,i,timestamp)\n",
    "    plt.plot(r,'k',linewidth=0.5)\n",
    "    plt.plot(s,'b',linewidth=2)\n",
    "    plt.plot([pre],s[pre],'sg')\n",
    "    plt.plot([pre+min_t],minmax['filtered'][i],'sr')\n",
    "    if event_type==Event.pulse:\n",
    "        for i in range(flags.peak_number):\n",
    "            p=event['peaks'][i]\n",
    "            plt.plot([0,len(s)-1],[p['height'],p['height']],':r')\n",
    "    else:\n",
    "      plt.plot([0,len(s)-1],[event['height'],event['height']],':r')\n",
    "        \n",
    "    #print(event['height'],event['minima'])\n",
    "    #print(minmax['filtered'][i]==s[pre+min_t])\n",
    "    #print(minmax['filtered'][i]==event['minima'])\n",
    "    #print(s[pre],s[pre-1])"
   ]
  },
  {
   "cell_type": "code",
   "execution_count": null,
   "metadata": {
    "collapsed": false,
    "run_control": {
     "frozen": false,
     "read_only": false
    }
   },
   "outputs": [],
   "source": [
    "pwd"
   ]
  },
  {
   "cell_type": "code",
   "execution_count": null,
   "metadata": {
    "collapsed": false
   },
   "outputs": [],
   "source": [
    "es=bs.eventstream\n",
    "es"
   ]
  },
  {
   "cell_type": "code",
   "execution_count": null,
   "metadata": {
    "collapsed": false,
    "run_control": {
     "frozen": false,
     "read_only": false
    }
   },
   "outputs": [],
   "source": [
    "%matplotlib notebook\n",
    "for e in es:\n",
    "    if e[1]==Event.peak:\n",
    "        plot_event(e)"
   ]
  },
  {
   "cell_type": "code",
   "execution_count": null,
   "metadata": {
    "collapsed": false,
    "run_control": {
     "frozen": false,
     "read_only": false
    }
   },
   "outputs": [],
   "source": [
    "es"
   ]
  },
  {
   "cell_type": "code",
   "execution_count": null,
   "metadata": {
    "collapsed": false,
    "run_control": {
     "frozen": false,
     "read_only": false
    }
   },
   "outputs": [],
   "source": [
    "dists=bs.distributions\n",
    "dists"
   ]
  },
  {
   "cell_type": "code",
   "execution_count": null,
   "metadata": {
    "collapsed": false,
    "run_control": {
     "frozen": false,
     "read_only": false
    }
   },
   "outputs": [],
   "source": [
    "bs.packets[185].payload"
   ]
  },
  {
   "cell_type": "code",
   "execution_count": null,
   "metadata": {
    "collapsed": false,
    "run_control": {
     "frozen": false,
     "read_only": false
    }
   },
   "outputs": [],
   "source": [
    "d=bs.distributions[0]\n",
    "eset=np.uint64(1)\n",
    "bset=np.uint64(0)\n",
    "cset=np.uint64(20)\n",
    "\n",
    "stop=d.stop_time+eset+cset\n",
    "start=d.start_time+bset+cset\n",
    "bins=np.zeros((d.last_bin+1,),dtype=np.uint32)\n",
    "for i in range(start,stop):\n",
    "    s = traces['raw'][i]\n",
    "    if s <= d.lowest_value:\n",
    "        bins[0] += 1\n",
    "    else:\n",
    "        bins[s-d.lowest_value] += 1\n",
    "        \n",
    "(bins-d.counts).nonzero()"
   ]
  },
  {
   "cell_type": "code",
   "execution_count": null,
   "metadata": {
    "collapsed": false,
    "run_control": {
     "frozen": false,
     "read_only": false
    }
   },
   "outputs": [],
   "source": [
    "%matplotlib notebook\n",
    "plt.step(np.arange(len(d.counts)),d.counts)"
   ]
  },
  {
   "cell_type": "code",
   "execution_count": null,
   "metadata": {
    "collapsed": false,
    "run_control": {
     "frozen": false,
     "read_only": false
    }
   },
   "outputs": [],
   "source": [
    "bins[bins.nonzero()]"
   ]
  },
  {
   "cell_type": "code",
   "execution_count": null,
   "metadata": {
    "collapsed": false,
    "run_control": {
     "frozen": false,
     "read_only": false
    }
   },
   "outputs": [],
   "source": [
    "sum(d.counts)"
   ]
  },
  {
   "cell_type": "code",
   "execution_count": null,
   "metadata": {
    "collapsed": false,
    "run_control": {
     "frozen": false,
     "read_only": false
    }
   },
   "outputs": [],
   "source": [
    "2**14+2000"
   ]
  },
  {
   "cell_type": "code",
   "execution_count": null,
   "metadata": {
    "collapsed": false,
    "run_control": {
     "frozen": false,
     "read_only": false
    }
   },
   "outputs": [],
   "source": [
    "es[3][2]['timestamp']-es[0][2]['timestamp']"
   ]
  },
  {
   "cell_type": "code",
   "execution_count": null,
   "metadata": {
    "collapsed": true,
    "run_control": {
     "frozen": false,
     "read_only": false
    }
   },
   "outputs": [],
   "source": [
    "def xings(s, thresh):\n",
    "    pos=s > thresh\n",
    "    neg=s < thresh\n",
    "    pos0=s >= thresh\n",
    "    neg0=s <= thresh\n",
    "    pos_xing_mask = np.bitwise_and(pos0[1:],neg[0:-1])  \n",
    "    neg_xing_mask = np.bitwise_and(neg0[1:],pos[0:-1])  \n",
    "    return pos_xing_mask.nonzero()[0]+1, neg_xing_mask.nonzero()[0]+1"
   ]
  },
  {
   "cell_type": "code",
   "execution_count": null,
   "metadata": {
    "collapsed": true,
    "run_control": {
     "frozen": false,
     "read_only": false
    }
   },
   "outputs": [],
   "source": [
    "from mpl_toolkits.axes_grid1 import host_subplot\n",
    "\n",
    "def plot_trace(traces,start,width):\n",
    "\n",
    "    ax = host_subplot(111)\n",
    "    axr = ax.twinx()\n",
    "    axt = ax.twiny()\n",
    "#ax.plot(t[0:-1:10],s[0:-1:10],'k')\n",
    "#ax.plot(t,s,'k')\n",
    "    axt.set_xlabel('Time ns',fontsize=18)\n",
    "    ax.set_ylabel('Voltage (Arbitary Units)',fontsize=18)\n",
    "#plt.xticks(visible=False)\n",
    "#plt.yticks(visible=False)\n",
    "#ax.set_xlim(0,t[4000000])\n",
    "#start=902000\n",
    "#width=2500\n",
    "    f=traces['filtered'][start:start+width]\n",
    "    s=traces['slope'][start:start+width]\n",
    "    t=np.arange(len(f))*4e-9\n",
    "#ts=t[pstart:pstop]\n",
    "#axins = fig.add_axes([.4, .45, .45, .4])\n",
    "    ax.set_xlim(t[0],t[-1])\n",
    "    axt.set_xlim(t[0],t[-1])\n",
    "\n",
    "    ylim=(-500,2000)\n",
    "\n",
    "    ax.set_ylim(ylim[0],ylim[1])\n",
    "    axr.set_ylim(ylim[0],ylim[1])\n",
    "\n",
    "    filtered, = ax.step(t,f,'k',lw=2,label='filtered')\n",
    "    slope, = ax.step(t,s,'b',label='slope')\n",
    "    ax.fill_between(t,0,s,alpha=.4)\n",
    "    plt.ylim=ylim\n",
    "\n",
    "pos=s>0\n",
    "neg=s<=0\n",
    "pos_xing_mask = np.bitwise_and(pos[1:-1],neg[0:-2])  \n",
    "neg_xing_mask = np.bitwise_and(neg[1:-1],pos[0:-2])  \n",
    "pos_xing=pos_xing_mask.nonzero()\n",
    "neg_xing=neg_xing_mask.nonzero()\n",
    "\n",
    "rx=[t[pos_xing[0][0]], t[neg_xing[0][0]]]\n",
    "ry=[f[pos_xing[0][0]], f[neg_xing[0][0]]]\n",
    "\n",
    "ax.fill_between(t[pos_xing[0][0]:neg_xing[0][0]],0,s[pos_xing[0][0]:neg_xing[0][0]],alpha=.4,color='r')\n",
    "\n",
    "#plt.plot(rx,[ry[0], ry[0]],'-r',lw=2)\n",
    "#plt.plot([rx[1],rx[1]], ry,'-r',lw=2)\n",
    "# thresholds\n",
    "sthresh = 600\n",
    "pthresh = 1000\n",
    "plt.plot([t[0], t[-1]], [sthresh, sthresh], '--b', lw=2)\n",
    "plt.plot([t[0], t[-1]], [pthresh, pthresh], '--k', lw=2)\n",
    "\n",
    "sthresh_xing=(s>sthresh).nonzero()[0][0]\n",
    "pthresh_xing=(f>pthresh).nonzero()[0][0]\n",
    "\n",
    "\n",
    "cf=.10\n",
    "height = ry[1]-ry[0]\n",
    "cfl=ry[0]+(height*cf)\n",
    "cfh=ry[1]-(height*cf)\n",
    "\n",
    "cfl_xing=(f>cfl).nonzero()[0][0]\n",
    "cfd_low=f[cfl_xing]\n",
    "cfh_xing=(f>cfh).nonzero()[0][0]\n",
    "cfd_high=f[cfh_xing]\n",
    "\n",
    "#plt.plot([t[cfl_xing], t[-1]],[cfd_low, cfd_low], ':r')\n",
    "#plt.plot([t[cfh_xing], t[-1]],[cfd_high, cfd_high], ':r')\n",
    "#plt.plot([x[1], t[-1]],[y[1], y[1]], ':r')\n",
    "plt.legend([filtered, slope],['Signal', 'Slope'],loc=2)\n",
    "\n",
    "#axr = ax.twinx()\n",
    "##################################################################\n",
    "#yticks=([ry[0],sthresh,pthresh,cfd_high,ry[1]])\n",
    "yticks=([sthresh,pthresh])\n",
    "axr.set_yticks(yticks)\n",
    "#yticklabels=['Start','Slope threshold','Pulse threshold','CF high','Peak']\n",
    "yticklabels=['Slope threshold','Pulse threshold']\n",
    "axr.set_yticklabels(yticklabels, color='r',fontsize=14)\n",
    "axr.get_yticklabels()[0].set_color('b')\n",
    "axr.get_yticklabels()[1].set_color('k')\n",
    "\n",
    "#xticks=([rx[0],t[cfl_xing],t[sthresh_xing],t[pthresh_xing],rx[1]])\n",
    "xticks=(t[cfl_xing],rx[1])\n",
    "#ax.set_xticks([rx[0],t[cfl_xing],t[sthresh_xing],t[pthresh_xing],rx[1]])\n",
    "ax.set_xticks(xticks)\n",
    "#xticklabels=['Start','CF low','Slope xing','Signal xing','Peak']\n",
    "xticklabels=['CF low','Peak']\n",
    "ax.set_xticklabels(xticklabels, color='r',fontsize=14)\n",
    "\n",
    "#plt.plot([t[cfh_xing], t[-1]],[cfd_high, cfd_high], ':r')\n",
    "#horoz start, stop lines\n",
    "#hpeak=ax.plot([xticks[1], t[-1]],[yticks[-1], yticks[-1]], '-.r')\n",
    "#hstart=ax.plot([xticks[0], t[-1]],[yticks[0], yticks[0]], '-.r')\n",
    "#vert start stop\n",
    "vstart=ax.plot([xticks[0], xticks[0]],[cfd_low, ylim[0]], '-.r')\n",
    "vpeak=ax.plot([xticks[1], xticks[1]],[ylim[0], ry[1]], '-.r')\n",
    "\n",
    "plt.tight_layout()\n",
    "plt.savefig('..//peakextraction7.svg')\n",
    "plt.show()\n",
    "print('risetime:',(xticks[1]-xticks[0])/4)\n",
    "print('height:',yticks[-1]-yticks[0])\n",
    "print('time:',(xticks[0]-rx[0])/4)\n",
    "print('area',sum(s[pos_xing[0][0]:neg_xing[0][0]])/256)\n"
   ]
  },
  {
   "cell_type": "code",
   "execution_count": null,
   "metadata": {
    "collapsed": true,
    "run_control": {
     "frozen": false,
     "read_only": false
    }
   },
   "outputs": [],
   "source": [
    "slope_0xings = xings(traces['slope'],0)"
   ]
  },
  {
   "cell_type": "code",
   "execution_count": null,
   "metadata": {
    "collapsed": false,
    "run_control": {
     "frozen": false,
     "read_only": false
    }
   },
   "outputs": [],
   "source": [
    "slope_0xings"
   ]
  },
  {
   "cell_type": "code",
   "execution_count": null,
   "metadata": {
    "collapsed": false,
    "run_control": {
     "frozen": false,
     "read_only": false
    }
   },
   "outputs": [],
   "source": [
    "%matplotlib notebook\n",
    "start=10000\n",
    "width=300\n",
    "plt.plot(traces['filtered'][start:start+width]/2)"
   ]
  },
  {
   "cell_type": "code",
   "execution_count": null,
   "metadata": {
    "collapsed": false,
    "run_control": {
     "frozen": false,
     "read_only": false
    }
   },
   "outputs": [],
   "source": [
    "%matplotlib notebook\n",
    "plt.plot(traces['slope'][20400:21700])"
   ]
  },
  {
   "cell_type": "code",
   "execution_count": null,
   "metadata": {
    "collapsed": false,
    "run_control": {
     "frozen": false,
     "read_only": false
    }
   },
   "outputs": [],
   "source": [
    "filtered=traces['filtered'][1100:]\n",
    "filteredL=traces['filteredL'][1100:]"
   ]
  },
  {
   "cell_type": "code",
   "execution_count": null,
   "metadata": {
    "collapsed": false,
    "run_control": {
     "frozen": false,
     "read_only": false
    }
   },
   "outputs": [],
   "source": [
    "filtered[:10]"
   ]
  },
  {
   "cell_type": "code",
   "execution_count": null,
   "metadata": {
    "collapsed": false,
    "run_control": {
     "frozen": false,
     "read_only": false
    }
   },
   "outputs": [],
   "source": [
    "filteredL[:10]/4"
   ]
  },
  {
   "cell_type": "code",
   "execution_count": null,
   "metadata": {
    "collapsed": false,
    "run_control": {
     "frozen": false,
     "read_only": false
    }
   },
   "outputs": [],
   "source": [
    "minmax_dt=np.dtype([('filtered','i4'),('low','i4'),('high','i4'),('clk','i4')])\n",
    "minmax=Data.fromfile('minmax',minmax_dt,'teslib','measurement_subsystem_TB',tool='vivado')\n",
    "fxing_dt=np.dtype([('extrema','i4'),('area','i4'),('clk','i4')])\n",
    "fxing=Data.fromfile('filteredxing',fxing_dt,'teslib','measurement_subsystem_TB',tool='vivado')"
   ]
  },
  {
   "cell_type": "code",
   "execution_count": null,
   "metadata": {
    "collapsed": false,
    "run_control": {
     "frozen": false,
     "read_only": false
    }
   },
   "outputs": [],
   "source": [
    "minmax"
   ]
  },
  {
   "cell_type": "code",
   "execution_count": null,
   "metadata": {
    "collapsed": false,
    "run_control": {
     "frozen": false,
     "read_only": false
    }
   },
   "outputs": [],
   "source": [
    "fxing"
   ]
  },
  {
   "cell_type": "code",
   "execution_count": null,
   "metadata": {
    "collapsed": false,
    "run_control": {
     "frozen": false,
     "read_only": false
    }
   },
   "outputs": [],
   "source": [
    "np.where(fxing['area']==0)"
   ]
  },
  {
   "cell_type": "code",
   "execution_count": null,
   "metadata": {
    "collapsed": false,
    "run_control": {
     "frozen": false,
     "read_only": false
    }
   },
   "outputs": [],
   "source": [
    "np.where(fxing['extrema']==0)"
   ]
  },
  {
   "cell_type": "code",
   "execution_count": null,
   "metadata": {
    "collapsed": false,
    "run_control": {
     "frozen": false,
     "read_only": false
    }
   },
   "outputs": [],
   "source": [
    "fxing[30]"
   ]
  },
  {
   "cell_type": "code",
   "execution_count": null,
   "metadata": {
    "collapsed": false,
    "run_control": {
     "frozen": false,
     "read_only": false
    }
   },
   "outputs": [],
   "source": [
    "exn=np.where(fxing['extrema']<0)\n",
    "clkn=np.where(fxing['clk']>0)"
   ]
  },
  {
   "cell_type": "code",
   "execution_count": null,
   "metadata": {
    "collapsed": true,
    "run_control": {
     "frozen": false,
     "read_only": false
    }
   },
   "outputs": [],
   "source": []
  },
  {
   "cell_type": "code",
   "execution_count": null,
   "metadata": {
    "collapsed": false,
    "run_control": {
     "frozen": false,
     "read_only": false
    }
   },
   "outputs": [],
   "source": [
    "fxing[374]"
   ]
  },
  {
   "cell_type": "code",
   "execution_count": null,
   "metadata": {
    "collapsed": false,
    "run_control": {
     "frozen": false,
     "read_only": false
    }
   },
   "outputs": [],
   "source": [
    "clkn"
   ]
  },
  {
   "cell_type": "code",
   "execution_count": null,
   "metadata": {
    "collapsed": false,
    "run_control": {
     "frozen": false,
     "read_only": false
    }
   },
   "outputs": [],
   "source": [
    "np.where(minmax[maxs[0]-1]['min']!=1)"
   ]
  },
  {
   "cell_type": "code",
   "execution_count": null,
   "metadata": {
    "collapsed": false,
    "run_control": {
     "frozen": false,
     "read_only": false
    }
   },
   "outputs": [],
   "source": [
    "minmax[maxs[0]-1][65]"
   ]
  },
  {
   "cell_type": "code",
   "execution_count": null,
   "metadata": {
    "collapsed": false,
    "run_control": {
     "frozen": false,
     "read_only": false
    }
   },
   "outputs": [],
   "source": [
    "2290-925"
   ]
  },
  {
   "cell_type": "code",
   "execution_count": null,
   "metadata": {
    "collapsed": false,
    "run_control": {
     "frozen": false,
     "read_only": false
    }
   },
   "outputs": [],
   "source": [
    "0.375*4"
   ]
  },
  {
   "cell_type": "code",
   "execution_count": null,
   "metadata": {
    "collapsed": false,
    "run_control": {
     "frozen": false,
     "read_only": false
    }
   },
   "outputs": [],
   "source": [
    "np.where(minmax['clock']==2290)"
   ]
  },
  {
   "cell_type": "code",
   "execution_count": null,
   "metadata": {
    "collapsed": false,
    "run_control": {
     "frozen": false,
     "read_only": false
    }
   },
   "outputs": [],
   "source": [
    "minmax[120:140]"
   ]
  },
  {
   "cell_type": "code",
   "execution_count": null,
   "metadata": {
    "collapsed": false,
    "run_control": {
     "frozen": false,
     "read_only": false
    }
   },
   "outputs": [],
   "source": [
    "stream_dt=np.dtype([('data','>i4'),('last','i4')])\n",
    "#stream=np.fromfile('data/stream',stream_dt)"
   ]
  },
  {
   "cell_type": "markdown",
   "metadata": {},
   "source": [
    "### bytestream stuff"
   ]
  },
  {
   "cell_type": "code",
   "execution_count": null,
   "metadata": {
    "collapsed": false,
    "run_control": {
     "frozen": false,
     "read_only": false
    }
   },
   "outputs": [],
   "source": [
    "stream_dt=np.dtype([('data','i4'),('last','i4')])\n",
    "stream=Data.fromfile('bytestream',stream_dt,'teslib','measurement_subsystem_TB',tool='vivado')\n",
    "lasts=np.where(stream['last']<=0)[0]+1\n",
    "#data=np.copy(stream['data'])"
   ]
  },
  {
   "cell_type": "code",
   "execution_count": null,
   "metadata": {
    "collapsed": false,
    "run_control": {
     "frozen": false,
     "read_only": false
    }
   },
   "outputs": [],
   "source": [
    "stream"
   ]
  },
  {
   "cell_type": "code",
   "execution_count": null,
   "metadata": {
    "collapsed": true,
    "run_control": {
     "frozen": false,
     "read_only": false
    }
   },
   "outputs": [],
   "source": []
  },
  {
   "cell_type": "code",
   "execution_count": null,
   "metadata": {
    "collapsed": true,
    "run_control": {
     "frozen": false,
     "read_only": false
    }
   },
   "outputs": [],
   "source": [
    "stream=np.fromfile('data/bytestream',stream_dt)"
   ]
  },
  {
   "cell_type": "code",
   "execution_count": null,
   "metadata": {
    "collapsed": false,
    "run_control": {
     "frozen": false,
     "read_only": false
    }
   },
   "outputs": [],
   "source": [
    "bs=PacketStream(stream)"
   ]
  },
  {
   "cell_type": "code",
   "execution_count": null,
   "metadata": {
    "collapsed": false,
    "run_control": {
     "frozen": false,
     "read_only": false
    }
   },
   "outputs": [],
   "source": [
    "bs.packets"
   ]
  },
  {
   "cell_type": "code",
   "execution_count": null,
   "metadata": {
    "collapsed": false,
    "run_control": {
     "frozen": false,
     "read_only": false
    }
   },
   "outputs": [],
   "source": [
    "bs.packets[4]"
   ]
  },
  {
   "cell_type": "code",
   "execution_count": null,
   "metadata": {
    "collapsed": true,
    "run_control": {
     "frozen": false,
     "read_only": false
    }
   },
   "outputs": [],
   "source": [
    "eheader_dt=[('etype','<u2'),('length','u2'),()]"
   ]
  },
  {
   "cell_type": "code",
   "execution_count": null,
   "metadata": {
    "collapsed": false,
    "run_control": {
     "frozen": false,
     "read_only": false
    }
   },
   "outputs": [],
   "source": [
    "'{:X}'.format(bs.packets[1].bytes[23])\n"
   ]
  },
  {
   "cell_type": "code",
   "execution_count": null,
   "metadata": {
    "collapsed": false,
    "run_control": {
     "frozen": false,
     "read_only": false
    }
   },
   "outputs": [],
   "source": [
    "'{:X}'.format(bs.packets[0].bytes[28:30].view(np.uint16)[0])"
   ]
  },
  {
   "cell_type": "code",
   "execution_count": null,
   "metadata": {
    "collapsed": true,
    "run_control": {
     "frozen": false,
     "read_only": false
    }
   },
   "outputs": [],
   "source": [
    "pulse_peak_dt=np.dtype([('height','i2'),('rise','i2'),('minima','u2'),('time','i2')])\n",
    "pulse_dt=np.dtype([('size','i2'),('resv','i2'),('flags','i2'),('time','u2'),\n",
    "                  ('area','i4'),('length','i2'),('offset','i2'),('peaks',(pulse_peak_dt,2))])"
   ]
  },
  {
   "cell_type": "code",
   "execution_count": null,
   "metadata": {
    "collapsed": false,
    "run_control": {
     "frozen": false,
     "read_only": false
    }
   },
   "outputs": [],
   "source": [
    "pulses=bs.packets[3].payload.view(pulse_dt)"
   ]
  },
  {
   "cell_type": "code",
   "execution_count": null,
   "metadata": {
    "collapsed": false,
    "run_control": {
     "frozen": false,
     "read_only": false
    }
   },
   "outputs": [],
   "source": [
    "pulses['peaks']"
   ]
  },
  {
   "cell_type": "code",
   "execution_count": null,
   "metadata": {
    "collapsed": false,
    "run_control": {
     "frozen": false,
     "read_only": false
    }
   },
   "outputs": [],
   "source": [
    "pulses['offset']"
   ]
  },
  {
   "cell_type": "code",
   "execution_count": null,
   "metadata": {
    "collapsed": false,
    "run_control": {
     "frozen": false,
     "read_only": false
    }
   },
   "outputs": [],
   "source": [
    "pulses['length']"
   ]
  },
  {
   "cell_type": "code",
   "execution_count": null,
   "metadata": {
    "collapsed": false,
    "run_control": {
     "frozen": false,
     "read_only": false
    }
   },
   "outputs": [],
   "source": [
    "class eflags:\n",
    "    def __init__(self,uint16):\n",
    "        self.new_window=np.bitwise_and(uint16,0x00000001)!=0\n",
    "        self.tick=np.bitwise_and(uint16,0x00000002)!=0\n",
    "        self.type=np.right_shift(np.bitwise_and(uint16,0x0000000c),2)\n",
    "        \n",
    "    def __repr__(self):\n",
    "        return 'New window:{:}\\n'.format(self.new_window) + \\\n",
    "               'Tick:{:}\\n'.format(self.tick) + \\\n",
    "               'Type:{:}\\n'.format(self.type) "
   ]
  },
  {
   "cell_type": "code",
   "execution_count": null,
   "metadata": {
    "collapsed": false,
    "run_control": {
     "frozen": false,
     "read_only": false
    }
   },
   "outputs": [],
   "source": [
    "f=eflags(pulses[0]['flags'])\n",
    "f"
   ]
  },
  {
   "cell_type": "code",
   "execution_count": null,
   "metadata": {
    "collapsed": false,
    "run_control": {
     "frozen": false,
     "read_only": false
    }
   },
   "outputs": [],
   "source": [
    "'{:X}'.format(bs.packets[3].bytes[13:14].view(np.uint16))"
   ]
  },
  {
   "cell_type": "code",
   "execution_count": null,
   "metadata": {
    "collapsed": true,
    "run_control": {
     "frozen": false,
     "read_only": false
    }
   },
   "outputs": [],
   "source": []
  },
  {
   "cell_type": "code",
   "execution_count": null,
   "metadata": {
    "collapsed": false,
    "run_control": {
     "frozen": false,
     "read_only": false
    }
   },
   "outputs": [],
   "source": [
    "'{:X}'.format(bs.packets[3].bytes[14:16].view(np.uint16)[0])"
   ]
  },
  {
   "cell_type": "code",
   "execution_count": null,
   "metadata": {
    "collapsed": false,
    "run_control": {
     "frozen": false,
     "read_only": false
    }
   },
   "outputs": [],
   "source": [
    "bs.packets[3].bytes[14:16].view(np.uint16)[0]"
   ]
  },
  {
   "cell_type": "code",
   "execution_count": null,
   "metadata": {
    "collapsed": false,
    "run_control": {
     "frozen": false,
     "read_only": false
    }
   },
   "outputs": [],
   "source": [
    "bs=np.uint8(stream['data'][:48])"
   ]
  },
  {
   "cell_type": "code",
   "execution_count": null,
   "metadata": {
    "collapsed": false,
    "run_control": {
     "frozen": false,
     "read_only": false
    }
   },
   "outputs": [],
   "source": [
    "bs"
   ]
  },
  {
   "cell_type": "code",
   "execution_count": null,
   "metadata": {
    "collapsed": false,
    "run_control": {
     "frozen": false,
     "read_only": false
    }
   },
   "outputs": [],
   "source": [
    "events=stream['data'].view(event_dt)"
   ]
  },
  {
   "cell_type": "code",
   "execution_count": null,
   "metadata": {
    "collapsed": false,
    "run_control": {
     "frozen": false,
     "read_only": false
    }
   },
   "outputs": [],
   "source": [
    "'{:X}'.format(events['flags'][0])"
   ]
  },
  {
   "cell_type": "code",
   "execution_count": null,
   "metadata": {
    "collapsed": false,
    "run_control": {
     "frozen": false,
     "read_only": false
    }
   },
   "outputs": [],
   "source": [
    "events['rise']"
   ]
  },
  {
   "cell_type": "code",
   "execution_count": null,
   "metadata": {
    "collapsed": false,
    "run_control": {
     "frozen": false,
     "read_only": false
    }
   },
   "outputs": [],
   "source": [
    "events"
   ]
  },
  {
   "cell_type": "code",
   "execution_count": null,
   "metadata": {
    "collapsed": false,
    "run_control": {
     "frozen": false,
     "read_only": false
    }
   },
   "outputs": [],
   "source": [
    "'{:04X}'.format(events['flags'][1])"
   ]
  },
  {
   "cell_type": "code",
   "execution_count": null,
   "metadata": {
    "collapsed": true,
    "run_control": {
     "frozen": false,
     "read_only": false
    }
   },
   "outputs": [],
   "source": [
    "pulse_peak_dt=np.dtype([('time','>i2'),('minima','>i2'),('rise','>u2'),('height','>i2')])\n",
    "pulse_dt=np.dtype([('time','>i2'),('flags','>i2'),('resv','>i2'),('size','>u2'),\n",
    "                  ('offset','>i2'),('length','>i2'),('area','>i4'),('peaks',(pulse_peak_dt,1))])\n",
    "data=np.copy(stream['data'])"
   ]
  },
  {
   "cell_type": "code",
   "execution_count": null,
   "metadata": {
    "collapsed": false,
    "run_control": {
     "frozen": false,
     "read_only": false
    }
   },
   "outputs": [],
   "source": [
    "pulses=data.view(pulse_dt)"
   ]
  },
  {
   "cell_type": "code",
   "execution_count": null,
   "metadata": {
    "collapsed": false,
    "run_control": {
     "frozen": false,
     "read_only": false
    }
   },
   "outputs": [],
   "source": [
    "pulses['peaks']['height']-pulses['peaks']['minima']"
   ]
  },
  {
   "cell_type": "code",
   "execution_count": null,
   "metadata": {
    "collapsed": false,
    "run_control": {
     "frozen": false,
     "read_only": false
    }
   },
   "outputs": [],
   "source": [
    "pulses['peaks']['minima']"
   ]
  },
  {
   "cell_type": "code",
   "execution_count": null,
   "metadata": {
    "collapsed": false,
    "run_control": {
     "frozen": false,
     "read_only": false
    }
   },
   "outputs": [],
   "source": [
    "peak_count=np.right_shift(np.bitwise_and(pulses['flags'],0xF000),12)\n",
    "peak_overflow=np.bitwise_and(pulses['flags'],0x0800)!=0\n",
    "channel=np.right_shift(np.bitwise_and(pulses['flags'],0x0700),8)\n",
    "timing_type=np.right_shift(np.bitwise_and(pulses['flags'],0x00C0),6)\n",
    "height_type=np.right_shift(np.bitwise_and(pulses['flags'],0x0030),4)\n",
    "event_type=np.right_shift(np.bitwise_and(pulses['flags'],0x000E),1)\n",
    "new_window=np.bitwise_and(pulses['flags'],0x0001)!=0"
   ]
  },
  {
   "cell_type": "code",
   "execution_count": null,
   "metadata": {
    "collapsed": false,
    "run_control": {
     "frozen": false,
     "read_only": false
    }
   },
   "outputs": [],
   "source": [
    "peak_overflow"
   ]
  },
  {
   "cell_type": "code",
   "execution_count": null,
   "metadata": {
    "collapsed": true,
    "run_control": {
     "frozen": false,
     "read_only": false
    }
   },
   "outputs": [],
   "source": [
    "test_dt=np.dtype(\n",
    "    [('time','i2'),('flags','i2'),('rise','u2'),('minima','i2'),('low','u8'),('high','u8')]\n",
    ")\n",
    "test=data.view(test_dt)"
   ]
  },
  {
   "cell_type": "code",
   "execution_count": null,
   "metadata": {
    "collapsed": false,
    "run_control": {
     "frozen": false,
     "read_only": false
    }
   },
   "outputs": [],
   "source": [
    "test"
   ]
  },
  {
   "cell_type": "code",
   "execution_count": null,
   "metadata": {
    "collapsed": false,
    "run_control": {
     "frozen": false,
     "read_only": false
    }
   },
   "outputs": [],
   "source": [
    "test['minima']"
   ]
  },
  {
   "cell_type": "code",
   "execution_count": null,
   "metadata": {
    "collapsed": false,
    "run_control": {
     "frozen": false,
     "read_only": false
    }
   },
   "outputs": [],
   "source": [
    "low1=np.int32(np.right_shift(np.bitwise_and(test['low'],0x03FFFF000000000),36))\n",
    "s=(np.bitwise_and(low1,0x00020000)!=0)*0xFFFC0000\n",
    "low2=np.int32(np.right_shift(np.bitwise_and(test['low'],0x000000FFFFC0000),18))\n",
    "low_threshold=np.int32(np.bitwise_and(test['low'],0x00000000003FFFF))\n",
    "high1=np.int32(np.right_shift(np.bitwise_and(test['high'],0x03FFFF000000000),36))\n",
    "high2=np.int32(np.right_shift(np.bitwise_and(test['high'],0x000000FFFFC0000),18))\n",
    "high_threshold=np.int32(np.bitwise_and(test['high'],0x00000000003FFFF))"
   ]
  },
  {
   "cell_type": "code",
   "execution_count": null,
   "metadata": {
    "collapsed": false,
    "run_control": {
     "frozen": false,
     "read_only": false
    }
   },
   "outputs": [],
   "source": [
    "np.int32(np.bitwise_or(low1,s))/8.0"
   ]
  },
  {
   "cell_type": "code",
   "execution_count": null,
   "metadata": {
    "collapsed": false,
    "run_control": {
     "frozen": false,
     "read_only": false
    }
   },
   "outputs": [],
   "source": [
    "'{:04X}'.format(low1[0])"
   ]
  },
  {
   "cell_type": "code",
   "execution_count": null,
   "metadata": {
    "collapsed": false,
    "run_control": {
     "frozen": false,
     "read_only": false
    }
   },
   "outputs": [],
   "source": [
    "high1/8.0"
   ]
  },
  {
   "cell_type": "code",
   "execution_count": null,
   "metadata": {
    "collapsed": false,
    "run_control": {
     "frozen": false,
     "read_only": false
    }
   },
   "outputs": [],
   "source": [
    "high2/8.0"
   ]
  },
  {
   "cell_type": "code",
   "execution_count": null,
   "metadata": {
    "collapsed": false,
    "run_control": {
     "frozen": false,
     "read_only": false
    }
   },
   "outputs": [],
   "source": [
    "'{:04X}'.format(high_threshold[0])"
   ]
  },
  {
   "cell_type": "code",
   "execution_count": null,
   "metadata": {
    "collapsed": false,
    "run_control": {
     "frozen": false,
     "read_only": false
    }
   },
   "outputs": [],
   "source": [
    "from enum import Enum"
   ]
  },
  {
   "cell_type": "code",
   "execution_count": null,
   "metadata": {
    "collapsed": false,
    "run_control": {
     "frozen": false,
     "read_only": false
    }
   },
   "outputs": [],
   "source": [
    "class VhdlEnum(int, Enum):\n",
    "\n",
    "    def __str__(self):\n",
    "        return self.name.replace(\"-\", \" \")\n",
    "    \n",
    "    def select(self):\n",
    "        return pow(2, self.value)\n",
    "    "
   ]
  },
  {
   "cell_type": "code",
   "execution_count": null,
   "metadata": {
    "collapsed": false,
    "run_control": {
     "frozen": false,
     "read_only": false
    }
   },
   "outputs": [],
   "source": [
    "class Test(VhdlEnum):\n",
    "    a=0\n",
    "    b=1"
   ]
  },
  {
   "cell_type": "code",
   "execution_count": null,
   "metadata": {
    "collapsed": false,
    "run_control": {
     "frozen": false,
     "read_only": false
    }
   },
   "outputs": [],
   "source": [
    "Test(0)"
   ]
  },
  {
   "cell_type": "code",
   "execution_count": null,
   "metadata": {
    "collapsed": true,
    "run_control": {
     "frozen": false,
     "read_only": false
    }
   },
   "outputs": [],
   "source": []
  }
 ],
 "metadata": {
  "anaconda-cloud": {},
  "kernelspec": {
   "display_name": "Python [conda root]",
   "language": "python",
   "name": "conda-root-py"
  },
  "language_info": {
   "codemirror_mode": {
    "name": "ipython",
    "version": 3
   },
   "file_extension": ".py",
   "mimetype": "text/x-python",
   "name": "python",
   "nbconvert_exporter": "python",
   "pygments_lexer": "ipython3",
   "version": "3.5.3"
  }
 },
 "nbformat": 4,
 "nbformat_minor": 1
}
