{
 "cells": [
  {
   "cell_type": "markdown",
   "metadata": {},
   "source": [
    "timestamp 0 => clk 20\n",
    "\n",
    "traces start at clk 1"
   ]
  },
  {
   "cell_type": "code",
   "execution_count": 1,
   "metadata": {
    "collapsed": false,
    "run_control": {
     "frozen": false,
     "read_only": false
    }
   },
   "outputs": [],
   "source": [
    "from tes.data import Data,PacketStream,Packet,Payload,EventFlags,Event\n",
    "from tes.hdf5 import _PacketData, _import\n",
    "import numpy as np\n",
    "import matplotlib.pyplot as plt\n",
    "from subprocess import Popen\n",
    "\n",
    "import logging\n",
    "import sys\n",
    "logger = logging.getLogger('tes')\n",
    "logger.setLevel(logging.DEBUG)\n",
    "handler = logging.StreamHandler(sys.stderr)\n",
    "formatter = logging.Formatter('%(name)s:%(levelname)s %(message)s')\n",
    "handler.setFormatter(formatter)\n",
    "logger.handlers = [handler]\n",
    "\n",
    "trace_dt=np.dtype([('raw','i4'),('filtered','i4'),('slope','i4'),('filteredL','i4')])\n",
    "stream_dt=np.dtype([('data','i4'),('last','i4')])\n",
    "minmax_dt=np.dtype(\n",
    "    [\n",
    "        ('filtered','i4'),('timing_threshold','i4'),\n",
    "        ('height_threshold','i4'),('slope_extrema','i4'),('slope_area','i4'),('clk','i4')\n",
    "    ]\n",
    ")\n",
    "cfd_dt=np.dtype('i4')\n",
    "filteredxing_dt=np.dtype([('extrema','i4'),('area','i4'),('clk','i4')])"
   ]
  },
  {
   "cell_type": "code",
   "execution_count": null,
   "metadata": {
    "collapsed": false,
    "run_control": {
     "frozen": false,
     "read_only": false
    },
    "scrolled": false
   },
   "outputs": [],
   "source": [
    "%matplotlib notebook\n",
    "traces=Data.fromfile('traces',trace_dt,'teslib','measurement_subsystem_TB',tool='vivado')\n",
    "plt.plot(traces['slope'][1100:],'r',linewidth=1)\n",
    "plt.plot(traces['raw'][1100:],linewidth=0.5)\n",
    "plt.plot(traces['filtered'][1100:],'k',linewidth=2)"
   ]
  },
  {
   "cell_type": "code",
   "execution_count": 24,
   "metadata": {
    "collapsed": false
   },
   "outputs": [
    {
     "name": "stderr",
     "output_type": "stream",
     "text": [
      "tes.hdf5:DEBUG PacketData: from ndarray\n",
      "tes.hdf5:INFO import:pass 1: calculating sizes for hdf5 pre-allocation\n",
      "tes.hdf5:CRITICAL import:trace length error\n",
      "tes.hdf5:INFO import:pass 1:found 1360 bytes in 19 frames 0 sequence errors.\n",
      "tes.hdf5:DEBUG tick frames: 312 data bytes in 13 frames\n",
      "tes.hdf5:DEBUG event frames: 896 data bytes in 6 frames\n",
      "tes.hdf5:DEBUG MCA frames: 0 data bytes in 0 frames\n",
      "tes.hdf5:DEBUG unidentified frames: 0 bytes in 0 frames\n",
      "tes.hdf5:DEBUG MCA distributions:0  traces:5\n",
      "tes.hdf5:INFO import:pass 2:importing data\n"
     ]
    },
    {
     "ename": "OSError",
     "evalue": "Unable to create file (Unable to truncate a file which is already open)",
     "output_type": "error",
     "traceback": [
      "\u001b[1;31m---------------------------------------------------------------------------\u001b[0m",
      "\u001b[1;31mOSError\u001b[0m                                   Traceback (most recent call last)",
      "\u001b[1;32m<ipython-input-24-07acc2d5788c>\u001b[0m in \u001b[0;36m<module>\u001b[1;34m()\u001b[0m\n\u001b[0;32m      4\u001b[0m \u001b[0mpackets\u001b[0m\u001b[1;33m=\u001b[0m\u001b[0m_PacketData\u001b[0m\u001b[1;33m(\u001b[0m\u001b[0mstream\u001b[0m\u001b[1;33m)\u001b[0m\u001b[1;33m\u001b[0m\u001b[0m\n\u001b[0;32m      5\u001b[0m \u001b[1;32mdel\u001b[0m \u001b[0mstream\u001b[0m\u001b[1;33m\u001b[0m\u001b[0m\n\u001b[1;32m----> 6\u001b[1;33m \u001b[0m_import\u001b[0m\u001b[1;33m(\u001b[0m\u001b[0mpackets\u001b[0m\u001b[1;33m)\u001b[0m\u001b[1;33m\u001b[0m\u001b[0m\n\u001b[0m\u001b[0;32m      7\u001b[0m \u001b[0mh\u001b[0m\u001b[1;33m=\u001b[0m\u001b[0mh5py\u001b[0m\u001b[1;33m.\u001b[0m\u001b[0mFile\u001b[0m\u001b[1;33m(\u001b[0m\u001b[1;34m'TES.hdf5'\u001b[0m\u001b[1;33m,\u001b[0m\u001b[1;34m'r'\u001b[0m\u001b[1;33m)\u001b[0m\u001b[1;33m\u001b[0m\u001b[0m\n",
      "\u001b[1;32mc:\\TES_project\\interface\\python\\tes\\hdf5.py\u001b[0m in \u001b[0;36m_import\u001b[1;34m(data, hdf5_filename)\u001b[0m\n\u001b[0;32m    516\u001b[0m     )\n\u001b[0;32m    517\u001b[0m \u001b[1;33m\u001b[0m\u001b[0m\n\u001b[1;32m--> 518\u001b[1;33m     \u001b[1;32mwith\u001b[0m \u001b[0mh5py\u001b[0m\u001b[1;33m.\u001b[0m\u001b[0mFile\u001b[0m\u001b[1;33m(\u001b[0m\u001b[0mhdf5_filename\u001b[0m\u001b[1;33m,\u001b[0m \u001b[1;34m\"w\"\u001b[0m\u001b[1;33m)\u001b[0m \u001b[1;32mas\u001b[0m \u001b[0mhdf5\u001b[0m\u001b[1;33m:\u001b[0m\u001b[1;33m\u001b[0m\u001b[0m\n\u001b[0m\u001b[0;32m    519\u001b[0m \u001b[1;33m\u001b[0m\u001b[0m\n\u001b[0;32m    520\u001b[0m         \u001b[1;31m# allocation\u001b[0m\u001b[1;33m\u001b[0m\u001b[1;33m\u001b[0m\u001b[0m\n",
      "\u001b[1;32mC:\\Miniconda3\\lib\\site-packages\\h5py\\_hl\\files.py\u001b[0m in \u001b[0;36m__init__\u001b[1;34m(self, name, mode, driver, libver, userblock_size, swmr, **kwds)\u001b[0m\n\u001b[0;32m    270\u001b[0m \u001b[1;33m\u001b[0m\u001b[0m\n\u001b[0;32m    271\u001b[0m                 \u001b[0mfapl\u001b[0m \u001b[1;33m=\u001b[0m \u001b[0mmake_fapl\u001b[0m\u001b[1;33m(\u001b[0m\u001b[0mdriver\u001b[0m\u001b[1;33m,\u001b[0m \u001b[0mlibver\u001b[0m\u001b[1;33m,\u001b[0m \u001b[1;33m**\u001b[0m\u001b[0mkwds\u001b[0m\u001b[1;33m)\u001b[0m\u001b[1;33m\u001b[0m\u001b[0m\n\u001b[1;32m--> 272\u001b[1;33m                 \u001b[0mfid\u001b[0m \u001b[1;33m=\u001b[0m \u001b[0mmake_fid\u001b[0m\u001b[1;33m(\u001b[0m\u001b[0mname\u001b[0m\u001b[1;33m,\u001b[0m \u001b[0mmode\u001b[0m\u001b[1;33m,\u001b[0m \u001b[0muserblock_size\u001b[0m\u001b[1;33m,\u001b[0m \u001b[0mfapl\u001b[0m\u001b[1;33m,\u001b[0m \u001b[0mswmr\u001b[0m\u001b[1;33m=\u001b[0m\u001b[0mswmr\u001b[0m\u001b[1;33m)\u001b[0m\u001b[1;33m\u001b[0m\u001b[0m\n\u001b[0m\u001b[0;32m    273\u001b[0m \u001b[1;33m\u001b[0m\u001b[0m\n\u001b[0;32m    274\u001b[0m                 \u001b[1;32mif\u001b[0m \u001b[0mswmr_support\u001b[0m\u001b[1;33m:\u001b[0m\u001b[1;33m\u001b[0m\u001b[0m\n",
      "\u001b[1;32mC:\\Miniconda3\\lib\\site-packages\\h5py\\_hl\\files.py\u001b[0m in \u001b[0;36mmake_fid\u001b[1;34m(name, mode, userblock_size, fapl, fcpl, swmr)\u001b[0m\n\u001b[0;32m     96\u001b[0m         \u001b[0mfid\u001b[0m \u001b[1;33m=\u001b[0m \u001b[0mh5f\u001b[0m\u001b[1;33m.\u001b[0m\u001b[0mcreate\u001b[0m\u001b[1;33m(\u001b[0m\u001b[0mname\u001b[0m\u001b[1;33m,\u001b[0m \u001b[0mh5f\u001b[0m\u001b[1;33m.\u001b[0m\u001b[0mACC_EXCL\u001b[0m\u001b[1;33m,\u001b[0m \u001b[0mfapl\u001b[0m\u001b[1;33m=\u001b[0m\u001b[0mfapl\u001b[0m\u001b[1;33m,\u001b[0m \u001b[0mfcpl\u001b[0m\u001b[1;33m=\u001b[0m\u001b[0mfcpl\u001b[0m\u001b[1;33m)\u001b[0m\u001b[1;33m\u001b[0m\u001b[0m\n\u001b[0;32m     97\u001b[0m     \u001b[1;32melif\u001b[0m \u001b[0mmode\u001b[0m \u001b[1;33m==\u001b[0m \u001b[1;34m'w'\u001b[0m\u001b[1;33m:\u001b[0m\u001b[1;33m\u001b[0m\u001b[0m\n\u001b[1;32m---> 98\u001b[1;33m         \u001b[0mfid\u001b[0m \u001b[1;33m=\u001b[0m \u001b[0mh5f\u001b[0m\u001b[1;33m.\u001b[0m\u001b[0mcreate\u001b[0m\u001b[1;33m(\u001b[0m\u001b[0mname\u001b[0m\u001b[1;33m,\u001b[0m \u001b[0mh5f\u001b[0m\u001b[1;33m.\u001b[0m\u001b[0mACC_TRUNC\u001b[0m\u001b[1;33m,\u001b[0m \u001b[0mfapl\u001b[0m\u001b[1;33m=\u001b[0m\u001b[0mfapl\u001b[0m\u001b[1;33m,\u001b[0m \u001b[0mfcpl\u001b[0m\u001b[1;33m=\u001b[0m\u001b[0mfcpl\u001b[0m\u001b[1;33m)\u001b[0m\u001b[1;33m\u001b[0m\u001b[0m\n\u001b[0m\u001b[0;32m     99\u001b[0m     \u001b[1;32melif\u001b[0m \u001b[0mmode\u001b[0m \u001b[1;33m==\u001b[0m \u001b[1;34m'a'\u001b[0m\u001b[1;33m:\u001b[0m\u001b[1;33m\u001b[0m\u001b[0m\n\u001b[0;32m    100\u001b[0m         \u001b[1;31m# Open in append mode (read/write).\u001b[0m\u001b[1;33m\u001b[0m\u001b[1;33m\u001b[0m\u001b[0m\n",
      "\u001b[1;32mh5py\\_objects.pyx\u001b[0m in \u001b[0;36mh5py._objects.with_phil.wrapper (C:\\Minonda\\conda-bld\\h5py_1486484495516\\work\\h5py\\_objects.c:2866)\u001b[1;34m()\u001b[0m\n",
      "\u001b[1;32mh5py\\_objects.pyx\u001b[0m in \u001b[0;36mh5py._objects.with_phil.wrapper (C:\\Minonda\\conda-bld\\h5py_1486484495516\\work\\h5py\\_objects.c:2824)\u001b[1;34m()\u001b[0m\n",
      "\u001b[1;32mh5py\\h5f.pyx\u001b[0m in \u001b[0;36mh5py.h5f.create (C:\\Minonda\\conda-bld\\h5py_1486484495516\\work\\h5py\\h5f.c:2279)\u001b[1;34m()\u001b[0m\n",
      "\u001b[1;31mOSError\u001b[0m: Unable to create file (Unable to truncate a file which is already open)"
     ]
    }
   ],
   "source": [
    "import h5py\n",
    "from tes.hdf5 import Trace\n",
    "stream=Data.fromfile('bytestream',stream_dt,'teslib','measurement_subsystem_TB',tool='vivado')\n",
    "packets=_PacketData(stream)\n",
    "del stream\n",
    "_import(packets)\n",
    "h=h5py.File('TES.hdf5','r')"
   ]
  },
  {
   "cell_type": "code",
   "execution_count": 36,
   "metadata": {
    "collapsed": false
   },
   "outputs": [
    {
     "name": "stderr",
     "output_type": "stream",
     "text": [
      "tes.hdf5:DEBUG PacketData: from ndarray\n",
      "tes.hdf5:INFO import:pass 1: calculating sizes for hdf5 pre-allocation\n",
      "tes.hdf5:INFO import:pass 1:found 2096 bytes in 28 frames 0 sequence errors.\n",
      "tes.hdf5:DEBUG tick frames: 192 data bytes in 8 frames\n",
      "tes.hdf5:DEBUG event frames: 1680 data bytes in 20 frames\n",
      "tes.hdf5:DEBUG MCA frames: 0 data bytes in 0 frames\n",
      "tes.hdf5:DEBUG unidentified frames: 0 bytes in 0 frames\n",
      "tes.hdf5:DEBUG MCA distributions:0  traces:6\n",
      "tes.hdf5:INFO import:pass 2:importing data\n"
     ]
    }
   ],
   "source": [
    "h.close()\n",
    "stream=Data.fromfile('bytestream',stream_dt,'teslib','measurement_subsystem_TB',tool='vivado')\n",
    "packets=_PacketData(stream)\n",
    "del stream\n",
    "_import(packets)\n",
    "h=h5py.File('TES.hdf5','r')"
   ]
  },
  {
   "cell_type": "code",
   "execution_count": null,
   "metadata": {
    "collapsed": false
   },
   "outputs": [],
   "source": []
  },
  {
   "cell_type": "code",
   "execution_count": null,
   "metadata": {
    "collapsed": false
   },
   "outputs": [],
   "source": [
    "len(h['traces'])"
   ]
  },
  {
   "cell_type": "code",
   "execution_count": null,
   "metadata": {
    "collapsed": false
   },
   "outputs": [],
   "source": [
    "t=h['raw_data/event'][h['traces'][0]]"
   ]
  },
  {
   "cell_type": "code",
   "execution_count": 37,
   "metadata": {
    "collapsed": false
   },
   "outputs": [
    {
     "name": "stdout",
     "output_type": "stream",
     "text": [
      "peaks:0\n",
      "rel2min:0\n",
      "channel:0\n",
      "timing:slope_threshold\n",
      "height:cfd_high\n",
      "detection:trace \n",
      " multi_peak:False\n",
      "multi_pulse:False\n",
      "stride:0\n",
      "type:average\n",
      "signal:filtered\n",
      "offset:1\n"
     ]
    },
    {
     "data": {
      "application/javascript": [
       "/* Put everything inside the global mpl namespace */\n",
       "window.mpl = {};\n",
       "\n",
       "\n",
       "mpl.get_websocket_type = function() {\n",
       "    if (typeof(WebSocket) !== 'undefined') {\n",
       "        return WebSocket;\n",
       "    } else if (typeof(MozWebSocket) !== 'undefined') {\n",
       "        return MozWebSocket;\n",
       "    } else {\n",
       "        alert('Your browser does not have WebSocket support.' +\n",
       "              'Please try Chrome, Safari or Firefox ≥ 6. ' +\n",
       "              'Firefox 4 and 5 are also supported but you ' +\n",
       "              'have to enable WebSockets in about:config.');\n",
       "    };\n",
       "}\n",
       "\n",
       "mpl.figure = function(figure_id, websocket, ondownload, parent_element) {\n",
       "    this.id = figure_id;\n",
       "\n",
       "    this.ws = websocket;\n",
       "\n",
       "    this.supports_binary = (this.ws.binaryType != undefined);\n",
       "\n",
       "    if (!this.supports_binary) {\n",
       "        var warnings = document.getElementById(\"mpl-warnings\");\n",
       "        if (warnings) {\n",
       "            warnings.style.display = 'block';\n",
       "            warnings.textContent = (\n",
       "                \"This browser does not support binary websocket messages. \" +\n",
       "                    \"Performance may be slow.\");\n",
       "        }\n",
       "    }\n",
       "\n",
       "    this.imageObj = new Image();\n",
       "\n",
       "    this.context = undefined;\n",
       "    this.message = undefined;\n",
       "    this.canvas = undefined;\n",
       "    this.rubberband_canvas = undefined;\n",
       "    this.rubberband_context = undefined;\n",
       "    this.format_dropdown = undefined;\n",
       "\n",
       "    this.image_mode = 'full';\n",
       "\n",
       "    this.root = $('<div/>');\n",
       "    this._root_extra_style(this.root)\n",
       "    this.root.attr('style', 'display: inline-block');\n",
       "\n",
       "    $(parent_element).append(this.root);\n",
       "\n",
       "    this._init_header(this);\n",
       "    this._init_canvas(this);\n",
       "    this._init_toolbar(this);\n",
       "\n",
       "    var fig = this;\n",
       "\n",
       "    this.waiting = false;\n",
       "\n",
       "    this.ws.onopen =  function () {\n",
       "            fig.send_message(\"supports_binary\", {value: fig.supports_binary});\n",
       "            fig.send_message(\"send_image_mode\", {});\n",
       "            if (mpl.ratio != 1) {\n",
       "                fig.send_message(\"set_dpi_ratio\", {'dpi_ratio': mpl.ratio});\n",
       "            }\n",
       "            fig.send_message(\"refresh\", {});\n",
       "        }\n",
       "\n",
       "    this.imageObj.onload = function() {\n",
       "            if (fig.image_mode == 'full') {\n",
       "                // Full images could contain transparency (where diff images\n",
       "                // almost always do), so we need to clear the canvas so that\n",
       "                // there is no ghosting.\n",
       "                fig.context.clearRect(0, 0, fig.canvas.width, fig.canvas.height);\n",
       "            }\n",
       "            fig.context.drawImage(fig.imageObj, 0, 0);\n",
       "        };\n",
       "\n",
       "    this.imageObj.onunload = function() {\n",
       "        this.ws.close();\n",
       "    }\n",
       "\n",
       "    this.ws.onmessage = this._make_on_message_function(this);\n",
       "\n",
       "    this.ondownload = ondownload;\n",
       "}\n",
       "\n",
       "mpl.figure.prototype._init_header = function() {\n",
       "    var titlebar = $(\n",
       "        '<div class=\"ui-dialog-titlebar ui-widget-header ui-corner-all ' +\n",
       "        'ui-helper-clearfix\"/>');\n",
       "    var titletext = $(\n",
       "        '<div class=\"ui-dialog-title\" style=\"width: 100%; ' +\n",
       "        'text-align: center; padding: 3px;\"/>');\n",
       "    titlebar.append(titletext)\n",
       "    this.root.append(titlebar);\n",
       "    this.header = titletext[0];\n",
       "}\n",
       "\n",
       "\n",
       "\n",
       "mpl.figure.prototype._canvas_extra_style = function(canvas_div) {\n",
       "\n",
       "}\n",
       "\n",
       "\n",
       "mpl.figure.prototype._root_extra_style = function(canvas_div) {\n",
       "\n",
       "}\n",
       "\n",
       "mpl.figure.prototype._init_canvas = function() {\n",
       "    var fig = this;\n",
       "\n",
       "    var canvas_div = $('<div/>');\n",
       "\n",
       "    canvas_div.attr('style', 'position: relative; clear: both; outline: 0');\n",
       "\n",
       "    function canvas_keyboard_event(event) {\n",
       "        return fig.key_event(event, event['data']);\n",
       "    }\n",
       "\n",
       "    canvas_div.keydown('key_press', canvas_keyboard_event);\n",
       "    canvas_div.keyup('key_release', canvas_keyboard_event);\n",
       "    this.canvas_div = canvas_div\n",
       "    this._canvas_extra_style(canvas_div)\n",
       "    this.root.append(canvas_div);\n",
       "\n",
       "    var canvas = $('<canvas/>');\n",
       "    canvas.addClass('mpl-canvas');\n",
       "    canvas.attr('style', \"left: 0; top: 0; z-index: 0; outline: 0\")\n",
       "\n",
       "    this.canvas = canvas[0];\n",
       "    this.context = canvas[0].getContext(\"2d\");\n",
       "\n",
       "    var backingStore = this.context.backingStorePixelRatio ||\n",
       "\tthis.context.webkitBackingStorePixelRatio ||\n",
       "\tthis.context.mozBackingStorePixelRatio ||\n",
       "\tthis.context.msBackingStorePixelRatio ||\n",
       "\tthis.context.oBackingStorePixelRatio ||\n",
       "\tthis.context.backingStorePixelRatio || 1;\n",
       "\n",
       "    mpl.ratio = (window.devicePixelRatio || 1) / backingStore;\n",
       "\n",
       "    var rubberband = $('<canvas/>');\n",
       "    rubberband.attr('style', \"position: absolute; left: 0; top: 0; z-index: 1;\")\n",
       "\n",
       "    var pass_mouse_events = true;\n",
       "\n",
       "    canvas_div.resizable({\n",
       "        start: function(event, ui) {\n",
       "            pass_mouse_events = false;\n",
       "        },\n",
       "        resize: function(event, ui) {\n",
       "            fig.request_resize(ui.size.width, ui.size.height);\n",
       "        },\n",
       "        stop: function(event, ui) {\n",
       "            pass_mouse_events = true;\n",
       "            fig.request_resize(ui.size.width, ui.size.height);\n",
       "        },\n",
       "    });\n",
       "\n",
       "    function mouse_event_fn(event) {\n",
       "        if (pass_mouse_events)\n",
       "            return fig.mouse_event(event, event['data']);\n",
       "    }\n",
       "\n",
       "    rubberband.mousedown('button_press', mouse_event_fn);\n",
       "    rubberband.mouseup('button_release', mouse_event_fn);\n",
       "    // Throttle sequential mouse events to 1 every 20ms.\n",
       "    rubberband.mousemove('motion_notify', mouse_event_fn);\n",
       "\n",
       "    rubberband.mouseenter('figure_enter', mouse_event_fn);\n",
       "    rubberband.mouseleave('figure_leave', mouse_event_fn);\n",
       "\n",
       "    canvas_div.on(\"wheel\", function (event) {\n",
       "        event = event.originalEvent;\n",
       "        event['data'] = 'scroll'\n",
       "        if (event.deltaY < 0) {\n",
       "            event.step = 1;\n",
       "        } else {\n",
       "            event.step = -1;\n",
       "        }\n",
       "        mouse_event_fn(event);\n",
       "    });\n",
       "\n",
       "    canvas_div.append(canvas);\n",
       "    canvas_div.append(rubberband);\n",
       "\n",
       "    this.rubberband = rubberband;\n",
       "    this.rubberband_canvas = rubberband[0];\n",
       "    this.rubberband_context = rubberband[0].getContext(\"2d\");\n",
       "    this.rubberband_context.strokeStyle = \"#000000\";\n",
       "\n",
       "    this._resize_canvas = function(width, height) {\n",
       "        // Keep the size of the canvas, canvas container, and rubber band\n",
       "        // canvas in synch.\n",
       "        canvas_div.css('width', width)\n",
       "        canvas_div.css('height', height)\n",
       "\n",
       "        canvas.attr('width', width * mpl.ratio);\n",
       "        canvas.attr('height', height * mpl.ratio);\n",
       "        canvas.attr('style', 'width: ' + width + 'px; height: ' + height + 'px;');\n",
       "\n",
       "        rubberband.attr('width', width);\n",
       "        rubberband.attr('height', height);\n",
       "    }\n",
       "\n",
       "    // Set the figure to an initial 600x600px, this will subsequently be updated\n",
       "    // upon first draw.\n",
       "    this._resize_canvas(600, 600);\n",
       "\n",
       "    // Disable right mouse context menu.\n",
       "    $(this.rubberband_canvas).bind(\"contextmenu\",function(e){\n",
       "        return false;\n",
       "    });\n",
       "\n",
       "    function set_focus () {\n",
       "        canvas.focus();\n",
       "        canvas_div.focus();\n",
       "    }\n",
       "\n",
       "    window.setTimeout(set_focus, 100);\n",
       "}\n",
       "\n",
       "mpl.figure.prototype._init_toolbar = function() {\n",
       "    var fig = this;\n",
       "\n",
       "    var nav_element = $('<div/>')\n",
       "    nav_element.attr('style', 'width: 100%');\n",
       "    this.root.append(nav_element);\n",
       "\n",
       "    // Define a callback function for later on.\n",
       "    function toolbar_event(event) {\n",
       "        return fig.toolbar_button_onclick(event['data']);\n",
       "    }\n",
       "    function toolbar_mouse_event(event) {\n",
       "        return fig.toolbar_button_onmouseover(event['data']);\n",
       "    }\n",
       "\n",
       "    for(var toolbar_ind in mpl.toolbar_items) {\n",
       "        var name = mpl.toolbar_items[toolbar_ind][0];\n",
       "        var tooltip = mpl.toolbar_items[toolbar_ind][1];\n",
       "        var image = mpl.toolbar_items[toolbar_ind][2];\n",
       "        var method_name = mpl.toolbar_items[toolbar_ind][3];\n",
       "\n",
       "        if (!name) {\n",
       "            // put a spacer in here.\n",
       "            continue;\n",
       "        }\n",
       "        var button = $('<button/>');\n",
       "        button.addClass('ui-button ui-widget ui-state-default ui-corner-all ' +\n",
       "                        'ui-button-icon-only');\n",
       "        button.attr('role', 'button');\n",
       "        button.attr('aria-disabled', 'false');\n",
       "        button.click(method_name, toolbar_event);\n",
       "        button.mouseover(tooltip, toolbar_mouse_event);\n",
       "\n",
       "        var icon_img = $('<span/>');\n",
       "        icon_img.addClass('ui-button-icon-primary ui-icon');\n",
       "        icon_img.addClass(image);\n",
       "        icon_img.addClass('ui-corner-all');\n",
       "\n",
       "        var tooltip_span = $('<span/>');\n",
       "        tooltip_span.addClass('ui-button-text');\n",
       "        tooltip_span.html(tooltip);\n",
       "\n",
       "        button.append(icon_img);\n",
       "        button.append(tooltip_span);\n",
       "\n",
       "        nav_element.append(button);\n",
       "    }\n",
       "\n",
       "    var fmt_picker_span = $('<span/>');\n",
       "\n",
       "    var fmt_picker = $('<select/>');\n",
       "    fmt_picker.addClass('mpl-toolbar-option ui-widget ui-widget-content');\n",
       "    fmt_picker_span.append(fmt_picker);\n",
       "    nav_element.append(fmt_picker_span);\n",
       "    this.format_dropdown = fmt_picker[0];\n",
       "\n",
       "    for (var ind in mpl.extensions) {\n",
       "        var fmt = mpl.extensions[ind];\n",
       "        var option = $(\n",
       "            '<option/>', {selected: fmt === mpl.default_extension}).html(fmt);\n",
       "        fmt_picker.append(option)\n",
       "    }\n",
       "\n",
       "    // Add hover states to the ui-buttons\n",
       "    $( \".ui-button\" ).hover(\n",
       "        function() { $(this).addClass(\"ui-state-hover\");},\n",
       "        function() { $(this).removeClass(\"ui-state-hover\");}\n",
       "    );\n",
       "\n",
       "    var status_bar = $('<span class=\"mpl-message\"/>');\n",
       "    nav_element.append(status_bar);\n",
       "    this.message = status_bar[0];\n",
       "}\n",
       "\n",
       "mpl.figure.prototype.request_resize = function(x_pixels, y_pixels) {\n",
       "    // Request matplotlib to resize the figure. Matplotlib will then trigger a resize in the client,\n",
       "    // which will in turn request a refresh of the image.\n",
       "    this.send_message('resize', {'width': x_pixels, 'height': y_pixels});\n",
       "}\n",
       "\n",
       "mpl.figure.prototype.send_message = function(type, properties) {\n",
       "    properties['type'] = type;\n",
       "    properties['figure_id'] = this.id;\n",
       "    this.ws.send(JSON.stringify(properties));\n",
       "}\n",
       "\n",
       "mpl.figure.prototype.send_draw_message = function() {\n",
       "    if (!this.waiting) {\n",
       "        this.waiting = true;\n",
       "        this.ws.send(JSON.stringify({type: \"draw\", figure_id: this.id}));\n",
       "    }\n",
       "}\n",
       "\n",
       "\n",
       "mpl.figure.prototype.handle_save = function(fig, msg) {\n",
       "    var format_dropdown = fig.format_dropdown;\n",
       "    var format = format_dropdown.options[format_dropdown.selectedIndex].value;\n",
       "    fig.ondownload(fig, format);\n",
       "}\n",
       "\n",
       "\n",
       "mpl.figure.prototype.handle_resize = function(fig, msg) {\n",
       "    var size = msg['size'];\n",
       "    if (size[0] != fig.canvas.width || size[1] != fig.canvas.height) {\n",
       "        fig._resize_canvas(size[0], size[1]);\n",
       "        fig.send_message(\"refresh\", {});\n",
       "    };\n",
       "}\n",
       "\n",
       "mpl.figure.prototype.handle_rubberband = function(fig, msg) {\n",
       "    var x0 = msg['x0'] / mpl.ratio;\n",
       "    var y0 = (fig.canvas.height - msg['y0']) / mpl.ratio;\n",
       "    var x1 = msg['x1'] / mpl.ratio;\n",
       "    var y1 = (fig.canvas.height - msg['y1']) / mpl.ratio;\n",
       "    x0 = Math.floor(x0) + 0.5;\n",
       "    y0 = Math.floor(y0) + 0.5;\n",
       "    x1 = Math.floor(x1) + 0.5;\n",
       "    y1 = Math.floor(y1) + 0.5;\n",
       "    var min_x = Math.min(x0, x1);\n",
       "    var min_y = Math.min(y0, y1);\n",
       "    var width = Math.abs(x1 - x0);\n",
       "    var height = Math.abs(y1 - y0);\n",
       "\n",
       "    fig.rubberband_context.clearRect(\n",
       "        0, 0, fig.canvas.width, fig.canvas.height);\n",
       "\n",
       "    fig.rubberband_context.strokeRect(min_x, min_y, width, height);\n",
       "}\n",
       "\n",
       "mpl.figure.prototype.handle_figure_label = function(fig, msg) {\n",
       "    // Updates the figure title.\n",
       "    fig.header.textContent = msg['label'];\n",
       "}\n",
       "\n",
       "mpl.figure.prototype.handle_cursor = function(fig, msg) {\n",
       "    var cursor = msg['cursor'];\n",
       "    switch(cursor)\n",
       "    {\n",
       "    case 0:\n",
       "        cursor = 'pointer';\n",
       "        break;\n",
       "    case 1:\n",
       "        cursor = 'default';\n",
       "        break;\n",
       "    case 2:\n",
       "        cursor = 'crosshair';\n",
       "        break;\n",
       "    case 3:\n",
       "        cursor = 'move';\n",
       "        break;\n",
       "    }\n",
       "    fig.rubberband_canvas.style.cursor = cursor;\n",
       "}\n",
       "\n",
       "mpl.figure.prototype.handle_message = function(fig, msg) {\n",
       "    fig.message.textContent = msg['message'];\n",
       "}\n",
       "\n",
       "mpl.figure.prototype.handle_draw = function(fig, msg) {\n",
       "    // Request the server to send over a new figure.\n",
       "    fig.send_draw_message();\n",
       "}\n",
       "\n",
       "mpl.figure.prototype.handle_image_mode = function(fig, msg) {\n",
       "    fig.image_mode = msg['mode'];\n",
       "}\n",
       "\n",
       "mpl.figure.prototype.updated_canvas_event = function() {\n",
       "    // Called whenever the canvas gets updated.\n",
       "    this.send_message(\"ack\", {});\n",
       "}\n",
       "\n",
       "// A function to construct a web socket function for onmessage handling.\n",
       "// Called in the figure constructor.\n",
       "mpl.figure.prototype._make_on_message_function = function(fig) {\n",
       "    return function socket_on_message(evt) {\n",
       "        if (evt.data instanceof Blob) {\n",
       "            /* FIXME: We get \"Resource interpreted as Image but\n",
       "             * transferred with MIME type text/plain:\" errors on\n",
       "             * Chrome.  But how to set the MIME type?  It doesn't seem\n",
       "             * to be part of the websocket stream */\n",
       "            evt.data.type = \"image/png\";\n",
       "\n",
       "            /* Free the memory for the previous frames */\n",
       "            if (fig.imageObj.src) {\n",
       "                (window.URL || window.webkitURL).revokeObjectURL(\n",
       "                    fig.imageObj.src);\n",
       "            }\n",
       "\n",
       "            fig.imageObj.src = (window.URL || window.webkitURL).createObjectURL(\n",
       "                evt.data);\n",
       "            fig.updated_canvas_event();\n",
       "            fig.waiting = false;\n",
       "            return;\n",
       "        }\n",
       "        else if (typeof evt.data === 'string' && evt.data.slice(0, 21) == \"data:image/png;base64\") {\n",
       "            fig.imageObj.src = evt.data;\n",
       "            fig.updated_canvas_event();\n",
       "            fig.waiting = false;\n",
       "            return;\n",
       "        }\n",
       "\n",
       "        var msg = JSON.parse(evt.data);\n",
       "        var msg_type = msg['type'];\n",
       "\n",
       "        // Call the  \"handle_{type}\" callback, which takes\n",
       "        // the figure and JSON message as its only arguments.\n",
       "        try {\n",
       "            var callback = fig[\"handle_\" + msg_type];\n",
       "        } catch (e) {\n",
       "            console.log(\"No handler for the '\" + msg_type + \"' message type: \", msg);\n",
       "            return;\n",
       "        }\n",
       "\n",
       "        if (callback) {\n",
       "            try {\n",
       "                // console.log(\"Handling '\" + msg_type + \"' message: \", msg);\n",
       "                callback(fig, msg);\n",
       "            } catch (e) {\n",
       "                console.log(\"Exception inside the 'handler_\" + msg_type + \"' callback:\", e, e.stack, msg);\n",
       "            }\n",
       "        }\n",
       "    };\n",
       "}\n",
       "\n",
       "// from http://stackoverflow.com/questions/1114465/getting-mouse-location-in-canvas\n",
       "mpl.findpos = function(e) {\n",
       "    //this section is from http://www.quirksmode.org/js/events_properties.html\n",
       "    var targ;\n",
       "    if (!e)\n",
       "        e = window.event;\n",
       "    if (e.target)\n",
       "        targ = e.target;\n",
       "    else if (e.srcElement)\n",
       "        targ = e.srcElement;\n",
       "    if (targ.nodeType == 3) // defeat Safari bug\n",
       "        targ = targ.parentNode;\n",
       "\n",
       "    // jQuery normalizes the pageX and pageY\n",
       "    // pageX,Y are the mouse positions relative to the document\n",
       "    // offset() returns the position of the element relative to the document\n",
       "    var x = e.pageX - $(targ).offset().left;\n",
       "    var y = e.pageY - $(targ).offset().top;\n",
       "\n",
       "    return {\"x\": x, \"y\": y};\n",
       "};\n",
       "\n",
       "/*\n",
       " * return a copy of an object with only non-object keys\n",
       " * we need this to avoid circular references\n",
       " * http://stackoverflow.com/a/24161582/3208463\n",
       " */\n",
       "function simpleKeys (original) {\n",
       "  return Object.keys(original).reduce(function (obj, key) {\n",
       "    if (typeof original[key] !== 'object')\n",
       "        obj[key] = original[key]\n",
       "    return obj;\n",
       "  }, {});\n",
       "}\n",
       "\n",
       "mpl.figure.prototype.mouse_event = function(event, name) {\n",
       "    var canvas_pos = mpl.findpos(event)\n",
       "\n",
       "    if (name === 'button_press')\n",
       "    {\n",
       "        this.canvas.focus();\n",
       "        this.canvas_div.focus();\n",
       "    }\n",
       "\n",
       "    var x = canvas_pos.x * mpl.ratio;\n",
       "    var y = canvas_pos.y * mpl.ratio;\n",
       "\n",
       "    this.send_message(name, {x: x, y: y, button: event.button,\n",
       "                             step: event.step,\n",
       "                             guiEvent: simpleKeys(event)});\n",
       "\n",
       "    /* This prevents the web browser from automatically changing to\n",
       "     * the text insertion cursor when the button is pressed.  We want\n",
       "     * to control all of the cursor setting manually through the\n",
       "     * 'cursor' event from matplotlib */\n",
       "    event.preventDefault();\n",
       "    return false;\n",
       "}\n",
       "\n",
       "mpl.figure.prototype._key_event_extra = function(event, name) {\n",
       "    // Handle any extra behaviour associated with a key event\n",
       "}\n",
       "\n",
       "mpl.figure.prototype.key_event = function(event, name) {\n",
       "\n",
       "    // Prevent repeat events\n",
       "    if (name == 'key_press')\n",
       "    {\n",
       "        if (event.which === this._key)\n",
       "            return;\n",
       "        else\n",
       "            this._key = event.which;\n",
       "    }\n",
       "    if (name == 'key_release')\n",
       "        this._key = null;\n",
       "\n",
       "    var value = '';\n",
       "    if (event.ctrlKey && event.which != 17)\n",
       "        value += \"ctrl+\";\n",
       "    if (event.altKey && event.which != 18)\n",
       "        value += \"alt+\";\n",
       "    if (event.shiftKey && event.which != 16)\n",
       "        value += \"shift+\";\n",
       "\n",
       "    value += 'k';\n",
       "    value += event.which.toString();\n",
       "\n",
       "    this._key_event_extra(event, name);\n",
       "\n",
       "    this.send_message(name, {key: value,\n",
       "                             guiEvent: simpleKeys(event)});\n",
       "    return false;\n",
       "}\n",
       "\n",
       "mpl.figure.prototype.toolbar_button_onclick = function(name) {\n",
       "    if (name == 'download') {\n",
       "        this.handle_save(this, null);\n",
       "    } else {\n",
       "        this.send_message(\"toolbar_button\", {name: name});\n",
       "    }\n",
       "};\n",
       "\n",
       "mpl.figure.prototype.toolbar_button_onmouseover = function(tooltip) {\n",
       "    this.message.textContent = tooltip;\n",
       "};\n",
       "mpl.toolbar_items = [[\"Home\", \"Reset original view\", \"fa fa-home icon-home\", \"home\"], [\"Back\", \"Back to  previous view\", \"fa fa-arrow-left icon-arrow-left\", \"back\"], [\"Forward\", \"Forward to next view\", \"fa fa-arrow-right icon-arrow-right\", \"forward\"], [\"\", \"\", \"\", \"\"], [\"Pan\", \"Pan axes with left mouse, zoom with right\", \"fa fa-arrows icon-move\", \"pan\"], [\"Zoom\", \"Zoom to rectangle\", \"fa fa-square-o icon-check-empty\", \"zoom\"], [\"\", \"\", \"\", \"\"], [\"Download\", \"Download plot\", \"fa fa-floppy-o icon-save\", \"download\"]];\n",
       "\n",
       "mpl.extensions = [\"eps\", \"jpeg\", \"pdf\", \"png\", \"ps\", \"raw\", \"svg\", \"tif\"];\n",
       "\n",
       "mpl.default_extension = \"png\";var comm_websocket_adapter = function(comm) {\n",
       "    // Create a \"websocket\"-like object which calls the given IPython comm\n",
       "    // object with the appropriate methods. Currently this is a non binary\n",
       "    // socket, so there is still some room for performance tuning.\n",
       "    var ws = {};\n",
       "\n",
       "    ws.close = function() {\n",
       "        comm.close()\n",
       "    };\n",
       "    ws.send = function(m) {\n",
       "        //console.log('sending', m);\n",
       "        comm.send(m);\n",
       "    };\n",
       "    // Register the callback with on_msg.\n",
       "    comm.on_msg(function(msg) {\n",
       "        //console.log('receiving', msg['content']['data'], msg);\n",
       "        // Pass the mpl event to the overriden (by mpl) onmessage function.\n",
       "        ws.onmessage(msg['content']['data'])\n",
       "    });\n",
       "    return ws;\n",
       "}\n",
       "\n",
       "mpl.mpl_figure_comm = function(comm, msg) {\n",
       "    // This is the function which gets called when the mpl process\n",
       "    // starts-up an IPython Comm through the \"matplotlib\" channel.\n",
       "\n",
       "    var id = msg.content.data.id;\n",
       "    // Get hold of the div created by the display call when the Comm\n",
       "    // socket was opened in Python.\n",
       "    var element = $(\"#\" + id);\n",
       "    var ws_proxy = comm_websocket_adapter(comm)\n",
       "\n",
       "    function ondownload(figure, format) {\n",
       "        window.open(figure.imageObj.src);\n",
       "    }\n",
       "\n",
       "    var fig = new mpl.figure(id, ws_proxy,\n",
       "                           ondownload,\n",
       "                           element.get(0));\n",
       "\n",
       "    // Call onopen now - mpl needs it, as it is assuming we've passed it a real\n",
       "    // web socket which is closed, not our websocket->open comm proxy.\n",
       "    ws_proxy.onopen();\n",
       "\n",
       "    fig.parent_element = element.get(0);\n",
       "    fig.cell_info = mpl.find_output_cell(\"<div id='\" + id + \"'></div>\");\n",
       "    if (!fig.cell_info) {\n",
       "        console.error(\"Failed to find cell for figure\", id, fig);\n",
       "        return;\n",
       "    }\n",
       "\n",
       "    var output_index = fig.cell_info[2]\n",
       "    var cell = fig.cell_info[0];\n",
       "\n",
       "};\n",
       "\n",
       "mpl.figure.prototype.handle_close = function(fig, msg) {\n",
       "    var width = fig.canvas.width/mpl.ratio\n",
       "    fig.root.unbind('remove')\n",
       "\n",
       "    // Update the output cell to use the data from the current canvas.\n",
       "    fig.push_to_output();\n",
       "    var dataURL = fig.canvas.toDataURL();\n",
       "    // Re-enable the keyboard manager in IPython - without this line, in FF,\n",
       "    // the notebook keyboard shortcuts fail.\n",
       "    IPython.keyboard_manager.enable()\n",
       "    $(fig.parent_element).html('<img src=\"' + dataURL + '\" width=\"' + width + '\">');\n",
       "    fig.close_ws(fig, msg);\n",
       "}\n",
       "\n",
       "mpl.figure.prototype.close_ws = function(fig, msg){\n",
       "    fig.send_message('closing', msg);\n",
       "    // fig.ws.close()\n",
       "}\n",
       "\n",
       "mpl.figure.prototype.push_to_output = function(remove_interactive) {\n",
       "    // Turn the data on the canvas into data in the output cell.\n",
       "    var width = this.canvas.width/mpl.ratio\n",
       "    var dataURL = this.canvas.toDataURL();\n",
       "    this.cell_info[1]['text/html'] = '<img src=\"' + dataURL + '\" width=\"' + width + '\">';\n",
       "}\n",
       "\n",
       "mpl.figure.prototype.updated_canvas_event = function() {\n",
       "    // Tell IPython that the notebook contents must change.\n",
       "    IPython.notebook.set_dirty(true);\n",
       "    this.send_message(\"ack\", {});\n",
       "    var fig = this;\n",
       "    // Wait a second, then push the new image to the DOM so\n",
       "    // that it is saved nicely (might be nice to debounce this).\n",
       "    setTimeout(function () { fig.push_to_output() }, 1000);\n",
       "}\n",
       "\n",
       "mpl.figure.prototype._init_toolbar = function() {\n",
       "    var fig = this;\n",
       "\n",
       "    var nav_element = $('<div/>')\n",
       "    nav_element.attr('style', 'width: 100%');\n",
       "    this.root.append(nav_element);\n",
       "\n",
       "    // Define a callback function for later on.\n",
       "    function toolbar_event(event) {\n",
       "        return fig.toolbar_button_onclick(event['data']);\n",
       "    }\n",
       "    function toolbar_mouse_event(event) {\n",
       "        return fig.toolbar_button_onmouseover(event['data']);\n",
       "    }\n",
       "\n",
       "    for(var toolbar_ind in mpl.toolbar_items){\n",
       "        var name = mpl.toolbar_items[toolbar_ind][0];\n",
       "        var tooltip = mpl.toolbar_items[toolbar_ind][1];\n",
       "        var image = mpl.toolbar_items[toolbar_ind][2];\n",
       "        var method_name = mpl.toolbar_items[toolbar_ind][3];\n",
       "\n",
       "        if (!name) { continue; };\n",
       "\n",
       "        var button = $('<button class=\"btn btn-default\" href=\"#\" title=\"' + name + '\"><i class=\"fa ' + image + ' fa-lg\"></i></button>');\n",
       "        button.click(method_name, toolbar_event);\n",
       "        button.mouseover(tooltip, toolbar_mouse_event);\n",
       "        nav_element.append(button);\n",
       "    }\n",
       "\n",
       "    // Add the status bar.\n",
       "    var status_bar = $('<span class=\"mpl-message\" style=\"text-align:right; float: right;\"/>');\n",
       "    nav_element.append(status_bar);\n",
       "    this.message = status_bar[0];\n",
       "\n",
       "    // Add the close button to the window.\n",
       "    var buttongrp = $('<div class=\"btn-group inline pull-right\"></div>');\n",
       "    var button = $('<button class=\"btn btn-mini btn-primary\" href=\"#\" title=\"Stop Interaction\"><i class=\"fa fa-power-off icon-remove icon-large\"></i></button>');\n",
       "    button.click(function (evt) { fig.handle_close(fig, {}); } );\n",
       "    button.mouseover('Stop Interaction', toolbar_mouse_event);\n",
       "    buttongrp.append(button);\n",
       "    var titlebar = this.root.find($('.ui-dialog-titlebar'));\n",
       "    titlebar.prepend(buttongrp);\n",
       "}\n",
       "\n",
       "mpl.figure.prototype._root_extra_style = function(el){\n",
       "    var fig = this\n",
       "    el.on(\"remove\", function(){\n",
       "\tfig.close_ws(fig, {});\n",
       "    });\n",
       "}\n",
       "\n",
       "mpl.figure.prototype._canvas_extra_style = function(el){\n",
       "    // this is important to make the div 'focusable\n",
       "    el.attr('tabindex', 0)\n",
       "    // reach out to IPython and tell the keyboard manager to turn it's self\n",
       "    // off when our div gets focus\n",
       "\n",
       "    // location in version 3\n",
       "    if (IPython.notebook.keyboard_manager) {\n",
       "        IPython.notebook.keyboard_manager.register_events(el);\n",
       "    }\n",
       "    else {\n",
       "        // location in version 2\n",
       "        IPython.keyboard_manager.register_events(el);\n",
       "    }\n",
       "\n",
       "}\n",
       "\n",
       "mpl.figure.prototype._key_event_extra = function(event, name) {\n",
       "    var manager = IPython.notebook.keyboard_manager;\n",
       "    if (!manager)\n",
       "        manager = IPython.keyboard_manager;\n",
       "\n",
       "    // Check for shift+enter\n",
       "    if (event.shiftKey && event.which == 13) {\n",
       "        this.canvas_div.blur();\n",
       "        // select the cell after this one\n",
       "        var index = IPython.notebook.find_cell_index(this.cell_info[0]);\n",
       "        IPython.notebook.select(index + 1);\n",
       "    }\n",
       "}\n",
       "\n",
       "mpl.figure.prototype.handle_save = function(fig, msg) {\n",
       "    fig.ondownload(fig, null);\n",
       "}\n",
       "\n",
       "\n",
       "mpl.find_output_cell = function(html_output) {\n",
       "    // Return the cell and output element which can be found *uniquely* in the notebook.\n",
       "    // Note - this is a bit hacky, but it is done because the \"notebook_saving.Notebook\"\n",
       "    // IPython event is triggered only after the cells have been serialised, which for\n",
       "    // our purposes (turning an active figure into a static one), is too late.\n",
       "    var cells = IPython.notebook.get_cells();\n",
       "    var ncells = cells.length;\n",
       "    for (var i=0; i<ncells; i++) {\n",
       "        var cell = cells[i];\n",
       "        if (cell.cell_type === 'code'){\n",
       "            for (var j=0; j<cell.output_area.outputs.length; j++) {\n",
       "                var data = cell.output_area.outputs[j];\n",
       "                if (data.data) {\n",
       "                    // IPython >= 3 moved mimebundle to data attribute of output\n",
       "                    data = data.data;\n",
       "                }\n",
       "                if (data['text/html'] == html_output) {\n",
       "                    return [cell, data, j];\n",
       "                }\n",
       "            }\n",
       "        }\n",
       "    }\n",
       "}\n",
       "\n",
       "// Register the function which deals with the matplotlib target/channel.\n",
       "// The kernel may be null if the page has been refreshed.\n",
       "if (IPython.notebook.kernel != null) {\n",
       "    IPython.notebook.kernel.comm_manager.register_target('matplotlib', mpl.mpl_figure_comm);\n",
       "}\n"
      ],
      "text/plain": [
       "<IPython.core.display.Javascript object>"
      ]
     },
     "metadata": {},
     "output_type": "display_data"
    },
    {
     "data": {
      "text/html": [
       "<img src=\"data:image/png;base64,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\" width=\"640\">"
      ],
      "text/plain": [
       "<IPython.core.display.HTML object>"
      ]
     },
     "metadata": {},
     "output_type": "display_data"
    },
    {
     "data": {
      "text/plain": [
       "[<matplotlib.lines.Line2D at 0x130b90f0>]"
      ]
     },
     "execution_count": 37,
     "metadata": {},
     "output_type": "execute_result"
    }
   ],
   "source": [
    "%matplotlib notebook\n",
    "t=h['raw_data/event'][h['traces'][5]]\n",
    "tr=Trace(t)\n",
    "print(tr.flags,'\\n',tr.trace_flags)\n",
    "plt.plot(tr.samples)"
   ]
  },
  {
   "cell_type": "code",
   "execution_count": null,
   "metadata": {
    "collapsed": false
   },
   "outputs": [],
   "source": [
    "tr"
   ]
  },
  {
   "cell_type": "code",
   "execution_count": null,
   "metadata": {
    "collapsed": false
   },
   "outputs": [],
   "source": [
    "s=str(tr.flags)\n",
    "s"
   ]
  },
  {
   "cell_type": "code",
   "execution_count": null,
   "metadata": {
    "collapsed": false
   },
   "outputs": [],
   "source": [
    "print(s)"
   ]
  },
  {
   "cell_type": "code",
   "execution_count": null,
   "metadata": {
    "collapsed": false
   },
   "outputs": [],
   "source": [
    "type(h['raw_data/event'][h['traces'][0]])"
   ]
  },
  {
   "cell_type": "code",
   "execution_count": null,
   "metadata": {
    "collapsed": true
   },
   "outputs": [],
   "source": [
    "from tes.hdf5 import Trace"
   ]
  },
  {
   "cell_type": "code",
   "execution_count": null,
   "metadata": {
    "collapsed": false
   },
   "outputs": [],
   "source": [
    "tr.flags"
   ]
  },
  {
   "cell_type": "code",
   "execution_count": null,
   "metadata": {
    "collapsed": false
   },
   "outputs": [],
   "source": [
    "tr.trace_flags"
   ]
  },
  {
   "cell_type": "code",
   "execution_count": null,
   "metadata": {
    "collapsed": false
   },
   "outputs": [],
   "source": [
    "%matplotlib notebook\n",
    "plt.plot(tr.samples)"
   ]
  },
  {
   "cell_type": "code",
   "execution_count": null,
   "metadata": {
    "collapsed": false
   },
   "outputs": [],
   "source": [
    "len(tr.samples)"
   ]
  },
  {
   "cell_type": "code",
   "execution_count": null,
   "metadata": {
    "collapsed": false
   },
   "outputs": [],
   "source": [
    "first_dt = np.dtype([('size', np.uint16), ('tflags0', np.uint8), ('tflags1', np.uint8),\n",
    "        ('flags0', np.uint8), ('flags1', np.uint8), ('time', np.uint16)])\n",
    "\n"
   ]
  },
  {
   "cell_type": "code",
   "execution_count": null,
   "metadata": {
    "collapsed": false
   },
   "outputs": [],
   "source": []
  },
  {
   "cell_type": "code",
   "execution_count": null,
   "metadata": {
    "collapsed": false
   },
   "outputs": [],
   "source": [
    "t[0:8].view(first_dt)"
   ]
  },
  {
   "cell_type": "code",
   "execution_count": null,
   "metadata": {
    "collapsed": true
   },
   "outputs": [],
   "source": []
  },
  {
   "cell_type": "code",
   "execution_count": null,
   "metadata": {
    "collapsed": false
   },
   "outputs": [],
   "source": [
    "_rref = h5py.special_dtype(ref=h5py.RegionReference)\n",
    "h=h5py.File('test.hdf5', 'w')"
   ]
  },
  {
   "cell_type": "code",
   "execution_count": null,
   "metadata": {
    "collapsed": false
   },
   "outputs": [],
   "source": [
    "h.close()"
   ]
  },
  {
   "cell_type": "code",
   "execution_count": null,
   "metadata": {
    "collapsed": false
   },
   "outputs": [],
   "source": [
    "t= np.array((10,),'u1')\n",
    "h.create_dataset('t',(10,),dtype='u1')"
   ]
  },
  {
   "cell_type": "code",
   "execution_count": null,
   "metadata": {
    "collapsed": false
   },
   "outputs": [],
   "source": [
    "h.create_dataset('r',(10,),dtype=_rref)"
   ]
  },
  {
   "cell_type": "code",
   "execution_count": null,
   "metadata": {
    "collapsed": false
   },
   "outputs": [],
   "source": [
    "h.create_dataset('s',(10,),dtype='u1')"
   ]
  },
  {
   "cell_type": "code",
   "execution_count": null,
   "metadata": {
    "collapsed": true
   },
   "outputs": [],
   "source": [
    "h['s'][0]=0\n",
    "h['s'][1]=1"
   ]
  },
  {
   "cell_type": "code",
   "execution_count": null,
   "metadata": {
    "collapsed": false
   },
   "outputs": [],
   "source": [
    "h['r'][0]=h['t'].regionref[0:2]"
   ]
  },
  {
   "cell_type": "code",
   "execution_count": null,
   "metadata": {
    "collapsed": true
   },
   "outputs": [],
   "source": [
    "r=h['r'][0]"
   ]
  },
  {
   "cell_type": "code",
   "execution_count": null,
   "metadata": {
    "collapsed": false
   },
   "outputs": [],
   "source": [
    "t= np.array([0,1,2],'u1')"
   ]
  },
  {
   "cell_type": "code",
   "execution_count": null,
   "metadata": {
    "collapsed": false
   },
   "outputs": [],
   "source": [
    "t = [0,1]\n",
    "\n",
    "f = np.uint64(0)\n",
    "print(type(f))\n",
    "f += len(t)\n",
    "print(type(f))"
   ]
  },
  {
   "cell_type": "code",
   "execution_count": null,
   "metadata": {
    "collapsed": false
   },
   "outputs": [],
   "source": [
    "t[0:1][0]"
   ]
  },
  {
   "cell_type": "code",
   "execution_count": null,
   "metadata": {
    "collapsed": false
   },
   "outputs": [],
   "source": [
    "i=0\n",
    "for p in packets:\n",
    "    if i==7:\n",
    "        break\n",
    "    i+=1"
   ]
  },
  {
   "cell_type": "code",
   "execution_count": null,
   "metadata": {
    "collapsed": false
   },
   "outputs": [],
   "source": [
    "p"
   ]
  },
  {
   "cell_type": "code",
   "execution_count": null,
   "metadata": {
    "collapsed": true
   },
   "outputs": [],
   "source": [
    "lasts = np.where(stream['last'] < 0)[0] + 1"
   ]
  },
  {
   "cell_type": "code",
   "execution_count": null,
   "metadata": {
    "collapsed": false
   },
   "outputs": [],
   "source": [
    "lasts"
   ]
  },
  {
   "cell_type": "code",
   "execution_count": null,
   "metadata": {
    "collapsed": false
   },
   "outputs": [],
   "source": [
    "'last' in stream.dtype.names"
   ]
  },
  {
   "cell_type": "code",
   "execution_count": null,
   "metadata": {
    "collapsed": false
   },
   "outputs": [],
   "source": [
    "isinstance(stream,np.ndarray)"
   ]
  },
  {
   "cell_type": "code",
   "execution_count": null,
   "metadata": {
    "collapsed": false
   },
   "outputs": [],
   "source": [
    "type('poo')"
   ]
  },
  {
   "cell_type": "code",
   "execution_count": null,
   "metadata": {
    "collapsed": false
   },
   "outputs": [],
   "source": [
    "stream[lasts[0]:]"
   ]
  },
  {
   "cell_type": "code",
   "execution_count": null,
   "metadata": {
    "collapsed": false
   },
   "outputs": [],
   "source": [
    "ps=PacketStream(stream)\n",
    "# ps.traces"
   ]
  },
  {
   "cell_type": "code",
   "execution_count": null,
   "metadata": {
    "collapsed": false
   },
   "outputs": [],
   "source": [
    "type(ps[0])"
   ]
  },
  {
   "cell_type": "code",
   "execution_count": null,
   "metadata": {
    "collapsed": false
   },
   "outputs": [],
   "source": [
    "sum(stream['last']<0)"
   ]
  },
  {
   "cell_type": "code",
   "execution_count": null,
   "metadata": {
    "collapsed": false
   },
   "outputs": [],
   "source": [
    "%matplotlib notebook\n",
    "\n",
    "plt.plot(ps.traces[3]._view['trace'])\n",
    "# ps.traces[2]._view['trace'][-20:]"
   ]
  },
  {
   "cell_type": "code",
   "execution_count": null,
   "metadata": {
    "collapsed": false
   },
   "outputs": [],
   "source": [
    "ps.traces"
   ]
  },
  {
   "cell_type": "code",
   "execution_count": null,
   "metadata": {
    "collapsed": false,
    "run_control": {
     "frozen": false,
     "read_only": false
    },
    "scrolled": true
   },
   "outputs": [],
   "source": [
    "traces=Data.fromfile('traces',trace_dt,'teslib','measurement_subsystem_TB',tool='vivado')\n",
    "stream=Data.fromfile('bytestream',stream_dt,'teslib','measurement_subsystem_TB',tool='vivado')\n",
    "bs=PacketStream(stream)\n",
    "dists=bs.distributions\n",
    "#bs.packets\n",
    "dists"
   ]
  },
  {
   "cell_type": "code",
   "execution_count": null,
   "metadata": {
    "collapsed": false
   },
   "outputs": [],
   "source": [
    "d=dists[0]\n",
    "d.counts[-1]"
   ]
  },
  {
   "cell_type": "code",
   "execution_count": null,
   "metadata": {
    "collapsed": false
   },
   "outputs": [],
   "source": [
    "d.total+d.underflow+d.overflow"
   ]
  },
  {
   "cell_type": "code",
   "execution_count": null,
   "metadata": {
    "collapsed": false
   },
   "outputs": [],
   "source": [
    "%matplotlib notebook\n",
    "plt.plot(d.bins)"
   ]
  },
  {
   "cell_type": "code",
   "execution_count": null,
   "metadata": {
    "collapsed": false,
    "scrolled": false
   },
   "outputs": [],
   "source": [
    "f=EventFlags(es[2][2]['flags'])\n",
    "f.channel"
   ]
  },
  {
   "cell_type": "code",
   "execution_count": null,
   "metadata": {
    "collapsed": false,
    "run_control": {
     "frozen": false,
     "read_only": false
    },
    "scrolled": true
   },
   "outputs": [],
   "source": [
    "import tes.mca as mca\n",
    "d=bs.distributions[0]\n",
    "eset=np.uint64(1)\n",
    "bset=np.uint64(0)\n",
    "cset=np.uint64(20)\n",
    "\n",
    "stop=d.stop_time+eset+cset\n",
    "start=d.start_time+bset+cset\n",
    "bins=np.zeros((d.last_bin+1,),dtype=np.uint32)\n",
    "\n",
    "if d.value==mca.Value.raw_signal:\n",
    "    tname='raw'\n",
    "elif d.value==mca.Value.filtered_signal:\n",
    "    tname='filtered'\n",
    "elif d.value==mca.Value.slope_signal:\n",
    "    tname='slope'\n",
    "\n",
    "for i in range(start,stop):\n",
    "    s = traces[tname][i]\n",
    "    if s < d.lowest_value:\n",
    "        bins[0] += 1\n",
    "    else:\n",
    "        bin_number = s - d.lowest_value + 1\n",
    "        if bin_number < d.last_bin:\n",
    "            bins[bin_number] += 1\n",
    "        else:\n",
    "            bins[d.last_bin] += 1\n",
    "        \n",
    "bad=(bins-d.counts).nonzero()\n",
    "bad"
   ]
  },
  {
   "cell_type": "code",
   "execution_count": null,
   "metadata": {
    "collapsed": false
   },
   "outputs": [],
   "source": [
    "d.counts[bad][1:10]"
   ]
  },
  {
   "cell_type": "code",
   "execution_count": null,
   "metadata": {
    "collapsed": false
   },
   "outputs": [],
   "source": [
    "bins[bad][1:10]"
   ]
  },
  {
   "cell_type": "code",
   "execution_count": null,
   "metadata": {
    "collapsed": false
   },
   "outputs": [],
   "source": [
    "d.value"
   ]
  },
  {
   "cell_type": "code",
   "execution_count": null,
   "metadata": {
    "collapsed": false,
    "scrolled": false
   },
   "outputs": [],
   "source": [
    "%matplotlib notebook\n",
    "plt.step(np.arange(len(d.bins)),d.bins)\n",
    "# plt.step(np.arange(len(d.counts)),bins)\n",
    "plt.plot(bad,np.zeros_like(bad),'.k')"
   ]
  },
  {
   "cell_type": "code",
   "execution_count": null,
   "metadata": {
    "collapsed": false
   },
   "outputs": [],
   "source": [
    "sum(d.counts)"
   ]
  },
  {
   "cell_type": "code",
   "execution_count": null,
   "metadata": {
    "collapsed": false
   },
   "outputs": [],
   "source": [
    "2**14+2000"
   ]
  },
  {
   "cell_type": "code",
   "execution_count": null,
   "metadata": {
    "collapsed": false,
    "run_control": {
     "frozen": false,
     "read_only": false
    }
   },
   "outputs": [],
   "source": [
    "def plot_event(event_tupple):\n",
    "    pre=200\n",
    "    post=1000\n",
    "    timestamp=event_tupple[0]\n",
    "    event_type=event_tupple[1]\n",
    "    event=event_tupple[2]\n",
    "    flags=EventFlags(event['flags'])\n",
    "    print(flags)\n",
    "    print('timestamp',timestamp, 'time', event['time'])\n",
    "    if flags.type == Event.tick:\n",
    "        return\n",
    "    s=traces['filtered'][timestamp+20-pre:timestamp+20+post]\n",
    "    r=traces['raw'][timestamp+20-pre:timestamp+20+post]\n",
    "    i = np.where(abs(minmax['clk'])<=timestamp+20)[0][-1]\n",
    "    min_t=abs(minmax['clk'][i])-(timestamp+20)\n",
    "#     print(minmax['clk'][i],min_t,i,timestamp)\n",
    "    plt.plot(r,'k',linewidth=0.5)\n",
    "    plt.plot(s,'b',linewidth=2)\n",
    "    plt.plot([pre],s[pre],'sg')\n",
    "    plt.plot([pre+min_t],minmax['filtered'][i],'sr')\n",
    "    if event_type==Event.pulse:\n",
    "        for i in range(flags.peak_number):\n",
    "            p=event['peaks'][i]\n",
    "            plt.plot([0,len(s)-1],[p['height'],p['height']],':r')\n",
    "    else:\n",
    "      plt.plot([0,len(s)-1],[event['height'],event['height']],':r')\n",
    "        \n",
    "    #print(event['height'],event['minima'])\n",
    "    #print(minmax['filtered'][i]==s[pre+min_t])\n",
    "    #print(minmax['filtered'][i]==event['minima'])\n",
    "    #print(s[pre],s[pre-1])"
   ]
  },
  {
   "cell_type": "code",
   "execution_count": null,
   "metadata": {
    "collapsed": false,
    "run_control": {
     "frozen": false,
     "read_only": false
    }
   },
   "outputs": [],
   "source": [
    "pwd"
   ]
  },
  {
   "cell_type": "code",
   "execution_count": null,
   "metadata": {
    "collapsed": false
   },
   "outputs": [],
   "source": [
    "es=bs.eventstream\n",
    "es"
   ]
  },
  {
   "cell_type": "code",
   "execution_count": null,
   "metadata": {
    "collapsed": false,
    "run_control": {
     "frozen": false,
     "read_only": false
    }
   },
   "outputs": [],
   "source": [
    "%matplotlib notebook\n",
    "for e in es:\n",
    "    if e[1]==Event.peak:\n",
    "        plot_event(e)"
   ]
  },
  {
   "cell_type": "code",
   "execution_count": null,
   "metadata": {
    "collapsed": false,
    "run_control": {
     "frozen": false,
     "read_only": false
    }
   },
   "outputs": [],
   "source": [
    "es"
   ]
  },
  {
   "cell_type": "code",
   "execution_count": null,
   "metadata": {
    "collapsed": false,
    "run_control": {
     "frozen": false,
     "read_only": false
    }
   },
   "outputs": [],
   "source": [
    "dists=bs.distributions\n",
    "dists"
   ]
  },
  {
   "cell_type": "code",
   "execution_count": null,
   "metadata": {
    "collapsed": false,
    "run_control": {
     "frozen": false,
     "read_only": false
    }
   },
   "outputs": [],
   "source": [
    "bs.packets[185].payload"
   ]
  },
  {
   "cell_type": "code",
   "execution_count": null,
   "metadata": {
    "collapsed": false,
    "run_control": {
     "frozen": false,
     "read_only": false
    }
   },
   "outputs": [],
   "source": [
    "d=bs.distributions[0]\n",
    "eset=np.uint64(1)\n",
    "bset=np.uint64(0)\n",
    "cset=np.uint64(20)\n",
    "\n",
    "stop=d.stop_time+eset+cset\n",
    "start=d.start_time+bset+cset\n",
    "bins=np.zeros((d.last_bin+1,),dtype=np.uint32)\n",
    "for i in range(start,stop):\n",
    "    s = traces['raw'][i]\n",
    "    if s <= d.lowest_value:\n",
    "        bins[0] += 1\n",
    "    else:\n",
    "        bins[s-d.lowest_value] += 1\n",
    "        \n",
    "(bins-d.counts).nonzero()"
   ]
  },
  {
   "cell_type": "code",
   "execution_count": null,
   "metadata": {
    "collapsed": false,
    "run_control": {
     "frozen": false,
     "read_only": false
    }
   },
   "outputs": [],
   "source": [
    "%matplotlib notebook\n",
    "plt.step(np.arange(len(d.counts)),d.counts)"
   ]
  },
  {
   "cell_type": "code",
   "execution_count": null,
   "metadata": {
    "collapsed": false,
    "run_control": {
     "frozen": false,
     "read_only": false
    }
   },
   "outputs": [],
   "source": [
    "bins[bins.nonzero()]"
   ]
  },
  {
   "cell_type": "code",
   "execution_count": null,
   "metadata": {
    "collapsed": false,
    "run_control": {
     "frozen": false,
     "read_only": false
    }
   },
   "outputs": [],
   "source": [
    "sum(d.counts)"
   ]
  },
  {
   "cell_type": "code",
   "execution_count": null,
   "metadata": {
    "collapsed": false,
    "run_control": {
     "frozen": false,
     "read_only": false
    }
   },
   "outputs": [],
   "source": [
    "2**14+2000"
   ]
  },
  {
   "cell_type": "code",
   "execution_count": null,
   "metadata": {
    "collapsed": false,
    "run_control": {
     "frozen": false,
     "read_only": false
    }
   },
   "outputs": [],
   "source": [
    "es[3][2]['timestamp']-es[0][2]['timestamp']"
   ]
  },
  {
   "cell_type": "code",
   "execution_count": null,
   "metadata": {
    "collapsed": true,
    "run_control": {
     "frozen": false,
     "read_only": false
    }
   },
   "outputs": [],
   "source": [
    "def xings(s, thresh):\n",
    "    pos=s > thresh\n",
    "    neg=s < thresh\n",
    "    pos0=s >= thresh\n",
    "    neg0=s <= thresh\n",
    "    pos_xing_mask = np.bitwise_and(pos0[1:],neg[0:-1])  \n",
    "    neg_xing_mask = np.bitwise_and(neg0[1:],pos[0:-1])  \n",
    "    return pos_xing_mask.nonzero()[0]+1, neg_xing_mask.nonzero()[0]+1"
   ]
  },
  {
   "cell_type": "code",
   "execution_count": null,
   "metadata": {
    "collapsed": true,
    "run_control": {
     "frozen": false,
     "read_only": false
    }
   },
   "outputs": [],
   "source": [
    "from mpl_toolkits.axes_grid1 import host_subplot\n",
    "\n",
    "def plot_trace(traces,start,width):\n",
    "\n",
    "    ax = host_subplot(111)\n",
    "    axr = ax.twinx()\n",
    "    axt = ax.twiny()\n",
    "#ax.plot(t[0:-1:10],s[0:-1:10],'k')\n",
    "#ax.plot(t,s,'k')\n",
    "    axt.set_xlabel('Time ns',fontsize=18)\n",
    "    ax.set_ylabel('Voltage (Arbitary Units)',fontsize=18)\n",
    "#plt.xticks(visible=False)\n",
    "#plt.yticks(visible=False)\n",
    "#ax.set_xlim(0,t[4000000])\n",
    "#start=902000\n",
    "#width=2500\n",
    "    f=traces['filtered'][start:start+width]\n",
    "    s=traces['slope'][start:start+width]\n",
    "    t=np.arange(len(f))*4e-9\n",
    "#ts=t[pstart:pstop]\n",
    "#axins = fig.add_axes([.4, .45, .45, .4])\n",
    "    ax.set_xlim(t[0],t[-1])\n",
    "    axt.set_xlim(t[0],t[-1])\n",
    "\n",
    "    ylim=(-500,2000)\n",
    "\n",
    "    ax.set_ylim(ylim[0],ylim[1])\n",
    "    axr.set_ylim(ylim[0],ylim[1])\n",
    "\n",
    "    filtered, = ax.step(t,f,'k',lw=2,label='filtered')\n",
    "    slope, = ax.step(t,s,'b',label='slope')\n",
    "    ax.fill_between(t,0,s,alpha=.4)\n",
    "    plt.ylim=ylim\n",
    "\n",
    "pos=s>0\n",
    "neg=s<=0\n",
    "pos_xing_mask = np.bitwise_and(pos[1:-1],neg[0:-2])  \n",
    "neg_xing_mask = np.bitwise_and(neg[1:-1],pos[0:-2])  \n",
    "pos_xing=pos_xing_mask.nonzero()\n",
    "neg_xing=neg_xing_mask.nonzero()\n",
    "\n",
    "rx=[t[pos_xing[0][0]], t[neg_xing[0][0]]]\n",
    "ry=[f[pos_xing[0][0]], f[neg_xing[0][0]]]\n",
    "\n",
    "ax.fill_between(t[pos_xing[0][0]:neg_xing[0][0]],0,s[pos_xing[0][0]:neg_xing[0][0]],alpha=.4,color='r')\n",
    "\n",
    "#plt.plot(rx,[ry[0], ry[0]],'-r',lw=2)\n",
    "#plt.plot([rx[1],rx[1]], ry,'-r',lw=2)\n",
    "# thresholds\n",
    "sthresh = 600\n",
    "pthresh = 1000\n",
    "plt.plot([t[0], t[-1]], [sthresh, sthresh], '--b', lw=2)\n",
    "plt.plot([t[0], t[-1]], [pthresh, pthresh], '--k', lw=2)\n",
    "\n",
    "sthresh_xing=(s>sthresh).nonzero()[0][0]\n",
    "pthresh_xing=(f>pthresh).nonzero()[0][0]\n",
    "\n",
    "\n",
    "cf=.10\n",
    "height = ry[1]-ry[0]\n",
    "cfl=ry[0]+(height*cf)\n",
    "cfh=ry[1]-(height*cf)\n",
    "\n",
    "cfl_xing=(f>cfl).nonzero()[0][0]\n",
    "cfd_low=f[cfl_xing]\n",
    "cfh_xing=(f>cfh).nonzero()[0][0]\n",
    "cfd_high=f[cfh_xing]\n",
    "\n",
    "#plt.plot([t[cfl_xing], t[-1]],[cfd_low, cfd_low], ':r')\n",
    "#plt.plot([t[cfh_xing], t[-1]],[cfd_high, cfd_high], ':r')\n",
    "#plt.plot([x[1], t[-1]],[y[1], y[1]], ':r')\n",
    "plt.legend([filtered, slope],['Signal', 'Slope'],loc=2)\n",
    "\n",
    "#axr = ax.twinx()\n",
    "##################################################################\n",
    "#yticks=([ry[0],sthresh,pthresh,cfd_high,ry[1]])\n",
    "yticks=([sthresh,pthresh])\n",
    "axr.set_yticks(yticks)\n",
    "#yticklabels=['Start','Slope threshold','Pulse threshold','CF high','Peak']\n",
    "yticklabels=['Slope threshold','Pulse threshold']\n",
    "axr.set_yticklabels(yticklabels, color='r',fontsize=14)\n",
    "axr.get_yticklabels()[0].set_color('b')\n",
    "axr.get_yticklabels()[1].set_color('k')\n",
    "\n",
    "#xticks=([rx[0],t[cfl_xing],t[sthresh_xing],t[pthresh_xing],rx[1]])\n",
    "xticks=(t[cfl_xing],rx[1])\n",
    "#ax.set_xticks([rx[0],t[cfl_xing],t[sthresh_xing],t[pthresh_xing],rx[1]])\n",
    "ax.set_xticks(xticks)\n",
    "#xticklabels=['Start','CF low','Slope xing','Signal xing','Peak']\n",
    "xticklabels=['CF low','Peak']\n",
    "ax.set_xticklabels(xticklabels, color='r',fontsize=14)\n",
    "\n",
    "#plt.plot([t[cfh_xing], t[-1]],[cfd_high, cfd_high], ':r')\n",
    "#horoz start, stop lines\n",
    "#hpeak=ax.plot([xticks[1], t[-1]],[yticks[-1], yticks[-1]], '-.r')\n",
    "#hstart=ax.plot([xticks[0], t[-1]],[yticks[0], yticks[0]], '-.r')\n",
    "#vert start stop\n",
    "vstart=ax.plot([xticks[0], xticks[0]],[cfd_low, ylim[0]], '-.r')\n",
    "vpeak=ax.plot([xticks[1], xticks[1]],[ylim[0], ry[1]], '-.r')\n",
    "\n",
    "plt.tight_layout()\n",
    "plt.savefig('..//peakextraction7.svg')\n",
    "plt.show()\n",
    "print('risetime:',(xticks[1]-xticks[0])/4)\n",
    "print('height:',yticks[-1]-yticks[0])\n",
    "print('time:',(xticks[0]-rx[0])/4)\n",
    "print('area',sum(s[pos_xing[0][0]:neg_xing[0][0]])/256)\n"
   ]
  },
  {
   "cell_type": "code",
   "execution_count": null,
   "metadata": {
    "collapsed": true,
    "run_control": {
     "frozen": false,
     "read_only": false
    }
   },
   "outputs": [],
   "source": [
    "slope_0xings = xings(traces['slope'],0)"
   ]
  },
  {
   "cell_type": "code",
   "execution_count": null,
   "metadata": {
    "collapsed": false,
    "run_control": {
     "frozen": false,
     "read_only": false
    }
   },
   "outputs": [],
   "source": [
    "slope_0xings"
   ]
  },
  {
   "cell_type": "code",
   "execution_count": null,
   "metadata": {
    "collapsed": false,
    "run_control": {
     "frozen": false,
     "read_only": false
    }
   },
   "outputs": [],
   "source": [
    "%matplotlib notebook\n",
    "start=10000\n",
    "width=300\n",
    "plt.plot(traces['filtered'][start:start+width]/2)"
   ]
  },
  {
   "cell_type": "code",
   "execution_count": null,
   "metadata": {
    "collapsed": false,
    "run_control": {
     "frozen": false,
     "read_only": false
    }
   },
   "outputs": [],
   "source": [
    "%matplotlib notebook\n",
    "plt.plot(traces['slope'][20400:21700])"
   ]
  },
  {
   "cell_type": "code",
   "execution_count": null,
   "metadata": {
    "collapsed": false,
    "run_control": {
     "frozen": false,
     "read_only": false
    }
   },
   "outputs": [],
   "source": [
    "filtered=traces['filtered'][1100:]\n",
    "filteredL=traces['filteredL'][1100:]"
   ]
  },
  {
   "cell_type": "code",
   "execution_count": null,
   "metadata": {
    "collapsed": false,
    "run_control": {
     "frozen": false,
     "read_only": false
    }
   },
   "outputs": [],
   "source": [
    "filtered[:10]"
   ]
  },
  {
   "cell_type": "code",
   "execution_count": null,
   "metadata": {
    "collapsed": false,
    "run_control": {
     "frozen": false,
     "read_only": false
    }
   },
   "outputs": [],
   "source": [
    "filteredL[:10]/4"
   ]
  },
  {
   "cell_type": "code",
   "execution_count": null,
   "metadata": {
    "collapsed": false,
    "run_control": {
     "frozen": false,
     "read_only": false
    }
   },
   "outputs": [],
   "source": [
    "minmax_dt=np.dtype([('filtered','i4'),('low','i4'),('high','i4'),('clk','i4')])\n",
    "minmax=Data.fromfile('minmax',minmax_dt,'teslib','measurement_subsystem_TB',tool='vivado')\n",
    "fxing_dt=np.dtype([('extrema','i4'),('area','i4'),('clk','i4')])\n",
    "fxing=Data.fromfile('filteredxing',fxing_dt,'teslib','measurement_subsystem_TB',tool='vivado')"
   ]
  },
  {
   "cell_type": "code",
   "execution_count": null,
   "metadata": {
    "collapsed": false,
    "run_control": {
     "frozen": false,
     "read_only": false
    }
   },
   "outputs": [],
   "source": [
    "minmax"
   ]
  },
  {
   "cell_type": "code",
   "execution_count": null,
   "metadata": {
    "collapsed": false,
    "run_control": {
     "frozen": false,
     "read_only": false
    }
   },
   "outputs": [],
   "source": [
    "fxing"
   ]
  },
  {
   "cell_type": "code",
   "execution_count": null,
   "metadata": {
    "collapsed": false,
    "run_control": {
     "frozen": false,
     "read_only": false
    }
   },
   "outputs": [],
   "source": [
    "np.where(fxing['area']==0)"
   ]
  },
  {
   "cell_type": "code",
   "execution_count": null,
   "metadata": {
    "collapsed": false,
    "run_control": {
     "frozen": false,
     "read_only": false
    }
   },
   "outputs": [],
   "source": [
    "np.where(fxing['extrema']==0)"
   ]
  },
  {
   "cell_type": "code",
   "execution_count": null,
   "metadata": {
    "collapsed": false,
    "run_control": {
     "frozen": false,
     "read_only": false
    }
   },
   "outputs": [],
   "source": [
    "fxing[30]"
   ]
  },
  {
   "cell_type": "code",
   "execution_count": null,
   "metadata": {
    "collapsed": false,
    "run_control": {
     "frozen": false,
     "read_only": false
    }
   },
   "outputs": [],
   "source": [
    "exn=np.where(fxing['extrema']<0)\n",
    "clkn=np.where(fxing['clk']>0)"
   ]
  },
  {
   "cell_type": "code",
   "execution_count": null,
   "metadata": {
    "collapsed": true,
    "run_control": {
     "frozen": false,
     "read_only": false
    }
   },
   "outputs": [],
   "source": []
  },
  {
   "cell_type": "code",
   "execution_count": null,
   "metadata": {
    "collapsed": false,
    "run_control": {
     "frozen": false,
     "read_only": false
    }
   },
   "outputs": [],
   "source": [
    "fxing[374]"
   ]
  },
  {
   "cell_type": "code",
   "execution_count": null,
   "metadata": {
    "collapsed": false,
    "run_control": {
     "frozen": false,
     "read_only": false
    }
   },
   "outputs": [],
   "source": [
    "clkn"
   ]
  },
  {
   "cell_type": "code",
   "execution_count": null,
   "metadata": {
    "collapsed": false,
    "run_control": {
     "frozen": false,
     "read_only": false
    }
   },
   "outputs": [],
   "source": [
    "np.where(minmax[maxs[0]-1]['min']!=1)"
   ]
  },
  {
   "cell_type": "code",
   "execution_count": null,
   "metadata": {
    "collapsed": false,
    "run_control": {
     "frozen": false,
     "read_only": false
    }
   },
   "outputs": [],
   "source": [
    "minmax[maxs[0]-1][65]"
   ]
  },
  {
   "cell_type": "code",
   "execution_count": null,
   "metadata": {
    "collapsed": false,
    "run_control": {
     "frozen": false,
     "read_only": false
    }
   },
   "outputs": [],
   "source": [
    "2290-925"
   ]
  },
  {
   "cell_type": "code",
   "execution_count": null,
   "metadata": {
    "collapsed": false,
    "run_control": {
     "frozen": false,
     "read_only": false
    }
   },
   "outputs": [],
   "source": [
    "0.375*4"
   ]
  },
  {
   "cell_type": "code",
   "execution_count": null,
   "metadata": {
    "collapsed": false,
    "run_control": {
     "frozen": false,
     "read_only": false
    }
   },
   "outputs": [],
   "source": [
    "np.where(minmax['clock']==2290)"
   ]
  },
  {
   "cell_type": "code",
   "execution_count": null,
   "metadata": {
    "collapsed": false,
    "run_control": {
     "frozen": false,
     "read_only": false
    }
   },
   "outputs": [],
   "source": [
    "minmax[120:140]"
   ]
  },
  {
   "cell_type": "code",
   "execution_count": null,
   "metadata": {
    "collapsed": false,
    "run_control": {
     "frozen": false,
     "read_only": false
    }
   },
   "outputs": [],
   "source": [
    "stream_dt=np.dtype([('data','>i4'),('last','i4')])\n",
    "#stream=np.fromfile('data/stream',stream_dt)"
   ]
  },
  {
   "cell_type": "markdown",
   "metadata": {},
   "source": [
    "### bytestream stuff"
   ]
  },
  {
   "cell_type": "code",
   "execution_count": null,
   "metadata": {
    "collapsed": false,
    "run_control": {
     "frozen": false,
     "read_only": false
    }
   },
   "outputs": [],
   "source": [
    "stream_dt=np.dtype([('data','i4'),('last','i4')])\n",
    "stream=Data.fromfile('bytestream',stream_dt,'teslib','measurement_subsystem_TB',tool='vivado')\n",
    "lasts=np.where(stream['last']<=0)[0]+1\n",
    "#data=np.copy(stream['data'])"
   ]
  },
  {
   "cell_type": "code",
   "execution_count": null,
   "metadata": {
    "collapsed": false,
    "run_control": {
     "frozen": false,
     "read_only": false
    }
   },
   "outputs": [],
   "source": [
    "stream"
   ]
  },
  {
   "cell_type": "code",
   "execution_count": null,
   "metadata": {
    "collapsed": true,
    "run_control": {
     "frozen": false,
     "read_only": false
    }
   },
   "outputs": [],
   "source": []
  },
  {
   "cell_type": "code",
   "execution_count": null,
   "metadata": {
    "collapsed": true,
    "run_control": {
     "frozen": false,
     "read_only": false
    }
   },
   "outputs": [],
   "source": [
    "stream=np.fromfile('data/bytestream',stream_dt)"
   ]
  },
  {
   "cell_type": "code",
   "execution_count": null,
   "metadata": {
    "collapsed": false,
    "run_control": {
     "frozen": false,
     "read_only": false
    }
   },
   "outputs": [],
   "source": [
    "bs=PacketStream(stream)"
   ]
  },
  {
   "cell_type": "code",
   "execution_count": null,
   "metadata": {
    "collapsed": false,
    "run_control": {
     "frozen": false,
     "read_only": false
    }
   },
   "outputs": [],
   "source": [
    "bs.packets"
   ]
  },
  {
   "cell_type": "code",
   "execution_count": null,
   "metadata": {
    "collapsed": false,
    "run_control": {
     "frozen": false,
     "read_only": false
    }
   },
   "outputs": [],
   "source": [
    "bs.packets[4]"
   ]
  },
  {
   "cell_type": "code",
   "execution_count": null,
   "metadata": {
    "collapsed": true,
    "run_control": {
     "frozen": false,
     "read_only": false
    }
   },
   "outputs": [],
   "source": [
    "eheader_dt=[('etype','<u2'),('length','u2'),()]"
   ]
  },
  {
   "cell_type": "code",
   "execution_count": null,
   "metadata": {
    "collapsed": false,
    "run_control": {
     "frozen": false,
     "read_only": false
    }
   },
   "outputs": [],
   "source": [
    "'{:X}'.format(bs.packets[1].bytes[23])\n"
   ]
  },
  {
   "cell_type": "code",
   "execution_count": null,
   "metadata": {
    "collapsed": false,
    "run_control": {
     "frozen": false,
     "read_only": false
    }
   },
   "outputs": [],
   "source": [
    "'{:X}'.format(bs.packets[0].bytes[28:30].view(np.uint16)[0])"
   ]
  },
  {
   "cell_type": "code",
   "execution_count": null,
   "metadata": {
    "collapsed": true,
    "run_control": {
     "frozen": false,
     "read_only": false
    }
   },
   "outputs": [],
   "source": [
    "pulse_peak_dt=np.dtype([('height','i2'),('rise','i2'),('minima','u2'),('time','i2')])\n",
    "pulse_dt=np.dtype([('size','i2'),('resv','i2'),('flags','i2'),('time','u2'),\n",
    "                  ('area','i4'),('length','i2'),('offset','i2'),('peaks',(pulse_peak_dt,2))])"
   ]
  },
  {
   "cell_type": "code",
   "execution_count": null,
   "metadata": {
    "collapsed": false,
    "run_control": {
     "frozen": false,
     "read_only": false
    }
   },
   "outputs": [],
   "source": [
    "pulses=bs.packets[3].payload.view(pulse_dt)"
   ]
  },
  {
   "cell_type": "code",
   "execution_count": null,
   "metadata": {
    "collapsed": false,
    "run_control": {
     "frozen": false,
     "read_only": false
    }
   },
   "outputs": [],
   "source": [
    "pulses['peaks']"
   ]
  },
  {
   "cell_type": "code",
   "execution_count": null,
   "metadata": {
    "collapsed": false,
    "run_control": {
     "frozen": false,
     "read_only": false
    }
   },
   "outputs": [],
   "source": [
    "pulses['offset']"
   ]
  },
  {
   "cell_type": "code",
   "execution_count": null,
   "metadata": {
    "collapsed": false,
    "run_control": {
     "frozen": false,
     "read_only": false
    }
   },
   "outputs": [],
   "source": [
    "pulses['length']"
   ]
  },
  {
   "cell_type": "code",
   "execution_count": null,
   "metadata": {
    "collapsed": false,
    "run_control": {
     "frozen": false,
     "read_only": false
    }
   },
   "outputs": [],
   "source": [
    "class eflags:\n",
    "    def __init__(self,uint16):\n",
    "        self.new_window=np.bitwise_and(uint16,0x00000001)!=0\n",
    "        self.tick=np.bitwise_and(uint16,0x00000002)!=0\n",
    "        self.type=np.right_shift(np.bitwise_and(uint16,0x0000000c),2)\n",
    "        \n",
    "    def __repr__(self):\n",
    "        return 'New window:{:}\\n'.format(self.new_window) + \\\n",
    "               'Tick:{:}\\n'.format(self.tick) + \\\n",
    "               'Type:{:}\\n'.format(self.type) "
   ]
  },
  {
   "cell_type": "code",
   "execution_count": null,
   "metadata": {
    "collapsed": false,
    "run_control": {
     "frozen": false,
     "read_only": false
    }
   },
   "outputs": [],
   "source": [
    "f=eflags(pulses[0]['flags'])\n",
    "f"
   ]
  },
  {
   "cell_type": "code",
   "execution_count": null,
   "metadata": {
    "collapsed": false,
    "run_control": {
     "frozen": false,
     "read_only": false
    }
   },
   "outputs": [],
   "source": [
    "'{:X}'.format(bs.packets[3].bytes[13:14].view(np.uint16))"
   ]
  },
  {
   "cell_type": "code",
   "execution_count": null,
   "metadata": {
    "collapsed": true,
    "run_control": {
     "frozen": false,
     "read_only": false
    }
   },
   "outputs": [],
   "source": []
  },
  {
   "cell_type": "code",
   "execution_count": null,
   "metadata": {
    "collapsed": false,
    "run_control": {
     "frozen": false,
     "read_only": false
    }
   },
   "outputs": [],
   "source": [
    "'{:X}'.format(bs.packets[3].bytes[14:16].view(np.uint16)[0])"
   ]
  },
  {
   "cell_type": "code",
   "execution_count": null,
   "metadata": {
    "collapsed": false,
    "run_control": {
     "frozen": false,
     "read_only": false
    }
   },
   "outputs": [],
   "source": [
    "bs.packets[3].bytes[14:16].view(np.uint16)[0]"
   ]
  },
  {
   "cell_type": "code",
   "execution_count": null,
   "metadata": {
    "collapsed": false,
    "run_control": {
     "frozen": false,
     "read_only": false
    }
   },
   "outputs": [],
   "source": [
    "bs=np.uint8(stream['data'][:48])"
   ]
  },
  {
   "cell_type": "code",
   "execution_count": null,
   "metadata": {
    "collapsed": false,
    "run_control": {
     "frozen": false,
     "read_only": false
    }
   },
   "outputs": [],
   "source": [
    "bs"
   ]
  },
  {
   "cell_type": "code",
   "execution_count": null,
   "metadata": {
    "collapsed": false,
    "run_control": {
     "frozen": false,
     "read_only": false
    }
   },
   "outputs": [],
   "source": [
    "events=stream['data'].view(event_dt)"
   ]
  },
  {
   "cell_type": "code",
   "execution_count": null,
   "metadata": {
    "collapsed": false,
    "run_control": {
     "frozen": false,
     "read_only": false
    }
   },
   "outputs": [],
   "source": [
    "'{:X}'.format(events['flags'][0])"
   ]
  },
  {
   "cell_type": "code",
   "execution_count": null,
   "metadata": {
    "collapsed": false,
    "run_control": {
     "frozen": false,
     "read_only": false
    }
   },
   "outputs": [],
   "source": [
    "events['rise']"
   ]
  },
  {
   "cell_type": "code",
   "execution_count": null,
   "metadata": {
    "collapsed": false,
    "run_control": {
     "frozen": false,
     "read_only": false
    }
   },
   "outputs": [],
   "source": [
    "events"
   ]
  },
  {
   "cell_type": "code",
   "execution_count": null,
   "metadata": {
    "collapsed": false,
    "run_control": {
     "frozen": false,
     "read_only": false
    }
   },
   "outputs": [],
   "source": [
    "'{:04X}'.format(events['flags'][1])"
   ]
  },
  {
   "cell_type": "code",
   "execution_count": null,
   "metadata": {
    "collapsed": true,
    "run_control": {
     "frozen": false,
     "read_only": false
    }
   },
   "outputs": [],
   "source": [
    "pulse_peak_dt=np.dtype([('time','>i2'),('minima','>i2'),('rise','>u2'),('height','>i2')])\n",
    "pulse_dt=np.dtype([('time','>i2'),('flags','>i2'),('resv','>i2'),('size','>u2'),\n",
    "                  ('offset','>i2'),('length','>i2'),('area','>i4'),('peaks',(pulse_peak_dt,1))])\n",
    "data=np.copy(stream['data'])"
   ]
  },
  {
   "cell_type": "code",
   "execution_count": null,
   "metadata": {
    "collapsed": false,
    "run_control": {
     "frozen": false,
     "read_only": false
    }
   },
   "outputs": [],
   "source": [
    "pulses=data.view(pulse_dt)"
   ]
  },
  {
   "cell_type": "code",
   "execution_count": null,
   "metadata": {
    "collapsed": false,
    "run_control": {
     "frozen": false,
     "read_only": false
    }
   },
   "outputs": [],
   "source": [
    "pulses['peaks']['height']-pulses['peaks']['minima']"
   ]
  },
  {
   "cell_type": "code",
   "execution_count": null,
   "metadata": {
    "collapsed": false,
    "run_control": {
     "frozen": false,
     "read_only": false
    }
   },
   "outputs": [],
   "source": [
    "pulses['peaks']['minima']"
   ]
  },
  {
   "cell_type": "code",
   "execution_count": null,
   "metadata": {
    "collapsed": false,
    "run_control": {
     "frozen": false,
     "read_only": false
    }
   },
   "outputs": [],
   "source": [
    "peak_count=np.right_shift(np.bitwise_and(pulses['flags'],0xF000),12)\n",
    "peak_overflow=np.bitwise_and(pulses['flags'],0x0800)!=0\n",
    "channel=np.right_shift(np.bitwise_and(pulses['flags'],0x0700),8)\n",
    "timing_type=np.right_shift(np.bitwise_and(pulses['flags'],0x00C0),6)\n",
    "height_type=np.right_shift(np.bitwise_and(pulses['flags'],0x0030),4)\n",
    "event_type=np.right_shift(np.bitwise_and(pulses['flags'],0x000E),1)\n",
    "new_window=np.bitwise_and(pulses['flags'],0x0001)!=0"
   ]
  },
  {
   "cell_type": "code",
   "execution_count": null,
   "metadata": {
    "collapsed": false,
    "run_control": {
     "frozen": false,
     "read_only": false
    }
   },
   "outputs": [],
   "source": [
    "peak_overflow"
   ]
  },
  {
   "cell_type": "code",
   "execution_count": null,
   "metadata": {
    "collapsed": true,
    "run_control": {
     "frozen": false,
     "read_only": false
    }
   },
   "outputs": [],
   "source": [
    "test_dt=np.dtype(\n",
    "    [('time','i2'),('flags','i2'),('rise','u2'),('minima','i2'),('low','u8'),('high','u8')]\n",
    ")\n",
    "test=data.view(test_dt)"
   ]
  },
  {
   "cell_type": "code",
   "execution_count": null,
   "metadata": {
    "collapsed": false,
    "run_control": {
     "frozen": false,
     "read_only": false
    }
   },
   "outputs": [],
   "source": [
    "test"
   ]
  },
  {
   "cell_type": "code",
   "execution_count": null,
   "metadata": {
    "collapsed": false,
    "run_control": {
     "frozen": false,
     "read_only": false
    }
   },
   "outputs": [],
   "source": [
    "test['minima']"
   ]
  },
  {
   "cell_type": "code",
   "execution_count": null,
   "metadata": {
    "collapsed": false,
    "run_control": {
     "frozen": false,
     "read_only": false
    }
   },
   "outputs": [],
   "source": [
    "low1=np.int32(np.right_shift(np.bitwise_and(test['low'],0x03FFFF000000000),36))\n",
    "s=(np.bitwise_and(low1,0x00020000)!=0)*0xFFFC0000\n",
    "low2=np.int32(np.right_shift(np.bitwise_and(test['low'],0x000000FFFFC0000),18))\n",
    "low_threshold=np.int32(np.bitwise_and(test['low'],0x00000000003FFFF))\n",
    "high1=np.int32(np.right_shift(np.bitwise_and(test['high'],0x03FFFF000000000),36))\n",
    "high2=np.int32(np.right_shift(np.bitwise_and(test['high'],0x000000FFFFC0000),18))\n",
    "high_threshold=np.int32(np.bitwise_and(test['high'],0x00000000003FFFF))"
   ]
  },
  {
   "cell_type": "code",
   "execution_count": null,
   "metadata": {
    "collapsed": false,
    "run_control": {
     "frozen": false,
     "read_only": false
    }
   },
   "outputs": [],
   "source": [
    "np.int32(np.bitwise_or(low1,s))/8.0"
   ]
  },
  {
   "cell_type": "code",
   "execution_count": null,
   "metadata": {
    "collapsed": false,
    "run_control": {
     "frozen": false,
     "read_only": false
    }
   },
   "outputs": [],
   "source": [
    "'{:04X}'.format(low1[0])"
   ]
  },
  {
   "cell_type": "code",
   "execution_count": null,
   "metadata": {
    "collapsed": false,
    "run_control": {
     "frozen": false,
     "read_only": false
    }
   },
   "outputs": [],
   "source": [
    "high1/8.0"
   ]
  },
  {
   "cell_type": "code",
   "execution_count": null,
   "metadata": {
    "collapsed": false,
    "run_control": {
     "frozen": false,
     "read_only": false
    }
   },
   "outputs": [],
   "source": [
    "high2/8.0"
   ]
  },
  {
   "cell_type": "code",
   "execution_count": null,
   "metadata": {
    "collapsed": false,
    "run_control": {
     "frozen": false,
     "read_only": false
    }
   },
   "outputs": [],
   "source": [
    "'{:04X}'.format(high_threshold[0])"
   ]
  },
  {
   "cell_type": "code",
   "execution_count": null,
   "metadata": {
    "collapsed": false,
    "run_control": {
     "frozen": false,
     "read_only": false
    }
   },
   "outputs": [],
   "source": [
    "from enum import Enum"
   ]
  },
  {
   "cell_type": "code",
   "execution_count": null,
   "metadata": {
    "collapsed": false,
    "run_control": {
     "frozen": false,
     "read_only": false
    }
   },
   "outputs": [],
   "source": [
    "class VhdlEnum(int, Enum):\n",
    "\n",
    "    def __str__(self):\n",
    "        return self.name.replace(\"-\", \" \")\n",
    "    \n",
    "    def select(self):\n",
    "        return pow(2, self.value)\n",
    "    "
   ]
  },
  {
   "cell_type": "code",
   "execution_count": null,
   "metadata": {
    "collapsed": false,
    "run_control": {
     "frozen": false,
     "read_only": false
    }
   },
   "outputs": [],
   "source": [
    "class Test(VhdlEnum):\n",
    "    a=0\n",
    "    b=1"
   ]
  },
  {
   "cell_type": "code",
   "execution_count": null,
   "metadata": {
    "collapsed": false,
    "run_control": {
     "frozen": false,
     "read_only": false
    }
   },
   "outputs": [],
   "source": [
    "Test(0)"
   ]
  },
  {
   "cell_type": "code",
   "execution_count": null,
   "metadata": {
    "collapsed": true,
    "run_control": {
     "frozen": false,
     "read_only": false
    }
   },
   "outputs": [],
   "source": []
  }
 ],
 "metadata": {
  "anaconda-cloud": {},
  "kernelspec": {
   "display_name": "Python [conda root]",
   "language": "python",
   "name": "conda-root-py"
  },
  "language_info": {
   "codemirror_mode": {
    "name": "ipython",
    "version": 3
   },
   "file_extension": ".py",
   "mimetype": "text/x-python",
   "name": "python",
   "nbconvert_exporter": "python",
   "pygments_lexer": "ipython3",
   "version": "3.5.3"
  }
 },
 "nbformat": 4,
 "nbformat_minor": 1
}
