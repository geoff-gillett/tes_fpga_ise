{
 "cells": [
  {
   "cell_type": "markdown",
   "metadata": {},
   "source": [
    "timestamp 0 => clk 20\n",
    "\n",
    "traces start at clk 1"
   ]
  },
  {
   "cell_type": "code",
   "execution_count": 1,
   "metadata": {
    "collapsed": false,
    "run_control": {
     "frozen": false,
     "read_only": false
    }
   },
   "outputs": [],
   "source": [
    "from tes.data import Data,PacketStream,Packet,Payload,EventFlags,Event\n",
    "from tes.hdf5 import _PacketData, _import\n",
    "import numpy as np\n",
    "import matplotlib.pyplot as plt\n",
    "from subprocess import Popen\n",
    "\n",
    "import logging\n",
    "import sys\n",
    "logger = logging.getLogger('tes')\n",
    "logger.setLevel(logging.DEBUG)\n",
    "handler = logging.StreamHandler(sys.stderr)\n",
    "formatter = logging.Formatter('%(name)s:%(levelname)s %(message)s')\n",
    "handler.setFormatter(formatter)\n",
    "logger.handlers = [handler]\n",
    "\n",
    "trace_dt=np.dtype([('raw','i4'),('filtered','i4'),('slope','i4'),('filteredL','i4')])\n",
    "stream_dt=np.dtype([('data','i4'),('last','i4')])\n",
    "minmax_dt=np.dtype(\n",
    "    [\n",
    "        ('filtered','i4'),('timing_threshold','i4'),\n",
    "        ('height_threshold','i4'),('slope_extrema','i4'),('slope_area','i4'),('clk','i4')\n",
    "    ]\n",
    ")\n",
    "cfd_dt=np.dtype('i4')\n",
    "filteredxing_dt=np.dtype([('extrema','i4'),('area','i4'),('clk','i4')])"
   ]
  },
  {
   "cell_type": "code",
   "execution_count": null,
   "metadata": {
    "collapsed": false,
    "run_control": {
     "frozen": false,
     "read_only": false
    },
    "scrolled": false
   },
   "outputs": [],
   "source": [
    "%matplotlib notebook\n",
    "traces=Data.fromfile('traces',trace_dt,'teslib','measurement_subsystem_TB',tool='vivado')\n",
    "plt.plot(traces['slope'][1100:],'r',linewidth=1)\n",
    "plt.plot(traces['raw'][1100:],linewidth=0.5)\n",
    "plt.plot(traces['filtered'][1100:],'k',linewidth=2)"
   ]
  },
  {
   "cell_type": "code",
   "execution_count": 24,
   "metadata": {
    "collapsed": false
   },
   "outputs": [
    {
     "name": "stderr",
     "output_type": "stream",
     "text": [
      "tes.hdf5:DEBUG PacketData: from ndarray\n",
      "tes.hdf5:INFO import:pass 1: calculating sizes for hdf5 pre-allocation\n",
      "tes.hdf5:CRITICAL import:trace length error\n",
      "tes.hdf5:INFO import:pass 1:found 1360 bytes in 19 frames 0 sequence errors.\n",
      "tes.hdf5:DEBUG tick frames: 312 data bytes in 13 frames\n",
      "tes.hdf5:DEBUG event frames: 896 data bytes in 6 frames\n",
      "tes.hdf5:DEBUG MCA frames: 0 data bytes in 0 frames\n",
      "tes.hdf5:DEBUG unidentified frames: 0 bytes in 0 frames\n",
      "tes.hdf5:DEBUG MCA distributions:0  traces:5\n",
      "tes.hdf5:INFO import:pass 2:importing data\n"
     ]
    },
    {
     "ename": "OSError",
     "evalue": "Unable to create file (Unable to truncate a file which is already open)",
     "output_type": "error",
     "traceback": [
      "\u001b[1;31m---------------------------------------------------------------------------\u001b[0m",
      "\u001b[1;31mOSError\u001b[0m                                   Traceback (most recent call last)",
      "\u001b[1;32m<ipython-input-24-07acc2d5788c>\u001b[0m in \u001b[0;36m<module>\u001b[1;34m()\u001b[0m\n\u001b[0;32m      4\u001b[0m \u001b[0mpackets\u001b[0m\u001b[1;33m=\u001b[0m\u001b[0m_PacketData\u001b[0m\u001b[1;33m(\u001b[0m\u001b[0mstream\u001b[0m\u001b[1;33m)\u001b[0m\u001b[1;33m\u001b[0m\u001b[0m\n\u001b[0;32m      5\u001b[0m \u001b[1;32mdel\u001b[0m \u001b[0mstream\u001b[0m\u001b[1;33m\u001b[0m\u001b[0m\n\u001b[1;32m----> 6\u001b[1;33m \u001b[0m_import\u001b[0m\u001b[1;33m(\u001b[0m\u001b[0mpackets\u001b[0m\u001b[1;33m)\u001b[0m\u001b[1;33m\u001b[0m\u001b[0m\n\u001b[0m\u001b[0;32m      7\u001b[0m \u001b[0mh\u001b[0m\u001b[1;33m=\u001b[0m\u001b[0mh5py\u001b[0m\u001b[1;33m.\u001b[0m\u001b[0mFile\u001b[0m\u001b[1;33m(\u001b[0m\u001b[1;34m'TES.hdf5'\u001b[0m\u001b[1;33m,\u001b[0m\u001b[1;34m'r'\u001b[0m\u001b[1;33m)\u001b[0m\u001b[1;33m\u001b[0m\u001b[0m\n",
      "\u001b[1;32mc:\\TES_project\\interface\\python\\tes\\hdf5.py\u001b[0m in \u001b[0;36m_import\u001b[1;34m(data, hdf5_filename)\u001b[0m\n\u001b[0;32m    516\u001b[0m     )\n\u001b[0;32m    517\u001b[0m \u001b[1;33m\u001b[0m\u001b[0m\n\u001b[1;32m--> 518\u001b[1;33m     \u001b[1;32mwith\u001b[0m \u001b[0mh5py\u001b[0m\u001b[1;33m.\u001b[0m\u001b[0mFile\u001b[0m\u001b[1;33m(\u001b[0m\u001b[0mhdf5_filename\u001b[0m\u001b[1;33m,\u001b[0m \u001b[1;34m\"w\"\u001b[0m\u001b[1;33m)\u001b[0m \u001b[1;32mas\u001b[0m \u001b[0mhdf5\u001b[0m\u001b[1;33m:\u001b[0m\u001b[1;33m\u001b[0m\u001b[0m\n\u001b[0m\u001b[0;32m    519\u001b[0m \u001b[1;33m\u001b[0m\u001b[0m\n\u001b[0;32m    520\u001b[0m         \u001b[1;31m# allocation\u001b[0m\u001b[1;33m\u001b[0m\u001b[1;33m\u001b[0m\u001b[0m\n",
      "\u001b[1;32mC:\\Miniconda3\\lib\\site-packages\\h5py\\_hl\\files.py\u001b[0m in \u001b[0;36m__init__\u001b[1;34m(self, name, mode, driver, libver, userblock_size, swmr, **kwds)\u001b[0m\n\u001b[0;32m    270\u001b[0m \u001b[1;33m\u001b[0m\u001b[0m\n\u001b[0;32m    271\u001b[0m                 \u001b[0mfapl\u001b[0m \u001b[1;33m=\u001b[0m \u001b[0mmake_fapl\u001b[0m\u001b[1;33m(\u001b[0m\u001b[0mdriver\u001b[0m\u001b[1;33m,\u001b[0m \u001b[0mlibver\u001b[0m\u001b[1;33m,\u001b[0m \u001b[1;33m**\u001b[0m\u001b[0mkwds\u001b[0m\u001b[1;33m)\u001b[0m\u001b[1;33m\u001b[0m\u001b[0m\n\u001b[1;32m--> 272\u001b[1;33m                 \u001b[0mfid\u001b[0m \u001b[1;33m=\u001b[0m \u001b[0mmake_fid\u001b[0m\u001b[1;33m(\u001b[0m\u001b[0mname\u001b[0m\u001b[1;33m,\u001b[0m \u001b[0mmode\u001b[0m\u001b[1;33m,\u001b[0m \u001b[0muserblock_size\u001b[0m\u001b[1;33m,\u001b[0m \u001b[0mfapl\u001b[0m\u001b[1;33m,\u001b[0m \u001b[0mswmr\u001b[0m\u001b[1;33m=\u001b[0m\u001b[0mswmr\u001b[0m\u001b[1;33m)\u001b[0m\u001b[1;33m\u001b[0m\u001b[0m\n\u001b[0m\u001b[0;32m    273\u001b[0m \u001b[1;33m\u001b[0m\u001b[0m\n\u001b[0;32m    274\u001b[0m                 \u001b[1;32mif\u001b[0m \u001b[0mswmr_support\u001b[0m\u001b[1;33m:\u001b[0m\u001b[1;33m\u001b[0m\u001b[0m\n",
      "\u001b[1;32mC:\\Miniconda3\\lib\\site-packages\\h5py\\_hl\\files.py\u001b[0m in \u001b[0;36mmake_fid\u001b[1;34m(name, mode, userblock_size, fapl, fcpl, swmr)\u001b[0m\n\u001b[0;32m     96\u001b[0m         \u001b[0mfid\u001b[0m \u001b[1;33m=\u001b[0m \u001b[0mh5f\u001b[0m\u001b[1;33m.\u001b[0m\u001b[0mcreate\u001b[0m\u001b[1;33m(\u001b[0m\u001b[0mname\u001b[0m\u001b[1;33m,\u001b[0m \u001b[0mh5f\u001b[0m\u001b[1;33m.\u001b[0m\u001b[0mACC_EXCL\u001b[0m\u001b[1;33m,\u001b[0m \u001b[0mfapl\u001b[0m\u001b[1;33m=\u001b[0m\u001b[0mfapl\u001b[0m\u001b[1;33m,\u001b[0m \u001b[0mfcpl\u001b[0m\u001b[1;33m=\u001b[0m\u001b[0mfcpl\u001b[0m\u001b[1;33m)\u001b[0m\u001b[1;33m\u001b[0m\u001b[0m\n\u001b[0;32m     97\u001b[0m     \u001b[1;32melif\u001b[0m \u001b[0mmode\u001b[0m \u001b[1;33m==\u001b[0m \u001b[1;34m'w'\u001b[0m\u001b[1;33m:\u001b[0m\u001b[1;33m\u001b[0m\u001b[0m\n\u001b[1;32m---> 98\u001b[1;33m         \u001b[0mfid\u001b[0m \u001b[1;33m=\u001b[0m \u001b[0mh5f\u001b[0m\u001b[1;33m.\u001b[0m\u001b[0mcreate\u001b[0m\u001b[1;33m(\u001b[0m\u001b[0mname\u001b[0m\u001b[1;33m,\u001b[0m \u001b[0mh5f\u001b[0m\u001b[1;33m.\u001b[0m\u001b[0mACC_TRUNC\u001b[0m\u001b[1;33m,\u001b[0m \u001b[0mfapl\u001b[0m\u001b[1;33m=\u001b[0m\u001b[0mfapl\u001b[0m\u001b[1;33m,\u001b[0m \u001b[0mfcpl\u001b[0m\u001b[1;33m=\u001b[0m\u001b[0mfcpl\u001b[0m\u001b[1;33m)\u001b[0m\u001b[1;33m\u001b[0m\u001b[0m\n\u001b[0m\u001b[0;32m     99\u001b[0m     \u001b[1;32melif\u001b[0m \u001b[0mmode\u001b[0m \u001b[1;33m==\u001b[0m \u001b[1;34m'a'\u001b[0m\u001b[1;33m:\u001b[0m\u001b[1;33m\u001b[0m\u001b[0m\n\u001b[0;32m    100\u001b[0m         \u001b[1;31m# Open in append mode (read/write).\u001b[0m\u001b[1;33m\u001b[0m\u001b[1;33m\u001b[0m\u001b[0m\n",
      "\u001b[1;32mh5py\\_objects.pyx\u001b[0m in \u001b[0;36mh5py._objects.with_phil.wrapper (C:\\Minonda\\conda-bld\\h5py_1486484495516\\work\\h5py\\_objects.c:2866)\u001b[1;34m()\u001b[0m\n",
      "\u001b[1;32mh5py\\_objects.pyx\u001b[0m in \u001b[0;36mh5py._objects.with_phil.wrapper (C:\\Minonda\\conda-bld\\h5py_1486484495516\\work\\h5py\\_objects.c:2824)\u001b[1;34m()\u001b[0m\n",
      "\u001b[1;32mh5py\\h5f.pyx\u001b[0m in \u001b[0;36mh5py.h5f.create (C:\\Minonda\\conda-bld\\h5py_1486484495516\\work\\h5py\\h5f.c:2279)\u001b[1;34m()\u001b[0m\n",
      "\u001b[1;31mOSError\u001b[0m: Unable to create file (Unable to truncate a file which is already open)"
     ]
    }
   ],
   "source": [
    "import h5py\n",
    "from tes.hdf5 import Trace\n",
    "stream=Data.fromfile('bytestream',stream_dt,'teslib','measurement_subsystem_TB',tool='vivado')\n",
    "packets=_PacketData(stream)\n",
    "del stream\n",
    "_import(packets)\n",
    "h=h5py.File('TES.hdf5','r')"
   ]
  },
  {
   "cell_type": "code",
   "execution_count": 140,
   "metadata": {
    "collapsed": false
   },
   "outputs": [
    {
     "name": "stderr",
     "output_type": "stream",
     "text": [
      "tes.hdf5:DEBUG PacketData: from ndarray\n",
      "tes.hdf5:INFO import:pass 1: calculating sizes for hdf5 pre-allocation\n",
      "tes.hdf5:INFO import:pass 1:found 6208 bytes in 90 frames 0 sequence errors.\n",
      "tes.hdf5:DEBUG tick frames: 312 data bytes in 13 frames\n",
      "tes.hdf5:DEBUG event frames: 5176 data bytes in 77 frames\n",
      "tes.hdf5:DEBUG MCA frames: 0 data bytes in 0 frames\n",
      "tes.hdf5:DEBUG unidentified frames: 0 bytes in 0 frames\n",
      "tes.hdf5:DEBUG MCA distributions:0  traces:10\n",
      "tes.hdf5:INFO import:pass 2:importing data\n"
     ]
    }
   ],
   "source": [
    "h.close()\n",
    "stream=Data.fromfile('bytestream',stream_dt,'teslib','measurement_subsystem_TB',tool='vivado')\n",
    "packets=_PacketData(stream)\n",
    "del stream\n",
    "_import(packets)\n",
    "h=h5py.File('TES.hdf5','r')"
   ]
  },
  {
   "cell_type": "code",
   "execution_count": null,
   "metadata": {
    "collapsed": false
   },
   "outputs": [],
   "source": []
  },
  {
   "cell_type": "code",
   "execution_count": null,
   "metadata": {
    "collapsed": false
   },
   "outputs": [],
   "source": [
    "len(h['traces'])"
   ]
  },
  {
   "cell_type": "code",
   "execution_count": 96,
   "metadata": {
    "collapsed": false
   },
   "outputs": [],
   "source": [
    "t=h['raw_data/event'][h['traces'][9]]"
   ]
  },
  {
   "cell_type": "code",
   "execution_count": 139,
   "metadata": {
    "collapsed": false
   },
   "outputs": [
    {
     "name": "stdout",
     "output_type": "stream",
     "text": [
      "peaks:0\n",
      "rel2min:0\n",
      "channel:0\n",
      "timing:slope_threshold\n",
      "height:cfd_high\n",
      "detection:trace \n",
      " multi_peak:False\n",
      "multi_pulse:False\n",
      "stride:0\n",
      "type:average\n",
      "signal:filtered\n",
      "offset:1\n"
     ]
    },
    {
     "data": {
      "application/javascript": [
       "/* Put everything inside the global mpl namespace */\n",
       "window.mpl = {};\n",
       "\n",
       "\n",
       "mpl.get_websocket_type = function() {\n",
       "    if (typeof(WebSocket) !== 'undefined') {\n",
       "        return WebSocket;\n",
       "    } else if (typeof(MozWebSocket) !== 'undefined') {\n",
       "        return MozWebSocket;\n",
       "    } else {\n",
       "        alert('Your browser does not have WebSocket support.' +\n",
       "              'Please try Chrome, Safari or Firefox ≥ 6. ' +\n",
       "              'Firefox 4 and 5 are also supported but you ' +\n",
       "              'have to enable WebSockets in about:config.');\n",
       "    };\n",
       "}\n",
       "\n",
       "mpl.figure = function(figure_id, websocket, ondownload, parent_element) {\n",
       "    this.id = figure_id;\n",
       "\n",
       "    this.ws = websocket;\n",
       "\n",
       "    this.supports_binary = (this.ws.binaryType != undefined);\n",
       "\n",
       "    if (!this.supports_binary) {\n",
       "        var warnings = document.getElementById(\"mpl-warnings\");\n",
       "        if (warnings) {\n",
       "            warnings.style.display = 'block';\n",
       "            warnings.textContent = (\n",
       "                \"This browser does not support binary websocket messages. \" +\n",
       "                    \"Performance may be slow.\");\n",
       "        }\n",
       "    }\n",
       "\n",
       "    this.imageObj = new Image();\n",
       "\n",
       "    this.context = undefined;\n",
       "    this.message = undefined;\n",
       "    this.canvas = undefined;\n",
       "    this.rubberband_canvas = undefined;\n",
       "    this.rubberband_context = undefined;\n",
       "    this.format_dropdown = undefined;\n",
       "\n",
       "    this.image_mode = 'full';\n",
       "\n",
       "    this.root = $('<div/>');\n",
       "    this._root_extra_style(this.root)\n",
       "    this.root.attr('style', 'display: inline-block');\n",
       "\n",
       "    $(parent_element).append(this.root);\n",
       "\n",
       "    this._init_header(this);\n",
       "    this._init_canvas(this);\n",
       "    this._init_toolbar(this);\n",
       "\n",
       "    var fig = this;\n",
       "\n",
       "    this.waiting = false;\n",
       "\n",
       "    this.ws.onopen =  function () {\n",
       "            fig.send_message(\"supports_binary\", {value: fig.supports_binary});\n",
       "            fig.send_message(\"send_image_mode\", {});\n",
       "            if (mpl.ratio != 1) {\n",
       "                fig.send_message(\"set_dpi_ratio\", {'dpi_ratio': mpl.ratio});\n",
       "            }\n",
       "            fig.send_message(\"refresh\", {});\n",
       "        }\n",
       "\n",
       "    this.imageObj.onload = function() {\n",
       "            if (fig.image_mode == 'full') {\n",
       "                // Full images could contain transparency (where diff images\n",
       "                // almost always do), so we need to clear the canvas so that\n",
       "                // there is no ghosting.\n",
       "                fig.context.clearRect(0, 0, fig.canvas.width, fig.canvas.height);\n",
       "            }\n",
       "            fig.context.drawImage(fig.imageObj, 0, 0);\n",
       "        };\n",
       "\n",
       "    this.imageObj.onunload = function() {\n",
       "        this.ws.close();\n",
       "    }\n",
       "\n",
       "    this.ws.onmessage = this._make_on_message_function(this);\n",
       "\n",
       "    this.ondownload = ondownload;\n",
       "}\n",
       "\n",
       "mpl.figure.prototype._init_header = function() {\n",
       "    var titlebar = $(\n",
       "        '<div class=\"ui-dialog-titlebar ui-widget-header ui-corner-all ' +\n",
       "        'ui-helper-clearfix\"/>');\n",
       "    var titletext = $(\n",
       "        '<div class=\"ui-dialog-title\" style=\"width: 100%; ' +\n",
       "        'text-align: center; padding: 3px;\"/>');\n",
       "    titlebar.append(titletext)\n",
       "    this.root.append(titlebar);\n",
       "    this.header = titletext[0];\n",
       "}\n",
       "\n",
       "\n",
       "\n",
       "mpl.figure.prototype._canvas_extra_style = function(canvas_div) {\n",
       "\n",
       "}\n",
       "\n",
       "\n",
       "mpl.figure.prototype._root_extra_style = function(canvas_div) {\n",
       "\n",
       "}\n",
       "\n",
       "mpl.figure.prototype._init_canvas = function() {\n",
       "    var fig = this;\n",
       "\n",
       "    var canvas_div = $('<div/>');\n",
       "\n",
       "    canvas_div.attr('style', 'position: relative; clear: both; outline: 0');\n",
       "\n",
       "    function canvas_keyboard_event(event) {\n",
       "        return fig.key_event(event, event['data']);\n",
       "    }\n",
       "\n",
       "    canvas_div.keydown('key_press', canvas_keyboard_event);\n",
       "    canvas_div.keyup('key_release', canvas_keyboard_event);\n",
       "    this.canvas_div = canvas_div\n",
       "    this._canvas_extra_style(canvas_div)\n",
       "    this.root.append(canvas_div);\n",
       "\n",
       "    var canvas = $('<canvas/>');\n",
       "    canvas.addClass('mpl-canvas');\n",
       "    canvas.attr('style', \"left: 0; top: 0; z-index: 0; outline: 0\")\n",
       "\n",
       "    this.canvas = canvas[0];\n",
       "    this.context = canvas[0].getContext(\"2d\");\n",
       "\n",
       "    var backingStore = this.context.backingStorePixelRatio ||\n",
       "\tthis.context.webkitBackingStorePixelRatio ||\n",
       "\tthis.context.mozBackingStorePixelRatio ||\n",
       "\tthis.context.msBackingStorePixelRatio ||\n",
       "\tthis.context.oBackingStorePixelRatio ||\n",
       "\tthis.context.backingStorePixelRatio || 1;\n",
       "\n",
       "    mpl.ratio = (window.devicePixelRatio || 1) / backingStore;\n",
       "\n",
       "    var rubberband = $('<canvas/>');\n",
       "    rubberband.attr('style', \"position: absolute; left: 0; top: 0; z-index: 1;\")\n",
       "\n",
       "    var pass_mouse_events = true;\n",
       "\n",
       "    canvas_div.resizable({\n",
       "        start: function(event, ui) {\n",
       "            pass_mouse_events = false;\n",
       "        },\n",
       "        resize: function(event, ui) {\n",
       "            fig.request_resize(ui.size.width, ui.size.height);\n",
       "        },\n",
       "        stop: function(event, ui) {\n",
       "            pass_mouse_events = true;\n",
       "            fig.request_resize(ui.size.width, ui.size.height);\n",
       "        },\n",
       "    });\n",
       "\n",
       "    function mouse_event_fn(event) {\n",
       "        if (pass_mouse_events)\n",
       "            return fig.mouse_event(event, event['data']);\n",
       "    }\n",
       "\n",
       "    rubberband.mousedown('button_press', mouse_event_fn);\n",
       "    rubberband.mouseup('button_release', mouse_event_fn);\n",
       "    // Throttle sequential mouse events to 1 every 20ms.\n",
       "    rubberband.mousemove('motion_notify', mouse_event_fn);\n",
       "\n",
       "    rubberband.mouseenter('figure_enter', mouse_event_fn);\n",
       "    rubberband.mouseleave('figure_leave', mouse_event_fn);\n",
       "\n",
       "    canvas_div.on(\"wheel\", function (event) {\n",
       "        event = event.originalEvent;\n",
       "        event['data'] = 'scroll'\n",
       "        if (event.deltaY < 0) {\n",
       "            event.step = 1;\n",
       "        } else {\n",
       "            event.step = -1;\n",
       "        }\n",
       "        mouse_event_fn(event);\n",
       "    });\n",
       "\n",
       "    canvas_div.append(canvas);\n",
       "    canvas_div.append(rubberband);\n",
       "\n",
       "    this.rubberband = rubberband;\n",
       "    this.rubberband_canvas = rubberband[0];\n",
       "    this.rubberband_context = rubberband[0].getContext(\"2d\");\n",
       "    this.rubberband_context.strokeStyle = \"#000000\";\n",
       "\n",
       "    this._resize_canvas = function(width, height) {\n",
       "        // Keep the size of the canvas, canvas container, and rubber band\n",
       "        // canvas in synch.\n",
       "        canvas_div.css('width', width)\n",
       "        canvas_div.css('height', height)\n",
       "\n",
       "        canvas.attr('width', width * mpl.ratio);\n",
       "        canvas.attr('height', height * mpl.ratio);\n",
       "        canvas.attr('style', 'width: ' + width + 'px; height: ' + height + 'px;');\n",
       "\n",
       "        rubberband.attr('width', width);\n",
       "        rubberband.attr('height', height);\n",
       "    }\n",
       "\n",
       "    // Set the figure to an initial 600x600px, this will subsequently be updated\n",
       "    // upon first draw.\n",
       "    this._resize_canvas(600, 600);\n",
       "\n",
       "    // Disable right mouse context menu.\n",
       "    $(this.rubberband_canvas).bind(\"contextmenu\",function(e){\n",
       "        return false;\n",
       "    });\n",
       "\n",
       "    function set_focus () {\n",
       "        canvas.focus();\n",
       "        canvas_div.focus();\n",
       "    }\n",
       "\n",
       "    window.setTimeout(set_focus, 100);\n",
       "}\n",
       "\n",
       "mpl.figure.prototype._init_toolbar = function() {\n",
       "    var fig = this;\n",
       "\n",
       "    var nav_element = $('<div/>')\n",
       "    nav_element.attr('style', 'width: 100%');\n",
       "    this.root.append(nav_element);\n",
       "\n",
       "    // Define a callback function for later on.\n",
       "    function toolbar_event(event) {\n",
       "        return fig.toolbar_button_onclick(event['data']);\n",
       "    }\n",
       "    function toolbar_mouse_event(event) {\n",
       "        return fig.toolbar_button_onmouseover(event['data']);\n",
       "    }\n",
       "\n",
       "    for(var toolbar_ind in mpl.toolbar_items) {\n",
       "        var name = mpl.toolbar_items[toolbar_ind][0];\n",
       "        var tooltip = mpl.toolbar_items[toolbar_ind][1];\n",
       "        var image = mpl.toolbar_items[toolbar_ind][2];\n",
       "        var method_name = mpl.toolbar_items[toolbar_ind][3];\n",
       "\n",
       "        if (!name) {\n",
       "            // put a spacer in here.\n",
       "            continue;\n",
       "        }\n",
       "        var button = $('<button/>');\n",
       "        button.addClass('ui-button ui-widget ui-state-default ui-corner-all ' +\n",
       "                        'ui-button-icon-only');\n",
       "        button.attr('role', 'button');\n",
       "        button.attr('aria-disabled', 'false');\n",
       "        button.click(method_name, toolbar_event);\n",
       "        button.mouseover(tooltip, toolbar_mouse_event);\n",
       "\n",
       "        var icon_img = $('<span/>');\n",
       "        icon_img.addClass('ui-button-icon-primary ui-icon');\n",
       "        icon_img.addClass(image);\n",
       "        icon_img.addClass('ui-corner-all');\n",
       "\n",
       "        var tooltip_span = $('<span/>');\n",
       "        tooltip_span.addClass('ui-button-text');\n",
       "        tooltip_span.html(tooltip);\n",
       "\n",
       "        button.append(icon_img);\n",
       "        button.append(tooltip_span);\n",
       "\n",
       "        nav_element.append(button);\n",
       "    }\n",
       "\n",
       "    var fmt_picker_span = $('<span/>');\n",
       "\n",
       "    var fmt_picker = $('<select/>');\n",
       "    fmt_picker.addClass('mpl-toolbar-option ui-widget ui-widget-content');\n",
       "    fmt_picker_span.append(fmt_picker);\n",
       "    nav_element.append(fmt_picker_span);\n",
       "    this.format_dropdown = fmt_picker[0];\n",
       "\n",
       "    for (var ind in mpl.extensions) {\n",
       "        var fmt = mpl.extensions[ind];\n",
       "        var option = $(\n",
       "            '<option/>', {selected: fmt === mpl.default_extension}).html(fmt);\n",
       "        fmt_picker.append(option)\n",
       "    }\n",
       "\n",
       "    // Add hover states to the ui-buttons\n",
       "    $( \".ui-button\" ).hover(\n",
       "        function() { $(this).addClass(\"ui-state-hover\");},\n",
       "        function() { $(this).removeClass(\"ui-state-hover\");}\n",
       "    );\n",
       "\n",
       "    var status_bar = $('<span class=\"mpl-message\"/>');\n",
       "    nav_element.append(status_bar);\n",
       "    this.message = status_bar[0];\n",
       "}\n",
       "\n",
       "mpl.figure.prototype.request_resize = function(x_pixels, y_pixels) {\n",
       "    // Request matplotlib to resize the figure. Matplotlib will then trigger a resize in the client,\n",
       "    // which will in turn request a refresh of the image.\n",
       "    this.send_message('resize', {'width': x_pixels, 'height': y_pixels});\n",
       "}\n",
       "\n",
       "mpl.figure.prototype.send_message = function(type, properties) {\n",
       "    properties['type'] = type;\n",
       "    properties['figure_id'] = this.id;\n",
       "    this.ws.send(JSON.stringify(properties));\n",
       "}\n",
       "\n",
       "mpl.figure.prototype.send_draw_message = function() {\n",
       "    if (!this.waiting) {\n",
       "        this.waiting = true;\n",
       "        this.ws.send(JSON.stringify({type: \"draw\", figure_id: this.id}));\n",
       "    }\n",
       "}\n",
       "\n",
       "\n",
       "mpl.figure.prototype.handle_save = function(fig, msg) {\n",
       "    var format_dropdown = fig.format_dropdown;\n",
       "    var format = format_dropdown.options[format_dropdown.selectedIndex].value;\n",
       "    fig.ondownload(fig, format);\n",
       "}\n",
       "\n",
       "\n",
       "mpl.figure.prototype.handle_resize = function(fig, msg) {\n",
       "    var size = msg['size'];\n",
       "    if (size[0] != fig.canvas.width || size[1] != fig.canvas.height) {\n",
       "        fig._resize_canvas(size[0], size[1]);\n",
       "        fig.send_message(\"refresh\", {});\n",
       "    };\n",
       "}\n",
       "\n",
       "mpl.figure.prototype.handle_rubberband = function(fig, msg) {\n",
       "    var x0 = msg['x0'] / mpl.ratio;\n",
       "    var y0 = (fig.canvas.height - msg['y0']) / mpl.ratio;\n",
       "    var x1 = msg['x1'] / mpl.ratio;\n",
       "    var y1 = (fig.canvas.height - msg['y1']) / mpl.ratio;\n",
       "    x0 = Math.floor(x0) + 0.5;\n",
       "    y0 = Math.floor(y0) + 0.5;\n",
       "    x1 = Math.floor(x1) + 0.5;\n",
       "    y1 = Math.floor(y1) + 0.5;\n",
       "    var min_x = Math.min(x0, x1);\n",
       "    var min_y = Math.min(y0, y1);\n",
       "    var width = Math.abs(x1 - x0);\n",
       "    var height = Math.abs(y1 - y0);\n",
       "\n",
       "    fig.rubberband_context.clearRect(\n",
       "        0, 0, fig.canvas.width, fig.canvas.height);\n",
       "\n",
       "    fig.rubberband_context.strokeRect(min_x, min_y, width, height);\n",
       "}\n",
       "\n",
       "mpl.figure.prototype.handle_figure_label = function(fig, msg) {\n",
       "    // Updates the figure title.\n",
       "    fig.header.textContent = msg['label'];\n",
       "}\n",
       "\n",
       "mpl.figure.prototype.handle_cursor = function(fig, msg) {\n",
       "    var cursor = msg['cursor'];\n",
       "    switch(cursor)\n",
       "    {\n",
       "    case 0:\n",
       "        cursor = 'pointer';\n",
       "        break;\n",
       "    case 1:\n",
       "        cursor = 'default';\n",
       "        break;\n",
       "    case 2:\n",
       "        cursor = 'crosshair';\n",
       "        break;\n",
       "    case 3:\n",
       "        cursor = 'move';\n",
       "        break;\n",
       "    }\n",
       "    fig.rubberband_canvas.style.cursor = cursor;\n",
       "}\n",
       "\n",
       "mpl.figure.prototype.handle_message = function(fig, msg) {\n",
       "    fig.message.textContent = msg['message'];\n",
       "}\n",
       "\n",
       "mpl.figure.prototype.handle_draw = function(fig, msg) {\n",
       "    // Request the server to send over a new figure.\n",
       "    fig.send_draw_message();\n",
       "}\n",
       "\n",
       "mpl.figure.prototype.handle_image_mode = function(fig, msg) {\n",
       "    fig.image_mode = msg['mode'];\n",
       "}\n",
       "\n",
       "mpl.figure.prototype.updated_canvas_event = function() {\n",
       "    // Called whenever the canvas gets updated.\n",
       "    this.send_message(\"ack\", {});\n",
       "}\n",
       "\n",
       "// A function to construct a web socket function for onmessage handling.\n",
       "// Called in the figure constructor.\n",
       "mpl.figure.prototype._make_on_message_function = function(fig) {\n",
       "    return function socket_on_message(evt) {\n",
       "        if (evt.data instanceof Blob) {\n",
       "            /* FIXME: We get \"Resource interpreted as Image but\n",
       "             * transferred with MIME type text/plain:\" errors on\n",
       "             * Chrome.  But how to set the MIME type?  It doesn't seem\n",
       "             * to be part of the websocket stream */\n",
       "            evt.data.type = \"image/png\";\n",
       "\n",
       "            /* Free the memory for the previous frames */\n",
       "            if (fig.imageObj.src) {\n",
       "                (window.URL || window.webkitURL).revokeObjectURL(\n",
       "                    fig.imageObj.src);\n",
       "            }\n",
       "\n",
       "            fig.imageObj.src = (window.URL || window.webkitURL).createObjectURL(\n",
       "                evt.data);\n",
       "            fig.updated_canvas_event();\n",
       "            fig.waiting = false;\n",
       "            return;\n",
       "        }\n",
       "        else if (typeof evt.data === 'string' && evt.data.slice(0, 21) == \"data:image/png;base64\") {\n",
       "            fig.imageObj.src = evt.data;\n",
       "            fig.updated_canvas_event();\n",
       "            fig.waiting = false;\n",
       "            return;\n",
       "        }\n",
       "\n",
       "        var msg = JSON.parse(evt.data);\n",
       "        var msg_type = msg['type'];\n",
       "\n",
       "        // Call the  \"handle_{type}\" callback, which takes\n",
       "        // the figure and JSON message as its only arguments.\n",
       "        try {\n",
       "            var callback = fig[\"handle_\" + msg_type];\n",
       "        } catch (e) {\n",
       "            console.log(\"No handler for the '\" + msg_type + \"' message type: \", msg);\n",
       "            return;\n",
       "        }\n",
       "\n",
       "        if (callback) {\n",
       "            try {\n",
       "                // console.log(\"Handling '\" + msg_type + \"' message: \", msg);\n",
       "                callback(fig, msg);\n",
       "            } catch (e) {\n",
       "                console.log(\"Exception inside the 'handler_\" + msg_type + \"' callback:\", e, e.stack, msg);\n",
       "            }\n",
       "        }\n",
       "    };\n",
       "}\n",
       "\n",
       "// from http://stackoverflow.com/questions/1114465/getting-mouse-location-in-canvas\n",
       "mpl.findpos = function(e) {\n",
       "    //this section is from http://www.quirksmode.org/js/events_properties.html\n",
       "    var targ;\n",
       "    if (!e)\n",
       "        e = window.event;\n",
       "    if (e.target)\n",
       "        targ = e.target;\n",
       "    else if (e.srcElement)\n",
       "        targ = e.srcElement;\n",
       "    if (targ.nodeType == 3) // defeat Safari bug\n",
       "        targ = targ.parentNode;\n",
       "\n",
       "    // jQuery normalizes the pageX and pageY\n",
       "    // pageX,Y are the mouse positions relative to the document\n",
       "    // offset() returns the position of the element relative to the document\n",
       "    var x = e.pageX - $(targ).offset().left;\n",
       "    var y = e.pageY - $(targ).offset().top;\n",
       "\n",
       "    return {\"x\": x, \"y\": y};\n",
       "};\n",
       "\n",
       "/*\n",
       " * return a copy of an object with only non-object keys\n",
       " * we need this to avoid circular references\n",
       " * http://stackoverflow.com/a/24161582/3208463\n",
       " */\n",
       "function simpleKeys (original) {\n",
       "  return Object.keys(original).reduce(function (obj, key) {\n",
       "    if (typeof original[key] !== 'object')\n",
       "        obj[key] = original[key]\n",
       "    return obj;\n",
       "  }, {});\n",
       "}\n",
       "\n",
       "mpl.figure.prototype.mouse_event = function(event, name) {\n",
       "    var canvas_pos = mpl.findpos(event)\n",
       "\n",
       "    if (name === 'button_press')\n",
       "    {\n",
       "        this.canvas.focus();\n",
       "        this.canvas_div.focus();\n",
       "    }\n",
       "\n",
       "    var x = canvas_pos.x * mpl.ratio;\n",
       "    var y = canvas_pos.y * mpl.ratio;\n",
       "\n",
       "    this.send_message(name, {x: x, y: y, button: event.button,\n",
       "                             step: event.step,\n",
       "                             guiEvent: simpleKeys(event)});\n",
       "\n",
       "    /* This prevents the web browser from automatically changing to\n",
       "     * the text insertion cursor when the button is pressed.  We want\n",
       "     * to control all of the cursor setting manually through the\n",
       "     * 'cursor' event from matplotlib */\n",
       "    event.preventDefault();\n",
       "    return false;\n",
       "}\n",
       "\n",
       "mpl.figure.prototype._key_event_extra = function(event, name) {\n",
       "    // Handle any extra behaviour associated with a key event\n",
       "}\n",
       "\n",
       "mpl.figure.prototype.key_event = function(event, name) {\n",
       "\n",
       "    // Prevent repeat events\n",
       "    if (name == 'key_press')\n",
       "    {\n",
       "        if (event.which === this._key)\n",
       "            return;\n",
       "        else\n",
       "            this._key = event.which;\n",
       "    }\n",
       "    if (name == 'key_release')\n",
       "        this._key = null;\n",
       "\n",
       "    var value = '';\n",
       "    if (event.ctrlKey && event.which != 17)\n",
       "        value += \"ctrl+\";\n",
       "    if (event.altKey && event.which != 18)\n",
       "        value += \"alt+\";\n",
       "    if (event.shiftKey && event.which != 16)\n",
       "        value += \"shift+\";\n",
       "\n",
       "    value += 'k';\n",
       "    value += event.which.toString();\n",
       "\n",
       "    this._key_event_extra(event, name);\n",
       "\n",
       "    this.send_message(name, {key: value,\n",
       "                             guiEvent: simpleKeys(event)});\n",
       "    return false;\n",
       "}\n",
       "\n",
       "mpl.figure.prototype.toolbar_button_onclick = function(name) {\n",
       "    if (name == 'download') {\n",
       "        this.handle_save(this, null);\n",
       "    } else {\n",
       "        this.send_message(\"toolbar_button\", {name: name});\n",
       "    }\n",
       "};\n",
       "\n",
       "mpl.figure.prototype.toolbar_button_onmouseover = function(tooltip) {\n",
       "    this.message.textContent = tooltip;\n",
       "};\n",
       "mpl.toolbar_items = [[\"Home\", \"Reset original view\", \"fa fa-home icon-home\", \"home\"], [\"Back\", \"Back to  previous view\", \"fa fa-arrow-left icon-arrow-left\", \"back\"], [\"Forward\", \"Forward to next view\", \"fa fa-arrow-right icon-arrow-right\", \"forward\"], [\"\", \"\", \"\", \"\"], [\"Pan\", \"Pan axes with left mouse, zoom with right\", \"fa fa-arrows icon-move\", \"pan\"], [\"Zoom\", \"Zoom to rectangle\", \"fa fa-square-o icon-check-empty\", \"zoom\"], [\"\", \"\", \"\", \"\"], [\"Download\", \"Download plot\", \"fa fa-floppy-o icon-save\", \"download\"]];\n",
       "\n",
       "mpl.extensions = [\"eps\", \"jpeg\", \"pdf\", \"png\", \"ps\", \"raw\", \"svg\", \"tif\"];\n",
       "\n",
       "mpl.default_extension = \"png\";var comm_websocket_adapter = function(comm) {\n",
       "    // Create a \"websocket\"-like object which calls the given IPython comm\n",
       "    // object with the appropriate methods. Currently this is a non binary\n",
       "    // socket, so there is still some room for performance tuning.\n",
       "    var ws = {};\n",
       "\n",
       "    ws.close = function() {\n",
       "        comm.close()\n",
       "    };\n",
       "    ws.send = function(m) {\n",
       "        //console.log('sending', m);\n",
       "        comm.send(m);\n",
       "    };\n",
       "    // Register the callback with on_msg.\n",
       "    comm.on_msg(function(msg) {\n",
       "        //console.log('receiving', msg['content']['data'], msg);\n",
       "        // Pass the mpl event to the overriden (by mpl) onmessage function.\n",
       "        ws.onmessage(msg['content']['data'])\n",
       "    });\n",
       "    return ws;\n",
       "}\n",
       "\n",
       "mpl.mpl_figure_comm = function(comm, msg) {\n",
       "    // This is the function which gets called when the mpl process\n",
       "    // starts-up an IPython Comm through the \"matplotlib\" channel.\n",
       "\n",
       "    var id = msg.content.data.id;\n",
       "    // Get hold of the div created by the display call when the Comm\n",
       "    // socket was opened in Python.\n",
       "    var element = $(\"#\" + id);\n",
       "    var ws_proxy = comm_websocket_adapter(comm)\n",
       "\n",
       "    function ondownload(figure, format) {\n",
       "        window.open(figure.imageObj.src);\n",
       "    }\n",
       "\n",
       "    var fig = new mpl.figure(id, ws_proxy,\n",
       "                           ondownload,\n",
       "                           element.get(0));\n",
       "\n",
       "    // Call onopen now - mpl needs it, as it is assuming we've passed it a real\n",
       "    // web socket which is closed, not our websocket->open comm proxy.\n",
       "    ws_proxy.onopen();\n",
       "\n",
       "    fig.parent_element = element.get(0);\n",
       "    fig.cell_info = mpl.find_output_cell(\"<div id='\" + id + \"'></div>\");\n",
       "    if (!fig.cell_info) {\n",
       "        console.error(\"Failed to find cell for figure\", id, fig);\n",
       "        return;\n",
       "    }\n",
       "\n",
       "    var output_index = fig.cell_info[2]\n",
       "    var cell = fig.cell_info[0];\n",
       "\n",
       "};\n",
       "\n",
       "mpl.figure.prototype.handle_close = function(fig, msg) {\n",
       "    var width = fig.canvas.width/mpl.ratio\n",
       "    fig.root.unbind('remove')\n",
       "\n",
       "    // Update the output cell to use the data from the current canvas.\n",
       "    fig.push_to_output();\n",
       "    var dataURL = fig.canvas.toDataURL();\n",
       "    // Re-enable the keyboard manager in IPython - without this line, in FF,\n",
       "    // the notebook keyboard shortcuts fail.\n",
       "    IPython.keyboard_manager.enable()\n",
       "    $(fig.parent_element).html('<img src=\"' + dataURL + '\" width=\"' + width + '\">');\n",
       "    fig.close_ws(fig, msg);\n",
       "}\n",
       "\n",
       "mpl.figure.prototype.close_ws = function(fig, msg){\n",
       "    fig.send_message('closing', msg);\n",
       "    // fig.ws.close()\n",
       "}\n",
       "\n",
       "mpl.figure.prototype.push_to_output = function(remove_interactive) {\n",
       "    // Turn the data on the canvas into data in the output cell.\n",
       "    var width = this.canvas.width/mpl.ratio\n",
       "    var dataURL = this.canvas.toDataURL();\n",
       "    this.cell_info[1]['text/html'] = '<img src=\"' + dataURL + '\" width=\"' + width + '\">';\n",
       "}\n",
       "\n",
       "mpl.figure.prototype.updated_canvas_event = function() {\n",
       "    // Tell IPython that the notebook contents must change.\n",
       "    IPython.notebook.set_dirty(true);\n",
       "    this.send_message(\"ack\", {});\n",
       "    var fig = this;\n",
       "    // Wait a second, then push the new image to the DOM so\n",
       "    // that it is saved nicely (might be nice to debounce this).\n",
       "    setTimeout(function () { fig.push_to_output() }, 1000);\n",
       "}\n",
       "\n",
       "mpl.figure.prototype._init_toolbar = function() {\n",
       "    var fig = this;\n",
       "\n",
       "    var nav_element = $('<div/>')\n",
       "    nav_element.attr('style', 'width: 100%');\n",
       "    this.root.append(nav_element);\n",
       "\n",
       "    // Define a callback function for later on.\n",
       "    function toolbar_event(event) {\n",
       "        return fig.toolbar_button_onclick(event['data']);\n",
       "    }\n",
       "    function toolbar_mouse_event(event) {\n",
       "        return fig.toolbar_button_onmouseover(event['data']);\n",
       "    }\n",
       "\n",
       "    for(var toolbar_ind in mpl.toolbar_items){\n",
       "        var name = mpl.toolbar_items[toolbar_ind][0];\n",
       "        var tooltip = mpl.toolbar_items[toolbar_ind][1];\n",
       "        var image = mpl.toolbar_items[toolbar_ind][2];\n",
       "        var method_name = mpl.toolbar_items[toolbar_ind][3];\n",
       "\n",
       "        if (!name) { continue; };\n",
       "\n",
       "        var button = $('<button class=\"btn btn-default\" href=\"#\" title=\"' + name + '\"><i class=\"fa ' + image + ' fa-lg\"></i></button>');\n",
       "        button.click(method_name, toolbar_event);\n",
       "        button.mouseover(tooltip, toolbar_mouse_event);\n",
       "        nav_element.append(button);\n",
       "    }\n",
       "\n",
       "    // Add the status bar.\n",
       "    var status_bar = $('<span class=\"mpl-message\" style=\"text-align:right; float: right;\"/>');\n",
       "    nav_element.append(status_bar);\n",
       "    this.message = status_bar[0];\n",
       "\n",
       "    // Add the close button to the window.\n",
       "    var buttongrp = $('<div class=\"btn-group inline pull-right\"></div>');\n",
       "    var button = $('<button class=\"btn btn-mini btn-primary\" href=\"#\" title=\"Stop Interaction\"><i class=\"fa fa-power-off icon-remove icon-large\"></i></button>');\n",
       "    button.click(function (evt) { fig.handle_close(fig, {}); } );\n",
       "    button.mouseover('Stop Interaction', toolbar_mouse_event);\n",
       "    buttongrp.append(button);\n",
       "    var titlebar = this.root.find($('.ui-dialog-titlebar'));\n",
       "    titlebar.prepend(buttongrp);\n",
       "}\n",
       "\n",
       "mpl.figure.prototype._root_extra_style = function(el){\n",
       "    var fig = this\n",
       "    el.on(\"remove\", function(){\n",
       "\tfig.close_ws(fig, {});\n",
       "    });\n",
       "}\n",
       "\n",
       "mpl.figure.prototype._canvas_extra_style = function(el){\n",
       "    // this is important to make the div 'focusable\n",
       "    el.attr('tabindex', 0)\n",
       "    // reach out to IPython and tell the keyboard manager to turn it's self\n",
       "    // off when our div gets focus\n",
       "\n",
       "    // location in version 3\n",
       "    if (IPython.notebook.keyboard_manager) {\n",
       "        IPython.notebook.keyboard_manager.register_events(el);\n",
       "    }\n",
       "    else {\n",
       "        // location in version 2\n",
       "        IPython.keyboard_manager.register_events(el);\n",
       "    }\n",
       "\n",
       "}\n",
       "\n",
       "mpl.figure.prototype._key_event_extra = function(event, name) {\n",
       "    var manager = IPython.notebook.keyboard_manager;\n",
       "    if (!manager)\n",
       "        manager = IPython.keyboard_manager;\n",
       "\n",
       "    // Check for shift+enter\n",
       "    if (event.shiftKey && event.which == 13) {\n",
       "        this.canvas_div.blur();\n",
       "        // select the cell after this one\n",
       "        var index = IPython.notebook.find_cell_index(this.cell_info[0]);\n",
       "        IPython.notebook.select(index + 1);\n",
       "    }\n",
       "}\n",
       "\n",
       "mpl.figure.prototype.handle_save = function(fig, msg) {\n",
       "    fig.ondownload(fig, null);\n",
       "}\n",
       "\n",
       "\n",
       "mpl.find_output_cell = function(html_output) {\n",
       "    // Return the cell and output element which can be found *uniquely* in the notebook.\n",
       "    // Note - this is a bit hacky, but it is done because the \"notebook_saving.Notebook\"\n",
       "    // IPython event is triggered only after the cells have been serialised, which for\n",
       "    // our purposes (turning an active figure into a static one), is too late.\n",
       "    var cells = IPython.notebook.get_cells();\n",
       "    var ncells = cells.length;\n",
       "    for (var i=0; i<ncells; i++) {\n",
       "        var cell = cells[i];\n",
       "        if (cell.cell_type === 'code'){\n",
       "            for (var j=0; j<cell.output_area.outputs.length; j++) {\n",
       "                var data = cell.output_area.outputs[j];\n",
       "                if (data.data) {\n",
       "                    // IPython >= 3 moved mimebundle to data attribute of output\n",
       "                    data = data.data;\n",
       "                }\n",
       "                if (data['text/html'] == html_output) {\n",
       "                    return [cell, data, j];\n",
       "                }\n",
       "            }\n",
       "        }\n",
       "    }\n",
       "}\n",
       "\n",
       "// Register the function which deals with the matplotlib target/channel.\n",
       "// The kernel may be null if the page has been refreshed.\n",
       "if (IPython.notebook.kernel != null) {\n",
       "    IPython.notebook.kernel.comm_manager.register_target('matplotlib', mpl.mpl_figure_comm);\n",
       "}\n"
      ],
      "text/plain": [
       "<IPython.core.display.Javascript object>"
      ]
     },
     "metadata": {},
     "output_type": "display_data"
    },
    {
     "data": {
      "text/html": [
       "<img src=\"data:image/png;base64,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\" width=\"640\">"
      ],
      "text/plain": [
       "<IPython.core.display.HTML object>"
      ]
     },
     "metadata": {},
     "output_type": "display_data"
    },
    {
     "data": {
      "text/plain": [
       "[<matplotlib.lines.Line2D at 0x3e30e080>]"
      ]
     },
     "execution_count": 139,
     "metadata": {},
     "output_type": "execute_result"
    }
   ],
   "source": [
    "%matplotlib notebook\n",
    "t=h['raw_data/event'][h['traces'][9]]\n",
    "tr=Trace(t)\n",
    "print(tr.flags,'\\n',tr.trace_flags)\n",
    "plt.plot(tr.samples)"
   ]
  },
  {
   "cell_type": "code",
   "execution_count": null,
   "metadata": {
    "collapsed": false
   },
   "outputs": [],
   "source": [
    "tr"
   ]
  },
  {
   "cell_type": "code",
   "execution_count": null,
   "metadata": {
    "collapsed": false
   },
   "outputs": [],
   "source": [
    "s=str(tr.flags)\n",
    "s"
   ]
  },
  {
   "cell_type": "code",
   "execution_count": null,
   "metadata": {
    "collapsed": false
   },
   "outputs": [],
   "source": [
    "print(s)"
   ]
  },
  {
   "cell_type": "code",
   "execution_count": null,
   "metadata": {
    "collapsed": false
   },
   "outputs": [],
   "source": [
    "type(h['raw_data/event'][h['traces'][0]])"
   ]
  },
  {
   "cell_type": "code",
   "execution_count": null,
   "metadata": {
    "collapsed": true
   },
   "outputs": [],
   "source": [
    "from tes.hdf5 import Trace"
   ]
  },
  {
   "cell_type": "code",
   "execution_count": null,
   "metadata": {
    "collapsed": false
   },
   "outputs": [],
   "source": [
    "tr.flags"
   ]
  },
  {
   "cell_type": "code",
   "execution_count": null,
   "metadata": {
    "collapsed": false
   },
   "outputs": [],
   "source": [
    "tr.trace_flags"
   ]
  },
  {
   "cell_type": "code",
   "execution_count": null,
   "metadata": {
    "collapsed": false
   },
   "outputs": [],
   "source": [
    "%matplotlib notebook\n",
    "plt.plot(tr.samples)"
   ]
  },
  {
   "cell_type": "code",
   "execution_count": null,
   "metadata": {
    "collapsed": false
   },
   "outputs": [],
   "source": [
    "len(tr.samples)"
   ]
  },
  {
   "cell_type": "code",
   "execution_count": null,
   "metadata": {
    "collapsed": false
   },
   "outputs": [],
   "source": [
    "first_dt = np.dtype([('size', np.uint16), ('tflags0', np.uint8), ('tflags1', np.uint8),\n",
    "        ('flags0', np.uint8), ('flags1', np.uint8), ('time', np.uint16)])\n",
    "\n"
   ]
  },
  {
   "cell_type": "code",
   "execution_count": null,
   "metadata": {
    "collapsed": false
   },
   "outputs": [],
   "source": []
  },
  {
   "cell_type": "code",
   "execution_count": null,
   "metadata": {
    "collapsed": false
   },
   "outputs": [],
   "source": [
    "t[0:8].view(first_dt)"
   ]
  },
  {
   "cell_type": "code",
   "execution_count": null,
   "metadata": {
    "collapsed": true
   },
   "outputs": [],
   "source": []
  },
  {
   "cell_type": "code",
   "execution_count": null,
   "metadata": {
    "collapsed": false
   },
   "outputs": [],
   "source": [
    "_rref = h5py.special_dtype(ref=h5py.RegionReference)\n",
    "h=h5py.File('test.hdf5', 'w')"
   ]
  },
  {
   "cell_type": "code",
   "execution_count": null,
   "metadata": {
    "collapsed": false
   },
   "outputs": [],
   "source": [
    "h.close()"
   ]
  },
  {
   "cell_type": "code",
   "execution_count": null,
   "metadata": {
    "collapsed": false
   },
   "outputs": [],
   "source": [
    "t= np.array((10,),'u1')\n",
    "h.create_dataset('t',(10,),dtype='u1')"
   ]
  },
  {
   "cell_type": "code",
   "execution_count": null,
   "metadata": {
    "collapsed": false
   },
   "outputs": [],
   "source": [
    "h.create_dataset('r',(10,),dtype=_rref)"
   ]
  },
  {
   "cell_type": "code",
   "execution_count": null,
   "metadata": {
    "collapsed": false
   },
   "outputs": [],
   "source": [
    "h.create_dataset('s',(10,),dtype='u1')"
   ]
  },
  {
   "cell_type": "code",
   "execution_count": null,
   "metadata": {
    "collapsed": true
   },
   "outputs": [],
   "source": [
    "h['s'][0]=0\n",
    "h['s'][1]=1"
   ]
  },
  {
   "cell_type": "code",
   "execution_count": null,
   "metadata": {
    "collapsed": false
   },
   "outputs": [],
   "source": [
    "h['r'][0]=h['t'].regionref[0:2]"
   ]
  },
  {
   "cell_type": "code",
   "execution_count": null,
   "metadata": {
    "collapsed": true
   },
   "outputs": [],
   "source": [
    "r=h['r'][0]"
   ]
  },
  {
   "cell_type": "code",
   "execution_count": null,
   "metadata": {
    "collapsed": false
   },
   "outputs": [],
   "source": [
    "t= np.array([0,1,2],'u1')"
   ]
  },
  {
   "cell_type": "code",
   "execution_count": null,
   "metadata": {
    "collapsed": false
   },
   "outputs": [],
   "source": [
    "t = [0,1]\n",
    "\n",
    "f = np.uint64(0)\n",
    "print(type(f))\n",
    "f += len(t)\n",
    "print(type(f))"
   ]
  },
  {
   "cell_type": "code",
   "execution_count": null,
   "metadata": {
    "collapsed": false
   },
   "outputs": [],
   "source": [
    "t[0:1][0]"
   ]
  },
  {
   "cell_type": "code",
   "execution_count": null,
   "metadata": {
    "collapsed": false
   },
   "outputs": [],
   "source": [
    "i=0\n",
    "for p in packets:\n",
    "    if i==7:\n",
    "        break\n",
    "    i+=1"
   ]
  },
  {
   "cell_type": "code",
   "execution_count": null,
   "metadata": {
    "collapsed": false
   },
   "outputs": [],
   "source": [
    "p"
   ]
  },
  {
   "cell_type": "code",
   "execution_count": null,
   "metadata": {
    "collapsed": true
   },
   "outputs": [],
   "source": [
    "lasts = np.where(stream['last'] < 0)[0] + 1"
   ]
  },
  {
   "cell_type": "code",
   "execution_count": null,
   "metadata": {
    "collapsed": false
   },
   "outputs": [],
   "source": [
    "lasts"
   ]
  },
  {
   "cell_type": "code",
   "execution_count": null,
   "metadata": {
    "collapsed": false
   },
   "outputs": [],
   "source": [
    "'last' in stream.dtype.names"
   ]
  },
  {
   "cell_type": "code",
   "execution_count": null,
   "metadata": {
    "collapsed": false
   },
   "outputs": [],
   "source": [
    "isinstance(stream,np.ndarray)"
   ]
  },
  {
   "cell_type": "code",
   "execution_count": null,
   "metadata": {
    "collapsed": false
   },
   "outputs": [],
   "source": [
    "type('poo')"
   ]
  },
  {
   "cell_type": "code",
   "execution_count": null,
   "metadata": {
    "collapsed": false
   },
   "outputs": [],
   "source": [
    "stream[lasts[0]:]"
   ]
  },
  {
   "cell_type": "code",
   "execution_count": null,
   "metadata": {
    "collapsed": false
   },
   "outputs": [],
   "source": [
    "ps=PacketStream(stream)\n",
    "# ps.traces"
   ]
  },
  {
   "cell_type": "code",
   "execution_count": null,
   "metadata": {
    "collapsed": false
   },
   "outputs": [],
   "source": [
    "type(ps[0])"
   ]
  },
  {
   "cell_type": "code",
   "execution_count": null,
   "metadata": {
    "collapsed": false
   },
   "outputs": [],
   "source": [
    "sum(stream['last']<0)"
   ]
  },
  {
   "cell_type": "code",
   "execution_count": null,
   "metadata": {
    "collapsed": false
   },
   "outputs": [],
   "source": [
    "%matplotlib notebook\n",
    "\n",
    "plt.plot(ps.traces[3]._view['trace'])\n",
    "# ps.traces[2]._view['trace'][-20:]"
   ]
  },
  {
   "cell_type": "code",
   "execution_count": null,
   "metadata": {
    "collapsed": false
   },
   "outputs": [],
   "source": [
    "ps.traces"
   ]
  },
  {
   "cell_type": "code",
   "execution_count": null,
   "metadata": {
    "collapsed": false,
    "run_control": {
     "frozen": false,
     "read_only": false
    },
    "scrolled": true
   },
   "outputs": [],
   "source": [
    "traces=Data.fromfile('traces',trace_dt,'teslib','measurement_subsystem_TB',tool='vivado')\n",
    "stream=Data.fromfile('bytestream',stream_dt,'teslib','measurement_subsystem_TB',tool='vivado')\n",
    "bs=PacketStream(stream)\n",
    "dists=bs.distributions\n",
    "#bs.packets\n",
    "dists"
   ]
  },
  {
   "cell_type": "code",
   "execution_count": null,
   "metadata": {
    "collapsed": false
   },
   "outputs": [],
   "source": [
    "d=dists[0]\n",
    "d.counts[-1]"
   ]
  },
  {
   "cell_type": "code",
   "execution_count": null,
   "metadata": {
    "collapsed": false
   },
   "outputs": [],
   "source": [
    "d.total+d.underflow+d.overflow"
   ]
  },
  {
   "cell_type": "code",
   "execution_count": null,
   "metadata": {
    "collapsed": false
   },
   "outputs": [],
   "source": [
    "%matplotlib notebook\n",
    "plt.plot(d.bins)"
   ]
  },
  {
   "cell_type": "code",
   "execution_count": null,
   "metadata": {
    "collapsed": false,
    "scrolled": false
   },
   "outputs": [],
   "source": [
    "f=EventFlags(es[2][2]['flags'])\n",
    "f.channel"
   ]
  },
  {
   "cell_type": "code",
   "execution_count": null,
   "metadata": {
    "collapsed": false,
    "run_control": {
     "frozen": false,
     "read_only": false
    },
    "scrolled": true
   },
   "outputs": [],
   "source": [
    "import tes.mca as mca\n",
    "d=bs.distributions[0]\n",
    "eset=np.uint64(1)\n",
    "bset=np.uint64(0)\n",
    "cset=np.uint64(20)\n",
    "\n",
    "stop=d.stop_time+eset+cset\n",
    "start=d.start_time+bset+cset\n",
    "bins=np.zeros((d.last_bin+1,),dtype=np.uint32)\n",
    "\n",
    "if d.value==mca.Value.raw_signal:\n",
    "    tname='raw'\n",
    "elif d.value==mca.Value.filtered_signal:\n",
    "    tname='filtered'\n",
    "elif d.value==mca.Value.slope_signal:\n",
    "    tname='slope'\n",
    "\n",
    "for i in range(start,stop):\n",
    "    s = traces[tname][i]\n",
    "    if s < d.lowest_value:\n",
    "        bins[0] += 1\n",
    "    else:\n",
    "        bin_number = s - d.lowest_value + 1\n",
    "        if bin_number < d.last_bin:\n",
    "            bins[bin_number] += 1\n",
    "        else:\n",
    "            bins[d.last_bin] += 1\n",
    "        \n",
    "bad=(bins-d.counts).nonzero()\n",
    "bad"
   ]
  },
  {
   "cell_type": "code",
   "execution_count": null,
   "metadata": {
    "collapsed": false
   },
   "outputs": [],
   "source": [
    "d.counts[bad][1:10]"
   ]
  },
  {
   "cell_type": "code",
   "execution_count": null,
   "metadata": {
    "collapsed": false
   },
   "outputs": [],
   "source": [
    "bins[bad][1:10]"
   ]
  },
  {
   "cell_type": "code",
   "execution_count": null,
   "metadata": {
    "collapsed": false
   },
   "outputs": [],
   "source": [
    "d.value"
   ]
  },
  {
   "cell_type": "code",
   "execution_count": null,
   "metadata": {
    "collapsed": false,
    "scrolled": false
   },
   "outputs": [],
   "source": [
    "%matplotlib notebook\n",
    "plt.step(np.arange(len(d.bins)),d.bins)\n",
    "# plt.step(np.arange(len(d.counts)),bins)\n",
    "plt.plot(bad,np.zeros_like(bad),'.k')"
   ]
  },
  {
   "cell_type": "code",
   "execution_count": null,
   "metadata": {
    "collapsed": false
   },
   "outputs": [],
   "source": [
    "sum(d.counts)"
   ]
  },
  {
   "cell_type": "code",
   "execution_count": null,
   "metadata": {
    "collapsed": false
   },
   "outputs": [],
   "source": [
    "2**14+2000"
   ]
  },
  {
   "cell_type": "code",
   "execution_count": null,
   "metadata": {
    "collapsed": false,
    "run_control": {
     "frozen": false,
     "read_only": false
    }
   },
   "outputs": [],
   "source": [
    "def plot_event(event_tupple):\n",
    "    pre=200\n",
    "    post=1000\n",
    "    timestamp=event_tupple[0]\n",
    "    event_type=event_tupple[1]\n",
    "    event=event_tupple[2]\n",
    "    flags=EventFlags(event['flags'])\n",
    "    print(flags)\n",
    "    print('timestamp',timestamp, 'time', event['time'])\n",
    "    if flags.type == Event.tick:\n",
    "        return\n",
    "    s=traces['filtered'][timestamp+20-pre:timestamp+20+post]\n",
    "    r=traces['raw'][timestamp+20-pre:timestamp+20+post]\n",
    "    i = np.where(abs(minmax['clk'])<=timestamp+20)[0][-1]\n",
    "    min_t=abs(minmax['clk'][i])-(timestamp+20)\n",
    "#     print(minmax['clk'][i],min_t,i,timestamp)\n",
    "    plt.plot(r,'k',linewidth=0.5)\n",
    "    plt.plot(s,'b',linewidth=2)\n",
    "    plt.plot([pre],s[pre],'sg')\n",
    "    plt.plot([pre+min_t],minmax['filtered'][i],'sr')\n",
    "    if event_type==Event.pulse:\n",
    "        for i in range(flags.peak_number):\n",
    "            p=event['peaks'][i]\n",
    "            plt.plot([0,len(s)-1],[p['height'],p['height']],':r')\n",
    "    else:\n",
    "      plt.plot([0,len(s)-1],[event['height'],event['height']],':r')\n",
    "        \n",
    "    #print(event['height'],event['minima'])\n",
    "    #print(minmax['filtered'][i]==s[pre+min_t])\n",
    "    #print(minmax['filtered'][i]==event['minima'])\n",
    "    #print(s[pre],s[pre-1])"
   ]
  },
  {
   "cell_type": "code",
   "execution_count": null,
   "metadata": {
    "collapsed": false,
    "run_control": {
     "frozen": false,
     "read_only": false
    }
   },
   "outputs": [],
   "source": [
    "pwd"
   ]
  },
  {
   "cell_type": "code",
   "execution_count": null,
   "metadata": {
    "collapsed": false
   },
   "outputs": [],
   "source": [
    "es=bs.eventstream\n",
    "es"
   ]
  },
  {
   "cell_type": "code",
   "execution_count": null,
   "metadata": {
    "collapsed": false,
    "run_control": {
     "frozen": false,
     "read_only": false
    }
   },
   "outputs": [],
   "source": [
    "%matplotlib notebook\n",
    "for e in es:\n",
    "    if e[1]==Event.peak:\n",
    "        plot_event(e)"
   ]
  },
  {
   "cell_type": "code",
   "execution_count": null,
   "metadata": {
    "collapsed": false,
    "run_control": {
     "frozen": false,
     "read_only": false
    }
   },
   "outputs": [],
   "source": [
    "es"
   ]
  },
  {
   "cell_type": "code",
   "execution_count": null,
   "metadata": {
    "collapsed": false,
    "run_control": {
     "frozen": false,
     "read_only": false
    }
   },
   "outputs": [],
   "source": [
    "dists=bs.distributions\n",
    "dists"
   ]
  },
  {
   "cell_type": "code",
   "execution_count": null,
   "metadata": {
    "collapsed": false,
    "run_control": {
     "frozen": false,
     "read_only": false
    }
   },
   "outputs": [],
   "source": [
    "bs.packets[185].payload"
   ]
  },
  {
   "cell_type": "code",
   "execution_count": null,
   "metadata": {
    "collapsed": false,
    "run_control": {
     "frozen": false,
     "read_only": false
    }
   },
   "outputs": [],
   "source": [
    "d=bs.distributions[0]\n",
    "eset=np.uint64(1)\n",
    "bset=np.uint64(0)\n",
    "cset=np.uint64(20)\n",
    "\n",
    "stop=d.stop_time+eset+cset\n",
    "start=d.start_time+bset+cset\n",
    "bins=np.zeros((d.last_bin+1,),dtype=np.uint32)\n",
    "for i in range(start,stop):\n",
    "    s = traces['raw'][i]\n",
    "    if s <= d.lowest_value:\n",
    "        bins[0] += 1\n",
    "    else:\n",
    "        bins[s-d.lowest_value] += 1\n",
    "        \n",
    "(bins-d.counts).nonzero()"
   ]
  },
  {
   "cell_type": "code",
   "execution_count": null,
   "metadata": {
    "collapsed": false,
    "run_control": {
     "frozen": false,
     "read_only": false
    }
   },
   "outputs": [],
   "source": [
    "%matplotlib notebook\n",
    "plt.step(np.arange(len(d.counts)),d.counts)"
   ]
  },
  {
   "cell_type": "code",
   "execution_count": null,
   "metadata": {
    "collapsed": false,
    "run_control": {
     "frozen": false,
     "read_only": false
    }
   },
   "outputs": [],
   "source": [
    "bins[bins.nonzero()]"
   ]
  },
  {
   "cell_type": "code",
   "execution_count": null,
   "metadata": {
    "collapsed": false,
    "run_control": {
     "frozen": false,
     "read_only": false
    }
   },
   "outputs": [],
   "source": [
    "sum(d.counts)"
   ]
  },
  {
   "cell_type": "code",
   "execution_count": null,
   "metadata": {
    "collapsed": false,
    "run_control": {
     "frozen": false,
     "read_only": false
    }
   },
   "outputs": [],
   "source": [
    "2**14+2000"
   ]
  },
  {
   "cell_type": "code",
   "execution_count": null,
   "metadata": {
    "collapsed": false,
    "run_control": {
     "frozen": false,
     "read_only": false
    }
   },
   "outputs": [],
   "source": [
    "es[3][2]['timestamp']-es[0][2]['timestamp']"
   ]
  },
  {
   "cell_type": "code",
   "execution_count": null,
   "metadata": {
    "collapsed": true,
    "run_control": {
     "frozen": false,
     "read_only": false
    }
   },
   "outputs": [],
   "source": [
    "def xings(s, thresh):\n",
    "    pos=s > thresh\n",
    "    neg=s < thresh\n",
    "    pos0=s >= thresh\n",
    "    neg0=s <= thresh\n",
    "    pos_xing_mask = np.bitwise_and(pos0[1:],neg[0:-1])  \n",
    "    neg_xing_mask = np.bitwise_and(neg0[1:],pos[0:-1])  \n",
    "    return pos_xing_mask.nonzero()[0]+1, neg_xing_mask.nonzero()[0]+1"
   ]
  },
  {
   "cell_type": "code",
   "execution_count": null,
   "metadata": {
    "collapsed": true,
    "run_control": {
     "frozen": false,
     "read_only": false
    }
   },
   "outputs": [],
   "source": [
    "from mpl_toolkits.axes_grid1 import host_subplot\n",
    "\n",
    "def plot_trace(traces,start,width):\n",
    "\n",
    "    ax = host_subplot(111)\n",
    "    axr = ax.twinx()\n",
    "    axt = ax.twiny()\n",
    "#ax.plot(t[0:-1:10],s[0:-1:10],'k')\n",
    "#ax.plot(t,s,'k')\n",
    "    axt.set_xlabel('Time ns',fontsize=18)\n",
    "    ax.set_ylabel('Voltage (Arbitary Units)',fontsize=18)\n",
    "#plt.xticks(visible=False)\n",
    "#plt.yticks(visible=False)\n",
    "#ax.set_xlim(0,t[4000000])\n",
    "#start=902000\n",
    "#width=2500\n",
    "    f=traces['filtered'][start:start+width]\n",
    "    s=traces['slope'][start:start+width]\n",
    "    t=np.arange(len(f))*4e-9\n",
    "#ts=t[pstart:pstop]\n",
    "#axins = fig.add_axes([.4, .45, .45, .4])\n",
    "    ax.set_xlim(t[0],t[-1])\n",
    "    axt.set_xlim(t[0],t[-1])\n",
    "\n",
    "    ylim=(-500,2000)\n",
    "\n",
    "    ax.set_ylim(ylim[0],ylim[1])\n",
    "    axr.set_ylim(ylim[0],ylim[1])\n",
    "\n",
    "    filtered, = ax.step(t,f,'k',lw=2,label='filtered')\n",
    "    slope, = ax.step(t,s,'b',label='slope')\n",
    "    ax.fill_between(t,0,s,alpha=.4)\n",
    "    plt.ylim=ylim\n",
    "\n",
    "pos=s>0\n",
    "neg=s<=0\n",
    "pos_xing_mask = np.bitwise_and(pos[1:-1],neg[0:-2])  \n",
    "neg_xing_mask = np.bitwise_and(neg[1:-1],pos[0:-2])  \n",
    "pos_xing=pos_xing_mask.nonzero()\n",
    "neg_xing=neg_xing_mask.nonzero()\n",
    "\n",
    "rx=[t[pos_xing[0][0]], t[neg_xing[0][0]]]\n",
    "ry=[f[pos_xing[0][0]], f[neg_xing[0][0]]]\n",
    "\n",
    "ax.fill_between(t[pos_xing[0][0]:neg_xing[0][0]],0,s[pos_xing[0][0]:neg_xing[0][0]],alpha=.4,color='r')\n",
    "\n",
    "#plt.plot(rx,[ry[0], ry[0]],'-r',lw=2)\n",
    "#plt.plot([rx[1],rx[1]], ry,'-r',lw=2)\n",
    "# thresholds\n",
    "sthresh = 600\n",
    "pthresh = 1000\n",
    "plt.plot([t[0], t[-1]], [sthresh, sthresh], '--b', lw=2)\n",
    "plt.plot([t[0], t[-1]], [pthresh, pthresh], '--k', lw=2)\n",
    "\n",
    "sthresh_xing=(s>sthresh).nonzero()[0][0]\n",
    "pthresh_xing=(f>pthresh).nonzero()[0][0]\n",
    "\n",
    "\n",
    "cf=.10\n",
    "height = ry[1]-ry[0]\n",
    "cfl=ry[0]+(height*cf)\n",
    "cfh=ry[1]-(height*cf)\n",
    "\n",
    "cfl_xing=(f>cfl).nonzero()[0][0]\n",
    "cfd_low=f[cfl_xing]\n",
    "cfh_xing=(f>cfh).nonzero()[0][0]\n",
    "cfd_high=f[cfh_xing]\n",
    "\n",
    "#plt.plot([t[cfl_xing], t[-1]],[cfd_low, cfd_low], ':r')\n",
    "#plt.plot([t[cfh_xing], t[-1]],[cfd_high, cfd_high], ':r')\n",
    "#plt.plot([x[1], t[-1]],[y[1], y[1]], ':r')\n",
    "plt.legend([filtered, slope],['Signal', 'Slope'],loc=2)\n",
    "\n",
    "#axr = ax.twinx()\n",
    "##################################################################\n",
    "#yticks=([ry[0],sthresh,pthresh,cfd_high,ry[1]])\n",
    "yticks=([sthresh,pthresh])\n",
    "axr.set_yticks(yticks)\n",
    "#yticklabels=['Start','Slope threshold','Pulse threshold','CF high','Peak']\n",
    "yticklabels=['Slope threshold','Pulse threshold']\n",
    "axr.set_yticklabels(yticklabels, color='r',fontsize=14)\n",
    "axr.get_yticklabels()[0].set_color('b')\n",
    "axr.get_yticklabels()[1].set_color('k')\n",
    "\n",
    "#xticks=([rx[0],t[cfl_xing],t[sthresh_xing],t[pthresh_xing],rx[1]])\n",
    "xticks=(t[cfl_xing],rx[1])\n",
    "#ax.set_xticks([rx[0],t[cfl_xing],t[sthresh_xing],t[pthresh_xing],rx[1]])\n",
    "ax.set_xticks(xticks)\n",
    "#xticklabels=['Start','CF low','Slope xing','Signal xing','Peak']\n",
    "xticklabels=['CF low','Peak']\n",
    "ax.set_xticklabels(xticklabels, color='r',fontsize=14)\n",
    "\n",
    "#plt.plot([t[cfh_xing], t[-1]],[cfd_high, cfd_high], ':r')\n",
    "#horoz start, stop lines\n",
    "#hpeak=ax.plot([xticks[1], t[-1]],[yticks[-1], yticks[-1]], '-.r')\n",
    "#hstart=ax.plot([xticks[0], t[-1]],[yticks[0], yticks[0]], '-.r')\n",
    "#vert start stop\n",
    "vstart=ax.plot([xticks[0], xticks[0]],[cfd_low, ylim[0]], '-.r')\n",
    "vpeak=ax.plot([xticks[1], xticks[1]],[ylim[0], ry[1]], '-.r')\n",
    "\n",
    "plt.tight_layout()\n",
    "plt.savefig('..//peakextraction7.svg')\n",
    "plt.show()\n",
    "print('risetime:',(xticks[1]-xticks[0])/4)\n",
    "print('height:',yticks[-1]-yticks[0])\n",
    "print('time:',(xticks[0]-rx[0])/4)\n",
    "print('area',sum(s[pos_xing[0][0]:neg_xing[0][0]])/256)\n"
   ]
  },
  {
   "cell_type": "code",
   "execution_count": null,
   "metadata": {
    "collapsed": true,
    "run_control": {
     "frozen": false,
     "read_only": false
    }
   },
   "outputs": [],
   "source": [
    "slope_0xings = xings(traces['slope'],0)"
   ]
  },
  {
   "cell_type": "code",
   "execution_count": null,
   "metadata": {
    "collapsed": false,
    "run_control": {
     "frozen": false,
     "read_only": false
    }
   },
   "outputs": [],
   "source": [
    "slope_0xings"
   ]
  },
  {
   "cell_type": "code",
   "execution_count": null,
   "metadata": {
    "collapsed": false,
    "run_control": {
     "frozen": false,
     "read_only": false
    }
   },
   "outputs": [],
   "source": [
    "%matplotlib notebook\n",
    "start=10000\n",
    "width=300\n",
    "plt.plot(traces['filtered'][start:start+width]/2)"
   ]
  },
  {
   "cell_type": "code",
   "execution_count": null,
   "metadata": {
    "collapsed": false,
    "run_control": {
     "frozen": false,
     "read_only": false
    }
   },
   "outputs": [],
   "source": [
    "%matplotlib notebook\n",
    "plt.plot(traces['slope'][20400:21700])"
   ]
  },
  {
   "cell_type": "code",
   "execution_count": null,
   "metadata": {
    "collapsed": false,
    "run_control": {
     "frozen": false,
     "read_only": false
    }
   },
   "outputs": [],
   "source": [
    "filtered=traces['filtered'][1100:]\n",
    "filteredL=traces['filteredL'][1100:]"
   ]
  },
  {
   "cell_type": "code",
   "execution_count": null,
   "metadata": {
    "collapsed": false,
    "run_control": {
     "frozen": false,
     "read_only": false
    }
   },
   "outputs": [],
   "source": [
    "filtered[:10]"
   ]
  },
  {
   "cell_type": "code",
   "execution_count": null,
   "metadata": {
    "collapsed": false,
    "run_control": {
     "frozen": false,
     "read_only": false
    }
   },
   "outputs": [],
   "source": [
    "filteredL[:10]/4"
   ]
  },
  {
   "cell_type": "code",
   "execution_count": null,
   "metadata": {
    "collapsed": false,
    "run_control": {
     "frozen": false,
     "read_only": false
    }
   },
   "outputs": [],
   "source": [
    "minmax_dt=np.dtype([('filtered','i4'),('low','i4'),('high','i4'),('clk','i4')])\n",
    "minmax=Data.fromfile('minmax',minmax_dt,'teslib','measurement_subsystem_TB',tool='vivado')\n",
    "fxing_dt=np.dtype([('extrema','i4'),('area','i4'),('clk','i4')])\n",
    "fxing=Data.fromfile('filteredxing',fxing_dt,'teslib','measurement_subsystem_TB',tool='vivado')"
   ]
  },
  {
   "cell_type": "code",
   "execution_count": null,
   "metadata": {
    "collapsed": false,
    "run_control": {
     "frozen": false,
     "read_only": false
    }
   },
   "outputs": [],
   "source": [
    "minmax"
   ]
  },
  {
   "cell_type": "code",
   "execution_count": null,
   "metadata": {
    "collapsed": false,
    "run_control": {
     "frozen": false,
     "read_only": false
    }
   },
   "outputs": [],
   "source": [
    "fxing"
   ]
  },
  {
   "cell_type": "code",
   "execution_count": null,
   "metadata": {
    "collapsed": false,
    "run_control": {
     "frozen": false,
     "read_only": false
    }
   },
   "outputs": [],
   "source": [
    "np.where(fxing['area']==0)"
   ]
  },
  {
   "cell_type": "code",
   "execution_count": null,
   "metadata": {
    "collapsed": false,
    "run_control": {
     "frozen": false,
     "read_only": false
    }
   },
   "outputs": [],
   "source": [
    "np.where(fxing['extrema']==0)"
   ]
  },
  {
   "cell_type": "code",
   "execution_count": null,
   "metadata": {
    "collapsed": false,
    "run_control": {
     "frozen": false,
     "read_only": false
    }
   },
   "outputs": [],
   "source": [
    "fxing[30]"
   ]
  },
  {
   "cell_type": "code",
   "execution_count": null,
   "metadata": {
    "collapsed": false,
    "run_control": {
     "frozen": false,
     "read_only": false
    }
   },
   "outputs": [],
   "source": [
    "exn=np.where(fxing['extrema']<0)\n",
    "clkn=np.where(fxing['clk']>0)"
   ]
  },
  {
   "cell_type": "code",
   "execution_count": null,
   "metadata": {
    "collapsed": true,
    "run_control": {
     "frozen": false,
     "read_only": false
    }
   },
   "outputs": [],
   "source": []
  },
  {
   "cell_type": "code",
   "execution_count": null,
   "metadata": {
    "collapsed": false,
    "run_control": {
     "frozen": false,
     "read_only": false
    }
   },
   "outputs": [],
   "source": [
    "fxing[374]"
   ]
  },
  {
   "cell_type": "code",
   "execution_count": null,
   "metadata": {
    "collapsed": false,
    "run_control": {
     "frozen": false,
     "read_only": false
    }
   },
   "outputs": [],
   "source": [
    "clkn"
   ]
  },
  {
   "cell_type": "code",
   "execution_count": null,
   "metadata": {
    "collapsed": false,
    "run_control": {
     "frozen": false,
     "read_only": false
    }
   },
   "outputs": [],
   "source": [
    "np.where(minmax[maxs[0]-1]['min']!=1)"
   ]
  },
  {
   "cell_type": "code",
   "execution_count": null,
   "metadata": {
    "collapsed": false,
    "run_control": {
     "frozen": false,
     "read_only": false
    }
   },
   "outputs": [],
   "source": [
    "minmax[maxs[0]-1][65]"
   ]
  },
  {
   "cell_type": "code",
   "execution_count": null,
   "metadata": {
    "collapsed": false,
    "run_control": {
     "frozen": false,
     "read_only": false
    }
   },
   "outputs": [],
   "source": [
    "2290-925"
   ]
  },
  {
   "cell_type": "code",
   "execution_count": null,
   "metadata": {
    "collapsed": false,
    "run_control": {
     "frozen": false,
     "read_only": false
    }
   },
   "outputs": [],
   "source": [
    "0.375*4"
   ]
  },
  {
   "cell_type": "code",
   "execution_count": null,
   "metadata": {
    "collapsed": false,
    "run_control": {
     "frozen": false,
     "read_only": false
    }
   },
   "outputs": [],
   "source": [
    "np.where(minmax['clock']==2290)"
   ]
  },
  {
   "cell_type": "code",
   "execution_count": null,
   "metadata": {
    "collapsed": false,
    "run_control": {
     "frozen": false,
     "read_only": false
    }
   },
   "outputs": [],
   "source": [
    "minmax[120:140]"
   ]
  },
  {
   "cell_type": "code",
   "execution_count": null,
   "metadata": {
    "collapsed": false,
    "run_control": {
     "frozen": false,
     "read_only": false
    }
   },
   "outputs": [],
   "source": [
    "stream_dt=np.dtype([('data','>i4'),('last','i4')])\n",
    "#stream=np.fromfile('data/stream',stream_dt)"
   ]
  },
  {
   "cell_type": "markdown",
   "metadata": {},
   "source": [
    "### bytestream stuff"
   ]
  },
  {
   "cell_type": "code",
   "execution_count": null,
   "metadata": {
    "collapsed": false,
    "run_control": {
     "frozen": false,
     "read_only": false
    }
   },
   "outputs": [],
   "source": [
    "stream_dt=np.dtype([('data','i4'),('last','i4')])\n",
    "stream=Data.fromfile('bytestream',stream_dt,'teslib','measurement_subsystem_TB',tool='vivado')\n",
    "lasts=np.where(stream['last']<=0)[0]+1\n",
    "#data=np.copy(stream['data'])"
   ]
  },
  {
   "cell_type": "code",
   "execution_count": null,
   "metadata": {
    "collapsed": false,
    "run_control": {
     "frozen": false,
     "read_only": false
    }
   },
   "outputs": [],
   "source": [
    "stream"
   ]
  },
  {
   "cell_type": "code",
   "execution_count": null,
   "metadata": {
    "collapsed": true,
    "run_control": {
     "frozen": false,
     "read_only": false
    }
   },
   "outputs": [],
   "source": []
  },
  {
   "cell_type": "code",
   "execution_count": null,
   "metadata": {
    "collapsed": true,
    "run_control": {
     "frozen": false,
     "read_only": false
    }
   },
   "outputs": [],
   "source": [
    "stream=np.fromfile('data/bytestream',stream_dt)"
   ]
  },
  {
   "cell_type": "code",
   "execution_count": null,
   "metadata": {
    "collapsed": false,
    "run_control": {
     "frozen": false,
     "read_only": false
    }
   },
   "outputs": [],
   "source": [
    "bs=PacketStream(stream)"
   ]
  },
  {
   "cell_type": "code",
   "execution_count": null,
   "metadata": {
    "collapsed": false,
    "run_control": {
     "frozen": false,
     "read_only": false
    }
   },
   "outputs": [],
   "source": [
    "bs.packets"
   ]
  },
  {
   "cell_type": "code",
   "execution_count": null,
   "metadata": {
    "collapsed": false,
    "run_control": {
     "frozen": false,
     "read_only": false
    }
   },
   "outputs": [],
   "source": [
    "bs.packets[4]"
   ]
  },
  {
   "cell_type": "code",
   "execution_count": null,
   "metadata": {
    "collapsed": true,
    "run_control": {
     "frozen": false,
     "read_only": false
    }
   },
   "outputs": [],
   "source": [
    "eheader_dt=[('etype','<u2'),('length','u2'),()]"
   ]
  },
  {
   "cell_type": "code",
   "execution_count": null,
   "metadata": {
    "collapsed": false,
    "run_control": {
     "frozen": false,
     "read_only": false
    }
   },
   "outputs": [],
   "source": [
    "'{:X}'.format(bs.packets[1].bytes[23])\n"
   ]
  },
  {
   "cell_type": "code",
   "execution_count": null,
   "metadata": {
    "collapsed": false,
    "run_control": {
     "frozen": false,
     "read_only": false
    }
   },
   "outputs": [],
   "source": [
    "'{:X}'.format(bs.packets[0].bytes[28:30].view(np.uint16)[0])"
   ]
  },
  {
   "cell_type": "code",
   "execution_count": null,
   "metadata": {
    "collapsed": true,
    "run_control": {
     "frozen": false,
     "read_only": false
    }
   },
   "outputs": [],
   "source": [
    "pulse_peak_dt=np.dtype([('height','i2'),('rise','i2'),('minima','u2'),('time','i2')])\n",
    "pulse_dt=np.dtype([('size','i2'),('resv','i2'),('flags','i2'),('time','u2'),\n",
    "                  ('area','i4'),('length','i2'),('offset','i2'),('peaks',(pulse_peak_dt,2))])"
   ]
  },
  {
   "cell_type": "code",
   "execution_count": null,
   "metadata": {
    "collapsed": false,
    "run_control": {
     "frozen": false,
     "read_only": false
    }
   },
   "outputs": [],
   "source": [
    "pulses=bs.packets[3].payload.view(pulse_dt)"
   ]
  },
  {
   "cell_type": "code",
   "execution_count": null,
   "metadata": {
    "collapsed": false,
    "run_control": {
     "frozen": false,
     "read_only": false
    }
   },
   "outputs": [],
   "source": [
    "pulses['peaks']"
   ]
  },
  {
   "cell_type": "code",
   "execution_count": null,
   "metadata": {
    "collapsed": false,
    "run_control": {
     "frozen": false,
     "read_only": false
    }
   },
   "outputs": [],
   "source": [
    "pulses['offset']"
   ]
  },
  {
   "cell_type": "code",
   "execution_count": null,
   "metadata": {
    "collapsed": false,
    "run_control": {
     "frozen": false,
     "read_only": false
    }
   },
   "outputs": [],
   "source": [
    "pulses['length']"
   ]
  },
  {
   "cell_type": "code",
   "execution_count": null,
   "metadata": {
    "collapsed": false,
    "run_control": {
     "frozen": false,
     "read_only": false
    }
   },
   "outputs": [],
   "source": [
    "class eflags:\n",
    "    def __init__(self,uint16):\n",
    "        self.new_window=np.bitwise_and(uint16,0x00000001)!=0\n",
    "        self.tick=np.bitwise_and(uint16,0x00000002)!=0\n",
    "        self.type=np.right_shift(np.bitwise_and(uint16,0x0000000c),2)\n",
    "        \n",
    "    def __repr__(self):\n",
    "        return 'New window:{:}\\n'.format(self.new_window) + \\\n",
    "               'Tick:{:}\\n'.format(self.tick) + \\\n",
    "               'Type:{:}\\n'.format(self.type) "
   ]
  },
  {
   "cell_type": "code",
   "execution_count": null,
   "metadata": {
    "collapsed": false,
    "run_control": {
     "frozen": false,
     "read_only": false
    }
   },
   "outputs": [],
   "source": [
    "f=eflags(pulses[0]['flags'])\n",
    "f"
   ]
  },
  {
   "cell_type": "code",
   "execution_count": null,
   "metadata": {
    "collapsed": false,
    "run_control": {
     "frozen": false,
     "read_only": false
    }
   },
   "outputs": [],
   "source": [
    "'{:X}'.format(bs.packets[3].bytes[13:14].view(np.uint16))"
   ]
  },
  {
   "cell_type": "code",
   "execution_count": null,
   "metadata": {
    "collapsed": true,
    "run_control": {
     "frozen": false,
     "read_only": false
    }
   },
   "outputs": [],
   "source": []
  },
  {
   "cell_type": "code",
   "execution_count": null,
   "metadata": {
    "collapsed": false,
    "run_control": {
     "frozen": false,
     "read_only": false
    }
   },
   "outputs": [],
   "source": [
    "'{:X}'.format(bs.packets[3].bytes[14:16].view(np.uint16)[0])"
   ]
  },
  {
   "cell_type": "code",
   "execution_count": null,
   "metadata": {
    "collapsed": false,
    "run_control": {
     "frozen": false,
     "read_only": false
    }
   },
   "outputs": [],
   "source": [
    "bs.packets[3].bytes[14:16].view(np.uint16)[0]"
   ]
  },
  {
   "cell_type": "code",
   "execution_count": null,
   "metadata": {
    "collapsed": false,
    "run_control": {
     "frozen": false,
     "read_only": false
    }
   },
   "outputs": [],
   "source": [
    "bs=np.uint8(stream['data'][:48])"
   ]
  },
  {
   "cell_type": "code",
   "execution_count": null,
   "metadata": {
    "collapsed": false,
    "run_control": {
     "frozen": false,
     "read_only": false
    }
   },
   "outputs": [],
   "source": [
    "bs"
   ]
  },
  {
   "cell_type": "code",
   "execution_count": null,
   "metadata": {
    "collapsed": false,
    "run_control": {
     "frozen": false,
     "read_only": false
    }
   },
   "outputs": [],
   "source": [
    "events=stream['data'].view(event_dt)"
   ]
  },
  {
   "cell_type": "code",
   "execution_count": null,
   "metadata": {
    "collapsed": false,
    "run_control": {
     "frozen": false,
     "read_only": false
    }
   },
   "outputs": [],
   "source": [
    "'{:X}'.format(events['flags'][0])"
   ]
  },
  {
   "cell_type": "code",
   "execution_count": null,
   "metadata": {
    "collapsed": false,
    "run_control": {
     "frozen": false,
     "read_only": false
    }
   },
   "outputs": [],
   "source": [
    "events['rise']"
   ]
  },
  {
   "cell_type": "code",
   "execution_count": null,
   "metadata": {
    "collapsed": false,
    "run_control": {
     "frozen": false,
     "read_only": false
    }
   },
   "outputs": [],
   "source": [
    "events"
   ]
  },
  {
   "cell_type": "code",
   "execution_count": null,
   "metadata": {
    "collapsed": false,
    "run_control": {
     "frozen": false,
     "read_only": false
    }
   },
   "outputs": [],
   "source": [
    "'{:04X}'.format(events['flags'][1])"
   ]
  },
  {
   "cell_type": "code",
   "execution_count": null,
   "metadata": {
    "collapsed": true,
    "run_control": {
     "frozen": false,
     "read_only": false
    }
   },
   "outputs": [],
   "source": [
    "pulse_peak_dt=np.dtype([('time','>i2'),('minima','>i2'),('rise','>u2'),('height','>i2')])\n",
    "pulse_dt=np.dtype([('time','>i2'),('flags','>i2'),('resv','>i2'),('size','>u2'),\n",
    "                  ('offset','>i2'),('length','>i2'),('area','>i4'),('peaks',(pulse_peak_dt,1))])\n",
    "data=np.copy(stream['data'])"
   ]
  },
  {
   "cell_type": "code",
   "execution_count": null,
   "metadata": {
    "collapsed": false,
    "run_control": {
     "frozen": false,
     "read_only": false
    }
   },
   "outputs": [],
   "source": [
    "pulses=data.view(pulse_dt)"
   ]
  },
  {
   "cell_type": "code",
   "execution_count": null,
   "metadata": {
    "collapsed": false,
    "run_control": {
     "frozen": false,
     "read_only": false
    }
   },
   "outputs": [],
   "source": [
    "pulses['peaks']['height']-pulses['peaks']['minima']"
   ]
  },
  {
   "cell_type": "code",
   "execution_count": null,
   "metadata": {
    "collapsed": false,
    "run_control": {
     "frozen": false,
     "read_only": false
    }
   },
   "outputs": [],
   "source": [
    "pulses['peaks']['minima']"
   ]
  },
  {
   "cell_type": "code",
   "execution_count": null,
   "metadata": {
    "collapsed": false,
    "run_control": {
     "frozen": false,
     "read_only": false
    }
   },
   "outputs": [],
   "source": [
    "peak_count=np.right_shift(np.bitwise_and(pulses['flags'],0xF000),12)\n",
    "peak_overflow=np.bitwise_and(pulses['flags'],0x0800)!=0\n",
    "channel=np.right_shift(np.bitwise_and(pulses['flags'],0x0700),8)\n",
    "timing_type=np.right_shift(np.bitwise_and(pulses['flags'],0x00C0),6)\n",
    "height_type=np.right_shift(np.bitwise_and(pulses['flags'],0x0030),4)\n",
    "event_type=np.right_shift(np.bitwise_and(pulses['flags'],0x000E),1)\n",
    "new_window=np.bitwise_and(pulses['flags'],0x0001)!=0"
   ]
  },
  {
   "cell_type": "code",
   "execution_count": null,
   "metadata": {
    "collapsed": false,
    "run_control": {
     "frozen": false,
     "read_only": false
    }
   },
   "outputs": [],
   "source": [
    "peak_overflow"
   ]
  },
  {
   "cell_type": "code",
   "execution_count": null,
   "metadata": {
    "collapsed": true,
    "run_control": {
     "frozen": false,
     "read_only": false
    }
   },
   "outputs": [],
   "source": [
    "test_dt=np.dtype(\n",
    "    [('time','i2'),('flags','i2'),('rise','u2'),('minima','i2'),('low','u8'),('high','u8')]\n",
    ")\n",
    "test=data.view(test_dt)"
   ]
  },
  {
   "cell_type": "code",
   "execution_count": null,
   "metadata": {
    "collapsed": false,
    "run_control": {
     "frozen": false,
     "read_only": false
    }
   },
   "outputs": [],
   "source": [
    "test"
   ]
  },
  {
   "cell_type": "code",
   "execution_count": null,
   "metadata": {
    "collapsed": false,
    "run_control": {
     "frozen": false,
     "read_only": false
    }
   },
   "outputs": [],
   "source": [
    "test['minima']"
   ]
  },
  {
   "cell_type": "code",
   "execution_count": null,
   "metadata": {
    "collapsed": false,
    "run_control": {
     "frozen": false,
     "read_only": false
    }
   },
   "outputs": [],
   "source": [
    "low1=np.int32(np.right_shift(np.bitwise_and(test['low'],0x03FFFF000000000),36))\n",
    "s=(np.bitwise_and(low1,0x00020000)!=0)*0xFFFC0000\n",
    "low2=np.int32(np.right_shift(np.bitwise_and(test['low'],0x000000FFFFC0000),18))\n",
    "low_threshold=np.int32(np.bitwise_and(test['low'],0x00000000003FFFF))\n",
    "high1=np.int32(np.right_shift(np.bitwise_and(test['high'],0x03FFFF000000000),36))\n",
    "high2=np.int32(np.right_shift(np.bitwise_and(test['high'],0x000000FFFFC0000),18))\n",
    "high_threshold=np.int32(np.bitwise_and(test['high'],0x00000000003FFFF))"
   ]
  },
  {
   "cell_type": "code",
   "execution_count": null,
   "metadata": {
    "collapsed": false,
    "run_control": {
     "frozen": false,
     "read_only": false
    }
   },
   "outputs": [],
   "source": [
    "np.int32(np.bitwise_or(low1,s))/8.0"
   ]
  },
  {
   "cell_type": "code",
   "execution_count": null,
   "metadata": {
    "collapsed": false,
    "run_control": {
     "frozen": false,
     "read_only": false
    }
   },
   "outputs": [],
   "source": [
    "'{:04X}'.format(low1[0])"
   ]
  },
  {
   "cell_type": "code",
   "execution_count": null,
   "metadata": {
    "collapsed": false,
    "run_control": {
     "frozen": false,
     "read_only": false
    }
   },
   "outputs": [],
   "source": [
    "high1/8.0"
   ]
  },
  {
   "cell_type": "code",
   "execution_count": null,
   "metadata": {
    "collapsed": false,
    "run_control": {
     "frozen": false,
     "read_only": false
    }
   },
   "outputs": [],
   "source": [
    "high2/8.0"
   ]
  },
  {
   "cell_type": "code",
   "execution_count": null,
   "metadata": {
    "collapsed": false,
    "run_control": {
     "frozen": false,
     "read_only": false
    }
   },
   "outputs": [],
   "source": [
    "'{:04X}'.format(high_threshold[0])"
   ]
  },
  {
   "cell_type": "code",
   "execution_count": null,
   "metadata": {
    "collapsed": false,
    "run_control": {
     "frozen": false,
     "read_only": false
    }
   },
   "outputs": [],
   "source": [
    "from enum import Enum"
   ]
  },
  {
   "cell_type": "code",
   "execution_count": null,
   "metadata": {
    "collapsed": false,
    "run_control": {
     "frozen": false,
     "read_only": false
    }
   },
   "outputs": [],
   "source": [
    "class VhdlEnum(int, Enum):\n",
    "\n",
    "    def __str__(self):\n",
    "        return self.name.replace(\"-\", \" \")\n",
    "    \n",
    "    def select(self):\n",
    "        return pow(2, self.value)\n",
    "    "
   ]
  },
  {
   "cell_type": "code",
   "execution_count": null,
   "metadata": {
    "collapsed": false,
    "run_control": {
     "frozen": false,
     "read_only": false
    }
   },
   "outputs": [],
   "source": [
    "class Test(VhdlEnum):\n",
    "    a=0\n",
    "    b=1"
   ]
  },
  {
   "cell_type": "code",
   "execution_count": null,
   "metadata": {
    "collapsed": false,
    "run_control": {
     "frozen": false,
     "read_only": false
    }
   },
   "outputs": [],
   "source": [
    "Test(0)"
   ]
  },
  {
   "cell_type": "code",
   "execution_count": null,
   "metadata": {
    "collapsed": true,
    "run_control": {
     "frozen": false,
     "read_only": false
    }
   },
   "outputs": [],
   "source": []
  }
 ],
 "metadata": {
  "anaconda-cloud": {},
  "kernelspec": {
   "display_name": "Python [conda root]",
   "language": "python",
   "name": "conda-root-py"
  },
  "language_info": {
   "codemirror_mode": {
    "name": "ipython",
    "version": 3
   },
   "file_extension": ".py",
   "mimetype": "text/x-python",
   "name": "python",
   "nbconvert_exporter": "python",
   "pygments_lexer": "ipython3",
   "version": "3.5.3"
  }
 },
 "nbformat": 4,
 "nbformat_minor": 1
}
