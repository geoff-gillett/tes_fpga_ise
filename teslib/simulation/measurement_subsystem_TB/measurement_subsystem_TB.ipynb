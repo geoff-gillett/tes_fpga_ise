{
 "cells": [
  {
   "cell_type": "markdown",
   "metadata": {},
   "source": [
    "timestamp 0 => clk 20\n",
    "\n",
    "traces start at clk 1"
   ]
  },
  {
   "cell_type": "code",
   "execution_count": null,
   "metadata": {
    "collapsed": false,
    "run_control": {
     "frozen": false,
     "read_only": false
    }
   },
   "outputs": [],
   "source": [
    "#Mac\n",
    "import sys\n",
    "sys.path.append('../../../../interface/python')"
   ]
  },
  {
   "cell_type": "code",
   "execution_count": 1,
   "metadata": {
    "collapsed": false,
    "run_control": {
     "frozen": false,
     "read_only": false
    }
   },
   "outputs": [],
   "source": [
    "from tes.data import Data,PacketStream,Packet,Payload,EventFlags,Event\n",
    "import numpy as np\n",
    "import matplotlib.pyplot as plt"
   ]
  },
  {
   "cell_type": "code",
   "execution_count": 2,
   "metadata": {
    "code_folding": [],
    "collapsed": false,
    "run_control": {
     "frozen": false,
     "read_only": false
    }
   },
   "outputs": [],
   "source": [
    "#NOTE traces[0] corresponts to clk=1\n",
    "trace_dt=np.dtype([('raw','i4'),('filtered','i4'),('slope','i4'),('filteredL','i4')])\n",
    "stream_dt=np.dtype([('data','i4'),('last','i4')])\n",
    "minmax_dt=np.dtype(\n",
    "    [\n",
    "        ('filtered','i4'),('timing_threshold','i4'),\n",
    "        ('height_threshold','i4'),('slope_extrema','i4'),('slope_area','i4'),('clk','i4')\n",
    "    ]\n",
    ")\n",
    "cfd_dt=np.dtype('i4')\n",
    "filteredxing_dt=np.dtype([('extrema','i4'),('area','i4'),('clk','i4')])"
   ]
  },
  {
   "cell_type": "code",
   "execution_count": null,
   "metadata": {
    "collapsed": false,
    "run_control": {
     "frozen": false,
     "read_only": false
    }
   },
   "outputs": [],
   "source": [
    "traces=np.fromfile('data/traces',trace_dt)\n",
    "stream=np.fromfile('data/bytestream',stream_dt)\n",
    "minmax=np.fromfile('data/minmax',minmax_dt)\n",
    "cfd=np.fromfile('data/cfd',cfd_dt)\n",
    "filteredxing=np.fromfile('data/filteredxing',filteredxing_dt)"
   ]
  },
  {
   "cell_type": "code",
   "execution_count": 3,
   "metadata": {
    "collapsed": false,
    "run_control": {
     "frozen": false,
     "read_only": false
    },
    "scrolled": true
   },
   "outputs": [],
   "source": [
    "traces=Data.fromfile('traces',trace_dt,'teslib','measurement_subsystem_TB',tool='vivado')\n",
    "stream=Data.fromfile('bytestream',stream_dt,'teslib','measurement_subsystem_TB',tool='vivado')\n",
    "minmax=Data.fromfile('minmax',minmax_dt,'teslib','measurement_subsystem_TB',tool='vivado')\n",
    "cfd=Data.fromfile('cfd',cfd_dt,'teslib','measurement_subsystem_TB',tool='vivado')\n",
    "filteredxing=Data.fromfile(\n",
    "    'filteredxing',filteredxing_dt,'teslib','measurement_subsystem_TB',tool='vivado'\n",
    ")"
   ]
  },
  {
   "cell_type": "code",
   "execution_count": null,
   "metadata": {
    "collapsed": false,
    "run_control": {
     "frozen": false,
     "read_only": false
    },
    "scrolled": true
   },
   "outputs": [],
   "source": [
    "# Mac\n",
    "traces=Data.fromfile(\n",
    "    'traces',trace_dt,'teslib','measurement_subsystem_TB',tool='vivado',\n",
    "    root='/Volumes/C/'\n",
    ")\n",
    "stream=Data.fromfile(\n",
    "    'bytestream',stream_dt,'teslib','measurement_subsystem_TB',tool='vivado',\n",
    "    root='/Volumes/C/'\n",
    ")\n",
    "minmax=Data.fromfile(\n",
    "    'minmax',minmax_dt,'teslib','measurement_subsystem_TB',tool='vivado',\n",
    "    root='/Volumes/C/'\n",
    ")\n",
    "cfd=Data.fromfile(\n",
    "    'cfd',cfd_dt,'teslib','measurement_subsystem_TB',tool='vivado',\n",
    "    root='/Volumes/C/'\n",
    ")\n",
    "filteredxing=Data.fromfile(\n",
    "    'filteredxing',filteredxing_dt,'teslib','measurement_subsystem_TB',\n",
    "    tool='vivado',root='/Volumes/C/'\n",
    ")"
   ]
  },
  {
   "cell_type": "code",
   "execution_count": null,
   "metadata": {
    "collapsed": true
   },
   "outputs": [],
   "source": [
    "def plot_event(event_tupple):\n",
    "    pre=200\n",
    "    post=1000\n",
    "    timestamp=event_tupple[0]\n",
    "    event_type=event_tupple[1]\n",
    "    event=event_tupple[2]\n",
    "    flags=EventFlags(event['flags'])\n",
    "    print(flags)\n",
    "    print('timestamp',timestamp, 'time', event['time'],'height',event['height'],'min',event['minima'])\n",
    "    if flags.type == Event.tick:\n",
    "        return\n",
    "    s=traces['filtered'][timestamp+20-pre:timestamp+20+post]\n",
    "    r=traces['raw'][timestamp+20-pre:timestamp+20+post]\n",
    "    i = np.where(abs(minmax['clk'])<=timestamp+20)[0][-1]\n",
    "    min_t=abs(minmax['clk'][i])-(timestamp+20)\n",
    "#     print(minmax['clk'][i],min_t,i,timestamp)\n",
    "    #plt.plot(r,'k',linewidth=0.5)\n",
    "    plt.plot(s,'b',linewidth=1)\n",
    "    #plt.plot([pre],s[pre],'sg')\n",
    "    #plt.plot([pre+min_t],minmax['filtered'][i],'sr')\n",
    "    if event_type==Event.pulse:\n",
    "        for i in range(flags.peak_number):\n",
    "            p=event['peaks'][i]\n",
    "            plt.plot([0,len(s)-1],[p['height'],p['height']],':r')\n",
    "    else:\n",
    "      plt.plot([0,len(s)-1],[event['height'],event['height']],':r')\n",
    "        \n",
    "    #print(event['height'],event['minima'])\n",
    "    #print(minmax['filtered'][i]==s[pre+min_t])\n",
    "    #print(minmax['filtered'][i]==event['minima'])\n",
    "    #print(s[pre],s[pre-1])"
   ]
  },
  {
   "cell_type": "code",
   "execution_count": null,
   "metadata": {
    "collapsed": false,
    "run_control": {
     "frozen": false,
     "read_only": false
    },
    "scrolled": false
   },
   "outputs": [],
   "source": [
    "%matplotlib notebook\n",
    "traces=Data.fromfile('traces',trace_dt,'teslib','measurement_subsystem_TB',tool='vivado')\n",
    "plt.plot(traces['slope'][1100:],'r',linewidth=1)\n",
    "plt.plot(traces['raw'][1100:],linewidth=0.5)\n",
    "plt.plot(traces['filtered'][1100:],'k',linewidth=2)"
   ]
  },
  {
   "cell_type": "code",
   "execution_count": null,
   "metadata": {
    "collapsed": false,
    "run_control": {
     "frozen": false,
     "read_only": false
    },
    "scrolled": true
   },
   "outputs": [],
   "source": [
    "stream=Data.fromfile('bytestream',stream_dt,'teslib','measurement_subsystem_TB',tool='vivado')\n",
    "minmax=Data.fromfile('minmax',minmax_dt,'teslib','measurement_subsystem_TB',tool='vivado')\n",
    "bs=PacketStream(stream)\n",
    "es=bs.eventstream\n",
    "%matplotlib notebook\n",
    "for e in es:\n",
    "    if e[1]==Event.peak:\n",
    "        plot_event(e)"
   ]
  },
  {
   "cell_type": "code",
   "execution_count": 4,
   "metadata": {
    "collapsed": false,
    "run_control": {
     "frozen": false,
     "read_only": false
    },
    "scrolled": true
   },
   "outputs": [
    {
     "data": {
      "text/plain": [
       "[Distribution: channel:0 value:raw_signal, trigger:clock, qualifier:all,\n",
       " Distribution: channel:0 value:raw_signal, trigger:clock, qualifier:all,\n",
       " Distribution: channel:0 value:raw_signal, trigger:clock, qualifier:all,\n",
       " Distribution: channel:0 value:raw_signal, trigger:clock, qualifier:all]"
      ]
     },
     "execution_count": 4,
     "metadata": {},
     "output_type": "execute_result"
    }
   ],
   "source": [
    "traces=Data.fromfile('traces',trace_dt,'teslib','measurement_subsystem_TB',tool='vivado')\n",
    "stream=Data.fromfile('bytestream',stream_dt,'teslib','measurement_subsystem_TB',tool='vivado')\n",
    "bs=PacketStream(stream)\n",
    "dists=bs.distributions\n",
    "#bs.packets\n",
    "dists"
   ]
  },
  {
   "cell_type": "code",
   "execution_count": 5,
   "metadata": {
    "collapsed": false
   },
   "outputs": [
    {
     "data": {
      "text/plain": [
       "[ethertype:88B5 length:48 Payload:tick frame:0 protocol:0,\n",
       " ethertype:88B5 length:1496 Payload:peak frame:1 protocol:1,\n",
       " ethertype:88B5 length:128 Payload:peak frame:2 protocol:2,\n",
       " ethertype:88B5 length:48 Payload:tick frame:3 protocol:3,\n",
       " ethertype:88B5 length:1496 Payload:peak frame:4 protocol:4,\n",
       " ethertype:88B5 length:200 Payload:peak frame:5 protocol:5,\n",
       " ethertype:88B6 length:1496 Payload:MCA frame:6 protocol:0,\n",
       " ethertype:88B5 length:32 Payload:peak frame:7 protocol:6,\n",
       " ethertype:88B5 length:48 Payload:tick frame:8 protocol:7,\n",
       " ethertype:88B6 length:1496 Payload:MCA frame:9 protocol:1,\n",
       " ethertype:88B6 length:1496 Payload:MCA frame:10 protocol:2,\n",
       " ethertype:88B6 length:1496 Payload:MCA frame:11 protocol:3,\n",
       " ethertype:88B6 length:1496 Payload:MCA frame:12 protocol:4,\n",
       " ethertype:88B6 length:1496 Payload:MCA frame:13 protocol:5,\n",
       " ethertype:88B6 length:1496 Payload:MCA frame:14 protocol:6,\n",
       " ethertype:88B6 length:1496 Payload:MCA frame:15 protocol:7,\n",
       " ethertype:88B6 length:1496 Payload:MCA frame:16 protocol:8,\n",
       " ethertype:88B6 length:1496 Payload:MCA frame:17 protocol:9,\n",
       " ethertype:88B6 length:1496 Payload:MCA frame:18 protocol:10,\n",
       " ethertype:88B6 length:1496 Payload:MCA frame:19 protocol:11,\n",
       " ethertype:88B6 length:1496 Payload:MCA frame:20 protocol:12,\n",
       " ethertype:88B6 length:1496 Payload:MCA frame:21 protocol:13,\n",
       " ethertype:88B6 length:1496 Payload:MCA frame:22 protocol:14,\n",
       " ethertype:88B6 length:1496 Payload:MCA frame:23 protocol:15,\n",
       " ethertype:88B6 length:1496 Payload:MCA frame:24 protocol:16,\n",
       " ethertype:88B6 length:1496 Payload:MCA frame:25 protocol:17,\n",
       " ethertype:88B6 length:1496 Payload:MCA frame:26 protocol:18,\n",
       " ethertype:88B6 length:1496 Payload:MCA frame:27 protocol:19,\n",
       " ethertype:88B6 length:1496 Payload:MCA frame:28 protocol:20,\n",
       " ethertype:88B6 length:1496 Payload:MCA frame:29 protocol:21,\n",
       " ethertype:88B5 length:1496 Payload:peak frame:30 protocol:8,\n",
       " ethertype:88B5 length:208 Payload:peak frame:31 protocol:9,\n",
       " ethertype:88B5 length:48 Payload:tick frame:32 protocol:10,\n",
       " ethertype:88B6 length:1496 Payload:MCA frame:33 protocol:22,\n",
       " ethertype:88B6 length:1496 Payload:MCA frame:34 protocol:23,\n",
       " ethertype:88B6 length:1496 Payload:MCA frame:35 protocol:24,\n",
       " ethertype:88B6 length:1496 Payload:MCA frame:36 protocol:25,\n",
       " ethertype:88B6 length:1496 Payload:MCA frame:37 protocol:26,\n",
       " ethertype:88B6 length:1496 Payload:MCA frame:38 protocol:27,\n",
       " ethertype:88B6 length:1496 Payload:MCA frame:39 protocol:28,\n",
       " ethertype:88B6 length:1496 Payload:MCA frame:40 protocol:29,\n",
       " ethertype:88B6 length:1496 Payload:MCA frame:41 protocol:30,\n",
       " ethertype:88B6 length:1496 Payload:MCA frame:42 protocol:31,\n",
       " ethertype:88B6 length:1496 Payload:MCA frame:43 protocol:32,\n",
       " ethertype:88B5 length:1496 Payload:peak frame:44 protocol:11,\n",
       " ethertype:88B5 length:136 Payload:peak frame:45 protocol:12,\n",
       " ethertype:88B5 length:48 Payload:tick frame:46 protocol:13,\n",
       " ethertype:88B6 length:1496 Payload:MCA frame:47 protocol:33,\n",
       " ethertype:88B6 length:1496 Payload:MCA frame:48 protocol:34,\n",
       " ethertype:88B6 length:1496 Payload:MCA frame:49 protocol:35,\n",
       " ethertype:88B6 length:1496 Payload:MCA frame:50 protocol:36,\n",
       " ethertype:88B6 length:1496 Payload:MCA frame:51 protocol:37,\n",
       " ethertype:88B6 length:1496 Payload:MCA frame:52 protocol:38,\n",
       " ethertype:88B6 length:1496 Payload:MCA frame:53 protocol:39,\n",
       " ethertype:88B6 length:1496 Payload:MCA frame:54 protocol:40,\n",
       " ethertype:88B6 length:1496 Payload:MCA frame:55 protocol:41,\n",
       " ethertype:88B6 length:1496 Payload:MCA frame:56 protocol:42,\n",
       " ethertype:88B6 length:1496 Payload:MCA frame:57 protocol:43,\n",
       " ethertype:88B5 length:1496 Payload:peak frame:58 protocol:14,\n",
       " ethertype:88B5 length:224 Payload:peak frame:59 protocol:15,\n",
       " ethertype:88B5 length:48 Payload:tick frame:60 protocol:16,\n",
       " ethertype:88B6 length:832 Payload:MCA frame:61 protocol:44,\n",
       " ethertype:88B5 length:1496 Payload:peak frame:62 protocol:17,\n",
       " ethertype:88B5 length:256 Payload:peak frame:63 protocol:18,\n",
       " ethertype:88B6 length:1496 Payload:MCA frame:64 protocol:0,\n",
       " ethertype:88B6 length:1496 Payload:MCA frame:65 protocol:1,\n",
       " ethertype:88B6 length:1496 Payload:MCA frame:66 protocol:2,\n",
       " ethertype:88B6 length:1496 Payload:MCA frame:67 protocol:3,\n",
       " ethertype:88B6 length:1496 Payload:MCA frame:68 protocol:4,\n",
       " ethertype:88B6 length:1496 Payload:MCA frame:69 protocol:5,\n",
       " ethertype:88B6 length:1496 Payload:MCA frame:70 protocol:6,\n",
       " ethertype:88B6 length:1496 Payload:MCA frame:71 protocol:7,\n",
       " ethertype:88B6 length:1496 Payload:MCA frame:72 protocol:8,\n",
       " ethertype:88B6 length:1496 Payload:MCA frame:73 protocol:9,\n",
       " ethertype:88B5 length:48 Payload:tick frame:74 protocol:19,\n",
       " ethertype:88B6 length:1496 Payload:MCA frame:75 protocol:10,\n",
       " ethertype:88B6 length:1496 Payload:MCA frame:76 protocol:11,\n",
       " ethertype:88B6 length:1496 Payload:MCA frame:77 protocol:12,\n",
       " ethertype:88B6 length:1496 Payload:MCA frame:78 protocol:13,\n",
       " ethertype:88B6 length:1496 Payload:MCA frame:79 protocol:14,\n",
       " ethertype:88B6 length:1496 Payload:MCA frame:80 protocol:15,\n",
       " ethertype:88B6 length:1496 Payload:MCA frame:81 protocol:16,\n",
       " ethertype:88B6 length:1496 Payload:MCA frame:82 protocol:17,\n",
       " ethertype:88B6 length:1496 Payload:MCA frame:83 protocol:18,\n",
       " ethertype:88B6 length:1496 Payload:MCA frame:84 protocol:19,\n",
       " ethertype:88B6 length:1496 Payload:MCA frame:85 protocol:20,\n",
       " ethertype:88B5 length:1496 Payload:peak frame:86 protocol:20,\n",
       " ethertype:88B5 length:208 Payload:peak frame:87 protocol:21,\n",
       " ethertype:88B5 length:48 Payload:tick frame:88 protocol:22,\n",
       " ethertype:88B6 length:1496 Payload:MCA frame:89 protocol:21,\n",
       " ethertype:88B6 length:1496 Payload:MCA frame:90 protocol:22,\n",
       " ethertype:88B6 length:1496 Payload:MCA frame:91 protocol:23,\n",
       " ethertype:88B6 length:1496 Payload:MCA frame:92 protocol:24,\n",
       " ethertype:88B6 length:1496 Payload:MCA frame:93 protocol:25,\n",
       " ethertype:88B6 length:1496 Payload:MCA frame:94 protocol:26,\n",
       " ethertype:88B6 length:1496 Payload:MCA frame:95 protocol:27,\n",
       " ethertype:88B6 length:1496 Payload:MCA frame:96 protocol:28,\n",
       " ethertype:88B6 length:1496 Payload:MCA frame:97 protocol:29,\n",
       " ethertype:88B6 length:1496 Payload:MCA frame:98 protocol:30,\n",
       " ethertype:88B6 length:1496 Payload:MCA frame:99 protocol:31,\n",
       " ethertype:88B5 length:1496 Payload:peak frame:100 protocol:23,\n",
       " ethertype:88B5 length:392 Payload:peak frame:101 protocol:24,\n",
       " ethertype:88B5 length:48 Payload:tick frame:102 protocol:25,\n",
       " ethertype:88B6 length:1496 Payload:MCA frame:103 protocol:32,\n",
       " ethertype:88B6 length:1496 Payload:MCA frame:104 protocol:33,\n",
       " ethertype:88B6 length:1496 Payload:MCA frame:105 protocol:34,\n",
       " ethertype:88B6 length:1496 Payload:MCA frame:106 protocol:35,\n",
       " ethertype:88B6 length:1496 Payload:MCA frame:107 protocol:36,\n",
       " ethertype:88B6 length:1496 Payload:MCA frame:108 protocol:37,\n",
       " ethertype:88B6 length:1496 Payload:MCA frame:109 protocol:38,\n",
       " ethertype:88B6 length:1496 Payload:MCA frame:110 protocol:39,\n",
       " ethertype:88B6 length:1496 Payload:MCA frame:111 protocol:40,\n",
       " ethertype:88B6 length:1496 Payload:MCA frame:112 protocol:41,\n",
       " ethertype:88B6 length:1496 Payload:MCA frame:113 protocol:42,\n",
       " ethertype:88B5 length:1496 Payload:peak frame:114 protocol:26,\n",
       " ethertype:88B5 length:96 Payload:peak frame:115 protocol:27,\n",
       " ethertype:88B5 length:48 Payload:tick frame:116 protocol:28,\n",
       " ethertype:88B6 length:1496 Payload:MCA frame:117 protocol:43,\n",
       " ethertype:88B6 length:832 Payload:MCA frame:118 protocol:44,\n",
       " ethertype:88B5 length:1496 Payload:peak frame:119 protocol:29,\n",
       " ethertype:88B5 length:240 Payload:peak frame:120 protocol:30,\n",
       " ethertype:88B6 length:1496 Payload:MCA frame:121 protocol:0,\n",
       " ethertype:88B6 length:1496 Payload:MCA frame:122 protocol:1,\n",
       " ethertype:88B6 length:1496 Payload:MCA frame:123 protocol:2,\n",
       " ethertype:88B6 length:1496 Payload:MCA frame:124 protocol:3,\n",
       " ethertype:88B6 length:1496 Payload:MCA frame:125 protocol:4,\n",
       " ethertype:88B6 length:1496 Payload:MCA frame:126 protocol:5,\n",
       " ethertype:88B6 length:1496 Payload:MCA frame:127 protocol:6,\n",
       " ethertype:88B6 length:1496 Payload:MCA frame:128 protocol:7,\n",
       " ethertype:88B6 length:1496 Payload:MCA frame:129 protocol:8,\n",
       " ethertype:88B5 length:48 Payload:tick frame:130 protocol:31,\n",
       " ethertype:88B6 length:1496 Payload:MCA frame:131 protocol:9,\n",
       " ethertype:88B6 length:1496 Payload:MCA frame:132 protocol:10,\n",
       " ethertype:88B6 length:1496 Payload:MCA frame:133 protocol:11,\n",
       " ethertype:88B6 length:1496 Payload:MCA frame:134 protocol:12,\n",
       " ethertype:88B6 length:1496 Payload:MCA frame:135 protocol:13,\n",
       " ethertype:88B6 length:1496 Payload:MCA frame:136 protocol:14,\n",
       " ethertype:88B6 length:1496 Payload:MCA frame:137 protocol:15,\n",
       " ethertype:88B6 length:1496 Payload:MCA frame:138 protocol:16,\n",
       " ethertype:88B6 length:1496 Payload:MCA frame:139 protocol:17,\n",
       " ethertype:88B6 length:1496 Payload:MCA frame:140 protocol:18,\n",
       " ethertype:88B6 length:1496 Payload:MCA frame:141 protocol:19,\n",
       " ethertype:88B5 length:1496 Payload:peak frame:142 protocol:32,\n",
       " ethertype:88B5 length:248 Payload:peak frame:143 protocol:33,\n",
       " ethertype:88B5 length:48 Payload:tick frame:144 protocol:34,\n",
       " ethertype:88B6 length:1496 Payload:MCA frame:145 protocol:20,\n",
       " ethertype:88B6 length:1496 Payload:MCA frame:146 protocol:21,\n",
       " ethertype:88B6 length:1496 Payload:MCA frame:147 protocol:22,\n",
       " ethertype:88B6 length:1496 Payload:MCA frame:148 protocol:23,\n",
       " ethertype:88B6 length:1496 Payload:MCA frame:149 protocol:24,\n",
       " ethertype:88B6 length:1496 Payload:MCA frame:150 protocol:25,\n",
       " ethertype:88B6 length:1496 Payload:MCA frame:151 protocol:26,\n",
       " ethertype:88B6 length:1496 Payload:MCA frame:152 protocol:27,\n",
       " ethertype:88B6 length:1496 Payload:MCA frame:153 protocol:28,\n",
       " ethertype:88B6 length:1496 Payload:MCA frame:154 protocol:29,\n",
       " ethertype:88B6 length:1496 Payload:MCA frame:155 protocol:30,\n",
       " ethertype:88B5 length:1496 Payload:peak frame:156 protocol:35,\n",
       " ethertype:88B5 length:120 Payload:peak frame:157 protocol:36,\n",
       " ethertype:88B5 length:48 Payload:tick frame:158 protocol:37,\n",
       " ethertype:88B6 length:1496 Payload:MCA frame:159 protocol:31,\n",
       " ethertype:88B6 length:1496 Payload:MCA frame:160 protocol:32,\n",
       " ethertype:88B6 length:1496 Payload:MCA frame:161 protocol:33,\n",
       " ethertype:88B6 length:1496 Payload:MCA frame:162 protocol:34,\n",
       " ethertype:88B6 length:1496 Payload:MCA frame:163 protocol:35,\n",
       " ethertype:88B6 length:1496 Payload:MCA frame:164 protocol:36,\n",
       " ethertype:88B6 length:1496 Payload:MCA frame:165 protocol:37,\n",
       " ethertype:88B6 length:1496 Payload:MCA frame:166 protocol:38,\n",
       " ethertype:88B6 length:1496 Payload:MCA frame:167 protocol:39,\n",
       " ethertype:88B6 length:1496 Payload:MCA frame:168 protocol:40,\n",
       " ethertype:88B6 length:1496 Payload:MCA frame:169 protocol:41,\n",
       " ethertype:88B5 length:1496 Payload:peak frame:170 protocol:38,\n",
       " ethertype:88B5 length:248 Payload:peak frame:171 protocol:39,\n",
       " ethertype:88B5 length:48 Payload:tick frame:172 protocol:40,\n",
       " ethertype:88B6 length:1496 Payload:MCA frame:173 protocol:42,\n",
       " ethertype:88B6 length:1496 Payload:MCA frame:174 protocol:43,\n",
       " ethertype:88B6 length:832 Payload:MCA frame:175 protocol:44,\n",
       " ethertype:88B5 length:1496 Payload:peak frame:176 protocol:41,\n",
       " ethertype:88B5 length:208 Payload:peak frame:177 protocol:42,\n",
       " ethertype:88B5 length:48 Payload:tick frame:178 protocol:43,\n",
       " ethertype:88B5 length:1496 Payload:peak frame:179 protocol:44,\n",
       " ethertype:88B5 length:296 Payload:peak frame:180 protocol:45,\n",
       " ethertype:88B6 length:1496 Payload:MCA frame:181 protocol:0,\n",
       " ethertype:88B6 length:1496 Payload:MCA frame:182 protocol:1,\n",
       " ethertype:88B6 length:1496 Payload:MCA frame:183 protocol:2,\n",
       " ethertype:88B6 length:1496 Payload:MCA frame:184 protocol:3,\n",
       " ethertype:88B6 length:1496 Payload:MCA frame:185 protocol:4,\n",
       " ethertype:88B6 length:1496 Payload:MCA frame:186 protocol:5,\n",
       " ethertype:88B6 length:1496 Payload:MCA frame:187 protocol:6,\n",
       " ethertype:88B6 length:1496 Payload:MCA frame:188 protocol:7,\n",
       " ethertype:88B6 length:1496 Payload:MCA frame:189 protocol:8,\n",
       " ethertype:88B6 length:1496 Payload:MCA frame:190 protocol:9,\n",
       " ethertype:88B5 length:48 Payload:tick frame:191 protocol:46,\n",
       " ethertype:88B6 length:1496 Payload:MCA frame:192 protocol:10,\n",
       " ethertype:88B6 length:1496 Payload:MCA frame:193 protocol:11,\n",
       " ethertype:88B6 length:1496 Payload:MCA frame:194 protocol:12,\n",
       " ethertype:88B6 length:1496 Payload:MCA frame:195 protocol:13,\n",
       " ethertype:88B6 length:1496 Payload:MCA frame:196 protocol:14,\n",
       " ethertype:88B6 length:1496 Payload:MCA frame:197 protocol:15,\n",
       " ethertype:88B6 length:1496 Payload:MCA frame:198 protocol:16,\n",
       " ethertype:88B6 length:1496 Payload:MCA frame:199 protocol:17,\n",
       " ethertype:88B6 length:1496 Payload:MCA frame:200 protocol:18,\n",
       " ethertype:88B6 length:1496 Payload:MCA frame:201 protocol:19,\n",
       " ethertype:88B6 length:1496 Payload:MCA frame:202 protocol:20,\n",
       " ethertype:88B5 length:1496 Payload:peak frame:203 protocol:47,\n",
       " ethertype:88B5 length:200 Payload:peak frame:204 protocol:48,\n",
       " ethertype:88B5 length:48 Payload:tick frame:205 protocol:49,\n",
       " ethertype:88B6 length:1496 Payload:MCA frame:206 protocol:21,\n",
       " ethertype:88B6 length:1496 Payload:MCA frame:207 protocol:22,\n",
       " ethertype:88B6 length:1496 Payload:MCA frame:208 protocol:23,\n",
       " ethertype:88B6 length:1496 Payload:MCA frame:209 protocol:24,\n",
       " ethertype:88B6 length:1496 Payload:MCA frame:210 protocol:25,\n",
       " ethertype:88B6 length:1496 Payload:MCA frame:211 protocol:26,\n",
       " ethertype:88B6 length:1496 Payload:MCA frame:212 protocol:27,\n",
       " ethertype:88B6 length:1496 Payload:MCA frame:213 protocol:28,\n",
       " ethertype:88B6 length:1496 Payload:MCA frame:214 protocol:29,\n",
       " ethertype:88B6 length:1496 Payload:MCA frame:215 protocol:30,\n",
       " ethertype:88B6 length:1496 Payload:MCA frame:216 protocol:31,\n",
       " ethertype:88B5 length:1496 Payload:peak frame:217 protocol:50,\n",
       " ethertype:88B5 length:96 Payload:peak frame:218 protocol:51,\n",
       " ethertype:88B5 length:48 Payload:tick frame:219 protocol:52,\n",
       " ethertype:88B6 length:1496 Payload:MCA frame:220 protocol:32,\n",
       " ethertype:88B6 length:1496 Payload:MCA frame:221 protocol:33,\n",
       " ethertype:88B6 length:1496 Payload:MCA frame:222 protocol:34,\n",
       " ethertype:88B6 length:1496 Payload:MCA frame:223 protocol:35,\n",
       " ethertype:88B6 length:1496 Payload:MCA frame:224 protocol:36,\n",
       " ethertype:88B6 length:1496 Payload:MCA frame:225 protocol:37,\n",
       " ethertype:88B6 length:1496 Payload:MCA frame:226 protocol:38,\n",
       " ethertype:88B6 length:1496 Payload:MCA frame:227 protocol:39,\n",
       " ethertype:88B6 length:1496 Payload:MCA frame:228 protocol:40,\n",
       " ethertype:88B6 length:1496 Payload:MCA frame:229 protocol:41,\n",
       " ethertype:88B6 length:1496 Payload:MCA frame:230 protocol:42,\n",
       " ethertype:88B5 length:1496 Payload:peak frame:231 protocol:53,\n",
       " ethertype:88B5 length:240 Payload:peak frame:232 protocol:54,\n",
       " ethertype:88B5 length:48 Payload:tick frame:233 protocol:55,\n",
       " ethertype:88B6 length:1496 Payload:MCA frame:234 protocol:43,\n",
       " ethertype:88B6 length:832 Payload:MCA frame:235 protocol:44,\n",
       " ethertype:88B5 length:1496 Payload:peak frame:236 protocol:56,\n",
       " ethertype:88B5 length:232 Payload:peak frame:237 protocol:57,\n",
       " ethertype:88B5 length:48 Payload:tick frame:238 protocol:58,\n",
       " ethertype:88B5 length:1496 Payload:peak frame:239 protocol:59,\n",
       " ethertype:88B5 length:280 Payload:peak frame:240 protocol:60,\n",
       " ethertype:88B5 length:48 Payload:tick frame:241 protocol:61,\n",
       " ethertype:88B5 length:1496 Payload:peak frame:242 protocol:62,\n",
       " ethertype:88B5 length:304 Payload:peak frame:243 protocol:63,\n",
       " ethertype:88B5 length:48 Payload:tick frame:244 protocol:64,\n",
       " ethertype:88B5 length:1496 Payload:peak frame:245 protocol:65,\n",
       " ethertype:88B5 length:168 Payload:peak frame:246 protocol:66,\n",
       " ethertype:88B5 length:48 Payload:tick frame:247 protocol:67,\n",
       " ethertype:88B5 length:1496 Payload:peak frame:248 protocol:68,\n",
       " ethertype:88B5 length:248 Payload:peak frame:249 protocol:69,\n",
       " ethertype:88B5 length:48 Payload:tick frame:250 protocol:70,\n",
       " ethertype:88B5 length:1496 Payload:peak frame:251 protocol:71,\n",
       " ethertype:88B5 length:344 Payload:peak frame:252 protocol:72,\n",
       " ethertype:88B5 length:48 Payload:tick frame:253 protocol:73,\n",
       " ethertype:88B5 length:1496 Payload:peak frame:254 protocol:74,\n",
       " ethertype:88B5 length:528 Payload:peak frame:255 protocol:75,\n",
       " ethertype:88B5 length:48 Payload:tick frame:256 protocol:76,\n",
       " ethertype:88B5 length:1496 Payload:peak frame:257 protocol:77,\n",
       " ethertype:88B5 length:208 Payload:peak frame:258 protocol:78,\n",
       " ethertype:88B5 length:48 Payload:tick frame:259 protocol:79,\n",
       " ethertype:88B5 length:1496 Payload:peak frame:260 protocol:80,\n",
       " ethertype:88B5 length:256 Payload:peak frame:261 protocol:81,\n",
       " ethertype:88B5 length:48 Payload:tick frame:262 protocol:82,\n",
       " ethertype:88B5 length:1496 Payload:peak frame:263 protocol:83,\n",
       " ethertype:88B5 length:280 Payload:peak frame:264 protocol:84,\n",
       " ethertype:88B5 length:48 Payload:tick frame:265 protocol:85,\n",
       " ethertype:88B5 length:1496 Payload:peak frame:266 protocol:86,\n",
       " ethertype:88B5 length:256 Payload:peak frame:267 protocol:87,\n",
       " ethertype:88B5 length:48 Payload:tick frame:268 protocol:88,\n",
       " ethertype:88B5 length:1496 Payload:peak frame:269 protocol:89,\n",
       " ethertype:88B5 length:408 Payload:peak frame:270 protocol:90,\n",
       " ethertype:88B5 length:48 Payload:tick frame:271 protocol:91]"
      ]
     },
     "execution_count": 5,
     "metadata": {},
     "output_type": "execute_result"
    }
   ],
   "source": [
    "bs.packets"
   ]
  },
  {
   "cell_type": "code",
   "execution_count": 6,
   "metadata": {
    "collapsed": false,
    "run_control": {
     "frozen": false,
     "read_only": false
    },
    "scrolled": true
   },
   "outputs": [
    {
     "data": {
      "text/plain": [
       "(array([11243, 11251, 11275, 11307, 11371, 11395, 11427, 11435, 11443,\n",
       "        11459, 11475, 11483, 11507, 11515, 11523, 11531, 11539, 11547,\n",
       "        11563, 11587, 11595, 11603, 11611, 11627, 11635, 11643, 11675,\n",
       "        11683, 11691, 11723, 11731, 11739, 11755, 11763, 11771, 11779,\n",
       "        11787, 11795, 11811, 11819, 11827, 11835, 11843, 11851, 11859,\n",
       "        11867, 11891, 11907, 11915, 11923, 11931, 11939, 11955, 11971,\n",
       "        11979, 11987, 11995, 12011, 12027, 12035, 12043, 12051, 12059,\n",
       "        12067, 12075, 12083, 12091, 12099, 12107, 12115, 12123, 12139,\n",
       "        12147, 12155, 12163, 12171, 12179, 12187, 12195, 12203, 12211,\n",
       "        12219, 12227, 12235, 12243, 12251, 12259, 12267, 12275, 12283,\n",
       "        12291, 12299, 12307, 12315, 12323, 12331, 12339, 12347, 12355,\n",
       "        12363, 12371, 12379, 12387, 12395, 12403, 12411, 12419, 12427,\n",
       "        12435, 12443, 12451, 12459, 12467, 12475, 12483, 12491, 12499,\n",
       "        12507, 12515, 12523, 12531, 12539, 12547, 12555, 12563, 12571,\n",
       "        12579, 12587, 12595, 12603, 12611, 12619, 12627, 12635, 12643,\n",
       "        12651, 12659, 12667, 12675, 12683, 12691, 12699, 12707, 12715,\n",
       "        12723, 12731, 12739, 12747, 12755, 12763, 12771, 12779, 12787,\n",
       "        12795, 12803, 12811, 12819, 12827, 12835, 12843, 12851, 12859,\n",
       "        12867, 12875, 12883, 12891, 12899, 12907, 12915, 12923, 12931,\n",
       "        12939, 12947, 12955, 12963, 12971, 12979, 12987, 12995, 13003,\n",
       "        13011, 13019, 13027, 13035, 13043, 13051, 13059, 13067, 13075,\n",
       "        13083, 13091, 13099, 13107, 13115, 13123, 13131, 13139, 13147,\n",
       "        13155, 13163, 13171, 13177, 13179, 13187, 13195, 13203, 13211,\n",
       "        13219, 13227, 13235, 13243, 13251, 13259, 13267, 13275, 13283,\n",
       "        13291, 13299, 13307, 13315, 13323, 13331, 13339, 13347, 13355,\n",
       "        13363, 13371, 13379, 13387, 13395, 13403, 13411, 13419, 13427,\n",
       "        13435, 13443, 13451, 13459, 13467, 13475, 13483, 13491, 13499,\n",
       "        13507, 13515, 13523, 13531, 13539, 13545, 13547, 13555, 13563,\n",
       "        13571, 13579, 13587, 13595, 13603, 13611, 13619, 13627, 13635,\n",
       "        13643, 13651, 13659, 13667, 13675, 13683, 13691, 13699, 13707,\n",
       "        13715, 13723, 13731, 13739, 13747, 13755, 13763, 13771, 13779,\n",
       "        13787, 13795, 13803, 13811, 13819, 13827, 13835, 13843, 13851,\n",
       "        13859, 13867, 13875, 13883, 13891, 13899, 13907, 13913, 13915,\n",
       "        13923, 13931, 13939, 13947, 13955, 13963, 13971, 13979, 13987,\n",
       "        13995, 14003, 14011, 14019, 14027, 14035, 14043, 14051, 14059,\n",
       "        14067, 14075, 14083, 14091, 14099, 14107, 14115, 14123, 14131,\n",
       "        14139, 14147, 14155, 14163, 14171, 14179, 14187, 14195, 14203,\n",
       "        14211, 14219, 14227, 14235, 14243, 14251, 14259, 14267, 14275,\n",
       "        14281, 14283, 14291, 14299, 14307, 14315, 14323, 14331, 14339,\n",
       "        14347, 14355, 14363, 14371, 14379, 14387, 14395, 14403, 14411,\n",
       "        14419, 14427, 14435, 14443, 14451, 14459, 14467, 14475, 14483,\n",
       "        14491, 14499, 14507, 14515, 14523, 14531, 14539, 14547, 14555,\n",
       "        14563, 14571, 14579, 14587, 14595, 14603, 14611, 14619, 14627,\n",
       "        14635, 14643, 14649, 14651, 14659, 14667, 14675, 14683, 14691,\n",
       "        14699, 14707, 14715, 14723, 14731, 14739, 14747, 14755, 14763,\n",
       "        14771, 14779, 14787, 14795, 14803, 14811, 14819, 14827, 14835,\n",
       "        14843, 14851, 14859, 14867, 14875, 14883, 14891, 14899, 14907,\n",
       "        14915, 14923, 14931, 14939, 14947, 14955, 14963, 14971, 14979,\n",
       "        14987, 14995, 15003, 15011, 15017, 15019, 15027, 15035, 15043,\n",
       "        15051, 15059, 15067, 15075, 15083, 15091, 15099, 15107, 15115,\n",
       "        15123, 15131, 15139, 15147, 15155, 15163, 15171, 15179, 15187,\n",
       "        15195, 15203, 15211, 15219, 15227, 15235, 15243, 15251, 15259,\n",
       "        15267, 15275, 15283, 15291, 15299, 15307, 15315, 15323, 15331,\n",
       "        15339, 15347, 15355, 15363, 15371, 15379, 15385, 15387, 15395,\n",
       "        15403, 15411, 15419, 15427, 15435, 15443, 15451, 15459, 15467,\n",
       "        15475, 15483, 15491, 15499, 15507, 15515, 15523, 15531, 15539,\n",
       "        15547, 15555, 15563, 15571, 15579, 15587, 15595, 15603, 15611,\n",
       "        15619, 15627, 15635, 15643, 15651, 15659, 15667, 15675, 15683,\n",
       "        15691, 15699, 15707, 15715, 15723, 15731, 15739, 15747, 15753,\n",
       "        15755, 15763, 15771, 15779, 15787, 15795, 15803, 15811, 15819,\n",
       "        15827, 15835, 15843, 15851, 15859, 15867, 15875, 15883, 15891,\n",
       "        15899, 15907, 15915, 15923, 15931, 15939, 15947, 15955, 15963,\n",
       "        15971, 15979, 15987, 15995, 16003, 16011, 16019, 16027, 16035,\n",
       "        16043, 16051, 16059, 16067, 16075, 16083, 16091, 16099, 16107,\n",
       "        16115, 16121, 16123, 16131, 16139, 16147, 16155, 16163, 16171,\n",
       "        16179, 16187, 16195, 16203, 16211, 16219, 16227, 16235, 16243,\n",
       "        16251, 16259, 16267, 16275, 16283, 16291, 16299, 16307, 16315,\n",
       "        16323, 16331, 16339, 16347, 16355, 16363, 16371, 16379, 16383], dtype=int64),)"
      ]
     },
     "execution_count": 6,
     "metadata": {},
     "output_type": "execute_result"
    }
   ],
   "source": [
    "import tes.mca as mca\n",
    "d=bs.distributions[0]\n",
    "eset=np.uint64(1)\n",
    "bset=np.uint64(0)\n",
    "cset=np.uint64(20)\n",
    "\n",
    "stop=d.stop_time+eset+cset\n",
    "start=d.start_time+bset+cset\n",
    "bins=np.zeros((d.last_bin+1,),dtype=np.uint32)\n",
    "\n",
    "if d.value==mca.Value.raw_signal:\n",
    "    tname='raw'\n",
    "elif d.value==mca.Value.filtered_signal:\n",
    "    tname='filtered'\n",
    "\n",
    "for i in range(start,stop):\n",
    "    s = traces[tname][i]\n",
    "    if s < d.lowest_value:\n",
    "        bins[0] += 1\n",
    "    else:\n",
    "        bin_number = s - d.lowest_value + 1\n",
    "        if bin_number < d.last_bin:\n",
    "            bins[bin_number] += 1\n",
    "        else:\n",
    "            bins[d.last_bin] += 1\n",
    "        \n",
    "bad=(bins-d.counts).nonzero()\n",
    "bad"
   ]
  },
  {
   "cell_type": "code",
   "execution_count": 7,
   "metadata": {
    "collapsed": false
   },
   "outputs": [
    {
     "data": {
      "text/plain": [
       "array([0, 0, 0, 0, 0, 0, 0, 0, 0], dtype=uint32)"
      ]
     },
     "execution_count": 7,
     "metadata": {},
     "output_type": "execute_result"
    }
   ],
   "source": [
    "d.counts[bad][1:10]"
   ]
  },
  {
   "cell_type": "code",
   "execution_count": 8,
   "metadata": {
    "collapsed": false
   },
   "outputs": [
    {
     "data": {
      "text/plain": [
       "array([2, 2, 1, 1, 1, 1, 1, 2, 3], dtype=uint32)"
      ]
     },
     "execution_count": 8,
     "metadata": {},
     "output_type": "execute_result"
    }
   ],
   "source": [
    "bins[bad][1:10]"
   ]
  },
  {
   "cell_type": "code",
   "execution_count": null,
   "metadata": {
    "collapsed": false
   },
   "outputs": [],
   "source": [
    "d.value"
   ]
  },
  {
   "cell_type": "code",
   "execution_count": null,
   "metadata": {
    "collapsed": false,
    "scrolled": false
   },
   "outputs": [],
   "source": [
    "%matplotlib notebook\n",
    "plt.step(np.arange(len(d.bins)),d.bins)\n",
    "# plt.step(np.arange(len(d.counts)),bins)\n",
    "plt.plot(bad,np.zeros_like(bad),'.k')"
   ]
  },
  {
   "cell_type": "code",
   "execution_count": null,
   "metadata": {
    "collapsed": false
   },
   "outputs": [],
   "source": [
    "sum(d.counts)"
   ]
  },
  {
   "cell_type": "code",
   "execution_count": null,
   "metadata": {
    "collapsed": false
   },
   "outputs": [],
   "source": [
    "2**14+2000"
   ]
  },
  {
   "cell_type": "code",
   "execution_count": null,
   "metadata": {
    "collapsed": false,
    "run_control": {
     "frozen": false,
     "read_only": false
    }
   },
   "outputs": [],
   "source": [
    "def plot_event(event_tupple):\n",
    "    pre=200\n",
    "    post=1000\n",
    "    timestamp=event_tupple[0]\n",
    "    event_type=event_tupple[1]\n",
    "    event=event_tupple[2]\n",
    "    flags=EventFlags(event['flags'])\n",
    "    print(flags)\n",
    "    print('timestamp',timestamp, 'time', event['time'])\n",
    "    if flags.type == Event.tick:\n",
    "        return\n",
    "    s=traces['filtered'][timestamp+20-pre:timestamp+20+post]\n",
    "    r=traces['raw'][timestamp+20-pre:timestamp+20+post]\n",
    "    i = np.where(abs(minmax['clk'])<=timestamp+20)[0][-1]\n",
    "    min_t=abs(minmax['clk'][i])-(timestamp+20)\n",
    "#     print(minmax['clk'][i],min_t,i,timestamp)\n",
    "    plt.plot(r,'k',linewidth=0.5)\n",
    "    plt.plot(s,'b',linewidth=2)\n",
    "    plt.plot([pre],s[pre],'sg')\n",
    "    plt.plot([pre+min_t],minmax['filtered'][i],'sr')\n",
    "    if event_type==Event.pulse:\n",
    "        for i in range(flags.peak_number):\n",
    "            p=event['peaks'][i]\n",
    "            plt.plot([0,len(s)-1],[p['height'],p['height']],':r')\n",
    "    else:\n",
    "      plt.plot([0,len(s)-1],[event['height'],event['height']],':r')\n",
    "        \n",
    "    #print(event['height'],event['minima'])\n",
    "    #print(minmax['filtered'][i]==s[pre+min_t])\n",
    "    #print(minmax['filtered'][i]==event['minima'])\n",
    "    #print(s[pre],s[pre-1])"
   ]
  },
  {
   "cell_type": "code",
   "execution_count": null,
   "metadata": {
    "collapsed": false,
    "run_control": {
     "frozen": false,
     "read_only": false
    }
   },
   "outputs": [],
   "source": [
    "pwd"
   ]
  },
  {
   "cell_type": "code",
   "execution_count": null,
   "metadata": {
    "collapsed": false
   },
   "outputs": [],
   "source": [
    "es=bs.eventstream\n",
    "es"
   ]
  },
  {
   "cell_type": "code",
   "execution_count": null,
   "metadata": {
    "collapsed": false,
    "run_control": {
     "frozen": false,
     "read_only": false
    }
   },
   "outputs": [],
   "source": [
    "%matplotlib notebook\n",
    "for e in es:\n",
    "    if e[1]==Event.peak:\n",
    "        plot_event(e)"
   ]
  },
  {
   "cell_type": "code",
   "execution_count": null,
   "metadata": {
    "collapsed": false,
    "run_control": {
     "frozen": false,
     "read_only": false
    }
   },
   "outputs": [],
   "source": [
    "es"
   ]
  },
  {
   "cell_type": "code",
   "execution_count": null,
   "metadata": {
    "collapsed": false,
    "run_control": {
     "frozen": false,
     "read_only": false
    }
   },
   "outputs": [],
   "source": [
    "dists=bs.distributions\n",
    "dists"
   ]
  },
  {
   "cell_type": "code",
   "execution_count": null,
   "metadata": {
    "collapsed": false,
    "run_control": {
     "frozen": false,
     "read_only": false
    }
   },
   "outputs": [],
   "source": [
    "bs.packets[185].payload"
   ]
  },
  {
   "cell_type": "code",
   "execution_count": null,
   "metadata": {
    "collapsed": false,
    "run_control": {
     "frozen": false,
     "read_only": false
    }
   },
   "outputs": [],
   "source": [
    "d=bs.distributions[0]\n",
    "eset=np.uint64(1)\n",
    "bset=np.uint64(0)\n",
    "cset=np.uint64(20)\n",
    "\n",
    "stop=d.stop_time+eset+cset\n",
    "start=d.start_time+bset+cset\n",
    "bins=np.zeros((d.last_bin+1,),dtype=np.uint32)\n",
    "for i in range(start,stop):\n",
    "    s = traces['raw'][i]\n",
    "    if s <= d.lowest_value:\n",
    "        bins[0] += 1\n",
    "    else:\n",
    "        bins[s-d.lowest_value] += 1\n",
    "        \n",
    "(bins-d.counts).nonzero()"
   ]
  },
  {
   "cell_type": "code",
   "execution_count": null,
   "metadata": {
    "collapsed": false,
    "run_control": {
     "frozen": false,
     "read_only": false
    }
   },
   "outputs": [],
   "source": [
    "%matplotlib notebook\n",
    "plt.step(np.arange(len(d.counts)),d.counts)"
   ]
  },
  {
   "cell_type": "code",
   "execution_count": null,
   "metadata": {
    "collapsed": false,
    "run_control": {
     "frozen": false,
     "read_only": false
    }
   },
   "outputs": [],
   "source": [
    "bins[bins.nonzero()]"
   ]
  },
  {
   "cell_type": "code",
   "execution_count": null,
   "metadata": {
    "collapsed": false,
    "run_control": {
     "frozen": false,
     "read_only": false
    }
   },
   "outputs": [],
   "source": [
    "sum(d.counts)"
   ]
  },
  {
   "cell_type": "code",
   "execution_count": null,
   "metadata": {
    "collapsed": false,
    "run_control": {
     "frozen": false,
     "read_only": false
    }
   },
   "outputs": [],
   "source": [
    "2**14+2000"
   ]
  },
  {
   "cell_type": "code",
   "execution_count": null,
   "metadata": {
    "collapsed": false,
    "run_control": {
     "frozen": false,
     "read_only": false
    }
   },
   "outputs": [],
   "source": [
    "es[3][2]['timestamp']-es[0][2]['timestamp']"
   ]
  },
  {
   "cell_type": "code",
   "execution_count": null,
   "metadata": {
    "collapsed": true,
    "run_control": {
     "frozen": false,
     "read_only": false
    }
   },
   "outputs": [],
   "source": [
    "def xings(s, thresh):\n",
    "    pos=s > thresh\n",
    "    neg=s < thresh\n",
    "    pos0=s >= thresh\n",
    "    neg0=s <= thresh\n",
    "    pos_xing_mask = np.bitwise_and(pos0[1:],neg[0:-1])  \n",
    "    neg_xing_mask = np.bitwise_and(neg0[1:],pos[0:-1])  \n",
    "    return pos_xing_mask.nonzero()[0]+1, neg_xing_mask.nonzero()[0]+1"
   ]
  },
  {
   "cell_type": "code",
   "execution_count": null,
   "metadata": {
    "collapsed": true,
    "run_control": {
     "frozen": false,
     "read_only": false
    }
   },
   "outputs": [],
   "source": [
    "from mpl_toolkits.axes_grid1 import host_subplot\n",
    "\n",
    "def plot_trace(traces,start,width):\n",
    "\n",
    "    ax = host_subplot(111)\n",
    "    axr = ax.twinx()\n",
    "    axt = ax.twiny()\n",
    "#ax.plot(t[0:-1:10],s[0:-1:10],'k')\n",
    "#ax.plot(t,s,'k')\n",
    "    axt.set_xlabel('Time ns',fontsize=18)\n",
    "    ax.set_ylabel('Voltage (Arbitary Units)',fontsize=18)\n",
    "#plt.xticks(visible=False)\n",
    "#plt.yticks(visible=False)\n",
    "#ax.set_xlim(0,t[4000000])\n",
    "#start=902000\n",
    "#width=2500\n",
    "    f=traces['filtered'][start:start+width]\n",
    "    s=traces['slope'][start:start+width]\n",
    "    t=np.arange(len(f))*4e-9\n",
    "#ts=t[pstart:pstop]\n",
    "#axins = fig.add_axes([.4, .45, .45, .4])\n",
    "    ax.set_xlim(t[0],t[-1])\n",
    "    axt.set_xlim(t[0],t[-1])\n",
    "\n",
    "    ylim=(-500,2000)\n",
    "\n",
    "    ax.set_ylim(ylim[0],ylim[1])\n",
    "    axr.set_ylim(ylim[0],ylim[1])\n",
    "\n",
    "    filtered, = ax.step(t,f,'k',lw=2,label='filtered')\n",
    "    slope, = ax.step(t,s,'b',label='slope')\n",
    "    ax.fill_between(t,0,s,alpha=.4)\n",
    "    plt.ylim=ylim\n",
    "\n",
    "pos=s>0\n",
    "neg=s<=0\n",
    "pos_xing_mask = np.bitwise_and(pos[1:-1],neg[0:-2])  \n",
    "neg_xing_mask = np.bitwise_and(neg[1:-1],pos[0:-2])  \n",
    "pos_xing=pos_xing_mask.nonzero()\n",
    "neg_xing=neg_xing_mask.nonzero()\n",
    "\n",
    "rx=[t[pos_xing[0][0]], t[neg_xing[0][0]]]\n",
    "ry=[f[pos_xing[0][0]], f[neg_xing[0][0]]]\n",
    "\n",
    "ax.fill_between(t[pos_xing[0][0]:neg_xing[0][0]],0,s[pos_xing[0][0]:neg_xing[0][0]],alpha=.4,color='r')\n",
    "\n",
    "#plt.plot(rx,[ry[0], ry[0]],'-r',lw=2)\n",
    "#plt.plot([rx[1],rx[1]], ry,'-r',lw=2)\n",
    "# thresholds\n",
    "sthresh = 600\n",
    "pthresh = 1000\n",
    "plt.plot([t[0], t[-1]], [sthresh, sthresh], '--b', lw=2)\n",
    "plt.plot([t[0], t[-1]], [pthresh, pthresh], '--k', lw=2)\n",
    "\n",
    "sthresh_xing=(s>sthresh).nonzero()[0][0]\n",
    "pthresh_xing=(f>pthresh).nonzero()[0][0]\n",
    "\n",
    "\n",
    "cf=.10\n",
    "height = ry[1]-ry[0]\n",
    "cfl=ry[0]+(height*cf)\n",
    "cfh=ry[1]-(height*cf)\n",
    "\n",
    "cfl_xing=(f>cfl).nonzero()[0][0]\n",
    "cfd_low=f[cfl_xing]\n",
    "cfh_xing=(f>cfh).nonzero()[0][0]\n",
    "cfd_high=f[cfh_xing]\n",
    "\n",
    "#plt.plot([t[cfl_xing], t[-1]],[cfd_low, cfd_low], ':r')\n",
    "#plt.plot([t[cfh_xing], t[-1]],[cfd_high, cfd_high], ':r')\n",
    "#plt.plot([x[1], t[-1]],[y[1], y[1]], ':r')\n",
    "plt.legend([filtered, slope],['Signal', 'Slope'],loc=2)\n",
    "\n",
    "#axr = ax.twinx()\n",
    "##################################################################\n",
    "#yticks=([ry[0],sthresh,pthresh,cfd_high,ry[1]])\n",
    "yticks=([sthresh,pthresh])\n",
    "axr.set_yticks(yticks)\n",
    "#yticklabels=['Start','Slope threshold','Pulse threshold','CF high','Peak']\n",
    "yticklabels=['Slope threshold','Pulse threshold']\n",
    "axr.set_yticklabels(yticklabels, color='r',fontsize=14)\n",
    "axr.get_yticklabels()[0].set_color('b')\n",
    "axr.get_yticklabels()[1].set_color('k')\n",
    "\n",
    "#xticks=([rx[0],t[cfl_xing],t[sthresh_xing],t[pthresh_xing],rx[1]])\n",
    "xticks=(t[cfl_xing],rx[1])\n",
    "#ax.set_xticks([rx[0],t[cfl_xing],t[sthresh_xing],t[pthresh_xing],rx[1]])\n",
    "ax.set_xticks(xticks)\n",
    "#xticklabels=['Start','CF low','Slope xing','Signal xing','Peak']\n",
    "xticklabels=['CF low','Peak']\n",
    "ax.set_xticklabels(xticklabels, color='r',fontsize=14)\n",
    "\n",
    "#plt.plot([t[cfh_xing], t[-1]],[cfd_high, cfd_high], ':r')\n",
    "#horoz start, stop lines\n",
    "#hpeak=ax.plot([xticks[1], t[-1]],[yticks[-1], yticks[-1]], '-.r')\n",
    "#hstart=ax.plot([xticks[0], t[-1]],[yticks[0], yticks[0]], '-.r')\n",
    "#vert start stop\n",
    "vstart=ax.plot([xticks[0], xticks[0]],[cfd_low, ylim[0]], '-.r')\n",
    "vpeak=ax.plot([xticks[1], xticks[1]],[ylim[0], ry[1]], '-.r')\n",
    "\n",
    "plt.tight_layout()\n",
    "plt.savefig('..//peakextraction7.svg')\n",
    "plt.show()\n",
    "print('risetime:',(xticks[1]-xticks[0])/4)\n",
    "print('height:',yticks[-1]-yticks[0])\n",
    "print('time:',(xticks[0]-rx[0])/4)\n",
    "print('area',sum(s[pos_xing[0][0]:neg_xing[0][0]])/256)\n"
   ]
  },
  {
   "cell_type": "code",
   "execution_count": null,
   "metadata": {
    "collapsed": true,
    "run_control": {
     "frozen": false,
     "read_only": false
    }
   },
   "outputs": [],
   "source": [
    "slope_0xings = xings(traces['slope'],0)"
   ]
  },
  {
   "cell_type": "code",
   "execution_count": null,
   "metadata": {
    "collapsed": false,
    "run_control": {
     "frozen": false,
     "read_only": false
    }
   },
   "outputs": [],
   "source": [
    "slope_0xings"
   ]
  },
  {
   "cell_type": "code",
   "execution_count": null,
   "metadata": {
    "collapsed": false,
    "run_control": {
     "frozen": false,
     "read_only": false
    }
   },
   "outputs": [],
   "source": [
    "%matplotlib notebook\n",
    "start=10000\n",
    "width=300\n",
    "plt.plot(traces['filtered'][start:start+width]/2)"
   ]
  },
  {
   "cell_type": "code",
   "execution_count": null,
   "metadata": {
    "collapsed": false,
    "run_control": {
     "frozen": false,
     "read_only": false
    }
   },
   "outputs": [],
   "source": [
    "%matplotlib notebook\n",
    "plt.plot(traces['slope'][20400:21700])"
   ]
  },
  {
   "cell_type": "code",
   "execution_count": null,
   "metadata": {
    "collapsed": false,
    "run_control": {
     "frozen": false,
     "read_only": false
    }
   },
   "outputs": [],
   "source": [
    "filtered=traces['filtered'][1100:]\n",
    "filteredL=traces['filteredL'][1100:]"
   ]
  },
  {
   "cell_type": "code",
   "execution_count": null,
   "metadata": {
    "collapsed": false,
    "run_control": {
     "frozen": false,
     "read_only": false
    }
   },
   "outputs": [],
   "source": [
    "filtered[:10]"
   ]
  },
  {
   "cell_type": "code",
   "execution_count": null,
   "metadata": {
    "collapsed": false,
    "run_control": {
     "frozen": false,
     "read_only": false
    }
   },
   "outputs": [],
   "source": [
    "filteredL[:10]/4"
   ]
  },
  {
   "cell_type": "code",
   "execution_count": null,
   "metadata": {
    "collapsed": false,
    "run_control": {
     "frozen": false,
     "read_only": false
    }
   },
   "outputs": [],
   "source": [
    "minmax_dt=np.dtype([('filtered','i4'),('low','i4'),('high','i4'),('clk','i4')])\n",
    "minmax=Data.fromfile('minmax',minmax_dt,'teslib','measurement_subsystem_TB',tool='vivado')\n",
    "fxing_dt=np.dtype([('extrema','i4'),('area','i4'),('clk','i4')])\n",
    "fxing=Data.fromfile('filteredxing',fxing_dt,'teslib','measurement_subsystem_TB',tool='vivado')"
   ]
  },
  {
   "cell_type": "code",
   "execution_count": null,
   "metadata": {
    "collapsed": false,
    "run_control": {
     "frozen": false,
     "read_only": false
    }
   },
   "outputs": [],
   "source": [
    "minmax"
   ]
  },
  {
   "cell_type": "code",
   "execution_count": null,
   "metadata": {
    "collapsed": false,
    "run_control": {
     "frozen": false,
     "read_only": false
    }
   },
   "outputs": [],
   "source": [
    "fxing"
   ]
  },
  {
   "cell_type": "code",
   "execution_count": null,
   "metadata": {
    "collapsed": false,
    "run_control": {
     "frozen": false,
     "read_only": false
    }
   },
   "outputs": [],
   "source": [
    "np.where(fxing['area']==0)"
   ]
  },
  {
   "cell_type": "code",
   "execution_count": null,
   "metadata": {
    "collapsed": false,
    "run_control": {
     "frozen": false,
     "read_only": false
    }
   },
   "outputs": [],
   "source": [
    "np.where(fxing['extrema']==0)"
   ]
  },
  {
   "cell_type": "code",
   "execution_count": null,
   "metadata": {
    "collapsed": false,
    "run_control": {
     "frozen": false,
     "read_only": false
    }
   },
   "outputs": [],
   "source": [
    "fxing[30]"
   ]
  },
  {
   "cell_type": "code",
   "execution_count": null,
   "metadata": {
    "collapsed": false,
    "run_control": {
     "frozen": false,
     "read_only": false
    }
   },
   "outputs": [],
   "source": [
    "exn=np.where(fxing['extrema']<0)\n",
    "clkn=np.where(fxing['clk']>0)"
   ]
  },
  {
   "cell_type": "code",
   "execution_count": null,
   "metadata": {
    "collapsed": true,
    "run_control": {
     "frozen": false,
     "read_only": false
    }
   },
   "outputs": [],
   "source": []
  },
  {
   "cell_type": "code",
   "execution_count": null,
   "metadata": {
    "collapsed": false,
    "run_control": {
     "frozen": false,
     "read_only": false
    }
   },
   "outputs": [],
   "source": [
    "fxing[374]"
   ]
  },
  {
   "cell_type": "code",
   "execution_count": null,
   "metadata": {
    "collapsed": false,
    "run_control": {
     "frozen": false,
     "read_only": false
    }
   },
   "outputs": [],
   "source": [
    "clkn"
   ]
  },
  {
   "cell_type": "code",
   "execution_count": null,
   "metadata": {
    "collapsed": false,
    "run_control": {
     "frozen": false,
     "read_only": false
    }
   },
   "outputs": [],
   "source": [
    "np.where(minmax[maxs[0]-1]['min']!=1)"
   ]
  },
  {
   "cell_type": "code",
   "execution_count": null,
   "metadata": {
    "collapsed": false,
    "run_control": {
     "frozen": false,
     "read_only": false
    }
   },
   "outputs": [],
   "source": [
    "minmax[maxs[0]-1][65]"
   ]
  },
  {
   "cell_type": "code",
   "execution_count": null,
   "metadata": {
    "collapsed": false,
    "run_control": {
     "frozen": false,
     "read_only": false
    }
   },
   "outputs": [],
   "source": [
    "2290-925"
   ]
  },
  {
   "cell_type": "code",
   "execution_count": null,
   "metadata": {
    "collapsed": false,
    "run_control": {
     "frozen": false,
     "read_only": false
    }
   },
   "outputs": [],
   "source": [
    "0.375*4"
   ]
  },
  {
   "cell_type": "code",
   "execution_count": null,
   "metadata": {
    "collapsed": false,
    "run_control": {
     "frozen": false,
     "read_only": false
    }
   },
   "outputs": [],
   "source": [
    "np.where(minmax['clock']==2290)"
   ]
  },
  {
   "cell_type": "code",
   "execution_count": null,
   "metadata": {
    "collapsed": false,
    "run_control": {
     "frozen": false,
     "read_only": false
    }
   },
   "outputs": [],
   "source": [
    "minmax[120:140]"
   ]
  },
  {
   "cell_type": "code",
   "execution_count": null,
   "metadata": {
    "collapsed": false,
    "run_control": {
     "frozen": false,
     "read_only": false
    }
   },
   "outputs": [],
   "source": [
    "stream_dt=np.dtype([('data','>i4'),('last','i4')])\n",
    "#stream=np.fromfile('data/stream',stream_dt)"
   ]
  },
  {
   "cell_type": "markdown",
   "metadata": {},
   "source": [
    "### bytestream stuff"
   ]
  },
  {
   "cell_type": "code",
   "execution_count": null,
   "metadata": {
    "collapsed": false,
    "run_control": {
     "frozen": false,
     "read_only": false
    }
   },
   "outputs": [],
   "source": [
    "stream_dt=np.dtype([('data','i4'),('last','i4')])\n",
    "stream=Data.fromfile('bytestream',stream_dt,'teslib','measurement_subsystem_TB',tool='vivado')\n",
    "lasts=np.where(stream['last']<=0)[0]+1\n",
    "#data=np.copy(stream['data'])"
   ]
  },
  {
   "cell_type": "code",
   "execution_count": null,
   "metadata": {
    "collapsed": false,
    "run_control": {
     "frozen": false,
     "read_only": false
    }
   },
   "outputs": [],
   "source": [
    "stream"
   ]
  },
  {
   "cell_type": "code",
   "execution_count": null,
   "metadata": {
    "collapsed": true,
    "run_control": {
     "frozen": false,
     "read_only": false
    }
   },
   "outputs": [],
   "source": []
  },
  {
   "cell_type": "code",
   "execution_count": null,
   "metadata": {
    "collapsed": true,
    "run_control": {
     "frozen": false,
     "read_only": false
    }
   },
   "outputs": [],
   "source": [
    "stream=np.fromfile('data/bytestream',stream_dt)"
   ]
  },
  {
   "cell_type": "code",
   "execution_count": null,
   "metadata": {
    "collapsed": false,
    "run_control": {
     "frozen": false,
     "read_only": false
    }
   },
   "outputs": [],
   "source": [
    "bs=PacketStream(stream)"
   ]
  },
  {
   "cell_type": "code",
   "execution_count": null,
   "metadata": {
    "collapsed": false,
    "run_control": {
     "frozen": false,
     "read_only": false
    }
   },
   "outputs": [],
   "source": [
    "bs.packets"
   ]
  },
  {
   "cell_type": "code",
   "execution_count": null,
   "metadata": {
    "collapsed": false,
    "run_control": {
     "frozen": false,
     "read_only": false
    }
   },
   "outputs": [],
   "source": [
    "bs.packets[4]"
   ]
  },
  {
   "cell_type": "code",
   "execution_count": null,
   "metadata": {
    "collapsed": true,
    "run_control": {
     "frozen": false,
     "read_only": false
    }
   },
   "outputs": [],
   "source": [
    "eheader_dt=[('etype','<u2'),('length','u2'),()]"
   ]
  },
  {
   "cell_type": "code",
   "execution_count": null,
   "metadata": {
    "collapsed": false,
    "run_control": {
     "frozen": false,
     "read_only": false
    }
   },
   "outputs": [],
   "source": [
    "'{:X}'.format(bs.packets[1].bytes[23])\n"
   ]
  },
  {
   "cell_type": "code",
   "execution_count": null,
   "metadata": {
    "collapsed": false,
    "run_control": {
     "frozen": false,
     "read_only": false
    }
   },
   "outputs": [],
   "source": [
    "'{:X}'.format(bs.packets[0].bytes[28:30].view(np.uint16)[0])"
   ]
  },
  {
   "cell_type": "code",
   "execution_count": null,
   "metadata": {
    "collapsed": true,
    "run_control": {
     "frozen": false,
     "read_only": false
    }
   },
   "outputs": [],
   "source": [
    "pulse_peak_dt=np.dtype([('height','i2'),('rise','i2'),('minima','u2'),('time','i2')])\n",
    "pulse_dt=np.dtype([('size','i2'),('resv','i2'),('flags','i2'),('time','u2'),\n",
    "                  ('area','i4'),('length','i2'),('offset','i2'),('peaks',(pulse_peak_dt,2))])"
   ]
  },
  {
   "cell_type": "code",
   "execution_count": null,
   "metadata": {
    "collapsed": false,
    "run_control": {
     "frozen": false,
     "read_only": false
    }
   },
   "outputs": [],
   "source": [
    "pulses=bs.packets[3].payload.view(pulse_dt)"
   ]
  },
  {
   "cell_type": "code",
   "execution_count": null,
   "metadata": {
    "collapsed": false,
    "run_control": {
     "frozen": false,
     "read_only": false
    }
   },
   "outputs": [],
   "source": [
    "pulses['peaks']"
   ]
  },
  {
   "cell_type": "code",
   "execution_count": null,
   "metadata": {
    "collapsed": false,
    "run_control": {
     "frozen": false,
     "read_only": false
    }
   },
   "outputs": [],
   "source": [
    "pulses['offset']"
   ]
  },
  {
   "cell_type": "code",
   "execution_count": null,
   "metadata": {
    "collapsed": false,
    "run_control": {
     "frozen": false,
     "read_only": false
    }
   },
   "outputs": [],
   "source": [
    "pulses['length']"
   ]
  },
  {
   "cell_type": "code",
   "execution_count": null,
   "metadata": {
    "collapsed": false,
    "run_control": {
     "frozen": false,
     "read_only": false
    }
   },
   "outputs": [],
   "source": [
    "class eflags:\n",
    "    def __init__(self,uint16):\n",
    "        self.new_window=np.bitwise_and(uint16,0x00000001)!=0\n",
    "        self.tick=np.bitwise_and(uint16,0x00000002)!=0\n",
    "        self.type=np.right_shift(np.bitwise_and(uint16,0x0000000c),2)\n",
    "        \n",
    "    def __repr__(self):\n",
    "        return 'New window:{:}\\n'.format(self.new_window) + \\\n",
    "               'Tick:{:}\\n'.format(self.tick) + \\\n",
    "               'Type:{:}\\n'.format(self.type) "
   ]
  },
  {
   "cell_type": "code",
   "execution_count": null,
   "metadata": {
    "collapsed": false,
    "run_control": {
     "frozen": false,
     "read_only": false
    }
   },
   "outputs": [],
   "source": [
    "f=eflags(pulses[0]['flags'])\n",
    "f"
   ]
  },
  {
   "cell_type": "code",
   "execution_count": null,
   "metadata": {
    "collapsed": false,
    "run_control": {
     "frozen": false,
     "read_only": false
    }
   },
   "outputs": [],
   "source": [
    "'{:X}'.format(bs.packets[3].bytes[13:14].view(np.uint16))"
   ]
  },
  {
   "cell_type": "code",
   "execution_count": null,
   "metadata": {
    "collapsed": true,
    "run_control": {
     "frozen": false,
     "read_only": false
    }
   },
   "outputs": [],
   "source": []
  },
  {
   "cell_type": "code",
   "execution_count": null,
   "metadata": {
    "collapsed": false,
    "run_control": {
     "frozen": false,
     "read_only": false
    }
   },
   "outputs": [],
   "source": [
    "'{:X}'.format(bs.packets[3].bytes[14:16].view(np.uint16)[0])"
   ]
  },
  {
   "cell_type": "code",
   "execution_count": null,
   "metadata": {
    "collapsed": false,
    "run_control": {
     "frozen": false,
     "read_only": false
    }
   },
   "outputs": [],
   "source": [
    "bs.packets[3].bytes[14:16].view(np.uint16)[0]"
   ]
  },
  {
   "cell_type": "code",
   "execution_count": null,
   "metadata": {
    "collapsed": false,
    "run_control": {
     "frozen": false,
     "read_only": false
    }
   },
   "outputs": [],
   "source": [
    "bs=np.uint8(stream['data'][:48])"
   ]
  },
  {
   "cell_type": "code",
   "execution_count": null,
   "metadata": {
    "collapsed": false,
    "run_control": {
     "frozen": false,
     "read_only": false
    }
   },
   "outputs": [],
   "source": [
    "bs"
   ]
  },
  {
   "cell_type": "code",
   "execution_count": null,
   "metadata": {
    "collapsed": false,
    "run_control": {
     "frozen": false,
     "read_only": false
    }
   },
   "outputs": [],
   "source": [
    "events=stream['data'].view(event_dt)"
   ]
  },
  {
   "cell_type": "code",
   "execution_count": null,
   "metadata": {
    "collapsed": false,
    "run_control": {
     "frozen": false,
     "read_only": false
    }
   },
   "outputs": [],
   "source": [
    "'{:X}'.format(events['flags'][0])"
   ]
  },
  {
   "cell_type": "code",
   "execution_count": null,
   "metadata": {
    "collapsed": false,
    "run_control": {
     "frozen": false,
     "read_only": false
    }
   },
   "outputs": [],
   "source": [
    "events['rise']"
   ]
  },
  {
   "cell_type": "code",
   "execution_count": null,
   "metadata": {
    "collapsed": false,
    "run_control": {
     "frozen": false,
     "read_only": false
    }
   },
   "outputs": [],
   "source": [
    "events"
   ]
  },
  {
   "cell_type": "code",
   "execution_count": null,
   "metadata": {
    "collapsed": false,
    "run_control": {
     "frozen": false,
     "read_only": false
    }
   },
   "outputs": [],
   "source": [
    "'{:04X}'.format(events['flags'][1])"
   ]
  },
  {
   "cell_type": "code",
   "execution_count": null,
   "metadata": {
    "collapsed": true,
    "run_control": {
     "frozen": false,
     "read_only": false
    }
   },
   "outputs": [],
   "source": [
    "pulse_peak_dt=np.dtype([('time','>i2'),('minima','>i2'),('rise','>u2'),('height','>i2')])\n",
    "pulse_dt=np.dtype([('time','>i2'),('flags','>i2'),('resv','>i2'),('size','>u2'),\n",
    "                  ('offset','>i2'),('length','>i2'),('area','>i4'),('peaks',(pulse_peak_dt,1))])\n",
    "data=np.copy(stream['data'])"
   ]
  },
  {
   "cell_type": "code",
   "execution_count": null,
   "metadata": {
    "collapsed": false,
    "run_control": {
     "frozen": false,
     "read_only": false
    }
   },
   "outputs": [],
   "source": [
    "pulses=data.view(pulse_dt)"
   ]
  },
  {
   "cell_type": "code",
   "execution_count": null,
   "metadata": {
    "collapsed": false,
    "run_control": {
     "frozen": false,
     "read_only": false
    }
   },
   "outputs": [],
   "source": [
    "pulses['peaks']['height']-pulses['peaks']['minima']"
   ]
  },
  {
   "cell_type": "code",
   "execution_count": null,
   "metadata": {
    "collapsed": false,
    "run_control": {
     "frozen": false,
     "read_only": false
    }
   },
   "outputs": [],
   "source": [
    "pulses['peaks']['minima']"
   ]
  },
  {
   "cell_type": "code",
   "execution_count": null,
   "metadata": {
    "collapsed": false,
    "run_control": {
     "frozen": false,
     "read_only": false
    }
   },
   "outputs": [],
   "source": [
    "peak_count=np.right_shift(np.bitwise_and(pulses['flags'],0xF000),12)\n",
    "peak_overflow=np.bitwise_and(pulses['flags'],0x0800)!=0\n",
    "channel=np.right_shift(np.bitwise_and(pulses['flags'],0x0700),8)\n",
    "timing_type=np.right_shift(np.bitwise_and(pulses['flags'],0x00C0),6)\n",
    "height_type=np.right_shift(np.bitwise_and(pulses['flags'],0x0030),4)\n",
    "event_type=np.right_shift(np.bitwise_and(pulses['flags'],0x000E),1)\n",
    "new_window=np.bitwise_and(pulses['flags'],0x0001)!=0"
   ]
  },
  {
   "cell_type": "code",
   "execution_count": null,
   "metadata": {
    "collapsed": false,
    "run_control": {
     "frozen": false,
     "read_only": false
    }
   },
   "outputs": [],
   "source": [
    "peak_overflow"
   ]
  },
  {
   "cell_type": "code",
   "execution_count": null,
   "metadata": {
    "collapsed": true,
    "run_control": {
     "frozen": false,
     "read_only": false
    }
   },
   "outputs": [],
   "source": [
    "test_dt=np.dtype(\n",
    "    [('time','i2'),('flags','i2'),('rise','u2'),('minima','i2'),('low','u8'),('high','u8')]\n",
    ")\n",
    "test=data.view(test_dt)"
   ]
  },
  {
   "cell_type": "code",
   "execution_count": null,
   "metadata": {
    "collapsed": false,
    "run_control": {
     "frozen": false,
     "read_only": false
    }
   },
   "outputs": [],
   "source": [
    "test"
   ]
  },
  {
   "cell_type": "code",
   "execution_count": null,
   "metadata": {
    "collapsed": false,
    "run_control": {
     "frozen": false,
     "read_only": false
    }
   },
   "outputs": [],
   "source": [
    "test['minima']"
   ]
  },
  {
   "cell_type": "code",
   "execution_count": null,
   "metadata": {
    "collapsed": false,
    "run_control": {
     "frozen": false,
     "read_only": false
    }
   },
   "outputs": [],
   "source": [
    "low1=np.int32(np.right_shift(np.bitwise_and(test['low'],0x03FFFF000000000),36))\n",
    "s=(np.bitwise_and(low1,0x00020000)!=0)*0xFFFC0000\n",
    "low2=np.int32(np.right_shift(np.bitwise_and(test['low'],0x000000FFFFC0000),18))\n",
    "low_threshold=np.int32(np.bitwise_and(test['low'],0x00000000003FFFF))\n",
    "high1=np.int32(np.right_shift(np.bitwise_and(test['high'],0x03FFFF000000000),36))\n",
    "high2=np.int32(np.right_shift(np.bitwise_and(test['high'],0x000000FFFFC0000),18))\n",
    "high_threshold=np.int32(np.bitwise_and(test['high'],0x00000000003FFFF))"
   ]
  },
  {
   "cell_type": "code",
   "execution_count": null,
   "metadata": {
    "collapsed": false,
    "run_control": {
     "frozen": false,
     "read_only": false
    }
   },
   "outputs": [],
   "source": [
    "np.int32(np.bitwise_or(low1,s))/8.0"
   ]
  },
  {
   "cell_type": "code",
   "execution_count": null,
   "metadata": {
    "collapsed": false,
    "run_control": {
     "frozen": false,
     "read_only": false
    }
   },
   "outputs": [],
   "source": [
    "'{:04X}'.format(low1[0])"
   ]
  },
  {
   "cell_type": "code",
   "execution_count": null,
   "metadata": {
    "collapsed": false,
    "run_control": {
     "frozen": false,
     "read_only": false
    }
   },
   "outputs": [],
   "source": [
    "high1/8.0"
   ]
  },
  {
   "cell_type": "code",
   "execution_count": null,
   "metadata": {
    "collapsed": false,
    "run_control": {
     "frozen": false,
     "read_only": false
    }
   },
   "outputs": [],
   "source": [
    "high2/8.0"
   ]
  },
  {
   "cell_type": "code",
   "execution_count": null,
   "metadata": {
    "collapsed": false,
    "run_control": {
     "frozen": false,
     "read_only": false
    }
   },
   "outputs": [],
   "source": [
    "'{:04X}'.format(high_threshold[0])"
   ]
  },
  {
   "cell_type": "code",
   "execution_count": null,
   "metadata": {
    "collapsed": false,
    "run_control": {
     "frozen": false,
     "read_only": false
    }
   },
   "outputs": [],
   "source": [
    "from enum import Enum"
   ]
  },
  {
   "cell_type": "code",
   "execution_count": null,
   "metadata": {
    "collapsed": false,
    "run_control": {
     "frozen": false,
     "read_only": false
    }
   },
   "outputs": [],
   "source": [
    "class VhdlEnum(int, Enum):\n",
    "\n",
    "    def __str__(self):\n",
    "        return self.name.replace(\"-\", \" \")\n",
    "    \n",
    "    def select(self):\n",
    "        return pow(2, self.value)\n",
    "    "
   ]
  },
  {
   "cell_type": "code",
   "execution_count": null,
   "metadata": {
    "collapsed": false,
    "run_control": {
     "frozen": false,
     "read_only": false
    }
   },
   "outputs": [],
   "source": [
    "class Test(VhdlEnum):\n",
    "    a=0\n",
    "    b=1"
   ]
  },
  {
   "cell_type": "code",
   "execution_count": null,
   "metadata": {
    "collapsed": false,
    "run_control": {
     "frozen": false,
     "read_only": false
    }
   },
   "outputs": [],
   "source": [
    "Test(0)"
   ]
  },
  {
   "cell_type": "code",
   "execution_count": null,
   "metadata": {
    "collapsed": true,
    "run_control": {
     "frozen": false,
     "read_only": false
    }
   },
   "outputs": [],
   "source": []
  }
 ],
 "metadata": {
  "anaconda-cloud": {},
  "kernelspec": {
   "display_name": "Python [conda root]",
   "language": "python",
   "name": "conda-root-py"
  },
  "language_info": {
   "codemirror_mode": {
    "name": "ipython",
    "version": 3
   },
   "file_extension": ".py",
   "mimetype": "text/x-python",
   "name": "python",
   "nbconvert_exporter": "python",
   "pygments_lexer": "ipython3",
   "version": "3.5.2"
  }
 },
 "nbformat": 4,
 "nbformat_minor": 1
}
