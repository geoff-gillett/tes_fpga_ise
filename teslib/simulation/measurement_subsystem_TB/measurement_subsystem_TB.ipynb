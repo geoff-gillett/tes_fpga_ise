{
 "cells": [
  {
   "cell_type": "code",
   "execution_count": 152,
   "metadata": {
    "collapsed": false
   },
   "outputs": [],
   "source": [
    "import sys\n",
    "import tes.simulation.data as sim\n",
    "from tes.simulation.data import PacketStream, Data, Distribution\n",
    "from tes.simulation.filesets import measurement_subsystem_TB as fileset\n",
    "import tes.simulation.plot as splt\n",
    "import numpy as np\n",
    "import matplotlib.pyplot as plt\n",
    "import math\n",
    "import collections"
   ]
  },
  {
   "cell_type": "code",
   "execution_count": null,
   "metadata": {
    "collapsed": false
   },
   "outputs": [],
   "source": [
    "import serial.tools.list_ports\n",
    "for p in serial.tools.list_ports.comports():\n",
    "    print(p)"
   ]
  },
  {
   "cell_type": "code",
   "execution_count": 153,
   "metadata": {
    "collapsed": false
   },
   "outputs": [],
   "source": [
    "data=Data(fileset, 8, 'teslib','measurement_subsystem_TB')\n",
    "enet=PacketStream(data.byte_stream)\n",
    "dists=enet.distributions"
   ]
  },
  {
   "cell_type": "code",
   "execution_count": null,
   "metadata": {
    "collapsed": false
   },
   "outputs": [],
   "source": [
    "data.save('4channelShort.pickle')"
   ]
  },
  {
   "cell_type": "code",
   "execution_count": 148,
   "metadata": {
    "collapsed": false,
    "scrolled": true
   },
   "outputs": [
    {
     "data": {
      "text/plain": [
       "array([(6485467150365874689, False), (144964034820909056, False),\n",
       "       (33554432, False), (1099511824896, False),\n",
       "       (144115188075855872, True), (6485467150365874689, False),\n",
       "       (144964034820909056, False), (72058693583110144, False),\n",
       "       (1099511889919, False), (144116287587483648, True)], \n",
       "      dtype=[('data', '>u8'), ('last', '?')])"
      ]
     },
     "execution_count": 148,
     "metadata": {},
     "output_type": "execute_result"
    }
   ],
   "source": [
    "data.ethernet_stream"
   ]
  },
  {
   "cell_type": "code",
   "execution_count": null,
   "metadata": {
    "collapsed": false
   },
   "outputs": [],
   "source": [
    "# compare transmitted distributions with the data\n",
    "failed=False\n",
    "if dists == []:\n",
    "    print('No distributions')\n",
    "else:\n",
    "    for dist in dists:\n",
    "        dif = (dist.counts - dist.data_counts(data))[0].nonzero()\n",
    "        if dif[0].size:\n",
    "            print('{:}\\nDoes not reconcile with the data, Differences at {:d} indexs:\\n{:}\\n'.format(\n",
    "                    dist, dif[0].size, dif[0]))\n",
    "            failed=True\n",
    "    if not failed:\n",
    "        print('Distributions agree with data')\n",
    "    \n"
   ]
  },
  {
   "cell_type": "markdown",
   "metadata": {},
   "source": [
    " ## work area"
   ]
  },
  {
   "cell_type": "code",
   "execution_count": 154,
   "metadata": {
    "collapsed": false,
    "scrolled": false
   },
   "outputs": [
    {
     "data": {
      "text/plain": [
       "[ethertype:88B5 length:40 Payload:tick frame:0 protocol:0,\n",
       " ethertype:88B5 length:40 Payload:tick frame:1 protocol:1,\n",
       " ethertype:88B5 length:32 Payload:peak frame:2 protocol:2,\n",
       " ethertype:88B5 length:48 Payload:pulse frame:3 protocol:3,\n",
       " ethertype:88B5 length:56 Payload:pulse frame:4 protocol:4,\n",
       " ethertype:88B5 length:1488 Payload:trace frame:5 protocol:0,\n",
       " ethertype:88B5 length:1320 Payload:trace frame:6 protocol:1]"
      ]
     },
     "execution_count": 154,
     "metadata": {},
     "output_type": "execute_result"
    }
   ],
   "source": [
    "enet.packets"
   ]
  },
  {
   "cell_type": "code",
   "execution_count": 108,
   "metadata": {
    "collapsed": false
   },
   "outputs": [
    {
     "data": {
      "text/plain": [
       "array([(36, 90, False), (38, 1, False), (40, 2, False), (42, 3, False),\n",
       "       (44, 4, False), (46, 5, False), (48, 218, False), (50, 1, False),\n",
       "       (52, 2, False), (54, 3, False), (56, 4, False), (58, 5, False),\n",
       "       (60, 136, False), (62, 181, False), (64, 40, False), (66, 0, False),\n",
       "       (68, 0, False), (70, 0, False), (72, 0, False), (74, 0, False),\n",
       "       (76, 2, False), (78, 0, False), (80, 0, False), (82, 0, False),\n",
       "       (84, 0, False), (86, 0, False), (88, 1, False), (90, 0, False),\n",
       "       (92, 0, False), (94, 3, False), (96, 2, False), (98, 0, False),\n",
       "       (100, 2, False), (102, 0, False), (104, 0, False), (106, 0, False),\n",
       "       (108, 0, False), (110, 0, False), (112, 0, False), (114, 0, True)], \n",
       "      dtype=[('index', '<u4'), ('data', 'u1'), ('last', '?')])"
      ]
     },
     "execution_count": 108,
     "metadata": {},
     "output_type": "execute_result"
    }
   ],
   "source": [
    "data.byte_stream"
   ]
  },
  {
   "cell_type": "code",
   "execution_count": 155,
   "metadata": {
    "collapsed": false,
    "scrolled": false
   },
   "outputs": [
    {
     "data": {
      "application/javascript": [
       "/* Put everything inside the global mpl namespace */\n",
       "window.mpl = {};\n",
       "\n",
       "mpl.get_websocket_type = function() {\n",
       "    if (typeof(WebSocket) !== 'undefined') {\n",
       "        return WebSocket;\n",
       "    } else if (typeof(MozWebSocket) !== 'undefined') {\n",
       "        return MozWebSocket;\n",
       "    } else {\n",
       "        alert('Your browser does not have WebSocket support.' +\n",
       "              'Please try Chrome, Safari or Firefox ≥ 6. ' +\n",
       "              'Firefox 4 and 5 are also supported but you ' +\n",
       "              'have to enable WebSockets in about:config.');\n",
       "    };\n",
       "}\n",
       "\n",
       "mpl.figure = function(figure_id, websocket, ondownload, parent_element) {\n",
       "    this.id = figure_id;\n",
       "\n",
       "    this.ws = websocket;\n",
       "\n",
       "    this.supports_binary = (this.ws.binaryType != undefined);\n",
       "\n",
       "    if (!this.supports_binary) {\n",
       "        var warnings = document.getElementById(\"mpl-warnings\");\n",
       "        if (warnings) {\n",
       "            warnings.style.display = 'block';\n",
       "            warnings.textContent = (\n",
       "                \"This browser does not support binary websocket messages. \" +\n",
       "                    \"Performance may be slow.\");\n",
       "        }\n",
       "    }\n",
       "\n",
       "    this.imageObj = new Image();\n",
       "\n",
       "    this.context = undefined;\n",
       "    this.message = undefined;\n",
       "    this.canvas = undefined;\n",
       "    this.rubberband_canvas = undefined;\n",
       "    this.rubberband_context = undefined;\n",
       "    this.format_dropdown = undefined;\n",
       "\n",
       "    this.image_mode = 'full';\n",
       "\n",
       "    this.root = $('<div/>');\n",
       "    this._root_extra_style(this.root)\n",
       "    this.root.attr('style', 'display: inline-block');\n",
       "\n",
       "    $(parent_element).append(this.root);\n",
       "\n",
       "    this._init_header(this);\n",
       "    this._init_canvas(this);\n",
       "    this._init_toolbar(this);\n",
       "\n",
       "    var fig = this;\n",
       "\n",
       "    this.waiting = false;\n",
       "\n",
       "    this.ws.onopen =  function () {\n",
       "            fig.send_message(\"supports_binary\", {value: fig.supports_binary});\n",
       "            fig.send_message(\"send_image_mode\", {});\n",
       "            fig.send_message(\"refresh\", {});\n",
       "        }\n",
       "\n",
       "    this.imageObj.onload = function() {\n",
       "            if (fig.image_mode == 'full') {\n",
       "                // Full images could contain transparency (where diff images\n",
       "                // almost always do), so we need to clear the canvas so that\n",
       "                // there is no ghosting.\n",
       "                fig.context.clearRect(0, 0, fig.canvas.width, fig.canvas.height);\n",
       "            }\n",
       "            fig.context.drawImage(fig.imageObj, 0, 0);\n",
       "        };\n",
       "\n",
       "    this.imageObj.onunload = function() {\n",
       "        this.ws.close();\n",
       "    }\n",
       "\n",
       "    this.ws.onmessage = this._make_on_message_function(this);\n",
       "\n",
       "    this.ondownload = ondownload;\n",
       "}\n",
       "\n",
       "mpl.figure.prototype._init_header = function() {\n",
       "    var titlebar = $(\n",
       "        '<div class=\"ui-dialog-titlebar ui-widget-header ui-corner-all ' +\n",
       "        'ui-helper-clearfix\"/>');\n",
       "    var titletext = $(\n",
       "        '<div class=\"ui-dialog-title\" style=\"width: 100%; ' +\n",
       "        'text-align: center; padding: 3px;\"/>');\n",
       "    titlebar.append(titletext)\n",
       "    this.root.append(titlebar);\n",
       "    this.header = titletext[0];\n",
       "}\n",
       "\n",
       "\n",
       "\n",
       "mpl.figure.prototype._canvas_extra_style = function(canvas_div) {\n",
       "\n",
       "}\n",
       "\n",
       "\n",
       "mpl.figure.prototype._root_extra_style = function(canvas_div) {\n",
       "\n",
       "}\n",
       "\n",
       "mpl.figure.prototype._init_canvas = function() {\n",
       "    var fig = this;\n",
       "\n",
       "    var canvas_div = $('<div/>');\n",
       "\n",
       "    canvas_div.attr('style', 'position: relative; clear: both; outline: 0');\n",
       "\n",
       "    function canvas_keyboard_event(event) {\n",
       "        return fig.key_event(event, event['data']);\n",
       "    }\n",
       "\n",
       "    canvas_div.keydown('key_press', canvas_keyboard_event);\n",
       "    canvas_div.keyup('key_release', canvas_keyboard_event);\n",
       "    this.canvas_div = canvas_div\n",
       "    this._canvas_extra_style(canvas_div)\n",
       "    this.root.append(canvas_div);\n",
       "\n",
       "    var canvas = $('<canvas/>');\n",
       "    canvas.addClass('mpl-canvas');\n",
       "    canvas.attr('style', \"left: 0; top: 0; z-index: 0; outline: 0\")\n",
       "\n",
       "    this.canvas = canvas[0];\n",
       "    this.context = canvas[0].getContext(\"2d\");\n",
       "\n",
       "    var rubberband = $('<canvas/>');\n",
       "    rubberband.attr('style', \"position: absolute; left: 0; top: 0; z-index: 1;\")\n",
       "\n",
       "    var pass_mouse_events = true;\n",
       "\n",
       "    canvas_div.resizable({\n",
       "        start: function(event, ui) {\n",
       "            pass_mouse_events = false;\n",
       "        },\n",
       "        resize: function(event, ui) {\n",
       "            fig.request_resize(ui.size.width, ui.size.height);\n",
       "        },\n",
       "        stop: function(event, ui) {\n",
       "            pass_mouse_events = true;\n",
       "            fig.request_resize(ui.size.width, ui.size.height);\n",
       "        },\n",
       "    });\n",
       "\n",
       "    function mouse_event_fn(event) {\n",
       "        if (pass_mouse_events)\n",
       "            return fig.mouse_event(event, event['data']);\n",
       "    }\n",
       "\n",
       "    rubberband.mousedown('button_press', mouse_event_fn);\n",
       "    rubberband.mouseup('button_release', mouse_event_fn);\n",
       "    // Throttle sequential mouse events to 1 every 20ms.\n",
       "    rubberband.mousemove('motion_notify', mouse_event_fn);\n",
       "\n",
       "    rubberband.mouseenter('figure_enter', mouse_event_fn);\n",
       "    rubberband.mouseleave('figure_leave', mouse_event_fn);\n",
       "\n",
       "    canvas_div.on(\"wheel\", function (event) {\n",
       "        event = event.originalEvent;\n",
       "        event['data'] = 'scroll'\n",
       "        if (event.deltaY < 0) {\n",
       "            event.step = 1;\n",
       "        } else {\n",
       "            event.step = -1;\n",
       "        }\n",
       "        mouse_event_fn(event);\n",
       "    });\n",
       "\n",
       "    canvas_div.append(canvas);\n",
       "    canvas_div.append(rubberband);\n",
       "\n",
       "    this.rubberband = rubberband;\n",
       "    this.rubberband_canvas = rubberband[0];\n",
       "    this.rubberband_context = rubberband[0].getContext(\"2d\");\n",
       "    this.rubberband_context.strokeStyle = \"#000000\";\n",
       "\n",
       "    this._resize_canvas = function(width, height) {\n",
       "        // Keep the size of the canvas, canvas container, and rubber band\n",
       "        // canvas in synch.\n",
       "        canvas_div.css('width', width)\n",
       "        canvas_div.css('height', height)\n",
       "\n",
       "        canvas.attr('width', width);\n",
       "        canvas.attr('height', height);\n",
       "\n",
       "        rubberband.attr('width', width);\n",
       "        rubberband.attr('height', height);\n",
       "    }\n",
       "\n",
       "    // Set the figure to an initial 600x600px, this will subsequently be updated\n",
       "    // upon first draw.\n",
       "    this._resize_canvas(600, 600);\n",
       "\n",
       "    // Disable right mouse context menu.\n",
       "    $(this.rubberband_canvas).bind(\"contextmenu\",function(e){\n",
       "        return false;\n",
       "    });\n",
       "\n",
       "    function set_focus () {\n",
       "        canvas.focus();\n",
       "        canvas_div.focus();\n",
       "    }\n",
       "\n",
       "    window.setTimeout(set_focus, 100);\n",
       "}\n",
       "\n",
       "mpl.figure.prototype._init_toolbar = function() {\n",
       "    var fig = this;\n",
       "\n",
       "    var nav_element = $('<div/>')\n",
       "    nav_element.attr('style', 'width: 100%');\n",
       "    this.root.append(nav_element);\n",
       "\n",
       "    // Define a callback function for later on.\n",
       "    function toolbar_event(event) {\n",
       "        return fig.toolbar_button_onclick(event['data']);\n",
       "    }\n",
       "    function toolbar_mouse_event(event) {\n",
       "        return fig.toolbar_button_onmouseover(event['data']);\n",
       "    }\n",
       "\n",
       "    for(var toolbar_ind in mpl.toolbar_items) {\n",
       "        var name = mpl.toolbar_items[toolbar_ind][0];\n",
       "        var tooltip = mpl.toolbar_items[toolbar_ind][1];\n",
       "        var image = mpl.toolbar_items[toolbar_ind][2];\n",
       "        var method_name = mpl.toolbar_items[toolbar_ind][3];\n",
       "\n",
       "        if (!name) {\n",
       "            // put a spacer in here.\n",
       "            continue;\n",
       "        }\n",
       "        var button = $('<button/>');\n",
       "        button.addClass('ui-button ui-widget ui-state-default ui-corner-all ' +\n",
       "                        'ui-button-icon-only');\n",
       "        button.attr('role', 'button');\n",
       "        button.attr('aria-disabled', 'false');\n",
       "        button.click(method_name, toolbar_event);\n",
       "        button.mouseover(tooltip, toolbar_mouse_event);\n",
       "\n",
       "        var icon_img = $('<span/>');\n",
       "        icon_img.addClass('ui-button-icon-primary ui-icon');\n",
       "        icon_img.addClass(image);\n",
       "        icon_img.addClass('ui-corner-all');\n",
       "\n",
       "        var tooltip_span = $('<span/>');\n",
       "        tooltip_span.addClass('ui-button-text');\n",
       "        tooltip_span.html(tooltip);\n",
       "\n",
       "        button.append(icon_img);\n",
       "        button.append(tooltip_span);\n",
       "\n",
       "        nav_element.append(button);\n",
       "    }\n",
       "\n",
       "    var fmt_picker_span = $('<span/>');\n",
       "\n",
       "    var fmt_picker = $('<select/>');\n",
       "    fmt_picker.addClass('mpl-toolbar-option ui-widget ui-widget-content');\n",
       "    fmt_picker_span.append(fmt_picker);\n",
       "    nav_element.append(fmt_picker_span);\n",
       "    this.format_dropdown = fmt_picker[0];\n",
       "\n",
       "    for (var ind in mpl.extensions) {\n",
       "        var fmt = mpl.extensions[ind];\n",
       "        var option = $(\n",
       "            '<option/>', {selected: fmt === mpl.default_extension}).html(fmt);\n",
       "        fmt_picker.append(option)\n",
       "    }\n",
       "\n",
       "    // Add hover states to the ui-buttons\n",
       "    $( \".ui-button\" ).hover(\n",
       "        function() { $(this).addClass(\"ui-state-hover\");},\n",
       "        function() { $(this).removeClass(\"ui-state-hover\");}\n",
       "    );\n",
       "\n",
       "    var status_bar = $('<span class=\"mpl-message\"/>');\n",
       "    nav_element.append(status_bar);\n",
       "    this.message = status_bar[0];\n",
       "}\n",
       "\n",
       "mpl.figure.prototype.request_resize = function(x_pixels, y_pixels) {\n",
       "    // Request matplotlib to resize the figure. Matplotlib will then trigger a resize in the client,\n",
       "    // which will in turn request a refresh of the image.\n",
       "    this.send_message('resize', {'width': x_pixels, 'height': y_pixels});\n",
       "}\n",
       "\n",
       "mpl.figure.prototype.send_message = function(type, properties) {\n",
       "    properties['type'] = type;\n",
       "    properties['figure_id'] = this.id;\n",
       "    this.ws.send(JSON.stringify(properties));\n",
       "}\n",
       "\n",
       "mpl.figure.prototype.send_draw_message = function() {\n",
       "    if (!this.waiting) {\n",
       "        this.waiting = true;\n",
       "        this.ws.send(JSON.stringify({type: \"draw\", figure_id: this.id}));\n",
       "    }\n",
       "}\n",
       "\n",
       "\n",
       "mpl.figure.prototype.handle_save = function(fig, msg) {\n",
       "    var format_dropdown = fig.format_dropdown;\n",
       "    var format = format_dropdown.options[format_dropdown.selectedIndex].value;\n",
       "    fig.ondownload(fig, format);\n",
       "}\n",
       "\n",
       "\n",
       "mpl.figure.prototype.handle_resize = function(fig, msg) {\n",
       "    var size = msg['size'];\n",
       "    if (size[0] != fig.canvas.width || size[1] != fig.canvas.height) {\n",
       "        fig._resize_canvas(size[0], size[1]);\n",
       "        fig.send_message(\"refresh\", {});\n",
       "    };\n",
       "}\n",
       "\n",
       "mpl.figure.prototype.handle_rubberband = function(fig, msg) {\n",
       "    var x0 = msg['x0'];\n",
       "    var y0 = fig.canvas.height - msg['y0'];\n",
       "    var x1 = msg['x1'];\n",
       "    var y1 = fig.canvas.height - msg['y1'];\n",
       "    x0 = Math.floor(x0) + 0.5;\n",
       "    y0 = Math.floor(y0) + 0.5;\n",
       "    x1 = Math.floor(x1) + 0.5;\n",
       "    y1 = Math.floor(y1) + 0.5;\n",
       "    var min_x = Math.min(x0, x1);\n",
       "    var min_y = Math.min(y0, y1);\n",
       "    var width = Math.abs(x1 - x0);\n",
       "    var height = Math.abs(y1 - y0);\n",
       "\n",
       "    fig.rubberband_context.clearRect(\n",
       "        0, 0, fig.canvas.width, fig.canvas.height);\n",
       "\n",
       "    fig.rubberband_context.strokeRect(min_x, min_y, width, height);\n",
       "}\n",
       "\n",
       "mpl.figure.prototype.handle_figure_label = function(fig, msg) {\n",
       "    // Updates the figure title.\n",
       "    fig.header.textContent = msg['label'];\n",
       "}\n",
       "\n",
       "mpl.figure.prototype.handle_cursor = function(fig, msg) {\n",
       "    var cursor = msg['cursor'];\n",
       "    switch(cursor)\n",
       "    {\n",
       "    case 0:\n",
       "        cursor = 'pointer';\n",
       "        break;\n",
       "    case 1:\n",
       "        cursor = 'default';\n",
       "        break;\n",
       "    case 2:\n",
       "        cursor = 'crosshair';\n",
       "        break;\n",
       "    case 3:\n",
       "        cursor = 'move';\n",
       "        break;\n",
       "    }\n",
       "    fig.rubberband_canvas.style.cursor = cursor;\n",
       "}\n",
       "\n",
       "mpl.figure.prototype.handle_message = function(fig, msg) {\n",
       "    fig.message.textContent = msg['message'];\n",
       "}\n",
       "\n",
       "mpl.figure.prototype.handle_draw = function(fig, msg) {\n",
       "    // Request the server to send over a new figure.\n",
       "    fig.send_draw_message();\n",
       "}\n",
       "\n",
       "mpl.figure.prototype.handle_image_mode = function(fig, msg) {\n",
       "    fig.image_mode = msg['mode'];\n",
       "}\n",
       "\n",
       "mpl.figure.prototype.updated_canvas_event = function() {\n",
       "    // Called whenever the canvas gets updated.\n",
       "    this.send_message(\"ack\", {});\n",
       "}\n",
       "\n",
       "// A function to construct a web socket function for onmessage handling.\n",
       "// Called in the figure constructor.\n",
       "mpl.figure.prototype._make_on_message_function = function(fig) {\n",
       "    return function socket_on_message(evt) {\n",
       "        if (evt.data instanceof Blob) {\n",
       "            /* FIXME: We get \"Resource interpreted as Image but\n",
       "             * transferred with MIME type text/plain:\" errors on\n",
       "             * Chrome.  But how to set the MIME type?  It doesn't seem\n",
       "             * to be part of the websocket stream */\n",
       "            evt.data.type = \"image/png\";\n",
       "\n",
       "            /* Free the memory for the previous frames */\n",
       "            if (fig.imageObj.src) {\n",
       "                (window.URL || window.webkitURL).revokeObjectURL(\n",
       "                    fig.imageObj.src);\n",
       "            }\n",
       "\n",
       "            fig.imageObj.src = (window.URL || window.webkitURL).createObjectURL(\n",
       "                evt.data);\n",
       "            fig.updated_canvas_event();\n",
       "            fig.waiting = false;\n",
       "            return;\n",
       "        }\n",
       "        else if (typeof evt.data === 'string' && evt.data.slice(0, 21) == \"data:image/png;base64\") {\n",
       "            fig.imageObj.src = evt.data;\n",
       "            fig.updated_canvas_event();\n",
       "            fig.waiting = false;\n",
       "            return;\n",
       "        }\n",
       "\n",
       "        var msg = JSON.parse(evt.data);\n",
       "        var msg_type = msg['type'];\n",
       "\n",
       "        // Call the  \"handle_{type}\" callback, which takes\n",
       "        // the figure and JSON message as its only arguments.\n",
       "        try {\n",
       "            var callback = fig[\"handle_\" + msg_type];\n",
       "        } catch (e) {\n",
       "            console.log(\"No handler for the '\" + msg_type + \"' message type: \", msg);\n",
       "            return;\n",
       "        }\n",
       "\n",
       "        if (callback) {\n",
       "            try {\n",
       "                // console.log(\"Handling '\" + msg_type + \"' message: \", msg);\n",
       "                callback(fig, msg);\n",
       "            } catch (e) {\n",
       "                console.log(\"Exception inside the 'handler_\" + msg_type + \"' callback:\", e, e.stack, msg);\n",
       "            }\n",
       "        }\n",
       "    };\n",
       "}\n",
       "\n",
       "// from http://stackoverflow.com/questions/1114465/getting-mouse-location-in-canvas\n",
       "mpl.findpos = function(e) {\n",
       "    //this section is from http://www.quirksmode.org/js/events_properties.html\n",
       "    var targ;\n",
       "    if (!e)\n",
       "        e = window.event;\n",
       "    if (e.target)\n",
       "        targ = e.target;\n",
       "    else if (e.srcElement)\n",
       "        targ = e.srcElement;\n",
       "    if (targ.nodeType == 3) // defeat Safari bug\n",
       "        targ = targ.parentNode;\n",
       "\n",
       "    // jQuery normalizes the pageX and pageY\n",
       "    // pageX,Y are the mouse positions relative to the document\n",
       "    // offset() returns the position of the element relative to the document\n",
       "    var x = e.pageX - $(targ).offset().left;\n",
       "    var y = e.pageY - $(targ).offset().top;\n",
       "\n",
       "    return {\"x\": x, \"y\": y};\n",
       "};\n",
       "\n",
       "/*\n",
       " * return a copy of an object with only non-object keys\n",
       " * we need this to avoid circular references\n",
       " * http://stackoverflow.com/a/24161582/3208463\n",
       " */\n",
       "function simpleKeys (original) {\n",
       "  return Object.keys(original).reduce(function (obj, key) {\n",
       "    if (typeof original[key] !== 'object')\n",
       "        obj[key] = original[key]\n",
       "    return obj;\n",
       "  }, {});\n",
       "}\n",
       "\n",
       "mpl.figure.prototype.mouse_event = function(event, name) {\n",
       "    var canvas_pos = mpl.findpos(event)\n",
       "\n",
       "    if (name === 'button_press')\n",
       "    {\n",
       "        this.canvas.focus();\n",
       "        this.canvas_div.focus();\n",
       "    }\n",
       "\n",
       "    var x = canvas_pos.x;\n",
       "    var y = canvas_pos.y;\n",
       "\n",
       "    this.send_message(name, {x: x, y: y, button: event.button,\n",
       "                             step: event.step,\n",
       "                             guiEvent: simpleKeys(event)});\n",
       "\n",
       "    /* This prevents the web browser from automatically changing to\n",
       "     * the text insertion cursor when the button is pressed.  We want\n",
       "     * to control all of the cursor setting manually through the\n",
       "     * 'cursor' event from matplotlib */\n",
       "    event.preventDefault();\n",
       "    return false;\n",
       "}\n",
       "\n",
       "mpl.figure.prototype._key_event_extra = function(event, name) {\n",
       "    // Handle any extra behaviour associated with a key event\n",
       "}\n",
       "\n",
       "mpl.figure.prototype.key_event = function(event, name) {\n",
       "\n",
       "    // Prevent repeat events\n",
       "    if (name == 'key_press')\n",
       "    {\n",
       "        if (event.which === this._key)\n",
       "            return;\n",
       "        else\n",
       "            this._key = event.which;\n",
       "    }\n",
       "    if (name == 'key_release')\n",
       "        this._key = null;\n",
       "\n",
       "    var value = '';\n",
       "    if (event.ctrlKey && event.which != 17)\n",
       "        value += \"ctrl+\";\n",
       "    if (event.altKey && event.which != 18)\n",
       "        value += \"alt+\";\n",
       "    if (event.shiftKey && event.which != 16)\n",
       "        value += \"shift+\";\n",
       "\n",
       "    value += 'k';\n",
       "    value += event.which.toString();\n",
       "\n",
       "    this._key_event_extra(event, name);\n",
       "\n",
       "    this.send_message(name, {key: value,\n",
       "                             guiEvent: simpleKeys(event)});\n",
       "    return false;\n",
       "}\n",
       "\n",
       "mpl.figure.prototype.toolbar_button_onclick = function(name) {\n",
       "    if (name == 'download') {\n",
       "        this.handle_save(this, null);\n",
       "    } else {\n",
       "        this.send_message(\"toolbar_button\", {name: name});\n",
       "    }\n",
       "};\n",
       "\n",
       "mpl.figure.prototype.toolbar_button_onmouseover = function(tooltip) {\n",
       "    this.message.textContent = tooltip;\n",
       "};\n",
       "mpl.toolbar_items = [[\"Home\", \"Reset original view\", \"fa fa-home icon-home\", \"home\"], [\"Back\", \"Back to  previous view\", \"fa fa-arrow-left icon-arrow-left\", \"back\"], [\"Forward\", \"Forward to next view\", \"fa fa-arrow-right icon-arrow-right\", \"forward\"], [\"\", \"\", \"\", \"\"], [\"Pan\", \"Pan axes with left mouse, zoom with right\", \"fa fa-arrows icon-move\", \"pan\"], [\"Zoom\", \"Zoom to rectangle\", \"fa fa-square-o icon-check-empty\", \"zoom\"], [\"\", \"\", \"\", \"\"], [\"Download\", \"Download plot\", \"fa fa-floppy-o icon-save\", \"download\"]];\n",
       "\n",
       "mpl.extensions = [\"eps\", \"jpeg\", \"pdf\", \"png\", \"ps\", \"raw\", \"svg\", \"tif\"];\n",
       "\n",
       "mpl.default_extension = \"png\";var comm_websocket_adapter = function(comm) {\n",
       "    // Create a \"websocket\"-like object which calls the given IPython comm\n",
       "    // object with the appropriate methods. Currently this is a non binary\n",
       "    // socket, so there is still some room for performance tuning.\n",
       "    var ws = {};\n",
       "\n",
       "    ws.close = function() {\n",
       "        comm.close()\n",
       "    };\n",
       "    ws.send = function(m) {\n",
       "        //console.log('sending', m);\n",
       "        comm.send(m);\n",
       "    };\n",
       "    // Register the callback with on_msg.\n",
       "    comm.on_msg(function(msg) {\n",
       "        //console.log('receiving', msg['content']['data'], msg);\n",
       "        // Pass the mpl event to the overriden (by mpl) onmessage function.\n",
       "        ws.onmessage(msg['content']['data'])\n",
       "    });\n",
       "    return ws;\n",
       "}\n",
       "\n",
       "mpl.mpl_figure_comm = function(comm, msg) {\n",
       "    // This is the function which gets called when the mpl process\n",
       "    // starts-up an IPython Comm through the \"matplotlib\" channel.\n",
       "\n",
       "    var id = msg.content.data.id;\n",
       "    // Get hold of the div created by the display call when the Comm\n",
       "    // socket was opened in Python.\n",
       "    var element = $(\"#\" + id);\n",
       "    var ws_proxy = comm_websocket_adapter(comm)\n",
       "\n",
       "    function ondownload(figure, format) {\n",
       "        window.open(figure.imageObj.src);\n",
       "    }\n",
       "\n",
       "    var fig = new mpl.figure(id, ws_proxy,\n",
       "                           ondownload,\n",
       "                           element.get(0));\n",
       "\n",
       "    // Call onopen now - mpl needs it, as it is assuming we've passed it a real\n",
       "    // web socket which is closed, not our websocket->open comm proxy.\n",
       "    ws_proxy.onopen();\n",
       "\n",
       "    fig.parent_element = element.get(0);\n",
       "    fig.cell_info = mpl.find_output_cell(\"<div id='\" + id + \"'></div>\");\n",
       "    if (!fig.cell_info) {\n",
       "        console.error(\"Failed to find cell for figure\", id, fig);\n",
       "        return;\n",
       "    }\n",
       "\n",
       "    var output_index = fig.cell_info[2]\n",
       "    var cell = fig.cell_info[0];\n",
       "\n",
       "};\n",
       "\n",
       "mpl.figure.prototype.handle_close = function(fig, msg) {\n",
       "    fig.root.unbind('remove')\n",
       "\n",
       "    // Update the output cell to use the data from the current canvas.\n",
       "    fig.push_to_output();\n",
       "    var dataURL = fig.canvas.toDataURL();\n",
       "    // Re-enable the keyboard manager in IPython - without this line, in FF,\n",
       "    // the notebook keyboard shortcuts fail.\n",
       "    IPython.keyboard_manager.enable()\n",
       "    $(fig.parent_element).html('<img src=\"' + dataURL + '\">');\n",
       "    fig.close_ws(fig, msg);\n",
       "}\n",
       "\n",
       "mpl.figure.prototype.close_ws = function(fig, msg){\n",
       "    fig.send_message('closing', msg);\n",
       "    // fig.ws.close()\n",
       "}\n",
       "\n",
       "mpl.figure.prototype.push_to_output = function(remove_interactive) {\n",
       "    // Turn the data on the canvas into data in the output cell.\n",
       "    var dataURL = this.canvas.toDataURL();\n",
       "    this.cell_info[1]['text/html'] = '<img src=\"' + dataURL + '\">';\n",
       "}\n",
       "\n",
       "mpl.figure.prototype.updated_canvas_event = function() {\n",
       "    // Tell IPython that the notebook contents must change.\n",
       "    IPython.notebook.set_dirty(true);\n",
       "    this.send_message(\"ack\", {});\n",
       "    var fig = this;\n",
       "    // Wait a second, then push the new image to the DOM so\n",
       "    // that it is saved nicely (might be nice to debounce this).\n",
       "    setTimeout(function () { fig.push_to_output() }, 1000);\n",
       "}\n",
       "\n",
       "mpl.figure.prototype._init_toolbar = function() {\n",
       "    var fig = this;\n",
       "\n",
       "    var nav_element = $('<div/>')\n",
       "    nav_element.attr('style', 'width: 100%');\n",
       "    this.root.append(nav_element);\n",
       "\n",
       "    // Define a callback function for later on.\n",
       "    function toolbar_event(event) {\n",
       "        return fig.toolbar_button_onclick(event['data']);\n",
       "    }\n",
       "    function toolbar_mouse_event(event) {\n",
       "        return fig.toolbar_button_onmouseover(event['data']);\n",
       "    }\n",
       "\n",
       "    for(var toolbar_ind in mpl.toolbar_items){\n",
       "        var name = mpl.toolbar_items[toolbar_ind][0];\n",
       "        var tooltip = mpl.toolbar_items[toolbar_ind][1];\n",
       "        var image = mpl.toolbar_items[toolbar_ind][2];\n",
       "        var method_name = mpl.toolbar_items[toolbar_ind][3];\n",
       "\n",
       "        if (!name) { continue; };\n",
       "\n",
       "        var button = $('<button class=\"btn btn-default\" href=\"#\" title=\"' + name + '\"><i class=\"fa ' + image + ' fa-lg\"></i></button>');\n",
       "        button.click(method_name, toolbar_event);\n",
       "        button.mouseover(tooltip, toolbar_mouse_event);\n",
       "        nav_element.append(button);\n",
       "    }\n",
       "\n",
       "    // Add the status bar.\n",
       "    var status_bar = $('<span class=\"mpl-message\" style=\"text-align:right; float: right;\"/>');\n",
       "    nav_element.append(status_bar);\n",
       "    this.message = status_bar[0];\n",
       "\n",
       "    // Add the close button to the window.\n",
       "    var buttongrp = $('<div class=\"btn-group inline pull-right\"></div>');\n",
       "    var button = $('<button class=\"btn btn-mini btn-primary\" href=\"#\" title=\"Stop Interaction\"><i class=\"fa fa-power-off icon-remove icon-large\"></i></button>');\n",
       "    button.click(function (evt) { fig.handle_close(fig, {}); } );\n",
       "    button.mouseover('Stop Interaction', toolbar_mouse_event);\n",
       "    buttongrp.append(button);\n",
       "    var titlebar = this.root.find($('.ui-dialog-titlebar'));\n",
       "    titlebar.prepend(buttongrp);\n",
       "}\n",
       "\n",
       "mpl.figure.prototype._root_extra_style = function(el){\n",
       "    var fig = this\n",
       "    el.on(\"remove\", function(){\n",
       "\tfig.close_ws(fig, {});\n",
       "    });\n",
       "}\n",
       "\n",
       "mpl.figure.prototype._canvas_extra_style = function(el){\n",
       "    // this is important to make the div 'focusable\n",
       "    el.attr('tabindex', 0)\n",
       "    // reach out to IPython and tell the keyboard manager to turn it's self\n",
       "    // off when our div gets focus\n",
       "\n",
       "    // location in version 3\n",
       "    if (IPython.notebook.keyboard_manager) {\n",
       "        IPython.notebook.keyboard_manager.register_events(el);\n",
       "    }\n",
       "    else {\n",
       "        // location in version 2\n",
       "        IPython.keyboard_manager.register_events(el);\n",
       "    }\n",
       "\n",
       "}\n",
       "\n",
       "mpl.figure.prototype._key_event_extra = function(event, name) {\n",
       "    var manager = IPython.notebook.keyboard_manager;\n",
       "    if (!manager)\n",
       "        manager = IPython.keyboard_manager;\n",
       "\n",
       "    // Check for shift+enter\n",
       "    if (event.shiftKey && event.which == 13) {\n",
       "        this.canvas_div.blur();\n",
       "        event.shiftKey = false;\n",
       "        // Send a \"J\" for go to next cell\n",
       "        event.which = 74;\n",
       "        event.keyCode = 74;\n",
       "        manager.command_mode();\n",
       "        manager.handle_keydown(event);\n",
       "    }\n",
       "}\n",
       "\n",
       "mpl.figure.prototype.handle_save = function(fig, msg) {\n",
       "    fig.ondownload(fig, null);\n",
       "}\n",
       "\n",
       "\n",
       "mpl.find_output_cell = function(html_output) {\n",
       "    // Return the cell and output element which can be found *uniquely* in the notebook.\n",
       "    // Note - this is a bit hacky, but it is done because the \"notebook_saving.Notebook\"\n",
       "    // IPython event is triggered only after the cells have been serialised, which for\n",
       "    // our purposes (turning an active figure into a static one), is too late.\n",
       "    var cells = IPython.notebook.get_cells();\n",
       "    var ncells = cells.length;\n",
       "    for (var i=0; i<ncells; i++) {\n",
       "        var cell = cells[i];\n",
       "        if (cell.cell_type === 'code'){\n",
       "            for (var j=0; j<cell.output_area.outputs.length; j++) {\n",
       "                var data = cell.output_area.outputs[j];\n",
       "                if (data.data) {\n",
       "                    // IPython >= 3 moved mimebundle to data attribute of output\n",
       "                    data = data.data;\n",
       "                }\n",
       "                if (data['text/html'] == html_output) {\n",
       "                    return [cell, data, j];\n",
       "                }\n",
       "            }\n",
       "        }\n",
       "    }\n",
       "}\n",
       "\n",
       "// Register the function which deals with the matplotlib target/channel.\n",
       "// The kernel may be null if the page has been refreshed.\n",
       "if (IPython.notebook.kernel != null) {\n",
       "    IPython.notebook.kernel.comm_manager.register_target('matplotlib', mpl.mpl_figure_comm);\n",
       "}\n"
      ],
      "text/plain": [
       "<IPython.core.display.Javascript object>"
      ]
     },
     "metadata": {},
     "output_type": "display_data"
    },
    {
     "data": {
      "text/html": [
       "<img src=\"data:image/png;base64,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\">"
      ],
      "text/plain": [
       "<IPython.core.display.HTML object>"
      ]
     },
     "metadata": {},
     "output_type": "display_data"
    },
    {
     "data": {
      "text/plain": [
       "[<matplotlib.lines.Line2D at 0x19da45c0>]"
      ]
     },
     "execution_count": 155,
     "metadata": {},
     "output_type": "execute_result"
    }
   ],
   "source": [
    "%matplotlib notebook\n",
    "plt.plot(data.trace[4]['raw'])"
   ]
  },
  {
   "cell_type": "code",
   "execution_count": null,
   "metadata": {
    "collapsed": false
   },
   "outputs": [],
   "source": [
    "enet.packets[4].payload[40:].view(np.uint32).size"
   ]
  },
  {
   "cell_type": "code",
   "execution_count": null,
   "metadata": {
    "collapsed": false
   },
   "outputs": [],
   "source": [
    "enet.packets[4].length"
   ]
  },
  {
   "cell_type": "code",
   "execution_count": null,
   "metadata": {
    "collapsed": false
   },
   "outputs": [],
   "source": [
    "dist=dists[1]\n",
    "c=check_distribution(dist,data)\n",
    "(c-dist.counts).nonzero()[0].size"
   ]
  },
  {
   "cell_type": "code",
   "execution_count": null,
   "metadata": {
    "collapsed": false
   },
   "outputs": [],
   "source": [
    "start=dist.start_time\n",
    "stop=dist.stop_time+np.uint64(1)\n",
    "s=data.slice((start, stop))\n",
    "f = s.trace[dist.channel]['filtered']\n",
    "fd = data.trace[dist.channel]['filtered'][start:stop]\n",
    "(f-fd).nonzero()"
   ]
  },
  {
   "cell_type": "code",
   "execution_count": null,
   "metadata": {
    "collapsed": false
   },
   "outputs": [],
   "source": [
    "np.uint64(1)+np.uint64(-1)"
   ]
  },
  {
   "cell_type": "code",
   "execution_count": null,
   "metadata": {
    "collapsed": false
   },
   "outputs": [],
   "source": [
    "event_dt=np.dtype(\n",
    "    (np.uint64, \n",
    "        [\n",
    "            ('data', np.uint32),\n",
    "            ('flags0', np.uint8),\n",
    "            ('flags1', np.uint8),\n",
    "            ('time',np.uint16)\n",
    "        ] \n",
    "    )\n",
    ")\n",
    "\n",
    "peak_dt=np.dtype(\n",
    "    (\n",
    "        [\n",
    "            ('height', np.int16),\n",
    "            ('minima', np.int16),\n",
    "            ('flags0', np.uint8),\n",
    "            ('flags1', np.uint8),\n",
    "            ('time',np.uint16)\n",
    "        ] \n",
    "    )\n",
    ")\n",
    "\n",
    "tick_dt=np.dtype(\n",
    "    ( \n",
    "        [\n",
    "            ('period', np.uint32),\n",
    "            ('flags0', np.uint8),\n",
    "            ('flags1', np.uint8),\n",
    "            ('time', np.uint16),\n",
    "            ('timestamp', np.uint64)\n",
    "        ]\n",
    "    )\n",
    ")\n",
    "\n",
    "e = sim.EventStream('teslib','measurement_subsystem_TB')\n",
    "\n",
    "events=e._stream64.view(dtype=event_dt)\n",
    "\n",
    "#type_flags = np.bitwise_and(events['flags'],0x000f)\n",
    "tick = np.bitwise_and(events['flags1'],0x02)!=0\n",
    "window_start = np.bitwise_and(events['flags1'],0x01)!=0\n",
    "\n",
    "tick_mask=np.zeros(len(tick),dtype=bool)\n",
    "i=0\n",
    "while (i < len(tick)):\n",
    "    if tick[i]!=0:\n",
    "        tick_mask[i:i+2]=True\n",
    "        i+=1\n",
    "    i+=1\n",
    "    \n",
    "peaks=e._stream64[~tick_mask].view(dtype=peak_dt)\n",
    "\n",
    "ticks=e._stream64[tick_mask].view(dtype=tick_dt)"
   ]
  },
  {
   "cell_type": "code",
   "execution_count": null,
   "metadata": {
    "collapsed": false
   },
   "outputs": [],
   "source": [
    "d=distributions[0]\n",
    "\n",
    "\n",
    "d.value.trace"
   ]
  },
  {
   "cell_type": "code",
   "execution_count": null,
   "metadata": {
    "collapsed": true
   },
   "outputs": [],
   "source": [
    "%matplotlib notebook\n",
    "stop=distributions[0].stop_time\n",
    "start=distributions[0].start_time\n",
    "plt.plot(data.trace[0]['filtered'][start:stop])"
   ]
  },
  {
   "cell_type": "code",
   "execution_count": null,
   "metadata": {
    "collapsed": false
   },
   "outputs": [],
   "source": [
    "%matplotlib notebook\n",
    "d=0\n",
    "plt.plot(distributions[d].counts)"
   ]
  },
  {
   "cell_type": "code",
   "execution_count": null,
   "metadata": {
    "collapsed": false,
    "scrolled": true
   },
   "outputs": [],
   "source": [
    "p=1\n",
    "lasts=enet['last'].nonzero()[0]+1\n",
    "packets = []\n",
    "prev=0\n",
    "for last in lasts:\n",
    "    packets.append(sim.Packet( np.copy(enet['data'][prev:last]).view(np.uint8)))\n",
    "    prev=last\n",
    "\n",
    "packets[:]"
   ]
  },
  {
   "cell_type": "code",
   "execution_count": null,
   "metadata": {
    "collapsed": false
   },
   "outputs": [],
   "source": [
    "packets[4]"
   ]
  },
  {
   "cell_type": "code",
   "execution_count": null,
   "metadata": {
    "collapsed": false
   },
   "outputs": [],
   "source": [
    "def get_distributions(packets):\n",
    "    for packet in packets:\n",
    "        if packet.payload_type == PayloadType.mca:\n",
    "            \n",
    "        \n",
    "    \n",
    "    \n",
    "    \n",
    "packets[4].payload[0:8].view(mca_header_dt)"
   ]
  },
  {
   "cell_type": "code",
   "execution_count": null,
   "metadata": {
    "collapsed": false
   },
   "outputs": [],
   "source": [
    "peaks=packets[1].payload.view(peak_dt)\n",
    "peaks"
   ]
  },
  {
   "cell_type": "code",
   "execution_count": null,
   "metadata": {
    "collapsed": false
   },
   "outputs": [],
   "source": [
    "\n",
    "time=0\n",
    "times=[]\n",
    "heights=[]\n",
    "minimas=[]\n",
    "\n",
    "for p in packets:\n",
    "    if p.payload_type==sim.EventType.tick:\n",
    "        tick=p.payload.view(tick_dt)\n",
    "        time=tick[0]['timestamp']\n",
    "    elif p.payload_type==sim.EventType.peak:\n",
    "        peaks=p.payload.view(peak_dt)\n",
    "        for peak in peaks:\n",
    "            time+=peak['time']\n",
    "            times.append(time)\n",
    "            heights.append(peak['height'])\n",
    "            minimas.append(peak['minima'])\n",
    "            "
   ]
  },
  {
   "cell_type": "code",
   "execution_count": null,
   "metadata": {
    "collapsed": false
   },
   "outputs": [],
   "source": [
    "times"
   ]
  },
  {
   "cell_type": "code",
   "execution_count": null,
   "metadata": {
    "collapsed": false
   },
   "outputs": [],
   "source": [
    "packets[1].payload.view(peak_dt)"
   ]
  },
  {
   "cell_type": "code",
   "execution_count": null,
   "metadata": {
    "collapsed": false
   },
   "outputs": [],
   "source": [
    "heights[0]"
   ]
  },
  {
   "cell_type": "code",
   "execution_count": null,
   "metadata": {
    "collapsed": false,
    "scrolled": false
   },
   "outputs": [],
   "source": [
    "%matplotlib notebook\n",
    "p=3\n",
    "x=np.arange(times[p]-300,times[p]+1000,dtype=np.uint64)\n",
    "plt.plot([times[p], times[p]],[minimas[p], heights[p]],'r',lw=2)\n",
    "plt.step(x,data.trace['filtered'][x])\n",
    "plt.plot(data.peak[p/2],data.trace['filtered'][data.peak[p/2]],'ro')\n",
    "plt.plot(\n",
    "    [data.peak_start[p/2],times[p]],\n",
    "    [data.trace['filtered'][data.peak_start[p/2]],data.trace['filtered'][data.peak_start[p/2]]],\n",
    "    'k'\n",
    ")\n",
    "plt.plot(\n",
    "    [times[p],data.peak[p/2]],\n",
    "    [data.trace['filtered'][data.peak[p/2]],data.trace['filtered'][data.peak[p/2]]],\n",
    "    'k'\n",
    ")"
   ]
  },
  {
   "cell_type": "code",
   "execution_count": null,
   "metadata": {
    "collapsed": false
   },
   "outputs": [],
   "source": [
    "%matplotlib notebook\n",
    "fig=simplt.plot_slice(data.slice((data.peak[0]-1000,data.peak[0]+1000)))\n",
    "data.trace['filtered'][data.peak[0]]"
   ]
  },
  {
   "cell_type": "code",
   "execution_count": null,
   "metadata": {
    "collapsed": false,
    "scrolled": false
   },
   "outputs": [],
   "source": [
    "data.cfd_low"
   ]
  },
  {
   "cell_type": "code",
   "execution_count": null,
   "metadata": {
    "collapsed": false
   },
   "outputs": [],
   "source": [
    "packet_bytes=packet.view(np.uint8)"
   ]
  },
  {
   "cell_type": "code",
   "execution_count": null,
   "metadata": {
    "collapsed": false
   },
   "outputs": [],
   "source": [
    "packet_bytes"
   ]
  },
  {
   "cell_type": "code",
   "execution_count": null,
   "metadata": {
    "collapsed": false
   },
   "outputs": [],
   "source": []
  },
  {
   "cell_type": "code",
   "execution_count": null,
   "metadata": {
    "collapsed": false
   },
   "outputs": [],
   "source": [
    "\n",
    "payload"
   ]
  },
  {
   "cell_type": "code",
   "execution_count": null,
   "metadata": {
    "collapsed": false,
    "scrolled": false
   },
   "outputs": [],
   "source": [
    "\n",
    "payload_type"
   ]
  },
  {
   "cell_type": "code",
   "execution_count": null,
   "metadata": {
    "collapsed": false
   },
   "outputs": [],
   "source": [
    "time=payload[6:8].view(np.uint16)\n",
    "time"
   ]
  },
  {
   "cell_type": "code",
   "execution_count": null,
   "metadata": {
    "collapsed": false
   },
   "outputs": [],
   "source": [
    "\n",
    "peaks"
   ]
  },
  {
   "cell_type": "code",
   "execution_count": null,
   "metadata": {
    "collapsed": false
   },
   "outputs": [],
   "source": [
    "payload[4+8:6+8]"
   ]
  },
  {
   "cell_type": "code",
   "execution_count": null,
   "metadata": {
    "collapsed": false
   },
   "outputs": [],
   "source": [
    "%matplotlib notebook\n",
    "fig=simplt.plot_pulse(1,data)"
   ]
  },
  {
   "cell_type": "code",
   "execution_count": null,
   "metadata": {
    "collapsed": false
   },
   "outputs": [],
   "source": [
    "fig._axstack.as_list()[0]"
   ]
  },
  {
   "cell_type": "code",
   "execution_count": null,
   "metadata": {
    "collapsed": false,
    "scrolled": true
   },
   "outputs": [],
   "source": [
    "tick"
   ]
  },
  {
   "cell_type": "code",
   "execution_count": null,
   "metadata": {
    "collapsed": false
   },
   "outputs": [],
   "source": [
    "ticks"
   ]
  },
  {
   "cell_type": "code",
   "execution_count": null,
   "metadata": {
    "collapsed": false
   },
   "outputs": [],
   "source": [
    "window_start"
   ]
  },
  {
   "cell_type": "code",
   "execution_count": null,
   "metadata": {
    "collapsed": false
   },
   "outputs": [],
   "source": [
    "tick_mask"
   ]
  },
  {
   "cell_type": "code",
   "execution_count": null,
   "metadata": {
    "collapsed": false
   },
   "outputs": [],
   "source": [
    "e._stream64[tick_mask]"
   ]
  },
  {
   "cell_type": "code",
   "execution_count": null,
   "metadata": {
    "collapsed": false
   },
   "outputs": [],
   "source": [
    "type_flags[~tick_mask]"
   ]
  },
  {
   "cell_type": "code",
   "execution_count": null,
   "metadata": {
    "collapsed": false
   },
   "outputs": [],
   "source": [
    "type_flags = np.bitwise_and(events['flags'],0x000f)\n",
    "peak_num = np.right_shift(np.bitwise_and(events['flags'],0x00f0),4)\n",
    "channel = np.right_shift(np.bitwise_and(events['flags'],0x0f00),8)\n",
    "event_type = np.right_shift(np.bitwise_and(events['flags'],0x3000),12)\n",
    "tick=np.bitwise_and(type_flags,0x0002)"
   ]
  },
  {
   "cell_type": "code",
   "execution_count": null,
   "metadata": {
    "collapsed": false
   },
   "outputs": [],
   "source": [
    "ticks"
   ]
  },
  {
   "cell_type": "code",
   "execution_count": null,
   "metadata": {
    "collapsed": false
   },
   "outputs": [],
   "source": []
  },
  {
   "cell_type": "code",
   "execution_count": null,
   "metadata": {
    "collapsed": false
   },
   "outputs": [],
   "source": [
    "tick_mask"
   ]
  },
  {
   "cell_type": "code",
   "execution_count": null,
   "metadata": {
    "collapsed": false
   },
   "outputs": [],
   "source": [
    "events[tick_mask]"
   ]
  },
  {
   "cell_type": "code",
   "execution_count": null,
   "metadata": {
    "collapsed": false
   },
   "outputs": [],
   "source": [
    "time=np.bitwise_and(events[~tick_mask]['time'],0x7fff)\n",
    "c_start=np.bitwise_and(events[~tick_mask]['time'],0x8000)!=0"
   ]
  },
  {
   "cell_type": "code",
   "execution_count": null,
   "metadata": {
    "collapsed": false
   },
   "outputs": [],
   "source": [
    "events[tick_mask]['time']"
   ]
  },
  {
   "cell_type": "code",
   "execution_count": null,
   "metadata": {
    "collapsed": false
   },
   "outputs": [],
   "source": [
    "time"
   ]
  },
  {
   "cell_type": "code",
   "execution_count": null,
   "metadata": {
    "collapsed": false
   },
   "outputs": [],
   "source": [
    "np.binary_repr(time[0],width=16)"
   ]
  },
  {
   "cell_type": "code",
   "execution_count": null,
   "metadata": {
    "collapsed": false
   },
   "outputs": [],
   "source": [
    "events[~tick_mask]['min']"
   ]
  },
  {
   "cell_type": "code",
   "execution_count": null,
   "metadata": {
    "collapsed": false
   },
   "outputs": [],
   "source": [
    "events[~tick_mask]['height']"
   ]
  },
  {
   "cell_type": "code",
   "execution_count": null,
   "metadata": {
    "collapsed": false
   },
   "outputs": [],
   "source": [
    "%matplotlib notebook\n",
    "fig = simplt.plot_pulse(1,data,pre=500,length=3000)\n"
   ]
  },
  {
   "cell_type": "code",
   "execution_count": null,
   "metadata": {
    "collapsed": true
   },
   "outputs": [],
   "source": [
    "import pickle\n",
    "\n",
    "# An arbitrary collection of objects supported by pickle.\n",
    "\n",
    "pickler = pickle.Pickler(open('long.pickle', 'wb'),pickle.HIGHEST_PROTOCOL)\n",
    "pickler.dump(data)\n"
   ]
  },
  {
   "cell_type": "code",
   "execution_count": null,
   "metadata": {
    "collapsed": true
   },
   "outputs": [],
   "source": [
    "unpickler = pickle.Unpickler(open('long.pickle', 'rb'))\n",
    "reg2=unpickler.load()\n",
    "data2=unpickler.load()"
   ]
  },
  {
   "cell_type": "code",
   "execution_count": null,
   "metadata": {
    "collapsed": false
   },
   "outputs": [],
   "source": [
    "data2.trace['slope']"
   ]
  },
  {
   "cell_type": "code",
   "execution_count": null,
   "metadata": {
    "collapsed": false
   },
   "outputs": [],
   "source": [
    "reg2"
   ]
  },
  {
   "cell_type": "code",
   "execution_count": null,
   "metadata": {
    "collapsed": false,
    "scrolled": false
   },
   "outputs": [],
   "source": [
    "axs = fig.get_axes()\n",
    "pax=axs[0].parasites\n",
    "pax[0]._label\n",
    "f_ins_ax=axs[1]\n",
    "s_ins_ax=f_ins_ax.parasites[0]"
   ]
  },
  {
   "cell_type": "code",
   "execution_count": null,
   "metadata": {
    "collapsed": false,
    "scrolled": false
   },
   "outputs": [],
   "source": [
    "es=sim.Data.fromfile('eventstream',np.int32,'teslib','measurement_unit_TB')"
   ]
  },
  {
   "cell_type": "code",
   "execution_count": null,
   "metadata": {
    "collapsed": false
   },
   "outputs": [],
   "source": [
    "es"
   ]
  },
  {
   "cell_type": "code",
   "execution_count": null,
   "metadata": {
    "collapsed": false
   },
   "outputs": [],
   "source": [
    "data.peak[-1]"
   ]
  },
  {
   "cell_type": "code",
   "execution_count": null,
   "metadata": {
    "collapsed": false
   },
   "outputs": [],
   "source": [
    "s.peak"
   ]
  },
  {
   "cell_type": "code",
   "execution_count": null,
   "metadata": {
    "collapsed": false
   },
   "outputs": [],
   "source": [
    "isinstance(r,sim.DataRegion)"
   ]
  },
  {
   "cell_type": "code",
   "execution_count": null,
   "metadata": {
    "collapsed": false
   },
   "outputs": [],
   "source": [
    "r.peak"
   ]
  },
  {
   "cell_type": "code",
   "execution_count": null,
   "metadata": {
    "collapsed": false
   },
   "outputs": [],
   "source": [
    "i"
   ]
  },
  {
   "cell_type": "code",
   "execution_count": null,
   "metadata": {
    "collapsed": false
   },
   "outputs": [],
   "source": [
    "%matplotlib notebook\n",
    "import matplotlib.pyplot as plt\n",
    "\n",
    "plt.plot(data.trace['filtered'])"
   ]
  },
  {
   "cell_type": "code",
   "execution_count": null,
   "metadata": {
    "collapsed": false
   },
   "outputs": [],
   "source": [
    "ax=plt.gca()\n",
    "t=ax.transData\n",
    "t.transform([[0.1,0.2],[1,3]])"
   ]
  },
  {
   "cell_type": "code",
   "execution_count": null,
   "metadata": {
    "collapsed": true
   },
   "outputs": [],
   "source": [
    "x=np.array([0,1,2,3])\n",
    "y=np.array([3,4,5,6])\n",
    "\n",
    "xy=np.empty(shape=(4,2))"
   ]
  },
  {
   "cell_type": "code",
   "execution_count": null,
   "metadata": {
    "collapsed": false
   },
   "outputs": [],
   "source": [
    "xy[:,0]=x\n",
    "xy[:,1]=y\n",
    "t.transform(xy)"
   ]
  },
  {
   "cell_type": "code",
   "execution_count": null,
   "metadata": {
    "collapsed": true
   },
   "outputs": [],
   "source": []
  },
  {
   "cell_type": "code",
   "execution_count": null,
   "metadata": {
    "collapsed": false
   },
   "outputs": [],
   "source": [
    "# run to import isim data files\n",
    "\n",
    "import numpy as np\n",
    "import os\n",
    "import matplotlib.pyplot as plt\n",
    "import math\n",
    "from enum import Enum\n",
    "\n",
    "plt.rcParams[\"figure.figsize\"]=[800./80,600./80]\n",
    "\n",
    "repo='c:\\\\TES_project\\\\fpga_ise\\\\'\n",
    "project='teslib'\n",
    "testbench='measurement_unit_TB'\n",
    "datafile='traces'\n",
    "path=repo+project+'\\\\PlanAhead\\\\'+project+'.sim\\\\'+testbench+'\\\\'\n",
    "\n",
    "traces_dt = np.dtype([('input', np.int32),('raw',np.int32),('filtered',np.int32),('slope',np.int32)])\n",
    "traces=np.fromfile(path+'traces',traces_dt)\n",
    "trigger=np.fromfile(path+'triggers',np.int32)\n",
    "settings=np.fromfile(path+'settings',np.int32)\n",
    "cfd_low=np.fromfile(path+'cfdlow',np.int32)\n",
    "cfd_high=np.fromfile(path+'cfdhigh',np.int32)\n",
    "peaks=np.fromfile(path+'peaks',np.int32)\n",
    "peaks.shape=(-1,2)\n",
    "peak_starts=np.fromfile(path+'peak_starts',np.int32)\n",
    "#peak_starts.shape=(-1,2)\n",
    "pulse_starts=np.fromfile(path+'peak_starts',np.int32)\n",
    "settings=np.fromfile(path+'settings',np.int32)\n",
    "cfd_low=np.fromfile(path+'cfdlow',np.int32)\n",
    "cfd_high=np.fromfile(path+'cfdhigh',np.int32)\n",
    "slope_xing=np.fromfile(path+'slopethreshxings',np.int32)\n"
   ]
  },
  {
   "cell_type": "code",
   "execution_count": null,
   "metadata": {
    "collapsed": false
   },
   "outputs": [],
   "source": [
    "settings[13]"
   ]
  },
  {
   "cell_type": "code",
   "execution_count": null,
   "metadata": {
    "collapsed": false
   },
   "outputs": [],
   "source": [
    "#create register dict from settings array\n",
    "\n",
    "class height_type(Enum):\n",
    "    def from_int(value):\n",
    "        if value == 0:\n",
    "            return height_type.peak_height\n",
    "        elif value == 1:\n",
    "            return height_type.cfd_high\n",
    "        elif value == 2:\n",
    "            return height_type.slope_integral\n",
    "        else:\n",
    "            raise AttributeError()\n",
    "    peak_height=0\n",
    "    cfd_high=1\n",
    "    slope_integral=2\n",
    "\n",
    "class trigger_type(Enum):\n",
    "    def from_int(value):\n",
    "        if value == 0:\n",
    "            return trigger_type.pulse_threshold\n",
    "        elif value == 1:\n",
    "            return trigger_type.slope_threshold\n",
    "        elif value == 2:\n",
    "            return trigger_type.cfd_low\n",
    "        else:\n",
    "            raise AttributeError()\n",
    "    pulse_threshold=0\n",
    "    slope_threshold=1\n",
    "    cfd_low=2\n",
    "\n",
    "class event_type(Enum):\n",
    "    def from_int(value):\n",
    "        if value == 0:\n",
    "            return event_type.peak\n",
    "        elif value == 1:\n",
    "            return event_type.area\n",
    "        elif value == 2:\n",
    "            return event_type.pulse\n",
    "        elif value == 3:\n",
    "            return event_type.trace\n",
    "        else:\n",
    "            raise AttributeError()\n",
    "    peak=0\n",
    "    area=1\n",
    "    pulse=2\n",
    "    trace=3\n",
    "\n",
    "\n",
    "def read_registers(settings):\n",
    "    registers = dict()\n",
    "    registers['baseline'] = dict()\n",
    "    registers['baseline']['offset'] = settings[0]\n",
    "    registers['baseline']['subtraction'] = settings[1]!=0\n",
    "    registers['baseline']['timeconstant'] = settings[2]\n",
    "    registers['baseline']['threshold'] = settings[3]\n",
    "    registers['baseline']['count_threshold'] = settings[4]\n",
    "    registers['generic'] = dict()\n",
    "    registers['baseline']['average_order'] = settings[5]\n",
    "    registers['capture'] = dict()\n",
    "    registers['capture']['cfd_relative'] = settings[6]!=0\n",
    "    registers['capture']['constant_fraction'] = settings[7]\n",
    "    registers['capture']['pulse_threshold'] = settings[8]\n",
    "    registers['capture']['slope_threshold'] = settings[9]\n",
    "    registers['capture']['pulse_area_threshold'] = settings[10]\n",
    "    registers['capture']['height_type'] = height_type.from_int(settings[11])\n",
    "    registers['capture']['threshold_rel2min'] = settings[12]!=0\n",
    "    registers['capture']['trigger_type'] = trigger_type.from_int(settings[13])\n",
    "    registers['capture']['event_type'] = event_type.from_int(settings[14])\n",
    "    return registers\n"
   ]
  },
  {
   "cell_type": "code",
   "execution_count": null,
   "metadata": {
    "collapsed": false
   },
   "outputs": [],
   "source": [
    "%matplotlib notebook\n",
    "x=np.arange(len(traces['filtered']))\n",
    "fig=plt.figure()\n",
    "\n",
    "ax=fig.add_axes([0.15,0.1,0.8,0.8])\n",
    "mV=1.0/math.pow(2,14)*1000\n",
    "nS=4\n",
    "\n",
    "\n",
    "i_trace, =ax.step(x*nS/1000000,(traces['input']+1800)*mV*2,'k',label='raw input')\n",
    "f_trace, =ax.step(x*nS/1000000,traces['filtered']*mV,'b',label='processed')\n",
    "fig.suptitle('Digital Signal Processing',fontsize=24)\n",
    "plt.xlabel('time (ms)',fontsize=18)\n",
    "plt.ylabel('Voltage (mV)',fontsize=18)\n",
    "plt.legend(handles=[i_trace,f_trace])\n",
    "\n",
    "fig.savefig('trace.png')\n",
    "plt.show()"
   ]
  },
  {
   "cell_type": "code",
   "execution_count": null,
   "metadata": {
    "collapsed": true
   },
   "outputs": [],
   "source": []
  },
  {
   "cell_type": "code",
   "execution_count": null,
   "metadata": {
    "collapsed": false
   },
   "outputs": [],
   "source": [
    "%matplotlib notebook\n",
    "import math\n",
    "\n",
    "def align_yaxis(ax1, v1, ax2, v2):\n",
    "    \"\"\"adjust ax2 ylimit so that v2 in ax2 is aligned to v1 in ax1\"\"\"\n",
    "    _, y1 = ax1.transData.transform((0, v1))\n",
    "    _, y2 = ax2.transData.transform((0, v2))\n",
    "    adjust_yaxis(ax2,(y1-y2)/2,v2)\n",
    "    adjust_yaxis(ax1,(y2-y1)/2,v1)\n",
    "\n",
    "def adjust_yaxis(ax,ydif,v):\n",
    "    \"\"\"shift axis ax by ydiff, maintaining point v at the same location\"\"\"\n",
    "    inv = ax.transData.inverted()\n",
    "    _, dy = inv.transform((0, 0)) - inv.transform((0, ydif))\n",
    "    miny, maxy = ax.get_ylim()\n",
    "    miny, maxy = miny - v, maxy - v\n",
    "    if -miny>maxy or (-miny==maxy and dy > 0):\n",
    "        nminy = miny\n",
    "        nmaxy = miny*(maxy+dy)/(miny+dy)\n",
    "    else:\n",
    "        nmaxy = maxy\n",
    "        nminy = maxy*(miny+dy)/(maxy+dy)\n",
    "    ax.set_ylim(nminy+v, nmaxy+v)\n",
    "    \n",
    "x=np.arange(len(traces['filtered']))\n",
    "fig=plt.figure()\n",
    "ax=fig.add_axes([0.1,0.1,0.8,0.8])\n",
    "plt.ylim(-10,120)\n",
    "v=math.pow(2,13)/1000\n",
    "t=x*4\n",
    "ax.plot([0,t[-1]],[0,0],'k')\n",
    "raw, = ax.step(t,traces['raw']/2/v,'k',lw=1,label='raw')\n",
    "processed, = ax.step(t,traces['filtered']/2/v,'r',lw=2,label='processed')\n",
    "ax.plot(trigger,traces['filtered'][trigger+1]/2,'kx')\n",
    "ax.plot(peaks[:,0],traces['filtered'][peaks[:,0]+1]/2,'ro')\n",
    "ax.plot(peak_starts,traces['filtered'][peak_starts+1]/2,'ro')\n",
    "ax.plot(cfd_high,traces['filtered'][cfd_high+1]/2,'bs')\n",
    "ax.plot(cfd_low,traces['filtered'][cfd_low+1]/2,'bs')\n",
    "plt.xlabel('time (ns)',fontsize=18)\n",
    "plt.ylabel('Voltage (mV)',fontsize=18,color='r')\n",
    "\n",
    "ax2=ax.twinx()\n",
    "slope, = ax2.step(t,traces['slope']/256/v/4,'b',lw=2,label='slope')\n",
    "plt.xlim([1292000,1297500])\n",
    "plt.ylim(-0.2,1)\n",
    "align_yaxis(ax,0,ax2,0)\n",
    "plt.ylabel('slope (mV/ns)',color='b',fontsize=18)\n",
    "fig.suptitle('Digital signal processing',fontsize=24)\n",
    "plt.legend(handles=[raw,processed,slope])\n",
    "fig.savefig('dsp.png')\n",
    "plt.show()"
   ]
  },
  {
   "cell_type": "code",
   "execution_count": null,
   "metadata": {
    "collapsed": false
   },
   "outputs": [],
   "source": [
    "%matplotlib notebook\n",
    "\n",
    "#plot pulse\n",
    "from mpl_toolkits.axes_grid1 import host_subplot\n",
    "from mpl_toolkits.axes_grid1.inset_locator import zoomed_inset_axes\n",
    "from mpl_toolkits.axes_grid1.inset_locator import mark_inset\n",
    "\n",
    "pulse=7\n",
    "length=2000\n",
    "pre=100\n",
    "\n",
    "def align_yaxis(ax1, v1, ax2, v2):\n",
    "    \"\"\"adjust ax2 ylimit so that v2 in ax2 is aligned to v1 in ax1\"\"\"\n",
    "    _, y1 = ax1.transData.transform((0, v1))\n",
    "    _, y2 = ax2.transData.transform((0, v2))\n",
    "    adjust_yaxis(ax2,(y1-y2)/2,v2)\n",
    "    adjust_yaxis(ax1,(y2-y1)/2,v1)\n",
    "\n",
    "def adjust_yaxis(ax,ydif,v):\n",
    "    \"\"\"shift axis ax by ydiff, maintaining point v at the same location\"\"\"\n",
    "    inv = ax.transData.inverted()\n",
    "    _, dy = inv.transform((0, 0)) - inv.transform((0, ydif))\n",
    "    miny, maxy = ax.get_ylim()\n",
    "    miny, maxy = miny - v, maxy - v\n",
    "    if -miny>maxy or (-miny==maxy and dy > 0):\n",
    "        nminy = miny\n",
    "        nmaxy = miny*(maxy+dy)/(miny+dy)\n",
    "    else:\n",
    "        nmaxy = maxy\n",
    "        nminy = maxy*(miny+dy)/(maxy+dy)\n",
    "    ax.set_ylim(nminy+v, nmaxy+v)\n",
    "    \n",
    "start=pulse_starts[pulse]-pre\n",
    "stop=start+length\n",
    "x=np.arange(0,len(traces['filtered']))\n",
    "fig=plt.figure()\n",
    "\n",
    "f_ax = host_subplot(111)\n",
    "s_ax = f_ax.twinx()\n",
    "\n",
    "f_ax.set_xlabel(\"Time (ns)\",fontsize=18)\n",
    "f_ax.set_ylabel(\"Voltage (mV)\",fontsize=18,color='r')\n",
    "s_ax.set_ylabel(\"Slope (mv/ns)\",fontsize=18,color='b')\n",
    "\n",
    "mV=1.0/math.pow(2,14)*1000\n",
    "nS=4\n",
    "t=x*nS\n",
    "\n",
    "f_sig = traces['filtered']*mV\n",
    "s_sig = traces['slope']*mV/nS\n",
    "\n",
    "f_ax.plot([t[start],t[stop]],[0,0],'k') # zero line\n",
    "f_trace, = f_ax.step(t[start:stop],f_sig[start:stop],'r',lw=2,label='processed')\n",
    "f_ax.set_ylim(-10,180)\n",
    "\n",
    "s_trace, = s_ax.step(t[start:stop],s_sig[start:stop],'b',lw=1,label='slope')\n",
    "s_ax.set_ylim(-15,50)\n",
    "#s_threshold = 6\n",
    "#s_ax.set_yticks(np.concatenate((s_ax.get_yticks(),[s_threshold])))\n",
    "#labels=[label.get_text() for label in s_ax.get_yticklabels()]\n",
    "#labels[6]='Threshold'\n",
    "\n",
    "#s_ax.set_yticklabels(labels)\n",
    "plt.xlim(t[start],t[stop])\n",
    "align_yaxis(f_ax,0,s_ax,0)\n",
    "fig.suptitle('Measurement:First pass',fontsize=24)\n",
    "#plt.legend(handles=[f_trace,s_trace])\n",
    "\n",
    "starts_mask = np.logical_and(peak_starts >= start,peak_starts <= stop)\n",
    "peaks_mask = np.logical_and(peaks[:,0] >= start, peaks[:,0] <= stop)\n",
    "peak_starts_inwin = peak_starts[starts_mask]\n",
    "\n",
    "for pstart in peak_starts_inwin:\n",
    "    peak_start_t=t[pstart]-2\n",
    "    peak_start_f=f_sig[pstart]\n",
    "    peak_start_s=s_sig[pstart]\n",
    "\n",
    "    f_ax.plot(peak_start_t,peak_start_f,'ro')\n",
    "    s_ax.plot(peak_start_t,peak_start_s,'bo')\n",
    "    \n",
    "    f_trans = f_ax.transData\n",
    "    s_trans = s_ax.transData.inverted()\n",
    "    trans = s_trans+f_trans\n",
    "    f_point=f_trans.transform((peak_start_t,peak_start_f))\n",
    "    s_point=s_trans.transform((f_point[0],f_point[1]))\n",
    "\n",
    "    s_ax.plot([peak_start_t,peak_start_t],[peak_start_s, s_point[1]],'k')\n",
    "\n",
    "#for p in peaks[0][peaks_inwin]\n",
    "peaks_inwin = peaks[peaks_mask,0]\n",
    "for p in peaks_inwin:\n",
    "    peak_t=t[p]-2\n",
    "    peak_f=f_sig[p]\n",
    "    peak_s=s_sig[p]\n",
    "\n",
    "    f_ax.plot(peak_t,peak_f,'ro')\n",
    "    s_ax.plot(peak_t,peak_s,'bo')\n",
    "    \n",
    "    f_trans = f_ax.transData\n",
    "    s_trans = s_ax.transData.inverted()\n",
    "    trans = s_trans+f_trans\n",
    "    f_point=f_trans.transform((peak_t,peak_f))\n",
    "    s_point=s_trans.transform((f_point[0],f_point[1]))\n",
    "\n",
    "    s_ax.plot([peak_t,peak_t],[peak_s, s_point[1]],'k')\n",
    "\n",
    "ins_start = peak_starts_inwin[0]-5\n",
    "ins_stop = peak_starts_inwin[0]+5\n",
    "f_ins_ax = zoomed_inset_axes(f_ax, 50, loc=1)  # zoom = 6\n",
    "f_ins_ax.step(t[ins_start:ins_stop],f_sig[ins_start:ins_stop],'r')\n",
    "f_ins_ax.set_ylim(-0.5,2)\n",
    "f_ins_ax.set_xlim(ins_start,ins_stop)\n",
    "f_ins_ax.set_yticks([])\n",
    "f_ins_ax.set_xticks([])\n",
    "\n",
    "f_ins_ax.plot([t[ins_start],t[ins_stop]],[0,0],'k') # zero line\n",
    "\n",
    "#plt.xticks(visible=False)\n",
    "#plt.yticks(visible=False)\n",
    "mark_inset(f_ax, f_ins_ax, loc1=2, loc2=4, fc=\"none\", ec=\"0.5\")\n",
    "\n",
    "s_ins_ax = f_ins_ax.twinx()\n",
    "s_ins_ax.set_yticks([])\n",
    "s_ins_ax.set_xticks([])\n",
    "\n",
    "s_ins_ax.step(t[ins_start:ins_stop],s_sig[ins_start:ins_stop],'b')\n",
    "\n",
    "s_ins_ax.set_ylim(-1,1)\n",
    "align_yaxis(f_ins_ax,0,s_ins_ax,0)\n",
    "\n",
    "pstart = peak_starts_inwin[0]\n",
    "peak_start_t=t[pstart]-2\n",
    "peak_start_f=f_sig[pstart]\n",
    "peak_start_s=s_sig[pstart]\n",
    "\n",
    "f_ins_ax.plot(peak_start_t,peak_start_f,'ro')\n",
    "s_ins_ax.plot(peak_start_t,peak_start_s,'bo')\n",
    "    \n",
    "f_trans = f_ins_ax.transData\n",
    "s_trans = s_ins_ax.transData.inverted()\n",
    "trans = s_trans+f_trans\n",
    "f_point=f_trans.transform((peak_start_t,peak_start_f))\n",
    "s_point=s_trans.transform((f_point[0],f_point[1]))\n",
    "\n",
    "s_ins_ax.plot([peak_start_t,peak_start_t],[peak_start_s, s_point[1]],'k')\n",
    "\n",
    "s_ax.plot([t[start],t[stop]],[s_threshold,s_threshold],ls='dashed')\n",
    "\n",
    "fig.savefig('measurement1.png')\n",
    "plt.draw()\n",
    "plt.show()"
   ]
  },
  {
   "cell_type": "code",
   "execution_count": null,
   "metadata": {
    "collapsed": false
   },
   "outputs": [],
   "source": [
    "%matplotlib notebook\n",
    "from mpl_toolkits.axes_grid1 import host_subplot\n",
    "from mpl_toolkits.axes_grid1.inset_locator import zoomed_inset_axes\n",
    "from mpl_toolkits.axes_grid1.inset_locator import mark_inset\n",
    "\n",
    "pulse=7\n",
    "length=2000\n",
    "pre=100\n",
    "\n",
    "def align_yaxis(ax1, v1, ax2, v2):\n",
    "    \"\"\"adjust ax2 ylimit so that v2 in ax2 is aligned to v1 in ax1\"\"\"\n",
    "    _, y1 = ax1.transData.transform((0, v1))\n",
    "    _, y2 = ax2.transData.transform((0, v2))\n",
    "    adjust_yaxis(ax2,(y1-y2)/2,v2)\n",
    "    adjust_yaxis(ax1,(y2-y1)/2,v1)\n",
    "\n",
    "def adjust_yaxis(ax,ydif,v):\n",
    "    \"\"\"shift axis ax by ydiff, maintaining point v at the same location\"\"\"\n",
    "    inv = ax.transData.inverted()\n",
    "    _, dy = inv.transform((0, 0)) - inv.transform((0, ydif))\n",
    "    miny, maxy = ax.get_ylim()\n",
    "    miny, maxy = miny - v, maxy - v\n",
    "    if -miny>maxy or (-miny==maxy and dy > 0):\n",
    "        nminy = miny\n",
    "        nmaxy = miny*(maxy+dy)/(miny+dy)\n",
    "    else:\n",
    "        nmaxy = maxy\n",
    "        nminy = maxy*(miny+dy)/(maxy+dy)\n",
    "    ax.set_ylim(nminy+v, nmaxy+v)\n",
    "    \n",
    "start=pulse_starts[pulse]-pre\n",
    "stop=start+length\n",
    "x=np.arange(0,len(traces['filtered']))\n",
    "fig=plt.figure()\n",
    "\n",
    "f_ax = host_subplot(111)\n",
    "s_ax = f_ax.twinx()\n",
    "\n",
    "f_ax.set_xlabel(\"Time (ns)\",fontsize=18)\n",
    "f_ax.set_ylabel(\"Voltage (mV)\",fontsize=18,color='r')\n",
    "s_ax.set_ylabel(\"Slope (mv/ns)\",fontsize=18,color='b')\n",
    "\n",
    "mV=1.0/math.pow(2,14)*1000\n",
    "nS=4\n",
    "t=x*nS\n",
    "\n",
    "f_sig = traces['filtered']*mV\n",
    "s_sig = traces['slope']*mV/nS\n",
    "\n",
    "f_ax.plot([t[start],t[stop]],[0,0],'k') # zero line\n",
    "f_trace, = f_ax.step(t[start:stop],f_sig[start:stop],'r',lw=2,label='processed')\n",
    "f_ax.set_ylim(-10,180)\n",
    "\n",
    "s_trace, = s_ax.step(t[start:stop],s_sig[start:stop],'b',lw=1,label='slope')\n",
    "s_ax.set_ylim(-15,50)\n",
    "#s_threshold = 6\n",
    "#s_ax.set_yticks(np.concatenate((s_ax.get_yticks(),[s_threshold])))\n",
    "#labels=[label.get_text() for label in s_ax.get_yticklabels()]\n",
    "#labels[6]='Threshold'\n",
    "\n",
    "#s_ax.set_yticklabels(labels)\n",
    "plt.xlim(t[start],t[stop])\n",
    "align_yaxis(f_ax,0,s_ax,0)\n",
    "fig.suptitle('Measurement:Second pass',fontsize=24)\n",
    "#plt.legend(handles=[f_trace,s_trace])\n",
    "\n",
    "starts_mask = np.logical_and(peak_starts >= start,peak_starts <= stop)\n",
    "peaks_mask = np.logical_and(peaks[:,0] >= start, peaks[:,0] <= stop)\n",
    "peak_starts_inwin = peak_starts[starts_mask]\n",
    "\n",
    "\n",
    "#for pstart in peak_starts_inwin:\n",
    "#    peak_start_t=t[pstart]-2\n",
    "#    peak_start_f=f_sig[pstart]\n",
    "#    peak_start_s=s_sig[pstart]\n",
    "#\n",
    "#    f_ax.plot(peak_start_t,peak_start_f,'ro')\n",
    "#    s_ax.plot(peak_start_t,peak_start_s,'bo')\n",
    "    \n",
    "#    f_trans = f_ax.transData\n",
    "#    s_trans = s_ax.transData.inverted()\n",
    "#    trans = s_trans+f_trans\n",
    "#    f_point=f_trans.transform((peak_start_t,peak_start_f))\n",
    "#    s_point=s_trans.transform((f_point[0],f_point[1]))\n",
    "\n",
    "#    s_ax.plot([peak_start_t,peak_start_t],[peak_start_s, s_point[1]],'k')\n",
    "\n",
    "#for p in peaks[0][peaks_inwin]\n",
    "peaks_inwin = peaks[peaks_mask,0]\n",
    "x_s=peak_starts_inwin\n",
    "x_p=peaks_inwin\n",
    "y_s=f_sig[x_s]\n",
    "y_p=f_sig[x_p]\n",
    "\n",
    "f_ax.plot(t[peak_starts_inwin],f_sig[peak_starts_inwin],'or')\n",
    "f_ax.plot(t[peaks_inwin],f_sig[peaks_inwin],'or')\n",
    "\n",
    "\n",
    "f_ax.plot([t[x_s[0]],t[x_p[0]]],[y_s[0],y_s[0]],'k')\n",
    "f_ax.plot([t[x_p[0]],t[x_p[0]]],[y_s[0],y_p[0]],'k')\n",
    "\n",
    "f_ax.plot([t[x_s[1]],t[x_p[1]]],[y_s[1],y_s[1]],'k')\n",
    "f_ax.plot([t[x_p[1]],t[x_p[1]]],[y_s[1],y_p[1]],'k')\n",
    "\n",
    "\n",
    "#for p in peaks_inwin:\n",
    "#    peak_t=t[p]-2\n",
    "#    peak_f=f_sig[p]\n",
    "#    peak_s=s_sig[p]\n",
    "\n",
    "#    f_ax.plot(peak_t,peak_f,'ro')\n",
    "#    s_ax.plot(peak_t,peak_s,'bo')\n",
    "    \n",
    "#    f_trans = f_ax.transData\n",
    "#    s_trans = s_ax.transata.inverted()\n",
    "#    trans = s_trans+f_trans\n",
    "#    f_point=f_trans.transform((peak_t,peak_f))\n",
    "#    s_point=s_trans.transform((f_point[0],f_point[1]))\n",
    "\n",
    "#    s_ax.plot([peak_t,peak_t],[peak_s, s_point[1]],'k')\n",
    "\n",
    "ins_start = peak_starts_inwin[1]-300\n",
    "ins_stop = peak_starts_inwin[1]+500\n",
    "f_ins_ax = zoomed_inset_axes(f_ax, 1.5, loc=1)  # zoom = 6\n",
    "f_ins_ax.step(t[ins_start:ins_stop],f_sig[ins_start:ins_stop],'r')\n",
    "f_ins_ax.set_ylim(60,180)\n",
    "f_ins_ax.set_xlim(t[ins_start],t[ins_stop])\n",
    "f_ins_ax.set_yticks([])\n",
    "f_ins_ax.set_xticks([])\n",
    "\n",
    "low_mask = np.logical_and(cfd_low >= start, cfd_low <= stop)\n",
    "low_inwin = cfd_low[low_mask]\n",
    "high_mask = np.logical_and(cfd_high >= start, cfd_high <= stop)\n",
    "high_inwin = cfd_high[high_mask]\n",
    "thresh_mask = np.logical_and(slope_xing >= start, slope_xing <= stop)\n",
    "thresh_inwin = slope_xing[thresh_mask]\n",
    "\n",
    "f_ins_ax.plot(t[peak_starts_inwin],f_sig[peak_starts_inwin],'or')\n",
    "f_ins_ax.plot(t[peaks_inwin],f_sig[peaks_inwin],'or')\n",
    "\n",
    "f_ins_ax.plot(t[low_inwin],f_sig[low_inwin],'ok')\n",
    "f_ins_ax.plot(t[high_inwin],f_sig[high_inwin],'ok')\n",
    "f_ax.plot(t[low_inwin],f_sig[low_inwin],'ok')\n",
    "f_ax.plot(t[high_inwin],f_sig[high_inwin],'ok')\n",
    "#f_ax.plot(t[thresh_inwin],f_sig[thresh_inwin],'ow')\n",
    "f_ins_ax.plot(t[thresh_inwin],f_sig[thresh_inwin],'ow')\n",
    "\n",
    "\n",
    "f_ins_ax.plot([t[x_s[0]],t[x_p[0]]],[y_s[0],y_s[0]],'k')\n",
    "f_ins_ax.plot([t[x_p[0]],t[x_p[0]]],[y_s[0],y_p[0]],'k')\n",
    "\n",
    "f_ins_ax.plot([t[x_s[1]],t[x_p[1]]],[y_s[1],y_s[1]],'k')\n",
    "f_ins_ax.plot([t[x_p[1]],t[x_p[1]]],[y_s[1],y_p[1]],'k')\n",
    "\n",
    "#f_ins_ax.plot([t[ins_start],t[ins_stop]],[0,0],'k') # zero line\n",
    "\n",
    "#plt.xticks(visible=False)\n",
    "#plt.yticks(visible=False)\n",
    "#mark_inset(f_ax, f_ins_ax, loc1=2, loc2=4, fc=\"none\", ec=\"0.5\")\n",
    "\n",
    "pstart = peak_starts_inwin[1]\n",
    "peak_start_t=t[pstart]-2\n",
    "peak_start_f=f_sig[pstart]\n",
    "peak_start_s=s_sig[pstart]\n",
    "\n",
    "f_ins_ax.plot(peak_start_t,peak_start_f,'ro')\n",
    "\n",
    "\n",
    "f_trans = f_ins_ax.transData\n",
    "s_trans = s_ins_ax.transData.inverted()\n",
    "trans = s_trans+f_trans\n",
    "f_point=f_trans.transform((peak_start_t,peak_start_f))\n",
    "s_point=s_trans.transform((f_point[0],f_point[1]))\n",
    "\n",
    "s_ins_ax.plot([peak_start_t,peak_start_t],[peak_start_s, s_point[1]],'k')\n",
    "\n",
    "s_ax.plot([t[start],t[stop]],[s_threshold,s_threshold],ls='dashed')\n",
    "\n",
    "fig.savefig('measurement2.png')\n",
    "plt.draw()\n",
    "plt.show()"
   ]
  },
  {
   "cell_type": "code",
   "execution_count": null,
   "metadata": {
    "collapsed": false
   },
   "outputs": [],
   "source": [
    "from mpl_toolkits.axes_grid1.inset_locator import inset_axes\n",
    "\n",
    "fig=plt.figure()\n",
    "fig.suptitle('Multi Channel Analyser',fontsize=24)\n",
    "\n",
    "h_ax = host_subplot(111)\n",
    "\n",
    "h_ins_ax = inset_axes(h_ax, width=\"80%\",height=1., loc=1)  # zoom = 6\n",
    "h_ins_ax.set_xlim(-25,160)\n",
    "h_ins_ax.set_ylim(0,0.002)\n",
    "h_ax.hist((traces['input']+200)*2*mV,math.pow(2,14),normed=1,facecolor='k',edgecolor='k')\n",
    "h_ax.hist(f_sig,math.pow(2,14),normed=1,facecolor='r',edgecolor='r')\n",
    "h_ins_ax.hist(f_sig,math.pow(2,14),normed=1,facecolor='r',edgecolor='r')\n",
    "h_ins_ax.set_xticks([])\n",
    "h_ins_ax.set_yticks([])\n",
    "h_ax.set_xlim(-30,100)\n",
    "h_ax.set_ylim(0,0.8)\n",
    "\n",
    "mark_inset(h_ax, h_ins_ax, loc1=2, loc2=4, fc=\"none\", ec=\"0.5\")\n",
    "\n",
    "h_ax.set_xlabel('Voltage (mV)')\n",
    "h_ax.set_ylabel('Probability')\n",
    "fig.savefig('hist.png')\n",
    "plt.show()"
   ]
  },
  {
   "cell_type": "code",
   "execution_count": null,
   "metadata": {
    "collapsed": true
   },
   "outputs": [],
   "source": [
    "peak_dt=np.dtype([('time',np.uint16),('flags',np.uint16),('minima',np.uint16),('height',np.uint16)])"
   ]
  },
  {
   "cell_type": "code",
   "execution_count": null,
   "metadata": {
    "collapsed": true
   },
   "outputs": [],
   "source": [
    "area_dt=np.dtype([('time',np.uint16),('flags',np.uint16),('area',np.uint32)])"
   ]
  },
  {
   "cell_type": "code",
   "execution_count": null,
   "metadata": {
    "collapsed": true
   },
   "outputs": [],
   "source": [
    "pulse_peak_dt=np.dtype([('trigger',np.uint16),('rise',np.uint16),('minima',np.uint16),('height',np.uint16)])\n",
    "pulse_header_dt=np.dtype([('time',np.uint16),('flags',np.uint16),('res1',np.uint16),('size',np.uint16),\n",
    "                    ('length',np.uint16),('res2',np.uint16),('area',np.int32)])"
   ]
  },
  {
   "cell_type": "code",
   "execution_count": null,
   "metadata": {
    "collapsed": false
   },
   "outputs": [],
   "source": [
    "pulse2_dt=np.dtype([('time',np.uint16),('flags',np.uint16),('res1',np.uint16),('size',np.uint16),\n",
    "                    ('length',np.uint16),('res2',np.uint16),('area',np.int32),\n",
    "                    ('trigger0',np.uint16),('rise0',np.uint16),('minima0',np.uint16),('height0',np.uint16),\n",
    "                    ('trigger1',np.uint16),('rise1',np.uint16),('minima1',np.uint16),('height1',np.uint16)])"
   ]
  },
  {
   "cell_type": "code",
   "execution_count": null,
   "metadata": {
    "collapsed": false
   },
   "outputs": [],
   "source": [
    "pulse2_subarray_dt=np.dtype([('header',pulse_header_dt,('peaks', (pulse_peak_dt,(1,2)) ))])"
   ]
  },
  {
   "cell_type": "code",
   "execution_count": null,
   "metadata": {
    "collapsed": true
   },
   "outputs": [],
   "source": [
    "eventstream=np.fromfile(path+'eventstream',peak_dt)"
   ]
  },
  {
   "cell_type": "code",
   "execution_count": null,
   "metadata": {
    "collapsed": true
   },
   "outputs": [],
   "source": [
    "eventstream=np.fromfile(path+'eventstream',area_dt)"
   ]
  },
  {
   "cell_type": "code",
   "execution_count": null,
   "metadata": {
    "collapsed": true
   },
   "outputs": [],
   "source": [
    "eventstream=np.fromfile(path+'eventstream',pulse2_dt)"
   ]
  },
  {
   "cell_type": "code",
   "execution_count": null,
   "metadata": {
    "collapsed": false
   },
   "outputs": [],
   "source": [
    "eventstream"
   ]
  },
  {
   "cell_type": "code",
   "execution_count": null,
   "metadata": {
    "collapsed": false
   },
   "outputs": [],
   "source": [
    "flags=eventstream['flags']\n",
    "print(np.binary_repr(flags[0],16))"
   ]
  },
  {
   "cell_type": "code",
   "execution_count": null,
   "metadata": {
    "collapsed": false
   },
   "outputs": [],
   "source": [
    "print(\"flags:{:016b}\\nsize:{}\\nlength:{}\\narea:{}\\ntrigger:{} rise:{} minima:{} height:{}\\ntrigger:{} rise:{} minima:{} height:{}\\n\"  \n",
    "      .format(eventstream['flags'][0],eventstream['size'][0],eventstream['length'][0],eventstream['area'][0],\n",
    "        eventstream['trigger0'][0],eventstream['rise0'][0],eventstream['minima0'][0],eventstream['height0'][0],\n",
    "        eventstream['trigger1'][0],eventstream['rise1'][0],eventstream['minima1'][0],eventstream['height1'][0]))"
   ]
  },
  {
   "cell_type": "code",
   "execution_count": null,
   "metadata": {
    "collapsed": false
   },
   "outputs": [],
   "source": [
    "print(np.binary_repr(flags[1],16))"
   ]
  },
  {
   "cell_type": "code",
   "execution_count": null,
   "metadata": {
    "collapsed": true
   },
   "outputs": [],
   "source": [
    "rel_to_min=np.right_shift(np.bitwise_and(flags,0x8000),15).astype(np.bool)\n",
    "channel=np.right_shift(np.bitwise_and(flags,0x0F00),8).astype(np.uint8)\n",
    "threshold_rel2min=np.right_shift(np.bitwise_and(flags,0x4000),14).astype(np.bool)\n",
    "peak_count=np.right_shift(np.bitwise_and(flags,0x00F0),4).astype(np.uint8)\n",
    "tick=np.bitwise_and(flags,0x0001).astype(bool)\n",
    "area=np.right_shift(np.bitwise_and(flags,0x0002),1).astype(np.bool)\n",
    "trace=np.right_shift(np.bitwise_and(flags,0x0004),2).astype(np.bool)\n",
    "fixed=np.right_shift(np.bitwise_and(flags,0x0008),3).astype(np.bool)\n",
    "event_type=np.right_shift(np.bitwise_and(flags,0x3000),12).astype(np.uint8)"
   ]
  },
  {
   "cell_type": "code",
   "execution_count": null,
   "metadata": {
    "collapsed": false
   },
   "outputs": [],
   "source": [
    "flags"
   ]
  },
  {
   "cell_type": "code",
   "execution_count": null,
   "metadata": {
    "collapsed": false
   },
   "outputs": [],
   "source": [
    "eventstream"
   ]
  },
  {
   "cell_type": "code",
   "execution_count": null,
   "metadata": {
    "collapsed": true
   },
   "outputs": [],
   "source": []
  },
  {
   "cell_type": "code",
   "execution_count": null,
   "metadata": {
    "collapsed": true
   },
   "outputs": [],
   "source": []
  }
 ],
 "metadata": {
  "kernelspec": {
   "display_name": "Python 3",
   "language": "python",
   "name": "python3"
  },
  "language_info": {
   "codemirror_mode": {
    "name": "ipython",
    "version": 3
   },
   "file_extension": ".py",
   "mimetype": "text/x-python",
   "name": "python",
   "nbconvert_exporter": "python",
   "pygments_lexer": "ipython3",
   "version": "3.5.1"
  }
 },
 "nbformat": 4,
 "nbformat_minor": 0
}
