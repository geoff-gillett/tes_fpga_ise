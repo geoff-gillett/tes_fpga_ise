{
 "cells": [
  {
   "cell_type": "markdown",
   "metadata": {},
   "source": [
    "timestamp 0 => clk 20\n",
    "\n",
    "traces start at clk 1"
   ]
  },
  {
   "cell_type": "code",
   "execution_count": 2,
   "metadata": {
    "collapsed": false,
    "run_control": {
     "frozen": false,
     "read_only": false
    }
   },
   "outputs": [],
   "source": [
    "from tes.data import Data,PacketStream,Packet,Payload,EventFlags,Event\n",
    "from tes.hdf5 import _PacketData, _import\n",
    "import numpy as np\n",
    "import matplotlib.pyplot as plt\n",
    "from subprocess import Popen\n",
    "\n",
    "import logging\n",
    "import sys\n",
    "logger = logging.getLogger('tes')\n",
    "logger.setLevel(logging.DEBUG)\n",
    "handler = logging.StreamHandler(sys.stderr)\n",
    "formatter = logging.Formatter('%(name)s:%(levelname)s %(message)s')\n",
    "handler.setFormatter(formatter)\n",
    "logger.handlers = [handler]\n",
    "\n",
    "trace_dt=np.dtype([('raw','i4'),('filtered','i4'),('slope','i4'),('filteredL','i4')])\n",
    "stream_dt=np.dtype([('data','i4'),('last','i4')])\n",
    "minmax_dt=np.dtype(\n",
    "    [\n",
    "        ('filtered','i4'),('timing_threshold','i4'),\n",
    "        ('height_threshold','i4'),('slope_extrema','i4'),('slope_area','i4'),('clk','i4')\n",
    "    ]\n",
    ")\n",
    "cfd_dt=np.dtype('i4')\n",
    "filteredxing_dt=np.dtype([('extrema','i4'),('area','i4'),('clk','i4')])"
   ]
  },
  {
   "cell_type": "code",
   "execution_count": 11,
   "metadata": {
    "collapsed": false,
    "run_control": {
     "frozen": false,
     "read_only": false
    },
    "scrolled": false
   },
   "outputs": [
    {
     "data": {
      "application/javascript": [
       "/* Put everything inside the global mpl namespace */\n",
       "window.mpl = {};\n",
       "\n",
       "\n",
       "mpl.get_websocket_type = function() {\n",
       "    if (typeof(WebSocket) !== 'undefined') {\n",
       "        return WebSocket;\n",
       "    } else if (typeof(MozWebSocket) !== 'undefined') {\n",
       "        return MozWebSocket;\n",
       "    } else {\n",
       "        alert('Your browser does not have WebSocket support.' +\n",
       "              'Please try Chrome, Safari or Firefox ≥ 6. ' +\n",
       "              'Firefox 4 and 5 are also supported but you ' +\n",
       "              'have to enable WebSockets in about:config.');\n",
       "    };\n",
       "}\n",
       "\n",
       "mpl.figure = function(figure_id, websocket, ondownload, parent_element) {\n",
       "    this.id = figure_id;\n",
       "\n",
       "    this.ws = websocket;\n",
       "\n",
       "    this.supports_binary = (this.ws.binaryType != undefined);\n",
       "\n",
       "    if (!this.supports_binary) {\n",
       "        var warnings = document.getElementById(\"mpl-warnings\");\n",
       "        if (warnings) {\n",
       "            warnings.style.display = 'block';\n",
       "            warnings.textContent = (\n",
       "                \"This browser does not support binary websocket messages. \" +\n",
       "                    \"Performance may be slow.\");\n",
       "        }\n",
       "    }\n",
       "\n",
       "    this.imageObj = new Image();\n",
       "\n",
       "    this.context = undefined;\n",
       "    this.message = undefined;\n",
       "    this.canvas = undefined;\n",
       "    this.rubberband_canvas = undefined;\n",
       "    this.rubberband_context = undefined;\n",
       "    this.format_dropdown = undefined;\n",
       "\n",
       "    this.image_mode = 'full';\n",
       "\n",
       "    this.root = $('<div/>');\n",
       "    this._root_extra_style(this.root)\n",
       "    this.root.attr('style', 'display: inline-block');\n",
       "\n",
       "    $(parent_element).append(this.root);\n",
       "\n",
       "    this._init_header(this);\n",
       "    this._init_canvas(this);\n",
       "    this._init_toolbar(this);\n",
       "\n",
       "    var fig = this;\n",
       "\n",
       "    this.waiting = false;\n",
       "\n",
       "    this.ws.onopen =  function () {\n",
       "            fig.send_message(\"supports_binary\", {value: fig.supports_binary});\n",
       "            fig.send_message(\"send_image_mode\", {});\n",
       "            if (mpl.ratio != 1) {\n",
       "                fig.send_message(\"set_dpi_ratio\", {'dpi_ratio': mpl.ratio});\n",
       "            }\n",
       "            fig.send_message(\"refresh\", {});\n",
       "        }\n",
       "\n",
       "    this.imageObj.onload = function() {\n",
       "            if (fig.image_mode == 'full') {\n",
       "                // Full images could contain transparency (where diff images\n",
       "                // almost always do), so we need to clear the canvas so that\n",
       "                // there is no ghosting.\n",
       "                fig.context.clearRect(0, 0, fig.canvas.width, fig.canvas.height);\n",
       "            }\n",
       "            fig.context.drawImage(fig.imageObj, 0, 0);\n",
       "        };\n",
       "\n",
       "    this.imageObj.onunload = function() {\n",
       "        this.ws.close();\n",
       "    }\n",
       "\n",
       "    this.ws.onmessage = this._make_on_message_function(this);\n",
       "\n",
       "    this.ondownload = ondownload;\n",
       "}\n",
       "\n",
       "mpl.figure.prototype._init_header = function() {\n",
       "    var titlebar = $(\n",
       "        '<div class=\"ui-dialog-titlebar ui-widget-header ui-corner-all ' +\n",
       "        'ui-helper-clearfix\"/>');\n",
       "    var titletext = $(\n",
       "        '<div class=\"ui-dialog-title\" style=\"width: 100%; ' +\n",
       "        'text-align: center; padding: 3px;\"/>');\n",
       "    titlebar.append(titletext)\n",
       "    this.root.append(titlebar);\n",
       "    this.header = titletext[0];\n",
       "}\n",
       "\n",
       "\n",
       "\n",
       "mpl.figure.prototype._canvas_extra_style = function(canvas_div) {\n",
       "\n",
       "}\n",
       "\n",
       "\n",
       "mpl.figure.prototype._root_extra_style = function(canvas_div) {\n",
       "\n",
       "}\n",
       "\n",
       "mpl.figure.prototype._init_canvas = function() {\n",
       "    var fig = this;\n",
       "\n",
       "    var canvas_div = $('<div/>');\n",
       "\n",
       "    canvas_div.attr('style', 'position: relative; clear: both; outline: 0');\n",
       "\n",
       "    function canvas_keyboard_event(event) {\n",
       "        return fig.key_event(event, event['data']);\n",
       "    }\n",
       "\n",
       "    canvas_div.keydown('key_press', canvas_keyboard_event);\n",
       "    canvas_div.keyup('key_release', canvas_keyboard_event);\n",
       "    this.canvas_div = canvas_div\n",
       "    this._canvas_extra_style(canvas_div)\n",
       "    this.root.append(canvas_div);\n",
       "\n",
       "    var canvas = $('<canvas/>');\n",
       "    canvas.addClass('mpl-canvas');\n",
       "    canvas.attr('style', \"left: 0; top: 0; z-index: 0; outline: 0\")\n",
       "\n",
       "    this.canvas = canvas[0];\n",
       "    this.context = canvas[0].getContext(\"2d\");\n",
       "\n",
       "    var backingStore = this.context.backingStorePixelRatio ||\n",
       "\tthis.context.webkitBackingStorePixelRatio ||\n",
       "\tthis.context.mozBackingStorePixelRatio ||\n",
       "\tthis.context.msBackingStorePixelRatio ||\n",
       "\tthis.context.oBackingStorePixelRatio ||\n",
       "\tthis.context.backingStorePixelRatio || 1;\n",
       "\n",
       "    mpl.ratio = (window.devicePixelRatio || 1) / backingStore;\n",
       "\n",
       "    var rubberband = $('<canvas/>');\n",
       "    rubberband.attr('style', \"position: absolute; left: 0; top: 0; z-index: 1;\")\n",
       "\n",
       "    var pass_mouse_events = true;\n",
       "\n",
       "    canvas_div.resizable({\n",
       "        start: function(event, ui) {\n",
       "            pass_mouse_events = false;\n",
       "        },\n",
       "        resize: function(event, ui) {\n",
       "            fig.request_resize(ui.size.width, ui.size.height);\n",
       "        },\n",
       "        stop: function(event, ui) {\n",
       "            pass_mouse_events = true;\n",
       "            fig.request_resize(ui.size.width, ui.size.height);\n",
       "        },\n",
       "    });\n",
       "\n",
       "    function mouse_event_fn(event) {\n",
       "        if (pass_mouse_events)\n",
       "            return fig.mouse_event(event, event['data']);\n",
       "    }\n",
       "\n",
       "    rubberband.mousedown('button_press', mouse_event_fn);\n",
       "    rubberband.mouseup('button_release', mouse_event_fn);\n",
       "    // Throttle sequential mouse events to 1 every 20ms.\n",
       "    rubberband.mousemove('motion_notify', mouse_event_fn);\n",
       "\n",
       "    rubberband.mouseenter('figure_enter', mouse_event_fn);\n",
       "    rubberband.mouseleave('figure_leave', mouse_event_fn);\n",
       "\n",
       "    canvas_div.on(\"wheel\", function (event) {\n",
       "        event = event.originalEvent;\n",
       "        event['data'] = 'scroll'\n",
       "        if (event.deltaY < 0) {\n",
       "            event.step = 1;\n",
       "        } else {\n",
       "            event.step = -1;\n",
       "        }\n",
       "        mouse_event_fn(event);\n",
       "    });\n",
       "\n",
       "    canvas_div.append(canvas);\n",
       "    canvas_div.append(rubberband);\n",
       "\n",
       "    this.rubberband = rubberband;\n",
       "    this.rubberband_canvas = rubberband[0];\n",
       "    this.rubberband_context = rubberband[0].getContext(\"2d\");\n",
       "    this.rubberband_context.strokeStyle = \"#000000\";\n",
       "\n",
       "    this._resize_canvas = function(width, height) {\n",
       "        // Keep the size of the canvas, canvas container, and rubber band\n",
       "        // canvas in synch.\n",
       "        canvas_div.css('width', width)\n",
       "        canvas_div.css('height', height)\n",
       "\n",
       "        canvas.attr('width', width * mpl.ratio);\n",
       "        canvas.attr('height', height * mpl.ratio);\n",
       "        canvas.attr('style', 'width: ' + width + 'px; height: ' + height + 'px;');\n",
       "\n",
       "        rubberband.attr('width', width);\n",
       "        rubberband.attr('height', height);\n",
       "    }\n",
       "\n",
       "    // Set the figure to an initial 600x600px, this will subsequently be updated\n",
       "    // upon first draw.\n",
       "    this._resize_canvas(600, 600);\n",
       "\n",
       "    // Disable right mouse context menu.\n",
       "    $(this.rubberband_canvas).bind(\"contextmenu\",function(e){\n",
       "        return false;\n",
       "    });\n",
       "\n",
       "    function set_focus () {\n",
       "        canvas.focus();\n",
       "        canvas_div.focus();\n",
       "    }\n",
       "\n",
       "    window.setTimeout(set_focus, 100);\n",
       "}\n",
       "\n",
       "mpl.figure.prototype._init_toolbar = function() {\n",
       "    var fig = this;\n",
       "\n",
       "    var nav_element = $('<div/>')\n",
       "    nav_element.attr('style', 'width: 100%');\n",
       "    this.root.append(nav_element);\n",
       "\n",
       "    // Define a callback function for later on.\n",
       "    function toolbar_event(event) {\n",
       "        return fig.toolbar_button_onclick(event['data']);\n",
       "    }\n",
       "    function toolbar_mouse_event(event) {\n",
       "        return fig.toolbar_button_onmouseover(event['data']);\n",
       "    }\n",
       "\n",
       "    for(var toolbar_ind in mpl.toolbar_items) {\n",
       "        var name = mpl.toolbar_items[toolbar_ind][0];\n",
       "        var tooltip = mpl.toolbar_items[toolbar_ind][1];\n",
       "        var image = mpl.toolbar_items[toolbar_ind][2];\n",
       "        var method_name = mpl.toolbar_items[toolbar_ind][3];\n",
       "\n",
       "        if (!name) {\n",
       "            // put a spacer in here.\n",
       "            continue;\n",
       "        }\n",
       "        var button = $('<button/>');\n",
       "        button.addClass('ui-button ui-widget ui-state-default ui-corner-all ' +\n",
       "                        'ui-button-icon-only');\n",
       "        button.attr('role', 'button');\n",
       "        button.attr('aria-disabled', 'false');\n",
       "        button.click(method_name, toolbar_event);\n",
       "        button.mouseover(tooltip, toolbar_mouse_event);\n",
       "\n",
       "        var icon_img = $('<span/>');\n",
       "        icon_img.addClass('ui-button-icon-primary ui-icon');\n",
       "        icon_img.addClass(image);\n",
       "        icon_img.addClass('ui-corner-all');\n",
       "\n",
       "        var tooltip_span = $('<span/>');\n",
       "        tooltip_span.addClass('ui-button-text');\n",
       "        tooltip_span.html(tooltip);\n",
       "\n",
       "        button.append(icon_img);\n",
       "        button.append(tooltip_span);\n",
       "\n",
       "        nav_element.append(button);\n",
       "    }\n",
       "\n",
       "    var fmt_picker_span = $('<span/>');\n",
       "\n",
       "    var fmt_picker = $('<select/>');\n",
       "    fmt_picker.addClass('mpl-toolbar-option ui-widget ui-widget-content');\n",
       "    fmt_picker_span.append(fmt_picker);\n",
       "    nav_element.append(fmt_picker_span);\n",
       "    this.format_dropdown = fmt_picker[0];\n",
       "\n",
       "    for (var ind in mpl.extensions) {\n",
       "        var fmt = mpl.extensions[ind];\n",
       "        var option = $(\n",
       "            '<option/>', {selected: fmt === mpl.default_extension}).html(fmt);\n",
       "        fmt_picker.append(option)\n",
       "    }\n",
       "\n",
       "    // Add hover states to the ui-buttons\n",
       "    $( \".ui-button\" ).hover(\n",
       "        function() { $(this).addClass(\"ui-state-hover\");},\n",
       "        function() { $(this).removeClass(\"ui-state-hover\");}\n",
       "    );\n",
       "\n",
       "    var status_bar = $('<span class=\"mpl-message\"/>');\n",
       "    nav_element.append(status_bar);\n",
       "    this.message = status_bar[0];\n",
       "}\n",
       "\n",
       "mpl.figure.prototype.request_resize = function(x_pixels, y_pixels) {\n",
       "    // Request matplotlib to resize the figure. Matplotlib will then trigger a resize in the client,\n",
       "    // which will in turn request a refresh of the image.\n",
       "    this.send_message('resize', {'width': x_pixels, 'height': y_pixels});\n",
       "}\n",
       "\n",
       "mpl.figure.prototype.send_message = function(type, properties) {\n",
       "    properties['type'] = type;\n",
       "    properties['figure_id'] = this.id;\n",
       "    this.ws.send(JSON.stringify(properties));\n",
       "}\n",
       "\n",
       "mpl.figure.prototype.send_draw_message = function() {\n",
       "    if (!this.waiting) {\n",
       "        this.waiting = true;\n",
       "        this.ws.send(JSON.stringify({type: \"draw\", figure_id: this.id}));\n",
       "    }\n",
       "}\n",
       "\n",
       "\n",
       "mpl.figure.prototype.handle_save = function(fig, msg) {\n",
       "    var format_dropdown = fig.format_dropdown;\n",
       "    var format = format_dropdown.options[format_dropdown.selectedIndex].value;\n",
       "    fig.ondownload(fig, format);\n",
       "}\n",
       "\n",
       "\n",
       "mpl.figure.prototype.handle_resize = function(fig, msg) {\n",
       "    var size = msg['size'];\n",
       "    if (size[0] != fig.canvas.width || size[1] != fig.canvas.height) {\n",
       "        fig._resize_canvas(size[0], size[1]);\n",
       "        fig.send_message(\"refresh\", {});\n",
       "    };\n",
       "}\n",
       "\n",
       "mpl.figure.prototype.handle_rubberband = function(fig, msg) {\n",
       "    var x0 = msg['x0'] / mpl.ratio;\n",
       "    var y0 = (fig.canvas.height - msg['y0']) / mpl.ratio;\n",
       "    var x1 = msg['x1'] / mpl.ratio;\n",
       "    var y1 = (fig.canvas.height - msg['y1']) / mpl.ratio;\n",
       "    x0 = Math.floor(x0) + 0.5;\n",
       "    y0 = Math.floor(y0) + 0.5;\n",
       "    x1 = Math.floor(x1) + 0.5;\n",
       "    y1 = Math.floor(y1) + 0.5;\n",
       "    var min_x = Math.min(x0, x1);\n",
       "    var min_y = Math.min(y0, y1);\n",
       "    var width = Math.abs(x1 - x0);\n",
       "    var height = Math.abs(y1 - y0);\n",
       "\n",
       "    fig.rubberband_context.clearRect(\n",
       "        0, 0, fig.canvas.width, fig.canvas.height);\n",
       "\n",
       "    fig.rubberband_context.strokeRect(min_x, min_y, width, height);\n",
       "}\n",
       "\n",
       "mpl.figure.prototype.handle_figure_label = function(fig, msg) {\n",
       "    // Updates the figure title.\n",
       "    fig.header.textContent = msg['label'];\n",
       "}\n",
       "\n",
       "mpl.figure.prototype.handle_cursor = function(fig, msg) {\n",
       "    var cursor = msg['cursor'];\n",
       "    switch(cursor)\n",
       "    {\n",
       "    case 0:\n",
       "        cursor = 'pointer';\n",
       "        break;\n",
       "    case 1:\n",
       "        cursor = 'default';\n",
       "        break;\n",
       "    case 2:\n",
       "        cursor = 'crosshair';\n",
       "        break;\n",
       "    case 3:\n",
       "        cursor = 'move';\n",
       "        break;\n",
       "    }\n",
       "    fig.rubberband_canvas.style.cursor = cursor;\n",
       "}\n",
       "\n",
       "mpl.figure.prototype.handle_message = function(fig, msg) {\n",
       "    fig.message.textContent = msg['message'];\n",
       "}\n",
       "\n",
       "mpl.figure.prototype.handle_draw = function(fig, msg) {\n",
       "    // Request the server to send over a new figure.\n",
       "    fig.send_draw_message();\n",
       "}\n",
       "\n",
       "mpl.figure.prototype.handle_image_mode = function(fig, msg) {\n",
       "    fig.image_mode = msg['mode'];\n",
       "}\n",
       "\n",
       "mpl.figure.prototype.updated_canvas_event = function() {\n",
       "    // Called whenever the canvas gets updated.\n",
       "    this.send_message(\"ack\", {});\n",
       "}\n",
       "\n",
       "// A function to construct a web socket function for onmessage handling.\n",
       "// Called in the figure constructor.\n",
       "mpl.figure.prototype._make_on_message_function = function(fig) {\n",
       "    return function socket_on_message(evt) {\n",
       "        if (evt.data instanceof Blob) {\n",
       "            /* FIXME: We get \"Resource interpreted as Image but\n",
       "             * transferred with MIME type text/plain:\" errors on\n",
       "             * Chrome.  But how to set the MIME type?  It doesn't seem\n",
       "             * to be part of the websocket stream */\n",
       "            evt.data.type = \"image/png\";\n",
       "\n",
       "            /* Free the memory for the previous frames */\n",
       "            if (fig.imageObj.src) {\n",
       "                (window.URL || window.webkitURL).revokeObjectURL(\n",
       "                    fig.imageObj.src);\n",
       "            }\n",
       "\n",
       "            fig.imageObj.src = (window.URL || window.webkitURL).createObjectURL(\n",
       "                evt.data);\n",
       "            fig.updated_canvas_event();\n",
       "            fig.waiting = false;\n",
       "            return;\n",
       "        }\n",
       "        else if (typeof evt.data === 'string' && evt.data.slice(0, 21) == \"data:image/png;base64\") {\n",
       "            fig.imageObj.src = evt.data;\n",
       "            fig.updated_canvas_event();\n",
       "            fig.waiting = false;\n",
       "            return;\n",
       "        }\n",
       "\n",
       "        var msg = JSON.parse(evt.data);\n",
       "        var msg_type = msg['type'];\n",
       "\n",
       "        // Call the  \"handle_{type}\" callback, which takes\n",
       "        // the figure and JSON message as its only arguments.\n",
       "        try {\n",
       "            var callback = fig[\"handle_\" + msg_type];\n",
       "        } catch (e) {\n",
       "            console.log(\"No handler for the '\" + msg_type + \"' message type: \", msg);\n",
       "            return;\n",
       "        }\n",
       "\n",
       "        if (callback) {\n",
       "            try {\n",
       "                // console.log(\"Handling '\" + msg_type + \"' message: \", msg);\n",
       "                callback(fig, msg);\n",
       "            } catch (e) {\n",
       "                console.log(\"Exception inside the 'handler_\" + msg_type + \"' callback:\", e, e.stack, msg);\n",
       "            }\n",
       "        }\n",
       "    };\n",
       "}\n",
       "\n",
       "// from http://stackoverflow.com/questions/1114465/getting-mouse-location-in-canvas\n",
       "mpl.findpos = function(e) {\n",
       "    //this section is from http://www.quirksmode.org/js/events_properties.html\n",
       "    var targ;\n",
       "    if (!e)\n",
       "        e = window.event;\n",
       "    if (e.target)\n",
       "        targ = e.target;\n",
       "    else if (e.srcElement)\n",
       "        targ = e.srcElement;\n",
       "    if (targ.nodeType == 3) // defeat Safari bug\n",
       "        targ = targ.parentNode;\n",
       "\n",
       "    // jQuery normalizes the pageX and pageY\n",
       "    // pageX,Y are the mouse positions relative to the document\n",
       "    // offset() returns the position of the element relative to the document\n",
       "    var x = e.pageX - $(targ).offset().left;\n",
       "    var y = e.pageY - $(targ).offset().top;\n",
       "\n",
       "    return {\"x\": x, \"y\": y};\n",
       "};\n",
       "\n",
       "/*\n",
       " * return a copy of an object with only non-object keys\n",
       " * we need this to avoid circular references\n",
       " * http://stackoverflow.com/a/24161582/3208463\n",
       " */\n",
       "function simpleKeys (original) {\n",
       "  return Object.keys(original).reduce(function (obj, key) {\n",
       "    if (typeof original[key] !== 'object')\n",
       "        obj[key] = original[key]\n",
       "    return obj;\n",
       "  }, {});\n",
       "}\n",
       "\n",
       "mpl.figure.prototype.mouse_event = function(event, name) {\n",
       "    var canvas_pos = mpl.findpos(event)\n",
       "\n",
       "    if (name === 'button_press')\n",
       "    {\n",
       "        this.canvas.focus();\n",
       "        this.canvas_div.focus();\n",
       "    }\n",
       "\n",
       "    var x = canvas_pos.x * mpl.ratio;\n",
       "    var y = canvas_pos.y * mpl.ratio;\n",
       "\n",
       "    this.send_message(name, {x: x, y: y, button: event.button,\n",
       "                             step: event.step,\n",
       "                             guiEvent: simpleKeys(event)});\n",
       "\n",
       "    /* This prevents the web browser from automatically changing to\n",
       "     * the text insertion cursor when the button is pressed.  We want\n",
       "     * to control all of the cursor setting manually through the\n",
       "     * 'cursor' event from matplotlib */\n",
       "    event.preventDefault();\n",
       "    return false;\n",
       "}\n",
       "\n",
       "mpl.figure.prototype._key_event_extra = function(event, name) {\n",
       "    // Handle any extra behaviour associated with a key event\n",
       "}\n",
       "\n",
       "mpl.figure.prototype.key_event = function(event, name) {\n",
       "\n",
       "    // Prevent repeat events\n",
       "    if (name == 'key_press')\n",
       "    {\n",
       "        if (event.which === this._key)\n",
       "            return;\n",
       "        else\n",
       "            this._key = event.which;\n",
       "    }\n",
       "    if (name == 'key_release')\n",
       "        this._key = null;\n",
       "\n",
       "    var value = '';\n",
       "    if (event.ctrlKey && event.which != 17)\n",
       "        value += \"ctrl+\";\n",
       "    if (event.altKey && event.which != 18)\n",
       "        value += \"alt+\";\n",
       "    if (event.shiftKey && event.which != 16)\n",
       "        value += \"shift+\";\n",
       "\n",
       "    value += 'k';\n",
       "    value += event.which.toString();\n",
       "\n",
       "    this._key_event_extra(event, name);\n",
       "\n",
       "    this.send_message(name, {key: value,\n",
       "                             guiEvent: simpleKeys(event)});\n",
       "    return false;\n",
       "}\n",
       "\n",
       "mpl.figure.prototype.toolbar_button_onclick = function(name) {\n",
       "    if (name == 'download') {\n",
       "        this.handle_save(this, null);\n",
       "    } else {\n",
       "        this.send_message(\"toolbar_button\", {name: name});\n",
       "    }\n",
       "};\n",
       "\n",
       "mpl.figure.prototype.toolbar_button_onmouseover = function(tooltip) {\n",
       "    this.message.textContent = tooltip;\n",
       "};\n",
       "mpl.toolbar_items = [[\"Home\", \"Reset original view\", \"fa fa-home icon-home\", \"home\"], [\"Back\", \"Back to  previous view\", \"fa fa-arrow-left icon-arrow-left\", \"back\"], [\"Forward\", \"Forward to next view\", \"fa fa-arrow-right icon-arrow-right\", \"forward\"], [\"\", \"\", \"\", \"\"], [\"Pan\", \"Pan axes with left mouse, zoom with right\", \"fa fa-arrows icon-move\", \"pan\"], [\"Zoom\", \"Zoom to rectangle\", \"fa fa-square-o icon-check-empty\", \"zoom\"], [\"\", \"\", \"\", \"\"], [\"Download\", \"Download plot\", \"fa fa-floppy-o icon-save\", \"download\"]];\n",
       "\n",
       "mpl.extensions = [\"eps\", \"jpeg\", \"pdf\", \"png\", \"ps\", \"raw\", \"svg\", \"tif\"];\n",
       "\n",
       "mpl.default_extension = \"png\";var comm_websocket_adapter = function(comm) {\n",
       "    // Create a \"websocket\"-like object which calls the given IPython comm\n",
       "    // object with the appropriate methods. Currently this is a non binary\n",
       "    // socket, so there is still some room for performance tuning.\n",
       "    var ws = {};\n",
       "\n",
       "    ws.close = function() {\n",
       "        comm.close()\n",
       "    };\n",
       "    ws.send = function(m) {\n",
       "        //console.log('sending', m);\n",
       "        comm.send(m);\n",
       "    };\n",
       "    // Register the callback with on_msg.\n",
       "    comm.on_msg(function(msg) {\n",
       "        //console.log('receiving', msg['content']['data'], msg);\n",
       "        // Pass the mpl event to the overriden (by mpl) onmessage function.\n",
       "        ws.onmessage(msg['content']['data'])\n",
       "    });\n",
       "    return ws;\n",
       "}\n",
       "\n",
       "mpl.mpl_figure_comm = function(comm, msg) {\n",
       "    // This is the function which gets called when the mpl process\n",
       "    // starts-up an IPython Comm through the \"matplotlib\" channel.\n",
       "\n",
       "    var id = msg.content.data.id;\n",
       "    // Get hold of the div created by the display call when the Comm\n",
       "    // socket was opened in Python.\n",
       "    var element = $(\"#\" + id);\n",
       "    var ws_proxy = comm_websocket_adapter(comm)\n",
       "\n",
       "    function ondownload(figure, format) {\n",
       "        window.open(figure.imageObj.src);\n",
       "    }\n",
       "\n",
       "    var fig = new mpl.figure(id, ws_proxy,\n",
       "                           ondownload,\n",
       "                           element.get(0));\n",
       "\n",
       "    // Call onopen now - mpl needs it, as it is assuming we've passed it a real\n",
       "    // web socket which is closed, not our websocket->open comm proxy.\n",
       "    ws_proxy.onopen();\n",
       "\n",
       "    fig.parent_element = element.get(0);\n",
       "    fig.cell_info = mpl.find_output_cell(\"<div id='\" + id + \"'></div>\");\n",
       "    if (!fig.cell_info) {\n",
       "        console.error(\"Failed to find cell for figure\", id, fig);\n",
       "        return;\n",
       "    }\n",
       "\n",
       "    var output_index = fig.cell_info[2]\n",
       "    var cell = fig.cell_info[0];\n",
       "\n",
       "};\n",
       "\n",
       "mpl.figure.prototype.handle_close = function(fig, msg) {\n",
       "    var width = fig.canvas.width/mpl.ratio\n",
       "    fig.root.unbind('remove')\n",
       "\n",
       "    // Update the output cell to use the data from the current canvas.\n",
       "    fig.push_to_output();\n",
       "    var dataURL = fig.canvas.toDataURL();\n",
       "    // Re-enable the keyboard manager in IPython - without this line, in FF,\n",
       "    // the notebook keyboard shortcuts fail.\n",
       "    IPython.keyboard_manager.enable()\n",
       "    $(fig.parent_element).html('<img src=\"' + dataURL + '\" width=\"' + width + '\">');\n",
       "    fig.close_ws(fig, msg);\n",
       "}\n",
       "\n",
       "mpl.figure.prototype.close_ws = function(fig, msg){\n",
       "    fig.send_message('closing', msg);\n",
       "    // fig.ws.close()\n",
       "}\n",
       "\n",
       "mpl.figure.prototype.push_to_output = function(remove_interactive) {\n",
       "    // Turn the data on the canvas into data in the output cell.\n",
       "    var width = this.canvas.width/mpl.ratio\n",
       "    var dataURL = this.canvas.toDataURL();\n",
       "    this.cell_info[1]['text/html'] = '<img src=\"' + dataURL + '\" width=\"' + width + '\">';\n",
       "}\n",
       "\n",
       "mpl.figure.prototype.updated_canvas_event = function() {\n",
       "    // Tell IPython that the notebook contents must change.\n",
       "    IPython.notebook.set_dirty(true);\n",
       "    this.send_message(\"ack\", {});\n",
       "    var fig = this;\n",
       "    // Wait a second, then push the new image to the DOM so\n",
       "    // that it is saved nicely (might be nice to debounce this).\n",
       "    setTimeout(function () { fig.push_to_output() }, 1000);\n",
       "}\n",
       "\n",
       "mpl.figure.prototype._init_toolbar = function() {\n",
       "    var fig = this;\n",
       "\n",
       "    var nav_element = $('<div/>')\n",
       "    nav_element.attr('style', 'width: 100%');\n",
       "    this.root.append(nav_element);\n",
       "\n",
       "    // Define a callback function for later on.\n",
       "    function toolbar_event(event) {\n",
       "        return fig.toolbar_button_onclick(event['data']);\n",
       "    }\n",
       "    function toolbar_mouse_event(event) {\n",
       "        return fig.toolbar_button_onmouseover(event['data']);\n",
       "    }\n",
       "\n",
       "    for(var toolbar_ind in mpl.toolbar_items){\n",
       "        var name = mpl.toolbar_items[toolbar_ind][0];\n",
       "        var tooltip = mpl.toolbar_items[toolbar_ind][1];\n",
       "        var image = mpl.toolbar_items[toolbar_ind][2];\n",
       "        var method_name = mpl.toolbar_items[toolbar_ind][3];\n",
       "\n",
       "        if (!name) { continue; };\n",
       "\n",
       "        var button = $('<button class=\"btn btn-default\" href=\"#\" title=\"' + name + '\"><i class=\"fa ' + image + ' fa-lg\"></i></button>');\n",
       "        button.click(method_name, toolbar_event);\n",
       "        button.mouseover(tooltip, toolbar_mouse_event);\n",
       "        nav_element.append(button);\n",
       "    }\n",
       "\n",
       "    // Add the status bar.\n",
       "    var status_bar = $('<span class=\"mpl-message\" style=\"text-align:right; float: right;\"/>');\n",
       "    nav_element.append(status_bar);\n",
       "    this.message = status_bar[0];\n",
       "\n",
       "    // Add the close button to the window.\n",
       "    var buttongrp = $('<div class=\"btn-group inline pull-right\"></div>');\n",
       "    var button = $('<button class=\"btn btn-mini btn-primary\" href=\"#\" title=\"Stop Interaction\"><i class=\"fa fa-power-off icon-remove icon-large\"></i></button>');\n",
       "    button.click(function (evt) { fig.handle_close(fig, {}); } );\n",
       "    button.mouseover('Stop Interaction', toolbar_mouse_event);\n",
       "    buttongrp.append(button);\n",
       "    var titlebar = this.root.find($('.ui-dialog-titlebar'));\n",
       "    titlebar.prepend(buttongrp);\n",
       "}\n",
       "\n",
       "mpl.figure.prototype._root_extra_style = function(el){\n",
       "    var fig = this\n",
       "    el.on(\"remove\", function(){\n",
       "\tfig.close_ws(fig, {});\n",
       "    });\n",
       "}\n",
       "\n",
       "mpl.figure.prototype._canvas_extra_style = function(el){\n",
       "    // this is important to make the div 'focusable\n",
       "    el.attr('tabindex', 0)\n",
       "    // reach out to IPython and tell the keyboard manager to turn it's self\n",
       "    // off when our div gets focus\n",
       "\n",
       "    // location in version 3\n",
       "    if (IPython.notebook.keyboard_manager) {\n",
       "        IPython.notebook.keyboard_manager.register_events(el);\n",
       "    }\n",
       "    else {\n",
       "        // location in version 2\n",
       "        IPython.keyboard_manager.register_events(el);\n",
       "    }\n",
       "\n",
       "}\n",
       "\n",
       "mpl.figure.prototype._key_event_extra = function(event, name) {\n",
       "    var manager = IPython.notebook.keyboard_manager;\n",
       "    if (!manager)\n",
       "        manager = IPython.keyboard_manager;\n",
       "\n",
       "    // Check for shift+enter\n",
       "    if (event.shiftKey && event.which == 13) {\n",
       "        this.canvas_div.blur();\n",
       "        // select the cell after this one\n",
       "        var index = IPython.notebook.find_cell_index(this.cell_info[0]);\n",
       "        IPython.notebook.select(index + 1);\n",
       "    }\n",
       "}\n",
       "\n",
       "mpl.figure.prototype.handle_save = function(fig, msg) {\n",
       "    fig.ondownload(fig, null);\n",
       "}\n",
       "\n",
       "\n",
       "mpl.find_output_cell = function(html_output) {\n",
       "    // Return the cell and output element which can be found *uniquely* in the notebook.\n",
       "    // Note - this is a bit hacky, but it is done because the \"notebook_saving.Notebook\"\n",
       "    // IPython event is triggered only after the cells have been serialised, which for\n",
       "    // our purposes (turning an active figure into a static one), is too late.\n",
       "    var cells = IPython.notebook.get_cells();\n",
       "    var ncells = cells.length;\n",
       "    for (var i=0; i<ncells; i++) {\n",
       "        var cell = cells[i];\n",
       "        if (cell.cell_type === 'code'){\n",
       "            for (var j=0; j<cell.output_area.outputs.length; j++) {\n",
       "                var data = cell.output_area.outputs[j];\n",
       "                if (data.data) {\n",
       "                    // IPython >= 3 moved mimebundle to data attribute of output\n",
       "                    data = data.data;\n",
       "                }\n",
       "                if (data['text/html'] == html_output) {\n",
       "                    return [cell, data, j];\n",
       "                }\n",
       "            }\n",
       "        }\n",
       "    }\n",
       "}\n",
       "\n",
       "// Register the function which deals with the matplotlib target/channel.\n",
       "// The kernel may be null if the page has been refreshed.\n",
       "if (IPython.notebook.kernel != null) {\n",
       "    IPython.notebook.kernel.comm_manager.register_target('matplotlib', mpl.mpl_figure_comm);\n",
       "}\n"
      ],
      "text/plain": [
       "<IPython.core.display.Javascript object>"
      ]
     },
     "metadata": {},
     "output_type": "display_data"
    },
    {
     "data": {
      "text/html": [
       "<img src=\"data:image/png;base64,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\" width=\"640\">"
      ],
      "text/plain": [
       "<IPython.core.display.HTML object>"
      ]
     },
     "metadata": {},
     "output_type": "display_data"
    },
    {
     "data": {
      "text/plain": [
       "[<matplotlib.lines.Line2D at 0x8eba898>]"
      ]
     },
     "execution_count": 11,
     "metadata": {},
     "output_type": "execute_result"
    }
   ],
   "source": [
    "%matplotlib notebook\n",
    "traces=Data.fromfile('traces',trace_dt,'teslib','measurement_subsystem_TB',tool='vivado')\n",
    "plt.plot(traces['slope'][1100:],'r',linewidth=1)\n",
    "plt.plot(traces['raw'][1100:],linewidth=0.5)\n",
    "plt.plot(traces['filtered'][1100:],'k',linewidth=2)"
   ]
  },
  {
   "cell_type": "code",
   "execution_count": 18,
   "metadata": {
    "collapsed": false
   },
   "outputs": [
    {
     "name": "stderr",
     "output_type": "stream",
     "text": [
      "tes.hdf5:DEBUG PacketData: from ndarray\n",
      "tes.hdf5:INFO import:pass 1: calculating sizes for hdf5 pre-allocation\n",
      "tes.hdf5:CRITICAL import:trace length error\n",
      "tes.hdf5:INFO import:pass 1:found 2304 bytes in 11 frames 0 sequence errors.\n",
      "tes.hdf5:DEBUG tick frames: 24 data bytes in 1 frames\n",
      "tes.hdf5:DEBUG event frames: 336 data bytes in 2 frames\n",
      "tes.hdf5:DEBUG MCA frames: 1856 data bytes in 8 frames\n",
      "tes.hdf5:DEBUG unidentified frames: 0 bytes in 0 frames\n",
      "tes.hdf5:INFO import:pass 2:importing data\n",
      "tes.hdf5:CRITICAL import:trace length error\n"
     ]
    }
   ],
   "source": [
    "import h5py\n",
    "from tes.hdf5 import Trace\n",
    "stream=Data.fromfile('bytestream',stream_dt,'teslib','measurement_subsystem_TB',tool='vivado')\n",
    "packets=_PacketData(stream)\n",
    "_import(packets)\n",
    "h=h5py.File('TES.hdf5','r')"
   ]
  },
  {
   "cell_type": "code",
   "execution_count": 17,
   "metadata": {
    "collapsed": true
   },
   "outputs": [],
   "source": [
    "h.close()"
   ]
  },
  {
   "cell_type": "code",
   "execution_count": 15,
   "metadata": {
    "collapsed": false
   },
   "outputs": [
    {
     "data": {
      "text/plain": [
       "0"
      ]
     },
     "execution_count": 15,
     "metadata": {},
     "output_type": "execute_result"
    }
   ],
   "source": [
    "len(h['traces'])"
   ]
  },
  {
   "cell_type": "code",
   "execution_count": 6,
   "metadata": {
    "collapsed": false
   },
   "outputs": [
    {
     "ename": "ValueError",
     "evalue": "Index (0) out of range (0--1)",
     "output_type": "error",
     "traceback": [
      "\u001b[1;31m---------------------------------------------------------------------------\u001b[0m",
      "\u001b[1;31mValueError\u001b[0m                                Traceback (most recent call last)",
      "\u001b[1;32m<ipython-input-6-f302dbdaeedb>\u001b[0m in \u001b[0;36m<module>\u001b[1;34m()\u001b[0m\n\u001b[0;32m      1\u001b[0m \u001b[0mget_ipython\u001b[0m\u001b[1;33m(\u001b[0m\u001b[1;33m)\u001b[0m\u001b[1;33m.\u001b[0m\u001b[0mmagic\u001b[0m\u001b[1;33m(\u001b[0m\u001b[1;34m'matplotlib notebook'\u001b[0m\u001b[1;33m)\u001b[0m\u001b[1;33m\u001b[0m\u001b[0m\n\u001b[1;32m----> 2\u001b[1;33m \u001b[0mt\u001b[0m\u001b[1;33m=\u001b[0m\u001b[0mh\u001b[0m\u001b[1;33m[\u001b[0m\u001b[1;34m'raw_data/event'\u001b[0m\u001b[1;33m]\u001b[0m\u001b[1;33m[\u001b[0m\u001b[0mh\u001b[0m\u001b[1;33m[\u001b[0m\u001b[1;34m'traces'\u001b[0m\u001b[1;33m]\u001b[0m\u001b[1;33m[\u001b[0m\u001b[1;36m0\u001b[0m\u001b[1;33m]\u001b[0m\u001b[1;33m]\u001b[0m\u001b[1;33m\u001b[0m\u001b[0m\n\u001b[0m\u001b[0;32m      3\u001b[0m \u001b[0mtr\u001b[0m\u001b[1;33m=\u001b[0m\u001b[0mTrace\u001b[0m\u001b[1;33m(\u001b[0m\u001b[0mt\u001b[0m\u001b[1;33m)\u001b[0m\u001b[1;33m\u001b[0m\u001b[0m\n\u001b[0;32m      4\u001b[0m \u001b[0mprint\u001b[0m\u001b[1;33m(\u001b[0m\u001b[0mtr\u001b[0m\u001b[1;33m.\u001b[0m\u001b[0mflags\u001b[0m\u001b[1;33m,\u001b[0m\u001b[1;34m'\\n'\u001b[0m\u001b[1;33m,\u001b[0m\u001b[0mtr\u001b[0m\u001b[1;33m.\u001b[0m\u001b[0mtrace_flags\u001b[0m\u001b[1;33m)\u001b[0m\u001b[1;33m\u001b[0m\u001b[0m\n\u001b[0;32m      5\u001b[0m \u001b[0mplt\u001b[0m\u001b[1;33m.\u001b[0m\u001b[0mplot\u001b[0m\u001b[1;33m(\u001b[0m\u001b[0mtr\u001b[0m\u001b[1;33m.\u001b[0m\u001b[0msamples\u001b[0m\u001b[1;33m)\u001b[0m\u001b[1;33m\u001b[0m\u001b[0m\n",
      "\u001b[1;32mh5py\\_objects.pyx\u001b[0m in \u001b[0;36mh5py._objects.with_phil.wrapper (C:\\Minonda\\conda-bld\\h5py_1486484495516\\work\\h5py\\_objects.c:2866)\u001b[1;34m()\u001b[0m\n",
      "\u001b[1;32mh5py\\_objects.pyx\u001b[0m in \u001b[0;36mh5py._objects.with_phil.wrapper (C:\\Minonda\\conda-bld\\h5py_1486484495516\\work\\h5py\\_objects.c:2824)\u001b[1;34m()\u001b[0m\n",
      "\u001b[1;32mC:\\Miniconda3\\lib\\site-packages\\h5py\\_hl\\dataset.py\u001b[0m in \u001b[0;36m__getitem__\u001b[1;34m(self, args)\u001b[0m\n\u001b[0;32m    460\u001b[0m \u001b[1;33m\u001b[0m\u001b[0m\n\u001b[0;32m    461\u001b[0m         \u001b[1;31m# Perform the dataspace selection.\u001b[0m\u001b[1;33m\u001b[0m\u001b[1;33m\u001b[0m\u001b[0m\n\u001b[1;32m--> 462\u001b[1;33m         \u001b[0mselection\u001b[0m \u001b[1;33m=\u001b[0m \u001b[0msel\u001b[0m\u001b[1;33m.\u001b[0m\u001b[0mselect\u001b[0m\u001b[1;33m(\u001b[0m\u001b[0mself\u001b[0m\u001b[1;33m.\u001b[0m\u001b[0mshape\u001b[0m\u001b[1;33m,\u001b[0m \u001b[0margs\u001b[0m\u001b[1;33m,\u001b[0m \u001b[0mdsid\u001b[0m\u001b[1;33m=\u001b[0m\u001b[0mself\u001b[0m\u001b[1;33m.\u001b[0m\u001b[0mid\u001b[0m\u001b[1;33m)\u001b[0m\u001b[1;33m\u001b[0m\u001b[0m\n\u001b[0m\u001b[0;32m    463\u001b[0m \u001b[1;33m\u001b[0m\u001b[0m\n\u001b[0;32m    464\u001b[0m         \u001b[1;32mif\u001b[0m \u001b[0mselection\u001b[0m\u001b[1;33m.\u001b[0m\u001b[0mnselect\u001b[0m \u001b[1;33m==\u001b[0m \u001b[1;36m0\u001b[0m\u001b[1;33m:\u001b[0m\u001b[1;33m\u001b[0m\u001b[0m\n",
      "\u001b[1;32mC:\\Miniconda3\\lib\\site-packages\\h5py\\_hl\\selections.py\u001b[0m in \u001b[0;36mselect\u001b[1;34m(shape, args, dsid)\u001b[0m\n\u001b[0;32m     90\u001b[0m \u001b[1;33m\u001b[0m\u001b[0m\n\u001b[0;32m     91\u001b[0m     \u001b[0msel\u001b[0m \u001b[1;33m=\u001b[0m \u001b[0mSimpleSelection\u001b[0m\u001b[1;33m(\u001b[0m\u001b[0mshape\u001b[0m\u001b[1;33m)\u001b[0m\u001b[1;33m\u001b[0m\u001b[0m\n\u001b[1;32m---> 92\u001b[1;33m     \u001b[0msel\u001b[0m\u001b[1;33m[\u001b[0m\u001b[0margs\u001b[0m\u001b[1;33m]\u001b[0m\u001b[1;33m\u001b[0m\u001b[0m\n\u001b[0m\u001b[0;32m     93\u001b[0m     \u001b[1;32mreturn\u001b[0m \u001b[0msel\u001b[0m\u001b[1;33m\u001b[0m\u001b[0m\n\u001b[0;32m     94\u001b[0m \u001b[1;33m\u001b[0m\u001b[0m\n",
      "\u001b[1;32mC:\\Miniconda3\\lib\\site-packages\\h5py\\_hl\\selections.py\u001b[0m in \u001b[0;36m__getitem__\u001b[1;34m(self, args)\u001b[0m\n\u001b[0;32m    257\u001b[0m             \u001b[1;32mreturn\u001b[0m \u001b[0mself\u001b[0m\u001b[1;33m\u001b[0m\u001b[0m\n\u001b[0;32m    258\u001b[0m \u001b[1;33m\u001b[0m\u001b[0m\n\u001b[1;32m--> 259\u001b[1;33m         \u001b[0mstart\u001b[0m\u001b[1;33m,\u001b[0m \u001b[0mcount\u001b[0m\u001b[1;33m,\u001b[0m \u001b[0mstep\u001b[0m\u001b[1;33m,\u001b[0m \u001b[0mscalar\u001b[0m \u001b[1;33m=\u001b[0m \u001b[0m_handle_simple\u001b[0m\u001b[1;33m(\u001b[0m\u001b[0mself\u001b[0m\u001b[1;33m.\u001b[0m\u001b[0mshape\u001b[0m\u001b[1;33m,\u001b[0m\u001b[0margs\u001b[0m\u001b[1;33m)\u001b[0m\u001b[1;33m\u001b[0m\u001b[0m\n\u001b[0m\u001b[0;32m    260\u001b[0m \u001b[1;33m\u001b[0m\u001b[0m\n\u001b[0;32m    261\u001b[0m         \u001b[0mself\u001b[0m\u001b[1;33m.\u001b[0m\u001b[0m_id\u001b[0m\u001b[1;33m.\u001b[0m\u001b[0mselect_hyperslab\u001b[0m\u001b[1;33m(\u001b[0m\u001b[0mstart\u001b[0m\u001b[1;33m,\u001b[0m \u001b[0mcount\u001b[0m\u001b[1;33m,\u001b[0m \u001b[0mstep\u001b[0m\u001b[1;33m)\u001b[0m\u001b[1;33m\u001b[0m\u001b[0m\n",
      "\u001b[1;32mC:\\Miniconda3\\lib\\site-packages\\h5py\\_hl\\selections.py\u001b[0m in \u001b[0;36m_handle_simple\u001b[1;34m(shape, args)\u001b[0m\n\u001b[0;32m    445\u001b[0m         \u001b[1;32melse\u001b[0m\u001b[1;33m:\u001b[0m\u001b[1;33m\u001b[0m\u001b[0m\n\u001b[0;32m    446\u001b[0m             \u001b[1;32mtry\u001b[0m\u001b[1;33m:\u001b[0m\u001b[1;33m\u001b[0m\u001b[0m\n\u001b[1;32m--> 447\u001b[1;33m                 \u001b[0mx\u001b[0m\u001b[1;33m,\u001b[0m\u001b[0my\u001b[0m\u001b[1;33m,\u001b[0m\u001b[0mz\u001b[0m \u001b[1;33m=\u001b[0m \u001b[0m_translate_int\u001b[0m\u001b[1;33m(\u001b[0m\u001b[0mint\u001b[0m\u001b[1;33m(\u001b[0m\u001b[0marg\u001b[0m\u001b[1;33m)\u001b[0m\u001b[1;33m,\u001b[0m \u001b[0mlength\u001b[0m\u001b[1;33m)\u001b[0m\u001b[1;33m\u001b[0m\u001b[0m\n\u001b[0m\u001b[0;32m    448\u001b[0m                 \u001b[0ms\u001b[0m \u001b[1;33m=\u001b[0m \u001b[1;32mTrue\u001b[0m\u001b[1;33m\u001b[0m\u001b[0m\n\u001b[0;32m    449\u001b[0m             \u001b[1;32mexcept\u001b[0m \u001b[0mTypeError\u001b[0m\u001b[1;33m:\u001b[0m\u001b[1;33m\u001b[0m\u001b[0m\n",
      "\u001b[1;32mC:\\Miniconda3\\lib\\site-packages\\h5py\\_hl\\selections.py\u001b[0m in \u001b[0;36m_translate_int\u001b[1;34m(exp, length)\u001b[0m\n\u001b[0;32m    465\u001b[0m \u001b[1;33m\u001b[0m\u001b[0m\n\u001b[0;32m    466\u001b[0m     \u001b[1;32mif\u001b[0m \u001b[1;32mnot\u001b[0m \u001b[1;36m0\u001b[0m\u001b[1;33m<=\u001b[0m\u001b[0mexp\u001b[0m\u001b[1;33m<\u001b[0m\u001b[0mlength\u001b[0m\u001b[1;33m:\u001b[0m\u001b[1;33m\u001b[0m\u001b[0m\n\u001b[1;32m--> 467\u001b[1;33m         \u001b[1;32mraise\u001b[0m \u001b[0mValueError\u001b[0m\u001b[1;33m(\u001b[0m\u001b[1;34m\"Index (%s) out of range (0-%s)\"\u001b[0m \u001b[1;33m%\u001b[0m \u001b[1;33m(\u001b[0m\u001b[0mexp\u001b[0m\u001b[1;33m,\u001b[0m \u001b[0mlength\u001b[0m\u001b[1;33m-\u001b[0m\u001b[1;36m1\u001b[0m\u001b[1;33m)\u001b[0m\u001b[1;33m)\u001b[0m\u001b[1;33m\u001b[0m\u001b[0m\n\u001b[0m\u001b[0;32m    468\u001b[0m \u001b[1;33m\u001b[0m\u001b[0m\n\u001b[0;32m    469\u001b[0m     \u001b[1;32mreturn\u001b[0m \u001b[0mexp\u001b[0m\u001b[1;33m,\u001b[0m \u001b[1;36m1\u001b[0m\u001b[1;33m,\u001b[0m \u001b[1;36m1\u001b[0m\u001b[1;33m\u001b[0m\u001b[0m\n",
      "\u001b[1;31mValueError\u001b[0m: Index (0) out of range (0--1)"
     ]
    }
   ],
   "source": [
    "%matplotlib notebook\n",
    "t=h['raw_data/event'][h['traces'][0]]\n",
    "tr=Trace(t)\n",
    "print(tr.flags,'\\n',tr.trace_flags)\n",
    "plt.plot(tr.samples)"
   ]
  },
  {
   "cell_type": "code",
   "execution_count": 16,
   "metadata": {
    "collapsed": false
   },
   "outputs": [
    {
     "data": {
      "text/plain": [
       "<tes.hdf5.Trace at 0xadbf780>"
      ]
     },
     "execution_count": 16,
     "metadata": {},
     "output_type": "execute_result"
    }
   ],
   "source": [
    "tr"
   ]
  },
  {
   "cell_type": "code",
   "execution_count": null,
   "metadata": {
    "collapsed": false
   },
   "outputs": [],
   "source": [
    "s=str(tr.flags)\n",
    "s"
   ]
  },
  {
   "cell_type": "code",
   "execution_count": null,
   "metadata": {
    "collapsed": false
   },
   "outputs": [],
   "source": [
    "print(s)"
   ]
  },
  {
   "cell_type": "code",
   "execution_count": null,
   "metadata": {
    "collapsed": false
   },
   "outputs": [],
   "source": [
    "type(h['raw_data/event'][h['traces'][0]])"
   ]
  },
  {
   "cell_type": "code",
   "execution_count": null,
   "metadata": {
    "collapsed": true
   },
   "outputs": [],
   "source": [
    "from tes.hdf5 import Trace"
   ]
  },
  {
   "cell_type": "code",
   "execution_count": null,
   "metadata": {
    "collapsed": false
   },
   "outputs": [],
   "source": [
    "tr.flags"
   ]
  },
  {
   "cell_type": "code",
   "execution_count": null,
   "metadata": {
    "collapsed": false
   },
   "outputs": [],
   "source": [
    "tr.trace_flags"
   ]
  },
  {
   "cell_type": "code",
   "execution_count": null,
   "metadata": {
    "collapsed": false
   },
   "outputs": [],
   "source": [
    "%matplotlib notebook\n",
    "plt.plot(tr.samples)"
   ]
  },
  {
   "cell_type": "code",
   "execution_count": null,
   "metadata": {
    "collapsed": false
   },
   "outputs": [],
   "source": [
    "len(tr.samples)"
   ]
  },
  {
   "cell_type": "code",
   "execution_count": null,
   "metadata": {
    "collapsed": false
   },
   "outputs": [],
   "source": [
    "first_dt = np.dtype([('size', np.uint16), ('tflags0', np.uint8), ('tflags1', np.uint8),\n",
    "        ('flags0', np.uint8), ('flags1', np.uint8), ('time', np.uint16)])\n",
    "\n"
   ]
  },
  {
   "cell_type": "code",
   "execution_count": null,
   "metadata": {
    "collapsed": false
   },
   "outputs": [],
   "source": []
  },
  {
   "cell_type": "code",
   "execution_count": null,
   "metadata": {
    "collapsed": false
   },
   "outputs": [],
   "source": [
    "t[0:8].view(first_dt)"
   ]
  },
  {
   "cell_type": "code",
   "execution_count": null,
   "metadata": {
    "collapsed": true
   },
   "outputs": [],
   "source": []
  },
  {
   "cell_type": "code",
   "execution_count": null,
   "metadata": {
    "collapsed": false
   },
   "outputs": [],
   "source": [
    "_rref = h5py.special_dtype(ref=h5py.RegionReference)\n",
    "h=h5py.File('test.hdf5', 'w')"
   ]
  },
  {
   "cell_type": "code",
   "execution_count": null,
   "metadata": {
    "collapsed": false
   },
   "outputs": [],
   "source": [
    "h.close()"
   ]
  },
  {
   "cell_type": "code",
   "execution_count": null,
   "metadata": {
    "collapsed": false
   },
   "outputs": [],
   "source": [
    "t= np.array((10,),'u1')\n",
    "h.create_dataset('t',(10,),dtype='u1')"
   ]
  },
  {
   "cell_type": "code",
   "execution_count": null,
   "metadata": {
    "collapsed": false
   },
   "outputs": [],
   "source": [
    "h.create_dataset('r',(10,),dtype=_rref)"
   ]
  },
  {
   "cell_type": "code",
   "execution_count": null,
   "metadata": {
    "collapsed": false
   },
   "outputs": [],
   "source": [
    "h.create_dataset('s',(10,),dtype='u1')"
   ]
  },
  {
   "cell_type": "code",
   "execution_count": null,
   "metadata": {
    "collapsed": true
   },
   "outputs": [],
   "source": [
    "h['s'][0]=0\n",
    "h['s'][1]=1"
   ]
  },
  {
   "cell_type": "code",
   "execution_count": null,
   "metadata": {
    "collapsed": false
   },
   "outputs": [],
   "source": [
    "h['r'][0]=h['t'].regionref[0:2]"
   ]
  },
  {
   "cell_type": "code",
   "execution_count": null,
   "metadata": {
    "collapsed": true
   },
   "outputs": [],
   "source": [
    "r=h['r'][0]"
   ]
  },
  {
   "cell_type": "code",
   "execution_count": null,
   "metadata": {
    "collapsed": false
   },
   "outputs": [],
   "source": [
    "t= np.array([0,1,2],'u1')"
   ]
  },
  {
   "cell_type": "code",
   "execution_count": null,
   "metadata": {
    "collapsed": false
   },
   "outputs": [],
   "source": [
    "t = [0,1]\n",
    "\n",
    "f = np.uint64(0)\n",
    "print(type(f))\n",
    "f += len(t)\n",
    "print(type(f))"
   ]
  },
  {
   "cell_type": "code",
   "execution_count": null,
   "metadata": {
    "collapsed": false
   },
   "outputs": [],
   "source": [
    "t[0:1][0]"
   ]
  },
  {
   "cell_type": "code",
   "execution_count": null,
   "metadata": {
    "collapsed": false
   },
   "outputs": [],
   "source": [
    "i=0\n",
    "for p in packets:\n",
    "    if i==7:\n",
    "        break\n",
    "    i+=1"
   ]
  },
  {
   "cell_type": "code",
   "execution_count": null,
   "metadata": {
    "collapsed": false
   },
   "outputs": [],
   "source": [
    "p"
   ]
  },
  {
   "cell_type": "code",
   "execution_count": null,
   "metadata": {
    "collapsed": true
   },
   "outputs": [],
   "source": [
    "lasts = np.where(stream['last'] < 0)[0] + 1"
   ]
  },
  {
   "cell_type": "code",
   "execution_count": null,
   "metadata": {
    "collapsed": false
   },
   "outputs": [],
   "source": [
    "lasts"
   ]
  },
  {
   "cell_type": "code",
   "execution_count": null,
   "metadata": {
    "collapsed": false
   },
   "outputs": [],
   "source": [
    "'last' in stream.dtype.names"
   ]
  },
  {
   "cell_type": "code",
   "execution_count": null,
   "metadata": {
    "collapsed": false
   },
   "outputs": [],
   "source": [
    "isinstance(stream,np.ndarray)"
   ]
  },
  {
   "cell_type": "code",
   "execution_count": null,
   "metadata": {
    "collapsed": false
   },
   "outputs": [],
   "source": [
    "type('poo')"
   ]
  },
  {
   "cell_type": "code",
   "execution_count": null,
   "metadata": {
    "collapsed": false
   },
   "outputs": [],
   "source": [
    "stream[lasts[0]:]"
   ]
  },
  {
   "cell_type": "code",
   "execution_count": null,
   "metadata": {
    "collapsed": false
   },
   "outputs": [],
   "source": [
    "ps=PacketStream(stream)\n",
    "# ps.traces"
   ]
  },
  {
   "cell_type": "code",
   "execution_count": null,
   "metadata": {
    "collapsed": false
   },
   "outputs": [],
   "source": [
    "type(ps[0])"
   ]
  },
  {
   "cell_type": "code",
   "execution_count": null,
   "metadata": {
    "collapsed": false
   },
   "outputs": [],
   "source": [
    "sum(stream['last']<0)"
   ]
  },
  {
   "cell_type": "code",
   "execution_count": null,
   "metadata": {
    "collapsed": false
   },
   "outputs": [],
   "source": [
    "%matplotlib notebook\n",
    "\n",
    "plt.plot(ps.traces[3]._view['trace'])\n",
    "# ps.traces[2]._view['trace'][-20:]"
   ]
  },
  {
   "cell_type": "code",
   "execution_count": null,
   "metadata": {
    "collapsed": false
   },
   "outputs": [],
   "source": [
    "ps.traces"
   ]
  },
  {
   "cell_type": "code",
   "execution_count": null,
   "metadata": {
    "collapsed": false,
    "run_control": {
     "frozen": false,
     "read_only": false
    },
    "scrolled": true
   },
   "outputs": [],
   "source": [
    "traces=Data.fromfile('traces',trace_dt,'teslib','measurement_subsystem_TB',tool='vivado')\n",
    "stream=Data.fromfile('bytestream',stream_dt,'teslib','measurement_subsystem_TB',tool='vivado')\n",
    "bs=PacketStream(stream)\n",
    "dists=bs.distributions\n",
    "#bs.packets\n",
    "dists"
   ]
  },
  {
   "cell_type": "code",
   "execution_count": null,
   "metadata": {
    "collapsed": false
   },
   "outputs": [],
   "source": [
    "d=dists[0]\n",
    "d.counts[-1]"
   ]
  },
  {
   "cell_type": "code",
   "execution_count": null,
   "metadata": {
    "collapsed": false
   },
   "outputs": [],
   "source": [
    "d.total+d.underflow+d.overflow"
   ]
  },
  {
   "cell_type": "code",
   "execution_count": null,
   "metadata": {
    "collapsed": false
   },
   "outputs": [],
   "source": [
    "%matplotlib notebook\n",
    "plt.plot(d.bins)"
   ]
  },
  {
   "cell_type": "code",
   "execution_count": null,
   "metadata": {
    "collapsed": false,
    "scrolled": false
   },
   "outputs": [],
   "source": [
    "f=EventFlags(es[2][2]['flags'])\n",
    "f.channel"
   ]
  },
  {
   "cell_type": "code",
   "execution_count": null,
   "metadata": {
    "collapsed": false,
    "run_control": {
     "frozen": false,
     "read_only": false
    },
    "scrolled": true
   },
   "outputs": [],
   "source": [
    "import tes.mca as mca\n",
    "d=bs.distributions[0]\n",
    "eset=np.uint64(1)\n",
    "bset=np.uint64(0)\n",
    "cset=np.uint64(20)\n",
    "\n",
    "stop=d.stop_time+eset+cset\n",
    "start=d.start_time+bset+cset\n",
    "bins=np.zeros((d.last_bin+1,),dtype=np.uint32)\n",
    "\n",
    "if d.value==mca.Value.raw_signal:\n",
    "    tname='raw'\n",
    "elif d.value==mca.Value.filtered_signal:\n",
    "    tname='filtered'\n",
    "elif d.value==mca.Value.slope_signal:\n",
    "    tname='slope'\n",
    "\n",
    "for i in range(start,stop):\n",
    "    s = traces[tname][i]\n",
    "    if s < d.lowest_value:\n",
    "        bins[0] += 1\n",
    "    else:\n",
    "        bin_number = s - d.lowest_value + 1\n",
    "        if bin_number < d.last_bin:\n",
    "            bins[bin_number] += 1\n",
    "        else:\n",
    "            bins[d.last_bin] += 1\n",
    "        \n",
    "bad=(bins-d.counts).nonzero()\n",
    "bad"
   ]
  },
  {
   "cell_type": "code",
   "execution_count": null,
   "metadata": {
    "collapsed": false
   },
   "outputs": [],
   "source": [
    "d.counts[bad][1:10]"
   ]
  },
  {
   "cell_type": "code",
   "execution_count": null,
   "metadata": {
    "collapsed": false
   },
   "outputs": [],
   "source": [
    "bins[bad][1:10]"
   ]
  },
  {
   "cell_type": "code",
   "execution_count": null,
   "metadata": {
    "collapsed": false
   },
   "outputs": [],
   "source": [
    "d.value"
   ]
  },
  {
   "cell_type": "code",
   "execution_count": null,
   "metadata": {
    "collapsed": false,
    "scrolled": false
   },
   "outputs": [],
   "source": [
    "%matplotlib notebook\n",
    "plt.step(np.arange(len(d.bins)),d.bins)\n",
    "# plt.step(np.arange(len(d.counts)),bins)\n",
    "plt.plot(bad,np.zeros_like(bad),'.k')"
   ]
  },
  {
   "cell_type": "code",
   "execution_count": null,
   "metadata": {
    "collapsed": false
   },
   "outputs": [],
   "source": [
    "sum(d.counts)"
   ]
  },
  {
   "cell_type": "code",
   "execution_count": null,
   "metadata": {
    "collapsed": false
   },
   "outputs": [],
   "source": [
    "2**14+2000"
   ]
  },
  {
   "cell_type": "code",
   "execution_count": null,
   "metadata": {
    "collapsed": false,
    "run_control": {
     "frozen": false,
     "read_only": false
    }
   },
   "outputs": [],
   "source": [
    "def plot_event(event_tupple):\n",
    "    pre=200\n",
    "    post=1000\n",
    "    timestamp=event_tupple[0]\n",
    "    event_type=event_tupple[1]\n",
    "    event=event_tupple[2]\n",
    "    flags=EventFlags(event['flags'])\n",
    "    print(flags)\n",
    "    print('timestamp',timestamp, 'time', event['time'])\n",
    "    if flags.type == Event.tick:\n",
    "        return\n",
    "    s=traces['filtered'][timestamp+20-pre:timestamp+20+post]\n",
    "    r=traces['raw'][timestamp+20-pre:timestamp+20+post]\n",
    "    i = np.where(abs(minmax['clk'])<=timestamp+20)[0][-1]\n",
    "    min_t=abs(minmax['clk'][i])-(timestamp+20)\n",
    "#     print(minmax['clk'][i],min_t,i,timestamp)\n",
    "    plt.plot(r,'k',linewidth=0.5)\n",
    "    plt.plot(s,'b',linewidth=2)\n",
    "    plt.plot([pre],s[pre],'sg')\n",
    "    plt.plot([pre+min_t],minmax['filtered'][i],'sr')\n",
    "    if event_type==Event.pulse:\n",
    "        for i in range(flags.peak_number):\n",
    "            p=event['peaks'][i]\n",
    "            plt.plot([0,len(s)-1],[p['height'],p['height']],':r')\n",
    "    else:\n",
    "      plt.plot([0,len(s)-1],[event['height'],event['height']],':r')\n",
    "        \n",
    "    #print(event['height'],event['minima'])\n",
    "    #print(minmax['filtered'][i]==s[pre+min_t])\n",
    "    #print(minmax['filtered'][i]==event['minima'])\n",
    "    #print(s[pre],s[pre-1])"
   ]
  },
  {
   "cell_type": "code",
   "execution_count": null,
   "metadata": {
    "collapsed": false,
    "run_control": {
     "frozen": false,
     "read_only": false
    }
   },
   "outputs": [],
   "source": [
    "pwd"
   ]
  },
  {
   "cell_type": "code",
   "execution_count": null,
   "metadata": {
    "collapsed": false
   },
   "outputs": [],
   "source": [
    "es=bs.eventstream\n",
    "es"
   ]
  },
  {
   "cell_type": "code",
   "execution_count": null,
   "metadata": {
    "collapsed": false,
    "run_control": {
     "frozen": false,
     "read_only": false
    }
   },
   "outputs": [],
   "source": [
    "%matplotlib notebook\n",
    "for e in es:\n",
    "    if e[1]==Event.peak:\n",
    "        plot_event(e)"
   ]
  },
  {
   "cell_type": "code",
   "execution_count": null,
   "metadata": {
    "collapsed": false,
    "run_control": {
     "frozen": false,
     "read_only": false
    }
   },
   "outputs": [],
   "source": [
    "es"
   ]
  },
  {
   "cell_type": "code",
   "execution_count": null,
   "metadata": {
    "collapsed": false,
    "run_control": {
     "frozen": false,
     "read_only": false
    }
   },
   "outputs": [],
   "source": [
    "dists=bs.distributions\n",
    "dists"
   ]
  },
  {
   "cell_type": "code",
   "execution_count": null,
   "metadata": {
    "collapsed": false,
    "run_control": {
     "frozen": false,
     "read_only": false
    }
   },
   "outputs": [],
   "source": [
    "bs.packets[185].payload"
   ]
  },
  {
   "cell_type": "code",
   "execution_count": null,
   "metadata": {
    "collapsed": false,
    "run_control": {
     "frozen": false,
     "read_only": false
    }
   },
   "outputs": [],
   "source": [
    "d=bs.distributions[0]\n",
    "eset=np.uint64(1)\n",
    "bset=np.uint64(0)\n",
    "cset=np.uint64(20)\n",
    "\n",
    "stop=d.stop_time+eset+cset\n",
    "start=d.start_time+bset+cset\n",
    "bins=np.zeros((d.last_bin+1,),dtype=np.uint32)\n",
    "for i in range(start,stop):\n",
    "    s = traces['raw'][i]\n",
    "    if s <= d.lowest_value:\n",
    "        bins[0] += 1\n",
    "    else:\n",
    "        bins[s-d.lowest_value] += 1\n",
    "        \n",
    "(bins-d.counts).nonzero()"
   ]
  },
  {
   "cell_type": "code",
   "execution_count": null,
   "metadata": {
    "collapsed": false,
    "run_control": {
     "frozen": false,
     "read_only": false
    }
   },
   "outputs": [],
   "source": [
    "%matplotlib notebook\n",
    "plt.step(np.arange(len(d.counts)),d.counts)"
   ]
  },
  {
   "cell_type": "code",
   "execution_count": null,
   "metadata": {
    "collapsed": false,
    "run_control": {
     "frozen": false,
     "read_only": false
    }
   },
   "outputs": [],
   "source": [
    "bins[bins.nonzero()]"
   ]
  },
  {
   "cell_type": "code",
   "execution_count": null,
   "metadata": {
    "collapsed": false,
    "run_control": {
     "frozen": false,
     "read_only": false
    }
   },
   "outputs": [],
   "source": [
    "sum(d.counts)"
   ]
  },
  {
   "cell_type": "code",
   "execution_count": null,
   "metadata": {
    "collapsed": false,
    "run_control": {
     "frozen": false,
     "read_only": false
    }
   },
   "outputs": [],
   "source": [
    "2**14+2000"
   ]
  },
  {
   "cell_type": "code",
   "execution_count": null,
   "metadata": {
    "collapsed": false,
    "run_control": {
     "frozen": false,
     "read_only": false
    }
   },
   "outputs": [],
   "source": [
    "es[3][2]['timestamp']-es[0][2]['timestamp']"
   ]
  },
  {
   "cell_type": "code",
   "execution_count": null,
   "metadata": {
    "collapsed": true,
    "run_control": {
     "frozen": false,
     "read_only": false
    }
   },
   "outputs": [],
   "source": [
    "def xings(s, thresh):\n",
    "    pos=s > thresh\n",
    "    neg=s < thresh\n",
    "    pos0=s >= thresh\n",
    "    neg0=s <= thresh\n",
    "    pos_xing_mask = np.bitwise_and(pos0[1:],neg[0:-1])  \n",
    "    neg_xing_mask = np.bitwise_and(neg0[1:],pos[0:-1])  \n",
    "    return pos_xing_mask.nonzero()[0]+1, neg_xing_mask.nonzero()[0]+1"
   ]
  },
  {
   "cell_type": "code",
   "execution_count": null,
   "metadata": {
    "collapsed": true,
    "run_control": {
     "frozen": false,
     "read_only": false
    }
   },
   "outputs": [],
   "source": [
    "from mpl_toolkits.axes_grid1 import host_subplot\n",
    "\n",
    "def plot_trace(traces,start,width):\n",
    "\n",
    "    ax = host_subplot(111)\n",
    "    axr = ax.twinx()\n",
    "    axt = ax.twiny()\n",
    "#ax.plot(t[0:-1:10],s[0:-1:10],'k')\n",
    "#ax.plot(t,s,'k')\n",
    "    axt.set_xlabel('Time ns',fontsize=18)\n",
    "    ax.set_ylabel('Voltage (Arbitary Units)',fontsize=18)\n",
    "#plt.xticks(visible=False)\n",
    "#plt.yticks(visible=False)\n",
    "#ax.set_xlim(0,t[4000000])\n",
    "#start=902000\n",
    "#width=2500\n",
    "    f=traces['filtered'][start:start+width]\n",
    "    s=traces['slope'][start:start+width]\n",
    "    t=np.arange(len(f))*4e-9\n",
    "#ts=t[pstart:pstop]\n",
    "#axins = fig.add_axes([.4, .45, .45, .4])\n",
    "    ax.set_xlim(t[0],t[-1])\n",
    "    axt.set_xlim(t[0],t[-1])\n",
    "\n",
    "    ylim=(-500,2000)\n",
    "\n",
    "    ax.set_ylim(ylim[0],ylim[1])\n",
    "    axr.set_ylim(ylim[0],ylim[1])\n",
    "\n",
    "    filtered, = ax.step(t,f,'k',lw=2,label='filtered')\n",
    "    slope, = ax.step(t,s,'b',label='slope')\n",
    "    ax.fill_between(t,0,s,alpha=.4)\n",
    "    plt.ylim=ylim\n",
    "\n",
    "pos=s>0\n",
    "neg=s<=0\n",
    "pos_xing_mask = np.bitwise_and(pos[1:-1],neg[0:-2])  \n",
    "neg_xing_mask = np.bitwise_and(neg[1:-1],pos[0:-2])  \n",
    "pos_xing=pos_xing_mask.nonzero()\n",
    "neg_xing=neg_xing_mask.nonzero()\n",
    "\n",
    "rx=[t[pos_xing[0][0]], t[neg_xing[0][0]]]\n",
    "ry=[f[pos_xing[0][0]], f[neg_xing[0][0]]]\n",
    "\n",
    "ax.fill_between(t[pos_xing[0][0]:neg_xing[0][0]],0,s[pos_xing[0][0]:neg_xing[0][0]],alpha=.4,color='r')\n",
    "\n",
    "#plt.plot(rx,[ry[0], ry[0]],'-r',lw=2)\n",
    "#plt.plot([rx[1],rx[1]], ry,'-r',lw=2)\n",
    "# thresholds\n",
    "sthresh = 600\n",
    "pthresh = 1000\n",
    "plt.plot([t[0], t[-1]], [sthresh, sthresh], '--b', lw=2)\n",
    "plt.plot([t[0], t[-1]], [pthresh, pthresh], '--k', lw=2)\n",
    "\n",
    "sthresh_xing=(s>sthresh).nonzero()[0][0]\n",
    "pthresh_xing=(f>pthresh).nonzero()[0][0]\n",
    "\n",
    "\n",
    "cf=.10\n",
    "height = ry[1]-ry[0]\n",
    "cfl=ry[0]+(height*cf)\n",
    "cfh=ry[1]-(height*cf)\n",
    "\n",
    "cfl_xing=(f>cfl).nonzero()[0][0]\n",
    "cfd_low=f[cfl_xing]\n",
    "cfh_xing=(f>cfh).nonzero()[0][0]\n",
    "cfd_high=f[cfh_xing]\n",
    "\n",
    "#plt.plot([t[cfl_xing], t[-1]],[cfd_low, cfd_low], ':r')\n",
    "#plt.plot([t[cfh_xing], t[-1]],[cfd_high, cfd_high], ':r')\n",
    "#plt.plot([x[1], t[-1]],[y[1], y[1]], ':r')\n",
    "plt.legend([filtered, slope],['Signal', 'Slope'],loc=2)\n",
    "\n",
    "#axr = ax.twinx()\n",
    "##################################################################\n",
    "#yticks=([ry[0],sthresh,pthresh,cfd_high,ry[1]])\n",
    "yticks=([sthresh,pthresh])\n",
    "axr.set_yticks(yticks)\n",
    "#yticklabels=['Start','Slope threshold','Pulse threshold','CF high','Peak']\n",
    "yticklabels=['Slope threshold','Pulse threshold']\n",
    "axr.set_yticklabels(yticklabels, color='r',fontsize=14)\n",
    "axr.get_yticklabels()[0].set_color('b')\n",
    "axr.get_yticklabels()[1].set_color('k')\n",
    "\n",
    "#xticks=([rx[0],t[cfl_xing],t[sthresh_xing],t[pthresh_xing],rx[1]])\n",
    "xticks=(t[cfl_xing],rx[1])\n",
    "#ax.set_xticks([rx[0],t[cfl_xing],t[sthresh_xing],t[pthresh_xing],rx[1]])\n",
    "ax.set_xticks(xticks)\n",
    "#xticklabels=['Start','CF low','Slope xing','Signal xing','Peak']\n",
    "xticklabels=['CF low','Peak']\n",
    "ax.set_xticklabels(xticklabels, color='r',fontsize=14)\n",
    "\n",
    "#plt.plot([t[cfh_xing], t[-1]],[cfd_high, cfd_high], ':r')\n",
    "#horoz start, stop lines\n",
    "#hpeak=ax.plot([xticks[1], t[-1]],[yticks[-1], yticks[-1]], '-.r')\n",
    "#hstart=ax.plot([xticks[0], t[-1]],[yticks[0], yticks[0]], '-.r')\n",
    "#vert start stop\n",
    "vstart=ax.plot([xticks[0], xticks[0]],[cfd_low, ylim[0]], '-.r')\n",
    "vpeak=ax.plot([xticks[1], xticks[1]],[ylim[0], ry[1]], '-.r')\n",
    "\n",
    "plt.tight_layout()\n",
    "plt.savefig('..//peakextraction7.svg')\n",
    "plt.show()\n",
    "print('risetime:',(xticks[1]-xticks[0])/4)\n",
    "print('height:',yticks[-1]-yticks[0])\n",
    "print('time:',(xticks[0]-rx[0])/4)\n",
    "print('area',sum(s[pos_xing[0][0]:neg_xing[0][0]])/256)\n"
   ]
  },
  {
   "cell_type": "code",
   "execution_count": null,
   "metadata": {
    "collapsed": true,
    "run_control": {
     "frozen": false,
     "read_only": false
    }
   },
   "outputs": [],
   "source": [
    "slope_0xings = xings(traces['slope'],0)"
   ]
  },
  {
   "cell_type": "code",
   "execution_count": null,
   "metadata": {
    "collapsed": false,
    "run_control": {
     "frozen": false,
     "read_only": false
    }
   },
   "outputs": [],
   "source": [
    "slope_0xings"
   ]
  },
  {
   "cell_type": "code",
   "execution_count": null,
   "metadata": {
    "collapsed": false,
    "run_control": {
     "frozen": false,
     "read_only": false
    }
   },
   "outputs": [],
   "source": [
    "%matplotlib notebook\n",
    "start=10000\n",
    "width=300\n",
    "plt.plot(traces['filtered'][start:start+width]/2)"
   ]
  },
  {
   "cell_type": "code",
   "execution_count": null,
   "metadata": {
    "collapsed": false,
    "run_control": {
     "frozen": false,
     "read_only": false
    }
   },
   "outputs": [],
   "source": [
    "%matplotlib notebook\n",
    "plt.plot(traces['slope'][20400:21700])"
   ]
  },
  {
   "cell_type": "code",
   "execution_count": null,
   "metadata": {
    "collapsed": false,
    "run_control": {
     "frozen": false,
     "read_only": false
    }
   },
   "outputs": [],
   "source": [
    "filtered=traces['filtered'][1100:]\n",
    "filteredL=traces['filteredL'][1100:]"
   ]
  },
  {
   "cell_type": "code",
   "execution_count": null,
   "metadata": {
    "collapsed": false,
    "run_control": {
     "frozen": false,
     "read_only": false
    }
   },
   "outputs": [],
   "source": [
    "filtered[:10]"
   ]
  },
  {
   "cell_type": "code",
   "execution_count": null,
   "metadata": {
    "collapsed": false,
    "run_control": {
     "frozen": false,
     "read_only": false
    }
   },
   "outputs": [],
   "source": [
    "filteredL[:10]/4"
   ]
  },
  {
   "cell_type": "code",
   "execution_count": null,
   "metadata": {
    "collapsed": false,
    "run_control": {
     "frozen": false,
     "read_only": false
    }
   },
   "outputs": [],
   "source": [
    "minmax_dt=np.dtype([('filtered','i4'),('low','i4'),('high','i4'),('clk','i4')])\n",
    "minmax=Data.fromfile('minmax',minmax_dt,'teslib','measurement_subsystem_TB',tool='vivado')\n",
    "fxing_dt=np.dtype([('extrema','i4'),('area','i4'),('clk','i4')])\n",
    "fxing=Data.fromfile('filteredxing',fxing_dt,'teslib','measurement_subsystem_TB',tool='vivado')"
   ]
  },
  {
   "cell_type": "code",
   "execution_count": null,
   "metadata": {
    "collapsed": false,
    "run_control": {
     "frozen": false,
     "read_only": false
    }
   },
   "outputs": [],
   "source": [
    "minmax"
   ]
  },
  {
   "cell_type": "code",
   "execution_count": null,
   "metadata": {
    "collapsed": false,
    "run_control": {
     "frozen": false,
     "read_only": false
    }
   },
   "outputs": [],
   "source": [
    "fxing"
   ]
  },
  {
   "cell_type": "code",
   "execution_count": null,
   "metadata": {
    "collapsed": false,
    "run_control": {
     "frozen": false,
     "read_only": false
    }
   },
   "outputs": [],
   "source": [
    "np.where(fxing['area']==0)"
   ]
  },
  {
   "cell_type": "code",
   "execution_count": null,
   "metadata": {
    "collapsed": false,
    "run_control": {
     "frozen": false,
     "read_only": false
    }
   },
   "outputs": [],
   "source": [
    "np.where(fxing['extrema']==0)"
   ]
  },
  {
   "cell_type": "code",
   "execution_count": null,
   "metadata": {
    "collapsed": false,
    "run_control": {
     "frozen": false,
     "read_only": false
    }
   },
   "outputs": [],
   "source": [
    "fxing[30]"
   ]
  },
  {
   "cell_type": "code",
   "execution_count": null,
   "metadata": {
    "collapsed": false,
    "run_control": {
     "frozen": false,
     "read_only": false
    }
   },
   "outputs": [],
   "source": [
    "exn=np.where(fxing['extrema']<0)\n",
    "clkn=np.where(fxing['clk']>0)"
   ]
  },
  {
   "cell_type": "code",
   "execution_count": null,
   "metadata": {
    "collapsed": true,
    "run_control": {
     "frozen": false,
     "read_only": false
    }
   },
   "outputs": [],
   "source": []
  },
  {
   "cell_type": "code",
   "execution_count": null,
   "metadata": {
    "collapsed": false,
    "run_control": {
     "frozen": false,
     "read_only": false
    }
   },
   "outputs": [],
   "source": [
    "fxing[374]"
   ]
  },
  {
   "cell_type": "code",
   "execution_count": null,
   "metadata": {
    "collapsed": false,
    "run_control": {
     "frozen": false,
     "read_only": false
    }
   },
   "outputs": [],
   "source": [
    "clkn"
   ]
  },
  {
   "cell_type": "code",
   "execution_count": null,
   "metadata": {
    "collapsed": false,
    "run_control": {
     "frozen": false,
     "read_only": false
    }
   },
   "outputs": [],
   "source": [
    "np.where(minmax[maxs[0]-1]['min']!=1)"
   ]
  },
  {
   "cell_type": "code",
   "execution_count": null,
   "metadata": {
    "collapsed": false,
    "run_control": {
     "frozen": false,
     "read_only": false
    }
   },
   "outputs": [],
   "source": [
    "minmax[maxs[0]-1][65]"
   ]
  },
  {
   "cell_type": "code",
   "execution_count": null,
   "metadata": {
    "collapsed": false,
    "run_control": {
     "frozen": false,
     "read_only": false
    }
   },
   "outputs": [],
   "source": [
    "2290-925"
   ]
  },
  {
   "cell_type": "code",
   "execution_count": null,
   "metadata": {
    "collapsed": false,
    "run_control": {
     "frozen": false,
     "read_only": false
    }
   },
   "outputs": [],
   "source": [
    "0.375*4"
   ]
  },
  {
   "cell_type": "code",
   "execution_count": null,
   "metadata": {
    "collapsed": false,
    "run_control": {
     "frozen": false,
     "read_only": false
    }
   },
   "outputs": [],
   "source": [
    "np.where(minmax['clock']==2290)"
   ]
  },
  {
   "cell_type": "code",
   "execution_count": null,
   "metadata": {
    "collapsed": false,
    "run_control": {
     "frozen": false,
     "read_only": false
    }
   },
   "outputs": [],
   "source": [
    "minmax[120:140]"
   ]
  },
  {
   "cell_type": "code",
   "execution_count": null,
   "metadata": {
    "collapsed": false,
    "run_control": {
     "frozen": false,
     "read_only": false
    }
   },
   "outputs": [],
   "source": [
    "stream_dt=np.dtype([('data','>i4'),('last','i4')])\n",
    "#stream=np.fromfile('data/stream',stream_dt)"
   ]
  },
  {
   "cell_type": "markdown",
   "metadata": {},
   "source": [
    "### bytestream stuff"
   ]
  },
  {
   "cell_type": "code",
   "execution_count": null,
   "metadata": {
    "collapsed": false,
    "run_control": {
     "frozen": false,
     "read_only": false
    }
   },
   "outputs": [],
   "source": [
    "stream_dt=np.dtype([('data','i4'),('last','i4')])\n",
    "stream=Data.fromfile('bytestream',stream_dt,'teslib','measurement_subsystem_TB',tool='vivado')\n",
    "lasts=np.where(stream['last']<=0)[0]+1\n",
    "#data=np.copy(stream['data'])"
   ]
  },
  {
   "cell_type": "code",
   "execution_count": null,
   "metadata": {
    "collapsed": false,
    "run_control": {
     "frozen": false,
     "read_only": false
    }
   },
   "outputs": [],
   "source": [
    "stream"
   ]
  },
  {
   "cell_type": "code",
   "execution_count": null,
   "metadata": {
    "collapsed": true,
    "run_control": {
     "frozen": false,
     "read_only": false
    }
   },
   "outputs": [],
   "source": []
  },
  {
   "cell_type": "code",
   "execution_count": null,
   "metadata": {
    "collapsed": true,
    "run_control": {
     "frozen": false,
     "read_only": false
    }
   },
   "outputs": [],
   "source": [
    "stream=np.fromfile('data/bytestream',stream_dt)"
   ]
  },
  {
   "cell_type": "code",
   "execution_count": null,
   "metadata": {
    "collapsed": false,
    "run_control": {
     "frozen": false,
     "read_only": false
    }
   },
   "outputs": [],
   "source": [
    "bs=PacketStream(stream)"
   ]
  },
  {
   "cell_type": "code",
   "execution_count": null,
   "metadata": {
    "collapsed": false,
    "run_control": {
     "frozen": false,
     "read_only": false
    }
   },
   "outputs": [],
   "source": [
    "bs.packets"
   ]
  },
  {
   "cell_type": "code",
   "execution_count": null,
   "metadata": {
    "collapsed": false,
    "run_control": {
     "frozen": false,
     "read_only": false
    }
   },
   "outputs": [],
   "source": [
    "bs.packets[4]"
   ]
  },
  {
   "cell_type": "code",
   "execution_count": null,
   "metadata": {
    "collapsed": true,
    "run_control": {
     "frozen": false,
     "read_only": false
    }
   },
   "outputs": [],
   "source": [
    "eheader_dt=[('etype','<u2'),('length','u2'),()]"
   ]
  },
  {
   "cell_type": "code",
   "execution_count": null,
   "metadata": {
    "collapsed": false,
    "run_control": {
     "frozen": false,
     "read_only": false
    }
   },
   "outputs": [],
   "source": [
    "'{:X}'.format(bs.packets[1].bytes[23])\n"
   ]
  },
  {
   "cell_type": "code",
   "execution_count": null,
   "metadata": {
    "collapsed": false,
    "run_control": {
     "frozen": false,
     "read_only": false
    }
   },
   "outputs": [],
   "source": [
    "'{:X}'.format(bs.packets[0].bytes[28:30].view(np.uint16)[0])"
   ]
  },
  {
   "cell_type": "code",
   "execution_count": null,
   "metadata": {
    "collapsed": true,
    "run_control": {
     "frozen": false,
     "read_only": false
    }
   },
   "outputs": [],
   "source": [
    "pulse_peak_dt=np.dtype([('height','i2'),('rise','i2'),('minima','u2'),('time','i2')])\n",
    "pulse_dt=np.dtype([('size','i2'),('resv','i2'),('flags','i2'),('time','u2'),\n",
    "                  ('area','i4'),('length','i2'),('offset','i2'),('peaks',(pulse_peak_dt,2))])"
   ]
  },
  {
   "cell_type": "code",
   "execution_count": null,
   "metadata": {
    "collapsed": false,
    "run_control": {
     "frozen": false,
     "read_only": false
    }
   },
   "outputs": [],
   "source": [
    "pulses=bs.packets[3].payload.view(pulse_dt)"
   ]
  },
  {
   "cell_type": "code",
   "execution_count": null,
   "metadata": {
    "collapsed": false,
    "run_control": {
     "frozen": false,
     "read_only": false
    }
   },
   "outputs": [],
   "source": [
    "pulses['peaks']"
   ]
  },
  {
   "cell_type": "code",
   "execution_count": null,
   "metadata": {
    "collapsed": false,
    "run_control": {
     "frozen": false,
     "read_only": false
    }
   },
   "outputs": [],
   "source": [
    "pulses['offset']"
   ]
  },
  {
   "cell_type": "code",
   "execution_count": null,
   "metadata": {
    "collapsed": false,
    "run_control": {
     "frozen": false,
     "read_only": false
    }
   },
   "outputs": [],
   "source": [
    "pulses['length']"
   ]
  },
  {
   "cell_type": "code",
   "execution_count": null,
   "metadata": {
    "collapsed": false,
    "run_control": {
     "frozen": false,
     "read_only": false
    }
   },
   "outputs": [],
   "source": [
    "class eflags:\n",
    "    def __init__(self,uint16):\n",
    "        self.new_window=np.bitwise_and(uint16,0x00000001)!=0\n",
    "        self.tick=np.bitwise_and(uint16,0x00000002)!=0\n",
    "        self.type=np.right_shift(np.bitwise_and(uint16,0x0000000c),2)\n",
    "        \n",
    "    def __repr__(self):\n",
    "        return 'New window:{:}\\n'.format(self.new_window) + \\\n",
    "               'Tick:{:}\\n'.format(self.tick) + \\\n",
    "               'Type:{:}\\n'.format(self.type) "
   ]
  },
  {
   "cell_type": "code",
   "execution_count": null,
   "metadata": {
    "collapsed": false,
    "run_control": {
     "frozen": false,
     "read_only": false
    }
   },
   "outputs": [],
   "source": [
    "f=eflags(pulses[0]['flags'])\n",
    "f"
   ]
  },
  {
   "cell_type": "code",
   "execution_count": null,
   "metadata": {
    "collapsed": false,
    "run_control": {
     "frozen": false,
     "read_only": false
    }
   },
   "outputs": [],
   "source": [
    "'{:X}'.format(bs.packets[3].bytes[13:14].view(np.uint16))"
   ]
  },
  {
   "cell_type": "code",
   "execution_count": null,
   "metadata": {
    "collapsed": true,
    "run_control": {
     "frozen": false,
     "read_only": false
    }
   },
   "outputs": [],
   "source": []
  },
  {
   "cell_type": "code",
   "execution_count": null,
   "metadata": {
    "collapsed": false,
    "run_control": {
     "frozen": false,
     "read_only": false
    }
   },
   "outputs": [],
   "source": [
    "'{:X}'.format(bs.packets[3].bytes[14:16].view(np.uint16)[0])"
   ]
  },
  {
   "cell_type": "code",
   "execution_count": null,
   "metadata": {
    "collapsed": false,
    "run_control": {
     "frozen": false,
     "read_only": false
    }
   },
   "outputs": [],
   "source": [
    "bs.packets[3].bytes[14:16].view(np.uint16)[0]"
   ]
  },
  {
   "cell_type": "code",
   "execution_count": null,
   "metadata": {
    "collapsed": false,
    "run_control": {
     "frozen": false,
     "read_only": false
    }
   },
   "outputs": [],
   "source": [
    "bs=np.uint8(stream['data'][:48])"
   ]
  },
  {
   "cell_type": "code",
   "execution_count": null,
   "metadata": {
    "collapsed": false,
    "run_control": {
     "frozen": false,
     "read_only": false
    }
   },
   "outputs": [],
   "source": [
    "bs"
   ]
  },
  {
   "cell_type": "code",
   "execution_count": null,
   "metadata": {
    "collapsed": false,
    "run_control": {
     "frozen": false,
     "read_only": false
    }
   },
   "outputs": [],
   "source": [
    "events=stream['data'].view(event_dt)"
   ]
  },
  {
   "cell_type": "code",
   "execution_count": null,
   "metadata": {
    "collapsed": false,
    "run_control": {
     "frozen": false,
     "read_only": false
    }
   },
   "outputs": [],
   "source": [
    "'{:X}'.format(events['flags'][0])"
   ]
  },
  {
   "cell_type": "code",
   "execution_count": null,
   "metadata": {
    "collapsed": false,
    "run_control": {
     "frozen": false,
     "read_only": false
    }
   },
   "outputs": [],
   "source": [
    "events['rise']"
   ]
  },
  {
   "cell_type": "code",
   "execution_count": null,
   "metadata": {
    "collapsed": false,
    "run_control": {
     "frozen": false,
     "read_only": false
    }
   },
   "outputs": [],
   "source": [
    "events"
   ]
  },
  {
   "cell_type": "code",
   "execution_count": null,
   "metadata": {
    "collapsed": false,
    "run_control": {
     "frozen": false,
     "read_only": false
    }
   },
   "outputs": [],
   "source": [
    "'{:04X}'.format(events['flags'][1])"
   ]
  },
  {
   "cell_type": "code",
   "execution_count": null,
   "metadata": {
    "collapsed": true,
    "run_control": {
     "frozen": false,
     "read_only": false
    }
   },
   "outputs": [],
   "source": [
    "pulse_peak_dt=np.dtype([('time','>i2'),('minima','>i2'),('rise','>u2'),('height','>i2')])\n",
    "pulse_dt=np.dtype([('time','>i2'),('flags','>i2'),('resv','>i2'),('size','>u2'),\n",
    "                  ('offset','>i2'),('length','>i2'),('area','>i4'),('peaks',(pulse_peak_dt,1))])\n",
    "data=np.copy(stream['data'])"
   ]
  },
  {
   "cell_type": "code",
   "execution_count": null,
   "metadata": {
    "collapsed": false,
    "run_control": {
     "frozen": false,
     "read_only": false
    }
   },
   "outputs": [],
   "source": [
    "pulses=data.view(pulse_dt)"
   ]
  },
  {
   "cell_type": "code",
   "execution_count": null,
   "metadata": {
    "collapsed": false,
    "run_control": {
     "frozen": false,
     "read_only": false
    }
   },
   "outputs": [],
   "source": [
    "pulses['peaks']['height']-pulses['peaks']['minima']"
   ]
  },
  {
   "cell_type": "code",
   "execution_count": null,
   "metadata": {
    "collapsed": false,
    "run_control": {
     "frozen": false,
     "read_only": false
    }
   },
   "outputs": [],
   "source": [
    "pulses['peaks']['minima']"
   ]
  },
  {
   "cell_type": "code",
   "execution_count": null,
   "metadata": {
    "collapsed": false,
    "run_control": {
     "frozen": false,
     "read_only": false
    }
   },
   "outputs": [],
   "source": [
    "peak_count=np.right_shift(np.bitwise_and(pulses['flags'],0xF000),12)\n",
    "peak_overflow=np.bitwise_and(pulses['flags'],0x0800)!=0\n",
    "channel=np.right_shift(np.bitwise_and(pulses['flags'],0x0700),8)\n",
    "timing_type=np.right_shift(np.bitwise_and(pulses['flags'],0x00C0),6)\n",
    "height_type=np.right_shift(np.bitwise_and(pulses['flags'],0x0030),4)\n",
    "event_type=np.right_shift(np.bitwise_and(pulses['flags'],0x000E),1)\n",
    "new_window=np.bitwise_and(pulses['flags'],0x0001)!=0"
   ]
  },
  {
   "cell_type": "code",
   "execution_count": null,
   "metadata": {
    "collapsed": false,
    "run_control": {
     "frozen": false,
     "read_only": false
    }
   },
   "outputs": [],
   "source": [
    "peak_overflow"
   ]
  },
  {
   "cell_type": "code",
   "execution_count": null,
   "metadata": {
    "collapsed": true,
    "run_control": {
     "frozen": false,
     "read_only": false
    }
   },
   "outputs": [],
   "source": [
    "test_dt=np.dtype(\n",
    "    [('time','i2'),('flags','i2'),('rise','u2'),('minima','i2'),('low','u8'),('high','u8')]\n",
    ")\n",
    "test=data.view(test_dt)"
   ]
  },
  {
   "cell_type": "code",
   "execution_count": null,
   "metadata": {
    "collapsed": false,
    "run_control": {
     "frozen": false,
     "read_only": false
    }
   },
   "outputs": [],
   "source": [
    "test"
   ]
  },
  {
   "cell_type": "code",
   "execution_count": null,
   "metadata": {
    "collapsed": false,
    "run_control": {
     "frozen": false,
     "read_only": false
    }
   },
   "outputs": [],
   "source": [
    "test['minima']"
   ]
  },
  {
   "cell_type": "code",
   "execution_count": null,
   "metadata": {
    "collapsed": false,
    "run_control": {
     "frozen": false,
     "read_only": false
    }
   },
   "outputs": [],
   "source": [
    "low1=np.int32(np.right_shift(np.bitwise_and(test['low'],0x03FFFF000000000),36))\n",
    "s=(np.bitwise_and(low1,0x00020000)!=0)*0xFFFC0000\n",
    "low2=np.int32(np.right_shift(np.bitwise_and(test['low'],0x000000FFFFC0000),18))\n",
    "low_threshold=np.int32(np.bitwise_and(test['low'],0x00000000003FFFF))\n",
    "high1=np.int32(np.right_shift(np.bitwise_and(test['high'],0x03FFFF000000000),36))\n",
    "high2=np.int32(np.right_shift(np.bitwise_and(test['high'],0x000000FFFFC0000),18))\n",
    "high_threshold=np.int32(np.bitwise_and(test['high'],0x00000000003FFFF))"
   ]
  },
  {
   "cell_type": "code",
   "execution_count": null,
   "metadata": {
    "collapsed": false,
    "run_control": {
     "frozen": false,
     "read_only": false
    }
   },
   "outputs": [],
   "source": [
    "np.int32(np.bitwise_or(low1,s))/8.0"
   ]
  },
  {
   "cell_type": "code",
   "execution_count": null,
   "metadata": {
    "collapsed": false,
    "run_control": {
     "frozen": false,
     "read_only": false
    }
   },
   "outputs": [],
   "source": [
    "'{:04X}'.format(low1[0])"
   ]
  },
  {
   "cell_type": "code",
   "execution_count": null,
   "metadata": {
    "collapsed": false,
    "run_control": {
     "frozen": false,
     "read_only": false
    }
   },
   "outputs": [],
   "source": [
    "high1/8.0"
   ]
  },
  {
   "cell_type": "code",
   "execution_count": null,
   "metadata": {
    "collapsed": false,
    "run_control": {
     "frozen": false,
     "read_only": false
    }
   },
   "outputs": [],
   "source": [
    "high2/8.0"
   ]
  },
  {
   "cell_type": "code",
   "execution_count": null,
   "metadata": {
    "collapsed": false,
    "run_control": {
     "frozen": false,
     "read_only": false
    }
   },
   "outputs": [],
   "source": [
    "'{:04X}'.format(high_threshold[0])"
   ]
  },
  {
   "cell_type": "code",
   "execution_count": null,
   "metadata": {
    "collapsed": false,
    "run_control": {
     "frozen": false,
     "read_only": false
    }
   },
   "outputs": [],
   "source": [
    "from enum import Enum"
   ]
  },
  {
   "cell_type": "code",
   "execution_count": null,
   "metadata": {
    "collapsed": false,
    "run_control": {
     "frozen": false,
     "read_only": false
    }
   },
   "outputs": [],
   "source": [
    "class VhdlEnum(int, Enum):\n",
    "\n",
    "    def __str__(self):\n",
    "        return self.name.replace(\"-\", \" \")\n",
    "    \n",
    "    def select(self):\n",
    "        return pow(2, self.value)\n",
    "    "
   ]
  },
  {
   "cell_type": "code",
   "execution_count": null,
   "metadata": {
    "collapsed": false,
    "run_control": {
     "frozen": false,
     "read_only": false
    }
   },
   "outputs": [],
   "source": [
    "class Test(VhdlEnum):\n",
    "    a=0\n",
    "    b=1"
   ]
  },
  {
   "cell_type": "code",
   "execution_count": null,
   "metadata": {
    "collapsed": false,
    "run_control": {
     "frozen": false,
     "read_only": false
    }
   },
   "outputs": [],
   "source": [
    "Test(0)"
   ]
  },
  {
   "cell_type": "code",
   "execution_count": null,
   "metadata": {
    "collapsed": true,
    "run_control": {
     "frozen": false,
     "read_only": false
    }
   },
   "outputs": [],
   "source": []
  }
 ],
 "metadata": {
  "anaconda-cloud": {},
  "kernelspec": {
   "display_name": "Python [conda root]",
   "language": "python",
   "name": "conda-root-py"
  },
  "language_info": {
   "codemirror_mode": {
    "name": "ipython",
    "version": 3
   },
   "file_extension": ".py",
   "mimetype": "text/x-python",
   "name": "python",
   "nbconvert_exporter": "python",
   "pygments_lexer": "ipython3",
   "version": "3.5.3"
  }
 },
 "nbformat": 4,
 "nbformat_minor": 1
}
