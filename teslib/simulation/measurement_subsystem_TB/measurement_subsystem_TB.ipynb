{
 "cells": [
  {
   "cell_type": "code",
   "execution_count": 1,
   "metadata": {
    "collapsed": false
   },
   "outputs": [],
   "source": [
    "import sys\n",
    "import tes.simulation.data as sim\n",
    "from tes.simulation.data import PacketStream, Data, Distribution\n",
    "from tes.simulation.filesets import measurement_subsystem_TB as fileset\n",
    "import tes.simulation.plot as splt\n",
    "import numpy as np\n",
    "import matplotlib.pyplot as plt\n",
    "import math\n",
    "import collections"
   ]
  },
  {
   "cell_type": "code",
   "execution_count": 2,
   "metadata": {
    "collapsed": false,
    "scrolled": true
   },
   "outputs": [
    {
     "name": "stdout",
     "output_type": "stream",
     "text": [
      "[ 90   1   2   3   4   5 218   1   2   3   4   5 136 181  48   0   0   0\n",
      "   0   0   2   0   0   0   0   0   1   0   0   3   2   0   2   0   0   0\n",
      "   0   0   0   0   0   0   0   0   0   0   0   0  90   1   2   3   4   5\n",
      " 218   1   2   3   4   5 136 181  48   0   1   0   1   0   2   0   0   0\n",
      "   0   0   1   0   0   3 255 255   2   0   1   0   0   0   0   0   0   0\n",
      "   0   0   0   3   0   0  90   1   2   3   4   5 218   1   2   3   4   5\n",
      " 136 181  48   0   2   0   2   0   2   0   0   0   0   0   1   0   0   3\n",
      " 255 255   2   0   2   0   0   0   0   0   0   0   0   0   0   3   0   0\n",
      "  90   1   2   3   4   5 218   1   2   3   4   5 136 181  48   0   3   0\n",
      "   3   0   2   0   0   0   0   0   1   0   0   3 255 255   2   0   3   0\n",
      "   0   0   0   0   0   0   0   0   0   3   0   0  90   1   2   3   4   5\n",
      " 218   1   2   3   4   5 136 181  48   0   4   0   4   0   2   0   0   0\n",
      "   0   0   1   0   0   3 255 255   2   0   4   0   0   0   0   0   0   0\n",
      "   0   0   0   3   0   0  90   1   2   3   4   5 218   1   2   3   4   5\n",
      " 136 181  48   0   5   0   5   0   2   0   0   0   0   0   1   0   0   3\n",
      " 255 255   2   0   5   0   0   0   0   0   0   0   0   0   0   3   0   0\n",
      "  90   1   2   3   4   5 218   1   2   3   4   5 136 181  48   0   6   0\n",
      "   6   0   2   0   0   0   0   0   1   0   0   3 255 255   2   0   6   0\n",
      "   0   0   0   0   0   0   0   0   0   3   0   0  90   1   2   3   4   5\n",
      " 218   1   2   3   4   5 136 181  48   0   7   0   7   0   2   0   0   0\n",
      "   0   0   1   0   0   3 255 255   2   0   7   0   0   0   0   0   0   0\n",
      "   0   0   0   3   0   0  90   1   2   3   4   5 218   1   2   3   4   5\n",
      " 136 181  48   0   8   0   8   0   2   0   0   0   0   0   1   0   0   3\n",
      " 255 255   2   0   8   0   0   0   0   0   0   0   0   0   0   3   0   0\n",
      "  90   1   2   3   4   5 218   1   2   3   4   5 136 181  48   0   9   0\n",
      "   9   0   2   0   0   0   0   0   1   0   0   3 255 255   2   0   9   0\n",
      "   0   0   0   0   0   0   0   0   0   3   0   0  90   1   2   3   4   5\n",
      " 218   1   2   3   4   5 136 181  48   0  10   0  10   0   2   0   0   0\n",
      "   0   0   1   0   0   3 255 255   2   0  10   0   0   0   0   0   0   0\n",
      "   0   0   0   3   0   0  90   1   2   3   4   5 218   1   2   3   4   5\n",
      " 136 181  48   0  11   0  11   0   2   0   0   0   0   0   1   0   0   3\n",
      " 255 255   2   0  11   0   0   0   0   0   0   0   0   0   0   3   0   0\n",
      "  90   1   2   3   4   5 218   1   2   3   4   5 136 181  48   0  12   0\n",
      "  12   0   2   0   0   0   0   0   1   0   0   3 255 255   2   0  12   0\n",
      "   0   0   0   0   0   0   0   0   0   3   0   0  90   1   2   3   4   5\n",
      " 218   1   2   3   4   5 136 181  48   0  13   0  13   0   2   0   0   0\n",
      "   0   0   1   0   0   3 255 255   2   0  13   0   0   0   0   0   0   0\n",
      "   0   0   0   3   0   0  90   1   2   3   4   5 218   1   2   3   4   5\n",
      " 136 181  48   0  14   0  14   0   2   0   0   0   0   0   1   0   0   3\n",
      " 255 255   2   0  14   0   0   0   0   0   0   0   0   0   0   3   0   0\n",
      "  90   1   2   3   4   5 218   1   2   3   4   5 136 181  48   0  15   0\n",
      "  15   0   2   0   0   0   0   0   1   0   0   3 255 255   2   0  15   0\n",
      "   0   0   0   0   0   0   0   0   0   3   0   0]\n",
      "[ 90   1   2   3   4   5 218   1   2   3   4   5 136 181  48   0   0   0\n",
      "   0   0   2   0   0   0   0   0   1   0   0   3   2   0   2   0   0   0\n",
      "   0   0   0   0   0   0   0   0   0   0   0   0]\n",
      "[ 90   1   2   3   4   5 218   1   2   3   4   5 136 181  48   0   1   0\n",
      "   1   0   2   0   0   0   0   0   1   0   0   3 255 255   2   0   1   0\n",
      "   0   0   0   0   0   0   0   0   0   3   0   0]\n",
      "[ 90   1   2   3   4   5 218   1   2   3   4   5 136 181  48   0   2   0\n",
      "   2   0   2   0   0   0   0   0   1   0   0   3 255 255   2   0   2   0\n",
      "   0   0   0   0   0   0   0   0   0   3   0   0]\n",
      "[ 90   1   2   3   4   5 218   1   2   3   4   5 136 181  48   0   3   0\n",
      "   3   0   2   0   0   0   0   0   1   0   0   3 255 255   2   0   3   0\n",
      "   0   0   0   0   0   0   0   0   0   3   0   0]\n",
      "[ 90   1   2   3   4   5 218   1   2   3   4   5 136 181  48   0   4   0\n",
      "   4   0   2   0   0   0   0   0   1   0   0   3 255 255   2   0   4   0\n",
      "   0   0   0   0   0   0   0   0   0   3   0   0]\n",
      "[ 90   1   2   3   4   5 218   1   2   3   4   5 136 181  48   0   5   0\n",
      "   5   0   2   0   0   0   0   0   1   0   0   3 255 255   2   0   5   0\n",
      "   0   0   0   0   0   0   0   0   0   3   0   0]\n",
      "[ 90   1   2   3   4   5 218   1   2   3   4   5 136 181  48   0   6   0\n",
      "   6   0   2   0   0   0   0   0   1   0   0   3 255 255   2   0   6   0\n",
      "   0   0   0   0   0   0   0   0   0   3   0   0]\n",
      "[ 90   1   2   3   4   5 218   1   2   3   4   5 136 181  48   0   7   0\n",
      "   7   0   2   0   0   0   0   0   1   0   0   3 255 255   2   0   7   0\n",
      "   0   0   0   0   0   0   0   0   0   3   0   0]\n",
      "[ 90   1   2   3   4   5 218   1   2   3   4   5 136 181  48   0   8   0\n",
      "   8   0   2   0   0   0   0   0   1   0   0   3 255 255   2   0   8   0\n",
      "   0   0   0   0   0   0   0   0   0   3   0   0]\n",
      "[ 90   1   2   3   4   5 218   1   2   3   4   5 136 181  48   0   9   0\n",
      "   9   0   2   0   0   0   0   0   1   0   0   3 255 255   2   0   9   0\n",
      "   0   0   0   0   0   0   0   0   0   3   0   0]\n",
      "[ 90   1   2   3   4   5 218   1   2   3   4   5 136 181  48   0  10   0\n",
      "  10   0   2   0   0   0   0   0   1   0   0   3 255 255   2   0  10   0\n",
      "   0   0   0   0   0   0   0   0   0   3   0   0]\n",
      "[ 90   1   2   3   4   5 218   1   2   3   4   5 136 181  48   0  11   0\n",
      "  11   0   2   0   0   0   0   0   1   0   0   3 255 255   2   0  11   0\n",
      "   0   0   0   0   0   0   0   0   0   3   0   0]\n",
      "[ 90   1   2   3   4   5 218   1   2   3   4   5 136 181  48   0  12   0\n",
      "  12   0   2   0   0   0   0   0   1   0   0   3 255 255   2   0  12   0\n",
      "   0   0   0   0   0   0   0   0   0   3   0   0]\n",
      "[ 90   1   2   3   4   5 218   1   2   3   4   5 136 181  48   0  13   0\n",
      "  13   0   2   0   0   0   0   0   1   0   0   3 255 255   2   0  13   0\n",
      "   0   0   0   0   0   0   0   0   0   3   0   0]\n",
      "[ 90   1   2   3   4   5 218   1   2   3   4   5 136 181  48   0  14   0\n",
      "  14   0   2   0   0   0   0   0   1   0   0   3 255 255   2   0  14   0\n",
      "   0   0   0   0   0   0   0   0   0   3   0   0]\n",
      "[ 90   1   2   3   4   5 218   1   2   3   4   5 136 181  48   0  15   0\n",
      "  15   0   2   0   0   0   0   0   1   0   0   3 255 255   2   0  15   0\n",
      "   0   0   0   0   0   0   0   0   0   3   0   0]\n"
     ]
    }
   ],
   "source": [
    "bs=sim.Data.fromfile('bytestream',np.dtype([('data',np.uint32),('last',np.int32)]),\n",
    "                 'teslib', 'measurement_subsystem_TB')\n",
    "lasts = np.where(bs['last'] < 0)[0]\n",
    "ps=PacketStream(bs)"
   ]
  },
  {
   "cell_type": "code",
   "execution_count": 3,
   "metadata": {
    "collapsed": true
   },
   "outputs": [],
   "source": [
    "trace_dt = np.dtype([('raw',np.int32),('filtered',np.int32),('slope',np.int32)])\n",
    "traces=sim.Data.fromfile('traces',trace_dt,'teslib','measurement_subsystem_TB')"
   ]
  },
  {
   "cell_type": "code",
   "execution_count": 4,
   "metadata": {
    "collapsed": false
   },
   "outputs": [
    {
     "data": {
      "text/plain": [
       "array([(0, 0, 0), (0, 0, 0), (0, 0, 0), ..., (-108, -107, -47),\n",
       "       (-184, -108, -52), (-158, -110, -55)], \n",
       "      dtype=[('raw', '<i4'), ('filtered', '<i4'), ('slope', '<i4')])"
      ]
     },
     "execution_count": 4,
     "metadata": {},
     "output_type": "execute_result"
    }
   ],
   "source": [
    "traces"
   ]
  },
  {
   "cell_type": "code",
   "execution_count": 8,
   "metadata": {
    "collapsed": false
   },
   "outputs": [
    {
     "data": {
      "application/javascript": [
       "/* Put everything inside the global mpl namespace */\n",
       "window.mpl = {};\n",
       "\n",
       "mpl.get_websocket_type = function() {\n",
       "    if (typeof(WebSocket) !== 'undefined') {\n",
       "        return WebSocket;\n",
       "    } else if (typeof(MozWebSocket) !== 'undefined') {\n",
       "        return MozWebSocket;\n",
       "    } else {\n",
       "        alert('Your browser does not have WebSocket support.' +\n",
       "              'Please try Chrome, Safari or Firefox ≥ 6. ' +\n",
       "              'Firefox 4 and 5 are also supported but you ' +\n",
       "              'have to enable WebSockets in about:config.');\n",
       "    };\n",
       "}\n",
       "\n",
       "mpl.figure = function(figure_id, websocket, ondownload, parent_element) {\n",
       "    this.id = figure_id;\n",
       "\n",
       "    this.ws = websocket;\n",
       "\n",
       "    this.supports_binary = (this.ws.binaryType != undefined);\n",
       "\n",
       "    if (!this.supports_binary) {\n",
       "        var warnings = document.getElementById(\"mpl-warnings\");\n",
       "        if (warnings) {\n",
       "            warnings.style.display = 'block';\n",
       "            warnings.textContent = (\n",
       "                \"This browser does not support binary websocket messages. \" +\n",
       "                    \"Performance may be slow.\");\n",
       "        }\n",
       "    }\n",
       "\n",
       "    this.imageObj = new Image();\n",
       "\n",
       "    this.context = undefined;\n",
       "    this.message = undefined;\n",
       "    this.canvas = undefined;\n",
       "    this.rubberband_canvas = undefined;\n",
       "    this.rubberband_context = undefined;\n",
       "    this.format_dropdown = undefined;\n",
       "\n",
       "    this.image_mode = 'full';\n",
       "\n",
       "    this.root = $('<div/>');\n",
       "    this._root_extra_style(this.root)\n",
       "    this.root.attr('style', 'display: inline-block');\n",
       "\n",
       "    $(parent_element).append(this.root);\n",
       "\n",
       "    this._init_header(this);\n",
       "    this._init_canvas(this);\n",
       "    this._init_toolbar(this);\n",
       "\n",
       "    var fig = this;\n",
       "\n",
       "    this.waiting = false;\n",
       "\n",
       "    this.ws.onopen =  function () {\n",
       "            fig.send_message(\"supports_binary\", {value: fig.supports_binary});\n",
       "            fig.send_message(\"send_image_mode\", {});\n",
       "            fig.send_message(\"refresh\", {});\n",
       "        }\n",
       "\n",
       "    this.imageObj.onload = function() {\n",
       "            if (fig.image_mode == 'full') {\n",
       "                // Full images could contain transparency (where diff images\n",
       "                // almost always do), so we need to clear the canvas so that\n",
       "                // there is no ghosting.\n",
       "                fig.context.clearRect(0, 0, fig.canvas.width, fig.canvas.height);\n",
       "            }\n",
       "            fig.context.drawImage(fig.imageObj, 0, 0);\n",
       "        };\n",
       "\n",
       "    this.imageObj.onunload = function() {\n",
       "        this.ws.close();\n",
       "    }\n",
       "\n",
       "    this.ws.onmessage = this._make_on_message_function(this);\n",
       "\n",
       "    this.ondownload = ondownload;\n",
       "}\n",
       "\n",
       "mpl.figure.prototype._init_header = function() {\n",
       "    var titlebar = $(\n",
       "        '<div class=\"ui-dialog-titlebar ui-widget-header ui-corner-all ' +\n",
       "        'ui-helper-clearfix\"/>');\n",
       "    var titletext = $(\n",
       "        '<div class=\"ui-dialog-title\" style=\"width: 100%; ' +\n",
       "        'text-align: center; padding: 3px;\"/>');\n",
       "    titlebar.append(titletext)\n",
       "    this.root.append(titlebar);\n",
       "    this.header = titletext[0];\n",
       "}\n",
       "\n",
       "\n",
       "\n",
       "mpl.figure.prototype._canvas_extra_style = function(canvas_div) {\n",
       "\n",
       "}\n",
       "\n",
       "\n",
       "mpl.figure.prototype._root_extra_style = function(canvas_div) {\n",
       "\n",
       "}\n",
       "\n",
       "mpl.figure.prototype._init_canvas = function() {\n",
       "    var fig = this;\n",
       "\n",
       "    var canvas_div = $('<div/>');\n",
       "\n",
       "    canvas_div.attr('style', 'position: relative; clear: both; outline: 0');\n",
       "\n",
       "    function canvas_keyboard_event(event) {\n",
       "        return fig.key_event(event, event['data']);\n",
       "    }\n",
       "\n",
       "    canvas_div.keydown('key_press', canvas_keyboard_event);\n",
       "    canvas_div.keyup('key_release', canvas_keyboard_event);\n",
       "    this.canvas_div = canvas_div\n",
       "    this._canvas_extra_style(canvas_div)\n",
       "    this.root.append(canvas_div);\n",
       "\n",
       "    var canvas = $('<canvas/>');\n",
       "    canvas.addClass('mpl-canvas');\n",
       "    canvas.attr('style', \"left: 0; top: 0; z-index: 0; outline: 0\")\n",
       "\n",
       "    this.canvas = canvas[0];\n",
       "    this.context = canvas[0].getContext(\"2d\");\n",
       "\n",
       "    var rubberband = $('<canvas/>');\n",
       "    rubberband.attr('style', \"position: absolute; left: 0; top: 0; z-index: 1;\")\n",
       "\n",
       "    var pass_mouse_events = true;\n",
       "\n",
       "    canvas_div.resizable({\n",
       "        start: function(event, ui) {\n",
       "            pass_mouse_events = false;\n",
       "        },\n",
       "        resize: function(event, ui) {\n",
       "            fig.request_resize(ui.size.width, ui.size.height);\n",
       "        },\n",
       "        stop: function(event, ui) {\n",
       "            pass_mouse_events = true;\n",
       "            fig.request_resize(ui.size.width, ui.size.height);\n",
       "        },\n",
       "    });\n",
       "\n",
       "    function mouse_event_fn(event) {\n",
       "        if (pass_mouse_events)\n",
       "            return fig.mouse_event(event, event['data']);\n",
       "    }\n",
       "\n",
       "    rubberband.mousedown('button_press', mouse_event_fn);\n",
       "    rubberband.mouseup('button_release', mouse_event_fn);\n",
       "    // Throttle sequential mouse events to 1 every 20ms.\n",
       "    rubberband.mousemove('motion_notify', mouse_event_fn);\n",
       "\n",
       "    rubberband.mouseenter('figure_enter', mouse_event_fn);\n",
       "    rubberband.mouseleave('figure_leave', mouse_event_fn);\n",
       "\n",
       "    canvas_div.on(\"wheel\", function (event) {\n",
       "        event = event.originalEvent;\n",
       "        event['data'] = 'scroll'\n",
       "        if (event.deltaY < 0) {\n",
       "            event.step = 1;\n",
       "        } else {\n",
       "            event.step = -1;\n",
       "        }\n",
       "        mouse_event_fn(event);\n",
       "    });\n",
       "\n",
       "    canvas_div.append(canvas);\n",
       "    canvas_div.append(rubberband);\n",
       "\n",
       "    this.rubberband = rubberband;\n",
       "    this.rubberband_canvas = rubberband[0];\n",
       "    this.rubberband_context = rubberband[0].getContext(\"2d\");\n",
       "    this.rubberband_context.strokeStyle = \"#000000\";\n",
       "\n",
       "    this._resize_canvas = function(width, height) {\n",
       "        // Keep the size of the canvas, canvas container, and rubber band\n",
       "        // canvas in synch.\n",
       "        canvas_div.css('width', width)\n",
       "        canvas_div.css('height', height)\n",
       "\n",
       "        canvas.attr('width', width);\n",
       "        canvas.attr('height', height);\n",
       "\n",
       "        rubberband.attr('width', width);\n",
       "        rubberband.attr('height', height);\n",
       "    }\n",
       "\n",
       "    // Set the figure to an initial 600x600px, this will subsequently be updated\n",
       "    // upon first draw.\n",
       "    this._resize_canvas(600, 600);\n",
       "\n",
       "    // Disable right mouse context menu.\n",
       "    $(this.rubberband_canvas).bind(\"contextmenu\",function(e){\n",
       "        return false;\n",
       "    });\n",
       "\n",
       "    function set_focus () {\n",
       "        canvas.focus();\n",
       "        canvas_div.focus();\n",
       "    }\n",
       "\n",
       "    window.setTimeout(set_focus, 100);\n",
       "}\n",
       "\n",
       "mpl.figure.prototype._init_toolbar = function() {\n",
       "    var fig = this;\n",
       "\n",
       "    var nav_element = $('<div/>')\n",
       "    nav_element.attr('style', 'width: 100%');\n",
       "    this.root.append(nav_element);\n",
       "\n",
       "    // Define a callback function for later on.\n",
       "    function toolbar_event(event) {\n",
       "        return fig.toolbar_button_onclick(event['data']);\n",
       "    }\n",
       "    function toolbar_mouse_event(event) {\n",
       "        return fig.toolbar_button_onmouseover(event['data']);\n",
       "    }\n",
       "\n",
       "    for(var toolbar_ind in mpl.toolbar_items) {\n",
       "        var name = mpl.toolbar_items[toolbar_ind][0];\n",
       "        var tooltip = mpl.toolbar_items[toolbar_ind][1];\n",
       "        var image = mpl.toolbar_items[toolbar_ind][2];\n",
       "        var method_name = mpl.toolbar_items[toolbar_ind][3];\n",
       "\n",
       "        if (!name) {\n",
       "            // put a spacer in here.\n",
       "            continue;\n",
       "        }\n",
       "        var button = $('<button/>');\n",
       "        button.addClass('ui-button ui-widget ui-state-default ui-corner-all ' +\n",
       "                        'ui-button-icon-only');\n",
       "        button.attr('role', 'button');\n",
       "        button.attr('aria-disabled', 'false');\n",
       "        button.click(method_name, toolbar_event);\n",
       "        button.mouseover(tooltip, toolbar_mouse_event);\n",
       "\n",
       "        var icon_img = $('<span/>');\n",
       "        icon_img.addClass('ui-button-icon-primary ui-icon');\n",
       "        icon_img.addClass(image);\n",
       "        icon_img.addClass('ui-corner-all');\n",
       "\n",
       "        var tooltip_span = $('<span/>');\n",
       "        tooltip_span.addClass('ui-button-text');\n",
       "        tooltip_span.html(tooltip);\n",
       "\n",
       "        button.append(icon_img);\n",
       "        button.append(tooltip_span);\n",
       "\n",
       "        nav_element.append(button);\n",
       "    }\n",
       "\n",
       "    var fmt_picker_span = $('<span/>');\n",
       "\n",
       "    var fmt_picker = $('<select/>');\n",
       "    fmt_picker.addClass('mpl-toolbar-option ui-widget ui-widget-content');\n",
       "    fmt_picker_span.append(fmt_picker);\n",
       "    nav_element.append(fmt_picker_span);\n",
       "    this.format_dropdown = fmt_picker[0];\n",
       "\n",
       "    for (var ind in mpl.extensions) {\n",
       "        var fmt = mpl.extensions[ind];\n",
       "        var option = $(\n",
       "            '<option/>', {selected: fmt === mpl.default_extension}).html(fmt);\n",
       "        fmt_picker.append(option)\n",
       "    }\n",
       "\n",
       "    // Add hover states to the ui-buttons\n",
       "    $( \".ui-button\" ).hover(\n",
       "        function() { $(this).addClass(\"ui-state-hover\");},\n",
       "        function() { $(this).removeClass(\"ui-state-hover\");}\n",
       "    );\n",
       "\n",
       "    var status_bar = $('<span class=\"mpl-message\"/>');\n",
       "    nav_element.append(status_bar);\n",
       "    this.message = status_bar[0];\n",
       "}\n",
       "\n",
       "mpl.figure.prototype.request_resize = function(x_pixels, y_pixels) {\n",
       "    // Request matplotlib to resize the figure. Matplotlib will then trigger a resize in the client,\n",
       "    // which will in turn request a refresh of the image.\n",
       "    this.send_message('resize', {'width': x_pixels, 'height': y_pixels});\n",
       "}\n",
       "\n",
       "mpl.figure.prototype.send_message = function(type, properties) {\n",
       "    properties['type'] = type;\n",
       "    properties['figure_id'] = this.id;\n",
       "    this.ws.send(JSON.stringify(properties));\n",
       "}\n",
       "\n",
       "mpl.figure.prototype.send_draw_message = function() {\n",
       "    if (!this.waiting) {\n",
       "        this.waiting = true;\n",
       "        this.ws.send(JSON.stringify({type: \"draw\", figure_id: this.id}));\n",
       "    }\n",
       "}\n",
       "\n",
       "\n",
       "mpl.figure.prototype.handle_save = function(fig, msg) {\n",
       "    var format_dropdown = fig.format_dropdown;\n",
       "    var format = format_dropdown.options[format_dropdown.selectedIndex].value;\n",
       "    fig.ondownload(fig, format);\n",
       "}\n",
       "\n",
       "\n",
       "mpl.figure.prototype.handle_resize = function(fig, msg) {\n",
       "    var size = msg['size'];\n",
       "    if (size[0] != fig.canvas.width || size[1] != fig.canvas.height) {\n",
       "        fig._resize_canvas(size[0], size[1]);\n",
       "        fig.send_message(\"refresh\", {});\n",
       "    };\n",
       "}\n",
       "\n",
       "mpl.figure.prototype.handle_rubberband = function(fig, msg) {\n",
       "    var x0 = msg['x0'];\n",
       "    var y0 = fig.canvas.height - msg['y0'];\n",
       "    var x1 = msg['x1'];\n",
       "    var y1 = fig.canvas.height - msg['y1'];\n",
       "    x0 = Math.floor(x0) + 0.5;\n",
       "    y0 = Math.floor(y0) + 0.5;\n",
       "    x1 = Math.floor(x1) + 0.5;\n",
       "    y1 = Math.floor(y1) + 0.5;\n",
       "    var min_x = Math.min(x0, x1);\n",
       "    var min_y = Math.min(y0, y1);\n",
       "    var width = Math.abs(x1 - x0);\n",
       "    var height = Math.abs(y1 - y0);\n",
       "\n",
       "    fig.rubberband_context.clearRect(\n",
       "        0, 0, fig.canvas.width, fig.canvas.height);\n",
       "\n",
       "    fig.rubberband_context.strokeRect(min_x, min_y, width, height);\n",
       "}\n",
       "\n",
       "mpl.figure.prototype.handle_figure_label = function(fig, msg) {\n",
       "    // Updates the figure title.\n",
       "    fig.header.textContent = msg['label'];\n",
       "}\n",
       "\n",
       "mpl.figure.prototype.handle_cursor = function(fig, msg) {\n",
       "    var cursor = msg['cursor'];\n",
       "    switch(cursor)\n",
       "    {\n",
       "    case 0:\n",
       "        cursor = 'pointer';\n",
       "        break;\n",
       "    case 1:\n",
       "        cursor = 'default';\n",
       "        break;\n",
       "    case 2:\n",
       "        cursor = 'crosshair';\n",
       "        break;\n",
       "    case 3:\n",
       "        cursor = 'move';\n",
       "        break;\n",
       "    }\n",
       "    fig.rubberband_canvas.style.cursor = cursor;\n",
       "}\n",
       "\n",
       "mpl.figure.prototype.handle_message = function(fig, msg) {\n",
       "    fig.message.textContent = msg['message'];\n",
       "}\n",
       "\n",
       "mpl.figure.prototype.handle_draw = function(fig, msg) {\n",
       "    // Request the server to send over a new figure.\n",
       "    fig.send_draw_message();\n",
       "}\n",
       "\n",
       "mpl.figure.prototype.handle_image_mode = function(fig, msg) {\n",
       "    fig.image_mode = msg['mode'];\n",
       "}\n",
       "\n",
       "mpl.figure.prototype.updated_canvas_event = function() {\n",
       "    // Called whenever the canvas gets updated.\n",
       "    this.send_message(\"ack\", {});\n",
       "}\n",
       "\n",
       "// A function to construct a web socket function for onmessage handling.\n",
       "// Called in the figure constructor.\n",
       "mpl.figure.prototype._make_on_message_function = function(fig) {\n",
       "    return function socket_on_message(evt) {\n",
       "        if (evt.data instanceof Blob) {\n",
       "            /* FIXME: We get \"Resource interpreted as Image but\n",
       "             * transferred with MIME type text/plain:\" errors on\n",
       "             * Chrome.  But how to set the MIME type?  It doesn't seem\n",
       "             * to be part of the websocket stream */\n",
       "            evt.data.type = \"image/png\";\n",
       "\n",
       "            /* Free the memory for the previous frames */\n",
       "            if (fig.imageObj.src) {\n",
       "                (window.URL || window.webkitURL).revokeObjectURL(\n",
       "                    fig.imageObj.src);\n",
       "            }\n",
       "\n",
       "            fig.imageObj.src = (window.URL || window.webkitURL).createObjectURL(\n",
       "                evt.data);\n",
       "            fig.updated_canvas_event();\n",
       "            fig.waiting = false;\n",
       "            return;\n",
       "        }\n",
       "        else if (typeof evt.data === 'string' && evt.data.slice(0, 21) == \"data:image/png;base64\") {\n",
       "            fig.imageObj.src = evt.data;\n",
       "            fig.updated_canvas_event();\n",
       "            fig.waiting = false;\n",
       "            return;\n",
       "        }\n",
       "\n",
       "        var msg = JSON.parse(evt.data);\n",
       "        var msg_type = msg['type'];\n",
       "\n",
       "        // Call the  \"handle_{type}\" callback, which takes\n",
       "        // the figure and JSON message as its only arguments.\n",
       "        try {\n",
       "            var callback = fig[\"handle_\" + msg_type];\n",
       "        } catch (e) {\n",
       "            console.log(\"No handler for the '\" + msg_type + \"' message type: \", msg);\n",
       "            return;\n",
       "        }\n",
       "\n",
       "        if (callback) {\n",
       "            try {\n",
       "                // console.log(\"Handling '\" + msg_type + \"' message: \", msg);\n",
       "                callback(fig, msg);\n",
       "            } catch (e) {\n",
       "                console.log(\"Exception inside the 'handler_\" + msg_type + \"' callback:\", e, e.stack, msg);\n",
       "            }\n",
       "        }\n",
       "    };\n",
       "}\n",
       "\n",
       "// from http://stackoverflow.com/questions/1114465/getting-mouse-location-in-canvas\n",
       "mpl.findpos = function(e) {\n",
       "    //this section is from http://www.quirksmode.org/js/events_properties.html\n",
       "    var targ;\n",
       "    if (!e)\n",
       "        e = window.event;\n",
       "    if (e.target)\n",
       "        targ = e.target;\n",
       "    else if (e.srcElement)\n",
       "        targ = e.srcElement;\n",
       "    if (targ.nodeType == 3) // defeat Safari bug\n",
       "        targ = targ.parentNode;\n",
       "\n",
       "    // jQuery normalizes the pageX and pageY\n",
       "    // pageX,Y are the mouse positions relative to the document\n",
       "    // offset() returns the position of the element relative to the document\n",
       "    var x = e.pageX - $(targ).offset().left;\n",
       "    var y = e.pageY - $(targ).offset().top;\n",
       "\n",
       "    return {\"x\": x, \"y\": y};\n",
       "};\n",
       "\n",
       "/*\n",
       " * return a copy of an object with only non-object keys\n",
       " * we need this to avoid circular references\n",
       " * http://stackoverflow.com/a/24161582/3208463\n",
       " */\n",
       "function simpleKeys (original) {\n",
       "  return Object.keys(original).reduce(function (obj, key) {\n",
       "    if (typeof original[key] !== 'object')\n",
       "        obj[key] = original[key]\n",
       "    return obj;\n",
       "  }, {});\n",
       "}\n",
       "\n",
       "mpl.figure.prototype.mouse_event = function(event, name) {\n",
       "    var canvas_pos = mpl.findpos(event)\n",
       "\n",
       "    if (name === 'button_press')\n",
       "    {\n",
       "        this.canvas.focus();\n",
       "        this.canvas_div.focus();\n",
       "    }\n",
       "\n",
       "    var x = canvas_pos.x;\n",
       "    var y = canvas_pos.y;\n",
       "\n",
       "    this.send_message(name, {x: x, y: y, button: event.button,\n",
       "                             step: event.step,\n",
       "                             guiEvent: simpleKeys(event)});\n",
       "\n",
       "    /* This prevents the web browser from automatically changing to\n",
       "     * the text insertion cursor when the button is pressed.  We want\n",
       "     * to control all of the cursor setting manually through the\n",
       "     * 'cursor' event from matplotlib */\n",
       "    event.preventDefault();\n",
       "    return false;\n",
       "}\n",
       "\n",
       "mpl.figure.prototype._key_event_extra = function(event, name) {\n",
       "    // Handle any extra behaviour associated with a key event\n",
       "}\n",
       "\n",
       "mpl.figure.prototype.key_event = function(event, name) {\n",
       "\n",
       "    // Prevent repeat events\n",
       "    if (name == 'key_press')\n",
       "    {\n",
       "        if (event.which === this._key)\n",
       "            return;\n",
       "        else\n",
       "            this._key = event.which;\n",
       "    }\n",
       "    if (name == 'key_release')\n",
       "        this._key = null;\n",
       "\n",
       "    var value = '';\n",
       "    if (event.ctrlKey && event.which != 17)\n",
       "        value += \"ctrl+\";\n",
       "    if (event.altKey && event.which != 18)\n",
       "        value += \"alt+\";\n",
       "    if (event.shiftKey && event.which != 16)\n",
       "        value += \"shift+\";\n",
       "\n",
       "    value += 'k';\n",
       "    value += event.which.toString();\n",
       "\n",
       "    this._key_event_extra(event, name);\n",
       "\n",
       "    this.send_message(name, {key: value,\n",
       "                             guiEvent: simpleKeys(event)});\n",
       "    return false;\n",
       "}\n",
       "\n",
       "mpl.figure.prototype.toolbar_button_onclick = function(name) {\n",
       "    if (name == 'download') {\n",
       "        this.handle_save(this, null);\n",
       "    } else {\n",
       "        this.send_message(\"toolbar_button\", {name: name});\n",
       "    }\n",
       "};\n",
       "\n",
       "mpl.figure.prototype.toolbar_button_onmouseover = function(tooltip) {\n",
       "    this.message.textContent = tooltip;\n",
       "};\n",
       "mpl.toolbar_items = [[\"Home\", \"Reset original view\", \"fa fa-home icon-home\", \"home\"], [\"Back\", \"Back to  previous view\", \"fa fa-arrow-left icon-arrow-left\", \"back\"], [\"Forward\", \"Forward to next view\", \"fa fa-arrow-right icon-arrow-right\", \"forward\"], [\"\", \"\", \"\", \"\"], [\"Pan\", \"Pan axes with left mouse, zoom with right\", \"fa fa-arrows icon-move\", \"pan\"], [\"Zoom\", \"Zoom to rectangle\", \"fa fa-square-o icon-check-empty\", \"zoom\"], [\"\", \"\", \"\", \"\"], [\"Download\", \"Download plot\", \"fa fa-floppy-o icon-save\", \"download\"]];\n",
       "\n",
       "mpl.extensions = [\"eps\", \"pdf\", \"png\", \"ps\", \"raw\", \"svg\"];\n",
       "\n",
       "mpl.default_extension = \"png\";var comm_websocket_adapter = function(comm) {\n",
       "    // Create a \"websocket\"-like object which calls the given IPython comm\n",
       "    // object with the appropriate methods. Currently this is a non binary\n",
       "    // socket, so there is still some room for performance tuning.\n",
       "    var ws = {};\n",
       "\n",
       "    ws.close = function() {\n",
       "        comm.close()\n",
       "    };\n",
       "    ws.send = function(m) {\n",
       "        //console.log('sending', m);\n",
       "        comm.send(m);\n",
       "    };\n",
       "    // Register the callback with on_msg.\n",
       "    comm.on_msg(function(msg) {\n",
       "        //console.log('receiving', msg['content']['data'], msg);\n",
       "        // Pass the mpl event to the overriden (by mpl) onmessage function.\n",
       "        ws.onmessage(msg['content']['data'])\n",
       "    });\n",
       "    return ws;\n",
       "}\n",
       "\n",
       "mpl.mpl_figure_comm = function(comm, msg) {\n",
       "    // This is the function which gets called when the mpl process\n",
       "    // starts-up an IPython Comm through the \"matplotlib\" channel.\n",
       "\n",
       "    var id = msg.content.data.id;\n",
       "    // Get hold of the div created by the display call when the Comm\n",
       "    // socket was opened in Python.\n",
       "    var element = $(\"#\" + id);\n",
       "    var ws_proxy = comm_websocket_adapter(comm)\n",
       "\n",
       "    function ondownload(figure, format) {\n",
       "        window.open(figure.imageObj.src);\n",
       "    }\n",
       "\n",
       "    var fig = new mpl.figure(id, ws_proxy,\n",
       "                           ondownload,\n",
       "                           element.get(0));\n",
       "\n",
       "    // Call onopen now - mpl needs it, as it is assuming we've passed it a real\n",
       "    // web socket which is closed, not our websocket->open comm proxy.\n",
       "    ws_proxy.onopen();\n",
       "\n",
       "    fig.parent_element = element.get(0);\n",
       "    fig.cell_info = mpl.find_output_cell(\"<div id='\" + id + \"'></div>\");\n",
       "    if (!fig.cell_info) {\n",
       "        console.error(\"Failed to find cell for figure\", id, fig);\n",
       "        return;\n",
       "    }\n",
       "\n",
       "    var output_index = fig.cell_info[2]\n",
       "    var cell = fig.cell_info[0];\n",
       "\n",
       "};\n",
       "\n",
       "mpl.figure.prototype.handle_close = function(fig, msg) {\n",
       "    fig.root.unbind('remove')\n",
       "\n",
       "    // Update the output cell to use the data from the current canvas.\n",
       "    fig.push_to_output();\n",
       "    var dataURL = fig.canvas.toDataURL();\n",
       "    // Re-enable the keyboard manager in IPython - without this line, in FF,\n",
       "    // the notebook keyboard shortcuts fail.\n",
       "    IPython.keyboard_manager.enable()\n",
       "    $(fig.parent_element).html('<img src=\"' + dataURL + '\">');\n",
       "    fig.close_ws(fig, msg);\n",
       "}\n",
       "\n",
       "mpl.figure.prototype.close_ws = function(fig, msg){\n",
       "    fig.send_message('closing', msg);\n",
       "    // fig.ws.close()\n",
       "}\n",
       "\n",
       "mpl.figure.prototype.push_to_output = function(remove_interactive) {\n",
       "    // Turn the data on the canvas into data in the output cell.\n",
       "    var dataURL = this.canvas.toDataURL();\n",
       "    this.cell_info[1]['text/html'] = '<img src=\"' + dataURL + '\">';\n",
       "}\n",
       "\n",
       "mpl.figure.prototype.updated_canvas_event = function() {\n",
       "    // Tell IPython that the notebook contents must change.\n",
       "    IPython.notebook.set_dirty(true);\n",
       "    this.send_message(\"ack\", {});\n",
       "    var fig = this;\n",
       "    // Wait a second, then push the new image to the DOM so\n",
       "    // that it is saved nicely (might be nice to debounce this).\n",
       "    setTimeout(function () { fig.push_to_output() }, 1000);\n",
       "}\n",
       "\n",
       "mpl.figure.prototype._init_toolbar = function() {\n",
       "    var fig = this;\n",
       "\n",
       "    var nav_element = $('<div/>')\n",
       "    nav_element.attr('style', 'width: 100%');\n",
       "    this.root.append(nav_element);\n",
       "\n",
       "    // Define a callback function for later on.\n",
       "    function toolbar_event(event) {\n",
       "        return fig.toolbar_button_onclick(event['data']);\n",
       "    }\n",
       "    function toolbar_mouse_event(event) {\n",
       "        return fig.toolbar_button_onmouseover(event['data']);\n",
       "    }\n",
       "\n",
       "    for(var toolbar_ind in mpl.toolbar_items){\n",
       "        var name = mpl.toolbar_items[toolbar_ind][0];\n",
       "        var tooltip = mpl.toolbar_items[toolbar_ind][1];\n",
       "        var image = mpl.toolbar_items[toolbar_ind][2];\n",
       "        var method_name = mpl.toolbar_items[toolbar_ind][3];\n",
       "\n",
       "        if (!name) { continue; };\n",
       "\n",
       "        var button = $('<button class=\"btn btn-default\" href=\"#\" title=\"' + name + '\"><i class=\"fa ' + image + ' fa-lg\"></i></button>');\n",
       "        button.click(method_name, toolbar_event);\n",
       "        button.mouseover(tooltip, toolbar_mouse_event);\n",
       "        nav_element.append(button);\n",
       "    }\n",
       "\n",
       "    // Add the status bar.\n",
       "    var status_bar = $('<span class=\"mpl-message\" style=\"text-align:right; float: right;\"/>');\n",
       "    nav_element.append(status_bar);\n",
       "    this.message = status_bar[0];\n",
       "\n",
       "    // Add the close button to the window.\n",
       "    var buttongrp = $('<div class=\"btn-group inline pull-right\"></div>');\n",
       "    var button = $('<button class=\"btn btn-mini btn-primary\" href=\"#\" title=\"Stop Interaction\"><i class=\"fa fa-power-off icon-remove icon-large\"></i></button>');\n",
       "    button.click(function (evt) { fig.handle_close(fig, {}); } );\n",
       "    button.mouseover('Stop Interaction', toolbar_mouse_event);\n",
       "    buttongrp.append(button);\n",
       "    var titlebar = this.root.find($('.ui-dialog-titlebar'));\n",
       "    titlebar.prepend(buttongrp);\n",
       "}\n",
       "\n",
       "mpl.figure.prototype._root_extra_style = function(el){\n",
       "    var fig = this\n",
       "    el.on(\"remove\", function(){\n",
       "\tfig.close_ws(fig, {});\n",
       "    });\n",
       "}\n",
       "\n",
       "mpl.figure.prototype._canvas_extra_style = function(el){\n",
       "    // this is important to make the div 'focusable\n",
       "    el.attr('tabindex', 0)\n",
       "    // reach out to IPython and tell the keyboard manager to turn it's self\n",
       "    // off when our div gets focus\n",
       "\n",
       "    // location in version 3\n",
       "    if (IPython.notebook.keyboard_manager) {\n",
       "        IPython.notebook.keyboard_manager.register_events(el);\n",
       "    }\n",
       "    else {\n",
       "        // location in version 2\n",
       "        IPython.keyboard_manager.register_events(el);\n",
       "    }\n",
       "\n",
       "}\n",
       "\n",
       "mpl.figure.prototype._key_event_extra = function(event, name) {\n",
       "    var manager = IPython.notebook.keyboard_manager;\n",
       "    if (!manager)\n",
       "        manager = IPython.keyboard_manager;\n",
       "\n",
       "    // Check for shift+enter\n",
       "    if (event.shiftKey && event.which == 13) {\n",
       "        this.canvas_div.blur();\n",
       "        event.shiftKey = false;\n",
       "        // Send a \"J\" for go to next cell\n",
       "        event.which = 74;\n",
       "        event.keyCode = 74;\n",
       "        manager.command_mode();\n",
       "        manager.handle_keydown(event);\n",
       "    }\n",
       "}\n",
       "\n",
       "mpl.figure.prototype.handle_save = function(fig, msg) {\n",
       "    fig.ondownload(fig, null);\n",
       "}\n",
       "\n",
       "\n",
       "mpl.find_output_cell = function(html_output) {\n",
       "    // Return the cell and output element which can be found *uniquely* in the notebook.\n",
       "    // Note - this is a bit hacky, but it is done because the \"notebook_saving.Notebook\"\n",
       "    // IPython event is triggered only after the cells have been serialised, which for\n",
       "    // our purposes (turning an active figure into a static one), is too late.\n",
       "    var cells = IPython.notebook.get_cells();\n",
       "    var ncells = cells.length;\n",
       "    for (var i=0; i<ncells; i++) {\n",
       "        var cell = cells[i];\n",
       "        if (cell.cell_type === 'code'){\n",
       "            for (var j=0; j<cell.output_area.outputs.length; j++) {\n",
       "                var data = cell.output_area.outputs[j];\n",
       "                if (data.data) {\n",
       "                    // IPython >= 3 moved mimebundle to data attribute of output\n",
       "                    data = data.data;\n",
       "                }\n",
       "                if (data['text/html'] == html_output) {\n",
       "                    return [cell, data, j];\n",
       "                }\n",
       "            }\n",
       "        }\n",
       "    }\n",
       "}\n",
       "\n",
       "// Register the function which deals with the matplotlib target/channel.\n",
       "// The kernel may be null if the page has been refreshed.\n",
       "if (IPython.notebook.kernel != null) {\n",
       "    IPython.notebook.kernel.comm_manager.register_target('matplotlib', mpl.mpl_figure_comm);\n",
       "}\n"
      ],
      "text/plain": [
       "<IPython.core.display.Javascript object>"
      ]
     },
     "metadata": {},
     "output_type": "display_data"
    },
    {
     "data": {
      "text/html": [
       "<img src=\"data:image/png;base64,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\">"
      ],
      "text/plain": [
       "<IPython.core.display.HTML object>"
      ]
     },
     "metadata": {},
     "output_type": "display_data"
    }
   ],
   "source": [
    "%matplotlib notebook\n",
    "plt.plot(traces['slope'])\n",
    "plt.savefig('test.svg')"
   ]
  },
  {
   "cell_type": "code",
   "execution_count": 9,
   "metadata": {
    "collapsed": false
   },
   "outputs": [
    {
     "data": {
      "text/plain": [
       "'c:\\\\TES_project\\\\fpga_ise\\\\teslib\\\\simulation\\\\measurement_subsystem_TB'"
      ]
     },
     "execution_count": 9,
     "metadata": {},
     "output_type": "execute_result"
    }
   ],
   "source": [
    "pwd"
   ]
  },
  {
   "cell_type": "code",
   "execution_count": null,
   "metadata": {
    "collapsed": false,
    "scrolled": false
   },
   "outputs": [],
   "source": [
    "ps.packets"
   ]
  },
  {
   "cell_type": "code",
   "execution_count": null,
   "metadata": {
    "collapsed": false
   },
   "outputs": [],
   "source": [
    "len(ps.packets[8].bytes)"
   ]
  },
  {
   "cell_type": "code",
   "execution_count": null,
   "metadata": {
    "collapsed": false
   },
   "outputs": [],
   "source": [
    "lasts"
   ]
  },
  {
   "cell_type": "code",
   "execution_count": null,
   "metadata": {
    "collapsed": false
   },
   "outputs": [],
   "source": [
    "packets[0]"
   ]
  },
  {
   "cell_type": "code",
   "execution_count": null,
   "metadata": {
    "collapsed": false
   },
   "outputs": [],
   "source": [
    "bytestream['data'].dtype==np.uint32"
   ]
  },
  {
   "cell_type": "code",
   "execution_count": null,
   "metadata": {
    "collapsed": false
   },
   "outputs": [],
   "source": [
    "lasts = bytestream['last'].nonzero()[0] + 1\n",
    "bpdt=np.dtype([('data',np.uint8),('pad',np.uint8,(3,))])\n",
    "byte_data=bytestream['data'].view(bpdt)['data'].astype(np.uint8,copy=True)[0:lasts[-1]]\n"
   ]
  },
  {
   "cell_type": "code",
   "execution_count": null,
   "metadata": {
    "collapsed": false
   },
   "outputs": [],
   "source": [
    "'{:d}'.format(byte_data[14:16].view(np.uint16)[0])"
   ]
  },
  {
   "cell_type": "code",
   "execution_count": null,
   "metadata": {
    "collapsed": false
   },
   "outputs": [],
   "source": [
    "lasts = bytestream['last'].nonzero()[0] + 1\n",
    "lasts"
   ]
  },
  {
   "cell_type": "code",
   "execution_count": null,
   "metadata": {
    "collapsed": false
   },
   "outputs": [],
   "source": [
    "lasts[-1]"
   ]
  },
  {
   "cell_type": "code",
   "execution_count": null,
   "metadata": {
    "collapsed": false
   },
   "outputs": [],
   "source": [
    "data=Data(fileset, 2, 'teslib','measurement_subsystem_TB')\n",
    "enet=PacketStream(data.byte_stream)\n",
    "dists=enet.distributions"
   ]
  },
  {
   "cell_type": "code",
   "execution_count": null,
   "metadata": {
    "collapsed": false
   },
   "outputs": [],
   "source": []
  },
  {
   "cell_type": "code",
   "execution_count": null,
   "metadata": {
    "collapsed": false
   },
   "outputs": [],
   "source": [
    "# compare transmitted distributions with the data\n",
    "failed=False\n",
    "if dists == []:\n",
    "    print('No distributions')\n",
    "else:\n",
    "    for dist in dists:\n",
    "        dif = (dist.counts - dist.data_counts(data))[0].nonzero()\n",
    "        if dif[0].size:\n",
    "            print(\n",
    "                '{:}\\nDoes not reconcile with the data, '+\n",
    "                'Differences at {:d} indexs:\\n{:}\\n'.format(\n",
    "                    dist, dif[0].size, dif[0])\n",
    "            )\n",
    "            failed=True\n",
    "    if not failed:\n",
    "        print('Distributions agree with data')\n",
    "    \n"
   ]
  },
  {
   "cell_type": "markdown",
   "metadata": {},
   "source": [
    " ## work area"
   ]
  },
  {
   "cell_type": "code",
   "execution_count": null,
   "metadata": {
    "collapsed": false,
    "scrolled": false
   },
   "outputs": [],
   "source": [
    "enet.packets"
   ]
  },
  {
   "cell_type": "code",
   "execution_count": null,
   "metadata": {
    "collapsed": false
   },
   "outputs": [],
   "source": [
    "data.byte_stream"
   ]
  },
  {
   "cell_type": "code",
   "execution_count": null,
   "metadata": {
    "collapsed": false,
    "scrolled": false
   },
   "outputs": [],
   "source": [
    "%matplotlib notebook\n",
    "plt.plot(data.trace[0]['raw'],'b',lw=0.5)\n",
    "plt.plot(data.trace[0]['filtered'],'r',lw=1.5)"
   ]
  },
  {
   "cell_type": "code",
   "execution_count": null,
   "metadata": {
    "collapsed": false
   },
   "outputs": [],
   "source": [
    "enet.packets[4].payload[40:].view(np.uint32).size"
   ]
  },
  {
   "cell_type": "code",
   "execution_count": null,
   "metadata": {
    "collapsed": false
   },
   "outputs": [],
   "source": [
    "enet.packets[4].length"
   ]
  },
  {
   "cell_type": "code",
   "execution_count": null,
   "metadata": {
    "collapsed": false
   },
   "outputs": [],
   "source": [
    "dist=dists[1]\n",
    "c=check_distribution(dist,data)\n",
    "(c-dist.counts).nonzero()[0].size"
   ]
  },
  {
   "cell_type": "code",
   "execution_count": null,
   "metadata": {
    "collapsed": false
   },
   "outputs": [],
   "source": [
    "start=dist.start_time\n",
    "stop=dist.stop_time+np.uint64(1)\n",
    "s=data.slice((start, stop))\n",
    "f = s.trace[dist.channel]['filtered']\n",
    "fd = data.trace[dist.channel]['filtered'][start:stop]\n",
    "(f-fd).nonzero()"
   ]
  },
  {
   "cell_type": "code",
   "execution_count": null,
   "metadata": {
    "collapsed": false
   },
   "outputs": [],
   "source": [
    "np.uint64(1)+np.uint64(-1)"
   ]
  },
  {
   "cell_type": "code",
   "execution_count": null,
   "metadata": {
    "collapsed": false
   },
   "outputs": [],
   "source": [
    "event_dt=np.dtype(\n",
    "    (np.uint64, \n",
    "        [\n",
    "            ('data', np.uint32),\n",
    "            ('flags0', np.uint8),\n",
    "            ('flags1', np.uint8),\n",
    "            ('time',np.uint16)\n",
    "        ] \n",
    "    )\n",
    ")\n",
    "\n",
    "peak_dt=np.dtype(\n",
    "    (\n",
    "        [\n",
    "            ('height', np.int16),\n",
    "            ('minima', np.int16),\n",
    "            ('flags0', np.uint8),\n",
    "            ('flags1', np.uint8),\n",
    "            ('time',np.uint16)\n",
    "        ] \n",
    "    )\n",
    ")\n",
    "\n",
    "tick_dt=np.dtype(\n",
    "    ( \n",
    "        [\n",
    "            ('period', np.uint32),\n",
    "            ('flags0', np.uint8),\n",
    "            ('flags1', np.uint8),\n",
    "            ('time', np.uint16),\n",
    "            ('timestamp', np.uint64)\n",
    "        ]\n",
    "    )\n",
    ")\n",
    "\n",
    "e = sim.EventStream('teslib','measurement_subsystem_TB')\n",
    "\n",
    "events=e._stream64.view(dtype=event_dt)\n",
    "\n",
    "#type_flags = np.bitwise_and(events['flags'],0x000f)\n",
    "tick = np.bitwise_and(events['flags1'],0x02)!=0\n",
    "window_start = np.bitwise_and(events['flags1'],0x01)!=0\n",
    "\n",
    "tick_mask=np.zeros(len(tick),dtype=bool)\n",
    "i=0\n",
    "while (i < len(tick)):\n",
    "    if tick[i]!=0:\n",
    "        tick_mask[i:i+2]=True\n",
    "        i+=1\n",
    "    i+=1\n",
    "    \n",
    "peaks=e._stream64[~tick_mask].view(dtype=peak_dt)\n",
    "\n",
    "ticks=e._stream64[tick_mask].view(dtype=tick_dt)"
   ]
  },
  {
   "cell_type": "code",
   "execution_count": null,
   "metadata": {
    "collapsed": false
   },
   "outputs": [],
   "source": [
    "d=distributions[0]\n",
    "\n",
    "\n",
    "d.value.trace"
   ]
  },
  {
   "cell_type": "code",
   "execution_count": null,
   "metadata": {
    "collapsed": true
   },
   "outputs": [],
   "source": [
    "%matplotlib notebook\n",
    "stop=distributions[0].stop_time\n",
    "start=distributions[0].start_time\n",
    "plt.plot(data.trace[0]['filtered'][start:stop])"
   ]
  },
  {
   "cell_type": "code",
   "execution_count": null,
   "metadata": {
    "collapsed": false
   },
   "outputs": [],
   "source": [
    "%matplotlib notebook\n",
    "d=0\n",
    "plt.plot(distributions[d].counts)"
   ]
  },
  {
   "cell_type": "code",
   "execution_count": null,
   "metadata": {
    "collapsed": false,
    "scrolled": true
   },
   "outputs": [],
   "source": [
    "p=1\n",
    "lasts=enet['last'].nonzero()[0]+1\n",
    "packets = []\n",
    "prev=0\n",
    "for last in lasts:\n",
    "    packets.append(sim.Packet( np.copy(enet['data'][prev:last]).view(np.uint8)))\n",
    "    prev=last\n",
    "\n",
    "packets[:]"
   ]
  },
  {
   "cell_type": "code",
   "execution_count": null,
   "metadata": {
    "collapsed": false
   },
   "outputs": [],
   "source": [
    "packets[4]"
   ]
  },
  {
   "cell_type": "code",
   "execution_count": null,
   "metadata": {
    "collapsed": false
   },
   "outputs": [],
   "source": [
    "def get_distributions(packets):\n",
    "    for packet in packets:\n",
    "        if packet.payload_type == PayloadType.mca:\n",
    "            \n",
    "        \n",
    "    \n",
    "    \n",
    "    \n",
    "packets[4].payload[0:8].view(mca_header_dt)"
   ]
  },
  {
   "cell_type": "code",
   "execution_count": null,
   "metadata": {
    "collapsed": false
   },
   "outputs": [],
   "source": [
    "peaks=packets[1].payload.view(peak_dt)\n",
    "peaks"
   ]
  },
  {
   "cell_type": "code",
   "execution_count": null,
   "metadata": {
    "collapsed": false
   },
   "outputs": [],
   "source": [
    "\n",
    "time=0\n",
    "times=[]\n",
    "heights=[]\n",
    "minimas=[]\n",
    "\n",
    "for p in packets:\n",
    "    if p.payload_type==sim.EventType.tick:\n",
    "        tick=p.payload.view(tick_dt)\n",
    "        time=tick[0]['timestamp']\n",
    "    elif p.payload_type==sim.EventType.peak:\n",
    "        peaks=p.payload.view(peak_dt)\n",
    "        for peak in peaks:\n",
    "            time+=peak['time']\n",
    "            times.append(time)\n",
    "            heights.append(peak['height'])\n",
    "            minimas.append(peak['minima'])\n",
    "            "
   ]
  },
  {
   "cell_type": "code",
   "execution_count": null,
   "metadata": {
    "collapsed": false
   },
   "outputs": [],
   "source": [
    "times"
   ]
  },
  {
   "cell_type": "code",
   "execution_count": null,
   "metadata": {
    "collapsed": false
   },
   "outputs": [],
   "source": [
    "packets[1].payload.view(peak_dt)"
   ]
  },
  {
   "cell_type": "code",
   "execution_count": null,
   "metadata": {
    "collapsed": false
   },
   "outputs": [],
   "source": [
    "heights[0]"
   ]
  },
  {
   "cell_type": "code",
   "execution_count": null,
   "metadata": {
    "collapsed": false,
    "scrolled": false
   },
   "outputs": [],
   "source": [
    "%matplotlib notebook\n",
    "p=3\n",
    "x=np.arange(times[p]-300,times[p]+1000,dtype=np.uint64)\n",
    "plt.plot([times[p], times[p]],[minimas[p], heights[p]],'r',lw=2)\n",
    "plt.step(x,data.trace['filtered'][x])\n",
    "plt.plot(data.peak[p/2],data.trace['filtered'][data.peak[p/2]],'ro')\n",
    "plt.plot(\n",
    "    [data.peak_start[p/2],times[p]],\n",
    "    [data.trace['filtered'][data.peak_start[p/2]],data.trace['filtered'][data.peak_start[p/2]]],\n",
    "    'k'\n",
    ")\n",
    "plt.plot(\n",
    "    [times[p],data.peak[p/2]],\n",
    "    [data.trace['filtered'][data.peak[p/2]],data.trace['filtered'][data.peak[p/2]]],\n",
    "    'k'\n",
    ")"
   ]
  },
  {
   "cell_type": "code",
   "execution_count": null,
   "metadata": {
    "collapsed": false
   },
   "outputs": [],
   "source": [
    "%matplotlib notebook\n",
    "fig=simplt.plot_slice(data.slice((data.peak[0]-1000,data.peak[0]+1000)))\n",
    "data.trace['filtered'][data.peak[0]]"
   ]
  },
  {
   "cell_type": "code",
   "execution_count": null,
   "metadata": {
    "collapsed": false,
    "scrolled": false
   },
   "outputs": [],
   "source": [
    "data.cfd_low"
   ]
  },
  {
   "cell_type": "code",
   "execution_count": null,
   "metadata": {
    "collapsed": false
   },
   "outputs": [],
   "source": [
    "packet_bytes=packet.view(np.uint8)"
   ]
  },
  {
   "cell_type": "code",
   "execution_count": null,
   "metadata": {
    "collapsed": false
   },
   "outputs": [],
   "source": [
    "packet_bytes"
   ]
  },
  {
   "cell_type": "code",
   "execution_count": null,
   "metadata": {
    "collapsed": false
   },
   "outputs": [],
   "source": []
  },
  {
   "cell_type": "code",
   "execution_count": null,
   "metadata": {
    "collapsed": false
   },
   "outputs": [],
   "source": [
    "\n",
    "payload"
   ]
  },
  {
   "cell_type": "code",
   "execution_count": null,
   "metadata": {
    "collapsed": false,
    "scrolled": false
   },
   "outputs": [],
   "source": [
    "\n",
    "payload_type"
   ]
  },
  {
   "cell_type": "code",
   "execution_count": null,
   "metadata": {
    "collapsed": false
   },
   "outputs": [],
   "source": [
    "time=payload[6:8].view(np.uint16)\n",
    "time"
   ]
  },
  {
   "cell_type": "code",
   "execution_count": null,
   "metadata": {
    "collapsed": false
   },
   "outputs": [],
   "source": [
    "\n",
    "peaks"
   ]
  },
  {
   "cell_type": "code",
   "execution_count": null,
   "metadata": {
    "collapsed": false
   },
   "outputs": [],
   "source": [
    "payload[4+8:6+8]"
   ]
  },
  {
   "cell_type": "code",
   "execution_count": null,
   "metadata": {
    "collapsed": false
   },
   "outputs": [],
   "source": [
    "%matplotlib notebook\n",
    "fig=simplt.plot_pulse(1,data)"
   ]
  },
  {
   "cell_type": "code",
   "execution_count": null,
   "metadata": {
    "collapsed": false
   },
   "outputs": [],
   "source": [
    "fig._axstack.as_list()[0]"
   ]
  },
  {
   "cell_type": "code",
   "execution_count": null,
   "metadata": {
    "collapsed": false,
    "scrolled": true
   },
   "outputs": [],
   "source": [
    "tick"
   ]
  },
  {
   "cell_type": "code",
   "execution_count": null,
   "metadata": {
    "collapsed": false
   },
   "outputs": [],
   "source": [
    "ticks"
   ]
  },
  {
   "cell_type": "code",
   "execution_count": null,
   "metadata": {
    "collapsed": false
   },
   "outputs": [],
   "source": [
    "window_start"
   ]
  },
  {
   "cell_type": "code",
   "execution_count": null,
   "metadata": {
    "collapsed": false
   },
   "outputs": [],
   "source": [
    "tick_mask"
   ]
  },
  {
   "cell_type": "code",
   "execution_count": null,
   "metadata": {
    "collapsed": false
   },
   "outputs": [],
   "source": [
    "e._stream64[tick_mask]"
   ]
  },
  {
   "cell_type": "code",
   "execution_count": null,
   "metadata": {
    "collapsed": false
   },
   "outputs": [],
   "source": [
    "type_flags[~tick_mask]"
   ]
  },
  {
   "cell_type": "code",
   "execution_count": null,
   "metadata": {
    "collapsed": false
   },
   "outputs": [],
   "source": [
    "type_flags = np.bitwise_and(events['flags'],0x000f)\n",
    "peak_num = np.right_shift(np.bitwise_and(events['flags'],0x00f0),4)\n",
    "channel = np.right_shift(np.bitwise_and(events['flags'],0x0f00),8)\n",
    "event_type = np.right_shift(np.bitwise_and(events['flags'],0x3000),12)\n",
    "tick=np.bitwise_and(type_flags,0x0002)"
   ]
  },
  {
   "cell_type": "code",
   "execution_count": null,
   "metadata": {
    "collapsed": false
   },
   "outputs": [],
   "source": [
    "ticks"
   ]
  },
  {
   "cell_type": "code",
   "execution_count": null,
   "metadata": {
    "collapsed": false
   },
   "outputs": [],
   "source": []
  },
  {
   "cell_type": "code",
   "execution_count": null,
   "metadata": {
    "collapsed": false
   },
   "outputs": [],
   "source": [
    "tick_mask"
   ]
  },
  {
   "cell_type": "code",
   "execution_count": null,
   "metadata": {
    "collapsed": false
   },
   "outputs": [],
   "source": [
    "events[tick_mask]"
   ]
  },
  {
   "cell_type": "code",
   "execution_count": null,
   "metadata": {
    "collapsed": false
   },
   "outputs": [],
   "source": [
    "time=np.bitwise_and(events[~tick_mask]['time'],0x7fff)\n",
    "c_start=np.bitwise_and(events[~tick_mask]['time'],0x8000)!=0"
   ]
  },
  {
   "cell_type": "code",
   "execution_count": null,
   "metadata": {
    "collapsed": false
   },
   "outputs": [],
   "source": [
    "events[tick_mask]['time']"
   ]
  },
  {
   "cell_type": "code",
   "execution_count": null,
   "metadata": {
    "collapsed": false
   },
   "outputs": [],
   "source": [
    "time"
   ]
  },
  {
   "cell_type": "code",
   "execution_count": null,
   "metadata": {
    "collapsed": false
   },
   "outputs": [],
   "source": [
    "np.binary_repr(time[0],width=16)"
   ]
  },
  {
   "cell_type": "code",
   "execution_count": null,
   "metadata": {
    "collapsed": false
   },
   "outputs": [],
   "source": [
    "events[~tick_mask]['min']"
   ]
  },
  {
   "cell_type": "code",
   "execution_count": null,
   "metadata": {
    "collapsed": false
   },
   "outputs": [],
   "source": [
    "events[~tick_mask]['height']"
   ]
  },
  {
   "cell_type": "code",
   "execution_count": null,
   "metadata": {
    "collapsed": false
   },
   "outputs": [],
   "source": [
    "%matplotlib notebook\n",
    "fig = simplt.plot_pulse(1,data,pre=500,length=3000)\n"
   ]
  },
  {
   "cell_type": "code",
   "execution_count": null,
   "metadata": {
    "collapsed": true
   },
   "outputs": [],
   "source": [
    "import pickle\n",
    "\n",
    "# An arbitrary collection of objects supported by pickle.\n",
    "\n",
    "pickler = pickle.Pickler(open('long.pickle', 'wb'),pickle.HIGHEST_PROTOCOL)\n",
    "pickler.dump(data)\n"
   ]
  },
  {
   "cell_type": "code",
   "execution_count": null,
   "metadata": {
    "collapsed": true
   },
   "outputs": [],
   "source": [
    "unpickler = pickle.Unpickler(open('long.pickle', 'rb'))\n",
    "reg2=unpickler.load()\n",
    "data2=unpickler.load()"
   ]
  },
  {
   "cell_type": "code",
   "execution_count": null,
   "metadata": {
    "collapsed": false
   },
   "outputs": [],
   "source": [
    "data2.trace['slope']"
   ]
  },
  {
   "cell_type": "code",
   "execution_count": null,
   "metadata": {
    "collapsed": false
   },
   "outputs": [],
   "source": [
    "reg2"
   ]
  },
  {
   "cell_type": "code",
   "execution_count": null,
   "metadata": {
    "collapsed": false,
    "scrolled": false
   },
   "outputs": [],
   "source": [
    "axs = fig.get_axes()\n",
    "pax=axs[0].parasites\n",
    "pax[0]._label\n",
    "f_ins_ax=axs[1]\n",
    "s_ins_ax=f_ins_ax.parasites[0]"
   ]
  },
  {
   "cell_type": "code",
   "execution_count": null,
   "metadata": {
    "collapsed": false,
    "scrolled": false
   },
   "outputs": [],
   "source": [
    "es=sim.Data.fromfile('eventstream',np.int32,'teslib','measurement_unit_TB')"
   ]
  },
  {
   "cell_type": "code",
   "execution_count": null,
   "metadata": {
    "collapsed": false
   },
   "outputs": [],
   "source": [
    "es"
   ]
  },
  {
   "cell_type": "code",
   "execution_count": null,
   "metadata": {
    "collapsed": false
   },
   "outputs": [],
   "source": [
    "data.peak[-1]"
   ]
  },
  {
   "cell_type": "code",
   "execution_count": null,
   "metadata": {
    "collapsed": false
   },
   "outputs": [],
   "source": [
    "s.peak"
   ]
  },
  {
   "cell_type": "code",
   "execution_count": null,
   "metadata": {
    "collapsed": false
   },
   "outputs": [],
   "source": [
    "isinstance(r,sim.DataRegion)"
   ]
  },
  {
   "cell_type": "code",
   "execution_count": null,
   "metadata": {
    "collapsed": false
   },
   "outputs": [],
   "source": [
    "r.peak"
   ]
  },
  {
   "cell_type": "code",
   "execution_count": null,
   "metadata": {
    "collapsed": false
   },
   "outputs": [],
   "source": [
    "i"
   ]
  },
  {
   "cell_type": "code",
   "execution_count": null,
   "metadata": {
    "collapsed": false
   },
   "outputs": [],
   "source": [
    "%matplotlib notebook\n",
    "import matplotlib.pyplot as plt\n",
    "\n",
    "plt.plot(data.trace['filtered'])"
   ]
  },
  {
   "cell_type": "code",
   "execution_count": null,
   "metadata": {
    "collapsed": false
   },
   "outputs": [],
   "source": [
    "ax=plt.gca()\n",
    "t=ax.transData\n",
    "t.transform([[0.1,0.2],[1,3]])"
   ]
  },
  {
   "cell_type": "code",
   "execution_count": null,
   "metadata": {
    "collapsed": true
   },
   "outputs": [],
   "source": [
    "x=np.array([0,1,2,3])\n",
    "y=np.array([3,4,5,6])\n",
    "\n",
    "xy=np.empty(shape=(4,2))"
   ]
  },
  {
   "cell_type": "code",
   "execution_count": null,
   "metadata": {
    "collapsed": false
   },
   "outputs": [],
   "source": [
    "xy[:,0]=x\n",
    "xy[:,1]=y\n",
    "t.transform(xy)"
   ]
  },
  {
   "cell_type": "code",
   "execution_count": null,
   "metadata": {
    "collapsed": true
   },
   "outputs": [],
   "source": []
  },
  {
   "cell_type": "code",
   "execution_count": null,
   "metadata": {
    "collapsed": false
   },
   "outputs": [],
   "source": [
    "# run to import isim data files\n",
    "\n",
    "import numpy as np\n",
    "import os\n",
    "import matplotlib.pyplot as plt\n",
    "import math\n",
    "from enum import Enum\n",
    "\n",
    "plt.rcParams[\"figure.figsize\"]=[800./80,600./80]\n",
    "\n",
    "repo='c:\\\\TES_project\\\\fpga_ise\\\\'\n",
    "project='teslib'\n",
    "testbench='measurement_unit_TB'\n",
    "datafile='traces'\n",
    "path=repo+project+'\\\\PlanAhead\\\\'+project+'.sim\\\\'+testbench+'\\\\'\n",
    "\n",
    "traces_dt = np.dtype([('input', np.int32),('raw',np.int32),('filtered',np.int32),('slope',np.int32)])\n",
    "traces=np.fromfile(path+'traces',traces_dt)\n",
    "trigger=np.fromfile(path+'triggers',np.int32)\n",
    "settings=np.fromfile(path+'settings',np.int32)\n",
    "cfd_low=np.fromfile(path+'cfdlow',np.int32)\n",
    "cfd_high=np.fromfile(path+'cfdhigh',np.int32)\n",
    "peaks=np.fromfile(path+'peaks',np.int32)\n",
    "peaks.shape=(-1,2)\n",
    "peak_starts=np.fromfile(path+'peak_starts',np.int32)\n",
    "#peak_starts.shape=(-1,2)\n",
    "pulse_starts=np.fromfile(path+'peak_starts',np.int32)\n",
    "settings=np.fromfile(path+'settings',np.int32)\n",
    "cfd_low=np.fromfile(path+'cfdlow',np.int32)\n",
    "cfd_high=np.fromfile(path+'cfdhigh',np.int32)\n",
    "slope_xing=np.fromfile(path+'slopethreshxings',np.int32)\n"
   ]
  },
  {
   "cell_type": "code",
   "execution_count": null,
   "metadata": {
    "collapsed": false
   },
   "outputs": [],
   "source": [
    "settings[13]"
   ]
  },
  {
   "cell_type": "code",
   "execution_count": null,
   "metadata": {
    "collapsed": false
   },
   "outputs": [],
   "source": [
    "#create register dict from settings array\n",
    "\n",
    "class height_type(Enum):\n",
    "    def from_int(value):\n",
    "        if value == 0:\n",
    "            return height_type.peak_height\n",
    "        elif value == 1:\n",
    "            return height_type.cfd_high\n",
    "        elif value == 2:\n",
    "            return height_type.slope_integral\n",
    "        else:\n",
    "            raise AttributeError()\n",
    "    peak_height=0\n",
    "    cfd_high=1\n",
    "    slope_integral=2\n",
    "\n",
    "class trigger_type(Enum):\n",
    "    def from_int(value):\n",
    "        if value == 0:\n",
    "            return trigger_type.pulse_threshold\n",
    "        elif value == 1:\n",
    "            return trigger_type.slope_threshold\n",
    "        elif value == 2:\n",
    "            return trigger_type.cfd_low\n",
    "        else:\n",
    "            raise AttributeError()\n",
    "    pulse_threshold=0\n",
    "    slope_threshold=1\n",
    "    cfd_low=2\n",
    "\n",
    "class event_type(Enum):\n",
    "    def from_int(value):\n",
    "        if value == 0:\n",
    "            return event_type.peak\n",
    "        elif value == 1:\n",
    "            return event_type.area\n",
    "        elif value == 2:\n",
    "            return event_type.pulse\n",
    "        elif value == 3:\n",
    "            return event_type.trace\n",
    "        else:\n",
    "            raise AttributeError()\n",
    "    peak=0\n",
    "    area=1\n",
    "    pulse=2\n",
    "    trace=3\n",
    "\n",
    "\n",
    "def read_registers(settings):\n",
    "    registers = dict()\n",
    "    registers['baseline'] = dict()\n",
    "    registers['baseline']['offset'] = settings[0]\n",
    "    registers['baseline']['subtraction'] = settings[1]!=0\n",
    "    registers['baseline']['timeconstant'] = settings[2]\n",
    "    registers['baseline']['threshold'] = settings[3]\n",
    "    registers['baseline']['count_threshold'] = settings[4]\n",
    "    registers['generic'] = dict()\n",
    "    registers['baseline']['average_order'] = settings[5]\n",
    "    registers['capture'] = dict()\n",
    "    registers['capture']['cfd_relative'] = settings[6]!=0\n",
    "    registers['capture']['constant_fraction'] = settings[7]\n",
    "    registers['capture']['pulse_threshold'] = settings[8]\n",
    "    registers['capture']['slope_threshold'] = settings[9]\n",
    "    registers['capture']['pulse_area_threshold'] = settings[10]\n",
    "    registers['capture']['height_type'] = height_type.from_int(settings[11])\n",
    "    registers['capture']['threshold_rel2min'] = settings[12]!=0\n",
    "    registers['capture']['trigger_type'] = trigger_type.from_int(settings[13])\n",
    "    registers['capture']['event_type'] = event_type.from_int(settings[14])\n",
    "    return registers\n"
   ]
  },
  {
   "cell_type": "code",
   "execution_count": null,
   "metadata": {
    "collapsed": false
   },
   "outputs": [],
   "source": [
    "%matplotlib notebook\n",
    "x=np.arange(len(traces['filtered']))\n",
    "fig=plt.figure()\n",
    "\n",
    "ax=fig.add_axes([0.15,0.1,0.8,0.8])\n",
    "mV=1.0/math.pow(2,14)*1000\n",
    "nS=4\n",
    "\n",
    "\n",
    "i_trace, =ax.step(x*nS/1000000,(traces['input']+1800)*mV*2,'k',label='raw input')\n",
    "f_trace, =ax.step(x*nS/1000000,traces['filtered']*mV,'b',label='processed')\n",
    "fig.suptitle('Digital Signal Processing',fontsize=24)\n",
    "plt.xlabel('time (ms)',fontsize=18)\n",
    "plt.ylabel('Voltage (mV)',fontsize=18)\n",
    "plt.legend(handles=[i_trace,f_trace])\n",
    "\n",
    "fig.savefig('trace.png')\n",
    "plt.show()"
   ]
  },
  {
   "cell_type": "code",
   "execution_count": null,
   "metadata": {
    "collapsed": true
   },
   "outputs": [],
   "source": []
  },
  {
   "cell_type": "code",
   "execution_count": null,
   "metadata": {
    "collapsed": false
   },
   "outputs": [],
   "source": [
    "%matplotlib notebook\n",
    "import math\n",
    "\n",
    "def align_yaxis(ax1, v1, ax2, v2):\n",
    "    \"\"\"adjust ax2 ylimit so that v2 in ax2 is aligned to v1 in ax1\"\"\"\n",
    "    _, y1 = ax1.transData.transform((0, v1))\n",
    "    _, y2 = ax2.transData.transform((0, v2))\n",
    "    adjust_yaxis(ax2,(y1-y2)/2,v2)\n",
    "    adjust_yaxis(ax1,(y2-y1)/2,v1)\n",
    "\n",
    "def adjust_yaxis(ax,ydif,v):\n",
    "    \"\"\"shift axis ax by ydiff, maintaining point v at the same location\"\"\"\n",
    "    inv = ax.transData.inverted()\n",
    "    _, dy = inv.transform((0, 0)) - inv.transform((0, ydif))\n",
    "    miny, maxy = ax.get_ylim()\n",
    "    miny, maxy = miny - v, maxy - v\n",
    "    if -miny>maxy or (-miny==maxy and dy > 0):\n",
    "        nminy = miny\n",
    "        nmaxy = miny*(maxy+dy)/(miny+dy)\n",
    "    else:\n",
    "        nmaxy = maxy\n",
    "        nminy = maxy*(miny+dy)/(maxy+dy)\n",
    "    ax.set_ylim(nminy+v, nmaxy+v)\n",
    "    \n",
    "x=np.arange(len(traces['filtered']))\n",
    "fig=plt.figure()\n",
    "ax=fig.add_axes([0.1,0.1,0.8,0.8])\n",
    "plt.ylim(-10,120)\n",
    "v=math.pow(2,13)/1000\n",
    "t=x*4\n",
    "ax.plot([0,t[-1]],[0,0],'k')\n",
    "raw, = ax.step(t,traces['raw']/2/v,'k',lw=1,label='raw')\n",
    "processed, = ax.step(t,traces['filtered']/2/v,'r',lw=2,label='processed')\n",
    "ax.plot(trigger,traces['filtered'][trigger+1]/2,'kx')\n",
    "ax.plot(peaks[:,0],traces['filtered'][peaks[:,0]+1]/2,'ro')\n",
    "ax.plot(peak_starts,traces['filtered'][peak_starts+1]/2,'ro')\n",
    "ax.plot(cfd_high,traces['filtered'][cfd_high+1]/2,'bs')\n",
    "ax.plot(cfd_low,traces['filtered'][cfd_low+1]/2,'bs')\n",
    "plt.xlabel('time (ns)',fontsize=18)\n",
    "plt.ylabel('Voltage (mV)',fontsize=18,color='r')\n",
    "\n",
    "ax2=ax.twinx()\n",
    "slope, = ax2.step(t,traces['slope']/256/v/4,'b',lw=2,label='slope')\n",
    "plt.xlim([1292000,1297500])\n",
    "plt.ylim(-0.2,1)\n",
    "align_yaxis(ax,0,ax2,0)\n",
    "plt.ylabel('slope (mV/ns)',color='b',fontsize=18)\n",
    "fig.suptitle('Digital signal processing',fontsize=24)\n",
    "plt.legend(handles=[raw,processed,slope])\n",
    "fig.savefig('dsp.png')\n",
    "plt.show()"
   ]
  },
  {
   "cell_type": "code",
   "execution_count": null,
   "metadata": {
    "collapsed": false
   },
   "outputs": [],
   "source": [
    "%matplotlib notebook\n",
    "\n",
    "#plot pulse\n",
    "from mpl_toolkits.axes_grid1 import host_subplot\n",
    "from mpl_toolkits.axes_grid1.inset_locator import zoomed_inset_axes\n",
    "from mpl_toolkits.axes_grid1.inset_locator import mark_inset\n",
    "\n",
    "pulse=7\n",
    "length=2000\n",
    "pre=100\n",
    "\n",
    "def align_yaxis(ax1, v1, ax2, v2):\n",
    "    \"\"\"adjust ax2 ylimit so that v2 in ax2 is aligned to v1 in ax1\"\"\"\n",
    "    _, y1 = ax1.transData.transform((0, v1))\n",
    "    _, y2 = ax2.transData.transform((0, v2))\n",
    "    adjust_yaxis(ax2,(y1-y2)/2,v2)\n",
    "    adjust_yaxis(ax1,(y2-y1)/2,v1)\n",
    "\n",
    "def adjust_yaxis(ax,ydif,v):\n",
    "    \"\"\"shift axis ax by ydiff, maintaining point v at the same location\"\"\"\n",
    "    inv = ax.transData.inverted()\n",
    "    _, dy = inv.transform((0, 0)) - inv.transform((0, ydif))\n",
    "    miny, maxy = ax.get_ylim()\n",
    "    miny, maxy = miny - v, maxy - v\n",
    "    if -miny>maxy or (-miny==maxy and dy > 0):\n",
    "        nminy = miny\n",
    "        nmaxy = miny*(maxy+dy)/(miny+dy)\n",
    "    else:\n",
    "        nmaxy = maxy\n",
    "        nminy = maxy*(miny+dy)/(maxy+dy)\n",
    "    ax.set_ylim(nminy+v, nmaxy+v)\n",
    "    \n",
    "start=pulse_starts[pulse]-pre\n",
    "stop=start+length\n",
    "x=np.arange(0,len(traces['filtered']))\n",
    "fig=plt.figure()\n",
    "\n",
    "f_ax = host_subplot(111)\n",
    "s_ax = f_ax.twinx()\n",
    "\n",
    "f_ax.set_xlabel(\"Time (ns)\",fontsize=18)\n",
    "f_ax.set_ylabel(\"Voltage (mV)\",fontsize=18,color='r')\n",
    "s_ax.set_ylabel(\"Slope (mv/ns)\",fontsize=18,color='b')\n",
    "\n",
    "mV=1.0/math.pow(2,14)*1000\n",
    "nS=4\n",
    "t=x*nS\n",
    "\n",
    "f_sig = traces['filtered']*mV\n",
    "s_sig = traces['slope']*mV/nS\n",
    "\n",
    "f_ax.plot([t[start],t[stop]],[0,0],'k') # zero line\n",
    "f_trace, = f_ax.step(t[start:stop],f_sig[start:stop],'r',lw=2,label='processed')\n",
    "f_ax.set_ylim(-10,180)\n",
    "\n",
    "s_trace, = s_ax.step(t[start:stop],s_sig[start:stop],'b',lw=1,label='slope')\n",
    "s_ax.set_ylim(-15,50)\n",
    "#s_threshold = 6\n",
    "#s_ax.set_yticks(np.concatenate((s_ax.get_yticks(),[s_threshold])))\n",
    "#labels=[label.get_text() for label in s_ax.get_yticklabels()]\n",
    "#labels[6]='Threshold'\n",
    "\n",
    "#s_ax.set_yticklabels(labels)\n",
    "plt.xlim(t[start],t[stop])\n",
    "align_yaxis(f_ax,0,s_ax,0)\n",
    "fig.suptitle('Measurement:First pass',fontsize=24)\n",
    "#plt.legend(handles=[f_trace,s_trace])\n",
    "\n",
    "starts_mask = np.logical_and(peak_starts >= start,peak_starts <= stop)\n",
    "peaks_mask = np.logical_and(peaks[:,0] >= start, peaks[:,0] <= stop)\n",
    "peak_starts_inwin = peak_starts[starts_mask]\n",
    "\n",
    "for pstart in peak_starts_inwin:\n",
    "    peak_start_t=t[pstart]-2\n",
    "    peak_start_f=f_sig[pstart]\n",
    "    peak_start_s=s_sig[pstart]\n",
    "\n",
    "    f_ax.plot(peak_start_t,peak_start_f,'ro')\n",
    "    s_ax.plot(peak_start_t,peak_start_s,'bo')\n",
    "    \n",
    "    f_trans = f_ax.transData\n",
    "    s_trans = s_ax.transData.inverted()\n",
    "    trans = s_trans+f_trans\n",
    "    f_point=f_trans.transform((peak_start_t,peak_start_f))\n",
    "    s_point=s_trans.transform((f_point[0],f_point[1]))\n",
    "\n",
    "    s_ax.plot([peak_start_t,peak_start_t],[peak_start_s, s_point[1]],'k')\n",
    "\n",
    "#for p in peaks[0][peaks_inwin]\n",
    "peaks_inwin = peaks[peaks_mask,0]\n",
    "for p in peaks_inwin:\n",
    "    peak_t=t[p]-2\n",
    "    peak_f=f_sig[p]\n",
    "    peak_s=s_sig[p]\n",
    "\n",
    "    f_ax.plot(peak_t,peak_f,'ro')\n",
    "    s_ax.plot(peak_t,peak_s,'bo')\n",
    "    \n",
    "    f_trans = f_ax.transData\n",
    "    s_trans = s_ax.transData.inverted()\n",
    "    trans = s_trans+f_trans\n",
    "    f_point=f_trans.transform((peak_t,peak_f))\n",
    "    s_point=s_trans.transform((f_point[0],f_point[1]))\n",
    "\n",
    "    s_ax.plot([peak_t,peak_t],[peak_s, s_point[1]],'k')\n",
    "\n",
    "ins_start = peak_starts_inwin[0]-5\n",
    "ins_stop = peak_starts_inwin[0]+5\n",
    "f_ins_ax = zoomed_inset_axes(f_ax, 50, loc=1)  # zoom = 6\n",
    "f_ins_ax.step(t[ins_start:ins_stop],f_sig[ins_start:ins_stop],'r')\n",
    "f_ins_ax.set_ylim(-0.5,2)\n",
    "f_ins_ax.set_xlim(ins_start,ins_stop)\n",
    "f_ins_ax.set_yticks([])\n",
    "f_ins_ax.set_xticks([])\n",
    "\n",
    "f_ins_ax.plot([t[ins_start],t[ins_stop]],[0,0],'k') # zero line\n",
    "\n",
    "#plt.xticks(visible=False)\n",
    "#plt.yticks(visible=False)\n",
    "mark_inset(f_ax, f_ins_ax, loc1=2, loc2=4, fc=\"none\", ec=\"0.5\")\n",
    "\n",
    "s_ins_ax = f_ins_ax.twinx()\n",
    "s_ins_ax.set_yticks([])\n",
    "s_ins_ax.set_xticks([])\n",
    "\n",
    "s_ins_ax.step(t[ins_start:ins_stop],s_sig[ins_start:ins_stop],'b')\n",
    "\n",
    "s_ins_ax.set_ylim(-1,1)\n",
    "align_yaxis(f_ins_ax,0,s_ins_ax,0)\n",
    "\n",
    "pstart = peak_starts_inwin[0]\n",
    "peak_start_t=t[pstart]-2\n",
    "peak_start_f=f_sig[pstart]\n",
    "peak_start_s=s_sig[pstart]\n",
    "\n",
    "f_ins_ax.plot(peak_start_t,peak_start_f,'ro')\n",
    "s_ins_ax.plot(peak_start_t,peak_start_s,'bo')\n",
    "    \n",
    "f_trans = f_ins_ax.transData\n",
    "s_trans = s_ins_ax.transData.inverted()\n",
    "trans = s_trans+f_trans\n",
    "f_point=f_trans.transform((peak_start_t,peak_start_f))\n",
    "s_point=s_trans.transform((f_point[0],f_point[1]))\n",
    "\n",
    "s_ins_ax.plot([peak_start_t,peak_start_t],[peak_start_s, s_point[1]],'k')\n",
    "\n",
    "s_ax.plot([t[start],t[stop]],[s_threshold,s_threshold],ls='dashed')\n",
    "\n",
    "fig.savefig('measurement1.png')\n",
    "plt.draw()\n",
    "plt.show()"
   ]
  },
  {
   "cell_type": "code",
   "execution_count": null,
   "metadata": {
    "collapsed": false
   },
   "outputs": [],
   "source": [
    "%matplotlib notebook\n",
    "from mpl_toolkits.axes_grid1 import host_subplot\n",
    "from mpl_toolkits.axes_grid1.inset_locator import zoomed_inset_axes\n",
    "from mpl_toolkits.axes_grid1.inset_locator import mark_inset\n",
    "\n",
    "pulse=7\n",
    "length=2000\n",
    "pre=100\n",
    "\n",
    "def align_yaxis(ax1, v1, ax2, v2):\n",
    "    \"\"\"adjust ax2 ylimit so that v2 in ax2 is aligned to v1 in ax1\"\"\"\n",
    "    _, y1 = ax1.transData.transform((0, v1))\n",
    "    _, y2 = ax2.transData.transform((0, v2))\n",
    "    adjust_yaxis(ax2,(y1-y2)/2,v2)\n",
    "    adjust_yaxis(ax1,(y2-y1)/2,v1)\n",
    "\n",
    "def adjust_yaxis(ax,ydif,v):\n",
    "    \"\"\"shift axis ax by ydiff, maintaining point v at the same location\"\"\"\n",
    "    inv = ax.transData.inverted()\n",
    "    _, dy = inv.transform((0, 0)) - inv.transform((0, ydif))\n",
    "    miny, maxy = ax.get_ylim()\n",
    "    miny, maxy = miny - v, maxy - v\n",
    "    if -miny>maxy or (-miny==maxy and dy > 0):\n",
    "        nminy = miny\n",
    "        nmaxy = miny*(maxy+dy)/(miny+dy)\n",
    "    else:\n",
    "        nmaxy = maxy\n",
    "        nminy = maxy*(miny+dy)/(maxy+dy)\n",
    "    ax.set_ylim(nminy+v, nmaxy+v)\n",
    "    \n",
    "start=pulse_starts[pulse]-pre\n",
    "stop=start+length\n",
    "x=np.arange(0,len(traces['filtered']))\n",
    "fig=plt.figure()\n",
    "\n",
    "f_ax = host_subplot(111)\n",
    "s_ax = f_ax.twinx()\n",
    "\n",
    "f_ax.set_xlabel(\"Time (ns)\",fontsize=18)\n",
    "f_ax.set_ylabel(\"Voltage (mV)\",fontsize=18,color='r')\n",
    "s_ax.set_ylabel(\"Slope (mv/ns)\",fontsize=18,color='b')\n",
    "\n",
    "mV=1.0/math.pow(2,14)*1000\n",
    "nS=4\n",
    "t=x*nS\n",
    "\n",
    "f_sig = traces['filtered']*mV\n",
    "s_sig = traces['slope']*mV/nS\n",
    "\n",
    "f_ax.plot([t[start],t[stop]],[0,0],'k') # zero line\n",
    "f_trace, = f_ax.step(t[start:stop],f_sig[start:stop],'r',lw=2,label='processed')\n",
    "f_ax.set_ylim(-10,180)\n",
    "\n",
    "s_trace, = s_ax.step(t[start:stop],s_sig[start:stop],'b',lw=1,label='slope')\n",
    "s_ax.set_ylim(-15,50)\n",
    "#s_threshold = 6\n",
    "#s_ax.set_yticks(np.concatenate((s_ax.get_yticks(),[s_threshold])))\n",
    "#labels=[label.get_text() for label in s_ax.get_yticklabels()]\n",
    "#labels[6]='Threshold'\n",
    "\n",
    "#s_ax.set_yticklabels(labels)\n",
    "plt.xlim(t[start],t[stop])\n",
    "align_yaxis(f_ax,0,s_ax,0)\n",
    "fig.suptitle('Measurement:Second pass',fontsize=24)\n",
    "#plt.legend(handles=[f_trace,s_trace])\n",
    "\n",
    "starts_mask = np.logical_and(peak_starts >= start,peak_starts <= stop)\n",
    "peaks_mask = np.logical_and(peaks[:,0] >= start, peaks[:,0] <= stop)\n",
    "peak_starts_inwin = peak_starts[starts_mask]\n",
    "\n",
    "\n",
    "#for pstart in peak_starts_inwin:\n",
    "#    peak_start_t=t[pstart]-2\n",
    "#    peak_start_f=f_sig[pstart]\n",
    "#    peak_start_s=s_sig[pstart]\n",
    "#\n",
    "#    f_ax.plot(peak_start_t,peak_start_f,'ro')\n",
    "#    s_ax.plot(peak_start_t,peak_start_s,'bo')\n",
    "    \n",
    "#    f_trans = f_ax.transData\n",
    "#    s_trans = s_ax.transData.inverted()\n",
    "#    trans = s_trans+f_trans\n",
    "#    f_point=f_trans.transform((peak_start_t,peak_start_f))\n",
    "#    s_point=s_trans.transform((f_point[0],f_point[1]))\n",
    "\n",
    "#    s_ax.plot([peak_start_t,peak_start_t],[peak_start_s, s_point[1]],'k')\n",
    "\n",
    "#for p in peaks[0][peaks_inwin]\n",
    "peaks_inwin = peaks[peaks_mask,0]\n",
    "x_s=peak_starts_inwin\n",
    "x_p=peaks_inwin\n",
    "y_s=f_sig[x_s]\n",
    "y_p=f_sig[x_p]\n",
    "\n",
    "f_ax.plot(t[peak_starts_inwin],f_sig[peak_starts_inwin],'or')\n",
    "f_ax.plot(t[peaks_inwin],f_sig[peaks_inwin],'or')\n",
    "\n",
    "\n",
    "f_ax.plot([t[x_s[0]],t[x_p[0]]],[y_s[0],y_s[0]],'k')\n",
    "f_ax.plot([t[x_p[0]],t[x_p[0]]],[y_s[0],y_p[0]],'k')\n",
    "\n",
    "f_ax.plot([t[x_s[1]],t[x_p[1]]],[y_s[1],y_s[1]],'k')\n",
    "f_ax.plot([t[x_p[1]],t[x_p[1]]],[y_s[1],y_p[1]],'k')\n",
    "\n",
    "\n",
    "#for p in peaks_inwin:\n",
    "#    peak_t=t[p]-2\n",
    "#    peak_f=f_sig[p]\n",
    "#    peak_s=s_sig[p]\n",
    "\n",
    "#    f_ax.plot(peak_t,peak_f,'ro')\n",
    "#    s_ax.plot(peak_t,peak_s,'bo')\n",
    "    \n",
    "#    f_trans = f_ax.transData\n",
    "#    s_trans = s_ax.transata.inverted()\n",
    "#    trans = s_trans+f_trans\n",
    "#    f_point=f_trans.transform((peak_t,peak_f))\n",
    "#    s_point=s_trans.transform((f_point[0],f_point[1]))\n",
    "\n",
    "#    s_ax.plot([peak_t,peak_t],[peak_s, s_point[1]],'k')\n",
    "\n",
    "ins_start = peak_starts_inwin[1]-300\n",
    "ins_stop = peak_starts_inwin[1]+500\n",
    "f_ins_ax = zoomed_inset_axes(f_ax, 1.5, loc=1)  # zoom = 6\n",
    "f_ins_ax.step(t[ins_start:ins_stop],f_sig[ins_start:ins_stop],'r')\n",
    "f_ins_ax.set_ylim(60,180)\n",
    "f_ins_ax.set_xlim(t[ins_start],t[ins_stop])\n",
    "f_ins_ax.set_yticks([])\n",
    "f_ins_ax.set_xticks([])\n",
    "\n",
    "low_mask = np.logical_and(cfd_low >= start, cfd_low <= stop)\n",
    "low_inwin = cfd_low[low_mask]\n",
    "high_mask = np.logical_and(cfd_high >= start, cfd_high <= stop)\n",
    "high_inwin = cfd_high[high_mask]\n",
    "thresh_mask = np.logical_and(slope_xing >= start, slope_xing <= stop)\n",
    "thresh_inwin = slope_xing[thresh_mask]\n",
    "\n",
    "f_ins_ax.plot(t[peak_starts_inwin],f_sig[peak_starts_inwin],'or')\n",
    "f_ins_ax.plot(t[peaks_inwin],f_sig[peaks_inwin],'or')\n",
    "\n",
    "f_ins_ax.plot(t[low_inwin],f_sig[low_inwin],'ok')\n",
    "f_ins_ax.plot(t[high_inwin],f_sig[high_inwin],'ok')\n",
    "f_ax.plot(t[low_inwin],f_sig[low_inwin],'ok')\n",
    "f_ax.plot(t[high_inwin],f_sig[high_inwin],'ok')\n",
    "#f_ax.plot(t[thresh_inwin],f_sig[thresh_inwin],'ow')\n",
    "f_ins_ax.plot(t[thresh_inwin],f_sig[thresh_inwin],'ow')\n",
    "\n",
    "\n",
    "f_ins_ax.plot([t[x_s[0]],t[x_p[0]]],[y_s[0],y_s[0]],'k')\n",
    "f_ins_ax.plot([t[x_p[0]],t[x_p[0]]],[y_s[0],y_p[0]],'k')\n",
    "\n",
    "f_ins_ax.plot([t[x_s[1]],t[x_p[1]]],[y_s[1],y_s[1]],'k')\n",
    "f_ins_ax.plot([t[x_p[1]],t[x_p[1]]],[y_s[1],y_p[1]],'k')\n",
    "\n",
    "#f_ins_ax.plot([t[ins_start],t[ins_stop]],[0,0],'k') # zero line\n",
    "\n",
    "#plt.xticks(visible=False)\n",
    "#plt.yticks(visible=False)\n",
    "#mark_inset(f_ax, f_ins_ax, loc1=2, loc2=4, fc=\"none\", ec=\"0.5\")\n",
    "\n",
    "pstart = peak_starts_inwin[1]\n",
    "peak_start_t=t[pstart]-2\n",
    "peak_start_f=f_sig[pstart]\n",
    "peak_start_s=s_sig[pstart]\n",
    "\n",
    "f_ins_ax.plot(peak_start_t,peak_start_f,'ro')\n",
    "\n",
    "\n",
    "f_trans = f_ins_ax.transData\n",
    "s_trans = s_ins_ax.transData.inverted()\n",
    "trans = s_trans+f_trans\n",
    "f_point=f_trans.transform((peak_start_t,peak_start_f))\n",
    "s_point=s_trans.transform((f_point[0],f_point[1]))\n",
    "\n",
    "s_ins_ax.plot([peak_start_t,peak_start_t],[peak_start_s, s_point[1]],'k')\n",
    "\n",
    "s_ax.plot([t[start],t[stop]],[s_threshold,s_threshold],ls='dashed')\n",
    "\n",
    "fig.savefig('measurement2.png')\n",
    "plt.draw()\n",
    "plt.show()"
   ]
  },
  {
   "cell_type": "code",
   "execution_count": null,
   "metadata": {
    "collapsed": false
   },
   "outputs": [],
   "source": [
    "from mpl_toolkits.axes_grid1.inset_locator import inset_axes\n",
    "\n",
    "fig=plt.figure()\n",
    "fig.suptitle('Multi Channel Analyser',fontsize=24)\n",
    "\n",
    "h_ax = host_subplot(111)\n",
    "\n",
    "h_ins_ax = inset_axes(h_ax, width=\"80%\",height=1., loc=1)  # zoom = 6\n",
    "h_ins_ax.set_xlim(-25,160)\n",
    "h_ins_ax.set_ylim(0,0.002)\n",
    "h_ax.hist((traces['input']+200)*2*mV,math.pow(2,14),normed=1,facecolor='k',edgecolor='k')\n",
    "h_ax.hist(f_sig,math.pow(2,14),normed=1,facecolor='r',edgecolor='r')\n",
    "h_ins_ax.hist(f_sig,math.pow(2,14),normed=1,facecolor='r',edgecolor='r')\n",
    "h_ins_ax.set_xticks([])\n",
    "h_ins_ax.set_yticks([])\n",
    "h_ax.set_xlim(-30,100)\n",
    "h_ax.set_ylim(0,0.8)\n",
    "\n",
    "mark_inset(h_ax, h_ins_ax, loc1=2, loc2=4, fc=\"none\", ec=\"0.5\")\n",
    "\n",
    "h_ax.set_xlabel('Voltage (mV)')\n",
    "h_ax.set_ylabel('Probability')\n",
    "fig.savefig('hist.png')\n",
    "plt.show()"
   ]
  },
  {
   "cell_type": "code",
   "execution_count": null,
   "metadata": {
    "collapsed": true
   },
   "outputs": [],
   "source": [
    "peak_dt=np.dtype([('time',np.uint16),('flags',np.uint16),('minima',np.uint16),('height',np.uint16)])"
   ]
  },
  {
   "cell_type": "code",
   "execution_count": null,
   "metadata": {
    "collapsed": true
   },
   "outputs": [],
   "source": [
    "area_dt=np.dtype([('time',np.uint16),('flags',np.uint16),('area',np.uint32)])"
   ]
  },
  {
   "cell_type": "code",
   "execution_count": null,
   "metadata": {
    "collapsed": true
   },
   "outputs": [],
   "source": [
    "pulse_peak_dt=np.dtype([('trigger',np.uint16),('rise',np.uint16),('minima',np.uint16),('height',np.uint16)])\n",
    "pulse_header_dt=np.dtype([('time',np.uint16),('flags',np.uint16),('res1',np.uint16),('size',np.uint16),\n",
    "                    ('length',np.uint16),('res2',np.uint16),('area',np.int32)])"
   ]
  },
  {
   "cell_type": "code",
   "execution_count": null,
   "metadata": {
    "collapsed": false
   },
   "outputs": [],
   "source": [
    "pulse2_dt=np.dtype([('time',np.uint16),('flags',np.uint16),('res1',np.uint16),('size',np.uint16),\n",
    "                    ('length',np.uint16),('res2',np.uint16),('area',np.int32),\n",
    "                    ('trigger0',np.uint16),('rise0',np.uint16),('minima0',np.uint16),('height0',np.uint16),\n",
    "                    ('trigger1',np.uint16),('rise1',np.uint16),('minima1',np.uint16),('height1',np.uint16)])"
   ]
  },
  {
   "cell_type": "code",
   "execution_count": null,
   "metadata": {
    "collapsed": false
   },
   "outputs": [],
   "source": [
    "pulse2_subarray_dt=np.dtype([('header',pulse_header_dt,('peaks', (pulse_peak_dt,(1,2)) ))])"
   ]
  },
  {
   "cell_type": "code",
   "execution_count": null,
   "metadata": {
    "collapsed": true
   },
   "outputs": [],
   "source": [
    "eventstream=np.fromfile(path+'eventstream',peak_dt)"
   ]
  },
  {
   "cell_type": "code",
   "execution_count": null,
   "metadata": {
    "collapsed": true
   },
   "outputs": [],
   "source": [
    "eventstream=np.fromfile(path+'eventstream',area_dt)"
   ]
  },
  {
   "cell_type": "code",
   "execution_count": null,
   "metadata": {
    "collapsed": true
   },
   "outputs": [],
   "source": [
    "eventstream=np.fromfile(path+'eventstream',pulse2_dt)"
   ]
  },
  {
   "cell_type": "code",
   "execution_count": null,
   "metadata": {
    "collapsed": false
   },
   "outputs": [],
   "source": [
    "eventstream"
   ]
  },
  {
   "cell_type": "code",
   "execution_count": null,
   "metadata": {
    "collapsed": false
   },
   "outputs": [],
   "source": [
    "flags=eventstream['flags']\n",
    "print(np.binary_repr(flags[0],16))"
   ]
  },
  {
   "cell_type": "code",
   "execution_count": null,
   "metadata": {
    "collapsed": false
   },
   "outputs": [],
   "source": [
    "print(\"flags:{:016b}\\nsize:{}\\nlength:{}\\narea:{}\\ntrigger:{} rise:{} minima:{} height:{}\\ntrigger:{} rise:{} minima:{} height:{}\\n\"  \n",
    "      .format(eventstream['flags'][0],eventstream['size'][0],eventstream['length'][0],eventstream['area'][0],\n",
    "        eventstream['trigger0'][0],eventstream['rise0'][0],eventstream['minima0'][0],eventstream['height0'][0],\n",
    "        eventstream['trigger1'][0],eventstream['rise1'][0],eventstream['minima1'][0],eventstream['height1'][0]))"
   ]
  },
  {
   "cell_type": "code",
   "execution_count": null,
   "metadata": {
    "collapsed": false
   },
   "outputs": [],
   "source": [
    "print(np.binary_repr(flags[1],16))"
   ]
  },
  {
   "cell_type": "code",
   "execution_count": null,
   "metadata": {
    "collapsed": true
   },
   "outputs": [],
   "source": [
    "rel_to_min=np.right_shift(np.bitwise_and(flags,0x8000),15).astype(np.bool)\n",
    "channel=np.right_shift(np.bitwise_and(flags,0x0F00),8).astype(np.uint8)\n",
    "threshold_rel2min=np.right_shift(np.bitwise_and(flags,0x4000),14).astype(np.bool)\n",
    "peak_count=np.right_shift(np.bitwise_and(flags,0x00F0),4).astype(np.uint8)\n",
    "tick=np.bitwise_and(flags,0x0001).astype(bool)\n",
    "area=np.right_shift(np.bitwise_and(flags,0x0002),1).astype(np.bool)\n",
    "trace=np.right_shift(np.bitwise_and(flags,0x0004),2).astype(np.bool)\n",
    "fixed=np.right_shift(np.bitwise_and(flags,0x0008),3).astype(np.bool)\n",
    "event_type=np.right_shift(np.bitwise_and(flags,0x3000),12).astype(np.uint8)"
   ]
  },
  {
   "cell_type": "code",
   "execution_count": null,
   "metadata": {
    "collapsed": false
   },
   "outputs": [],
   "source": [
    "flags"
   ]
  },
  {
   "cell_type": "code",
   "execution_count": null,
   "metadata": {
    "collapsed": false
   },
   "outputs": [],
   "source": [
    "eventstream"
   ]
  },
  {
   "cell_type": "code",
   "execution_count": null,
   "metadata": {
    "collapsed": true
   },
   "outputs": [],
   "source": []
  },
  {
   "cell_type": "code",
   "execution_count": null,
   "metadata": {
    "collapsed": true
   },
   "outputs": [],
   "source": []
  }
 ],
 "metadata": {
  "kernelspec": {
   "display_name": "Python 3",
   "language": "python",
   "name": "python3"
  },
  "language_info": {
   "codemirror_mode": {
    "name": "ipython",
    "version": 3
   },
   "file_extension": ".py",
   "mimetype": "text/x-python",
   "name": "python",
   "nbconvert_exporter": "python",
   "pygments_lexer": "ipython3",
   "version": "3.5.1"
  }
 },
 "nbformat": 4,
 "nbformat_minor": 0
}
