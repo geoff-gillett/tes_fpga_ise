{
 "cells": [
  {
   "cell_type": "markdown",
   "metadata": {},
   "source": [
    "timestamp 0 => clk 20\n",
    "\n",
    "traces start at clk 1"
   ]
  },
  {
   "cell_type": "code",
   "execution_count": null,
   "metadata": {
    "collapsed": false,
    "run_control": {
     "frozen": false,
     "read_only": false
    }
   },
   "outputs": [],
   "source": [
    "#Mac\n",
    "import sys\n",
    "sys.path.append('../../../../interface/python')"
   ]
  },
  {
   "cell_type": "code",
   "execution_count": 1,
   "metadata": {
    "collapsed": false,
    "run_control": {
     "frozen": false,
     "read_only": false
    }
   },
   "outputs": [],
   "source": [
    "from tes.data import Data,PacketStream,Packet,Payload,EventFlags,Event\n",
    "import numpy as np\n",
    "import matplotlib.pyplot as plt\n",
    "import sys"
   ]
  },
  {
   "cell_type": "code",
   "execution_count": null,
   "metadata": {
    "collapsed": true
   },
   "outputs": [],
   "source": []
  },
  {
   "cell_type": "code",
   "execution_count": 2,
   "metadata": {
    "code_folding": [],
    "collapsed": false,
    "run_control": {
     "frozen": false,
     "read_only": false
    }
   },
   "outputs": [],
   "source": [
    "#NOTE traces[0] corresponts to clk=1\n",
    "trace_dt=np.dtype([('raw','i4'),('filtered','i4'),('slope','i4'),('filteredL','i4')])\n",
    "stream_dt=np.dtype([('data','i4'),('last','i4')])\n",
    "minmax_dt=np.dtype(\n",
    "    [\n",
    "        ('filtered','i4'),('timing_threshold','i4'),\n",
    "        ('height_threshold','i4'),('slope_extrema','i4'),('slope_area','i4'),('clk','i4')\n",
    "    ]\n",
    ")\n",
    "cfd_dt=np.dtype('i4')\n",
    "filteredxing_dt=np.dtype([('extrema','i4'),('area','i4'),('clk','i4')])"
   ]
  },
  {
   "cell_type": "code",
   "execution_count": 3,
   "metadata": {
    "collapsed": false,
    "run_control": {
     "frozen": false,
     "read_only": false
    }
   },
   "outputs": [],
   "source": [
    "traces=np.fromfile('data/traces',trace_dt)\n",
    "stream=np.fromfile('data/bytestream',stream_dt)\n",
    "minmax=np.fromfile('data/minmax',minmax_dt)\n",
    "cfd=np.fromfile('data/cfd',cfd_dt)\n",
    "filteredxing=np.fromfile('data/filteredxing',filteredxing_dt)"
   ]
  },
  {
   "cell_type": "code",
   "execution_count": 9,
   "metadata": {
    "collapsed": false,
    "run_control": {
     "frozen": false,
     "read_only": false
    },
    "scrolled": true
   },
   "outputs": [],
   "source": [
    "traces=Data.fromfile('traces',trace_dt,'teslib','measurement_subsystem_TB',tool='vivado')\n",
    "stream=Data.fromfile('bytestream',stream_dt,'teslib','measurement_subsystem_TB',tool='vivado')\n",
    "minmax=Data.fromfile('minmax',minmax_dt,'teslib','measurement_subsystem_TB',tool='vivado')\n",
    "cfd=Data.fromfile('cfd',cfd_dt,'teslib','measurement_subsystem_TB',tool='vivado')\n",
    "filteredxing=Data.fromfile(\n",
    "    'filteredxing',filteredxing_dt,'teslib','measurement_subsystem_TB',tool='vivado'\n",
    ")"
   ]
  },
  {
   "cell_type": "code",
   "execution_count": null,
   "metadata": {
    "collapsed": false,
    "run_control": {
     "frozen": false,
     "read_only": false
    },
    "scrolled": true
   },
   "outputs": [],
   "source": [
    "# Mac\n",
    "traces=Data.fromfile(\n",
    "    'traces',trace_dt,'teslib','measurement_subsystem_TB',tool='vivado',\n",
    "    root='/Volumes/C/'\n",
    ")\n",
    "stream=Data.fromfile(\n",
    "    'bytestream',stream_dt,'teslib','measurement_subsystem_TB',tool='vivado',\n",
    "    root='/Volumes/C/'\n",
    ")\n",
    "minmax=Data.fromfile(\n",
    "    'minmax',minmax_dt,'teslib','measurement_subsystem_TB',tool='vivado',\n",
    "    root='/Volumes/C/'\n",
    ")\n",
    "cfd=Data.fromfile(\n",
    "    'cfd',cfd_dt,'teslib','measurement_subsystem_TB',tool='vivado',\n",
    "    root='/Volumes/C/'\n",
    ")\n",
    "filteredxing=Data.fromfile(\n",
    "    'filteredxing',filteredxing_dt,'teslib','measurement_subsystem_TB',\n",
    "    tool='vivado',root='/Volumes/C/'\n",
    ")"
   ]
  },
  {
   "cell_type": "code",
   "execution_count": 4,
   "metadata": {
    "collapsed": false
   },
   "outputs": [],
   "source": [
    "def plot_event(event_tupple,rel2min):\n",
    "    pre=200\n",
    "    post=1000\n",
    "    timestamp=event_tupple[0]\n",
    "    event_type=event_tupple[1]\n",
    "    event=event_tupple[2]\n",
    "    flags=EventFlags(event['flags'])\n",
    "#     print(flags)\n",
    "    #print('timestamp',timestamp, 'time', event['time'],'height',event['height'],'min',event['minima'])\n",
    "    if flags.type == Event.tick:\n",
    "        return\n",
    "    s=traces['filtered'][timestamp+20-pre:timestamp+20+post]\n",
    "    r=traces['raw'][timestamp+20-pre:timestamp+20+post]\n",
    "    i = np.where(abs(minmax['clk'])<=timestamp+20)[0][-1]\n",
    "    min_t=abs(minmax['clk'][i])-(timestamp+20)\n",
    "#     print(minmax['clk'][i],min_t,i,timestamp)\n",
    "    #plt.plot(r,'k',linewidth=0.5)\n",
    "#     print('min', event_tupple[2][1])\n",
    "#     print(event_type)\n",
    "    if flags.channel==1:\n",
    "        colour='b'\n",
    "        lw=0.5\n",
    "        mm = 'vb'\n",
    "        tm = 'ob'\n",
    "    else:\n",
    "        colour='r'\n",
    "        lw=0.5\n",
    "        mm = 'vr'\n",
    "        tm = 'or'\n",
    "    \n",
    "#     if event_type==Event.pulse:\n",
    "#         colour=':g'\n",
    "#         lw=2\n",
    "#         if event_type==Event.pulse:\n",
    "#             max_peaks = event['size']-2\n",
    "#         if max_peaks > 1:    \n",
    "#             minima=event['peaks'][0]['minima']\n",
    "#         else:\n",
    "#             minima=event['peaks']['minima']\n",
    "#     else:\n",
    "#         colour='b'\n",
    "#         lw=1\n",
    "    if flags.channel==1:\n",
    "        minima=event['minima']\n",
    "    #     print(event_type,'minima',minima)\n",
    "        if rel2min:\n",
    "            plt.plot(s-minima,colour,linewidth=lw)\n",
    "        else:\n",
    "            plt.plot(s,colour,linewidth=lw)\n",
    "    #     plt.plot([pre],s[pre],tm,fillstyle='none')\n",
    "    #     plt.plot([pre+min_t],minmax['filtered'][i],mm,fillstyle='none')\n",
    "        if event_type==Event.pulse:\n",
    "            if max_peaks > 1:\n",
    "                for i in range(max_peaks):\n",
    "                    p=event['peaks'][i]\n",
    "                    plt.plot([0,len(s)-1],[p['height'],p['height']],':g')\n",
    "            else:\n",
    "                p=event['peaks']\n",
    "                plt.plot([0,len(s)-1],[p['height'],p['height']],':g',lw=1)\n",
    "        else:\n",
    "          plt.plot([0,len(s)-1],[event['height'],event['height']],colour,lw=lw)\n",
    "\n",
    "    #print(event['height'],event['minima'])\n",
    "    #print(minmax['filtered'][i]==s[pre+min_t])\n",
    "    #print(minmax['filtered'][i]==event['minima'])\n",
    "    #print(s[pre],s[pre-1])"
   ]
  },
  {
   "cell_type": "code",
   "execution_count": 10,
   "metadata": {
    "collapsed": false,
    "run_control": {
     "frozen": false,
     "read_only": false
    },
    "scrolled": false
   },
   "outputs": [
    {
     "data": {
      "application/javascript": [
       "/* Put everything inside the global mpl namespace */\n",
       "window.mpl = {};\n",
       "\n",
       "\n",
       "mpl.get_websocket_type = function() {\n",
       "    if (typeof(WebSocket) !== 'undefined') {\n",
       "        return WebSocket;\n",
       "    } else if (typeof(MozWebSocket) !== 'undefined') {\n",
       "        return MozWebSocket;\n",
       "    } else {\n",
       "        alert('Your browser does not have WebSocket support.' +\n",
       "              'Please try Chrome, Safari or Firefox ≥ 6. ' +\n",
       "              'Firefox 4 and 5 are also supported but you ' +\n",
       "              'have to enable WebSockets in about:config.');\n",
       "    };\n",
       "}\n",
       "\n",
       "mpl.figure = function(figure_id, websocket, ondownload, parent_element) {\n",
       "    this.id = figure_id;\n",
       "\n",
       "    this.ws = websocket;\n",
       "\n",
       "    this.supports_binary = (this.ws.binaryType != undefined);\n",
       "\n",
       "    if (!this.supports_binary) {\n",
       "        var warnings = document.getElementById(\"mpl-warnings\");\n",
       "        if (warnings) {\n",
       "            warnings.style.display = 'block';\n",
       "            warnings.textContent = (\n",
       "                \"This browser does not support binary websocket messages. \" +\n",
       "                    \"Performance may be slow.\");\n",
       "        }\n",
       "    }\n",
       "\n",
       "    this.imageObj = new Image();\n",
       "\n",
       "    this.context = undefined;\n",
       "    this.message = undefined;\n",
       "    this.canvas = undefined;\n",
       "    this.rubberband_canvas = undefined;\n",
       "    this.rubberband_context = undefined;\n",
       "    this.format_dropdown = undefined;\n",
       "\n",
       "    this.image_mode = 'full';\n",
       "\n",
       "    this.root = $('<div/>');\n",
       "    this._root_extra_style(this.root)\n",
       "    this.root.attr('style', 'display: inline-block');\n",
       "\n",
       "    $(parent_element).append(this.root);\n",
       "\n",
       "    this._init_header(this);\n",
       "    this._init_canvas(this);\n",
       "    this._init_toolbar(this);\n",
       "\n",
       "    var fig = this;\n",
       "\n",
       "    this.waiting = false;\n",
       "\n",
       "    this.ws.onopen =  function () {\n",
       "            fig.send_message(\"supports_binary\", {value: fig.supports_binary});\n",
       "            fig.send_message(\"send_image_mode\", {});\n",
       "            if (mpl.ratio != 1) {\n",
       "                fig.send_message(\"set_dpi_ratio\", {'dpi_ratio': mpl.ratio});\n",
       "            }\n",
       "            fig.send_message(\"refresh\", {});\n",
       "        }\n",
       "\n",
       "    this.imageObj.onload = function() {\n",
       "            if (fig.image_mode == 'full') {\n",
       "                // Full images could contain transparency (where diff images\n",
       "                // almost always do), so we need to clear the canvas so that\n",
       "                // there is no ghosting.\n",
       "                fig.context.clearRect(0, 0, fig.canvas.width, fig.canvas.height);\n",
       "            }\n",
       "            fig.context.drawImage(fig.imageObj, 0, 0);\n",
       "        };\n",
       "\n",
       "    this.imageObj.onunload = function() {\n",
       "        this.ws.close();\n",
       "    }\n",
       "\n",
       "    this.ws.onmessage = this._make_on_message_function(this);\n",
       "\n",
       "    this.ondownload = ondownload;\n",
       "}\n",
       "\n",
       "mpl.figure.prototype._init_header = function() {\n",
       "    var titlebar = $(\n",
       "        '<div class=\"ui-dialog-titlebar ui-widget-header ui-corner-all ' +\n",
       "        'ui-helper-clearfix\"/>');\n",
       "    var titletext = $(\n",
       "        '<div class=\"ui-dialog-title\" style=\"width: 100%; ' +\n",
       "        'text-align: center; padding: 3px;\"/>');\n",
       "    titlebar.append(titletext)\n",
       "    this.root.append(titlebar);\n",
       "    this.header = titletext[0];\n",
       "}\n",
       "\n",
       "\n",
       "\n",
       "mpl.figure.prototype._canvas_extra_style = function(canvas_div) {\n",
       "\n",
       "}\n",
       "\n",
       "\n",
       "mpl.figure.prototype._root_extra_style = function(canvas_div) {\n",
       "\n",
       "}\n",
       "\n",
       "mpl.figure.prototype._init_canvas = function() {\n",
       "    var fig = this;\n",
       "\n",
       "    var canvas_div = $('<div/>');\n",
       "\n",
       "    canvas_div.attr('style', 'position: relative; clear: both; outline: 0');\n",
       "\n",
       "    function canvas_keyboard_event(event) {\n",
       "        return fig.key_event(event, event['data']);\n",
       "    }\n",
       "\n",
       "    canvas_div.keydown('key_press', canvas_keyboard_event);\n",
       "    canvas_div.keyup('key_release', canvas_keyboard_event);\n",
       "    this.canvas_div = canvas_div\n",
       "    this._canvas_extra_style(canvas_div)\n",
       "    this.root.append(canvas_div);\n",
       "\n",
       "    var canvas = $('<canvas/>');\n",
       "    canvas.addClass('mpl-canvas');\n",
       "    canvas.attr('style', \"left: 0; top: 0; z-index: 0; outline: 0\")\n",
       "\n",
       "    this.canvas = canvas[0];\n",
       "    this.context = canvas[0].getContext(\"2d\");\n",
       "\n",
       "    var backingStore = this.context.backingStorePixelRatio ||\n",
       "\tthis.context.webkitBackingStorePixelRatio ||\n",
       "\tthis.context.mozBackingStorePixelRatio ||\n",
       "\tthis.context.msBackingStorePixelRatio ||\n",
       "\tthis.context.oBackingStorePixelRatio ||\n",
       "\tthis.context.backingStorePixelRatio || 1;\n",
       "\n",
       "    mpl.ratio = (window.devicePixelRatio || 1) / backingStore;\n",
       "\n",
       "    var rubberband = $('<canvas/>');\n",
       "    rubberband.attr('style', \"position: absolute; left: 0; top: 0; z-index: 1;\")\n",
       "\n",
       "    var pass_mouse_events = true;\n",
       "\n",
       "    canvas_div.resizable({\n",
       "        start: function(event, ui) {\n",
       "            pass_mouse_events = false;\n",
       "        },\n",
       "        resize: function(event, ui) {\n",
       "            fig.request_resize(ui.size.width, ui.size.height);\n",
       "        },\n",
       "        stop: function(event, ui) {\n",
       "            pass_mouse_events = true;\n",
       "            fig.request_resize(ui.size.width, ui.size.height);\n",
       "        },\n",
       "    });\n",
       "\n",
       "    function mouse_event_fn(event) {\n",
       "        if (pass_mouse_events)\n",
       "            return fig.mouse_event(event, event['data']);\n",
       "    }\n",
       "\n",
       "    rubberband.mousedown('button_press', mouse_event_fn);\n",
       "    rubberband.mouseup('button_release', mouse_event_fn);\n",
       "    // Throttle sequential mouse events to 1 every 20ms.\n",
       "    rubberband.mousemove('motion_notify', mouse_event_fn);\n",
       "\n",
       "    rubberband.mouseenter('figure_enter', mouse_event_fn);\n",
       "    rubberband.mouseleave('figure_leave', mouse_event_fn);\n",
       "\n",
       "    canvas_div.on(\"wheel\", function (event) {\n",
       "        event = event.originalEvent;\n",
       "        event['data'] = 'scroll'\n",
       "        if (event.deltaY < 0) {\n",
       "            event.step = 1;\n",
       "        } else {\n",
       "            event.step = -1;\n",
       "        }\n",
       "        mouse_event_fn(event);\n",
       "    });\n",
       "\n",
       "    canvas_div.append(canvas);\n",
       "    canvas_div.append(rubberband);\n",
       "\n",
       "    this.rubberband = rubberband;\n",
       "    this.rubberband_canvas = rubberband[0];\n",
       "    this.rubberband_context = rubberband[0].getContext(\"2d\");\n",
       "    this.rubberband_context.strokeStyle = \"#000000\";\n",
       "\n",
       "    this._resize_canvas = function(width, height) {\n",
       "        // Keep the size of the canvas, canvas container, and rubber band\n",
       "        // canvas in synch.\n",
       "        canvas_div.css('width', width)\n",
       "        canvas_div.css('height', height)\n",
       "\n",
       "        canvas.attr('width', width * mpl.ratio);\n",
       "        canvas.attr('height', height * mpl.ratio);\n",
       "        canvas.attr('style', 'width: ' + width + 'px; height: ' + height + 'px;');\n",
       "\n",
       "        rubberband.attr('width', width);\n",
       "        rubberband.attr('height', height);\n",
       "    }\n",
       "\n",
       "    // Set the figure to an initial 600x600px, this will subsequently be updated\n",
       "    // upon first draw.\n",
       "    this._resize_canvas(600, 600);\n",
       "\n",
       "    // Disable right mouse context menu.\n",
       "    $(this.rubberband_canvas).bind(\"contextmenu\",function(e){\n",
       "        return false;\n",
       "    });\n",
       "\n",
       "    function set_focus () {\n",
       "        canvas.focus();\n",
       "        canvas_div.focus();\n",
       "    }\n",
       "\n",
       "    window.setTimeout(set_focus, 100);\n",
       "}\n",
       "\n",
       "mpl.figure.prototype._init_toolbar = function() {\n",
       "    var fig = this;\n",
       "\n",
       "    var nav_element = $('<div/>')\n",
       "    nav_element.attr('style', 'width: 100%');\n",
       "    this.root.append(nav_element);\n",
       "\n",
       "    // Define a callback function for later on.\n",
       "    function toolbar_event(event) {\n",
       "        return fig.toolbar_button_onclick(event['data']);\n",
       "    }\n",
       "    function toolbar_mouse_event(event) {\n",
       "        return fig.toolbar_button_onmouseover(event['data']);\n",
       "    }\n",
       "\n",
       "    for(var toolbar_ind in mpl.toolbar_items) {\n",
       "        var name = mpl.toolbar_items[toolbar_ind][0];\n",
       "        var tooltip = mpl.toolbar_items[toolbar_ind][1];\n",
       "        var image = mpl.toolbar_items[toolbar_ind][2];\n",
       "        var method_name = mpl.toolbar_items[toolbar_ind][3];\n",
       "\n",
       "        if (!name) {\n",
       "            // put a spacer in here.\n",
       "            continue;\n",
       "        }\n",
       "        var button = $('<button/>');\n",
       "        button.addClass('ui-button ui-widget ui-state-default ui-corner-all ' +\n",
       "                        'ui-button-icon-only');\n",
       "        button.attr('role', 'button');\n",
       "        button.attr('aria-disabled', 'false');\n",
       "        button.click(method_name, toolbar_event);\n",
       "        button.mouseover(tooltip, toolbar_mouse_event);\n",
       "\n",
       "        var icon_img = $('<span/>');\n",
       "        icon_img.addClass('ui-button-icon-primary ui-icon');\n",
       "        icon_img.addClass(image);\n",
       "        icon_img.addClass('ui-corner-all');\n",
       "\n",
       "        var tooltip_span = $('<span/>');\n",
       "        tooltip_span.addClass('ui-button-text');\n",
       "        tooltip_span.html(tooltip);\n",
       "\n",
       "        button.append(icon_img);\n",
       "        button.append(tooltip_span);\n",
       "\n",
       "        nav_element.append(button);\n",
       "    }\n",
       "\n",
       "    var fmt_picker_span = $('<span/>');\n",
       "\n",
       "    var fmt_picker = $('<select/>');\n",
       "    fmt_picker.addClass('mpl-toolbar-option ui-widget ui-widget-content');\n",
       "    fmt_picker_span.append(fmt_picker);\n",
       "    nav_element.append(fmt_picker_span);\n",
       "    this.format_dropdown = fmt_picker[0];\n",
       "\n",
       "    for (var ind in mpl.extensions) {\n",
       "        var fmt = mpl.extensions[ind];\n",
       "        var option = $(\n",
       "            '<option/>', {selected: fmt === mpl.default_extension}).html(fmt);\n",
       "        fmt_picker.append(option)\n",
       "    }\n",
       "\n",
       "    // Add hover states to the ui-buttons\n",
       "    $( \".ui-button\" ).hover(\n",
       "        function() { $(this).addClass(\"ui-state-hover\");},\n",
       "        function() { $(this).removeClass(\"ui-state-hover\");}\n",
       "    );\n",
       "\n",
       "    var status_bar = $('<span class=\"mpl-message\"/>');\n",
       "    nav_element.append(status_bar);\n",
       "    this.message = status_bar[0];\n",
       "}\n",
       "\n",
       "mpl.figure.prototype.request_resize = function(x_pixels, y_pixels) {\n",
       "    // Request matplotlib to resize the figure. Matplotlib will then trigger a resize in the client,\n",
       "    // which will in turn request a refresh of the image.\n",
       "    this.send_message('resize', {'width': x_pixels, 'height': y_pixels});\n",
       "}\n",
       "\n",
       "mpl.figure.prototype.send_message = function(type, properties) {\n",
       "    properties['type'] = type;\n",
       "    properties['figure_id'] = this.id;\n",
       "    this.ws.send(JSON.stringify(properties));\n",
       "}\n",
       "\n",
       "mpl.figure.prototype.send_draw_message = function() {\n",
       "    if (!this.waiting) {\n",
       "        this.waiting = true;\n",
       "        this.ws.send(JSON.stringify({type: \"draw\", figure_id: this.id}));\n",
       "    }\n",
       "}\n",
       "\n",
       "\n",
       "mpl.figure.prototype.handle_save = function(fig, msg) {\n",
       "    var format_dropdown = fig.format_dropdown;\n",
       "    var format = format_dropdown.options[format_dropdown.selectedIndex].value;\n",
       "    fig.ondownload(fig, format);\n",
       "}\n",
       "\n",
       "\n",
       "mpl.figure.prototype.handle_resize = function(fig, msg) {\n",
       "    var size = msg['size'];\n",
       "    if (size[0] != fig.canvas.width || size[1] != fig.canvas.height) {\n",
       "        fig._resize_canvas(size[0], size[1]);\n",
       "        fig.send_message(\"refresh\", {});\n",
       "    };\n",
       "}\n",
       "\n",
       "mpl.figure.prototype.handle_rubberband = function(fig, msg) {\n",
       "    var x0 = msg['x0'] / mpl.ratio;\n",
       "    var y0 = (fig.canvas.height - msg['y0']) / mpl.ratio;\n",
       "    var x1 = msg['x1'] / mpl.ratio;\n",
       "    var y1 = (fig.canvas.height - msg['y1']) / mpl.ratio;\n",
       "    x0 = Math.floor(x0) + 0.5;\n",
       "    y0 = Math.floor(y0) + 0.5;\n",
       "    x1 = Math.floor(x1) + 0.5;\n",
       "    y1 = Math.floor(y1) + 0.5;\n",
       "    var min_x = Math.min(x0, x1);\n",
       "    var min_y = Math.min(y0, y1);\n",
       "    var width = Math.abs(x1 - x0);\n",
       "    var height = Math.abs(y1 - y0);\n",
       "\n",
       "    fig.rubberband_context.clearRect(\n",
       "        0, 0, fig.canvas.width, fig.canvas.height);\n",
       "\n",
       "    fig.rubberband_context.strokeRect(min_x, min_y, width, height);\n",
       "}\n",
       "\n",
       "mpl.figure.prototype.handle_figure_label = function(fig, msg) {\n",
       "    // Updates the figure title.\n",
       "    fig.header.textContent = msg['label'];\n",
       "}\n",
       "\n",
       "mpl.figure.prototype.handle_cursor = function(fig, msg) {\n",
       "    var cursor = msg['cursor'];\n",
       "    switch(cursor)\n",
       "    {\n",
       "    case 0:\n",
       "        cursor = 'pointer';\n",
       "        break;\n",
       "    case 1:\n",
       "        cursor = 'default';\n",
       "        break;\n",
       "    case 2:\n",
       "        cursor = 'crosshair';\n",
       "        break;\n",
       "    case 3:\n",
       "        cursor = 'move';\n",
       "        break;\n",
       "    }\n",
       "    fig.rubberband_canvas.style.cursor = cursor;\n",
       "}\n",
       "\n",
       "mpl.figure.prototype.handle_message = function(fig, msg) {\n",
       "    fig.message.textContent = msg['message'];\n",
       "}\n",
       "\n",
       "mpl.figure.prototype.handle_draw = function(fig, msg) {\n",
       "    // Request the server to send over a new figure.\n",
       "    fig.send_draw_message();\n",
       "}\n",
       "\n",
       "mpl.figure.prototype.handle_image_mode = function(fig, msg) {\n",
       "    fig.image_mode = msg['mode'];\n",
       "}\n",
       "\n",
       "mpl.figure.prototype.updated_canvas_event = function() {\n",
       "    // Called whenever the canvas gets updated.\n",
       "    this.send_message(\"ack\", {});\n",
       "}\n",
       "\n",
       "// A function to construct a web socket function for onmessage handling.\n",
       "// Called in the figure constructor.\n",
       "mpl.figure.prototype._make_on_message_function = function(fig) {\n",
       "    return function socket_on_message(evt) {\n",
       "        if (evt.data instanceof Blob) {\n",
       "            /* FIXME: We get \"Resource interpreted as Image but\n",
       "             * transferred with MIME type text/plain:\" errors on\n",
       "             * Chrome.  But how to set the MIME type?  It doesn't seem\n",
       "             * to be part of the websocket stream */\n",
       "            evt.data.type = \"image/png\";\n",
       "\n",
       "            /* Free the memory for the previous frames */\n",
       "            if (fig.imageObj.src) {\n",
       "                (window.URL || window.webkitURL).revokeObjectURL(\n",
       "                    fig.imageObj.src);\n",
       "            }\n",
       "\n",
       "            fig.imageObj.src = (window.URL || window.webkitURL).createObjectURL(\n",
       "                evt.data);\n",
       "            fig.updated_canvas_event();\n",
       "            fig.waiting = false;\n",
       "            return;\n",
       "        }\n",
       "        else if (typeof evt.data === 'string' && evt.data.slice(0, 21) == \"data:image/png;base64\") {\n",
       "            fig.imageObj.src = evt.data;\n",
       "            fig.updated_canvas_event();\n",
       "            fig.waiting = false;\n",
       "            return;\n",
       "        }\n",
       "\n",
       "        var msg = JSON.parse(evt.data);\n",
       "        var msg_type = msg['type'];\n",
       "\n",
       "        // Call the  \"handle_{type}\" callback, which takes\n",
       "        // the figure and JSON message as its only arguments.\n",
       "        try {\n",
       "            var callback = fig[\"handle_\" + msg_type];\n",
       "        } catch (e) {\n",
       "            console.log(\"No handler for the '\" + msg_type + \"' message type: \", msg);\n",
       "            return;\n",
       "        }\n",
       "\n",
       "        if (callback) {\n",
       "            try {\n",
       "                // console.log(\"Handling '\" + msg_type + \"' message: \", msg);\n",
       "                callback(fig, msg);\n",
       "            } catch (e) {\n",
       "                console.log(\"Exception inside the 'handler_\" + msg_type + \"' callback:\", e, e.stack, msg);\n",
       "            }\n",
       "        }\n",
       "    };\n",
       "}\n",
       "\n",
       "// from http://stackoverflow.com/questions/1114465/getting-mouse-location-in-canvas\n",
       "mpl.findpos = function(e) {\n",
       "    //this section is from http://www.quirksmode.org/js/events_properties.html\n",
       "    var targ;\n",
       "    if (!e)\n",
       "        e = window.event;\n",
       "    if (e.target)\n",
       "        targ = e.target;\n",
       "    else if (e.srcElement)\n",
       "        targ = e.srcElement;\n",
       "    if (targ.nodeType == 3) // defeat Safari bug\n",
       "        targ = targ.parentNode;\n",
       "\n",
       "    // jQuery normalizes the pageX and pageY\n",
       "    // pageX,Y are the mouse positions relative to the document\n",
       "    // offset() returns the position of the element relative to the document\n",
       "    var x = e.pageX - $(targ).offset().left;\n",
       "    var y = e.pageY - $(targ).offset().top;\n",
       "\n",
       "    return {\"x\": x, \"y\": y};\n",
       "};\n",
       "\n",
       "/*\n",
       " * return a copy of an object with only non-object keys\n",
       " * we need this to avoid circular references\n",
       " * http://stackoverflow.com/a/24161582/3208463\n",
       " */\n",
       "function simpleKeys (original) {\n",
       "  return Object.keys(original).reduce(function (obj, key) {\n",
       "    if (typeof original[key] !== 'object')\n",
       "        obj[key] = original[key]\n",
       "    return obj;\n",
       "  }, {});\n",
       "}\n",
       "\n",
       "mpl.figure.prototype.mouse_event = function(event, name) {\n",
       "    var canvas_pos = mpl.findpos(event)\n",
       "\n",
       "    if (name === 'button_press')\n",
       "    {\n",
       "        this.canvas.focus();\n",
       "        this.canvas_div.focus();\n",
       "    }\n",
       "\n",
       "    var x = canvas_pos.x * mpl.ratio;\n",
       "    var y = canvas_pos.y * mpl.ratio;\n",
       "\n",
       "    this.send_message(name, {x: x, y: y, button: event.button,\n",
       "                             step: event.step,\n",
       "                             guiEvent: simpleKeys(event)});\n",
       "\n",
       "    /* This prevents the web browser from automatically changing to\n",
       "     * the text insertion cursor when the button is pressed.  We want\n",
       "     * to control all of the cursor setting manually through the\n",
       "     * 'cursor' event from matplotlib */\n",
       "    event.preventDefault();\n",
       "    return false;\n",
       "}\n",
       "\n",
       "mpl.figure.prototype._key_event_extra = function(event, name) {\n",
       "    // Handle any extra behaviour associated with a key event\n",
       "}\n",
       "\n",
       "mpl.figure.prototype.key_event = function(event, name) {\n",
       "\n",
       "    // Prevent repeat events\n",
       "    if (name == 'key_press')\n",
       "    {\n",
       "        if (event.which === this._key)\n",
       "            return;\n",
       "        else\n",
       "            this._key = event.which;\n",
       "    }\n",
       "    if (name == 'key_release')\n",
       "        this._key = null;\n",
       "\n",
       "    var value = '';\n",
       "    if (event.ctrlKey && event.which != 17)\n",
       "        value += \"ctrl+\";\n",
       "    if (event.altKey && event.which != 18)\n",
       "        value += \"alt+\";\n",
       "    if (event.shiftKey && event.which != 16)\n",
       "        value += \"shift+\";\n",
       "\n",
       "    value += 'k';\n",
       "    value += event.which.toString();\n",
       "\n",
       "    this._key_event_extra(event, name);\n",
       "\n",
       "    this.send_message(name, {key: value,\n",
       "                             guiEvent: simpleKeys(event)});\n",
       "    return false;\n",
       "}\n",
       "\n",
       "mpl.figure.prototype.toolbar_button_onclick = function(name) {\n",
       "    if (name == 'download') {\n",
       "        this.handle_save(this, null);\n",
       "    } else {\n",
       "        this.send_message(\"toolbar_button\", {name: name});\n",
       "    }\n",
       "};\n",
       "\n",
       "mpl.figure.prototype.toolbar_button_onmouseover = function(tooltip) {\n",
       "    this.message.textContent = tooltip;\n",
       "};\n",
       "mpl.toolbar_items = [[\"Home\", \"Reset original view\", \"fa fa-home icon-home\", \"home\"], [\"Back\", \"Back to  previous view\", \"fa fa-arrow-left icon-arrow-left\", \"back\"], [\"Forward\", \"Forward to next view\", \"fa fa-arrow-right icon-arrow-right\", \"forward\"], [\"\", \"\", \"\", \"\"], [\"Pan\", \"Pan axes with left mouse, zoom with right\", \"fa fa-arrows icon-move\", \"pan\"], [\"Zoom\", \"Zoom to rectangle\", \"fa fa-square-o icon-check-empty\", \"zoom\"], [\"\", \"\", \"\", \"\"], [\"Download\", \"Download plot\", \"fa fa-floppy-o icon-save\", \"download\"]];\n",
       "\n",
       "mpl.extensions = [\"eps\", \"jpeg\", \"pdf\", \"png\", \"ps\", \"raw\", \"svg\", \"tif\"];\n",
       "\n",
       "mpl.default_extension = \"png\";var comm_websocket_adapter = function(comm) {\n",
       "    // Create a \"websocket\"-like object which calls the given IPython comm\n",
       "    // object with the appropriate methods. Currently this is a non binary\n",
       "    // socket, so there is still some room for performance tuning.\n",
       "    var ws = {};\n",
       "\n",
       "    ws.close = function() {\n",
       "        comm.close()\n",
       "    };\n",
       "    ws.send = function(m) {\n",
       "        //console.log('sending', m);\n",
       "        comm.send(m);\n",
       "    };\n",
       "    // Register the callback with on_msg.\n",
       "    comm.on_msg(function(msg) {\n",
       "        //console.log('receiving', msg['content']['data'], msg);\n",
       "        // Pass the mpl event to the overriden (by mpl) onmessage function.\n",
       "        ws.onmessage(msg['content']['data'])\n",
       "    });\n",
       "    return ws;\n",
       "}\n",
       "\n",
       "mpl.mpl_figure_comm = function(comm, msg) {\n",
       "    // This is the function which gets called when the mpl process\n",
       "    // starts-up an IPython Comm through the \"matplotlib\" channel.\n",
       "\n",
       "    var id = msg.content.data.id;\n",
       "    // Get hold of the div created by the display call when the Comm\n",
       "    // socket was opened in Python.\n",
       "    var element = $(\"#\" + id);\n",
       "    var ws_proxy = comm_websocket_adapter(comm)\n",
       "\n",
       "    function ondownload(figure, format) {\n",
       "        window.open(figure.imageObj.src);\n",
       "    }\n",
       "\n",
       "    var fig = new mpl.figure(id, ws_proxy,\n",
       "                           ondownload,\n",
       "                           element.get(0));\n",
       "\n",
       "    // Call onopen now - mpl needs it, as it is assuming we've passed it a real\n",
       "    // web socket which is closed, not our websocket->open comm proxy.\n",
       "    ws_proxy.onopen();\n",
       "\n",
       "    fig.parent_element = element.get(0);\n",
       "    fig.cell_info = mpl.find_output_cell(\"<div id='\" + id + \"'></div>\");\n",
       "    if (!fig.cell_info) {\n",
       "        console.error(\"Failed to find cell for figure\", id, fig);\n",
       "        return;\n",
       "    }\n",
       "\n",
       "    var output_index = fig.cell_info[2]\n",
       "    var cell = fig.cell_info[0];\n",
       "\n",
       "};\n",
       "\n",
       "mpl.figure.prototype.handle_close = function(fig, msg) {\n",
       "    var width = fig.canvas.width/mpl.ratio\n",
       "    fig.root.unbind('remove')\n",
       "\n",
       "    // Update the output cell to use the data from the current canvas.\n",
       "    fig.push_to_output();\n",
       "    var dataURL = fig.canvas.toDataURL();\n",
       "    // Re-enable the keyboard manager in IPython - without this line, in FF,\n",
       "    // the notebook keyboard shortcuts fail.\n",
       "    IPython.keyboard_manager.enable()\n",
       "    $(fig.parent_element).html('<img src=\"' + dataURL + '\" width=\"' + width + '\">');\n",
       "    fig.close_ws(fig, msg);\n",
       "}\n",
       "\n",
       "mpl.figure.prototype.close_ws = function(fig, msg){\n",
       "    fig.send_message('closing', msg);\n",
       "    // fig.ws.close()\n",
       "}\n",
       "\n",
       "mpl.figure.prototype.push_to_output = function(remove_interactive) {\n",
       "    // Turn the data on the canvas into data in the output cell.\n",
       "    var width = this.canvas.width/mpl.ratio\n",
       "    var dataURL = this.canvas.toDataURL();\n",
       "    this.cell_info[1]['text/html'] = '<img src=\"' + dataURL + '\" width=\"' + width + '\">';\n",
       "}\n",
       "\n",
       "mpl.figure.prototype.updated_canvas_event = function() {\n",
       "    // Tell IPython that the notebook contents must change.\n",
       "    IPython.notebook.set_dirty(true);\n",
       "    this.send_message(\"ack\", {});\n",
       "    var fig = this;\n",
       "    // Wait a second, then push the new image to the DOM so\n",
       "    // that it is saved nicely (might be nice to debounce this).\n",
       "    setTimeout(function () { fig.push_to_output() }, 1000);\n",
       "}\n",
       "\n",
       "mpl.figure.prototype._init_toolbar = function() {\n",
       "    var fig = this;\n",
       "\n",
       "    var nav_element = $('<div/>')\n",
       "    nav_element.attr('style', 'width: 100%');\n",
       "    this.root.append(nav_element);\n",
       "\n",
       "    // Define a callback function for later on.\n",
       "    function toolbar_event(event) {\n",
       "        return fig.toolbar_button_onclick(event['data']);\n",
       "    }\n",
       "    function toolbar_mouse_event(event) {\n",
       "        return fig.toolbar_button_onmouseover(event['data']);\n",
       "    }\n",
       "\n",
       "    for(var toolbar_ind in mpl.toolbar_items){\n",
       "        var name = mpl.toolbar_items[toolbar_ind][0];\n",
       "        var tooltip = mpl.toolbar_items[toolbar_ind][1];\n",
       "        var image = mpl.toolbar_items[toolbar_ind][2];\n",
       "        var method_name = mpl.toolbar_items[toolbar_ind][3];\n",
       "\n",
       "        if (!name) { continue; };\n",
       "\n",
       "        var button = $('<button class=\"btn btn-default\" href=\"#\" title=\"' + name + '\"><i class=\"fa ' + image + ' fa-lg\"></i></button>');\n",
       "        button.click(method_name, toolbar_event);\n",
       "        button.mouseover(tooltip, toolbar_mouse_event);\n",
       "        nav_element.append(button);\n",
       "    }\n",
       "\n",
       "    // Add the status bar.\n",
       "    var status_bar = $('<span class=\"mpl-message\" style=\"text-align:right; float: right;\"/>');\n",
       "    nav_element.append(status_bar);\n",
       "    this.message = status_bar[0];\n",
       "\n",
       "    // Add the close button to the window.\n",
       "    var buttongrp = $('<div class=\"btn-group inline pull-right\"></div>');\n",
       "    var button = $('<button class=\"btn btn-mini btn-primary\" href=\"#\" title=\"Stop Interaction\"><i class=\"fa fa-power-off icon-remove icon-large\"></i></button>');\n",
       "    button.click(function (evt) { fig.handle_close(fig, {}); } );\n",
       "    button.mouseover('Stop Interaction', toolbar_mouse_event);\n",
       "    buttongrp.append(button);\n",
       "    var titlebar = this.root.find($('.ui-dialog-titlebar'));\n",
       "    titlebar.prepend(buttongrp);\n",
       "}\n",
       "\n",
       "mpl.figure.prototype._root_extra_style = function(el){\n",
       "    var fig = this\n",
       "    el.on(\"remove\", function(){\n",
       "\tfig.close_ws(fig, {});\n",
       "    });\n",
       "}\n",
       "\n",
       "mpl.figure.prototype._canvas_extra_style = function(el){\n",
       "    // this is important to make the div 'focusable\n",
       "    el.attr('tabindex', 0)\n",
       "    // reach out to IPython and tell the keyboard manager to turn it's self\n",
       "    // off when our div gets focus\n",
       "\n",
       "    // location in version 3\n",
       "    if (IPython.notebook.keyboard_manager) {\n",
       "        IPython.notebook.keyboard_manager.register_events(el);\n",
       "    }\n",
       "    else {\n",
       "        // location in version 2\n",
       "        IPython.keyboard_manager.register_events(el);\n",
       "    }\n",
       "\n",
       "}\n",
       "\n",
       "mpl.figure.prototype._key_event_extra = function(event, name) {\n",
       "    var manager = IPython.notebook.keyboard_manager;\n",
       "    if (!manager)\n",
       "        manager = IPython.keyboard_manager;\n",
       "\n",
       "    // Check for shift+enter\n",
       "    if (event.shiftKey && event.which == 13) {\n",
       "        this.canvas_div.blur();\n",
       "        // select the cell after this one\n",
       "        var index = IPython.notebook.find_cell_index(this.cell_info[0]);\n",
       "        IPython.notebook.select(index + 1);\n",
       "    }\n",
       "}\n",
       "\n",
       "mpl.figure.prototype.handle_save = function(fig, msg) {\n",
       "    fig.ondownload(fig, null);\n",
       "}\n",
       "\n",
       "\n",
       "mpl.find_output_cell = function(html_output) {\n",
       "    // Return the cell and output element which can be found *uniquely* in the notebook.\n",
       "    // Note - this is a bit hacky, but it is done because the \"notebook_saving.Notebook\"\n",
       "    // IPython event is triggered only after the cells have been serialised, which for\n",
       "    // our purposes (turning an active figure into a static one), is too late.\n",
       "    var cells = IPython.notebook.get_cells();\n",
       "    var ncells = cells.length;\n",
       "    for (var i=0; i<ncells; i++) {\n",
       "        var cell = cells[i];\n",
       "        if (cell.cell_type === 'code'){\n",
       "            for (var j=0; j<cell.output_area.outputs.length; j++) {\n",
       "                var data = cell.output_area.outputs[j];\n",
       "                if (data.data) {\n",
       "                    // IPython >= 3 moved mimebundle to data attribute of output\n",
       "                    data = data.data;\n",
       "                }\n",
       "                if (data['text/html'] == html_output) {\n",
       "                    return [cell, data, j];\n",
       "                }\n",
       "            }\n",
       "        }\n",
       "    }\n",
       "}\n",
       "\n",
       "// Register the function which deals with the matplotlib target/channel.\n",
       "// The kernel may be null if the page has been refreshed.\n",
       "if (IPython.notebook.kernel != null) {\n",
       "    IPython.notebook.kernel.comm_manager.register_target('matplotlib', mpl.mpl_figure_comm);\n",
       "}\n"
      ],
      "text/plain": [
       "<IPython.core.display.Javascript object>"
      ]
     },
     "metadata": {},
     "output_type": "display_data"
    },
    {
     "data": {
      "text/html": [
       "<img src=\"data:image/png;base64,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\" width=\"639.9999630089984\">"
      ],
      "text/plain": [
       "<IPython.core.display.HTML object>"
      ]
     },
     "metadata": {},
     "output_type": "display_data"
    },
    {
     "data": {
      "text/plain": [
       "[<matplotlib.lines.Line2D at 0x7282f60>]"
      ]
     },
     "execution_count": 10,
     "metadata": {},
     "output_type": "execute_result"
    }
   ],
   "source": [
    "%matplotlib notebook\n",
    "traces=Data.fromfile('traces',trace_dt,'teslib','measurement_subsystem_TB',tool='vivado')\n",
    "plt.plot(traces['slope'][1100:],'r',linewidth=1)\n",
    "plt.plot(traces['raw'][1100:],linewidth=0.5)\n",
    "plt.plot(traces['filtered'][1100:],'k',linewidth=2)"
   ]
  },
  {
   "cell_type": "code",
   "execution_count": 11,
   "metadata": {
    "collapsed": false,
    "run_control": {
     "frozen": false,
     "read_only": false
    },
    "scrolled": false
   },
   "outputs": [
    {
     "data": {
      "application/javascript": [
       "/* Put everything inside the global mpl namespace */\n",
       "window.mpl = {};\n",
       "\n",
       "\n",
       "mpl.get_websocket_type = function() {\n",
       "    if (typeof(WebSocket) !== 'undefined') {\n",
       "        return WebSocket;\n",
       "    } else if (typeof(MozWebSocket) !== 'undefined') {\n",
       "        return MozWebSocket;\n",
       "    } else {\n",
       "        alert('Your browser does not have WebSocket support.' +\n",
       "              'Please try Chrome, Safari or Firefox ≥ 6. ' +\n",
       "              'Firefox 4 and 5 are also supported but you ' +\n",
       "              'have to enable WebSockets in about:config.');\n",
       "    };\n",
       "}\n",
       "\n",
       "mpl.figure = function(figure_id, websocket, ondownload, parent_element) {\n",
       "    this.id = figure_id;\n",
       "\n",
       "    this.ws = websocket;\n",
       "\n",
       "    this.supports_binary = (this.ws.binaryType != undefined);\n",
       "\n",
       "    if (!this.supports_binary) {\n",
       "        var warnings = document.getElementById(\"mpl-warnings\");\n",
       "        if (warnings) {\n",
       "            warnings.style.display = 'block';\n",
       "            warnings.textContent = (\n",
       "                \"This browser does not support binary websocket messages. \" +\n",
       "                    \"Performance may be slow.\");\n",
       "        }\n",
       "    }\n",
       "\n",
       "    this.imageObj = new Image();\n",
       "\n",
       "    this.context = undefined;\n",
       "    this.message = undefined;\n",
       "    this.canvas = undefined;\n",
       "    this.rubberband_canvas = undefined;\n",
       "    this.rubberband_context = undefined;\n",
       "    this.format_dropdown = undefined;\n",
       "\n",
       "    this.image_mode = 'full';\n",
       "\n",
       "    this.root = $('<div/>');\n",
       "    this._root_extra_style(this.root)\n",
       "    this.root.attr('style', 'display: inline-block');\n",
       "\n",
       "    $(parent_element).append(this.root);\n",
       "\n",
       "    this._init_header(this);\n",
       "    this._init_canvas(this);\n",
       "    this._init_toolbar(this);\n",
       "\n",
       "    var fig = this;\n",
       "\n",
       "    this.waiting = false;\n",
       "\n",
       "    this.ws.onopen =  function () {\n",
       "            fig.send_message(\"supports_binary\", {value: fig.supports_binary});\n",
       "            fig.send_message(\"send_image_mode\", {});\n",
       "            if (mpl.ratio != 1) {\n",
       "                fig.send_message(\"set_dpi_ratio\", {'dpi_ratio': mpl.ratio});\n",
       "            }\n",
       "            fig.send_message(\"refresh\", {});\n",
       "        }\n",
       "\n",
       "    this.imageObj.onload = function() {\n",
       "            if (fig.image_mode == 'full') {\n",
       "                // Full images could contain transparency (where diff images\n",
       "                // almost always do), so we need to clear the canvas so that\n",
       "                // there is no ghosting.\n",
       "                fig.context.clearRect(0, 0, fig.canvas.width, fig.canvas.height);\n",
       "            }\n",
       "            fig.context.drawImage(fig.imageObj, 0, 0);\n",
       "        };\n",
       "\n",
       "    this.imageObj.onunload = function() {\n",
       "        this.ws.close();\n",
       "    }\n",
       "\n",
       "    this.ws.onmessage = this._make_on_message_function(this);\n",
       "\n",
       "    this.ondownload = ondownload;\n",
       "}\n",
       "\n",
       "mpl.figure.prototype._init_header = function() {\n",
       "    var titlebar = $(\n",
       "        '<div class=\"ui-dialog-titlebar ui-widget-header ui-corner-all ' +\n",
       "        'ui-helper-clearfix\"/>');\n",
       "    var titletext = $(\n",
       "        '<div class=\"ui-dialog-title\" style=\"width: 100%; ' +\n",
       "        'text-align: center; padding: 3px;\"/>');\n",
       "    titlebar.append(titletext)\n",
       "    this.root.append(titlebar);\n",
       "    this.header = titletext[0];\n",
       "}\n",
       "\n",
       "\n",
       "\n",
       "mpl.figure.prototype._canvas_extra_style = function(canvas_div) {\n",
       "\n",
       "}\n",
       "\n",
       "\n",
       "mpl.figure.prototype._root_extra_style = function(canvas_div) {\n",
       "\n",
       "}\n",
       "\n",
       "mpl.figure.prototype._init_canvas = function() {\n",
       "    var fig = this;\n",
       "\n",
       "    var canvas_div = $('<div/>');\n",
       "\n",
       "    canvas_div.attr('style', 'position: relative; clear: both; outline: 0');\n",
       "\n",
       "    function canvas_keyboard_event(event) {\n",
       "        return fig.key_event(event, event['data']);\n",
       "    }\n",
       "\n",
       "    canvas_div.keydown('key_press', canvas_keyboard_event);\n",
       "    canvas_div.keyup('key_release', canvas_keyboard_event);\n",
       "    this.canvas_div = canvas_div\n",
       "    this._canvas_extra_style(canvas_div)\n",
       "    this.root.append(canvas_div);\n",
       "\n",
       "    var canvas = $('<canvas/>');\n",
       "    canvas.addClass('mpl-canvas');\n",
       "    canvas.attr('style', \"left: 0; top: 0; z-index: 0; outline: 0\")\n",
       "\n",
       "    this.canvas = canvas[0];\n",
       "    this.context = canvas[0].getContext(\"2d\");\n",
       "\n",
       "    var backingStore = this.context.backingStorePixelRatio ||\n",
       "\tthis.context.webkitBackingStorePixelRatio ||\n",
       "\tthis.context.mozBackingStorePixelRatio ||\n",
       "\tthis.context.msBackingStorePixelRatio ||\n",
       "\tthis.context.oBackingStorePixelRatio ||\n",
       "\tthis.context.backingStorePixelRatio || 1;\n",
       "\n",
       "    mpl.ratio = (window.devicePixelRatio || 1) / backingStore;\n",
       "\n",
       "    var rubberband = $('<canvas/>');\n",
       "    rubberband.attr('style', \"position: absolute; left: 0; top: 0; z-index: 1;\")\n",
       "\n",
       "    var pass_mouse_events = true;\n",
       "\n",
       "    canvas_div.resizable({\n",
       "        start: function(event, ui) {\n",
       "            pass_mouse_events = false;\n",
       "        },\n",
       "        resize: function(event, ui) {\n",
       "            fig.request_resize(ui.size.width, ui.size.height);\n",
       "        },\n",
       "        stop: function(event, ui) {\n",
       "            pass_mouse_events = true;\n",
       "            fig.request_resize(ui.size.width, ui.size.height);\n",
       "        },\n",
       "    });\n",
       "\n",
       "    function mouse_event_fn(event) {\n",
       "        if (pass_mouse_events)\n",
       "            return fig.mouse_event(event, event['data']);\n",
       "    }\n",
       "\n",
       "    rubberband.mousedown('button_press', mouse_event_fn);\n",
       "    rubberband.mouseup('button_release', mouse_event_fn);\n",
       "    // Throttle sequential mouse events to 1 every 20ms.\n",
       "    rubberband.mousemove('motion_notify', mouse_event_fn);\n",
       "\n",
       "    rubberband.mouseenter('figure_enter', mouse_event_fn);\n",
       "    rubberband.mouseleave('figure_leave', mouse_event_fn);\n",
       "\n",
       "    canvas_div.on(\"wheel\", function (event) {\n",
       "        event = event.originalEvent;\n",
       "        event['data'] = 'scroll'\n",
       "        if (event.deltaY < 0) {\n",
       "            event.step = 1;\n",
       "        } else {\n",
       "            event.step = -1;\n",
       "        }\n",
       "        mouse_event_fn(event);\n",
       "    });\n",
       "\n",
       "    canvas_div.append(canvas);\n",
       "    canvas_div.append(rubberband);\n",
       "\n",
       "    this.rubberband = rubberband;\n",
       "    this.rubberband_canvas = rubberband[0];\n",
       "    this.rubberband_context = rubberband[0].getContext(\"2d\");\n",
       "    this.rubberband_context.strokeStyle = \"#000000\";\n",
       "\n",
       "    this._resize_canvas = function(width, height) {\n",
       "        // Keep the size of the canvas, canvas container, and rubber band\n",
       "        // canvas in synch.\n",
       "        canvas_div.css('width', width)\n",
       "        canvas_div.css('height', height)\n",
       "\n",
       "        canvas.attr('width', width * mpl.ratio);\n",
       "        canvas.attr('height', height * mpl.ratio);\n",
       "        canvas.attr('style', 'width: ' + width + 'px; height: ' + height + 'px;');\n",
       "\n",
       "        rubberband.attr('width', width);\n",
       "        rubberband.attr('height', height);\n",
       "    }\n",
       "\n",
       "    // Set the figure to an initial 600x600px, this will subsequently be updated\n",
       "    // upon first draw.\n",
       "    this._resize_canvas(600, 600);\n",
       "\n",
       "    // Disable right mouse context menu.\n",
       "    $(this.rubberband_canvas).bind(\"contextmenu\",function(e){\n",
       "        return false;\n",
       "    });\n",
       "\n",
       "    function set_focus () {\n",
       "        canvas.focus();\n",
       "        canvas_div.focus();\n",
       "    }\n",
       "\n",
       "    window.setTimeout(set_focus, 100);\n",
       "}\n",
       "\n",
       "mpl.figure.prototype._init_toolbar = function() {\n",
       "    var fig = this;\n",
       "\n",
       "    var nav_element = $('<div/>')\n",
       "    nav_element.attr('style', 'width: 100%');\n",
       "    this.root.append(nav_element);\n",
       "\n",
       "    // Define a callback function for later on.\n",
       "    function toolbar_event(event) {\n",
       "        return fig.toolbar_button_onclick(event['data']);\n",
       "    }\n",
       "    function toolbar_mouse_event(event) {\n",
       "        return fig.toolbar_button_onmouseover(event['data']);\n",
       "    }\n",
       "\n",
       "    for(var toolbar_ind in mpl.toolbar_items) {\n",
       "        var name = mpl.toolbar_items[toolbar_ind][0];\n",
       "        var tooltip = mpl.toolbar_items[toolbar_ind][1];\n",
       "        var image = mpl.toolbar_items[toolbar_ind][2];\n",
       "        var method_name = mpl.toolbar_items[toolbar_ind][3];\n",
       "\n",
       "        if (!name) {\n",
       "            // put a spacer in here.\n",
       "            continue;\n",
       "        }\n",
       "        var button = $('<button/>');\n",
       "        button.addClass('ui-button ui-widget ui-state-default ui-corner-all ' +\n",
       "                        'ui-button-icon-only');\n",
       "        button.attr('role', 'button');\n",
       "        button.attr('aria-disabled', 'false');\n",
       "        button.click(method_name, toolbar_event);\n",
       "        button.mouseover(tooltip, toolbar_mouse_event);\n",
       "\n",
       "        var icon_img = $('<span/>');\n",
       "        icon_img.addClass('ui-button-icon-primary ui-icon');\n",
       "        icon_img.addClass(image);\n",
       "        icon_img.addClass('ui-corner-all');\n",
       "\n",
       "        var tooltip_span = $('<span/>');\n",
       "        tooltip_span.addClass('ui-button-text');\n",
       "        tooltip_span.html(tooltip);\n",
       "\n",
       "        button.append(icon_img);\n",
       "        button.append(tooltip_span);\n",
       "\n",
       "        nav_element.append(button);\n",
       "    }\n",
       "\n",
       "    var fmt_picker_span = $('<span/>');\n",
       "\n",
       "    var fmt_picker = $('<select/>');\n",
       "    fmt_picker.addClass('mpl-toolbar-option ui-widget ui-widget-content');\n",
       "    fmt_picker_span.append(fmt_picker);\n",
       "    nav_element.append(fmt_picker_span);\n",
       "    this.format_dropdown = fmt_picker[0];\n",
       "\n",
       "    for (var ind in mpl.extensions) {\n",
       "        var fmt = mpl.extensions[ind];\n",
       "        var option = $(\n",
       "            '<option/>', {selected: fmt === mpl.default_extension}).html(fmt);\n",
       "        fmt_picker.append(option)\n",
       "    }\n",
       "\n",
       "    // Add hover states to the ui-buttons\n",
       "    $( \".ui-button\" ).hover(\n",
       "        function() { $(this).addClass(\"ui-state-hover\");},\n",
       "        function() { $(this).removeClass(\"ui-state-hover\");}\n",
       "    );\n",
       "\n",
       "    var status_bar = $('<span class=\"mpl-message\"/>');\n",
       "    nav_element.append(status_bar);\n",
       "    this.message = status_bar[0];\n",
       "}\n",
       "\n",
       "mpl.figure.prototype.request_resize = function(x_pixels, y_pixels) {\n",
       "    // Request matplotlib to resize the figure. Matplotlib will then trigger a resize in the client,\n",
       "    // which will in turn request a refresh of the image.\n",
       "    this.send_message('resize', {'width': x_pixels, 'height': y_pixels});\n",
       "}\n",
       "\n",
       "mpl.figure.prototype.send_message = function(type, properties) {\n",
       "    properties['type'] = type;\n",
       "    properties['figure_id'] = this.id;\n",
       "    this.ws.send(JSON.stringify(properties));\n",
       "}\n",
       "\n",
       "mpl.figure.prototype.send_draw_message = function() {\n",
       "    if (!this.waiting) {\n",
       "        this.waiting = true;\n",
       "        this.ws.send(JSON.stringify({type: \"draw\", figure_id: this.id}));\n",
       "    }\n",
       "}\n",
       "\n",
       "\n",
       "mpl.figure.prototype.handle_save = function(fig, msg) {\n",
       "    var format_dropdown = fig.format_dropdown;\n",
       "    var format = format_dropdown.options[format_dropdown.selectedIndex].value;\n",
       "    fig.ondownload(fig, format);\n",
       "}\n",
       "\n",
       "\n",
       "mpl.figure.prototype.handle_resize = function(fig, msg) {\n",
       "    var size = msg['size'];\n",
       "    if (size[0] != fig.canvas.width || size[1] != fig.canvas.height) {\n",
       "        fig._resize_canvas(size[0], size[1]);\n",
       "        fig.send_message(\"refresh\", {});\n",
       "    };\n",
       "}\n",
       "\n",
       "mpl.figure.prototype.handle_rubberband = function(fig, msg) {\n",
       "    var x0 = msg['x0'] / mpl.ratio;\n",
       "    var y0 = (fig.canvas.height - msg['y0']) / mpl.ratio;\n",
       "    var x1 = msg['x1'] / mpl.ratio;\n",
       "    var y1 = (fig.canvas.height - msg['y1']) / mpl.ratio;\n",
       "    x0 = Math.floor(x0) + 0.5;\n",
       "    y0 = Math.floor(y0) + 0.5;\n",
       "    x1 = Math.floor(x1) + 0.5;\n",
       "    y1 = Math.floor(y1) + 0.5;\n",
       "    var min_x = Math.min(x0, x1);\n",
       "    var min_y = Math.min(y0, y1);\n",
       "    var width = Math.abs(x1 - x0);\n",
       "    var height = Math.abs(y1 - y0);\n",
       "\n",
       "    fig.rubberband_context.clearRect(\n",
       "        0, 0, fig.canvas.width, fig.canvas.height);\n",
       "\n",
       "    fig.rubberband_context.strokeRect(min_x, min_y, width, height);\n",
       "}\n",
       "\n",
       "mpl.figure.prototype.handle_figure_label = function(fig, msg) {\n",
       "    // Updates the figure title.\n",
       "    fig.header.textContent = msg['label'];\n",
       "}\n",
       "\n",
       "mpl.figure.prototype.handle_cursor = function(fig, msg) {\n",
       "    var cursor = msg['cursor'];\n",
       "    switch(cursor)\n",
       "    {\n",
       "    case 0:\n",
       "        cursor = 'pointer';\n",
       "        break;\n",
       "    case 1:\n",
       "        cursor = 'default';\n",
       "        break;\n",
       "    case 2:\n",
       "        cursor = 'crosshair';\n",
       "        break;\n",
       "    case 3:\n",
       "        cursor = 'move';\n",
       "        break;\n",
       "    }\n",
       "    fig.rubberband_canvas.style.cursor = cursor;\n",
       "}\n",
       "\n",
       "mpl.figure.prototype.handle_message = function(fig, msg) {\n",
       "    fig.message.textContent = msg['message'];\n",
       "}\n",
       "\n",
       "mpl.figure.prototype.handle_draw = function(fig, msg) {\n",
       "    // Request the server to send over a new figure.\n",
       "    fig.send_draw_message();\n",
       "}\n",
       "\n",
       "mpl.figure.prototype.handle_image_mode = function(fig, msg) {\n",
       "    fig.image_mode = msg['mode'];\n",
       "}\n",
       "\n",
       "mpl.figure.prototype.updated_canvas_event = function() {\n",
       "    // Called whenever the canvas gets updated.\n",
       "    this.send_message(\"ack\", {});\n",
       "}\n",
       "\n",
       "// A function to construct a web socket function for onmessage handling.\n",
       "// Called in the figure constructor.\n",
       "mpl.figure.prototype._make_on_message_function = function(fig) {\n",
       "    return function socket_on_message(evt) {\n",
       "        if (evt.data instanceof Blob) {\n",
       "            /* FIXME: We get \"Resource interpreted as Image but\n",
       "             * transferred with MIME type text/plain:\" errors on\n",
       "             * Chrome.  But how to set the MIME type?  It doesn't seem\n",
       "             * to be part of the websocket stream */\n",
       "            evt.data.type = \"image/png\";\n",
       "\n",
       "            /* Free the memory for the previous frames */\n",
       "            if (fig.imageObj.src) {\n",
       "                (window.URL || window.webkitURL).revokeObjectURL(\n",
       "                    fig.imageObj.src);\n",
       "            }\n",
       "\n",
       "            fig.imageObj.src = (window.URL || window.webkitURL).createObjectURL(\n",
       "                evt.data);\n",
       "            fig.updated_canvas_event();\n",
       "            fig.waiting = false;\n",
       "            return;\n",
       "        }\n",
       "        else if (typeof evt.data === 'string' && evt.data.slice(0, 21) == \"data:image/png;base64\") {\n",
       "            fig.imageObj.src = evt.data;\n",
       "            fig.updated_canvas_event();\n",
       "            fig.waiting = false;\n",
       "            return;\n",
       "        }\n",
       "\n",
       "        var msg = JSON.parse(evt.data);\n",
       "        var msg_type = msg['type'];\n",
       "\n",
       "        // Call the  \"handle_{type}\" callback, which takes\n",
       "        // the figure and JSON message as its only arguments.\n",
       "        try {\n",
       "            var callback = fig[\"handle_\" + msg_type];\n",
       "        } catch (e) {\n",
       "            console.log(\"No handler for the '\" + msg_type + \"' message type: \", msg);\n",
       "            return;\n",
       "        }\n",
       "\n",
       "        if (callback) {\n",
       "            try {\n",
       "                // console.log(\"Handling '\" + msg_type + \"' message: \", msg);\n",
       "                callback(fig, msg);\n",
       "            } catch (e) {\n",
       "                console.log(\"Exception inside the 'handler_\" + msg_type + \"' callback:\", e, e.stack, msg);\n",
       "            }\n",
       "        }\n",
       "    };\n",
       "}\n",
       "\n",
       "// from http://stackoverflow.com/questions/1114465/getting-mouse-location-in-canvas\n",
       "mpl.findpos = function(e) {\n",
       "    //this section is from http://www.quirksmode.org/js/events_properties.html\n",
       "    var targ;\n",
       "    if (!e)\n",
       "        e = window.event;\n",
       "    if (e.target)\n",
       "        targ = e.target;\n",
       "    else if (e.srcElement)\n",
       "        targ = e.srcElement;\n",
       "    if (targ.nodeType == 3) // defeat Safari bug\n",
       "        targ = targ.parentNode;\n",
       "\n",
       "    // jQuery normalizes the pageX and pageY\n",
       "    // pageX,Y are the mouse positions relative to the document\n",
       "    // offset() returns the position of the element relative to the document\n",
       "    var x = e.pageX - $(targ).offset().left;\n",
       "    var y = e.pageY - $(targ).offset().top;\n",
       "\n",
       "    return {\"x\": x, \"y\": y};\n",
       "};\n",
       "\n",
       "/*\n",
       " * return a copy of an object with only non-object keys\n",
       " * we need this to avoid circular references\n",
       " * http://stackoverflow.com/a/24161582/3208463\n",
       " */\n",
       "function simpleKeys (original) {\n",
       "  return Object.keys(original).reduce(function (obj, key) {\n",
       "    if (typeof original[key] !== 'object')\n",
       "        obj[key] = original[key]\n",
       "    return obj;\n",
       "  }, {});\n",
       "}\n",
       "\n",
       "mpl.figure.prototype.mouse_event = function(event, name) {\n",
       "    var canvas_pos = mpl.findpos(event)\n",
       "\n",
       "    if (name === 'button_press')\n",
       "    {\n",
       "        this.canvas.focus();\n",
       "        this.canvas_div.focus();\n",
       "    }\n",
       "\n",
       "    var x = canvas_pos.x * mpl.ratio;\n",
       "    var y = canvas_pos.y * mpl.ratio;\n",
       "\n",
       "    this.send_message(name, {x: x, y: y, button: event.button,\n",
       "                             step: event.step,\n",
       "                             guiEvent: simpleKeys(event)});\n",
       "\n",
       "    /* This prevents the web browser from automatically changing to\n",
       "     * the text insertion cursor when the button is pressed.  We want\n",
       "     * to control all of the cursor setting manually through the\n",
       "     * 'cursor' event from matplotlib */\n",
       "    event.preventDefault();\n",
       "    return false;\n",
       "}\n",
       "\n",
       "mpl.figure.prototype._key_event_extra = function(event, name) {\n",
       "    // Handle any extra behaviour associated with a key event\n",
       "}\n",
       "\n",
       "mpl.figure.prototype.key_event = function(event, name) {\n",
       "\n",
       "    // Prevent repeat events\n",
       "    if (name == 'key_press')\n",
       "    {\n",
       "        if (event.which === this._key)\n",
       "            return;\n",
       "        else\n",
       "            this._key = event.which;\n",
       "    }\n",
       "    if (name == 'key_release')\n",
       "        this._key = null;\n",
       "\n",
       "    var value = '';\n",
       "    if (event.ctrlKey && event.which != 17)\n",
       "        value += \"ctrl+\";\n",
       "    if (event.altKey && event.which != 18)\n",
       "        value += \"alt+\";\n",
       "    if (event.shiftKey && event.which != 16)\n",
       "        value += \"shift+\";\n",
       "\n",
       "    value += 'k';\n",
       "    value += event.which.toString();\n",
       "\n",
       "    this._key_event_extra(event, name);\n",
       "\n",
       "    this.send_message(name, {key: value,\n",
       "                             guiEvent: simpleKeys(event)});\n",
       "    return false;\n",
       "}\n",
       "\n",
       "mpl.figure.prototype.toolbar_button_onclick = function(name) {\n",
       "    if (name == 'download') {\n",
       "        this.handle_save(this, null);\n",
       "    } else {\n",
       "        this.send_message(\"toolbar_button\", {name: name});\n",
       "    }\n",
       "};\n",
       "\n",
       "mpl.figure.prototype.toolbar_button_onmouseover = function(tooltip) {\n",
       "    this.message.textContent = tooltip;\n",
       "};\n",
       "mpl.toolbar_items = [[\"Home\", \"Reset original view\", \"fa fa-home icon-home\", \"home\"], [\"Back\", \"Back to  previous view\", \"fa fa-arrow-left icon-arrow-left\", \"back\"], [\"Forward\", \"Forward to next view\", \"fa fa-arrow-right icon-arrow-right\", \"forward\"], [\"\", \"\", \"\", \"\"], [\"Pan\", \"Pan axes with left mouse, zoom with right\", \"fa fa-arrows icon-move\", \"pan\"], [\"Zoom\", \"Zoom to rectangle\", \"fa fa-square-o icon-check-empty\", \"zoom\"], [\"\", \"\", \"\", \"\"], [\"Download\", \"Download plot\", \"fa fa-floppy-o icon-save\", \"download\"]];\n",
       "\n",
       "mpl.extensions = [\"eps\", \"jpeg\", \"pdf\", \"png\", \"ps\", \"raw\", \"svg\", \"tif\"];\n",
       "\n",
       "mpl.default_extension = \"png\";var comm_websocket_adapter = function(comm) {\n",
       "    // Create a \"websocket\"-like object which calls the given IPython comm\n",
       "    // object with the appropriate methods. Currently this is a non binary\n",
       "    // socket, so there is still some room for performance tuning.\n",
       "    var ws = {};\n",
       "\n",
       "    ws.close = function() {\n",
       "        comm.close()\n",
       "    };\n",
       "    ws.send = function(m) {\n",
       "        //console.log('sending', m);\n",
       "        comm.send(m);\n",
       "    };\n",
       "    // Register the callback with on_msg.\n",
       "    comm.on_msg(function(msg) {\n",
       "        //console.log('receiving', msg['content']['data'], msg);\n",
       "        // Pass the mpl event to the overriden (by mpl) onmessage function.\n",
       "        ws.onmessage(msg['content']['data'])\n",
       "    });\n",
       "    return ws;\n",
       "}\n",
       "\n",
       "mpl.mpl_figure_comm = function(comm, msg) {\n",
       "    // This is the function which gets called when the mpl process\n",
       "    // starts-up an IPython Comm through the \"matplotlib\" channel.\n",
       "\n",
       "    var id = msg.content.data.id;\n",
       "    // Get hold of the div created by the display call when the Comm\n",
       "    // socket was opened in Python.\n",
       "    var element = $(\"#\" + id);\n",
       "    var ws_proxy = comm_websocket_adapter(comm)\n",
       "\n",
       "    function ondownload(figure, format) {\n",
       "        window.open(figure.imageObj.src);\n",
       "    }\n",
       "\n",
       "    var fig = new mpl.figure(id, ws_proxy,\n",
       "                           ondownload,\n",
       "                           element.get(0));\n",
       "\n",
       "    // Call onopen now - mpl needs it, as it is assuming we've passed it a real\n",
       "    // web socket which is closed, not our websocket->open comm proxy.\n",
       "    ws_proxy.onopen();\n",
       "\n",
       "    fig.parent_element = element.get(0);\n",
       "    fig.cell_info = mpl.find_output_cell(\"<div id='\" + id + \"'></div>\");\n",
       "    if (!fig.cell_info) {\n",
       "        console.error(\"Failed to find cell for figure\", id, fig);\n",
       "        return;\n",
       "    }\n",
       "\n",
       "    var output_index = fig.cell_info[2]\n",
       "    var cell = fig.cell_info[0];\n",
       "\n",
       "};\n",
       "\n",
       "mpl.figure.prototype.handle_close = function(fig, msg) {\n",
       "    var width = fig.canvas.width/mpl.ratio\n",
       "    fig.root.unbind('remove')\n",
       "\n",
       "    // Update the output cell to use the data from the current canvas.\n",
       "    fig.push_to_output();\n",
       "    var dataURL = fig.canvas.toDataURL();\n",
       "    // Re-enable the keyboard manager in IPython - without this line, in FF,\n",
       "    // the notebook keyboard shortcuts fail.\n",
       "    IPython.keyboard_manager.enable()\n",
       "    $(fig.parent_element).html('<img src=\"' + dataURL + '\" width=\"' + width + '\">');\n",
       "    fig.close_ws(fig, msg);\n",
       "}\n",
       "\n",
       "mpl.figure.prototype.close_ws = function(fig, msg){\n",
       "    fig.send_message('closing', msg);\n",
       "    // fig.ws.close()\n",
       "}\n",
       "\n",
       "mpl.figure.prototype.push_to_output = function(remove_interactive) {\n",
       "    // Turn the data on the canvas into data in the output cell.\n",
       "    var width = this.canvas.width/mpl.ratio\n",
       "    var dataURL = this.canvas.toDataURL();\n",
       "    this.cell_info[1]['text/html'] = '<img src=\"' + dataURL + '\" width=\"' + width + '\">';\n",
       "}\n",
       "\n",
       "mpl.figure.prototype.updated_canvas_event = function() {\n",
       "    // Tell IPython that the notebook contents must change.\n",
       "    IPython.notebook.set_dirty(true);\n",
       "    this.send_message(\"ack\", {});\n",
       "    var fig = this;\n",
       "    // Wait a second, then push the new image to the DOM so\n",
       "    // that it is saved nicely (might be nice to debounce this).\n",
       "    setTimeout(function () { fig.push_to_output() }, 1000);\n",
       "}\n",
       "\n",
       "mpl.figure.prototype._init_toolbar = function() {\n",
       "    var fig = this;\n",
       "\n",
       "    var nav_element = $('<div/>')\n",
       "    nav_element.attr('style', 'width: 100%');\n",
       "    this.root.append(nav_element);\n",
       "\n",
       "    // Define a callback function for later on.\n",
       "    function toolbar_event(event) {\n",
       "        return fig.toolbar_button_onclick(event['data']);\n",
       "    }\n",
       "    function toolbar_mouse_event(event) {\n",
       "        return fig.toolbar_button_onmouseover(event['data']);\n",
       "    }\n",
       "\n",
       "    for(var toolbar_ind in mpl.toolbar_items){\n",
       "        var name = mpl.toolbar_items[toolbar_ind][0];\n",
       "        var tooltip = mpl.toolbar_items[toolbar_ind][1];\n",
       "        var image = mpl.toolbar_items[toolbar_ind][2];\n",
       "        var method_name = mpl.toolbar_items[toolbar_ind][3];\n",
       "\n",
       "        if (!name) { continue; };\n",
       "\n",
       "        var button = $('<button class=\"btn btn-default\" href=\"#\" title=\"' + name + '\"><i class=\"fa ' + image + ' fa-lg\"></i></button>');\n",
       "        button.click(method_name, toolbar_event);\n",
       "        button.mouseover(tooltip, toolbar_mouse_event);\n",
       "        nav_element.append(button);\n",
       "    }\n",
       "\n",
       "    // Add the status bar.\n",
       "    var status_bar = $('<span class=\"mpl-message\" style=\"text-align:right; float: right;\"/>');\n",
       "    nav_element.append(status_bar);\n",
       "    this.message = status_bar[0];\n",
       "\n",
       "    // Add the close button to the window.\n",
       "    var buttongrp = $('<div class=\"btn-group inline pull-right\"></div>');\n",
       "    var button = $('<button class=\"btn btn-mini btn-primary\" href=\"#\" title=\"Stop Interaction\"><i class=\"fa fa-power-off icon-remove icon-large\"></i></button>');\n",
       "    button.click(function (evt) { fig.handle_close(fig, {}); } );\n",
       "    button.mouseover('Stop Interaction', toolbar_mouse_event);\n",
       "    buttongrp.append(button);\n",
       "    var titlebar = this.root.find($('.ui-dialog-titlebar'));\n",
       "    titlebar.prepend(buttongrp);\n",
       "}\n",
       "\n",
       "mpl.figure.prototype._root_extra_style = function(el){\n",
       "    var fig = this\n",
       "    el.on(\"remove\", function(){\n",
       "\tfig.close_ws(fig, {});\n",
       "    });\n",
       "}\n",
       "\n",
       "mpl.figure.prototype._canvas_extra_style = function(el){\n",
       "    // this is important to make the div 'focusable\n",
       "    el.attr('tabindex', 0)\n",
       "    // reach out to IPython and tell the keyboard manager to turn it's self\n",
       "    // off when our div gets focus\n",
       "\n",
       "    // location in version 3\n",
       "    if (IPython.notebook.keyboard_manager) {\n",
       "        IPython.notebook.keyboard_manager.register_events(el);\n",
       "    }\n",
       "    else {\n",
       "        // location in version 2\n",
       "        IPython.keyboard_manager.register_events(el);\n",
       "    }\n",
       "\n",
       "}\n",
       "\n",
       "mpl.figure.prototype._key_event_extra = function(event, name) {\n",
       "    var manager = IPython.notebook.keyboard_manager;\n",
       "    if (!manager)\n",
       "        manager = IPython.keyboard_manager;\n",
       "\n",
       "    // Check for shift+enter\n",
       "    if (event.shiftKey && event.which == 13) {\n",
       "        this.canvas_div.blur();\n",
       "        // select the cell after this one\n",
       "        var index = IPython.notebook.find_cell_index(this.cell_info[0]);\n",
       "        IPython.notebook.select(index + 1);\n",
       "    }\n",
       "}\n",
       "\n",
       "mpl.figure.prototype.handle_save = function(fig, msg) {\n",
       "    fig.ondownload(fig, null);\n",
       "}\n",
       "\n",
       "\n",
       "mpl.find_output_cell = function(html_output) {\n",
       "    // Return the cell and output element which can be found *uniquely* in the notebook.\n",
       "    // Note - this is a bit hacky, but it is done because the \"notebook_saving.Notebook\"\n",
       "    // IPython event is triggered only after the cells have been serialised, which for\n",
       "    // our purposes (turning an active figure into a static one), is too late.\n",
       "    var cells = IPython.notebook.get_cells();\n",
       "    var ncells = cells.length;\n",
       "    for (var i=0; i<ncells; i++) {\n",
       "        var cell = cells[i];\n",
       "        if (cell.cell_type === 'code'){\n",
       "            for (var j=0; j<cell.output_area.outputs.length; j++) {\n",
       "                var data = cell.output_area.outputs[j];\n",
       "                if (data.data) {\n",
       "                    // IPython >= 3 moved mimebundle to data attribute of output\n",
       "                    data = data.data;\n",
       "                }\n",
       "                if (data['text/html'] == html_output) {\n",
       "                    return [cell, data, j];\n",
       "                }\n",
       "            }\n",
       "        }\n",
       "    }\n",
       "}\n",
       "\n",
       "// Register the function which deals with the matplotlib target/channel.\n",
       "// The kernel may be null if the page has been refreshed.\n",
       "if (IPython.notebook.kernel != null) {\n",
       "    IPython.notebook.kernel.comm_manager.register_target('matplotlib', mpl.mpl_figure_comm);\n",
       "}\n"
      ],
      "text/plain": [
       "<IPython.core.display.Javascript object>"
      ]
     },
     "metadata": {},
     "output_type": "display_data"
    },
    {
     "data": {
      "text/html": [
       "<img src=\"data:image/png;base64,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\" width=\"639.9999630089984\">"
      ],
      "text/plain": [
       "<IPython.core.display.HTML object>"
      ]
     },
     "metadata": {},
     "output_type": "display_data"
    }
   ],
   "source": [
    "stream=Data.fromfile('bytestream',stream_dt,'teslib','measurement_subsystem_TB',tool='vivado')\n",
    "minmax=Data.fromfile('minmax',minmax_dt,'teslib','measurement_subsystem_TB',tool='vivado')\n",
    "bs=PacketStream(stream)\n",
    "es=bs.eventstream\n",
    "%matplotlib notebook\n",
    "for e in es:\n",
    "    if e[1]==Event.peak or e[1]==Event.pulse:\n",
    "        plot_event(e,False)"
   ]
  },
  {
   "cell_type": "code",
   "execution_count": 7,
   "metadata": {
    "collapsed": false
   },
   "outputs": [
    {
     "data": {
      "text/plain": [
       "[(0, <Event.tick: 4>, (131072, 3, 0, 0, 0, 0, 0, 0, 0, 0, 0, 0)),\n",
       " (2526, <Event.peak: 0>, (8669, -1390, 273, 2526)),\n",
       " (2526,\n",
       "  <Event.pulse: 2>,\n",
       "  (3, 0, 4120, 0, 356918, 446, 28, (8669, -1390, 21, 28))),\n",
       " (10020, <Event.peak: 0>, (18147, -1723, 273, 7494)),\n",
       " (10020,\n",
       "  <Event.pulse: 2>,\n",
       "  (3, 0, 4120, 0, 1227750, 599, 50, (18147, -1723, 27, 50))),\n",
       " (12522, <Event.peak: 0>, (9095, -2872, 273, 2502)),\n",
       " (12522,\n",
       "  <Event.pulse: 2>,\n",
       "  (3, 0, 4120, 0, 443102, 473, 32, (9095, -2872, 18, 32))),\n",
       " (15025, <Event.peak: 0>, (10238, -2271, 273, 2503)),\n",
       " (15025,\n",
       "  <Event.pulse: 2>,\n",
       "  (3, 0, 4120, 0, 512399, 489, 24, (10238, -2271, 26, 24))),\n",
       " (22520, <Event.peak: 0>, (9204, -115, 273, 7495)),\n",
       " (22520,\n",
       "  <Event.pulse: 2>,\n",
       "  (3, 0, 4120, 0, 485729, 442, 35, (9204, -115, 24, 35))),\n",
       " (25008, <Event.peak: 0>, (11049, 1627, 273, 2488)),\n",
       " (25008,\n",
       "  <Event.pulse: 2>,\n",
       "  (3, 0, 4120, 0, 466660, 471, 13, (11049, 1627, 30, 13))),\n",
       " (27516, <Event.peak: 0>, (11849, 1146, 273, 2508)),\n",
       " (27516,\n",
       "  <Event.pulse: 2>,\n",
       "  (3, 0, 4120, 0, 583060, 467, 16, (11849, 1146, 33, 16))),\n",
       " (37522, <Event.peak: 0>, (9324, -522, 273, 10006)),\n",
       " (37522,\n",
       "  <Event.pulse: 2>,\n",
       "  (3, 0, 4120, 0, 345526, 287, 25, (9324, -522, 24, 25))),\n",
       " (55032, <Event.peak: 0>, (9030, -2756, 273, 17510)),\n",
       " (55032,\n",
       "  <Event.pulse: 2>,\n",
       "  (3, 0, 4120, 0, 382515, 334, 26, (9030, -2756, 21, 26))),\n",
       " (57519, <Event.peak: 0>, (18037, -465, 273, 2487)),\n",
       " (57519,\n",
       "  <Event.pulse: 2>,\n",
       "  (3, 0, 4120, 0, 1432066, 704, 21, (18037, -465, 33, 21))),\n",
       " (60022, <Event.peak: 0>, (10514, 90, 273, 2503)),\n",
       " (60022,\n",
       "  <Event.pulse: 2>,\n",
       "  (3, 0, 4120, 0, 352997, 316, 19, (10514, 90, 27, 19))),\n",
       " (62518, <Event.peak: 0>, (16874, -2077, 273, 2496)),\n",
       " (62518,\n",
       "  <Event.pulse: 2>,\n",
       "  (3, 0, 4120, 0, 1233036, 600, 43, (16874, -2077, 28, 43))),\n",
       " (65018, <Event.peak: 0>, (11461, 397, 273, 2500)),\n",
       " (65018,\n",
       "  <Event.pulse: 2>,\n",
       "  (3, 0, 4120, 0, 530234, 405, 20, (11461, 397, 28, 20))),\n",
       " (70019, <Event.peak: 0>, (11488, -2954, 273, 5001)),\n",
       " (70019,\n",
       "  <Event.pulse: 2>,\n",
       "  (3, 0, 4120, 0, 587616, 416, 72, (11488, -2954, 22, 72))),\n",
       " (72519, <Event.peak: 0>, (17438, -687, 273, 2500)),\n",
       " (72519,\n",
       "  <Event.pulse: 2>,\n",
       "  (3, 0, 4120, 0, 1380721, 655, 18, (17438, -687, 26, 18))),\n",
       " (82506, <Event.peak: 0>, (12510, 1694, 273, 9987)),\n",
       " (82506,\n",
       "  <Event.pulse: 2>,\n",
       "  (3, 0, 4120, 0, 531096, 435, 18, (12510, 1694, 36, 18))),\n",
       " (92520, <Event.peak: 0>, (10960, -461, 273, 10014)),\n",
       " (92520,\n",
       "  <Event.pulse: 2>,\n",
       "  (3, 0, 4120, 0, 516170, 428, 17, (10960, -461, 23, 17))),\n",
       " (107525, <Event.peak: 0>, (8838, -1917, 273, 15005)),\n",
       " (107525,\n",
       "  <Event.pulse: 2>,\n",
       "  (3, 0, 4120, 0, 491335, 576, 26, (8838, -1917, 17, 26))),\n",
       " (115017, <Event.peak: 0>, (23066, -446, 273, 7492)),\n",
       " (115017,\n",
       "  <Event.pulse: 2>,\n",
       "  (3, 0, 4120, 0, 2875914, 881, 22, (23066, -446, 32, 22))),\n",
       " (120026, <Event.peak: 0>, (9840, -733, 273, 5009)),\n",
       " (120026,\n",
       "  <Event.pulse: 2>,\n",
       "  (3, 0, 4120, 0, 513183, 609, 26, (9840, -733, 21, 26))),\n",
       " (122516, <Event.peak: 0>, (11301, 290, 273, 2490)),\n",
       " (122516,\n",
       "  <Event.pulse: 2>,\n",
       "  (3, 0, 4120, 0, 582988, 523, 25, (11301, 290, 23, 25))),\n",
       " (125023, <Event.peak: 0>, (11284, -267, 273, 2507)),\n",
       " (125023,\n",
       "  <Event.pulse: 2>,\n",
       "  (3, 0, 4120, 0, 575756, 550, 49, (11284, -267, 35, 49))),\n",
       " (131072, <Event.tick: 4>, (131072, 3, 6049, 131072, 0, 0, 0, 0, 0, 0, 0, 0)),\n",
       " (135015, <Event.peak: 0>, (12719, 1180, 273, 3943)),\n",
       " (135015,\n",
       "  <Event.pulse: 2>,\n",
       "  (3, 0, 4120, 0, 495059, 372, 17, (12719, 1180, 31, 17))),\n",
       " (137514, <Event.peak: 0>, (19010, -2737, 273, 2499)),\n",
       " (137514,\n",
       "  <Event.pulse: 2>,\n",
       "  (3, 0, 4120, 0, 1282982, 559, 43, (19010, -2737, 34, 43))),\n",
       " (150027, <Event.peak: 0>, (9470, -2245, 273, 12513)),\n",
       " (150027,\n",
       "  <Event.pulse: 2>,\n",
       "  (3, 0, 4120, 0, 332941, 431, 73, (9470, -2245, 17, 73))),\n",
       " (160018, <Event.peak: 0>, (18446, 584, 273, 9991)),\n",
       " (160018,\n",
       "  <Event.pulse: 2>,\n",
       "  (3, 0, 4120, 0, 1363822, 752, 16, (18446, 584, 33, 16))),\n",
       " (165021, <Event.peak: 0>, (18283, -531, 273, 5003)),\n",
       " (165021,\n",
       "  <Event.pulse: 2>,\n",
       "  (3, 0, 4120, 0, 1274588, 641, 18, (18283, -531, 25, 18))),\n",
       " (180022, <Event.peak: 0>, (10398, -1053, 273, 15001)),\n",
       " (180022,\n",
       "  <Event.pulse: 2>,\n",
       "  (3, 0, 4120, 0, 497230, 401, 19, (10398, -1053, 20, 19))),\n",
       " (195025, <Event.peak: 0>, (10054, -1223, 273, 15003)),\n",
       " (195025,\n",
       "  <Event.pulse: 2>,\n",
       "  (3, 0, 4120, 0, 380334, 297, 23, (10054, -1223, 20, 23))),\n",
       " (200025, <Event.peak: 0>, (9867, 228, 273, 5000)),\n",
       " (200025,\n",
       "  <Event.pulse: 2>,\n",
       "  (3, 0, 4120, 0, 382469, 413, 19, (9867, 228, 24, 19))),\n",
       " (202531, <Event.peak: 0>, (9828, -499, 273, 2506)),\n",
       " (202531,\n",
       "  <Event.pulse: 2>,\n",
       "  (3, 0, 4120, 0, 490911, 556, 23, (9828, -499, 23, 23))),\n",
       " (207528, <Event.peak: 0>, (8834, -1352, 273, 4997)),\n",
       " (207528,\n",
       "  <Event.pulse: 2>,\n",
       "  (3, 0, 4120, 0, 446854, 534, 22, (8834, -1352, 19, 22))),\n",
       " (232523, <Event.peak: 0>, (9582, -259, 273, 24995)),\n",
       " (232523,\n",
       "  <Event.pulse: 2>,\n",
       "  (3, 0, 4120, 0, 434653, 349, 39, (9582, -259, 19, 39))),\n",
       " (242523, <Event.peak: 0>, (8844, -259, 273, 10000))]"
      ]
     },
     "execution_count": 7,
     "metadata": {},
     "output_type": "execute_result"
    }
   ],
   "source": [
    "bs.eventstream"
   ]
  },
  {
   "cell_type": "code",
   "execution_count": 8,
   "metadata": {
    "collapsed": false,
    "run_control": {
     "frozen": false,
     "read_only": false
    },
    "scrolled": true
   },
   "outputs": [
    {
     "data": {
      "text/plain": [
       "[Distribution: channel:0 value:slope_signal, trigger:clock, qualifier:all,\n",
       " Distribution: channel:0 value:slope_signal, trigger:clock, qualifier:all,\n",
       " Distribution: channel:0 value:slope_signal, trigger:clock, qualifier:all,\n",
       " Distribution: channel:0 value:slope_signal, trigger:clock, qualifier:all]"
      ]
     },
     "execution_count": 8,
     "metadata": {},
     "output_type": "execute_result"
    }
   ],
   "source": [
    "traces=Data.fromfile('traces',trace_dt,'teslib','measurement_subsystem_TB',tool='vivado')\n",
    "stream=Data.fromfile('bytestream',stream_dt,'teslib','measurement_subsystem_TB',tool='vivado')\n",
    "bs=PacketStream(stream)\n",
    "dists=bs.distributions\n",
    "#bs.packets\n",
    "dists"
   ]
  },
  {
   "cell_type": "code",
   "execution_count": 17,
   "metadata": {
    "collapsed": false
   },
   "outputs": [
    {
     "data": {
      "text/plain": [
       "145"
      ]
     },
     "execution_count": 17,
     "metadata": {},
     "output_type": "execute_result"
    }
   ],
   "source": [
    "d=dists[0]\n",
    "d.counts[1]"
   ]
  },
  {
   "cell_type": "code",
   "execution_count": 22,
   "metadata": {
    "collapsed": false
   },
   "outputs": [
    {
     "data": {
      "text/plain": [
       "655360"
      ]
     },
     "execution_count": 22,
     "metadata": {},
     "output_type": "execute_result"
    }
   ],
   "source": [
    "d.total+d.underflow+d.overflow"
   ]
  },
  {
   "cell_type": "code",
   "execution_count": 24,
   "metadata": {
    "collapsed": false
   },
   "outputs": [
    {
     "data": {
      "application/javascript": [
       "/* Put everything inside the global mpl namespace */\n",
       "window.mpl = {};\n",
       "\n",
       "\n",
       "mpl.get_websocket_type = function() {\n",
       "    if (typeof(WebSocket) !== 'undefined') {\n",
       "        return WebSocket;\n",
       "    } else if (typeof(MozWebSocket) !== 'undefined') {\n",
       "        return MozWebSocket;\n",
       "    } else {\n",
       "        alert('Your browser does not have WebSocket support.' +\n",
       "              'Please try Chrome, Safari or Firefox ≥ 6. ' +\n",
       "              'Firefox 4 and 5 are also supported but you ' +\n",
       "              'have to enable WebSockets in about:config.');\n",
       "    };\n",
       "}\n",
       "\n",
       "mpl.figure = function(figure_id, websocket, ondownload, parent_element) {\n",
       "    this.id = figure_id;\n",
       "\n",
       "    this.ws = websocket;\n",
       "\n",
       "    this.supports_binary = (this.ws.binaryType != undefined);\n",
       "\n",
       "    if (!this.supports_binary) {\n",
       "        var warnings = document.getElementById(\"mpl-warnings\");\n",
       "        if (warnings) {\n",
       "            warnings.style.display = 'block';\n",
       "            warnings.textContent = (\n",
       "                \"This browser does not support binary websocket messages. \" +\n",
       "                    \"Performance may be slow.\");\n",
       "        }\n",
       "    }\n",
       "\n",
       "    this.imageObj = new Image();\n",
       "\n",
       "    this.context = undefined;\n",
       "    this.message = undefined;\n",
       "    this.canvas = undefined;\n",
       "    this.rubberband_canvas = undefined;\n",
       "    this.rubberband_context = undefined;\n",
       "    this.format_dropdown = undefined;\n",
       "\n",
       "    this.image_mode = 'full';\n",
       "\n",
       "    this.root = $('<div/>');\n",
       "    this._root_extra_style(this.root)\n",
       "    this.root.attr('style', 'display: inline-block');\n",
       "\n",
       "    $(parent_element).append(this.root);\n",
       "\n",
       "    this._init_header(this);\n",
       "    this._init_canvas(this);\n",
       "    this._init_toolbar(this);\n",
       "\n",
       "    var fig = this;\n",
       "\n",
       "    this.waiting = false;\n",
       "\n",
       "    this.ws.onopen =  function () {\n",
       "            fig.send_message(\"supports_binary\", {value: fig.supports_binary});\n",
       "            fig.send_message(\"send_image_mode\", {});\n",
       "            if (mpl.ratio != 1) {\n",
       "                fig.send_message(\"set_dpi_ratio\", {'dpi_ratio': mpl.ratio});\n",
       "            }\n",
       "            fig.send_message(\"refresh\", {});\n",
       "        }\n",
       "\n",
       "    this.imageObj.onload = function() {\n",
       "            if (fig.image_mode == 'full') {\n",
       "                // Full images could contain transparency (where diff images\n",
       "                // almost always do), so we need to clear the canvas so that\n",
       "                // there is no ghosting.\n",
       "                fig.context.clearRect(0, 0, fig.canvas.width, fig.canvas.height);\n",
       "            }\n",
       "            fig.context.drawImage(fig.imageObj, 0, 0);\n",
       "        };\n",
       "\n",
       "    this.imageObj.onunload = function() {\n",
       "        this.ws.close();\n",
       "    }\n",
       "\n",
       "    this.ws.onmessage = this._make_on_message_function(this);\n",
       "\n",
       "    this.ondownload = ondownload;\n",
       "}\n",
       "\n",
       "mpl.figure.prototype._init_header = function() {\n",
       "    var titlebar = $(\n",
       "        '<div class=\"ui-dialog-titlebar ui-widget-header ui-corner-all ' +\n",
       "        'ui-helper-clearfix\"/>');\n",
       "    var titletext = $(\n",
       "        '<div class=\"ui-dialog-title\" style=\"width: 100%; ' +\n",
       "        'text-align: center; padding: 3px;\"/>');\n",
       "    titlebar.append(titletext)\n",
       "    this.root.append(titlebar);\n",
       "    this.header = titletext[0];\n",
       "}\n",
       "\n",
       "\n",
       "\n",
       "mpl.figure.prototype._canvas_extra_style = function(canvas_div) {\n",
       "\n",
       "}\n",
       "\n",
       "\n",
       "mpl.figure.prototype._root_extra_style = function(canvas_div) {\n",
       "\n",
       "}\n",
       "\n",
       "mpl.figure.prototype._init_canvas = function() {\n",
       "    var fig = this;\n",
       "\n",
       "    var canvas_div = $('<div/>');\n",
       "\n",
       "    canvas_div.attr('style', 'position: relative; clear: both; outline: 0');\n",
       "\n",
       "    function canvas_keyboard_event(event) {\n",
       "        return fig.key_event(event, event['data']);\n",
       "    }\n",
       "\n",
       "    canvas_div.keydown('key_press', canvas_keyboard_event);\n",
       "    canvas_div.keyup('key_release', canvas_keyboard_event);\n",
       "    this.canvas_div = canvas_div\n",
       "    this._canvas_extra_style(canvas_div)\n",
       "    this.root.append(canvas_div);\n",
       "\n",
       "    var canvas = $('<canvas/>');\n",
       "    canvas.addClass('mpl-canvas');\n",
       "    canvas.attr('style', \"left: 0; top: 0; z-index: 0; outline: 0\")\n",
       "\n",
       "    this.canvas = canvas[0];\n",
       "    this.context = canvas[0].getContext(\"2d\");\n",
       "\n",
       "    var backingStore = this.context.backingStorePixelRatio ||\n",
       "\tthis.context.webkitBackingStorePixelRatio ||\n",
       "\tthis.context.mozBackingStorePixelRatio ||\n",
       "\tthis.context.msBackingStorePixelRatio ||\n",
       "\tthis.context.oBackingStorePixelRatio ||\n",
       "\tthis.context.backingStorePixelRatio || 1;\n",
       "\n",
       "    mpl.ratio = (window.devicePixelRatio || 1) / backingStore;\n",
       "\n",
       "    var rubberband = $('<canvas/>');\n",
       "    rubberband.attr('style', \"position: absolute; left: 0; top: 0; z-index: 1;\")\n",
       "\n",
       "    var pass_mouse_events = true;\n",
       "\n",
       "    canvas_div.resizable({\n",
       "        start: function(event, ui) {\n",
       "            pass_mouse_events = false;\n",
       "        },\n",
       "        resize: function(event, ui) {\n",
       "            fig.request_resize(ui.size.width, ui.size.height);\n",
       "        },\n",
       "        stop: function(event, ui) {\n",
       "            pass_mouse_events = true;\n",
       "            fig.request_resize(ui.size.width, ui.size.height);\n",
       "        },\n",
       "    });\n",
       "\n",
       "    function mouse_event_fn(event) {\n",
       "        if (pass_mouse_events)\n",
       "            return fig.mouse_event(event, event['data']);\n",
       "    }\n",
       "\n",
       "    rubberband.mousedown('button_press', mouse_event_fn);\n",
       "    rubberband.mouseup('button_release', mouse_event_fn);\n",
       "    // Throttle sequential mouse events to 1 every 20ms.\n",
       "    rubberband.mousemove('motion_notify', mouse_event_fn);\n",
       "\n",
       "    rubberband.mouseenter('figure_enter', mouse_event_fn);\n",
       "    rubberband.mouseleave('figure_leave', mouse_event_fn);\n",
       "\n",
       "    canvas_div.on(\"wheel\", function (event) {\n",
       "        event = event.originalEvent;\n",
       "        event['data'] = 'scroll'\n",
       "        if (event.deltaY < 0) {\n",
       "            event.step = 1;\n",
       "        } else {\n",
       "            event.step = -1;\n",
       "        }\n",
       "        mouse_event_fn(event);\n",
       "    });\n",
       "\n",
       "    canvas_div.append(canvas);\n",
       "    canvas_div.append(rubberband);\n",
       "\n",
       "    this.rubberband = rubberband;\n",
       "    this.rubberband_canvas = rubberband[0];\n",
       "    this.rubberband_context = rubberband[0].getContext(\"2d\");\n",
       "    this.rubberband_context.strokeStyle = \"#000000\";\n",
       "\n",
       "    this._resize_canvas = function(width, height) {\n",
       "        // Keep the size of the canvas, canvas container, and rubber band\n",
       "        // canvas in synch.\n",
       "        canvas_div.css('width', width)\n",
       "        canvas_div.css('height', height)\n",
       "\n",
       "        canvas.attr('width', width * mpl.ratio);\n",
       "        canvas.attr('height', height * mpl.ratio);\n",
       "        canvas.attr('style', 'width: ' + width + 'px; height: ' + height + 'px;');\n",
       "\n",
       "        rubberband.attr('width', width);\n",
       "        rubberband.attr('height', height);\n",
       "    }\n",
       "\n",
       "    // Set the figure to an initial 600x600px, this will subsequently be updated\n",
       "    // upon first draw.\n",
       "    this._resize_canvas(600, 600);\n",
       "\n",
       "    // Disable right mouse context menu.\n",
       "    $(this.rubberband_canvas).bind(\"contextmenu\",function(e){\n",
       "        return false;\n",
       "    });\n",
       "\n",
       "    function set_focus () {\n",
       "        canvas.focus();\n",
       "        canvas_div.focus();\n",
       "    }\n",
       "\n",
       "    window.setTimeout(set_focus, 100);\n",
       "}\n",
       "\n",
       "mpl.figure.prototype._init_toolbar = function() {\n",
       "    var fig = this;\n",
       "\n",
       "    var nav_element = $('<div/>')\n",
       "    nav_element.attr('style', 'width: 100%');\n",
       "    this.root.append(nav_element);\n",
       "\n",
       "    // Define a callback function for later on.\n",
       "    function toolbar_event(event) {\n",
       "        return fig.toolbar_button_onclick(event['data']);\n",
       "    }\n",
       "    function toolbar_mouse_event(event) {\n",
       "        return fig.toolbar_button_onmouseover(event['data']);\n",
       "    }\n",
       "\n",
       "    for(var toolbar_ind in mpl.toolbar_items) {\n",
       "        var name = mpl.toolbar_items[toolbar_ind][0];\n",
       "        var tooltip = mpl.toolbar_items[toolbar_ind][1];\n",
       "        var image = mpl.toolbar_items[toolbar_ind][2];\n",
       "        var method_name = mpl.toolbar_items[toolbar_ind][3];\n",
       "\n",
       "        if (!name) {\n",
       "            // put a spacer in here.\n",
       "            continue;\n",
       "        }\n",
       "        var button = $('<button/>');\n",
       "        button.addClass('ui-button ui-widget ui-state-default ui-corner-all ' +\n",
       "                        'ui-button-icon-only');\n",
       "        button.attr('role', 'button');\n",
       "        button.attr('aria-disabled', 'false');\n",
       "        button.click(method_name, toolbar_event);\n",
       "        button.mouseover(tooltip, toolbar_mouse_event);\n",
       "\n",
       "        var icon_img = $('<span/>');\n",
       "        icon_img.addClass('ui-button-icon-primary ui-icon');\n",
       "        icon_img.addClass(image);\n",
       "        icon_img.addClass('ui-corner-all');\n",
       "\n",
       "        var tooltip_span = $('<span/>');\n",
       "        tooltip_span.addClass('ui-button-text');\n",
       "        tooltip_span.html(tooltip);\n",
       "\n",
       "        button.append(icon_img);\n",
       "        button.append(tooltip_span);\n",
       "\n",
       "        nav_element.append(button);\n",
       "    }\n",
       "\n",
       "    var fmt_picker_span = $('<span/>');\n",
       "\n",
       "    var fmt_picker = $('<select/>');\n",
       "    fmt_picker.addClass('mpl-toolbar-option ui-widget ui-widget-content');\n",
       "    fmt_picker_span.append(fmt_picker);\n",
       "    nav_element.append(fmt_picker_span);\n",
       "    this.format_dropdown = fmt_picker[0];\n",
       "\n",
       "    for (var ind in mpl.extensions) {\n",
       "        var fmt = mpl.extensions[ind];\n",
       "        var option = $(\n",
       "            '<option/>', {selected: fmt === mpl.default_extension}).html(fmt);\n",
       "        fmt_picker.append(option)\n",
       "    }\n",
       "\n",
       "    // Add hover states to the ui-buttons\n",
       "    $( \".ui-button\" ).hover(\n",
       "        function() { $(this).addClass(\"ui-state-hover\");},\n",
       "        function() { $(this).removeClass(\"ui-state-hover\");}\n",
       "    );\n",
       "\n",
       "    var status_bar = $('<span class=\"mpl-message\"/>');\n",
       "    nav_element.append(status_bar);\n",
       "    this.message = status_bar[0];\n",
       "}\n",
       "\n",
       "mpl.figure.prototype.request_resize = function(x_pixels, y_pixels) {\n",
       "    // Request matplotlib to resize the figure. Matplotlib will then trigger a resize in the client,\n",
       "    // which will in turn request a refresh of the image.\n",
       "    this.send_message('resize', {'width': x_pixels, 'height': y_pixels});\n",
       "}\n",
       "\n",
       "mpl.figure.prototype.send_message = function(type, properties) {\n",
       "    properties['type'] = type;\n",
       "    properties['figure_id'] = this.id;\n",
       "    this.ws.send(JSON.stringify(properties));\n",
       "}\n",
       "\n",
       "mpl.figure.prototype.send_draw_message = function() {\n",
       "    if (!this.waiting) {\n",
       "        this.waiting = true;\n",
       "        this.ws.send(JSON.stringify({type: \"draw\", figure_id: this.id}));\n",
       "    }\n",
       "}\n",
       "\n",
       "\n",
       "mpl.figure.prototype.handle_save = function(fig, msg) {\n",
       "    var format_dropdown = fig.format_dropdown;\n",
       "    var format = format_dropdown.options[format_dropdown.selectedIndex].value;\n",
       "    fig.ondownload(fig, format);\n",
       "}\n",
       "\n",
       "\n",
       "mpl.figure.prototype.handle_resize = function(fig, msg) {\n",
       "    var size = msg['size'];\n",
       "    if (size[0] != fig.canvas.width || size[1] != fig.canvas.height) {\n",
       "        fig._resize_canvas(size[0], size[1]);\n",
       "        fig.send_message(\"refresh\", {});\n",
       "    };\n",
       "}\n",
       "\n",
       "mpl.figure.prototype.handle_rubberband = function(fig, msg) {\n",
       "    var x0 = msg['x0'] / mpl.ratio;\n",
       "    var y0 = (fig.canvas.height - msg['y0']) / mpl.ratio;\n",
       "    var x1 = msg['x1'] / mpl.ratio;\n",
       "    var y1 = (fig.canvas.height - msg['y1']) / mpl.ratio;\n",
       "    x0 = Math.floor(x0) + 0.5;\n",
       "    y0 = Math.floor(y0) + 0.5;\n",
       "    x1 = Math.floor(x1) + 0.5;\n",
       "    y1 = Math.floor(y1) + 0.5;\n",
       "    var min_x = Math.min(x0, x1);\n",
       "    var min_y = Math.min(y0, y1);\n",
       "    var width = Math.abs(x1 - x0);\n",
       "    var height = Math.abs(y1 - y0);\n",
       "\n",
       "    fig.rubberband_context.clearRect(\n",
       "        0, 0, fig.canvas.width, fig.canvas.height);\n",
       "\n",
       "    fig.rubberband_context.strokeRect(min_x, min_y, width, height);\n",
       "}\n",
       "\n",
       "mpl.figure.prototype.handle_figure_label = function(fig, msg) {\n",
       "    // Updates the figure title.\n",
       "    fig.header.textContent = msg['label'];\n",
       "}\n",
       "\n",
       "mpl.figure.prototype.handle_cursor = function(fig, msg) {\n",
       "    var cursor = msg['cursor'];\n",
       "    switch(cursor)\n",
       "    {\n",
       "    case 0:\n",
       "        cursor = 'pointer';\n",
       "        break;\n",
       "    case 1:\n",
       "        cursor = 'default';\n",
       "        break;\n",
       "    case 2:\n",
       "        cursor = 'crosshair';\n",
       "        break;\n",
       "    case 3:\n",
       "        cursor = 'move';\n",
       "        break;\n",
       "    }\n",
       "    fig.rubberband_canvas.style.cursor = cursor;\n",
       "}\n",
       "\n",
       "mpl.figure.prototype.handle_message = function(fig, msg) {\n",
       "    fig.message.textContent = msg['message'];\n",
       "}\n",
       "\n",
       "mpl.figure.prototype.handle_draw = function(fig, msg) {\n",
       "    // Request the server to send over a new figure.\n",
       "    fig.send_draw_message();\n",
       "}\n",
       "\n",
       "mpl.figure.prototype.handle_image_mode = function(fig, msg) {\n",
       "    fig.image_mode = msg['mode'];\n",
       "}\n",
       "\n",
       "mpl.figure.prototype.updated_canvas_event = function() {\n",
       "    // Called whenever the canvas gets updated.\n",
       "    this.send_message(\"ack\", {});\n",
       "}\n",
       "\n",
       "// A function to construct a web socket function for onmessage handling.\n",
       "// Called in the figure constructor.\n",
       "mpl.figure.prototype._make_on_message_function = function(fig) {\n",
       "    return function socket_on_message(evt) {\n",
       "        if (evt.data instanceof Blob) {\n",
       "            /* FIXME: We get \"Resource interpreted as Image but\n",
       "             * transferred with MIME type text/plain:\" errors on\n",
       "             * Chrome.  But how to set the MIME type?  It doesn't seem\n",
       "             * to be part of the websocket stream */\n",
       "            evt.data.type = \"image/png\";\n",
       "\n",
       "            /* Free the memory for the previous frames */\n",
       "            if (fig.imageObj.src) {\n",
       "                (window.URL || window.webkitURL).revokeObjectURL(\n",
       "                    fig.imageObj.src);\n",
       "            }\n",
       "\n",
       "            fig.imageObj.src = (window.URL || window.webkitURL).createObjectURL(\n",
       "                evt.data);\n",
       "            fig.updated_canvas_event();\n",
       "            fig.waiting = false;\n",
       "            return;\n",
       "        }\n",
       "        else if (typeof evt.data === 'string' && evt.data.slice(0, 21) == \"data:image/png;base64\") {\n",
       "            fig.imageObj.src = evt.data;\n",
       "            fig.updated_canvas_event();\n",
       "            fig.waiting = false;\n",
       "            return;\n",
       "        }\n",
       "\n",
       "        var msg = JSON.parse(evt.data);\n",
       "        var msg_type = msg['type'];\n",
       "\n",
       "        // Call the  \"handle_{type}\" callback, which takes\n",
       "        // the figure and JSON message as its only arguments.\n",
       "        try {\n",
       "            var callback = fig[\"handle_\" + msg_type];\n",
       "        } catch (e) {\n",
       "            console.log(\"No handler for the '\" + msg_type + \"' message type: \", msg);\n",
       "            return;\n",
       "        }\n",
       "\n",
       "        if (callback) {\n",
       "            try {\n",
       "                // console.log(\"Handling '\" + msg_type + \"' message: \", msg);\n",
       "                callback(fig, msg);\n",
       "            } catch (e) {\n",
       "                console.log(\"Exception inside the 'handler_\" + msg_type + \"' callback:\", e, e.stack, msg);\n",
       "            }\n",
       "        }\n",
       "    };\n",
       "}\n",
       "\n",
       "// from http://stackoverflow.com/questions/1114465/getting-mouse-location-in-canvas\n",
       "mpl.findpos = function(e) {\n",
       "    //this section is from http://www.quirksmode.org/js/events_properties.html\n",
       "    var targ;\n",
       "    if (!e)\n",
       "        e = window.event;\n",
       "    if (e.target)\n",
       "        targ = e.target;\n",
       "    else if (e.srcElement)\n",
       "        targ = e.srcElement;\n",
       "    if (targ.nodeType == 3) // defeat Safari bug\n",
       "        targ = targ.parentNode;\n",
       "\n",
       "    // jQuery normalizes the pageX and pageY\n",
       "    // pageX,Y are the mouse positions relative to the document\n",
       "    // offset() returns the position of the element relative to the document\n",
       "    var x = e.pageX - $(targ).offset().left;\n",
       "    var y = e.pageY - $(targ).offset().top;\n",
       "\n",
       "    return {\"x\": x, \"y\": y};\n",
       "};\n",
       "\n",
       "/*\n",
       " * return a copy of an object with only non-object keys\n",
       " * we need this to avoid circular references\n",
       " * http://stackoverflow.com/a/24161582/3208463\n",
       " */\n",
       "function simpleKeys (original) {\n",
       "  return Object.keys(original).reduce(function (obj, key) {\n",
       "    if (typeof original[key] !== 'object')\n",
       "        obj[key] = original[key]\n",
       "    return obj;\n",
       "  }, {});\n",
       "}\n",
       "\n",
       "mpl.figure.prototype.mouse_event = function(event, name) {\n",
       "    var canvas_pos = mpl.findpos(event)\n",
       "\n",
       "    if (name === 'button_press')\n",
       "    {\n",
       "        this.canvas.focus();\n",
       "        this.canvas_div.focus();\n",
       "    }\n",
       "\n",
       "    var x = canvas_pos.x * mpl.ratio;\n",
       "    var y = canvas_pos.y * mpl.ratio;\n",
       "\n",
       "    this.send_message(name, {x: x, y: y, button: event.button,\n",
       "                             step: event.step,\n",
       "                             guiEvent: simpleKeys(event)});\n",
       "\n",
       "    /* This prevents the web browser from automatically changing to\n",
       "     * the text insertion cursor when the button is pressed.  We want\n",
       "     * to control all of the cursor setting manually through the\n",
       "     * 'cursor' event from matplotlib */\n",
       "    event.preventDefault();\n",
       "    return false;\n",
       "}\n",
       "\n",
       "mpl.figure.prototype._key_event_extra = function(event, name) {\n",
       "    // Handle any extra behaviour associated with a key event\n",
       "}\n",
       "\n",
       "mpl.figure.prototype.key_event = function(event, name) {\n",
       "\n",
       "    // Prevent repeat events\n",
       "    if (name == 'key_press')\n",
       "    {\n",
       "        if (event.which === this._key)\n",
       "            return;\n",
       "        else\n",
       "            this._key = event.which;\n",
       "    }\n",
       "    if (name == 'key_release')\n",
       "        this._key = null;\n",
       "\n",
       "    var value = '';\n",
       "    if (event.ctrlKey && event.which != 17)\n",
       "        value += \"ctrl+\";\n",
       "    if (event.altKey && event.which != 18)\n",
       "        value += \"alt+\";\n",
       "    if (event.shiftKey && event.which != 16)\n",
       "        value += \"shift+\";\n",
       "\n",
       "    value += 'k';\n",
       "    value += event.which.toString();\n",
       "\n",
       "    this._key_event_extra(event, name);\n",
       "\n",
       "    this.send_message(name, {key: value,\n",
       "                             guiEvent: simpleKeys(event)});\n",
       "    return false;\n",
       "}\n",
       "\n",
       "mpl.figure.prototype.toolbar_button_onclick = function(name) {\n",
       "    if (name == 'download') {\n",
       "        this.handle_save(this, null);\n",
       "    } else {\n",
       "        this.send_message(\"toolbar_button\", {name: name});\n",
       "    }\n",
       "};\n",
       "\n",
       "mpl.figure.prototype.toolbar_button_onmouseover = function(tooltip) {\n",
       "    this.message.textContent = tooltip;\n",
       "};\n",
       "mpl.toolbar_items = [[\"Home\", \"Reset original view\", \"fa fa-home icon-home\", \"home\"], [\"Back\", \"Back to  previous view\", \"fa fa-arrow-left icon-arrow-left\", \"back\"], [\"Forward\", \"Forward to next view\", \"fa fa-arrow-right icon-arrow-right\", \"forward\"], [\"\", \"\", \"\", \"\"], [\"Pan\", \"Pan axes with left mouse, zoom with right\", \"fa fa-arrows icon-move\", \"pan\"], [\"Zoom\", \"Zoom to rectangle\", \"fa fa-square-o icon-check-empty\", \"zoom\"], [\"\", \"\", \"\", \"\"], [\"Download\", \"Download plot\", \"fa fa-floppy-o icon-save\", \"download\"]];\n",
       "\n",
       "mpl.extensions = [\"eps\", \"jpeg\", \"pdf\", \"png\", \"ps\", \"raw\", \"svg\", \"tif\"];\n",
       "\n",
       "mpl.default_extension = \"png\";var comm_websocket_adapter = function(comm) {\n",
       "    // Create a \"websocket\"-like object which calls the given IPython comm\n",
       "    // object with the appropriate methods. Currently this is a non binary\n",
       "    // socket, so there is still some room for performance tuning.\n",
       "    var ws = {};\n",
       "\n",
       "    ws.close = function() {\n",
       "        comm.close()\n",
       "    };\n",
       "    ws.send = function(m) {\n",
       "        //console.log('sending', m);\n",
       "        comm.send(m);\n",
       "    };\n",
       "    // Register the callback with on_msg.\n",
       "    comm.on_msg(function(msg) {\n",
       "        //console.log('receiving', msg['content']['data'], msg);\n",
       "        // Pass the mpl event to the overriden (by mpl) onmessage function.\n",
       "        ws.onmessage(msg['content']['data'])\n",
       "    });\n",
       "    return ws;\n",
       "}\n",
       "\n",
       "mpl.mpl_figure_comm = function(comm, msg) {\n",
       "    // This is the function which gets called when the mpl process\n",
       "    // starts-up an IPython Comm through the \"matplotlib\" channel.\n",
       "\n",
       "    var id = msg.content.data.id;\n",
       "    // Get hold of the div created by the display call when the Comm\n",
       "    // socket was opened in Python.\n",
       "    var element = $(\"#\" + id);\n",
       "    var ws_proxy = comm_websocket_adapter(comm)\n",
       "\n",
       "    function ondownload(figure, format) {\n",
       "        window.open(figure.imageObj.src);\n",
       "    }\n",
       "\n",
       "    var fig = new mpl.figure(id, ws_proxy,\n",
       "                           ondownload,\n",
       "                           element.get(0));\n",
       "\n",
       "    // Call onopen now - mpl needs it, as it is assuming we've passed it a real\n",
       "    // web socket which is closed, not our websocket->open comm proxy.\n",
       "    ws_proxy.onopen();\n",
       "\n",
       "    fig.parent_element = element.get(0);\n",
       "    fig.cell_info = mpl.find_output_cell(\"<div id='\" + id + \"'></div>\");\n",
       "    if (!fig.cell_info) {\n",
       "        console.error(\"Failed to find cell for figure\", id, fig);\n",
       "        return;\n",
       "    }\n",
       "\n",
       "    var output_index = fig.cell_info[2]\n",
       "    var cell = fig.cell_info[0];\n",
       "\n",
       "};\n",
       "\n",
       "mpl.figure.prototype.handle_close = function(fig, msg) {\n",
       "    var width = fig.canvas.width/mpl.ratio\n",
       "    fig.root.unbind('remove')\n",
       "\n",
       "    // Update the output cell to use the data from the current canvas.\n",
       "    fig.push_to_output();\n",
       "    var dataURL = fig.canvas.toDataURL();\n",
       "    // Re-enable the keyboard manager in IPython - without this line, in FF,\n",
       "    // the notebook keyboard shortcuts fail.\n",
       "    IPython.keyboard_manager.enable()\n",
       "    $(fig.parent_element).html('<img src=\"' + dataURL + '\" width=\"' + width + '\">');\n",
       "    fig.close_ws(fig, msg);\n",
       "}\n",
       "\n",
       "mpl.figure.prototype.close_ws = function(fig, msg){\n",
       "    fig.send_message('closing', msg);\n",
       "    // fig.ws.close()\n",
       "}\n",
       "\n",
       "mpl.figure.prototype.push_to_output = function(remove_interactive) {\n",
       "    // Turn the data on the canvas into data in the output cell.\n",
       "    var width = this.canvas.width/mpl.ratio\n",
       "    var dataURL = this.canvas.toDataURL();\n",
       "    this.cell_info[1]['text/html'] = '<img src=\"' + dataURL + '\" width=\"' + width + '\">';\n",
       "}\n",
       "\n",
       "mpl.figure.prototype.updated_canvas_event = function() {\n",
       "    // Tell IPython that the notebook contents must change.\n",
       "    IPython.notebook.set_dirty(true);\n",
       "    this.send_message(\"ack\", {});\n",
       "    var fig = this;\n",
       "    // Wait a second, then push the new image to the DOM so\n",
       "    // that it is saved nicely (might be nice to debounce this).\n",
       "    setTimeout(function () { fig.push_to_output() }, 1000);\n",
       "}\n",
       "\n",
       "mpl.figure.prototype._init_toolbar = function() {\n",
       "    var fig = this;\n",
       "\n",
       "    var nav_element = $('<div/>')\n",
       "    nav_element.attr('style', 'width: 100%');\n",
       "    this.root.append(nav_element);\n",
       "\n",
       "    // Define a callback function for later on.\n",
       "    function toolbar_event(event) {\n",
       "        return fig.toolbar_button_onclick(event['data']);\n",
       "    }\n",
       "    function toolbar_mouse_event(event) {\n",
       "        return fig.toolbar_button_onmouseover(event['data']);\n",
       "    }\n",
       "\n",
       "    for(var toolbar_ind in mpl.toolbar_items){\n",
       "        var name = mpl.toolbar_items[toolbar_ind][0];\n",
       "        var tooltip = mpl.toolbar_items[toolbar_ind][1];\n",
       "        var image = mpl.toolbar_items[toolbar_ind][2];\n",
       "        var method_name = mpl.toolbar_items[toolbar_ind][3];\n",
       "\n",
       "        if (!name) { continue; };\n",
       "\n",
       "        var button = $('<button class=\"btn btn-default\" href=\"#\" title=\"' + name + '\"><i class=\"fa ' + image + ' fa-lg\"></i></button>');\n",
       "        button.click(method_name, toolbar_event);\n",
       "        button.mouseover(tooltip, toolbar_mouse_event);\n",
       "        nav_element.append(button);\n",
       "    }\n",
       "\n",
       "    // Add the status bar.\n",
       "    var status_bar = $('<span class=\"mpl-message\" style=\"text-align:right; float: right;\"/>');\n",
       "    nav_element.append(status_bar);\n",
       "    this.message = status_bar[0];\n",
       "\n",
       "    // Add the close button to the window.\n",
       "    var buttongrp = $('<div class=\"btn-group inline pull-right\"></div>');\n",
       "    var button = $('<button class=\"btn btn-mini btn-primary\" href=\"#\" title=\"Stop Interaction\"><i class=\"fa fa-power-off icon-remove icon-large\"></i></button>');\n",
       "    button.click(function (evt) { fig.handle_close(fig, {}); } );\n",
       "    button.mouseover('Stop Interaction', toolbar_mouse_event);\n",
       "    buttongrp.append(button);\n",
       "    var titlebar = this.root.find($('.ui-dialog-titlebar'));\n",
       "    titlebar.prepend(buttongrp);\n",
       "}\n",
       "\n",
       "mpl.figure.prototype._root_extra_style = function(el){\n",
       "    var fig = this\n",
       "    el.on(\"remove\", function(){\n",
       "\tfig.close_ws(fig, {});\n",
       "    });\n",
       "}\n",
       "\n",
       "mpl.figure.prototype._canvas_extra_style = function(el){\n",
       "    // this is important to make the div 'focusable\n",
       "    el.attr('tabindex', 0)\n",
       "    // reach out to IPython and tell the keyboard manager to turn it's self\n",
       "    // off when our div gets focus\n",
       "\n",
       "    // location in version 3\n",
       "    if (IPython.notebook.keyboard_manager) {\n",
       "        IPython.notebook.keyboard_manager.register_events(el);\n",
       "    }\n",
       "    else {\n",
       "        // location in version 2\n",
       "        IPython.keyboard_manager.register_events(el);\n",
       "    }\n",
       "\n",
       "}\n",
       "\n",
       "mpl.figure.prototype._key_event_extra = function(event, name) {\n",
       "    var manager = IPython.notebook.keyboard_manager;\n",
       "    if (!manager)\n",
       "        manager = IPython.keyboard_manager;\n",
       "\n",
       "    // Check for shift+enter\n",
       "    if (event.shiftKey && event.which == 13) {\n",
       "        this.canvas_div.blur();\n",
       "        // select the cell after this one\n",
       "        var index = IPython.notebook.find_cell_index(this.cell_info[0]);\n",
       "        IPython.notebook.select(index + 1);\n",
       "    }\n",
       "}\n",
       "\n",
       "mpl.figure.prototype.handle_save = function(fig, msg) {\n",
       "    fig.ondownload(fig, null);\n",
       "}\n",
       "\n",
       "\n",
       "mpl.find_output_cell = function(html_output) {\n",
       "    // Return the cell and output element which can be found *uniquely* in the notebook.\n",
       "    // Note - this is a bit hacky, but it is done because the \"notebook_saving.Notebook\"\n",
       "    // IPython event is triggered only after the cells have been serialised, which for\n",
       "    // our purposes (turning an active figure into a static one), is too late.\n",
       "    var cells = IPython.notebook.get_cells();\n",
       "    var ncells = cells.length;\n",
       "    for (var i=0; i<ncells; i++) {\n",
       "        var cell = cells[i];\n",
       "        if (cell.cell_type === 'code'){\n",
       "            for (var j=0; j<cell.output_area.outputs.length; j++) {\n",
       "                var data = cell.output_area.outputs[j];\n",
       "                if (data.data) {\n",
       "                    // IPython >= 3 moved mimebundle to data attribute of output\n",
       "                    data = data.data;\n",
       "                }\n",
       "                if (data['text/html'] == html_output) {\n",
       "                    return [cell, data, j];\n",
       "                }\n",
       "            }\n",
       "        }\n",
       "    }\n",
       "}\n",
       "\n",
       "// Register the function which deals with the matplotlib target/channel.\n",
       "// The kernel may be null if the page has been refreshed.\n",
       "if (IPython.notebook.kernel != null) {\n",
       "    IPython.notebook.kernel.comm_manager.register_target('matplotlib', mpl.mpl_figure_comm);\n",
       "}\n"
      ],
      "text/plain": [
       "<IPython.core.display.Javascript object>"
      ]
     },
     "metadata": {},
     "output_type": "display_data"
    },
    {
     "data": {
      "text/html": [
       "<img src=\"data:image/png;base64,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\" width=\"640\">"
      ],
      "text/plain": [
       "<IPython.core.display.HTML object>"
      ]
     },
     "metadata": {},
     "output_type": "display_data"
    },
    {
     "data": {
      "text/plain": [
       "[<matplotlib.lines.Line2D at 0xa66a240>]"
      ]
     },
     "execution_count": 24,
     "metadata": {},
     "output_type": "execute_result"
    }
   ],
   "source": [
    "%matplotlib notebook\n",
    "plt.plot(d.bins)"
   ]
  },
  {
   "cell_type": "code",
   "execution_count": 20,
   "metadata": {
    "collapsed": false,
    "scrolled": false
   },
   "outputs": [
    {
     "data": {
      "text/plain": [
       "1"
      ]
     },
     "execution_count": 20,
     "metadata": {},
     "output_type": "execute_result"
    }
   ],
   "source": [
    "f=EventFlags(es[2][2]['flags'])\n",
    "f.channel"
   ]
  },
  {
   "cell_type": "code",
   "execution_count": 11,
   "metadata": {
    "collapsed": false,
    "run_control": {
     "frozen": false,
     "read_only": false
    },
    "scrolled": true
   },
   "outputs": [
    {
     "data": {
      "text/plain": [
       "(array([], dtype=int64),)"
      ]
     },
     "execution_count": 11,
     "metadata": {},
     "output_type": "execute_result"
    }
   ],
   "source": [
    "import tes.mca as mca\n",
    "d=bs.distributions[0]\n",
    "eset=np.uint64(1)\n",
    "bset=np.uint64(0)\n",
    "cset=np.uint64(20)\n",
    "\n",
    "stop=d.stop_time+eset+cset\n",
    "start=d.start_time+bset+cset\n",
    "bins=np.zeros((d.last_bin+1,),dtype=np.uint32)\n",
    "\n",
    "if d.value==mca.Value.raw_signal:\n",
    "    tname='raw'\n",
    "elif d.value==mca.Value.filtered_signal:\n",
    "    tname='filtered'\n",
    "elif d.value==mca.Value.slope_signal:\n",
    "    tname='slope'\n",
    "\n",
    "for i in range(start,stop):\n",
    "    s = traces[tname][i]\n",
    "    if s < d.lowest_value:\n",
    "        bins[0] += 1\n",
    "    else:\n",
    "        bin_number = s - d.lowest_value + 1\n",
    "        if bin_number < d.last_bin:\n",
    "            bins[bin_number] += 1\n",
    "        else:\n",
    "            bins[d.last_bin] += 1\n",
    "        \n",
    "bad=(bins-d.counts).nonzero()\n",
    "bad"
   ]
  },
  {
   "cell_type": "code",
   "execution_count": 12,
   "metadata": {
    "collapsed": false
   },
   "outputs": [
    {
     "data": {
      "text/plain": [
       "array([], dtype=uint32)"
      ]
     },
     "execution_count": 12,
     "metadata": {},
     "output_type": "execute_result"
    }
   ],
   "source": [
    "d.counts[bad][1:10]"
   ]
  },
  {
   "cell_type": "code",
   "execution_count": null,
   "metadata": {
    "collapsed": false
   },
   "outputs": [],
   "source": [
    "bins[bad][1:10]"
   ]
  },
  {
   "cell_type": "code",
   "execution_count": null,
   "metadata": {
    "collapsed": false
   },
   "outputs": [],
   "source": [
    "d.value"
   ]
  },
  {
   "cell_type": "code",
   "execution_count": null,
   "metadata": {
    "collapsed": false,
    "scrolled": false
   },
   "outputs": [],
   "source": [
    "%matplotlib notebook\n",
    "plt.step(np.arange(len(d.bins)),d.bins)\n",
    "# plt.step(np.arange(len(d.counts)),bins)\n",
    "plt.plot(bad,np.zeros_like(bad),'.k')"
   ]
  },
  {
   "cell_type": "code",
   "execution_count": 13,
   "metadata": {
    "collapsed": false
   },
   "outputs": [
    {
     "data": {
      "text/plain": [
       "655360"
      ]
     },
     "execution_count": 13,
     "metadata": {},
     "output_type": "execute_result"
    }
   ],
   "source": [
    "sum(d.counts)"
   ]
  },
  {
   "cell_type": "code",
   "execution_count": null,
   "metadata": {
    "collapsed": false
   },
   "outputs": [],
   "source": [
    "2**14+2000"
   ]
  },
  {
   "cell_type": "code",
   "execution_count": null,
   "metadata": {
    "collapsed": false,
    "run_control": {
     "frozen": false,
     "read_only": false
    }
   },
   "outputs": [],
   "source": [
    "def plot_event(event_tupple):\n",
    "    pre=200\n",
    "    post=1000\n",
    "    timestamp=event_tupple[0]\n",
    "    event_type=event_tupple[1]\n",
    "    event=event_tupple[2]\n",
    "    flags=EventFlags(event['flags'])\n",
    "    print(flags)\n",
    "    print('timestamp',timestamp, 'time', event['time'])\n",
    "    if flags.type == Event.tick:\n",
    "        return\n",
    "    s=traces['filtered'][timestamp+20-pre:timestamp+20+post]\n",
    "    r=traces['raw'][timestamp+20-pre:timestamp+20+post]\n",
    "    i = np.where(abs(minmax['clk'])<=timestamp+20)[0][-1]\n",
    "    min_t=abs(minmax['clk'][i])-(timestamp+20)\n",
    "#     print(minmax['clk'][i],min_t,i,timestamp)\n",
    "    plt.plot(r,'k',linewidth=0.5)\n",
    "    plt.plot(s,'b',linewidth=2)\n",
    "    plt.plot([pre],s[pre],'sg')\n",
    "    plt.plot([pre+min_t],minmax['filtered'][i],'sr')\n",
    "    if event_type==Event.pulse:\n",
    "        for i in range(flags.peak_number):\n",
    "            p=event['peaks'][i]\n",
    "            plt.plot([0,len(s)-1],[p['height'],p['height']],':r')\n",
    "    else:\n",
    "      plt.plot([0,len(s)-1],[event['height'],event['height']],':r')\n",
    "        \n",
    "    #print(event['height'],event['minima'])\n",
    "    #print(minmax['filtered'][i]==s[pre+min_t])\n",
    "    #print(minmax['filtered'][i]==event['minima'])\n",
    "    #print(s[pre],s[pre-1])"
   ]
  },
  {
   "cell_type": "code",
   "execution_count": null,
   "metadata": {
    "collapsed": false,
    "run_control": {
     "frozen": false,
     "read_only": false
    }
   },
   "outputs": [],
   "source": [
    "pwd"
   ]
  },
  {
   "cell_type": "code",
   "execution_count": null,
   "metadata": {
    "collapsed": false
   },
   "outputs": [],
   "source": [
    "es=bs.eventstream\n",
    "es"
   ]
  },
  {
   "cell_type": "code",
   "execution_count": null,
   "metadata": {
    "collapsed": false,
    "run_control": {
     "frozen": false,
     "read_only": false
    }
   },
   "outputs": [],
   "source": [
    "%matplotlib notebook\n",
    "for e in es:\n",
    "    if e[1]==Event.peak:\n",
    "        plot_event(e)"
   ]
  },
  {
   "cell_type": "code",
   "execution_count": null,
   "metadata": {
    "collapsed": false,
    "run_control": {
     "frozen": false,
     "read_only": false
    }
   },
   "outputs": [],
   "source": [
    "es"
   ]
  },
  {
   "cell_type": "code",
   "execution_count": null,
   "metadata": {
    "collapsed": false,
    "run_control": {
     "frozen": false,
     "read_only": false
    }
   },
   "outputs": [],
   "source": [
    "dists=bs.distributions\n",
    "dists"
   ]
  },
  {
   "cell_type": "code",
   "execution_count": null,
   "metadata": {
    "collapsed": false,
    "run_control": {
     "frozen": false,
     "read_only": false
    }
   },
   "outputs": [],
   "source": [
    "bs.packets[185].payload"
   ]
  },
  {
   "cell_type": "code",
   "execution_count": null,
   "metadata": {
    "collapsed": false,
    "run_control": {
     "frozen": false,
     "read_only": false
    }
   },
   "outputs": [],
   "source": [
    "d=bs.distributions[0]\n",
    "eset=np.uint64(1)\n",
    "bset=np.uint64(0)\n",
    "cset=np.uint64(20)\n",
    "\n",
    "stop=d.stop_time+eset+cset\n",
    "start=d.start_time+bset+cset\n",
    "bins=np.zeros((d.last_bin+1,),dtype=np.uint32)\n",
    "for i in range(start,stop):\n",
    "    s = traces['raw'][i]\n",
    "    if s <= d.lowest_value:\n",
    "        bins[0] += 1\n",
    "    else:\n",
    "        bins[s-d.lowest_value] += 1\n",
    "        \n",
    "(bins-d.counts).nonzero()"
   ]
  },
  {
   "cell_type": "code",
   "execution_count": null,
   "metadata": {
    "collapsed": false,
    "run_control": {
     "frozen": false,
     "read_only": false
    }
   },
   "outputs": [],
   "source": [
    "%matplotlib notebook\n",
    "plt.step(np.arange(len(d.counts)),d.counts)"
   ]
  },
  {
   "cell_type": "code",
   "execution_count": null,
   "metadata": {
    "collapsed": false,
    "run_control": {
     "frozen": false,
     "read_only": false
    }
   },
   "outputs": [],
   "source": [
    "bins[bins.nonzero()]"
   ]
  },
  {
   "cell_type": "code",
   "execution_count": null,
   "metadata": {
    "collapsed": false,
    "run_control": {
     "frozen": false,
     "read_only": false
    }
   },
   "outputs": [],
   "source": [
    "sum(d.counts)"
   ]
  },
  {
   "cell_type": "code",
   "execution_count": null,
   "metadata": {
    "collapsed": false,
    "run_control": {
     "frozen": false,
     "read_only": false
    }
   },
   "outputs": [],
   "source": [
    "2**14+2000"
   ]
  },
  {
   "cell_type": "code",
   "execution_count": null,
   "metadata": {
    "collapsed": false,
    "run_control": {
     "frozen": false,
     "read_only": false
    }
   },
   "outputs": [],
   "source": [
    "es[3][2]['timestamp']-es[0][2]['timestamp']"
   ]
  },
  {
   "cell_type": "code",
   "execution_count": null,
   "metadata": {
    "collapsed": true,
    "run_control": {
     "frozen": false,
     "read_only": false
    }
   },
   "outputs": [],
   "source": [
    "def xings(s, thresh):\n",
    "    pos=s > thresh\n",
    "    neg=s < thresh\n",
    "    pos0=s >= thresh\n",
    "    neg0=s <= thresh\n",
    "    pos_xing_mask = np.bitwise_and(pos0[1:],neg[0:-1])  \n",
    "    neg_xing_mask = np.bitwise_and(neg0[1:],pos[0:-1])  \n",
    "    return pos_xing_mask.nonzero()[0]+1, neg_xing_mask.nonzero()[0]+1"
   ]
  },
  {
   "cell_type": "code",
   "execution_count": null,
   "metadata": {
    "collapsed": true,
    "run_control": {
     "frozen": false,
     "read_only": false
    }
   },
   "outputs": [],
   "source": [
    "from mpl_toolkits.axes_grid1 import host_subplot\n",
    "\n",
    "def plot_trace(traces,start,width):\n",
    "\n",
    "    ax = host_subplot(111)\n",
    "    axr = ax.twinx()\n",
    "    axt = ax.twiny()\n",
    "#ax.plot(t[0:-1:10],s[0:-1:10],'k')\n",
    "#ax.plot(t,s,'k')\n",
    "    axt.set_xlabel('Time ns',fontsize=18)\n",
    "    ax.set_ylabel('Voltage (Arbitary Units)',fontsize=18)\n",
    "#plt.xticks(visible=False)\n",
    "#plt.yticks(visible=False)\n",
    "#ax.set_xlim(0,t[4000000])\n",
    "#start=902000\n",
    "#width=2500\n",
    "    f=traces['filtered'][start:start+width]\n",
    "    s=traces['slope'][start:start+width]\n",
    "    t=np.arange(len(f))*4e-9\n",
    "#ts=t[pstart:pstop]\n",
    "#axins = fig.add_axes([.4, .45, .45, .4])\n",
    "    ax.set_xlim(t[0],t[-1])\n",
    "    axt.set_xlim(t[0],t[-1])\n",
    "\n",
    "    ylim=(-500,2000)\n",
    "\n",
    "    ax.set_ylim(ylim[0],ylim[1])\n",
    "    axr.set_ylim(ylim[0],ylim[1])\n",
    "\n",
    "    filtered, = ax.step(t,f,'k',lw=2,label='filtered')\n",
    "    slope, = ax.step(t,s,'b',label='slope')\n",
    "    ax.fill_between(t,0,s,alpha=.4)\n",
    "    plt.ylim=ylim\n",
    "\n",
    "pos=s>0\n",
    "neg=s<=0\n",
    "pos_xing_mask = np.bitwise_and(pos[1:-1],neg[0:-2])  \n",
    "neg_xing_mask = np.bitwise_and(neg[1:-1],pos[0:-2])  \n",
    "pos_xing=pos_xing_mask.nonzero()\n",
    "neg_xing=neg_xing_mask.nonzero()\n",
    "\n",
    "rx=[t[pos_xing[0][0]], t[neg_xing[0][0]]]\n",
    "ry=[f[pos_xing[0][0]], f[neg_xing[0][0]]]\n",
    "\n",
    "ax.fill_between(t[pos_xing[0][0]:neg_xing[0][0]],0,s[pos_xing[0][0]:neg_xing[0][0]],alpha=.4,color='r')\n",
    "\n",
    "#plt.plot(rx,[ry[0], ry[0]],'-r',lw=2)\n",
    "#plt.plot([rx[1],rx[1]], ry,'-r',lw=2)\n",
    "# thresholds\n",
    "sthresh = 600\n",
    "pthresh = 1000\n",
    "plt.plot([t[0], t[-1]], [sthresh, sthresh], '--b', lw=2)\n",
    "plt.plot([t[0], t[-1]], [pthresh, pthresh], '--k', lw=2)\n",
    "\n",
    "sthresh_xing=(s>sthresh).nonzero()[0][0]\n",
    "pthresh_xing=(f>pthresh).nonzero()[0][0]\n",
    "\n",
    "\n",
    "cf=.10\n",
    "height = ry[1]-ry[0]\n",
    "cfl=ry[0]+(height*cf)\n",
    "cfh=ry[1]-(height*cf)\n",
    "\n",
    "cfl_xing=(f>cfl).nonzero()[0][0]\n",
    "cfd_low=f[cfl_xing]\n",
    "cfh_xing=(f>cfh).nonzero()[0][0]\n",
    "cfd_high=f[cfh_xing]\n",
    "\n",
    "#plt.plot([t[cfl_xing], t[-1]],[cfd_low, cfd_low], ':r')\n",
    "#plt.plot([t[cfh_xing], t[-1]],[cfd_high, cfd_high], ':r')\n",
    "#plt.plot([x[1], t[-1]],[y[1], y[1]], ':r')\n",
    "plt.legend([filtered, slope],['Signal', 'Slope'],loc=2)\n",
    "\n",
    "#axr = ax.twinx()\n",
    "##################################################################\n",
    "#yticks=([ry[0],sthresh,pthresh,cfd_high,ry[1]])\n",
    "yticks=([sthresh,pthresh])\n",
    "axr.set_yticks(yticks)\n",
    "#yticklabels=['Start','Slope threshold','Pulse threshold','CF high','Peak']\n",
    "yticklabels=['Slope threshold','Pulse threshold']\n",
    "axr.set_yticklabels(yticklabels, color='r',fontsize=14)\n",
    "axr.get_yticklabels()[0].set_color('b')\n",
    "axr.get_yticklabels()[1].set_color('k')\n",
    "\n",
    "#xticks=([rx[0],t[cfl_xing],t[sthresh_xing],t[pthresh_xing],rx[1]])\n",
    "xticks=(t[cfl_xing],rx[1])\n",
    "#ax.set_xticks([rx[0],t[cfl_xing],t[sthresh_xing],t[pthresh_xing],rx[1]])\n",
    "ax.set_xticks(xticks)\n",
    "#xticklabels=['Start','CF low','Slope xing','Signal xing','Peak']\n",
    "xticklabels=['CF low','Peak']\n",
    "ax.set_xticklabels(xticklabels, color='r',fontsize=14)\n",
    "\n",
    "#plt.plot([t[cfh_xing], t[-1]],[cfd_high, cfd_high], ':r')\n",
    "#horoz start, stop lines\n",
    "#hpeak=ax.plot([xticks[1], t[-1]],[yticks[-1], yticks[-1]], '-.r')\n",
    "#hstart=ax.plot([xticks[0], t[-1]],[yticks[0], yticks[0]], '-.r')\n",
    "#vert start stop\n",
    "vstart=ax.plot([xticks[0], xticks[0]],[cfd_low, ylim[0]], '-.r')\n",
    "vpeak=ax.plot([xticks[1], xticks[1]],[ylim[0], ry[1]], '-.r')\n",
    "\n",
    "plt.tight_layout()\n",
    "plt.savefig('..//peakextraction7.svg')\n",
    "plt.show()\n",
    "print('risetime:',(xticks[1]-xticks[0])/4)\n",
    "print('height:',yticks[-1]-yticks[0])\n",
    "print('time:',(xticks[0]-rx[0])/4)\n",
    "print('area',sum(s[pos_xing[0][0]:neg_xing[0][0]])/256)\n"
   ]
  },
  {
   "cell_type": "code",
   "execution_count": null,
   "metadata": {
    "collapsed": true,
    "run_control": {
     "frozen": false,
     "read_only": false
    }
   },
   "outputs": [],
   "source": [
    "slope_0xings = xings(traces['slope'],0)"
   ]
  },
  {
   "cell_type": "code",
   "execution_count": null,
   "metadata": {
    "collapsed": false,
    "run_control": {
     "frozen": false,
     "read_only": false
    }
   },
   "outputs": [],
   "source": [
    "slope_0xings"
   ]
  },
  {
   "cell_type": "code",
   "execution_count": null,
   "metadata": {
    "collapsed": false,
    "run_control": {
     "frozen": false,
     "read_only": false
    }
   },
   "outputs": [],
   "source": [
    "%matplotlib notebook\n",
    "start=10000\n",
    "width=300\n",
    "plt.plot(traces['filtered'][start:start+width]/2)"
   ]
  },
  {
   "cell_type": "code",
   "execution_count": null,
   "metadata": {
    "collapsed": false,
    "run_control": {
     "frozen": false,
     "read_only": false
    }
   },
   "outputs": [],
   "source": [
    "%matplotlib notebook\n",
    "plt.plot(traces['slope'][20400:21700])"
   ]
  },
  {
   "cell_type": "code",
   "execution_count": null,
   "metadata": {
    "collapsed": false,
    "run_control": {
     "frozen": false,
     "read_only": false
    }
   },
   "outputs": [],
   "source": [
    "filtered=traces['filtered'][1100:]\n",
    "filteredL=traces['filteredL'][1100:]"
   ]
  },
  {
   "cell_type": "code",
   "execution_count": null,
   "metadata": {
    "collapsed": false,
    "run_control": {
     "frozen": false,
     "read_only": false
    }
   },
   "outputs": [],
   "source": [
    "filtered[:10]"
   ]
  },
  {
   "cell_type": "code",
   "execution_count": null,
   "metadata": {
    "collapsed": false,
    "run_control": {
     "frozen": false,
     "read_only": false
    }
   },
   "outputs": [],
   "source": [
    "filteredL[:10]/4"
   ]
  },
  {
   "cell_type": "code",
   "execution_count": null,
   "metadata": {
    "collapsed": false,
    "run_control": {
     "frozen": false,
     "read_only": false
    }
   },
   "outputs": [],
   "source": [
    "minmax_dt=np.dtype([('filtered','i4'),('low','i4'),('high','i4'),('clk','i4')])\n",
    "minmax=Data.fromfile('minmax',minmax_dt,'teslib','measurement_subsystem_TB',tool='vivado')\n",
    "fxing_dt=np.dtype([('extrema','i4'),('area','i4'),('clk','i4')])\n",
    "fxing=Data.fromfile('filteredxing',fxing_dt,'teslib','measurement_subsystem_TB',tool='vivado')"
   ]
  },
  {
   "cell_type": "code",
   "execution_count": null,
   "metadata": {
    "collapsed": false,
    "run_control": {
     "frozen": false,
     "read_only": false
    }
   },
   "outputs": [],
   "source": [
    "minmax"
   ]
  },
  {
   "cell_type": "code",
   "execution_count": null,
   "metadata": {
    "collapsed": false,
    "run_control": {
     "frozen": false,
     "read_only": false
    }
   },
   "outputs": [],
   "source": [
    "fxing"
   ]
  },
  {
   "cell_type": "code",
   "execution_count": null,
   "metadata": {
    "collapsed": false,
    "run_control": {
     "frozen": false,
     "read_only": false
    }
   },
   "outputs": [],
   "source": [
    "np.where(fxing['area']==0)"
   ]
  },
  {
   "cell_type": "code",
   "execution_count": null,
   "metadata": {
    "collapsed": false,
    "run_control": {
     "frozen": false,
     "read_only": false
    }
   },
   "outputs": [],
   "source": [
    "np.where(fxing['extrema']==0)"
   ]
  },
  {
   "cell_type": "code",
   "execution_count": null,
   "metadata": {
    "collapsed": false,
    "run_control": {
     "frozen": false,
     "read_only": false
    }
   },
   "outputs": [],
   "source": [
    "fxing[30]"
   ]
  },
  {
   "cell_type": "code",
   "execution_count": null,
   "metadata": {
    "collapsed": false,
    "run_control": {
     "frozen": false,
     "read_only": false
    }
   },
   "outputs": [],
   "source": [
    "exn=np.where(fxing['extrema']<0)\n",
    "clkn=np.where(fxing['clk']>0)"
   ]
  },
  {
   "cell_type": "code",
   "execution_count": null,
   "metadata": {
    "collapsed": true,
    "run_control": {
     "frozen": false,
     "read_only": false
    }
   },
   "outputs": [],
   "source": []
  },
  {
   "cell_type": "code",
   "execution_count": null,
   "metadata": {
    "collapsed": false,
    "run_control": {
     "frozen": false,
     "read_only": false
    }
   },
   "outputs": [],
   "source": [
    "fxing[374]"
   ]
  },
  {
   "cell_type": "code",
   "execution_count": null,
   "metadata": {
    "collapsed": false,
    "run_control": {
     "frozen": false,
     "read_only": false
    }
   },
   "outputs": [],
   "source": [
    "clkn"
   ]
  },
  {
   "cell_type": "code",
   "execution_count": null,
   "metadata": {
    "collapsed": false,
    "run_control": {
     "frozen": false,
     "read_only": false
    }
   },
   "outputs": [],
   "source": [
    "np.where(minmax[maxs[0]-1]['min']!=1)"
   ]
  },
  {
   "cell_type": "code",
   "execution_count": null,
   "metadata": {
    "collapsed": false,
    "run_control": {
     "frozen": false,
     "read_only": false
    }
   },
   "outputs": [],
   "source": [
    "minmax[maxs[0]-1][65]"
   ]
  },
  {
   "cell_type": "code",
   "execution_count": null,
   "metadata": {
    "collapsed": false,
    "run_control": {
     "frozen": false,
     "read_only": false
    }
   },
   "outputs": [],
   "source": [
    "2290-925"
   ]
  },
  {
   "cell_type": "code",
   "execution_count": null,
   "metadata": {
    "collapsed": false,
    "run_control": {
     "frozen": false,
     "read_only": false
    }
   },
   "outputs": [],
   "source": [
    "0.375*4"
   ]
  },
  {
   "cell_type": "code",
   "execution_count": null,
   "metadata": {
    "collapsed": false,
    "run_control": {
     "frozen": false,
     "read_only": false
    }
   },
   "outputs": [],
   "source": [
    "np.where(minmax['clock']==2290)"
   ]
  },
  {
   "cell_type": "code",
   "execution_count": null,
   "metadata": {
    "collapsed": false,
    "run_control": {
     "frozen": false,
     "read_only": false
    }
   },
   "outputs": [],
   "source": [
    "minmax[120:140]"
   ]
  },
  {
   "cell_type": "code",
   "execution_count": null,
   "metadata": {
    "collapsed": false,
    "run_control": {
     "frozen": false,
     "read_only": false
    }
   },
   "outputs": [],
   "source": [
    "stream_dt=np.dtype([('data','>i4'),('last','i4')])\n",
    "#stream=np.fromfile('data/stream',stream_dt)"
   ]
  },
  {
   "cell_type": "markdown",
   "metadata": {},
   "source": [
    "### bytestream stuff"
   ]
  },
  {
   "cell_type": "code",
   "execution_count": null,
   "metadata": {
    "collapsed": false,
    "run_control": {
     "frozen": false,
     "read_only": false
    }
   },
   "outputs": [],
   "source": [
    "stream_dt=np.dtype([('data','i4'),('last','i4')])\n",
    "stream=Data.fromfile('bytestream',stream_dt,'teslib','measurement_subsystem_TB',tool='vivado')\n",
    "lasts=np.where(stream['last']<=0)[0]+1\n",
    "#data=np.copy(stream['data'])"
   ]
  },
  {
   "cell_type": "code",
   "execution_count": null,
   "metadata": {
    "collapsed": false,
    "run_control": {
     "frozen": false,
     "read_only": false
    }
   },
   "outputs": [],
   "source": [
    "stream"
   ]
  },
  {
   "cell_type": "code",
   "execution_count": null,
   "metadata": {
    "collapsed": true,
    "run_control": {
     "frozen": false,
     "read_only": false
    }
   },
   "outputs": [],
   "source": []
  },
  {
   "cell_type": "code",
   "execution_count": null,
   "metadata": {
    "collapsed": true,
    "run_control": {
     "frozen": false,
     "read_only": false
    }
   },
   "outputs": [],
   "source": [
    "stream=np.fromfile('data/bytestream',stream_dt)"
   ]
  },
  {
   "cell_type": "code",
   "execution_count": null,
   "metadata": {
    "collapsed": false,
    "run_control": {
     "frozen": false,
     "read_only": false
    }
   },
   "outputs": [],
   "source": [
    "bs=PacketStream(stream)"
   ]
  },
  {
   "cell_type": "code",
   "execution_count": null,
   "metadata": {
    "collapsed": false,
    "run_control": {
     "frozen": false,
     "read_only": false
    }
   },
   "outputs": [],
   "source": [
    "bs.packets"
   ]
  },
  {
   "cell_type": "code",
   "execution_count": null,
   "metadata": {
    "collapsed": false,
    "run_control": {
     "frozen": false,
     "read_only": false
    }
   },
   "outputs": [],
   "source": [
    "bs.packets[4]"
   ]
  },
  {
   "cell_type": "code",
   "execution_count": null,
   "metadata": {
    "collapsed": true,
    "run_control": {
     "frozen": false,
     "read_only": false
    }
   },
   "outputs": [],
   "source": [
    "eheader_dt=[('etype','<u2'),('length','u2'),()]"
   ]
  },
  {
   "cell_type": "code",
   "execution_count": null,
   "metadata": {
    "collapsed": false,
    "run_control": {
     "frozen": false,
     "read_only": false
    }
   },
   "outputs": [],
   "source": [
    "'{:X}'.format(bs.packets[1].bytes[23])\n"
   ]
  },
  {
   "cell_type": "code",
   "execution_count": null,
   "metadata": {
    "collapsed": false,
    "run_control": {
     "frozen": false,
     "read_only": false
    }
   },
   "outputs": [],
   "source": [
    "'{:X}'.format(bs.packets[0].bytes[28:30].view(np.uint16)[0])"
   ]
  },
  {
   "cell_type": "code",
   "execution_count": null,
   "metadata": {
    "collapsed": true,
    "run_control": {
     "frozen": false,
     "read_only": false
    }
   },
   "outputs": [],
   "source": [
    "pulse_peak_dt=np.dtype([('height','i2'),('rise','i2'),('minima','u2'),('time','i2')])\n",
    "pulse_dt=np.dtype([('size','i2'),('resv','i2'),('flags','i2'),('time','u2'),\n",
    "                  ('area','i4'),('length','i2'),('offset','i2'),('peaks',(pulse_peak_dt,2))])"
   ]
  },
  {
   "cell_type": "code",
   "execution_count": null,
   "metadata": {
    "collapsed": false,
    "run_control": {
     "frozen": false,
     "read_only": false
    }
   },
   "outputs": [],
   "source": [
    "pulses=bs.packets[3].payload.view(pulse_dt)"
   ]
  },
  {
   "cell_type": "code",
   "execution_count": null,
   "metadata": {
    "collapsed": false,
    "run_control": {
     "frozen": false,
     "read_only": false
    }
   },
   "outputs": [],
   "source": [
    "pulses['peaks']"
   ]
  },
  {
   "cell_type": "code",
   "execution_count": null,
   "metadata": {
    "collapsed": false,
    "run_control": {
     "frozen": false,
     "read_only": false
    }
   },
   "outputs": [],
   "source": [
    "pulses['offset']"
   ]
  },
  {
   "cell_type": "code",
   "execution_count": null,
   "metadata": {
    "collapsed": false,
    "run_control": {
     "frozen": false,
     "read_only": false
    }
   },
   "outputs": [],
   "source": [
    "pulses['length']"
   ]
  },
  {
   "cell_type": "code",
   "execution_count": null,
   "metadata": {
    "collapsed": false,
    "run_control": {
     "frozen": false,
     "read_only": false
    }
   },
   "outputs": [],
   "source": [
    "class eflags:\n",
    "    def __init__(self,uint16):\n",
    "        self.new_window=np.bitwise_and(uint16,0x00000001)!=0\n",
    "        self.tick=np.bitwise_and(uint16,0x00000002)!=0\n",
    "        self.type=np.right_shift(np.bitwise_and(uint16,0x0000000c),2)\n",
    "        \n",
    "    def __repr__(self):\n",
    "        return 'New window:{:}\\n'.format(self.new_window) + \\\n",
    "               'Tick:{:}\\n'.format(self.tick) + \\\n",
    "               'Type:{:}\\n'.format(self.type) "
   ]
  },
  {
   "cell_type": "code",
   "execution_count": null,
   "metadata": {
    "collapsed": false,
    "run_control": {
     "frozen": false,
     "read_only": false
    }
   },
   "outputs": [],
   "source": [
    "f=eflags(pulses[0]['flags'])\n",
    "f"
   ]
  },
  {
   "cell_type": "code",
   "execution_count": null,
   "metadata": {
    "collapsed": false,
    "run_control": {
     "frozen": false,
     "read_only": false
    }
   },
   "outputs": [],
   "source": [
    "'{:X}'.format(bs.packets[3].bytes[13:14].view(np.uint16))"
   ]
  },
  {
   "cell_type": "code",
   "execution_count": null,
   "metadata": {
    "collapsed": true,
    "run_control": {
     "frozen": false,
     "read_only": false
    }
   },
   "outputs": [],
   "source": []
  },
  {
   "cell_type": "code",
   "execution_count": null,
   "metadata": {
    "collapsed": false,
    "run_control": {
     "frozen": false,
     "read_only": false
    }
   },
   "outputs": [],
   "source": [
    "'{:X}'.format(bs.packets[3].bytes[14:16].view(np.uint16)[0])"
   ]
  },
  {
   "cell_type": "code",
   "execution_count": null,
   "metadata": {
    "collapsed": false,
    "run_control": {
     "frozen": false,
     "read_only": false
    }
   },
   "outputs": [],
   "source": [
    "bs.packets[3].bytes[14:16].view(np.uint16)[0]"
   ]
  },
  {
   "cell_type": "code",
   "execution_count": null,
   "metadata": {
    "collapsed": false,
    "run_control": {
     "frozen": false,
     "read_only": false
    }
   },
   "outputs": [],
   "source": [
    "bs=np.uint8(stream['data'][:48])"
   ]
  },
  {
   "cell_type": "code",
   "execution_count": null,
   "metadata": {
    "collapsed": false,
    "run_control": {
     "frozen": false,
     "read_only": false
    }
   },
   "outputs": [],
   "source": [
    "bs"
   ]
  },
  {
   "cell_type": "code",
   "execution_count": null,
   "metadata": {
    "collapsed": false,
    "run_control": {
     "frozen": false,
     "read_only": false
    }
   },
   "outputs": [],
   "source": [
    "events=stream['data'].view(event_dt)"
   ]
  },
  {
   "cell_type": "code",
   "execution_count": null,
   "metadata": {
    "collapsed": false,
    "run_control": {
     "frozen": false,
     "read_only": false
    }
   },
   "outputs": [],
   "source": [
    "'{:X}'.format(events['flags'][0])"
   ]
  },
  {
   "cell_type": "code",
   "execution_count": null,
   "metadata": {
    "collapsed": false,
    "run_control": {
     "frozen": false,
     "read_only": false
    }
   },
   "outputs": [],
   "source": [
    "events['rise']"
   ]
  },
  {
   "cell_type": "code",
   "execution_count": null,
   "metadata": {
    "collapsed": false,
    "run_control": {
     "frozen": false,
     "read_only": false
    }
   },
   "outputs": [],
   "source": [
    "events"
   ]
  },
  {
   "cell_type": "code",
   "execution_count": null,
   "metadata": {
    "collapsed": false,
    "run_control": {
     "frozen": false,
     "read_only": false
    }
   },
   "outputs": [],
   "source": [
    "'{:04X}'.format(events['flags'][1])"
   ]
  },
  {
   "cell_type": "code",
   "execution_count": null,
   "metadata": {
    "collapsed": true,
    "run_control": {
     "frozen": false,
     "read_only": false
    }
   },
   "outputs": [],
   "source": [
    "pulse_peak_dt=np.dtype([('time','>i2'),('minima','>i2'),('rise','>u2'),('height','>i2')])\n",
    "pulse_dt=np.dtype([('time','>i2'),('flags','>i2'),('resv','>i2'),('size','>u2'),\n",
    "                  ('offset','>i2'),('length','>i2'),('area','>i4'),('peaks',(pulse_peak_dt,1))])\n",
    "data=np.copy(stream['data'])"
   ]
  },
  {
   "cell_type": "code",
   "execution_count": null,
   "metadata": {
    "collapsed": false,
    "run_control": {
     "frozen": false,
     "read_only": false
    }
   },
   "outputs": [],
   "source": [
    "pulses=data.view(pulse_dt)"
   ]
  },
  {
   "cell_type": "code",
   "execution_count": null,
   "metadata": {
    "collapsed": false,
    "run_control": {
     "frozen": false,
     "read_only": false
    }
   },
   "outputs": [],
   "source": [
    "pulses['peaks']['height']-pulses['peaks']['minima']"
   ]
  },
  {
   "cell_type": "code",
   "execution_count": null,
   "metadata": {
    "collapsed": false,
    "run_control": {
     "frozen": false,
     "read_only": false
    }
   },
   "outputs": [],
   "source": [
    "pulses['peaks']['minima']"
   ]
  },
  {
   "cell_type": "code",
   "execution_count": null,
   "metadata": {
    "collapsed": false,
    "run_control": {
     "frozen": false,
     "read_only": false
    }
   },
   "outputs": [],
   "source": [
    "peak_count=np.right_shift(np.bitwise_and(pulses['flags'],0xF000),12)\n",
    "peak_overflow=np.bitwise_and(pulses['flags'],0x0800)!=0\n",
    "channel=np.right_shift(np.bitwise_and(pulses['flags'],0x0700),8)\n",
    "timing_type=np.right_shift(np.bitwise_and(pulses['flags'],0x00C0),6)\n",
    "height_type=np.right_shift(np.bitwise_and(pulses['flags'],0x0030),4)\n",
    "event_type=np.right_shift(np.bitwise_and(pulses['flags'],0x000E),1)\n",
    "new_window=np.bitwise_and(pulses['flags'],0x0001)!=0"
   ]
  },
  {
   "cell_type": "code",
   "execution_count": null,
   "metadata": {
    "collapsed": false,
    "run_control": {
     "frozen": false,
     "read_only": false
    }
   },
   "outputs": [],
   "source": [
    "peak_overflow"
   ]
  },
  {
   "cell_type": "code",
   "execution_count": null,
   "metadata": {
    "collapsed": true,
    "run_control": {
     "frozen": false,
     "read_only": false
    }
   },
   "outputs": [],
   "source": [
    "test_dt=np.dtype(\n",
    "    [('time','i2'),('flags','i2'),('rise','u2'),('minima','i2'),('low','u8'),('high','u8')]\n",
    ")\n",
    "test=data.view(test_dt)"
   ]
  },
  {
   "cell_type": "code",
   "execution_count": null,
   "metadata": {
    "collapsed": false,
    "run_control": {
     "frozen": false,
     "read_only": false
    }
   },
   "outputs": [],
   "source": [
    "test"
   ]
  },
  {
   "cell_type": "code",
   "execution_count": null,
   "metadata": {
    "collapsed": false,
    "run_control": {
     "frozen": false,
     "read_only": false
    }
   },
   "outputs": [],
   "source": [
    "test['minima']"
   ]
  },
  {
   "cell_type": "code",
   "execution_count": null,
   "metadata": {
    "collapsed": false,
    "run_control": {
     "frozen": false,
     "read_only": false
    }
   },
   "outputs": [],
   "source": [
    "low1=np.int32(np.right_shift(np.bitwise_and(test['low'],0x03FFFF000000000),36))\n",
    "s=(np.bitwise_and(low1,0x00020000)!=0)*0xFFFC0000\n",
    "low2=np.int32(np.right_shift(np.bitwise_and(test['low'],0x000000FFFFC0000),18))\n",
    "low_threshold=np.int32(np.bitwise_and(test['low'],0x00000000003FFFF))\n",
    "high1=np.int32(np.right_shift(np.bitwise_and(test['high'],0x03FFFF000000000),36))\n",
    "high2=np.int32(np.right_shift(np.bitwise_and(test['high'],0x000000FFFFC0000),18))\n",
    "high_threshold=np.int32(np.bitwise_and(test['high'],0x00000000003FFFF))"
   ]
  },
  {
   "cell_type": "code",
   "execution_count": null,
   "metadata": {
    "collapsed": false,
    "run_control": {
     "frozen": false,
     "read_only": false
    }
   },
   "outputs": [],
   "source": [
    "np.int32(np.bitwise_or(low1,s))/8.0"
   ]
  },
  {
   "cell_type": "code",
   "execution_count": null,
   "metadata": {
    "collapsed": false,
    "run_control": {
     "frozen": false,
     "read_only": false
    }
   },
   "outputs": [],
   "source": [
    "'{:04X}'.format(low1[0])"
   ]
  },
  {
   "cell_type": "code",
   "execution_count": null,
   "metadata": {
    "collapsed": false,
    "run_control": {
     "frozen": false,
     "read_only": false
    }
   },
   "outputs": [],
   "source": [
    "high1/8.0"
   ]
  },
  {
   "cell_type": "code",
   "execution_count": null,
   "metadata": {
    "collapsed": false,
    "run_control": {
     "frozen": false,
     "read_only": false
    }
   },
   "outputs": [],
   "source": [
    "high2/8.0"
   ]
  },
  {
   "cell_type": "code",
   "execution_count": null,
   "metadata": {
    "collapsed": false,
    "run_control": {
     "frozen": false,
     "read_only": false
    }
   },
   "outputs": [],
   "source": [
    "'{:04X}'.format(high_threshold[0])"
   ]
  },
  {
   "cell_type": "code",
   "execution_count": null,
   "metadata": {
    "collapsed": false,
    "run_control": {
     "frozen": false,
     "read_only": false
    }
   },
   "outputs": [],
   "source": [
    "from enum import Enum"
   ]
  },
  {
   "cell_type": "code",
   "execution_count": null,
   "metadata": {
    "collapsed": false,
    "run_control": {
     "frozen": false,
     "read_only": false
    }
   },
   "outputs": [],
   "source": [
    "class VhdlEnum(int, Enum):\n",
    "\n",
    "    def __str__(self):\n",
    "        return self.name.replace(\"-\", \" \")\n",
    "    \n",
    "    def select(self):\n",
    "        return pow(2, self.value)\n",
    "    "
   ]
  },
  {
   "cell_type": "code",
   "execution_count": null,
   "metadata": {
    "collapsed": false,
    "run_control": {
     "frozen": false,
     "read_only": false
    }
   },
   "outputs": [],
   "source": [
    "class Test(VhdlEnum):\n",
    "    a=0\n",
    "    b=1"
   ]
  },
  {
   "cell_type": "code",
   "execution_count": null,
   "metadata": {
    "collapsed": false,
    "run_control": {
     "frozen": false,
     "read_only": false
    }
   },
   "outputs": [],
   "source": [
    "Test(0)"
   ]
  },
  {
   "cell_type": "code",
   "execution_count": null,
   "metadata": {
    "collapsed": true,
    "run_control": {
     "frozen": false,
     "read_only": false
    }
   },
   "outputs": [],
   "source": []
  }
 ],
 "metadata": {
  "anaconda-cloud": {},
  "kernelspec": {
   "display_name": "Python [conda root]",
   "language": "python",
   "name": "conda-root-py"
  },
  "language_info": {
   "codemirror_mode": {
    "name": "ipython",
    "version": 3
   },
   "file_extension": ".py",
   "mimetype": "text/x-python",
   "name": "python",
   "nbconvert_exporter": "python",
   "pygments_lexer": "ipython3",
   "version": "3.5.2"
  }
 },
 "nbformat": 4,
 "nbformat_minor": 1
}
