{
 "cells": [
  {
   "cell_type": "markdown",
   "metadata": {},
   "source": [
    "timestamp 0 => clk 20\n",
    "\n",
    "traces start at clk 1"
   ]
  },
  {
   "cell_type": "code",
   "execution_count": null,
   "metadata": {
    "collapsed": false,
    "run_control": {
     "frozen": false,
     "read_only": false
    }
   },
   "outputs": [],
   "source": [
    "#Mac\n",
    "import sys\n",
    "sys.path.append('../../../../interface/python')"
   ]
  },
  {
   "cell_type": "code",
   "execution_count": 1,
   "metadata": {
    "collapsed": false,
    "run_control": {
     "frozen": false,
     "read_only": false
    }
   },
   "outputs": [],
   "source": [
    "from tes.data import Data,PacketStream,Packet,Payload,EventFlags,Event\n",
    "import numpy as np\n",
    "import matplotlib.pyplot as plt"
   ]
  },
  {
   "cell_type": "code",
   "execution_count": 2,
   "metadata": {
    "code_folding": [],
    "collapsed": false,
    "run_control": {
     "frozen": false,
     "read_only": false
    }
   },
   "outputs": [],
   "source": [
    "#NOTE traces[0] corresponts to clk=1\n",
    "trace_dt=np.dtype([('raw','i4'),('filtered','i4'),('slope','i4'),('filteredL','i4')])\n",
    "stream_dt=np.dtype([('data','i4'),('last','i4')])\n",
    "minmax_dt=np.dtype(\n",
    "    [\n",
    "        ('filtered','i4'),('timing_threshold','i4'),\n",
    "        ('height_threshold','i4'),('slope_extrema','i4'),('slope_area','i4'),('clk','i4')\n",
    "    ]\n",
    ")\n",
    "cfd_dt=np.dtype('i4')\n",
    "filteredxing_dt=np.dtype([('extrema','i4'),('area','i4'),('clk','i4')])"
   ]
  },
  {
   "cell_type": "code",
   "execution_count": 3,
   "metadata": {
    "collapsed": false,
    "run_control": {
     "frozen": false,
     "read_only": false
    }
   },
   "outputs": [],
   "source": [
    "traces=np.fromfile('data/traces',trace_dt)\n",
    "stream=np.fromfile('data/bytestream',stream_dt)\n",
    "minmax=np.fromfile('data/minmax',minmax_dt)\n",
    "cfd=np.fromfile('data/cfd',cfd_dt)\n",
    "filteredxing=np.fromfile('data/filteredxing',filteredxing_dt)"
   ]
  },
  {
   "cell_type": "code",
   "execution_count": 3,
   "metadata": {
    "collapsed": false,
    "run_control": {
     "frozen": false,
     "read_only": false
    },
    "scrolled": true
   },
   "outputs": [],
   "source": [
    "traces=Data.fromfile('traces',trace_dt,'teslib','measurement_subsystem_TB',tool='vivado')\n",
    "stream=Data.fromfile('bytestream',stream_dt,'teslib','measurement_subsystem_TB',tool='vivado')\n",
    "minmax=Data.fromfile('minmax',minmax_dt,'teslib','measurement_subsystem_TB',tool='vivado')\n",
    "cfd=Data.fromfile('cfd',cfd_dt,'teslib','measurement_subsystem_TB',tool='vivado')\n",
    "filteredxing=Data.fromfile(\n",
    "    'filteredxing',filteredxing_dt,'teslib','measurement_subsystem_TB',tool='vivado'\n",
    ")"
   ]
  },
  {
   "cell_type": "code",
   "execution_count": null,
   "metadata": {
    "collapsed": false,
    "run_control": {
     "frozen": false,
     "read_only": false
    },
    "scrolled": true
   },
   "outputs": [],
   "source": [
    "# Mac\n",
    "traces=Data.fromfile(\n",
    "    'traces',trace_dt,'teslib','measurement_subsystem_TB',tool='vivado',\n",
    "    root='/Volumes/C/'\n",
    ")\n",
    "stream=Data.fromfile(\n",
    "    'bytestream',stream_dt,'teslib','measurement_subsystem_TB',tool='vivado',\n",
    "    root='/Volumes/C/'\n",
    ")\n",
    "minmax=Data.fromfile(\n",
    "    'minmax',minmax_dt,'teslib','measurement_subsystem_TB',tool='vivado',\n",
    "    root='/Volumes/C/'\n",
    ")\n",
    "cfd=Data.fromfile(\n",
    "    'cfd',cfd_dt,'teslib','measurement_subsystem_TB',tool='vivado',\n",
    "    root='/Volumes/C/'\n",
    ")\n",
    "filteredxing=Data.fromfile(\n",
    "    'filteredxing',filteredxing_dt,'teslib','measurement_subsystem_TB',\n",
    "    tool='vivado',root='/Volumes/C/'\n",
    ")"
   ]
  },
  {
   "cell_type": "code",
   "execution_count": 4,
   "metadata": {
    "collapsed": false
   },
   "outputs": [],
   "source": [
    "def plot_event(event_tupple,rel2min):\n",
    "    pre=200\n",
    "    post=1000\n",
    "    timestamp=event_tupple[0]\n",
    "    event_type=event_tupple[1]\n",
    "    event=event_tupple[2]\n",
    "    flags=EventFlags(event['flags'])\n",
    "#     print(flags)\n",
    "    #print('timestamp',timestamp, 'time', event['time'],'height',event['height'],'min',event['minima'])\n",
    "    if flags.type == Event.tick:\n",
    "        return\n",
    "    s=traces['filtered'][timestamp+20-pre:timestamp+20+post]\n",
    "    r=traces['raw'][timestamp+20-pre:timestamp+20+post]\n",
    "    i = np.where(abs(minmax['clk'])<=timestamp+20)[0][-1]\n",
    "    min_t=abs(minmax['clk'][i])-(timestamp+20)\n",
    "#     print(minmax['clk'][i],min_t,i,timestamp)\n",
    "    #plt.plot(r,'k',linewidth=0.5)\n",
    "#     print('min', event_tupple[2][1])\n",
    "#     print(event_type)\n",
    "    if flags.channel==1:\n",
    "        colour='b'\n",
    "        lw=0.5\n",
    "        mm = 'vb'\n",
    "        tm = 'ob'\n",
    "    else:\n",
    "        colour='r'\n",
    "        lw=0.5\n",
    "        mm = 'vr'\n",
    "        tm = 'or'\n",
    "    \n",
    "#     if event_type==Event.pulse:\n",
    "#         colour=':g'\n",
    "#         lw=2\n",
    "#         if event_type==Event.pulse:\n",
    "#             max_peaks = event['size']-2\n",
    "#         if max_peaks > 1:    \n",
    "#             minima=event['peaks'][0]['minima']\n",
    "#         else:\n",
    "#             minima=event['peaks']['minima']\n",
    "#     else:\n",
    "#         colour='b'\n",
    "#         lw=1\n",
    "    if flags.channel==1:\n",
    "        minima=event['minima']\n",
    "    #     print(event_type,'minima',minima)\n",
    "        if rel2min:\n",
    "            plt.plot(s-minima,colour,linewidth=lw)\n",
    "        else:\n",
    "            plt.plot(s,colour,linewidth=lw)\n",
    "    #     plt.plot([pre],s[pre],tm,fillstyle='none')\n",
    "    #     plt.plot([pre+min_t],minmax['filtered'][i],mm,fillstyle='none')\n",
    "        if event_type==Event.pulse:\n",
    "            if max_peaks > 1:\n",
    "                for i in range(max_peaks):\n",
    "                    p=event['peaks'][i]\n",
    "                    plt.plot([0,len(s)-1],[p['height'],p['height']],':g')\n",
    "            else:\n",
    "                p=event['peaks']\n",
    "                plt.plot([0,len(s)-1],[p['height'],p['height']],':g',lw=1)\n",
    "        else:\n",
    "          plt.plot([0,len(s)-1],[event['height'],event['height']],colour,lw=lw)\n",
    "\n",
    "    #print(event['height'],event['minima'])\n",
    "    #print(minmax['filtered'][i]==s[pre+min_t])\n",
    "    #print(minmax['filtered'][i]==event['minima'])\n",
    "    #print(s[pre],s[pre-1])"
   ]
  },
  {
   "cell_type": "code",
   "execution_count": 7,
   "metadata": {
    "collapsed": false,
    "run_control": {
     "frozen": false,
     "read_only": false
    },
    "scrolled": false
   },
   "outputs": [
    {
     "data": {
      "application/javascript": [
       "/* Put everything inside the global mpl namespace */\n",
       "window.mpl = {};\n",
       "\n",
       "\n",
       "mpl.get_websocket_type = function() {\n",
       "    if (typeof(WebSocket) !== 'undefined') {\n",
       "        return WebSocket;\n",
       "    } else if (typeof(MozWebSocket) !== 'undefined') {\n",
       "        return MozWebSocket;\n",
       "    } else {\n",
       "        alert('Your browser does not have WebSocket support.' +\n",
       "              'Please try Chrome, Safari or Firefox ≥ 6. ' +\n",
       "              'Firefox 4 and 5 are also supported but you ' +\n",
       "              'have to enable WebSockets in about:config.');\n",
       "    };\n",
       "}\n",
       "\n",
       "mpl.figure = function(figure_id, websocket, ondownload, parent_element) {\n",
       "    this.id = figure_id;\n",
       "\n",
       "    this.ws = websocket;\n",
       "\n",
       "    this.supports_binary = (this.ws.binaryType != undefined);\n",
       "\n",
       "    if (!this.supports_binary) {\n",
       "        var warnings = document.getElementById(\"mpl-warnings\");\n",
       "        if (warnings) {\n",
       "            warnings.style.display = 'block';\n",
       "            warnings.textContent = (\n",
       "                \"This browser does not support binary websocket messages. \" +\n",
       "                    \"Performance may be slow.\");\n",
       "        }\n",
       "    }\n",
       "\n",
       "    this.imageObj = new Image();\n",
       "\n",
       "    this.context = undefined;\n",
       "    this.message = undefined;\n",
       "    this.canvas = undefined;\n",
       "    this.rubberband_canvas = undefined;\n",
       "    this.rubberband_context = undefined;\n",
       "    this.format_dropdown = undefined;\n",
       "\n",
       "    this.image_mode = 'full';\n",
       "\n",
       "    this.root = $('<div/>');\n",
       "    this._root_extra_style(this.root)\n",
       "    this.root.attr('style', 'display: inline-block');\n",
       "\n",
       "    $(parent_element).append(this.root);\n",
       "\n",
       "    this._init_header(this);\n",
       "    this._init_canvas(this);\n",
       "    this._init_toolbar(this);\n",
       "\n",
       "    var fig = this;\n",
       "\n",
       "    this.waiting = false;\n",
       "\n",
       "    this.ws.onopen =  function () {\n",
       "            fig.send_message(\"supports_binary\", {value: fig.supports_binary});\n",
       "            fig.send_message(\"send_image_mode\", {});\n",
       "            if (mpl.ratio != 1) {\n",
       "                fig.send_message(\"set_dpi_ratio\", {'dpi_ratio': mpl.ratio});\n",
       "            }\n",
       "            fig.send_message(\"refresh\", {});\n",
       "        }\n",
       "\n",
       "    this.imageObj.onload = function() {\n",
       "            if (fig.image_mode == 'full') {\n",
       "                // Full images could contain transparency (where diff images\n",
       "                // almost always do), so we need to clear the canvas so that\n",
       "                // there is no ghosting.\n",
       "                fig.context.clearRect(0, 0, fig.canvas.width, fig.canvas.height);\n",
       "            }\n",
       "            fig.context.drawImage(fig.imageObj, 0, 0);\n",
       "        };\n",
       "\n",
       "    this.imageObj.onunload = function() {\n",
       "        this.ws.close();\n",
       "    }\n",
       "\n",
       "    this.ws.onmessage = this._make_on_message_function(this);\n",
       "\n",
       "    this.ondownload = ondownload;\n",
       "}\n",
       "\n",
       "mpl.figure.prototype._init_header = function() {\n",
       "    var titlebar = $(\n",
       "        '<div class=\"ui-dialog-titlebar ui-widget-header ui-corner-all ' +\n",
       "        'ui-helper-clearfix\"/>');\n",
       "    var titletext = $(\n",
       "        '<div class=\"ui-dialog-title\" style=\"width: 100%; ' +\n",
       "        'text-align: center; padding: 3px;\"/>');\n",
       "    titlebar.append(titletext)\n",
       "    this.root.append(titlebar);\n",
       "    this.header = titletext[0];\n",
       "}\n",
       "\n",
       "\n",
       "\n",
       "mpl.figure.prototype._canvas_extra_style = function(canvas_div) {\n",
       "\n",
       "}\n",
       "\n",
       "\n",
       "mpl.figure.prototype._root_extra_style = function(canvas_div) {\n",
       "\n",
       "}\n",
       "\n",
       "mpl.figure.prototype._init_canvas = function() {\n",
       "    var fig = this;\n",
       "\n",
       "    var canvas_div = $('<div/>');\n",
       "\n",
       "    canvas_div.attr('style', 'position: relative; clear: both; outline: 0');\n",
       "\n",
       "    function canvas_keyboard_event(event) {\n",
       "        return fig.key_event(event, event['data']);\n",
       "    }\n",
       "\n",
       "    canvas_div.keydown('key_press', canvas_keyboard_event);\n",
       "    canvas_div.keyup('key_release', canvas_keyboard_event);\n",
       "    this.canvas_div = canvas_div\n",
       "    this._canvas_extra_style(canvas_div)\n",
       "    this.root.append(canvas_div);\n",
       "\n",
       "    var canvas = $('<canvas/>');\n",
       "    canvas.addClass('mpl-canvas');\n",
       "    canvas.attr('style', \"left: 0; top: 0; z-index: 0; outline: 0\")\n",
       "\n",
       "    this.canvas = canvas[0];\n",
       "    this.context = canvas[0].getContext(\"2d\");\n",
       "\n",
       "    var backingStore = this.context.backingStorePixelRatio ||\n",
       "\tthis.context.webkitBackingStorePixelRatio ||\n",
       "\tthis.context.mozBackingStorePixelRatio ||\n",
       "\tthis.context.msBackingStorePixelRatio ||\n",
       "\tthis.context.oBackingStorePixelRatio ||\n",
       "\tthis.context.backingStorePixelRatio || 1;\n",
       "\n",
       "    mpl.ratio = (window.devicePixelRatio || 1) / backingStore;\n",
       "\n",
       "    var rubberband = $('<canvas/>');\n",
       "    rubberband.attr('style', \"position: absolute; left: 0; top: 0; z-index: 1;\")\n",
       "\n",
       "    var pass_mouse_events = true;\n",
       "\n",
       "    canvas_div.resizable({\n",
       "        start: function(event, ui) {\n",
       "            pass_mouse_events = false;\n",
       "        },\n",
       "        resize: function(event, ui) {\n",
       "            fig.request_resize(ui.size.width, ui.size.height);\n",
       "        },\n",
       "        stop: function(event, ui) {\n",
       "            pass_mouse_events = true;\n",
       "            fig.request_resize(ui.size.width, ui.size.height);\n",
       "        },\n",
       "    });\n",
       "\n",
       "    function mouse_event_fn(event) {\n",
       "        if (pass_mouse_events)\n",
       "            return fig.mouse_event(event, event['data']);\n",
       "    }\n",
       "\n",
       "    rubberband.mousedown('button_press', mouse_event_fn);\n",
       "    rubberband.mouseup('button_release', mouse_event_fn);\n",
       "    // Throttle sequential mouse events to 1 every 20ms.\n",
       "    rubberband.mousemove('motion_notify', mouse_event_fn);\n",
       "\n",
       "    rubberband.mouseenter('figure_enter', mouse_event_fn);\n",
       "    rubberband.mouseleave('figure_leave', mouse_event_fn);\n",
       "\n",
       "    canvas_div.on(\"wheel\", function (event) {\n",
       "        event = event.originalEvent;\n",
       "        event['data'] = 'scroll'\n",
       "        if (event.deltaY < 0) {\n",
       "            event.step = 1;\n",
       "        } else {\n",
       "            event.step = -1;\n",
       "        }\n",
       "        mouse_event_fn(event);\n",
       "    });\n",
       "\n",
       "    canvas_div.append(canvas);\n",
       "    canvas_div.append(rubberband);\n",
       "\n",
       "    this.rubberband = rubberband;\n",
       "    this.rubberband_canvas = rubberband[0];\n",
       "    this.rubberband_context = rubberband[0].getContext(\"2d\");\n",
       "    this.rubberband_context.strokeStyle = \"#000000\";\n",
       "\n",
       "    this._resize_canvas = function(width, height) {\n",
       "        // Keep the size of the canvas, canvas container, and rubber band\n",
       "        // canvas in synch.\n",
       "        canvas_div.css('width', width)\n",
       "        canvas_div.css('height', height)\n",
       "\n",
       "        canvas.attr('width', width * mpl.ratio);\n",
       "        canvas.attr('height', height * mpl.ratio);\n",
       "        canvas.attr('style', 'width: ' + width + 'px; height: ' + height + 'px;');\n",
       "\n",
       "        rubberband.attr('width', width);\n",
       "        rubberband.attr('height', height);\n",
       "    }\n",
       "\n",
       "    // Set the figure to an initial 600x600px, this will subsequently be updated\n",
       "    // upon first draw.\n",
       "    this._resize_canvas(600, 600);\n",
       "\n",
       "    // Disable right mouse context menu.\n",
       "    $(this.rubberband_canvas).bind(\"contextmenu\",function(e){\n",
       "        return false;\n",
       "    });\n",
       "\n",
       "    function set_focus () {\n",
       "        canvas.focus();\n",
       "        canvas_div.focus();\n",
       "    }\n",
       "\n",
       "    window.setTimeout(set_focus, 100);\n",
       "}\n",
       "\n",
       "mpl.figure.prototype._init_toolbar = function() {\n",
       "    var fig = this;\n",
       "\n",
       "    var nav_element = $('<div/>')\n",
       "    nav_element.attr('style', 'width: 100%');\n",
       "    this.root.append(nav_element);\n",
       "\n",
       "    // Define a callback function for later on.\n",
       "    function toolbar_event(event) {\n",
       "        return fig.toolbar_button_onclick(event['data']);\n",
       "    }\n",
       "    function toolbar_mouse_event(event) {\n",
       "        return fig.toolbar_button_onmouseover(event['data']);\n",
       "    }\n",
       "\n",
       "    for(var toolbar_ind in mpl.toolbar_items) {\n",
       "        var name = mpl.toolbar_items[toolbar_ind][0];\n",
       "        var tooltip = mpl.toolbar_items[toolbar_ind][1];\n",
       "        var image = mpl.toolbar_items[toolbar_ind][2];\n",
       "        var method_name = mpl.toolbar_items[toolbar_ind][3];\n",
       "\n",
       "        if (!name) {\n",
       "            // put a spacer in here.\n",
       "            continue;\n",
       "        }\n",
       "        var button = $('<button/>');\n",
       "        button.addClass('ui-button ui-widget ui-state-default ui-corner-all ' +\n",
       "                        'ui-button-icon-only');\n",
       "        button.attr('role', 'button');\n",
       "        button.attr('aria-disabled', 'false');\n",
       "        button.click(method_name, toolbar_event);\n",
       "        button.mouseover(tooltip, toolbar_mouse_event);\n",
       "\n",
       "        var icon_img = $('<span/>');\n",
       "        icon_img.addClass('ui-button-icon-primary ui-icon');\n",
       "        icon_img.addClass(image);\n",
       "        icon_img.addClass('ui-corner-all');\n",
       "\n",
       "        var tooltip_span = $('<span/>');\n",
       "        tooltip_span.addClass('ui-button-text');\n",
       "        tooltip_span.html(tooltip);\n",
       "\n",
       "        button.append(icon_img);\n",
       "        button.append(tooltip_span);\n",
       "\n",
       "        nav_element.append(button);\n",
       "    }\n",
       "\n",
       "    var fmt_picker_span = $('<span/>');\n",
       "\n",
       "    var fmt_picker = $('<select/>');\n",
       "    fmt_picker.addClass('mpl-toolbar-option ui-widget ui-widget-content');\n",
       "    fmt_picker_span.append(fmt_picker);\n",
       "    nav_element.append(fmt_picker_span);\n",
       "    this.format_dropdown = fmt_picker[0];\n",
       "\n",
       "    for (var ind in mpl.extensions) {\n",
       "        var fmt = mpl.extensions[ind];\n",
       "        var option = $(\n",
       "            '<option/>', {selected: fmt === mpl.default_extension}).html(fmt);\n",
       "        fmt_picker.append(option)\n",
       "    }\n",
       "\n",
       "    // Add hover states to the ui-buttons\n",
       "    $( \".ui-button\" ).hover(\n",
       "        function() { $(this).addClass(\"ui-state-hover\");},\n",
       "        function() { $(this).removeClass(\"ui-state-hover\");}\n",
       "    );\n",
       "\n",
       "    var status_bar = $('<span class=\"mpl-message\"/>');\n",
       "    nav_element.append(status_bar);\n",
       "    this.message = status_bar[0];\n",
       "}\n",
       "\n",
       "mpl.figure.prototype.request_resize = function(x_pixels, y_pixels) {\n",
       "    // Request matplotlib to resize the figure. Matplotlib will then trigger a resize in the client,\n",
       "    // which will in turn request a refresh of the image.\n",
       "    this.send_message('resize', {'width': x_pixels, 'height': y_pixels});\n",
       "}\n",
       "\n",
       "mpl.figure.prototype.send_message = function(type, properties) {\n",
       "    properties['type'] = type;\n",
       "    properties['figure_id'] = this.id;\n",
       "    this.ws.send(JSON.stringify(properties));\n",
       "}\n",
       "\n",
       "mpl.figure.prototype.send_draw_message = function() {\n",
       "    if (!this.waiting) {\n",
       "        this.waiting = true;\n",
       "        this.ws.send(JSON.stringify({type: \"draw\", figure_id: this.id}));\n",
       "    }\n",
       "}\n",
       "\n",
       "\n",
       "mpl.figure.prototype.handle_save = function(fig, msg) {\n",
       "    var format_dropdown = fig.format_dropdown;\n",
       "    var format = format_dropdown.options[format_dropdown.selectedIndex].value;\n",
       "    fig.ondownload(fig, format);\n",
       "}\n",
       "\n",
       "\n",
       "mpl.figure.prototype.handle_resize = function(fig, msg) {\n",
       "    var size = msg['size'];\n",
       "    if (size[0] != fig.canvas.width || size[1] != fig.canvas.height) {\n",
       "        fig._resize_canvas(size[0], size[1]);\n",
       "        fig.send_message(\"refresh\", {});\n",
       "    };\n",
       "}\n",
       "\n",
       "mpl.figure.prototype.handle_rubberband = function(fig, msg) {\n",
       "    var x0 = msg['x0'] / mpl.ratio;\n",
       "    var y0 = (fig.canvas.height - msg['y0']) / mpl.ratio;\n",
       "    var x1 = msg['x1'] / mpl.ratio;\n",
       "    var y1 = (fig.canvas.height - msg['y1']) / mpl.ratio;\n",
       "    x0 = Math.floor(x0) + 0.5;\n",
       "    y0 = Math.floor(y0) + 0.5;\n",
       "    x1 = Math.floor(x1) + 0.5;\n",
       "    y1 = Math.floor(y1) + 0.5;\n",
       "    var min_x = Math.min(x0, x1);\n",
       "    var min_y = Math.min(y0, y1);\n",
       "    var width = Math.abs(x1 - x0);\n",
       "    var height = Math.abs(y1 - y0);\n",
       "\n",
       "    fig.rubberband_context.clearRect(\n",
       "        0, 0, fig.canvas.width, fig.canvas.height);\n",
       "\n",
       "    fig.rubberband_context.strokeRect(min_x, min_y, width, height);\n",
       "}\n",
       "\n",
       "mpl.figure.prototype.handle_figure_label = function(fig, msg) {\n",
       "    // Updates the figure title.\n",
       "    fig.header.textContent = msg['label'];\n",
       "}\n",
       "\n",
       "mpl.figure.prototype.handle_cursor = function(fig, msg) {\n",
       "    var cursor = msg['cursor'];\n",
       "    switch(cursor)\n",
       "    {\n",
       "    case 0:\n",
       "        cursor = 'pointer';\n",
       "        break;\n",
       "    case 1:\n",
       "        cursor = 'default';\n",
       "        break;\n",
       "    case 2:\n",
       "        cursor = 'crosshair';\n",
       "        break;\n",
       "    case 3:\n",
       "        cursor = 'move';\n",
       "        break;\n",
       "    }\n",
       "    fig.rubberband_canvas.style.cursor = cursor;\n",
       "}\n",
       "\n",
       "mpl.figure.prototype.handle_message = function(fig, msg) {\n",
       "    fig.message.textContent = msg['message'];\n",
       "}\n",
       "\n",
       "mpl.figure.prototype.handle_draw = function(fig, msg) {\n",
       "    // Request the server to send over a new figure.\n",
       "    fig.send_draw_message();\n",
       "}\n",
       "\n",
       "mpl.figure.prototype.handle_image_mode = function(fig, msg) {\n",
       "    fig.image_mode = msg['mode'];\n",
       "}\n",
       "\n",
       "mpl.figure.prototype.updated_canvas_event = function() {\n",
       "    // Called whenever the canvas gets updated.\n",
       "    this.send_message(\"ack\", {});\n",
       "}\n",
       "\n",
       "// A function to construct a web socket function for onmessage handling.\n",
       "// Called in the figure constructor.\n",
       "mpl.figure.prototype._make_on_message_function = function(fig) {\n",
       "    return function socket_on_message(evt) {\n",
       "        if (evt.data instanceof Blob) {\n",
       "            /* FIXME: We get \"Resource interpreted as Image but\n",
       "             * transferred with MIME type text/plain:\" errors on\n",
       "             * Chrome.  But how to set the MIME type?  It doesn't seem\n",
       "             * to be part of the websocket stream */\n",
       "            evt.data.type = \"image/png\";\n",
       "\n",
       "            /* Free the memory for the previous frames */\n",
       "            if (fig.imageObj.src) {\n",
       "                (window.URL || window.webkitURL).revokeObjectURL(\n",
       "                    fig.imageObj.src);\n",
       "            }\n",
       "\n",
       "            fig.imageObj.src = (window.URL || window.webkitURL).createObjectURL(\n",
       "                evt.data);\n",
       "            fig.updated_canvas_event();\n",
       "            fig.waiting = false;\n",
       "            return;\n",
       "        }\n",
       "        else if (typeof evt.data === 'string' && evt.data.slice(0, 21) == \"data:image/png;base64\") {\n",
       "            fig.imageObj.src = evt.data;\n",
       "            fig.updated_canvas_event();\n",
       "            fig.waiting = false;\n",
       "            return;\n",
       "        }\n",
       "\n",
       "        var msg = JSON.parse(evt.data);\n",
       "        var msg_type = msg['type'];\n",
       "\n",
       "        // Call the  \"handle_{type}\" callback, which takes\n",
       "        // the figure and JSON message as its only arguments.\n",
       "        try {\n",
       "            var callback = fig[\"handle_\" + msg_type];\n",
       "        } catch (e) {\n",
       "            console.log(\"No handler for the '\" + msg_type + \"' message type: \", msg);\n",
       "            return;\n",
       "        }\n",
       "\n",
       "        if (callback) {\n",
       "            try {\n",
       "                // console.log(\"Handling '\" + msg_type + \"' message: \", msg);\n",
       "                callback(fig, msg);\n",
       "            } catch (e) {\n",
       "                console.log(\"Exception inside the 'handler_\" + msg_type + \"' callback:\", e, e.stack, msg);\n",
       "            }\n",
       "        }\n",
       "    };\n",
       "}\n",
       "\n",
       "// from http://stackoverflow.com/questions/1114465/getting-mouse-location-in-canvas\n",
       "mpl.findpos = function(e) {\n",
       "    //this section is from http://www.quirksmode.org/js/events_properties.html\n",
       "    var targ;\n",
       "    if (!e)\n",
       "        e = window.event;\n",
       "    if (e.target)\n",
       "        targ = e.target;\n",
       "    else if (e.srcElement)\n",
       "        targ = e.srcElement;\n",
       "    if (targ.nodeType == 3) // defeat Safari bug\n",
       "        targ = targ.parentNode;\n",
       "\n",
       "    // jQuery normalizes the pageX and pageY\n",
       "    // pageX,Y are the mouse positions relative to the document\n",
       "    // offset() returns the position of the element relative to the document\n",
       "    var x = e.pageX - $(targ).offset().left;\n",
       "    var y = e.pageY - $(targ).offset().top;\n",
       "\n",
       "    return {\"x\": x, \"y\": y};\n",
       "};\n",
       "\n",
       "/*\n",
       " * return a copy of an object with only non-object keys\n",
       " * we need this to avoid circular references\n",
       " * http://stackoverflow.com/a/24161582/3208463\n",
       " */\n",
       "function simpleKeys (original) {\n",
       "  return Object.keys(original).reduce(function (obj, key) {\n",
       "    if (typeof original[key] !== 'object')\n",
       "        obj[key] = original[key]\n",
       "    return obj;\n",
       "  }, {});\n",
       "}\n",
       "\n",
       "mpl.figure.prototype.mouse_event = function(event, name) {\n",
       "    var canvas_pos = mpl.findpos(event)\n",
       "\n",
       "    if (name === 'button_press')\n",
       "    {\n",
       "        this.canvas.focus();\n",
       "        this.canvas_div.focus();\n",
       "    }\n",
       "\n",
       "    var x = canvas_pos.x * mpl.ratio;\n",
       "    var y = canvas_pos.y * mpl.ratio;\n",
       "\n",
       "    this.send_message(name, {x: x, y: y, button: event.button,\n",
       "                             step: event.step,\n",
       "                             guiEvent: simpleKeys(event)});\n",
       "\n",
       "    /* This prevents the web browser from automatically changing to\n",
       "     * the text insertion cursor when the button is pressed.  We want\n",
       "     * to control all of the cursor setting manually through the\n",
       "     * 'cursor' event from matplotlib */\n",
       "    event.preventDefault();\n",
       "    return false;\n",
       "}\n",
       "\n",
       "mpl.figure.prototype._key_event_extra = function(event, name) {\n",
       "    // Handle any extra behaviour associated with a key event\n",
       "}\n",
       "\n",
       "mpl.figure.prototype.key_event = function(event, name) {\n",
       "\n",
       "    // Prevent repeat events\n",
       "    if (name == 'key_press')\n",
       "    {\n",
       "        if (event.which === this._key)\n",
       "            return;\n",
       "        else\n",
       "            this._key = event.which;\n",
       "    }\n",
       "    if (name == 'key_release')\n",
       "        this._key = null;\n",
       "\n",
       "    var value = '';\n",
       "    if (event.ctrlKey && event.which != 17)\n",
       "        value += \"ctrl+\";\n",
       "    if (event.altKey && event.which != 18)\n",
       "        value += \"alt+\";\n",
       "    if (event.shiftKey && event.which != 16)\n",
       "        value += \"shift+\";\n",
       "\n",
       "    value += 'k';\n",
       "    value += event.which.toString();\n",
       "\n",
       "    this._key_event_extra(event, name);\n",
       "\n",
       "    this.send_message(name, {key: value,\n",
       "                             guiEvent: simpleKeys(event)});\n",
       "    return false;\n",
       "}\n",
       "\n",
       "mpl.figure.prototype.toolbar_button_onclick = function(name) {\n",
       "    if (name == 'download') {\n",
       "        this.handle_save(this, null);\n",
       "    } else {\n",
       "        this.send_message(\"toolbar_button\", {name: name});\n",
       "    }\n",
       "};\n",
       "\n",
       "mpl.figure.prototype.toolbar_button_onmouseover = function(tooltip) {\n",
       "    this.message.textContent = tooltip;\n",
       "};\n",
       "mpl.toolbar_items = [[\"Home\", \"Reset original view\", \"fa fa-home icon-home\", \"home\"], [\"Back\", \"Back to  previous view\", \"fa fa-arrow-left icon-arrow-left\", \"back\"], [\"Forward\", \"Forward to next view\", \"fa fa-arrow-right icon-arrow-right\", \"forward\"], [\"\", \"\", \"\", \"\"], [\"Pan\", \"Pan axes with left mouse, zoom with right\", \"fa fa-arrows icon-move\", \"pan\"], [\"Zoom\", \"Zoom to rectangle\", \"fa fa-square-o icon-check-empty\", \"zoom\"], [\"\", \"\", \"\", \"\"], [\"Download\", \"Download plot\", \"fa fa-floppy-o icon-save\", \"download\"]];\n",
       "\n",
       "mpl.extensions = [\"eps\", \"jpeg\", \"pdf\", \"png\", \"ps\", \"raw\", \"svg\", \"tif\"];\n",
       "\n",
       "mpl.default_extension = \"png\";var comm_websocket_adapter = function(comm) {\n",
       "    // Create a \"websocket\"-like object which calls the given IPython comm\n",
       "    // object with the appropriate methods. Currently this is a non binary\n",
       "    // socket, so there is still some room for performance tuning.\n",
       "    var ws = {};\n",
       "\n",
       "    ws.close = function() {\n",
       "        comm.close()\n",
       "    };\n",
       "    ws.send = function(m) {\n",
       "        //console.log('sending', m);\n",
       "        comm.send(m);\n",
       "    };\n",
       "    // Register the callback with on_msg.\n",
       "    comm.on_msg(function(msg) {\n",
       "        //console.log('receiving', msg['content']['data'], msg);\n",
       "        // Pass the mpl event to the overriden (by mpl) onmessage function.\n",
       "        ws.onmessage(msg['content']['data'])\n",
       "    });\n",
       "    return ws;\n",
       "}\n",
       "\n",
       "mpl.mpl_figure_comm = function(comm, msg) {\n",
       "    // This is the function which gets called when the mpl process\n",
       "    // starts-up an IPython Comm through the \"matplotlib\" channel.\n",
       "\n",
       "    var id = msg.content.data.id;\n",
       "    // Get hold of the div created by the display call when the Comm\n",
       "    // socket was opened in Python.\n",
       "    var element = $(\"#\" + id);\n",
       "    var ws_proxy = comm_websocket_adapter(comm)\n",
       "\n",
       "    function ondownload(figure, format) {\n",
       "        window.open(figure.imageObj.src);\n",
       "    }\n",
       "\n",
       "    var fig = new mpl.figure(id, ws_proxy,\n",
       "                           ondownload,\n",
       "                           element.get(0));\n",
       "\n",
       "    // Call onopen now - mpl needs it, as it is assuming we've passed it a real\n",
       "    // web socket which is closed, not our websocket->open comm proxy.\n",
       "    ws_proxy.onopen();\n",
       "\n",
       "    fig.parent_element = element.get(0);\n",
       "    fig.cell_info = mpl.find_output_cell(\"<div id='\" + id + \"'></div>\");\n",
       "    if (!fig.cell_info) {\n",
       "        console.error(\"Failed to find cell for figure\", id, fig);\n",
       "        return;\n",
       "    }\n",
       "\n",
       "    var output_index = fig.cell_info[2]\n",
       "    var cell = fig.cell_info[0];\n",
       "\n",
       "};\n",
       "\n",
       "mpl.figure.prototype.handle_close = function(fig, msg) {\n",
       "    var width = fig.canvas.width/mpl.ratio\n",
       "    fig.root.unbind('remove')\n",
       "\n",
       "    // Update the output cell to use the data from the current canvas.\n",
       "    fig.push_to_output();\n",
       "    var dataURL = fig.canvas.toDataURL();\n",
       "    // Re-enable the keyboard manager in IPython - without this line, in FF,\n",
       "    // the notebook keyboard shortcuts fail.\n",
       "    IPython.keyboard_manager.enable()\n",
       "    $(fig.parent_element).html('<img src=\"' + dataURL + '\" width=\"' + width + '\">');\n",
       "    fig.close_ws(fig, msg);\n",
       "}\n",
       "\n",
       "mpl.figure.prototype.close_ws = function(fig, msg){\n",
       "    fig.send_message('closing', msg);\n",
       "    // fig.ws.close()\n",
       "}\n",
       "\n",
       "mpl.figure.prototype.push_to_output = function(remove_interactive) {\n",
       "    // Turn the data on the canvas into data in the output cell.\n",
       "    var width = this.canvas.width/mpl.ratio\n",
       "    var dataURL = this.canvas.toDataURL();\n",
       "    this.cell_info[1]['text/html'] = '<img src=\"' + dataURL + '\" width=\"' + width + '\">';\n",
       "}\n",
       "\n",
       "mpl.figure.prototype.updated_canvas_event = function() {\n",
       "    // Tell IPython that the notebook contents must change.\n",
       "    IPython.notebook.set_dirty(true);\n",
       "    this.send_message(\"ack\", {});\n",
       "    var fig = this;\n",
       "    // Wait a second, then push the new image to the DOM so\n",
       "    // that it is saved nicely (might be nice to debounce this).\n",
       "    setTimeout(function () { fig.push_to_output() }, 1000);\n",
       "}\n",
       "\n",
       "mpl.figure.prototype._init_toolbar = function() {\n",
       "    var fig = this;\n",
       "\n",
       "    var nav_element = $('<div/>')\n",
       "    nav_element.attr('style', 'width: 100%');\n",
       "    this.root.append(nav_element);\n",
       "\n",
       "    // Define a callback function for later on.\n",
       "    function toolbar_event(event) {\n",
       "        return fig.toolbar_button_onclick(event['data']);\n",
       "    }\n",
       "    function toolbar_mouse_event(event) {\n",
       "        return fig.toolbar_button_onmouseover(event['data']);\n",
       "    }\n",
       "\n",
       "    for(var toolbar_ind in mpl.toolbar_items){\n",
       "        var name = mpl.toolbar_items[toolbar_ind][0];\n",
       "        var tooltip = mpl.toolbar_items[toolbar_ind][1];\n",
       "        var image = mpl.toolbar_items[toolbar_ind][2];\n",
       "        var method_name = mpl.toolbar_items[toolbar_ind][3];\n",
       "\n",
       "        if (!name) { continue; };\n",
       "\n",
       "        var button = $('<button class=\"btn btn-default\" href=\"#\" title=\"' + name + '\"><i class=\"fa ' + image + ' fa-lg\"></i></button>');\n",
       "        button.click(method_name, toolbar_event);\n",
       "        button.mouseover(tooltip, toolbar_mouse_event);\n",
       "        nav_element.append(button);\n",
       "    }\n",
       "\n",
       "    // Add the status bar.\n",
       "    var status_bar = $('<span class=\"mpl-message\" style=\"text-align:right; float: right;\"/>');\n",
       "    nav_element.append(status_bar);\n",
       "    this.message = status_bar[0];\n",
       "\n",
       "    // Add the close button to the window.\n",
       "    var buttongrp = $('<div class=\"btn-group inline pull-right\"></div>');\n",
       "    var button = $('<button class=\"btn btn-mini btn-primary\" href=\"#\" title=\"Stop Interaction\"><i class=\"fa fa-power-off icon-remove icon-large\"></i></button>');\n",
       "    button.click(function (evt) { fig.handle_close(fig, {}); } );\n",
       "    button.mouseover('Stop Interaction', toolbar_mouse_event);\n",
       "    buttongrp.append(button);\n",
       "    var titlebar = this.root.find($('.ui-dialog-titlebar'));\n",
       "    titlebar.prepend(buttongrp);\n",
       "}\n",
       "\n",
       "mpl.figure.prototype._root_extra_style = function(el){\n",
       "    var fig = this\n",
       "    el.on(\"remove\", function(){\n",
       "\tfig.close_ws(fig, {});\n",
       "    });\n",
       "}\n",
       "\n",
       "mpl.figure.prototype._canvas_extra_style = function(el){\n",
       "    // this is important to make the div 'focusable\n",
       "    el.attr('tabindex', 0)\n",
       "    // reach out to IPython and tell the keyboard manager to turn it's self\n",
       "    // off when our div gets focus\n",
       "\n",
       "    // location in version 3\n",
       "    if (IPython.notebook.keyboard_manager) {\n",
       "        IPython.notebook.keyboard_manager.register_events(el);\n",
       "    }\n",
       "    else {\n",
       "        // location in version 2\n",
       "        IPython.keyboard_manager.register_events(el);\n",
       "    }\n",
       "\n",
       "}\n",
       "\n",
       "mpl.figure.prototype._key_event_extra = function(event, name) {\n",
       "    var manager = IPython.notebook.keyboard_manager;\n",
       "    if (!manager)\n",
       "        manager = IPython.keyboard_manager;\n",
       "\n",
       "    // Check for shift+enter\n",
       "    if (event.shiftKey && event.which == 13) {\n",
       "        this.canvas_div.blur();\n",
       "        // select the cell after this one\n",
       "        var index = IPython.notebook.find_cell_index(this.cell_info[0]);\n",
       "        IPython.notebook.select(index + 1);\n",
       "    }\n",
       "}\n",
       "\n",
       "mpl.figure.prototype.handle_save = function(fig, msg) {\n",
       "    fig.ondownload(fig, null);\n",
       "}\n",
       "\n",
       "\n",
       "mpl.find_output_cell = function(html_output) {\n",
       "    // Return the cell and output element which can be found *uniquely* in the notebook.\n",
       "    // Note - this is a bit hacky, but it is done because the \"notebook_saving.Notebook\"\n",
       "    // IPython event is triggered only after the cells have been serialised, which for\n",
       "    // our purposes (turning an active figure into a static one), is too late.\n",
       "    var cells = IPython.notebook.get_cells();\n",
       "    var ncells = cells.length;\n",
       "    for (var i=0; i<ncells; i++) {\n",
       "        var cell = cells[i];\n",
       "        if (cell.cell_type === 'code'){\n",
       "            for (var j=0; j<cell.output_area.outputs.length; j++) {\n",
       "                var data = cell.output_area.outputs[j];\n",
       "                if (data.data) {\n",
       "                    // IPython >= 3 moved mimebundle to data attribute of output\n",
       "                    data = data.data;\n",
       "                }\n",
       "                if (data['text/html'] == html_output) {\n",
       "                    return [cell, data, j];\n",
       "                }\n",
       "            }\n",
       "        }\n",
       "    }\n",
       "}\n",
       "\n",
       "// Register the function which deals with the matplotlib target/channel.\n",
       "// The kernel may be null if the page has been refreshed.\n",
       "if (IPython.notebook.kernel != null) {\n",
       "    IPython.notebook.kernel.comm_manager.register_target('matplotlib', mpl.mpl_figure_comm);\n",
       "}\n"
      ],
      "text/plain": [
       "<IPython.core.display.Javascript object>"
      ]
     },
     "metadata": {},
     "output_type": "display_data"
    },
    {
     "data": {
      "text/html": [
       "<img src=\"data:image/png;base64,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\" width=\"640\">"
      ],
      "text/plain": [
       "<IPython.core.display.HTML object>"
      ]
     },
     "metadata": {},
     "output_type": "display_data"
    },
    {
     "data": {
      "text/plain": [
       "[<matplotlib.lines.Line2D at 0xad3f8d0>]"
      ]
     },
     "execution_count": 7,
     "metadata": {},
     "output_type": "execute_result"
    }
   ],
   "source": [
    "%matplotlib notebook\n",
    "traces=Data.fromfile('traces',trace_dt,'teslib','measurement_subsystem_TB',tool='vivado')\n",
    "plt.plot(traces['slope'][1100:],'r',linewidth=1)\n",
    "plt.plot(traces['raw'][1100:],linewidth=0.5)\n",
    "plt.plot(traces['filtered'][1100:],'k',linewidth=2)"
   ]
  },
  {
   "cell_type": "code",
   "execution_count": 6,
   "metadata": {
    "collapsed": false,
    "run_control": {
     "frozen": false,
     "read_only": false
    },
    "scrolled": false
   },
   "outputs": [
    {
     "data": {
      "application/javascript": [
       "/* Put everything inside the global mpl namespace */\n",
       "window.mpl = {};\n",
       "\n",
       "\n",
       "mpl.get_websocket_type = function() {\n",
       "    if (typeof(WebSocket) !== 'undefined') {\n",
       "        return WebSocket;\n",
       "    } else if (typeof(MozWebSocket) !== 'undefined') {\n",
       "        return MozWebSocket;\n",
       "    } else {\n",
       "        alert('Your browser does not have WebSocket support.' +\n",
       "              'Please try Chrome, Safari or Firefox ≥ 6. ' +\n",
       "              'Firefox 4 and 5 are also supported but you ' +\n",
       "              'have to enable WebSockets in about:config.');\n",
       "    };\n",
       "}\n",
       "\n",
       "mpl.figure = function(figure_id, websocket, ondownload, parent_element) {\n",
       "    this.id = figure_id;\n",
       "\n",
       "    this.ws = websocket;\n",
       "\n",
       "    this.supports_binary = (this.ws.binaryType != undefined);\n",
       "\n",
       "    if (!this.supports_binary) {\n",
       "        var warnings = document.getElementById(\"mpl-warnings\");\n",
       "        if (warnings) {\n",
       "            warnings.style.display = 'block';\n",
       "            warnings.textContent = (\n",
       "                \"This browser does not support binary websocket messages. \" +\n",
       "                    \"Performance may be slow.\");\n",
       "        }\n",
       "    }\n",
       "\n",
       "    this.imageObj = new Image();\n",
       "\n",
       "    this.context = undefined;\n",
       "    this.message = undefined;\n",
       "    this.canvas = undefined;\n",
       "    this.rubberband_canvas = undefined;\n",
       "    this.rubberband_context = undefined;\n",
       "    this.format_dropdown = undefined;\n",
       "\n",
       "    this.image_mode = 'full';\n",
       "\n",
       "    this.root = $('<div/>');\n",
       "    this._root_extra_style(this.root)\n",
       "    this.root.attr('style', 'display: inline-block');\n",
       "\n",
       "    $(parent_element).append(this.root);\n",
       "\n",
       "    this._init_header(this);\n",
       "    this._init_canvas(this);\n",
       "    this._init_toolbar(this);\n",
       "\n",
       "    var fig = this;\n",
       "\n",
       "    this.waiting = false;\n",
       "\n",
       "    this.ws.onopen =  function () {\n",
       "            fig.send_message(\"supports_binary\", {value: fig.supports_binary});\n",
       "            fig.send_message(\"send_image_mode\", {});\n",
       "            if (mpl.ratio != 1) {\n",
       "                fig.send_message(\"set_dpi_ratio\", {'dpi_ratio': mpl.ratio});\n",
       "            }\n",
       "            fig.send_message(\"refresh\", {});\n",
       "        }\n",
       "\n",
       "    this.imageObj.onload = function() {\n",
       "            if (fig.image_mode == 'full') {\n",
       "                // Full images could contain transparency (where diff images\n",
       "                // almost always do), so we need to clear the canvas so that\n",
       "                // there is no ghosting.\n",
       "                fig.context.clearRect(0, 0, fig.canvas.width, fig.canvas.height);\n",
       "            }\n",
       "            fig.context.drawImage(fig.imageObj, 0, 0);\n",
       "        };\n",
       "\n",
       "    this.imageObj.onunload = function() {\n",
       "        this.ws.close();\n",
       "    }\n",
       "\n",
       "    this.ws.onmessage = this._make_on_message_function(this);\n",
       "\n",
       "    this.ondownload = ondownload;\n",
       "}\n",
       "\n",
       "mpl.figure.prototype._init_header = function() {\n",
       "    var titlebar = $(\n",
       "        '<div class=\"ui-dialog-titlebar ui-widget-header ui-corner-all ' +\n",
       "        'ui-helper-clearfix\"/>');\n",
       "    var titletext = $(\n",
       "        '<div class=\"ui-dialog-title\" style=\"width: 100%; ' +\n",
       "        'text-align: center; padding: 3px;\"/>');\n",
       "    titlebar.append(titletext)\n",
       "    this.root.append(titlebar);\n",
       "    this.header = titletext[0];\n",
       "}\n",
       "\n",
       "\n",
       "\n",
       "mpl.figure.prototype._canvas_extra_style = function(canvas_div) {\n",
       "\n",
       "}\n",
       "\n",
       "\n",
       "mpl.figure.prototype._root_extra_style = function(canvas_div) {\n",
       "\n",
       "}\n",
       "\n",
       "mpl.figure.prototype._init_canvas = function() {\n",
       "    var fig = this;\n",
       "\n",
       "    var canvas_div = $('<div/>');\n",
       "\n",
       "    canvas_div.attr('style', 'position: relative; clear: both; outline: 0');\n",
       "\n",
       "    function canvas_keyboard_event(event) {\n",
       "        return fig.key_event(event, event['data']);\n",
       "    }\n",
       "\n",
       "    canvas_div.keydown('key_press', canvas_keyboard_event);\n",
       "    canvas_div.keyup('key_release', canvas_keyboard_event);\n",
       "    this.canvas_div = canvas_div\n",
       "    this._canvas_extra_style(canvas_div)\n",
       "    this.root.append(canvas_div);\n",
       "\n",
       "    var canvas = $('<canvas/>');\n",
       "    canvas.addClass('mpl-canvas');\n",
       "    canvas.attr('style', \"left: 0; top: 0; z-index: 0; outline: 0\")\n",
       "\n",
       "    this.canvas = canvas[0];\n",
       "    this.context = canvas[0].getContext(\"2d\");\n",
       "\n",
       "    var backingStore = this.context.backingStorePixelRatio ||\n",
       "\tthis.context.webkitBackingStorePixelRatio ||\n",
       "\tthis.context.mozBackingStorePixelRatio ||\n",
       "\tthis.context.msBackingStorePixelRatio ||\n",
       "\tthis.context.oBackingStorePixelRatio ||\n",
       "\tthis.context.backingStorePixelRatio || 1;\n",
       "\n",
       "    mpl.ratio = (window.devicePixelRatio || 1) / backingStore;\n",
       "\n",
       "    var rubberband = $('<canvas/>');\n",
       "    rubberband.attr('style', \"position: absolute; left: 0; top: 0; z-index: 1;\")\n",
       "\n",
       "    var pass_mouse_events = true;\n",
       "\n",
       "    canvas_div.resizable({\n",
       "        start: function(event, ui) {\n",
       "            pass_mouse_events = false;\n",
       "        },\n",
       "        resize: function(event, ui) {\n",
       "            fig.request_resize(ui.size.width, ui.size.height);\n",
       "        },\n",
       "        stop: function(event, ui) {\n",
       "            pass_mouse_events = true;\n",
       "            fig.request_resize(ui.size.width, ui.size.height);\n",
       "        },\n",
       "    });\n",
       "\n",
       "    function mouse_event_fn(event) {\n",
       "        if (pass_mouse_events)\n",
       "            return fig.mouse_event(event, event['data']);\n",
       "    }\n",
       "\n",
       "    rubberband.mousedown('button_press', mouse_event_fn);\n",
       "    rubberband.mouseup('button_release', mouse_event_fn);\n",
       "    // Throttle sequential mouse events to 1 every 20ms.\n",
       "    rubberband.mousemove('motion_notify', mouse_event_fn);\n",
       "\n",
       "    rubberband.mouseenter('figure_enter', mouse_event_fn);\n",
       "    rubberband.mouseleave('figure_leave', mouse_event_fn);\n",
       "\n",
       "    canvas_div.on(\"wheel\", function (event) {\n",
       "        event = event.originalEvent;\n",
       "        event['data'] = 'scroll'\n",
       "        if (event.deltaY < 0) {\n",
       "            event.step = 1;\n",
       "        } else {\n",
       "            event.step = -1;\n",
       "        }\n",
       "        mouse_event_fn(event);\n",
       "    });\n",
       "\n",
       "    canvas_div.append(canvas);\n",
       "    canvas_div.append(rubberband);\n",
       "\n",
       "    this.rubberband = rubberband;\n",
       "    this.rubberband_canvas = rubberband[0];\n",
       "    this.rubberband_context = rubberband[0].getContext(\"2d\");\n",
       "    this.rubberband_context.strokeStyle = \"#000000\";\n",
       "\n",
       "    this._resize_canvas = function(width, height) {\n",
       "        // Keep the size of the canvas, canvas container, and rubber band\n",
       "        // canvas in synch.\n",
       "        canvas_div.css('width', width)\n",
       "        canvas_div.css('height', height)\n",
       "\n",
       "        canvas.attr('width', width * mpl.ratio);\n",
       "        canvas.attr('height', height * mpl.ratio);\n",
       "        canvas.attr('style', 'width: ' + width + 'px; height: ' + height + 'px;');\n",
       "\n",
       "        rubberband.attr('width', width);\n",
       "        rubberband.attr('height', height);\n",
       "    }\n",
       "\n",
       "    // Set the figure to an initial 600x600px, this will subsequently be updated\n",
       "    // upon first draw.\n",
       "    this._resize_canvas(600, 600);\n",
       "\n",
       "    // Disable right mouse context menu.\n",
       "    $(this.rubberband_canvas).bind(\"contextmenu\",function(e){\n",
       "        return false;\n",
       "    });\n",
       "\n",
       "    function set_focus () {\n",
       "        canvas.focus();\n",
       "        canvas_div.focus();\n",
       "    }\n",
       "\n",
       "    window.setTimeout(set_focus, 100);\n",
       "}\n",
       "\n",
       "mpl.figure.prototype._init_toolbar = function() {\n",
       "    var fig = this;\n",
       "\n",
       "    var nav_element = $('<div/>')\n",
       "    nav_element.attr('style', 'width: 100%');\n",
       "    this.root.append(nav_element);\n",
       "\n",
       "    // Define a callback function for later on.\n",
       "    function toolbar_event(event) {\n",
       "        return fig.toolbar_button_onclick(event['data']);\n",
       "    }\n",
       "    function toolbar_mouse_event(event) {\n",
       "        return fig.toolbar_button_onmouseover(event['data']);\n",
       "    }\n",
       "\n",
       "    for(var toolbar_ind in mpl.toolbar_items) {\n",
       "        var name = mpl.toolbar_items[toolbar_ind][0];\n",
       "        var tooltip = mpl.toolbar_items[toolbar_ind][1];\n",
       "        var image = mpl.toolbar_items[toolbar_ind][2];\n",
       "        var method_name = mpl.toolbar_items[toolbar_ind][3];\n",
       "\n",
       "        if (!name) {\n",
       "            // put a spacer in here.\n",
       "            continue;\n",
       "        }\n",
       "        var button = $('<button/>');\n",
       "        button.addClass('ui-button ui-widget ui-state-default ui-corner-all ' +\n",
       "                        'ui-button-icon-only');\n",
       "        button.attr('role', 'button');\n",
       "        button.attr('aria-disabled', 'false');\n",
       "        button.click(method_name, toolbar_event);\n",
       "        button.mouseover(tooltip, toolbar_mouse_event);\n",
       "\n",
       "        var icon_img = $('<span/>');\n",
       "        icon_img.addClass('ui-button-icon-primary ui-icon');\n",
       "        icon_img.addClass(image);\n",
       "        icon_img.addClass('ui-corner-all');\n",
       "\n",
       "        var tooltip_span = $('<span/>');\n",
       "        tooltip_span.addClass('ui-button-text');\n",
       "        tooltip_span.html(tooltip);\n",
       "\n",
       "        button.append(icon_img);\n",
       "        button.append(tooltip_span);\n",
       "\n",
       "        nav_element.append(button);\n",
       "    }\n",
       "\n",
       "    var fmt_picker_span = $('<span/>');\n",
       "\n",
       "    var fmt_picker = $('<select/>');\n",
       "    fmt_picker.addClass('mpl-toolbar-option ui-widget ui-widget-content');\n",
       "    fmt_picker_span.append(fmt_picker);\n",
       "    nav_element.append(fmt_picker_span);\n",
       "    this.format_dropdown = fmt_picker[0];\n",
       "\n",
       "    for (var ind in mpl.extensions) {\n",
       "        var fmt = mpl.extensions[ind];\n",
       "        var option = $(\n",
       "            '<option/>', {selected: fmt === mpl.default_extension}).html(fmt);\n",
       "        fmt_picker.append(option)\n",
       "    }\n",
       "\n",
       "    // Add hover states to the ui-buttons\n",
       "    $( \".ui-button\" ).hover(\n",
       "        function() { $(this).addClass(\"ui-state-hover\");},\n",
       "        function() { $(this).removeClass(\"ui-state-hover\");}\n",
       "    );\n",
       "\n",
       "    var status_bar = $('<span class=\"mpl-message\"/>');\n",
       "    nav_element.append(status_bar);\n",
       "    this.message = status_bar[0];\n",
       "}\n",
       "\n",
       "mpl.figure.prototype.request_resize = function(x_pixels, y_pixels) {\n",
       "    // Request matplotlib to resize the figure. Matplotlib will then trigger a resize in the client,\n",
       "    // which will in turn request a refresh of the image.\n",
       "    this.send_message('resize', {'width': x_pixels, 'height': y_pixels});\n",
       "}\n",
       "\n",
       "mpl.figure.prototype.send_message = function(type, properties) {\n",
       "    properties['type'] = type;\n",
       "    properties['figure_id'] = this.id;\n",
       "    this.ws.send(JSON.stringify(properties));\n",
       "}\n",
       "\n",
       "mpl.figure.prototype.send_draw_message = function() {\n",
       "    if (!this.waiting) {\n",
       "        this.waiting = true;\n",
       "        this.ws.send(JSON.stringify({type: \"draw\", figure_id: this.id}));\n",
       "    }\n",
       "}\n",
       "\n",
       "\n",
       "mpl.figure.prototype.handle_save = function(fig, msg) {\n",
       "    var format_dropdown = fig.format_dropdown;\n",
       "    var format = format_dropdown.options[format_dropdown.selectedIndex].value;\n",
       "    fig.ondownload(fig, format);\n",
       "}\n",
       "\n",
       "\n",
       "mpl.figure.prototype.handle_resize = function(fig, msg) {\n",
       "    var size = msg['size'];\n",
       "    if (size[0] != fig.canvas.width || size[1] != fig.canvas.height) {\n",
       "        fig._resize_canvas(size[0], size[1]);\n",
       "        fig.send_message(\"refresh\", {});\n",
       "    };\n",
       "}\n",
       "\n",
       "mpl.figure.prototype.handle_rubberband = function(fig, msg) {\n",
       "    var x0 = msg['x0'] / mpl.ratio;\n",
       "    var y0 = (fig.canvas.height - msg['y0']) / mpl.ratio;\n",
       "    var x1 = msg['x1'] / mpl.ratio;\n",
       "    var y1 = (fig.canvas.height - msg['y1']) / mpl.ratio;\n",
       "    x0 = Math.floor(x0) + 0.5;\n",
       "    y0 = Math.floor(y0) + 0.5;\n",
       "    x1 = Math.floor(x1) + 0.5;\n",
       "    y1 = Math.floor(y1) + 0.5;\n",
       "    var min_x = Math.min(x0, x1);\n",
       "    var min_y = Math.min(y0, y1);\n",
       "    var width = Math.abs(x1 - x0);\n",
       "    var height = Math.abs(y1 - y0);\n",
       "\n",
       "    fig.rubberband_context.clearRect(\n",
       "        0, 0, fig.canvas.width, fig.canvas.height);\n",
       "\n",
       "    fig.rubberband_context.strokeRect(min_x, min_y, width, height);\n",
       "}\n",
       "\n",
       "mpl.figure.prototype.handle_figure_label = function(fig, msg) {\n",
       "    // Updates the figure title.\n",
       "    fig.header.textContent = msg['label'];\n",
       "}\n",
       "\n",
       "mpl.figure.prototype.handle_cursor = function(fig, msg) {\n",
       "    var cursor = msg['cursor'];\n",
       "    switch(cursor)\n",
       "    {\n",
       "    case 0:\n",
       "        cursor = 'pointer';\n",
       "        break;\n",
       "    case 1:\n",
       "        cursor = 'default';\n",
       "        break;\n",
       "    case 2:\n",
       "        cursor = 'crosshair';\n",
       "        break;\n",
       "    case 3:\n",
       "        cursor = 'move';\n",
       "        break;\n",
       "    }\n",
       "    fig.rubberband_canvas.style.cursor = cursor;\n",
       "}\n",
       "\n",
       "mpl.figure.prototype.handle_message = function(fig, msg) {\n",
       "    fig.message.textContent = msg['message'];\n",
       "}\n",
       "\n",
       "mpl.figure.prototype.handle_draw = function(fig, msg) {\n",
       "    // Request the server to send over a new figure.\n",
       "    fig.send_draw_message();\n",
       "}\n",
       "\n",
       "mpl.figure.prototype.handle_image_mode = function(fig, msg) {\n",
       "    fig.image_mode = msg['mode'];\n",
       "}\n",
       "\n",
       "mpl.figure.prototype.updated_canvas_event = function() {\n",
       "    // Called whenever the canvas gets updated.\n",
       "    this.send_message(\"ack\", {});\n",
       "}\n",
       "\n",
       "// A function to construct a web socket function for onmessage handling.\n",
       "// Called in the figure constructor.\n",
       "mpl.figure.prototype._make_on_message_function = function(fig) {\n",
       "    return function socket_on_message(evt) {\n",
       "        if (evt.data instanceof Blob) {\n",
       "            /* FIXME: We get \"Resource interpreted as Image but\n",
       "             * transferred with MIME type text/plain:\" errors on\n",
       "             * Chrome.  But how to set the MIME type?  It doesn't seem\n",
       "             * to be part of the websocket stream */\n",
       "            evt.data.type = \"image/png\";\n",
       "\n",
       "            /* Free the memory for the previous frames */\n",
       "            if (fig.imageObj.src) {\n",
       "                (window.URL || window.webkitURL).revokeObjectURL(\n",
       "                    fig.imageObj.src);\n",
       "            }\n",
       "\n",
       "            fig.imageObj.src = (window.URL || window.webkitURL).createObjectURL(\n",
       "                evt.data);\n",
       "            fig.updated_canvas_event();\n",
       "            fig.waiting = false;\n",
       "            return;\n",
       "        }\n",
       "        else if (typeof evt.data === 'string' && evt.data.slice(0, 21) == \"data:image/png;base64\") {\n",
       "            fig.imageObj.src = evt.data;\n",
       "            fig.updated_canvas_event();\n",
       "            fig.waiting = false;\n",
       "            return;\n",
       "        }\n",
       "\n",
       "        var msg = JSON.parse(evt.data);\n",
       "        var msg_type = msg['type'];\n",
       "\n",
       "        // Call the  \"handle_{type}\" callback, which takes\n",
       "        // the figure and JSON message as its only arguments.\n",
       "        try {\n",
       "            var callback = fig[\"handle_\" + msg_type];\n",
       "        } catch (e) {\n",
       "            console.log(\"No handler for the '\" + msg_type + \"' message type: \", msg);\n",
       "            return;\n",
       "        }\n",
       "\n",
       "        if (callback) {\n",
       "            try {\n",
       "                // console.log(\"Handling '\" + msg_type + \"' message: \", msg);\n",
       "                callback(fig, msg);\n",
       "            } catch (e) {\n",
       "                console.log(\"Exception inside the 'handler_\" + msg_type + \"' callback:\", e, e.stack, msg);\n",
       "            }\n",
       "        }\n",
       "    };\n",
       "}\n",
       "\n",
       "// from http://stackoverflow.com/questions/1114465/getting-mouse-location-in-canvas\n",
       "mpl.findpos = function(e) {\n",
       "    //this section is from http://www.quirksmode.org/js/events_properties.html\n",
       "    var targ;\n",
       "    if (!e)\n",
       "        e = window.event;\n",
       "    if (e.target)\n",
       "        targ = e.target;\n",
       "    else if (e.srcElement)\n",
       "        targ = e.srcElement;\n",
       "    if (targ.nodeType == 3) // defeat Safari bug\n",
       "        targ = targ.parentNode;\n",
       "\n",
       "    // jQuery normalizes the pageX and pageY\n",
       "    // pageX,Y are the mouse positions relative to the document\n",
       "    // offset() returns the position of the element relative to the document\n",
       "    var x = e.pageX - $(targ).offset().left;\n",
       "    var y = e.pageY - $(targ).offset().top;\n",
       "\n",
       "    return {\"x\": x, \"y\": y};\n",
       "};\n",
       "\n",
       "/*\n",
       " * return a copy of an object with only non-object keys\n",
       " * we need this to avoid circular references\n",
       " * http://stackoverflow.com/a/24161582/3208463\n",
       " */\n",
       "function simpleKeys (original) {\n",
       "  return Object.keys(original).reduce(function (obj, key) {\n",
       "    if (typeof original[key] !== 'object')\n",
       "        obj[key] = original[key]\n",
       "    return obj;\n",
       "  }, {});\n",
       "}\n",
       "\n",
       "mpl.figure.prototype.mouse_event = function(event, name) {\n",
       "    var canvas_pos = mpl.findpos(event)\n",
       "\n",
       "    if (name === 'button_press')\n",
       "    {\n",
       "        this.canvas.focus();\n",
       "        this.canvas_div.focus();\n",
       "    }\n",
       "\n",
       "    var x = canvas_pos.x * mpl.ratio;\n",
       "    var y = canvas_pos.y * mpl.ratio;\n",
       "\n",
       "    this.send_message(name, {x: x, y: y, button: event.button,\n",
       "                             step: event.step,\n",
       "                             guiEvent: simpleKeys(event)});\n",
       "\n",
       "    /* This prevents the web browser from automatically changing to\n",
       "     * the text insertion cursor when the button is pressed.  We want\n",
       "     * to control all of the cursor setting manually through the\n",
       "     * 'cursor' event from matplotlib */\n",
       "    event.preventDefault();\n",
       "    return false;\n",
       "}\n",
       "\n",
       "mpl.figure.prototype._key_event_extra = function(event, name) {\n",
       "    // Handle any extra behaviour associated with a key event\n",
       "}\n",
       "\n",
       "mpl.figure.prototype.key_event = function(event, name) {\n",
       "\n",
       "    // Prevent repeat events\n",
       "    if (name == 'key_press')\n",
       "    {\n",
       "        if (event.which === this._key)\n",
       "            return;\n",
       "        else\n",
       "            this._key = event.which;\n",
       "    }\n",
       "    if (name == 'key_release')\n",
       "        this._key = null;\n",
       "\n",
       "    var value = '';\n",
       "    if (event.ctrlKey && event.which != 17)\n",
       "        value += \"ctrl+\";\n",
       "    if (event.altKey && event.which != 18)\n",
       "        value += \"alt+\";\n",
       "    if (event.shiftKey && event.which != 16)\n",
       "        value += \"shift+\";\n",
       "\n",
       "    value += 'k';\n",
       "    value += event.which.toString();\n",
       "\n",
       "    this._key_event_extra(event, name);\n",
       "\n",
       "    this.send_message(name, {key: value,\n",
       "                             guiEvent: simpleKeys(event)});\n",
       "    return false;\n",
       "}\n",
       "\n",
       "mpl.figure.prototype.toolbar_button_onclick = function(name) {\n",
       "    if (name == 'download') {\n",
       "        this.handle_save(this, null);\n",
       "    } else {\n",
       "        this.send_message(\"toolbar_button\", {name: name});\n",
       "    }\n",
       "};\n",
       "\n",
       "mpl.figure.prototype.toolbar_button_onmouseover = function(tooltip) {\n",
       "    this.message.textContent = tooltip;\n",
       "};\n",
       "mpl.toolbar_items = [[\"Home\", \"Reset original view\", \"fa fa-home icon-home\", \"home\"], [\"Back\", \"Back to  previous view\", \"fa fa-arrow-left icon-arrow-left\", \"back\"], [\"Forward\", \"Forward to next view\", \"fa fa-arrow-right icon-arrow-right\", \"forward\"], [\"\", \"\", \"\", \"\"], [\"Pan\", \"Pan axes with left mouse, zoom with right\", \"fa fa-arrows icon-move\", \"pan\"], [\"Zoom\", \"Zoom to rectangle\", \"fa fa-square-o icon-check-empty\", \"zoom\"], [\"\", \"\", \"\", \"\"], [\"Download\", \"Download plot\", \"fa fa-floppy-o icon-save\", \"download\"]];\n",
       "\n",
       "mpl.extensions = [\"eps\", \"jpeg\", \"pdf\", \"png\", \"ps\", \"raw\", \"svg\", \"tif\"];\n",
       "\n",
       "mpl.default_extension = \"png\";var comm_websocket_adapter = function(comm) {\n",
       "    // Create a \"websocket\"-like object which calls the given IPython comm\n",
       "    // object with the appropriate methods. Currently this is a non binary\n",
       "    // socket, so there is still some room for performance tuning.\n",
       "    var ws = {};\n",
       "\n",
       "    ws.close = function() {\n",
       "        comm.close()\n",
       "    };\n",
       "    ws.send = function(m) {\n",
       "        //console.log('sending', m);\n",
       "        comm.send(m);\n",
       "    };\n",
       "    // Register the callback with on_msg.\n",
       "    comm.on_msg(function(msg) {\n",
       "        //console.log('receiving', msg['content']['data'], msg);\n",
       "        // Pass the mpl event to the overriden (by mpl) onmessage function.\n",
       "        ws.onmessage(msg['content']['data'])\n",
       "    });\n",
       "    return ws;\n",
       "}\n",
       "\n",
       "mpl.mpl_figure_comm = function(comm, msg) {\n",
       "    // This is the function which gets called when the mpl process\n",
       "    // starts-up an IPython Comm through the \"matplotlib\" channel.\n",
       "\n",
       "    var id = msg.content.data.id;\n",
       "    // Get hold of the div created by the display call when the Comm\n",
       "    // socket was opened in Python.\n",
       "    var element = $(\"#\" + id);\n",
       "    var ws_proxy = comm_websocket_adapter(comm)\n",
       "\n",
       "    function ondownload(figure, format) {\n",
       "        window.open(figure.imageObj.src);\n",
       "    }\n",
       "\n",
       "    var fig = new mpl.figure(id, ws_proxy,\n",
       "                           ondownload,\n",
       "                           element.get(0));\n",
       "\n",
       "    // Call onopen now - mpl needs it, as it is assuming we've passed it a real\n",
       "    // web socket which is closed, not our websocket->open comm proxy.\n",
       "    ws_proxy.onopen();\n",
       "\n",
       "    fig.parent_element = element.get(0);\n",
       "    fig.cell_info = mpl.find_output_cell(\"<div id='\" + id + \"'></div>\");\n",
       "    if (!fig.cell_info) {\n",
       "        console.error(\"Failed to find cell for figure\", id, fig);\n",
       "        return;\n",
       "    }\n",
       "\n",
       "    var output_index = fig.cell_info[2]\n",
       "    var cell = fig.cell_info[0];\n",
       "\n",
       "};\n",
       "\n",
       "mpl.figure.prototype.handle_close = function(fig, msg) {\n",
       "    var width = fig.canvas.width/mpl.ratio\n",
       "    fig.root.unbind('remove')\n",
       "\n",
       "    // Update the output cell to use the data from the current canvas.\n",
       "    fig.push_to_output();\n",
       "    var dataURL = fig.canvas.toDataURL();\n",
       "    // Re-enable the keyboard manager in IPython - without this line, in FF,\n",
       "    // the notebook keyboard shortcuts fail.\n",
       "    IPython.keyboard_manager.enable()\n",
       "    $(fig.parent_element).html('<img src=\"' + dataURL + '\" width=\"' + width + '\">');\n",
       "    fig.close_ws(fig, msg);\n",
       "}\n",
       "\n",
       "mpl.figure.prototype.close_ws = function(fig, msg){\n",
       "    fig.send_message('closing', msg);\n",
       "    // fig.ws.close()\n",
       "}\n",
       "\n",
       "mpl.figure.prototype.push_to_output = function(remove_interactive) {\n",
       "    // Turn the data on the canvas into data in the output cell.\n",
       "    var width = this.canvas.width/mpl.ratio\n",
       "    var dataURL = this.canvas.toDataURL();\n",
       "    this.cell_info[1]['text/html'] = '<img src=\"' + dataURL + '\" width=\"' + width + '\">';\n",
       "}\n",
       "\n",
       "mpl.figure.prototype.updated_canvas_event = function() {\n",
       "    // Tell IPython that the notebook contents must change.\n",
       "    IPython.notebook.set_dirty(true);\n",
       "    this.send_message(\"ack\", {});\n",
       "    var fig = this;\n",
       "    // Wait a second, then push the new image to the DOM so\n",
       "    // that it is saved nicely (might be nice to debounce this).\n",
       "    setTimeout(function () { fig.push_to_output() }, 1000);\n",
       "}\n",
       "\n",
       "mpl.figure.prototype._init_toolbar = function() {\n",
       "    var fig = this;\n",
       "\n",
       "    var nav_element = $('<div/>')\n",
       "    nav_element.attr('style', 'width: 100%');\n",
       "    this.root.append(nav_element);\n",
       "\n",
       "    // Define a callback function for later on.\n",
       "    function toolbar_event(event) {\n",
       "        return fig.toolbar_button_onclick(event['data']);\n",
       "    }\n",
       "    function toolbar_mouse_event(event) {\n",
       "        return fig.toolbar_button_onmouseover(event['data']);\n",
       "    }\n",
       "\n",
       "    for(var toolbar_ind in mpl.toolbar_items){\n",
       "        var name = mpl.toolbar_items[toolbar_ind][0];\n",
       "        var tooltip = mpl.toolbar_items[toolbar_ind][1];\n",
       "        var image = mpl.toolbar_items[toolbar_ind][2];\n",
       "        var method_name = mpl.toolbar_items[toolbar_ind][3];\n",
       "\n",
       "        if (!name) { continue; };\n",
       "\n",
       "        var button = $('<button class=\"btn btn-default\" href=\"#\" title=\"' + name + '\"><i class=\"fa ' + image + ' fa-lg\"></i></button>');\n",
       "        button.click(method_name, toolbar_event);\n",
       "        button.mouseover(tooltip, toolbar_mouse_event);\n",
       "        nav_element.append(button);\n",
       "    }\n",
       "\n",
       "    // Add the status bar.\n",
       "    var status_bar = $('<span class=\"mpl-message\" style=\"text-align:right; float: right;\"/>');\n",
       "    nav_element.append(status_bar);\n",
       "    this.message = status_bar[0];\n",
       "\n",
       "    // Add the close button to the window.\n",
       "    var buttongrp = $('<div class=\"btn-group inline pull-right\"></div>');\n",
       "    var button = $('<button class=\"btn btn-mini btn-primary\" href=\"#\" title=\"Stop Interaction\"><i class=\"fa fa-power-off icon-remove icon-large\"></i></button>');\n",
       "    button.click(function (evt) { fig.handle_close(fig, {}); } );\n",
       "    button.mouseover('Stop Interaction', toolbar_mouse_event);\n",
       "    buttongrp.append(button);\n",
       "    var titlebar = this.root.find($('.ui-dialog-titlebar'));\n",
       "    titlebar.prepend(buttongrp);\n",
       "}\n",
       "\n",
       "mpl.figure.prototype._root_extra_style = function(el){\n",
       "    var fig = this\n",
       "    el.on(\"remove\", function(){\n",
       "\tfig.close_ws(fig, {});\n",
       "    });\n",
       "}\n",
       "\n",
       "mpl.figure.prototype._canvas_extra_style = function(el){\n",
       "    // this is important to make the div 'focusable\n",
       "    el.attr('tabindex', 0)\n",
       "    // reach out to IPython and tell the keyboard manager to turn it's self\n",
       "    // off when our div gets focus\n",
       "\n",
       "    // location in version 3\n",
       "    if (IPython.notebook.keyboard_manager) {\n",
       "        IPython.notebook.keyboard_manager.register_events(el);\n",
       "    }\n",
       "    else {\n",
       "        // location in version 2\n",
       "        IPython.keyboard_manager.register_events(el);\n",
       "    }\n",
       "\n",
       "}\n",
       "\n",
       "mpl.figure.prototype._key_event_extra = function(event, name) {\n",
       "    var manager = IPython.notebook.keyboard_manager;\n",
       "    if (!manager)\n",
       "        manager = IPython.keyboard_manager;\n",
       "\n",
       "    // Check for shift+enter\n",
       "    if (event.shiftKey && event.which == 13) {\n",
       "        this.canvas_div.blur();\n",
       "        // select the cell after this one\n",
       "        var index = IPython.notebook.find_cell_index(this.cell_info[0]);\n",
       "        IPython.notebook.select(index + 1);\n",
       "    }\n",
       "}\n",
       "\n",
       "mpl.figure.prototype.handle_save = function(fig, msg) {\n",
       "    fig.ondownload(fig, null);\n",
       "}\n",
       "\n",
       "\n",
       "mpl.find_output_cell = function(html_output) {\n",
       "    // Return the cell and output element which can be found *uniquely* in the notebook.\n",
       "    // Note - this is a bit hacky, but it is done because the \"notebook_saving.Notebook\"\n",
       "    // IPython event is triggered only after the cells have been serialised, which for\n",
       "    // our purposes (turning an active figure into a static one), is too late.\n",
       "    var cells = IPython.notebook.get_cells();\n",
       "    var ncells = cells.length;\n",
       "    for (var i=0; i<ncells; i++) {\n",
       "        var cell = cells[i];\n",
       "        if (cell.cell_type === 'code'){\n",
       "            for (var j=0; j<cell.output_area.outputs.length; j++) {\n",
       "                var data = cell.output_area.outputs[j];\n",
       "                if (data.data) {\n",
       "                    // IPython >= 3 moved mimebundle to data attribute of output\n",
       "                    data = data.data;\n",
       "                }\n",
       "                if (data['text/html'] == html_output) {\n",
       "                    return [cell, data, j];\n",
       "                }\n",
       "            }\n",
       "        }\n",
       "    }\n",
       "}\n",
       "\n",
       "// Register the function which deals with the matplotlib target/channel.\n",
       "// The kernel may be null if the page has been refreshed.\n",
       "if (IPython.notebook.kernel != null) {\n",
       "    IPython.notebook.kernel.comm_manager.register_target('matplotlib', mpl.mpl_figure_comm);\n",
       "}\n"
      ],
      "text/plain": [
       "<IPython.core.display.Javascript object>"
      ]
     },
     "metadata": {},
     "output_type": "display_data"
    },
    {
     "data": {
      "text/html": [
       "<div id='776900c5-ee78-4089-a46c-1ff6bd45e64c'></div>"
      ],
      "text/plain": [
       "<IPython.core.display.HTML object>"
      ]
     },
     "metadata": {},
     "output_type": "display_data"
    },
    {
     "name": "stderr",
     "output_type": "stream",
     "text": [
      "C:\\Miniconda3\\lib\\site-packages\\ipykernel\\__main__.py:12: VisibleDeprecationWarning: using a non-integer number instead of an integer will result in an error in the future\n",
      "C:\\Miniconda3\\lib\\site-packages\\ipykernel\\__main__.py:13: VisibleDeprecationWarning: using a non-integer number instead of an integer will result in an error in the future\n"
     ]
    }
   ],
   "source": [
    "stream=Data.fromfile('bytestream',stream_dt,'teslib','measurement_subsystem_TB',tool='vivado')\n",
    "minmax=Data.fromfile('minmax',minmax_dt,'teslib','measurement_subsystem_TB',tool='vivado')\n",
    "bs=PacketStream(stream)\n",
    "es=bs.eventstream\n",
    "%matplotlib notebook\n",
    "for e in es:\n",
    "    if e[1]==Event.peak or e[1]==Event.pulse:\n",
    "        plot_event(e,False)"
   ]
  },
  {
   "cell_type": "code",
   "execution_count": 14,
   "metadata": {
    "collapsed": false
   },
   "outputs": [
    {
     "data": {
      "text/plain": [
       "[(0, <Event.tick: 4>, (65536, 3, 0, 0, 0, 0, 0, 0, 0, 0, 0, 0)),\n",
       " (10943, <Event.peak: 0>, (7842, -170, 2193, 10943)),\n",
       " (10948, <Event.peak: 0>, (7706, -170, 272, 5)),\n",
       " (43440, <Event.peak: 0>, (6733, -1047, 2193, 32492)),\n",
       " (43451, <Event.peak: 0>, (5895, -1047, 272, 11)),\n",
       " (45944, <Event.peak: 0>, (7826, -862, 2193, 2493)),\n",
       " (45950, <Event.peak: 0>, (7136, -862, 272, 6)),\n",
       " (60943, <Event.peak: 0>, (6793, 591, 2193, 14993)),\n",
       " (60946, <Event.peak: 0>, (7266, 591, 272, 3)),\n",
       " (65536, <Event.tick: 4>, (65536, 2, 4590, 65536, 0, 0, 0, 0, 0, 0, 0, 0))]"
      ]
     },
     "execution_count": 14,
     "metadata": {},
     "output_type": "execute_result"
    }
   ],
   "source": [
    "bs.eventstream"
   ]
  },
  {
   "cell_type": "code",
   "execution_count": 8,
   "metadata": {
    "collapsed": false,
    "run_control": {
     "frozen": false,
     "read_only": false
    },
    "scrolled": true
   },
   "outputs": [
    {
     "data": {
      "text/plain": [
       "[Distribution: channel:0 value:slope_signal, trigger:clock, qualifier:all,\n",
       " Distribution: channel:0 value:slope_signal, trigger:clock, qualifier:all,\n",
       " Distribution: channel:0 value:slope_signal, trigger:clock, qualifier:all,\n",
       " Distribution: channel:0 value:slope_signal, trigger:clock, qualifier:all]"
      ]
     },
     "execution_count": 8,
     "metadata": {},
     "output_type": "execute_result"
    }
   ],
   "source": [
    "traces=Data.fromfile('traces',trace_dt,'teslib','measurement_subsystem_TB',tool='vivado')\n",
    "stream=Data.fromfile('bytestream',stream_dt,'teslib','measurement_subsystem_TB',tool='vivado')\n",
    "bs=PacketStream(stream)\n",
    "dists=bs.distributions\n",
    "#bs.packets\n",
    "dists"
   ]
  },
  {
   "cell_type": "code",
   "execution_count": 17,
   "metadata": {
    "collapsed": false
   },
   "outputs": [
    {
     "data": {
      "text/plain": [
       "145"
      ]
     },
     "execution_count": 17,
     "metadata": {},
     "output_type": "execute_result"
    }
   ],
   "source": [
    "d=dists[0]\n",
    "d.counts[1]"
   ]
  },
  {
   "cell_type": "code",
   "execution_count": 22,
   "metadata": {
    "collapsed": false
   },
   "outputs": [
    {
     "data": {
      "text/plain": [
       "655360"
      ]
     },
     "execution_count": 22,
     "metadata": {},
     "output_type": "execute_result"
    }
   ],
   "source": [
    "d.total+d.underflow+d.overflow"
   ]
  },
  {
   "cell_type": "code",
   "execution_count": 24,
   "metadata": {
    "collapsed": false
   },
   "outputs": [
    {
     "data": {
      "application/javascript": [
       "/* Put everything inside the global mpl namespace */\n",
       "window.mpl = {};\n",
       "\n",
       "\n",
       "mpl.get_websocket_type = function() {\n",
       "    if (typeof(WebSocket) !== 'undefined') {\n",
       "        return WebSocket;\n",
       "    } else if (typeof(MozWebSocket) !== 'undefined') {\n",
       "        return MozWebSocket;\n",
       "    } else {\n",
       "        alert('Your browser does not have WebSocket support.' +\n",
       "              'Please try Chrome, Safari or Firefox ≥ 6. ' +\n",
       "              'Firefox 4 and 5 are also supported but you ' +\n",
       "              'have to enable WebSockets in about:config.');\n",
       "    };\n",
       "}\n",
       "\n",
       "mpl.figure = function(figure_id, websocket, ondownload, parent_element) {\n",
       "    this.id = figure_id;\n",
       "\n",
       "    this.ws = websocket;\n",
       "\n",
       "    this.supports_binary = (this.ws.binaryType != undefined);\n",
       "\n",
       "    if (!this.supports_binary) {\n",
       "        var warnings = document.getElementById(\"mpl-warnings\");\n",
       "        if (warnings) {\n",
       "            warnings.style.display = 'block';\n",
       "            warnings.textContent = (\n",
       "                \"This browser does not support binary websocket messages. \" +\n",
       "                    \"Performance may be slow.\");\n",
       "        }\n",
       "    }\n",
       "\n",
       "    this.imageObj = new Image();\n",
       "\n",
       "    this.context = undefined;\n",
       "    this.message = undefined;\n",
       "    this.canvas = undefined;\n",
       "    this.rubberband_canvas = undefined;\n",
       "    this.rubberband_context = undefined;\n",
       "    this.format_dropdown = undefined;\n",
       "\n",
       "    this.image_mode = 'full';\n",
       "\n",
       "    this.root = $('<div/>');\n",
       "    this._root_extra_style(this.root)\n",
       "    this.root.attr('style', 'display: inline-block');\n",
       "\n",
       "    $(parent_element).append(this.root);\n",
       "\n",
       "    this._init_header(this);\n",
       "    this._init_canvas(this);\n",
       "    this._init_toolbar(this);\n",
       "\n",
       "    var fig = this;\n",
       "\n",
       "    this.waiting = false;\n",
       "\n",
       "    this.ws.onopen =  function () {\n",
       "            fig.send_message(\"supports_binary\", {value: fig.supports_binary});\n",
       "            fig.send_message(\"send_image_mode\", {});\n",
       "            if (mpl.ratio != 1) {\n",
       "                fig.send_message(\"set_dpi_ratio\", {'dpi_ratio': mpl.ratio});\n",
       "            }\n",
       "            fig.send_message(\"refresh\", {});\n",
       "        }\n",
       "\n",
       "    this.imageObj.onload = function() {\n",
       "            if (fig.image_mode == 'full') {\n",
       "                // Full images could contain transparency (where diff images\n",
       "                // almost always do), so we need to clear the canvas so that\n",
       "                // there is no ghosting.\n",
       "                fig.context.clearRect(0, 0, fig.canvas.width, fig.canvas.height);\n",
       "            }\n",
       "            fig.context.drawImage(fig.imageObj, 0, 0);\n",
       "        };\n",
       "\n",
       "    this.imageObj.onunload = function() {\n",
       "        this.ws.close();\n",
       "    }\n",
       "\n",
       "    this.ws.onmessage = this._make_on_message_function(this);\n",
       "\n",
       "    this.ondownload = ondownload;\n",
       "}\n",
       "\n",
       "mpl.figure.prototype._init_header = function() {\n",
       "    var titlebar = $(\n",
       "        '<div class=\"ui-dialog-titlebar ui-widget-header ui-corner-all ' +\n",
       "        'ui-helper-clearfix\"/>');\n",
       "    var titletext = $(\n",
       "        '<div class=\"ui-dialog-title\" style=\"width: 100%; ' +\n",
       "        'text-align: center; padding: 3px;\"/>');\n",
       "    titlebar.append(titletext)\n",
       "    this.root.append(titlebar);\n",
       "    this.header = titletext[0];\n",
       "}\n",
       "\n",
       "\n",
       "\n",
       "mpl.figure.prototype._canvas_extra_style = function(canvas_div) {\n",
       "\n",
       "}\n",
       "\n",
       "\n",
       "mpl.figure.prototype._root_extra_style = function(canvas_div) {\n",
       "\n",
       "}\n",
       "\n",
       "mpl.figure.prototype._init_canvas = function() {\n",
       "    var fig = this;\n",
       "\n",
       "    var canvas_div = $('<div/>');\n",
       "\n",
       "    canvas_div.attr('style', 'position: relative; clear: both; outline: 0');\n",
       "\n",
       "    function canvas_keyboard_event(event) {\n",
       "        return fig.key_event(event, event['data']);\n",
       "    }\n",
       "\n",
       "    canvas_div.keydown('key_press', canvas_keyboard_event);\n",
       "    canvas_div.keyup('key_release', canvas_keyboard_event);\n",
       "    this.canvas_div = canvas_div\n",
       "    this._canvas_extra_style(canvas_div)\n",
       "    this.root.append(canvas_div);\n",
       "\n",
       "    var canvas = $('<canvas/>');\n",
       "    canvas.addClass('mpl-canvas');\n",
       "    canvas.attr('style', \"left: 0; top: 0; z-index: 0; outline: 0\")\n",
       "\n",
       "    this.canvas = canvas[0];\n",
       "    this.context = canvas[0].getContext(\"2d\");\n",
       "\n",
       "    var backingStore = this.context.backingStorePixelRatio ||\n",
       "\tthis.context.webkitBackingStorePixelRatio ||\n",
       "\tthis.context.mozBackingStorePixelRatio ||\n",
       "\tthis.context.msBackingStorePixelRatio ||\n",
       "\tthis.context.oBackingStorePixelRatio ||\n",
       "\tthis.context.backingStorePixelRatio || 1;\n",
       "\n",
       "    mpl.ratio = (window.devicePixelRatio || 1) / backingStore;\n",
       "\n",
       "    var rubberband = $('<canvas/>');\n",
       "    rubberband.attr('style', \"position: absolute; left: 0; top: 0; z-index: 1;\")\n",
       "\n",
       "    var pass_mouse_events = true;\n",
       "\n",
       "    canvas_div.resizable({\n",
       "        start: function(event, ui) {\n",
       "            pass_mouse_events = false;\n",
       "        },\n",
       "        resize: function(event, ui) {\n",
       "            fig.request_resize(ui.size.width, ui.size.height);\n",
       "        },\n",
       "        stop: function(event, ui) {\n",
       "            pass_mouse_events = true;\n",
       "            fig.request_resize(ui.size.width, ui.size.height);\n",
       "        },\n",
       "    });\n",
       "\n",
       "    function mouse_event_fn(event) {\n",
       "        if (pass_mouse_events)\n",
       "            return fig.mouse_event(event, event['data']);\n",
       "    }\n",
       "\n",
       "    rubberband.mousedown('button_press', mouse_event_fn);\n",
       "    rubberband.mouseup('button_release', mouse_event_fn);\n",
       "    // Throttle sequential mouse events to 1 every 20ms.\n",
       "    rubberband.mousemove('motion_notify', mouse_event_fn);\n",
       "\n",
       "    rubberband.mouseenter('figure_enter', mouse_event_fn);\n",
       "    rubberband.mouseleave('figure_leave', mouse_event_fn);\n",
       "\n",
       "    canvas_div.on(\"wheel\", function (event) {\n",
       "        event = event.originalEvent;\n",
       "        event['data'] = 'scroll'\n",
       "        if (event.deltaY < 0) {\n",
       "            event.step = 1;\n",
       "        } else {\n",
       "            event.step = -1;\n",
       "        }\n",
       "        mouse_event_fn(event);\n",
       "    });\n",
       "\n",
       "    canvas_div.append(canvas);\n",
       "    canvas_div.append(rubberband);\n",
       "\n",
       "    this.rubberband = rubberband;\n",
       "    this.rubberband_canvas = rubberband[0];\n",
       "    this.rubberband_context = rubberband[0].getContext(\"2d\");\n",
       "    this.rubberband_context.strokeStyle = \"#000000\";\n",
       "\n",
       "    this._resize_canvas = function(width, height) {\n",
       "        // Keep the size of the canvas, canvas container, and rubber band\n",
       "        // canvas in synch.\n",
       "        canvas_div.css('width', width)\n",
       "        canvas_div.css('height', height)\n",
       "\n",
       "        canvas.attr('width', width * mpl.ratio);\n",
       "        canvas.attr('height', height * mpl.ratio);\n",
       "        canvas.attr('style', 'width: ' + width + 'px; height: ' + height + 'px;');\n",
       "\n",
       "        rubberband.attr('width', width);\n",
       "        rubberband.attr('height', height);\n",
       "    }\n",
       "\n",
       "    // Set the figure to an initial 600x600px, this will subsequently be updated\n",
       "    // upon first draw.\n",
       "    this._resize_canvas(600, 600);\n",
       "\n",
       "    // Disable right mouse context menu.\n",
       "    $(this.rubberband_canvas).bind(\"contextmenu\",function(e){\n",
       "        return false;\n",
       "    });\n",
       "\n",
       "    function set_focus () {\n",
       "        canvas.focus();\n",
       "        canvas_div.focus();\n",
       "    }\n",
       "\n",
       "    window.setTimeout(set_focus, 100);\n",
       "}\n",
       "\n",
       "mpl.figure.prototype._init_toolbar = function() {\n",
       "    var fig = this;\n",
       "\n",
       "    var nav_element = $('<div/>')\n",
       "    nav_element.attr('style', 'width: 100%');\n",
       "    this.root.append(nav_element);\n",
       "\n",
       "    // Define a callback function for later on.\n",
       "    function toolbar_event(event) {\n",
       "        return fig.toolbar_button_onclick(event['data']);\n",
       "    }\n",
       "    function toolbar_mouse_event(event) {\n",
       "        return fig.toolbar_button_onmouseover(event['data']);\n",
       "    }\n",
       "\n",
       "    for(var toolbar_ind in mpl.toolbar_items) {\n",
       "        var name = mpl.toolbar_items[toolbar_ind][0];\n",
       "        var tooltip = mpl.toolbar_items[toolbar_ind][1];\n",
       "        var image = mpl.toolbar_items[toolbar_ind][2];\n",
       "        var method_name = mpl.toolbar_items[toolbar_ind][3];\n",
       "\n",
       "        if (!name) {\n",
       "            // put a spacer in here.\n",
       "            continue;\n",
       "        }\n",
       "        var button = $('<button/>');\n",
       "        button.addClass('ui-button ui-widget ui-state-default ui-corner-all ' +\n",
       "                        'ui-button-icon-only');\n",
       "        button.attr('role', 'button');\n",
       "        button.attr('aria-disabled', 'false');\n",
       "        button.click(method_name, toolbar_event);\n",
       "        button.mouseover(tooltip, toolbar_mouse_event);\n",
       "\n",
       "        var icon_img = $('<span/>');\n",
       "        icon_img.addClass('ui-button-icon-primary ui-icon');\n",
       "        icon_img.addClass(image);\n",
       "        icon_img.addClass('ui-corner-all');\n",
       "\n",
       "        var tooltip_span = $('<span/>');\n",
       "        tooltip_span.addClass('ui-button-text');\n",
       "        tooltip_span.html(tooltip);\n",
       "\n",
       "        button.append(icon_img);\n",
       "        button.append(tooltip_span);\n",
       "\n",
       "        nav_element.append(button);\n",
       "    }\n",
       "\n",
       "    var fmt_picker_span = $('<span/>');\n",
       "\n",
       "    var fmt_picker = $('<select/>');\n",
       "    fmt_picker.addClass('mpl-toolbar-option ui-widget ui-widget-content');\n",
       "    fmt_picker_span.append(fmt_picker);\n",
       "    nav_element.append(fmt_picker_span);\n",
       "    this.format_dropdown = fmt_picker[0];\n",
       "\n",
       "    for (var ind in mpl.extensions) {\n",
       "        var fmt = mpl.extensions[ind];\n",
       "        var option = $(\n",
       "            '<option/>', {selected: fmt === mpl.default_extension}).html(fmt);\n",
       "        fmt_picker.append(option)\n",
       "    }\n",
       "\n",
       "    // Add hover states to the ui-buttons\n",
       "    $( \".ui-button\" ).hover(\n",
       "        function() { $(this).addClass(\"ui-state-hover\");},\n",
       "        function() { $(this).removeClass(\"ui-state-hover\");}\n",
       "    );\n",
       "\n",
       "    var status_bar = $('<span class=\"mpl-message\"/>');\n",
       "    nav_element.append(status_bar);\n",
       "    this.message = status_bar[0];\n",
       "}\n",
       "\n",
       "mpl.figure.prototype.request_resize = function(x_pixels, y_pixels) {\n",
       "    // Request matplotlib to resize the figure. Matplotlib will then trigger a resize in the client,\n",
       "    // which will in turn request a refresh of the image.\n",
       "    this.send_message('resize', {'width': x_pixels, 'height': y_pixels});\n",
       "}\n",
       "\n",
       "mpl.figure.prototype.send_message = function(type, properties) {\n",
       "    properties['type'] = type;\n",
       "    properties['figure_id'] = this.id;\n",
       "    this.ws.send(JSON.stringify(properties));\n",
       "}\n",
       "\n",
       "mpl.figure.prototype.send_draw_message = function() {\n",
       "    if (!this.waiting) {\n",
       "        this.waiting = true;\n",
       "        this.ws.send(JSON.stringify({type: \"draw\", figure_id: this.id}));\n",
       "    }\n",
       "}\n",
       "\n",
       "\n",
       "mpl.figure.prototype.handle_save = function(fig, msg) {\n",
       "    var format_dropdown = fig.format_dropdown;\n",
       "    var format = format_dropdown.options[format_dropdown.selectedIndex].value;\n",
       "    fig.ondownload(fig, format);\n",
       "}\n",
       "\n",
       "\n",
       "mpl.figure.prototype.handle_resize = function(fig, msg) {\n",
       "    var size = msg['size'];\n",
       "    if (size[0] != fig.canvas.width || size[1] != fig.canvas.height) {\n",
       "        fig._resize_canvas(size[0], size[1]);\n",
       "        fig.send_message(\"refresh\", {});\n",
       "    };\n",
       "}\n",
       "\n",
       "mpl.figure.prototype.handle_rubberband = function(fig, msg) {\n",
       "    var x0 = msg['x0'] / mpl.ratio;\n",
       "    var y0 = (fig.canvas.height - msg['y0']) / mpl.ratio;\n",
       "    var x1 = msg['x1'] / mpl.ratio;\n",
       "    var y1 = (fig.canvas.height - msg['y1']) / mpl.ratio;\n",
       "    x0 = Math.floor(x0) + 0.5;\n",
       "    y0 = Math.floor(y0) + 0.5;\n",
       "    x1 = Math.floor(x1) + 0.5;\n",
       "    y1 = Math.floor(y1) + 0.5;\n",
       "    var min_x = Math.min(x0, x1);\n",
       "    var min_y = Math.min(y0, y1);\n",
       "    var width = Math.abs(x1 - x0);\n",
       "    var height = Math.abs(y1 - y0);\n",
       "\n",
       "    fig.rubberband_context.clearRect(\n",
       "        0, 0, fig.canvas.width, fig.canvas.height);\n",
       "\n",
       "    fig.rubberband_context.strokeRect(min_x, min_y, width, height);\n",
       "}\n",
       "\n",
       "mpl.figure.prototype.handle_figure_label = function(fig, msg) {\n",
       "    // Updates the figure title.\n",
       "    fig.header.textContent = msg['label'];\n",
       "}\n",
       "\n",
       "mpl.figure.prototype.handle_cursor = function(fig, msg) {\n",
       "    var cursor = msg['cursor'];\n",
       "    switch(cursor)\n",
       "    {\n",
       "    case 0:\n",
       "        cursor = 'pointer';\n",
       "        break;\n",
       "    case 1:\n",
       "        cursor = 'default';\n",
       "        break;\n",
       "    case 2:\n",
       "        cursor = 'crosshair';\n",
       "        break;\n",
       "    case 3:\n",
       "        cursor = 'move';\n",
       "        break;\n",
       "    }\n",
       "    fig.rubberband_canvas.style.cursor = cursor;\n",
       "}\n",
       "\n",
       "mpl.figure.prototype.handle_message = function(fig, msg) {\n",
       "    fig.message.textContent = msg['message'];\n",
       "}\n",
       "\n",
       "mpl.figure.prototype.handle_draw = function(fig, msg) {\n",
       "    // Request the server to send over a new figure.\n",
       "    fig.send_draw_message();\n",
       "}\n",
       "\n",
       "mpl.figure.prototype.handle_image_mode = function(fig, msg) {\n",
       "    fig.image_mode = msg['mode'];\n",
       "}\n",
       "\n",
       "mpl.figure.prototype.updated_canvas_event = function() {\n",
       "    // Called whenever the canvas gets updated.\n",
       "    this.send_message(\"ack\", {});\n",
       "}\n",
       "\n",
       "// A function to construct a web socket function for onmessage handling.\n",
       "// Called in the figure constructor.\n",
       "mpl.figure.prototype._make_on_message_function = function(fig) {\n",
       "    return function socket_on_message(evt) {\n",
       "        if (evt.data instanceof Blob) {\n",
       "            /* FIXME: We get \"Resource interpreted as Image but\n",
       "             * transferred with MIME type text/plain:\" errors on\n",
       "             * Chrome.  But how to set the MIME type?  It doesn't seem\n",
       "             * to be part of the websocket stream */\n",
       "            evt.data.type = \"image/png\";\n",
       "\n",
       "            /* Free the memory for the previous frames */\n",
       "            if (fig.imageObj.src) {\n",
       "                (window.URL || window.webkitURL).revokeObjectURL(\n",
       "                    fig.imageObj.src);\n",
       "            }\n",
       "\n",
       "            fig.imageObj.src = (window.URL || window.webkitURL).createObjectURL(\n",
       "                evt.data);\n",
       "            fig.updated_canvas_event();\n",
       "            fig.waiting = false;\n",
       "            return;\n",
       "        }\n",
       "        else if (typeof evt.data === 'string' && evt.data.slice(0, 21) == \"data:image/png;base64\") {\n",
       "            fig.imageObj.src = evt.data;\n",
       "            fig.updated_canvas_event();\n",
       "            fig.waiting = false;\n",
       "            return;\n",
       "        }\n",
       "\n",
       "        var msg = JSON.parse(evt.data);\n",
       "        var msg_type = msg['type'];\n",
       "\n",
       "        // Call the  \"handle_{type}\" callback, which takes\n",
       "        // the figure and JSON message as its only arguments.\n",
       "        try {\n",
       "            var callback = fig[\"handle_\" + msg_type];\n",
       "        } catch (e) {\n",
       "            console.log(\"No handler for the '\" + msg_type + \"' message type: \", msg);\n",
       "            return;\n",
       "        }\n",
       "\n",
       "        if (callback) {\n",
       "            try {\n",
       "                // console.log(\"Handling '\" + msg_type + \"' message: \", msg);\n",
       "                callback(fig, msg);\n",
       "            } catch (e) {\n",
       "                console.log(\"Exception inside the 'handler_\" + msg_type + \"' callback:\", e, e.stack, msg);\n",
       "            }\n",
       "        }\n",
       "    };\n",
       "}\n",
       "\n",
       "// from http://stackoverflow.com/questions/1114465/getting-mouse-location-in-canvas\n",
       "mpl.findpos = function(e) {\n",
       "    //this section is from http://www.quirksmode.org/js/events_properties.html\n",
       "    var targ;\n",
       "    if (!e)\n",
       "        e = window.event;\n",
       "    if (e.target)\n",
       "        targ = e.target;\n",
       "    else if (e.srcElement)\n",
       "        targ = e.srcElement;\n",
       "    if (targ.nodeType == 3) // defeat Safari bug\n",
       "        targ = targ.parentNode;\n",
       "\n",
       "    // jQuery normalizes the pageX and pageY\n",
       "    // pageX,Y are the mouse positions relative to the document\n",
       "    // offset() returns the position of the element relative to the document\n",
       "    var x = e.pageX - $(targ).offset().left;\n",
       "    var y = e.pageY - $(targ).offset().top;\n",
       "\n",
       "    return {\"x\": x, \"y\": y};\n",
       "};\n",
       "\n",
       "/*\n",
       " * return a copy of an object with only non-object keys\n",
       " * we need this to avoid circular references\n",
       " * http://stackoverflow.com/a/24161582/3208463\n",
       " */\n",
       "function simpleKeys (original) {\n",
       "  return Object.keys(original).reduce(function (obj, key) {\n",
       "    if (typeof original[key] !== 'object')\n",
       "        obj[key] = original[key]\n",
       "    return obj;\n",
       "  }, {});\n",
       "}\n",
       "\n",
       "mpl.figure.prototype.mouse_event = function(event, name) {\n",
       "    var canvas_pos = mpl.findpos(event)\n",
       "\n",
       "    if (name === 'button_press')\n",
       "    {\n",
       "        this.canvas.focus();\n",
       "        this.canvas_div.focus();\n",
       "    }\n",
       "\n",
       "    var x = canvas_pos.x * mpl.ratio;\n",
       "    var y = canvas_pos.y * mpl.ratio;\n",
       "\n",
       "    this.send_message(name, {x: x, y: y, button: event.button,\n",
       "                             step: event.step,\n",
       "                             guiEvent: simpleKeys(event)});\n",
       "\n",
       "    /* This prevents the web browser from automatically changing to\n",
       "     * the text insertion cursor when the button is pressed.  We want\n",
       "     * to control all of the cursor setting manually through the\n",
       "     * 'cursor' event from matplotlib */\n",
       "    event.preventDefault();\n",
       "    return false;\n",
       "}\n",
       "\n",
       "mpl.figure.prototype._key_event_extra = function(event, name) {\n",
       "    // Handle any extra behaviour associated with a key event\n",
       "}\n",
       "\n",
       "mpl.figure.prototype.key_event = function(event, name) {\n",
       "\n",
       "    // Prevent repeat events\n",
       "    if (name == 'key_press')\n",
       "    {\n",
       "        if (event.which === this._key)\n",
       "            return;\n",
       "        else\n",
       "            this._key = event.which;\n",
       "    }\n",
       "    if (name == 'key_release')\n",
       "        this._key = null;\n",
       "\n",
       "    var value = '';\n",
       "    if (event.ctrlKey && event.which != 17)\n",
       "        value += \"ctrl+\";\n",
       "    if (event.altKey && event.which != 18)\n",
       "        value += \"alt+\";\n",
       "    if (event.shiftKey && event.which != 16)\n",
       "        value += \"shift+\";\n",
       "\n",
       "    value += 'k';\n",
       "    value += event.which.toString();\n",
       "\n",
       "    this._key_event_extra(event, name);\n",
       "\n",
       "    this.send_message(name, {key: value,\n",
       "                             guiEvent: simpleKeys(event)});\n",
       "    return false;\n",
       "}\n",
       "\n",
       "mpl.figure.prototype.toolbar_button_onclick = function(name) {\n",
       "    if (name == 'download') {\n",
       "        this.handle_save(this, null);\n",
       "    } else {\n",
       "        this.send_message(\"toolbar_button\", {name: name});\n",
       "    }\n",
       "};\n",
       "\n",
       "mpl.figure.prototype.toolbar_button_onmouseover = function(tooltip) {\n",
       "    this.message.textContent = tooltip;\n",
       "};\n",
       "mpl.toolbar_items = [[\"Home\", \"Reset original view\", \"fa fa-home icon-home\", \"home\"], [\"Back\", \"Back to  previous view\", \"fa fa-arrow-left icon-arrow-left\", \"back\"], [\"Forward\", \"Forward to next view\", \"fa fa-arrow-right icon-arrow-right\", \"forward\"], [\"\", \"\", \"\", \"\"], [\"Pan\", \"Pan axes with left mouse, zoom with right\", \"fa fa-arrows icon-move\", \"pan\"], [\"Zoom\", \"Zoom to rectangle\", \"fa fa-square-o icon-check-empty\", \"zoom\"], [\"\", \"\", \"\", \"\"], [\"Download\", \"Download plot\", \"fa fa-floppy-o icon-save\", \"download\"]];\n",
       "\n",
       "mpl.extensions = [\"eps\", \"jpeg\", \"pdf\", \"png\", \"ps\", \"raw\", \"svg\", \"tif\"];\n",
       "\n",
       "mpl.default_extension = \"png\";var comm_websocket_adapter = function(comm) {\n",
       "    // Create a \"websocket\"-like object which calls the given IPython comm\n",
       "    // object with the appropriate methods. Currently this is a non binary\n",
       "    // socket, so there is still some room for performance tuning.\n",
       "    var ws = {};\n",
       "\n",
       "    ws.close = function() {\n",
       "        comm.close()\n",
       "    };\n",
       "    ws.send = function(m) {\n",
       "        //console.log('sending', m);\n",
       "        comm.send(m);\n",
       "    };\n",
       "    // Register the callback with on_msg.\n",
       "    comm.on_msg(function(msg) {\n",
       "        //console.log('receiving', msg['content']['data'], msg);\n",
       "        // Pass the mpl event to the overriden (by mpl) onmessage function.\n",
       "        ws.onmessage(msg['content']['data'])\n",
       "    });\n",
       "    return ws;\n",
       "}\n",
       "\n",
       "mpl.mpl_figure_comm = function(comm, msg) {\n",
       "    // This is the function which gets called when the mpl process\n",
       "    // starts-up an IPython Comm through the \"matplotlib\" channel.\n",
       "\n",
       "    var id = msg.content.data.id;\n",
       "    // Get hold of the div created by the display call when the Comm\n",
       "    // socket was opened in Python.\n",
       "    var element = $(\"#\" + id);\n",
       "    var ws_proxy = comm_websocket_adapter(comm)\n",
       "\n",
       "    function ondownload(figure, format) {\n",
       "        window.open(figure.imageObj.src);\n",
       "    }\n",
       "\n",
       "    var fig = new mpl.figure(id, ws_proxy,\n",
       "                           ondownload,\n",
       "                           element.get(0));\n",
       "\n",
       "    // Call onopen now - mpl needs it, as it is assuming we've passed it a real\n",
       "    // web socket which is closed, not our websocket->open comm proxy.\n",
       "    ws_proxy.onopen();\n",
       "\n",
       "    fig.parent_element = element.get(0);\n",
       "    fig.cell_info = mpl.find_output_cell(\"<div id='\" + id + \"'></div>\");\n",
       "    if (!fig.cell_info) {\n",
       "        console.error(\"Failed to find cell for figure\", id, fig);\n",
       "        return;\n",
       "    }\n",
       "\n",
       "    var output_index = fig.cell_info[2]\n",
       "    var cell = fig.cell_info[0];\n",
       "\n",
       "};\n",
       "\n",
       "mpl.figure.prototype.handle_close = function(fig, msg) {\n",
       "    var width = fig.canvas.width/mpl.ratio\n",
       "    fig.root.unbind('remove')\n",
       "\n",
       "    // Update the output cell to use the data from the current canvas.\n",
       "    fig.push_to_output();\n",
       "    var dataURL = fig.canvas.toDataURL();\n",
       "    // Re-enable the keyboard manager in IPython - without this line, in FF,\n",
       "    // the notebook keyboard shortcuts fail.\n",
       "    IPython.keyboard_manager.enable()\n",
       "    $(fig.parent_element).html('<img src=\"' + dataURL + '\" width=\"' + width + '\">');\n",
       "    fig.close_ws(fig, msg);\n",
       "}\n",
       "\n",
       "mpl.figure.prototype.close_ws = function(fig, msg){\n",
       "    fig.send_message('closing', msg);\n",
       "    // fig.ws.close()\n",
       "}\n",
       "\n",
       "mpl.figure.prototype.push_to_output = function(remove_interactive) {\n",
       "    // Turn the data on the canvas into data in the output cell.\n",
       "    var width = this.canvas.width/mpl.ratio\n",
       "    var dataURL = this.canvas.toDataURL();\n",
       "    this.cell_info[1]['text/html'] = '<img src=\"' + dataURL + '\" width=\"' + width + '\">';\n",
       "}\n",
       "\n",
       "mpl.figure.prototype.updated_canvas_event = function() {\n",
       "    // Tell IPython that the notebook contents must change.\n",
       "    IPython.notebook.set_dirty(true);\n",
       "    this.send_message(\"ack\", {});\n",
       "    var fig = this;\n",
       "    // Wait a second, then push the new image to the DOM so\n",
       "    // that it is saved nicely (might be nice to debounce this).\n",
       "    setTimeout(function () { fig.push_to_output() }, 1000);\n",
       "}\n",
       "\n",
       "mpl.figure.prototype._init_toolbar = function() {\n",
       "    var fig = this;\n",
       "\n",
       "    var nav_element = $('<div/>')\n",
       "    nav_element.attr('style', 'width: 100%');\n",
       "    this.root.append(nav_element);\n",
       "\n",
       "    // Define a callback function for later on.\n",
       "    function toolbar_event(event) {\n",
       "        return fig.toolbar_button_onclick(event['data']);\n",
       "    }\n",
       "    function toolbar_mouse_event(event) {\n",
       "        return fig.toolbar_button_onmouseover(event['data']);\n",
       "    }\n",
       "\n",
       "    for(var toolbar_ind in mpl.toolbar_items){\n",
       "        var name = mpl.toolbar_items[toolbar_ind][0];\n",
       "        var tooltip = mpl.toolbar_items[toolbar_ind][1];\n",
       "        var image = mpl.toolbar_items[toolbar_ind][2];\n",
       "        var method_name = mpl.toolbar_items[toolbar_ind][3];\n",
       "\n",
       "        if (!name) { continue; };\n",
       "\n",
       "        var button = $('<button class=\"btn btn-default\" href=\"#\" title=\"' + name + '\"><i class=\"fa ' + image + ' fa-lg\"></i></button>');\n",
       "        button.click(method_name, toolbar_event);\n",
       "        button.mouseover(tooltip, toolbar_mouse_event);\n",
       "        nav_element.append(button);\n",
       "    }\n",
       "\n",
       "    // Add the status bar.\n",
       "    var status_bar = $('<span class=\"mpl-message\" style=\"text-align:right; float: right;\"/>');\n",
       "    nav_element.append(status_bar);\n",
       "    this.message = status_bar[0];\n",
       "\n",
       "    // Add the close button to the window.\n",
       "    var buttongrp = $('<div class=\"btn-group inline pull-right\"></div>');\n",
       "    var button = $('<button class=\"btn btn-mini btn-primary\" href=\"#\" title=\"Stop Interaction\"><i class=\"fa fa-power-off icon-remove icon-large\"></i></button>');\n",
       "    button.click(function (evt) { fig.handle_close(fig, {}); } );\n",
       "    button.mouseover('Stop Interaction', toolbar_mouse_event);\n",
       "    buttongrp.append(button);\n",
       "    var titlebar = this.root.find($('.ui-dialog-titlebar'));\n",
       "    titlebar.prepend(buttongrp);\n",
       "}\n",
       "\n",
       "mpl.figure.prototype._root_extra_style = function(el){\n",
       "    var fig = this\n",
       "    el.on(\"remove\", function(){\n",
       "\tfig.close_ws(fig, {});\n",
       "    });\n",
       "}\n",
       "\n",
       "mpl.figure.prototype._canvas_extra_style = function(el){\n",
       "    // this is important to make the div 'focusable\n",
       "    el.attr('tabindex', 0)\n",
       "    // reach out to IPython and tell the keyboard manager to turn it's self\n",
       "    // off when our div gets focus\n",
       "\n",
       "    // location in version 3\n",
       "    if (IPython.notebook.keyboard_manager) {\n",
       "        IPython.notebook.keyboard_manager.register_events(el);\n",
       "    }\n",
       "    else {\n",
       "        // location in version 2\n",
       "        IPython.keyboard_manager.register_events(el);\n",
       "    }\n",
       "\n",
       "}\n",
       "\n",
       "mpl.figure.prototype._key_event_extra = function(event, name) {\n",
       "    var manager = IPython.notebook.keyboard_manager;\n",
       "    if (!manager)\n",
       "        manager = IPython.keyboard_manager;\n",
       "\n",
       "    // Check for shift+enter\n",
       "    if (event.shiftKey && event.which == 13) {\n",
       "        this.canvas_div.blur();\n",
       "        // select the cell after this one\n",
       "        var index = IPython.notebook.find_cell_index(this.cell_info[0]);\n",
       "        IPython.notebook.select(index + 1);\n",
       "    }\n",
       "}\n",
       "\n",
       "mpl.figure.prototype.handle_save = function(fig, msg) {\n",
       "    fig.ondownload(fig, null);\n",
       "}\n",
       "\n",
       "\n",
       "mpl.find_output_cell = function(html_output) {\n",
       "    // Return the cell and output element which can be found *uniquely* in the notebook.\n",
       "    // Note - this is a bit hacky, but it is done because the \"notebook_saving.Notebook\"\n",
       "    // IPython event is triggered only after the cells have been serialised, which for\n",
       "    // our purposes (turning an active figure into a static one), is too late.\n",
       "    var cells = IPython.notebook.get_cells();\n",
       "    var ncells = cells.length;\n",
       "    for (var i=0; i<ncells; i++) {\n",
       "        var cell = cells[i];\n",
       "        if (cell.cell_type === 'code'){\n",
       "            for (var j=0; j<cell.output_area.outputs.length; j++) {\n",
       "                var data = cell.output_area.outputs[j];\n",
       "                if (data.data) {\n",
       "                    // IPython >= 3 moved mimebundle to data attribute of output\n",
       "                    data = data.data;\n",
       "                }\n",
       "                if (data['text/html'] == html_output) {\n",
       "                    return [cell, data, j];\n",
       "                }\n",
       "            }\n",
       "        }\n",
       "    }\n",
       "}\n",
       "\n",
       "// Register the function which deals with the matplotlib target/channel.\n",
       "// The kernel may be null if the page has been refreshed.\n",
       "if (IPython.notebook.kernel != null) {\n",
       "    IPython.notebook.kernel.comm_manager.register_target('matplotlib', mpl.mpl_figure_comm);\n",
       "}\n"
      ],
      "text/plain": [
       "<IPython.core.display.Javascript object>"
      ]
     },
     "metadata": {},
     "output_type": "display_data"
    },
    {
     "data": {
      "text/html": [
       "<img src=\"data:image/png;base64,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\" width=\"640\">"
      ],
      "text/plain": [
       "<IPython.core.display.HTML object>"
      ]
     },
     "metadata": {},
     "output_type": "display_data"
    },
    {
     "data": {
      "text/plain": [
       "[<matplotlib.lines.Line2D at 0xa66a240>]"
      ]
     },
     "execution_count": 24,
     "metadata": {},
     "output_type": "execute_result"
    }
   ],
   "source": [
    "%matplotlib notebook\n",
    "plt.plot(d.bins)"
   ]
  },
  {
   "cell_type": "code",
   "execution_count": 20,
   "metadata": {
    "collapsed": false,
    "scrolled": false
   },
   "outputs": [
    {
     "data": {
      "text/plain": [
       "1"
      ]
     },
     "execution_count": 20,
     "metadata": {},
     "output_type": "execute_result"
    }
   ],
   "source": [
    "f=EventFlags(es[2][2]['flags'])\n",
    "f.channel"
   ]
  },
  {
   "cell_type": "code",
   "execution_count": 11,
   "metadata": {
    "collapsed": false,
    "run_control": {
     "frozen": false,
     "read_only": false
    },
    "scrolled": true
   },
   "outputs": [
    {
     "data": {
      "text/plain": [
       "(array([], dtype=int64),)"
      ]
     },
     "execution_count": 11,
     "metadata": {},
     "output_type": "execute_result"
    }
   ],
   "source": [
    "import tes.mca as mca\n",
    "d=bs.distributions[0]\n",
    "eset=np.uint64(1)\n",
    "bset=np.uint64(0)\n",
    "cset=np.uint64(20)\n",
    "\n",
    "stop=d.stop_time+eset+cset\n",
    "start=d.start_time+bset+cset\n",
    "bins=np.zeros((d.last_bin+1,),dtype=np.uint32)\n",
    "\n",
    "if d.value==mca.Value.raw_signal:\n",
    "    tname='raw'\n",
    "elif d.value==mca.Value.filtered_signal:\n",
    "    tname='filtered'\n",
    "elif d.value==mca.Value.slope_signal:\n",
    "    tname='slope'\n",
    "\n",
    "for i in range(start,stop):\n",
    "    s = traces[tname][i]\n",
    "    if s < d.lowest_value:\n",
    "        bins[0] += 1\n",
    "    else:\n",
    "        bin_number = s - d.lowest_value + 1\n",
    "        if bin_number < d.last_bin:\n",
    "            bins[bin_number] += 1\n",
    "        else:\n",
    "            bins[d.last_bin] += 1\n",
    "        \n",
    "bad=(bins-d.counts).nonzero()\n",
    "bad"
   ]
  },
  {
   "cell_type": "code",
   "execution_count": 12,
   "metadata": {
    "collapsed": false
   },
   "outputs": [
    {
     "data": {
      "text/plain": [
       "array([], dtype=uint32)"
      ]
     },
     "execution_count": 12,
     "metadata": {},
     "output_type": "execute_result"
    }
   ],
   "source": [
    "d.counts[bad][1:10]"
   ]
  },
  {
   "cell_type": "code",
   "execution_count": null,
   "metadata": {
    "collapsed": false
   },
   "outputs": [],
   "source": [
    "bins[bad][1:10]"
   ]
  },
  {
   "cell_type": "code",
   "execution_count": null,
   "metadata": {
    "collapsed": false
   },
   "outputs": [],
   "source": [
    "d.value"
   ]
  },
  {
   "cell_type": "code",
   "execution_count": null,
   "metadata": {
    "collapsed": false,
    "scrolled": false
   },
   "outputs": [],
   "source": [
    "%matplotlib notebook\n",
    "plt.step(np.arange(len(d.bins)),d.bins)\n",
    "# plt.step(np.arange(len(d.counts)),bins)\n",
    "plt.plot(bad,np.zeros_like(bad),'.k')"
   ]
  },
  {
   "cell_type": "code",
   "execution_count": 13,
   "metadata": {
    "collapsed": false
   },
   "outputs": [
    {
     "data": {
      "text/plain": [
       "655360"
      ]
     },
     "execution_count": 13,
     "metadata": {},
     "output_type": "execute_result"
    }
   ],
   "source": [
    "sum(d.counts)"
   ]
  },
  {
   "cell_type": "code",
   "execution_count": null,
   "metadata": {
    "collapsed": false
   },
   "outputs": [],
   "source": [
    "2**14+2000"
   ]
  },
  {
   "cell_type": "code",
   "execution_count": null,
   "metadata": {
    "collapsed": false,
    "run_control": {
     "frozen": false,
     "read_only": false
    }
   },
   "outputs": [],
   "source": [
    "def plot_event(event_tupple):\n",
    "    pre=200\n",
    "    post=1000\n",
    "    timestamp=event_tupple[0]\n",
    "    event_type=event_tupple[1]\n",
    "    event=event_tupple[2]\n",
    "    flags=EventFlags(event['flags'])\n",
    "    print(flags)\n",
    "    print('timestamp',timestamp, 'time', event['time'])\n",
    "    if flags.type == Event.tick:\n",
    "        return\n",
    "    s=traces['filtered'][timestamp+20-pre:timestamp+20+post]\n",
    "    r=traces['raw'][timestamp+20-pre:timestamp+20+post]\n",
    "    i = np.where(abs(minmax['clk'])<=timestamp+20)[0][-1]\n",
    "    min_t=abs(minmax['clk'][i])-(timestamp+20)\n",
    "#     print(minmax['clk'][i],min_t,i,timestamp)\n",
    "    plt.plot(r,'k',linewidth=0.5)\n",
    "    plt.plot(s,'b',linewidth=2)\n",
    "    plt.plot([pre],s[pre],'sg')\n",
    "    plt.plot([pre+min_t],minmax['filtered'][i],'sr')\n",
    "    if event_type==Event.pulse:\n",
    "        for i in range(flags.peak_number):\n",
    "            p=event['peaks'][i]\n",
    "            plt.plot([0,len(s)-1],[p['height'],p['height']],':r')\n",
    "    else:\n",
    "      plt.plot([0,len(s)-1],[event['height'],event['height']],':r')\n",
    "        \n",
    "    #print(event['height'],event['minima'])\n",
    "    #print(minmax['filtered'][i]==s[pre+min_t])\n",
    "    #print(minmax['filtered'][i]==event['minima'])\n",
    "    #print(s[pre],s[pre-1])"
   ]
  },
  {
   "cell_type": "code",
   "execution_count": null,
   "metadata": {
    "collapsed": false,
    "run_control": {
     "frozen": false,
     "read_only": false
    }
   },
   "outputs": [],
   "source": [
    "pwd"
   ]
  },
  {
   "cell_type": "code",
   "execution_count": null,
   "metadata": {
    "collapsed": false
   },
   "outputs": [],
   "source": [
    "es=bs.eventstream\n",
    "es"
   ]
  },
  {
   "cell_type": "code",
   "execution_count": null,
   "metadata": {
    "collapsed": false,
    "run_control": {
     "frozen": false,
     "read_only": false
    }
   },
   "outputs": [],
   "source": [
    "%matplotlib notebook\n",
    "for e in es:\n",
    "    if e[1]==Event.peak:\n",
    "        plot_event(e)"
   ]
  },
  {
   "cell_type": "code",
   "execution_count": null,
   "metadata": {
    "collapsed": false,
    "run_control": {
     "frozen": false,
     "read_only": false
    }
   },
   "outputs": [],
   "source": [
    "es"
   ]
  },
  {
   "cell_type": "code",
   "execution_count": null,
   "metadata": {
    "collapsed": false,
    "run_control": {
     "frozen": false,
     "read_only": false
    }
   },
   "outputs": [],
   "source": [
    "dists=bs.distributions\n",
    "dists"
   ]
  },
  {
   "cell_type": "code",
   "execution_count": null,
   "metadata": {
    "collapsed": false,
    "run_control": {
     "frozen": false,
     "read_only": false
    }
   },
   "outputs": [],
   "source": [
    "bs.packets[185].payload"
   ]
  },
  {
   "cell_type": "code",
   "execution_count": null,
   "metadata": {
    "collapsed": false,
    "run_control": {
     "frozen": false,
     "read_only": false
    }
   },
   "outputs": [],
   "source": [
    "d=bs.distributions[0]\n",
    "eset=np.uint64(1)\n",
    "bset=np.uint64(0)\n",
    "cset=np.uint64(20)\n",
    "\n",
    "stop=d.stop_time+eset+cset\n",
    "start=d.start_time+bset+cset\n",
    "bins=np.zeros((d.last_bin+1,),dtype=np.uint32)\n",
    "for i in range(start,stop):\n",
    "    s = traces['raw'][i]\n",
    "    if s <= d.lowest_value:\n",
    "        bins[0] += 1\n",
    "    else:\n",
    "        bins[s-d.lowest_value] += 1\n",
    "        \n",
    "(bins-d.counts).nonzero()"
   ]
  },
  {
   "cell_type": "code",
   "execution_count": null,
   "metadata": {
    "collapsed": false,
    "run_control": {
     "frozen": false,
     "read_only": false
    }
   },
   "outputs": [],
   "source": [
    "%matplotlib notebook\n",
    "plt.step(np.arange(len(d.counts)),d.counts)"
   ]
  },
  {
   "cell_type": "code",
   "execution_count": null,
   "metadata": {
    "collapsed": false,
    "run_control": {
     "frozen": false,
     "read_only": false
    }
   },
   "outputs": [],
   "source": [
    "bins[bins.nonzero()]"
   ]
  },
  {
   "cell_type": "code",
   "execution_count": null,
   "metadata": {
    "collapsed": false,
    "run_control": {
     "frozen": false,
     "read_only": false
    }
   },
   "outputs": [],
   "source": [
    "sum(d.counts)"
   ]
  },
  {
   "cell_type": "code",
   "execution_count": null,
   "metadata": {
    "collapsed": false,
    "run_control": {
     "frozen": false,
     "read_only": false
    }
   },
   "outputs": [],
   "source": [
    "2**14+2000"
   ]
  },
  {
   "cell_type": "code",
   "execution_count": null,
   "metadata": {
    "collapsed": false,
    "run_control": {
     "frozen": false,
     "read_only": false
    }
   },
   "outputs": [],
   "source": [
    "es[3][2]['timestamp']-es[0][2]['timestamp']"
   ]
  },
  {
   "cell_type": "code",
   "execution_count": null,
   "metadata": {
    "collapsed": true,
    "run_control": {
     "frozen": false,
     "read_only": false
    }
   },
   "outputs": [],
   "source": [
    "def xings(s, thresh):\n",
    "    pos=s > thresh\n",
    "    neg=s < thresh\n",
    "    pos0=s >= thresh\n",
    "    neg0=s <= thresh\n",
    "    pos_xing_mask = np.bitwise_and(pos0[1:],neg[0:-1])  \n",
    "    neg_xing_mask = np.bitwise_and(neg0[1:],pos[0:-1])  \n",
    "    return pos_xing_mask.nonzero()[0]+1, neg_xing_mask.nonzero()[0]+1"
   ]
  },
  {
   "cell_type": "code",
   "execution_count": null,
   "metadata": {
    "collapsed": true,
    "run_control": {
     "frozen": false,
     "read_only": false
    }
   },
   "outputs": [],
   "source": [
    "from mpl_toolkits.axes_grid1 import host_subplot\n",
    "\n",
    "def plot_trace(traces,start,width):\n",
    "\n",
    "    ax = host_subplot(111)\n",
    "    axr = ax.twinx()\n",
    "    axt = ax.twiny()\n",
    "#ax.plot(t[0:-1:10],s[0:-1:10],'k')\n",
    "#ax.plot(t,s,'k')\n",
    "    axt.set_xlabel('Time ns',fontsize=18)\n",
    "    ax.set_ylabel('Voltage (Arbitary Units)',fontsize=18)\n",
    "#plt.xticks(visible=False)\n",
    "#plt.yticks(visible=False)\n",
    "#ax.set_xlim(0,t[4000000])\n",
    "#start=902000\n",
    "#width=2500\n",
    "    f=traces['filtered'][start:start+width]\n",
    "    s=traces['slope'][start:start+width]\n",
    "    t=np.arange(len(f))*4e-9\n",
    "#ts=t[pstart:pstop]\n",
    "#axins = fig.add_axes([.4, .45, .45, .4])\n",
    "    ax.set_xlim(t[0],t[-1])\n",
    "    axt.set_xlim(t[0],t[-1])\n",
    "\n",
    "    ylim=(-500,2000)\n",
    "\n",
    "    ax.set_ylim(ylim[0],ylim[1])\n",
    "    axr.set_ylim(ylim[0],ylim[1])\n",
    "\n",
    "    filtered, = ax.step(t,f,'k',lw=2,label='filtered')\n",
    "    slope, = ax.step(t,s,'b',label='slope')\n",
    "    ax.fill_between(t,0,s,alpha=.4)\n",
    "    plt.ylim=ylim\n",
    "\n",
    "pos=s>0\n",
    "neg=s<=0\n",
    "pos_xing_mask = np.bitwise_and(pos[1:-1],neg[0:-2])  \n",
    "neg_xing_mask = np.bitwise_and(neg[1:-1],pos[0:-2])  \n",
    "pos_xing=pos_xing_mask.nonzero()\n",
    "neg_xing=neg_xing_mask.nonzero()\n",
    "\n",
    "rx=[t[pos_xing[0][0]], t[neg_xing[0][0]]]\n",
    "ry=[f[pos_xing[0][0]], f[neg_xing[0][0]]]\n",
    "\n",
    "ax.fill_between(t[pos_xing[0][0]:neg_xing[0][0]],0,s[pos_xing[0][0]:neg_xing[0][0]],alpha=.4,color='r')\n",
    "\n",
    "#plt.plot(rx,[ry[0], ry[0]],'-r',lw=2)\n",
    "#plt.plot([rx[1],rx[1]], ry,'-r',lw=2)\n",
    "# thresholds\n",
    "sthresh = 600\n",
    "pthresh = 1000\n",
    "plt.plot([t[0], t[-1]], [sthresh, sthresh], '--b', lw=2)\n",
    "plt.plot([t[0], t[-1]], [pthresh, pthresh], '--k', lw=2)\n",
    "\n",
    "sthresh_xing=(s>sthresh).nonzero()[0][0]\n",
    "pthresh_xing=(f>pthresh).nonzero()[0][0]\n",
    "\n",
    "\n",
    "cf=.10\n",
    "height = ry[1]-ry[0]\n",
    "cfl=ry[0]+(height*cf)\n",
    "cfh=ry[1]-(height*cf)\n",
    "\n",
    "cfl_xing=(f>cfl).nonzero()[0][0]\n",
    "cfd_low=f[cfl_xing]\n",
    "cfh_xing=(f>cfh).nonzero()[0][0]\n",
    "cfd_high=f[cfh_xing]\n",
    "\n",
    "#plt.plot([t[cfl_xing], t[-1]],[cfd_low, cfd_low], ':r')\n",
    "#plt.plot([t[cfh_xing], t[-1]],[cfd_high, cfd_high], ':r')\n",
    "#plt.plot([x[1], t[-1]],[y[1], y[1]], ':r')\n",
    "plt.legend([filtered, slope],['Signal', 'Slope'],loc=2)\n",
    "\n",
    "#axr = ax.twinx()\n",
    "##################################################################\n",
    "#yticks=([ry[0],sthresh,pthresh,cfd_high,ry[1]])\n",
    "yticks=([sthresh,pthresh])\n",
    "axr.set_yticks(yticks)\n",
    "#yticklabels=['Start','Slope threshold','Pulse threshold','CF high','Peak']\n",
    "yticklabels=['Slope threshold','Pulse threshold']\n",
    "axr.set_yticklabels(yticklabels, color='r',fontsize=14)\n",
    "axr.get_yticklabels()[0].set_color('b')\n",
    "axr.get_yticklabels()[1].set_color('k')\n",
    "\n",
    "#xticks=([rx[0],t[cfl_xing],t[sthresh_xing],t[pthresh_xing],rx[1]])\n",
    "xticks=(t[cfl_xing],rx[1])\n",
    "#ax.set_xticks([rx[0],t[cfl_xing],t[sthresh_xing],t[pthresh_xing],rx[1]])\n",
    "ax.set_xticks(xticks)\n",
    "#xticklabels=['Start','CF low','Slope xing','Signal xing','Peak']\n",
    "xticklabels=['CF low','Peak']\n",
    "ax.set_xticklabels(xticklabels, color='r',fontsize=14)\n",
    "\n",
    "#plt.plot([t[cfh_xing], t[-1]],[cfd_high, cfd_high], ':r')\n",
    "#horoz start, stop lines\n",
    "#hpeak=ax.plot([xticks[1], t[-1]],[yticks[-1], yticks[-1]], '-.r')\n",
    "#hstart=ax.plot([xticks[0], t[-1]],[yticks[0], yticks[0]], '-.r')\n",
    "#vert start stop\n",
    "vstart=ax.plot([xticks[0], xticks[0]],[cfd_low, ylim[0]], '-.r')\n",
    "vpeak=ax.plot([xticks[1], xticks[1]],[ylim[0], ry[1]], '-.r')\n",
    "\n",
    "plt.tight_layout()\n",
    "plt.savefig('..//peakextraction7.svg')\n",
    "plt.show()\n",
    "print('risetime:',(xticks[1]-xticks[0])/4)\n",
    "print('height:',yticks[-1]-yticks[0])\n",
    "print('time:',(xticks[0]-rx[0])/4)\n",
    "print('area',sum(s[pos_xing[0][0]:neg_xing[0][0]])/256)\n"
   ]
  },
  {
   "cell_type": "code",
   "execution_count": null,
   "metadata": {
    "collapsed": true,
    "run_control": {
     "frozen": false,
     "read_only": false
    }
   },
   "outputs": [],
   "source": [
    "slope_0xings = xings(traces['slope'],0)"
   ]
  },
  {
   "cell_type": "code",
   "execution_count": null,
   "metadata": {
    "collapsed": false,
    "run_control": {
     "frozen": false,
     "read_only": false
    }
   },
   "outputs": [],
   "source": [
    "slope_0xings"
   ]
  },
  {
   "cell_type": "code",
   "execution_count": null,
   "metadata": {
    "collapsed": false,
    "run_control": {
     "frozen": false,
     "read_only": false
    }
   },
   "outputs": [],
   "source": [
    "%matplotlib notebook\n",
    "start=10000\n",
    "width=300\n",
    "plt.plot(traces['filtered'][start:start+width]/2)"
   ]
  },
  {
   "cell_type": "code",
   "execution_count": null,
   "metadata": {
    "collapsed": false,
    "run_control": {
     "frozen": false,
     "read_only": false
    }
   },
   "outputs": [],
   "source": [
    "%matplotlib notebook\n",
    "plt.plot(traces['slope'][20400:21700])"
   ]
  },
  {
   "cell_type": "code",
   "execution_count": null,
   "metadata": {
    "collapsed": false,
    "run_control": {
     "frozen": false,
     "read_only": false
    }
   },
   "outputs": [],
   "source": [
    "filtered=traces['filtered'][1100:]\n",
    "filteredL=traces['filteredL'][1100:]"
   ]
  },
  {
   "cell_type": "code",
   "execution_count": null,
   "metadata": {
    "collapsed": false,
    "run_control": {
     "frozen": false,
     "read_only": false
    }
   },
   "outputs": [],
   "source": [
    "filtered[:10]"
   ]
  },
  {
   "cell_type": "code",
   "execution_count": null,
   "metadata": {
    "collapsed": false,
    "run_control": {
     "frozen": false,
     "read_only": false
    }
   },
   "outputs": [],
   "source": [
    "filteredL[:10]/4"
   ]
  },
  {
   "cell_type": "code",
   "execution_count": null,
   "metadata": {
    "collapsed": false,
    "run_control": {
     "frozen": false,
     "read_only": false
    }
   },
   "outputs": [],
   "source": [
    "minmax_dt=np.dtype([('filtered','i4'),('low','i4'),('high','i4'),('clk','i4')])\n",
    "minmax=Data.fromfile('minmax',minmax_dt,'teslib','measurement_subsystem_TB',tool='vivado')\n",
    "fxing_dt=np.dtype([('extrema','i4'),('area','i4'),('clk','i4')])\n",
    "fxing=Data.fromfile('filteredxing',fxing_dt,'teslib','measurement_subsystem_TB',tool='vivado')"
   ]
  },
  {
   "cell_type": "code",
   "execution_count": null,
   "metadata": {
    "collapsed": false,
    "run_control": {
     "frozen": false,
     "read_only": false
    }
   },
   "outputs": [],
   "source": [
    "minmax"
   ]
  },
  {
   "cell_type": "code",
   "execution_count": null,
   "metadata": {
    "collapsed": false,
    "run_control": {
     "frozen": false,
     "read_only": false
    }
   },
   "outputs": [],
   "source": [
    "fxing"
   ]
  },
  {
   "cell_type": "code",
   "execution_count": null,
   "metadata": {
    "collapsed": false,
    "run_control": {
     "frozen": false,
     "read_only": false
    }
   },
   "outputs": [],
   "source": [
    "np.where(fxing['area']==0)"
   ]
  },
  {
   "cell_type": "code",
   "execution_count": null,
   "metadata": {
    "collapsed": false,
    "run_control": {
     "frozen": false,
     "read_only": false
    }
   },
   "outputs": [],
   "source": [
    "np.where(fxing['extrema']==0)"
   ]
  },
  {
   "cell_type": "code",
   "execution_count": null,
   "metadata": {
    "collapsed": false,
    "run_control": {
     "frozen": false,
     "read_only": false
    }
   },
   "outputs": [],
   "source": [
    "fxing[30]"
   ]
  },
  {
   "cell_type": "code",
   "execution_count": null,
   "metadata": {
    "collapsed": false,
    "run_control": {
     "frozen": false,
     "read_only": false
    }
   },
   "outputs": [],
   "source": [
    "exn=np.where(fxing['extrema']<0)\n",
    "clkn=np.where(fxing['clk']>0)"
   ]
  },
  {
   "cell_type": "code",
   "execution_count": null,
   "metadata": {
    "collapsed": true,
    "run_control": {
     "frozen": false,
     "read_only": false
    }
   },
   "outputs": [],
   "source": []
  },
  {
   "cell_type": "code",
   "execution_count": null,
   "metadata": {
    "collapsed": false,
    "run_control": {
     "frozen": false,
     "read_only": false
    }
   },
   "outputs": [],
   "source": [
    "fxing[374]"
   ]
  },
  {
   "cell_type": "code",
   "execution_count": null,
   "metadata": {
    "collapsed": false,
    "run_control": {
     "frozen": false,
     "read_only": false
    }
   },
   "outputs": [],
   "source": [
    "clkn"
   ]
  },
  {
   "cell_type": "code",
   "execution_count": null,
   "metadata": {
    "collapsed": false,
    "run_control": {
     "frozen": false,
     "read_only": false
    }
   },
   "outputs": [],
   "source": [
    "np.where(minmax[maxs[0]-1]['min']!=1)"
   ]
  },
  {
   "cell_type": "code",
   "execution_count": null,
   "metadata": {
    "collapsed": false,
    "run_control": {
     "frozen": false,
     "read_only": false
    }
   },
   "outputs": [],
   "source": [
    "minmax[maxs[0]-1][65]"
   ]
  },
  {
   "cell_type": "code",
   "execution_count": null,
   "metadata": {
    "collapsed": false,
    "run_control": {
     "frozen": false,
     "read_only": false
    }
   },
   "outputs": [],
   "source": [
    "2290-925"
   ]
  },
  {
   "cell_type": "code",
   "execution_count": null,
   "metadata": {
    "collapsed": false,
    "run_control": {
     "frozen": false,
     "read_only": false
    }
   },
   "outputs": [],
   "source": [
    "0.375*4"
   ]
  },
  {
   "cell_type": "code",
   "execution_count": null,
   "metadata": {
    "collapsed": false,
    "run_control": {
     "frozen": false,
     "read_only": false
    }
   },
   "outputs": [],
   "source": [
    "np.where(minmax['clock']==2290)"
   ]
  },
  {
   "cell_type": "code",
   "execution_count": null,
   "metadata": {
    "collapsed": false,
    "run_control": {
     "frozen": false,
     "read_only": false
    }
   },
   "outputs": [],
   "source": [
    "minmax[120:140]"
   ]
  },
  {
   "cell_type": "code",
   "execution_count": null,
   "metadata": {
    "collapsed": false,
    "run_control": {
     "frozen": false,
     "read_only": false
    }
   },
   "outputs": [],
   "source": [
    "stream_dt=np.dtype([('data','>i4'),('last','i4')])\n",
    "#stream=np.fromfile('data/stream',stream_dt)"
   ]
  },
  {
   "cell_type": "markdown",
   "metadata": {},
   "source": [
    "### bytestream stuff"
   ]
  },
  {
   "cell_type": "code",
   "execution_count": null,
   "metadata": {
    "collapsed": false,
    "run_control": {
     "frozen": false,
     "read_only": false
    }
   },
   "outputs": [],
   "source": [
    "stream_dt=np.dtype([('data','i4'),('last','i4')])\n",
    "stream=Data.fromfile('bytestream',stream_dt,'teslib','measurement_subsystem_TB',tool='vivado')\n",
    "lasts=np.where(stream['last']<=0)[0]+1\n",
    "#data=np.copy(stream['data'])"
   ]
  },
  {
   "cell_type": "code",
   "execution_count": null,
   "metadata": {
    "collapsed": false,
    "run_control": {
     "frozen": false,
     "read_only": false
    }
   },
   "outputs": [],
   "source": [
    "stream"
   ]
  },
  {
   "cell_type": "code",
   "execution_count": null,
   "metadata": {
    "collapsed": true,
    "run_control": {
     "frozen": false,
     "read_only": false
    }
   },
   "outputs": [],
   "source": []
  },
  {
   "cell_type": "code",
   "execution_count": null,
   "metadata": {
    "collapsed": true,
    "run_control": {
     "frozen": false,
     "read_only": false
    }
   },
   "outputs": [],
   "source": [
    "stream=np.fromfile('data/bytestream',stream_dt)"
   ]
  },
  {
   "cell_type": "code",
   "execution_count": null,
   "metadata": {
    "collapsed": false,
    "run_control": {
     "frozen": false,
     "read_only": false
    }
   },
   "outputs": [],
   "source": [
    "bs=PacketStream(stream)"
   ]
  },
  {
   "cell_type": "code",
   "execution_count": null,
   "metadata": {
    "collapsed": false,
    "run_control": {
     "frozen": false,
     "read_only": false
    }
   },
   "outputs": [],
   "source": [
    "bs.packets"
   ]
  },
  {
   "cell_type": "code",
   "execution_count": null,
   "metadata": {
    "collapsed": false,
    "run_control": {
     "frozen": false,
     "read_only": false
    }
   },
   "outputs": [],
   "source": [
    "bs.packets[4]"
   ]
  },
  {
   "cell_type": "code",
   "execution_count": null,
   "metadata": {
    "collapsed": true,
    "run_control": {
     "frozen": false,
     "read_only": false
    }
   },
   "outputs": [],
   "source": [
    "eheader_dt=[('etype','<u2'),('length','u2'),()]"
   ]
  },
  {
   "cell_type": "code",
   "execution_count": null,
   "metadata": {
    "collapsed": false,
    "run_control": {
     "frozen": false,
     "read_only": false
    }
   },
   "outputs": [],
   "source": [
    "'{:X}'.format(bs.packets[1].bytes[23])\n"
   ]
  },
  {
   "cell_type": "code",
   "execution_count": null,
   "metadata": {
    "collapsed": false,
    "run_control": {
     "frozen": false,
     "read_only": false
    }
   },
   "outputs": [],
   "source": [
    "'{:X}'.format(bs.packets[0].bytes[28:30].view(np.uint16)[0])"
   ]
  },
  {
   "cell_type": "code",
   "execution_count": null,
   "metadata": {
    "collapsed": true,
    "run_control": {
     "frozen": false,
     "read_only": false
    }
   },
   "outputs": [],
   "source": [
    "pulse_peak_dt=np.dtype([('height','i2'),('rise','i2'),('minima','u2'),('time','i2')])\n",
    "pulse_dt=np.dtype([('size','i2'),('resv','i2'),('flags','i2'),('time','u2'),\n",
    "                  ('area','i4'),('length','i2'),('offset','i2'),('peaks',(pulse_peak_dt,2))])"
   ]
  },
  {
   "cell_type": "code",
   "execution_count": null,
   "metadata": {
    "collapsed": false,
    "run_control": {
     "frozen": false,
     "read_only": false
    }
   },
   "outputs": [],
   "source": [
    "pulses=bs.packets[3].payload.view(pulse_dt)"
   ]
  },
  {
   "cell_type": "code",
   "execution_count": null,
   "metadata": {
    "collapsed": false,
    "run_control": {
     "frozen": false,
     "read_only": false
    }
   },
   "outputs": [],
   "source": [
    "pulses['peaks']"
   ]
  },
  {
   "cell_type": "code",
   "execution_count": null,
   "metadata": {
    "collapsed": false,
    "run_control": {
     "frozen": false,
     "read_only": false
    }
   },
   "outputs": [],
   "source": [
    "pulses['offset']"
   ]
  },
  {
   "cell_type": "code",
   "execution_count": null,
   "metadata": {
    "collapsed": false,
    "run_control": {
     "frozen": false,
     "read_only": false
    }
   },
   "outputs": [],
   "source": [
    "pulses['length']"
   ]
  },
  {
   "cell_type": "code",
   "execution_count": null,
   "metadata": {
    "collapsed": false,
    "run_control": {
     "frozen": false,
     "read_only": false
    }
   },
   "outputs": [],
   "source": [
    "class eflags:\n",
    "    def __init__(self,uint16):\n",
    "        self.new_window=np.bitwise_and(uint16,0x00000001)!=0\n",
    "        self.tick=np.bitwise_and(uint16,0x00000002)!=0\n",
    "        self.type=np.right_shift(np.bitwise_and(uint16,0x0000000c),2)\n",
    "        \n",
    "    def __repr__(self):\n",
    "        return 'New window:{:}\\n'.format(self.new_window) + \\\n",
    "               'Tick:{:}\\n'.format(self.tick) + \\\n",
    "               'Type:{:}\\n'.format(self.type) "
   ]
  },
  {
   "cell_type": "code",
   "execution_count": null,
   "metadata": {
    "collapsed": false,
    "run_control": {
     "frozen": false,
     "read_only": false
    }
   },
   "outputs": [],
   "source": [
    "f=eflags(pulses[0]['flags'])\n",
    "f"
   ]
  },
  {
   "cell_type": "code",
   "execution_count": null,
   "metadata": {
    "collapsed": false,
    "run_control": {
     "frozen": false,
     "read_only": false
    }
   },
   "outputs": [],
   "source": [
    "'{:X}'.format(bs.packets[3].bytes[13:14].view(np.uint16))"
   ]
  },
  {
   "cell_type": "code",
   "execution_count": null,
   "metadata": {
    "collapsed": true,
    "run_control": {
     "frozen": false,
     "read_only": false
    }
   },
   "outputs": [],
   "source": []
  },
  {
   "cell_type": "code",
   "execution_count": null,
   "metadata": {
    "collapsed": false,
    "run_control": {
     "frozen": false,
     "read_only": false
    }
   },
   "outputs": [],
   "source": [
    "'{:X}'.format(bs.packets[3].bytes[14:16].view(np.uint16)[0])"
   ]
  },
  {
   "cell_type": "code",
   "execution_count": null,
   "metadata": {
    "collapsed": false,
    "run_control": {
     "frozen": false,
     "read_only": false
    }
   },
   "outputs": [],
   "source": [
    "bs.packets[3].bytes[14:16].view(np.uint16)[0]"
   ]
  },
  {
   "cell_type": "code",
   "execution_count": null,
   "metadata": {
    "collapsed": false,
    "run_control": {
     "frozen": false,
     "read_only": false
    }
   },
   "outputs": [],
   "source": [
    "bs=np.uint8(stream['data'][:48])"
   ]
  },
  {
   "cell_type": "code",
   "execution_count": null,
   "metadata": {
    "collapsed": false,
    "run_control": {
     "frozen": false,
     "read_only": false
    }
   },
   "outputs": [],
   "source": [
    "bs"
   ]
  },
  {
   "cell_type": "code",
   "execution_count": null,
   "metadata": {
    "collapsed": false,
    "run_control": {
     "frozen": false,
     "read_only": false
    }
   },
   "outputs": [],
   "source": [
    "events=stream['data'].view(event_dt)"
   ]
  },
  {
   "cell_type": "code",
   "execution_count": null,
   "metadata": {
    "collapsed": false,
    "run_control": {
     "frozen": false,
     "read_only": false
    }
   },
   "outputs": [],
   "source": [
    "'{:X}'.format(events['flags'][0])"
   ]
  },
  {
   "cell_type": "code",
   "execution_count": null,
   "metadata": {
    "collapsed": false,
    "run_control": {
     "frozen": false,
     "read_only": false
    }
   },
   "outputs": [],
   "source": [
    "events['rise']"
   ]
  },
  {
   "cell_type": "code",
   "execution_count": null,
   "metadata": {
    "collapsed": false,
    "run_control": {
     "frozen": false,
     "read_only": false
    }
   },
   "outputs": [],
   "source": [
    "events"
   ]
  },
  {
   "cell_type": "code",
   "execution_count": null,
   "metadata": {
    "collapsed": false,
    "run_control": {
     "frozen": false,
     "read_only": false
    }
   },
   "outputs": [],
   "source": [
    "'{:04X}'.format(events['flags'][1])"
   ]
  },
  {
   "cell_type": "code",
   "execution_count": null,
   "metadata": {
    "collapsed": true,
    "run_control": {
     "frozen": false,
     "read_only": false
    }
   },
   "outputs": [],
   "source": [
    "pulse_peak_dt=np.dtype([('time','>i2'),('minima','>i2'),('rise','>u2'),('height','>i2')])\n",
    "pulse_dt=np.dtype([('time','>i2'),('flags','>i2'),('resv','>i2'),('size','>u2'),\n",
    "                  ('offset','>i2'),('length','>i2'),('area','>i4'),('peaks',(pulse_peak_dt,1))])\n",
    "data=np.copy(stream['data'])"
   ]
  },
  {
   "cell_type": "code",
   "execution_count": null,
   "metadata": {
    "collapsed": false,
    "run_control": {
     "frozen": false,
     "read_only": false
    }
   },
   "outputs": [],
   "source": [
    "pulses=data.view(pulse_dt)"
   ]
  },
  {
   "cell_type": "code",
   "execution_count": null,
   "metadata": {
    "collapsed": false,
    "run_control": {
     "frozen": false,
     "read_only": false
    }
   },
   "outputs": [],
   "source": [
    "pulses['peaks']['height']-pulses['peaks']['minima']"
   ]
  },
  {
   "cell_type": "code",
   "execution_count": null,
   "metadata": {
    "collapsed": false,
    "run_control": {
     "frozen": false,
     "read_only": false
    }
   },
   "outputs": [],
   "source": [
    "pulses['peaks']['minima']"
   ]
  },
  {
   "cell_type": "code",
   "execution_count": null,
   "metadata": {
    "collapsed": false,
    "run_control": {
     "frozen": false,
     "read_only": false
    }
   },
   "outputs": [],
   "source": [
    "peak_count=np.right_shift(np.bitwise_and(pulses['flags'],0xF000),12)\n",
    "peak_overflow=np.bitwise_and(pulses['flags'],0x0800)!=0\n",
    "channel=np.right_shift(np.bitwise_and(pulses['flags'],0x0700),8)\n",
    "timing_type=np.right_shift(np.bitwise_and(pulses['flags'],0x00C0),6)\n",
    "height_type=np.right_shift(np.bitwise_and(pulses['flags'],0x0030),4)\n",
    "event_type=np.right_shift(np.bitwise_and(pulses['flags'],0x000E),1)\n",
    "new_window=np.bitwise_and(pulses['flags'],0x0001)!=0"
   ]
  },
  {
   "cell_type": "code",
   "execution_count": null,
   "metadata": {
    "collapsed": false,
    "run_control": {
     "frozen": false,
     "read_only": false
    }
   },
   "outputs": [],
   "source": [
    "peak_overflow"
   ]
  },
  {
   "cell_type": "code",
   "execution_count": null,
   "metadata": {
    "collapsed": true,
    "run_control": {
     "frozen": false,
     "read_only": false
    }
   },
   "outputs": [],
   "source": [
    "test_dt=np.dtype(\n",
    "    [('time','i2'),('flags','i2'),('rise','u2'),('minima','i2'),('low','u8'),('high','u8')]\n",
    ")\n",
    "test=data.view(test_dt)"
   ]
  },
  {
   "cell_type": "code",
   "execution_count": null,
   "metadata": {
    "collapsed": false,
    "run_control": {
     "frozen": false,
     "read_only": false
    }
   },
   "outputs": [],
   "source": [
    "test"
   ]
  },
  {
   "cell_type": "code",
   "execution_count": null,
   "metadata": {
    "collapsed": false,
    "run_control": {
     "frozen": false,
     "read_only": false
    }
   },
   "outputs": [],
   "source": [
    "test['minima']"
   ]
  },
  {
   "cell_type": "code",
   "execution_count": null,
   "metadata": {
    "collapsed": false,
    "run_control": {
     "frozen": false,
     "read_only": false
    }
   },
   "outputs": [],
   "source": [
    "low1=np.int32(np.right_shift(np.bitwise_and(test['low'],0x03FFFF000000000),36))\n",
    "s=(np.bitwise_and(low1,0x00020000)!=0)*0xFFFC0000\n",
    "low2=np.int32(np.right_shift(np.bitwise_and(test['low'],0x000000FFFFC0000),18))\n",
    "low_threshold=np.int32(np.bitwise_and(test['low'],0x00000000003FFFF))\n",
    "high1=np.int32(np.right_shift(np.bitwise_and(test['high'],0x03FFFF000000000),36))\n",
    "high2=np.int32(np.right_shift(np.bitwise_and(test['high'],0x000000FFFFC0000),18))\n",
    "high_threshold=np.int32(np.bitwise_and(test['high'],0x00000000003FFFF))"
   ]
  },
  {
   "cell_type": "code",
   "execution_count": null,
   "metadata": {
    "collapsed": false,
    "run_control": {
     "frozen": false,
     "read_only": false
    }
   },
   "outputs": [],
   "source": [
    "np.int32(np.bitwise_or(low1,s))/8.0"
   ]
  },
  {
   "cell_type": "code",
   "execution_count": null,
   "metadata": {
    "collapsed": false,
    "run_control": {
     "frozen": false,
     "read_only": false
    }
   },
   "outputs": [],
   "source": [
    "'{:04X}'.format(low1[0])"
   ]
  },
  {
   "cell_type": "code",
   "execution_count": null,
   "metadata": {
    "collapsed": false,
    "run_control": {
     "frozen": false,
     "read_only": false
    }
   },
   "outputs": [],
   "source": [
    "high1/8.0"
   ]
  },
  {
   "cell_type": "code",
   "execution_count": null,
   "metadata": {
    "collapsed": false,
    "run_control": {
     "frozen": false,
     "read_only": false
    }
   },
   "outputs": [],
   "source": [
    "high2/8.0"
   ]
  },
  {
   "cell_type": "code",
   "execution_count": null,
   "metadata": {
    "collapsed": false,
    "run_control": {
     "frozen": false,
     "read_only": false
    }
   },
   "outputs": [],
   "source": [
    "'{:04X}'.format(high_threshold[0])"
   ]
  },
  {
   "cell_type": "code",
   "execution_count": null,
   "metadata": {
    "collapsed": false,
    "run_control": {
     "frozen": false,
     "read_only": false
    }
   },
   "outputs": [],
   "source": [
    "from enum import Enum"
   ]
  },
  {
   "cell_type": "code",
   "execution_count": null,
   "metadata": {
    "collapsed": false,
    "run_control": {
     "frozen": false,
     "read_only": false
    }
   },
   "outputs": [],
   "source": [
    "class VhdlEnum(int, Enum):\n",
    "\n",
    "    def __str__(self):\n",
    "        return self.name.replace(\"-\", \" \")\n",
    "    \n",
    "    def select(self):\n",
    "        return pow(2, self.value)\n",
    "    "
   ]
  },
  {
   "cell_type": "code",
   "execution_count": null,
   "metadata": {
    "collapsed": false,
    "run_control": {
     "frozen": false,
     "read_only": false
    }
   },
   "outputs": [],
   "source": [
    "class Test(VhdlEnum):\n",
    "    a=0\n",
    "    b=1"
   ]
  },
  {
   "cell_type": "code",
   "execution_count": null,
   "metadata": {
    "collapsed": false,
    "run_control": {
     "frozen": false,
     "read_only": false
    }
   },
   "outputs": [],
   "source": [
    "Test(0)"
   ]
  },
  {
   "cell_type": "code",
   "execution_count": null,
   "metadata": {
    "collapsed": true,
    "run_control": {
     "frozen": false,
     "read_only": false
    }
   },
   "outputs": [],
   "source": []
  }
 ],
 "metadata": {
  "anaconda-cloud": {},
  "kernelspec": {
   "display_name": "Python [conda root]",
   "language": "python",
   "name": "conda-root-py"
  },
  "language_info": {
   "codemirror_mode": {
    "name": "ipython",
    "version": 3
   },
   "file_extension": ".py",
   "mimetype": "text/x-python",
   "name": "python",
   "nbconvert_exporter": "python",
   "pygments_lexer": "ipython3",
   "version": "3.5.2"
  }
 },
 "nbformat": 4,
 "nbformat_minor": 1
}
