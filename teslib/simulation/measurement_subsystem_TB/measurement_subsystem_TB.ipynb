{
 "cells": [
  {
   "cell_type": "code",
   "execution_count": 1,
   "metadata": {
    "collapsed": false
   },
   "outputs": [],
   "source": [
    "import sys\n",
    "import tes.simulation.data as sim\n",
    "from tes.simulation.data import PacketStream, Data, Distribution\n",
    "from tes.simulation.filesets import measurement_subsystem_TB as fileset\n",
    "import tes.simulation.plot as splt\n",
    "import numpy as np\n",
    "import matplotlib.pyplot as plt\n",
    "import math\n",
    "import collections"
   ]
  },
  {
   "cell_type": "code",
   "execution_count": null,
   "metadata": {
    "collapsed": false
   },
   "outputs": [],
   "source": [
    "ls \"..\\\\..\\\\..\\\\input_signals\"\n"
   ]
  },
  {
   "cell_type": "code",
   "execution_count": null,
   "metadata": {
    "collapsed": true
   },
   "outputs": [],
   "source": [
    "infile=\"..\\\\..\\\\..\\\\input_signals\\long\"\n",
    "f=open(infile)\n",
    "#data = numpy.frombuffer(open(filename).read().replace('\\n','').decode('hex'), dtype=numpy.uint32).byteswap()"
   ]
  },
  {
   "cell_type": "code",
   "execution_count": null,
   "metadata": {
    "collapsed": true
   },
   "outputs": [],
   "source": [
    "s=f.readlines()"
   ]
  },
  {
   "cell_type": "code",
   "execution_count": null,
   "metadata": {
    "collapsed": false
   },
   "outputs": [],
   "source": [
    "s[0]"
   ]
  },
  {
   "cell_type": "code",
   "execution_count": null,
   "metadata": {
    "collapsed": false
   },
   "outputs": [],
   "source": [
    "b=np.loadtxt(infile, dtype='uint16', delimiter=',', converters={0:lambda s: int(s, 16)})"
   ]
  },
  {
   "cell_type": "code",
   "execution_count": null,
   "metadata": {
    "collapsed": false
   },
   "outputs": [],
   "source": [
    "np.save(\"..\\\\..\\\\..\\\\input_signals\\long.npy\",b)"
   ]
  },
  {
   "cell_type": "code",
   "execution_count": null,
   "metadata": {
    "collapsed": false
   },
   "outputs": [],
   "source": [
    "%matplotlib notebook\n",
    "t=np.arange(len(b))*4e-9*1000\n",
    "plt.plot(t,np.int16(b),'k')\n",
    "plt.xlabel('Time (ms)')\n",
    "plt.ylabel('ADC code')\n",
    "plt.show()"
   ]
  },
  {
   "cell_type": "code",
   "execution_count": 8,
   "metadata": {
    "collapsed": false
   },
   "outputs": [
    {
     "name": "stdout",
     "output_type": "stream",
     "text": [
      "[90  1  2 ...,  0  0  0]\n",
      "[ 90   1   2   3   4   5 218   1   2   3   4   5 136 181  48   0   0   0\n",
      "   0   0   2   0   0   0   0   0   1   0   0   3   2   0   2   0   0   0\n",
      "   0   0   0   0   0   0   0   0   0   0   0   0]\n",
      "[ 90   1   2   3   4   5 218   1   2   3   4   5 136 181  48   0   1   0\n",
      "   1   0   2   0   0   0   0   0   1   0   0   3 255 255   2   0   1   0\n",
      "   0   0   0   0   0   0   0   0   0   3   0   0]\n",
      "[90  1  2 ...,  0  0  0]\n",
      "[ 90   1   2   3   4   5 218   1   2   3   4   5 136 181  48   0   3   0\n",
      "   2   0   2   0   0   0   0   0   1   0   0   3 255 255   2   0   2   0\n",
      "   0   0   0   0   0   0   0   0   0   3   0   0]\n",
      "[90  1  2 ...,  0  0  0]\n",
      "[90  1  2 ...,  0  0  0]\n",
      "[90  1  2 ...,  0  0  0]\n",
      "[90  1  2 ...,  0  0  0]\n",
      "[90  1  2 ...,  0  0  0]\n",
      "[90  1  2 ...,  0  0  0]\n",
      "[90  1  2 ...,  0  0  0]\n",
      "[90  1  2 ...,  0  0  0]\n",
      "[90  1  2 ...,  0  0  0]\n",
      "[90  1  2 ...,  0  0  0]\n",
      "[90  1  2 ...,  0  0  0]\n",
      "[90  1  2 ...,  0  0  0]\n",
      "[90  1  2 ...,  0  0  0]\n",
      "[90  1  2 ...,  0  0  0]\n",
      "[90  1  2 ...,  0  0  0]\n",
      "[90  1  2 ...,  0  0  0]\n",
      "[90  1  2 ...,  0  0  0]\n",
      "[90  1  2 ...,  0  0  0]\n",
      "[90  1  2 ...,  0  0  0]\n",
      "[90  1  2 ...,  0  0  0]\n",
      "[90  1  2 ...,  0  0  0]\n",
      "[90  1  2 ...,  0  0  0]\n",
      "[90  1  2 ...,  0  0  0]\n",
      "[90  1  2 ...,  0  0  0]\n",
      "[90  1  2 ...,  0  0  0]\n",
      "[90  1  2 ...,  0  0  0]\n",
      "[90  1  2 ...,  0  0  0]\n",
      "[90  1  2 ...,  0  0  0]\n",
      "[90  1  2 ...,  0  0  0]\n",
      "[90  1  2 ...,  0  0  0]\n",
      "[90  1  2 ...,  0  0  0]\n",
      "[90  1  2 ...,  0  0  0]\n",
      "[90  1  2 ...,  0  0  0]\n",
      "[90  1  2 ...,  0  0  0]\n",
      "[90  1  2 ...,  0  0  0]\n",
      "[90  1  2 ...,  0  0  0]\n",
      "[90  1  2 ...,  0  0  0]\n",
      "[90  1  2 ...,  0  0  0]\n",
      "[90  1  2 ...,  0  0  0]\n",
      "[90  1  2 ...,  0  0  0]\n",
      "[90  1  2 ...,  0  0  0]\n",
      "[90  1  2 ...,  0  0  0]\n",
      "[90  1  2 ...,  0  0  0]\n",
      "[ 90   1   2   3   4   5 218   1   2   3   4   5 136 182  64   3  47   0\n",
      "  44   0   2   0   0   0   0   0   0   0   0   0   0   0   0   0   0   0\n",
      "   0   0   0   0   0   0   0   0   1   0   0   0   0   0   0   0   0   0\n",
      "   0   0   0   0   0   0   0   0   0   0   1   0   0   0   0   0   0   0\n",
      "   0   0   0   0   1   0   0   0   0   0   0   0   0   0   0   0   0   0\n",
      "   0   0   0   0   0   0   0   0   0   0   0   0   0   0   0   0   0   0\n",
      "   0   0   0   0   0   0   0   0   0   0   0   0   0   0   0   0   0   0\n",
      "   0   0   0   0   0   0   0   0   0   0   0   0   0   0   0   0   0   0\n",
      "   1   0   0   0   0   0   0   0   0   0   0   0   0   0   0   0   1   0\n",
      "   0   0   0   0   0   0   0   0   0   0   0   0   0   0   1   0   0   0\n",
      "   0   0   0   0   0   0   0   0   1   0   0   0   0   0   0   0   0   0\n",
      "   0   0   0   0   0   0   1   0   0   0   0   0   0   0   0   0   0   0\n",
      "   0   0   0   0   0   0   0   0   0   0   0   0   0   0   0   0   0   0\n",
      "   0   0   0   0   0   0   0   0   0   0   0   0   0   0   0   0   0   0\n",
      "   0   0   0   0   0   0   0   0   0   0   0   0   0   0   0   0   0   0\n",
      "   0   0   0   0   0   0   0   0   0   0   0   0   0   0   0   0   0   0\n",
      "   0   0   0   0   0   0   0   0   0   0   0   0   0   0   0   0   0   0\n",
      "   0   0   0   0   0   0   0   0   0   0   0   0   0   0   0   0   0   0\n",
      "   1   0   0   0   1   0   0   0   0   0   0   0   1   0   0   0   0   0\n",
      "   0   0   0   0   0   0   0   0   0   0   1   0   0   0   0   0   0   0\n",
      "   0   0   0   0   0   0   0   0   0   0   0   0   0   0   0   0   0   0\n",
      "   0   0   0   0   0   0   0   0   0   0   0   0   0   0   0   0   0   0\n",
      "   0   0   0   0   0   0   0   0   0   0   0   0   0   0   0   0   0   0\n",
      "   0   0   0   0   0   0   0   0   0   0   0   0   0   0   2   0   0   0\n",
      "   0   0   0   0   0   0   0   0   1   0   0   0   0   0   0   0   0   0\n",
      "   0   0   0   0   0   0   0   0   0   0   0   0   0   0   0   0   0   0\n",
      "   0   0   0   0   1   0   0   0   0   0   0   0   0   0   0   0   0   0\n",
      "   0   0   0   0   0   0   0   0   0   0   0   0   0   0   0   0   0   0\n",
      "   0   0   0   0   2   0   0   0   1   0   0   0   0   0   0   0   1   0\n",
      "   0   0   0   0   0   0   0   0   0   0   0   0   0   0   0   0   0   0\n",
      "   0   0   0   0   0   0   0   0   0   0   0   0   0   0   0   0   0   0\n",
      "   0   0   1   0   0   0   0   0   0   0   0   0   0   0   0   0   0   0\n",
      "   0   0   0   0   0   0   0   0   0   0   0   0   0   0   0   0   0   0\n",
      "   0   0   0   0   0   0   0   0   0   0   0   0   0   0   0   0   0   0\n",
      "   0   0   0   0   0   0   0   0   0   0   0   0   0   0   0   0   0   0\n",
      "   0   0   0   0   0   0   0   0   0   0   0   0   0   0   0   0   0   0\n",
      "   0   0   0   0   1   0   0   0   0   0   0   0   0   0   0   0   0   0\n",
      "   0   0   0   0   0   0   0   0   0   0   0   0   0   0   0   0   0   0\n",
      "   0   0   0   0   0   0   0   0   0   0   0   0   0   0   0   0   0   0\n",
      "   0   0   1   0   0   0   0   0   0   0   0   0   0   0   0   0   0   0\n",
      "   0   0   0   0   0   0   0   0   0   0   0   0   0   0   0   0   0   0\n",
      "   0   0   0   0   0   0   0   0   0   0   0   0   0   0   0   0   0   0\n",
      "   0   0   0   0   0   0   0   0   0   0   0   0   0   0   0   0   0   0\n",
      "   0   0   0   0   0   0   0   0   0   0   0   0   0   0   0   0   0   0\n",
      "   0   0   0   0   0   0   0   0   0   0   0   0   0   0   0   0   0   0\n",
      "   0   0   0   0   0   0   1   0   0   0   0   0   0   0   0   0   0   0\n",
      " 116  10   0   0]\n",
      "[90  1  2 ...,  0  0  0]\n",
      "[90  1  2 ...,  0  0  0]\n",
      "[ 90   1   2   3   4   5 218   1   2   3   4   5 136 181  48   0  50   0\n",
      "   3   0   2   0   0   0   0   0   1   0   0   3 255 255   2   0   3   0\n",
      "   0   0   0   0   0   0   0   0   0   3   0   0]\n",
      "[90  1  2 ...,  0  0  0]\n",
      "[90  1  2 ...,  0  0  0]\n",
      "[90  1  2 ...,  0  0  0]\n",
      "[90  1  2 ...,  0  0  0]\n",
      "[90  1  2 ...,  0  0  0]\n",
      "[90  1  2 ...,  0  0  0]\n",
      "[90  1  2 ...,  0  0  0]\n",
      "[90  1  2 ...,  0  0  0]\n",
      "[90  1  2 ...,  0  0  0]\n",
      "[90  1  2 ...,  0  0  0]\n",
      "[90  1  2 ...,  0  0  0]\n",
      "[90  1  2 ...,  0  0  0]\n",
      "[90  1  2 ...,  0  0  0]\n",
      "[90  1  2 ...,  0  0  0]\n",
      "[90  1  2 ...,  0  0  0]\n",
      "[90  1  2 ...,  0  0  0]\n",
      "[90  1  2 ...,  0  0  0]\n",
      "[90  1  2 ...,  0  0  0]\n",
      "[90  1  2 ...,  0  0  0]\n",
      "[90  1  2 ...,  0  0  0]\n",
      "[90  1  2 ...,  0  0  0]\n",
      "[90  1  2 ...,  0  0  0]\n",
      "[90  1  2 ...,  0  0  0]\n",
      "[90  1  2 ...,  0  0  0]\n",
      "[90  1  2 ...,  0  0  0]\n",
      "[90  1  2 ...,  0  0  0]\n",
      "[90  1  2 ...,  0  0  0]\n",
      "[90  1  2 ...,  0  0  0]\n",
      "[90  1  2 ...,  0  0  0]\n",
      "[90  1  2 ...,  0  0  0]\n",
      "[90  1  2 ...,  0  0  0]\n",
      "[90  1  2 ...,  0  0  0]\n",
      "[90  1  2 ...,  0  0  0]\n",
      "[90  1  2 ...,  0  0  0]\n",
      "[90  1  2 ...,  0  0  0]\n",
      "[90  1  2 ...,  0  0  0]\n",
      "[90  1  2 ...,  0  0  0]\n",
      "[90  1  2 ...,  0  0  0]\n",
      "[90  1  2 ...,  0  0  0]\n",
      "[90  1  2 ...,  0  0  0]\n",
      "[90  1  2 ...,  0  0  0]\n",
      "[90  1  2 ...,  0  0  0]\n",
      "[ 90   1   2   3   4   5 218   1   2   3   4   5 136 182  64   3  93   0\n",
      "  44   0   2   0   0   0   0   0   0   0   0   0   0   0   0   0   0   0\n",
      "   0   0   0   0   0   0   0   0   0   0   0   0   0   0   0   0   0   0\n",
      "   0   0   0   0   0   0   0   0   0   0   0   0   0   0   0   0   0   0\n",
      "   1   0   0   0   0   0   0   0   0   0   0   0   0   0   0   0   0   0\n",
      "   0   0   0   0   0   0   0   0   0   0   0   0   0   0   0   0   0   0\n",
      "   0   0   0   0   0   0   0   0   0   0   0   0   0   0   0   0   1   0\n",
      "   0   0   0   0   0   0   0   0   0   0   0   0   0   0   0   0   0   0\n",
      "   0   0   0   0   0   0   0   0   0   0   0   0   0   0   0   0   0   0\n",
      "   0   0   0   0   0   0   0   0   0   0   0   0   0   0   0   0   0   0\n",
      "   0   0   0   0   0   0   0   0   0   0   0   0   0   0   0   0   0   0\n",
      "   0   0   1   0   0   0   0   0   0   0   0   0   0   0   0   0   0   0\n",
      "   0   0   0   0   1   0   0   0   0   0   0   0   0   0   0   0   1   0\n",
      "   0   0   0   0   0   0   0   0   0   0   0   0   0   0   1   0   0   0\n",
      "   0   0   0   0   0   0   0   0   0   0   0   0   1   0   0   0   0   0\n",
      "   0   0   0   0   0   0   0   0   0   0   0   0   0   0   0   0   0   0\n",
      "   0   0   0   0   0   0   0   0   0   0   0   0   0   0   0   0   0   0\n",
      "   0   0   0   0   0   0   0   0   0   0   0   0   0   0   0   0   0   0\n",
      "   0   0   0   0   0   0   0   0   0   0   0   0   1   0   0   0   0   0\n",
      "   0   0   1   0   0   0   0   0   0   0   0   0   0   0   0   0   0   0\n",
      "   1   0   0   0   0   0   0   0   0   0   0   0   0   0   0   0   0   0\n",
      "   0   0   0   0   0   0   1   0   0   0   0   0   0   0   1   0   0   0\n",
      "   1   0   0   0   0   0   0   0   1   0   0   0   0   0   0   0   0   0\n",
      "   0   0   0   0   0   0   0   0   0   0   0   0   0   0   0   0   0   0\n",
      "   1   0   0   0   0   0   0   0   0   0   0   0   1   0   0   0   0   0\n",
      "   0   0   0   0   0   0   0   0   0   0   1   0   0   0   1   0   0   0\n",
      "   1   0   0   0   0   0   0   0   0   0   0   0   0   0   0   0   0   0\n",
      "   0   0   0   0   0   0   1   0   0   0   0   0   0   0   0   0   0   0\n",
      "   0   0   0   0   0   0   0   0   0   0   0   0   0   0   0   0   0   0\n",
      "   0   0   0   0   0   0   1   0   0   0   0   0   0   0   0   0   0   0\n",
      "   0   0   0   0   0   0   0   0   0   0   0   0   0   0   0   0   0   0\n",
      "   0   0   1   0   0   0   0   0   0   0   0   0   0   0   0   0   0   0\n",
      "   0   0   0   0   0   0   0   0   0   0   0   0   0   0   0   0   0   0\n",
      "   0   0   0   0   0   0   0   0   0   0   0   0   0   0   0   0   0   0\n",
      "   0   0   0   0   1   0   0   0   0   0   0   0   0   0   0   0   1   0\n",
      "   0   0   0   0   0   0   0   0   0   0   0   0   0   0   0   0   0   0\n",
      "   0   0   0   0   0   0   0   0   0   0   0   0   0   0   0   0   0   0\n",
      "   0   0   0   0   0   0   1   0   0   0   0   0   0   0   0   0   0   0\n",
      "   0   0   0   0   0   0   0   0   0   0   0   0   0   0   0   0   0   0\n",
      "   0   0   0   0   0   0   0   0   0   0   0   0   0   0   0   0   0   0\n",
      "   0   0   0   0   0   0   0   0   0   0   0   0   0   0   0   0   0   0\n",
      "   0   0   0   0   0   0   0   0   0   0   0   0   0   0   0   0   0   0\n",
      "   0   0   0   0   0   0   0   0   0   0   0   0   0   0   0   0   1   0\n",
      "   0   0   1   0   0   0   0   0   0   0   0   0   0   0   1   0   0   0\n",
      "   0   0   0   0   0   0   0   0   0   0   0   0   0   0   0   0   0   0\n",
      "   0   0   0   0   0   0   0   0   0   0   0   0   0   0   1   0   0   0\n",
      "  52   4   0   0]\n",
      "[90  1  2 ...,  0  0  0]\n",
      "[90  1  2 ...,  0  0  0]\n",
      "[90  1  2 ...,  0  0  0]\n",
      "[ 90   1   2   3   4   5 218   1   2   3   4   5 136 181  48   0  97   0\n",
      "   4   0   2   0   0   0   0   0   1   0   0   3 255 255   2   0   4   0\n",
      "   0   0   0   0   0   0   0   0   0   3   0   0]\n",
      "[90  1  2 ...,  0  0  0]\n",
      "[90  1  2 ...,  0  0  0]\n",
      "[90  1  2 ...,  0  0  0]\n",
      "[90  1  2 ...,  0  0  0]\n",
      "[90  1  2 ...,  0  0  0]\n",
      "[90  1  2 ...,  0  0  0]\n",
      "[90  1  2 ...,  0  0  0]\n",
      "[90  1  2 ...,  0  0  0]\n",
      "[90  1  2 ...,  0  0  0]\n",
      "[90  1  2 ...,  0  0  0]\n",
      "[90  1  2 ...,  0  0  0]\n",
      "[90  1  2 ...,  0  0  0]\n",
      "[90  1  2 ...,  0  0  0]\n",
      "[90  1  2 ...,  0  0  0]\n",
      "[90  1  2 ...,  0  0  0]\n",
      "[90  1  2 ...,  0  0  0]\n",
      "[90  1  2 ...,  0  0  0]\n",
      "[90  1  2 ...,  0  0  0]\n",
      "[90  1  2 ...,  0  0  0]\n",
      "[90  1  2 ...,  0  0  0]\n",
      "[90  1  2 ...,  0  0  0]\n",
      "[90  1  2 ...,  0  0  0]\n",
      "[90  1  2 ...,  0  0  0]\n",
      "[90  1  2 ...,  0  0  0]\n",
      "[90  1  2 ...,  0  0  0]\n",
      "[90  1  2 ...,  0  0  0]\n",
      "[90  1  2 ...,  0  0  0]\n",
      "[90  1  2 ...,  0  0  0]\n",
      "[90  1  2 ...,  0  0  0]\n",
      "[90  1  2 ...,  0  0  0]\n",
      "[90  1  2 ...,  0  0  0]\n",
      "[90  1  2 ...,  0  0  0]\n",
      "[90  1  2 ...,  0  0  0]\n",
      "[90  1  2 ...,  0  0  0]\n",
      "[90  1  2 ...,  0  0  0]\n",
      "[90  1  2 ...,  0  0  0]\n",
      "[90  1  2 ...,  0  0  0]\n",
      "[90  1  2 ...,  0  0  0]\n",
      "[90  1  2 ...,  0  0  0]\n"
     ]
    }
   ],
   "source": [
    "bs=sim.Data.fromfile('bytestream',np.dtype([('data',np.uint32),('last',np.int32)]),\n",
    "                 'teslib', 'measurement_subsystem_TB')\n",
    "lasts = np.where(bs['last'] < 0)[0]\n",
    "ps=PacketStream(bs)"
   ]
  },
  {
   "cell_type": "code",
   "execution_count": 9,
   "metadata": {
    "collapsed": false
   },
   "outputs": [],
   "source": [
    "d=ps.distributions"
   ]
  },
  {
   "cell_type": "code",
   "execution_count": 11,
   "metadata": {
    "collapsed": false
   },
   "outputs": [
    {
     "data": {
      "text/plain": [
       "2"
      ]
     },
     "execution_count": 11,
     "metadata": {},
     "output_type": "execute_result"
    }
   ],
   "source": [
    "len(d)"
   ]
  },
  {
   "cell_type": "code",
   "execution_count": 10,
   "metadata": {
    "collapsed": false,
    "scrolled": false
   },
   "outputs": [
    {
     "data": {
      "text/plain": [
       "[ethertype:88B5 length:48 Payload:tick frame:0 protocol:0,\n",
       " ethertype:88B5 length:48 Payload:tick frame:1 protocol:1,\n",
       " ethertype:88B6 length:1496 Payload:mca frame:2 protocol:0,\n",
       " ethertype:88B5 length:48 Payload:tick frame:3 protocol:2,\n",
       " ethertype:88B6 length:1496 Payload:mca frame:4 protocol:1,\n",
       " ethertype:88B6 length:1496 Payload:mca frame:5 protocol:2,\n",
       " ethertype:88B6 length:1496 Payload:mca frame:6 protocol:3,\n",
       " ethertype:88B6 length:1496 Payload:mca frame:7 protocol:4,\n",
       " ethertype:88B6 length:1496 Payload:mca frame:8 protocol:5,\n",
       " ethertype:88B6 length:1496 Payload:mca frame:9 protocol:6,\n",
       " ethertype:88B6 length:1496 Payload:mca frame:10 protocol:7,\n",
       " ethertype:88B6 length:1496 Payload:mca frame:11 protocol:8,\n",
       " ethertype:88B6 length:1496 Payload:mca frame:12 protocol:9,\n",
       " ethertype:88B6 length:1496 Payload:mca frame:13 protocol:10,\n",
       " ethertype:88B6 length:1496 Payload:mca frame:14 protocol:11,\n",
       " ethertype:88B6 length:1496 Payload:mca frame:15 protocol:12,\n",
       " ethertype:88B6 length:1496 Payload:mca frame:16 protocol:13,\n",
       " ethertype:88B6 length:1496 Payload:mca frame:17 protocol:14,\n",
       " ethertype:88B6 length:1496 Payload:mca frame:18 protocol:15,\n",
       " ethertype:88B6 length:1496 Payload:mca frame:19 protocol:16,\n",
       " ethertype:88B6 length:1496 Payload:mca frame:20 protocol:17,\n",
       " ethertype:88B6 length:1496 Payload:mca frame:21 protocol:18,\n",
       " ethertype:88B6 length:1496 Payload:mca frame:22 protocol:19,\n",
       " ethertype:88B6 length:1496 Payload:mca frame:23 protocol:20,\n",
       " ethertype:88B6 length:1496 Payload:mca frame:24 protocol:21,\n",
       " ethertype:88B6 length:1496 Payload:mca frame:25 protocol:22,\n",
       " ethertype:88B6 length:1496 Payload:mca frame:26 protocol:23,\n",
       " ethertype:88B6 length:1496 Payload:mca frame:27 protocol:24,\n",
       " ethertype:88B6 length:1496 Payload:mca frame:28 protocol:25,\n",
       " ethertype:88B6 length:1496 Payload:mca frame:29 protocol:26,\n",
       " ethertype:88B6 length:1496 Payload:mca frame:30 protocol:27,\n",
       " ethertype:88B6 length:1496 Payload:mca frame:31 protocol:28,\n",
       " ethertype:88B6 length:1496 Payload:mca frame:32 protocol:29,\n",
       " ethertype:88B6 length:1496 Payload:mca frame:33 protocol:30,\n",
       " ethertype:88B6 length:1496 Payload:mca frame:34 protocol:31,\n",
       " ethertype:88B6 length:1496 Payload:mca frame:35 protocol:32,\n",
       " ethertype:88B6 length:1496 Payload:mca frame:36 protocol:33,\n",
       " ethertype:88B6 length:1496 Payload:mca frame:37 protocol:34,\n",
       " ethertype:88B6 length:1496 Payload:mca frame:38 protocol:35,\n",
       " ethertype:88B6 length:1496 Payload:mca frame:39 protocol:36,\n",
       " ethertype:88B6 length:1496 Payload:mca frame:40 protocol:37,\n",
       " ethertype:88B6 length:1496 Payload:mca frame:41 protocol:38,\n",
       " ethertype:88B6 length:1496 Payload:mca frame:42 protocol:39,\n",
       " ethertype:88B6 length:1496 Payload:mca frame:43 protocol:40,\n",
       " ethertype:88B6 length:1496 Payload:mca frame:44 protocol:41,\n",
       " ethertype:88B6 length:1496 Payload:mca frame:45 protocol:42,\n",
       " ethertype:88B6 length:1496 Payload:mca frame:46 protocol:43,\n",
       " ethertype:88B6 length:832 Payload:mca frame:47 protocol:44,\n",
       " ethertype:88B6 length:1496 Payload:mca frame:48 protocol:0,\n",
       " ethertype:88B6 length:1496 Payload:mca frame:49 protocol:1,\n",
       " ethertype:88B5 length:48 Payload:tick frame:50 protocol:3,\n",
       " ethertype:88B6 length:1496 Payload:mca frame:51 protocol:2,\n",
       " ethertype:88B6 length:1496 Payload:mca frame:52 protocol:3,\n",
       " ethertype:88B6 length:1496 Payload:mca frame:53 protocol:4,\n",
       " ethertype:88B6 length:1496 Payload:mca frame:54 protocol:5,\n",
       " ethertype:88B6 length:1496 Payload:mca frame:55 protocol:6,\n",
       " ethertype:88B6 length:1496 Payload:mca frame:56 protocol:7,\n",
       " ethertype:88B6 length:1496 Payload:mca frame:57 protocol:8,\n",
       " ethertype:88B6 length:1496 Payload:mca frame:58 protocol:9,\n",
       " ethertype:88B6 length:1496 Payload:mca frame:59 protocol:10,\n",
       " ethertype:88B6 length:1496 Payload:mca frame:60 protocol:11,\n",
       " ethertype:88B6 length:1496 Payload:mca frame:61 protocol:12,\n",
       " ethertype:88B6 length:1496 Payload:mca frame:62 protocol:13,\n",
       " ethertype:88B6 length:1496 Payload:mca frame:63 protocol:14,\n",
       " ethertype:88B6 length:1496 Payload:mca frame:64 protocol:15,\n",
       " ethertype:88B6 length:1496 Payload:mca frame:65 protocol:16,\n",
       " ethertype:88B6 length:1496 Payload:mca frame:66 protocol:17,\n",
       " ethertype:88B6 length:1496 Payload:mca frame:67 protocol:18,\n",
       " ethertype:88B6 length:1496 Payload:mca frame:68 protocol:19,\n",
       " ethertype:88B6 length:1496 Payload:mca frame:69 protocol:20,\n",
       " ethertype:88B6 length:1496 Payload:mca frame:70 protocol:21,\n",
       " ethertype:88B6 length:1496 Payload:mca frame:71 protocol:22,\n",
       " ethertype:88B6 length:1496 Payload:mca frame:72 protocol:23,\n",
       " ethertype:88B6 length:1496 Payload:mca frame:73 protocol:24,\n",
       " ethertype:88B6 length:1496 Payload:mca frame:74 protocol:25,\n",
       " ethertype:88B6 length:1496 Payload:mca frame:75 protocol:26,\n",
       " ethertype:88B6 length:1496 Payload:mca frame:76 protocol:27,\n",
       " ethertype:88B6 length:1496 Payload:mca frame:77 protocol:28,\n",
       " ethertype:88B6 length:1496 Payload:mca frame:78 protocol:29,\n",
       " ethertype:88B6 length:1496 Payload:mca frame:79 protocol:30,\n",
       " ethertype:88B6 length:1496 Payload:mca frame:80 protocol:31,\n",
       " ethertype:88B6 length:1496 Payload:mca frame:81 protocol:32,\n",
       " ethertype:88B6 length:1496 Payload:mca frame:82 protocol:33,\n",
       " ethertype:88B6 length:1496 Payload:mca frame:83 protocol:34,\n",
       " ethertype:88B6 length:1496 Payload:mca frame:84 protocol:35,\n",
       " ethertype:88B6 length:1496 Payload:mca frame:85 protocol:36,\n",
       " ethertype:88B6 length:1496 Payload:mca frame:86 protocol:37,\n",
       " ethertype:88B6 length:1496 Payload:mca frame:87 protocol:38,\n",
       " ethertype:88B6 length:1496 Payload:mca frame:88 protocol:39,\n",
       " ethertype:88B6 length:1496 Payload:mca frame:89 protocol:40,\n",
       " ethertype:88B6 length:1496 Payload:mca frame:90 protocol:41,\n",
       " ethertype:88B6 length:1496 Payload:mca frame:91 protocol:42,\n",
       " ethertype:88B6 length:1496 Payload:mca frame:92 protocol:43,\n",
       " ethertype:88B6 length:832 Payload:mca frame:93 protocol:44,\n",
       " ethertype:88B6 length:1496 Payload:mca frame:94 protocol:0,\n",
       " ethertype:88B6 length:1496 Payload:mca frame:95 protocol:1,\n",
       " ethertype:88B6 length:1496 Payload:mca frame:96 protocol:2,\n",
       " ethertype:88B5 length:48 Payload:tick frame:97 protocol:4,\n",
       " ethertype:88B6 length:1496 Payload:mca frame:98 protocol:3,\n",
       " ethertype:88B6 length:1496 Payload:mca frame:99 protocol:4,\n",
       " ethertype:88B6 length:1496 Payload:mca frame:100 protocol:5,\n",
       " ethertype:88B6 length:1496 Payload:mca frame:101 protocol:6,\n",
       " ethertype:88B6 length:1496 Payload:mca frame:102 protocol:7,\n",
       " ethertype:88B6 length:1496 Payload:mca frame:103 protocol:8,\n",
       " ethertype:88B6 length:1496 Payload:mca frame:104 protocol:9,\n",
       " ethertype:88B6 length:1496 Payload:mca frame:105 protocol:10,\n",
       " ethertype:88B6 length:1496 Payload:mca frame:106 protocol:11,\n",
       " ethertype:88B6 length:1496 Payload:mca frame:107 protocol:12,\n",
       " ethertype:88B6 length:1496 Payload:mca frame:108 protocol:13,\n",
       " ethertype:88B6 length:1496 Payload:mca frame:109 protocol:14,\n",
       " ethertype:88B6 length:1496 Payload:mca frame:110 protocol:15,\n",
       " ethertype:88B6 length:1496 Payload:mca frame:111 protocol:16,\n",
       " ethertype:88B6 length:1496 Payload:mca frame:112 protocol:17,\n",
       " ethertype:88B6 length:1496 Payload:mca frame:113 protocol:18,\n",
       " ethertype:88B6 length:1496 Payload:mca frame:114 protocol:19,\n",
       " ethertype:88B6 length:1496 Payload:mca frame:115 protocol:20,\n",
       " ethertype:88B6 length:1496 Payload:mca frame:116 protocol:21,\n",
       " ethertype:88B6 length:1496 Payload:mca frame:117 protocol:22,\n",
       " ethertype:88B6 length:1496 Payload:mca frame:118 protocol:23,\n",
       " ethertype:88B6 length:1496 Payload:mca frame:119 protocol:24,\n",
       " ethertype:88B6 length:1496 Payload:mca frame:120 protocol:25,\n",
       " ethertype:88B6 length:1496 Payload:mca frame:121 protocol:26,\n",
       " ethertype:88B6 length:1496 Payload:mca frame:122 protocol:27,\n",
       " ethertype:88B6 length:1496 Payload:mca frame:123 protocol:28,\n",
       " ethertype:88B6 length:1496 Payload:mca frame:124 protocol:29,\n",
       " ethertype:88B6 length:1496 Payload:mca frame:125 protocol:30,\n",
       " ethertype:88B6 length:1496 Payload:mca frame:126 protocol:31,\n",
       " ethertype:88B6 length:1496 Payload:mca frame:127 protocol:32,\n",
       " ethertype:88B6 length:1496 Payload:mca frame:128 protocol:33,\n",
       " ethertype:88B6 length:1496 Payload:mca frame:129 protocol:34,\n",
       " ethertype:88B6 length:1496 Payload:mca frame:130 protocol:35,\n",
       " ethertype:88B6 length:1496 Payload:mca frame:131 protocol:36,\n",
       " ethertype:88B6 length:1496 Payload:mca frame:132 protocol:37,\n",
       " ethertype:88B6 length:1496 Payload:mca frame:133 protocol:38,\n",
       " ethertype:88B6 length:1496 Payload:mca frame:134 protocol:39,\n",
       " ethertype:88B6 length:1496 Payload:mca frame:135 protocol:40,\n",
       " ethertype:88B6 length:1496 Payload:mca frame:136 protocol:41]"
      ]
     },
     "execution_count": 10,
     "metadata": {},
     "output_type": "execute_result"
    }
   ],
   "source": [
    "ps.packets"
   ]
  },
  {
   "cell_type": "code",
   "execution_count": null,
   "metadata": {
    "collapsed": false
   },
   "outputs": [],
   "source": [
    "%matplotlib notebook\n",
    "for ds in d:\n",
    "    plt.step(np.arange(0,2000)/2,ds.counts[0:2000])\n",
    "#plt.savefig('distribution.svg')\n",
    "plt.show()"
   ]
  },
  {
   "cell_type": "code",
   "execution_count": null,
   "metadata": {
    "collapsed": false
   },
   "outputs": [],
   "source": [
    "pwd"
   ]
  },
  {
   "cell_type": "code",
   "execution_count": 5,
   "metadata": {
    "collapsed": true
   },
   "outputs": [],
   "source": [
    "trace_dt = np.dtype([('raw',np.int32),('filtered',np.int32),('slope',np.int32)])\n",
    "traces=sim.Data.fromfile('traces',trace_dt,'teslib','measurement_subsystem_TB')"
   ]
  },
  {
   "cell_type": "code",
   "execution_count": 6,
   "metadata": {
    "collapsed": false
   },
   "outputs": [
    {
     "data": {
      "text/plain": [
       "318464"
      ]
     },
     "execution_count": 6,
     "metadata": {},
     "output_type": "execute_result"
    }
   ],
   "source": [
    "len(traces)"
   ]
  },
  {
   "cell_type": "code",
   "execution_count": null,
   "metadata": {
    "collapsed": false
   },
   "outputs": [],
   "source": [
    "%matplotlib notebook\n",
    "t=np.arange(len(b))*4e-9*1000\n",
    "plt.plot(t,np.int16(b),'k')\n",
    "plt.xlabel('Time (ms)')\n",
    "plt.ylabel('ADC code')\n",
    "plt.savefig('raw.svg')\n",
    "plt.show()"
   ]
  },
  {
   "cell_type": "code",
   "execution_count": 7,
   "metadata": {
    "collapsed": false
   },
   "outputs": [
    {
     "data": {
      "application/javascript": [
       "/* Put everything inside the global mpl namespace */\n",
       "window.mpl = {};\n",
       "\n",
       "mpl.get_websocket_type = function() {\n",
       "    if (typeof(WebSocket) !== 'undefined') {\n",
       "        return WebSocket;\n",
       "    } else if (typeof(MozWebSocket) !== 'undefined') {\n",
       "        return MozWebSocket;\n",
       "    } else {\n",
       "        alert('Your browser does not have WebSocket support.' +\n",
       "              'Please try Chrome, Safari or Firefox ≥ 6. ' +\n",
       "              'Firefox 4 and 5 are also supported but you ' +\n",
       "              'have to enable WebSockets in about:config.');\n",
       "    };\n",
       "}\n",
       "\n",
       "mpl.figure = function(figure_id, websocket, ondownload, parent_element) {\n",
       "    this.id = figure_id;\n",
       "\n",
       "    this.ws = websocket;\n",
       "\n",
       "    this.supports_binary = (this.ws.binaryType != undefined);\n",
       "\n",
       "    if (!this.supports_binary) {\n",
       "        var warnings = document.getElementById(\"mpl-warnings\");\n",
       "        if (warnings) {\n",
       "            warnings.style.display = 'block';\n",
       "            warnings.textContent = (\n",
       "                \"This browser does not support binary websocket messages. \" +\n",
       "                    \"Performance may be slow.\");\n",
       "        }\n",
       "    }\n",
       "\n",
       "    this.imageObj = new Image();\n",
       "\n",
       "    this.context = undefined;\n",
       "    this.message = undefined;\n",
       "    this.canvas = undefined;\n",
       "    this.rubberband_canvas = undefined;\n",
       "    this.rubberband_context = undefined;\n",
       "    this.format_dropdown = undefined;\n",
       "\n",
       "    this.image_mode = 'full';\n",
       "\n",
       "    this.root = $('<div/>');\n",
       "    this._root_extra_style(this.root)\n",
       "    this.root.attr('style', 'display: inline-block');\n",
       "\n",
       "    $(parent_element).append(this.root);\n",
       "\n",
       "    this._init_header(this);\n",
       "    this._init_canvas(this);\n",
       "    this._init_toolbar(this);\n",
       "\n",
       "    var fig = this;\n",
       "\n",
       "    this.waiting = false;\n",
       "\n",
       "    this.ws.onopen =  function () {\n",
       "            fig.send_message(\"supports_binary\", {value: fig.supports_binary});\n",
       "            fig.send_message(\"send_image_mode\", {});\n",
       "            fig.send_message(\"refresh\", {});\n",
       "        }\n",
       "\n",
       "    this.imageObj.onload = function() {\n",
       "            if (fig.image_mode == 'full') {\n",
       "                // Full images could contain transparency (where diff images\n",
       "                // almost always do), so we need to clear the canvas so that\n",
       "                // there is no ghosting.\n",
       "                fig.context.clearRect(0, 0, fig.canvas.width, fig.canvas.height);\n",
       "            }\n",
       "            fig.context.drawImage(fig.imageObj, 0, 0);\n",
       "        };\n",
       "\n",
       "    this.imageObj.onunload = function() {\n",
       "        this.ws.close();\n",
       "    }\n",
       "\n",
       "    this.ws.onmessage = this._make_on_message_function(this);\n",
       "\n",
       "    this.ondownload = ondownload;\n",
       "}\n",
       "\n",
       "mpl.figure.prototype._init_header = function() {\n",
       "    var titlebar = $(\n",
       "        '<div class=\"ui-dialog-titlebar ui-widget-header ui-corner-all ' +\n",
       "        'ui-helper-clearfix\"/>');\n",
       "    var titletext = $(\n",
       "        '<div class=\"ui-dialog-title\" style=\"width: 100%; ' +\n",
       "        'text-align: center; padding: 3px;\"/>');\n",
       "    titlebar.append(titletext)\n",
       "    this.root.append(titlebar);\n",
       "    this.header = titletext[0];\n",
       "}\n",
       "\n",
       "\n",
       "\n",
       "mpl.figure.prototype._canvas_extra_style = function(canvas_div) {\n",
       "\n",
       "}\n",
       "\n",
       "\n",
       "mpl.figure.prototype._root_extra_style = function(canvas_div) {\n",
       "\n",
       "}\n",
       "\n",
       "mpl.figure.prototype._init_canvas = function() {\n",
       "    var fig = this;\n",
       "\n",
       "    var canvas_div = $('<div/>');\n",
       "\n",
       "    canvas_div.attr('style', 'position: relative; clear: both; outline: 0');\n",
       "\n",
       "    function canvas_keyboard_event(event) {\n",
       "        return fig.key_event(event, event['data']);\n",
       "    }\n",
       "\n",
       "    canvas_div.keydown('key_press', canvas_keyboard_event);\n",
       "    canvas_div.keyup('key_release', canvas_keyboard_event);\n",
       "    this.canvas_div = canvas_div\n",
       "    this._canvas_extra_style(canvas_div)\n",
       "    this.root.append(canvas_div);\n",
       "\n",
       "    var canvas = $('<canvas/>');\n",
       "    canvas.addClass('mpl-canvas');\n",
       "    canvas.attr('style', \"left: 0; top: 0; z-index: 0; outline: 0\")\n",
       "\n",
       "    this.canvas = canvas[0];\n",
       "    this.context = canvas[0].getContext(\"2d\");\n",
       "\n",
       "    var rubberband = $('<canvas/>');\n",
       "    rubberband.attr('style', \"position: absolute; left: 0; top: 0; z-index: 1;\")\n",
       "\n",
       "    var pass_mouse_events = true;\n",
       "\n",
       "    canvas_div.resizable({\n",
       "        start: function(event, ui) {\n",
       "            pass_mouse_events = false;\n",
       "        },\n",
       "        resize: function(event, ui) {\n",
       "            fig.request_resize(ui.size.width, ui.size.height);\n",
       "        },\n",
       "        stop: function(event, ui) {\n",
       "            pass_mouse_events = true;\n",
       "            fig.request_resize(ui.size.width, ui.size.height);\n",
       "        },\n",
       "    });\n",
       "\n",
       "    function mouse_event_fn(event) {\n",
       "        if (pass_mouse_events)\n",
       "            return fig.mouse_event(event, event['data']);\n",
       "    }\n",
       "\n",
       "    rubberband.mousedown('button_press', mouse_event_fn);\n",
       "    rubberband.mouseup('button_release', mouse_event_fn);\n",
       "    // Throttle sequential mouse events to 1 every 20ms.\n",
       "    rubberband.mousemove('motion_notify', mouse_event_fn);\n",
       "\n",
       "    rubberband.mouseenter('figure_enter', mouse_event_fn);\n",
       "    rubberband.mouseleave('figure_leave', mouse_event_fn);\n",
       "\n",
       "    canvas_div.on(\"wheel\", function (event) {\n",
       "        event = event.originalEvent;\n",
       "        event['data'] = 'scroll'\n",
       "        if (event.deltaY < 0) {\n",
       "            event.step = 1;\n",
       "        } else {\n",
       "            event.step = -1;\n",
       "        }\n",
       "        mouse_event_fn(event);\n",
       "    });\n",
       "\n",
       "    canvas_div.append(canvas);\n",
       "    canvas_div.append(rubberband);\n",
       "\n",
       "    this.rubberband = rubberband;\n",
       "    this.rubberband_canvas = rubberband[0];\n",
       "    this.rubberband_context = rubberband[0].getContext(\"2d\");\n",
       "    this.rubberband_context.strokeStyle = \"#000000\";\n",
       "\n",
       "    this._resize_canvas = function(width, height) {\n",
       "        // Keep the size of the canvas, canvas container, and rubber band\n",
       "        // canvas in synch.\n",
       "        canvas_div.css('width', width)\n",
       "        canvas_div.css('height', height)\n",
       "\n",
       "        canvas.attr('width', width);\n",
       "        canvas.attr('height', height);\n",
       "\n",
       "        rubberband.attr('width', width);\n",
       "        rubberband.attr('height', height);\n",
       "    }\n",
       "\n",
       "    // Set the figure to an initial 600x600px, this will subsequently be updated\n",
       "    // upon first draw.\n",
       "    this._resize_canvas(600, 600);\n",
       "\n",
       "    // Disable right mouse context menu.\n",
       "    $(this.rubberband_canvas).bind(\"contextmenu\",function(e){\n",
       "        return false;\n",
       "    });\n",
       "\n",
       "    function set_focus () {\n",
       "        canvas.focus();\n",
       "        canvas_div.focus();\n",
       "    }\n",
       "\n",
       "    window.setTimeout(set_focus, 100);\n",
       "}\n",
       "\n",
       "mpl.figure.prototype._init_toolbar = function() {\n",
       "    var fig = this;\n",
       "\n",
       "    var nav_element = $('<div/>')\n",
       "    nav_element.attr('style', 'width: 100%');\n",
       "    this.root.append(nav_element);\n",
       "\n",
       "    // Define a callback function for later on.\n",
       "    function toolbar_event(event) {\n",
       "        return fig.toolbar_button_onclick(event['data']);\n",
       "    }\n",
       "    function toolbar_mouse_event(event) {\n",
       "        return fig.toolbar_button_onmouseover(event['data']);\n",
       "    }\n",
       "\n",
       "    for(var toolbar_ind in mpl.toolbar_items) {\n",
       "        var name = mpl.toolbar_items[toolbar_ind][0];\n",
       "        var tooltip = mpl.toolbar_items[toolbar_ind][1];\n",
       "        var image = mpl.toolbar_items[toolbar_ind][2];\n",
       "        var method_name = mpl.toolbar_items[toolbar_ind][3];\n",
       "\n",
       "        if (!name) {\n",
       "            // put a spacer in here.\n",
       "            continue;\n",
       "        }\n",
       "        var button = $('<button/>');\n",
       "        button.addClass('ui-button ui-widget ui-state-default ui-corner-all ' +\n",
       "                        'ui-button-icon-only');\n",
       "        button.attr('role', 'button');\n",
       "        button.attr('aria-disabled', 'false');\n",
       "        button.click(method_name, toolbar_event);\n",
       "        button.mouseover(tooltip, toolbar_mouse_event);\n",
       "\n",
       "        var icon_img = $('<span/>');\n",
       "        icon_img.addClass('ui-button-icon-primary ui-icon');\n",
       "        icon_img.addClass(image);\n",
       "        icon_img.addClass('ui-corner-all');\n",
       "\n",
       "        var tooltip_span = $('<span/>');\n",
       "        tooltip_span.addClass('ui-button-text');\n",
       "        tooltip_span.html(tooltip);\n",
       "\n",
       "        button.append(icon_img);\n",
       "        button.append(tooltip_span);\n",
       "\n",
       "        nav_element.append(button);\n",
       "    }\n",
       "\n",
       "    var fmt_picker_span = $('<span/>');\n",
       "\n",
       "    var fmt_picker = $('<select/>');\n",
       "    fmt_picker.addClass('mpl-toolbar-option ui-widget ui-widget-content');\n",
       "    fmt_picker_span.append(fmt_picker);\n",
       "    nav_element.append(fmt_picker_span);\n",
       "    this.format_dropdown = fmt_picker[0];\n",
       "\n",
       "    for (var ind in mpl.extensions) {\n",
       "        var fmt = mpl.extensions[ind];\n",
       "        var option = $(\n",
       "            '<option/>', {selected: fmt === mpl.default_extension}).html(fmt);\n",
       "        fmt_picker.append(option)\n",
       "    }\n",
       "\n",
       "    // Add hover states to the ui-buttons\n",
       "    $( \".ui-button\" ).hover(\n",
       "        function() { $(this).addClass(\"ui-state-hover\");},\n",
       "        function() { $(this).removeClass(\"ui-state-hover\");}\n",
       "    );\n",
       "\n",
       "    var status_bar = $('<span class=\"mpl-message\"/>');\n",
       "    nav_element.append(status_bar);\n",
       "    this.message = status_bar[0];\n",
       "}\n",
       "\n",
       "mpl.figure.prototype.request_resize = function(x_pixels, y_pixels) {\n",
       "    // Request matplotlib to resize the figure. Matplotlib will then trigger a resize in the client,\n",
       "    // which will in turn request a refresh of the image.\n",
       "    this.send_message('resize', {'width': x_pixels, 'height': y_pixels});\n",
       "}\n",
       "\n",
       "mpl.figure.prototype.send_message = function(type, properties) {\n",
       "    properties['type'] = type;\n",
       "    properties['figure_id'] = this.id;\n",
       "    this.ws.send(JSON.stringify(properties));\n",
       "}\n",
       "\n",
       "mpl.figure.prototype.send_draw_message = function() {\n",
       "    if (!this.waiting) {\n",
       "        this.waiting = true;\n",
       "        this.ws.send(JSON.stringify({type: \"draw\", figure_id: this.id}));\n",
       "    }\n",
       "}\n",
       "\n",
       "\n",
       "mpl.figure.prototype.handle_save = function(fig, msg) {\n",
       "    var format_dropdown = fig.format_dropdown;\n",
       "    var format = format_dropdown.options[format_dropdown.selectedIndex].value;\n",
       "    fig.ondownload(fig, format);\n",
       "}\n",
       "\n",
       "\n",
       "mpl.figure.prototype.handle_resize = function(fig, msg) {\n",
       "    var size = msg['size'];\n",
       "    if (size[0] != fig.canvas.width || size[1] != fig.canvas.height) {\n",
       "        fig._resize_canvas(size[0], size[1]);\n",
       "        fig.send_message(\"refresh\", {});\n",
       "    };\n",
       "}\n",
       "\n",
       "mpl.figure.prototype.handle_rubberband = function(fig, msg) {\n",
       "    var x0 = msg['x0'];\n",
       "    var y0 = fig.canvas.height - msg['y0'];\n",
       "    var x1 = msg['x1'];\n",
       "    var y1 = fig.canvas.height - msg['y1'];\n",
       "    x0 = Math.floor(x0) + 0.5;\n",
       "    y0 = Math.floor(y0) + 0.5;\n",
       "    x1 = Math.floor(x1) + 0.5;\n",
       "    y1 = Math.floor(y1) + 0.5;\n",
       "    var min_x = Math.min(x0, x1);\n",
       "    var min_y = Math.min(y0, y1);\n",
       "    var width = Math.abs(x1 - x0);\n",
       "    var height = Math.abs(y1 - y0);\n",
       "\n",
       "    fig.rubberband_context.clearRect(\n",
       "        0, 0, fig.canvas.width, fig.canvas.height);\n",
       "\n",
       "    fig.rubberband_context.strokeRect(min_x, min_y, width, height);\n",
       "}\n",
       "\n",
       "mpl.figure.prototype.handle_figure_label = function(fig, msg) {\n",
       "    // Updates the figure title.\n",
       "    fig.header.textContent = msg['label'];\n",
       "}\n",
       "\n",
       "mpl.figure.prototype.handle_cursor = function(fig, msg) {\n",
       "    var cursor = msg['cursor'];\n",
       "    switch(cursor)\n",
       "    {\n",
       "    case 0:\n",
       "        cursor = 'pointer';\n",
       "        break;\n",
       "    case 1:\n",
       "        cursor = 'default';\n",
       "        break;\n",
       "    case 2:\n",
       "        cursor = 'crosshair';\n",
       "        break;\n",
       "    case 3:\n",
       "        cursor = 'move';\n",
       "        break;\n",
       "    }\n",
       "    fig.rubberband_canvas.style.cursor = cursor;\n",
       "}\n",
       "\n",
       "mpl.figure.prototype.handle_message = function(fig, msg) {\n",
       "    fig.message.textContent = msg['message'];\n",
       "}\n",
       "\n",
       "mpl.figure.prototype.handle_draw = function(fig, msg) {\n",
       "    // Request the server to send over a new figure.\n",
       "    fig.send_draw_message();\n",
       "}\n",
       "\n",
       "mpl.figure.prototype.handle_image_mode = function(fig, msg) {\n",
       "    fig.image_mode = msg['mode'];\n",
       "}\n",
       "\n",
       "mpl.figure.prototype.updated_canvas_event = function() {\n",
       "    // Called whenever the canvas gets updated.\n",
       "    this.send_message(\"ack\", {});\n",
       "}\n",
       "\n",
       "// A function to construct a web socket function for onmessage handling.\n",
       "// Called in the figure constructor.\n",
       "mpl.figure.prototype._make_on_message_function = function(fig) {\n",
       "    return function socket_on_message(evt) {\n",
       "        if (evt.data instanceof Blob) {\n",
       "            /* FIXME: We get \"Resource interpreted as Image but\n",
       "             * transferred with MIME type text/plain:\" errors on\n",
       "             * Chrome.  But how to set the MIME type?  It doesn't seem\n",
       "             * to be part of the websocket stream */\n",
       "            evt.data.type = \"image/png\";\n",
       "\n",
       "            /* Free the memory for the previous frames */\n",
       "            if (fig.imageObj.src) {\n",
       "                (window.URL || window.webkitURL).revokeObjectURL(\n",
       "                    fig.imageObj.src);\n",
       "            }\n",
       "\n",
       "            fig.imageObj.src = (window.URL || window.webkitURL).createObjectURL(\n",
       "                evt.data);\n",
       "            fig.updated_canvas_event();\n",
       "            fig.waiting = false;\n",
       "            return;\n",
       "        }\n",
       "        else if (typeof evt.data === 'string' && evt.data.slice(0, 21) == \"data:image/png;base64\") {\n",
       "            fig.imageObj.src = evt.data;\n",
       "            fig.updated_canvas_event();\n",
       "            fig.waiting = false;\n",
       "            return;\n",
       "        }\n",
       "\n",
       "        var msg = JSON.parse(evt.data);\n",
       "        var msg_type = msg['type'];\n",
       "\n",
       "        // Call the  \"handle_{type}\" callback, which takes\n",
       "        // the figure and JSON message as its only arguments.\n",
       "        try {\n",
       "            var callback = fig[\"handle_\" + msg_type];\n",
       "        } catch (e) {\n",
       "            console.log(\"No handler for the '\" + msg_type + \"' message type: \", msg);\n",
       "            return;\n",
       "        }\n",
       "\n",
       "        if (callback) {\n",
       "            try {\n",
       "                // console.log(\"Handling '\" + msg_type + \"' message: \", msg);\n",
       "                callback(fig, msg);\n",
       "            } catch (e) {\n",
       "                console.log(\"Exception inside the 'handler_\" + msg_type + \"' callback:\", e, e.stack, msg);\n",
       "            }\n",
       "        }\n",
       "    };\n",
       "}\n",
       "\n",
       "// from http://stackoverflow.com/questions/1114465/getting-mouse-location-in-canvas\n",
       "mpl.findpos = function(e) {\n",
       "    //this section is from http://www.quirksmode.org/js/events_properties.html\n",
       "    var targ;\n",
       "    if (!e)\n",
       "        e = window.event;\n",
       "    if (e.target)\n",
       "        targ = e.target;\n",
       "    else if (e.srcElement)\n",
       "        targ = e.srcElement;\n",
       "    if (targ.nodeType == 3) // defeat Safari bug\n",
       "        targ = targ.parentNode;\n",
       "\n",
       "    // jQuery normalizes the pageX and pageY\n",
       "    // pageX,Y are the mouse positions relative to the document\n",
       "    // offset() returns the position of the element relative to the document\n",
       "    var x = e.pageX - $(targ).offset().left;\n",
       "    var y = e.pageY - $(targ).offset().top;\n",
       "\n",
       "    return {\"x\": x, \"y\": y};\n",
       "};\n",
       "\n",
       "/*\n",
       " * return a copy of an object with only non-object keys\n",
       " * we need this to avoid circular references\n",
       " * http://stackoverflow.com/a/24161582/3208463\n",
       " */\n",
       "function simpleKeys (original) {\n",
       "  return Object.keys(original).reduce(function (obj, key) {\n",
       "    if (typeof original[key] !== 'object')\n",
       "        obj[key] = original[key]\n",
       "    return obj;\n",
       "  }, {});\n",
       "}\n",
       "\n",
       "mpl.figure.prototype.mouse_event = function(event, name) {\n",
       "    var canvas_pos = mpl.findpos(event)\n",
       "\n",
       "    if (name === 'button_press')\n",
       "    {\n",
       "        this.canvas.focus();\n",
       "        this.canvas_div.focus();\n",
       "    }\n",
       "\n",
       "    var x = canvas_pos.x;\n",
       "    var y = canvas_pos.y;\n",
       "\n",
       "    this.send_message(name, {x: x, y: y, button: event.button,\n",
       "                             step: event.step,\n",
       "                             guiEvent: simpleKeys(event)});\n",
       "\n",
       "    /* This prevents the web browser from automatically changing to\n",
       "     * the text insertion cursor when the button is pressed.  We want\n",
       "     * to control all of the cursor setting manually through the\n",
       "     * 'cursor' event from matplotlib */\n",
       "    event.preventDefault();\n",
       "    return false;\n",
       "}\n",
       "\n",
       "mpl.figure.prototype._key_event_extra = function(event, name) {\n",
       "    // Handle any extra behaviour associated with a key event\n",
       "}\n",
       "\n",
       "mpl.figure.prototype.key_event = function(event, name) {\n",
       "\n",
       "    // Prevent repeat events\n",
       "    if (name == 'key_press')\n",
       "    {\n",
       "        if (event.which === this._key)\n",
       "            return;\n",
       "        else\n",
       "            this._key = event.which;\n",
       "    }\n",
       "    if (name == 'key_release')\n",
       "        this._key = null;\n",
       "\n",
       "    var value = '';\n",
       "    if (event.ctrlKey && event.which != 17)\n",
       "        value += \"ctrl+\";\n",
       "    if (event.altKey && event.which != 18)\n",
       "        value += \"alt+\";\n",
       "    if (event.shiftKey && event.which != 16)\n",
       "        value += \"shift+\";\n",
       "\n",
       "    value += 'k';\n",
       "    value += event.which.toString();\n",
       "\n",
       "    this._key_event_extra(event, name);\n",
       "\n",
       "    this.send_message(name, {key: value,\n",
       "                             guiEvent: simpleKeys(event)});\n",
       "    return false;\n",
       "}\n",
       "\n",
       "mpl.figure.prototype.toolbar_button_onclick = function(name) {\n",
       "    if (name == 'download') {\n",
       "        this.handle_save(this, null);\n",
       "    } else {\n",
       "        this.send_message(\"toolbar_button\", {name: name});\n",
       "    }\n",
       "};\n",
       "\n",
       "mpl.figure.prototype.toolbar_button_onmouseover = function(tooltip) {\n",
       "    this.message.textContent = tooltip;\n",
       "};\n",
       "mpl.toolbar_items = [[\"Home\", \"Reset original view\", \"fa fa-home icon-home\", \"home\"], [\"Back\", \"Back to  previous view\", \"fa fa-arrow-left icon-arrow-left\", \"back\"], [\"Forward\", \"Forward to next view\", \"fa fa-arrow-right icon-arrow-right\", \"forward\"], [\"\", \"\", \"\", \"\"], [\"Pan\", \"Pan axes with left mouse, zoom with right\", \"fa fa-arrows icon-move\", \"pan\"], [\"Zoom\", \"Zoom to rectangle\", \"fa fa-square-o icon-check-empty\", \"zoom\"], [\"\", \"\", \"\", \"\"], [\"Download\", \"Download plot\", \"fa fa-floppy-o icon-save\", \"download\"]];\n",
       "\n",
       "mpl.extensions = [\"eps\", \"pdf\", \"png\", \"ps\", \"raw\", \"svg\"];\n",
       "\n",
       "mpl.default_extension = \"png\";var comm_websocket_adapter = function(comm) {\n",
       "    // Create a \"websocket\"-like object which calls the given IPython comm\n",
       "    // object with the appropriate methods. Currently this is a non binary\n",
       "    // socket, so there is still some room for performance tuning.\n",
       "    var ws = {};\n",
       "\n",
       "    ws.close = function() {\n",
       "        comm.close()\n",
       "    };\n",
       "    ws.send = function(m) {\n",
       "        //console.log('sending', m);\n",
       "        comm.send(m);\n",
       "    };\n",
       "    // Register the callback with on_msg.\n",
       "    comm.on_msg(function(msg) {\n",
       "        //console.log('receiving', msg['content']['data'], msg);\n",
       "        // Pass the mpl event to the overriden (by mpl) onmessage function.\n",
       "        ws.onmessage(msg['content']['data'])\n",
       "    });\n",
       "    return ws;\n",
       "}\n",
       "\n",
       "mpl.mpl_figure_comm = function(comm, msg) {\n",
       "    // This is the function which gets called when the mpl process\n",
       "    // starts-up an IPython Comm through the \"matplotlib\" channel.\n",
       "\n",
       "    var id = msg.content.data.id;\n",
       "    // Get hold of the div created by the display call when the Comm\n",
       "    // socket was opened in Python.\n",
       "    var element = $(\"#\" + id);\n",
       "    var ws_proxy = comm_websocket_adapter(comm)\n",
       "\n",
       "    function ondownload(figure, format) {\n",
       "        window.open(figure.imageObj.src);\n",
       "    }\n",
       "\n",
       "    var fig = new mpl.figure(id, ws_proxy,\n",
       "                           ondownload,\n",
       "                           element.get(0));\n",
       "\n",
       "    // Call onopen now - mpl needs it, as it is assuming we've passed it a real\n",
       "    // web socket which is closed, not our websocket->open comm proxy.\n",
       "    ws_proxy.onopen();\n",
       "\n",
       "    fig.parent_element = element.get(0);\n",
       "    fig.cell_info = mpl.find_output_cell(\"<div id='\" + id + \"'></div>\");\n",
       "    if (!fig.cell_info) {\n",
       "        console.error(\"Failed to find cell for figure\", id, fig);\n",
       "        return;\n",
       "    }\n",
       "\n",
       "    var output_index = fig.cell_info[2]\n",
       "    var cell = fig.cell_info[0];\n",
       "\n",
       "};\n",
       "\n",
       "mpl.figure.prototype.handle_close = function(fig, msg) {\n",
       "    fig.root.unbind('remove')\n",
       "\n",
       "    // Update the output cell to use the data from the current canvas.\n",
       "    fig.push_to_output();\n",
       "    var dataURL = fig.canvas.toDataURL();\n",
       "    // Re-enable the keyboard manager in IPython - without this line, in FF,\n",
       "    // the notebook keyboard shortcuts fail.\n",
       "    IPython.keyboard_manager.enable()\n",
       "    $(fig.parent_element).html('<img src=\"' + dataURL + '\">');\n",
       "    fig.close_ws(fig, msg);\n",
       "}\n",
       "\n",
       "mpl.figure.prototype.close_ws = function(fig, msg){\n",
       "    fig.send_message('closing', msg);\n",
       "    // fig.ws.close()\n",
       "}\n",
       "\n",
       "mpl.figure.prototype.push_to_output = function(remove_interactive) {\n",
       "    // Turn the data on the canvas into data in the output cell.\n",
       "    var dataURL = this.canvas.toDataURL();\n",
       "    this.cell_info[1]['text/html'] = '<img src=\"' + dataURL + '\">';\n",
       "}\n",
       "\n",
       "mpl.figure.prototype.updated_canvas_event = function() {\n",
       "    // Tell IPython that the notebook contents must change.\n",
       "    IPython.notebook.set_dirty(true);\n",
       "    this.send_message(\"ack\", {});\n",
       "    var fig = this;\n",
       "    // Wait a second, then push the new image to the DOM so\n",
       "    // that it is saved nicely (might be nice to debounce this).\n",
       "    setTimeout(function () { fig.push_to_output() }, 1000);\n",
       "}\n",
       "\n",
       "mpl.figure.prototype._init_toolbar = function() {\n",
       "    var fig = this;\n",
       "\n",
       "    var nav_element = $('<div/>')\n",
       "    nav_element.attr('style', 'width: 100%');\n",
       "    this.root.append(nav_element);\n",
       "\n",
       "    // Define a callback function for later on.\n",
       "    function toolbar_event(event) {\n",
       "        return fig.toolbar_button_onclick(event['data']);\n",
       "    }\n",
       "    function toolbar_mouse_event(event) {\n",
       "        return fig.toolbar_button_onmouseover(event['data']);\n",
       "    }\n",
       "\n",
       "    for(var toolbar_ind in mpl.toolbar_items){\n",
       "        var name = mpl.toolbar_items[toolbar_ind][0];\n",
       "        var tooltip = mpl.toolbar_items[toolbar_ind][1];\n",
       "        var image = mpl.toolbar_items[toolbar_ind][2];\n",
       "        var method_name = mpl.toolbar_items[toolbar_ind][3];\n",
       "\n",
       "        if (!name) { continue; };\n",
       "\n",
       "        var button = $('<button class=\"btn btn-default\" href=\"#\" title=\"' + name + '\"><i class=\"fa ' + image + ' fa-lg\"></i></button>');\n",
       "        button.click(method_name, toolbar_event);\n",
       "        button.mouseover(tooltip, toolbar_mouse_event);\n",
       "        nav_element.append(button);\n",
       "    }\n",
       "\n",
       "    // Add the status bar.\n",
       "    var status_bar = $('<span class=\"mpl-message\" style=\"text-align:right; float: right;\"/>');\n",
       "    nav_element.append(status_bar);\n",
       "    this.message = status_bar[0];\n",
       "\n",
       "    // Add the close button to the window.\n",
       "    var buttongrp = $('<div class=\"btn-group inline pull-right\"></div>');\n",
       "    var button = $('<button class=\"btn btn-mini btn-primary\" href=\"#\" title=\"Stop Interaction\"><i class=\"fa fa-power-off icon-remove icon-large\"></i></button>');\n",
       "    button.click(function (evt) { fig.handle_close(fig, {}); } );\n",
       "    button.mouseover('Stop Interaction', toolbar_mouse_event);\n",
       "    buttongrp.append(button);\n",
       "    var titlebar = this.root.find($('.ui-dialog-titlebar'));\n",
       "    titlebar.prepend(buttongrp);\n",
       "}\n",
       "\n",
       "mpl.figure.prototype._root_extra_style = function(el){\n",
       "    var fig = this\n",
       "    el.on(\"remove\", function(){\n",
       "\tfig.close_ws(fig, {});\n",
       "    });\n",
       "}\n",
       "\n",
       "mpl.figure.prototype._canvas_extra_style = function(el){\n",
       "    // this is important to make the div 'focusable\n",
       "    el.attr('tabindex', 0)\n",
       "    // reach out to IPython and tell the keyboard manager to turn it's self\n",
       "    // off when our div gets focus\n",
       "\n",
       "    // location in version 3\n",
       "    if (IPython.notebook.keyboard_manager) {\n",
       "        IPython.notebook.keyboard_manager.register_events(el);\n",
       "    }\n",
       "    else {\n",
       "        // location in version 2\n",
       "        IPython.keyboard_manager.register_events(el);\n",
       "    }\n",
       "\n",
       "}\n",
       "\n",
       "mpl.figure.prototype._key_event_extra = function(event, name) {\n",
       "    var manager = IPython.notebook.keyboard_manager;\n",
       "    if (!manager)\n",
       "        manager = IPython.keyboard_manager;\n",
       "\n",
       "    // Check for shift+enter\n",
       "    if (event.shiftKey && event.which == 13) {\n",
       "        this.canvas_div.blur();\n",
       "        event.shiftKey = false;\n",
       "        // Send a \"J\" for go to next cell\n",
       "        event.which = 74;\n",
       "        event.keyCode = 74;\n",
       "        manager.command_mode();\n",
       "        manager.handle_keydown(event);\n",
       "    }\n",
       "}\n",
       "\n",
       "mpl.figure.prototype.handle_save = function(fig, msg) {\n",
       "    fig.ondownload(fig, null);\n",
       "}\n",
       "\n",
       "\n",
       "mpl.find_output_cell = function(html_output) {\n",
       "    // Return the cell and output element which can be found *uniquely* in the notebook.\n",
       "    // Note - this is a bit hacky, but it is done because the \"notebook_saving.Notebook\"\n",
       "    // IPython event is triggered only after the cells have been serialised, which for\n",
       "    // our purposes (turning an active figure into a static one), is too late.\n",
       "    var cells = IPython.notebook.get_cells();\n",
       "    var ncells = cells.length;\n",
       "    for (var i=0; i<ncells; i++) {\n",
       "        var cell = cells[i];\n",
       "        if (cell.cell_type === 'code'){\n",
       "            for (var j=0; j<cell.output_area.outputs.length; j++) {\n",
       "                var data = cell.output_area.outputs[j];\n",
       "                if (data.data) {\n",
       "                    // IPython >= 3 moved mimebundle to data attribute of output\n",
       "                    data = data.data;\n",
       "                }\n",
       "                if (data['text/html'] == html_output) {\n",
       "                    return [cell, data, j];\n",
       "                }\n",
       "            }\n",
       "        }\n",
       "    }\n",
       "}\n",
       "\n",
       "// Register the function which deals with the matplotlib target/channel.\n",
       "// The kernel may be null if the page has been refreshed.\n",
       "if (IPython.notebook.kernel != null) {\n",
       "    IPython.notebook.kernel.comm_manager.register_target('matplotlib', mpl.mpl_figure_comm);\n",
       "}\n"
      ],
      "text/plain": [
       "<IPython.core.display.Javascript object>"
      ]
     },
     "metadata": {},
     "output_type": "display_data"
    },
    {
     "data": {
      "text/html": [
       "<img src=\"data:image/png;base64,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\">"
      ],
      "text/plain": [
       "<IPython.core.display.HTML object>"
      ]
     },
     "metadata": {},
     "output_type": "display_data"
    }
   ],
   "source": [
    "%matplotlib notebook\n",
    "start=468000\n",
    "stop=472000\n",
    "plt.plot(traces['slope']/256,'k')\n",
    "#plt.plot(traces['filtered'],'r',lw=2)\n",
    "plt.show()\n",
    "plt.savefig('baselinecorrected.svg')"
   ]
  },
  {
   "cell_type": "code",
   "execution_count": null,
   "metadata": {
    "collapsed": false
   },
   "outputs": [],
   "source": [
    "2**16*4e-9"
   ]
  },
  {
   "cell_type": "code",
   "execution_count": null,
   "metadata": {
    "collapsed": false,
    "scrolled": false
   },
   "outputs": [],
   "source": [
    "ps.packets"
   ]
  },
  {
   "cell_type": "code",
   "execution_count": null,
   "metadata": {
    "collapsed": false
   },
   "outputs": [],
   "source": [
    "len(ps.packets[8].bytes)"
   ]
  },
  {
   "cell_type": "code",
   "execution_count": null,
   "metadata": {
    "collapsed": false
   },
   "outputs": [],
   "source": [
    "lasts"
   ]
  },
  {
   "cell_type": "code",
   "execution_count": null,
   "metadata": {
    "collapsed": false
   },
   "outputs": [],
   "source": [
    "packets[0]"
   ]
  },
  {
   "cell_type": "code",
   "execution_count": null,
   "metadata": {
    "collapsed": false
   },
   "outputs": [],
   "source": [
    "bytestream['data'].dtype==np.uint32"
   ]
  },
  {
   "cell_type": "code",
   "execution_count": null,
   "metadata": {
    "collapsed": false
   },
   "outputs": [],
   "source": [
    "lasts = bytestream['last'].nonzero()[0] + 1\n",
    "bpdt=np.dtype([('data',np.uint8),('pad',np.uint8,(3,))])\n",
    "byte_data=bytestream['data'].view(bpdt)['data'].astype(np.uint8,copy=True)[0:lasts[-1]]\n"
   ]
  },
  {
   "cell_type": "code",
   "execution_count": null,
   "metadata": {
    "collapsed": false
   },
   "outputs": [],
   "source": [
    "'{:d}'.format(byte_data[14:16].view(np.uint16)[0])"
   ]
  },
  {
   "cell_type": "code",
   "execution_count": null,
   "metadata": {
    "collapsed": false
   },
   "outputs": [],
   "source": [
    "lasts = bytestream['last'].nonzero()[0] + 1\n",
    "lasts"
   ]
  },
  {
   "cell_type": "code",
   "execution_count": null,
   "metadata": {
    "collapsed": false
   },
   "outputs": [],
   "source": [
    "lasts[-1]"
   ]
  },
  {
   "cell_type": "code",
   "execution_count": null,
   "metadata": {
    "collapsed": false
   },
   "outputs": [],
   "source": [
    "data=Data(fileset, 2, 'teslib','measurement_subsystem_TB')\n",
    "enet=PacketStream(data.byte_stream)\n",
    "dists=enet.distributions"
   ]
  },
  {
   "cell_type": "code",
   "execution_count": null,
   "metadata": {
    "collapsed": false
   },
   "outputs": [],
   "source": []
  },
  {
   "cell_type": "code",
   "execution_count": null,
   "metadata": {
    "collapsed": false
   },
   "outputs": [],
   "source": [
    "# compare transmitted distributions with the data\n",
    "failed=False\n",
    "if dists == []:\n",
    "    print('No distributions')\n",
    "else:\n",
    "    for dist in dists:\n",
    "        dif = (dist.counts - dist.data_counts(data))[0].nonzero()\n",
    "        if dif[0].size:\n",
    "            print(\n",
    "                '{:}\\nDoes not reconcile with the data, '+\n",
    "                'Differences at {:d} indexs:\\n{:}\\n'.format(\n",
    "                    dist, dif[0].size, dif[0])\n",
    "            )\n",
    "            failed=True\n",
    "    if not failed:\n",
    "        print('Distributions agree with data')\n",
    "    \n"
   ]
  },
  {
   "cell_type": "markdown",
   "metadata": {},
   "source": [
    " ## work area"
   ]
  },
  {
   "cell_type": "code",
   "execution_count": null,
   "metadata": {
    "collapsed": false,
    "scrolled": false
   },
   "outputs": [],
   "source": [
    "enet.packets"
   ]
  },
  {
   "cell_type": "code",
   "execution_count": null,
   "metadata": {
    "collapsed": false
   },
   "outputs": [],
   "source": [
    "data.byte_stream"
   ]
  },
  {
   "cell_type": "code",
   "execution_count": null,
   "metadata": {
    "collapsed": false,
    "scrolled": false
   },
   "outputs": [],
   "source": [
    "%matplotlib notebook\n",
    "plt.plot(data.trace[0]['raw'],'b',lw=0.5)\n",
    "plt.plot(data.trace[0]['filtered'],'r',lw=1.5)"
   ]
  },
  {
   "cell_type": "code",
   "execution_count": null,
   "metadata": {
    "collapsed": false
   },
   "outputs": [],
   "source": [
    "enet.packets[4].payload[40:].view(np.uint32).size"
   ]
  },
  {
   "cell_type": "code",
   "execution_count": null,
   "metadata": {
    "collapsed": false
   },
   "outputs": [],
   "source": [
    "enet.packets[4].length"
   ]
  },
  {
   "cell_type": "code",
   "execution_count": null,
   "metadata": {
    "collapsed": false
   },
   "outputs": [],
   "source": [
    "dist=dists[1]\n",
    "c=check_distribution(dist,data)\n",
    "(c-dist.counts).nonzero()[0].size"
   ]
  },
  {
   "cell_type": "code",
   "execution_count": null,
   "metadata": {
    "collapsed": false
   },
   "outputs": [],
   "source": [
    "start=dist.start_time\n",
    "stop=dist.stop_time+np.uint64(1)\n",
    "s=data.slice((start, stop))\n",
    "f = s.trace[dist.channel]['filtered']\n",
    "fd = data.trace[dist.channel]['filtered'][start:stop]\n",
    "(f-fd).nonzero()"
   ]
  },
  {
   "cell_type": "code",
   "execution_count": null,
   "metadata": {
    "collapsed": false
   },
   "outputs": [],
   "source": [
    "np.uint64(1)+np.uint64(-1)"
   ]
  },
  {
   "cell_type": "code",
   "execution_count": null,
   "metadata": {
    "collapsed": false
   },
   "outputs": [],
   "source": [
    "event_dt=np.dtype(\n",
    "    (np.uint64, \n",
    "        [\n",
    "            ('data', np.uint32),\n",
    "            ('flags0', np.uint8),\n",
    "            ('flags1', np.uint8),\n",
    "            ('time',np.uint16)\n",
    "        ] \n",
    "    )\n",
    ")\n",
    "\n",
    "peak_dt=np.dtype(\n",
    "    (\n",
    "        [\n",
    "            ('height', np.int16),\n",
    "            ('minima', np.int16),\n",
    "            ('flags0', np.uint8),\n",
    "            ('flags1', np.uint8),\n",
    "            ('time',np.uint16)\n",
    "        ] \n",
    "    )\n",
    ")\n",
    "\n",
    "tick_dt=np.dtype(\n",
    "    ( \n",
    "        [\n",
    "            ('period', np.uint32),\n",
    "            ('flags0', np.uint8),\n",
    "            ('flags1', np.uint8),\n",
    "            ('time', np.uint16),\n",
    "            ('timestamp', np.uint64)\n",
    "        ]\n",
    "    )\n",
    ")\n",
    "\n",
    "e = sim.EventStream('teslib','measurement_subsystem_TB')\n",
    "\n",
    "events=e._stream64.view(dtype=event_dt)\n",
    "\n",
    "#type_flags = np.bitwise_and(events['flags'],0x000f)\n",
    "tick = np.bitwise_and(events['flags1'],0x02)!=0\n",
    "window_start = np.bitwise_and(events['flags1'],0x01)!=0\n",
    "\n",
    "tick_mask=np.zeros(len(tick),dtype=bool)\n",
    "i=0\n",
    "while (i < len(tick)):\n",
    "    if tick[i]!=0:\n",
    "        tick_mask[i:i+2]=True\n",
    "        i+=1\n",
    "    i+=1\n",
    "    \n",
    "peaks=e._stream64[~tick_mask].view(dtype=peak_dt)\n",
    "\n",
    "ticks=e._stream64[tick_mask].view(dtype=tick_dt)"
   ]
  },
  {
   "cell_type": "code",
   "execution_count": null,
   "metadata": {
    "collapsed": false
   },
   "outputs": [],
   "source": [
    "d=distributions[0]\n",
    "\n",
    "\n",
    "d.value.trace"
   ]
  },
  {
   "cell_type": "code",
   "execution_count": null,
   "metadata": {
    "collapsed": true
   },
   "outputs": [],
   "source": [
    "%matplotlib notebook\n",
    "stop=distributions[0].stop_time\n",
    "start=distributions[0].start_time\n",
    "plt.plot(data.trace[0]['filtered'][start:stop])"
   ]
  },
  {
   "cell_type": "code",
   "execution_count": null,
   "metadata": {
    "collapsed": false
   },
   "outputs": [],
   "source": [
    "%matplotlib notebook\n",
    "d=0\n",
    "plt.plot(distributions[d].counts)"
   ]
  },
  {
   "cell_type": "code",
   "execution_count": null,
   "metadata": {
    "collapsed": false,
    "scrolled": true
   },
   "outputs": [],
   "source": [
    "p=1\n",
    "lasts=enet['last'].nonzero()[0]+1\n",
    "packets = []\n",
    "prev=0\n",
    "for last in lasts:\n",
    "    packets.append(sim.Packet( np.copy(enet['data'][prev:last]).view(np.uint8)))\n",
    "    prev=last\n",
    "\n",
    "packets[:]"
   ]
  },
  {
   "cell_type": "code",
   "execution_count": null,
   "metadata": {
    "collapsed": false
   },
   "outputs": [],
   "source": [
    "packets[4]"
   ]
  },
  {
   "cell_type": "code",
   "execution_count": null,
   "metadata": {
    "collapsed": false
   },
   "outputs": [],
   "source": [
    "def get_distributions(packets):\n",
    "    for packet in packets:\n",
    "        if packet.payload_type == PayloadType.mca:\n",
    "            \n",
    "        \n",
    "    \n",
    "    \n",
    "    \n",
    "packets[4].payload[0:8].view(mca_header_dt)"
   ]
  },
  {
   "cell_type": "code",
   "execution_count": null,
   "metadata": {
    "collapsed": false
   },
   "outputs": [],
   "source": [
    "peaks=packets[1].payload.view(peak_dt)\n",
    "peaks"
   ]
  },
  {
   "cell_type": "code",
   "execution_count": null,
   "metadata": {
    "collapsed": false
   },
   "outputs": [],
   "source": [
    "\n",
    "time=0\n",
    "times=[]\n",
    "heights=[]\n",
    "minimas=[]\n",
    "\n",
    "for p in packets:\n",
    "    if p.payload_type==sim.EventType.tick:\n",
    "        tick=p.payload.view(tick_dt)\n",
    "        time=tick[0]['timestamp']\n",
    "    elif p.payload_type==sim.EventType.peak:\n",
    "        peaks=p.payload.view(peak_dt)\n",
    "        for peak in peaks:\n",
    "            time+=peak['time']\n",
    "            times.append(time)\n",
    "            heights.append(peak['height'])\n",
    "            minimas.append(peak['minima'])\n",
    "            "
   ]
  },
  {
   "cell_type": "code",
   "execution_count": null,
   "metadata": {
    "collapsed": false
   },
   "outputs": [],
   "source": [
    "times"
   ]
  },
  {
   "cell_type": "code",
   "execution_count": null,
   "metadata": {
    "collapsed": false
   },
   "outputs": [],
   "source": [
    "packets[1].payload.view(peak_dt)"
   ]
  },
  {
   "cell_type": "code",
   "execution_count": null,
   "metadata": {
    "collapsed": false
   },
   "outputs": [],
   "source": [
    "heights[0]"
   ]
  },
  {
   "cell_type": "code",
   "execution_count": null,
   "metadata": {
    "collapsed": false,
    "scrolled": false
   },
   "outputs": [],
   "source": [
    "%matplotlib notebook\n",
    "p=3\n",
    "x=np.arange(times[p]-300,times[p]+1000,dtype=np.uint64)\n",
    "plt.plot([times[p], times[p]],[minimas[p], heights[p]],'r',lw=2)\n",
    "plt.step(x,data.trace['filtered'][x])\n",
    "plt.plot(data.peak[p/2],data.trace['filtered'][data.peak[p/2]],'ro')\n",
    "plt.plot(\n",
    "    [data.peak_start[p/2],times[p]],\n",
    "    [data.trace['filtered'][data.peak_start[p/2]],data.trace['filtered'][data.peak_start[p/2]]],\n",
    "    'k'\n",
    ")\n",
    "plt.plot(\n",
    "    [times[p],data.peak[p/2]],\n",
    "    [data.trace['filtered'][data.peak[p/2]],data.trace['filtered'][data.peak[p/2]]],\n",
    "    'k'\n",
    ")"
   ]
  },
  {
   "cell_type": "code",
   "execution_count": null,
   "metadata": {
    "collapsed": false
   },
   "outputs": [],
   "source": [
    "%matplotlib notebook\n",
    "fig=simplt.plot_slice(data.slice((data.peak[0]-1000,data.peak[0]+1000)))\n",
    "data.trace['filtered'][data.peak[0]]"
   ]
  },
  {
   "cell_type": "code",
   "execution_count": null,
   "metadata": {
    "collapsed": false,
    "scrolled": false
   },
   "outputs": [],
   "source": [
    "data.cfd_low"
   ]
  },
  {
   "cell_type": "code",
   "execution_count": null,
   "metadata": {
    "collapsed": false
   },
   "outputs": [],
   "source": [
    "packet_bytes=packet.view(np.uint8)"
   ]
  },
  {
   "cell_type": "code",
   "execution_count": null,
   "metadata": {
    "collapsed": false
   },
   "outputs": [],
   "source": [
    "packet_bytes"
   ]
  },
  {
   "cell_type": "code",
   "execution_count": null,
   "metadata": {
    "collapsed": false
   },
   "outputs": [],
   "source": []
  },
  {
   "cell_type": "code",
   "execution_count": null,
   "metadata": {
    "collapsed": false
   },
   "outputs": [],
   "source": [
    "\n",
    "payload"
   ]
  },
  {
   "cell_type": "code",
   "execution_count": null,
   "metadata": {
    "collapsed": false,
    "scrolled": false
   },
   "outputs": [],
   "source": [
    "\n",
    "payload_type"
   ]
  },
  {
   "cell_type": "code",
   "execution_count": null,
   "metadata": {
    "collapsed": false
   },
   "outputs": [],
   "source": [
    "time=payload[6:8].view(np.uint16)\n",
    "time"
   ]
  },
  {
   "cell_type": "code",
   "execution_count": null,
   "metadata": {
    "collapsed": false
   },
   "outputs": [],
   "source": [
    "\n",
    "peaks"
   ]
  },
  {
   "cell_type": "code",
   "execution_count": null,
   "metadata": {
    "collapsed": false
   },
   "outputs": [],
   "source": [
    "payload[4+8:6+8]"
   ]
  },
  {
   "cell_type": "code",
   "execution_count": null,
   "metadata": {
    "collapsed": false
   },
   "outputs": [],
   "source": [
    "%matplotlib notebook\n",
    "fig=simplt.plot_pulse(1,data)"
   ]
  },
  {
   "cell_type": "code",
   "execution_count": null,
   "metadata": {
    "collapsed": false
   },
   "outputs": [],
   "source": [
    "fig._axstack.as_list()[0]"
   ]
  },
  {
   "cell_type": "code",
   "execution_count": null,
   "metadata": {
    "collapsed": false,
    "scrolled": true
   },
   "outputs": [],
   "source": [
    "tick"
   ]
  },
  {
   "cell_type": "code",
   "execution_count": null,
   "metadata": {
    "collapsed": false
   },
   "outputs": [],
   "source": [
    "ticks"
   ]
  },
  {
   "cell_type": "code",
   "execution_count": null,
   "metadata": {
    "collapsed": false
   },
   "outputs": [],
   "source": [
    "window_start"
   ]
  },
  {
   "cell_type": "code",
   "execution_count": null,
   "metadata": {
    "collapsed": false
   },
   "outputs": [],
   "source": [
    "tick_mask"
   ]
  },
  {
   "cell_type": "code",
   "execution_count": null,
   "metadata": {
    "collapsed": false
   },
   "outputs": [],
   "source": [
    "e._stream64[tick_mask]"
   ]
  },
  {
   "cell_type": "code",
   "execution_count": null,
   "metadata": {
    "collapsed": false
   },
   "outputs": [],
   "source": [
    "type_flags[~tick_mask]"
   ]
  },
  {
   "cell_type": "code",
   "execution_count": null,
   "metadata": {
    "collapsed": false
   },
   "outputs": [],
   "source": [
    "type_flags = np.bitwise_and(events['flags'],0x000f)\n",
    "peak_num = np.right_shift(np.bitwise_and(events['flags'],0x00f0),4)\n",
    "channel = np.right_shift(np.bitwise_and(events['flags'],0x0f00),8)\n",
    "event_type = np.right_shift(np.bitwise_and(events['flags'],0x3000),12)\n",
    "tick=np.bitwise_and(type_flags,0x0002)"
   ]
  },
  {
   "cell_type": "code",
   "execution_count": null,
   "metadata": {
    "collapsed": false
   },
   "outputs": [],
   "source": [
    "ticks"
   ]
  },
  {
   "cell_type": "code",
   "execution_count": null,
   "metadata": {
    "collapsed": false
   },
   "outputs": [],
   "source": []
  },
  {
   "cell_type": "code",
   "execution_count": null,
   "metadata": {
    "collapsed": false
   },
   "outputs": [],
   "source": [
    "tick_mask"
   ]
  },
  {
   "cell_type": "code",
   "execution_count": null,
   "metadata": {
    "collapsed": false
   },
   "outputs": [],
   "source": [
    "events[tick_mask]"
   ]
  },
  {
   "cell_type": "code",
   "execution_count": null,
   "metadata": {
    "collapsed": false
   },
   "outputs": [],
   "source": [
    "time=np.bitwise_and(events[~tick_mask]['time'],0x7fff)\n",
    "c_start=np.bitwise_and(events[~tick_mask]['time'],0x8000)!=0"
   ]
  },
  {
   "cell_type": "code",
   "execution_count": null,
   "metadata": {
    "collapsed": false
   },
   "outputs": [],
   "source": [
    "events[tick_mask]['time']"
   ]
  },
  {
   "cell_type": "code",
   "execution_count": null,
   "metadata": {
    "collapsed": false
   },
   "outputs": [],
   "source": [
    "time"
   ]
  },
  {
   "cell_type": "code",
   "execution_count": null,
   "metadata": {
    "collapsed": false
   },
   "outputs": [],
   "source": [
    "np.binary_repr(time[0],width=16)"
   ]
  },
  {
   "cell_type": "code",
   "execution_count": null,
   "metadata": {
    "collapsed": false
   },
   "outputs": [],
   "source": [
    "events[~tick_mask]['min']"
   ]
  },
  {
   "cell_type": "code",
   "execution_count": null,
   "metadata": {
    "collapsed": false
   },
   "outputs": [],
   "source": [
    "events[~tick_mask]['height']"
   ]
  },
  {
   "cell_type": "code",
   "execution_count": null,
   "metadata": {
    "collapsed": false
   },
   "outputs": [],
   "source": [
    "%matplotlib notebook\n",
    "fig = simplt.plot_pulse(1,data,pre=500,length=3000)\n"
   ]
  },
  {
   "cell_type": "code",
   "execution_count": null,
   "metadata": {
    "collapsed": true
   },
   "outputs": [],
   "source": [
    "import pickle\n",
    "\n",
    "# An arbitrary collection of objects supported by pickle.\n",
    "\n",
    "pickler = pickle.Pickler(open('long.pickle', 'wb'),pickle.HIGHEST_PROTOCOL)\n",
    "pickler.dump(data)\n"
   ]
  },
  {
   "cell_type": "code",
   "execution_count": null,
   "metadata": {
    "collapsed": true
   },
   "outputs": [],
   "source": [
    "unpickler = pickle.Unpickler(open('long.pickle', 'rb'))\n",
    "reg2=unpickler.load()\n",
    "data2=unpickler.load()"
   ]
  },
  {
   "cell_type": "code",
   "execution_count": null,
   "metadata": {
    "collapsed": false
   },
   "outputs": [],
   "source": [
    "data2.trace['slope']"
   ]
  },
  {
   "cell_type": "code",
   "execution_count": null,
   "metadata": {
    "collapsed": false
   },
   "outputs": [],
   "source": [
    "reg2"
   ]
  },
  {
   "cell_type": "code",
   "execution_count": null,
   "metadata": {
    "collapsed": false,
    "scrolled": false
   },
   "outputs": [],
   "source": [
    "axs = fig.get_axes()\n",
    "pax=axs[0].parasites\n",
    "pax[0]._label\n",
    "f_ins_ax=axs[1]\n",
    "s_ins_ax=f_ins_ax.parasites[0]"
   ]
  },
  {
   "cell_type": "code",
   "execution_count": null,
   "metadata": {
    "collapsed": false,
    "scrolled": false
   },
   "outputs": [],
   "source": [
    "es=sim.Data.fromfile('eventstream',np.int32,'teslib','measurement_unit_TB')"
   ]
  },
  {
   "cell_type": "code",
   "execution_count": null,
   "metadata": {
    "collapsed": false
   },
   "outputs": [],
   "source": [
    "es"
   ]
  },
  {
   "cell_type": "code",
   "execution_count": null,
   "metadata": {
    "collapsed": false
   },
   "outputs": [],
   "source": [
    "data.peak[-1]"
   ]
  },
  {
   "cell_type": "code",
   "execution_count": null,
   "metadata": {
    "collapsed": false
   },
   "outputs": [],
   "source": [
    "s.peak"
   ]
  },
  {
   "cell_type": "code",
   "execution_count": null,
   "metadata": {
    "collapsed": false
   },
   "outputs": [],
   "source": [
    "isinstance(r,sim.DataRegion)"
   ]
  },
  {
   "cell_type": "code",
   "execution_count": null,
   "metadata": {
    "collapsed": false
   },
   "outputs": [],
   "source": [
    "r.peak"
   ]
  },
  {
   "cell_type": "code",
   "execution_count": null,
   "metadata": {
    "collapsed": false
   },
   "outputs": [],
   "source": [
    "i"
   ]
  },
  {
   "cell_type": "code",
   "execution_count": null,
   "metadata": {
    "collapsed": false
   },
   "outputs": [],
   "source": [
    "%matplotlib notebook\n",
    "import matplotlib.pyplot as plt\n",
    "\n",
    "plt.plot(data.trace['filtered'])"
   ]
  },
  {
   "cell_type": "code",
   "execution_count": null,
   "metadata": {
    "collapsed": false
   },
   "outputs": [],
   "source": [
    "ax=plt.gca()\n",
    "t=ax.transData\n",
    "t.transform([[0.1,0.2],[1,3]])"
   ]
  },
  {
   "cell_type": "code",
   "execution_count": null,
   "metadata": {
    "collapsed": true
   },
   "outputs": [],
   "source": [
    "x=np.array([0,1,2,3])\n",
    "y=np.array([3,4,5,6])\n",
    "\n",
    "xy=np.empty(shape=(4,2))"
   ]
  },
  {
   "cell_type": "code",
   "execution_count": null,
   "metadata": {
    "collapsed": false
   },
   "outputs": [],
   "source": [
    "xy[:,0]=x\n",
    "xy[:,1]=y\n",
    "t.transform(xy)"
   ]
  },
  {
   "cell_type": "code",
   "execution_count": null,
   "metadata": {
    "collapsed": true
   },
   "outputs": [],
   "source": []
  },
  {
   "cell_type": "code",
   "execution_count": null,
   "metadata": {
    "collapsed": false
   },
   "outputs": [],
   "source": [
    "# run to import isim data files\n",
    "\n",
    "import numpy as np\n",
    "import os\n",
    "import matplotlib.pyplot as plt\n",
    "import math\n",
    "from enum import Enum\n",
    "\n",
    "plt.rcParams[\"figure.figsize\"]=[800./80,600./80]\n",
    "\n",
    "repo='c:\\\\TES_project\\\\fpga_ise\\\\'\n",
    "project='teslib'\n",
    "testbench='measurement_unit_TB'\n",
    "datafile='traces'\n",
    "path=repo+project+'\\\\PlanAhead\\\\'+project+'.sim\\\\'+testbench+'\\\\'\n",
    "\n",
    "traces_dt = np.dtype([('input', np.int32),('raw',np.int32),('filtered',np.int32),('slope',np.int32)])\n",
    "traces=np.fromfile(path+'traces',traces_dt)\n",
    "trigger=np.fromfile(path+'triggers',np.int32)\n",
    "settings=np.fromfile(path+'settings',np.int32)\n",
    "cfd_low=np.fromfile(path+'cfdlow',np.int32)\n",
    "cfd_high=np.fromfile(path+'cfdhigh',np.int32)\n",
    "peaks=np.fromfile(path+'peaks',np.int32)\n",
    "peaks.shape=(-1,2)\n",
    "peak_starts=np.fromfile(path+'peak_starts',np.int32)\n",
    "#peak_starts.shape=(-1,2)\n",
    "pulse_starts=np.fromfile(path+'peak_starts',np.int32)\n",
    "settings=np.fromfile(path+'settings',np.int32)\n",
    "cfd_low=np.fromfile(path+'cfdlow',np.int32)\n",
    "cfd_high=np.fromfile(path+'cfdhigh',np.int32)\n",
    "slope_xing=np.fromfile(path+'slopethreshxings',np.int32)\n"
   ]
  },
  {
   "cell_type": "code",
   "execution_count": null,
   "metadata": {
    "collapsed": false
   },
   "outputs": [],
   "source": [
    "settings[13]"
   ]
  },
  {
   "cell_type": "code",
   "execution_count": null,
   "metadata": {
    "collapsed": false
   },
   "outputs": [],
   "source": [
    "#create register dict from settings array\n",
    "\n",
    "class height_type(Enum):\n",
    "    def from_int(value):\n",
    "        if value == 0:\n",
    "            return height_type.peak_height\n",
    "        elif value == 1:\n",
    "            return height_type.cfd_high\n",
    "        elif value == 2:\n",
    "            return height_type.slope_integral\n",
    "        else:\n",
    "            raise AttributeError()\n",
    "    peak_height=0\n",
    "    cfd_high=1\n",
    "    slope_integral=2\n",
    "\n",
    "class trigger_type(Enum):\n",
    "    def from_int(value):\n",
    "        if value == 0:\n",
    "            return trigger_type.pulse_threshold\n",
    "        elif value == 1:\n",
    "            return trigger_type.slope_threshold\n",
    "        elif value == 2:\n",
    "            return trigger_type.cfd_low\n",
    "        else:\n",
    "            raise AttributeError()\n",
    "    pulse_threshold=0\n",
    "    slope_threshold=1\n",
    "    cfd_low=2\n",
    "\n",
    "class event_type(Enum):\n",
    "    def from_int(value):\n",
    "        if value == 0:\n",
    "            return event_type.peak\n",
    "        elif value == 1:\n",
    "            return event_type.area\n",
    "        elif value == 2:\n",
    "            return event_type.pulse\n",
    "        elif value == 3:\n",
    "            return event_type.trace\n",
    "        else:\n",
    "            raise AttributeError()\n",
    "    peak=0\n",
    "    area=1\n",
    "    pulse=2\n",
    "    trace=3\n",
    "\n",
    "\n",
    "def read_registers(settings):\n",
    "    registers = dict()\n",
    "    registers['baseline'] = dict()\n",
    "    registers['baseline']['offset'] = settings[0]\n",
    "    registers['baseline']['subtraction'] = settings[1]!=0\n",
    "    registers['baseline']['timeconstant'] = settings[2]\n",
    "    registers['baseline']['threshold'] = settings[3]\n",
    "    registers['baseline']['count_threshold'] = settings[4]\n",
    "    registers['generic'] = dict()\n",
    "    registers['baseline']['average_order'] = settings[5]\n",
    "    registers['capture'] = dict()\n",
    "    registers['capture']['cfd_relative'] = settings[6]!=0\n",
    "    registers['capture']['constant_fraction'] = settings[7]\n",
    "    registers['capture']['pulse_threshold'] = settings[8]\n",
    "    registers['capture']['slope_threshold'] = settings[9]\n",
    "    registers['capture']['pulse_area_threshold'] = settings[10]\n",
    "    registers['capture']['height_type'] = height_type.from_int(settings[11])\n",
    "    registers['capture']['threshold_rel2min'] = settings[12]!=0\n",
    "    registers['capture']['trigger_type'] = trigger_type.from_int(settings[13])\n",
    "    registers['capture']['event_type'] = event_type.from_int(settings[14])\n",
    "    return registers\n"
   ]
  },
  {
   "cell_type": "code",
   "execution_count": null,
   "metadata": {
    "collapsed": false
   },
   "outputs": [],
   "source": [
    "%matplotlib notebook\n",
    "x=np.arange(len(traces['filtered']))\n",
    "fig=plt.figure()\n",
    "\n",
    "ax=fig.add_axes([0.15,0.1,0.8,0.8])\n",
    "mV=1.0/math.pow(2,14)*1000\n",
    "nS=4\n",
    "\n",
    "\n",
    "i_trace, =ax.step(x*nS/1000000,(traces['input']+1800)*mV*2,'k',label='raw input')\n",
    "f_trace, =ax.step(x*nS/1000000,traces['filtered']*mV,'b',label='processed')\n",
    "fig.suptitle('Digital Signal Processing',fontsize=24)\n",
    "plt.xlabel('time (ms)',fontsize=18)\n",
    "plt.ylabel('Voltage (mV)',fontsize=18)\n",
    "plt.legend(handles=[i_trace,f_trace])\n",
    "\n",
    "fig.savefig('trace.png')\n",
    "plt.show()"
   ]
  },
  {
   "cell_type": "code",
   "execution_count": null,
   "metadata": {
    "collapsed": true
   },
   "outputs": [],
   "source": []
  },
  {
   "cell_type": "code",
   "execution_count": null,
   "metadata": {
    "collapsed": false
   },
   "outputs": [],
   "source": [
    "%matplotlib notebook\n",
    "import math\n",
    "\n",
    "def align_yaxis(ax1, v1, ax2, v2):\n",
    "    \"\"\"adjust ax2 ylimit so that v2 in ax2 is aligned to v1 in ax1\"\"\"\n",
    "    _, y1 = ax1.transData.transform((0, v1))\n",
    "    _, y2 = ax2.transData.transform((0, v2))\n",
    "    adjust_yaxis(ax2,(y1-y2)/2,v2)\n",
    "    adjust_yaxis(ax1,(y2-y1)/2,v1)\n",
    "\n",
    "def adjust_yaxis(ax,ydif,v):\n",
    "    \"\"\"shift axis ax by ydiff, maintaining point v at the same location\"\"\"\n",
    "    inv = ax.transData.inverted()\n",
    "    _, dy = inv.transform((0, 0)) - inv.transform((0, ydif))\n",
    "    miny, maxy = ax.get_ylim()\n",
    "    miny, maxy = miny - v, maxy - v\n",
    "    if -miny>maxy or (-miny==maxy and dy > 0):\n",
    "        nminy = miny\n",
    "        nmaxy = miny*(maxy+dy)/(miny+dy)\n",
    "    else:\n",
    "        nmaxy = maxy\n",
    "        nminy = maxy*(miny+dy)/(maxy+dy)\n",
    "    ax.set_ylim(nminy+v, nmaxy+v)\n",
    "    \n",
    "x=np.arange(len(traces['filtered']))\n",
    "fig=plt.figure()\n",
    "ax=fig.add_axes([0.1,0.1,0.8,0.8])\n",
    "plt.ylim(-10,120)\n",
    "v=math.pow(2,13)/1000\n",
    "t=x*4\n",
    "ax.plot([0,t[-1]],[0,0],'k')\n",
    "raw, = ax.step(t,traces['raw']/2/v,'k',lw=1,label='raw')\n",
    "processed, = ax.step(t,traces['filtered']/2/v,'r',lw=2,label='processed')\n",
    "ax.plot(trigger,traces['filtered'][trigger+1]/2,'kx')\n",
    "ax.plot(peaks[:,0],traces['filtered'][peaks[:,0]+1]/2,'ro')\n",
    "ax.plot(peak_starts,traces['filtered'][peak_starts+1]/2,'ro')\n",
    "ax.plot(cfd_high,traces['filtered'][cfd_high+1]/2,'bs')\n",
    "ax.plot(cfd_low,traces['filtered'][cfd_low+1]/2,'bs')\n",
    "plt.xlabel('time (ns)',fontsize=18)\n",
    "plt.ylabel('Voltage (mV)',fontsize=18,color='r')\n",
    "\n",
    "ax2=ax.twinx()\n",
    "slope, = ax2.step(t,traces['slope']/256/v/4,'b',lw=2,label='slope')\n",
    "plt.xlim([1292000,1297500])\n",
    "plt.ylim(-0.2,1)\n",
    "align_yaxis(ax,0,ax2,0)\n",
    "plt.ylabel('slope (mV/ns)',color='b',fontsize=18)\n",
    "fig.suptitle('Digital signal processing',fontsize=24)\n",
    "plt.legend(handles=[raw,processed,slope])\n",
    "fig.savefig('dsp.png')\n",
    "plt.show()"
   ]
  },
  {
   "cell_type": "code",
   "execution_count": null,
   "metadata": {
    "collapsed": false
   },
   "outputs": [],
   "source": [
    "%matplotlib notebook\n",
    "\n",
    "#plot pulse\n",
    "from mpl_toolkits.axes_grid1 import host_subplot\n",
    "from mpl_toolkits.axes_grid1.inset_locator import zoomed_inset_axes\n",
    "from mpl_toolkits.axes_grid1.inset_locator import mark_inset\n",
    "\n",
    "pulse=7\n",
    "length=2000\n",
    "pre=100\n",
    "\n",
    "def align_yaxis(ax1, v1, ax2, v2):\n",
    "    \"\"\"adjust ax2 ylimit so that v2 in ax2 is aligned to v1 in ax1\"\"\"\n",
    "    _, y1 = ax1.transData.transform((0, v1))\n",
    "    _, y2 = ax2.transData.transform((0, v2))\n",
    "    adjust_yaxis(ax2,(y1-y2)/2,v2)\n",
    "    adjust_yaxis(ax1,(y2-y1)/2,v1)\n",
    "\n",
    "def adjust_yaxis(ax,ydif,v):\n",
    "    \"\"\"shift axis ax by ydiff, maintaining point v at the same location\"\"\"\n",
    "    inv = ax.transData.inverted()\n",
    "    _, dy = inv.transform((0, 0)) - inv.transform((0, ydif))\n",
    "    miny, maxy = ax.get_ylim()\n",
    "    miny, maxy = miny - v, maxy - v\n",
    "    if -miny>maxy or (-miny==maxy and dy > 0):\n",
    "        nminy = miny\n",
    "        nmaxy = miny*(maxy+dy)/(miny+dy)\n",
    "    else:\n",
    "        nmaxy = maxy\n",
    "        nminy = maxy*(miny+dy)/(maxy+dy)\n",
    "    ax.set_ylim(nminy+v, nmaxy+v)\n",
    "    \n",
    "start=pulse_starts[pulse]-pre\n",
    "stop=start+length\n",
    "x=np.arange(0,len(traces['filtered']))\n",
    "fig=plt.figure()\n",
    "\n",
    "f_ax = host_subplot(111)\n",
    "s_ax = f_ax.twinx()\n",
    "\n",
    "f_ax.set_xlabel(\"Time (ns)\",fontsize=18)\n",
    "f_ax.set_ylabel(\"Voltage (mV)\",fontsize=18,color='r')\n",
    "s_ax.set_ylabel(\"Slope (mv/ns)\",fontsize=18,color='b')\n",
    "\n",
    "mV=1.0/math.pow(2,14)*1000\n",
    "nS=4\n",
    "t=x*nS\n",
    "\n",
    "f_sig = traces['filtered']*mV\n",
    "s_sig = traces['slope']*mV/nS\n",
    "\n",
    "f_ax.plot([t[start],t[stop]],[0,0],'k') # zero line\n",
    "f_trace, = f_ax.step(t[start:stop],f_sig[start:stop],'r',lw=2,label='processed')\n",
    "f_ax.set_ylim(-10,180)\n",
    "\n",
    "s_trace, = s_ax.step(t[start:stop],s_sig[start:stop],'b',lw=1,label='slope')\n",
    "s_ax.set_ylim(-15,50)\n",
    "#s_threshold = 6\n",
    "#s_ax.set_yticks(np.concatenate((s_ax.get_yticks(),[s_threshold])))\n",
    "#labels=[label.get_text() for label in s_ax.get_yticklabels()]\n",
    "#labels[6]='Threshold'\n",
    "\n",
    "#s_ax.set_yticklabels(labels)\n",
    "plt.xlim(t[start],t[stop])\n",
    "align_yaxis(f_ax,0,s_ax,0)\n",
    "fig.suptitle('Measurement:First pass',fontsize=24)\n",
    "#plt.legend(handles=[f_trace,s_trace])\n",
    "\n",
    "starts_mask = np.logical_and(peak_starts >= start,peak_starts <= stop)\n",
    "peaks_mask = np.logical_and(peaks[:,0] >= start, peaks[:,0] <= stop)\n",
    "peak_starts_inwin = peak_starts[starts_mask]\n",
    "\n",
    "for pstart in peak_starts_inwin:\n",
    "    peak_start_t=t[pstart]-2\n",
    "    peak_start_f=f_sig[pstart]\n",
    "    peak_start_s=s_sig[pstart]\n",
    "\n",
    "    f_ax.plot(peak_start_t,peak_start_f,'ro')\n",
    "    s_ax.plot(peak_start_t,peak_start_s,'bo')\n",
    "    \n",
    "    f_trans = f_ax.transData\n",
    "    s_trans = s_ax.transData.inverted()\n",
    "    trans = s_trans+f_trans\n",
    "    f_point=f_trans.transform((peak_start_t,peak_start_f))\n",
    "    s_point=s_trans.transform((f_point[0],f_point[1]))\n",
    "\n",
    "    s_ax.plot([peak_start_t,peak_start_t],[peak_start_s, s_point[1]],'k')\n",
    "\n",
    "#for p in peaks[0][peaks_inwin]\n",
    "peaks_inwin = peaks[peaks_mask,0]\n",
    "for p in peaks_inwin:\n",
    "    peak_t=t[p]-2\n",
    "    peak_f=f_sig[p]\n",
    "    peak_s=s_sig[p]\n",
    "\n",
    "    f_ax.plot(peak_t,peak_f,'ro')\n",
    "    s_ax.plot(peak_t,peak_s,'bo')\n",
    "    \n",
    "    f_trans = f_ax.transData\n",
    "    s_trans = s_ax.transData.inverted()\n",
    "    trans = s_trans+f_trans\n",
    "    f_point=f_trans.transform((peak_t,peak_f))\n",
    "    s_point=s_trans.transform((f_point[0],f_point[1]))\n",
    "\n",
    "    s_ax.plot([peak_t,peak_t],[peak_s, s_point[1]],'k')\n",
    "\n",
    "ins_start = peak_starts_inwin[0]-5\n",
    "ins_stop = peak_starts_inwin[0]+5\n",
    "f_ins_ax = zoomed_inset_axes(f_ax, 50, loc=1)  # zoom = 6\n",
    "f_ins_ax.step(t[ins_start:ins_stop],f_sig[ins_start:ins_stop],'r')\n",
    "f_ins_ax.set_ylim(-0.5,2)\n",
    "f_ins_ax.set_xlim(ins_start,ins_stop)\n",
    "f_ins_ax.set_yticks([])\n",
    "f_ins_ax.set_xticks([])\n",
    "\n",
    "f_ins_ax.plot([t[ins_start],t[ins_stop]],[0,0],'k') # zero line\n",
    "\n",
    "#plt.xticks(visible=False)\n",
    "#plt.yticks(visible=False)\n",
    "mark_inset(f_ax, f_ins_ax, loc1=2, loc2=4, fc=\"none\", ec=\"0.5\")\n",
    "\n",
    "s_ins_ax = f_ins_ax.twinx()\n",
    "s_ins_ax.set_yticks([])\n",
    "s_ins_ax.set_xticks([])\n",
    "\n",
    "s_ins_ax.step(t[ins_start:ins_stop],s_sig[ins_start:ins_stop],'b')\n",
    "\n",
    "s_ins_ax.set_ylim(-1,1)\n",
    "align_yaxis(f_ins_ax,0,s_ins_ax,0)\n",
    "\n",
    "pstart = peak_starts_inwin[0]\n",
    "peak_start_t=t[pstart]-2\n",
    "peak_start_f=f_sig[pstart]\n",
    "peak_start_s=s_sig[pstart]\n",
    "\n",
    "f_ins_ax.plot(peak_start_t,peak_start_f,'ro')\n",
    "s_ins_ax.plot(peak_start_t,peak_start_s,'bo')\n",
    "    \n",
    "f_trans = f_ins_ax.transData\n",
    "s_trans = s_ins_ax.transData.inverted()\n",
    "trans = s_trans+f_trans\n",
    "f_point=f_trans.transform((peak_start_t,peak_start_f))\n",
    "s_point=s_trans.transform((f_point[0],f_point[1]))\n",
    "\n",
    "s_ins_ax.plot([peak_start_t,peak_start_t],[peak_start_s, s_point[1]],'k')\n",
    "\n",
    "s_ax.plot([t[start],t[stop]],[s_threshold,s_threshold],ls='dashed')\n",
    "\n",
    "fig.savefig('measurement1.png')\n",
    "plt.draw()\n",
    "plt.show()"
   ]
  },
  {
   "cell_type": "code",
   "execution_count": null,
   "metadata": {
    "collapsed": false
   },
   "outputs": [],
   "source": [
    "%matplotlib notebook\n",
    "from mpl_toolkits.axes_grid1 import host_subplot\n",
    "from mpl_toolkits.axes_grid1.inset_locator import zoomed_inset_axes\n",
    "from mpl_toolkits.axes_grid1.inset_locator import mark_inset\n",
    "\n",
    "pulse=7\n",
    "length=2000\n",
    "pre=100\n",
    "\n",
    "def align_yaxis(ax1, v1, ax2, v2):\n",
    "    \"\"\"adjust ax2 ylimit so that v2 in ax2 is aligned to v1 in ax1\"\"\"\n",
    "    _, y1 = ax1.transData.transform((0, v1))\n",
    "    _, y2 = ax2.transData.transform((0, v2))\n",
    "    adjust_yaxis(ax2,(y1-y2)/2,v2)\n",
    "    adjust_yaxis(ax1,(y2-y1)/2,v1)\n",
    "\n",
    "def adjust_yaxis(ax,ydif,v):\n",
    "    \"\"\"shift axis ax by ydiff, maintaining point v at the same location\"\"\"\n",
    "    inv = ax.transData.inverted()\n",
    "    _, dy = inv.transform((0, 0)) - inv.transform((0, ydif))\n",
    "    miny, maxy = ax.get_ylim()\n",
    "    miny, maxy = miny - v, maxy - v\n",
    "    if -miny>maxy or (-miny==maxy and dy > 0):\n",
    "        nminy = miny\n",
    "        nmaxy = miny*(maxy+dy)/(miny+dy)\n",
    "    else:\n",
    "        nmaxy = maxy\n",
    "        nminy = maxy*(miny+dy)/(maxy+dy)\n",
    "    ax.set_ylim(nminy+v, nmaxy+v)\n",
    "    \n",
    "start=pulse_starts[pulse]-pre\n",
    "stop=start+length\n",
    "x=np.arange(0,len(traces['filtered']))\n",
    "fig=plt.figure()\n",
    "\n",
    "f_ax = host_subplot(111)\n",
    "s_ax = f_ax.twinx()\n",
    "\n",
    "f_ax.set_xlabel(\"Time (ns)\",fontsize=18)\n",
    "f_ax.set_ylabel(\"Voltage (mV)\",fontsize=18,color='r')\n",
    "s_ax.set_ylabel(\"Slope (mv/ns)\",fontsize=18,color='b')\n",
    "\n",
    "mV=1.0/math.pow(2,14)*1000\n",
    "nS=4\n",
    "t=x*nS\n",
    "\n",
    "f_sig = traces['filtered']*mV\n",
    "s_sig = traces['slope']*mV/nS\n",
    "\n",
    "f_ax.plot([t[start],t[stop]],[0,0],'k') # zero line\n",
    "f_trace, = f_ax.step(t[start:stop],f_sig[start:stop],'r',lw=2,label='processed')\n",
    "f_ax.set_ylim(-10,180)\n",
    "\n",
    "s_trace, = s_ax.step(t[start:stop],s_sig[start:stop],'b',lw=1,label='slope')\n",
    "s_ax.set_ylim(-15,50)\n",
    "#s_threshold = 6\n",
    "#s_ax.set_yticks(np.concatenate((s_ax.get_yticks(),[s_threshold])))\n",
    "#labels=[label.get_text() for label in s_ax.get_yticklabels()]\n",
    "#labels[6]='Threshold'\n",
    "\n",
    "#s_ax.set_yticklabels(labels)\n",
    "plt.xlim(t[start],t[stop])\n",
    "align_yaxis(f_ax,0,s_ax,0)\n",
    "fig.suptitle('Measurement:Second pass',fontsize=24)\n",
    "#plt.legend(handles=[f_trace,s_trace])\n",
    "\n",
    "starts_mask = np.logical_and(peak_starts >= start,peak_starts <= stop)\n",
    "peaks_mask = np.logical_and(peaks[:,0] >= start, peaks[:,0] <= stop)\n",
    "peak_starts_inwin = peak_starts[starts_mask]\n",
    "\n",
    "\n",
    "#for pstart in peak_starts_inwin:\n",
    "#    peak_start_t=t[pstart]-2\n",
    "#    peak_start_f=f_sig[pstart]\n",
    "#    peak_start_s=s_sig[pstart]\n",
    "#\n",
    "#    f_ax.plot(peak_start_t,peak_start_f,'ro')\n",
    "#    s_ax.plot(peak_start_t,peak_start_s,'bo')\n",
    "    \n",
    "#    f_trans = f_ax.transData\n",
    "#    s_trans = s_ax.transData.inverted()\n",
    "#    trans = s_trans+f_trans\n",
    "#    f_point=f_trans.transform((peak_start_t,peak_start_f))\n",
    "#    s_point=s_trans.transform((f_point[0],f_point[1]))\n",
    "\n",
    "#    s_ax.plot([peak_start_t,peak_start_t],[peak_start_s, s_point[1]],'k')\n",
    "\n",
    "#for p in peaks[0][peaks_inwin]\n",
    "peaks_inwin = peaks[peaks_mask,0]\n",
    "x_s=peak_starts_inwin\n",
    "x_p=peaks_inwin\n",
    "y_s=f_sig[x_s]\n",
    "y_p=f_sig[x_p]\n",
    "\n",
    "f_ax.plot(t[peak_starts_inwin],f_sig[peak_starts_inwin],'or')\n",
    "f_ax.plot(t[peaks_inwin],f_sig[peaks_inwin],'or')\n",
    "\n",
    "\n",
    "f_ax.plot([t[x_s[0]],t[x_p[0]]],[y_s[0],y_s[0]],'k')\n",
    "f_ax.plot([t[x_p[0]],t[x_p[0]]],[y_s[0],y_p[0]],'k')\n",
    "\n",
    "f_ax.plot([t[x_s[1]],t[x_p[1]]],[y_s[1],y_s[1]],'k')\n",
    "f_ax.plot([t[x_p[1]],t[x_p[1]]],[y_s[1],y_p[1]],'k')\n",
    "\n",
    "\n",
    "#for p in peaks_inwin:\n",
    "#    peak_t=t[p]-2\n",
    "#    peak_f=f_sig[p]\n",
    "#    peak_s=s_sig[p]\n",
    "\n",
    "#    f_ax.plot(peak_t,peak_f,'ro')\n",
    "#    s_ax.plot(peak_t,peak_s,'bo')\n",
    "    \n",
    "#    f_trans = f_ax.transData\n",
    "#    s_trans = s_ax.transata.inverted()\n",
    "#    trans = s_trans+f_trans\n",
    "#    f_point=f_trans.transform((peak_t,peak_f))\n",
    "#    s_point=s_trans.transform((f_point[0],f_point[1]))\n",
    "\n",
    "#    s_ax.plot([peak_t,peak_t],[peak_s, s_point[1]],'k')\n",
    "\n",
    "ins_start = peak_starts_inwin[1]-300\n",
    "ins_stop = peak_starts_inwin[1]+500\n",
    "f_ins_ax = zoomed_inset_axes(f_ax, 1.5, loc=1)  # zoom = 6\n",
    "f_ins_ax.step(t[ins_start:ins_stop],f_sig[ins_start:ins_stop],'r')\n",
    "f_ins_ax.set_ylim(60,180)\n",
    "f_ins_ax.set_xlim(t[ins_start],t[ins_stop])\n",
    "f_ins_ax.set_yticks([])\n",
    "f_ins_ax.set_xticks([])\n",
    "\n",
    "low_mask = np.logical_and(cfd_low >= start, cfd_low <= stop)\n",
    "low_inwin = cfd_low[low_mask]\n",
    "high_mask = np.logical_and(cfd_high >= start, cfd_high <= stop)\n",
    "high_inwin = cfd_high[high_mask]\n",
    "thresh_mask = np.logical_and(slope_xing >= start, slope_xing <= stop)\n",
    "thresh_inwin = slope_xing[thresh_mask]\n",
    "\n",
    "f_ins_ax.plot(t[peak_starts_inwin],f_sig[peak_starts_inwin],'or')\n",
    "f_ins_ax.plot(t[peaks_inwin],f_sig[peaks_inwin],'or')\n",
    "\n",
    "f_ins_ax.plot(t[low_inwin],f_sig[low_inwin],'ok')\n",
    "f_ins_ax.plot(t[high_inwin],f_sig[high_inwin],'ok')\n",
    "f_ax.plot(t[low_inwin],f_sig[low_inwin],'ok')\n",
    "f_ax.plot(t[high_inwin],f_sig[high_inwin],'ok')\n",
    "#f_ax.plot(t[thresh_inwin],f_sig[thresh_inwin],'ow')\n",
    "f_ins_ax.plot(t[thresh_inwin],f_sig[thresh_inwin],'ow')\n",
    "\n",
    "\n",
    "f_ins_ax.plot([t[x_s[0]],t[x_p[0]]],[y_s[0],y_s[0]],'k')\n",
    "f_ins_ax.plot([t[x_p[0]],t[x_p[0]]],[y_s[0],y_p[0]],'k')\n",
    "\n",
    "f_ins_ax.plot([t[x_s[1]],t[x_p[1]]],[y_s[1],y_s[1]],'k')\n",
    "f_ins_ax.plot([t[x_p[1]],t[x_p[1]]],[y_s[1],y_p[1]],'k')\n",
    "\n",
    "#f_ins_ax.plot([t[ins_start],t[ins_stop]],[0,0],'k') # zero line\n",
    "\n",
    "#plt.xticks(visible=False)\n",
    "#plt.yticks(visible=False)\n",
    "#mark_inset(f_ax, f_ins_ax, loc1=2, loc2=4, fc=\"none\", ec=\"0.5\")\n",
    "\n",
    "pstart = peak_starts_inwin[1]\n",
    "peak_start_t=t[pstart]-2\n",
    "peak_start_f=f_sig[pstart]\n",
    "peak_start_s=s_sig[pstart]\n",
    "\n",
    "f_ins_ax.plot(peak_start_t,peak_start_f,'ro')\n",
    "\n",
    "\n",
    "f_trans = f_ins_ax.transData\n",
    "s_trans = s_ins_ax.transData.inverted()\n",
    "trans = s_trans+f_trans\n",
    "f_point=f_trans.transform((peak_start_t,peak_start_f))\n",
    "s_point=s_trans.transform((f_point[0],f_point[1]))\n",
    "\n",
    "s_ins_ax.plot([peak_start_t,peak_start_t],[peak_start_s, s_point[1]],'k')\n",
    "\n",
    "s_ax.plot([t[start],t[stop]],[s_threshold,s_threshold],ls='dashed')\n",
    "\n",
    "fig.savefig('measurement2.png')\n",
    "plt.draw()\n",
    "plt.show()"
   ]
  },
  {
   "cell_type": "code",
   "execution_count": null,
   "metadata": {
    "collapsed": false
   },
   "outputs": [],
   "source": [
    "from mpl_toolkits.axes_grid1.inset_locator import inset_axes\n",
    "\n",
    "fig=plt.figure()\n",
    "fig.suptitle('Multi Channel Analyser',fontsize=24)\n",
    "\n",
    "h_ax = host_subplot(111)\n",
    "\n",
    "h_ins_ax = inset_axes(h_ax, width=\"80%\",height=1., loc=1)  # zoom = 6\n",
    "h_ins_ax.set_xlim(-25,160)\n",
    "h_ins_ax.set_ylim(0,0.002)\n",
    "h_ax.hist((traces['input']+200)*2*mV,math.pow(2,14),normed=1,facecolor='k',edgecolor='k')\n",
    "h_ax.hist(f_sig,math.pow(2,14),normed=1,facecolor='r',edgecolor='r')\n",
    "h_ins_ax.hist(f_sig,math.pow(2,14),normed=1,facecolor='r',edgecolor='r')\n",
    "h_ins_ax.set_xticks([])\n",
    "h_ins_ax.set_yticks([])\n",
    "h_ax.set_xlim(-30,100)\n",
    "h_ax.set_ylim(0,0.8)\n",
    "\n",
    "mark_inset(h_ax, h_ins_ax, loc1=2, loc2=4, fc=\"none\", ec=\"0.5\")\n",
    "\n",
    "h_ax.set_xlabel('Voltage (mV)')\n",
    "h_ax.set_ylabel('Probability')\n",
    "fig.savefig('hist.png')\n",
    "plt.show()"
   ]
  },
  {
   "cell_type": "code",
   "execution_count": null,
   "metadata": {
    "collapsed": true
   },
   "outputs": [],
   "source": [
    "peak_dt=np.dtype([('time',np.uint16),('flags',np.uint16),('minima',np.uint16),('height',np.uint16)])"
   ]
  },
  {
   "cell_type": "code",
   "execution_count": null,
   "metadata": {
    "collapsed": true
   },
   "outputs": [],
   "source": [
    "area_dt=np.dtype([('time',np.uint16),('flags',np.uint16),('area',np.uint32)])"
   ]
  },
  {
   "cell_type": "code",
   "execution_count": null,
   "metadata": {
    "collapsed": true
   },
   "outputs": [],
   "source": [
    "pulse_peak_dt=np.dtype([('trigger',np.uint16),('rise',np.uint16),('minima',np.uint16),('height',np.uint16)])\n",
    "pulse_header_dt=np.dtype([('time',np.uint16),('flags',np.uint16),('res1',np.uint16),('size',np.uint16),\n",
    "                    ('length',np.uint16),('res2',np.uint16),('area',np.int32)])"
   ]
  },
  {
   "cell_type": "code",
   "execution_count": null,
   "metadata": {
    "collapsed": false
   },
   "outputs": [],
   "source": [
    "pulse2_dt=np.dtype([('time',np.uint16),('flags',np.uint16),('res1',np.uint16),('size',np.uint16),\n",
    "                    ('length',np.uint16),('res2',np.uint16),('area',np.int32),\n",
    "                    ('trigger0',np.uint16),('rise0',np.uint16),('minima0',np.uint16),('height0',np.uint16),\n",
    "                    ('trigger1',np.uint16),('rise1',np.uint16),('minima1',np.uint16),('height1',np.uint16)])"
   ]
  },
  {
   "cell_type": "code",
   "execution_count": null,
   "metadata": {
    "collapsed": false
   },
   "outputs": [],
   "source": [
    "pulse2_subarray_dt=np.dtype([('header',pulse_header_dt,('peaks', (pulse_peak_dt,(1,2)) ))])"
   ]
  },
  {
   "cell_type": "code",
   "execution_count": null,
   "metadata": {
    "collapsed": true
   },
   "outputs": [],
   "source": [
    "eventstream=np.fromfile(path+'eventstream',peak_dt)"
   ]
  },
  {
   "cell_type": "code",
   "execution_count": null,
   "metadata": {
    "collapsed": true
   },
   "outputs": [],
   "source": [
    "eventstream=np.fromfile(path+'eventstream',area_dt)"
   ]
  },
  {
   "cell_type": "code",
   "execution_count": null,
   "metadata": {
    "collapsed": true
   },
   "outputs": [],
   "source": [
    "eventstream=np.fromfile(path+'eventstream',pulse2_dt)"
   ]
  },
  {
   "cell_type": "code",
   "execution_count": null,
   "metadata": {
    "collapsed": false
   },
   "outputs": [],
   "source": [
    "eventstream"
   ]
  },
  {
   "cell_type": "code",
   "execution_count": null,
   "metadata": {
    "collapsed": false
   },
   "outputs": [],
   "source": [
    "flags=eventstream['flags']\n",
    "print(np.binary_repr(flags[0],16))"
   ]
  },
  {
   "cell_type": "code",
   "execution_count": null,
   "metadata": {
    "collapsed": false
   },
   "outputs": [],
   "source": [
    "print(\"flags:{:016b}\\nsize:{}\\nlength:{}\\narea:{}\\ntrigger:{} rise:{} minima:{} height:{}\\ntrigger:{} rise:{} minima:{} height:{}\\n\"  \n",
    "      .format(eventstream['flags'][0],eventstream['size'][0],eventstream['length'][0],eventstream['area'][0],\n",
    "        eventstream['trigger0'][0],eventstream['rise0'][0],eventstream['minima0'][0],eventstream['height0'][0],\n",
    "        eventstream['trigger1'][0],eventstream['rise1'][0],eventstream['minima1'][0],eventstream['height1'][0]))"
   ]
  },
  {
   "cell_type": "code",
   "execution_count": null,
   "metadata": {
    "collapsed": false
   },
   "outputs": [],
   "source": [
    "print(np.binary_repr(flags[1],16))"
   ]
  },
  {
   "cell_type": "code",
   "execution_count": null,
   "metadata": {
    "collapsed": true
   },
   "outputs": [],
   "source": [
    "rel_to_min=np.right_shift(np.bitwise_and(flags,0x8000),15).astype(np.bool)\n",
    "channel=np.right_shift(np.bitwise_and(flags,0x0F00),8).astype(np.uint8)\n",
    "threshold_rel2min=np.right_shift(np.bitwise_and(flags,0x4000),14).astype(np.bool)\n",
    "peak_count=np.right_shift(np.bitwise_and(flags,0x00F0),4).astype(np.uint8)\n",
    "tick=np.bitwise_and(flags,0x0001).astype(bool)\n",
    "area=np.right_shift(np.bitwise_and(flags,0x0002),1).astype(np.bool)\n",
    "trace=np.right_shift(np.bitwise_and(flags,0x0004),2).astype(np.bool)\n",
    "fixed=np.right_shift(np.bitwise_and(flags,0x0008),3).astype(np.bool)\n",
    "event_type=np.right_shift(np.bitwise_and(flags,0x3000),12).astype(np.uint8)"
   ]
  },
  {
   "cell_type": "code",
   "execution_count": null,
   "metadata": {
    "collapsed": false
   },
   "outputs": [],
   "source": [
    "flags"
   ]
  },
  {
   "cell_type": "code",
   "execution_count": null,
   "metadata": {
    "collapsed": false
   },
   "outputs": [],
   "source": [
    "eventstream"
   ]
  },
  {
   "cell_type": "code",
   "execution_count": null,
   "metadata": {
    "collapsed": true
   },
   "outputs": [],
   "source": []
  },
  {
   "cell_type": "code",
   "execution_count": null,
   "metadata": {
    "collapsed": true
   },
   "outputs": [],
   "source": []
  }
 ],
 "metadata": {
  "kernelspec": {
   "display_name": "Python 3",
   "language": "python",
   "name": "python3"
  },
  "language_info": {
   "codemirror_mode": {
    "name": "ipython",
    "version": 3
   },
   "file_extension": ".py",
   "mimetype": "text/x-python",
   "name": "python",
   "nbconvert_exporter": "python",
   "pygments_lexer": "ipython3",
   "version": "3.5.1"
  }
 },
 "nbformat": 4,
 "nbformat_minor": 0
}
