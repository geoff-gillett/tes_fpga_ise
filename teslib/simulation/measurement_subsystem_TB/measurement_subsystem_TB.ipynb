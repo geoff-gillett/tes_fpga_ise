{
 "cells": [
  {
   "cell_type": "markdown",
   "metadata": {},
   "source": [
    "timestamp 0 => clk 20\n",
    "\n",
    "traces start at clk 1"
   ]
  },
  {
   "cell_type": "code",
   "execution_count": 1,
   "metadata": {
    "collapsed": false,
    "run_control": {
     "frozen": false,
     "read_only": false
    }
   },
   "outputs": [],
   "source": [
    "from tes.data import Data,PacketStream,Packet,Payload,EventFlags,Event\n",
    "from tes.hdf5 import _PacketData, _import\n",
    "import numpy as np\n",
    "import matplotlib.pyplot as plt\n",
    "from subprocess import Popen\n",
    "\n",
    "import logging\n",
    "import sys\n",
    "logger = logging.getLogger('tes')\n",
    "logger.setLevel(logging.DEBUG)\n",
    "handler = logging.StreamHandler(sys.stderr)\n",
    "formatter = logging.Formatter('%(name)s:%(levelname)s %(message)s')\n",
    "handler.setFormatter(formatter)\n",
    "logger.handlers = [handler]\n",
    "\n",
    "trace_dt=np.dtype([('raw','i4'),('filtered','i4'),('slope','i4'),('filteredL','i4')])\n",
    "stream_dt=np.dtype([('data','i4'),('last','i4')])\n",
    "minmax_dt=np.dtype(\n",
    "    [\n",
    "        ('filtered','i4'),('timing_threshold','i4'),\n",
    "        ('height_threshold','i4'),('slope_extrema','i4'),('slope_area','i4'),('clk','i4')\n",
    "    ]\n",
    ")\n",
    "cfd_dt=np.dtype('i4')\n",
    "filteredxing_dt=np.dtype([('extrema','i4'),('area','i4'),('clk','i4')])"
   ]
  },
  {
   "cell_type": "code",
   "execution_count": null,
   "metadata": {
    "collapsed": false,
    "run_control": {
     "frozen": false,
     "read_only": false
    },
    "scrolled": false
   },
   "outputs": [],
   "source": [
    "%matplotlib notebook\n",
    "traces=Data.fromfile('traces',trace_dt,'teslib','measurement_subsystem_TB',tool='vivado')\n",
    "plt.plot(traces['slope'][1100:],'r',linewidth=1)\n",
    "plt.plot(traces['raw'][1100:],linewidth=0.5)\n",
    "plt.plot(traces['filtered'][1100:],'k',linewidth=2)"
   ]
  },
  {
   "cell_type": "code",
   "execution_count": 2,
   "metadata": {
    "collapsed": false
   },
   "outputs": [
    {
     "name": "stderr",
     "output_type": "stream",
     "text": [
      "tes.hdf5:DEBUG PacketData: from ndarray\n",
      "tes.hdf5:INFO import:pass 1: calculating sizes for hdf5 pre-allocation\n",
      "tes.hdf5:INFO import:pass 1:found 21088 bytes in 202 frames 0 sequence errors.\n",
      "tes.hdf5:DEBUG tick frames: 72 data bytes in 3 frames\n",
      "tes.hdf5:DEBUG event frames: 15264 data bytes in 159 frames\n",
      "tes.hdf5:DEBUG MCA frames: 4136 data bytes in 40 frames\n",
      "tes.hdf5:DEBUG unidentified frames: 0 bytes in 0 frames\n",
      "tes.hdf5:DEBUG MCA distributions:1  traces:3\n",
      "tes.hdf5:INFO import:pass 2:importing data\n"
     ]
    }
   ],
   "source": [
    "import h5py\n",
    "from tes.hdf5 import Trace, Hdf5, frame_header_dt\n",
    "stream=Data.fromfile('bytestream',stream_dt,'teslib','measurement_subsystem_TB',tool='vivado')\n",
    "# packets=_PacketData(stream)\n",
    "# del stream\n",
    "# _import(packets)\n",
    "# h=h5py.File('TES.hdf5','r')\n",
    "h=Hdf5('TES.hdf5',stream)\n",
    "del stream"
   ]
  },
  {
   "cell_type": "code",
   "execution_count": 10,
   "metadata": {
    "collapsed": false
   },
   "outputs": [
    {
     "name": "stdout",
     "output_type": "stream",
     "text": [
      "2\n"
     ]
    },
    {
     "data": {
      "application/javascript": [
       "/* Put everything inside the global mpl namespace */\n",
       "window.mpl = {};\n",
       "\n",
       "\n",
       "mpl.get_websocket_type = function() {\n",
       "    if (typeof(WebSocket) !== 'undefined') {\n",
       "        return WebSocket;\n",
       "    } else if (typeof(MozWebSocket) !== 'undefined') {\n",
       "        return MozWebSocket;\n",
       "    } else {\n",
       "        alert('Your browser does not have WebSocket support.' +\n",
       "              'Please try Chrome, Safari or Firefox ≥ 6. ' +\n",
       "              'Firefox 4 and 5 are also supported but you ' +\n",
       "              'have to enable WebSockets in about:config.');\n",
       "    };\n",
       "}\n",
       "\n",
       "mpl.figure = function(figure_id, websocket, ondownload, parent_element) {\n",
       "    this.id = figure_id;\n",
       "\n",
       "    this.ws = websocket;\n",
       "\n",
       "    this.supports_binary = (this.ws.binaryType != undefined);\n",
       "\n",
       "    if (!this.supports_binary) {\n",
       "        var warnings = document.getElementById(\"mpl-warnings\");\n",
       "        if (warnings) {\n",
       "            warnings.style.display = 'block';\n",
       "            warnings.textContent = (\n",
       "                \"This browser does not support binary websocket messages. \" +\n",
       "                    \"Performance may be slow.\");\n",
       "        }\n",
       "    }\n",
       "\n",
       "    this.imageObj = new Image();\n",
       "\n",
       "    this.context = undefined;\n",
       "    this.message = undefined;\n",
       "    this.canvas = undefined;\n",
       "    this.rubberband_canvas = undefined;\n",
       "    this.rubberband_context = undefined;\n",
       "    this.format_dropdown = undefined;\n",
       "\n",
       "    this.image_mode = 'full';\n",
       "\n",
       "    this.root = $('<div/>');\n",
       "    this._root_extra_style(this.root)\n",
       "    this.root.attr('style', 'display: inline-block');\n",
       "\n",
       "    $(parent_element).append(this.root);\n",
       "\n",
       "    this._init_header(this);\n",
       "    this._init_canvas(this);\n",
       "    this._init_toolbar(this);\n",
       "\n",
       "    var fig = this;\n",
       "\n",
       "    this.waiting = false;\n",
       "\n",
       "    this.ws.onopen =  function () {\n",
       "            fig.send_message(\"supports_binary\", {value: fig.supports_binary});\n",
       "            fig.send_message(\"send_image_mode\", {});\n",
       "            if (mpl.ratio != 1) {\n",
       "                fig.send_message(\"set_dpi_ratio\", {'dpi_ratio': mpl.ratio});\n",
       "            }\n",
       "            fig.send_message(\"refresh\", {});\n",
       "        }\n",
       "\n",
       "    this.imageObj.onload = function() {\n",
       "            if (fig.image_mode == 'full') {\n",
       "                // Full images could contain transparency (where diff images\n",
       "                // almost always do), so we need to clear the canvas so that\n",
       "                // there is no ghosting.\n",
       "                fig.context.clearRect(0, 0, fig.canvas.width, fig.canvas.height);\n",
       "            }\n",
       "            fig.context.drawImage(fig.imageObj, 0, 0);\n",
       "        };\n",
       "\n",
       "    this.imageObj.onunload = function() {\n",
       "        this.ws.close();\n",
       "    }\n",
       "\n",
       "    this.ws.onmessage = this._make_on_message_function(this);\n",
       "\n",
       "    this.ondownload = ondownload;\n",
       "}\n",
       "\n",
       "mpl.figure.prototype._init_header = function() {\n",
       "    var titlebar = $(\n",
       "        '<div class=\"ui-dialog-titlebar ui-widget-header ui-corner-all ' +\n",
       "        'ui-helper-clearfix\"/>');\n",
       "    var titletext = $(\n",
       "        '<div class=\"ui-dialog-title\" style=\"width: 100%; ' +\n",
       "        'text-align: center; padding: 3px;\"/>');\n",
       "    titlebar.append(titletext)\n",
       "    this.root.append(titlebar);\n",
       "    this.header = titletext[0];\n",
       "}\n",
       "\n",
       "\n",
       "\n",
       "mpl.figure.prototype._canvas_extra_style = function(canvas_div) {\n",
       "\n",
       "}\n",
       "\n",
       "\n",
       "mpl.figure.prototype._root_extra_style = function(canvas_div) {\n",
       "\n",
       "}\n",
       "\n",
       "mpl.figure.prototype._init_canvas = function() {\n",
       "    var fig = this;\n",
       "\n",
       "    var canvas_div = $('<div/>');\n",
       "\n",
       "    canvas_div.attr('style', 'position: relative; clear: both; outline: 0');\n",
       "\n",
       "    function canvas_keyboard_event(event) {\n",
       "        return fig.key_event(event, event['data']);\n",
       "    }\n",
       "\n",
       "    canvas_div.keydown('key_press', canvas_keyboard_event);\n",
       "    canvas_div.keyup('key_release', canvas_keyboard_event);\n",
       "    this.canvas_div = canvas_div\n",
       "    this._canvas_extra_style(canvas_div)\n",
       "    this.root.append(canvas_div);\n",
       "\n",
       "    var canvas = $('<canvas/>');\n",
       "    canvas.addClass('mpl-canvas');\n",
       "    canvas.attr('style', \"left: 0; top: 0; z-index: 0; outline: 0\")\n",
       "\n",
       "    this.canvas = canvas[0];\n",
       "    this.context = canvas[0].getContext(\"2d\");\n",
       "\n",
       "    var backingStore = this.context.backingStorePixelRatio ||\n",
       "\tthis.context.webkitBackingStorePixelRatio ||\n",
       "\tthis.context.mozBackingStorePixelRatio ||\n",
       "\tthis.context.msBackingStorePixelRatio ||\n",
       "\tthis.context.oBackingStorePixelRatio ||\n",
       "\tthis.context.backingStorePixelRatio || 1;\n",
       "\n",
       "    mpl.ratio = (window.devicePixelRatio || 1) / backingStore;\n",
       "\n",
       "    var rubberband = $('<canvas/>');\n",
       "    rubberband.attr('style', \"position: absolute; left: 0; top: 0; z-index: 1;\")\n",
       "\n",
       "    var pass_mouse_events = true;\n",
       "\n",
       "    canvas_div.resizable({\n",
       "        start: function(event, ui) {\n",
       "            pass_mouse_events = false;\n",
       "        },\n",
       "        resize: function(event, ui) {\n",
       "            fig.request_resize(ui.size.width, ui.size.height);\n",
       "        },\n",
       "        stop: function(event, ui) {\n",
       "            pass_mouse_events = true;\n",
       "            fig.request_resize(ui.size.width, ui.size.height);\n",
       "        },\n",
       "    });\n",
       "\n",
       "    function mouse_event_fn(event) {\n",
       "        if (pass_mouse_events)\n",
       "            return fig.mouse_event(event, event['data']);\n",
       "    }\n",
       "\n",
       "    rubberband.mousedown('button_press', mouse_event_fn);\n",
       "    rubberband.mouseup('button_release', mouse_event_fn);\n",
       "    // Throttle sequential mouse events to 1 every 20ms.\n",
       "    rubberband.mousemove('motion_notify', mouse_event_fn);\n",
       "\n",
       "    rubberband.mouseenter('figure_enter', mouse_event_fn);\n",
       "    rubberband.mouseleave('figure_leave', mouse_event_fn);\n",
       "\n",
       "    canvas_div.on(\"wheel\", function (event) {\n",
       "        event = event.originalEvent;\n",
       "        event['data'] = 'scroll'\n",
       "        if (event.deltaY < 0) {\n",
       "            event.step = 1;\n",
       "        } else {\n",
       "            event.step = -1;\n",
       "        }\n",
       "        mouse_event_fn(event);\n",
       "    });\n",
       "\n",
       "    canvas_div.append(canvas);\n",
       "    canvas_div.append(rubberband);\n",
       "\n",
       "    this.rubberband = rubberband;\n",
       "    this.rubberband_canvas = rubberband[0];\n",
       "    this.rubberband_context = rubberband[0].getContext(\"2d\");\n",
       "    this.rubberband_context.strokeStyle = \"#000000\";\n",
       "\n",
       "    this._resize_canvas = function(width, height) {\n",
       "        // Keep the size of the canvas, canvas container, and rubber band\n",
       "        // canvas in synch.\n",
       "        canvas_div.css('width', width)\n",
       "        canvas_div.css('height', height)\n",
       "\n",
       "        canvas.attr('width', width * mpl.ratio);\n",
       "        canvas.attr('height', height * mpl.ratio);\n",
       "        canvas.attr('style', 'width: ' + width + 'px; height: ' + height + 'px;');\n",
       "\n",
       "        rubberband.attr('width', width);\n",
       "        rubberband.attr('height', height);\n",
       "    }\n",
       "\n",
       "    // Set the figure to an initial 600x600px, this will subsequently be updated\n",
       "    // upon first draw.\n",
       "    this._resize_canvas(600, 600);\n",
       "\n",
       "    // Disable right mouse context menu.\n",
       "    $(this.rubberband_canvas).bind(\"contextmenu\",function(e){\n",
       "        return false;\n",
       "    });\n",
       "\n",
       "    function set_focus () {\n",
       "        canvas.focus();\n",
       "        canvas_div.focus();\n",
       "    }\n",
       "\n",
       "    window.setTimeout(set_focus, 100);\n",
       "}\n",
       "\n",
       "mpl.figure.prototype._init_toolbar = function() {\n",
       "    var fig = this;\n",
       "\n",
       "    var nav_element = $('<div/>')\n",
       "    nav_element.attr('style', 'width: 100%');\n",
       "    this.root.append(nav_element);\n",
       "\n",
       "    // Define a callback function for later on.\n",
       "    function toolbar_event(event) {\n",
       "        return fig.toolbar_button_onclick(event['data']);\n",
       "    }\n",
       "    function toolbar_mouse_event(event) {\n",
       "        return fig.toolbar_button_onmouseover(event['data']);\n",
       "    }\n",
       "\n",
       "    for(var toolbar_ind in mpl.toolbar_items) {\n",
       "        var name = mpl.toolbar_items[toolbar_ind][0];\n",
       "        var tooltip = mpl.toolbar_items[toolbar_ind][1];\n",
       "        var image = mpl.toolbar_items[toolbar_ind][2];\n",
       "        var method_name = mpl.toolbar_items[toolbar_ind][3];\n",
       "\n",
       "        if (!name) {\n",
       "            // put a spacer in here.\n",
       "            continue;\n",
       "        }\n",
       "        var button = $('<button/>');\n",
       "        button.addClass('ui-button ui-widget ui-state-default ui-corner-all ' +\n",
       "                        'ui-button-icon-only');\n",
       "        button.attr('role', 'button');\n",
       "        button.attr('aria-disabled', 'false');\n",
       "        button.click(method_name, toolbar_event);\n",
       "        button.mouseover(tooltip, toolbar_mouse_event);\n",
       "\n",
       "        var icon_img = $('<span/>');\n",
       "        icon_img.addClass('ui-button-icon-primary ui-icon');\n",
       "        icon_img.addClass(image);\n",
       "        icon_img.addClass('ui-corner-all');\n",
       "\n",
       "        var tooltip_span = $('<span/>');\n",
       "        tooltip_span.addClass('ui-button-text');\n",
       "        tooltip_span.html(tooltip);\n",
       "\n",
       "        button.append(icon_img);\n",
       "        button.append(tooltip_span);\n",
       "\n",
       "        nav_element.append(button);\n",
       "    }\n",
       "\n",
       "    var fmt_picker_span = $('<span/>');\n",
       "\n",
       "    var fmt_picker = $('<select/>');\n",
       "    fmt_picker.addClass('mpl-toolbar-option ui-widget ui-widget-content');\n",
       "    fmt_picker_span.append(fmt_picker);\n",
       "    nav_element.append(fmt_picker_span);\n",
       "    this.format_dropdown = fmt_picker[0];\n",
       "\n",
       "    for (var ind in mpl.extensions) {\n",
       "        var fmt = mpl.extensions[ind];\n",
       "        var option = $(\n",
       "            '<option/>', {selected: fmt === mpl.default_extension}).html(fmt);\n",
       "        fmt_picker.append(option)\n",
       "    }\n",
       "\n",
       "    // Add hover states to the ui-buttons\n",
       "    $( \".ui-button\" ).hover(\n",
       "        function() { $(this).addClass(\"ui-state-hover\");},\n",
       "        function() { $(this).removeClass(\"ui-state-hover\");}\n",
       "    );\n",
       "\n",
       "    var status_bar = $('<span class=\"mpl-message\"/>');\n",
       "    nav_element.append(status_bar);\n",
       "    this.message = status_bar[0];\n",
       "}\n",
       "\n",
       "mpl.figure.prototype.request_resize = function(x_pixels, y_pixels) {\n",
       "    // Request matplotlib to resize the figure. Matplotlib will then trigger a resize in the client,\n",
       "    // which will in turn request a refresh of the image.\n",
       "    this.send_message('resize', {'width': x_pixels, 'height': y_pixels});\n",
       "}\n",
       "\n",
       "mpl.figure.prototype.send_message = function(type, properties) {\n",
       "    properties['type'] = type;\n",
       "    properties['figure_id'] = this.id;\n",
       "    this.ws.send(JSON.stringify(properties));\n",
       "}\n",
       "\n",
       "mpl.figure.prototype.send_draw_message = function() {\n",
       "    if (!this.waiting) {\n",
       "        this.waiting = true;\n",
       "        this.ws.send(JSON.stringify({type: \"draw\", figure_id: this.id}));\n",
       "    }\n",
       "}\n",
       "\n",
       "\n",
       "mpl.figure.prototype.handle_save = function(fig, msg) {\n",
       "    var format_dropdown = fig.format_dropdown;\n",
       "    var format = format_dropdown.options[format_dropdown.selectedIndex].value;\n",
       "    fig.ondownload(fig, format);\n",
       "}\n",
       "\n",
       "\n",
       "mpl.figure.prototype.handle_resize = function(fig, msg) {\n",
       "    var size = msg['size'];\n",
       "    if (size[0] != fig.canvas.width || size[1] != fig.canvas.height) {\n",
       "        fig._resize_canvas(size[0], size[1]);\n",
       "        fig.send_message(\"refresh\", {});\n",
       "    };\n",
       "}\n",
       "\n",
       "mpl.figure.prototype.handle_rubberband = function(fig, msg) {\n",
       "    var x0 = msg['x0'] / mpl.ratio;\n",
       "    var y0 = (fig.canvas.height - msg['y0']) / mpl.ratio;\n",
       "    var x1 = msg['x1'] / mpl.ratio;\n",
       "    var y1 = (fig.canvas.height - msg['y1']) / mpl.ratio;\n",
       "    x0 = Math.floor(x0) + 0.5;\n",
       "    y0 = Math.floor(y0) + 0.5;\n",
       "    x1 = Math.floor(x1) + 0.5;\n",
       "    y1 = Math.floor(y1) + 0.5;\n",
       "    var min_x = Math.min(x0, x1);\n",
       "    var min_y = Math.min(y0, y1);\n",
       "    var width = Math.abs(x1 - x0);\n",
       "    var height = Math.abs(y1 - y0);\n",
       "\n",
       "    fig.rubberband_context.clearRect(\n",
       "        0, 0, fig.canvas.width, fig.canvas.height);\n",
       "\n",
       "    fig.rubberband_context.strokeRect(min_x, min_y, width, height);\n",
       "}\n",
       "\n",
       "mpl.figure.prototype.handle_figure_label = function(fig, msg) {\n",
       "    // Updates the figure title.\n",
       "    fig.header.textContent = msg['label'];\n",
       "}\n",
       "\n",
       "mpl.figure.prototype.handle_cursor = function(fig, msg) {\n",
       "    var cursor = msg['cursor'];\n",
       "    switch(cursor)\n",
       "    {\n",
       "    case 0:\n",
       "        cursor = 'pointer';\n",
       "        break;\n",
       "    case 1:\n",
       "        cursor = 'default';\n",
       "        break;\n",
       "    case 2:\n",
       "        cursor = 'crosshair';\n",
       "        break;\n",
       "    case 3:\n",
       "        cursor = 'move';\n",
       "        break;\n",
       "    }\n",
       "    fig.rubberband_canvas.style.cursor = cursor;\n",
       "}\n",
       "\n",
       "mpl.figure.prototype.handle_message = function(fig, msg) {\n",
       "    fig.message.textContent = msg['message'];\n",
       "}\n",
       "\n",
       "mpl.figure.prototype.handle_draw = function(fig, msg) {\n",
       "    // Request the server to send over a new figure.\n",
       "    fig.send_draw_message();\n",
       "}\n",
       "\n",
       "mpl.figure.prototype.handle_image_mode = function(fig, msg) {\n",
       "    fig.image_mode = msg['mode'];\n",
       "}\n",
       "\n",
       "mpl.figure.prototype.updated_canvas_event = function() {\n",
       "    // Called whenever the canvas gets updated.\n",
       "    this.send_message(\"ack\", {});\n",
       "}\n",
       "\n",
       "// A function to construct a web socket function for onmessage handling.\n",
       "// Called in the figure constructor.\n",
       "mpl.figure.prototype._make_on_message_function = function(fig) {\n",
       "    return function socket_on_message(evt) {\n",
       "        if (evt.data instanceof Blob) {\n",
       "            /* FIXME: We get \"Resource interpreted as Image but\n",
       "             * transferred with MIME type text/plain:\" errors on\n",
       "             * Chrome.  But how to set the MIME type?  It doesn't seem\n",
       "             * to be part of the websocket stream */\n",
       "            evt.data.type = \"image/png\";\n",
       "\n",
       "            /* Free the memory for the previous frames */\n",
       "            if (fig.imageObj.src) {\n",
       "                (window.URL || window.webkitURL).revokeObjectURL(\n",
       "                    fig.imageObj.src);\n",
       "            }\n",
       "\n",
       "            fig.imageObj.src = (window.URL || window.webkitURL).createObjectURL(\n",
       "                evt.data);\n",
       "            fig.updated_canvas_event();\n",
       "            fig.waiting = false;\n",
       "            return;\n",
       "        }\n",
       "        else if (typeof evt.data === 'string' && evt.data.slice(0, 21) == \"data:image/png;base64\") {\n",
       "            fig.imageObj.src = evt.data;\n",
       "            fig.updated_canvas_event();\n",
       "            fig.waiting = false;\n",
       "            return;\n",
       "        }\n",
       "\n",
       "        var msg = JSON.parse(evt.data);\n",
       "        var msg_type = msg['type'];\n",
       "\n",
       "        // Call the  \"handle_{type}\" callback, which takes\n",
       "        // the figure and JSON message as its only arguments.\n",
       "        try {\n",
       "            var callback = fig[\"handle_\" + msg_type];\n",
       "        } catch (e) {\n",
       "            console.log(\"No handler for the '\" + msg_type + \"' message type: \", msg);\n",
       "            return;\n",
       "        }\n",
       "\n",
       "        if (callback) {\n",
       "            try {\n",
       "                // console.log(\"Handling '\" + msg_type + \"' message: \", msg);\n",
       "                callback(fig, msg);\n",
       "            } catch (e) {\n",
       "                console.log(\"Exception inside the 'handler_\" + msg_type + \"' callback:\", e, e.stack, msg);\n",
       "            }\n",
       "        }\n",
       "    };\n",
       "}\n",
       "\n",
       "// from http://stackoverflow.com/questions/1114465/getting-mouse-location-in-canvas\n",
       "mpl.findpos = function(e) {\n",
       "    //this section is from http://www.quirksmode.org/js/events_properties.html\n",
       "    var targ;\n",
       "    if (!e)\n",
       "        e = window.event;\n",
       "    if (e.target)\n",
       "        targ = e.target;\n",
       "    else if (e.srcElement)\n",
       "        targ = e.srcElement;\n",
       "    if (targ.nodeType == 3) // defeat Safari bug\n",
       "        targ = targ.parentNode;\n",
       "\n",
       "    // jQuery normalizes the pageX and pageY\n",
       "    // pageX,Y are the mouse positions relative to the document\n",
       "    // offset() returns the position of the element relative to the document\n",
       "    var x = e.pageX - $(targ).offset().left;\n",
       "    var y = e.pageY - $(targ).offset().top;\n",
       "\n",
       "    return {\"x\": x, \"y\": y};\n",
       "};\n",
       "\n",
       "/*\n",
       " * return a copy of an object with only non-object keys\n",
       " * we need this to avoid circular references\n",
       " * http://stackoverflow.com/a/24161582/3208463\n",
       " */\n",
       "function simpleKeys (original) {\n",
       "  return Object.keys(original).reduce(function (obj, key) {\n",
       "    if (typeof original[key] !== 'object')\n",
       "        obj[key] = original[key]\n",
       "    return obj;\n",
       "  }, {});\n",
       "}\n",
       "\n",
       "mpl.figure.prototype.mouse_event = function(event, name) {\n",
       "    var canvas_pos = mpl.findpos(event)\n",
       "\n",
       "    if (name === 'button_press')\n",
       "    {\n",
       "        this.canvas.focus();\n",
       "        this.canvas_div.focus();\n",
       "    }\n",
       "\n",
       "    var x = canvas_pos.x * mpl.ratio;\n",
       "    var y = canvas_pos.y * mpl.ratio;\n",
       "\n",
       "    this.send_message(name, {x: x, y: y, button: event.button,\n",
       "                             step: event.step,\n",
       "                             guiEvent: simpleKeys(event)});\n",
       "\n",
       "    /* This prevents the web browser from automatically changing to\n",
       "     * the text insertion cursor when the button is pressed.  We want\n",
       "     * to control all of the cursor setting manually through the\n",
       "     * 'cursor' event from matplotlib */\n",
       "    event.preventDefault();\n",
       "    return false;\n",
       "}\n",
       "\n",
       "mpl.figure.prototype._key_event_extra = function(event, name) {\n",
       "    // Handle any extra behaviour associated with a key event\n",
       "}\n",
       "\n",
       "mpl.figure.prototype.key_event = function(event, name) {\n",
       "\n",
       "    // Prevent repeat events\n",
       "    if (name == 'key_press')\n",
       "    {\n",
       "        if (event.which === this._key)\n",
       "            return;\n",
       "        else\n",
       "            this._key = event.which;\n",
       "    }\n",
       "    if (name == 'key_release')\n",
       "        this._key = null;\n",
       "\n",
       "    var value = '';\n",
       "    if (event.ctrlKey && event.which != 17)\n",
       "        value += \"ctrl+\";\n",
       "    if (event.altKey && event.which != 18)\n",
       "        value += \"alt+\";\n",
       "    if (event.shiftKey && event.which != 16)\n",
       "        value += \"shift+\";\n",
       "\n",
       "    value += 'k';\n",
       "    value += event.which.toString();\n",
       "\n",
       "    this._key_event_extra(event, name);\n",
       "\n",
       "    this.send_message(name, {key: value,\n",
       "                             guiEvent: simpleKeys(event)});\n",
       "    return false;\n",
       "}\n",
       "\n",
       "mpl.figure.prototype.toolbar_button_onclick = function(name) {\n",
       "    if (name == 'download') {\n",
       "        this.handle_save(this, null);\n",
       "    } else {\n",
       "        this.send_message(\"toolbar_button\", {name: name});\n",
       "    }\n",
       "};\n",
       "\n",
       "mpl.figure.prototype.toolbar_button_onmouseover = function(tooltip) {\n",
       "    this.message.textContent = tooltip;\n",
       "};\n",
       "mpl.toolbar_items = [[\"Home\", \"Reset original view\", \"fa fa-home icon-home\", \"home\"], [\"Back\", \"Back to  previous view\", \"fa fa-arrow-left icon-arrow-left\", \"back\"], [\"Forward\", \"Forward to next view\", \"fa fa-arrow-right icon-arrow-right\", \"forward\"], [\"\", \"\", \"\", \"\"], [\"Pan\", \"Pan axes with left mouse, zoom with right\", \"fa fa-arrows icon-move\", \"pan\"], [\"Zoom\", \"Zoom to rectangle\", \"fa fa-square-o icon-check-empty\", \"zoom\"], [\"\", \"\", \"\", \"\"], [\"Download\", \"Download plot\", \"fa fa-floppy-o icon-save\", \"download\"]];\n",
       "\n",
       "mpl.extensions = [\"eps\", \"jpeg\", \"pdf\", \"png\", \"ps\", \"raw\", \"svg\", \"tif\"];\n",
       "\n",
       "mpl.default_extension = \"png\";var comm_websocket_adapter = function(comm) {\n",
       "    // Create a \"websocket\"-like object which calls the given IPython comm\n",
       "    // object with the appropriate methods. Currently this is a non binary\n",
       "    // socket, so there is still some room for performance tuning.\n",
       "    var ws = {};\n",
       "\n",
       "    ws.close = function() {\n",
       "        comm.close()\n",
       "    };\n",
       "    ws.send = function(m) {\n",
       "        //console.log('sending', m);\n",
       "        comm.send(m);\n",
       "    };\n",
       "    // Register the callback with on_msg.\n",
       "    comm.on_msg(function(msg) {\n",
       "        //console.log('receiving', msg['content']['data'], msg);\n",
       "        // Pass the mpl event to the overriden (by mpl) onmessage function.\n",
       "        ws.onmessage(msg['content']['data'])\n",
       "    });\n",
       "    return ws;\n",
       "}\n",
       "\n",
       "mpl.mpl_figure_comm = function(comm, msg) {\n",
       "    // This is the function which gets called when the mpl process\n",
       "    // starts-up an IPython Comm through the \"matplotlib\" channel.\n",
       "\n",
       "    var id = msg.content.data.id;\n",
       "    // Get hold of the div created by the display call when the Comm\n",
       "    // socket was opened in Python.\n",
       "    var element = $(\"#\" + id);\n",
       "    var ws_proxy = comm_websocket_adapter(comm)\n",
       "\n",
       "    function ondownload(figure, format) {\n",
       "        window.open(figure.imageObj.src);\n",
       "    }\n",
       "\n",
       "    var fig = new mpl.figure(id, ws_proxy,\n",
       "                           ondownload,\n",
       "                           element.get(0));\n",
       "\n",
       "    // Call onopen now - mpl needs it, as it is assuming we've passed it a real\n",
       "    // web socket which is closed, not our websocket->open comm proxy.\n",
       "    ws_proxy.onopen();\n",
       "\n",
       "    fig.parent_element = element.get(0);\n",
       "    fig.cell_info = mpl.find_output_cell(\"<div id='\" + id + \"'></div>\");\n",
       "    if (!fig.cell_info) {\n",
       "        console.error(\"Failed to find cell for figure\", id, fig);\n",
       "        return;\n",
       "    }\n",
       "\n",
       "    var output_index = fig.cell_info[2]\n",
       "    var cell = fig.cell_info[0];\n",
       "\n",
       "};\n",
       "\n",
       "mpl.figure.prototype.handle_close = function(fig, msg) {\n",
       "    var width = fig.canvas.width/mpl.ratio\n",
       "    fig.root.unbind('remove')\n",
       "\n",
       "    // Update the output cell to use the data from the current canvas.\n",
       "    fig.push_to_output();\n",
       "    var dataURL = fig.canvas.toDataURL();\n",
       "    // Re-enable the keyboard manager in IPython - without this line, in FF,\n",
       "    // the notebook keyboard shortcuts fail.\n",
       "    IPython.keyboard_manager.enable()\n",
       "    $(fig.parent_element).html('<img src=\"' + dataURL + '\" width=\"' + width + '\">');\n",
       "    fig.close_ws(fig, msg);\n",
       "}\n",
       "\n",
       "mpl.figure.prototype.close_ws = function(fig, msg){\n",
       "    fig.send_message('closing', msg);\n",
       "    // fig.ws.close()\n",
       "}\n",
       "\n",
       "mpl.figure.prototype.push_to_output = function(remove_interactive) {\n",
       "    // Turn the data on the canvas into data in the output cell.\n",
       "    var width = this.canvas.width/mpl.ratio\n",
       "    var dataURL = this.canvas.toDataURL();\n",
       "    this.cell_info[1]['text/html'] = '<img src=\"' + dataURL + '\" width=\"' + width + '\">';\n",
       "}\n",
       "\n",
       "mpl.figure.prototype.updated_canvas_event = function() {\n",
       "    // Tell IPython that the notebook contents must change.\n",
       "    IPython.notebook.set_dirty(true);\n",
       "    this.send_message(\"ack\", {});\n",
       "    var fig = this;\n",
       "    // Wait a second, then push the new image to the DOM so\n",
       "    // that it is saved nicely (might be nice to debounce this).\n",
       "    setTimeout(function () { fig.push_to_output() }, 1000);\n",
       "}\n",
       "\n",
       "mpl.figure.prototype._init_toolbar = function() {\n",
       "    var fig = this;\n",
       "\n",
       "    var nav_element = $('<div/>')\n",
       "    nav_element.attr('style', 'width: 100%');\n",
       "    this.root.append(nav_element);\n",
       "\n",
       "    // Define a callback function for later on.\n",
       "    function toolbar_event(event) {\n",
       "        return fig.toolbar_button_onclick(event['data']);\n",
       "    }\n",
       "    function toolbar_mouse_event(event) {\n",
       "        return fig.toolbar_button_onmouseover(event['data']);\n",
       "    }\n",
       "\n",
       "    for(var toolbar_ind in mpl.toolbar_items){\n",
       "        var name = mpl.toolbar_items[toolbar_ind][0];\n",
       "        var tooltip = mpl.toolbar_items[toolbar_ind][1];\n",
       "        var image = mpl.toolbar_items[toolbar_ind][2];\n",
       "        var method_name = mpl.toolbar_items[toolbar_ind][3];\n",
       "\n",
       "        if (!name) { continue; };\n",
       "\n",
       "        var button = $('<button class=\"btn btn-default\" href=\"#\" title=\"' + name + '\"><i class=\"fa ' + image + ' fa-lg\"></i></button>');\n",
       "        button.click(method_name, toolbar_event);\n",
       "        button.mouseover(tooltip, toolbar_mouse_event);\n",
       "        nav_element.append(button);\n",
       "    }\n",
       "\n",
       "    // Add the status bar.\n",
       "    var status_bar = $('<span class=\"mpl-message\" style=\"text-align:right; float: right;\"/>');\n",
       "    nav_element.append(status_bar);\n",
       "    this.message = status_bar[0];\n",
       "\n",
       "    // Add the close button to the window.\n",
       "    var buttongrp = $('<div class=\"btn-group inline pull-right\"></div>');\n",
       "    var button = $('<button class=\"btn btn-mini btn-primary\" href=\"#\" title=\"Stop Interaction\"><i class=\"fa fa-power-off icon-remove icon-large\"></i></button>');\n",
       "    button.click(function (evt) { fig.handle_close(fig, {}); } );\n",
       "    button.mouseover('Stop Interaction', toolbar_mouse_event);\n",
       "    buttongrp.append(button);\n",
       "    var titlebar = this.root.find($('.ui-dialog-titlebar'));\n",
       "    titlebar.prepend(buttongrp);\n",
       "}\n",
       "\n",
       "mpl.figure.prototype._root_extra_style = function(el){\n",
       "    var fig = this\n",
       "    el.on(\"remove\", function(){\n",
       "\tfig.close_ws(fig, {});\n",
       "    });\n",
       "}\n",
       "\n",
       "mpl.figure.prototype._canvas_extra_style = function(el){\n",
       "    // this is important to make the div 'focusable\n",
       "    el.attr('tabindex', 0)\n",
       "    // reach out to IPython and tell the keyboard manager to turn it's self\n",
       "    // off when our div gets focus\n",
       "\n",
       "    // location in version 3\n",
       "    if (IPython.notebook.keyboard_manager) {\n",
       "        IPython.notebook.keyboard_manager.register_events(el);\n",
       "    }\n",
       "    else {\n",
       "        // location in version 2\n",
       "        IPython.keyboard_manager.register_events(el);\n",
       "    }\n",
       "\n",
       "}\n",
       "\n",
       "mpl.figure.prototype._key_event_extra = function(event, name) {\n",
       "    var manager = IPython.notebook.keyboard_manager;\n",
       "    if (!manager)\n",
       "        manager = IPython.keyboard_manager;\n",
       "\n",
       "    // Check for shift+enter\n",
       "    if (event.shiftKey && event.which == 13) {\n",
       "        this.canvas_div.blur();\n",
       "        // select the cell after this one\n",
       "        var index = IPython.notebook.find_cell_index(this.cell_info[0]);\n",
       "        IPython.notebook.select(index + 1);\n",
       "    }\n",
       "}\n",
       "\n",
       "mpl.figure.prototype.handle_save = function(fig, msg) {\n",
       "    fig.ondownload(fig, null);\n",
       "}\n",
       "\n",
       "\n",
       "mpl.find_output_cell = function(html_output) {\n",
       "    // Return the cell and output element which can be found *uniquely* in the notebook.\n",
       "    // Note - this is a bit hacky, but it is done because the \"notebook_saving.Notebook\"\n",
       "    // IPython event is triggered only after the cells have been serialised, which for\n",
       "    // our purposes (turning an active figure into a static one), is too late.\n",
       "    var cells = IPython.notebook.get_cells();\n",
       "    var ncells = cells.length;\n",
       "    for (var i=0; i<ncells; i++) {\n",
       "        var cell = cells[i];\n",
       "        if (cell.cell_type === 'code'){\n",
       "            for (var j=0; j<cell.output_area.outputs.length; j++) {\n",
       "                var data = cell.output_area.outputs[j];\n",
       "                if (data.data) {\n",
       "                    // IPython >= 3 moved mimebundle to data attribute of output\n",
       "                    data = data.data;\n",
       "                }\n",
       "                if (data['text/html'] == html_output) {\n",
       "                    return [cell, data, j];\n",
       "                }\n",
       "            }\n",
       "        }\n",
       "    }\n",
       "}\n",
       "\n",
       "// Register the function which deals with the matplotlib target/channel.\n",
       "// The kernel may be null if the page has been refreshed.\n",
       "if (IPython.notebook.kernel != null) {\n",
       "    IPython.notebook.kernel.comm_manager.register_target('matplotlib', mpl.mpl_figure_comm);\n",
       "}\n"
      ],
      "text/plain": [
       "<IPython.core.display.Javascript object>"
      ]
     },
     "metadata": {},
     "output_type": "display_data"
    },
    {
     "data": {
      "text/html": [
       "<img src=\"data:image/png;base64,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\" width=\"640\">"
      ],
      "text/plain": [
       "<IPython.core.display.HTML object>"
      ]
     },
     "metadata": {},
     "output_type": "display_data"
    },
    {
     "data": {
      "text/plain": [
       "[<matplotlib.lines.Line2D at 0x816f2b0>]"
      ]
     },
     "execution_count": 10,
     "metadata": {},
     "output_type": "execute_result"
    }
   ],
   "source": [
    "%matplotlib notebook\n",
    "plt.plot(h.traces[2].samples)"
   ]
  },
  {
   "cell_type": "code",
   "execution_count": 8,
   "metadata": {
    "collapsed": false
   },
   "outputs": [
    {
     "data": {
      "text/plain": [
       "8192"
      ]
     },
     "execution_count": 8,
     "metadata": {},
     "output_type": "execute_result"
    }
   ],
   "source": [
    "h.distributions[0].stop_time"
   ]
  },
  {
   "cell_type": "code",
   "execution_count": 4,
   "metadata": {
    "collapsed": false
   },
   "outputs": [
    {
     "data": {
      "application/javascript": [
       "/* Put everything inside the global mpl namespace */\n",
       "window.mpl = {};\n",
       "\n",
       "\n",
       "mpl.get_websocket_type = function() {\n",
       "    if (typeof(WebSocket) !== 'undefined') {\n",
       "        return WebSocket;\n",
       "    } else if (typeof(MozWebSocket) !== 'undefined') {\n",
       "        return MozWebSocket;\n",
       "    } else {\n",
       "        alert('Your browser does not have WebSocket support.' +\n",
       "              'Please try Chrome, Safari or Firefox ≥ 6. ' +\n",
       "              'Firefox 4 and 5 are also supported but you ' +\n",
       "              'have to enable WebSockets in about:config.');\n",
       "    };\n",
       "}\n",
       "\n",
       "mpl.figure = function(figure_id, websocket, ondownload, parent_element) {\n",
       "    this.id = figure_id;\n",
       "\n",
       "    this.ws = websocket;\n",
       "\n",
       "    this.supports_binary = (this.ws.binaryType != undefined);\n",
       "\n",
       "    if (!this.supports_binary) {\n",
       "        var warnings = document.getElementById(\"mpl-warnings\");\n",
       "        if (warnings) {\n",
       "            warnings.style.display = 'block';\n",
       "            warnings.textContent = (\n",
       "                \"This browser does not support binary websocket messages. \" +\n",
       "                    \"Performance may be slow.\");\n",
       "        }\n",
       "    }\n",
       "\n",
       "    this.imageObj = new Image();\n",
       "\n",
       "    this.context = undefined;\n",
       "    this.message = undefined;\n",
       "    this.canvas = undefined;\n",
       "    this.rubberband_canvas = undefined;\n",
       "    this.rubberband_context = undefined;\n",
       "    this.format_dropdown = undefined;\n",
       "\n",
       "    this.image_mode = 'full';\n",
       "\n",
       "    this.root = $('<div/>');\n",
       "    this._root_extra_style(this.root)\n",
       "    this.root.attr('style', 'display: inline-block');\n",
       "\n",
       "    $(parent_element).append(this.root);\n",
       "\n",
       "    this._init_header(this);\n",
       "    this._init_canvas(this);\n",
       "    this._init_toolbar(this);\n",
       "\n",
       "    var fig = this;\n",
       "\n",
       "    this.waiting = false;\n",
       "\n",
       "    this.ws.onopen =  function () {\n",
       "            fig.send_message(\"supports_binary\", {value: fig.supports_binary});\n",
       "            fig.send_message(\"send_image_mode\", {});\n",
       "            if (mpl.ratio != 1) {\n",
       "                fig.send_message(\"set_dpi_ratio\", {'dpi_ratio': mpl.ratio});\n",
       "            }\n",
       "            fig.send_message(\"refresh\", {});\n",
       "        }\n",
       "\n",
       "    this.imageObj.onload = function() {\n",
       "            if (fig.image_mode == 'full') {\n",
       "                // Full images could contain transparency (where diff images\n",
       "                // almost always do), so we need to clear the canvas so that\n",
       "                // there is no ghosting.\n",
       "                fig.context.clearRect(0, 0, fig.canvas.width, fig.canvas.height);\n",
       "            }\n",
       "            fig.context.drawImage(fig.imageObj, 0, 0);\n",
       "        };\n",
       "\n",
       "    this.imageObj.onunload = function() {\n",
       "        this.ws.close();\n",
       "    }\n",
       "\n",
       "    this.ws.onmessage = this._make_on_message_function(this);\n",
       "\n",
       "    this.ondownload = ondownload;\n",
       "}\n",
       "\n",
       "mpl.figure.prototype._init_header = function() {\n",
       "    var titlebar = $(\n",
       "        '<div class=\"ui-dialog-titlebar ui-widget-header ui-corner-all ' +\n",
       "        'ui-helper-clearfix\"/>');\n",
       "    var titletext = $(\n",
       "        '<div class=\"ui-dialog-title\" style=\"width: 100%; ' +\n",
       "        'text-align: center; padding: 3px;\"/>');\n",
       "    titlebar.append(titletext)\n",
       "    this.root.append(titlebar);\n",
       "    this.header = titletext[0];\n",
       "}\n",
       "\n",
       "\n",
       "\n",
       "mpl.figure.prototype._canvas_extra_style = function(canvas_div) {\n",
       "\n",
       "}\n",
       "\n",
       "\n",
       "mpl.figure.prototype._root_extra_style = function(canvas_div) {\n",
       "\n",
       "}\n",
       "\n",
       "mpl.figure.prototype._init_canvas = function() {\n",
       "    var fig = this;\n",
       "\n",
       "    var canvas_div = $('<div/>');\n",
       "\n",
       "    canvas_div.attr('style', 'position: relative; clear: both; outline: 0');\n",
       "\n",
       "    function canvas_keyboard_event(event) {\n",
       "        return fig.key_event(event, event['data']);\n",
       "    }\n",
       "\n",
       "    canvas_div.keydown('key_press', canvas_keyboard_event);\n",
       "    canvas_div.keyup('key_release', canvas_keyboard_event);\n",
       "    this.canvas_div = canvas_div\n",
       "    this._canvas_extra_style(canvas_div)\n",
       "    this.root.append(canvas_div);\n",
       "\n",
       "    var canvas = $('<canvas/>');\n",
       "    canvas.addClass('mpl-canvas');\n",
       "    canvas.attr('style', \"left: 0; top: 0; z-index: 0; outline: 0\")\n",
       "\n",
       "    this.canvas = canvas[0];\n",
       "    this.context = canvas[0].getContext(\"2d\");\n",
       "\n",
       "    var backingStore = this.context.backingStorePixelRatio ||\n",
       "\tthis.context.webkitBackingStorePixelRatio ||\n",
       "\tthis.context.mozBackingStorePixelRatio ||\n",
       "\tthis.context.msBackingStorePixelRatio ||\n",
       "\tthis.context.oBackingStorePixelRatio ||\n",
       "\tthis.context.backingStorePixelRatio || 1;\n",
       "\n",
       "    mpl.ratio = (window.devicePixelRatio || 1) / backingStore;\n",
       "\n",
       "    var rubberband = $('<canvas/>');\n",
       "    rubberband.attr('style', \"position: absolute; left: 0; top: 0; z-index: 1;\")\n",
       "\n",
       "    var pass_mouse_events = true;\n",
       "\n",
       "    canvas_div.resizable({\n",
       "        start: function(event, ui) {\n",
       "            pass_mouse_events = false;\n",
       "        },\n",
       "        resize: function(event, ui) {\n",
       "            fig.request_resize(ui.size.width, ui.size.height);\n",
       "        },\n",
       "        stop: function(event, ui) {\n",
       "            pass_mouse_events = true;\n",
       "            fig.request_resize(ui.size.width, ui.size.height);\n",
       "        },\n",
       "    });\n",
       "\n",
       "    function mouse_event_fn(event) {\n",
       "        if (pass_mouse_events)\n",
       "            return fig.mouse_event(event, event['data']);\n",
       "    }\n",
       "\n",
       "    rubberband.mousedown('button_press', mouse_event_fn);\n",
       "    rubberband.mouseup('button_release', mouse_event_fn);\n",
       "    // Throttle sequential mouse events to 1 every 20ms.\n",
       "    rubberband.mousemove('motion_notify', mouse_event_fn);\n",
       "\n",
       "    rubberband.mouseenter('figure_enter', mouse_event_fn);\n",
       "    rubberband.mouseleave('figure_leave', mouse_event_fn);\n",
       "\n",
       "    canvas_div.on(\"wheel\", function (event) {\n",
       "        event = event.originalEvent;\n",
       "        event['data'] = 'scroll'\n",
       "        if (event.deltaY < 0) {\n",
       "            event.step = 1;\n",
       "        } else {\n",
       "            event.step = -1;\n",
       "        }\n",
       "        mouse_event_fn(event);\n",
       "    });\n",
       "\n",
       "    canvas_div.append(canvas);\n",
       "    canvas_div.append(rubberband);\n",
       "\n",
       "    this.rubberband = rubberband;\n",
       "    this.rubberband_canvas = rubberband[0];\n",
       "    this.rubberband_context = rubberband[0].getContext(\"2d\");\n",
       "    this.rubberband_context.strokeStyle = \"#000000\";\n",
       "\n",
       "    this._resize_canvas = function(width, height) {\n",
       "        // Keep the size of the canvas, canvas container, and rubber band\n",
       "        // canvas in synch.\n",
       "        canvas_div.css('width', width)\n",
       "        canvas_div.css('height', height)\n",
       "\n",
       "        canvas.attr('width', width * mpl.ratio);\n",
       "        canvas.attr('height', height * mpl.ratio);\n",
       "        canvas.attr('style', 'width: ' + width + 'px; height: ' + height + 'px;');\n",
       "\n",
       "        rubberband.attr('width', width);\n",
       "        rubberband.attr('height', height);\n",
       "    }\n",
       "\n",
       "    // Set the figure to an initial 600x600px, this will subsequently be updated\n",
       "    // upon first draw.\n",
       "    this._resize_canvas(600, 600);\n",
       "\n",
       "    // Disable right mouse context menu.\n",
       "    $(this.rubberband_canvas).bind(\"contextmenu\",function(e){\n",
       "        return false;\n",
       "    });\n",
       "\n",
       "    function set_focus () {\n",
       "        canvas.focus();\n",
       "        canvas_div.focus();\n",
       "    }\n",
       "\n",
       "    window.setTimeout(set_focus, 100);\n",
       "}\n",
       "\n",
       "mpl.figure.prototype._init_toolbar = function() {\n",
       "    var fig = this;\n",
       "\n",
       "    var nav_element = $('<div/>')\n",
       "    nav_element.attr('style', 'width: 100%');\n",
       "    this.root.append(nav_element);\n",
       "\n",
       "    // Define a callback function for later on.\n",
       "    function toolbar_event(event) {\n",
       "        return fig.toolbar_button_onclick(event['data']);\n",
       "    }\n",
       "    function toolbar_mouse_event(event) {\n",
       "        return fig.toolbar_button_onmouseover(event['data']);\n",
       "    }\n",
       "\n",
       "    for(var toolbar_ind in mpl.toolbar_items) {\n",
       "        var name = mpl.toolbar_items[toolbar_ind][0];\n",
       "        var tooltip = mpl.toolbar_items[toolbar_ind][1];\n",
       "        var image = mpl.toolbar_items[toolbar_ind][2];\n",
       "        var method_name = mpl.toolbar_items[toolbar_ind][3];\n",
       "\n",
       "        if (!name) {\n",
       "            // put a spacer in here.\n",
       "            continue;\n",
       "        }\n",
       "        var button = $('<button/>');\n",
       "        button.addClass('ui-button ui-widget ui-state-default ui-corner-all ' +\n",
       "                        'ui-button-icon-only');\n",
       "        button.attr('role', 'button');\n",
       "        button.attr('aria-disabled', 'false');\n",
       "        button.click(method_name, toolbar_event);\n",
       "        button.mouseover(tooltip, toolbar_mouse_event);\n",
       "\n",
       "        var icon_img = $('<span/>');\n",
       "        icon_img.addClass('ui-button-icon-primary ui-icon');\n",
       "        icon_img.addClass(image);\n",
       "        icon_img.addClass('ui-corner-all');\n",
       "\n",
       "        var tooltip_span = $('<span/>');\n",
       "        tooltip_span.addClass('ui-button-text');\n",
       "        tooltip_span.html(tooltip);\n",
       "\n",
       "        button.append(icon_img);\n",
       "        button.append(tooltip_span);\n",
       "\n",
       "        nav_element.append(button);\n",
       "    }\n",
       "\n",
       "    var fmt_picker_span = $('<span/>');\n",
       "\n",
       "    var fmt_picker = $('<select/>');\n",
       "    fmt_picker.addClass('mpl-toolbar-option ui-widget ui-widget-content');\n",
       "    fmt_picker_span.append(fmt_picker);\n",
       "    nav_element.append(fmt_picker_span);\n",
       "    this.format_dropdown = fmt_picker[0];\n",
       "\n",
       "    for (var ind in mpl.extensions) {\n",
       "        var fmt = mpl.extensions[ind];\n",
       "        var option = $(\n",
       "            '<option/>', {selected: fmt === mpl.default_extension}).html(fmt);\n",
       "        fmt_picker.append(option)\n",
       "    }\n",
       "\n",
       "    // Add hover states to the ui-buttons\n",
       "    $( \".ui-button\" ).hover(\n",
       "        function() { $(this).addClass(\"ui-state-hover\");},\n",
       "        function() { $(this).removeClass(\"ui-state-hover\");}\n",
       "    );\n",
       "\n",
       "    var status_bar = $('<span class=\"mpl-message\"/>');\n",
       "    nav_element.append(status_bar);\n",
       "    this.message = status_bar[0];\n",
       "}\n",
       "\n",
       "mpl.figure.prototype.request_resize = function(x_pixels, y_pixels) {\n",
       "    // Request matplotlib to resize the figure. Matplotlib will then trigger a resize in the client,\n",
       "    // which will in turn request a refresh of the image.\n",
       "    this.send_message('resize', {'width': x_pixels, 'height': y_pixels});\n",
       "}\n",
       "\n",
       "mpl.figure.prototype.send_message = function(type, properties) {\n",
       "    properties['type'] = type;\n",
       "    properties['figure_id'] = this.id;\n",
       "    this.ws.send(JSON.stringify(properties));\n",
       "}\n",
       "\n",
       "mpl.figure.prototype.send_draw_message = function() {\n",
       "    if (!this.waiting) {\n",
       "        this.waiting = true;\n",
       "        this.ws.send(JSON.stringify({type: \"draw\", figure_id: this.id}));\n",
       "    }\n",
       "}\n",
       "\n",
       "\n",
       "mpl.figure.prototype.handle_save = function(fig, msg) {\n",
       "    var format_dropdown = fig.format_dropdown;\n",
       "    var format = format_dropdown.options[format_dropdown.selectedIndex].value;\n",
       "    fig.ondownload(fig, format);\n",
       "}\n",
       "\n",
       "\n",
       "mpl.figure.prototype.handle_resize = function(fig, msg) {\n",
       "    var size = msg['size'];\n",
       "    if (size[0] != fig.canvas.width || size[1] != fig.canvas.height) {\n",
       "        fig._resize_canvas(size[0], size[1]);\n",
       "        fig.send_message(\"refresh\", {});\n",
       "    };\n",
       "}\n",
       "\n",
       "mpl.figure.prototype.handle_rubberband = function(fig, msg) {\n",
       "    var x0 = msg['x0'] / mpl.ratio;\n",
       "    var y0 = (fig.canvas.height - msg['y0']) / mpl.ratio;\n",
       "    var x1 = msg['x1'] / mpl.ratio;\n",
       "    var y1 = (fig.canvas.height - msg['y1']) / mpl.ratio;\n",
       "    x0 = Math.floor(x0) + 0.5;\n",
       "    y0 = Math.floor(y0) + 0.5;\n",
       "    x1 = Math.floor(x1) + 0.5;\n",
       "    y1 = Math.floor(y1) + 0.5;\n",
       "    var min_x = Math.min(x0, x1);\n",
       "    var min_y = Math.min(y0, y1);\n",
       "    var width = Math.abs(x1 - x0);\n",
       "    var height = Math.abs(y1 - y0);\n",
       "\n",
       "    fig.rubberband_context.clearRect(\n",
       "        0, 0, fig.canvas.width, fig.canvas.height);\n",
       "\n",
       "    fig.rubberband_context.strokeRect(min_x, min_y, width, height);\n",
       "}\n",
       "\n",
       "mpl.figure.prototype.handle_figure_label = function(fig, msg) {\n",
       "    // Updates the figure title.\n",
       "    fig.header.textContent = msg['label'];\n",
       "}\n",
       "\n",
       "mpl.figure.prototype.handle_cursor = function(fig, msg) {\n",
       "    var cursor = msg['cursor'];\n",
       "    switch(cursor)\n",
       "    {\n",
       "    case 0:\n",
       "        cursor = 'pointer';\n",
       "        break;\n",
       "    case 1:\n",
       "        cursor = 'default';\n",
       "        break;\n",
       "    case 2:\n",
       "        cursor = 'crosshair';\n",
       "        break;\n",
       "    case 3:\n",
       "        cursor = 'move';\n",
       "        break;\n",
       "    }\n",
       "    fig.rubberband_canvas.style.cursor = cursor;\n",
       "}\n",
       "\n",
       "mpl.figure.prototype.handle_message = function(fig, msg) {\n",
       "    fig.message.textContent = msg['message'];\n",
       "}\n",
       "\n",
       "mpl.figure.prototype.handle_draw = function(fig, msg) {\n",
       "    // Request the server to send over a new figure.\n",
       "    fig.send_draw_message();\n",
       "}\n",
       "\n",
       "mpl.figure.prototype.handle_image_mode = function(fig, msg) {\n",
       "    fig.image_mode = msg['mode'];\n",
       "}\n",
       "\n",
       "mpl.figure.prototype.updated_canvas_event = function() {\n",
       "    // Called whenever the canvas gets updated.\n",
       "    this.send_message(\"ack\", {});\n",
       "}\n",
       "\n",
       "// A function to construct a web socket function for onmessage handling.\n",
       "// Called in the figure constructor.\n",
       "mpl.figure.prototype._make_on_message_function = function(fig) {\n",
       "    return function socket_on_message(evt) {\n",
       "        if (evt.data instanceof Blob) {\n",
       "            /* FIXME: We get \"Resource interpreted as Image but\n",
       "             * transferred with MIME type text/plain:\" errors on\n",
       "             * Chrome.  But how to set the MIME type?  It doesn't seem\n",
       "             * to be part of the websocket stream */\n",
       "            evt.data.type = \"image/png\";\n",
       "\n",
       "            /* Free the memory for the previous frames */\n",
       "            if (fig.imageObj.src) {\n",
       "                (window.URL || window.webkitURL).revokeObjectURL(\n",
       "                    fig.imageObj.src);\n",
       "            }\n",
       "\n",
       "            fig.imageObj.src = (window.URL || window.webkitURL).createObjectURL(\n",
       "                evt.data);\n",
       "            fig.updated_canvas_event();\n",
       "            fig.waiting = false;\n",
       "            return;\n",
       "        }\n",
       "        else if (typeof evt.data === 'string' && evt.data.slice(0, 21) == \"data:image/png;base64\") {\n",
       "            fig.imageObj.src = evt.data;\n",
       "            fig.updated_canvas_event();\n",
       "            fig.waiting = false;\n",
       "            return;\n",
       "        }\n",
       "\n",
       "        var msg = JSON.parse(evt.data);\n",
       "        var msg_type = msg['type'];\n",
       "\n",
       "        // Call the  \"handle_{type}\" callback, which takes\n",
       "        // the figure and JSON message as its only arguments.\n",
       "        try {\n",
       "            var callback = fig[\"handle_\" + msg_type];\n",
       "        } catch (e) {\n",
       "            console.log(\"No handler for the '\" + msg_type + \"' message type: \", msg);\n",
       "            return;\n",
       "        }\n",
       "\n",
       "        if (callback) {\n",
       "            try {\n",
       "                // console.log(\"Handling '\" + msg_type + \"' message: \", msg);\n",
       "                callback(fig, msg);\n",
       "            } catch (e) {\n",
       "                console.log(\"Exception inside the 'handler_\" + msg_type + \"' callback:\", e, e.stack, msg);\n",
       "            }\n",
       "        }\n",
       "    };\n",
       "}\n",
       "\n",
       "// from http://stackoverflow.com/questions/1114465/getting-mouse-location-in-canvas\n",
       "mpl.findpos = function(e) {\n",
       "    //this section is from http://www.quirksmode.org/js/events_properties.html\n",
       "    var targ;\n",
       "    if (!e)\n",
       "        e = window.event;\n",
       "    if (e.target)\n",
       "        targ = e.target;\n",
       "    else if (e.srcElement)\n",
       "        targ = e.srcElement;\n",
       "    if (targ.nodeType == 3) // defeat Safari bug\n",
       "        targ = targ.parentNode;\n",
       "\n",
       "    // jQuery normalizes the pageX and pageY\n",
       "    // pageX,Y are the mouse positions relative to the document\n",
       "    // offset() returns the position of the element relative to the document\n",
       "    var x = e.pageX - $(targ).offset().left;\n",
       "    var y = e.pageY - $(targ).offset().top;\n",
       "\n",
       "    return {\"x\": x, \"y\": y};\n",
       "};\n",
       "\n",
       "/*\n",
       " * return a copy of an object with only non-object keys\n",
       " * we need this to avoid circular references\n",
       " * http://stackoverflow.com/a/24161582/3208463\n",
       " */\n",
       "function simpleKeys (original) {\n",
       "  return Object.keys(original).reduce(function (obj, key) {\n",
       "    if (typeof original[key] !== 'object')\n",
       "        obj[key] = original[key]\n",
       "    return obj;\n",
       "  }, {});\n",
       "}\n",
       "\n",
       "mpl.figure.prototype.mouse_event = function(event, name) {\n",
       "    var canvas_pos = mpl.findpos(event)\n",
       "\n",
       "    if (name === 'button_press')\n",
       "    {\n",
       "        this.canvas.focus();\n",
       "        this.canvas_div.focus();\n",
       "    }\n",
       "\n",
       "    var x = canvas_pos.x * mpl.ratio;\n",
       "    var y = canvas_pos.y * mpl.ratio;\n",
       "\n",
       "    this.send_message(name, {x: x, y: y, button: event.button,\n",
       "                             step: event.step,\n",
       "                             guiEvent: simpleKeys(event)});\n",
       "\n",
       "    /* This prevents the web browser from automatically changing to\n",
       "     * the text insertion cursor when the button is pressed.  We want\n",
       "     * to control all of the cursor setting manually through the\n",
       "     * 'cursor' event from matplotlib */\n",
       "    event.preventDefault();\n",
       "    return false;\n",
       "}\n",
       "\n",
       "mpl.figure.prototype._key_event_extra = function(event, name) {\n",
       "    // Handle any extra behaviour associated with a key event\n",
       "}\n",
       "\n",
       "mpl.figure.prototype.key_event = function(event, name) {\n",
       "\n",
       "    // Prevent repeat events\n",
       "    if (name == 'key_press')\n",
       "    {\n",
       "        if (event.which === this._key)\n",
       "            return;\n",
       "        else\n",
       "            this._key = event.which;\n",
       "    }\n",
       "    if (name == 'key_release')\n",
       "        this._key = null;\n",
       "\n",
       "    var value = '';\n",
       "    if (event.ctrlKey && event.which != 17)\n",
       "        value += \"ctrl+\";\n",
       "    if (event.altKey && event.which != 18)\n",
       "        value += \"alt+\";\n",
       "    if (event.shiftKey && event.which != 16)\n",
       "        value += \"shift+\";\n",
       "\n",
       "    value += 'k';\n",
       "    value += event.which.toString();\n",
       "\n",
       "    this._key_event_extra(event, name);\n",
       "\n",
       "    this.send_message(name, {key: value,\n",
       "                             guiEvent: simpleKeys(event)});\n",
       "    return false;\n",
       "}\n",
       "\n",
       "mpl.figure.prototype.toolbar_button_onclick = function(name) {\n",
       "    if (name == 'download') {\n",
       "        this.handle_save(this, null);\n",
       "    } else {\n",
       "        this.send_message(\"toolbar_button\", {name: name});\n",
       "    }\n",
       "};\n",
       "\n",
       "mpl.figure.prototype.toolbar_button_onmouseover = function(tooltip) {\n",
       "    this.message.textContent = tooltip;\n",
       "};\n",
       "mpl.toolbar_items = [[\"Home\", \"Reset original view\", \"fa fa-home icon-home\", \"home\"], [\"Back\", \"Back to  previous view\", \"fa fa-arrow-left icon-arrow-left\", \"back\"], [\"Forward\", \"Forward to next view\", \"fa fa-arrow-right icon-arrow-right\", \"forward\"], [\"\", \"\", \"\", \"\"], [\"Pan\", \"Pan axes with left mouse, zoom with right\", \"fa fa-arrows icon-move\", \"pan\"], [\"Zoom\", \"Zoom to rectangle\", \"fa fa-square-o icon-check-empty\", \"zoom\"], [\"\", \"\", \"\", \"\"], [\"Download\", \"Download plot\", \"fa fa-floppy-o icon-save\", \"download\"]];\n",
       "\n",
       "mpl.extensions = [\"eps\", \"jpeg\", \"pdf\", \"png\", \"ps\", \"raw\", \"svg\", \"tif\"];\n",
       "\n",
       "mpl.default_extension = \"png\";var comm_websocket_adapter = function(comm) {\n",
       "    // Create a \"websocket\"-like object which calls the given IPython comm\n",
       "    // object with the appropriate methods. Currently this is a non binary\n",
       "    // socket, so there is still some room for performance tuning.\n",
       "    var ws = {};\n",
       "\n",
       "    ws.close = function() {\n",
       "        comm.close()\n",
       "    };\n",
       "    ws.send = function(m) {\n",
       "        //console.log('sending', m);\n",
       "        comm.send(m);\n",
       "    };\n",
       "    // Register the callback with on_msg.\n",
       "    comm.on_msg(function(msg) {\n",
       "        //console.log('receiving', msg['content']['data'], msg);\n",
       "        // Pass the mpl event to the overriden (by mpl) onmessage function.\n",
       "        ws.onmessage(msg['content']['data'])\n",
       "    });\n",
       "    return ws;\n",
       "}\n",
       "\n",
       "mpl.mpl_figure_comm = function(comm, msg) {\n",
       "    // This is the function which gets called when the mpl process\n",
       "    // starts-up an IPython Comm through the \"matplotlib\" channel.\n",
       "\n",
       "    var id = msg.content.data.id;\n",
       "    // Get hold of the div created by the display call when the Comm\n",
       "    // socket was opened in Python.\n",
       "    var element = $(\"#\" + id);\n",
       "    var ws_proxy = comm_websocket_adapter(comm)\n",
       "\n",
       "    function ondownload(figure, format) {\n",
       "        window.open(figure.imageObj.src);\n",
       "    }\n",
       "\n",
       "    var fig = new mpl.figure(id, ws_proxy,\n",
       "                           ondownload,\n",
       "                           element.get(0));\n",
       "\n",
       "    // Call onopen now - mpl needs it, as it is assuming we've passed it a real\n",
       "    // web socket which is closed, not our websocket->open comm proxy.\n",
       "    ws_proxy.onopen();\n",
       "\n",
       "    fig.parent_element = element.get(0);\n",
       "    fig.cell_info = mpl.find_output_cell(\"<div id='\" + id + \"'></div>\");\n",
       "    if (!fig.cell_info) {\n",
       "        console.error(\"Failed to find cell for figure\", id, fig);\n",
       "        return;\n",
       "    }\n",
       "\n",
       "    var output_index = fig.cell_info[2]\n",
       "    var cell = fig.cell_info[0];\n",
       "\n",
       "};\n",
       "\n",
       "mpl.figure.prototype.handle_close = function(fig, msg) {\n",
       "    var width = fig.canvas.width/mpl.ratio\n",
       "    fig.root.unbind('remove')\n",
       "\n",
       "    // Update the output cell to use the data from the current canvas.\n",
       "    fig.push_to_output();\n",
       "    var dataURL = fig.canvas.toDataURL();\n",
       "    // Re-enable the keyboard manager in IPython - without this line, in FF,\n",
       "    // the notebook keyboard shortcuts fail.\n",
       "    IPython.keyboard_manager.enable()\n",
       "    $(fig.parent_element).html('<img src=\"' + dataURL + '\" width=\"' + width + '\">');\n",
       "    fig.close_ws(fig, msg);\n",
       "}\n",
       "\n",
       "mpl.figure.prototype.close_ws = function(fig, msg){\n",
       "    fig.send_message('closing', msg);\n",
       "    // fig.ws.close()\n",
       "}\n",
       "\n",
       "mpl.figure.prototype.push_to_output = function(remove_interactive) {\n",
       "    // Turn the data on the canvas into data in the output cell.\n",
       "    var width = this.canvas.width/mpl.ratio\n",
       "    var dataURL = this.canvas.toDataURL();\n",
       "    this.cell_info[1]['text/html'] = '<img src=\"' + dataURL + '\" width=\"' + width + '\">';\n",
       "}\n",
       "\n",
       "mpl.figure.prototype.updated_canvas_event = function() {\n",
       "    // Tell IPython that the notebook contents must change.\n",
       "    IPython.notebook.set_dirty(true);\n",
       "    this.send_message(\"ack\", {});\n",
       "    var fig = this;\n",
       "    // Wait a second, then push the new image to the DOM so\n",
       "    // that it is saved nicely (might be nice to debounce this).\n",
       "    setTimeout(function () { fig.push_to_output() }, 1000);\n",
       "}\n",
       "\n",
       "mpl.figure.prototype._init_toolbar = function() {\n",
       "    var fig = this;\n",
       "\n",
       "    var nav_element = $('<div/>')\n",
       "    nav_element.attr('style', 'width: 100%');\n",
       "    this.root.append(nav_element);\n",
       "\n",
       "    // Define a callback function for later on.\n",
       "    function toolbar_event(event) {\n",
       "        return fig.toolbar_button_onclick(event['data']);\n",
       "    }\n",
       "    function toolbar_mouse_event(event) {\n",
       "        return fig.toolbar_button_onmouseover(event['data']);\n",
       "    }\n",
       "\n",
       "    for(var toolbar_ind in mpl.toolbar_items){\n",
       "        var name = mpl.toolbar_items[toolbar_ind][0];\n",
       "        var tooltip = mpl.toolbar_items[toolbar_ind][1];\n",
       "        var image = mpl.toolbar_items[toolbar_ind][2];\n",
       "        var method_name = mpl.toolbar_items[toolbar_ind][3];\n",
       "\n",
       "        if (!name) { continue; };\n",
       "\n",
       "        var button = $('<button class=\"btn btn-default\" href=\"#\" title=\"' + name + '\"><i class=\"fa ' + image + ' fa-lg\"></i></button>');\n",
       "        button.click(method_name, toolbar_event);\n",
       "        button.mouseover(tooltip, toolbar_mouse_event);\n",
       "        nav_element.append(button);\n",
       "    }\n",
       "\n",
       "    // Add the status bar.\n",
       "    var status_bar = $('<span class=\"mpl-message\" style=\"text-align:right; float: right;\"/>');\n",
       "    nav_element.append(status_bar);\n",
       "    this.message = status_bar[0];\n",
       "\n",
       "    // Add the close button to the window.\n",
       "    var buttongrp = $('<div class=\"btn-group inline pull-right\"></div>');\n",
       "    var button = $('<button class=\"btn btn-mini btn-primary\" href=\"#\" title=\"Stop Interaction\"><i class=\"fa fa-power-off icon-remove icon-large\"></i></button>');\n",
       "    button.click(function (evt) { fig.handle_close(fig, {}); } );\n",
       "    button.mouseover('Stop Interaction', toolbar_mouse_event);\n",
       "    buttongrp.append(button);\n",
       "    var titlebar = this.root.find($('.ui-dialog-titlebar'));\n",
       "    titlebar.prepend(buttongrp);\n",
       "}\n",
       "\n",
       "mpl.figure.prototype._root_extra_style = function(el){\n",
       "    var fig = this\n",
       "    el.on(\"remove\", function(){\n",
       "\tfig.close_ws(fig, {});\n",
       "    });\n",
       "}\n",
       "\n",
       "mpl.figure.prototype._canvas_extra_style = function(el){\n",
       "    // this is important to make the div 'focusable\n",
       "    el.attr('tabindex', 0)\n",
       "    // reach out to IPython and tell the keyboard manager to turn it's self\n",
       "    // off when our div gets focus\n",
       "\n",
       "    // location in version 3\n",
       "    if (IPython.notebook.keyboard_manager) {\n",
       "        IPython.notebook.keyboard_manager.register_events(el);\n",
       "    }\n",
       "    else {\n",
       "        // location in version 2\n",
       "        IPython.keyboard_manager.register_events(el);\n",
       "    }\n",
       "\n",
       "}\n",
       "\n",
       "mpl.figure.prototype._key_event_extra = function(event, name) {\n",
       "    var manager = IPython.notebook.keyboard_manager;\n",
       "    if (!manager)\n",
       "        manager = IPython.keyboard_manager;\n",
       "\n",
       "    // Check for shift+enter\n",
       "    if (event.shiftKey && event.which == 13) {\n",
       "        this.canvas_div.blur();\n",
       "        // select the cell after this one\n",
       "        var index = IPython.notebook.find_cell_index(this.cell_info[0]);\n",
       "        IPython.notebook.select(index + 1);\n",
       "    }\n",
       "}\n",
       "\n",
       "mpl.figure.prototype.handle_save = function(fig, msg) {\n",
       "    fig.ondownload(fig, null);\n",
       "}\n",
       "\n",
       "\n",
       "mpl.find_output_cell = function(html_output) {\n",
       "    // Return the cell and output element which can be found *uniquely* in the notebook.\n",
       "    // Note - this is a bit hacky, but it is done because the \"notebook_saving.Notebook\"\n",
       "    // IPython event is triggered only after the cells have been serialised, which for\n",
       "    // our purposes (turning an active figure into a static one), is too late.\n",
       "    var cells = IPython.notebook.get_cells();\n",
       "    var ncells = cells.length;\n",
       "    for (var i=0; i<ncells; i++) {\n",
       "        var cell = cells[i];\n",
       "        if (cell.cell_type === 'code'){\n",
       "            for (var j=0; j<cell.output_area.outputs.length; j++) {\n",
       "                var data = cell.output_area.outputs[j];\n",
       "                if (data.data) {\n",
       "                    // IPython >= 3 moved mimebundle to data attribute of output\n",
       "                    data = data.data;\n",
       "                }\n",
       "                if (data['text/html'] == html_output) {\n",
       "                    return [cell, data, j];\n",
       "                }\n",
       "            }\n",
       "        }\n",
       "    }\n",
       "}\n",
       "\n",
       "// Register the function which deals with the matplotlib target/channel.\n",
       "// The kernel may be null if the page has been refreshed.\n",
       "if (IPython.notebook.kernel != null) {\n",
       "    IPython.notebook.kernel.comm_manager.register_target('matplotlib', mpl.mpl_figure_comm);\n",
       "}\n"
      ],
      "text/plain": [
       "<IPython.core.display.Javascript object>"
      ]
     },
     "metadata": {},
     "output_type": "display_data"
    },
    {
     "data": {
      "text/html": [
       "<img src=\"data:image/png;base64,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\" width=\"640\">"
      ],
      "text/plain": [
       "<IPython.core.display.HTML object>"
      ]
     },
     "metadata": {},
     "output_type": "display_data"
    },
    {
     "data": {
      "text/plain": [
       "[<matplotlib.lines.Line2D at 0x8077320>]"
      ]
     },
     "execution_count": 4,
     "metadata": {},
     "output_type": "execute_result"
    }
   ],
   "source": [
    "%matplotlib notebook\n",
    "plt.plot(h.distributions[0].bins)"
   ]
  },
  {
   "cell_type": "code",
   "execution_count": null,
   "metadata": {
    "collapsed": false
   },
   "outputs": [],
   "source": [
    "h.frames[1].payload_type"
   ]
  },
  {
   "cell_type": "code",
   "execution_count": null,
   "metadata": {
    "collapsed": false
   },
   "outputs": [],
   "source": [
    "h.frames[52].payload"
   ]
  },
  {
   "cell_type": "code",
   "execution_count": null,
   "metadata": {
    "collapsed": false
   },
   "outputs": [],
   "source": [
    "frame_header_dt.names"
   ]
  },
  {
   "cell_type": "code",
   "execution_count": 11,
   "metadata": {
    "collapsed": false
   },
   "outputs": [],
   "source": [
    "h.close()"
   ]
  },
  {
   "cell_type": "code",
   "execution_count": null,
   "metadata": {
    "collapsed": false
   },
   "outputs": [],
   "source": [
    "stream=Data.fromfile('bytestream',stream_dt,'teslib','measurement_subsystem_TB',tool='vivado')\n",
    "packets=_PacketData(stream)\n",
    "del stream\n",
    "# _import(packets)\n",
    "# h=h5py.File('TES.hdf5','r')"
   ]
  },
  {
   "cell_type": "code",
   "execution_count": null,
   "metadata": {
    "collapsed": false
   },
   "outputs": [],
   "source": [
    "packets[1]['data']"
   ]
  },
  {
   "cell_type": "code",
   "execution_count": null,
   "metadata": {
    "collapsed": false
   },
   "outputs": [],
   "source": [
    "packets[51]\n"
   ]
  },
  {
   "cell_type": "code",
   "execution_count": null,
   "metadata": {
    "collapsed": false
   },
   "outputs": [],
   "source": [
    "h.close()"
   ]
  },
  {
   "cell_type": "code",
   "execution_count": null,
   "metadata": {
    "collapsed": false
   },
   "outputs": [],
   "source": [
    "len(h['traces'])"
   ]
  },
  {
   "cell_type": "code",
   "execution_count": null,
   "metadata": {
    "collapsed": false
   },
   "outputs": [],
   "source": [
    "t=h['raw_data/event'][h['traces'][5]]"
   ]
  },
  {
   "cell_type": "code",
   "execution_count": null,
   "metadata": {
    "collapsed": false
   },
   "outputs": [],
   "source": [
    "%matplotlib notebook\n",
    "t=h['raw_data/event'][h['traces'][5]]\n",
    "tr=Trace(t)\n",
    "print(tr.flags,'\\n',tr.trace_flags)\n",
    "plt.plot(tr.samples)"
   ]
  },
  {
   "cell_type": "code",
   "execution_count": null,
   "metadata": {
    "collapsed": false
   },
   "outputs": [],
   "source": [
    "tr"
   ]
  },
  {
   "cell_type": "code",
   "execution_count": null,
   "metadata": {
    "collapsed": false
   },
   "outputs": [],
   "source": [
    "s=str(tr.flags)\n",
    "s"
   ]
  },
  {
   "cell_type": "code",
   "execution_count": null,
   "metadata": {
    "collapsed": false
   },
   "outputs": [],
   "source": [
    "print(s)"
   ]
  },
  {
   "cell_type": "code",
   "execution_count": null,
   "metadata": {
    "collapsed": false
   },
   "outputs": [],
   "source": [
    "type(h['raw_data/event'][h['traces'][0]])"
   ]
  },
  {
   "cell_type": "code",
   "execution_count": null,
   "metadata": {
    "collapsed": true
   },
   "outputs": [],
   "source": [
    "from tes.hdf5 import Trace"
   ]
  },
  {
   "cell_type": "code",
   "execution_count": null,
   "metadata": {
    "collapsed": false
   },
   "outputs": [],
   "source": [
    "tr.flags"
   ]
  },
  {
   "cell_type": "code",
   "execution_count": null,
   "metadata": {
    "collapsed": false
   },
   "outputs": [],
   "source": [
    "tr.trace_flags"
   ]
  },
  {
   "cell_type": "code",
   "execution_count": null,
   "metadata": {
    "collapsed": false
   },
   "outputs": [],
   "source": [
    "%matplotlib notebook\n",
    "plt.plot(tr.samples)"
   ]
  },
  {
   "cell_type": "code",
   "execution_count": null,
   "metadata": {
    "collapsed": false
   },
   "outputs": [],
   "source": [
    "len(tr.samples)"
   ]
  },
  {
   "cell_type": "code",
   "execution_count": null,
   "metadata": {
    "collapsed": false
   },
   "outputs": [],
   "source": [
    "first_dt = np.dtype([('size', np.uint16), ('tflags0', np.uint8), ('tflags1', np.uint8),\n",
    "        ('flags0', np.uint8), ('flags1', np.uint8), ('time', np.uint16)])\n",
    "\n"
   ]
  },
  {
   "cell_type": "code",
   "execution_count": null,
   "metadata": {
    "collapsed": false
   },
   "outputs": [],
   "source": []
  },
  {
   "cell_type": "code",
   "execution_count": null,
   "metadata": {
    "collapsed": false
   },
   "outputs": [],
   "source": [
    "t[0:8].view(first_dt)"
   ]
  },
  {
   "cell_type": "code",
   "execution_count": null,
   "metadata": {
    "collapsed": true
   },
   "outputs": [],
   "source": []
  },
  {
   "cell_type": "code",
   "execution_count": null,
   "metadata": {
    "collapsed": false
   },
   "outputs": [],
   "source": [
    "_rref = h5py.special_dtype(ref=h5py.RegionReference)\n",
    "h=h5py.File('test.hdf5', 'w')"
   ]
  },
  {
   "cell_type": "code",
   "execution_count": null,
   "metadata": {
    "collapsed": false
   },
   "outputs": [],
   "source": [
    "h.close()"
   ]
  },
  {
   "cell_type": "code",
   "execution_count": null,
   "metadata": {
    "collapsed": false
   },
   "outputs": [],
   "source": [
    "t= np.array((10,),'u1')\n",
    "h.create_dataset('t',(10,),dtype='u1')"
   ]
  },
  {
   "cell_type": "code",
   "execution_count": null,
   "metadata": {
    "collapsed": false
   },
   "outputs": [],
   "source": [
    "h.create_dataset('r',(10,),dtype=_rref)"
   ]
  },
  {
   "cell_type": "code",
   "execution_count": null,
   "metadata": {
    "collapsed": false
   },
   "outputs": [],
   "source": [
    "h.create_dataset('s',(10,),dtype='u1')"
   ]
  },
  {
   "cell_type": "code",
   "execution_count": null,
   "metadata": {
    "collapsed": true
   },
   "outputs": [],
   "source": [
    "h['s'][0]=0\n",
    "h['s'][1]=1"
   ]
  },
  {
   "cell_type": "code",
   "execution_count": null,
   "metadata": {
    "collapsed": false
   },
   "outputs": [],
   "source": [
    "h['r'][0]=h['t'].regionref[0:2]"
   ]
  },
  {
   "cell_type": "code",
   "execution_count": null,
   "metadata": {
    "collapsed": true
   },
   "outputs": [],
   "source": [
    "r=h['r'][0]"
   ]
  },
  {
   "cell_type": "code",
   "execution_count": null,
   "metadata": {
    "collapsed": false
   },
   "outputs": [],
   "source": [
    "t= np.array([0,1,2],'u1')"
   ]
  },
  {
   "cell_type": "code",
   "execution_count": null,
   "metadata": {
    "collapsed": false
   },
   "outputs": [],
   "source": [
    "t = [0,1]\n",
    "\n",
    "f = np.uint64(0)\n",
    "print(type(f))\n",
    "f += len(t)\n",
    "print(type(f))"
   ]
  },
  {
   "cell_type": "code",
   "execution_count": null,
   "metadata": {
    "collapsed": false
   },
   "outputs": [],
   "source": [
    "t[0:1][0]"
   ]
  },
  {
   "cell_type": "code",
   "execution_count": null,
   "metadata": {
    "collapsed": false
   },
   "outputs": [],
   "source": [
    "i=0\n",
    "for p in packets:\n",
    "    if i==7:\n",
    "        break\n",
    "    i+=1"
   ]
  },
  {
   "cell_type": "code",
   "execution_count": null,
   "metadata": {
    "collapsed": false
   },
   "outputs": [],
   "source": [
    "p"
   ]
  },
  {
   "cell_type": "code",
   "execution_count": null,
   "metadata": {
    "collapsed": true
   },
   "outputs": [],
   "source": [
    "lasts = np.where(stream['last'] < 0)[0] + 1"
   ]
  },
  {
   "cell_type": "code",
   "execution_count": null,
   "metadata": {
    "collapsed": false
   },
   "outputs": [],
   "source": [
    "lasts"
   ]
  },
  {
   "cell_type": "code",
   "execution_count": null,
   "metadata": {
    "collapsed": false
   },
   "outputs": [],
   "source": [
    "'last' in stream.dtype.names"
   ]
  },
  {
   "cell_type": "code",
   "execution_count": null,
   "metadata": {
    "collapsed": false
   },
   "outputs": [],
   "source": [
    "isinstance(stream,np.ndarray)"
   ]
  },
  {
   "cell_type": "code",
   "execution_count": null,
   "metadata": {
    "collapsed": false
   },
   "outputs": [],
   "source": [
    "type('poo')"
   ]
  },
  {
   "cell_type": "code",
   "execution_count": null,
   "metadata": {
    "collapsed": false
   },
   "outputs": [],
   "source": [
    "stream[lasts[0]:]"
   ]
  },
  {
   "cell_type": "code",
   "execution_count": null,
   "metadata": {
    "collapsed": false
   },
   "outputs": [],
   "source": [
    "ps=PacketStream(stream)\n",
    "# ps.traces"
   ]
  },
  {
   "cell_type": "code",
   "execution_count": null,
   "metadata": {
    "collapsed": false
   },
   "outputs": [],
   "source": [
    "type(ps[0])"
   ]
  },
  {
   "cell_type": "code",
   "execution_count": null,
   "metadata": {
    "collapsed": false
   },
   "outputs": [],
   "source": [
    "sum(stream['last']<0)"
   ]
  },
  {
   "cell_type": "code",
   "execution_count": null,
   "metadata": {
    "collapsed": false
   },
   "outputs": [],
   "source": [
    "%matplotlib notebook\n",
    "\n",
    "plt.plot(ps.traces[3]._view['trace'])\n",
    "# ps.traces[2]._view['trace'][-20:]"
   ]
  },
  {
   "cell_type": "code",
   "execution_count": null,
   "metadata": {
    "collapsed": false
   },
   "outputs": [],
   "source": [
    "ps.traces"
   ]
  },
  {
   "cell_type": "code",
   "execution_count": null,
   "metadata": {
    "collapsed": false,
    "run_control": {
     "frozen": false,
     "read_only": false
    },
    "scrolled": true
   },
   "outputs": [],
   "source": [
    "traces=Data.fromfile('traces',trace_dt,'teslib','measurement_subsystem_TB',tool='vivado')\n",
    "stream=Data.fromfile('bytestream',stream_dt,'teslib','measurement_subsystem_TB',tool='vivado')\n",
    "bs=PacketStream(stream)\n",
    "dists=bs.distributions\n",
    "#bs.packets\n",
    "dists"
   ]
  },
  {
   "cell_type": "code",
   "execution_count": null,
   "metadata": {
    "collapsed": false
   },
   "outputs": [],
   "source": [
    "d=dists[0]\n",
    "d.counts[-1]"
   ]
  },
  {
   "cell_type": "code",
   "execution_count": null,
   "metadata": {
    "collapsed": false
   },
   "outputs": [],
   "source": [
    "d.total+d.underflow+d.overflow"
   ]
  },
  {
   "cell_type": "code",
   "execution_count": null,
   "metadata": {
    "collapsed": false
   },
   "outputs": [],
   "source": [
    "%matplotlib notebook\n",
    "plt.plot(d.bins)"
   ]
  },
  {
   "cell_type": "code",
   "execution_count": null,
   "metadata": {
    "collapsed": false,
    "scrolled": false
   },
   "outputs": [],
   "source": [
    "f=EventFlags(es[2][2]['flags'])\n",
    "f.channel"
   ]
  },
  {
   "cell_type": "code",
   "execution_count": null,
   "metadata": {
    "collapsed": false,
    "run_control": {
     "frozen": false,
     "read_only": false
    },
    "scrolled": true
   },
   "outputs": [],
   "source": [
    "import tes.mca as mca\n",
    "d=bs.distributions[0]\n",
    "eset=np.uint64(1)\n",
    "bset=np.uint64(0)\n",
    "cset=np.uint64(20)\n",
    "\n",
    "stop=d.stop_time+eset+cset\n",
    "start=d.start_time+bset+cset\n",
    "bins=np.zeros((d.last_bin+1,),dtype=np.uint32)\n",
    "\n",
    "if d.value==mca.Value.raw_signal:\n",
    "    tname='raw'\n",
    "elif d.value==mca.Value.filtered_signal:\n",
    "    tname='filtered'\n",
    "elif d.value==mca.Value.slope_signal:\n",
    "    tname='slope'\n",
    "\n",
    "for i in range(start,stop):\n",
    "    s = traces[tname][i]\n",
    "    if s < d.lowest_value:\n",
    "        bins[0] += 1\n",
    "    else:\n",
    "        bin_number = s - d.lowest_value + 1\n",
    "        if bin_number < d.last_bin:\n",
    "            bins[bin_number] += 1\n",
    "        else:\n",
    "            bins[d.last_bin] += 1\n",
    "        \n",
    "bad=(bins-d.counts).nonzero()\n",
    "bad"
   ]
  },
  {
   "cell_type": "code",
   "execution_count": null,
   "metadata": {
    "collapsed": false
   },
   "outputs": [],
   "source": [
    "d.counts[bad][1:10]"
   ]
  },
  {
   "cell_type": "code",
   "execution_count": null,
   "metadata": {
    "collapsed": false
   },
   "outputs": [],
   "source": [
    "bins[bad][1:10]"
   ]
  },
  {
   "cell_type": "code",
   "execution_count": null,
   "metadata": {
    "collapsed": false
   },
   "outputs": [],
   "source": [
    "d.value"
   ]
  },
  {
   "cell_type": "code",
   "execution_count": null,
   "metadata": {
    "collapsed": false,
    "scrolled": false
   },
   "outputs": [],
   "source": [
    "%matplotlib notebook\n",
    "plt.step(np.arange(len(d.bins)),d.bins)\n",
    "# plt.step(np.arange(len(d.counts)),bins)\n",
    "plt.plot(bad,np.zeros_like(bad),'.k')"
   ]
  },
  {
   "cell_type": "code",
   "execution_count": null,
   "metadata": {
    "collapsed": false
   },
   "outputs": [],
   "source": [
    "sum(d.counts)"
   ]
  },
  {
   "cell_type": "code",
   "execution_count": null,
   "metadata": {
    "collapsed": false
   },
   "outputs": [],
   "source": [
    "2**14+2000"
   ]
  },
  {
   "cell_type": "code",
   "execution_count": null,
   "metadata": {
    "collapsed": false,
    "run_control": {
     "frozen": false,
     "read_only": false
    }
   },
   "outputs": [],
   "source": [
    "def plot_event(event_tupple):\n",
    "    pre=200\n",
    "    post=1000\n",
    "    timestamp=event_tupple[0]\n",
    "    event_type=event_tupple[1]\n",
    "    event=event_tupple[2]\n",
    "    flags=EventFlags(event['flags'])\n",
    "    print(flags)\n",
    "    print('timestamp',timestamp, 'time', event['time'])\n",
    "    if flags.type == Event.tick:\n",
    "        return\n",
    "    s=traces['filtered'][timestamp+20-pre:timestamp+20+post]\n",
    "    r=traces['raw'][timestamp+20-pre:timestamp+20+post]\n",
    "    i = np.where(abs(minmax['clk'])<=timestamp+20)[0][-1]\n",
    "    min_t=abs(minmax['clk'][i])-(timestamp+20)\n",
    "#     print(minmax['clk'][i],min_t,i,timestamp)\n",
    "    plt.plot(r,'k',linewidth=0.5)\n",
    "    plt.plot(s,'b',linewidth=2)\n",
    "    plt.plot([pre],s[pre],'sg')\n",
    "    plt.plot([pre+min_t],minmax['filtered'][i],'sr')\n",
    "    if event_type==Event.pulse:\n",
    "        for i in range(flags.peak_number):\n",
    "            p=event['peaks'][i]\n",
    "            plt.plot([0,len(s)-1],[p['height'],p['height']],':r')\n",
    "    else:\n",
    "      plt.plot([0,len(s)-1],[event['height'],event['height']],':r')\n",
    "        \n",
    "    #print(event['height'],event['minima'])\n",
    "    #print(minmax['filtered'][i]==s[pre+min_t])\n",
    "    #print(minmax['filtered'][i]==event['minima'])\n",
    "    #print(s[pre],s[pre-1])"
   ]
  },
  {
   "cell_type": "code",
   "execution_count": null,
   "metadata": {
    "collapsed": false,
    "run_control": {
     "frozen": false,
     "read_only": false
    }
   },
   "outputs": [],
   "source": [
    "pwd"
   ]
  },
  {
   "cell_type": "code",
   "execution_count": null,
   "metadata": {
    "collapsed": false
   },
   "outputs": [],
   "source": [
    "es=bs.eventstream\n",
    "es"
   ]
  },
  {
   "cell_type": "code",
   "execution_count": null,
   "metadata": {
    "collapsed": false,
    "run_control": {
     "frozen": false,
     "read_only": false
    }
   },
   "outputs": [],
   "source": [
    "%matplotlib notebook\n",
    "for e in es:\n",
    "    if e[1]==Event.peak:\n",
    "        plot_event(e)"
   ]
  },
  {
   "cell_type": "code",
   "execution_count": null,
   "metadata": {
    "collapsed": false,
    "run_control": {
     "frozen": false,
     "read_only": false
    }
   },
   "outputs": [],
   "source": [
    "es"
   ]
  },
  {
   "cell_type": "code",
   "execution_count": null,
   "metadata": {
    "collapsed": false,
    "run_control": {
     "frozen": false,
     "read_only": false
    }
   },
   "outputs": [],
   "source": [
    "dists=bs.distributions\n",
    "dists"
   ]
  },
  {
   "cell_type": "code",
   "execution_count": null,
   "metadata": {
    "collapsed": false,
    "run_control": {
     "frozen": false,
     "read_only": false
    }
   },
   "outputs": [],
   "source": [
    "bs.packets[185].payload"
   ]
  },
  {
   "cell_type": "code",
   "execution_count": null,
   "metadata": {
    "collapsed": false,
    "run_control": {
     "frozen": false,
     "read_only": false
    }
   },
   "outputs": [],
   "source": [
    "d=bs.distributions[0]\n",
    "eset=np.uint64(1)\n",
    "bset=np.uint64(0)\n",
    "cset=np.uint64(20)\n",
    "\n",
    "stop=d.stop_time+eset+cset\n",
    "start=d.start_time+bset+cset\n",
    "bins=np.zeros((d.last_bin+1,),dtype=np.uint32)\n",
    "for i in range(start,stop):\n",
    "    s = traces['raw'][i]\n",
    "    if s <= d.lowest_value:\n",
    "        bins[0] += 1\n",
    "    else:\n",
    "        bins[s-d.lowest_value] += 1\n",
    "        \n",
    "(bins-d.counts).nonzero()"
   ]
  },
  {
   "cell_type": "code",
   "execution_count": null,
   "metadata": {
    "collapsed": false,
    "run_control": {
     "frozen": false,
     "read_only": false
    }
   },
   "outputs": [],
   "source": [
    "%matplotlib notebook\n",
    "plt.step(np.arange(len(d.counts)),d.counts)"
   ]
  },
  {
   "cell_type": "code",
   "execution_count": null,
   "metadata": {
    "collapsed": false,
    "run_control": {
     "frozen": false,
     "read_only": false
    }
   },
   "outputs": [],
   "source": [
    "bins[bins.nonzero()]"
   ]
  },
  {
   "cell_type": "code",
   "execution_count": null,
   "metadata": {
    "collapsed": false,
    "run_control": {
     "frozen": false,
     "read_only": false
    }
   },
   "outputs": [],
   "source": [
    "sum(d.counts)"
   ]
  },
  {
   "cell_type": "code",
   "execution_count": null,
   "metadata": {
    "collapsed": false,
    "run_control": {
     "frozen": false,
     "read_only": false
    }
   },
   "outputs": [],
   "source": [
    "2**14+2000"
   ]
  },
  {
   "cell_type": "code",
   "execution_count": null,
   "metadata": {
    "collapsed": false,
    "run_control": {
     "frozen": false,
     "read_only": false
    }
   },
   "outputs": [],
   "source": [
    "es[3][2]['timestamp']-es[0][2]['timestamp']"
   ]
  },
  {
   "cell_type": "code",
   "execution_count": null,
   "metadata": {
    "collapsed": true,
    "run_control": {
     "frozen": false,
     "read_only": false
    }
   },
   "outputs": [],
   "source": [
    "def xings(s, thresh):\n",
    "    pos=s > thresh\n",
    "    neg=s < thresh\n",
    "    pos0=s >= thresh\n",
    "    neg0=s <= thresh\n",
    "    pos_xing_mask = np.bitwise_and(pos0[1:],neg[0:-1])  \n",
    "    neg_xing_mask = np.bitwise_and(neg0[1:],pos[0:-1])  \n",
    "    return pos_xing_mask.nonzero()[0]+1, neg_xing_mask.nonzero()[0]+1"
   ]
  },
  {
   "cell_type": "code",
   "execution_count": null,
   "metadata": {
    "collapsed": true,
    "run_control": {
     "frozen": false,
     "read_only": false
    }
   },
   "outputs": [],
   "source": [
    "from mpl_toolkits.axes_grid1 import host_subplot\n",
    "\n",
    "def plot_trace(traces,start,width):\n",
    "\n",
    "    ax = host_subplot(111)\n",
    "    axr = ax.twinx()\n",
    "    axt = ax.twiny()\n",
    "#ax.plot(t[0:-1:10],s[0:-1:10],'k')\n",
    "#ax.plot(t,s,'k')\n",
    "    axt.set_xlabel('Time ns',fontsize=18)\n",
    "    ax.set_ylabel('Voltage (Arbitary Units)',fontsize=18)\n",
    "#plt.xticks(visible=False)\n",
    "#plt.yticks(visible=False)\n",
    "#ax.set_xlim(0,t[4000000])\n",
    "#start=902000\n",
    "#width=2500\n",
    "    f=traces['filtered'][start:start+width]\n",
    "    s=traces['slope'][start:start+width]\n",
    "    t=np.arange(len(f))*4e-9\n",
    "#ts=t[pstart:pstop]\n",
    "#axins = fig.add_axes([.4, .45, .45, .4])\n",
    "    ax.set_xlim(t[0],t[-1])\n",
    "    axt.set_xlim(t[0],t[-1])\n",
    "\n",
    "    ylim=(-500,2000)\n",
    "\n",
    "    ax.set_ylim(ylim[0],ylim[1])\n",
    "    axr.set_ylim(ylim[0],ylim[1])\n",
    "\n",
    "    filtered, = ax.step(t,f,'k',lw=2,label='filtered')\n",
    "    slope, = ax.step(t,s,'b',label='slope')\n",
    "    ax.fill_between(t,0,s,alpha=.4)\n",
    "    plt.ylim=ylim\n",
    "\n",
    "pos=s>0\n",
    "neg=s<=0\n",
    "pos_xing_mask = np.bitwise_and(pos[1:-1],neg[0:-2])  \n",
    "neg_xing_mask = np.bitwise_and(neg[1:-1],pos[0:-2])  \n",
    "pos_xing=pos_xing_mask.nonzero()\n",
    "neg_xing=neg_xing_mask.nonzero()\n",
    "\n",
    "rx=[t[pos_xing[0][0]], t[neg_xing[0][0]]]\n",
    "ry=[f[pos_xing[0][0]], f[neg_xing[0][0]]]\n",
    "\n",
    "ax.fill_between(t[pos_xing[0][0]:neg_xing[0][0]],0,s[pos_xing[0][0]:neg_xing[0][0]],alpha=.4,color='r')\n",
    "\n",
    "#plt.plot(rx,[ry[0], ry[0]],'-r',lw=2)\n",
    "#plt.plot([rx[1],rx[1]], ry,'-r',lw=2)\n",
    "# thresholds\n",
    "sthresh = 600\n",
    "pthresh = 1000\n",
    "plt.plot([t[0], t[-1]], [sthresh, sthresh], '--b', lw=2)\n",
    "plt.plot([t[0], t[-1]], [pthresh, pthresh], '--k', lw=2)\n",
    "\n",
    "sthresh_xing=(s>sthresh).nonzero()[0][0]\n",
    "pthresh_xing=(f>pthresh).nonzero()[0][0]\n",
    "\n",
    "\n",
    "cf=.10\n",
    "height = ry[1]-ry[0]\n",
    "cfl=ry[0]+(height*cf)\n",
    "cfh=ry[1]-(height*cf)\n",
    "\n",
    "cfl_xing=(f>cfl).nonzero()[0][0]\n",
    "cfd_low=f[cfl_xing]\n",
    "cfh_xing=(f>cfh).nonzero()[0][0]\n",
    "cfd_high=f[cfh_xing]\n",
    "\n",
    "#plt.plot([t[cfl_xing], t[-1]],[cfd_low, cfd_low], ':r')\n",
    "#plt.plot([t[cfh_xing], t[-1]],[cfd_high, cfd_high], ':r')\n",
    "#plt.plot([x[1], t[-1]],[y[1], y[1]], ':r')\n",
    "plt.legend([filtered, slope],['Signal', 'Slope'],loc=2)\n",
    "\n",
    "#axr = ax.twinx()\n",
    "##################################################################\n",
    "#yticks=([ry[0],sthresh,pthresh,cfd_high,ry[1]])\n",
    "yticks=([sthresh,pthresh])\n",
    "axr.set_yticks(yticks)\n",
    "#yticklabels=['Start','Slope threshold','Pulse threshold','CF high','Peak']\n",
    "yticklabels=['Slope threshold','Pulse threshold']\n",
    "axr.set_yticklabels(yticklabels, color='r',fontsize=14)\n",
    "axr.get_yticklabels()[0].set_color('b')\n",
    "axr.get_yticklabels()[1].set_color('k')\n",
    "\n",
    "#xticks=([rx[0],t[cfl_xing],t[sthresh_xing],t[pthresh_xing],rx[1]])\n",
    "xticks=(t[cfl_xing],rx[1])\n",
    "#ax.set_xticks([rx[0],t[cfl_xing],t[sthresh_xing],t[pthresh_xing],rx[1]])\n",
    "ax.set_xticks(xticks)\n",
    "#xticklabels=['Start','CF low','Slope xing','Signal xing','Peak']\n",
    "xticklabels=['CF low','Peak']\n",
    "ax.set_xticklabels(xticklabels, color='r',fontsize=14)\n",
    "\n",
    "#plt.plot([t[cfh_xing], t[-1]],[cfd_high, cfd_high], ':r')\n",
    "#horoz start, stop lines\n",
    "#hpeak=ax.plot([xticks[1], t[-1]],[yticks[-1], yticks[-1]], '-.r')\n",
    "#hstart=ax.plot([xticks[0], t[-1]],[yticks[0], yticks[0]], '-.r')\n",
    "#vert start stop\n",
    "vstart=ax.plot([xticks[0], xticks[0]],[cfd_low, ylim[0]], '-.r')\n",
    "vpeak=ax.plot([xticks[1], xticks[1]],[ylim[0], ry[1]], '-.r')\n",
    "\n",
    "plt.tight_layout()\n",
    "plt.savefig('..//peakextraction7.svg')\n",
    "plt.show()\n",
    "print('risetime:',(xticks[1]-xticks[0])/4)\n",
    "print('height:',yticks[-1]-yticks[0])\n",
    "print('time:',(xticks[0]-rx[0])/4)\n",
    "print('area',sum(s[pos_xing[0][0]:neg_xing[0][0]])/256)\n"
   ]
  },
  {
   "cell_type": "code",
   "execution_count": null,
   "metadata": {
    "collapsed": true,
    "run_control": {
     "frozen": false,
     "read_only": false
    }
   },
   "outputs": [],
   "source": [
    "slope_0xings = xings(traces['slope'],0)"
   ]
  },
  {
   "cell_type": "code",
   "execution_count": null,
   "metadata": {
    "collapsed": false,
    "run_control": {
     "frozen": false,
     "read_only": false
    }
   },
   "outputs": [],
   "source": [
    "slope_0xings"
   ]
  },
  {
   "cell_type": "code",
   "execution_count": null,
   "metadata": {
    "collapsed": false,
    "run_control": {
     "frozen": false,
     "read_only": false
    }
   },
   "outputs": [],
   "source": [
    "%matplotlib notebook\n",
    "start=10000\n",
    "width=300\n",
    "plt.plot(traces['filtered'][start:start+width]/2)"
   ]
  },
  {
   "cell_type": "code",
   "execution_count": null,
   "metadata": {
    "collapsed": false,
    "run_control": {
     "frozen": false,
     "read_only": false
    }
   },
   "outputs": [],
   "source": [
    "%matplotlib notebook\n",
    "plt.plot(traces['slope'][20400:21700])"
   ]
  },
  {
   "cell_type": "code",
   "execution_count": null,
   "metadata": {
    "collapsed": false,
    "run_control": {
     "frozen": false,
     "read_only": false
    }
   },
   "outputs": [],
   "source": [
    "filtered=traces['filtered'][1100:]\n",
    "filteredL=traces['filteredL'][1100:]"
   ]
  },
  {
   "cell_type": "code",
   "execution_count": null,
   "metadata": {
    "collapsed": false,
    "run_control": {
     "frozen": false,
     "read_only": false
    }
   },
   "outputs": [],
   "source": [
    "filtered[:10]"
   ]
  },
  {
   "cell_type": "code",
   "execution_count": null,
   "metadata": {
    "collapsed": false,
    "run_control": {
     "frozen": false,
     "read_only": false
    }
   },
   "outputs": [],
   "source": [
    "filteredL[:10]/4"
   ]
  },
  {
   "cell_type": "code",
   "execution_count": null,
   "metadata": {
    "collapsed": false,
    "run_control": {
     "frozen": false,
     "read_only": false
    }
   },
   "outputs": [],
   "source": [
    "minmax_dt=np.dtype([('filtered','i4'),('low','i4'),('high','i4'),('clk','i4')])\n",
    "minmax=Data.fromfile('minmax',minmax_dt,'teslib','measurement_subsystem_TB',tool='vivado')\n",
    "fxing_dt=np.dtype([('extrema','i4'),('area','i4'),('clk','i4')])\n",
    "fxing=Data.fromfile('filteredxing',fxing_dt,'teslib','measurement_subsystem_TB',tool='vivado')"
   ]
  },
  {
   "cell_type": "code",
   "execution_count": null,
   "metadata": {
    "collapsed": false,
    "run_control": {
     "frozen": false,
     "read_only": false
    }
   },
   "outputs": [],
   "source": [
    "minmax"
   ]
  },
  {
   "cell_type": "code",
   "execution_count": null,
   "metadata": {
    "collapsed": false,
    "run_control": {
     "frozen": false,
     "read_only": false
    }
   },
   "outputs": [],
   "source": [
    "fxing"
   ]
  },
  {
   "cell_type": "code",
   "execution_count": null,
   "metadata": {
    "collapsed": false,
    "run_control": {
     "frozen": false,
     "read_only": false
    }
   },
   "outputs": [],
   "source": [
    "np.where(fxing['area']==0)"
   ]
  },
  {
   "cell_type": "code",
   "execution_count": null,
   "metadata": {
    "collapsed": false,
    "run_control": {
     "frozen": false,
     "read_only": false
    }
   },
   "outputs": [],
   "source": [
    "np.where(fxing['extrema']==0)"
   ]
  },
  {
   "cell_type": "code",
   "execution_count": null,
   "metadata": {
    "collapsed": false,
    "run_control": {
     "frozen": false,
     "read_only": false
    }
   },
   "outputs": [],
   "source": [
    "fxing[30]"
   ]
  },
  {
   "cell_type": "code",
   "execution_count": null,
   "metadata": {
    "collapsed": false,
    "run_control": {
     "frozen": false,
     "read_only": false
    }
   },
   "outputs": [],
   "source": [
    "exn=np.where(fxing['extrema']<0)\n",
    "clkn=np.where(fxing['clk']>0)"
   ]
  },
  {
   "cell_type": "code",
   "execution_count": null,
   "metadata": {
    "collapsed": true,
    "run_control": {
     "frozen": false,
     "read_only": false
    }
   },
   "outputs": [],
   "source": []
  },
  {
   "cell_type": "code",
   "execution_count": null,
   "metadata": {
    "collapsed": false,
    "run_control": {
     "frozen": false,
     "read_only": false
    }
   },
   "outputs": [],
   "source": [
    "fxing[374]"
   ]
  },
  {
   "cell_type": "code",
   "execution_count": null,
   "metadata": {
    "collapsed": false,
    "run_control": {
     "frozen": false,
     "read_only": false
    }
   },
   "outputs": [],
   "source": [
    "clkn"
   ]
  },
  {
   "cell_type": "code",
   "execution_count": null,
   "metadata": {
    "collapsed": false,
    "run_control": {
     "frozen": false,
     "read_only": false
    }
   },
   "outputs": [],
   "source": [
    "np.where(minmax[maxs[0]-1]['min']!=1)"
   ]
  },
  {
   "cell_type": "code",
   "execution_count": null,
   "metadata": {
    "collapsed": false,
    "run_control": {
     "frozen": false,
     "read_only": false
    }
   },
   "outputs": [],
   "source": [
    "minmax[maxs[0]-1][65]"
   ]
  },
  {
   "cell_type": "code",
   "execution_count": null,
   "metadata": {
    "collapsed": false,
    "run_control": {
     "frozen": false,
     "read_only": false
    }
   },
   "outputs": [],
   "source": [
    "2290-925"
   ]
  },
  {
   "cell_type": "code",
   "execution_count": null,
   "metadata": {
    "collapsed": false,
    "run_control": {
     "frozen": false,
     "read_only": false
    }
   },
   "outputs": [],
   "source": [
    "0.375*4"
   ]
  },
  {
   "cell_type": "code",
   "execution_count": null,
   "metadata": {
    "collapsed": false,
    "run_control": {
     "frozen": false,
     "read_only": false
    }
   },
   "outputs": [],
   "source": [
    "np.where(minmax['clock']==2290)"
   ]
  },
  {
   "cell_type": "code",
   "execution_count": null,
   "metadata": {
    "collapsed": false,
    "run_control": {
     "frozen": false,
     "read_only": false
    }
   },
   "outputs": [],
   "source": [
    "minmax[120:140]"
   ]
  },
  {
   "cell_type": "code",
   "execution_count": null,
   "metadata": {
    "collapsed": false,
    "run_control": {
     "frozen": false,
     "read_only": false
    }
   },
   "outputs": [],
   "source": [
    "stream_dt=np.dtype([('data','>i4'),('last','i4')])\n",
    "#stream=np.fromfile('data/stream',stream_dt)"
   ]
  },
  {
   "cell_type": "markdown",
   "metadata": {},
   "source": [
    "### bytestream stuff"
   ]
  },
  {
   "cell_type": "code",
   "execution_count": null,
   "metadata": {
    "collapsed": false,
    "run_control": {
     "frozen": false,
     "read_only": false
    }
   },
   "outputs": [],
   "source": [
    "stream_dt=np.dtype([('data','i4'),('last','i4')])\n",
    "stream=Data.fromfile('bytestream',stream_dt,'teslib','measurement_subsystem_TB',tool='vivado')\n",
    "lasts=np.where(stream['last']<=0)[0]+1\n",
    "#data=np.copy(stream['data'])"
   ]
  },
  {
   "cell_type": "code",
   "execution_count": null,
   "metadata": {
    "collapsed": false,
    "run_control": {
     "frozen": false,
     "read_only": false
    }
   },
   "outputs": [],
   "source": [
    "stream"
   ]
  },
  {
   "cell_type": "code",
   "execution_count": null,
   "metadata": {
    "collapsed": true,
    "run_control": {
     "frozen": false,
     "read_only": false
    }
   },
   "outputs": [],
   "source": []
  },
  {
   "cell_type": "code",
   "execution_count": null,
   "metadata": {
    "collapsed": true,
    "run_control": {
     "frozen": false,
     "read_only": false
    }
   },
   "outputs": [],
   "source": [
    "stream=np.fromfile('data/bytestream',stream_dt)"
   ]
  },
  {
   "cell_type": "code",
   "execution_count": null,
   "metadata": {
    "collapsed": false,
    "run_control": {
     "frozen": false,
     "read_only": false
    }
   },
   "outputs": [],
   "source": [
    "bs=PacketStream(stream)"
   ]
  },
  {
   "cell_type": "code",
   "execution_count": null,
   "metadata": {
    "collapsed": false,
    "run_control": {
     "frozen": false,
     "read_only": false
    }
   },
   "outputs": [],
   "source": [
    "bs.packets"
   ]
  },
  {
   "cell_type": "code",
   "execution_count": null,
   "metadata": {
    "collapsed": false,
    "run_control": {
     "frozen": false,
     "read_only": false
    }
   },
   "outputs": [],
   "source": [
    "bs.packets[4]"
   ]
  },
  {
   "cell_type": "code",
   "execution_count": null,
   "metadata": {
    "collapsed": true,
    "run_control": {
     "frozen": false,
     "read_only": false
    }
   },
   "outputs": [],
   "source": [
    "eheader_dt=[('etype','<u2'),('length','u2'),()]"
   ]
  },
  {
   "cell_type": "code",
   "execution_count": null,
   "metadata": {
    "collapsed": false,
    "run_control": {
     "frozen": false,
     "read_only": false
    }
   },
   "outputs": [],
   "source": [
    "'{:X}'.format(bs.packets[1].bytes[23])\n"
   ]
  },
  {
   "cell_type": "code",
   "execution_count": null,
   "metadata": {
    "collapsed": false,
    "run_control": {
     "frozen": false,
     "read_only": false
    }
   },
   "outputs": [],
   "source": [
    "'{:X}'.format(bs.packets[0].bytes[28:30].view(np.uint16)[0])"
   ]
  },
  {
   "cell_type": "code",
   "execution_count": null,
   "metadata": {
    "collapsed": true,
    "run_control": {
     "frozen": false,
     "read_only": false
    }
   },
   "outputs": [],
   "source": [
    "pulse_peak_dt=np.dtype([('height','i2'),('rise','i2'),('minima','u2'),('time','i2')])\n",
    "pulse_dt=np.dtype([('size','i2'),('resv','i2'),('flags','i2'),('time','u2'),\n",
    "                  ('area','i4'),('length','i2'),('offset','i2'),('peaks',(pulse_peak_dt,2))])"
   ]
  },
  {
   "cell_type": "code",
   "execution_count": null,
   "metadata": {
    "collapsed": false,
    "run_control": {
     "frozen": false,
     "read_only": false
    }
   },
   "outputs": [],
   "source": [
    "pulses=bs.packets[3].payload.view(pulse_dt)"
   ]
  },
  {
   "cell_type": "code",
   "execution_count": null,
   "metadata": {
    "collapsed": false,
    "run_control": {
     "frozen": false,
     "read_only": false
    }
   },
   "outputs": [],
   "source": [
    "pulses['peaks']"
   ]
  },
  {
   "cell_type": "code",
   "execution_count": null,
   "metadata": {
    "collapsed": false,
    "run_control": {
     "frozen": false,
     "read_only": false
    }
   },
   "outputs": [],
   "source": [
    "pulses['offset']"
   ]
  },
  {
   "cell_type": "code",
   "execution_count": null,
   "metadata": {
    "collapsed": false,
    "run_control": {
     "frozen": false,
     "read_only": false
    }
   },
   "outputs": [],
   "source": [
    "pulses['length']"
   ]
  },
  {
   "cell_type": "code",
   "execution_count": null,
   "metadata": {
    "collapsed": false,
    "run_control": {
     "frozen": false,
     "read_only": false
    }
   },
   "outputs": [],
   "source": [
    "class eflags:\n",
    "    def __init__(self,uint16):\n",
    "        self.new_window=np.bitwise_and(uint16,0x00000001)!=0\n",
    "        self.tick=np.bitwise_and(uint16,0x00000002)!=0\n",
    "        self.type=np.right_shift(np.bitwise_and(uint16,0x0000000c),2)\n",
    "        \n",
    "    def __repr__(self):\n",
    "        return 'New window:{:}\\n'.format(self.new_window) + \\\n",
    "               'Tick:{:}\\n'.format(self.tick) + \\\n",
    "               'Type:{:}\\n'.format(self.type) "
   ]
  },
  {
   "cell_type": "code",
   "execution_count": null,
   "metadata": {
    "collapsed": false,
    "run_control": {
     "frozen": false,
     "read_only": false
    }
   },
   "outputs": [],
   "source": [
    "f=eflags(pulses[0]['flags'])\n",
    "f"
   ]
  },
  {
   "cell_type": "code",
   "execution_count": null,
   "metadata": {
    "collapsed": false,
    "run_control": {
     "frozen": false,
     "read_only": false
    }
   },
   "outputs": [],
   "source": [
    "'{:X}'.format(bs.packets[3].bytes[13:14].view(np.uint16))"
   ]
  },
  {
   "cell_type": "code",
   "execution_count": null,
   "metadata": {
    "collapsed": true,
    "run_control": {
     "frozen": false,
     "read_only": false
    }
   },
   "outputs": [],
   "source": []
  },
  {
   "cell_type": "code",
   "execution_count": null,
   "metadata": {
    "collapsed": false,
    "run_control": {
     "frozen": false,
     "read_only": false
    }
   },
   "outputs": [],
   "source": [
    "'{:X}'.format(bs.packets[3].bytes[14:16].view(np.uint16)[0])"
   ]
  },
  {
   "cell_type": "code",
   "execution_count": null,
   "metadata": {
    "collapsed": false,
    "run_control": {
     "frozen": false,
     "read_only": false
    }
   },
   "outputs": [],
   "source": [
    "bs.packets[3].bytes[14:16].view(np.uint16)[0]"
   ]
  },
  {
   "cell_type": "code",
   "execution_count": null,
   "metadata": {
    "collapsed": false,
    "run_control": {
     "frozen": false,
     "read_only": false
    }
   },
   "outputs": [],
   "source": [
    "bs=np.uint8(stream['data'][:48])"
   ]
  },
  {
   "cell_type": "code",
   "execution_count": null,
   "metadata": {
    "collapsed": false,
    "run_control": {
     "frozen": false,
     "read_only": false
    }
   },
   "outputs": [],
   "source": [
    "bs"
   ]
  },
  {
   "cell_type": "code",
   "execution_count": null,
   "metadata": {
    "collapsed": false,
    "run_control": {
     "frozen": false,
     "read_only": false
    }
   },
   "outputs": [],
   "source": [
    "events=stream['data'].view(event_dt)"
   ]
  },
  {
   "cell_type": "code",
   "execution_count": null,
   "metadata": {
    "collapsed": false,
    "run_control": {
     "frozen": false,
     "read_only": false
    }
   },
   "outputs": [],
   "source": [
    "'{:X}'.format(events['flags'][0])"
   ]
  },
  {
   "cell_type": "code",
   "execution_count": null,
   "metadata": {
    "collapsed": false,
    "run_control": {
     "frozen": false,
     "read_only": false
    }
   },
   "outputs": [],
   "source": [
    "events['rise']"
   ]
  },
  {
   "cell_type": "code",
   "execution_count": null,
   "metadata": {
    "collapsed": false,
    "run_control": {
     "frozen": false,
     "read_only": false
    }
   },
   "outputs": [],
   "source": [
    "events"
   ]
  },
  {
   "cell_type": "code",
   "execution_count": null,
   "metadata": {
    "collapsed": false,
    "run_control": {
     "frozen": false,
     "read_only": false
    }
   },
   "outputs": [],
   "source": [
    "'{:04X}'.format(events['flags'][1])"
   ]
  },
  {
   "cell_type": "code",
   "execution_count": null,
   "metadata": {
    "collapsed": true,
    "run_control": {
     "frozen": false,
     "read_only": false
    }
   },
   "outputs": [],
   "source": [
    "pulse_peak_dt=np.dtype([('time','>i2'),('minima','>i2'),('rise','>u2'),('height','>i2')])\n",
    "pulse_dt=np.dtype([('time','>i2'),('flags','>i2'),('resv','>i2'),('size','>u2'),\n",
    "                  ('offset','>i2'),('length','>i2'),('area','>i4'),('peaks',(pulse_peak_dt,1))])\n",
    "data=np.copy(stream['data'])"
   ]
  },
  {
   "cell_type": "code",
   "execution_count": null,
   "metadata": {
    "collapsed": false,
    "run_control": {
     "frozen": false,
     "read_only": false
    }
   },
   "outputs": [],
   "source": [
    "pulses=data.view(pulse_dt)"
   ]
  },
  {
   "cell_type": "code",
   "execution_count": null,
   "metadata": {
    "collapsed": false,
    "run_control": {
     "frozen": false,
     "read_only": false
    }
   },
   "outputs": [],
   "source": [
    "pulses['peaks']['height']-pulses['peaks']['minima']"
   ]
  },
  {
   "cell_type": "code",
   "execution_count": null,
   "metadata": {
    "collapsed": false,
    "run_control": {
     "frozen": false,
     "read_only": false
    }
   },
   "outputs": [],
   "source": [
    "pulses['peaks']['minima']"
   ]
  },
  {
   "cell_type": "code",
   "execution_count": null,
   "metadata": {
    "collapsed": false,
    "run_control": {
     "frozen": false,
     "read_only": false
    }
   },
   "outputs": [],
   "source": [
    "peak_count=np.right_shift(np.bitwise_and(pulses['flags'],0xF000),12)\n",
    "peak_overflow=np.bitwise_and(pulses['flags'],0x0800)!=0\n",
    "channel=np.right_shift(np.bitwise_and(pulses['flags'],0x0700),8)\n",
    "timing_type=np.right_shift(np.bitwise_and(pulses['flags'],0x00C0),6)\n",
    "height_type=np.right_shift(np.bitwise_and(pulses['flags'],0x0030),4)\n",
    "event_type=np.right_shift(np.bitwise_and(pulses['flags'],0x000E),1)\n",
    "new_window=np.bitwise_and(pulses['flags'],0x0001)!=0"
   ]
  },
  {
   "cell_type": "code",
   "execution_count": null,
   "metadata": {
    "collapsed": false,
    "run_control": {
     "frozen": false,
     "read_only": false
    }
   },
   "outputs": [],
   "source": [
    "peak_overflow"
   ]
  },
  {
   "cell_type": "code",
   "execution_count": null,
   "metadata": {
    "collapsed": true,
    "run_control": {
     "frozen": false,
     "read_only": false
    }
   },
   "outputs": [],
   "source": [
    "test_dt=np.dtype(\n",
    "    [('time','i2'),('flags','i2'),('rise','u2'),('minima','i2'),('low','u8'),('high','u8')]\n",
    ")\n",
    "test=data.view(test_dt)"
   ]
  },
  {
   "cell_type": "code",
   "execution_count": null,
   "metadata": {
    "collapsed": false,
    "run_control": {
     "frozen": false,
     "read_only": false
    }
   },
   "outputs": [],
   "source": [
    "test"
   ]
  },
  {
   "cell_type": "code",
   "execution_count": null,
   "metadata": {
    "collapsed": false,
    "run_control": {
     "frozen": false,
     "read_only": false
    }
   },
   "outputs": [],
   "source": [
    "test['minima']"
   ]
  },
  {
   "cell_type": "code",
   "execution_count": null,
   "metadata": {
    "collapsed": false,
    "run_control": {
     "frozen": false,
     "read_only": false
    }
   },
   "outputs": [],
   "source": [
    "low1=np.int32(np.right_shift(np.bitwise_and(test['low'],0x03FFFF000000000),36))\n",
    "s=(np.bitwise_and(low1,0x00020000)!=0)*0xFFFC0000\n",
    "low2=np.int32(np.right_shift(np.bitwise_and(test['low'],0x000000FFFFC0000),18))\n",
    "low_threshold=np.int32(np.bitwise_and(test['low'],0x00000000003FFFF))\n",
    "high1=np.int32(np.right_shift(np.bitwise_and(test['high'],0x03FFFF000000000),36))\n",
    "high2=np.int32(np.right_shift(np.bitwise_and(test['high'],0x000000FFFFC0000),18))\n",
    "high_threshold=np.int32(np.bitwise_and(test['high'],0x00000000003FFFF))"
   ]
  },
  {
   "cell_type": "code",
   "execution_count": null,
   "metadata": {
    "collapsed": false,
    "run_control": {
     "frozen": false,
     "read_only": false
    }
   },
   "outputs": [],
   "source": [
    "np.int32(np.bitwise_or(low1,s))/8.0"
   ]
  },
  {
   "cell_type": "code",
   "execution_count": null,
   "metadata": {
    "collapsed": false,
    "run_control": {
     "frozen": false,
     "read_only": false
    }
   },
   "outputs": [],
   "source": [
    "'{:04X}'.format(low1[0])"
   ]
  },
  {
   "cell_type": "code",
   "execution_count": null,
   "metadata": {
    "collapsed": false,
    "run_control": {
     "frozen": false,
     "read_only": false
    }
   },
   "outputs": [],
   "source": [
    "high1/8.0"
   ]
  },
  {
   "cell_type": "code",
   "execution_count": null,
   "metadata": {
    "collapsed": false,
    "run_control": {
     "frozen": false,
     "read_only": false
    }
   },
   "outputs": [],
   "source": [
    "high2/8.0"
   ]
  },
  {
   "cell_type": "code",
   "execution_count": null,
   "metadata": {
    "collapsed": false,
    "run_control": {
     "frozen": false,
     "read_only": false
    }
   },
   "outputs": [],
   "source": [
    "'{:04X}'.format(high_threshold[0])"
   ]
  },
  {
   "cell_type": "code",
   "execution_count": null,
   "metadata": {
    "collapsed": false,
    "run_control": {
     "frozen": false,
     "read_only": false
    }
   },
   "outputs": [],
   "source": [
    "from enum import Enum"
   ]
  },
  {
   "cell_type": "code",
   "execution_count": null,
   "metadata": {
    "collapsed": false,
    "run_control": {
     "frozen": false,
     "read_only": false
    }
   },
   "outputs": [],
   "source": [
    "class VhdlEnum(int, Enum):\n",
    "\n",
    "    def __str__(self):\n",
    "        return self.name.replace(\"-\", \" \")\n",
    "    \n",
    "    def select(self):\n",
    "        return pow(2, self.value)\n",
    "    "
   ]
  },
  {
   "cell_type": "code",
   "execution_count": null,
   "metadata": {
    "collapsed": false,
    "run_control": {
     "frozen": false,
     "read_only": false
    }
   },
   "outputs": [],
   "source": [
    "class Test(VhdlEnum):\n",
    "    a=0\n",
    "    b=1"
   ]
  },
  {
   "cell_type": "code",
   "execution_count": null,
   "metadata": {
    "collapsed": false,
    "run_control": {
     "frozen": false,
     "read_only": false
    }
   },
   "outputs": [],
   "source": [
    "Test(0)"
   ]
  },
  {
   "cell_type": "code",
   "execution_count": null,
   "metadata": {
    "collapsed": true,
    "run_control": {
     "frozen": false,
     "read_only": false
    }
   },
   "outputs": [],
   "source": []
  }
 ],
 "metadata": {
  "anaconda-cloud": {},
  "kernelspec": {
   "display_name": "Python [conda root]",
   "language": "python",
   "name": "conda-root-py"
  },
  "language_info": {
   "codemirror_mode": {
    "name": "ipython",
    "version": 3
   },
   "file_extension": ".py",
   "mimetype": "text/x-python",
   "name": "python",
   "nbconvert_exporter": "python",
   "pygments_lexer": "ipython3",
   "version": "3.5.3"
  }
 },
 "nbformat": 4,
 "nbformat_minor": 1
}
