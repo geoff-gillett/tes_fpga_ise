{
 "cells": [
  {
   "cell_type": "code",
   "execution_count": 6,
   "metadata": {
    "collapsed": false
   },
   "outputs": [],
   "source": [
    "import sys\n",
    "import tes.simulation.data as sim\n",
    "from tes.simulation.data import PacketStream, Data, Distribution\n",
    "from tes.simulation.filesets import measurement_subsystem_TB as fileset\n",
    "import tes.simulation.plot as splt\n",
    "import numpy as np\n",
    "import matplotlib.pyplot as plt\n",
    "import math\n",
    "import collections"
   ]
  },
  {
   "cell_type": "code",
   "execution_count": null,
   "metadata": {
    "collapsed": false
   },
   "outputs": [],
   "source": [
    "ls \"..\\\\..\\\\..\\\\input_signals\"\n"
   ]
  },
  {
   "cell_type": "code",
   "execution_count": null,
   "metadata": {
    "collapsed": true
   },
   "outputs": [],
   "source": [
    "infile=\"..\\\\..\\\\..\\\\input_signals\\long\"\n",
    "f=open(infile)\n",
    "#data = numpy.frombuffer(open(filename).read().replace('\\n','').decode('hex'), dtype=numpy.uint32).byteswap()"
   ]
  },
  {
   "cell_type": "code",
   "execution_count": null,
   "metadata": {
    "collapsed": true
   },
   "outputs": [],
   "source": [
    "s=f.readlines()"
   ]
  },
  {
   "cell_type": "code",
   "execution_count": null,
   "metadata": {
    "collapsed": false
   },
   "outputs": [],
   "source": [
    "s[0]"
   ]
  },
  {
   "cell_type": "code",
   "execution_count": null,
   "metadata": {
    "collapsed": false
   },
   "outputs": [],
   "source": [
    "b=np.loadtxt(infile, dtype='uint16', delimiter=',', converters={0:lambda s: int(s, 16)})"
   ]
  },
  {
   "cell_type": "code",
   "execution_count": null,
   "metadata": {
    "collapsed": false
   },
   "outputs": [],
   "source": [
    "np.save(\"..\\\\..\\\\..\\\\input_signals\\long.npy\",b)"
   ]
  },
  {
   "cell_type": "code",
   "execution_count": null,
   "metadata": {
    "collapsed": false
   },
   "outputs": [],
   "source": [
    "%matplotlib notebook\n",
    "t=np.arange(len(b))*4e-9*1000\n",
    "plt.plot(t,np.int16(b),'k')\n",
    "plt.xlabel('Time (ms)')\n",
    "plt.ylabel('ADC code')\n",
    "plt.show()"
   ]
  },
  {
   "cell_type": "code",
   "execution_count": 7,
   "metadata": {
    "collapsed": false
   },
   "outputs": [],
   "source": [
    "bs=sim.Data.fromfile('bytestream',np.dtype([('data',np.uint32),('last',np.int32)]),\n",
    "                 'teslib', 'measurement_subsystem_TB')\n",
    "lasts = np.where(bs['last'] < 0)[0]\n",
    "ps=PacketStream(bs)"
   ]
  },
  {
   "cell_type": "code",
   "execution_count": 11,
   "metadata": {
    "collapsed": false
   },
   "outputs": [
    {
     "name": "stdout",
     "output_type": "stream",
     "text": [
      "frame:6 prot:1 length:1496 payload length:1472\n",
      "frame:7 prot:2 length:1496 payload length:1472\n",
      "frame:8 prot:3 length:1496 payload length:1472\n",
      "frame:9 prot:4 length:1496 payload length:1472\n",
      "frame:10 prot:5 length:1496 payload length:1472\n",
      "frame:11 prot:6 length:1496 payload length:1464\n",
      "frame:12 prot:7 length:1496 payload length:1472\n",
      "frame:13 prot:8 length:1496 payload length:1472\n",
      "frame:14 prot:9 length:1496 payload length:1472\n",
      "frame:15 prot:10 length:1496 payload length:1472\n",
      "frame:16 prot:11 length:1496 payload length:1472\n",
      "frame:17 prot:12 length:1496 payload length:1472\n",
      "frame:18 prot:13 length:1496 payload length:1472\n",
      "frame:19 prot:14 length:1496 payload length:1472\n",
      "frame:20 prot:15 length:1496 payload length:1472\n",
      "frame:21 prot:16 length:1496 payload length:1472\n",
      "frame:22 prot:17 length:1496 payload length:1472\n",
      "frame:23 prot:18 length:1496 payload length:1472\n",
      "frame:24 prot:19 length:1496 payload length:1472\n",
      "frame:25 prot:20 length:1496 payload length:1472\n",
      "frame:26 prot:21 length:1496 payload length:1472\n",
      "frame:27 prot:22 length:1496 payload length:1472\n",
      "frame:28 prot:23 length:1496 payload length:1472\n",
      "frame:29 prot:24 length:1496 payload length:1472\n",
      "frame:30 prot:25 length:1496 payload length:1472\n",
      "frame:31 prot:26 length:1496 payload length:1472\n",
      "frame:32 prot:27 length:1496 payload length:1472\n",
      "frame:33 prot:28 length:1496 payload length:1472\n",
      "frame:34 prot:29 length:1496 payload length:1472\n",
      "frame:35 prot:30 length:1496 payload length:1472\n",
      "frame:36 prot:31 length:1496 payload length:1472\n",
      "frame:37 prot:32 length:1496 payload length:1472\n",
      "frame:38 prot:33 length:1496 payload length:1472\n",
      "frame:39 prot:34 length:1496 payload length:1472\n",
      "frame:40 prot:35 length:1496 payload length:1472\n",
      "frame:41 prot:36 length:1496 payload length:1472\n",
      "frame:42 prot:37 length:1496 payload length:1472\n",
      "frame:43 prot:38 length:1496 payload length:1472\n",
      "frame:45 prot:39 length:1496 payload length:1472\n",
      "frame:46 prot:40 length:1496 payload length:1472\n",
      "frame:47 prot:41 length:1496 payload length:1472\n",
      "frame:48 prot:42 length:1496 payload length:1472\n",
      "frame:49 prot:43 length:1496 payload length:1472\n",
      "frame:50 prot:44 length:832 payload length:808\n",
      "incomplete distribution dropped starting frame:4\n",
      "frame:53 prot:1 length:1496 payload length:1472\n",
      "frame:54 prot:2 length:1496 payload length:1472\n",
      "frame:55 prot:3 length:1496 payload length:1472\n",
      "frame:56 prot:4 length:1496 payload length:1472\n",
      "frame:57 prot:5 length:1496 payload length:1464\n",
      "frame:58 prot:6 length:1496 payload length:1472\n",
      "frame:60 prot:7 length:1496 payload length:1472\n",
      "frame:61 prot:8 length:1496 payload length:1472\n",
      "frame:62 prot:9 length:1496 payload length:1472\n",
      "frame:63 prot:10 length:1496 payload length:1472\n",
      "frame:64 prot:11 length:1496 payload length:1472\n",
      "frame:65 prot:12 length:1496 payload length:1472\n",
      "frame:66 prot:13 length:1496 payload length:1472\n",
      "frame:67 prot:14 length:1496 payload length:1472\n",
      "frame:68 prot:15 length:1496 payload length:1472\n",
      "frame:69 prot:16 length:1496 payload length:1472\n",
      "frame:70 prot:17 length:1496 payload length:1472\n",
      "frame:71 prot:18 length:1496 payload length:1472\n",
      "frame:72 prot:19 length:1496 payload length:1472\n",
      "frame:73 prot:20 length:1496 payload length:1472\n",
      "frame:74 prot:21 length:1496 payload length:1472\n",
      "frame:75 prot:22 length:1496 payload length:1472\n",
      "frame:76 prot:23 length:1496 payload length:1472\n",
      "frame:77 prot:24 length:1496 payload length:1472\n",
      "frame:78 prot:25 length:1496 payload length:1472\n",
      "frame:79 prot:26 length:1496 payload length:1472\n",
      "frame:80 prot:27 length:1496 payload length:1472\n",
      "frame:81 prot:28 length:1496 payload length:1472\n",
      "frame:82 prot:29 length:1496 payload length:1472\n",
      "frame:83 prot:30 length:1496 payload length:1472\n",
      "frame:84 prot:31 length:1496 payload length:1472\n",
      "frame:85 prot:32 length:1496 payload length:1472\n",
      "frame:86 prot:33 length:1496 payload length:1472\n",
      "frame:87 prot:34 length:1496 payload length:1472\n",
      "frame:88 prot:35 length:1496 payload length:1472\n",
      "frame:89 prot:36 length:1496 payload length:1472\n",
      "frame:90 prot:37 length:1496 payload length:1472\n",
      "frame:91 prot:38 length:1496 payload length:1472\n",
      "frame:94 prot:39 length:1496 payload length:1472\n",
      "frame:95 prot:40 length:1496 payload length:1472\n",
      "frame:96 prot:41 length:1496 payload length:1472\n",
      "frame:97 prot:42 length:1496 payload length:1472\n",
      "frame:98 prot:43 length:1496 payload length:1472\n",
      "frame:99 prot:44 length:832 payload length:808\n",
      "incomplete distribution dropped starting frame:52\n",
      "frame:102 prot:1 length:1496 payload length:1472\n",
      "frame:103 prot:2 length:1496 payload length:1472\n",
      "frame:104 prot:3 length:1496 payload length:1472\n",
      "frame:105 prot:4 length:1496 payload length:1464\n",
      "frame:106 prot:5 length:1496 payload length:1472\n",
      "frame:107 prot:6 length:1496 payload length:1472\n",
      "frame:108 prot:7 length:1496 payload length:1472\n",
      "frame:109 prot:8 length:1496 payload length:1472\n",
      "frame:110 prot:9 length:1496 payload length:1472\n",
      "frame:111 prot:10 length:1496 payload length:1472\n",
      "frame:112 prot:11 length:1496 payload length:1472\n",
      "frame:113 prot:12 length:1496 payload length:1472\n",
      "frame:114 prot:13 length:1496 payload length:1472\n",
      "frame:116 prot:14 length:1496 payload length:1472\n",
      "frame:117 prot:15 length:1496 payload length:1472\n",
      "frame:118 prot:16 length:1496 payload length:1472\n",
      "frame:119 prot:17 length:1496 payload length:1472\n",
      "frame:120 prot:18 length:1496 payload length:1472\n",
      "frame:121 prot:19 length:1496 payload length:1472\n",
      "frame:122 prot:20 length:1496 payload length:1472\n",
      "frame:123 prot:21 length:1496 payload length:1472\n",
      "frame:124 prot:22 length:1496 payload length:1472\n",
      "frame:125 prot:23 length:1496 payload length:1472\n",
      "frame:126 prot:24 length:1496 payload length:1472\n",
      "frame:127 prot:25 length:1496 payload length:1472\n",
      "frame:128 prot:26 length:1496 payload length:1472\n",
      "frame:129 prot:27 length:1496 payload length:1472\n",
      "frame:130 prot:28 length:1496 payload length:1472\n",
      "frame:131 prot:29 length:1496 payload length:1472\n",
      "frame:132 prot:30 length:1496 payload length:1472\n",
      "frame:133 prot:31 length:1496 payload length:1472\n",
      "frame:134 prot:32 length:1496 payload length:1472\n",
      "frame:135 prot:33 length:1496 payload length:1472\n",
      "frame:136 prot:34 length:1496 payload length:1472\n",
      "frame:137 prot:35 length:1496 payload length:1472\n",
      "frame:138 prot:36 length:1496 payload length:1472\n",
      "frame:139 prot:37 length:1496 payload length:1472\n",
      "frame:140 prot:38 length:1496 payload length:1472\n",
      "frame:142 prot:39 length:1496 payload length:1472\n",
      "frame:143 prot:40 length:1496 payload length:1472\n",
      "frame:144 prot:41 length:1496 payload length:1472\n",
      "frame:145 prot:42 length:1496 payload length:1472\n",
      "frame:146 prot:43 length:1496 payload length:1472\n",
      "frame:147 prot:44 length:832 payload length:808\n",
      "incomplete distribution dropped starting frame:101\n",
      "frame:150 prot:1 length:1496 payload length:1472\n",
      "frame:151 prot:2 length:1496 payload length:1472\n",
      "frame:152 prot:3 length:1496 payload length:1464\n",
      "frame:153 prot:4 length:1496 payload length:1472\n",
      "frame:154 prot:5 length:1496 payload length:1472\n",
      "frame:155 prot:6 length:1496 payload length:1472\n",
      "frame:156 prot:7 length:1496 payload length:1472\n",
      "frame:157 prot:8 length:1496 payload length:1472\n",
      "frame:158 prot:9 length:1496 payload length:1472\n",
      "frame:159 prot:10 length:1496 payload length:1472\n",
      "frame:160 prot:11 length:1496 payload length:1472\n",
      "frame:161 prot:12 length:1496 payload length:1472\n",
      "frame:162 prot:13 length:1496 payload length:1472\n",
      "frame:163 prot:14 length:1496 payload length:1472\n",
      "frame:164 prot:15 length:1496 payload length:1472\n",
      "frame:165 prot:16 length:1496 payload length:1472\n",
      "frame:167 prot:17 length:1496 payload length:1472\n",
      "frame:168 prot:18 length:1496 payload length:1472\n",
      "frame:169 prot:19 length:1496 payload length:1472\n",
      "frame:170 prot:20 length:1496 payload length:1472\n",
      "frame:171 prot:21 length:1496 payload length:1472\n",
      "frame:172 prot:22 length:1496 payload length:1472\n",
      "frame:173 prot:23 length:1496 payload length:1472\n",
      "frame:174 prot:24 length:1496 payload length:1472\n",
      "frame:175 prot:25 length:1496 payload length:1472\n",
      "frame:176 prot:26 length:1496 payload length:1472\n",
      "frame:177 prot:27 length:1496 payload length:1472\n",
      "frame:178 prot:28 length:1496 payload length:1472\n",
      "frame:179 prot:29 length:1496 payload length:1472\n",
      "frame:180 prot:30 length:1496 payload length:1472\n",
      "frame:181 prot:31 length:1496 payload length:1472\n",
      "frame:182 prot:32 length:1496 payload length:1472\n",
      "frame:183 prot:33 length:1496 payload length:1472\n",
      "frame:184 prot:34 length:1496 payload length:1472\n",
      "frame:185 prot:35 length:1496 payload length:1472\n",
      "frame:186 prot:36 length:1496 payload length:1472\n",
      "frame:187 prot:37 length:1496 payload length:1472\n",
      "frame:188 prot:38 length:1496 payload length:1472\n",
      "frame:190 prot:39 length:1496 payload length:1472\n",
      "frame:191 prot:40 length:1496 payload length:1472\n",
      "frame:192 prot:41 length:1496 payload length:1472\n",
      "frame:193 prot:42 length:1496 payload length:1472\n",
      "frame:194 prot:43 length:1496 payload length:1472\n",
      "frame:195 prot:44 length:832 payload length:808\n",
      "incomplete distribution dropped starting frame:149\n",
      "frame:197 prot:1 length:1496 payload length:1472\n",
      "frame:198 prot:2 length:1496 payload length:1464\n",
      "frame:199 prot:3 length:1496 payload length:1472\n",
      "frame:200 prot:4 length:1496 payload length:1472\n",
      "frame:201 prot:5 length:1496 payload length:1472\n",
      "frame:202 prot:6 length:1496 payload length:1472\n",
      "frame:203 prot:7 length:1496 payload length:1472\n",
      "frame:204 prot:8 length:1496 payload length:1472\n",
      "frame:205 prot:9 length:1496 payload length:1472\n",
      "frame:206 prot:10 length:1496 payload length:1472\n",
      "frame:207 prot:11 length:1496 payload length:1472\n",
      "frame:208 prot:12 length:1496 payload length:1472\n",
      "frame:209 prot:13 length:1496 payload length:1472\n",
      "frame:210 prot:14 length:1496 payload length:1472\n",
      "frame:211 prot:15 length:1496 payload length:1472\n",
      "frame:212 prot:16 length:1496 payload length:1472\n",
      "frame:214 prot:17 length:1496 payload length:1472\n",
      "frame:215 prot:18 length:1496 payload length:1472\n",
      "frame:216 prot:19 length:1496 payload length:1472\n",
      "frame:217 prot:20 length:1496 payload length:1472\n",
      "frame:218 prot:21 length:1496 payload length:1472\n",
      "frame:219 prot:22 length:1496 payload length:1472\n",
      "frame:220 prot:23 length:1496 payload length:1472\n",
      "frame:221 prot:24 length:1496 payload length:1472\n",
      "frame:222 prot:25 length:1496 payload length:1472\n",
      "frame:223 prot:26 length:1496 payload length:1472\n",
      "frame:224 prot:27 length:1496 payload length:1472\n",
      "frame:225 prot:28 length:1496 payload length:1472\n",
      "frame:226 prot:29 length:1496 payload length:1472\n",
      "frame:227 prot:30 length:1496 payload length:1472\n",
      "frame:228 prot:31 length:1496 payload length:1472\n",
      "frame:229 prot:32 length:1496 payload length:1472\n",
      "frame:230 prot:33 length:1496 payload length:1472\n",
      "frame:231 prot:34 length:1496 payload length:1472\n",
      "frame:232 prot:35 length:1496 payload length:1472\n",
      "frame:233 prot:36 length:1496 payload length:1472\n",
      "frame:234 prot:37 length:1496 payload length:1472\n",
      "frame:235 prot:38 length:1496 payload length:1472\n",
      "frame:238 prot:39 length:1496 payload length:1472\n",
      "frame:239 prot:40 length:1496 payload length:1472\n",
      "frame:240 prot:41 length:1496 payload length:1472\n",
      "frame:241 prot:42 length:1496 payload length:1472\n",
      "frame:242 prot:43 length:1496 payload length:1472\n",
      "frame:243 prot:44 length:832 payload length:808\n",
      "incomplete distribution dropped starting frame:196\n",
      "frame:245 prot:1 length:1496 payload length:1464\n",
      "frame:246 prot:2 length:1496 payload length:1472\n",
      "frame:247 prot:3 length:1496 payload length:1472\n",
      "frame:248 prot:4 length:1496 payload length:1472\n",
      "frame:249 prot:5 length:1496 payload length:1472\n",
      "frame:250 prot:6 length:1496 payload length:1472\n",
      "frame:251 prot:7 length:1496 payload length:1472\n",
      "frame:252 prot:8 length:1496 payload length:1472\n",
      "frame:253 prot:9 length:1496 payload length:1472\n",
      "frame:254 prot:10 length:1496 payload length:1472\n",
      "frame:255 prot:11 length:1496 payload length:1472\n",
      "frame:256 prot:12 length:1496 payload length:1472\n",
      "frame:257 prot:13 length:1496 payload length:1472\n",
      "frame:258 prot:14 length:1496 payload length:1472\n",
      "frame:259 prot:15 length:1496 payload length:1472\n",
      "frame:260 prot:16 length:1496 payload length:1472\n",
      "frame:262 prot:17 length:1496 payload length:1472\n",
      "frame:263 prot:18 length:1496 payload length:1472\n",
      "frame:264 prot:19 length:1496 payload length:1472\n",
      "frame:265 prot:20 length:1496 payload length:1472\n",
      "frame:266 prot:21 length:1496 payload length:1472\n",
      "frame:267 prot:22 length:1496 payload length:1472\n",
      "frame:268 prot:23 length:1496 payload length:1472\n",
      "frame:269 prot:24 length:1496 payload length:1472\n",
      "frame:270 prot:25 length:1496 payload length:1472\n",
      "frame:271 prot:26 length:1496 payload length:1472\n",
      "frame:272 prot:27 length:1496 payload length:1472\n",
      "frame:273 prot:28 length:1496 payload length:1472\n",
      "frame:274 prot:29 length:1496 payload length:1472\n",
      "frame:275 prot:30 length:1496 payload length:1472\n",
      "frame:276 prot:31 length:1496 payload length:1472\n",
      "frame:277 prot:32 length:1496 payload length:1472\n",
      "frame:278 prot:33 length:1496 payload length:1472\n",
      "frame:279 prot:34 length:1496 payload length:1472\n",
      "frame:280 prot:35 length:1496 payload length:1472\n",
      "frame:281 prot:36 length:1496 payload length:1472\n",
      "frame:282 prot:37 length:1496 payload length:1472\n",
      "frame:283 prot:38 length:1496 payload length:1472\n",
      "frame:286 prot:39 length:1496 payload length:1472\n",
      "frame:287 prot:40 length:1496 payload length:1472\n",
      "frame:288 prot:41 length:1496 payload length:1472\n",
      "frame:289 prot:42 length:1496 payload length:1472\n",
      "frame:290 prot:43 length:1496 payload length:1472\n",
      "frame:291 prot:44 length:832 payload length:808\n",
      "incomplete distribution dropped starting frame:244\n"
     ]
    },
    {
     "ename": "ValueError",
     "evalue": "could not broadcast input array from shape (356) into shape (358)",
     "output_type": "error",
     "traceback": [
      "\u001b[1;31m---------------------------------------------------------------------------\u001b[0m",
      "\u001b[1;31mValueError\u001b[0m                                Traceback (most recent call last)",
      "\u001b[1;32m<ipython-input-11-ca2996dcc7ab>\u001b[0m in \u001b[0;36m<module>\u001b[1;34m()\u001b[0m\n\u001b[1;32m----> 1\u001b[1;33m \u001b[0md\u001b[0m\u001b[1;33m=\u001b[0m\u001b[0mps\u001b[0m\u001b[1;33m.\u001b[0m\u001b[0mdistributions\u001b[0m\u001b[1;33m\u001b[0m\u001b[0m\n\u001b[0m",
      "\u001b[1;32mC:\\TES_project\\fpga_ise\\python\\tes\\simulation\\data.py\u001b[0m in \u001b[0;36mdistributions\u001b[1;34m(self)\u001b[0m\n\u001b[0;32m    545\u001b[0m                                 \"incomplete distribution dropped starting frame:{:d}\".format(\n\u001b[0;32m    546\u001b[0m                                     d._frame_sequence))\n\u001b[1;32m--> 547\u001b[1;33m                     \u001b[0md\u001b[0m \u001b[1;33m=\u001b[0m \u001b[0mDistribution\u001b[0m\u001b[1;33m(\u001b[0m\u001b[0mpacket\u001b[0m\u001b[1;33m)\u001b[0m\u001b[1;33m\u001b[0m\u001b[0m\n\u001b[0m\u001b[0;32m    548\u001b[0m \u001b[1;33m\u001b[0m\u001b[0m\n\u001b[0;32m    549\u001b[0m                 \u001b[1;32melse\u001b[0m\u001b[1;33m:\u001b[0m\u001b[1;33m\u001b[0m\u001b[0m\n",
      "\u001b[1;32mC:\\TES_project\\fpga_ise\\python\\tes\\simulation\\data.py\u001b[0m in \u001b[0;36m__init__\u001b[1;34m(self, header_packet)\u001b[0m\n\u001b[0;32m    586\u001b[0m         \u001b[1;31m# print(packet_bins)\u001b[0m\u001b[1;33m\u001b[0m\u001b[1;33m\u001b[0m\u001b[0m\n\u001b[0;32m    587\u001b[0m         self.counts[0:packet_bins] = np.copy(\n\u001b[1;32m--> 588\u001b[1;33m             \u001b[0mheader_packet\u001b[0m\u001b[1;33m.\u001b[0m\u001b[0mpayload\u001b[0m\u001b[1;33m[\u001b[0m\u001b[1;36m40\u001b[0m\u001b[1;33m:\u001b[0m\u001b[1;33m]\u001b[0m\u001b[1;33m.\u001b[0m\u001b[0mview\u001b[0m\u001b[1;33m(\u001b[0m\u001b[0mnp\u001b[0m\u001b[1;33m.\u001b[0m\u001b[0muint32\u001b[0m\u001b[1;33m)\u001b[0m\u001b[1;33m\u001b[0m\u001b[0m\n\u001b[0m\u001b[0;32m    589\u001b[0m         )\n\u001b[0;32m    590\u001b[0m         \u001b[0mself\u001b[0m\u001b[1;33m.\u001b[0m\u001b[0m_total_bins\u001b[0m \u001b[1;33m=\u001b[0m \u001b[0mpacket_bins\u001b[0m\u001b[1;33m\u001b[0m\u001b[0m\n",
      "\u001b[1;31mValueError\u001b[0m: could not broadcast input array from shape (356) into shape (358)"
     ]
    }
   ],
   "source": [
    "d=ps.distributions"
   ]
  },
  {
   "cell_type": "code",
   "execution_count": 12,
   "metadata": {
    "collapsed": false
   },
   "outputs": [
    {
     "ename": "NameError",
     "evalue": "name 'd' is not defined",
     "output_type": "error",
     "traceback": [
      "\u001b[1;31m---------------------------------------------------------------------------\u001b[0m",
      "\u001b[1;31mNameError\u001b[0m                                 Traceback (most recent call last)",
      "\u001b[1;32m<ipython-input-12-e29311f6f1bf>\u001b[0m in \u001b[0;36m<module>\u001b[1;34m()\u001b[0m\n\u001b[1;32m----> 1\u001b[1;33m \u001b[0md\u001b[0m\u001b[1;33m\u001b[0m\u001b[0m\n\u001b[0m",
      "\u001b[1;31mNameError\u001b[0m: name 'd' is not defined"
     ]
    }
   ],
   "source": [
    "d"
   ]
  },
  {
   "cell_type": "code",
   "execution_count": 9,
   "metadata": {
    "collapsed": false
   },
   "outputs": [
    {
     "name": "stdout",
     "output_type": "stream",
     "text": [
      "bad length frame:11 header:1496 bytes:1488\n",
      "bad length frame:57 header:1496 bytes:1488\n",
      "bad length frame:105 header:1496 bytes:1488\n",
      "bad length frame:152 header:1496 bytes:1488\n",
      "bad length frame:198 header:1496 bytes:1488\n",
      "bad length frame:245 header:1496 bytes:1488\n",
      "bad length frame:293 header:1496 bytes:1488\n"
     ]
    }
   ],
   "source": [
    "for p in ps.packets:\n",
    "    if p.length != len(p.bytes):\n",
    "        print(\"bad length frame:{:} header:{:} bytes:{:}\".format(p.frame_sequence,p.length,len(p.bytes)))"
   ]
  },
  {
   "cell_type": "code",
   "execution_count": 10,
   "metadata": {
    "collapsed": false,
    "scrolled": true
   },
   "outputs": [
    {
     "data": {
      "text/plain": [
       "[ethertype:88B5 length:48 Payload:tick frame:0 protocol:0,\n",
       " ethertype:88B5 length:40 Payload:peak frame:1 protocol:1,\n",
       " ethertype:88B5 length:48 Payload:tick frame:2 protocol:2,\n",
       " ethertype:88B5 length:56 Payload:peak frame:3 protocol:3,\n",
       " ethertype:88B6 length:1496 Payload:mca frame:4 protocol:0,\n",
       " ethertype:88B5 length:48 Payload:tick frame:5 protocol:4,\n",
       " ethertype:88B6 length:1496 Payload:mca frame:6 protocol:1,\n",
       " ethertype:88B6 length:1496 Payload:mca frame:7 protocol:2,\n",
       " ethertype:88B6 length:1496 Payload:mca frame:8 protocol:3,\n",
       " ethertype:88B6 length:1496 Payload:mca frame:9 protocol:4,\n",
       " ethertype:88B6 length:1496 Payload:mca frame:10 protocol:5,\n",
       " ethertype:88B6 length:1496 Payload:mca frame:11 protocol:6,\n",
       " ethertype:88B6 length:1496 Payload:mca frame:12 protocol:7,\n",
       " ethertype:88B6 length:1496 Payload:mca frame:13 protocol:8,\n",
       " ethertype:88B6 length:1496 Payload:mca frame:14 protocol:9,\n",
       " ethertype:88B6 length:1496 Payload:mca frame:15 protocol:10,\n",
       " ethertype:88B6 length:1496 Payload:mca frame:16 protocol:11,\n",
       " ethertype:88B6 length:1496 Payload:mca frame:17 protocol:12,\n",
       " ethertype:88B6 length:1496 Payload:mca frame:18 protocol:13,\n",
       " ethertype:88B6 length:1496 Payload:mca frame:19 protocol:14,\n",
       " ethertype:88B6 length:1496 Payload:mca frame:20 protocol:15,\n",
       " ethertype:88B6 length:1496 Payload:mca frame:21 protocol:16,\n",
       " ethertype:88B6 length:1496 Payload:mca frame:22 protocol:17,\n",
       " ethertype:88B6 length:1496 Payload:mca frame:23 protocol:18,\n",
       " ethertype:88B6 length:1496 Payload:mca frame:24 protocol:19,\n",
       " ethertype:88B6 length:1496 Payload:mca frame:25 protocol:20,\n",
       " ethertype:88B6 length:1496 Payload:mca frame:26 protocol:21,\n",
       " ethertype:88B6 length:1496 Payload:mca frame:27 protocol:22,\n",
       " ethertype:88B6 length:1496 Payload:mca frame:28 protocol:23,\n",
       " ethertype:88B6 length:1496 Payload:mca frame:29 protocol:24,\n",
       " ethertype:88B6 length:1496 Payload:mca frame:30 protocol:25,\n",
       " ethertype:88B6 length:1496 Payload:mca frame:31 protocol:26,\n",
       " ethertype:88B6 length:1496 Payload:mca frame:32 protocol:27,\n",
       " ethertype:88B6 length:1496 Payload:mca frame:33 protocol:28,\n",
       " ethertype:88B6 length:1496 Payload:mca frame:34 protocol:29,\n",
       " ethertype:88B6 length:1496 Payload:mca frame:35 protocol:30,\n",
       " ethertype:88B6 length:1496 Payload:mca frame:36 protocol:31,\n",
       " ethertype:88B6 length:1496 Payload:mca frame:37 protocol:32,\n",
       " ethertype:88B6 length:1496 Payload:mca frame:38 protocol:33,\n",
       " ethertype:88B6 length:1496 Payload:mca frame:39 protocol:34,\n",
       " ethertype:88B6 length:1496 Payload:mca frame:40 protocol:35,\n",
       " ethertype:88B6 length:1496 Payload:mca frame:41 protocol:36,\n",
       " ethertype:88B6 length:1496 Payload:mca frame:42 protocol:37,\n",
       " ethertype:88B6 length:1496 Payload:mca frame:43 protocol:38,\n",
       " ethertype:88B5 length:48 Payload:tick frame:44 protocol:5,\n",
       " ethertype:88B6 length:1496 Payload:mca frame:45 protocol:39,\n",
       " ethertype:88B6 length:1496 Payload:mca frame:46 protocol:40,\n",
       " ethertype:88B6 length:1496 Payload:mca frame:47 protocol:41,\n",
       " ethertype:88B6 length:1496 Payload:mca frame:48 protocol:42,\n",
       " ethertype:88B6 length:1496 Payload:mca frame:49 protocol:43,\n",
       " ethertype:88B6 length:832 Payload:mca frame:50 protocol:44,\n",
       " ethertype:88B5 length:40 Payload:peak frame:51 protocol:6,\n",
       " ethertype:88B6 length:1496 Payload:mca frame:52 protocol:0,\n",
       " ethertype:88B6 length:1496 Payload:mca frame:53 protocol:1,\n",
       " ethertype:88B6 length:1496 Payload:mca frame:54 protocol:2,\n",
       " ethertype:88B6 length:1496 Payload:mca frame:55 protocol:3,\n",
       " ethertype:88B6 length:1496 Payload:mca frame:56 protocol:4,\n",
       " ethertype:88B6 length:1496 Payload:mca frame:57 protocol:5,\n",
       " ethertype:88B6 length:1496 Payload:mca frame:58 protocol:6,\n",
       " ethertype:88B5 length:48 Payload:tick frame:59 protocol:7,\n",
       " ethertype:88B6 length:1496 Payload:mca frame:60 protocol:7,\n",
       " ethertype:88B6 length:1496 Payload:mca frame:61 protocol:8,\n",
       " ethertype:88B6 length:1496 Payload:mca frame:62 protocol:9,\n",
       " ethertype:88B6 length:1496 Payload:mca frame:63 protocol:10,\n",
       " ethertype:88B6 length:1496 Payload:mca frame:64 protocol:11,\n",
       " ethertype:88B6 length:1496 Payload:mca frame:65 protocol:12,\n",
       " ethertype:88B6 length:1496 Payload:mca frame:66 protocol:13,\n",
       " ethertype:88B6 length:1496 Payload:mca frame:67 protocol:14,\n",
       " ethertype:88B6 length:1496 Payload:mca frame:68 protocol:15,\n",
       " ethertype:88B6 length:1496 Payload:mca frame:69 protocol:16,\n",
       " ethertype:88B6 length:1496 Payload:mca frame:70 protocol:17,\n",
       " ethertype:88B6 length:1496 Payload:mca frame:71 protocol:18,\n",
       " ethertype:88B6 length:1496 Payload:mca frame:72 protocol:19,\n",
       " ethertype:88B6 length:1496 Payload:mca frame:73 protocol:20,\n",
       " ethertype:88B6 length:1496 Payload:mca frame:74 protocol:21,\n",
       " ethertype:88B6 length:1496 Payload:mca frame:75 protocol:22,\n",
       " ethertype:88B6 length:1496 Payload:mca frame:76 protocol:23,\n",
       " ethertype:88B6 length:1496 Payload:mca frame:77 protocol:24,\n",
       " ethertype:88B6 length:1496 Payload:mca frame:78 protocol:25,\n",
       " ethertype:88B6 length:1496 Payload:mca frame:79 protocol:26,\n",
       " ethertype:88B6 length:1496 Payload:mca frame:80 protocol:27,\n",
       " ethertype:88B6 length:1496 Payload:mca frame:81 protocol:28,\n",
       " ethertype:88B6 length:1496 Payload:mca frame:82 protocol:29,\n",
       " ethertype:88B6 length:1496 Payload:mca frame:83 protocol:30,\n",
       " ethertype:88B6 length:1496 Payload:mca frame:84 protocol:31,\n",
       " ethertype:88B6 length:1496 Payload:mca frame:85 protocol:32,\n",
       " ethertype:88B6 length:1496 Payload:mca frame:86 protocol:33,\n",
       " ethertype:88B6 length:1496 Payload:mca frame:87 protocol:34,\n",
       " ethertype:88B6 length:1496 Payload:mca frame:88 protocol:35,\n",
       " ethertype:88B6 length:1496 Payload:mca frame:89 protocol:36,\n",
       " ethertype:88B6 length:1496 Payload:mca frame:90 protocol:37,\n",
       " ethertype:88B6 length:1496 Payload:mca frame:91 protocol:38,\n",
       " ethertype:88B5 length:40 Payload:peak frame:92 protocol:8,\n",
       " ethertype:88B5 length:48 Payload:tick frame:93 protocol:9,\n",
       " ethertype:88B6 length:1496 Payload:mca frame:94 protocol:39,\n",
       " ethertype:88B6 length:1496 Payload:mca frame:95 protocol:40,\n",
       " ethertype:88B6 length:1496 Payload:mca frame:96 protocol:41,\n",
       " ethertype:88B6 length:1496 Payload:mca frame:97 protocol:42,\n",
       " ethertype:88B6 length:1496 Payload:mca frame:98 protocol:43,\n",
       " ethertype:88B6 length:832 Payload:mca frame:99 protocol:44,\n",
       " ethertype:88B5 length:56 Payload:peak frame:100 protocol:10,\n",
       " ethertype:88B6 length:1496 Payload:mca frame:101 protocol:0,\n",
       " ethertype:88B6 length:1496 Payload:mca frame:102 protocol:1,\n",
       " ethertype:88B6 length:1496 Payload:mca frame:103 protocol:2,\n",
       " ethertype:88B6 length:1496 Payload:mca frame:104 protocol:3,\n",
       " ethertype:88B6 length:1496 Payload:mca frame:105 protocol:4,\n",
       " ethertype:88B6 length:1496 Payload:mca frame:106 protocol:5,\n",
       " ethertype:88B6 length:1496 Payload:mca frame:107 protocol:6,\n",
       " ethertype:88B6 length:1496 Payload:mca frame:108 protocol:7,\n",
       " ethertype:88B6 length:1496 Payload:mca frame:109 protocol:8,\n",
       " ethertype:88B6 length:1496 Payload:mca frame:110 protocol:9,\n",
       " ethertype:88B6 length:1496 Payload:mca frame:111 protocol:10,\n",
       " ethertype:88B6 length:1496 Payload:mca frame:112 protocol:11,\n",
       " ethertype:88B6 length:1496 Payload:mca frame:113 protocol:12,\n",
       " ethertype:88B6 length:1496 Payload:mca frame:114 protocol:13,\n",
       " ethertype:88B5 length:48 Payload:tick frame:115 protocol:11,\n",
       " ethertype:88B6 length:1496 Payload:mca frame:116 protocol:14,\n",
       " ethertype:88B6 length:1496 Payload:mca frame:117 protocol:15,\n",
       " ethertype:88B6 length:1496 Payload:mca frame:118 protocol:16,\n",
       " ethertype:88B6 length:1496 Payload:mca frame:119 protocol:17,\n",
       " ethertype:88B6 length:1496 Payload:mca frame:120 protocol:18,\n",
       " ethertype:88B6 length:1496 Payload:mca frame:121 protocol:19,\n",
       " ethertype:88B6 length:1496 Payload:mca frame:122 protocol:20,\n",
       " ethertype:88B6 length:1496 Payload:mca frame:123 protocol:21,\n",
       " ethertype:88B6 length:1496 Payload:mca frame:124 protocol:22,\n",
       " ethertype:88B6 length:1496 Payload:mca frame:125 protocol:23,\n",
       " ethertype:88B6 length:1496 Payload:mca frame:126 protocol:24,\n",
       " ethertype:88B6 length:1496 Payload:mca frame:127 protocol:25,\n",
       " ethertype:88B6 length:1496 Payload:mca frame:128 protocol:26,\n",
       " ethertype:88B6 length:1496 Payload:mca frame:129 protocol:27,\n",
       " ethertype:88B6 length:1496 Payload:mca frame:130 protocol:28,\n",
       " ethertype:88B6 length:1496 Payload:mca frame:131 protocol:29,\n",
       " ethertype:88B6 length:1496 Payload:mca frame:132 protocol:30,\n",
       " ethertype:88B6 length:1496 Payload:mca frame:133 protocol:31,\n",
       " ethertype:88B6 length:1496 Payload:mca frame:134 protocol:32,\n",
       " ethertype:88B6 length:1496 Payload:mca frame:135 protocol:33,\n",
       " ethertype:88B6 length:1496 Payload:mca frame:136 protocol:34,\n",
       " ethertype:88B6 length:1496 Payload:mca frame:137 protocol:35,\n",
       " ethertype:88B6 length:1496 Payload:mca frame:138 protocol:36,\n",
       " ethertype:88B6 length:1496 Payload:mca frame:139 protocol:37,\n",
       " ethertype:88B6 length:1496 Payload:mca frame:140 protocol:38,\n",
       " ethertype:88B5 length:48 Payload:tick frame:141 protocol:12,\n",
       " ethertype:88B6 length:1496 Payload:mca frame:142 protocol:39,\n",
       " ethertype:88B6 length:1496 Payload:mca frame:143 protocol:40,\n",
       " ethertype:88B6 length:1496 Payload:mca frame:144 protocol:41,\n",
       " ethertype:88B6 length:1496 Payload:mca frame:145 protocol:42,\n",
       " ethertype:88B6 length:1496 Payload:mca frame:146 protocol:43,\n",
       " ethertype:88B6 length:832 Payload:mca frame:147 protocol:44,\n",
       " ethertype:88B5 length:56 Payload:peak frame:148 protocol:13,\n",
       " ethertype:88B6 length:1496 Payload:mca frame:149 protocol:0,\n",
       " ethertype:88B6 length:1496 Payload:mca frame:150 protocol:1,\n",
       " ethertype:88B6 length:1496 Payload:mca frame:151 protocol:2,\n",
       " ethertype:88B6 length:1496 Payload:mca frame:152 protocol:3,\n",
       " ethertype:88B6 length:1496 Payload:mca frame:153 protocol:4,\n",
       " ethertype:88B6 length:1496 Payload:mca frame:154 protocol:5,\n",
       " ethertype:88B6 length:1496 Payload:mca frame:155 protocol:6,\n",
       " ethertype:88B6 length:1496 Payload:mca frame:156 protocol:7,\n",
       " ethertype:88B6 length:1496 Payload:mca frame:157 protocol:8,\n",
       " ethertype:88B6 length:1496 Payload:mca frame:158 protocol:9,\n",
       " ethertype:88B6 length:1496 Payload:mca frame:159 protocol:10,\n",
       " ethertype:88B6 length:1496 Payload:mca frame:160 protocol:11,\n",
       " ethertype:88B6 length:1496 Payload:mca frame:161 protocol:12,\n",
       " ethertype:88B6 length:1496 Payload:mca frame:162 protocol:13,\n",
       " ethertype:88B6 length:1496 Payload:mca frame:163 protocol:14,\n",
       " ethertype:88B6 length:1496 Payload:mca frame:164 protocol:15,\n",
       " ethertype:88B6 length:1496 Payload:mca frame:165 protocol:16,\n",
       " ethertype:88B5 length:48 Payload:tick frame:166 protocol:14,\n",
       " ethertype:88B6 length:1496 Payload:mca frame:167 protocol:17,\n",
       " ethertype:88B6 length:1496 Payload:mca frame:168 protocol:18,\n",
       " ethertype:88B6 length:1496 Payload:mca frame:169 protocol:19,\n",
       " ethertype:88B6 length:1496 Payload:mca frame:170 protocol:20,\n",
       " ethertype:88B6 length:1496 Payload:mca frame:171 protocol:21,\n",
       " ethertype:88B6 length:1496 Payload:mca frame:172 protocol:22,\n",
       " ethertype:88B6 length:1496 Payload:mca frame:173 protocol:23,\n",
       " ethertype:88B6 length:1496 Payload:mca frame:174 protocol:24,\n",
       " ethertype:88B6 length:1496 Payload:mca frame:175 protocol:25,\n",
       " ethertype:88B6 length:1496 Payload:mca frame:176 protocol:26,\n",
       " ethertype:88B6 length:1496 Payload:mca frame:177 protocol:27,\n",
       " ethertype:88B6 length:1496 Payload:mca frame:178 protocol:28,\n",
       " ethertype:88B6 length:1496 Payload:mca frame:179 protocol:29,\n",
       " ethertype:88B6 length:1496 Payload:mca frame:180 protocol:30,\n",
       " ethertype:88B6 length:1496 Payload:mca frame:181 protocol:31,\n",
       " ethertype:88B6 length:1496 Payload:mca frame:182 protocol:32,\n",
       " ethertype:88B6 length:1496 Payload:mca frame:183 protocol:33,\n",
       " ethertype:88B6 length:1496 Payload:mca frame:184 protocol:34,\n",
       " ethertype:88B6 length:1496 Payload:mca frame:185 protocol:35,\n",
       " ethertype:88B6 length:1496 Payload:mca frame:186 protocol:36,\n",
       " ethertype:88B6 length:1496 Payload:mca frame:187 protocol:37,\n",
       " ethertype:88B6 length:1496 Payload:mca frame:188 protocol:38,\n",
       " ethertype:88B5 length:48 Payload:tick frame:189 protocol:15,\n",
       " ethertype:88B6 length:1496 Payload:mca frame:190 protocol:39,\n",
       " ethertype:88B6 length:1496 Payload:mca frame:191 protocol:40,\n",
       " ethertype:88B6 length:1496 Payload:mca frame:192 protocol:41,\n",
       " ethertype:88B6 length:1496 Payload:mca frame:193 protocol:42,\n",
       " ethertype:88B6 length:1496 Payload:mca frame:194 protocol:43,\n",
       " ethertype:88B6 length:832 Payload:mca frame:195 protocol:44,\n",
       " ethertype:88B6 length:1496 Payload:mca frame:196 protocol:0,\n",
       " ethertype:88B6 length:1496 Payload:mca frame:197 protocol:1,\n",
       " ethertype:88B6 length:1496 Payload:mca frame:198 protocol:2,\n",
       " ethertype:88B6 length:1496 Payload:mca frame:199 protocol:3,\n",
       " ethertype:88B6 length:1496 Payload:mca frame:200 protocol:4,\n",
       " ethertype:88B6 length:1496 Payload:mca frame:201 protocol:5,\n",
       " ethertype:88B6 length:1496 Payload:mca frame:202 protocol:6,\n",
       " ethertype:88B6 length:1496 Payload:mca frame:203 protocol:7,\n",
       " ethertype:88B6 length:1496 Payload:mca frame:204 protocol:8,\n",
       " ethertype:88B6 length:1496 Payload:mca frame:205 protocol:9,\n",
       " ethertype:88B6 length:1496 Payload:mca frame:206 protocol:10,\n",
       " ethertype:88B6 length:1496 Payload:mca frame:207 protocol:11,\n",
       " ethertype:88B6 length:1496 Payload:mca frame:208 protocol:12,\n",
       " ethertype:88B6 length:1496 Payload:mca frame:209 protocol:13,\n",
       " ethertype:88B6 length:1496 Payload:mca frame:210 protocol:14,\n",
       " ethertype:88B6 length:1496 Payload:mca frame:211 protocol:15,\n",
       " ethertype:88B6 length:1496 Payload:mca frame:212 protocol:16,\n",
       " ethertype:88B5 length:48 Payload:tick frame:213 protocol:16,\n",
       " ethertype:88B6 length:1496 Payload:mca frame:214 protocol:17,\n",
       " ethertype:88B6 length:1496 Payload:mca frame:215 protocol:18,\n",
       " ethertype:88B6 length:1496 Payload:mca frame:216 protocol:19,\n",
       " ethertype:88B6 length:1496 Payload:mca frame:217 protocol:20,\n",
       " ethertype:88B6 length:1496 Payload:mca frame:218 protocol:21,\n",
       " ethertype:88B6 length:1496 Payload:mca frame:219 protocol:22,\n",
       " ethertype:88B6 length:1496 Payload:mca frame:220 protocol:23,\n",
       " ethertype:88B6 length:1496 Payload:mca frame:221 protocol:24,\n",
       " ethertype:88B6 length:1496 Payload:mca frame:222 protocol:25,\n",
       " ethertype:88B6 length:1496 Payload:mca frame:223 protocol:26,\n",
       " ethertype:88B6 length:1496 Payload:mca frame:224 protocol:27,\n",
       " ethertype:88B6 length:1496 Payload:mca frame:225 protocol:28,\n",
       " ethertype:88B6 length:1496 Payload:mca frame:226 protocol:29,\n",
       " ethertype:88B6 length:1496 Payload:mca frame:227 protocol:30,\n",
       " ethertype:88B6 length:1496 Payload:mca frame:228 protocol:31,\n",
       " ethertype:88B6 length:1496 Payload:mca frame:229 protocol:32,\n",
       " ethertype:88B6 length:1496 Payload:mca frame:230 protocol:33,\n",
       " ethertype:88B6 length:1496 Payload:mca frame:231 protocol:34,\n",
       " ethertype:88B6 length:1496 Payload:mca frame:232 protocol:35,\n",
       " ethertype:88B6 length:1496 Payload:mca frame:233 protocol:36,\n",
       " ethertype:88B6 length:1496 Payload:mca frame:234 protocol:37,\n",
       " ethertype:88B6 length:1496 Payload:mca frame:235 protocol:38,\n",
       " ethertype:88B5 length:40 Payload:peak frame:236 protocol:17,\n",
       " ethertype:88B5 length:48 Payload:tick frame:237 protocol:18,\n",
       " ethertype:88B6 length:1496 Payload:mca frame:238 protocol:39,\n",
       " ethertype:88B6 length:1496 Payload:mca frame:239 protocol:40,\n",
       " ethertype:88B6 length:1496 Payload:mca frame:240 protocol:41,\n",
       " ethertype:88B6 length:1496 Payload:mca frame:241 protocol:42,\n",
       " ethertype:88B6 length:1496 Payload:mca frame:242 protocol:43,\n",
       " ethertype:88B6 length:832 Payload:mca frame:243 protocol:44,\n",
       " ethertype:88B6 length:1496 Payload:mca frame:244 protocol:0,\n",
       " ethertype:88B6 length:1496 Payload:mca frame:245 protocol:1,\n",
       " ethertype:88B6 length:1496 Payload:mca frame:246 protocol:2,\n",
       " ethertype:88B6 length:1496 Payload:mca frame:247 protocol:3,\n",
       " ethertype:88B6 length:1496 Payload:mca frame:248 protocol:4,\n",
       " ethertype:88B6 length:1496 Payload:mca frame:249 protocol:5,\n",
       " ethertype:88B6 length:1496 Payload:mca frame:250 protocol:6,\n",
       " ethertype:88B6 length:1496 Payload:mca frame:251 protocol:7,\n",
       " ethertype:88B6 length:1496 Payload:mca frame:252 protocol:8,\n",
       " ethertype:88B6 length:1496 Payload:mca frame:253 protocol:9,\n",
       " ethertype:88B6 length:1496 Payload:mca frame:254 protocol:10,\n",
       " ethertype:88B6 length:1496 Payload:mca frame:255 protocol:11,\n",
       " ethertype:88B6 length:1496 Payload:mca frame:256 protocol:12,\n",
       " ethertype:88B6 length:1496 Payload:mca frame:257 protocol:13,\n",
       " ethertype:88B6 length:1496 Payload:mca frame:258 protocol:14,\n",
       " ethertype:88B6 length:1496 Payload:mca frame:259 protocol:15,\n",
       " ethertype:88B6 length:1496 Payload:mca frame:260 protocol:16,\n",
       " ethertype:88B5 length:48 Payload:tick frame:261 protocol:19,\n",
       " ethertype:88B6 length:1496 Payload:mca frame:262 protocol:17,\n",
       " ethertype:88B6 length:1496 Payload:mca frame:263 protocol:18,\n",
       " ethertype:88B6 length:1496 Payload:mca frame:264 protocol:19,\n",
       " ethertype:88B6 length:1496 Payload:mca frame:265 protocol:20,\n",
       " ethertype:88B6 length:1496 Payload:mca frame:266 protocol:21,\n",
       " ethertype:88B6 length:1496 Payload:mca frame:267 protocol:22,\n",
       " ethertype:88B6 length:1496 Payload:mca frame:268 protocol:23,\n",
       " ethertype:88B6 length:1496 Payload:mca frame:269 protocol:24,\n",
       " ethertype:88B6 length:1496 Payload:mca frame:270 protocol:25,\n",
       " ethertype:88B6 length:1496 Payload:mca frame:271 protocol:26,\n",
       " ethertype:88B6 length:1496 Payload:mca frame:272 protocol:27,\n",
       " ethertype:88B6 length:1496 Payload:mca frame:273 protocol:28,\n",
       " ethertype:88B6 length:1496 Payload:mca frame:274 protocol:29,\n",
       " ethertype:88B6 length:1496 Payload:mca frame:275 protocol:30,\n",
       " ethertype:88B6 length:1496 Payload:mca frame:276 protocol:31,\n",
       " ethertype:88B6 length:1496 Payload:mca frame:277 protocol:32,\n",
       " ethertype:88B6 length:1496 Payload:mca frame:278 protocol:33,\n",
       " ethertype:88B6 length:1496 Payload:mca frame:279 protocol:34,\n",
       " ethertype:88B6 length:1496 Payload:mca frame:280 protocol:35,\n",
       " ethertype:88B6 length:1496 Payload:mca frame:281 protocol:36,\n",
       " ethertype:88B6 length:1496 Payload:mca frame:282 protocol:37,\n",
       " ethertype:88B6 length:1496 Payload:mca frame:283 protocol:38,\n",
       " ethertype:88B5 length:40 Payload:peak frame:284 protocol:20,\n",
       " ethertype:88B5 length:48 Payload:tick frame:285 protocol:21,\n",
       " ethertype:88B6 length:1496 Payload:mca frame:286 protocol:39,\n",
       " ethertype:88B6 length:1496 Payload:mca frame:287 protocol:40,\n",
       " ethertype:88B6 length:1496 Payload:mca frame:288 protocol:41,\n",
       " ethertype:88B6 length:1496 Payload:mca frame:289 protocol:42,\n",
       " ethertype:88B6 length:1496 Payload:mca frame:290 protocol:43,\n",
       " ethertype:88B6 length:832 Payload:mca frame:291 protocol:44,\n",
       " ethertype:88B5 length:72 Payload:peak frame:292 protocol:22,\n",
       " ethertype:88B6 length:1496 Payload:mca frame:293 protocol:0,\n",
       " ethertype:88B6 length:1496 Payload:mca frame:294 protocol:1,\n",
       " ethertype:88B6 length:1496 Payload:mca frame:295 protocol:2,\n",
       " ethertype:88B6 length:1496 Payload:mca frame:296 protocol:3,\n",
       " ethertype:88B6 length:1496 Payload:mca frame:297 protocol:4,\n",
       " ethertype:88B6 length:1496 Payload:mca frame:298 protocol:5,\n",
       " ethertype:88B6 length:1496 Payload:mca frame:299 protocol:6,\n",
       " ethertype:88B6 length:1496 Payload:mca frame:300 protocol:7,\n",
       " ethertype:88B6 length:1496 Payload:mca frame:301 protocol:8,\n",
       " ethertype:88B6 length:1496 Payload:mca frame:302 protocol:9,\n",
       " ethertype:88B6 length:1496 Payload:mca frame:303 protocol:10,\n",
       " ethertype:88B6 length:1496 Payload:mca frame:304 protocol:11,\n",
       " ethertype:88B6 length:1496 Payload:mca frame:305 protocol:12,\n",
       " ethertype:88B6 length:1496 Payload:mca frame:306 protocol:13,\n",
       " ethertype:88B6 length:1496 Payload:mca frame:307 protocol:14,\n",
       " ethertype:88B6 length:1496 Payload:mca frame:308 protocol:15,\n",
       " ethertype:88B6 length:1496 Payload:mca frame:309 protocol:16,\n",
       " ethertype:88B5 length:48 Payload:tick frame:310 protocol:23,\n",
       " ethertype:88B6 length:1496 Payload:mca frame:311 protocol:17,\n",
       " ethertype:88B6 length:1496 Payload:mca frame:312 protocol:18,\n",
       " ethertype:88B6 length:1496 Payload:mca frame:313 protocol:19,\n",
       " ethertype:88B6 length:1496 Payload:mca frame:314 protocol:20,\n",
       " ethertype:88B6 length:1496 Payload:mca frame:315 protocol:21,\n",
       " ethertype:88B6 length:1496 Payload:mca frame:316 protocol:22,\n",
       " ethertype:88B6 length:1496 Payload:mca frame:317 protocol:23,\n",
       " ethertype:88B6 length:1496 Payload:mca frame:318 protocol:24,\n",
       " ethertype:88B6 length:1496 Payload:mca frame:319 protocol:25,\n",
       " ethertype:88B6 length:1496 Payload:mca frame:320 protocol:26,\n",
       " ethertype:88B6 length:1496 Payload:mca frame:321 protocol:27,\n",
       " ethertype:88B6 length:1496 Payload:mca frame:322 protocol:28,\n",
       " ethertype:88B6 length:1496 Payload:mca frame:323 protocol:29,\n",
       " ethertype:88B6 length:1496 Payload:mca frame:324 protocol:30,\n",
       " ethertype:88B6 length:1496 Payload:mca frame:325 protocol:31,\n",
       " ethertype:88B6 length:1496 Payload:mca frame:326 protocol:32,\n",
       " ethertype:88B6 length:1496 Payload:mca frame:327 protocol:33,\n",
       " ethertype:88B6 length:1496 Payload:mca frame:328 protocol:34,\n",
       " ethertype:88B6 length:1496 Payload:mca frame:329 protocol:35,\n",
       " ethertype:88B6 length:1496 Payload:mca frame:330 protocol:36,\n",
       " ethertype:88B6 length:1496 Payload:mca frame:331 protocol:37,\n",
       " ethertype:88B6 length:1496 Payload:mca frame:332 protocol:38,\n",
       " ethertype:88B5 length:40 Payload:peak frame:333 protocol:24,\n",
       " ethertype:88B5 length:48 Payload:tick frame:334 protocol:25,\n",
       " ethertype:88B6 length:1496 Payload:mca frame:335 protocol:39,\n",
       " ethertype:88B6 length:1496 Payload:mca frame:336 protocol:40,\n",
       " ethertype:88B6 length:1496 Payload:mca frame:337 protocol:41,\n",
       " ethertype:88B6 length:1496 Payload:mca frame:338 protocol:42,\n",
       " ethertype:88B6 length:1496 Payload:mca frame:339 protocol:43,\n",
       " ethertype:88B6 length:832 Payload:mca frame:340 protocol:44,\n",
       " ethertype:88B6 length:1496 Payload:mca frame:341 protocol:0,\n",
       " ethertype:88B6 length:1496 Payload:mca frame:342 protocol:1,\n",
       " ethertype:88B6 length:1496 Payload:mca frame:343 protocol:2,\n",
       " ethertype:88B6 length:1496 Payload:mca frame:344 protocol:3,\n",
       " ethertype:88B6 length:1496 Payload:mca frame:345 protocol:4,\n",
       " ethertype:88B6 length:1496 Payload:mca frame:346 protocol:5,\n",
       " ethertype:88B6 length:1496 Payload:mca frame:347 protocol:6,\n",
       " ethertype:88B6 length:1496 Payload:mca frame:348 protocol:7,\n",
       " ethertype:88B6 length:1496 Payload:mca frame:349 protocol:8,\n",
       " ethertype:88B6 length:1496 Payload:mca frame:350 protocol:9,\n",
       " ethertype:88B6 length:1496 Payload:mca frame:351 protocol:10,\n",
       " ethertype:88B6 length:1496 Payload:mca frame:352 protocol:11,\n",
       " ethertype:88B6 length:1496 Payload:mca frame:353 protocol:12,\n",
       " ethertype:88B6 length:1496 Payload:mca frame:354 protocol:13,\n",
       " ethertype:88B6 length:1496 Payload:mca frame:355 protocol:14,\n",
       " ethertype:88B6 length:1496 Payload:mca frame:356 protocol:15,\n",
       " ethertype:88B6 length:1496 Payload:mca frame:357 protocol:16,\n",
       " ethertype:88B5 length:48 Payload:tick frame:358 protocol:26,\n",
       " ethertype:88B6 length:1496 Payload:mca frame:359 protocol:17,\n",
       " ethertype:88B6 length:1496 Payload:mca frame:360 protocol:18,\n",
       " ethertype:88B6 length:1496 Payload:mca frame:361 protocol:19,\n",
       " ethertype:88B6 length:1496 Payload:mca frame:362 protocol:20,\n",
       " ethertype:88B6 length:1496 Payload:mca frame:363 protocol:21,\n",
       " ethertype:88B6 length:1496 Payload:mca frame:364 protocol:22,\n",
       " ethertype:88B6 length:1496 Payload:mca frame:365 protocol:23,\n",
       " ethertype:88B6 length:1496 Payload:mca frame:366 protocol:24,\n",
       " ethertype:88B6 length:1496 Payload:mca frame:367 protocol:25,\n",
       " ethertype:88B6 length:1496 Payload:mca frame:368 protocol:26,\n",
       " ethertype:88B6 length:1496 Payload:mca frame:369 protocol:27,\n",
       " ethertype:88B6 length:1496 Payload:mca frame:370 protocol:28,\n",
       " ethertype:88B6 length:1496 Payload:mca frame:371 protocol:29,\n",
       " ethertype:88B6 length:1496 Payload:mca frame:372 protocol:30,\n",
       " ethertype:88B6 length:1496 Payload:mca frame:373 protocol:31,\n",
       " ethertype:88B6 length:1496 Payload:mca frame:374 protocol:32,\n",
       " ethertype:88B6 length:1496 Payload:mca frame:375 protocol:33,\n",
       " ethertype:88B6 length:1496 Payload:mca frame:376 protocol:34,\n",
       " ethertype:88B6 length:1496 Payload:mca frame:377 protocol:35,\n",
       " ethertype:88B6 length:1496 Payload:mca frame:378 protocol:36,\n",
       " ethertype:88B6 length:1496 Payload:mca frame:379 protocol:37,\n",
       " ethertype:88B6 length:1496 Payload:mca frame:380 protocol:38,\n",
       " ethertype:88B5 length:48 Payload:tick frame:381 protocol:27,\n",
       " ethertype:88B6 length:1496 Payload:mca frame:382 protocol:39,\n",
       " ethertype:88B6 length:1496 Payload:mca frame:383 protocol:40,\n",
       " ethertype:88B6 length:1496 Payload:mca frame:384 protocol:41,\n",
       " ethertype:88B6 length:1496 Payload:mca frame:385 protocol:42,\n",
       " ethertype:88B6 length:1496 Payload:mca frame:386 protocol:43,\n",
       " ethertype:88B6 length:832 Payload:mca frame:387 protocol:44,\n",
       " ethertype:88B6 length:1496 Payload:mca frame:388 protocol:0,\n",
       " ethertype:88B6 length:1496 Payload:mca frame:389 protocol:1,\n",
       " ethertype:88B6 length:1496 Payload:mca frame:390 protocol:2,\n",
       " ethertype:88B6 length:1496 Payload:mca frame:391 protocol:3,\n",
       " ethertype:88B6 length:1496 Payload:mca frame:392 protocol:4,\n",
       " ethertype:88B6 length:1496 Payload:mca frame:393 protocol:5,\n",
       " ethertype:88B6 length:1496 Payload:mca frame:394 protocol:6,\n",
       " ethertype:88B6 length:1496 Payload:mca frame:395 protocol:7,\n",
       " ethertype:88B6 length:1496 Payload:mca frame:396 protocol:8,\n",
       " ethertype:88B6 length:1496 Payload:mca frame:397 protocol:9,\n",
       " ethertype:88B6 length:1496 Payload:mca frame:398 protocol:10,\n",
       " ethertype:88B6 length:1496 Payload:mca frame:399 protocol:11,\n",
       " ethertype:88B6 length:1496 Payload:mca frame:400 protocol:12,\n",
       " ethertype:88B6 length:1496 Payload:mca frame:401 protocol:13,\n",
       " ethertype:88B6 length:1496 Payload:mca frame:402 protocol:14,\n",
       " ethertype:88B6 length:1496 Payload:mca frame:403 protocol:15,\n",
       " ethertype:88B6 length:1496 Payload:mca frame:404 protocol:16,\n",
       " ethertype:88B5 length:48 Payload:tick frame:405 protocol:28,\n",
       " ethertype:88B6 length:1496 Payload:mca frame:406 protocol:17,\n",
       " ethertype:88B6 length:1496 Payload:mca frame:407 protocol:18,\n",
       " ethertype:88B6 length:1496 Payload:mca frame:408 protocol:19,\n",
       " ethertype:88B6 length:1496 Payload:mca frame:409 protocol:20,\n",
       " ethertype:88B6 length:1496 Payload:mca frame:410 protocol:21,\n",
       " ethertype:88B6 length:1496 Payload:mca frame:411 protocol:22,\n",
       " ethertype:88B6 length:1496 Payload:mca frame:412 protocol:23,\n",
       " ethertype:88B6 length:1496 Payload:mca frame:413 protocol:24,\n",
       " ethertype:88B6 length:1496 Payload:mca frame:414 protocol:25,\n",
       " ethertype:88B6 length:1496 Payload:mca frame:415 protocol:26,\n",
       " ethertype:88B6 length:1496 Payload:mca frame:416 protocol:27,\n",
       " ethertype:88B6 length:1496 Payload:mca frame:417 protocol:28,\n",
       " ethertype:88B6 length:1496 Payload:mca frame:418 protocol:29,\n",
       " ethertype:88B6 length:1496 Payload:mca frame:419 protocol:30,\n",
       " ethertype:88B6 length:1496 Payload:mca frame:420 protocol:31,\n",
       " ethertype:88B6 length:1496 Payload:mca frame:421 protocol:32,\n",
       " ethertype:88B6 length:1496 Payload:mca frame:422 protocol:33,\n",
       " ethertype:88B6 length:1496 Payload:mca frame:423 protocol:34,\n",
       " ethertype:88B6 length:1496 Payload:mca frame:424 protocol:35,\n",
       " ethertype:88B6 length:1496 Payload:mca frame:425 protocol:36,\n",
       " ethertype:88B6 length:1496 Payload:mca frame:426 protocol:37,\n",
       " ethertype:88B6 length:1496 Payload:mca frame:427 protocol:38,\n",
       " ethertype:88B5 length:40 Payload:peak frame:428 protocol:29,\n",
       " ethertype:88B5 length:48 Payload:tick frame:429 protocol:30,\n",
       " ethertype:88B6 length:1496 Payload:mca frame:430 protocol:39,\n",
       " ethertype:88B6 length:1496 Payload:mca frame:431 protocol:40,\n",
       " ethertype:88B6 length:1496 Payload:mca frame:432 protocol:41,\n",
       " ethertype:88B6 length:1496 Payload:mca frame:433 protocol:42,\n",
       " ethertype:88B6 length:1496 Payload:mca frame:434 protocol:43,\n",
       " ethertype:88B6 length:832 Payload:mca frame:435 protocol:44,\n",
       " ethertype:88B6 length:1496 Payload:mca frame:436 protocol:0,\n",
       " ethertype:88B6 length:1496 Payload:mca frame:437 protocol:1,\n",
       " ethertype:88B6 length:1496 Payload:mca frame:438 protocol:2,\n",
       " ethertype:88B6 length:1496 Payload:mca frame:439 protocol:3,\n",
       " ethertype:88B6 length:1496 Payload:mca frame:440 protocol:4,\n",
       " ethertype:88B6 length:1496 Payload:mca frame:441 protocol:5,\n",
       " ethertype:88B6 length:1496 Payload:mca frame:442 protocol:6,\n",
       " ethertype:88B6 length:1496 Payload:mca frame:443 protocol:7,\n",
       " ethertype:88B6 length:1496 Payload:mca frame:444 protocol:8,\n",
       " ethertype:88B6 length:1496 Payload:mca frame:445 protocol:9,\n",
       " ethertype:88B6 length:1496 Payload:mca frame:446 protocol:10,\n",
       " ethertype:88B6 length:1496 Payload:mca frame:447 protocol:11,\n",
       " ethertype:88B6 length:1496 Payload:mca frame:448 protocol:12,\n",
       " ethertype:88B6 length:1496 Payload:mca frame:449 protocol:13,\n",
       " ethertype:88B6 length:1496 Payload:mca frame:450 protocol:14,\n",
       " ethertype:88B6 length:1496 Payload:mca frame:451 protocol:15,\n",
       " ethertype:88B6 length:1496 Payload:mca frame:452 protocol:16,\n",
       " ethertype:88B5 length:48 Payload:tick frame:453 protocol:31,\n",
       " ethertype:88B6 length:1496 Payload:mca frame:454 protocol:17,\n",
       " ethertype:88B6 length:1496 Payload:mca frame:455 protocol:18,\n",
       " ethertype:88B6 length:1496 Payload:mca frame:456 protocol:19,\n",
       " ethertype:88B6 length:1496 Payload:mca frame:457 protocol:20,\n",
       " ethertype:88B6 length:1496 Payload:mca frame:458 protocol:21,\n",
       " ethertype:88B6 length:1496 Payload:mca frame:459 protocol:22,\n",
       " ethertype:88B6 length:1496 Payload:mca frame:460 protocol:23,\n",
       " ethertype:88B6 length:1496 Payload:mca frame:461 protocol:24,\n",
       " ethertype:88B6 length:1496 Payload:mca frame:462 protocol:25,\n",
       " ethertype:88B6 length:1496 Payload:mca frame:463 protocol:26,\n",
       " ethertype:88B6 length:1496 Payload:mca frame:464 protocol:27,\n",
       " ethertype:88B6 length:1496 Payload:mca frame:465 protocol:28,\n",
       " ethertype:88B6 length:1496 Payload:mca frame:466 protocol:29,\n",
       " ethertype:88B6 length:1496 Payload:mca frame:467 protocol:30,\n",
       " ethertype:88B6 length:1496 Payload:mca frame:468 protocol:31,\n",
       " ethertype:88B6 length:1496 Payload:mca frame:469 protocol:32,\n",
       " ethertype:88B6 length:1496 Payload:mca frame:470 protocol:33,\n",
       " ethertype:88B6 length:1496 Payload:mca frame:471 protocol:34,\n",
       " ethertype:88B6 length:1496 Payload:mca frame:472 protocol:35,\n",
       " ethertype:88B6 length:1496 Payload:mca frame:473 protocol:36,\n",
       " ethertype:88B6 length:1496 Payload:mca frame:474 protocol:37,\n",
       " ethertype:88B6 length:1496 Payload:mca frame:475 protocol:38,\n",
       " ethertype:88B5 length:48 Payload:tick frame:476 protocol:32,\n",
       " ethertype:88B6 length:1496 Payload:mca frame:477 protocol:39,\n",
       " ethertype:88B6 length:1496 Payload:mca frame:478 protocol:40,\n",
       " ethertype:88B6 length:1496 Payload:mca frame:479 protocol:41,\n",
       " ethertype:88B6 length:1496 Payload:mca frame:480 protocol:42,\n",
       " ethertype:88B6 length:1496 Payload:mca frame:481 protocol:43,\n",
       " ethertype:88B6 length:832 Payload:mca frame:482 protocol:44,\n",
       " ethertype:88B5 length:40 Payload:peak frame:483 protocol:33,\n",
       " ethertype:88B6 length:1496 Payload:mca frame:484 protocol:0,\n",
       " ethertype:88B6 length:1496 Payload:mca frame:485 protocol:1,\n",
       " ethertype:88B6 length:1496 Payload:mca frame:486 protocol:2,\n",
       " ethertype:88B6 length:1496 Payload:mca frame:487 protocol:3,\n",
       " ethertype:88B6 length:1496 Payload:mca frame:488 protocol:4,\n",
       " ethertype:88B6 length:1496 Payload:mca frame:489 protocol:5,\n",
       " ethertype:88B6 length:1496 Payload:mca frame:490 protocol:6,\n",
       " ethertype:88B6 length:1496 Payload:mca frame:491 protocol:7,\n",
       " ethertype:88B6 length:1496 Payload:mca frame:492 protocol:8,\n",
       " ethertype:88B6 length:1496 Payload:mca frame:493 protocol:9,\n",
       " ethertype:88B6 length:1496 Payload:mca frame:494 protocol:10,\n",
       " ethertype:88B6 length:1496 Payload:mca frame:495 protocol:11,\n",
       " ethertype:88B6 length:1496 Payload:mca frame:496 protocol:12,\n",
       " ethertype:88B6 length:1496 Payload:mca frame:497 protocol:13,\n",
       " ethertype:88B6 length:1496 Payload:mca frame:498 protocol:14,\n",
       " ethertype:88B6 length:1496 Payload:mca frame:499 protocol:15,\n",
       " ethertype:88B6 length:1496 Payload:mca frame:500 protocol:16,\n",
       " ethertype:88B5 length:48 Payload:tick frame:501 protocol:34,\n",
       " ethertype:88B6 length:1496 Payload:mca frame:502 protocol:17,\n",
       " ethertype:88B6 length:1496 Payload:mca frame:503 protocol:18,\n",
       " ethertype:88B6 length:1496 Payload:mca frame:504 protocol:19,\n",
       " ethertype:88B6 length:1496 Payload:mca frame:505 protocol:20,\n",
       " ethertype:88B6 length:1496 Payload:mca frame:506 protocol:21,\n",
       " ethertype:88B6 length:1496 Payload:mca frame:507 protocol:22,\n",
       " ethertype:88B6 length:1496 Payload:mca frame:508 protocol:23,\n",
       " ethertype:88B6 length:1496 Payload:mca frame:509 protocol:24,\n",
       " ethertype:88B6 length:1496 Payload:mca frame:510 protocol:25,\n",
       " ethertype:88B6 length:1496 Payload:mca frame:511 protocol:26,\n",
       " ethertype:88B6 length:1496 Payload:mca frame:512 protocol:27,\n",
       " ethertype:88B6 length:1496 Payload:mca frame:513 protocol:28,\n",
       " ethertype:88B6 length:1496 Payload:mca frame:514 protocol:29,\n",
       " ethertype:88B6 length:1496 Payload:mca frame:515 protocol:30,\n",
       " ethertype:88B6 length:1496 Payload:mca frame:516 protocol:31,\n",
       " ethertype:88B6 length:1496 Payload:mca frame:517 protocol:32,\n",
       " ethertype:88B6 length:1496 Payload:mca frame:518 protocol:33,\n",
       " ethertype:88B6 length:1496 Payload:mca frame:519 protocol:34,\n",
       " ethertype:88B6 length:1496 Payload:mca frame:520 protocol:35,\n",
       " ethertype:88B6 length:1496 Payload:mca frame:521 protocol:36,\n",
       " ethertype:88B6 length:1496 Payload:mca frame:522 protocol:37,\n",
       " ethertype:88B6 length:1496 Payload:mca frame:523 protocol:38,\n",
       " ethertype:88B5 length:32 Payload:peak frame:524 protocol:35,\n",
       " ethertype:88B5 length:48 Payload:tick frame:525 protocol:36,\n",
       " ethertype:88B6 length:1496 Payload:mca frame:526 protocol:39,\n",
       " ethertype:88B6 length:1496 Payload:mca frame:527 protocol:40,\n",
       " ethertype:88B6 length:1496 Payload:mca frame:528 protocol:41,\n",
       " ethertype:88B6 length:1496 Payload:mca frame:529 protocol:42,\n",
       " ethertype:88B6 length:1496 Payload:mca frame:530 protocol:43,\n",
       " ethertype:88B6 length:832 Payload:mca frame:531 protocol:44,\n",
       " ethertype:88B6 length:1496 Payload:mca frame:532 protocol:0,\n",
       " ethertype:88B6 length:1496 Payload:mca frame:533 protocol:1,\n",
       " ethertype:88B6 length:1496 Payload:mca frame:534 protocol:2,\n",
       " ethertype:88B6 length:1496 Payload:mca frame:535 protocol:3,\n",
       " ethertype:88B6 length:1496 Payload:mca frame:536 protocol:4,\n",
       " ethertype:88B6 length:1496 Payload:mca frame:537 protocol:5,\n",
       " ethertype:88B6 length:1496 Payload:mca frame:538 protocol:6,\n",
       " ethertype:88B6 length:1496 Payload:mca frame:539 protocol:7,\n",
       " ethertype:88B6 length:1496 Payload:mca frame:540 protocol:8,\n",
       " ethertype:88B6 length:1496 Payload:mca frame:541 protocol:9,\n",
       " ethertype:88B6 length:1496 Payload:mca frame:542 protocol:10,\n",
       " ethertype:88B6 length:1496 Payload:mca frame:543 protocol:11,\n",
       " ethertype:88B6 length:1496 Payload:mca frame:544 protocol:12,\n",
       " ethertype:88B6 length:1496 Payload:mca frame:545 protocol:13,\n",
       " ethertype:88B6 length:1496 Payload:mca frame:546 protocol:14,\n",
       " ethertype:88B6 length:1496 Payload:mca frame:547 protocol:15,\n",
       " ethertype:88B6 length:1496 Payload:mca frame:548 protocol:16,\n",
       " ethertype:88B5 length:48 Payload:tick frame:549 protocol:37,\n",
       " ethertype:88B6 length:1496 Payload:mca frame:550 protocol:17,\n",
       " ethertype:88B6 length:1496 Payload:mca frame:551 protocol:18,\n",
       " ethertype:88B6 length:1496 Payload:mca frame:552 protocol:19,\n",
       " ethertype:88B6 length:1496 Payload:mca frame:553 protocol:20,\n",
       " ethertype:88B6 length:1496 Payload:mca frame:554 protocol:21,\n",
       " ethertype:88B6 length:1496 Payload:mca frame:555 protocol:22,\n",
       " ethertype:88B6 length:1496 Payload:mca frame:556 protocol:23,\n",
       " ethertype:88B6 length:1496 Payload:mca frame:557 protocol:24,\n",
       " ethertype:88B6 length:1496 Payload:mca frame:558 protocol:25,\n",
       " ethertype:88B6 length:1496 Payload:mca frame:559 protocol:26,\n",
       " ethertype:88B6 length:1496 Payload:mca frame:560 protocol:27,\n",
       " ethertype:88B6 length:1496 Payload:mca frame:561 protocol:28,\n",
       " ethertype:88B6 length:1496 Payload:mca frame:562 protocol:29,\n",
       " ethertype:88B6 length:1496 Payload:mca frame:563 protocol:30,\n",
       " ethertype:88B6 length:1496 Payload:mca frame:564 protocol:31,\n",
       " ethertype:88B6 length:1496 Payload:mca frame:565 protocol:32,\n",
       " ethertype:88B6 length:1496 Payload:mca frame:566 protocol:33,\n",
       " ethertype:88B6 length:1496 Payload:mca frame:567 protocol:34,\n",
       " ethertype:88B6 length:1496 Payload:mca frame:568 protocol:35,\n",
       " ethertype:88B6 length:1496 Payload:mca frame:569 protocol:36,\n",
       " ethertype:88B6 length:1496 Payload:mca frame:570 protocol:37,\n",
       " ethertype:88B6 length:1496 Payload:mca frame:571 protocol:38,\n",
       " ethertype:88B5 length:48 Payload:tick frame:572 protocol:38,\n",
       " ethertype:88B6 length:1496 Payload:mca frame:573 protocol:39,\n",
       " ethertype:88B6 length:1496 Payload:mca frame:574 protocol:40,\n",
       " ethertype:88B6 length:1496 Payload:mca frame:575 protocol:41,\n",
       " ethertype:88B6 length:1496 Payload:mca frame:576 protocol:42,\n",
       " ethertype:88B6 length:1496 Payload:mca frame:577 protocol:43,\n",
       " ethertype:88B6 length:832 Payload:mca frame:578 protocol:44,\n",
       " ethertype:88B6 length:1496 Payload:mca frame:579 protocol:0,\n",
       " ethertype:88B6 length:1496 Payload:mca frame:580 protocol:1,\n",
       " ethertype:88B6 length:1496 Payload:mca frame:581 protocol:2,\n",
       " ethertype:88B6 length:1496 Payload:mca frame:582 protocol:3,\n",
       " ethertype:88B6 length:1496 Payload:mca frame:583 protocol:4,\n",
       " ethertype:88B6 length:1496 Payload:mca frame:584 protocol:5,\n",
       " ethertype:88B6 length:1496 Payload:mca frame:585 protocol:6,\n",
       " ethertype:88B6 length:1496 Payload:mca frame:586 protocol:7,\n",
       " ethertype:88B6 length:1496 Payload:mca frame:587 protocol:8,\n",
       " ethertype:88B6 length:1496 Payload:mca frame:588 protocol:9,\n",
       " ethertype:88B6 length:1496 Payload:mca frame:589 protocol:10,\n",
       " ethertype:88B6 length:1496 Payload:mca frame:590 protocol:11,\n",
       " ethertype:88B6 length:1496 Payload:mca frame:591 protocol:12,\n",
       " ethertype:88B6 length:1496 Payload:mca frame:592 protocol:13,\n",
       " ethertype:88B6 length:1496 Payload:mca frame:593 protocol:14,\n",
       " ethertype:88B6 length:1496 Payload:mca frame:594 protocol:15,\n",
       " ethertype:88B6 length:1496 Payload:mca frame:595 protocol:16,\n",
       " ethertype:88B5 length:48 Payload:tick frame:596 protocol:39,\n",
       " ethertype:88B6 length:1496 Payload:mca frame:597 protocol:17,\n",
       " ethertype:88B6 length:1496 Payload:mca frame:598 protocol:18,\n",
       " ethertype:88B6 length:1496 Payload:mca frame:599 protocol:19,\n",
       " ethertype:88B6 length:1496 Payload:mca frame:600 protocol:20,\n",
       " ethertype:88B6 length:1496 Payload:mca frame:601 protocol:21,\n",
       " ethertype:88B6 length:1496 Payload:mca frame:602 protocol:22,\n",
       " ethertype:88B6 length:1496 Payload:mca frame:603 protocol:23,\n",
       " ethertype:88B6 length:1496 Payload:mca frame:604 protocol:24,\n",
       " ethertype:88B6 length:1496 Payload:mca frame:605 protocol:25,\n",
       " ethertype:88B6 length:1496 Payload:mca frame:606 protocol:26,\n",
       " ethertype:88B6 length:1496 Payload:mca frame:607 protocol:27,\n",
       " ethertype:88B6 length:1496 Payload:mca frame:608 protocol:28,\n",
       " ethertype:88B6 length:1496 Payload:mca frame:609 protocol:29,\n",
       " ethertype:88B6 length:1496 Payload:mca frame:610 protocol:30,\n",
       " ethertype:88B6 length:1496 Payload:mca frame:611 protocol:31,\n",
       " ethertype:88B6 length:1496 Payload:mca frame:612 protocol:32,\n",
       " ethertype:88B6 length:1496 Payload:mca frame:613 protocol:33,\n",
       " ethertype:88B6 length:1496 Payload:mca frame:614 protocol:34,\n",
       " ethertype:88B6 length:1496 Payload:mca frame:615 protocol:35,\n",
       " ethertype:88B6 length:1496 Payload:mca frame:616 protocol:36,\n",
       " ethertype:88B6 length:1496 Payload:mca frame:617 protocol:37,\n",
       " ethertype:88B6 length:1496 Payload:mca frame:618 protocol:38,\n",
       " ethertype:88B5 length:48 Payload:tick frame:619 protocol:40,\n",
       " ethertype:88B6 length:1496 Payload:mca frame:620 protocol:39,\n",
       " ethertype:88B6 length:1496 Payload:mca frame:621 protocol:40,\n",
       " ethertype:88B6 length:1496 Payload:mca frame:622 protocol:41,\n",
       " ethertype:88B6 length:1496 Payload:mca frame:623 protocol:42,\n",
       " ethertype:88B6 length:1496 Payload:mca frame:624 protocol:43,\n",
       " ethertype:88B6 length:832 Payload:mca frame:625 protocol:44,\n",
       " ethertype:88B6 length:1496 Payload:mca frame:626 protocol:0,\n",
       " ethertype:88B6 length:1496 Payload:mca frame:627 protocol:1,\n",
       " ethertype:88B6 length:1496 Payload:mca frame:628 protocol:2,\n",
       " ethertype:88B6 length:1496 Payload:mca frame:629 protocol:3,\n",
       " ethertype:88B6 length:1496 Payload:mca frame:630 protocol:4,\n",
       " ethertype:88B6 length:1496 Payload:mca frame:631 protocol:5,\n",
       " ethertype:88B6 length:1496 Payload:mca frame:632 protocol:6,\n",
       " ethertype:88B6 length:1496 Payload:mca frame:633 protocol:7,\n",
       " ethertype:88B6 length:1496 Payload:mca frame:634 protocol:8,\n",
       " ethertype:88B6 length:1496 Payload:mca frame:635 protocol:9,\n",
       " ethertype:88B6 length:1496 Payload:mca frame:636 protocol:10,\n",
       " ethertype:88B6 length:1496 Payload:mca frame:637 protocol:11,\n",
       " ethertype:88B6 length:1496 Payload:mca frame:638 protocol:12,\n",
       " ethertype:88B6 length:1496 Payload:mca frame:639 protocol:13,\n",
       " ethertype:88B6 length:1496 Payload:mca frame:640 protocol:14,\n",
       " ethertype:88B6 length:1496 Payload:mca frame:641 protocol:15,\n",
       " ethertype:88B6 length:1496 Payload:mca frame:642 protocol:16,\n",
       " ethertype:88B5 length:48 Payload:tick frame:643 protocol:41,\n",
       " ethertype:88B6 length:1496 Payload:mca frame:644 protocol:17,\n",
       " ethertype:88B6 length:1496 Payload:mca frame:645 protocol:18,\n",
       " ethertype:88B6 length:1496 Payload:mca frame:646 protocol:19,\n",
       " ethertype:88B6 length:1496 Payload:mca frame:647 protocol:20,\n",
       " ethertype:88B6 length:1496 Payload:mca frame:648 protocol:21,\n",
       " ethertype:88B6 length:1496 Payload:mca frame:649 protocol:22,\n",
       " ethertype:88B6 length:1496 Payload:mca frame:650 protocol:23,\n",
       " ethertype:88B6 length:1496 Payload:mca frame:651 protocol:24,\n",
       " ethertype:88B6 length:1496 Payload:mca frame:652 protocol:25,\n",
       " ethertype:88B6 length:1496 Payload:mca frame:653 protocol:26,\n",
       " ethertype:88B6 length:1496 Payload:mca frame:654 protocol:27,\n",
       " ethertype:88B6 length:1496 Payload:mca frame:655 protocol:28,\n",
       " ethertype:88B6 length:1496 Payload:mca frame:656 protocol:29,\n",
       " ethertype:88B6 length:1496 Payload:mca frame:657 protocol:30,\n",
       " ethertype:88B6 length:1496 Payload:mca frame:658 protocol:31,\n",
       " ethertype:88B6 length:1496 Payload:mca frame:659 protocol:32,\n",
       " ethertype:88B6 length:1496 Payload:mca frame:660 protocol:33,\n",
       " ethertype:88B6 length:1496 Payload:mca frame:661 protocol:34,\n",
       " ethertype:88B6 length:1496 Payload:mca frame:662 protocol:35,\n",
       " ethertype:88B6 length:1496 Payload:mca frame:663 protocol:36,\n",
       " ethertype:88B6 length:1496 Payload:mca frame:664 protocol:37,\n",
       " ethertype:88B6 length:1496 Payload:mca frame:665 protocol:38,\n",
       " ethertype:88B5 length:48 Payload:tick frame:666 protocol:42,\n",
       " ethertype:88B6 length:1496 Payload:mca frame:667 protocol:39,\n",
       " ethertype:88B6 length:1496 Payload:mca frame:668 protocol:40,\n",
       " ethertype:88B6 length:1496 Payload:mca frame:669 protocol:41,\n",
       " ethertype:88B6 length:1496 Payload:mca frame:670 protocol:42,\n",
       " ethertype:88B6 length:1496 Payload:mca frame:671 protocol:43,\n",
       " ethertype:88B6 length:832 Payload:mca frame:672 protocol:44,\n",
       " ethertype:88B6 length:1496 Payload:mca frame:673 protocol:0,\n",
       " ethertype:88B6 length:1496 Payload:mca frame:674 protocol:1,\n",
       " ethertype:88B6 length:1496 Payload:mca frame:675 protocol:2,\n",
       " ethertype:88B6 length:1496 Payload:mca frame:676 protocol:3,\n",
       " ethertype:88B6 length:1496 Payload:mca frame:677 protocol:4,\n",
       " ethertype:88B6 length:1496 Payload:mca frame:678 protocol:5,\n",
       " ethertype:88B6 length:1496 Payload:mca frame:679 protocol:6,\n",
       " ethertype:88B6 length:1496 Payload:mca frame:680 protocol:7,\n",
       " ethertype:88B6 length:1496 Payload:mca frame:681 protocol:8,\n",
       " ethertype:88B6 length:1496 Payload:mca frame:682 protocol:9,\n",
       " ethertype:88B6 length:1496 Payload:mca frame:683 protocol:10,\n",
       " ethertype:88B6 length:1496 Payload:mca frame:684 protocol:11,\n",
       " ethertype:88B6 length:1496 Payload:mca frame:685 protocol:12,\n",
       " ethertype:88B6 length:1496 Payload:mca frame:686 protocol:13,\n",
       " ethertype:88B6 length:1496 Payload:mca frame:687 protocol:14,\n",
       " ethertype:88B6 length:1496 Payload:mca frame:688 protocol:15,\n",
       " ethertype:88B6 length:1496 Payload:mca frame:689 protocol:16,\n",
       " ethertype:88B5 length:48 Payload:tick frame:690 protocol:43,\n",
       " ethertype:88B6 length:1496 Payload:mca frame:691 protocol:17,\n",
       " ethertype:88B6 length:1496 Payload:mca frame:692 protocol:18,\n",
       " ethertype:88B6 length:1496 Payload:mca frame:693 protocol:19,\n",
       " ethertype:88B6 length:1496 Payload:mca frame:694 protocol:20,\n",
       " ethertype:88B6 length:1496 Payload:mca frame:695 protocol:21,\n",
       " ethertype:88B6 length:1496 Payload:mca frame:696 protocol:22,\n",
       " ethertype:88B6 length:1496 Payload:mca frame:697 protocol:23,\n",
       " ethertype:88B6 length:1496 Payload:mca frame:698 protocol:24,\n",
       " ethertype:88B6 length:1496 Payload:mca frame:699 protocol:25,\n",
       " ethertype:88B6 length:1496 Payload:mca frame:700 protocol:26,\n",
       " ethertype:88B6 length:1496 Payload:mca frame:701 protocol:27,\n",
       " ethertype:88B6 length:1496 Payload:mca frame:702 protocol:28,\n",
       " ethertype:88B6 length:1496 Payload:mca frame:703 protocol:29,\n",
       " ethertype:88B6 length:1496 Payload:mca frame:704 protocol:30,\n",
       " ethertype:88B6 length:1496 Payload:mca frame:705 protocol:31,\n",
       " ethertype:88B6 length:1496 Payload:mca frame:706 protocol:32,\n",
       " ethertype:88B6 length:1496 Payload:mca frame:707 protocol:33,\n",
       " ethertype:88B6 length:1496 Payload:mca frame:708 protocol:34,\n",
       " ethertype:88B6 length:1496 Payload:mca frame:709 protocol:35,\n",
       " ethertype:88B6 length:1496 Payload:mca frame:710 protocol:36,\n",
       " ethertype:88B6 length:1496 Payload:mca frame:711 protocol:37,\n",
       " ethertype:88B6 length:1496 Payload:mca frame:712 protocol:38,\n",
       " ethertype:88B5 length:48 Payload:tick frame:713 protocol:44,\n",
       " ethertype:88B6 length:1496 Payload:mca frame:714 protocol:39,\n",
       " ethertype:88B6 length:1496 Payload:mca frame:715 protocol:40,\n",
       " ethertype:88B6 length:1496 Payload:mca frame:716 protocol:41,\n",
       " ethertype:88B6 length:1496 Payload:mca frame:717 protocol:42,\n",
       " ethertype:88B6 length:1496 Payload:mca frame:718 protocol:43,\n",
       " ethertype:88B6 length:832 Payload:mca frame:719 protocol:44,\n",
       " ethertype:88B5 length:40 Payload:peak frame:720 protocol:45,\n",
       " ethertype:88B6 length:1496 Payload:mca frame:721 protocol:0,\n",
       " ethertype:88B6 length:1496 Payload:mca frame:722 protocol:1,\n",
       " ethertype:88B6 length:1496 Payload:mca frame:723 protocol:2,\n",
       " ethertype:88B6 length:1496 Payload:mca frame:724 protocol:3,\n",
       " ethertype:88B6 length:1496 Payload:mca frame:725 protocol:4,\n",
       " ethertype:88B6 length:1496 Payload:mca frame:726 protocol:5,\n",
       " ethertype:88B6 length:1496 Payload:mca frame:727 protocol:6,\n",
       " ethertype:88B6 length:1496 Payload:mca frame:728 protocol:7,\n",
       " ethertype:88B6 length:1496 Payload:mca frame:729 protocol:8,\n",
       " ethertype:88B6 length:1496 Payload:mca frame:730 protocol:9,\n",
       " ethertype:88B6 length:1496 Payload:mca frame:731 protocol:10,\n",
       " ethertype:88B6 length:1496 Payload:mca frame:732 protocol:11,\n",
       " ethertype:88B6 length:1496 Payload:mca frame:733 protocol:12,\n",
       " ethertype:88B6 length:1496 Payload:mca frame:734 protocol:13,\n",
       " ethertype:88B6 length:1496 Payload:mca frame:735 protocol:14,\n",
       " ethertype:88B6 length:1496 Payload:mca frame:736 protocol:15,\n",
       " ethertype:88B6 length:1496 Payload:mca frame:737 protocol:16,\n",
       " ethertype:88B5 length:48 Payload:tick frame:738 protocol:46,\n",
       " ethertype:88B6 length:1496 Payload:mca frame:739 protocol:17,\n",
       " ethertype:88B6 length:1496 Payload:mca frame:740 protocol:18,\n",
       " ethertype:88B6 length:1496 Payload:mca frame:741 protocol:19,\n",
       " ethertype:88B6 length:1496 Payload:mca frame:742 protocol:20,\n",
       " ethertype:88B6 length:1496 Payload:mca frame:743 protocol:21,\n",
       " ethertype:88B6 length:1496 Payload:mca frame:744 protocol:22,\n",
       " ethertype:88B6 length:1496 Payload:mca frame:745 protocol:23,\n",
       " ethertype:88B6 length:1496 Payload:mca frame:746 protocol:24,\n",
       " ethertype:88B6 length:1496 Payload:mca frame:747 protocol:25,\n",
       " ethertype:88B6 length:1496 Payload:mca frame:748 protocol:26,\n",
       " ethertype:88B6 length:1496 Payload:mca frame:749 protocol:27,\n",
       " ethertype:88B6 length:1496 Payload:mca frame:750 protocol:28,\n",
       " ethertype:88B6 length:1496 Payload:mca frame:751 protocol:29,\n",
       " ethertype:88B6 length:1496 Payload:mca frame:752 protocol:30,\n",
       " ethertype:88B6 length:1496 Payload:mca frame:753 protocol:31,\n",
       " ethertype:88B6 length:1496 Payload:mca frame:754 protocol:32,\n",
       " ethertype:88B6 length:1496 Payload:mca frame:755 protocol:33,\n",
       " ethertype:88B6 length:1496 Payload:mca frame:756 protocol:34,\n",
       " ethertype:88B6 length:1496 Payload:mca frame:757 protocol:35,\n",
       " ethertype:88B6 length:1496 Payload:mca frame:758 protocol:36,\n",
       " ethertype:88B6 length:1496 Payload:mca frame:759 protocol:37,\n",
       " ethertype:88B6 length:1496 Payload:mca frame:760 protocol:38,\n",
       " ethertype:88B5 length:40 Payload:peak frame:761 protocol:47,\n",
       " ethertype:88B5 length:48 Payload:tick frame:762 protocol:48,\n",
       " ethertype:88B6 length:1496 Payload:mca frame:763 protocol:39,\n",
       " ethertype:88B6 length:1496 Payload:mca frame:764 protocol:40,\n",
       " ethertype:88B6 length:1496 Payload:mca frame:765 protocol:41,\n",
       " ethertype:88B6 length:1496 Payload:mca frame:766 protocol:42,\n",
       " ethertype:88B6 length:1496 Payload:mca frame:767 protocol:43,\n",
       " ethertype:88B6 length:832 Payload:mca frame:768 protocol:44,\n",
       " ethertype:88B5 length:56 Payload:peak frame:769 protocol:49,\n",
       " ethertype:88B6 length:1496 Payload:mca frame:770 protocol:0,\n",
       " ethertype:88B6 length:1496 Payload:mca frame:771 protocol:1,\n",
       " ethertype:88B6 length:1496 Payload:mca frame:772 protocol:2,\n",
       " ethertype:88B6 length:1496 Payload:mca frame:773 protocol:3,\n",
       " ethertype:88B6 length:1496 Payload:mca frame:774 protocol:4,\n",
       " ethertype:88B6 length:1496 Payload:mca frame:775 protocol:5,\n",
       " ethertype:88B6 length:1496 Payload:mca frame:776 protocol:6,\n",
       " ethertype:88B6 length:1496 Payload:mca frame:777 protocol:7,\n",
       " ethertype:88B6 length:1496 Payload:mca frame:778 protocol:8,\n",
       " ethertype:88B6 length:1496 Payload:mca frame:779 protocol:9,\n",
       " ethertype:88B6 length:1496 Payload:mca frame:780 protocol:10,\n",
       " ethertype:88B6 length:1496 Payload:mca frame:781 protocol:11,\n",
       " ethertype:88B6 length:1496 Payload:mca frame:782 protocol:12,\n",
       " ethertype:88B6 length:1496 Payload:mca frame:783 protocol:13,\n",
       " ethertype:88B6 length:1496 Payload:mca frame:784 protocol:14,\n",
       " ethertype:88B6 length:1496 Payload:mca frame:785 protocol:15,\n",
       " ethertype:88B6 length:1496 Payload:mca frame:786 protocol:16,\n",
       " ethertype:88B5 length:48 Payload:tick frame:787 protocol:50,\n",
       " ethertype:88B6 length:1496 Payload:mca frame:788 protocol:17,\n",
       " ethertype:88B6 length:1496 Payload:mca frame:789 protocol:18,\n",
       " ethertype:88B6 length:1496 Payload:mca frame:790 protocol:19,\n",
       " ethertype:88B6 length:1496 Payload:mca frame:791 protocol:20,\n",
       " ethertype:88B6 length:1496 Payload:mca frame:792 protocol:21,\n",
       " ethertype:88B6 length:1496 Payload:mca frame:793 protocol:22,\n",
       " ethertype:88B6 length:1496 Payload:mca frame:794 protocol:23,\n",
       " ethertype:88B6 length:1496 Payload:mca frame:795 protocol:24,\n",
       " ethertype:88B6 length:1496 Payload:mca frame:796 protocol:25,\n",
       " ethertype:88B6 length:1496 Payload:mca frame:797 protocol:26,\n",
       " ethertype:88B6 length:1496 Payload:mca frame:798 protocol:27,\n",
       " ethertype:88B6 length:1496 Payload:mca frame:799 protocol:28,\n",
       " ethertype:88B6 length:1496 Payload:mca frame:800 protocol:29,\n",
       " ethertype:88B6 length:1496 Payload:mca frame:801 protocol:30,\n",
       " ethertype:88B6 length:1496 Payload:mca frame:802 protocol:31,\n",
       " ethertype:88B6 length:1496 Payload:mca frame:803 protocol:32,\n",
       " ethertype:88B6 length:1496 Payload:mca frame:804 protocol:33,\n",
       " ethertype:88B6 length:1496 Payload:mca frame:805 protocol:34,\n",
       " ethertype:88B6 length:1496 Payload:mca frame:806 protocol:35,\n",
       " ethertype:88B6 length:1496 Payload:mca frame:807 protocol:36,\n",
       " ethertype:88B6 length:1496 Payload:mca frame:808 protocol:37,\n",
       " ethertype:88B6 length:1496 Payload:mca frame:809 protocol:38,\n",
       " ethertype:88B5 length:48 Payload:tick frame:810 protocol:51,\n",
       " ethertype:88B6 length:1496 Payload:mca frame:811 protocol:39,\n",
       " ethertype:88B6 length:1496 Payload:mca frame:812 protocol:40,\n",
       " ethertype:88B6 length:1496 Payload:mca frame:813 protocol:41,\n",
       " ethertype:88B6 length:1496 Payload:mca frame:814 protocol:42,\n",
       " ethertype:88B6 length:1496 Payload:mca frame:815 protocol:43,\n",
       " ethertype:88B6 length:832 Payload:mca frame:816 protocol:44,\n",
       " ethertype:88B6 length:1496 Payload:mca frame:817 protocol:0,\n",
       " ethertype:88B6 length:1496 Payload:mca frame:818 protocol:1,\n",
       " ethertype:88B6 length:1496 Payload:mca frame:819 protocol:2,\n",
       " ethertype:88B6 length:1496 Payload:mca frame:820 protocol:3,\n",
       " ethertype:88B6 length:1496 Payload:mca frame:821 protocol:4,\n",
       " ethertype:88B6 length:1496 Payload:mca frame:822 protocol:5,\n",
       " ethertype:88B6 length:1496 Payload:mca frame:823 protocol:6,\n",
       " ethertype:88B6 length:1496 Payload:mca frame:824 protocol:7,\n",
       " ethertype:88B6 length:1496 Payload:mca frame:825 protocol:8,\n",
       " ethertype:88B6 length:1496 Payload:mca frame:826 protocol:9,\n",
       " ethertype:88B6 length:1496 Payload:mca frame:827 protocol:10,\n",
       " ethertype:88B6 length:1496 Payload:mca frame:828 protocol:11,\n",
       " ethertype:88B6 length:1496 Payload:mca frame:829 protocol:12,\n",
       " ethertype:88B6 length:1496 Payload:mca frame:830 protocol:13,\n",
       " ethertype:88B6 length:1496 Payload:mca frame:831 protocol:14,\n",
       " ethertype:88B6 length:1496 Payload:mca frame:832 protocol:15,\n",
       " ethertype:88B6 length:1496 Payload:mca frame:833 protocol:16,\n",
       " ethertype:88B5 length:48 Payload:tick frame:834 protocol:52,\n",
       " ethertype:88B6 length:1496 Payload:mca frame:835 protocol:17,\n",
       " ethertype:88B6 length:1496 Payload:mca frame:836 protocol:18,\n",
       " ethertype:88B6 length:1496 Payload:mca frame:837 protocol:19,\n",
       " ethertype:88B6 length:1496 Payload:mca frame:838 protocol:20,\n",
       " ethertype:88B6 length:1496 Payload:mca frame:839 protocol:21,\n",
       " ethertype:88B6 length:1496 Payload:mca frame:840 protocol:22,\n",
       " ethertype:88B6 length:1496 Payload:mca frame:841 protocol:23,\n",
       " ethertype:88B6 length:1496 Payload:mca frame:842 protocol:24,\n",
       " ethertype:88B6 length:1496 Payload:mca frame:843 protocol:25,\n",
       " ethertype:88B6 length:1496 Payload:mca frame:844 protocol:26,\n",
       " ethertype:88B6 length:1496 Payload:mca frame:845 protocol:27,\n",
       " ethertype:88B6 length:1496 Payload:mca frame:846 protocol:28,\n",
       " ethertype:88B6 length:1496 Payload:mca frame:847 protocol:29,\n",
       " ethertype:88B6 length:1496 Payload:mca frame:848 protocol:30,\n",
       " ethertype:88B6 length:1496 Payload:mca frame:849 protocol:31,\n",
       " ethertype:88B6 length:1496 Payload:mca frame:850 protocol:32,\n",
       " ethertype:88B6 length:1496 Payload:mca frame:851 protocol:33,\n",
       " ethertype:88B6 length:1496 Payload:mca frame:852 protocol:34,\n",
       " ethertype:88B6 length:1496 Payload:mca frame:853 protocol:35,\n",
       " ethertype:88B6 length:1496 Payload:mca frame:854 protocol:36,\n",
       " ethertype:88B6 length:1496 Payload:mca frame:855 protocol:37,\n",
       " ethertype:88B6 length:1496 Payload:mca frame:856 protocol:38,\n",
       " ethertype:88B5 length:48 Payload:tick frame:857 protocol:53,\n",
       " ethertype:88B6 length:1496 Payload:mca frame:858 protocol:39,\n",
       " ethertype:88B6 length:1496 Payload:mca frame:859 protocol:40,\n",
       " ethertype:88B6 length:1496 Payload:mca frame:860 protocol:41,\n",
       " ethertype:88B6 length:1496 Payload:mca frame:861 protocol:42,\n",
       " ethertype:88B6 length:1496 Payload:mca frame:862 protocol:43,\n",
       " ethertype:88B6 length:832 Payload:mca frame:863 protocol:44,\n",
       " ethertype:88B5 length:40 Payload:peak frame:864 protocol:54,\n",
       " ethertype:88B6 length:1496 Payload:mca frame:865 protocol:0,\n",
       " ethertype:88B6 length:1496 Payload:mca frame:866 protocol:1,\n",
       " ethertype:88B6 length:1496 Payload:mca frame:867 protocol:2,\n",
       " ethertype:88B6 length:1496 Payload:mca frame:868 protocol:3,\n",
       " ethertype:88B6 length:1496 Payload:mca frame:869 protocol:4,\n",
       " ethertype:88B6 length:1496 Payload:mca frame:870 protocol:5,\n",
       " ethertype:88B6 length:1496 Payload:mca frame:871 protocol:6,\n",
       " ethertype:88B6 length:1496 Payload:mca frame:872 protocol:7,\n",
       " ethertype:88B6 length:1496 Payload:mca frame:873 protocol:8,\n",
       " ethertype:88B6 length:1496 Payload:mca frame:874 protocol:9,\n",
       " ethertype:88B6 length:1496 Payload:mca frame:875 protocol:10,\n",
       " ethertype:88B6 length:1496 Payload:mca frame:876 protocol:11,\n",
       " ethertype:88B6 length:1496 Payload:mca frame:877 protocol:12,\n",
       " ethertype:88B6 length:1496 Payload:mca frame:878 protocol:13,\n",
       " ethertype:88B6 length:1496 Payload:mca frame:879 protocol:14,\n",
       " ethertype:88B6 length:1496 Payload:mca frame:880 protocol:15,\n",
       " ethertype:88B6 length:1496 Payload:mca frame:881 protocol:16,\n",
       " ethertype:88B5 length:48 Payload:tick frame:882 protocol:55,\n",
       " ethertype:88B6 length:1496 Payload:mca frame:883 protocol:17,\n",
       " ethertype:88B6 length:1496 Payload:mca frame:884 protocol:18,\n",
       " ethertype:88B6 length:1496 Payload:mca frame:885 protocol:19,\n",
       " ethertype:88B6 length:1496 Payload:mca frame:886 protocol:20,\n",
       " ethertype:88B6 length:1496 Payload:mca frame:887 protocol:21,\n",
       " ethertype:88B6 length:1496 Payload:mca frame:888 protocol:22,\n",
       " ethertype:88B6 length:1496 Payload:mca frame:889 protocol:23,\n",
       " ethertype:88B6 length:1496 Payload:mca frame:890 protocol:24,\n",
       " ethertype:88B6 length:1496 Payload:mca frame:891 protocol:25,\n",
       " ethertype:88B6 length:1496 Payload:mca frame:892 protocol:26,\n",
       " ethertype:88B6 length:1496 Payload:mca frame:893 protocol:27,\n",
       " ethertype:88B6 length:1496 Payload:mca frame:894 protocol:28,\n",
       " ethertype:88B6 length:1496 Payload:mca frame:895 protocol:29,\n",
       " ethertype:88B6 length:1496 Payload:mca frame:896 protocol:30,\n",
       " ethertype:88B6 length:1496 Payload:mca frame:897 protocol:31,\n",
       " ethertype:88B6 length:1496 Payload:mca frame:898 protocol:32,\n",
       " ethertype:88B6 length:1496 Payload:mca frame:899 protocol:33,\n",
       " ethertype:88B6 length:1496 Payload:mca frame:900 protocol:34,\n",
       " ethertype:88B6 length:1496 Payload:mca frame:901 protocol:35,\n",
       " ethertype:88B6 length:1496 Payload:mca frame:902 protocol:36,\n",
       " ethertype:88B6 length:1496 Payload:mca frame:903 protocol:37,\n",
       " ethertype:88B6 length:1496 Payload:mca frame:904 protocol:38,\n",
       " ethertype:88B5 length:48 Payload:tick frame:905 protocol:56,\n",
       " ethertype:88B6 length:1496 Payload:mca frame:906 protocol:39,\n",
       " ethertype:88B6 length:1496 Payload:mca frame:907 protocol:40,\n",
       " ethertype:88B6 length:1496 Payload:mca frame:908 protocol:41,\n",
       " ethertype:88B6 length:1496 Payload:mca frame:909 protocol:42,\n",
       " ethertype:88B6 length:1496 Payload:mca frame:910 protocol:43,\n",
       " ethertype:88B6 length:832 Payload:mca frame:911 protocol:44,\n",
       " ethertype:88B6 length:1496 Payload:mca frame:912 protocol:0,\n",
       " ethertype:88B6 length:1496 Payload:mca frame:913 protocol:1,\n",
       " ethertype:88B6 length:1496 Payload:mca frame:914 protocol:2,\n",
       " ethertype:88B6 length:1496 Payload:mca frame:915 protocol:3,\n",
       " ethertype:88B6 length:1496 Payload:mca frame:916 protocol:4,\n",
       " ethertype:88B6 length:1496 Payload:mca frame:917 protocol:5,\n",
       " ethertype:88B6 length:1496 Payload:mca frame:918 protocol:6,\n",
       " ethertype:88B6 length:1496 Payload:mca frame:919 protocol:7,\n",
       " ethertype:88B6 length:1496 Payload:mca frame:920 protocol:8,\n",
       " ethertype:88B6 length:1496 Payload:mca frame:921 protocol:9,\n",
       " ethertype:88B6 length:1496 Payload:mca frame:922 protocol:10,\n",
       " ethertype:88B6 length:1496 Payload:mca frame:923 protocol:11,\n",
       " ethertype:88B6 length:1496 Payload:mca frame:924 protocol:12,\n",
       " ethertype:88B6 length:1496 Payload:mca frame:925 protocol:13,\n",
       " ethertype:88B6 length:1496 Payload:mca frame:926 protocol:14,\n",
       " ethertype:88B6 length:1496 Payload:mca frame:927 protocol:15,\n",
       " ethertype:88B6 length:1496 Payload:mca frame:928 protocol:16,\n",
       " ethertype:88B5 length:48 Payload:tick frame:929 protocol:57,\n",
       " ethertype:88B6 length:1496 Payload:mca frame:930 protocol:17,\n",
       " ethertype:88B6 length:1496 Payload:mca frame:931 protocol:18,\n",
       " ethertype:88B6 length:1496 Payload:mca frame:932 protocol:19,\n",
       " ethertype:88B6 length:1496 Payload:mca frame:933 protocol:20,\n",
       " ethertype:88B6 length:1496 Payload:mca frame:934 protocol:21,\n",
       " ethertype:88B6 length:1496 Payload:mca frame:935 protocol:22,\n",
       " ethertype:88B6 length:1496 Payload:mca frame:936 protocol:23,\n",
       " ethertype:88B6 length:1496 Payload:mca frame:937 protocol:24,\n",
       " ethertype:88B6 length:1496 Payload:mca frame:938 protocol:25,\n",
       " ethertype:88B6 length:1496 Payload:mca frame:939 protocol:26,\n",
       " ethertype:88B6 length:1496 Payload:mca frame:940 protocol:27,\n",
       " ethertype:88B6 length:1496 Payload:mca frame:941 protocol:28,\n",
       " ethertype:88B6 length:1496 Payload:mca frame:942 protocol:29,\n",
       " ethertype:88B6 length:1496 Payload:mca frame:943 protocol:30,\n",
       " ethertype:88B6 length:1496 Payload:mca frame:944 protocol:31,\n",
       " ethertype:88B6 length:1496 Payload:mca frame:945 protocol:32,\n",
       " ethertype:88B6 length:1496 Payload:mca frame:946 protocol:33,\n",
       " ethertype:88B6 length:1496 Payload:mca frame:947 protocol:34,\n",
       " ethertype:88B6 length:1496 Payload:mca frame:948 protocol:35,\n",
       " ethertype:88B6 length:1496 Payload:mca frame:949 protocol:36,\n",
       " ethertype:88B6 length:1496 Payload:mca frame:950 protocol:37,\n",
       " ethertype:88B6 length:1496 Payload:mca frame:951 protocol:38,\n",
       " ethertype:88B5 length:48 Payload:tick frame:952 protocol:58,\n",
       " ethertype:88B6 length:1496 Payload:mca frame:953 protocol:39,\n",
       " ethertype:88B6 length:1496 Payload:mca frame:954 protocol:40,\n",
       " ethertype:88B6 length:1496 Payload:mca frame:955 protocol:41,\n",
       " ethertype:88B6 length:1496 Payload:mca frame:956 protocol:42,\n",
       " ethertype:88B6 length:1496 Payload:mca frame:957 protocol:43,\n",
       " ethertype:88B6 length:832 Payload:mca frame:958 protocol:44,\n",
       " ethertype:88B5 length:48 Payload:tick frame:959 protocol:59,\n",
       " ethertype:88B5 length:40 Payload:peak frame:960 protocol:60,\n",
       " ethertype:88B5 length:48 Payload:tick frame:961 protocol:61,\n",
       " ethertype:88B5 length:48 Payload:tick frame:962 protocol:62,\n",
       " ethertype:88B5 length:48 Payload:tick frame:963 protocol:63,\n",
       " ethertype:88B5 length:40 Payload:peak frame:964 protocol:64,\n",
       " ethertype:88B5 length:48 Payload:tick frame:965 protocol:65,\n",
       " ethertype:88B5 length:72 Payload:peak frame:966 protocol:66,\n",
       " ethertype:88B5 length:48 Payload:tick frame:967 protocol:67,\n",
       " ethertype:88B5 length:48 Payload:tick frame:968 protocol:68,\n",
       " ethertype:88B5 length:48 Payload:tick frame:969 protocol:69,\n",
       " ethertype:88B5 length:40 Payload:peak frame:970 protocol:70,\n",
       " ethertype:88B5 length:48 Payload:tick frame:971 protocol:71,\n",
       " ethertype:88B5 length:56 Payload:peak frame:972 protocol:72,\n",
       " ethertype:88B5 length:48 Payload:tick frame:973 protocol:73,\n",
       " ethertype:88B5 length:48 Payload:tick frame:974 protocol:74,\n",
       " ethertype:88B5 length:48 Payload:tick frame:975 protocol:75,\n",
       " ethertype:88B5 length:48 Payload:tick frame:976 protocol:76,\n",
       " ethertype:88B5 length:48 Payload:tick frame:977 protocol:77,\n",
       " ethertype:88B5 length:40 Payload:peak frame:978 protocol:78,\n",
       " ethertype:88B5 length:48 Payload:tick frame:979 protocol:79,\n",
       " ethertype:88B5 length:40 Payload:peak frame:980 protocol:80,\n",
       " ethertype:88B5 length:48 Payload:tick frame:981 protocol:81,\n",
       " ethertype:88B5 length:56 Payload:peak frame:982 protocol:82,\n",
       " ethertype:88B5 length:48 Payload:tick frame:983 protocol:83,\n",
       " ethertype:88B5 length:40 Payload:peak frame:984 protocol:84,\n",
       " ethertype:88B5 length:48 Payload:tick frame:985 protocol:85,\n",
       " ethertype:88B5 length:48 Payload:tick frame:986 protocol:86,\n",
       " ethertype:88B5 length:48 Payload:tick frame:987 protocol:87]"
      ]
     },
     "execution_count": 10,
     "metadata": {},
     "output_type": "execute_result"
    }
   ],
   "source": [
    "ps.packets"
   ]
  },
  {
   "cell_type": "code",
   "execution_count": 10,
   "metadata": {
    "collapsed": false
   },
   "outputs": [
    {
     "data": {
      "text/plain": [
       "array([0, 1, 0, 0, 0, 0, 0, 0, 0, 2, 0, 0, 0, 1, 0, 0, 0, 1, 0, 1, 0, 2, 0,\n",
       "       1, 0, 0, 0, 1, 0, 2, 0, 2, 0, 0, 0, 0, 0, 1, 0, 0, 0, 1, 0, 1, 0, 2,\n",
       "       0, 2, 0, 1, 0, 1, 0, 1, 0, 1, 0, 3, 0, 0, 0, 3, 0, 2, 0, 0, 0, 3, 0,\n",
       "       1, 0, 0, 0, 2, 0, 3, 0, 1, 0, 0, 0, 0, 0, 2, 0, 0, 0, 0, 0, 3, 0, 0,\n",
       "       0, 0, 0, 0, 0, 0, 0, 1, 0, 0, 0, 0, 0, 3, 0, 1, 0, 2, 0, 1, 0, 0, 0,\n",
       "       0, 0, 1, 0, 2, 0, 3, 0, 0, 0, 0, 0, 2, 0, 0, 0, 1, 0, 1, 0, 2, 0, 1,\n",
       "       0, 0, 0, 0, 0, 3, 0, 1, 0, 1, 0, 1, 0, 1, 0, 2, 0, 3, 0, 0, 0, 2, 0,\n",
       "       2, 0, 2, 0, 0, 0, 1, 0, 2, 0, 2, 0, 2, 0, 0, 0, 0, 0, 1, 0, 1, 0, 0,\n",
       "       0, 1, 0, 0, 0, 1, 0, 1, 0, 0, 0, 2, 0, 3, 0, 0, 0, 0, 0, 1, 0, 1, 0,\n",
       "       1, 0, 1, 0, 1, 0, 0, 0, 2, 0, 2, 0, 1, 0, 0, 0, 1, 0, 1, 0, 1, 0, 2,\n",
       "       0, 0, 0, 3, 0, 0, 0, 1, 0, 3, 0, 2, 0, 2, 0, 0, 0, 1, 0, 2, 0, 3, 0,\n",
       "       0, 0, 1, 0, 0, 0, 1, 0, 0, 0, 0, 0, 0, 0, 1, 0, 0, 0, 0, 0, 1, 0, 0,\n",
       "       0, 0, 0, 1, 0, 2, 0, 1, 0, 3, 0, 1, 0, 2, 0, 2, 0, 0, 0, 0, 0, 0, 0,\n",
       "       0, 0, 2, 0, 0, 0, 0, 0, 2, 0, 2, 0, 0, 0, 0, 0, 1, 0, 1, 0, 1, 0, 1,\n",
       "       0, 3, 0, 1, 0, 2, 0, 0, 0, 3, 0, 1, 0, 1, 0, 3, 0, 1, 0, 3, 0, 0, 0,\n",
       "       0, 0, 2, 0, 0, 0, 1, 0, 2, 0, 3, 0, 1, 0, 0, 0, 0, 0, 1, 0, 2], dtype=uint32)"
      ]
     },
     "execution_count": 10,
     "metadata": {},
     "output_type": "execute_result"
    }
   ],
   "source": [
    "ps.packets[11].payload.view(np.uint32)"
   ]
  },
  {
   "cell_type": "code",
   "execution_count": null,
   "metadata": {
    "collapsed": false
   },
   "outputs": [],
   "source": [
    "ps.packets[11].bytes[32:40]"
   ]
  },
  {
   "cell_type": "code",
   "execution_count": null,
   "metadata": {
    "collapsed": false
   },
   "outputs": [],
   "source": [
    "%matplotlib notebook\n",
    "for ds in d:\n",
    "    plt.plot(np.arange(0,2000)/2,ds.counts[0:2000])\n",
    "#plt.savefig('distribution.svg')\n",
    "plt.show()"
   ]
  },
  {
   "cell_type": "code",
   "execution_count": null,
   "metadata": {
    "collapsed": false
   },
   "outputs": [],
   "source": [
    "d[1].counts"
   ]
  },
  {
   "cell_type": "code",
   "execution_count": null,
   "metadata": {
    "collapsed": false
   },
   "outputs": [],
   "source": [
    "%matplotlib notebook\n",
    "ds=d[0]\n",
    "plt.step(np.arange(1,2000)/2,ds.counts[1:2000])\n",
    "#plt.savefig('distribution.svg')"
   ]
  },
  {
   "cell_type": "code",
   "execution_count": null,
   "metadata": {
    "collapsed": false
   },
   "outputs": [],
   "source": [
    "pwd"
   ]
  },
  {
   "cell_type": "code",
   "execution_count": 8,
   "metadata": {
    "collapsed": true
   },
   "outputs": [],
   "source": [
    "trace_dt = np.dtype([('raw',np.int32),('filtered',np.int32),('slope',np.int32)])\n",
    "traces=sim.Data.fromfile('traces',trace_dt,'teslib','measurement_subsystem_TB')"
   ]
  },
  {
   "cell_type": "code",
   "execution_count": 9,
   "metadata": {
    "collapsed": false
   },
   "outputs": [
    {
     "data": {
      "text/plain": [
       "4000000"
      ]
     },
     "execution_count": 9,
     "metadata": {},
     "output_type": "execute_result"
    }
   ],
   "source": [
    "len(traces)"
   ]
  },
  {
   "cell_type": "code",
   "execution_count": 10,
   "metadata": {
    "collapsed": false
   },
   "outputs": [
    {
     "ename": "NameError",
     "evalue": "name 'b' is not defined",
     "output_type": "error",
     "traceback": [
      "\u001b[1;31m---------------------------------------------------------------------------\u001b[0m",
      "\u001b[1;31mNameError\u001b[0m                                 Traceback (most recent call last)",
      "\u001b[1;32m<ipython-input-10-1ab017fad381>\u001b[0m in \u001b[0;36m<module>\u001b[1;34m()\u001b[0m\n\u001b[0;32m      1\u001b[0m \u001b[0mget_ipython\u001b[0m\u001b[1;33m(\u001b[0m\u001b[1;33m)\u001b[0m\u001b[1;33m.\u001b[0m\u001b[0mmagic\u001b[0m\u001b[1;33m(\u001b[0m\u001b[1;34m'matplotlib notebook'\u001b[0m\u001b[1;33m)\u001b[0m\u001b[1;33m\u001b[0m\u001b[0m\n\u001b[1;32m----> 2\u001b[1;33m \u001b[0mt\u001b[0m\u001b[1;33m=\u001b[0m\u001b[0mnp\u001b[0m\u001b[1;33m.\u001b[0m\u001b[0marange\u001b[0m\u001b[1;33m(\u001b[0m\u001b[0mlen\u001b[0m\u001b[1;33m(\u001b[0m\u001b[0mb\u001b[0m\u001b[1;33m)\u001b[0m\u001b[1;33m)\u001b[0m\u001b[1;33m*\u001b[0m\u001b[1;36m4e-9\u001b[0m\u001b[1;33m*\u001b[0m\u001b[1;36m1000\u001b[0m\u001b[1;33m\u001b[0m\u001b[0m\n\u001b[0m\u001b[0;32m      3\u001b[0m \u001b[0mplt\u001b[0m\u001b[1;33m.\u001b[0m\u001b[0mplot\u001b[0m\u001b[1;33m(\u001b[0m\u001b[0mt\u001b[0m\u001b[1;33m,\u001b[0m\u001b[0mnp\u001b[0m\u001b[1;33m.\u001b[0m\u001b[0mint16\u001b[0m\u001b[1;33m(\u001b[0m\u001b[0mb\u001b[0m\u001b[1;33m)\u001b[0m\u001b[1;33m,\u001b[0m\u001b[1;34m'k'\u001b[0m\u001b[1;33m)\u001b[0m\u001b[1;33m\u001b[0m\u001b[0m\n\u001b[0;32m      4\u001b[0m \u001b[0mplt\u001b[0m\u001b[1;33m.\u001b[0m\u001b[0mxlabel\u001b[0m\u001b[1;33m(\u001b[0m\u001b[1;34m'Time (ms)'\u001b[0m\u001b[1;33m)\u001b[0m\u001b[1;33m\u001b[0m\u001b[0m\n\u001b[0;32m      5\u001b[0m \u001b[0mplt\u001b[0m\u001b[1;33m.\u001b[0m\u001b[0mylabel\u001b[0m\u001b[1;33m(\u001b[0m\u001b[1;34m'ADC code'\u001b[0m\u001b[1;33m)\u001b[0m\u001b[1;33m\u001b[0m\u001b[0m\n",
      "\u001b[1;31mNameError\u001b[0m: name 'b' is not defined"
     ]
    }
   ],
   "source": [
    "%matplotlib notebook\n",
    "t=np.arange(len(b))*4e-9*1000\n",
    "plt.plot(t,np.int16(b),'k')\n",
    "plt.xlabel('Time (ms)')\n",
    "plt.ylabel('ADC code')\n",
    "plt.savefig('raw.svg')\n",
    "plt.show()"
   ]
  },
  {
   "cell_type": "code",
   "execution_count": null,
   "metadata": {
    "collapsed": false
   },
   "outputs": [],
   "source": [
    "%matplotlib notebook\n",
    "start=468000\n",
    "stop=472000\n",
    "plt.plot(traces['filtered']/2,'k')\n",
    "#plt.plot(traces['filtered'],'r',lw=2)\n",
    "plt.show()\n",
    "plt.savefig('baselinecorrected.svg')"
   ]
  },
  {
   "cell_type": "code",
   "execution_count": null,
   "metadata": {
    "collapsed": false
   },
   "outputs": [],
   "source": [
    "2**16*4e-9"
   ]
  },
  {
   "cell_type": "code",
   "execution_count": null,
   "metadata": {
    "collapsed": false,
    "scrolled": false
   },
   "outputs": [],
   "source": [
    "ps.packets"
   ]
  },
  {
   "cell_type": "code",
   "execution_count": null,
   "metadata": {
    "collapsed": false
   },
   "outputs": [],
   "source": [
    "len(ps.packets[8].bytes)"
   ]
  },
  {
   "cell_type": "code",
   "execution_count": null,
   "metadata": {
    "collapsed": false
   },
   "outputs": [],
   "source": [
    "lasts"
   ]
  },
  {
   "cell_type": "code",
   "execution_count": null,
   "metadata": {
    "collapsed": false
   },
   "outputs": [],
   "source": [
    "packets[0]"
   ]
  },
  {
   "cell_type": "code",
   "execution_count": null,
   "metadata": {
    "collapsed": false
   },
   "outputs": [],
   "source": [
    "bytestream['data'].dtype==np.uint32"
   ]
  },
  {
   "cell_type": "code",
   "execution_count": null,
   "metadata": {
    "collapsed": false
   },
   "outputs": [],
   "source": [
    "lasts = bytestream['last'].nonzero()[0] + 1\n",
    "bpdt=np.dtype([('data',np.uint8),('pad',np.uint8,(3,))])\n",
    "byte_data=bytestream['data'].view(bpdt)['data'].astype(np.uint8,copy=True)[0:lasts[-1]]\n"
   ]
  },
  {
   "cell_type": "code",
   "execution_count": null,
   "metadata": {
    "collapsed": false
   },
   "outputs": [],
   "source": [
    "'{:d}'.format(byte_data[14:16].view(np.uint16)[0])"
   ]
  },
  {
   "cell_type": "code",
   "execution_count": null,
   "metadata": {
    "collapsed": false
   },
   "outputs": [],
   "source": [
    "lasts = bytestream['last'].nonzero()[0] + 1\n",
    "lasts"
   ]
  },
  {
   "cell_type": "code",
   "execution_count": null,
   "metadata": {
    "collapsed": false
   },
   "outputs": [],
   "source": [
    "lasts[-1]"
   ]
  },
  {
   "cell_type": "code",
   "execution_count": null,
   "metadata": {
    "collapsed": false
   },
   "outputs": [],
   "source": [
    "data=Data(fileset, 2, 'teslib','measurement_subsystem_TB')\n",
    "enet=PacketStream(data.byte_stream)\n",
    "dists=enet.distributions"
   ]
  },
  {
   "cell_type": "code",
   "execution_count": null,
   "metadata": {
    "collapsed": false
   },
   "outputs": [],
   "source": []
  },
  {
   "cell_type": "code",
   "execution_count": null,
   "metadata": {
    "collapsed": false
   },
   "outputs": [],
   "source": [
    "# compare transmitted distributions with the data\n",
    "failed=False\n",
    "if dists == []:\n",
    "    print('No distributions')\n",
    "else:\n",
    "    for dist in dists:\n",
    "        dif = (dist.counts - dist.data_counts(data))[0].nonzero()\n",
    "        if dif[0].size:\n",
    "            print(\n",
    "                '{:}\\nDoes not reconcile with the data, '+\n",
    "                'Differences at {:d} indexs:\\n{:}\\n'.format(\n",
    "                    dist, dif[0].size, dif[0])\n",
    "            )\n",
    "            failed=True\n",
    "    if not failed:\n",
    "        print('Distributions agree with data')\n",
    "    \n"
   ]
  },
  {
   "cell_type": "markdown",
   "metadata": {},
   "source": [
    " ## work area"
   ]
  },
  {
   "cell_type": "code",
   "execution_count": null,
   "metadata": {
    "collapsed": false,
    "scrolled": false
   },
   "outputs": [],
   "source": [
    "enet.packets"
   ]
  },
  {
   "cell_type": "code",
   "execution_count": null,
   "metadata": {
    "collapsed": false
   },
   "outputs": [],
   "source": [
    "data.byte_stream"
   ]
  },
  {
   "cell_type": "code",
   "execution_count": null,
   "metadata": {
    "collapsed": false,
    "scrolled": false
   },
   "outputs": [],
   "source": [
    "%matplotlib notebook\n",
    "plt.plot(data.trace[0]['raw'],'b',lw=0.5)\n",
    "plt.plot(data.trace[0]['filtered'],'r',lw=1.5)"
   ]
  },
  {
   "cell_type": "code",
   "execution_count": null,
   "metadata": {
    "collapsed": false
   },
   "outputs": [],
   "source": [
    "enet.packets[4].payload[40:].view(np.uint32).size"
   ]
  },
  {
   "cell_type": "code",
   "execution_count": null,
   "metadata": {
    "collapsed": false
   },
   "outputs": [],
   "source": [
    "enet.packets[4].length"
   ]
  },
  {
   "cell_type": "code",
   "execution_count": null,
   "metadata": {
    "collapsed": false
   },
   "outputs": [],
   "source": [
    "dist=dists[1]\n",
    "c=check_distribution(dist,data)\n",
    "(c-dist.counts).nonzero()[0].size"
   ]
  },
  {
   "cell_type": "code",
   "execution_count": null,
   "metadata": {
    "collapsed": false
   },
   "outputs": [],
   "source": [
    "start=dist.start_time\n",
    "stop=dist.stop_time+np.uint64(1)\n",
    "s=data.slice((start, stop))\n",
    "f = s.trace[dist.channel]['filtered']\n",
    "fd = data.trace[dist.channel]['filtered'][start:stop]\n",
    "(f-fd).nonzero()"
   ]
  },
  {
   "cell_type": "code",
   "execution_count": null,
   "metadata": {
    "collapsed": false
   },
   "outputs": [],
   "source": [
    "np.uint64(1)+np.uint64(-1)"
   ]
  },
  {
   "cell_type": "code",
   "execution_count": null,
   "metadata": {
    "collapsed": false
   },
   "outputs": [],
   "source": [
    "event_dt=np.dtype(\n",
    "    (np.uint64, \n",
    "        [\n",
    "            ('data', np.uint32),\n",
    "            ('flags0', np.uint8),\n",
    "            ('flags1', np.uint8),\n",
    "            ('time',np.uint16)\n",
    "        ] \n",
    "    )\n",
    ")\n",
    "\n",
    "peak_dt=np.dtype(\n",
    "    (\n",
    "        [\n",
    "            ('height', np.int16),\n",
    "            ('minima', np.int16),\n",
    "            ('flags0', np.uint8),\n",
    "            ('flags1', np.uint8),\n",
    "            ('time',np.uint16)\n",
    "        ] \n",
    "    )\n",
    ")\n",
    "\n",
    "tick_dt=np.dtype(\n",
    "    ( \n",
    "        [\n",
    "            ('period', np.uint32),\n",
    "            ('flags0', np.uint8),\n",
    "            ('flags1', np.uint8),\n",
    "            ('time', np.uint16),\n",
    "            ('timestamp', np.uint64)\n",
    "        ]\n",
    "    )\n",
    ")\n",
    "\n",
    "e = sim.EventStream('teslib','measurement_subsystem_TB')\n",
    "\n",
    "events=e._stream64.view(dtype=event_dt)\n",
    "\n",
    "#type_flags = np.bitwise_and(events['flags'],0x000f)\n",
    "tick = np.bitwise_and(events['flags1'],0x02)!=0\n",
    "window_start = np.bitwise_and(events['flags1'],0x01)!=0\n",
    "\n",
    "tick_mask=np.zeros(len(tick),dtype=bool)\n",
    "i=0\n",
    "while (i < len(tick)):\n",
    "    if tick[i]!=0:\n",
    "        tick_mask[i:i+2]=True\n",
    "        i+=1\n",
    "    i+=1\n",
    "    \n",
    "peaks=e._stream64[~tick_mask].view(dtype=peak_dt)\n",
    "\n",
    "ticks=e._stream64[tick_mask].view(dtype=tick_dt)"
   ]
  },
  {
   "cell_type": "code",
   "execution_count": null,
   "metadata": {
    "collapsed": false
   },
   "outputs": [],
   "source": [
    "d=distributions[0]\n",
    "\n",
    "\n",
    "d.value.trace"
   ]
  },
  {
   "cell_type": "code",
   "execution_count": null,
   "metadata": {
    "collapsed": true
   },
   "outputs": [],
   "source": [
    "%matplotlib notebook\n",
    "stop=distributions[0].stop_time\n",
    "start=distributions[0].start_time\n",
    "plt.plot(data.trace[0]['filtered'][start:stop])"
   ]
  },
  {
   "cell_type": "code",
   "execution_count": null,
   "metadata": {
    "collapsed": false
   },
   "outputs": [],
   "source": [
    "%matplotlib notebook\n",
    "d=0\n",
    "plt.plot(distributions[d].counts)"
   ]
  },
  {
   "cell_type": "code",
   "execution_count": null,
   "metadata": {
    "collapsed": false,
    "scrolled": true
   },
   "outputs": [],
   "source": [
    "p=1\n",
    "lasts=enet['last'].nonzero()[0]+1\n",
    "packets = []\n",
    "prev=0\n",
    "for last in lasts:\n",
    "    packets.append(sim.Packet( np.copy(enet['data'][prev:last]).view(np.uint8)))\n",
    "    prev=last\n",
    "\n",
    "packets[:]"
   ]
  },
  {
   "cell_type": "code",
   "execution_count": null,
   "metadata": {
    "collapsed": false
   },
   "outputs": [],
   "source": [
    "packets[4]"
   ]
  },
  {
   "cell_type": "code",
   "execution_count": null,
   "metadata": {
    "collapsed": false
   },
   "outputs": [],
   "source": [
    "def get_distributions(packets):\n",
    "    for packet in packets:\n",
    "        if packet.payload_type == PayloadType.mca:\n",
    "            \n",
    "        \n",
    "    \n",
    "    \n",
    "    \n",
    "packets[4].payload[0:8].view(mca_header_dt)"
   ]
  },
  {
   "cell_type": "code",
   "execution_count": null,
   "metadata": {
    "collapsed": false
   },
   "outputs": [],
   "source": [
    "peaks=packets[1].payload.view(peak_dt)\n",
    "peaks"
   ]
  },
  {
   "cell_type": "code",
   "execution_count": null,
   "metadata": {
    "collapsed": false
   },
   "outputs": [],
   "source": [
    "\n",
    "time=0\n",
    "times=[]\n",
    "heights=[]\n",
    "minimas=[]\n",
    "\n",
    "for p in packets:\n",
    "    if p.payload_type==sim.EventType.tick:\n",
    "        tick=p.payload.view(tick_dt)\n",
    "        time=tick[0]['timestamp']\n",
    "    elif p.payload_type==sim.EventType.peak:\n",
    "        peaks=p.payload.view(peak_dt)\n",
    "        for peak in peaks:\n",
    "            time+=peak['time']\n",
    "            times.append(time)\n",
    "            heights.append(peak['height'])\n",
    "            minimas.append(peak['minima'])\n",
    "            "
   ]
  },
  {
   "cell_type": "code",
   "execution_count": null,
   "metadata": {
    "collapsed": false
   },
   "outputs": [],
   "source": [
    "times"
   ]
  },
  {
   "cell_type": "code",
   "execution_count": null,
   "metadata": {
    "collapsed": false
   },
   "outputs": [],
   "source": [
    "packets[1].payload.view(peak_dt)"
   ]
  },
  {
   "cell_type": "code",
   "execution_count": null,
   "metadata": {
    "collapsed": false
   },
   "outputs": [],
   "source": [
    "heights[0]"
   ]
  },
  {
   "cell_type": "code",
   "execution_count": null,
   "metadata": {
    "collapsed": false,
    "scrolled": false
   },
   "outputs": [],
   "source": [
    "%matplotlib notebook\n",
    "p=3\n",
    "x=np.arange(times[p]-300,times[p]+1000,dtype=np.uint64)\n",
    "plt.plot([times[p], times[p]],[minimas[p], heights[p]],'r',lw=2)\n",
    "plt.step(x,data.trace['filtered'][x])\n",
    "plt.plot(data.peak[p/2],data.trace['filtered'][data.peak[p/2]],'ro')\n",
    "plt.plot(\n",
    "    [data.peak_start[p/2],times[p]],\n",
    "    [data.trace['filtered'][data.peak_start[p/2]],data.trace['filtered'][data.peak_start[p/2]]],\n",
    "    'k'\n",
    ")\n",
    "plt.plot(\n",
    "    [times[p],data.peak[p/2]],\n",
    "    [data.trace['filtered'][data.peak[p/2]],data.trace['filtered'][data.peak[p/2]]],\n",
    "    'k'\n",
    ")"
   ]
  },
  {
   "cell_type": "code",
   "execution_count": null,
   "metadata": {
    "collapsed": false
   },
   "outputs": [],
   "source": [
    "%matplotlib notebook\n",
    "fig=simplt.plot_slice(data.slice((data.peak[0]-1000,data.peak[0]+1000)))\n",
    "data.trace['filtered'][data.peak[0]]"
   ]
  },
  {
   "cell_type": "code",
   "execution_count": null,
   "metadata": {
    "collapsed": false,
    "scrolled": false
   },
   "outputs": [],
   "source": [
    "data.cfd_low"
   ]
  },
  {
   "cell_type": "code",
   "execution_count": null,
   "metadata": {
    "collapsed": false
   },
   "outputs": [],
   "source": [
    "packet_bytes=packet.view(np.uint8)"
   ]
  },
  {
   "cell_type": "code",
   "execution_count": null,
   "metadata": {
    "collapsed": false
   },
   "outputs": [],
   "source": [
    "packet_bytes"
   ]
  },
  {
   "cell_type": "code",
   "execution_count": null,
   "metadata": {
    "collapsed": false
   },
   "outputs": [],
   "source": []
  },
  {
   "cell_type": "code",
   "execution_count": null,
   "metadata": {
    "collapsed": false
   },
   "outputs": [],
   "source": [
    "\n",
    "payload"
   ]
  },
  {
   "cell_type": "code",
   "execution_count": null,
   "metadata": {
    "collapsed": false,
    "scrolled": false
   },
   "outputs": [],
   "source": [
    "\n",
    "payload_type"
   ]
  },
  {
   "cell_type": "code",
   "execution_count": null,
   "metadata": {
    "collapsed": false
   },
   "outputs": [],
   "source": [
    "time=payload[6:8].view(np.uint16)\n",
    "time"
   ]
  },
  {
   "cell_type": "code",
   "execution_count": null,
   "metadata": {
    "collapsed": false
   },
   "outputs": [],
   "source": [
    "\n",
    "peaks"
   ]
  },
  {
   "cell_type": "code",
   "execution_count": null,
   "metadata": {
    "collapsed": false
   },
   "outputs": [],
   "source": [
    "payload[4+8:6+8]"
   ]
  },
  {
   "cell_type": "code",
   "execution_count": null,
   "metadata": {
    "collapsed": false
   },
   "outputs": [],
   "source": [
    "%matplotlib notebook\n",
    "fig=simplt.plot_pulse(1,data)"
   ]
  },
  {
   "cell_type": "code",
   "execution_count": null,
   "metadata": {
    "collapsed": false
   },
   "outputs": [],
   "source": [
    "fig._axstack.as_list()[0]"
   ]
  },
  {
   "cell_type": "code",
   "execution_count": null,
   "metadata": {
    "collapsed": false,
    "scrolled": true
   },
   "outputs": [],
   "source": [
    "tick"
   ]
  },
  {
   "cell_type": "code",
   "execution_count": null,
   "metadata": {
    "collapsed": false
   },
   "outputs": [],
   "source": [
    "ticks"
   ]
  },
  {
   "cell_type": "code",
   "execution_count": null,
   "metadata": {
    "collapsed": false
   },
   "outputs": [],
   "source": [
    "window_start"
   ]
  },
  {
   "cell_type": "code",
   "execution_count": null,
   "metadata": {
    "collapsed": false
   },
   "outputs": [],
   "source": [
    "tick_mask"
   ]
  },
  {
   "cell_type": "code",
   "execution_count": null,
   "metadata": {
    "collapsed": false
   },
   "outputs": [],
   "source": [
    "e._stream64[tick_mask]"
   ]
  },
  {
   "cell_type": "code",
   "execution_count": null,
   "metadata": {
    "collapsed": false
   },
   "outputs": [],
   "source": [
    "type_flags[~tick_mask]"
   ]
  },
  {
   "cell_type": "code",
   "execution_count": null,
   "metadata": {
    "collapsed": false
   },
   "outputs": [],
   "source": [
    "type_flags = np.bitwise_and(events['flags'],0x000f)\n",
    "peak_num = np.right_shift(np.bitwise_and(events['flags'],0x00f0),4)\n",
    "channel = np.right_shift(np.bitwise_and(events['flags'],0x0f00),8)\n",
    "event_type = np.right_shift(np.bitwise_and(events['flags'],0x3000),12)\n",
    "tick=np.bitwise_and(type_flags,0x0002)"
   ]
  },
  {
   "cell_type": "code",
   "execution_count": null,
   "metadata": {
    "collapsed": false
   },
   "outputs": [],
   "source": [
    "ticks"
   ]
  },
  {
   "cell_type": "code",
   "execution_count": null,
   "metadata": {
    "collapsed": false
   },
   "outputs": [],
   "source": []
  },
  {
   "cell_type": "code",
   "execution_count": null,
   "metadata": {
    "collapsed": false
   },
   "outputs": [],
   "source": [
    "tick_mask"
   ]
  },
  {
   "cell_type": "code",
   "execution_count": null,
   "metadata": {
    "collapsed": false
   },
   "outputs": [],
   "source": [
    "events[tick_mask]"
   ]
  },
  {
   "cell_type": "code",
   "execution_count": null,
   "metadata": {
    "collapsed": false
   },
   "outputs": [],
   "source": [
    "time=np.bitwise_and(events[~tick_mask]['time'],0x7fff)\n",
    "c_start=np.bitwise_and(events[~tick_mask]['time'],0x8000)!=0"
   ]
  },
  {
   "cell_type": "code",
   "execution_count": null,
   "metadata": {
    "collapsed": false
   },
   "outputs": [],
   "source": [
    "events[tick_mask]['time']"
   ]
  },
  {
   "cell_type": "code",
   "execution_count": null,
   "metadata": {
    "collapsed": false
   },
   "outputs": [],
   "source": [
    "time"
   ]
  },
  {
   "cell_type": "code",
   "execution_count": null,
   "metadata": {
    "collapsed": false
   },
   "outputs": [],
   "source": [
    "np.binary_repr(time[0],width=16)"
   ]
  },
  {
   "cell_type": "code",
   "execution_count": null,
   "metadata": {
    "collapsed": false
   },
   "outputs": [],
   "source": [
    "events[~tick_mask]['min']"
   ]
  },
  {
   "cell_type": "code",
   "execution_count": null,
   "metadata": {
    "collapsed": false
   },
   "outputs": [],
   "source": [
    "events[~tick_mask]['height']"
   ]
  },
  {
   "cell_type": "code",
   "execution_count": null,
   "metadata": {
    "collapsed": false
   },
   "outputs": [],
   "source": [
    "%matplotlib notebook\n",
    "fig = simplt.plot_pulse(1,data,pre=500,length=3000)\n"
   ]
  },
  {
   "cell_type": "code",
   "execution_count": null,
   "metadata": {
    "collapsed": true
   },
   "outputs": [],
   "source": [
    "import pickle\n",
    "\n",
    "# An arbitrary collection of objects supported by pickle.\n",
    "\n",
    "pickler = pickle.Pickler(open('long.pickle', 'wb'),pickle.HIGHEST_PROTOCOL)\n",
    "pickler.dump(data)\n"
   ]
  },
  {
   "cell_type": "code",
   "execution_count": null,
   "metadata": {
    "collapsed": true
   },
   "outputs": [],
   "source": [
    "unpickler = pickle.Unpickler(open('long.pickle', 'rb'))\n",
    "reg2=unpickler.load()\n",
    "data2=unpickler.load()"
   ]
  },
  {
   "cell_type": "code",
   "execution_count": null,
   "metadata": {
    "collapsed": false
   },
   "outputs": [],
   "source": [
    "data2.trace['slope']"
   ]
  },
  {
   "cell_type": "code",
   "execution_count": null,
   "metadata": {
    "collapsed": false
   },
   "outputs": [],
   "source": [
    "reg2"
   ]
  },
  {
   "cell_type": "code",
   "execution_count": null,
   "metadata": {
    "collapsed": false,
    "scrolled": false
   },
   "outputs": [],
   "source": [
    "axs = fig.get_axes()\n",
    "pax=axs[0].parasites\n",
    "pax[0]._label\n",
    "f_ins_ax=axs[1]\n",
    "s_ins_ax=f_ins_ax.parasites[0]"
   ]
  },
  {
   "cell_type": "code",
   "execution_count": null,
   "metadata": {
    "collapsed": false,
    "scrolled": false
   },
   "outputs": [],
   "source": [
    "es=sim.Data.fromfile('eventstream',np.int32,'teslib','measurement_unit_TB')"
   ]
  },
  {
   "cell_type": "code",
   "execution_count": null,
   "metadata": {
    "collapsed": false
   },
   "outputs": [],
   "source": [
    "es"
   ]
  },
  {
   "cell_type": "code",
   "execution_count": null,
   "metadata": {
    "collapsed": false
   },
   "outputs": [],
   "source": [
    "data.peak[-1]"
   ]
  },
  {
   "cell_type": "code",
   "execution_count": null,
   "metadata": {
    "collapsed": false
   },
   "outputs": [],
   "source": [
    "s.peak"
   ]
  },
  {
   "cell_type": "code",
   "execution_count": null,
   "metadata": {
    "collapsed": false
   },
   "outputs": [],
   "source": [
    "isinstance(r,sim.DataRegion)"
   ]
  },
  {
   "cell_type": "code",
   "execution_count": null,
   "metadata": {
    "collapsed": false
   },
   "outputs": [],
   "source": [
    "r.peak"
   ]
  },
  {
   "cell_type": "code",
   "execution_count": null,
   "metadata": {
    "collapsed": false
   },
   "outputs": [],
   "source": [
    "i"
   ]
  },
  {
   "cell_type": "code",
   "execution_count": null,
   "metadata": {
    "collapsed": false
   },
   "outputs": [],
   "source": [
    "%matplotlib notebook\n",
    "import matplotlib.pyplot as plt\n",
    "\n",
    "plt.plot(data.trace['filtered'])"
   ]
  },
  {
   "cell_type": "code",
   "execution_count": null,
   "metadata": {
    "collapsed": false
   },
   "outputs": [],
   "source": [
    "ax=plt.gca()\n",
    "t=ax.transData\n",
    "t.transform([[0.1,0.2],[1,3]])"
   ]
  },
  {
   "cell_type": "code",
   "execution_count": null,
   "metadata": {
    "collapsed": true
   },
   "outputs": [],
   "source": [
    "x=np.array([0,1,2,3])\n",
    "y=np.array([3,4,5,6])\n",
    "\n",
    "xy=np.empty(shape=(4,2))"
   ]
  },
  {
   "cell_type": "code",
   "execution_count": null,
   "metadata": {
    "collapsed": false
   },
   "outputs": [],
   "source": [
    "xy[:,0]=x\n",
    "xy[:,1]=y\n",
    "t.transform(xy)"
   ]
  },
  {
   "cell_type": "code",
   "execution_count": null,
   "metadata": {
    "collapsed": true
   },
   "outputs": [],
   "source": []
  },
  {
   "cell_type": "code",
   "execution_count": null,
   "metadata": {
    "collapsed": false
   },
   "outputs": [],
   "source": [
    "# run to import isim data files\n",
    "\n",
    "import numpy as np\n",
    "import os\n",
    "import matplotlib.pyplot as plt\n",
    "import math\n",
    "from enum import Enum\n",
    "\n",
    "plt.rcParams[\"figure.figsize\"]=[800./80,600./80]\n",
    "\n",
    "repo='c:\\\\TES_project\\\\fpga_ise\\\\'\n",
    "project='teslib'\n",
    "testbench='measurement_unit_TB'\n",
    "datafile='traces'\n",
    "path=repo+project+'\\\\PlanAhead\\\\'+project+'.sim\\\\'+testbench+'\\\\'\n",
    "\n",
    "traces_dt = np.dtype([('input', np.int32),('raw',np.int32),('filtered',np.int32),('slope',np.int32)])\n",
    "traces=np.fromfile(path+'traces',traces_dt)\n",
    "trigger=np.fromfile(path+'triggers',np.int32)\n",
    "settings=np.fromfile(path+'settings',np.int32)\n",
    "cfd_low=np.fromfile(path+'cfdlow',np.int32)\n",
    "cfd_high=np.fromfile(path+'cfdhigh',np.int32)\n",
    "peaks=np.fromfile(path+'peaks',np.int32)\n",
    "peaks.shape=(-1,2)\n",
    "peak_starts=np.fromfile(path+'peak_starts',np.int32)\n",
    "#peak_starts.shape=(-1,2)\n",
    "pulse_starts=np.fromfile(path+'peak_starts',np.int32)\n",
    "settings=np.fromfile(path+'settings',np.int32)\n",
    "cfd_low=np.fromfile(path+'cfdlow',np.int32)\n",
    "cfd_high=np.fromfile(path+'cfdhigh',np.int32)\n",
    "slope_xing=np.fromfile(path+'slopethreshxings',np.int32)\n"
   ]
  },
  {
   "cell_type": "code",
   "execution_count": null,
   "metadata": {
    "collapsed": false
   },
   "outputs": [],
   "source": [
    "settings[13]"
   ]
  },
  {
   "cell_type": "code",
   "execution_count": null,
   "metadata": {
    "collapsed": false
   },
   "outputs": [],
   "source": [
    "#create register dict from settings array\n",
    "\n",
    "class height_type(Enum):\n",
    "    def from_int(value):\n",
    "        if value == 0:\n",
    "            return height_type.peak_height\n",
    "        elif value == 1:\n",
    "            return height_type.cfd_high\n",
    "        elif value == 2:\n",
    "            return height_type.slope_integral\n",
    "        else:\n",
    "            raise AttributeError()\n",
    "    peak_height=0\n",
    "    cfd_high=1\n",
    "    slope_integral=2\n",
    "\n",
    "class trigger_type(Enum):\n",
    "    def from_int(value):\n",
    "        if value == 0:\n",
    "            return trigger_type.pulse_threshold\n",
    "        elif value == 1:\n",
    "            return trigger_type.slope_threshold\n",
    "        elif value == 2:\n",
    "            return trigger_type.cfd_low\n",
    "        else:\n",
    "            raise AttributeError()\n",
    "    pulse_threshold=0\n",
    "    slope_threshold=1\n",
    "    cfd_low=2\n",
    "\n",
    "class event_type(Enum):\n",
    "    def from_int(value):\n",
    "        if value == 0:\n",
    "            return event_type.peak\n",
    "        elif value == 1:\n",
    "            return event_type.area\n",
    "        elif value == 2:\n",
    "            return event_type.pulse\n",
    "        elif value == 3:\n",
    "            return event_type.trace\n",
    "        else:\n",
    "            raise AttributeError()\n",
    "    peak=0\n",
    "    area=1\n",
    "    pulse=2\n",
    "    trace=3\n",
    "\n",
    "\n",
    "def read_registers(settings):\n",
    "    registers = dict()\n",
    "    registers['baseline'] = dict()\n",
    "    registers['baseline']['offset'] = settings[0]\n",
    "    registers['baseline']['subtraction'] = settings[1]!=0\n",
    "    registers['baseline']['timeconstant'] = settings[2]\n",
    "    registers['baseline']['threshold'] = settings[3]\n",
    "    registers['baseline']['count_threshold'] = settings[4]\n",
    "    registers['generic'] = dict()\n",
    "    registers['baseline']['average_order'] = settings[5]\n",
    "    registers['capture'] = dict()\n",
    "    registers['capture']['cfd_relative'] = settings[6]!=0\n",
    "    registers['capture']['constant_fraction'] = settings[7]\n",
    "    registers['capture']['pulse_threshold'] = settings[8]\n",
    "    registers['capture']['slope_threshold'] = settings[9]\n",
    "    registers['capture']['pulse_area_threshold'] = settings[10]\n",
    "    registers['capture']['height_type'] = height_type.from_int(settings[11])\n",
    "    registers['capture']['threshold_rel2min'] = settings[12]!=0\n",
    "    registers['capture']['trigger_type'] = trigger_type.from_int(settings[13])\n",
    "    registers['capture']['event_type'] = event_type.from_int(settings[14])\n",
    "    return registers\n"
   ]
  },
  {
   "cell_type": "code",
   "execution_count": null,
   "metadata": {
    "collapsed": false
   },
   "outputs": [],
   "source": [
    "%matplotlib notebook\n",
    "x=np.arange(len(traces['filtered']))\n",
    "fig=plt.figure()\n",
    "\n",
    "ax=fig.add_axes([0.15,0.1,0.8,0.8])\n",
    "mV=1.0/math.pow(2,14)*1000\n",
    "nS=4\n",
    "\n",
    "\n",
    "i_trace, =ax.step(x*nS/1000000,(traces['input']+1800)*mV*2,'k',label='raw input')\n",
    "f_trace, =ax.step(x*nS/1000000,traces['filtered']*mV,'b',label='processed')\n",
    "fig.suptitle('Digital Signal Processing',fontsize=24)\n",
    "plt.xlabel('time (ms)',fontsize=18)\n",
    "plt.ylabel('Voltage (mV)',fontsize=18)\n",
    "plt.legend(handles=[i_trace,f_trace])\n",
    "\n",
    "fig.savefig('trace.png')\n",
    "plt.show()"
   ]
  },
  {
   "cell_type": "code",
   "execution_count": null,
   "metadata": {
    "collapsed": true
   },
   "outputs": [],
   "source": []
  },
  {
   "cell_type": "code",
   "execution_count": null,
   "metadata": {
    "collapsed": false
   },
   "outputs": [],
   "source": [
    "%matplotlib notebook\n",
    "import math\n",
    "\n",
    "def align_yaxis(ax1, v1, ax2, v2):\n",
    "    \"\"\"adjust ax2 ylimit so that v2 in ax2 is aligned to v1 in ax1\"\"\"\n",
    "    _, y1 = ax1.transData.transform((0, v1))\n",
    "    _, y2 = ax2.transData.transform((0, v2))\n",
    "    adjust_yaxis(ax2,(y1-y2)/2,v2)\n",
    "    adjust_yaxis(ax1,(y2-y1)/2,v1)\n",
    "\n",
    "def adjust_yaxis(ax,ydif,v):\n",
    "    \"\"\"shift axis ax by ydiff, maintaining point v at the same location\"\"\"\n",
    "    inv = ax.transData.inverted()\n",
    "    _, dy = inv.transform((0, 0)) - inv.transform((0, ydif))\n",
    "    miny, maxy = ax.get_ylim()\n",
    "    miny, maxy = miny - v, maxy - v\n",
    "    if -miny>maxy or (-miny==maxy and dy > 0):\n",
    "        nminy = miny\n",
    "        nmaxy = miny*(maxy+dy)/(miny+dy)\n",
    "    else:\n",
    "        nmaxy = maxy\n",
    "        nminy = maxy*(miny+dy)/(maxy+dy)\n",
    "    ax.set_ylim(nminy+v, nmaxy+v)\n",
    "    \n",
    "x=np.arange(len(traces['filtered']))\n",
    "fig=plt.figure()\n",
    "ax=fig.add_axes([0.1,0.1,0.8,0.8])\n",
    "plt.ylim(-10,120)\n",
    "v=math.pow(2,13)/1000\n",
    "t=x*4\n",
    "ax.plot([0,t[-1]],[0,0],'k')\n",
    "raw, = ax.step(t,traces['raw']/2/v,'k',lw=1,label='raw')\n",
    "processed, = ax.step(t,traces['filtered']/2/v,'r',lw=2,label='processed')\n",
    "ax.plot(trigger,traces['filtered'][trigger+1]/2,'kx')\n",
    "ax.plot(peaks[:,0],traces['filtered'][peaks[:,0]+1]/2,'ro')\n",
    "ax.plot(peak_starts,traces['filtered'][peak_starts+1]/2,'ro')\n",
    "ax.plot(cfd_high,traces['filtered'][cfd_high+1]/2,'bs')\n",
    "ax.plot(cfd_low,traces['filtered'][cfd_low+1]/2,'bs')\n",
    "plt.xlabel('time (ns)',fontsize=18)\n",
    "plt.ylabel('Voltage (mV)',fontsize=18,color='r')\n",
    "\n",
    "ax2=ax.twinx()\n",
    "slope, = ax2.step(t,traces['slope']/256/v/4,'b',lw=2,label='slope')\n",
    "plt.xlim([1292000,1297500])\n",
    "plt.ylim(-0.2,1)\n",
    "align_yaxis(ax,0,ax2,0)\n",
    "plt.ylabel('slope (mV/ns)',color='b',fontsize=18)\n",
    "fig.suptitle('Digital signal processing',fontsize=24)\n",
    "plt.legend(handles=[raw,processed,slope])\n",
    "fig.savefig('dsp.png')\n",
    "plt.show()"
   ]
  },
  {
   "cell_type": "code",
   "execution_count": null,
   "metadata": {
    "collapsed": false
   },
   "outputs": [],
   "source": [
    "%matplotlib notebook\n",
    "\n",
    "#plot pulse\n",
    "from mpl_toolkits.axes_grid1 import host_subplot\n",
    "from mpl_toolkits.axes_grid1.inset_locator import zoomed_inset_axes\n",
    "from mpl_toolkits.axes_grid1.inset_locator import mark_inset\n",
    "\n",
    "pulse=7\n",
    "length=2000\n",
    "pre=100\n",
    "\n",
    "def align_yaxis(ax1, v1, ax2, v2):\n",
    "    \"\"\"adjust ax2 ylimit so that v2 in ax2 is aligned to v1 in ax1\"\"\"\n",
    "    _, y1 = ax1.transData.transform((0, v1))\n",
    "    _, y2 = ax2.transData.transform((0, v2))\n",
    "    adjust_yaxis(ax2,(y1-y2)/2,v2)\n",
    "    adjust_yaxis(ax1,(y2-y1)/2,v1)\n",
    "\n",
    "def adjust_yaxis(ax,ydif,v):\n",
    "    \"\"\"shift axis ax by ydiff, maintaining point v at the same location\"\"\"\n",
    "    inv = ax.transData.inverted()\n",
    "    _, dy = inv.transform((0, 0)) - inv.transform((0, ydif))\n",
    "    miny, maxy = ax.get_ylim()\n",
    "    miny, maxy = miny - v, maxy - v\n",
    "    if -miny>maxy or (-miny==maxy and dy > 0):\n",
    "        nminy = miny\n",
    "        nmaxy = miny*(maxy+dy)/(miny+dy)\n",
    "    else:\n",
    "        nmaxy = maxy\n",
    "        nminy = maxy*(miny+dy)/(maxy+dy)\n",
    "    ax.set_ylim(nminy+v, nmaxy+v)\n",
    "    \n",
    "start=pulse_starts[pulse]-pre\n",
    "stop=start+length\n",
    "x=np.arange(0,len(traces['filtered']))\n",
    "fig=plt.figure()\n",
    "\n",
    "f_ax = host_subplot(111)\n",
    "s_ax = f_ax.twinx()\n",
    "\n",
    "f_ax.set_xlabel(\"Time (ns)\",fontsize=18)\n",
    "f_ax.set_ylabel(\"Voltage (mV)\",fontsize=18,color='r')\n",
    "s_ax.set_ylabel(\"Slope (mv/ns)\",fontsize=18,color='b')\n",
    "\n",
    "mV=1.0/math.pow(2,14)*1000\n",
    "nS=4\n",
    "t=x*nS\n",
    "\n",
    "f_sig = traces['filtered']*mV\n",
    "s_sig = traces['slope']*mV/nS\n",
    "\n",
    "f_ax.plot([t[start],t[stop]],[0,0],'k') # zero line\n",
    "f_trace, = f_ax.step(t[start:stop],f_sig[start:stop],'r',lw=2,label='processed')\n",
    "f_ax.set_ylim(-10,180)\n",
    "\n",
    "s_trace, = s_ax.step(t[start:stop],s_sig[start:stop],'b',lw=1,label='slope')\n",
    "s_ax.set_ylim(-15,50)\n",
    "#s_threshold = 6\n",
    "#s_ax.set_yticks(np.concatenate((s_ax.get_yticks(),[s_threshold])))\n",
    "#labels=[label.get_text() for label in s_ax.get_yticklabels()]\n",
    "#labels[6]='Threshold'\n",
    "\n",
    "#s_ax.set_yticklabels(labels)\n",
    "plt.xlim(t[start],t[stop])\n",
    "align_yaxis(f_ax,0,s_ax,0)\n",
    "fig.suptitle('Measurement:First pass',fontsize=24)\n",
    "#plt.legend(handles=[f_trace,s_trace])\n",
    "\n",
    "starts_mask = np.logical_and(peak_starts >= start,peak_starts <= stop)\n",
    "peaks_mask = np.logical_and(peaks[:,0] >= start, peaks[:,0] <= stop)\n",
    "peak_starts_inwin = peak_starts[starts_mask]\n",
    "\n",
    "for pstart in peak_starts_inwin:\n",
    "    peak_start_t=t[pstart]-2\n",
    "    peak_start_f=f_sig[pstart]\n",
    "    peak_start_s=s_sig[pstart]\n",
    "\n",
    "    f_ax.plot(peak_start_t,peak_start_f,'ro')\n",
    "    s_ax.plot(peak_start_t,peak_start_s,'bo')\n",
    "    \n",
    "    f_trans = f_ax.transData\n",
    "    s_trans = s_ax.transData.inverted()\n",
    "    trans = s_trans+f_trans\n",
    "    f_point=f_trans.transform((peak_start_t,peak_start_f))\n",
    "    s_point=s_trans.transform((f_point[0],f_point[1]))\n",
    "\n",
    "    s_ax.plot([peak_start_t,peak_start_t],[peak_start_s, s_point[1]],'k')\n",
    "\n",
    "#for p in peaks[0][peaks_inwin]\n",
    "peaks_inwin = peaks[peaks_mask,0]\n",
    "for p in peaks_inwin:\n",
    "    peak_t=t[p]-2\n",
    "    peak_f=f_sig[p]\n",
    "    peak_s=s_sig[p]\n",
    "\n",
    "    f_ax.plot(peak_t,peak_f,'ro')\n",
    "    s_ax.plot(peak_t,peak_s,'bo')\n",
    "    \n",
    "    f_trans = f_ax.transData\n",
    "    s_trans = s_ax.transData.inverted()\n",
    "    trans = s_trans+f_trans\n",
    "    f_point=f_trans.transform((peak_t,peak_f))\n",
    "    s_point=s_trans.transform((f_point[0],f_point[1]))\n",
    "\n",
    "    s_ax.plot([peak_t,peak_t],[peak_s, s_point[1]],'k')\n",
    "\n",
    "ins_start = peak_starts_inwin[0]-5\n",
    "ins_stop = peak_starts_inwin[0]+5\n",
    "f_ins_ax = zoomed_inset_axes(f_ax, 50, loc=1)  # zoom = 6\n",
    "f_ins_ax.step(t[ins_start:ins_stop],f_sig[ins_start:ins_stop],'r')\n",
    "f_ins_ax.set_ylim(-0.5,2)\n",
    "f_ins_ax.set_xlim(ins_start,ins_stop)\n",
    "f_ins_ax.set_yticks([])\n",
    "f_ins_ax.set_xticks([])\n",
    "\n",
    "f_ins_ax.plot([t[ins_start],t[ins_stop]],[0,0],'k') # zero line\n",
    "\n",
    "#plt.xticks(visible=False)\n",
    "#plt.yticks(visible=False)\n",
    "mark_inset(f_ax, f_ins_ax, loc1=2, loc2=4, fc=\"none\", ec=\"0.5\")\n",
    "\n",
    "s_ins_ax = f_ins_ax.twinx()\n",
    "s_ins_ax.set_yticks([])\n",
    "s_ins_ax.set_xticks([])\n",
    "\n",
    "s_ins_ax.step(t[ins_start:ins_stop],s_sig[ins_start:ins_stop],'b')\n",
    "\n",
    "s_ins_ax.set_ylim(-1,1)\n",
    "align_yaxis(f_ins_ax,0,s_ins_ax,0)\n",
    "\n",
    "pstart = peak_starts_inwin[0]\n",
    "peak_start_t=t[pstart]-2\n",
    "peak_start_f=f_sig[pstart]\n",
    "peak_start_s=s_sig[pstart]\n",
    "\n",
    "f_ins_ax.plot(peak_start_t,peak_start_f,'ro')\n",
    "s_ins_ax.plot(peak_start_t,peak_start_s,'bo')\n",
    "    \n",
    "f_trans = f_ins_ax.transData\n",
    "s_trans = s_ins_ax.transData.inverted()\n",
    "trans = s_trans+f_trans\n",
    "f_point=f_trans.transform((peak_start_t,peak_start_f))\n",
    "s_point=s_trans.transform((f_point[0],f_point[1]))\n",
    "\n",
    "s_ins_ax.plot([peak_start_t,peak_start_t],[peak_start_s, s_point[1]],'k')\n",
    "\n",
    "s_ax.plot([t[start],t[stop]],[s_threshold,s_threshold],ls='dashed')\n",
    "\n",
    "fig.savefig('measurement1.png')\n",
    "plt.draw()\n",
    "plt.show()"
   ]
  },
  {
   "cell_type": "code",
   "execution_count": null,
   "metadata": {
    "collapsed": false
   },
   "outputs": [],
   "source": [
    "%matplotlib notebook\n",
    "from mpl_toolkits.axes_grid1 import host_subplot\n",
    "from mpl_toolkits.axes_grid1.inset_locator import zoomed_inset_axes\n",
    "from mpl_toolkits.axes_grid1.inset_locator import mark_inset\n",
    "\n",
    "pulse=7\n",
    "length=2000\n",
    "pre=100\n",
    "\n",
    "def align_yaxis(ax1, v1, ax2, v2):\n",
    "    \"\"\"adjust ax2 ylimit so that v2 in ax2 is aligned to v1 in ax1\"\"\"\n",
    "    _, y1 = ax1.transData.transform((0, v1))\n",
    "    _, y2 = ax2.transData.transform((0, v2))\n",
    "    adjust_yaxis(ax2,(y1-y2)/2,v2)\n",
    "    adjust_yaxis(ax1,(y2-y1)/2,v1)\n",
    "\n",
    "def adjust_yaxis(ax,ydif,v):\n",
    "    \"\"\"shift axis ax by ydiff, maintaining point v at the same location\"\"\"\n",
    "    inv = ax.transData.inverted()\n",
    "    _, dy = inv.transform((0, 0)) - inv.transform((0, ydif))\n",
    "    miny, maxy = ax.get_ylim()\n",
    "    miny, maxy = miny - v, maxy - v\n",
    "    if -miny>maxy or (-miny==maxy and dy > 0):\n",
    "        nminy = miny\n",
    "        nmaxy = miny*(maxy+dy)/(miny+dy)\n",
    "    else:\n",
    "        nmaxy = maxy\n",
    "        nminy = maxy*(miny+dy)/(maxy+dy)\n",
    "    ax.set_ylim(nminy+v, nmaxy+v)\n",
    "    \n",
    "start=pulse_starts[pulse]-pre\n",
    "stop=start+length\n",
    "x=np.arange(0,len(traces['filtered']))\n",
    "fig=plt.figure()\n",
    "\n",
    "f_ax = host_subplot(111)\n",
    "s_ax = f_ax.twinx()\n",
    "\n",
    "f_ax.set_xlabel(\"Time (ns)\",fontsize=18)\n",
    "f_ax.set_ylabel(\"Voltage (mV)\",fontsize=18,color='r')\n",
    "s_ax.set_ylabel(\"Slope (mv/ns)\",fontsize=18,color='b')\n",
    "\n",
    "mV=1.0/math.pow(2,14)*1000\n",
    "nS=4\n",
    "t=x*nS\n",
    "\n",
    "f_sig = traces['filtered']*mV\n",
    "s_sig = traces['slope']*mV/nS\n",
    "\n",
    "f_ax.plot([t[start],t[stop]],[0,0],'k') # zero line\n",
    "f_trace, = f_ax.step(t[start:stop],f_sig[start:stop],'r',lw=2,label='processed')\n",
    "f_ax.set_ylim(-10,180)\n",
    "\n",
    "s_trace, = s_ax.step(t[start:stop],s_sig[start:stop],'b',lw=1,label='slope')\n",
    "s_ax.set_ylim(-15,50)\n",
    "#s_threshold = 6\n",
    "#s_ax.set_yticks(np.concatenate((s_ax.get_yticks(),[s_threshold])))\n",
    "#labels=[label.get_text() for label in s_ax.get_yticklabels()]\n",
    "#labels[6]='Threshold'\n",
    "\n",
    "#s_ax.set_yticklabels(labels)\n",
    "plt.xlim(t[start],t[stop])\n",
    "align_yaxis(f_ax,0,s_ax,0)\n",
    "fig.suptitle('Measurement:Second pass',fontsize=24)\n",
    "#plt.legend(handles=[f_trace,s_trace])\n",
    "\n",
    "starts_mask = np.logical_and(peak_starts >= start,peak_starts <= stop)\n",
    "peaks_mask = np.logical_and(peaks[:,0] >= start, peaks[:,0] <= stop)\n",
    "peak_starts_inwin = peak_starts[starts_mask]\n",
    "\n",
    "\n",
    "#for pstart in peak_starts_inwin:\n",
    "#    peak_start_t=t[pstart]-2\n",
    "#    peak_start_f=f_sig[pstart]\n",
    "#    peak_start_s=s_sig[pstart]\n",
    "#\n",
    "#    f_ax.plot(peak_start_t,peak_start_f,'ro')\n",
    "#    s_ax.plot(peak_start_t,peak_start_s,'bo')\n",
    "    \n",
    "#    f_trans = f_ax.transData\n",
    "#    s_trans = s_ax.transData.inverted()\n",
    "#    trans = s_trans+f_trans\n",
    "#    f_point=f_trans.transform((peak_start_t,peak_start_f))\n",
    "#    s_point=s_trans.transform((f_point[0],f_point[1]))\n",
    "\n",
    "#    s_ax.plot([peak_start_t,peak_start_t],[peak_start_s, s_point[1]],'k')\n",
    "\n",
    "#for p in peaks[0][peaks_inwin]\n",
    "peaks_inwin = peaks[peaks_mask,0]\n",
    "x_s=peak_starts_inwin\n",
    "x_p=peaks_inwin\n",
    "y_s=f_sig[x_s]\n",
    "y_p=f_sig[x_p]\n",
    "\n",
    "f_ax.plot(t[peak_starts_inwin],f_sig[peak_starts_inwin],'or')\n",
    "f_ax.plot(t[peaks_inwin],f_sig[peaks_inwin],'or')\n",
    "\n",
    "\n",
    "f_ax.plot([t[x_s[0]],t[x_p[0]]],[y_s[0],y_s[0]],'k')\n",
    "f_ax.plot([t[x_p[0]],t[x_p[0]]],[y_s[0],y_p[0]],'k')\n",
    "\n",
    "f_ax.plot([t[x_s[1]],t[x_p[1]]],[y_s[1],y_s[1]],'k')\n",
    "f_ax.plot([t[x_p[1]],t[x_p[1]]],[y_s[1],y_p[1]],'k')\n",
    "\n",
    "\n",
    "#for p in peaks_inwin:\n",
    "#    peak_t=t[p]-2\n",
    "#    peak_f=f_sig[p]\n",
    "#    peak_s=s_sig[p]\n",
    "\n",
    "#    f_ax.plot(peak_t,peak_f,'ro')\n",
    "#    s_ax.plot(peak_t,peak_s,'bo')\n",
    "    \n",
    "#    f_trans = f_ax.transData\n",
    "#    s_trans = s_ax.transata.inverted()\n",
    "#    trans = s_trans+f_trans\n",
    "#    f_point=f_trans.transform((peak_t,peak_f))\n",
    "#    s_point=s_trans.transform((f_point[0],f_point[1]))\n",
    "\n",
    "#    s_ax.plot([peak_t,peak_t],[peak_s, s_point[1]],'k')\n",
    "\n",
    "ins_start = peak_starts_inwin[1]-300\n",
    "ins_stop = peak_starts_inwin[1]+500\n",
    "f_ins_ax = zoomed_inset_axes(f_ax, 1.5, loc=1)  # zoom = 6\n",
    "f_ins_ax.step(t[ins_start:ins_stop],f_sig[ins_start:ins_stop],'r')\n",
    "f_ins_ax.set_ylim(60,180)\n",
    "f_ins_ax.set_xlim(t[ins_start],t[ins_stop])\n",
    "f_ins_ax.set_yticks([])\n",
    "f_ins_ax.set_xticks([])\n",
    "\n",
    "low_mask = np.logical_and(cfd_low >= start, cfd_low <= stop)\n",
    "low_inwin = cfd_low[low_mask]\n",
    "high_mask = np.logical_and(cfd_high >= start, cfd_high <= stop)\n",
    "high_inwin = cfd_high[high_mask]\n",
    "thresh_mask = np.logical_and(slope_xing >= start, slope_xing <= stop)\n",
    "thresh_inwin = slope_xing[thresh_mask]\n",
    "\n",
    "f_ins_ax.plot(t[peak_starts_inwin],f_sig[peak_starts_inwin],'or')\n",
    "f_ins_ax.plot(t[peaks_inwin],f_sig[peaks_inwin],'or')\n",
    "\n",
    "f_ins_ax.plot(t[low_inwin],f_sig[low_inwin],'ok')\n",
    "f_ins_ax.plot(t[high_inwin],f_sig[high_inwin],'ok')\n",
    "f_ax.plot(t[low_inwin],f_sig[low_inwin],'ok')\n",
    "f_ax.plot(t[high_inwin],f_sig[high_inwin],'ok')\n",
    "#f_ax.plot(t[thresh_inwin],f_sig[thresh_inwin],'ow')\n",
    "f_ins_ax.plot(t[thresh_inwin],f_sig[thresh_inwin],'ow')\n",
    "\n",
    "\n",
    "f_ins_ax.plot([t[x_s[0]],t[x_p[0]]],[y_s[0],y_s[0]],'k')\n",
    "f_ins_ax.plot([t[x_p[0]],t[x_p[0]]],[y_s[0],y_p[0]],'k')\n",
    "\n",
    "f_ins_ax.plot([t[x_s[1]],t[x_p[1]]],[y_s[1],y_s[1]],'k')\n",
    "f_ins_ax.plot([t[x_p[1]],t[x_p[1]]],[y_s[1],y_p[1]],'k')\n",
    "\n",
    "#f_ins_ax.plot([t[ins_start],t[ins_stop]],[0,0],'k') # zero line\n",
    "\n",
    "#plt.xticks(visible=False)\n",
    "#plt.yticks(visible=False)\n",
    "#mark_inset(f_ax, f_ins_ax, loc1=2, loc2=4, fc=\"none\", ec=\"0.5\")\n",
    "\n",
    "pstart = peak_starts_inwin[1]\n",
    "peak_start_t=t[pstart]-2\n",
    "peak_start_f=f_sig[pstart]\n",
    "peak_start_s=s_sig[pstart]\n",
    "\n",
    "f_ins_ax.plot(peak_start_t,peak_start_f,'ro')\n",
    "\n",
    "\n",
    "f_trans = f_ins_ax.transData\n",
    "s_trans = s_ins_ax.transData.inverted()\n",
    "trans = s_trans+f_trans\n",
    "f_point=f_trans.transform((peak_start_t,peak_start_f))\n",
    "s_point=s_trans.transform((f_point[0],f_point[1]))\n",
    "\n",
    "s_ins_ax.plot([peak_start_t,peak_start_t],[peak_start_s, s_point[1]],'k')\n",
    "\n",
    "s_ax.plot([t[start],t[stop]],[s_threshold,s_threshold],ls='dashed')\n",
    "\n",
    "fig.savefig('measurement2.png')\n",
    "plt.draw()\n",
    "plt.show()"
   ]
  },
  {
   "cell_type": "code",
   "execution_count": null,
   "metadata": {
    "collapsed": false
   },
   "outputs": [],
   "source": [
    "from mpl_toolkits.axes_grid1.inset_locator import inset_axes\n",
    "\n",
    "fig=plt.figure()\n",
    "fig.suptitle('Multi Channel Analyser',fontsize=24)\n",
    "\n",
    "h_ax = host_subplot(111)\n",
    "\n",
    "h_ins_ax = inset_axes(h_ax, width=\"80%\",height=1., loc=1)  # zoom = 6\n",
    "h_ins_ax.set_xlim(-25,160)\n",
    "h_ins_ax.set_ylim(0,0.002)\n",
    "h_ax.hist((traces['input']+200)*2*mV,math.pow(2,14),normed=1,facecolor='k',edgecolor='k')\n",
    "h_ax.hist(f_sig,math.pow(2,14),normed=1,facecolor='r',edgecolor='r')\n",
    "h_ins_ax.hist(f_sig,math.pow(2,14),normed=1,facecolor='r',edgecolor='r')\n",
    "h_ins_ax.set_xticks([])\n",
    "h_ins_ax.set_yticks([])\n",
    "h_ax.set_xlim(-30,100)\n",
    "h_ax.set_ylim(0,0.8)\n",
    "\n",
    "mark_inset(h_ax, h_ins_ax, loc1=2, loc2=4, fc=\"none\", ec=\"0.5\")\n",
    "\n",
    "h_ax.set_xlabel('Voltage (mV)')\n",
    "h_ax.set_ylabel('Probability')\n",
    "fig.savefig('hist.png')\n",
    "plt.show()"
   ]
  },
  {
   "cell_type": "code",
   "execution_count": null,
   "metadata": {
    "collapsed": true
   },
   "outputs": [],
   "source": [
    "peak_dt=np.dtype([('time',np.uint16),('flags',np.uint16),('minima',np.uint16),('height',np.uint16)])"
   ]
  },
  {
   "cell_type": "code",
   "execution_count": null,
   "metadata": {
    "collapsed": true
   },
   "outputs": [],
   "source": [
    "area_dt=np.dtype([('time',np.uint16),('flags',np.uint16),('area',np.uint32)])"
   ]
  },
  {
   "cell_type": "code",
   "execution_count": null,
   "metadata": {
    "collapsed": true
   },
   "outputs": [],
   "source": [
    "pulse_peak_dt=np.dtype([('trigger',np.uint16),('rise',np.uint16),('minima',np.uint16),('height',np.uint16)])\n",
    "pulse_header_dt=np.dtype([('time',np.uint16),('flags',np.uint16),('res1',np.uint16),('size',np.uint16),\n",
    "                    ('length',np.uint16),('res2',np.uint16),('area',np.int32)])"
   ]
  },
  {
   "cell_type": "code",
   "execution_count": null,
   "metadata": {
    "collapsed": false
   },
   "outputs": [],
   "source": [
    "pulse2_dt=np.dtype([('time',np.uint16),('flags',np.uint16),('res1',np.uint16),('size',np.uint16),\n",
    "                    ('length',np.uint16),('res2',np.uint16),('area',np.int32),\n",
    "                    ('trigger0',np.uint16),('rise0',np.uint16),('minima0',np.uint16),('height0',np.uint16),\n",
    "                    ('trigger1',np.uint16),('rise1',np.uint16),('minima1',np.uint16),('height1',np.uint16)])"
   ]
  },
  {
   "cell_type": "code",
   "execution_count": null,
   "metadata": {
    "collapsed": false
   },
   "outputs": [],
   "source": [
    "pulse2_subarray_dt=np.dtype([('header',pulse_header_dt,('peaks', (pulse_peak_dt,(1,2)) ))])"
   ]
  },
  {
   "cell_type": "code",
   "execution_count": null,
   "metadata": {
    "collapsed": true
   },
   "outputs": [],
   "source": [
    "eventstream=np.fromfile(path+'eventstream',peak_dt)"
   ]
  },
  {
   "cell_type": "code",
   "execution_count": null,
   "metadata": {
    "collapsed": true
   },
   "outputs": [],
   "source": [
    "eventstream=np.fromfile(path+'eventstream',area_dt)"
   ]
  },
  {
   "cell_type": "code",
   "execution_count": null,
   "metadata": {
    "collapsed": true
   },
   "outputs": [],
   "source": [
    "eventstream=np.fromfile(path+'eventstream',pulse2_dt)"
   ]
  },
  {
   "cell_type": "code",
   "execution_count": null,
   "metadata": {
    "collapsed": false
   },
   "outputs": [],
   "source": [
    "eventstream"
   ]
  },
  {
   "cell_type": "code",
   "execution_count": null,
   "metadata": {
    "collapsed": false
   },
   "outputs": [],
   "source": [
    "flags=eventstream['flags']\n",
    "print(np.binary_repr(flags[0],16))"
   ]
  },
  {
   "cell_type": "code",
   "execution_count": null,
   "metadata": {
    "collapsed": false
   },
   "outputs": [],
   "source": [
    "print(\"flags:{:016b}\\nsize:{}\\nlength:{}\\narea:{}\\ntrigger:{} rise:{} minima:{} height:{}\\ntrigger:{} rise:{} minima:{} height:{}\\n\"  \n",
    "      .format(eventstream['flags'][0],eventstream['size'][0],eventstream['length'][0],eventstream['area'][0],\n",
    "        eventstream['trigger0'][0],eventstream['rise0'][0],eventstream['minima0'][0],eventstream['height0'][0],\n",
    "        eventstream['trigger1'][0],eventstream['rise1'][0],eventstream['minima1'][0],eventstream['height1'][0]))"
   ]
  },
  {
   "cell_type": "code",
   "execution_count": null,
   "metadata": {
    "collapsed": false
   },
   "outputs": [],
   "source": [
    "print(np.binary_repr(flags[1],16))"
   ]
  },
  {
   "cell_type": "code",
   "execution_count": null,
   "metadata": {
    "collapsed": true
   },
   "outputs": [],
   "source": [
    "rel_to_min=np.right_shift(np.bitwise_and(flags,0x8000),15).astype(np.bool)\n",
    "channel=np.right_shift(np.bitwise_and(flags,0x0F00),8).astype(np.uint8)\n",
    "threshold_rel2min=np.right_shift(np.bitwise_and(flags,0x4000),14).astype(np.bool)\n",
    "peak_count=np.right_shift(np.bitwise_and(flags,0x00F0),4).astype(np.uint8)\n",
    "tick=np.bitwise_and(flags,0x0001).astype(bool)\n",
    "area=np.right_shift(np.bitwise_and(flags,0x0002),1).astype(np.bool)\n",
    "trace=np.right_shift(np.bitwise_and(flags,0x0004),2).astype(np.bool)\n",
    "fixed=np.right_shift(np.bitwise_and(flags,0x0008),3).astype(np.bool)\n",
    "event_type=np.right_shift(np.bitwise_and(flags,0x3000),12).astype(np.uint8)"
   ]
  },
  {
   "cell_type": "code",
   "execution_count": null,
   "metadata": {
    "collapsed": false
   },
   "outputs": [],
   "source": [
    "flags"
   ]
  },
  {
   "cell_type": "code",
   "execution_count": null,
   "metadata": {
    "collapsed": false
   },
   "outputs": [],
   "source": [
    "eventstream"
   ]
  },
  {
   "cell_type": "code",
   "execution_count": null,
   "metadata": {
    "collapsed": true
   },
   "outputs": [],
   "source": []
  },
  {
   "cell_type": "code",
   "execution_count": null,
   "metadata": {
    "collapsed": true
   },
   "outputs": [],
   "source": []
  }
 ],
 "metadata": {
  "kernelspec": {
   "display_name": "Python 3",
   "language": "python",
   "name": "python3"
  },
  "language_info": {
   "codemirror_mode": {
    "name": "ipython",
    "version": 3
   },
   "file_extension": ".py",
   "mimetype": "text/x-python",
   "name": "python",
   "nbconvert_exporter": "python",
   "pygments_lexer": "ipython3",
   "version": "3.5.1"
  }
 },
 "nbformat": 4,
 "nbformat_minor": 0
}
