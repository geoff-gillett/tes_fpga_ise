{
 "cells": [
  {
   "cell_type": "markdown",
   "metadata": {},
   "source": [
    "timestamp 0 => clk 20\n",
    "\n",
    "traces start at clk 1"
   ]
  },
  {
   "cell_type": "code",
   "execution_count": 1,
   "metadata": {
    "collapsed": false,
    "run_control": {
     "frozen": false,
     "read_only": false
    }
   },
   "outputs": [],
   "source": [
    "from tes.data import Data,PacketStream,Packet,Payload,EventFlags,Event\n",
    "from tes.hdf5 import _PacketData, _import\n",
    "import numpy as np\n",
    "import matplotlib.pyplot as plt\n",
    "from subprocess import Popen\n",
    "\n",
    "import logging\n",
    "import sys\n",
    "logger = logging.getLogger('tes')\n",
    "logger.setLevel(logging.DEBUG)\n",
    "handler = logging.StreamHandler(sys.stderr)\n",
    "formatter = logging.Formatter('%(name)s:%(levelname)s %(message)s')\n",
    "handler.setFormatter(formatter)\n",
    "logger.handlers = [handler]\n",
    "\n",
    "trace_dt=np.dtype([('raw','i4'),('filtered','i4'),('slope','i4'),('filteredL','i4')])\n",
    "stream_dt=np.dtype([('data','i4'),('last','i4')])\n",
    "minmax_dt=np.dtype(\n",
    "    [\n",
    "        ('filtered','i4'),('timing_threshold','i4'),\n",
    "        ('height_threshold','i4'),('slope_extrema','i4'),('slope_area','i4'),('clk','i4')\n",
    "    ]\n",
    ")\n",
    "cfd_dt=np.dtype('i4')\n",
    "filteredxing_dt=np.dtype([('extrema','i4'),('area','i4'),('clk','i4')])"
   ]
  },
  {
   "cell_type": "code",
   "execution_count": null,
   "metadata": {
    "collapsed": false,
    "run_control": {
     "frozen": false,
     "read_only": false
    },
    "scrolled": false
   },
   "outputs": [],
   "source": [
    "%matplotlib notebook\n",
    "traces=Data.fromfile('traces',trace_dt,'teslib','measurement_subsystem_TB',tool='vivado')\n",
    "plt.plot(traces['slope'][1100:],'r',linewidth=1)\n",
    "plt.plot(traces['raw'][1100:],linewidth=0.5)\n",
    "plt.plot(traces['filtered'][1100:],'k',linewidth=2)"
   ]
  },
  {
   "cell_type": "code",
   "execution_count": 145,
   "metadata": {
    "collapsed": false
   },
   "outputs": [
    {
     "name": "stderr",
     "output_type": "stream",
     "text": [
      "tes.hdf5:DEBUG PacketData: from ndarray\n",
      "tes.hdf5:INFO import:pass 1: calculating sizes for hdf5 pre-allocation\n",
      "tes.hdf5:INFO import:pass 1:found 1176 bytes in 18 frames 0 sequence errors.\n",
      "tes.hdf5:DEBUG tick frames: 312 data bytes in 13 frames\n",
      "tes.hdf5:DEBUG event frames: 720 data bytes in 5 frames\n",
      "tes.hdf5:DEBUG MCA frames: 0 data bytes in 0 frames\n",
      "tes.hdf5:DEBUG unidentified frames: 0 bytes in 0 frames\n",
      "tes.hdf5:DEBUG MCA distributions:0  traces:5\n",
      "tes.hdf5:INFO import:pass 2:importing data\n"
     ]
    },
    {
     "ename": "OSError",
     "evalue": "Unable to create file (Unable to truncate a file which is already open)",
     "output_type": "error",
     "traceback": [
      "\u001b[1;31m---------------------------------------------------------------------------\u001b[0m",
      "\u001b[1;31mOSError\u001b[0m                                   Traceback (most recent call last)",
      "\u001b[1;32m<ipython-input-145-07acc2d5788c>\u001b[0m in \u001b[0;36m<module>\u001b[1;34m()\u001b[0m\n\u001b[0;32m      4\u001b[0m \u001b[0mpackets\u001b[0m\u001b[1;33m=\u001b[0m\u001b[0m_PacketData\u001b[0m\u001b[1;33m(\u001b[0m\u001b[0mstream\u001b[0m\u001b[1;33m)\u001b[0m\u001b[1;33m\u001b[0m\u001b[0m\n\u001b[0;32m      5\u001b[0m \u001b[1;32mdel\u001b[0m \u001b[0mstream\u001b[0m\u001b[1;33m\u001b[0m\u001b[0m\n\u001b[1;32m----> 6\u001b[1;33m \u001b[0m_import\u001b[0m\u001b[1;33m(\u001b[0m\u001b[0mpackets\u001b[0m\u001b[1;33m)\u001b[0m\u001b[1;33m\u001b[0m\u001b[0m\n\u001b[0m\u001b[0;32m      7\u001b[0m \u001b[0mh\u001b[0m\u001b[1;33m=\u001b[0m\u001b[0mh5py\u001b[0m\u001b[1;33m.\u001b[0m\u001b[0mFile\u001b[0m\u001b[1;33m(\u001b[0m\u001b[1;34m'TES.hdf5'\u001b[0m\u001b[1;33m,\u001b[0m\u001b[1;34m'r'\u001b[0m\u001b[1;33m)\u001b[0m\u001b[1;33m\u001b[0m\u001b[0m\n",
      "\u001b[1;32mc:\\TES_project\\interface\\python\\tes\\hdf5.py\u001b[0m in \u001b[0;36m_import\u001b[1;34m(data, hdf5_filename)\u001b[0m\n\u001b[0;32m    516\u001b[0m     )\n\u001b[0;32m    517\u001b[0m \u001b[1;33m\u001b[0m\u001b[0m\n\u001b[1;32m--> 518\u001b[1;33m     \u001b[1;32mwith\u001b[0m \u001b[0mh5py\u001b[0m\u001b[1;33m.\u001b[0m\u001b[0mFile\u001b[0m\u001b[1;33m(\u001b[0m\u001b[0mhdf5_filename\u001b[0m\u001b[1;33m,\u001b[0m \u001b[1;34m\"w\"\u001b[0m\u001b[1;33m)\u001b[0m \u001b[1;32mas\u001b[0m \u001b[0mhdf5\u001b[0m\u001b[1;33m:\u001b[0m\u001b[1;33m\u001b[0m\u001b[0m\n\u001b[0m\u001b[0;32m    519\u001b[0m \u001b[1;33m\u001b[0m\u001b[0m\n\u001b[0;32m    520\u001b[0m         \u001b[1;31m# allocation\u001b[0m\u001b[1;33m\u001b[0m\u001b[1;33m\u001b[0m\u001b[0m\n",
      "\u001b[1;32mC:\\Miniconda3\\lib\\site-packages\\h5py\\_hl\\files.py\u001b[0m in \u001b[0;36m__init__\u001b[1;34m(self, name, mode, driver, libver, userblock_size, swmr, **kwds)\u001b[0m\n\u001b[0;32m    270\u001b[0m \u001b[1;33m\u001b[0m\u001b[0m\n\u001b[0;32m    271\u001b[0m                 \u001b[0mfapl\u001b[0m \u001b[1;33m=\u001b[0m \u001b[0mmake_fapl\u001b[0m\u001b[1;33m(\u001b[0m\u001b[0mdriver\u001b[0m\u001b[1;33m,\u001b[0m \u001b[0mlibver\u001b[0m\u001b[1;33m,\u001b[0m \u001b[1;33m**\u001b[0m\u001b[0mkwds\u001b[0m\u001b[1;33m)\u001b[0m\u001b[1;33m\u001b[0m\u001b[0m\n\u001b[1;32m--> 272\u001b[1;33m                 \u001b[0mfid\u001b[0m \u001b[1;33m=\u001b[0m \u001b[0mmake_fid\u001b[0m\u001b[1;33m(\u001b[0m\u001b[0mname\u001b[0m\u001b[1;33m,\u001b[0m \u001b[0mmode\u001b[0m\u001b[1;33m,\u001b[0m \u001b[0muserblock_size\u001b[0m\u001b[1;33m,\u001b[0m \u001b[0mfapl\u001b[0m\u001b[1;33m,\u001b[0m \u001b[0mswmr\u001b[0m\u001b[1;33m=\u001b[0m\u001b[0mswmr\u001b[0m\u001b[1;33m)\u001b[0m\u001b[1;33m\u001b[0m\u001b[0m\n\u001b[0m\u001b[0;32m    273\u001b[0m \u001b[1;33m\u001b[0m\u001b[0m\n\u001b[0;32m    274\u001b[0m                 \u001b[1;32mif\u001b[0m \u001b[0mswmr_support\u001b[0m\u001b[1;33m:\u001b[0m\u001b[1;33m\u001b[0m\u001b[0m\n",
      "\u001b[1;32mC:\\Miniconda3\\lib\\site-packages\\h5py\\_hl\\files.py\u001b[0m in \u001b[0;36mmake_fid\u001b[1;34m(name, mode, userblock_size, fapl, fcpl, swmr)\u001b[0m\n\u001b[0;32m     96\u001b[0m         \u001b[0mfid\u001b[0m \u001b[1;33m=\u001b[0m \u001b[0mh5f\u001b[0m\u001b[1;33m.\u001b[0m\u001b[0mcreate\u001b[0m\u001b[1;33m(\u001b[0m\u001b[0mname\u001b[0m\u001b[1;33m,\u001b[0m \u001b[0mh5f\u001b[0m\u001b[1;33m.\u001b[0m\u001b[0mACC_EXCL\u001b[0m\u001b[1;33m,\u001b[0m \u001b[0mfapl\u001b[0m\u001b[1;33m=\u001b[0m\u001b[0mfapl\u001b[0m\u001b[1;33m,\u001b[0m \u001b[0mfcpl\u001b[0m\u001b[1;33m=\u001b[0m\u001b[0mfcpl\u001b[0m\u001b[1;33m)\u001b[0m\u001b[1;33m\u001b[0m\u001b[0m\n\u001b[0;32m     97\u001b[0m     \u001b[1;32melif\u001b[0m \u001b[0mmode\u001b[0m \u001b[1;33m==\u001b[0m \u001b[1;34m'w'\u001b[0m\u001b[1;33m:\u001b[0m\u001b[1;33m\u001b[0m\u001b[0m\n\u001b[1;32m---> 98\u001b[1;33m         \u001b[0mfid\u001b[0m \u001b[1;33m=\u001b[0m \u001b[0mh5f\u001b[0m\u001b[1;33m.\u001b[0m\u001b[0mcreate\u001b[0m\u001b[1;33m(\u001b[0m\u001b[0mname\u001b[0m\u001b[1;33m,\u001b[0m \u001b[0mh5f\u001b[0m\u001b[1;33m.\u001b[0m\u001b[0mACC_TRUNC\u001b[0m\u001b[1;33m,\u001b[0m \u001b[0mfapl\u001b[0m\u001b[1;33m=\u001b[0m\u001b[0mfapl\u001b[0m\u001b[1;33m,\u001b[0m \u001b[0mfcpl\u001b[0m\u001b[1;33m=\u001b[0m\u001b[0mfcpl\u001b[0m\u001b[1;33m)\u001b[0m\u001b[1;33m\u001b[0m\u001b[0m\n\u001b[0m\u001b[0;32m     99\u001b[0m     \u001b[1;32melif\u001b[0m \u001b[0mmode\u001b[0m \u001b[1;33m==\u001b[0m \u001b[1;34m'a'\u001b[0m\u001b[1;33m:\u001b[0m\u001b[1;33m\u001b[0m\u001b[0m\n\u001b[0;32m    100\u001b[0m         \u001b[1;31m# Open in append mode (read/write).\u001b[0m\u001b[1;33m\u001b[0m\u001b[1;33m\u001b[0m\u001b[0m\n",
      "\u001b[1;32mh5py\\_objects.pyx\u001b[0m in \u001b[0;36mh5py._objects.with_phil.wrapper (C:\\Minonda\\conda-bld\\h5py_1486484495516\\work\\h5py\\_objects.c:2866)\u001b[1;34m()\u001b[0m\n",
      "\u001b[1;32mh5py\\_objects.pyx\u001b[0m in \u001b[0;36mh5py._objects.with_phil.wrapper (C:\\Minonda\\conda-bld\\h5py_1486484495516\\work\\h5py\\_objects.c:2824)\u001b[1;34m()\u001b[0m\n",
      "\u001b[1;32mh5py\\h5f.pyx\u001b[0m in \u001b[0;36mh5py.h5f.create (C:\\Minonda\\conda-bld\\h5py_1486484495516\\work\\h5py\\h5f.c:2279)\u001b[1;34m()\u001b[0m\n",
      "\u001b[1;31mOSError\u001b[0m: Unable to create file (Unable to truncate a file which is already open)"
     ]
    }
   ],
   "source": [
    "import h5py\n",
    "from tes.hdf5 import Trace\n",
    "stream=Data.fromfile('bytestream',stream_dt,'teslib','measurement_subsystem_TB',tool='vivado')\n",
    "packets=_PacketData(stream)\n",
    "del stream\n",
    "_import(packets)\n",
    "h=h5py.File('TES.hdf5','r')"
   ]
  },
  {
   "cell_type": "code",
   "execution_count": 153,
   "metadata": {
    "collapsed": false
   },
   "outputs": [
    {
     "name": "stderr",
     "output_type": "stream",
     "text": [
      "tes.hdf5:DEBUG PacketData: from ndarray\n",
      "tes.hdf5:INFO import:pass 1: calculating sizes for hdf5 pre-allocation\n",
      "tes.hdf5:INFO import:pass 1:found 3232 bytes in 49 frames 0 sequence errors.\n",
      "tes.hdf5:DEBUG tick frames: 312 data bytes in 13 frames\n",
      "tes.hdf5:DEBUG event frames: 2528 data bytes in 36 frames\n",
      "tes.hdf5:DEBUG MCA frames: 0 data bytes in 0 frames\n",
      "tes.hdf5:DEBUG unidentified frames: 0 bytes in 0 frames\n",
      "tes.hdf5:DEBUG MCA distributions:0  traces:6\n",
      "tes.hdf5:INFO import:pass 2:importing data\n"
     ]
    }
   ],
   "source": [
    "h.close()\n",
    "stream=Data.fromfile('bytestream',stream_dt,'teslib','measurement_subsystem_TB',tool='vivado')\n",
    "packets=_PacketData(stream)\n",
    "del stream\n",
    "_import(packets)\n",
    "h=h5py.File('TES.hdf5','r')"
   ]
  },
  {
   "cell_type": "code",
   "execution_count": null,
   "metadata": {
    "collapsed": false
   },
   "outputs": [],
   "source": []
  },
  {
   "cell_type": "code",
   "execution_count": null,
   "metadata": {
    "collapsed": false
   },
   "outputs": [],
   "source": [
    "len(h['traces'])"
   ]
  },
  {
   "cell_type": "code",
   "execution_count": 154,
   "metadata": {
    "collapsed": false
   },
   "outputs": [],
   "source": [
    "t=h['raw_data/event'][h['traces'][5]]"
   ]
  },
  {
   "cell_type": "code",
   "execution_count": 151,
   "metadata": {
    "collapsed": false
   },
   "outputs": [
    {
     "name": "stdout",
     "output_type": "stream",
     "text": [
      "peaks:0\n",
      "rel2min:0\n",
      "channel:0\n",
      "timing:slope_threshold\n",
      "height:cfd_high\n",
      "detection:trace \n",
      " multi_peak:False\n",
      "multi_pulse:False\n",
      "stride:0\n",
      "type:average\n",
      "signal:filtered\n",
      "offset:1\n"
     ]
    },
    {
     "data": {
      "application/javascript": [
       "/* Put everything inside the global mpl namespace */\n",
       "window.mpl = {};\n",
       "\n",
       "\n",
       "mpl.get_websocket_type = function() {\n",
       "    if (typeof(WebSocket) !== 'undefined') {\n",
       "        return WebSocket;\n",
       "    } else if (typeof(MozWebSocket) !== 'undefined') {\n",
       "        return MozWebSocket;\n",
       "    } else {\n",
       "        alert('Your browser does not have WebSocket support.' +\n",
       "              'Please try Chrome, Safari or Firefox ≥ 6. ' +\n",
       "              'Firefox 4 and 5 are also supported but you ' +\n",
       "              'have to enable WebSockets in about:config.');\n",
       "    };\n",
       "}\n",
       "\n",
       "mpl.figure = function(figure_id, websocket, ondownload, parent_element) {\n",
       "    this.id = figure_id;\n",
       "\n",
       "    this.ws = websocket;\n",
       "\n",
       "    this.supports_binary = (this.ws.binaryType != undefined);\n",
       "\n",
       "    if (!this.supports_binary) {\n",
       "        var warnings = document.getElementById(\"mpl-warnings\");\n",
       "        if (warnings) {\n",
       "            warnings.style.display = 'block';\n",
       "            warnings.textContent = (\n",
       "                \"This browser does not support binary websocket messages. \" +\n",
       "                    \"Performance may be slow.\");\n",
       "        }\n",
       "    }\n",
       "\n",
       "    this.imageObj = new Image();\n",
       "\n",
       "    this.context = undefined;\n",
       "    this.message = undefined;\n",
       "    this.canvas = undefined;\n",
       "    this.rubberband_canvas = undefined;\n",
       "    this.rubberband_context = undefined;\n",
       "    this.format_dropdown = undefined;\n",
       "\n",
       "    this.image_mode = 'full';\n",
       "\n",
       "    this.root = $('<div/>');\n",
       "    this._root_extra_style(this.root)\n",
       "    this.root.attr('style', 'display: inline-block');\n",
       "\n",
       "    $(parent_element).append(this.root);\n",
       "\n",
       "    this._init_header(this);\n",
       "    this._init_canvas(this);\n",
       "    this._init_toolbar(this);\n",
       "\n",
       "    var fig = this;\n",
       "\n",
       "    this.waiting = false;\n",
       "\n",
       "    this.ws.onopen =  function () {\n",
       "            fig.send_message(\"supports_binary\", {value: fig.supports_binary});\n",
       "            fig.send_message(\"send_image_mode\", {});\n",
       "            if (mpl.ratio != 1) {\n",
       "                fig.send_message(\"set_dpi_ratio\", {'dpi_ratio': mpl.ratio});\n",
       "            }\n",
       "            fig.send_message(\"refresh\", {});\n",
       "        }\n",
       "\n",
       "    this.imageObj.onload = function() {\n",
       "            if (fig.image_mode == 'full') {\n",
       "                // Full images could contain transparency (where diff images\n",
       "                // almost always do), so we need to clear the canvas so that\n",
       "                // there is no ghosting.\n",
       "                fig.context.clearRect(0, 0, fig.canvas.width, fig.canvas.height);\n",
       "            }\n",
       "            fig.context.drawImage(fig.imageObj, 0, 0);\n",
       "        };\n",
       "\n",
       "    this.imageObj.onunload = function() {\n",
       "        this.ws.close();\n",
       "    }\n",
       "\n",
       "    this.ws.onmessage = this._make_on_message_function(this);\n",
       "\n",
       "    this.ondownload = ondownload;\n",
       "}\n",
       "\n",
       "mpl.figure.prototype._init_header = function() {\n",
       "    var titlebar = $(\n",
       "        '<div class=\"ui-dialog-titlebar ui-widget-header ui-corner-all ' +\n",
       "        'ui-helper-clearfix\"/>');\n",
       "    var titletext = $(\n",
       "        '<div class=\"ui-dialog-title\" style=\"width: 100%; ' +\n",
       "        'text-align: center; padding: 3px;\"/>');\n",
       "    titlebar.append(titletext)\n",
       "    this.root.append(titlebar);\n",
       "    this.header = titletext[0];\n",
       "}\n",
       "\n",
       "\n",
       "\n",
       "mpl.figure.prototype._canvas_extra_style = function(canvas_div) {\n",
       "\n",
       "}\n",
       "\n",
       "\n",
       "mpl.figure.prototype._root_extra_style = function(canvas_div) {\n",
       "\n",
       "}\n",
       "\n",
       "mpl.figure.prototype._init_canvas = function() {\n",
       "    var fig = this;\n",
       "\n",
       "    var canvas_div = $('<div/>');\n",
       "\n",
       "    canvas_div.attr('style', 'position: relative; clear: both; outline: 0');\n",
       "\n",
       "    function canvas_keyboard_event(event) {\n",
       "        return fig.key_event(event, event['data']);\n",
       "    }\n",
       "\n",
       "    canvas_div.keydown('key_press', canvas_keyboard_event);\n",
       "    canvas_div.keyup('key_release', canvas_keyboard_event);\n",
       "    this.canvas_div = canvas_div\n",
       "    this._canvas_extra_style(canvas_div)\n",
       "    this.root.append(canvas_div);\n",
       "\n",
       "    var canvas = $('<canvas/>');\n",
       "    canvas.addClass('mpl-canvas');\n",
       "    canvas.attr('style', \"left: 0; top: 0; z-index: 0; outline: 0\")\n",
       "\n",
       "    this.canvas = canvas[0];\n",
       "    this.context = canvas[0].getContext(\"2d\");\n",
       "\n",
       "    var backingStore = this.context.backingStorePixelRatio ||\n",
       "\tthis.context.webkitBackingStorePixelRatio ||\n",
       "\tthis.context.mozBackingStorePixelRatio ||\n",
       "\tthis.context.msBackingStorePixelRatio ||\n",
       "\tthis.context.oBackingStorePixelRatio ||\n",
       "\tthis.context.backingStorePixelRatio || 1;\n",
       "\n",
       "    mpl.ratio = (window.devicePixelRatio || 1) / backingStore;\n",
       "\n",
       "    var rubberband = $('<canvas/>');\n",
       "    rubberband.attr('style', \"position: absolute; left: 0; top: 0; z-index: 1;\")\n",
       "\n",
       "    var pass_mouse_events = true;\n",
       "\n",
       "    canvas_div.resizable({\n",
       "        start: function(event, ui) {\n",
       "            pass_mouse_events = false;\n",
       "        },\n",
       "        resize: function(event, ui) {\n",
       "            fig.request_resize(ui.size.width, ui.size.height);\n",
       "        },\n",
       "        stop: function(event, ui) {\n",
       "            pass_mouse_events = true;\n",
       "            fig.request_resize(ui.size.width, ui.size.height);\n",
       "        },\n",
       "    });\n",
       "\n",
       "    function mouse_event_fn(event) {\n",
       "        if (pass_mouse_events)\n",
       "            return fig.mouse_event(event, event['data']);\n",
       "    }\n",
       "\n",
       "    rubberband.mousedown('button_press', mouse_event_fn);\n",
       "    rubberband.mouseup('button_release', mouse_event_fn);\n",
       "    // Throttle sequential mouse events to 1 every 20ms.\n",
       "    rubberband.mousemove('motion_notify', mouse_event_fn);\n",
       "\n",
       "    rubberband.mouseenter('figure_enter', mouse_event_fn);\n",
       "    rubberband.mouseleave('figure_leave', mouse_event_fn);\n",
       "\n",
       "    canvas_div.on(\"wheel\", function (event) {\n",
       "        event = event.originalEvent;\n",
       "        event['data'] = 'scroll'\n",
       "        if (event.deltaY < 0) {\n",
       "            event.step = 1;\n",
       "        } else {\n",
       "            event.step = -1;\n",
       "        }\n",
       "        mouse_event_fn(event);\n",
       "    });\n",
       "\n",
       "    canvas_div.append(canvas);\n",
       "    canvas_div.append(rubberband);\n",
       "\n",
       "    this.rubberband = rubberband;\n",
       "    this.rubberband_canvas = rubberband[0];\n",
       "    this.rubberband_context = rubberband[0].getContext(\"2d\");\n",
       "    this.rubberband_context.strokeStyle = \"#000000\";\n",
       "\n",
       "    this._resize_canvas = function(width, height) {\n",
       "        // Keep the size of the canvas, canvas container, and rubber band\n",
       "        // canvas in synch.\n",
       "        canvas_div.css('width', width)\n",
       "        canvas_div.css('height', height)\n",
       "\n",
       "        canvas.attr('width', width * mpl.ratio);\n",
       "        canvas.attr('height', height * mpl.ratio);\n",
       "        canvas.attr('style', 'width: ' + width + 'px; height: ' + height + 'px;');\n",
       "\n",
       "        rubberband.attr('width', width);\n",
       "        rubberband.attr('height', height);\n",
       "    }\n",
       "\n",
       "    // Set the figure to an initial 600x600px, this will subsequently be updated\n",
       "    // upon first draw.\n",
       "    this._resize_canvas(600, 600);\n",
       "\n",
       "    // Disable right mouse context menu.\n",
       "    $(this.rubberband_canvas).bind(\"contextmenu\",function(e){\n",
       "        return false;\n",
       "    });\n",
       "\n",
       "    function set_focus () {\n",
       "        canvas.focus();\n",
       "        canvas_div.focus();\n",
       "    }\n",
       "\n",
       "    window.setTimeout(set_focus, 100);\n",
       "}\n",
       "\n",
       "mpl.figure.prototype._init_toolbar = function() {\n",
       "    var fig = this;\n",
       "\n",
       "    var nav_element = $('<div/>')\n",
       "    nav_element.attr('style', 'width: 100%');\n",
       "    this.root.append(nav_element);\n",
       "\n",
       "    // Define a callback function for later on.\n",
       "    function toolbar_event(event) {\n",
       "        return fig.toolbar_button_onclick(event['data']);\n",
       "    }\n",
       "    function toolbar_mouse_event(event) {\n",
       "        return fig.toolbar_button_onmouseover(event['data']);\n",
       "    }\n",
       "\n",
       "    for(var toolbar_ind in mpl.toolbar_items) {\n",
       "        var name = mpl.toolbar_items[toolbar_ind][0];\n",
       "        var tooltip = mpl.toolbar_items[toolbar_ind][1];\n",
       "        var image = mpl.toolbar_items[toolbar_ind][2];\n",
       "        var method_name = mpl.toolbar_items[toolbar_ind][3];\n",
       "\n",
       "        if (!name) {\n",
       "            // put a spacer in here.\n",
       "            continue;\n",
       "        }\n",
       "        var button = $('<button/>');\n",
       "        button.addClass('ui-button ui-widget ui-state-default ui-corner-all ' +\n",
       "                        'ui-button-icon-only');\n",
       "        button.attr('role', 'button');\n",
       "        button.attr('aria-disabled', 'false');\n",
       "        button.click(method_name, toolbar_event);\n",
       "        button.mouseover(tooltip, toolbar_mouse_event);\n",
       "\n",
       "        var icon_img = $('<span/>');\n",
       "        icon_img.addClass('ui-button-icon-primary ui-icon');\n",
       "        icon_img.addClass(image);\n",
       "        icon_img.addClass('ui-corner-all');\n",
       "\n",
       "        var tooltip_span = $('<span/>');\n",
       "        tooltip_span.addClass('ui-button-text');\n",
       "        tooltip_span.html(tooltip);\n",
       "\n",
       "        button.append(icon_img);\n",
       "        button.append(tooltip_span);\n",
       "\n",
       "        nav_element.append(button);\n",
       "    }\n",
       "\n",
       "    var fmt_picker_span = $('<span/>');\n",
       "\n",
       "    var fmt_picker = $('<select/>');\n",
       "    fmt_picker.addClass('mpl-toolbar-option ui-widget ui-widget-content');\n",
       "    fmt_picker_span.append(fmt_picker);\n",
       "    nav_element.append(fmt_picker_span);\n",
       "    this.format_dropdown = fmt_picker[0];\n",
       "\n",
       "    for (var ind in mpl.extensions) {\n",
       "        var fmt = mpl.extensions[ind];\n",
       "        var option = $(\n",
       "            '<option/>', {selected: fmt === mpl.default_extension}).html(fmt);\n",
       "        fmt_picker.append(option)\n",
       "    }\n",
       "\n",
       "    // Add hover states to the ui-buttons\n",
       "    $( \".ui-button\" ).hover(\n",
       "        function() { $(this).addClass(\"ui-state-hover\");},\n",
       "        function() { $(this).removeClass(\"ui-state-hover\");}\n",
       "    );\n",
       "\n",
       "    var status_bar = $('<span class=\"mpl-message\"/>');\n",
       "    nav_element.append(status_bar);\n",
       "    this.message = status_bar[0];\n",
       "}\n",
       "\n",
       "mpl.figure.prototype.request_resize = function(x_pixels, y_pixels) {\n",
       "    // Request matplotlib to resize the figure. Matplotlib will then trigger a resize in the client,\n",
       "    // which will in turn request a refresh of the image.\n",
       "    this.send_message('resize', {'width': x_pixels, 'height': y_pixels});\n",
       "}\n",
       "\n",
       "mpl.figure.prototype.send_message = function(type, properties) {\n",
       "    properties['type'] = type;\n",
       "    properties['figure_id'] = this.id;\n",
       "    this.ws.send(JSON.stringify(properties));\n",
       "}\n",
       "\n",
       "mpl.figure.prototype.send_draw_message = function() {\n",
       "    if (!this.waiting) {\n",
       "        this.waiting = true;\n",
       "        this.ws.send(JSON.stringify({type: \"draw\", figure_id: this.id}));\n",
       "    }\n",
       "}\n",
       "\n",
       "\n",
       "mpl.figure.prototype.handle_save = function(fig, msg) {\n",
       "    var format_dropdown = fig.format_dropdown;\n",
       "    var format = format_dropdown.options[format_dropdown.selectedIndex].value;\n",
       "    fig.ondownload(fig, format);\n",
       "}\n",
       "\n",
       "\n",
       "mpl.figure.prototype.handle_resize = function(fig, msg) {\n",
       "    var size = msg['size'];\n",
       "    if (size[0] != fig.canvas.width || size[1] != fig.canvas.height) {\n",
       "        fig._resize_canvas(size[0], size[1]);\n",
       "        fig.send_message(\"refresh\", {});\n",
       "    };\n",
       "}\n",
       "\n",
       "mpl.figure.prototype.handle_rubberband = function(fig, msg) {\n",
       "    var x0 = msg['x0'] / mpl.ratio;\n",
       "    var y0 = (fig.canvas.height - msg['y0']) / mpl.ratio;\n",
       "    var x1 = msg['x1'] / mpl.ratio;\n",
       "    var y1 = (fig.canvas.height - msg['y1']) / mpl.ratio;\n",
       "    x0 = Math.floor(x0) + 0.5;\n",
       "    y0 = Math.floor(y0) + 0.5;\n",
       "    x1 = Math.floor(x1) + 0.5;\n",
       "    y1 = Math.floor(y1) + 0.5;\n",
       "    var min_x = Math.min(x0, x1);\n",
       "    var min_y = Math.min(y0, y1);\n",
       "    var width = Math.abs(x1 - x0);\n",
       "    var height = Math.abs(y1 - y0);\n",
       "\n",
       "    fig.rubberband_context.clearRect(\n",
       "        0, 0, fig.canvas.width, fig.canvas.height);\n",
       "\n",
       "    fig.rubberband_context.strokeRect(min_x, min_y, width, height);\n",
       "}\n",
       "\n",
       "mpl.figure.prototype.handle_figure_label = function(fig, msg) {\n",
       "    // Updates the figure title.\n",
       "    fig.header.textContent = msg['label'];\n",
       "}\n",
       "\n",
       "mpl.figure.prototype.handle_cursor = function(fig, msg) {\n",
       "    var cursor = msg['cursor'];\n",
       "    switch(cursor)\n",
       "    {\n",
       "    case 0:\n",
       "        cursor = 'pointer';\n",
       "        break;\n",
       "    case 1:\n",
       "        cursor = 'default';\n",
       "        break;\n",
       "    case 2:\n",
       "        cursor = 'crosshair';\n",
       "        break;\n",
       "    case 3:\n",
       "        cursor = 'move';\n",
       "        break;\n",
       "    }\n",
       "    fig.rubberband_canvas.style.cursor = cursor;\n",
       "}\n",
       "\n",
       "mpl.figure.prototype.handle_message = function(fig, msg) {\n",
       "    fig.message.textContent = msg['message'];\n",
       "}\n",
       "\n",
       "mpl.figure.prototype.handle_draw = function(fig, msg) {\n",
       "    // Request the server to send over a new figure.\n",
       "    fig.send_draw_message();\n",
       "}\n",
       "\n",
       "mpl.figure.prototype.handle_image_mode = function(fig, msg) {\n",
       "    fig.image_mode = msg['mode'];\n",
       "}\n",
       "\n",
       "mpl.figure.prototype.updated_canvas_event = function() {\n",
       "    // Called whenever the canvas gets updated.\n",
       "    this.send_message(\"ack\", {});\n",
       "}\n",
       "\n",
       "// A function to construct a web socket function for onmessage handling.\n",
       "// Called in the figure constructor.\n",
       "mpl.figure.prototype._make_on_message_function = function(fig) {\n",
       "    return function socket_on_message(evt) {\n",
       "        if (evt.data instanceof Blob) {\n",
       "            /* FIXME: We get \"Resource interpreted as Image but\n",
       "             * transferred with MIME type text/plain:\" errors on\n",
       "             * Chrome.  But how to set the MIME type?  It doesn't seem\n",
       "             * to be part of the websocket stream */\n",
       "            evt.data.type = \"image/png\";\n",
       "\n",
       "            /* Free the memory for the previous frames */\n",
       "            if (fig.imageObj.src) {\n",
       "                (window.URL || window.webkitURL).revokeObjectURL(\n",
       "                    fig.imageObj.src);\n",
       "            }\n",
       "\n",
       "            fig.imageObj.src = (window.URL || window.webkitURL).createObjectURL(\n",
       "                evt.data);\n",
       "            fig.updated_canvas_event();\n",
       "            fig.waiting = false;\n",
       "            return;\n",
       "        }\n",
       "        else if (typeof evt.data === 'string' && evt.data.slice(0, 21) == \"data:image/png;base64\") {\n",
       "            fig.imageObj.src = evt.data;\n",
       "            fig.updated_canvas_event();\n",
       "            fig.waiting = false;\n",
       "            return;\n",
       "        }\n",
       "\n",
       "        var msg = JSON.parse(evt.data);\n",
       "        var msg_type = msg['type'];\n",
       "\n",
       "        // Call the  \"handle_{type}\" callback, which takes\n",
       "        // the figure and JSON message as its only arguments.\n",
       "        try {\n",
       "            var callback = fig[\"handle_\" + msg_type];\n",
       "        } catch (e) {\n",
       "            console.log(\"No handler for the '\" + msg_type + \"' message type: \", msg);\n",
       "            return;\n",
       "        }\n",
       "\n",
       "        if (callback) {\n",
       "            try {\n",
       "                // console.log(\"Handling '\" + msg_type + \"' message: \", msg);\n",
       "                callback(fig, msg);\n",
       "            } catch (e) {\n",
       "                console.log(\"Exception inside the 'handler_\" + msg_type + \"' callback:\", e, e.stack, msg);\n",
       "            }\n",
       "        }\n",
       "    };\n",
       "}\n",
       "\n",
       "// from http://stackoverflow.com/questions/1114465/getting-mouse-location-in-canvas\n",
       "mpl.findpos = function(e) {\n",
       "    //this section is from http://www.quirksmode.org/js/events_properties.html\n",
       "    var targ;\n",
       "    if (!e)\n",
       "        e = window.event;\n",
       "    if (e.target)\n",
       "        targ = e.target;\n",
       "    else if (e.srcElement)\n",
       "        targ = e.srcElement;\n",
       "    if (targ.nodeType == 3) // defeat Safari bug\n",
       "        targ = targ.parentNode;\n",
       "\n",
       "    // jQuery normalizes the pageX and pageY\n",
       "    // pageX,Y are the mouse positions relative to the document\n",
       "    // offset() returns the position of the element relative to the document\n",
       "    var x = e.pageX - $(targ).offset().left;\n",
       "    var y = e.pageY - $(targ).offset().top;\n",
       "\n",
       "    return {\"x\": x, \"y\": y};\n",
       "};\n",
       "\n",
       "/*\n",
       " * return a copy of an object with only non-object keys\n",
       " * we need this to avoid circular references\n",
       " * http://stackoverflow.com/a/24161582/3208463\n",
       " */\n",
       "function simpleKeys (original) {\n",
       "  return Object.keys(original).reduce(function (obj, key) {\n",
       "    if (typeof original[key] !== 'object')\n",
       "        obj[key] = original[key]\n",
       "    return obj;\n",
       "  }, {});\n",
       "}\n",
       "\n",
       "mpl.figure.prototype.mouse_event = function(event, name) {\n",
       "    var canvas_pos = mpl.findpos(event)\n",
       "\n",
       "    if (name === 'button_press')\n",
       "    {\n",
       "        this.canvas.focus();\n",
       "        this.canvas_div.focus();\n",
       "    }\n",
       "\n",
       "    var x = canvas_pos.x * mpl.ratio;\n",
       "    var y = canvas_pos.y * mpl.ratio;\n",
       "\n",
       "    this.send_message(name, {x: x, y: y, button: event.button,\n",
       "                             step: event.step,\n",
       "                             guiEvent: simpleKeys(event)});\n",
       "\n",
       "    /* This prevents the web browser from automatically changing to\n",
       "     * the text insertion cursor when the button is pressed.  We want\n",
       "     * to control all of the cursor setting manually through the\n",
       "     * 'cursor' event from matplotlib */\n",
       "    event.preventDefault();\n",
       "    return false;\n",
       "}\n",
       "\n",
       "mpl.figure.prototype._key_event_extra = function(event, name) {\n",
       "    // Handle any extra behaviour associated with a key event\n",
       "}\n",
       "\n",
       "mpl.figure.prototype.key_event = function(event, name) {\n",
       "\n",
       "    // Prevent repeat events\n",
       "    if (name == 'key_press')\n",
       "    {\n",
       "        if (event.which === this._key)\n",
       "            return;\n",
       "        else\n",
       "            this._key = event.which;\n",
       "    }\n",
       "    if (name == 'key_release')\n",
       "        this._key = null;\n",
       "\n",
       "    var value = '';\n",
       "    if (event.ctrlKey && event.which != 17)\n",
       "        value += \"ctrl+\";\n",
       "    if (event.altKey && event.which != 18)\n",
       "        value += \"alt+\";\n",
       "    if (event.shiftKey && event.which != 16)\n",
       "        value += \"shift+\";\n",
       "\n",
       "    value += 'k';\n",
       "    value += event.which.toString();\n",
       "\n",
       "    this._key_event_extra(event, name);\n",
       "\n",
       "    this.send_message(name, {key: value,\n",
       "                             guiEvent: simpleKeys(event)});\n",
       "    return false;\n",
       "}\n",
       "\n",
       "mpl.figure.prototype.toolbar_button_onclick = function(name) {\n",
       "    if (name == 'download') {\n",
       "        this.handle_save(this, null);\n",
       "    } else {\n",
       "        this.send_message(\"toolbar_button\", {name: name});\n",
       "    }\n",
       "};\n",
       "\n",
       "mpl.figure.prototype.toolbar_button_onmouseover = function(tooltip) {\n",
       "    this.message.textContent = tooltip;\n",
       "};\n",
       "mpl.toolbar_items = [[\"Home\", \"Reset original view\", \"fa fa-home icon-home\", \"home\"], [\"Back\", \"Back to  previous view\", \"fa fa-arrow-left icon-arrow-left\", \"back\"], [\"Forward\", \"Forward to next view\", \"fa fa-arrow-right icon-arrow-right\", \"forward\"], [\"\", \"\", \"\", \"\"], [\"Pan\", \"Pan axes with left mouse, zoom with right\", \"fa fa-arrows icon-move\", \"pan\"], [\"Zoom\", \"Zoom to rectangle\", \"fa fa-square-o icon-check-empty\", \"zoom\"], [\"\", \"\", \"\", \"\"], [\"Download\", \"Download plot\", \"fa fa-floppy-o icon-save\", \"download\"]];\n",
       "\n",
       "mpl.extensions = [\"eps\", \"jpeg\", \"pdf\", \"png\", \"ps\", \"raw\", \"svg\", \"tif\"];\n",
       "\n",
       "mpl.default_extension = \"png\";var comm_websocket_adapter = function(comm) {\n",
       "    // Create a \"websocket\"-like object which calls the given IPython comm\n",
       "    // object with the appropriate methods. Currently this is a non binary\n",
       "    // socket, so there is still some room for performance tuning.\n",
       "    var ws = {};\n",
       "\n",
       "    ws.close = function() {\n",
       "        comm.close()\n",
       "    };\n",
       "    ws.send = function(m) {\n",
       "        //console.log('sending', m);\n",
       "        comm.send(m);\n",
       "    };\n",
       "    // Register the callback with on_msg.\n",
       "    comm.on_msg(function(msg) {\n",
       "        //console.log('receiving', msg['content']['data'], msg);\n",
       "        // Pass the mpl event to the overriden (by mpl) onmessage function.\n",
       "        ws.onmessage(msg['content']['data'])\n",
       "    });\n",
       "    return ws;\n",
       "}\n",
       "\n",
       "mpl.mpl_figure_comm = function(comm, msg) {\n",
       "    // This is the function which gets called when the mpl process\n",
       "    // starts-up an IPython Comm through the \"matplotlib\" channel.\n",
       "\n",
       "    var id = msg.content.data.id;\n",
       "    // Get hold of the div created by the display call when the Comm\n",
       "    // socket was opened in Python.\n",
       "    var element = $(\"#\" + id);\n",
       "    var ws_proxy = comm_websocket_adapter(comm)\n",
       "\n",
       "    function ondownload(figure, format) {\n",
       "        window.open(figure.imageObj.src);\n",
       "    }\n",
       "\n",
       "    var fig = new mpl.figure(id, ws_proxy,\n",
       "                           ondownload,\n",
       "                           element.get(0));\n",
       "\n",
       "    // Call onopen now - mpl needs it, as it is assuming we've passed it a real\n",
       "    // web socket which is closed, not our websocket->open comm proxy.\n",
       "    ws_proxy.onopen();\n",
       "\n",
       "    fig.parent_element = element.get(0);\n",
       "    fig.cell_info = mpl.find_output_cell(\"<div id='\" + id + \"'></div>\");\n",
       "    if (!fig.cell_info) {\n",
       "        console.error(\"Failed to find cell for figure\", id, fig);\n",
       "        return;\n",
       "    }\n",
       "\n",
       "    var output_index = fig.cell_info[2]\n",
       "    var cell = fig.cell_info[0];\n",
       "\n",
       "};\n",
       "\n",
       "mpl.figure.prototype.handle_close = function(fig, msg) {\n",
       "    var width = fig.canvas.width/mpl.ratio\n",
       "    fig.root.unbind('remove')\n",
       "\n",
       "    // Update the output cell to use the data from the current canvas.\n",
       "    fig.push_to_output();\n",
       "    var dataURL = fig.canvas.toDataURL();\n",
       "    // Re-enable the keyboard manager in IPython - without this line, in FF,\n",
       "    // the notebook keyboard shortcuts fail.\n",
       "    IPython.keyboard_manager.enable()\n",
       "    $(fig.parent_element).html('<img src=\"' + dataURL + '\" width=\"' + width + '\">');\n",
       "    fig.close_ws(fig, msg);\n",
       "}\n",
       "\n",
       "mpl.figure.prototype.close_ws = function(fig, msg){\n",
       "    fig.send_message('closing', msg);\n",
       "    // fig.ws.close()\n",
       "}\n",
       "\n",
       "mpl.figure.prototype.push_to_output = function(remove_interactive) {\n",
       "    // Turn the data on the canvas into data in the output cell.\n",
       "    var width = this.canvas.width/mpl.ratio\n",
       "    var dataURL = this.canvas.toDataURL();\n",
       "    this.cell_info[1]['text/html'] = '<img src=\"' + dataURL + '\" width=\"' + width + '\">';\n",
       "}\n",
       "\n",
       "mpl.figure.prototype.updated_canvas_event = function() {\n",
       "    // Tell IPython that the notebook contents must change.\n",
       "    IPython.notebook.set_dirty(true);\n",
       "    this.send_message(\"ack\", {});\n",
       "    var fig = this;\n",
       "    // Wait a second, then push the new image to the DOM so\n",
       "    // that it is saved nicely (might be nice to debounce this).\n",
       "    setTimeout(function () { fig.push_to_output() }, 1000);\n",
       "}\n",
       "\n",
       "mpl.figure.prototype._init_toolbar = function() {\n",
       "    var fig = this;\n",
       "\n",
       "    var nav_element = $('<div/>')\n",
       "    nav_element.attr('style', 'width: 100%');\n",
       "    this.root.append(nav_element);\n",
       "\n",
       "    // Define a callback function for later on.\n",
       "    function toolbar_event(event) {\n",
       "        return fig.toolbar_button_onclick(event['data']);\n",
       "    }\n",
       "    function toolbar_mouse_event(event) {\n",
       "        return fig.toolbar_button_onmouseover(event['data']);\n",
       "    }\n",
       "\n",
       "    for(var toolbar_ind in mpl.toolbar_items){\n",
       "        var name = mpl.toolbar_items[toolbar_ind][0];\n",
       "        var tooltip = mpl.toolbar_items[toolbar_ind][1];\n",
       "        var image = mpl.toolbar_items[toolbar_ind][2];\n",
       "        var method_name = mpl.toolbar_items[toolbar_ind][3];\n",
       "\n",
       "        if (!name) { continue; };\n",
       "\n",
       "        var button = $('<button class=\"btn btn-default\" href=\"#\" title=\"' + name + '\"><i class=\"fa ' + image + ' fa-lg\"></i></button>');\n",
       "        button.click(method_name, toolbar_event);\n",
       "        button.mouseover(tooltip, toolbar_mouse_event);\n",
       "        nav_element.append(button);\n",
       "    }\n",
       "\n",
       "    // Add the status bar.\n",
       "    var status_bar = $('<span class=\"mpl-message\" style=\"text-align:right; float: right;\"/>');\n",
       "    nav_element.append(status_bar);\n",
       "    this.message = status_bar[0];\n",
       "\n",
       "    // Add the close button to the window.\n",
       "    var buttongrp = $('<div class=\"btn-group inline pull-right\"></div>');\n",
       "    var button = $('<button class=\"btn btn-mini btn-primary\" href=\"#\" title=\"Stop Interaction\"><i class=\"fa fa-power-off icon-remove icon-large\"></i></button>');\n",
       "    button.click(function (evt) { fig.handle_close(fig, {}); } );\n",
       "    button.mouseover('Stop Interaction', toolbar_mouse_event);\n",
       "    buttongrp.append(button);\n",
       "    var titlebar = this.root.find($('.ui-dialog-titlebar'));\n",
       "    titlebar.prepend(buttongrp);\n",
       "}\n",
       "\n",
       "mpl.figure.prototype._root_extra_style = function(el){\n",
       "    var fig = this\n",
       "    el.on(\"remove\", function(){\n",
       "\tfig.close_ws(fig, {});\n",
       "    });\n",
       "}\n",
       "\n",
       "mpl.figure.prototype._canvas_extra_style = function(el){\n",
       "    // this is important to make the div 'focusable\n",
       "    el.attr('tabindex', 0)\n",
       "    // reach out to IPython and tell the keyboard manager to turn it's self\n",
       "    // off when our div gets focus\n",
       "\n",
       "    // location in version 3\n",
       "    if (IPython.notebook.keyboard_manager) {\n",
       "        IPython.notebook.keyboard_manager.register_events(el);\n",
       "    }\n",
       "    else {\n",
       "        // location in version 2\n",
       "        IPython.keyboard_manager.register_events(el);\n",
       "    }\n",
       "\n",
       "}\n",
       "\n",
       "mpl.figure.prototype._key_event_extra = function(event, name) {\n",
       "    var manager = IPython.notebook.keyboard_manager;\n",
       "    if (!manager)\n",
       "        manager = IPython.keyboard_manager;\n",
       "\n",
       "    // Check for shift+enter\n",
       "    if (event.shiftKey && event.which == 13) {\n",
       "        this.canvas_div.blur();\n",
       "        // select the cell after this one\n",
       "        var index = IPython.notebook.find_cell_index(this.cell_info[0]);\n",
       "        IPython.notebook.select(index + 1);\n",
       "    }\n",
       "}\n",
       "\n",
       "mpl.figure.prototype.handle_save = function(fig, msg) {\n",
       "    fig.ondownload(fig, null);\n",
       "}\n",
       "\n",
       "\n",
       "mpl.find_output_cell = function(html_output) {\n",
       "    // Return the cell and output element which can be found *uniquely* in the notebook.\n",
       "    // Note - this is a bit hacky, but it is done because the \"notebook_saving.Notebook\"\n",
       "    // IPython event is triggered only after the cells have been serialised, which for\n",
       "    // our purposes (turning an active figure into a static one), is too late.\n",
       "    var cells = IPython.notebook.get_cells();\n",
       "    var ncells = cells.length;\n",
       "    for (var i=0; i<ncells; i++) {\n",
       "        var cell = cells[i];\n",
       "        if (cell.cell_type === 'code'){\n",
       "            for (var j=0; j<cell.output_area.outputs.length; j++) {\n",
       "                var data = cell.output_area.outputs[j];\n",
       "                if (data.data) {\n",
       "                    // IPython >= 3 moved mimebundle to data attribute of output\n",
       "                    data = data.data;\n",
       "                }\n",
       "                if (data['text/html'] == html_output) {\n",
       "                    return [cell, data, j];\n",
       "                }\n",
       "            }\n",
       "        }\n",
       "    }\n",
       "}\n",
       "\n",
       "// Register the function which deals with the matplotlib target/channel.\n",
       "// The kernel may be null if the page has been refreshed.\n",
       "if (IPython.notebook.kernel != null) {\n",
       "    IPython.notebook.kernel.comm_manager.register_target('matplotlib', mpl.mpl_figure_comm);\n",
       "}\n"
      ],
      "text/plain": [
       "<IPython.core.display.Javascript object>"
      ]
     },
     "metadata": {},
     "output_type": "display_data"
    },
    {
     "data": {
      "text/html": [
       "<img src=\"data:image/png;base64,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\" width=\"640\">"
      ],
      "text/plain": [
       "<IPython.core.display.HTML object>"
      ]
     },
     "metadata": {},
     "output_type": "display_data"
    },
    {
     "data": {
      "text/plain": [
       "[<matplotlib.lines.Line2D at 0x3ebf3940>]"
      ]
     },
     "execution_count": 151,
     "metadata": {},
     "output_type": "execute_result"
    }
   ],
   "source": [
    "%matplotlib notebook\n",
    "t=h['raw_data/event'][h['traces'][5]]\n",
    "tr=Trace(t)\n",
    "print(tr.flags,'\\n',tr.trace_flags)\n",
    "plt.plot(tr.samples)"
   ]
  },
  {
   "cell_type": "code",
   "execution_count": null,
   "metadata": {
    "collapsed": false
   },
   "outputs": [],
   "source": [
    "tr"
   ]
  },
  {
   "cell_type": "code",
   "execution_count": null,
   "metadata": {
    "collapsed": false
   },
   "outputs": [],
   "source": [
    "s=str(tr.flags)\n",
    "s"
   ]
  },
  {
   "cell_type": "code",
   "execution_count": null,
   "metadata": {
    "collapsed": false
   },
   "outputs": [],
   "source": [
    "print(s)"
   ]
  },
  {
   "cell_type": "code",
   "execution_count": null,
   "metadata": {
    "collapsed": false
   },
   "outputs": [],
   "source": [
    "type(h['raw_data/event'][h['traces'][0]])"
   ]
  },
  {
   "cell_type": "code",
   "execution_count": null,
   "metadata": {
    "collapsed": true
   },
   "outputs": [],
   "source": [
    "from tes.hdf5 import Trace"
   ]
  },
  {
   "cell_type": "code",
   "execution_count": null,
   "metadata": {
    "collapsed": false
   },
   "outputs": [],
   "source": [
    "tr.flags"
   ]
  },
  {
   "cell_type": "code",
   "execution_count": null,
   "metadata": {
    "collapsed": false
   },
   "outputs": [],
   "source": [
    "tr.trace_flags"
   ]
  },
  {
   "cell_type": "code",
   "execution_count": null,
   "metadata": {
    "collapsed": false
   },
   "outputs": [],
   "source": [
    "%matplotlib notebook\n",
    "plt.plot(tr.samples)"
   ]
  },
  {
   "cell_type": "code",
   "execution_count": null,
   "metadata": {
    "collapsed": false
   },
   "outputs": [],
   "source": [
    "len(tr.samples)"
   ]
  },
  {
   "cell_type": "code",
   "execution_count": null,
   "metadata": {
    "collapsed": false
   },
   "outputs": [],
   "source": [
    "first_dt = np.dtype([('size', np.uint16), ('tflags0', np.uint8), ('tflags1', np.uint8),\n",
    "        ('flags0', np.uint8), ('flags1', np.uint8), ('time', np.uint16)])\n",
    "\n"
   ]
  },
  {
   "cell_type": "code",
   "execution_count": null,
   "metadata": {
    "collapsed": false
   },
   "outputs": [],
   "source": []
  },
  {
   "cell_type": "code",
   "execution_count": null,
   "metadata": {
    "collapsed": false
   },
   "outputs": [],
   "source": [
    "t[0:8].view(first_dt)"
   ]
  },
  {
   "cell_type": "code",
   "execution_count": null,
   "metadata": {
    "collapsed": true
   },
   "outputs": [],
   "source": []
  },
  {
   "cell_type": "code",
   "execution_count": null,
   "metadata": {
    "collapsed": false
   },
   "outputs": [],
   "source": [
    "_rref = h5py.special_dtype(ref=h5py.RegionReference)\n",
    "h=h5py.File('test.hdf5', 'w')"
   ]
  },
  {
   "cell_type": "code",
   "execution_count": null,
   "metadata": {
    "collapsed": false
   },
   "outputs": [],
   "source": [
    "h.close()"
   ]
  },
  {
   "cell_type": "code",
   "execution_count": null,
   "metadata": {
    "collapsed": false
   },
   "outputs": [],
   "source": [
    "t= np.array((10,),'u1')\n",
    "h.create_dataset('t',(10,),dtype='u1')"
   ]
  },
  {
   "cell_type": "code",
   "execution_count": null,
   "metadata": {
    "collapsed": false
   },
   "outputs": [],
   "source": [
    "h.create_dataset('r',(10,),dtype=_rref)"
   ]
  },
  {
   "cell_type": "code",
   "execution_count": null,
   "metadata": {
    "collapsed": false
   },
   "outputs": [],
   "source": [
    "h.create_dataset('s',(10,),dtype='u1')"
   ]
  },
  {
   "cell_type": "code",
   "execution_count": null,
   "metadata": {
    "collapsed": true
   },
   "outputs": [],
   "source": [
    "h['s'][0]=0\n",
    "h['s'][1]=1"
   ]
  },
  {
   "cell_type": "code",
   "execution_count": null,
   "metadata": {
    "collapsed": false
   },
   "outputs": [],
   "source": [
    "h['r'][0]=h['t'].regionref[0:2]"
   ]
  },
  {
   "cell_type": "code",
   "execution_count": null,
   "metadata": {
    "collapsed": true
   },
   "outputs": [],
   "source": [
    "r=h['r'][0]"
   ]
  },
  {
   "cell_type": "code",
   "execution_count": null,
   "metadata": {
    "collapsed": false
   },
   "outputs": [],
   "source": [
    "t= np.array([0,1,2],'u1')"
   ]
  },
  {
   "cell_type": "code",
   "execution_count": null,
   "metadata": {
    "collapsed": false
   },
   "outputs": [],
   "source": [
    "t = [0,1]\n",
    "\n",
    "f = np.uint64(0)\n",
    "print(type(f))\n",
    "f += len(t)\n",
    "print(type(f))"
   ]
  },
  {
   "cell_type": "code",
   "execution_count": null,
   "metadata": {
    "collapsed": false
   },
   "outputs": [],
   "source": [
    "t[0:1][0]"
   ]
  },
  {
   "cell_type": "code",
   "execution_count": null,
   "metadata": {
    "collapsed": false
   },
   "outputs": [],
   "source": [
    "i=0\n",
    "for p in packets:\n",
    "    if i==7:\n",
    "        break\n",
    "    i+=1"
   ]
  },
  {
   "cell_type": "code",
   "execution_count": null,
   "metadata": {
    "collapsed": false
   },
   "outputs": [],
   "source": [
    "p"
   ]
  },
  {
   "cell_type": "code",
   "execution_count": null,
   "metadata": {
    "collapsed": true
   },
   "outputs": [],
   "source": [
    "lasts = np.where(stream['last'] < 0)[0] + 1"
   ]
  },
  {
   "cell_type": "code",
   "execution_count": null,
   "metadata": {
    "collapsed": false
   },
   "outputs": [],
   "source": [
    "lasts"
   ]
  },
  {
   "cell_type": "code",
   "execution_count": null,
   "metadata": {
    "collapsed": false
   },
   "outputs": [],
   "source": [
    "'last' in stream.dtype.names"
   ]
  },
  {
   "cell_type": "code",
   "execution_count": null,
   "metadata": {
    "collapsed": false
   },
   "outputs": [],
   "source": [
    "isinstance(stream,np.ndarray)"
   ]
  },
  {
   "cell_type": "code",
   "execution_count": null,
   "metadata": {
    "collapsed": false
   },
   "outputs": [],
   "source": [
    "type('poo')"
   ]
  },
  {
   "cell_type": "code",
   "execution_count": null,
   "metadata": {
    "collapsed": false
   },
   "outputs": [],
   "source": [
    "stream[lasts[0]:]"
   ]
  },
  {
   "cell_type": "code",
   "execution_count": null,
   "metadata": {
    "collapsed": false
   },
   "outputs": [],
   "source": [
    "ps=PacketStream(stream)\n",
    "# ps.traces"
   ]
  },
  {
   "cell_type": "code",
   "execution_count": null,
   "metadata": {
    "collapsed": false
   },
   "outputs": [],
   "source": [
    "type(ps[0])"
   ]
  },
  {
   "cell_type": "code",
   "execution_count": null,
   "metadata": {
    "collapsed": false
   },
   "outputs": [],
   "source": [
    "sum(stream['last']<0)"
   ]
  },
  {
   "cell_type": "code",
   "execution_count": null,
   "metadata": {
    "collapsed": false
   },
   "outputs": [],
   "source": [
    "%matplotlib notebook\n",
    "\n",
    "plt.plot(ps.traces[3]._view['trace'])\n",
    "# ps.traces[2]._view['trace'][-20:]"
   ]
  },
  {
   "cell_type": "code",
   "execution_count": null,
   "metadata": {
    "collapsed": false
   },
   "outputs": [],
   "source": [
    "ps.traces"
   ]
  },
  {
   "cell_type": "code",
   "execution_count": null,
   "metadata": {
    "collapsed": false,
    "run_control": {
     "frozen": false,
     "read_only": false
    },
    "scrolled": true
   },
   "outputs": [],
   "source": [
    "traces=Data.fromfile('traces',trace_dt,'teslib','measurement_subsystem_TB',tool='vivado')\n",
    "stream=Data.fromfile('bytestream',stream_dt,'teslib','measurement_subsystem_TB',tool='vivado')\n",
    "bs=PacketStream(stream)\n",
    "dists=bs.distributions\n",
    "#bs.packets\n",
    "dists"
   ]
  },
  {
   "cell_type": "code",
   "execution_count": null,
   "metadata": {
    "collapsed": false
   },
   "outputs": [],
   "source": [
    "d=dists[0]\n",
    "d.counts[-1]"
   ]
  },
  {
   "cell_type": "code",
   "execution_count": null,
   "metadata": {
    "collapsed": false
   },
   "outputs": [],
   "source": [
    "d.total+d.underflow+d.overflow"
   ]
  },
  {
   "cell_type": "code",
   "execution_count": null,
   "metadata": {
    "collapsed": false
   },
   "outputs": [],
   "source": [
    "%matplotlib notebook\n",
    "plt.plot(d.bins)"
   ]
  },
  {
   "cell_type": "code",
   "execution_count": null,
   "metadata": {
    "collapsed": false,
    "scrolled": false
   },
   "outputs": [],
   "source": [
    "f=EventFlags(es[2][2]['flags'])\n",
    "f.channel"
   ]
  },
  {
   "cell_type": "code",
   "execution_count": null,
   "metadata": {
    "collapsed": false,
    "run_control": {
     "frozen": false,
     "read_only": false
    },
    "scrolled": true
   },
   "outputs": [],
   "source": [
    "import tes.mca as mca\n",
    "d=bs.distributions[0]\n",
    "eset=np.uint64(1)\n",
    "bset=np.uint64(0)\n",
    "cset=np.uint64(20)\n",
    "\n",
    "stop=d.stop_time+eset+cset\n",
    "start=d.start_time+bset+cset\n",
    "bins=np.zeros((d.last_bin+1,),dtype=np.uint32)\n",
    "\n",
    "if d.value==mca.Value.raw_signal:\n",
    "    tname='raw'\n",
    "elif d.value==mca.Value.filtered_signal:\n",
    "    tname='filtered'\n",
    "elif d.value==mca.Value.slope_signal:\n",
    "    tname='slope'\n",
    "\n",
    "for i in range(start,stop):\n",
    "    s = traces[tname][i]\n",
    "    if s < d.lowest_value:\n",
    "        bins[0] += 1\n",
    "    else:\n",
    "        bin_number = s - d.lowest_value + 1\n",
    "        if bin_number < d.last_bin:\n",
    "            bins[bin_number] += 1\n",
    "        else:\n",
    "            bins[d.last_bin] += 1\n",
    "        \n",
    "bad=(bins-d.counts).nonzero()\n",
    "bad"
   ]
  },
  {
   "cell_type": "code",
   "execution_count": null,
   "metadata": {
    "collapsed": false
   },
   "outputs": [],
   "source": [
    "d.counts[bad][1:10]"
   ]
  },
  {
   "cell_type": "code",
   "execution_count": null,
   "metadata": {
    "collapsed": false
   },
   "outputs": [],
   "source": [
    "bins[bad][1:10]"
   ]
  },
  {
   "cell_type": "code",
   "execution_count": null,
   "metadata": {
    "collapsed": false
   },
   "outputs": [],
   "source": [
    "d.value"
   ]
  },
  {
   "cell_type": "code",
   "execution_count": null,
   "metadata": {
    "collapsed": false,
    "scrolled": false
   },
   "outputs": [],
   "source": [
    "%matplotlib notebook\n",
    "plt.step(np.arange(len(d.bins)),d.bins)\n",
    "# plt.step(np.arange(len(d.counts)),bins)\n",
    "plt.plot(bad,np.zeros_like(bad),'.k')"
   ]
  },
  {
   "cell_type": "code",
   "execution_count": null,
   "metadata": {
    "collapsed": false
   },
   "outputs": [],
   "source": [
    "sum(d.counts)"
   ]
  },
  {
   "cell_type": "code",
   "execution_count": null,
   "metadata": {
    "collapsed": false
   },
   "outputs": [],
   "source": [
    "2**14+2000"
   ]
  },
  {
   "cell_type": "code",
   "execution_count": null,
   "metadata": {
    "collapsed": false,
    "run_control": {
     "frozen": false,
     "read_only": false
    }
   },
   "outputs": [],
   "source": [
    "def plot_event(event_tupple):\n",
    "    pre=200\n",
    "    post=1000\n",
    "    timestamp=event_tupple[0]\n",
    "    event_type=event_tupple[1]\n",
    "    event=event_tupple[2]\n",
    "    flags=EventFlags(event['flags'])\n",
    "    print(flags)\n",
    "    print('timestamp',timestamp, 'time', event['time'])\n",
    "    if flags.type == Event.tick:\n",
    "        return\n",
    "    s=traces['filtered'][timestamp+20-pre:timestamp+20+post]\n",
    "    r=traces['raw'][timestamp+20-pre:timestamp+20+post]\n",
    "    i = np.where(abs(minmax['clk'])<=timestamp+20)[0][-1]\n",
    "    min_t=abs(minmax['clk'][i])-(timestamp+20)\n",
    "#     print(minmax['clk'][i],min_t,i,timestamp)\n",
    "    plt.plot(r,'k',linewidth=0.5)\n",
    "    plt.plot(s,'b',linewidth=2)\n",
    "    plt.plot([pre],s[pre],'sg')\n",
    "    plt.plot([pre+min_t],minmax['filtered'][i],'sr')\n",
    "    if event_type==Event.pulse:\n",
    "        for i in range(flags.peak_number):\n",
    "            p=event['peaks'][i]\n",
    "            plt.plot([0,len(s)-1],[p['height'],p['height']],':r')\n",
    "    else:\n",
    "      plt.plot([0,len(s)-1],[event['height'],event['height']],':r')\n",
    "        \n",
    "    #print(event['height'],event['minima'])\n",
    "    #print(minmax['filtered'][i]==s[pre+min_t])\n",
    "    #print(minmax['filtered'][i]==event['minima'])\n",
    "    #print(s[pre],s[pre-1])"
   ]
  },
  {
   "cell_type": "code",
   "execution_count": null,
   "metadata": {
    "collapsed": false,
    "run_control": {
     "frozen": false,
     "read_only": false
    }
   },
   "outputs": [],
   "source": [
    "pwd"
   ]
  },
  {
   "cell_type": "code",
   "execution_count": null,
   "metadata": {
    "collapsed": false
   },
   "outputs": [],
   "source": [
    "es=bs.eventstream\n",
    "es"
   ]
  },
  {
   "cell_type": "code",
   "execution_count": null,
   "metadata": {
    "collapsed": false,
    "run_control": {
     "frozen": false,
     "read_only": false
    }
   },
   "outputs": [],
   "source": [
    "%matplotlib notebook\n",
    "for e in es:\n",
    "    if e[1]==Event.peak:\n",
    "        plot_event(e)"
   ]
  },
  {
   "cell_type": "code",
   "execution_count": null,
   "metadata": {
    "collapsed": false,
    "run_control": {
     "frozen": false,
     "read_only": false
    }
   },
   "outputs": [],
   "source": [
    "es"
   ]
  },
  {
   "cell_type": "code",
   "execution_count": null,
   "metadata": {
    "collapsed": false,
    "run_control": {
     "frozen": false,
     "read_only": false
    }
   },
   "outputs": [],
   "source": [
    "dists=bs.distributions\n",
    "dists"
   ]
  },
  {
   "cell_type": "code",
   "execution_count": null,
   "metadata": {
    "collapsed": false,
    "run_control": {
     "frozen": false,
     "read_only": false
    }
   },
   "outputs": [],
   "source": [
    "bs.packets[185].payload"
   ]
  },
  {
   "cell_type": "code",
   "execution_count": null,
   "metadata": {
    "collapsed": false,
    "run_control": {
     "frozen": false,
     "read_only": false
    }
   },
   "outputs": [],
   "source": [
    "d=bs.distributions[0]\n",
    "eset=np.uint64(1)\n",
    "bset=np.uint64(0)\n",
    "cset=np.uint64(20)\n",
    "\n",
    "stop=d.stop_time+eset+cset\n",
    "start=d.start_time+bset+cset\n",
    "bins=np.zeros((d.last_bin+1,),dtype=np.uint32)\n",
    "for i in range(start,stop):\n",
    "    s = traces['raw'][i]\n",
    "    if s <= d.lowest_value:\n",
    "        bins[0] += 1\n",
    "    else:\n",
    "        bins[s-d.lowest_value] += 1\n",
    "        \n",
    "(bins-d.counts).nonzero()"
   ]
  },
  {
   "cell_type": "code",
   "execution_count": null,
   "metadata": {
    "collapsed": false,
    "run_control": {
     "frozen": false,
     "read_only": false
    }
   },
   "outputs": [],
   "source": [
    "%matplotlib notebook\n",
    "plt.step(np.arange(len(d.counts)),d.counts)"
   ]
  },
  {
   "cell_type": "code",
   "execution_count": null,
   "metadata": {
    "collapsed": false,
    "run_control": {
     "frozen": false,
     "read_only": false
    }
   },
   "outputs": [],
   "source": [
    "bins[bins.nonzero()]"
   ]
  },
  {
   "cell_type": "code",
   "execution_count": null,
   "metadata": {
    "collapsed": false,
    "run_control": {
     "frozen": false,
     "read_only": false
    }
   },
   "outputs": [],
   "source": [
    "sum(d.counts)"
   ]
  },
  {
   "cell_type": "code",
   "execution_count": null,
   "metadata": {
    "collapsed": false,
    "run_control": {
     "frozen": false,
     "read_only": false
    }
   },
   "outputs": [],
   "source": [
    "2**14+2000"
   ]
  },
  {
   "cell_type": "code",
   "execution_count": null,
   "metadata": {
    "collapsed": false,
    "run_control": {
     "frozen": false,
     "read_only": false
    }
   },
   "outputs": [],
   "source": [
    "es[3][2]['timestamp']-es[0][2]['timestamp']"
   ]
  },
  {
   "cell_type": "code",
   "execution_count": null,
   "metadata": {
    "collapsed": true,
    "run_control": {
     "frozen": false,
     "read_only": false
    }
   },
   "outputs": [],
   "source": [
    "def xings(s, thresh):\n",
    "    pos=s > thresh\n",
    "    neg=s < thresh\n",
    "    pos0=s >= thresh\n",
    "    neg0=s <= thresh\n",
    "    pos_xing_mask = np.bitwise_and(pos0[1:],neg[0:-1])  \n",
    "    neg_xing_mask = np.bitwise_and(neg0[1:],pos[0:-1])  \n",
    "    return pos_xing_mask.nonzero()[0]+1, neg_xing_mask.nonzero()[0]+1"
   ]
  },
  {
   "cell_type": "code",
   "execution_count": null,
   "metadata": {
    "collapsed": true,
    "run_control": {
     "frozen": false,
     "read_only": false
    }
   },
   "outputs": [],
   "source": [
    "from mpl_toolkits.axes_grid1 import host_subplot\n",
    "\n",
    "def plot_trace(traces,start,width):\n",
    "\n",
    "    ax = host_subplot(111)\n",
    "    axr = ax.twinx()\n",
    "    axt = ax.twiny()\n",
    "#ax.plot(t[0:-1:10],s[0:-1:10],'k')\n",
    "#ax.plot(t,s,'k')\n",
    "    axt.set_xlabel('Time ns',fontsize=18)\n",
    "    ax.set_ylabel('Voltage (Arbitary Units)',fontsize=18)\n",
    "#plt.xticks(visible=False)\n",
    "#plt.yticks(visible=False)\n",
    "#ax.set_xlim(0,t[4000000])\n",
    "#start=902000\n",
    "#width=2500\n",
    "    f=traces['filtered'][start:start+width]\n",
    "    s=traces['slope'][start:start+width]\n",
    "    t=np.arange(len(f))*4e-9\n",
    "#ts=t[pstart:pstop]\n",
    "#axins = fig.add_axes([.4, .45, .45, .4])\n",
    "    ax.set_xlim(t[0],t[-1])\n",
    "    axt.set_xlim(t[0],t[-1])\n",
    "\n",
    "    ylim=(-500,2000)\n",
    "\n",
    "    ax.set_ylim(ylim[0],ylim[1])\n",
    "    axr.set_ylim(ylim[0],ylim[1])\n",
    "\n",
    "    filtered, = ax.step(t,f,'k',lw=2,label='filtered')\n",
    "    slope, = ax.step(t,s,'b',label='slope')\n",
    "    ax.fill_between(t,0,s,alpha=.4)\n",
    "    plt.ylim=ylim\n",
    "\n",
    "pos=s>0\n",
    "neg=s<=0\n",
    "pos_xing_mask = np.bitwise_and(pos[1:-1],neg[0:-2])  \n",
    "neg_xing_mask = np.bitwise_and(neg[1:-1],pos[0:-2])  \n",
    "pos_xing=pos_xing_mask.nonzero()\n",
    "neg_xing=neg_xing_mask.nonzero()\n",
    "\n",
    "rx=[t[pos_xing[0][0]], t[neg_xing[0][0]]]\n",
    "ry=[f[pos_xing[0][0]], f[neg_xing[0][0]]]\n",
    "\n",
    "ax.fill_between(t[pos_xing[0][0]:neg_xing[0][0]],0,s[pos_xing[0][0]:neg_xing[0][0]],alpha=.4,color='r')\n",
    "\n",
    "#plt.plot(rx,[ry[0], ry[0]],'-r',lw=2)\n",
    "#plt.plot([rx[1],rx[1]], ry,'-r',lw=2)\n",
    "# thresholds\n",
    "sthresh = 600\n",
    "pthresh = 1000\n",
    "plt.plot([t[0], t[-1]], [sthresh, sthresh], '--b', lw=2)\n",
    "plt.plot([t[0], t[-1]], [pthresh, pthresh], '--k', lw=2)\n",
    "\n",
    "sthresh_xing=(s>sthresh).nonzero()[0][0]\n",
    "pthresh_xing=(f>pthresh).nonzero()[0][0]\n",
    "\n",
    "\n",
    "cf=.10\n",
    "height = ry[1]-ry[0]\n",
    "cfl=ry[0]+(height*cf)\n",
    "cfh=ry[1]-(height*cf)\n",
    "\n",
    "cfl_xing=(f>cfl).nonzero()[0][0]\n",
    "cfd_low=f[cfl_xing]\n",
    "cfh_xing=(f>cfh).nonzero()[0][0]\n",
    "cfd_high=f[cfh_xing]\n",
    "\n",
    "#plt.plot([t[cfl_xing], t[-1]],[cfd_low, cfd_low], ':r')\n",
    "#plt.plot([t[cfh_xing], t[-1]],[cfd_high, cfd_high], ':r')\n",
    "#plt.plot([x[1], t[-1]],[y[1], y[1]], ':r')\n",
    "plt.legend([filtered, slope],['Signal', 'Slope'],loc=2)\n",
    "\n",
    "#axr = ax.twinx()\n",
    "##################################################################\n",
    "#yticks=([ry[0],sthresh,pthresh,cfd_high,ry[1]])\n",
    "yticks=([sthresh,pthresh])\n",
    "axr.set_yticks(yticks)\n",
    "#yticklabels=['Start','Slope threshold','Pulse threshold','CF high','Peak']\n",
    "yticklabels=['Slope threshold','Pulse threshold']\n",
    "axr.set_yticklabels(yticklabels, color='r',fontsize=14)\n",
    "axr.get_yticklabels()[0].set_color('b')\n",
    "axr.get_yticklabels()[1].set_color('k')\n",
    "\n",
    "#xticks=([rx[0],t[cfl_xing],t[sthresh_xing],t[pthresh_xing],rx[1]])\n",
    "xticks=(t[cfl_xing],rx[1])\n",
    "#ax.set_xticks([rx[0],t[cfl_xing],t[sthresh_xing],t[pthresh_xing],rx[1]])\n",
    "ax.set_xticks(xticks)\n",
    "#xticklabels=['Start','CF low','Slope xing','Signal xing','Peak']\n",
    "xticklabels=['CF low','Peak']\n",
    "ax.set_xticklabels(xticklabels, color='r',fontsize=14)\n",
    "\n",
    "#plt.plot([t[cfh_xing], t[-1]],[cfd_high, cfd_high], ':r')\n",
    "#horoz start, stop lines\n",
    "#hpeak=ax.plot([xticks[1], t[-1]],[yticks[-1], yticks[-1]], '-.r')\n",
    "#hstart=ax.plot([xticks[0], t[-1]],[yticks[0], yticks[0]], '-.r')\n",
    "#vert start stop\n",
    "vstart=ax.plot([xticks[0], xticks[0]],[cfd_low, ylim[0]], '-.r')\n",
    "vpeak=ax.plot([xticks[1], xticks[1]],[ylim[0], ry[1]], '-.r')\n",
    "\n",
    "plt.tight_layout()\n",
    "plt.savefig('..//peakextraction7.svg')\n",
    "plt.show()\n",
    "print('risetime:',(xticks[1]-xticks[0])/4)\n",
    "print('height:',yticks[-1]-yticks[0])\n",
    "print('time:',(xticks[0]-rx[0])/4)\n",
    "print('area',sum(s[pos_xing[0][0]:neg_xing[0][0]])/256)\n"
   ]
  },
  {
   "cell_type": "code",
   "execution_count": null,
   "metadata": {
    "collapsed": true,
    "run_control": {
     "frozen": false,
     "read_only": false
    }
   },
   "outputs": [],
   "source": [
    "slope_0xings = xings(traces['slope'],0)"
   ]
  },
  {
   "cell_type": "code",
   "execution_count": null,
   "metadata": {
    "collapsed": false,
    "run_control": {
     "frozen": false,
     "read_only": false
    }
   },
   "outputs": [],
   "source": [
    "slope_0xings"
   ]
  },
  {
   "cell_type": "code",
   "execution_count": null,
   "metadata": {
    "collapsed": false,
    "run_control": {
     "frozen": false,
     "read_only": false
    }
   },
   "outputs": [],
   "source": [
    "%matplotlib notebook\n",
    "start=10000\n",
    "width=300\n",
    "plt.plot(traces['filtered'][start:start+width]/2)"
   ]
  },
  {
   "cell_type": "code",
   "execution_count": null,
   "metadata": {
    "collapsed": false,
    "run_control": {
     "frozen": false,
     "read_only": false
    }
   },
   "outputs": [],
   "source": [
    "%matplotlib notebook\n",
    "plt.plot(traces['slope'][20400:21700])"
   ]
  },
  {
   "cell_type": "code",
   "execution_count": null,
   "metadata": {
    "collapsed": false,
    "run_control": {
     "frozen": false,
     "read_only": false
    }
   },
   "outputs": [],
   "source": [
    "filtered=traces['filtered'][1100:]\n",
    "filteredL=traces['filteredL'][1100:]"
   ]
  },
  {
   "cell_type": "code",
   "execution_count": null,
   "metadata": {
    "collapsed": false,
    "run_control": {
     "frozen": false,
     "read_only": false
    }
   },
   "outputs": [],
   "source": [
    "filtered[:10]"
   ]
  },
  {
   "cell_type": "code",
   "execution_count": null,
   "metadata": {
    "collapsed": false,
    "run_control": {
     "frozen": false,
     "read_only": false
    }
   },
   "outputs": [],
   "source": [
    "filteredL[:10]/4"
   ]
  },
  {
   "cell_type": "code",
   "execution_count": null,
   "metadata": {
    "collapsed": false,
    "run_control": {
     "frozen": false,
     "read_only": false
    }
   },
   "outputs": [],
   "source": [
    "minmax_dt=np.dtype([('filtered','i4'),('low','i4'),('high','i4'),('clk','i4')])\n",
    "minmax=Data.fromfile('minmax',minmax_dt,'teslib','measurement_subsystem_TB',tool='vivado')\n",
    "fxing_dt=np.dtype([('extrema','i4'),('area','i4'),('clk','i4')])\n",
    "fxing=Data.fromfile('filteredxing',fxing_dt,'teslib','measurement_subsystem_TB',tool='vivado')"
   ]
  },
  {
   "cell_type": "code",
   "execution_count": null,
   "metadata": {
    "collapsed": false,
    "run_control": {
     "frozen": false,
     "read_only": false
    }
   },
   "outputs": [],
   "source": [
    "minmax"
   ]
  },
  {
   "cell_type": "code",
   "execution_count": null,
   "metadata": {
    "collapsed": false,
    "run_control": {
     "frozen": false,
     "read_only": false
    }
   },
   "outputs": [],
   "source": [
    "fxing"
   ]
  },
  {
   "cell_type": "code",
   "execution_count": null,
   "metadata": {
    "collapsed": false,
    "run_control": {
     "frozen": false,
     "read_only": false
    }
   },
   "outputs": [],
   "source": [
    "np.where(fxing['area']==0)"
   ]
  },
  {
   "cell_type": "code",
   "execution_count": null,
   "metadata": {
    "collapsed": false,
    "run_control": {
     "frozen": false,
     "read_only": false
    }
   },
   "outputs": [],
   "source": [
    "np.where(fxing['extrema']==0)"
   ]
  },
  {
   "cell_type": "code",
   "execution_count": null,
   "metadata": {
    "collapsed": false,
    "run_control": {
     "frozen": false,
     "read_only": false
    }
   },
   "outputs": [],
   "source": [
    "fxing[30]"
   ]
  },
  {
   "cell_type": "code",
   "execution_count": null,
   "metadata": {
    "collapsed": false,
    "run_control": {
     "frozen": false,
     "read_only": false
    }
   },
   "outputs": [],
   "source": [
    "exn=np.where(fxing['extrema']<0)\n",
    "clkn=np.where(fxing['clk']>0)"
   ]
  },
  {
   "cell_type": "code",
   "execution_count": null,
   "metadata": {
    "collapsed": true,
    "run_control": {
     "frozen": false,
     "read_only": false
    }
   },
   "outputs": [],
   "source": []
  },
  {
   "cell_type": "code",
   "execution_count": null,
   "metadata": {
    "collapsed": false,
    "run_control": {
     "frozen": false,
     "read_only": false
    }
   },
   "outputs": [],
   "source": [
    "fxing[374]"
   ]
  },
  {
   "cell_type": "code",
   "execution_count": null,
   "metadata": {
    "collapsed": false,
    "run_control": {
     "frozen": false,
     "read_only": false
    }
   },
   "outputs": [],
   "source": [
    "clkn"
   ]
  },
  {
   "cell_type": "code",
   "execution_count": null,
   "metadata": {
    "collapsed": false,
    "run_control": {
     "frozen": false,
     "read_only": false
    }
   },
   "outputs": [],
   "source": [
    "np.where(minmax[maxs[0]-1]['min']!=1)"
   ]
  },
  {
   "cell_type": "code",
   "execution_count": null,
   "metadata": {
    "collapsed": false,
    "run_control": {
     "frozen": false,
     "read_only": false
    }
   },
   "outputs": [],
   "source": [
    "minmax[maxs[0]-1][65]"
   ]
  },
  {
   "cell_type": "code",
   "execution_count": null,
   "metadata": {
    "collapsed": false,
    "run_control": {
     "frozen": false,
     "read_only": false
    }
   },
   "outputs": [],
   "source": [
    "2290-925"
   ]
  },
  {
   "cell_type": "code",
   "execution_count": null,
   "metadata": {
    "collapsed": false,
    "run_control": {
     "frozen": false,
     "read_only": false
    }
   },
   "outputs": [],
   "source": [
    "0.375*4"
   ]
  },
  {
   "cell_type": "code",
   "execution_count": null,
   "metadata": {
    "collapsed": false,
    "run_control": {
     "frozen": false,
     "read_only": false
    }
   },
   "outputs": [],
   "source": [
    "np.where(minmax['clock']==2290)"
   ]
  },
  {
   "cell_type": "code",
   "execution_count": null,
   "metadata": {
    "collapsed": false,
    "run_control": {
     "frozen": false,
     "read_only": false
    }
   },
   "outputs": [],
   "source": [
    "minmax[120:140]"
   ]
  },
  {
   "cell_type": "code",
   "execution_count": null,
   "metadata": {
    "collapsed": false,
    "run_control": {
     "frozen": false,
     "read_only": false
    }
   },
   "outputs": [],
   "source": [
    "stream_dt=np.dtype([('data','>i4'),('last','i4')])\n",
    "#stream=np.fromfile('data/stream',stream_dt)"
   ]
  },
  {
   "cell_type": "markdown",
   "metadata": {},
   "source": [
    "### bytestream stuff"
   ]
  },
  {
   "cell_type": "code",
   "execution_count": null,
   "metadata": {
    "collapsed": false,
    "run_control": {
     "frozen": false,
     "read_only": false
    }
   },
   "outputs": [],
   "source": [
    "stream_dt=np.dtype([('data','i4'),('last','i4')])\n",
    "stream=Data.fromfile('bytestream',stream_dt,'teslib','measurement_subsystem_TB',tool='vivado')\n",
    "lasts=np.where(stream['last']<=0)[0]+1\n",
    "#data=np.copy(stream['data'])"
   ]
  },
  {
   "cell_type": "code",
   "execution_count": null,
   "metadata": {
    "collapsed": false,
    "run_control": {
     "frozen": false,
     "read_only": false
    }
   },
   "outputs": [],
   "source": [
    "stream"
   ]
  },
  {
   "cell_type": "code",
   "execution_count": null,
   "metadata": {
    "collapsed": true,
    "run_control": {
     "frozen": false,
     "read_only": false
    }
   },
   "outputs": [],
   "source": []
  },
  {
   "cell_type": "code",
   "execution_count": null,
   "metadata": {
    "collapsed": true,
    "run_control": {
     "frozen": false,
     "read_only": false
    }
   },
   "outputs": [],
   "source": [
    "stream=np.fromfile('data/bytestream',stream_dt)"
   ]
  },
  {
   "cell_type": "code",
   "execution_count": null,
   "metadata": {
    "collapsed": false,
    "run_control": {
     "frozen": false,
     "read_only": false
    }
   },
   "outputs": [],
   "source": [
    "bs=PacketStream(stream)"
   ]
  },
  {
   "cell_type": "code",
   "execution_count": null,
   "metadata": {
    "collapsed": false,
    "run_control": {
     "frozen": false,
     "read_only": false
    }
   },
   "outputs": [],
   "source": [
    "bs.packets"
   ]
  },
  {
   "cell_type": "code",
   "execution_count": null,
   "metadata": {
    "collapsed": false,
    "run_control": {
     "frozen": false,
     "read_only": false
    }
   },
   "outputs": [],
   "source": [
    "bs.packets[4]"
   ]
  },
  {
   "cell_type": "code",
   "execution_count": null,
   "metadata": {
    "collapsed": true,
    "run_control": {
     "frozen": false,
     "read_only": false
    }
   },
   "outputs": [],
   "source": [
    "eheader_dt=[('etype','<u2'),('length','u2'),()]"
   ]
  },
  {
   "cell_type": "code",
   "execution_count": null,
   "metadata": {
    "collapsed": false,
    "run_control": {
     "frozen": false,
     "read_only": false
    }
   },
   "outputs": [],
   "source": [
    "'{:X}'.format(bs.packets[1].bytes[23])\n"
   ]
  },
  {
   "cell_type": "code",
   "execution_count": null,
   "metadata": {
    "collapsed": false,
    "run_control": {
     "frozen": false,
     "read_only": false
    }
   },
   "outputs": [],
   "source": [
    "'{:X}'.format(bs.packets[0].bytes[28:30].view(np.uint16)[0])"
   ]
  },
  {
   "cell_type": "code",
   "execution_count": null,
   "metadata": {
    "collapsed": true,
    "run_control": {
     "frozen": false,
     "read_only": false
    }
   },
   "outputs": [],
   "source": [
    "pulse_peak_dt=np.dtype([('height','i2'),('rise','i2'),('minima','u2'),('time','i2')])\n",
    "pulse_dt=np.dtype([('size','i2'),('resv','i2'),('flags','i2'),('time','u2'),\n",
    "                  ('area','i4'),('length','i2'),('offset','i2'),('peaks',(pulse_peak_dt,2))])"
   ]
  },
  {
   "cell_type": "code",
   "execution_count": null,
   "metadata": {
    "collapsed": false,
    "run_control": {
     "frozen": false,
     "read_only": false
    }
   },
   "outputs": [],
   "source": [
    "pulses=bs.packets[3].payload.view(pulse_dt)"
   ]
  },
  {
   "cell_type": "code",
   "execution_count": null,
   "metadata": {
    "collapsed": false,
    "run_control": {
     "frozen": false,
     "read_only": false
    }
   },
   "outputs": [],
   "source": [
    "pulses['peaks']"
   ]
  },
  {
   "cell_type": "code",
   "execution_count": null,
   "metadata": {
    "collapsed": false,
    "run_control": {
     "frozen": false,
     "read_only": false
    }
   },
   "outputs": [],
   "source": [
    "pulses['offset']"
   ]
  },
  {
   "cell_type": "code",
   "execution_count": null,
   "metadata": {
    "collapsed": false,
    "run_control": {
     "frozen": false,
     "read_only": false
    }
   },
   "outputs": [],
   "source": [
    "pulses['length']"
   ]
  },
  {
   "cell_type": "code",
   "execution_count": null,
   "metadata": {
    "collapsed": false,
    "run_control": {
     "frozen": false,
     "read_only": false
    }
   },
   "outputs": [],
   "source": [
    "class eflags:\n",
    "    def __init__(self,uint16):\n",
    "        self.new_window=np.bitwise_and(uint16,0x00000001)!=0\n",
    "        self.tick=np.bitwise_and(uint16,0x00000002)!=0\n",
    "        self.type=np.right_shift(np.bitwise_and(uint16,0x0000000c),2)\n",
    "        \n",
    "    def __repr__(self):\n",
    "        return 'New window:{:}\\n'.format(self.new_window) + \\\n",
    "               'Tick:{:}\\n'.format(self.tick) + \\\n",
    "               'Type:{:}\\n'.format(self.type) "
   ]
  },
  {
   "cell_type": "code",
   "execution_count": null,
   "metadata": {
    "collapsed": false,
    "run_control": {
     "frozen": false,
     "read_only": false
    }
   },
   "outputs": [],
   "source": [
    "f=eflags(pulses[0]['flags'])\n",
    "f"
   ]
  },
  {
   "cell_type": "code",
   "execution_count": null,
   "metadata": {
    "collapsed": false,
    "run_control": {
     "frozen": false,
     "read_only": false
    }
   },
   "outputs": [],
   "source": [
    "'{:X}'.format(bs.packets[3].bytes[13:14].view(np.uint16))"
   ]
  },
  {
   "cell_type": "code",
   "execution_count": null,
   "metadata": {
    "collapsed": true,
    "run_control": {
     "frozen": false,
     "read_only": false
    }
   },
   "outputs": [],
   "source": []
  },
  {
   "cell_type": "code",
   "execution_count": null,
   "metadata": {
    "collapsed": false,
    "run_control": {
     "frozen": false,
     "read_only": false
    }
   },
   "outputs": [],
   "source": [
    "'{:X}'.format(bs.packets[3].bytes[14:16].view(np.uint16)[0])"
   ]
  },
  {
   "cell_type": "code",
   "execution_count": null,
   "metadata": {
    "collapsed": false,
    "run_control": {
     "frozen": false,
     "read_only": false
    }
   },
   "outputs": [],
   "source": [
    "bs.packets[3].bytes[14:16].view(np.uint16)[0]"
   ]
  },
  {
   "cell_type": "code",
   "execution_count": null,
   "metadata": {
    "collapsed": false,
    "run_control": {
     "frozen": false,
     "read_only": false
    }
   },
   "outputs": [],
   "source": [
    "bs=np.uint8(stream['data'][:48])"
   ]
  },
  {
   "cell_type": "code",
   "execution_count": null,
   "metadata": {
    "collapsed": false,
    "run_control": {
     "frozen": false,
     "read_only": false
    }
   },
   "outputs": [],
   "source": [
    "bs"
   ]
  },
  {
   "cell_type": "code",
   "execution_count": null,
   "metadata": {
    "collapsed": false,
    "run_control": {
     "frozen": false,
     "read_only": false
    }
   },
   "outputs": [],
   "source": [
    "events=stream['data'].view(event_dt)"
   ]
  },
  {
   "cell_type": "code",
   "execution_count": null,
   "metadata": {
    "collapsed": false,
    "run_control": {
     "frozen": false,
     "read_only": false
    }
   },
   "outputs": [],
   "source": [
    "'{:X}'.format(events['flags'][0])"
   ]
  },
  {
   "cell_type": "code",
   "execution_count": null,
   "metadata": {
    "collapsed": false,
    "run_control": {
     "frozen": false,
     "read_only": false
    }
   },
   "outputs": [],
   "source": [
    "events['rise']"
   ]
  },
  {
   "cell_type": "code",
   "execution_count": null,
   "metadata": {
    "collapsed": false,
    "run_control": {
     "frozen": false,
     "read_only": false
    }
   },
   "outputs": [],
   "source": [
    "events"
   ]
  },
  {
   "cell_type": "code",
   "execution_count": null,
   "metadata": {
    "collapsed": false,
    "run_control": {
     "frozen": false,
     "read_only": false
    }
   },
   "outputs": [],
   "source": [
    "'{:04X}'.format(events['flags'][1])"
   ]
  },
  {
   "cell_type": "code",
   "execution_count": null,
   "metadata": {
    "collapsed": true,
    "run_control": {
     "frozen": false,
     "read_only": false
    }
   },
   "outputs": [],
   "source": [
    "pulse_peak_dt=np.dtype([('time','>i2'),('minima','>i2'),('rise','>u2'),('height','>i2')])\n",
    "pulse_dt=np.dtype([('time','>i2'),('flags','>i2'),('resv','>i2'),('size','>u2'),\n",
    "                  ('offset','>i2'),('length','>i2'),('area','>i4'),('peaks',(pulse_peak_dt,1))])\n",
    "data=np.copy(stream['data'])"
   ]
  },
  {
   "cell_type": "code",
   "execution_count": null,
   "metadata": {
    "collapsed": false,
    "run_control": {
     "frozen": false,
     "read_only": false
    }
   },
   "outputs": [],
   "source": [
    "pulses=data.view(pulse_dt)"
   ]
  },
  {
   "cell_type": "code",
   "execution_count": null,
   "metadata": {
    "collapsed": false,
    "run_control": {
     "frozen": false,
     "read_only": false
    }
   },
   "outputs": [],
   "source": [
    "pulses['peaks']['height']-pulses['peaks']['minima']"
   ]
  },
  {
   "cell_type": "code",
   "execution_count": null,
   "metadata": {
    "collapsed": false,
    "run_control": {
     "frozen": false,
     "read_only": false
    }
   },
   "outputs": [],
   "source": [
    "pulses['peaks']['minima']"
   ]
  },
  {
   "cell_type": "code",
   "execution_count": null,
   "metadata": {
    "collapsed": false,
    "run_control": {
     "frozen": false,
     "read_only": false
    }
   },
   "outputs": [],
   "source": [
    "peak_count=np.right_shift(np.bitwise_and(pulses['flags'],0xF000),12)\n",
    "peak_overflow=np.bitwise_and(pulses['flags'],0x0800)!=0\n",
    "channel=np.right_shift(np.bitwise_and(pulses['flags'],0x0700),8)\n",
    "timing_type=np.right_shift(np.bitwise_and(pulses['flags'],0x00C0),6)\n",
    "height_type=np.right_shift(np.bitwise_and(pulses['flags'],0x0030),4)\n",
    "event_type=np.right_shift(np.bitwise_and(pulses['flags'],0x000E),1)\n",
    "new_window=np.bitwise_and(pulses['flags'],0x0001)!=0"
   ]
  },
  {
   "cell_type": "code",
   "execution_count": null,
   "metadata": {
    "collapsed": false,
    "run_control": {
     "frozen": false,
     "read_only": false
    }
   },
   "outputs": [],
   "source": [
    "peak_overflow"
   ]
  },
  {
   "cell_type": "code",
   "execution_count": null,
   "metadata": {
    "collapsed": true,
    "run_control": {
     "frozen": false,
     "read_only": false
    }
   },
   "outputs": [],
   "source": [
    "test_dt=np.dtype(\n",
    "    [('time','i2'),('flags','i2'),('rise','u2'),('minima','i2'),('low','u8'),('high','u8')]\n",
    ")\n",
    "test=data.view(test_dt)"
   ]
  },
  {
   "cell_type": "code",
   "execution_count": null,
   "metadata": {
    "collapsed": false,
    "run_control": {
     "frozen": false,
     "read_only": false
    }
   },
   "outputs": [],
   "source": [
    "test"
   ]
  },
  {
   "cell_type": "code",
   "execution_count": null,
   "metadata": {
    "collapsed": false,
    "run_control": {
     "frozen": false,
     "read_only": false
    }
   },
   "outputs": [],
   "source": [
    "test['minima']"
   ]
  },
  {
   "cell_type": "code",
   "execution_count": null,
   "metadata": {
    "collapsed": false,
    "run_control": {
     "frozen": false,
     "read_only": false
    }
   },
   "outputs": [],
   "source": [
    "low1=np.int32(np.right_shift(np.bitwise_and(test['low'],0x03FFFF000000000),36))\n",
    "s=(np.bitwise_and(low1,0x00020000)!=0)*0xFFFC0000\n",
    "low2=np.int32(np.right_shift(np.bitwise_and(test['low'],0x000000FFFFC0000),18))\n",
    "low_threshold=np.int32(np.bitwise_and(test['low'],0x00000000003FFFF))\n",
    "high1=np.int32(np.right_shift(np.bitwise_and(test['high'],0x03FFFF000000000),36))\n",
    "high2=np.int32(np.right_shift(np.bitwise_and(test['high'],0x000000FFFFC0000),18))\n",
    "high_threshold=np.int32(np.bitwise_and(test['high'],0x00000000003FFFF))"
   ]
  },
  {
   "cell_type": "code",
   "execution_count": null,
   "metadata": {
    "collapsed": false,
    "run_control": {
     "frozen": false,
     "read_only": false
    }
   },
   "outputs": [],
   "source": [
    "np.int32(np.bitwise_or(low1,s))/8.0"
   ]
  },
  {
   "cell_type": "code",
   "execution_count": null,
   "metadata": {
    "collapsed": false,
    "run_control": {
     "frozen": false,
     "read_only": false
    }
   },
   "outputs": [],
   "source": [
    "'{:04X}'.format(low1[0])"
   ]
  },
  {
   "cell_type": "code",
   "execution_count": null,
   "metadata": {
    "collapsed": false,
    "run_control": {
     "frozen": false,
     "read_only": false
    }
   },
   "outputs": [],
   "source": [
    "high1/8.0"
   ]
  },
  {
   "cell_type": "code",
   "execution_count": null,
   "metadata": {
    "collapsed": false,
    "run_control": {
     "frozen": false,
     "read_only": false
    }
   },
   "outputs": [],
   "source": [
    "high2/8.0"
   ]
  },
  {
   "cell_type": "code",
   "execution_count": null,
   "metadata": {
    "collapsed": false,
    "run_control": {
     "frozen": false,
     "read_only": false
    }
   },
   "outputs": [],
   "source": [
    "'{:04X}'.format(high_threshold[0])"
   ]
  },
  {
   "cell_type": "code",
   "execution_count": null,
   "metadata": {
    "collapsed": false,
    "run_control": {
     "frozen": false,
     "read_only": false
    }
   },
   "outputs": [],
   "source": [
    "from enum import Enum"
   ]
  },
  {
   "cell_type": "code",
   "execution_count": null,
   "metadata": {
    "collapsed": false,
    "run_control": {
     "frozen": false,
     "read_only": false
    }
   },
   "outputs": [],
   "source": [
    "class VhdlEnum(int, Enum):\n",
    "\n",
    "    def __str__(self):\n",
    "        return self.name.replace(\"-\", \" \")\n",
    "    \n",
    "    def select(self):\n",
    "        return pow(2, self.value)\n",
    "    "
   ]
  },
  {
   "cell_type": "code",
   "execution_count": null,
   "metadata": {
    "collapsed": false,
    "run_control": {
     "frozen": false,
     "read_only": false
    }
   },
   "outputs": [],
   "source": [
    "class Test(VhdlEnum):\n",
    "    a=0\n",
    "    b=1"
   ]
  },
  {
   "cell_type": "code",
   "execution_count": null,
   "metadata": {
    "collapsed": false,
    "run_control": {
     "frozen": false,
     "read_only": false
    }
   },
   "outputs": [],
   "source": [
    "Test(0)"
   ]
  },
  {
   "cell_type": "code",
   "execution_count": null,
   "metadata": {
    "collapsed": true,
    "run_control": {
     "frozen": false,
     "read_only": false
    }
   },
   "outputs": [],
   "source": []
  }
 ],
 "metadata": {
  "anaconda-cloud": {},
  "kernelspec": {
   "display_name": "Python [conda root]",
   "language": "python",
   "name": "conda-root-py"
  },
  "language_info": {
   "codemirror_mode": {
    "name": "ipython",
    "version": 3
   },
   "file_extension": ".py",
   "mimetype": "text/x-python",
   "name": "python",
   "nbconvert_exporter": "python",
   "pygments_lexer": "ipython3",
   "version": "3.5.3"
  }
 },
 "nbformat": 4,
 "nbformat_minor": 1
}
