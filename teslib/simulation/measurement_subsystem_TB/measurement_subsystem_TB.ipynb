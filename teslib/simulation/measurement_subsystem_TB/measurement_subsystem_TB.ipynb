{
 "cells": [
  {
   "cell_type": "markdown",
   "metadata": {},
   "source": [
    "timestamp 0 => clk 20\n",
    "\n",
    "traces start at clk 1"
   ]
  },
  {
   "cell_type": "code",
   "execution_count": null,
   "metadata": {
    "collapsed": true,
    "run_control": {
     "frozen": false,
     "read_only": false
    }
   },
   "outputs": [],
   "source": [
    "from tes.data import Data,PacketStream,Packet,Payload,EventFlags,Event\n",
    "from tes.hdf5 import _PacketData, _import\n",
    "import numpy as np\n",
    "import matplotlib.pyplot as plt\n",
    "from subprocess import Popen\n",
    "\n",
    "import logging\n",
    "import sys\n",
    "logger = logging.getLogger('tes')\n",
    "logger.setLevel(logging.DEBUG)\n",
    "handler = logging.StreamHandler(sys.stderr)\n",
    "formatter = logging.Formatter('%(name)s:%(levelname)s %(message)s')\n",
    "handler.setFormatter(formatter)\n",
    "logger.handlers = [handler]\n",
    "\n",
    "trace_dt=np.dtype([('raw','i4'),('filtered','i4'),('slope','i4')])\n",
    "stream_dt=np.dtype([('data','i4'),('last','i4')])\n",
    "# minmax_dt=np.dtype(\n",
    "#     [\n",
    "#         ('filtered','i4'),('timing_threshold','i4'),\n",
    "#         ('height_threshold','i4'),('slope_extrema','i4'),('slope_area','i4'),('clk','i4')\n",
    "#     ]\n",
    "# )\n",
    "# cfd_dt=np.dtype('i4')\n",
    "# filteredxing_dt=np.dtype([('extrema','i4'),('area','i4'),('clk','i4')])"
   ]
  },
  {
   "cell_type": "code",
   "execution_count": null,
   "metadata": {
    "collapsed": true,
    "run_control": {
     "frozen": false,
     "read_only": false
    },
    "scrolled": false
   },
   "outputs": [],
   "source": [
    "%matplotlib notebook\n",
    "traces=Data.fromfile('traces',trace_dt,'teslib','measurement_subsystem_TB',tool='vivado')\n",
    "plt.plot(traces['slope'][1100:],'r',linewidth=1)\n",
    "plt.plot(traces['raw'][1100:],linewidth=0.5)\n",
    "plt.plot(traces['filtered'][1100:],'k',linewidth=2)"
   ]
  },
  {
   "cell_type": "code",
   "execution_count": 62,
   "metadata": {},
   "outputs": [
    {
     "name": "stdout",
     "output_type": "stream",
     "text": [
      "found average_trace 274\n"
     ]
    }
   ],
   "source": [
    "i=0\n",
    "for f in frames:\n",
    "    ptype = Payload.from_frame(f)\n",
    "    if ptype != Payload.trace and ptype != Payload.tick and ptype!=Payload.mca:\n",
    "        print('found',ptype, i)\n",
    "        break\n",
    "    else:\n",
    "        i += 1\n",
    "#     fbytes[16:24].view(protocol_header_dt)"
   ]
  },
  {
   "cell_type": "code",
   "execution_count": 17,
   "metadata": {},
   "outputs": [
    {
     "data": {
      "text/plain": [
       "dot_product_trace"
      ]
     },
     "execution_count": 17,
     "metadata": {},
     "output_type": "execute_result"
    }
   ],
   "source": [
    "Payload.from_frame(f)"
   ]
  },
  {
   "cell_type": "code",
   "execution_count": 61,
   "metadata": {
    "scrolled": true
   },
   "outputs": [
    {
     "name": "stderr",
     "output_type": "stream",
     "text": [
      "tes.hdf5:DEBUG PacketData: from ndarray\n",
      "tes.hdf5:DEBUG PacketData: from ndarray\n",
      "tes.hdf5:INFO import:pass 1: calculating sizes for hdf5 pre-allocation\n",
      "tes.hdf5:INFO import:pass 1:found 31208 bytes in 329 frames 0 sequence errors.\n",
      "tes.hdf5:DEBUG tick frames: 312 data bytes in 13 frames\n",
      "tes.hdf5:DEBUG event frames: 15024 data bytes in 188 frames\n",
      "tes.hdf5:DEBUG MCA frames: 13240 data bytes in 128 frames\n",
      "tes.hdf5:DEBUG unidentified frames: 0 bytes in 0 frames\n",
      "tes.hdf5:DEBUG MCA distributions:3  traces:94\n",
      "tes.hdf5:INFO import:pass 2:importing data\n"
     ]
    }
   ],
   "source": [
    "import h5py\n",
    "from tes.hdf5 import Trace, Hdf5, protocol_header_dt\n",
    "from tes.base import Payload\n",
    "stream=Data.fromfile('bytestream',stream_dt,'teslib','measurement_subsystem_TB',tool='vivado')\n",
    "frames=_PacketData(stream)\n",
    "# del stream\n",
    "# _import(packets)\n",
    "# h=h5py.File('TES.hdf5','r')\n",
    "h=Hdf5('TES.hdf5',stream)\n",
    "# del stream"
   ]
  },
  {
   "cell_type": "code",
   "execution_count": 60,
   "metadata": {
    "collapsed": true
   },
   "outputs": [],
   "source": [
    "h.close()"
   ]
  },
  {
   "cell_type": "code",
   "execution_count": 42,
   "metadata": {},
   "outputs": [
    {
     "data": {
      "text/plain": [
       "dtype('int32')"
      ]
     },
     "execution_count": 42,
     "metadata": {},
     "output_type": "execute_result"
    }
   ],
   "source": [
    "frames[329]['data'].dtype"
   ]
  },
  {
   "cell_type": "code",
   "execution_count": null,
   "metadata": {
    "collapsed": true
   },
   "outputs": [],
   "source": [
    "trace_header_dt=np.dtype([('size',np.uint16),('trace_flags',np.uint8,(2,))])"
   ]
  },
  {
   "cell_type": "code",
   "execution_count": 44,
   "metadata": {},
   "outputs": [
    {
     "data": {
      "text/plain": [
       "multi_peak:False\n",
       "multi_pulse:False\n",
       "stride:0\n",
       "type:single\n",
       "signal:none\n",
       "offset:0"
      ]
     },
     "execution_count": 44,
     "metadata": {},
     "output_type": "execute_result"
    }
   ],
   "source": [
    "from tes.hdf5 import TraceFlags\n",
    "TraceFlags(h.frames[325].payload[2:4])"
   ]
  },
  {
   "cell_type": "code",
   "execution_count": 63,
   "metadata": {},
   "outputs": [
    {
     "data": {
      "text/plain": [
       "samples:64\n",
       "multi_peak:False\n",
       "multi_pulse:False\n",
       "stride:0\n",
       "type:average\n",
       "signal:filtered\n",
       "offset:2"
      ]
     },
     "execution_count": 63,
     "metadata": {},
     "output_type": "execute_result"
    }
   ],
   "source": [
    "h.traces[92]"
   ]
  },
  {
   "cell_type": "code",
   "execution_count": null,
   "metadata": {},
   "outputs": [],
   "source": [
    "h.h['traces'][1]"
   ]
  },
  {
   "cell_type": "code",
   "execution_count": null,
   "metadata": {
    "collapsed": true
   },
   "outputs": [],
   "source": [
    "packets[0]['data'][24:]"
   ]
  },
  {
   "cell_type": "code",
   "execution_count": 64,
   "metadata": {},
   "outputs": [
    {
     "data": {
      "application/javascript": [
       "/* Put everything inside the global mpl namespace */\n",
       "window.mpl = {};\n",
       "\n",
       "\n",
       "mpl.get_websocket_type = function() {\n",
       "    if (typeof(WebSocket) !== 'undefined') {\n",
       "        return WebSocket;\n",
       "    } else if (typeof(MozWebSocket) !== 'undefined') {\n",
       "        return MozWebSocket;\n",
       "    } else {\n",
       "        alert('Your browser does not have WebSocket support.' +\n",
       "              'Please try Chrome, Safari or Firefox ≥ 6. ' +\n",
       "              'Firefox 4 and 5 are also supported but you ' +\n",
       "              'have to enable WebSockets in about:config.');\n",
       "    };\n",
       "}\n",
       "\n",
       "mpl.figure = function(figure_id, websocket, ondownload, parent_element) {\n",
       "    this.id = figure_id;\n",
       "\n",
       "    this.ws = websocket;\n",
       "\n",
       "    this.supports_binary = (this.ws.binaryType != undefined);\n",
       "\n",
       "    if (!this.supports_binary) {\n",
       "        var warnings = document.getElementById(\"mpl-warnings\");\n",
       "        if (warnings) {\n",
       "            warnings.style.display = 'block';\n",
       "            warnings.textContent = (\n",
       "                \"This browser does not support binary websocket messages. \" +\n",
       "                    \"Performance may be slow.\");\n",
       "        }\n",
       "    }\n",
       "\n",
       "    this.imageObj = new Image();\n",
       "\n",
       "    this.context = undefined;\n",
       "    this.message = undefined;\n",
       "    this.canvas = undefined;\n",
       "    this.rubberband_canvas = undefined;\n",
       "    this.rubberband_context = undefined;\n",
       "    this.format_dropdown = undefined;\n",
       "\n",
       "    this.image_mode = 'full';\n",
       "\n",
       "    this.root = $('<div/>');\n",
       "    this._root_extra_style(this.root)\n",
       "    this.root.attr('style', 'display: inline-block');\n",
       "\n",
       "    $(parent_element).append(this.root);\n",
       "\n",
       "    this._init_header(this);\n",
       "    this._init_canvas(this);\n",
       "    this._init_toolbar(this);\n",
       "\n",
       "    var fig = this;\n",
       "\n",
       "    this.waiting = false;\n",
       "\n",
       "    this.ws.onopen =  function () {\n",
       "            fig.send_message(\"supports_binary\", {value: fig.supports_binary});\n",
       "            fig.send_message(\"send_image_mode\", {});\n",
       "            if (mpl.ratio != 1) {\n",
       "                fig.send_message(\"set_dpi_ratio\", {'dpi_ratio': mpl.ratio});\n",
       "            }\n",
       "            fig.send_message(\"refresh\", {});\n",
       "        }\n",
       "\n",
       "    this.imageObj.onload = function() {\n",
       "            if (fig.image_mode == 'full') {\n",
       "                // Full images could contain transparency (where diff images\n",
       "                // almost always do), so we need to clear the canvas so that\n",
       "                // there is no ghosting.\n",
       "                fig.context.clearRect(0, 0, fig.canvas.width, fig.canvas.height);\n",
       "            }\n",
       "            fig.context.drawImage(fig.imageObj, 0, 0);\n",
       "        };\n",
       "\n",
       "    this.imageObj.onunload = function() {\n",
       "        this.ws.close();\n",
       "    }\n",
       "\n",
       "    this.ws.onmessage = this._make_on_message_function(this);\n",
       "\n",
       "    this.ondownload = ondownload;\n",
       "}\n",
       "\n",
       "mpl.figure.prototype._init_header = function() {\n",
       "    var titlebar = $(\n",
       "        '<div class=\"ui-dialog-titlebar ui-widget-header ui-corner-all ' +\n",
       "        'ui-helper-clearfix\"/>');\n",
       "    var titletext = $(\n",
       "        '<div class=\"ui-dialog-title\" style=\"width: 100%; ' +\n",
       "        'text-align: center; padding: 3px;\"/>');\n",
       "    titlebar.append(titletext)\n",
       "    this.root.append(titlebar);\n",
       "    this.header = titletext[0];\n",
       "}\n",
       "\n",
       "\n",
       "\n",
       "mpl.figure.prototype._canvas_extra_style = function(canvas_div) {\n",
       "\n",
       "}\n",
       "\n",
       "\n",
       "mpl.figure.prototype._root_extra_style = function(canvas_div) {\n",
       "\n",
       "}\n",
       "\n",
       "mpl.figure.prototype._init_canvas = function() {\n",
       "    var fig = this;\n",
       "\n",
       "    var canvas_div = $('<div/>');\n",
       "\n",
       "    canvas_div.attr('style', 'position: relative; clear: both; outline: 0');\n",
       "\n",
       "    function canvas_keyboard_event(event) {\n",
       "        return fig.key_event(event, event['data']);\n",
       "    }\n",
       "\n",
       "    canvas_div.keydown('key_press', canvas_keyboard_event);\n",
       "    canvas_div.keyup('key_release', canvas_keyboard_event);\n",
       "    this.canvas_div = canvas_div\n",
       "    this._canvas_extra_style(canvas_div)\n",
       "    this.root.append(canvas_div);\n",
       "\n",
       "    var canvas = $('<canvas/>');\n",
       "    canvas.addClass('mpl-canvas');\n",
       "    canvas.attr('style', \"left: 0; top: 0; z-index: 0; outline: 0\")\n",
       "\n",
       "    this.canvas = canvas[0];\n",
       "    this.context = canvas[0].getContext(\"2d\");\n",
       "\n",
       "    var backingStore = this.context.backingStorePixelRatio ||\n",
       "\tthis.context.webkitBackingStorePixelRatio ||\n",
       "\tthis.context.mozBackingStorePixelRatio ||\n",
       "\tthis.context.msBackingStorePixelRatio ||\n",
       "\tthis.context.oBackingStorePixelRatio ||\n",
       "\tthis.context.backingStorePixelRatio || 1;\n",
       "\n",
       "    mpl.ratio = (window.devicePixelRatio || 1) / backingStore;\n",
       "\n",
       "    var rubberband = $('<canvas/>');\n",
       "    rubberband.attr('style', \"position: absolute; left: 0; top: 0; z-index: 1;\")\n",
       "\n",
       "    var pass_mouse_events = true;\n",
       "\n",
       "    canvas_div.resizable({\n",
       "        start: function(event, ui) {\n",
       "            pass_mouse_events = false;\n",
       "        },\n",
       "        resize: function(event, ui) {\n",
       "            fig.request_resize(ui.size.width, ui.size.height);\n",
       "        },\n",
       "        stop: function(event, ui) {\n",
       "            pass_mouse_events = true;\n",
       "            fig.request_resize(ui.size.width, ui.size.height);\n",
       "        },\n",
       "    });\n",
       "\n",
       "    function mouse_event_fn(event) {\n",
       "        if (pass_mouse_events)\n",
       "            return fig.mouse_event(event, event['data']);\n",
       "    }\n",
       "\n",
       "    rubberband.mousedown('button_press', mouse_event_fn);\n",
       "    rubberband.mouseup('button_release', mouse_event_fn);\n",
       "    // Throttle sequential mouse events to 1 every 20ms.\n",
       "    rubberband.mousemove('motion_notify', mouse_event_fn);\n",
       "\n",
       "    rubberband.mouseenter('figure_enter', mouse_event_fn);\n",
       "    rubberband.mouseleave('figure_leave', mouse_event_fn);\n",
       "\n",
       "    canvas_div.on(\"wheel\", function (event) {\n",
       "        event = event.originalEvent;\n",
       "        event['data'] = 'scroll'\n",
       "        if (event.deltaY < 0) {\n",
       "            event.step = 1;\n",
       "        } else {\n",
       "            event.step = -1;\n",
       "        }\n",
       "        mouse_event_fn(event);\n",
       "    });\n",
       "\n",
       "    canvas_div.append(canvas);\n",
       "    canvas_div.append(rubberband);\n",
       "\n",
       "    this.rubberband = rubberband;\n",
       "    this.rubberband_canvas = rubberband[0];\n",
       "    this.rubberband_context = rubberband[0].getContext(\"2d\");\n",
       "    this.rubberband_context.strokeStyle = \"#000000\";\n",
       "\n",
       "    this._resize_canvas = function(width, height) {\n",
       "        // Keep the size of the canvas, canvas container, and rubber band\n",
       "        // canvas in synch.\n",
       "        canvas_div.css('width', width)\n",
       "        canvas_div.css('height', height)\n",
       "\n",
       "        canvas.attr('width', width * mpl.ratio);\n",
       "        canvas.attr('height', height * mpl.ratio);\n",
       "        canvas.attr('style', 'width: ' + width + 'px; height: ' + height + 'px;');\n",
       "\n",
       "        rubberband.attr('width', width);\n",
       "        rubberband.attr('height', height);\n",
       "    }\n",
       "\n",
       "    // Set the figure to an initial 600x600px, this will subsequently be updated\n",
       "    // upon first draw.\n",
       "    this._resize_canvas(600, 600);\n",
       "\n",
       "    // Disable right mouse context menu.\n",
       "    $(this.rubberband_canvas).bind(\"contextmenu\",function(e){\n",
       "        return false;\n",
       "    });\n",
       "\n",
       "    function set_focus () {\n",
       "        canvas.focus();\n",
       "        canvas_div.focus();\n",
       "    }\n",
       "\n",
       "    window.setTimeout(set_focus, 100);\n",
       "}\n",
       "\n",
       "mpl.figure.prototype._init_toolbar = function() {\n",
       "    var fig = this;\n",
       "\n",
       "    var nav_element = $('<div/>')\n",
       "    nav_element.attr('style', 'width: 100%');\n",
       "    this.root.append(nav_element);\n",
       "\n",
       "    // Define a callback function for later on.\n",
       "    function toolbar_event(event) {\n",
       "        return fig.toolbar_button_onclick(event['data']);\n",
       "    }\n",
       "    function toolbar_mouse_event(event) {\n",
       "        return fig.toolbar_button_onmouseover(event['data']);\n",
       "    }\n",
       "\n",
       "    for(var toolbar_ind in mpl.toolbar_items) {\n",
       "        var name = mpl.toolbar_items[toolbar_ind][0];\n",
       "        var tooltip = mpl.toolbar_items[toolbar_ind][1];\n",
       "        var image = mpl.toolbar_items[toolbar_ind][2];\n",
       "        var method_name = mpl.toolbar_items[toolbar_ind][3];\n",
       "\n",
       "        if (!name) {\n",
       "            // put a spacer in here.\n",
       "            continue;\n",
       "        }\n",
       "        var button = $('<button/>');\n",
       "        button.addClass('ui-button ui-widget ui-state-default ui-corner-all ' +\n",
       "                        'ui-button-icon-only');\n",
       "        button.attr('role', 'button');\n",
       "        button.attr('aria-disabled', 'false');\n",
       "        button.click(method_name, toolbar_event);\n",
       "        button.mouseover(tooltip, toolbar_mouse_event);\n",
       "\n",
       "        var icon_img = $('<span/>');\n",
       "        icon_img.addClass('ui-button-icon-primary ui-icon');\n",
       "        icon_img.addClass(image);\n",
       "        icon_img.addClass('ui-corner-all');\n",
       "\n",
       "        var tooltip_span = $('<span/>');\n",
       "        tooltip_span.addClass('ui-button-text');\n",
       "        tooltip_span.html(tooltip);\n",
       "\n",
       "        button.append(icon_img);\n",
       "        button.append(tooltip_span);\n",
       "\n",
       "        nav_element.append(button);\n",
       "    }\n",
       "\n",
       "    var fmt_picker_span = $('<span/>');\n",
       "\n",
       "    var fmt_picker = $('<select/>');\n",
       "    fmt_picker.addClass('mpl-toolbar-option ui-widget ui-widget-content');\n",
       "    fmt_picker_span.append(fmt_picker);\n",
       "    nav_element.append(fmt_picker_span);\n",
       "    this.format_dropdown = fmt_picker[0];\n",
       "\n",
       "    for (var ind in mpl.extensions) {\n",
       "        var fmt = mpl.extensions[ind];\n",
       "        var option = $(\n",
       "            '<option/>', {selected: fmt === mpl.default_extension}).html(fmt);\n",
       "        fmt_picker.append(option)\n",
       "    }\n",
       "\n",
       "    // Add hover states to the ui-buttons\n",
       "    $( \".ui-button\" ).hover(\n",
       "        function() { $(this).addClass(\"ui-state-hover\");},\n",
       "        function() { $(this).removeClass(\"ui-state-hover\");}\n",
       "    );\n",
       "\n",
       "    var status_bar = $('<span class=\"mpl-message\"/>');\n",
       "    nav_element.append(status_bar);\n",
       "    this.message = status_bar[0];\n",
       "}\n",
       "\n",
       "mpl.figure.prototype.request_resize = function(x_pixels, y_pixels) {\n",
       "    // Request matplotlib to resize the figure. Matplotlib will then trigger a resize in the client,\n",
       "    // which will in turn request a refresh of the image.\n",
       "    this.send_message('resize', {'width': x_pixels, 'height': y_pixels});\n",
       "}\n",
       "\n",
       "mpl.figure.prototype.send_message = function(type, properties) {\n",
       "    properties['type'] = type;\n",
       "    properties['figure_id'] = this.id;\n",
       "    this.ws.send(JSON.stringify(properties));\n",
       "}\n",
       "\n",
       "mpl.figure.prototype.send_draw_message = function() {\n",
       "    if (!this.waiting) {\n",
       "        this.waiting = true;\n",
       "        this.ws.send(JSON.stringify({type: \"draw\", figure_id: this.id}));\n",
       "    }\n",
       "}\n",
       "\n",
       "\n",
       "mpl.figure.prototype.handle_save = function(fig, msg) {\n",
       "    var format_dropdown = fig.format_dropdown;\n",
       "    var format = format_dropdown.options[format_dropdown.selectedIndex].value;\n",
       "    fig.ondownload(fig, format);\n",
       "}\n",
       "\n",
       "\n",
       "mpl.figure.prototype.handle_resize = function(fig, msg) {\n",
       "    var size = msg['size'];\n",
       "    if (size[0] != fig.canvas.width || size[1] != fig.canvas.height) {\n",
       "        fig._resize_canvas(size[0], size[1]);\n",
       "        fig.send_message(\"refresh\", {});\n",
       "    };\n",
       "}\n",
       "\n",
       "mpl.figure.prototype.handle_rubberband = function(fig, msg) {\n",
       "    var x0 = msg['x0'] / mpl.ratio;\n",
       "    var y0 = (fig.canvas.height - msg['y0']) / mpl.ratio;\n",
       "    var x1 = msg['x1'] / mpl.ratio;\n",
       "    var y1 = (fig.canvas.height - msg['y1']) / mpl.ratio;\n",
       "    x0 = Math.floor(x0) + 0.5;\n",
       "    y0 = Math.floor(y0) + 0.5;\n",
       "    x1 = Math.floor(x1) + 0.5;\n",
       "    y1 = Math.floor(y1) + 0.5;\n",
       "    var min_x = Math.min(x0, x1);\n",
       "    var min_y = Math.min(y0, y1);\n",
       "    var width = Math.abs(x1 - x0);\n",
       "    var height = Math.abs(y1 - y0);\n",
       "\n",
       "    fig.rubberband_context.clearRect(\n",
       "        0, 0, fig.canvas.width, fig.canvas.height);\n",
       "\n",
       "    fig.rubberband_context.strokeRect(min_x, min_y, width, height);\n",
       "}\n",
       "\n",
       "mpl.figure.prototype.handle_figure_label = function(fig, msg) {\n",
       "    // Updates the figure title.\n",
       "    fig.header.textContent = msg['label'];\n",
       "}\n",
       "\n",
       "mpl.figure.prototype.handle_cursor = function(fig, msg) {\n",
       "    var cursor = msg['cursor'];\n",
       "    switch(cursor)\n",
       "    {\n",
       "    case 0:\n",
       "        cursor = 'pointer';\n",
       "        break;\n",
       "    case 1:\n",
       "        cursor = 'default';\n",
       "        break;\n",
       "    case 2:\n",
       "        cursor = 'crosshair';\n",
       "        break;\n",
       "    case 3:\n",
       "        cursor = 'move';\n",
       "        break;\n",
       "    }\n",
       "    fig.rubberband_canvas.style.cursor = cursor;\n",
       "}\n",
       "\n",
       "mpl.figure.prototype.handle_message = function(fig, msg) {\n",
       "    fig.message.textContent = msg['message'];\n",
       "}\n",
       "\n",
       "mpl.figure.prototype.handle_draw = function(fig, msg) {\n",
       "    // Request the server to send over a new figure.\n",
       "    fig.send_draw_message();\n",
       "}\n",
       "\n",
       "mpl.figure.prototype.handle_image_mode = function(fig, msg) {\n",
       "    fig.image_mode = msg['mode'];\n",
       "}\n",
       "\n",
       "mpl.figure.prototype.updated_canvas_event = function() {\n",
       "    // Called whenever the canvas gets updated.\n",
       "    this.send_message(\"ack\", {});\n",
       "}\n",
       "\n",
       "// A function to construct a web socket function for onmessage handling.\n",
       "// Called in the figure constructor.\n",
       "mpl.figure.prototype._make_on_message_function = function(fig) {\n",
       "    return function socket_on_message(evt) {\n",
       "        if (evt.data instanceof Blob) {\n",
       "            /* FIXME: We get \"Resource interpreted as Image but\n",
       "             * transferred with MIME type text/plain:\" errors on\n",
       "             * Chrome.  But how to set the MIME type?  It doesn't seem\n",
       "             * to be part of the websocket stream */\n",
       "            evt.data.type = \"image/png\";\n",
       "\n",
       "            /* Free the memory for the previous frames */\n",
       "            if (fig.imageObj.src) {\n",
       "                (window.URL || window.webkitURL).revokeObjectURL(\n",
       "                    fig.imageObj.src);\n",
       "            }\n",
       "\n",
       "            fig.imageObj.src = (window.URL || window.webkitURL).createObjectURL(\n",
       "                evt.data);\n",
       "            fig.updated_canvas_event();\n",
       "            fig.waiting = false;\n",
       "            return;\n",
       "        }\n",
       "        else if (typeof evt.data === 'string' && evt.data.slice(0, 21) == \"data:image/png;base64\") {\n",
       "            fig.imageObj.src = evt.data;\n",
       "            fig.updated_canvas_event();\n",
       "            fig.waiting = false;\n",
       "            return;\n",
       "        }\n",
       "\n",
       "        var msg = JSON.parse(evt.data);\n",
       "        var msg_type = msg['type'];\n",
       "\n",
       "        // Call the  \"handle_{type}\" callback, which takes\n",
       "        // the figure and JSON message as its only arguments.\n",
       "        try {\n",
       "            var callback = fig[\"handle_\" + msg_type];\n",
       "        } catch (e) {\n",
       "            console.log(\"No handler for the '\" + msg_type + \"' message type: \", msg);\n",
       "            return;\n",
       "        }\n",
       "\n",
       "        if (callback) {\n",
       "            try {\n",
       "                // console.log(\"Handling '\" + msg_type + \"' message: \", msg);\n",
       "                callback(fig, msg);\n",
       "            } catch (e) {\n",
       "                console.log(\"Exception inside the 'handler_\" + msg_type + \"' callback:\", e, e.stack, msg);\n",
       "            }\n",
       "        }\n",
       "    };\n",
       "}\n",
       "\n",
       "// from http://stackoverflow.com/questions/1114465/getting-mouse-location-in-canvas\n",
       "mpl.findpos = function(e) {\n",
       "    //this section is from http://www.quirksmode.org/js/events_properties.html\n",
       "    var targ;\n",
       "    if (!e)\n",
       "        e = window.event;\n",
       "    if (e.target)\n",
       "        targ = e.target;\n",
       "    else if (e.srcElement)\n",
       "        targ = e.srcElement;\n",
       "    if (targ.nodeType == 3) // defeat Safari bug\n",
       "        targ = targ.parentNode;\n",
       "\n",
       "    // jQuery normalizes the pageX and pageY\n",
       "    // pageX,Y are the mouse positions relative to the document\n",
       "    // offset() returns the position of the element relative to the document\n",
       "    var x = e.pageX - $(targ).offset().left;\n",
       "    var y = e.pageY - $(targ).offset().top;\n",
       "\n",
       "    return {\"x\": x, \"y\": y};\n",
       "};\n",
       "\n",
       "/*\n",
       " * return a copy of an object with only non-object keys\n",
       " * we need this to avoid circular references\n",
       " * http://stackoverflow.com/a/24161582/3208463\n",
       " */\n",
       "function simpleKeys (original) {\n",
       "  return Object.keys(original).reduce(function (obj, key) {\n",
       "    if (typeof original[key] !== 'object')\n",
       "        obj[key] = original[key]\n",
       "    return obj;\n",
       "  }, {});\n",
       "}\n",
       "\n",
       "mpl.figure.prototype.mouse_event = function(event, name) {\n",
       "    var canvas_pos = mpl.findpos(event)\n",
       "\n",
       "    if (name === 'button_press')\n",
       "    {\n",
       "        this.canvas.focus();\n",
       "        this.canvas_div.focus();\n",
       "    }\n",
       "\n",
       "    var x = canvas_pos.x * mpl.ratio;\n",
       "    var y = canvas_pos.y * mpl.ratio;\n",
       "\n",
       "    this.send_message(name, {x: x, y: y, button: event.button,\n",
       "                             step: event.step,\n",
       "                             guiEvent: simpleKeys(event)});\n",
       "\n",
       "    /* This prevents the web browser from automatically changing to\n",
       "     * the text insertion cursor when the button is pressed.  We want\n",
       "     * to control all of the cursor setting manually through the\n",
       "     * 'cursor' event from matplotlib */\n",
       "    event.preventDefault();\n",
       "    return false;\n",
       "}\n",
       "\n",
       "mpl.figure.prototype._key_event_extra = function(event, name) {\n",
       "    // Handle any extra behaviour associated with a key event\n",
       "}\n",
       "\n",
       "mpl.figure.prototype.key_event = function(event, name) {\n",
       "\n",
       "    // Prevent repeat events\n",
       "    if (name == 'key_press')\n",
       "    {\n",
       "        if (event.which === this._key)\n",
       "            return;\n",
       "        else\n",
       "            this._key = event.which;\n",
       "    }\n",
       "    if (name == 'key_release')\n",
       "        this._key = null;\n",
       "\n",
       "    var value = '';\n",
       "    if (event.ctrlKey && event.which != 17)\n",
       "        value += \"ctrl+\";\n",
       "    if (event.altKey && event.which != 18)\n",
       "        value += \"alt+\";\n",
       "    if (event.shiftKey && event.which != 16)\n",
       "        value += \"shift+\";\n",
       "\n",
       "    value += 'k';\n",
       "    value += event.which.toString();\n",
       "\n",
       "    this._key_event_extra(event, name);\n",
       "\n",
       "    this.send_message(name, {key: value,\n",
       "                             guiEvent: simpleKeys(event)});\n",
       "    return false;\n",
       "}\n",
       "\n",
       "mpl.figure.prototype.toolbar_button_onclick = function(name) {\n",
       "    if (name == 'download') {\n",
       "        this.handle_save(this, null);\n",
       "    } else {\n",
       "        this.send_message(\"toolbar_button\", {name: name});\n",
       "    }\n",
       "};\n",
       "\n",
       "mpl.figure.prototype.toolbar_button_onmouseover = function(tooltip) {\n",
       "    this.message.textContent = tooltip;\n",
       "};\n",
       "mpl.toolbar_items = [[\"Home\", \"Reset original view\", \"fa fa-home icon-home\", \"home\"], [\"Back\", \"Back to  previous view\", \"fa fa-arrow-left icon-arrow-left\", \"back\"], [\"Forward\", \"Forward to next view\", \"fa fa-arrow-right icon-arrow-right\", \"forward\"], [\"\", \"\", \"\", \"\"], [\"Pan\", \"Pan axes with left mouse, zoom with right\", \"fa fa-arrows icon-move\", \"pan\"], [\"Zoom\", \"Zoom to rectangle\", \"fa fa-square-o icon-check-empty\", \"zoom\"], [\"\", \"\", \"\", \"\"], [\"Download\", \"Download plot\", \"fa fa-floppy-o icon-save\", \"download\"]];\n",
       "\n",
       "mpl.extensions = [\"eps\", \"pdf\", \"png\", \"ps\", \"raw\", \"svg\"];\n",
       "\n",
       "mpl.default_extension = \"png\";var comm_websocket_adapter = function(comm) {\n",
       "    // Create a \"websocket\"-like object which calls the given IPython comm\n",
       "    // object with the appropriate methods. Currently this is a non binary\n",
       "    // socket, so there is still some room for performance tuning.\n",
       "    var ws = {};\n",
       "\n",
       "    ws.close = function() {\n",
       "        comm.close()\n",
       "    };\n",
       "    ws.send = function(m) {\n",
       "        //console.log('sending', m);\n",
       "        comm.send(m);\n",
       "    };\n",
       "    // Register the callback with on_msg.\n",
       "    comm.on_msg(function(msg) {\n",
       "        //console.log('receiving', msg['content']['data'], msg);\n",
       "        // Pass the mpl event to the overriden (by mpl) onmessage function.\n",
       "        ws.onmessage(msg['content']['data'])\n",
       "    });\n",
       "    return ws;\n",
       "}\n",
       "\n",
       "mpl.mpl_figure_comm = function(comm, msg) {\n",
       "    // This is the function which gets called when the mpl process\n",
       "    // starts-up an IPython Comm through the \"matplotlib\" channel.\n",
       "\n",
       "    var id = msg.content.data.id;\n",
       "    // Get hold of the div created by the display call when the Comm\n",
       "    // socket was opened in Python.\n",
       "    var element = $(\"#\" + id);\n",
       "    var ws_proxy = comm_websocket_adapter(comm)\n",
       "\n",
       "    function ondownload(figure, format) {\n",
       "        window.open(figure.imageObj.src);\n",
       "    }\n",
       "\n",
       "    var fig = new mpl.figure(id, ws_proxy,\n",
       "                           ondownload,\n",
       "                           element.get(0));\n",
       "\n",
       "    // Call onopen now - mpl needs it, as it is assuming we've passed it a real\n",
       "    // web socket which is closed, not our websocket->open comm proxy.\n",
       "    ws_proxy.onopen();\n",
       "\n",
       "    fig.parent_element = element.get(0);\n",
       "    fig.cell_info = mpl.find_output_cell(\"<div id='\" + id + \"'></div>\");\n",
       "    if (!fig.cell_info) {\n",
       "        console.error(\"Failed to find cell for figure\", id, fig);\n",
       "        return;\n",
       "    }\n",
       "\n",
       "    var output_index = fig.cell_info[2]\n",
       "    var cell = fig.cell_info[0];\n",
       "\n",
       "};\n",
       "\n",
       "mpl.figure.prototype.handle_close = function(fig, msg) {\n",
       "    var width = fig.canvas.width/mpl.ratio\n",
       "    fig.root.unbind('remove')\n",
       "\n",
       "    // Update the output cell to use the data from the current canvas.\n",
       "    fig.push_to_output();\n",
       "    var dataURL = fig.canvas.toDataURL();\n",
       "    // Re-enable the keyboard manager in IPython - without this line, in FF,\n",
       "    // the notebook keyboard shortcuts fail.\n",
       "    IPython.keyboard_manager.enable()\n",
       "    $(fig.parent_element).html('<img src=\"' + dataURL + '\" width=\"' + width + '\">');\n",
       "    fig.close_ws(fig, msg);\n",
       "}\n",
       "\n",
       "mpl.figure.prototype.close_ws = function(fig, msg){\n",
       "    fig.send_message('closing', msg);\n",
       "    // fig.ws.close()\n",
       "}\n",
       "\n",
       "mpl.figure.prototype.push_to_output = function(remove_interactive) {\n",
       "    // Turn the data on the canvas into data in the output cell.\n",
       "    var width = this.canvas.width/mpl.ratio\n",
       "    var dataURL = this.canvas.toDataURL();\n",
       "    this.cell_info[1]['text/html'] = '<img src=\"' + dataURL + '\" width=\"' + width + '\">';\n",
       "}\n",
       "\n",
       "mpl.figure.prototype.updated_canvas_event = function() {\n",
       "    // Tell IPython that the notebook contents must change.\n",
       "    IPython.notebook.set_dirty(true);\n",
       "    this.send_message(\"ack\", {});\n",
       "    var fig = this;\n",
       "    // Wait a second, then push the new image to the DOM so\n",
       "    // that it is saved nicely (might be nice to debounce this).\n",
       "    setTimeout(function () { fig.push_to_output() }, 1000);\n",
       "}\n",
       "\n",
       "mpl.figure.prototype._init_toolbar = function() {\n",
       "    var fig = this;\n",
       "\n",
       "    var nav_element = $('<div/>')\n",
       "    nav_element.attr('style', 'width: 100%');\n",
       "    this.root.append(nav_element);\n",
       "\n",
       "    // Define a callback function for later on.\n",
       "    function toolbar_event(event) {\n",
       "        return fig.toolbar_button_onclick(event['data']);\n",
       "    }\n",
       "    function toolbar_mouse_event(event) {\n",
       "        return fig.toolbar_button_onmouseover(event['data']);\n",
       "    }\n",
       "\n",
       "    for(var toolbar_ind in mpl.toolbar_items){\n",
       "        var name = mpl.toolbar_items[toolbar_ind][0];\n",
       "        var tooltip = mpl.toolbar_items[toolbar_ind][1];\n",
       "        var image = mpl.toolbar_items[toolbar_ind][2];\n",
       "        var method_name = mpl.toolbar_items[toolbar_ind][3];\n",
       "\n",
       "        if (!name) { continue; };\n",
       "\n",
       "        var button = $('<button class=\"btn btn-default\" href=\"#\" title=\"' + name + '\"><i class=\"fa ' + image + ' fa-lg\"></i></button>');\n",
       "        button.click(method_name, toolbar_event);\n",
       "        button.mouseover(tooltip, toolbar_mouse_event);\n",
       "        nav_element.append(button);\n",
       "    }\n",
       "\n",
       "    // Add the status bar.\n",
       "    var status_bar = $('<span class=\"mpl-message\" style=\"text-align:right; float: right;\"/>');\n",
       "    nav_element.append(status_bar);\n",
       "    this.message = status_bar[0];\n",
       "\n",
       "    // Add the close button to the window.\n",
       "    var buttongrp = $('<div class=\"btn-group inline pull-right\"></div>');\n",
       "    var button = $('<button class=\"btn btn-mini btn-primary\" href=\"#\" title=\"Stop Interaction\"><i class=\"fa fa-power-off icon-remove icon-large\"></i></button>');\n",
       "    button.click(function (evt) { fig.handle_close(fig, {}); } );\n",
       "    button.mouseover('Stop Interaction', toolbar_mouse_event);\n",
       "    buttongrp.append(button);\n",
       "    var titlebar = this.root.find($('.ui-dialog-titlebar'));\n",
       "    titlebar.prepend(buttongrp);\n",
       "}\n",
       "\n",
       "mpl.figure.prototype._root_extra_style = function(el){\n",
       "    var fig = this\n",
       "    el.on(\"remove\", function(){\n",
       "\tfig.close_ws(fig, {});\n",
       "    });\n",
       "}\n",
       "\n",
       "mpl.figure.prototype._canvas_extra_style = function(el){\n",
       "    // this is important to make the div 'focusable\n",
       "    el.attr('tabindex', 0)\n",
       "    // reach out to IPython and tell the keyboard manager to turn it's self\n",
       "    // off when our div gets focus\n",
       "\n",
       "    // location in version 3\n",
       "    if (IPython.notebook.keyboard_manager) {\n",
       "        IPython.notebook.keyboard_manager.register_events(el);\n",
       "    }\n",
       "    else {\n",
       "        // location in version 2\n",
       "        IPython.keyboard_manager.register_events(el);\n",
       "    }\n",
       "\n",
       "}\n",
       "\n",
       "mpl.figure.prototype._key_event_extra = function(event, name) {\n",
       "    var manager = IPython.notebook.keyboard_manager;\n",
       "    if (!manager)\n",
       "        manager = IPython.keyboard_manager;\n",
       "\n",
       "    // Check for shift+enter\n",
       "    if (event.shiftKey && event.which == 13) {\n",
       "        this.canvas_div.blur();\n",
       "        // select the cell after this one\n",
       "        var index = IPython.notebook.find_cell_index(this.cell_info[0]);\n",
       "        IPython.notebook.select(index + 1);\n",
       "    }\n",
       "}\n",
       "\n",
       "mpl.figure.prototype.handle_save = function(fig, msg) {\n",
       "    fig.ondownload(fig, null);\n",
       "}\n",
       "\n",
       "\n",
       "mpl.find_output_cell = function(html_output) {\n",
       "    // Return the cell and output element which can be found *uniquely* in the notebook.\n",
       "    // Note - this is a bit hacky, but it is done because the \"notebook_saving.Notebook\"\n",
       "    // IPython event is triggered only after the cells have been serialised, which for\n",
       "    // our purposes (turning an active figure into a static one), is too late.\n",
       "    var cells = IPython.notebook.get_cells();\n",
       "    var ncells = cells.length;\n",
       "    for (var i=0; i<ncells; i++) {\n",
       "        var cell = cells[i];\n",
       "        if (cell.cell_type === 'code'){\n",
       "            for (var j=0; j<cell.output_area.outputs.length; j++) {\n",
       "                var data = cell.output_area.outputs[j];\n",
       "                if (data.data) {\n",
       "                    // IPython >= 3 moved mimebundle to data attribute of output\n",
       "                    data = data.data;\n",
       "                }\n",
       "                if (data['text/html'] == html_output) {\n",
       "                    return [cell, data, j];\n",
       "                }\n",
       "            }\n",
       "        }\n",
       "    }\n",
       "}\n",
       "\n",
       "// Register the function which deals with the matplotlib target/channel.\n",
       "// The kernel may be null if the page has been refreshed.\n",
       "if (IPython.notebook.kernel != null) {\n",
       "    IPython.notebook.kernel.comm_manager.register_target('matplotlib', mpl.mpl_figure_comm);\n",
       "}\n"
      ],
      "text/plain": [
       "<IPython.core.display.Javascript object>"
      ]
     },
     "metadata": {},
     "output_type": "display_data"
    },
    {
     "data": {
      "text/html": [
       "<img src=\"data:image/png;base64,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\" width=\"640\">"
      ],
      "text/plain": [
       "<IPython.core.display.HTML object>"
      ]
     },
     "metadata": {},
     "output_type": "display_data"
    },
    {
     "data": {
      "text/plain": [
       "[<matplotlib.lines.Line2D at 0xd7ab278>]"
      ]
     },
     "execution_count": 64,
     "metadata": {},
     "output_type": "execute_result"
    }
   ],
   "source": [
    "%matplotlib notebook\n",
    "plt.plot(h.traces[92].samples)"
   ]
  },
  {
   "cell_type": "code",
   "execution_count": null,
   "metadata": {
    "collapsed": true
   },
   "outputs": [],
   "source": [
    "h.distributions[0].stop_time"
   ]
  },
  {
   "cell_type": "code",
   "execution_count": null,
   "metadata": {
    "collapsed": true
   },
   "outputs": [],
   "source": [
    "%matplotlib notebook\n",
    "plt.plot(h.distributions[0].bins,'.')"
   ]
  },
  {
   "cell_type": "code",
   "execution_count": null,
   "metadata": {
    "collapsed": true
   },
   "outputs": [],
   "source": [
    "h.frames[1].payload_type"
   ]
  },
  {
   "cell_type": "code",
   "execution_count": null,
   "metadata": {
    "collapsed": true
   },
   "outputs": [],
   "source": [
    "h.frames[52].payload"
   ]
  },
  {
   "cell_type": "code",
   "execution_count": null,
   "metadata": {
    "collapsed": true
   },
   "outputs": [],
   "source": [
    "frame_header_dt.names"
   ]
  },
  {
   "cell_type": "code",
   "execution_count": null,
   "metadata": {
    "collapsed": true
   },
   "outputs": [],
   "source": [
    "h.close()"
   ]
  },
  {
   "cell_type": "code",
   "execution_count": null,
   "metadata": {
    "collapsed": true
   },
   "outputs": [],
   "source": [
    "stream=Data.fromfile('bytestream',stream_dt,'teslib','measurement_subsystem_TB',tool='vivado')\n",
    "packets=_PacketData(stream)\n",
    "del stream\n",
    "# _import(packets)\n",
    "# h=h5py.File('TES.hdf5','r')"
   ]
  },
  {
   "cell_type": "code",
   "execution_count": null,
   "metadata": {
    "collapsed": true
   },
   "outputs": [],
   "source": [
    "packets[1]['data']"
   ]
  },
  {
   "cell_type": "code",
   "execution_count": null,
   "metadata": {
    "collapsed": true
   },
   "outputs": [],
   "source": [
    "packets[51]\n"
   ]
  },
  {
   "cell_type": "code",
   "execution_count": null,
   "metadata": {
    "collapsed": true
   },
   "outputs": [],
   "source": [
    "h.close()"
   ]
  },
  {
   "cell_type": "code",
   "execution_count": null,
   "metadata": {
    "collapsed": true
   },
   "outputs": [],
   "source": [
    "len(h['traces'])"
   ]
  },
  {
   "cell_type": "code",
   "execution_count": null,
   "metadata": {
    "collapsed": true
   },
   "outputs": [],
   "source": [
    "t=h['raw_data/event'][h['traces'][5]]"
   ]
  },
  {
   "cell_type": "code",
   "execution_count": null,
   "metadata": {
    "collapsed": true
   },
   "outputs": [],
   "source": [
    "%matplotlib notebook\n",
    "t=h['raw_data/event'][h['traces'][5]]\n",
    "tr=Trace(t)\n",
    "print(tr.flags,'\\n',tr.trace_flags)\n",
    "plt.plot(tr.samples)"
   ]
  },
  {
   "cell_type": "code",
   "execution_count": null,
   "metadata": {
    "collapsed": true
   },
   "outputs": [],
   "source": [
    "tr"
   ]
  },
  {
   "cell_type": "code",
   "execution_count": null,
   "metadata": {
    "collapsed": true
   },
   "outputs": [],
   "source": [
    "s=str(tr.flags)\n",
    "s"
   ]
  },
  {
   "cell_type": "code",
   "execution_count": null,
   "metadata": {
    "collapsed": true
   },
   "outputs": [],
   "source": [
    "print(s)"
   ]
  },
  {
   "cell_type": "code",
   "execution_count": null,
   "metadata": {
    "collapsed": true
   },
   "outputs": [],
   "source": [
    "type(h['raw_data/event'][h['traces'][0]])"
   ]
  },
  {
   "cell_type": "code",
   "execution_count": null,
   "metadata": {
    "collapsed": true
   },
   "outputs": [],
   "source": [
    "from tes.hdf5 import Trace"
   ]
  },
  {
   "cell_type": "code",
   "execution_count": null,
   "metadata": {
    "collapsed": true
   },
   "outputs": [],
   "source": [
    "tr.flags"
   ]
  },
  {
   "cell_type": "code",
   "execution_count": null,
   "metadata": {
    "collapsed": true
   },
   "outputs": [],
   "source": [
    "tr.trace_flags"
   ]
  },
  {
   "cell_type": "code",
   "execution_count": null,
   "metadata": {
    "collapsed": true
   },
   "outputs": [],
   "source": [
    "%matplotlib notebook\n",
    "plt.plot(tr.samples)"
   ]
  },
  {
   "cell_type": "code",
   "execution_count": null,
   "metadata": {
    "collapsed": true
   },
   "outputs": [],
   "source": [
    "len(tr.samples)"
   ]
  },
  {
   "cell_type": "code",
   "execution_count": null,
   "metadata": {
    "collapsed": true
   },
   "outputs": [],
   "source": [
    "first_dt = np.dtype([('size', np.uint16), ('tflags0', np.uint8), ('tflags1', np.uint8),\n",
    "        ('flags0', np.uint8), ('flags1', np.uint8), ('time', np.uint16)])\n",
    "\n"
   ]
  },
  {
   "cell_type": "code",
   "execution_count": null,
   "metadata": {
    "collapsed": true
   },
   "outputs": [],
   "source": []
  },
  {
   "cell_type": "code",
   "execution_count": null,
   "metadata": {
    "collapsed": true
   },
   "outputs": [],
   "source": [
    "t[0:8].view(first_dt)"
   ]
  },
  {
   "cell_type": "code",
   "execution_count": null,
   "metadata": {
    "collapsed": true
   },
   "outputs": [],
   "source": []
  },
  {
   "cell_type": "code",
   "execution_count": null,
   "metadata": {
    "collapsed": true
   },
   "outputs": [],
   "source": [
    "_rref = h5py.special_dtype(ref=h5py.RegionReference)\n",
    "h=h5py.File('test.hdf5', 'w')"
   ]
  },
  {
   "cell_type": "code",
   "execution_count": null,
   "metadata": {
    "collapsed": true
   },
   "outputs": [],
   "source": [
    "h.close()"
   ]
  },
  {
   "cell_type": "code",
   "execution_count": null,
   "metadata": {
    "collapsed": true
   },
   "outputs": [],
   "source": [
    "t= np.array((10,),'u1')\n",
    "h.create_dataset('t',(10,),dtype='u1')"
   ]
  },
  {
   "cell_type": "code",
   "execution_count": null,
   "metadata": {
    "collapsed": true
   },
   "outputs": [],
   "source": [
    "h.create_dataset('r',(10,),dtype=_rref)"
   ]
  },
  {
   "cell_type": "code",
   "execution_count": null,
   "metadata": {
    "collapsed": true
   },
   "outputs": [],
   "source": [
    "h.create_dataset('s',(10,),dtype='u1')"
   ]
  },
  {
   "cell_type": "code",
   "execution_count": null,
   "metadata": {
    "collapsed": true
   },
   "outputs": [],
   "source": [
    "h['s'][0]=0\n",
    "h['s'][1]=1"
   ]
  },
  {
   "cell_type": "code",
   "execution_count": null,
   "metadata": {
    "collapsed": true
   },
   "outputs": [],
   "source": [
    "h['r'][0]=h['t'].regionref[0:2]"
   ]
  },
  {
   "cell_type": "code",
   "execution_count": null,
   "metadata": {
    "collapsed": true
   },
   "outputs": [],
   "source": [
    "r=h['r'][0]"
   ]
  },
  {
   "cell_type": "code",
   "execution_count": null,
   "metadata": {
    "collapsed": true
   },
   "outputs": [],
   "source": [
    "t= np.array([0,1,2],'u1')"
   ]
  },
  {
   "cell_type": "code",
   "execution_count": null,
   "metadata": {
    "collapsed": true
   },
   "outputs": [],
   "source": [
    "t = [0,1]\n",
    "\n",
    "f = np.uint64(0)\n",
    "print(type(f))\n",
    "f += len(t)\n",
    "print(type(f))"
   ]
  },
  {
   "cell_type": "code",
   "execution_count": null,
   "metadata": {
    "collapsed": true
   },
   "outputs": [],
   "source": [
    "t[0:1][0]"
   ]
  },
  {
   "cell_type": "code",
   "execution_count": null,
   "metadata": {
    "collapsed": true
   },
   "outputs": [],
   "source": [
    "i=0\n",
    "for p in packets:\n",
    "    if i==7:\n",
    "        break\n",
    "    i+=1"
   ]
  },
  {
   "cell_type": "code",
   "execution_count": null,
   "metadata": {
    "collapsed": true
   },
   "outputs": [],
   "source": [
    "p"
   ]
  },
  {
   "cell_type": "code",
   "execution_count": null,
   "metadata": {
    "collapsed": true
   },
   "outputs": [],
   "source": [
    "lasts = np.where(stream['last'] < 0)[0] + 1"
   ]
  },
  {
   "cell_type": "code",
   "execution_count": null,
   "metadata": {
    "collapsed": true
   },
   "outputs": [],
   "source": [
    "lasts"
   ]
  },
  {
   "cell_type": "code",
   "execution_count": null,
   "metadata": {
    "collapsed": true
   },
   "outputs": [],
   "source": [
    "'last' in stream.dtype.names"
   ]
  },
  {
   "cell_type": "code",
   "execution_count": null,
   "metadata": {
    "collapsed": true
   },
   "outputs": [],
   "source": [
    "isinstance(stream,np.ndarray)"
   ]
  },
  {
   "cell_type": "code",
   "execution_count": null,
   "metadata": {
    "collapsed": true
   },
   "outputs": [],
   "source": [
    "type('poo')"
   ]
  },
  {
   "cell_type": "code",
   "execution_count": null,
   "metadata": {
    "collapsed": true
   },
   "outputs": [],
   "source": [
    "stream[lasts[0]:]"
   ]
  },
  {
   "cell_type": "code",
   "execution_count": null,
   "metadata": {
    "collapsed": true
   },
   "outputs": [],
   "source": [
    "ps=PacketStream(stream)\n",
    "# ps.traces"
   ]
  },
  {
   "cell_type": "code",
   "execution_count": null,
   "metadata": {
    "collapsed": true
   },
   "outputs": [],
   "source": [
    "type(ps[0])"
   ]
  },
  {
   "cell_type": "code",
   "execution_count": null,
   "metadata": {
    "collapsed": true
   },
   "outputs": [],
   "source": [
    "sum(stream['last']<0)"
   ]
  },
  {
   "cell_type": "code",
   "execution_count": null,
   "metadata": {
    "collapsed": true
   },
   "outputs": [],
   "source": [
    "%matplotlib notebook\n",
    "\n",
    "plt.plot(ps.traces[3]._view['trace'])\n",
    "# ps.traces[2]._view['trace'][-20:]"
   ]
  },
  {
   "cell_type": "code",
   "execution_count": null,
   "metadata": {
    "collapsed": true
   },
   "outputs": [],
   "source": [
    "ps.traces"
   ]
  },
  {
   "cell_type": "code",
   "execution_count": null,
   "metadata": {
    "collapsed": true,
    "run_control": {
     "frozen": false,
     "read_only": false
    },
    "scrolled": true
   },
   "outputs": [],
   "source": [
    "traces=Data.fromfile('traces',trace_dt,'teslib','measurement_subsystem_TB',tool='vivado')\n",
    "stream=Data.fromfile('bytestream',stream_dt,'teslib','measurement_subsystem_TB',tool='vivado')\n",
    "bs=PacketStream(stream)\n",
    "dists=bs.distributions\n",
    "#bs.packets\n",
    "dists"
   ]
  },
  {
   "cell_type": "code",
   "execution_count": null,
   "metadata": {
    "collapsed": true
   },
   "outputs": [],
   "source": [
    "d=dists[0]\n",
    "d.counts[-1]"
   ]
  },
  {
   "cell_type": "code",
   "execution_count": null,
   "metadata": {
    "collapsed": true
   },
   "outputs": [],
   "source": [
    "d.total+d.underflow+d.overflow"
   ]
  },
  {
   "cell_type": "code",
   "execution_count": null,
   "metadata": {
    "collapsed": true
   },
   "outputs": [],
   "source": [
    "%matplotlib notebook\n",
    "plt.plot(d.bins)"
   ]
  },
  {
   "cell_type": "code",
   "execution_count": null,
   "metadata": {
    "collapsed": true,
    "scrolled": false
   },
   "outputs": [],
   "source": [
    "f=EventFlags(es[2][2]['flags'])\n",
    "f.channel"
   ]
  },
  {
   "cell_type": "code",
   "execution_count": null,
   "metadata": {
    "collapsed": true,
    "run_control": {
     "frozen": false,
     "read_only": false
    },
    "scrolled": true
   },
   "outputs": [],
   "source": [
    "import tes.mca as mca\n",
    "d=bs.distributions[0]\n",
    "eset=np.uint64(1)\n",
    "bset=np.uint64(0)\n",
    "cset=np.uint64(20)\n",
    "\n",
    "stop=d.stop_time+eset+cset\n",
    "start=d.start_time+bset+cset\n",
    "bins=np.zeros((d.last_bin+1,),dtype=np.uint32)\n",
    "\n",
    "if d.value==mca.Value.raw_signal:\n",
    "    tname='raw'\n",
    "elif d.value==mca.Value.filtered_signal:\n",
    "    tname='filtered'\n",
    "elif d.value==mca.Value.slope_signal:\n",
    "    tname='slope'\n",
    "\n",
    "for i in range(start,stop):\n",
    "    s = traces[tname][i]\n",
    "    if s < d.lowest_value:\n",
    "        bins[0] += 1\n",
    "    else:\n",
    "        bin_number = s - d.lowest_value + 1\n",
    "        if bin_number < d.last_bin:\n",
    "            bins[bin_number] += 1\n",
    "        else:\n",
    "            bins[d.last_bin] += 1\n",
    "        \n",
    "bad=(bins-d.counts).nonzero()\n",
    "bad"
   ]
  },
  {
   "cell_type": "code",
   "execution_count": null,
   "metadata": {
    "collapsed": true
   },
   "outputs": [],
   "source": [
    "d.counts[bad][1:10]"
   ]
  },
  {
   "cell_type": "code",
   "execution_count": null,
   "metadata": {
    "collapsed": true
   },
   "outputs": [],
   "source": [
    "bins[bad][1:10]"
   ]
  },
  {
   "cell_type": "code",
   "execution_count": null,
   "metadata": {
    "collapsed": true
   },
   "outputs": [],
   "source": [
    "d.value"
   ]
  },
  {
   "cell_type": "code",
   "execution_count": null,
   "metadata": {
    "collapsed": true,
    "scrolled": false
   },
   "outputs": [],
   "source": [
    "%matplotlib notebook\n",
    "plt.step(np.arange(len(d.bins)),d.bins)\n",
    "# plt.step(np.arange(len(d.counts)),bins)\n",
    "plt.plot(bad,np.zeros_like(bad),'.k')"
   ]
  },
  {
   "cell_type": "code",
   "execution_count": null,
   "metadata": {
    "collapsed": true
   },
   "outputs": [],
   "source": [
    "sum(d.counts)"
   ]
  },
  {
   "cell_type": "code",
   "execution_count": null,
   "metadata": {
    "collapsed": true
   },
   "outputs": [],
   "source": [
    "2**14+2000"
   ]
  },
  {
   "cell_type": "code",
   "execution_count": null,
   "metadata": {
    "collapsed": true,
    "run_control": {
     "frozen": false,
     "read_only": false
    }
   },
   "outputs": [],
   "source": [
    "def plot_event(event_tupple):\n",
    "    pre=200\n",
    "    post=1000\n",
    "    timestamp=event_tupple[0]\n",
    "    event_type=event_tupple[1]\n",
    "    event=event_tupple[2]\n",
    "    flags=EventFlags(event['flags'])\n",
    "    print(flags)\n",
    "    print('timestamp',timestamp, 'time', event['time'])\n",
    "    if flags.type == Event.tick:\n",
    "        return\n",
    "    s=traces['filtered'][timestamp+20-pre:timestamp+20+post]\n",
    "    r=traces['raw'][timestamp+20-pre:timestamp+20+post]\n",
    "    i = np.where(abs(minmax['clk'])<=timestamp+20)[0][-1]\n",
    "    min_t=abs(minmax['clk'][i])-(timestamp+20)\n",
    "#     print(minmax['clk'][i],min_t,i,timestamp)\n",
    "    plt.plot(r,'k',linewidth=0.5)\n",
    "    plt.plot(s,'b',linewidth=2)\n",
    "    plt.plot([pre],s[pre],'sg')\n",
    "    plt.plot([pre+min_t],minmax['filtered'][i],'sr')\n",
    "    if event_type==Event.pulse:\n",
    "        for i in range(flags.peak_number):\n",
    "            p=event['peaks'][i]\n",
    "            plt.plot([0,len(s)-1],[p['height'],p['height']],':r')\n",
    "    else:\n",
    "      plt.plot([0,len(s)-1],[event['height'],event['height']],':r')\n",
    "        \n",
    "    #print(event['height'],event['minima'])\n",
    "    #print(minmax['filtered'][i]==s[pre+min_t])\n",
    "    #print(minmax['filtered'][i]==event['minima'])\n",
    "    #print(s[pre],s[pre-1])"
   ]
  },
  {
   "cell_type": "code",
   "execution_count": null,
   "metadata": {
    "collapsed": true,
    "run_control": {
     "frozen": false,
     "read_only": false
    }
   },
   "outputs": [],
   "source": [
    "pwd"
   ]
  },
  {
   "cell_type": "code",
   "execution_count": null,
   "metadata": {
    "collapsed": true
   },
   "outputs": [],
   "source": [
    "es=bs.eventstream\n",
    "es"
   ]
  },
  {
   "cell_type": "code",
   "execution_count": null,
   "metadata": {
    "collapsed": true,
    "run_control": {
     "frozen": false,
     "read_only": false
    }
   },
   "outputs": [],
   "source": [
    "%matplotlib notebook\n",
    "for e in es:\n",
    "    if e[1]==Event.peak:\n",
    "        plot_event(e)"
   ]
  },
  {
   "cell_type": "code",
   "execution_count": null,
   "metadata": {
    "collapsed": true,
    "run_control": {
     "frozen": false,
     "read_only": false
    }
   },
   "outputs": [],
   "source": [
    "es"
   ]
  },
  {
   "cell_type": "code",
   "execution_count": null,
   "metadata": {
    "collapsed": true,
    "run_control": {
     "frozen": false,
     "read_only": false
    }
   },
   "outputs": [],
   "source": [
    "dists=bs.distributions\n",
    "dists"
   ]
  },
  {
   "cell_type": "code",
   "execution_count": null,
   "metadata": {
    "collapsed": true,
    "run_control": {
     "frozen": false,
     "read_only": false
    }
   },
   "outputs": [],
   "source": [
    "bs.packets[185].payload"
   ]
  },
  {
   "cell_type": "code",
   "execution_count": null,
   "metadata": {
    "collapsed": true,
    "run_control": {
     "frozen": false,
     "read_only": false
    }
   },
   "outputs": [],
   "source": [
    "d=bs.distributions[0]\n",
    "eset=np.uint64(1)\n",
    "bset=np.uint64(0)\n",
    "cset=np.uint64(20)\n",
    "\n",
    "stop=d.stop_time+eset+cset\n",
    "start=d.start_time+bset+cset\n",
    "bins=np.zeros((d.last_bin+1,),dtype=np.uint32)\n",
    "for i in range(start,stop):\n",
    "    s = traces['raw'][i]\n",
    "    if s <= d.lowest_value:\n",
    "        bins[0] += 1\n",
    "    else:\n",
    "        bins[s-d.lowest_value] += 1\n",
    "        \n",
    "(bins-d.counts).nonzero()"
   ]
  },
  {
   "cell_type": "code",
   "execution_count": null,
   "metadata": {
    "collapsed": true,
    "run_control": {
     "frozen": false,
     "read_only": false
    }
   },
   "outputs": [],
   "source": [
    "%matplotlib notebook\n",
    "plt.step(np.arange(len(d.counts)),d.counts)"
   ]
  },
  {
   "cell_type": "code",
   "execution_count": null,
   "metadata": {
    "collapsed": true,
    "run_control": {
     "frozen": false,
     "read_only": false
    }
   },
   "outputs": [],
   "source": [
    "bins[bins.nonzero()]"
   ]
  },
  {
   "cell_type": "code",
   "execution_count": null,
   "metadata": {
    "collapsed": true,
    "run_control": {
     "frozen": false,
     "read_only": false
    }
   },
   "outputs": [],
   "source": [
    "sum(d.counts)"
   ]
  },
  {
   "cell_type": "code",
   "execution_count": null,
   "metadata": {
    "collapsed": true,
    "run_control": {
     "frozen": false,
     "read_only": false
    }
   },
   "outputs": [],
   "source": [
    "2**14+2000"
   ]
  },
  {
   "cell_type": "code",
   "execution_count": null,
   "metadata": {
    "collapsed": true,
    "run_control": {
     "frozen": false,
     "read_only": false
    }
   },
   "outputs": [],
   "source": [
    "es[3][2]['timestamp']-es[0][2]['timestamp']"
   ]
  },
  {
   "cell_type": "code",
   "execution_count": null,
   "metadata": {
    "collapsed": true,
    "run_control": {
     "frozen": false,
     "read_only": false
    }
   },
   "outputs": [],
   "source": [
    "def xings(s, thresh):\n",
    "    pos=s > thresh\n",
    "    neg=s < thresh\n",
    "    pos0=s >= thresh\n",
    "    neg0=s <= thresh\n",
    "    pos_xing_mask = np.bitwise_and(pos0[1:],neg[0:-1])  \n",
    "    neg_xing_mask = np.bitwise_and(neg0[1:],pos[0:-1])  \n",
    "    return pos_xing_mask.nonzero()[0]+1, neg_xing_mask.nonzero()[0]+1"
   ]
  },
  {
   "cell_type": "code",
   "execution_count": null,
   "metadata": {
    "collapsed": true,
    "run_control": {
     "frozen": false,
     "read_only": false
    }
   },
   "outputs": [],
   "source": [
    "from mpl_toolkits.axes_grid1 import host_subplot\n",
    "\n",
    "def plot_trace(traces,start,width):\n",
    "\n",
    "    ax = host_subplot(111)\n",
    "    axr = ax.twinx()\n",
    "    axt = ax.twiny()\n",
    "#ax.plot(t[0:-1:10],s[0:-1:10],'k')\n",
    "#ax.plot(t,s,'k')\n",
    "    axt.set_xlabel('Time ns',fontsize=18)\n",
    "    ax.set_ylabel('Voltage (Arbitary Units)',fontsize=18)\n",
    "#plt.xticks(visible=False)\n",
    "#plt.yticks(visible=False)\n",
    "#ax.set_xlim(0,t[4000000])\n",
    "#start=902000\n",
    "#width=2500\n",
    "    f=traces['filtered'][start:start+width]\n",
    "    s=traces['slope'][start:start+width]\n",
    "    t=np.arange(len(f))*4e-9\n",
    "#ts=t[pstart:pstop]\n",
    "#axins = fig.add_axes([.4, .45, .45, .4])\n",
    "    ax.set_xlim(t[0],t[-1])\n",
    "    axt.set_xlim(t[0],t[-1])\n",
    "\n",
    "    ylim=(-500,2000)\n",
    "\n",
    "    ax.set_ylim(ylim[0],ylim[1])\n",
    "    axr.set_ylim(ylim[0],ylim[1])\n",
    "\n",
    "    filtered, = ax.step(t,f,'k',lw=2,label='filtered')\n",
    "    slope, = ax.step(t,s,'b',label='slope')\n",
    "    ax.fill_between(t,0,s,alpha=.4)\n",
    "    plt.ylim=ylim\n",
    "\n",
    "pos=s>0\n",
    "neg=s<=0\n",
    "pos_xing_mask = np.bitwise_and(pos[1:-1],neg[0:-2])  \n",
    "neg_xing_mask = np.bitwise_and(neg[1:-1],pos[0:-2])  \n",
    "pos_xing=pos_xing_mask.nonzero()\n",
    "neg_xing=neg_xing_mask.nonzero()\n",
    "\n",
    "rx=[t[pos_xing[0][0]], t[neg_xing[0][0]]]\n",
    "ry=[f[pos_xing[0][0]], f[neg_xing[0][0]]]\n",
    "\n",
    "ax.fill_between(t[pos_xing[0][0]:neg_xing[0][0]],0,s[pos_xing[0][0]:neg_xing[0][0]],alpha=.4,color='r')\n",
    "\n",
    "#plt.plot(rx,[ry[0], ry[0]],'-r',lw=2)\n",
    "#plt.plot([rx[1],rx[1]], ry,'-r',lw=2)\n",
    "# thresholds\n",
    "sthresh = 600\n",
    "pthresh = 1000\n",
    "plt.plot([t[0], t[-1]], [sthresh, sthresh], '--b', lw=2)\n",
    "plt.plot([t[0], t[-1]], [pthresh, pthresh], '--k', lw=2)\n",
    "\n",
    "sthresh_xing=(s>sthresh).nonzero()[0][0]\n",
    "pthresh_xing=(f>pthresh).nonzero()[0][0]\n",
    "\n",
    "\n",
    "cf=.10\n",
    "height = ry[1]-ry[0]\n",
    "cfl=ry[0]+(height*cf)\n",
    "cfh=ry[1]-(height*cf)\n",
    "\n",
    "cfl_xing=(f>cfl).nonzero()[0][0]\n",
    "cfd_low=f[cfl_xing]\n",
    "cfh_xing=(f>cfh).nonzero()[0][0]\n",
    "cfd_high=f[cfh_xing]\n",
    "\n",
    "#plt.plot([t[cfl_xing], t[-1]],[cfd_low, cfd_low], ':r')\n",
    "#plt.plot([t[cfh_xing], t[-1]],[cfd_high, cfd_high], ':r')\n",
    "#plt.plot([x[1], t[-1]],[y[1], y[1]], ':r')\n",
    "plt.legend([filtered, slope],['Signal', 'Slope'],loc=2)\n",
    "\n",
    "#axr = ax.twinx()\n",
    "##################################################################\n",
    "#yticks=([ry[0],sthresh,pthresh,cfd_high,ry[1]])\n",
    "yticks=([sthresh,pthresh])\n",
    "axr.set_yticks(yticks)\n",
    "#yticklabels=['Start','Slope threshold','Pulse threshold','CF high','Peak']\n",
    "yticklabels=['Slope threshold','Pulse threshold']\n",
    "axr.set_yticklabels(yticklabels, color='r',fontsize=14)\n",
    "axr.get_yticklabels()[0].set_color('b')\n",
    "axr.get_yticklabels()[1].set_color('k')\n",
    "\n",
    "#xticks=([rx[0],t[cfl_xing],t[sthresh_xing],t[pthresh_xing],rx[1]])\n",
    "xticks=(t[cfl_xing],rx[1])\n",
    "#ax.set_xticks([rx[0],t[cfl_xing],t[sthresh_xing],t[pthresh_xing],rx[1]])\n",
    "ax.set_xticks(xticks)\n",
    "#xticklabels=['Start','CF low','Slope xing','Signal xing','Peak']\n",
    "xticklabels=['CF low','Peak']\n",
    "ax.set_xticklabels(xticklabels, color='r',fontsize=14)\n",
    "\n",
    "#plt.plot([t[cfh_xing], t[-1]],[cfd_high, cfd_high], ':r')\n",
    "#horoz start, stop lines\n",
    "#hpeak=ax.plot([xticks[1], t[-1]],[yticks[-1], yticks[-1]], '-.r')\n",
    "#hstart=ax.plot([xticks[0], t[-1]],[yticks[0], yticks[0]], '-.r')\n",
    "#vert start stop\n",
    "vstart=ax.plot([xticks[0], xticks[0]],[cfd_low, ylim[0]], '-.r')\n",
    "vpeak=ax.plot([xticks[1], xticks[1]],[ylim[0], ry[1]], '-.r')\n",
    "\n",
    "plt.tight_layout()\n",
    "plt.savefig('..//peakextraction7.svg')\n",
    "plt.show()\n",
    "print('risetime:',(xticks[1]-xticks[0])/4)\n",
    "print('height:',yticks[-1]-yticks[0])\n",
    "print('time:',(xticks[0]-rx[0])/4)\n",
    "print('area',sum(s[pos_xing[0][0]:neg_xing[0][0]])/256)\n"
   ]
  },
  {
   "cell_type": "code",
   "execution_count": null,
   "metadata": {
    "collapsed": true,
    "run_control": {
     "frozen": false,
     "read_only": false
    }
   },
   "outputs": [],
   "source": [
    "slope_0xings = xings(traces['slope'],0)"
   ]
  },
  {
   "cell_type": "code",
   "execution_count": null,
   "metadata": {
    "collapsed": true,
    "run_control": {
     "frozen": false,
     "read_only": false
    }
   },
   "outputs": [],
   "source": [
    "slope_0xings"
   ]
  },
  {
   "cell_type": "code",
   "execution_count": null,
   "metadata": {
    "collapsed": true,
    "run_control": {
     "frozen": false,
     "read_only": false
    }
   },
   "outputs": [],
   "source": [
    "%matplotlib notebook\n",
    "start=10000\n",
    "width=300\n",
    "plt.plot(traces['filtered'][start:start+width]/2)"
   ]
  },
  {
   "cell_type": "code",
   "execution_count": null,
   "metadata": {
    "collapsed": true,
    "run_control": {
     "frozen": false,
     "read_only": false
    }
   },
   "outputs": [],
   "source": [
    "%matplotlib notebook\n",
    "plt.plot(traces['slope'][20400:21700])"
   ]
  },
  {
   "cell_type": "code",
   "execution_count": null,
   "metadata": {
    "collapsed": true,
    "run_control": {
     "frozen": false,
     "read_only": false
    }
   },
   "outputs": [],
   "source": [
    "filtered=traces['filtered'][1100:]\n",
    "filteredL=traces['filteredL'][1100:]"
   ]
  },
  {
   "cell_type": "code",
   "execution_count": null,
   "metadata": {
    "collapsed": true,
    "run_control": {
     "frozen": false,
     "read_only": false
    }
   },
   "outputs": [],
   "source": [
    "filtered[:10]"
   ]
  },
  {
   "cell_type": "code",
   "execution_count": null,
   "metadata": {
    "collapsed": true,
    "run_control": {
     "frozen": false,
     "read_only": false
    }
   },
   "outputs": [],
   "source": [
    "filteredL[:10]/4"
   ]
  },
  {
   "cell_type": "code",
   "execution_count": null,
   "metadata": {
    "collapsed": true,
    "run_control": {
     "frozen": false,
     "read_only": false
    }
   },
   "outputs": [],
   "source": [
    "minmax_dt=np.dtype([('filtered','i4'),('low','i4'),('high','i4'),('clk','i4')])\n",
    "minmax=Data.fromfile('minmax',minmax_dt,'teslib','measurement_subsystem_TB',tool='vivado')\n",
    "fxing_dt=np.dtype([('extrema','i4'),('area','i4'),('clk','i4')])\n",
    "fxing=Data.fromfile('filteredxing',fxing_dt,'teslib','measurement_subsystem_TB',tool='vivado')"
   ]
  },
  {
   "cell_type": "code",
   "execution_count": null,
   "metadata": {
    "collapsed": true,
    "run_control": {
     "frozen": false,
     "read_only": false
    }
   },
   "outputs": [],
   "source": [
    "minmax"
   ]
  },
  {
   "cell_type": "code",
   "execution_count": null,
   "metadata": {
    "collapsed": true,
    "run_control": {
     "frozen": false,
     "read_only": false
    }
   },
   "outputs": [],
   "source": [
    "fxing"
   ]
  },
  {
   "cell_type": "code",
   "execution_count": null,
   "metadata": {
    "collapsed": true,
    "run_control": {
     "frozen": false,
     "read_only": false
    }
   },
   "outputs": [],
   "source": [
    "np.where(fxing['area']==0)"
   ]
  },
  {
   "cell_type": "code",
   "execution_count": null,
   "metadata": {
    "collapsed": true,
    "run_control": {
     "frozen": false,
     "read_only": false
    }
   },
   "outputs": [],
   "source": [
    "np.where(fxing['extrema']==0)"
   ]
  },
  {
   "cell_type": "code",
   "execution_count": null,
   "metadata": {
    "collapsed": true,
    "run_control": {
     "frozen": false,
     "read_only": false
    }
   },
   "outputs": [],
   "source": [
    "fxing[30]"
   ]
  },
  {
   "cell_type": "code",
   "execution_count": null,
   "metadata": {
    "collapsed": true,
    "run_control": {
     "frozen": false,
     "read_only": false
    }
   },
   "outputs": [],
   "source": [
    "exn=np.where(fxing['extrema']<0)\n",
    "clkn=np.where(fxing['clk']>0)"
   ]
  },
  {
   "cell_type": "code",
   "execution_count": null,
   "metadata": {
    "collapsed": true,
    "run_control": {
     "frozen": false,
     "read_only": false
    }
   },
   "outputs": [],
   "source": []
  },
  {
   "cell_type": "code",
   "execution_count": null,
   "metadata": {
    "collapsed": true,
    "run_control": {
     "frozen": false,
     "read_only": false
    }
   },
   "outputs": [],
   "source": [
    "fxing[374]"
   ]
  },
  {
   "cell_type": "code",
   "execution_count": null,
   "metadata": {
    "collapsed": true,
    "run_control": {
     "frozen": false,
     "read_only": false
    }
   },
   "outputs": [],
   "source": [
    "clkn"
   ]
  },
  {
   "cell_type": "code",
   "execution_count": null,
   "metadata": {
    "collapsed": true,
    "run_control": {
     "frozen": false,
     "read_only": false
    }
   },
   "outputs": [],
   "source": [
    "np.where(minmax[maxs[0]-1]['min']!=1)"
   ]
  },
  {
   "cell_type": "code",
   "execution_count": null,
   "metadata": {
    "collapsed": true,
    "run_control": {
     "frozen": false,
     "read_only": false
    }
   },
   "outputs": [],
   "source": [
    "minmax[maxs[0]-1][65]"
   ]
  },
  {
   "cell_type": "code",
   "execution_count": null,
   "metadata": {
    "collapsed": true,
    "run_control": {
     "frozen": false,
     "read_only": false
    }
   },
   "outputs": [],
   "source": [
    "2290-925"
   ]
  },
  {
   "cell_type": "code",
   "execution_count": null,
   "metadata": {
    "collapsed": true,
    "run_control": {
     "frozen": false,
     "read_only": false
    }
   },
   "outputs": [],
   "source": [
    "0.375*4"
   ]
  },
  {
   "cell_type": "code",
   "execution_count": null,
   "metadata": {
    "collapsed": true,
    "run_control": {
     "frozen": false,
     "read_only": false
    }
   },
   "outputs": [],
   "source": [
    "np.where(minmax['clock']==2290)"
   ]
  },
  {
   "cell_type": "code",
   "execution_count": null,
   "metadata": {
    "collapsed": true,
    "run_control": {
     "frozen": false,
     "read_only": false
    }
   },
   "outputs": [],
   "source": [
    "minmax[120:140]"
   ]
  },
  {
   "cell_type": "code",
   "execution_count": null,
   "metadata": {
    "collapsed": true,
    "run_control": {
     "frozen": false,
     "read_only": false
    }
   },
   "outputs": [],
   "source": [
    "stream_dt=np.dtype([('data','>i4'),('last','i4')])\n",
    "#stream=np.fromfile('data/stream',stream_dt)"
   ]
  },
  {
   "cell_type": "markdown",
   "metadata": {},
   "source": [
    "### bytestream stuff"
   ]
  },
  {
   "cell_type": "code",
   "execution_count": null,
   "metadata": {
    "collapsed": true,
    "run_control": {
     "frozen": false,
     "read_only": false
    }
   },
   "outputs": [],
   "source": [
    "stream_dt=np.dtype([('data','i4'),('last','i4')])\n",
    "stream=Data.fromfile('bytestream',stream_dt,'teslib','measurement_subsystem_TB',tool='vivado')\n",
    "lasts=np.where(stream['last']<=0)[0]+1\n",
    "#data=np.copy(stream['data'])"
   ]
  },
  {
   "cell_type": "code",
   "execution_count": null,
   "metadata": {
    "collapsed": true,
    "run_control": {
     "frozen": false,
     "read_only": false
    }
   },
   "outputs": [],
   "source": [
    "stream"
   ]
  },
  {
   "cell_type": "code",
   "execution_count": null,
   "metadata": {
    "collapsed": true,
    "run_control": {
     "frozen": false,
     "read_only": false
    }
   },
   "outputs": [],
   "source": []
  },
  {
   "cell_type": "code",
   "execution_count": null,
   "metadata": {
    "collapsed": true,
    "run_control": {
     "frozen": false,
     "read_only": false
    }
   },
   "outputs": [],
   "source": [
    "stream=np.fromfile('data/bytestream',stream_dt)"
   ]
  },
  {
   "cell_type": "code",
   "execution_count": null,
   "metadata": {
    "collapsed": true,
    "run_control": {
     "frozen": false,
     "read_only": false
    }
   },
   "outputs": [],
   "source": [
    "bs=PacketStream(stream)"
   ]
  },
  {
   "cell_type": "code",
   "execution_count": null,
   "metadata": {
    "collapsed": true,
    "run_control": {
     "frozen": false,
     "read_only": false
    }
   },
   "outputs": [],
   "source": [
    "bs.packets"
   ]
  },
  {
   "cell_type": "code",
   "execution_count": null,
   "metadata": {
    "collapsed": true,
    "run_control": {
     "frozen": false,
     "read_only": false
    }
   },
   "outputs": [],
   "source": [
    "bs.packets[4]"
   ]
  },
  {
   "cell_type": "code",
   "execution_count": null,
   "metadata": {
    "collapsed": true,
    "run_control": {
     "frozen": false,
     "read_only": false
    }
   },
   "outputs": [],
   "source": [
    "eheader_dt=[('etype','<u2'),('length','u2'),()]"
   ]
  },
  {
   "cell_type": "code",
   "execution_count": null,
   "metadata": {
    "collapsed": true,
    "run_control": {
     "frozen": false,
     "read_only": false
    }
   },
   "outputs": [],
   "source": [
    "'{:X}'.format(bs.packets[1].bytes[23])\n"
   ]
  },
  {
   "cell_type": "code",
   "execution_count": null,
   "metadata": {
    "collapsed": true,
    "run_control": {
     "frozen": false,
     "read_only": false
    }
   },
   "outputs": [],
   "source": [
    "'{:X}'.format(bs.packets[0].bytes[28:30].view(np.uint16)[0])"
   ]
  },
  {
   "cell_type": "code",
   "execution_count": null,
   "metadata": {
    "collapsed": true,
    "run_control": {
     "frozen": false,
     "read_only": false
    }
   },
   "outputs": [],
   "source": [
    "pulse_peak_dt=np.dtype([('height','i2'),('rise','i2'),('minima','u2'),('time','i2')])\n",
    "pulse_dt=np.dtype([('size','i2'),('resv','i2'),('flags','i2'),('time','u2'),\n",
    "                  ('area','i4'),('length','i2'),('offset','i2'),('peaks',(pulse_peak_dt,2))])"
   ]
  },
  {
   "cell_type": "code",
   "execution_count": null,
   "metadata": {
    "collapsed": true,
    "run_control": {
     "frozen": false,
     "read_only": false
    }
   },
   "outputs": [],
   "source": [
    "pulses=bs.packets[3].payload.view(pulse_dt)"
   ]
  },
  {
   "cell_type": "code",
   "execution_count": null,
   "metadata": {
    "collapsed": true,
    "run_control": {
     "frozen": false,
     "read_only": false
    }
   },
   "outputs": [],
   "source": [
    "pulses['peaks']"
   ]
  },
  {
   "cell_type": "code",
   "execution_count": null,
   "metadata": {
    "collapsed": true,
    "run_control": {
     "frozen": false,
     "read_only": false
    }
   },
   "outputs": [],
   "source": [
    "pulses['offset']"
   ]
  },
  {
   "cell_type": "code",
   "execution_count": null,
   "metadata": {
    "collapsed": true,
    "run_control": {
     "frozen": false,
     "read_only": false
    }
   },
   "outputs": [],
   "source": [
    "pulses['length']"
   ]
  },
  {
   "cell_type": "code",
   "execution_count": null,
   "metadata": {
    "collapsed": true,
    "run_control": {
     "frozen": false,
     "read_only": false
    }
   },
   "outputs": [],
   "source": [
    "class eflags:\n",
    "    def __init__(self,uint16):\n",
    "        self.new_window=np.bitwise_and(uint16,0x00000001)!=0\n",
    "        self.tick=np.bitwise_and(uint16,0x00000002)!=0\n",
    "        self.type=np.right_shift(np.bitwise_and(uint16,0x0000000c),2)\n",
    "        \n",
    "    def __repr__(self):\n",
    "        return 'New window:{:}\\n'.format(self.new_window) + \\\n",
    "               'Tick:{:}\\n'.format(self.tick) + \\\n",
    "               'Type:{:}\\n'.format(self.type) "
   ]
  },
  {
   "cell_type": "code",
   "execution_count": null,
   "metadata": {
    "collapsed": true,
    "run_control": {
     "frozen": false,
     "read_only": false
    }
   },
   "outputs": [],
   "source": [
    "f=eflags(pulses[0]['flags'])\n",
    "f"
   ]
  },
  {
   "cell_type": "code",
   "execution_count": null,
   "metadata": {
    "collapsed": true,
    "run_control": {
     "frozen": false,
     "read_only": false
    }
   },
   "outputs": [],
   "source": [
    "'{:X}'.format(bs.packets[3].bytes[13:14].view(np.uint16))"
   ]
  },
  {
   "cell_type": "code",
   "execution_count": null,
   "metadata": {
    "collapsed": true,
    "run_control": {
     "frozen": false,
     "read_only": false
    }
   },
   "outputs": [],
   "source": []
  },
  {
   "cell_type": "code",
   "execution_count": null,
   "metadata": {
    "collapsed": true,
    "run_control": {
     "frozen": false,
     "read_only": false
    }
   },
   "outputs": [],
   "source": [
    "'{:X}'.format(bs.packets[3].bytes[14:16].view(np.uint16)[0])"
   ]
  },
  {
   "cell_type": "code",
   "execution_count": null,
   "metadata": {
    "collapsed": true,
    "run_control": {
     "frozen": false,
     "read_only": false
    }
   },
   "outputs": [],
   "source": [
    "bs.packets[3].bytes[14:16].view(np.uint16)[0]"
   ]
  },
  {
   "cell_type": "code",
   "execution_count": null,
   "metadata": {
    "collapsed": true,
    "run_control": {
     "frozen": false,
     "read_only": false
    }
   },
   "outputs": [],
   "source": [
    "bs=np.uint8(stream['data'][:48])"
   ]
  },
  {
   "cell_type": "code",
   "execution_count": null,
   "metadata": {
    "collapsed": true,
    "run_control": {
     "frozen": false,
     "read_only": false
    }
   },
   "outputs": [],
   "source": [
    "bs"
   ]
  },
  {
   "cell_type": "code",
   "execution_count": null,
   "metadata": {
    "collapsed": true,
    "run_control": {
     "frozen": false,
     "read_only": false
    }
   },
   "outputs": [],
   "source": [
    "events=stream['data'].view(event_dt)"
   ]
  },
  {
   "cell_type": "code",
   "execution_count": null,
   "metadata": {
    "collapsed": true,
    "run_control": {
     "frozen": false,
     "read_only": false
    }
   },
   "outputs": [],
   "source": [
    "'{:X}'.format(events['flags'][0])"
   ]
  },
  {
   "cell_type": "code",
   "execution_count": null,
   "metadata": {
    "collapsed": true,
    "run_control": {
     "frozen": false,
     "read_only": false
    }
   },
   "outputs": [],
   "source": [
    "events['rise']"
   ]
  },
  {
   "cell_type": "code",
   "execution_count": null,
   "metadata": {
    "collapsed": true,
    "run_control": {
     "frozen": false,
     "read_only": false
    }
   },
   "outputs": [],
   "source": [
    "events"
   ]
  },
  {
   "cell_type": "code",
   "execution_count": null,
   "metadata": {
    "collapsed": true,
    "run_control": {
     "frozen": false,
     "read_only": false
    }
   },
   "outputs": [],
   "source": [
    "'{:04X}'.format(events['flags'][1])"
   ]
  },
  {
   "cell_type": "code",
   "execution_count": null,
   "metadata": {
    "collapsed": true,
    "run_control": {
     "frozen": false,
     "read_only": false
    }
   },
   "outputs": [],
   "source": [
    "pulse_peak_dt=np.dtype([('time','>i2'),('minima','>i2'),('rise','>u2'),('height','>i2')])\n",
    "pulse_dt=np.dtype([('time','>i2'),('flags','>i2'),('resv','>i2'),('size','>u2'),\n",
    "                  ('offset','>i2'),('length','>i2'),('area','>i4'),('peaks',(pulse_peak_dt,1))])\n",
    "data=np.copy(stream['data'])"
   ]
  },
  {
   "cell_type": "code",
   "execution_count": null,
   "metadata": {
    "collapsed": true,
    "run_control": {
     "frozen": false,
     "read_only": false
    }
   },
   "outputs": [],
   "source": [
    "pulses=data.view(pulse_dt)"
   ]
  },
  {
   "cell_type": "code",
   "execution_count": null,
   "metadata": {
    "collapsed": true,
    "run_control": {
     "frozen": false,
     "read_only": false
    }
   },
   "outputs": [],
   "source": [
    "pulses['peaks']['height']-pulses['peaks']['minima']"
   ]
  },
  {
   "cell_type": "code",
   "execution_count": null,
   "metadata": {
    "collapsed": true,
    "run_control": {
     "frozen": false,
     "read_only": false
    }
   },
   "outputs": [],
   "source": [
    "pulses['peaks']['minima']"
   ]
  },
  {
   "cell_type": "code",
   "execution_count": null,
   "metadata": {
    "collapsed": true,
    "run_control": {
     "frozen": false,
     "read_only": false
    }
   },
   "outputs": [],
   "source": [
    "peak_count=np.right_shift(np.bitwise_and(pulses['flags'],0xF000),12)\n",
    "peak_overflow=np.bitwise_and(pulses['flags'],0x0800)!=0\n",
    "channel=np.right_shift(np.bitwise_and(pulses['flags'],0x0700),8)\n",
    "timing_type=np.right_shift(np.bitwise_and(pulses['flags'],0x00C0),6)\n",
    "height_type=np.right_shift(np.bitwise_and(pulses['flags'],0x0030),4)\n",
    "event_type=np.right_shift(np.bitwise_and(pulses['flags'],0x000E),1)\n",
    "new_window=np.bitwise_and(pulses['flags'],0x0001)!=0"
   ]
  },
  {
   "cell_type": "code",
   "execution_count": null,
   "metadata": {
    "collapsed": true,
    "run_control": {
     "frozen": false,
     "read_only": false
    }
   },
   "outputs": [],
   "source": [
    "peak_overflow"
   ]
  },
  {
   "cell_type": "code",
   "execution_count": null,
   "metadata": {
    "collapsed": true,
    "run_control": {
     "frozen": false,
     "read_only": false
    }
   },
   "outputs": [],
   "source": [
    "test_dt=np.dtype(\n",
    "    [('time','i2'),('flags','i2'),('rise','u2'),('minima','i2'),('low','u8'),('high','u8')]\n",
    ")\n",
    "test=data.view(test_dt)"
   ]
  },
  {
   "cell_type": "code",
   "execution_count": null,
   "metadata": {
    "collapsed": true,
    "run_control": {
     "frozen": false,
     "read_only": false
    }
   },
   "outputs": [],
   "source": [
    "test"
   ]
  },
  {
   "cell_type": "code",
   "execution_count": null,
   "metadata": {
    "collapsed": true,
    "run_control": {
     "frozen": false,
     "read_only": false
    }
   },
   "outputs": [],
   "source": [
    "test['minima']"
   ]
  },
  {
   "cell_type": "code",
   "execution_count": null,
   "metadata": {
    "collapsed": true,
    "run_control": {
     "frozen": false,
     "read_only": false
    }
   },
   "outputs": [],
   "source": [
    "low1=np.int32(np.right_shift(np.bitwise_and(test['low'],0x03FFFF000000000),36))\n",
    "s=(np.bitwise_and(low1,0x00020000)!=0)*0xFFFC0000\n",
    "low2=np.int32(np.right_shift(np.bitwise_and(test['low'],0x000000FFFFC0000),18))\n",
    "low_threshold=np.int32(np.bitwise_and(test['low'],0x00000000003FFFF))\n",
    "high1=np.int32(np.right_shift(np.bitwise_and(test['high'],0x03FFFF000000000),36))\n",
    "high2=np.int32(np.right_shift(np.bitwise_and(test['high'],0x000000FFFFC0000),18))\n",
    "high_threshold=np.int32(np.bitwise_and(test['high'],0x00000000003FFFF))"
   ]
  },
  {
   "cell_type": "code",
   "execution_count": null,
   "metadata": {
    "collapsed": true,
    "run_control": {
     "frozen": false,
     "read_only": false
    }
   },
   "outputs": [],
   "source": [
    "np.int32(np.bitwise_or(low1,s))/8.0"
   ]
  },
  {
   "cell_type": "code",
   "execution_count": null,
   "metadata": {
    "collapsed": true,
    "run_control": {
     "frozen": false,
     "read_only": false
    }
   },
   "outputs": [],
   "source": [
    "'{:04X}'.format(low1[0])"
   ]
  },
  {
   "cell_type": "code",
   "execution_count": null,
   "metadata": {
    "collapsed": true,
    "run_control": {
     "frozen": false,
     "read_only": false
    }
   },
   "outputs": [],
   "source": [
    "high1/8.0"
   ]
  },
  {
   "cell_type": "code",
   "execution_count": null,
   "metadata": {
    "collapsed": true,
    "run_control": {
     "frozen": false,
     "read_only": false
    }
   },
   "outputs": [],
   "source": [
    "high2/8.0"
   ]
  },
  {
   "cell_type": "code",
   "execution_count": null,
   "metadata": {
    "collapsed": true,
    "run_control": {
     "frozen": false,
     "read_only": false
    }
   },
   "outputs": [],
   "source": [
    "'{:04X}'.format(high_threshold[0])"
   ]
  },
  {
   "cell_type": "code",
   "execution_count": null,
   "metadata": {
    "collapsed": true,
    "run_control": {
     "frozen": false,
     "read_only": false
    }
   },
   "outputs": [],
   "source": [
    "from enum import Enum"
   ]
  },
  {
   "cell_type": "code",
   "execution_count": null,
   "metadata": {
    "collapsed": true,
    "run_control": {
     "frozen": false,
     "read_only": false
    }
   },
   "outputs": [],
   "source": [
    "class VhdlEnum(int, Enum):\n",
    "\n",
    "    def __str__(self):\n",
    "        return self.name.replace(\"-\", \" \")\n",
    "    \n",
    "    def select(self):\n",
    "        return pow(2, self.value)\n",
    "    "
   ]
  },
  {
   "cell_type": "code",
   "execution_count": null,
   "metadata": {
    "collapsed": true,
    "run_control": {
     "frozen": false,
     "read_only": false
    }
   },
   "outputs": [],
   "source": [
    "class Test(VhdlEnum):\n",
    "    a=0\n",
    "    b=1"
   ]
  },
  {
   "cell_type": "code",
   "execution_count": null,
   "metadata": {
    "collapsed": true,
    "run_control": {
     "frozen": false,
     "read_only": false
    }
   },
   "outputs": [],
   "source": [
    "Test(0)"
   ]
  },
  {
   "cell_type": "code",
   "execution_count": null,
   "metadata": {
    "collapsed": true,
    "run_control": {
     "frozen": false,
     "read_only": false
    }
   },
   "outputs": [],
   "source": []
  }
 ],
 "metadata": {
  "anaconda-cloud": {},
  "kernelspec": {
   "display_name": "Python 3",
   "language": "python",
   "name": "python3"
  },
  "language_info": {
   "codemirror_mode": {
    "name": "ipython",
    "version": 3
   },
   "file_extension": ".py",
   "mimetype": "text/x-python",
   "name": "python",
   "nbconvert_exporter": "python",
   "pygments_lexer": "ipython3",
   "version": "3.6.1"
  }
 },
 "nbformat": 4,
 "nbformat_minor": 1
}
