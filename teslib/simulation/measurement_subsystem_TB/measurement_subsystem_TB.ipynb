{
 "cells": [
  {
   "cell_type": "markdown",
   "metadata": {},
   "source": [
    "timestamp 0 => clk 20\n",
    "\n",
    "traces start at clk 1"
   ]
  },
  {
   "cell_type": "code",
   "execution_count": null,
   "metadata": {
    "collapsed": false,
    "run_control": {
     "frozen": false,
     "read_only": false
    }
   },
   "outputs": [],
   "source": [
    "#Mac\n",
    "import sys\n",
    "sys.path.append('../../../../interface/python')"
   ]
  },
  {
   "cell_type": "code",
   "execution_count": 33,
   "metadata": {
    "collapsed": false,
    "run_control": {
     "frozen": false,
     "read_only": false
    }
   },
   "outputs": [],
   "source": [
    "from tes.data import Data,PacketStream,Packet,Payload,EventFlags,Event\n",
    "import numpy as np\n",
    "import matplotlib.pyplot as plt"
   ]
  },
  {
   "cell_type": "code",
   "execution_count": 34,
   "metadata": {
    "code_folding": [],
    "collapsed": false,
    "run_control": {
     "frozen": false,
     "read_only": false
    }
   },
   "outputs": [],
   "source": [
    "#NOTE traces[0] corresponts to clk=1\n",
    "trace_dt=np.dtype([('raw','i4'),('filtered','i4'),('slope','i4'),('filteredL','i4')])\n",
    "stream_dt=np.dtype([('data','i4'),('last','i4')])\n",
    "minmax_dt=np.dtype(\n",
    "    [\n",
    "        ('filtered','i4'),('timing_threshold','i4'),\n",
    "        ('height_threshold','i4'),('slope_extrema','i4'),('slope_area','i4'),('clk','i4')\n",
    "    ]\n",
    ")\n",
    "cfd_dt=np.dtype('i4')\n",
    "filteredxing_dt=np.dtype([('extrema','i4'),('area','i4'),('clk','i4')])"
   ]
  },
  {
   "cell_type": "code",
   "execution_count": null,
   "metadata": {
    "collapsed": false,
    "run_control": {
     "frozen": false,
     "read_only": false
    }
   },
   "outputs": [],
   "source": [
    "traces=np.fromfile('data/traces',trace_dt)\n",
    "stream=np.fromfile('data/bytestream',stream_dt)\n",
    "minmax=np.fromfile('data/minmax',minmax_dt)\n",
    "cfd=np.fromfile('data/cfd',cfd_dt)\n",
    "filteredxing=np.fromfile('data/filteredxing',filteredxing_dt)"
   ]
  },
  {
   "cell_type": "code",
   "execution_count": 35,
   "metadata": {
    "collapsed": false,
    "run_control": {
     "frozen": false,
     "read_only": false
    },
    "scrolled": true
   },
   "outputs": [],
   "source": [
    "traces=Data.fromfile('traces',trace_dt,'teslib','measurement_subsystem_TB',tool='vivado')\n",
    "stream=Data.fromfile('bytestream',stream_dt,'teslib','measurement_subsystem_TB',tool='vivado')\n",
    "minmax=Data.fromfile('minmax',minmax_dt,'teslib','measurement_subsystem_TB',tool='vivado')\n",
    "cfd=Data.fromfile('cfd',cfd_dt,'teslib','measurement_subsystem_TB',tool='vivado')\n",
    "filteredxing=Data.fromfile(\n",
    "    'filteredxing',filteredxing_dt,'teslib','measurement_subsystem_TB',tool='vivado'\n",
    ")"
   ]
  },
  {
   "cell_type": "code",
   "execution_count": null,
   "metadata": {
    "collapsed": false,
    "run_control": {
     "frozen": false,
     "read_only": false
    },
    "scrolled": true
   },
   "outputs": [],
   "source": [
    "# Mac\n",
    "traces=Data.fromfile(\n",
    "    'traces',trace_dt,'teslib','measurement_subsystem_TB',tool='vivado',\n",
    "    root='/Volumes/C/'\n",
    ")\n",
    "stream=Data.fromfile(\n",
    "    'bytestream',stream_dt,'teslib','measurement_subsystem_TB',tool='vivado',\n",
    "    root='/Volumes/C/'\n",
    ")\n",
    "minmax=Data.fromfile(\n",
    "    'minmax',minmax_dt,'teslib','measurement_subsystem_TB',tool='vivado',\n",
    "    root='/Volumes/C/'\n",
    ")\n",
    "cfd=Data.fromfile(\n",
    "    'cfd',cfd_dt,'teslib','measurement_subsystem_TB',tool='vivado',\n",
    "    root='/Volumes/C/'\n",
    ")\n",
    "filteredxing=Data.fromfile(\n",
    "    'filteredxing',filteredxing_dt,'teslib','measurement_subsystem_TB',\n",
    "    tool='vivado',root='/Volumes/C/'\n",
    ")"
   ]
  },
  {
   "cell_type": "code",
   "execution_count": 40,
   "metadata": {
    "collapsed": true
   },
   "outputs": [],
   "source": [
    "def plot_event(event_tupple):\n",
    "    pre=200\n",
    "    post=1000\n",
    "    timestamp=event_tupple[0]\n",
    "    event_type=event_tupple[1]\n",
    "    event=event_tupple[2]\n",
    "    flags=EventFlags(event['flags'])\n",
    "    print(flags)\n",
    "    print('timestamp',timestamp, 'time', event['time'],'height',event['height'],'min',event['minima'])\n",
    "    if flags.type == Event.tick:\n",
    "        return\n",
    "    s=traces['filtered'][timestamp+20-pre:timestamp+20+post]\n",
    "    r=traces['raw'][timestamp+20-pre:timestamp+20+post]\n",
    "    i = np.where(abs(minmax['clk'])<=timestamp+20)[0][-1]\n",
    "    min_t=abs(minmax['clk'][i])-(timestamp+20)\n",
    "#     print(minmax['clk'][i],min_t,i,timestamp)\n",
    "    #plt.plot(r,'k',linewidth=0.5)\n",
    "    plt.plot(s,'b',linewidth=1)\n",
    "    #plt.plot([pre],s[pre],'sg')\n",
    "    #plt.plot([pre+min_t],minmax['filtered'][i],'sr')\n",
    "    if event_type==Event.pulse:\n",
    "        for i in range(flags.peak_number):\n",
    "            p=event['peaks'][i]\n",
    "            plt.plot([0,len(s)-1],[p['height'],p['height']],':r')\n",
    "    else:\n",
    "      plt.plot([0,len(s)-1],[event['height'],event['height']],':r')\n",
    "        \n",
    "    #print(event['height'],event['minima'])\n",
    "    #print(minmax['filtered'][i]==s[pre+min_t])\n",
    "    #print(minmax['filtered'][i]==event['minima'])\n",
    "    #print(s[pre],s[pre-1])"
   ]
  },
  {
   "cell_type": "code",
   "execution_count": 132,
   "metadata": {
    "collapsed": false,
    "run_control": {
     "frozen": false,
     "read_only": false
    },
    "scrolled": false
   },
   "outputs": [
    {
     "data": {
      "application/javascript": [
       "/* Put everything inside the global mpl namespace */\n",
       "window.mpl = {};\n",
       "\n",
       "\n",
       "mpl.get_websocket_type = function() {\n",
       "    if (typeof(WebSocket) !== 'undefined') {\n",
       "        return WebSocket;\n",
       "    } else if (typeof(MozWebSocket) !== 'undefined') {\n",
       "        return MozWebSocket;\n",
       "    } else {\n",
       "        alert('Your browser does not have WebSocket support.' +\n",
       "              'Please try Chrome, Safari or Firefox ≥ 6. ' +\n",
       "              'Firefox 4 and 5 are also supported but you ' +\n",
       "              'have to enable WebSockets in about:config.');\n",
       "    };\n",
       "}\n",
       "\n",
       "mpl.figure = function(figure_id, websocket, ondownload, parent_element) {\n",
       "    this.id = figure_id;\n",
       "\n",
       "    this.ws = websocket;\n",
       "\n",
       "    this.supports_binary = (this.ws.binaryType != undefined);\n",
       "\n",
       "    if (!this.supports_binary) {\n",
       "        var warnings = document.getElementById(\"mpl-warnings\");\n",
       "        if (warnings) {\n",
       "            warnings.style.display = 'block';\n",
       "            warnings.textContent = (\n",
       "                \"This browser does not support binary websocket messages. \" +\n",
       "                    \"Performance may be slow.\");\n",
       "        }\n",
       "    }\n",
       "\n",
       "    this.imageObj = new Image();\n",
       "\n",
       "    this.context = undefined;\n",
       "    this.message = undefined;\n",
       "    this.canvas = undefined;\n",
       "    this.rubberband_canvas = undefined;\n",
       "    this.rubberband_context = undefined;\n",
       "    this.format_dropdown = undefined;\n",
       "\n",
       "    this.image_mode = 'full';\n",
       "\n",
       "    this.root = $('<div/>');\n",
       "    this._root_extra_style(this.root)\n",
       "    this.root.attr('style', 'display: inline-block');\n",
       "\n",
       "    $(parent_element).append(this.root);\n",
       "\n",
       "    this._init_header(this);\n",
       "    this._init_canvas(this);\n",
       "    this._init_toolbar(this);\n",
       "\n",
       "    var fig = this;\n",
       "\n",
       "    this.waiting = false;\n",
       "\n",
       "    this.ws.onopen =  function () {\n",
       "            fig.send_message(\"supports_binary\", {value: fig.supports_binary});\n",
       "            fig.send_message(\"send_image_mode\", {});\n",
       "            if (mpl.ratio != 1) {\n",
       "                fig.send_message(\"set_dpi_ratio\", {'dpi_ratio': mpl.ratio});\n",
       "            }\n",
       "            fig.send_message(\"refresh\", {});\n",
       "        }\n",
       "\n",
       "    this.imageObj.onload = function() {\n",
       "            if (fig.image_mode == 'full') {\n",
       "                // Full images could contain transparency (where diff images\n",
       "                // almost always do), so we need to clear the canvas so that\n",
       "                // there is no ghosting.\n",
       "                fig.context.clearRect(0, 0, fig.canvas.width, fig.canvas.height);\n",
       "            }\n",
       "            fig.context.drawImage(fig.imageObj, 0, 0);\n",
       "        };\n",
       "\n",
       "    this.imageObj.onunload = function() {\n",
       "        this.ws.close();\n",
       "    }\n",
       "\n",
       "    this.ws.onmessage = this._make_on_message_function(this);\n",
       "\n",
       "    this.ondownload = ondownload;\n",
       "}\n",
       "\n",
       "mpl.figure.prototype._init_header = function() {\n",
       "    var titlebar = $(\n",
       "        '<div class=\"ui-dialog-titlebar ui-widget-header ui-corner-all ' +\n",
       "        'ui-helper-clearfix\"/>');\n",
       "    var titletext = $(\n",
       "        '<div class=\"ui-dialog-title\" style=\"width: 100%; ' +\n",
       "        'text-align: center; padding: 3px;\"/>');\n",
       "    titlebar.append(titletext)\n",
       "    this.root.append(titlebar);\n",
       "    this.header = titletext[0];\n",
       "}\n",
       "\n",
       "\n",
       "\n",
       "mpl.figure.prototype._canvas_extra_style = function(canvas_div) {\n",
       "\n",
       "}\n",
       "\n",
       "\n",
       "mpl.figure.prototype._root_extra_style = function(canvas_div) {\n",
       "\n",
       "}\n",
       "\n",
       "mpl.figure.prototype._init_canvas = function() {\n",
       "    var fig = this;\n",
       "\n",
       "    var canvas_div = $('<div/>');\n",
       "\n",
       "    canvas_div.attr('style', 'position: relative; clear: both; outline: 0');\n",
       "\n",
       "    function canvas_keyboard_event(event) {\n",
       "        return fig.key_event(event, event['data']);\n",
       "    }\n",
       "\n",
       "    canvas_div.keydown('key_press', canvas_keyboard_event);\n",
       "    canvas_div.keyup('key_release', canvas_keyboard_event);\n",
       "    this.canvas_div = canvas_div\n",
       "    this._canvas_extra_style(canvas_div)\n",
       "    this.root.append(canvas_div);\n",
       "\n",
       "    var canvas = $('<canvas/>');\n",
       "    canvas.addClass('mpl-canvas');\n",
       "    canvas.attr('style', \"left: 0; top: 0; z-index: 0; outline: 0\")\n",
       "\n",
       "    this.canvas = canvas[0];\n",
       "    this.context = canvas[0].getContext(\"2d\");\n",
       "\n",
       "    var backingStore = this.context.backingStorePixelRatio ||\n",
       "\tthis.context.webkitBackingStorePixelRatio ||\n",
       "\tthis.context.mozBackingStorePixelRatio ||\n",
       "\tthis.context.msBackingStorePixelRatio ||\n",
       "\tthis.context.oBackingStorePixelRatio ||\n",
       "\tthis.context.backingStorePixelRatio || 1;\n",
       "\n",
       "    mpl.ratio = (window.devicePixelRatio || 1) / backingStore;\n",
       "\n",
       "    var rubberband = $('<canvas/>');\n",
       "    rubberband.attr('style', \"position: absolute; left: 0; top: 0; z-index: 1;\")\n",
       "\n",
       "    var pass_mouse_events = true;\n",
       "\n",
       "    canvas_div.resizable({\n",
       "        start: function(event, ui) {\n",
       "            pass_mouse_events = false;\n",
       "        },\n",
       "        resize: function(event, ui) {\n",
       "            fig.request_resize(ui.size.width, ui.size.height);\n",
       "        },\n",
       "        stop: function(event, ui) {\n",
       "            pass_mouse_events = true;\n",
       "            fig.request_resize(ui.size.width, ui.size.height);\n",
       "        },\n",
       "    });\n",
       "\n",
       "    function mouse_event_fn(event) {\n",
       "        if (pass_mouse_events)\n",
       "            return fig.mouse_event(event, event['data']);\n",
       "    }\n",
       "\n",
       "    rubberband.mousedown('button_press', mouse_event_fn);\n",
       "    rubberband.mouseup('button_release', mouse_event_fn);\n",
       "    // Throttle sequential mouse events to 1 every 20ms.\n",
       "    rubberband.mousemove('motion_notify', mouse_event_fn);\n",
       "\n",
       "    rubberband.mouseenter('figure_enter', mouse_event_fn);\n",
       "    rubberband.mouseleave('figure_leave', mouse_event_fn);\n",
       "\n",
       "    canvas_div.on(\"wheel\", function (event) {\n",
       "        event = event.originalEvent;\n",
       "        event['data'] = 'scroll'\n",
       "        if (event.deltaY < 0) {\n",
       "            event.step = 1;\n",
       "        } else {\n",
       "            event.step = -1;\n",
       "        }\n",
       "        mouse_event_fn(event);\n",
       "    });\n",
       "\n",
       "    canvas_div.append(canvas);\n",
       "    canvas_div.append(rubberband);\n",
       "\n",
       "    this.rubberband = rubberband;\n",
       "    this.rubberband_canvas = rubberband[0];\n",
       "    this.rubberband_context = rubberband[0].getContext(\"2d\");\n",
       "    this.rubberband_context.strokeStyle = \"#000000\";\n",
       "\n",
       "    this._resize_canvas = function(width, height) {\n",
       "        // Keep the size of the canvas, canvas container, and rubber band\n",
       "        // canvas in synch.\n",
       "        canvas_div.css('width', width)\n",
       "        canvas_div.css('height', height)\n",
       "\n",
       "        canvas.attr('width', width * mpl.ratio);\n",
       "        canvas.attr('height', height * mpl.ratio);\n",
       "        canvas.attr('style', 'width: ' + width + 'px; height: ' + height + 'px;');\n",
       "\n",
       "        rubberband.attr('width', width);\n",
       "        rubberband.attr('height', height);\n",
       "    }\n",
       "\n",
       "    // Set the figure to an initial 600x600px, this will subsequently be updated\n",
       "    // upon first draw.\n",
       "    this._resize_canvas(600, 600);\n",
       "\n",
       "    // Disable right mouse context menu.\n",
       "    $(this.rubberband_canvas).bind(\"contextmenu\",function(e){\n",
       "        return false;\n",
       "    });\n",
       "\n",
       "    function set_focus () {\n",
       "        canvas.focus();\n",
       "        canvas_div.focus();\n",
       "    }\n",
       "\n",
       "    window.setTimeout(set_focus, 100);\n",
       "}\n",
       "\n",
       "mpl.figure.prototype._init_toolbar = function() {\n",
       "    var fig = this;\n",
       "\n",
       "    var nav_element = $('<div/>')\n",
       "    nav_element.attr('style', 'width: 100%');\n",
       "    this.root.append(nav_element);\n",
       "\n",
       "    // Define a callback function for later on.\n",
       "    function toolbar_event(event) {\n",
       "        return fig.toolbar_button_onclick(event['data']);\n",
       "    }\n",
       "    function toolbar_mouse_event(event) {\n",
       "        return fig.toolbar_button_onmouseover(event['data']);\n",
       "    }\n",
       "\n",
       "    for(var toolbar_ind in mpl.toolbar_items) {\n",
       "        var name = mpl.toolbar_items[toolbar_ind][0];\n",
       "        var tooltip = mpl.toolbar_items[toolbar_ind][1];\n",
       "        var image = mpl.toolbar_items[toolbar_ind][2];\n",
       "        var method_name = mpl.toolbar_items[toolbar_ind][3];\n",
       "\n",
       "        if (!name) {\n",
       "            // put a spacer in here.\n",
       "            continue;\n",
       "        }\n",
       "        var button = $('<button/>');\n",
       "        button.addClass('ui-button ui-widget ui-state-default ui-corner-all ' +\n",
       "                        'ui-button-icon-only');\n",
       "        button.attr('role', 'button');\n",
       "        button.attr('aria-disabled', 'false');\n",
       "        button.click(method_name, toolbar_event);\n",
       "        button.mouseover(tooltip, toolbar_mouse_event);\n",
       "\n",
       "        var icon_img = $('<span/>');\n",
       "        icon_img.addClass('ui-button-icon-primary ui-icon');\n",
       "        icon_img.addClass(image);\n",
       "        icon_img.addClass('ui-corner-all');\n",
       "\n",
       "        var tooltip_span = $('<span/>');\n",
       "        tooltip_span.addClass('ui-button-text');\n",
       "        tooltip_span.html(tooltip);\n",
       "\n",
       "        button.append(icon_img);\n",
       "        button.append(tooltip_span);\n",
       "\n",
       "        nav_element.append(button);\n",
       "    }\n",
       "\n",
       "    var fmt_picker_span = $('<span/>');\n",
       "\n",
       "    var fmt_picker = $('<select/>');\n",
       "    fmt_picker.addClass('mpl-toolbar-option ui-widget ui-widget-content');\n",
       "    fmt_picker_span.append(fmt_picker);\n",
       "    nav_element.append(fmt_picker_span);\n",
       "    this.format_dropdown = fmt_picker[0];\n",
       "\n",
       "    for (var ind in mpl.extensions) {\n",
       "        var fmt = mpl.extensions[ind];\n",
       "        var option = $(\n",
       "            '<option/>', {selected: fmt === mpl.default_extension}).html(fmt);\n",
       "        fmt_picker.append(option)\n",
       "    }\n",
       "\n",
       "    // Add hover states to the ui-buttons\n",
       "    $( \".ui-button\" ).hover(\n",
       "        function() { $(this).addClass(\"ui-state-hover\");},\n",
       "        function() { $(this).removeClass(\"ui-state-hover\");}\n",
       "    );\n",
       "\n",
       "    var status_bar = $('<span class=\"mpl-message\"/>');\n",
       "    nav_element.append(status_bar);\n",
       "    this.message = status_bar[0];\n",
       "}\n",
       "\n",
       "mpl.figure.prototype.request_resize = function(x_pixels, y_pixels) {\n",
       "    // Request matplotlib to resize the figure. Matplotlib will then trigger a resize in the client,\n",
       "    // which will in turn request a refresh of the image.\n",
       "    this.send_message('resize', {'width': x_pixels, 'height': y_pixels});\n",
       "}\n",
       "\n",
       "mpl.figure.prototype.send_message = function(type, properties) {\n",
       "    properties['type'] = type;\n",
       "    properties['figure_id'] = this.id;\n",
       "    this.ws.send(JSON.stringify(properties));\n",
       "}\n",
       "\n",
       "mpl.figure.prototype.send_draw_message = function() {\n",
       "    if (!this.waiting) {\n",
       "        this.waiting = true;\n",
       "        this.ws.send(JSON.stringify({type: \"draw\", figure_id: this.id}));\n",
       "    }\n",
       "}\n",
       "\n",
       "\n",
       "mpl.figure.prototype.handle_save = function(fig, msg) {\n",
       "    var format_dropdown = fig.format_dropdown;\n",
       "    var format = format_dropdown.options[format_dropdown.selectedIndex].value;\n",
       "    fig.ondownload(fig, format);\n",
       "}\n",
       "\n",
       "\n",
       "mpl.figure.prototype.handle_resize = function(fig, msg) {\n",
       "    var size = msg['size'];\n",
       "    if (size[0] != fig.canvas.width || size[1] != fig.canvas.height) {\n",
       "        fig._resize_canvas(size[0], size[1]);\n",
       "        fig.send_message(\"refresh\", {});\n",
       "    };\n",
       "}\n",
       "\n",
       "mpl.figure.prototype.handle_rubberband = function(fig, msg) {\n",
       "    var x0 = msg['x0'] / mpl.ratio;\n",
       "    var y0 = (fig.canvas.height - msg['y0']) / mpl.ratio;\n",
       "    var x1 = msg['x1'] / mpl.ratio;\n",
       "    var y1 = (fig.canvas.height - msg['y1']) / mpl.ratio;\n",
       "    x0 = Math.floor(x0) + 0.5;\n",
       "    y0 = Math.floor(y0) + 0.5;\n",
       "    x1 = Math.floor(x1) + 0.5;\n",
       "    y1 = Math.floor(y1) + 0.5;\n",
       "    var min_x = Math.min(x0, x1);\n",
       "    var min_y = Math.min(y0, y1);\n",
       "    var width = Math.abs(x1 - x0);\n",
       "    var height = Math.abs(y1 - y0);\n",
       "\n",
       "    fig.rubberband_context.clearRect(\n",
       "        0, 0, fig.canvas.width, fig.canvas.height);\n",
       "\n",
       "    fig.rubberband_context.strokeRect(min_x, min_y, width, height);\n",
       "}\n",
       "\n",
       "mpl.figure.prototype.handle_figure_label = function(fig, msg) {\n",
       "    // Updates the figure title.\n",
       "    fig.header.textContent = msg['label'];\n",
       "}\n",
       "\n",
       "mpl.figure.prototype.handle_cursor = function(fig, msg) {\n",
       "    var cursor = msg['cursor'];\n",
       "    switch(cursor)\n",
       "    {\n",
       "    case 0:\n",
       "        cursor = 'pointer';\n",
       "        break;\n",
       "    case 1:\n",
       "        cursor = 'default';\n",
       "        break;\n",
       "    case 2:\n",
       "        cursor = 'crosshair';\n",
       "        break;\n",
       "    case 3:\n",
       "        cursor = 'move';\n",
       "        break;\n",
       "    }\n",
       "    fig.rubberband_canvas.style.cursor = cursor;\n",
       "}\n",
       "\n",
       "mpl.figure.prototype.handle_message = function(fig, msg) {\n",
       "    fig.message.textContent = msg['message'];\n",
       "}\n",
       "\n",
       "mpl.figure.prototype.handle_draw = function(fig, msg) {\n",
       "    // Request the server to send over a new figure.\n",
       "    fig.send_draw_message();\n",
       "}\n",
       "\n",
       "mpl.figure.prototype.handle_image_mode = function(fig, msg) {\n",
       "    fig.image_mode = msg['mode'];\n",
       "}\n",
       "\n",
       "mpl.figure.prototype.updated_canvas_event = function() {\n",
       "    // Called whenever the canvas gets updated.\n",
       "    this.send_message(\"ack\", {});\n",
       "}\n",
       "\n",
       "// A function to construct a web socket function for onmessage handling.\n",
       "// Called in the figure constructor.\n",
       "mpl.figure.prototype._make_on_message_function = function(fig) {\n",
       "    return function socket_on_message(evt) {\n",
       "        if (evt.data instanceof Blob) {\n",
       "            /* FIXME: We get \"Resource interpreted as Image but\n",
       "             * transferred with MIME type text/plain:\" errors on\n",
       "             * Chrome.  But how to set the MIME type?  It doesn't seem\n",
       "             * to be part of the websocket stream */\n",
       "            evt.data.type = \"image/png\";\n",
       "\n",
       "            /* Free the memory for the previous frames */\n",
       "            if (fig.imageObj.src) {\n",
       "                (window.URL || window.webkitURL).revokeObjectURL(\n",
       "                    fig.imageObj.src);\n",
       "            }\n",
       "\n",
       "            fig.imageObj.src = (window.URL || window.webkitURL).createObjectURL(\n",
       "                evt.data);\n",
       "            fig.updated_canvas_event();\n",
       "            fig.waiting = false;\n",
       "            return;\n",
       "        }\n",
       "        else if (typeof evt.data === 'string' && evt.data.slice(0, 21) == \"data:image/png;base64\") {\n",
       "            fig.imageObj.src = evt.data;\n",
       "            fig.updated_canvas_event();\n",
       "            fig.waiting = false;\n",
       "            return;\n",
       "        }\n",
       "\n",
       "        var msg = JSON.parse(evt.data);\n",
       "        var msg_type = msg['type'];\n",
       "\n",
       "        // Call the  \"handle_{type}\" callback, which takes\n",
       "        // the figure and JSON message as its only arguments.\n",
       "        try {\n",
       "            var callback = fig[\"handle_\" + msg_type];\n",
       "        } catch (e) {\n",
       "            console.log(\"No handler for the '\" + msg_type + \"' message type: \", msg);\n",
       "            return;\n",
       "        }\n",
       "\n",
       "        if (callback) {\n",
       "            try {\n",
       "                // console.log(\"Handling '\" + msg_type + \"' message: \", msg);\n",
       "                callback(fig, msg);\n",
       "            } catch (e) {\n",
       "                console.log(\"Exception inside the 'handler_\" + msg_type + \"' callback:\", e, e.stack, msg);\n",
       "            }\n",
       "        }\n",
       "    };\n",
       "}\n",
       "\n",
       "// from http://stackoverflow.com/questions/1114465/getting-mouse-location-in-canvas\n",
       "mpl.findpos = function(e) {\n",
       "    //this section is from http://www.quirksmode.org/js/events_properties.html\n",
       "    var targ;\n",
       "    if (!e)\n",
       "        e = window.event;\n",
       "    if (e.target)\n",
       "        targ = e.target;\n",
       "    else if (e.srcElement)\n",
       "        targ = e.srcElement;\n",
       "    if (targ.nodeType == 3) // defeat Safari bug\n",
       "        targ = targ.parentNode;\n",
       "\n",
       "    // jQuery normalizes the pageX and pageY\n",
       "    // pageX,Y are the mouse positions relative to the document\n",
       "    // offset() returns the position of the element relative to the document\n",
       "    var x = e.pageX - $(targ).offset().left;\n",
       "    var y = e.pageY - $(targ).offset().top;\n",
       "\n",
       "    return {\"x\": x, \"y\": y};\n",
       "};\n",
       "\n",
       "/*\n",
       " * return a copy of an object with only non-object keys\n",
       " * we need this to avoid circular references\n",
       " * http://stackoverflow.com/a/24161582/3208463\n",
       " */\n",
       "function simpleKeys (original) {\n",
       "  return Object.keys(original).reduce(function (obj, key) {\n",
       "    if (typeof original[key] !== 'object')\n",
       "        obj[key] = original[key]\n",
       "    return obj;\n",
       "  }, {});\n",
       "}\n",
       "\n",
       "mpl.figure.prototype.mouse_event = function(event, name) {\n",
       "    var canvas_pos = mpl.findpos(event)\n",
       "\n",
       "    if (name === 'button_press')\n",
       "    {\n",
       "        this.canvas.focus();\n",
       "        this.canvas_div.focus();\n",
       "    }\n",
       "\n",
       "    var x = canvas_pos.x * mpl.ratio;\n",
       "    var y = canvas_pos.y * mpl.ratio;\n",
       "\n",
       "    this.send_message(name, {x: x, y: y, button: event.button,\n",
       "                             step: event.step,\n",
       "                             guiEvent: simpleKeys(event)});\n",
       "\n",
       "    /* This prevents the web browser from automatically changing to\n",
       "     * the text insertion cursor when the button is pressed.  We want\n",
       "     * to control all of the cursor setting manually through the\n",
       "     * 'cursor' event from matplotlib */\n",
       "    event.preventDefault();\n",
       "    return false;\n",
       "}\n",
       "\n",
       "mpl.figure.prototype._key_event_extra = function(event, name) {\n",
       "    // Handle any extra behaviour associated with a key event\n",
       "}\n",
       "\n",
       "mpl.figure.prototype.key_event = function(event, name) {\n",
       "\n",
       "    // Prevent repeat events\n",
       "    if (name == 'key_press')\n",
       "    {\n",
       "        if (event.which === this._key)\n",
       "            return;\n",
       "        else\n",
       "            this._key = event.which;\n",
       "    }\n",
       "    if (name == 'key_release')\n",
       "        this._key = null;\n",
       "\n",
       "    var value = '';\n",
       "    if (event.ctrlKey && event.which != 17)\n",
       "        value += \"ctrl+\";\n",
       "    if (event.altKey && event.which != 18)\n",
       "        value += \"alt+\";\n",
       "    if (event.shiftKey && event.which != 16)\n",
       "        value += \"shift+\";\n",
       "\n",
       "    value += 'k';\n",
       "    value += event.which.toString();\n",
       "\n",
       "    this._key_event_extra(event, name);\n",
       "\n",
       "    this.send_message(name, {key: value,\n",
       "                             guiEvent: simpleKeys(event)});\n",
       "    return false;\n",
       "}\n",
       "\n",
       "mpl.figure.prototype.toolbar_button_onclick = function(name) {\n",
       "    if (name == 'download') {\n",
       "        this.handle_save(this, null);\n",
       "    } else {\n",
       "        this.send_message(\"toolbar_button\", {name: name});\n",
       "    }\n",
       "};\n",
       "\n",
       "mpl.figure.prototype.toolbar_button_onmouseover = function(tooltip) {\n",
       "    this.message.textContent = tooltip;\n",
       "};\n",
       "mpl.toolbar_items = [[\"Home\", \"Reset original view\", \"fa fa-home icon-home\", \"home\"], [\"Back\", \"Back to  previous view\", \"fa fa-arrow-left icon-arrow-left\", \"back\"], [\"Forward\", \"Forward to next view\", \"fa fa-arrow-right icon-arrow-right\", \"forward\"], [\"\", \"\", \"\", \"\"], [\"Pan\", \"Pan axes with left mouse, zoom with right\", \"fa fa-arrows icon-move\", \"pan\"], [\"Zoom\", \"Zoom to rectangle\", \"fa fa-square-o icon-check-empty\", \"zoom\"], [\"\", \"\", \"\", \"\"], [\"Download\", \"Download plot\", \"fa fa-floppy-o icon-save\", \"download\"]];\n",
       "\n",
       "mpl.extensions = [\"eps\", \"jpeg\", \"pdf\", \"png\", \"ps\", \"raw\", \"svg\", \"tif\"];\n",
       "\n",
       "mpl.default_extension = \"png\";var comm_websocket_adapter = function(comm) {\n",
       "    // Create a \"websocket\"-like object which calls the given IPython comm\n",
       "    // object with the appropriate methods. Currently this is a non binary\n",
       "    // socket, so there is still some room for performance tuning.\n",
       "    var ws = {};\n",
       "\n",
       "    ws.close = function() {\n",
       "        comm.close()\n",
       "    };\n",
       "    ws.send = function(m) {\n",
       "        //console.log('sending', m);\n",
       "        comm.send(m);\n",
       "    };\n",
       "    // Register the callback with on_msg.\n",
       "    comm.on_msg(function(msg) {\n",
       "        //console.log('receiving', msg['content']['data'], msg);\n",
       "        // Pass the mpl event to the overriden (by mpl) onmessage function.\n",
       "        ws.onmessage(msg['content']['data'])\n",
       "    });\n",
       "    return ws;\n",
       "}\n",
       "\n",
       "mpl.mpl_figure_comm = function(comm, msg) {\n",
       "    // This is the function which gets called when the mpl process\n",
       "    // starts-up an IPython Comm through the \"matplotlib\" channel.\n",
       "\n",
       "    var id = msg.content.data.id;\n",
       "    // Get hold of the div created by the display call when the Comm\n",
       "    // socket was opened in Python.\n",
       "    var element = $(\"#\" + id);\n",
       "    var ws_proxy = comm_websocket_adapter(comm)\n",
       "\n",
       "    function ondownload(figure, format) {\n",
       "        window.open(figure.imageObj.src);\n",
       "    }\n",
       "\n",
       "    var fig = new mpl.figure(id, ws_proxy,\n",
       "                           ondownload,\n",
       "                           element.get(0));\n",
       "\n",
       "    // Call onopen now - mpl needs it, as it is assuming we've passed it a real\n",
       "    // web socket which is closed, not our websocket->open comm proxy.\n",
       "    ws_proxy.onopen();\n",
       "\n",
       "    fig.parent_element = element.get(0);\n",
       "    fig.cell_info = mpl.find_output_cell(\"<div id='\" + id + \"'></div>\");\n",
       "    if (!fig.cell_info) {\n",
       "        console.error(\"Failed to find cell for figure\", id, fig);\n",
       "        return;\n",
       "    }\n",
       "\n",
       "    var output_index = fig.cell_info[2]\n",
       "    var cell = fig.cell_info[0];\n",
       "\n",
       "};\n",
       "\n",
       "mpl.figure.prototype.handle_close = function(fig, msg) {\n",
       "    var width = fig.canvas.width/mpl.ratio\n",
       "    fig.root.unbind('remove')\n",
       "\n",
       "    // Update the output cell to use the data from the current canvas.\n",
       "    fig.push_to_output();\n",
       "    var dataURL = fig.canvas.toDataURL();\n",
       "    // Re-enable the keyboard manager in IPython - without this line, in FF,\n",
       "    // the notebook keyboard shortcuts fail.\n",
       "    IPython.keyboard_manager.enable()\n",
       "    $(fig.parent_element).html('<img src=\"' + dataURL + '\" width=\"' + width + '\">');\n",
       "    fig.close_ws(fig, msg);\n",
       "}\n",
       "\n",
       "mpl.figure.prototype.close_ws = function(fig, msg){\n",
       "    fig.send_message('closing', msg);\n",
       "    // fig.ws.close()\n",
       "}\n",
       "\n",
       "mpl.figure.prototype.push_to_output = function(remove_interactive) {\n",
       "    // Turn the data on the canvas into data in the output cell.\n",
       "    var width = this.canvas.width/mpl.ratio\n",
       "    var dataURL = this.canvas.toDataURL();\n",
       "    this.cell_info[1]['text/html'] = '<img src=\"' + dataURL + '\" width=\"' + width + '\">';\n",
       "}\n",
       "\n",
       "mpl.figure.prototype.updated_canvas_event = function() {\n",
       "    // Tell IPython that the notebook contents must change.\n",
       "    IPython.notebook.set_dirty(true);\n",
       "    this.send_message(\"ack\", {});\n",
       "    var fig = this;\n",
       "    // Wait a second, then push the new image to the DOM so\n",
       "    // that it is saved nicely (might be nice to debounce this).\n",
       "    setTimeout(function () { fig.push_to_output() }, 1000);\n",
       "}\n",
       "\n",
       "mpl.figure.prototype._init_toolbar = function() {\n",
       "    var fig = this;\n",
       "\n",
       "    var nav_element = $('<div/>')\n",
       "    nav_element.attr('style', 'width: 100%');\n",
       "    this.root.append(nav_element);\n",
       "\n",
       "    // Define a callback function for later on.\n",
       "    function toolbar_event(event) {\n",
       "        return fig.toolbar_button_onclick(event['data']);\n",
       "    }\n",
       "    function toolbar_mouse_event(event) {\n",
       "        return fig.toolbar_button_onmouseover(event['data']);\n",
       "    }\n",
       "\n",
       "    for(var toolbar_ind in mpl.toolbar_items){\n",
       "        var name = mpl.toolbar_items[toolbar_ind][0];\n",
       "        var tooltip = mpl.toolbar_items[toolbar_ind][1];\n",
       "        var image = mpl.toolbar_items[toolbar_ind][2];\n",
       "        var method_name = mpl.toolbar_items[toolbar_ind][3];\n",
       "\n",
       "        if (!name) { continue; };\n",
       "\n",
       "        var button = $('<button class=\"btn btn-default\" href=\"#\" title=\"' + name + '\"><i class=\"fa ' + image + ' fa-lg\"></i></button>');\n",
       "        button.click(method_name, toolbar_event);\n",
       "        button.mouseover(tooltip, toolbar_mouse_event);\n",
       "        nav_element.append(button);\n",
       "    }\n",
       "\n",
       "    // Add the status bar.\n",
       "    var status_bar = $('<span class=\"mpl-message\" style=\"text-align:right; float: right;\"/>');\n",
       "    nav_element.append(status_bar);\n",
       "    this.message = status_bar[0];\n",
       "\n",
       "    // Add the close button to the window.\n",
       "    var buttongrp = $('<div class=\"btn-group inline pull-right\"></div>');\n",
       "    var button = $('<button class=\"btn btn-mini btn-primary\" href=\"#\" title=\"Stop Interaction\"><i class=\"fa fa-power-off icon-remove icon-large\"></i></button>');\n",
       "    button.click(function (evt) { fig.handle_close(fig, {}); } );\n",
       "    button.mouseover('Stop Interaction', toolbar_mouse_event);\n",
       "    buttongrp.append(button);\n",
       "    var titlebar = this.root.find($('.ui-dialog-titlebar'));\n",
       "    titlebar.prepend(buttongrp);\n",
       "}\n",
       "\n",
       "mpl.figure.prototype._root_extra_style = function(el){\n",
       "    var fig = this\n",
       "    el.on(\"remove\", function(){\n",
       "\tfig.close_ws(fig, {});\n",
       "    });\n",
       "}\n",
       "\n",
       "mpl.figure.prototype._canvas_extra_style = function(el){\n",
       "    // this is important to make the div 'focusable\n",
       "    el.attr('tabindex', 0)\n",
       "    // reach out to IPython and tell the keyboard manager to turn it's self\n",
       "    // off when our div gets focus\n",
       "\n",
       "    // location in version 3\n",
       "    if (IPython.notebook.keyboard_manager) {\n",
       "        IPython.notebook.keyboard_manager.register_events(el);\n",
       "    }\n",
       "    else {\n",
       "        // location in version 2\n",
       "        IPython.keyboard_manager.register_events(el);\n",
       "    }\n",
       "\n",
       "}\n",
       "\n",
       "mpl.figure.prototype._key_event_extra = function(event, name) {\n",
       "    var manager = IPython.notebook.keyboard_manager;\n",
       "    if (!manager)\n",
       "        manager = IPython.keyboard_manager;\n",
       "\n",
       "    // Check for shift+enter\n",
       "    if (event.shiftKey && event.which == 13) {\n",
       "        this.canvas_div.blur();\n",
       "        // select the cell after this one\n",
       "        var index = IPython.notebook.find_cell_index(this.cell_info[0]);\n",
       "        IPython.notebook.select(index + 1);\n",
       "    }\n",
       "}\n",
       "\n",
       "mpl.figure.prototype.handle_save = function(fig, msg) {\n",
       "    fig.ondownload(fig, null);\n",
       "}\n",
       "\n",
       "\n",
       "mpl.find_output_cell = function(html_output) {\n",
       "    // Return the cell and output element which can be found *uniquely* in the notebook.\n",
       "    // Note - this is a bit hacky, but it is done because the \"notebook_saving.Notebook\"\n",
       "    // IPython event is triggered only after the cells have been serialised, which for\n",
       "    // our purposes (turning an active figure into a static one), is too late.\n",
       "    var cells = IPython.notebook.get_cells();\n",
       "    var ncells = cells.length;\n",
       "    for (var i=0; i<ncells; i++) {\n",
       "        var cell = cells[i];\n",
       "        if (cell.cell_type === 'code'){\n",
       "            for (var j=0; j<cell.output_area.outputs.length; j++) {\n",
       "                var data = cell.output_area.outputs[j];\n",
       "                if (data.data) {\n",
       "                    // IPython >= 3 moved mimebundle to data attribute of output\n",
       "                    data = data.data;\n",
       "                }\n",
       "                if (data['text/html'] == html_output) {\n",
       "                    return [cell, data, j];\n",
       "                }\n",
       "            }\n",
       "        }\n",
       "    }\n",
       "}\n",
       "\n",
       "// Register the function which deals with the matplotlib target/channel.\n",
       "// The kernel may be null if the page has been refreshed.\n",
       "if (IPython.notebook.kernel != null) {\n",
       "    IPython.notebook.kernel.comm_manager.register_target('matplotlib', mpl.mpl_figure_comm);\n",
       "}\n"
      ],
      "text/plain": [
       "<IPython.core.display.Javascript object>"
      ]
     },
     "metadata": {},
     "output_type": "display_data"
    },
    {
     "data": {
      "text/html": [
       "<img src=\"data:image/png;base64,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\" width=\"640\">"
      ],
      "text/plain": [
       "<IPython.core.display.HTML object>"
      ]
     },
     "metadata": {},
     "output_type": "display_data"
    },
    {
     "data": {
      "text/plain": [
       "[<matplotlib.lines.Line2D at 0x2ed14860>]"
      ]
     },
     "execution_count": 132,
     "metadata": {},
     "output_type": "execute_result"
    }
   ],
   "source": [
    "%matplotlib notebook\n",
    "traces=Data.fromfile('traces',trace_dt,'teslib','measurement_subsystem_TB',tool='vivado')\n",
    "plt.plot(traces['slope'][1100:],'r',linewidth=1)\n",
    "plt.plot(traces['raw'][1100:],linewidth=0.5)\n",
    "plt.plot(traces['filtered'][1100:],'k',linewidth=2)"
   ]
  },
  {
   "cell_type": "code",
   "execution_count": 133,
   "metadata": {
    "collapsed": false,
    "run_control": {
     "frozen": false,
     "read_only": false
    },
    "scrolled": true
   },
   "outputs": [],
   "source": [
    "stream=Data.fromfile('bytestream',stream_dt,'teslib','measurement_subsystem_TB',tool='vivado')\n",
    "minmax=Data.fromfile('minmax',minmax_dt,'teslib','measurement_subsystem_TB',tool='vivado')\n",
    "bs=PacketStream(stream)\n",
    "es=bs.eventstream\n",
    "%matplotlib notebook\n",
    "for e in es:\n",
    "    if e[1]==Event.peak:\n",
    "        plot_event(e)"
   ]
  },
  {
   "cell_type": "code",
   "execution_count": 134,
   "metadata": {
    "collapsed": false,
    "run_control": {
     "frozen": false,
     "read_only": false
    },
    "scrolled": true
   },
   "outputs": [
    {
     "data": {
      "text/plain": [
       "[]"
      ]
     },
     "execution_count": 134,
     "metadata": {},
     "output_type": "execute_result"
    }
   ],
   "source": [
    "traces=Data.fromfile('traces',trace_dt,'teslib','measurement_subsystem_TB',tool='vivado')\n",
    "stream=Data.fromfile('bytestream',stream_dt,'teslib','measurement_subsystem_TB',tool='vivado')\n",
    "bs=PacketStream(stream)\n",
    "dists=bs.distributions\n",
    "#bs.packets\n",
    "dists"
   ]
  },
  {
   "cell_type": "code",
   "execution_count": 135,
   "metadata": {
    "collapsed": false
   },
   "outputs": [
    {
     "data": {
      "text/plain": [
       "[ethertype:88B5 length:48 Payload:tick frame:0 protocol:0]"
      ]
     },
     "execution_count": 135,
     "metadata": {},
     "output_type": "execute_result"
    }
   ],
   "source": [
    "bs.packets"
   ]
  },
  {
   "cell_type": "code",
   "execution_count": 32,
   "metadata": {
    "collapsed": false,
    "run_control": {
     "frozen": false,
     "read_only": false
    },
    "scrolled": true
   },
   "outputs": [
    {
     "data": {
      "text/plain": [
       "(array([], dtype=int64),)"
      ]
     },
     "execution_count": 32,
     "metadata": {},
     "output_type": "execute_result"
    }
   ],
   "source": [
    "import tes.mca as mca\n",
    "d=bs.distributions[0]\n",
    "eset=np.uint64(1)\n",
    "bset=np.uint64(0)\n",
    "cset=np.uint64(20)\n",
    "\n",
    "stop=d.stop_time+eset+cset\n",
    "start=d.start_time+bset+cset\n",
    "bins=np.zeros((d.last_bin+1,),dtype=np.uint32)\n",
    "\n",
    "if d.value==mca.Value.raw_signal:\n",
    "    tname='raw'\n",
    "elif d.value==mca.Value.filtered_signal:\n",
    "    tname='filtered'\n",
    "\n",
    "for i in range(start,stop):\n",
    "    s = traces[tname][i]\n",
    "    if s < d.lowest_value:\n",
    "        bins[0] += 1\n",
    "    else:\n",
    "        bin_number = s - d.lowest_value + 1\n",
    "        if bin_number < d.last_bin:\n",
    "            bins[bin_number] += 1\n",
    "        else:\n",
    "            bins[d.last_bin] += 1\n",
    "        \n",
    "bad=(bins-d.counts).nonzero()\n",
    "bad"
   ]
  },
  {
   "cell_type": "code",
   "execution_count": 7,
   "metadata": {
    "collapsed": false
   },
   "outputs": [
    {
     "data": {
      "text/plain": [
       "array([0, 0, 0, 0, 0, 0, 0, 0, 0], dtype=uint32)"
      ]
     },
     "execution_count": 7,
     "metadata": {},
     "output_type": "execute_result"
    }
   ],
   "source": [
    "d.counts[bad][1:10]"
   ]
  },
  {
   "cell_type": "code",
   "execution_count": 8,
   "metadata": {
    "collapsed": false
   },
   "outputs": [
    {
     "data": {
      "text/plain": [
       "array([2, 2, 1, 1, 1, 1, 1, 2, 3], dtype=uint32)"
      ]
     },
     "execution_count": 8,
     "metadata": {},
     "output_type": "execute_result"
    }
   ],
   "source": [
    "bins[bad][1:10]"
   ]
  },
  {
   "cell_type": "code",
   "execution_count": null,
   "metadata": {
    "collapsed": false
   },
   "outputs": [],
   "source": [
    "d.value"
   ]
  },
  {
   "cell_type": "code",
   "execution_count": null,
   "metadata": {
    "collapsed": false,
    "scrolled": false
   },
   "outputs": [],
   "source": [
    "%matplotlib notebook\n",
    "plt.step(np.arange(len(d.bins)),d.bins)\n",
    "# plt.step(np.arange(len(d.counts)),bins)\n",
    "plt.plot(bad,np.zeros_like(bad),'.k')"
   ]
  },
  {
   "cell_type": "code",
   "execution_count": null,
   "metadata": {
    "collapsed": false
   },
   "outputs": [],
   "source": [
    "sum(d.counts)"
   ]
  },
  {
   "cell_type": "code",
   "execution_count": null,
   "metadata": {
    "collapsed": false
   },
   "outputs": [],
   "source": [
    "2**14+2000"
   ]
  },
  {
   "cell_type": "code",
   "execution_count": null,
   "metadata": {
    "collapsed": false,
    "run_control": {
     "frozen": false,
     "read_only": false
    }
   },
   "outputs": [],
   "source": [
    "def plot_event(event_tupple):\n",
    "    pre=200\n",
    "    post=1000\n",
    "    timestamp=event_tupple[0]\n",
    "    event_type=event_tupple[1]\n",
    "    event=event_tupple[2]\n",
    "    flags=EventFlags(event['flags'])\n",
    "    print(flags)\n",
    "    print('timestamp',timestamp, 'time', event['time'])\n",
    "    if flags.type == Event.tick:\n",
    "        return\n",
    "    s=traces['filtered'][timestamp+20-pre:timestamp+20+post]\n",
    "    r=traces['raw'][timestamp+20-pre:timestamp+20+post]\n",
    "    i = np.where(abs(minmax['clk'])<=timestamp+20)[0][-1]\n",
    "    min_t=abs(minmax['clk'][i])-(timestamp+20)\n",
    "#     print(minmax['clk'][i],min_t,i,timestamp)\n",
    "    plt.plot(r,'k',linewidth=0.5)\n",
    "    plt.plot(s,'b',linewidth=2)\n",
    "    plt.plot([pre],s[pre],'sg')\n",
    "    plt.plot([pre+min_t],minmax['filtered'][i],'sr')\n",
    "    if event_type==Event.pulse:\n",
    "        for i in range(flags.peak_number):\n",
    "            p=event['peaks'][i]\n",
    "            plt.plot([0,len(s)-1],[p['height'],p['height']],':r')\n",
    "    else:\n",
    "      plt.plot([0,len(s)-1],[event['height'],event['height']],':r')\n",
    "        \n",
    "    #print(event['height'],event['minima'])\n",
    "    #print(minmax['filtered'][i]==s[pre+min_t])\n",
    "    #print(minmax['filtered'][i]==event['minima'])\n",
    "    #print(s[pre],s[pre-1])"
   ]
  },
  {
   "cell_type": "code",
   "execution_count": null,
   "metadata": {
    "collapsed": false,
    "run_control": {
     "frozen": false,
     "read_only": false
    }
   },
   "outputs": [],
   "source": [
    "pwd"
   ]
  },
  {
   "cell_type": "code",
   "execution_count": null,
   "metadata": {
    "collapsed": false
   },
   "outputs": [],
   "source": [
    "es=bs.eventstream\n",
    "es"
   ]
  },
  {
   "cell_type": "code",
   "execution_count": null,
   "metadata": {
    "collapsed": false,
    "run_control": {
     "frozen": false,
     "read_only": false
    }
   },
   "outputs": [],
   "source": [
    "%matplotlib notebook\n",
    "for e in es:\n",
    "    if e[1]==Event.peak:\n",
    "        plot_event(e)"
   ]
  },
  {
   "cell_type": "code",
   "execution_count": null,
   "metadata": {
    "collapsed": false,
    "run_control": {
     "frozen": false,
     "read_only": false
    }
   },
   "outputs": [],
   "source": [
    "es"
   ]
  },
  {
   "cell_type": "code",
   "execution_count": null,
   "metadata": {
    "collapsed": false,
    "run_control": {
     "frozen": false,
     "read_only": false
    }
   },
   "outputs": [],
   "source": [
    "dists=bs.distributions\n",
    "dists"
   ]
  },
  {
   "cell_type": "code",
   "execution_count": null,
   "metadata": {
    "collapsed": false,
    "run_control": {
     "frozen": false,
     "read_only": false
    }
   },
   "outputs": [],
   "source": [
    "bs.packets[185].payload"
   ]
  },
  {
   "cell_type": "code",
   "execution_count": null,
   "metadata": {
    "collapsed": false,
    "run_control": {
     "frozen": false,
     "read_only": false
    }
   },
   "outputs": [],
   "source": [
    "d=bs.distributions[0]\n",
    "eset=np.uint64(1)\n",
    "bset=np.uint64(0)\n",
    "cset=np.uint64(20)\n",
    "\n",
    "stop=d.stop_time+eset+cset\n",
    "start=d.start_time+bset+cset\n",
    "bins=np.zeros((d.last_bin+1,),dtype=np.uint32)\n",
    "for i in range(start,stop):\n",
    "    s = traces['raw'][i]\n",
    "    if s <= d.lowest_value:\n",
    "        bins[0] += 1\n",
    "    else:\n",
    "        bins[s-d.lowest_value] += 1\n",
    "        \n",
    "(bins-d.counts).nonzero()"
   ]
  },
  {
   "cell_type": "code",
   "execution_count": null,
   "metadata": {
    "collapsed": false,
    "run_control": {
     "frozen": false,
     "read_only": false
    }
   },
   "outputs": [],
   "source": [
    "%matplotlib notebook\n",
    "plt.step(np.arange(len(d.counts)),d.counts)"
   ]
  },
  {
   "cell_type": "code",
   "execution_count": null,
   "metadata": {
    "collapsed": false,
    "run_control": {
     "frozen": false,
     "read_only": false
    }
   },
   "outputs": [],
   "source": [
    "bins[bins.nonzero()]"
   ]
  },
  {
   "cell_type": "code",
   "execution_count": null,
   "metadata": {
    "collapsed": false,
    "run_control": {
     "frozen": false,
     "read_only": false
    }
   },
   "outputs": [],
   "source": [
    "sum(d.counts)"
   ]
  },
  {
   "cell_type": "code",
   "execution_count": null,
   "metadata": {
    "collapsed": false,
    "run_control": {
     "frozen": false,
     "read_only": false
    }
   },
   "outputs": [],
   "source": [
    "2**14+2000"
   ]
  },
  {
   "cell_type": "code",
   "execution_count": null,
   "metadata": {
    "collapsed": false,
    "run_control": {
     "frozen": false,
     "read_only": false
    }
   },
   "outputs": [],
   "source": [
    "es[3][2]['timestamp']-es[0][2]['timestamp']"
   ]
  },
  {
   "cell_type": "code",
   "execution_count": null,
   "metadata": {
    "collapsed": true,
    "run_control": {
     "frozen": false,
     "read_only": false
    }
   },
   "outputs": [],
   "source": [
    "def xings(s, thresh):\n",
    "    pos=s > thresh\n",
    "    neg=s < thresh\n",
    "    pos0=s >= thresh\n",
    "    neg0=s <= thresh\n",
    "    pos_xing_mask = np.bitwise_and(pos0[1:],neg[0:-1])  \n",
    "    neg_xing_mask = np.bitwise_and(neg0[1:],pos[0:-1])  \n",
    "    return pos_xing_mask.nonzero()[0]+1, neg_xing_mask.nonzero()[0]+1"
   ]
  },
  {
   "cell_type": "code",
   "execution_count": null,
   "metadata": {
    "collapsed": true,
    "run_control": {
     "frozen": false,
     "read_only": false
    }
   },
   "outputs": [],
   "source": [
    "from mpl_toolkits.axes_grid1 import host_subplot\n",
    "\n",
    "def plot_trace(traces,start,width):\n",
    "\n",
    "    ax = host_subplot(111)\n",
    "    axr = ax.twinx()\n",
    "    axt = ax.twiny()\n",
    "#ax.plot(t[0:-1:10],s[0:-1:10],'k')\n",
    "#ax.plot(t,s,'k')\n",
    "    axt.set_xlabel('Time ns',fontsize=18)\n",
    "    ax.set_ylabel('Voltage (Arbitary Units)',fontsize=18)\n",
    "#plt.xticks(visible=False)\n",
    "#plt.yticks(visible=False)\n",
    "#ax.set_xlim(0,t[4000000])\n",
    "#start=902000\n",
    "#width=2500\n",
    "    f=traces['filtered'][start:start+width]\n",
    "    s=traces['slope'][start:start+width]\n",
    "    t=np.arange(len(f))*4e-9\n",
    "#ts=t[pstart:pstop]\n",
    "#axins = fig.add_axes([.4, .45, .45, .4])\n",
    "    ax.set_xlim(t[0],t[-1])\n",
    "    axt.set_xlim(t[0],t[-1])\n",
    "\n",
    "    ylim=(-500,2000)\n",
    "\n",
    "    ax.set_ylim(ylim[0],ylim[1])\n",
    "    axr.set_ylim(ylim[0],ylim[1])\n",
    "\n",
    "    filtered, = ax.step(t,f,'k',lw=2,label='filtered')\n",
    "    slope, = ax.step(t,s,'b',label='slope')\n",
    "    ax.fill_between(t,0,s,alpha=.4)\n",
    "    plt.ylim=ylim\n",
    "\n",
    "pos=s>0\n",
    "neg=s<=0\n",
    "pos_xing_mask = np.bitwise_and(pos[1:-1],neg[0:-2])  \n",
    "neg_xing_mask = np.bitwise_and(neg[1:-1],pos[0:-2])  \n",
    "pos_xing=pos_xing_mask.nonzero()\n",
    "neg_xing=neg_xing_mask.nonzero()\n",
    "\n",
    "rx=[t[pos_xing[0][0]], t[neg_xing[0][0]]]\n",
    "ry=[f[pos_xing[0][0]], f[neg_xing[0][0]]]\n",
    "\n",
    "ax.fill_between(t[pos_xing[0][0]:neg_xing[0][0]],0,s[pos_xing[0][0]:neg_xing[0][0]],alpha=.4,color='r')\n",
    "\n",
    "#plt.plot(rx,[ry[0], ry[0]],'-r',lw=2)\n",
    "#plt.plot([rx[1],rx[1]], ry,'-r',lw=2)\n",
    "# thresholds\n",
    "sthresh = 600\n",
    "pthresh = 1000\n",
    "plt.plot([t[0], t[-1]], [sthresh, sthresh], '--b', lw=2)\n",
    "plt.plot([t[0], t[-1]], [pthresh, pthresh], '--k', lw=2)\n",
    "\n",
    "sthresh_xing=(s>sthresh).nonzero()[0][0]\n",
    "pthresh_xing=(f>pthresh).nonzero()[0][0]\n",
    "\n",
    "\n",
    "cf=.10\n",
    "height = ry[1]-ry[0]\n",
    "cfl=ry[0]+(height*cf)\n",
    "cfh=ry[1]-(height*cf)\n",
    "\n",
    "cfl_xing=(f>cfl).nonzero()[0][0]\n",
    "cfd_low=f[cfl_xing]\n",
    "cfh_xing=(f>cfh).nonzero()[0][0]\n",
    "cfd_high=f[cfh_xing]\n",
    "\n",
    "#plt.plot([t[cfl_xing], t[-1]],[cfd_low, cfd_low], ':r')\n",
    "#plt.plot([t[cfh_xing], t[-1]],[cfd_high, cfd_high], ':r')\n",
    "#plt.plot([x[1], t[-1]],[y[1], y[1]], ':r')\n",
    "plt.legend([filtered, slope],['Signal', 'Slope'],loc=2)\n",
    "\n",
    "#axr = ax.twinx()\n",
    "##################################################################\n",
    "#yticks=([ry[0],sthresh,pthresh,cfd_high,ry[1]])\n",
    "yticks=([sthresh,pthresh])\n",
    "axr.set_yticks(yticks)\n",
    "#yticklabels=['Start','Slope threshold','Pulse threshold','CF high','Peak']\n",
    "yticklabels=['Slope threshold','Pulse threshold']\n",
    "axr.set_yticklabels(yticklabels, color='r',fontsize=14)\n",
    "axr.get_yticklabels()[0].set_color('b')\n",
    "axr.get_yticklabels()[1].set_color('k')\n",
    "\n",
    "#xticks=([rx[0],t[cfl_xing],t[sthresh_xing],t[pthresh_xing],rx[1]])\n",
    "xticks=(t[cfl_xing],rx[1])\n",
    "#ax.set_xticks([rx[0],t[cfl_xing],t[sthresh_xing],t[pthresh_xing],rx[1]])\n",
    "ax.set_xticks(xticks)\n",
    "#xticklabels=['Start','CF low','Slope xing','Signal xing','Peak']\n",
    "xticklabels=['CF low','Peak']\n",
    "ax.set_xticklabels(xticklabels, color='r',fontsize=14)\n",
    "\n",
    "#plt.plot([t[cfh_xing], t[-1]],[cfd_high, cfd_high], ':r')\n",
    "#horoz start, stop lines\n",
    "#hpeak=ax.plot([xticks[1], t[-1]],[yticks[-1], yticks[-1]], '-.r')\n",
    "#hstart=ax.plot([xticks[0], t[-1]],[yticks[0], yticks[0]], '-.r')\n",
    "#vert start stop\n",
    "vstart=ax.plot([xticks[0], xticks[0]],[cfd_low, ylim[0]], '-.r')\n",
    "vpeak=ax.plot([xticks[1], xticks[1]],[ylim[0], ry[1]], '-.r')\n",
    "\n",
    "plt.tight_layout()\n",
    "plt.savefig('..//peakextraction7.svg')\n",
    "plt.show()\n",
    "print('risetime:',(xticks[1]-xticks[0])/4)\n",
    "print('height:',yticks[-1]-yticks[0])\n",
    "print('time:',(xticks[0]-rx[0])/4)\n",
    "print('area',sum(s[pos_xing[0][0]:neg_xing[0][0]])/256)\n"
   ]
  },
  {
   "cell_type": "code",
   "execution_count": null,
   "metadata": {
    "collapsed": true,
    "run_control": {
     "frozen": false,
     "read_only": false
    }
   },
   "outputs": [],
   "source": [
    "slope_0xings = xings(traces['slope'],0)"
   ]
  },
  {
   "cell_type": "code",
   "execution_count": null,
   "metadata": {
    "collapsed": false,
    "run_control": {
     "frozen": false,
     "read_only": false
    }
   },
   "outputs": [],
   "source": [
    "slope_0xings"
   ]
  },
  {
   "cell_type": "code",
   "execution_count": null,
   "metadata": {
    "collapsed": false,
    "run_control": {
     "frozen": false,
     "read_only": false
    }
   },
   "outputs": [],
   "source": [
    "%matplotlib notebook\n",
    "start=10000\n",
    "width=300\n",
    "plt.plot(traces['filtered'][start:start+width]/2)"
   ]
  },
  {
   "cell_type": "code",
   "execution_count": null,
   "metadata": {
    "collapsed": false,
    "run_control": {
     "frozen": false,
     "read_only": false
    }
   },
   "outputs": [],
   "source": [
    "%matplotlib notebook\n",
    "plt.plot(traces['slope'][20400:21700])"
   ]
  },
  {
   "cell_type": "code",
   "execution_count": null,
   "metadata": {
    "collapsed": false,
    "run_control": {
     "frozen": false,
     "read_only": false
    }
   },
   "outputs": [],
   "source": [
    "filtered=traces['filtered'][1100:]\n",
    "filteredL=traces['filteredL'][1100:]"
   ]
  },
  {
   "cell_type": "code",
   "execution_count": null,
   "metadata": {
    "collapsed": false,
    "run_control": {
     "frozen": false,
     "read_only": false
    }
   },
   "outputs": [],
   "source": [
    "filtered[:10]"
   ]
  },
  {
   "cell_type": "code",
   "execution_count": null,
   "metadata": {
    "collapsed": false,
    "run_control": {
     "frozen": false,
     "read_only": false
    }
   },
   "outputs": [],
   "source": [
    "filteredL[:10]/4"
   ]
  },
  {
   "cell_type": "code",
   "execution_count": null,
   "metadata": {
    "collapsed": false,
    "run_control": {
     "frozen": false,
     "read_only": false
    }
   },
   "outputs": [],
   "source": [
    "minmax_dt=np.dtype([('filtered','i4'),('low','i4'),('high','i4'),('clk','i4')])\n",
    "minmax=Data.fromfile('minmax',minmax_dt,'teslib','measurement_subsystem_TB',tool='vivado')\n",
    "fxing_dt=np.dtype([('extrema','i4'),('area','i4'),('clk','i4')])\n",
    "fxing=Data.fromfile('filteredxing',fxing_dt,'teslib','measurement_subsystem_TB',tool='vivado')"
   ]
  },
  {
   "cell_type": "code",
   "execution_count": null,
   "metadata": {
    "collapsed": false,
    "run_control": {
     "frozen": false,
     "read_only": false
    }
   },
   "outputs": [],
   "source": [
    "minmax"
   ]
  },
  {
   "cell_type": "code",
   "execution_count": null,
   "metadata": {
    "collapsed": false,
    "run_control": {
     "frozen": false,
     "read_only": false
    }
   },
   "outputs": [],
   "source": [
    "fxing"
   ]
  },
  {
   "cell_type": "code",
   "execution_count": null,
   "metadata": {
    "collapsed": false,
    "run_control": {
     "frozen": false,
     "read_only": false
    }
   },
   "outputs": [],
   "source": [
    "np.where(fxing['area']==0)"
   ]
  },
  {
   "cell_type": "code",
   "execution_count": null,
   "metadata": {
    "collapsed": false,
    "run_control": {
     "frozen": false,
     "read_only": false
    }
   },
   "outputs": [],
   "source": [
    "np.where(fxing['extrema']==0)"
   ]
  },
  {
   "cell_type": "code",
   "execution_count": null,
   "metadata": {
    "collapsed": false,
    "run_control": {
     "frozen": false,
     "read_only": false
    }
   },
   "outputs": [],
   "source": [
    "fxing[30]"
   ]
  },
  {
   "cell_type": "code",
   "execution_count": null,
   "metadata": {
    "collapsed": false,
    "run_control": {
     "frozen": false,
     "read_only": false
    }
   },
   "outputs": [],
   "source": [
    "exn=np.where(fxing['extrema']<0)\n",
    "clkn=np.where(fxing['clk']>0)"
   ]
  },
  {
   "cell_type": "code",
   "execution_count": null,
   "metadata": {
    "collapsed": true,
    "run_control": {
     "frozen": false,
     "read_only": false
    }
   },
   "outputs": [],
   "source": []
  },
  {
   "cell_type": "code",
   "execution_count": null,
   "metadata": {
    "collapsed": false,
    "run_control": {
     "frozen": false,
     "read_only": false
    }
   },
   "outputs": [],
   "source": [
    "fxing[374]"
   ]
  },
  {
   "cell_type": "code",
   "execution_count": null,
   "metadata": {
    "collapsed": false,
    "run_control": {
     "frozen": false,
     "read_only": false
    }
   },
   "outputs": [],
   "source": [
    "clkn"
   ]
  },
  {
   "cell_type": "code",
   "execution_count": null,
   "metadata": {
    "collapsed": false,
    "run_control": {
     "frozen": false,
     "read_only": false
    }
   },
   "outputs": [],
   "source": [
    "np.where(minmax[maxs[0]-1]['min']!=1)"
   ]
  },
  {
   "cell_type": "code",
   "execution_count": null,
   "metadata": {
    "collapsed": false,
    "run_control": {
     "frozen": false,
     "read_only": false
    }
   },
   "outputs": [],
   "source": [
    "minmax[maxs[0]-1][65]"
   ]
  },
  {
   "cell_type": "code",
   "execution_count": null,
   "metadata": {
    "collapsed": false,
    "run_control": {
     "frozen": false,
     "read_only": false
    }
   },
   "outputs": [],
   "source": [
    "2290-925"
   ]
  },
  {
   "cell_type": "code",
   "execution_count": null,
   "metadata": {
    "collapsed": false,
    "run_control": {
     "frozen": false,
     "read_only": false
    }
   },
   "outputs": [],
   "source": [
    "0.375*4"
   ]
  },
  {
   "cell_type": "code",
   "execution_count": null,
   "metadata": {
    "collapsed": false,
    "run_control": {
     "frozen": false,
     "read_only": false
    }
   },
   "outputs": [],
   "source": [
    "np.where(minmax['clock']==2290)"
   ]
  },
  {
   "cell_type": "code",
   "execution_count": null,
   "metadata": {
    "collapsed": false,
    "run_control": {
     "frozen": false,
     "read_only": false
    }
   },
   "outputs": [],
   "source": [
    "minmax[120:140]"
   ]
  },
  {
   "cell_type": "code",
   "execution_count": null,
   "metadata": {
    "collapsed": false,
    "run_control": {
     "frozen": false,
     "read_only": false
    }
   },
   "outputs": [],
   "source": [
    "stream_dt=np.dtype([('data','>i4'),('last','i4')])\n",
    "#stream=np.fromfile('data/stream',stream_dt)"
   ]
  },
  {
   "cell_type": "markdown",
   "metadata": {},
   "source": [
    "### bytestream stuff"
   ]
  },
  {
   "cell_type": "code",
   "execution_count": null,
   "metadata": {
    "collapsed": false,
    "run_control": {
     "frozen": false,
     "read_only": false
    }
   },
   "outputs": [],
   "source": [
    "stream_dt=np.dtype([('data','i4'),('last','i4')])\n",
    "stream=Data.fromfile('bytestream',stream_dt,'teslib','measurement_subsystem_TB',tool='vivado')\n",
    "lasts=np.where(stream['last']<=0)[0]+1\n",
    "#data=np.copy(stream['data'])"
   ]
  },
  {
   "cell_type": "code",
   "execution_count": null,
   "metadata": {
    "collapsed": false,
    "run_control": {
     "frozen": false,
     "read_only": false
    }
   },
   "outputs": [],
   "source": [
    "stream"
   ]
  },
  {
   "cell_type": "code",
   "execution_count": null,
   "metadata": {
    "collapsed": true,
    "run_control": {
     "frozen": false,
     "read_only": false
    }
   },
   "outputs": [],
   "source": []
  },
  {
   "cell_type": "code",
   "execution_count": null,
   "metadata": {
    "collapsed": true,
    "run_control": {
     "frozen": false,
     "read_only": false
    }
   },
   "outputs": [],
   "source": [
    "stream=np.fromfile('data/bytestream',stream_dt)"
   ]
  },
  {
   "cell_type": "code",
   "execution_count": null,
   "metadata": {
    "collapsed": false,
    "run_control": {
     "frozen": false,
     "read_only": false
    }
   },
   "outputs": [],
   "source": [
    "bs=PacketStream(stream)"
   ]
  },
  {
   "cell_type": "code",
   "execution_count": null,
   "metadata": {
    "collapsed": false,
    "run_control": {
     "frozen": false,
     "read_only": false
    }
   },
   "outputs": [],
   "source": [
    "bs.packets"
   ]
  },
  {
   "cell_type": "code",
   "execution_count": null,
   "metadata": {
    "collapsed": false,
    "run_control": {
     "frozen": false,
     "read_only": false
    }
   },
   "outputs": [],
   "source": [
    "bs.packets[4]"
   ]
  },
  {
   "cell_type": "code",
   "execution_count": null,
   "metadata": {
    "collapsed": true,
    "run_control": {
     "frozen": false,
     "read_only": false
    }
   },
   "outputs": [],
   "source": [
    "eheader_dt=[('etype','<u2'),('length','u2'),()]"
   ]
  },
  {
   "cell_type": "code",
   "execution_count": null,
   "metadata": {
    "collapsed": false,
    "run_control": {
     "frozen": false,
     "read_only": false
    }
   },
   "outputs": [],
   "source": [
    "'{:X}'.format(bs.packets[1].bytes[23])\n"
   ]
  },
  {
   "cell_type": "code",
   "execution_count": null,
   "metadata": {
    "collapsed": false,
    "run_control": {
     "frozen": false,
     "read_only": false
    }
   },
   "outputs": [],
   "source": [
    "'{:X}'.format(bs.packets[0].bytes[28:30].view(np.uint16)[0])"
   ]
  },
  {
   "cell_type": "code",
   "execution_count": null,
   "metadata": {
    "collapsed": true,
    "run_control": {
     "frozen": false,
     "read_only": false
    }
   },
   "outputs": [],
   "source": [
    "pulse_peak_dt=np.dtype([('height','i2'),('rise','i2'),('minima','u2'),('time','i2')])\n",
    "pulse_dt=np.dtype([('size','i2'),('resv','i2'),('flags','i2'),('time','u2'),\n",
    "                  ('area','i4'),('length','i2'),('offset','i2'),('peaks',(pulse_peak_dt,2))])"
   ]
  },
  {
   "cell_type": "code",
   "execution_count": null,
   "metadata": {
    "collapsed": false,
    "run_control": {
     "frozen": false,
     "read_only": false
    }
   },
   "outputs": [],
   "source": [
    "pulses=bs.packets[3].payload.view(pulse_dt)"
   ]
  },
  {
   "cell_type": "code",
   "execution_count": null,
   "metadata": {
    "collapsed": false,
    "run_control": {
     "frozen": false,
     "read_only": false
    }
   },
   "outputs": [],
   "source": [
    "pulses['peaks']"
   ]
  },
  {
   "cell_type": "code",
   "execution_count": null,
   "metadata": {
    "collapsed": false,
    "run_control": {
     "frozen": false,
     "read_only": false
    }
   },
   "outputs": [],
   "source": [
    "pulses['offset']"
   ]
  },
  {
   "cell_type": "code",
   "execution_count": null,
   "metadata": {
    "collapsed": false,
    "run_control": {
     "frozen": false,
     "read_only": false
    }
   },
   "outputs": [],
   "source": [
    "pulses['length']"
   ]
  },
  {
   "cell_type": "code",
   "execution_count": null,
   "metadata": {
    "collapsed": false,
    "run_control": {
     "frozen": false,
     "read_only": false
    }
   },
   "outputs": [],
   "source": [
    "class eflags:\n",
    "    def __init__(self,uint16):\n",
    "        self.new_window=np.bitwise_and(uint16,0x00000001)!=0\n",
    "        self.tick=np.bitwise_and(uint16,0x00000002)!=0\n",
    "        self.type=np.right_shift(np.bitwise_and(uint16,0x0000000c),2)\n",
    "        \n",
    "    def __repr__(self):\n",
    "        return 'New window:{:}\\n'.format(self.new_window) + \\\n",
    "               'Tick:{:}\\n'.format(self.tick) + \\\n",
    "               'Type:{:}\\n'.format(self.type) "
   ]
  },
  {
   "cell_type": "code",
   "execution_count": null,
   "metadata": {
    "collapsed": false,
    "run_control": {
     "frozen": false,
     "read_only": false
    }
   },
   "outputs": [],
   "source": [
    "f=eflags(pulses[0]['flags'])\n",
    "f"
   ]
  },
  {
   "cell_type": "code",
   "execution_count": null,
   "metadata": {
    "collapsed": false,
    "run_control": {
     "frozen": false,
     "read_only": false
    }
   },
   "outputs": [],
   "source": [
    "'{:X}'.format(bs.packets[3].bytes[13:14].view(np.uint16))"
   ]
  },
  {
   "cell_type": "code",
   "execution_count": null,
   "metadata": {
    "collapsed": true,
    "run_control": {
     "frozen": false,
     "read_only": false
    }
   },
   "outputs": [],
   "source": []
  },
  {
   "cell_type": "code",
   "execution_count": null,
   "metadata": {
    "collapsed": false,
    "run_control": {
     "frozen": false,
     "read_only": false
    }
   },
   "outputs": [],
   "source": [
    "'{:X}'.format(bs.packets[3].bytes[14:16].view(np.uint16)[0])"
   ]
  },
  {
   "cell_type": "code",
   "execution_count": null,
   "metadata": {
    "collapsed": false,
    "run_control": {
     "frozen": false,
     "read_only": false
    }
   },
   "outputs": [],
   "source": [
    "bs.packets[3].bytes[14:16].view(np.uint16)[0]"
   ]
  },
  {
   "cell_type": "code",
   "execution_count": null,
   "metadata": {
    "collapsed": false,
    "run_control": {
     "frozen": false,
     "read_only": false
    }
   },
   "outputs": [],
   "source": [
    "bs=np.uint8(stream['data'][:48])"
   ]
  },
  {
   "cell_type": "code",
   "execution_count": null,
   "metadata": {
    "collapsed": false,
    "run_control": {
     "frozen": false,
     "read_only": false
    }
   },
   "outputs": [],
   "source": [
    "bs"
   ]
  },
  {
   "cell_type": "code",
   "execution_count": null,
   "metadata": {
    "collapsed": false,
    "run_control": {
     "frozen": false,
     "read_only": false
    }
   },
   "outputs": [],
   "source": [
    "events=stream['data'].view(event_dt)"
   ]
  },
  {
   "cell_type": "code",
   "execution_count": null,
   "metadata": {
    "collapsed": false,
    "run_control": {
     "frozen": false,
     "read_only": false
    }
   },
   "outputs": [],
   "source": [
    "'{:X}'.format(events['flags'][0])"
   ]
  },
  {
   "cell_type": "code",
   "execution_count": null,
   "metadata": {
    "collapsed": false,
    "run_control": {
     "frozen": false,
     "read_only": false
    }
   },
   "outputs": [],
   "source": [
    "events['rise']"
   ]
  },
  {
   "cell_type": "code",
   "execution_count": null,
   "metadata": {
    "collapsed": false,
    "run_control": {
     "frozen": false,
     "read_only": false
    }
   },
   "outputs": [],
   "source": [
    "events"
   ]
  },
  {
   "cell_type": "code",
   "execution_count": null,
   "metadata": {
    "collapsed": false,
    "run_control": {
     "frozen": false,
     "read_only": false
    }
   },
   "outputs": [],
   "source": [
    "'{:04X}'.format(events['flags'][1])"
   ]
  },
  {
   "cell_type": "code",
   "execution_count": null,
   "metadata": {
    "collapsed": true,
    "run_control": {
     "frozen": false,
     "read_only": false
    }
   },
   "outputs": [],
   "source": [
    "pulse_peak_dt=np.dtype([('time','>i2'),('minima','>i2'),('rise','>u2'),('height','>i2')])\n",
    "pulse_dt=np.dtype([('time','>i2'),('flags','>i2'),('resv','>i2'),('size','>u2'),\n",
    "                  ('offset','>i2'),('length','>i2'),('area','>i4'),('peaks',(pulse_peak_dt,1))])\n",
    "data=np.copy(stream['data'])"
   ]
  },
  {
   "cell_type": "code",
   "execution_count": null,
   "metadata": {
    "collapsed": false,
    "run_control": {
     "frozen": false,
     "read_only": false
    }
   },
   "outputs": [],
   "source": [
    "pulses=data.view(pulse_dt)"
   ]
  },
  {
   "cell_type": "code",
   "execution_count": null,
   "metadata": {
    "collapsed": false,
    "run_control": {
     "frozen": false,
     "read_only": false
    }
   },
   "outputs": [],
   "source": [
    "pulses['peaks']['height']-pulses['peaks']['minima']"
   ]
  },
  {
   "cell_type": "code",
   "execution_count": null,
   "metadata": {
    "collapsed": false,
    "run_control": {
     "frozen": false,
     "read_only": false
    }
   },
   "outputs": [],
   "source": [
    "pulses['peaks']['minima']"
   ]
  },
  {
   "cell_type": "code",
   "execution_count": null,
   "metadata": {
    "collapsed": false,
    "run_control": {
     "frozen": false,
     "read_only": false
    }
   },
   "outputs": [],
   "source": [
    "peak_count=np.right_shift(np.bitwise_and(pulses['flags'],0xF000),12)\n",
    "peak_overflow=np.bitwise_and(pulses['flags'],0x0800)!=0\n",
    "channel=np.right_shift(np.bitwise_and(pulses['flags'],0x0700),8)\n",
    "timing_type=np.right_shift(np.bitwise_and(pulses['flags'],0x00C0),6)\n",
    "height_type=np.right_shift(np.bitwise_and(pulses['flags'],0x0030),4)\n",
    "event_type=np.right_shift(np.bitwise_and(pulses['flags'],0x000E),1)\n",
    "new_window=np.bitwise_and(pulses['flags'],0x0001)!=0"
   ]
  },
  {
   "cell_type": "code",
   "execution_count": null,
   "metadata": {
    "collapsed": false,
    "run_control": {
     "frozen": false,
     "read_only": false
    }
   },
   "outputs": [],
   "source": [
    "peak_overflow"
   ]
  },
  {
   "cell_type": "code",
   "execution_count": null,
   "metadata": {
    "collapsed": true,
    "run_control": {
     "frozen": false,
     "read_only": false
    }
   },
   "outputs": [],
   "source": [
    "test_dt=np.dtype(\n",
    "    [('time','i2'),('flags','i2'),('rise','u2'),('minima','i2'),('low','u8'),('high','u8')]\n",
    ")\n",
    "test=data.view(test_dt)"
   ]
  },
  {
   "cell_type": "code",
   "execution_count": null,
   "metadata": {
    "collapsed": false,
    "run_control": {
     "frozen": false,
     "read_only": false
    }
   },
   "outputs": [],
   "source": [
    "test"
   ]
  },
  {
   "cell_type": "code",
   "execution_count": null,
   "metadata": {
    "collapsed": false,
    "run_control": {
     "frozen": false,
     "read_only": false
    }
   },
   "outputs": [],
   "source": [
    "test['minima']"
   ]
  },
  {
   "cell_type": "code",
   "execution_count": null,
   "metadata": {
    "collapsed": false,
    "run_control": {
     "frozen": false,
     "read_only": false
    }
   },
   "outputs": [],
   "source": [
    "low1=np.int32(np.right_shift(np.bitwise_and(test['low'],0x03FFFF000000000),36))\n",
    "s=(np.bitwise_and(low1,0x00020000)!=0)*0xFFFC0000\n",
    "low2=np.int32(np.right_shift(np.bitwise_and(test['low'],0x000000FFFFC0000),18))\n",
    "low_threshold=np.int32(np.bitwise_and(test['low'],0x00000000003FFFF))\n",
    "high1=np.int32(np.right_shift(np.bitwise_and(test['high'],0x03FFFF000000000),36))\n",
    "high2=np.int32(np.right_shift(np.bitwise_and(test['high'],0x000000FFFFC0000),18))\n",
    "high_threshold=np.int32(np.bitwise_and(test['high'],0x00000000003FFFF))"
   ]
  },
  {
   "cell_type": "code",
   "execution_count": null,
   "metadata": {
    "collapsed": false,
    "run_control": {
     "frozen": false,
     "read_only": false
    }
   },
   "outputs": [],
   "source": [
    "np.int32(np.bitwise_or(low1,s))/8.0"
   ]
  },
  {
   "cell_type": "code",
   "execution_count": null,
   "metadata": {
    "collapsed": false,
    "run_control": {
     "frozen": false,
     "read_only": false
    }
   },
   "outputs": [],
   "source": [
    "'{:04X}'.format(low1[0])"
   ]
  },
  {
   "cell_type": "code",
   "execution_count": null,
   "metadata": {
    "collapsed": false,
    "run_control": {
     "frozen": false,
     "read_only": false
    }
   },
   "outputs": [],
   "source": [
    "high1/8.0"
   ]
  },
  {
   "cell_type": "code",
   "execution_count": null,
   "metadata": {
    "collapsed": false,
    "run_control": {
     "frozen": false,
     "read_only": false
    }
   },
   "outputs": [],
   "source": [
    "high2/8.0"
   ]
  },
  {
   "cell_type": "code",
   "execution_count": null,
   "metadata": {
    "collapsed": false,
    "run_control": {
     "frozen": false,
     "read_only": false
    }
   },
   "outputs": [],
   "source": [
    "'{:04X}'.format(high_threshold[0])"
   ]
  },
  {
   "cell_type": "code",
   "execution_count": null,
   "metadata": {
    "collapsed": false,
    "run_control": {
     "frozen": false,
     "read_only": false
    }
   },
   "outputs": [],
   "source": [
    "from enum import Enum"
   ]
  },
  {
   "cell_type": "code",
   "execution_count": null,
   "metadata": {
    "collapsed": false,
    "run_control": {
     "frozen": false,
     "read_only": false
    }
   },
   "outputs": [],
   "source": [
    "class VhdlEnum(int, Enum):\n",
    "\n",
    "    def __str__(self):\n",
    "        return self.name.replace(\"-\", \" \")\n",
    "    \n",
    "    def select(self):\n",
    "        return pow(2, self.value)\n",
    "    "
   ]
  },
  {
   "cell_type": "code",
   "execution_count": null,
   "metadata": {
    "collapsed": false,
    "run_control": {
     "frozen": false,
     "read_only": false
    }
   },
   "outputs": [],
   "source": [
    "class Test(VhdlEnum):\n",
    "    a=0\n",
    "    b=1"
   ]
  },
  {
   "cell_type": "code",
   "execution_count": null,
   "metadata": {
    "collapsed": false,
    "run_control": {
     "frozen": false,
     "read_only": false
    }
   },
   "outputs": [],
   "source": [
    "Test(0)"
   ]
  },
  {
   "cell_type": "code",
   "execution_count": null,
   "metadata": {
    "collapsed": true,
    "run_control": {
     "frozen": false,
     "read_only": false
    }
   },
   "outputs": [],
   "source": []
  }
 ],
 "metadata": {
  "anaconda-cloud": {},
  "kernelspec": {
   "display_name": "Python [conda root]",
   "language": "python",
   "name": "conda-root-py"
  },
  "language_info": {
   "codemirror_mode": {
    "name": "ipython",
    "version": 3
   },
   "file_extension": ".py",
   "mimetype": "text/x-python",
   "name": "python",
   "nbconvert_exporter": "python",
   "pygments_lexer": "ipython3",
   "version": "3.5.2"
  }
 },
 "nbformat": 4,
 "nbformat_minor": 1
}
