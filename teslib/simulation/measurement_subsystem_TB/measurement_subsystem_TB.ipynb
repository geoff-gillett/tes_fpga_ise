{
 "cells": [
  {
   "cell_type": "code",
   "execution_count": 14,
   "metadata": {
    "collapsed": false
   },
   "outputs": [],
   "source": [
    "import sys\n",
    "import tes.simulation.data as sim\n",
    "from tes.simulation.data import PacketStream, Data, Distribution\n",
    "from tes.simulation.filesets import measurement_subsystem_TB as fileset\n",
    "import tes.simulation.plot as splt\n",
    "import numpy as np\n",
    "import matplotlib.pyplot as plt\n",
    "import math\n",
    "import collections"
   ]
  },
  {
   "cell_type": "code",
   "execution_count": 15,
   "metadata": {
    "collapsed": false
   },
   "outputs": [
    {
     "name": "stdout",
     "output_type": "stream",
     "text": [
      "Unknown ethertype:0\n",
      "Unknown ethertype:0\n",
      "Unknown ethertype:0\n",
      "Unknown ethertype:0\n",
      "Unknown ethertype:0\n",
      "Unknown ethertype:0\n",
      "Unknown ethertype:0\n",
      "Unknown ethertype:0\n",
      "Unknown ethertype:0\n",
      "Unknown ethertype:0\n",
      "Unknown ethertype:0\n",
      "Unknown ethertype:0\n",
      "Unknown ethertype:0\n",
      "Unknown ethertype:0\n"
     ]
    }
   ],
   "source": [
    "data=Data(fileset, 8, 'teslib','measurement_subsystem_TB')\n",
    "enet=PacketStream(data.byte_stream)\n",
    "dists=enet.distributions"
   ]
  },
  {
   "cell_type": "code",
   "execution_count": 16,
   "metadata": {
    "collapsed": false
   },
   "outputs": [
    {
     "data": {
      "text/plain": [
       "array([(36, 0, False), (38, 0, False), (40, 0, False), ...,\n",
       "       (99994, 0, False), (99996, 0, False), (99998, 0, False)], \n",
       "      dtype=[('index', '<u4'), ('data', 'u1'), ('last', '?')])"
      ]
     },
     "execution_count": 16,
     "metadata": {},
     "output_type": "execute_result"
    }
   ],
   "source": [
    "data.byte_stream"
   ]
  },
  {
   "cell_type": "code",
   "execution_count": 6,
   "metadata": {
    "collapsed": false
   },
   "outputs": [
    {
     "name": "stdout",
     "output_type": "stream",
     "text": [
      "No distributions\n"
     ]
    }
   ],
   "source": [
    "# compare transmitted distributions with the data\n",
    "failed=False\n",
    "if dists == []:\n",
    "    print('No distributions')\n",
    "else:\n",
    "    for dist in dists:\n",
    "        dif = (dist.counts - dist.data_counts(data))[0].nonzero()\n",
    "        if dif[0].size:\n",
    "            print(\n",
    "                '{:}\\nDoes not reconcile with the data, '+\n",
    "                'Differences at {:d} indexs:\\n{:}\\n'.format(\n",
    "                    dist, dif[0].size, dif[0])\n",
    "            )\n",
    "            failed=True\n",
    "    if not failed:\n",
    "        print('Distributions agree with data')\n",
    "    \n"
   ]
  },
  {
   "cell_type": "markdown",
   "metadata": {},
   "source": [
    " ## work area"
   ]
  },
  {
   "cell_type": "code",
   "execution_count": 3,
   "metadata": {
    "collapsed": false,
    "scrolled": false
   },
   "outputs": [
    {
     "data": {
      "text/plain": [
       "[ethertype:0000 length:0 Payload:UNKNOWN frame:0 protocol:0,\n",
       " ethertype:0000 length:0 Payload:UNKNOWN frame:0 protocol:0,\n",
       " ethertype:0000 length:0 Payload:UNKNOWN frame:0 protocol:0,\n",
       " ethertype:0000 length:0 Payload:UNKNOWN frame:0 protocol:0,\n",
       " ethertype:0000 length:0 Payload:UNKNOWN frame:0 protocol:0,\n",
       " ethertype:0000 length:0 Payload:UNKNOWN frame:0 protocol:0,\n",
       " ethertype:0000 length:0 Payload:UNKNOWN frame:0 protocol:0,\n",
       " ethertype:0000 length:0 Payload:UNKNOWN frame:0 protocol:0,\n",
       " ethertype:0000 length:0 Payload:UNKNOWN frame:0 protocol:0,\n",
       " ethertype:0000 length:0 Payload:UNKNOWN frame:0 protocol:0,\n",
       " ethertype:0000 length:0 Payload:UNKNOWN frame:0 protocol:0,\n",
       " ethertype:0000 length:0 Payload:UNKNOWN frame:0 protocol:0,\n",
       " ethertype:0000 length:0 Payload:UNKNOWN frame:0 protocol:0,\n",
       " ethertype:0000 length:0 Payload:UNKNOWN frame:0 protocol:0]"
      ]
     },
     "execution_count": 3,
     "metadata": {},
     "output_type": "execute_result"
    }
   ],
   "source": [
    "enet.packets"
   ]
  },
  {
   "cell_type": "code",
   "execution_count": 4,
   "metadata": {
    "collapsed": false
   },
   "outputs": [
    {
     "data": {
      "text/plain": [
       "array([(36, 0, False), (38, 0, False), (40, 0, False), ...,\n",
       "       (25454, 0, False), (25456, 0, False), (25458, 0, False)], \n",
       "      dtype=[('index', '<u4'), ('data', 'u1'), ('last', '?')])"
      ]
     },
     "execution_count": 4,
     "metadata": {},
     "output_type": "execute_result"
    }
   ],
   "source": [
    "data.byte_stream"
   ]
  },
  {
   "cell_type": "code",
   "execution_count": 5,
   "metadata": {
    "collapsed": false,
    "scrolled": false
   },
   "outputs": [
    {
     "data": {
      "application/javascript": [
       "/* Put everything inside the global mpl namespace */\n",
       "window.mpl = {};\n",
       "\n",
       "mpl.get_websocket_type = function() {\n",
       "    if (typeof(WebSocket) !== 'undefined') {\n",
       "        return WebSocket;\n",
       "    } else if (typeof(MozWebSocket) !== 'undefined') {\n",
       "        return MozWebSocket;\n",
       "    } else {\n",
       "        alert('Your browser does not have WebSocket support.' +\n",
       "              'Please try Chrome, Safari or Firefox ≥ 6. ' +\n",
       "              'Firefox 4 and 5 are also supported but you ' +\n",
       "              'have to enable WebSockets in about:config.');\n",
       "    };\n",
       "}\n",
       "\n",
       "mpl.figure = function(figure_id, websocket, ondownload, parent_element) {\n",
       "    this.id = figure_id;\n",
       "\n",
       "    this.ws = websocket;\n",
       "\n",
       "    this.supports_binary = (this.ws.binaryType != undefined);\n",
       "\n",
       "    if (!this.supports_binary) {\n",
       "        var warnings = document.getElementById(\"mpl-warnings\");\n",
       "        if (warnings) {\n",
       "            warnings.style.display = 'block';\n",
       "            warnings.textContent = (\n",
       "                \"This browser does not support binary websocket messages. \" +\n",
       "                    \"Performance may be slow.\");\n",
       "        }\n",
       "    }\n",
       "\n",
       "    this.imageObj = new Image();\n",
       "\n",
       "    this.context = undefined;\n",
       "    this.message = undefined;\n",
       "    this.canvas = undefined;\n",
       "    this.rubberband_canvas = undefined;\n",
       "    this.rubberband_context = undefined;\n",
       "    this.format_dropdown = undefined;\n",
       "\n",
       "    this.image_mode = 'full';\n",
       "\n",
       "    this.root = $('<div/>');\n",
       "    this._root_extra_style(this.root)\n",
       "    this.root.attr('style', 'display: inline-block');\n",
       "\n",
       "    $(parent_element).append(this.root);\n",
       "\n",
       "    this._init_header(this);\n",
       "    this._init_canvas(this);\n",
       "    this._init_toolbar(this);\n",
       "\n",
       "    var fig = this;\n",
       "\n",
       "    this.waiting = false;\n",
       "\n",
       "    this.ws.onopen =  function () {\n",
       "            fig.send_message(\"supports_binary\", {value: fig.supports_binary});\n",
       "            fig.send_message(\"send_image_mode\", {});\n",
       "            fig.send_message(\"refresh\", {});\n",
       "        }\n",
       "\n",
       "    this.imageObj.onload = function() {\n",
       "            if (fig.image_mode == 'full') {\n",
       "                // Full images could contain transparency (where diff images\n",
       "                // almost always do), so we need to clear the canvas so that\n",
       "                // there is no ghosting.\n",
       "                fig.context.clearRect(0, 0, fig.canvas.width, fig.canvas.height);\n",
       "            }\n",
       "            fig.context.drawImage(fig.imageObj, 0, 0);\n",
       "        };\n",
       "\n",
       "    this.imageObj.onunload = function() {\n",
       "        this.ws.close();\n",
       "    }\n",
       "\n",
       "    this.ws.onmessage = this._make_on_message_function(this);\n",
       "\n",
       "    this.ondownload = ondownload;\n",
       "}\n",
       "\n",
       "mpl.figure.prototype._init_header = function() {\n",
       "    var titlebar = $(\n",
       "        '<div class=\"ui-dialog-titlebar ui-widget-header ui-corner-all ' +\n",
       "        'ui-helper-clearfix\"/>');\n",
       "    var titletext = $(\n",
       "        '<div class=\"ui-dialog-title\" style=\"width: 100%; ' +\n",
       "        'text-align: center; padding: 3px;\"/>');\n",
       "    titlebar.append(titletext)\n",
       "    this.root.append(titlebar);\n",
       "    this.header = titletext[0];\n",
       "}\n",
       "\n",
       "\n",
       "\n",
       "mpl.figure.prototype._canvas_extra_style = function(canvas_div) {\n",
       "\n",
       "}\n",
       "\n",
       "\n",
       "mpl.figure.prototype._root_extra_style = function(canvas_div) {\n",
       "\n",
       "}\n",
       "\n",
       "mpl.figure.prototype._init_canvas = function() {\n",
       "    var fig = this;\n",
       "\n",
       "    var canvas_div = $('<div/>');\n",
       "\n",
       "    canvas_div.attr('style', 'position: relative; clear: both; outline: 0');\n",
       "\n",
       "    function canvas_keyboard_event(event) {\n",
       "        return fig.key_event(event, event['data']);\n",
       "    }\n",
       "\n",
       "    canvas_div.keydown('key_press', canvas_keyboard_event);\n",
       "    canvas_div.keyup('key_release', canvas_keyboard_event);\n",
       "    this.canvas_div = canvas_div\n",
       "    this._canvas_extra_style(canvas_div)\n",
       "    this.root.append(canvas_div);\n",
       "\n",
       "    var canvas = $('<canvas/>');\n",
       "    canvas.addClass('mpl-canvas');\n",
       "    canvas.attr('style', \"left: 0; top: 0; z-index: 0; outline: 0\")\n",
       "\n",
       "    this.canvas = canvas[0];\n",
       "    this.context = canvas[0].getContext(\"2d\");\n",
       "\n",
       "    var rubberband = $('<canvas/>');\n",
       "    rubberband.attr('style', \"position: absolute; left: 0; top: 0; z-index: 1;\")\n",
       "\n",
       "    var pass_mouse_events = true;\n",
       "\n",
       "    canvas_div.resizable({\n",
       "        start: function(event, ui) {\n",
       "            pass_mouse_events = false;\n",
       "        },\n",
       "        resize: function(event, ui) {\n",
       "            fig.request_resize(ui.size.width, ui.size.height);\n",
       "        },\n",
       "        stop: function(event, ui) {\n",
       "            pass_mouse_events = true;\n",
       "            fig.request_resize(ui.size.width, ui.size.height);\n",
       "        },\n",
       "    });\n",
       "\n",
       "    function mouse_event_fn(event) {\n",
       "        if (pass_mouse_events)\n",
       "            return fig.mouse_event(event, event['data']);\n",
       "    }\n",
       "\n",
       "    rubberband.mousedown('button_press', mouse_event_fn);\n",
       "    rubberband.mouseup('button_release', mouse_event_fn);\n",
       "    // Throttle sequential mouse events to 1 every 20ms.\n",
       "    rubberband.mousemove('motion_notify', mouse_event_fn);\n",
       "\n",
       "    rubberband.mouseenter('figure_enter', mouse_event_fn);\n",
       "    rubberband.mouseleave('figure_leave', mouse_event_fn);\n",
       "\n",
       "    canvas_div.on(\"wheel\", function (event) {\n",
       "        event = event.originalEvent;\n",
       "        event['data'] = 'scroll'\n",
       "        if (event.deltaY < 0) {\n",
       "            event.step = 1;\n",
       "        } else {\n",
       "            event.step = -1;\n",
       "        }\n",
       "        mouse_event_fn(event);\n",
       "    });\n",
       "\n",
       "    canvas_div.append(canvas);\n",
       "    canvas_div.append(rubberband);\n",
       "\n",
       "    this.rubberband = rubberband;\n",
       "    this.rubberband_canvas = rubberband[0];\n",
       "    this.rubberband_context = rubberband[0].getContext(\"2d\");\n",
       "    this.rubberband_context.strokeStyle = \"#000000\";\n",
       "\n",
       "    this._resize_canvas = function(width, height) {\n",
       "        // Keep the size of the canvas, canvas container, and rubber band\n",
       "        // canvas in synch.\n",
       "        canvas_div.css('width', width)\n",
       "        canvas_div.css('height', height)\n",
       "\n",
       "        canvas.attr('width', width);\n",
       "        canvas.attr('height', height);\n",
       "\n",
       "        rubberband.attr('width', width);\n",
       "        rubberband.attr('height', height);\n",
       "    }\n",
       "\n",
       "    // Set the figure to an initial 600x600px, this will subsequently be updated\n",
       "    // upon first draw.\n",
       "    this._resize_canvas(600, 600);\n",
       "\n",
       "    // Disable right mouse context menu.\n",
       "    $(this.rubberband_canvas).bind(\"contextmenu\",function(e){\n",
       "        return false;\n",
       "    });\n",
       "\n",
       "    function set_focus () {\n",
       "        canvas.focus();\n",
       "        canvas_div.focus();\n",
       "    }\n",
       "\n",
       "    window.setTimeout(set_focus, 100);\n",
       "}\n",
       "\n",
       "mpl.figure.prototype._init_toolbar = function() {\n",
       "    var fig = this;\n",
       "\n",
       "    var nav_element = $('<div/>')\n",
       "    nav_element.attr('style', 'width: 100%');\n",
       "    this.root.append(nav_element);\n",
       "\n",
       "    // Define a callback function for later on.\n",
       "    function toolbar_event(event) {\n",
       "        return fig.toolbar_button_onclick(event['data']);\n",
       "    }\n",
       "    function toolbar_mouse_event(event) {\n",
       "        return fig.toolbar_button_onmouseover(event['data']);\n",
       "    }\n",
       "\n",
       "    for(var toolbar_ind in mpl.toolbar_items) {\n",
       "        var name = mpl.toolbar_items[toolbar_ind][0];\n",
       "        var tooltip = mpl.toolbar_items[toolbar_ind][1];\n",
       "        var image = mpl.toolbar_items[toolbar_ind][2];\n",
       "        var method_name = mpl.toolbar_items[toolbar_ind][3];\n",
       "\n",
       "        if (!name) {\n",
       "            // put a spacer in here.\n",
       "            continue;\n",
       "        }\n",
       "        var button = $('<button/>');\n",
       "        button.addClass('ui-button ui-widget ui-state-default ui-corner-all ' +\n",
       "                        'ui-button-icon-only');\n",
       "        button.attr('role', 'button');\n",
       "        button.attr('aria-disabled', 'false');\n",
       "        button.click(method_name, toolbar_event);\n",
       "        button.mouseover(tooltip, toolbar_mouse_event);\n",
       "\n",
       "        var icon_img = $('<span/>');\n",
       "        icon_img.addClass('ui-button-icon-primary ui-icon');\n",
       "        icon_img.addClass(image);\n",
       "        icon_img.addClass('ui-corner-all');\n",
       "\n",
       "        var tooltip_span = $('<span/>');\n",
       "        tooltip_span.addClass('ui-button-text');\n",
       "        tooltip_span.html(tooltip);\n",
       "\n",
       "        button.append(icon_img);\n",
       "        button.append(tooltip_span);\n",
       "\n",
       "        nav_element.append(button);\n",
       "    }\n",
       "\n",
       "    var fmt_picker_span = $('<span/>');\n",
       "\n",
       "    var fmt_picker = $('<select/>');\n",
       "    fmt_picker.addClass('mpl-toolbar-option ui-widget ui-widget-content');\n",
       "    fmt_picker_span.append(fmt_picker);\n",
       "    nav_element.append(fmt_picker_span);\n",
       "    this.format_dropdown = fmt_picker[0];\n",
       "\n",
       "    for (var ind in mpl.extensions) {\n",
       "        var fmt = mpl.extensions[ind];\n",
       "        var option = $(\n",
       "            '<option/>', {selected: fmt === mpl.default_extension}).html(fmt);\n",
       "        fmt_picker.append(option)\n",
       "    }\n",
       "\n",
       "    // Add hover states to the ui-buttons\n",
       "    $( \".ui-button\" ).hover(\n",
       "        function() { $(this).addClass(\"ui-state-hover\");},\n",
       "        function() { $(this).removeClass(\"ui-state-hover\");}\n",
       "    );\n",
       "\n",
       "    var status_bar = $('<span class=\"mpl-message\"/>');\n",
       "    nav_element.append(status_bar);\n",
       "    this.message = status_bar[0];\n",
       "}\n",
       "\n",
       "mpl.figure.prototype.request_resize = function(x_pixels, y_pixels) {\n",
       "    // Request matplotlib to resize the figure. Matplotlib will then trigger a resize in the client,\n",
       "    // which will in turn request a refresh of the image.\n",
       "    this.send_message('resize', {'width': x_pixels, 'height': y_pixels});\n",
       "}\n",
       "\n",
       "mpl.figure.prototype.send_message = function(type, properties) {\n",
       "    properties['type'] = type;\n",
       "    properties['figure_id'] = this.id;\n",
       "    this.ws.send(JSON.stringify(properties));\n",
       "}\n",
       "\n",
       "mpl.figure.prototype.send_draw_message = function() {\n",
       "    if (!this.waiting) {\n",
       "        this.waiting = true;\n",
       "        this.ws.send(JSON.stringify({type: \"draw\", figure_id: this.id}));\n",
       "    }\n",
       "}\n",
       "\n",
       "\n",
       "mpl.figure.prototype.handle_save = function(fig, msg) {\n",
       "    var format_dropdown = fig.format_dropdown;\n",
       "    var format = format_dropdown.options[format_dropdown.selectedIndex].value;\n",
       "    fig.ondownload(fig, format);\n",
       "}\n",
       "\n",
       "\n",
       "mpl.figure.prototype.handle_resize = function(fig, msg) {\n",
       "    var size = msg['size'];\n",
       "    if (size[0] != fig.canvas.width || size[1] != fig.canvas.height) {\n",
       "        fig._resize_canvas(size[0], size[1]);\n",
       "        fig.send_message(\"refresh\", {});\n",
       "    };\n",
       "}\n",
       "\n",
       "mpl.figure.prototype.handle_rubberband = function(fig, msg) {\n",
       "    var x0 = msg['x0'];\n",
       "    var y0 = fig.canvas.height - msg['y0'];\n",
       "    var x1 = msg['x1'];\n",
       "    var y1 = fig.canvas.height - msg['y1'];\n",
       "    x0 = Math.floor(x0) + 0.5;\n",
       "    y0 = Math.floor(y0) + 0.5;\n",
       "    x1 = Math.floor(x1) + 0.5;\n",
       "    y1 = Math.floor(y1) + 0.5;\n",
       "    var min_x = Math.min(x0, x1);\n",
       "    var min_y = Math.min(y0, y1);\n",
       "    var width = Math.abs(x1 - x0);\n",
       "    var height = Math.abs(y1 - y0);\n",
       "\n",
       "    fig.rubberband_context.clearRect(\n",
       "        0, 0, fig.canvas.width, fig.canvas.height);\n",
       "\n",
       "    fig.rubberband_context.strokeRect(min_x, min_y, width, height);\n",
       "}\n",
       "\n",
       "mpl.figure.prototype.handle_figure_label = function(fig, msg) {\n",
       "    // Updates the figure title.\n",
       "    fig.header.textContent = msg['label'];\n",
       "}\n",
       "\n",
       "mpl.figure.prototype.handle_cursor = function(fig, msg) {\n",
       "    var cursor = msg['cursor'];\n",
       "    switch(cursor)\n",
       "    {\n",
       "    case 0:\n",
       "        cursor = 'pointer';\n",
       "        break;\n",
       "    case 1:\n",
       "        cursor = 'default';\n",
       "        break;\n",
       "    case 2:\n",
       "        cursor = 'crosshair';\n",
       "        break;\n",
       "    case 3:\n",
       "        cursor = 'move';\n",
       "        break;\n",
       "    }\n",
       "    fig.rubberband_canvas.style.cursor = cursor;\n",
       "}\n",
       "\n",
       "mpl.figure.prototype.handle_message = function(fig, msg) {\n",
       "    fig.message.textContent = msg['message'];\n",
       "}\n",
       "\n",
       "mpl.figure.prototype.handle_draw = function(fig, msg) {\n",
       "    // Request the server to send over a new figure.\n",
       "    fig.send_draw_message();\n",
       "}\n",
       "\n",
       "mpl.figure.prototype.handle_image_mode = function(fig, msg) {\n",
       "    fig.image_mode = msg['mode'];\n",
       "}\n",
       "\n",
       "mpl.figure.prototype.updated_canvas_event = function() {\n",
       "    // Called whenever the canvas gets updated.\n",
       "    this.send_message(\"ack\", {});\n",
       "}\n",
       "\n",
       "// A function to construct a web socket function for onmessage handling.\n",
       "// Called in the figure constructor.\n",
       "mpl.figure.prototype._make_on_message_function = function(fig) {\n",
       "    return function socket_on_message(evt) {\n",
       "        if (evt.data instanceof Blob) {\n",
       "            /* FIXME: We get \"Resource interpreted as Image but\n",
       "             * transferred with MIME type text/plain:\" errors on\n",
       "             * Chrome.  But how to set the MIME type?  It doesn't seem\n",
       "             * to be part of the websocket stream */\n",
       "            evt.data.type = \"image/png\";\n",
       "\n",
       "            /* Free the memory for the previous frames */\n",
       "            if (fig.imageObj.src) {\n",
       "                (window.URL || window.webkitURL).revokeObjectURL(\n",
       "                    fig.imageObj.src);\n",
       "            }\n",
       "\n",
       "            fig.imageObj.src = (window.URL || window.webkitURL).createObjectURL(\n",
       "                evt.data);\n",
       "            fig.updated_canvas_event();\n",
       "            fig.waiting = false;\n",
       "            return;\n",
       "        }\n",
       "        else if (typeof evt.data === 'string' && evt.data.slice(0, 21) == \"data:image/png;base64\") {\n",
       "            fig.imageObj.src = evt.data;\n",
       "            fig.updated_canvas_event();\n",
       "            fig.waiting = false;\n",
       "            return;\n",
       "        }\n",
       "\n",
       "        var msg = JSON.parse(evt.data);\n",
       "        var msg_type = msg['type'];\n",
       "\n",
       "        // Call the  \"handle_{type}\" callback, which takes\n",
       "        // the figure and JSON message as its only arguments.\n",
       "        try {\n",
       "            var callback = fig[\"handle_\" + msg_type];\n",
       "        } catch (e) {\n",
       "            console.log(\"No handler for the '\" + msg_type + \"' message type: \", msg);\n",
       "            return;\n",
       "        }\n",
       "\n",
       "        if (callback) {\n",
       "            try {\n",
       "                // console.log(\"Handling '\" + msg_type + \"' message: \", msg);\n",
       "                callback(fig, msg);\n",
       "            } catch (e) {\n",
       "                console.log(\"Exception inside the 'handler_\" + msg_type + \"' callback:\", e, e.stack, msg);\n",
       "            }\n",
       "        }\n",
       "    };\n",
       "}\n",
       "\n",
       "// from http://stackoverflow.com/questions/1114465/getting-mouse-location-in-canvas\n",
       "mpl.findpos = function(e) {\n",
       "    //this section is from http://www.quirksmode.org/js/events_properties.html\n",
       "    var targ;\n",
       "    if (!e)\n",
       "        e = window.event;\n",
       "    if (e.target)\n",
       "        targ = e.target;\n",
       "    else if (e.srcElement)\n",
       "        targ = e.srcElement;\n",
       "    if (targ.nodeType == 3) // defeat Safari bug\n",
       "        targ = targ.parentNode;\n",
       "\n",
       "    // jQuery normalizes the pageX and pageY\n",
       "    // pageX,Y are the mouse positions relative to the document\n",
       "    // offset() returns the position of the element relative to the document\n",
       "    var x = e.pageX - $(targ).offset().left;\n",
       "    var y = e.pageY - $(targ).offset().top;\n",
       "\n",
       "    return {\"x\": x, \"y\": y};\n",
       "};\n",
       "\n",
       "/*\n",
       " * return a copy of an object with only non-object keys\n",
       " * we need this to avoid circular references\n",
       " * http://stackoverflow.com/a/24161582/3208463\n",
       " */\n",
       "function simpleKeys (original) {\n",
       "  return Object.keys(original).reduce(function (obj, key) {\n",
       "    if (typeof original[key] !== 'object')\n",
       "        obj[key] = original[key]\n",
       "    return obj;\n",
       "  }, {});\n",
       "}\n",
       "\n",
       "mpl.figure.prototype.mouse_event = function(event, name) {\n",
       "    var canvas_pos = mpl.findpos(event)\n",
       "\n",
       "    if (name === 'button_press')\n",
       "    {\n",
       "        this.canvas.focus();\n",
       "        this.canvas_div.focus();\n",
       "    }\n",
       "\n",
       "    var x = canvas_pos.x;\n",
       "    var y = canvas_pos.y;\n",
       "\n",
       "    this.send_message(name, {x: x, y: y, button: event.button,\n",
       "                             step: event.step,\n",
       "                             guiEvent: simpleKeys(event)});\n",
       "\n",
       "    /* This prevents the web browser from automatically changing to\n",
       "     * the text insertion cursor when the button is pressed.  We want\n",
       "     * to control all of the cursor setting manually through the\n",
       "     * 'cursor' event from matplotlib */\n",
       "    event.preventDefault();\n",
       "    return false;\n",
       "}\n",
       "\n",
       "mpl.figure.prototype._key_event_extra = function(event, name) {\n",
       "    // Handle any extra behaviour associated with a key event\n",
       "}\n",
       "\n",
       "mpl.figure.prototype.key_event = function(event, name) {\n",
       "\n",
       "    // Prevent repeat events\n",
       "    if (name == 'key_press')\n",
       "    {\n",
       "        if (event.which === this._key)\n",
       "            return;\n",
       "        else\n",
       "            this._key = event.which;\n",
       "    }\n",
       "    if (name == 'key_release')\n",
       "        this._key = null;\n",
       "\n",
       "    var value = '';\n",
       "    if (event.ctrlKey && event.which != 17)\n",
       "        value += \"ctrl+\";\n",
       "    if (event.altKey && event.which != 18)\n",
       "        value += \"alt+\";\n",
       "    if (event.shiftKey && event.which != 16)\n",
       "        value += \"shift+\";\n",
       "\n",
       "    value += 'k';\n",
       "    value += event.which.toString();\n",
       "\n",
       "    this._key_event_extra(event, name);\n",
       "\n",
       "    this.send_message(name, {key: value,\n",
       "                             guiEvent: simpleKeys(event)});\n",
       "    return false;\n",
       "}\n",
       "\n",
       "mpl.figure.prototype.toolbar_button_onclick = function(name) {\n",
       "    if (name == 'download') {\n",
       "        this.handle_save(this, null);\n",
       "    } else {\n",
       "        this.send_message(\"toolbar_button\", {name: name});\n",
       "    }\n",
       "};\n",
       "\n",
       "mpl.figure.prototype.toolbar_button_onmouseover = function(tooltip) {\n",
       "    this.message.textContent = tooltip;\n",
       "};\n",
       "mpl.toolbar_items = [[\"Home\", \"Reset original view\", \"fa fa-home icon-home\", \"home\"], [\"Back\", \"Back to  previous view\", \"fa fa-arrow-left icon-arrow-left\", \"back\"], [\"Forward\", \"Forward to next view\", \"fa fa-arrow-right icon-arrow-right\", \"forward\"], [\"\", \"\", \"\", \"\"], [\"Pan\", \"Pan axes with left mouse, zoom with right\", \"fa fa-arrows icon-move\", \"pan\"], [\"Zoom\", \"Zoom to rectangle\", \"fa fa-square-o icon-check-empty\", \"zoom\"], [\"\", \"\", \"\", \"\"], [\"Download\", \"Download plot\", \"fa fa-floppy-o icon-save\", \"download\"]];\n",
       "\n",
       "mpl.extensions = [\"eps\", \"jpeg\", \"pdf\", \"png\", \"ps\", \"raw\", \"svg\", \"tif\"];\n",
       "\n",
       "mpl.default_extension = \"png\";var comm_websocket_adapter = function(comm) {\n",
       "    // Create a \"websocket\"-like object which calls the given IPython comm\n",
       "    // object with the appropriate methods. Currently this is a non binary\n",
       "    // socket, so there is still some room for performance tuning.\n",
       "    var ws = {};\n",
       "\n",
       "    ws.close = function() {\n",
       "        comm.close()\n",
       "    };\n",
       "    ws.send = function(m) {\n",
       "        //console.log('sending', m);\n",
       "        comm.send(m);\n",
       "    };\n",
       "    // Register the callback with on_msg.\n",
       "    comm.on_msg(function(msg) {\n",
       "        //console.log('receiving', msg['content']['data'], msg);\n",
       "        // Pass the mpl event to the overriden (by mpl) onmessage function.\n",
       "        ws.onmessage(msg['content']['data'])\n",
       "    });\n",
       "    return ws;\n",
       "}\n",
       "\n",
       "mpl.mpl_figure_comm = function(comm, msg) {\n",
       "    // This is the function which gets called when the mpl process\n",
       "    // starts-up an IPython Comm through the \"matplotlib\" channel.\n",
       "\n",
       "    var id = msg.content.data.id;\n",
       "    // Get hold of the div created by the display call when the Comm\n",
       "    // socket was opened in Python.\n",
       "    var element = $(\"#\" + id);\n",
       "    var ws_proxy = comm_websocket_adapter(comm)\n",
       "\n",
       "    function ondownload(figure, format) {\n",
       "        window.open(figure.imageObj.src);\n",
       "    }\n",
       "\n",
       "    var fig = new mpl.figure(id, ws_proxy,\n",
       "                           ondownload,\n",
       "                           element.get(0));\n",
       "\n",
       "    // Call onopen now - mpl needs it, as it is assuming we've passed it a real\n",
       "    // web socket which is closed, not our websocket->open comm proxy.\n",
       "    ws_proxy.onopen();\n",
       "\n",
       "    fig.parent_element = element.get(0);\n",
       "    fig.cell_info = mpl.find_output_cell(\"<div id='\" + id + \"'></div>\");\n",
       "    if (!fig.cell_info) {\n",
       "        console.error(\"Failed to find cell for figure\", id, fig);\n",
       "        return;\n",
       "    }\n",
       "\n",
       "    var output_index = fig.cell_info[2]\n",
       "    var cell = fig.cell_info[0];\n",
       "\n",
       "};\n",
       "\n",
       "mpl.figure.prototype.handle_close = function(fig, msg) {\n",
       "    fig.root.unbind('remove')\n",
       "\n",
       "    // Update the output cell to use the data from the current canvas.\n",
       "    fig.push_to_output();\n",
       "    var dataURL = fig.canvas.toDataURL();\n",
       "    // Re-enable the keyboard manager in IPython - without this line, in FF,\n",
       "    // the notebook keyboard shortcuts fail.\n",
       "    IPython.keyboard_manager.enable()\n",
       "    $(fig.parent_element).html('<img src=\"' + dataURL + '\">');\n",
       "    fig.close_ws(fig, msg);\n",
       "}\n",
       "\n",
       "mpl.figure.prototype.close_ws = function(fig, msg){\n",
       "    fig.send_message('closing', msg);\n",
       "    // fig.ws.close()\n",
       "}\n",
       "\n",
       "mpl.figure.prototype.push_to_output = function(remove_interactive) {\n",
       "    // Turn the data on the canvas into data in the output cell.\n",
       "    var dataURL = this.canvas.toDataURL();\n",
       "    this.cell_info[1]['text/html'] = '<img src=\"' + dataURL + '\">';\n",
       "}\n",
       "\n",
       "mpl.figure.prototype.updated_canvas_event = function() {\n",
       "    // Tell IPython that the notebook contents must change.\n",
       "    IPython.notebook.set_dirty(true);\n",
       "    this.send_message(\"ack\", {});\n",
       "    var fig = this;\n",
       "    // Wait a second, then push the new image to the DOM so\n",
       "    // that it is saved nicely (might be nice to debounce this).\n",
       "    setTimeout(function () { fig.push_to_output() }, 1000);\n",
       "}\n",
       "\n",
       "mpl.figure.prototype._init_toolbar = function() {\n",
       "    var fig = this;\n",
       "\n",
       "    var nav_element = $('<div/>')\n",
       "    nav_element.attr('style', 'width: 100%');\n",
       "    this.root.append(nav_element);\n",
       "\n",
       "    // Define a callback function for later on.\n",
       "    function toolbar_event(event) {\n",
       "        return fig.toolbar_button_onclick(event['data']);\n",
       "    }\n",
       "    function toolbar_mouse_event(event) {\n",
       "        return fig.toolbar_button_onmouseover(event['data']);\n",
       "    }\n",
       "\n",
       "    for(var toolbar_ind in mpl.toolbar_items){\n",
       "        var name = mpl.toolbar_items[toolbar_ind][0];\n",
       "        var tooltip = mpl.toolbar_items[toolbar_ind][1];\n",
       "        var image = mpl.toolbar_items[toolbar_ind][2];\n",
       "        var method_name = mpl.toolbar_items[toolbar_ind][3];\n",
       "\n",
       "        if (!name) { continue; };\n",
       "\n",
       "        var button = $('<button class=\"btn btn-default\" href=\"#\" title=\"' + name + '\"><i class=\"fa ' + image + ' fa-lg\"></i></button>');\n",
       "        button.click(method_name, toolbar_event);\n",
       "        button.mouseover(tooltip, toolbar_mouse_event);\n",
       "        nav_element.append(button);\n",
       "    }\n",
       "\n",
       "    // Add the status bar.\n",
       "    var status_bar = $('<span class=\"mpl-message\" style=\"text-align:right; float: right;\"/>');\n",
       "    nav_element.append(status_bar);\n",
       "    this.message = status_bar[0];\n",
       "\n",
       "    // Add the close button to the window.\n",
       "    var buttongrp = $('<div class=\"btn-group inline pull-right\"></div>');\n",
       "    var button = $('<button class=\"btn btn-mini btn-primary\" href=\"#\" title=\"Stop Interaction\"><i class=\"fa fa-power-off icon-remove icon-large\"></i></button>');\n",
       "    button.click(function (evt) { fig.handle_close(fig, {}); } );\n",
       "    button.mouseover('Stop Interaction', toolbar_mouse_event);\n",
       "    buttongrp.append(button);\n",
       "    var titlebar = this.root.find($('.ui-dialog-titlebar'));\n",
       "    titlebar.prepend(buttongrp);\n",
       "}\n",
       "\n",
       "mpl.figure.prototype._root_extra_style = function(el){\n",
       "    var fig = this\n",
       "    el.on(\"remove\", function(){\n",
       "\tfig.close_ws(fig, {});\n",
       "    });\n",
       "}\n",
       "\n",
       "mpl.figure.prototype._canvas_extra_style = function(el){\n",
       "    // this is important to make the div 'focusable\n",
       "    el.attr('tabindex', 0)\n",
       "    // reach out to IPython and tell the keyboard manager to turn it's self\n",
       "    // off when our div gets focus\n",
       "\n",
       "    // location in version 3\n",
       "    if (IPython.notebook.keyboard_manager) {\n",
       "        IPython.notebook.keyboard_manager.register_events(el);\n",
       "    }\n",
       "    else {\n",
       "        // location in version 2\n",
       "        IPython.keyboard_manager.register_events(el);\n",
       "    }\n",
       "\n",
       "}\n",
       "\n",
       "mpl.figure.prototype._key_event_extra = function(event, name) {\n",
       "    var manager = IPython.notebook.keyboard_manager;\n",
       "    if (!manager)\n",
       "        manager = IPython.keyboard_manager;\n",
       "\n",
       "    // Check for shift+enter\n",
       "    if (event.shiftKey && event.which == 13) {\n",
       "        this.canvas_div.blur();\n",
       "        event.shiftKey = false;\n",
       "        // Send a \"J\" for go to next cell\n",
       "        event.which = 74;\n",
       "        event.keyCode = 74;\n",
       "        manager.command_mode();\n",
       "        manager.handle_keydown(event);\n",
       "    }\n",
       "}\n",
       "\n",
       "mpl.figure.prototype.handle_save = function(fig, msg) {\n",
       "    fig.ondownload(fig, null);\n",
       "}\n",
       "\n",
       "\n",
       "mpl.find_output_cell = function(html_output) {\n",
       "    // Return the cell and output element which can be found *uniquely* in the notebook.\n",
       "    // Note - this is a bit hacky, but it is done because the \"notebook_saving.Notebook\"\n",
       "    // IPython event is triggered only after the cells have been serialised, which for\n",
       "    // our purposes (turning an active figure into a static one), is too late.\n",
       "    var cells = IPython.notebook.get_cells();\n",
       "    var ncells = cells.length;\n",
       "    for (var i=0; i<ncells; i++) {\n",
       "        var cell = cells[i];\n",
       "        if (cell.cell_type === 'code'){\n",
       "            for (var j=0; j<cell.output_area.outputs.length; j++) {\n",
       "                var data = cell.output_area.outputs[j];\n",
       "                if (data.data) {\n",
       "                    // IPython >= 3 moved mimebundle to data attribute of output\n",
       "                    data = data.data;\n",
       "                }\n",
       "                if (data['text/html'] == html_output) {\n",
       "                    return [cell, data, j];\n",
       "                }\n",
       "            }\n",
       "        }\n",
       "    }\n",
       "}\n",
       "\n",
       "// Register the function which deals with the matplotlib target/channel.\n",
       "// The kernel may be null if the page has been refreshed.\n",
       "if (IPython.notebook.kernel != null) {\n",
       "    IPython.notebook.kernel.comm_manager.register_target('matplotlib', mpl.mpl_figure_comm);\n",
       "}\n"
      ],
      "text/plain": [
       "<IPython.core.display.Javascript object>"
      ]
     },
     "metadata": {},
     "output_type": "display_data"
    },
    {
     "data": {
      "text/html": [
       "<img src=\"data:image/png;base64,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\">"
      ],
      "text/plain": [
       "<IPython.core.display.HTML object>"
      ]
     },
     "metadata": {},
     "output_type": "display_data"
    },
    {
     "data": {
      "text/plain": [
       "[<matplotlib.lines.Line2D at 0x43b6898>]"
      ]
     },
     "execution_count": 5,
     "metadata": {},
     "output_type": "execute_result"
    }
   ],
   "source": [
    "%matplotlib notebook\n",
    "plt.plot(data.trace[7]['raw'],'b',lw=0.5)\n",
    "plt.plot(data.trace[7]['filtered'],'r',lw=1.5)"
   ]
  },
  {
   "cell_type": "code",
   "execution_count": null,
   "metadata": {
    "collapsed": false
   },
   "outputs": [],
   "source": [
    "enet.packets[4].payload[40:].view(np.uint32).size"
   ]
  },
  {
   "cell_type": "code",
   "execution_count": null,
   "metadata": {
    "collapsed": false
   },
   "outputs": [],
   "source": [
    "enet.packets[4].length"
   ]
  },
  {
   "cell_type": "code",
   "execution_count": null,
   "metadata": {
    "collapsed": false
   },
   "outputs": [],
   "source": [
    "dist=dists[1]\n",
    "c=check_distribution(dist,data)\n",
    "(c-dist.counts).nonzero()[0].size"
   ]
  },
  {
   "cell_type": "code",
   "execution_count": null,
   "metadata": {
    "collapsed": false
   },
   "outputs": [],
   "source": [
    "start=dist.start_time\n",
    "stop=dist.stop_time+np.uint64(1)\n",
    "s=data.slice((start, stop))\n",
    "f = s.trace[dist.channel]['filtered']\n",
    "fd = data.trace[dist.channel]['filtered'][start:stop]\n",
    "(f-fd).nonzero()"
   ]
  },
  {
   "cell_type": "code",
   "execution_count": null,
   "metadata": {
    "collapsed": false
   },
   "outputs": [],
   "source": [
    "np.uint64(1)+np.uint64(-1)"
   ]
  },
  {
   "cell_type": "code",
   "execution_count": null,
   "metadata": {
    "collapsed": false
   },
   "outputs": [],
   "source": [
    "event_dt=np.dtype(\n",
    "    (np.uint64, \n",
    "        [\n",
    "            ('data', np.uint32),\n",
    "            ('flags0', np.uint8),\n",
    "            ('flags1', np.uint8),\n",
    "            ('time',np.uint16)\n",
    "        ] \n",
    "    )\n",
    ")\n",
    "\n",
    "peak_dt=np.dtype(\n",
    "    (\n",
    "        [\n",
    "            ('height', np.int16),\n",
    "            ('minima', np.int16),\n",
    "            ('flags0', np.uint8),\n",
    "            ('flags1', np.uint8),\n",
    "            ('time',np.uint16)\n",
    "        ] \n",
    "    )\n",
    ")\n",
    "\n",
    "tick_dt=np.dtype(\n",
    "    ( \n",
    "        [\n",
    "            ('period', np.uint32),\n",
    "            ('flags0', np.uint8),\n",
    "            ('flags1', np.uint8),\n",
    "            ('time', np.uint16),\n",
    "            ('timestamp', np.uint64)\n",
    "        ]\n",
    "    )\n",
    ")\n",
    "\n",
    "e = sim.EventStream('teslib','measurement_subsystem_TB')\n",
    "\n",
    "events=e._stream64.view(dtype=event_dt)\n",
    "\n",
    "#type_flags = np.bitwise_and(events['flags'],0x000f)\n",
    "tick = np.bitwise_and(events['flags1'],0x02)!=0\n",
    "window_start = np.bitwise_and(events['flags1'],0x01)!=0\n",
    "\n",
    "tick_mask=np.zeros(len(tick),dtype=bool)\n",
    "i=0\n",
    "while (i < len(tick)):\n",
    "    if tick[i]!=0:\n",
    "        tick_mask[i:i+2]=True\n",
    "        i+=1\n",
    "    i+=1\n",
    "    \n",
    "peaks=e._stream64[~tick_mask].view(dtype=peak_dt)\n",
    "\n",
    "ticks=e._stream64[tick_mask].view(dtype=tick_dt)"
   ]
  },
  {
   "cell_type": "code",
   "execution_count": null,
   "metadata": {
    "collapsed": false
   },
   "outputs": [],
   "source": [
    "d=distributions[0]\n",
    "\n",
    "\n",
    "d.value.trace"
   ]
  },
  {
   "cell_type": "code",
   "execution_count": null,
   "metadata": {
    "collapsed": true
   },
   "outputs": [],
   "source": [
    "%matplotlib notebook\n",
    "stop=distributions[0].stop_time\n",
    "start=distributions[0].start_time\n",
    "plt.plot(data.trace[0]['filtered'][start:stop])"
   ]
  },
  {
   "cell_type": "code",
   "execution_count": null,
   "metadata": {
    "collapsed": false
   },
   "outputs": [],
   "source": [
    "%matplotlib notebook\n",
    "d=0\n",
    "plt.plot(distributions[d].counts)"
   ]
  },
  {
   "cell_type": "code",
   "execution_count": null,
   "metadata": {
    "collapsed": false,
    "scrolled": true
   },
   "outputs": [],
   "source": [
    "p=1\n",
    "lasts=enet['last'].nonzero()[0]+1\n",
    "packets = []\n",
    "prev=0\n",
    "for last in lasts:\n",
    "    packets.append(sim.Packet( np.copy(enet['data'][prev:last]).view(np.uint8)))\n",
    "    prev=last\n",
    "\n",
    "packets[:]"
   ]
  },
  {
   "cell_type": "code",
   "execution_count": null,
   "metadata": {
    "collapsed": false
   },
   "outputs": [],
   "source": [
    "packets[4]"
   ]
  },
  {
   "cell_type": "code",
   "execution_count": null,
   "metadata": {
    "collapsed": false
   },
   "outputs": [],
   "source": [
    "def get_distributions(packets):\n",
    "    for packet in packets:\n",
    "        if packet.payload_type == PayloadType.mca:\n",
    "            \n",
    "        \n",
    "    \n",
    "    \n",
    "    \n",
    "packets[4].payload[0:8].view(mca_header_dt)"
   ]
  },
  {
   "cell_type": "code",
   "execution_count": null,
   "metadata": {
    "collapsed": false
   },
   "outputs": [],
   "source": [
    "peaks=packets[1].payload.view(peak_dt)\n",
    "peaks"
   ]
  },
  {
   "cell_type": "code",
   "execution_count": null,
   "metadata": {
    "collapsed": false
   },
   "outputs": [],
   "source": [
    "\n",
    "time=0\n",
    "times=[]\n",
    "heights=[]\n",
    "minimas=[]\n",
    "\n",
    "for p in packets:\n",
    "    if p.payload_type==sim.EventType.tick:\n",
    "        tick=p.payload.view(tick_dt)\n",
    "        time=tick[0]['timestamp']\n",
    "    elif p.payload_type==sim.EventType.peak:\n",
    "        peaks=p.payload.view(peak_dt)\n",
    "        for peak in peaks:\n",
    "            time+=peak['time']\n",
    "            times.append(time)\n",
    "            heights.append(peak['height'])\n",
    "            minimas.append(peak['minima'])\n",
    "            "
   ]
  },
  {
   "cell_type": "code",
   "execution_count": null,
   "metadata": {
    "collapsed": false
   },
   "outputs": [],
   "source": [
    "times"
   ]
  },
  {
   "cell_type": "code",
   "execution_count": null,
   "metadata": {
    "collapsed": false
   },
   "outputs": [],
   "source": [
    "packets[1].payload.view(peak_dt)"
   ]
  },
  {
   "cell_type": "code",
   "execution_count": null,
   "metadata": {
    "collapsed": false
   },
   "outputs": [],
   "source": [
    "heights[0]"
   ]
  },
  {
   "cell_type": "code",
   "execution_count": null,
   "metadata": {
    "collapsed": false,
    "scrolled": false
   },
   "outputs": [],
   "source": [
    "%matplotlib notebook\n",
    "p=3\n",
    "x=np.arange(times[p]-300,times[p]+1000,dtype=np.uint64)\n",
    "plt.plot([times[p], times[p]],[minimas[p], heights[p]],'r',lw=2)\n",
    "plt.step(x,data.trace['filtered'][x])\n",
    "plt.plot(data.peak[p/2],data.trace['filtered'][data.peak[p/2]],'ro')\n",
    "plt.plot(\n",
    "    [data.peak_start[p/2],times[p]],\n",
    "    [data.trace['filtered'][data.peak_start[p/2]],data.trace['filtered'][data.peak_start[p/2]]],\n",
    "    'k'\n",
    ")\n",
    "plt.plot(\n",
    "    [times[p],data.peak[p/2]],\n",
    "    [data.trace['filtered'][data.peak[p/2]],data.trace['filtered'][data.peak[p/2]]],\n",
    "    'k'\n",
    ")"
   ]
  },
  {
   "cell_type": "code",
   "execution_count": null,
   "metadata": {
    "collapsed": false
   },
   "outputs": [],
   "source": [
    "%matplotlib notebook\n",
    "fig=simplt.plot_slice(data.slice((data.peak[0]-1000,data.peak[0]+1000)))\n",
    "data.trace['filtered'][data.peak[0]]"
   ]
  },
  {
   "cell_type": "code",
   "execution_count": null,
   "metadata": {
    "collapsed": false,
    "scrolled": false
   },
   "outputs": [],
   "source": [
    "data.cfd_low"
   ]
  },
  {
   "cell_type": "code",
   "execution_count": null,
   "metadata": {
    "collapsed": false
   },
   "outputs": [],
   "source": [
    "packet_bytes=packet.view(np.uint8)"
   ]
  },
  {
   "cell_type": "code",
   "execution_count": null,
   "metadata": {
    "collapsed": false
   },
   "outputs": [],
   "source": [
    "packet_bytes"
   ]
  },
  {
   "cell_type": "code",
   "execution_count": null,
   "metadata": {
    "collapsed": false
   },
   "outputs": [],
   "source": []
  },
  {
   "cell_type": "code",
   "execution_count": null,
   "metadata": {
    "collapsed": false
   },
   "outputs": [],
   "source": [
    "\n",
    "payload"
   ]
  },
  {
   "cell_type": "code",
   "execution_count": null,
   "metadata": {
    "collapsed": false,
    "scrolled": false
   },
   "outputs": [],
   "source": [
    "\n",
    "payload_type"
   ]
  },
  {
   "cell_type": "code",
   "execution_count": null,
   "metadata": {
    "collapsed": false
   },
   "outputs": [],
   "source": [
    "time=payload[6:8].view(np.uint16)\n",
    "time"
   ]
  },
  {
   "cell_type": "code",
   "execution_count": null,
   "metadata": {
    "collapsed": false
   },
   "outputs": [],
   "source": [
    "\n",
    "peaks"
   ]
  },
  {
   "cell_type": "code",
   "execution_count": null,
   "metadata": {
    "collapsed": false
   },
   "outputs": [],
   "source": [
    "payload[4+8:6+8]"
   ]
  },
  {
   "cell_type": "code",
   "execution_count": null,
   "metadata": {
    "collapsed": false
   },
   "outputs": [],
   "source": [
    "%matplotlib notebook\n",
    "fig=simplt.plot_pulse(1,data)"
   ]
  },
  {
   "cell_type": "code",
   "execution_count": null,
   "metadata": {
    "collapsed": false
   },
   "outputs": [],
   "source": [
    "fig._axstack.as_list()[0]"
   ]
  },
  {
   "cell_type": "code",
   "execution_count": null,
   "metadata": {
    "collapsed": false,
    "scrolled": true
   },
   "outputs": [],
   "source": [
    "tick"
   ]
  },
  {
   "cell_type": "code",
   "execution_count": null,
   "metadata": {
    "collapsed": false
   },
   "outputs": [],
   "source": [
    "ticks"
   ]
  },
  {
   "cell_type": "code",
   "execution_count": null,
   "metadata": {
    "collapsed": false
   },
   "outputs": [],
   "source": [
    "window_start"
   ]
  },
  {
   "cell_type": "code",
   "execution_count": null,
   "metadata": {
    "collapsed": false
   },
   "outputs": [],
   "source": [
    "tick_mask"
   ]
  },
  {
   "cell_type": "code",
   "execution_count": null,
   "metadata": {
    "collapsed": false
   },
   "outputs": [],
   "source": [
    "e._stream64[tick_mask]"
   ]
  },
  {
   "cell_type": "code",
   "execution_count": null,
   "metadata": {
    "collapsed": false
   },
   "outputs": [],
   "source": [
    "type_flags[~tick_mask]"
   ]
  },
  {
   "cell_type": "code",
   "execution_count": null,
   "metadata": {
    "collapsed": false
   },
   "outputs": [],
   "source": [
    "type_flags = np.bitwise_and(events['flags'],0x000f)\n",
    "peak_num = np.right_shift(np.bitwise_and(events['flags'],0x00f0),4)\n",
    "channel = np.right_shift(np.bitwise_and(events['flags'],0x0f00),8)\n",
    "event_type = np.right_shift(np.bitwise_and(events['flags'],0x3000),12)\n",
    "tick=np.bitwise_and(type_flags,0x0002)"
   ]
  },
  {
   "cell_type": "code",
   "execution_count": null,
   "metadata": {
    "collapsed": false
   },
   "outputs": [],
   "source": [
    "ticks"
   ]
  },
  {
   "cell_type": "code",
   "execution_count": null,
   "metadata": {
    "collapsed": false
   },
   "outputs": [],
   "source": []
  },
  {
   "cell_type": "code",
   "execution_count": null,
   "metadata": {
    "collapsed": false
   },
   "outputs": [],
   "source": [
    "tick_mask"
   ]
  },
  {
   "cell_type": "code",
   "execution_count": null,
   "metadata": {
    "collapsed": false
   },
   "outputs": [],
   "source": [
    "events[tick_mask]"
   ]
  },
  {
   "cell_type": "code",
   "execution_count": null,
   "metadata": {
    "collapsed": false
   },
   "outputs": [],
   "source": [
    "time=np.bitwise_and(events[~tick_mask]['time'],0x7fff)\n",
    "c_start=np.bitwise_and(events[~tick_mask]['time'],0x8000)!=0"
   ]
  },
  {
   "cell_type": "code",
   "execution_count": null,
   "metadata": {
    "collapsed": false
   },
   "outputs": [],
   "source": [
    "events[tick_mask]['time']"
   ]
  },
  {
   "cell_type": "code",
   "execution_count": null,
   "metadata": {
    "collapsed": false
   },
   "outputs": [],
   "source": [
    "time"
   ]
  },
  {
   "cell_type": "code",
   "execution_count": null,
   "metadata": {
    "collapsed": false
   },
   "outputs": [],
   "source": [
    "np.binary_repr(time[0],width=16)"
   ]
  },
  {
   "cell_type": "code",
   "execution_count": null,
   "metadata": {
    "collapsed": false
   },
   "outputs": [],
   "source": [
    "events[~tick_mask]['min']"
   ]
  },
  {
   "cell_type": "code",
   "execution_count": null,
   "metadata": {
    "collapsed": false
   },
   "outputs": [],
   "source": [
    "events[~tick_mask]['height']"
   ]
  },
  {
   "cell_type": "code",
   "execution_count": null,
   "metadata": {
    "collapsed": false
   },
   "outputs": [],
   "source": [
    "%matplotlib notebook\n",
    "fig = simplt.plot_pulse(1,data,pre=500,length=3000)\n"
   ]
  },
  {
   "cell_type": "code",
   "execution_count": null,
   "metadata": {
    "collapsed": true
   },
   "outputs": [],
   "source": [
    "import pickle\n",
    "\n",
    "# An arbitrary collection of objects supported by pickle.\n",
    "\n",
    "pickler = pickle.Pickler(open('long.pickle', 'wb'),pickle.HIGHEST_PROTOCOL)\n",
    "pickler.dump(data)\n"
   ]
  },
  {
   "cell_type": "code",
   "execution_count": null,
   "metadata": {
    "collapsed": true
   },
   "outputs": [],
   "source": [
    "unpickler = pickle.Unpickler(open('long.pickle', 'rb'))\n",
    "reg2=unpickler.load()\n",
    "data2=unpickler.load()"
   ]
  },
  {
   "cell_type": "code",
   "execution_count": null,
   "metadata": {
    "collapsed": false
   },
   "outputs": [],
   "source": [
    "data2.trace['slope']"
   ]
  },
  {
   "cell_type": "code",
   "execution_count": null,
   "metadata": {
    "collapsed": false
   },
   "outputs": [],
   "source": [
    "reg2"
   ]
  },
  {
   "cell_type": "code",
   "execution_count": null,
   "metadata": {
    "collapsed": false,
    "scrolled": false
   },
   "outputs": [],
   "source": [
    "axs = fig.get_axes()\n",
    "pax=axs[0].parasites\n",
    "pax[0]._label\n",
    "f_ins_ax=axs[1]\n",
    "s_ins_ax=f_ins_ax.parasites[0]"
   ]
  },
  {
   "cell_type": "code",
   "execution_count": null,
   "metadata": {
    "collapsed": false,
    "scrolled": false
   },
   "outputs": [],
   "source": [
    "es=sim.Data.fromfile('eventstream',np.int32,'teslib','measurement_unit_TB')"
   ]
  },
  {
   "cell_type": "code",
   "execution_count": null,
   "metadata": {
    "collapsed": false
   },
   "outputs": [],
   "source": [
    "es"
   ]
  },
  {
   "cell_type": "code",
   "execution_count": null,
   "metadata": {
    "collapsed": false
   },
   "outputs": [],
   "source": [
    "data.peak[-1]"
   ]
  },
  {
   "cell_type": "code",
   "execution_count": null,
   "metadata": {
    "collapsed": false
   },
   "outputs": [],
   "source": [
    "s.peak"
   ]
  },
  {
   "cell_type": "code",
   "execution_count": null,
   "metadata": {
    "collapsed": false
   },
   "outputs": [],
   "source": [
    "isinstance(r,sim.DataRegion)"
   ]
  },
  {
   "cell_type": "code",
   "execution_count": null,
   "metadata": {
    "collapsed": false
   },
   "outputs": [],
   "source": [
    "r.peak"
   ]
  },
  {
   "cell_type": "code",
   "execution_count": null,
   "metadata": {
    "collapsed": false
   },
   "outputs": [],
   "source": [
    "i"
   ]
  },
  {
   "cell_type": "code",
   "execution_count": null,
   "metadata": {
    "collapsed": false
   },
   "outputs": [],
   "source": [
    "%matplotlib notebook\n",
    "import matplotlib.pyplot as plt\n",
    "\n",
    "plt.plot(data.trace['filtered'])"
   ]
  },
  {
   "cell_type": "code",
   "execution_count": null,
   "metadata": {
    "collapsed": false
   },
   "outputs": [],
   "source": [
    "ax=plt.gca()\n",
    "t=ax.transData\n",
    "t.transform([[0.1,0.2],[1,3]])"
   ]
  },
  {
   "cell_type": "code",
   "execution_count": null,
   "metadata": {
    "collapsed": true
   },
   "outputs": [],
   "source": [
    "x=np.array([0,1,2,3])\n",
    "y=np.array([3,4,5,6])\n",
    "\n",
    "xy=np.empty(shape=(4,2))"
   ]
  },
  {
   "cell_type": "code",
   "execution_count": null,
   "metadata": {
    "collapsed": false
   },
   "outputs": [],
   "source": [
    "xy[:,0]=x\n",
    "xy[:,1]=y\n",
    "t.transform(xy)"
   ]
  },
  {
   "cell_type": "code",
   "execution_count": null,
   "metadata": {
    "collapsed": true
   },
   "outputs": [],
   "source": []
  },
  {
   "cell_type": "code",
   "execution_count": null,
   "metadata": {
    "collapsed": false
   },
   "outputs": [],
   "source": [
    "# run to import isim data files\n",
    "\n",
    "import numpy as np\n",
    "import os\n",
    "import matplotlib.pyplot as plt\n",
    "import math\n",
    "from enum import Enum\n",
    "\n",
    "plt.rcParams[\"figure.figsize\"]=[800./80,600./80]\n",
    "\n",
    "repo='c:\\\\TES_project\\\\fpga_ise\\\\'\n",
    "project='teslib'\n",
    "testbench='measurement_unit_TB'\n",
    "datafile='traces'\n",
    "path=repo+project+'\\\\PlanAhead\\\\'+project+'.sim\\\\'+testbench+'\\\\'\n",
    "\n",
    "traces_dt = np.dtype([('input', np.int32),('raw',np.int32),('filtered',np.int32),('slope',np.int32)])\n",
    "traces=np.fromfile(path+'traces',traces_dt)\n",
    "trigger=np.fromfile(path+'triggers',np.int32)\n",
    "settings=np.fromfile(path+'settings',np.int32)\n",
    "cfd_low=np.fromfile(path+'cfdlow',np.int32)\n",
    "cfd_high=np.fromfile(path+'cfdhigh',np.int32)\n",
    "peaks=np.fromfile(path+'peaks',np.int32)\n",
    "peaks.shape=(-1,2)\n",
    "peak_starts=np.fromfile(path+'peak_starts',np.int32)\n",
    "#peak_starts.shape=(-1,2)\n",
    "pulse_starts=np.fromfile(path+'peak_starts',np.int32)\n",
    "settings=np.fromfile(path+'settings',np.int32)\n",
    "cfd_low=np.fromfile(path+'cfdlow',np.int32)\n",
    "cfd_high=np.fromfile(path+'cfdhigh',np.int32)\n",
    "slope_xing=np.fromfile(path+'slopethreshxings',np.int32)\n"
   ]
  },
  {
   "cell_type": "code",
   "execution_count": null,
   "metadata": {
    "collapsed": false
   },
   "outputs": [],
   "source": [
    "settings[13]"
   ]
  },
  {
   "cell_type": "code",
   "execution_count": null,
   "metadata": {
    "collapsed": false
   },
   "outputs": [],
   "source": [
    "#create register dict from settings array\n",
    "\n",
    "class height_type(Enum):\n",
    "    def from_int(value):\n",
    "        if value == 0:\n",
    "            return height_type.peak_height\n",
    "        elif value == 1:\n",
    "            return height_type.cfd_high\n",
    "        elif value == 2:\n",
    "            return height_type.slope_integral\n",
    "        else:\n",
    "            raise AttributeError()\n",
    "    peak_height=0\n",
    "    cfd_high=1\n",
    "    slope_integral=2\n",
    "\n",
    "class trigger_type(Enum):\n",
    "    def from_int(value):\n",
    "        if value == 0:\n",
    "            return trigger_type.pulse_threshold\n",
    "        elif value == 1:\n",
    "            return trigger_type.slope_threshold\n",
    "        elif value == 2:\n",
    "            return trigger_type.cfd_low\n",
    "        else:\n",
    "            raise AttributeError()\n",
    "    pulse_threshold=0\n",
    "    slope_threshold=1\n",
    "    cfd_low=2\n",
    "\n",
    "class event_type(Enum):\n",
    "    def from_int(value):\n",
    "        if value == 0:\n",
    "            return event_type.peak\n",
    "        elif value == 1:\n",
    "            return event_type.area\n",
    "        elif value == 2:\n",
    "            return event_type.pulse\n",
    "        elif value == 3:\n",
    "            return event_type.trace\n",
    "        else:\n",
    "            raise AttributeError()\n",
    "    peak=0\n",
    "    area=1\n",
    "    pulse=2\n",
    "    trace=3\n",
    "\n",
    "\n",
    "def read_registers(settings):\n",
    "    registers = dict()\n",
    "    registers['baseline'] = dict()\n",
    "    registers['baseline']['offset'] = settings[0]\n",
    "    registers['baseline']['subtraction'] = settings[1]!=0\n",
    "    registers['baseline']['timeconstant'] = settings[2]\n",
    "    registers['baseline']['threshold'] = settings[3]\n",
    "    registers['baseline']['count_threshold'] = settings[4]\n",
    "    registers['generic'] = dict()\n",
    "    registers['baseline']['average_order'] = settings[5]\n",
    "    registers['capture'] = dict()\n",
    "    registers['capture']['cfd_relative'] = settings[6]!=0\n",
    "    registers['capture']['constant_fraction'] = settings[7]\n",
    "    registers['capture']['pulse_threshold'] = settings[8]\n",
    "    registers['capture']['slope_threshold'] = settings[9]\n",
    "    registers['capture']['pulse_area_threshold'] = settings[10]\n",
    "    registers['capture']['height_type'] = height_type.from_int(settings[11])\n",
    "    registers['capture']['threshold_rel2min'] = settings[12]!=0\n",
    "    registers['capture']['trigger_type'] = trigger_type.from_int(settings[13])\n",
    "    registers['capture']['event_type'] = event_type.from_int(settings[14])\n",
    "    return registers\n"
   ]
  },
  {
   "cell_type": "code",
   "execution_count": null,
   "metadata": {
    "collapsed": false
   },
   "outputs": [],
   "source": [
    "%matplotlib notebook\n",
    "x=np.arange(len(traces['filtered']))\n",
    "fig=plt.figure()\n",
    "\n",
    "ax=fig.add_axes([0.15,0.1,0.8,0.8])\n",
    "mV=1.0/math.pow(2,14)*1000\n",
    "nS=4\n",
    "\n",
    "\n",
    "i_trace, =ax.step(x*nS/1000000,(traces['input']+1800)*mV*2,'k',label='raw input')\n",
    "f_trace, =ax.step(x*nS/1000000,traces['filtered']*mV,'b',label='processed')\n",
    "fig.suptitle('Digital Signal Processing',fontsize=24)\n",
    "plt.xlabel('time (ms)',fontsize=18)\n",
    "plt.ylabel('Voltage (mV)',fontsize=18)\n",
    "plt.legend(handles=[i_trace,f_trace])\n",
    "\n",
    "fig.savefig('trace.png')\n",
    "plt.show()"
   ]
  },
  {
   "cell_type": "code",
   "execution_count": null,
   "metadata": {
    "collapsed": true
   },
   "outputs": [],
   "source": []
  },
  {
   "cell_type": "code",
   "execution_count": null,
   "metadata": {
    "collapsed": false
   },
   "outputs": [],
   "source": [
    "%matplotlib notebook\n",
    "import math\n",
    "\n",
    "def align_yaxis(ax1, v1, ax2, v2):\n",
    "    \"\"\"adjust ax2 ylimit so that v2 in ax2 is aligned to v1 in ax1\"\"\"\n",
    "    _, y1 = ax1.transData.transform((0, v1))\n",
    "    _, y2 = ax2.transData.transform((0, v2))\n",
    "    adjust_yaxis(ax2,(y1-y2)/2,v2)\n",
    "    adjust_yaxis(ax1,(y2-y1)/2,v1)\n",
    "\n",
    "def adjust_yaxis(ax,ydif,v):\n",
    "    \"\"\"shift axis ax by ydiff, maintaining point v at the same location\"\"\"\n",
    "    inv = ax.transData.inverted()\n",
    "    _, dy = inv.transform((0, 0)) - inv.transform((0, ydif))\n",
    "    miny, maxy = ax.get_ylim()\n",
    "    miny, maxy = miny - v, maxy - v\n",
    "    if -miny>maxy or (-miny==maxy and dy > 0):\n",
    "        nminy = miny\n",
    "        nmaxy = miny*(maxy+dy)/(miny+dy)\n",
    "    else:\n",
    "        nmaxy = maxy\n",
    "        nminy = maxy*(miny+dy)/(maxy+dy)\n",
    "    ax.set_ylim(nminy+v, nmaxy+v)\n",
    "    \n",
    "x=np.arange(len(traces['filtered']))\n",
    "fig=plt.figure()\n",
    "ax=fig.add_axes([0.1,0.1,0.8,0.8])\n",
    "plt.ylim(-10,120)\n",
    "v=math.pow(2,13)/1000\n",
    "t=x*4\n",
    "ax.plot([0,t[-1]],[0,0],'k')\n",
    "raw, = ax.step(t,traces['raw']/2/v,'k',lw=1,label='raw')\n",
    "processed, = ax.step(t,traces['filtered']/2/v,'r',lw=2,label='processed')\n",
    "ax.plot(trigger,traces['filtered'][trigger+1]/2,'kx')\n",
    "ax.plot(peaks[:,0],traces['filtered'][peaks[:,0]+1]/2,'ro')\n",
    "ax.plot(peak_starts,traces['filtered'][peak_starts+1]/2,'ro')\n",
    "ax.plot(cfd_high,traces['filtered'][cfd_high+1]/2,'bs')\n",
    "ax.plot(cfd_low,traces['filtered'][cfd_low+1]/2,'bs')\n",
    "plt.xlabel('time (ns)',fontsize=18)\n",
    "plt.ylabel('Voltage (mV)',fontsize=18,color='r')\n",
    "\n",
    "ax2=ax.twinx()\n",
    "slope, = ax2.step(t,traces['slope']/256/v/4,'b',lw=2,label='slope')\n",
    "plt.xlim([1292000,1297500])\n",
    "plt.ylim(-0.2,1)\n",
    "align_yaxis(ax,0,ax2,0)\n",
    "plt.ylabel('slope (mV/ns)',color='b',fontsize=18)\n",
    "fig.suptitle('Digital signal processing',fontsize=24)\n",
    "plt.legend(handles=[raw,processed,slope])\n",
    "fig.savefig('dsp.png')\n",
    "plt.show()"
   ]
  },
  {
   "cell_type": "code",
   "execution_count": null,
   "metadata": {
    "collapsed": false
   },
   "outputs": [],
   "source": [
    "%matplotlib notebook\n",
    "\n",
    "#plot pulse\n",
    "from mpl_toolkits.axes_grid1 import host_subplot\n",
    "from mpl_toolkits.axes_grid1.inset_locator import zoomed_inset_axes\n",
    "from mpl_toolkits.axes_grid1.inset_locator import mark_inset\n",
    "\n",
    "pulse=7\n",
    "length=2000\n",
    "pre=100\n",
    "\n",
    "def align_yaxis(ax1, v1, ax2, v2):\n",
    "    \"\"\"adjust ax2 ylimit so that v2 in ax2 is aligned to v1 in ax1\"\"\"\n",
    "    _, y1 = ax1.transData.transform((0, v1))\n",
    "    _, y2 = ax2.transData.transform((0, v2))\n",
    "    adjust_yaxis(ax2,(y1-y2)/2,v2)\n",
    "    adjust_yaxis(ax1,(y2-y1)/2,v1)\n",
    "\n",
    "def adjust_yaxis(ax,ydif,v):\n",
    "    \"\"\"shift axis ax by ydiff, maintaining point v at the same location\"\"\"\n",
    "    inv = ax.transData.inverted()\n",
    "    _, dy = inv.transform((0, 0)) - inv.transform((0, ydif))\n",
    "    miny, maxy = ax.get_ylim()\n",
    "    miny, maxy = miny - v, maxy - v\n",
    "    if -miny>maxy or (-miny==maxy and dy > 0):\n",
    "        nminy = miny\n",
    "        nmaxy = miny*(maxy+dy)/(miny+dy)\n",
    "    else:\n",
    "        nmaxy = maxy\n",
    "        nminy = maxy*(miny+dy)/(maxy+dy)\n",
    "    ax.set_ylim(nminy+v, nmaxy+v)\n",
    "    \n",
    "start=pulse_starts[pulse]-pre\n",
    "stop=start+length\n",
    "x=np.arange(0,len(traces['filtered']))\n",
    "fig=plt.figure()\n",
    "\n",
    "f_ax = host_subplot(111)\n",
    "s_ax = f_ax.twinx()\n",
    "\n",
    "f_ax.set_xlabel(\"Time (ns)\",fontsize=18)\n",
    "f_ax.set_ylabel(\"Voltage (mV)\",fontsize=18,color='r')\n",
    "s_ax.set_ylabel(\"Slope (mv/ns)\",fontsize=18,color='b')\n",
    "\n",
    "mV=1.0/math.pow(2,14)*1000\n",
    "nS=4\n",
    "t=x*nS\n",
    "\n",
    "f_sig = traces['filtered']*mV\n",
    "s_sig = traces['slope']*mV/nS\n",
    "\n",
    "f_ax.plot([t[start],t[stop]],[0,0],'k') # zero line\n",
    "f_trace, = f_ax.step(t[start:stop],f_sig[start:stop],'r',lw=2,label='processed')\n",
    "f_ax.set_ylim(-10,180)\n",
    "\n",
    "s_trace, = s_ax.step(t[start:stop],s_sig[start:stop],'b',lw=1,label='slope')\n",
    "s_ax.set_ylim(-15,50)\n",
    "#s_threshold = 6\n",
    "#s_ax.set_yticks(np.concatenate((s_ax.get_yticks(),[s_threshold])))\n",
    "#labels=[label.get_text() for label in s_ax.get_yticklabels()]\n",
    "#labels[6]='Threshold'\n",
    "\n",
    "#s_ax.set_yticklabels(labels)\n",
    "plt.xlim(t[start],t[stop])\n",
    "align_yaxis(f_ax,0,s_ax,0)\n",
    "fig.suptitle('Measurement:First pass',fontsize=24)\n",
    "#plt.legend(handles=[f_trace,s_trace])\n",
    "\n",
    "starts_mask = np.logical_and(peak_starts >= start,peak_starts <= stop)\n",
    "peaks_mask = np.logical_and(peaks[:,0] >= start, peaks[:,0] <= stop)\n",
    "peak_starts_inwin = peak_starts[starts_mask]\n",
    "\n",
    "for pstart in peak_starts_inwin:\n",
    "    peak_start_t=t[pstart]-2\n",
    "    peak_start_f=f_sig[pstart]\n",
    "    peak_start_s=s_sig[pstart]\n",
    "\n",
    "    f_ax.plot(peak_start_t,peak_start_f,'ro')\n",
    "    s_ax.plot(peak_start_t,peak_start_s,'bo')\n",
    "    \n",
    "    f_trans = f_ax.transData\n",
    "    s_trans = s_ax.transData.inverted()\n",
    "    trans = s_trans+f_trans\n",
    "    f_point=f_trans.transform((peak_start_t,peak_start_f))\n",
    "    s_point=s_trans.transform((f_point[0],f_point[1]))\n",
    "\n",
    "    s_ax.plot([peak_start_t,peak_start_t],[peak_start_s, s_point[1]],'k')\n",
    "\n",
    "#for p in peaks[0][peaks_inwin]\n",
    "peaks_inwin = peaks[peaks_mask,0]\n",
    "for p in peaks_inwin:\n",
    "    peak_t=t[p]-2\n",
    "    peak_f=f_sig[p]\n",
    "    peak_s=s_sig[p]\n",
    "\n",
    "    f_ax.plot(peak_t,peak_f,'ro')\n",
    "    s_ax.plot(peak_t,peak_s,'bo')\n",
    "    \n",
    "    f_trans = f_ax.transData\n",
    "    s_trans = s_ax.transData.inverted()\n",
    "    trans = s_trans+f_trans\n",
    "    f_point=f_trans.transform((peak_t,peak_f))\n",
    "    s_point=s_trans.transform((f_point[0],f_point[1]))\n",
    "\n",
    "    s_ax.plot([peak_t,peak_t],[peak_s, s_point[1]],'k')\n",
    "\n",
    "ins_start = peak_starts_inwin[0]-5\n",
    "ins_stop = peak_starts_inwin[0]+5\n",
    "f_ins_ax = zoomed_inset_axes(f_ax, 50, loc=1)  # zoom = 6\n",
    "f_ins_ax.step(t[ins_start:ins_stop],f_sig[ins_start:ins_stop],'r')\n",
    "f_ins_ax.set_ylim(-0.5,2)\n",
    "f_ins_ax.set_xlim(ins_start,ins_stop)\n",
    "f_ins_ax.set_yticks([])\n",
    "f_ins_ax.set_xticks([])\n",
    "\n",
    "f_ins_ax.plot([t[ins_start],t[ins_stop]],[0,0],'k') # zero line\n",
    "\n",
    "#plt.xticks(visible=False)\n",
    "#plt.yticks(visible=False)\n",
    "mark_inset(f_ax, f_ins_ax, loc1=2, loc2=4, fc=\"none\", ec=\"0.5\")\n",
    "\n",
    "s_ins_ax = f_ins_ax.twinx()\n",
    "s_ins_ax.set_yticks([])\n",
    "s_ins_ax.set_xticks([])\n",
    "\n",
    "s_ins_ax.step(t[ins_start:ins_stop],s_sig[ins_start:ins_stop],'b')\n",
    "\n",
    "s_ins_ax.set_ylim(-1,1)\n",
    "align_yaxis(f_ins_ax,0,s_ins_ax,0)\n",
    "\n",
    "pstart = peak_starts_inwin[0]\n",
    "peak_start_t=t[pstart]-2\n",
    "peak_start_f=f_sig[pstart]\n",
    "peak_start_s=s_sig[pstart]\n",
    "\n",
    "f_ins_ax.plot(peak_start_t,peak_start_f,'ro')\n",
    "s_ins_ax.plot(peak_start_t,peak_start_s,'bo')\n",
    "    \n",
    "f_trans = f_ins_ax.transData\n",
    "s_trans = s_ins_ax.transData.inverted()\n",
    "trans = s_trans+f_trans\n",
    "f_point=f_trans.transform((peak_start_t,peak_start_f))\n",
    "s_point=s_trans.transform((f_point[0],f_point[1]))\n",
    "\n",
    "s_ins_ax.plot([peak_start_t,peak_start_t],[peak_start_s, s_point[1]],'k')\n",
    "\n",
    "s_ax.plot([t[start],t[stop]],[s_threshold,s_threshold],ls='dashed')\n",
    "\n",
    "fig.savefig('measurement1.png')\n",
    "plt.draw()\n",
    "plt.show()"
   ]
  },
  {
   "cell_type": "code",
   "execution_count": null,
   "metadata": {
    "collapsed": false
   },
   "outputs": [],
   "source": [
    "%matplotlib notebook\n",
    "from mpl_toolkits.axes_grid1 import host_subplot\n",
    "from mpl_toolkits.axes_grid1.inset_locator import zoomed_inset_axes\n",
    "from mpl_toolkits.axes_grid1.inset_locator import mark_inset\n",
    "\n",
    "pulse=7\n",
    "length=2000\n",
    "pre=100\n",
    "\n",
    "def align_yaxis(ax1, v1, ax2, v2):\n",
    "    \"\"\"adjust ax2 ylimit so that v2 in ax2 is aligned to v1 in ax1\"\"\"\n",
    "    _, y1 = ax1.transData.transform((0, v1))\n",
    "    _, y2 = ax2.transData.transform((0, v2))\n",
    "    adjust_yaxis(ax2,(y1-y2)/2,v2)\n",
    "    adjust_yaxis(ax1,(y2-y1)/2,v1)\n",
    "\n",
    "def adjust_yaxis(ax,ydif,v):\n",
    "    \"\"\"shift axis ax by ydiff, maintaining point v at the same location\"\"\"\n",
    "    inv = ax.transData.inverted()\n",
    "    _, dy = inv.transform((0, 0)) - inv.transform((0, ydif))\n",
    "    miny, maxy = ax.get_ylim()\n",
    "    miny, maxy = miny - v, maxy - v\n",
    "    if -miny>maxy or (-miny==maxy and dy > 0):\n",
    "        nminy = miny\n",
    "        nmaxy = miny*(maxy+dy)/(miny+dy)\n",
    "    else:\n",
    "        nmaxy = maxy\n",
    "        nminy = maxy*(miny+dy)/(maxy+dy)\n",
    "    ax.set_ylim(nminy+v, nmaxy+v)\n",
    "    \n",
    "start=pulse_starts[pulse]-pre\n",
    "stop=start+length\n",
    "x=np.arange(0,len(traces['filtered']))\n",
    "fig=plt.figure()\n",
    "\n",
    "f_ax = host_subplot(111)\n",
    "s_ax = f_ax.twinx()\n",
    "\n",
    "f_ax.set_xlabel(\"Time (ns)\",fontsize=18)\n",
    "f_ax.set_ylabel(\"Voltage (mV)\",fontsize=18,color='r')\n",
    "s_ax.set_ylabel(\"Slope (mv/ns)\",fontsize=18,color='b')\n",
    "\n",
    "mV=1.0/math.pow(2,14)*1000\n",
    "nS=4\n",
    "t=x*nS\n",
    "\n",
    "f_sig = traces['filtered']*mV\n",
    "s_sig = traces['slope']*mV/nS\n",
    "\n",
    "f_ax.plot([t[start],t[stop]],[0,0],'k') # zero line\n",
    "f_trace, = f_ax.step(t[start:stop],f_sig[start:stop],'r',lw=2,label='processed')\n",
    "f_ax.set_ylim(-10,180)\n",
    "\n",
    "s_trace, = s_ax.step(t[start:stop],s_sig[start:stop],'b',lw=1,label='slope')\n",
    "s_ax.set_ylim(-15,50)\n",
    "#s_threshold = 6\n",
    "#s_ax.set_yticks(np.concatenate((s_ax.get_yticks(),[s_threshold])))\n",
    "#labels=[label.get_text() for label in s_ax.get_yticklabels()]\n",
    "#labels[6]='Threshold'\n",
    "\n",
    "#s_ax.set_yticklabels(labels)\n",
    "plt.xlim(t[start],t[stop])\n",
    "align_yaxis(f_ax,0,s_ax,0)\n",
    "fig.suptitle('Measurement:Second pass',fontsize=24)\n",
    "#plt.legend(handles=[f_trace,s_trace])\n",
    "\n",
    "starts_mask = np.logical_and(peak_starts >= start,peak_starts <= stop)\n",
    "peaks_mask = np.logical_and(peaks[:,0] >= start, peaks[:,0] <= stop)\n",
    "peak_starts_inwin = peak_starts[starts_mask]\n",
    "\n",
    "\n",
    "#for pstart in peak_starts_inwin:\n",
    "#    peak_start_t=t[pstart]-2\n",
    "#    peak_start_f=f_sig[pstart]\n",
    "#    peak_start_s=s_sig[pstart]\n",
    "#\n",
    "#    f_ax.plot(peak_start_t,peak_start_f,'ro')\n",
    "#    s_ax.plot(peak_start_t,peak_start_s,'bo')\n",
    "    \n",
    "#    f_trans = f_ax.transData\n",
    "#    s_trans = s_ax.transData.inverted()\n",
    "#    trans = s_trans+f_trans\n",
    "#    f_point=f_trans.transform((peak_start_t,peak_start_f))\n",
    "#    s_point=s_trans.transform((f_point[0],f_point[1]))\n",
    "\n",
    "#    s_ax.plot([peak_start_t,peak_start_t],[peak_start_s, s_point[1]],'k')\n",
    "\n",
    "#for p in peaks[0][peaks_inwin]\n",
    "peaks_inwin = peaks[peaks_mask,0]\n",
    "x_s=peak_starts_inwin\n",
    "x_p=peaks_inwin\n",
    "y_s=f_sig[x_s]\n",
    "y_p=f_sig[x_p]\n",
    "\n",
    "f_ax.plot(t[peak_starts_inwin],f_sig[peak_starts_inwin],'or')\n",
    "f_ax.plot(t[peaks_inwin],f_sig[peaks_inwin],'or')\n",
    "\n",
    "\n",
    "f_ax.plot([t[x_s[0]],t[x_p[0]]],[y_s[0],y_s[0]],'k')\n",
    "f_ax.plot([t[x_p[0]],t[x_p[0]]],[y_s[0],y_p[0]],'k')\n",
    "\n",
    "f_ax.plot([t[x_s[1]],t[x_p[1]]],[y_s[1],y_s[1]],'k')\n",
    "f_ax.plot([t[x_p[1]],t[x_p[1]]],[y_s[1],y_p[1]],'k')\n",
    "\n",
    "\n",
    "#for p in peaks_inwin:\n",
    "#    peak_t=t[p]-2\n",
    "#    peak_f=f_sig[p]\n",
    "#    peak_s=s_sig[p]\n",
    "\n",
    "#    f_ax.plot(peak_t,peak_f,'ro')\n",
    "#    s_ax.plot(peak_t,peak_s,'bo')\n",
    "    \n",
    "#    f_trans = f_ax.transData\n",
    "#    s_trans = s_ax.transata.inverted()\n",
    "#    trans = s_trans+f_trans\n",
    "#    f_point=f_trans.transform((peak_t,peak_f))\n",
    "#    s_point=s_trans.transform((f_point[0],f_point[1]))\n",
    "\n",
    "#    s_ax.plot([peak_t,peak_t],[peak_s, s_point[1]],'k')\n",
    "\n",
    "ins_start = peak_starts_inwin[1]-300\n",
    "ins_stop = peak_starts_inwin[1]+500\n",
    "f_ins_ax = zoomed_inset_axes(f_ax, 1.5, loc=1)  # zoom = 6\n",
    "f_ins_ax.step(t[ins_start:ins_stop],f_sig[ins_start:ins_stop],'r')\n",
    "f_ins_ax.set_ylim(60,180)\n",
    "f_ins_ax.set_xlim(t[ins_start],t[ins_stop])\n",
    "f_ins_ax.set_yticks([])\n",
    "f_ins_ax.set_xticks([])\n",
    "\n",
    "low_mask = np.logical_and(cfd_low >= start, cfd_low <= stop)\n",
    "low_inwin = cfd_low[low_mask]\n",
    "high_mask = np.logical_and(cfd_high >= start, cfd_high <= stop)\n",
    "high_inwin = cfd_high[high_mask]\n",
    "thresh_mask = np.logical_and(slope_xing >= start, slope_xing <= stop)\n",
    "thresh_inwin = slope_xing[thresh_mask]\n",
    "\n",
    "f_ins_ax.plot(t[peak_starts_inwin],f_sig[peak_starts_inwin],'or')\n",
    "f_ins_ax.plot(t[peaks_inwin],f_sig[peaks_inwin],'or')\n",
    "\n",
    "f_ins_ax.plot(t[low_inwin],f_sig[low_inwin],'ok')\n",
    "f_ins_ax.plot(t[high_inwin],f_sig[high_inwin],'ok')\n",
    "f_ax.plot(t[low_inwin],f_sig[low_inwin],'ok')\n",
    "f_ax.plot(t[high_inwin],f_sig[high_inwin],'ok')\n",
    "#f_ax.plot(t[thresh_inwin],f_sig[thresh_inwin],'ow')\n",
    "f_ins_ax.plot(t[thresh_inwin],f_sig[thresh_inwin],'ow')\n",
    "\n",
    "\n",
    "f_ins_ax.plot([t[x_s[0]],t[x_p[0]]],[y_s[0],y_s[0]],'k')\n",
    "f_ins_ax.plot([t[x_p[0]],t[x_p[0]]],[y_s[0],y_p[0]],'k')\n",
    "\n",
    "f_ins_ax.plot([t[x_s[1]],t[x_p[1]]],[y_s[1],y_s[1]],'k')\n",
    "f_ins_ax.plot([t[x_p[1]],t[x_p[1]]],[y_s[1],y_p[1]],'k')\n",
    "\n",
    "#f_ins_ax.plot([t[ins_start],t[ins_stop]],[0,0],'k') # zero line\n",
    "\n",
    "#plt.xticks(visible=False)\n",
    "#plt.yticks(visible=False)\n",
    "#mark_inset(f_ax, f_ins_ax, loc1=2, loc2=4, fc=\"none\", ec=\"0.5\")\n",
    "\n",
    "pstart = peak_starts_inwin[1]\n",
    "peak_start_t=t[pstart]-2\n",
    "peak_start_f=f_sig[pstart]\n",
    "peak_start_s=s_sig[pstart]\n",
    "\n",
    "f_ins_ax.plot(peak_start_t,peak_start_f,'ro')\n",
    "\n",
    "\n",
    "f_trans = f_ins_ax.transData\n",
    "s_trans = s_ins_ax.transData.inverted()\n",
    "trans = s_trans+f_trans\n",
    "f_point=f_trans.transform((peak_start_t,peak_start_f))\n",
    "s_point=s_trans.transform((f_point[0],f_point[1]))\n",
    "\n",
    "s_ins_ax.plot([peak_start_t,peak_start_t],[peak_start_s, s_point[1]],'k')\n",
    "\n",
    "s_ax.plot([t[start],t[stop]],[s_threshold,s_threshold],ls='dashed')\n",
    "\n",
    "fig.savefig('measurement2.png')\n",
    "plt.draw()\n",
    "plt.show()"
   ]
  },
  {
   "cell_type": "code",
   "execution_count": null,
   "metadata": {
    "collapsed": false
   },
   "outputs": [],
   "source": [
    "from mpl_toolkits.axes_grid1.inset_locator import inset_axes\n",
    "\n",
    "fig=plt.figure()\n",
    "fig.suptitle('Multi Channel Analyser',fontsize=24)\n",
    "\n",
    "h_ax = host_subplot(111)\n",
    "\n",
    "h_ins_ax = inset_axes(h_ax, width=\"80%\",height=1., loc=1)  # zoom = 6\n",
    "h_ins_ax.set_xlim(-25,160)\n",
    "h_ins_ax.set_ylim(0,0.002)\n",
    "h_ax.hist((traces['input']+200)*2*mV,math.pow(2,14),normed=1,facecolor='k',edgecolor='k')\n",
    "h_ax.hist(f_sig,math.pow(2,14),normed=1,facecolor='r',edgecolor='r')\n",
    "h_ins_ax.hist(f_sig,math.pow(2,14),normed=1,facecolor='r',edgecolor='r')\n",
    "h_ins_ax.set_xticks([])\n",
    "h_ins_ax.set_yticks([])\n",
    "h_ax.set_xlim(-30,100)\n",
    "h_ax.set_ylim(0,0.8)\n",
    "\n",
    "mark_inset(h_ax, h_ins_ax, loc1=2, loc2=4, fc=\"none\", ec=\"0.5\")\n",
    "\n",
    "h_ax.set_xlabel('Voltage (mV)')\n",
    "h_ax.set_ylabel('Probability')\n",
    "fig.savefig('hist.png')\n",
    "plt.show()"
   ]
  },
  {
   "cell_type": "code",
   "execution_count": null,
   "metadata": {
    "collapsed": true
   },
   "outputs": [],
   "source": [
    "peak_dt=np.dtype([('time',np.uint16),('flags',np.uint16),('minima',np.uint16),('height',np.uint16)])"
   ]
  },
  {
   "cell_type": "code",
   "execution_count": null,
   "metadata": {
    "collapsed": true
   },
   "outputs": [],
   "source": [
    "area_dt=np.dtype([('time',np.uint16),('flags',np.uint16),('area',np.uint32)])"
   ]
  },
  {
   "cell_type": "code",
   "execution_count": null,
   "metadata": {
    "collapsed": true
   },
   "outputs": [],
   "source": [
    "pulse_peak_dt=np.dtype([('trigger',np.uint16),('rise',np.uint16),('minima',np.uint16),('height',np.uint16)])\n",
    "pulse_header_dt=np.dtype([('time',np.uint16),('flags',np.uint16),('res1',np.uint16),('size',np.uint16),\n",
    "                    ('length',np.uint16),('res2',np.uint16),('area',np.int32)])"
   ]
  },
  {
   "cell_type": "code",
   "execution_count": null,
   "metadata": {
    "collapsed": false
   },
   "outputs": [],
   "source": [
    "pulse2_dt=np.dtype([('time',np.uint16),('flags',np.uint16),('res1',np.uint16),('size',np.uint16),\n",
    "                    ('length',np.uint16),('res2',np.uint16),('area',np.int32),\n",
    "                    ('trigger0',np.uint16),('rise0',np.uint16),('minima0',np.uint16),('height0',np.uint16),\n",
    "                    ('trigger1',np.uint16),('rise1',np.uint16),('minima1',np.uint16),('height1',np.uint16)])"
   ]
  },
  {
   "cell_type": "code",
   "execution_count": null,
   "metadata": {
    "collapsed": false
   },
   "outputs": [],
   "source": [
    "pulse2_subarray_dt=np.dtype([('header',pulse_header_dt,('peaks', (pulse_peak_dt,(1,2)) ))])"
   ]
  },
  {
   "cell_type": "code",
   "execution_count": null,
   "metadata": {
    "collapsed": true
   },
   "outputs": [],
   "source": [
    "eventstream=np.fromfile(path+'eventstream',peak_dt)"
   ]
  },
  {
   "cell_type": "code",
   "execution_count": null,
   "metadata": {
    "collapsed": true
   },
   "outputs": [],
   "source": [
    "eventstream=np.fromfile(path+'eventstream',area_dt)"
   ]
  },
  {
   "cell_type": "code",
   "execution_count": null,
   "metadata": {
    "collapsed": true
   },
   "outputs": [],
   "source": [
    "eventstream=np.fromfile(path+'eventstream',pulse2_dt)"
   ]
  },
  {
   "cell_type": "code",
   "execution_count": null,
   "metadata": {
    "collapsed": false
   },
   "outputs": [],
   "source": [
    "eventstream"
   ]
  },
  {
   "cell_type": "code",
   "execution_count": null,
   "metadata": {
    "collapsed": false
   },
   "outputs": [],
   "source": [
    "flags=eventstream['flags']\n",
    "print(np.binary_repr(flags[0],16))"
   ]
  },
  {
   "cell_type": "code",
   "execution_count": null,
   "metadata": {
    "collapsed": false
   },
   "outputs": [],
   "source": [
    "print(\"flags:{:016b}\\nsize:{}\\nlength:{}\\narea:{}\\ntrigger:{} rise:{} minima:{} height:{}\\ntrigger:{} rise:{} minima:{} height:{}\\n\"  \n",
    "      .format(eventstream['flags'][0],eventstream['size'][0],eventstream['length'][0],eventstream['area'][0],\n",
    "        eventstream['trigger0'][0],eventstream['rise0'][0],eventstream['minima0'][0],eventstream['height0'][0],\n",
    "        eventstream['trigger1'][0],eventstream['rise1'][0],eventstream['minima1'][0],eventstream['height1'][0]))"
   ]
  },
  {
   "cell_type": "code",
   "execution_count": null,
   "metadata": {
    "collapsed": false
   },
   "outputs": [],
   "source": [
    "print(np.binary_repr(flags[1],16))"
   ]
  },
  {
   "cell_type": "code",
   "execution_count": null,
   "metadata": {
    "collapsed": true
   },
   "outputs": [],
   "source": [
    "rel_to_min=np.right_shift(np.bitwise_and(flags,0x8000),15).astype(np.bool)\n",
    "channel=np.right_shift(np.bitwise_and(flags,0x0F00),8).astype(np.uint8)\n",
    "threshold_rel2min=np.right_shift(np.bitwise_and(flags,0x4000),14).astype(np.bool)\n",
    "peak_count=np.right_shift(np.bitwise_and(flags,0x00F0),4).astype(np.uint8)\n",
    "tick=np.bitwise_and(flags,0x0001).astype(bool)\n",
    "area=np.right_shift(np.bitwise_and(flags,0x0002),1).astype(np.bool)\n",
    "trace=np.right_shift(np.bitwise_and(flags,0x0004),2).astype(np.bool)\n",
    "fixed=np.right_shift(np.bitwise_and(flags,0x0008),3).astype(np.bool)\n",
    "event_type=np.right_shift(np.bitwise_and(flags,0x3000),12).astype(np.uint8)"
   ]
  },
  {
   "cell_type": "code",
   "execution_count": null,
   "metadata": {
    "collapsed": false
   },
   "outputs": [],
   "source": [
    "flags"
   ]
  },
  {
   "cell_type": "code",
   "execution_count": null,
   "metadata": {
    "collapsed": false
   },
   "outputs": [],
   "source": [
    "eventstream"
   ]
  },
  {
   "cell_type": "code",
   "execution_count": null,
   "metadata": {
    "collapsed": true
   },
   "outputs": [],
   "source": []
  },
  {
   "cell_type": "code",
   "execution_count": null,
   "metadata": {
    "collapsed": true
   },
   "outputs": [],
   "source": []
  }
 ],
 "metadata": {
  "kernelspec": {
   "display_name": "Python 3",
   "language": "python",
   "name": "python3"
  },
  "language_info": {
   "codemirror_mode": {
    "name": "ipython",
    "version": 3
   },
   "file_extension": ".py",
   "mimetype": "text/x-python",
   "name": "python",
   "nbconvert_exporter": "python",
   "pygments_lexer": "ipython3",
   "version": "3.5.1"
  }
 },
 "nbformat": 4,
 "nbformat_minor": 0
}
