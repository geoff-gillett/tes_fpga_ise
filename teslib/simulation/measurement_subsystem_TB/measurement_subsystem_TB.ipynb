{
 "cells": [
  {
   "cell_type": "markdown",
   "metadata": {},
   "source": [
    "timestamp 0 => clk 20\n",
    "\n",
    "traces start at clk 1"
   ]
  },
  {
   "cell_type": "code",
   "execution_count": 1,
   "metadata": {
    "collapsed": false,
    "run_control": {
     "frozen": false,
     "read_only": false
    }
   },
   "outputs": [],
   "source": [
    "from tes.data import Data,PacketStream,Packet,Payload,EventFlags,Event\n",
    "from tes.hdf5 import _PacketData, _import\n",
    "import numpy as np\n",
    "import matplotlib.pyplot as plt\n",
    "from subprocess import Popen\n",
    "\n",
    "import logging\n",
    "import sys\n",
    "logger = logging.getLogger('tes')\n",
    "logger.setLevel(logging.DEBUG)\n",
    "handler = logging.StreamHandler(sys.stderr)\n",
    "formatter = logging.Formatter('%(name)s:%(levelname)s %(message)s')\n",
    "handler.setFormatter(formatter)\n",
    "logger.handlers = [handler]\n",
    "\n",
    "trace_dt=np.dtype([('raw','i4'),('filtered','i4'),('slope','i4'),('filteredL','i4')])\n",
    "stream_dt=np.dtype([('data','i4'),('last','i4')])\n",
    "minmax_dt=np.dtype(\n",
    "    [\n",
    "        ('filtered','i4'),('timing_threshold','i4'),\n",
    "        ('height_threshold','i4'),('slope_extrema','i4'),('slope_area','i4'),('clk','i4')\n",
    "    ]\n",
    ")\n",
    "cfd_dt=np.dtype('i4')\n",
    "filteredxing_dt=np.dtype([('extrema','i4'),('area','i4'),('clk','i4')])"
   ]
  },
  {
   "cell_type": "code",
   "execution_count": 7,
   "metadata": {
    "collapsed": false,
    "run_control": {
     "frozen": false,
     "read_only": false
    },
    "scrolled": false
   },
   "outputs": [
    {
     "data": {
      "application/javascript": [
       "/* Put everything inside the global mpl namespace */\n",
       "window.mpl = {};\n",
       "\n",
       "\n",
       "mpl.get_websocket_type = function() {\n",
       "    if (typeof(WebSocket) !== 'undefined') {\n",
       "        return WebSocket;\n",
       "    } else if (typeof(MozWebSocket) !== 'undefined') {\n",
       "        return MozWebSocket;\n",
       "    } else {\n",
       "        alert('Your browser does not have WebSocket support.' +\n",
       "              'Please try Chrome, Safari or Firefox ≥ 6. ' +\n",
       "              'Firefox 4 and 5 are also supported but you ' +\n",
       "              'have to enable WebSockets in about:config.');\n",
       "    };\n",
       "}\n",
       "\n",
       "mpl.figure = function(figure_id, websocket, ondownload, parent_element) {\n",
       "    this.id = figure_id;\n",
       "\n",
       "    this.ws = websocket;\n",
       "\n",
       "    this.supports_binary = (this.ws.binaryType != undefined);\n",
       "\n",
       "    if (!this.supports_binary) {\n",
       "        var warnings = document.getElementById(\"mpl-warnings\");\n",
       "        if (warnings) {\n",
       "            warnings.style.display = 'block';\n",
       "            warnings.textContent = (\n",
       "                \"This browser does not support binary websocket messages. \" +\n",
       "                    \"Performance may be slow.\");\n",
       "        }\n",
       "    }\n",
       "\n",
       "    this.imageObj = new Image();\n",
       "\n",
       "    this.context = undefined;\n",
       "    this.message = undefined;\n",
       "    this.canvas = undefined;\n",
       "    this.rubberband_canvas = undefined;\n",
       "    this.rubberband_context = undefined;\n",
       "    this.format_dropdown = undefined;\n",
       "\n",
       "    this.image_mode = 'full';\n",
       "\n",
       "    this.root = $('<div/>');\n",
       "    this._root_extra_style(this.root)\n",
       "    this.root.attr('style', 'display: inline-block');\n",
       "\n",
       "    $(parent_element).append(this.root);\n",
       "\n",
       "    this._init_header(this);\n",
       "    this._init_canvas(this);\n",
       "    this._init_toolbar(this);\n",
       "\n",
       "    var fig = this;\n",
       "\n",
       "    this.waiting = false;\n",
       "\n",
       "    this.ws.onopen =  function () {\n",
       "            fig.send_message(\"supports_binary\", {value: fig.supports_binary});\n",
       "            fig.send_message(\"send_image_mode\", {});\n",
       "            if (mpl.ratio != 1) {\n",
       "                fig.send_message(\"set_dpi_ratio\", {'dpi_ratio': mpl.ratio});\n",
       "            }\n",
       "            fig.send_message(\"refresh\", {});\n",
       "        }\n",
       "\n",
       "    this.imageObj.onload = function() {\n",
       "            if (fig.image_mode == 'full') {\n",
       "                // Full images could contain transparency (where diff images\n",
       "                // almost always do), so we need to clear the canvas so that\n",
       "                // there is no ghosting.\n",
       "                fig.context.clearRect(0, 0, fig.canvas.width, fig.canvas.height);\n",
       "            }\n",
       "            fig.context.drawImage(fig.imageObj, 0, 0);\n",
       "        };\n",
       "\n",
       "    this.imageObj.onunload = function() {\n",
       "        this.ws.close();\n",
       "    }\n",
       "\n",
       "    this.ws.onmessage = this._make_on_message_function(this);\n",
       "\n",
       "    this.ondownload = ondownload;\n",
       "}\n",
       "\n",
       "mpl.figure.prototype._init_header = function() {\n",
       "    var titlebar = $(\n",
       "        '<div class=\"ui-dialog-titlebar ui-widget-header ui-corner-all ' +\n",
       "        'ui-helper-clearfix\"/>');\n",
       "    var titletext = $(\n",
       "        '<div class=\"ui-dialog-title\" style=\"width: 100%; ' +\n",
       "        'text-align: center; padding: 3px;\"/>');\n",
       "    titlebar.append(titletext)\n",
       "    this.root.append(titlebar);\n",
       "    this.header = titletext[0];\n",
       "}\n",
       "\n",
       "\n",
       "\n",
       "mpl.figure.prototype._canvas_extra_style = function(canvas_div) {\n",
       "\n",
       "}\n",
       "\n",
       "\n",
       "mpl.figure.prototype._root_extra_style = function(canvas_div) {\n",
       "\n",
       "}\n",
       "\n",
       "mpl.figure.prototype._init_canvas = function() {\n",
       "    var fig = this;\n",
       "\n",
       "    var canvas_div = $('<div/>');\n",
       "\n",
       "    canvas_div.attr('style', 'position: relative; clear: both; outline: 0');\n",
       "\n",
       "    function canvas_keyboard_event(event) {\n",
       "        return fig.key_event(event, event['data']);\n",
       "    }\n",
       "\n",
       "    canvas_div.keydown('key_press', canvas_keyboard_event);\n",
       "    canvas_div.keyup('key_release', canvas_keyboard_event);\n",
       "    this.canvas_div = canvas_div\n",
       "    this._canvas_extra_style(canvas_div)\n",
       "    this.root.append(canvas_div);\n",
       "\n",
       "    var canvas = $('<canvas/>');\n",
       "    canvas.addClass('mpl-canvas');\n",
       "    canvas.attr('style', \"left: 0; top: 0; z-index: 0; outline: 0\")\n",
       "\n",
       "    this.canvas = canvas[0];\n",
       "    this.context = canvas[0].getContext(\"2d\");\n",
       "\n",
       "    var backingStore = this.context.backingStorePixelRatio ||\n",
       "\tthis.context.webkitBackingStorePixelRatio ||\n",
       "\tthis.context.mozBackingStorePixelRatio ||\n",
       "\tthis.context.msBackingStorePixelRatio ||\n",
       "\tthis.context.oBackingStorePixelRatio ||\n",
       "\tthis.context.backingStorePixelRatio || 1;\n",
       "\n",
       "    mpl.ratio = (window.devicePixelRatio || 1) / backingStore;\n",
       "\n",
       "    var rubberband = $('<canvas/>');\n",
       "    rubberband.attr('style', \"position: absolute; left: 0; top: 0; z-index: 1;\")\n",
       "\n",
       "    var pass_mouse_events = true;\n",
       "\n",
       "    canvas_div.resizable({\n",
       "        start: function(event, ui) {\n",
       "            pass_mouse_events = false;\n",
       "        },\n",
       "        resize: function(event, ui) {\n",
       "            fig.request_resize(ui.size.width, ui.size.height);\n",
       "        },\n",
       "        stop: function(event, ui) {\n",
       "            pass_mouse_events = true;\n",
       "            fig.request_resize(ui.size.width, ui.size.height);\n",
       "        },\n",
       "    });\n",
       "\n",
       "    function mouse_event_fn(event) {\n",
       "        if (pass_mouse_events)\n",
       "            return fig.mouse_event(event, event['data']);\n",
       "    }\n",
       "\n",
       "    rubberband.mousedown('button_press', mouse_event_fn);\n",
       "    rubberband.mouseup('button_release', mouse_event_fn);\n",
       "    // Throttle sequential mouse events to 1 every 20ms.\n",
       "    rubberband.mousemove('motion_notify', mouse_event_fn);\n",
       "\n",
       "    rubberband.mouseenter('figure_enter', mouse_event_fn);\n",
       "    rubberband.mouseleave('figure_leave', mouse_event_fn);\n",
       "\n",
       "    canvas_div.on(\"wheel\", function (event) {\n",
       "        event = event.originalEvent;\n",
       "        event['data'] = 'scroll'\n",
       "        if (event.deltaY < 0) {\n",
       "            event.step = 1;\n",
       "        } else {\n",
       "            event.step = -1;\n",
       "        }\n",
       "        mouse_event_fn(event);\n",
       "    });\n",
       "\n",
       "    canvas_div.append(canvas);\n",
       "    canvas_div.append(rubberband);\n",
       "\n",
       "    this.rubberband = rubberband;\n",
       "    this.rubberband_canvas = rubberband[0];\n",
       "    this.rubberband_context = rubberband[0].getContext(\"2d\");\n",
       "    this.rubberband_context.strokeStyle = \"#000000\";\n",
       "\n",
       "    this._resize_canvas = function(width, height) {\n",
       "        // Keep the size of the canvas, canvas container, and rubber band\n",
       "        // canvas in synch.\n",
       "        canvas_div.css('width', width)\n",
       "        canvas_div.css('height', height)\n",
       "\n",
       "        canvas.attr('width', width * mpl.ratio);\n",
       "        canvas.attr('height', height * mpl.ratio);\n",
       "        canvas.attr('style', 'width: ' + width + 'px; height: ' + height + 'px;');\n",
       "\n",
       "        rubberband.attr('width', width);\n",
       "        rubberband.attr('height', height);\n",
       "    }\n",
       "\n",
       "    // Set the figure to an initial 600x600px, this will subsequently be updated\n",
       "    // upon first draw.\n",
       "    this._resize_canvas(600, 600);\n",
       "\n",
       "    // Disable right mouse context menu.\n",
       "    $(this.rubberband_canvas).bind(\"contextmenu\",function(e){\n",
       "        return false;\n",
       "    });\n",
       "\n",
       "    function set_focus () {\n",
       "        canvas.focus();\n",
       "        canvas_div.focus();\n",
       "    }\n",
       "\n",
       "    window.setTimeout(set_focus, 100);\n",
       "}\n",
       "\n",
       "mpl.figure.prototype._init_toolbar = function() {\n",
       "    var fig = this;\n",
       "\n",
       "    var nav_element = $('<div/>')\n",
       "    nav_element.attr('style', 'width: 100%');\n",
       "    this.root.append(nav_element);\n",
       "\n",
       "    // Define a callback function for later on.\n",
       "    function toolbar_event(event) {\n",
       "        return fig.toolbar_button_onclick(event['data']);\n",
       "    }\n",
       "    function toolbar_mouse_event(event) {\n",
       "        return fig.toolbar_button_onmouseover(event['data']);\n",
       "    }\n",
       "\n",
       "    for(var toolbar_ind in mpl.toolbar_items) {\n",
       "        var name = mpl.toolbar_items[toolbar_ind][0];\n",
       "        var tooltip = mpl.toolbar_items[toolbar_ind][1];\n",
       "        var image = mpl.toolbar_items[toolbar_ind][2];\n",
       "        var method_name = mpl.toolbar_items[toolbar_ind][3];\n",
       "\n",
       "        if (!name) {\n",
       "            // put a spacer in here.\n",
       "            continue;\n",
       "        }\n",
       "        var button = $('<button/>');\n",
       "        button.addClass('ui-button ui-widget ui-state-default ui-corner-all ' +\n",
       "                        'ui-button-icon-only');\n",
       "        button.attr('role', 'button');\n",
       "        button.attr('aria-disabled', 'false');\n",
       "        button.click(method_name, toolbar_event);\n",
       "        button.mouseover(tooltip, toolbar_mouse_event);\n",
       "\n",
       "        var icon_img = $('<span/>');\n",
       "        icon_img.addClass('ui-button-icon-primary ui-icon');\n",
       "        icon_img.addClass(image);\n",
       "        icon_img.addClass('ui-corner-all');\n",
       "\n",
       "        var tooltip_span = $('<span/>');\n",
       "        tooltip_span.addClass('ui-button-text');\n",
       "        tooltip_span.html(tooltip);\n",
       "\n",
       "        button.append(icon_img);\n",
       "        button.append(tooltip_span);\n",
       "\n",
       "        nav_element.append(button);\n",
       "    }\n",
       "\n",
       "    var fmt_picker_span = $('<span/>');\n",
       "\n",
       "    var fmt_picker = $('<select/>');\n",
       "    fmt_picker.addClass('mpl-toolbar-option ui-widget ui-widget-content');\n",
       "    fmt_picker_span.append(fmt_picker);\n",
       "    nav_element.append(fmt_picker_span);\n",
       "    this.format_dropdown = fmt_picker[0];\n",
       "\n",
       "    for (var ind in mpl.extensions) {\n",
       "        var fmt = mpl.extensions[ind];\n",
       "        var option = $(\n",
       "            '<option/>', {selected: fmt === mpl.default_extension}).html(fmt);\n",
       "        fmt_picker.append(option)\n",
       "    }\n",
       "\n",
       "    // Add hover states to the ui-buttons\n",
       "    $( \".ui-button\" ).hover(\n",
       "        function() { $(this).addClass(\"ui-state-hover\");},\n",
       "        function() { $(this).removeClass(\"ui-state-hover\");}\n",
       "    );\n",
       "\n",
       "    var status_bar = $('<span class=\"mpl-message\"/>');\n",
       "    nav_element.append(status_bar);\n",
       "    this.message = status_bar[0];\n",
       "}\n",
       "\n",
       "mpl.figure.prototype.request_resize = function(x_pixels, y_pixels) {\n",
       "    // Request matplotlib to resize the figure. Matplotlib will then trigger a resize in the client,\n",
       "    // which will in turn request a refresh of the image.\n",
       "    this.send_message('resize', {'width': x_pixels, 'height': y_pixels});\n",
       "}\n",
       "\n",
       "mpl.figure.prototype.send_message = function(type, properties) {\n",
       "    properties['type'] = type;\n",
       "    properties['figure_id'] = this.id;\n",
       "    this.ws.send(JSON.stringify(properties));\n",
       "}\n",
       "\n",
       "mpl.figure.prototype.send_draw_message = function() {\n",
       "    if (!this.waiting) {\n",
       "        this.waiting = true;\n",
       "        this.ws.send(JSON.stringify({type: \"draw\", figure_id: this.id}));\n",
       "    }\n",
       "}\n",
       "\n",
       "\n",
       "mpl.figure.prototype.handle_save = function(fig, msg) {\n",
       "    var format_dropdown = fig.format_dropdown;\n",
       "    var format = format_dropdown.options[format_dropdown.selectedIndex].value;\n",
       "    fig.ondownload(fig, format);\n",
       "}\n",
       "\n",
       "\n",
       "mpl.figure.prototype.handle_resize = function(fig, msg) {\n",
       "    var size = msg['size'];\n",
       "    if (size[0] != fig.canvas.width || size[1] != fig.canvas.height) {\n",
       "        fig._resize_canvas(size[0], size[1]);\n",
       "        fig.send_message(\"refresh\", {});\n",
       "    };\n",
       "}\n",
       "\n",
       "mpl.figure.prototype.handle_rubberband = function(fig, msg) {\n",
       "    var x0 = msg['x0'] / mpl.ratio;\n",
       "    var y0 = (fig.canvas.height - msg['y0']) / mpl.ratio;\n",
       "    var x1 = msg['x1'] / mpl.ratio;\n",
       "    var y1 = (fig.canvas.height - msg['y1']) / mpl.ratio;\n",
       "    x0 = Math.floor(x0) + 0.5;\n",
       "    y0 = Math.floor(y0) + 0.5;\n",
       "    x1 = Math.floor(x1) + 0.5;\n",
       "    y1 = Math.floor(y1) + 0.5;\n",
       "    var min_x = Math.min(x0, x1);\n",
       "    var min_y = Math.min(y0, y1);\n",
       "    var width = Math.abs(x1 - x0);\n",
       "    var height = Math.abs(y1 - y0);\n",
       "\n",
       "    fig.rubberband_context.clearRect(\n",
       "        0, 0, fig.canvas.width, fig.canvas.height);\n",
       "\n",
       "    fig.rubberband_context.strokeRect(min_x, min_y, width, height);\n",
       "}\n",
       "\n",
       "mpl.figure.prototype.handle_figure_label = function(fig, msg) {\n",
       "    // Updates the figure title.\n",
       "    fig.header.textContent = msg['label'];\n",
       "}\n",
       "\n",
       "mpl.figure.prototype.handle_cursor = function(fig, msg) {\n",
       "    var cursor = msg['cursor'];\n",
       "    switch(cursor)\n",
       "    {\n",
       "    case 0:\n",
       "        cursor = 'pointer';\n",
       "        break;\n",
       "    case 1:\n",
       "        cursor = 'default';\n",
       "        break;\n",
       "    case 2:\n",
       "        cursor = 'crosshair';\n",
       "        break;\n",
       "    case 3:\n",
       "        cursor = 'move';\n",
       "        break;\n",
       "    }\n",
       "    fig.rubberband_canvas.style.cursor = cursor;\n",
       "}\n",
       "\n",
       "mpl.figure.prototype.handle_message = function(fig, msg) {\n",
       "    fig.message.textContent = msg['message'];\n",
       "}\n",
       "\n",
       "mpl.figure.prototype.handle_draw = function(fig, msg) {\n",
       "    // Request the server to send over a new figure.\n",
       "    fig.send_draw_message();\n",
       "}\n",
       "\n",
       "mpl.figure.prototype.handle_image_mode = function(fig, msg) {\n",
       "    fig.image_mode = msg['mode'];\n",
       "}\n",
       "\n",
       "mpl.figure.prototype.updated_canvas_event = function() {\n",
       "    // Called whenever the canvas gets updated.\n",
       "    this.send_message(\"ack\", {});\n",
       "}\n",
       "\n",
       "// A function to construct a web socket function for onmessage handling.\n",
       "// Called in the figure constructor.\n",
       "mpl.figure.prototype._make_on_message_function = function(fig) {\n",
       "    return function socket_on_message(evt) {\n",
       "        if (evt.data instanceof Blob) {\n",
       "            /* FIXME: We get \"Resource interpreted as Image but\n",
       "             * transferred with MIME type text/plain:\" errors on\n",
       "             * Chrome.  But how to set the MIME type?  It doesn't seem\n",
       "             * to be part of the websocket stream */\n",
       "            evt.data.type = \"image/png\";\n",
       "\n",
       "            /* Free the memory for the previous frames */\n",
       "            if (fig.imageObj.src) {\n",
       "                (window.URL || window.webkitURL).revokeObjectURL(\n",
       "                    fig.imageObj.src);\n",
       "            }\n",
       "\n",
       "            fig.imageObj.src = (window.URL || window.webkitURL).createObjectURL(\n",
       "                evt.data);\n",
       "            fig.updated_canvas_event();\n",
       "            fig.waiting = false;\n",
       "            return;\n",
       "        }\n",
       "        else if (typeof evt.data === 'string' && evt.data.slice(0, 21) == \"data:image/png;base64\") {\n",
       "            fig.imageObj.src = evt.data;\n",
       "            fig.updated_canvas_event();\n",
       "            fig.waiting = false;\n",
       "            return;\n",
       "        }\n",
       "\n",
       "        var msg = JSON.parse(evt.data);\n",
       "        var msg_type = msg['type'];\n",
       "\n",
       "        // Call the  \"handle_{type}\" callback, which takes\n",
       "        // the figure and JSON message as its only arguments.\n",
       "        try {\n",
       "            var callback = fig[\"handle_\" + msg_type];\n",
       "        } catch (e) {\n",
       "            console.log(\"No handler for the '\" + msg_type + \"' message type: \", msg);\n",
       "            return;\n",
       "        }\n",
       "\n",
       "        if (callback) {\n",
       "            try {\n",
       "                // console.log(\"Handling '\" + msg_type + \"' message: \", msg);\n",
       "                callback(fig, msg);\n",
       "            } catch (e) {\n",
       "                console.log(\"Exception inside the 'handler_\" + msg_type + \"' callback:\", e, e.stack, msg);\n",
       "            }\n",
       "        }\n",
       "    };\n",
       "}\n",
       "\n",
       "// from http://stackoverflow.com/questions/1114465/getting-mouse-location-in-canvas\n",
       "mpl.findpos = function(e) {\n",
       "    //this section is from http://www.quirksmode.org/js/events_properties.html\n",
       "    var targ;\n",
       "    if (!e)\n",
       "        e = window.event;\n",
       "    if (e.target)\n",
       "        targ = e.target;\n",
       "    else if (e.srcElement)\n",
       "        targ = e.srcElement;\n",
       "    if (targ.nodeType == 3) // defeat Safari bug\n",
       "        targ = targ.parentNode;\n",
       "\n",
       "    // jQuery normalizes the pageX and pageY\n",
       "    // pageX,Y are the mouse positions relative to the document\n",
       "    // offset() returns the position of the element relative to the document\n",
       "    var x = e.pageX - $(targ).offset().left;\n",
       "    var y = e.pageY - $(targ).offset().top;\n",
       "\n",
       "    return {\"x\": x, \"y\": y};\n",
       "};\n",
       "\n",
       "/*\n",
       " * return a copy of an object with only non-object keys\n",
       " * we need this to avoid circular references\n",
       " * http://stackoverflow.com/a/24161582/3208463\n",
       " */\n",
       "function simpleKeys (original) {\n",
       "  return Object.keys(original).reduce(function (obj, key) {\n",
       "    if (typeof original[key] !== 'object')\n",
       "        obj[key] = original[key]\n",
       "    return obj;\n",
       "  }, {});\n",
       "}\n",
       "\n",
       "mpl.figure.prototype.mouse_event = function(event, name) {\n",
       "    var canvas_pos = mpl.findpos(event)\n",
       "\n",
       "    if (name === 'button_press')\n",
       "    {\n",
       "        this.canvas.focus();\n",
       "        this.canvas_div.focus();\n",
       "    }\n",
       "\n",
       "    var x = canvas_pos.x * mpl.ratio;\n",
       "    var y = canvas_pos.y * mpl.ratio;\n",
       "\n",
       "    this.send_message(name, {x: x, y: y, button: event.button,\n",
       "                             step: event.step,\n",
       "                             guiEvent: simpleKeys(event)});\n",
       "\n",
       "    /* This prevents the web browser from automatically changing to\n",
       "     * the text insertion cursor when the button is pressed.  We want\n",
       "     * to control all of the cursor setting manually through the\n",
       "     * 'cursor' event from matplotlib */\n",
       "    event.preventDefault();\n",
       "    return false;\n",
       "}\n",
       "\n",
       "mpl.figure.prototype._key_event_extra = function(event, name) {\n",
       "    // Handle any extra behaviour associated with a key event\n",
       "}\n",
       "\n",
       "mpl.figure.prototype.key_event = function(event, name) {\n",
       "\n",
       "    // Prevent repeat events\n",
       "    if (name == 'key_press')\n",
       "    {\n",
       "        if (event.which === this._key)\n",
       "            return;\n",
       "        else\n",
       "            this._key = event.which;\n",
       "    }\n",
       "    if (name == 'key_release')\n",
       "        this._key = null;\n",
       "\n",
       "    var value = '';\n",
       "    if (event.ctrlKey && event.which != 17)\n",
       "        value += \"ctrl+\";\n",
       "    if (event.altKey && event.which != 18)\n",
       "        value += \"alt+\";\n",
       "    if (event.shiftKey && event.which != 16)\n",
       "        value += \"shift+\";\n",
       "\n",
       "    value += 'k';\n",
       "    value += event.which.toString();\n",
       "\n",
       "    this._key_event_extra(event, name);\n",
       "\n",
       "    this.send_message(name, {key: value,\n",
       "                             guiEvent: simpleKeys(event)});\n",
       "    return false;\n",
       "}\n",
       "\n",
       "mpl.figure.prototype.toolbar_button_onclick = function(name) {\n",
       "    if (name == 'download') {\n",
       "        this.handle_save(this, null);\n",
       "    } else {\n",
       "        this.send_message(\"toolbar_button\", {name: name});\n",
       "    }\n",
       "};\n",
       "\n",
       "mpl.figure.prototype.toolbar_button_onmouseover = function(tooltip) {\n",
       "    this.message.textContent = tooltip;\n",
       "};\n",
       "mpl.toolbar_items = [[\"Home\", \"Reset original view\", \"fa fa-home icon-home\", \"home\"], [\"Back\", \"Back to  previous view\", \"fa fa-arrow-left icon-arrow-left\", \"back\"], [\"Forward\", \"Forward to next view\", \"fa fa-arrow-right icon-arrow-right\", \"forward\"], [\"\", \"\", \"\", \"\"], [\"Pan\", \"Pan axes with left mouse, zoom with right\", \"fa fa-arrows icon-move\", \"pan\"], [\"Zoom\", \"Zoom to rectangle\", \"fa fa-square-o icon-check-empty\", \"zoom\"], [\"\", \"\", \"\", \"\"], [\"Download\", \"Download plot\", \"fa fa-floppy-o icon-save\", \"download\"]];\n",
       "\n",
       "mpl.extensions = [\"eps\", \"jpeg\", \"pdf\", \"png\", \"ps\", \"raw\", \"svg\", \"tif\"];\n",
       "\n",
       "mpl.default_extension = \"png\";var comm_websocket_adapter = function(comm) {\n",
       "    // Create a \"websocket\"-like object which calls the given IPython comm\n",
       "    // object with the appropriate methods. Currently this is a non binary\n",
       "    // socket, so there is still some room for performance tuning.\n",
       "    var ws = {};\n",
       "\n",
       "    ws.close = function() {\n",
       "        comm.close()\n",
       "    };\n",
       "    ws.send = function(m) {\n",
       "        //console.log('sending', m);\n",
       "        comm.send(m);\n",
       "    };\n",
       "    // Register the callback with on_msg.\n",
       "    comm.on_msg(function(msg) {\n",
       "        //console.log('receiving', msg['content']['data'], msg);\n",
       "        // Pass the mpl event to the overriden (by mpl) onmessage function.\n",
       "        ws.onmessage(msg['content']['data'])\n",
       "    });\n",
       "    return ws;\n",
       "}\n",
       "\n",
       "mpl.mpl_figure_comm = function(comm, msg) {\n",
       "    // This is the function which gets called when the mpl process\n",
       "    // starts-up an IPython Comm through the \"matplotlib\" channel.\n",
       "\n",
       "    var id = msg.content.data.id;\n",
       "    // Get hold of the div created by the display call when the Comm\n",
       "    // socket was opened in Python.\n",
       "    var element = $(\"#\" + id);\n",
       "    var ws_proxy = comm_websocket_adapter(comm)\n",
       "\n",
       "    function ondownload(figure, format) {\n",
       "        window.open(figure.imageObj.src);\n",
       "    }\n",
       "\n",
       "    var fig = new mpl.figure(id, ws_proxy,\n",
       "                           ondownload,\n",
       "                           element.get(0));\n",
       "\n",
       "    // Call onopen now - mpl needs it, as it is assuming we've passed it a real\n",
       "    // web socket which is closed, not our websocket->open comm proxy.\n",
       "    ws_proxy.onopen();\n",
       "\n",
       "    fig.parent_element = element.get(0);\n",
       "    fig.cell_info = mpl.find_output_cell(\"<div id='\" + id + \"'></div>\");\n",
       "    if (!fig.cell_info) {\n",
       "        console.error(\"Failed to find cell for figure\", id, fig);\n",
       "        return;\n",
       "    }\n",
       "\n",
       "    var output_index = fig.cell_info[2]\n",
       "    var cell = fig.cell_info[0];\n",
       "\n",
       "};\n",
       "\n",
       "mpl.figure.prototype.handle_close = function(fig, msg) {\n",
       "    var width = fig.canvas.width/mpl.ratio\n",
       "    fig.root.unbind('remove')\n",
       "\n",
       "    // Update the output cell to use the data from the current canvas.\n",
       "    fig.push_to_output();\n",
       "    var dataURL = fig.canvas.toDataURL();\n",
       "    // Re-enable the keyboard manager in IPython - without this line, in FF,\n",
       "    // the notebook keyboard shortcuts fail.\n",
       "    IPython.keyboard_manager.enable()\n",
       "    $(fig.parent_element).html('<img src=\"' + dataURL + '\" width=\"' + width + '\">');\n",
       "    fig.close_ws(fig, msg);\n",
       "}\n",
       "\n",
       "mpl.figure.prototype.close_ws = function(fig, msg){\n",
       "    fig.send_message('closing', msg);\n",
       "    // fig.ws.close()\n",
       "}\n",
       "\n",
       "mpl.figure.prototype.push_to_output = function(remove_interactive) {\n",
       "    // Turn the data on the canvas into data in the output cell.\n",
       "    var width = this.canvas.width/mpl.ratio\n",
       "    var dataURL = this.canvas.toDataURL();\n",
       "    this.cell_info[1]['text/html'] = '<img src=\"' + dataURL + '\" width=\"' + width + '\">';\n",
       "}\n",
       "\n",
       "mpl.figure.prototype.updated_canvas_event = function() {\n",
       "    // Tell IPython that the notebook contents must change.\n",
       "    IPython.notebook.set_dirty(true);\n",
       "    this.send_message(\"ack\", {});\n",
       "    var fig = this;\n",
       "    // Wait a second, then push the new image to the DOM so\n",
       "    // that it is saved nicely (might be nice to debounce this).\n",
       "    setTimeout(function () { fig.push_to_output() }, 1000);\n",
       "}\n",
       "\n",
       "mpl.figure.prototype._init_toolbar = function() {\n",
       "    var fig = this;\n",
       "\n",
       "    var nav_element = $('<div/>')\n",
       "    nav_element.attr('style', 'width: 100%');\n",
       "    this.root.append(nav_element);\n",
       "\n",
       "    // Define a callback function for later on.\n",
       "    function toolbar_event(event) {\n",
       "        return fig.toolbar_button_onclick(event['data']);\n",
       "    }\n",
       "    function toolbar_mouse_event(event) {\n",
       "        return fig.toolbar_button_onmouseover(event['data']);\n",
       "    }\n",
       "\n",
       "    for(var toolbar_ind in mpl.toolbar_items){\n",
       "        var name = mpl.toolbar_items[toolbar_ind][0];\n",
       "        var tooltip = mpl.toolbar_items[toolbar_ind][1];\n",
       "        var image = mpl.toolbar_items[toolbar_ind][2];\n",
       "        var method_name = mpl.toolbar_items[toolbar_ind][3];\n",
       "\n",
       "        if (!name) { continue; };\n",
       "\n",
       "        var button = $('<button class=\"btn btn-default\" href=\"#\" title=\"' + name + '\"><i class=\"fa ' + image + ' fa-lg\"></i></button>');\n",
       "        button.click(method_name, toolbar_event);\n",
       "        button.mouseover(tooltip, toolbar_mouse_event);\n",
       "        nav_element.append(button);\n",
       "    }\n",
       "\n",
       "    // Add the status bar.\n",
       "    var status_bar = $('<span class=\"mpl-message\" style=\"text-align:right; float: right;\"/>');\n",
       "    nav_element.append(status_bar);\n",
       "    this.message = status_bar[0];\n",
       "\n",
       "    // Add the close button to the window.\n",
       "    var buttongrp = $('<div class=\"btn-group inline pull-right\"></div>');\n",
       "    var button = $('<button class=\"btn btn-mini btn-primary\" href=\"#\" title=\"Stop Interaction\"><i class=\"fa fa-power-off icon-remove icon-large\"></i></button>');\n",
       "    button.click(function (evt) { fig.handle_close(fig, {}); } );\n",
       "    button.mouseover('Stop Interaction', toolbar_mouse_event);\n",
       "    buttongrp.append(button);\n",
       "    var titlebar = this.root.find($('.ui-dialog-titlebar'));\n",
       "    titlebar.prepend(buttongrp);\n",
       "}\n",
       "\n",
       "mpl.figure.prototype._root_extra_style = function(el){\n",
       "    var fig = this\n",
       "    el.on(\"remove\", function(){\n",
       "\tfig.close_ws(fig, {});\n",
       "    });\n",
       "}\n",
       "\n",
       "mpl.figure.prototype._canvas_extra_style = function(el){\n",
       "    // this is important to make the div 'focusable\n",
       "    el.attr('tabindex', 0)\n",
       "    // reach out to IPython and tell the keyboard manager to turn it's self\n",
       "    // off when our div gets focus\n",
       "\n",
       "    // location in version 3\n",
       "    if (IPython.notebook.keyboard_manager) {\n",
       "        IPython.notebook.keyboard_manager.register_events(el);\n",
       "    }\n",
       "    else {\n",
       "        // location in version 2\n",
       "        IPython.keyboard_manager.register_events(el);\n",
       "    }\n",
       "\n",
       "}\n",
       "\n",
       "mpl.figure.prototype._key_event_extra = function(event, name) {\n",
       "    var manager = IPython.notebook.keyboard_manager;\n",
       "    if (!manager)\n",
       "        manager = IPython.keyboard_manager;\n",
       "\n",
       "    // Check for shift+enter\n",
       "    if (event.shiftKey && event.which == 13) {\n",
       "        this.canvas_div.blur();\n",
       "        // select the cell after this one\n",
       "        var index = IPython.notebook.find_cell_index(this.cell_info[0]);\n",
       "        IPython.notebook.select(index + 1);\n",
       "    }\n",
       "}\n",
       "\n",
       "mpl.figure.prototype.handle_save = function(fig, msg) {\n",
       "    fig.ondownload(fig, null);\n",
       "}\n",
       "\n",
       "\n",
       "mpl.find_output_cell = function(html_output) {\n",
       "    // Return the cell and output element which can be found *uniquely* in the notebook.\n",
       "    // Note - this is a bit hacky, but it is done because the \"notebook_saving.Notebook\"\n",
       "    // IPython event is triggered only after the cells have been serialised, which for\n",
       "    // our purposes (turning an active figure into a static one), is too late.\n",
       "    var cells = IPython.notebook.get_cells();\n",
       "    var ncells = cells.length;\n",
       "    for (var i=0; i<ncells; i++) {\n",
       "        var cell = cells[i];\n",
       "        if (cell.cell_type === 'code'){\n",
       "            for (var j=0; j<cell.output_area.outputs.length; j++) {\n",
       "                var data = cell.output_area.outputs[j];\n",
       "                if (data.data) {\n",
       "                    // IPython >= 3 moved mimebundle to data attribute of output\n",
       "                    data = data.data;\n",
       "                }\n",
       "                if (data['text/html'] == html_output) {\n",
       "                    return [cell, data, j];\n",
       "                }\n",
       "            }\n",
       "        }\n",
       "    }\n",
       "}\n",
       "\n",
       "// Register the function which deals with the matplotlib target/channel.\n",
       "// The kernel may be null if the page has been refreshed.\n",
       "if (IPython.notebook.kernel != null) {\n",
       "    IPython.notebook.kernel.comm_manager.register_target('matplotlib', mpl.mpl_figure_comm);\n",
       "}\n"
      ],
      "text/plain": [
       "<IPython.core.display.Javascript object>"
      ]
     },
     "metadata": {},
     "output_type": "display_data"
    },
    {
     "data": {
      "text/html": [
       "<img src=\"data:image/png;base64,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\" width=\"640\">"
      ],
      "text/plain": [
       "<IPython.core.display.HTML object>"
      ]
     },
     "metadata": {},
     "output_type": "display_data"
    },
    {
     "data": {
      "text/plain": [
       "[<matplotlib.lines.Line2D at 0x6dbf60>]"
      ]
     },
     "execution_count": 7,
     "metadata": {},
     "output_type": "execute_result"
    }
   ],
   "source": [
    "%matplotlib notebook\n",
    "traces=Data.fromfile('traces',trace_dt,'teslib','measurement_subsystem_TB',tool='vivado')\n",
    "plt.plot(traces['slope'][1100:],'r',linewidth=1)\n",
    "plt.plot(traces['raw'][1100:],linewidth=0.5)\n",
    "plt.plot(traces['filtered'][1100:],'k',linewidth=2)"
   ]
  },
  {
   "cell_type": "code",
   "execution_count": 2,
   "metadata": {
    "collapsed": false
   },
   "outputs": [
    {
     "name": "stderr",
     "output_type": "stream",
     "text": [
      "tes.hdf5:DEBUG PacketData: from ndarray\n",
      "tes.hdf5:INFO import:pass 1: calculating sizes for hdf5 pre-allocation\n",
      "tes.hdf5:INFO import:pass 1:found 0 bytes in 0 frames 0 sequence errors.\n",
      "tes.hdf5:DEBUG tick frames: 0 data bytes in 0 frames\n",
      "tes.hdf5:DEBUG event frames: 0 data bytes in 0 frames\n",
      "tes.hdf5:DEBUG MCA frames: 0 data bytes in 0 frames\n",
      "tes.hdf5:DEBUG unidentified frames: 0 bytes in 0 frames\n",
      "tes.hdf5:DEBUG MCA distributions:0  traces:0\n",
      "tes.hdf5:INFO import:pass 2:importing data\n"
     ]
    }
   ],
   "source": [
    "import h5py\n",
    "from tes.hdf5 import Trace\n",
    "stream=Data.fromfile('bytestream',stream_dt,'teslib','measurement_subsystem_TB',tool='vivado')\n",
    "packets=_PacketData(stream)\n",
    "del stream\n",
    "_import(packets)\n",
    "h=h5py.File('TES.hdf5','r')"
   ]
  },
  {
   "cell_type": "code",
   "execution_count": 9,
   "metadata": {
    "collapsed": false
   },
   "outputs": [
    {
     "name": "stderr",
     "output_type": "stream",
     "text": [
      "tes.hdf5:DEBUG PacketData: from ndarray\n",
      "tes.hdf5:INFO import:pass 1: calculating sizes for hdf5 pre-allocation\n",
      "tes.hdf5:INFO import:pass 1:found 0 bytes in 0 frames 0 sequence errors.\n",
      "tes.hdf5:DEBUG tick frames: 0 data bytes in 0 frames\n",
      "tes.hdf5:DEBUG event frames: 0 data bytes in 0 frames\n",
      "tes.hdf5:DEBUG MCA frames: 0 data bytes in 0 frames\n",
      "tes.hdf5:DEBUG unidentified frames: 0 bytes in 0 frames\n",
      "tes.hdf5:DEBUG MCA distributions:0  traces:0\n",
      "tes.hdf5:INFO import:pass 2:importing data\n"
     ]
    }
   ],
   "source": [
    "h.close()\n",
    "stream=Data.fromfile('bytestream',stream_dt,'teslib','measurement_subsystem_TB',tool='vivado')\n",
    "packets=_PacketData(stream)\n",
    "del stream\n",
    "_import(packets)\n",
    "h=h5py.File('TES.hdf5','r')"
   ]
  },
  {
   "cell_type": "code",
   "execution_count": null,
   "metadata": {
    "collapsed": false
   },
   "outputs": [],
   "source": []
  },
  {
   "cell_type": "code",
   "execution_count": null,
   "metadata": {
    "collapsed": false
   },
   "outputs": [],
   "source": [
    "len(h['traces'])"
   ]
  },
  {
   "cell_type": "code",
   "execution_count": 154,
   "metadata": {
    "collapsed": false
   },
   "outputs": [],
   "source": [
    "t=h['raw_data/event'][h['traces'][5]]"
   ]
  },
  {
   "cell_type": "code",
   "execution_count": 178,
   "metadata": {
    "collapsed": false
   },
   "outputs": [
    {
     "name": "stdout",
     "output_type": "stream",
     "text": [
      "peaks:0\n",
      "rel2min:0\n",
      "channel:0\n",
      "timing:slope_threshold\n",
      "height:cfd_high\n",
      "detection:trace \n",
      " multi_peak:False\n",
      "multi_pulse:False\n",
      "stride:0\n",
      "type:average\n",
      "signal:filtered\n",
      "offset:1\n"
     ]
    },
    {
     "data": {
      "application/javascript": [
       "/* Put everything inside the global mpl namespace */\n",
       "window.mpl = {};\n",
       "\n",
       "\n",
       "mpl.get_websocket_type = function() {\n",
       "    if (typeof(WebSocket) !== 'undefined') {\n",
       "        return WebSocket;\n",
       "    } else if (typeof(MozWebSocket) !== 'undefined') {\n",
       "        return MozWebSocket;\n",
       "    } else {\n",
       "        alert('Your browser does not have WebSocket support.' +\n",
       "              'Please try Chrome, Safari or Firefox ≥ 6. ' +\n",
       "              'Firefox 4 and 5 are also supported but you ' +\n",
       "              'have to enable WebSockets in about:config.');\n",
       "    };\n",
       "}\n",
       "\n",
       "mpl.figure = function(figure_id, websocket, ondownload, parent_element) {\n",
       "    this.id = figure_id;\n",
       "\n",
       "    this.ws = websocket;\n",
       "\n",
       "    this.supports_binary = (this.ws.binaryType != undefined);\n",
       "\n",
       "    if (!this.supports_binary) {\n",
       "        var warnings = document.getElementById(\"mpl-warnings\");\n",
       "        if (warnings) {\n",
       "            warnings.style.display = 'block';\n",
       "            warnings.textContent = (\n",
       "                \"This browser does not support binary websocket messages. \" +\n",
       "                    \"Performance may be slow.\");\n",
       "        }\n",
       "    }\n",
       "\n",
       "    this.imageObj = new Image();\n",
       "\n",
       "    this.context = undefined;\n",
       "    this.message = undefined;\n",
       "    this.canvas = undefined;\n",
       "    this.rubberband_canvas = undefined;\n",
       "    this.rubberband_context = undefined;\n",
       "    this.format_dropdown = undefined;\n",
       "\n",
       "    this.image_mode = 'full';\n",
       "\n",
       "    this.root = $('<div/>');\n",
       "    this._root_extra_style(this.root)\n",
       "    this.root.attr('style', 'display: inline-block');\n",
       "\n",
       "    $(parent_element).append(this.root);\n",
       "\n",
       "    this._init_header(this);\n",
       "    this._init_canvas(this);\n",
       "    this._init_toolbar(this);\n",
       "\n",
       "    var fig = this;\n",
       "\n",
       "    this.waiting = false;\n",
       "\n",
       "    this.ws.onopen =  function () {\n",
       "            fig.send_message(\"supports_binary\", {value: fig.supports_binary});\n",
       "            fig.send_message(\"send_image_mode\", {});\n",
       "            if (mpl.ratio != 1) {\n",
       "                fig.send_message(\"set_dpi_ratio\", {'dpi_ratio': mpl.ratio});\n",
       "            }\n",
       "            fig.send_message(\"refresh\", {});\n",
       "        }\n",
       "\n",
       "    this.imageObj.onload = function() {\n",
       "            if (fig.image_mode == 'full') {\n",
       "                // Full images could contain transparency (where diff images\n",
       "                // almost always do), so we need to clear the canvas so that\n",
       "                // there is no ghosting.\n",
       "                fig.context.clearRect(0, 0, fig.canvas.width, fig.canvas.height);\n",
       "            }\n",
       "            fig.context.drawImage(fig.imageObj, 0, 0);\n",
       "        };\n",
       "\n",
       "    this.imageObj.onunload = function() {\n",
       "        this.ws.close();\n",
       "    }\n",
       "\n",
       "    this.ws.onmessage = this._make_on_message_function(this);\n",
       "\n",
       "    this.ondownload = ondownload;\n",
       "}\n",
       "\n",
       "mpl.figure.prototype._init_header = function() {\n",
       "    var titlebar = $(\n",
       "        '<div class=\"ui-dialog-titlebar ui-widget-header ui-corner-all ' +\n",
       "        'ui-helper-clearfix\"/>');\n",
       "    var titletext = $(\n",
       "        '<div class=\"ui-dialog-title\" style=\"width: 100%; ' +\n",
       "        'text-align: center; padding: 3px;\"/>');\n",
       "    titlebar.append(titletext)\n",
       "    this.root.append(titlebar);\n",
       "    this.header = titletext[0];\n",
       "}\n",
       "\n",
       "\n",
       "\n",
       "mpl.figure.prototype._canvas_extra_style = function(canvas_div) {\n",
       "\n",
       "}\n",
       "\n",
       "\n",
       "mpl.figure.prototype._root_extra_style = function(canvas_div) {\n",
       "\n",
       "}\n",
       "\n",
       "mpl.figure.prototype._init_canvas = function() {\n",
       "    var fig = this;\n",
       "\n",
       "    var canvas_div = $('<div/>');\n",
       "\n",
       "    canvas_div.attr('style', 'position: relative; clear: both; outline: 0');\n",
       "\n",
       "    function canvas_keyboard_event(event) {\n",
       "        return fig.key_event(event, event['data']);\n",
       "    }\n",
       "\n",
       "    canvas_div.keydown('key_press', canvas_keyboard_event);\n",
       "    canvas_div.keyup('key_release', canvas_keyboard_event);\n",
       "    this.canvas_div = canvas_div\n",
       "    this._canvas_extra_style(canvas_div)\n",
       "    this.root.append(canvas_div);\n",
       "\n",
       "    var canvas = $('<canvas/>');\n",
       "    canvas.addClass('mpl-canvas');\n",
       "    canvas.attr('style', \"left: 0; top: 0; z-index: 0; outline: 0\")\n",
       "\n",
       "    this.canvas = canvas[0];\n",
       "    this.context = canvas[0].getContext(\"2d\");\n",
       "\n",
       "    var backingStore = this.context.backingStorePixelRatio ||\n",
       "\tthis.context.webkitBackingStorePixelRatio ||\n",
       "\tthis.context.mozBackingStorePixelRatio ||\n",
       "\tthis.context.msBackingStorePixelRatio ||\n",
       "\tthis.context.oBackingStorePixelRatio ||\n",
       "\tthis.context.backingStorePixelRatio || 1;\n",
       "\n",
       "    mpl.ratio = (window.devicePixelRatio || 1) / backingStore;\n",
       "\n",
       "    var rubberband = $('<canvas/>');\n",
       "    rubberband.attr('style', \"position: absolute; left: 0; top: 0; z-index: 1;\")\n",
       "\n",
       "    var pass_mouse_events = true;\n",
       "\n",
       "    canvas_div.resizable({\n",
       "        start: function(event, ui) {\n",
       "            pass_mouse_events = false;\n",
       "        },\n",
       "        resize: function(event, ui) {\n",
       "            fig.request_resize(ui.size.width, ui.size.height);\n",
       "        },\n",
       "        stop: function(event, ui) {\n",
       "            pass_mouse_events = true;\n",
       "            fig.request_resize(ui.size.width, ui.size.height);\n",
       "        },\n",
       "    });\n",
       "\n",
       "    function mouse_event_fn(event) {\n",
       "        if (pass_mouse_events)\n",
       "            return fig.mouse_event(event, event['data']);\n",
       "    }\n",
       "\n",
       "    rubberband.mousedown('button_press', mouse_event_fn);\n",
       "    rubberband.mouseup('button_release', mouse_event_fn);\n",
       "    // Throttle sequential mouse events to 1 every 20ms.\n",
       "    rubberband.mousemove('motion_notify', mouse_event_fn);\n",
       "\n",
       "    rubberband.mouseenter('figure_enter', mouse_event_fn);\n",
       "    rubberband.mouseleave('figure_leave', mouse_event_fn);\n",
       "\n",
       "    canvas_div.on(\"wheel\", function (event) {\n",
       "        event = event.originalEvent;\n",
       "        event['data'] = 'scroll'\n",
       "        if (event.deltaY < 0) {\n",
       "            event.step = 1;\n",
       "        } else {\n",
       "            event.step = -1;\n",
       "        }\n",
       "        mouse_event_fn(event);\n",
       "    });\n",
       "\n",
       "    canvas_div.append(canvas);\n",
       "    canvas_div.append(rubberband);\n",
       "\n",
       "    this.rubberband = rubberband;\n",
       "    this.rubberband_canvas = rubberband[0];\n",
       "    this.rubberband_context = rubberband[0].getContext(\"2d\");\n",
       "    this.rubberband_context.strokeStyle = \"#000000\";\n",
       "\n",
       "    this._resize_canvas = function(width, height) {\n",
       "        // Keep the size of the canvas, canvas container, and rubber band\n",
       "        // canvas in synch.\n",
       "        canvas_div.css('width', width)\n",
       "        canvas_div.css('height', height)\n",
       "\n",
       "        canvas.attr('width', width * mpl.ratio);\n",
       "        canvas.attr('height', height * mpl.ratio);\n",
       "        canvas.attr('style', 'width: ' + width + 'px; height: ' + height + 'px;');\n",
       "\n",
       "        rubberband.attr('width', width);\n",
       "        rubberband.attr('height', height);\n",
       "    }\n",
       "\n",
       "    // Set the figure to an initial 600x600px, this will subsequently be updated\n",
       "    // upon first draw.\n",
       "    this._resize_canvas(600, 600);\n",
       "\n",
       "    // Disable right mouse context menu.\n",
       "    $(this.rubberband_canvas).bind(\"contextmenu\",function(e){\n",
       "        return false;\n",
       "    });\n",
       "\n",
       "    function set_focus () {\n",
       "        canvas.focus();\n",
       "        canvas_div.focus();\n",
       "    }\n",
       "\n",
       "    window.setTimeout(set_focus, 100);\n",
       "}\n",
       "\n",
       "mpl.figure.prototype._init_toolbar = function() {\n",
       "    var fig = this;\n",
       "\n",
       "    var nav_element = $('<div/>')\n",
       "    nav_element.attr('style', 'width: 100%');\n",
       "    this.root.append(nav_element);\n",
       "\n",
       "    // Define a callback function for later on.\n",
       "    function toolbar_event(event) {\n",
       "        return fig.toolbar_button_onclick(event['data']);\n",
       "    }\n",
       "    function toolbar_mouse_event(event) {\n",
       "        return fig.toolbar_button_onmouseover(event['data']);\n",
       "    }\n",
       "\n",
       "    for(var toolbar_ind in mpl.toolbar_items) {\n",
       "        var name = mpl.toolbar_items[toolbar_ind][0];\n",
       "        var tooltip = mpl.toolbar_items[toolbar_ind][1];\n",
       "        var image = mpl.toolbar_items[toolbar_ind][2];\n",
       "        var method_name = mpl.toolbar_items[toolbar_ind][3];\n",
       "\n",
       "        if (!name) {\n",
       "            // put a spacer in here.\n",
       "            continue;\n",
       "        }\n",
       "        var button = $('<button/>');\n",
       "        button.addClass('ui-button ui-widget ui-state-default ui-corner-all ' +\n",
       "                        'ui-button-icon-only');\n",
       "        button.attr('role', 'button');\n",
       "        button.attr('aria-disabled', 'false');\n",
       "        button.click(method_name, toolbar_event);\n",
       "        button.mouseover(tooltip, toolbar_mouse_event);\n",
       "\n",
       "        var icon_img = $('<span/>');\n",
       "        icon_img.addClass('ui-button-icon-primary ui-icon');\n",
       "        icon_img.addClass(image);\n",
       "        icon_img.addClass('ui-corner-all');\n",
       "\n",
       "        var tooltip_span = $('<span/>');\n",
       "        tooltip_span.addClass('ui-button-text');\n",
       "        tooltip_span.html(tooltip);\n",
       "\n",
       "        button.append(icon_img);\n",
       "        button.append(tooltip_span);\n",
       "\n",
       "        nav_element.append(button);\n",
       "    }\n",
       "\n",
       "    var fmt_picker_span = $('<span/>');\n",
       "\n",
       "    var fmt_picker = $('<select/>');\n",
       "    fmt_picker.addClass('mpl-toolbar-option ui-widget ui-widget-content');\n",
       "    fmt_picker_span.append(fmt_picker);\n",
       "    nav_element.append(fmt_picker_span);\n",
       "    this.format_dropdown = fmt_picker[0];\n",
       "\n",
       "    for (var ind in mpl.extensions) {\n",
       "        var fmt = mpl.extensions[ind];\n",
       "        var option = $(\n",
       "            '<option/>', {selected: fmt === mpl.default_extension}).html(fmt);\n",
       "        fmt_picker.append(option)\n",
       "    }\n",
       "\n",
       "    // Add hover states to the ui-buttons\n",
       "    $( \".ui-button\" ).hover(\n",
       "        function() { $(this).addClass(\"ui-state-hover\");},\n",
       "        function() { $(this).removeClass(\"ui-state-hover\");}\n",
       "    );\n",
       "\n",
       "    var status_bar = $('<span class=\"mpl-message\"/>');\n",
       "    nav_element.append(status_bar);\n",
       "    this.message = status_bar[0];\n",
       "}\n",
       "\n",
       "mpl.figure.prototype.request_resize = function(x_pixels, y_pixels) {\n",
       "    // Request matplotlib to resize the figure. Matplotlib will then trigger a resize in the client,\n",
       "    // which will in turn request a refresh of the image.\n",
       "    this.send_message('resize', {'width': x_pixels, 'height': y_pixels});\n",
       "}\n",
       "\n",
       "mpl.figure.prototype.send_message = function(type, properties) {\n",
       "    properties['type'] = type;\n",
       "    properties['figure_id'] = this.id;\n",
       "    this.ws.send(JSON.stringify(properties));\n",
       "}\n",
       "\n",
       "mpl.figure.prototype.send_draw_message = function() {\n",
       "    if (!this.waiting) {\n",
       "        this.waiting = true;\n",
       "        this.ws.send(JSON.stringify({type: \"draw\", figure_id: this.id}));\n",
       "    }\n",
       "}\n",
       "\n",
       "\n",
       "mpl.figure.prototype.handle_save = function(fig, msg) {\n",
       "    var format_dropdown = fig.format_dropdown;\n",
       "    var format = format_dropdown.options[format_dropdown.selectedIndex].value;\n",
       "    fig.ondownload(fig, format);\n",
       "}\n",
       "\n",
       "\n",
       "mpl.figure.prototype.handle_resize = function(fig, msg) {\n",
       "    var size = msg['size'];\n",
       "    if (size[0] != fig.canvas.width || size[1] != fig.canvas.height) {\n",
       "        fig._resize_canvas(size[0], size[1]);\n",
       "        fig.send_message(\"refresh\", {});\n",
       "    };\n",
       "}\n",
       "\n",
       "mpl.figure.prototype.handle_rubberband = function(fig, msg) {\n",
       "    var x0 = msg['x0'] / mpl.ratio;\n",
       "    var y0 = (fig.canvas.height - msg['y0']) / mpl.ratio;\n",
       "    var x1 = msg['x1'] / mpl.ratio;\n",
       "    var y1 = (fig.canvas.height - msg['y1']) / mpl.ratio;\n",
       "    x0 = Math.floor(x0) + 0.5;\n",
       "    y0 = Math.floor(y0) + 0.5;\n",
       "    x1 = Math.floor(x1) + 0.5;\n",
       "    y1 = Math.floor(y1) + 0.5;\n",
       "    var min_x = Math.min(x0, x1);\n",
       "    var min_y = Math.min(y0, y1);\n",
       "    var width = Math.abs(x1 - x0);\n",
       "    var height = Math.abs(y1 - y0);\n",
       "\n",
       "    fig.rubberband_context.clearRect(\n",
       "        0, 0, fig.canvas.width, fig.canvas.height);\n",
       "\n",
       "    fig.rubberband_context.strokeRect(min_x, min_y, width, height);\n",
       "}\n",
       "\n",
       "mpl.figure.prototype.handle_figure_label = function(fig, msg) {\n",
       "    // Updates the figure title.\n",
       "    fig.header.textContent = msg['label'];\n",
       "}\n",
       "\n",
       "mpl.figure.prototype.handle_cursor = function(fig, msg) {\n",
       "    var cursor = msg['cursor'];\n",
       "    switch(cursor)\n",
       "    {\n",
       "    case 0:\n",
       "        cursor = 'pointer';\n",
       "        break;\n",
       "    case 1:\n",
       "        cursor = 'default';\n",
       "        break;\n",
       "    case 2:\n",
       "        cursor = 'crosshair';\n",
       "        break;\n",
       "    case 3:\n",
       "        cursor = 'move';\n",
       "        break;\n",
       "    }\n",
       "    fig.rubberband_canvas.style.cursor = cursor;\n",
       "}\n",
       "\n",
       "mpl.figure.prototype.handle_message = function(fig, msg) {\n",
       "    fig.message.textContent = msg['message'];\n",
       "}\n",
       "\n",
       "mpl.figure.prototype.handle_draw = function(fig, msg) {\n",
       "    // Request the server to send over a new figure.\n",
       "    fig.send_draw_message();\n",
       "}\n",
       "\n",
       "mpl.figure.prototype.handle_image_mode = function(fig, msg) {\n",
       "    fig.image_mode = msg['mode'];\n",
       "}\n",
       "\n",
       "mpl.figure.prototype.updated_canvas_event = function() {\n",
       "    // Called whenever the canvas gets updated.\n",
       "    this.send_message(\"ack\", {});\n",
       "}\n",
       "\n",
       "// A function to construct a web socket function for onmessage handling.\n",
       "// Called in the figure constructor.\n",
       "mpl.figure.prototype._make_on_message_function = function(fig) {\n",
       "    return function socket_on_message(evt) {\n",
       "        if (evt.data instanceof Blob) {\n",
       "            /* FIXME: We get \"Resource interpreted as Image but\n",
       "             * transferred with MIME type text/plain:\" errors on\n",
       "             * Chrome.  But how to set the MIME type?  It doesn't seem\n",
       "             * to be part of the websocket stream */\n",
       "            evt.data.type = \"image/png\";\n",
       "\n",
       "            /* Free the memory for the previous frames */\n",
       "            if (fig.imageObj.src) {\n",
       "                (window.URL || window.webkitURL).revokeObjectURL(\n",
       "                    fig.imageObj.src);\n",
       "            }\n",
       "\n",
       "            fig.imageObj.src = (window.URL || window.webkitURL).createObjectURL(\n",
       "                evt.data);\n",
       "            fig.updated_canvas_event();\n",
       "            fig.waiting = false;\n",
       "            return;\n",
       "        }\n",
       "        else if (typeof evt.data === 'string' && evt.data.slice(0, 21) == \"data:image/png;base64\") {\n",
       "            fig.imageObj.src = evt.data;\n",
       "            fig.updated_canvas_event();\n",
       "            fig.waiting = false;\n",
       "            return;\n",
       "        }\n",
       "\n",
       "        var msg = JSON.parse(evt.data);\n",
       "        var msg_type = msg['type'];\n",
       "\n",
       "        // Call the  \"handle_{type}\" callback, which takes\n",
       "        // the figure and JSON message as its only arguments.\n",
       "        try {\n",
       "            var callback = fig[\"handle_\" + msg_type];\n",
       "        } catch (e) {\n",
       "            console.log(\"No handler for the '\" + msg_type + \"' message type: \", msg);\n",
       "            return;\n",
       "        }\n",
       "\n",
       "        if (callback) {\n",
       "            try {\n",
       "                // console.log(\"Handling '\" + msg_type + \"' message: \", msg);\n",
       "                callback(fig, msg);\n",
       "            } catch (e) {\n",
       "                console.log(\"Exception inside the 'handler_\" + msg_type + \"' callback:\", e, e.stack, msg);\n",
       "            }\n",
       "        }\n",
       "    };\n",
       "}\n",
       "\n",
       "// from http://stackoverflow.com/questions/1114465/getting-mouse-location-in-canvas\n",
       "mpl.findpos = function(e) {\n",
       "    //this section is from http://www.quirksmode.org/js/events_properties.html\n",
       "    var targ;\n",
       "    if (!e)\n",
       "        e = window.event;\n",
       "    if (e.target)\n",
       "        targ = e.target;\n",
       "    else if (e.srcElement)\n",
       "        targ = e.srcElement;\n",
       "    if (targ.nodeType == 3) // defeat Safari bug\n",
       "        targ = targ.parentNode;\n",
       "\n",
       "    // jQuery normalizes the pageX and pageY\n",
       "    // pageX,Y are the mouse positions relative to the document\n",
       "    // offset() returns the position of the element relative to the document\n",
       "    var x = e.pageX - $(targ).offset().left;\n",
       "    var y = e.pageY - $(targ).offset().top;\n",
       "\n",
       "    return {\"x\": x, \"y\": y};\n",
       "};\n",
       "\n",
       "/*\n",
       " * return a copy of an object with only non-object keys\n",
       " * we need this to avoid circular references\n",
       " * http://stackoverflow.com/a/24161582/3208463\n",
       " */\n",
       "function simpleKeys (original) {\n",
       "  return Object.keys(original).reduce(function (obj, key) {\n",
       "    if (typeof original[key] !== 'object')\n",
       "        obj[key] = original[key]\n",
       "    return obj;\n",
       "  }, {});\n",
       "}\n",
       "\n",
       "mpl.figure.prototype.mouse_event = function(event, name) {\n",
       "    var canvas_pos = mpl.findpos(event)\n",
       "\n",
       "    if (name === 'button_press')\n",
       "    {\n",
       "        this.canvas.focus();\n",
       "        this.canvas_div.focus();\n",
       "    }\n",
       "\n",
       "    var x = canvas_pos.x * mpl.ratio;\n",
       "    var y = canvas_pos.y * mpl.ratio;\n",
       "\n",
       "    this.send_message(name, {x: x, y: y, button: event.button,\n",
       "                             step: event.step,\n",
       "                             guiEvent: simpleKeys(event)});\n",
       "\n",
       "    /* This prevents the web browser from automatically changing to\n",
       "     * the text insertion cursor when the button is pressed.  We want\n",
       "     * to control all of the cursor setting manually through the\n",
       "     * 'cursor' event from matplotlib */\n",
       "    event.preventDefault();\n",
       "    return false;\n",
       "}\n",
       "\n",
       "mpl.figure.prototype._key_event_extra = function(event, name) {\n",
       "    // Handle any extra behaviour associated with a key event\n",
       "}\n",
       "\n",
       "mpl.figure.prototype.key_event = function(event, name) {\n",
       "\n",
       "    // Prevent repeat events\n",
       "    if (name == 'key_press')\n",
       "    {\n",
       "        if (event.which === this._key)\n",
       "            return;\n",
       "        else\n",
       "            this._key = event.which;\n",
       "    }\n",
       "    if (name == 'key_release')\n",
       "        this._key = null;\n",
       "\n",
       "    var value = '';\n",
       "    if (event.ctrlKey && event.which != 17)\n",
       "        value += \"ctrl+\";\n",
       "    if (event.altKey && event.which != 18)\n",
       "        value += \"alt+\";\n",
       "    if (event.shiftKey && event.which != 16)\n",
       "        value += \"shift+\";\n",
       "\n",
       "    value += 'k';\n",
       "    value += event.which.toString();\n",
       "\n",
       "    this._key_event_extra(event, name);\n",
       "\n",
       "    this.send_message(name, {key: value,\n",
       "                             guiEvent: simpleKeys(event)});\n",
       "    return false;\n",
       "}\n",
       "\n",
       "mpl.figure.prototype.toolbar_button_onclick = function(name) {\n",
       "    if (name == 'download') {\n",
       "        this.handle_save(this, null);\n",
       "    } else {\n",
       "        this.send_message(\"toolbar_button\", {name: name});\n",
       "    }\n",
       "};\n",
       "\n",
       "mpl.figure.prototype.toolbar_button_onmouseover = function(tooltip) {\n",
       "    this.message.textContent = tooltip;\n",
       "};\n",
       "mpl.toolbar_items = [[\"Home\", \"Reset original view\", \"fa fa-home icon-home\", \"home\"], [\"Back\", \"Back to  previous view\", \"fa fa-arrow-left icon-arrow-left\", \"back\"], [\"Forward\", \"Forward to next view\", \"fa fa-arrow-right icon-arrow-right\", \"forward\"], [\"\", \"\", \"\", \"\"], [\"Pan\", \"Pan axes with left mouse, zoom with right\", \"fa fa-arrows icon-move\", \"pan\"], [\"Zoom\", \"Zoom to rectangle\", \"fa fa-square-o icon-check-empty\", \"zoom\"], [\"\", \"\", \"\", \"\"], [\"Download\", \"Download plot\", \"fa fa-floppy-o icon-save\", \"download\"]];\n",
       "\n",
       "mpl.extensions = [\"eps\", \"jpeg\", \"pdf\", \"png\", \"ps\", \"raw\", \"svg\", \"tif\"];\n",
       "\n",
       "mpl.default_extension = \"png\";var comm_websocket_adapter = function(comm) {\n",
       "    // Create a \"websocket\"-like object which calls the given IPython comm\n",
       "    // object with the appropriate methods. Currently this is a non binary\n",
       "    // socket, so there is still some room for performance tuning.\n",
       "    var ws = {};\n",
       "\n",
       "    ws.close = function() {\n",
       "        comm.close()\n",
       "    };\n",
       "    ws.send = function(m) {\n",
       "        //console.log('sending', m);\n",
       "        comm.send(m);\n",
       "    };\n",
       "    // Register the callback with on_msg.\n",
       "    comm.on_msg(function(msg) {\n",
       "        //console.log('receiving', msg['content']['data'], msg);\n",
       "        // Pass the mpl event to the overriden (by mpl) onmessage function.\n",
       "        ws.onmessage(msg['content']['data'])\n",
       "    });\n",
       "    return ws;\n",
       "}\n",
       "\n",
       "mpl.mpl_figure_comm = function(comm, msg) {\n",
       "    // This is the function which gets called when the mpl process\n",
       "    // starts-up an IPython Comm through the \"matplotlib\" channel.\n",
       "\n",
       "    var id = msg.content.data.id;\n",
       "    // Get hold of the div created by the display call when the Comm\n",
       "    // socket was opened in Python.\n",
       "    var element = $(\"#\" + id);\n",
       "    var ws_proxy = comm_websocket_adapter(comm)\n",
       "\n",
       "    function ondownload(figure, format) {\n",
       "        window.open(figure.imageObj.src);\n",
       "    }\n",
       "\n",
       "    var fig = new mpl.figure(id, ws_proxy,\n",
       "                           ondownload,\n",
       "                           element.get(0));\n",
       "\n",
       "    // Call onopen now - mpl needs it, as it is assuming we've passed it a real\n",
       "    // web socket which is closed, not our websocket->open comm proxy.\n",
       "    ws_proxy.onopen();\n",
       "\n",
       "    fig.parent_element = element.get(0);\n",
       "    fig.cell_info = mpl.find_output_cell(\"<div id='\" + id + \"'></div>\");\n",
       "    if (!fig.cell_info) {\n",
       "        console.error(\"Failed to find cell for figure\", id, fig);\n",
       "        return;\n",
       "    }\n",
       "\n",
       "    var output_index = fig.cell_info[2]\n",
       "    var cell = fig.cell_info[0];\n",
       "\n",
       "};\n",
       "\n",
       "mpl.figure.prototype.handle_close = function(fig, msg) {\n",
       "    var width = fig.canvas.width/mpl.ratio\n",
       "    fig.root.unbind('remove')\n",
       "\n",
       "    // Update the output cell to use the data from the current canvas.\n",
       "    fig.push_to_output();\n",
       "    var dataURL = fig.canvas.toDataURL();\n",
       "    // Re-enable the keyboard manager in IPython - without this line, in FF,\n",
       "    // the notebook keyboard shortcuts fail.\n",
       "    IPython.keyboard_manager.enable()\n",
       "    $(fig.parent_element).html('<img src=\"' + dataURL + '\" width=\"' + width + '\">');\n",
       "    fig.close_ws(fig, msg);\n",
       "}\n",
       "\n",
       "mpl.figure.prototype.close_ws = function(fig, msg){\n",
       "    fig.send_message('closing', msg);\n",
       "    // fig.ws.close()\n",
       "}\n",
       "\n",
       "mpl.figure.prototype.push_to_output = function(remove_interactive) {\n",
       "    // Turn the data on the canvas into data in the output cell.\n",
       "    var width = this.canvas.width/mpl.ratio\n",
       "    var dataURL = this.canvas.toDataURL();\n",
       "    this.cell_info[1]['text/html'] = '<img src=\"' + dataURL + '\" width=\"' + width + '\">';\n",
       "}\n",
       "\n",
       "mpl.figure.prototype.updated_canvas_event = function() {\n",
       "    // Tell IPython that the notebook contents must change.\n",
       "    IPython.notebook.set_dirty(true);\n",
       "    this.send_message(\"ack\", {});\n",
       "    var fig = this;\n",
       "    // Wait a second, then push the new image to the DOM so\n",
       "    // that it is saved nicely (might be nice to debounce this).\n",
       "    setTimeout(function () { fig.push_to_output() }, 1000);\n",
       "}\n",
       "\n",
       "mpl.figure.prototype._init_toolbar = function() {\n",
       "    var fig = this;\n",
       "\n",
       "    var nav_element = $('<div/>')\n",
       "    nav_element.attr('style', 'width: 100%');\n",
       "    this.root.append(nav_element);\n",
       "\n",
       "    // Define a callback function for later on.\n",
       "    function toolbar_event(event) {\n",
       "        return fig.toolbar_button_onclick(event['data']);\n",
       "    }\n",
       "    function toolbar_mouse_event(event) {\n",
       "        return fig.toolbar_button_onmouseover(event['data']);\n",
       "    }\n",
       "\n",
       "    for(var toolbar_ind in mpl.toolbar_items){\n",
       "        var name = mpl.toolbar_items[toolbar_ind][0];\n",
       "        var tooltip = mpl.toolbar_items[toolbar_ind][1];\n",
       "        var image = mpl.toolbar_items[toolbar_ind][2];\n",
       "        var method_name = mpl.toolbar_items[toolbar_ind][3];\n",
       "\n",
       "        if (!name) { continue; };\n",
       "\n",
       "        var button = $('<button class=\"btn btn-default\" href=\"#\" title=\"' + name + '\"><i class=\"fa ' + image + ' fa-lg\"></i></button>');\n",
       "        button.click(method_name, toolbar_event);\n",
       "        button.mouseover(tooltip, toolbar_mouse_event);\n",
       "        nav_element.append(button);\n",
       "    }\n",
       "\n",
       "    // Add the status bar.\n",
       "    var status_bar = $('<span class=\"mpl-message\" style=\"text-align:right; float: right;\"/>');\n",
       "    nav_element.append(status_bar);\n",
       "    this.message = status_bar[0];\n",
       "\n",
       "    // Add the close button to the window.\n",
       "    var buttongrp = $('<div class=\"btn-group inline pull-right\"></div>');\n",
       "    var button = $('<button class=\"btn btn-mini btn-primary\" href=\"#\" title=\"Stop Interaction\"><i class=\"fa fa-power-off icon-remove icon-large\"></i></button>');\n",
       "    button.click(function (evt) { fig.handle_close(fig, {}); } );\n",
       "    button.mouseover('Stop Interaction', toolbar_mouse_event);\n",
       "    buttongrp.append(button);\n",
       "    var titlebar = this.root.find($('.ui-dialog-titlebar'));\n",
       "    titlebar.prepend(buttongrp);\n",
       "}\n",
       "\n",
       "mpl.figure.prototype._root_extra_style = function(el){\n",
       "    var fig = this\n",
       "    el.on(\"remove\", function(){\n",
       "\tfig.close_ws(fig, {});\n",
       "    });\n",
       "}\n",
       "\n",
       "mpl.figure.prototype._canvas_extra_style = function(el){\n",
       "    // this is important to make the div 'focusable\n",
       "    el.attr('tabindex', 0)\n",
       "    // reach out to IPython and tell the keyboard manager to turn it's self\n",
       "    // off when our div gets focus\n",
       "\n",
       "    // location in version 3\n",
       "    if (IPython.notebook.keyboard_manager) {\n",
       "        IPython.notebook.keyboard_manager.register_events(el);\n",
       "    }\n",
       "    else {\n",
       "        // location in version 2\n",
       "        IPython.keyboard_manager.register_events(el);\n",
       "    }\n",
       "\n",
       "}\n",
       "\n",
       "mpl.figure.prototype._key_event_extra = function(event, name) {\n",
       "    var manager = IPython.notebook.keyboard_manager;\n",
       "    if (!manager)\n",
       "        manager = IPython.keyboard_manager;\n",
       "\n",
       "    // Check for shift+enter\n",
       "    if (event.shiftKey && event.which == 13) {\n",
       "        this.canvas_div.blur();\n",
       "        // select the cell after this one\n",
       "        var index = IPython.notebook.find_cell_index(this.cell_info[0]);\n",
       "        IPython.notebook.select(index + 1);\n",
       "    }\n",
       "}\n",
       "\n",
       "mpl.figure.prototype.handle_save = function(fig, msg) {\n",
       "    fig.ondownload(fig, null);\n",
       "}\n",
       "\n",
       "\n",
       "mpl.find_output_cell = function(html_output) {\n",
       "    // Return the cell and output element which can be found *uniquely* in the notebook.\n",
       "    // Note - this is a bit hacky, but it is done because the \"notebook_saving.Notebook\"\n",
       "    // IPython event is triggered only after the cells have been serialised, which for\n",
       "    // our purposes (turning an active figure into a static one), is too late.\n",
       "    var cells = IPython.notebook.get_cells();\n",
       "    var ncells = cells.length;\n",
       "    for (var i=0; i<ncells; i++) {\n",
       "        var cell = cells[i];\n",
       "        if (cell.cell_type === 'code'){\n",
       "            for (var j=0; j<cell.output_area.outputs.length; j++) {\n",
       "                var data = cell.output_area.outputs[j];\n",
       "                if (data.data) {\n",
       "                    // IPython >= 3 moved mimebundle to data attribute of output\n",
       "                    data = data.data;\n",
       "                }\n",
       "                if (data['text/html'] == html_output) {\n",
       "                    return [cell, data, j];\n",
       "                }\n",
       "            }\n",
       "        }\n",
       "    }\n",
       "}\n",
       "\n",
       "// Register the function which deals with the matplotlib target/channel.\n",
       "// The kernel may be null if the page has been refreshed.\n",
       "if (IPython.notebook.kernel != null) {\n",
       "    IPython.notebook.kernel.comm_manager.register_target('matplotlib', mpl.mpl_figure_comm);\n",
       "}\n"
      ],
      "text/plain": [
       "<IPython.core.display.Javascript object>"
      ]
     },
     "metadata": {},
     "output_type": "display_data"
    },
    {
     "data": {
      "text/html": [
       "<img src=\"data:image/png;base64,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\" width=\"640\">"
      ],
      "text/plain": [
       "<IPython.core.display.HTML object>"
      ]
     },
     "metadata": {},
     "output_type": "display_data"
    },
    {
     "data": {
      "text/plain": [
       "[<matplotlib.lines.Line2D at 0x46cf9320>]"
      ]
     },
     "execution_count": 178,
     "metadata": {},
     "output_type": "execute_result"
    }
   ],
   "source": [
    "%matplotlib notebook\n",
    "t=h['raw_data/event'][h['traces'][5]]\n",
    "tr=Trace(t)\n",
    "print(tr.flags,'\\n',tr.trace_flags)\n",
    "plt.plot(tr.samples)"
   ]
  },
  {
   "cell_type": "code",
   "execution_count": null,
   "metadata": {
    "collapsed": false
   },
   "outputs": [],
   "source": [
    "tr"
   ]
  },
  {
   "cell_type": "code",
   "execution_count": null,
   "metadata": {
    "collapsed": false
   },
   "outputs": [],
   "source": [
    "s=str(tr.flags)\n",
    "s"
   ]
  },
  {
   "cell_type": "code",
   "execution_count": null,
   "metadata": {
    "collapsed": false
   },
   "outputs": [],
   "source": [
    "print(s)"
   ]
  },
  {
   "cell_type": "code",
   "execution_count": null,
   "metadata": {
    "collapsed": false
   },
   "outputs": [],
   "source": [
    "type(h['raw_data/event'][h['traces'][0]])"
   ]
  },
  {
   "cell_type": "code",
   "execution_count": null,
   "metadata": {
    "collapsed": true
   },
   "outputs": [],
   "source": [
    "from tes.hdf5 import Trace"
   ]
  },
  {
   "cell_type": "code",
   "execution_count": null,
   "metadata": {
    "collapsed": false
   },
   "outputs": [],
   "source": [
    "tr.flags"
   ]
  },
  {
   "cell_type": "code",
   "execution_count": null,
   "metadata": {
    "collapsed": false
   },
   "outputs": [],
   "source": [
    "tr.trace_flags"
   ]
  },
  {
   "cell_type": "code",
   "execution_count": null,
   "metadata": {
    "collapsed": false
   },
   "outputs": [],
   "source": [
    "%matplotlib notebook\n",
    "plt.plot(tr.samples)"
   ]
  },
  {
   "cell_type": "code",
   "execution_count": null,
   "metadata": {
    "collapsed": false
   },
   "outputs": [],
   "source": [
    "len(tr.samples)"
   ]
  },
  {
   "cell_type": "code",
   "execution_count": null,
   "metadata": {
    "collapsed": false
   },
   "outputs": [],
   "source": [
    "first_dt = np.dtype([('size', np.uint16), ('tflags0', np.uint8), ('tflags1', np.uint8),\n",
    "        ('flags0', np.uint8), ('flags1', np.uint8), ('time', np.uint16)])\n",
    "\n"
   ]
  },
  {
   "cell_type": "code",
   "execution_count": null,
   "metadata": {
    "collapsed": false
   },
   "outputs": [],
   "source": []
  },
  {
   "cell_type": "code",
   "execution_count": null,
   "metadata": {
    "collapsed": false
   },
   "outputs": [],
   "source": [
    "t[0:8].view(first_dt)"
   ]
  },
  {
   "cell_type": "code",
   "execution_count": null,
   "metadata": {
    "collapsed": true
   },
   "outputs": [],
   "source": []
  },
  {
   "cell_type": "code",
   "execution_count": null,
   "metadata": {
    "collapsed": false
   },
   "outputs": [],
   "source": [
    "_rref = h5py.special_dtype(ref=h5py.RegionReference)\n",
    "h=h5py.File('test.hdf5', 'w')"
   ]
  },
  {
   "cell_type": "code",
   "execution_count": null,
   "metadata": {
    "collapsed": false
   },
   "outputs": [],
   "source": [
    "h.close()"
   ]
  },
  {
   "cell_type": "code",
   "execution_count": null,
   "metadata": {
    "collapsed": false
   },
   "outputs": [],
   "source": [
    "t= np.array((10,),'u1')\n",
    "h.create_dataset('t',(10,),dtype='u1')"
   ]
  },
  {
   "cell_type": "code",
   "execution_count": null,
   "metadata": {
    "collapsed": false
   },
   "outputs": [],
   "source": [
    "h.create_dataset('r',(10,),dtype=_rref)"
   ]
  },
  {
   "cell_type": "code",
   "execution_count": null,
   "metadata": {
    "collapsed": false
   },
   "outputs": [],
   "source": [
    "h.create_dataset('s',(10,),dtype='u1')"
   ]
  },
  {
   "cell_type": "code",
   "execution_count": null,
   "metadata": {
    "collapsed": true
   },
   "outputs": [],
   "source": [
    "h['s'][0]=0\n",
    "h['s'][1]=1"
   ]
  },
  {
   "cell_type": "code",
   "execution_count": null,
   "metadata": {
    "collapsed": false
   },
   "outputs": [],
   "source": [
    "h['r'][0]=h['t'].regionref[0:2]"
   ]
  },
  {
   "cell_type": "code",
   "execution_count": null,
   "metadata": {
    "collapsed": true
   },
   "outputs": [],
   "source": [
    "r=h['r'][0]"
   ]
  },
  {
   "cell_type": "code",
   "execution_count": null,
   "metadata": {
    "collapsed": false
   },
   "outputs": [],
   "source": [
    "t= np.array([0,1,2],'u1')"
   ]
  },
  {
   "cell_type": "code",
   "execution_count": null,
   "metadata": {
    "collapsed": false
   },
   "outputs": [],
   "source": [
    "t = [0,1]\n",
    "\n",
    "f = np.uint64(0)\n",
    "print(type(f))\n",
    "f += len(t)\n",
    "print(type(f))"
   ]
  },
  {
   "cell_type": "code",
   "execution_count": null,
   "metadata": {
    "collapsed": false
   },
   "outputs": [],
   "source": [
    "t[0:1][0]"
   ]
  },
  {
   "cell_type": "code",
   "execution_count": null,
   "metadata": {
    "collapsed": false
   },
   "outputs": [],
   "source": [
    "i=0\n",
    "for p in packets:\n",
    "    if i==7:\n",
    "        break\n",
    "    i+=1"
   ]
  },
  {
   "cell_type": "code",
   "execution_count": null,
   "metadata": {
    "collapsed": false
   },
   "outputs": [],
   "source": [
    "p"
   ]
  },
  {
   "cell_type": "code",
   "execution_count": null,
   "metadata": {
    "collapsed": true
   },
   "outputs": [],
   "source": [
    "lasts = np.where(stream['last'] < 0)[0] + 1"
   ]
  },
  {
   "cell_type": "code",
   "execution_count": null,
   "metadata": {
    "collapsed": false
   },
   "outputs": [],
   "source": [
    "lasts"
   ]
  },
  {
   "cell_type": "code",
   "execution_count": null,
   "metadata": {
    "collapsed": false
   },
   "outputs": [],
   "source": [
    "'last' in stream.dtype.names"
   ]
  },
  {
   "cell_type": "code",
   "execution_count": null,
   "metadata": {
    "collapsed": false
   },
   "outputs": [],
   "source": [
    "isinstance(stream,np.ndarray)"
   ]
  },
  {
   "cell_type": "code",
   "execution_count": null,
   "metadata": {
    "collapsed": false
   },
   "outputs": [],
   "source": [
    "type('poo')"
   ]
  },
  {
   "cell_type": "code",
   "execution_count": null,
   "metadata": {
    "collapsed": false
   },
   "outputs": [],
   "source": [
    "stream[lasts[0]:]"
   ]
  },
  {
   "cell_type": "code",
   "execution_count": null,
   "metadata": {
    "collapsed": false
   },
   "outputs": [],
   "source": [
    "ps=PacketStream(stream)\n",
    "# ps.traces"
   ]
  },
  {
   "cell_type": "code",
   "execution_count": null,
   "metadata": {
    "collapsed": false
   },
   "outputs": [],
   "source": [
    "type(ps[0])"
   ]
  },
  {
   "cell_type": "code",
   "execution_count": null,
   "metadata": {
    "collapsed": false
   },
   "outputs": [],
   "source": [
    "sum(stream['last']<0)"
   ]
  },
  {
   "cell_type": "code",
   "execution_count": null,
   "metadata": {
    "collapsed": false
   },
   "outputs": [],
   "source": [
    "%matplotlib notebook\n",
    "\n",
    "plt.plot(ps.traces[3]._view['trace'])\n",
    "# ps.traces[2]._view['trace'][-20:]"
   ]
  },
  {
   "cell_type": "code",
   "execution_count": null,
   "metadata": {
    "collapsed": false
   },
   "outputs": [],
   "source": [
    "ps.traces"
   ]
  },
  {
   "cell_type": "code",
   "execution_count": null,
   "metadata": {
    "collapsed": false,
    "run_control": {
     "frozen": false,
     "read_only": false
    },
    "scrolled": true
   },
   "outputs": [],
   "source": [
    "traces=Data.fromfile('traces',trace_dt,'teslib','measurement_subsystem_TB',tool='vivado')\n",
    "stream=Data.fromfile('bytestream',stream_dt,'teslib','measurement_subsystem_TB',tool='vivado')\n",
    "bs=PacketStream(stream)\n",
    "dists=bs.distributions\n",
    "#bs.packets\n",
    "dists"
   ]
  },
  {
   "cell_type": "code",
   "execution_count": null,
   "metadata": {
    "collapsed": false
   },
   "outputs": [],
   "source": [
    "d=dists[0]\n",
    "d.counts[-1]"
   ]
  },
  {
   "cell_type": "code",
   "execution_count": null,
   "metadata": {
    "collapsed": false
   },
   "outputs": [],
   "source": [
    "d.total+d.underflow+d.overflow"
   ]
  },
  {
   "cell_type": "code",
   "execution_count": null,
   "metadata": {
    "collapsed": false
   },
   "outputs": [],
   "source": [
    "%matplotlib notebook\n",
    "plt.plot(d.bins)"
   ]
  },
  {
   "cell_type": "code",
   "execution_count": null,
   "metadata": {
    "collapsed": false,
    "scrolled": false
   },
   "outputs": [],
   "source": [
    "f=EventFlags(es[2][2]['flags'])\n",
    "f.channel"
   ]
  },
  {
   "cell_type": "code",
   "execution_count": null,
   "metadata": {
    "collapsed": false,
    "run_control": {
     "frozen": false,
     "read_only": false
    },
    "scrolled": true
   },
   "outputs": [],
   "source": [
    "import tes.mca as mca\n",
    "d=bs.distributions[0]\n",
    "eset=np.uint64(1)\n",
    "bset=np.uint64(0)\n",
    "cset=np.uint64(20)\n",
    "\n",
    "stop=d.stop_time+eset+cset\n",
    "start=d.start_time+bset+cset\n",
    "bins=np.zeros((d.last_bin+1,),dtype=np.uint32)\n",
    "\n",
    "if d.value==mca.Value.raw_signal:\n",
    "    tname='raw'\n",
    "elif d.value==mca.Value.filtered_signal:\n",
    "    tname='filtered'\n",
    "elif d.value==mca.Value.slope_signal:\n",
    "    tname='slope'\n",
    "\n",
    "for i in range(start,stop):\n",
    "    s = traces[tname][i]\n",
    "    if s < d.lowest_value:\n",
    "        bins[0] += 1\n",
    "    else:\n",
    "        bin_number = s - d.lowest_value + 1\n",
    "        if bin_number < d.last_bin:\n",
    "            bins[bin_number] += 1\n",
    "        else:\n",
    "            bins[d.last_bin] += 1\n",
    "        \n",
    "bad=(bins-d.counts).nonzero()\n",
    "bad"
   ]
  },
  {
   "cell_type": "code",
   "execution_count": null,
   "metadata": {
    "collapsed": false
   },
   "outputs": [],
   "source": [
    "d.counts[bad][1:10]"
   ]
  },
  {
   "cell_type": "code",
   "execution_count": null,
   "metadata": {
    "collapsed": false
   },
   "outputs": [],
   "source": [
    "bins[bad][1:10]"
   ]
  },
  {
   "cell_type": "code",
   "execution_count": null,
   "metadata": {
    "collapsed": false
   },
   "outputs": [],
   "source": [
    "d.value"
   ]
  },
  {
   "cell_type": "code",
   "execution_count": null,
   "metadata": {
    "collapsed": false,
    "scrolled": false
   },
   "outputs": [],
   "source": [
    "%matplotlib notebook\n",
    "plt.step(np.arange(len(d.bins)),d.bins)\n",
    "# plt.step(np.arange(len(d.counts)),bins)\n",
    "plt.plot(bad,np.zeros_like(bad),'.k')"
   ]
  },
  {
   "cell_type": "code",
   "execution_count": null,
   "metadata": {
    "collapsed": false
   },
   "outputs": [],
   "source": [
    "sum(d.counts)"
   ]
  },
  {
   "cell_type": "code",
   "execution_count": null,
   "metadata": {
    "collapsed": false
   },
   "outputs": [],
   "source": [
    "2**14+2000"
   ]
  },
  {
   "cell_type": "code",
   "execution_count": null,
   "metadata": {
    "collapsed": false,
    "run_control": {
     "frozen": false,
     "read_only": false
    }
   },
   "outputs": [],
   "source": [
    "def plot_event(event_tupple):\n",
    "    pre=200\n",
    "    post=1000\n",
    "    timestamp=event_tupple[0]\n",
    "    event_type=event_tupple[1]\n",
    "    event=event_tupple[2]\n",
    "    flags=EventFlags(event['flags'])\n",
    "    print(flags)\n",
    "    print('timestamp',timestamp, 'time', event['time'])\n",
    "    if flags.type == Event.tick:\n",
    "        return\n",
    "    s=traces['filtered'][timestamp+20-pre:timestamp+20+post]\n",
    "    r=traces['raw'][timestamp+20-pre:timestamp+20+post]\n",
    "    i = np.where(abs(minmax['clk'])<=timestamp+20)[0][-1]\n",
    "    min_t=abs(minmax['clk'][i])-(timestamp+20)\n",
    "#     print(minmax['clk'][i],min_t,i,timestamp)\n",
    "    plt.plot(r,'k',linewidth=0.5)\n",
    "    plt.plot(s,'b',linewidth=2)\n",
    "    plt.plot([pre],s[pre],'sg')\n",
    "    plt.plot([pre+min_t],minmax['filtered'][i],'sr')\n",
    "    if event_type==Event.pulse:\n",
    "        for i in range(flags.peak_number):\n",
    "            p=event['peaks'][i]\n",
    "            plt.plot([0,len(s)-1],[p['height'],p['height']],':r')\n",
    "    else:\n",
    "      plt.plot([0,len(s)-1],[event['height'],event['height']],':r')\n",
    "        \n",
    "    #print(event['height'],event['minima'])\n",
    "    #print(minmax['filtered'][i]==s[pre+min_t])\n",
    "    #print(minmax['filtered'][i]==event['minima'])\n",
    "    #print(s[pre],s[pre-1])"
   ]
  },
  {
   "cell_type": "code",
   "execution_count": null,
   "metadata": {
    "collapsed": false,
    "run_control": {
     "frozen": false,
     "read_only": false
    }
   },
   "outputs": [],
   "source": [
    "pwd"
   ]
  },
  {
   "cell_type": "code",
   "execution_count": null,
   "metadata": {
    "collapsed": false
   },
   "outputs": [],
   "source": [
    "es=bs.eventstream\n",
    "es"
   ]
  },
  {
   "cell_type": "code",
   "execution_count": null,
   "metadata": {
    "collapsed": false,
    "run_control": {
     "frozen": false,
     "read_only": false
    }
   },
   "outputs": [],
   "source": [
    "%matplotlib notebook\n",
    "for e in es:\n",
    "    if e[1]==Event.peak:\n",
    "        plot_event(e)"
   ]
  },
  {
   "cell_type": "code",
   "execution_count": null,
   "metadata": {
    "collapsed": false,
    "run_control": {
     "frozen": false,
     "read_only": false
    }
   },
   "outputs": [],
   "source": [
    "es"
   ]
  },
  {
   "cell_type": "code",
   "execution_count": null,
   "metadata": {
    "collapsed": false,
    "run_control": {
     "frozen": false,
     "read_only": false
    }
   },
   "outputs": [],
   "source": [
    "dists=bs.distributions\n",
    "dists"
   ]
  },
  {
   "cell_type": "code",
   "execution_count": null,
   "metadata": {
    "collapsed": false,
    "run_control": {
     "frozen": false,
     "read_only": false
    }
   },
   "outputs": [],
   "source": [
    "bs.packets[185].payload"
   ]
  },
  {
   "cell_type": "code",
   "execution_count": null,
   "metadata": {
    "collapsed": false,
    "run_control": {
     "frozen": false,
     "read_only": false
    }
   },
   "outputs": [],
   "source": [
    "d=bs.distributions[0]\n",
    "eset=np.uint64(1)\n",
    "bset=np.uint64(0)\n",
    "cset=np.uint64(20)\n",
    "\n",
    "stop=d.stop_time+eset+cset\n",
    "start=d.start_time+bset+cset\n",
    "bins=np.zeros((d.last_bin+1,),dtype=np.uint32)\n",
    "for i in range(start,stop):\n",
    "    s = traces['raw'][i]\n",
    "    if s <= d.lowest_value:\n",
    "        bins[0] += 1\n",
    "    else:\n",
    "        bins[s-d.lowest_value] += 1\n",
    "        \n",
    "(bins-d.counts).nonzero()"
   ]
  },
  {
   "cell_type": "code",
   "execution_count": null,
   "metadata": {
    "collapsed": false,
    "run_control": {
     "frozen": false,
     "read_only": false
    }
   },
   "outputs": [],
   "source": [
    "%matplotlib notebook\n",
    "plt.step(np.arange(len(d.counts)),d.counts)"
   ]
  },
  {
   "cell_type": "code",
   "execution_count": null,
   "metadata": {
    "collapsed": false,
    "run_control": {
     "frozen": false,
     "read_only": false
    }
   },
   "outputs": [],
   "source": [
    "bins[bins.nonzero()]"
   ]
  },
  {
   "cell_type": "code",
   "execution_count": null,
   "metadata": {
    "collapsed": false,
    "run_control": {
     "frozen": false,
     "read_only": false
    }
   },
   "outputs": [],
   "source": [
    "sum(d.counts)"
   ]
  },
  {
   "cell_type": "code",
   "execution_count": null,
   "metadata": {
    "collapsed": false,
    "run_control": {
     "frozen": false,
     "read_only": false
    }
   },
   "outputs": [],
   "source": [
    "2**14+2000"
   ]
  },
  {
   "cell_type": "code",
   "execution_count": null,
   "metadata": {
    "collapsed": false,
    "run_control": {
     "frozen": false,
     "read_only": false
    }
   },
   "outputs": [],
   "source": [
    "es[3][2]['timestamp']-es[0][2]['timestamp']"
   ]
  },
  {
   "cell_type": "code",
   "execution_count": null,
   "metadata": {
    "collapsed": true,
    "run_control": {
     "frozen": false,
     "read_only": false
    }
   },
   "outputs": [],
   "source": [
    "def xings(s, thresh):\n",
    "    pos=s > thresh\n",
    "    neg=s < thresh\n",
    "    pos0=s >= thresh\n",
    "    neg0=s <= thresh\n",
    "    pos_xing_mask = np.bitwise_and(pos0[1:],neg[0:-1])  \n",
    "    neg_xing_mask = np.bitwise_and(neg0[1:],pos[0:-1])  \n",
    "    return pos_xing_mask.nonzero()[0]+1, neg_xing_mask.nonzero()[0]+1"
   ]
  },
  {
   "cell_type": "code",
   "execution_count": null,
   "metadata": {
    "collapsed": true,
    "run_control": {
     "frozen": false,
     "read_only": false
    }
   },
   "outputs": [],
   "source": [
    "from mpl_toolkits.axes_grid1 import host_subplot\n",
    "\n",
    "def plot_trace(traces,start,width):\n",
    "\n",
    "    ax = host_subplot(111)\n",
    "    axr = ax.twinx()\n",
    "    axt = ax.twiny()\n",
    "#ax.plot(t[0:-1:10],s[0:-1:10],'k')\n",
    "#ax.plot(t,s,'k')\n",
    "    axt.set_xlabel('Time ns',fontsize=18)\n",
    "    ax.set_ylabel('Voltage (Arbitary Units)',fontsize=18)\n",
    "#plt.xticks(visible=False)\n",
    "#plt.yticks(visible=False)\n",
    "#ax.set_xlim(0,t[4000000])\n",
    "#start=902000\n",
    "#width=2500\n",
    "    f=traces['filtered'][start:start+width]\n",
    "    s=traces['slope'][start:start+width]\n",
    "    t=np.arange(len(f))*4e-9\n",
    "#ts=t[pstart:pstop]\n",
    "#axins = fig.add_axes([.4, .45, .45, .4])\n",
    "    ax.set_xlim(t[0],t[-1])\n",
    "    axt.set_xlim(t[0],t[-1])\n",
    "\n",
    "    ylim=(-500,2000)\n",
    "\n",
    "    ax.set_ylim(ylim[0],ylim[1])\n",
    "    axr.set_ylim(ylim[0],ylim[1])\n",
    "\n",
    "    filtered, = ax.step(t,f,'k',lw=2,label='filtered')\n",
    "    slope, = ax.step(t,s,'b',label='slope')\n",
    "    ax.fill_between(t,0,s,alpha=.4)\n",
    "    plt.ylim=ylim\n",
    "\n",
    "pos=s>0\n",
    "neg=s<=0\n",
    "pos_xing_mask = np.bitwise_and(pos[1:-1],neg[0:-2])  \n",
    "neg_xing_mask = np.bitwise_and(neg[1:-1],pos[0:-2])  \n",
    "pos_xing=pos_xing_mask.nonzero()\n",
    "neg_xing=neg_xing_mask.nonzero()\n",
    "\n",
    "rx=[t[pos_xing[0][0]], t[neg_xing[0][0]]]\n",
    "ry=[f[pos_xing[0][0]], f[neg_xing[0][0]]]\n",
    "\n",
    "ax.fill_between(t[pos_xing[0][0]:neg_xing[0][0]],0,s[pos_xing[0][0]:neg_xing[0][0]],alpha=.4,color='r')\n",
    "\n",
    "#plt.plot(rx,[ry[0], ry[0]],'-r',lw=2)\n",
    "#plt.plot([rx[1],rx[1]], ry,'-r',lw=2)\n",
    "# thresholds\n",
    "sthresh = 600\n",
    "pthresh = 1000\n",
    "plt.plot([t[0], t[-1]], [sthresh, sthresh], '--b', lw=2)\n",
    "plt.plot([t[0], t[-1]], [pthresh, pthresh], '--k', lw=2)\n",
    "\n",
    "sthresh_xing=(s>sthresh).nonzero()[0][0]\n",
    "pthresh_xing=(f>pthresh).nonzero()[0][0]\n",
    "\n",
    "\n",
    "cf=.10\n",
    "height = ry[1]-ry[0]\n",
    "cfl=ry[0]+(height*cf)\n",
    "cfh=ry[1]-(height*cf)\n",
    "\n",
    "cfl_xing=(f>cfl).nonzero()[0][0]\n",
    "cfd_low=f[cfl_xing]\n",
    "cfh_xing=(f>cfh).nonzero()[0][0]\n",
    "cfd_high=f[cfh_xing]\n",
    "\n",
    "#plt.plot([t[cfl_xing], t[-1]],[cfd_low, cfd_low], ':r')\n",
    "#plt.plot([t[cfh_xing], t[-1]],[cfd_high, cfd_high], ':r')\n",
    "#plt.plot([x[1], t[-1]],[y[1], y[1]], ':r')\n",
    "plt.legend([filtered, slope],['Signal', 'Slope'],loc=2)\n",
    "\n",
    "#axr = ax.twinx()\n",
    "##################################################################\n",
    "#yticks=([ry[0],sthresh,pthresh,cfd_high,ry[1]])\n",
    "yticks=([sthresh,pthresh])\n",
    "axr.set_yticks(yticks)\n",
    "#yticklabels=['Start','Slope threshold','Pulse threshold','CF high','Peak']\n",
    "yticklabels=['Slope threshold','Pulse threshold']\n",
    "axr.set_yticklabels(yticklabels, color='r',fontsize=14)\n",
    "axr.get_yticklabels()[0].set_color('b')\n",
    "axr.get_yticklabels()[1].set_color('k')\n",
    "\n",
    "#xticks=([rx[0],t[cfl_xing],t[sthresh_xing],t[pthresh_xing],rx[1]])\n",
    "xticks=(t[cfl_xing],rx[1])\n",
    "#ax.set_xticks([rx[0],t[cfl_xing],t[sthresh_xing],t[pthresh_xing],rx[1]])\n",
    "ax.set_xticks(xticks)\n",
    "#xticklabels=['Start','CF low','Slope xing','Signal xing','Peak']\n",
    "xticklabels=['CF low','Peak']\n",
    "ax.set_xticklabels(xticklabels, color='r',fontsize=14)\n",
    "\n",
    "#plt.plot([t[cfh_xing], t[-1]],[cfd_high, cfd_high], ':r')\n",
    "#horoz start, stop lines\n",
    "#hpeak=ax.plot([xticks[1], t[-1]],[yticks[-1], yticks[-1]], '-.r')\n",
    "#hstart=ax.plot([xticks[0], t[-1]],[yticks[0], yticks[0]], '-.r')\n",
    "#vert start stop\n",
    "vstart=ax.plot([xticks[0], xticks[0]],[cfd_low, ylim[0]], '-.r')\n",
    "vpeak=ax.plot([xticks[1], xticks[1]],[ylim[0], ry[1]], '-.r')\n",
    "\n",
    "plt.tight_layout()\n",
    "plt.savefig('..//peakextraction7.svg')\n",
    "plt.show()\n",
    "print('risetime:',(xticks[1]-xticks[0])/4)\n",
    "print('height:',yticks[-1]-yticks[0])\n",
    "print('time:',(xticks[0]-rx[0])/4)\n",
    "print('area',sum(s[pos_xing[0][0]:neg_xing[0][0]])/256)\n"
   ]
  },
  {
   "cell_type": "code",
   "execution_count": null,
   "metadata": {
    "collapsed": true,
    "run_control": {
     "frozen": false,
     "read_only": false
    }
   },
   "outputs": [],
   "source": [
    "slope_0xings = xings(traces['slope'],0)"
   ]
  },
  {
   "cell_type": "code",
   "execution_count": null,
   "metadata": {
    "collapsed": false,
    "run_control": {
     "frozen": false,
     "read_only": false
    }
   },
   "outputs": [],
   "source": [
    "slope_0xings"
   ]
  },
  {
   "cell_type": "code",
   "execution_count": null,
   "metadata": {
    "collapsed": false,
    "run_control": {
     "frozen": false,
     "read_only": false
    }
   },
   "outputs": [],
   "source": [
    "%matplotlib notebook\n",
    "start=10000\n",
    "width=300\n",
    "plt.plot(traces['filtered'][start:start+width]/2)"
   ]
  },
  {
   "cell_type": "code",
   "execution_count": null,
   "metadata": {
    "collapsed": false,
    "run_control": {
     "frozen": false,
     "read_only": false
    }
   },
   "outputs": [],
   "source": [
    "%matplotlib notebook\n",
    "plt.plot(traces['slope'][20400:21700])"
   ]
  },
  {
   "cell_type": "code",
   "execution_count": null,
   "metadata": {
    "collapsed": false,
    "run_control": {
     "frozen": false,
     "read_only": false
    }
   },
   "outputs": [],
   "source": [
    "filtered=traces['filtered'][1100:]\n",
    "filteredL=traces['filteredL'][1100:]"
   ]
  },
  {
   "cell_type": "code",
   "execution_count": null,
   "metadata": {
    "collapsed": false,
    "run_control": {
     "frozen": false,
     "read_only": false
    }
   },
   "outputs": [],
   "source": [
    "filtered[:10]"
   ]
  },
  {
   "cell_type": "code",
   "execution_count": null,
   "metadata": {
    "collapsed": false,
    "run_control": {
     "frozen": false,
     "read_only": false
    }
   },
   "outputs": [],
   "source": [
    "filteredL[:10]/4"
   ]
  },
  {
   "cell_type": "code",
   "execution_count": null,
   "metadata": {
    "collapsed": false,
    "run_control": {
     "frozen": false,
     "read_only": false
    }
   },
   "outputs": [],
   "source": [
    "minmax_dt=np.dtype([('filtered','i4'),('low','i4'),('high','i4'),('clk','i4')])\n",
    "minmax=Data.fromfile('minmax',minmax_dt,'teslib','measurement_subsystem_TB',tool='vivado')\n",
    "fxing_dt=np.dtype([('extrema','i4'),('area','i4'),('clk','i4')])\n",
    "fxing=Data.fromfile('filteredxing',fxing_dt,'teslib','measurement_subsystem_TB',tool='vivado')"
   ]
  },
  {
   "cell_type": "code",
   "execution_count": null,
   "metadata": {
    "collapsed": false,
    "run_control": {
     "frozen": false,
     "read_only": false
    }
   },
   "outputs": [],
   "source": [
    "minmax"
   ]
  },
  {
   "cell_type": "code",
   "execution_count": null,
   "metadata": {
    "collapsed": false,
    "run_control": {
     "frozen": false,
     "read_only": false
    }
   },
   "outputs": [],
   "source": [
    "fxing"
   ]
  },
  {
   "cell_type": "code",
   "execution_count": null,
   "metadata": {
    "collapsed": false,
    "run_control": {
     "frozen": false,
     "read_only": false
    }
   },
   "outputs": [],
   "source": [
    "np.where(fxing['area']==0)"
   ]
  },
  {
   "cell_type": "code",
   "execution_count": null,
   "metadata": {
    "collapsed": false,
    "run_control": {
     "frozen": false,
     "read_only": false
    }
   },
   "outputs": [],
   "source": [
    "np.where(fxing['extrema']==0)"
   ]
  },
  {
   "cell_type": "code",
   "execution_count": null,
   "metadata": {
    "collapsed": false,
    "run_control": {
     "frozen": false,
     "read_only": false
    }
   },
   "outputs": [],
   "source": [
    "fxing[30]"
   ]
  },
  {
   "cell_type": "code",
   "execution_count": null,
   "metadata": {
    "collapsed": false,
    "run_control": {
     "frozen": false,
     "read_only": false
    }
   },
   "outputs": [],
   "source": [
    "exn=np.where(fxing['extrema']<0)\n",
    "clkn=np.where(fxing['clk']>0)"
   ]
  },
  {
   "cell_type": "code",
   "execution_count": null,
   "metadata": {
    "collapsed": true,
    "run_control": {
     "frozen": false,
     "read_only": false
    }
   },
   "outputs": [],
   "source": []
  },
  {
   "cell_type": "code",
   "execution_count": null,
   "metadata": {
    "collapsed": false,
    "run_control": {
     "frozen": false,
     "read_only": false
    }
   },
   "outputs": [],
   "source": [
    "fxing[374]"
   ]
  },
  {
   "cell_type": "code",
   "execution_count": null,
   "metadata": {
    "collapsed": false,
    "run_control": {
     "frozen": false,
     "read_only": false
    }
   },
   "outputs": [],
   "source": [
    "clkn"
   ]
  },
  {
   "cell_type": "code",
   "execution_count": null,
   "metadata": {
    "collapsed": false,
    "run_control": {
     "frozen": false,
     "read_only": false
    }
   },
   "outputs": [],
   "source": [
    "np.where(minmax[maxs[0]-1]['min']!=1)"
   ]
  },
  {
   "cell_type": "code",
   "execution_count": null,
   "metadata": {
    "collapsed": false,
    "run_control": {
     "frozen": false,
     "read_only": false
    }
   },
   "outputs": [],
   "source": [
    "minmax[maxs[0]-1][65]"
   ]
  },
  {
   "cell_type": "code",
   "execution_count": null,
   "metadata": {
    "collapsed": false,
    "run_control": {
     "frozen": false,
     "read_only": false
    }
   },
   "outputs": [],
   "source": [
    "2290-925"
   ]
  },
  {
   "cell_type": "code",
   "execution_count": null,
   "metadata": {
    "collapsed": false,
    "run_control": {
     "frozen": false,
     "read_only": false
    }
   },
   "outputs": [],
   "source": [
    "0.375*4"
   ]
  },
  {
   "cell_type": "code",
   "execution_count": null,
   "metadata": {
    "collapsed": false,
    "run_control": {
     "frozen": false,
     "read_only": false
    }
   },
   "outputs": [],
   "source": [
    "np.where(minmax['clock']==2290)"
   ]
  },
  {
   "cell_type": "code",
   "execution_count": null,
   "metadata": {
    "collapsed": false,
    "run_control": {
     "frozen": false,
     "read_only": false
    }
   },
   "outputs": [],
   "source": [
    "minmax[120:140]"
   ]
  },
  {
   "cell_type": "code",
   "execution_count": null,
   "metadata": {
    "collapsed": false,
    "run_control": {
     "frozen": false,
     "read_only": false
    }
   },
   "outputs": [],
   "source": [
    "stream_dt=np.dtype([('data','>i4'),('last','i4')])\n",
    "#stream=np.fromfile('data/stream',stream_dt)"
   ]
  },
  {
   "cell_type": "markdown",
   "metadata": {},
   "source": [
    "### bytestream stuff"
   ]
  },
  {
   "cell_type": "code",
   "execution_count": null,
   "metadata": {
    "collapsed": false,
    "run_control": {
     "frozen": false,
     "read_only": false
    }
   },
   "outputs": [],
   "source": [
    "stream_dt=np.dtype([('data','i4'),('last','i4')])\n",
    "stream=Data.fromfile('bytestream',stream_dt,'teslib','measurement_subsystem_TB',tool='vivado')\n",
    "lasts=np.where(stream['last']<=0)[0]+1\n",
    "#data=np.copy(stream['data'])"
   ]
  },
  {
   "cell_type": "code",
   "execution_count": null,
   "metadata": {
    "collapsed": false,
    "run_control": {
     "frozen": false,
     "read_only": false
    }
   },
   "outputs": [],
   "source": [
    "stream"
   ]
  },
  {
   "cell_type": "code",
   "execution_count": null,
   "metadata": {
    "collapsed": true,
    "run_control": {
     "frozen": false,
     "read_only": false
    }
   },
   "outputs": [],
   "source": []
  },
  {
   "cell_type": "code",
   "execution_count": null,
   "metadata": {
    "collapsed": true,
    "run_control": {
     "frozen": false,
     "read_only": false
    }
   },
   "outputs": [],
   "source": [
    "stream=np.fromfile('data/bytestream',stream_dt)"
   ]
  },
  {
   "cell_type": "code",
   "execution_count": null,
   "metadata": {
    "collapsed": false,
    "run_control": {
     "frozen": false,
     "read_only": false
    }
   },
   "outputs": [],
   "source": [
    "bs=PacketStream(stream)"
   ]
  },
  {
   "cell_type": "code",
   "execution_count": null,
   "metadata": {
    "collapsed": false,
    "run_control": {
     "frozen": false,
     "read_only": false
    }
   },
   "outputs": [],
   "source": [
    "bs.packets"
   ]
  },
  {
   "cell_type": "code",
   "execution_count": null,
   "metadata": {
    "collapsed": false,
    "run_control": {
     "frozen": false,
     "read_only": false
    }
   },
   "outputs": [],
   "source": [
    "bs.packets[4]"
   ]
  },
  {
   "cell_type": "code",
   "execution_count": null,
   "metadata": {
    "collapsed": true,
    "run_control": {
     "frozen": false,
     "read_only": false
    }
   },
   "outputs": [],
   "source": [
    "eheader_dt=[('etype','<u2'),('length','u2'),()]"
   ]
  },
  {
   "cell_type": "code",
   "execution_count": null,
   "metadata": {
    "collapsed": false,
    "run_control": {
     "frozen": false,
     "read_only": false
    }
   },
   "outputs": [],
   "source": [
    "'{:X}'.format(bs.packets[1].bytes[23])\n"
   ]
  },
  {
   "cell_type": "code",
   "execution_count": null,
   "metadata": {
    "collapsed": false,
    "run_control": {
     "frozen": false,
     "read_only": false
    }
   },
   "outputs": [],
   "source": [
    "'{:X}'.format(bs.packets[0].bytes[28:30].view(np.uint16)[0])"
   ]
  },
  {
   "cell_type": "code",
   "execution_count": null,
   "metadata": {
    "collapsed": true,
    "run_control": {
     "frozen": false,
     "read_only": false
    }
   },
   "outputs": [],
   "source": [
    "pulse_peak_dt=np.dtype([('height','i2'),('rise','i2'),('minima','u2'),('time','i2')])\n",
    "pulse_dt=np.dtype([('size','i2'),('resv','i2'),('flags','i2'),('time','u2'),\n",
    "                  ('area','i4'),('length','i2'),('offset','i2'),('peaks',(pulse_peak_dt,2))])"
   ]
  },
  {
   "cell_type": "code",
   "execution_count": null,
   "metadata": {
    "collapsed": false,
    "run_control": {
     "frozen": false,
     "read_only": false
    }
   },
   "outputs": [],
   "source": [
    "pulses=bs.packets[3].payload.view(pulse_dt)"
   ]
  },
  {
   "cell_type": "code",
   "execution_count": null,
   "metadata": {
    "collapsed": false,
    "run_control": {
     "frozen": false,
     "read_only": false
    }
   },
   "outputs": [],
   "source": [
    "pulses['peaks']"
   ]
  },
  {
   "cell_type": "code",
   "execution_count": null,
   "metadata": {
    "collapsed": false,
    "run_control": {
     "frozen": false,
     "read_only": false
    }
   },
   "outputs": [],
   "source": [
    "pulses['offset']"
   ]
  },
  {
   "cell_type": "code",
   "execution_count": null,
   "metadata": {
    "collapsed": false,
    "run_control": {
     "frozen": false,
     "read_only": false
    }
   },
   "outputs": [],
   "source": [
    "pulses['length']"
   ]
  },
  {
   "cell_type": "code",
   "execution_count": null,
   "metadata": {
    "collapsed": false,
    "run_control": {
     "frozen": false,
     "read_only": false
    }
   },
   "outputs": [],
   "source": [
    "class eflags:\n",
    "    def __init__(self,uint16):\n",
    "        self.new_window=np.bitwise_and(uint16,0x00000001)!=0\n",
    "        self.tick=np.bitwise_and(uint16,0x00000002)!=0\n",
    "        self.type=np.right_shift(np.bitwise_and(uint16,0x0000000c),2)\n",
    "        \n",
    "    def __repr__(self):\n",
    "        return 'New window:{:}\\n'.format(self.new_window) + \\\n",
    "               'Tick:{:}\\n'.format(self.tick) + \\\n",
    "               'Type:{:}\\n'.format(self.type) "
   ]
  },
  {
   "cell_type": "code",
   "execution_count": null,
   "metadata": {
    "collapsed": false,
    "run_control": {
     "frozen": false,
     "read_only": false
    }
   },
   "outputs": [],
   "source": [
    "f=eflags(pulses[0]['flags'])\n",
    "f"
   ]
  },
  {
   "cell_type": "code",
   "execution_count": null,
   "metadata": {
    "collapsed": false,
    "run_control": {
     "frozen": false,
     "read_only": false
    }
   },
   "outputs": [],
   "source": [
    "'{:X}'.format(bs.packets[3].bytes[13:14].view(np.uint16))"
   ]
  },
  {
   "cell_type": "code",
   "execution_count": null,
   "metadata": {
    "collapsed": true,
    "run_control": {
     "frozen": false,
     "read_only": false
    }
   },
   "outputs": [],
   "source": []
  },
  {
   "cell_type": "code",
   "execution_count": null,
   "metadata": {
    "collapsed": false,
    "run_control": {
     "frozen": false,
     "read_only": false
    }
   },
   "outputs": [],
   "source": [
    "'{:X}'.format(bs.packets[3].bytes[14:16].view(np.uint16)[0])"
   ]
  },
  {
   "cell_type": "code",
   "execution_count": null,
   "metadata": {
    "collapsed": false,
    "run_control": {
     "frozen": false,
     "read_only": false
    }
   },
   "outputs": [],
   "source": [
    "bs.packets[3].bytes[14:16].view(np.uint16)[0]"
   ]
  },
  {
   "cell_type": "code",
   "execution_count": null,
   "metadata": {
    "collapsed": false,
    "run_control": {
     "frozen": false,
     "read_only": false
    }
   },
   "outputs": [],
   "source": [
    "bs=np.uint8(stream['data'][:48])"
   ]
  },
  {
   "cell_type": "code",
   "execution_count": null,
   "metadata": {
    "collapsed": false,
    "run_control": {
     "frozen": false,
     "read_only": false
    }
   },
   "outputs": [],
   "source": [
    "bs"
   ]
  },
  {
   "cell_type": "code",
   "execution_count": null,
   "metadata": {
    "collapsed": false,
    "run_control": {
     "frozen": false,
     "read_only": false
    }
   },
   "outputs": [],
   "source": [
    "events=stream['data'].view(event_dt)"
   ]
  },
  {
   "cell_type": "code",
   "execution_count": null,
   "metadata": {
    "collapsed": false,
    "run_control": {
     "frozen": false,
     "read_only": false
    }
   },
   "outputs": [],
   "source": [
    "'{:X}'.format(events['flags'][0])"
   ]
  },
  {
   "cell_type": "code",
   "execution_count": null,
   "metadata": {
    "collapsed": false,
    "run_control": {
     "frozen": false,
     "read_only": false
    }
   },
   "outputs": [],
   "source": [
    "events['rise']"
   ]
  },
  {
   "cell_type": "code",
   "execution_count": null,
   "metadata": {
    "collapsed": false,
    "run_control": {
     "frozen": false,
     "read_only": false
    }
   },
   "outputs": [],
   "source": [
    "events"
   ]
  },
  {
   "cell_type": "code",
   "execution_count": null,
   "metadata": {
    "collapsed": false,
    "run_control": {
     "frozen": false,
     "read_only": false
    }
   },
   "outputs": [],
   "source": [
    "'{:04X}'.format(events['flags'][1])"
   ]
  },
  {
   "cell_type": "code",
   "execution_count": null,
   "metadata": {
    "collapsed": true,
    "run_control": {
     "frozen": false,
     "read_only": false
    }
   },
   "outputs": [],
   "source": [
    "pulse_peak_dt=np.dtype([('time','>i2'),('minima','>i2'),('rise','>u2'),('height','>i2')])\n",
    "pulse_dt=np.dtype([('time','>i2'),('flags','>i2'),('resv','>i2'),('size','>u2'),\n",
    "                  ('offset','>i2'),('length','>i2'),('area','>i4'),('peaks',(pulse_peak_dt,1))])\n",
    "data=np.copy(stream['data'])"
   ]
  },
  {
   "cell_type": "code",
   "execution_count": null,
   "metadata": {
    "collapsed": false,
    "run_control": {
     "frozen": false,
     "read_only": false
    }
   },
   "outputs": [],
   "source": [
    "pulses=data.view(pulse_dt)"
   ]
  },
  {
   "cell_type": "code",
   "execution_count": null,
   "metadata": {
    "collapsed": false,
    "run_control": {
     "frozen": false,
     "read_only": false
    }
   },
   "outputs": [],
   "source": [
    "pulses['peaks']['height']-pulses['peaks']['minima']"
   ]
  },
  {
   "cell_type": "code",
   "execution_count": null,
   "metadata": {
    "collapsed": false,
    "run_control": {
     "frozen": false,
     "read_only": false
    }
   },
   "outputs": [],
   "source": [
    "pulses['peaks']['minima']"
   ]
  },
  {
   "cell_type": "code",
   "execution_count": null,
   "metadata": {
    "collapsed": false,
    "run_control": {
     "frozen": false,
     "read_only": false
    }
   },
   "outputs": [],
   "source": [
    "peak_count=np.right_shift(np.bitwise_and(pulses['flags'],0xF000),12)\n",
    "peak_overflow=np.bitwise_and(pulses['flags'],0x0800)!=0\n",
    "channel=np.right_shift(np.bitwise_and(pulses['flags'],0x0700),8)\n",
    "timing_type=np.right_shift(np.bitwise_and(pulses['flags'],0x00C0),6)\n",
    "height_type=np.right_shift(np.bitwise_and(pulses['flags'],0x0030),4)\n",
    "event_type=np.right_shift(np.bitwise_and(pulses['flags'],0x000E),1)\n",
    "new_window=np.bitwise_and(pulses['flags'],0x0001)!=0"
   ]
  },
  {
   "cell_type": "code",
   "execution_count": null,
   "metadata": {
    "collapsed": false,
    "run_control": {
     "frozen": false,
     "read_only": false
    }
   },
   "outputs": [],
   "source": [
    "peak_overflow"
   ]
  },
  {
   "cell_type": "code",
   "execution_count": null,
   "metadata": {
    "collapsed": true,
    "run_control": {
     "frozen": false,
     "read_only": false
    }
   },
   "outputs": [],
   "source": [
    "test_dt=np.dtype(\n",
    "    [('time','i2'),('flags','i2'),('rise','u2'),('minima','i2'),('low','u8'),('high','u8')]\n",
    ")\n",
    "test=data.view(test_dt)"
   ]
  },
  {
   "cell_type": "code",
   "execution_count": null,
   "metadata": {
    "collapsed": false,
    "run_control": {
     "frozen": false,
     "read_only": false
    }
   },
   "outputs": [],
   "source": [
    "test"
   ]
  },
  {
   "cell_type": "code",
   "execution_count": null,
   "metadata": {
    "collapsed": false,
    "run_control": {
     "frozen": false,
     "read_only": false
    }
   },
   "outputs": [],
   "source": [
    "test['minima']"
   ]
  },
  {
   "cell_type": "code",
   "execution_count": null,
   "metadata": {
    "collapsed": false,
    "run_control": {
     "frozen": false,
     "read_only": false
    }
   },
   "outputs": [],
   "source": [
    "low1=np.int32(np.right_shift(np.bitwise_and(test['low'],0x03FFFF000000000),36))\n",
    "s=(np.bitwise_and(low1,0x00020000)!=0)*0xFFFC0000\n",
    "low2=np.int32(np.right_shift(np.bitwise_and(test['low'],0x000000FFFFC0000),18))\n",
    "low_threshold=np.int32(np.bitwise_and(test['low'],0x00000000003FFFF))\n",
    "high1=np.int32(np.right_shift(np.bitwise_and(test['high'],0x03FFFF000000000),36))\n",
    "high2=np.int32(np.right_shift(np.bitwise_and(test['high'],0x000000FFFFC0000),18))\n",
    "high_threshold=np.int32(np.bitwise_and(test['high'],0x00000000003FFFF))"
   ]
  },
  {
   "cell_type": "code",
   "execution_count": null,
   "metadata": {
    "collapsed": false,
    "run_control": {
     "frozen": false,
     "read_only": false
    }
   },
   "outputs": [],
   "source": [
    "np.int32(np.bitwise_or(low1,s))/8.0"
   ]
  },
  {
   "cell_type": "code",
   "execution_count": null,
   "metadata": {
    "collapsed": false,
    "run_control": {
     "frozen": false,
     "read_only": false
    }
   },
   "outputs": [],
   "source": [
    "'{:04X}'.format(low1[0])"
   ]
  },
  {
   "cell_type": "code",
   "execution_count": null,
   "metadata": {
    "collapsed": false,
    "run_control": {
     "frozen": false,
     "read_only": false
    }
   },
   "outputs": [],
   "source": [
    "high1/8.0"
   ]
  },
  {
   "cell_type": "code",
   "execution_count": null,
   "metadata": {
    "collapsed": false,
    "run_control": {
     "frozen": false,
     "read_only": false
    }
   },
   "outputs": [],
   "source": [
    "high2/8.0"
   ]
  },
  {
   "cell_type": "code",
   "execution_count": null,
   "metadata": {
    "collapsed": false,
    "run_control": {
     "frozen": false,
     "read_only": false
    }
   },
   "outputs": [],
   "source": [
    "'{:04X}'.format(high_threshold[0])"
   ]
  },
  {
   "cell_type": "code",
   "execution_count": null,
   "metadata": {
    "collapsed": false,
    "run_control": {
     "frozen": false,
     "read_only": false
    }
   },
   "outputs": [],
   "source": [
    "from enum import Enum"
   ]
  },
  {
   "cell_type": "code",
   "execution_count": null,
   "metadata": {
    "collapsed": false,
    "run_control": {
     "frozen": false,
     "read_only": false
    }
   },
   "outputs": [],
   "source": [
    "class VhdlEnum(int, Enum):\n",
    "\n",
    "    def __str__(self):\n",
    "        return self.name.replace(\"-\", \" \")\n",
    "    \n",
    "    def select(self):\n",
    "        return pow(2, self.value)\n",
    "    "
   ]
  },
  {
   "cell_type": "code",
   "execution_count": null,
   "metadata": {
    "collapsed": false,
    "run_control": {
     "frozen": false,
     "read_only": false
    }
   },
   "outputs": [],
   "source": [
    "class Test(VhdlEnum):\n",
    "    a=0\n",
    "    b=1"
   ]
  },
  {
   "cell_type": "code",
   "execution_count": null,
   "metadata": {
    "collapsed": false,
    "run_control": {
     "frozen": false,
     "read_only": false
    }
   },
   "outputs": [],
   "source": [
    "Test(0)"
   ]
  },
  {
   "cell_type": "code",
   "execution_count": null,
   "metadata": {
    "collapsed": true,
    "run_control": {
     "frozen": false,
     "read_only": false
    }
   },
   "outputs": [],
   "source": []
  }
 ],
 "metadata": {
  "anaconda-cloud": {},
  "kernelspec": {
   "display_name": "Python [conda root]",
   "language": "python",
   "name": "conda-root-py"
  },
  "language_info": {
   "codemirror_mode": {
    "name": "ipython",
    "version": 3
   },
   "file_extension": ".py",
   "mimetype": "text/x-python",
   "name": "python",
   "nbconvert_exporter": "python",
   "pygments_lexer": "ipython3",
   "version": "3.5.3"
  }
 },
 "nbformat": 4,
 "nbformat_minor": 1
}
