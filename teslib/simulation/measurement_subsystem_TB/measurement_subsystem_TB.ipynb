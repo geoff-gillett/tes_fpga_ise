{
 "cells": [
  {
   "cell_type": "markdown",
   "metadata": {},
   "source": [
    "timestamp 0 => clk 20\n",
    "\n",
    "traces start at clk 1"
   ]
  },
  {
   "cell_type": "code",
   "execution_count": 1,
   "metadata": {
    "collapsed": false,
    "run_control": {
     "frozen": false,
     "read_only": false
    }
   },
   "outputs": [],
   "source": [
    "from tes.data import Data,PacketStream,Packet,Payload,EventFlags,Event\n",
    "from tes.hdf5 import _PacketData, _import\n",
    "import numpy as np\n",
    "import matplotlib.pyplot as plt\n",
    "from subprocess import Popen\n",
    "\n",
    "import logging\n",
    "import sys\n",
    "logger = logging.getLogger('tes')\n",
    "logger.setLevel(logging.DEBUG)\n",
    "handler = logging.StreamHandler(sys.stderr)\n",
    "formatter = logging.Formatter('%(name)s:%(levelname)s %(message)s')\n",
    "handler.setFormatter(formatter)\n",
    "logger.handlers = [handler]\n",
    "\n",
    "trace_dt=np.dtype([('raw','i4'),('filtered','i4'),('slope','i4'),('filteredL','i4')])\n",
    "stream_dt=np.dtype([('data','i4'),('last','i4')])\n",
    "minmax_dt=np.dtype(\n",
    "    [\n",
    "        ('filtered','i4'),('timing_threshold','i4'),\n",
    "        ('height_threshold','i4'),('slope_extrema','i4'),('slope_area','i4'),('clk','i4')\n",
    "    ]\n",
    ")\n",
    "cfd_dt=np.dtype('i4')\n",
    "filteredxing_dt=np.dtype([('extrema','i4'),('area','i4'),('clk','i4')])"
   ]
  },
  {
   "cell_type": "code",
   "execution_count": null,
   "metadata": {
    "collapsed": false,
    "run_control": {
     "frozen": false,
     "read_only": false
    },
    "scrolled": false
   },
   "outputs": [],
   "source": [
    "%matplotlib notebook\n",
    "traces=Data.fromfile('traces',trace_dt,'teslib','measurement_subsystem_TB',tool='vivado')\n",
    "plt.plot(traces['slope'][1100:],'r',linewidth=1)\n",
    "plt.plot(traces['raw'][1100:],linewidth=0.5)\n",
    "plt.plot(traces['filtered'][1100:],'k',linewidth=2)"
   ]
  },
  {
   "cell_type": "code",
   "execution_count": 24,
   "metadata": {
    "collapsed": false
   },
   "outputs": [
    {
     "name": "stderr",
     "output_type": "stream",
     "text": [
      "tes.hdf5:DEBUG PacketData: from ndarray\n",
      "tes.hdf5:INFO import:pass 1: calculating sizes for hdf5 pre-allocation\n",
      "tes.hdf5:CRITICAL import:trace length error\n",
      "tes.hdf5:INFO import:pass 1:found 1360 bytes in 19 frames 0 sequence errors.\n",
      "tes.hdf5:DEBUG tick frames: 312 data bytes in 13 frames\n",
      "tes.hdf5:DEBUG event frames: 896 data bytes in 6 frames\n",
      "tes.hdf5:DEBUG MCA frames: 0 data bytes in 0 frames\n",
      "tes.hdf5:DEBUG unidentified frames: 0 bytes in 0 frames\n",
      "tes.hdf5:DEBUG MCA distributions:0  traces:5\n",
      "tes.hdf5:INFO import:pass 2:importing data\n"
     ]
    },
    {
     "ename": "OSError",
     "evalue": "Unable to create file (Unable to truncate a file which is already open)",
     "output_type": "error",
     "traceback": [
      "\u001b[1;31m---------------------------------------------------------------------------\u001b[0m",
      "\u001b[1;31mOSError\u001b[0m                                   Traceback (most recent call last)",
      "\u001b[1;32m<ipython-input-24-07acc2d5788c>\u001b[0m in \u001b[0;36m<module>\u001b[1;34m()\u001b[0m\n\u001b[0;32m      4\u001b[0m \u001b[0mpackets\u001b[0m\u001b[1;33m=\u001b[0m\u001b[0m_PacketData\u001b[0m\u001b[1;33m(\u001b[0m\u001b[0mstream\u001b[0m\u001b[1;33m)\u001b[0m\u001b[1;33m\u001b[0m\u001b[0m\n\u001b[0;32m      5\u001b[0m \u001b[1;32mdel\u001b[0m \u001b[0mstream\u001b[0m\u001b[1;33m\u001b[0m\u001b[0m\n\u001b[1;32m----> 6\u001b[1;33m \u001b[0m_import\u001b[0m\u001b[1;33m(\u001b[0m\u001b[0mpackets\u001b[0m\u001b[1;33m)\u001b[0m\u001b[1;33m\u001b[0m\u001b[0m\n\u001b[0m\u001b[0;32m      7\u001b[0m \u001b[0mh\u001b[0m\u001b[1;33m=\u001b[0m\u001b[0mh5py\u001b[0m\u001b[1;33m.\u001b[0m\u001b[0mFile\u001b[0m\u001b[1;33m(\u001b[0m\u001b[1;34m'TES.hdf5'\u001b[0m\u001b[1;33m,\u001b[0m\u001b[1;34m'r'\u001b[0m\u001b[1;33m)\u001b[0m\u001b[1;33m\u001b[0m\u001b[0m\n",
      "\u001b[1;32mc:\\TES_project\\interface\\python\\tes\\hdf5.py\u001b[0m in \u001b[0;36m_import\u001b[1;34m(data, hdf5_filename)\u001b[0m\n\u001b[0;32m    516\u001b[0m     )\n\u001b[0;32m    517\u001b[0m \u001b[1;33m\u001b[0m\u001b[0m\n\u001b[1;32m--> 518\u001b[1;33m     \u001b[1;32mwith\u001b[0m \u001b[0mh5py\u001b[0m\u001b[1;33m.\u001b[0m\u001b[0mFile\u001b[0m\u001b[1;33m(\u001b[0m\u001b[0mhdf5_filename\u001b[0m\u001b[1;33m,\u001b[0m \u001b[1;34m\"w\"\u001b[0m\u001b[1;33m)\u001b[0m \u001b[1;32mas\u001b[0m \u001b[0mhdf5\u001b[0m\u001b[1;33m:\u001b[0m\u001b[1;33m\u001b[0m\u001b[0m\n\u001b[0m\u001b[0;32m    519\u001b[0m \u001b[1;33m\u001b[0m\u001b[0m\n\u001b[0;32m    520\u001b[0m         \u001b[1;31m# allocation\u001b[0m\u001b[1;33m\u001b[0m\u001b[1;33m\u001b[0m\u001b[0m\n",
      "\u001b[1;32mC:\\Miniconda3\\lib\\site-packages\\h5py\\_hl\\files.py\u001b[0m in \u001b[0;36m__init__\u001b[1;34m(self, name, mode, driver, libver, userblock_size, swmr, **kwds)\u001b[0m\n\u001b[0;32m    270\u001b[0m \u001b[1;33m\u001b[0m\u001b[0m\n\u001b[0;32m    271\u001b[0m                 \u001b[0mfapl\u001b[0m \u001b[1;33m=\u001b[0m \u001b[0mmake_fapl\u001b[0m\u001b[1;33m(\u001b[0m\u001b[0mdriver\u001b[0m\u001b[1;33m,\u001b[0m \u001b[0mlibver\u001b[0m\u001b[1;33m,\u001b[0m \u001b[1;33m**\u001b[0m\u001b[0mkwds\u001b[0m\u001b[1;33m)\u001b[0m\u001b[1;33m\u001b[0m\u001b[0m\n\u001b[1;32m--> 272\u001b[1;33m                 \u001b[0mfid\u001b[0m \u001b[1;33m=\u001b[0m \u001b[0mmake_fid\u001b[0m\u001b[1;33m(\u001b[0m\u001b[0mname\u001b[0m\u001b[1;33m,\u001b[0m \u001b[0mmode\u001b[0m\u001b[1;33m,\u001b[0m \u001b[0muserblock_size\u001b[0m\u001b[1;33m,\u001b[0m \u001b[0mfapl\u001b[0m\u001b[1;33m,\u001b[0m \u001b[0mswmr\u001b[0m\u001b[1;33m=\u001b[0m\u001b[0mswmr\u001b[0m\u001b[1;33m)\u001b[0m\u001b[1;33m\u001b[0m\u001b[0m\n\u001b[0m\u001b[0;32m    273\u001b[0m \u001b[1;33m\u001b[0m\u001b[0m\n\u001b[0;32m    274\u001b[0m                 \u001b[1;32mif\u001b[0m \u001b[0mswmr_support\u001b[0m\u001b[1;33m:\u001b[0m\u001b[1;33m\u001b[0m\u001b[0m\n",
      "\u001b[1;32mC:\\Miniconda3\\lib\\site-packages\\h5py\\_hl\\files.py\u001b[0m in \u001b[0;36mmake_fid\u001b[1;34m(name, mode, userblock_size, fapl, fcpl, swmr)\u001b[0m\n\u001b[0;32m     96\u001b[0m         \u001b[0mfid\u001b[0m \u001b[1;33m=\u001b[0m \u001b[0mh5f\u001b[0m\u001b[1;33m.\u001b[0m\u001b[0mcreate\u001b[0m\u001b[1;33m(\u001b[0m\u001b[0mname\u001b[0m\u001b[1;33m,\u001b[0m \u001b[0mh5f\u001b[0m\u001b[1;33m.\u001b[0m\u001b[0mACC_EXCL\u001b[0m\u001b[1;33m,\u001b[0m \u001b[0mfapl\u001b[0m\u001b[1;33m=\u001b[0m\u001b[0mfapl\u001b[0m\u001b[1;33m,\u001b[0m \u001b[0mfcpl\u001b[0m\u001b[1;33m=\u001b[0m\u001b[0mfcpl\u001b[0m\u001b[1;33m)\u001b[0m\u001b[1;33m\u001b[0m\u001b[0m\n\u001b[0;32m     97\u001b[0m     \u001b[1;32melif\u001b[0m \u001b[0mmode\u001b[0m \u001b[1;33m==\u001b[0m \u001b[1;34m'w'\u001b[0m\u001b[1;33m:\u001b[0m\u001b[1;33m\u001b[0m\u001b[0m\n\u001b[1;32m---> 98\u001b[1;33m         \u001b[0mfid\u001b[0m \u001b[1;33m=\u001b[0m \u001b[0mh5f\u001b[0m\u001b[1;33m.\u001b[0m\u001b[0mcreate\u001b[0m\u001b[1;33m(\u001b[0m\u001b[0mname\u001b[0m\u001b[1;33m,\u001b[0m \u001b[0mh5f\u001b[0m\u001b[1;33m.\u001b[0m\u001b[0mACC_TRUNC\u001b[0m\u001b[1;33m,\u001b[0m \u001b[0mfapl\u001b[0m\u001b[1;33m=\u001b[0m\u001b[0mfapl\u001b[0m\u001b[1;33m,\u001b[0m \u001b[0mfcpl\u001b[0m\u001b[1;33m=\u001b[0m\u001b[0mfcpl\u001b[0m\u001b[1;33m)\u001b[0m\u001b[1;33m\u001b[0m\u001b[0m\n\u001b[0m\u001b[0;32m     99\u001b[0m     \u001b[1;32melif\u001b[0m \u001b[0mmode\u001b[0m \u001b[1;33m==\u001b[0m \u001b[1;34m'a'\u001b[0m\u001b[1;33m:\u001b[0m\u001b[1;33m\u001b[0m\u001b[0m\n\u001b[0;32m    100\u001b[0m         \u001b[1;31m# Open in append mode (read/write).\u001b[0m\u001b[1;33m\u001b[0m\u001b[1;33m\u001b[0m\u001b[0m\n",
      "\u001b[1;32mh5py\\_objects.pyx\u001b[0m in \u001b[0;36mh5py._objects.with_phil.wrapper (C:\\Minonda\\conda-bld\\h5py_1486484495516\\work\\h5py\\_objects.c:2866)\u001b[1;34m()\u001b[0m\n",
      "\u001b[1;32mh5py\\_objects.pyx\u001b[0m in \u001b[0;36mh5py._objects.with_phil.wrapper (C:\\Minonda\\conda-bld\\h5py_1486484495516\\work\\h5py\\_objects.c:2824)\u001b[1;34m()\u001b[0m\n",
      "\u001b[1;32mh5py\\h5f.pyx\u001b[0m in \u001b[0;36mh5py.h5f.create (C:\\Minonda\\conda-bld\\h5py_1486484495516\\work\\h5py\\h5f.c:2279)\u001b[1;34m()\u001b[0m\n",
      "\u001b[1;31mOSError\u001b[0m: Unable to create file (Unable to truncate a file which is already open)"
     ]
    }
   ],
   "source": [
    "import h5py\n",
    "from tes.hdf5 import Trace\n",
    "stream=Data.fromfile('bytestream',stream_dt,'teslib','measurement_subsystem_TB',tool='vivado')\n",
    "packets=_PacketData(stream)\n",
    "del stream\n",
    "_import(packets)\n",
    "h=h5py.File('TES.hdf5','r')"
   ]
  },
  {
   "cell_type": "code",
   "execution_count": 73,
   "metadata": {
    "collapsed": false
   },
   "outputs": [
    {
     "name": "stderr",
     "output_type": "stream",
     "text": [
      "tes.hdf5:DEBUG PacketData: from ndarray\n",
      "tes.hdf5:INFO import:pass 1: calculating sizes for hdf5 pre-allocation\n",
      "tes.hdf5:INFO import:pass 1:found 5920 bytes in 88 frames 0 sequence errors.\n",
      "tes.hdf5:DEBUG tick frames: 312 data bytes in 13 frames\n",
      "tes.hdf5:DEBUG event frames: 4904 data bytes in 75 frames\n",
      "tes.hdf5:DEBUG MCA frames: 0 data bytes in 0 frames\n",
      "tes.hdf5:DEBUG unidentified frames: 0 bytes in 0 frames\n",
      "tes.hdf5:DEBUG MCA distributions:0  traces:8\n",
      "tes.hdf5:INFO import:pass 2:importing data\n"
     ]
    }
   ],
   "source": [
    "h.close()\n",
    "stream=Data.fromfile('bytestream',stream_dt,'teslib','measurement_subsystem_TB',tool='vivado')\n",
    "packets=_PacketData(stream)\n",
    "del stream\n",
    "_import(packets)\n",
    "h=h5py.File('TES.hdf5','r')"
   ]
  },
  {
   "cell_type": "code",
   "execution_count": null,
   "metadata": {
    "collapsed": false
   },
   "outputs": [],
   "source": []
  },
  {
   "cell_type": "code",
   "execution_count": null,
   "metadata": {
    "collapsed": false
   },
   "outputs": [],
   "source": [
    "len(h['traces'])"
   ]
  },
  {
   "cell_type": "code",
   "execution_count": null,
   "metadata": {
    "collapsed": false
   },
   "outputs": [],
   "source": [
    "t=h['raw_data/event'][h['traces'][0]]"
   ]
  },
  {
   "cell_type": "code",
   "execution_count": 74,
   "metadata": {
    "collapsed": false
   },
   "outputs": [
    {
     "name": "stdout",
     "output_type": "stream",
     "text": [
      "1\n",
      "peaks:0\n",
      "rel2min:0\n",
      "channel:0\n",
      "timing:slope_threshold\n",
      "height:cfd_high\n",
      "detection:trace \n",
      " multi_peak:False\n",
      "multi_pulse:False\n",
      "stride:0\n",
      "type:single\n",
      "signal:filtered\n",
      "offset:3\n"
     ]
    },
    {
     "data": {
      "application/javascript": [
       "/* Put everything inside the global mpl namespace */\n",
       "window.mpl = {};\n",
       "\n",
       "\n",
       "mpl.get_websocket_type = function() {\n",
       "    if (typeof(WebSocket) !== 'undefined') {\n",
       "        return WebSocket;\n",
       "    } else if (typeof(MozWebSocket) !== 'undefined') {\n",
       "        return MozWebSocket;\n",
       "    } else {\n",
       "        alert('Your browser does not have WebSocket support.' +\n",
       "              'Please try Chrome, Safari or Firefox ≥ 6. ' +\n",
       "              'Firefox 4 and 5 are also supported but you ' +\n",
       "              'have to enable WebSockets in about:config.');\n",
       "    };\n",
       "}\n",
       "\n",
       "mpl.figure = function(figure_id, websocket, ondownload, parent_element) {\n",
       "    this.id = figure_id;\n",
       "\n",
       "    this.ws = websocket;\n",
       "\n",
       "    this.supports_binary = (this.ws.binaryType != undefined);\n",
       "\n",
       "    if (!this.supports_binary) {\n",
       "        var warnings = document.getElementById(\"mpl-warnings\");\n",
       "        if (warnings) {\n",
       "            warnings.style.display = 'block';\n",
       "            warnings.textContent = (\n",
       "                \"This browser does not support binary websocket messages. \" +\n",
       "                    \"Performance may be slow.\");\n",
       "        }\n",
       "    }\n",
       "\n",
       "    this.imageObj = new Image();\n",
       "\n",
       "    this.context = undefined;\n",
       "    this.message = undefined;\n",
       "    this.canvas = undefined;\n",
       "    this.rubberband_canvas = undefined;\n",
       "    this.rubberband_context = undefined;\n",
       "    this.format_dropdown = undefined;\n",
       "\n",
       "    this.image_mode = 'full';\n",
       "\n",
       "    this.root = $('<div/>');\n",
       "    this._root_extra_style(this.root)\n",
       "    this.root.attr('style', 'display: inline-block');\n",
       "\n",
       "    $(parent_element).append(this.root);\n",
       "\n",
       "    this._init_header(this);\n",
       "    this._init_canvas(this);\n",
       "    this._init_toolbar(this);\n",
       "\n",
       "    var fig = this;\n",
       "\n",
       "    this.waiting = false;\n",
       "\n",
       "    this.ws.onopen =  function () {\n",
       "            fig.send_message(\"supports_binary\", {value: fig.supports_binary});\n",
       "            fig.send_message(\"send_image_mode\", {});\n",
       "            if (mpl.ratio != 1) {\n",
       "                fig.send_message(\"set_dpi_ratio\", {'dpi_ratio': mpl.ratio});\n",
       "            }\n",
       "            fig.send_message(\"refresh\", {});\n",
       "        }\n",
       "\n",
       "    this.imageObj.onload = function() {\n",
       "            if (fig.image_mode == 'full') {\n",
       "                // Full images could contain transparency (where diff images\n",
       "                // almost always do), so we need to clear the canvas so that\n",
       "                // there is no ghosting.\n",
       "                fig.context.clearRect(0, 0, fig.canvas.width, fig.canvas.height);\n",
       "            }\n",
       "            fig.context.drawImage(fig.imageObj, 0, 0);\n",
       "        };\n",
       "\n",
       "    this.imageObj.onunload = function() {\n",
       "        this.ws.close();\n",
       "    }\n",
       "\n",
       "    this.ws.onmessage = this._make_on_message_function(this);\n",
       "\n",
       "    this.ondownload = ondownload;\n",
       "}\n",
       "\n",
       "mpl.figure.prototype._init_header = function() {\n",
       "    var titlebar = $(\n",
       "        '<div class=\"ui-dialog-titlebar ui-widget-header ui-corner-all ' +\n",
       "        'ui-helper-clearfix\"/>');\n",
       "    var titletext = $(\n",
       "        '<div class=\"ui-dialog-title\" style=\"width: 100%; ' +\n",
       "        'text-align: center; padding: 3px;\"/>');\n",
       "    titlebar.append(titletext)\n",
       "    this.root.append(titlebar);\n",
       "    this.header = titletext[0];\n",
       "}\n",
       "\n",
       "\n",
       "\n",
       "mpl.figure.prototype._canvas_extra_style = function(canvas_div) {\n",
       "\n",
       "}\n",
       "\n",
       "\n",
       "mpl.figure.prototype._root_extra_style = function(canvas_div) {\n",
       "\n",
       "}\n",
       "\n",
       "mpl.figure.prototype._init_canvas = function() {\n",
       "    var fig = this;\n",
       "\n",
       "    var canvas_div = $('<div/>');\n",
       "\n",
       "    canvas_div.attr('style', 'position: relative; clear: both; outline: 0');\n",
       "\n",
       "    function canvas_keyboard_event(event) {\n",
       "        return fig.key_event(event, event['data']);\n",
       "    }\n",
       "\n",
       "    canvas_div.keydown('key_press', canvas_keyboard_event);\n",
       "    canvas_div.keyup('key_release', canvas_keyboard_event);\n",
       "    this.canvas_div = canvas_div\n",
       "    this._canvas_extra_style(canvas_div)\n",
       "    this.root.append(canvas_div);\n",
       "\n",
       "    var canvas = $('<canvas/>');\n",
       "    canvas.addClass('mpl-canvas');\n",
       "    canvas.attr('style', \"left: 0; top: 0; z-index: 0; outline: 0\")\n",
       "\n",
       "    this.canvas = canvas[0];\n",
       "    this.context = canvas[0].getContext(\"2d\");\n",
       "\n",
       "    var backingStore = this.context.backingStorePixelRatio ||\n",
       "\tthis.context.webkitBackingStorePixelRatio ||\n",
       "\tthis.context.mozBackingStorePixelRatio ||\n",
       "\tthis.context.msBackingStorePixelRatio ||\n",
       "\tthis.context.oBackingStorePixelRatio ||\n",
       "\tthis.context.backingStorePixelRatio || 1;\n",
       "\n",
       "    mpl.ratio = (window.devicePixelRatio || 1) / backingStore;\n",
       "\n",
       "    var rubberband = $('<canvas/>');\n",
       "    rubberband.attr('style', \"position: absolute; left: 0; top: 0; z-index: 1;\")\n",
       "\n",
       "    var pass_mouse_events = true;\n",
       "\n",
       "    canvas_div.resizable({\n",
       "        start: function(event, ui) {\n",
       "            pass_mouse_events = false;\n",
       "        },\n",
       "        resize: function(event, ui) {\n",
       "            fig.request_resize(ui.size.width, ui.size.height);\n",
       "        },\n",
       "        stop: function(event, ui) {\n",
       "            pass_mouse_events = true;\n",
       "            fig.request_resize(ui.size.width, ui.size.height);\n",
       "        },\n",
       "    });\n",
       "\n",
       "    function mouse_event_fn(event) {\n",
       "        if (pass_mouse_events)\n",
       "            return fig.mouse_event(event, event['data']);\n",
       "    }\n",
       "\n",
       "    rubberband.mousedown('button_press', mouse_event_fn);\n",
       "    rubberband.mouseup('button_release', mouse_event_fn);\n",
       "    // Throttle sequential mouse events to 1 every 20ms.\n",
       "    rubberband.mousemove('motion_notify', mouse_event_fn);\n",
       "\n",
       "    rubberband.mouseenter('figure_enter', mouse_event_fn);\n",
       "    rubberband.mouseleave('figure_leave', mouse_event_fn);\n",
       "\n",
       "    canvas_div.on(\"wheel\", function (event) {\n",
       "        event = event.originalEvent;\n",
       "        event['data'] = 'scroll'\n",
       "        if (event.deltaY < 0) {\n",
       "            event.step = 1;\n",
       "        } else {\n",
       "            event.step = -1;\n",
       "        }\n",
       "        mouse_event_fn(event);\n",
       "    });\n",
       "\n",
       "    canvas_div.append(canvas);\n",
       "    canvas_div.append(rubberband);\n",
       "\n",
       "    this.rubberband = rubberband;\n",
       "    this.rubberband_canvas = rubberband[0];\n",
       "    this.rubberband_context = rubberband[0].getContext(\"2d\");\n",
       "    this.rubberband_context.strokeStyle = \"#000000\";\n",
       "\n",
       "    this._resize_canvas = function(width, height) {\n",
       "        // Keep the size of the canvas, canvas container, and rubber band\n",
       "        // canvas in synch.\n",
       "        canvas_div.css('width', width)\n",
       "        canvas_div.css('height', height)\n",
       "\n",
       "        canvas.attr('width', width * mpl.ratio);\n",
       "        canvas.attr('height', height * mpl.ratio);\n",
       "        canvas.attr('style', 'width: ' + width + 'px; height: ' + height + 'px;');\n",
       "\n",
       "        rubberband.attr('width', width);\n",
       "        rubberband.attr('height', height);\n",
       "    }\n",
       "\n",
       "    // Set the figure to an initial 600x600px, this will subsequently be updated\n",
       "    // upon first draw.\n",
       "    this._resize_canvas(600, 600);\n",
       "\n",
       "    // Disable right mouse context menu.\n",
       "    $(this.rubberband_canvas).bind(\"contextmenu\",function(e){\n",
       "        return false;\n",
       "    });\n",
       "\n",
       "    function set_focus () {\n",
       "        canvas.focus();\n",
       "        canvas_div.focus();\n",
       "    }\n",
       "\n",
       "    window.setTimeout(set_focus, 100);\n",
       "}\n",
       "\n",
       "mpl.figure.prototype._init_toolbar = function() {\n",
       "    var fig = this;\n",
       "\n",
       "    var nav_element = $('<div/>')\n",
       "    nav_element.attr('style', 'width: 100%');\n",
       "    this.root.append(nav_element);\n",
       "\n",
       "    // Define a callback function for later on.\n",
       "    function toolbar_event(event) {\n",
       "        return fig.toolbar_button_onclick(event['data']);\n",
       "    }\n",
       "    function toolbar_mouse_event(event) {\n",
       "        return fig.toolbar_button_onmouseover(event['data']);\n",
       "    }\n",
       "\n",
       "    for(var toolbar_ind in mpl.toolbar_items) {\n",
       "        var name = mpl.toolbar_items[toolbar_ind][0];\n",
       "        var tooltip = mpl.toolbar_items[toolbar_ind][1];\n",
       "        var image = mpl.toolbar_items[toolbar_ind][2];\n",
       "        var method_name = mpl.toolbar_items[toolbar_ind][3];\n",
       "\n",
       "        if (!name) {\n",
       "            // put a spacer in here.\n",
       "            continue;\n",
       "        }\n",
       "        var button = $('<button/>');\n",
       "        button.addClass('ui-button ui-widget ui-state-default ui-corner-all ' +\n",
       "                        'ui-button-icon-only');\n",
       "        button.attr('role', 'button');\n",
       "        button.attr('aria-disabled', 'false');\n",
       "        button.click(method_name, toolbar_event);\n",
       "        button.mouseover(tooltip, toolbar_mouse_event);\n",
       "\n",
       "        var icon_img = $('<span/>');\n",
       "        icon_img.addClass('ui-button-icon-primary ui-icon');\n",
       "        icon_img.addClass(image);\n",
       "        icon_img.addClass('ui-corner-all');\n",
       "\n",
       "        var tooltip_span = $('<span/>');\n",
       "        tooltip_span.addClass('ui-button-text');\n",
       "        tooltip_span.html(tooltip);\n",
       "\n",
       "        button.append(icon_img);\n",
       "        button.append(tooltip_span);\n",
       "\n",
       "        nav_element.append(button);\n",
       "    }\n",
       "\n",
       "    var fmt_picker_span = $('<span/>');\n",
       "\n",
       "    var fmt_picker = $('<select/>');\n",
       "    fmt_picker.addClass('mpl-toolbar-option ui-widget ui-widget-content');\n",
       "    fmt_picker_span.append(fmt_picker);\n",
       "    nav_element.append(fmt_picker_span);\n",
       "    this.format_dropdown = fmt_picker[0];\n",
       "\n",
       "    for (var ind in mpl.extensions) {\n",
       "        var fmt = mpl.extensions[ind];\n",
       "        var option = $(\n",
       "            '<option/>', {selected: fmt === mpl.default_extension}).html(fmt);\n",
       "        fmt_picker.append(option)\n",
       "    }\n",
       "\n",
       "    // Add hover states to the ui-buttons\n",
       "    $( \".ui-button\" ).hover(\n",
       "        function() { $(this).addClass(\"ui-state-hover\");},\n",
       "        function() { $(this).removeClass(\"ui-state-hover\");}\n",
       "    );\n",
       "\n",
       "    var status_bar = $('<span class=\"mpl-message\"/>');\n",
       "    nav_element.append(status_bar);\n",
       "    this.message = status_bar[0];\n",
       "}\n",
       "\n",
       "mpl.figure.prototype.request_resize = function(x_pixels, y_pixels) {\n",
       "    // Request matplotlib to resize the figure. Matplotlib will then trigger a resize in the client,\n",
       "    // which will in turn request a refresh of the image.\n",
       "    this.send_message('resize', {'width': x_pixels, 'height': y_pixels});\n",
       "}\n",
       "\n",
       "mpl.figure.prototype.send_message = function(type, properties) {\n",
       "    properties['type'] = type;\n",
       "    properties['figure_id'] = this.id;\n",
       "    this.ws.send(JSON.stringify(properties));\n",
       "}\n",
       "\n",
       "mpl.figure.prototype.send_draw_message = function() {\n",
       "    if (!this.waiting) {\n",
       "        this.waiting = true;\n",
       "        this.ws.send(JSON.stringify({type: \"draw\", figure_id: this.id}));\n",
       "    }\n",
       "}\n",
       "\n",
       "\n",
       "mpl.figure.prototype.handle_save = function(fig, msg) {\n",
       "    var format_dropdown = fig.format_dropdown;\n",
       "    var format = format_dropdown.options[format_dropdown.selectedIndex].value;\n",
       "    fig.ondownload(fig, format);\n",
       "}\n",
       "\n",
       "\n",
       "mpl.figure.prototype.handle_resize = function(fig, msg) {\n",
       "    var size = msg['size'];\n",
       "    if (size[0] != fig.canvas.width || size[1] != fig.canvas.height) {\n",
       "        fig._resize_canvas(size[0], size[1]);\n",
       "        fig.send_message(\"refresh\", {});\n",
       "    };\n",
       "}\n",
       "\n",
       "mpl.figure.prototype.handle_rubberband = function(fig, msg) {\n",
       "    var x0 = msg['x0'] / mpl.ratio;\n",
       "    var y0 = (fig.canvas.height - msg['y0']) / mpl.ratio;\n",
       "    var x1 = msg['x1'] / mpl.ratio;\n",
       "    var y1 = (fig.canvas.height - msg['y1']) / mpl.ratio;\n",
       "    x0 = Math.floor(x0) + 0.5;\n",
       "    y0 = Math.floor(y0) + 0.5;\n",
       "    x1 = Math.floor(x1) + 0.5;\n",
       "    y1 = Math.floor(y1) + 0.5;\n",
       "    var min_x = Math.min(x0, x1);\n",
       "    var min_y = Math.min(y0, y1);\n",
       "    var width = Math.abs(x1 - x0);\n",
       "    var height = Math.abs(y1 - y0);\n",
       "\n",
       "    fig.rubberband_context.clearRect(\n",
       "        0, 0, fig.canvas.width, fig.canvas.height);\n",
       "\n",
       "    fig.rubberband_context.strokeRect(min_x, min_y, width, height);\n",
       "}\n",
       "\n",
       "mpl.figure.prototype.handle_figure_label = function(fig, msg) {\n",
       "    // Updates the figure title.\n",
       "    fig.header.textContent = msg['label'];\n",
       "}\n",
       "\n",
       "mpl.figure.prototype.handle_cursor = function(fig, msg) {\n",
       "    var cursor = msg['cursor'];\n",
       "    switch(cursor)\n",
       "    {\n",
       "    case 0:\n",
       "        cursor = 'pointer';\n",
       "        break;\n",
       "    case 1:\n",
       "        cursor = 'default';\n",
       "        break;\n",
       "    case 2:\n",
       "        cursor = 'crosshair';\n",
       "        break;\n",
       "    case 3:\n",
       "        cursor = 'move';\n",
       "        break;\n",
       "    }\n",
       "    fig.rubberband_canvas.style.cursor = cursor;\n",
       "}\n",
       "\n",
       "mpl.figure.prototype.handle_message = function(fig, msg) {\n",
       "    fig.message.textContent = msg['message'];\n",
       "}\n",
       "\n",
       "mpl.figure.prototype.handle_draw = function(fig, msg) {\n",
       "    // Request the server to send over a new figure.\n",
       "    fig.send_draw_message();\n",
       "}\n",
       "\n",
       "mpl.figure.prototype.handle_image_mode = function(fig, msg) {\n",
       "    fig.image_mode = msg['mode'];\n",
       "}\n",
       "\n",
       "mpl.figure.prototype.updated_canvas_event = function() {\n",
       "    // Called whenever the canvas gets updated.\n",
       "    this.send_message(\"ack\", {});\n",
       "}\n",
       "\n",
       "// A function to construct a web socket function for onmessage handling.\n",
       "// Called in the figure constructor.\n",
       "mpl.figure.prototype._make_on_message_function = function(fig) {\n",
       "    return function socket_on_message(evt) {\n",
       "        if (evt.data instanceof Blob) {\n",
       "            /* FIXME: We get \"Resource interpreted as Image but\n",
       "             * transferred with MIME type text/plain:\" errors on\n",
       "             * Chrome.  But how to set the MIME type?  It doesn't seem\n",
       "             * to be part of the websocket stream */\n",
       "            evt.data.type = \"image/png\";\n",
       "\n",
       "            /* Free the memory for the previous frames */\n",
       "            if (fig.imageObj.src) {\n",
       "                (window.URL || window.webkitURL).revokeObjectURL(\n",
       "                    fig.imageObj.src);\n",
       "            }\n",
       "\n",
       "            fig.imageObj.src = (window.URL || window.webkitURL).createObjectURL(\n",
       "                evt.data);\n",
       "            fig.updated_canvas_event();\n",
       "            fig.waiting = false;\n",
       "            return;\n",
       "        }\n",
       "        else if (typeof evt.data === 'string' && evt.data.slice(0, 21) == \"data:image/png;base64\") {\n",
       "            fig.imageObj.src = evt.data;\n",
       "            fig.updated_canvas_event();\n",
       "            fig.waiting = false;\n",
       "            return;\n",
       "        }\n",
       "\n",
       "        var msg = JSON.parse(evt.data);\n",
       "        var msg_type = msg['type'];\n",
       "\n",
       "        // Call the  \"handle_{type}\" callback, which takes\n",
       "        // the figure and JSON message as its only arguments.\n",
       "        try {\n",
       "            var callback = fig[\"handle_\" + msg_type];\n",
       "        } catch (e) {\n",
       "            console.log(\"No handler for the '\" + msg_type + \"' message type: \", msg);\n",
       "            return;\n",
       "        }\n",
       "\n",
       "        if (callback) {\n",
       "            try {\n",
       "                // console.log(\"Handling '\" + msg_type + \"' message: \", msg);\n",
       "                callback(fig, msg);\n",
       "            } catch (e) {\n",
       "                console.log(\"Exception inside the 'handler_\" + msg_type + \"' callback:\", e, e.stack, msg);\n",
       "            }\n",
       "        }\n",
       "    };\n",
       "}\n",
       "\n",
       "// from http://stackoverflow.com/questions/1114465/getting-mouse-location-in-canvas\n",
       "mpl.findpos = function(e) {\n",
       "    //this section is from http://www.quirksmode.org/js/events_properties.html\n",
       "    var targ;\n",
       "    if (!e)\n",
       "        e = window.event;\n",
       "    if (e.target)\n",
       "        targ = e.target;\n",
       "    else if (e.srcElement)\n",
       "        targ = e.srcElement;\n",
       "    if (targ.nodeType == 3) // defeat Safari bug\n",
       "        targ = targ.parentNode;\n",
       "\n",
       "    // jQuery normalizes the pageX and pageY\n",
       "    // pageX,Y are the mouse positions relative to the document\n",
       "    // offset() returns the position of the element relative to the document\n",
       "    var x = e.pageX - $(targ).offset().left;\n",
       "    var y = e.pageY - $(targ).offset().top;\n",
       "\n",
       "    return {\"x\": x, \"y\": y};\n",
       "};\n",
       "\n",
       "/*\n",
       " * return a copy of an object with only non-object keys\n",
       " * we need this to avoid circular references\n",
       " * http://stackoverflow.com/a/24161582/3208463\n",
       " */\n",
       "function simpleKeys (original) {\n",
       "  return Object.keys(original).reduce(function (obj, key) {\n",
       "    if (typeof original[key] !== 'object')\n",
       "        obj[key] = original[key]\n",
       "    return obj;\n",
       "  }, {});\n",
       "}\n",
       "\n",
       "mpl.figure.prototype.mouse_event = function(event, name) {\n",
       "    var canvas_pos = mpl.findpos(event)\n",
       "\n",
       "    if (name === 'button_press')\n",
       "    {\n",
       "        this.canvas.focus();\n",
       "        this.canvas_div.focus();\n",
       "    }\n",
       "\n",
       "    var x = canvas_pos.x * mpl.ratio;\n",
       "    var y = canvas_pos.y * mpl.ratio;\n",
       "\n",
       "    this.send_message(name, {x: x, y: y, button: event.button,\n",
       "                             step: event.step,\n",
       "                             guiEvent: simpleKeys(event)});\n",
       "\n",
       "    /* This prevents the web browser from automatically changing to\n",
       "     * the text insertion cursor when the button is pressed.  We want\n",
       "     * to control all of the cursor setting manually through the\n",
       "     * 'cursor' event from matplotlib */\n",
       "    event.preventDefault();\n",
       "    return false;\n",
       "}\n",
       "\n",
       "mpl.figure.prototype._key_event_extra = function(event, name) {\n",
       "    // Handle any extra behaviour associated with a key event\n",
       "}\n",
       "\n",
       "mpl.figure.prototype.key_event = function(event, name) {\n",
       "\n",
       "    // Prevent repeat events\n",
       "    if (name == 'key_press')\n",
       "    {\n",
       "        if (event.which === this._key)\n",
       "            return;\n",
       "        else\n",
       "            this._key = event.which;\n",
       "    }\n",
       "    if (name == 'key_release')\n",
       "        this._key = null;\n",
       "\n",
       "    var value = '';\n",
       "    if (event.ctrlKey && event.which != 17)\n",
       "        value += \"ctrl+\";\n",
       "    if (event.altKey && event.which != 18)\n",
       "        value += \"alt+\";\n",
       "    if (event.shiftKey && event.which != 16)\n",
       "        value += \"shift+\";\n",
       "\n",
       "    value += 'k';\n",
       "    value += event.which.toString();\n",
       "\n",
       "    this._key_event_extra(event, name);\n",
       "\n",
       "    this.send_message(name, {key: value,\n",
       "                             guiEvent: simpleKeys(event)});\n",
       "    return false;\n",
       "}\n",
       "\n",
       "mpl.figure.prototype.toolbar_button_onclick = function(name) {\n",
       "    if (name == 'download') {\n",
       "        this.handle_save(this, null);\n",
       "    } else {\n",
       "        this.send_message(\"toolbar_button\", {name: name});\n",
       "    }\n",
       "};\n",
       "\n",
       "mpl.figure.prototype.toolbar_button_onmouseover = function(tooltip) {\n",
       "    this.message.textContent = tooltip;\n",
       "};\n",
       "mpl.toolbar_items = [[\"Home\", \"Reset original view\", \"fa fa-home icon-home\", \"home\"], [\"Back\", \"Back to  previous view\", \"fa fa-arrow-left icon-arrow-left\", \"back\"], [\"Forward\", \"Forward to next view\", \"fa fa-arrow-right icon-arrow-right\", \"forward\"], [\"\", \"\", \"\", \"\"], [\"Pan\", \"Pan axes with left mouse, zoom with right\", \"fa fa-arrows icon-move\", \"pan\"], [\"Zoom\", \"Zoom to rectangle\", \"fa fa-square-o icon-check-empty\", \"zoom\"], [\"\", \"\", \"\", \"\"], [\"Download\", \"Download plot\", \"fa fa-floppy-o icon-save\", \"download\"]];\n",
       "\n",
       "mpl.extensions = [\"eps\", \"jpeg\", \"pdf\", \"png\", \"ps\", \"raw\", \"svg\", \"tif\"];\n",
       "\n",
       "mpl.default_extension = \"png\";var comm_websocket_adapter = function(comm) {\n",
       "    // Create a \"websocket\"-like object which calls the given IPython comm\n",
       "    // object with the appropriate methods. Currently this is a non binary\n",
       "    // socket, so there is still some room for performance tuning.\n",
       "    var ws = {};\n",
       "\n",
       "    ws.close = function() {\n",
       "        comm.close()\n",
       "    };\n",
       "    ws.send = function(m) {\n",
       "        //console.log('sending', m);\n",
       "        comm.send(m);\n",
       "    };\n",
       "    // Register the callback with on_msg.\n",
       "    comm.on_msg(function(msg) {\n",
       "        //console.log('receiving', msg['content']['data'], msg);\n",
       "        // Pass the mpl event to the overriden (by mpl) onmessage function.\n",
       "        ws.onmessage(msg['content']['data'])\n",
       "    });\n",
       "    return ws;\n",
       "}\n",
       "\n",
       "mpl.mpl_figure_comm = function(comm, msg) {\n",
       "    // This is the function which gets called when the mpl process\n",
       "    // starts-up an IPython Comm through the \"matplotlib\" channel.\n",
       "\n",
       "    var id = msg.content.data.id;\n",
       "    // Get hold of the div created by the display call when the Comm\n",
       "    // socket was opened in Python.\n",
       "    var element = $(\"#\" + id);\n",
       "    var ws_proxy = comm_websocket_adapter(comm)\n",
       "\n",
       "    function ondownload(figure, format) {\n",
       "        window.open(figure.imageObj.src);\n",
       "    }\n",
       "\n",
       "    var fig = new mpl.figure(id, ws_proxy,\n",
       "                           ondownload,\n",
       "                           element.get(0));\n",
       "\n",
       "    // Call onopen now - mpl needs it, as it is assuming we've passed it a real\n",
       "    // web socket which is closed, not our websocket->open comm proxy.\n",
       "    ws_proxy.onopen();\n",
       "\n",
       "    fig.parent_element = element.get(0);\n",
       "    fig.cell_info = mpl.find_output_cell(\"<div id='\" + id + \"'></div>\");\n",
       "    if (!fig.cell_info) {\n",
       "        console.error(\"Failed to find cell for figure\", id, fig);\n",
       "        return;\n",
       "    }\n",
       "\n",
       "    var output_index = fig.cell_info[2]\n",
       "    var cell = fig.cell_info[0];\n",
       "\n",
       "};\n",
       "\n",
       "mpl.figure.prototype.handle_close = function(fig, msg) {\n",
       "    var width = fig.canvas.width/mpl.ratio\n",
       "    fig.root.unbind('remove')\n",
       "\n",
       "    // Update the output cell to use the data from the current canvas.\n",
       "    fig.push_to_output();\n",
       "    var dataURL = fig.canvas.toDataURL();\n",
       "    // Re-enable the keyboard manager in IPython - without this line, in FF,\n",
       "    // the notebook keyboard shortcuts fail.\n",
       "    IPython.keyboard_manager.enable()\n",
       "    $(fig.parent_element).html('<img src=\"' + dataURL + '\" width=\"' + width + '\">');\n",
       "    fig.close_ws(fig, msg);\n",
       "}\n",
       "\n",
       "mpl.figure.prototype.close_ws = function(fig, msg){\n",
       "    fig.send_message('closing', msg);\n",
       "    // fig.ws.close()\n",
       "}\n",
       "\n",
       "mpl.figure.prototype.push_to_output = function(remove_interactive) {\n",
       "    // Turn the data on the canvas into data in the output cell.\n",
       "    var width = this.canvas.width/mpl.ratio\n",
       "    var dataURL = this.canvas.toDataURL();\n",
       "    this.cell_info[1]['text/html'] = '<img src=\"' + dataURL + '\" width=\"' + width + '\">';\n",
       "}\n",
       "\n",
       "mpl.figure.prototype.updated_canvas_event = function() {\n",
       "    // Tell IPython that the notebook contents must change.\n",
       "    IPython.notebook.set_dirty(true);\n",
       "    this.send_message(\"ack\", {});\n",
       "    var fig = this;\n",
       "    // Wait a second, then push the new image to the DOM so\n",
       "    // that it is saved nicely (might be nice to debounce this).\n",
       "    setTimeout(function () { fig.push_to_output() }, 1000);\n",
       "}\n",
       "\n",
       "mpl.figure.prototype._init_toolbar = function() {\n",
       "    var fig = this;\n",
       "\n",
       "    var nav_element = $('<div/>')\n",
       "    nav_element.attr('style', 'width: 100%');\n",
       "    this.root.append(nav_element);\n",
       "\n",
       "    // Define a callback function for later on.\n",
       "    function toolbar_event(event) {\n",
       "        return fig.toolbar_button_onclick(event['data']);\n",
       "    }\n",
       "    function toolbar_mouse_event(event) {\n",
       "        return fig.toolbar_button_onmouseover(event['data']);\n",
       "    }\n",
       "\n",
       "    for(var toolbar_ind in mpl.toolbar_items){\n",
       "        var name = mpl.toolbar_items[toolbar_ind][0];\n",
       "        var tooltip = mpl.toolbar_items[toolbar_ind][1];\n",
       "        var image = mpl.toolbar_items[toolbar_ind][2];\n",
       "        var method_name = mpl.toolbar_items[toolbar_ind][3];\n",
       "\n",
       "        if (!name) { continue; };\n",
       "\n",
       "        var button = $('<button class=\"btn btn-default\" href=\"#\" title=\"' + name + '\"><i class=\"fa ' + image + ' fa-lg\"></i></button>');\n",
       "        button.click(method_name, toolbar_event);\n",
       "        button.mouseover(tooltip, toolbar_mouse_event);\n",
       "        nav_element.append(button);\n",
       "    }\n",
       "\n",
       "    // Add the status bar.\n",
       "    var status_bar = $('<span class=\"mpl-message\" style=\"text-align:right; float: right;\"/>');\n",
       "    nav_element.append(status_bar);\n",
       "    this.message = status_bar[0];\n",
       "\n",
       "    // Add the close button to the window.\n",
       "    var buttongrp = $('<div class=\"btn-group inline pull-right\"></div>');\n",
       "    var button = $('<button class=\"btn btn-mini btn-primary\" href=\"#\" title=\"Stop Interaction\"><i class=\"fa fa-power-off icon-remove icon-large\"></i></button>');\n",
       "    button.click(function (evt) { fig.handle_close(fig, {}); } );\n",
       "    button.mouseover('Stop Interaction', toolbar_mouse_event);\n",
       "    buttongrp.append(button);\n",
       "    var titlebar = this.root.find($('.ui-dialog-titlebar'));\n",
       "    titlebar.prepend(buttongrp);\n",
       "}\n",
       "\n",
       "mpl.figure.prototype._root_extra_style = function(el){\n",
       "    var fig = this\n",
       "    el.on(\"remove\", function(){\n",
       "\tfig.close_ws(fig, {});\n",
       "    });\n",
       "}\n",
       "\n",
       "mpl.figure.prototype._canvas_extra_style = function(el){\n",
       "    // this is important to make the div 'focusable\n",
       "    el.attr('tabindex', 0)\n",
       "    // reach out to IPython and tell the keyboard manager to turn it's self\n",
       "    // off when our div gets focus\n",
       "\n",
       "    // location in version 3\n",
       "    if (IPython.notebook.keyboard_manager) {\n",
       "        IPython.notebook.keyboard_manager.register_events(el);\n",
       "    }\n",
       "    else {\n",
       "        // location in version 2\n",
       "        IPython.keyboard_manager.register_events(el);\n",
       "    }\n",
       "\n",
       "}\n",
       "\n",
       "mpl.figure.prototype._key_event_extra = function(event, name) {\n",
       "    var manager = IPython.notebook.keyboard_manager;\n",
       "    if (!manager)\n",
       "        manager = IPython.keyboard_manager;\n",
       "\n",
       "    // Check for shift+enter\n",
       "    if (event.shiftKey && event.which == 13) {\n",
       "        this.canvas_div.blur();\n",
       "        // select the cell after this one\n",
       "        var index = IPython.notebook.find_cell_index(this.cell_info[0]);\n",
       "        IPython.notebook.select(index + 1);\n",
       "    }\n",
       "}\n",
       "\n",
       "mpl.figure.prototype.handle_save = function(fig, msg) {\n",
       "    fig.ondownload(fig, null);\n",
       "}\n",
       "\n",
       "\n",
       "mpl.find_output_cell = function(html_output) {\n",
       "    // Return the cell and output element which can be found *uniquely* in the notebook.\n",
       "    // Note - this is a bit hacky, but it is done because the \"notebook_saving.Notebook\"\n",
       "    // IPython event is triggered only after the cells have been serialised, which for\n",
       "    // our purposes (turning an active figure into a static one), is too late.\n",
       "    var cells = IPython.notebook.get_cells();\n",
       "    var ncells = cells.length;\n",
       "    for (var i=0; i<ncells; i++) {\n",
       "        var cell = cells[i];\n",
       "        if (cell.cell_type === 'code'){\n",
       "            for (var j=0; j<cell.output_area.outputs.length; j++) {\n",
       "                var data = cell.output_area.outputs[j];\n",
       "                if (data.data) {\n",
       "                    // IPython >= 3 moved mimebundle to data attribute of output\n",
       "                    data = data.data;\n",
       "                }\n",
       "                if (data['text/html'] == html_output) {\n",
       "                    return [cell, data, j];\n",
       "                }\n",
       "            }\n",
       "        }\n",
       "    }\n",
       "}\n",
       "\n",
       "// Register the function which deals with the matplotlib target/channel.\n",
       "// The kernel may be null if the page has been refreshed.\n",
       "if (IPython.notebook.kernel != null) {\n",
       "    IPython.notebook.kernel.comm_manager.register_target('matplotlib', mpl.mpl_figure_comm);\n",
       "}\n"
      ],
      "text/plain": [
       "<IPython.core.display.Javascript object>"
      ]
     },
     "metadata": {},
     "output_type": "display_data"
    },
    {
     "data": {
      "text/html": [
       "<img src=\"data:image/png;base64,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\" width=\"640\">"
      ],
      "text/plain": [
       "<IPython.core.display.HTML object>"
      ]
     },
     "metadata": {},
     "output_type": "display_data"
    },
    {
     "data": {
      "text/plain": [
       "[<matplotlib.lines.Line2D at 0x218bec88>]"
      ]
     },
     "execution_count": 74,
     "metadata": {},
     "output_type": "execute_result"
    }
   ],
   "source": [
    "%matplotlib notebook\n",
    "t=h['raw_data/event'][h['traces'][6]]\n",
    "tr=Trace(t)\n",
    "print(tr.flags,'\\n',tr.trace_flags)\n",
    "plt.plot(tr.samples)"
   ]
  },
  {
   "cell_type": "code",
   "execution_count": null,
   "metadata": {
    "collapsed": false
   },
   "outputs": [],
   "source": [
    "tr"
   ]
  },
  {
   "cell_type": "code",
   "execution_count": null,
   "metadata": {
    "collapsed": false
   },
   "outputs": [],
   "source": [
    "s=str(tr.flags)\n",
    "s"
   ]
  },
  {
   "cell_type": "code",
   "execution_count": null,
   "metadata": {
    "collapsed": false
   },
   "outputs": [],
   "source": [
    "print(s)"
   ]
  },
  {
   "cell_type": "code",
   "execution_count": null,
   "metadata": {
    "collapsed": false
   },
   "outputs": [],
   "source": [
    "type(h['raw_data/event'][h['traces'][0]])"
   ]
  },
  {
   "cell_type": "code",
   "execution_count": null,
   "metadata": {
    "collapsed": true
   },
   "outputs": [],
   "source": [
    "from tes.hdf5 import Trace"
   ]
  },
  {
   "cell_type": "code",
   "execution_count": null,
   "metadata": {
    "collapsed": false
   },
   "outputs": [],
   "source": [
    "tr.flags"
   ]
  },
  {
   "cell_type": "code",
   "execution_count": null,
   "metadata": {
    "collapsed": false
   },
   "outputs": [],
   "source": [
    "tr.trace_flags"
   ]
  },
  {
   "cell_type": "code",
   "execution_count": null,
   "metadata": {
    "collapsed": false
   },
   "outputs": [],
   "source": [
    "%matplotlib notebook\n",
    "plt.plot(tr.samples)"
   ]
  },
  {
   "cell_type": "code",
   "execution_count": null,
   "metadata": {
    "collapsed": false
   },
   "outputs": [],
   "source": [
    "len(tr.samples)"
   ]
  },
  {
   "cell_type": "code",
   "execution_count": null,
   "metadata": {
    "collapsed": false
   },
   "outputs": [],
   "source": [
    "first_dt = np.dtype([('size', np.uint16), ('tflags0', np.uint8), ('tflags1', np.uint8),\n",
    "        ('flags0', np.uint8), ('flags1', np.uint8), ('time', np.uint16)])\n",
    "\n"
   ]
  },
  {
   "cell_type": "code",
   "execution_count": null,
   "metadata": {
    "collapsed": false
   },
   "outputs": [],
   "source": []
  },
  {
   "cell_type": "code",
   "execution_count": null,
   "metadata": {
    "collapsed": false
   },
   "outputs": [],
   "source": [
    "t[0:8].view(first_dt)"
   ]
  },
  {
   "cell_type": "code",
   "execution_count": null,
   "metadata": {
    "collapsed": true
   },
   "outputs": [],
   "source": []
  },
  {
   "cell_type": "code",
   "execution_count": null,
   "metadata": {
    "collapsed": false
   },
   "outputs": [],
   "source": [
    "_rref = h5py.special_dtype(ref=h5py.RegionReference)\n",
    "h=h5py.File('test.hdf5', 'w')"
   ]
  },
  {
   "cell_type": "code",
   "execution_count": null,
   "metadata": {
    "collapsed": false
   },
   "outputs": [],
   "source": [
    "h.close()"
   ]
  },
  {
   "cell_type": "code",
   "execution_count": null,
   "metadata": {
    "collapsed": false
   },
   "outputs": [],
   "source": [
    "t= np.array((10,),'u1')\n",
    "h.create_dataset('t',(10,),dtype='u1')"
   ]
  },
  {
   "cell_type": "code",
   "execution_count": null,
   "metadata": {
    "collapsed": false
   },
   "outputs": [],
   "source": [
    "h.create_dataset('r',(10,),dtype=_rref)"
   ]
  },
  {
   "cell_type": "code",
   "execution_count": null,
   "metadata": {
    "collapsed": false
   },
   "outputs": [],
   "source": [
    "h.create_dataset('s',(10,),dtype='u1')"
   ]
  },
  {
   "cell_type": "code",
   "execution_count": null,
   "metadata": {
    "collapsed": true
   },
   "outputs": [],
   "source": [
    "h['s'][0]=0\n",
    "h['s'][1]=1"
   ]
  },
  {
   "cell_type": "code",
   "execution_count": null,
   "metadata": {
    "collapsed": false
   },
   "outputs": [],
   "source": [
    "h['r'][0]=h['t'].regionref[0:2]"
   ]
  },
  {
   "cell_type": "code",
   "execution_count": null,
   "metadata": {
    "collapsed": true
   },
   "outputs": [],
   "source": [
    "r=h['r'][0]"
   ]
  },
  {
   "cell_type": "code",
   "execution_count": null,
   "metadata": {
    "collapsed": false
   },
   "outputs": [],
   "source": [
    "t= np.array([0,1,2],'u1')"
   ]
  },
  {
   "cell_type": "code",
   "execution_count": null,
   "metadata": {
    "collapsed": false
   },
   "outputs": [],
   "source": [
    "t = [0,1]\n",
    "\n",
    "f = np.uint64(0)\n",
    "print(type(f))\n",
    "f += len(t)\n",
    "print(type(f))"
   ]
  },
  {
   "cell_type": "code",
   "execution_count": null,
   "metadata": {
    "collapsed": false
   },
   "outputs": [],
   "source": [
    "t[0:1][0]"
   ]
  },
  {
   "cell_type": "code",
   "execution_count": null,
   "metadata": {
    "collapsed": false
   },
   "outputs": [],
   "source": [
    "i=0\n",
    "for p in packets:\n",
    "    if i==7:\n",
    "        break\n",
    "    i+=1"
   ]
  },
  {
   "cell_type": "code",
   "execution_count": null,
   "metadata": {
    "collapsed": false
   },
   "outputs": [],
   "source": [
    "p"
   ]
  },
  {
   "cell_type": "code",
   "execution_count": null,
   "metadata": {
    "collapsed": true
   },
   "outputs": [],
   "source": [
    "lasts = np.where(stream['last'] < 0)[0] + 1"
   ]
  },
  {
   "cell_type": "code",
   "execution_count": null,
   "metadata": {
    "collapsed": false
   },
   "outputs": [],
   "source": [
    "lasts"
   ]
  },
  {
   "cell_type": "code",
   "execution_count": null,
   "metadata": {
    "collapsed": false
   },
   "outputs": [],
   "source": [
    "'last' in stream.dtype.names"
   ]
  },
  {
   "cell_type": "code",
   "execution_count": null,
   "metadata": {
    "collapsed": false
   },
   "outputs": [],
   "source": [
    "isinstance(stream,np.ndarray)"
   ]
  },
  {
   "cell_type": "code",
   "execution_count": null,
   "metadata": {
    "collapsed": false
   },
   "outputs": [],
   "source": [
    "type('poo')"
   ]
  },
  {
   "cell_type": "code",
   "execution_count": null,
   "metadata": {
    "collapsed": false
   },
   "outputs": [],
   "source": [
    "stream[lasts[0]:]"
   ]
  },
  {
   "cell_type": "code",
   "execution_count": null,
   "metadata": {
    "collapsed": false
   },
   "outputs": [],
   "source": [
    "ps=PacketStream(stream)\n",
    "# ps.traces"
   ]
  },
  {
   "cell_type": "code",
   "execution_count": null,
   "metadata": {
    "collapsed": false
   },
   "outputs": [],
   "source": [
    "type(ps[0])"
   ]
  },
  {
   "cell_type": "code",
   "execution_count": null,
   "metadata": {
    "collapsed": false
   },
   "outputs": [],
   "source": [
    "sum(stream['last']<0)"
   ]
  },
  {
   "cell_type": "code",
   "execution_count": null,
   "metadata": {
    "collapsed": false
   },
   "outputs": [],
   "source": [
    "%matplotlib notebook\n",
    "\n",
    "plt.plot(ps.traces[3]._view['trace'])\n",
    "# ps.traces[2]._view['trace'][-20:]"
   ]
  },
  {
   "cell_type": "code",
   "execution_count": null,
   "metadata": {
    "collapsed": false
   },
   "outputs": [],
   "source": [
    "ps.traces"
   ]
  },
  {
   "cell_type": "code",
   "execution_count": null,
   "metadata": {
    "collapsed": false,
    "run_control": {
     "frozen": false,
     "read_only": false
    },
    "scrolled": true
   },
   "outputs": [],
   "source": [
    "traces=Data.fromfile('traces',trace_dt,'teslib','measurement_subsystem_TB',tool='vivado')\n",
    "stream=Data.fromfile('bytestream',stream_dt,'teslib','measurement_subsystem_TB',tool='vivado')\n",
    "bs=PacketStream(stream)\n",
    "dists=bs.distributions\n",
    "#bs.packets\n",
    "dists"
   ]
  },
  {
   "cell_type": "code",
   "execution_count": null,
   "metadata": {
    "collapsed": false
   },
   "outputs": [],
   "source": [
    "d=dists[0]\n",
    "d.counts[-1]"
   ]
  },
  {
   "cell_type": "code",
   "execution_count": null,
   "metadata": {
    "collapsed": false
   },
   "outputs": [],
   "source": [
    "d.total+d.underflow+d.overflow"
   ]
  },
  {
   "cell_type": "code",
   "execution_count": null,
   "metadata": {
    "collapsed": false
   },
   "outputs": [],
   "source": [
    "%matplotlib notebook\n",
    "plt.plot(d.bins)"
   ]
  },
  {
   "cell_type": "code",
   "execution_count": null,
   "metadata": {
    "collapsed": false,
    "scrolled": false
   },
   "outputs": [],
   "source": [
    "f=EventFlags(es[2][2]['flags'])\n",
    "f.channel"
   ]
  },
  {
   "cell_type": "code",
   "execution_count": null,
   "metadata": {
    "collapsed": false,
    "run_control": {
     "frozen": false,
     "read_only": false
    },
    "scrolled": true
   },
   "outputs": [],
   "source": [
    "import tes.mca as mca\n",
    "d=bs.distributions[0]\n",
    "eset=np.uint64(1)\n",
    "bset=np.uint64(0)\n",
    "cset=np.uint64(20)\n",
    "\n",
    "stop=d.stop_time+eset+cset\n",
    "start=d.start_time+bset+cset\n",
    "bins=np.zeros((d.last_bin+1,),dtype=np.uint32)\n",
    "\n",
    "if d.value==mca.Value.raw_signal:\n",
    "    tname='raw'\n",
    "elif d.value==mca.Value.filtered_signal:\n",
    "    tname='filtered'\n",
    "elif d.value==mca.Value.slope_signal:\n",
    "    tname='slope'\n",
    "\n",
    "for i in range(start,stop):\n",
    "    s = traces[tname][i]\n",
    "    if s < d.lowest_value:\n",
    "        bins[0] += 1\n",
    "    else:\n",
    "        bin_number = s - d.lowest_value + 1\n",
    "        if bin_number < d.last_bin:\n",
    "            bins[bin_number] += 1\n",
    "        else:\n",
    "            bins[d.last_bin] += 1\n",
    "        \n",
    "bad=(bins-d.counts).nonzero()\n",
    "bad"
   ]
  },
  {
   "cell_type": "code",
   "execution_count": null,
   "metadata": {
    "collapsed": false
   },
   "outputs": [],
   "source": [
    "d.counts[bad][1:10]"
   ]
  },
  {
   "cell_type": "code",
   "execution_count": null,
   "metadata": {
    "collapsed": false
   },
   "outputs": [],
   "source": [
    "bins[bad][1:10]"
   ]
  },
  {
   "cell_type": "code",
   "execution_count": null,
   "metadata": {
    "collapsed": false
   },
   "outputs": [],
   "source": [
    "d.value"
   ]
  },
  {
   "cell_type": "code",
   "execution_count": null,
   "metadata": {
    "collapsed": false,
    "scrolled": false
   },
   "outputs": [],
   "source": [
    "%matplotlib notebook\n",
    "plt.step(np.arange(len(d.bins)),d.bins)\n",
    "# plt.step(np.arange(len(d.counts)),bins)\n",
    "plt.plot(bad,np.zeros_like(bad),'.k')"
   ]
  },
  {
   "cell_type": "code",
   "execution_count": null,
   "metadata": {
    "collapsed": false
   },
   "outputs": [],
   "source": [
    "sum(d.counts)"
   ]
  },
  {
   "cell_type": "code",
   "execution_count": null,
   "metadata": {
    "collapsed": false
   },
   "outputs": [],
   "source": [
    "2**14+2000"
   ]
  },
  {
   "cell_type": "code",
   "execution_count": null,
   "metadata": {
    "collapsed": false,
    "run_control": {
     "frozen": false,
     "read_only": false
    }
   },
   "outputs": [],
   "source": [
    "def plot_event(event_tupple):\n",
    "    pre=200\n",
    "    post=1000\n",
    "    timestamp=event_tupple[0]\n",
    "    event_type=event_tupple[1]\n",
    "    event=event_tupple[2]\n",
    "    flags=EventFlags(event['flags'])\n",
    "    print(flags)\n",
    "    print('timestamp',timestamp, 'time', event['time'])\n",
    "    if flags.type == Event.tick:\n",
    "        return\n",
    "    s=traces['filtered'][timestamp+20-pre:timestamp+20+post]\n",
    "    r=traces['raw'][timestamp+20-pre:timestamp+20+post]\n",
    "    i = np.where(abs(minmax['clk'])<=timestamp+20)[0][-1]\n",
    "    min_t=abs(minmax['clk'][i])-(timestamp+20)\n",
    "#     print(minmax['clk'][i],min_t,i,timestamp)\n",
    "    plt.plot(r,'k',linewidth=0.5)\n",
    "    plt.plot(s,'b',linewidth=2)\n",
    "    plt.plot([pre],s[pre],'sg')\n",
    "    plt.plot([pre+min_t],minmax['filtered'][i],'sr')\n",
    "    if event_type==Event.pulse:\n",
    "        for i in range(flags.peak_number):\n",
    "            p=event['peaks'][i]\n",
    "            plt.plot([0,len(s)-1],[p['height'],p['height']],':r')\n",
    "    else:\n",
    "      plt.plot([0,len(s)-1],[event['height'],event['height']],':r')\n",
    "        \n",
    "    #print(event['height'],event['minima'])\n",
    "    #print(minmax['filtered'][i]==s[pre+min_t])\n",
    "    #print(minmax['filtered'][i]==event['minima'])\n",
    "    #print(s[pre],s[pre-1])"
   ]
  },
  {
   "cell_type": "code",
   "execution_count": null,
   "metadata": {
    "collapsed": false,
    "run_control": {
     "frozen": false,
     "read_only": false
    }
   },
   "outputs": [],
   "source": [
    "pwd"
   ]
  },
  {
   "cell_type": "code",
   "execution_count": null,
   "metadata": {
    "collapsed": false
   },
   "outputs": [],
   "source": [
    "es=bs.eventstream\n",
    "es"
   ]
  },
  {
   "cell_type": "code",
   "execution_count": null,
   "metadata": {
    "collapsed": false,
    "run_control": {
     "frozen": false,
     "read_only": false
    }
   },
   "outputs": [],
   "source": [
    "%matplotlib notebook\n",
    "for e in es:\n",
    "    if e[1]==Event.peak:\n",
    "        plot_event(e)"
   ]
  },
  {
   "cell_type": "code",
   "execution_count": null,
   "metadata": {
    "collapsed": false,
    "run_control": {
     "frozen": false,
     "read_only": false
    }
   },
   "outputs": [],
   "source": [
    "es"
   ]
  },
  {
   "cell_type": "code",
   "execution_count": null,
   "metadata": {
    "collapsed": false,
    "run_control": {
     "frozen": false,
     "read_only": false
    }
   },
   "outputs": [],
   "source": [
    "dists=bs.distributions\n",
    "dists"
   ]
  },
  {
   "cell_type": "code",
   "execution_count": null,
   "metadata": {
    "collapsed": false,
    "run_control": {
     "frozen": false,
     "read_only": false
    }
   },
   "outputs": [],
   "source": [
    "bs.packets[185].payload"
   ]
  },
  {
   "cell_type": "code",
   "execution_count": null,
   "metadata": {
    "collapsed": false,
    "run_control": {
     "frozen": false,
     "read_only": false
    }
   },
   "outputs": [],
   "source": [
    "d=bs.distributions[0]\n",
    "eset=np.uint64(1)\n",
    "bset=np.uint64(0)\n",
    "cset=np.uint64(20)\n",
    "\n",
    "stop=d.stop_time+eset+cset\n",
    "start=d.start_time+bset+cset\n",
    "bins=np.zeros((d.last_bin+1,),dtype=np.uint32)\n",
    "for i in range(start,stop):\n",
    "    s = traces['raw'][i]\n",
    "    if s <= d.lowest_value:\n",
    "        bins[0] += 1\n",
    "    else:\n",
    "        bins[s-d.lowest_value] += 1\n",
    "        \n",
    "(bins-d.counts).nonzero()"
   ]
  },
  {
   "cell_type": "code",
   "execution_count": null,
   "metadata": {
    "collapsed": false,
    "run_control": {
     "frozen": false,
     "read_only": false
    }
   },
   "outputs": [],
   "source": [
    "%matplotlib notebook\n",
    "plt.step(np.arange(len(d.counts)),d.counts)"
   ]
  },
  {
   "cell_type": "code",
   "execution_count": null,
   "metadata": {
    "collapsed": false,
    "run_control": {
     "frozen": false,
     "read_only": false
    }
   },
   "outputs": [],
   "source": [
    "bins[bins.nonzero()]"
   ]
  },
  {
   "cell_type": "code",
   "execution_count": null,
   "metadata": {
    "collapsed": false,
    "run_control": {
     "frozen": false,
     "read_only": false
    }
   },
   "outputs": [],
   "source": [
    "sum(d.counts)"
   ]
  },
  {
   "cell_type": "code",
   "execution_count": null,
   "metadata": {
    "collapsed": false,
    "run_control": {
     "frozen": false,
     "read_only": false
    }
   },
   "outputs": [],
   "source": [
    "2**14+2000"
   ]
  },
  {
   "cell_type": "code",
   "execution_count": null,
   "metadata": {
    "collapsed": false,
    "run_control": {
     "frozen": false,
     "read_only": false
    }
   },
   "outputs": [],
   "source": [
    "es[3][2]['timestamp']-es[0][2]['timestamp']"
   ]
  },
  {
   "cell_type": "code",
   "execution_count": null,
   "metadata": {
    "collapsed": true,
    "run_control": {
     "frozen": false,
     "read_only": false
    }
   },
   "outputs": [],
   "source": [
    "def xings(s, thresh):\n",
    "    pos=s > thresh\n",
    "    neg=s < thresh\n",
    "    pos0=s >= thresh\n",
    "    neg0=s <= thresh\n",
    "    pos_xing_mask = np.bitwise_and(pos0[1:],neg[0:-1])  \n",
    "    neg_xing_mask = np.bitwise_and(neg0[1:],pos[0:-1])  \n",
    "    return pos_xing_mask.nonzero()[0]+1, neg_xing_mask.nonzero()[0]+1"
   ]
  },
  {
   "cell_type": "code",
   "execution_count": null,
   "metadata": {
    "collapsed": true,
    "run_control": {
     "frozen": false,
     "read_only": false
    }
   },
   "outputs": [],
   "source": [
    "from mpl_toolkits.axes_grid1 import host_subplot\n",
    "\n",
    "def plot_trace(traces,start,width):\n",
    "\n",
    "    ax = host_subplot(111)\n",
    "    axr = ax.twinx()\n",
    "    axt = ax.twiny()\n",
    "#ax.plot(t[0:-1:10],s[0:-1:10],'k')\n",
    "#ax.plot(t,s,'k')\n",
    "    axt.set_xlabel('Time ns',fontsize=18)\n",
    "    ax.set_ylabel('Voltage (Arbitary Units)',fontsize=18)\n",
    "#plt.xticks(visible=False)\n",
    "#plt.yticks(visible=False)\n",
    "#ax.set_xlim(0,t[4000000])\n",
    "#start=902000\n",
    "#width=2500\n",
    "    f=traces['filtered'][start:start+width]\n",
    "    s=traces['slope'][start:start+width]\n",
    "    t=np.arange(len(f))*4e-9\n",
    "#ts=t[pstart:pstop]\n",
    "#axins = fig.add_axes([.4, .45, .45, .4])\n",
    "    ax.set_xlim(t[0],t[-1])\n",
    "    axt.set_xlim(t[0],t[-1])\n",
    "\n",
    "    ylim=(-500,2000)\n",
    "\n",
    "    ax.set_ylim(ylim[0],ylim[1])\n",
    "    axr.set_ylim(ylim[0],ylim[1])\n",
    "\n",
    "    filtered, = ax.step(t,f,'k',lw=2,label='filtered')\n",
    "    slope, = ax.step(t,s,'b',label='slope')\n",
    "    ax.fill_between(t,0,s,alpha=.4)\n",
    "    plt.ylim=ylim\n",
    "\n",
    "pos=s>0\n",
    "neg=s<=0\n",
    "pos_xing_mask = np.bitwise_and(pos[1:-1],neg[0:-2])  \n",
    "neg_xing_mask = np.bitwise_and(neg[1:-1],pos[0:-2])  \n",
    "pos_xing=pos_xing_mask.nonzero()\n",
    "neg_xing=neg_xing_mask.nonzero()\n",
    "\n",
    "rx=[t[pos_xing[0][0]], t[neg_xing[0][0]]]\n",
    "ry=[f[pos_xing[0][0]], f[neg_xing[0][0]]]\n",
    "\n",
    "ax.fill_between(t[pos_xing[0][0]:neg_xing[0][0]],0,s[pos_xing[0][0]:neg_xing[0][0]],alpha=.4,color='r')\n",
    "\n",
    "#plt.plot(rx,[ry[0], ry[0]],'-r',lw=2)\n",
    "#plt.plot([rx[1],rx[1]], ry,'-r',lw=2)\n",
    "# thresholds\n",
    "sthresh = 600\n",
    "pthresh = 1000\n",
    "plt.plot([t[0], t[-1]], [sthresh, sthresh], '--b', lw=2)\n",
    "plt.plot([t[0], t[-1]], [pthresh, pthresh], '--k', lw=2)\n",
    "\n",
    "sthresh_xing=(s>sthresh).nonzero()[0][0]\n",
    "pthresh_xing=(f>pthresh).nonzero()[0][0]\n",
    "\n",
    "\n",
    "cf=.10\n",
    "height = ry[1]-ry[0]\n",
    "cfl=ry[0]+(height*cf)\n",
    "cfh=ry[1]-(height*cf)\n",
    "\n",
    "cfl_xing=(f>cfl).nonzero()[0][0]\n",
    "cfd_low=f[cfl_xing]\n",
    "cfh_xing=(f>cfh).nonzero()[0][0]\n",
    "cfd_high=f[cfh_xing]\n",
    "\n",
    "#plt.plot([t[cfl_xing], t[-1]],[cfd_low, cfd_low], ':r')\n",
    "#plt.plot([t[cfh_xing], t[-1]],[cfd_high, cfd_high], ':r')\n",
    "#plt.plot([x[1], t[-1]],[y[1], y[1]], ':r')\n",
    "plt.legend([filtered, slope],['Signal', 'Slope'],loc=2)\n",
    "\n",
    "#axr = ax.twinx()\n",
    "##################################################################\n",
    "#yticks=([ry[0],sthresh,pthresh,cfd_high,ry[1]])\n",
    "yticks=([sthresh,pthresh])\n",
    "axr.set_yticks(yticks)\n",
    "#yticklabels=['Start','Slope threshold','Pulse threshold','CF high','Peak']\n",
    "yticklabels=['Slope threshold','Pulse threshold']\n",
    "axr.set_yticklabels(yticklabels, color='r',fontsize=14)\n",
    "axr.get_yticklabels()[0].set_color('b')\n",
    "axr.get_yticklabels()[1].set_color('k')\n",
    "\n",
    "#xticks=([rx[0],t[cfl_xing],t[sthresh_xing],t[pthresh_xing],rx[1]])\n",
    "xticks=(t[cfl_xing],rx[1])\n",
    "#ax.set_xticks([rx[0],t[cfl_xing],t[sthresh_xing],t[pthresh_xing],rx[1]])\n",
    "ax.set_xticks(xticks)\n",
    "#xticklabels=['Start','CF low','Slope xing','Signal xing','Peak']\n",
    "xticklabels=['CF low','Peak']\n",
    "ax.set_xticklabels(xticklabels, color='r',fontsize=14)\n",
    "\n",
    "#plt.plot([t[cfh_xing], t[-1]],[cfd_high, cfd_high], ':r')\n",
    "#horoz start, stop lines\n",
    "#hpeak=ax.plot([xticks[1], t[-1]],[yticks[-1], yticks[-1]], '-.r')\n",
    "#hstart=ax.plot([xticks[0], t[-1]],[yticks[0], yticks[0]], '-.r')\n",
    "#vert start stop\n",
    "vstart=ax.plot([xticks[0], xticks[0]],[cfd_low, ylim[0]], '-.r')\n",
    "vpeak=ax.plot([xticks[1], xticks[1]],[ylim[0], ry[1]], '-.r')\n",
    "\n",
    "plt.tight_layout()\n",
    "plt.savefig('..//peakextraction7.svg')\n",
    "plt.show()\n",
    "print('risetime:',(xticks[1]-xticks[0])/4)\n",
    "print('height:',yticks[-1]-yticks[0])\n",
    "print('time:',(xticks[0]-rx[0])/4)\n",
    "print('area',sum(s[pos_xing[0][0]:neg_xing[0][0]])/256)\n"
   ]
  },
  {
   "cell_type": "code",
   "execution_count": null,
   "metadata": {
    "collapsed": true,
    "run_control": {
     "frozen": false,
     "read_only": false
    }
   },
   "outputs": [],
   "source": [
    "slope_0xings = xings(traces['slope'],0)"
   ]
  },
  {
   "cell_type": "code",
   "execution_count": null,
   "metadata": {
    "collapsed": false,
    "run_control": {
     "frozen": false,
     "read_only": false
    }
   },
   "outputs": [],
   "source": [
    "slope_0xings"
   ]
  },
  {
   "cell_type": "code",
   "execution_count": null,
   "metadata": {
    "collapsed": false,
    "run_control": {
     "frozen": false,
     "read_only": false
    }
   },
   "outputs": [],
   "source": [
    "%matplotlib notebook\n",
    "start=10000\n",
    "width=300\n",
    "plt.plot(traces['filtered'][start:start+width]/2)"
   ]
  },
  {
   "cell_type": "code",
   "execution_count": null,
   "metadata": {
    "collapsed": false,
    "run_control": {
     "frozen": false,
     "read_only": false
    }
   },
   "outputs": [],
   "source": [
    "%matplotlib notebook\n",
    "plt.plot(traces['slope'][20400:21700])"
   ]
  },
  {
   "cell_type": "code",
   "execution_count": null,
   "metadata": {
    "collapsed": false,
    "run_control": {
     "frozen": false,
     "read_only": false
    }
   },
   "outputs": [],
   "source": [
    "filtered=traces['filtered'][1100:]\n",
    "filteredL=traces['filteredL'][1100:]"
   ]
  },
  {
   "cell_type": "code",
   "execution_count": null,
   "metadata": {
    "collapsed": false,
    "run_control": {
     "frozen": false,
     "read_only": false
    }
   },
   "outputs": [],
   "source": [
    "filtered[:10]"
   ]
  },
  {
   "cell_type": "code",
   "execution_count": null,
   "metadata": {
    "collapsed": false,
    "run_control": {
     "frozen": false,
     "read_only": false
    }
   },
   "outputs": [],
   "source": [
    "filteredL[:10]/4"
   ]
  },
  {
   "cell_type": "code",
   "execution_count": null,
   "metadata": {
    "collapsed": false,
    "run_control": {
     "frozen": false,
     "read_only": false
    }
   },
   "outputs": [],
   "source": [
    "minmax_dt=np.dtype([('filtered','i4'),('low','i4'),('high','i4'),('clk','i4')])\n",
    "minmax=Data.fromfile('minmax',minmax_dt,'teslib','measurement_subsystem_TB',tool='vivado')\n",
    "fxing_dt=np.dtype([('extrema','i4'),('area','i4'),('clk','i4')])\n",
    "fxing=Data.fromfile('filteredxing',fxing_dt,'teslib','measurement_subsystem_TB',tool='vivado')"
   ]
  },
  {
   "cell_type": "code",
   "execution_count": null,
   "metadata": {
    "collapsed": false,
    "run_control": {
     "frozen": false,
     "read_only": false
    }
   },
   "outputs": [],
   "source": [
    "minmax"
   ]
  },
  {
   "cell_type": "code",
   "execution_count": null,
   "metadata": {
    "collapsed": false,
    "run_control": {
     "frozen": false,
     "read_only": false
    }
   },
   "outputs": [],
   "source": [
    "fxing"
   ]
  },
  {
   "cell_type": "code",
   "execution_count": null,
   "metadata": {
    "collapsed": false,
    "run_control": {
     "frozen": false,
     "read_only": false
    }
   },
   "outputs": [],
   "source": [
    "np.where(fxing['area']==0)"
   ]
  },
  {
   "cell_type": "code",
   "execution_count": null,
   "metadata": {
    "collapsed": false,
    "run_control": {
     "frozen": false,
     "read_only": false
    }
   },
   "outputs": [],
   "source": [
    "np.where(fxing['extrema']==0)"
   ]
  },
  {
   "cell_type": "code",
   "execution_count": null,
   "metadata": {
    "collapsed": false,
    "run_control": {
     "frozen": false,
     "read_only": false
    }
   },
   "outputs": [],
   "source": [
    "fxing[30]"
   ]
  },
  {
   "cell_type": "code",
   "execution_count": null,
   "metadata": {
    "collapsed": false,
    "run_control": {
     "frozen": false,
     "read_only": false
    }
   },
   "outputs": [],
   "source": [
    "exn=np.where(fxing['extrema']<0)\n",
    "clkn=np.where(fxing['clk']>0)"
   ]
  },
  {
   "cell_type": "code",
   "execution_count": null,
   "metadata": {
    "collapsed": true,
    "run_control": {
     "frozen": false,
     "read_only": false
    }
   },
   "outputs": [],
   "source": []
  },
  {
   "cell_type": "code",
   "execution_count": null,
   "metadata": {
    "collapsed": false,
    "run_control": {
     "frozen": false,
     "read_only": false
    }
   },
   "outputs": [],
   "source": [
    "fxing[374]"
   ]
  },
  {
   "cell_type": "code",
   "execution_count": null,
   "metadata": {
    "collapsed": false,
    "run_control": {
     "frozen": false,
     "read_only": false
    }
   },
   "outputs": [],
   "source": [
    "clkn"
   ]
  },
  {
   "cell_type": "code",
   "execution_count": null,
   "metadata": {
    "collapsed": false,
    "run_control": {
     "frozen": false,
     "read_only": false
    }
   },
   "outputs": [],
   "source": [
    "np.where(minmax[maxs[0]-1]['min']!=1)"
   ]
  },
  {
   "cell_type": "code",
   "execution_count": null,
   "metadata": {
    "collapsed": false,
    "run_control": {
     "frozen": false,
     "read_only": false
    }
   },
   "outputs": [],
   "source": [
    "minmax[maxs[0]-1][65]"
   ]
  },
  {
   "cell_type": "code",
   "execution_count": null,
   "metadata": {
    "collapsed": false,
    "run_control": {
     "frozen": false,
     "read_only": false
    }
   },
   "outputs": [],
   "source": [
    "2290-925"
   ]
  },
  {
   "cell_type": "code",
   "execution_count": null,
   "metadata": {
    "collapsed": false,
    "run_control": {
     "frozen": false,
     "read_only": false
    }
   },
   "outputs": [],
   "source": [
    "0.375*4"
   ]
  },
  {
   "cell_type": "code",
   "execution_count": null,
   "metadata": {
    "collapsed": false,
    "run_control": {
     "frozen": false,
     "read_only": false
    }
   },
   "outputs": [],
   "source": [
    "np.where(minmax['clock']==2290)"
   ]
  },
  {
   "cell_type": "code",
   "execution_count": null,
   "metadata": {
    "collapsed": false,
    "run_control": {
     "frozen": false,
     "read_only": false
    }
   },
   "outputs": [],
   "source": [
    "minmax[120:140]"
   ]
  },
  {
   "cell_type": "code",
   "execution_count": null,
   "metadata": {
    "collapsed": false,
    "run_control": {
     "frozen": false,
     "read_only": false
    }
   },
   "outputs": [],
   "source": [
    "stream_dt=np.dtype([('data','>i4'),('last','i4')])\n",
    "#stream=np.fromfile('data/stream',stream_dt)"
   ]
  },
  {
   "cell_type": "markdown",
   "metadata": {},
   "source": [
    "### bytestream stuff"
   ]
  },
  {
   "cell_type": "code",
   "execution_count": null,
   "metadata": {
    "collapsed": false,
    "run_control": {
     "frozen": false,
     "read_only": false
    }
   },
   "outputs": [],
   "source": [
    "stream_dt=np.dtype([('data','i4'),('last','i4')])\n",
    "stream=Data.fromfile('bytestream',stream_dt,'teslib','measurement_subsystem_TB',tool='vivado')\n",
    "lasts=np.where(stream['last']<=0)[0]+1\n",
    "#data=np.copy(stream['data'])"
   ]
  },
  {
   "cell_type": "code",
   "execution_count": null,
   "metadata": {
    "collapsed": false,
    "run_control": {
     "frozen": false,
     "read_only": false
    }
   },
   "outputs": [],
   "source": [
    "stream"
   ]
  },
  {
   "cell_type": "code",
   "execution_count": null,
   "metadata": {
    "collapsed": true,
    "run_control": {
     "frozen": false,
     "read_only": false
    }
   },
   "outputs": [],
   "source": []
  },
  {
   "cell_type": "code",
   "execution_count": null,
   "metadata": {
    "collapsed": true,
    "run_control": {
     "frozen": false,
     "read_only": false
    }
   },
   "outputs": [],
   "source": [
    "stream=np.fromfile('data/bytestream',stream_dt)"
   ]
  },
  {
   "cell_type": "code",
   "execution_count": null,
   "metadata": {
    "collapsed": false,
    "run_control": {
     "frozen": false,
     "read_only": false
    }
   },
   "outputs": [],
   "source": [
    "bs=PacketStream(stream)"
   ]
  },
  {
   "cell_type": "code",
   "execution_count": null,
   "metadata": {
    "collapsed": false,
    "run_control": {
     "frozen": false,
     "read_only": false
    }
   },
   "outputs": [],
   "source": [
    "bs.packets"
   ]
  },
  {
   "cell_type": "code",
   "execution_count": null,
   "metadata": {
    "collapsed": false,
    "run_control": {
     "frozen": false,
     "read_only": false
    }
   },
   "outputs": [],
   "source": [
    "bs.packets[4]"
   ]
  },
  {
   "cell_type": "code",
   "execution_count": null,
   "metadata": {
    "collapsed": true,
    "run_control": {
     "frozen": false,
     "read_only": false
    }
   },
   "outputs": [],
   "source": [
    "eheader_dt=[('etype','<u2'),('length','u2'),()]"
   ]
  },
  {
   "cell_type": "code",
   "execution_count": null,
   "metadata": {
    "collapsed": false,
    "run_control": {
     "frozen": false,
     "read_only": false
    }
   },
   "outputs": [],
   "source": [
    "'{:X}'.format(bs.packets[1].bytes[23])\n"
   ]
  },
  {
   "cell_type": "code",
   "execution_count": null,
   "metadata": {
    "collapsed": false,
    "run_control": {
     "frozen": false,
     "read_only": false
    }
   },
   "outputs": [],
   "source": [
    "'{:X}'.format(bs.packets[0].bytes[28:30].view(np.uint16)[0])"
   ]
  },
  {
   "cell_type": "code",
   "execution_count": null,
   "metadata": {
    "collapsed": true,
    "run_control": {
     "frozen": false,
     "read_only": false
    }
   },
   "outputs": [],
   "source": [
    "pulse_peak_dt=np.dtype([('height','i2'),('rise','i2'),('minima','u2'),('time','i2')])\n",
    "pulse_dt=np.dtype([('size','i2'),('resv','i2'),('flags','i2'),('time','u2'),\n",
    "                  ('area','i4'),('length','i2'),('offset','i2'),('peaks',(pulse_peak_dt,2))])"
   ]
  },
  {
   "cell_type": "code",
   "execution_count": null,
   "metadata": {
    "collapsed": false,
    "run_control": {
     "frozen": false,
     "read_only": false
    }
   },
   "outputs": [],
   "source": [
    "pulses=bs.packets[3].payload.view(pulse_dt)"
   ]
  },
  {
   "cell_type": "code",
   "execution_count": null,
   "metadata": {
    "collapsed": false,
    "run_control": {
     "frozen": false,
     "read_only": false
    }
   },
   "outputs": [],
   "source": [
    "pulses['peaks']"
   ]
  },
  {
   "cell_type": "code",
   "execution_count": null,
   "metadata": {
    "collapsed": false,
    "run_control": {
     "frozen": false,
     "read_only": false
    }
   },
   "outputs": [],
   "source": [
    "pulses['offset']"
   ]
  },
  {
   "cell_type": "code",
   "execution_count": null,
   "metadata": {
    "collapsed": false,
    "run_control": {
     "frozen": false,
     "read_only": false
    }
   },
   "outputs": [],
   "source": [
    "pulses['length']"
   ]
  },
  {
   "cell_type": "code",
   "execution_count": null,
   "metadata": {
    "collapsed": false,
    "run_control": {
     "frozen": false,
     "read_only": false
    }
   },
   "outputs": [],
   "source": [
    "class eflags:\n",
    "    def __init__(self,uint16):\n",
    "        self.new_window=np.bitwise_and(uint16,0x00000001)!=0\n",
    "        self.tick=np.bitwise_and(uint16,0x00000002)!=0\n",
    "        self.type=np.right_shift(np.bitwise_and(uint16,0x0000000c),2)\n",
    "        \n",
    "    def __repr__(self):\n",
    "        return 'New window:{:}\\n'.format(self.new_window) + \\\n",
    "               'Tick:{:}\\n'.format(self.tick) + \\\n",
    "               'Type:{:}\\n'.format(self.type) "
   ]
  },
  {
   "cell_type": "code",
   "execution_count": null,
   "metadata": {
    "collapsed": false,
    "run_control": {
     "frozen": false,
     "read_only": false
    }
   },
   "outputs": [],
   "source": [
    "f=eflags(pulses[0]['flags'])\n",
    "f"
   ]
  },
  {
   "cell_type": "code",
   "execution_count": null,
   "metadata": {
    "collapsed": false,
    "run_control": {
     "frozen": false,
     "read_only": false
    }
   },
   "outputs": [],
   "source": [
    "'{:X}'.format(bs.packets[3].bytes[13:14].view(np.uint16))"
   ]
  },
  {
   "cell_type": "code",
   "execution_count": null,
   "metadata": {
    "collapsed": true,
    "run_control": {
     "frozen": false,
     "read_only": false
    }
   },
   "outputs": [],
   "source": []
  },
  {
   "cell_type": "code",
   "execution_count": null,
   "metadata": {
    "collapsed": false,
    "run_control": {
     "frozen": false,
     "read_only": false
    }
   },
   "outputs": [],
   "source": [
    "'{:X}'.format(bs.packets[3].bytes[14:16].view(np.uint16)[0])"
   ]
  },
  {
   "cell_type": "code",
   "execution_count": null,
   "metadata": {
    "collapsed": false,
    "run_control": {
     "frozen": false,
     "read_only": false
    }
   },
   "outputs": [],
   "source": [
    "bs.packets[3].bytes[14:16].view(np.uint16)[0]"
   ]
  },
  {
   "cell_type": "code",
   "execution_count": null,
   "metadata": {
    "collapsed": false,
    "run_control": {
     "frozen": false,
     "read_only": false
    }
   },
   "outputs": [],
   "source": [
    "bs=np.uint8(stream['data'][:48])"
   ]
  },
  {
   "cell_type": "code",
   "execution_count": null,
   "metadata": {
    "collapsed": false,
    "run_control": {
     "frozen": false,
     "read_only": false
    }
   },
   "outputs": [],
   "source": [
    "bs"
   ]
  },
  {
   "cell_type": "code",
   "execution_count": null,
   "metadata": {
    "collapsed": false,
    "run_control": {
     "frozen": false,
     "read_only": false
    }
   },
   "outputs": [],
   "source": [
    "events=stream['data'].view(event_dt)"
   ]
  },
  {
   "cell_type": "code",
   "execution_count": null,
   "metadata": {
    "collapsed": false,
    "run_control": {
     "frozen": false,
     "read_only": false
    }
   },
   "outputs": [],
   "source": [
    "'{:X}'.format(events['flags'][0])"
   ]
  },
  {
   "cell_type": "code",
   "execution_count": null,
   "metadata": {
    "collapsed": false,
    "run_control": {
     "frozen": false,
     "read_only": false
    }
   },
   "outputs": [],
   "source": [
    "events['rise']"
   ]
  },
  {
   "cell_type": "code",
   "execution_count": null,
   "metadata": {
    "collapsed": false,
    "run_control": {
     "frozen": false,
     "read_only": false
    }
   },
   "outputs": [],
   "source": [
    "events"
   ]
  },
  {
   "cell_type": "code",
   "execution_count": null,
   "metadata": {
    "collapsed": false,
    "run_control": {
     "frozen": false,
     "read_only": false
    }
   },
   "outputs": [],
   "source": [
    "'{:04X}'.format(events['flags'][1])"
   ]
  },
  {
   "cell_type": "code",
   "execution_count": null,
   "metadata": {
    "collapsed": true,
    "run_control": {
     "frozen": false,
     "read_only": false
    }
   },
   "outputs": [],
   "source": [
    "pulse_peak_dt=np.dtype([('time','>i2'),('minima','>i2'),('rise','>u2'),('height','>i2')])\n",
    "pulse_dt=np.dtype([('time','>i2'),('flags','>i2'),('resv','>i2'),('size','>u2'),\n",
    "                  ('offset','>i2'),('length','>i2'),('area','>i4'),('peaks',(pulse_peak_dt,1))])\n",
    "data=np.copy(stream['data'])"
   ]
  },
  {
   "cell_type": "code",
   "execution_count": null,
   "metadata": {
    "collapsed": false,
    "run_control": {
     "frozen": false,
     "read_only": false
    }
   },
   "outputs": [],
   "source": [
    "pulses=data.view(pulse_dt)"
   ]
  },
  {
   "cell_type": "code",
   "execution_count": null,
   "metadata": {
    "collapsed": false,
    "run_control": {
     "frozen": false,
     "read_only": false
    }
   },
   "outputs": [],
   "source": [
    "pulses['peaks']['height']-pulses['peaks']['minima']"
   ]
  },
  {
   "cell_type": "code",
   "execution_count": null,
   "metadata": {
    "collapsed": false,
    "run_control": {
     "frozen": false,
     "read_only": false
    }
   },
   "outputs": [],
   "source": [
    "pulses['peaks']['minima']"
   ]
  },
  {
   "cell_type": "code",
   "execution_count": null,
   "metadata": {
    "collapsed": false,
    "run_control": {
     "frozen": false,
     "read_only": false
    }
   },
   "outputs": [],
   "source": [
    "peak_count=np.right_shift(np.bitwise_and(pulses['flags'],0xF000),12)\n",
    "peak_overflow=np.bitwise_and(pulses['flags'],0x0800)!=0\n",
    "channel=np.right_shift(np.bitwise_and(pulses['flags'],0x0700),8)\n",
    "timing_type=np.right_shift(np.bitwise_and(pulses['flags'],0x00C0),6)\n",
    "height_type=np.right_shift(np.bitwise_and(pulses['flags'],0x0030),4)\n",
    "event_type=np.right_shift(np.bitwise_and(pulses['flags'],0x000E),1)\n",
    "new_window=np.bitwise_and(pulses['flags'],0x0001)!=0"
   ]
  },
  {
   "cell_type": "code",
   "execution_count": null,
   "metadata": {
    "collapsed": false,
    "run_control": {
     "frozen": false,
     "read_only": false
    }
   },
   "outputs": [],
   "source": [
    "peak_overflow"
   ]
  },
  {
   "cell_type": "code",
   "execution_count": null,
   "metadata": {
    "collapsed": true,
    "run_control": {
     "frozen": false,
     "read_only": false
    }
   },
   "outputs": [],
   "source": [
    "test_dt=np.dtype(\n",
    "    [('time','i2'),('flags','i2'),('rise','u2'),('minima','i2'),('low','u8'),('high','u8')]\n",
    ")\n",
    "test=data.view(test_dt)"
   ]
  },
  {
   "cell_type": "code",
   "execution_count": null,
   "metadata": {
    "collapsed": false,
    "run_control": {
     "frozen": false,
     "read_only": false
    }
   },
   "outputs": [],
   "source": [
    "test"
   ]
  },
  {
   "cell_type": "code",
   "execution_count": null,
   "metadata": {
    "collapsed": false,
    "run_control": {
     "frozen": false,
     "read_only": false
    }
   },
   "outputs": [],
   "source": [
    "test['minima']"
   ]
  },
  {
   "cell_type": "code",
   "execution_count": null,
   "metadata": {
    "collapsed": false,
    "run_control": {
     "frozen": false,
     "read_only": false
    }
   },
   "outputs": [],
   "source": [
    "low1=np.int32(np.right_shift(np.bitwise_and(test['low'],0x03FFFF000000000),36))\n",
    "s=(np.bitwise_and(low1,0x00020000)!=0)*0xFFFC0000\n",
    "low2=np.int32(np.right_shift(np.bitwise_and(test['low'],0x000000FFFFC0000),18))\n",
    "low_threshold=np.int32(np.bitwise_and(test['low'],0x00000000003FFFF))\n",
    "high1=np.int32(np.right_shift(np.bitwise_and(test['high'],0x03FFFF000000000),36))\n",
    "high2=np.int32(np.right_shift(np.bitwise_and(test['high'],0x000000FFFFC0000),18))\n",
    "high_threshold=np.int32(np.bitwise_and(test['high'],0x00000000003FFFF))"
   ]
  },
  {
   "cell_type": "code",
   "execution_count": null,
   "metadata": {
    "collapsed": false,
    "run_control": {
     "frozen": false,
     "read_only": false
    }
   },
   "outputs": [],
   "source": [
    "np.int32(np.bitwise_or(low1,s))/8.0"
   ]
  },
  {
   "cell_type": "code",
   "execution_count": null,
   "metadata": {
    "collapsed": false,
    "run_control": {
     "frozen": false,
     "read_only": false
    }
   },
   "outputs": [],
   "source": [
    "'{:04X}'.format(low1[0])"
   ]
  },
  {
   "cell_type": "code",
   "execution_count": null,
   "metadata": {
    "collapsed": false,
    "run_control": {
     "frozen": false,
     "read_only": false
    }
   },
   "outputs": [],
   "source": [
    "high1/8.0"
   ]
  },
  {
   "cell_type": "code",
   "execution_count": null,
   "metadata": {
    "collapsed": false,
    "run_control": {
     "frozen": false,
     "read_only": false
    }
   },
   "outputs": [],
   "source": [
    "high2/8.0"
   ]
  },
  {
   "cell_type": "code",
   "execution_count": null,
   "metadata": {
    "collapsed": false,
    "run_control": {
     "frozen": false,
     "read_only": false
    }
   },
   "outputs": [],
   "source": [
    "'{:04X}'.format(high_threshold[0])"
   ]
  },
  {
   "cell_type": "code",
   "execution_count": null,
   "metadata": {
    "collapsed": false,
    "run_control": {
     "frozen": false,
     "read_only": false
    }
   },
   "outputs": [],
   "source": [
    "from enum import Enum"
   ]
  },
  {
   "cell_type": "code",
   "execution_count": null,
   "metadata": {
    "collapsed": false,
    "run_control": {
     "frozen": false,
     "read_only": false
    }
   },
   "outputs": [],
   "source": [
    "class VhdlEnum(int, Enum):\n",
    "\n",
    "    def __str__(self):\n",
    "        return self.name.replace(\"-\", \" \")\n",
    "    \n",
    "    def select(self):\n",
    "        return pow(2, self.value)\n",
    "    "
   ]
  },
  {
   "cell_type": "code",
   "execution_count": null,
   "metadata": {
    "collapsed": false,
    "run_control": {
     "frozen": false,
     "read_only": false
    }
   },
   "outputs": [],
   "source": [
    "class Test(VhdlEnum):\n",
    "    a=0\n",
    "    b=1"
   ]
  },
  {
   "cell_type": "code",
   "execution_count": null,
   "metadata": {
    "collapsed": false,
    "run_control": {
     "frozen": false,
     "read_only": false
    }
   },
   "outputs": [],
   "source": [
    "Test(0)"
   ]
  },
  {
   "cell_type": "code",
   "execution_count": null,
   "metadata": {
    "collapsed": true,
    "run_control": {
     "frozen": false,
     "read_only": false
    }
   },
   "outputs": [],
   "source": []
  }
 ],
 "metadata": {
  "anaconda-cloud": {},
  "kernelspec": {
   "display_name": "Python [conda root]",
   "language": "python",
   "name": "conda-root-py"
  },
  "language_info": {
   "codemirror_mode": {
    "name": "ipython",
    "version": 3
   },
   "file_extension": ".py",
   "mimetype": "text/x-python",
   "name": "python",
   "nbconvert_exporter": "python",
   "pygments_lexer": "ipython3",
   "version": "3.5.3"
  }
 },
 "nbformat": 4,
 "nbformat_minor": 1
}
