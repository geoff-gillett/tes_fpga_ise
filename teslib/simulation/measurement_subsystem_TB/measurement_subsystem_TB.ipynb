{
 "cells": [
  {
   "cell_type": "markdown",
   "metadata": {},
   "source": [
    "clk=timestamp+19\n",
    "\n",
    "traces start at clk 1"
   ]
  },
  {
   "cell_type": "code",
   "execution_count": 1,
   "metadata": {
    "collapsed": false
   },
   "outputs": [],
   "source": [
    "from tes.data import Data,PacketStream,Packet,PayloadType,EventFlags,Event\n",
    "import numpy as np\n",
    "import matplotlib.pyplot as plt"
   ]
  },
  {
   "cell_type": "code",
   "execution_count": 2,
   "metadata": {
    "collapsed": false
   },
   "outputs": [],
   "source": [
    "trace_dt=np.dtype([('raw','i4'),('filtered','i4'),('slope','i4'),('filteredL','i4')])\n",
    "stream_dt=np.dtype([('data','i4'),('last','i4')])\n",
    "minmax_dt=np.dtype([('filtered','i4'),('low_threshold','i4'),('high_threshold','i4'),('clk','i4')])\n",
    "cfd_dt=np.dtype('i4')\n",
    "filteredxing_dt=np.dtype([('extrema','i4'),('area','i4'),('clk','i4')])"
   ]
  },
  {
   "cell_type": "code",
   "execution_count": 57,
   "metadata": {
    "collapsed": false
   },
   "outputs": [],
   "source": [
    "traces=np.fromfile('data/traces',trace_dt)\n",
    "stream=np.fromfile('data/bytestream',stream_dt)\n",
    "minmax=np.fromfile('data/minmax',minmax_dt)\n",
    "cfd=np.fromfile('data/cfd',cfd_dt)\n",
    "filteredxing=np.fromfile('data/filteredxing',filteredxing_dt)"
   ]
  },
  {
   "cell_type": "code",
   "execution_count": 3,
   "metadata": {
    "collapsed": false
   },
   "outputs": [],
   "source": [
    "traces=Data.fromfile('traces',trace_dt,'teslib','measurement_subsystem_TB',tool='vivado')\n",
    "stream=Data.fromfile('bytestream',stream_dt,'teslib','measurement_subsystem_TB',tool='vivado')\n",
    "minmax=Data.fromfile('minmax',minmax_dt,'teslib','measurement_subsystem_TB',tool='vivado')\n",
    "cfd=Data.fromfile('cfd',cfd_dt,'teslib','measurement_subsystem_TB',tool='vivado')\n",
    "filteredxing=Data.fromfile('filteredxing',cfd_dt,'teslib','measurement_subsystem_TB',tool='vivado')"
   ]
  },
  {
   "cell_type": "code",
   "execution_count": 8,
   "metadata": {
    "collapsed": false
   },
   "outputs": [
    {
     "data": {
      "application/javascript": [
       "/* Put everything inside the global mpl namespace */\n",
       "window.mpl = {};\n",
       "\n",
       "mpl.get_websocket_type = function() {\n",
       "    if (typeof(WebSocket) !== 'undefined') {\n",
       "        return WebSocket;\n",
       "    } else if (typeof(MozWebSocket) !== 'undefined') {\n",
       "        return MozWebSocket;\n",
       "    } else {\n",
       "        alert('Your browser does not have WebSocket support.' +\n",
       "              'Please try Chrome, Safari or Firefox ≥ 6. ' +\n",
       "              'Firefox 4 and 5 are also supported but you ' +\n",
       "              'have to enable WebSockets in about:config.');\n",
       "    };\n",
       "}\n",
       "\n",
       "mpl.figure = function(figure_id, websocket, ondownload, parent_element) {\n",
       "    this.id = figure_id;\n",
       "\n",
       "    this.ws = websocket;\n",
       "\n",
       "    this.supports_binary = (this.ws.binaryType != undefined);\n",
       "\n",
       "    if (!this.supports_binary) {\n",
       "        var warnings = document.getElementById(\"mpl-warnings\");\n",
       "        if (warnings) {\n",
       "            warnings.style.display = 'block';\n",
       "            warnings.textContent = (\n",
       "                \"This browser does not support binary websocket messages. \" +\n",
       "                    \"Performance may be slow.\");\n",
       "        }\n",
       "    }\n",
       "\n",
       "    this.imageObj = new Image();\n",
       "\n",
       "    this.context = undefined;\n",
       "    this.message = undefined;\n",
       "    this.canvas = undefined;\n",
       "    this.rubberband_canvas = undefined;\n",
       "    this.rubberband_context = undefined;\n",
       "    this.format_dropdown = undefined;\n",
       "\n",
       "    this.image_mode = 'full';\n",
       "\n",
       "    this.root = $('<div/>');\n",
       "    this._root_extra_style(this.root)\n",
       "    this.root.attr('style', 'display: inline-block');\n",
       "\n",
       "    $(parent_element).append(this.root);\n",
       "\n",
       "    this._init_header(this);\n",
       "    this._init_canvas(this);\n",
       "    this._init_toolbar(this);\n",
       "\n",
       "    var fig = this;\n",
       "\n",
       "    this.waiting = false;\n",
       "\n",
       "    this.ws.onopen =  function () {\n",
       "            fig.send_message(\"supports_binary\", {value: fig.supports_binary});\n",
       "            fig.send_message(\"send_image_mode\", {});\n",
       "            fig.send_message(\"refresh\", {});\n",
       "        }\n",
       "\n",
       "    this.imageObj.onload = function() {\n",
       "            if (fig.image_mode == 'full') {\n",
       "                // Full images could contain transparency (where diff images\n",
       "                // almost always do), so we need to clear the canvas so that\n",
       "                // there is no ghosting.\n",
       "                fig.context.clearRect(0, 0, fig.canvas.width, fig.canvas.height);\n",
       "            }\n",
       "            fig.context.drawImage(fig.imageObj, 0, 0);\n",
       "        };\n",
       "\n",
       "    this.imageObj.onunload = function() {\n",
       "        this.ws.close();\n",
       "    }\n",
       "\n",
       "    this.ws.onmessage = this._make_on_message_function(this);\n",
       "\n",
       "    this.ondownload = ondownload;\n",
       "}\n",
       "\n",
       "mpl.figure.prototype._init_header = function() {\n",
       "    var titlebar = $(\n",
       "        '<div class=\"ui-dialog-titlebar ui-widget-header ui-corner-all ' +\n",
       "        'ui-helper-clearfix\"/>');\n",
       "    var titletext = $(\n",
       "        '<div class=\"ui-dialog-title\" style=\"width: 100%; ' +\n",
       "        'text-align: center; padding: 3px;\"/>');\n",
       "    titlebar.append(titletext)\n",
       "    this.root.append(titlebar);\n",
       "    this.header = titletext[0];\n",
       "}\n",
       "\n",
       "\n",
       "\n",
       "mpl.figure.prototype._canvas_extra_style = function(canvas_div) {\n",
       "\n",
       "}\n",
       "\n",
       "\n",
       "mpl.figure.prototype._root_extra_style = function(canvas_div) {\n",
       "\n",
       "}\n",
       "\n",
       "mpl.figure.prototype._init_canvas = function() {\n",
       "    var fig = this;\n",
       "\n",
       "    var canvas_div = $('<div/>');\n",
       "\n",
       "    canvas_div.attr('style', 'position: relative; clear: both; outline: 0');\n",
       "\n",
       "    function canvas_keyboard_event(event) {\n",
       "        return fig.key_event(event, event['data']);\n",
       "    }\n",
       "\n",
       "    canvas_div.keydown('key_press', canvas_keyboard_event);\n",
       "    canvas_div.keyup('key_release', canvas_keyboard_event);\n",
       "    this.canvas_div = canvas_div\n",
       "    this._canvas_extra_style(canvas_div)\n",
       "    this.root.append(canvas_div);\n",
       "\n",
       "    var canvas = $('<canvas/>');\n",
       "    canvas.addClass('mpl-canvas');\n",
       "    canvas.attr('style', \"left: 0; top: 0; z-index: 0; outline: 0\")\n",
       "\n",
       "    this.canvas = canvas[0];\n",
       "    this.context = canvas[0].getContext(\"2d\");\n",
       "\n",
       "    var rubberband = $('<canvas/>');\n",
       "    rubberband.attr('style', \"position: absolute; left: 0; top: 0; z-index: 1;\")\n",
       "\n",
       "    var pass_mouse_events = true;\n",
       "\n",
       "    canvas_div.resizable({\n",
       "        start: function(event, ui) {\n",
       "            pass_mouse_events = false;\n",
       "        },\n",
       "        resize: function(event, ui) {\n",
       "            fig.request_resize(ui.size.width, ui.size.height);\n",
       "        },\n",
       "        stop: function(event, ui) {\n",
       "            pass_mouse_events = true;\n",
       "            fig.request_resize(ui.size.width, ui.size.height);\n",
       "        },\n",
       "    });\n",
       "\n",
       "    function mouse_event_fn(event) {\n",
       "        if (pass_mouse_events)\n",
       "            return fig.mouse_event(event, event['data']);\n",
       "    }\n",
       "\n",
       "    rubberband.mousedown('button_press', mouse_event_fn);\n",
       "    rubberband.mouseup('button_release', mouse_event_fn);\n",
       "    // Throttle sequential mouse events to 1 every 20ms.\n",
       "    rubberband.mousemove('motion_notify', mouse_event_fn);\n",
       "\n",
       "    rubberband.mouseenter('figure_enter', mouse_event_fn);\n",
       "    rubberband.mouseleave('figure_leave', mouse_event_fn);\n",
       "\n",
       "    canvas_div.on(\"wheel\", function (event) {\n",
       "        event = event.originalEvent;\n",
       "        event['data'] = 'scroll'\n",
       "        if (event.deltaY < 0) {\n",
       "            event.step = 1;\n",
       "        } else {\n",
       "            event.step = -1;\n",
       "        }\n",
       "        mouse_event_fn(event);\n",
       "    });\n",
       "\n",
       "    canvas_div.append(canvas);\n",
       "    canvas_div.append(rubberband);\n",
       "\n",
       "    this.rubberband = rubberband;\n",
       "    this.rubberband_canvas = rubberband[0];\n",
       "    this.rubberband_context = rubberband[0].getContext(\"2d\");\n",
       "    this.rubberband_context.strokeStyle = \"#000000\";\n",
       "\n",
       "    this._resize_canvas = function(width, height) {\n",
       "        // Keep the size of the canvas, canvas container, and rubber band\n",
       "        // canvas in synch.\n",
       "        canvas_div.css('width', width)\n",
       "        canvas_div.css('height', height)\n",
       "\n",
       "        canvas.attr('width', width);\n",
       "        canvas.attr('height', height);\n",
       "\n",
       "        rubberband.attr('width', width);\n",
       "        rubberband.attr('height', height);\n",
       "    }\n",
       "\n",
       "    // Set the figure to an initial 600x600px, this will subsequently be updated\n",
       "    // upon first draw.\n",
       "    this._resize_canvas(600, 600);\n",
       "\n",
       "    // Disable right mouse context menu.\n",
       "    $(this.rubberband_canvas).bind(\"contextmenu\",function(e){\n",
       "        return false;\n",
       "    });\n",
       "\n",
       "    function set_focus () {\n",
       "        canvas.focus();\n",
       "        canvas_div.focus();\n",
       "    }\n",
       "\n",
       "    window.setTimeout(set_focus, 100);\n",
       "}\n",
       "\n",
       "mpl.figure.prototype._init_toolbar = function() {\n",
       "    var fig = this;\n",
       "\n",
       "    var nav_element = $('<div/>')\n",
       "    nav_element.attr('style', 'width: 100%');\n",
       "    this.root.append(nav_element);\n",
       "\n",
       "    // Define a callback function for later on.\n",
       "    function toolbar_event(event) {\n",
       "        return fig.toolbar_button_onclick(event['data']);\n",
       "    }\n",
       "    function toolbar_mouse_event(event) {\n",
       "        return fig.toolbar_button_onmouseover(event['data']);\n",
       "    }\n",
       "\n",
       "    for(var toolbar_ind in mpl.toolbar_items) {\n",
       "        var name = mpl.toolbar_items[toolbar_ind][0];\n",
       "        var tooltip = mpl.toolbar_items[toolbar_ind][1];\n",
       "        var image = mpl.toolbar_items[toolbar_ind][2];\n",
       "        var method_name = mpl.toolbar_items[toolbar_ind][3];\n",
       "\n",
       "        if (!name) {\n",
       "            // put a spacer in here.\n",
       "            continue;\n",
       "        }\n",
       "        var button = $('<button/>');\n",
       "        button.addClass('ui-button ui-widget ui-state-default ui-corner-all ' +\n",
       "                        'ui-button-icon-only');\n",
       "        button.attr('role', 'button');\n",
       "        button.attr('aria-disabled', 'false');\n",
       "        button.click(method_name, toolbar_event);\n",
       "        button.mouseover(tooltip, toolbar_mouse_event);\n",
       "\n",
       "        var icon_img = $('<span/>');\n",
       "        icon_img.addClass('ui-button-icon-primary ui-icon');\n",
       "        icon_img.addClass(image);\n",
       "        icon_img.addClass('ui-corner-all');\n",
       "\n",
       "        var tooltip_span = $('<span/>');\n",
       "        tooltip_span.addClass('ui-button-text');\n",
       "        tooltip_span.html(tooltip);\n",
       "\n",
       "        button.append(icon_img);\n",
       "        button.append(tooltip_span);\n",
       "\n",
       "        nav_element.append(button);\n",
       "    }\n",
       "\n",
       "    var fmt_picker_span = $('<span/>');\n",
       "\n",
       "    var fmt_picker = $('<select/>');\n",
       "    fmt_picker.addClass('mpl-toolbar-option ui-widget ui-widget-content');\n",
       "    fmt_picker_span.append(fmt_picker);\n",
       "    nav_element.append(fmt_picker_span);\n",
       "    this.format_dropdown = fmt_picker[0];\n",
       "\n",
       "    for (var ind in mpl.extensions) {\n",
       "        var fmt = mpl.extensions[ind];\n",
       "        var option = $(\n",
       "            '<option/>', {selected: fmt === mpl.default_extension}).html(fmt);\n",
       "        fmt_picker.append(option)\n",
       "    }\n",
       "\n",
       "    // Add hover states to the ui-buttons\n",
       "    $( \".ui-button\" ).hover(\n",
       "        function() { $(this).addClass(\"ui-state-hover\");},\n",
       "        function() { $(this).removeClass(\"ui-state-hover\");}\n",
       "    );\n",
       "\n",
       "    var status_bar = $('<span class=\"mpl-message\"/>');\n",
       "    nav_element.append(status_bar);\n",
       "    this.message = status_bar[0];\n",
       "}\n",
       "\n",
       "mpl.figure.prototype.request_resize = function(x_pixels, y_pixels) {\n",
       "    // Request matplotlib to resize the figure. Matplotlib will then trigger a resize in the client,\n",
       "    // which will in turn request a refresh of the image.\n",
       "    this.send_message('resize', {'width': x_pixels, 'height': y_pixels});\n",
       "}\n",
       "\n",
       "mpl.figure.prototype.send_message = function(type, properties) {\n",
       "    properties['type'] = type;\n",
       "    properties['figure_id'] = this.id;\n",
       "    this.ws.send(JSON.stringify(properties));\n",
       "}\n",
       "\n",
       "mpl.figure.prototype.send_draw_message = function() {\n",
       "    if (!this.waiting) {\n",
       "        this.waiting = true;\n",
       "        this.ws.send(JSON.stringify({type: \"draw\", figure_id: this.id}));\n",
       "    }\n",
       "}\n",
       "\n",
       "\n",
       "mpl.figure.prototype.handle_save = function(fig, msg) {\n",
       "    var format_dropdown = fig.format_dropdown;\n",
       "    var format = format_dropdown.options[format_dropdown.selectedIndex].value;\n",
       "    fig.ondownload(fig, format);\n",
       "}\n",
       "\n",
       "\n",
       "mpl.figure.prototype.handle_resize = function(fig, msg) {\n",
       "    var size = msg['size'];\n",
       "    if (size[0] != fig.canvas.width || size[1] != fig.canvas.height) {\n",
       "        fig._resize_canvas(size[0], size[1]);\n",
       "        fig.send_message(\"refresh\", {});\n",
       "    };\n",
       "}\n",
       "\n",
       "mpl.figure.prototype.handle_rubberband = function(fig, msg) {\n",
       "    var x0 = msg['x0'];\n",
       "    var y0 = fig.canvas.height - msg['y0'];\n",
       "    var x1 = msg['x1'];\n",
       "    var y1 = fig.canvas.height - msg['y1'];\n",
       "    x0 = Math.floor(x0) + 0.5;\n",
       "    y0 = Math.floor(y0) + 0.5;\n",
       "    x1 = Math.floor(x1) + 0.5;\n",
       "    y1 = Math.floor(y1) + 0.5;\n",
       "    var min_x = Math.min(x0, x1);\n",
       "    var min_y = Math.min(y0, y1);\n",
       "    var width = Math.abs(x1 - x0);\n",
       "    var height = Math.abs(y1 - y0);\n",
       "\n",
       "    fig.rubberband_context.clearRect(\n",
       "        0, 0, fig.canvas.width, fig.canvas.height);\n",
       "\n",
       "    fig.rubberband_context.strokeRect(min_x, min_y, width, height);\n",
       "}\n",
       "\n",
       "mpl.figure.prototype.handle_figure_label = function(fig, msg) {\n",
       "    // Updates the figure title.\n",
       "    fig.header.textContent = msg['label'];\n",
       "}\n",
       "\n",
       "mpl.figure.prototype.handle_cursor = function(fig, msg) {\n",
       "    var cursor = msg['cursor'];\n",
       "    switch(cursor)\n",
       "    {\n",
       "    case 0:\n",
       "        cursor = 'pointer';\n",
       "        break;\n",
       "    case 1:\n",
       "        cursor = 'default';\n",
       "        break;\n",
       "    case 2:\n",
       "        cursor = 'crosshair';\n",
       "        break;\n",
       "    case 3:\n",
       "        cursor = 'move';\n",
       "        break;\n",
       "    }\n",
       "    fig.rubberband_canvas.style.cursor = cursor;\n",
       "}\n",
       "\n",
       "mpl.figure.prototype.handle_message = function(fig, msg) {\n",
       "    fig.message.textContent = msg['message'];\n",
       "}\n",
       "\n",
       "mpl.figure.prototype.handle_draw = function(fig, msg) {\n",
       "    // Request the server to send over a new figure.\n",
       "    fig.send_draw_message();\n",
       "}\n",
       "\n",
       "mpl.figure.prototype.handle_image_mode = function(fig, msg) {\n",
       "    fig.image_mode = msg['mode'];\n",
       "}\n",
       "\n",
       "mpl.figure.prototype.updated_canvas_event = function() {\n",
       "    // Called whenever the canvas gets updated.\n",
       "    this.send_message(\"ack\", {});\n",
       "}\n",
       "\n",
       "// A function to construct a web socket function for onmessage handling.\n",
       "// Called in the figure constructor.\n",
       "mpl.figure.prototype._make_on_message_function = function(fig) {\n",
       "    return function socket_on_message(evt) {\n",
       "        if (evt.data instanceof Blob) {\n",
       "            /* FIXME: We get \"Resource interpreted as Image but\n",
       "             * transferred with MIME type text/plain:\" errors on\n",
       "             * Chrome.  But how to set the MIME type?  It doesn't seem\n",
       "             * to be part of the websocket stream */\n",
       "            evt.data.type = \"image/png\";\n",
       "\n",
       "            /* Free the memory for the previous frames */\n",
       "            if (fig.imageObj.src) {\n",
       "                (window.URL || window.webkitURL).revokeObjectURL(\n",
       "                    fig.imageObj.src);\n",
       "            }\n",
       "\n",
       "            fig.imageObj.src = (window.URL || window.webkitURL).createObjectURL(\n",
       "                evt.data);\n",
       "            fig.updated_canvas_event();\n",
       "            fig.waiting = false;\n",
       "            return;\n",
       "        }\n",
       "        else if (typeof evt.data === 'string' && evt.data.slice(0, 21) == \"data:image/png;base64\") {\n",
       "            fig.imageObj.src = evt.data;\n",
       "            fig.updated_canvas_event();\n",
       "            fig.waiting = false;\n",
       "            return;\n",
       "        }\n",
       "\n",
       "        var msg = JSON.parse(evt.data);\n",
       "        var msg_type = msg['type'];\n",
       "\n",
       "        // Call the  \"handle_{type}\" callback, which takes\n",
       "        // the figure and JSON message as its only arguments.\n",
       "        try {\n",
       "            var callback = fig[\"handle_\" + msg_type];\n",
       "        } catch (e) {\n",
       "            console.log(\"No handler for the '\" + msg_type + \"' message type: \", msg);\n",
       "            return;\n",
       "        }\n",
       "\n",
       "        if (callback) {\n",
       "            try {\n",
       "                // console.log(\"Handling '\" + msg_type + \"' message: \", msg);\n",
       "                callback(fig, msg);\n",
       "            } catch (e) {\n",
       "                console.log(\"Exception inside the 'handler_\" + msg_type + \"' callback:\", e, e.stack, msg);\n",
       "            }\n",
       "        }\n",
       "    };\n",
       "}\n",
       "\n",
       "// from http://stackoverflow.com/questions/1114465/getting-mouse-location-in-canvas\n",
       "mpl.findpos = function(e) {\n",
       "    //this section is from http://www.quirksmode.org/js/events_properties.html\n",
       "    var targ;\n",
       "    if (!e)\n",
       "        e = window.event;\n",
       "    if (e.target)\n",
       "        targ = e.target;\n",
       "    else if (e.srcElement)\n",
       "        targ = e.srcElement;\n",
       "    if (targ.nodeType == 3) // defeat Safari bug\n",
       "        targ = targ.parentNode;\n",
       "\n",
       "    // jQuery normalizes the pageX and pageY\n",
       "    // pageX,Y are the mouse positions relative to the document\n",
       "    // offset() returns the position of the element relative to the document\n",
       "    var x = e.pageX - $(targ).offset().left;\n",
       "    var y = e.pageY - $(targ).offset().top;\n",
       "\n",
       "    return {\"x\": x, \"y\": y};\n",
       "};\n",
       "\n",
       "/*\n",
       " * return a copy of an object with only non-object keys\n",
       " * we need this to avoid circular references\n",
       " * http://stackoverflow.com/a/24161582/3208463\n",
       " */\n",
       "function simpleKeys (original) {\n",
       "  return Object.keys(original).reduce(function (obj, key) {\n",
       "    if (typeof original[key] !== 'object')\n",
       "        obj[key] = original[key]\n",
       "    return obj;\n",
       "  }, {});\n",
       "}\n",
       "\n",
       "mpl.figure.prototype.mouse_event = function(event, name) {\n",
       "    var canvas_pos = mpl.findpos(event)\n",
       "\n",
       "    if (name === 'button_press')\n",
       "    {\n",
       "        this.canvas.focus();\n",
       "        this.canvas_div.focus();\n",
       "    }\n",
       "\n",
       "    var x = canvas_pos.x;\n",
       "    var y = canvas_pos.y;\n",
       "\n",
       "    this.send_message(name, {x: x, y: y, button: event.button,\n",
       "                             step: event.step,\n",
       "                             guiEvent: simpleKeys(event)});\n",
       "\n",
       "    /* This prevents the web browser from automatically changing to\n",
       "     * the text insertion cursor when the button is pressed.  We want\n",
       "     * to control all of the cursor setting manually through the\n",
       "     * 'cursor' event from matplotlib */\n",
       "    event.preventDefault();\n",
       "    return false;\n",
       "}\n",
       "\n",
       "mpl.figure.prototype._key_event_extra = function(event, name) {\n",
       "    // Handle any extra behaviour associated with a key event\n",
       "}\n",
       "\n",
       "mpl.figure.prototype.key_event = function(event, name) {\n",
       "\n",
       "    // Prevent repeat events\n",
       "    if (name == 'key_press')\n",
       "    {\n",
       "        if (event.which === this._key)\n",
       "            return;\n",
       "        else\n",
       "            this._key = event.which;\n",
       "    }\n",
       "    if (name == 'key_release')\n",
       "        this._key = null;\n",
       "\n",
       "    var value = '';\n",
       "    if (event.ctrlKey && event.which != 17)\n",
       "        value += \"ctrl+\";\n",
       "    if (event.altKey && event.which != 18)\n",
       "        value += \"alt+\";\n",
       "    if (event.shiftKey && event.which != 16)\n",
       "        value += \"shift+\";\n",
       "\n",
       "    value += 'k';\n",
       "    value += event.which.toString();\n",
       "\n",
       "    this._key_event_extra(event, name);\n",
       "\n",
       "    this.send_message(name, {key: value,\n",
       "                             guiEvent: simpleKeys(event)});\n",
       "    return false;\n",
       "}\n",
       "\n",
       "mpl.figure.prototype.toolbar_button_onclick = function(name) {\n",
       "    if (name == 'download') {\n",
       "        this.handle_save(this, null);\n",
       "    } else {\n",
       "        this.send_message(\"toolbar_button\", {name: name});\n",
       "    }\n",
       "};\n",
       "\n",
       "mpl.figure.prototype.toolbar_button_onmouseover = function(tooltip) {\n",
       "    this.message.textContent = tooltip;\n",
       "};\n",
       "mpl.toolbar_items = [[\"Home\", \"Reset original view\", \"fa fa-home icon-home\", \"home\"], [\"Back\", \"Back to  previous view\", \"fa fa-arrow-left icon-arrow-left\", \"back\"], [\"Forward\", \"Forward to next view\", \"fa fa-arrow-right icon-arrow-right\", \"forward\"], [\"\", \"\", \"\", \"\"], [\"Pan\", \"Pan axes with left mouse, zoom with right\", \"fa fa-arrows icon-move\", \"pan\"], [\"Zoom\", \"Zoom to rectangle\", \"fa fa-square-o icon-check-empty\", \"zoom\"], [\"\", \"\", \"\", \"\"], [\"Download\", \"Download plot\", \"fa fa-floppy-o icon-save\", \"download\"]];\n",
       "\n",
       "mpl.extensions = [\"eps\", \"jpeg\", \"pdf\", \"png\", \"ps\", \"raw\", \"svg\", \"tif\"];\n",
       "\n",
       "mpl.default_extension = \"png\";var comm_websocket_adapter = function(comm) {\n",
       "    // Create a \"websocket\"-like object which calls the given IPython comm\n",
       "    // object with the appropriate methods. Currently this is a non binary\n",
       "    // socket, so there is still some room for performance tuning.\n",
       "    var ws = {};\n",
       "\n",
       "    ws.close = function() {\n",
       "        comm.close()\n",
       "    };\n",
       "    ws.send = function(m) {\n",
       "        //console.log('sending', m);\n",
       "        comm.send(m);\n",
       "    };\n",
       "    // Register the callback with on_msg.\n",
       "    comm.on_msg(function(msg) {\n",
       "        //console.log('receiving', msg['content']['data'], msg);\n",
       "        // Pass the mpl event to the overriden (by mpl) onmessage function.\n",
       "        ws.onmessage(msg['content']['data'])\n",
       "    });\n",
       "    return ws;\n",
       "}\n",
       "\n",
       "mpl.mpl_figure_comm = function(comm, msg) {\n",
       "    // This is the function which gets called when the mpl process\n",
       "    // starts-up an IPython Comm through the \"matplotlib\" channel.\n",
       "\n",
       "    var id = msg.content.data.id;\n",
       "    // Get hold of the div created by the display call when the Comm\n",
       "    // socket was opened in Python.\n",
       "    var element = $(\"#\" + id);\n",
       "    var ws_proxy = comm_websocket_adapter(comm)\n",
       "\n",
       "    function ondownload(figure, format) {\n",
       "        window.open(figure.imageObj.src);\n",
       "    }\n",
       "\n",
       "    var fig = new mpl.figure(id, ws_proxy,\n",
       "                           ondownload,\n",
       "                           element.get(0));\n",
       "\n",
       "    // Call onopen now - mpl needs it, as it is assuming we've passed it a real\n",
       "    // web socket which is closed, not our websocket->open comm proxy.\n",
       "    ws_proxy.onopen();\n",
       "\n",
       "    fig.parent_element = element.get(0);\n",
       "    fig.cell_info = mpl.find_output_cell(\"<div id='\" + id + \"'></div>\");\n",
       "    if (!fig.cell_info) {\n",
       "        console.error(\"Failed to find cell for figure\", id, fig);\n",
       "        return;\n",
       "    }\n",
       "\n",
       "    var output_index = fig.cell_info[2]\n",
       "    var cell = fig.cell_info[0];\n",
       "\n",
       "};\n",
       "\n",
       "mpl.figure.prototype.handle_close = function(fig, msg) {\n",
       "    fig.root.unbind('remove')\n",
       "\n",
       "    // Update the output cell to use the data from the current canvas.\n",
       "    fig.push_to_output();\n",
       "    var dataURL = fig.canvas.toDataURL();\n",
       "    // Re-enable the keyboard manager in IPython - without this line, in FF,\n",
       "    // the notebook keyboard shortcuts fail.\n",
       "    IPython.keyboard_manager.enable()\n",
       "    $(fig.parent_element).html('<img src=\"' + dataURL + '\">');\n",
       "    fig.close_ws(fig, msg);\n",
       "}\n",
       "\n",
       "mpl.figure.prototype.close_ws = function(fig, msg){\n",
       "    fig.send_message('closing', msg);\n",
       "    // fig.ws.close()\n",
       "}\n",
       "\n",
       "mpl.figure.prototype.push_to_output = function(remove_interactive) {\n",
       "    // Turn the data on the canvas into data in the output cell.\n",
       "    var dataURL = this.canvas.toDataURL();\n",
       "    this.cell_info[1]['text/html'] = '<img src=\"' + dataURL + '\">';\n",
       "}\n",
       "\n",
       "mpl.figure.prototype.updated_canvas_event = function() {\n",
       "    // Tell IPython that the notebook contents must change.\n",
       "    IPython.notebook.set_dirty(true);\n",
       "    this.send_message(\"ack\", {});\n",
       "    var fig = this;\n",
       "    // Wait a second, then push the new image to the DOM so\n",
       "    // that it is saved nicely (might be nice to debounce this).\n",
       "    setTimeout(function () { fig.push_to_output() }, 1000);\n",
       "}\n",
       "\n",
       "mpl.figure.prototype._init_toolbar = function() {\n",
       "    var fig = this;\n",
       "\n",
       "    var nav_element = $('<div/>')\n",
       "    nav_element.attr('style', 'width: 100%');\n",
       "    this.root.append(nav_element);\n",
       "\n",
       "    // Define a callback function for later on.\n",
       "    function toolbar_event(event) {\n",
       "        return fig.toolbar_button_onclick(event['data']);\n",
       "    }\n",
       "    function toolbar_mouse_event(event) {\n",
       "        return fig.toolbar_button_onmouseover(event['data']);\n",
       "    }\n",
       "\n",
       "    for(var toolbar_ind in mpl.toolbar_items){\n",
       "        var name = mpl.toolbar_items[toolbar_ind][0];\n",
       "        var tooltip = mpl.toolbar_items[toolbar_ind][1];\n",
       "        var image = mpl.toolbar_items[toolbar_ind][2];\n",
       "        var method_name = mpl.toolbar_items[toolbar_ind][3];\n",
       "\n",
       "        if (!name) { continue; };\n",
       "\n",
       "        var button = $('<button class=\"btn btn-default\" href=\"#\" title=\"' + name + '\"><i class=\"fa ' + image + ' fa-lg\"></i></button>');\n",
       "        button.click(method_name, toolbar_event);\n",
       "        button.mouseover(tooltip, toolbar_mouse_event);\n",
       "        nav_element.append(button);\n",
       "    }\n",
       "\n",
       "    // Add the status bar.\n",
       "    var status_bar = $('<span class=\"mpl-message\" style=\"text-align:right; float: right;\"/>');\n",
       "    nav_element.append(status_bar);\n",
       "    this.message = status_bar[0];\n",
       "\n",
       "    // Add the close button to the window.\n",
       "    var buttongrp = $('<div class=\"btn-group inline pull-right\"></div>');\n",
       "    var button = $('<button class=\"btn btn-mini btn-primary\" href=\"#\" title=\"Stop Interaction\"><i class=\"fa fa-power-off icon-remove icon-large\"></i></button>');\n",
       "    button.click(function (evt) { fig.handle_close(fig, {}); } );\n",
       "    button.mouseover('Stop Interaction', toolbar_mouse_event);\n",
       "    buttongrp.append(button);\n",
       "    var titlebar = this.root.find($('.ui-dialog-titlebar'));\n",
       "    titlebar.prepend(buttongrp);\n",
       "}\n",
       "\n",
       "mpl.figure.prototype._root_extra_style = function(el){\n",
       "    var fig = this\n",
       "    el.on(\"remove\", function(){\n",
       "\tfig.close_ws(fig, {});\n",
       "    });\n",
       "}\n",
       "\n",
       "mpl.figure.prototype._canvas_extra_style = function(el){\n",
       "    // this is important to make the div 'focusable\n",
       "    el.attr('tabindex', 0)\n",
       "    // reach out to IPython and tell the keyboard manager to turn it's self\n",
       "    // off when our div gets focus\n",
       "\n",
       "    // location in version 3\n",
       "    if (IPython.notebook.keyboard_manager) {\n",
       "        IPython.notebook.keyboard_manager.register_events(el);\n",
       "    }\n",
       "    else {\n",
       "        // location in version 2\n",
       "        IPython.keyboard_manager.register_events(el);\n",
       "    }\n",
       "\n",
       "}\n",
       "\n",
       "mpl.figure.prototype._key_event_extra = function(event, name) {\n",
       "    var manager = IPython.notebook.keyboard_manager;\n",
       "    if (!manager)\n",
       "        manager = IPython.keyboard_manager;\n",
       "\n",
       "    // Check for shift+enter\n",
       "    if (event.shiftKey && event.which == 13) {\n",
       "        this.canvas_div.blur();\n",
       "        // select the cell after this one\n",
       "        var index = IPython.notebook.find_cell_index(this.cell_info[0]);\n",
       "        IPython.notebook.select(index + 1);\n",
       "    }\n",
       "}\n",
       "\n",
       "mpl.figure.prototype.handle_save = function(fig, msg) {\n",
       "    fig.ondownload(fig, null);\n",
       "}\n",
       "\n",
       "\n",
       "mpl.find_output_cell = function(html_output) {\n",
       "    // Return the cell and output element which can be found *uniquely* in the notebook.\n",
       "    // Note - this is a bit hacky, but it is done because the \"notebook_saving.Notebook\"\n",
       "    // IPython event is triggered only after the cells have been serialised, which for\n",
       "    // our purposes (turning an active figure into a static one), is too late.\n",
       "    var cells = IPython.notebook.get_cells();\n",
       "    var ncells = cells.length;\n",
       "    for (var i=0; i<ncells; i++) {\n",
       "        var cell = cells[i];\n",
       "        if (cell.cell_type === 'code'){\n",
       "            for (var j=0; j<cell.output_area.outputs.length; j++) {\n",
       "                var data = cell.output_area.outputs[j];\n",
       "                if (data.data) {\n",
       "                    // IPython >= 3 moved mimebundle to data attribute of output\n",
       "                    data = data.data;\n",
       "                }\n",
       "                if (data['text/html'] == html_output) {\n",
       "                    return [cell, data, j];\n",
       "                }\n",
       "            }\n",
       "        }\n",
       "    }\n",
       "}\n",
       "\n",
       "// Register the function which deals with the matplotlib target/channel.\n",
       "// The kernel may be null if the page has been refreshed.\n",
       "if (IPython.notebook.kernel != null) {\n",
       "    IPython.notebook.kernel.comm_manager.register_target('matplotlib', mpl.mpl_figure_comm);\n",
       "}\n"
      ],
      "text/plain": [
       "<IPython.core.display.Javascript object>"
      ]
     },
     "metadata": {},
     "output_type": "display_data"
    },
    {
     "data": {
      "text/html": [
       "<img src=\"data:image/png;base64,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\">"
      ],
      "text/plain": [
       "<IPython.core.display.HTML object>"
      ]
     },
     "metadata": {},
     "output_type": "display_data"
    },
    {
     "data": {
      "text/plain": [
       "[<matplotlib.lines.Line2D at 0x8c3d6a0>]"
      ]
     },
     "execution_count": 8,
     "metadata": {},
     "output_type": "execute_result"
    }
   ],
   "source": [
    "%matplotlib notebook\n",
    "plt.plot(traces['raw'][1100:],linewidth=0.5)\n",
    "plt.plot(traces['filtered'][1100:],'k',linewidth=2)"
   ]
  },
  {
   "cell_type": "code",
   "execution_count": 59,
   "metadata": {
    "collapsed": false
   },
   "outputs": [
    {
     "data": {
      "text/plain": [
       "[ethertype:88B5 length:48 Payload:tick frame:0 protocol:0,\n",
       " ethertype:88B5 length:48 Payload:tick frame:1 protocol:1,\n",
       " ethertype:88B5 length:32 Payload:peak frame:2 protocol:2,\n",
       " ethertype:88B5 length:56 Payload:pulse frame:3 protocol:3,\n",
       " ethertype:88B6 length:1496 Payload:MCA frame:4 protocol:0,\n",
       " ethertype:88B6 length:1496 Payload:MCA frame:5 protocol:1,\n",
       " ethertype:88B6 length:1496 Payload:MCA frame:6 protocol:2,\n",
       " ethertype:88B6 length:1496 Payload:MCA frame:7 protocol:3,\n",
       " ethertype:88B6 length:1496 Payload:MCA frame:8 protocol:4,\n",
       " ethertype:88B6 length:1496 Payload:MCA frame:9 protocol:5,\n",
       " ethertype:88B6 length:1496 Payload:MCA frame:10 protocol:6,\n",
       " ethertype:88B6 length:1496 Payload:MCA frame:11 protocol:7,\n",
       " ethertype:88B6 length:1496 Payload:MCA frame:12 protocol:8,\n",
       " ethertype:88B6 length:1496 Payload:MCA frame:13 protocol:9,\n",
       " ethertype:88B6 length:1496 Payload:MCA frame:14 protocol:10,\n",
       " ethertype:88B6 length:1496 Payload:MCA frame:15 protocol:11,\n",
       " ethertype:88B6 length:1496 Payload:MCA frame:16 protocol:12,\n",
       " ethertype:88B6 length:1496 Payload:MCA frame:17 protocol:13,\n",
       " ethertype:88B6 length:1496 Payload:MCA frame:18 protocol:14,\n",
       " ethertype:88B6 length:1496 Payload:MCA frame:19 protocol:15,\n",
       " ethertype:88B6 length:1496 Payload:MCA frame:20 protocol:16,\n",
       " ethertype:88B6 length:1496 Payload:MCA frame:21 protocol:17,\n",
       " ethertype:88B6 length:1496 Payload:MCA frame:22 protocol:18,\n",
       " ethertype:88B6 length:1496 Payload:MCA frame:23 protocol:19,\n",
       " ethertype:88B6 length:1496 Payload:MCA frame:24 protocol:20,\n",
       " ethertype:88B6 length:1496 Payload:MCA frame:25 protocol:21,\n",
       " ethertype:88B6 length:1496 Payload:MCA frame:26 protocol:22,\n",
       " ethertype:88B6 length:1496 Payload:MCA frame:27 protocol:23,\n",
       " ethertype:88B6 length:1496 Payload:MCA frame:28 protocol:24,\n",
       " ethertype:88B6 length:1496 Payload:MCA frame:29 protocol:25,\n",
       " ethertype:88B6 length:1496 Payload:MCA frame:30 protocol:26,\n",
       " ethertype:88B5 length:48 Payload:tick frame:31 protocol:4,\n",
       " ethertype:88B6 length:1496 Payload:MCA frame:32 protocol:27,\n",
       " ethertype:88B6 length:1496 Payload:MCA frame:33 protocol:28,\n",
       " ethertype:88B6 length:1496 Payload:MCA frame:34 protocol:29,\n",
       " ethertype:88B6 length:1496 Payload:MCA frame:35 protocol:30,\n",
       " ethertype:88B6 length:1496 Payload:MCA frame:36 protocol:31,\n",
       " ethertype:88B6 length:1496 Payload:MCA frame:37 protocol:32,\n",
       " ethertype:88B6 length:1496 Payload:MCA frame:38 protocol:33,\n",
       " ethertype:88B6 length:1496 Payload:MCA frame:39 protocol:34,\n",
       " ethertype:88B6 length:1496 Payload:MCA frame:40 protocol:35,\n",
       " ethertype:88B6 length:1496 Payload:MCA frame:41 protocol:36,\n",
       " ethertype:88B6 length:1496 Payload:MCA frame:42 protocol:37,\n",
       " ethertype:88B6 length:1496 Payload:MCA frame:43 protocol:38,\n",
       " ethertype:88B6 length:1496 Payload:MCA frame:44 protocol:39,\n",
       " ethertype:88B6 length:1496 Payload:MCA frame:45 protocol:40,\n",
       " ethertype:88B6 length:1496 Payload:MCA frame:46 protocol:41,\n",
       " ethertype:88B6 length:1496 Payload:MCA frame:47 protocol:42,\n",
       " ethertype:88B6 length:1496 Payload:MCA frame:48 protocol:43,\n",
       " ethertype:88B6 length:832 Payload:MCA frame:49 protocol:44,\n",
       " ethertype:88B5 length:48 Payload:tick frame:50 protocol:5,\n",
       " ethertype:88B5 length:48 Payload:tick frame:51 protocol:6,\n",
       " ethertype:88B5 length:32 Payload:peak frame:52 protocol:7,\n",
       " ethertype:88B5 length:56 Payload:pulse frame:53 protocol:8,\n",
       " ethertype:88B5 length:48 Payload:tick frame:54 protocol:9,\n",
       " ethertype:88B5 length:48 Payload:tick frame:55 protocol:10,\n",
       " ethertype:88B5 length:32 Payload:peak frame:56 protocol:11,\n",
       " ethertype:88B5 length:56 Payload:pulse frame:57 protocol:12,\n",
       " ethertype:88B5 length:48 Payload:tick frame:58 protocol:13,\n",
       " ethertype:88B6 length:1496 Payload:MCA frame:59 protocol:0,\n",
       " ethertype:88B6 length:1496 Payload:MCA frame:60 protocol:1,\n",
       " ethertype:88B6 length:1496 Payload:MCA frame:61 protocol:2,\n",
       " ethertype:88B6 length:1496 Payload:MCA frame:62 protocol:3,\n",
       " ethertype:88B6 length:1496 Payload:MCA frame:63 protocol:4,\n",
       " ethertype:88B6 length:1496 Payload:MCA frame:64 protocol:5,\n",
       " ethertype:88B6 length:1496 Payload:MCA frame:65 protocol:6,\n",
       " ethertype:88B6 length:1496 Payload:MCA frame:66 protocol:7,\n",
       " ethertype:88B6 length:1496 Payload:MCA frame:67 protocol:8,\n",
       " ethertype:88B6 length:1496 Payload:MCA frame:68 protocol:9,\n",
       " ethertype:88B6 length:1496 Payload:MCA frame:69 protocol:10,\n",
       " ethertype:88B6 length:1496 Payload:MCA frame:70 protocol:11,\n",
       " ethertype:88B6 length:1496 Payload:MCA frame:71 protocol:12,\n",
       " ethertype:88B6 length:1496 Payload:MCA frame:72 protocol:13,\n",
       " ethertype:88B6 length:1496 Payload:MCA frame:73 protocol:14,\n",
       " ethertype:88B6 length:1496 Payload:MCA frame:74 protocol:15,\n",
       " ethertype:88B6 length:1496 Payload:MCA frame:75 protocol:16,\n",
       " ethertype:88B6 length:1496 Payload:MCA frame:76 protocol:17,\n",
       " ethertype:88B6 length:1496 Payload:MCA frame:77 protocol:18,\n",
       " ethertype:88B6 length:1496 Payload:MCA frame:78 protocol:19,\n",
       " ethertype:88B6 length:1496 Payload:MCA frame:79 protocol:20,\n",
       " ethertype:88B6 length:1496 Payload:MCA frame:80 protocol:21,\n",
       " ethertype:88B5 length:48 Payload:tick frame:81 protocol:14,\n",
       " ethertype:88B6 length:1496 Payload:MCA frame:82 protocol:22,\n",
       " ethertype:88B6 length:1496 Payload:MCA frame:83 protocol:23,\n",
       " ethertype:88B6 length:1496 Payload:MCA frame:84 protocol:24,\n",
       " ethertype:88B6 length:1496 Payload:MCA frame:85 protocol:25,\n",
       " ethertype:88B6 length:1496 Payload:MCA frame:86 protocol:26,\n",
       " ethertype:88B6 length:1496 Payload:MCA frame:87 protocol:27,\n",
       " ethertype:88B6 length:1496 Payload:MCA frame:88 protocol:28,\n",
       " ethertype:88B6 length:1496 Payload:MCA frame:89 protocol:29,\n",
       " ethertype:88B6 length:1496 Payload:MCA frame:90 protocol:30,\n",
       " ethertype:88B6 length:1496 Payload:MCA frame:91 protocol:31,\n",
       " ethertype:88B6 length:1496 Payload:MCA frame:92 protocol:32,\n",
       " ethertype:88B6 length:1496 Payload:MCA frame:93 protocol:33,\n",
       " ethertype:88B6 length:1496 Payload:MCA frame:94 protocol:34,\n",
       " ethertype:88B6 length:1496 Payload:MCA frame:95 protocol:35,\n",
       " ethertype:88B6 length:1496 Payload:MCA frame:96 protocol:36,\n",
       " ethertype:88B6 length:1496 Payload:MCA frame:97 protocol:37,\n",
       " ethertype:88B6 length:1496 Payload:MCA frame:98 protocol:38,\n",
       " ethertype:88B6 length:1496 Payload:MCA frame:99 protocol:39,\n",
       " ethertype:88B6 length:1496 Payload:MCA frame:100 protocol:40,\n",
       " ethertype:88B6 length:1496 Payload:MCA frame:101 protocol:41,\n",
       " ethertype:88B6 length:1496 Payload:MCA frame:102 protocol:42,\n",
       " ethertype:88B6 length:1496 Payload:MCA frame:103 protocol:43,\n",
       " ethertype:88B5 length:48 Payload:tick frame:104 protocol:15,\n",
       " ethertype:88B6 length:832 Payload:MCA frame:105 protocol:44,\n",
       " ethertype:88B5 length:48 Payload:tick frame:106 protocol:16,\n",
       " ethertype:88B5 length:48 Payload:tick frame:107 protocol:17,\n",
       " ethertype:88B5 length:48 Payload:tick frame:108 protocol:18,\n",
       " ethertype:88B5 length:48 Payload:tick frame:109 protocol:19,\n",
       " ethertype:88B5 length:32 Payload:peak frame:110 protocol:20,\n",
       " ethertype:88B5 length:56 Payload:pulse frame:111 protocol:21,\n",
       " ethertype:88B5 length:48 Payload:tick frame:112 protocol:22,\n",
       " ethertype:88B6 length:1496 Payload:MCA frame:113 protocol:0,\n",
       " ethertype:88B6 length:1496 Payload:MCA frame:114 protocol:1,\n",
       " ethertype:88B6 length:1496 Payload:MCA frame:115 protocol:2,\n",
       " ethertype:88B6 length:1496 Payload:MCA frame:116 protocol:3,\n",
       " ethertype:88B6 length:1496 Payload:MCA frame:117 protocol:4,\n",
       " ethertype:88B6 length:1496 Payload:MCA frame:118 protocol:5,\n",
       " ethertype:88B6 length:1496 Payload:MCA frame:119 protocol:6,\n",
       " ethertype:88B6 length:1496 Payload:MCA frame:120 protocol:7,\n",
       " ethertype:88B6 length:1496 Payload:MCA frame:121 protocol:8,\n",
       " ethertype:88B6 length:1496 Payload:MCA frame:122 protocol:9,\n",
       " ethertype:88B6 length:1496 Payload:MCA frame:123 protocol:10,\n",
       " ethertype:88B6 length:1496 Payload:MCA frame:124 protocol:11,\n",
       " ethertype:88B6 length:1496 Payload:MCA frame:125 protocol:12,\n",
       " ethertype:88B6 length:1496 Payload:MCA frame:126 protocol:13,\n",
       " ethertype:88B6 length:1496 Payload:MCA frame:127 protocol:14,\n",
       " ethertype:88B6 length:1496 Payload:MCA frame:128 protocol:15,\n",
       " ethertype:88B6 length:1496 Payload:MCA frame:129 protocol:16,\n",
       " ethertype:88B6 length:1496 Payload:MCA frame:130 protocol:17,\n",
       " ethertype:88B6 length:1496 Payload:MCA frame:131 protocol:18,\n",
       " ethertype:88B6 length:1496 Payload:MCA frame:132 protocol:19,\n",
       " ethertype:88B6 length:1496 Payload:MCA frame:133 protocol:20,\n",
       " ethertype:88B6 length:1496 Payload:MCA frame:134 protocol:21,\n",
       " ethertype:88B5 length:48 Payload:tick frame:135 protocol:23,\n",
       " ethertype:88B6 length:1496 Payload:MCA frame:136 protocol:22,\n",
       " ethertype:88B6 length:1496 Payload:MCA frame:137 protocol:23,\n",
       " ethertype:88B6 length:1496 Payload:MCA frame:138 protocol:24,\n",
       " ethertype:88B6 length:1496 Payload:MCA frame:139 protocol:25,\n",
       " ethertype:88B6 length:1496 Payload:MCA frame:140 protocol:26,\n",
       " ethertype:88B6 length:1496 Payload:MCA frame:141 protocol:27,\n",
       " ethertype:88B6 length:1496 Payload:MCA frame:142 protocol:28,\n",
       " ethertype:88B6 length:1496 Payload:MCA frame:143 protocol:29,\n",
       " ethertype:88B6 length:1496 Payload:MCA frame:144 protocol:30,\n",
       " ethertype:88B6 length:1496 Payload:MCA frame:145 protocol:31,\n",
       " ethertype:88B6 length:1496 Payload:MCA frame:146 protocol:32,\n",
       " ethertype:88B6 length:1496 Payload:MCA frame:147 protocol:33,\n",
       " ethertype:88B6 length:1496 Payload:MCA frame:148 protocol:34,\n",
       " ethertype:88B6 length:1496 Payload:MCA frame:149 protocol:35,\n",
       " ethertype:88B6 length:1496 Payload:MCA frame:150 protocol:36,\n",
       " ethertype:88B6 length:1496 Payload:MCA frame:151 protocol:37,\n",
       " ethertype:88B6 length:1496 Payload:MCA frame:152 protocol:38,\n",
       " ethertype:88B6 length:1496 Payload:MCA frame:153 protocol:39,\n",
       " ethertype:88B6 length:1496 Payload:MCA frame:154 protocol:40,\n",
       " ethertype:88B6 length:1496 Payload:MCA frame:155 protocol:41,\n",
       " ethertype:88B6 length:1496 Payload:MCA frame:156 protocol:42,\n",
       " ethertype:88B6 length:1496 Payload:MCA frame:157 protocol:43,\n",
       " ethertype:88B5 length:48 Payload:tick frame:158 protocol:24,\n",
       " ethertype:88B6 length:832 Payload:MCA frame:159 protocol:44,\n",
       " ethertype:88B5 length:48 Payload:tick frame:160 protocol:25,\n",
       " ethertype:88B5 length:32 Payload:peak frame:161 protocol:26,\n",
       " ethertype:88B5 length:56 Payload:pulse frame:162 protocol:27,\n",
       " ethertype:88B5 length:48 Payload:tick frame:163 protocol:28,\n",
       " ethertype:88B5 length:32 Payload:peak frame:164 protocol:29,\n",
       " ethertype:88B5 length:56 Payload:pulse frame:165 protocol:30,\n",
       " ethertype:88B5 length:48 Payload:tick frame:166 protocol:31,\n",
       " ethertype:88B5 length:32 Payload:peak frame:167 protocol:32,\n",
       " ethertype:88B5 length:56 Payload:pulse frame:168 protocol:33,\n",
       " ethertype:88B5 length:48 Payload:tick frame:169 protocol:34,\n",
       " ethertype:88B5 length:48 Payload:tick frame:170 protocol:35,\n",
       " ethertype:88B5 length:48 Payload:tick frame:171 protocol:36,\n",
       " ethertype:88B5 length:48 Payload:tick frame:172 protocol:37,\n",
       " ethertype:88B5 length:48 Payload:tick frame:173 protocol:38,\n",
       " ethertype:88B5 length:48 Payload:tick frame:174 protocol:39,\n",
       " ethertype:88B5 length:32 Payload:peak frame:175 protocol:40,\n",
       " ethertype:88B5 length:56 Payload:pulse frame:176 protocol:41,\n",
       " ethertype:88B5 length:32 Payload:peak frame:177 protocol:42,\n",
       " ethertype:88B5 length:48 Payload:tick frame:178 protocol:43,\n",
       " ethertype:88B5 length:48 Payload:tick frame:179 protocol:44]"
      ]
     },
     "execution_count": 59,
     "metadata": {},
     "output_type": "execute_result"
    }
   ],
   "source": [
    "bs=PacketStream(stream)\n",
    "bs.packets"
   ]
  },
  {
   "cell_type": "code",
   "execution_count": 60,
   "metadata": {
    "collapsed": false
   },
   "outputs": [],
   "source": [
    "es=bs.eventstream"
   ]
  },
  {
   "cell_type": "code",
   "execution_count": 61,
   "metadata": {
    "collapsed": false
   },
   "outputs": [],
   "source": [
    "def plot_event(event_tupple):\n",
    "    pre=200\n",
    "    post=1000\n",
    "    timestamp=event_tupple[0]\n",
    "    event_type=event_tupple[1]\n",
    "    event=event_tupple[2]\n",
    "    flags=EventFlags(event['flags'])\n",
    "    print(flags)\n",
    "    print('timestamp',timestamp, 'time', event['time'])\n",
    "    if flags.type == Event.tick:\n",
    "        return\n",
    "    s=traces['filtered'][timestamp+18-pre:timestamp+18+post]\n",
    "    r=traces['raw'][timestamp+18-pre:timestamp+18+post]\n",
    "    i = np.where(abs(minmax['clk'])<=timestamp+19)[0][-1]\n",
    "    min_t=abs(minmax['clk'][i])-timestamp-18\n",
    "    plt.plot(r,'--k')\n",
    "    plt.plot(s)\n",
    "    plt.plot([pre],s[pre],'sg')\n",
    "    plt.plot([pre+min_t],minmax['filtered'][i],'ob')\n",
    "    if event_type==Event.pulse:\n",
    "        for i in range(flags.peak_number):\n",
    "            p=event['peaks'][i]\n",
    "            plt.plot([0,len(s)-1],[p['height'],p['height']],':r')\n",
    "    else:\n",
    "      plt.plot([0,len(s)-1],[event['height'],event['height']],':r')\n",
    "        \n",
    "    #print(event['height'],event['minima'])\n",
    "    #print(minmax['filtered'][i]==s[pre+min_t])\n",
    "    #print(minmax['filtered'][i]==event['minima'])\n",
    "    #print(s[pre],s[pre-1])"
   ]
  },
  {
   "cell_type": "code",
   "execution_count": 63,
   "metadata": {
    "collapsed": false
   },
   "outputs": [
    {
     "name": "stdout",
     "output_type": "stream",
     "text": [
      "Event:peak channel:0 peak_number:0 cfd_rel2min:True\n",
      "height:cfd_high timing:cfd_low new window:True\n",
      "timestamp 74706 time 1170\n"
     ]
    },
    {
     "data": {
      "application/javascript": [
       "/* Put everything inside the global mpl namespace */\n",
       "window.mpl = {};\n",
       "\n",
       "mpl.get_websocket_type = function() {\n",
       "    if (typeof(WebSocket) !== 'undefined') {\n",
       "        return WebSocket;\n",
       "    } else if (typeof(MozWebSocket) !== 'undefined') {\n",
       "        return MozWebSocket;\n",
       "    } else {\n",
       "        alert('Your browser does not have WebSocket support.' +\n",
       "              'Please try Chrome, Safari or Firefox ≥ 6. ' +\n",
       "              'Firefox 4 and 5 are also supported but you ' +\n",
       "              'have to enable WebSockets in about:config.');\n",
       "    };\n",
       "}\n",
       "\n",
       "mpl.figure = function(figure_id, websocket, ondownload, parent_element) {\n",
       "    this.id = figure_id;\n",
       "\n",
       "    this.ws = websocket;\n",
       "\n",
       "    this.supports_binary = (this.ws.binaryType != undefined);\n",
       "\n",
       "    if (!this.supports_binary) {\n",
       "        var warnings = document.getElementById(\"mpl-warnings\");\n",
       "        if (warnings) {\n",
       "            warnings.style.display = 'block';\n",
       "            warnings.textContent = (\n",
       "                \"This browser does not support binary websocket messages. \" +\n",
       "                    \"Performance may be slow.\");\n",
       "        }\n",
       "    }\n",
       "\n",
       "    this.imageObj = new Image();\n",
       "\n",
       "    this.context = undefined;\n",
       "    this.message = undefined;\n",
       "    this.canvas = undefined;\n",
       "    this.rubberband_canvas = undefined;\n",
       "    this.rubberband_context = undefined;\n",
       "    this.format_dropdown = undefined;\n",
       "\n",
       "    this.image_mode = 'full';\n",
       "\n",
       "    this.root = $('<div/>');\n",
       "    this._root_extra_style(this.root)\n",
       "    this.root.attr('style', 'display: inline-block');\n",
       "\n",
       "    $(parent_element).append(this.root);\n",
       "\n",
       "    this._init_header(this);\n",
       "    this._init_canvas(this);\n",
       "    this._init_toolbar(this);\n",
       "\n",
       "    var fig = this;\n",
       "\n",
       "    this.waiting = false;\n",
       "\n",
       "    this.ws.onopen =  function () {\n",
       "            fig.send_message(\"supports_binary\", {value: fig.supports_binary});\n",
       "            fig.send_message(\"send_image_mode\", {});\n",
       "            fig.send_message(\"refresh\", {});\n",
       "        }\n",
       "\n",
       "    this.imageObj.onload = function() {\n",
       "            if (fig.image_mode == 'full') {\n",
       "                // Full images could contain transparency (where diff images\n",
       "                // almost always do), so we need to clear the canvas so that\n",
       "                // there is no ghosting.\n",
       "                fig.context.clearRect(0, 0, fig.canvas.width, fig.canvas.height);\n",
       "            }\n",
       "            fig.context.drawImage(fig.imageObj, 0, 0);\n",
       "        };\n",
       "\n",
       "    this.imageObj.onunload = function() {\n",
       "        this.ws.close();\n",
       "    }\n",
       "\n",
       "    this.ws.onmessage = this._make_on_message_function(this);\n",
       "\n",
       "    this.ondownload = ondownload;\n",
       "}\n",
       "\n",
       "mpl.figure.prototype._init_header = function() {\n",
       "    var titlebar = $(\n",
       "        '<div class=\"ui-dialog-titlebar ui-widget-header ui-corner-all ' +\n",
       "        'ui-helper-clearfix\"/>');\n",
       "    var titletext = $(\n",
       "        '<div class=\"ui-dialog-title\" style=\"width: 100%; ' +\n",
       "        'text-align: center; padding: 3px;\"/>');\n",
       "    titlebar.append(titletext)\n",
       "    this.root.append(titlebar);\n",
       "    this.header = titletext[0];\n",
       "}\n",
       "\n",
       "\n",
       "\n",
       "mpl.figure.prototype._canvas_extra_style = function(canvas_div) {\n",
       "\n",
       "}\n",
       "\n",
       "\n",
       "mpl.figure.prototype._root_extra_style = function(canvas_div) {\n",
       "\n",
       "}\n",
       "\n",
       "mpl.figure.prototype._init_canvas = function() {\n",
       "    var fig = this;\n",
       "\n",
       "    var canvas_div = $('<div/>');\n",
       "\n",
       "    canvas_div.attr('style', 'position: relative; clear: both; outline: 0');\n",
       "\n",
       "    function canvas_keyboard_event(event) {\n",
       "        return fig.key_event(event, event['data']);\n",
       "    }\n",
       "\n",
       "    canvas_div.keydown('key_press', canvas_keyboard_event);\n",
       "    canvas_div.keyup('key_release', canvas_keyboard_event);\n",
       "    this.canvas_div = canvas_div\n",
       "    this._canvas_extra_style(canvas_div)\n",
       "    this.root.append(canvas_div);\n",
       "\n",
       "    var canvas = $('<canvas/>');\n",
       "    canvas.addClass('mpl-canvas');\n",
       "    canvas.attr('style', \"left: 0; top: 0; z-index: 0; outline: 0\")\n",
       "\n",
       "    this.canvas = canvas[0];\n",
       "    this.context = canvas[0].getContext(\"2d\");\n",
       "\n",
       "    var rubberband = $('<canvas/>');\n",
       "    rubberband.attr('style', \"position: absolute; left: 0; top: 0; z-index: 1;\")\n",
       "\n",
       "    var pass_mouse_events = true;\n",
       "\n",
       "    canvas_div.resizable({\n",
       "        start: function(event, ui) {\n",
       "            pass_mouse_events = false;\n",
       "        },\n",
       "        resize: function(event, ui) {\n",
       "            fig.request_resize(ui.size.width, ui.size.height);\n",
       "        },\n",
       "        stop: function(event, ui) {\n",
       "            pass_mouse_events = true;\n",
       "            fig.request_resize(ui.size.width, ui.size.height);\n",
       "        },\n",
       "    });\n",
       "\n",
       "    function mouse_event_fn(event) {\n",
       "        if (pass_mouse_events)\n",
       "            return fig.mouse_event(event, event['data']);\n",
       "    }\n",
       "\n",
       "    rubberband.mousedown('button_press', mouse_event_fn);\n",
       "    rubberband.mouseup('button_release', mouse_event_fn);\n",
       "    // Throttle sequential mouse events to 1 every 20ms.\n",
       "    rubberband.mousemove('motion_notify', mouse_event_fn);\n",
       "\n",
       "    rubberband.mouseenter('figure_enter', mouse_event_fn);\n",
       "    rubberband.mouseleave('figure_leave', mouse_event_fn);\n",
       "\n",
       "    canvas_div.on(\"wheel\", function (event) {\n",
       "        event = event.originalEvent;\n",
       "        event['data'] = 'scroll'\n",
       "        if (event.deltaY < 0) {\n",
       "            event.step = 1;\n",
       "        } else {\n",
       "            event.step = -1;\n",
       "        }\n",
       "        mouse_event_fn(event);\n",
       "    });\n",
       "\n",
       "    canvas_div.append(canvas);\n",
       "    canvas_div.append(rubberband);\n",
       "\n",
       "    this.rubberband = rubberband;\n",
       "    this.rubberband_canvas = rubberband[0];\n",
       "    this.rubberband_context = rubberband[0].getContext(\"2d\");\n",
       "    this.rubberband_context.strokeStyle = \"#000000\";\n",
       "\n",
       "    this._resize_canvas = function(width, height) {\n",
       "        // Keep the size of the canvas, canvas container, and rubber band\n",
       "        // canvas in synch.\n",
       "        canvas_div.css('width', width)\n",
       "        canvas_div.css('height', height)\n",
       "\n",
       "        canvas.attr('width', width);\n",
       "        canvas.attr('height', height);\n",
       "\n",
       "        rubberband.attr('width', width);\n",
       "        rubberband.attr('height', height);\n",
       "    }\n",
       "\n",
       "    // Set the figure to an initial 600x600px, this will subsequently be updated\n",
       "    // upon first draw.\n",
       "    this._resize_canvas(600, 600);\n",
       "\n",
       "    // Disable right mouse context menu.\n",
       "    $(this.rubberband_canvas).bind(\"contextmenu\",function(e){\n",
       "        return false;\n",
       "    });\n",
       "\n",
       "    function set_focus () {\n",
       "        canvas.focus();\n",
       "        canvas_div.focus();\n",
       "    }\n",
       "\n",
       "    window.setTimeout(set_focus, 100);\n",
       "}\n",
       "\n",
       "mpl.figure.prototype._init_toolbar = function() {\n",
       "    var fig = this;\n",
       "\n",
       "    var nav_element = $('<div/>')\n",
       "    nav_element.attr('style', 'width: 100%');\n",
       "    this.root.append(nav_element);\n",
       "\n",
       "    // Define a callback function for later on.\n",
       "    function toolbar_event(event) {\n",
       "        return fig.toolbar_button_onclick(event['data']);\n",
       "    }\n",
       "    function toolbar_mouse_event(event) {\n",
       "        return fig.toolbar_button_onmouseover(event['data']);\n",
       "    }\n",
       "\n",
       "    for(var toolbar_ind in mpl.toolbar_items) {\n",
       "        var name = mpl.toolbar_items[toolbar_ind][0];\n",
       "        var tooltip = mpl.toolbar_items[toolbar_ind][1];\n",
       "        var image = mpl.toolbar_items[toolbar_ind][2];\n",
       "        var method_name = mpl.toolbar_items[toolbar_ind][3];\n",
       "\n",
       "        if (!name) {\n",
       "            // put a spacer in here.\n",
       "            continue;\n",
       "        }\n",
       "        var button = $('<button/>');\n",
       "        button.addClass('ui-button ui-widget ui-state-default ui-corner-all ' +\n",
       "                        'ui-button-icon-only');\n",
       "        button.attr('role', 'button');\n",
       "        button.attr('aria-disabled', 'false');\n",
       "        button.click(method_name, toolbar_event);\n",
       "        button.mouseover(tooltip, toolbar_mouse_event);\n",
       "\n",
       "        var icon_img = $('<span/>');\n",
       "        icon_img.addClass('ui-button-icon-primary ui-icon');\n",
       "        icon_img.addClass(image);\n",
       "        icon_img.addClass('ui-corner-all');\n",
       "\n",
       "        var tooltip_span = $('<span/>');\n",
       "        tooltip_span.addClass('ui-button-text');\n",
       "        tooltip_span.html(tooltip);\n",
       "\n",
       "        button.append(icon_img);\n",
       "        button.append(tooltip_span);\n",
       "\n",
       "        nav_element.append(button);\n",
       "    }\n",
       "\n",
       "    var fmt_picker_span = $('<span/>');\n",
       "\n",
       "    var fmt_picker = $('<select/>');\n",
       "    fmt_picker.addClass('mpl-toolbar-option ui-widget ui-widget-content');\n",
       "    fmt_picker_span.append(fmt_picker);\n",
       "    nav_element.append(fmt_picker_span);\n",
       "    this.format_dropdown = fmt_picker[0];\n",
       "\n",
       "    for (var ind in mpl.extensions) {\n",
       "        var fmt = mpl.extensions[ind];\n",
       "        var option = $(\n",
       "            '<option/>', {selected: fmt === mpl.default_extension}).html(fmt);\n",
       "        fmt_picker.append(option)\n",
       "    }\n",
       "\n",
       "    // Add hover states to the ui-buttons\n",
       "    $( \".ui-button\" ).hover(\n",
       "        function() { $(this).addClass(\"ui-state-hover\");},\n",
       "        function() { $(this).removeClass(\"ui-state-hover\");}\n",
       "    );\n",
       "\n",
       "    var status_bar = $('<span class=\"mpl-message\"/>');\n",
       "    nav_element.append(status_bar);\n",
       "    this.message = status_bar[0];\n",
       "}\n",
       "\n",
       "mpl.figure.prototype.request_resize = function(x_pixels, y_pixels) {\n",
       "    // Request matplotlib to resize the figure. Matplotlib will then trigger a resize in the client,\n",
       "    // which will in turn request a refresh of the image.\n",
       "    this.send_message('resize', {'width': x_pixels, 'height': y_pixels});\n",
       "}\n",
       "\n",
       "mpl.figure.prototype.send_message = function(type, properties) {\n",
       "    properties['type'] = type;\n",
       "    properties['figure_id'] = this.id;\n",
       "    this.ws.send(JSON.stringify(properties));\n",
       "}\n",
       "\n",
       "mpl.figure.prototype.send_draw_message = function() {\n",
       "    if (!this.waiting) {\n",
       "        this.waiting = true;\n",
       "        this.ws.send(JSON.stringify({type: \"draw\", figure_id: this.id}));\n",
       "    }\n",
       "}\n",
       "\n",
       "\n",
       "mpl.figure.prototype.handle_save = function(fig, msg) {\n",
       "    var format_dropdown = fig.format_dropdown;\n",
       "    var format = format_dropdown.options[format_dropdown.selectedIndex].value;\n",
       "    fig.ondownload(fig, format);\n",
       "}\n",
       "\n",
       "\n",
       "mpl.figure.prototype.handle_resize = function(fig, msg) {\n",
       "    var size = msg['size'];\n",
       "    if (size[0] != fig.canvas.width || size[1] != fig.canvas.height) {\n",
       "        fig._resize_canvas(size[0], size[1]);\n",
       "        fig.send_message(\"refresh\", {});\n",
       "    };\n",
       "}\n",
       "\n",
       "mpl.figure.prototype.handle_rubberband = function(fig, msg) {\n",
       "    var x0 = msg['x0'];\n",
       "    var y0 = fig.canvas.height - msg['y0'];\n",
       "    var x1 = msg['x1'];\n",
       "    var y1 = fig.canvas.height - msg['y1'];\n",
       "    x0 = Math.floor(x0) + 0.5;\n",
       "    y0 = Math.floor(y0) + 0.5;\n",
       "    x1 = Math.floor(x1) + 0.5;\n",
       "    y1 = Math.floor(y1) + 0.5;\n",
       "    var min_x = Math.min(x0, x1);\n",
       "    var min_y = Math.min(y0, y1);\n",
       "    var width = Math.abs(x1 - x0);\n",
       "    var height = Math.abs(y1 - y0);\n",
       "\n",
       "    fig.rubberband_context.clearRect(\n",
       "        0, 0, fig.canvas.width, fig.canvas.height);\n",
       "\n",
       "    fig.rubberband_context.strokeRect(min_x, min_y, width, height);\n",
       "}\n",
       "\n",
       "mpl.figure.prototype.handle_figure_label = function(fig, msg) {\n",
       "    // Updates the figure title.\n",
       "    fig.header.textContent = msg['label'];\n",
       "}\n",
       "\n",
       "mpl.figure.prototype.handle_cursor = function(fig, msg) {\n",
       "    var cursor = msg['cursor'];\n",
       "    switch(cursor)\n",
       "    {\n",
       "    case 0:\n",
       "        cursor = 'pointer';\n",
       "        break;\n",
       "    case 1:\n",
       "        cursor = 'default';\n",
       "        break;\n",
       "    case 2:\n",
       "        cursor = 'crosshair';\n",
       "        break;\n",
       "    case 3:\n",
       "        cursor = 'move';\n",
       "        break;\n",
       "    }\n",
       "    fig.rubberband_canvas.style.cursor = cursor;\n",
       "}\n",
       "\n",
       "mpl.figure.prototype.handle_message = function(fig, msg) {\n",
       "    fig.message.textContent = msg['message'];\n",
       "}\n",
       "\n",
       "mpl.figure.prototype.handle_draw = function(fig, msg) {\n",
       "    // Request the server to send over a new figure.\n",
       "    fig.send_draw_message();\n",
       "}\n",
       "\n",
       "mpl.figure.prototype.handle_image_mode = function(fig, msg) {\n",
       "    fig.image_mode = msg['mode'];\n",
       "}\n",
       "\n",
       "mpl.figure.prototype.updated_canvas_event = function() {\n",
       "    // Called whenever the canvas gets updated.\n",
       "    this.send_message(\"ack\", {});\n",
       "}\n",
       "\n",
       "// A function to construct a web socket function for onmessage handling.\n",
       "// Called in the figure constructor.\n",
       "mpl.figure.prototype._make_on_message_function = function(fig) {\n",
       "    return function socket_on_message(evt) {\n",
       "        if (evt.data instanceof Blob) {\n",
       "            /* FIXME: We get \"Resource interpreted as Image but\n",
       "             * transferred with MIME type text/plain:\" errors on\n",
       "             * Chrome.  But how to set the MIME type?  It doesn't seem\n",
       "             * to be part of the websocket stream */\n",
       "            evt.data.type = \"image/png\";\n",
       "\n",
       "            /* Free the memory for the previous frames */\n",
       "            if (fig.imageObj.src) {\n",
       "                (window.URL || window.webkitURL).revokeObjectURL(\n",
       "                    fig.imageObj.src);\n",
       "            }\n",
       "\n",
       "            fig.imageObj.src = (window.URL || window.webkitURL).createObjectURL(\n",
       "                evt.data);\n",
       "            fig.updated_canvas_event();\n",
       "            fig.waiting = false;\n",
       "            return;\n",
       "        }\n",
       "        else if (typeof evt.data === 'string' && evt.data.slice(0, 21) == \"data:image/png;base64\") {\n",
       "            fig.imageObj.src = evt.data;\n",
       "            fig.updated_canvas_event();\n",
       "            fig.waiting = false;\n",
       "            return;\n",
       "        }\n",
       "\n",
       "        var msg = JSON.parse(evt.data);\n",
       "        var msg_type = msg['type'];\n",
       "\n",
       "        // Call the  \"handle_{type}\" callback, which takes\n",
       "        // the figure and JSON message as its only arguments.\n",
       "        try {\n",
       "            var callback = fig[\"handle_\" + msg_type];\n",
       "        } catch (e) {\n",
       "            console.log(\"No handler for the '\" + msg_type + \"' message type: \", msg);\n",
       "            return;\n",
       "        }\n",
       "\n",
       "        if (callback) {\n",
       "            try {\n",
       "                // console.log(\"Handling '\" + msg_type + \"' message: \", msg);\n",
       "                callback(fig, msg);\n",
       "            } catch (e) {\n",
       "                console.log(\"Exception inside the 'handler_\" + msg_type + \"' callback:\", e, e.stack, msg);\n",
       "            }\n",
       "        }\n",
       "    };\n",
       "}\n",
       "\n",
       "// from http://stackoverflow.com/questions/1114465/getting-mouse-location-in-canvas\n",
       "mpl.findpos = function(e) {\n",
       "    //this section is from http://www.quirksmode.org/js/events_properties.html\n",
       "    var targ;\n",
       "    if (!e)\n",
       "        e = window.event;\n",
       "    if (e.target)\n",
       "        targ = e.target;\n",
       "    else if (e.srcElement)\n",
       "        targ = e.srcElement;\n",
       "    if (targ.nodeType == 3) // defeat Safari bug\n",
       "        targ = targ.parentNode;\n",
       "\n",
       "    // jQuery normalizes the pageX and pageY\n",
       "    // pageX,Y are the mouse positions relative to the document\n",
       "    // offset() returns the position of the element relative to the document\n",
       "    var x = e.pageX - $(targ).offset().left;\n",
       "    var y = e.pageY - $(targ).offset().top;\n",
       "\n",
       "    return {\"x\": x, \"y\": y};\n",
       "};\n",
       "\n",
       "/*\n",
       " * return a copy of an object with only non-object keys\n",
       " * we need this to avoid circular references\n",
       " * http://stackoverflow.com/a/24161582/3208463\n",
       " */\n",
       "function simpleKeys (original) {\n",
       "  return Object.keys(original).reduce(function (obj, key) {\n",
       "    if (typeof original[key] !== 'object')\n",
       "        obj[key] = original[key]\n",
       "    return obj;\n",
       "  }, {});\n",
       "}\n",
       "\n",
       "mpl.figure.prototype.mouse_event = function(event, name) {\n",
       "    var canvas_pos = mpl.findpos(event)\n",
       "\n",
       "    if (name === 'button_press')\n",
       "    {\n",
       "        this.canvas.focus();\n",
       "        this.canvas_div.focus();\n",
       "    }\n",
       "\n",
       "    var x = canvas_pos.x;\n",
       "    var y = canvas_pos.y;\n",
       "\n",
       "    this.send_message(name, {x: x, y: y, button: event.button,\n",
       "                             step: event.step,\n",
       "                             guiEvent: simpleKeys(event)});\n",
       "\n",
       "    /* This prevents the web browser from automatically changing to\n",
       "     * the text insertion cursor when the button is pressed.  We want\n",
       "     * to control all of the cursor setting manually through the\n",
       "     * 'cursor' event from matplotlib */\n",
       "    event.preventDefault();\n",
       "    return false;\n",
       "}\n",
       "\n",
       "mpl.figure.prototype._key_event_extra = function(event, name) {\n",
       "    // Handle any extra behaviour associated with a key event\n",
       "}\n",
       "\n",
       "mpl.figure.prototype.key_event = function(event, name) {\n",
       "\n",
       "    // Prevent repeat events\n",
       "    if (name == 'key_press')\n",
       "    {\n",
       "        if (event.which === this._key)\n",
       "            return;\n",
       "        else\n",
       "            this._key = event.which;\n",
       "    }\n",
       "    if (name == 'key_release')\n",
       "        this._key = null;\n",
       "\n",
       "    var value = '';\n",
       "    if (event.ctrlKey && event.which != 17)\n",
       "        value += \"ctrl+\";\n",
       "    if (event.altKey && event.which != 18)\n",
       "        value += \"alt+\";\n",
       "    if (event.shiftKey && event.which != 16)\n",
       "        value += \"shift+\";\n",
       "\n",
       "    value += 'k';\n",
       "    value += event.which.toString();\n",
       "\n",
       "    this._key_event_extra(event, name);\n",
       "\n",
       "    this.send_message(name, {key: value,\n",
       "                             guiEvent: simpleKeys(event)});\n",
       "    return false;\n",
       "}\n",
       "\n",
       "mpl.figure.prototype.toolbar_button_onclick = function(name) {\n",
       "    if (name == 'download') {\n",
       "        this.handle_save(this, null);\n",
       "    } else {\n",
       "        this.send_message(\"toolbar_button\", {name: name});\n",
       "    }\n",
       "};\n",
       "\n",
       "mpl.figure.prototype.toolbar_button_onmouseover = function(tooltip) {\n",
       "    this.message.textContent = tooltip;\n",
       "};\n",
       "mpl.toolbar_items = [[\"Home\", \"Reset original view\", \"fa fa-home icon-home\", \"home\"], [\"Back\", \"Back to  previous view\", \"fa fa-arrow-left icon-arrow-left\", \"back\"], [\"Forward\", \"Forward to next view\", \"fa fa-arrow-right icon-arrow-right\", \"forward\"], [\"\", \"\", \"\", \"\"], [\"Pan\", \"Pan axes with left mouse, zoom with right\", \"fa fa-arrows icon-move\", \"pan\"], [\"Zoom\", \"Zoom to rectangle\", \"fa fa-square-o icon-check-empty\", \"zoom\"], [\"\", \"\", \"\", \"\"], [\"Download\", \"Download plot\", \"fa fa-floppy-o icon-save\", \"download\"]];\n",
       "\n",
       "mpl.extensions = [\"eps\", \"jpeg\", \"pdf\", \"png\", \"ps\", \"raw\", \"svg\", \"tif\"];\n",
       "\n",
       "mpl.default_extension = \"png\";var comm_websocket_adapter = function(comm) {\n",
       "    // Create a \"websocket\"-like object which calls the given IPython comm\n",
       "    // object with the appropriate methods. Currently this is a non binary\n",
       "    // socket, so there is still some room for performance tuning.\n",
       "    var ws = {};\n",
       "\n",
       "    ws.close = function() {\n",
       "        comm.close()\n",
       "    };\n",
       "    ws.send = function(m) {\n",
       "        //console.log('sending', m);\n",
       "        comm.send(m);\n",
       "    };\n",
       "    // Register the callback with on_msg.\n",
       "    comm.on_msg(function(msg) {\n",
       "        //console.log('receiving', msg['content']['data'], msg);\n",
       "        // Pass the mpl event to the overriden (by mpl) onmessage function.\n",
       "        ws.onmessage(msg['content']['data'])\n",
       "    });\n",
       "    return ws;\n",
       "}\n",
       "\n",
       "mpl.mpl_figure_comm = function(comm, msg) {\n",
       "    // This is the function which gets called when the mpl process\n",
       "    // starts-up an IPython Comm through the \"matplotlib\" channel.\n",
       "\n",
       "    var id = msg.content.data.id;\n",
       "    // Get hold of the div created by the display call when the Comm\n",
       "    // socket was opened in Python.\n",
       "    var element = $(\"#\" + id);\n",
       "    var ws_proxy = comm_websocket_adapter(comm)\n",
       "\n",
       "    function ondownload(figure, format) {\n",
       "        window.open(figure.imageObj.src);\n",
       "    }\n",
       "\n",
       "    var fig = new mpl.figure(id, ws_proxy,\n",
       "                           ondownload,\n",
       "                           element.get(0));\n",
       "\n",
       "    // Call onopen now - mpl needs it, as it is assuming we've passed it a real\n",
       "    // web socket which is closed, not our websocket->open comm proxy.\n",
       "    ws_proxy.onopen();\n",
       "\n",
       "    fig.parent_element = element.get(0);\n",
       "    fig.cell_info = mpl.find_output_cell(\"<div id='\" + id + \"'></div>\");\n",
       "    if (!fig.cell_info) {\n",
       "        console.error(\"Failed to find cell for figure\", id, fig);\n",
       "        return;\n",
       "    }\n",
       "\n",
       "    var output_index = fig.cell_info[2]\n",
       "    var cell = fig.cell_info[0];\n",
       "\n",
       "};\n",
       "\n",
       "mpl.figure.prototype.handle_close = function(fig, msg) {\n",
       "    fig.root.unbind('remove')\n",
       "\n",
       "    // Update the output cell to use the data from the current canvas.\n",
       "    fig.push_to_output();\n",
       "    var dataURL = fig.canvas.toDataURL();\n",
       "    // Re-enable the keyboard manager in IPython - without this line, in FF,\n",
       "    // the notebook keyboard shortcuts fail.\n",
       "    IPython.keyboard_manager.enable()\n",
       "    $(fig.parent_element).html('<img src=\"' + dataURL + '\">');\n",
       "    fig.close_ws(fig, msg);\n",
       "}\n",
       "\n",
       "mpl.figure.prototype.close_ws = function(fig, msg){\n",
       "    fig.send_message('closing', msg);\n",
       "    // fig.ws.close()\n",
       "}\n",
       "\n",
       "mpl.figure.prototype.push_to_output = function(remove_interactive) {\n",
       "    // Turn the data on the canvas into data in the output cell.\n",
       "    var dataURL = this.canvas.toDataURL();\n",
       "    this.cell_info[1]['text/html'] = '<img src=\"' + dataURL + '\">';\n",
       "}\n",
       "\n",
       "mpl.figure.prototype.updated_canvas_event = function() {\n",
       "    // Tell IPython that the notebook contents must change.\n",
       "    IPython.notebook.set_dirty(true);\n",
       "    this.send_message(\"ack\", {});\n",
       "    var fig = this;\n",
       "    // Wait a second, then push the new image to the DOM so\n",
       "    // that it is saved nicely (might be nice to debounce this).\n",
       "    setTimeout(function () { fig.push_to_output() }, 1000);\n",
       "}\n",
       "\n",
       "mpl.figure.prototype._init_toolbar = function() {\n",
       "    var fig = this;\n",
       "\n",
       "    var nav_element = $('<div/>')\n",
       "    nav_element.attr('style', 'width: 100%');\n",
       "    this.root.append(nav_element);\n",
       "\n",
       "    // Define a callback function for later on.\n",
       "    function toolbar_event(event) {\n",
       "        return fig.toolbar_button_onclick(event['data']);\n",
       "    }\n",
       "    function toolbar_mouse_event(event) {\n",
       "        return fig.toolbar_button_onmouseover(event['data']);\n",
       "    }\n",
       "\n",
       "    for(var toolbar_ind in mpl.toolbar_items){\n",
       "        var name = mpl.toolbar_items[toolbar_ind][0];\n",
       "        var tooltip = mpl.toolbar_items[toolbar_ind][1];\n",
       "        var image = mpl.toolbar_items[toolbar_ind][2];\n",
       "        var method_name = mpl.toolbar_items[toolbar_ind][3];\n",
       "\n",
       "        if (!name) { continue; };\n",
       "\n",
       "        var button = $('<button class=\"btn btn-default\" href=\"#\" title=\"' + name + '\"><i class=\"fa ' + image + ' fa-lg\"></i></button>');\n",
       "        button.click(method_name, toolbar_event);\n",
       "        button.mouseover(tooltip, toolbar_mouse_event);\n",
       "        nav_element.append(button);\n",
       "    }\n",
       "\n",
       "    // Add the status bar.\n",
       "    var status_bar = $('<span class=\"mpl-message\" style=\"text-align:right; float: right;\"/>');\n",
       "    nav_element.append(status_bar);\n",
       "    this.message = status_bar[0];\n",
       "\n",
       "    // Add the close button to the window.\n",
       "    var buttongrp = $('<div class=\"btn-group inline pull-right\"></div>');\n",
       "    var button = $('<button class=\"btn btn-mini btn-primary\" href=\"#\" title=\"Stop Interaction\"><i class=\"fa fa-power-off icon-remove icon-large\"></i></button>');\n",
       "    button.click(function (evt) { fig.handle_close(fig, {}); } );\n",
       "    button.mouseover('Stop Interaction', toolbar_mouse_event);\n",
       "    buttongrp.append(button);\n",
       "    var titlebar = this.root.find($('.ui-dialog-titlebar'));\n",
       "    titlebar.prepend(buttongrp);\n",
       "}\n",
       "\n",
       "mpl.figure.prototype._root_extra_style = function(el){\n",
       "    var fig = this\n",
       "    el.on(\"remove\", function(){\n",
       "\tfig.close_ws(fig, {});\n",
       "    });\n",
       "}\n",
       "\n",
       "mpl.figure.prototype._canvas_extra_style = function(el){\n",
       "    // this is important to make the div 'focusable\n",
       "    el.attr('tabindex', 0)\n",
       "    // reach out to IPython and tell the keyboard manager to turn it's self\n",
       "    // off when our div gets focus\n",
       "\n",
       "    // location in version 3\n",
       "    if (IPython.notebook.keyboard_manager) {\n",
       "        IPython.notebook.keyboard_manager.register_events(el);\n",
       "    }\n",
       "    else {\n",
       "        // location in version 2\n",
       "        IPython.keyboard_manager.register_events(el);\n",
       "    }\n",
       "\n",
       "}\n",
       "\n",
       "mpl.figure.prototype._key_event_extra = function(event, name) {\n",
       "    var manager = IPython.notebook.keyboard_manager;\n",
       "    if (!manager)\n",
       "        manager = IPython.keyboard_manager;\n",
       "\n",
       "    // Check for shift+enter\n",
       "    if (event.shiftKey && event.which == 13) {\n",
       "        this.canvas_div.blur();\n",
       "        // select the cell after this one\n",
       "        var index = IPython.notebook.find_cell_index(this.cell_info[0]);\n",
       "        IPython.notebook.select(index + 1);\n",
       "    }\n",
       "}\n",
       "\n",
       "mpl.figure.prototype.handle_save = function(fig, msg) {\n",
       "    fig.ondownload(fig, null);\n",
       "}\n",
       "\n",
       "\n",
       "mpl.find_output_cell = function(html_output) {\n",
       "    // Return the cell and output element which can be found *uniquely* in the notebook.\n",
       "    // Note - this is a bit hacky, but it is done because the \"notebook_saving.Notebook\"\n",
       "    // IPython event is triggered only after the cells have been serialised, which for\n",
       "    // our purposes (turning an active figure into a static one), is too late.\n",
       "    var cells = IPython.notebook.get_cells();\n",
       "    var ncells = cells.length;\n",
       "    for (var i=0; i<ncells; i++) {\n",
       "        var cell = cells[i];\n",
       "        if (cell.cell_type === 'code'){\n",
       "            for (var j=0; j<cell.output_area.outputs.length; j++) {\n",
       "                var data = cell.output_area.outputs[j];\n",
       "                if (data.data) {\n",
       "                    // IPython >= 3 moved mimebundle to data attribute of output\n",
       "                    data = data.data;\n",
       "                }\n",
       "                if (data['text/html'] == html_output) {\n",
       "                    return [cell, data, j];\n",
       "                }\n",
       "            }\n",
       "        }\n",
       "    }\n",
       "}\n",
       "\n",
       "// Register the function which deals with the matplotlib target/channel.\n",
       "// The kernel may be null if the page has been refreshed.\n",
       "if (IPython.notebook.kernel != null) {\n",
       "    IPython.notebook.kernel.comm_manager.register_target('matplotlib', mpl.mpl_figure_comm);\n",
       "}\n"
      ],
      "text/plain": [
       "<IPython.core.display.Javascript object>"
      ]
     },
     "metadata": {},
     "output_type": "display_data"
    },
    {
     "data": {
      "text/html": [
       "<img src=\"data:image/png;base64,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\">"
      ],
      "text/plain": [
       "<IPython.core.display.HTML object>"
      ]
     },
     "metadata": {},
     "output_type": "display_data"
    }
   ],
   "source": [
    "%matplotlib notebook\n",
    "plot_event(es[7])"
   ]
  },
  {
   "cell_type": "code",
   "execution_count": 64,
   "metadata": {
    "collapsed": false
   },
   "outputs": [
    {
     "data": {
      "text/plain": [
       "[Distribution: channel:0 value:filtered_signal, trigger:clock, qualifier:all,\n",
       " Distribution: channel:0 value:filtered_signal, trigger:clock, qualifier:all,\n",
       " Distribution: channel:0 value:filtered_signal, trigger:clock, qualifier:all]"
      ]
     },
     "execution_count": 64,
     "metadata": {},
     "output_type": "execute_result"
    }
   ],
   "source": [
    "bs.distributions"
   ]
  },
  {
   "cell_type": "code",
   "execution_count": 65,
   "metadata": {
    "collapsed": false
   },
   "outputs": [
    {
     "data": {
      "text/plain": [
       "(array([], dtype=int64),)"
      ]
     },
     "execution_count": 65,
     "metadata": {},
     "output_type": "execute_result"
    }
   ],
   "source": [
    "d=bs.distributions[0]\n",
    "eset=np.uint64(1)\n",
    "bset=np.uint64(0)\n",
    "cset=np.uint64(20)\n",
    "\n",
    "stop=d.stop_time+eset+cset\n",
    "start=d.start_time+bset+cset\n",
    "bins=np.zeros((d.last_bin+1,),dtype=np.uint32)\n",
    "for i in range(start,stop):\n",
    "    s = traces['filtered'][i]\n",
    "    if s <= d.lowest_value:\n",
    "        bins[0] += 1\n",
    "    else:\n",
    "        bins[s-d.lowest_value] += 1\n",
    "        \n",
    "(bins-d.counts).nonzero()"
   ]
  },
  {
   "cell_type": "code",
   "execution_count": 42,
   "metadata": {
    "collapsed": false
   },
   "outputs": [
    {
     "data": {
      "text/plain": [
       "0"
      ]
     },
     "execution_count": 42,
     "metadata": {},
     "output_type": "execute_result"
    }
   ],
   "source": [
    "d.overflow"
   ]
  },
  {
   "cell_type": "code",
   "execution_count": 55,
   "metadata": {
    "collapsed": false
   },
   "outputs": [
    {
     "data": {
      "text/plain": [
       "18384"
      ]
     },
     "execution_count": 55,
     "metadata": {},
     "output_type": "execute_result"
    }
   ],
   "source": [
    "sum(bins)"
   ]
  },
  {
   "cell_type": "code",
   "execution_count": 56,
   "metadata": {
    "collapsed": false
   },
   "outputs": [
    {
     "data": {
      "text/plain": [
       "18384"
      ]
     },
     "execution_count": 56,
     "metadata": {},
     "output_type": "execute_result"
    }
   ],
   "source": [
    "sum(d.counts)"
   ]
  },
  {
   "cell_type": "code",
   "execution_count": null,
   "metadata": {
    "collapsed": false
   },
   "outputs": [],
   "source": [
    "2**14+2000"
   ]
  },
  {
   "cell_type": "code",
   "execution_count": null,
   "metadata": {
    "collapsed": false
   },
   "outputs": [],
   "source": [
    "es[3][2]['timestamp']-es[0][2]['timestamp']"
   ]
  },
  {
   "cell_type": "code",
   "execution_count": null,
   "metadata": {
    "collapsed": true
   },
   "outputs": [],
   "source": [
    "def xings(s, thresh):\n",
    "    pos=s > thresh\n",
    "    neg=s < thresh\n",
    "    pos0=s >= thresh\n",
    "    neg0=s <= thresh\n",
    "    pos_xing_mask = np.bitwise_and(pos0[1:],neg[0:-1])  \n",
    "    neg_xing_mask = np.bitwise_and(neg0[1:],pos[0:-1])  \n",
    "    return pos_xing_mask.nonzero()[0]+1, neg_xing_mask.nonzero()[0]+1"
   ]
  },
  {
   "cell_type": "code",
   "execution_count": null,
   "metadata": {
    "collapsed": true
   },
   "outputs": [],
   "source": [
    "from mpl_toolkits.axes_grid1 import host_subplot\n",
    "\n",
    "def plot_trace(traces,start,width):\n",
    "\n",
    "    ax = host_subplot(111)\n",
    "    axr = ax.twinx()\n",
    "    axt = ax.twiny()\n",
    "#ax.plot(t[0:-1:10],s[0:-1:10],'k')\n",
    "#ax.plot(t,s,'k')\n",
    "    axt.set_xlabel('Time ns',fontsize=18)\n",
    "    ax.set_ylabel('Voltage (Arbitary Units)',fontsize=18)\n",
    "#plt.xticks(visible=False)\n",
    "#plt.yticks(visible=False)\n",
    "#ax.set_xlim(0,t[4000000])\n",
    "#start=902000\n",
    "#width=2500\n",
    "    f=traces['filtered'][start:start+width]\n",
    "    s=traces['slope'][start:start+width]\n",
    "    t=np.arange(len(f))*4e-9\n",
    "#ts=t[pstart:pstop]\n",
    "#axins = fig.add_axes([.4, .45, .45, .4])\n",
    "    ax.set_xlim(t[0],t[-1])\n",
    "    axt.set_xlim(t[0],t[-1])\n",
    "\n",
    "    ylim=(-500,2000)\n",
    "\n",
    "    ax.set_ylim(ylim[0],ylim[1])\n",
    "    axr.set_ylim(ylim[0],ylim[1])\n",
    "\n",
    "    filtered, = ax.step(t,f,'k',lw=2,label='filtered')\n",
    "    slope, = ax.step(t,s,'b',label='slope')\n",
    "    ax.fill_between(t,0,s,alpha=.4)\n",
    "    plt.ylim=ylim\n",
    "\n",
    "pos=s>0\n",
    "neg=s<=0\n",
    "pos_xing_mask = np.bitwise_and(pos[1:-1],neg[0:-2])  \n",
    "neg_xing_mask = np.bitwise_and(neg[1:-1],pos[0:-2])  \n",
    "pos_xing=pos_xing_mask.nonzero()\n",
    "neg_xing=neg_xing_mask.nonzero()\n",
    "\n",
    "rx=[t[pos_xing[0][0]], t[neg_xing[0][0]]]\n",
    "ry=[f[pos_xing[0][0]], f[neg_xing[0][0]]]\n",
    "\n",
    "ax.fill_between(t[pos_xing[0][0]:neg_xing[0][0]],0,s[pos_xing[0][0]:neg_xing[0][0]],alpha=.4,color='r')\n",
    "\n",
    "#plt.plot(rx,[ry[0], ry[0]],'-r',lw=2)\n",
    "#plt.plot([rx[1],rx[1]], ry,'-r',lw=2)\n",
    "# thresholds\n",
    "sthresh = 600\n",
    "pthresh = 1000\n",
    "plt.plot([t[0], t[-1]], [sthresh, sthresh], '--b', lw=2)\n",
    "plt.plot([t[0], t[-1]], [pthresh, pthresh], '--k', lw=2)\n",
    "\n",
    "sthresh_xing=(s>sthresh).nonzero()[0][0]\n",
    "pthresh_xing=(f>pthresh).nonzero()[0][0]\n",
    "\n",
    "\n",
    "cf=.10\n",
    "height = ry[1]-ry[0]\n",
    "cfl=ry[0]+(height*cf)\n",
    "cfh=ry[1]-(height*cf)\n",
    "\n",
    "cfl_xing=(f>cfl).nonzero()[0][0]\n",
    "cfd_low=f[cfl_xing]\n",
    "cfh_xing=(f>cfh).nonzero()[0][0]\n",
    "cfd_high=f[cfh_xing]\n",
    "\n",
    "#plt.plot([t[cfl_xing], t[-1]],[cfd_low, cfd_low], ':r')\n",
    "#plt.plot([t[cfh_xing], t[-1]],[cfd_high, cfd_high], ':r')\n",
    "#plt.plot([x[1], t[-1]],[y[1], y[1]], ':r')\n",
    "plt.legend([filtered, slope],['Signal', 'Slope'],loc=2)\n",
    "\n",
    "#axr = ax.twinx()\n",
    "##################################################################\n",
    "#yticks=([ry[0],sthresh,pthresh,cfd_high,ry[1]])\n",
    "yticks=([sthresh,pthresh])\n",
    "axr.set_yticks(yticks)\n",
    "#yticklabels=['Start','Slope threshold','Pulse threshold','CF high','Peak']\n",
    "yticklabels=['Slope threshold','Pulse threshold']\n",
    "axr.set_yticklabels(yticklabels, color='r',fontsize=14)\n",
    "axr.get_yticklabels()[0].set_color('b')\n",
    "axr.get_yticklabels()[1].set_color('k')\n",
    "\n",
    "#xticks=([rx[0],t[cfl_xing],t[sthresh_xing],t[pthresh_xing],rx[1]])\n",
    "xticks=(t[cfl_xing],rx[1])\n",
    "#ax.set_xticks([rx[0],t[cfl_xing],t[sthresh_xing],t[pthresh_xing],rx[1]])\n",
    "ax.set_xticks(xticks)\n",
    "#xticklabels=['Start','CF low','Slope xing','Signal xing','Peak']\n",
    "xticklabels=['CF low','Peak']\n",
    "ax.set_xticklabels(xticklabels, color='r',fontsize=14)\n",
    "\n",
    "#plt.plot([t[cfh_xing], t[-1]],[cfd_high, cfd_high], ':r')\n",
    "#horoz start, stop lines\n",
    "#hpeak=ax.plot([xticks[1], t[-1]],[yticks[-1], yticks[-1]], '-.r')\n",
    "#hstart=ax.plot([xticks[0], t[-1]],[yticks[0], yticks[0]], '-.r')\n",
    "#vert start stop\n",
    "vstart=ax.plot([xticks[0], xticks[0]],[cfd_low, ylim[0]], '-.r')\n",
    "vpeak=ax.plot([xticks[1], xticks[1]],[ylim[0], ry[1]], '-.r')\n",
    "\n",
    "plt.tight_layout()\n",
    "plt.savefig('..//peakextraction7.svg')\n",
    "plt.show()\n",
    "print('risetime:',(xticks[1]-xticks[0])/4)\n",
    "print('height:',yticks[-1]-yticks[0])\n",
    "print('time:',(xticks[0]-rx[0])/4)\n",
    "print('area',sum(s[pos_xing[0][0]:neg_xing[0][0]])/256)\n"
   ]
  },
  {
   "cell_type": "code",
   "execution_count": null,
   "metadata": {
    "collapsed": true
   },
   "outputs": [],
   "source": [
    "slope_0xings = xings(traces['slope'],0)"
   ]
  },
  {
   "cell_type": "code",
   "execution_count": null,
   "metadata": {
    "collapsed": false
   },
   "outputs": [],
   "source": [
    "slope_0xings"
   ]
  },
  {
   "cell_type": "code",
   "execution_count": null,
   "metadata": {
    "collapsed": false
   },
   "outputs": [],
   "source": [
    "%matplotlib notebook\n",
    "start=10000\n",
    "width=300\n",
    "plt.plot(traces['filtered'][start:start+width]/2)"
   ]
  },
  {
   "cell_type": "code",
   "execution_count": null,
   "metadata": {
    "collapsed": false
   },
   "outputs": [],
   "source": [
    "%matplotlib notebook\n",
    "plt.plot(traces['slope'][20400:21700])"
   ]
  },
  {
   "cell_type": "code",
   "execution_count": null,
   "metadata": {
    "collapsed": false
   },
   "outputs": [],
   "source": [
    "filtered=traces['filtered'][1100:]\n",
    "filteredL=traces['filteredL'][1100:]"
   ]
  },
  {
   "cell_type": "code",
   "execution_count": null,
   "metadata": {
    "collapsed": false
   },
   "outputs": [],
   "source": [
    "filtered[:10]"
   ]
  },
  {
   "cell_type": "code",
   "execution_count": null,
   "metadata": {
    "collapsed": false
   },
   "outputs": [],
   "source": [
    "filteredL[:10]/4"
   ]
  },
  {
   "cell_type": "code",
   "execution_count": null,
   "metadata": {
    "collapsed": false
   },
   "outputs": [],
   "source": [
    "minmax_dt=np.dtype([('filtered','i4'),('low','i4'),('high','i4'),('clk','i4')])\n",
    "minmax=Data.fromfile('minmax',minmax_dt,'teslib','measurement_subsystem_TB',tool='vivado')\n",
    "fxing_dt=np.dtype([('extrema','i4'),('area','i4'),('clk','i4')])\n",
    "fxing=Data.fromfile('filteredxing',fxing_dt,'teslib','measurement_subsystem_TB',tool='vivado')"
   ]
  },
  {
   "cell_type": "code",
   "execution_count": null,
   "metadata": {
    "collapsed": false
   },
   "outputs": [],
   "source": [
    "minmax"
   ]
  },
  {
   "cell_type": "code",
   "execution_count": null,
   "metadata": {
    "collapsed": false
   },
   "outputs": [],
   "source": [
    "fxing"
   ]
  },
  {
   "cell_type": "code",
   "execution_count": null,
   "metadata": {
    "collapsed": false
   },
   "outputs": [],
   "source": [
    "np.where(fxing['area']==0)"
   ]
  },
  {
   "cell_type": "code",
   "execution_count": null,
   "metadata": {
    "collapsed": false
   },
   "outputs": [],
   "source": [
    "np.where(fxing['extrema']==0)"
   ]
  },
  {
   "cell_type": "code",
   "execution_count": null,
   "metadata": {
    "collapsed": false
   },
   "outputs": [],
   "source": [
    "fxing[30]"
   ]
  },
  {
   "cell_type": "code",
   "execution_count": null,
   "metadata": {
    "collapsed": false
   },
   "outputs": [],
   "source": [
    "exn=np.where(fxing['extrema']<0)\n",
    "clkn=np.where(fxing['clk']>0)"
   ]
  },
  {
   "cell_type": "code",
   "execution_count": null,
   "metadata": {
    "collapsed": true
   },
   "outputs": [],
   "source": []
  },
  {
   "cell_type": "code",
   "execution_count": null,
   "metadata": {
    "collapsed": false
   },
   "outputs": [],
   "source": [
    "fxing[374]"
   ]
  },
  {
   "cell_type": "code",
   "execution_count": null,
   "metadata": {
    "collapsed": false
   },
   "outputs": [],
   "source": [
    "clkn"
   ]
  },
  {
   "cell_type": "code",
   "execution_count": null,
   "metadata": {
    "collapsed": false
   },
   "outputs": [],
   "source": [
    "np.where(minmax[maxs[0]-1]['min']!=1)"
   ]
  },
  {
   "cell_type": "code",
   "execution_count": null,
   "metadata": {
    "collapsed": false
   },
   "outputs": [],
   "source": [
    "minmax[maxs[0]-1][65]"
   ]
  },
  {
   "cell_type": "code",
   "execution_count": null,
   "metadata": {
    "collapsed": false
   },
   "outputs": [],
   "source": [
    "2290-925"
   ]
  },
  {
   "cell_type": "code",
   "execution_count": null,
   "metadata": {
    "collapsed": false
   },
   "outputs": [],
   "source": [
    "0.375*4"
   ]
  },
  {
   "cell_type": "code",
   "execution_count": null,
   "metadata": {
    "collapsed": false
   },
   "outputs": [],
   "source": [
    "np.where(minmax['clock']==2290)"
   ]
  },
  {
   "cell_type": "code",
   "execution_count": null,
   "metadata": {
    "collapsed": false
   },
   "outputs": [],
   "source": [
    "minmax[120:140]"
   ]
  },
  {
   "cell_type": "code",
   "execution_count": null,
   "metadata": {
    "collapsed": false
   },
   "outputs": [],
   "source": [
    "stream_dt=np.dtype([('data','>i4'),('last','i4')])\n",
    "#stream=np.fromfile('data/stream',stream_dt)"
   ]
  },
  {
   "cell_type": "markdown",
   "metadata": {},
   "source": [
    "### bytestream stuff"
   ]
  },
  {
   "cell_type": "code",
   "execution_count": null,
   "metadata": {
    "collapsed": false
   },
   "outputs": [],
   "source": [
    "stream_dt=np.dtype([('data','i4'),('last','i4')])\n",
    "stream=Data.fromfile('bytestream',stream_dt,'teslib','measurement_subsystem_TB',tool='vivado')\n",
    "lasts=np.where(stream['last']<=0)[0]+1\n",
    "#data=np.copy(stream['data'])"
   ]
  },
  {
   "cell_type": "code",
   "execution_count": null,
   "metadata": {
    "collapsed": false
   },
   "outputs": [],
   "source": [
    "stream"
   ]
  },
  {
   "cell_type": "code",
   "execution_count": null,
   "metadata": {
    "collapsed": true
   },
   "outputs": [],
   "source": []
  },
  {
   "cell_type": "code",
   "execution_count": null,
   "metadata": {
    "collapsed": true
   },
   "outputs": [],
   "source": [
    "stream=np.fromfile('data/bytestream',stream_dt)"
   ]
  },
  {
   "cell_type": "code",
   "execution_count": null,
   "metadata": {
    "collapsed": false
   },
   "outputs": [],
   "source": [
    "bs=PacketStream(stream)"
   ]
  },
  {
   "cell_type": "code",
   "execution_count": null,
   "metadata": {
    "collapsed": false
   },
   "outputs": [],
   "source": [
    "bs.packets"
   ]
  },
  {
   "cell_type": "code",
   "execution_count": null,
   "metadata": {
    "collapsed": false
   },
   "outputs": [],
   "source": [
    "bs.packets[4]"
   ]
  },
  {
   "cell_type": "code",
   "execution_count": null,
   "metadata": {
    "collapsed": true
   },
   "outputs": [],
   "source": [
    "eheader_dt=[('etype','<u2'),('length','u2'),()]"
   ]
  },
  {
   "cell_type": "code",
   "execution_count": null,
   "metadata": {
    "collapsed": false
   },
   "outputs": [],
   "source": [
    "'{:X}'.format(bs.packets[1].bytes[23])\n"
   ]
  },
  {
   "cell_type": "code",
   "execution_count": null,
   "metadata": {
    "collapsed": false
   },
   "outputs": [],
   "source": [
    "'{:X}'.format(bs.packets[0].bytes[28:30].view(np.uint16)[0])"
   ]
  },
  {
   "cell_type": "code",
   "execution_count": null,
   "metadata": {
    "collapsed": true
   },
   "outputs": [],
   "source": [
    "pulse_peak_dt=np.dtype([('height','i2'),('rise','i2'),('minima','u2'),('time','i2')])\n",
    "pulse_dt=np.dtype([('size','i2'),('resv','i2'),('flags','i2'),('time','u2'),\n",
    "                  ('area','i4'),('length','i2'),('offset','i2'),('peaks',(pulse_peak_dt,2))])"
   ]
  },
  {
   "cell_type": "code",
   "execution_count": null,
   "metadata": {
    "collapsed": false
   },
   "outputs": [],
   "source": [
    "pulses=bs.packets[3].payload.view(pulse_dt)"
   ]
  },
  {
   "cell_type": "code",
   "execution_count": null,
   "metadata": {
    "collapsed": false
   },
   "outputs": [],
   "source": [
    "pulses['peaks']"
   ]
  },
  {
   "cell_type": "code",
   "execution_count": null,
   "metadata": {
    "collapsed": false
   },
   "outputs": [],
   "source": [
    "pulses['offset']"
   ]
  },
  {
   "cell_type": "code",
   "execution_count": null,
   "metadata": {
    "collapsed": false
   },
   "outputs": [],
   "source": [
    "pulses['length']"
   ]
  },
  {
   "cell_type": "code",
   "execution_count": null,
   "metadata": {
    "collapsed": false
   },
   "outputs": [],
   "source": [
    "class eflags:\n",
    "    def __init__(self,uint16):\n",
    "        self.new_window=np.bitwise_and(uint16,0x00000001)!=0\n",
    "        self.tick=np.bitwise_and(uint16,0x00000002)!=0\n",
    "        self.type=np.right_shift(np.bitwise_and(uint16,0x0000000c),2)\n",
    "        \n",
    "    def __repr__(self):\n",
    "        return 'New window:{:}\\n'.format(self.new_window) + \\\n",
    "               'Tick:{:}\\n'.format(self.tick) + \\\n",
    "               'Type:{:}\\n'.format(self.type) "
   ]
  },
  {
   "cell_type": "code",
   "execution_count": null,
   "metadata": {
    "collapsed": false
   },
   "outputs": [],
   "source": [
    "f=eflags(pulses[0]['flags'])\n",
    "f"
   ]
  },
  {
   "cell_type": "code",
   "execution_count": null,
   "metadata": {
    "collapsed": false
   },
   "outputs": [],
   "source": [
    "'{:X}'.format(bs.packets[3].bytes[13:14].view(np.uint16))"
   ]
  },
  {
   "cell_type": "code",
   "execution_count": null,
   "metadata": {
    "collapsed": true
   },
   "outputs": [],
   "source": []
  },
  {
   "cell_type": "code",
   "execution_count": null,
   "metadata": {
    "collapsed": false
   },
   "outputs": [],
   "source": [
    "'{:X}'.format(bs.packets[3].bytes[14:16].view(np.uint16)[0])"
   ]
  },
  {
   "cell_type": "code",
   "execution_count": null,
   "metadata": {
    "collapsed": false
   },
   "outputs": [],
   "source": [
    "bs.packets[3].bytes[14:16].view(np.uint16)[0]"
   ]
  },
  {
   "cell_type": "code",
   "execution_count": null,
   "metadata": {
    "collapsed": false
   },
   "outputs": [],
   "source": [
    "bs=np.uint8(stream['data'][:48])"
   ]
  },
  {
   "cell_type": "code",
   "execution_count": null,
   "metadata": {
    "collapsed": false
   },
   "outputs": [],
   "source": [
    "bs"
   ]
  },
  {
   "cell_type": "code",
   "execution_count": null,
   "metadata": {
    "collapsed": false
   },
   "outputs": [],
   "source": [
    "events=stream['data'].view(event_dt)"
   ]
  },
  {
   "cell_type": "code",
   "execution_count": null,
   "metadata": {
    "collapsed": false
   },
   "outputs": [],
   "source": [
    "'{:X}'.format(events['flags'][0])"
   ]
  },
  {
   "cell_type": "code",
   "execution_count": null,
   "metadata": {
    "collapsed": false
   },
   "outputs": [],
   "source": [
    "events['rise']"
   ]
  },
  {
   "cell_type": "code",
   "execution_count": null,
   "metadata": {
    "collapsed": false
   },
   "outputs": [],
   "source": [
    "events"
   ]
  },
  {
   "cell_type": "code",
   "execution_count": null,
   "metadata": {
    "collapsed": false
   },
   "outputs": [],
   "source": [
    "'{:04X}'.format(events['flags'][1])"
   ]
  },
  {
   "cell_type": "code",
   "execution_count": null,
   "metadata": {
    "collapsed": true
   },
   "outputs": [],
   "source": [
    "pulse_peak_dt=np.dtype([('time','>i2'),('minima','>i2'),('rise','>u2'),('height','>i2')])\n",
    "pulse_dt=np.dtype([('time','>i2'),('flags','>i2'),('resv','>i2'),('size','>u2'),\n",
    "                  ('offset','>i2'),('length','>i2'),('area','>i4'),('peaks',(pulse_peak_dt,1))])\n",
    "data=np.copy(stream['data'])"
   ]
  },
  {
   "cell_type": "code",
   "execution_count": null,
   "metadata": {
    "collapsed": false
   },
   "outputs": [],
   "source": [
    "pulses=data.view(pulse_dt)"
   ]
  },
  {
   "cell_type": "code",
   "execution_count": null,
   "metadata": {
    "collapsed": false
   },
   "outputs": [],
   "source": [
    "pulses['peaks']['height']-pulses['peaks']['minima']"
   ]
  },
  {
   "cell_type": "code",
   "execution_count": null,
   "metadata": {
    "collapsed": false
   },
   "outputs": [],
   "source": [
    "pulses['peaks']['minima']"
   ]
  },
  {
   "cell_type": "code",
   "execution_count": null,
   "metadata": {
    "collapsed": false
   },
   "outputs": [],
   "source": [
    "peak_count=np.right_shift(np.bitwise_and(pulses['flags'],0xF000),12)\n",
    "peak_overflow=np.bitwise_and(pulses['flags'],0x0800)!=0\n",
    "channel=np.right_shift(np.bitwise_and(pulses['flags'],0x0700),8)\n",
    "timing_type=np.right_shift(np.bitwise_and(pulses['flags'],0x00C0),6)\n",
    "height_type=np.right_shift(np.bitwise_and(pulses['flags'],0x0030),4)\n",
    "event_type=np.right_shift(np.bitwise_and(pulses['flags'],0x000E),1)\n",
    "new_window=np.bitwise_and(pulses['flags'],0x0001)!=0"
   ]
  },
  {
   "cell_type": "code",
   "execution_count": null,
   "metadata": {
    "collapsed": false
   },
   "outputs": [],
   "source": [
    "peak_overflow"
   ]
  },
  {
   "cell_type": "code",
   "execution_count": null,
   "metadata": {
    "collapsed": true
   },
   "outputs": [],
   "source": [
    "test_dt=np.dtype(\n",
    "    [('time','i2'),('flags','i2'),('rise','u2'),('minima','i2'),('low','u8'),('high','u8')]\n",
    ")\n",
    "test=data.view(test_dt)"
   ]
  },
  {
   "cell_type": "code",
   "execution_count": null,
   "metadata": {
    "collapsed": false
   },
   "outputs": [],
   "source": [
    "test"
   ]
  },
  {
   "cell_type": "code",
   "execution_count": null,
   "metadata": {
    "collapsed": false
   },
   "outputs": [],
   "source": [
    "test['minima']"
   ]
  },
  {
   "cell_type": "code",
   "execution_count": null,
   "metadata": {
    "collapsed": false
   },
   "outputs": [],
   "source": [
    "low1=np.int32(np.right_shift(np.bitwise_and(test['low'],0x03FFFF000000000),36))\n",
    "s=(np.bitwise_and(low1,0x00020000)!=0)*0xFFFC0000\n",
    "low2=np.int32(np.right_shift(np.bitwise_and(test['low'],0x000000FFFFC0000),18))\n",
    "low_threshold=np.int32(np.bitwise_and(test['low'],0x00000000003FFFF))\n",
    "high1=np.int32(np.right_shift(np.bitwise_and(test['high'],0x03FFFF000000000),36))\n",
    "high2=np.int32(np.right_shift(np.bitwise_and(test['high'],0x000000FFFFC0000),18))\n",
    "high_threshold=np.int32(np.bitwise_and(test['high'],0x00000000003FFFF))"
   ]
  },
  {
   "cell_type": "code",
   "execution_count": null,
   "metadata": {
    "collapsed": false
   },
   "outputs": [],
   "source": [
    "np.int32(np.bitwise_or(low1,s))/8.0"
   ]
  },
  {
   "cell_type": "code",
   "execution_count": null,
   "metadata": {
    "collapsed": false
   },
   "outputs": [],
   "source": [
    "'{:04X}'.format(low1[0])"
   ]
  },
  {
   "cell_type": "code",
   "execution_count": null,
   "metadata": {
    "collapsed": false
   },
   "outputs": [],
   "source": [
    "high1/8.0"
   ]
  },
  {
   "cell_type": "code",
   "execution_count": null,
   "metadata": {
    "collapsed": false
   },
   "outputs": [],
   "source": [
    "high2/8.0"
   ]
  },
  {
   "cell_type": "code",
   "execution_count": null,
   "metadata": {
    "collapsed": false
   },
   "outputs": [],
   "source": [
    "'{:04X}'.format(high_threshold[0])"
   ]
  },
  {
   "cell_type": "code",
   "execution_count": null,
   "metadata": {
    "collapsed": false
   },
   "outputs": [],
   "source": [
    "from enum import Enum"
   ]
  },
  {
   "cell_type": "code",
   "execution_count": null,
   "metadata": {
    "collapsed": false
   },
   "outputs": [],
   "source": [
    "class VhdlEnum(int, Enum):\n",
    "\n",
    "    def __str__(self):\n",
    "        return self.name.replace(\"-\", \" \")\n",
    "    \n",
    "    def select(self):\n",
    "        return pow(2, self.value)\n",
    "    "
   ]
  },
  {
   "cell_type": "code",
   "execution_count": null,
   "metadata": {
    "collapsed": false
   },
   "outputs": [],
   "source": [
    "class Test(VhdlEnum):\n",
    "    a=0\n",
    "    b=1"
   ]
  },
  {
   "cell_type": "code",
   "execution_count": null,
   "metadata": {
    "collapsed": false
   },
   "outputs": [],
   "source": [
    "Test(0)"
   ]
  },
  {
   "cell_type": "code",
   "execution_count": null,
   "metadata": {
    "collapsed": true
   },
   "outputs": [],
   "source": []
  }
 ],
 "metadata": {
  "anaconda-cloud": {},
  "kernelspec": {
   "display_name": "Python [default]",
   "language": "python",
   "name": "python3"
  },
  "language_info": {
   "codemirror_mode": {
    "name": "ipython",
    "version": 3
   },
   "file_extension": ".py",
   "mimetype": "text/x-python",
   "name": "python",
   "nbconvert_exporter": "python",
   "pygments_lexer": "ipython3",
   "version": "3.5.2"
  }
 },
 "nbformat": 4,
 "nbformat_minor": 1
}
