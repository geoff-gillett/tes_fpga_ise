{
 "cells": [
  {
   "cell_type": "markdown",
   "metadata": {},
   "source": [
    "timestamp 0 => clk 20\n",
    "\n",
    "traces start at clk 1"
   ]
  },
  {
   "cell_type": "code",
   "execution_count": null,
   "metadata": {
    "collapsed": false,
    "run_control": {
     "frozen": false,
     "read_only": false
    }
   },
   "outputs": [],
   "source": [
    "#Mac\n",
    "import sys\n",
    "sys.path.append('../../../../interface/python')"
   ]
  },
  {
   "cell_type": "code",
   "execution_count": 1,
   "metadata": {
    "collapsed": false,
    "run_control": {
     "frozen": false,
     "read_only": false
    }
   },
   "outputs": [],
   "source": [
    "from tes.data import Data,PacketStream,Packet,Payload,EventFlags,Event\n",
    "import numpy as np\n",
    "import matplotlib.pyplot as plt\n",
    "from subprocess import Popen"
   ]
  },
  {
   "cell_type": "code",
   "execution_count": null,
   "metadata": {
    "collapsed": true
   },
   "outputs": [],
   "source": []
  },
  {
   "cell_type": "code",
   "execution_count": 2,
   "metadata": {
    "code_folding": [],
    "collapsed": false,
    "run_control": {
     "frozen": false,
     "read_only": false
    }
   },
   "outputs": [],
   "source": [
    "#NOTE traces[0] corresponts to clk=1\n",
    "trace_dt=np.dtype([('raw','i4'),('filtered','i4'),('slope','i4'),('filteredL','i4')])\n",
    "stream_dt=np.dtype([('data','i4'),('last','i4')])\n",
    "minmax_dt=np.dtype(\n",
    "    [\n",
    "        ('filtered','i4'),('timing_threshold','i4'),\n",
    "        ('height_threshold','i4'),('slope_extrema','i4'),('slope_area','i4'),('clk','i4')\n",
    "    ]\n",
    ")\n",
    "cfd_dt=np.dtype('i4')\n",
    "filteredxing_dt=np.dtype([('extrema','i4'),('area','i4'),('clk','i4')])"
   ]
  },
  {
   "cell_type": "code",
   "execution_count": null,
   "metadata": {
    "collapsed": false,
    "run_control": {
     "frozen": false,
     "read_only": false
    }
   },
   "outputs": [],
   "source": [
    "traces=np.fromfile('data/traces',trace_dt)\n",
    "stream=np.fromfile('data/bytestream',stream_dt)\n",
    "minmax=np.fromfile('data/minmax',minmax_dt)\n",
    "cfd=np.fromfile('data/cfd',cfd_dt)\n",
    "filteredxing=np.fromfile('data/filteredxing',filteredxing_dt)"
   ]
  },
  {
   "cell_type": "code",
   "execution_count": null,
   "metadata": {
    "collapsed": false,
    "run_control": {
     "frozen": false,
     "read_only": false
    },
    "scrolled": true
   },
   "outputs": [],
   "source": [
    "traces=Data.fromfile('traces',trace_dt,'teslib','measurement_subsystem_TB',tool='vivado')\n",
    "stream=Data.fromfile('bytestream',stream_dt,'teslib','measurement_subsystem_TB',tool='vivado')\n",
    "minmax=Data.fromfile('minmax',minmax_dt,'teslib','measurement_subsystem_TB',tool='vivado')\n",
    "cfd=Data.fromfile('cfd',cfd_dt,'teslib','measurement_subsystem_TB',tool='vivado')\n",
    "filteredxing=Data.fromfile(\n",
    "    'filteredxing',filteredxing_dt,'teslib','measurement_subsystem_TB',tool='vivado'\n",
    ")"
   ]
  },
  {
   "cell_type": "code",
   "execution_count": null,
   "metadata": {
    "collapsed": false,
    "run_control": {
     "frozen": false,
     "read_only": false
    },
    "scrolled": true
   },
   "outputs": [],
   "source": [
    "# Mac\n",
    "traces=Data.fromfile(\n",
    "    'traces',trace_dt,'teslib','measurement_subsystem_TB',tool='vivado',\n",
    "    root='/Volumes/C/'\n",
    ")\n",
    "stream=Data.fromfile(\n",
    "    'bytestream',stream_dt,'teslib','measurement_subsystem_TB',tool='vivado',\n",
    "    root='/Volumes/C/'\n",
    ")\n",
    "minmax=Data.fromfile(\n",
    "    'minmax',minmax_dt,'teslib','measurement_subsystem_TB',tool='vivado',\n",
    "    root='/Volumes/C/'\n",
    ")\n",
    "cfd=Data.fromfile(\n",
    "    'cfd',cfd_dt,'teslib','measurement_subsystem_TB',tool='vivado',\n",
    "    root='/Volumes/C/'\n",
    ")\n",
    "filteredxing=Data.fromfile(\n",
    "    'filteredxing',filteredxing_dt,'teslib','measurement_subsystem_TB',\n",
    "    tool='vivado',root='/Volumes/C/'\n",
    ")"
   ]
  },
  {
   "cell_type": "code",
   "execution_count": null,
   "metadata": {
    "collapsed": false
   },
   "outputs": [],
   "source": [
    "def plot_event(event_tupple,rel2min):\n",
    "    pre=200\n",
    "    post=1000\n",
    "    timestamp=event_tupple[0]\n",
    "    event_type=event_tupple[1]\n",
    "    event=event_tupple[2]\n",
    "    flags=EventFlags(event['flags'])\n",
    "#     print(flags)\n",
    "    #print('timestamp',timestamp, 'time', event['time'],'height',event['height'],'min',event['minima'])\n",
    "    if flags.type == Event.tick:\n",
    "        return\n",
    "    s=traces['filtered'][timestamp+20-pre:timestamp+20+post]\n",
    "    r=traces['raw'][timestamp+20-pre:timestamp+20+post]\n",
    "    i = np.where(abs(minmax['clk'])<=timestamp+20)[0][-1]\n",
    "    min_t=abs(minmax['clk'][i])-(timestamp+20)\n",
    "#     print(minmax['clk'][i],min_t,i,timestamp)\n",
    "    #plt.plot(r,'k',linewidth=0.5)\n",
    "#     print('min', event_tupple[2][1])\n",
    "#     print(event_type)\n",
    "    if flags.channel==1:\n",
    "        colour='b'\n",
    "        lw=0.5\n",
    "        mm = 'vb'\n",
    "        tm = 'ob'\n",
    "    else:\n",
    "        colour='r'\n",
    "        lw=0.5\n",
    "        mm = 'vr'\n",
    "        tm = 'or'\n",
    "    \n",
    "#     if event_type==Event.pulse:\n",
    "#         colour=':g'\n",
    "#         lw=2\n",
    "#         if event_type==Event.pulse:\n",
    "#             max_peaks = event['size']-2\n",
    "#         if max_peaks > 1:    \n",
    "#             minima=event['peaks'][0]['minima']\n",
    "#         else:\n",
    "#             minima=event['peaks']['minima']\n",
    "#     else:\n",
    "#         colour='b'\n",
    "#         lw=1\n",
    "    if flags.channel==1:\n",
    "        minima=event['minima']\n",
    "    #     print(event_type,'minima',minima)\n",
    "        if rel2min:\n",
    "            plt.plot(s-minima,colour,linewidth=lw)\n",
    "        else:\n",
    "            plt.plot(s,colour,linewidth=lw)\n",
    "    #     plt.plot([pre],s[pre],tm,fillstyle='none')\n",
    "    #     plt.plot([pre+min_t],minmax['filtered'][i],mm,fillstyle='none')\n",
    "        if event_type==Event.pulse:\n",
    "            if max_peaks > 1:\n",
    "                for i in range(max_peaks):\n",
    "                    p=event['peaks'][i]\n",
    "                    plt.plot([0,len(s)-1],[p['height'],p['height']],':g')\n",
    "            else:\n",
    "                p=event['peaks']\n",
    "                plt.plot([0,len(s)-1],[p['height'],p['height']],':g',lw=1)\n",
    "        else:\n",
    "          plt.plot([0,len(s)-1],[event['height'],event['height']],colour,lw=lw)\n",
    "\n",
    "    #print(event['height'],event['minima'])\n",
    "    #print(minmax['filtered'][i]==s[pre+min_t])\n",
    "    #print(minmax['filtered'][i]==event['minima'])\n",
    "    #print(s[pre],s[pre-1])"
   ]
  },
  {
   "cell_type": "code",
   "execution_count": null,
   "metadata": {
    "collapsed": false,
    "run_control": {
     "frozen": false,
     "read_only": false
    },
    "scrolled": false
   },
   "outputs": [],
   "source": [
    "%matplotlib notebook\n",
    "traces=Data.fromfile('traces',trace_dt,'teslib','measurement_subsystem_TB',tool='vivado')\n",
    "plt.plot(traces['slope'][1100:],'r',linewidth=1)\n",
    "plt.plot(traces['raw'][1100:],linewidth=0.5)\n",
    "plt.plot(traces['filtered'][1100:],'k',linewidth=2)"
   ]
  },
  {
   "cell_type": "code",
   "execution_count": 14,
   "metadata": {
    "collapsed": false,
    "run_control": {
     "frozen": false,
     "read_only": false
    },
    "scrolled": false
   },
   "outputs": [],
   "source": [
    "stream=Data.fromfile('bytestream',stream_dt,'teslib','measurement_subsystem_TB',tool='vivado')\n",
    "minmax=Data.fromfile('minmax',minmax_dt,'teslib','measurement_subsystem_TB',tool='vivado')\n",
    "# bs=PacketStream(stream)\n",
    "# es=bs.eventstream\n",
    "# %matplotlib notebook\n",
    "# for e in es:\n",
    "#     if e[1]==Event.peak or e[1]==Event.pulse:\n",
    "#         plot_event(e,False)"
   ]
  },
  {
   "cell_type": "code",
   "execution_count": 15,
   "metadata": {
    "collapsed": false
   },
   "outputs": [
    {
     "name": "stdout",
     "output_type": "stream",
     "text": [
      "(35, 0, 35, 16, 29, 2131, 324824, 250, 1)\n",
      "0 280 280\n",
      "29 35 3\n",
      "[('size', <class 'numpy.uint16'>), ('tflags0', <class 'numpy.uint8'>), ('tflags1', <class 'numpy.uint8'>), ('flags0', <class 'numpy.uint8'>), ('flags1', <class 'numpy.uint8'>), ('time', <class 'numpy.uint16'>), ('area', <class 'numpy.uint32'>), ('length', <class 'numpy.uint16'>), ('offset', <class 'numpy.uint16'>), ('peaks', [('height', 'i2'), ('minima', 'i2'), ('rise', 'u2'), ('time', 'u2')], (1,)), ('trace', <class 'numpy.int16'>, (128,))]\n",
      "(35, 0, 35, 0, 29, 445, 13093, 0, 66)\n",
      "0 280 280\n",
      "29 35 3\n",
      "[('size', <class 'numpy.uint16'>), ('tflags0', <class 'numpy.uint8'>), ('tflags1', <class 'numpy.uint8'>), ('flags0', <class 'numpy.uint8'>), ('flags1', <class 'numpy.uint8'>), ('time', <class 'numpy.uint16'>), ('area', <class 'numpy.uint32'>), ('length', <class 'numpy.uint16'>), ('offset', <class 'numpy.uint16'>), ('peaks', [('height', 'i2'), ('minima', 'i2'), ('rise', 'u2'), ('time', 'u2')], (1,)), ('trace', <class 'numpy.int16'>, (128,))]\n",
      "(35, 0, 35, 16, 29, 67, 324824, 250, 1)\n",
      "0 280 280\n",
      "29 35 3\n",
      "[('size', <class 'numpy.uint16'>), ('tflags0', <class 'numpy.uint8'>), ('tflags1', <class 'numpy.uint8'>), ('flags0', <class 'numpy.uint8'>), ('flags1', <class 'numpy.uint8'>), ('time', <class 'numpy.uint16'>), ('area', <class 'numpy.uint32'>), ('length', <class 'numpy.uint16'>), ('offset', <class 'numpy.uint16'>), ('peaks', [('height', 'i2'), ('minima', 'i2'), ('rise', 'u2'), ('time', 'u2')], (1,)), ('trace', <class 'numpy.int16'>, (128,))]\n",
      "(35, 0, 35, 0, 29, 445, 13093, 0, 66)\n",
      "0 280 280\n",
      "29 35 3\n",
      "[('size', <class 'numpy.uint16'>), ('tflags0', <class 'numpy.uint8'>), ('tflags1', <class 'numpy.uint8'>), ('flags0', <class 'numpy.uint8'>), ('flags1', <class 'numpy.uint8'>), ('time', <class 'numpy.uint16'>), ('area', <class 'numpy.uint32'>), ('length', <class 'numpy.uint16'>), ('offset', <class 'numpy.uint16'>), ('peaks', [('height', 'i2'), ('minima', 'i2'), ('rise', 'u2'), ('time', 'u2')], (1,)), ('trace', <class 'numpy.int16'>, (128,))]\n",
      "(35, 0, 35, 16, 29, 67, 324824, 250, 1)\n",
      "0 280 280\n",
      "29 35 3\n",
      "[('size', <class 'numpy.uint16'>), ('tflags0', <class 'numpy.uint8'>), ('tflags1', <class 'numpy.uint8'>), ('flags0', <class 'numpy.uint8'>), ('flags1', <class 'numpy.uint8'>), ('time', <class 'numpy.uint16'>), ('area', <class 'numpy.uint32'>), ('length', <class 'numpy.uint16'>), ('offset', <class 'numpy.uint16'>), ('peaks', [('height', 'i2'), ('minima', 'i2'), ('rise', 'u2'), ('time', 'u2')], (1,)), ('trace', <class 'numpy.int16'>, (128,))]\n",
      "(35, 0, 35, 0, 29, 445, 13093, 0, 66)\n",
      "0 280 280\n",
      "29 35 3\n",
      "[('size', <class 'numpy.uint16'>), ('tflags0', <class 'numpy.uint8'>), ('tflags1', <class 'numpy.uint8'>), ('flags0', <class 'numpy.uint8'>), ('flags1', <class 'numpy.uint8'>), ('time', <class 'numpy.uint16'>), ('area', <class 'numpy.uint32'>), ('length', <class 'numpy.uint16'>), ('offset', <class 'numpy.uint16'>), ('peaks', [('height', 'i2'), ('minima', 'i2'), ('rise', 'u2'), ('time', 'u2')], (1,)), ('trace', <class 'numpy.int16'>, (128,))]\n",
      "(35, 0, 35, 16, 29, 67, 324824, 250, 1)\n",
      "0 280 280\n",
      "29 35 3\n",
      "[('size', <class 'numpy.uint16'>), ('tflags0', <class 'numpy.uint8'>), ('tflags1', <class 'numpy.uint8'>), ('flags0', <class 'numpy.uint8'>), ('flags1', <class 'numpy.uint8'>), ('time', <class 'numpy.uint16'>), ('area', <class 'numpy.uint32'>), ('length', <class 'numpy.uint16'>), ('offset', <class 'numpy.uint16'>), ('peaks', [('height', 'i2'), ('minima', 'i2'), ('rise', 'u2'), ('time', 'u2')], (1,)), ('trace', <class 'numpy.int16'>, (128,))]\n",
      "(35, 0, 35, 0, 29, 445, 13093, 0, 66)\n",
      "0 280 280\n",
      "29 35 3\n",
      "[('size', <class 'numpy.uint16'>), ('tflags0', <class 'numpy.uint8'>), ('tflags1', <class 'numpy.uint8'>), ('flags0', <class 'numpy.uint8'>), ('flags1', <class 'numpy.uint8'>), ('time', <class 'numpy.uint16'>), ('area', <class 'numpy.uint32'>), ('length', <class 'numpy.uint16'>), ('offset', <class 'numpy.uint16'>), ('peaks', [('height', 'i2'), ('minima', 'i2'), ('rise', 'u2'), ('time', 'u2')], (1,)), ('trace', <class 'numpy.int16'>, (128,))]\n",
      "(35, 0, 35, 16, 29, 67, 324824, 250, 1)\n",
      "0 280 280\n",
      "29 35 3\n",
      "[('size', <class 'numpy.uint16'>), ('tflags0', <class 'numpy.uint8'>), ('tflags1', <class 'numpy.uint8'>), ('flags0', <class 'numpy.uint8'>), ('flags1', <class 'numpy.uint8'>), ('time', <class 'numpy.uint16'>), ('area', <class 'numpy.uint32'>), ('length', <class 'numpy.uint16'>), ('offset', <class 'numpy.uint16'>), ('peaks', [('height', 'i2'), ('minima', 'i2'), ('rise', 'u2'), ('time', 'u2')], (1,)), ('trace', <class 'numpy.int16'>, (128,))]\n",
      "(35, 0, 35, 0, 29, 445, 13093, 0, 66)\n",
      "0 280 280\n",
      "29 35 3\n",
      "[('size', <class 'numpy.uint16'>), ('tflags0', <class 'numpy.uint8'>), ('tflags1', <class 'numpy.uint8'>), ('flags0', <class 'numpy.uint8'>), ('flags1', <class 'numpy.uint8'>), ('time', <class 'numpy.uint16'>), ('area', <class 'numpy.uint32'>), ('length', <class 'numpy.uint16'>), ('offset', <class 'numpy.uint16'>), ('peaks', [('height', 'i2'), ('minima', 'i2'), ('rise', 'u2'), ('time', 'u2')], (1,)), ('trace', <class 'numpy.int16'>, (128,))]\n",
      "(35, 0, 35, 16, 29, 67, 324824, 250, 1)\n",
      "0 280 280\n",
      "29 35 3\n",
      "[('size', <class 'numpy.uint16'>), ('tflags0', <class 'numpy.uint8'>), ('tflags1', <class 'numpy.uint8'>), ('flags0', <class 'numpy.uint8'>), ('flags1', <class 'numpy.uint8'>), ('time', <class 'numpy.uint16'>), ('area', <class 'numpy.uint32'>), ('length', <class 'numpy.uint16'>), ('offset', <class 'numpy.uint16'>), ('peaks', [('height', 'i2'), ('minima', 'i2'), ('rise', 'u2'), ('time', 'u2')], (1,)), ('trace', <class 'numpy.int16'>, (128,))]\n",
      "(35, 0, 35, 0, 29, 445, 13093, 0, 66)\n",
      "0 280 280\n",
      "29 35 3\n",
      "[('size', <class 'numpy.uint16'>), ('tflags0', <class 'numpy.uint8'>), ('tflags1', <class 'numpy.uint8'>), ('flags0', <class 'numpy.uint8'>), ('flags1', <class 'numpy.uint8'>), ('time', <class 'numpy.uint16'>), ('area', <class 'numpy.uint32'>), ('length', <class 'numpy.uint16'>), ('offset', <class 'numpy.uint16'>), ('peaks', [('height', 'i2'), ('minima', 'i2'), ('rise', 'u2'), ('time', 'u2')], (1,)), ('trace', <class 'numpy.int16'>, (128,))]\n",
      "(35, 0, 35, 16, 29, 67, 324824, 250, 1)\n",
      "0 280 280\n",
      "29 35 3\n",
      "[('size', <class 'numpy.uint16'>), ('tflags0', <class 'numpy.uint8'>), ('tflags1', <class 'numpy.uint8'>), ('flags0', <class 'numpy.uint8'>), ('flags1', <class 'numpy.uint8'>), ('time', <class 'numpy.uint16'>), ('area', <class 'numpy.uint32'>), ('length', <class 'numpy.uint16'>), ('offset', <class 'numpy.uint16'>), ('peaks', [('height', 'i2'), ('minima', 'i2'), ('rise', 'u2'), ('time', 'u2')], (1,)), ('trace', <class 'numpy.int16'>, (128,))]\n",
      "(35, 0, 35, 0, 29, 445, 13093, 0, 66)\n",
      "0 280 280\n",
      "29 35 3\n",
      "[('size', <class 'numpy.uint16'>), ('tflags0', <class 'numpy.uint8'>), ('tflags1', <class 'numpy.uint8'>), ('flags0', <class 'numpy.uint8'>), ('flags1', <class 'numpy.uint8'>), ('time', <class 'numpy.uint16'>), ('area', <class 'numpy.uint32'>), ('length', <class 'numpy.uint16'>), ('offset', <class 'numpy.uint16'>), ('peaks', [('height', 'i2'), ('minima', 'i2'), ('rise', 'u2'), ('time', 'u2')], (1,)), ('trace', <class 'numpy.int16'>, (128,))]\n",
      "(35, 0, 35, 16, 29, 67, 324824, 250, 1)\n",
      "0 280 280\n",
      "29 35 3\n",
      "[('size', <class 'numpy.uint16'>), ('tflags0', <class 'numpy.uint8'>), ('tflags1', <class 'numpy.uint8'>), ('flags0', <class 'numpy.uint8'>), ('flags1', <class 'numpy.uint8'>), ('time', <class 'numpy.uint16'>), ('area', <class 'numpy.uint32'>), ('length', <class 'numpy.uint16'>), ('offset', <class 'numpy.uint16'>), ('peaks', [('height', 'i2'), ('minima', 'i2'), ('rise', 'u2'), ('time', 'u2')], (1,)), ('trace', <class 'numpy.int16'>, (128,))]\n",
      "(35, 0, 35, 0, 29, 445, 13093, 0, 66)\n",
      "0 280 280\n",
      "29 35 3\n",
      "[('size', <class 'numpy.uint16'>), ('tflags0', <class 'numpy.uint8'>), ('tflags1', <class 'numpy.uint8'>), ('flags0', <class 'numpy.uint8'>), ('flags1', <class 'numpy.uint8'>), ('time', <class 'numpy.uint16'>), ('area', <class 'numpy.uint32'>), ('length', <class 'numpy.uint16'>), ('offset', <class 'numpy.uint16'>), ('peaks', [('height', 'i2'), ('minima', 'i2'), ('rise', 'u2'), ('time', 'u2')], (1,)), ('trace', <class 'numpy.int16'>, (128,))]\n",
      "(35, 0, 35, 16, 29, 67, 324824, 250, 1)\n",
      "0 280 280\n",
      "29 35 3\n",
      "[('size', <class 'numpy.uint16'>), ('tflags0', <class 'numpy.uint8'>), ('tflags1', <class 'numpy.uint8'>), ('flags0', <class 'numpy.uint8'>), ('flags1', <class 'numpy.uint8'>), ('time', <class 'numpy.uint16'>), ('area', <class 'numpy.uint32'>), ('length', <class 'numpy.uint16'>), ('offset', <class 'numpy.uint16'>), ('peaks', [('height', 'i2'), ('minima', 'i2'), ('rise', 'u2'), ('time', 'u2')], (1,)), ('trace', <class 'numpy.int16'>, (128,))]\n",
      "(35, 0, 35, 0, 29, 445, 13093, 0, 66)\n",
      "0 280 280\n",
      "29 35 3\n",
      "[('size', <class 'numpy.uint16'>), ('tflags0', <class 'numpy.uint8'>), ('tflags1', <class 'numpy.uint8'>), ('flags0', <class 'numpy.uint8'>), ('flags1', <class 'numpy.uint8'>), ('time', <class 'numpy.uint16'>), ('area', <class 'numpy.uint32'>), ('length', <class 'numpy.uint16'>), ('offset', <class 'numpy.uint16'>), ('peaks', [('height', 'i2'), ('minima', 'i2'), ('rise', 'u2'), ('time', 'u2')], (1,)), ('trace', <class 'numpy.int16'>, (128,))]\n",
      "(35, 0, 35, 16, 29, 67, 324824, 250, 1)\n",
      "0 280 280\n",
      "29 35 3\n",
      "[('size', <class 'numpy.uint16'>), ('tflags0', <class 'numpy.uint8'>), ('tflags1', <class 'numpy.uint8'>), ('flags0', <class 'numpy.uint8'>), ('flags1', <class 'numpy.uint8'>), ('time', <class 'numpy.uint16'>), ('area', <class 'numpy.uint32'>), ('length', <class 'numpy.uint16'>), ('offset', <class 'numpy.uint16'>), ('peaks', [('height', 'i2'), ('minima', 'i2'), ('rise', 'u2'), ('time', 'u2')], (1,)), ('trace', <class 'numpy.int16'>, (128,))]\n",
      "(35, 0, 35, 0, 29, 445, 13093, 0, 66)\n",
      "0 280 280\n",
      "29 35 3\n",
      "[('size', <class 'numpy.uint16'>), ('tflags0', <class 'numpy.uint8'>), ('tflags1', <class 'numpy.uint8'>), ('flags0', <class 'numpy.uint8'>), ('flags1', <class 'numpy.uint8'>), ('time', <class 'numpy.uint16'>), ('area', <class 'numpy.uint32'>), ('length', <class 'numpy.uint16'>), ('offset', <class 'numpy.uint16'>), ('peaks', [('height', 'i2'), ('minima', 'i2'), ('rise', 'u2'), ('time', 'u2')], (1,)), ('trace', <class 'numpy.int16'>, (128,))]\n",
      "(35, 0, 35, 16, 29, 67, 324824, 250, 1)\n",
      "0 280 280\n",
      "29 35 3\n",
      "[('size', <class 'numpy.uint16'>), ('tflags0', <class 'numpy.uint8'>), ('tflags1', <class 'numpy.uint8'>), ('flags0', <class 'numpy.uint8'>), ('flags1', <class 'numpy.uint8'>), ('time', <class 'numpy.uint16'>), ('area', <class 'numpy.uint32'>), ('length', <class 'numpy.uint16'>), ('offset', <class 'numpy.uint16'>), ('peaks', [('height', 'i2'), ('minima', 'i2'), ('rise', 'u2'), ('time', 'u2')], (1,)), ('trace', <class 'numpy.int16'>, (128,))]\n",
      "(35, 0, 35, 0, 29, 445, 13093, 0, 66)\n",
      "0 280 280\n",
      "29 35 3\n",
      "[('size', <class 'numpy.uint16'>), ('tflags0', <class 'numpy.uint8'>), ('tflags1', <class 'numpy.uint8'>), ('flags0', <class 'numpy.uint8'>), ('flags1', <class 'numpy.uint8'>), ('time', <class 'numpy.uint16'>), ('area', <class 'numpy.uint32'>), ('length', <class 'numpy.uint16'>), ('offset', <class 'numpy.uint16'>), ('peaks', [('height', 'i2'), ('minima', 'i2'), ('rise', 'u2'), ('time', 'u2')], (1,)), ('trace', <class 'numpy.int16'>, (128,))]\n",
      "(35, 0, 35, 16, 29, 67, 324824, 250, 1)\n",
      "0 280 280\n",
      "29 35 3\n",
      "[('size', <class 'numpy.uint16'>), ('tflags0', <class 'numpy.uint8'>), ('tflags1', <class 'numpy.uint8'>), ('flags0', <class 'numpy.uint8'>), ('flags1', <class 'numpy.uint8'>), ('time', <class 'numpy.uint16'>), ('area', <class 'numpy.uint32'>), ('length', <class 'numpy.uint16'>), ('offset', <class 'numpy.uint16'>), ('peaks', [('height', 'i2'), ('minima', 'i2'), ('rise', 'u2'), ('time', 'u2')], (1,)), ('trace', <class 'numpy.int16'>, (128,))]\n",
      "(35, 0, 35, 0, 29, 445, 13093, 0, 66)\n",
      "0 280 280\n",
      "29 35 3\n",
      "[('size', <class 'numpy.uint16'>), ('tflags0', <class 'numpy.uint8'>), ('tflags1', <class 'numpy.uint8'>), ('flags0', <class 'numpy.uint8'>), ('flags1', <class 'numpy.uint8'>), ('time', <class 'numpy.uint16'>), ('area', <class 'numpy.uint32'>), ('length', <class 'numpy.uint16'>), ('offset', <class 'numpy.uint16'>), ('peaks', [('height', 'i2'), ('minima', 'i2'), ('rise', 'u2'), ('time', 'u2')], (1,)), ('trace', <class 'numpy.int16'>, (128,))]\n",
      "(35, 0, 35, 16, 29, 67, 324824, 250, 1)\n",
      "0 280 280\n",
      "29 35 3\n",
      "[('size', <class 'numpy.uint16'>), ('tflags0', <class 'numpy.uint8'>), ('tflags1', <class 'numpy.uint8'>), ('flags0', <class 'numpy.uint8'>), ('flags1', <class 'numpy.uint8'>), ('time', <class 'numpy.uint16'>), ('area', <class 'numpy.uint32'>), ('length', <class 'numpy.uint16'>), ('offset', <class 'numpy.uint16'>), ('peaks', [('height', 'i2'), ('minima', 'i2'), ('rise', 'u2'), ('time', 'u2')], (1,)), ('trace', <class 'numpy.int16'>, (128,))]\n",
      "(35, 0, 35, 0, 29, 445, 13093, 0, 66)\n",
      "0 280 280\n",
      "29 35 3\n",
      "[('size', <class 'numpy.uint16'>), ('tflags0', <class 'numpy.uint8'>), ('tflags1', <class 'numpy.uint8'>), ('flags0', <class 'numpy.uint8'>), ('flags1', <class 'numpy.uint8'>), ('time', <class 'numpy.uint16'>), ('area', <class 'numpy.uint32'>), ('length', <class 'numpy.uint16'>), ('offset', <class 'numpy.uint16'>), ('peaks', [('height', 'i2'), ('minima', 'i2'), ('rise', 'u2'), ('time', 'u2')], (1,)), ('trace', <class 'numpy.int16'>, (128,))]\n",
      "(35, 0, 35, 16, 29, 67, 324824, 250, 1)\n",
      "0 280 280\n",
      "29 35 3\n",
      "[('size', <class 'numpy.uint16'>), ('tflags0', <class 'numpy.uint8'>), ('tflags1', <class 'numpy.uint8'>), ('flags0', <class 'numpy.uint8'>), ('flags1', <class 'numpy.uint8'>), ('time', <class 'numpy.uint16'>), ('area', <class 'numpy.uint32'>), ('length', <class 'numpy.uint16'>), ('offset', <class 'numpy.uint16'>), ('peaks', [('height', 'i2'), ('minima', 'i2'), ('rise', 'u2'), ('time', 'u2')], (1,)), ('trace', <class 'numpy.int16'>, (128,))]\n",
      "(35, 0, 35, 0, 29, 445, 13093, 0, 66)\n",
      "0 280 280\n",
      "29 35 3\n",
      "[('size', <class 'numpy.uint16'>), ('tflags0', <class 'numpy.uint8'>), ('tflags1', <class 'numpy.uint8'>), ('flags0', <class 'numpy.uint8'>), ('flags1', <class 'numpy.uint8'>), ('time', <class 'numpy.uint16'>), ('area', <class 'numpy.uint32'>), ('length', <class 'numpy.uint16'>), ('offset', <class 'numpy.uint16'>), ('peaks', [('height', 'i2'), ('minima', 'i2'), ('rise', 'u2'), ('time', 'u2')], (1,)), ('trace', <class 'numpy.int16'>, (128,))]\n",
      "(35, 0, 35, 16, 29, 67, 324824, 250, 1)\n",
      "0 280 280\n",
      "29 35 3\n",
      "[('size', <class 'numpy.uint16'>), ('tflags0', <class 'numpy.uint8'>), ('tflags1', <class 'numpy.uint8'>), ('flags0', <class 'numpy.uint8'>), ('flags1', <class 'numpy.uint8'>), ('time', <class 'numpy.uint16'>), ('area', <class 'numpy.uint32'>), ('length', <class 'numpy.uint16'>), ('offset', <class 'numpy.uint16'>), ('peaks', [('height', 'i2'), ('minima', 'i2'), ('rise', 'u2'), ('time', 'u2')], (1,)), ('trace', <class 'numpy.int16'>, (128,))]\n",
      "(35, 0, 35, 0, 29, 445, 13093, 0, 66)\n",
      "0 280 280\n",
      "29 35 3\n",
      "[('size', <class 'numpy.uint16'>), ('tflags0', <class 'numpy.uint8'>), ('tflags1', <class 'numpy.uint8'>), ('flags0', <class 'numpy.uint8'>), ('flags1', <class 'numpy.uint8'>), ('time', <class 'numpy.uint16'>), ('area', <class 'numpy.uint32'>), ('length', <class 'numpy.uint16'>), ('offset', <class 'numpy.uint16'>), ('peaks', [('height', 'i2'), ('minima', 'i2'), ('rise', 'u2'), ('time', 'u2')], (1,)), ('trace', <class 'numpy.int16'>, (128,))]\n",
      "(35, 0, 35, 16, 29, 67, 324824, 250, 1)\n",
      "0 280 280\n",
      "29 35 3\n",
      "[('size', <class 'numpy.uint16'>), ('tflags0', <class 'numpy.uint8'>), ('tflags1', <class 'numpy.uint8'>), ('flags0', <class 'numpy.uint8'>), ('flags1', <class 'numpy.uint8'>), ('time', <class 'numpy.uint16'>), ('area', <class 'numpy.uint32'>), ('length', <class 'numpy.uint16'>), ('offset', <class 'numpy.uint16'>), ('peaks', [('height', 'i2'), ('minima', 'i2'), ('rise', 'u2'), ('time', 'u2')], (1,)), ('trace', <class 'numpy.int16'>, (128,))]\n",
      "(35, 0, 35, 0, 29, 445, 13093, 0, 66)\n",
      "0 280 280\n",
      "29 35 3\n",
      "[('size', <class 'numpy.uint16'>), ('tflags0', <class 'numpy.uint8'>), ('tflags1', <class 'numpy.uint8'>), ('flags0', <class 'numpy.uint8'>), ('flags1', <class 'numpy.uint8'>), ('time', <class 'numpy.uint16'>), ('area', <class 'numpy.uint32'>), ('length', <class 'numpy.uint16'>), ('offset', <class 'numpy.uint16'>), ('peaks', [('height', 'i2'), ('minima', 'i2'), ('rise', 'u2'), ('time', 'u2')], (1,)), ('trace', <class 'numpy.int16'>, (128,))]\n",
      "(35, 0, 35, 16, 29, 67, 324824, 250, 1)\n",
      "0 280 280\n",
      "29 35 3\n",
      "[('size', <class 'numpy.uint16'>), ('tflags0', <class 'numpy.uint8'>), ('tflags1', <class 'numpy.uint8'>), ('flags0', <class 'numpy.uint8'>), ('flags1', <class 'numpy.uint8'>), ('time', <class 'numpy.uint16'>), ('area', <class 'numpy.uint32'>), ('length', <class 'numpy.uint16'>), ('offset', <class 'numpy.uint16'>), ('peaks', [('height', 'i2'), ('minima', 'i2'), ('rise', 'u2'), ('time', 'u2')], (1,)), ('trace', <class 'numpy.int16'>, (128,))]\n",
      "(35, 0, 35, 0, 29, 445, 13093, 0, 66)\n",
      "0 280 280\n",
      "29 35 3\n",
      "[('size', <class 'numpy.uint16'>), ('tflags0', <class 'numpy.uint8'>), ('tflags1', <class 'numpy.uint8'>), ('flags0', <class 'numpy.uint8'>), ('flags1', <class 'numpy.uint8'>), ('time', <class 'numpy.uint16'>), ('area', <class 'numpy.uint32'>), ('length', <class 'numpy.uint16'>), ('offset', <class 'numpy.uint16'>), ('peaks', [('height', 'i2'), ('minima', 'i2'), ('rise', 'u2'), ('time', 'u2')], (1,)), ('trace', <class 'numpy.int16'>, (128,))]\n",
      "(35, 0, 35, 16, 29, 67, 324824, 250, 1)\n",
      "0 280 280\n",
      "29 35 3\n",
      "[('size', <class 'numpy.uint16'>), ('tflags0', <class 'numpy.uint8'>), ('tflags1', <class 'numpy.uint8'>), ('flags0', <class 'numpy.uint8'>), ('flags1', <class 'numpy.uint8'>), ('time', <class 'numpy.uint16'>), ('area', <class 'numpy.uint32'>), ('length', <class 'numpy.uint16'>), ('offset', <class 'numpy.uint16'>), ('peaks', [('height', 'i2'), ('minima', 'i2'), ('rise', 'u2'), ('time', 'u2')], (1,)), ('trace', <class 'numpy.int16'>, (128,))]\n",
      "(35, 0, 35, 0, 29, 445, 13093, 0, 66)\n",
      "0 280 280\n",
      "29 35 3\n",
      "[('size', <class 'numpy.uint16'>), ('tflags0', <class 'numpy.uint8'>), ('tflags1', <class 'numpy.uint8'>), ('flags0', <class 'numpy.uint8'>), ('flags1', <class 'numpy.uint8'>), ('time', <class 'numpy.uint16'>), ('area', <class 'numpy.uint32'>), ('length', <class 'numpy.uint16'>), ('offset', <class 'numpy.uint16'>), ('peaks', [('height', 'i2'), ('minima', 'i2'), ('rise', 'u2'), ('time', 'u2')], (1,)), ('trace', <class 'numpy.int16'>, (128,))]\n",
      "(35, 0, 35, 16, 29, 67, 324824, 250, 1)\n",
      "0 280 280\n",
      "29 35 3\n",
      "[('size', <class 'numpy.uint16'>), ('tflags0', <class 'numpy.uint8'>), ('tflags1', <class 'numpy.uint8'>), ('flags0', <class 'numpy.uint8'>), ('flags1', <class 'numpy.uint8'>), ('time', <class 'numpy.uint16'>), ('area', <class 'numpy.uint32'>), ('length', <class 'numpy.uint16'>), ('offset', <class 'numpy.uint16'>), ('peaks', [('height', 'i2'), ('minima', 'i2'), ('rise', 'u2'), ('time', 'u2')], (1,)), ('trace', <class 'numpy.int16'>, (128,))]\n",
      "(35, 0, 35, 0, 29, 445, 13093, 0, 66)\n",
      "0 280 280\n",
      "29 35 3\n",
      "[('size', <class 'numpy.uint16'>), ('tflags0', <class 'numpy.uint8'>), ('tflags1', <class 'numpy.uint8'>), ('flags0', <class 'numpy.uint8'>), ('flags1', <class 'numpy.uint8'>), ('time', <class 'numpy.uint16'>), ('area', <class 'numpy.uint32'>), ('length', <class 'numpy.uint16'>), ('offset', <class 'numpy.uint16'>), ('peaks', [('height', 'i2'), ('minima', 'i2'), ('rise', 'u2'), ('time', 'u2')], (1,)), ('trace', <class 'numpy.int16'>, (128,))]\n",
      "(35, 0, 35, 16, 29, 67, 324824, 250, 1)\n",
      "0 280 280\n",
      "29 35 3\n",
      "[('size', <class 'numpy.uint16'>), ('tflags0', <class 'numpy.uint8'>), ('tflags1', <class 'numpy.uint8'>), ('flags0', <class 'numpy.uint8'>), ('flags1', <class 'numpy.uint8'>), ('time', <class 'numpy.uint16'>), ('area', <class 'numpy.uint32'>), ('length', <class 'numpy.uint16'>), ('offset', <class 'numpy.uint16'>), ('peaks', [('height', 'i2'), ('minima', 'i2'), ('rise', 'u2'), ('time', 'u2')], (1,)), ('trace', <class 'numpy.int16'>, (128,))]\n",
      "(35, 0, 35, 0, 29, 445, 13093, 0, 66)\n",
      "0 280 280\n",
      "29 35 3\n",
      "[('size', <class 'numpy.uint16'>), ('tflags0', <class 'numpy.uint8'>), ('tflags1', <class 'numpy.uint8'>), ('flags0', <class 'numpy.uint8'>), ('flags1', <class 'numpy.uint8'>), ('time', <class 'numpy.uint16'>), ('area', <class 'numpy.uint32'>), ('length', <class 'numpy.uint16'>), ('offset', <class 'numpy.uint16'>), ('peaks', [('height', 'i2'), ('minima', 'i2'), ('rise', 'u2'), ('time', 'u2')], (1,)), ('trace', <class 'numpy.int16'>, (128,))]\n",
      "(35, 0, 35, 16, 29, 67, 324824, 250, 1)\n",
      "0 280 280\n",
      "29 35 3\n",
      "[('size', <class 'numpy.uint16'>), ('tflags0', <class 'numpy.uint8'>), ('tflags1', <class 'numpy.uint8'>), ('flags0', <class 'numpy.uint8'>), ('flags1', <class 'numpy.uint8'>), ('time', <class 'numpy.uint16'>), ('area', <class 'numpy.uint32'>), ('length', <class 'numpy.uint16'>), ('offset', <class 'numpy.uint16'>), ('peaks', [('height', 'i2'), ('minima', 'i2'), ('rise', 'u2'), ('time', 'u2')], (1,)), ('trace', <class 'numpy.int16'>, (128,))]\n",
      "(35, 0, 35, 0, 29, 445, 13093, 0, 66)\n",
      "0 280 280\n",
      "29 35 3\n",
      "[('size', <class 'numpy.uint16'>), ('tflags0', <class 'numpy.uint8'>), ('tflags1', <class 'numpy.uint8'>), ('flags0', <class 'numpy.uint8'>), ('flags1', <class 'numpy.uint8'>), ('time', <class 'numpy.uint16'>), ('area', <class 'numpy.uint32'>), ('length', <class 'numpy.uint16'>), ('offset', <class 'numpy.uint16'>), ('peaks', [('height', 'i2'), ('minima', 'i2'), ('rise', 'u2'), ('time', 'u2')], (1,)), ('trace', <class 'numpy.int16'>, (128,))]\n",
      "(35, 0, 35, 16, 29, 67, 324824, 250, 1)\n",
      "0 280 280\n",
      "29 35 3\n",
      "[('size', <class 'numpy.uint16'>), ('tflags0', <class 'numpy.uint8'>), ('tflags1', <class 'numpy.uint8'>), ('flags0', <class 'numpy.uint8'>), ('flags1', <class 'numpy.uint8'>), ('time', <class 'numpy.uint16'>), ('area', <class 'numpy.uint32'>), ('length', <class 'numpy.uint16'>), ('offset', <class 'numpy.uint16'>), ('peaks', [('height', 'i2'), ('minima', 'i2'), ('rise', 'u2'), ('time', 'u2')], (1,)), ('trace', <class 'numpy.int16'>, (128,))]\n",
      "(35, 0, 35, 0, 29, 445, 13093, 0, 66)\n",
      "0 280 280\n",
      "29 35 3\n",
      "[('size', <class 'numpy.uint16'>), ('tflags0', <class 'numpy.uint8'>), ('tflags1', <class 'numpy.uint8'>), ('flags0', <class 'numpy.uint8'>), ('flags1', <class 'numpy.uint8'>), ('time', <class 'numpy.uint16'>), ('area', <class 'numpy.uint32'>), ('length', <class 'numpy.uint16'>), ('offset', <class 'numpy.uint16'>), ('peaks', [('height', 'i2'), ('minima', 'i2'), ('rise', 'u2'), ('time', 'u2')], (1,)), ('trace', <class 'numpy.int16'>, (128,))]\n",
      "(35, 0, 35, 16, 29, 67, 324824, 250, 1)\n",
      "0 280 280\n",
      "29 35 3\n",
      "[('size', <class 'numpy.uint16'>), ('tflags0', <class 'numpy.uint8'>), ('tflags1', <class 'numpy.uint8'>), ('flags0', <class 'numpy.uint8'>), ('flags1', <class 'numpy.uint8'>), ('time', <class 'numpy.uint16'>), ('area', <class 'numpy.uint32'>), ('length', <class 'numpy.uint16'>), ('offset', <class 'numpy.uint16'>), ('peaks', [('height', 'i2'), ('minima', 'i2'), ('rise', 'u2'), ('time', 'u2')], (1,)), ('trace', <class 'numpy.int16'>, (128,))]\n",
      "(35, 0, 35, 0, 29, 445, 13093, 0, 66)\n",
      "0 280 280\n",
      "29 35 3\n",
      "[('size', <class 'numpy.uint16'>), ('tflags0', <class 'numpy.uint8'>), ('tflags1', <class 'numpy.uint8'>), ('flags0', <class 'numpy.uint8'>), ('flags1', <class 'numpy.uint8'>), ('time', <class 'numpy.uint16'>), ('area', <class 'numpy.uint32'>), ('length', <class 'numpy.uint16'>), ('offset', <class 'numpy.uint16'>), ('peaks', [('height', 'i2'), ('minima', 'i2'), ('rise', 'u2'), ('time', 'u2')], (1,)), ('trace', <class 'numpy.int16'>, (128,))]\n",
      "(35, 0, 35, 16, 29, 67, 324824, 250, 1)\n",
      "0 280 280\n",
      "29 35 3\n",
      "[('size', <class 'numpy.uint16'>), ('tflags0', <class 'numpy.uint8'>), ('tflags1', <class 'numpy.uint8'>), ('flags0', <class 'numpy.uint8'>), ('flags1', <class 'numpy.uint8'>), ('time', <class 'numpy.uint16'>), ('area', <class 'numpy.uint32'>), ('length', <class 'numpy.uint16'>), ('offset', <class 'numpy.uint16'>), ('peaks', [('height', 'i2'), ('minima', 'i2'), ('rise', 'u2'), ('time', 'u2')], (1,)), ('trace', <class 'numpy.int16'>, (128,))]\n",
      "(35, 0, 35, 0, 29, 445, 13093, 0, 66)\n",
      "0 280 280\n",
      "29 35 3\n",
      "[('size', <class 'numpy.uint16'>), ('tflags0', <class 'numpy.uint8'>), ('tflags1', <class 'numpy.uint8'>), ('flags0', <class 'numpy.uint8'>), ('flags1', <class 'numpy.uint8'>), ('time', <class 'numpy.uint16'>), ('area', <class 'numpy.uint32'>), ('length', <class 'numpy.uint16'>), ('offset', <class 'numpy.uint16'>), ('peaks', [('height', 'i2'), ('minima', 'i2'), ('rise', 'u2'), ('time', 'u2')], (1,)), ('trace', <class 'numpy.int16'>, (128,))]\n",
      "(35, 0, 35, 16, 29, 67, 324824, 250, 1)\n",
      "0 280 280\n",
      "29 35 3\n",
      "[('size', <class 'numpy.uint16'>), ('tflags0', <class 'numpy.uint8'>), ('tflags1', <class 'numpy.uint8'>), ('flags0', <class 'numpy.uint8'>), ('flags1', <class 'numpy.uint8'>), ('time', <class 'numpy.uint16'>), ('area', <class 'numpy.uint32'>), ('length', <class 'numpy.uint16'>), ('offset', <class 'numpy.uint16'>), ('peaks', [('height', 'i2'), ('minima', 'i2'), ('rise', 'u2'), ('time', 'u2')], (1,)), ('trace', <class 'numpy.int16'>, (128,))]\n",
      "(35, 0, 35, 0, 29, 445, 13093, 0, 66)\n",
      "0 280 280\n",
      "29 35 3\n",
      "[('size', <class 'numpy.uint16'>), ('tflags0', <class 'numpy.uint8'>), ('tflags1', <class 'numpy.uint8'>), ('flags0', <class 'numpy.uint8'>), ('flags1', <class 'numpy.uint8'>), ('time', <class 'numpy.uint16'>), ('area', <class 'numpy.uint32'>), ('length', <class 'numpy.uint16'>), ('offset', <class 'numpy.uint16'>), ('peaks', [('height', 'i2'), ('minima', 'i2'), ('rise', 'u2'), ('time', 'u2')], (1,)), ('trace', <class 'numpy.int16'>, (128,))]\n",
      "(35, 0, 35, 16, 29, 67, 324824, 250, 1)\n",
      "0 280 280\n",
      "29 35 3\n",
      "[('size', <class 'numpy.uint16'>), ('tflags0', <class 'numpy.uint8'>), ('tflags1', <class 'numpy.uint8'>), ('flags0', <class 'numpy.uint8'>), ('flags1', <class 'numpy.uint8'>), ('time', <class 'numpy.uint16'>), ('area', <class 'numpy.uint32'>), ('length', <class 'numpy.uint16'>), ('offset', <class 'numpy.uint16'>), ('peaks', [('height', 'i2'), ('minima', 'i2'), ('rise', 'u2'), ('time', 'u2')], (1,)), ('trace', <class 'numpy.int16'>, (128,))]\n",
      "(35, 0, 35, 0, 29, 445, 13093, 0, 66)\n",
      "0 280 280\n",
      "29 35 3\n",
      "[('size', <class 'numpy.uint16'>), ('tflags0', <class 'numpy.uint8'>), ('tflags1', <class 'numpy.uint8'>), ('flags0', <class 'numpy.uint8'>), ('flags1', <class 'numpy.uint8'>), ('time', <class 'numpy.uint16'>), ('area', <class 'numpy.uint32'>), ('length', <class 'numpy.uint16'>), ('offset', <class 'numpy.uint16'>), ('peaks', [('height', 'i2'), ('minima', 'i2'), ('rise', 'u2'), ('time', 'u2')], (1,)), ('trace', <class 'numpy.int16'>, (128,))]\n",
      "(35, 0, 35, 16, 29, 67, 324824, 250, 1)\n",
      "0 280 280\n",
      "29 35 3\n",
      "[('size', <class 'numpy.uint16'>), ('tflags0', <class 'numpy.uint8'>), ('tflags1', <class 'numpy.uint8'>), ('flags0', <class 'numpy.uint8'>), ('flags1', <class 'numpy.uint8'>), ('time', <class 'numpy.uint16'>), ('area', <class 'numpy.uint32'>), ('length', <class 'numpy.uint16'>), ('offset', <class 'numpy.uint16'>), ('peaks', [('height', 'i2'), ('minima', 'i2'), ('rise', 'u2'), ('time', 'u2')], (1,)), ('trace', <class 'numpy.int16'>, (128,))]\n",
      "(35, 0, 35, 0, 29, 445, 13093, 0, 66)\n",
      "0 280 280\n",
      "29 35 3\n",
      "[('size', <class 'numpy.uint16'>), ('tflags0', <class 'numpy.uint8'>), ('tflags1', <class 'numpy.uint8'>), ('flags0', <class 'numpy.uint8'>), ('flags1', <class 'numpy.uint8'>), ('time', <class 'numpy.uint16'>), ('area', <class 'numpy.uint32'>), ('length', <class 'numpy.uint16'>), ('offset', <class 'numpy.uint16'>), ('peaks', [('height', 'i2'), ('minima', 'i2'), ('rise', 'u2'), ('time', 'u2')], (1,)), ('trace', <class 'numpy.int16'>, (128,))]\n",
      "(35, 0, 35, 16, 29, 67, 324824, 250, 1)\n",
      "0 280 280\n",
      "29 35 3\n",
      "[('size', <class 'numpy.uint16'>), ('tflags0', <class 'numpy.uint8'>), ('tflags1', <class 'numpy.uint8'>), ('flags0', <class 'numpy.uint8'>), ('flags1', <class 'numpy.uint8'>), ('time', <class 'numpy.uint16'>), ('area', <class 'numpy.uint32'>), ('length', <class 'numpy.uint16'>), ('offset', <class 'numpy.uint16'>), ('peaks', [('height', 'i2'), ('minima', 'i2'), ('rise', 'u2'), ('time', 'u2')], (1,)), ('trace', <class 'numpy.int16'>, (128,))]\n",
      "(35, 0, 35, 0, 29, 445, 13093, 0, 66)\n",
      "0 280 280\n",
      "29 35 3\n",
      "[('size', <class 'numpy.uint16'>), ('tflags0', <class 'numpy.uint8'>), ('tflags1', <class 'numpy.uint8'>), ('flags0', <class 'numpy.uint8'>), ('flags1', <class 'numpy.uint8'>), ('time', <class 'numpy.uint16'>), ('area', <class 'numpy.uint32'>), ('length', <class 'numpy.uint16'>), ('offset', <class 'numpy.uint16'>), ('peaks', [('height', 'i2'), ('minima', 'i2'), ('rise', 'u2'), ('time', 'u2')], (1,)), ('trace', <class 'numpy.int16'>, (128,))]\n",
      "(35, 0, 35, 16, 29, 67, 324824, 250, 1)\n",
      "0 280 280\n",
      "29 35 3\n",
      "[('size', <class 'numpy.uint16'>), ('tflags0', <class 'numpy.uint8'>), ('tflags1', <class 'numpy.uint8'>), ('flags0', <class 'numpy.uint8'>), ('flags1', <class 'numpy.uint8'>), ('time', <class 'numpy.uint16'>), ('area', <class 'numpy.uint32'>), ('length', <class 'numpy.uint16'>), ('offset', <class 'numpy.uint16'>), ('peaks', [('height', 'i2'), ('minima', 'i2'), ('rise', 'u2'), ('time', 'u2')], (1,)), ('trace', <class 'numpy.int16'>, (128,))]\n",
      "(35, 0, 35, 0, 29, 28, 13093, 0, 66)\n",
      "0 280 280\n",
      "29 35 3\n",
      "[('size', <class 'numpy.uint16'>), ('tflags0', <class 'numpy.uint8'>), ('tflags1', <class 'numpy.uint8'>), ('flags0', <class 'numpy.uint8'>), ('flags1', <class 'numpy.uint8'>), ('time', <class 'numpy.uint16'>), ('area', <class 'numpy.uint32'>), ('length', <class 'numpy.uint16'>), ('offset', <class 'numpy.uint16'>), ('peaks', [('height', 'i2'), ('minima', 'i2'), ('rise', 'u2'), ('time', 'u2')], (1,)), ('trace', <class 'numpy.int16'>, (128,))]\n",
      "(35, 0, 35, 16, 29, 67, 324824, 250, 1)\n",
      "0 280 280\n",
      "29 35 3\n",
      "[('size', <class 'numpy.uint16'>), ('tflags0', <class 'numpy.uint8'>), ('tflags1', <class 'numpy.uint8'>), ('flags0', <class 'numpy.uint8'>), ('flags1', <class 'numpy.uint8'>), ('time', <class 'numpy.uint16'>), ('area', <class 'numpy.uint32'>), ('length', <class 'numpy.uint16'>), ('offset', <class 'numpy.uint16'>), ('peaks', [('height', 'i2'), ('minima', 'i2'), ('rise', 'u2'), ('time', 'u2')], (1,)), ('trace', <class 'numpy.int16'>, (128,))]\n",
      "(35, 0, 35, 0, 29, 445, 13093, 0, 66)\n",
      "0 280 280\n",
      "29 35 3\n",
      "[('size', <class 'numpy.uint16'>), ('tflags0', <class 'numpy.uint8'>), ('tflags1', <class 'numpy.uint8'>), ('flags0', <class 'numpy.uint8'>), ('flags1', <class 'numpy.uint8'>), ('time', <class 'numpy.uint16'>), ('area', <class 'numpy.uint32'>), ('length', <class 'numpy.uint16'>), ('offset', <class 'numpy.uint16'>), ('peaks', [('height', 'i2'), ('minima', 'i2'), ('rise', 'u2'), ('time', 'u2')], (1,)), ('trace', <class 'numpy.int16'>, (128,))]\n",
      "(35, 0, 35, 16, 29, 67, 324824, 250, 1)\n",
      "0 280 280\n",
      "29 35 3\n",
      "[('size', <class 'numpy.uint16'>), ('tflags0', <class 'numpy.uint8'>), ('tflags1', <class 'numpy.uint8'>), ('flags0', <class 'numpy.uint8'>), ('flags1', <class 'numpy.uint8'>), ('time', <class 'numpy.uint16'>), ('area', <class 'numpy.uint32'>), ('length', <class 'numpy.uint16'>), ('offset', <class 'numpy.uint16'>), ('peaks', [('height', 'i2'), ('minima', 'i2'), ('rise', 'u2'), ('time', 'u2')], (1,)), ('trace', <class 'numpy.int16'>, (128,))]\n",
      "(35, 0, 35, 0, 29, 445, 13093, 0, 66)\n",
      "0 280 280\n",
      "29 35 3\n",
      "[('size', <class 'numpy.uint16'>), ('tflags0', <class 'numpy.uint8'>), ('tflags1', <class 'numpy.uint8'>), ('flags0', <class 'numpy.uint8'>), ('flags1', <class 'numpy.uint8'>), ('time', <class 'numpy.uint16'>), ('area', <class 'numpy.uint32'>), ('length', <class 'numpy.uint16'>), ('offset', <class 'numpy.uint16'>), ('peaks', [('height', 'i2'), ('minima', 'i2'), ('rise', 'u2'), ('time', 'u2')], (1,)), ('trace', <class 'numpy.int16'>, (128,))]\n",
      "(35, 0, 35, 16, 29, 67, 324824, 250, 1)\n",
      "0 280 280\n",
      "29 35 3\n",
      "[('size', <class 'numpy.uint16'>), ('tflags0', <class 'numpy.uint8'>), ('tflags1', <class 'numpy.uint8'>), ('flags0', <class 'numpy.uint8'>), ('flags1', <class 'numpy.uint8'>), ('time', <class 'numpy.uint16'>), ('area', <class 'numpy.uint32'>), ('length', <class 'numpy.uint16'>), ('offset', <class 'numpy.uint16'>), ('peaks', [('height', 'i2'), ('minima', 'i2'), ('rise', 'u2'), ('time', 'u2')], (1,)), ('trace', <class 'numpy.int16'>, (128,))]\n",
      "(35, 0, 35, 0, 29, 445, 13093, 0, 66)\n",
      "0 280 280\n",
      "29 35 3\n",
      "[('size', <class 'numpy.uint16'>), ('tflags0', <class 'numpy.uint8'>), ('tflags1', <class 'numpy.uint8'>), ('flags0', <class 'numpy.uint8'>), ('flags1', <class 'numpy.uint8'>), ('time', <class 'numpy.uint16'>), ('area', <class 'numpy.uint32'>), ('length', <class 'numpy.uint16'>), ('offset', <class 'numpy.uint16'>), ('peaks', [('height', 'i2'), ('minima', 'i2'), ('rise', 'u2'), ('time', 'u2')], (1,)), ('trace', <class 'numpy.int16'>, (128,))]\n",
      "(35, 0, 35, 16, 29, 67, 324824, 250, 1)\n",
      "0 280 280\n",
      "29 35 3\n",
      "[('size', <class 'numpy.uint16'>), ('tflags0', <class 'numpy.uint8'>), ('tflags1', <class 'numpy.uint8'>), ('flags0', <class 'numpy.uint8'>), ('flags1', <class 'numpy.uint8'>), ('time', <class 'numpy.uint16'>), ('area', <class 'numpy.uint32'>), ('length', <class 'numpy.uint16'>), ('offset', <class 'numpy.uint16'>), ('peaks', [('height', 'i2'), ('minima', 'i2'), ('rise', 'u2'), ('time', 'u2')], (1,)), ('trace', <class 'numpy.int16'>, (128,))]\n",
      "(35, 0, 35, 0, 29, 445, 13093, 0, 66)\n",
      "0 280 280\n",
      "29 35 3\n",
      "[('size', <class 'numpy.uint16'>), ('tflags0', <class 'numpy.uint8'>), ('tflags1', <class 'numpy.uint8'>), ('flags0', <class 'numpy.uint8'>), ('flags1', <class 'numpy.uint8'>), ('time', <class 'numpy.uint16'>), ('area', <class 'numpy.uint32'>), ('length', <class 'numpy.uint16'>), ('offset', <class 'numpy.uint16'>), ('peaks', [('height', 'i2'), ('minima', 'i2'), ('rise', 'u2'), ('time', 'u2')], (1,)), ('trace', <class 'numpy.int16'>, (128,))]\n",
      "(35, 0, 35, 16, 29, 67, 324824, 250, 1)\n",
      "0 280 280\n",
      "29 35 3\n",
      "[('size', <class 'numpy.uint16'>), ('tflags0', <class 'numpy.uint8'>), ('tflags1', <class 'numpy.uint8'>), ('flags0', <class 'numpy.uint8'>), ('flags1', <class 'numpy.uint8'>), ('time', <class 'numpy.uint16'>), ('area', <class 'numpy.uint32'>), ('length', <class 'numpy.uint16'>), ('offset', <class 'numpy.uint16'>), ('peaks', [('height', 'i2'), ('minima', 'i2'), ('rise', 'u2'), ('time', 'u2')], (1,)), ('trace', <class 'numpy.int16'>, (128,))]\n",
      "(35, 0, 35, 0, 29, 445, 13093, 0, 66)\n",
      "0 280 280\n",
      "29 35 3\n",
      "[('size', <class 'numpy.uint16'>), ('tflags0', <class 'numpy.uint8'>), ('tflags1', <class 'numpy.uint8'>), ('flags0', <class 'numpy.uint8'>), ('flags1', <class 'numpy.uint8'>), ('time', <class 'numpy.uint16'>), ('area', <class 'numpy.uint32'>), ('length', <class 'numpy.uint16'>), ('offset', <class 'numpy.uint16'>), ('peaks', [('height', 'i2'), ('minima', 'i2'), ('rise', 'u2'), ('time', 'u2')], (1,)), ('trace', <class 'numpy.int16'>, (128,))]\n",
      "(35, 0, 35, 16, 29, 67, 324824, 250, 1)\n",
      "0 280 280\n",
      "29 35 3\n",
      "[('size', <class 'numpy.uint16'>), ('tflags0', <class 'numpy.uint8'>), ('tflags1', <class 'numpy.uint8'>), ('flags0', <class 'numpy.uint8'>), ('flags1', <class 'numpy.uint8'>), ('time', <class 'numpy.uint16'>), ('area', <class 'numpy.uint32'>), ('length', <class 'numpy.uint16'>), ('offset', <class 'numpy.uint16'>), ('peaks', [('height', 'i2'), ('minima', 'i2'), ('rise', 'u2'), ('time', 'u2')], (1,)), ('trace', <class 'numpy.int16'>, (128,))]\n",
      "(35, 0, 35, 0, 29, 445, 13093, 0, 66)\n",
      "0 280 280\n",
      "29 35 3\n",
      "[('size', <class 'numpy.uint16'>), ('tflags0', <class 'numpy.uint8'>), ('tflags1', <class 'numpy.uint8'>), ('flags0', <class 'numpy.uint8'>), ('flags1', <class 'numpy.uint8'>), ('time', <class 'numpy.uint16'>), ('area', <class 'numpy.uint32'>), ('length', <class 'numpy.uint16'>), ('offset', <class 'numpy.uint16'>), ('peaks', [('height', 'i2'), ('minima', 'i2'), ('rise', 'u2'), ('time', 'u2')], (1,)), ('trace', <class 'numpy.int16'>, (128,))]\n",
      "(35, 0, 35, 16, 29, 67, 324824, 250, 1)\n",
      "0 280 280\n",
      "29 35 3\n",
      "[('size', <class 'numpy.uint16'>), ('tflags0', <class 'numpy.uint8'>), ('tflags1', <class 'numpy.uint8'>), ('flags0', <class 'numpy.uint8'>), ('flags1', <class 'numpy.uint8'>), ('time', <class 'numpy.uint16'>), ('area', <class 'numpy.uint32'>), ('length', <class 'numpy.uint16'>), ('offset', <class 'numpy.uint16'>), ('peaks', [('height', 'i2'), ('minima', 'i2'), ('rise', 'u2'), ('time', 'u2')], (1,)), ('trace', <class 'numpy.int16'>, (128,))]\n",
      "(35, 0, 35, 0, 29, 445, 13093, 0, 66)\n",
      "0 280 280\n",
      "29 35 3\n",
      "[('size', <class 'numpy.uint16'>), ('tflags0', <class 'numpy.uint8'>), ('tflags1', <class 'numpy.uint8'>), ('flags0', <class 'numpy.uint8'>), ('flags1', <class 'numpy.uint8'>), ('time', <class 'numpy.uint16'>), ('area', <class 'numpy.uint32'>), ('length', <class 'numpy.uint16'>), ('offset', <class 'numpy.uint16'>), ('peaks', [('height', 'i2'), ('minima', 'i2'), ('rise', 'u2'), ('time', 'u2')], (1,)), ('trace', <class 'numpy.int16'>, (128,))]\n",
      "(35, 0, 35, 16, 29, 67, 324824, 250, 1)\n",
      "0 280 280\n",
      "29 35 3\n",
      "[('size', <class 'numpy.uint16'>), ('tflags0', <class 'numpy.uint8'>), ('tflags1', <class 'numpy.uint8'>), ('flags0', <class 'numpy.uint8'>), ('flags1', <class 'numpy.uint8'>), ('time', <class 'numpy.uint16'>), ('area', <class 'numpy.uint32'>), ('length', <class 'numpy.uint16'>), ('offset', <class 'numpy.uint16'>), ('peaks', [('height', 'i2'), ('minima', 'i2'), ('rise', 'u2'), ('time', 'u2')], (1,)), ('trace', <class 'numpy.int16'>, (128,))]\n",
      "(35, 0, 35, 0, 29, 445, 13093, 0, 66)\n",
      "0 280 280\n",
      "29 35 3\n",
      "[('size', <class 'numpy.uint16'>), ('tflags0', <class 'numpy.uint8'>), ('tflags1', <class 'numpy.uint8'>), ('flags0', <class 'numpy.uint8'>), ('flags1', <class 'numpy.uint8'>), ('time', <class 'numpy.uint16'>), ('area', <class 'numpy.uint32'>), ('length', <class 'numpy.uint16'>), ('offset', <class 'numpy.uint16'>), ('peaks', [('height', 'i2'), ('minima', 'i2'), ('rise', 'u2'), ('time', 'u2')], (1,)), ('trace', <class 'numpy.int16'>, (128,))]\n",
      "(35, 0, 35, 16, 29, 67, 324824, 250, 1)\n",
      "0 280 280\n",
      "29 35 3\n",
      "[('size', <class 'numpy.uint16'>), ('tflags0', <class 'numpy.uint8'>), ('tflags1', <class 'numpy.uint8'>), ('flags0', <class 'numpy.uint8'>), ('flags1', <class 'numpy.uint8'>), ('time', <class 'numpy.uint16'>), ('area', <class 'numpy.uint32'>), ('length', <class 'numpy.uint16'>), ('offset', <class 'numpy.uint16'>), ('peaks', [('height', 'i2'), ('minima', 'i2'), ('rise', 'u2'), ('time', 'u2')], (1,)), ('trace', <class 'numpy.int16'>, (128,))]\n",
      "(35, 0, 35, 0, 29, 445, 13093, 0, 66)\n",
      "0 280 280\n",
      "29 35 3\n",
      "[('size', <class 'numpy.uint16'>), ('tflags0', <class 'numpy.uint8'>), ('tflags1', <class 'numpy.uint8'>), ('flags0', <class 'numpy.uint8'>), ('flags1', <class 'numpy.uint8'>), ('time', <class 'numpy.uint16'>), ('area', <class 'numpy.uint32'>), ('length', <class 'numpy.uint16'>), ('offset', <class 'numpy.uint16'>), ('peaks', [('height', 'i2'), ('minima', 'i2'), ('rise', 'u2'), ('time', 'u2')], (1,)), ('trace', <class 'numpy.int16'>, (128,))]\n",
      "(35, 0, 35, 16, 29, 67, 324824, 250, 1)\n",
      "0 280 280\n",
      "29 35 3\n",
      "[('size', <class 'numpy.uint16'>), ('tflags0', <class 'numpy.uint8'>), ('tflags1', <class 'numpy.uint8'>), ('flags0', <class 'numpy.uint8'>), ('flags1', <class 'numpy.uint8'>), ('time', <class 'numpy.uint16'>), ('area', <class 'numpy.uint32'>), ('length', <class 'numpy.uint16'>), ('offset', <class 'numpy.uint16'>), ('peaks', [('height', 'i2'), ('minima', 'i2'), ('rise', 'u2'), ('time', 'u2')], (1,)), ('trace', <class 'numpy.int16'>, (128,))]\n",
      "(35, 0, 35, 0, 29, 445, 13093, 0, 66)\n",
      "0 280 280\n",
      "29 35 3\n",
      "[('size', <class 'numpy.uint16'>), ('tflags0', <class 'numpy.uint8'>), ('tflags1', <class 'numpy.uint8'>), ('flags0', <class 'numpy.uint8'>), ('flags1', <class 'numpy.uint8'>), ('time', <class 'numpy.uint16'>), ('area', <class 'numpy.uint32'>), ('length', <class 'numpy.uint16'>), ('offset', <class 'numpy.uint16'>), ('peaks', [('height', 'i2'), ('minima', 'i2'), ('rise', 'u2'), ('time', 'u2')], (1,)), ('trace', <class 'numpy.int16'>, (128,))]\n"
     ]
    },
    {
     "data": {
      "text/plain": [
       "[<tes.data.Trace at 0xabb69e8>,\n",
       " <tes.data.Trace at 0x760ec18>,\n",
       " <tes.data.Trace at 0x760eac8>,\n",
       " <tes.data.Trace at 0x761b1d0>,\n",
       " <tes.data.Trace at 0x761b8d0>,\n",
       " <tes.data.Trace at 0x761bcf8>,\n",
       " <tes.data.Trace at 0x761bc18>,\n",
       " <tes.data.Trace at 0x76216a0>,\n",
       " <tes.data.Trace at 0x7621860>,\n",
       " <tes.data.Trace at 0x75fe668>,\n",
       " <tes.data.Trace at 0x75f5eb8>,\n",
       " <tes.data.Trace at 0x75efbe0>,\n",
       " <tes.data.Trace at 0x75e8518>,\n",
       " <tes.data.Trace at 0x75e51d0>,\n",
       " <tes.data.Trace at 0x75aa550>,\n",
       " <tes.data.Trace at 0x760e898>,\n",
       " <tes.data.Trace at 0x759f588>,\n",
       " <tes.data.Trace at 0x761b3c8>,\n",
       " <tes.data.Trace at 0x7595630>,\n",
       " <tes.data.Trace at 0x75234a8>,\n",
       " <tes.data.Trace at 0xb7a9c88>,\n",
       " <tes.data.Trace at 0xb7d1208>,\n",
       " <tes.data.Trace at 0x7621eb8>,\n",
       " <tes.data.Trace at 0x762f2e8>,\n",
       " <tes.data.Trace at 0x762f828>,\n",
       " <tes.data.Trace at 0x762fc88>,\n",
       " <tes.data.Trace at 0x762fac8>,\n",
       " <tes.data.Trace at 0x76341d0>,\n",
       " <tes.data.Trace at 0x7634908>,\n",
       " <tes.data.Trace at 0x7634eb8>,\n",
       " <tes.data.Trace at 0x7639320>,\n",
       " <tes.data.Trace at 0x76397f0>,\n",
       " <tes.data.Trace at 0x7639c50>,\n",
       " <tes.data.Trace at 0x7639b38>,\n",
       " <tes.data.Trace at 0x763f518>,\n",
       " <tes.data.Trace at 0x763fa58>,\n",
       " <tes.data.Trace at 0x763feb8>,\n",
       " <tes.data.Trace at 0x7644278>,\n",
       " <tes.data.Trace at 0x7644780>,\n",
       " <tes.data.Trace at 0x7644b70>,\n",
       " <tes.data.Trace at 0x7644f28>,\n",
       " <tes.data.Trace at 0x764a198>,\n",
       " <tes.data.Trace at 0x764a0b8>,\n",
       " <tes.data.Trace at 0x764a908>,\n",
       " <tes.data.Trace at 0x76524a8>,\n",
       " <tes.data.Trace at 0x76529b0>,\n",
       " <tes.data.Trace at 0x7652da0>,\n",
       " <tes.data.Trace at 0x76527f0>,\n",
       " <tes.data.Trace at 0x869b470>,\n",
       " <tes.data.Trace at 0x869b780>,\n",
       " <tes.data.Trace at 0x7656898>,\n",
       " <tes.data.Trace at 0x75e8a58>,\n",
       " <tes.data.Trace at 0x869fb00>,\n",
       " <tes.data.Trace at 0x7563c50>,\n",
       " <tes.data.Trace at 0x7621f98>,\n",
       " <tes.data.Trace at 0x762f400>,\n",
       " <tes.data.Trace at 0x762fb70>,\n",
       " <tes.data.Trace at 0x75f5400>,\n",
       " <tes.data.Trace at 0xb7be2e8>,\n",
       " <tes.data.Trace at 0x7563b70>,\n",
       " <tes.data.Trace at 0x7621e80>,\n",
       " <tes.data.Trace at 0x762f240>,\n",
       " <tes.data.Trace at 0x7634f60>,\n",
       " <tes.data.Trace at 0x7639588>,\n",
       " <tes.data.Trace at 0x75957f0>,\n",
       " <tes.data.Trace at 0x7595828>,\n",
       " <tes.data.Trace at 0x759f9b0>,\n",
       " <tes.data.Trace at 0x761b438>,\n",
       " <tes.data.Trace at 0x761bb38>,\n",
       " <tes.data.Trace at 0x761b550>,\n",
       " <tes.data.Trace at 0x76566d8>,\n",
       " <tes.data.Trace at 0x76564a8>,\n",
       " <tes.data.Trace at 0x7665588>,\n",
       " <tes.data.Trace at 0x7665ac8>,\n",
       " <tes.data.Trace at 0x7665828>,\n",
       " <tes.data.Trace at 0x766c588>,\n",
       " <tes.data.Trace at 0x766cac8>,\n",
       " <tes.data.Trace at 0x766cef0>]"
      ]
     },
     "execution_count": 15,
     "metadata": {},
     "output_type": "execute_result"
    }
   ],
   "source": [
    "ps=PacketStream(stream)\n",
    "ps.traces"
   ]
  },
  {
   "cell_type": "code",
   "execution_count": 16,
   "metadata": {
    "collapsed": false
   },
   "outputs": [
    {
     "data": {
      "application/javascript": [
       "/* Put everything inside the global mpl namespace */\n",
       "window.mpl = {};\n",
       "\n",
       "\n",
       "mpl.get_websocket_type = function() {\n",
       "    if (typeof(WebSocket) !== 'undefined') {\n",
       "        return WebSocket;\n",
       "    } else if (typeof(MozWebSocket) !== 'undefined') {\n",
       "        return MozWebSocket;\n",
       "    } else {\n",
       "        alert('Your browser does not have WebSocket support.' +\n",
       "              'Please try Chrome, Safari or Firefox ≥ 6. ' +\n",
       "              'Firefox 4 and 5 are also supported but you ' +\n",
       "              'have to enable WebSockets in about:config.');\n",
       "    };\n",
       "}\n",
       "\n",
       "mpl.figure = function(figure_id, websocket, ondownload, parent_element) {\n",
       "    this.id = figure_id;\n",
       "\n",
       "    this.ws = websocket;\n",
       "\n",
       "    this.supports_binary = (this.ws.binaryType != undefined);\n",
       "\n",
       "    if (!this.supports_binary) {\n",
       "        var warnings = document.getElementById(\"mpl-warnings\");\n",
       "        if (warnings) {\n",
       "            warnings.style.display = 'block';\n",
       "            warnings.textContent = (\n",
       "                \"This browser does not support binary websocket messages. \" +\n",
       "                    \"Performance may be slow.\");\n",
       "        }\n",
       "    }\n",
       "\n",
       "    this.imageObj = new Image();\n",
       "\n",
       "    this.context = undefined;\n",
       "    this.message = undefined;\n",
       "    this.canvas = undefined;\n",
       "    this.rubberband_canvas = undefined;\n",
       "    this.rubberband_context = undefined;\n",
       "    this.format_dropdown = undefined;\n",
       "\n",
       "    this.image_mode = 'full';\n",
       "\n",
       "    this.root = $('<div/>');\n",
       "    this._root_extra_style(this.root)\n",
       "    this.root.attr('style', 'display: inline-block');\n",
       "\n",
       "    $(parent_element).append(this.root);\n",
       "\n",
       "    this._init_header(this);\n",
       "    this._init_canvas(this);\n",
       "    this._init_toolbar(this);\n",
       "\n",
       "    var fig = this;\n",
       "\n",
       "    this.waiting = false;\n",
       "\n",
       "    this.ws.onopen =  function () {\n",
       "            fig.send_message(\"supports_binary\", {value: fig.supports_binary});\n",
       "            fig.send_message(\"send_image_mode\", {});\n",
       "            if (mpl.ratio != 1) {\n",
       "                fig.send_message(\"set_dpi_ratio\", {'dpi_ratio': mpl.ratio});\n",
       "            }\n",
       "            fig.send_message(\"refresh\", {});\n",
       "        }\n",
       "\n",
       "    this.imageObj.onload = function() {\n",
       "            if (fig.image_mode == 'full') {\n",
       "                // Full images could contain transparency (where diff images\n",
       "                // almost always do), so we need to clear the canvas so that\n",
       "                // there is no ghosting.\n",
       "                fig.context.clearRect(0, 0, fig.canvas.width, fig.canvas.height);\n",
       "            }\n",
       "            fig.context.drawImage(fig.imageObj, 0, 0);\n",
       "        };\n",
       "\n",
       "    this.imageObj.onunload = function() {\n",
       "        this.ws.close();\n",
       "    }\n",
       "\n",
       "    this.ws.onmessage = this._make_on_message_function(this);\n",
       "\n",
       "    this.ondownload = ondownload;\n",
       "}\n",
       "\n",
       "mpl.figure.prototype._init_header = function() {\n",
       "    var titlebar = $(\n",
       "        '<div class=\"ui-dialog-titlebar ui-widget-header ui-corner-all ' +\n",
       "        'ui-helper-clearfix\"/>');\n",
       "    var titletext = $(\n",
       "        '<div class=\"ui-dialog-title\" style=\"width: 100%; ' +\n",
       "        'text-align: center; padding: 3px;\"/>');\n",
       "    titlebar.append(titletext)\n",
       "    this.root.append(titlebar);\n",
       "    this.header = titletext[0];\n",
       "}\n",
       "\n",
       "\n",
       "\n",
       "mpl.figure.prototype._canvas_extra_style = function(canvas_div) {\n",
       "\n",
       "}\n",
       "\n",
       "\n",
       "mpl.figure.prototype._root_extra_style = function(canvas_div) {\n",
       "\n",
       "}\n",
       "\n",
       "mpl.figure.prototype._init_canvas = function() {\n",
       "    var fig = this;\n",
       "\n",
       "    var canvas_div = $('<div/>');\n",
       "\n",
       "    canvas_div.attr('style', 'position: relative; clear: both; outline: 0');\n",
       "\n",
       "    function canvas_keyboard_event(event) {\n",
       "        return fig.key_event(event, event['data']);\n",
       "    }\n",
       "\n",
       "    canvas_div.keydown('key_press', canvas_keyboard_event);\n",
       "    canvas_div.keyup('key_release', canvas_keyboard_event);\n",
       "    this.canvas_div = canvas_div\n",
       "    this._canvas_extra_style(canvas_div)\n",
       "    this.root.append(canvas_div);\n",
       "\n",
       "    var canvas = $('<canvas/>');\n",
       "    canvas.addClass('mpl-canvas');\n",
       "    canvas.attr('style', \"left: 0; top: 0; z-index: 0; outline: 0\")\n",
       "\n",
       "    this.canvas = canvas[0];\n",
       "    this.context = canvas[0].getContext(\"2d\");\n",
       "\n",
       "    var backingStore = this.context.backingStorePixelRatio ||\n",
       "\tthis.context.webkitBackingStorePixelRatio ||\n",
       "\tthis.context.mozBackingStorePixelRatio ||\n",
       "\tthis.context.msBackingStorePixelRatio ||\n",
       "\tthis.context.oBackingStorePixelRatio ||\n",
       "\tthis.context.backingStorePixelRatio || 1;\n",
       "\n",
       "    mpl.ratio = (window.devicePixelRatio || 1) / backingStore;\n",
       "\n",
       "    var rubberband = $('<canvas/>');\n",
       "    rubberband.attr('style', \"position: absolute; left: 0; top: 0; z-index: 1;\")\n",
       "\n",
       "    var pass_mouse_events = true;\n",
       "\n",
       "    canvas_div.resizable({\n",
       "        start: function(event, ui) {\n",
       "            pass_mouse_events = false;\n",
       "        },\n",
       "        resize: function(event, ui) {\n",
       "            fig.request_resize(ui.size.width, ui.size.height);\n",
       "        },\n",
       "        stop: function(event, ui) {\n",
       "            pass_mouse_events = true;\n",
       "            fig.request_resize(ui.size.width, ui.size.height);\n",
       "        },\n",
       "    });\n",
       "\n",
       "    function mouse_event_fn(event) {\n",
       "        if (pass_mouse_events)\n",
       "            return fig.mouse_event(event, event['data']);\n",
       "    }\n",
       "\n",
       "    rubberband.mousedown('button_press', mouse_event_fn);\n",
       "    rubberband.mouseup('button_release', mouse_event_fn);\n",
       "    // Throttle sequential mouse events to 1 every 20ms.\n",
       "    rubberband.mousemove('motion_notify', mouse_event_fn);\n",
       "\n",
       "    rubberband.mouseenter('figure_enter', mouse_event_fn);\n",
       "    rubberband.mouseleave('figure_leave', mouse_event_fn);\n",
       "\n",
       "    canvas_div.on(\"wheel\", function (event) {\n",
       "        event = event.originalEvent;\n",
       "        event['data'] = 'scroll'\n",
       "        if (event.deltaY < 0) {\n",
       "            event.step = 1;\n",
       "        } else {\n",
       "            event.step = -1;\n",
       "        }\n",
       "        mouse_event_fn(event);\n",
       "    });\n",
       "\n",
       "    canvas_div.append(canvas);\n",
       "    canvas_div.append(rubberband);\n",
       "\n",
       "    this.rubberband = rubberband;\n",
       "    this.rubberband_canvas = rubberband[0];\n",
       "    this.rubberband_context = rubberband[0].getContext(\"2d\");\n",
       "    this.rubberband_context.strokeStyle = \"#000000\";\n",
       "\n",
       "    this._resize_canvas = function(width, height) {\n",
       "        // Keep the size of the canvas, canvas container, and rubber band\n",
       "        // canvas in synch.\n",
       "        canvas_div.css('width', width)\n",
       "        canvas_div.css('height', height)\n",
       "\n",
       "        canvas.attr('width', width * mpl.ratio);\n",
       "        canvas.attr('height', height * mpl.ratio);\n",
       "        canvas.attr('style', 'width: ' + width + 'px; height: ' + height + 'px;');\n",
       "\n",
       "        rubberband.attr('width', width);\n",
       "        rubberband.attr('height', height);\n",
       "    }\n",
       "\n",
       "    // Set the figure to an initial 600x600px, this will subsequently be updated\n",
       "    // upon first draw.\n",
       "    this._resize_canvas(600, 600);\n",
       "\n",
       "    // Disable right mouse context menu.\n",
       "    $(this.rubberband_canvas).bind(\"contextmenu\",function(e){\n",
       "        return false;\n",
       "    });\n",
       "\n",
       "    function set_focus () {\n",
       "        canvas.focus();\n",
       "        canvas_div.focus();\n",
       "    }\n",
       "\n",
       "    window.setTimeout(set_focus, 100);\n",
       "}\n",
       "\n",
       "mpl.figure.prototype._init_toolbar = function() {\n",
       "    var fig = this;\n",
       "\n",
       "    var nav_element = $('<div/>')\n",
       "    nav_element.attr('style', 'width: 100%');\n",
       "    this.root.append(nav_element);\n",
       "\n",
       "    // Define a callback function for later on.\n",
       "    function toolbar_event(event) {\n",
       "        return fig.toolbar_button_onclick(event['data']);\n",
       "    }\n",
       "    function toolbar_mouse_event(event) {\n",
       "        return fig.toolbar_button_onmouseover(event['data']);\n",
       "    }\n",
       "\n",
       "    for(var toolbar_ind in mpl.toolbar_items) {\n",
       "        var name = mpl.toolbar_items[toolbar_ind][0];\n",
       "        var tooltip = mpl.toolbar_items[toolbar_ind][1];\n",
       "        var image = mpl.toolbar_items[toolbar_ind][2];\n",
       "        var method_name = mpl.toolbar_items[toolbar_ind][3];\n",
       "\n",
       "        if (!name) {\n",
       "            // put a spacer in here.\n",
       "            continue;\n",
       "        }\n",
       "        var button = $('<button/>');\n",
       "        button.addClass('ui-button ui-widget ui-state-default ui-corner-all ' +\n",
       "                        'ui-button-icon-only');\n",
       "        button.attr('role', 'button');\n",
       "        button.attr('aria-disabled', 'false');\n",
       "        button.click(method_name, toolbar_event);\n",
       "        button.mouseover(tooltip, toolbar_mouse_event);\n",
       "\n",
       "        var icon_img = $('<span/>');\n",
       "        icon_img.addClass('ui-button-icon-primary ui-icon');\n",
       "        icon_img.addClass(image);\n",
       "        icon_img.addClass('ui-corner-all');\n",
       "\n",
       "        var tooltip_span = $('<span/>');\n",
       "        tooltip_span.addClass('ui-button-text');\n",
       "        tooltip_span.html(tooltip);\n",
       "\n",
       "        button.append(icon_img);\n",
       "        button.append(tooltip_span);\n",
       "\n",
       "        nav_element.append(button);\n",
       "    }\n",
       "\n",
       "    var fmt_picker_span = $('<span/>');\n",
       "\n",
       "    var fmt_picker = $('<select/>');\n",
       "    fmt_picker.addClass('mpl-toolbar-option ui-widget ui-widget-content');\n",
       "    fmt_picker_span.append(fmt_picker);\n",
       "    nav_element.append(fmt_picker_span);\n",
       "    this.format_dropdown = fmt_picker[0];\n",
       "\n",
       "    for (var ind in mpl.extensions) {\n",
       "        var fmt = mpl.extensions[ind];\n",
       "        var option = $(\n",
       "            '<option/>', {selected: fmt === mpl.default_extension}).html(fmt);\n",
       "        fmt_picker.append(option)\n",
       "    }\n",
       "\n",
       "    // Add hover states to the ui-buttons\n",
       "    $( \".ui-button\" ).hover(\n",
       "        function() { $(this).addClass(\"ui-state-hover\");},\n",
       "        function() { $(this).removeClass(\"ui-state-hover\");}\n",
       "    );\n",
       "\n",
       "    var status_bar = $('<span class=\"mpl-message\"/>');\n",
       "    nav_element.append(status_bar);\n",
       "    this.message = status_bar[0];\n",
       "}\n",
       "\n",
       "mpl.figure.prototype.request_resize = function(x_pixels, y_pixels) {\n",
       "    // Request matplotlib to resize the figure. Matplotlib will then trigger a resize in the client,\n",
       "    // which will in turn request a refresh of the image.\n",
       "    this.send_message('resize', {'width': x_pixels, 'height': y_pixels});\n",
       "}\n",
       "\n",
       "mpl.figure.prototype.send_message = function(type, properties) {\n",
       "    properties['type'] = type;\n",
       "    properties['figure_id'] = this.id;\n",
       "    this.ws.send(JSON.stringify(properties));\n",
       "}\n",
       "\n",
       "mpl.figure.prototype.send_draw_message = function() {\n",
       "    if (!this.waiting) {\n",
       "        this.waiting = true;\n",
       "        this.ws.send(JSON.stringify({type: \"draw\", figure_id: this.id}));\n",
       "    }\n",
       "}\n",
       "\n",
       "\n",
       "mpl.figure.prototype.handle_save = function(fig, msg) {\n",
       "    var format_dropdown = fig.format_dropdown;\n",
       "    var format = format_dropdown.options[format_dropdown.selectedIndex].value;\n",
       "    fig.ondownload(fig, format);\n",
       "}\n",
       "\n",
       "\n",
       "mpl.figure.prototype.handle_resize = function(fig, msg) {\n",
       "    var size = msg['size'];\n",
       "    if (size[0] != fig.canvas.width || size[1] != fig.canvas.height) {\n",
       "        fig._resize_canvas(size[0], size[1]);\n",
       "        fig.send_message(\"refresh\", {});\n",
       "    };\n",
       "}\n",
       "\n",
       "mpl.figure.prototype.handle_rubberband = function(fig, msg) {\n",
       "    var x0 = msg['x0'] / mpl.ratio;\n",
       "    var y0 = (fig.canvas.height - msg['y0']) / mpl.ratio;\n",
       "    var x1 = msg['x1'] / mpl.ratio;\n",
       "    var y1 = (fig.canvas.height - msg['y1']) / mpl.ratio;\n",
       "    x0 = Math.floor(x0) + 0.5;\n",
       "    y0 = Math.floor(y0) + 0.5;\n",
       "    x1 = Math.floor(x1) + 0.5;\n",
       "    y1 = Math.floor(y1) + 0.5;\n",
       "    var min_x = Math.min(x0, x1);\n",
       "    var min_y = Math.min(y0, y1);\n",
       "    var width = Math.abs(x1 - x0);\n",
       "    var height = Math.abs(y1 - y0);\n",
       "\n",
       "    fig.rubberband_context.clearRect(\n",
       "        0, 0, fig.canvas.width, fig.canvas.height);\n",
       "\n",
       "    fig.rubberband_context.strokeRect(min_x, min_y, width, height);\n",
       "}\n",
       "\n",
       "mpl.figure.prototype.handle_figure_label = function(fig, msg) {\n",
       "    // Updates the figure title.\n",
       "    fig.header.textContent = msg['label'];\n",
       "}\n",
       "\n",
       "mpl.figure.prototype.handle_cursor = function(fig, msg) {\n",
       "    var cursor = msg['cursor'];\n",
       "    switch(cursor)\n",
       "    {\n",
       "    case 0:\n",
       "        cursor = 'pointer';\n",
       "        break;\n",
       "    case 1:\n",
       "        cursor = 'default';\n",
       "        break;\n",
       "    case 2:\n",
       "        cursor = 'crosshair';\n",
       "        break;\n",
       "    case 3:\n",
       "        cursor = 'move';\n",
       "        break;\n",
       "    }\n",
       "    fig.rubberband_canvas.style.cursor = cursor;\n",
       "}\n",
       "\n",
       "mpl.figure.prototype.handle_message = function(fig, msg) {\n",
       "    fig.message.textContent = msg['message'];\n",
       "}\n",
       "\n",
       "mpl.figure.prototype.handle_draw = function(fig, msg) {\n",
       "    // Request the server to send over a new figure.\n",
       "    fig.send_draw_message();\n",
       "}\n",
       "\n",
       "mpl.figure.prototype.handle_image_mode = function(fig, msg) {\n",
       "    fig.image_mode = msg['mode'];\n",
       "}\n",
       "\n",
       "mpl.figure.prototype.updated_canvas_event = function() {\n",
       "    // Called whenever the canvas gets updated.\n",
       "    this.send_message(\"ack\", {});\n",
       "}\n",
       "\n",
       "// A function to construct a web socket function for onmessage handling.\n",
       "// Called in the figure constructor.\n",
       "mpl.figure.prototype._make_on_message_function = function(fig) {\n",
       "    return function socket_on_message(evt) {\n",
       "        if (evt.data instanceof Blob) {\n",
       "            /* FIXME: We get \"Resource interpreted as Image but\n",
       "             * transferred with MIME type text/plain:\" errors on\n",
       "             * Chrome.  But how to set the MIME type?  It doesn't seem\n",
       "             * to be part of the websocket stream */\n",
       "            evt.data.type = \"image/png\";\n",
       "\n",
       "            /* Free the memory for the previous frames */\n",
       "            if (fig.imageObj.src) {\n",
       "                (window.URL || window.webkitURL).revokeObjectURL(\n",
       "                    fig.imageObj.src);\n",
       "            }\n",
       "\n",
       "            fig.imageObj.src = (window.URL || window.webkitURL).createObjectURL(\n",
       "                evt.data);\n",
       "            fig.updated_canvas_event();\n",
       "            fig.waiting = false;\n",
       "            return;\n",
       "        }\n",
       "        else if (typeof evt.data === 'string' && evt.data.slice(0, 21) == \"data:image/png;base64\") {\n",
       "            fig.imageObj.src = evt.data;\n",
       "            fig.updated_canvas_event();\n",
       "            fig.waiting = false;\n",
       "            return;\n",
       "        }\n",
       "\n",
       "        var msg = JSON.parse(evt.data);\n",
       "        var msg_type = msg['type'];\n",
       "\n",
       "        // Call the  \"handle_{type}\" callback, which takes\n",
       "        // the figure and JSON message as its only arguments.\n",
       "        try {\n",
       "            var callback = fig[\"handle_\" + msg_type];\n",
       "        } catch (e) {\n",
       "            console.log(\"No handler for the '\" + msg_type + \"' message type: \", msg);\n",
       "            return;\n",
       "        }\n",
       "\n",
       "        if (callback) {\n",
       "            try {\n",
       "                // console.log(\"Handling '\" + msg_type + \"' message: \", msg);\n",
       "                callback(fig, msg);\n",
       "            } catch (e) {\n",
       "                console.log(\"Exception inside the 'handler_\" + msg_type + \"' callback:\", e, e.stack, msg);\n",
       "            }\n",
       "        }\n",
       "    };\n",
       "}\n",
       "\n",
       "// from http://stackoverflow.com/questions/1114465/getting-mouse-location-in-canvas\n",
       "mpl.findpos = function(e) {\n",
       "    //this section is from http://www.quirksmode.org/js/events_properties.html\n",
       "    var targ;\n",
       "    if (!e)\n",
       "        e = window.event;\n",
       "    if (e.target)\n",
       "        targ = e.target;\n",
       "    else if (e.srcElement)\n",
       "        targ = e.srcElement;\n",
       "    if (targ.nodeType == 3) // defeat Safari bug\n",
       "        targ = targ.parentNode;\n",
       "\n",
       "    // jQuery normalizes the pageX and pageY\n",
       "    // pageX,Y are the mouse positions relative to the document\n",
       "    // offset() returns the position of the element relative to the document\n",
       "    var x = e.pageX - $(targ).offset().left;\n",
       "    var y = e.pageY - $(targ).offset().top;\n",
       "\n",
       "    return {\"x\": x, \"y\": y};\n",
       "};\n",
       "\n",
       "/*\n",
       " * return a copy of an object with only non-object keys\n",
       " * we need this to avoid circular references\n",
       " * http://stackoverflow.com/a/24161582/3208463\n",
       " */\n",
       "function simpleKeys (original) {\n",
       "  return Object.keys(original).reduce(function (obj, key) {\n",
       "    if (typeof original[key] !== 'object')\n",
       "        obj[key] = original[key]\n",
       "    return obj;\n",
       "  }, {});\n",
       "}\n",
       "\n",
       "mpl.figure.prototype.mouse_event = function(event, name) {\n",
       "    var canvas_pos = mpl.findpos(event)\n",
       "\n",
       "    if (name === 'button_press')\n",
       "    {\n",
       "        this.canvas.focus();\n",
       "        this.canvas_div.focus();\n",
       "    }\n",
       "\n",
       "    var x = canvas_pos.x * mpl.ratio;\n",
       "    var y = canvas_pos.y * mpl.ratio;\n",
       "\n",
       "    this.send_message(name, {x: x, y: y, button: event.button,\n",
       "                             step: event.step,\n",
       "                             guiEvent: simpleKeys(event)});\n",
       "\n",
       "    /* This prevents the web browser from automatically changing to\n",
       "     * the text insertion cursor when the button is pressed.  We want\n",
       "     * to control all of the cursor setting manually through the\n",
       "     * 'cursor' event from matplotlib */\n",
       "    event.preventDefault();\n",
       "    return false;\n",
       "}\n",
       "\n",
       "mpl.figure.prototype._key_event_extra = function(event, name) {\n",
       "    // Handle any extra behaviour associated with a key event\n",
       "}\n",
       "\n",
       "mpl.figure.prototype.key_event = function(event, name) {\n",
       "\n",
       "    // Prevent repeat events\n",
       "    if (name == 'key_press')\n",
       "    {\n",
       "        if (event.which === this._key)\n",
       "            return;\n",
       "        else\n",
       "            this._key = event.which;\n",
       "    }\n",
       "    if (name == 'key_release')\n",
       "        this._key = null;\n",
       "\n",
       "    var value = '';\n",
       "    if (event.ctrlKey && event.which != 17)\n",
       "        value += \"ctrl+\";\n",
       "    if (event.altKey && event.which != 18)\n",
       "        value += \"alt+\";\n",
       "    if (event.shiftKey && event.which != 16)\n",
       "        value += \"shift+\";\n",
       "\n",
       "    value += 'k';\n",
       "    value += event.which.toString();\n",
       "\n",
       "    this._key_event_extra(event, name);\n",
       "\n",
       "    this.send_message(name, {key: value,\n",
       "                             guiEvent: simpleKeys(event)});\n",
       "    return false;\n",
       "}\n",
       "\n",
       "mpl.figure.prototype.toolbar_button_onclick = function(name) {\n",
       "    if (name == 'download') {\n",
       "        this.handle_save(this, null);\n",
       "    } else {\n",
       "        this.send_message(\"toolbar_button\", {name: name});\n",
       "    }\n",
       "};\n",
       "\n",
       "mpl.figure.prototype.toolbar_button_onmouseover = function(tooltip) {\n",
       "    this.message.textContent = tooltip;\n",
       "};\n",
       "mpl.toolbar_items = [[\"Home\", \"Reset original view\", \"fa fa-home icon-home\", \"home\"], [\"Back\", \"Back to  previous view\", \"fa fa-arrow-left icon-arrow-left\", \"back\"], [\"Forward\", \"Forward to next view\", \"fa fa-arrow-right icon-arrow-right\", \"forward\"], [\"\", \"\", \"\", \"\"], [\"Pan\", \"Pan axes with left mouse, zoom with right\", \"fa fa-arrows icon-move\", \"pan\"], [\"Zoom\", \"Zoom to rectangle\", \"fa fa-square-o icon-check-empty\", \"zoom\"], [\"\", \"\", \"\", \"\"], [\"Download\", \"Download plot\", \"fa fa-floppy-o icon-save\", \"download\"]];\n",
       "\n",
       "mpl.extensions = [\"eps\", \"jpeg\", \"pdf\", \"png\", \"ps\", \"raw\", \"svg\", \"tif\"];\n",
       "\n",
       "mpl.default_extension = \"png\";var comm_websocket_adapter = function(comm) {\n",
       "    // Create a \"websocket\"-like object which calls the given IPython comm\n",
       "    // object with the appropriate methods. Currently this is a non binary\n",
       "    // socket, so there is still some room for performance tuning.\n",
       "    var ws = {};\n",
       "\n",
       "    ws.close = function() {\n",
       "        comm.close()\n",
       "    };\n",
       "    ws.send = function(m) {\n",
       "        //console.log('sending', m);\n",
       "        comm.send(m);\n",
       "    };\n",
       "    // Register the callback with on_msg.\n",
       "    comm.on_msg(function(msg) {\n",
       "        //console.log('receiving', msg['content']['data'], msg);\n",
       "        // Pass the mpl event to the overriden (by mpl) onmessage function.\n",
       "        ws.onmessage(msg['content']['data'])\n",
       "    });\n",
       "    return ws;\n",
       "}\n",
       "\n",
       "mpl.mpl_figure_comm = function(comm, msg) {\n",
       "    // This is the function which gets called when the mpl process\n",
       "    // starts-up an IPython Comm through the \"matplotlib\" channel.\n",
       "\n",
       "    var id = msg.content.data.id;\n",
       "    // Get hold of the div created by the display call when the Comm\n",
       "    // socket was opened in Python.\n",
       "    var element = $(\"#\" + id);\n",
       "    var ws_proxy = comm_websocket_adapter(comm)\n",
       "\n",
       "    function ondownload(figure, format) {\n",
       "        window.open(figure.imageObj.src);\n",
       "    }\n",
       "\n",
       "    var fig = new mpl.figure(id, ws_proxy,\n",
       "                           ondownload,\n",
       "                           element.get(0));\n",
       "\n",
       "    // Call onopen now - mpl needs it, as it is assuming we've passed it a real\n",
       "    // web socket which is closed, not our websocket->open comm proxy.\n",
       "    ws_proxy.onopen();\n",
       "\n",
       "    fig.parent_element = element.get(0);\n",
       "    fig.cell_info = mpl.find_output_cell(\"<div id='\" + id + \"'></div>\");\n",
       "    if (!fig.cell_info) {\n",
       "        console.error(\"Failed to find cell for figure\", id, fig);\n",
       "        return;\n",
       "    }\n",
       "\n",
       "    var output_index = fig.cell_info[2]\n",
       "    var cell = fig.cell_info[0];\n",
       "\n",
       "};\n",
       "\n",
       "mpl.figure.prototype.handle_close = function(fig, msg) {\n",
       "    var width = fig.canvas.width/mpl.ratio\n",
       "    fig.root.unbind('remove')\n",
       "\n",
       "    // Update the output cell to use the data from the current canvas.\n",
       "    fig.push_to_output();\n",
       "    var dataURL = fig.canvas.toDataURL();\n",
       "    // Re-enable the keyboard manager in IPython - without this line, in FF,\n",
       "    // the notebook keyboard shortcuts fail.\n",
       "    IPython.keyboard_manager.enable()\n",
       "    $(fig.parent_element).html('<img src=\"' + dataURL + '\" width=\"' + width + '\">');\n",
       "    fig.close_ws(fig, msg);\n",
       "}\n",
       "\n",
       "mpl.figure.prototype.close_ws = function(fig, msg){\n",
       "    fig.send_message('closing', msg);\n",
       "    // fig.ws.close()\n",
       "}\n",
       "\n",
       "mpl.figure.prototype.push_to_output = function(remove_interactive) {\n",
       "    // Turn the data on the canvas into data in the output cell.\n",
       "    var width = this.canvas.width/mpl.ratio\n",
       "    var dataURL = this.canvas.toDataURL();\n",
       "    this.cell_info[1]['text/html'] = '<img src=\"' + dataURL + '\" width=\"' + width + '\">';\n",
       "}\n",
       "\n",
       "mpl.figure.prototype.updated_canvas_event = function() {\n",
       "    // Tell IPython that the notebook contents must change.\n",
       "    IPython.notebook.set_dirty(true);\n",
       "    this.send_message(\"ack\", {});\n",
       "    var fig = this;\n",
       "    // Wait a second, then push the new image to the DOM so\n",
       "    // that it is saved nicely (might be nice to debounce this).\n",
       "    setTimeout(function () { fig.push_to_output() }, 1000);\n",
       "}\n",
       "\n",
       "mpl.figure.prototype._init_toolbar = function() {\n",
       "    var fig = this;\n",
       "\n",
       "    var nav_element = $('<div/>')\n",
       "    nav_element.attr('style', 'width: 100%');\n",
       "    this.root.append(nav_element);\n",
       "\n",
       "    // Define a callback function for later on.\n",
       "    function toolbar_event(event) {\n",
       "        return fig.toolbar_button_onclick(event['data']);\n",
       "    }\n",
       "    function toolbar_mouse_event(event) {\n",
       "        return fig.toolbar_button_onmouseover(event['data']);\n",
       "    }\n",
       "\n",
       "    for(var toolbar_ind in mpl.toolbar_items){\n",
       "        var name = mpl.toolbar_items[toolbar_ind][0];\n",
       "        var tooltip = mpl.toolbar_items[toolbar_ind][1];\n",
       "        var image = mpl.toolbar_items[toolbar_ind][2];\n",
       "        var method_name = mpl.toolbar_items[toolbar_ind][3];\n",
       "\n",
       "        if (!name) { continue; };\n",
       "\n",
       "        var button = $('<button class=\"btn btn-default\" href=\"#\" title=\"' + name + '\"><i class=\"fa ' + image + ' fa-lg\"></i></button>');\n",
       "        button.click(method_name, toolbar_event);\n",
       "        button.mouseover(tooltip, toolbar_mouse_event);\n",
       "        nav_element.append(button);\n",
       "    }\n",
       "\n",
       "    // Add the status bar.\n",
       "    var status_bar = $('<span class=\"mpl-message\" style=\"text-align:right; float: right;\"/>');\n",
       "    nav_element.append(status_bar);\n",
       "    this.message = status_bar[0];\n",
       "\n",
       "    // Add the close button to the window.\n",
       "    var buttongrp = $('<div class=\"btn-group inline pull-right\"></div>');\n",
       "    var button = $('<button class=\"btn btn-mini btn-primary\" href=\"#\" title=\"Stop Interaction\"><i class=\"fa fa-power-off icon-remove icon-large\"></i></button>');\n",
       "    button.click(function (evt) { fig.handle_close(fig, {}); } );\n",
       "    button.mouseover('Stop Interaction', toolbar_mouse_event);\n",
       "    buttongrp.append(button);\n",
       "    var titlebar = this.root.find($('.ui-dialog-titlebar'));\n",
       "    titlebar.prepend(buttongrp);\n",
       "}\n",
       "\n",
       "mpl.figure.prototype._root_extra_style = function(el){\n",
       "    var fig = this\n",
       "    el.on(\"remove\", function(){\n",
       "\tfig.close_ws(fig, {});\n",
       "    });\n",
       "}\n",
       "\n",
       "mpl.figure.prototype._canvas_extra_style = function(el){\n",
       "    // this is important to make the div 'focusable\n",
       "    el.attr('tabindex', 0)\n",
       "    // reach out to IPython and tell the keyboard manager to turn it's self\n",
       "    // off when our div gets focus\n",
       "\n",
       "    // location in version 3\n",
       "    if (IPython.notebook.keyboard_manager) {\n",
       "        IPython.notebook.keyboard_manager.register_events(el);\n",
       "    }\n",
       "    else {\n",
       "        // location in version 2\n",
       "        IPython.keyboard_manager.register_events(el);\n",
       "    }\n",
       "\n",
       "}\n",
       "\n",
       "mpl.figure.prototype._key_event_extra = function(event, name) {\n",
       "    var manager = IPython.notebook.keyboard_manager;\n",
       "    if (!manager)\n",
       "        manager = IPython.keyboard_manager;\n",
       "\n",
       "    // Check for shift+enter\n",
       "    if (event.shiftKey && event.which == 13) {\n",
       "        this.canvas_div.blur();\n",
       "        // select the cell after this one\n",
       "        var index = IPython.notebook.find_cell_index(this.cell_info[0]);\n",
       "        IPython.notebook.select(index + 1);\n",
       "    }\n",
       "}\n",
       "\n",
       "mpl.figure.prototype.handle_save = function(fig, msg) {\n",
       "    fig.ondownload(fig, null);\n",
       "}\n",
       "\n",
       "\n",
       "mpl.find_output_cell = function(html_output) {\n",
       "    // Return the cell and output element which can be found *uniquely* in the notebook.\n",
       "    // Note - this is a bit hacky, but it is done because the \"notebook_saving.Notebook\"\n",
       "    // IPython event is triggered only after the cells have been serialised, which for\n",
       "    // our purposes (turning an active figure into a static one), is too late.\n",
       "    var cells = IPython.notebook.get_cells();\n",
       "    var ncells = cells.length;\n",
       "    for (var i=0; i<ncells; i++) {\n",
       "        var cell = cells[i];\n",
       "        if (cell.cell_type === 'code'){\n",
       "            for (var j=0; j<cell.output_area.outputs.length; j++) {\n",
       "                var data = cell.output_area.outputs[j];\n",
       "                if (data.data) {\n",
       "                    // IPython >= 3 moved mimebundle to data attribute of output\n",
       "                    data = data.data;\n",
       "                }\n",
       "                if (data['text/html'] == html_output) {\n",
       "                    return [cell, data, j];\n",
       "                }\n",
       "            }\n",
       "        }\n",
       "    }\n",
       "}\n",
       "\n",
       "// Register the function which deals with the matplotlib target/channel.\n",
       "// The kernel may be null if the page has been refreshed.\n",
       "if (IPython.notebook.kernel != null) {\n",
       "    IPython.notebook.kernel.comm_manager.register_target('matplotlib', mpl.mpl_figure_comm);\n",
       "}\n"
      ],
      "text/plain": [
       "<IPython.core.display.Javascript object>"
      ]
     },
     "metadata": {},
     "output_type": "display_data"
    },
    {
     "data": {
      "text/html": [
       "<img src=\"data:image/png;base64,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\" width=\"640\">"
      ],
      "text/plain": [
       "<IPython.core.display.HTML object>"
      ]
     },
     "metadata": {},
     "output_type": "display_data"
    },
    {
     "data": {
      "text/plain": [
       "[<matplotlib.lines.Line2D at 0x76ea320>]"
      ]
     },
     "execution_count": 16,
     "metadata": {},
     "output_type": "execute_result"
    }
   ],
   "source": [
    "%matplotlib notebook\n",
    "\n",
    "plt.plot(ps.traces[1]._view['trace'])\n",
    "# ps.traces[2]._view['trace'][-20:]"
   ]
  },
  {
   "cell_type": "code",
   "execution_count": 10,
   "metadata": {
    "collapsed": false
   },
   "outputs": [
    {
     "data": {
      "text/plain": [
       "14974"
      ]
     },
     "execution_count": 10,
     "metadata": {},
     "output_type": "execute_result"
    }
   ],
   "source": [
    "ps.traces[3]._view['area']"
   ]
  },
  {
   "cell_type": "code",
   "execution_count": null,
   "metadata": {
    "collapsed": false,
    "run_control": {
     "frozen": false,
     "read_only": false
    },
    "scrolled": true
   },
   "outputs": [],
   "source": [
    "traces=Data.fromfile('traces',trace_dt,'teslib','measurement_subsystem_TB',tool='vivado')\n",
    "stream=Data.fromfile('bytestream',stream_dt,'teslib','measurement_subsystem_TB',tool='vivado')\n",
    "bs=PacketStream(stream)\n",
    "dists=bs.distributions\n",
    "#bs.packets\n",
    "dists"
   ]
  },
  {
   "cell_type": "code",
   "execution_count": null,
   "metadata": {
    "collapsed": false
   },
   "outputs": [],
   "source": [
    "d=dists[0]\n",
    "d.counts[-1]"
   ]
  },
  {
   "cell_type": "code",
   "execution_count": null,
   "metadata": {
    "collapsed": false
   },
   "outputs": [],
   "source": [
    "d.total+d.underflow+d.overflow"
   ]
  },
  {
   "cell_type": "code",
   "execution_count": null,
   "metadata": {
    "collapsed": false
   },
   "outputs": [],
   "source": [
    "%matplotlib notebook\n",
    "plt.plot(d.bins)"
   ]
  },
  {
   "cell_type": "code",
   "execution_count": null,
   "metadata": {
    "collapsed": false,
    "scrolled": false
   },
   "outputs": [],
   "source": [
    "f=EventFlags(es[2][2]['flags'])\n",
    "f.channel"
   ]
  },
  {
   "cell_type": "code",
   "execution_count": null,
   "metadata": {
    "collapsed": false,
    "run_control": {
     "frozen": false,
     "read_only": false
    },
    "scrolled": true
   },
   "outputs": [],
   "source": [
    "import tes.mca as mca\n",
    "d=bs.distributions[0]\n",
    "eset=np.uint64(1)\n",
    "bset=np.uint64(0)\n",
    "cset=np.uint64(20)\n",
    "\n",
    "stop=d.stop_time+eset+cset\n",
    "start=d.start_time+bset+cset\n",
    "bins=np.zeros((d.last_bin+1,),dtype=np.uint32)\n",
    "\n",
    "if d.value==mca.Value.raw_signal:\n",
    "    tname='raw'\n",
    "elif d.value==mca.Value.filtered_signal:\n",
    "    tname='filtered'\n",
    "elif d.value==mca.Value.slope_signal:\n",
    "    tname='slope'\n",
    "\n",
    "for i in range(start,stop):\n",
    "    s = traces[tname][i]\n",
    "    if s < d.lowest_value:\n",
    "        bins[0] += 1\n",
    "    else:\n",
    "        bin_number = s - d.lowest_value + 1\n",
    "        if bin_number < d.last_bin:\n",
    "            bins[bin_number] += 1\n",
    "        else:\n",
    "            bins[d.last_bin] += 1\n",
    "        \n",
    "bad=(bins-d.counts).nonzero()\n",
    "bad"
   ]
  },
  {
   "cell_type": "code",
   "execution_count": null,
   "metadata": {
    "collapsed": false
   },
   "outputs": [],
   "source": [
    "d.counts[bad][1:10]"
   ]
  },
  {
   "cell_type": "code",
   "execution_count": null,
   "metadata": {
    "collapsed": false
   },
   "outputs": [],
   "source": [
    "bins[bad][1:10]"
   ]
  },
  {
   "cell_type": "code",
   "execution_count": null,
   "metadata": {
    "collapsed": false
   },
   "outputs": [],
   "source": [
    "d.value"
   ]
  },
  {
   "cell_type": "code",
   "execution_count": null,
   "metadata": {
    "collapsed": false,
    "scrolled": false
   },
   "outputs": [],
   "source": [
    "%matplotlib notebook\n",
    "plt.step(np.arange(len(d.bins)),d.bins)\n",
    "# plt.step(np.arange(len(d.counts)),bins)\n",
    "plt.plot(bad,np.zeros_like(bad),'.k')"
   ]
  },
  {
   "cell_type": "code",
   "execution_count": null,
   "metadata": {
    "collapsed": false
   },
   "outputs": [],
   "source": [
    "sum(d.counts)"
   ]
  },
  {
   "cell_type": "code",
   "execution_count": null,
   "metadata": {
    "collapsed": false
   },
   "outputs": [],
   "source": [
    "2**14+2000"
   ]
  },
  {
   "cell_type": "code",
   "execution_count": null,
   "metadata": {
    "collapsed": false,
    "run_control": {
     "frozen": false,
     "read_only": false
    }
   },
   "outputs": [],
   "source": [
    "def plot_event(event_tupple):\n",
    "    pre=200\n",
    "    post=1000\n",
    "    timestamp=event_tupple[0]\n",
    "    event_type=event_tupple[1]\n",
    "    event=event_tupple[2]\n",
    "    flags=EventFlags(event['flags'])\n",
    "    print(flags)\n",
    "    print('timestamp',timestamp, 'time', event['time'])\n",
    "    if flags.type == Event.tick:\n",
    "        return\n",
    "    s=traces['filtered'][timestamp+20-pre:timestamp+20+post]\n",
    "    r=traces['raw'][timestamp+20-pre:timestamp+20+post]\n",
    "    i = np.where(abs(minmax['clk'])<=timestamp+20)[0][-1]\n",
    "    min_t=abs(minmax['clk'][i])-(timestamp+20)\n",
    "#     print(minmax['clk'][i],min_t,i,timestamp)\n",
    "    plt.plot(r,'k',linewidth=0.5)\n",
    "    plt.plot(s,'b',linewidth=2)\n",
    "    plt.plot([pre],s[pre],'sg')\n",
    "    plt.plot([pre+min_t],minmax['filtered'][i],'sr')\n",
    "    if event_type==Event.pulse:\n",
    "        for i in range(flags.peak_number):\n",
    "            p=event['peaks'][i]\n",
    "            plt.plot([0,len(s)-1],[p['height'],p['height']],':r')\n",
    "    else:\n",
    "      plt.plot([0,len(s)-1],[event['height'],event['height']],':r')\n",
    "        \n",
    "    #print(event['height'],event['minima'])\n",
    "    #print(minmax['filtered'][i]==s[pre+min_t])\n",
    "    #print(minmax['filtered'][i]==event['minima'])\n",
    "    #print(s[pre],s[pre-1])"
   ]
  },
  {
   "cell_type": "code",
   "execution_count": null,
   "metadata": {
    "collapsed": false,
    "run_control": {
     "frozen": false,
     "read_only": false
    }
   },
   "outputs": [],
   "source": [
    "pwd"
   ]
  },
  {
   "cell_type": "code",
   "execution_count": null,
   "metadata": {
    "collapsed": false
   },
   "outputs": [],
   "source": [
    "es=bs.eventstream\n",
    "es"
   ]
  },
  {
   "cell_type": "code",
   "execution_count": null,
   "metadata": {
    "collapsed": false,
    "run_control": {
     "frozen": false,
     "read_only": false
    }
   },
   "outputs": [],
   "source": [
    "%matplotlib notebook\n",
    "for e in es:\n",
    "    if e[1]==Event.peak:\n",
    "        plot_event(e)"
   ]
  },
  {
   "cell_type": "code",
   "execution_count": null,
   "metadata": {
    "collapsed": false,
    "run_control": {
     "frozen": false,
     "read_only": false
    }
   },
   "outputs": [],
   "source": [
    "es"
   ]
  },
  {
   "cell_type": "code",
   "execution_count": null,
   "metadata": {
    "collapsed": false,
    "run_control": {
     "frozen": false,
     "read_only": false
    }
   },
   "outputs": [],
   "source": [
    "dists=bs.distributions\n",
    "dists"
   ]
  },
  {
   "cell_type": "code",
   "execution_count": null,
   "metadata": {
    "collapsed": false,
    "run_control": {
     "frozen": false,
     "read_only": false
    }
   },
   "outputs": [],
   "source": [
    "bs.packets[185].payload"
   ]
  },
  {
   "cell_type": "code",
   "execution_count": null,
   "metadata": {
    "collapsed": false,
    "run_control": {
     "frozen": false,
     "read_only": false
    }
   },
   "outputs": [],
   "source": [
    "d=bs.distributions[0]\n",
    "eset=np.uint64(1)\n",
    "bset=np.uint64(0)\n",
    "cset=np.uint64(20)\n",
    "\n",
    "stop=d.stop_time+eset+cset\n",
    "start=d.start_time+bset+cset\n",
    "bins=np.zeros((d.last_bin+1,),dtype=np.uint32)\n",
    "for i in range(start,stop):\n",
    "    s = traces['raw'][i]\n",
    "    if s <= d.lowest_value:\n",
    "        bins[0] += 1\n",
    "    else:\n",
    "        bins[s-d.lowest_value] += 1\n",
    "        \n",
    "(bins-d.counts).nonzero()"
   ]
  },
  {
   "cell_type": "code",
   "execution_count": null,
   "metadata": {
    "collapsed": false,
    "run_control": {
     "frozen": false,
     "read_only": false
    }
   },
   "outputs": [],
   "source": [
    "%matplotlib notebook\n",
    "plt.step(np.arange(len(d.counts)),d.counts)"
   ]
  },
  {
   "cell_type": "code",
   "execution_count": null,
   "metadata": {
    "collapsed": false,
    "run_control": {
     "frozen": false,
     "read_only": false
    }
   },
   "outputs": [],
   "source": [
    "bins[bins.nonzero()]"
   ]
  },
  {
   "cell_type": "code",
   "execution_count": null,
   "metadata": {
    "collapsed": false,
    "run_control": {
     "frozen": false,
     "read_only": false
    }
   },
   "outputs": [],
   "source": [
    "sum(d.counts)"
   ]
  },
  {
   "cell_type": "code",
   "execution_count": null,
   "metadata": {
    "collapsed": false,
    "run_control": {
     "frozen": false,
     "read_only": false
    }
   },
   "outputs": [],
   "source": [
    "2**14+2000"
   ]
  },
  {
   "cell_type": "code",
   "execution_count": null,
   "metadata": {
    "collapsed": false,
    "run_control": {
     "frozen": false,
     "read_only": false
    }
   },
   "outputs": [],
   "source": [
    "es[3][2]['timestamp']-es[0][2]['timestamp']"
   ]
  },
  {
   "cell_type": "code",
   "execution_count": null,
   "metadata": {
    "collapsed": true,
    "run_control": {
     "frozen": false,
     "read_only": false
    }
   },
   "outputs": [],
   "source": [
    "def xings(s, thresh):\n",
    "    pos=s > thresh\n",
    "    neg=s < thresh\n",
    "    pos0=s >= thresh\n",
    "    neg0=s <= thresh\n",
    "    pos_xing_mask = np.bitwise_and(pos0[1:],neg[0:-1])  \n",
    "    neg_xing_mask = np.bitwise_and(neg0[1:],pos[0:-1])  \n",
    "    return pos_xing_mask.nonzero()[0]+1, neg_xing_mask.nonzero()[0]+1"
   ]
  },
  {
   "cell_type": "code",
   "execution_count": null,
   "metadata": {
    "collapsed": true,
    "run_control": {
     "frozen": false,
     "read_only": false
    }
   },
   "outputs": [],
   "source": [
    "from mpl_toolkits.axes_grid1 import host_subplot\n",
    "\n",
    "def plot_trace(traces,start,width):\n",
    "\n",
    "    ax = host_subplot(111)\n",
    "    axr = ax.twinx()\n",
    "    axt = ax.twiny()\n",
    "#ax.plot(t[0:-1:10],s[0:-1:10],'k')\n",
    "#ax.plot(t,s,'k')\n",
    "    axt.set_xlabel('Time ns',fontsize=18)\n",
    "    ax.set_ylabel('Voltage (Arbitary Units)',fontsize=18)\n",
    "#plt.xticks(visible=False)\n",
    "#plt.yticks(visible=False)\n",
    "#ax.set_xlim(0,t[4000000])\n",
    "#start=902000\n",
    "#width=2500\n",
    "    f=traces['filtered'][start:start+width]\n",
    "    s=traces['slope'][start:start+width]\n",
    "    t=np.arange(len(f))*4e-9\n",
    "#ts=t[pstart:pstop]\n",
    "#axins = fig.add_axes([.4, .45, .45, .4])\n",
    "    ax.set_xlim(t[0],t[-1])\n",
    "    axt.set_xlim(t[0],t[-1])\n",
    "\n",
    "    ylim=(-500,2000)\n",
    "\n",
    "    ax.set_ylim(ylim[0],ylim[1])\n",
    "    axr.set_ylim(ylim[0],ylim[1])\n",
    "\n",
    "    filtered, = ax.step(t,f,'k',lw=2,label='filtered')\n",
    "    slope, = ax.step(t,s,'b',label='slope')\n",
    "    ax.fill_between(t,0,s,alpha=.4)\n",
    "    plt.ylim=ylim\n",
    "\n",
    "pos=s>0\n",
    "neg=s<=0\n",
    "pos_xing_mask = np.bitwise_and(pos[1:-1],neg[0:-2])  \n",
    "neg_xing_mask = np.bitwise_and(neg[1:-1],pos[0:-2])  \n",
    "pos_xing=pos_xing_mask.nonzero()\n",
    "neg_xing=neg_xing_mask.nonzero()\n",
    "\n",
    "rx=[t[pos_xing[0][0]], t[neg_xing[0][0]]]\n",
    "ry=[f[pos_xing[0][0]], f[neg_xing[0][0]]]\n",
    "\n",
    "ax.fill_between(t[pos_xing[0][0]:neg_xing[0][0]],0,s[pos_xing[0][0]:neg_xing[0][0]],alpha=.4,color='r')\n",
    "\n",
    "#plt.plot(rx,[ry[0], ry[0]],'-r',lw=2)\n",
    "#plt.plot([rx[1],rx[1]], ry,'-r',lw=2)\n",
    "# thresholds\n",
    "sthresh = 600\n",
    "pthresh = 1000\n",
    "plt.plot([t[0], t[-1]], [sthresh, sthresh], '--b', lw=2)\n",
    "plt.plot([t[0], t[-1]], [pthresh, pthresh], '--k', lw=2)\n",
    "\n",
    "sthresh_xing=(s>sthresh).nonzero()[0][0]\n",
    "pthresh_xing=(f>pthresh).nonzero()[0][0]\n",
    "\n",
    "\n",
    "cf=.10\n",
    "height = ry[1]-ry[0]\n",
    "cfl=ry[0]+(height*cf)\n",
    "cfh=ry[1]-(height*cf)\n",
    "\n",
    "cfl_xing=(f>cfl).nonzero()[0][0]\n",
    "cfd_low=f[cfl_xing]\n",
    "cfh_xing=(f>cfh).nonzero()[0][0]\n",
    "cfd_high=f[cfh_xing]\n",
    "\n",
    "#plt.plot([t[cfl_xing], t[-1]],[cfd_low, cfd_low], ':r')\n",
    "#plt.plot([t[cfh_xing], t[-1]],[cfd_high, cfd_high], ':r')\n",
    "#plt.plot([x[1], t[-1]],[y[1], y[1]], ':r')\n",
    "plt.legend([filtered, slope],['Signal', 'Slope'],loc=2)\n",
    "\n",
    "#axr = ax.twinx()\n",
    "##################################################################\n",
    "#yticks=([ry[0],sthresh,pthresh,cfd_high,ry[1]])\n",
    "yticks=([sthresh,pthresh])\n",
    "axr.set_yticks(yticks)\n",
    "#yticklabels=['Start','Slope threshold','Pulse threshold','CF high','Peak']\n",
    "yticklabels=['Slope threshold','Pulse threshold']\n",
    "axr.set_yticklabels(yticklabels, color='r',fontsize=14)\n",
    "axr.get_yticklabels()[0].set_color('b')\n",
    "axr.get_yticklabels()[1].set_color('k')\n",
    "\n",
    "#xticks=([rx[0],t[cfl_xing],t[sthresh_xing],t[pthresh_xing],rx[1]])\n",
    "xticks=(t[cfl_xing],rx[1])\n",
    "#ax.set_xticks([rx[0],t[cfl_xing],t[sthresh_xing],t[pthresh_xing],rx[1]])\n",
    "ax.set_xticks(xticks)\n",
    "#xticklabels=['Start','CF low','Slope xing','Signal xing','Peak']\n",
    "xticklabels=['CF low','Peak']\n",
    "ax.set_xticklabels(xticklabels, color='r',fontsize=14)\n",
    "\n",
    "#plt.plot([t[cfh_xing], t[-1]],[cfd_high, cfd_high], ':r')\n",
    "#horoz start, stop lines\n",
    "#hpeak=ax.plot([xticks[1], t[-1]],[yticks[-1], yticks[-1]], '-.r')\n",
    "#hstart=ax.plot([xticks[0], t[-1]],[yticks[0], yticks[0]], '-.r')\n",
    "#vert start stop\n",
    "vstart=ax.plot([xticks[0], xticks[0]],[cfd_low, ylim[0]], '-.r')\n",
    "vpeak=ax.plot([xticks[1], xticks[1]],[ylim[0], ry[1]], '-.r')\n",
    "\n",
    "plt.tight_layout()\n",
    "plt.savefig('..//peakextraction7.svg')\n",
    "plt.show()\n",
    "print('risetime:',(xticks[1]-xticks[0])/4)\n",
    "print('height:',yticks[-1]-yticks[0])\n",
    "print('time:',(xticks[0]-rx[0])/4)\n",
    "print('area',sum(s[pos_xing[0][0]:neg_xing[0][0]])/256)\n"
   ]
  },
  {
   "cell_type": "code",
   "execution_count": null,
   "metadata": {
    "collapsed": true,
    "run_control": {
     "frozen": false,
     "read_only": false
    }
   },
   "outputs": [],
   "source": [
    "slope_0xings = xings(traces['slope'],0)"
   ]
  },
  {
   "cell_type": "code",
   "execution_count": null,
   "metadata": {
    "collapsed": false,
    "run_control": {
     "frozen": false,
     "read_only": false
    }
   },
   "outputs": [],
   "source": [
    "slope_0xings"
   ]
  },
  {
   "cell_type": "code",
   "execution_count": null,
   "metadata": {
    "collapsed": false,
    "run_control": {
     "frozen": false,
     "read_only": false
    }
   },
   "outputs": [],
   "source": [
    "%matplotlib notebook\n",
    "start=10000\n",
    "width=300\n",
    "plt.plot(traces['filtered'][start:start+width]/2)"
   ]
  },
  {
   "cell_type": "code",
   "execution_count": null,
   "metadata": {
    "collapsed": false,
    "run_control": {
     "frozen": false,
     "read_only": false
    }
   },
   "outputs": [],
   "source": [
    "%matplotlib notebook\n",
    "plt.plot(traces['slope'][20400:21700])"
   ]
  },
  {
   "cell_type": "code",
   "execution_count": null,
   "metadata": {
    "collapsed": false,
    "run_control": {
     "frozen": false,
     "read_only": false
    }
   },
   "outputs": [],
   "source": [
    "filtered=traces['filtered'][1100:]\n",
    "filteredL=traces['filteredL'][1100:]"
   ]
  },
  {
   "cell_type": "code",
   "execution_count": null,
   "metadata": {
    "collapsed": false,
    "run_control": {
     "frozen": false,
     "read_only": false
    }
   },
   "outputs": [],
   "source": [
    "filtered[:10]"
   ]
  },
  {
   "cell_type": "code",
   "execution_count": null,
   "metadata": {
    "collapsed": false,
    "run_control": {
     "frozen": false,
     "read_only": false
    }
   },
   "outputs": [],
   "source": [
    "filteredL[:10]/4"
   ]
  },
  {
   "cell_type": "code",
   "execution_count": null,
   "metadata": {
    "collapsed": false,
    "run_control": {
     "frozen": false,
     "read_only": false
    }
   },
   "outputs": [],
   "source": [
    "minmax_dt=np.dtype([('filtered','i4'),('low','i4'),('high','i4'),('clk','i4')])\n",
    "minmax=Data.fromfile('minmax',minmax_dt,'teslib','measurement_subsystem_TB',tool='vivado')\n",
    "fxing_dt=np.dtype([('extrema','i4'),('area','i4'),('clk','i4')])\n",
    "fxing=Data.fromfile('filteredxing',fxing_dt,'teslib','measurement_subsystem_TB',tool='vivado')"
   ]
  },
  {
   "cell_type": "code",
   "execution_count": null,
   "metadata": {
    "collapsed": false,
    "run_control": {
     "frozen": false,
     "read_only": false
    }
   },
   "outputs": [],
   "source": [
    "minmax"
   ]
  },
  {
   "cell_type": "code",
   "execution_count": null,
   "metadata": {
    "collapsed": false,
    "run_control": {
     "frozen": false,
     "read_only": false
    }
   },
   "outputs": [],
   "source": [
    "fxing"
   ]
  },
  {
   "cell_type": "code",
   "execution_count": null,
   "metadata": {
    "collapsed": false,
    "run_control": {
     "frozen": false,
     "read_only": false
    }
   },
   "outputs": [],
   "source": [
    "np.where(fxing['area']==0)"
   ]
  },
  {
   "cell_type": "code",
   "execution_count": null,
   "metadata": {
    "collapsed": false,
    "run_control": {
     "frozen": false,
     "read_only": false
    }
   },
   "outputs": [],
   "source": [
    "np.where(fxing['extrema']==0)"
   ]
  },
  {
   "cell_type": "code",
   "execution_count": null,
   "metadata": {
    "collapsed": false,
    "run_control": {
     "frozen": false,
     "read_only": false
    }
   },
   "outputs": [],
   "source": [
    "fxing[30]"
   ]
  },
  {
   "cell_type": "code",
   "execution_count": null,
   "metadata": {
    "collapsed": false,
    "run_control": {
     "frozen": false,
     "read_only": false
    }
   },
   "outputs": [],
   "source": [
    "exn=np.where(fxing['extrema']<0)\n",
    "clkn=np.where(fxing['clk']>0)"
   ]
  },
  {
   "cell_type": "code",
   "execution_count": null,
   "metadata": {
    "collapsed": true,
    "run_control": {
     "frozen": false,
     "read_only": false
    }
   },
   "outputs": [],
   "source": []
  },
  {
   "cell_type": "code",
   "execution_count": null,
   "metadata": {
    "collapsed": false,
    "run_control": {
     "frozen": false,
     "read_only": false
    }
   },
   "outputs": [],
   "source": [
    "fxing[374]"
   ]
  },
  {
   "cell_type": "code",
   "execution_count": null,
   "metadata": {
    "collapsed": false,
    "run_control": {
     "frozen": false,
     "read_only": false
    }
   },
   "outputs": [],
   "source": [
    "clkn"
   ]
  },
  {
   "cell_type": "code",
   "execution_count": null,
   "metadata": {
    "collapsed": false,
    "run_control": {
     "frozen": false,
     "read_only": false
    }
   },
   "outputs": [],
   "source": [
    "np.where(minmax[maxs[0]-1]['min']!=1)"
   ]
  },
  {
   "cell_type": "code",
   "execution_count": null,
   "metadata": {
    "collapsed": false,
    "run_control": {
     "frozen": false,
     "read_only": false
    }
   },
   "outputs": [],
   "source": [
    "minmax[maxs[0]-1][65]"
   ]
  },
  {
   "cell_type": "code",
   "execution_count": null,
   "metadata": {
    "collapsed": false,
    "run_control": {
     "frozen": false,
     "read_only": false
    }
   },
   "outputs": [],
   "source": [
    "2290-925"
   ]
  },
  {
   "cell_type": "code",
   "execution_count": null,
   "metadata": {
    "collapsed": false,
    "run_control": {
     "frozen": false,
     "read_only": false
    }
   },
   "outputs": [],
   "source": [
    "0.375*4"
   ]
  },
  {
   "cell_type": "code",
   "execution_count": null,
   "metadata": {
    "collapsed": false,
    "run_control": {
     "frozen": false,
     "read_only": false
    }
   },
   "outputs": [],
   "source": [
    "np.where(minmax['clock']==2290)"
   ]
  },
  {
   "cell_type": "code",
   "execution_count": null,
   "metadata": {
    "collapsed": false,
    "run_control": {
     "frozen": false,
     "read_only": false
    }
   },
   "outputs": [],
   "source": [
    "minmax[120:140]"
   ]
  },
  {
   "cell_type": "code",
   "execution_count": null,
   "metadata": {
    "collapsed": false,
    "run_control": {
     "frozen": false,
     "read_only": false
    }
   },
   "outputs": [],
   "source": [
    "stream_dt=np.dtype([('data','>i4'),('last','i4')])\n",
    "#stream=np.fromfile('data/stream',stream_dt)"
   ]
  },
  {
   "cell_type": "markdown",
   "metadata": {},
   "source": [
    "### bytestream stuff"
   ]
  },
  {
   "cell_type": "code",
   "execution_count": null,
   "metadata": {
    "collapsed": false,
    "run_control": {
     "frozen": false,
     "read_only": false
    }
   },
   "outputs": [],
   "source": [
    "stream_dt=np.dtype([('data','i4'),('last','i4')])\n",
    "stream=Data.fromfile('bytestream',stream_dt,'teslib','measurement_subsystem_TB',tool='vivado')\n",
    "lasts=np.where(stream['last']<=0)[0]+1\n",
    "#data=np.copy(stream['data'])"
   ]
  },
  {
   "cell_type": "code",
   "execution_count": null,
   "metadata": {
    "collapsed": false,
    "run_control": {
     "frozen": false,
     "read_only": false
    }
   },
   "outputs": [],
   "source": [
    "stream"
   ]
  },
  {
   "cell_type": "code",
   "execution_count": null,
   "metadata": {
    "collapsed": true,
    "run_control": {
     "frozen": false,
     "read_only": false
    }
   },
   "outputs": [],
   "source": []
  },
  {
   "cell_type": "code",
   "execution_count": null,
   "metadata": {
    "collapsed": true,
    "run_control": {
     "frozen": false,
     "read_only": false
    }
   },
   "outputs": [],
   "source": [
    "stream=np.fromfile('data/bytestream',stream_dt)"
   ]
  },
  {
   "cell_type": "code",
   "execution_count": null,
   "metadata": {
    "collapsed": false,
    "run_control": {
     "frozen": false,
     "read_only": false
    }
   },
   "outputs": [],
   "source": [
    "bs=PacketStream(stream)"
   ]
  },
  {
   "cell_type": "code",
   "execution_count": null,
   "metadata": {
    "collapsed": false,
    "run_control": {
     "frozen": false,
     "read_only": false
    }
   },
   "outputs": [],
   "source": [
    "bs.packets"
   ]
  },
  {
   "cell_type": "code",
   "execution_count": null,
   "metadata": {
    "collapsed": false,
    "run_control": {
     "frozen": false,
     "read_only": false
    }
   },
   "outputs": [],
   "source": [
    "bs.packets[4]"
   ]
  },
  {
   "cell_type": "code",
   "execution_count": null,
   "metadata": {
    "collapsed": true,
    "run_control": {
     "frozen": false,
     "read_only": false
    }
   },
   "outputs": [],
   "source": [
    "eheader_dt=[('etype','<u2'),('length','u2'),()]"
   ]
  },
  {
   "cell_type": "code",
   "execution_count": null,
   "metadata": {
    "collapsed": false,
    "run_control": {
     "frozen": false,
     "read_only": false
    }
   },
   "outputs": [],
   "source": [
    "'{:X}'.format(bs.packets[1].bytes[23])\n"
   ]
  },
  {
   "cell_type": "code",
   "execution_count": null,
   "metadata": {
    "collapsed": false,
    "run_control": {
     "frozen": false,
     "read_only": false
    }
   },
   "outputs": [],
   "source": [
    "'{:X}'.format(bs.packets[0].bytes[28:30].view(np.uint16)[0])"
   ]
  },
  {
   "cell_type": "code",
   "execution_count": null,
   "metadata": {
    "collapsed": true,
    "run_control": {
     "frozen": false,
     "read_only": false
    }
   },
   "outputs": [],
   "source": [
    "pulse_peak_dt=np.dtype([('height','i2'),('rise','i2'),('minima','u2'),('time','i2')])\n",
    "pulse_dt=np.dtype([('size','i2'),('resv','i2'),('flags','i2'),('time','u2'),\n",
    "                  ('area','i4'),('length','i2'),('offset','i2'),('peaks',(pulse_peak_dt,2))])"
   ]
  },
  {
   "cell_type": "code",
   "execution_count": null,
   "metadata": {
    "collapsed": false,
    "run_control": {
     "frozen": false,
     "read_only": false
    }
   },
   "outputs": [],
   "source": [
    "pulses=bs.packets[3].payload.view(pulse_dt)"
   ]
  },
  {
   "cell_type": "code",
   "execution_count": null,
   "metadata": {
    "collapsed": false,
    "run_control": {
     "frozen": false,
     "read_only": false
    }
   },
   "outputs": [],
   "source": [
    "pulses['peaks']"
   ]
  },
  {
   "cell_type": "code",
   "execution_count": null,
   "metadata": {
    "collapsed": false,
    "run_control": {
     "frozen": false,
     "read_only": false
    }
   },
   "outputs": [],
   "source": [
    "pulses['offset']"
   ]
  },
  {
   "cell_type": "code",
   "execution_count": null,
   "metadata": {
    "collapsed": false,
    "run_control": {
     "frozen": false,
     "read_only": false
    }
   },
   "outputs": [],
   "source": [
    "pulses['length']"
   ]
  },
  {
   "cell_type": "code",
   "execution_count": null,
   "metadata": {
    "collapsed": false,
    "run_control": {
     "frozen": false,
     "read_only": false
    }
   },
   "outputs": [],
   "source": [
    "class eflags:\n",
    "    def __init__(self,uint16):\n",
    "        self.new_window=np.bitwise_and(uint16,0x00000001)!=0\n",
    "        self.tick=np.bitwise_and(uint16,0x00000002)!=0\n",
    "        self.type=np.right_shift(np.bitwise_and(uint16,0x0000000c),2)\n",
    "        \n",
    "    def __repr__(self):\n",
    "        return 'New window:{:}\\n'.format(self.new_window) + \\\n",
    "               'Tick:{:}\\n'.format(self.tick) + \\\n",
    "               'Type:{:}\\n'.format(self.type) "
   ]
  },
  {
   "cell_type": "code",
   "execution_count": null,
   "metadata": {
    "collapsed": false,
    "run_control": {
     "frozen": false,
     "read_only": false
    }
   },
   "outputs": [],
   "source": [
    "f=eflags(pulses[0]['flags'])\n",
    "f"
   ]
  },
  {
   "cell_type": "code",
   "execution_count": null,
   "metadata": {
    "collapsed": false,
    "run_control": {
     "frozen": false,
     "read_only": false
    }
   },
   "outputs": [],
   "source": [
    "'{:X}'.format(bs.packets[3].bytes[13:14].view(np.uint16))"
   ]
  },
  {
   "cell_type": "code",
   "execution_count": null,
   "metadata": {
    "collapsed": true,
    "run_control": {
     "frozen": false,
     "read_only": false
    }
   },
   "outputs": [],
   "source": []
  },
  {
   "cell_type": "code",
   "execution_count": null,
   "metadata": {
    "collapsed": false,
    "run_control": {
     "frozen": false,
     "read_only": false
    }
   },
   "outputs": [],
   "source": [
    "'{:X}'.format(bs.packets[3].bytes[14:16].view(np.uint16)[0])"
   ]
  },
  {
   "cell_type": "code",
   "execution_count": null,
   "metadata": {
    "collapsed": false,
    "run_control": {
     "frozen": false,
     "read_only": false
    }
   },
   "outputs": [],
   "source": [
    "bs.packets[3].bytes[14:16].view(np.uint16)[0]"
   ]
  },
  {
   "cell_type": "code",
   "execution_count": null,
   "metadata": {
    "collapsed": false,
    "run_control": {
     "frozen": false,
     "read_only": false
    }
   },
   "outputs": [],
   "source": [
    "bs=np.uint8(stream['data'][:48])"
   ]
  },
  {
   "cell_type": "code",
   "execution_count": null,
   "metadata": {
    "collapsed": false,
    "run_control": {
     "frozen": false,
     "read_only": false
    }
   },
   "outputs": [],
   "source": [
    "bs"
   ]
  },
  {
   "cell_type": "code",
   "execution_count": null,
   "metadata": {
    "collapsed": false,
    "run_control": {
     "frozen": false,
     "read_only": false
    }
   },
   "outputs": [],
   "source": [
    "events=stream['data'].view(event_dt)"
   ]
  },
  {
   "cell_type": "code",
   "execution_count": null,
   "metadata": {
    "collapsed": false,
    "run_control": {
     "frozen": false,
     "read_only": false
    }
   },
   "outputs": [],
   "source": [
    "'{:X}'.format(events['flags'][0])"
   ]
  },
  {
   "cell_type": "code",
   "execution_count": null,
   "metadata": {
    "collapsed": false,
    "run_control": {
     "frozen": false,
     "read_only": false
    }
   },
   "outputs": [],
   "source": [
    "events['rise']"
   ]
  },
  {
   "cell_type": "code",
   "execution_count": null,
   "metadata": {
    "collapsed": false,
    "run_control": {
     "frozen": false,
     "read_only": false
    }
   },
   "outputs": [],
   "source": [
    "events"
   ]
  },
  {
   "cell_type": "code",
   "execution_count": null,
   "metadata": {
    "collapsed": false,
    "run_control": {
     "frozen": false,
     "read_only": false
    }
   },
   "outputs": [],
   "source": [
    "'{:04X}'.format(events['flags'][1])"
   ]
  },
  {
   "cell_type": "code",
   "execution_count": null,
   "metadata": {
    "collapsed": true,
    "run_control": {
     "frozen": false,
     "read_only": false
    }
   },
   "outputs": [],
   "source": [
    "pulse_peak_dt=np.dtype([('time','>i2'),('minima','>i2'),('rise','>u2'),('height','>i2')])\n",
    "pulse_dt=np.dtype([('time','>i2'),('flags','>i2'),('resv','>i2'),('size','>u2'),\n",
    "                  ('offset','>i2'),('length','>i2'),('area','>i4'),('peaks',(pulse_peak_dt,1))])\n",
    "data=np.copy(stream['data'])"
   ]
  },
  {
   "cell_type": "code",
   "execution_count": null,
   "metadata": {
    "collapsed": false,
    "run_control": {
     "frozen": false,
     "read_only": false
    }
   },
   "outputs": [],
   "source": [
    "pulses=data.view(pulse_dt)"
   ]
  },
  {
   "cell_type": "code",
   "execution_count": null,
   "metadata": {
    "collapsed": false,
    "run_control": {
     "frozen": false,
     "read_only": false
    }
   },
   "outputs": [],
   "source": [
    "pulses['peaks']['height']-pulses['peaks']['minima']"
   ]
  },
  {
   "cell_type": "code",
   "execution_count": null,
   "metadata": {
    "collapsed": false,
    "run_control": {
     "frozen": false,
     "read_only": false
    }
   },
   "outputs": [],
   "source": [
    "pulses['peaks']['minima']"
   ]
  },
  {
   "cell_type": "code",
   "execution_count": null,
   "metadata": {
    "collapsed": false,
    "run_control": {
     "frozen": false,
     "read_only": false
    }
   },
   "outputs": [],
   "source": [
    "peak_count=np.right_shift(np.bitwise_and(pulses['flags'],0xF000),12)\n",
    "peak_overflow=np.bitwise_and(pulses['flags'],0x0800)!=0\n",
    "channel=np.right_shift(np.bitwise_and(pulses['flags'],0x0700),8)\n",
    "timing_type=np.right_shift(np.bitwise_and(pulses['flags'],0x00C0),6)\n",
    "height_type=np.right_shift(np.bitwise_and(pulses['flags'],0x0030),4)\n",
    "event_type=np.right_shift(np.bitwise_and(pulses['flags'],0x000E),1)\n",
    "new_window=np.bitwise_and(pulses['flags'],0x0001)!=0"
   ]
  },
  {
   "cell_type": "code",
   "execution_count": null,
   "metadata": {
    "collapsed": false,
    "run_control": {
     "frozen": false,
     "read_only": false
    }
   },
   "outputs": [],
   "source": [
    "peak_overflow"
   ]
  },
  {
   "cell_type": "code",
   "execution_count": null,
   "metadata": {
    "collapsed": true,
    "run_control": {
     "frozen": false,
     "read_only": false
    }
   },
   "outputs": [],
   "source": [
    "test_dt=np.dtype(\n",
    "    [('time','i2'),('flags','i2'),('rise','u2'),('minima','i2'),('low','u8'),('high','u8')]\n",
    ")\n",
    "test=data.view(test_dt)"
   ]
  },
  {
   "cell_type": "code",
   "execution_count": null,
   "metadata": {
    "collapsed": false,
    "run_control": {
     "frozen": false,
     "read_only": false
    }
   },
   "outputs": [],
   "source": [
    "test"
   ]
  },
  {
   "cell_type": "code",
   "execution_count": null,
   "metadata": {
    "collapsed": false,
    "run_control": {
     "frozen": false,
     "read_only": false
    }
   },
   "outputs": [],
   "source": [
    "test['minima']"
   ]
  },
  {
   "cell_type": "code",
   "execution_count": null,
   "metadata": {
    "collapsed": false,
    "run_control": {
     "frozen": false,
     "read_only": false
    }
   },
   "outputs": [],
   "source": [
    "low1=np.int32(np.right_shift(np.bitwise_and(test['low'],0x03FFFF000000000),36))\n",
    "s=(np.bitwise_and(low1,0x00020000)!=0)*0xFFFC0000\n",
    "low2=np.int32(np.right_shift(np.bitwise_and(test['low'],0x000000FFFFC0000),18))\n",
    "low_threshold=np.int32(np.bitwise_and(test['low'],0x00000000003FFFF))\n",
    "high1=np.int32(np.right_shift(np.bitwise_and(test['high'],0x03FFFF000000000),36))\n",
    "high2=np.int32(np.right_shift(np.bitwise_and(test['high'],0x000000FFFFC0000),18))\n",
    "high_threshold=np.int32(np.bitwise_and(test['high'],0x00000000003FFFF))"
   ]
  },
  {
   "cell_type": "code",
   "execution_count": null,
   "metadata": {
    "collapsed": false,
    "run_control": {
     "frozen": false,
     "read_only": false
    }
   },
   "outputs": [],
   "source": [
    "np.int32(np.bitwise_or(low1,s))/8.0"
   ]
  },
  {
   "cell_type": "code",
   "execution_count": null,
   "metadata": {
    "collapsed": false,
    "run_control": {
     "frozen": false,
     "read_only": false
    }
   },
   "outputs": [],
   "source": [
    "'{:04X}'.format(low1[0])"
   ]
  },
  {
   "cell_type": "code",
   "execution_count": null,
   "metadata": {
    "collapsed": false,
    "run_control": {
     "frozen": false,
     "read_only": false
    }
   },
   "outputs": [],
   "source": [
    "high1/8.0"
   ]
  },
  {
   "cell_type": "code",
   "execution_count": null,
   "metadata": {
    "collapsed": false,
    "run_control": {
     "frozen": false,
     "read_only": false
    }
   },
   "outputs": [],
   "source": [
    "high2/8.0"
   ]
  },
  {
   "cell_type": "code",
   "execution_count": null,
   "metadata": {
    "collapsed": false,
    "run_control": {
     "frozen": false,
     "read_only": false
    }
   },
   "outputs": [],
   "source": [
    "'{:04X}'.format(high_threshold[0])"
   ]
  },
  {
   "cell_type": "code",
   "execution_count": null,
   "metadata": {
    "collapsed": false,
    "run_control": {
     "frozen": false,
     "read_only": false
    }
   },
   "outputs": [],
   "source": [
    "from enum import Enum"
   ]
  },
  {
   "cell_type": "code",
   "execution_count": null,
   "metadata": {
    "collapsed": false,
    "run_control": {
     "frozen": false,
     "read_only": false
    }
   },
   "outputs": [],
   "source": [
    "class VhdlEnum(int, Enum):\n",
    "\n",
    "    def __str__(self):\n",
    "        return self.name.replace(\"-\", \" \")\n",
    "    \n",
    "    def select(self):\n",
    "        return pow(2, self.value)\n",
    "    "
   ]
  },
  {
   "cell_type": "code",
   "execution_count": null,
   "metadata": {
    "collapsed": false,
    "run_control": {
     "frozen": false,
     "read_only": false
    }
   },
   "outputs": [],
   "source": [
    "class Test(VhdlEnum):\n",
    "    a=0\n",
    "    b=1"
   ]
  },
  {
   "cell_type": "code",
   "execution_count": null,
   "metadata": {
    "collapsed": false,
    "run_control": {
     "frozen": false,
     "read_only": false
    }
   },
   "outputs": [],
   "source": [
    "Test(0)"
   ]
  },
  {
   "cell_type": "code",
   "execution_count": null,
   "metadata": {
    "collapsed": true,
    "run_control": {
     "frozen": false,
     "read_only": false
    }
   },
   "outputs": [],
   "source": []
  }
 ],
 "metadata": {
  "anaconda-cloud": {},
  "kernelspec": {
   "display_name": "Python [conda root]",
   "language": "python",
   "name": "conda-root-py"
  },
  "language_info": {
   "codemirror_mode": {
    "name": "ipython",
    "version": 3
   },
   "file_extension": ".py",
   "mimetype": "text/x-python",
   "name": "python",
   "nbconvert_exporter": "python",
   "pygments_lexer": "ipython3",
   "version": "3.5.3"
  }
 },
 "nbformat": 4,
 "nbformat_minor": 1
}
