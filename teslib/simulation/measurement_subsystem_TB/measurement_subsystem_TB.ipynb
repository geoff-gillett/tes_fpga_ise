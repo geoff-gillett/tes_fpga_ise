{
 "cells": [
  {
   "cell_type": "markdown",
   "metadata": {},
   "source": [
    "timestamp 0 => clk 20\n",
    "\n",
    "traces start at clk 1"
   ]
  },
  {
   "cell_type": "code",
   "execution_count": 1,
   "metadata": {
    "collapsed": false,
    "run_control": {
     "frozen": false,
     "read_only": false
    }
   },
   "outputs": [],
   "source": [
    "from tes.data import Data,PacketStream,Packet,Payload,EventFlags,Event\n",
    "from tes.hdf5 import _PacketData, _import\n",
    "import numpy as np\n",
    "import matplotlib.pyplot as plt\n",
    "from subprocess import Popen\n",
    "\n",
    "import logging\n",
    "import sys\n",
    "logger = logging.getLogger('tes')\n",
    "logger.setLevel(logging.DEBUG)\n",
    "handler = logging.StreamHandler(sys.stderr)\n",
    "formatter = logging.Formatter('%(name)s:%(levelname)s %(message)s')\n",
    "handler.setFormatter(formatter)\n",
    "logger.handlers = [handler]\n",
    "\n",
    "trace_dt=np.dtype([('raw','i4'),('filtered','i4'),('slope','i4'),('filteredL','i4')])\n",
    "stream_dt=np.dtype([('data','i4'),('last','i4')])\n",
    "minmax_dt=np.dtype(\n",
    "    [\n",
    "        ('filtered','i4'),('timing_threshold','i4'),\n",
    "        ('height_threshold','i4'),('slope_extrema','i4'),('slope_area','i4'),('clk','i4')\n",
    "    ]\n",
    ")\n",
    "cfd_dt=np.dtype('i4')\n",
    "filteredxing_dt=np.dtype([('extrema','i4'),('area','i4'),('clk','i4')])"
   ]
  },
  {
   "cell_type": "code",
   "execution_count": null,
   "metadata": {
    "collapsed": false,
    "run_control": {
     "frozen": false,
     "read_only": false
    },
    "scrolled": false
   },
   "outputs": [],
   "source": [
    "%matplotlib notebook\n",
    "traces=Data.fromfile('traces',trace_dt,'teslib','measurement_subsystem_TB',tool='vivado')\n",
    "plt.plot(traces['slope'][1100:],'r',linewidth=1)\n",
    "plt.plot(traces['raw'][1100:],linewidth=0.5)\n",
    "plt.plot(traces['filtered'][1100:],'k',linewidth=2)"
   ]
  },
  {
   "cell_type": "code",
   "execution_count": 11,
   "metadata": {
    "collapsed": false
   },
   "outputs": [
    {
     "name": "stderr",
     "output_type": "stream",
     "text": [
      "tes.hdf5:DEBUG PacketData: from ndarray\n",
      "tes.hdf5:INFO import:pass 1: calculating sizes for hdf5 pre-allocation\n",
      "tes.hdf5:INFO import:pass 1:found 35752 bytes in 345 frames 0 sequence errors.\n",
      "tes.hdf5:DEBUG tick frames: 240 data bytes in 10 frames\n",
      "tes.hdf5:DEBUG event frames: 24480 data bytes in 255 frames\n",
      "tes.hdf5:DEBUG MCA frames: 8272 data bytes in 80 frames\n",
      "tes.hdf5:DEBUG unidentified frames: 0 bytes in 0 frames\n",
      "tes.hdf5:DEBUG MCA distributions:2  traces:23\n",
      "tes.hdf5:INFO import:pass 2:importing data\n"
     ]
    }
   ],
   "source": [
    "import h5py\n",
    "from tes.hdf5 import Trace, Hdf5, frame_header_dt\n",
    "stream=Data.fromfile('bytestream',stream_dt,'teslib','measurement_subsystem_TB',tool='vivado')\n",
    "# packets=_PacketData(stream)\n",
    "# del stream\n",
    "# _import(packets)\n",
    "# h=h5py.File('TES.hdf5','r')\n",
    "h=Hdf5('TES.hdf5',stream)\n",
    "del stream"
   ]
  },
  {
   "cell_type": "code",
   "execution_count": 9,
   "metadata": {
    "collapsed": false
   },
   "outputs": [
    {
     "name": "stdout",
     "output_type": "stream",
     "text": [
      "2\n"
     ]
    },
    {
     "data": {
      "application/javascript": [
       "/* Put everything inside the global mpl namespace */\n",
       "window.mpl = {};\n",
       "\n",
       "\n",
       "mpl.get_websocket_type = function() {\n",
       "    if (typeof(WebSocket) !== 'undefined') {\n",
       "        return WebSocket;\n",
       "    } else if (typeof(MozWebSocket) !== 'undefined') {\n",
       "        return MozWebSocket;\n",
       "    } else {\n",
       "        alert('Your browser does not have WebSocket support.' +\n",
       "              'Please try Chrome, Safari or Firefox ≥ 6. ' +\n",
       "              'Firefox 4 and 5 are also supported but you ' +\n",
       "              'have to enable WebSockets in about:config.');\n",
       "    };\n",
       "}\n",
       "\n",
       "mpl.figure = function(figure_id, websocket, ondownload, parent_element) {\n",
       "    this.id = figure_id;\n",
       "\n",
       "    this.ws = websocket;\n",
       "\n",
       "    this.supports_binary = (this.ws.binaryType != undefined);\n",
       "\n",
       "    if (!this.supports_binary) {\n",
       "        var warnings = document.getElementById(\"mpl-warnings\");\n",
       "        if (warnings) {\n",
       "            warnings.style.display = 'block';\n",
       "            warnings.textContent = (\n",
       "                \"This browser does not support binary websocket messages. \" +\n",
       "                    \"Performance may be slow.\");\n",
       "        }\n",
       "    }\n",
       "\n",
       "    this.imageObj = new Image();\n",
       "\n",
       "    this.context = undefined;\n",
       "    this.message = undefined;\n",
       "    this.canvas = undefined;\n",
       "    this.rubberband_canvas = undefined;\n",
       "    this.rubberband_context = undefined;\n",
       "    this.format_dropdown = undefined;\n",
       "\n",
       "    this.image_mode = 'full';\n",
       "\n",
       "    this.root = $('<div/>');\n",
       "    this._root_extra_style(this.root)\n",
       "    this.root.attr('style', 'display: inline-block');\n",
       "\n",
       "    $(parent_element).append(this.root);\n",
       "\n",
       "    this._init_header(this);\n",
       "    this._init_canvas(this);\n",
       "    this._init_toolbar(this);\n",
       "\n",
       "    var fig = this;\n",
       "\n",
       "    this.waiting = false;\n",
       "\n",
       "    this.ws.onopen =  function () {\n",
       "            fig.send_message(\"supports_binary\", {value: fig.supports_binary});\n",
       "            fig.send_message(\"send_image_mode\", {});\n",
       "            if (mpl.ratio != 1) {\n",
       "                fig.send_message(\"set_dpi_ratio\", {'dpi_ratio': mpl.ratio});\n",
       "            }\n",
       "            fig.send_message(\"refresh\", {});\n",
       "        }\n",
       "\n",
       "    this.imageObj.onload = function() {\n",
       "            if (fig.image_mode == 'full') {\n",
       "                // Full images could contain transparency (where diff images\n",
       "                // almost always do), so we need to clear the canvas so that\n",
       "                // there is no ghosting.\n",
       "                fig.context.clearRect(0, 0, fig.canvas.width, fig.canvas.height);\n",
       "            }\n",
       "            fig.context.drawImage(fig.imageObj, 0, 0);\n",
       "        };\n",
       "\n",
       "    this.imageObj.onunload = function() {\n",
       "        this.ws.close();\n",
       "    }\n",
       "\n",
       "    this.ws.onmessage = this._make_on_message_function(this);\n",
       "\n",
       "    this.ondownload = ondownload;\n",
       "}\n",
       "\n",
       "mpl.figure.prototype._init_header = function() {\n",
       "    var titlebar = $(\n",
       "        '<div class=\"ui-dialog-titlebar ui-widget-header ui-corner-all ' +\n",
       "        'ui-helper-clearfix\"/>');\n",
       "    var titletext = $(\n",
       "        '<div class=\"ui-dialog-title\" style=\"width: 100%; ' +\n",
       "        'text-align: center; padding: 3px;\"/>');\n",
       "    titlebar.append(titletext)\n",
       "    this.root.append(titlebar);\n",
       "    this.header = titletext[0];\n",
       "}\n",
       "\n",
       "\n",
       "\n",
       "mpl.figure.prototype._canvas_extra_style = function(canvas_div) {\n",
       "\n",
       "}\n",
       "\n",
       "\n",
       "mpl.figure.prototype._root_extra_style = function(canvas_div) {\n",
       "\n",
       "}\n",
       "\n",
       "mpl.figure.prototype._init_canvas = function() {\n",
       "    var fig = this;\n",
       "\n",
       "    var canvas_div = $('<div/>');\n",
       "\n",
       "    canvas_div.attr('style', 'position: relative; clear: both; outline: 0');\n",
       "\n",
       "    function canvas_keyboard_event(event) {\n",
       "        return fig.key_event(event, event['data']);\n",
       "    }\n",
       "\n",
       "    canvas_div.keydown('key_press', canvas_keyboard_event);\n",
       "    canvas_div.keyup('key_release', canvas_keyboard_event);\n",
       "    this.canvas_div = canvas_div\n",
       "    this._canvas_extra_style(canvas_div)\n",
       "    this.root.append(canvas_div);\n",
       "\n",
       "    var canvas = $('<canvas/>');\n",
       "    canvas.addClass('mpl-canvas');\n",
       "    canvas.attr('style', \"left: 0; top: 0; z-index: 0; outline: 0\")\n",
       "\n",
       "    this.canvas = canvas[0];\n",
       "    this.context = canvas[0].getContext(\"2d\");\n",
       "\n",
       "    var backingStore = this.context.backingStorePixelRatio ||\n",
       "\tthis.context.webkitBackingStorePixelRatio ||\n",
       "\tthis.context.mozBackingStorePixelRatio ||\n",
       "\tthis.context.msBackingStorePixelRatio ||\n",
       "\tthis.context.oBackingStorePixelRatio ||\n",
       "\tthis.context.backingStorePixelRatio || 1;\n",
       "\n",
       "    mpl.ratio = (window.devicePixelRatio || 1) / backingStore;\n",
       "\n",
       "    var rubberband = $('<canvas/>');\n",
       "    rubberband.attr('style', \"position: absolute; left: 0; top: 0; z-index: 1;\")\n",
       "\n",
       "    var pass_mouse_events = true;\n",
       "\n",
       "    canvas_div.resizable({\n",
       "        start: function(event, ui) {\n",
       "            pass_mouse_events = false;\n",
       "        },\n",
       "        resize: function(event, ui) {\n",
       "            fig.request_resize(ui.size.width, ui.size.height);\n",
       "        },\n",
       "        stop: function(event, ui) {\n",
       "            pass_mouse_events = true;\n",
       "            fig.request_resize(ui.size.width, ui.size.height);\n",
       "        },\n",
       "    });\n",
       "\n",
       "    function mouse_event_fn(event) {\n",
       "        if (pass_mouse_events)\n",
       "            return fig.mouse_event(event, event['data']);\n",
       "    }\n",
       "\n",
       "    rubberband.mousedown('button_press', mouse_event_fn);\n",
       "    rubberband.mouseup('button_release', mouse_event_fn);\n",
       "    // Throttle sequential mouse events to 1 every 20ms.\n",
       "    rubberband.mousemove('motion_notify', mouse_event_fn);\n",
       "\n",
       "    rubberband.mouseenter('figure_enter', mouse_event_fn);\n",
       "    rubberband.mouseleave('figure_leave', mouse_event_fn);\n",
       "\n",
       "    canvas_div.on(\"wheel\", function (event) {\n",
       "        event = event.originalEvent;\n",
       "        event['data'] = 'scroll'\n",
       "        if (event.deltaY < 0) {\n",
       "            event.step = 1;\n",
       "        } else {\n",
       "            event.step = -1;\n",
       "        }\n",
       "        mouse_event_fn(event);\n",
       "    });\n",
       "\n",
       "    canvas_div.append(canvas);\n",
       "    canvas_div.append(rubberband);\n",
       "\n",
       "    this.rubberband = rubberband;\n",
       "    this.rubberband_canvas = rubberband[0];\n",
       "    this.rubberband_context = rubberband[0].getContext(\"2d\");\n",
       "    this.rubberband_context.strokeStyle = \"#000000\";\n",
       "\n",
       "    this._resize_canvas = function(width, height) {\n",
       "        // Keep the size of the canvas, canvas container, and rubber band\n",
       "        // canvas in synch.\n",
       "        canvas_div.css('width', width)\n",
       "        canvas_div.css('height', height)\n",
       "\n",
       "        canvas.attr('width', width * mpl.ratio);\n",
       "        canvas.attr('height', height * mpl.ratio);\n",
       "        canvas.attr('style', 'width: ' + width + 'px; height: ' + height + 'px;');\n",
       "\n",
       "        rubberband.attr('width', width);\n",
       "        rubberband.attr('height', height);\n",
       "    }\n",
       "\n",
       "    // Set the figure to an initial 600x600px, this will subsequently be updated\n",
       "    // upon first draw.\n",
       "    this._resize_canvas(600, 600);\n",
       "\n",
       "    // Disable right mouse context menu.\n",
       "    $(this.rubberband_canvas).bind(\"contextmenu\",function(e){\n",
       "        return false;\n",
       "    });\n",
       "\n",
       "    function set_focus () {\n",
       "        canvas.focus();\n",
       "        canvas_div.focus();\n",
       "    }\n",
       "\n",
       "    window.setTimeout(set_focus, 100);\n",
       "}\n",
       "\n",
       "mpl.figure.prototype._init_toolbar = function() {\n",
       "    var fig = this;\n",
       "\n",
       "    var nav_element = $('<div/>')\n",
       "    nav_element.attr('style', 'width: 100%');\n",
       "    this.root.append(nav_element);\n",
       "\n",
       "    // Define a callback function for later on.\n",
       "    function toolbar_event(event) {\n",
       "        return fig.toolbar_button_onclick(event['data']);\n",
       "    }\n",
       "    function toolbar_mouse_event(event) {\n",
       "        return fig.toolbar_button_onmouseover(event['data']);\n",
       "    }\n",
       "\n",
       "    for(var toolbar_ind in mpl.toolbar_items) {\n",
       "        var name = mpl.toolbar_items[toolbar_ind][0];\n",
       "        var tooltip = mpl.toolbar_items[toolbar_ind][1];\n",
       "        var image = mpl.toolbar_items[toolbar_ind][2];\n",
       "        var method_name = mpl.toolbar_items[toolbar_ind][3];\n",
       "\n",
       "        if (!name) {\n",
       "            // put a spacer in here.\n",
       "            continue;\n",
       "        }\n",
       "        var button = $('<button/>');\n",
       "        button.addClass('ui-button ui-widget ui-state-default ui-corner-all ' +\n",
       "                        'ui-button-icon-only');\n",
       "        button.attr('role', 'button');\n",
       "        button.attr('aria-disabled', 'false');\n",
       "        button.click(method_name, toolbar_event);\n",
       "        button.mouseover(tooltip, toolbar_mouse_event);\n",
       "\n",
       "        var icon_img = $('<span/>');\n",
       "        icon_img.addClass('ui-button-icon-primary ui-icon');\n",
       "        icon_img.addClass(image);\n",
       "        icon_img.addClass('ui-corner-all');\n",
       "\n",
       "        var tooltip_span = $('<span/>');\n",
       "        tooltip_span.addClass('ui-button-text');\n",
       "        tooltip_span.html(tooltip);\n",
       "\n",
       "        button.append(icon_img);\n",
       "        button.append(tooltip_span);\n",
       "\n",
       "        nav_element.append(button);\n",
       "    }\n",
       "\n",
       "    var fmt_picker_span = $('<span/>');\n",
       "\n",
       "    var fmt_picker = $('<select/>');\n",
       "    fmt_picker.addClass('mpl-toolbar-option ui-widget ui-widget-content');\n",
       "    fmt_picker_span.append(fmt_picker);\n",
       "    nav_element.append(fmt_picker_span);\n",
       "    this.format_dropdown = fmt_picker[0];\n",
       "\n",
       "    for (var ind in mpl.extensions) {\n",
       "        var fmt = mpl.extensions[ind];\n",
       "        var option = $(\n",
       "            '<option/>', {selected: fmt === mpl.default_extension}).html(fmt);\n",
       "        fmt_picker.append(option)\n",
       "    }\n",
       "\n",
       "    // Add hover states to the ui-buttons\n",
       "    $( \".ui-button\" ).hover(\n",
       "        function() { $(this).addClass(\"ui-state-hover\");},\n",
       "        function() { $(this).removeClass(\"ui-state-hover\");}\n",
       "    );\n",
       "\n",
       "    var status_bar = $('<span class=\"mpl-message\"/>');\n",
       "    nav_element.append(status_bar);\n",
       "    this.message = status_bar[0];\n",
       "}\n",
       "\n",
       "mpl.figure.prototype.request_resize = function(x_pixels, y_pixels) {\n",
       "    // Request matplotlib to resize the figure. Matplotlib will then trigger a resize in the client,\n",
       "    // which will in turn request a refresh of the image.\n",
       "    this.send_message('resize', {'width': x_pixels, 'height': y_pixels});\n",
       "}\n",
       "\n",
       "mpl.figure.prototype.send_message = function(type, properties) {\n",
       "    properties['type'] = type;\n",
       "    properties['figure_id'] = this.id;\n",
       "    this.ws.send(JSON.stringify(properties));\n",
       "}\n",
       "\n",
       "mpl.figure.prototype.send_draw_message = function() {\n",
       "    if (!this.waiting) {\n",
       "        this.waiting = true;\n",
       "        this.ws.send(JSON.stringify({type: \"draw\", figure_id: this.id}));\n",
       "    }\n",
       "}\n",
       "\n",
       "\n",
       "mpl.figure.prototype.handle_save = function(fig, msg) {\n",
       "    var format_dropdown = fig.format_dropdown;\n",
       "    var format = format_dropdown.options[format_dropdown.selectedIndex].value;\n",
       "    fig.ondownload(fig, format);\n",
       "}\n",
       "\n",
       "\n",
       "mpl.figure.prototype.handle_resize = function(fig, msg) {\n",
       "    var size = msg['size'];\n",
       "    if (size[0] != fig.canvas.width || size[1] != fig.canvas.height) {\n",
       "        fig._resize_canvas(size[0], size[1]);\n",
       "        fig.send_message(\"refresh\", {});\n",
       "    };\n",
       "}\n",
       "\n",
       "mpl.figure.prototype.handle_rubberband = function(fig, msg) {\n",
       "    var x0 = msg['x0'] / mpl.ratio;\n",
       "    var y0 = (fig.canvas.height - msg['y0']) / mpl.ratio;\n",
       "    var x1 = msg['x1'] / mpl.ratio;\n",
       "    var y1 = (fig.canvas.height - msg['y1']) / mpl.ratio;\n",
       "    x0 = Math.floor(x0) + 0.5;\n",
       "    y0 = Math.floor(y0) + 0.5;\n",
       "    x1 = Math.floor(x1) + 0.5;\n",
       "    y1 = Math.floor(y1) + 0.5;\n",
       "    var min_x = Math.min(x0, x1);\n",
       "    var min_y = Math.min(y0, y1);\n",
       "    var width = Math.abs(x1 - x0);\n",
       "    var height = Math.abs(y1 - y0);\n",
       "\n",
       "    fig.rubberband_context.clearRect(\n",
       "        0, 0, fig.canvas.width, fig.canvas.height);\n",
       "\n",
       "    fig.rubberband_context.strokeRect(min_x, min_y, width, height);\n",
       "}\n",
       "\n",
       "mpl.figure.prototype.handle_figure_label = function(fig, msg) {\n",
       "    // Updates the figure title.\n",
       "    fig.header.textContent = msg['label'];\n",
       "}\n",
       "\n",
       "mpl.figure.prototype.handle_cursor = function(fig, msg) {\n",
       "    var cursor = msg['cursor'];\n",
       "    switch(cursor)\n",
       "    {\n",
       "    case 0:\n",
       "        cursor = 'pointer';\n",
       "        break;\n",
       "    case 1:\n",
       "        cursor = 'default';\n",
       "        break;\n",
       "    case 2:\n",
       "        cursor = 'crosshair';\n",
       "        break;\n",
       "    case 3:\n",
       "        cursor = 'move';\n",
       "        break;\n",
       "    }\n",
       "    fig.rubberband_canvas.style.cursor = cursor;\n",
       "}\n",
       "\n",
       "mpl.figure.prototype.handle_message = function(fig, msg) {\n",
       "    fig.message.textContent = msg['message'];\n",
       "}\n",
       "\n",
       "mpl.figure.prototype.handle_draw = function(fig, msg) {\n",
       "    // Request the server to send over a new figure.\n",
       "    fig.send_draw_message();\n",
       "}\n",
       "\n",
       "mpl.figure.prototype.handle_image_mode = function(fig, msg) {\n",
       "    fig.image_mode = msg['mode'];\n",
       "}\n",
       "\n",
       "mpl.figure.prototype.updated_canvas_event = function() {\n",
       "    // Called whenever the canvas gets updated.\n",
       "    this.send_message(\"ack\", {});\n",
       "}\n",
       "\n",
       "// A function to construct a web socket function for onmessage handling.\n",
       "// Called in the figure constructor.\n",
       "mpl.figure.prototype._make_on_message_function = function(fig) {\n",
       "    return function socket_on_message(evt) {\n",
       "        if (evt.data instanceof Blob) {\n",
       "            /* FIXME: We get \"Resource interpreted as Image but\n",
       "             * transferred with MIME type text/plain:\" errors on\n",
       "             * Chrome.  But how to set the MIME type?  It doesn't seem\n",
       "             * to be part of the websocket stream */\n",
       "            evt.data.type = \"image/png\";\n",
       "\n",
       "            /* Free the memory for the previous frames */\n",
       "            if (fig.imageObj.src) {\n",
       "                (window.URL || window.webkitURL).revokeObjectURL(\n",
       "                    fig.imageObj.src);\n",
       "            }\n",
       "\n",
       "            fig.imageObj.src = (window.URL || window.webkitURL).createObjectURL(\n",
       "                evt.data);\n",
       "            fig.updated_canvas_event();\n",
       "            fig.waiting = false;\n",
       "            return;\n",
       "        }\n",
       "        else if (typeof evt.data === 'string' && evt.data.slice(0, 21) == \"data:image/png;base64\") {\n",
       "            fig.imageObj.src = evt.data;\n",
       "            fig.updated_canvas_event();\n",
       "            fig.waiting = false;\n",
       "            return;\n",
       "        }\n",
       "\n",
       "        var msg = JSON.parse(evt.data);\n",
       "        var msg_type = msg['type'];\n",
       "\n",
       "        // Call the  \"handle_{type}\" callback, which takes\n",
       "        // the figure and JSON message as its only arguments.\n",
       "        try {\n",
       "            var callback = fig[\"handle_\" + msg_type];\n",
       "        } catch (e) {\n",
       "            console.log(\"No handler for the '\" + msg_type + \"' message type: \", msg);\n",
       "            return;\n",
       "        }\n",
       "\n",
       "        if (callback) {\n",
       "            try {\n",
       "                // console.log(\"Handling '\" + msg_type + \"' message: \", msg);\n",
       "                callback(fig, msg);\n",
       "            } catch (e) {\n",
       "                console.log(\"Exception inside the 'handler_\" + msg_type + \"' callback:\", e, e.stack, msg);\n",
       "            }\n",
       "        }\n",
       "    };\n",
       "}\n",
       "\n",
       "// from http://stackoverflow.com/questions/1114465/getting-mouse-location-in-canvas\n",
       "mpl.findpos = function(e) {\n",
       "    //this section is from http://www.quirksmode.org/js/events_properties.html\n",
       "    var targ;\n",
       "    if (!e)\n",
       "        e = window.event;\n",
       "    if (e.target)\n",
       "        targ = e.target;\n",
       "    else if (e.srcElement)\n",
       "        targ = e.srcElement;\n",
       "    if (targ.nodeType == 3) // defeat Safari bug\n",
       "        targ = targ.parentNode;\n",
       "\n",
       "    // jQuery normalizes the pageX and pageY\n",
       "    // pageX,Y are the mouse positions relative to the document\n",
       "    // offset() returns the position of the element relative to the document\n",
       "    var x = e.pageX - $(targ).offset().left;\n",
       "    var y = e.pageY - $(targ).offset().top;\n",
       "\n",
       "    return {\"x\": x, \"y\": y};\n",
       "};\n",
       "\n",
       "/*\n",
       " * return a copy of an object with only non-object keys\n",
       " * we need this to avoid circular references\n",
       " * http://stackoverflow.com/a/24161582/3208463\n",
       " */\n",
       "function simpleKeys (original) {\n",
       "  return Object.keys(original).reduce(function (obj, key) {\n",
       "    if (typeof original[key] !== 'object')\n",
       "        obj[key] = original[key]\n",
       "    return obj;\n",
       "  }, {});\n",
       "}\n",
       "\n",
       "mpl.figure.prototype.mouse_event = function(event, name) {\n",
       "    var canvas_pos = mpl.findpos(event)\n",
       "\n",
       "    if (name === 'button_press')\n",
       "    {\n",
       "        this.canvas.focus();\n",
       "        this.canvas_div.focus();\n",
       "    }\n",
       "\n",
       "    var x = canvas_pos.x * mpl.ratio;\n",
       "    var y = canvas_pos.y * mpl.ratio;\n",
       "\n",
       "    this.send_message(name, {x: x, y: y, button: event.button,\n",
       "                             step: event.step,\n",
       "                             guiEvent: simpleKeys(event)});\n",
       "\n",
       "    /* This prevents the web browser from automatically changing to\n",
       "     * the text insertion cursor when the button is pressed.  We want\n",
       "     * to control all of the cursor setting manually through the\n",
       "     * 'cursor' event from matplotlib */\n",
       "    event.preventDefault();\n",
       "    return false;\n",
       "}\n",
       "\n",
       "mpl.figure.prototype._key_event_extra = function(event, name) {\n",
       "    // Handle any extra behaviour associated with a key event\n",
       "}\n",
       "\n",
       "mpl.figure.prototype.key_event = function(event, name) {\n",
       "\n",
       "    // Prevent repeat events\n",
       "    if (name == 'key_press')\n",
       "    {\n",
       "        if (event.which === this._key)\n",
       "            return;\n",
       "        else\n",
       "            this._key = event.which;\n",
       "    }\n",
       "    if (name == 'key_release')\n",
       "        this._key = null;\n",
       "\n",
       "    var value = '';\n",
       "    if (event.ctrlKey && event.which != 17)\n",
       "        value += \"ctrl+\";\n",
       "    if (event.altKey && event.which != 18)\n",
       "        value += \"alt+\";\n",
       "    if (event.shiftKey && event.which != 16)\n",
       "        value += \"shift+\";\n",
       "\n",
       "    value += 'k';\n",
       "    value += event.which.toString();\n",
       "\n",
       "    this._key_event_extra(event, name);\n",
       "\n",
       "    this.send_message(name, {key: value,\n",
       "                             guiEvent: simpleKeys(event)});\n",
       "    return false;\n",
       "}\n",
       "\n",
       "mpl.figure.prototype.toolbar_button_onclick = function(name) {\n",
       "    if (name == 'download') {\n",
       "        this.handle_save(this, null);\n",
       "    } else {\n",
       "        this.send_message(\"toolbar_button\", {name: name});\n",
       "    }\n",
       "};\n",
       "\n",
       "mpl.figure.prototype.toolbar_button_onmouseover = function(tooltip) {\n",
       "    this.message.textContent = tooltip;\n",
       "};\n",
       "mpl.toolbar_items = [[\"Home\", \"Reset original view\", \"fa fa-home icon-home\", \"home\"], [\"Back\", \"Back to  previous view\", \"fa fa-arrow-left icon-arrow-left\", \"back\"], [\"Forward\", \"Forward to next view\", \"fa fa-arrow-right icon-arrow-right\", \"forward\"], [\"\", \"\", \"\", \"\"], [\"Pan\", \"Pan axes with left mouse, zoom with right\", \"fa fa-arrows icon-move\", \"pan\"], [\"Zoom\", \"Zoom to rectangle\", \"fa fa-square-o icon-check-empty\", \"zoom\"], [\"\", \"\", \"\", \"\"], [\"Download\", \"Download plot\", \"fa fa-floppy-o icon-save\", \"download\"]];\n",
       "\n",
       "mpl.extensions = [\"eps\", \"jpeg\", \"pdf\", \"png\", \"ps\", \"raw\", \"svg\", \"tif\"];\n",
       "\n",
       "mpl.default_extension = \"png\";var comm_websocket_adapter = function(comm) {\n",
       "    // Create a \"websocket\"-like object which calls the given IPython comm\n",
       "    // object with the appropriate methods. Currently this is a non binary\n",
       "    // socket, so there is still some room for performance tuning.\n",
       "    var ws = {};\n",
       "\n",
       "    ws.close = function() {\n",
       "        comm.close()\n",
       "    };\n",
       "    ws.send = function(m) {\n",
       "        //console.log('sending', m);\n",
       "        comm.send(m);\n",
       "    };\n",
       "    // Register the callback with on_msg.\n",
       "    comm.on_msg(function(msg) {\n",
       "        //console.log('receiving', msg['content']['data'], msg);\n",
       "        // Pass the mpl event to the overriden (by mpl) onmessage function.\n",
       "        ws.onmessage(msg['content']['data'])\n",
       "    });\n",
       "    return ws;\n",
       "}\n",
       "\n",
       "mpl.mpl_figure_comm = function(comm, msg) {\n",
       "    // This is the function which gets called when the mpl process\n",
       "    // starts-up an IPython Comm through the \"matplotlib\" channel.\n",
       "\n",
       "    var id = msg.content.data.id;\n",
       "    // Get hold of the div created by the display call when the Comm\n",
       "    // socket was opened in Python.\n",
       "    var element = $(\"#\" + id);\n",
       "    var ws_proxy = comm_websocket_adapter(comm)\n",
       "\n",
       "    function ondownload(figure, format) {\n",
       "        window.open(figure.imageObj.src);\n",
       "    }\n",
       "\n",
       "    var fig = new mpl.figure(id, ws_proxy,\n",
       "                           ondownload,\n",
       "                           element.get(0));\n",
       "\n",
       "    // Call onopen now - mpl needs it, as it is assuming we've passed it a real\n",
       "    // web socket which is closed, not our websocket->open comm proxy.\n",
       "    ws_proxy.onopen();\n",
       "\n",
       "    fig.parent_element = element.get(0);\n",
       "    fig.cell_info = mpl.find_output_cell(\"<div id='\" + id + \"'></div>\");\n",
       "    if (!fig.cell_info) {\n",
       "        console.error(\"Failed to find cell for figure\", id, fig);\n",
       "        return;\n",
       "    }\n",
       "\n",
       "    var output_index = fig.cell_info[2]\n",
       "    var cell = fig.cell_info[0];\n",
       "\n",
       "};\n",
       "\n",
       "mpl.figure.prototype.handle_close = function(fig, msg) {\n",
       "    var width = fig.canvas.width/mpl.ratio\n",
       "    fig.root.unbind('remove')\n",
       "\n",
       "    // Update the output cell to use the data from the current canvas.\n",
       "    fig.push_to_output();\n",
       "    var dataURL = fig.canvas.toDataURL();\n",
       "    // Re-enable the keyboard manager in IPython - without this line, in FF,\n",
       "    // the notebook keyboard shortcuts fail.\n",
       "    IPython.keyboard_manager.enable()\n",
       "    $(fig.parent_element).html('<img src=\"' + dataURL + '\" width=\"' + width + '\">');\n",
       "    fig.close_ws(fig, msg);\n",
       "}\n",
       "\n",
       "mpl.figure.prototype.close_ws = function(fig, msg){\n",
       "    fig.send_message('closing', msg);\n",
       "    // fig.ws.close()\n",
       "}\n",
       "\n",
       "mpl.figure.prototype.push_to_output = function(remove_interactive) {\n",
       "    // Turn the data on the canvas into data in the output cell.\n",
       "    var width = this.canvas.width/mpl.ratio\n",
       "    var dataURL = this.canvas.toDataURL();\n",
       "    this.cell_info[1]['text/html'] = '<img src=\"' + dataURL + '\" width=\"' + width + '\">';\n",
       "}\n",
       "\n",
       "mpl.figure.prototype.updated_canvas_event = function() {\n",
       "    // Tell IPython that the notebook contents must change.\n",
       "    IPython.notebook.set_dirty(true);\n",
       "    this.send_message(\"ack\", {});\n",
       "    var fig = this;\n",
       "    // Wait a second, then push the new image to the DOM so\n",
       "    // that it is saved nicely (might be nice to debounce this).\n",
       "    setTimeout(function () { fig.push_to_output() }, 1000);\n",
       "}\n",
       "\n",
       "mpl.figure.prototype._init_toolbar = function() {\n",
       "    var fig = this;\n",
       "\n",
       "    var nav_element = $('<div/>')\n",
       "    nav_element.attr('style', 'width: 100%');\n",
       "    this.root.append(nav_element);\n",
       "\n",
       "    // Define a callback function for later on.\n",
       "    function toolbar_event(event) {\n",
       "        return fig.toolbar_button_onclick(event['data']);\n",
       "    }\n",
       "    function toolbar_mouse_event(event) {\n",
       "        return fig.toolbar_button_onmouseover(event['data']);\n",
       "    }\n",
       "\n",
       "    for(var toolbar_ind in mpl.toolbar_items){\n",
       "        var name = mpl.toolbar_items[toolbar_ind][0];\n",
       "        var tooltip = mpl.toolbar_items[toolbar_ind][1];\n",
       "        var image = mpl.toolbar_items[toolbar_ind][2];\n",
       "        var method_name = mpl.toolbar_items[toolbar_ind][3];\n",
       "\n",
       "        if (!name) { continue; };\n",
       "\n",
       "        var button = $('<button class=\"btn btn-default\" href=\"#\" title=\"' + name + '\"><i class=\"fa ' + image + ' fa-lg\"></i></button>');\n",
       "        button.click(method_name, toolbar_event);\n",
       "        button.mouseover(tooltip, toolbar_mouse_event);\n",
       "        nav_element.append(button);\n",
       "    }\n",
       "\n",
       "    // Add the status bar.\n",
       "    var status_bar = $('<span class=\"mpl-message\" style=\"text-align:right; float: right;\"/>');\n",
       "    nav_element.append(status_bar);\n",
       "    this.message = status_bar[0];\n",
       "\n",
       "    // Add the close button to the window.\n",
       "    var buttongrp = $('<div class=\"btn-group inline pull-right\"></div>');\n",
       "    var button = $('<button class=\"btn btn-mini btn-primary\" href=\"#\" title=\"Stop Interaction\"><i class=\"fa fa-power-off icon-remove icon-large\"></i></button>');\n",
       "    button.click(function (evt) { fig.handle_close(fig, {}); } );\n",
       "    button.mouseover('Stop Interaction', toolbar_mouse_event);\n",
       "    buttongrp.append(button);\n",
       "    var titlebar = this.root.find($('.ui-dialog-titlebar'));\n",
       "    titlebar.prepend(buttongrp);\n",
       "}\n",
       "\n",
       "mpl.figure.prototype._root_extra_style = function(el){\n",
       "    var fig = this\n",
       "    el.on(\"remove\", function(){\n",
       "\tfig.close_ws(fig, {});\n",
       "    });\n",
       "}\n",
       "\n",
       "mpl.figure.prototype._canvas_extra_style = function(el){\n",
       "    // this is important to make the div 'focusable\n",
       "    el.attr('tabindex', 0)\n",
       "    // reach out to IPython and tell the keyboard manager to turn it's self\n",
       "    // off when our div gets focus\n",
       "\n",
       "    // location in version 3\n",
       "    if (IPython.notebook.keyboard_manager) {\n",
       "        IPython.notebook.keyboard_manager.register_events(el);\n",
       "    }\n",
       "    else {\n",
       "        // location in version 2\n",
       "        IPython.keyboard_manager.register_events(el);\n",
       "    }\n",
       "\n",
       "}\n",
       "\n",
       "mpl.figure.prototype._key_event_extra = function(event, name) {\n",
       "    var manager = IPython.notebook.keyboard_manager;\n",
       "    if (!manager)\n",
       "        manager = IPython.keyboard_manager;\n",
       "\n",
       "    // Check for shift+enter\n",
       "    if (event.shiftKey && event.which == 13) {\n",
       "        this.canvas_div.blur();\n",
       "        // select the cell after this one\n",
       "        var index = IPython.notebook.find_cell_index(this.cell_info[0]);\n",
       "        IPython.notebook.select(index + 1);\n",
       "    }\n",
       "}\n",
       "\n",
       "mpl.figure.prototype.handle_save = function(fig, msg) {\n",
       "    fig.ondownload(fig, null);\n",
       "}\n",
       "\n",
       "\n",
       "mpl.find_output_cell = function(html_output) {\n",
       "    // Return the cell and output element which can be found *uniquely* in the notebook.\n",
       "    // Note - this is a bit hacky, but it is done because the \"notebook_saving.Notebook\"\n",
       "    // IPython event is triggered only after the cells have been serialised, which for\n",
       "    // our purposes (turning an active figure into a static one), is too late.\n",
       "    var cells = IPython.notebook.get_cells();\n",
       "    var ncells = cells.length;\n",
       "    for (var i=0; i<ncells; i++) {\n",
       "        var cell = cells[i];\n",
       "        if (cell.cell_type === 'code'){\n",
       "            for (var j=0; j<cell.output_area.outputs.length; j++) {\n",
       "                var data = cell.output_area.outputs[j];\n",
       "                if (data.data) {\n",
       "                    // IPython >= 3 moved mimebundle to data attribute of output\n",
       "                    data = data.data;\n",
       "                }\n",
       "                if (data['text/html'] == html_output) {\n",
       "                    return [cell, data, j];\n",
       "                }\n",
       "            }\n",
       "        }\n",
       "    }\n",
       "}\n",
       "\n",
       "// Register the function which deals with the matplotlib target/channel.\n",
       "// The kernel may be null if the page has been refreshed.\n",
       "if (IPython.notebook.kernel != null) {\n",
       "    IPython.notebook.kernel.comm_manager.register_target('matplotlib', mpl.mpl_figure_comm);\n",
       "}\n"
      ],
      "text/plain": [
       "<IPython.core.display.Javascript object>"
      ]
     },
     "metadata": {},
     "output_type": "display_data"
    },
    {
     "data": {
      "text/html": [
       "<img src=\"data:image/png;base64,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\" width=\"640\">"
      ],
      "text/plain": [
       "<IPython.core.display.HTML object>"
      ]
     },
     "metadata": {},
     "output_type": "display_data"
    },
    {
     "data": {
      "text/plain": [
       "[<matplotlib.lines.Line2D at 0x738b3c8>]"
      ]
     },
     "execution_count": 9,
     "metadata": {},
     "output_type": "execute_result"
    }
   ],
   "source": [
    "%matplotlib notebook\n",
    "plt.plot(h.traces[20].samples)"
   ]
  },
  {
   "cell_type": "code",
   "execution_count": 24,
   "metadata": {
    "collapsed": false
   },
   "outputs": [
    {
     "data": {
      "text/plain": [
       "8192"
      ]
     },
     "execution_count": 24,
     "metadata": {},
     "output_type": "execute_result"
    }
   ],
   "source": [
    "h.distributions[0].stop_time"
   ]
  },
  {
   "cell_type": "code",
   "execution_count": null,
   "metadata": {
    "collapsed": false
   },
   "outputs": [],
   "source": [
    "%matplotlib notebook\n",
    "plt.plot(h.distributions[0].bins,'.')"
   ]
  },
  {
   "cell_type": "code",
   "execution_count": null,
   "metadata": {
    "collapsed": false
   },
   "outputs": [],
   "source": [
    "h.frames[1].payload_type"
   ]
  },
  {
   "cell_type": "code",
   "execution_count": null,
   "metadata": {
    "collapsed": false
   },
   "outputs": [],
   "source": [
    "h.frames[52].payload"
   ]
  },
  {
   "cell_type": "code",
   "execution_count": null,
   "metadata": {
    "collapsed": false
   },
   "outputs": [],
   "source": [
    "frame_header_dt.names"
   ]
  },
  {
   "cell_type": "code",
   "execution_count": 10,
   "metadata": {
    "collapsed": false
   },
   "outputs": [],
   "source": [
    "h.close()"
   ]
  },
  {
   "cell_type": "code",
   "execution_count": null,
   "metadata": {
    "collapsed": false
   },
   "outputs": [],
   "source": [
    "stream=Data.fromfile('bytestream',stream_dt,'teslib','measurement_subsystem_TB',tool='vivado')\n",
    "packets=_PacketData(stream)\n",
    "del stream\n",
    "# _import(packets)\n",
    "# h=h5py.File('TES.hdf5','r')"
   ]
  },
  {
   "cell_type": "code",
   "execution_count": null,
   "metadata": {
    "collapsed": false
   },
   "outputs": [],
   "source": [
    "packets[1]['data']"
   ]
  },
  {
   "cell_type": "code",
   "execution_count": null,
   "metadata": {
    "collapsed": false
   },
   "outputs": [],
   "source": [
    "packets[51]\n"
   ]
  },
  {
   "cell_type": "code",
   "execution_count": null,
   "metadata": {
    "collapsed": false
   },
   "outputs": [],
   "source": [
    "h.close()"
   ]
  },
  {
   "cell_type": "code",
   "execution_count": null,
   "metadata": {
    "collapsed": false
   },
   "outputs": [],
   "source": [
    "len(h['traces'])"
   ]
  },
  {
   "cell_type": "code",
   "execution_count": null,
   "metadata": {
    "collapsed": false
   },
   "outputs": [],
   "source": [
    "t=h['raw_data/event'][h['traces'][5]]"
   ]
  },
  {
   "cell_type": "code",
   "execution_count": null,
   "metadata": {
    "collapsed": false
   },
   "outputs": [],
   "source": [
    "%matplotlib notebook\n",
    "t=h['raw_data/event'][h['traces'][5]]\n",
    "tr=Trace(t)\n",
    "print(tr.flags,'\\n',tr.trace_flags)\n",
    "plt.plot(tr.samples)"
   ]
  },
  {
   "cell_type": "code",
   "execution_count": null,
   "metadata": {
    "collapsed": false
   },
   "outputs": [],
   "source": [
    "tr"
   ]
  },
  {
   "cell_type": "code",
   "execution_count": null,
   "metadata": {
    "collapsed": false
   },
   "outputs": [],
   "source": [
    "s=str(tr.flags)\n",
    "s"
   ]
  },
  {
   "cell_type": "code",
   "execution_count": null,
   "metadata": {
    "collapsed": false
   },
   "outputs": [],
   "source": [
    "print(s)"
   ]
  },
  {
   "cell_type": "code",
   "execution_count": null,
   "metadata": {
    "collapsed": false
   },
   "outputs": [],
   "source": [
    "type(h['raw_data/event'][h['traces'][0]])"
   ]
  },
  {
   "cell_type": "code",
   "execution_count": null,
   "metadata": {
    "collapsed": true
   },
   "outputs": [],
   "source": [
    "from tes.hdf5 import Trace"
   ]
  },
  {
   "cell_type": "code",
   "execution_count": null,
   "metadata": {
    "collapsed": false
   },
   "outputs": [],
   "source": [
    "tr.flags"
   ]
  },
  {
   "cell_type": "code",
   "execution_count": null,
   "metadata": {
    "collapsed": false
   },
   "outputs": [],
   "source": [
    "tr.trace_flags"
   ]
  },
  {
   "cell_type": "code",
   "execution_count": null,
   "metadata": {
    "collapsed": false
   },
   "outputs": [],
   "source": [
    "%matplotlib notebook\n",
    "plt.plot(tr.samples)"
   ]
  },
  {
   "cell_type": "code",
   "execution_count": null,
   "metadata": {
    "collapsed": false
   },
   "outputs": [],
   "source": [
    "len(tr.samples)"
   ]
  },
  {
   "cell_type": "code",
   "execution_count": null,
   "metadata": {
    "collapsed": false
   },
   "outputs": [],
   "source": [
    "first_dt = np.dtype([('size', np.uint16), ('tflags0', np.uint8), ('tflags1', np.uint8),\n",
    "        ('flags0', np.uint8), ('flags1', np.uint8), ('time', np.uint16)])\n",
    "\n"
   ]
  },
  {
   "cell_type": "code",
   "execution_count": null,
   "metadata": {
    "collapsed": false
   },
   "outputs": [],
   "source": []
  },
  {
   "cell_type": "code",
   "execution_count": null,
   "metadata": {
    "collapsed": false
   },
   "outputs": [],
   "source": [
    "t[0:8].view(first_dt)"
   ]
  },
  {
   "cell_type": "code",
   "execution_count": null,
   "metadata": {
    "collapsed": true
   },
   "outputs": [],
   "source": []
  },
  {
   "cell_type": "code",
   "execution_count": null,
   "metadata": {
    "collapsed": false
   },
   "outputs": [],
   "source": [
    "_rref = h5py.special_dtype(ref=h5py.RegionReference)\n",
    "h=h5py.File('test.hdf5', 'w')"
   ]
  },
  {
   "cell_type": "code",
   "execution_count": null,
   "metadata": {
    "collapsed": false
   },
   "outputs": [],
   "source": [
    "h.close()"
   ]
  },
  {
   "cell_type": "code",
   "execution_count": null,
   "metadata": {
    "collapsed": false
   },
   "outputs": [],
   "source": [
    "t= np.array((10,),'u1')\n",
    "h.create_dataset('t',(10,),dtype='u1')"
   ]
  },
  {
   "cell_type": "code",
   "execution_count": null,
   "metadata": {
    "collapsed": false
   },
   "outputs": [],
   "source": [
    "h.create_dataset('r',(10,),dtype=_rref)"
   ]
  },
  {
   "cell_type": "code",
   "execution_count": null,
   "metadata": {
    "collapsed": false
   },
   "outputs": [],
   "source": [
    "h.create_dataset('s',(10,),dtype='u1')"
   ]
  },
  {
   "cell_type": "code",
   "execution_count": null,
   "metadata": {
    "collapsed": true
   },
   "outputs": [],
   "source": [
    "h['s'][0]=0\n",
    "h['s'][1]=1"
   ]
  },
  {
   "cell_type": "code",
   "execution_count": null,
   "metadata": {
    "collapsed": false
   },
   "outputs": [],
   "source": [
    "h['r'][0]=h['t'].regionref[0:2]"
   ]
  },
  {
   "cell_type": "code",
   "execution_count": null,
   "metadata": {
    "collapsed": true
   },
   "outputs": [],
   "source": [
    "r=h['r'][0]"
   ]
  },
  {
   "cell_type": "code",
   "execution_count": null,
   "metadata": {
    "collapsed": false
   },
   "outputs": [],
   "source": [
    "t= np.array([0,1,2],'u1')"
   ]
  },
  {
   "cell_type": "code",
   "execution_count": null,
   "metadata": {
    "collapsed": false
   },
   "outputs": [],
   "source": [
    "t = [0,1]\n",
    "\n",
    "f = np.uint64(0)\n",
    "print(type(f))\n",
    "f += len(t)\n",
    "print(type(f))"
   ]
  },
  {
   "cell_type": "code",
   "execution_count": null,
   "metadata": {
    "collapsed": false
   },
   "outputs": [],
   "source": [
    "t[0:1][0]"
   ]
  },
  {
   "cell_type": "code",
   "execution_count": null,
   "metadata": {
    "collapsed": false
   },
   "outputs": [],
   "source": [
    "i=0\n",
    "for p in packets:\n",
    "    if i==7:\n",
    "        break\n",
    "    i+=1"
   ]
  },
  {
   "cell_type": "code",
   "execution_count": null,
   "metadata": {
    "collapsed": false
   },
   "outputs": [],
   "source": [
    "p"
   ]
  },
  {
   "cell_type": "code",
   "execution_count": null,
   "metadata": {
    "collapsed": true
   },
   "outputs": [],
   "source": [
    "lasts = np.where(stream['last'] < 0)[0] + 1"
   ]
  },
  {
   "cell_type": "code",
   "execution_count": null,
   "metadata": {
    "collapsed": false
   },
   "outputs": [],
   "source": [
    "lasts"
   ]
  },
  {
   "cell_type": "code",
   "execution_count": null,
   "metadata": {
    "collapsed": false
   },
   "outputs": [],
   "source": [
    "'last' in stream.dtype.names"
   ]
  },
  {
   "cell_type": "code",
   "execution_count": null,
   "metadata": {
    "collapsed": false
   },
   "outputs": [],
   "source": [
    "isinstance(stream,np.ndarray)"
   ]
  },
  {
   "cell_type": "code",
   "execution_count": null,
   "metadata": {
    "collapsed": false
   },
   "outputs": [],
   "source": [
    "type('poo')"
   ]
  },
  {
   "cell_type": "code",
   "execution_count": null,
   "metadata": {
    "collapsed": false
   },
   "outputs": [],
   "source": [
    "stream[lasts[0]:]"
   ]
  },
  {
   "cell_type": "code",
   "execution_count": null,
   "metadata": {
    "collapsed": false
   },
   "outputs": [],
   "source": [
    "ps=PacketStream(stream)\n",
    "# ps.traces"
   ]
  },
  {
   "cell_type": "code",
   "execution_count": null,
   "metadata": {
    "collapsed": false
   },
   "outputs": [],
   "source": [
    "type(ps[0])"
   ]
  },
  {
   "cell_type": "code",
   "execution_count": null,
   "metadata": {
    "collapsed": false
   },
   "outputs": [],
   "source": [
    "sum(stream['last']<0)"
   ]
  },
  {
   "cell_type": "code",
   "execution_count": null,
   "metadata": {
    "collapsed": false
   },
   "outputs": [],
   "source": [
    "%matplotlib notebook\n",
    "\n",
    "plt.plot(ps.traces[3]._view['trace'])\n",
    "# ps.traces[2]._view['trace'][-20:]"
   ]
  },
  {
   "cell_type": "code",
   "execution_count": null,
   "metadata": {
    "collapsed": false
   },
   "outputs": [],
   "source": [
    "ps.traces"
   ]
  },
  {
   "cell_type": "code",
   "execution_count": null,
   "metadata": {
    "collapsed": false,
    "run_control": {
     "frozen": false,
     "read_only": false
    },
    "scrolled": true
   },
   "outputs": [],
   "source": [
    "traces=Data.fromfile('traces',trace_dt,'teslib','measurement_subsystem_TB',tool='vivado')\n",
    "stream=Data.fromfile('bytestream',stream_dt,'teslib','measurement_subsystem_TB',tool='vivado')\n",
    "bs=PacketStream(stream)\n",
    "dists=bs.distributions\n",
    "#bs.packets\n",
    "dists"
   ]
  },
  {
   "cell_type": "code",
   "execution_count": null,
   "metadata": {
    "collapsed": false
   },
   "outputs": [],
   "source": [
    "d=dists[0]\n",
    "d.counts[-1]"
   ]
  },
  {
   "cell_type": "code",
   "execution_count": null,
   "metadata": {
    "collapsed": false
   },
   "outputs": [],
   "source": [
    "d.total+d.underflow+d.overflow"
   ]
  },
  {
   "cell_type": "code",
   "execution_count": null,
   "metadata": {
    "collapsed": false
   },
   "outputs": [],
   "source": [
    "%matplotlib notebook\n",
    "plt.plot(d.bins)"
   ]
  },
  {
   "cell_type": "code",
   "execution_count": null,
   "metadata": {
    "collapsed": false,
    "scrolled": false
   },
   "outputs": [],
   "source": [
    "f=EventFlags(es[2][2]['flags'])\n",
    "f.channel"
   ]
  },
  {
   "cell_type": "code",
   "execution_count": null,
   "metadata": {
    "collapsed": false,
    "run_control": {
     "frozen": false,
     "read_only": false
    },
    "scrolled": true
   },
   "outputs": [],
   "source": [
    "import tes.mca as mca\n",
    "d=bs.distributions[0]\n",
    "eset=np.uint64(1)\n",
    "bset=np.uint64(0)\n",
    "cset=np.uint64(20)\n",
    "\n",
    "stop=d.stop_time+eset+cset\n",
    "start=d.start_time+bset+cset\n",
    "bins=np.zeros((d.last_bin+1,),dtype=np.uint32)\n",
    "\n",
    "if d.value==mca.Value.raw_signal:\n",
    "    tname='raw'\n",
    "elif d.value==mca.Value.filtered_signal:\n",
    "    tname='filtered'\n",
    "elif d.value==mca.Value.slope_signal:\n",
    "    tname='slope'\n",
    "\n",
    "for i in range(start,stop):\n",
    "    s = traces[tname][i]\n",
    "    if s < d.lowest_value:\n",
    "        bins[0] += 1\n",
    "    else:\n",
    "        bin_number = s - d.lowest_value + 1\n",
    "        if bin_number < d.last_bin:\n",
    "            bins[bin_number] += 1\n",
    "        else:\n",
    "            bins[d.last_bin] += 1\n",
    "        \n",
    "bad=(bins-d.counts).nonzero()\n",
    "bad"
   ]
  },
  {
   "cell_type": "code",
   "execution_count": null,
   "metadata": {
    "collapsed": false
   },
   "outputs": [],
   "source": [
    "d.counts[bad][1:10]"
   ]
  },
  {
   "cell_type": "code",
   "execution_count": null,
   "metadata": {
    "collapsed": false
   },
   "outputs": [],
   "source": [
    "bins[bad][1:10]"
   ]
  },
  {
   "cell_type": "code",
   "execution_count": null,
   "metadata": {
    "collapsed": false
   },
   "outputs": [],
   "source": [
    "d.value"
   ]
  },
  {
   "cell_type": "code",
   "execution_count": null,
   "metadata": {
    "collapsed": false,
    "scrolled": false
   },
   "outputs": [],
   "source": [
    "%matplotlib notebook\n",
    "plt.step(np.arange(len(d.bins)),d.bins)\n",
    "# plt.step(np.arange(len(d.counts)),bins)\n",
    "plt.plot(bad,np.zeros_like(bad),'.k')"
   ]
  },
  {
   "cell_type": "code",
   "execution_count": null,
   "metadata": {
    "collapsed": false
   },
   "outputs": [],
   "source": [
    "sum(d.counts)"
   ]
  },
  {
   "cell_type": "code",
   "execution_count": null,
   "metadata": {
    "collapsed": false
   },
   "outputs": [],
   "source": [
    "2**14+2000"
   ]
  },
  {
   "cell_type": "code",
   "execution_count": null,
   "metadata": {
    "collapsed": false,
    "run_control": {
     "frozen": false,
     "read_only": false
    }
   },
   "outputs": [],
   "source": [
    "def plot_event(event_tupple):\n",
    "    pre=200\n",
    "    post=1000\n",
    "    timestamp=event_tupple[0]\n",
    "    event_type=event_tupple[1]\n",
    "    event=event_tupple[2]\n",
    "    flags=EventFlags(event['flags'])\n",
    "    print(flags)\n",
    "    print('timestamp',timestamp, 'time', event['time'])\n",
    "    if flags.type == Event.tick:\n",
    "        return\n",
    "    s=traces['filtered'][timestamp+20-pre:timestamp+20+post]\n",
    "    r=traces['raw'][timestamp+20-pre:timestamp+20+post]\n",
    "    i = np.where(abs(minmax['clk'])<=timestamp+20)[0][-1]\n",
    "    min_t=abs(minmax['clk'][i])-(timestamp+20)\n",
    "#     print(minmax['clk'][i],min_t,i,timestamp)\n",
    "    plt.plot(r,'k',linewidth=0.5)\n",
    "    plt.plot(s,'b',linewidth=2)\n",
    "    plt.plot([pre],s[pre],'sg')\n",
    "    plt.plot([pre+min_t],minmax['filtered'][i],'sr')\n",
    "    if event_type==Event.pulse:\n",
    "        for i in range(flags.peak_number):\n",
    "            p=event['peaks'][i]\n",
    "            plt.plot([0,len(s)-1],[p['height'],p['height']],':r')\n",
    "    else:\n",
    "      plt.plot([0,len(s)-1],[event['height'],event['height']],':r')\n",
    "        \n",
    "    #print(event['height'],event['minima'])\n",
    "    #print(minmax['filtered'][i]==s[pre+min_t])\n",
    "    #print(minmax['filtered'][i]==event['minima'])\n",
    "    #print(s[pre],s[pre-1])"
   ]
  },
  {
   "cell_type": "code",
   "execution_count": null,
   "metadata": {
    "collapsed": false,
    "run_control": {
     "frozen": false,
     "read_only": false
    }
   },
   "outputs": [],
   "source": [
    "pwd"
   ]
  },
  {
   "cell_type": "code",
   "execution_count": null,
   "metadata": {
    "collapsed": false
   },
   "outputs": [],
   "source": [
    "es=bs.eventstream\n",
    "es"
   ]
  },
  {
   "cell_type": "code",
   "execution_count": null,
   "metadata": {
    "collapsed": false,
    "run_control": {
     "frozen": false,
     "read_only": false
    }
   },
   "outputs": [],
   "source": [
    "%matplotlib notebook\n",
    "for e in es:\n",
    "    if e[1]==Event.peak:\n",
    "        plot_event(e)"
   ]
  },
  {
   "cell_type": "code",
   "execution_count": null,
   "metadata": {
    "collapsed": false,
    "run_control": {
     "frozen": false,
     "read_only": false
    }
   },
   "outputs": [],
   "source": [
    "es"
   ]
  },
  {
   "cell_type": "code",
   "execution_count": null,
   "metadata": {
    "collapsed": false,
    "run_control": {
     "frozen": false,
     "read_only": false
    }
   },
   "outputs": [],
   "source": [
    "dists=bs.distributions\n",
    "dists"
   ]
  },
  {
   "cell_type": "code",
   "execution_count": null,
   "metadata": {
    "collapsed": false,
    "run_control": {
     "frozen": false,
     "read_only": false
    }
   },
   "outputs": [],
   "source": [
    "bs.packets[185].payload"
   ]
  },
  {
   "cell_type": "code",
   "execution_count": null,
   "metadata": {
    "collapsed": false,
    "run_control": {
     "frozen": false,
     "read_only": false
    }
   },
   "outputs": [],
   "source": [
    "d=bs.distributions[0]\n",
    "eset=np.uint64(1)\n",
    "bset=np.uint64(0)\n",
    "cset=np.uint64(20)\n",
    "\n",
    "stop=d.stop_time+eset+cset\n",
    "start=d.start_time+bset+cset\n",
    "bins=np.zeros((d.last_bin+1,),dtype=np.uint32)\n",
    "for i in range(start,stop):\n",
    "    s = traces['raw'][i]\n",
    "    if s <= d.lowest_value:\n",
    "        bins[0] += 1\n",
    "    else:\n",
    "        bins[s-d.lowest_value] += 1\n",
    "        \n",
    "(bins-d.counts).nonzero()"
   ]
  },
  {
   "cell_type": "code",
   "execution_count": null,
   "metadata": {
    "collapsed": false,
    "run_control": {
     "frozen": false,
     "read_only": false
    }
   },
   "outputs": [],
   "source": [
    "%matplotlib notebook\n",
    "plt.step(np.arange(len(d.counts)),d.counts)"
   ]
  },
  {
   "cell_type": "code",
   "execution_count": null,
   "metadata": {
    "collapsed": false,
    "run_control": {
     "frozen": false,
     "read_only": false
    }
   },
   "outputs": [],
   "source": [
    "bins[bins.nonzero()]"
   ]
  },
  {
   "cell_type": "code",
   "execution_count": null,
   "metadata": {
    "collapsed": false,
    "run_control": {
     "frozen": false,
     "read_only": false
    }
   },
   "outputs": [],
   "source": [
    "sum(d.counts)"
   ]
  },
  {
   "cell_type": "code",
   "execution_count": null,
   "metadata": {
    "collapsed": false,
    "run_control": {
     "frozen": false,
     "read_only": false
    }
   },
   "outputs": [],
   "source": [
    "2**14+2000"
   ]
  },
  {
   "cell_type": "code",
   "execution_count": null,
   "metadata": {
    "collapsed": false,
    "run_control": {
     "frozen": false,
     "read_only": false
    }
   },
   "outputs": [],
   "source": [
    "es[3][2]['timestamp']-es[0][2]['timestamp']"
   ]
  },
  {
   "cell_type": "code",
   "execution_count": null,
   "metadata": {
    "collapsed": true,
    "run_control": {
     "frozen": false,
     "read_only": false
    }
   },
   "outputs": [],
   "source": [
    "def xings(s, thresh):\n",
    "    pos=s > thresh\n",
    "    neg=s < thresh\n",
    "    pos0=s >= thresh\n",
    "    neg0=s <= thresh\n",
    "    pos_xing_mask = np.bitwise_and(pos0[1:],neg[0:-1])  \n",
    "    neg_xing_mask = np.bitwise_and(neg0[1:],pos[0:-1])  \n",
    "    return pos_xing_mask.nonzero()[0]+1, neg_xing_mask.nonzero()[0]+1"
   ]
  },
  {
   "cell_type": "code",
   "execution_count": null,
   "metadata": {
    "collapsed": true,
    "run_control": {
     "frozen": false,
     "read_only": false
    }
   },
   "outputs": [],
   "source": [
    "from mpl_toolkits.axes_grid1 import host_subplot\n",
    "\n",
    "def plot_trace(traces,start,width):\n",
    "\n",
    "    ax = host_subplot(111)\n",
    "    axr = ax.twinx()\n",
    "    axt = ax.twiny()\n",
    "#ax.plot(t[0:-1:10],s[0:-1:10],'k')\n",
    "#ax.plot(t,s,'k')\n",
    "    axt.set_xlabel('Time ns',fontsize=18)\n",
    "    ax.set_ylabel('Voltage (Arbitary Units)',fontsize=18)\n",
    "#plt.xticks(visible=False)\n",
    "#plt.yticks(visible=False)\n",
    "#ax.set_xlim(0,t[4000000])\n",
    "#start=902000\n",
    "#width=2500\n",
    "    f=traces['filtered'][start:start+width]\n",
    "    s=traces['slope'][start:start+width]\n",
    "    t=np.arange(len(f))*4e-9\n",
    "#ts=t[pstart:pstop]\n",
    "#axins = fig.add_axes([.4, .45, .45, .4])\n",
    "    ax.set_xlim(t[0],t[-1])\n",
    "    axt.set_xlim(t[0],t[-1])\n",
    "\n",
    "    ylim=(-500,2000)\n",
    "\n",
    "    ax.set_ylim(ylim[0],ylim[1])\n",
    "    axr.set_ylim(ylim[0],ylim[1])\n",
    "\n",
    "    filtered, = ax.step(t,f,'k',lw=2,label='filtered')\n",
    "    slope, = ax.step(t,s,'b',label='slope')\n",
    "    ax.fill_between(t,0,s,alpha=.4)\n",
    "    plt.ylim=ylim\n",
    "\n",
    "pos=s>0\n",
    "neg=s<=0\n",
    "pos_xing_mask = np.bitwise_and(pos[1:-1],neg[0:-2])  \n",
    "neg_xing_mask = np.bitwise_and(neg[1:-1],pos[0:-2])  \n",
    "pos_xing=pos_xing_mask.nonzero()\n",
    "neg_xing=neg_xing_mask.nonzero()\n",
    "\n",
    "rx=[t[pos_xing[0][0]], t[neg_xing[0][0]]]\n",
    "ry=[f[pos_xing[0][0]], f[neg_xing[0][0]]]\n",
    "\n",
    "ax.fill_between(t[pos_xing[0][0]:neg_xing[0][0]],0,s[pos_xing[0][0]:neg_xing[0][0]],alpha=.4,color='r')\n",
    "\n",
    "#plt.plot(rx,[ry[0], ry[0]],'-r',lw=2)\n",
    "#plt.plot([rx[1],rx[1]], ry,'-r',lw=2)\n",
    "# thresholds\n",
    "sthresh = 600\n",
    "pthresh = 1000\n",
    "plt.plot([t[0], t[-1]], [sthresh, sthresh], '--b', lw=2)\n",
    "plt.plot([t[0], t[-1]], [pthresh, pthresh], '--k', lw=2)\n",
    "\n",
    "sthresh_xing=(s>sthresh).nonzero()[0][0]\n",
    "pthresh_xing=(f>pthresh).nonzero()[0][0]\n",
    "\n",
    "\n",
    "cf=.10\n",
    "height = ry[1]-ry[0]\n",
    "cfl=ry[0]+(height*cf)\n",
    "cfh=ry[1]-(height*cf)\n",
    "\n",
    "cfl_xing=(f>cfl).nonzero()[0][0]\n",
    "cfd_low=f[cfl_xing]\n",
    "cfh_xing=(f>cfh).nonzero()[0][0]\n",
    "cfd_high=f[cfh_xing]\n",
    "\n",
    "#plt.plot([t[cfl_xing], t[-1]],[cfd_low, cfd_low], ':r')\n",
    "#plt.plot([t[cfh_xing], t[-1]],[cfd_high, cfd_high], ':r')\n",
    "#plt.plot([x[1], t[-1]],[y[1], y[1]], ':r')\n",
    "plt.legend([filtered, slope],['Signal', 'Slope'],loc=2)\n",
    "\n",
    "#axr = ax.twinx()\n",
    "##################################################################\n",
    "#yticks=([ry[0],sthresh,pthresh,cfd_high,ry[1]])\n",
    "yticks=([sthresh,pthresh])\n",
    "axr.set_yticks(yticks)\n",
    "#yticklabels=['Start','Slope threshold','Pulse threshold','CF high','Peak']\n",
    "yticklabels=['Slope threshold','Pulse threshold']\n",
    "axr.set_yticklabels(yticklabels, color='r',fontsize=14)\n",
    "axr.get_yticklabels()[0].set_color('b')\n",
    "axr.get_yticklabels()[1].set_color('k')\n",
    "\n",
    "#xticks=([rx[0],t[cfl_xing],t[sthresh_xing],t[pthresh_xing],rx[1]])\n",
    "xticks=(t[cfl_xing],rx[1])\n",
    "#ax.set_xticks([rx[0],t[cfl_xing],t[sthresh_xing],t[pthresh_xing],rx[1]])\n",
    "ax.set_xticks(xticks)\n",
    "#xticklabels=['Start','CF low','Slope xing','Signal xing','Peak']\n",
    "xticklabels=['CF low','Peak']\n",
    "ax.set_xticklabels(xticklabels, color='r',fontsize=14)\n",
    "\n",
    "#plt.plot([t[cfh_xing], t[-1]],[cfd_high, cfd_high], ':r')\n",
    "#horoz start, stop lines\n",
    "#hpeak=ax.plot([xticks[1], t[-1]],[yticks[-1], yticks[-1]], '-.r')\n",
    "#hstart=ax.plot([xticks[0], t[-1]],[yticks[0], yticks[0]], '-.r')\n",
    "#vert start stop\n",
    "vstart=ax.plot([xticks[0], xticks[0]],[cfd_low, ylim[0]], '-.r')\n",
    "vpeak=ax.plot([xticks[1], xticks[1]],[ylim[0], ry[1]], '-.r')\n",
    "\n",
    "plt.tight_layout()\n",
    "plt.savefig('..//peakextraction7.svg')\n",
    "plt.show()\n",
    "print('risetime:',(xticks[1]-xticks[0])/4)\n",
    "print('height:',yticks[-1]-yticks[0])\n",
    "print('time:',(xticks[0]-rx[0])/4)\n",
    "print('area',sum(s[pos_xing[0][0]:neg_xing[0][0]])/256)\n"
   ]
  },
  {
   "cell_type": "code",
   "execution_count": null,
   "metadata": {
    "collapsed": true,
    "run_control": {
     "frozen": false,
     "read_only": false
    }
   },
   "outputs": [],
   "source": [
    "slope_0xings = xings(traces['slope'],0)"
   ]
  },
  {
   "cell_type": "code",
   "execution_count": null,
   "metadata": {
    "collapsed": false,
    "run_control": {
     "frozen": false,
     "read_only": false
    }
   },
   "outputs": [],
   "source": [
    "slope_0xings"
   ]
  },
  {
   "cell_type": "code",
   "execution_count": null,
   "metadata": {
    "collapsed": false,
    "run_control": {
     "frozen": false,
     "read_only": false
    }
   },
   "outputs": [],
   "source": [
    "%matplotlib notebook\n",
    "start=10000\n",
    "width=300\n",
    "plt.plot(traces['filtered'][start:start+width]/2)"
   ]
  },
  {
   "cell_type": "code",
   "execution_count": null,
   "metadata": {
    "collapsed": false,
    "run_control": {
     "frozen": false,
     "read_only": false
    }
   },
   "outputs": [],
   "source": [
    "%matplotlib notebook\n",
    "plt.plot(traces['slope'][20400:21700])"
   ]
  },
  {
   "cell_type": "code",
   "execution_count": null,
   "metadata": {
    "collapsed": false,
    "run_control": {
     "frozen": false,
     "read_only": false
    }
   },
   "outputs": [],
   "source": [
    "filtered=traces['filtered'][1100:]\n",
    "filteredL=traces['filteredL'][1100:]"
   ]
  },
  {
   "cell_type": "code",
   "execution_count": null,
   "metadata": {
    "collapsed": false,
    "run_control": {
     "frozen": false,
     "read_only": false
    }
   },
   "outputs": [],
   "source": [
    "filtered[:10]"
   ]
  },
  {
   "cell_type": "code",
   "execution_count": null,
   "metadata": {
    "collapsed": false,
    "run_control": {
     "frozen": false,
     "read_only": false
    }
   },
   "outputs": [],
   "source": [
    "filteredL[:10]/4"
   ]
  },
  {
   "cell_type": "code",
   "execution_count": null,
   "metadata": {
    "collapsed": false,
    "run_control": {
     "frozen": false,
     "read_only": false
    }
   },
   "outputs": [],
   "source": [
    "minmax_dt=np.dtype([('filtered','i4'),('low','i4'),('high','i4'),('clk','i4')])\n",
    "minmax=Data.fromfile('minmax',minmax_dt,'teslib','measurement_subsystem_TB',tool='vivado')\n",
    "fxing_dt=np.dtype([('extrema','i4'),('area','i4'),('clk','i4')])\n",
    "fxing=Data.fromfile('filteredxing',fxing_dt,'teslib','measurement_subsystem_TB',tool='vivado')"
   ]
  },
  {
   "cell_type": "code",
   "execution_count": null,
   "metadata": {
    "collapsed": false,
    "run_control": {
     "frozen": false,
     "read_only": false
    }
   },
   "outputs": [],
   "source": [
    "minmax"
   ]
  },
  {
   "cell_type": "code",
   "execution_count": null,
   "metadata": {
    "collapsed": false,
    "run_control": {
     "frozen": false,
     "read_only": false
    }
   },
   "outputs": [],
   "source": [
    "fxing"
   ]
  },
  {
   "cell_type": "code",
   "execution_count": null,
   "metadata": {
    "collapsed": false,
    "run_control": {
     "frozen": false,
     "read_only": false
    }
   },
   "outputs": [],
   "source": [
    "np.where(fxing['area']==0)"
   ]
  },
  {
   "cell_type": "code",
   "execution_count": null,
   "metadata": {
    "collapsed": false,
    "run_control": {
     "frozen": false,
     "read_only": false
    }
   },
   "outputs": [],
   "source": [
    "np.where(fxing['extrema']==0)"
   ]
  },
  {
   "cell_type": "code",
   "execution_count": null,
   "metadata": {
    "collapsed": false,
    "run_control": {
     "frozen": false,
     "read_only": false
    }
   },
   "outputs": [],
   "source": [
    "fxing[30]"
   ]
  },
  {
   "cell_type": "code",
   "execution_count": null,
   "metadata": {
    "collapsed": false,
    "run_control": {
     "frozen": false,
     "read_only": false
    }
   },
   "outputs": [],
   "source": [
    "exn=np.where(fxing['extrema']<0)\n",
    "clkn=np.where(fxing['clk']>0)"
   ]
  },
  {
   "cell_type": "code",
   "execution_count": null,
   "metadata": {
    "collapsed": true,
    "run_control": {
     "frozen": false,
     "read_only": false
    }
   },
   "outputs": [],
   "source": []
  },
  {
   "cell_type": "code",
   "execution_count": null,
   "metadata": {
    "collapsed": false,
    "run_control": {
     "frozen": false,
     "read_only": false
    }
   },
   "outputs": [],
   "source": [
    "fxing[374]"
   ]
  },
  {
   "cell_type": "code",
   "execution_count": null,
   "metadata": {
    "collapsed": false,
    "run_control": {
     "frozen": false,
     "read_only": false
    }
   },
   "outputs": [],
   "source": [
    "clkn"
   ]
  },
  {
   "cell_type": "code",
   "execution_count": null,
   "metadata": {
    "collapsed": false,
    "run_control": {
     "frozen": false,
     "read_only": false
    }
   },
   "outputs": [],
   "source": [
    "np.where(minmax[maxs[0]-1]['min']!=1)"
   ]
  },
  {
   "cell_type": "code",
   "execution_count": null,
   "metadata": {
    "collapsed": false,
    "run_control": {
     "frozen": false,
     "read_only": false
    }
   },
   "outputs": [],
   "source": [
    "minmax[maxs[0]-1][65]"
   ]
  },
  {
   "cell_type": "code",
   "execution_count": null,
   "metadata": {
    "collapsed": false,
    "run_control": {
     "frozen": false,
     "read_only": false
    }
   },
   "outputs": [],
   "source": [
    "2290-925"
   ]
  },
  {
   "cell_type": "code",
   "execution_count": null,
   "metadata": {
    "collapsed": false,
    "run_control": {
     "frozen": false,
     "read_only": false
    }
   },
   "outputs": [],
   "source": [
    "0.375*4"
   ]
  },
  {
   "cell_type": "code",
   "execution_count": null,
   "metadata": {
    "collapsed": false,
    "run_control": {
     "frozen": false,
     "read_only": false
    }
   },
   "outputs": [],
   "source": [
    "np.where(minmax['clock']==2290)"
   ]
  },
  {
   "cell_type": "code",
   "execution_count": null,
   "metadata": {
    "collapsed": false,
    "run_control": {
     "frozen": false,
     "read_only": false
    }
   },
   "outputs": [],
   "source": [
    "minmax[120:140]"
   ]
  },
  {
   "cell_type": "code",
   "execution_count": null,
   "metadata": {
    "collapsed": false,
    "run_control": {
     "frozen": false,
     "read_only": false
    }
   },
   "outputs": [],
   "source": [
    "stream_dt=np.dtype([('data','>i4'),('last','i4')])\n",
    "#stream=np.fromfile('data/stream',stream_dt)"
   ]
  },
  {
   "cell_type": "markdown",
   "metadata": {},
   "source": [
    "### bytestream stuff"
   ]
  },
  {
   "cell_type": "code",
   "execution_count": null,
   "metadata": {
    "collapsed": false,
    "run_control": {
     "frozen": false,
     "read_only": false
    }
   },
   "outputs": [],
   "source": [
    "stream_dt=np.dtype([('data','i4'),('last','i4')])\n",
    "stream=Data.fromfile('bytestream',stream_dt,'teslib','measurement_subsystem_TB',tool='vivado')\n",
    "lasts=np.where(stream['last']<=0)[0]+1\n",
    "#data=np.copy(stream['data'])"
   ]
  },
  {
   "cell_type": "code",
   "execution_count": null,
   "metadata": {
    "collapsed": false,
    "run_control": {
     "frozen": false,
     "read_only": false
    }
   },
   "outputs": [],
   "source": [
    "stream"
   ]
  },
  {
   "cell_type": "code",
   "execution_count": null,
   "metadata": {
    "collapsed": true,
    "run_control": {
     "frozen": false,
     "read_only": false
    }
   },
   "outputs": [],
   "source": []
  },
  {
   "cell_type": "code",
   "execution_count": null,
   "metadata": {
    "collapsed": true,
    "run_control": {
     "frozen": false,
     "read_only": false
    }
   },
   "outputs": [],
   "source": [
    "stream=np.fromfile('data/bytestream',stream_dt)"
   ]
  },
  {
   "cell_type": "code",
   "execution_count": null,
   "metadata": {
    "collapsed": false,
    "run_control": {
     "frozen": false,
     "read_only": false
    }
   },
   "outputs": [],
   "source": [
    "bs=PacketStream(stream)"
   ]
  },
  {
   "cell_type": "code",
   "execution_count": null,
   "metadata": {
    "collapsed": false,
    "run_control": {
     "frozen": false,
     "read_only": false
    }
   },
   "outputs": [],
   "source": [
    "bs.packets"
   ]
  },
  {
   "cell_type": "code",
   "execution_count": null,
   "metadata": {
    "collapsed": false,
    "run_control": {
     "frozen": false,
     "read_only": false
    }
   },
   "outputs": [],
   "source": [
    "bs.packets[4]"
   ]
  },
  {
   "cell_type": "code",
   "execution_count": null,
   "metadata": {
    "collapsed": true,
    "run_control": {
     "frozen": false,
     "read_only": false
    }
   },
   "outputs": [],
   "source": [
    "eheader_dt=[('etype','<u2'),('length','u2'),()]"
   ]
  },
  {
   "cell_type": "code",
   "execution_count": null,
   "metadata": {
    "collapsed": false,
    "run_control": {
     "frozen": false,
     "read_only": false
    }
   },
   "outputs": [],
   "source": [
    "'{:X}'.format(bs.packets[1].bytes[23])\n"
   ]
  },
  {
   "cell_type": "code",
   "execution_count": null,
   "metadata": {
    "collapsed": false,
    "run_control": {
     "frozen": false,
     "read_only": false
    }
   },
   "outputs": [],
   "source": [
    "'{:X}'.format(bs.packets[0].bytes[28:30].view(np.uint16)[0])"
   ]
  },
  {
   "cell_type": "code",
   "execution_count": null,
   "metadata": {
    "collapsed": true,
    "run_control": {
     "frozen": false,
     "read_only": false
    }
   },
   "outputs": [],
   "source": [
    "pulse_peak_dt=np.dtype([('height','i2'),('rise','i2'),('minima','u2'),('time','i2')])\n",
    "pulse_dt=np.dtype([('size','i2'),('resv','i2'),('flags','i2'),('time','u2'),\n",
    "                  ('area','i4'),('length','i2'),('offset','i2'),('peaks',(pulse_peak_dt,2))])"
   ]
  },
  {
   "cell_type": "code",
   "execution_count": null,
   "metadata": {
    "collapsed": false,
    "run_control": {
     "frozen": false,
     "read_only": false
    }
   },
   "outputs": [],
   "source": [
    "pulses=bs.packets[3].payload.view(pulse_dt)"
   ]
  },
  {
   "cell_type": "code",
   "execution_count": null,
   "metadata": {
    "collapsed": false,
    "run_control": {
     "frozen": false,
     "read_only": false
    }
   },
   "outputs": [],
   "source": [
    "pulses['peaks']"
   ]
  },
  {
   "cell_type": "code",
   "execution_count": null,
   "metadata": {
    "collapsed": false,
    "run_control": {
     "frozen": false,
     "read_only": false
    }
   },
   "outputs": [],
   "source": [
    "pulses['offset']"
   ]
  },
  {
   "cell_type": "code",
   "execution_count": null,
   "metadata": {
    "collapsed": false,
    "run_control": {
     "frozen": false,
     "read_only": false
    }
   },
   "outputs": [],
   "source": [
    "pulses['length']"
   ]
  },
  {
   "cell_type": "code",
   "execution_count": null,
   "metadata": {
    "collapsed": false,
    "run_control": {
     "frozen": false,
     "read_only": false
    }
   },
   "outputs": [],
   "source": [
    "class eflags:\n",
    "    def __init__(self,uint16):\n",
    "        self.new_window=np.bitwise_and(uint16,0x00000001)!=0\n",
    "        self.tick=np.bitwise_and(uint16,0x00000002)!=0\n",
    "        self.type=np.right_shift(np.bitwise_and(uint16,0x0000000c),2)\n",
    "        \n",
    "    def __repr__(self):\n",
    "        return 'New window:{:}\\n'.format(self.new_window) + \\\n",
    "               'Tick:{:}\\n'.format(self.tick) + \\\n",
    "               'Type:{:}\\n'.format(self.type) "
   ]
  },
  {
   "cell_type": "code",
   "execution_count": null,
   "metadata": {
    "collapsed": false,
    "run_control": {
     "frozen": false,
     "read_only": false
    }
   },
   "outputs": [],
   "source": [
    "f=eflags(pulses[0]['flags'])\n",
    "f"
   ]
  },
  {
   "cell_type": "code",
   "execution_count": null,
   "metadata": {
    "collapsed": false,
    "run_control": {
     "frozen": false,
     "read_only": false
    }
   },
   "outputs": [],
   "source": [
    "'{:X}'.format(bs.packets[3].bytes[13:14].view(np.uint16))"
   ]
  },
  {
   "cell_type": "code",
   "execution_count": null,
   "metadata": {
    "collapsed": true,
    "run_control": {
     "frozen": false,
     "read_only": false
    }
   },
   "outputs": [],
   "source": []
  },
  {
   "cell_type": "code",
   "execution_count": null,
   "metadata": {
    "collapsed": false,
    "run_control": {
     "frozen": false,
     "read_only": false
    }
   },
   "outputs": [],
   "source": [
    "'{:X}'.format(bs.packets[3].bytes[14:16].view(np.uint16)[0])"
   ]
  },
  {
   "cell_type": "code",
   "execution_count": null,
   "metadata": {
    "collapsed": false,
    "run_control": {
     "frozen": false,
     "read_only": false
    }
   },
   "outputs": [],
   "source": [
    "bs.packets[3].bytes[14:16].view(np.uint16)[0]"
   ]
  },
  {
   "cell_type": "code",
   "execution_count": null,
   "metadata": {
    "collapsed": false,
    "run_control": {
     "frozen": false,
     "read_only": false
    }
   },
   "outputs": [],
   "source": [
    "bs=np.uint8(stream['data'][:48])"
   ]
  },
  {
   "cell_type": "code",
   "execution_count": null,
   "metadata": {
    "collapsed": false,
    "run_control": {
     "frozen": false,
     "read_only": false
    }
   },
   "outputs": [],
   "source": [
    "bs"
   ]
  },
  {
   "cell_type": "code",
   "execution_count": null,
   "metadata": {
    "collapsed": false,
    "run_control": {
     "frozen": false,
     "read_only": false
    }
   },
   "outputs": [],
   "source": [
    "events=stream['data'].view(event_dt)"
   ]
  },
  {
   "cell_type": "code",
   "execution_count": null,
   "metadata": {
    "collapsed": false,
    "run_control": {
     "frozen": false,
     "read_only": false
    }
   },
   "outputs": [],
   "source": [
    "'{:X}'.format(events['flags'][0])"
   ]
  },
  {
   "cell_type": "code",
   "execution_count": null,
   "metadata": {
    "collapsed": false,
    "run_control": {
     "frozen": false,
     "read_only": false
    }
   },
   "outputs": [],
   "source": [
    "events['rise']"
   ]
  },
  {
   "cell_type": "code",
   "execution_count": null,
   "metadata": {
    "collapsed": false,
    "run_control": {
     "frozen": false,
     "read_only": false
    }
   },
   "outputs": [],
   "source": [
    "events"
   ]
  },
  {
   "cell_type": "code",
   "execution_count": null,
   "metadata": {
    "collapsed": false,
    "run_control": {
     "frozen": false,
     "read_only": false
    }
   },
   "outputs": [],
   "source": [
    "'{:04X}'.format(events['flags'][1])"
   ]
  },
  {
   "cell_type": "code",
   "execution_count": null,
   "metadata": {
    "collapsed": true,
    "run_control": {
     "frozen": false,
     "read_only": false
    }
   },
   "outputs": [],
   "source": [
    "pulse_peak_dt=np.dtype([('time','>i2'),('minima','>i2'),('rise','>u2'),('height','>i2')])\n",
    "pulse_dt=np.dtype([('time','>i2'),('flags','>i2'),('resv','>i2'),('size','>u2'),\n",
    "                  ('offset','>i2'),('length','>i2'),('area','>i4'),('peaks',(pulse_peak_dt,1))])\n",
    "data=np.copy(stream['data'])"
   ]
  },
  {
   "cell_type": "code",
   "execution_count": null,
   "metadata": {
    "collapsed": false,
    "run_control": {
     "frozen": false,
     "read_only": false
    }
   },
   "outputs": [],
   "source": [
    "pulses=data.view(pulse_dt)"
   ]
  },
  {
   "cell_type": "code",
   "execution_count": null,
   "metadata": {
    "collapsed": false,
    "run_control": {
     "frozen": false,
     "read_only": false
    }
   },
   "outputs": [],
   "source": [
    "pulses['peaks']['height']-pulses['peaks']['minima']"
   ]
  },
  {
   "cell_type": "code",
   "execution_count": null,
   "metadata": {
    "collapsed": false,
    "run_control": {
     "frozen": false,
     "read_only": false
    }
   },
   "outputs": [],
   "source": [
    "pulses['peaks']['minima']"
   ]
  },
  {
   "cell_type": "code",
   "execution_count": null,
   "metadata": {
    "collapsed": false,
    "run_control": {
     "frozen": false,
     "read_only": false
    }
   },
   "outputs": [],
   "source": [
    "peak_count=np.right_shift(np.bitwise_and(pulses['flags'],0xF000),12)\n",
    "peak_overflow=np.bitwise_and(pulses['flags'],0x0800)!=0\n",
    "channel=np.right_shift(np.bitwise_and(pulses['flags'],0x0700),8)\n",
    "timing_type=np.right_shift(np.bitwise_and(pulses['flags'],0x00C0),6)\n",
    "height_type=np.right_shift(np.bitwise_and(pulses['flags'],0x0030),4)\n",
    "event_type=np.right_shift(np.bitwise_and(pulses['flags'],0x000E),1)\n",
    "new_window=np.bitwise_and(pulses['flags'],0x0001)!=0"
   ]
  },
  {
   "cell_type": "code",
   "execution_count": null,
   "metadata": {
    "collapsed": false,
    "run_control": {
     "frozen": false,
     "read_only": false
    }
   },
   "outputs": [],
   "source": [
    "peak_overflow"
   ]
  },
  {
   "cell_type": "code",
   "execution_count": null,
   "metadata": {
    "collapsed": true,
    "run_control": {
     "frozen": false,
     "read_only": false
    }
   },
   "outputs": [],
   "source": [
    "test_dt=np.dtype(\n",
    "    [('time','i2'),('flags','i2'),('rise','u2'),('minima','i2'),('low','u8'),('high','u8')]\n",
    ")\n",
    "test=data.view(test_dt)"
   ]
  },
  {
   "cell_type": "code",
   "execution_count": null,
   "metadata": {
    "collapsed": false,
    "run_control": {
     "frozen": false,
     "read_only": false
    }
   },
   "outputs": [],
   "source": [
    "test"
   ]
  },
  {
   "cell_type": "code",
   "execution_count": null,
   "metadata": {
    "collapsed": false,
    "run_control": {
     "frozen": false,
     "read_only": false
    }
   },
   "outputs": [],
   "source": [
    "test['minima']"
   ]
  },
  {
   "cell_type": "code",
   "execution_count": null,
   "metadata": {
    "collapsed": false,
    "run_control": {
     "frozen": false,
     "read_only": false
    }
   },
   "outputs": [],
   "source": [
    "low1=np.int32(np.right_shift(np.bitwise_and(test['low'],0x03FFFF000000000),36))\n",
    "s=(np.bitwise_and(low1,0x00020000)!=0)*0xFFFC0000\n",
    "low2=np.int32(np.right_shift(np.bitwise_and(test['low'],0x000000FFFFC0000),18))\n",
    "low_threshold=np.int32(np.bitwise_and(test['low'],0x00000000003FFFF))\n",
    "high1=np.int32(np.right_shift(np.bitwise_and(test['high'],0x03FFFF000000000),36))\n",
    "high2=np.int32(np.right_shift(np.bitwise_and(test['high'],0x000000FFFFC0000),18))\n",
    "high_threshold=np.int32(np.bitwise_and(test['high'],0x00000000003FFFF))"
   ]
  },
  {
   "cell_type": "code",
   "execution_count": null,
   "metadata": {
    "collapsed": false,
    "run_control": {
     "frozen": false,
     "read_only": false
    }
   },
   "outputs": [],
   "source": [
    "np.int32(np.bitwise_or(low1,s))/8.0"
   ]
  },
  {
   "cell_type": "code",
   "execution_count": null,
   "metadata": {
    "collapsed": false,
    "run_control": {
     "frozen": false,
     "read_only": false
    }
   },
   "outputs": [],
   "source": [
    "'{:04X}'.format(low1[0])"
   ]
  },
  {
   "cell_type": "code",
   "execution_count": null,
   "metadata": {
    "collapsed": false,
    "run_control": {
     "frozen": false,
     "read_only": false
    }
   },
   "outputs": [],
   "source": [
    "high1/8.0"
   ]
  },
  {
   "cell_type": "code",
   "execution_count": null,
   "metadata": {
    "collapsed": false,
    "run_control": {
     "frozen": false,
     "read_only": false
    }
   },
   "outputs": [],
   "source": [
    "high2/8.0"
   ]
  },
  {
   "cell_type": "code",
   "execution_count": null,
   "metadata": {
    "collapsed": false,
    "run_control": {
     "frozen": false,
     "read_only": false
    }
   },
   "outputs": [],
   "source": [
    "'{:04X}'.format(high_threshold[0])"
   ]
  },
  {
   "cell_type": "code",
   "execution_count": null,
   "metadata": {
    "collapsed": false,
    "run_control": {
     "frozen": false,
     "read_only": false
    }
   },
   "outputs": [],
   "source": [
    "from enum import Enum"
   ]
  },
  {
   "cell_type": "code",
   "execution_count": null,
   "metadata": {
    "collapsed": false,
    "run_control": {
     "frozen": false,
     "read_only": false
    }
   },
   "outputs": [],
   "source": [
    "class VhdlEnum(int, Enum):\n",
    "\n",
    "    def __str__(self):\n",
    "        return self.name.replace(\"-\", \" \")\n",
    "    \n",
    "    def select(self):\n",
    "        return pow(2, self.value)\n",
    "    "
   ]
  },
  {
   "cell_type": "code",
   "execution_count": null,
   "metadata": {
    "collapsed": false,
    "run_control": {
     "frozen": false,
     "read_only": false
    }
   },
   "outputs": [],
   "source": [
    "class Test(VhdlEnum):\n",
    "    a=0\n",
    "    b=1"
   ]
  },
  {
   "cell_type": "code",
   "execution_count": null,
   "metadata": {
    "collapsed": false,
    "run_control": {
     "frozen": false,
     "read_only": false
    }
   },
   "outputs": [],
   "source": [
    "Test(0)"
   ]
  },
  {
   "cell_type": "code",
   "execution_count": null,
   "metadata": {
    "collapsed": true,
    "run_control": {
     "frozen": false,
     "read_only": false
    }
   },
   "outputs": [],
   "source": []
  }
 ],
 "metadata": {
  "anaconda-cloud": {},
  "kernelspec": {
   "display_name": "Python [conda root]",
   "language": "python",
   "name": "conda-root-py"
  },
  "language_info": {
   "codemirror_mode": {
    "name": "ipython",
    "version": 3
   },
   "file_extension": ".py",
   "mimetype": "text/x-python",
   "name": "python",
   "nbconvert_exporter": "python",
   "pygments_lexer": "ipython3",
   "version": "3.5.3"
  }
 },
 "nbformat": 4,
 "nbformat_minor": 1
}
