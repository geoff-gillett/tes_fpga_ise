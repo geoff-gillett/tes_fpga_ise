{
 "cells": [
  {
   "cell_type": "markdown",
   "metadata": {},
   "source": [
    "timestamp 0 => clk 20\n",
    "\n",
    "traces start at clk 1"
   ]
  },
  {
   "cell_type": "code",
   "execution_count": null,
   "metadata": {
    "collapsed": false,
    "run_control": {
     "frozen": false,
     "read_only": false
    }
   },
   "outputs": [],
   "source": [
    "#Mac\n",
    "import sys\n",
    "sys.path.append('../../../../interface/python')"
   ]
  },
  {
   "cell_type": "code",
   "execution_count": 8,
   "metadata": {
    "collapsed": false,
    "run_control": {
     "frozen": false,
     "read_only": false
    }
   },
   "outputs": [],
   "source": [
    "from tes.data import Data,PacketStream,Packet,Payload,EventFlags,Event\n",
    "import numpy as np\n",
    "import matplotlib.pyplot as plt"
   ]
  },
  {
   "cell_type": "code",
   "execution_count": 9,
   "metadata": {
    "code_folding": [],
    "collapsed": false,
    "run_control": {
     "frozen": false,
     "read_only": false
    }
   },
   "outputs": [],
   "source": [
    "#NOTE traces[0] corresponts to clk=1\n",
    "trace_dt=np.dtype([('raw','i4'),('filtered','i4'),('slope','i4'),('filteredL','i4')])\n",
    "stream_dt=np.dtype([('data','i4'),('last','i4')])\n",
    "minmax_dt=np.dtype(\n",
    "    [\n",
    "        ('filtered','i4'),('timing_threshold','i4'),\n",
    "        ('height_threshold','i4'),('slope_extrema','i4'),('slope_area','i4'),('clk','i4')\n",
    "    ]\n",
    ")\n",
    "cfd_dt=np.dtype('i4')\n",
    "filteredxing_dt=np.dtype([('extrema','i4'),('area','i4'),('clk','i4')])"
   ]
  },
  {
   "cell_type": "code",
   "execution_count": null,
   "metadata": {
    "collapsed": false,
    "run_control": {
     "frozen": false,
     "read_only": false
    }
   },
   "outputs": [],
   "source": [
    "traces=np.fromfile('data/traces',trace_dt)\n",
    "stream=np.fromfile('data/bytestream',stream_dt)\n",
    "minmax=np.fromfile('data/minmax',minmax_dt)\n",
    "cfd=np.fromfile('data/cfd',cfd_dt)\n",
    "filteredxing=np.fromfile('data/filteredxing',filteredxing_dt)"
   ]
  },
  {
   "cell_type": "code",
   "execution_count": 26,
   "metadata": {
    "collapsed": false,
    "run_control": {
     "frozen": false,
     "read_only": false
    },
    "scrolled": true
   },
   "outputs": [],
   "source": [
    "traces=Data.fromfile('traces',trace_dt,'teslib','measurement_subsystem_TB',tool='vivado')\n",
    "stream=Data.fromfile('bytestream',stream_dt,'teslib','measurement_subsystem_TB',tool='vivado')\n",
    "minmax=Data.fromfile('minmax',minmax_dt,'teslib','measurement_subsystem_TB',tool='vivado')\n",
    "cfd=Data.fromfile('cfd',cfd_dt,'teslib','measurement_subsystem_TB',tool='vivado')\n",
    "filteredxing=Data.fromfile(\n",
    "    'filteredxing',filteredxing_dt,'teslib','measurement_subsystem_TB',tool='vivado'\n",
    ")"
   ]
  },
  {
   "cell_type": "code",
   "execution_count": null,
   "metadata": {
    "collapsed": false,
    "run_control": {
     "frozen": false,
     "read_only": false
    },
    "scrolled": true
   },
   "outputs": [],
   "source": [
    "# Mac\n",
    "traces=Data.fromfile(\n",
    "    'traces',trace_dt,'teslib','measurement_subsystem_TB',tool='vivado',\n",
    "    root='/Volumes/C/'\n",
    ")\n",
    "stream=Data.fromfile(\n",
    "    'bytestream',stream_dt,'teslib','measurement_subsystem_TB',tool='vivado',\n",
    "    root='/Volumes/C/'\n",
    ")\n",
    "minmax=Data.fromfile(\n",
    "    'minmax',minmax_dt,'teslib','measurement_subsystem_TB',tool='vivado',\n",
    "    root='/Volumes/C/'\n",
    ")\n",
    "cfd=Data.fromfile(\n",
    "    'cfd',cfd_dt,'teslib','measurement_subsystem_TB',tool='vivado',\n",
    "    root='/Volumes/C/'\n",
    ")\n",
    "filteredxing=Data.fromfile(\n",
    "    'filteredxing',filteredxing_dt,'teslib','measurement_subsystem_TB',\n",
    "    tool='vivado',root='/Volumes/C/'\n",
    ")"
   ]
  },
  {
   "cell_type": "code",
   "execution_count": 4,
   "metadata": {
    "collapsed": true
   },
   "outputs": [],
   "source": [
    "def plot_event(event_tupple):\n",
    "    pre=200\n",
    "    post=1000\n",
    "    timestamp=event_tupple[0]\n",
    "    event_type=event_tupple[1]\n",
    "    event=event_tupple[2]\n",
    "    flags=EventFlags(event['flags'])\n",
    "    print(flags)\n",
    "    print('timestamp',timestamp, 'time', event['time'],'height',event['height'],'min',event['minima'])\n",
    "    if flags.type == Event.tick:\n",
    "        return\n",
    "    s=traces['filtered'][timestamp+20-pre:timestamp+20+post]\n",
    "    r=traces['raw'][timestamp+20-pre:timestamp+20+post]\n",
    "    i = np.where(abs(minmax['clk'])<=timestamp+20)[0][-1]\n",
    "    min_t=abs(minmax['clk'][i])-(timestamp+20)\n",
    "#     print(minmax['clk'][i],min_t,i,timestamp)\n",
    "    #plt.plot(r,'k',linewidth=0.5)\n",
    "    plt.plot(s,'b',linewidth=1)\n",
    "    #plt.plot([pre],s[pre],'sg')\n",
    "    #plt.plot([pre+min_t],minmax['filtered'][i],'sr')\n",
    "    if event_type==Event.pulse:\n",
    "        for i in range(flags.peak_number):\n",
    "            p=event['peaks'][i]\n",
    "            plt.plot([0,len(s)-1],[p['height'],p['height']],':r')\n",
    "    else:\n",
    "      plt.plot([0,len(s)-1],[event['height'],event['height']],':r')\n",
    "        \n",
    "    #print(event['height'],event['minima'])\n",
    "    #print(minmax['filtered'][i]==s[pre+min_t])\n",
    "    #print(minmax['filtered'][i]==event['minima'])\n",
    "    #print(s[pre],s[pre-1])"
   ]
  },
  {
   "cell_type": "code",
   "execution_count": 27,
   "metadata": {
    "collapsed": false,
    "run_control": {
     "frozen": false,
     "read_only": false
    },
    "scrolled": false
   },
   "outputs": [
    {
     "data": {
      "application/javascript": [
       "/* Put everything inside the global mpl namespace */\n",
       "window.mpl = {};\n",
       "\n",
       "\n",
       "mpl.get_websocket_type = function() {\n",
       "    if (typeof(WebSocket) !== 'undefined') {\n",
       "        return WebSocket;\n",
       "    } else if (typeof(MozWebSocket) !== 'undefined') {\n",
       "        return MozWebSocket;\n",
       "    } else {\n",
       "        alert('Your browser does not have WebSocket support.' +\n",
       "              'Please try Chrome, Safari or Firefox ≥ 6. ' +\n",
       "              'Firefox 4 and 5 are also supported but you ' +\n",
       "              'have to enable WebSockets in about:config.');\n",
       "    };\n",
       "}\n",
       "\n",
       "mpl.figure = function(figure_id, websocket, ondownload, parent_element) {\n",
       "    this.id = figure_id;\n",
       "\n",
       "    this.ws = websocket;\n",
       "\n",
       "    this.supports_binary = (this.ws.binaryType != undefined);\n",
       "\n",
       "    if (!this.supports_binary) {\n",
       "        var warnings = document.getElementById(\"mpl-warnings\");\n",
       "        if (warnings) {\n",
       "            warnings.style.display = 'block';\n",
       "            warnings.textContent = (\n",
       "                \"This browser does not support binary websocket messages. \" +\n",
       "                    \"Performance may be slow.\");\n",
       "        }\n",
       "    }\n",
       "\n",
       "    this.imageObj = new Image();\n",
       "\n",
       "    this.context = undefined;\n",
       "    this.message = undefined;\n",
       "    this.canvas = undefined;\n",
       "    this.rubberband_canvas = undefined;\n",
       "    this.rubberband_context = undefined;\n",
       "    this.format_dropdown = undefined;\n",
       "\n",
       "    this.image_mode = 'full';\n",
       "\n",
       "    this.root = $('<div/>');\n",
       "    this._root_extra_style(this.root)\n",
       "    this.root.attr('style', 'display: inline-block');\n",
       "\n",
       "    $(parent_element).append(this.root);\n",
       "\n",
       "    this._init_header(this);\n",
       "    this._init_canvas(this);\n",
       "    this._init_toolbar(this);\n",
       "\n",
       "    var fig = this;\n",
       "\n",
       "    this.waiting = false;\n",
       "\n",
       "    this.ws.onopen =  function () {\n",
       "            fig.send_message(\"supports_binary\", {value: fig.supports_binary});\n",
       "            fig.send_message(\"send_image_mode\", {});\n",
       "            if (mpl.ratio != 1) {\n",
       "                fig.send_message(\"set_dpi_ratio\", {'dpi_ratio': mpl.ratio});\n",
       "            }\n",
       "            fig.send_message(\"refresh\", {});\n",
       "        }\n",
       "\n",
       "    this.imageObj.onload = function() {\n",
       "            if (fig.image_mode == 'full') {\n",
       "                // Full images could contain transparency (where diff images\n",
       "                // almost always do), so we need to clear the canvas so that\n",
       "                // there is no ghosting.\n",
       "                fig.context.clearRect(0, 0, fig.canvas.width, fig.canvas.height);\n",
       "            }\n",
       "            fig.context.drawImage(fig.imageObj, 0, 0);\n",
       "        };\n",
       "\n",
       "    this.imageObj.onunload = function() {\n",
       "        this.ws.close();\n",
       "    }\n",
       "\n",
       "    this.ws.onmessage = this._make_on_message_function(this);\n",
       "\n",
       "    this.ondownload = ondownload;\n",
       "}\n",
       "\n",
       "mpl.figure.prototype._init_header = function() {\n",
       "    var titlebar = $(\n",
       "        '<div class=\"ui-dialog-titlebar ui-widget-header ui-corner-all ' +\n",
       "        'ui-helper-clearfix\"/>');\n",
       "    var titletext = $(\n",
       "        '<div class=\"ui-dialog-title\" style=\"width: 100%; ' +\n",
       "        'text-align: center; padding: 3px;\"/>');\n",
       "    titlebar.append(titletext)\n",
       "    this.root.append(titlebar);\n",
       "    this.header = titletext[0];\n",
       "}\n",
       "\n",
       "\n",
       "\n",
       "mpl.figure.prototype._canvas_extra_style = function(canvas_div) {\n",
       "\n",
       "}\n",
       "\n",
       "\n",
       "mpl.figure.prototype._root_extra_style = function(canvas_div) {\n",
       "\n",
       "}\n",
       "\n",
       "mpl.figure.prototype._init_canvas = function() {\n",
       "    var fig = this;\n",
       "\n",
       "    var canvas_div = $('<div/>');\n",
       "\n",
       "    canvas_div.attr('style', 'position: relative; clear: both; outline: 0');\n",
       "\n",
       "    function canvas_keyboard_event(event) {\n",
       "        return fig.key_event(event, event['data']);\n",
       "    }\n",
       "\n",
       "    canvas_div.keydown('key_press', canvas_keyboard_event);\n",
       "    canvas_div.keyup('key_release', canvas_keyboard_event);\n",
       "    this.canvas_div = canvas_div\n",
       "    this._canvas_extra_style(canvas_div)\n",
       "    this.root.append(canvas_div);\n",
       "\n",
       "    var canvas = $('<canvas/>');\n",
       "    canvas.addClass('mpl-canvas');\n",
       "    canvas.attr('style', \"left: 0; top: 0; z-index: 0; outline: 0\")\n",
       "\n",
       "    this.canvas = canvas[0];\n",
       "    this.context = canvas[0].getContext(\"2d\");\n",
       "\n",
       "    var backingStore = this.context.backingStorePixelRatio ||\n",
       "\tthis.context.webkitBackingStorePixelRatio ||\n",
       "\tthis.context.mozBackingStorePixelRatio ||\n",
       "\tthis.context.msBackingStorePixelRatio ||\n",
       "\tthis.context.oBackingStorePixelRatio ||\n",
       "\tthis.context.backingStorePixelRatio || 1;\n",
       "\n",
       "    mpl.ratio = (window.devicePixelRatio || 1) / backingStore;\n",
       "\n",
       "    var rubberband = $('<canvas/>');\n",
       "    rubberband.attr('style', \"position: absolute; left: 0; top: 0; z-index: 1;\")\n",
       "\n",
       "    var pass_mouse_events = true;\n",
       "\n",
       "    canvas_div.resizable({\n",
       "        start: function(event, ui) {\n",
       "            pass_mouse_events = false;\n",
       "        },\n",
       "        resize: function(event, ui) {\n",
       "            fig.request_resize(ui.size.width, ui.size.height);\n",
       "        },\n",
       "        stop: function(event, ui) {\n",
       "            pass_mouse_events = true;\n",
       "            fig.request_resize(ui.size.width, ui.size.height);\n",
       "        },\n",
       "    });\n",
       "\n",
       "    function mouse_event_fn(event) {\n",
       "        if (pass_mouse_events)\n",
       "            return fig.mouse_event(event, event['data']);\n",
       "    }\n",
       "\n",
       "    rubberband.mousedown('button_press', mouse_event_fn);\n",
       "    rubberband.mouseup('button_release', mouse_event_fn);\n",
       "    // Throttle sequential mouse events to 1 every 20ms.\n",
       "    rubberband.mousemove('motion_notify', mouse_event_fn);\n",
       "\n",
       "    rubberband.mouseenter('figure_enter', mouse_event_fn);\n",
       "    rubberband.mouseleave('figure_leave', mouse_event_fn);\n",
       "\n",
       "    canvas_div.on(\"wheel\", function (event) {\n",
       "        event = event.originalEvent;\n",
       "        event['data'] = 'scroll'\n",
       "        if (event.deltaY < 0) {\n",
       "            event.step = 1;\n",
       "        } else {\n",
       "            event.step = -1;\n",
       "        }\n",
       "        mouse_event_fn(event);\n",
       "    });\n",
       "\n",
       "    canvas_div.append(canvas);\n",
       "    canvas_div.append(rubberband);\n",
       "\n",
       "    this.rubberband = rubberband;\n",
       "    this.rubberband_canvas = rubberband[0];\n",
       "    this.rubberband_context = rubberband[0].getContext(\"2d\");\n",
       "    this.rubberband_context.strokeStyle = \"#000000\";\n",
       "\n",
       "    this._resize_canvas = function(width, height) {\n",
       "        // Keep the size of the canvas, canvas container, and rubber band\n",
       "        // canvas in synch.\n",
       "        canvas_div.css('width', width)\n",
       "        canvas_div.css('height', height)\n",
       "\n",
       "        canvas.attr('width', width * mpl.ratio);\n",
       "        canvas.attr('height', height * mpl.ratio);\n",
       "        canvas.attr('style', 'width: ' + width + 'px; height: ' + height + 'px;');\n",
       "\n",
       "        rubberband.attr('width', width);\n",
       "        rubberband.attr('height', height);\n",
       "    }\n",
       "\n",
       "    // Set the figure to an initial 600x600px, this will subsequently be updated\n",
       "    // upon first draw.\n",
       "    this._resize_canvas(600, 600);\n",
       "\n",
       "    // Disable right mouse context menu.\n",
       "    $(this.rubberband_canvas).bind(\"contextmenu\",function(e){\n",
       "        return false;\n",
       "    });\n",
       "\n",
       "    function set_focus () {\n",
       "        canvas.focus();\n",
       "        canvas_div.focus();\n",
       "    }\n",
       "\n",
       "    window.setTimeout(set_focus, 100);\n",
       "}\n",
       "\n",
       "mpl.figure.prototype._init_toolbar = function() {\n",
       "    var fig = this;\n",
       "\n",
       "    var nav_element = $('<div/>')\n",
       "    nav_element.attr('style', 'width: 100%');\n",
       "    this.root.append(nav_element);\n",
       "\n",
       "    // Define a callback function for later on.\n",
       "    function toolbar_event(event) {\n",
       "        return fig.toolbar_button_onclick(event['data']);\n",
       "    }\n",
       "    function toolbar_mouse_event(event) {\n",
       "        return fig.toolbar_button_onmouseover(event['data']);\n",
       "    }\n",
       "\n",
       "    for(var toolbar_ind in mpl.toolbar_items) {\n",
       "        var name = mpl.toolbar_items[toolbar_ind][0];\n",
       "        var tooltip = mpl.toolbar_items[toolbar_ind][1];\n",
       "        var image = mpl.toolbar_items[toolbar_ind][2];\n",
       "        var method_name = mpl.toolbar_items[toolbar_ind][3];\n",
       "\n",
       "        if (!name) {\n",
       "            // put a spacer in here.\n",
       "            continue;\n",
       "        }\n",
       "        var button = $('<button/>');\n",
       "        button.addClass('ui-button ui-widget ui-state-default ui-corner-all ' +\n",
       "                        'ui-button-icon-only');\n",
       "        button.attr('role', 'button');\n",
       "        button.attr('aria-disabled', 'false');\n",
       "        button.click(method_name, toolbar_event);\n",
       "        button.mouseover(tooltip, toolbar_mouse_event);\n",
       "\n",
       "        var icon_img = $('<span/>');\n",
       "        icon_img.addClass('ui-button-icon-primary ui-icon');\n",
       "        icon_img.addClass(image);\n",
       "        icon_img.addClass('ui-corner-all');\n",
       "\n",
       "        var tooltip_span = $('<span/>');\n",
       "        tooltip_span.addClass('ui-button-text');\n",
       "        tooltip_span.html(tooltip);\n",
       "\n",
       "        button.append(icon_img);\n",
       "        button.append(tooltip_span);\n",
       "\n",
       "        nav_element.append(button);\n",
       "    }\n",
       "\n",
       "    var fmt_picker_span = $('<span/>');\n",
       "\n",
       "    var fmt_picker = $('<select/>');\n",
       "    fmt_picker.addClass('mpl-toolbar-option ui-widget ui-widget-content');\n",
       "    fmt_picker_span.append(fmt_picker);\n",
       "    nav_element.append(fmt_picker_span);\n",
       "    this.format_dropdown = fmt_picker[0];\n",
       "\n",
       "    for (var ind in mpl.extensions) {\n",
       "        var fmt = mpl.extensions[ind];\n",
       "        var option = $(\n",
       "            '<option/>', {selected: fmt === mpl.default_extension}).html(fmt);\n",
       "        fmt_picker.append(option)\n",
       "    }\n",
       "\n",
       "    // Add hover states to the ui-buttons\n",
       "    $( \".ui-button\" ).hover(\n",
       "        function() { $(this).addClass(\"ui-state-hover\");},\n",
       "        function() { $(this).removeClass(\"ui-state-hover\");}\n",
       "    );\n",
       "\n",
       "    var status_bar = $('<span class=\"mpl-message\"/>');\n",
       "    nav_element.append(status_bar);\n",
       "    this.message = status_bar[0];\n",
       "}\n",
       "\n",
       "mpl.figure.prototype.request_resize = function(x_pixels, y_pixels) {\n",
       "    // Request matplotlib to resize the figure. Matplotlib will then trigger a resize in the client,\n",
       "    // which will in turn request a refresh of the image.\n",
       "    this.send_message('resize', {'width': x_pixels, 'height': y_pixels});\n",
       "}\n",
       "\n",
       "mpl.figure.prototype.send_message = function(type, properties) {\n",
       "    properties['type'] = type;\n",
       "    properties['figure_id'] = this.id;\n",
       "    this.ws.send(JSON.stringify(properties));\n",
       "}\n",
       "\n",
       "mpl.figure.prototype.send_draw_message = function() {\n",
       "    if (!this.waiting) {\n",
       "        this.waiting = true;\n",
       "        this.ws.send(JSON.stringify({type: \"draw\", figure_id: this.id}));\n",
       "    }\n",
       "}\n",
       "\n",
       "\n",
       "mpl.figure.prototype.handle_save = function(fig, msg) {\n",
       "    var format_dropdown = fig.format_dropdown;\n",
       "    var format = format_dropdown.options[format_dropdown.selectedIndex].value;\n",
       "    fig.ondownload(fig, format);\n",
       "}\n",
       "\n",
       "\n",
       "mpl.figure.prototype.handle_resize = function(fig, msg) {\n",
       "    var size = msg['size'];\n",
       "    if (size[0] != fig.canvas.width || size[1] != fig.canvas.height) {\n",
       "        fig._resize_canvas(size[0], size[1]);\n",
       "        fig.send_message(\"refresh\", {});\n",
       "    };\n",
       "}\n",
       "\n",
       "mpl.figure.prototype.handle_rubberband = function(fig, msg) {\n",
       "    var x0 = msg['x0'] / mpl.ratio;\n",
       "    var y0 = (fig.canvas.height - msg['y0']) / mpl.ratio;\n",
       "    var x1 = msg['x1'] / mpl.ratio;\n",
       "    var y1 = (fig.canvas.height - msg['y1']) / mpl.ratio;\n",
       "    x0 = Math.floor(x0) + 0.5;\n",
       "    y0 = Math.floor(y0) + 0.5;\n",
       "    x1 = Math.floor(x1) + 0.5;\n",
       "    y1 = Math.floor(y1) + 0.5;\n",
       "    var min_x = Math.min(x0, x1);\n",
       "    var min_y = Math.min(y0, y1);\n",
       "    var width = Math.abs(x1 - x0);\n",
       "    var height = Math.abs(y1 - y0);\n",
       "\n",
       "    fig.rubberband_context.clearRect(\n",
       "        0, 0, fig.canvas.width, fig.canvas.height);\n",
       "\n",
       "    fig.rubberband_context.strokeRect(min_x, min_y, width, height);\n",
       "}\n",
       "\n",
       "mpl.figure.prototype.handle_figure_label = function(fig, msg) {\n",
       "    // Updates the figure title.\n",
       "    fig.header.textContent = msg['label'];\n",
       "}\n",
       "\n",
       "mpl.figure.prototype.handle_cursor = function(fig, msg) {\n",
       "    var cursor = msg['cursor'];\n",
       "    switch(cursor)\n",
       "    {\n",
       "    case 0:\n",
       "        cursor = 'pointer';\n",
       "        break;\n",
       "    case 1:\n",
       "        cursor = 'default';\n",
       "        break;\n",
       "    case 2:\n",
       "        cursor = 'crosshair';\n",
       "        break;\n",
       "    case 3:\n",
       "        cursor = 'move';\n",
       "        break;\n",
       "    }\n",
       "    fig.rubberband_canvas.style.cursor = cursor;\n",
       "}\n",
       "\n",
       "mpl.figure.prototype.handle_message = function(fig, msg) {\n",
       "    fig.message.textContent = msg['message'];\n",
       "}\n",
       "\n",
       "mpl.figure.prototype.handle_draw = function(fig, msg) {\n",
       "    // Request the server to send over a new figure.\n",
       "    fig.send_draw_message();\n",
       "}\n",
       "\n",
       "mpl.figure.prototype.handle_image_mode = function(fig, msg) {\n",
       "    fig.image_mode = msg['mode'];\n",
       "}\n",
       "\n",
       "mpl.figure.prototype.updated_canvas_event = function() {\n",
       "    // Called whenever the canvas gets updated.\n",
       "    this.send_message(\"ack\", {});\n",
       "}\n",
       "\n",
       "// A function to construct a web socket function for onmessage handling.\n",
       "// Called in the figure constructor.\n",
       "mpl.figure.prototype._make_on_message_function = function(fig) {\n",
       "    return function socket_on_message(evt) {\n",
       "        if (evt.data instanceof Blob) {\n",
       "            /* FIXME: We get \"Resource interpreted as Image but\n",
       "             * transferred with MIME type text/plain:\" errors on\n",
       "             * Chrome.  But how to set the MIME type?  It doesn't seem\n",
       "             * to be part of the websocket stream */\n",
       "            evt.data.type = \"image/png\";\n",
       "\n",
       "            /* Free the memory for the previous frames */\n",
       "            if (fig.imageObj.src) {\n",
       "                (window.URL || window.webkitURL).revokeObjectURL(\n",
       "                    fig.imageObj.src);\n",
       "            }\n",
       "\n",
       "            fig.imageObj.src = (window.URL || window.webkitURL).createObjectURL(\n",
       "                evt.data);\n",
       "            fig.updated_canvas_event();\n",
       "            fig.waiting = false;\n",
       "            return;\n",
       "        }\n",
       "        else if (typeof evt.data === 'string' && evt.data.slice(0, 21) == \"data:image/png;base64\") {\n",
       "            fig.imageObj.src = evt.data;\n",
       "            fig.updated_canvas_event();\n",
       "            fig.waiting = false;\n",
       "            return;\n",
       "        }\n",
       "\n",
       "        var msg = JSON.parse(evt.data);\n",
       "        var msg_type = msg['type'];\n",
       "\n",
       "        // Call the  \"handle_{type}\" callback, which takes\n",
       "        // the figure and JSON message as its only arguments.\n",
       "        try {\n",
       "            var callback = fig[\"handle_\" + msg_type];\n",
       "        } catch (e) {\n",
       "            console.log(\"No handler for the '\" + msg_type + \"' message type: \", msg);\n",
       "            return;\n",
       "        }\n",
       "\n",
       "        if (callback) {\n",
       "            try {\n",
       "                // console.log(\"Handling '\" + msg_type + \"' message: \", msg);\n",
       "                callback(fig, msg);\n",
       "            } catch (e) {\n",
       "                console.log(\"Exception inside the 'handler_\" + msg_type + \"' callback:\", e, e.stack, msg);\n",
       "            }\n",
       "        }\n",
       "    };\n",
       "}\n",
       "\n",
       "// from http://stackoverflow.com/questions/1114465/getting-mouse-location-in-canvas\n",
       "mpl.findpos = function(e) {\n",
       "    //this section is from http://www.quirksmode.org/js/events_properties.html\n",
       "    var targ;\n",
       "    if (!e)\n",
       "        e = window.event;\n",
       "    if (e.target)\n",
       "        targ = e.target;\n",
       "    else if (e.srcElement)\n",
       "        targ = e.srcElement;\n",
       "    if (targ.nodeType == 3) // defeat Safari bug\n",
       "        targ = targ.parentNode;\n",
       "\n",
       "    // jQuery normalizes the pageX and pageY\n",
       "    // pageX,Y are the mouse positions relative to the document\n",
       "    // offset() returns the position of the element relative to the document\n",
       "    var x = e.pageX - $(targ).offset().left;\n",
       "    var y = e.pageY - $(targ).offset().top;\n",
       "\n",
       "    return {\"x\": x, \"y\": y};\n",
       "};\n",
       "\n",
       "/*\n",
       " * return a copy of an object with only non-object keys\n",
       " * we need this to avoid circular references\n",
       " * http://stackoverflow.com/a/24161582/3208463\n",
       " */\n",
       "function simpleKeys (original) {\n",
       "  return Object.keys(original).reduce(function (obj, key) {\n",
       "    if (typeof original[key] !== 'object')\n",
       "        obj[key] = original[key]\n",
       "    return obj;\n",
       "  }, {});\n",
       "}\n",
       "\n",
       "mpl.figure.prototype.mouse_event = function(event, name) {\n",
       "    var canvas_pos = mpl.findpos(event)\n",
       "\n",
       "    if (name === 'button_press')\n",
       "    {\n",
       "        this.canvas.focus();\n",
       "        this.canvas_div.focus();\n",
       "    }\n",
       "\n",
       "    var x = canvas_pos.x * mpl.ratio;\n",
       "    var y = canvas_pos.y * mpl.ratio;\n",
       "\n",
       "    this.send_message(name, {x: x, y: y, button: event.button,\n",
       "                             step: event.step,\n",
       "                             guiEvent: simpleKeys(event)});\n",
       "\n",
       "    /* This prevents the web browser from automatically changing to\n",
       "     * the text insertion cursor when the button is pressed.  We want\n",
       "     * to control all of the cursor setting manually through the\n",
       "     * 'cursor' event from matplotlib */\n",
       "    event.preventDefault();\n",
       "    return false;\n",
       "}\n",
       "\n",
       "mpl.figure.prototype._key_event_extra = function(event, name) {\n",
       "    // Handle any extra behaviour associated with a key event\n",
       "}\n",
       "\n",
       "mpl.figure.prototype.key_event = function(event, name) {\n",
       "\n",
       "    // Prevent repeat events\n",
       "    if (name == 'key_press')\n",
       "    {\n",
       "        if (event.which === this._key)\n",
       "            return;\n",
       "        else\n",
       "            this._key = event.which;\n",
       "    }\n",
       "    if (name == 'key_release')\n",
       "        this._key = null;\n",
       "\n",
       "    var value = '';\n",
       "    if (event.ctrlKey && event.which != 17)\n",
       "        value += \"ctrl+\";\n",
       "    if (event.altKey && event.which != 18)\n",
       "        value += \"alt+\";\n",
       "    if (event.shiftKey && event.which != 16)\n",
       "        value += \"shift+\";\n",
       "\n",
       "    value += 'k';\n",
       "    value += event.which.toString();\n",
       "\n",
       "    this._key_event_extra(event, name);\n",
       "\n",
       "    this.send_message(name, {key: value,\n",
       "                             guiEvent: simpleKeys(event)});\n",
       "    return false;\n",
       "}\n",
       "\n",
       "mpl.figure.prototype.toolbar_button_onclick = function(name) {\n",
       "    if (name == 'download') {\n",
       "        this.handle_save(this, null);\n",
       "    } else {\n",
       "        this.send_message(\"toolbar_button\", {name: name});\n",
       "    }\n",
       "};\n",
       "\n",
       "mpl.figure.prototype.toolbar_button_onmouseover = function(tooltip) {\n",
       "    this.message.textContent = tooltip;\n",
       "};\n",
       "mpl.toolbar_items = [[\"Home\", \"Reset original view\", \"fa fa-home icon-home\", \"home\"], [\"Back\", \"Back to  previous view\", \"fa fa-arrow-left icon-arrow-left\", \"back\"], [\"Forward\", \"Forward to next view\", \"fa fa-arrow-right icon-arrow-right\", \"forward\"], [\"\", \"\", \"\", \"\"], [\"Pan\", \"Pan axes with left mouse, zoom with right\", \"fa fa-arrows icon-move\", \"pan\"], [\"Zoom\", \"Zoom to rectangle\", \"fa fa-square-o icon-check-empty\", \"zoom\"], [\"\", \"\", \"\", \"\"], [\"Download\", \"Download plot\", \"fa fa-floppy-o icon-save\", \"download\"]];\n",
       "\n",
       "mpl.extensions = [\"eps\", \"jpeg\", \"pdf\", \"png\", \"ps\", \"raw\", \"svg\", \"tif\"];\n",
       "\n",
       "mpl.default_extension = \"png\";var comm_websocket_adapter = function(comm) {\n",
       "    // Create a \"websocket\"-like object which calls the given IPython comm\n",
       "    // object with the appropriate methods. Currently this is a non binary\n",
       "    // socket, so there is still some room for performance tuning.\n",
       "    var ws = {};\n",
       "\n",
       "    ws.close = function() {\n",
       "        comm.close()\n",
       "    };\n",
       "    ws.send = function(m) {\n",
       "        //console.log('sending', m);\n",
       "        comm.send(m);\n",
       "    };\n",
       "    // Register the callback with on_msg.\n",
       "    comm.on_msg(function(msg) {\n",
       "        //console.log('receiving', msg['content']['data'], msg);\n",
       "        // Pass the mpl event to the overriden (by mpl) onmessage function.\n",
       "        ws.onmessage(msg['content']['data'])\n",
       "    });\n",
       "    return ws;\n",
       "}\n",
       "\n",
       "mpl.mpl_figure_comm = function(comm, msg) {\n",
       "    // This is the function which gets called when the mpl process\n",
       "    // starts-up an IPython Comm through the \"matplotlib\" channel.\n",
       "\n",
       "    var id = msg.content.data.id;\n",
       "    // Get hold of the div created by the display call when the Comm\n",
       "    // socket was opened in Python.\n",
       "    var element = $(\"#\" + id);\n",
       "    var ws_proxy = comm_websocket_adapter(comm)\n",
       "\n",
       "    function ondownload(figure, format) {\n",
       "        window.open(figure.imageObj.src);\n",
       "    }\n",
       "\n",
       "    var fig = new mpl.figure(id, ws_proxy,\n",
       "                           ondownload,\n",
       "                           element.get(0));\n",
       "\n",
       "    // Call onopen now - mpl needs it, as it is assuming we've passed it a real\n",
       "    // web socket which is closed, not our websocket->open comm proxy.\n",
       "    ws_proxy.onopen();\n",
       "\n",
       "    fig.parent_element = element.get(0);\n",
       "    fig.cell_info = mpl.find_output_cell(\"<div id='\" + id + \"'></div>\");\n",
       "    if (!fig.cell_info) {\n",
       "        console.error(\"Failed to find cell for figure\", id, fig);\n",
       "        return;\n",
       "    }\n",
       "\n",
       "    var output_index = fig.cell_info[2]\n",
       "    var cell = fig.cell_info[0];\n",
       "\n",
       "};\n",
       "\n",
       "mpl.figure.prototype.handle_close = function(fig, msg) {\n",
       "    var width = fig.canvas.width/mpl.ratio\n",
       "    fig.root.unbind('remove')\n",
       "\n",
       "    // Update the output cell to use the data from the current canvas.\n",
       "    fig.push_to_output();\n",
       "    var dataURL = fig.canvas.toDataURL();\n",
       "    // Re-enable the keyboard manager in IPython - without this line, in FF,\n",
       "    // the notebook keyboard shortcuts fail.\n",
       "    IPython.keyboard_manager.enable()\n",
       "    $(fig.parent_element).html('<img src=\"' + dataURL + '\" width=\"' + width + '\">');\n",
       "    fig.close_ws(fig, msg);\n",
       "}\n",
       "\n",
       "mpl.figure.prototype.close_ws = function(fig, msg){\n",
       "    fig.send_message('closing', msg);\n",
       "    // fig.ws.close()\n",
       "}\n",
       "\n",
       "mpl.figure.prototype.push_to_output = function(remove_interactive) {\n",
       "    // Turn the data on the canvas into data in the output cell.\n",
       "    var width = this.canvas.width/mpl.ratio\n",
       "    var dataURL = this.canvas.toDataURL();\n",
       "    this.cell_info[1]['text/html'] = '<img src=\"' + dataURL + '\" width=\"' + width + '\">';\n",
       "}\n",
       "\n",
       "mpl.figure.prototype.updated_canvas_event = function() {\n",
       "    // Tell IPython that the notebook contents must change.\n",
       "    IPython.notebook.set_dirty(true);\n",
       "    this.send_message(\"ack\", {});\n",
       "    var fig = this;\n",
       "    // Wait a second, then push the new image to the DOM so\n",
       "    // that it is saved nicely (might be nice to debounce this).\n",
       "    setTimeout(function () { fig.push_to_output() }, 1000);\n",
       "}\n",
       "\n",
       "mpl.figure.prototype._init_toolbar = function() {\n",
       "    var fig = this;\n",
       "\n",
       "    var nav_element = $('<div/>')\n",
       "    nav_element.attr('style', 'width: 100%');\n",
       "    this.root.append(nav_element);\n",
       "\n",
       "    // Define a callback function for later on.\n",
       "    function toolbar_event(event) {\n",
       "        return fig.toolbar_button_onclick(event['data']);\n",
       "    }\n",
       "    function toolbar_mouse_event(event) {\n",
       "        return fig.toolbar_button_onmouseover(event['data']);\n",
       "    }\n",
       "\n",
       "    for(var toolbar_ind in mpl.toolbar_items){\n",
       "        var name = mpl.toolbar_items[toolbar_ind][0];\n",
       "        var tooltip = mpl.toolbar_items[toolbar_ind][1];\n",
       "        var image = mpl.toolbar_items[toolbar_ind][2];\n",
       "        var method_name = mpl.toolbar_items[toolbar_ind][3];\n",
       "\n",
       "        if (!name) { continue; };\n",
       "\n",
       "        var button = $('<button class=\"btn btn-default\" href=\"#\" title=\"' + name + '\"><i class=\"fa ' + image + ' fa-lg\"></i></button>');\n",
       "        button.click(method_name, toolbar_event);\n",
       "        button.mouseover(tooltip, toolbar_mouse_event);\n",
       "        nav_element.append(button);\n",
       "    }\n",
       "\n",
       "    // Add the status bar.\n",
       "    var status_bar = $('<span class=\"mpl-message\" style=\"text-align:right; float: right;\"/>');\n",
       "    nav_element.append(status_bar);\n",
       "    this.message = status_bar[0];\n",
       "\n",
       "    // Add the close button to the window.\n",
       "    var buttongrp = $('<div class=\"btn-group inline pull-right\"></div>');\n",
       "    var button = $('<button class=\"btn btn-mini btn-primary\" href=\"#\" title=\"Stop Interaction\"><i class=\"fa fa-power-off icon-remove icon-large\"></i></button>');\n",
       "    button.click(function (evt) { fig.handle_close(fig, {}); } );\n",
       "    button.mouseover('Stop Interaction', toolbar_mouse_event);\n",
       "    buttongrp.append(button);\n",
       "    var titlebar = this.root.find($('.ui-dialog-titlebar'));\n",
       "    titlebar.prepend(buttongrp);\n",
       "}\n",
       "\n",
       "mpl.figure.prototype._root_extra_style = function(el){\n",
       "    var fig = this\n",
       "    el.on(\"remove\", function(){\n",
       "\tfig.close_ws(fig, {});\n",
       "    });\n",
       "}\n",
       "\n",
       "mpl.figure.prototype._canvas_extra_style = function(el){\n",
       "    // this is important to make the div 'focusable\n",
       "    el.attr('tabindex', 0)\n",
       "    // reach out to IPython and tell the keyboard manager to turn it's self\n",
       "    // off when our div gets focus\n",
       "\n",
       "    // location in version 3\n",
       "    if (IPython.notebook.keyboard_manager) {\n",
       "        IPython.notebook.keyboard_manager.register_events(el);\n",
       "    }\n",
       "    else {\n",
       "        // location in version 2\n",
       "        IPython.keyboard_manager.register_events(el);\n",
       "    }\n",
       "\n",
       "}\n",
       "\n",
       "mpl.figure.prototype._key_event_extra = function(event, name) {\n",
       "    var manager = IPython.notebook.keyboard_manager;\n",
       "    if (!manager)\n",
       "        manager = IPython.keyboard_manager;\n",
       "\n",
       "    // Check for shift+enter\n",
       "    if (event.shiftKey && event.which == 13) {\n",
       "        this.canvas_div.blur();\n",
       "        // select the cell after this one\n",
       "        var index = IPython.notebook.find_cell_index(this.cell_info[0]);\n",
       "        IPython.notebook.select(index + 1);\n",
       "    }\n",
       "}\n",
       "\n",
       "mpl.figure.prototype.handle_save = function(fig, msg) {\n",
       "    fig.ondownload(fig, null);\n",
       "}\n",
       "\n",
       "\n",
       "mpl.find_output_cell = function(html_output) {\n",
       "    // Return the cell and output element which can be found *uniquely* in the notebook.\n",
       "    // Note - this is a bit hacky, but it is done because the \"notebook_saving.Notebook\"\n",
       "    // IPython event is triggered only after the cells have been serialised, which for\n",
       "    // our purposes (turning an active figure into a static one), is too late.\n",
       "    var cells = IPython.notebook.get_cells();\n",
       "    var ncells = cells.length;\n",
       "    for (var i=0; i<ncells; i++) {\n",
       "        var cell = cells[i];\n",
       "        if (cell.cell_type === 'code'){\n",
       "            for (var j=0; j<cell.output_area.outputs.length; j++) {\n",
       "                var data = cell.output_area.outputs[j];\n",
       "                if (data.data) {\n",
       "                    // IPython >= 3 moved mimebundle to data attribute of output\n",
       "                    data = data.data;\n",
       "                }\n",
       "                if (data['text/html'] == html_output) {\n",
       "                    return [cell, data, j];\n",
       "                }\n",
       "            }\n",
       "        }\n",
       "    }\n",
       "}\n",
       "\n",
       "// Register the function which deals with the matplotlib target/channel.\n",
       "// The kernel may be null if the page has been refreshed.\n",
       "if (IPython.notebook.kernel != null) {\n",
       "    IPython.notebook.kernel.comm_manager.register_target('matplotlib', mpl.mpl_figure_comm);\n",
       "}\n"
      ],
      "text/plain": [
       "<IPython.core.display.Javascript object>"
      ]
     },
     "metadata": {},
     "output_type": "display_data"
    },
    {
     "data": {
      "text/html": [
       "<img src=\"data:image/png;base64,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\" width=\"640\">"
      ],
      "text/plain": [
       "<IPython.core.display.HTML object>"
      ]
     },
     "metadata": {},
     "output_type": "display_data"
    },
    {
     "data": {
      "text/plain": [
       "[<matplotlib.lines.Line2D at 0xb2c33c8>]"
      ]
     },
     "execution_count": 27,
     "metadata": {},
     "output_type": "execute_result"
    }
   ],
   "source": [
    "%matplotlib notebook\n",
    "traces=Data.fromfile('traces',trace_dt,'teslib','measurement_subsystem_TB',tool='vivado')\n",
    "plt.plot(traces['slope'][1100:],'r',linewidth=1)\n",
    "plt.plot(traces['raw'][1100:],linewidth=0.5)\n",
    "plt.plot(traces['filtered'][1100:],'k',linewidth=2)"
   ]
  },
  {
   "cell_type": "code",
   "execution_count": 6,
   "metadata": {
    "collapsed": false,
    "run_control": {
     "frozen": false,
     "read_only": false
    },
    "scrolled": true
   },
   "outputs": [],
   "source": [
    "stream=Data.fromfile('bytestream',stream_dt,'teslib','measurement_subsystem_TB',tool='vivado')\n",
    "minmax=Data.fromfile('minmax',minmax_dt,'teslib','measurement_subsystem_TB',tool='vivado')\n",
    "bs=PacketStream(stream)\n",
    "es=bs.eventstream\n",
    "%matplotlib notebook\n",
    "for e in es:\n",
    "    if e[1]==Event.peak:\n",
    "        plot_event(e)"
   ]
  },
  {
   "cell_type": "code",
   "execution_count": 30,
   "metadata": {
    "collapsed": false,
    "run_control": {
     "frozen": false,
     "read_only": false
    },
    "scrolled": true
   },
   "outputs": [
    {
     "data": {
      "text/plain": [
       "[Distribution: channel:0 value:raw_signal, trigger:clock, qualifier:all]"
      ]
     },
     "execution_count": 30,
     "metadata": {},
     "output_type": "execute_result"
    }
   ],
   "source": [
    "traces=Data.fromfile('traces',trace_dt,'teslib','measurement_subsystem_TB',tool='vivado')\n",
    "stream=Data.fromfile('bytestream',stream_dt,'teslib','measurement_subsystem_TB',tool='vivado')\n",
    "bs=PacketStream(stream)\n",
    "dists=bs.distributions\n",
    "#bs.packets\n",
    "dists"
   ]
  },
  {
   "cell_type": "code",
   "execution_count": 31,
   "metadata": {
    "collapsed": false
   },
   "outputs": [
    {
     "data": {
      "text/plain": [
       "[ethertype:88B5 length:48 Payload:tick frame:0 protocol:0,\n",
       " ethertype:88B5 length:24 Payload:tick frame:1 protocol:1,\n",
       " ethertype:88B5 length:48 Payload:test frame:2 protocol:2,\n",
       " ethertype:88B5 length:24 Payload:test frame:3 protocol:3,\n",
       " ethertype:88B5 length:32 Payload:peak frame:4 protocol:4,\n",
       " ethertype:88B5 length:48 Payload:tick frame:5 protocol:5,\n",
       " ethertype:88B6 length:1496 Payload:MCA frame:6 protocol:0,\n",
       " ethertype:88B5 length:48 Payload:tick frame:7 protocol:6,\n",
       " ethertype:88B6 length:1496 Payload:MCA frame:8 protocol:1,\n",
       " ethertype:88B6 length:1496 Payload:MCA frame:9 protocol:2,\n",
       " ethertype:88B6 length:1496 Payload:MCA frame:10 protocol:3,\n",
       " ethertype:88B6 length:1496 Payload:MCA frame:11 protocol:4,\n",
       " ethertype:88B6 length:1496 Payload:MCA frame:12 protocol:5,\n",
       " ethertype:88B6 length:1496 Payload:MCA frame:13 protocol:6,\n",
       " ethertype:88B6 length:1496 Payload:MCA frame:14 protocol:7,\n",
       " ethertype:88B6 length:1496 Payload:MCA frame:15 protocol:8,\n",
       " ethertype:88B6 length:1496 Payload:MCA frame:16 protocol:9,\n",
       " ethertype:88B6 length:1496 Payload:MCA frame:17 protocol:10,\n",
       " ethertype:88B6 length:1496 Payload:MCA frame:18 protocol:11,\n",
       " ethertype:88B6 length:1496 Payload:MCA frame:19 protocol:12,\n",
       " ethertype:88B6 length:1496 Payload:MCA frame:20 protocol:13,\n",
       " ethertype:88B6 length:1496 Payload:MCA frame:21 protocol:14,\n",
       " ethertype:88B6 length:1496 Payload:MCA frame:22 protocol:15,\n",
       " ethertype:88B6 length:1496 Payload:MCA frame:23 protocol:16,\n",
       " ethertype:88B6 length:1496 Payload:MCA frame:24 protocol:17,\n",
       " ethertype:88B6 length:1496 Payload:MCA frame:25 protocol:18,\n",
       " ethertype:88B6 length:1496 Payload:MCA frame:26 protocol:19,\n",
       " ethertype:88B6 length:1496 Payload:MCA frame:27 protocol:20,\n",
       " ethertype:88B6 length:1496 Payload:MCA frame:28 protocol:21,\n",
       " ethertype:88B5 length:48 Payload:tick frame:29 protocol:7,\n",
       " ethertype:88B6 length:1496 Payload:MCA frame:30 protocol:22,\n",
       " ethertype:88B6 length:1496 Payload:MCA frame:31 protocol:23,\n",
       " ethertype:88B6 length:1496 Payload:MCA frame:32 protocol:24,\n",
       " ethertype:88B6 length:1496 Payload:MCA frame:33 protocol:25,\n",
       " ethertype:88B6 length:1496 Payload:MCA frame:34 protocol:26,\n",
       " ethertype:88B6 length:1496 Payload:MCA frame:35 protocol:27,\n",
       " ethertype:88B6 length:1496 Payload:MCA frame:36 protocol:28,\n",
       " ethertype:88B6 length:1496 Payload:MCA frame:37 protocol:29,\n",
       " ethertype:88B6 length:1496 Payload:MCA frame:38 protocol:30,\n",
       " ethertype:88B6 length:1496 Payload:MCA frame:39 protocol:31,\n",
       " ethertype:88B6 length:1496 Payload:MCA frame:40 protocol:32,\n",
       " ethertype:88B5 length:48 Payload:tick frame:41 protocol:8,\n",
       " ethertype:88B6 length:1496 Payload:MCA frame:42 protocol:33,\n",
       " ethertype:88B6 length:1496 Payload:MCA frame:43 protocol:34,\n",
       " ethertype:88B6 length:1496 Payload:MCA frame:44 protocol:35,\n",
       " ethertype:88B6 length:1496 Payload:MCA frame:45 protocol:36,\n",
       " ethertype:88B6 length:1496 Payload:MCA frame:46 protocol:37,\n",
       " ethertype:88B6 length:1496 Payload:MCA frame:47 protocol:38,\n",
       " ethertype:88B6 length:1496 Payload:MCA frame:48 protocol:39,\n",
       " ethertype:88B6 length:1496 Payload:MCA frame:49 protocol:40,\n",
       " ethertype:88B6 length:1496 Payload:MCA frame:50 protocol:41,\n",
       " ethertype:88B6 length:1496 Payload:MCA frame:51 protocol:42,\n",
       " ethertype:88B6 length:1496 Payload:MCA frame:52 protocol:43,\n",
       " ethertype:88B5 length:48 Payload:tick frame:53 protocol:9,\n",
       " ethertype:88B6 length:832 Payload:MCA frame:54 protocol:44,\n",
       " ethertype:88B6 length:1496 Payload:MCA frame:55 protocol:0,\n",
       " ethertype:88B5 length:48 Payload:tick frame:56 protocol:10,\n",
       " ethertype:88B6 length:1496 Payload:MCA frame:57 protocol:1,\n",
       " ethertype:88B6 length:1496 Payload:MCA frame:58 protocol:2,\n",
       " ethertype:88B6 length:1496 Payload:MCA frame:59 protocol:3,\n",
       " ethertype:88B6 length:1496 Payload:MCA frame:60 protocol:4,\n",
       " ethertype:88B6 length:1496 Payload:MCA frame:61 protocol:5,\n",
       " ethertype:88B6 length:1496 Payload:MCA frame:62 protocol:6,\n",
       " ethertype:88B6 length:1496 Payload:MCA frame:63 protocol:7]"
      ]
     },
     "execution_count": 31,
     "metadata": {},
     "output_type": "execute_result"
    }
   ],
   "source": [
    "bs.packets"
   ]
  },
  {
   "cell_type": "code",
   "execution_count": 32,
   "metadata": {
    "collapsed": false,
    "run_control": {
     "frozen": false,
     "read_only": false
    },
    "scrolled": true
   },
   "outputs": [
    {
     "data": {
      "text/plain": [
       "(array([], dtype=int64),)"
      ]
     },
     "execution_count": 32,
     "metadata": {},
     "output_type": "execute_result"
    }
   ],
   "source": [
    "import tes.mca as mca\n",
    "d=bs.distributions[0]\n",
    "eset=np.uint64(1)\n",
    "bset=np.uint64(0)\n",
    "cset=np.uint64(20)\n",
    "\n",
    "stop=d.stop_time+eset+cset\n",
    "start=d.start_time+bset+cset\n",
    "bins=np.zeros((d.last_bin+1,),dtype=np.uint32)\n",
    "\n",
    "if d.value==mca.Value.raw_signal:\n",
    "    tname='raw'\n",
    "elif d.value==mca.Value.filtered_signal:\n",
    "    tname='filtered'\n",
    "\n",
    "for i in range(start,stop):\n",
    "    s = traces[tname][i]\n",
    "    if s < d.lowest_value:\n",
    "        bins[0] += 1\n",
    "    else:\n",
    "        bin_number = s - d.lowest_value + 1\n",
    "        if bin_number < d.last_bin:\n",
    "            bins[bin_number] += 1\n",
    "        else:\n",
    "            bins[d.last_bin] += 1\n",
    "        \n",
    "bad=(bins-d.counts).nonzero()\n",
    "bad"
   ]
  },
  {
   "cell_type": "code",
   "execution_count": 7,
   "metadata": {
    "collapsed": false
   },
   "outputs": [
    {
     "data": {
      "text/plain": [
       "array([0, 0, 0, 0, 0, 0, 0, 0, 0], dtype=uint32)"
      ]
     },
     "execution_count": 7,
     "metadata": {},
     "output_type": "execute_result"
    }
   ],
   "source": [
    "d.counts[bad][1:10]"
   ]
  },
  {
   "cell_type": "code",
   "execution_count": 8,
   "metadata": {
    "collapsed": false
   },
   "outputs": [
    {
     "data": {
      "text/plain": [
       "array([2, 2, 1, 1, 1, 1, 1, 2, 3], dtype=uint32)"
      ]
     },
     "execution_count": 8,
     "metadata": {},
     "output_type": "execute_result"
    }
   ],
   "source": [
    "bins[bad][1:10]"
   ]
  },
  {
   "cell_type": "code",
   "execution_count": null,
   "metadata": {
    "collapsed": false
   },
   "outputs": [],
   "source": [
    "d.value"
   ]
  },
  {
   "cell_type": "code",
   "execution_count": null,
   "metadata": {
    "collapsed": false,
    "scrolled": false
   },
   "outputs": [],
   "source": [
    "%matplotlib notebook\n",
    "plt.step(np.arange(len(d.bins)),d.bins)\n",
    "# plt.step(np.arange(len(d.counts)),bins)\n",
    "plt.plot(bad,np.zeros_like(bad),'.k')"
   ]
  },
  {
   "cell_type": "code",
   "execution_count": null,
   "metadata": {
    "collapsed": false
   },
   "outputs": [],
   "source": [
    "sum(d.counts)"
   ]
  },
  {
   "cell_type": "code",
   "execution_count": null,
   "metadata": {
    "collapsed": false
   },
   "outputs": [],
   "source": [
    "2**14+2000"
   ]
  },
  {
   "cell_type": "code",
   "execution_count": null,
   "metadata": {
    "collapsed": false,
    "run_control": {
     "frozen": false,
     "read_only": false
    }
   },
   "outputs": [],
   "source": [
    "def plot_event(event_tupple):\n",
    "    pre=200\n",
    "    post=1000\n",
    "    timestamp=event_tupple[0]\n",
    "    event_type=event_tupple[1]\n",
    "    event=event_tupple[2]\n",
    "    flags=EventFlags(event['flags'])\n",
    "    print(flags)\n",
    "    print('timestamp',timestamp, 'time', event['time'])\n",
    "    if flags.type == Event.tick:\n",
    "        return\n",
    "    s=traces['filtered'][timestamp+20-pre:timestamp+20+post]\n",
    "    r=traces['raw'][timestamp+20-pre:timestamp+20+post]\n",
    "    i = np.where(abs(minmax['clk'])<=timestamp+20)[0][-1]\n",
    "    min_t=abs(minmax['clk'][i])-(timestamp+20)\n",
    "#     print(minmax['clk'][i],min_t,i,timestamp)\n",
    "    plt.plot(r,'k',linewidth=0.5)\n",
    "    plt.plot(s,'b',linewidth=2)\n",
    "    plt.plot([pre],s[pre],'sg')\n",
    "    plt.plot([pre+min_t],minmax['filtered'][i],'sr')\n",
    "    if event_type==Event.pulse:\n",
    "        for i in range(flags.peak_number):\n",
    "            p=event['peaks'][i]\n",
    "            plt.plot([0,len(s)-1],[p['height'],p['height']],':r')\n",
    "    else:\n",
    "      plt.plot([0,len(s)-1],[event['height'],event['height']],':r')\n",
    "        \n",
    "    #print(event['height'],event['minima'])\n",
    "    #print(minmax['filtered'][i]==s[pre+min_t])\n",
    "    #print(minmax['filtered'][i]==event['minima'])\n",
    "    #print(s[pre],s[pre-1])"
   ]
  },
  {
   "cell_type": "code",
   "execution_count": null,
   "metadata": {
    "collapsed": false,
    "run_control": {
     "frozen": false,
     "read_only": false
    }
   },
   "outputs": [],
   "source": [
    "pwd"
   ]
  },
  {
   "cell_type": "code",
   "execution_count": null,
   "metadata": {
    "collapsed": false
   },
   "outputs": [],
   "source": [
    "es=bs.eventstream\n",
    "es"
   ]
  },
  {
   "cell_type": "code",
   "execution_count": null,
   "metadata": {
    "collapsed": false,
    "run_control": {
     "frozen": false,
     "read_only": false
    }
   },
   "outputs": [],
   "source": [
    "%matplotlib notebook\n",
    "for e in es:\n",
    "    if e[1]==Event.peak:\n",
    "        plot_event(e)"
   ]
  },
  {
   "cell_type": "code",
   "execution_count": null,
   "metadata": {
    "collapsed": false,
    "run_control": {
     "frozen": false,
     "read_only": false
    }
   },
   "outputs": [],
   "source": [
    "es"
   ]
  },
  {
   "cell_type": "code",
   "execution_count": null,
   "metadata": {
    "collapsed": false,
    "run_control": {
     "frozen": false,
     "read_only": false
    }
   },
   "outputs": [],
   "source": [
    "dists=bs.distributions\n",
    "dists"
   ]
  },
  {
   "cell_type": "code",
   "execution_count": null,
   "metadata": {
    "collapsed": false,
    "run_control": {
     "frozen": false,
     "read_only": false
    }
   },
   "outputs": [],
   "source": [
    "bs.packets[185].payload"
   ]
  },
  {
   "cell_type": "code",
   "execution_count": null,
   "metadata": {
    "collapsed": false,
    "run_control": {
     "frozen": false,
     "read_only": false
    }
   },
   "outputs": [],
   "source": [
    "d=bs.distributions[0]\n",
    "eset=np.uint64(1)\n",
    "bset=np.uint64(0)\n",
    "cset=np.uint64(20)\n",
    "\n",
    "stop=d.stop_time+eset+cset\n",
    "start=d.start_time+bset+cset\n",
    "bins=np.zeros((d.last_bin+1,),dtype=np.uint32)\n",
    "for i in range(start,stop):\n",
    "    s = traces['raw'][i]\n",
    "    if s <= d.lowest_value:\n",
    "        bins[0] += 1\n",
    "    else:\n",
    "        bins[s-d.lowest_value] += 1\n",
    "        \n",
    "(bins-d.counts).nonzero()"
   ]
  },
  {
   "cell_type": "code",
   "execution_count": null,
   "metadata": {
    "collapsed": false,
    "run_control": {
     "frozen": false,
     "read_only": false
    }
   },
   "outputs": [],
   "source": [
    "%matplotlib notebook\n",
    "plt.step(np.arange(len(d.counts)),d.counts)"
   ]
  },
  {
   "cell_type": "code",
   "execution_count": null,
   "metadata": {
    "collapsed": false,
    "run_control": {
     "frozen": false,
     "read_only": false
    }
   },
   "outputs": [],
   "source": [
    "bins[bins.nonzero()]"
   ]
  },
  {
   "cell_type": "code",
   "execution_count": null,
   "metadata": {
    "collapsed": false,
    "run_control": {
     "frozen": false,
     "read_only": false
    }
   },
   "outputs": [],
   "source": [
    "sum(d.counts)"
   ]
  },
  {
   "cell_type": "code",
   "execution_count": null,
   "metadata": {
    "collapsed": false,
    "run_control": {
     "frozen": false,
     "read_only": false
    }
   },
   "outputs": [],
   "source": [
    "2**14+2000"
   ]
  },
  {
   "cell_type": "code",
   "execution_count": null,
   "metadata": {
    "collapsed": false,
    "run_control": {
     "frozen": false,
     "read_only": false
    }
   },
   "outputs": [],
   "source": [
    "es[3][2]['timestamp']-es[0][2]['timestamp']"
   ]
  },
  {
   "cell_type": "code",
   "execution_count": null,
   "metadata": {
    "collapsed": true,
    "run_control": {
     "frozen": false,
     "read_only": false
    }
   },
   "outputs": [],
   "source": [
    "def xings(s, thresh):\n",
    "    pos=s > thresh\n",
    "    neg=s < thresh\n",
    "    pos0=s >= thresh\n",
    "    neg0=s <= thresh\n",
    "    pos_xing_mask = np.bitwise_and(pos0[1:],neg[0:-1])  \n",
    "    neg_xing_mask = np.bitwise_and(neg0[1:],pos[0:-1])  \n",
    "    return pos_xing_mask.nonzero()[0]+1, neg_xing_mask.nonzero()[0]+1"
   ]
  },
  {
   "cell_type": "code",
   "execution_count": null,
   "metadata": {
    "collapsed": true,
    "run_control": {
     "frozen": false,
     "read_only": false
    }
   },
   "outputs": [],
   "source": [
    "from mpl_toolkits.axes_grid1 import host_subplot\n",
    "\n",
    "def plot_trace(traces,start,width):\n",
    "\n",
    "    ax = host_subplot(111)\n",
    "    axr = ax.twinx()\n",
    "    axt = ax.twiny()\n",
    "#ax.plot(t[0:-1:10],s[0:-1:10],'k')\n",
    "#ax.plot(t,s,'k')\n",
    "    axt.set_xlabel('Time ns',fontsize=18)\n",
    "    ax.set_ylabel('Voltage (Arbitary Units)',fontsize=18)\n",
    "#plt.xticks(visible=False)\n",
    "#plt.yticks(visible=False)\n",
    "#ax.set_xlim(0,t[4000000])\n",
    "#start=902000\n",
    "#width=2500\n",
    "    f=traces['filtered'][start:start+width]\n",
    "    s=traces['slope'][start:start+width]\n",
    "    t=np.arange(len(f))*4e-9\n",
    "#ts=t[pstart:pstop]\n",
    "#axins = fig.add_axes([.4, .45, .45, .4])\n",
    "    ax.set_xlim(t[0],t[-1])\n",
    "    axt.set_xlim(t[0],t[-1])\n",
    "\n",
    "    ylim=(-500,2000)\n",
    "\n",
    "    ax.set_ylim(ylim[0],ylim[1])\n",
    "    axr.set_ylim(ylim[0],ylim[1])\n",
    "\n",
    "    filtered, = ax.step(t,f,'k',lw=2,label='filtered')\n",
    "    slope, = ax.step(t,s,'b',label='slope')\n",
    "    ax.fill_between(t,0,s,alpha=.4)\n",
    "    plt.ylim=ylim\n",
    "\n",
    "pos=s>0\n",
    "neg=s<=0\n",
    "pos_xing_mask = np.bitwise_and(pos[1:-1],neg[0:-2])  \n",
    "neg_xing_mask = np.bitwise_and(neg[1:-1],pos[0:-2])  \n",
    "pos_xing=pos_xing_mask.nonzero()\n",
    "neg_xing=neg_xing_mask.nonzero()\n",
    "\n",
    "rx=[t[pos_xing[0][0]], t[neg_xing[0][0]]]\n",
    "ry=[f[pos_xing[0][0]], f[neg_xing[0][0]]]\n",
    "\n",
    "ax.fill_between(t[pos_xing[0][0]:neg_xing[0][0]],0,s[pos_xing[0][0]:neg_xing[0][0]],alpha=.4,color='r')\n",
    "\n",
    "#plt.plot(rx,[ry[0], ry[0]],'-r',lw=2)\n",
    "#plt.plot([rx[1],rx[1]], ry,'-r',lw=2)\n",
    "# thresholds\n",
    "sthresh = 600\n",
    "pthresh = 1000\n",
    "plt.plot([t[0], t[-1]], [sthresh, sthresh], '--b', lw=2)\n",
    "plt.plot([t[0], t[-1]], [pthresh, pthresh], '--k', lw=2)\n",
    "\n",
    "sthresh_xing=(s>sthresh).nonzero()[0][0]\n",
    "pthresh_xing=(f>pthresh).nonzero()[0][0]\n",
    "\n",
    "\n",
    "cf=.10\n",
    "height = ry[1]-ry[0]\n",
    "cfl=ry[0]+(height*cf)\n",
    "cfh=ry[1]-(height*cf)\n",
    "\n",
    "cfl_xing=(f>cfl).nonzero()[0][0]\n",
    "cfd_low=f[cfl_xing]\n",
    "cfh_xing=(f>cfh).nonzero()[0][0]\n",
    "cfd_high=f[cfh_xing]\n",
    "\n",
    "#plt.plot([t[cfl_xing], t[-1]],[cfd_low, cfd_low], ':r')\n",
    "#plt.plot([t[cfh_xing], t[-1]],[cfd_high, cfd_high], ':r')\n",
    "#plt.plot([x[1], t[-1]],[y[1], y[1]], ':r')\n",
    "plt.legend([filtered, slope],['Signal', 'Slope'],loc=2)\n",
    "\n",
    "#axr = ax.twinx()\n",
    "##################################################################\n",
    "#yticks=([ry[0],sthresh,pthresh,cfd_high,ry[1]])\n",
    "yticks=([sthresh,pthresh])\n",
    "axr.set_yticks(yticks)\n",
    "#yticklabels=['Start','Slope threshold','Pulse threshold','CF high','Peak']\n",
    "yticklabels=['Slope threshold','Pulse threshold']\n",
    "axr.set_yticklabels(yticklabels, color='r',fontsize=14)\n",
    "axr.get_yticklabels()[0].set_color('b')\n",
    "axr.get_yticklabels()[1].set_color('k')\n",
    "\n",
    "#xticks=([rx[0],t[cfl_xing],t[sthresh_xing],t[pthresh_xing],rx[1]])\n",
    "xticks=(t[cfl_xing],rx[1])\n",
    "#ax.set_xticks([rx[0],t[cfl_xing],t[sthresh_xing],t[pthresh_xing],rx[1]])\n",
    "ax.set_xticks(xticks)\n",
    "#xticklabels=['Start','CF low','Slope xing','Signal xing','Peak']\n",
    "xticklabels=['CF low','Peak']\n",
    "ax.set_xticklabels(xticklabels, color='r',fontsize=14)\n",
    "\n",
    "#plt.plot([t[cfh_xing], t[-1]],[cfd_high, cfd_high], ':r')\n",
    "#horoz start, stop lines\n",
    "#hpeak=ax.plot([xticks[1], t[-1]],[yticks[-1], yticks[-1]], '-.r')\n",
    "#hstart=ax.plot([xticks[0], t[-1]],[yticks[0], yticks[0]], '-.r')\n",
    "#vert start stop\n",
    "vstart=ax.plot([xticks[0], xticks[0]],[cfd_low, ylim[0]], '-.r')\n",
    "vpeak=ax.plot([xticks[1], xticks[1]],[ylim[0], ry[1]], '-.r')\n",
    "\n",
    "plt.tight_layout()\n",
    "plt.savefig('..//peakextraction7.svg')\n",
    "plt.show()\n",
    "print('risetime:',(xticks[1]-xticks[0])/4)\n",
    "print('height:',yticks[-1]-yticks[0])\n",
    "print('time:',(xticks[0]-rx[0])/4)\n",
    "print('area',sum(s[pos_xing[0][0]:neg_xing[0][0]])/256)\n"
   ]
  },
  {
   "cell_type": "code",
   "execution_count": null,
   "metadata": {
    "collapsed": true,
    "run_control": {
     "frozen": false,
     "read_only": false
    }
   },
   "outputs": [],
   "source": [
    "slope_0xings = xings(traces['slope'],0)"
   ]
  },
  {
   "cell_type": "code",
   "execution_count": null,
   "metadata": {
    "collapsed": false,
    "run_control": {
     "frozen": false,
     "read_only": false
    }
   },
   "outputs": [],
   "source": [
    "slope_0xings"
   ]
  },
  {
   "cell_type": "code",
   "execution_count": null,
   "metadata": {
    "collapsed": false,
    "run_control": {
     "frozen": false,
     "read_only": false
    }
   },
   "outputs": [],
   "source": [
    "%matplotlib notebook\n",
    "start=10000\n",
    "width=300\n",
    "plt.plot(traces['filtered'][start:start+width]/2)"
   ]
  },
  {
   "cell_type": "code",
   "execution_count": null,
   "metadata": {
    "collapsed": false,
    "run_control": {
     "frozen": false,
     "read_only": false
    }
   },
   "outputs": [],
   "source": [
    "%matplotlib notebook\n",
    "plt.plot(traces['slope'][20400:21700])"
   ]
  },
  {
   "cell_type": "code",
   "execution_count": null,
   "metadata": {
    "collapsed": false,
    "run_control": {
     "frozen": false,
     "read_only": false
    }
   },
   "outputs": [],
   "source": [
    "filtered=traces['filtered'][1100:]\n",
    "filteredL=traces['filteredL'][1100:]"
   ]
  },
  {
   "cell_type": "code",
   "execution_count": null,
   "metadata": {
    "collapsed": false,
    "run_control": {
     "frozen": false,
     "read_only": false
    }
   },
   "outputs": [],
   "source": [
    "filtered[:10]"
   ]
  },
  {
   "cell_type": "code",
   "execution_count": null,
   "metadata": {
    "collapsed": false,
    "run_control": {
     "frozen": false,
     "read_only": false
    }
   },
   "outputs": [],
   "source": [
    "filteredL[:10]/4"
   ]
  },
  {
   "cell_type": "code",
   "execution_count": null,
   "metadata": {
    "collapsed": false,
    "run_control": {
     "frozen": false,
     "read_only": false
    }
   },
   "outputs": [],
   "source": [
    "minmax_dt=np.dtype([('filtered','i4'),('low','i4'),('high','i4'),('clk','i4')])\n",
    "minmax=Data.fromfile('minmax',minmax_dt,'teslib','measurement_subsystem_TB',tool='vivado')\n",
    "fxing_dt=np.dtype([('extrema','i4'),('area','i4'),('clk','i4')])\n",
    "fxing=Data.fromfile('filteredxing',fxing_dt,'teslib','measurement_subsystem_TB',tool='vivado')"
   ]
  },
  {
   "cell_type": "code",
   "execution_count": null,
   "metadata": {
    "collapsed": false,
    "run_control": {
     "frozen": false,
     "read_only": false
    }
   },
   "outputs": [],
   "source": [
    "minmax"
   ]
  },
  {
   "cell_type": "code",
   "execution_count": null,
   "metadata": {
    "collapsed": false,
    "run_control": {
     "frozen": false,
     "read_only": false
    }
   },
   "outputs": [],
   "source": [
    "fxing"
   ]
  },
  {
   "cell_type": "code",
   "execution_count": null,
   "metadata": {
    "collapsed": false,
    "run_control": {
     "frozen": false,
     "read_only": false
    }
   },
   "outputs": [],
   "source": [
    "np.where(fxing['area']==0)"
   ]
  },
  {
   "cell_type": "code",
   "execution_count": null,
   "metadata": {
    "collapsed": false,
    "run_control": {
     "frozen": false,
     "read_only": false
    }
   },
   "outputs": [],
   "source": [
    "np.where(fxing['extrema']==0)"
   ]
  },
  {
   "cell_type": "code",
   "execution_count": null,
   "metadata": {
    "collapsed": false,
    "run_control": {
     "frozen": false,
     "read_only": false
    }
   },
   "outputs": [],
   "source": [
    "fxing[30]"
   ]
  },
  {
   "cell_type": "code",
   "execution_count": null,
   "metadata": {
    "collapsed": false,
    "run_control": {
     "frozen": false,
     "read_only": false
    }
   },
   "outputs": [],
   "source": [
    "exn=np.where(fxing['extrema']<0)\n",
    "clkn=np.where(fxing['clk']>0)"
   ]
  },
  {
   "cell_type": "code",
   "execution_count": null,
   "metadata": {
    "collapsed": true,
    "run_control": {
     "frozen": false,
     "read_only": false
    }
   },
   "outputs": [],
   "source": []
  },
  {
   "cell_type": "code",
   "execution_count": null,
   "metadata": {
    "collapsed": false,
    "run_control": {
     "frozen": false,
     "read_only": false
    }
   },
   "outputs": [],
   "source": [
    "fxing[374]"
   ]
  },
  {
   "cell_type": "code",
   "execution_count": null,
   "metadata": {
    "collapsed": false,
    "run_control": {
     "frozen": false,
     "read_only": false
    }
   },
   "outputs": [],
   "source": [
    "clkn"
   ]
  },
  {
   "cell_type": "code",
   "execution_count": null,
   "metadata": {
    "collapsed": false,
    "run_control": {
     "frozen": false,
     "read_only": false
    }
   },
   "outputs": [],
   "source": [
    "np.where(minmax[maxs[0]-1]['min']!=1)"
   ]
  },
  {
   "cell_type": "code",
   "execution_count": null,
   "metadata": {
    "collapsed": false,
    "run_control": {
     "frozen": false,
     "read_only": false
    }
   },
   "outputs": [],
   "source": [
    "minmax[maxs[0]-1][65]"
   ]
  },
  {
   "cell_type": "code",
   "execution_count": null,
   "metadata": {
    "collapsed": false,
    "run_control": {
     "frozen": false,
     "read_only": false
    }
   },
   "outputs": [],
   "source": [
    "2290-925"
   ]
  },
  {
   "cell_type": "code",
   "execution_count": null,
   "metadata": {
    "collapsed": false,
    "run_control": {
     "frozen": false,
     "read_only": false
    }
   },
   "outputs": [],
   "source": [
    "0.375*4"
   ]
  },
  {
   "cell_type": "code",
   "execution_count": null,
   "metadata": {
    "collapsed": false,
    "run_control": {
     "frozen": false,
     "read_only": false
    }
   },
   "outputs": [],
   "source": [
    "np.where(minmax['clock']==2290)"
   ]
  },
  {
   "cell_type": "code",
   "execution_count": null,
   "metadata": {
    "collapsed": false,
    "run_control": {
     "frozen": false,
     "read_only": false
    }
   },
   "outputs": [],
   "source": [
    "minmax[120:140]"
   ]
  },
  {
   "cell_type": "code",
   "execution_count": null,
   "metadata": {
    "collapsed": false,
    "run_control": {
     "frozen": false,
     "read_only": false
    }
   },
   "outputs": [],
   "source": [
    "stream_dt=np.dtype([('data','>i4'),('last','i4')])\n",
    "#stream=np.fromfile('data/stream',stream_dt)"
   ]
  },
  {
   "cell_type": "markdown",
   "metadata": {},
   "source": [
    "### bytestream stuff"
   ]
  },
  {
   "cell_type": "code",
   "execution_count": null,
   "metadata": {
    "collapsed": false,
    "run_control": {
     "frozen": false,
     "read_only": false
    }
   },
   "outputs": [],
   "source": [
    "stream_dt=np.dtype([('data','i4'),('last','i4')])\n",
    "stream=Data.fromfile('bytestream',stream_dt,'teslib','measurement_subsystem_TB',tool='vivado')\n",
    "lasts=np.where(stream['last']<=0)[0]+1\n",
    "#data=np.copy(stream['data'])"
   ]
  },
  {
   "cell_type": "code",
   "execution_count": null,
   "metadata": {
    "collapsed": false,
    "run_control": {
     "frozen": false,
     "read_only": false
    }
   },
   "outputs": [],
   "source": [
    "stream"
   ]
  },
  {
   "cell_type": "code",
   "execution_count": null,
   "metadata": {
    "collapsed": true,
    "run_control": {
     "frozen": false,
     "read_only": false
    }
   },
   "outputs": [],
   "source": []
  },
  {
   "cell_type": "code",
   "execution_count": null,
   "metadata": {
    "collapsed": true,
    "run_control": {
     "frozen": false,
     "read_only": false
    }
   },
   "outputs": [],
   "source": [
    "stream=np.fromfile('data/bytestream',stream_dt)"
   ]
  },
  {
   "cell_type": "code",
   "execution_count": null,
   "metadata": {
    "collapsed": false,
    "run_control": {
     "frozen": false,
     "read_only": false
    }
   },
   "outputs": [],
   "source": [
    "bs=PacketStream(stream)"
   ]
  },
  {
   "cell_type": "code",
   "execution_count": null,
   "metadata": {
    "collapsed": false,
    "run_control": {
     "frozen": false,
     "read_only": false
    }
   },
   "outputs": [],
   "source": [
    "bs.packets"
   ]
  },
  {
   "cell_type": "code",
   "execution_count": null,
   "metadata": {
    "collapsed": false,
    "run_control": {
     "frozen": false,
     "read_only": false
    }
   },
   "outputs": [],
   "source": [
    "bs.packets[4]"
   ]
  },
  {
   "cell_type": "code",
   "execution_count": null,
   "metadata": {
    "collapsed": true,
    "run_control": {
     "frozen": false,
     "read_only": false
    }
   },
   "outputs": [],
   "source": [
    "eheader_dt=[('etype','<u2'),('length','u2'),()]"
   ]
  },
  {
   "cell_type": "code",
   "execution_count": null,
   "metadata": {
    "collapsed": false,
    "run_control": {
     "frozen": false,
     "read_only": false
    }
   },
   "outputs": [],
   "source": [
    "'{:X}'.format(bs.packets[1].bytes[23])\n"
   ]
  },
  {
   "cell_type": "code",
   "execution_count": null,
   "metadata": {
    "collapsed": false,
    "run_control": {
     "frozen": false,
     "read_only": false
    }
   },
   "outputs": [],
   "source": [
    "'{:X}'.format(bs.packets[0].bytes[28:30].view(np.uint16)[0])"
   ]
  },
  {
   "cell_type": "code",
   "execution_count": null,
   "metadata": {
    "collapsed": true,
    "run_control": {
     "frozen": false,
     "read_only": false
    }
   },
   "outputs": [],
   "source": [
    "pulse_peak_dt=np.dtype([('height','i2'),('rise','i2'),('minima','u2'),('time','i2')])\n",
    "pulse_dt=np.dtype([('size','i2'),('resv','i2'),('flags','i2'),('time','u2'),\n",
    "                  ('area','i4'),('length','i2'),('offset','i2'),('peaks',(pulse_peak_dt,2))])"
   ]
  },
  {
   "cell_type": "code",
   "execution_count": null,
   "metadata": {
    "collapsed": false,
    "run_control": {
     "frozen": false,
     "read_only": false
    }
   },
   "outputs": [],
   "source": [
    "pulses=bs.packets[3].payload.view(pulse_dt)"
   ]
  },
  {
   "cell_type": "code",
   "execution_count": null,
   "metadata": {
    "collapsed": false,
    "run_control": {
     "frozen": false,
     "read_only": false
    }
   },
   "outputs": [],
   "source": [
    "pulses['peaks']"
   ]
  },
  {
   "cell_type": "code",
   "execution_count": null,
   "metadata": {
    "collapsed": false,
    "run_control": {
     "frozen": false,
     "read_only": false
    }
   },
   "outputs": [],
   "source": [
    "pulses['offset']"
   ]
  },
  {
   "cell_type": "code",
   "execution_count": null,
   "metadata": {
    "collapsed": false,
    "run_control": {
     "frozen": false,
     "read_only": false
    }
   },
   "outputs": [],
   "source": [
    "pulses['length']"
   ]
  },
  {
   "cell_type": "code",
   "execution_count": null,
   "metadata": {
    "collapsed": false,
    "run_control": {
     "frozen": false,
     "read_only": false
    }
   },
   "outputs": [],
   "source": [
    "class eflags:\n",
    "    def __init__(self,uint16):\n",
    "        self.new_window=np.bitwise_and(uint16,0x00000001)!=0\n",
    "        self.tick=np.bitwise_and(uint16,0x00000002)!=0\n",
    "        self.type=np.right_shift(np.bitwise_and(uint16,0x0000000c),2)\n",
    "        \n",
    "    def __repr__(self):\n",
    "        return 'New window:{:}\\n'.format(self.new_window) + \\\n",
    "               'Tick:{:}\\n'.format(self.tick) + \\\n",
    "               'Type:{:}\\n'.format(self.type) "
   ]
  },
  {
   "cell_type": "code",
   "execution_count": null,
   "metadata": {
    "collapsed": false,
    "run_control": {
     "frozen": false,
     "read_only": false
    }
   },
   "outputs": [],
   "source": [
    "f=eflags(pulses[0]['flags'])\n",
    "f"
   ]
  },
  {
   "cell_type": "code",
   "execution_count": null,
   "metadata": {
    "collapsed": false,
    "run_control": {
     "frozen": false,
     "read_only": false
    }
   },
   "outputs": [],
   "source": [
    "'{:X}'.format(bs.packets[3].bytes[13:14].view(np.uint16))"
   ]
  },
  {
   "cell_type": "code",
   "execution_count": null,
   "metadata": {
    "collapsed": true,
    "run_control": {
     "frozen": false,
     "read_only": false
    }
   },
   "outputs": [],
   "source": []
  },
  {
   "cell_type": "code",
   "execution_count": null,
   "metadata": {
    "collapsed": false,
    "run_control": {
     "frozen": false,
     "read_only": false
    }
   },
   "outputs": [],
   "source": [
    "'{:X}'.format(bs.packets[3].bytes[14:16].view(np.uint16)[0])"
   ]
  },
  {
   "cell_type": "code",
   "execution_count": null,
   "metadata": {
    "collapsed": false,
    "run_control": {
     "frozen": false,
     "read_only": false
    }
   },
   "outputs": [],
   "source": [
    "bs.packets[3].bytes[14:16].view(np.uint16)[0]"
   ]
  },
  {
   "cell_type": "code",
   "execution_count": null,
   "metadata": {
    "collapsed": false,
    "run_control": {
     "frozen": false,
     "read_only": false
    }
   },
   "outputs": [],
   "source": [
    "bs=np.uint8(stream['data'][:48])"
   ]
  },
  {
   "cell_type": "code",
   "execution_count": null,
   "metadata": {
    "collapsed": false,
    "run_control": {
     "frozen": false,
     "read_only": false
    }
   },
   "outputs": [],
   "source": [
    "bs"
   ]
  },
  {
   "cell_type": "code",
   "execution_count": null,
   "metadata": {
    "collapsed": false,
    "run_control": {
     "frozen": false,
     "read_only": false
    }
   },
   "outputs": [],
   "source": [
    "events=stream['data'].view(event_dt)"
   ]
  },
  {
   "cell_type": "code",
   "execution_count": null,
   "metadata": {
    "collapsed": false,
    "run_control": {
     "frozen": false,
     "read_only": false
    }
   },
   "outputs": [],
   "source": [
    "'{:X}'.format(events['flags'][0])"
   ]
  },
  {
   "cell_type": "code",
   "execution_count": null,
   "metadata": {
    "collapsed": false,
    "run_control": {
     "frozen": false,
     "read_only": false
    }
   },
   "outputs": [],
   "source": [
    "events['rise']"
   ]
  },
  {
   "cell_type": "code",
   "execution_count": null,
   "metadata": {
    "collapsed": false,
    "run_control": {
     "frozen": false,
     "read_only": false
    }
   },
   "outputs": [],
   "source": [
    "events"
   ]
  },
  {
   "cell_type": "code",
   "execution_count": null,
   "metadata": {
    "collapsed": false,
    "run_control": {
     "frozen": false,
     "read_only": false
    }
   },
   "outputs": [],
   "source": [
    "'{:04X}'.format(events['flags'][1])"
   ]
  },
  {
   "cell_type": "code",
   "execution_count": null,
   "metadata": {
    "collapsed": true,
    "run_control": {
     "frozen": false,
     "read_only": false
    }
   },
   "outputs": [],
   "source": [
    "pulse_peak_dt=np.dtype([('time','>i2'),('minima','>i2'),('rise','>u2'),('height','>i2')])\n",
    "pulse_dt=np.dtype([('time','>i2'),('flags','>i2'),('resv','>i2'),('size','>u2'),\n",
    "                  ('offset','>i2'),('length','>i2'),('area','>i4'),('peaks',(pulse_peak_dt,1))])\n",
    "data=np.copy(stream['data'])"
   ]
  },
  {
   "cell_type": "code",
   "execution_count": null,
   "metadata": {
    "collapsed": false,
    "run_control": {
     "frozen": false,
     "read_only": false
    }
   },
   "outputs": [],
   "source": [
    "pulses=data.view(pulse_dt)"
   ]
  },
  {
   "cell_type": "code",
   "execution_count": null,
   "metadata": {
    "collapsed": false,
    "run_control": {
     "frozen": false,
     "read_only": false
    }
   },
   "outputs": [],
   "source": [
    "pulses['peaks']['height']-pulses['peaks']['minima']"
   ]
  },
  {
   "cell_type": "code",
   "execution_count": null,
   "metadata": {
    "collapsed": false,
    "run_control": {
     "frozen": false,
     "read_only": false
    }
   },
   "outputs": [],
   "source": [
    "pulses['peaks']['minima']"
   ]
  },
  {
   "cell_type": "code",
   "execution_count": null,
   "metadata": {
    "collapsed": false,
    "run_control": {
     "frozen": false,
     "read_only": false
    }
   },
   "outputs": [],
   "source": [
    "peak_count=np.right_shift(np.bitwise_and(pulses['flags'],0xF000),12)\n",
    "peak_overflow=np.bitwise_and(pulses['flags'],0x0800)!=0\n",
    "channel=np.right_shift(np.bitwise_and(pulses['flags'],0x0700),8)\n",
    "timing_type=np.right_shift(np.bitwise_and(pulses['flags'],0x00C0),6)\n",
    "height_type=np.right_shift(np.bitwise_and(pulses['flags'],0x0030),4)\n",
    "event_type=np.right_shift(np.bitwise_and(pulses['flags'],0x000E),1)\n",
    "new_window=np.bitwise_and(pulses['flags'],0x0001)!=0"
   ]
  },
  {
   "cell_type": "code",
   "execution_count": null,
   "metadata": {
    "collapsed": false,
    "run_control": {
     "frozen": false,
     "read_only": false
    }
   },
   "outputs": [],
   "source": [
    "peak_overflow"
   ]
  },
  {
   "cell_type": "code",
   "execution_count": null,
   "metadata": {
    "collapsed": true,
    "run_control": {
     "frozen": false,
     "read_only": false
    }
   },
   "outputs": [],
   "source": [
    "test_dt=np.dtype(\n",
    "    [('time','i2'),('flags','i2'),('rise','u2'),('minima','i2'),('low','u8'),('high','u8')]\n",
    ")\n",
    "test=data.view(test_dt)"
   ]
  },
  {
   "cell_type": "code",
   "execution_count": null,
   "metadata": {
    "collapsed": false,
    "run_control": {
     "frozen": false,
     "read_only": false
    }
   },
   "outputs": [],
   "source": [
    "test"
   ]
  },
  {
   "cell_type": "code",
   "execution_count": null,
   "metadata": {
    "collapsed": false,
    "run_control": {
     "frozen": false,
     "read_only": false
    }
   },
   "outputs": [],
   "source": [
    "test['minima']"
   ]
  },
  {
   "cell_type": "code",
   "execution_count": null,
   "metadata": {
    "collapsed": false,
    "run_control": {
     "frozen": false,
     "read_only": false
    }
   },
   "outputs": [],
   "source": [
    "low1=np.int32(np.right_shift(np.bitwise_and(test['low'],0x03FFFF000000000),36))\n",
    "s=(np.bitwise_and(low1,0x00020000)!=0)*0xFFFC0000\n",
    "low2=np.int32(np.right_shift(np.bitwise_and(test['low'],0x000000FFFFC0000),18))\n",
    "low_threshold=np.int32(np.bitwise_and(test['low'],0x00000000003FFFF))\n",
    "high1=np.int32(np.right_shift(np.bitwise_and(test['high'],0x03FFFF000000000),36))\n",
    "high2=np.int32(np.right_shift(np.bitwise_and(test['high'],0x000000FFFFC0000),18))\n",
    "high_threshold=np.int32(np.bitwise_and(test['high'],0x00000000003FFFF))"
   ]
  },
  {
   "cell_type": "code",
   "execution_count": null,
   "metadata": {
    "collapsed": false,
    "run_control": {
     "frozen": false,
     "read_only": false
    }
   },
   "outputs": [],
   "source": [
    "np.int32(np.bitwise_or(low1,s))/8.0"
   ]
  },
  {
   "cell_type": "code",
   "execution_count": null,
   "metadata": {
    "collapsed": false,
    "run_control": {
     "frozen": false,
     "read_only": false
    }
   },
   "outputs": [],
   "source": [
    "'{:04X}'.format(low1[0])"
   ]
  },
  {
   "cell_type": "code",
   "execution_count": null,
   "metadata": {
    "collapsed": false,
    "run_control": {
     "frozen": false,
     "read_only": false
    }
   },
   "outputs": [],
   "source": [
    "high1/8.0"
   ]
  },
  {
   "cell_type": "code",
   "execution_count": null,
   "metadata": {
    "collapsed": false,
    "run_control": {
     "frozen": false,
     "read_only": false
    }
   },
   "outputs": [],
   "source": [
    "high2/8.0"
   ]
  },
  {
   "cell_type": "code",
   "execution_count": null,
   "metadata": {
    "collapsed": false,
    "run_control": {
     "frozen": false,
     "read_only": false
    }
   },
   "outputs": [],
   "source": [
    "'{:04X}'.format(high_threshold[0])"
   ]
  },
  {
   "cell_type": "code",
   "execution_count": null,
   "metadata": {
    "collapsed": false,
    "run_control": {
     "frozen": false,
     "read_only": false
    }
   },
   "outputs": [],
   "source": [
    "from enum import Enum"
   ]
  },
  {
   "cell_type": "code",
   "execution_count": null,
   "metadata": {
    "collapsed": false,
    "run_control": {
     "frozen": false,
     "read_only": false
    }
   },
   "outputs": [],
   "source": [
    "class VhdlEnum(int, Enum):\n",
    "\n",
    "    def __str__(self):\n",
    "        return self.name.replace(\"-\", \" \")\n",
    "    \n",
    "    def select(self):\n",
    "        return pow(2, self.value)\n",
    "    "
   ]
  },
  {
   "cell_type": "code",
   "execution_count": null,
   "metadata": {
    "collapsed": false,
    "run_control": {
     "frozen": false,
     "read_only": false
    }
   },
   "outputs": [],
   "source": [
    "class Test(VhdlEnum):\n",
    "    a=0\n",
    "    b=1"
   ]
  },
  {
   "cell_type": "code",
   "execution_count": null,
   "metadata": {
    "collapsed": false,
    "run_control": {
     "frozen": false,
     "read_only": false
    }
   },
   "outputs": [],
   "source": [
    "Test(0)"
   ]
  },
  {
   "cell_type": "code",
   "execution_count": null,
   "metadata": {
    "collapsed": true,
    "run_control": {
     "frozen": false,
     "read_only": false
    }
   },
   "outputs": [],
   "source": []
  }
 ],
 "metadata": {
  "anaconda-cloud": {},
  "kernelspec": {
   "display_name": "Python [conda root]",
   "language": "python",
   "name": "conda-root-py"
  },
  "language_info": {
   "codemirror_mode": {
    "name": "ipython",
    "version": 3
   },
   "file_extension": ".py",
   "mimetype": "text/x-python",
   "name": "python",
   "nbconvert_exporter": "python",
   "pygments_lexer": "ipython3",
   "version": "3.5.2"
  }
 },
 "nbformat": 4,
 "nbformat_minor": 1
}
